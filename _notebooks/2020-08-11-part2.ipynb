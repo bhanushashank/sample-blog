{
 "cells": [
  {
   "cell_type": "markdown",
   "id": "98380cd3",
   "metadata": {
    "papermill": {
     "duration": 0.028851,
     "end_time": "2022-09-30T01:09:54.569155",
     "exception": false,
     "start_time": "2022-09-30T01:09:54.540304",
     "status": "completed"
    },
    "tags": []
   },
   "source": [
    "# Distinguish Your Own Digits (DYOD)"
   ]
  },
  {
   "cell_type": "markdown",
   "id": "ef31240d",
   "metadata": {
    "papermill": {
     "duration": 0.024039,
     "end_time": "2022-09-30T01:09:54.617976",
     "exception": false,
     "start_time": "2022-09-30T01:09:54.593937",
     "status": "completed"
    },
    "tags": []
   },
   "source": [
    "You are going to write a classifier that distinguishes between the number 3 and number 8."
   ]
  },
  {
   "cell_type": "code",
   "execution_count": 1,
   "id": "b15c8646",
   "metadata": {
    "execution": {
     "iopub.execute_input": "2022-09-30T01:09:54.676109Z",
     "iopub.status.busy": "2022-09-30T01:09:54.675506Z",
     "iopub.status.idle": "2022-09-30T01:09:54.686082Z",
     "shell.execute_reply": "2022-09-30T01:09:54.685616Z"
    },
    "papermill": {
     "duration": 0.044235,
     "end_time": "2022-09-30T01:09:54.686200",
     "exception": false,
     "start_time": "2022-09-30T01:09:54.641965",
     "status": "completed"
    },
    "tags": []
   },
   "outputs": [],
   "source": [
    "%load_ext autoreload\n",
    "%autoreload 2"
   ]
  },
  {
   "cell_type": "code",
   "execution_count": 2,
   "id": "22ef38dc",
   "metadata": {
    "execution": {
     "iopub.execute_input": "2022-09-30T01:09:54.738122Z",
     "iopub.status.busy": "2022-09-30T01:09:54.737569Z",
     "iopub.status.idle": "2022-09-30T01:09:55.248920Z",
     "shell.execute_reply": "2022-09-30T01:09:55.248448Z"
    },
    "papermill": {
     "duration": 0.538694,
     "end_time": "2022-09-30T01:09:55.249039",
     "exception": false,
     "start_time": "2022-09-30T01:09:54.710345",
     "status": "completed"
    },
    "tags": []
   },
   "outputs": [],
   "source": [
    "%matplotlib inline\n",
    "import numpy as np\n",
    "import matplotlib.pyplot as plt\n",
    "import pandas as pd"
   ]
  },
  {
   "cell_type": "markdown",
   "id": "ba036198",
   "metadata": {
    "papermill": {
     "duration": 0.024063,
     "end_time": "2022-09-30T01:09:55.297341",
     "exception": false,
     "start_time": "2022-09-30T01:09:55.273278",
     "status": "completed"
    },
    "tags": []
   },
   "source": [
    "From the command line run `pip install mnist`. This is a library that will help you bring down the mnist dataset. If you run this from a notebook, you need to put  `!pip install mnist` in a cell by itself."
   ]
  },
  {
   "cell_type": "code",
   "execution_count": 3,
   "id": "bb6ad8a1",
   "metadata": {
    "execution": {
     "iopub.execute_input": "2022-09-30T01:09:55.349534Z",
     "iopub.status.busy": "2022-09-30T01:09:55.348986Z",
     "iopub.status.idle": "2022-09-30T01:09:57.030164Z",
     "shell.execute_reply": "2022-09-30T01:09:57.029686Z"
    },
    "papermill": {
     "duration": 1.708798,
     "end_time": "2022-09-30T01:09:57.030279",
     "exception": false,
     "start_time": "2022-09-30T01:09:55.321481",
     "status": "completed"
    },
    "tags": []
   },
   "outputs": [
    {
     "name": "stdout",
     "output_type": "stream",
     "text": [
      "Collecting mnist\r\n"
     ]
    },
    {
     "name": "stdout",
     "output_type": "stream",
     "text": [
      "  Downloading mnist-0.2.2-py2.py3-none-any.whl (3.5 kB)\r\n",
      "Requirement already satisfied: numpy in /opt/hostedtoolcache/Python/3.6.15/x64/lib/python3.6/site-packages (from mnist) (1.19.5)\r\n"
     ]
    },
    {
     "name": "stdout",
     "output_type": "stream",
     "text": [
      "Installing collected packages: mnist\r\n",
      "Successfully installed mnist-0.2.2\r\n"
     ]
    }
   ],
   "source": [
    "!pip install mnist"
   ]
  },
  {
   "cell_type": "markdown",
   "id": "69df9c9a",
   "metadata": {
    "papermill": {
     "duration": 0.025423,
     "end_time": "2022-09-30T01:09:57.080846",
     "exception": false,
     "start_time": "2022-09-30T01:09:57.055423",
     "status": "completed"
    },
    "tags": []
   },
   "source": [
    "## Preparing the Data"
   ]
  },
  {
   "cell_type": "code",
   "execution_count": 4,
   "id": "7f69d806",
   "metadata": {
    "execution": {
     "iopub.execute_input": "2022-09-30T01:09:57.134559Z",
     "iopub.status.busy": "2022-09-30T01:09:57.134006Z",
     "iopub.status.idle": "2022-09-30T01:09:57.148141Z",
     "shell.execute_reply": "2022-09-30T01:09:57.147668Z"
    },
    "papermill": {
     "duration": 0.042518,
     "end_time": "2022-09-30T01:09:57.148245",
     "exception": false,
     "start_time": "2022-09-30T01:09:57.105727",
     "status": "completed"
    },
    "tags": []
   },
   "outputs": [],
   "source": [
    "import mnist"
   ]
  },
  {
   "cell_type": "code",
   "execution_count": 5,
   "id": "a411e44f",
   "metadata": {
    "execution": {
     "iopub.execute_input": "2022-09-30T01:09:57.201643Z",
     "iopub.status.busy": "2022-09-30T01:09:57.201093Z",
     "iopub.status.idle": "2022-09-30T01:09:57.916603Z",
     "shell.execute_reply": "2022-09-30T01:09:57.915504Z"
    },
    "papermill": {
     "duration": 0.743467,
     "end_time": "2022-09-30T01:09:57.916727",
     "exception": false,
     "start_time": "2022-09-30T01:09:57.173260",
     "status": "completed"
    },
    "tags": []
   },
   "outputs": [],
   "source": [
    "train_images = mnist.train_images()\n",
    "train_labels = mnist.train_labels()"
   ]
  },
  {
   "cell_type": "code",
   "execution_count": 6,
   "id": "dceab3a5",
   "metadata": {
    "execution": {
     "iopub.execute_input": "2022-09-30T01:09:57.971558Z",
     "iopub.status.busy": "2022-09-30T01:09:57.970999Z",
     "iopub.status.idle": "2022-09-30T01:09:57.984407Z",
     "shell.execute_reply": "2022-09-30T01:09:57.984930Z"
    },
    "papermill": {
     "duration": 0.043198,
     "end_time": "2022-09-30T01:09:57.985052",
     "exception": false,
     "start_time": "2022-09-30T01:09:57.941854",
     "status": "completed"
    },
    "tags": []
   },
   "outputs": [
    {
     "data": {
      "text/plain": [
       "((60000, 28, 28), (60000,))"
      ]
     },
     "execution_count": 6,
     "metadata": {},
     "output_type": "execute_result"
    }
   ],
   "source": [
    "train_images.shape, train_labels.shape"
   ]
  },
  {
   "cell_type": "code",
   "execution_count": 7,
   "id": "f50dc2bb",
   "metadata": {
    "execution": {
     "iopub.execute_input": "2022-09-30T01:09:58.038719Z",
     "iopub.status.busy": "2022-09-30T01:09:58.038157Z",
     "iopub.status.idle": "2022-09-30T01:09:58.403704Z",
     "shell.execute_reply": "2022-09-30T01:09:58.403223Z"
    },
    "papermill": {
     "duration": 0.3938,
     "end_time": "2022-09-30T01:09:58.403881",
     "exception": false,
     "start_time": "2022-09-30T01:09:58.010081",
     "status": "completed"
    },
    "tags": []
   },
   "outputs": [],
   "source": [
    "test_images = mnist.test_images()\n",
    "test_labels = mnist.test_labels()"
   ]
  },
  {
   "cell_type": "code",
   "execution_count": 8,
   "id": "fc38cf1b",
   "metadata": {
    "execution": {
     "iopub.execute_input": "2022-09-30T01:09:58.458445Z",
     "iopub.status.busy": "2022-09-30T01:09:58.457497Z",
     "iopub.status.idle": "2022-09-30T01:09:58.470931Z",
     "shell.execute_reply": "2022-09-30T01:09:58.470468Z"
    },
    "papermill": {
     "duration": 0.041844,
     "end_time": "2022-09-30T01:09:58.471031",
     "exception": false,
     "start_time": "2022-09-30T01:09:58.429187",
     "status": "completed"
    },
    "tags": []
   },
   "outputs": [
    {
     "data": {
      "text/plain": [
       "((10000, 28, 28), (10000,))"
      ]
     },
     "execution_count": 8,
     "metadata": {},
     "output_type": "execute_result"
    }
   ],
   "source": [
    "test_images.shape, test_labels.shape"
   ]
  },
  {
   "cell_type": "code",
   "execution_count": 9,
   "id": "f9ed8fe0",
   "metadata": {
    "execution": {
     "iopub.execute_input": "2022-09-30T01:09:58.525360Z",
     "iopub.status.busy": "2022-09-30T01:09:58.524783Z",
     "iopub.status.idle": "2022-09-30T01:09:58.658240Z",
     "shell.execute_reply": "2022-09-30T01:09:58.657653Z"
    },
    "papermill": {
     "duration": 0.161976,
     "end_time": "2022-09-30T01:09:58.658354",
     "exception": false,
     "start_time": "2022-09-30T01:09:58.496378",
     "status": "completed"
    },
    "tags": []
   },
   "outputs": [
    {
     "name": "stdout",
     "output_type": "stream",
     "text": [
      "2\n"
     ]
    },
    {
     "data": {
      "text/plain": [
       "<matplotlib.image.AxesImage at 0x7f9bf532cd30>"
      ]
     },
     "execution_count": 9,
     "metadata": {},
     "output_type": "execute_result"
    },
    {
     "data": {
      "image/png": "[encoded data removed]",
      "text/plain": [
       "<Figure size 432x288 with 1 Axes>"
      ]
     },
     "metadata": {
      "needs_background": "light"
     },
     "output_type": "display_data"
    }
   ],
   "source": [
    "image_index = 7776 # You may select anything up to 60,000\n",
    "print(train_labels[image_index]) \n",
    "plt.imshow(train_images[image_index], cmap='Greys')"
   ]
  },
  {
   "cell_type": "markdown",
   "id": "a8d2388d",
   "metadata": {
    "papermill": {
     "duration": 0.026767,
     "end_time": "2022-09-30T01:09:58.711991",
     "exception": false,
     "start_time": "2022-09-30T01:09:58.685224",
     "status": "completed"
    },
    "tags": []
   },
   "source": [
    "## Filter data to get 3 and 8 out"
   ]
  },
  {
   "cell_type": "code",
   "execution_count": 10,
   "id": "776f7fc7",
   "metadata": {
    "execution": {
     "iopub.execute_input": "2022-09-30T01:09:58.768910Z",
     "iopub.status.busy": "2022-09-30T01:09:58.768326Z",
     "iopub.status.idle": "2022-09-30T01:09:58.784520Z",
     "shell.execute_reply": "2022-09-30T01:09:58.784066Z"
    },
    "papermill": {
     "duration": 0.046298,
     "end_time": "2022-09-30T01:09:58.784622",
     "exception": false,
     "start_time": "2022-09-30T01:09:58.738324",
     "status": "completed"
    },
    "tags": []
   },
   "outputs": [],
   "source": [
    "train_filter = np.where((train_labels == 3 ) | (train_labels == 8))\n",
    "test_filter = np.where((test_labels == 3) | (test_labels == 8))\n",
    "X_train, y_train = train_images[train_filter], train_labels[train_filter]\n",
    "X_test, y_test = test_images[test_filter], test_labels[test_filter]"
   ]
  },
  {
   "cell_type": "markdown",
   "id": "948f0b7e",
   "metadata": {
    "papermill": {
     "duration": 0.02635,
     "end_time": "2022-09-30T01:09:58.837486",
     "exception": false,
     "start_time": "2022-09-30T01:09:58.811136",
     "status": "completed"
    },
    "tags": []
   },
   "source": [
    "We normalize the pizel values in the 0 to 1 range"
   ]
  },
  {
   "cell_type": "code",
   "execution_count": 11,
   "id": "ee4c2166",
   "metadata": {
    "execution": {
     "iopub.execute_input": "2022-09-30T01:09:58.893898Z",
     "iopub.status.busy": "2022-09-30T01:09:58.893338Z",
     "iopub.status.idle": "2022-09-30T01:09:58.933388Z",
     "shell.execute_reply": "2022-09-30T01:09:58.932913Z"
    },
    "papermill": {
     "duration": 0.069554,
     "end_time": "2022-09-30T01:09:58.933494",
     "exception": false,
     "start_time": "2022-09-30T01:09:58.863940",
     "status": "completed"
    },
    "tags": []
   },
   "outputs": [],
   "source": [
    "X_train = X_train/255.\n",
    "X_test = X_test/255."
   ]
  },
  {
   "cell_type": "markdown",
   "id": "ddcf4fab",
   "metadata": {
    "papermill": {
     "duration": 0.026456,
     "end_time": "2022-09-30T01:09:58.986643",
     "exception": false,
     "start_time": "2022-09-30T01:09:58.960187",
     "status": "completed"
    },
    "tags": []
   },
   "source": [
    "And setup the labels as 1 (when the digit is 3) and 0 (when the digit is 8)"
   ]
  },
  {
   "cell_type": "code",
   "execution_count": 12,
   "id": "7dc908f2",
   "metadata": {
    "execution": {
     "iopub.execute_input": "2022-09-30T01:09:59.043259Z",
     "iopub.status.busy": "2022-09-30T01:09:59.042689Z",
     "iopub.status.idle": "2022-09-30T01:09:59.054489Z",
     "shell.execute_reply": "2022-09-30T01:09:59.054044Z"
    },
    "papermill": {
     "duration": 0.041555,
     "end_time": "2022-09-30T01:09:59.054588",
     "exception": false,
     "start_time": "2022-09-30T01:09:59.013033",
     "status": "completed"
    },
    "tags": []
   },
   "outputs": [],
   "source": [
    "y_train = 1*(y_train==3)\n",
    "y_test = 1*(y_test==3)"
   ]
  },
  {
   "cell_type": "code",
   "execution_count": 13,
   "id": "01e4e969",
   "metadata": {
    "execution": {
     "iopub.execute_input": "2022-09-30T01:09:59.111274Z",
     "iopub.status.busy": "2022-09-30T01:09:59.110722Z",
     "iopub.status.idle": "2022-09-30T01:09:59.123688Z",
     "shell.execute_reply": "2022-09-30T01:09:59.123231Z"
    },
    "papermill": {
     "duration": 0.042597,
     "end_time": "2022-09-30T01:09:59.123787",
     "exception": false,
     "start_time": "2022-09-30T01:09:59.081190",
     "status": "completed"
    },
    "tags": []
   },
   "outputs": [
    {
     "data": {
      "text/plain": [
       "((11982, 28, 28), (1984, 28, 28))"
      ]
     },
     "execution_count": 13,
     "metadata": {},
     "output_type": "execute_result"
    }
   ],
   "source": [
    "X_train.shape, X_test.shape"
   ]
  },
  {
   "cell_type": "markdown",
   "id": "5ccf3f85",
   "metadata": {
    "papermill": {
     "duration": 0.026624,
     "end_time": "2022-09-30T01:09:59.176974",
     "exception": false,
     "start_time": "2022-09-30T01:09:59.150350",
     "status": "completed"
    },
    "tags": []
   },
   "source": [
    "We reshape the data to flatten the image pixels into a set of features or co-variates:"
   ]
  },
  {
   "cell_type": "code",
   "execution_count": 14,
   "id": "5286a4a3",
   "metadata": {
    "execution": {
     "iopub.execute_input": "2022-09-30T01:09:59.234607Z",
     "iopub.status.busy": "2022-09-30T01:09:59.234046Z",
     "iopub.status.idle": "2022-09-30T01:09:59.247497Z",
     "shell.execute_reply": "2022-09-30T01:09:59.247037Z"
    },
    "papermill": {
     "duration": 0.043561,
     "end_time": "2022-09-30T01:09:59.247600",
     "exception": false,
     "start_time": "2022-09-30T01:09:59.204039",
     "status": "completed"
    },
    "tags": []
   },
   "outputs": [
    {
     "data": {
      "text/plain": [
       "((11982, 784), (1984, 784))"
      ]
     },
     "execution_count": 14,
     "metadata": {},
     "output_type": "execute_result"
    }
   ],
   "source": [
    "X_train = X_train.reshape(X_train.shape[0], -1)\n",
    "X_test = X_test.reshape(X_test.shape[0], -1)\n",
    "X_train.shape, X_test.shape"
   ]
  },
  {
   "cell_type": "code",
   "execution_count": 15,
   "id": "73c5f88a",
   "metadata": {
    "execution": {
     "iopub.execute_input": "2022-09-30T01:09:59.306119Z",
     "iopub.status.busy": "2022-09-30T01:09:59.305566Z",
     "iopub.status.idle": "2022-09-30T01:09:59.323904Z",
     "shell.execute_reply": "2022-09-30T01:09:59.323438Z"
    },
    "papermill": {
     "duration": 0.049304,
     "end_time": "2022-09-30T01:09:59.324013",
     "exception": false,
     "start_time": "2022-09-30T01:09:59.274709",
     "status": "completed"
    },
    "tags": []
   },
   "outputs": [],
   "source": [
    "#Impoting functions from 'Kudzu'\n",
    "from kudzu.model import Model\n",
    "from kudzu.train import Learner\n",
    "from kudzu.optim import GD\n",
    "from kudzu.data import Data, Sampler,Dataloader\n",
    "\n",
    "from kudzu.callbacks import AccCallback\n",
    "from kudzu.callbacks import ClfCallback\n",
    "\n",
    "from kudzu.loss import MSE\n",
    "\n",
    "from kudzu.layer import Sigmoid,Relu\n",
    "from kudzu.layer import Affine"
   ]
  },
  {
   "cell_type": "markdown",
   "id": "bc01172a",
   "metadata": {
    "papermill": {
     "duration": 0.026834,
     "end_time": "2022-09-30T01:09:59.377982",
     "exception": false,
     "start_time": "2022-09-30T01:09:59.351148",
     "status": "completed"
    },
    "tags": []
   },
   "source": [
    "### Let us create a `Config` class, to store important parameters. \n",
    "This class essentially plays the role of a dictionary."
   ]
  },
  {
   "cell_type": "code",
   "execution_count": 16,
   "id": "978281aa",
   "metadata": {
    "execution": {
     "iopub.execute_input": "2022-09-30T01:09:59.435779Z",
     "iopub.status.busy": "2022-09-30T01:09:59.435226Z",
     "iopub.status.idle": "2022-09-30T01:09:59.446735Z",
     "shell.execute_reply": "2022-09-30T01:09:59.446281Z"
    },
    "papermill": {
     "duration": 0.041945,
     "end_time": "2022-09-30T01:09:59.446834",
     "exception": false,
     "start_time": "2022-09-30T01:09:59.404889",
     "status": "completed"
    },
    "tags": []
   },
   "outputs": [],
   "source": [
    "class Config:\n",
    "    pass\n",
    "config = Config()\n",
    "config.lr = 0.001\n",
    "config.num_epochs = 250\n",
    "config.bs = 50"
   ]
  },
  {
   "cell_type": "markdown",
   "id": "1385fa59",
   "metadata": {
    "papermill": {
     "duration": 0.027522,
     "end_time": "2022-09-30T01:09:59.501399",
     "exception": false,
     "start_time": "2022-09-30T01:09:59.473877",
     "status": "completed"
    },
    "tags": []
   },
   "source": [
    "### Running Models with the Training data\n",
    "Details about the network layers:\n",
    "- A first affine layer has 784 inputs and does 100 affine transforms. These are followed by a Relu\n",
    "- A second affine layer has 100 inputs from the 100 activations of the past layer, and does 100 affine transforms. These are followed by a Relu\n",
    "- A third affine layer has 100 activations and does 2 affine transformations to create an embedding for visualization. There is no non-linearity here.\n",
    "- A final \"logistic regression\" which has an affine transform from 2 inputs to 1 output, which is squeezed through a sigmoid.\n"
   ]
  },
  {
   "cell_type": "code",
   "execution_count": 17,
   "id": "2b9c66db",
   "metadata": {
    "execution": {
     "iopub.execute_input": "2022-09-30T01:09:59.559334Z",
     "iopub.status.busy": "2022-09-30T01:09:59.558787Z",
     "iopub.status.idle": "2022-09-30T01:09:59.570626Z",
     "shell.execute_reply": "2022-09-30T01:09:59.570167Z"
    },
    "papermill": {
     "duration": 0.042288,
     "end_time": "2022-09-30T01:09:59.570725",
     "exception": false,
     "start_time": "2022-09-30T01:09:59.528437",
     "status": "completed"
    },
    "tags": []
   },
   "outputs": [],
   "source": [
    "data = Data(X_train, y_train.reshape(-1,1))\n",
    "sampler = Sampler(data, config.bs, shuffle=True)\n",
    "\n",
    "dl = Dataloader(data, sampler)\n",
    "\n",
    "opt = GD(config.lr)\n",
    "loss = MSE()"
   ]
  },
  {
   "cell_type": "code",
   "execution_count": 18,
   "id": "b275e4c2",
   "metadata": {
    "execution": {
     "iopub.execute_input": "2022-09-30T01:09:59.627979Z",
     "iopub.status.busy": "2022-09-30T01:09:59.627406Z",
     "iopub.status.idle": "2022-09-30T01:09:59.638499Z",
     "shell.execute_reply": "2022-09-30T01:09:59.638923Z"
    },
    "papermill": {
     "duration": 0.041463,
     "end_time": "2022-09-30T01:09:59.639039",
     "exception": false,
     "start_time": "2022-09-30T01:09:59.597576",
     "status": "completed"
    },
    "tags": []
   },
   "outputs": [],
   "source": [
    "training_data_x = X_train\n",
    "testing_data_x = X_test\n",
    "training_data_y = y_train.reshape(-1,1)\n",
    "testing_data_y = y_test.reshape(-1,1)"
   ]
  },
  {
   "cell_type": "code",
   "execution_count": 19,
   "id": "76951160",
   "metadata": {
    "execution": {
     "iopub.execute_input": "2022-09-30T01:09:59.696736Z",
     "iopub.status.busy": "2022-09-30T01:09:59.696173Z",
     "iopub.status.idle": "2022-09-30T01:09:59.711711Z",
     "shell.execute_reply": "2022-09-30T01:09:59.712192Z"
    },
    "papermill": {
     "duration": 0.046519,
     "end_time": "2022-09-30T01:09:59.712309",
     "exception": false,
     "start_time": "2022-09-30T01:09:59.665790",
     "status": "completed"
    },
    "tags": []
   },
   "outputs": [
    {
     "name": "stdout",
     "output_type": "stream",
     "text": [
      "xavier\n",
      "xavier\n",
      "xavier\n",
      "xavier\n",
      "xavier\n"
     ]
    }
   ],
   "source": [
    "layers = [Affine(\"first\", 784, 100), Relu(\"first\"), Affine(\"second\", 100, 100), Relu(\"second\"), Affine(\"third\", 100, 2), Affine(\"last\", 2, 1), Sigmoid(\"last\")]\n",
    "model_nn = Model(layers)\n",
    "model_lr = Model([Affine(\"logits\", 784, 1), Sigmoid(\"sigmoid\")])"
   ]
  },
  {
   "cell_type": "code",
   "execution_count": 20,
   "id": "6eede77a",
   "metadata": {
    "execution": {
     "iopub.execute_input": "2022-09-30T01:09:59.770327Z",
     "iopub.status.busy": "2022-09-30T01:09:59.769764Z",
     "iopub.status.idle": "2022-09-30T01:09:59.781479Z",
     "shell.execute_reply": "2022-09-30T01:09:59.781041Z"
    },
    "papermill": {
     "duration": 0.042068,
     "end_time": "2022-09-30T01:09:59.781575",
     "exception": false,
     "start_time": "2022-09-30T01:09:59.739507",
     "status": "completed"
    },
    "tags": []
   },
   "outputs": [],
   "source": [
    "nn_learner = Learner(loss, model_nn, opt, config.num_epochs)\n",
    "acc_nn = ClfCallback(nn_learner, config.bs, training_data_x , testing_data_x, training_data_y, testing_data_y)\n",
    "nn_learner.set_callbacks([acc_nn])"
   ]
  },
  {
   "cell_type": "code",
   "execution_count": 21,
   "id": "877b6cc7",
   "metadata": {
    "execution": {
     "iopub.execute_input": "2022-09-30T01:09:59.839843Z",
     "iopub.status.busy": "2022-09-30T01:09:59.839284Z",
     "iopub.status.idle": "2022-09-30T01:09:59.851320Z",
     "shell.execute_reply": "2022-09-30T01:09:59.850872Z"
    },
    "papermill": {
     "duration": 0.042533,
     "end_time": "2022-09-30T01:09:59.851420",
     "exception": false,
     "start_time": "2022-09-30T01:09:59.808887",
     "status": "completed"
    },
    "tags": []
   },
   "outputs": [],
   "source": [
    "lr_learner = Learner(loss, model_lr, opt, config.num_epochs)\n",
    "acc_lr = ClfCallback(lr_learner, config.bs, training_data_x , testing_data_x, training_data_y, testing_data_y)\n",
    "lr_learner.set_callbacks([acc_lr])"
   ]
  },
  {
   "cell_type": "code",
   "execution_count": 22,
   "id": "d9b133c3",
   "metadata": {
    "execution": {
     "iopub.execute_input": "2022-09-30T01:09:59.909763Z",
     "iopub.status.busy": "2022-09-30T01:09:59.909206Z",
     "iopub.status.idle": "2022-09-30T01:12:56.158070Z",
     "shell.execute_reply": "2022-09-30T01:12:56.158521Z"
    },
    "papermill": {
     "duration": 176.280002,
     "end_time": "2022-09-30T01:12:56.158648",
     "exception": false,
     "start_time": "2022-09-30T01:09:59.878646",
     "status": "completed"
    },
    "tags": []
   },
   "outputs": [
    {
     "name": "stdout",
     "output_type": "stream",
     "text": [
      "Epoch 0, Loss 0.2502\n",
      "Training Accuracy: 0.5091, Testing Accuracy: 0.5181\n",
      "\n"
     ]
    },
    {
     "name": "stdout",
     "output_type": "stream",
     "text": [
      "Epoch 10, Loss 0.247\n",
      "Training Accuracy: 0.5575, Testing Accuracy: 0.5575\n",
      "\n"
     ]
    },
    {
     "name": "stdout",
     "output_type": "stream",
     "text": [
      "Epoch 20, Loss 0.239\n",
      "Training Accuracy: 0.6413, Testing Accuracy: 0.6356\n",
      "\n"
     ]
    },
    {
     "name": "stdout",
     "output_type": "stream",
     "text": [
      "Epoch 30, Loss 0.2066\n",
      "Training Accuracy: 0.8095, Testing Accuracy: 0.8090\n",
      "\n"
     ]
    },
    {
     "name": "stdout",
     "output_type": "stream",
     "text": [
      "Epoch 40, Loss 0.1174\n",
      "Training Accuracy: 0.9016, Testing Accuracy: 0.9073\n",
      "\n"
     ]
    },
    {
     "name": "stdout",
     "output_type": "stream",
     "text": [
      "Epoch 50, Loss 0.0699\n",
      "Training Accuracy: 0.9276, Testing Accuracy: 0.9410\n",
      "\n"
     ]
    },
    {
     "name": "stdout",
     "output_type": "stream",
     "text": [
      "Epoch 60, Loss 0.0522\n",
      "Training Accuracy: 0.9424, Testing Accuracy: 0.9531\n",
      "\n"
     ]
    },
    {
     "name": "stdout",
     "output_type": "stream",
     "text": [
      "Epoch 70, Loss 0.0435\n",
      "Training Accuracy: 0.9513, Testing Accuracy: 0.9577\n",
      "\n"
     ]
    },
    {
     "name": "stdout",
     "output_type": "stream",
     "text": [
      "Epoch 80, Loss 0.0385\n",
      "Training Accuracy: 0.9557, Testing Accuracy: 0.9632\n",
      "\n"
     ]
    },
    {
     "name": "stdout",
     "output_type": "stream",
     "text": [
      "Epoch 90, Loss 0.0353\n",
      "Training Accuracy: 0.9592, Testing Accuracy: 0.9667\n",
      "\n"
     ]
    },
    {
     "name": "stdout",
     "output_type": "stream",
     "text": [
      "Epoch 100, Loss 0.0331\n",
      "Training Accuracy: 0.9613, Testing Accuracy: 0.9703\n",
      "\n"
     ]
    },
    {
     "name": "stdout",
     "output_type": "stream",
     "text": [
      "Epoch 110, Loss 0.0313\n",
      "Training Accuracy: 0.9632, Testing Accuracy: 0.9718\n",
      "\n"
     ]
    },
    {
     "name": "stdout",
     "output_type": "stream",
     "text": [
      "Epoch 120, Loss 0.03\n",
      "Training Accuracy: 0.9654, Testing Accuracy: 0.9723\n",
      "\n"
     ]
    },
    {
     "name": "stdout",
     "output_type": "stream",
     "text": [
      "Epoch 130, Loss 0.0288\n",
      "Training Accuracy: 0.9661, Testing Accuracy: 0.9718\n",
      "\n"
     ]
    },
    {
     "name": "stdout",
     "output_type": "stream",
     "text": [
      "Epoch 140, Loss 0.0278\n",
      "Training Accuracy: 0.9678, Testing Accuracy: 0.9708\n",
      "\n"
     ]
    },
    {
     "name": "stdout",
     "output_type": "stream",
     "text": [
      "Epoch 150, Loss 0.0269\n",
      "Training Accuracy: 0.9695, Testing Accuracy: 0.9703\n",
      "\n"
     ]
    },
    {
     "name": "stdout",
     "output_type": "stream",
     "text": [
      "Epoch 160, Loss 0.0261\n",
      "Training Accuracy: 0.9704, Testing Accuracy: 0.9708\n",
      "\n"
     ]
    },
    {
     "name": "stdout",
     "output_type": "stream",
     "text": [
      "Epoch 170, Loss 0.0254\n",
      "Training Accuracy: 0.9713, Testing Accuracy: 0.9718\n",
      "\n"
     ]
    },
    {
     "name": "stdout",
     "output_type": "stream",
     "text": [
      "Epoch 180, Loss 0.0247\n",
      "Training Accuracy: 0.9719, Testing Accuracy: 0.9713\n",
      "\n"
     ]
    },
    {
     "name": "stdout",
     "output_type": "stream",
     "text": [
      "Epoch 190, Loss 0.0241\n",
      "Training Accuracy: 0.9724, Testing Accuracy: 0.9708\n",
      "\n"
     ]
    },
    {
     "name": "stdout",
     "output_type": "stream",
     "text": [
      "Epoch 200, Loss 0.0235\n",
      "Training Accuracy: 0.9732, Testing Accuracy: 0.9708\n",
      "\n"
     ]
    },
    {
     "name": "stdout",
     "output_type": "stream",
     "text": [
      "Epoch 210, Loss 0.023\n",
      "Training Accuracy: 0.9740, Testing Accuracy: 0.9713\n",
      "\n"
     ]
    },
    {
     "name": "stdout",
     "output_type": "stream",
     "text": [
      "Epoch 220, Loss 0.0224\n",
      "Training Accuracy: 0.9750, Testing Accuracy: 0.9728\n",
      "\n"
     ]
    },
    {
     "name": "stdout",
     "output_type": "stream",
     "text": [
      "Epoch 230, Loss 0.022\n",
      "Training Accuracy: 0.9756, Testing Accuracy: 0.9728\n",
      "\n"
     ]
    },
    {
     "name": "stdout",
     "output_type": "stream",
     "text": [
      "Epoch 240, Loss 0.0215\n",
      "Training Accuracy: 0.9762, Testing Accuracy: 0.9733\n",
      "\n"
     ]
    },
    {
     "data": {
      "text/plain": [
       "0.04027828745293575"
      ]
     },
     "execution_count": 22,
     "metadata": {},
     "output_type": "execute_result"
    }
   ],
   "source": [
    "nn_learner.train_loop(dl)"
   ]
  },
  {
   "cell_type": "code",
   "execution_count": 23,
   "id": "e0163366",
   "metadata": {
    "execution": {
     "iopub.execute_input": "2022-09-30T01:12:56.232765Z",
     "iopub.status.busy": "2022-09-30T01:12:56.231798Z",
     "iopub.status.idle": "2022-09-30T01:13:08.354483Z",
     "shell.execute_reply": "2022-09-30T01:13:08.355311Z"
    },
    "papermill": {
     "duration": 12.162331,
     "end_time": "2022-09-30T01:13:08.355447",
     "exception": false,
     "start_time": "2022-09-30T01:12:56.193116",
     "status": "completed"
    },
    "tags": []
   },
   "outputs": [
    {
     "name": "stdout",
     "output_type": "stream",
     "text": [
      "Epoch 0, Loss 0.23\n",
      "Training Accuracy: 0.7175, Testing Accuracy: 0.7485\n",
      "\n"
     ]
    },
    {
     "name": "stdout",
     "output_type": "stream",
     "text": [
      "Epoch 10, Loss 0.1009\n",
      "Training Accuracy: 0.9110, Testing Accuracy: 0.9309\n",
      "\n"
     ]
    },
    {
     "name": "stdout",
     "output_type": "stream",
     "text": [
      "Epoch 20, Loss 0.078\n",
      "Training Accuracy: 0.9281, Testing Accuracy: 0.9461\n",
      "\n"
     ]
    },
    {
     "name": "stdout",
     "output_type": "stream",
     "text": [
      "Epoch 30, Loss 0.0674\n",
      "Training Accuracy: 0.9354, Testing Accuracy: 0.9506\n",
      "\n"
     ]
    },
    {
     "name": "stdout",
     "output_type": "stream",
     "text": [
      "Epoch 40, Loss 0.061\n",
      "Training Accuracy: 0.9417, Testing Accuracy: 0.9536\n",
      "\n"
     ]
    },
    {
     "name": "stdout",
     "output_type": "stream",
     "text": [
      "Epoch 50, Loss 0.0566\n",
      "Training Accuracy: 0.9453, Testing Accuracy: 0.9561\n",
      "\n"
     ]
    },
    {
     "name": "stdout",
     "output_type": "stream",
     "text": [
      "Epoch 60, Loss 0.0534\n",
      "Training Accuracy: 0.9486, Testing Accuracy: 0.9587\n",
      "\n"
     ]
    },
    {
     "name": "stdout",
     "output_type": "stream",
     "text": [
      "Epoch 70, Loss 0.0509\n",
      "Training Accuracy: 0.9504, Testing Accuracy: 0.9592\n",
      "\n"
     ]
    },
    {
     "name": "stdout",
     "output_type": "stream",
     "text": [
      "Epoch 80, Loss 0.0489\n",
      "Training Accuracy: 0.9523, Testing Accuracy: 0.9602\n",
      "\n"
     ]
    },
    {
     "name": "stdout",
     "output_type": "stream",
     "text": [
      "Epoch 90, Loss 0.0472\n",
      "Training Accuracy: 0.9533, Testing Accuracy: 0.9622\n",
      "\n"
     ]
    },
    {
     "name": "stdout",
     "output_type": "stream",
     "text": [
      "Epoch 100, Loss 0.0458\n",
      "Training Accuracy: 0.9540, Testing Accuracy: 0.9627\n",
      "\n"
     ]
    },
    {
     "name": "stdout",
     "output_type": "stream",
     "text": [
      "Epoch 110, Loss 0.0446\n",
      "Training Accuracy: 0.9546, Testing Accuracy: 0.9632\n",
      "\n"
     ]
    },
    {
     "name": "stdout",
     "output_type": "stream",
     "text": [
      "Epoch 120, Loss 0.0436\n",
      "Training Accuracy: 0.9552, Testing Accuracy: 0.9652\n",
      "\n"
     ]
    },
    {
     "name": "stdout",
     "output_type": "stream",
     "text": [
      "Epoch 130, Loss 0.0427\n",
      "Training Accuracy: 0.9556, Testing Accuracy: 0.9652\n",
      "\n"
     ]
    },
    {
     "name": "stdout",
     "output_type": "stream",
     "text": [
      "Epoch 140, Loss 0.0418\n",
      "Training Accuracy: 0.9564, Testing Accuracy: 0.9652\n",
      "\n"
     ]
    },
    {
     "name": "stdout",
     "output_type": "stream",
     "text": [
      "Epoch 150, Loss 0.0411\n",
      "Training Accuracy: 0.9572, Testing Accuracy: 0.9652\n",
      "\n"
     ]
    },
    {
     "name": "stdout",
     "output_type": "stream",
     "text": [
      "Epoch 160, Loss 0.0405\n",
      "Training Accuracy: 0.9577, Testing Accuracy: 0.9652\n",
      "\n"
     ]
    },
    {
     "name": "stdout",
     "output_type": "stream",
     "text": [
      "Epoch 170, Loss 0.0399\n",
      "Training Accuracy: 0.9582, Testing Accuracy: 0.9657\n",
      "\n"
     ]
    },
    {
     "name": "stdout",
     "output_type": "stream",
     "text": [
      "Epoch 180, Loss 0.0393\n",
      "Training Accuracy: 0.9589, Testing Accuracy: 0.9657\n",
      "\n"
     ]
    },
    {
     "name": "stdout",
     "output_type": "stream",
     "text": [
      "Epoch 190, Loss 0.0388\n",
      "Training Accuracy: 0.9594, Testing Accuracy: 0.9652\n",
      "\n"
     ]
    },
    {
     "name": "stdout",
     "output_type": "stream",
     "text": [
      "Epoch 200, Loss 0.0383\n",
      "Training Accuracy: 0.9594, Testing Accuracy: 0.9657\n",
      "\n"
     ]
    },
    {
     "name": "stdout",
     "output_type": "stream",
     "text": [
      "Epoch 210, Loss 0.0379\n",
      "Training Accuracy: 0.9597, Testing Accuracy: 0.9657\n",
      "\n"
     ]
    },
    {
     "name": "stdout",
     "output_type": "stream",
     "text": [
      "Epoch 220, Loss 0.0375\n",
      "Training Accuracy: 0.9602, Testing Accuracy: 0.9652\n",
      "\n"
     ]
    },
    {
     "name": "stdout",
     "output_type": "stream",
     "text": [
      "Epoch 230, Loss 0.0371\n",
      "Training Accuracy: 0.9604, Testing Accuracy: 0.9652\n",
      "\n"
     ]
    },
    {
     "name": "stdout",
     "output_type": "stream",
     "text": [
      "Epoch 240, Loss 0.0368\n",
      "Training Accuracy: 0.9605, Testing Accuracy: 0.9652\n",
      "\n"
     ]
    },
    {
     "data": {
      "text/plain": [
       "0.0343993311920662"
      ]
     },
     "execution_count": 23,
     "metadata": {},
     "output_type": "execute_result"
    }
   ],
   "source": [
    "lr_learner.train_loop(dl)"
   ]
  },
  {
   "cell_type": "code",
   "execution_count": 24,
   "id": "ca410940",
   "metadata": {
    "execution": {
     "iopub.execute_input": "2022-09-30T01:13:08.445990Z",
     "iopub.status.busy": "2022-09-30T01:13:08.445420Z",
     "iopub.status.idle": "2022-09-30T01:13:08.671168Z",
     "shell.execute_reply": "2022-09-30T01:13:08.670428Z"
    },
    "papermill": {
     "duration": 0.2744,
     "end_time": "2022-09-30T01:13:08.671283",
     "exception": false,
     "start_time": "2022-09-30T01:13:08.396883",
     "status": "completed"
    },
    "tags": []
   },
   "outputs": [
    {
     "data": {
      "text/plain": [
       "<matplotlib.legend.Legend at 0x7f9bf4e9a390>"
      ]
     },
     "execution_count": 24,
     "metadata": {},
     "output_type": "execute_result"
    },
    {
     "data": {
      "image/png": "[encoded data removed]",
      "text/plain": [
       "<Figure size 1080x720 with 1 Axes>"
      ]
     },
     "metadata": {
      "needs_background": "light"
     },
     "output_type": "display_data"
    }
   ],
   "source": [
    "#comparing the results of NN and LR\n",
    "plt.figure(figsize=(15,10))\n",
    "\n",
    "# Neural Network plots\n",
    "plt.plot(acc_nn.accuracies, 'r-', label = \"Training Accuracies - NN\")\n",
    "plt.plot(acc_nn.test_accuracies, 'g-', label = \"Testing Accuracies - NN\")\n",
    "\n",
    "# Logistic Regression plots\n",
    "plt.plot(acc_lr.accuracies, 'k-', label = \"Training Accuracies - LR\")\n",
    "plt.plot(acc_lr.test_accuracies, 'b-', label = \"Testing Accuracies - LR\")\n",
    "plt.legend()"
   ]
  },
  {
   "cell_type": "markdown",
   "id": "80dfb35c",
   "metadata": {
    "papermill": {
     "duration": 0.042312,
     "end_time": "2022-09-30T01:13:08.756016",
     "exception": false,
     "start_time": "2022-09-30T01:13:08.713704",
     "status": "completed"
    },
    "tags": []
   },
   "source": [
    "#### Plotting the outputs of this layer of the NN.\n"
   ]
  },
  {
   "cell_type": "code",
   "execution_count": 25,
   "id": "45eb2ff5",
   "metadata": {
    "execution": {
     "iopub.execute_input": "2022-09-30T01:13:08.844398Z",
     "iopub.status.busy": "2022-09-30T01:13:08.843779Z",
     "iopub.status.idle": "2022-09-30T01:13:08.879486Z",
     "shell.execute_reply": "2022-09-30T01:13:08.880163Z"
    },
    "papermill": {
     "duration": 0.082101,
     "end_time": "2022-09-30T01:13:08.880294",
     "exception": false,
     "start_time": "2022-09-30T01:13:08.798193",
     "status": "completed"
    },
    "tags": []
   },
   "outputs": [],
   "source": [
    "new_model = Model(layers[:-2])\n",
    "testing_plot = new_model(testing_data_x)"
   ]
  },
  {
   "cell_type": "code",
   "execution_count": 26,
   "id": "4c0a5485",
   "metadata": {
    "execution": {
     "iopub.execute_input": "2022-09-30T01:13:08.975814Z",
     "iopub.status.busy": "2022-09-30T01:13:08.974144Z",
     "iopub.status.idle": "2022-09-30T01:13:09.187796Z",
     "shell.execute_reply": "2022-09-30T01:13:09.188257Z"
    },
    "papermill": {
     "duration": 0.265323,
     "end_time": "2022-09-30T01:13:09.188386",
     "exception": false,
     "start_time": "2022-09-30T01:13:08.923063",
     "status": "completed"
    },
    "tags": []
   },
   "outputs": [
    {
     "data": {
      "text/plain": [
       "Text(0.5, 1.0, 'Outputs')"
      ]
     },
     "execution_count": 26,
     "metadata": {},
     "output_type": "execute_result"
    },
    {
     "data": {
      "image/png": "[encoded data removed]",
      "text/plain": [
       "<Figure size 576x504 with 1 Axes>"
      ]
     },
     "metadata": {
      "needs_background": "light"
     },
     "output_type": "display_data"
    }
   ],
   "source": [
    "# Plotting the scatter plot of points and color coding by class\n",
    "plt.figure(figsize=(8,7))\n",
    "plt.scatter(testing_plot[:,0], testing_plot[:,1], alpha = 0.1, c = y_test.ravel());\n",
    "plt.title('Outputs')"
   ]
  },
  {
   "cell_type": "markdown",
   "id": "a74fcf8f",
   "metadata": {
    "papermill": {
     "duration": 0.044689,
     "end_time": "2022-09-30T01:13:09.278073",
     "exception": false,
     "start_time": "2022-09-30T01:13:09.233384",
     "status": "completed"
    },
    "tags": []
   },
   "source": [
    "Probability contours"
   ]
  },
  {
   "cell_type": "code",
   "execution_count": 27,
   "id": "d0afc8e3",
   "metadata": {
    "execution": {
     "iopub.execute_input": "2022-09-30T01:13:09.394838Z",
     "iopub.status.busy": "2022-09-30T01:13:09.394284Z",
     "iopub.status.idle": "2022-09-30T01:13:09.405773Z",
     "shell.execute_reply": "2022-09-30T01:13:09.405223Z"
    },
    "papermill": {
     "duration": 0.082916,
     "end_time": "2022-09-30T01:13:09.405878",
     "exception": false,
     "start_time": "2022-09-30T01:13:09.322962",
     "status": "completed"
    },
    "tags": []
   },
   "outputs": [],
   "source": [
    "model_prob = Model(layers[-2:]) "
   ]
  },
  {
   "cell_type": "code",
   "execution_count": 28,
   "id": "9b96e238",
   "metadata": {
    "execution": {
     "iopub.execute_input": "2022-09-30T01:13:09.500523Z",
     "iopub.status.busy": "2022-09-30T01:13:09.499956Z",
     "iopub.status.idle": "2022-09-30T01:13:09.512645Z",
     "shell.execute_reply": "2022-09-30T01:13:09.513080Z"
    },
    "papermill": {
     "duration": 0.062255,
     "end_time": "2022-09-30T01:13:09.513209",
     "exception": false,
     "start_time": "2022-09-30T01:13:09.450954",
     "status": "completed"
    },
    "tags": []
   },
   "outputs": [],
   "source": [
    "#creating the x and y ranges according to the above generated plot.\n",
    "x_range = np.linspace(-4, 1, 100) \n",
    "y_range = np.linspace(-6, 6, 100) \n",
    "x_grid, y_grid = np.meshgrid(x_range, y_range) # x_grid and y_grig are of size 100 X 100\n",
    "\n",
    "# converting x_grid and y_grid to continuous arrays\n",
    "x_gridflat = np.ravel(x_grid)\n",
    "y_gridflat = np.ravel(y_grid)\n",
    "\n",
    "# The last layer of the current model takes two columns as input. Hence transpose of np.vstack() is required.\n",
    "X = np.vstack((x_gridflat, y_gridflat)).T\n",
    "\n",
    "prob_contour = model_prob(X).reshape(100,100) "
   ]
  },
  {
   "cell_type": "code",
   "execution_count": 29,
   "id": "da72499a",
   "metadata": {
    "execution": {
     "iopub.execute_input": "2022-09-30T01:13:09.614121Z",
     "iopub.status.busy": "2022-09-30T01:13:09.612296Z",
     "iopub.status.idle": "2022-09-30T01:13:09.862891Z",
     "shell.execute_reply": "2022-09-30T01:13:09.862430Z"
    },
    "papermill": {
     "duration": 0.301071,
     "end_time": "2022-09-30T01:13:09.863005",
     "exception": false,
     "start_time": "2022-09-30T01:13:09.561934",
     "status": "completed"
    },
    "tags": []
   },
   "outputs": [
    {
     "data": {
      "image/png": "[encoded data removed]",
      "text/plain": [
       "<Figure size 720x648 with 1 Axes>"
      ]
     },
     "metadata": {
      "needs_background": "light"
     },
     "output_type": "display_data"
    }
   ],
   "source": [
    "plt.figure(figsize=(10,9))\n",
    "plt.scatter(testing_plot[:,0], testing_plot[:,1], alpha = 0.1, c = y_test.ravel())\n",
    "contours = plt.contour(x_grid,y_grid,prob_contour)\n",
    "plt.title('Probability Contours')\n",
    "plt.clabel(contours, inline = True );"
   ]
  },
  {
   "cell_type": "code",
   "execution_count": null,
   "id": "e81b4ac7",
   "metadata": {
    "papermill": {
     "duration": 0.047322,
     "end_time": "2022-09-30T01:13:09.958400",
     "exception": false,
     "start_time": "2022-09-30T01:13:09.911078",
     "status": "completed"
    },
    "tags": []
   },
   "outputs": [],
   "source": []
  }
 ],
 "metadata": {
  "kernelspec": {
   "display_name": "Python 3",
   "language": "python",
   "name": "python3"
  },
  "language_info": {
   "codemirror_mode": {
    "name": "ipython",
    "version": 3
   },
   "file_extension": ".py",
   "mimetype": "text/x-python",
   "name": "python",
   "nbconvert_exporter": "python",
   "pygments_lexer": "ipython3",
   "version": "3.6.15"
  },
  "papermill": {
   "default_parameters": {},
   "duration": 196.707307,
   "end_time": "2022-09-30T01:13:10.324572",
   "environment_variables": {},
   "exception": null,
   "input_path": "2020-08-11-part2.ipynb",
   "output_path": "2020-08-11-part2.ipynb",
   "parameters": {},
   "start_time": "2022-09-30T01:09:53.617265",
   "version": "2.3.3"
  }
 },
 "nbformat": 4,
 "nbformat_minor": 5
}