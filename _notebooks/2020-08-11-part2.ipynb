{
 "cells": [
  {
   "cell_type": "markdown",
   "id": "98380cd3",
   "metadata": {
    "papermill": {
     "duration": 0.028385,
     "end_time": "2022-03-22T20:09:38.225644",
     "exception": false,
     "start_time": "2022-03-22T20:09:38.197259",
     "status": "completed"
    },
    "tags": []
   },
   "source": [
    "# Distinguish Your Own Digits (DYOD)"
   ]
  },
  {
   "cell_type": "markdown",
   "id": "ef31240d",
   "metadata": {
    "papermill": {
     "duration": 0.025643,
     "end_time": "2022-03-22T20:09:38.275938",
     "exception": false,
     "start_time": "2022-03-22T20:09:38.250295",
     "status": "completed"
    },
    "tags": []
   },
   "source": [
    "You are going to write a classifier that distinguishes between the number 3 and number 8."
   ]
  },
  {
   "cell_type": "code",
   "execution_count": 1,
   "id": "b15c8646",
   "metadata": {
    "execution": {
     "iopub.execute_input": "2022-03-22T20:09:38.333912Z",
     "iopub.status.busy": "2022-03-22T20:09:38.331092Z",
     "iopub.status.idle": "2022-03-22T20:09:38.343581Z",
     "shell.execute_reply": "2022-03-22T20:09:38.344024Z"
    },
    "papermill": {
     "duration": 0.044491,
     "end_time": "2022-03-22T20:09:38.344171",
     "exception": false,
     "start_time": "2022-03-22T20:09:38.299680",
     "status": "completed"
    },
    "tags": []
   },
   "outputs": [],
   "source": [
    "%load_ext autoreload\n",
    "%autoreload 2"
   ]
  },
  {
   "cell_type": "code",
   "execution_count": 2,
   "id": "22ef38dc",
   "metadata": {
    "execution": {
     "iopub.execute_input": "2022-03-22T20:09:38.407065Z",
     "iopub.status.busy": "2022-03-22T20:09:38.405164Z",
     "iopub.status.idle": "2022-03-22T20:09:38.968509Z",
     "shell.execute_reply": "2022-03-22T20:09:38.967961Z"
    },
    "papermill": {
     "duration": 0.600509,
     "end_time": "2022-03-22T20:09:38.968651",
     "exception": false,
     "start_time": "2022-03-22T20:09:38.368142",
     "status": "completed"
    },
    "tags": []
   },
   "outputs": [],
   "source": [
    "%matplotlib inline\n",
    "import numpy as np\n",
    "import matplotlib.pyplot as plt\n",
    "import pandas as pd"
   ]
  },
  {
   "cell_type": "markdown",
   "id": "ba036198",
   "metadata": {
    "papermill": {
     "duration": 0.024005,
     "end_time": "2022-03-22T20:09:39.017177",
     "exception": false,
     "start_time": "2022-03-22T20:09:38.993172",
     "status": "completed"
    },
    "tags": []
   },
   "source": [
    "From the command line run `pip install mnist`. This is a library that will help you bring down the mnist dataset. If you run this from a notebook, you need to put  `!pip install mnist` in a cell by itself."
   ]
  },
  {
   "cell_type": "code",
   "execution_count": 3,
   "id": "bb6ad8a1",
   "metadata": {
    "execution": {
     "iopub.execute_input": "2022-03-22T20:09:39.071347Z",
     "iopub.status.busy": "2022-03-22T20:09:39.070812Z",
     "iopub.status.idle": "2022-03-22T20:09:40.729155Z",
     "shell.execute_reply": "2022-03-22T20:09:40.728601Z"
    },
    "papermill": {
     "duration": 1.688189,
     "end_time": "2022-03-22T20:09:40.729288",
     "exception": false,
     "start_time": "2022-03-22T20:09:39.041099",
     "status": "completed"
    },
    "tags": []
   },
   "outputs": [
    {
     "name": "stdout",
     "output_type": "stream",
     "text": [
      "Collecting mnist\r\n",
      "  Downloading mnist-0.2.2-py2.py3-none-any.whl (3.5 kB)\r\n"
     ]
    },
    {
     "name": "stdout",
     "output_type": "stream",
     "text": [
      "Requirement already satisfied: numpy in /opt/hostedtoolcache/Python/3.6.15/x64/lib/python3.6/site-packages (from mnist) (1.19.5)\r\n"
     ]
    },
    {
     "name": "stdout",
     "output_type": "stream",
     "text": [
      "Installing collected packages: mnist\r\n"
     ]
    },
    {
     "name": "stdout",
     "output_type": "stream",
     "text": [
      "Successfully installed mnist-0.2.2\r\n"
     ]
    }
   ],
   "source": [
    "!pip install mnist"
   ]
  },
  {
   "cell_type": "markdown",
   "id": "69df9c9a",
   "metadata": {
    "papermill": {
     "duration": 0.024994,
     "end_time": "2022-03-22T20:09:40.780456",
     "exception": false,
     "start_time": "2022-03-22T20:09:40.755462",
     "status": "completed"
    },
    "tags": []
   },
   "source": [
    "## Preparing the Data"
   ]
  },
  {
   "cell_type": "code",
   "execution_count": 4,
   "id": "7f69d806",
   "metadata": {
    "execution": {
     "iopub.execute_input": "2022-03-22T20:09:40.834039Z",
     "iopub.status.busy": "2022-03-22T20:09:40.833508Z",
     "iopub.status.idle": "2022-03-22T20:09:40.847523Z",
     "shell.execute_reply": "2022-03-22T20:09:40.847112Z"
    },
    "papermill": {
     "duration": 0.042291,
     "end_time": "2022-03-22T20:09:40.847634",
     "exception": false,
     "start_time": "2022-03-22T20:09:40.805343",
     "status": "completed"
    },
    "tags": []
   },
   "outputs": [],
   "source": [
    "import mnist"
   ]
  },
  {
   "cell_type": "code",
   "execution_count": 5,
   "id": "a411e44f",
   "metadata": {
    "execution": {
     "iopub.execute_input": "2022-03-22T20:09:40.900944Z",
     "iopub.status.busy": "2022-03-22T20:09:40.900434Z",
     "iopub.status.idle": "2022-03-22T20:09:41.422528Z",
     "shell.execute_reply": "2022-03-22T20:09:41.421599Z"
    },
    "papermill": {
     "duration": 0.550031,
     "end_time": "2022-03-22T20:09:41.422676",
     "exception": false,
     "start_time": "2022-03-22T20:09:40.872645",
     "status": "completed"
    },
    "tags": []
   },
   "outputs": [],
   "source": [
    "train_images = mnist.train_images()\n",
    "train_labels = mnist.train_labels()"
   ]
  },
  {
   "cell_type": "code",
   "execution_count": 6,
   "id": "dceab3a5",
   "metadata": {
    "execution": {
     "iopub.execute_input": "2022-03-22T20:09:41.479663Z",
     "iopub.status.busy": "2022-03-22T20:09:41.479144Z",
     "iopub.status.idle": "2022-03-22T20:09:41.491960Z",
     "shell.execute_reply": "2022-03-22T20:09:41.491533Z"
    },
    "papermill": {
     "duration": 0.043905,
     "end_time": "2022-03-22T20:09:41.492066",
     "exception": false,
     "start_time": "2022-03-22T20:09:41.448161",
     "status": "completed"
    },
    "tags": []
   },
   "outputs": [
    {
     "data": {
      "text/plain": [
       "((60000, 28, 28), (60000,))"
      ]
     },
     "execution_count": 6,
     "metadata": {},
     "output_type": "execute_result"
    }
   ],
   "source": [
    "train_images.shape, train_labels.shape"
   ]
  },
  {
   "cell_type": "code",
   "execution_count": 7,
   "id": "f50dc2bb",
   "metadata": {
    "execution": {
     "iopub.execute_input": "2022-03-22T20:09:41.548652Z",
     "iopub.status.busy": "2022-03-22T20:09:41.548141Z",
     "iopub.status.idle": "2022-03-22T20:09:41.710967Z",
     "shell.execute_reply": "2022-03-22T20:09:41.710383Z"
    },
    "papermill": {
     "duration": 0.193827,
     "end_time": "2022-03-22T20:09:41.711102",
     "exception": false,
     "start_time": "2022-03-22T20:09:41.517275",
     "status": "completed"
    },
    "tags": []
   },
   "outputs": [],
   "source": [
    "test_images = mnist.test_images()\n",
    "test_labels = mnist.test_labels()"
   ]
  },
  {
   "cell_type": "code",
   "execution_count": 8,
   "id": "fc38cf1b",
   "metadata": {
    "execution": {
     "iopub.execute_input": "2022-03-22T20:09:41.767221Z",
     "iopub.status.busy": "2022-03-22T20:09:41.766709Z",
     "iopub.status.idle": "2022-03-22T20:09:41.778677Z",
     "shell.execute_reply": "2022-03-22T20:09:41.778237Z"
    },
    "papermill": {
     "duration": 0.041055,
     "end_time": "2022-03-22T20:09:41.778784",
     "exception": false,
     "start_time": "2022-03-22T20:09:41.737729",
     "status": "completed"
    },
    "tags": []
   },
   "outputs": [
    {
     "data": {
      "text/plain": [
       "((10000, 28, 28), (10000,))"
      ]
     },
     "execution_count": 8,
     "metadata": {},
     "output_type": "execute_result"
    }
   ],
   "source": [
    "test_images.shape, test_labels.shape"
   ]
  },
  {
   "cell_type": "code",
   "execution_count": 9,
   "id": "f9ed8fe0",
   "metadata": {
    "execution": {
     "iopub.execute_input": "2022-03-22T20:09:41.839135Z",
     "iopub.status.busy": "2022-03-22T20:09:41.838631Z",
     "iopub.status.idle": "2022-03-22T20:09:41.971002Z",
     "shell.execute_reply": "2022-03-22T20:09:41.970489Z"
    },
    "papermill": {
     "duration": 0.166872,
     "end_time": "2022-03-22T20:09:41.971129",
     "exception": false,
     "start_time": "2022-03-22T20:09:41.804257",
     "status": "completed"
    },
    "tags": []
   },
   "outputs": [
    {
     "name": "stdout",
     "output_type": "stream",
     "text": [
      "2\n"
     ]
    },
    {
     "data": {
      "text/plain": [
       "<matplotlib.image.AxesImage at 0x7f90d1de45c0>"
      ]
     },
     "execution_count": 9,
     "metadata": {},
     "output_type": "execute_result"
    },
    {
     "data": {
      "image/png": "[encoded data removed]",
      "text/plain": [
       "<Figure size 432x288 with 1 Axes>"
      ]
     },
     "metadata": {
      "needs_background": "light"
     },
     "output_type": "display_data"
    }
   ],
   "source": [
    "image_index = 7776 # You may select anything up to 60,000\n",
    "print(train_labels[image_index]) \n",
    "plt.imshow(train_images[image_index], cmap='Greys')"
   ]
  },
  {
   "cell_type": "markdown",
   "id": "a8d2388d",
   "metadata": {
    "papermill": {
     "duration": 0.026613,
     "end_time": "2022-03-22T20:09:42.024768",
     "exception": false,
     "start_time": "2022-03-22T20:09:41.998155",
     "status": "completed"
    },
    "tags": []
   },
   "source": [
    "## Filter data to get 3 and 8 out"
   ]
  },
  {
   "cell_type": "code",
   "execution_count": 10,
   "id": "776f7fc7",
   "metadata": {
    "execution": {
     "iopub.execute_input": "2022-03-22T20:09:42.083301Z",
     "iopub.status.busy": "2022-03-22T20:09:42.082772Z",
     "iopub.status.idle": "2022-03-22T20:09:42.100497Z",
     "shell.execute_reply": "2022-03-22T20:09:42.100002Z"
    },
    "papermill": {
     "duration": 0.049192,
     "end_time": "2022-03-22T20:09:42.100617",
     "exception": false,
     "start_time": "2022-03-22T20:09:42.051425",
     "status": "completed"
    },
    "tags": []
   },
   "outputs": [],
   "source": [
    "train_filter = np.where((train_labels == 3 ) | (train_labels == 8))\n",
    "test_filter = np.where((test_labels == 3) | (test_labels == 8))\n",
    "X_train, y_train = train_images[train_filter], train_labels[train_filter]\n",
    "X_test, y_test = test_images[test_filter], test_labels[test_filter]"
   ]
  },
  {
   "cell_type": "markdown",
   "id": "948f0b7e",
   "metadata": {
    "papermill": {
     "duration": 0.026524,
     "end_time": "2022-03-22T20:09:42.154484",
     "exception": false,
     "start_time": "2022-03-22T20:09:42.127960",
     "status": "completed"
    },
    "tags": []
   },
   "source": [
    "We normalize the pizel values in the 0 to 1 range"
   ]
  },
  {
   "cell_type": "code",
   "execution_count": 11,
   "id": "ee4c2166",
   "metadata": {
    "execution": {
     "iopub.execute_input": "2022-03-22T20:09:42.227070Z",
     "iopub.status.busy": "2022-03-22T20:09:42.222796Z",
     "iopub.status.idle": "2022-03-22T20:09:42.263729Z",
     "shell.execute_reply": "2022-03-22T20:09:42.264166Z"
    },
    "papermill": {
     "duration": 0.083384,
     "end_time": "2022-03-22T20:09:42.264318",
     "exception": false,
     "start_time": "2022-03-22T20:09:42.180934",
     "status": "completed"
    },
    "tags": []
   },
   "outputs": [],
   "source": [
    "X_train = X_train/255.\n",
    "X_test = X_test/255."
   ]
  },
  {
   "cell_type": "markdown",
   "id": "ddcf4fab",
   "metadata": {
    "papermill": {
     "duration": 0.02708,
     "end_time": "2022-03-22T20:09:42.319233",
     "exception": false,
     "start_time": "2022-03-22T20:09:42.292153",
     "status": "completed"
    },
    "tags": []
   },
   "source": [
    "And setup the labels as 1 (when the digit is 3) and 0 (when the digit is 8)"
   ]
  },
  {
   "cell_type": "code",
   "execution_count": 12,
   "id": "7dc908f2",
   "metadata": {
    "execution": {
     "iopub.execute_input": "2022-03-22T20:09:42.379522Z",
     "iopub.status.busy": "2022-03-22T20:09:42.378909Z",
     "iopub.status.idle": "2022-03-22T20:09:42.390319Z",
     "shell.execute_reply": "2022-03-22T20:09:42.389844Z"
    },
    "papermill": {
     "duration": 0.044496,
     "end_time": "2022-03-22T20:09:42.390430",
     "exception": false,
     "start_time": "2022-03-22T20:09:42.345934",
     "status": "completed"
    },
    "tags": []
   },
   "outputs": [],
   "source": [
    "y_train = 1*(y_train==3)\n",
    "y_test = 1*(y_test==3)"
   ]
  },
  {
   "cell_type": "code",
   "execution_count": 13,
   "id": "01e4e969",
   "metadata": {
    "execution": {
     "iopub.execute_input": "2022-03-22T20:09:42.447061Z",
     "iopub.status.busy": "2022-03-22T20:09:42.446552Z",
     "iopub.status.idle": "2022-03-22T20:09:42.460097Z",
     "shell.execute_reply": "2022-03-22T20:09:42.459685Z"
    },
    "papermill": {
     "duration": 0.043138,
     "end_time": "2022-03-22T20:09:42.460209",
     "exception": false,
     "start_time": "2022-03-22T20:09:42.417071",
     "status": "completed"
    },
    "tags": []
   },
   "outputs": [
    {
     "data": {
      "text/plain": [
       "((11982, 28, 28), (1984, 28, 28))"
      ]
     },
     "execution_count": 13,
     "metadata": {},
     "output_type": "execute_result"
    }
   ],
   "source": [
    "X_train.shape, X_test.shape"
   ]
  },
  {
   "cell_type": "markdown",
   "id": "5ccf3f85",
   "metadata": {
    "papermill": {
     "duration": 0.026934,
     "end_time": "2022-03-22T20:09:42.513899",
     "exception": false,
     "start_time": "2022-03-22T20:09:42.486965",
     "status": "completed"
    },
    "tags": []
   },
   "source": [
    "We reshape the data to flatten the image pixels into a set of features or co-variates:"
   ]
  },
  {
   "cell_type": "code",
   "execution_count": 14,
   "id": "5286a4a3",
   "metadata": {
    "execution": {
     "iopub.execute_input": "2022-03-22T20:09:42.572978Z",
     "iopub.status.busy": "2022-03-22T20:09:42.572468Z",
     "iopub.status.idle": "2022-03-22T20:09:42.585058Z",
     "shell.execute_reply": "2022-03-22T20:09:42.584649Z"
    },
    "papermill": {
     "duration": 0.04438,
     "end_time": "2022-03-22T20:09:42.585166",
     "exception": false,
     "start_time": "2022-03-22T20:09:42.540786",
     "status": "completed"
    },
    "tags": []
   },
   "outputs": [
    {
     "data": {
      "text/plain": [
       "((11982, 784), (1984, 784))"
      ]
     },
     "execution_count": 14,
     "metadata": {},
     "output_type": "execute_result"
    }
   ],
   "source": [
    "X_train = X_train.reshape(X_train.shape[0], -1)\n",
    "X_test = X_test.reshape(X_test.shape[0], -1)\n",
    "X_train.shape, X_test.shape"
   ]
  },
  {
   "cell_type": "code",
   "execution_count": 15,
   "id": "73c5f88a",
   "metadata": {
    "execution": {
     "iopub.execute_input": "2022-03-22T20:09:42.647022Z",
     "iopub.status.busy": "2022-03-22T20:09:42.646510Z",
     "iopub.status.idle": "2022-03-22T20:09:42.662478Z",
     "shell.execute_reply": "2022-03-22T20:09:42.662063Z"
    },
    "papermill": {
     "duration": 0.050453,
     "end_time": "2022-03-22T20:09:42.662585",
     "exception": false,
     "start_time": "2022-03-22T20:09:42.612132",
     "status": "completed"
    },
    "tags": []
   },
   "outputs": [],
   "source": [
    "#Impoting functions from 'Kudzu'\n",
    "from kudzu.model import Model\n",
    "from kudzu.train import Learner\n",
    "from kudzu.optim import GD\n",
    "from kudzu.data import Data, Sampler,Dataloader\n",
    "\n",
    "from kudzu.callbacks import AccCallback\n",
    "from kudzu.callbacks import ClfCallback\n",
    "\n",
    "from kudzu.loss import MSE\n",
    "\n",
    "from kudzu.layer import Sigmoid,Relu\n",
    "from kudzu.layer import Affine"
   ]
  },
  {
   "cell_type": "markdown",
   "id": "bc01172a",
   "metadata": {
    "papermill": {
     "duration": 0.027043,
     "end_time": "2022-03-22T20:09:42.716704",
     "exception": false,
     "start_time": "2022-03-22T20:09:42.689661",
     "status": "completed"
    },
    "tags": []
   },
   "source": [
    "### Let us create a `Config` class, to store important parameters. \n",
    "This class essentially plays the role of a dictionary."
   ]
  },
  {
   "cell_type": "code",
   "execution_count": 16,
   "id": "978281aa",
   "metadata": {
    "execution": {
     "iopub.execute_input": "2022-03-22T20:09:42.773676Z",
     "iopub.status.busy": "2022-03-22T20:09:42.773161Z",
     "iopub.status.idle": "2022-03-22T20:09:42.786054Z",
     "shell.execute_reply": "2022-03-22T20:09:42.785621Z"
    },
    "papermill": {
     "duration": 0.042436,
     "end_time": "2022-03-22T20:09:42.786166",
     "exception": false,
     "start_time": "2022-03-22T20:09:42.743730",
     "status": "completed"
    },
    "tags": []
   },
   "outputs": [],
   "source": [
    "class Config:\n",
    "    pass\n",
    "config = Config()\n",
    "config.lr = 0.001\n",
    "config.num_epochs = 250\n",
    "config.bs = 50"
   ]
  },
  {
   "cell_type": "markdown",
   "id": "1385fa59",
   "metadata": {
    "papermill": {
     "duration": 0.027055,
     "end_time": "2022-03-22T20:09:42.840232",
     "exception": false,
     "start_time": "2022-03-22T20:09:42.813177",
     "status": "completed"
    },
    "tags": []
   },
   "source": [
    "### Running Models with the Training data\n",
    "Details about the network layers:\n",
    "- A first affine layer has 784 inputs and does 100 affine transforms. These are followed by a Relu\n",
    "- A second affine layer has 100 inputs from the 100 activations of the past layer, and does 100 affine transforms. These are followed by a Relu\n",
    "- A third affine layer has 100 activations and does 2 affine transformations to create an embedding for visualization. There is no non-linearity here.\n",
    "- A final \"logistic regression\" which has an affine transform from 2 inputs to 1 output, which is squeezed through a sigmoid.\n"
   ]
  },
  {
   "cell_type": "code",
   "execution_count": 17,
   "id": "2b9c66db",
   "metadata": {
    "execution": {
     "iopub.execute_input": "2022-03-22T20:09:42.900705Z",
     "iopub.status.busy": "2022-03-22T20:09:42.900192Z",
     "iopub.status.idle": "2022-03-22T20:09:42.910707Z",
     "shell.execute_reply": "2022-03-22T20:09:42.910295Z"
    },
    "papermill": {
     "duration": 0.043608,
     "end_time": "2022-03-22T20:09:42.910812",
     "exception": false,
     "start_time": "2022-03-22T20:09:42.867204",
     "status": "completed"
    },
    "tags": []
   },
   "outputs": [],
   "source": [
    "data = Data(X_train, y_train.reshape(-1,1))\n",
    "sampler = Sampler(data, config.bs, shuffle=True)\n",
    "\n",
    "dl = Dataloader(data, sampler)\n",
    "\n",
    "opt = GD(config.lr)\n",
    "loss = MSE()"
   ]
  },
  {
   "cell_type": "code",
   "execution_count": 18,
   "id": "b275e4c2",
   "metadata": {
    "execution": {
     "iopub.execute_input": "2022-03-22T20:09:42.968602Z",
     "iopub.status.busy": "2022-03-22T20:09:42.968092Z",
     "iopub.status.idle": "2022-03-22T20:09:42.980217Z",
     "shell.execute_reply": "2022-03-22T20:09:42.979807Z"
    },
    "papermill": {
     "duration": 0.042426,
     "end_time": "2022-03-22T20:09:42.980323",
     "exception": false,
     "start_time": "2022-03-22T20:09:42.937897",
     "status": "completed"
    },
    "tags": []
   },
   "outputs": [],
   "source": [
    "training_data_x = X_train\n",
    "testing_data_x = X_test\n",
    "training_data_y = y_train.reshape(-1,1)\n",
    "testing_data_y = y_test.reshape(-1,1)"
   ]
  },
  {
   "cell_type": "code",
   "execution_count": 19,
   "id": "76951160",
   "metadata": {
    "execution": {
     "iopub.execute_input": "2022-03-22T20:09:43.040249Z",
     "iopub.status.busy": "2022-03-22T20:09:43.039735Z",
     "iopub.status.idle": "2022-03-22T20:09:43.053955Z",
     "shell.execute_reply": "2022-03-22T20:09:43.053523Z"
    },
    "papermill": {
     "duration": 0.046837,
     "end_time": "2022-03-22T20:09:43.054079",
     "exception": false,
     "start_time": "2022-03-22T20:09:43.007242",
     "status": "completed"
    },
    "tags": []
   },
   "outputs": [
    {
     "name": "stdout",
     "output_type": "stream",
     "text": [
      "xavier\n",
      "xavier\n",
      "xavier\n",
      "xavier\n",
      "xavier\n"
     ]
    }
   ],
   "source": [
    "layers = [Affine(\"first\", 784, 100), Relu(\"first\"), Affine(\"second\", 100, 100), Relu(\"second\"), Affine(\"third\", 100, 2), Affine(\"last\", 2, 1), Sigmoid(\"last\")]\n",
    "model_nn = Model(layers)\n",
    "model_lr = Model([Affine(\"logits\", 784, 1), Sigmoid(\"sigmoid\")])"
   ]
  },
  {
   "cell_type": "code",
   "execution_count": 20,
   "id": "6eede77a",
   "metadata": {
    "execution": {
     "iopub.execute_input": "2022-03-22T20:09:43.112528Z",
     "iopub.status.busy": "2022-03-22T20:09:43.112017Z",
     "iopub.status.idle": "2022-03-22T20:09:43.123684Z",
     "shell.execute_reply": "2022-03-22T20:09:43.124126Z"
    },
    "papermill": {
     "duration": 0.04281,
     "end_time": "2022-03-22T20:09:43.124249",
     "exception": false,
     "start_time": "2022-03-22T20:09:43.081439",
     "status": "completed"
    },
    "tags": []
   },
   "outputs": [],
   "source": [
    "nn_learner = Learner(loss, model_nn, opt, config.num_epochs)\n",
    "acc_nn = ClfCallback(nn_learner, config.bs, training_data_x , testing_data_x, training_data_y, testing_data_y)\n",
    "nn_learner.set_callbacks([acc_nn])"
   ]
  },
  {
   "cell_type": "code",
   "execution_count": 21,
   "id": "877b6cc7",
   "metadata": {
    "execution": {
     "iopub.execute_input": "2022-03-22T20:09:43.182205Z",
     "iopub.status.busy": "2022-03-22T20:09:43.181664Z",
     "iopub.status.idle": "2022-03-22T20:09:43.193125Z",
     "shell.execute_reply": "2022-03-22T20:09:43.193557Z"
    },
    "papermill": {
     "duration": 0.042125,
     "end_time": "2022-03-22T20:09:43.193678",
     "exception": false,
     "start_time": "2022-03-22T20:09:43.151553",
     "status": "completed"
    },
    "tags": []
   },
   "outputs": [],
   "source": [
    "lr_learner = Learner(loss, model_lr, opt, config.num_epochs)\n",
    "acc_lr = ClfCallback(lr_learner, config.bs, training_data_x , testing_data_x, training_data_y, testing_data_y)\n",
    "lr_learner.set_callbacks([acc_lr])"
   ]
  },
  {
   "cell_type": "code",
   "execution_count": 22,
   "id": "d9b133c3",
   "metadata": {
    "execution": {
     "iopub.execute_input": "2022-03-22T20:09:43.252309Z",
     "iopub.status.busy": "2022-03-22T20:09:43.251798Z",
     "iopub.status.idle": "2022-03-22T20:10:58.346209Z",
     "shell.execute_reply": "2022-03-22T20:10:58.346949Z"
    },
    "papermill": {
     "duration": 75.125716,
     "end_time": "2022-03-22T20:10:58.347098",
     "exception": false,
     "start_time": "2022-03-22T20:09:43.221382",
     "status": "completed"
    },
    "tags": []
   },
   "outputs": [
    {
     "name": "stdout",
     "output_type": "stream",
     "text": [
      "Epoch 0, Loss 0.2513\n",
      "Training Accuracy: 0.4972, Testing Accuracy: 0.4960\n",
      "\n"
     ]
    },
    {
     "name": "stdout",
     "output_type": "stream",
     "text": [
      "Epoch 10, Loss 0.228\n",
      "Training Accuracy: 0.8634, Testing Accuracy: 0.8800\n",
      "\n"
     ]
    },
    {
     "name": "stdout",
     "output_type": "stream",
     "text": [
      "Epoch 20, Loss 0.1485\n",
      "Training Accuracy: 0.9011, Testing Accuracy: 0.9083\n",
      "\n"
     ]
    },
    {
     "name": "stdout",
     "output_type": "stream",
     "text": [
      "Epoch 30, Loss 0.0785\n",
      "Training Accuracy: 0.9231, Testing Accuracy: 0.9330\n",
      "\n"
     ]
    },
    {
     "name": "stdout",
     "output_type": "stream",
     "text": [
      "Epoch 40, Loss 0.056\n",
      "Training Accuracy: 0.9405, Testing Accuracy: 0.9481\n",
      "\n"
     ]
    },
    {
     "name": "stdout",
     "output_type": "stream",
     "text": [
      "Epoch 50, Loss 0.0457\n",
      "Training Accuracy: 0.9485, Testing Accuracy: 0.9536\n",
      "\n"
     ]
    },
    {
     "name": "stdout",
     "output_type": "stream",
     "text": [
      "Epoch 60, Loss 0.04\n",
      "Training Accuracy: 0.9541, Testing Accuracy: 0.9582\n",
      "\n"
     ]
    },
    {
     "name": "stdout",
     "output_type": "stream",
     "text": [
      "Epoch 70, Loss 0.0364\n",
      "Training Accuracy: 0.9579, Testing Accuracy: 0.9607\n",
      "\n"
     ]
    },
    {
     "name": "stdout",
     "output_type": "stream",
     "text": [
      "Epoch 80, Loss 0.0339\n",
      "Training Accuracy: 0.9608, Testing Accuracy: 0.9652\n",
      "\n"
     ]
    },
    {
     "name": "stdout",
     "output_type": "stream",
     "text": [
      "Epoch 90, Loss 0.032\n",
      "Training Accuracy: 0.9624, Testing Accuracy: 0.9662\n",
      "\n"
     ]
    },
    {
     "name": "stdout",
     "output_type": "stream",
     "text": [
      "Epoch 100, Loss 0.0304\n",
      "Training Accuracy: 0.9637, Testing Accuracy: 0.9672\n",
      "\n"
     ]
    },
    {
     "name": "stdout",
     "output_type": "stream",
     "text": [
      "Epoch 110, Loss 0.0292\n",
      "Training Accuracy: 0.9653, Testing Accuracy: 0.9682\n",
      "\n"
     ]
    },
    {
     "name": "stdout",
     "output_type": "stream",
     "text": [
      "Epoch 120, Loss 0.0282\n",
      "Training Accuracy: 0.9660, Testing Accuracy: 0.9708\n",
      "\n"
     ]
    },
    {
     "name": "stdout",
     "output_type": "stream",
     "text": [
      "Epoch 130, Loss 0.0272\n",
      "Training Accuracy: 0.9676, Testing Accuracy: 0.9713\n",
      "\n"
     ]
    },
    {
     "name": "stdout",
     "output_type": "stream",
     "text": [
      "Epoch 140, Loss 0.0264\n",
      "Training Accuracy: 0.9689, Testing Accuracy: 0.9708\n",
      "\n"
     ]
    },
    {
     "name": "stdout",
     "output_type": "stream",
     "text": [
      "Epoch 150, Loss 0.0257\n",
      "Training Accuracy: 0.9705, Testing Accuracy: 0.9703\n",
      "\n"
     ]
    },
    {
     "name": "stdout",
     "output_type": "stream",
     "text": [
      "Epoch 160, Loss 0.025\n",
      "Training Accuracy: 0.9714, Testing Accuracy: 0.9718\n",
      "\n"
     ]
    },
    {
     "name": "stdout",
     "output_type": "stream",
     "text": [
      "Epoch 170, Loss 0.0244\n",
      "Training Accuracy: 0.9717, Testing Accuracy: 0.9723\n",
      "\n"
     ]
    },
    {
     "name": "stdout",
     "output_type": "stream",
     "text": [
      "Epoch 180, Loss 0.0239\n",
      "Training Accuracy: 0.9725, Testing Accuracy: 0.9723\n",
      "\n"
     ]
    },
    {
     "name": "stdout",
     "output_type": "stream",
     "text": [
      "Epoch 190, Loss 0.0233\n",
      "Training Accuracy: 0.9730, Testing Accuracy: 0.9718\n",
      "\n"
     ]
    },
    {
     "name": "stdout",
     "output_type": "stream",
     "text": [
      "Epoch 200, Loss 0.0228\n",
      "Training Accuracy: 0.9735, Testing Accuracy: 0.9723\n",
      "\n"
     ]
    },
    {
     "name": "stdout",
     "output_type": "stream",
     "text": [
      "Epoch 210, Loss 0.0224\n",
      "Training Accuracy: 0.9740, Testing Accuracy: 0.9723\n",
      "\n"
     ]
    },
    {
     "name": "stdout",
     "output_type": "stream",
     "text": [
      "Epoch 220, Loss 0.0219\n",
      "Training Accuracy: 0.9744, Testing Accuracy: 0.9723\n",
      "\n"
     ]
    },
    {
     "name": "stdout",
     "output_type": "stream",
     "text": [
      "Epoch 230, Loss 0.0215\n",
      "Training Accuracy: 0.9750, Testing Accuracy: 0.9718\n",
      "\n"
     ]
    },
    {
     "name": "stdout",
     "output_type": "stream",
     "text": [
      "Epoch 240, Loss 0.0211\n",
      "Training Accuracy: 0.9756, Testing Accuracy: 0.9718\n",
      "\n"
     ]
    },
    {
     "data": {
      "text/plain": [
       "0.0004227509447204297"
      ]
     },
     "execution_count": 22,
     "metadata": {},
     "output_type": "execute_result"
    }
   ],
   "source": [
    "nn_learner.train_loop(dl)"
   ]
  },
  {
   "cell_type": "code",
   "execution_count": 23,
   "id": "e0163366",
   "metadata": {
    "execution": {
     "iopub.execute_input": "2022-03-22T20:10:58.426586Z",
     "iopub.status.busy": "2022-03-22T20:10:58.426060Z",
     "iopub.status.idle": "2022-03-22T20:11:12.181095Z",
     "shell.execute_reply": "2022-03-22T20:11:12.181788Z"
    },
    "papermill": {
     "duration": 13.799651,
     "end_time": "2022-03-22T20:11:12.181938",
     "exception": false,
     "start_time": "2022-03-22T20:10:58.382287",
     "status": "completed"
    },
    "tags": []
   },
   "outputs": [
    {
     "name": "stdout",
     "output_type": "stream",
     "text": [
      "Epoch 0, Loss 0.2676\n",
      "Training Accuracy: 0.5827, Testing Accuracy: 0.6099\n",
      "\n"
     ]
    },
    {
     "name": "stdout",
     "output_type": "stream",
     "text": [
      "Epoch 10, Loss 0.1074\n",
      "Training Accuracy: 0.9021, Testing Accuracy: 0.9199\n",
      "\n"
     ]
    },
    {
     "name": "stdout",
     "output_type": "stream",
     "text": [
      "Epoch 20, Loss 0.0817\n",
      "Training Accuracy: 0.9245, Testing Accuracy: 0.9400\n",
      "\n"
     ]
    },
    {
     "name": "stdout",
     "output_type": "stream",
     "text": [
      "Epoch 30, Loss 0.07\n",
      "Training Accuracy: 0.9331, Testing Accuracy: 0.9476\n",
      "\n"
     ]
    },
    {
     "name": "stdout",
     "output_type": "stream",
     "text": [
      "Epoch 40, Loss 0.063\n",
      "Training Accuracy: 0.9392, Testing Accuracy: 0.9531\n",
      "\n"
     ]
    },
    {
     "name": "stdout",
     "output_type": "stream",
     "text": [
      "Epoch 50, Loss 0.0583\n",
      "Training Accuracy: 0.9437, Testing Accuracy: 0.9561\n",
      "\n"
     ]
    },
    {
     "name": "stdout",
     "output_type": "stream",
     "text": [
      "Epoch 60, Loss 0.0548\n",
      "Training Accuracy: 0.9459, Testing Accuracy: 0.9577\n",
      "\n"
     ]
    },
    {
     "name": "stdout",
     "output_type": "stream",
     "text": [
      "Epoch 70, Loss 0.0522\n",
      "Training Accuracy: 0.9478, Testing Accuracy: 0.9597\n",
      "\n"
     ]
    },
    {
     "name": "stdout",
     "output_type": "stream",
     "text": [
      "Epoch 80, Loss 0.05\n",
      "Training Accuracy: 0.9493, Testing Accuracy: 0.9597\n",
      "\n"
     ]
    },
    {
     "name": "stdout",
     "output_type": "stream",
     "text": [
      "Epoch 90, Loss 0.0483\n",
      "Training Accuracy: 0.9501, Testing Accuracy: 0.9617\n",
      "\n"
     ]
    },
    {
     "name": "stdout",
     "output_type": "stream",
     "text": [
      "Epoch 100, Loss 0.0468\n",
      "Training Accuracy: 0.9515, Testing Accuracy: 0.9622\n",
      "\n"
     ]
    },
    {
     "name": "stdout",
     "output_type": "stream",
     "text": [
      "Epoch 110, Loss 0.0455\n",
      "Training Accuracy: 0.9523, Testing Accuracy: 0.9637\n",
      "\n"
     ]
    },
    {
     "name": "stdout",
     "output_type": "stream",
     "text": [
      "Epoch 120, Loss 0.0444\n",
      "Training Accuracy: 0.9533, Testing Accuracy: 0.9637\n",
      "\n"
     ]
    },
    {
     "name": "stdout",
     "output_type": "stream",
     "text": [
      "Epoch 130, Loss 0.0434\n",
      "Training Accuracy: 0.9540, Testing Accuracy: 0.9637\n",
      "\n"
     ]
    },
    {
     "name": "stdout",
     "output_type": "stream",
     "text": [
      "Epoch 140, Loss 0.0426\n",
      "Training Accuracy: 0.9548, Testing Accuracy: 0.9637\n",
      "\n"
     ]
    },
    {
     "name": "stdout",
     "output_type": "stream",
     "text": [
      "Epoch 150, Loss 0.0418\n",
      "Training Accuracy: 0.9562, Testing Accuracy: 0.9652\n",
      "\n"
     ]
    },
    {
     "name": "stdout",
     "output_type": "stream",
     "text": [
      "Epoch 160, Loss 0.0411\n",
      "Training Accuracy: 0.9567, Testing Accuracy: 0.9672\n",
      "\n"
     ]
    },
    {
     "name": "stdout",
     "output_type": "stream",
     "text": [
      "Epoch 170, Loss 0.0405\n",
      "Training Accuracy: 0.9574, Testing Accuracy: 0.9672\n",
      "\n"
     ]
    },
    {
     "name": "stdout",
     "output_type": "stream",
     "text": [
      "Epoch 180, Loss 0.0399\n",
      "Training Accuracy: 0.9578, Testing Accuracy: 0.9672\n",
      "\n"
     ]
    },
    {
     "name": "stdout",
     "output_type": "stream",
     "text": [
      "Epoch 190, Loss 0.0394\n",
      "Training Accuracy: 0.9581, Testing Accuracy: 0.9672\n",
      "\n"
     ]
    },
    {
     "name": "stdout",
     "output_type": "stream",
     "text": [
      "Epoch 200, Loss 0.0389\n",
      "Training Accuracy: 0.9584, Testing Accuracy: 0.9677\n",
      "\n"
     ]
    },
    {
     "name": "stdout",
     "output_type": "stream",
     "text": [
      "Epoch 210, Loss 0.0384\n",
      "Training Accuracy: 0.9587, Testing Accuracy: 0.9682\n",
      "\n"
     ]
    },
    {
     "name": "stdout",
     "output_type": "stream",
     "text": [
      "Epoch 220, Loss 0.038\n",
      "Training Accuracy: 0.9590, Testing Accuracy: 0.9688\n",
      "\n"
     ]
    },
    {
     "name": "stdout",
     "output_type": "stream",
     "text": [
      "Epoch 230, Loss 0.0376\n",
      "Training Accuracy: 0.9593, Testing Accuracy: 0.9688\n",
      "\n"
     ]
    },
    {
     "name": "stdout",
     "output_type": "stream",
     "text": [
      "Epoch 240, Loss 0.0372\n",
      "Training Accuracy: 0.9594, Testing Accuracy: 0.9688\n",
      "\n"
     ]
    },
    {
     "data": {
      "text/plain": [
       "0.0227818162636353"
      ]
     },
     "execution_count": 23,
     "metadata": {},
     "output_type": "execute_result"
    }
   ],
   "source": [
    "lr_learner.train_loop(dl)"
   ]
  },
  {
   "cell_type": "code",
   "execution_count": 24,
   "id": "ca410940",
   "metadata": {
    "execution": {
     "iopub.execute_input": "2022-03-22T20:11:12.279387Z",
     "iopub.status.busy": "2022-03-22T20:11:12.278835Z",
     "iopub.status.idle": "2022-03-22T20:11:12.503176Z",
     "shell.execute_reply": "2022-03-22T20:11:12.503576Z"
    },
    "papermill": {
     "duration": 0.278891,
     "end_time": "2022-03-22T20:11:12.503719",
     "exception": false,
     "start_time": "2022-03-22T20:11:12.224828",
     "status": "completed"
    },
    "tags": []
   },
   "outputs": [
    {
     "data": {
      "text/plain": [
       "<matplotlib.legend.Legend at 0x7f90d19beda0>"
      ]
     },
     "execution_count": 24,
     "metadata": {},
     "output_type": "execute_result"
    },
    {
     "data": {
      "image/png": "[encoded data removed]",
      "text/plain": [
       "<Figure size 1080x720 with 1 Axes>"
      ]
     },
     "metadata": {
      "needs_background": "light"
     },
     "output_type": "display_data"
    }
   ],
   "source": [
    "#comparing the results of NN and LR\n",
    "plt.figure(figsize=(15,10))\n",
    "\n",
    "# Neural Network plots\n",
    "plt.plot(acc_nn.accuracies, 'r-', label = \"Training Accuracies - NN\")\n",
    "plt.plot(acc_nn.test_accuracies, 'g-', label = \"Testing Accuracies - NN\")\n",
    "\n",
    "# Logistic Regression plots\n",
    "plt.plot(acc_lr.accuracies, 'k-', label = \"Training Accuracies - LR\")\n",
    "plt.plot(acc_lr.test_accuracies, 'b-', label = \"Testing Accuracies - LR\")\n",
    "plt.legend()"
   ]
  },
  {
   "cell_type": "markdown",
   "id": "80dfb35c",
   "metadata": {
    "papermill": {
     "duration": 0.042408,
     "end_time": "2022-03-22T20:11:12.588857",
     "exception": false,
     "start_time": "2022-03-22T20:11:12.546449",
     "status": "completed"
    },
    "tags": []
   },
   "source": [
    "#### Plotting the outputs of this layer of the NN.\n"
   ]
  },
  {
   "cell_type": "code",
   "execution_count": 25,
   "id": "45eb2ff5",
   "metadata": {
    "execution": {
     "iopub.execute_input": "2022-03-22T20:11:12.681799Z",
     "iopub.status.busy": "2022-03-22T20:11:12.681267Z",
     "iopub.status.idle": "2022-03-22T20:11:12.698530Z",
     "shell.execute_reply": "2022-03-22T20:11:12.698988Z"
    },
    "papermill": {
     "duration": 0.067424,
     "end_time": "2022-03-22T20:11:12.699129",
     "exception": false,
     "start_time": "2022-03-22T20:11:12.631705",
     "status": "completed"
    },
    "tags": []
   },
   "outputs": [],
   "source": [
    "new_model = Model(layers[:-2])\n",
    "testing_plot = new_model(testing_data_x)"
   ]
  },
  {
   "cell_type": "code",
   "execution_count": 26,
   "id": "4c0a5485",
   "metadata": {
    "execution": {
     "iopub.execute_input": "2022-03-22T20:11:12.799531Z",
     "iopub.status.busy": "2022-03-22T20:11:12.790584Z",
     "iopub.status.idle": "2022-03-22T20:11:12.988140Z",
     "shell.execute_reply": "2022-03-22T20:11:12.987679Z"
    },
    "papermill": {
     "duration": 0.246094,
     "end_time": "2022-03-22T20:11:12.988260",
     "exception": false,
     "start_time": "2022-03-22T20:11:12.742166",
     "status": "completed"
    },
    "tags": []
   },
   "outputs": [
    {
     "data": {
      "text/plain": [
       "Text(0.5, 1.0, 'Outputs')"
      ]
     },
     "execution_count": 26,
     "metadata": {},
     "output_type": "execute_result"
    },
    {
     "data": {
      "image/png": "[encoded data removed]",
      "text/plain": [
       "<Figure size 576x504 with 1 Axes>"
      ]
     },
     "metadata": {
      "needs_background": "light"
     },
     "output_type": "display_data"
    }
   ],
   "source": [
    "# Plotting the scatter plot of points and color coding by class\n",
    "plt.figure(figsize=(8,7))\n",
    "plt.scatter(testing_plot[:,0], testing_plot[:,1], alpha = 0.1, c = y_test.ravel());\n",
    "plt.title('Outputs')"
   ]
  },
  {
   "cell_type": "markdown",
   "id": "a74fcf8f",
   "metadata": {
    "papermill": {
     "duration": 0.04457,
     "end_time": "2022-03-22T20:11:13.077676",
     "exception": false,
     "start_time": "2022-03-22T20:11:13.033106",
     "status": "completed"
    },
    "tags": []
   },
   "source": [
    "Probability contours"
   ]
  },
  {
   "cell_type": "code",
   "execution_count": 27,
   "id": "d0afc8e3",
   "metadata": {
    "execution": {
     "iopub.execute_input": "2022-03-22T20:11:13.180492Z",
     "iopub.status.busy": "2022-03-22T20:11:13.174826Z",
     "iopub.status.idle": "2022-03-22T20:11:13.186584Z",
     "shell.execute_reply": "2022-03-22T20:11:13.186997Z"
    },
    "papermill": {
     "duration": 0.06471,
     "end_time": "2022-03-22T20:11:13.187132",
     "exception": false,
     "start_time": "2022-03-22T20:11:13.122422",
     "status": "completed"
    },
    "tags": []
   },
   "outputs": [],
   "source": [
    "model_prob = Model(layers[-2:]) "
   ]
  },
  {
   "cell_type": "code",
   "execution_count": 28,
   "id": "9b96e238",
   "metadata": {
    "execution": {
     "iopub.execute_input": "2022-03-22T20:11:13.323197Z",
     "iopub.status.busy": "2022-03-22T20:11:13.320561Z",
     "iopub.status.idle": "2022-03-22T20:11:13.332149Z",
     "shell.execute_reply": "2022-03-22T20:11:13.332584Z"
    },
    "papermill": {
     "duration": 0.069874,
     "end_time": "2022-03-22T20:11:13.332720",
     "exception": false,
     "start_time": "2022-03-22T20:11:13.262846",
     "status": "completed"
    },
    "tags": []
   },
   "outputs": [],
   "source": [
    "#creating the x and y ranges according to the above generated plot.\n",
    "x_range = np.linspace(-4, 1, 100) \n",
    "y_range = np.linspace(-6, 6, 100) \n",
    "x_grid, y_grid = np.meshgrid(x_range, y_range) # x_grid and y_grig are of size 100 X 100\n",
    "\n",
    "# converting x_grid and y_grid to continuous arrays\n",
    "x_gridflat = np.ravel(x_grid)\n",
    "y_gridflat = np.ravel(y_grid)\n",
    "\n",
    "# The last layer of the current model takes two columns as input. Hence transpose of np.vstack() is required.\n",
    "X = np.vstack((x_gridflat, y_gridflat)).T\n",
    "\n",
    "prob_contour = model_prob(X).reshape(100,100) "
   ]
  },
  {
   "cell_type": "code",
   "execution_count": 29,
   "id": "da72499a",
   "metadata": {
    "execution": {
     "iopub.execute_input": "2022-03-22T20:11:13.430257Z",
     "iopub.status.busy": "2022-03-22T20:11:13.429688Z",
     "iopub.status.idle": "2022-03-22T20:11:13.671980Z",
     "shell.execute_reply": "2022-03-22T20:11:13.672451Z"
    },
    "papermill": {
     "duration": 0.294799,
     "end_time": "2022-03-22T20:11:13.672606",
     "exception": false,
     "start_time": "2022-03-22T20:11:13.377807",
     "status": "completed"
    },
    "tags": []
   },
   "outputs": [
    {
     "data": {
      "image/png": "[encoded data removed]",
      "text/plain": [
       "<Figure size 720x648 with 1 Axes>"
      ]
     },
     "metadata": {
      "needs_background": "light"
     },
     "output_type": "display_data"
    }
   ],
   "source": [
    "plt.figure(figsize=(10,9))\n",
    "plt.scatter(testing_plot[:,0], testing_plot[:,1], alpha = 0.1, c = y_test.ravel())\n",
    "contours = plt.contour(x_grid,y_grid,prob_contour)\n",
    "plt.title('Probability Contours')\n",
    "plt.clabel(contours, inline = True );"
   ]
  },
  {
   "cell_type": "code",
   "execution_count": null,
   "id": "e81b4ac7",
   "metadata": {
    "papermill": {
     "duration": 0.046878,
     "end_time": "2022-03-22T20:11:13.767241",
     "exception": false,
     "start_time": "2022-03-22T20:11:13.720363",
     "status": "completed"
    },
    "tags": []
   },
   "outputs": [],
   "source": []
  }
 ],
 "metadata": {
  "kernelspec": {
   "display_name": "Python 3",
   "language": "python",
   "name": "python3"
  },
  "language_info": {
   "codemirror_mode": {
    "name": "ipython",
    "version": 3
   },
   "file_extension": ".py",
   "mimetype": "text/x-python",
   "name": "python",
   "nbconvert_exporter": "python",
   "pygments_lexer": "ipython3",
   "version": "3.6.15"
  },
  "papermill": {
   "default_parameters": {},
   "duration": 96.956782,
   "end_time": "2022-03-22T20:11:14.232768",
   "environment_variables": {},
   "exception": null,
   "input_path": "2020-08-11-part2.ipynb",
   "output_path": "2020-08-11-part2.ipynb",
   "parameters": {},
   "start_time": "2022-03-22T20:09:37.275986",
   "version": "2.3.3"
  }
 },
 "nbformat": 4,
 "nbformat_minor": 5
}