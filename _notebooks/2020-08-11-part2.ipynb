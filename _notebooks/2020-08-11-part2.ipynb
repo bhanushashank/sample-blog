{
 "cells": [
  {
   "cell_type": "markdown",
   "id": "98380cd3",
   "metadata": {
    "papermill": {
     "duration": 0.034928,
     "end_time": "2022-05-28T00:38:23.798854",
     "exception": false,
     "start_time": "2022-05-28T00:38:23.763926",
     "status": "completed"
    },
    "tags": []
   },
   "source": [
    "# Distinguish Your Own Digits (DYOD)"
   ]
  },
  {
   "cell_type": "markdown",
   "id": "ef31240d",
   "metadata": {
    "papermill": {
     "duration": 0.023998,
     "end_time": "2022-05-28T00:38:23.849011",
     "exception": false,
     "start_time": "2022-05-28T00:38:23.825013",
     "status": "completed"
    },
    "tags": []
   },
   "source": [
    "You are going to write a classifier that distinguishes between the number 3 and number 8."
   ]
  },
  {
   "cell_type": "code",
   "execution_count": 1,
   "id": "b15c8646",
   "metadata": {
    "execution": {
     "iopub.execute_input": "2022-05-28T00:38:23.907291Z",
     "iopub.status.busy": "2022-05-28T00:38:23.906661Z",
     "iopub.status.idle": "2022-05-28T00:38:23.917718Z",
     "shell.execute_reply": "2022-05-28T00:38:23.917193Z"
    },
    "papermill": {
     "duration": 0.044874,
     "end_time": "2022-05-28T00:38:23.917858",
     "exception": false,
     "start_time": "2022-05-28T00:38:23.872984",
     "status": "completed"
    },
    "tags": []
   },
   "outputs": [],
   "source": [
    "%load_ext autoreload\n",
    "%autoreload 2"
   ]
  },
  {
   "cell_type": "code",
   "execution_count": 2,
   "id": "22ef38dc",
   "metadata": {
    "execution": {
     "iopub.execute_input": "2022-05-28T00:38:23.969972Z",
     "iopub.status.busy": "2022-05-28T00:38:23.969360Z",
     "iopub.status.idle": "2022-05-28T00:38:24.515625Z",
     "shell.execute_reply": "2022-05-28T00:38:24.515034Z"
    },
    "papermill": {
     "duration": 0.573958,
     "end_time": "2022-05-28T00:38:24.515752",
     "exception": false,
     "start_time": "2022-05-28T00:38:23.941794",
     "status": "completed"
    },
    "tags": []
   },
   "outputs": [],
   "source": [
    "%matplotlib inline\n",
    "import numpy as np\n",
    "import matplotlib.pyplot as plt\n",
    "import pandas as pd"
   ]
  },
  {
   "cell_type": "markdown",
   "id": "ba036198",
   "metadata": {
    "papermill": {
     "duration": 0.023717,
     "end_time": "2022-05-28T00:38:24.563251",
     "exception": false,
     "start_time": "2022-05-28T00:38:24.539534",
     "status": "completed"
    },
    "tags": []
   },
   "source": [
    "From the command line run `pip install mnist`. This is a library that will help you bring down the mnist dataset. If you run this from a notebook, you need to put  `!pip install mnist` in a cell by itself."
   ]
  },
  {
   "cell_type": "code",
   "execution_count": 3,
   "id": "bb6ad8a1",
   "metadata": {
    "execution": {
     "iopub.execute_input": "2022-05-28T00:38:24.616020Z",
     "iopub.status.busy": "2022-05-28T00:38:24.615404Z",
     "iopub.status.idle": "2022-05-28T00:38:26.340795Z",
     "shell.execute_reply": "2022-05-28T00:38:26.339929Z"
    },
    "papermill": {
     "duration": 1.753764,
     "end_time": "2022-05-28T00:38:26.340927",
     "exception": false,
     "start_time": "2022-05-28T00:38:24.587163",
     "status": "completed"
    },
    "tags": []
   },
   "outputs": [
    {
     "name": "stdout",
     "output_type": "stream",
     "text": [
      "Collecting mnist\r\n"
     ]
    },
    {
     "name": "stdout",
     "output_type": "stream",
     "text": [
      "  Downloading mnist-0.2.2-py2.py3-none-any.whl (3.5 kB)\r\n",
      "Requirement already satisfied: numpy in /opt/hostedtoolcache/Python/3.6.15/x64/lib/python3.6/site-packages (from mnist) (1.19.5)\r\n"
     ]
    },
    {
     "name": "stdout",
     "output_type": "stream",
     "text": [
      "Installing collected packages: mnist\r\n"
     ]
    },
    {
     "name": "stdout",
     "output_type": "stream",
     "text": [
      "Successfully installed mnist-0.2.2\r\n"
     ]
    }
   ],
   "source": [
    "!pip install mnist"
   ]
  },
  {
   "cell_type": "markdown",
   "id": "69df9c9a",
   "metadata": {
    "papermill": {
     "duration": 0.025822,
     "end_time": "2022-05-28T00:38:26.394965",
     "exception": false,
     "start_time": "2022-05-28T00:38:26.369143",
     "status": "completed"
    },
    "tags": []
   },
   "source": [
    "## Preparing the Data"
   ]
  },
  {
   "cell_type": "code",
   "execution_count": 4,
   "id": "7f69d806",
   "metadata": {
    "execution": {
     "iopub.execute_input": "2022-05-28T00:38:26.462241Z",
     "iopub.status.busy": "2022-05-28T00:38:26.453855Z",
     "iopub.status.idle": "2022-05-28T00:38:26.468102Z",
     "shell.execute_reply": "2022-05-28T00:38:26.467634Z"
    },
    "papermill": {
     "duration": 0.047197,
     "end_time": "2022-05-28T00:38:26.468221",
     "exception": false,
     "start_time": "2022-05-28T00:38:26.421024",
     "status": "completed"
    },
    "tags": []
   },
   "outputs": [],
   "source": [
    "import mnist"
   ]
  },
  {
   "cell_type": "code",
   "execution_count": 5,
   "id": "a411e44f",
   "metadata": {
    "execution": {
     "iopub.execute_input": "2022-05-28T00:38:26.523942Z",
     "iopub.status.busy": "2022-05-28T00:38:26.523357Z",
     "iopub.status.idle": "2022-05-28T00:38:27.032277Z",
     "shell.execute_reply": "2022-05-28T00:38:27.032857Z"
    },
    "papermill": {
     "duration": 0.539258,
     "end_time": "2022-05-28T00:38:27.033015",
     "exception": false,
     "start_time": "2022-05-28T00:38:26.493757",
     "status": "completed"
    },
    "tags": []
   },
   "outputs": [],
   "source": [
    "train_images = mnist.train_images()\n",
    "train_labels = mnist.train_labels()"
   ]
  },
  {
   "cell_type": "code",
   "execution_count": 6,
   "id": "dceab3a5",
   "metadata": {
    "execution": {
     "iopub.execute_input": "2022-05-28T00:38:27.087632Z",
     "iopub.status.busy": "2022-05-28T00:38:27.087033Z",
     "iopub.status.idle": "2022-05-28T00:38:27.103244Z",
     "shell.execute_reply": "2022-05-28T00:38:27.102761Z"
    },
    "papermill": {
     "duration": 0.044912,
     "end_time": "2022-05-28T00:38:27.103357",
     "exception": false,
     "start_time": "2022-05-28T00:38:27.058445",
     "status": "completed"
    },
    "tags": []
   },
   "outputs": [
    {
     "data": {
      "text/plain": [
       "((60000, 28, 28), (60000,))"
      ]
     },
     "execution_count": 6,
     "metadata": {},
     "output_type": "execute_result"
    }
   ],
   "source": [
    "train_images.shape, train_labels.shape"
   ]
  },
  {
   "cell_type": "code",
   "execution_count": 7,
   "id": "f50dc2bb",
   "metadata": {
    "execution": {
     "iopub.execute_input": "2022-05-28T00:38:27.157463Z",
     "iopub.status.busy": "2022-05-28T00:38:27.156851Z",
     "iopub.status.idle": "2022-05-28T00:38:27.323522Z",
     "shell.execute_reply": "2022-05-28T00:38:27.322976Z"
    },
    "papermill": {
     "duration": 0.195293,
     "end_time": "2022-05-28T00:38:27.323680",
     "exception": false,
     "start_time": "2022-05-28T00:38:27.128387",
     "status": "completed"
    },
    "tags": []
   },
   "outputs": [],
   "source": [
    "test_images = mnist.test_images()\n",
    "test_labels = mnist.test_labels()"
   ]
  },
  {
   "cell_type": "code",
   "execution_count": 8,
   "id": "fc38cf1b",
   "metadata": {
    "execution": {
     "iopub.execute_input": "2022-05-28T00:38:27.378443Z",
     "iopub.status.busy": "2022-05-28T00:38:27.377855Z",
     "iopub.status.idle": "2022-05-28T00:38:27.391823Z",
     "shell.execute_reply": "2022-05-28T00:38:27.392375Z"
    },
    "papermill": {
     "duration": 0.043608,
     "end_time": "2022-05-28T00:38:27.392512",
     "exception": false,
     "start_time": "2022-05-28T00:38:27.348904",
     "status": "completed"
    },
    "tags": []
   },
   "outputs": [
    {
     "data": {
      "text/plain": [
       "((10000, 28, 28), (10000,))"
      ]
     },
     "execution_count": 8,
     "metadata": {},
     "output_type": "execute_result"
    }
   ],
   "source": [
    "test_images.shape, test_labels.shape"
   ]
  },
  {
   "cell_type": "code",
   "execution_count": 9,
   "id": "f9ed8fe0",
   "metadata": {
    "execution": {
     "iopub.execute_input": "2022-05-28T00:38:27.449457Z",
     "iopub.status.busy": "2022-05-28T00:38:27.448842Z",
     "iopub.status.idle": "2022-05-28T00:38:27.596618Z",
     "shell.execute_reply": "2022-05-28T00:38:27.597071Z"
    },
    "papermill": {
     "duration": 0.179314,
     "end_time": "2022-05-28T00:38:27.597213",
     "exception": false,
     "start_time": "2022-05-28T00:38:27.417899",
     "status": "completed"
    },
    "tags": []
   },
   "outputs": [
    {
     "name": "stdout",
     "output_type": "stream",
     "text": [
      "2\n"
     ]
    },
    {
     "data": {
      "text/plain": [
       "<matplotlib.image.AxesImage at 0x7fb7b4363eb8>"
      ]
     },
     "execution_count": 9,
     "metadata": {},
     "output_type": "execute_result"
    },
    {
     "data": {
      "image/png": "[encoded data removed]",
      "text/plain": [
       "<Figure size 432x288 with 1 Axes>"
      ]
     },
     "metadata": {
      "needs_background": "light"
     },
     "output_type": "display_data"
    }
   ],
   "source": [
    "image_index = 7776 # You may select anything up to 60,000\n",
    "print(train_labels[image_index]) \n",
    "plt.imshow(train_images[image_index], cmap='Greys')"
   ]
  },
  {
   "cell_type": "markdown",
   "id": "a8d2388d",
   "metadata": {
    "papermill": {
     "duration": 0.026204,
     "end_time": "2022-05-28T00:38:27.649894",
     "exception": false,
     "start_time": "2022-05-28T00:38:27.623690",
     "status": "completed"
    },
    "tags": []
   },
   "source": [
    "## Filter data to get 3 and 8 out"
   ]
  },
  {
   "cell_type": "code",
   "execution_count": 10,
   "id": "776f7fc7",
   "metadata": {
    "execution": {
     "iopub.execute_input": "2022-05-28T00:38:27.707350Z",
     "iopub.status.busy": "2022-05-28T00:38:27.706752Z",
     "iopub.status.idle": "2022-05-28T00:38:27.725718Z",
     "shell.execute_reply": "2022-05-28T00:38:27.724930Z"
    },
    "papermill": {
     "duration": 0.049748,
     "end_time": "2022-05-28T00:38:27.725943",
     "exception": false,
     "start_time": "2022-05-28T00:38:27.676195",
     "status": "completed"
    },
    "tags": []
   },
   "outputs": [],
   "source": [
    "train_filter = np.where((train_labels == 3 ) | (train_labels == 8))\n",
    "test_filter = np.where((test_labels == 3) | (test_labels == 8))\n",
    "X_train, y_train = train_images[train_filter], train_labels[train_filter]\n",
    "X_test, y_test = test_images[test_filter], test_labels[test_filter]"
   ]
  },
  {
   "cell_type": "markdown",
   "id": "948f0b7e",
   "metadata": {
    "papermill": {
     "duration": 0.027258,
     "end_time": "2022-05-28T00:38:27.780214",
     "exception": false,
     "start_time": "2022-05-28T00:38:27.752956",
     "status": "completed"
    },
    "tags": []
   },
   "source": [
    "We normalize the pizel values in the 0 to 1 range"
   ]
  },
  {
   "cell_type": "code",
   "execution_count": 11,
   "id": "ee4c2166",
   "metadata": {
    "execution": {
     "iopub.execute_input": "2022-05-28T00:38:27.840406Z",
     "iopub.status.busy": "2022-05-28T00:38:27.839815Z",
     "iopub.status.idle": "2022-05-28T00:38:27.888772Z",
     "shell.execute_reply": "2022-05-28T00:38:27.888190Z"
    },
    "papermill": {
     "duration": 0.080084,
     "end_time": "2022-05-28T00:38:27.888914",
     "exception": false,
     "start_time": "2022-05-28T00:38:27.808830",
     "status": "completed"
    },
    "tags": []
   },
   "outputs": [],
   "source": [
    "X_train = X_train/255.\n",
    "X_test = X_test/255."
   ]
  },
  {
   "cell_type": "markdown",
   "id": "ddcf4fab",
   "metadata": {
    "papermill": {
     "duration": 0.026545,
     "end_time": "2022-05-28T00:38:27.942555",
     "exception": false,
     "start_time": "2022-05-28T00:38:27.916010",
     "status": "completed"
    },
    "tags": []
   },
   "source": [
    "And setup the labels as 1 (when the digit is 3) and 0 (when the digit is 8)"
   ]
  },
  {
   "cell_type": "code",
   "execution_count": 12,
   "id": "7dc908f2",
   "metadata": {
    "execution": {
     "iopub.execute_input": "2022-05-28T00:38:27.999448Z",
     "iopub.status.busy": "2022-05-28T00:38:27.998521Z",
     "iopub.status.idle": "2022-05-28T00:38:28.012036Z",
     "shell.execute_reply": "2022-05-28T00:38:28.012493Z"
    },
    "papermill": {
     "duration": 0.04393,
     "end_time": "2022-05-28T00:38:28.012631",
     "exception": false,
     "start_time": "2022-05-28T00:38:27.968701",
     "status": "completed"
    },
    "tags": []
   },
   "outputs": [],
   "source": [
    "y_train = 1*(y_train==3)\n",
    "y_test = 1*(y_test==3)"
   ]
  },
  {
   "cell_type": "code",
   "execution_count": 13,
   "id": "01e4e969",
   "metadata": {
    "execution": {
     "iopub.execute_input": "2022-05-28T00:38:28.082897Z",
     "iopub.status.busy": "2022-05-28T00:38:28.079102Z",
     "iopub.status.idle": "2022-05-28T00:38:28.086041Z",
     "shell.execute_reply": "2022-05-28T00:38:28.086473Z"
    },
    "papermill": {
     "duration": 0.047686,
     "end_time": "2022-05-28T00:38:28.086615",
     "exception": false,
     "start_time": "2022-05-28T00:38:28.038929",
     "status": "completed"
    },
    "tags": []
   },
   "outputs": [
    {
     "data": {
      "text/plain": [
       "((11982, 28, 28), (1984, 28, 28))"
      ]
     },
     "execution_count": 13,
     "metadata": {},
     "output_type": "execute_result"
    }
   ],
   "source": [
    "X_train.shape, X_test.shape"
   ]
  },
  {
   "cell_type": "markdown",
   "id": "5ccf3f85",
   "metadata": {
    "papermill": {
     "duration": 0.026321,
     "end_time": "2022-05-28T00:38:28.149240",
     "exception": false,
     "start_time": "2022-05-28T00:38:28.122919",
     "status": "completed"
    },
    "tags": []
   },
   "source": [
    "We reshape the data to flatten the image pixels into a set of features or co-variates:"
   ]
  },
  {
   "cell_type": "code",
   "execution_count": 14,
   "id": "5286a4a3",
   "metadata": {
    "execution": {
     "iopub.execute_input": "2022-05-28T00:38:28.207647Z",
     "iopub.status.busy": "2022-05-28T00:38:28.207049Z",
     "iopub.status.idle": "2022-05-28T00:38:28.220784Z",
     "shell.execute_reply": "2022-05-28T00:38:28.221268Z"
    },
    "papermill": {
     "duration": 0.045622,
     "end_time": "2022-05-28T00:38:28.221425",
     "exception": false,
     "start_time": "2022-05-28T00:38:28.175803",
     "status": "completed"
    },
    "tags": []
   },
   "outputs": [
    {
     "data": {
      "text/plain": [
       "((11982, 784), (1984, 784))"
      ]
     },
     "execution_count": 14,
     "metadata": {},
     "output_type": "execute_result"
    }
   ],
   "source": [
    "X_train = X_train.reshape(X_train.shape[0], -1)\n",
    "X_test = X_test.reshape(X_test.shape[0], -1)\n",
    "X_train.shape, X_test.shape"
   ]
  },
  {
   "cell_type": "code",
   "execution_count": 15,
   "id": "73c5f88a",
   "metadata": {
    "execution": {
     "iopub.execute_input": "2022-05-28T00:38:28.291129Z",
     "iopub.status.busy": "2022-05-28T00:38:28.290499Z",
     "iopub.status.idle": "2022-05-28T00:38:28.301374Z",
     "shell.execute_reply": "2022-05-28T00:38:28.300848Z"
    },
    "papermill": {
     "duration": 0.053233,
     "end_time": "2022-05-28T00:38:28.301495",
     "exception": false,
     "start_time": "2022-05-28T00:38:28.248262",
     "status": "completed"
    },
    "tags": []
   },
   "outputs": [],
   "source": [
    "#Impoting functions from 'Kudzu'\n",
    "from kudzu.model import Model\n",
    "from kudzu.train import Learner\n",
    "from kudzu.optim import GD\n",
    "from kudzu.data import Data, Sampler,Dataloader\n",
    "\n",
    "from kudzu.callbacks import AccCallback\n",
    "from kudzu.callbacks import ClfCallback\n",
    "\n",
    "from kudzu.loss import MSE\n",
    "\n",
    "from kudzu.layer import Sigmoid,Relu\n",
    "from kudzu.layer import Affine"
   ]
  },
  {
   "cell_type": "markdown",
   "id": "bc01172a",
   "metadata": {
    "papermill": {
     "duration": 0.026656,
     "end_time": "2022-05-28T00:38:28.355126",
     "exception": false,
     "start_time": "2022-05-28T00:38:28.328470",
     "status": "completed"
    },
    "tags": []
   },
   "source": [
    "### Let us create a `Config` class, to store important parameters. \n",
    "This class essentially plays the role of a dictionary."
   ]
  },
  {
   "cell_type": "code",
   "execution_count": 16,
   "id": "978281aa",
   "metadata": {
    "execution": {
     "iopub.execute_input": "2022-05-28T00:38:28.418657Z",
     "iopub.status.busy": "2022-05-28T00:38:28.417940Z",
     "iopub.status.idle": "2022-05-28T00:38:28.428624Z",
     "shell.execute_reply": "2022-05-28T00:38:28.428127Z"
    },
    "papermill": {
     "duration": 0.047038,
     "end_time": "2022-05-28T00:38:28.428743",
     "exception": false,
     "start_time": "2022-05-28T00:38:28.381705",
     "status": "completed"
    },
    "tags": []
   },
   "outputs": [],
   "source": [
    "class Config:\n",
    "    pass\n",
    "config = Config()\n",
    "config.lr = 0.001\n",
    "config.num_epochs = 250\n",
    "config.bs = 50"
   ]
  },
  {
   "cell_type": "markdown",
   "id": "1385fa59",
   "metadata": {
    "papermill": {
     "duration": 0.026597,
     "end_time": "2022-05-28T00:38:28.482321",
     "exception": false,
     "start_time": "2022-05-28T00:38:28.455724",
     "status": "completed"
    },
    "tags": []
   },
   "source": [
    "### Running Models with the Training data\n",
    "Details about the network layers:\n",
    "- A first affine layer has 784 inputs and does 100 affine transforms. These are followed by a Relu\n",
    "- A second affine layer has 100 inputs from the 100 activations of the past layer, and does 100 affine transforms. These are followed by a Relu\n",
    "- A third affine layer has 100 activations and does 2 affine transformations to create an embedding for visualization. There is no non-linearity here.\n",
    "- A final \"logistic regression\" which has an affine transform from 2 inputs to 1 output, which is squeezed through a sigmoid.\n"
   ]
  },
  {
   "cell_type": "code",
   "execution_count": 17,
   "id": "2b9c66db",
   "metadata": {
    "execution": {
     "iopub.execute_input": "2022-05-28T00:38:28.540146Z",
     "iopub.status.busy": "2022-05-28T00:38:28.539553Z",
     "iopub.status.idle": "2022-05-28T00:38:28.552623Z",
     "shell.execute_reply": "2022-05-28T00:38:28.553102Z"
    },
    "papermill": {
     "duration": 0.044136,
     "end_time": "2022-05-28T00:38:28.553239",
     "exception": false,
     "start_time": "2022-05-28T00:38:28.509103",
     "status": "completed"
    },
    "tags": []
   },
   "outputs": [],
   "source": [
    "data = Data(X_train, y_train.reshape(-1,1))\n",
    "sampler = Sampler(data, config.bs, shuffle=True)\n",
    "\n",
    "dl = Dataloader(data, sampler)\n",
    "\n",
    "opt = GD(config.lr)\n",
    "loss = MSE()"
   ]
  },
  {
   "cell_type": "code",
   "execution_count": 18,
   "id": "b275e4c2",
   "metadata": {
    "execution": {
     "iopub.execute_input": "2022-05-28T00:38:28.610596Z",
     "iopub.status.busy": "2022-05-28T00:38:28.610010Z",
     "iopub.status.idle": "2022-05-28T00:38:28.623423Z",
     "shell.execute_reply": "2022-05-28T00:38:28.622942Z"
    },
    "papermill": {
     "duration": 0.04351,
     "end_time": "2022-05-28T00:38:28.623535",
     "exception": false,
     "start_time": "2022-05-28T00:38:28.580025",
     "status": "completed"
    },
    "tags": []
   },
   "outputs": [],
   "source": [
    "training_data_x = X_train\n",
    "testing_data_x = X_test\n",
    "training_data_y = y_train.reshape(-1,1)\n",
    "testing_data_y = y_test.reshape(-1,1)"
   ]
  },
  {
   "cell_type": "code",
   "execution_count": 19,
   "id": "76951160",
   "metadata": {
    "execution": {
     "iopub.execute_input": "2022-05-28T00:38:28.681588Z",
     "iopub.status.busy": "2022-05-28T00:38:28.680964Z",
     "iopub.status.idle": "2022-05-28T00:38:28.698449Z",
     "shell.execute_reply": "2022-05-28T00:38:28.697960Z"
    },
    "papermill": {
     "duration": 0.048491,
     "end_time": "2022-05-28T00:38:28.698564",
     "exception": false,
     "start_time": "2022-05-28T00:38:28.650073",
     "status": "completed"
    },
    "tags": []
   },
   "outputs": [
    {
     "name": "stdout",
     "output_type": "stream",
     "text": [
      "xavier\n",
      "xavier\n",
      "xavier\n",
      "xavier\n",
      "xavier\n"
     ]
    }
   ],
   "source": [
    "layers = [Affine(\"first\", 784, 100), Relu(\"first\"), Affine(\"second\", 100, 100), Relu(\"second\"), Affine(\"third\", 100, 2), Affine(\"last\", 2, 1), Sigmoid(\"last\")]\n",
    "model_nn = Model(layers)\n",
    "model_lr = Model([Affine(\"logits\", 784, 1), Sigmoid(\"sigmoid\")])"
   ]
  },
  {
   "cell_type": "code",
   "execution_count": 20,
   "id": "6eede77a",
   "metadata": {
    "execution": {
     "iopub.execute_input": "2022-05-28T00:38:28.758518Z",
     "iopub.status.busy": "2022-05-28T00:38:28.757919Z",
     "iopub.status.idle": "2022-05-28T00:38:28.769338Z",
     "shell.execute_reply": "2022-05-28T00:38:28.769828Z"
    },
    "papermill": {
     "duration": 0.044086,
     "end_time": "2022-05-28T00:38:28.769962",
     "exception": false,
     "start_time": "2022-05-28T00:38:28.725876",
     "status": "completed"
    },
    "tags": []
   },
   "outputs": [],
   "source": [
    "nn_learner = Learner(loss, model_nn, opt, config.num_epochs)\n",
    "acc_nn = ClfCallback(nn_learner, config.bs, training_data_x , testing_data_x, training_data_y, testing_data_y)\n",
    "nn_learner.set_callbacks([acc_nn])"
   ]
  },
  {
   "cell_type": "code",
   "execution_count": 21,
   "id": "877b6cc7",
   "metadata": {
    "execution": {
     "iopub.execute_input": "2022-05-28T00:38:28.828282Z",
     "iopub.status.busy": "2022-05-28T00:38:28.827699Z",
     "iopub.status.idle": "2022-05-28T00:38:28.840969Z",
     "shell.execute_reply": "2022-05-28T00:38:28.840481Z"
    },
    "papermill": {
     "duration": 0.04418,
     "end_time": "2022-05-28T00:38:28.841083",
     "exception": false,
     "start_time": "2022-05-28T00:38:28.796903",
     "status": "completed"
    },
    "tags": []
   },
   "outputs": [],
   "source": [
    "lr_learner = Learner(loss, model_lr, opt, config.num_epochs)\n",
    "acc_lr = ClfCallback(lr_learner, config.bs, training_data_x , testing_data_x, training_data_y, testing_data_y)\n",
    "lr_learner.set_callbacks([acc_lr])"
   ]
  },
  {
   "cell_type": "code",
   "execution_count": 22,
   "id": "d9b133c3",
   "metadata": {
    "execution": {
     "iopub.execute_input": "2022-05-28T00:38:28.901718Z",
     "iopub.status.busy": "2022-05-28T00:38:28.901103Z",
     "iopub.status.idle": "2022-05-28T00:39:53.308852Z",
     "shell.execute_reply": "2022-05-28T00:39:53.309746Z"
    },
    "papermill": {
     "duration": 84.441638,
     "end_time": "2022-05-28T00:39:53.309896",
     "exception": false,
     "start_time": "2022-05-28T00:38:28.868258",
     "status": "completed"
    },
    "tags": []
   },
   "outputs": [
    {
     "name": "stdout",
     "output_type": "stream",
     "text": [
      "Epoch 0, Loss 0.2549\n",
      "Training Accuracy: 0.5926, Testing Accuracy: 0.5938\n",
      "\n"
     ]
    },
    {
     "name": "stdout",
     "output_type": "stream",
     "text": [
      "Epoch 10, Loss 0.1083\n",
      "Training Accuracy: 0.9018, Testing Accuracy: 0.9123\n",
      "\n"
     ]
    },
    {
     "name": "stdout",
     "output_type": "stream",
     "text": [
      "Epoch 20, Loss 0.0633\n",
      "Training Accuracy: 0.9357, Testing Accuracy: 0.9446\n",
      "\n"
     ]
    },
    {
     "name": "stdout",
     "output_type": "stream",
     "text": [
      "Epoch 30, Loss 0.0478\n",
      "Training Accuracy: 0.9483, Testing Accuracy: 0.9561\n",
      "\n"
     ]
    },
    {
     "name": "stdout",
     "output_type": "stream",
     "text": [
      "Epoch 40, Loss 0.0401\n",
      "Training Accuracy: 0.9555, Testing Accuracy: 0.9632\n",
      "\n"
     ]
    },
    {
     "name": "stdout",
     "output_type": "stream",
     "text": [
      "Epoch 50, Loss 0.0355\n",
      "Training Accuracy: 0.9589, Testing Accuracy: 0.9672\n",
      "\n"
     ]
    },
    {
     "name": "stdout",
     "output_type": "stream",
     "text": [
      "Epoch 60, Loss 0.0325\n",
      "Training Accuracy: 0.9629, Testing Accuracy: 0.9698\n",
      "\n"
     ]
    },
    {
     "name": "stdout",
     "output_type": "stream",
     "text": [
      "Epoch 70, Loss 0.0303\n",
      "Training Accuracy: 0.9650, Testing Accuracy: 0.9713\n",
      "\n"
     ]
    },
    {
     "name": "stdout",
     "output_type": "stream",
     "text": [
      "Epoch 80, Loss 0.0286\n",
      "Training Accuracy: 0.9673, Testing Accuracy: 0.9718\n",
      "\n"
     ]
    },
    {
     "name": "stdout",
     "output_type": "stream",
     "text": [
      "Epoch 90, Loss 0.0273\n",
      "Training Accuracy: 0.9691, Testing Accuracy: 0.9733\n",
      "\n"
     ]
    },
    {
     "name": "stdout",
     "output_type": "stream",
     "text": [
      "Epoch 100, Loss 0.0262\n",
      "Training Accuracy: 0.9702, Testing Accuracy: 0.9743\n",
      "\n"
     ]
    },
    {
     "name": "stdout",
     "output_type": "stream",
     "text": [
      "Epoch 110, Loss 0.0252\n",
      "Training Accuracy: 0.9713, Testing Accuracy: 0.9738\n",
      "\n"
     ]
    },
    {
     "name": "stdout",
     "output_type": "stream",
     "text": [
      "Epoch 120, Loss 0.0244\n",
      "Training Accuracy: 0.9720, Testing Accuracy: 0.9733\n",
      "\n"
     ]
    },
    {
     "name": "stdout",
     "output_type": "stream",
     "text": [
      "Epoch 130, Loss 0.0237\n",
      "Training Accuracy: 0.9731, Testing Accuracy: 0.9733\n",
      "\n"
     ]
    },
    {
     "name": "stdout",
     "output_type": "stream",
     "text": [
      "Epoch 140, Loss 0.023\n",
      "Training Accuracy: 0.9745, Testing Accuracy: 0.9738\n",
      "\n"
     ]
    },
    {
     "name": "stdout",
     "output_type": "stream",
     "text": [
      "Epoch 150, Loss 0.0224\n",
      "Training Accuracy: 0.9752, Testing Accuracy: 0.9743\n",
      "\n"
     ]
    },
    {
     "name": "stdout",
     "output_type": "stream",
     "text": [
      "Epoch 160, Loss 0.0219\n",
      "Training Accuracy: 0.9755, Testing Accuracy: 0.9733\n",
      "\n"
     ]
    },
    {
     "name": "stdout",
     "output_type": "stream",
     "text": [
      "Epoch 170, Loss 0.0214\n",
      "Training Accuracy: 0.9759, Testing Accuracy: 0.9738\n",
      "\n"
     ]
    },
    {
     "name": "stdout",
     "output_type": "stream",
     "text": [
      "Epoch 180, Loss 0.0209\n",
      "Training Accuracy: 0.9766, Testing Accuracy: 0.9743\n",
      "\n"
     ]
    },
    {
     "name": "stdout",
     "output_type": "stream",
     "text": [
      "Epoch 190, Loss 0.0204\n",
      "Training Accuracy: 0.9775, Testing Accuracy: 0.9748\n",
      "\n"
     ]
    },
    {
     "name": "stdout",
     "output_type": "stream",
     "text": [
      "Epoch 200, Loss 0.02\n",
      "Training Accuracy: 0.9777, Testing Accuracy: 0.9753\n",
      "\n"
     ]
    },
    {
     "name": "stdout",
     "output_type": "stream",
     "text": [
      "Epoch 210, Loss 0.0196\n",
      "Training Accuracy: 0.9784, Testing Accuracy: 0.9763\n",
      "\n"
     ]
    },
    {
     "name": "stdout",
     "output_type": "stream",
     "text": [
      "Epoch 220, Loss 0.0192\n",
      "Training Accuracy: 0.9785, Testing Accuracy: 0.9763\n",
      "\n"
     ]
    },
    {
     "name": "stdout",
     "output_type": "stream",
     "text": [
      "Epoch 230, Loss 0.0188\n",
      "Training Accuracy: 0.9788, Testing Accuracy: 0.9763\n",
      "\n"
     ]
    },
    {
     "name": "stdout",
     "output_type": "stream",
     "text": [
      "Epoch 240, Loss 0.0184\n",
      "Training Accuracy: 0.9796, Testing Accuracy: 0.9763\n",
      "\n"
     ]
    },
    {
     "data": {
      "text/plain": [
       "0.033237390559630084"
      ]
     },
     "execution_count": 22,
     "metadata": {},
     "output_type": "execute_result"
    }
   ],
   "source": [
    "nn_learner.train_loop(dl)"
   ]
  },
  {
   "cell_type": "code",
   "execution_count": 23,
   "id": "e0163366",
   "metadata": {
    "execution": {
     "iopub.execute_input": "2022-05-28T00:39:53.393886Z",
     "iopub.status.busy": "2022-05-28T00:39:53.393168Z",
     "iopub.status.idle": "2022-05-28T00:40:08.394355Z",
     "shell.execute_reply": "2022-05-28T00:40:08.395201Z"
    },
    "papermill": {
     "duration": 15.050071,
     "end_time": "2022-05-28T00:40:08.395352",
     "exception": false,
     "start_time": "2022-05-28T00:39:53.345281",
     "status": "completed"
    },
    "tags": []
   },
   "outputs": [
    {
     "name": "stdout",
     "output_type": "stream",
     "text": [
      "Epoch 0, Loss 0.2101\n",
      "Training Accuracy: 0.7954, Testing Accuracy: 0.8044\n",
      "\n"
     ]
    },
    {
     "name": "stdout",
     "output_type": "stream",
     "text": [
      "Epoch 10, Loss 0.0978\n",
      "Training Accuracy: 0.9170, Testing Accuracy: 0.9264\n",
      "\n"
     ]
    },
    {
     "name": "stdout",
     "output_type": "stream",
     "text": [
      "Epoch 20, Loss 0.0766\n",
      "Training Accuracy: 0.9325, Testing Accuracy: 0.9415\n",
      "\n"
     ]
    },
    {
     "name": "stdout",
     "output_type": "stream",
     "text": [
      "Epoch 30, Loss 0.0666\n",
      "Training Accuracy: 0.9392, Testing Accuracy: 0.9466\n",
      "\n"
     ]
    },
    {
     "name": "stdout",
     "output_type": "stream",
     "text": [
      "Epoch 40, Loss 0.0605\n",
      "Training Accuracy: 0.9437, Testing Accuracy: 0.9516\n",
      "\n"
     ]
    },
    {
     "name": "stdout",
     "output_type": "stream",
     "text": [
      "Epoch 50, Loss 0.0563\n",
      "Training Accuracy: 0.9460, Testing Accuracy: 0.9551\n",
      "\n"
     ]
    },
    {
     "name": "stdout",
     "output_type": "stream",
     "text": [
      "Epoch 60, Loss 0.0532\n",
      "Training Accuracy: 0.9487, Testing Accuracy: 0.9567\n",
      "\n"
     ]
    },
    {
     "name": "stdout",
     "output_type": "stream",
     "text": [
      "Epoch 70, Loss 0.0508\n",
      "Training Accuracy: 0.9504, Testing Accuracy: 0.9572\n",
      "\n"
     ]
    },
    {
     "name": "stdout",
     "output_type": "stream",
     "text": [
      "Epoch 80, Loss 0.0489\n",
      "Training Accuracy: 0.9519, Testing Accuracy: 0.9592\n",
      "\n"
     ]
    },
    {
     "name": "stdout",
     "output_type": "stream",
     "text": [
      "Epoch 90, Loss 0.0472\n",
      "Training Accuracy: 0.9529, Testing Accuracy: 0.9592\n",
      "\n"
     ]
    },
    {
     "name": "stdout",
     "output_type": "stream",
     "text": [
      "Epoch 100, Loss 0.0459\n",
      "Training Accuracy: 0.9536, Testing Accuracy: 0.9612\n",
      "\n"
     ]
    },
    {
     "name": "stdout",
     "output_type": "stream",
     "text": [
      "Epoch 110, Loss 0.0447\n",
      "Training Accuracy: 0.9547, Testing Accuracy: 0.9612\n",
      "\n"
     ]
    },
    {
     "name": "stdout",
     "output_type": "stream",
     "text": [
      "Epoch 120, Loss 0.0437\n",
      "Training Accuracy: 0.9553, Testing Accuracy: 0.9627\n",
      "\n"
     ]
    },
    {
     "name": "stdout",
     "output_type": "stream",
     "text": [
      "Epoch 130, Loss 0.0428\n",
      "Training Accuracy: 0.9556, Testing Accuracy: 0.9632\n",
      "\n"
     ]
    },
    {
     "name": "stdout",
     "output_type": "stream",
     "text": [
      "Epoch 140, Loss 0.042\n",
      "Training Accuracy: 0.9562, Testing Accuracy: 0.9632\n",
      "\n"
     ]
    },
    {
     "name": "stdout",
     "output_type": "stream",
     "text": [
      "Epoch 150, Loss 0.0412\n",
      "Training Accuracy: 0.9572, Testing Accuracy: 0.9647\n",
      "\n"
     ]
    },
    {
     "name": "stdout",
     "output_type": "stream",
     "text": [
      "Epoch 160, Loss 0.0406\n",
      "Training Accuracy: 0.9573, Testing Accuracy: 0.9647\n",
      "\n"
     ]
    },
    {
     "name": "stdout",
     "output_type": "stream",
     "text": [
      "Epoch 170, Loss 0.04\n",
      "Training Accuracy: 0.9576, Testing Accuracy: 0.9652\n",
      "\n"
     ]
    },
    {
     "name": "stdout",
     "output_type": "stream",
     "text": [
      "Epoch 180, Loss 0.0394\n",
      "Training Accuracy: 0.9575, Testing Accuracy: 0.9652\n",
      "\n"
     ]
    },
    {
     "name": "stdout",
     "output_type": "stream",
     "text": [
      "Epoch 190, Loss 0.0389\n",
      "Training Accuracy: 0.9581, Testing Accuracy: 0.9652\n",
      "\n"
     ]
    },
    {
     "name": "stdout",
     "output_type": "stream",
     "text": [
      "Epoch 200, Loss 0.0385\n",
      "Training Accuracy: 0.9588, Testing Accuracy: 0.9652\n",
      "\n"
     ]
    },
    {
     "name": "stdout",
     "output_type": "stream",
     "text": [
      "Epoch 210, Loss 0.038\n",
      "Training Accuracy: 0.9592, Testing Accuracy: 0.9662\n",
      "\n"
     ]
    },
    {
     "name": "stdout",
     "output_type": "stream",
     "text": [
      "Epoch 220, Loss 0.0376\n",
      "Training Accuracy: 0.9594, Testing Accuracy: 0.9662\n",
      "\n"
     ]
    },
    {
     "name": "stdout",
     "output_type": "stream",
     "text": [
      "Epoch 230, Loss 0.0373\n",
      "Training Accuracy: 0.9595, Testing Accuracy: 0.9667\n",
      "\n"
     ]
    },
    {
     "name": "stdout",
     "output_type": "stream",
     "text": [
      "Epoch 240, Loss 0.0369\n",
      "Training Accuracy: 0.9595, Testing Accuracy: 0.9672\n",
      "\n"
     ]
    },
    {
     "data": {
      "text/plain": [
       "0.011064143453560597"
      ]
     },
     "execution_count": 23,
     "metadata": {},
     "output_type": "execute_result"
    }
   ],
   "source": [
    "lr_learner.train_loop(dl)"
   ]
  },
  {
   "cell_type": "code",
   "execution_count": 24,
   "id": "ca410940",
   "metadata": {
    "execution": {
     "iopub.execute_input": "2022-05-28T00:40:08.491080Z",
     "iopub.status.busy": "2022-05-28T00:40:08.490469Z",
     "iopub.status.idle": "2022-05-28T00:40:08.727553Z",
     "shell.execute_reply": "2022-05-28T00:40:08.728012Z"
    },
    "papermill": {
     "duration": 0.291563,
     "end_time": "2022-05-28T00:40:08.728151",
     "exception": false,
     "start_time": "2022-05-28T00:40:08.436588",
     "status": "completed"
    },
    "tags": []
   },
   "outputs": [
    {
     "data": {
      "text/plain": [
       "<matplotlib.legend.Legend at 0x7fb7b3ed64a8>"
      ]
     },
     "execution_count": 24,
     "metadata": {},
     "output_type": "execute_result"
    },
    {
     "data": {
      "image/png": "[encoded data removed]",
      "text/plain": [
       "<Figure size 1080x720 with 1 Axes>"
      ]
     },
     "metadata": {
      "needs_background": "light"
     },
     "output_type": "display_data"
    }
   ],
   "source": [
    "#comparing the results of NN and LR\n",
    "plt.figure(figsize=(15,10))\n",
    "\n",
    "# Neural Network plots\n",
    "plt.plot(acc_nn.accuracies, 'r-', label = \"Training Accuracies - NN\")\n",
    "plt.plot(acc_nn.test_accuracies, 'g-', label = \"Testing Accuracies - NN\")\n",
    "\n",
    "# Logistic Regression plots\n",
    "plt.plot(acc_lr.accuracies, 'k-', label = \"Training Accuracies - LR\")\n",
    "plt.plot(acc_lr.test_accuracies, 'b-', label = \"Testing Accuracies - LR\")\n",
    "plt.legend()"
   ]
  },
  {
   "cell_type": "markdown",
   "id": "80dfb35c",
   "metadata": {
    "papermill": {
     "duration": 0.045631,
     "end_time": "2022-05-28T00:40:08.817796",
     "exception": false,
     "start_time": "2022-05-28T00:40:08.772165",
     "status": "completed"
    },
    "tags": []
   },
   "source": [
    "#### Plotting the outputs of this layer of the NN.\n"
   ]
  },
  {
   "cell_type": "code",
   "execution_count": 25,
   "id": "45eb2ff5",
   "metadata": {
    "execution": {
     "iopub.execute_input": "2022-05-28T00:40:08.905740Z",
     "iopub.status.busy": "2022-05-28T00:40:08.905098Z",
     "iopub.status.idle": "2022-05-28T00:40:08.925737Z",
     "shell.execute_reply": "2022-05-28T00:40:08.925229Z"
    },
    "papermill": {
     "duration": 0.066336,
     "end_time": "2022-05-28T00:40:08.925859",
     "exception": false,
     "start_time": "2022-05-28T00:40:08.859523",
     "status": "completed"
    },
    "tags": []
   },
   "outputs": [],
   "source": [
    "new_model = Model(layers[:-2])\n",
    "testing_plot = new_model(testing_data_x)"
   ]
  },
  {
   "cell_type": "code",
   "execution_count": 26,
   "id": "4c0a5485",
   "metadata": {
    "execution": {
     "iopub.execute_input": "2022-05-28T00:40:09.018455Z",
     "iopub.status.busy": "2022-05-28T00:40:09.015449Z",
     "iopub.status.idle": "2022-05-28T00:40:09.204674Z",
     "shell.execute_reply": "2022-05-28T00:40:09.203496Z"
    },
    "papermill": {
     "duration": 0.236185,
     "end_time": "2022-05-28T00:40:09.204810",
     "exception": false,
     "start_time": "2022-05-28T00:40:08.968625",
     "status": "completed"
    },
    "tags": []
   },
   "outputs": [
    {
     "data": {
      "text/plain": [
       "Text(0.5, 1.0, 'Outputs')"
      ]
     },
     "execution_count": 26,
     "metadata": {},
     "output_type": "execute_result"
    },
    {
     "data": {
      "image/png": "[encoded data removed]",
      "text/plain": [
       "<Figure size 576x504 with 1 Axes>"
      ]
     },
     "metadata": {
      "needs_background": "light"
     },
     "output_type": "display_data"
    }
   ],
   "source": [
    "# Plotting the scatter plot of points and color coding by class\n",
    "plt.figure(figsize=(8,7))\n",
    "plt.scatter(testing_plot[:,0], testing_plot[:,1], alpha = 0.1, c = y_test.ravel());\n",
    "plt.title('Outputs')"
   ]
  },
  {
   "cell_type": "markdown",
   "id": "a74fcf8f",
   "metadata": {
    "papermill": {
     "duration": 0.043712,
     "end_time": "2022-05-28T00:40:09.292735",
     "exception": false,
     "start_time": "2022-05-28T00:40:09.249023",
     "status": "completed"
    },
    "tags": []
   },
   "source": [
    "Probability contours"
   ]
  },
  {
   "cell_type": "code",
   "execution_count": 27,
   "id": "d0afc8e3",
   "metadata": {
    "execution": {
     "iopub.execute_input": "2022-05-28T00:40:09.412229Z",
     "iopub.status.busy": "2022-05-28T00:40:09.410849Z",
     "iopub.status.idle": "2022-05-28T00:40:09.424229Z",
     "shell.execute_reply": "2022-05-28T00:40:09.424685Z"
    },
    "papermill": {
     "duration": 0.06089,
     "end_time": "2022-05-28T00:40:09.424822",
     "exception": false,
     "start_time": "2022-05-28T00:40:09.363932",
     "status": "completed"
    },
    "tags": []
   },
   "outputs": [],
   "source": [
    "model_prob = Model(layers[-2:]) "
   ]
  },
  {
   "cell_type": "code",
   "execution_count": 28,
   "id": "9b96e238",
   "metadata": {
    "execution": {
     "iopub.execute_input": "2022-05-28T00:40:09.520175Z",
     "iopub.status.busy": "2022-05-28T00:40:09.519543Z",
     "iopub.status.idle": "2022-05-28T00:40:09.534391Z",
     "shell.execute_reply": "2022-05-28T00:40:09.534846Z"
    },
    "papermill": {
     "duration": 0.065996,
     "end_time": "2022-05-28T00:40:09.534993",
     "exception": false,
     "start_time": "2022-05-28T00:40:09.468997",
     "status": "completed"
    },
    "tags": []
   },
   "outputs": [],
   "source": [
    "#creating the x and y ranges according to the above generated plot.\n",
    "x_range = np.linspace(-4, 1, 100) \n",
    "y_range = np.linspace(-6, 6, 100) \n",
    "x_grid, y_grid = np.meshgrid(x_range, y_range) # x_grid and y_grig are of size 100 X 100\n",
    "\n",
    "# converting x_grid and y_grid to continuous arrays\n",
    "x_gridflat = np.ravel(x_grid)\n",
    "y_gridflat = np.ravel(y_grid)\n",
    "\n",
    "# The last layer of the current model takes two columns as input. Hence transpose of np.vstack() is required.\n",
    "X = np.vstack((x_gridflat, y_gridflat)).T\n",
    "\n",
    "prob_contour = model_prob(X).reshape(100,100) "
   ]
  },
  {
   "cell_type": "code",
   "execution_count": 29,
   "id": "da72499a",
   "metadata": {
    "execution": {
     "iopub.execute_input": "2022-05-28T00:40:09.627631Z",
     "iopub.status.busy": "2022-05-28T00:40:09.627044Z",
     "iopub.status.idle": "2022-05-28T00:40:09.875490Z",
     "shell.execute_reply": "2022-05-28T00:40:09.875007Z"
    },
    "papermill": {
     "duration": 0.296604,
     "end_time": "2022-05-28T00:40:09.875612",
     "exception": false,
     "start_time": "2022-05-28T00:40:09.579008",
     "status": "completed"
    },
    "tags": []
   },
   "outputs": [
    {
     "data": {
      "image/png": "[encoded data removed]",
      "text/plain": [
       "<Figure size 720x648 with 1 Axes>"
      ]
     },
     "metadata": {
      "needs_background": "light"
     },
     "output_type": "display_data"
    }
   ],
   "source": [
    "plt.figure(figsize=(10,9))\n",
    "plt.scatter(testing_plot[:,0], testing_plot[:,1], alpha = 0.1, c = y_test.ravel())\n",
    "contours = plt.contour(x_grid,y_grid,prob_contour)\n",
    "plt.title('Probability Contours')\n",
    "plt.clabel(contours, inline = True );"
   ]
  },
  {
   "cell_type": "code",
   "execution_count": null,
   "id": "e81b4ac7",
   "metadata": {
    "papermill": {
     "duration": 0.046641,
     "end_time": "2022-05-28T00:40:09.969654",
     "exception": false,
     "start_time": "2022-05-28T00:40:09.923013",
     "status": "completed"
    },
    "tags": []
   },
   "outputs": [],
   "source": []
  }
 ],
 "metadata": {
  "kernelspec": {
   "display_name": "Python 3",
   "language": "python",
   "name": "python3"
  },
  "language_info": {
   "codemirror_mode": {
    "name": "ipython",
    "version": 3
   },
   "file_extension": ".py",
   "mimetype": "text/x-python",
   "name": "python",
   "nbconvert_exporter": "python",
   "pygments_lexer": "ipython3",
   "version": "3.6.15"
  },
  "papermill": {
   "default_parameters": {},
   "duration": 107.723795,
   "end_time": "2022-05-28T00:40:10.435746",
   "environment_variables": {},
   "exception": null,
   "input_path": "2020-08-11-part2.ipynb",
   "output_path": "2020-08-11-part2.ipynb",
   "parameters": {},
   "start_time": "2022-05-28T00:38:22.711951",
   "version": "2.3.3"
  }
 },
 "nbformat": 4,
 "nbformat_minor": 5
}