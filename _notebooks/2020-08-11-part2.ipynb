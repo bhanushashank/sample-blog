{
 "cells": [
  {
   "cell_type": "markdown",
   "id": "98380cd3",
   "metadata": {
    "papermill": {
     "duration": 0.039094,
     "end_time": "2021-11-29T20:10:51.621248",
     "exception": false,
     "start_time": "2021-11-29T20:10:51.582154",
     "status": "completed"
    },
    "tags": []
   },
   "source": [
    "# Distinguish Your Own Digits (DYOD)"
   ]
  },
  {
   "cell_type": "markdown",
   "id": "ef31240d",
   "metadata": {
    "papermill": {
     "duration": 0.051309,
     "end_time": "2021-11-29T20:10:51.706020",
     "exception": false,
     "start_time": "2021-11-29T20:10:51.654711",
     "status": "completed"
    },
    "tags": []
   },
   "source": [
    "You are going to write a classifier that distinguishes between the number 3 and number 8."
   ]
  },
  {
   "cell_type": "code",
   "execution_count": 1,
   "id": "b15c8646",
   "metadata": {
    "execution": {
     "iopub.execute_input": "2021-11-29T20:10:51.788040Z",
     "iopub.status.busy": "2021-11-29T20:10:51.787323Z",
     "iopub.status.idle": "2021-11-29T20:10:51.800870Z",
     "shell.execute_reply": "2021-11-29T20:10:51.800234Z"
    },
    "papermill": {
     "duration": 0.05988,
     "end_time": "2021-11-29T20:10:51.801045",
     "exception": false,
     "start_time": "2021-11-29T20:10:51.741165",
     "status": "completed"
    },
    "tags": []
   },
   "outputs": [],
   "source": [
    "%load_ext autoreload\n",
    "%autoreload 2"
   ]
  },
  {
   "cell_type": "code",
   "execution_count": 2,
   "id": "22ef38dc",
   "metadata": {
    "execution": {
     "iopub.execute_input": "2021-11-29T20:10:51.890104Z",
     "iopub.status.busy": "2021-11-29T20:10:51.889367Z",
     "iopub.status.idle": "2021-11-29T20:10:52.892407Z",
     "shell.execute_reply": "2021-11-29T20:10:52.891772Z"
    },
    "papermill": {
     "duration": 1.040454,
     "end_time": "2021-11-29T20:10:52.892555",
     "exception": false,
     "start_time": "2021-11-29T20:10:51.852101",
     "status": "completed"
    },
    "tags": []
   },
   "outputs": [],
   "source": [
    "%matplotlib inline\n",
    "import numpy as np\n",
    "import matplotlib.pyplot as plt\n",
    "import pandas as pd"
   ]
  },
  {
   "cell_type": "markdown",
   "id": "ba036198",
   "metadata": {
    "papermill": {
     "duration": 0.051098,
     "end_time": "2021-11-29T20:10:52.976117",
     "exception": false,
     "start_time": "2021-11-29T20:10:52.925019",
     "status": "completed"
    },
    "tags": []
   },
   "source": [
    "From the command line run `pip install mnist`. This is a library that will help you bring down the mnist dataset. If you run this from a notebook, you need to put  `!pip install mnist` in a cell by itself."
   ]
  },
  {
   "cell_type": "code",
   "execution_count": 3,
   "id": "bb6ad8a1",
   "metadata": {
    "execution": {
     "iopub.execute_input": "2021-11-29T20:10:53.048572Z",
     "iopub.status.busy": "2021-11-29T20:10:53.047853Z",
     "iopub.status.idle": "2021-11-29T20:10:56.464441Z",
     "shell.execute_reply": "2021-11-29T20:10:56.463311Z"
    },
    "papermill": {
     "duration": 3.456395,
     "end_time": "2021-11-29T20:10:56.464606",
     "exception": false,
     "start_time": "2021-11-29T20:10:53.008211",
     "status": "completed"
    },
    "tags": []
   },
   "outputs": [
    {
     "name": "stdout",
     "output_type": "stream",
     "text": [
      "Collecting mnist\r\n"
     ]
    },
    {
     "name": "stdout",
     "output_type": "stream",
     "text": [
      "  Downloading mnist-0.2.2-py2.py3-none-any.whl (3.5 kB)\r\n",
      "Requirement already satisfied: numpy in /opt/hostedtoolcache/Python/3.6.15/x64/lib/python3.6/site-packages (from mnist) (1.19.5)\r\n"
     ]
    },
    {
     "name": "stdout",
     "output_type": "stream",
     "text": [
      "Installing collected packages: mnist\r\n"
     ]
    },
    {
     "name": "stdout",
     "output_type": "stream",
     "text": [
      "Successfully installed mnist-0.2.2\r\n"
     ]
    }
   ],
   "source": [
    "!pip install mnist"
   ]
  },
  {
   "cell_type": "markdown",
   "id": "69df9c9a",
   "metadata": {
    "papermill": {
     "duration": 0.07028,
     "end_time": "2021-11-29T20:10:56.569588",
     "exception": false,
     "start_time": "2021-11-29T20:10:56.499308",
     "status": "completed"
    },
    "tags": []
   },
   "source": [
    "## Preparing the Data"
   ]
  },
  {
   "cell_type": "code",
   "execution_count": 4,
   "id": "7f69d806",
   "metadata": {
    "execution": {
     "iopub.execute_input": "2021-11-29T20:10:56.648507Z",
     "iopub.status.busy": "2021-11-29T20:10:56.647681Z",
     "iopub.status.idle": "2021-11-29T20:10:56.663895Z",
     "shell.execute_reply": "2021-11-29T20:10:56.663282Z"
    },
    "papermill": {
     "duration": 0.059281,
     "end_time": "2021-11-29T20:10:56.664034",
     "exception": false,
     "start_time": "2021-11-29T20:10:56.604753",
     "status": "completed"
    },
    "tags": []
   },
   "outputs": [],
   "source": [
    "import mnist"
   ]
  },
  {
   "cell_type": "code",
   "execution_count": 5,
   "id": "a411e44f",
   "metadata": {
    "execution": {
     "iopub.execute_input": "2021-11-29T20:10:56.777980Z",
     "iopub.status.busy": "2021-11-29T20:10:56.777115Z",
     "iopub.status.idle": "2021-11-29T20:10:57.625286Z",
     "shell.execute_reply": "2021-11-29T20:10:57.624514Z"
    },
    "papermill": {
     "duration": 0.89084,
     "end_time": "2021-11-29T20:10:57.625439",
     "exception": false,
     "start_time": "2021-11-29T20:10:56.734599",
     "status": "completed"
    },
    "tags": []
   },
   "outputs": [],
   "source": [
    "train_images = mnist.train_images()\n",
    "train_labels = mnist.train_labels()"
   ]
  },
  {
   "cell_type": "code",
   "execution_count": 6,
   "id": "dceab3a5",
   "metadata": {
    "execution": {
     "iopub.execute_input": "2021-11-29T20:10:57.718840Z",
     "iopub.status.busy": "2021-11-29T20:10:57.718145Z",
     "iopub.status.idle": "2021-11-29T20:10:57.737883Z",
     "shell.execute_reply": "2021-11-29T20:10:57.737245Z"
    },
    "papermill": {
     "duration": 0.063911,
     "end_time": "2021-11-29T20:10:57.738027",
     "exception": false,
     "start_time": "2021-11-29T20:10:57.674116",
     "status": "completed"
    },
    "tags": []
   },
   "outputs": [
    {
     "data": {
      "text/plain": [
       "((60000, 28, 28), (60000,))"
      ]
     },
     "execution_count": 6,
     "metadata": {},
     "output_type": "execute_result"
    }
   ],
   "source": [
    "train_images.shape, train_labels.shape"
   ]
  },
  {
   "cell_type": "code",
   "execution_count": 7,
   "id": "f50dc2bb",
   "metadata": {
    "execution": {
     "iopub.execute_input": "2021-11-29T20:10:57.832550Z",
     "iopub.status.busy": "2021-11-29T20:10:57.831847Z",
     "iopub.status.idle": "2021-11-29T20:10:58.093693Z",
     "shell.execute_reply": "2021-11-29T20:10:58.091374Z"
    },
    "papermill": {
     "duration": 0.301592,
     "end_time": "2021-11-29T20:10:58.093860",
     "exception": false,
     "start_time": "2021-11-29T20:10:57.792268",
     "status": "completed"
    },
    "tags": []
   },
   "outputs": [],
   "source": [
    "test_images = mnist.test_images()\n",
    "test_labels = mnist.test_labels()"
   ]
  },
  {
   "cell_type": "code",
   "execution_count": 8,
   "id": "fc38cf1b",
   "metadata": {
    "execution": {
     "iopub.execute_input": "2021-11-29T20:10:58.170688Z",
     "iopub.status.busy": "2021-11-29T20:10:58.166918Z",
     "iopub.status.idle": "2021-11-29T20:10:58.184939Z",
     "shell.execute_reply": "2021-11-29T20:10:58.184148Z"
    },
    "papermill": {
     "duration": 0.056279,
     "end_time": "2021-11-29T20:10:58.185090",
     "exception": false,
     "start_time": "2021-11-29T20:10:58.128811",
     "status": "completed"
    },
    "tags": []
   },
   "outputs": [
    {
     "data": {
      "text/plain": [
       "((10000, 28, 28), (10000,))"
      ]
     },
     "execution_count": 8,
     "metadata": {},
     "output_type": "execute_result"
    }
   ],
   "source": [
    "test_images.shape, test_labels.shape"
   ]
  },
  {
   "cell_type": "code",
   "execution_count": 9,
   "id": "f9ed8fe0",
   "metadata": {
    "execution": {
     "iopub.execute_input": "2021-11-29T20:10:58.285269Z",
     "iopub.status.busy": "2021-11-29T20:10:58.284587Z",
     "iopub.status.idle": "2021-11-29T20:10:58.538865Z",
     "shell.execute_reply": "2021-11-29T20:10:58.538277Z"
    },
    "papermill": {
     "duration": 0.300822,
     "end_time": "2021-11-29T20:10:58.539014",
     "exception": false,
     "start_time": "2021-11-29T20:10:58.238192",
     "status": "completed"
    },
    "tags": []
   },
   "outputs": [
    {
     "name": "stdout",
     "output_type": "stream",
     "text": [
      "2\n"
     ]
    },
    {
     "data": {
      "text/plain": [
       "<matplotlib.image.AxesImage at 0x7f3a41c9f588>"
      ]
     },
     "execution_count": 9,
     "metadata": {},
     "output_type": "execute_result"
    },
    {
     "data": {
      "image/png": "[encoded data removed]",
      "text/plain": [
       "<Figure size 432x288 with 1 Axes>"
      ]
     },
     "metadata": {
      "needs_background": "light"
     },
     "output_type": "display_data"
    }
   ],
   "source": [
    "image_index = 7776 # You may select anything up to 60,000\n",
    "print(train_labels[image_index]) \n",
    "plt.imshow(train_images[image_index], cmap='Greys')"
   ]
  },
  {
   "cell_type": "markdown",
   "id": "a8d2388d",
   "metadata": {
    "papermill": {
     "duration": 0.036649,
     "end_time": "2021-11-29T20:10:58.612466",
     "exception": false,
     "start_time": "2021-11-29T20:10:58.575817",
     "status": "completed"
    },
    "tags": []
   },
   "source": [
    "## Filter data to get 3 and 8 out"
   ]
  },
  {
   "cell_type": "code",
   "execution_count": 10,
   "id": "776f7fc7",
   "metadata": {
    "execution": {
     "iopub.execute_input": "2021-11-29T20:10:58.740890Z",
     "iopub.status.busy": "2021-11-29T20:10:58.739371Z",
     "iopub.status.idle": "2021-11-29T20:10:58.792500Z",
     "shell.execute_reply": "2021-11-29T20:10:58.793298Z"
    },
    "papermill": {
     "duration": 0.097148,
     "end_time": "2021-11-29T20:10:58.793511",
     "exception": false,
     "start_time": "2021-11-29T20:10:58.696363",
     "status": "completed"
    },
    "tags": []
   },
   "outputs": [],
   "source": [
    "train_filter = np.where((train_labels == 3 ) | (train_labels == 8))\n",
    "test_filter = np.where((test_labels == 3) | (test_labels == 8))\n",
    "X_train, y_train = train_images[train_filter], train_labels[train_filter]\n",
    "X_test, y_test = test_images[test_filter], test_labels[test_filter]"
   ]
  },
  {
   "cell_type": "markdown",
   "id": "948f0b7e",
   "metadata": {
    "papermill": {
     "duration": 0.035214,
     "end_time": "2021-11-29T20:10:58.866685",
     "exception": false,
     "start_time": "2021-11-29T20:10:58.831471",
     "status": "completed"
    },
    "tags": []
   },
   "source": [
    "We normalize the pizel values in the 0 to 1 range"
   ]
  },
  {
   "cell_type": "code",
   "execution_count": 11,
   "id": "ee4c2166",
   "metadata": {
    "execution": {
     "iopub.execute_input": "2021-11-29T20:10:58.974629Z",
     "iopub.status.busy": "2021-11-29T20:10:58.970689Z",
     "iopub.status.idle": "2021-11-29T20:10:59.077674Z",
     "shell.execute_reply": "2021-11-29T20:10:59.077041Z"
    },
    "papermill": {
     "duration": 0.151438,
     "end_time": "2021-11-29T20:10:59.077821",
     "exception": false,
     "start_time": "2021-11-29T20:10:58.926383",
     "status": "completed"
    },
    "tags": []
   },
   "outputs": [],
   "source": [
    "X_train = X_train/255.\n",
    "X_test = X_test/255."
   ]
  },
  {
   "cell_type": "markdown",
   "id": "ddcf4fab",
   "metadata": {
    "papermill": {
     "duration": 0.036243,
     "end_time": "2021-11-29T20:10:59.151354",
     "exception": false,
     "start_time": "2021-11-29T20:10:59.115111",
     "status": "completed"
    },
    "tags": []
   },
   "source": [
    "And setup the labels as 1 (when the digit is 3) and 0 (when the digit is 8)"
   ]
  },
  {
   "cell_type": "code",
   "execution_count": 12,
   "id": "7dc908f2",
   "metadata": {
    "execution": {
     "iopub.execute_input": "2021-11-29T20:10:59.280708Z",
     "iopub.status.busy": "2021-11-29T20:10:59.279793Z",
     "iopub.status.idle": "2021-11-29T20:10:59.296016Z",
     "shell.execute_reply": "2021-11-29T20:10:59.295362Z"
    },
    "papermill": {
     "duration": 0.0835,
     "end_time": "2021-11-29T20:10:59.296163",
     "exception": false,
     "start_time": "2021-11-29T20:10:59.212663",
     "status": "completed"
    },
    "tags": []
   },
   "outputs": [],
   "source": [
    "y_train = 1*(y_train==3)\n",
    "y_test = 1*(y_test==3)"
   ]
  },
  {
   "cell_type": "code",
   "execution_count": 13,
   "id": "01e4e969",
   "metadata": {
    "execution": {
     "iopub.execute_input": "2021-11-29T20:10:59.390636Z",
     "iopub.status.busy": "2021-11-29T20:10:59.389820Z",
     "iopub.status.idle": "2021-11-29T20:10:59.408241Z",
     "shell.execute_reply": "2021-11-29T20:10:59.408881Z"
    },
    "papermill": {
     "duration": 0.061469,
     "end_time": "2021-11-29T20:10:59.409065",
     "exception": false,
     "start_time": "2021-11-29T20:10:59.347596",
     "status": "completed"
    },
    "tags": []
   },
   "outputs": [
    {
     "data": {
      "text/plain": [
       "((11982, 28, 28), (1984, 28, 28))"
      ]
     },
     "execution_count": 13,
     "metadata": {},
     "output_type": "execute_result"
    }
   ],
   "source": [
    "X_train.shape, X_test.shape"
   ]
  },
  {
   "cell_type": "markdown",
   "id": "5ccf3f85",
   "metadata": {
    "papermill": {
     "duration": 0.051022,
     "end_time": "2021-11-29T20:10:59.511059",
     "exception": false,
     "start_time": "2021-11-29T20:10:59.460037",
     "status": "completed"
    },
    "tags": []
   },
   "source": [
    "We reshape the data to flatten the image pixels into a set of features or co-variates:"
   ]
  },
  {
   "cell_type": "code",
   "execution_count": 14,
   "id": "5286a4a3",
   "metadata": {
    "execution": {
     "iopub.execute_input": "2021-11-29T20:10:59.639806Z",
     "iopub.status.busy": "2021-11-29T20:10:59.638311Z",
     "iopub.status.idle": "2021-11-29T20:10:59.642954Z",
     "shell.execute_reply": "2021-11-29T20:10:59.640733Z"
    },
    "papermill": {
     "duration": 0.096999,
     "end_time": "2021-11-29T20:10:59.643116",
     "exception": false,
     "start_time": "2021-11-29T20:10:59.546117",
     "status": "completed"
    },
    "tags": []
   },
   "outputs": [
    {
     "data": {
      "text/plain": [
       "((11982, 784), (1984, 784))"
      ]
     },
     "execution_count": 14,
     "metadata": {},
     "output_type": "execute_result"
    }
   ],
   "source": [
    "X_train = X_train.reshape(X_train.shape[0], -1)\n",
    "X_test = X_test.reshape(X_test.shape[0], -1)\n",
    "X_train.shape, X_test.shape"
   ]
  },
  {
   "cell_type": "code",
   "execution_count": 15,
   "id": "73c5f88a",
   "metadata": {
    "execution": {
     "iopub.execute_input": "2021-11-29T20:10:59.729715Z",
     "iopub.status.busy": "2021-11-29T20:10:59.728772Z",
     "iopub.status.idle": "2021-11-29T20:10:59.800802Z",
     "shell.execute_reply": "2021-11-29T20:10:59.800068Z"
    },
    "papermill": {
     "duration": 0.117858,
     "end_time": "2021-11-29T20:10:59.800997",
     "exception": false,
     "start_time": "2021-11-29T20:10:59.683139",
     "status": "completed"
    },
    "tags": []
   },
   "outputs": [],
   "source": [
    "#Impoting functions from 'Kudzu'\n",
    "from kudzu.model import Model\n",
    "from kudzu.train import Learner\n",
    "from kudzu.optim import GD\n",
    "from kudzu.data import Data, Sampler,Dataloader\n",
    "\n",
    "from kudzu.callbacks import AccCallback\n",
    "from kudzu.callbacks import ClfCallback\n",
    "\n",
    "from kudzu.loss import MSE\n",
    "\n",
    "from kudzu.layer import Sigmoid,Relu\n",
    "from kudzu.layer import Affine"
   ]
  },
  {
   "cell_type": "markdown",
   "id": "bc01172a",
   "metadata": {
    "papermill": {
     "duration": 0.039384,
     "end_time": "2021-11-29T20:10:59.879084",
     "exception": false,
     "start_time": "2021-11-29T20:10:59.839700",
     "status": "completed"
    },
    "tags": []
   },
   "source": [
    "### Let us create a `Config` class, to store important parameters. \n",
    "This class essentially plays the role of a dictionary."
   ]
  },
  {
   "cell_type": "code",
   "execution_count": 16,
   "id": "978281aa",
   "metadata": {
    "execution": {
     "iopub.execute_input": "2021-11-29T20:10:59.976982Z",
     "iopub.status.busy": "2021-11-29T20:10:59.976203Z",
     "iopub.status.idle": "2021-11-29T20:10:59.991648Z",
     "shell.execute_reply": "2021-11-29T20:10:59.992324Z"
    },
    "papermill": {
     "duration": 0.059372,
     "end_time": "2021-11-29T20:10:59.992505",
     "exception": false,
     "start_time": "2021-11-29T20:10:59.933133",
     "status": "completed"
    },
    "tags": []
   },
   "outputs": [],
   "source": [
    "class Config:\n",
    "    pass\n",
    "config = Config()\n",
    "config.lr = 0.001\n",
    "config.num_epochs = 250\n",
    "config.bs = 50"
   ]
  },
  {
   "cell_type": "markdown",
   "id": "1385fa59",
   "metadata": {
    "papermill": {
     "duration": 0.037806,
     "end_time": "2021-11-29T20:11:00.088138",
     "exception": false,
     "start_time": "2021-11-29T20:11:00.050332",
     "status": "completed"
    },
    "tags": []
   },
   "source": [
    "### Running Models with the Training data\n",
    "Details about the network layers:\n",
    "- A first affine layer has 784 inputs and does 100 affine transforms. These are followed by a Relu\n",
    "- A second affine layer has 100 inputs from the 100 activations of the past layer, and does 100 affine transforms. These are followed by a Relu\n",
    "- A third affine layer has 100 activations and does 2 affine transformations to create an embedding for visualization. There is no non-linearity here.\n",
    "- A final \"logistic regression\" which has an affine transform from 2 inputs to 1 output, which is squeezed through a sigmoid.\n"
   ]
  },
  {
   "cell_type": "code",
   "execution_count": 17,
   "id": "2b9c66db",
   "metadata": {
    "execution": {
     "iopub.execute_input": "2021-11-29T20:11:00.194718Z",
     "iopub.status.busy": "2021-11-29T20:11:00.194010Z",
     "iopub.status.idle": "2021-11-29T20:11:00.213520Z",
     "shell.execute_reply": "2021-11-29T20:11:00.212920Z"
    },
    "papermill": {
     "duration": 0.088208,
     "end_time": "2021-11-29T20:11:00.213711",
     "exception": false,
     "start_time": "2021-11-29T20:11:00.125503",
     "status": "completed"
    },
    "tags": []
   },
   "outputs": [],
   "source": [
    "data = Data(X_train, y_train.reshape(-1,1))\n",
    "sampler = Sampler(data, config.bs, shuffle=True)\n",
    "\n",
    "dl = Dataloader(data, sampler)\n",
    "\n",
    "opt = GD(config.lr)\n",
    "loss = MSE()"
   ]
  },
  {
   "cell_type": "code",
   "execution_count": 18,
   "id": "b275e4c2",
   "metadata": {
    "execution": {
     "iopub.execute_input": "2021-11-29T20:11:00.332050Z",
     "iopub.status.busy": "2021-11-29T20:11:00.331318Z",
     "iopub.status.idle": "2021-11-29T20:11:00.346714Z",
     "shell.execute_reply": "2021-11-29T20:11:00.346108Z"
    },
    "papermill": {
     "duration": 0.095944,
     "end_time": "2021-11-29T20:11:00.346875",
     "exception": false,
     "start_time": "2021-11-29T20:11:00.250931",
     "status": "completed"
    },
    "tags": []
   },
   "outputs": [],
   "source": [
    "training_data_x = X_train\n",
    "testing_data_x = X_test\n",
    "training_data_y = y_train.reshape(-1,1)\n",
    "testing_data_y = y_test.reshape(-1,1)"
   ]
  },
  {
   "cell_type": "code",
   "execution_count": 19,
   "id": "76951160",
   "metadata": {
    "execution": {
     "iopub.execute_input": "2021-11-29T20:11:00.455232Z",
     "iopub.status.busy": "2021-11-29T20:11:00.454521Z",
     "iopub.status.idle": "2021-11-29T20:11:00.485983Z",
     "shell.execute_reply": "2021-11-29T20:11:00.486556Z"
    },
    "papermill": {
     "duration": 0.1032,
     "end_time": "2021-11-29T20:11:00.486735",
     "exception": false,
     "start_time": "2021-11-29T20:11:00.383535",
     "status": "completed"
    },
    "tags": []
   },
   "outputs": [
    {
     "name": "stdout",
     "output_type": "stream",
     "text": [
      "xavier\n",
      "xavier\n",
      "xavier\n",
      "xavier\n",
      "xavier\n"
     ]
    }
   ],
   "source": [
    "layers = [Affine(\"first\", 784, 100), Relu(\"first\"), Affine(\"second\", 100, 100), Relu(\"second\"), Affine(\"third\", 100, 2), Affine(\"last\", 2, 1), Sigmoid(\"last\")]\n",
    "model_nn = Model(layers)\n",
    "model_lr = Model([Affine(\"logits\", 784, 1), Sigmoid(\"sigmoid\")])"
   ]
  },
  {
   "cell_type": "code",
   "execution_count": 20,
   "id": "6eede77a",
   "metadata": {
    "execution": {
     "iopub.execute_input": "2021-11-29T20:11:00.574497Z",
     "iopub.status.busy": "2021-11-29T20:11:00.572696Z",
     "iopub.status.idle": "2021-11-29T20:11:00.617800Z",
     "shell.execute_reply": "2021-11-29T20:11:00.617118Z"
    },
    "papermill": {
     "duration": 0.092436,
     "end_time": "2021-11-29T20:11:00.617966",
     "exception": false,
     "start_time": "2021-11-29T20:11:00.525530",
     "status": "completed"
    },
    "tags": []
   },
   "outputs": [],
   "source": [
    "nn_learner = Learner(loss, model_nn, opt, config.num_epochs)\n",
    "acc_nn = ClfCallback(nn_learner, config.bs, training_data_x , testing_data_x, training_data_y, testing_data_y)\n",
    "nn_learner.set_callbacks([acc_nn])"
   ]
  },
  {
   "cell_type": "code",
   "execution_count": 21,
   "id": "877b6cc7",
   "metadata": {
    "execution": {
     "iopub.execute_input": "2021-11-29T20:11:00.700737Z",
     "iopub.status.busy": "2021-11-29T20:11:00.700036Z",
     "iopub.status.idle": "2021-11-29T20:11:00.714614Z",
     "shell.execute_reply": "2021-11-29T20:11:00.715289Z"
    },
    "papermill": {
     "duration": 0.059795,
     "end_time": "2021-11-29T20:11:00.715508",
     "exception": false,
     "start_time": "2021-11-29T20:11:00.655713",
     "status": "completed"
    },
    "tags": []
   },
   "outputs": [],
   "source": [
    "lr_learner = Learner(loss, model_lr, opt, config.num_epochs)\n",
    "acc_lr = ClfCallback(lr_learner, config.bs, training_data_x , testing_data_x, training_data_y, testing_data_y)\n",
    "lr_learner.set_callbacks([acc_lr])"
   ]
  },
  {
   "cell_type": "code",
   "execution_count": 22,
   "id": "d9b133c3",
   "metadata": {
    "execution": {
     "iopub.execute_input": "2021-11-29T20:11:00.817887Z",
     "iopub.status.busy": "2021-11-29T20:11:00.817122Z",
     "iopub.status.idle": "2021-11-29T20:14:26.701918Z",
     "shell.execute_reply": "2021-11-29T20:14:26.702945Z"
    },
    "papermill": {
     "duration": 205.933693,
     "end_time": "2021-11-29T20:14:26.703128",
     "exception": false,
     "start_time": "2021-11-29T20:11:00.769435",
     "status": "completed"
    },
    "tags": []
   },
   "outputs": [
    {
     "name": "stdout",
     "output_type": "stream",
     "text": [
      "Epoch 0, Loss 0.2387\n",
      "Training Accuracy: 0.6412, Testing Accuracy: 0.6361\n",
      "\n"
     ]
    },
    {
     "name": "stdout",
     "output_type": "stream",
     "text": [
      "Epoch 10, Loss 0.1029\n",
      "Training Accuracy: 0.9262, Testing Accuracy: 0.9345\n",
      "\n"
     ]
    },
    {
     "name": "stdout",
     "output_type": "stream",
     "text": [
      "Epoch 20, Loss 0.0577\n",
      "Training Accuracy: 0.9438, Testing Accuracy: 0.9536\n",
      "\n"
     ]
    },
    {
     "name": "stdout",
     "output_type": "stream",
     "text": [
      "Epoch 30, Loss 0.0449\n",
      "Training Accuracy: 0.9513, Testing Accuracy: 0.9627\n",
      "\n"
     ]
    },
    {
     "name": "stdout",
     "output_type": "stream",
     "text": [
      "Epoch 40, Loss 0.0387\n",
      "Training Accuracy: 0.9572, Testing Accuracy: 0.9657\n",
      "\n"
     ]
    },
    {
     "name": "stdout",
     "output_type": "stream",
     "text": [
      "Epoch 50, Loss 0.0348\n",
      "Training Accuracy: 0.9605, Testing Accuracy: 0.9688\n",
      "\n"
     ]
    },
    {
     "name": "stdout",
     "output_type": "stream",
     "text": [
      "Epoch 60, Loss 0.0322\n",
      "Training Accuracy: 0.9629, Testing Accuracy: 0.9693\n",
      "\n"
     ]
    },
    {
     "name": "stdout",
     "output_type": "stream",
     "text": [
      "Epoch 70, Loss 0.0302\n",
      "Training Accuracy: 0.9647, Testing Accuracy: 0.9708\n",
      "\n"
     ]
    },
    {
     "name": "stdout",
     "output_type": "stream",
     "text": [
      "Epoch 80, Loss 0.0286\n",
      "Training Accuracy: 0.9670, Testing Accuracy: 0.9713\n",
      "\n"
     ]
    },
    {
     "name": "stdout",
     "output_type": "stream",
     "text": [
      "Epoch 90, Loss 0.0273\n",
      "Training Accuracy: 0.9682, Testing Accuracy: 0.9723\n",
      "\n"
     ]
    },
    {
     "name": "stdout",
     "output_type": "stream",
     "text": [
      "Epoch 100, Loss 0.0262\n",
      "Training Accuracy: 0.9699, Testing Accuracy: 0.9728\n",
      "\n"
     ]
    },
    {
     "name": "stdout",
     "output_type": "stream",
     "text": [
      "Epoch 110, Loss 0.0252\n",
      "Training Accuracy: 0.9709, Testing Accuracy: 0.9723\n",
      "\n"
     ]
    },
    {
     "name": "stdout",
     "output_type": "stream",
     "text": [
      "Epoch 120, Loss 0.0244\n",
      "Training Accuracy: 0.9724, Testing Accuracy: 0.9723\n",
      "\n"
     ]
    },
    {
     "name": "stdout",
     "output_type": "stream",
     "text": [
      "Epoch 130, Loss 0.0236\n",
      "Training Accuracy: 0.9733, Testing Accuracy: 0.9713\n",
      "\n"
     ]
    },
    {
     "name": "stdout",
     "output_type": "stream",
     "text": [
      "Epoch 140, Loss 0.0229\n",
      "Training Accuracy: 0.9743, Testing Accuracy: 0.9733\n",
      "\n"
     ]
    },
    {
     "name": "stdout",
     "output_type": "stream",
     "text": [
      "Epoch 150, Loss 0.0223\n",
      "Training Accuracy: 0.9748, Testing Accuracy: 0.9738\n",
      "\n"
     ]
    },
    {
     "name": "stdout",
     "output_type": "stream",
     "text": [
      "Epoch 160, Loss 0.0218\n",
      "Training Accuracy: 0.9758, Testing Accuracy: 0.9738\n",
      "\n"
     ]
    },
    {
     "name": "stdout",
     "output_type": "stream",
     "text": [
      "Epoch 170, Loss 0.0212\n",
      "Training Accuracy: 0.9767, Testing Accuracy: 0.9743\n",
      "\n"
     ]
    },
    {
     "name": "stdout",
     "output_type": "stream",
     "text": [
      "Epoch 180, Loss 0.0207\n",
      "Training Accuracy: 0.9776, Testing Accuracy: 0.9743\n",
      "\n"
     ]
    },
    {
     "name": "stdout",
     "output_type": "stream",
     "text": [
      "Epoch 190, Loss 0.0203\n",
      "Training Accuracy: 0.9784, Testing Accuracy: 0.9748\n",
      "\n"
     ]
    },
    {
     "name": "stdout",
     "output_type": "stream",
     "text": [
      "Epoch 200, Loss 0.0198\n",
      "Training Accuracy: 0.9787, Testing Accuracy: 0.9748\n",
      "\n"
     ]
    },
    {
     "name": "stdout",
     "output_type": "stream",
     "text": [
      "Epoch 210, Loss 0.0194\n",
      "Training Accuracy: 0.9789, Testing Accuracy: 0.9748\n",
      "\n"
     ]
    },
    {
     "name": "stdout",
     "output_type": "stream",
     "text": [
      "Epoch 220, Loss 0.019\n",
      "Training Accuracy: 0.9792, Testing Accuracy: 0.9748\n",
      "\n"
     ]
    },
    {
     "name": "stdout",
     "output_type": "stream",
     "text": [
      "Epoch 230, Loss 0.0186\n",
      "Training Accuracy: 0.9797, Testing Accuracy: 0.9758\n",
      "\n"
     ]
    },
    {
     "name": "stdout",
     "output_type": "stream",
     "text": [
      "Epoch 240, Loss 0.0183\n",
      "Training Accuracy: 0.9803, Testing Accuracy: 0.9758\n",
      "\n"
     ]
    },
    {
     "data": {
      "text/plain": [
       "0.001404292090114484"
      ]
     },
     "execution_count": 22,
     "metadata": {},
     "output_type": "execute_result"
    }
   ],
   "source": [
    "nn_learner.train_loop(dl)"
   ]
  },
  {
   "cell_type": "code",
   "execution_count": 23,
   "id": "e0163366",
   "metadata": {
    "execution": {
     "iopub.execute_input": "2021-11-29T20:14:26.850374Z",
     "iopub.status.busy": "2021-11-29T20:14:26.849627Z",
     "iopub.status.idle": "2021-11-29T20:15:01.116830Z",
     "shell.execute_reply": "2021-11-29T20:15:01.117801Z"
    },
    "papermill": {
     "duration": 34.360793,
     "end_time": "2021-11-29T20:15:01.117986",
     "exception": false,
     "start_time": "2021-11-29T20:14:26.757193",
     "status": "completed"
    },
    "tags": []
   },
   "outputs": [
    {
     "name": "stdout",
     "output_type": "stream",
     "text": [
      "Epoch 0, Loss 0.2505\n",
      "Training Accuracy: 0.6390, Testing Accuracy: 0.6734\n",
      "\n"
     ]
    },
    {
     "name": "stdout",
     "output_type": "stream",
     "text": [
      "Epoch 10, Loss 0.106\n",
      "Training Accuracy: 0.9074, Testing Accuracy: 0.9234\n",
      "\n"
     ]
    },
    {
     "name": "stdout",
     "output_type": "stream",
     "text": [
      "Epoch 20, Loss 0.0809\n",
      "Training Accuracy: 0.9281, Testing Accuracy: 0.9410\n",
      "\n"
     ]
    },
    {
     "name": "stdout",
     "output_type": "stream",
     "text": [
      "Epoch 30, Loss 0.0694\n",
      "Training Accuracy: 0.9370, Testing Accuracy: 0.9516\n",
      "\n"
     ]
    },
    {
     "name": "stdout",
     "output_type": "stream",
     "text": [
      "Epoch 40, Loss 0.0625\n",
      "Training Accuracy: 0.9416, Testing Accuracy: 0.9541\n",
      "\n"
     ]
    },
    {
     "name": "stdout",
     "output_type": "stream",
     "text": [
      "Epoch 50, Loss 0.0579\n",
      "Training Accuracy: 0.9443, Testing Accuracy: 0.9556\n",
      "\n"
     ]
    },
    {
     "name": "stdout",
     "output_type": "stream",
     "text": [
      "Epoch 60, Loss 0.0545\n",
      "Training Accuracy: 0.9470, Testing Accuracy: 0.9572\n",
      "\n"
     ]
    },
    {
     "name": "stdout",
     "output_type": "stream",
     "text": [
      "Epoch 70, Loss 0.0518\n",
      "Training Accuracy: 0.9495, Testing Accuracy: 0.9577\n",
      "\n"
     ]
    },
    {
     "name": "stdout",
     "output_type": "stream",
     "text": [
      "Epoch 80, Loss 0.0497\n",
      "Training Accuracy: 0.9508, Testing Accuracy: 0.9567\n",
      "\n"
     ]
    },
    {
     "name": "stdout",
     "output_type": "stream",
     "text": [
      "Epoch 90, Loss 0.048\n",
      "Training Accuracy: 0.9518, Testing Accuracy: 0.9577\n",
      "\n"
     ]
    },
    {
     "name": "stdout",
     "output_type": "stream",
     "text": [
      "Epoch 100, Loss 0.0465\n",
      "Training Accuracy: 0.9530, Testing Accuracy: 0.9572\n",
      "\n"
     ]
    },
    {
     "name": "stdout",
     "output_type": "stream",
     "text": [
      "Epoch 110, Loss 0.0453\n",
      "Training Accuracy: 0.9548, Testing Accuracy: 0.9577\n",
      "\n"
     ]
    },
    {
     "name": "stdout",
     "output_type": "stream",
     "text": [
      "Epoch 120, Loss 0.0442\n",
      "Training Accuracy: 0.9558, Testing Accuracy: 0.9587\n",
      "\n"
     ]
    },
    {
     "name": "stdout",
     "output_type": "stream",
     "text": [
      "Epoch 130, Loss 0.0432\n",
      "Training Accuracy: 0.9568, Testing Accuracy: 0.9592\n",
      "\n"
     ]
    },
    {
     "name": "stdout",
     "output_type": "stream",
     "text": [
      "Epoch 140, Loss 0.0424\n",
      "Training Accuracy: 0.9574, Testing Accuracy: 0.9607\n",
      "\n"
     ]
    },
    {
     "name": "stdout",
     "output_type": "stream",
     "text": [
      "Epoch 150, Loss 0.0416\n",
      "Training Accuracy: 0.9576, Testing Accuracy: 0.9607\n",
      "\n"
     ]
    },
    {
     "name": "stdout",
     "output_type": "stream",
     "text": [
      "Epoch 160, Loss 0.0409\n",
      "Training Accuracy: 0.9581, Testing Accuracy: 0.9612\n",
      "\n"
     ]
    },
    {
     "name": "stdout",
     "output_type": "stream",
     "text": [
      "Epoch 170, Loss 0.0403\n",
      "Training Accuracy: 0.9581, Testing Accuracy: 0.9617\n",
      "\n"
     ]
    },
    {
     "name": "stdout",
     "output_type": "stream",
     "text": [
      "Epoch 180, Loss 0.0397\n",
      "Training Accuracy: 0.9589, Testing Accuracy: 0.9637\n",
      "\n"
     ]
    },
    {
     "name": "stdout",
     "output_type": "stream",
     "text": [
      "Epoch 190, Loss 0.0392\n",
      "Training Accuracy: 0.9593, Testing Accuracy: 0.9637\n",
      "\n"
     ]
    },
    {
     "name": "stdout",
     "output_type": "stream",
     "text": [
      "Epoch 200, Loss 0.0387\n",
      "Training Accuracy: 0.9594, Testing Accuracy: 0.9637\n",
      "\n"
     ]
    },
    {
     "name": "stdout",
     "output_type": "stream",
     "text": [
      "Epoch 210, Loss 0.0383\n",
      "Training Accuracy: 0.9599, Testing Accuracy: 0.9642\n",
      "\n"
     ]
    },
    {
     "name": "stdout",
     "output_type": "stream",
     "text": [
      "Epoch 220, Loss 0.0378\n",
      "Training Accuracy: 0.9602, Testing Accuracy: 0.9652\n",
      "\n"
     ]
    },
    {
     "name": "stdout",
     "output_type": "stream",
     "text": [
      "Epoch 230, Loss 0.0374\n",
      "Training Accuracy: 0.9606, Testing Accuracy: 0.9652\n",
      "\n"
     ]
    },
    {
     "name": "stdout",
     "output_type": "stream",
     "text": [
      "Epoch 240, Loss 0.0371\n",
      "Training Accuracy: 0.9612, Testing Accuracy: 0.9652\n",
      "\n"
     ]
    },
    {
     "data": {
      "text/plain": [
       "0.08184836571681323"
      ]
     },
     "execution_count": 23,
     "metadata": {},
     "output_type": "execute_result"
    }
   ],
   "source": [
    "lr_learner.train_loop(dl)"
   ]
  },
  {
   "cell_type": "code",
   "execution_count": 24,
   "id": "ca410940",
   "metadata": {
    "execution": {
     "iopub.execute_input": "2021-11-29T20:15:01.309700Z",
     "iopub.status.busy": "2021-11-29T20:15:01.308956Z",
     "iopub.status.idle": "2021-11-29T20:15:01.788381Z",
     "shell.execute_reply": "2021-11-29T20:15:01.787791Z"
    },
    "papermill": {
     "duration": 0.564537,
     "end_time": "2021-11-29T20:15:01.788541",
     "exception": false,
     "start_time": "2021-11-29T20:15:01.224004",
     "status": "completed"
    },
    "tags": []
   },
   "outputs": [
    {
     "data": {
      "text/plain": [
       "<matplotlib.legend.Legend at 0x7f3a4187ac50>"
      ]
     },
     "execution_count": 24,
     "metadata": {},
     "output_type": "execute_result"
    },
    {
     "data": {
      "image/png": "[encoded data removed]",
      "text/plain": [
       "<Figure size 1080x720 with 1 Axes>"
      ]
     },
     "metadata": {
      "needs_background": "light"
     },
     "output_type": "display_data"
    }
   ],
   "source": [
    "#comparing the results of NN and LR\n",
    "plt.figure(figsize=(15,10))\n",
    "\n",
    "# Neural Network plots\n",
    "plt.plot(acc_nn.accuracies, 'r-', label = \"Training Accuracies - NN\")\n",
    "plt.plot(acc_nn.test_accuracies, 'g-', label = \"Testing Accuracies - NN\")\n",
    "\n",
    "# Logistic Regression plots\n",
    "plt.plot(acc_lr.accuracies, 'k-', label = \"Training Accuracies - LR\")\n",
    "plt.plot(acc_lr.test_accuracies, 'b-', label = \"Testing Accuracies - LR\")\n",
    "plt.legend()"
   ]
  },
  {
   "cell_type": "markdown",
   "id": "80dfb35c",
   "metadata": {
    "papermill": {
     "duration": 0.081162,
     "end_time": "2021-11-29T20:15:01.934388",
     "exception": false,
     "start_time": "2021-11-29T20:15:01.853226",
     "status": "completed"
    },
    "tags": []
   },
   "source": [
    "#### Plotting the outputs of this layer of the NN.\n"
   ]
  },
  {
   "cell_type": "code",
   "execution_count": 25,
   "id": "45eb2ff5",
   "metadata": {
    "execution": {
     "iopub.execute_input": "2021-11-29T20:15:02.080708Z",
     "iopub.status.busy": "2021-11-29T20:15:02.080024Z",
     "iopub.status.idle": "2021-11-29T20:15:02.111660Z",
     "shell.execute_reply": "2021-11-29T20:15:02.112578Z"
    },
    "papermill": {
     "duration": 0.094657,
     "end_time": "2021-11-29T20:15:02.112790",
     "exception": false,
     "start_time": "2021-11-29T20:15:02.018133",
     "status": "completed"
    },
    "tags": []
   },
   "outputs": [],
   "source": [
    "new_model = Model(layers[:-2])\n",
    "testing_plot = new_model(testing_data_x)"
   ]
  },
  {
   "cell_type": "code",
   "execution_count": 26,
   "id": "4c0a5485",
   "metadata": {
    "execution": {
     "iopub.execute_input": "2021-11-29T20:15:02.388876Z",
     "iopub.status.busy": "2021-11-29T20:15:02.386685Z",
     "iopub.status.idle": "2021-11-29T20:15:02.808919Z",
     "shell.execute_reply": "2021-11-29T20:15:02.808305Z"
    },
    "papermill": {
     "duration": 0.579814,
     "end_time": "2021-11-29T20:15:02.809083",
     "exception": false,
     "start_time": "2021-11-29T20:15:02.229269",
     "status": "completed"
    },
    "tags": []
   },
   "outputs": [
    {
     "data": {
      "text/plain": [
       "Text(0.5, 1.0, 'Outputs')"
      ]
     },
     "execution_count": 26,
     "metadata": {},
     "output_type": "execute_result"
    },
    {
     "data": {
      "image/png": "[encoded data removed]",
      "text/plain": [
       "<Figure size 576x504 with 1 Axes>"
      ]
     },
     "metadata": {
      "needs_background": "light"
     },
     "output_type": "display_data"
    }
   ],
   "source": [
    "# Plotting the scatter plot of points and color coding by class\n",
    "plt.figure(figsize=(8,7))\n",
    "plt.scatter(testing_plot[:,0], testing_plot[:,1], alpha = 0.1, c = y_test.ravel());\n",
    "plt.title('Outputs')"
   ]
  },
  {
   "cell_type": "markdown",
   "id": "a74fcf8f",
   "metadata": {
    "papermill": {
     "duration": 0.063613,
     "end_time": "2021-11-29T20:15:03.068314",
     "exception": false,
     "start_time": "2021-11-29T20:15:03.004701",
     "status": "completed"
    },
    "tags": []
   },
   "source": [
    "Probability contours"
   ]
  },
  {
   "cell_type": "code",
   "execution_count": 27,
   "id": "d0afc8e3",
   "metadata": {
    "execution": {
     "iopub.execute_input": "2021-11-29T20:15:03.236103Z",
     "iopub.status.busy": "2021-11-29T20:15:03.234913Z",
     "iopub.status.idle": "2021-11-29T20:15:03.249296Z",
     "shell.execute_reply": "2021-11-29T20:15:03.249886Z"
    },
    "papermill": {
     "duration": 0.080722,
     "end_time": "2021-11-29T20:15:03.250058",
     "exception": false,
     "start_time": "2021-11-29T20:15:03.169336",
     "status": "completed"
    },
    "tags": []
   },
   "outputs": [],
   "source": [
    "model_prob = Model(layers[-2:]) "
   ]
  },
  {
   "cell_type": "code",
   "execution_count": 28,
   "id": "9b96e238",
   "metadata": {
    "execution": {
     "iopub.execute_input": "2021-11-29T20:15:03.522035Z",
     "iopub.status.busy": "2021-11-29T20:15:03.520844Z",
     "iopub.status.idle": "2021-11-29T20:15:03.538866Z",
     "shell.execute_reply": "2021-11-29T20:15:03.537793Z"
    },
    "papermill": {
     "duration": 0.132568,
     "end_time": "2021-11-29T20:15:03.539047",
     "exception": false,
     "start_time": "2021-11-29T20:15:03.406479",
     "status": "completed"
    },
    "tags": []
   },
   "outputs": [],
   "source": [
    "#creating the x and y ranges according to the above generated plot.\n",
    "x_range = np.linspace(-4, 1, 100) \n",
    "y_range = np.linspace(-6, 6, 100) \n",
    "x_grid, y_grid = np.meshgrid(x_range, y_range) # x_grid and y_grig are of size 100 X 100\n",
    "\n",
    "# converting x_grid and y_grid to continuous arrays\n",
    "x_gridflat = np.ravel(x_grid)\n",
    "y_gridflat = np.ravel(y_grid)\n",
    "\n",
    "# The last layer of the current model takes two columns as input. Hence transpose of np.vstack() is required.\n",
    "X = np.vstack((x_gridflat, y_gridflat)).T\n",
    "\n",
    "prob_contour = model_prob(X).reshape(100,100) "
   ]
  },
  {
   "cell_type": "code",
   "execution_count": 29,
   "id": "da72499a",
   "metadata": {
    "execution": {
     "iopub.execute_input": "2021-11-29T20:15:03.766410Z",
     "iopub.status.busy": "2021-11-29T20:15:03.765681Z",
     "iopub.status.idle": "2021-11-29T20:15:04.261156Z",
     "shell.execute_reply": "2021-11-29T20:15:04.262544Z"
    },
    "papermill": {
     "duration": 0.665841,
     "end_time": "2021-11-29T20:15:04.262734",
     "exception": false,
     "start_time": "2021-11-29T20:15:03.596893",
     "status": "completed"
    },
    "tags": []
   },
   "outputs": [
    {
     "data": {
      "image/png": "[encoded data removed]",
      "text/plain": [
       "<Figure size 720x648 with 1 Axes>"
      ]
     },
     "metadata": {
      "needs_background": "light"
     },
     "output_type": "display_data"
    }
   ],
   "source": [
    "plt.figure(figsize=(10,9))\n",
    "plt.scatter(testing_plot[:,0], testing_plot[:,1], alpha = 0.1, c = y_test.ravel())\n",
    "contours = plt.contour(x_grid,y_grid,prob_contour)\n",
    "plt.title('Probability Contours')\n",
    "plt.clabel(contours, inline = True );"
   ]
  },
  {
   "cell_type": "code",
   "execution_count": null,
   "id": "e81b4ac7",
   "metadata": {
    "papermill": {
     "duration": 0.064616,
     "end_time": "2021-11-29T20:15:04.461069",
     "exception": false,
     "start_time": "2021-11-29T20:15:04.396453",
     "status": "completed"
    },
    "tags": []
   },
   "outputs": [],
   "source": []
  }
 ],
 "metadata": {
  "kernelspec": {
   "display_name": "Python 3",
   "language": "python",
   "name": "python3"
  },
  "language_info": {
   "codemirror_mode": {
    "name": "ipython",
    "version": 3
   },
   "file_extension": ".py",
   "mimetype": "text/x-python",
   "name": "python",
   "nbconvert_exporter": "python",
   "pygments_lexer": "ipython3",
   "version": "3.6.15"
  },
  "papermill": {
   "default_parameters": {},
   "duration": 255.363313,
   "end_time": "2021-11-29T20:15:05.263892",
   "environment_variables": {},
   "exception": null,
   "input_path": "2020-08-11-part2.ipynb",
   "output_path": "2020-08-11-part2.ipynb",
   "parameters": {},
   "start_time": "2021-11-29T20:10:49.900579",
   "version": "2.3.3"
  }
 },
 "nbformat": 4,
 "nbformat_minor": 5
}