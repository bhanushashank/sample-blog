{
 "cells": [
  {
   "cell_type": "markdown",
   "id": "98380cd3",
   "metadata": {
    "papermill": {
     "duration": 0.030427,
     "end_time": "2022-11-15T00:40:45.781329",
     "exception": false,
     "start_time": "2022-11-15T00:40:45.750902",
     "status": "completed"
    },
    "tags": []
   },
   "source": [
    "# Distinguish Your Own Digits (DYOD)"
   ]
  },
  {
   "cell_type": "markdown",
   "id": "ef31240d",
   "metadata": {
    "papermill": {
     "duration": 0.024209,
     "end_time": "2022-11-15T00:40:45.831578",
     "exception": false,
     "start_time": "2022-11-15T00:40:45.807369",
     "status": "completed"
    },
    "tags": []
   },
   "source": [
    "You are going to write a classifier that distinguishes between the number 3 and number 8."
   ]
  },
  {
   "cell_type": "code",
   "execution_count": 1,
   "id": "b15c8646",
   "metadata": {
    "execution": {
     "iopub.execute_input": "2022-11-15T00:40:45.890713Z",
     "iopub.status.busy": "2022-11-15T00:40:45.890096Z",
     "iopub.status.idle": "2022-11-15T00:40:45.901325Z",
     "shell.execute_reply": "2022-11-15T00:40:45.900852Z"
    },
    "papermill": {
     "duration": 0.045894,
     "end_time": "2022-11-15T00:40:45.901462",
     "exception": false,
     "start_time": "2022-11-15T00:40:45.855568",
     "status": "completed"
    },
    "tags": []
   },
   "outputs": [],
   "source": [
    "%load_ext autoreload\n",
    "%autoreload 2"
   ]
  },
  {
   "cell_type": "code",
   "execution_count": 2,
   "id": "22ef38dc",
   "metadata": {
    "execution": {
     "iopub.execute_input": "2022-11-15T00:40:45.956269Z",
     "iopub.status.busy": "2022-11-15T00:40:45.955631Z",
     "iopub.status.idle": "2022-11-15T00:40:46.531512Z",
     "shell.execute_reply": "2022-11-15T00:40:46.530993Z"
    },
    "papermill": {
     "duration": 0.606097,
     "end_time": "2022-11-15T00:40:46.531648",
     "exception": false,
     "start_time": "2022-11-15T00:40:45.925551",
     "status": "completed"
    },
    "tags": []
   },
   "outputs": [],
   "source": [
    "%matplotlib inline\n",
    "import numpy as np\n",
    "import matplotlib.pyplot as plt\n",
    "import pandas as pd"
   ]
  },
  {
   "cell_type": "markdown",
   "id": "ba036198",
   "metadata": {
    "papermill": {
     "duration": 0.024298,
     "end_time": "2022-11-15T00:40:46.580194",
     "exception": false,
     "start_time": "2022-11-15T00:40:46.555896",
     "status": "completed"
    },
    "tags": []
   },
   "source": [
    "From the command line run `pip install mnist`. This is a library that will help you bring down the mnist dataset. If you run this from a notebook, you need to put  `!pip install mnist` in a cell by itself."
   ]
  },
  {
   "cell_type": "code",
   "execution_count": 3,
   "id": "bb6ad8a1",
   "metadata": {
    "execution": {
     "iopub.execute_input": "2022-11-15T00:40:46.633930Z",
     "iopub.status.busy": "2022-11-15T00:40:46.633297Z",
     "iopub.status.idle": "2022-11-15T00:40:48.314494Z",
     "shell.execute_reply": "2022-11-15T00:40:48.315083Z"
    },
    "papermill": {
     "duration": 1.71056,
     "end_time": "2022-11-15T00:40:48.315252",
     "exception": false,
     "start_time": "2022-11-15T00:40:46.604692",
     "status": "completed"
    },
    "tags": []
   },
   "outputs": [
    {
     "name": "stdout",
     "output_type": "stream",
     "text": [
      "Collecting mnist\r\n"
     ]
    },
    {
     "name": "stdout",
     "output_type": "stream",
     "text": [
      "  Downloading mnist-0.2.2-py2.py3-none-any.whl (3.5 kB)\r\n",
      "Requirement already satisfied: numpy in /opt/hostedtoolcache/Python/3.6.15/x64/lib/python3.6/site-packages (from mnist) (1.19.5)\r\n"
     ]
    },
    {
     "name": "stdout",
     "output_type": "stream",
     "text": [
      "Installing collected packages: mnist\r\n",
      "Successfully installed mnist-0.2.2\r\n"
     ]
    }
   ],
   "source": [
    "!pip install mnist"
   ]
  },
  {
   "cell_type": "markdown",
   "id": "69df9c9a",
   "metadata": {
    "papermill": {
     "duration": 0.025716,
     "end_time": "2022-11-15T00:40:48.366705",
     "exception": false,
     "start_time": "2022-11-15T00:40:48.340989",
     "status": "completed"
    },
    "tags": []
   },
   "source": [
    "## Preparing the Data"
   ]
  },
  {
   "cell_type": "code",
   "execution_count": 4,
   "id": "7f69d806",
   "metadata": {
    "execution": {
     "iopub.execute_input": "2022-11-15T00:40:48.430797Z",
     "iopub.status.busy": "2022-11-15T00:40:48.430154Z",
     "iopub.status.idle": "2022-11-15T00:40:48.440216Z",
     "shell.execute_reply": "2022-11-15T00:40:48.439738Z"
    },
    "papermill": {
     "duration": 0.048362,
     "end_time": "2022-11-15T00:40:48.440344",
     "exception": false,
     "start_time": "2022-11-15T00:40:48.391982",
     "status": "completed"
    },
    "tags": []
   },
   "outputs": [],
   "source": [
    "import mnist"
   ]
  },
  {
   "cell_type": "code",
   "execution_count": 5,
   "id": "a411e44f",
   "metadata": {
    "execution": {
     "iopub.execute_input": "2022-11-15T00:40:48.498954Z",
     "iopub.status.busy": "2022-11-15T00:40:48.498363Z",
     "iopub.status.idle": "2022-11-15T00:40:49.119168Z",
     "shell.execute_reply": "2022-11-15T00:40:49.118574Z"
    },
    "papermill": {
     "duration": 0.653733,
     "end_time": "2022-11-15T00:40:49.119317",
     "exception": false,
     "start_time": "2022-11-15T00:40:48.465584",
     "status": "completed"
    },
    "tags": []
   },
   "outputs": [],
   "source": [
    "train_images = mnist.train_images()\n",
    "train_labels = mnist.train_labels()"
   ]
  },
  {
   "cell_type": "code",
   "execution_count": 6,
   "id": "dceab3a5",
   "metadata": {
    "execution": {
     "iopub.execute_input": "2022-11-15T00:40:49.176481Z",
     "iopub.status.busy": "2022-11-15T00:40:49.175884Z",
     "iopub.status.idle": "2022-11-15T00:40:49.190162Z",
     "shell.execute_reply": "2022-11-15T00:40:49.189539Z"
    },
    "papermill": {
     "duration": 0.044978,
     "end_time": "2022-11-15T00:40:49.190282",
     "exception": false,
     "start_time": "2022-11-15T00:40:49.145304",
     "status": "completed"
    },
    "tags": []
   },
   "outputs": [
    {
     "data": {
      "text/plain": [
       "((60000, 28, 28), (60000,))"
      ]
     },
     "execution_count": 6,
     "metadata": {},
     "output_type": "execute_result"
    }
   ],
   "source": [
    "train_images.shape, train_labels.shape"
   ]
  },
  {
   "cell_type": "code",
   "execution_count": 7,
   "id": "f50dc2bb",
   "metadata": {
    "execution": {
     "iopub.execute_input": "2022-11-15T00:40:49.250397Z",
     "iopub.status.busy": "2022-11-15T00:40:49.249764Z",
     "iopub.status.idle": "2022-11-15T00:40:49.440107Z",
     "shell.execute_reply": "2022-11-15T00:40:49.439511Z"
    },
    "papermill": {
     "duration": 0.224741,
     "end_time": "2022-11-15T00:40:49.440253",
     "exception": false,
     "start_time": "2022-11-15T00:40:49.215512",
     "status": "completed"
    },
    "tags": []
   },
   "outputs": [],
   "source": [
    "test_images = mnist.test_images()\n",
    "test_labels = mnist.test_labels()"
   ]
  },
  {
   "cell_type": "code",
   "execution_count": 8,
   "id": "fc38cf1b",
   "metadata": {
    "execution": {
     "iopub.execute_input": "2022-11-15T00:40:49.496271Z",
     "iopub.status.busy": "2022-11-15T00:40:49.495634Z",
     "iopub.status.idle": "2022-11-15T00:40:49.509056Z",
     "shell.execute_reply": "2022-11-15T00:40:49.509654Z"
    },
    "papermill": {
     "duration": 0.043697,
     "end_time": "2022-11-15T00:40:49.509804",
     "exception": false,
     "start_time": "2022-11-15T00:40:49.466107",
     "status": "completed"
    },
    "tags": []
   },
   "outputs": [
    {
     "data": {
      "text/plain": [
       "((10000, 28, 28), (10000,))"
      ]
     },
     "execution_count": 8,
     "metadata": {},
     "output_type": "execute_result"
    }
   ],
   "source": [
    "test_images.shape, test_labels.shape"
   ]
  },
  {
   "cell_type": "code",
   "execution_count": 9,
   "id": "f9ed8fe0",
   "metadata": {
    "execution": {
     "iopub.execute_input": "2022-11-15T00:40:49.566193Z",
     "iopub.status.busy": "2022-11-15T00:40:49.565517Z",
     "iopub.status.idle": "2022-11-15T00:40:49.707285Z",
     "shell.execute_reply": "2022-11-15T00:40:49.707749Z"
    },
    "papermill": {
     "duration": 0.172361,
     "end_time": "2022-11-15T00:40:49.707894",
     "exception": false,
     "start_time": "2022-11-15T00:40:49.535533",
     "status": "completed"
    },
    "tags": []
   },
   "outputs": [
    {
     "name": "stdout",
     "output_type": "stream",
     "text": [
      "2\n"
     ]
    },
    {
     "data": {
      "text/plain": [
       "<matplotlib.image.AxesImage at 0x7f38824dada0>"
      ]
     },
     "execution_count": 9,
     "metadata": {},
     "output_type": "execute_result"
    },
    {
     "data": {
      "image/png": "[encoded data removed]",
      "text/plain": [
       "<Figure size 432x288 with 1 Axes>"
      ]
     },
     "metadata": {
      "needs_background": "light"
     },
     "output_type": "display_data"
    }
   ],
   "source": [
    "image_index = 7776 # You may select anything up to 60,000\n",
    "print(train_labels[image_index]) \n",
    "plt.imshow(train_images[image_index], cmap='Greys')"
   ]
  },
  {
   "cell_type": "markdown",
   "id": "a8d2388d",
   "metadata": {
    "papermill": {
     "duration": 0.027074,
     "end_time": "2022-11-15T00:40:49.761852",
     "exception": false,
     "start_time": "2022-11-15T00:40:49.734778",
     "status": "completed"
    },
    "tags": []
   },
   "source": [
    "## Filter data to get 3 and 8 out"
   ]
  },
  {
   "cell_type": "code",
   "execution_count": 10,
   "id": "776f7fc7",
   "metadata": {
    "execution": {
     "iopub.execute_input": "2022-11-15T00:40:49.821182Z",
     "iopub.status.busy": "2022-11-15T00:40:49.820509Z",
     "iopub.status.idle": "2022-11-15T00:40:49.840718Z",
     "shell.execute_reply": "2022-11-15T00:40:49.840157Z"
    },
    "papermill": {
     "duration": 0.052341,
     "end_time": "2022-11-15T00:40:49.840852",
     "exception": false,
     "start_time": "2022-11-15T00:40:49.788511",
     "status": "completed"
    },
    "tags": []
   },
   "outputs": [],
   "source": [
    "train_filter = np.where((train_labels == 3 ) | (train_labels == 8))\n",
    "test_filter = np.where((test_labels == 3) | (test_labels == 8))\n",
    "X_train, y_train = train_images[train_filter], train_labels[train_filter]\n",
    "X_test, y_test = test_images[test_filter], test_labels[test_filter]"
   ]
  },
  {
   "cell_type": "markdown",
   "id": "948f0b7e",
   "metadata": {
    "papermill": {
     "duration": 0.026891,
     "end_time": "2022-11-15T00:40:49.894743",
     "exception": false,
     "start_time": "2022-11-15T00:40:49.867852",
     "status": "completed"
    },
    "tags": []
   },
   "source": [
    "We normalize the pizel values in the 0 to 1 range"
   ]
  },
  {
   "cell_type": "code",
   "execution_count": 11,
   "id": "ee4c2166",
   "metadata": {
    "execution": {
     "iopub.execute_input": "2022-11-15T00:40:49.952627Z",
     "iopub.status.busy": "2022-11-15T00:40:49.952013Z",
     "iopub.status.idle": "2022-11-15T00:40:50.000563Z",
     "shell.execute_reply": "2022-11-15T00:40:49.999947Z"
    },
    "papermill": {
     "duration": 0.079465,
     "end_time": "2022-11-15T00:40:50.000707",
     "exception": false,
     "start_time": "2022-11-15T00:40:49.921242",
     "status": "completed"
    },
    "tags": []
   },
   "outputs": [],
   "source": [
    "X_train = X_train/255.\n",
    "X_test = X_test/255."
   ]
  },
  {
   "cell_type": "markdown",
   "id": "ddcf4fab",
   "metadata": {
    "papermill": {
     "duration": 0.026783,
     "end_time": "2022-11-15T00:40:50.054799",
     "exception": false,
     "start_time": "2022-11-15T00:40:50.028016",
     "status": "completed"
    },
    "tags": []
   },
   "source": [
    "And setup the labels as 1 (when the digit is 3) and 0 (when the digit is 8)"
   ]
  },
  {
   "cell_type": "code",
   "execution_count": 12,
   "id": "7dc908f2",
   "metadata": {
    "execution": {
     "iopub.execute_input": "2022-11-15T00:40:50.113851Z",
     "iopub.status.busy": "2022-11-15T00:40:50.113180Z",
     "iopub.status.idle": "2022-11-15T00:40:50.125797Z",
     "shell.execute_reply": "2022-11-15T00:40:50.126273Z"
    },
    "papermill": {
     "duration": 0.044927,
     "end_time": "2022-11-15T00:40:50.126424",
     "exception": false,
     "start_time": "2022-11-15T00:40:50.081497",
     "status": "completed"
    },
    "tags": []
   },
   "outputs": [],
   "source": [
    "y_train = 1*(y_train==3)\n",
    "y_test = 1*(y_test==3)"
   ]
  },
  {
   "cell_type": "code",
   "execution_count": 13,
   "id": "01e4e969",
   "metadata": {
    "execution": {
     "iopub.execute_input": "2022-11-15T00:40:50.184871Z",
     "iopub.status.busy": "2022-11-15T00:40:50.184246Z",
     "iopub.status.idle": "2022-11-15T00:40:50.198437Z",
     "shell.execute_reply": "2022-11-15T00:40:50.198927Z"
    },
    "papermill": {
     "duration": 0.045599,
     "end_time": "2022-11-15T00:40:50.199072",
     "exception": false,
     "start_time": "2022-11-15T00:40:50.153473",
     "status": "completed"
    },
    "tags": []
   },
   "outputs": [
    {
     "data": {
      "text/plain": [
       "((11982, 28, 28), (1984, 28, 28))"
      ]
     },
     "execution_count": 13,
     "metadata": {},
     "output_type": "execute_result"
    }
   ],
   "source": [
    "X_train.shape, X_test.shape"
   ]
  },
  {
   "cell_type": "markdown",
   "id": "5ccf3f85",
   "metadata": {
    "papermill": {
     "duration": 0.02698,
     "end_time": "2022-11-15T00:40:50.253101",
     "exception": false,
     "start_time": "2022-11-15T00:40:50.226121",
     "status": "completed"
    },
    "tags": []
   },
   "source": [
    "We reshape the data to flatten the image pixels into a set of features or co-variates:"
   ]
  },
  {
   "cell_type": "code",
   "execution_count": 14,
   "id": "5286a4a3",
   "metadata": {
    "execution": {
     "iopub.execute_input": "2022-11-15T00:40:50.314564Z",
     "iopub.status.busy": "2022-11-15T00:40:50.313892Z",
     "iopub.status.idle": "2022-11-15T00:40:50.327879Z",
     "shell.execute_reply": "2022-11-15T00:40:50.327384Z"
    },
    "papermill": {
     "duration": 0.047645,
     "end_time": "2022-11-15T00:40:50.328003",
     "exception": false,
     "start_time": "2022-11-15T00:40:50.280358",
     "status": "completed"
    },
    "tags": []
   },
   "outputs": [
    {
     "data": {
      "text/plain": [
       "((11982, 784), (1984, 784))"
      ]
     },
     "execution_count": 14,
     "metadata": {},
     "output_type": "execute_result"
    }
   ],
   "source": [
    "X_train = X_train.reshape(X_train.shape[0], -1)\n",
    "X_test = X_test.reshape(X_test.shape[0], -1)\n",
    "X_train.shape, X_test.shape"
   ]
  },
  {
   "cell_type": "code",
   "execution_count": 15,
   "id": "73c5f88a",
   "metadata": {
    "execution": {
     "iopub.execute_input": "2022-11-15T00:40:50.387579Z",
     "iopub.status.busy": "2022-11-15T00:40:50.386983Z",
     "iopub.status.idle": "2022-11-15T00:40:50.406506Z",
     "shell.execute_reply": "2022-11-15T00:40:50.406002Z"
    },
    "papermill": {
     "duration": 0.051304,
     "end_time": "2022-11-15T00:40:50.406625",
     "exception": false,
     "start_time": "2022-11-15T00:40:50.355321",
     "status": "completed"
    },
    "tags": []
   },
   "outputs": [],
   "source": [
    "#Impoting functions from 'Kudzu'\n",
    "from kudzu.model import Model\n",
    "from kudzu.train import Learner\n",
    "from kudzu.optim import GD\n",
    "from kudzu.data import Data, Sampler,Dataloader\n",
    "\n",
    "from kudzu.callbacks import AccCallback\n",
    "from kudzu.callbacks import ClfCallback\n",
    "\n",
    "from kudzu.loss import MSE\n",
    "\n",
    "from kudzu.layer import Sigmoid,Relu\n",
    "from kudzu.layer import Affine"
   ]
  },
  {
   "cell_type": "markdown",
   "id": "bc01172a",
   "metadata": {
    "papermill": {
     "duration": 0.026949,
     "end_time": "2022-11-15T00:40:50.460728",
     "exception": false,
     "start_time": "2022-11-15T00:40:50.433779",
     "status": "completed"
    },
    "tags": []
   },
   "source": [
    "### Let us create a `Config` class, to store important parameters. \n",
    "This class essentially plays the role of a dictionary."
   ]
  },
  {
   "cell_type": "code",
   "execution_count": 16,
   "id": "978281aa",
   "metadata": {
    "execution": {
     "iopub.execute_input": "2022-11-15T00:40:50.524076Z",
     "iopub.status.busy": "2022-11-15T00:40:50.523438Z",
     "iopub.status.idle": "2022-11-15T00:40:50.533420Z",
     "shell.execute_reply": "2022-11-15T00:40:50.532926Z"
    },
    "papermill": {
     "duration": 0.046029,
     "end_time": "2022-11-15T00:40:50.533540",
     "exception": false,
     "start_time": "2022-11-15T00:40:50.487511",
     "status": "completed"
    },
    "tags": []
   },
   "outputs": [],
   "source": [
    "class Config:\n",
    "    pass\n",
    "config = Config()\n",
    "config.lr = 0.001\n",
    "config.num_epochs = 250\n",
    "config.bs = 50"
   ]
  },
  {
   "cell_type": "markdown",
   "id": "1385fa59",
   "metadata": {
    "papermill": {
     "duration": 0.027214,
     "end_time": "2022-11-15T00:40:50.588165",
     "exception": false,
     "start_time": "2022-11-15T00:40:50.560951",
     "status": "completed"
    },
    "tags": []
   },
   "source": [
    "### Running Models with the Training data\n",
    "Details about the network layers:\n",
    "- A first affine layer has 784 inputs and does 100 affine transforms. These are followed by a Relu\n",
    "- A second affine layer has 100 inputs from the 100 activations of the past layer, and does 100 affine transforms. These are followed by a Relu\n",
    "- A third affine layer has 100 activations and does 2 affine transformations to create an embedding for visualization. There is no non-linearity here.\n",
    "- A final \"logistic regression\" which has an affine transform from 2 inputs to 1 output, which is squeezed through a sigmoid.\n"
   ]
  },
  {
   "cell_type": "code",
   "execution_count": 17,
   "id": "2b9c66db",
   "metadata": {
    "execution": {
     "iopub.execute_input": "2022-11-15T00:40:50.649785Z",
     "iopub.status.busy": "2022-11-15T00:40:50.649036Z",
     "iopub.status.idle": "2022-11-15T00:40:50.661572Z",
     "shell.execute_reply": "2022-11-15T00:40:50.661053Z"
    },
    "papermill": {
     "duration": 0.045626,
     "end_time": "2022-11-15T00:40:50.661728",
     "exception": false,
     "start_time": "2022-11-15T00:40:50.616102",
     "status": "completed"
    },
    "tags": []
   },
   "outputs": [],
   "source": [
    "data = Data(X_train, y_train.reshape(-1,1))\n",
    "sampler = Sampler(data, config.bs, shuffle=True)\n",
    "\n",
    "dl = Dataloader(data, sampler)\n",
    "\n",
    "opt = GD(config.lr)\n",
    "loss = MSE()"
   ]
  },
  {
   "cell_type": "code",
   "execution_count": 18,
   "id": "b275e4c2",
   "metadata": {
    "execution": {
     "iopub.execute_input": "2022-11-15T00:40:50.726623Z",
     "iopub.status.busy": "2022-11-15T00:40:50.725973Z",
     "iopub.status.idle": "2022-11-15T00:40:50.735603Z",
     "shell.execute_reply": "2022-11-15T00:40:50.735110Z"
    },
    "papermill": {
     "duration": 0.046733,
     "end_time": "2022-11-15T00:40:50.735723",
     "exception": false,
     "start_time": "2022-11-15T00:40:50.688990",
     "status": "completed"
    },
    "tags": []
   },
   "outputs": [],
   "source": [
    "training_data_x = X_train\n",
    "testing_data_x = X_test\n",
    "training_data_y = y_train.reshape(-1,1)\n",
    "testing_data_y = y_test.reshape(-1,1)"
   ]
  },
  {
   "cell_type": "code",
   "execution_count": 19,
   "id": "76951160",
   "metadata": {
    "execution": {
     "iopub.execute_input": "2022-11-15T00:40:50.795139Z",
     "iopub.status.busy": "2022-11-15T00:40:50.794540Z",
     "iopub.status.idle": "2022-11-15T00:40:50.811541Z",
     "shell.execute_reply": "2022-11-15T00:40:50.812022Z"
    },
    "papermill": {
     "duration": 0.049205,
     "end_time": "2022-11-15T00:40:50.812156",
     "exception": false,
     "start_time": "2022-11-15T00:40:50.762951",
     "status": "completed"
    },
    "tags": []
   },
   "outputs": [
    {
     "name": "stdout",
     "output_type": "stream",
     "text": [
      "xavier\n",
      "xavier\n",
      "xavier\n",
      "xavier\n",
      "xavier\n"
     ]
    }
   ],
   "source": [
    "layers = [Affine(\"first\", 784, 100), Relu(\"first\"), Affine(\"second\", 100, 100), Relu(\"second\"), Affine(\"third\", 100, 2), Affine(\"last\", 2, 1), Sigmoid(\"last\")]\n",
    "model_nn = Model(layers)\n",
    "model_lr = Model([Affine(\"logits\", 784, 1), Sigmoid(\"sigmoid\")])"
   ]
  },
  {
   "cell_type": "code",
   "execution_count": 20,
   "id": "6eede77a",
   "metadata": {
    "execution": {
     "iopub.execute_input": "2022-11-15T00:40:50.871501Z",
     "iopub.status.busy": "2022-11-15T00:40:50.870912Z",
     "iopub.status.idle": "2022-11-15T00:40:50.884483Z",
     "shell.execute_reply": "2022-11-15T00:40:50.883995Z"
    },
    "papermill": {
     "duration": 0.045023,
     "end_time": "2022-11-15T00:40:50.884604",
     "exception": false,
     "start_time": "2022-11-15T00:40:50.839581",
     "status": "completed"
    },
    "tags": []
   },
   "outputs": [],
   "source": [
    "nn_learner = Learner(loss, model_nn, opt, config.num_epochs)\n",
    "acc_nn = ClfCallback(nn_learner, config.bs, training_data_x , testing_data_x, training_data_y, testing_data_y)\n",
    "nn_learner.set_callbacks([acc_nn])"
   ]
  },
  {
   "cell_type": "code",
   "execution_count": 21,
   "id": "877b6cc7",
   "metadata": {
    "execution": {
     "iopub.execute_input": "2022-11-15T00:40:50.945096Z",
     "iopub.status.busy": "2022-11-15T00:40:50.944290Z",
     "iopub.status.idle": "2022-11-15T00:40:50.956472Z",
     "shell.execute_reply": "2022-11-15T00:40:50.956917Z"
    },
    "papermill": {
     "duration": 0.044857,
     "end_time": "2022-11-15T00:40:50.957063",
     "exception": false,
     "start_time": "2022-11-15T00:40:50.912206",
     "status": "completed"
    },
    "tags": []
   },
   "outputs": [],
   "source": [
    "lr_learner = Learner(loss, model_lr, opt, config.num_epochs)\n",
    "acc_lr = ClfCallback(lr_learner, config.bs, training_data_x , testing_data_x, training_data_y, testing_data_y)\n",
    "lr_learner.set_callbacks([acc_lr])"
   ]
  },
  {
   "cell_type": "code",
   "execution_count": 22,
   "id": "d9b133c3",
   "metadata": {
    "execution": {
     "iopub.execute_input": "2022-11-15T00:40:51.017387Z",
     "iopub.status.busy": "2022-11-15T00:40:51.016771Z",
     "iopub.status.idle": "2022-11-15T00:42:12.774349Z",
     "shell.execute_reply": "2022-11-15T00:42:12.775225Z"
    },
    "papermill": {
     "duration": 81.790743,
     "end_time": "2022-11-15T00:42:12.775379",
     "exception": false,
     "start_time": "2022-11-15T00:40:50.984636",
     "status": "completed"
    },
    "tags": []
   },
   "outputs": [
    {
     "name": "stdout",
     "output_type": "stream",
     "text": [
      "Epoch 0, Loss 0.2434\n",
      "Training Accuracy: 0.5727, Testing Accuracy: 0.5736\n",
      "\n"
     ]
    },
    {
     "name": "stdout",
     "output_type": "stream",
     "text": [
      "Epoch 10, Loss 0.1546\n",
      "Training Accuracy: 0.8959, Testing Accuracy: 0.8982\n",
      "\n"
     ]
    },
    {
     "name": "stdout",
     "output_type": "stream",
     "text": [
      "Epoch 20, Loss 0.0776\n",
      "Training Accuracy: 0.9278, Testing Accuracy: 0.9375\n",
      "\n"
     ]
    },
    {
     "name": "stdout",
     "output_type": "stream",
     "text": [
      "Epoch 30, Loss 0.0534\n",
      "Training Accuracy: 0.9430, Testing Accuracy: 0.9516\n",
      "\n"
     ]
    },
    {
     "name": "stdout",
     "output_type": "stream",
     "text": [
      "Epoch 40, Loss 0.0434\n",
      "Training Accuracy: 0.9507, Testing Accuracy: 0.9612\n",
      "\n"
     ]
    },
    {
     "name": "stdout",
     "output_type": "stream",
     "text": [
      "Epoch 50, Loss 0.0382\n",
      "Training Accuracy: 0.9557, Testing Accuracy: 0.9647\n",
      "\n"
     ]
    },
    {
     "name": "stdout",
     "output_type": "stream",
     "text": [
      "Epoch 60, Loss 0.0349\n",
      "Training Accuracy: 0.9594, Testing Accuracy: 0.9677\n",
      "\n"
     ]
    },
    {
     "name": "stdout",
     "output_type": "stream",
     "text": [
      "Epoch 70, Loss 0.0326\n",
      "Training Accuracy: 0.9608, Testing Accuracy: 0.9682\n",
      "\n"
     ]
    },
    {
     "name": "stdout",
     "output_type": "stream",
     "text": [
      "Epoch 80, Loss 0.0309\n",
      "Training Accuracy: 0.9633, Testing Accuracy: 0.9693\n",
      "\n"
     ]
    },
    {
     "name": "stdout",
     "output_type": "stream",
     "text": [
      "Epoch 90, Loss 0.0295\n",
      "Training Accuracy: 0.9655, Testing Accuracy: 0.9688\n",
      "\n"
     ]
    },
    {
     "name": "stdout",
     "output_type": "stream",
     "text": [
      "Epoch 100, Loss 0.0283\n",
      "Training Accuracy: 0.9665, Testing Accuracy: 0.9688\n",
      "\n"
     ]
    },
    {
     "name": "stdout",
     "output_type": "stream",
     "text": [
      "Epoch 110, Loss 0.0274\n",
      "Training Accuracy: 0.9683, Testing Accuracy: 0.9703\n",
      "\n"
     ]
    },
    {
     "name": "stdout",
     "output_type": "stream",
     "text": [
      "Epoch 120, Loss 0.0265\n",
      "Training Accuracy: 0.9690, Testing Accuracy: 0.9698\n",
      "\n"
     ]
    },
    {
     "name": "stdout",
     "output_type": "stream",
     "text": [
      "Epoch 130, Loss 0.0258\n",
      "Training Accuracy: 0.9701, Testing Accuracy: 0.9693\n",
      "\n"
     ]
    },
    {
     "name": "stdout",
     "output_type": "stream",
     "text": [
      "Epoch 140, Loss 0.0251\n",
      "Training Accuracy: 0.9710, Testing Accuracy: 0.9698\n",
      "\n"
     ]
    },
    {
     "name": "stdout",
     "output_type": "stream",
     "text": [
      "Epoch 150, Loss 0.0245\n",
      "Training Accuracy: 0.9720, Testing Accuracy: 0.9693\n",
      "\n"
     ]
    },
    {
     "name": "stdout",
     "output_type": "stream",
     "text": [
      "Epoch 160, Loss 0.0239\n",
      "Training Accuracy: 0.9727, Testing Accuracy: 0.9698\n",
      "\n"
     ]
    },
    {
     "name": "stdout",
     "output_type": "stream",
     "text": [
      "Epoch 170, Loss 0.0234\n",
      "Training Accuracy: 0.9734, Testing Accuracy: 0.9698\n",
      "\n"
     ]
    },
    {
     "name": "stdout",
     "output_type": "stream",
     "text": [
      "Epoch 180, Loss 0.0229\n",
      "Training Accuracy: 0.9736, Testing Accuracy: 0.9703\n",
      "\n"
     ]
    },
    {
     "name": "stdout",
     "output_type": "stream",
     "text": [
      "Epoch 190, Loss 0.0225\n",
      "Training Accuracy: 0.9745, Testing Accuracy: 0.9703\n",
      "\n"
     ]
    },
    {
     "name": "stdout",
     "output_type": "stream",
     "text": [
      "Epoch 200, Loss 0.022\n",
      "Training Accuracy: 0.9750, Testing Accuracy: 0.9703\n",
      "\n"
     ]
    },
    {
     "name": "stdout",
     "output_type": "stream",
     "text": [
      "Epoch 210, Loss 0.0216\n",
      "Training Accuracy: 0.9752, Testing Accuracy: 0.9698\n",
      "\n"
     ]
    },
    {
     "name": "stdout",
     "output_type": "stream",
     "text": [
      "Epoch 220, Loss 0.0212\n",
      "Training Accuracy: 0.9758, Testing Accuracy: 0.9708\n",
      "\n"
     ]
    },
    {
     "name": "stdout",
     "output_type": "stream",
     "text": [
      "Epoch 230, Loss 0.0208\n",
      "Training Accuracy: 0.9761, Testing Accuracy: 0.9708\n",
      "\n"
     ]
    },
    {
     "name": "stdout",
     "output_type": "stream",
     "text": [
      "Epoch 240, Loss 0.0205\n",
      "Training Accuracy: 0.9765, Testing Accuracy: 0.9718\n",
      "\n"
     ]
    },
    {
     "data": {
      "text/plain": [
       "0.04241665137913224"
      ]
     },
     "execution_count": 22,
     "metadata": {},
     "output_type": "execute_result"
    }
   ],
   "source": [
    "nn_learner.train_loop(dl)"
   ]
  },
  {
   "cell_type": "code",
   "execution_count": 23,
   "id": "e0163366",
   "metadata": {
    "execution": {
     "iopub.execute_input": "2022-11-15T00:42:12.855918Z",
     "iopub.status.busy": "2022-11-15T00:42:12.855271Z",
     "iopub.status.idle": "2022-11-15T00:42:27.995048Z",
     "shell.execute_reply": "2022-11-15T00:42:27.995942Z"
    },
    "papermill": {
     "duration": 15.185041,
     "end_time": "2022-11-15T00:42:27.996102",
     "exception": false,
     "start_time": "2022-11-15T00:42:12.811061",
     "status": "completed"
    },
    "tags": []
   },
   "outputs": [
    {
     "name": "stdout",
     "output_type": "stream",
     "text": [
      "Epoch 0, Loss 0.2169\n",
      "Training Accuracy: 0.7680, Testing Accuracy: 0.7797\n",
      "\n"
     ]
    },
    {
     "name": "stdout",
     "output_type": "stream",
     "text": [
      "Epoch 10, Loss 0.1013\n",
      "Training Accuracy: 0.9084, Testing Accuracy: 0.9209\n",
      "\n"
     ]
    },
    {
     "name": "stdout",
     "output_type": "stream",
     "text": [
      "Epoch 20, Loss 0.0786\n",
      "Training Accuracy: 0.9266, Testing Accuracy: 0.9410\n",
      "\n"
     ]
    },
    {
     "name": "stdout",
     "output_type": "stream",
     "text": [
      "Epoch 30, Loss 0.0679\n",
      "Training Accuracy: 0.9359, Testing Accuracy: 0.9501\n",
      "\n"
     ]
    },
    {
     "name": "stdout",
     "output_type": "stream",
     "text": [
      "Epoch 40, Loss 0.0613\n",
      "Training Accuracy: 0.9421, Testing Accuracy: 0.9531\n",
      "\n"
     ]
    },
    {
     "name": "stdout",
     "output_type": "stream",
     "text": [
      "Epoch 50, Loss 0.0569\n",
      "Training Accuracy: 0.9456, Testing Accuracy: 0.9531\n",
      "\n"
     ]
    },
    {
     "name": "stdout",
     "output_type": "stream",
     "text": [
      "Epoch 60, Loss 0.0536\n",
      "Training Accuracy: 0.9478, Testing Accuracy: 0.9541\n",
      "\n"
     ]
    },
    {
     "name": "stdout",
     "output_type": "stream",
     "text": [
      "Epoch 70, Loss 0.051\n",
      "Training Accuracy: 0.9493, Testing Accuracy: 0.9556\n",
      "\n"
     ]
    },
    {
     "name": "stdout",
     "output_type": "stream",
     "text": [
      "Epoch 80, Loss 0.049\n",
      "Training Accuracy: 0.9508, Testing Accuracy: 0.9572\n",
      "\n"
     ]
    },
    {
     "name": "stdout",
     "output_type": "stream",
     "text": [
      "Epoch 90, Loss 0.0473\n",
      "Training Accuracy: 0.9523, Testing Accuracy: 0.9592\n",
      "\n"
     ]
    },
    {
     "name": "stdout",
     "output_type": "stream",
     "text": [
      "Epoch 100, Loss 0.0459\n",
      "Training Accuracy: 0.9534, Testing Accuracy: 0.9602\n",
      "\n"
     ]
    },
    {
     "name": "stdout",
     "output_type": "stream",
     "text": [
      "Epoch 110, Loss 0.0447\n",
      "Training Accuracy: 0.9543, Testing Accuracy: 0.9602\n",
      "\n"
     ]
    },
    {
     "name": "stdout",
     "output_type": "stream",
     "text": [
      "Epoch 120, Loss 0.0437\n",
      "Training Accuracy: 0.9548, Testing Accuracy: 0.9607\n",
      "\n"
     ]
    },
    {
     "name": "stdout",
     "output_type": "stream",
     "text": [
      "Epoch 130, Loss 0.0427\n",
      "Training Accuracy: 0.9560, Testing Accuracy: 0.9622\n",
      "\n"
     ]
    },
    {
     "name": "stdout",
     "output_type": "stream",
     "text": [
      "Epoch 140, Loss 0.0419\n",
      "Training Accuracy: 0.9574, Testing Accuracy: 0.9627\n",
      "\n"
     ]
    },
    {
     "name": "stdout",
     "output_type": "stream",
     "text": [
      "Epoch 150, Loss 0.0412\n",
      "Training Accuracy: 0.9582, Testing Accuracy: 0.9637\n",
      "\n"
     ]
    },
    {
     "name": "stdout",
     "output_type": "stream",
     "text": [
      "Epoch 160, Loss 0.0405\n",
      "Training Accuracy: 0.9585, Testing Accuracy: 0.9642\n",
      "\n"
     ]
    },
    {
     "name": "stdout",
     "output_type": "stream",
     "text": [
      "Epoch 170, Loss 0.0399\n",
      "Training Accuracy: 0.9594, Testing Accuracy: 0.9647\n",
      "\n"
     ]
    },
    {
     "name": "stdout",
     "output_type": "stream",
     "text": [
      "Epoch 180, Loss 0.0393\n",
      "Training Accuracy: 0.9598, Testing Accuracy: 0.9647\n",
      "\n"
     ]
    },
    {
     "name": "stdout",
     "output_type": "stream",
     "text": [
      "Epoch 190, Loss 0.0388\n",
      "Training Accuracy: 0.9602, Testing Accuracy: 0.9642\n",
      "\n"
     ]
    },
    {
     "name": "stdout",
     "output_type": "stream",
     "text": [
      "Epoch 200, Loss 0.0383\n",
      "Training Accuracy: 0.9608, Testing Accuracy: 0.9647\n",
      "\n"
     ]
    },
    {
     "name": "stdout",
     "output_type": "stream",
     "text": [
      "Epoch 210, Loss 0.0379\n",
      "Training Accuracy: 0.9609, Testing Accuracy: 0.9647\n",
      "\n"
     ]
    },
    {
     "name": "stdout",
     "output_type": "stream",
     "text": [
      "Epoch 220, Loss 0.0375\n",
      "Training Accuracy: 0.9616, Testing Accuracy: 0.9647\n",
      "\n"
     ]
    },
    {
     "name": "stdout",
     "output_type": "stream",
     "text": [
      "Epoch 230, Loss 0.0371\n",
      "Training Accuracy: 0.9619, Testing Accuracy: 0.9642\n",
      "\n"
     ]
    },
    {
     "name": "stdout",
     "output_type": "stream",
     "text": [
      "Epoch 240, Loss 0.0367\n",
      "Training Accuracy: 0.9619, Testing Accuracy: 0.9642\n",
      "\n"
     ]
    },
    {
     "data": {
      "text/plain": [
       "0.04708669866737407"
      ]
     },
     "execution_count": 23,
     "metadata": {},
     "output_type": "execute_result"
    }
   ],
   "source": [
    "lr_learner.train_loop(dl)"
   ]
  },
  {
   "cell_type": "code",
   "execution_count": 24,
   "id": "ca410940",
   "metadata": {
    "execution": {
     "iopub.execute_input": "2022-11-15T00:42:28.093404Z",
     "iopub.status.busy": "2022-11-15T00:42:28.092746Z",
     "iopub.status.idle": "2022-11-15T00:42:28.327626Z",
     "shell.execute_reply": "2022-11-15T00:42:28.327125Z"
    },
    "papermill": {
     "duration": 0.289411,
     "end_time": "2022-11-15T00:42:28.327748",
     "exception": false,
     "start_time": "2022-11-15T00:42:28.038337",
     "status": "completed"
    },
    "tags": []
   },
   "outputs": [
    {
     "data": {
      "text/plain": [
       "<matplotlib.legend.Legend at 0x7f3882048400>"
      ]
     },
     "execution_count": 24,
     "metadata": {},
     "output_type": "execute_result"
    },
    {
     "data": {
      "image/png": "[encoded data removed]",
      "text/plain": [
       "<Figure size 1080x720 with 1 Axes>"
      ]
     },
     "metadata": {
      "needs_background": "light"
     },
     "output_type": "display_data"
    }
   ],
   "source": [
    "#comparing the results of NN and LR\n",
    "plt.figure(figsize=(15,10))\n",
    "\n",
    "# Neural Network plots\n",
    "plt.plot(acc_nn.accuracies, 'r-', label = \"Training Accuracies - NN\")\n",
    "plt.plot(acc_nn.test_accuracies, 'g-', label = \"Testing Accuracies - NN\")\n",
    "\n",
    "# Logistic Regression plots\n",
    "plt.plot(acc_lr.accuracies, 'k-', label = \"Training Accuracies - LR\")\n",
    "plt.plot(acc_lr.test_accuracies, 'b-', label = \"Testing Accuracies - LR\")\n",
    "plt.legend()"
   ]
  },
  {
   "cell_type": "markdown",
   "id": "80dfb35c",
   "metadata": {
    "papermill": {
     "duration": 0.04246,
     "end_time": "2022-11-15T00:42:28.413592",
     "exception": false,
     "start_time": "2022-11-15T00:42:28.371132",
     "status": "completed"
    },
    "tags": []
   },
   "source": [
    "#### Plotting the outputs of this layer of the NN.\n"
   ]
  },
  {
   "cell_type": "code",
   "execution_count": 25,
   "id": "45eb2ff5",
   "metadata": {
    "execution": {
     "iopub.execute_input": "2022-11-15T00:42:28.504109Z",
     "iopub.status.busy": "2022-11-15T00:42:28.503483Z",
     "iopub.status.idle": "2022-11-15T00:42:28.526641Z",
     "shell.execute_reply": "2022-11-15T00:42:28.525593Z"
    },
    "papermill": {
     "duration": 0.070663,
     "end_time": "2022-11-15T00:42:28.526780",
     "exception": false,
     "start_time": "2022-11-15T00:42:28.456117",
     "status": "completed"
    },
    "tags": []
   },
   "outputs": [],
   "source": [
    "new_model = Model(layers[:-2])\n",
    "testing_plot = new_model(testing_data_x)"
   ]
  },
  {
   "cell_type": "code",
   "execution_count": 26,
   "id": "4c0a5485",
   "metadata": {
    "execution": {
     "iopub.execute_input": "2022-11-15T00:42:28.620606Z",
     "iopub.status.busy": "2022-11-15T00:42:28.618528Z",
     "iopub.status.idle": "2022-11-15T00:42:28.836119Z",
     "shell.execute_reply": "2022-11-15T00:42:28.836704Z"
    },
    "papermill": {
     "duration": 0.267095,
     "end_time": "2022-11-15T00:42:28.836854",
     "exception": false,
     "start_time": "2022-11-15T00:42:28.569759",
     "status": "completed"
    },
    "tags": []
   },
   "outputs": [
    {
     "data": {
      "text/plain": [
       "Text(0.5, 1.0, 'Outputs')"
      ]
     },
     "execution_count": 26,
     "metadata": {},
     "output_type": "execute_result"
    },
    {
     "data": {
      "image/png": "[encoded data removed]",
      "text/plain": [
       "<Figure size 576x504 with 1 Axes>"
      ]
     },
     "metadata": {
      "needs_background": "light"
     },
     "output_type": "display_data"
    }
   ],
   "source": [
    "# Plotting the scatter plot of points and color coding by class\n",
    "plt.figure(figsize=(8,7))\n",
    "plt.scatter(testing_plot[:,0], testing_plot[:,1], alpha = 0.1, c = y_test.ravel());\n",
    "plt.title('Outputs')"
   ]
  },
  {
   "cell_type": "markdown",
   "id": "a74fcf8f",
   "metadata": {
    "papermill": {
     "duration": 0.045291,
     "end_time": "2022-11-15T00:42:28.928130",
     "exception": false,
     "start_time": "2022-11-15T00:42:28.882839",
     "status": "completed"
    },
    "tags": []
   },
   "source": [
    "Probability contours"
   ]
  },
  {
   "cell_type": "code",
   "execution_count": 27,
   "id": "d0afc8e3",
   "metadata": {
    "execution": {
     "iopub.execute_input": "2022-11-15T00:42:29.025429Z",
     "iopub.status.busy": "2022-11-15T00:42:29.024831Z",
     "iopub.status.idle": "2022-11-15T00:42:29.036529Z",
     "shell.execute_reply": "2022-11-15T00:42:29.036061Z"
    },
    "papermill": {
     "duration": 0.063056,
     "end_time": "2022-11-15T00:42:29.036651",
     "exception": false,
     "start_time": "2022-11-15T00:42:28.973595",
     "status": "completed"
    },
    "tags": []
   },
   "outputs": [],
   "source": [
    "model_prob = Model(layers[-2:]) "
   ]
  },
  {
   "cell_type": "code",
   "execution_count": 28,
   "id": "9b96e238",
   "metadata": {
    "execution": {
     "iopub.execute_input": "2022-11-15T00:42:29.134824Z",
     "iopub.status.busy": "2022-11-15T00:42:29.134231Z",
     "iopub.status.idle": "2022-11-15T00:42:29.148998Z",
     "shell.execute_reply": "2022-11-15T00:42:29.148530Z"
    },
    "papermill": {
     "duration": 0.066432,
     "end_time": "2022-11-15T00:42:29.149118",
     "exception": false,
     "start_time": "2022-11-15T00:42:29.082686",
     "status": "completed"
    },
    "tags": []
   },
   "outputs": [],
   "source": [
    "#creating the x and y ranges according to the above generated plot.\n",
    "x_range = np.linspace(-4, 1, 100) \n",
    "y_range = np.linspace(-6, 6, 100) \n",
    "x_grid, y_grid = np.meshgrid(x_range, y_range) # x_grid and y_grig are of size 100 X 100\n",
    "\n",
    "# converting x_grid and y_grid to continuous arrays\n",
    "x_gridflat = np.ravel(x_grid)\n",
    "y_gridflat = np.ravel(y_grid)\n",
    "\n",
    "# The last layer of the current model takes two columns as input. Hence transpose of np.vstack() is required.\n",
    "X = np.vstack((x_gridflat, y_gridflat)).T\n",
    "\n",
    "prob_contour = model_prob(X).reshape(100,100) "
   ]
  },
  {
   "cell_type": "code",
   "execution_count": 29,
   "id": "da72499a",
   "metadata": {
    "execution": {
     "iopub.execute_input": "2022-11-15T00:42:29.288727Z",
     "iopub.status.busy": "2022-11-15T00:42:29.288115Z",
     "iopub.status.idle": "2022-11-15T00:42:29.532050Z",
     "shell.execute_reply": "2022-11-15T00:42:29.532629Z"
    },
    "papermill": {
     "duration": 0.302523,
     "end_time": "2022-11-15T00:42:29.532775",
     "exception": false,
     "start_time": "2022-11-15T00:42:29.230252",
     "status": "completed"
    },
    "tags": []
   },
   "outputs": [
    {
     "data": {
      "image/png": "[encoded data removed]",
      "text/plain": [
       "<Figure size 720x648 with 1 Axes>"
      ]
     },
     "metadata": {
      "needs_background": "light"
     },
     "output_type": "display_data"
    }
   ],
   "source": [
    "plt.figure(figsize=(10,9))\n",
    "plt.scatter(testing_plot[:,0], testing_plot[:,1], alpha = 0.1, c = y_test.ravel())\n",
    "contours = plt.contour(x_grid,y_grid,prob_contour)\n",
    "plt.title('Probability Contours')\n",
    "plt.clabel(contours, inline = True );"
   ]
  },
  {
   "cell_type": "code",
   "execution_count": null,
   "id": "e81b4ac7",
   "metadata": {
    "papermill": {
     "duration": 0.048383,
     "end_time": "2022-11-15T00:42:29.629868",
     "exception": false,
     "start_time": "2022-11-15T00:42:29.581485",
     "status": "completed"
    },
    "tags": []
   },
   "outputs": [],
   "source": []
  }
 ],
 "metadata": {
  "kernelspec": {
   "display_name": "Python 3",
   "language": "python",
   "name": "python3"
  },
  "language_info": {
   "codemirror_mode": {
    "name": "ipython",
    "version": 3
   },
   "file_extension": ".py",
   "mimetype": "text/x-python",
   "name": "python",
   "nbconvert_exporter": "python",
   "pygments_lexer": "ipython3",
   "version": "3.6.15"
  },
  "papermill": {
   "default_parameters": {},
   "duration": 105.507485,
   "end_time": "2022-11-15T00:42:30.197818",
   "environment_variables": {},
   "exception": null,
   "input_path": "2020-08-11-part2.ipynb",
   "output_path": "2020-08-11-part2.ipynb",
   "parameters": {},
   "start_time": "2022-11-15T00:40:44.690333",
   "version": "2.3.3"
  }
 },
 "nbformat": 4,
 "nbformat_minor": 5
}