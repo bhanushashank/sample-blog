{
 "cells": [
  {
   "cell_type": "markdown",
   "id": "98380cd3",
   "metadata": {
    "papermill": {
     "duration": 0.029657,
     "end_time": "2022-08-28T10:10:56.615177",
     "exception": false,
     "start_time": "2022-08-28T10:10:56.585520",
     "status": "completed"
    },
    "tags": []
   },
   "source": [
    "# Distinguish Your Own Digits (DYOD)"
   ]
  },
  {
   "cell_type": "markdown",
   "id": "ef31240d",
   "metadata": {
    "papermill": {
     "duration": 0.024089,
     "end_time": "2022-08-28T10:10:56.663967",
     "exception": false,
     "start_time": "2022-08-28T10:10:56.639878",
     "status": "completed"
    },
    "tags": []
   },
   "source": [
    "You are going to write a classifier that distinguishes between the number 3 and number 8."
   ]
  },
  {
   "cell_type": "code",
   "execution_count": 1,
   "id": "b15c8646",
   "metadata": {
    "execution": {
     "iopub.execute_input": "2022-08-28T10:10:56.723430Z",
     "iopub.status.busy": "2022-08-28T10:10:56.722797Z",
     "iopub.status.idle": "2022-08-28T10:10:56.734092Z",
     "shell.execute_reply": "2022-08-28T10:10:56.733599Z"
    },
    "papermill": {
     "duration": 0.046263,
     "end_time": "2022-08-28T10:10:56.734226",
     "exception": false,
     "start_time": "2022-08-28T10:10:56.687963",
     "status": "completed"
    },
    "tags": []
   },
   "outputs": [],
   "source": [
    "%load_ext autoreload\n",
    "%autoreload 2"
   ]
  },
  {
   "cell_type": "code",
   "execution_count": 2,
   "id": "22ef38dc",
   "metadata": {
    "execution": {
     "iopub.execute_input": "2022-08-28T10:10:56.787480Z",
     "iopub.status.busy": "2022-08-28T10:10:56.786860Z",
     "iopub.status.idle": "2022-08-28T10:10:57.341725Z",
     "shell.execute_reply": "2022-08-28T10:10:57.341209Z"
    },
    "papermill": {
     "duration": 0.583192,
     "end_time": "2022-08-28T10:10:57.341852",
     "exception": false,
     "start_time": "2022-08-28T10:10:56.758660",
     "status": "completed"
    },
    "tags": []
   },
   "outputs": [],
   "source": [
    "%matplotlib inline\n",
    "import numpy as np\n",
    "import matplotlib.pyplot as plt\n",
    "import pandas as pd"
   ]
  },
  {
   "cell_type": "markdown",
   "id": "ba036198",
   "metadata": {
    "papermill": {
     "duration": 0.024121,
     "end_time": "2022-08-28T10:10:57.391264",
     "exception": false,
     "start_time": "2022-08-28T10:10:57.367143",
     "status": "completed"
    },
    "tags": []
   },
   "source": [
    "From the command line run `pip install mnist`. This is a library that will help you bring down the mnist dataset. If you run this from a notebook, you need to put  `!pip install mnist` in a cell by itself."
   ]
  },
  {
   "cell_type": "code",
   "execution_count": 3,
   "id": "bb6ad8a1",
   "metadata": {
    "execution": {
     "iopub.execute_input": "2022-08-28T10:10:57.444545Z",
     "iopub.status.busy": "2022-08-28T10:10:57.443918Z",
     "iopub.status.idle": "2022-08-28T10:10:59.189032Z",
     "shell.execute_reply": "2022-08-28T10:10:59.188423Z"
    },
    "papermill": {
     "duration": 1.773618,
     "end_time": "2022-08-28T10:10:59.189165",
     "exception": false,
     "start_time": "2022-08-28T10:10:57.415547",
     "status": "completed"
    },
    "tags": []
   },
   "outputs": [
    {
     "name": "stdout",
     "output_type": "stream",
     "text": [
      "Collecting mnist\r\n"
     ]
    },
    {
     "name": "stdout",
     "output_type": "stream",
     "text": [
      "  Downloading mnist-0.2.2-py2.py3-none-any.whl (3.5 kB)\r\n",
      "Requirement already satisfied: numpy in /opt/hostedtoolcache/Python/3.6.15/x64/lib/python3.6/site-packages (from mnist) (1.19.5)\r\n"
     ]
    },
    {
     "name": "stdout",
     "output_type": "stream",
     "text": [
      "Installing collected packages: mnist\r\n"
     ]
    },
    {
     "name": "stdout",
     "output_type": "stream",
     "text": [
      "Successfully installed mnist-0.2.2\r\n"
     ]
    }
   ],
   "source": [
    "!pip install mnist"
   ]
  },
  {
   "cell_type": "markdown",
   "id": "69df9c9a",
   "metadata": {
    "papermill": {
     "duration": 0.025579,
     "end_time": "2022-08-28T10:10:59.241169",
     "exception": false,
     "start_time": "2022-08-28T10:10:59.215590",
     "status": "completed"
    },
    "tags": []
   },
   "source": [
    "## Preparing the Data"
   ]
  },
  {
   "cell_type": "code",
   "execution_count": 4,
   "id": "7f69d806",
   "metadata": {
    "execution": {
     "iopub.execute_input": "2022-08-28T10:10:59.295674Z",
     "iopub.status.busy": "2022-08-28T10:10:59.295068Z",
     "iopub.status.idle": "2022-08-28T10:10:59.310439Z",
     "shell.execute_reply": "2022-08-28T10:10:59.309962Z"
    },
    "papermill": {
     "duration": 0.044279,
     "end_time": "2022-08-28T10:10:59.310554",
     "exception": false,
     "start_time": "2022-08-28T10:10:59.266275",
     "status": "completed"
    },
    "tags": []
   },
   "outputs": [],
   "source": [
    "import mnist"
   ]
  },
  {
   "cell_type": "code",
   "execution_count": 5,
   "id": "a411e44f",
   "metadata": {
    "execution": {
     "iopub.execute_input": "2022-08-28T10:10:59.377529Z",
     "iopub.status.busy": "2022-08-28T10:10:59.372685Z",
     "iopub.status.idle": "2022-08-28T10:10:59.936299Z",
     "shell.execute_reply": "2022-08-28T10:10:59.935561Z"
    },
    "papermill": {
     "duration": 0.600523,
     "end_time": "2022-08-28T10:10:59.936476",
     "exception": false,
     "start_time": "2022-08-28T10:10:59.335953",
     "status": "completed"
    },
    "tags": []
   },
   "outputs": [],
   "source": [
    "train_images = mnist.train_images()\n",
    "train_labels = mnist.train_labels()"
   ]
  },
  {
   "cell_type": "code",
   "execution_count": 6,
   "id": "dceab3a5",
   "metadata": {
    "execution": {
     "iopub.execute_input": "2022-08-28T10:10:59.992348Z",
     "iopub.status.busy": "2022-08-28T10:10:59.991736Z",
     "iopub.status.idle": "2022-08-28T10:11:00.006653Z",
     "shell.execute_reply": "2022-08-28T10:11:00.007147Z"
    },
    "papermill": {
     "duration": 0.044743,
     "end_time": "2022-08-28T10:11:00.007288",
     "exception": false,
     "start_time": "2022-08-28T10:10:59.962545",
     "status": "completed"
    },
    "tags": []
   },
   "outputs": [
    {
     "data": {
      "text/plain": [
       "((60000, 28, 28), (60000,))"
      ]
     },
     "execution_count": 6,
     "metadata": {},
     "output_type": "execute_result"
    }
   ],
   "source": [
    "train_images.shape, train_labels.shape"
   ]
  },
  {
   "cell_type": "code",
   "execution_count": 7,
   "id": "f50dc2bb",
   "metadata": {
    "execution": {
     "iopub.execute_input": "2022-08-28T10:11:00.062435Z",
     "iopub.status.busy": "2022-08-28T10:11:00.061851Z",
     "iopub.status.idle": "2022-08-28T10:11:00.232007Z",
     "shell.execute_reply": "2022-08-28T10:11:00.231403Z"
    },
    "papermill": {
     "duration": 0.199356,
     "end_time": "2022-08-28T10:11:00.232142",
     "exception": false,
     "start_time": "2022-08-28T10:11:00.032786",
     "status": "completed"
    },
    "tags": []
   },
   "outputs": [],
   "source": [
    "test_images = mnist.test_images()\n",
    "test_labels = mnist.test_labels()"
   ]
  },
  {
   "cell_type": "code",
   "execution_count": 8,
   "id": "fc38cf1b",
   "metadata": {
    "execution": {
     "iopub.execute_input": "2022-08-28T10:11:00.288446Z",
     "iopub.status.busy": "2022-08-28T10:11:00.287839Z",
     "iopub.status.idle": "2022-08-28T10:11:00.303776Z",
     "shell.execute_reply": "2022-08-28T10:11:00.304336Z"
    },
    "papermill": {
     "duration": 0.045846,
     "end_time": "2022-08-28T10:11:00.304474",
     "exception": false,
     "start_time": "2022-08-28T10:11:00.258628",
     "status": "completed"
    },
    "tags": []
   },
   "outputs": [
    {
     "data": {
      "text/plain": [
       "((10000, 28, 28), (10000,))"
      ]
     },
     "execution_count": 8,
     "metadata": {},
     "output_type": "execute_result"
    }
   ],
   "source": [
    "test_images.shape, test_labels.shape"
   ]
  },
  {
   "cell_type": "code",
   "execution_count": 9,
   "id": "f9ed8fe0",
   "metadata": {
    "execution": {
     "iopub.execute_input": "2022-08-28T10:11:00.363656Z",
     "iopub.status.busy": "2022-08-28T10:11:00.363031Z",
     "iopub.status.idle": "2022-08-28T10:11:00.502605Z",
     "shell.execute_reply": "2022-08-28T10:11:00.502106Z"
    },
    "papermill": {
     "duration": 0.172401,
     "end_time": "2022-08-28T10:11:00.502723",
     "exception": false,
     "start_time": "2022-08-28T10:11:00.330322",
     "status": "completed"
    },
    "tags": []
   },
   "outputs": [
    {
     "name": "stdout",
     "output_type": "stream",
     "text": [
      "2\n"
     ]
    },
    {
     "data": {
      "text/plain": [
       "<matplotlib.image.AxesImage at 0x7f69840b19b0>"
      ]
     },
     "execution_count": 9,
     "metadata": {},
     "output_type": "execute_result"
    },
    {
     "data": {
      "image/png": "[encoded data removed]",
      "text/plain": [
       "<Figure size 432x288 with 1 Axes>"
      ]
     },
     "metadata": {
      "needs_background": "light"
     },
     "output_type": "display_data"
    }
   ],
   "source": [
    "image_index = 7776 # You may select anything up to 60,000\n",
    "print(train_labels[image_index]) \n",
    "plt.imshow(train_images[image_index], cmap='Greys')"
   ]
  },
  {
   "cell_type": "markdown",
   "id": "a8d2388d",
   "metadata": {
    "papermill": {
     "duration": 0.026876,
     "end_time": "2022-08-28T10:11:00.557112",
     "exception": false,
     "start_time": "2022-08-28T10:11:00.530236",
     "status": "completed"
    },
    "tags": []
   },
   "source": [
    "## Filter data to get 3 and 8 out"
   ]
  },
  {
   "cell_type": "code",
   "execution_count": 10,
   "id": "776f7fc7",
   "metadata": {
    "execution": {
     "iopub.execute_input": "2022-08-28T10:11:00.621018Z",
     "iopub.status.busy": "2022-08-28T10:11:00.615492Z",
     "iopub.status.idle": "2022-08-28T10:11:00.634341Z",
     "shell.execute_reply": "2022-08-28T10:11:00.633807Z"
    },
    "papermill": {
     "duration": 0.050234,
     "end_time": "2022-08-28T10:11:00.634463",
     "exception": false,
     "start_time": "2022-08-28T10:11:00.584229",
     "status": "completed"
    },
    "tags": []
   },
   "outputs": [],
   "source": [
    "train_filter = np.where((train_labels == 3 ) | (train_labels == 8))\n",
    "test_filter = np.where((test_labels == 3) | (test_labels == 8))\n",
    "X_train, y_train = train_images[train_filter], train_labels[train_filter]\n",
    "X_test, y_test = test_images[test_filter], test_labels[test_filter]"
   ]
  },
  {
   "cell_type": "markdown",
   "id": "948f0b7e",
   "metadata": {
    "papermill": {
     "duration": 0.026819,
     "end_time": "2022-08-28T10:11:00.688800",
     "exception": false,
     "start_time": "2022-08-28T10:11:00.661981",
     "status": "completed"
    },
    "tags": []
   },
   "source": [
    "We normalize the pizel values in the 0 to 1 range"
   ]
  },
  {
   "cell_type": "code",
   "execution_count": 11,
   "id": "ee4c2166",
   "metadata": {
    "execution": {
     "iopub.execute_input": "2022-08-28T10:11:00.746417Z",
     "iopub.status.busy": "2022-08-28T10:11:00.745831Z",
     "iopub.status.idle": "2022-08-28T10:11:00.794341Z",
     "shell.execute_reply": "2022-08-28T10:11:00.793763Z"
    },
    "papermill": {
     "duration": 0.078882,
     "end_time": "2022-08-28T10:11:00.794475",
     "exception": false,
     "start_time": "2022-08-28T10:11:00.715593",
     "status": "completed"
    },
    "tags": []
   },
   "outputs": [],
   "source": [
    "X_train = X_train/255.\n",
    "X_test = X_test/255."
   ]
  },
  {
   "cell_type": "markdown",
   "id": "ddcf4fab",
   "metadata": {
    "papermill": {
     "duration": 0.027525,
     "end_time": "2022-08-28T10:11:00.849953",
     "exception": false,
     "start_time": "2022-08-28T10:11:00.822428",
     "status": "completed"
    },
    "tags": []
   },
   "source": [
    "And setup the labels as 1 (when the digit is 3) and 0 (when the digit is 8)"
   ]
  },
  {
   "cell_type": "code",
   "execution_count": 12,
   "id": "7dc908f2",
   "metadata": {
    "execution": {
     "iopub.execute_input": "2022-08-28T10:11:00.907815Z",
     "iopub.status.busy": "2022-08-28T10:11:00.907183Z",
     "iopub.status.idle": "2022-08-28T10:11:00.920525Z",
     "shell.execute_reply": "2022-08-28T10:11:00.920028Z"
    },
    "papermill": {
     "duration": 0.043783,
     "end_time": "2022-08-28T10:11:00.920643",
     "exception": false,
     "start_time": "2022-08-28T10:11:00.876860",
     "status": "completed"
    },
    "tags": []
   },
   "outputs": [],
   "source": [
    "y_train = 1*(y_train==3)\n",
    "y_test = 1*(y_test==3)"
   ]
  },
  {
   "cell_type": "code",
   "execution_count": 13,
   "id": "01e4e969",
   "metadata": {
    "execution": {
     "iopub.execute_input": "2022-08-28T10:11:00.982333Z",
     "iopub.status.busy": "2022-08-28T10:11:00.981720Z",
     "iopub.status.idle": "2022-08-28T10:11:00.993799Z",
     "shell.execute_reply": "2022-08-28T10:11:00.994279Z"
    },
    "papermill": {
     "duration": 0.046761,
     "end_time": "2022-08-28T10:11:00.994415",
     "exception": false,
     "start_time": "2022-08-28T10:11:00.947654",
     "status": "completed"
    },
    "tags": []
   },
   "outputs": [
    {
     "data": {
      "text/plain": [
       "((11982, 28, 28), (1984, 28, 28))"
      ]
     },
     "execution_count": 13,
     "metadata": {},
     "output_type": "execute_result"
    }
   ],
   "source": [
    "X_train.shape, X_test.shape"
   ]
  },
  {
   "cell_type": "markdown",
   "id": "5ccf3f85",
   "metadata": {
    "papermill": {
     "duration": 0.027222,
     "end_time": "2022-08-28T10:11:01.048720",
     "exception": false,
     "start_time": "2022-08-28T10:11:01.021498",
     "status": "completed"
    },
    "tags": []
   },
   "source": [
    "We reshape the data to flatten the image pixels into a set of features or co-variates:"
   ]
  },
  {
   "cell_type": "code",
   "execution_count": 14,
   "id": "5286a4a3",
   "metadata": {
    "execution": {
     "iopub.execute_input": "2022-08-28T10:11:01.107591Z",
     "iopub.status.busy": "2022-08-28T10:11:01.106966Z",
     "iopub.status.idle": "2022-08-28T10:11:01.121314Z",
     "shell.execute_reply": "2022-08-28T10:11:01.120838Z"
    },
    "papermill": {
     "duration": 0.045438,
     "end_time": "2022-08-28T10:11:01.121428",
     "exception": false,
     "start_time": "2022-08-28T10:11:01.075990",
     "status": "completed"
    },
    "tags": []
   },
   "outputs": [
    {
     "data": {
      "text/plain": [
       "((11982, 784), (1984, 784))"
      ]
     },
     "execution_count": 14,
     "metadata": {},
     "output_type": "execute_result"
    }
   ],
   "source": [
    "X_train = X_train.reshape(X_train.shape[0], -1)\n",
    "X_test = X_test.reshape(X_test.shape[0], -1)\n",
    "X_train.shape, X_test.shape"
   ]
  },
  {
   "cell_type": "code",
   "execution_count": 15,
   "id": "73c5f88a",
   "metadata": {
    "execution": {
     "iopub.execute_input": "2022-08-28T10:11:01.183439Z",
     "iopub.status.busy": "2022-08-28T10:11:01.182798Z",
     "iopub.status.idle": "2022-08-28T10:11:01.200770Z",
     "shell.execute_reply": "2022-08-28T10:11:01.200270Z"
    },
    "papermill": {
     "duration": 0.051945,
     "end_time": "2022-08-28T10:11:01.200888",
     "exception": false,
     "start_time": "2022-08-28T10:11:01.148943",
     "status": "completed"
    },
    "tags": []
   },
   "outputs": [],
   "source": [
    "#Impoting functions from 'Kudzu'\n",
    "from kudzu.model import Model\n",
    "from kudzu.train import Learner\n",
    "from kudzu.optim import GD\n",
    "from kudzu.data import Data, Sampler,Dataloader\n",
    "\n",
    "from kudzu.callbacks import AccCallback\n",
    "from kudzu.callbacks import ClfCallback\n",
    "\n",
    "from kudzu.loss import MSE\n",
    "\n",
    "from kudzu.layer import Sigmoid,Relu\n",
    "from kudzu.layer import Affine"
   ]
  },
  {
   "cell_type": "markdown",
   "id": "bc01172a",
   "metadata": {
    "papermill": {
     "duration": 0.027621,
     "end_time": "2022-08-28T10:11:01.256290",
     "exception": false,
     "start_time": "2022-08-28T10:11:01.228669",
     "status": "completed"
    },
    "tags": []
   },
   "source": [
    "### Let us create a `Config` class, to store important parameters. \n",
    "This class essentially plays the role of a dictionary."
   ]
  },
  {
   "cell_type": "code",
   "execution_count": 16,
   "id": "978281aa",
   "metadata": {
    "execution": {
     "iopub.execute_input": "2022-08-28T10:11:01.315112Z",
     "iopub.status.busy": "2022-08-28T10:11:01.314503Z",
     "iopub.status.idle": "2022-08-28T10:11:01.328345Z",
     "shell.execute_reply": "2022-08-28T10:11:01.327744Z"
    },
    "papermill": {
     "duration": 0.044894,
     "end_time": "2022-08-28T10:11:01.328464",
     "exception": false,
     "start_time": "2022-08-28T10:11:01.283570",
     "status": "completed"
    },
    "tags": []
   },
   "outputs": [],
   "source": [
    "class Config:\n",
    "    pass\n",
    "config = Config()\n",
    "config.lr = 0.001\n",
    "config.num_epochs = 250\n",
    "config.bs = 50"
   ]
  },
  {
   "cell_type": "markdown",
   "id": "1385fa59",
   "metadata": {
    "papermill": {
     "duration": 0.027323,
     "end_time": "2022-08-28T10:11:01.383889",
     "exception": false,
     "start_time": "2022-08-28T10:11:01.356566",
     "status": "completed"
    },
    "tags": []
   },
   "source": [
    "### Running Models with the Training data\n",
    "Details about the network layers:\n",
    "- A first affine layer has 784 inputs and does 100 affine transforms. These are followed by a Relu\n",
    "- A second affine layer has 100 inputs from the 100 activations of the past layer, and does 100 affine transforms. These are followed by a Relu\n",
    "- A third affine layer has 100 activations and does 2 affine transformations to create an embedding for visualization. There is no non-linearity here.\n",
    "- A final \"logistic regression\" which has an affine transform from 2 inputs to 1 output, which is squeezed through a sigmoid.\n"
   ]
  },
  {
   "cell_type": "code",
   "execution_count": 17,
   "id": "2b9c66db",
   "metadata": {
    "execution": {
     "iopub.execute_input": "2022-08-28T10:11:01.443126Z",
     "iopub.status.busy": "2022-08-28T10:11:01.442543Z",
     "iopub.status.idle": "2022-08-28T10:11:01.455990Z",
     "shell.execute_reply": "2022-08-28T10:11:01.455483Z"
    },
    "papermill": {
     "duration": 0.044861,
     "end_time": "2022-08-28T10:11:01.456112",
     "exception": false,
     "start_time": "2022-08-28T10:11:01.411251",
     "status": "completed"
    },
    "tags": []
   },
   "outputs": [],
   "source": [
    "data = Data(X_train, y_train.reshape(-1,1))\n",
    "sampler = Sampler(data, config.bs, shuffle=True)\n",
    "\n",
    "dl = Dataloader(data, sampler)\n",
    "\n",
    "opt = GD(config.lr)\n",
    "loss = MSE()"
   ]
  },
  {
   "cell_type": "code",
   "execution_count": 18,
   "id": "b275e4c2",
   "metadata": {
    "execution": {
     "iopub.execute_input": "2022-08-28T10:11:01.515263Z",
     "iopub.status.busy": "2022-08-28T10:11:01.514671Z",
     "iopub.status.idle": "2022-08-28T10:11:01.527540Z",
     "shell.execute_reply": "2022-08-28T10:11:01.527031Z"
    },
    "papermill": {
     "duration": 0.044021,
     "end_time": "2022-08-28T10:11:01.527663",
     "exception": false,
     "start_time": "2022-08-28T10:11:01.483642",
     "status": "completed"
    },
    "tags": []
   },
   "outputs": [],
   "source": [
    "training_data_x = X_train\n",
    "testing_data_x = X_test\n",
    "training_data_y = y_train.reshape(-1,1)\n",
    "testing_data_y = y_test.reshape(-1,1)"
   ]
  },
  {
   "cell_type": "code",
   "execution_count": 19,
   "id": "76951160",
   "metadata": {
    "execution": {
     "iopub.execute_input": "2022-08-28T10:11:01.600542Z",
     "iopub.status.busy": "2022-08-28T10:11:01.596806Z",
     "iopub.status.idle": "2022-08-28T10:11:01.606647Z",
     "shell.execute_reply": "2022-08-28T10:11:01.607099Z"
    },
    "papermill": {
     "duration": 0.052234,
     "end_time": "2022-08-28T10:11:01.607234",
     "exception": false,
     "start_time": "2022-08-28T10:11:01.555000",
     "status": "completed"
    },
    "tags": []
   },
   "outputs": [
    {
     "name": "stdout",
     "output_type": "stream",
     "text": [
      "xavier\n",
      "xavier\n",
      "xavier\n",
      "xavier\n",
      "xavier\n"
     ]
    }
   ],
   "source": [
    "layers = [Affine(\"first\", 784, 100), Relu(\"first\"), Affine(\"second\", 100, 100), Relu(\"second\"), Affine(\"third\", 100, 2), Affine(\"last\", 2, 1), Sigmoid(\"last\")]\n",
    "model_nn = Model(layers)\n",
    "model_lr = Model([Affine(\"logits\", 784, 1), Sigmoid(\"sigmoid\")])"
   ]
  },
  {
   "cell_type": "code",
   "execution_count": 20,
   "id": "6eede77a",
   "metadata": {
    "execution": {
     "iopub.execute_input": "2022-08-28T10:11:01.672247Z",
     "iopub.status.busy": "2022-08-28T10:11:01.666449Z",
     "iopub.status.idle": "2022-08-28T10:11:01.681221Z",
     "shell.execute_reply": "2022-08-28T10:11:01.681681Z"
    },
    "papermill": {
     "duration": 0.046948,
     "end_time": "2022-08-28T10:11:01.681816",
     "exception": false,
     "start_time": "2022-08-28T10:11:01.634868",
     "status": "completed"
    },
    "tags": []
   },
   "outputs": [],
   "source": [
    "nn_learner = Learner(loss, model_nn, opt, config.num_epochs)\n",
    "acc_nn = ClfCallback(nn_learner, config.bs, training_data_x , testing_data_x, training_data_y, testing_data_y)\n",
    "nn_learner.set_callbacks([acc_nn])"
   ]
  },
  {
   "cell_type": "code",
   "execution_count": 21,
   "id": "877b6cc7",
   "metadata": {
    "execution": {
     "iopub.execute_input": "2022-08-28T10:11:01.752371Z",
     "iopub.status.busy": "2022-08-28T10:11:01.741185Z",
     "iopub.status.idle": "2022-08-28T10:11:01.756957Z",
     "shell.execute_reply": "2022-08-28T10:11:01.756444Z"
    },
    "papermill": {
     "duration": 0.047594,
     "end_time": "2022-08-28T10:11:01.757078",
     "exception": false,
     "start_time": "2022-08-28T10:11:01.709484",
     "status": "completed"
    },
    "tags": []
   },
   "outputs": [],
   "source": [
    "lr_learner = Learner(loss, model_lr, opt, config.num_epochs)\n",
    "acc_lr = ClfCallback(lr_learner, config.bs, training_data_x , testing_data_x, training_data_y, testing_data_y)\n",
    "lr_learner.set_callbacks([acc_lr])"
   ]
  },
  {
   "cell_type": "code",
   "execution_count": 22,
   "id": "d9b133c3",
   "metadata": {
    "execution": {
     "iopub.execute_input": "2022-08-28T10:11:01.816711Z",
     "iopub.status.busy": "2022-08-28T10:11:01.816128Z",
     "iopub.status.idle": "2022-08-28T10:12:18.040628Z",
     "shell.execute_reply": "2022-08-28T10:12:18.041509Z"
    },
    "papermill": {
     "duration": 76.256626,
     "end_time": "2022-08-28T10:12:18.041660",
     "exception": false,
     "start_time": "2022-08-28T10:11:01.785034",
     "status": "completed"
    },
    "tags": []
   },
   "outputs": [
    {
     "name": "stdout",
     "output_type": "stream",
     "text": [
      "Epoch 0, Loss 0.2495\n",
      "Training Accuracy: 0.5342, Testing Accuracy: 0.5277\n",
      "\n"
     ]
    },
    {
     "name": "stdout",
     "output_type": "stream",
     "text": [
      "Epoch 10, Loss 0.1199\n",
      "Training Accuracy: 0.9140, Testing Accuracy: 0.9234\n",
      "\n"
     ]
    },
    {
     "name": "stdout",
     "output_type": "stream",
     "text": [
      "Epoch 20, Loss 0.0647\n",
      "Training Accuracy: 0.9330, Testing Accuracy: 0.9435\n",
      "\n"
     ]
    },
    {
     "name": "stdout",
     "output_type": "stream",
     "text": [
      "Epoch 30, Loss 0.0494\n",
      "Training Accuracy: 0.9444, Testing Accuracy: 0.9551\n",
      "\n"
     ]
    },
    {
     "name": "stdout",
     "output_type": "stream",
     "text": [
      "Epoch 40, Loss 0.042\n",
      "Training Accuracy: 0.9510, Testing Accuracy: 0.9617\n",
      "\n"
     ]
    },
    {
     "name": "stdout",
     "output_type": "stream",
     "text": [
      "Epoch 50, Loss 0.0376\n",
      "Training Accuracy: 0.9559, Testing Accuracy: 0.9627\n",
      "\n"
     ]
    },
    {
     "name": "stdout",
     "output_type": "stream",
     "text": [
      "Epoch 60, Loss 0.0346\n",
      "Training Accuracy: 0.9595, Testing Accuracy: 0.9662\n",
      "\n"
     ]
    },
    {
     "name": "stdout",
     "output_type": "stream",
     "text": [
      "Epoch 70, Loss 0.0323\n",
      "Training Accuracy: 0.9617, Testing Accuracy: 0.9677\n",
      "\n"
     ]
    },
    {
     "name": "stdout",
     "output_type": "stream",
     "text": [
      "Epoch 80, Loss 0.0304\n",
      "Training Accuracy: 0.9643, Testing Accuracy: 0.9688\n",
      "\n"
     ]
    },
    {
     "name": "stdout",
     "output_type": "stream",
     "text": [
      "Epoch 90, Loss 0.0289\n",
      "Training Accuracy: 0.9664, Testing Accuracy: 0.9693\n",
      "\n"
     ]
    },
    {
     "name": "stdout",
     "output_type": "stream",
     "text": [
      "Epoch 100, Loss 0.0277\n",
      "Training Accuracy: 0.9671, Testing Accuracy: 0.9693\n",
      "\n"
     ]
    },
    {
     "name": "stdout",
     "output_type": "stream",
     "text": [
      "Epoch 110, Loss 0.0266\n",
      "Training Accuracy: 0.9682, Testing Accuracy: 0.9708\n",
      "\n"
     ]
    },
    {
     "name": "stdout",
     "output_type": "stream",
     "text": [
      "Epoch 120, Loss 0.0256\n",
      "Training Accuracy: 0.9694, Testing Accuracy: 0.9708\n",
      "\n"
     ]
    },
    {
     "name": "stdout",
     "output_type": "stream",
     "text": [
      "Epoch 130, Loss 0.0247\n",
      "Training Accuracy: 0.9706, Testing Accuracy: 0.9703\n",
      "\n"
     ]
    },
    {
     "name": "stdout",
     "output_type": "stream",
     "text": [
      "Epoch 140, Loss 0.0239\n",
      "Training Accuracy: 0.9717, Testing Accuracy: 0.9713\n",
      "\n"
     ]
    },
    {
     "name": "stdout",
     "output_type": "stream",
     "text": [
      "Epoch 150, Loss 0.0232\n",
      "Training Accuracy: 0.9731, Testing Accuracy: 0.9723\n",
      "\n"
     ]
    },
    {
     "name": "stdout",
     "output_type": "stream",
     "text": [
      "Epoch 160, Loss 0.0225\n",
      "Training Accuracy: 0.9740, Testing Accuracy: 0.9728\n",
      "\n"
     ]
    },
    {
     "name": "stdout",
     "output_type": "stream",
     "text": [
      "Epoch 170, Loss 0.0219\n",
      "Training Accuracy: 0.9748, Testing Accuracy: 0.9733\n",
      "\n"
     ]
    },
    {
     "name": "stdout",
     "output_type": "stream",
     "text": [
      "Epoch 180, Loss 0.0213\n",
      "Training Accuracy: 0.9757, Testing Accuracy: 0.9733\n",
      "\n"
     ]
    },
    {
     "name": "stdout",
     "output_type": "stream",
     "text": [
      "Epoch 190, Loss 0.0208\n",
      "Training Accuracy: 0.9762, Testing Accuracy: 0.9738\n",
      "\n"
     ]
    },
    {
     "name": "stdout",
     "output_type": "stream",
     "text": [
      "Epoch 200, Loss 0.0203\n",
      "Training Accuracy: 0.9771, Testing Accuracy: 0.9743\n",
      "\n"
     ]
    },
    {
     "name": "stdout",
     "output_type": "stream",
     "text": [
      "Epoch 210, Loss 0.0198\n",
      "Training Accuracy: 0.9775, Testing Accuracy: 0.9743\n",
      "\n"
     ]
    },
    {
     "name": "stdout",
     "output_type": "stream",
     "text": [
      "Epoch 220, Loss 0.0193\n",
      "Training Accuracy: 0.9785, Testing Accuracy: 0.9743\n",
      "\n"
     ]
    },
    {
     "name": "stdout",
     "output_type": "stream",
     "text": [
      "Epoch 230, Loss 0.0188\n",
      "Training Accuracy: 0.9791, Testing Accuracy: 0.9748\n",
      "\n"
     ]
    },
    {
     "name": "stdout",
     "output_type": "stream",
     "text": [
      "Epoch 240, Loss 0.0184\n",
      "Training Accuracy: 0.9798, Testing Accuracy: 0.9748\n",
      "\n"
     ]
    },
    {
     "data": {
      "text/plain": [
       "0.035156734415215836"
      ]
     },
     "execution_count": 22,
     "metadata": {},
     "output_type": "execute_result"
    }
   ],
   "source": [
    "nn_learner.train_loop(dl)"
   ]
  },
  {
   "cell_type": "code",
   "execution_count": 23,
   "id": "e0163366",
   "metadata": {
    "execution": {
     "iopub.execute_input": "2022-08-28T10:12:18.121609Z",
     "iopub.status.busy": "2022-08-28T10:12:18.120999Z",
     "iopub.status.idle": "2022-08-28T10:12:31.644268Z",
     "shell.execute_reply": "2022-08-28T10:12:31.645128Z"
    },
    "papermill": {
     "duration": 13.568318,
     "end_time": "2022-08-28T10:12:31.645274",
     "exception": false,
     "start_time": "2022-08-28T10:12:18.076956",
     "status": "completed"
    },
    "tags": []
   },
   "outputs": [
    {
     "name": "stdout",
     "output_type": "stream",
     "text": [
      "Epoch 0, Loss 0.2261\n",
      "Training Accuracy: 0.7331, Testing Accuracy: 0.7530\n",
      "\n"
     ]
    },
    {
     "name": "stdout",
     "output_type": "stream",
     "text": [
      "Epoch 10, Loss 0.1014\n",
      "Training Accuracy: 0.9088, Testing Accuracy: 0.9219\n",
      "\n"
     ]
    },
    {
     "name": "stdout",
     "output_type": "stream",
     "text": [
      "Epoch 20, Loss 0.0783\n",
      "Training Accuracy: 0.9281, Testing Accuracy: 0.9410\n",
      "\n"
     ]
    },
    {
     "name": "stdout",
     "output_type": "stream",
     "text": [
      "Epoch 30, Loss 0.0675\n",
      "Training Accuracy: 0.9373, Testing Accuracy: 0.9491\n",
      "\n"
     ]
    },
    {
     "name": "stdout",
     "output_type": "stream",
     "text": [
      "Epoch 40, Loss 0.061\n",
      "Training Accuracy: 0.9418, Testing Accuracy: 0.9521\n",
      "\n"
     ]
    },
    {
     "name": "stdout",
     "output_type": "stream",
     "text": [
      "Epoch 50, Loss 0.0565\n",
      "Training Accuracy: 0.9452, Testing Accuracy: 0.9577\n",
      "\n"
     ]
    },
    {
     "name": "stdout",
     "output_type": "stream",
     "text": [
      "Epoch 60, Loss 0.0533\n",
      "Training Accuracy: 0.9476, Testing Accuracy: 0.9592\n",
      "\n"
     ]
    },
    {
     "name": "stdout",
     "output_type": "stream",
     "text": [
      "Epoch 70, Loss 0.0508\n",
      "Training Accuracy: 0.9492, Testing Accuracy: 0.9597\n",
      "\n"
     ]
    },
    {
     "name": "stdout",
     "output_type": "stream",
     "text": [
      "Epoch 80, Loss 0.0488\n",
      "Training Accuracy: 0.9513, Testing Accuracy: 0.9612\n",
      "\n"
     ]
    },
    {
     "name": "stdout",
     "output_type": "stream",
     "text": [
      "Epoch 90, Loss 0.0471\n",
      "Training Accuracy: 0.9526, Testing Accuracy: 0.9632\n",
      "\n"
     ]
    },
    {
     "name": "stdout",
     "output_type": "stream",
     "text": [
      "Epoch 100, Loss 0.0457\n",
      "Training Accuracy: 0.9533, Testing Accuracy: 0.9637\n",
      "\n"
     ]
    },
    {
     "name": "stdout",
     "output_type": "stream",
     "text": [
      "Epoch 110, Loss 0.0446\n",
      "Training Accuracy: 0.9538, Testing Accuracy: 0.9657\n",
      "\n"
     ]
    },
    {
     "name": "stdout",
     "output_type": "stream",
     "text": [
      "Epoch 120, Loss 0.0435\n",
      "Training Accuracy: 0.9546, Testing Accuracy: 0.9672\n",
      "\n"
     ]
    },
    {
     "name": "stdout",
     "output_type": "stream",
     "text": [
      "Epoch 130, Loss 0.0426\n",
      "Training Accuracy: 0.9561, Testing Accuracy: 0.9677\n",
      "\n"
     ]
    },
    {
     "name": "stdout",
     "output_type": "stream",
     "text": [
      "Epoch 140, Loss 0.0418\n",
      "Training Accuracy: 0.9570, Testing Accuracy: 0.9677\n",
      "\n"
     ]
    },
    {
     "name": "stdout",
     "output_type": "stream",
     "text": [
      "Epoch 150, Loss 0.0411\n",
      "Training Accuracy: 0.9580, Testing Accuracy: 0.9672\n",
      "\n"
     ]
    },
    {
     "name": "stdout",
     "output_type": "stream",
     "text": [
      "Epoch 160, Loss 0.0404\n",
      "Training Accuracy: 0.9589, Testing Accuracy: 0.9682\n",
      "\n"
     ]
    },
    {
     "name": "stdout",
     "output_type": "stream",
     "text": [
      "Epoch 170, Loss 0.0398\n",
      "Training Accuracy: 0.9590, Testing Accuracy: 0.9682\n",
      "\n"
     ]
    },
    {
     "name": "stdout",
     "output_type": "stream",
     "text": [
      "Epoch 180, Loss 0.0393\n",
      "Training Accuracy: 0.9592, Testing Accuracy: 0.9677\n",
      "\n"
     ]
    },
    {
     "name": "stdout",
     "output_type": "stream",
     "text": [
      "Epoch 190, Loss 0.0388\n",
      "Training Accuracy: 0.9593, Testing Accuracy: 0.9677\n",
      "\n"
     ]
    },
    {
     "name": "stdout",
     "output_type": "stream",
     "text": [
      "Epoch 200, Loss 0.0383\n",
      "Training Accuracy: 0.9596, Testing Accuracy: 0.9672\n",
      "\n"
     ]
    },
    {
     "name": "stdout",
     "output_type": "stream",
     "text": [
      "Epoch 210, Loss 0.0379\n",
      "Training Accuracy: 0.9598, Testing Accuracy: 0.9672\n",
      "\n"
     ]
    },
    {
     "name": "stdout",
     "output_type": "stream",
     "text": [
      "Epoch 220, Loss 0.0375\n",
      "Training Accuracy: 0.9600, Testing Accuracy: 0.9677\n",
      "\n"
     ]
    },
    {
     "name": "stdout",
     "output_type": "stream",
     "text": [
      "Epoch 230, Loss 0.0371\n",
      "Training Accuracy: 0.9603, Testing Accuracy: 0.9677\n",
      "\n"
     ]
    },
    {
     "name": "stdout",
     "output_type": "stream",
     "text": [
      "Epoch 240, Loss 0.0368\n",
      "Training Accuracy: 0.9607, Testing Accuracy: 0.9677\n",
      "\n"
     ]
    },
    {
     "data": {
      "text/plain": [
       "0.05044974174589917"
      ]
     },
     "execution_count": 23,
     "metadata": {},
     "output_type": "execute_result"
    }
   ],
   "source": [
    "lr_learner.train_loop(dl)"
   ]
  },
  {
   "cell_type": "code",
   "execution_count": 24,
   "id": "ca410940",
   "metadata": {
    "execution": {
     "iopub.execute_input": "2022-08-28T10:12:31.741068Z",
     "iopub.status.busy": "2022-08-28T10:12:31.740438Z",
     "iopub.status.idle": "2022-08-28T10:12:31.958870Z",
     "shell.execute_reply": "2022-08-28T10:12:31.958374Z"
    },
    "papermill": {
     "duration": 0.271943,
     "end_time": "2022-08-28T10:12:31.958995",
     "exception": false,
     "start_time": "2022-08-28T10:12:31.687052",
     "status": "completed"
    },
    "tags": []
   },
   "outputs": [
    {
     "data": {
      "text/plain": [
       "<matplotlib.legend.Legend at 0x7f6983c11fd0>"
      ]
     },
     "execution_count": 24,
     "metadata": {},
     "output_type": "execute_result"
    },
    {
     "data": {
      "image/png": "[encoded data removed]",
      "text/plain": [
       "<Figure size 1080x720 with 1 Axes>"
      ]
     },
     "metadata": {
      "needs_background": "light"
     },
     "output_type": "display_data"
    }
   ],
   "source": [
    "#comparing the results of NN and LR\n",
    "plt.figure(figsize=(15,10))\n",
    "\n",
    "# Neural Network plots\n",
    "plt.plot(acc_nn.accuracies, 'r-', label = \"Training Accuracies - NN\")\n",
    "plt.plot(acc_nn.test_accuracies, 'g-', label = \"Testing Accuracies - NN\")\n",
    "\n",
    "# Logistic Regression plots\n",
    "plt.plot(acc_lr.accuracies, 'k-', label = \"Training Accuracies - LR\")\n",
    "plt.plot(acc_lr.test_accuracies, 'b-', label = \"Testing Accuracies - LR\")\n",
    "plt.legend()"
   ]
  },
  {
   "cell_type": "markdown",
   "id": "80dfb35c",
   "metadata": {
    "papermill": {
     "duration": 0.042546,
     "end_time": "2022-08-28T10:12:32.045279",
     "exception": false,
     "start_time": "2022-08-28T10:12:32.002733",
     "status": "completed"
    },
    "tags": []
   },
   "source": [
    "#### Plotting the outputs of this layer of the NN.\n"
   ]
  },
  {
   "cell_type": "code",
   "execution_count": 25,
   "id": "45eb2ff5",
   "metadata": {
    "execution": {
     "iopub.execute_input": "2022-08-28T10:12:32.142067Z",
     "iopub.status.busy": "2022-08-28T10:12:32.140953Z",
     "iopub.status.idle": "2022-08-28T10:12:32.157295Z",
     "shell.execute_reply": "2022-08-28T10:12:32.156488Z"
    },
    "papermill": {
     "duration": 0.06955,
     "end_time": "2022-08-28T10:12:32.157422",
     "exception": false,
     "start_time": "2022-08-28T10:12:32.087872",
     "status": "completed"
    },
    "tags": []
   },
   "outputs": [],
   "source": [
    "new_model = Model(layers[:-2])\n",
    "testing_plot = new_model(testing_data_x)"
   ]
  },
  {
   "cell_type": "code",
   "execution_count": 26,
   "id": "4c0a5485",
   "metadata": {
    "execution": {
     "iopub.execute_input": "2022-08-28T10:12:32.251022Z",
     "iopub.status.busy": "2022-08-28T10:12:32.250428Z",
     "iopub.status.idle": "2022-08-28T10:12:32.470906Z",
     "shell.execute_reply": "2022-08-28T10:12:32.470414Z"
    },
    "papermill": {
     "duration": 0.268578,
     "end_time": "2022-08-28T10:12:32.471029",
     "exception": false,
     "start_time": "2022-08-28T10:12:32.202451",
     "status": "completed"
    },
    "tags": []
   },
   "outputs": [
    {
     "data": {
      "text/plain": [
       "Text(0.5, 1.0, 'Outputs')"
      ]
     },
     "execution_count": 26,
     "metadata": {},
     "output_type": "execute_result"
    },
    {
     "data": {
      "image/png": "[encoded data removed]",
      "text/plain": [
       "<Figure size 576x504 with 1 Axes>"
      ]
     },
     "metadata": {
      "needs_background": "light"
     },
     "output_type": "display_data"
    }
   ],
   "source": [
    "# Plotting the scatter plot of points and color coding by class\n",
    "plt.figure(figsize=(8,7))\n",
    "plt.scatter(testing_plot[:,0], testing_plot[:,1], alpha = 0.1, c = y_test.ravel());\n",
    "plt.title('Outputs')"
   ]
  },
  {
   "cell_type": "markdown",
   "id": "a74fcf8f",
   "metadata": {
    "papermill": {
     "duration": 0.045783,
     "end_time": "2022-08-28T10:12:32.562979",
     "exception": false,
     "start_time": "2022-08-28T10:12:32.517196",
     "status": "completed"
    },
    "tags": []
   },
   "source": [
    "Probability contours"
   ]
  },
  {
   "cell_type": "code",
   "execution_count": 27,
   "id": "d0afc8e3",
   "metadata": {
    "execution": {
     "iopub.execute_input": "2022-08-28T10:12:32.696791Z",
     "iopub.status.busy": "2022-08-28T10:12:32.692570Z",
     "iopub.status.idle": "2022-08-28T10:12:32.705591Z",
     "shell.execute_reply": "2022-08-28T10:12:32.705129Z"
    },
    "papermill": {
     "duration": 0.096679,
     "end_time": "2022-08-28T10:12:32.705710",
     "exception": false,
     "start_time": "2022-08-28T10:12:32.609031",
     "status": "completed"
    },
    "tags": []
   },
   "outputs": [],
   "source": [
    "model_prob = Model(layers[-2:]) "
   ]
  },
  {
   "cell_type": "code",
   "execution_count": 28,
   "id": "9b96e238",
   "metadata": {
    "execution": {
     "iopub.execute_input": "2022-08-28T10:12:32.812479Z",
     "iopub.status.busy": "2022-08-28T10:12:32.802403Z",
     "iopub.status.idle": "2022-08-28T10:12:32.822898Z",
     "shell.execute_reply": "2022-08-28T10:12:32.822360Z"
    },
    "papermill": {
     "duration": 0.071116,
     "end_time": "2022-08-28T10:12:32.823021",
     "exception": false,
     "start_time": "2022-08-28T10:12:32.751905",
     "status": "completed"
    },
    "tags": []
   },
   "outputs": [],
   "source": [
    "#creating the x and y ranges according to the above generated plot.\n",
    "x_range = np.linspace(-4, 1, 100) \n",
    "y_range = np.linspace(-6, 6, 100) \n",
    "x_grid, y_grid = np.meshgrid(x_range, y_range) # x_grid and y_grig are of size 100 X 100\n",
    "\n",
    "# converting x_grid and y_grid to continuous arrays\n",
    "x_gridflat = np.ravel(x_grid)\n",
    "y_gridflat = np.ravel(y_grid)\n",
    "\n",
    "# The last layer of the current model takes two columns as input. Hence transpose of np.vstack() is required.\n",
    "X = np.vstack((x_gridflat, y_gridflat)).T\n",
    "\n",
    "prob_contour = model_prob(X).reshape(100,100) "
   ]
  },
  {
   "cell_type": "code",
   "execution_count": 29,
   "id": "da72499a",
   "metadata": {
    "execution": {
     "iopub.execute_input": "2022-08-28T10:12:32.927391Z",
     "iopub.status.busy": "2022-08-28T10:12:32.926771Z",
     "iopub.status.idle": "2022-08-28T10:12:33.186988Z",
     "shell.execute_reply": "2022-08-28T10:12:33.186422Z"
    },
    "papermill": {
     "duration": 0.311267,
     "end_time": "2022-08-28T10:12:33.187119",
     "exception": false,
     "start_time": "2022-08-28T10:12:32.875852",
     "status": "completed"
    },
    "tags": []
   },
   "outputs": [
    {
     "data": {
      "image/png": "[encoded data removed]",
      "text/plain": [
       "<Figure size 720x648 with 1 Axes>"
      ]
     },
     "metadata": {
      "needs_background": "light"
     },
     "output_type": "display_data"
    }
   ],
   "source": [
    "plt.figure(figsize=(10,9))\n",
    "plt.scatter(testing_plot[:,0], testing_plot[:,1], alpha = 0.1, c = y_test.ravel())\n",
    "contours = plt.contour(x_grid,y_grid,prob_contour)\n",
    "plt.title('Probability Contours')\n",
    "plt.clabel(contours, inline = True );"
   ]
  },
  {
   "cell_type": "code",
   "execution_count": null,
   "id": "e81b4ac7",
   "metadata": {
    "papermill": {
     "duration": 0.048878,
     "end_time": "2022-08-28T10:12:33.285657",
     "exception": false,
     "start_time": "2022-08-28T10:12:33.236779",
     "status": "completed"
    },
    "tags": []
   },
   "outputs": [],
   "source": []
  }
 ],
 "metadata": {
  "kernelspec": {
   "display_name": "Python 3",
   "language": "python",
   "name": "python3"
  },
  "language_info": {
   "codemirror_mode": {
    "name": "ipython",
    "version": 3
   },
   "file_extension": ".py",
   "mimetype": "text/x-python",
   "name": "python",
   "nbconvert_exporter": "python",
   "pygments_lexer": "ipython3",
   "version": "3.6.15"
  },
  "papermill": {
   "default_parameters": {},
   "duration": 98.217257,
   "end_time": "2022-08-28T10:12:33.754289",
   "environment_variables": {},
   "exception": null,
   "input_path": "2020-08-11-part2.ipynb",
   "output_path": "2020-08-11-part2.ipynb",
   "parameters": {},
   "start_time": "2022-08-28T10:10:55.537032",
   "version": "2.3.3"
  }
 },
 "nbformat": 4,
 "nbformat_minor": 5
}