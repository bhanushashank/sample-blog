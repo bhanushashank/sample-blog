{
 "cells": [
  {
   "cell_type": "markdown",
   "id": "98380cd3",
   "metadata": {
    "papermill": {
     "duration": 0.028567,
     "end_time": "2021-10-26T00:21:40.038149",
     "exception": false,
     "start_time": "2021-10-26T00:21:40.009582",
     "status": "completed"
    },
    "tags": []
   },
   "source": [
    "# Distinguish Your Own Digits (DYOD)"
   ]
  },
  {
   "cell_type": "markdown",
   "id": "ef31240d",
   "metadata": {
    "papermill": {
     "duration": 0.025737,
     "end_time": "2021-10-26T00:21:40.089900",
     "exception": false,
     "start_time": "2021-10-26T00:21:40.064163",
     "status": "completed"
    },
    "tags": []
   },
   "source": [
    "You are going to write a classifier that distinguishes between the number 3 and number 8."
   ]
  },
  {
   "cell_type": "code",
   "execution_count": 1,
   "id": "b15c8646",
   "metadata": {
    "execution": {
     "iopub.execute_input": "2021-10-26T00:21:40.152333Z",
     "iopub.status.busy": "2021-10-26T00:21:40.151771Z",
     "iopub.status.idle": "2021-10-26T00:21:40.162465Z",
     "shell.execute_reply": "2021-10-26T00:21:40.162863Z"
    },
    "papermill": {
     "duration": 0.047598,
     "end_time": "2021-10-26T00:21:40.162996",
     "exception": false,
     "start_time": "2021-10-26T00:21:40.115398",
     "status": "completed"
    },
    "tags": []
   },
   "outputs": [],
   "source": [
    "%load_ext autoreload\n",
    "%autoreload 2"
   ]
  },
  {
   "cell_type": "code",
   "execution_count": 2,
   "id": "22ef38dc",
   "metadata": {
    "execution": {
     "iopub.execute_input": "2021-10-26T00:21:40.222676Z",
     "iopub.status.busy": "2021-10-26T00:21:40.219428Z",
     "iopub.status.idle": "2021-10-26T00:21:40.796854Z",
     "shell.execute_reply": "2021-10-26T00:21:40.796225Z"
    },
    "papermill": {
     "duration": 0.610271,
     "end_time": "2021-10-26T00:21:40.797020",
     "exception": false,
     "start_time": "2021-10-26T00:21:40.186749",
     "status": "completed"
    },
    "tags": []
   },
   "outputs": [],
   "source": [
    "%matplotlib inline\n",
    "import numpy as np\n",
    "import matplotlib.pyplot as plt\n",
    "import pandas as pd"
   ]
  },
  {
   "cell_type": "markdown",
   "id": "ba036198",
   "metadata": {
    "papermill": {
     "duration": 0.025282,
     "end_time": "2021-10-26T00:21:40.846789",
     "exception": false,
     "start_time": "2021-10-26T00:21:40.821507",
     "status": "completed"
    },
    "tags": []
   },
   "source": [
    "From the command line run `pip install mnist`. This is a library that will help you bring down the mnist dataset. If you run this from a notebook, you need to put  `!pip install mnist` in a cell by itself."
   ]
  },
  {
   "cell_type": "code",
   "execution_count": 3,
   "id": "bb6ad8a1",
   "metadata": {
    "execution": {
     "iopub.execute_input": "2021-10-26T00:21:40.900660Z",
     "iopub.status.busy": "2021-10-26T00:21:40.900100Z",
     "iopub.status.idle": "2021-10-26T00:21:43.493373Z",
     "shell.execute_reply": "2021-10-26T00:21:43.492186Z"
    },
    "papermill": {
     "duration": 2.621787,
     "end_time": "2021-10-26T00:21:43.493549",
     "exception": false,
     "start_time": "2021-10-26T00:21:40.871762",
     "status": "completed"
    },
    "tags": []
   },
   "outputs": [
    {
     "name": "stdout",
     "output_type": "stream",
     "text": [
      "Collecting mnist\r\n"
     ]
    },
    {
     "name": "stdout",
     "output_type": "stream",
     "text": [
      "  Downloading mnist-0.2.2-py2.py3-none-any.whl (3.5 kB)\r\n",
      "Requirement already satisfied: numpy in /opt/hostedtoolcache/Python/3.6.15/x64/lib/python3.6/site-packages (from mnist) (1.19.5)\r\n"
     ]
    },
    {
     "name": "stdout",
     "output_type": "stream",
     "text": [
      "Installing collected packages: mnist\r\n"
     ]
    },
    {
     "name": "stdout",
     "output_type": "stream",
     "text": [
      "Successfully installed mnist-0.2.2\r\n"
     ]
    },
    {
     "name": "stdout",
     "output_type": "stream",
     "text": [
      "\u001b[33mWARNING: You are using pip version 21.3; however, version 21.3.1 is available.\r\n",
      "You should consider upgrading via the '/opt/hostedtoolcache/Python/3.6.15/x64/bin/python -m pip install --upgrade pip' command.\u001b[0m\r\n"
     ]
    }
   ],
   "source": [
    "!pip install mnist"
   ]
  },
  {
   "cell_type": "markdown",
   "id": "69df9c9a",
   "metadata": {
    "papermill": {
     "duration": 0.022878,
     "end_time": "2021-10-26T00:21:43.540863",
     "exception": false,
     "start_time": "2021-10-26T00:21:43.517985",
     "status": "completed"
    },
    "tags": []
   },
   "source": [
    "## Preparing the Data"
   ]
  },
  {
   "cell_type": "code",
   "execution_count": 4,
   "id": "7f69d806",
   "metadata": {
    "execution": {
     "iopub.execute_input": "2021-10-26T00:21:43.604126Z",
     "iopub.status.busy": "2021-10-26T00:21:43.595723Z",
     "iopub.status.idle": "2021-10-26T00:21:43.608099Z",
     "shell.execute_reply": "2021-10-26T00:21:43.607595Z"
    },
    "papermill": {
     "duration": 0.04508,
     "end_time": "2021-10-26T00:21:43.608216",
     "exception": false,
     "start_time": "2021-10-26T00:21:43.563136",
     "status": "completed"
    },
    "tags": []
   },
   "outputs": [],
   "source": [
    "import mnist"
   ]
  },
  {
   "cell_type": "code",
   "execution_count": 5,
   "id": "a411e44f",
   "metadata": {
    "execution": {
     "iopub.execute_input": "2021-10-26T00:21:43.658048Z",
     "iopub.status.busy": "2021-10-26T00:21:43.657417Z",
     "iopub.status.idle": "2021-10-26T00:21:44.354884Z",
     "shell.execute_reply": "2021-10-26T00:21:44.354238Z"
    },
    "papermill": {
     "duration": 0.723855,
     "end_time": "2021-10-26T00:21:44.355050",
     "exception": false,
     "start_time": "2021-10-26T00:21:43.631195",
     "status": "completed"
    },
    "tags": []
   },
   "outputs": [],
   "source": [
    "train_images = mnist.train_images()\n",
    "train_labels = mnist.train_labels()"
   ]
  },
  {
   "cell_type": "code",
   "execution_count": 6,
   "id": "dceab3a5",
   "metadata": {
    "execution": {
     "iopub.execute_input": "2021-10-26T00:21:44.404645Z",
     "iopub.status.busy": "2021-10-26T00:21:44.404222Z",
     "iopub.status.idle": "2021-10-26T00:21:44.419981Z",
     "shell.execute_reply": "2021-10-26T00:21:44.419504Z"
    },
    "papermill": {
     "duration": 0.041366,
     "end_time": "2021-10-26T00:21:44.420105",
     "exception": false,
     "start_time": "2021-10-26T00:21:44.378739",
     "status": "completed"
    },
    "tags": []
   },
   "outputs": [
    {
     "data": {
      "text/plain": [
       "((60000, 28, 28), (60000,))"
      ]
     },
     "execution_count": 6,
     "metadata": {},
     "output_type": "execute_result"
    }
   ],
   "source": [
    "train_images.shape, train_labels.shape"
   ]
  },
  {
   "cell_type": "code",
   "execution_count": 7,
   "id": "f50dc2bb",
   "metadata": {
    "execution": {
     "iopub.execute_input": "2021-10-26T00:21:44.471007Z",
     "iopub.status.busy": "2021-10-26T00:21:44.470416Z",
     "iopub.status.idle": "2021-10-26T00:21:44.680282Z",
     "shell.execute_reply": "2021-10-26T00:21:44.679636Z"
    },
    "papermill": {
     "duration": 0.237107,
     "end_time": "2021-10-26T00:21:44.680432",
     "exception": false,
     "start_time": "2021-10-26T00:21:44.443325",
     "status": "completed"
    },
    "tags": []
   },
   "outputs": [],
   "source": [
    "test_images = mnist.test_images()\n",
    "test_labels = mnist.test_labels()"
   ]
  },
  {
   "cell_type": "code",
   "execution_count": 8,
   "id": "fc38cf1b",
   "metadata": {
    "execution": {
     "iopub.execute_input": "2021-10-26T00:21:44.737236Z",
     "iopub.status.busy": "2021-10-26T00:21:44.731527Z",
     "iopub.status.idle": "2021-10-26T00:21:44.741363Z",
     "shell.execute_reply": "2021-10-26T00:21:44.741020Z"
    },
    "papermill": {
     "duration": 0.039334,
     "end_time": "2021-10-26T00:21:44.741453",
     "exception": false,
     "start_time": "2021-10-26T00:21:44.702119",
     "status": "completed"
    },
    "tags": []
   },
   "outputs": [
    {
     "data": {
      "text/plain": [
       "((10000, 28, 28), (10000,))"
      ]
     },
     "execution_count": 8,
     "metadata": {},
     "output_type": "execute_result"
    }
   ],
   "source": [
    "test_images.shape, test_labels.shape"
   ]
  },
  {
   "cell_type": "code",
   "execution_count": 9,
   "id": "f9ed8fe0",
   "metadata": {
    "execution": {
     "iopub.execute_input": "2021-10-26T00:21:44.793224Z",
     "iopub.status.busy": "2021-10-26T00:21:44.792800Z",
     "iopub.status.idle": "2021-10-26T00:21:44.915679Z",
     "shell.execute_reply": "2021-10-26T00:21:44.916140Z"
    },
    "papermill": {
     "duration": 0.152412,
     "end_time": "2021-10-26T00:21:44.916281",
     "exception": false,
     "start_time": "2021-10-26T00:21:44.763869",
     "status": "completed"
    },
    "tags": []
   },
   "outputs": [
    {
     "name": "stdout",
     "output_type": "stream",
     "text": [
      "2\n"
     ]
    },
    {
     "data": {
      "text/plain": [
       "<matplotlib.image.AxesImage at 0x7f7bb1517cf8>"
      ]
     },
     "execution_count": 9,
     "metadata": {},
     "output_type": "execute_result"
    },
    {
     "data": {
      "image/png": "[encoded data removed]",
      "text/plain": [
       "<Figure size 432x288 with 1 Axes>"
      ]
     },
     "metadata": {
      "needs_background": "light"
     },
     "output_type": "display_data"
    }
   ],
   "source": [
    "image_index = 7776 # You may select anything up to 60,000\n",
    "print(train_labels[image_index]) \n",
    "plt.imshow(train_images[image_index], cmap='Greys')"
   ]
  },
  {
   "cell_type": "markdown",
   "id": "a8d2388d",
   "metadata": {
    "papermill": {
     "duration": 0.02471,
     "end_time": "2021-10-26T00:21:44.967444",
     "exception": false,
     "start_time": "2021-10-26T00:21:44.942734",
     "status": "completed"
    },
    "tags": []
   },
   "source": [
    "## Filter data to get 3 and 8 out"
   ]
  },
  {
   "cell_type": "code",
   "execution_count": 10,
   "id": "776f7fc7",
   "metadata": {
    "execution": {
     "iopub.execute_input": "2021-10-26T00:21:45.017996Z",
     "iopub.status.busy": "2021-10-26T00:21:45.017461Z",
     "iopub.status.idle": "2021-10-26T00:21:45.036464Z",
     "shell.execute_reply": "2021-10-26T00:21:45.037027Z"
    },
    "papermill": {
     "duration": 0.04681,
     "end_time": "2021-10-26T00:21:45.037187",
     "exception": false,
     "start_time": "2021-10-26T00:21:44.990377",
     "status": "completed"
    },
    "tags": []
   },
   "outputs": [],
   "source": [
    "train_filter = np.where((train_labels == 3 ) | (train_labels == 8))\n",
    "test_filter = np.where((test_labels == 3) | (test_labels == 8))\n",
    "X_train, y_train = train_images[train_filter], train_labels[train_filter]\n",
    "X_test, y_test = test_images[test_filter], test_labels[test_filter]"
   ]
  },
  {
   "cell_type": "markdown",
   "id": "948f0b7e",
   "metadata": {
    "papermill": {
     "duration": 0.0247,
     "end_time": "2021-10-26T00:21:45.088663",
     "exception": false,
     "start_time": "2021-10-26T00:21:45.063963",
     "status": "completed"
    },
    "tags": []
   },
   "source": [
    "We normalize the pizel values in the 0 to 1 range"
   ]
  },
  {
   "cell_type": "code",
   "execution_count": 11,
   "id": "ee4c2166",
   "metadata": {
    "execution": {
     "iopub.execute_input": "2021-10-26T00:21:45.157604Z",
     "iopub.status.busy": "2021-10-26T00:21:45.156932Z",
     "iopub.status.idle": "2021-10-26T00:21:45.210053Z",
     "shell.execute_reply": "2021-10-26T00:21:45.209392Z"
    },
    "papermill": {
     "duration": 0.093507,
     "end_time": "2021-10-26T00:21:45.210221",
     "exception": false,
     "start_time": "2021-10-26T00:21:45.116714",
     "status": "completed"
    },
    "tags": []
   },
   "outputs": [],
   "source": [
    "X_train = X_train/255.\n",
    "X_test = X_test/255."
   ]
  },
  {
   "cell_type": "markdown",
   "id": "ddcf4fab",
   "metadata": {
    "papermill": {
     "duration": 0.031414,
     "end_time": "2021-10-26T00:21:45.273329",
     "exception": false,
     "start_time": "2021-10-26T00:21:45.241915",
     "status": "completed"
    },
    "tags": []
   },
   "source": [
    "And setup the labels as 1 (when the digit is 3) and 0 (when the digit is 8)"
   ]
  },
  {
   "cell_type": "code",
   "execution_count": 12,
   "id": "7dc908f2",
   "metadata": {
    "execution": {
     "iopub.execute_input": "2021-10-26T00:21:45.339919Z",
     "iopub.status.busy": "2021-10-26T00:21:45.339244Z",
     "iopub.status.idle": "2021-10-26T00:21:45.352822Z",
     "shell.execute_reply": "2021-10-26T00:21:45.352288Z"
    },
    "papermill": {
     "duration": 0.049496,
     "end_time": "2021-10-26T00:21:45.352966",
     "exception": false,
     "start_time": "2021-10-26T00:21:45.303470",
     "status": "completed"
    },
    "tags": []
   },
   "outputs": [],
   "source": [
    "y_train = 1*(y_train==3)\n",
    "y_test = 1*(y_test==3)"
   ]
  },
  {
   "cell_type": "code",
   "execution_count": 13,
   "id": "01e4e969",
   "metadata": {
    "execution": {
     "iopub.execute_input": "2021-10-26T00:21:45.417649Z",
     "iopub.status.busy": "2021-10-26T00:21:45.417016Z",
     "iopub.status.idle": "2021-10-26T00:21:45.433502Z",
     "shell.execute_reply": "2021-10-26T00:21:45.432980Z"
    },
    "papermill": {
     "duration": 0.050095,
     "end_time": "2021-10-26T00:21:45.433649",
     "exception": false,
     "start_time": "2021-10-26T00:21:45.383554",
     "status": "completed"
    },
    "tags": []
   },
   "outputs": [
    {
     "data": {
      "text/plain": [
       "((11982, 28, 28), (1984, 28, 28))"
      ]
     },
     "execution_count": 13,
     "metadata": {},
     "output_type": "execute_result"
    }
   ],
   "source": [
    "X_train.shape, X_test.shape"
   ]
  },
  {
   "cell_type": "markdown",
   "id": "5ccf3f85",
   "metadata": {
    "papermill": {
     "duration": 0.030576,
     "end_time": "2021-10-26T00:21:45.494629",
     "exception": false,
     "start_time": "2021-10-26T00:21:45.464053",
     "status": "completed"
    },
    "tags": []
   },
   "source": [
    "We reshape the data to flatten the image pixels into a set of features or co-variates:"
   ]
  },
  {
   "cell_type": "code",
   "execution_count": 14,
   "id": "5286a4a3",
   "metadata": {
    "execution": {
     "iopub.execute_input": "2021-10-26T00:21:45.566306Z",
     "iopub.status.busy": "2021-10-26T00:21:45.565584Z",
     "iopub.status.idle": "2021-10-26T00:21:45.580551Z",
     "shell.execute_reply": "2021-10-26T00:21:45.580035Z"
    },
    "papermill": {
     "duration": 0.055184,
     "end_time": "2021-10-26T00:21:45.580698",
     "exception": false,
     "start_time": "2021-10-26T00:21:45.525514",
     "status": "completed"
    },
    "tags": []
   },
   "outputs": [
    {
     "data": {
      "text/plain": [
       "((11982, 784), (1984, 784))"
      ]
     },
     "execution_count": 14,
     "metadata": {},
     "output_type": "execute_result"
    }
   ],
   "source": [
    "X_train = X_train.reshape(X_train.shape[0], -1)\n",
    "X_test = X_test.reshape(X_test.shape[0], -1)\n",
    "X_train.shape, X_test.shape"
   ]
  },
  {
   "cell_type": "code",
   "execution_count": 15,
   "id": "73c5f88a",
   "metadata": {
    "execution": {
     "iopub.execute_input": "2021-10-26T00:21:45.646947Z",
     "iopub.status.busy": "2021-10-26T00:21:45.646284Z",
     "iopub.status.idle": "2021-10-26T00:21:45.669496Z",
     "shell.execute_reply": "2021-10-26T00:21:45.668861Z"
    },
    "papermill": {
     "duration": 0.057926,
     "end_time": "2021-10-26T00:21:45.669699",
     "exception": false,
     "start_time": "2021-10-26T00:21:45.611773",
     "status": "completed"
    },
    "tags": []
   },
   "outputs": [],
   "source": [
    "#Impoting functions from 'Kudzu'\n",
    "from kudzu.model import Model\n",
    "from kudzu.train import Learner\n",
    "from kudzu.optim import GD\n",
    "from kudzu.data import Data, Sampler,Dataloader\n",
    "\n",
    "from kudzu.callbacks import AccCallback\n",
    "from kudzu.callbacks import ClfCallback\n",
    "\n",
    "from kudzu.loss import MSE\n",
    "\n",
    "from kudzu.layer import Sigmoid,Relu\n",
    "from kudzu.layer import Affine"
   ]
  },
  {
   "cell_type": "markdown",
   "id": "bc01172a",
   "metadata": {
    "papermill": {
     "duration": 0.030757,
     "end_time": "2021-10-26T00:21:45.732227",
     "exception": false,
     "start_time": "2021-10-26T00:21:45.701470",
     "status": "completed"
    },
    "tags": []
   },
   "source": [
    "### Let us create a `Config` class, to store important parameters. \n",
    "This class essentially plays the role of a dictionary."
   ]
  },
  {
   "cell_type": "code",
   "execution_count": 16,
   "id": "978281aa",
   "metadata": {
    "execution": {
     "iopub.execute_input": "2021-10-26T00:21:45.803505Z",
     "iopub.status.busy": "2021-10-26T00:21:45.802831Z",
     "iopub.status.idle": "2021-10-26T00:21:45.815300Z",
     "shell.execute_reply": "2021-10-26T00:21:45.814740Z"
    },
    "papermill": {
     "duration": 0.052327,
     "end_time": "2021-10-26T00:21:45.815438",
     "exception": false,
     "start_time": "2021-10-26T00:21:45.763111",
     "status": "completed"
    },
    "tags": []
   },
   "outputs": [],
   "source": [
    "class Config:\n",
    "    pass\n",
    "config = Config()\n",
    "config.lr = 0.001\n",
    "config.num_epochs = 250\n",
    "config.bs = 50"
   ]
  },
  {
   "cell_type": "markdown",
   "id": "1385fa59",
   "metadata": {
    "papermill": {
     "duration": 0.029913,
     "end_time": "2021-10-26T00:21:45.875515",
     "exception": false,
     "start_time": "2021-10-26T00:21:45.845602",
     "status": "completed"
    },
    "tags": []
   },
   "source": [
    "### Running Models with the Training data\n",
    "Details about the network layers:\n",
    "- A first affine layer has 784 inputs and does 100 affine transforms. These are followed by a Relu\n",
    "- A second affine layer has 100 inputs from the 100 activations of the past layer, and does 100 affine transforms. These are followed by a Relu\n",
    "- A third affine layer has 100 activations and does 2 affine transformations to create an embedding for visualization. There is no non-linearity here.\n",
    "- A final \"logistic regression\" which has an affine transform from 2 inputs to 1 output, which is squeezed through a sigmoid.\n"
   ]
  },
  {
   "cell_type": "code",
   "execution_count": 17,
   "id": "2b9c66db",
   "metadata": {
    "execution": {
     "iopub.execute_input": "2021-10-26T00:21:45.941196Z",
     "iopub.status.busy": "2021-10-26T00:21:45.940553Z",
     "iopub.status.idle": "2021-10-26T00:21:45.956207Z",
     "shell.execute_reply": "2021-10-26T00:21:45.955675Z"
    },
    "papermill": {
     "duration": 0.050564,
     "end_time": "2021-10-26T00:21:45.956358",
     "exception": false,
     "start_time": "2021-10-26T00:21:45.905794",
     "status": "completed"
    },
    "tags": []
   },
   "outputs": [],
   "source": [
    "data = Data(X_train, y_train.reshape(-1,1))\n",
    "sampler = Sampler(data, config.bs, shuffle=True)\n",
    "\n",
    "dl = Dataloader(data, sampler)\n",
    "\n",
    "opt = GD(config.lr)\n",
    "loss = MSE()"
   ]
  },
  {
   "cell_type": "code",
   "execution_count": 18,
   "id": "b275e4c2",
   "metadata": {
    "execution": {
     "iopub.execute_input": "2021-10-26T00:21:46.022459Z",
     "iopub.status.busy": "2021-10-26T00:21:46.021812Z",
     "iopub.status.idle": "2021-10-26T00:21:46.037445Z",
     "shell.execute_reply": "2021-10-26T00:21:46.036906Z"
    },
    "papermill": {
     "duration": 0.050727,
     "end_time": "2021-10-26T00:21:46.037592",
     "exception": false,
     "start_time": "2021-10-26T00:21:45.986865",
     "status": "completed"
    },
    "tags": []
   },
   "outputs": [],
   "source": [
    "training_data_x = X_train\n",
    "testing_data_x = X_test\n",
    "training_data_y = y_train.reshape(-1,1)\n",
    "testing_data_y = y_test.reshape(-1,1)"
   ]
  },
  {
   "cell_type": "code",
   "execution_count": 19,
   "id": "76951160",
   "metadata": {
    "execution": {
     "iopub.execute_input": "2021-10-26T00:21:46.105032Z",
     "iopub.status.busy": "2021-10-26T00:21:46.104357Z",
     "iopub.status.idle": "2021-10-26T00:21:46.124025Z",
     "shell.execute_reply": "2021-10-26T00:21:46.124528Z"
    },
    "papermill": {
     "duration": 0.056119,
     "end_time": "2021-10-26T00:21:46.124693",
     "exception": false,
     "start_time": "2021-10-26T00:21:46.068574",
     "status": "completed"
    },
    "tags": []
   },
   "outputs": [
    {
     "name": "stdout",
     "output_type": "stream",
     "text": [
      "xavier\n",
      "xavier\n",
      "xavier\n",
      "xavier\n",
      "xavier\n"
     ]
    }
   ],
   "source": [
    "layers = [Affine(\"first\", 784, 100), Relu(\"first\"), Affine(\"second\", 100, 100), Relu(\"second\"), Affine(\"third\", 100, 2), Affine(\"last\", 2, 1), Sigmoid(\"last\")]\n",
    "model_nn = Model(layers)\n",
    "model_lr = Model([Affine(\"logits\", 784, 1), Sigmoid(\"sigmoid\")])"
   ]
  },
  {
   "cell_type": "code",
   "execution_count": 20,
   "id": "6eede77a",
   "metadata": {
    "execution": {
     "iopub.execute_input": "2021-10-26T00:21:46.197482Z",
     "iopub.status.busy": "2021-10-26T00:21:46.194224Z",
     "iopub.status.idle": "2021-10-26T00:21:46.208744Z",
     "shell.execute_reply": "2021-10-26T00:21:46.208199Z"
    },
    "papermill": {
     "duration": 0.052679,
     "end_time": "2021-10-26T00:21:46.208892",
     "exception": false,
     "start_time": "2021-10-26T00:21:46.156213",
     "status": "completed"
    },
    "tags": []
   },
   "outputs": [],
   "source": [
    "nn_learner = Learner(loss, model_nn, opt, config.num_epochs)\n",
    "acc_nn = ClfCallback(nn_learner, config.bs, training_data_x , testing_data_x, training_data_y, testing_data_y)\n",
    "nn_learner.set_callbacks([acc_nn])"
   ]
  },
  {
   "cell_type": "code",
   "execution_count": 21,
   "id": "877b6cc7",
   "metadata": {
    "execution": {
     "iopub.execute_input": "2021-10-26T00:21:46.279305Z",
     "iopub.status.busy": "2021-10-26T00:21:46.278656Z",
     "iopub.status.idle": "2021-10-26T00:21:46.291935Z",
     "shell.execute_reply": "2021-10-26T00:21:46.292420Z"
    },
    "papermill": {
     "duration": 0.052314,
     "end_time": "2021-10-26T00:21:46.292591",
     "exception": false,
     "start_time": "2021-10-26T00:21:46.240277",
     "status": "completed"
    },
    "tags": []
   },
   "outputs": [],
   "source": [
    "lr_learner = Learner(loss, model_lr, opt, config.num_epochs)\n",
    "acc_lr = ClfCallback(lr_learner, config.bs, training_data_x , testing_data_x, training_data_y, testing_data_y)\n",
    "lr_learner.set_callbacks([acc_lr])"
   ]
  },
  {
   "cell_type": "code",
   "execution_count": 22,
   "id": "d9b133c3",
   "metadata": {
    "execution": {
     "iopub.execute_input": "2021-10-26T00:21:46.359942Z",
     "iopub.status.busy": "2021-10-26T00:21:46.359306Z",
     "iopub.status.idle": "2021-10-26T00:23:09.154094Z",
     "shell.execute_reply": "2021-10-26T00:23:09.154888Z"
    },
    "papermill": {
     "duration": 82.830948,
     "end_time": "2021-10-26T00:23:09.155047",
     "exception": false,
     "start_time": "2021-10-26T00:21:46.324099",
     "status": "completed"
    },
    "tags": []
   },
   "outputs": [
    {
     "name": "stdout",
     "output_type": "stream",
     "text": [
      "Epoch 0, Loss 0.2348\n",
      "Training Accuracy: 0.6560, Testing Accuracy: 0.6633\n",
      "\n"
     ]
    },
    {
     "name": "stdout",
     "output_type": "stream",
     "text": [
      "Epoch 10, Loss 0.1139\n",
      "Training Accuracy: 0.9060, Testing Accuracy: 0.9168\n",
      "\n"
     ]
    },
    {
     "name": "stdout",
     "output_type": "stream",
     "text": [
      "Epoch 20, Loss 0.0648\n",
      "Training Accuracy: 0.9352, Testing Accuracy: 0.9516\n",
      "\n"
     ]
    },
    {
     "name": "stdout",
     "output_type": "stream",
     "text": [
      "Epoch 30, Loss 0.0483\n",
      "Training Accuracy: 0.9490, Testing Accuracy: 0.9627\n",
      "\n"
     ]
    },
    {
     "name": "stdout",
     "output_type": "stream",
     "text": [
      "Epoch 40, Loss 0.0406\n",
      "Training Accuracy: 0.9556, Testing Accuracy: 0.9657\n",
      "\n"
     ]
    },
    {
     "name": "stdout",
     "output_type": "stream",
     "text": [
      "Epoch 50, Loss 0.0362\n",
      "Training Accuracy: 0.9587, Testing Accuracy: 0.9657\n",
      "\n"
     ]
    },
    {
     "name": "stdout",
     "output_type": "stream",
     "text": [
      "Epoch 60, Loss 0.0333\n",
      "Training Accuracy: 0.9619, Testing Accuracy: 0.9672\n",
      "\n"
     ]
    },
    {
     "name": "stdout",
     "output_type": "stream",
     "text": [
      "Epoch 70, Loss 0.0312\n",
      "Training Accuracy: 0.9633, Testing Accuracy: 0.9693\n",
      "\n"
     ]
    },
    {
     "name": "stdout",
     "output_type": "stream",
     "text": [
      "Epoch 80, Loss 0.0296\n",
      "Training Accuracy: 0.9649, Testing Accuracy: 0.9703\n",
      "\n"
     ]
    },
    {
     "name": "stdout",
     "output_type": "stream",
     "text": [
      "Epoch 90, Loss 0.0284\n",
      "Training Accuracy: 0.9657, Testing Accuracy: 0.9698\n",
      "\n"
     ]
    },
    {
     "name": "stdout",
     "output_type": "stream",
     "text": [
      "Epoch 100, Loss 0.0273\n",
      "Training Accuracy: 0.9668, Testing Accuracy: 0.9708\n",
      "\n"
     ]
    },
    {
     "name": "stdout",
     "output_type": "stream",
     "text": [
      "Epoch 110, Loss 0.0263\n",
      "Training Accuracy: 0.9683, Testing Accuracy: 0.9723\n",
      "\n"
     ]
    },
    {
     "name": "stdout",
     "output_type": "stream",
     "text": [
      "Epoch 120, Loss 0.0255\n",
      "Training Accuracy: 0.9696, Testing Accuracy: 0.9708\n",
      "\n"
     ]
    },
    {
     "name": "stdout",
     "output_type": "stream",
     "text": [
      "Epoch 130, Loss 0.0248\n",
      "Training Accuracy: 0.9708, Testing Accuracy: 0.9713\n",
      "\n"
     ]
    },
    {
     "name": "stdout",
     "output_type": "stream",
     "text": [
      "Epoch 140, Loss 0.0241\n",
      "Training Accuracy: 0.9715, Testing Accuracy: 0.9713\n",
      "\n"
     ]
    },
    {
     "name": "stdout",
     "output_type": "stream",
     "text": [
      "Epoch 150, Loss 0.0235\n",
      "Training Accuracy: 0.9724, Testing Accuracy: 0.9723\n",
      "\n"
     ]
    },
    {
     "name": "stdout",
     "output_type": "stream",
     "text": [
      "Epoch 160, Loss 0.0229\n",
      "Training Accuracy: 0.9734, Testing Accuracy: 0.9723\n",
      "\n"
     ]
    },
    {
     "name": "stdout",
     "output_type": "stream",
     "text": [
      "Epoch 170, Loss 0.0224\n",
      "Training Accuracy: 0.9738, Testing Accuracy: 0.9723\n",
      "\n"
     ]
    },
    {
     "name": "stdout",
     "output_type": "stream",
     "text": [
      "Epoch 180, Loss 0.0219\n",
      "Training Accuracy: 0.9743, Testing Accuracy: 0.9718\n",
      "\n"
     ]
    },
    {
     "name": "stdout",
     "output_type": "stream",
     "text": [
      "Epoch 190, Loss 0.0214\n",
      "Training Accuracy: 0.9750, Testing Accuracy: 0.9728\n",
      "\n"
     ]
    },
    {
     "name": "stdout",
     "output_type": "stream",
     "text": [
      "Epoch 200, Loss 0.0209\n",
      "Training Accuracy: 0.9757, Testing Accuracy: 0.9728\n",
      "\n"
     ]
    },
    {
     "name": "stdout",
     "output_type": "stream",
     "text": [
      "Epoch 210, Loss 0.0205\n",
      "Training Accuracy: 0.9763, Testing Accuracy: 0.9743\n",
      "\n"
     ]
    },
    {
     "name": "stdout",
     "output_type": "stream",
     "text": [
      "Epoch 220, Loss 0.0201\n",
      "Training Accuracy: 0.9773, Testing Accuracy: 0.9743\n",
      "\n"
     ]
    },
    {
     "name": "stdout",
     "output_type": "stream",
     "text": [
      "Epoch 230, Loss 0.0197\n",
      "Training Accuracy: 0.9778, Testing Accuracy: 0.9743\n",
      "\n"
     ]
    },
    {
     "name": "stdout",
     "output_type": "stream",
     "text": [
      "Epoch 240, Loss 0.0193\n",
      "Training Accuracy: 0.9782, Testing Accuracy: 0.9743\n",
      "\n"
     ]
    },
    {
     "data": {
      "text/plain": [
       "0.005120913473056006"
      ]
     },
     "execution_count": 22,
     "metadata": {},
     "output_type": "execute_result"
    }
   ],
   "source": [
    "nn_learner.train_loop(dl)"
   ]
  },
  {
   "cell_type": "code",
   "execution_count": 23,
   "id": "e0163366",
   "metadata": {
    "execution": {
     "iopub.execute_input": "2021-10-26T00:23:09.241221Z",
     "iopub.status.busy": "2021-10-26T00:23:09.240665Z",
     "iopub.status.idle": "2021-10-26T00:23:24.183968Z",
     "shell.execute_reply": "2021-10-26T00:23:24.184822Z"
    },
    "papermill": {
     "duration": 14.993299,
     "end_time": "2021-10-26T00:23:24.184986",
     "exception": false,
     "start_time": "2021-10-26T00:23:09.191687",
     "status": "completed"
    },
    "tags": []
   },
   "outputs": [
    {
     "name": "stdout",
     "output_type": "stream",
     "text": [
      "Epoch 0, Loss 0.2663\n",
      "Training Accuracy: 0.5751, Testing Accuracy: 0.5983\n",
      "\n"
     ]
    },
    {
     "name": "stdout",
     "output_type": "stream",
     "text": [
      "Epoch 10, Loss 0.1057\n",
      "Training Accuracy: 0.9098, Testing Accuracy: 0.9183\n",
      "\n"
     ]
    },
    {
     "name": "stdout",
     "output_type": "stream",
     "text": [
      "Epoch 20, Loss 0.08\n",
      "Training Accuracy: 0.9292, Testing Accuracy: 0.9395\n",
      "\n"
     ]
    },
    {
     "name": "stdout",
     "output_type": "stream",
     "text": [
      "Epoch 30, Loss 0.0685\n",
      "Training Accuracy: 0.9385, Testing Accuracy: 0.9486\n",
      "\n"
     ]
    },
    {
     "name": "stdout",
     "output_type": "stream",
     "text": [
      "Epoch 40, Loss 0.0617\n",
      "Training Accuracy: 0.9434, Testing Accuracy: 0.9526\n",
      "\n"
     ]
    },
    {
     "name": "stdout",
     "output_type": "stream",
     "text": [
      "Epoch 50, Loss 0.057\n",
      "Training Accuracy: 0.9468, Testing Accuracy: 0.9556\n",
      "\n"
     ]
    },
    {
     "name": "stdout",
     "output_type": "stream",
     "text": [
      "Epoch 60, Loss 0.0537\n",
      "Training Accuracy: 0.9505, Testing Accuracy: 0.9572\n",
      "\n"
     ]
    },
    {
     "name": "stdout",
     "output_type": "stream",
     "text": [
      "Epoch 70, Loss 0.0511\n",
      "Training Accuracy: 0.9520, Testing Accuracy: 0.9592\n",
      "\n"
     ]
    },
    {
     "name": "stdout",
     "output_type": "stream",
     "text": [
      "Epoch 80, Loss 0.049\n",
      "Training Accuracy: 0.9537, Testing Accuracy: 0.9607\n",
      "\n"
     ]
    },
    {
     "name": "stdout",
     "output_type": "stream",
     "text": [
      "Epoch 90, Loss 0.0473\n",
      "Training Accuracy: 0.9548, Testing Accuracy: 0.9607\n",
      "\n"
     ]
    },
    {
     "name": "stdout",
     "output_type": "stream",
     "text": [
      "Epoch 100, Loss 0.0459\n",
      "Training Accuracy: 0.9559, Testing Accuracy: 0.9622\n",
      "\n"
     ]
    },
    {
     "name": "stdout",
     "output_type": "stream",
     "text": [
      "Epoch 110, Loss 0.0447\n",
      "Training Accuracy: 0.9564, Testing Accuracy: 0.9627\n",
      "\n"
     ]
    },
    {
     "name": "stdout",
     "output_type": "stream",
     "text": [
      "Epoch 120, Loss 0.0436\n",
      "Training Accuracy: 0.9567, Testing Accuracy: 0.9637\n",
      "\n"
     ]
    },
    {
     "name": "stdout",
     "output_type": "stream",
     "text": [
      "Epoch 130, Loss 0.0427\n",
      "Training Accuracy: 0.9574, Testing Accuracy: 0.9637\n",
      "\n"
     ]
    },
    {
     "name": "stdout",
     "output_type": "stream",
     "text": [
      "Epoch 140, Loss 0.0418\n",
      "Training Accuracy: 0.9580, Testing Accuracy: 0.9637\n",
      "\n"
     ]
    },
    {
     "name": "stdout",
     "output_type": "stream",
     "text": [
      "Epoch 150, Loss 0.0411\n",
      "Training Accuracy: 0.9582, Testing Accuracy: 0.9642\n",
      "\n"
     ]
    },
    {
     "name": "stdout",
     "output_type": "stream",
     "text": [
      "Epoch 160, Loss 0.0404\n",
      "Training Accuracy: 0.9588, Testing Accuracy: 0.9652\n",
      "\n"
     ]
    },
    {
     "name": "stdout",
     "output_type": "stream",
     "text": [
      "Epoch 170, Loss 0.0398\n",
      "Training Accuracy: 0.9592, Testing Accuracy: 0.9657\n",
      "\n"
     ]
    },
    {
     "name": "stdout",
     "output_type": "stream",
     "text": [
      "Epoch 180, Loss 0.0393\n",
      "Training Accuracy: 0.9594, Testing Accuracy: 0.9657\n",
      "\n"
     ]
    },
    {
     "name": "stdout",
     "output_type": "stream",
     "text": [
      "Epoch 190, Loss 0.0388\n",
      "Training Accuracy: 0.9594, Testing Accuracy: 0.9662\n",
      "\n"
     ]
    },
    {
     "name": "stdout",
     "output_type": "stream",
     "text": [
      "Epoch 200, Loss 0.0383\n",
      "Training Accuracy: 0.9598, Testing Accuracy: 0.9662\n",
      "\n"
     ]
    },
    {
     "name": "stdout",
     "output_type": "stream",
     "text": [
      "Epoch 210, Loss 0.0378\n",
      "Training Accuracy: 0.9604, Testing Accuracy: 0.9662\n",
      "\n"
     ]
    },
    {
     "name": "stdout",
     "output_type": "stream",
     "text": [
      "Epoch 220, Loss 0.0374\n",
      "Training Accuracy: 0.9608, Testing Accuracy: 0.9667\n",
      "\n"
     ]
    },
    {
     "name": "stdout",
     "output_type": "stream",
     "text": [
      "Epoch 230, Loss 0.0371\n",
      "Training Accuracy: 0.9609, Testing Accuracy: 0.9672\n",
      "\n"
     ]
    },
    {
     "name": "stdout",
     "output_type": "stream",
     "text": [
      "Epoch 240, Loss 0.0367\n",
      "Training Accuracy: 0.9613, Testing Accuracy: 0.9672\n",
      "\n"
     ]
    },
    {
     "data": {
      "text/plain": [
       "0.02894507078641299"
      ]
     },
     "execution_count": 23,
     "metadata": {},
     "output_type": "execute_result"
    }
   ],
   "source": [
    "lr_learner.train_loop(dl)"
   ]
  },
  {
   "cell_type": "code",
   "execution_count": 24,
   "id": "ca410940",
   "metadata": {
    "execution": {
     "iopub.execute_input": "2021-10-26T00:23:24.287221Z",
     "iopub.status.busy": "2021-10-26T00:23:24.286629Z",
     "iopub.status.idle": "2021-10-26T00:23:24.536903Z",
     "shell.execute_reply": "2021-10-26T00:23:24.536316Z"
    },
    "papermill": {
     "duration": 0.308132,
     "end_time": "2021-10-26T00:23:24.537060",
     "exception": false,
     "start_time": "2021-10-26T00:23:24.228928",
     "status": "completed"
    },
    "tags": []
   },
   "outputs": [
    {
     "data": {
      "text/plain": [
       "<matplotlib.legend.Legend at 0x7f7bb1104f98>"
      ]
     },
     "execution_count": 24,
     "metadata": {},
     "output_type": "execute_result"
    },
    {
     "data": {
      "image/png": "[encoded data removed]",
      "text/plain": [
       "<Figure size 1080x720 with 1 Axes>"
      ]
     },
     "metadata": {
      "needs_background": "light"
     },
     "output_type": "display_data"
    }
   ],
   "source": [
    "#comparing the results of NN and LR\n",
    "plt.figure(figsize=(15,10))\n",
    "\n",
    "# Neural Network plots\n",
    "plt.plot(acc_nn.accuracies, 'r-', label = \"Training Accuracies - NN\")\n",
    "plt.plot(acc_nn.test_accuracies, 'g-', label = \"Testing Accuracies - NN\")\n",
    "\n",
    "# Logistic Regression plots\n",
    "plt.plot(acc_lr.accuracies, 'k-', label = \"Training Accuracies - LR\")\n",
    "plt.plot(acc_lr.test_accuracies, 'b-', label = \"Testing Accuracies - LR\")\n",
    "plt.legend()"
   ]
  },
  {
   "cell_type": "markdown",
   "id": "80dfb35c",
   "metadata": {
    "papermill": {
     "duration": 0.044883,
     "end_time": "2021-10-26T00:23:24.629174",
     "exception": false,
     "start_time": "2021-10-26T00:23:24.584291",
     "status": "completed"
    },
    "tags": []
   },
   "source": [
    "#### Plotting the outputs of this layer of the NN.\n"
   ]
  },
  {
   "cell_type": "code",
   "execution_count": 25,
   "id": "45eb2ff5",
   "metadata": {
    "execution": {
     "iopub.execute_input": "2021-10-26T00:23:24.724163Z",
     "iopub.status.busy": "2021-10-26T00:23:24.723525Z",
     "iopub.status.idle": "2021-10-26T00:23:24.746076Z",
     "shell.execute_reply": "2021-10-26T00:23:24.746554Z"
    },
    "papermill": {
     "duration": 0.072511,
     "end_time": "2021-10-26T00:23:24.746720",
     "exception": false,
     "start_time": "2021-10-26T00:23:24.674209",
     "status": "completed"
    },
    "tags": []
   },
   "outputs": [],
   "source": [
    "new_model = Model(layers[:-2])\n",
    "testing_plot = new_model(testing_data_x)"
   ]
  },
  {
   "cell_type": "code",
   "execution_count": 26,
   "id": "4c0a5485",
   "metadata": {
    "execution": {
     "iopub.execute_input": "2021-10-26T00:23:24.861076Z",
     "iopub.status.busy": "2021-10-26T00:23:24.860508Z",
     "iopub.status.idle": "2021-10-26T00:23:25.080869Z",
     "shell.execute_reply": "2021-10-26T00:23:25.080345Z"
    },
    "papermill": {
     "duration": 0.279451,
     "end_time": "2021-10-26T00:23:25.081002",
     "exception": false,
     "start_time": "2021-10-26T00:23:24.801551",
     "status": "completed"
    },
    "tags": []
   },
   "outputs": [
    {
     "data": {
      "text/plain": [
       "Text(0.5, 1.0, 'Outputs')"
      ]
     },
     "execution_count": 26,
     "metadata": {},
     "output_type": "execute_result"
    },
    {
     "data": {
      "image/png": "[encoded data removed]",
      "text/plain": [
       "<Figure size 576x504 with 1 Axes>"
      ]
     },
     "metadata": {
      "needs_background": "light"
     },
     "output_type": "display_data"
    }
   ],
   "source": [
    "# Plotting the scatter plot of points and color coding by class\n",
    "plt.figure(figsize=(8,7))\n",
    "plt.scatter(testing_plot[:,0], testing_plot[:,1], alpha = 0.1, c = y_test.ravel());\n",
    "plt.title('Outputs')"
   ]
  },
  {
   "cell_type": "markdown",
   "id": "a74fcf8f",
   "metadata": {
    "papermill": {
     "duration": 0.04641,
     "end_time": "2021-10-26T00:23:25.172396",
     "exception": false,
     "start_time": "2021-10-26T00:23:25.125986",
     "status": "completed"
    },
    "tags": []
   },
   "source": [
    "Probability contours"
   ]
  },
  {
   "cell_type": "code",
   "execution_count": 27,
   "id": "d0afc8e3",
   "metadata": {
    "execution": {
     "iopub.execute_input": "2021-10-26T00:23:25.271326Z",
     "iopub.status.busy": "2021-10-26T00:23:25.270576Z",
     "iopub.status.idle": "2021-10-26T00:23:25.282159Z",
     "shell.execute_reply": "2021-10-26T00:23:25.282629Z"
    },
    "papermill": {
     "duration": 0.062862,
     "end_time": "2021-10-26T00:23:25.282786",
     "exception": false,
     "start_time": "2021-10-26T00:23:25.219924",
     "status": "completed"
    },
    "tags": []
   },
   "outputs": [],
   "source": [
    "model_prob = Model(layers[-2:]) "
   ]
  },
  {
   "cell_type": "code",
   "execution_count": 28,
   "id": "9b96e238",
   "metadata": {
    "execution": {
     "iopub.execute_input": "2021-10-26T00:23:25.413109Z",
     "iopub.status.busy": "2021-10-26T00:23:25.411314Z",
     "iopub.status.idle": "2021-10-26T00:23:25.426464Z",
     "shell.execute_reply": "2021-10-26T00:23:25.426881Z"
    },
    "papermill": {
     "duration": 0.067109,
     "end_time": "2021-10-26T00:23:25.427004",
     "exception": false,
     "start_time": "2021-10-26T00:23:25.359895",
     "status": "completed"
    },
    "tags": []
   },
   "outputs": [],
   "source": [
    "#creating the x and y ranges according to the above generated plot.\n",
    "x_range = np.linspace(-4, 1, 100) \n",
    "y_range = np.linspace(-6, 6, 100) \n",
    "x_grid, y_grid = np.meshgrid(x_range, y_range) # x_grid and y_grig are of size 100 X 100\n",
    "\n",
    "# converting x_grid and y_grid to continuous arrays\n",
    "x_gridflat = np.ravel(x_grid)\n",
    "y_gridflat = np.ravel(y_grid)\n",
    "\n",
    "# The last layer of the current model takes two columns as input. Hence transpose of np.vstack() is required.\n",
    "X = np.vstack((x_gridflat, y_gridflat)).T\n",
    "\n",
    "prob_contour = model_prob(X).reshape(100,100) "
   ]
  },
  {
   "cell_type": "code",
   "execution_count": 29,
   "id": "da72499a",
   "metadata": {
    "execution": {
     "iopub.execute_input": "2021-10-26T00:23:25.537484Z",
     "iopub.status.busy": "2021-10-26T00:23:25.536922Z",
     "iopub.status.idle": "2021-10-26T00:23:25.820926Z",
     "shell.execute_reply": "2021-10-26T00:23:25.821434Z"
    },
    "papermill": {
     "duration": 0.342802,
     "end_time": "2021-10-26T00:23:25.821594",
     "exception": false,
     "start_time": "2021-10-26T00:23:25.478792",
     "status": "completed"
    },
    "tags": []
   },
   "outputs": [
    {
     "data": {
      "image/png": "[encoded data removed]",
      "text/plain": [
       "<Figure size 720x648 with 1 Axes>"
      ]
     },
     "metadata": {
      "needs_background": "light"
     },
     "output_type": "display_data"
    }
   ],
   "source": [
    "plt.figure(figsize=(10,9))\n",
    "plt.scatter(testing_plot[:,0], testing_plot[:,1], alpha = 0.1, c = y_test.ravel())\n",
    "contours = plt.contour(x_grid,y_grid,prob_contour)\n",
    "plt.title('Probability Contours')\n",
    "plt.clabel(contours, inline = True );"
   ]
  },
  {
   "cell_type": "code",
   "execution_count": null,
   "id": "e81b4ac7",
   "metadata": {
    "papermill": {
     "duration": 0.048009,
     "end_time": "2021-10-26T00:23:25.920431",
     "exception": false,
     "start_time": "2021-10-26T00:23:25.872422",
     "status": "completed"
    },
    "tags": []
   },
   "outputs": [],
   "source": []
  }
 ],
 "metadata": {
  "kernelspec": {
   "display_name": "Python 3",
   "language": "python",
   "name": "python3"
  },
  "language_info": {
   "codemirror_mode": {
    "name": "ipython",
    "version": 3
   },
   "file_extension": ".py",
   "mimetype": "text/x-python",
   "name": "python",
   "nbconvert_exporter": "python",
   "pygments_lexer": "ipython3",
   "version": "3.6.15"
  },
  "papermill": {
   "default_parameters": {},
   "duration": 107.388415,
   "end_time": "2021-10-26T00:23:26.379420",
   "environment_variables": {},
   "exception": null,
   "input_path": "2020-08-11-part2.ipynb",
   "output_path": "2020-08-11-part2.ipynb",
   "parameters": {},
   "start_time": "2021-10-26T00:21:38.991005",
   "version": "2.3.3"
  }
 },
 "nbformat": 4,
 "nbformat_minor": 5
}