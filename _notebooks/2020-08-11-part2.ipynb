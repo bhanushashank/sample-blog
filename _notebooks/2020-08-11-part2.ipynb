{
 "cells": [
  {
   "cell_type": "markdown",
   "id": "98380cd3",
   "metadata": {
    "papermill": {
     "duration": 0.029638,
     "end_time": "2022-08-02T00:42:52.423763",
     "exception": false,
     "start_time": "2022-08-02T00:42:52.394125",
     "status": "completed"
    },
    "tags": []
   },
   "source": [
    "# Distinguish Your Own Digits (DYOD)"
   ]
  },
  {
   "cell_type": "markdown",
   "id": "ef31240d",
   "metadata": {
    "papermill": {
     "duration": 0.023894,
     "end_time": "2022-08-02T00:42:52.471974",
     "exception": false,
     "start_time": "2022-08-02T00:42:52.448080",
     "status": "completed"
    },
    "tags": []
   },
   "source": [
    "You are going to write a classifier that distinguishes between the number 3 and number 8."
   ]
  },
  {
   "cell_type": "code",
   "execution_count": 1,
   "id": "b15c8646",
   "metadata": {
    "execution": {
     "iopub.execute_input": "2022-08-02T00:42:52.530457Z",
     "iopub.status.busy": "2022-08-02T00:42:52.529856Z",
     "iopub.status.idle": "2022-08-02T00:42:52.540867Z",
     "shell.execute_reply": "2022-08-02T00:42:52.540381Z"
    },
    "papermill": {
     "duration": 0.045455,
     "end_time": "2022-08-02T00:42:52.541014",
     "exception": false,
     "start_time": "2022-08-02T00:42:52.495559",
     "status": "completed"
    },
    "tags": []
   },
   "outputs": [],
   "source": [
    "%load_ext autoreload\n",
    "%autoreload 2"
   ]
  },
  {
   "cell_type": "code",
   "execution_count": 2,
   "id": "22ef38dc",
   "metadata": {
    "execution": {
     "iopub.execute_input": "2022-08-02T00:42:52.592258Z",
     "iopub.status.busy": "2022-08-02T00:42:52.591684Z",
     "iopub.status.idle": "2022-08-02T00:42:53.128998Z",
     "shell.execute_reply": "2022-08-02T00:42:53.129568Z"
    },
    "papermill": {
     "duration": 0.565128,
     "end_time": "2022-08-02T00:42:53.129756",
     "exception": false,
     "start_time": "2022-08-02T00:42:52.564628",
     "status": "completed"
    },
    "tags": []
   },
   "outputs": [],
   "source": [
    "%matplotlib inline\n",
    "import numpy as np\n",
    "import matplotlib.pyplot as plt\n",
    "import pandas as pd"
   ]
  },
  {
   "cell_type": "markdown",
   "id": "ba036198",
   "metadata": {
    "papermill": {
     "duration": 0.023732,
     "end_time": "2022-08-02T00:42:53.178055",
     "exception": false,
     "start_time": "2022-08-02T00:42:53.154323",
     "status": "completed"
    },
    "tags": []
   },
   "source": [
    "From the command line run `pip install mnist`. This is a library that will help you bring down the mnist dataset. If you run this from a notebook, you need to put  `!pip install mnist` in a cell by itself."
   ]
  },
  {
   "cell_type": "code",
   "execution_count": 3,
   "id": "bb6ad8a1",
   "metadata": {
    "execution": {
     "iopub.execute_input": "2022-08-02T00:42:53.230011Z",
     "iopub.status.busy": "2022-08-02T00:42:53.229411Z",
     "iopub.status.idle": "2022-08-02T00:42:54.828293Z",
     "shell.execute_reply": "2022-08-02T00:42:54.827681Z"
    },
    "papermill": {
     "duration": 1.626592,
     "end_time": "2022-08-02T00:42:54.828435",
     "exception": false,
     "start_time": "2022-08-02T00:42:53.201843",
     "status": "completed"
    },
    "tags": []
   },
   "outputs": [
    {
     "name": "stdout",
     "output_type": "stream",
     "text": [
      "Collecting mnist\r\n"
     ]
    },
    {
     "name": "stdout",
     "output_type": "stream",
     "text": [
      "  Downloading mnist-0.2.2-py2.py3-none-any.whl (3.5 kB)\r\n",
      "Requirement already satisfied: numpy in /opt/hostedtoolcache/Python/3.6.15/x64/lib/python3.6/site-packages (from mnist) (1.19.5)\r\n"
     ]
    },
    {
     "name": "stdout",
     "output_type": "stream",
     "text": [
      "Installing collected packages: mnist\r\n",
      "Successfully installed mnist-0.2.2\r\n"
     ]
    }
   ],
   "source": [
    "!pip install mnist"
   ]
  },
  {
   "cell_type": "markdown",
   "id": "69df9c9a",
   "metadata": {
    "papermill": {
     "duration": 0.024594,
     "end_time": "2022-08-02T00:42:54.878099",
     "exception": false,
     "start_time": "2022-08-02T00:42:54.853505",
     "status": "completed"
    },
    "tags": []
   },
   "source": [
    "## Preparing the Data"
   ]
  },
  {
   "cell_type": "code",
   "execution_count": 4,
   "id": "7f69d806",
   "metadata": {
    "execution": {
     "iopub.execute_input": "2022-08-02T00:42:54.941770Z",
     "iopub.status.busy": "2022-08-02T00:42:54.933386Z",
     "iopub.status.idle": "2022-08-02T00:42:54.946512Z",
     "shell.execute_reply": "2022-08-02T00:42:54.947243Z"
    },
    "papermill": {
     "duration": 0.04476,
     "end_time": "2022-08-02T00:42:54.947380",
     "exception": false,
     "start_time": "2022-08-02T00:42:54.902620",
     "status": "completed"
    },
    "tags": []
   },
   "outputs": [],
   "source": [
    "import mnist"
   ]
  },
  {
   "cell_type": "code",
   "execution_count": 5,
   "id": "a411e44f",
   "metadata": {
    "execution": {
     "iopub.execute_input": "2022-08-02T00:42:55.003908Z",
     "iopub.status.busy": "2022-08-02T00:42:54.999103Z",
     "iopub.status.idle": "2022-08-02T00:42:55.616847Z",
     "shell.execute_reply": "2022-08-02T00:42:55.616301Z"
    },
    "papermill": {
     "duration": 0.64521,
     "end_time": "2022-08-02T00:42:55.616996",
     "exception": false,
     "start_time": "2022-08-02T00:42:54.971786",
     "status": "completed"
    },
    "tags": []
   },
   "outputs": [],
   "source": [
    "train_images = mnist.train_images()\n",
    "train_labels = mnist.train_labels()"
   ]
  },
  {
   "cell_type": "code",
   "execution_count": 6,
   "id": "dceab3a5",
   "metadata": {
    "execution": {
     "iopub.execute_input": "2022-08-02T00:42:55.688078Z",
     "iopub.status.busy": "2022-08-02T00:42:55.687449Z",
     "iopub.status.idle": "2022-08-02T00:42:55.693559Z",
     "shell.execute_reply": "2022-08-02T00:42:55.694008Z"
    },
    "papermill": {
     "duration": 0.052327,
     "end_time": "2022-08-02T00:42:55.694147",
     "exception": false,
     "start_time": "2022-08-02T00:42:55.641820",
     "status": "completed"
    },
    "tags": []
   },
   "outputs": [
    {
     "data": {
      "text/plain": [
       "((60000, 28, 28), (60000,))"
      ]
     },
     "execution_count": 6,
     "metadata": {},
     "output_type": "execute_result"
    }
   ],
   "source": [
    "train_images.shape, train_labels.shape"
   ]
  },
  {
   "cell_type": "code",
   "execution_count": 7,
   "id": "f50dc2bb",
   "metadata": {
    "execution": {
     "iopub.execute_input": "2022-08-02T00:42:55.749767Z",
     "iopub.status.busy": "2022-08-02T00:42:55.747230Z",
     "iopub.status.idle": "2022-08-02T00:42:55.903198Z",
     "shell.execute_reply": "2022-08-02T00:42:55.902527Z"
    },
    "papermill": {
     "duration": 0.184415,
     "end_time": "2022-08-02T00:42:55.903335",
     "exception": false,
     "start_time": "2022-08-02T00:42:55.718920",
     "status": "completed"
    },
    "tags": []
   },
   "outputs": [],
   "source": [
    "test_images = mnist.test_images()\n",
    "test_labels = mnist.test_labels()"
   ]
  },
  {
   "cell_type": "code",
   "execution_count": 8,
   "id": "fc38cf1b",
   "metadata": {
    "execution": {
     "iopub.execute_input": "2022-08-02T00:42:55.958167Z",
     "iopub.status.busy": "2022-08-02T00:42:55.957567Z",
     "iopub.status.idle": "2022-08-02T00:42:55.970420Z",
     "shell.execute_reply": "2022-08-02T00:42:55.970892Z"
    },
    "papermill": {
     "duration": 0.042076,
     "end_time": "2022-08-02T00:42:55.971028",
     "exception": false,
     "start_time": "2022-08-02T00:42:55.928952",
     "status": "completed"
    },
    "tags": []
   },
   "outputs": [
    {
     "data": {
      "text/plain": [
       "((10000, 28, 28), (10000,))"
      ]
     },
     "execution_count": 8,
     "metadata": {},
     "output_type": "execute_result"
    }
   ],
   "source": [
    "test_images.shape, test_labels.shape"
   ]
  },
  {
   "cell_type": "code",
   "execution_count": 9,
   "id": "f9ed8fe0",
   "metadata": {
    "execution": {
     "iopub.execute_input": "2022-08-02T00:42:56.025144Z",
     "iopub.status.busy": "2022-08-02T00:42:56.024536Z",
     "iopub.status.idle": "2022-08-02T00:42:56.163831Z",
     "shell.execute_reply": "2022-08-02T00:42:56.164276Z"
    },
    "papermill": {
     "duration": 0.168304,
     "end_time": "2022-08-02T00:42:56.164427",
     "exception": false,
     "start_time": "2022-08-02T00:42:55.996123",
     "status": "completed"
    },
    "tags": []
   },
   "outputs": [
    {
     "name": "stdout",
     "output_type": "stream",
     "text": [
      "2\n"
     ]
    },
    {
     "data": {
      "text/plain": [
       "<matplotlib.image.AxesImage at 0x7f1f962df518>"
      ]
     },
     "execution_count": 9,
     "metadata": {},
     "output_type": "execute_result"
    },
    {
     "data": {
      "image/png": "[encoded data removed]",
      "text/plain": [
       "<Figure size 432x288 with 1 Axes>"
      ]
     },
     "metadata": {
      "needs_background": "light"
     },
     "output_type": "display_data"
    }
   ],
   "source": [
    "image_index = 7776 # You may select anything up to 60,000\n",
    "print(train_labels[image_index]) \n",
    "plt.imshow(train_images[image_index], cmap='Greys')"
   ]
  },
  {
   "cell_type": "markdown",
   "id": "a8d2388d",
   "metadata": {
    "papermill": {
     "duration": 0.026287,
     "end_time": "2022-08-02T00:42:56.217193",
     "exception": false,
     "start_time": "2022-08-02T00:42:56.190906",
     "status": "completed"
    },
    "tags": []
   },
   "source": [
    "## Filter data to get 3 and 8 out"
   ]
  },
  {
   "cell_type": "code",
   "execution_count": 10,
   "id": "776f7fc7",
   "metadata": {
    "execution": {
     "iopub.execute_input": "2022-08-02T00:42:56.276939Z",
     "iopub.status.busy": "2022-08-02T00:42:56.276327Z",
     "iopub.status.idle": "2022-08-02T00:42:56.295144Z",
     "shell.execute_reply": "2022-08-02T00:42:56.294633Z"
    },
    "papermill": {
     "duration": 0.051958,
     "end_time": "2022-08-02T00:42:56.295264",
     "exception": false,
     "start_time": "2022-08-02T00:42:56.243306",
     "status": "completed"
    },
    "tags": []
   },
   "outputs": [],
   "source": [
    "train_filter = np.where((train_labels == 3 ) | (train_labels == 8))\n",
    "test_filter = np.where((test_labels == 3) | (test_labels == 8))\n",
    "X_train, y_train = train_images[train_filter], train_labels[train_filter]\n",
    "X_test, y_test = test_images[test_filter], test_labels[test_filter]"
   ]
  },
  {
   "cell_type": "markdown",
   "id": "948f0b7e",
   "metadata": {
    "papermill": {
     "duration": 0.026392,
     "end_time": "2022-08-02T00:42:56.348029",
     "exception": false,
     "start_time": "2022-08-02T00:42:56.321637",
     "status": "completed"
    },
    "tags": []
   },
   "source": [
    "We normalize the pizel values in the 0 to 1 range"
   ]
  },
  {
   "cell_type": "code",
   "execution_count": 11,
   "id": "ee4c2166",
   "metadata": {
    "execution": {
     "iopub.execute_input": "2022-08-02T00:42:56.407143Z",
     "iopub.status.busy": "2022-08-02T00:42:56.406551Z",
     "iopub.status.idle": "2022-08-02T00:42:56.453657Z",
     "shell.execute_reply": "2022-08-02T00:42:56.453080Z"
    },
    "papermill": {
     "duration": 0.079744,
     "end_time": "2022-08-02T00:42:56.453796",
     "exception": false,
     "start_time": "2022-08-02T00:42:56.374052",
     "status": "completed"
    },
    "tags": []
   },
   "outputs": [],
   "source": [
    "X_train = X_train/255.\n",
    "X_test = X_test/255."
   ]
  },
  {
   "cell_type": "markdown",
   "id": "ddcf4fab",
   "metadata": {
    "papermill": {
     "duration": 0.026627,
     "end_time": "2022-08-02T00:42:56.507320",
     "exception": false,
     "start_time": "2022-08-02T00:42:56.480693",
     "status": "completed"
    },
    "tags": []
   },
   "source": [
    "And setup the labels as 1 (when the digit is 3) and 0 (when the digit is 8)"
   ]
  },
  {
   "cell_type": "code",
   "execution_count": 12,
   "id": "7dc908f2",
   "metadata": {
    "execution": {
     "iopub.execute_input": "2022-08-02T00:42:56.577386Z",
     "iopub.status.busy": "2022-08-02T00:42:56.574227Z",
     "iopub.status.idle": "2022-08-02T00:42:56.579636Z",
     "shell.execute_reply": "2022-08-02T00:42:56.580056Z"
    },
    "papermill": {
     "duration": 0.046718,
     "end_time": "2022-08-02T00:42:56.580190",
     "exception": false,
     "start_time": "2022-08-02T00:42:56.533472",
     "status": "completed"
    },
    "tags": []
   },
   "outputs": [],
   "source": [
    "y_train = 1*(y_train==3)\n",
    "y_test = 1*(y_test==3)"
   ]
  },
  {
   "cell_type": "code",
   "execution_count": 13,
   "id": "01e4e969",
   "metadata": {
    "execution": {
     "iopub.execute_input": "2022-08-02T00:42:56.636413Z",
     "iopub.status.busy": "2022-08-02T00:42:56.635840Z",
     "iopub.status.idle": "2022-08-02T00:42:56.649847Z",
     "shell.execute_reply": "2022-08-02T00:42:56.649277Z"
    },
    "papermill": {
     "duration": 0.043616,
     "end_time": "2022-08-02T00:42:56.649956",
     "exception": false,
     "start_time": "2022-08-02T00:42:56.606340",
     "status": "completed"
    },
    "tags": []
   },
   "outputs": [
    {
     "data": {
      "text/plain": [
       "((11982, 28, 28), (1984, 28, 28))"
      ]
     },
     "execution_count": 13,
     "metadata": {},
     "output_type": "execute_result"
    }
   ],
   "source": [
    "X_train.shape, X_test.shape"
   ]
  },
  {
   "cell_type": "markdown",
   "id": "5ccf3f85",
   "metadata": {
    "papermill": {
     "duration": 0.026137,
     "end_time": "2022-08-02T00:42:56.703045",
     "exception": false,
     "start_time": "2022-08-02T00:42:56.676908",
     "status": "completed"
    },
    "tags": []
   },
   "source": [
    "We reshape the data to flatten the image pixels into a set of features or co-variates:"
   ]
  },
  {
   "cell_type": "code",
   "execution_count": 14,
   "id": "5286a4a3",
   "metadata": {
    "execution": {
     "iopub.execute_input": "2022-08-02T00:42:56.761257Z",
     "iopub.status.busy": "2022-08-02T00:42:56.760652Z",
     "iopub.status.idle": "2022-08-02T00:42:56.773971Z",
     "shell.execute_reply": "2022-08-02T00:42:56.773406Z"
    },
    "papermill": {
     "duration": 0.044722,
     "end_time": "2022-08-02T00:42:56.774082",
     "exception": false,
     "start_time": "2022-08-02T00:42:56.729360",
     "status": "completed"
    },
    "tags": []
   },
   "outputs": [
    {
     "data": {
      "text/plain": [
       "((11982, 784), (1984, 784))"
      ]
     },
     "execution_count": 14,
     "metadata": {},
     "output_type": "execute_result"
    }
   ],
   "source": [
    "X_train = X_train.reshape(X_train.shape[0], -1)\n",
    "X_test = X_test.reshape(X_test.shape[0], -1)\n",
    "X_train.shape, X_test.shape"
   ]
  },
  {
   "cell_type": "code",
   "execution_count": 15,
   "id": "73c5f88a",
   "metadata": {
    "execution": {
     "iopub.execute_input": "2022-08-02T00:42:56.831604Z",
     "iopub.status.busy": "2022-08-02T00:42:56.831018Z",
     "iopub.status.idle": "2022-08-02T00:42:56.850231Z",
     "shell.execute_reply": "2022-08-02T00:42:56.849759Z"
    },
    "papermill": {
     "duration": 0.049611,
     "end_time": "2022-08-02T00:42:56.850338",
     "exception": false,
     "start_time": "2022-08-02T00:42:56.800727",
     "status": "completed"
    },
    "tags": []
   },
   "outputs": [],
   "source": [
    "#Impoting functions from 'Kudzu'\n",
    "from kudzu.model import Model\n",
    "from kudzu.train import Learner\n",
    "from kudzu.optim import GD\n",
    "from kudzu.data import Data, Sampler,Dataloader\n",
    "\n",
    "from kudzu.callbacks import AccCallback\n",
    "from kudzu.callbacks import ClfCallback\n",
    "\n",
    "from kudzu.loss import MSE\n",
    "\n",
    "from kudzu.layer import Sigmoid,Relu\n",
    "from kudzu.layer import Affine"
   ]
  },
  {
   "cell_type": "markdown",
   "id": "bc01172a",
   "metadata": {
    "papermill": {
     "duration": 0.026406,
     "end_time": "2022-08-02T00:42:56.903451",
     "exception": false,
     "start_time": "2022-08-02T00:42:56.877045",
     "status": "completed"
    },
    "tags": []
   },
   "source": [
    "### Let us create a `Config` class, to store important parameters. \n",
    "This class essentially plays the role of a dictionary."
   ]
  },
  {
   "cell_type": "code",
   "execution_count": 16,
   "id": "978281aa",
   "metadata": {
    "execution": {
     "iopub.execute_input": "2022-08-02T00:42:56.974308Z",
     "iopub.status.busy": "2022-08-02T00:42:56.970432Z",
     "iopub.status.idle": "2022-08-02T00:42:56.976620Z",
     "shell.execute_reply": "2022-08-02T00:42:56.977084Z"
    },
    "papermill": {
     "duration": 0.047279,
     "end_time": "2022-08-02T00:42:56.977217",
     "exception": false,
     "start_time": "2022-08-02T00:42:56.929938",
     "status": "completed"
    },
    "tags": []
   },
   "outputs": [],
   "source": [
    "class Config:\n",
    "    pass\n",
    "config = Config()\n",
    "config.lr = 0.001\n",
    "config.num_epochs = 250\n",
    "config.bs = 50"
   ]
  },
  {
   "cell_type": "markdown",
   "id": "1385fa59",
   "metadata": {
    "papermill": {
     "duration": 0.026407,
     "end_time": "2022-08-02T00:42:57.030225",
     "exception": false,
     "start_time": "2022-08-02T00:42:57.003818",
     "status": "completed"
    },
    "tags": []
   },
   "source": [
    "### Running Models with the Training data\n",
    "Details about the network layers:\n",
    "- A first affine layer has 784 inputs and does 100 affine transforms. These are followed by a Relu\n",
    "- A second affine layer has 100 inputs from the 100 activations of the past layer, and does 100 affine transforms. These are followed by a Relu\n",
    "- A third affine layer has 100 activations and does 2 affine transformations to create an embedding for visualization. There is no non-linearity here.\n",
    "- A final \"logistic regression\" which has an affine transform from 2 inputs to 1 output, which is squeezed through a sigmoid.\n"
   ]
  },
  {
   "cell_type": "code",
   "execution_count": 17,
   "id": "2b9c66db",
   "metadata": {
    "execution": {
     "iopub.execute_input": "2022-08-02T00:42:57.098170Z",
     "iopub.status.busy": "2022-08-02T00:42:57.089886Z",
     "iopub.status.idle": "2022-08-02T00:42:57.101584Z",
     "shell.execute_reply": "2022-08-02T00:42:57.101096Z"
    },
    "papermill": {
     "duration": 0.045089,
     "end_time": "2022-08-02T00:42:57.101700",
     "exception": false,
     "start_time": "2022-08-02T00:42:57.056611",
     "status": "completed"
    },
    "tags": []
   },
   "outputs": [],
   "source": [
    "data = Data(X_train, y_train.reshape(-1,1))\n",
    "sampler = Sampler(data, config.bs, shuffle=True)\n",
    "\n",
    "dl = Dataloader(data, sampler)\n",
    "\n",
    "opt = GD(config.lr)\n",
    "loss = MSE()"
   ]
  },
  {
   "cell_type": "code",
   "execution_count": 18,
   "id": "b275e4c2",
   "metadata": {
    "execution": {
     "iopub.execute_input": "2022-08-02T00:42:57.170491Z",
     "iopub.status.busy": "2022-08-02T00:42:57.169907Z",
     "iopub.status.idle": "2022-08-02T00:42:57.177302Z",
     "shell.execute_reply": "2022-08-02T00:42:57.176801Z"
    },
    "papermill": {
     "duration": 0.048839,
     "end_time": "2022-08-02T00:42:57.177416",
     "exception": false,
     "start_time": "2022-08-02T00:42:57.128577",
     "status": "completed"
    },
    "tags": []
   },
   "outputs": [],
   "source": [
    "training_data_x = X_train\n",
    "testing_data_x = X_test\n",
    "training_data_y = y_train.reshape(-1,1)\n",
    "testing_data_y = y_test.reshape(-1,1)"
   ]
  },
  {
   "cell_type": "code",
   "execution_count": 19,
   "id": "76951160",
   "metadata": {
    "execution": {
     "iopub.execute_input": "2022-08-02T00:42:57.249782Z",
     "iopub.status.busy": "2022-08-02T00:42:57.245924Z",
     "iopub.status.idle": "2022-08-02T00:42:57.254928Z",
     "shell.execute_reply": "2022-08-02T00:42:57.255679Z"
    },
    "papermill": {
     "duration": 0.052027,
     "end_time": "2022-08-02T00:42:57.255816",
     "exception": false,
     "start_time": "2022-08-02T00:42:57.203789",
     "status": "completed"
    },
    "tags": []
   },
   "outputs": [
    {
     "name": "stdout",
     "output_type": "stream",
     "text": [
      "xavier\n",
      "xavier\n",
      "xavier\n",
      "xavier\n",
      "xavier\n"
     ]
    }
   ],
   "source": [
    "layers = [Affine(\"first\", 784, 100), Relu(\"first\"), Affine(\"second\", 100, 100), Relu(\"second\"), Affine(\"third\", 100, 2), Affine(\"last\", 2, 1), Sigmoid(\"last\")]\n",
    "model_nn = Model(layers)\n",
    "model_lr = Model([Affine(\"logits\", 784, 1), Sigmoid(\"sigmoid\")])"
   ]
  },
  {
   "cell_type": "code",
   "execution_count": 20,
   "id": "6eede77a",
   "metadata": {
    "execution": {
     "iopub.execute_input": "2022-08-02T00:42:57.314585Z",
     "iopub.status.busy": "2022-08-02T00:42:57.314003Z",
     "iopub.status.idle": "2022-08-02T00:42:57.326861Z",
     "shell.execute_reply": "2022-08-02T00:42:57.326389Z"
    },
    "papermill": {
     "duration": 0.044388,
     "end_time": "2022-08-02T00:42:57.326969",
     "exception": false,
     "start_time": "2022-08-02T00:42:57.282581",
     "status": "completed"
    },
    "tags": []
   },
   "outputs": [],
   "source": [
    "nn_learner = Learner(loss, model_nn, opt, config.num_epochs)\n",
    "acc_nn = ClfCallback(nn_learner, config.bs, training_data_x , testing_data_x, training_data_y, testing_data_y)\n",
    "nn_learner.set_callbacks([acc_nn])"
   ]
  },
  {
   "cell_type": "code",
   "execution_count": 21,
   "id": "877b6cc7",
   "metadata": {
    "execution": {
     "iopub.execute_input": "2022-08-02T00:42:57.386776Z",
     "iopub.status.busy": "2022-08-02T00:42:57.386116Z",
     "iopub.status.idle": "2022-08-02T00:42:57.396007Z",
     "shell.execute_reply": "2022-08-02T00:42:57.396459Z"
    },
    "papermill": {
     "duration": 0.042901,
     "end_time": "2022-08-02T00:42:57.396578",
     "exception": false,
     "start_time": "2022-08-02T00:42:57.353677",
     "status": "completed"
    },
    "tags": []
   },
   "outputs": [],
   "source": [
    "lr_learner = Learner(loss, model_lr, opt, config.num_epochs)\n",
    "acc_lr = ClfCallback(lr_learner, config.bs, training_data_x , testing_data_x, training_data_y, testing_data_y)\n",
    "lr_learner.set_callbacks([acc_lr])"
   ]
  },
  {
   "cell_type": "code",
   "execution_count": 22,
   "id": "d9b133c3",
   "metadata": {
    "execution": {
     "iopub.execute_input": "2022-08-02T00:42:57.453985Z",
     "iopub.status.busy": "2022-08-02T00:42:57.453240Z",
     "iopub.status.idle": "2022-08-02T00:44:13.211129Z",
     "shell.execute_reply": "2022-08-02T00:44:13.211992Z"
    },
    "papermill": {
     "duration": 75.788719,
     "end_time": "2022-08-02T00:44:13.212146",
     "exception": false,
     "start_time": "2022-08-02T00:42:57.423427",
     "status": "completed"
    },
    "tags": []
   },
   "outputs": [
    {
     "name": "stdout",
     "output_type": "stream",
     "text": [
      "Epoch 0, Loss 0.2402\n",
      "Training Accuracy: 0.6891, Testing Accuracy: 0.6804\n",
      "\n"
     ]
    },
    {
     "name": "stdout",
     "output_type": "stream",
     "text": [
      "Epoch 10, Loss 0.0885\n",
      "Training Accuracy: 0.9150, Testing Accuracy: 0.9254\n",
      "\n"
     ]
    },
    {
     "name": "stdout",
     "output_type": "stream",
     "text": [
      "Epoch 20, Loss 0.0553\n",
      "Training Accuracy: 0.9407, Testing Accuracy: 0.9541\n",
      "\n"
     ]
    },
    {
     "name": "stdout",
     "output_type": "stream",
     "text": [
      "Epoch 30, Loss 0.0435\n",
      "Training Accuracy: 0.9528, Testing Accuracy: 0.9622\n",
      "\n"
     ]
    },
    {
     "name": "stdout",
     "output_type": "stream",
     "text": [
      "Epoch 40, Loss 0.0376\n",
      "Training Accuracy: 0.9579, Testing Accuracy: 0.9652\n",
      "\n"
     ]
    },
    {
     "name": "stdout",
     "output_type": "stream",
     "text": [
      "Epoch 50, Loss 0.034\n",
      "Training Accuracy: 0.9599, Testing Accuracy: 0.9688\n",
      "\n"
     ]
    },
    {
     "name": "stdout",
     "output_type": "stream",
     "text": [
      "Epoch 60, Loss 0.0316\n",
      "Training Accuracy: 0.9629, Testing Accuracy: 0.9682\n",
      "\n"
     ]
    },
    {
     "name": "stdout",
     "output_type": "stream",
     "text": [
      "Epoch 70, Loss 0.0297\n",
      "Training Accuracy: 0.9656, Testing Accuracy: 0.9708\n",
      "\n"
     ]
    },
    {
     "name": "stdout",
     "output_type": "stream",
     "text": [
      "Epoch 80, Loss 0.0282\n",
      "Training Accuracy: 0.9674, Testing Accuracy: 0.9718\n",
      "\n"
     ]
    },
    {
     "name": "stdout",
     "output_type": "stream",
     "text": [
      "Epoch 90, Loss 0.027\n",
      "Training Accuracy: 0.9685, Testing Accuracy: 0.9703\n",
      "\n"
     ]
    },
    {
     "name": "stdout",
     "output_type": "stream",
     "text": [
      "Epoch 100, Loss 0.026\n",
      "Training Accuracy: 0.9696, Testing Accuracy: 0.9698\n",
      "\n"
     ]
    },
    {
     "name": "stdout",
     "output_type": "stream",
     "text": [
      "Epoch 110, Loss 0.025\n",
      "Training Accuracy: 0.9705, Testing Accuracy: 0.9703\n",
      "\n"
     ]
    },
    {
     "name": "stdout",
     "output_type": "stream",
     "text": [
      "Epoch 120, Loss 0.0242\n",
      "Training Accuracy: 0.9714, Testing Accuracy: 0.9713\n",
      "\n"
     ]
    },
    {
     "name": "stdout",
     "output_type": "stream",
     "text": [
      "Epoch 130, Loss 0.0234\n",
      "Training Accuracy: 0.9723, Testing Accuracy: 0.9723\n",
      "\n"
     ]
    },
    {
     "name": "stdout",
     "output_type": "stream",
     "text": [
      "Epoch 140, Loss 0.0227\n",
      "Training Accuracy: 0.9728, Testing Accuracy: 0.9733\n",
      "\n"
     ]
    },
    {
     "name": "stdout",
     "output_type": "stream",
     "text": [
      "Epoch 150, Loss 0.0221\n",
      "Training Accuracy: 0.9739, Testing Accuracy: 0.9733\n",
      "\n"
     ]
    },
    {
     "name": "stdout",
     "output_type": "stream",
     "text": [
      "Epoch 160, Loss 0.0215\n",
      "Training Accuracy: 0.9751, Testing Accuracy: 0.9748\n",
      "\n"
     ]
    },
    {
     "name": "stdout",
     "output_type": "stream",
     "text": [
      "Epoch 170, Loss 0.021\n",
      "Training Accuracy: 0.9760, Testing Accuracy: 0.9748\n",
      "\n"
     ]
    },
    {
     "name": "stdout",
     "output_type": "stream",
     "text": [
      "Epoch 180, Loss 0.0205\n",
      "Training Accuracy: 0.9766, Testing Accuracy: 0.9748\n",
      "\n"
     ]
    },
    {
     "name": "stdout",
     "output_type": "stream",
     "text": [
      "Epoch 190, Loss 0.02\n",
      "Training Accuracy: 0.9774, Testing Accuracy: 0.9753\n",
      "\n"
     ]
    },
    {
     "name": "stdout",
     "output_type": "stream",
     "text": [
      "Epoch 200, Loss 0.0195\n",
      "Training Accuracy: 0.9777, Testing Accuracy: 0.9753\n",
      "\n"
     ]
    },
    {
     "name": "stdout",
     "output_type": "stream",
     "text": [
      "Epoch 210, Loss 0.0191\n",
      "Training Accuracy: 0.9789, Testing Accuracy: 0.9753\n",
      "\n"
     ]
    },
    {
     "name": "stdout",
     "output_type": "stream",
     "text": [
      "Epoch 220, Loss 0.0186\n",
      "Training Accuracy: 0.9791, Testing Accuracy: 0.9753\n",
      "\n"
     ]
    },
    {
     "name": "stdout",
     "output_type": "stream",
     "text": [
      "Epoch 230, Loss 0.0182\n",
      "Training Accuracy: 0.9801, Testing Accuracy: 0.9753\n",
      "\n"
     ]
    },
    {
     "name": "stdout",
     "output_type": "stream",
     "text": [
      "Epoch 240, Loss 0.0178\n",
      "Training Accuracy: 0.9805, Testing Accuracy: 0.9758\n",
      "\n"
     ]
    },
    {
     "data": {
      "text/plain": [
       "0.0017393734923338222"
      ]
     },
     "execution_count": 22,
     "metadata": {},
     "output_type": "execute_result"
    }
   ],
   "source": [
    "nn_learner.train_loop(dl)"
   ]
  },
  {
   "cell_type": "code",
   "execution_count": 23,
   "id": "e0163366",
   "metadata": {
    "execution": {
     "iopub.execute_input": "2022-08-02T00:44:13.290811Z",
     "iopub.status.busy": "2022-08-02T00:44:13.290220Z",
     "iopub.status.idle": "2022-08-02T00:44:27.209613Z",
     "shell.execute_reply": "2022-08-02T00:44:27.210649Z"
    },
    "papermill": {
     "duration": 13.963439,
     "end_time": "2022-08-02T00:44:27.210807",
     "exception": false,
     "start_time": "2022-08-02T00:44:13.247368",
     "status": "completed"
    },
    "tags": []
   },
   "outputs": [
    {
     "name": "stdout",
     "output_type": "stream",
     "text": [
      "Epoch 0, Loss 0.2475\n",
      "Training Accuracy: 0.6766, Testing Accuracy: 0.6588\n",
      "\n"
     ]
    },
    {
     "name": "stdout",
     "output_type": "stream",
     "text": [
      "Epoch 10, Loss 0.1027\n",
      "Training Accuracy: 0.9144, Testing Accuracy: 0.9254\n",
      "\n"
     ]
    },
    {
     "name": "stdout",
     "output_type": "stream",
     "text": [
      "Epoch 20, Loss 0.0788\n",
      "Training Accuracy: 0.9315, Testing Accuracy: 0.9446\n",
      "\n"
     ]
    },
    {
     "name": "stdout",
     "output_type": "stream",
     "text": [
      "Epoch 30, Loss 0.0678\n",
      "Training Accuracy: 0.9399, Testing Accuracy: 0.9506\n",
      "\n"
     ]
    },
    {
     "name": "stdout",
     "output_type": "stream",
     "text": [
      "Epoch 40, Loss 0.0612\n",
      "Training Accuracy: 0.9438, Testing Accuracy: 0.9531\n",
      "\n"
     ]
    },
    {
     "name": "stdout",
     "output_type": "stream",
     "text": [
      "Epoch 50, Loss 0.0568\n",
      "Training Accuracy: 0.9463, Testing Accuracy: 0.9561\n",
      "\n"
     ]
    },
    {
     "name": "stdout",
     "output_type": "stream",
     "text": [
      "Epoch 60, Loss 0.0535\n",
      "Training Accuracy: 0.9481, Testing Accuracy: 0.9597\n",
      "\n"
     ]
    },
    {
     "name": "stdout",
     "output_type": "stream",
     "text": [
      "Epoch 70, Loss 0.051\n",
      "Training Accuracy: 0.9498, Testing Accuracy: 0.9617\n",
      "\n"
     ]
    },
    {
     "name": "stdout",
     "output_type": "stream",
     "text": [
      "Epoch 80, Loss 0.049\n",
      "Training Accuracy: 0.9508, Testing Accuracy: 0.9632\n",
      "\n"
     ]
    },
    {
     "name": "stdout",
     "output_type": "stream",
     "text": [
      "Epoch 90, Loss 0.0473\n",
      "Training Accuracy: 0.9525, Testing Accuracy: 0.9647\n",
      "\n"
     ]
    },
    {
     "name": "stdout",
     "output_type": "stream",
     "text": [
      "Epoch 100, Loss 0.0459\n",
      "Training Accuracy: 0.9537, Testing Accuracy: 0.9652\n",
      "\n"
     ]
    },
    {
     "name": "stdout",
     "output_type": "stream",
     "text": [
      "Epoch 110, Loss 0.0447\n",
      "Training Accuracy: 0.9547, Testing Accuracy: 0.9647\n",
      "\n"
     ]
    },
    {
     "name": "stdout",
     "output_type": "stream",
     "text": [
      "Epoch 120, Loss 0.0437\n",
      "Training Accuracy: 0.9551, Testing Accuracy: 0.9652\n",
      "\n"
     ]
    },
    {
     "name": "stdout",
     "output_type": "stream",
     "text": [
      "Epoch 130, Loss 0.0427\n",
      "Training Accuracy: 0.9562, Testing Accuracy: 0.9652\n",
      "\n"
     ]
    },
    {
     "name": "stdout",
     "output_type": "stream",
     "text": [
      "Epoch 140, Loss 0.0419\n",
      "Training Accuracy: 0.9567, Testing Accuracy: 0.9662\n",
      "\n"
     ]
    },
    {
     "name": "stdout",
     "output_type": "stream",
     "text": [
      "Epoch 150, Loss 0.0412\n",
      "Training Accuracy: 0.9574, Testing Accuracy: 0.9657\n",
      "\n"
     ]
    },
    {
     "name": "stdout",
     "output_type": "stream",
     "text": [
      "Epoch 160, Loss 0.0405\n",
      "Training Accuracy: 0.9574, Testing Accuracy: 0.9662\n",
      "\n"
     ]
    },
    {
     "name": "stdout",
     "output_type": "stream",
     "text": [
      "Epoch 170, Loss 0.0399\n",
      "Training Accuracy: 0.9578, Testing Accuracy: 0.9667\n",
      "\n"
     ]
    },
    {
     "name": "stdout",
     "output_type": "stream",
     "text": [
      "Epoch 180, Loss 0.0394\n",
      "Training Accuracy: 0.9581, Testing Accuracy: 0.9652\n",
      "\n"
     ]
    },
    {
     "name": "stdout",
     "output_type": "stream",
     "text": [
      "Epoch 190, Loss 0.0389\n",
      "Training Accuracy: 0.9584, Testing Accuracy: 0.9652\n",
      "\n"
     ]
    },
    {
     "name": "stdout",
     "output_type": "stream",
     "text": [
      "Epoch 200, Loss 0.0384\n",
      "Training Accuracy: 0.9589, Testing Accuracy: 0.9657\n",
      "\n"
     ]
    },
    {
     "name": "stdout",
     "output_type": "stream",
     "text": [
      "Epoch 210, Loss 0.038\n",
      "Training Accuracy: 0.9593, Testing Accuracy: 0.9652\n",
      "\n"
     ]
    },
    {
     "name": "stdout",
     "output_type": "stream",
     "text": [
      "Epoch 220, Loss 0.0376\n",
      "Training Accuracy: 0.9594, Testing Accuracy: 0.9652\n",
      "\n"
     ]
    },
    {
     "name": "stdout",
     "output_type": "stream",
     "text": [
      "Epoch 230, Loss 0.0372\n",
      "Training Accuracy: 0.9598, Testing Accuracy: 0.9647\n",
      "\n"
     ]
    },
    {
     "name": "stdout",
     "output_type": "stream",
     "text": [
      "Epoch 240, Loss 0.0368\n",
      "Training Accuracy: 0.9600, Testing Accuracy: 0.9647\n",
      "\n"
     ]
    },
    {
     "data": {
      "text/plain": [
       "0.01372902722530719"
      ]
     },
     "execution_count": 23,
     "metadata": {},
     "output_type": "execute_result"
    }
   ],
   "source": [
    "lr_learner.train_loop(dl)"
   ]
  },
  {
   "cell_type": "code",
   "execution_count": 24,
   "id": "ca410940",
   "metadata": {
    "execution": {
     "iopub.execute_input": "2022-08-02T00:44:27.299360Z",
     "iopub.status.busy": "2022-08-02T00:44:27.298764Z",
     "iopub.status.idle": "2022-08-02T00:44:27.534230Z",
     "shell.execute_reply": "2022-08-02T00:44:27.533743Z"
    },
    "papermill": {
     "duration": 0.282557,
     "end_time": "2022-08-02T00:44:27.534357",
     "exception": false,
     "start_time": "2022-08-02T00:44:27.251800",
     "status": "completed"
    },
    "tags": []
   },
   "outputs": [
    {
     "data": {
      "text/plain": [
       "<matplotlib.legend.Legend at 0x7f1f95e42ac8>"
      ]
     },
     "execution_count": 24,
     "metadata": {},
     "output_type": "execute_result"
    },
    {
     "data": {
      "image/png": "[encoded data removed]",
      "text/plain": [
       "<Figure size 1080x720 with 1 Axes>"
      ]
     },
     "metadata": {
      "needs_background": "light"
     },
     "output_type": "display_data"
    }
   ],
   "source": [
    "#comparing the results of NN and LR\n",
    "plt.figure(figsize=(15,10))\n",
    "\n",
    "# Neural Network plots\n",
    "plt.plot(acc_nn.accuracies, 'r-', label = \"Training Accuracies - NN\")\n",
    "plt.plot(acc_nn.test_accuracies, 'g-', label = \"Testing Accuracies - NN\")\n",
    "\n",
    "# Logistic Regression plots\n",
    "plt.plot(acc_lr.accuracies, 'k-', label = \"Training Accuracies - LR\")\n",
    "plt.plot(acc_lr.test_accuracies, 'b-', label = \"Testing Accuracies - LR\")\n",
    "plt.legend()"
   ]
  },
  {
   "cell_type": "markdown",
   "id": "80dfb35c",
   "metadata": {
    "papermill": {
     "duration": 0.041549,
     "end_time": "2022-08-02T00:44:27.618059",
     "exception": false,
     "start_time": "2022-08-02T00:44:27.576510",
     "status": "completed"
    },
    "tags": []
   },
   "source": [
    "#### Plotting the outputs of this layer of the NN.\n"
   ]
  },
  {
   "cell_type": "code",
   "execution_count": 25,
   "id": "45eb2ff5",
   "metadata": {
    "execution": {
     "iopub.execute_input": "2022-08-02T00:44:27.706258Z",
     "iopub.status.busy": "2022-08-02T00:44:27.705215Z",
     "iopub.status.idle": "2022-08-02T00:44:27.726968Z",
     "shell.execute_reply": "2022-08-02T00:44:27.726116Z"
    },
    "papermill": {
     "duration": 0.067443,
     "end_time": "2022-08-02T00:44:27.727102",
     "exception": false,
     "start_time": "2022-08-02T00:44:27.659659",
     "status": "completed"
    },
    "tags": []
   },
   "outputs": [],
   "source": [
    "new_model = Model(layers[:-2])\n",
    "testing_plot = new_model(testing_data_x)"
   ]
  },
  {
   "cell_type": "code",
   "execution_count": 26,
   "id": "4c0a5485",
   "metadata": {
    "execution": {
     "iopub.execute_input": "2022-08-02T00:44:27.820120Z",
     "iopub.status.busy": "2022-08-02T00:44:27.818925Z",
     "iopub.status.idle": "2022-08-02T00:44:28.007119Z",
     "shell.execute_reply": "2022-08-02T00:44:28.006616Z"
    },
    "papermill": {
     "duration": 0.236626,
     "end_time": "2022-08-02T00:44:28.007244",
     "exception": false,
     "start_time": "2022-08-02T00:44:27.770618",
     "status": "completed"
    },
    "tags": []
   },
   "outputs": [
    {
     "data": {
      "text/plain": [
       "Text(0.5, 1.0, 'Outputs')"
      ]
     },
     "execution_count": 26,
     "metadata": {},
     "output_type": "execute_result"
    },
    {
     "data": {
      "image/png": "[encoded data removed]",
      "text/plain": [
       "<Figure size 576x504 with 1 Axes>"
      ]
     },
     "metadata": {
      "needs_background": "light"
     },
     "output_type": "display_data"
    }
   ],
   "source": [
    "# Plotting the scatter plot of points and color coding by class\n",
    "plt.figure(figsize=(8,7))\n",
    "plt.scatter(testing_plot[:,0], testing_plot[:,1], alpha = 0.1, c = y_test.ravel());\n",
    "plt.title('Outputs')"
   ]
  },
  {
   "cell_type": "markdown",
   "id": "a74fcf8f",
   "metadata": {
    "papermill": {
     "duration": 0.044841,
     "end_time": "2022-08-02T00:44:28.095848",
     "exception": false,
     "start_time": "2022-08-02T00:44:28.051007",
     "status": "completed"
    },
    "tags": []
   },
   "source": [
    "Probability contours"
   ]
  },
  {
   "cell_type": "code",
   "execution_count": 27,
   "id": "d0afc8e3",
   "metadata": {
    "execution": {
     "iopub.execute_input": "2022-08-02T00:44:28.188559Z",
     "iopub.status.busy": "2022-08-02T00:44:28.187938Z",
     "iopub.status.idle": "2022-08-02T00:44:28.201251Z",
     "shell.execute_reply": "2022-08-02T00:44:28.200718Z"
    },
    "papermill": {
     "duration": 0.06198,
     "end_time": "2022-08-02T00:44:28.201366",
     "exception": false,
     "start_time": "2022-08-02T00:44:28.139386",
     "status": "completed"
    },
    "tags": []
   },
   "outputs": [],
   "source": [
    "model_prob = Model(layers[-2:]) "
   ]
  },
  {
   "cell_type": "code",
   "execution_count": 28,
   "id": "9b96e238",
   "metadata": {
    "execution": {
     "iopub.execute_input": "2022-08-02T00:44:28.334625Z",
     "iopub.status.busy": "2022-08-02T00:44:28.334005Z",
     "iopub.status.idle": "2022-08-02T00:44:28.344072Z",
     "shell.execute_reply": "2022-08-02T00:44:28.343501Z"
    },
    "papermill": {
     "duration": 0.09898,
     "end_time": "2022-08-02T00:44:28.344185",
     "exception": false,
     "start_time": "2022-08-02T00:44:28.245205",
     "status": "completed"
    },
    "tags": []
   },
   "outputs": [],
   "source": [
    "#creating the x and y ranges according to the above generated plot.\n",
    "x_range = np.linspace(-4, 1, 100) \n",
    "y_range = np.linspace(-6, 6, 100) \n",
    "x_grid, y_grid = np.meshgrid(x_range, y_range) # x_grid and y_grig are of size 100 X 100\n",
    "\n",
    "# converting x_grid and y_grid to continuous arrays\n",
    "x_gridflat = np.ravel(x_grid)\n",
    "y_gridflat = np.ravel(y_grid)\n",
    "\n",
    "# The last layer of the current model takes two columns as input. Hence transpose of np.vstack() is required.\n",
    "X = np.vstack((x_gridflat, y_gridflat)).T\n",
    "\n",
    "prob_contour = model_prob(X).reshape(100,100) "
   ]
  },
  {
   "cell_type": "code",
   "execution_count": 29,
   "id": "da72499a",
   "metadata": {
    "execution": {
     "iopub.execute_input": "2022-08-02T00:44:28.435517Z",
     "iopub.status.busy": "2022-08-02T00:44:28.434931Z",
     "iopub.status.idle": "2022-08-02T00:44:28.673767Z",
     "shell.execute_reply": "2022-08-02T00:44:28.674343Z"
    },
    "papermill": {
     "duration": 0.286764,
     "end_time": "2022-08-02T00:44:28.674489",
     "exception": false,
     "start_time": "2022-08-02T00:44:28.387725",
     "status": "completed"
    },
    "tags": []
   },
   "outputs": [
    {
     "data": {
      "image/png": "[encoded data removed]",
      "text/plain": [
       "<Figure size 720x648 with 1 Axes>"
      ]
     },
     "metadata": {
      "needs_background": "light"
     },
     "output_type": "display_data"
    }
   ],
   "source": [
    "plt.figure(figsize=(10,9))\n",
    "plt.scatter(testing_plot[:,0], testing_plot[:,1], alpha = 0.1, c = y_test.ravel())\n",
    "contours = plt.contour(x_grid,y_grid,prob_contour)\n",
    "plt.title('Probability Contours')\n",
    "plt.clabel(contours, inline = True );"
   ]
  },
  {
   "cell_type": "code",
   "execution_count": null,
   "id": "e81b4ac7",
   "metadata": {
    "papermill": {
     "duration": 0.046074,
     "end_time": "2022-08-02T00:44:28.767329",
     "exception": false,
     "start_time": "2022-08-02T00:44:28.721255",
     "status": "completed"
    },
    "tags": []
   },
   "outputs": [],
   "source": []
  }
 ],
 "metadata": {
  "kernelspec": {
   "display_name": "Python 3",
   "language": "python",
   "name": "python3"
  },
  "language_info": {
   "codemirror_mode": {
    "name": "ipython",
    "version": 3
   },
   "file_extension": ".py",
   "mimetype": "text/x-python",
   "name": "python",
   "nbconvert_exporter": "python",
   "pygments_lexer": "ipython3",
   "version": "3.6.15"
  },
  "papermill": {
   "default_parameters": {},
   "duration": 97.782418,
   "end_time": "2022-08-02T00:44:29.233605",
   "environment_variables": {},
   "exception": null,
   "input_path": "2020-08-11-part2.ipynb",
   "output_path": "2020-08-11-part2.ipynb",
   "parameters": {},
   "start_time": "2022-08-02T00:42:51.451187",
   "version": "2.3.3"
  }
 },
 "nbformat": 4,
 "nbformat_minor": 5
}