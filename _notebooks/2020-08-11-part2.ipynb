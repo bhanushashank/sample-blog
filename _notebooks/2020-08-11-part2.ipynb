{
 "cells": [
  {
   "cell_type": "markdown",
   "id": "98380cd3",
   "metadata": {
    "papermill": {
     "duration": 0.041572,
     "end_time": "2022-11-04T00:48:20.477118",
     "exception": false,
     "start_time": "2022-11-04T00:48:20.435546",
     "status": "completed"
    },
    "tags": []
   },
   "source": [
    "# Distinguish Your Own Digits (DYOD)"
   ]
  },
  {
   "cell_type": "markdown",
   "id": "ef31240d",
   "metadata": {
    "papermill": {
     "duration": 0.033673,
     "end_time": "2022-11-04T00:48:20.548711",
     "exception": false,
     "start_time": "2022-11-04T00:48:20.515038",
     "status": "completed"
    },
    "tags": []
   },
   "source": [
    "You are going to write a classifier that distinguishes between the number 3 and number 8."
   ]
  },
  {
   "cell_type": "code",
   "execution_count": 1,
   "id": "b15c8646",
   "metadata": {
    "execution": {
     "iopub.execute_input": "2022-11-04T00:48:20.641854Z",
     "iopub.status.busy": "2022-11-04T00:48:20.640945Z",
     "iopub.status.idle": "2022-11-04T00:48:20.654587Z",
     "shell.execute_reply": "2022-11-04T00:48:20.655226Z"
    },
    "papermill": {
     "duration": 0.068562,
     "end_time": "2022-11-04T00:48:20.655442",
     "exception": false,
     "start_time": "2022-11-04T00:48:20.586880",
     "status": "completed"
    },
    "tags": []
   },
   "outputs": [],
   "source": [
    "%load_ext autoreload\n",
    "%autoreload 2"
   ]
  },
  {
   "cell_type": "code",
   "execution_count": 2,
   "id": "22ef38dc",
   "metadata": {
    "execution": {
     "iopub.execute_input": "2022-11-04T00:48:20.727415Z",
     "iopub.status.busy": "2022-11-04T00:48:20.726503Z",
     "iopub.status.idle": "2022-11-04T00:48:21.544841Z",
     "shell.execute_reply": "2022-11-04T00:48:21.543481Z"
    },
    "papermill": {
     "duration": 0.857029,
     "end_time": "2022-11-04T00:48:21.545060",
     "exception": false,
     "start_time": "2022-11-04T00:48:20.688031",
     "status": "completed"
    },
    "tags": []
   },
   "outputs": [],
   "source": [
    "%matplotlib inline\n",
    "import numpy as np\n",
    "import matplotlib.pyplot as plt\n",
    "import pandas as pd"
   ]
  },
  {
   "cell_type": "markdown",
   "id": "ba036198",
   "metadata": {
    "papermill": {
     "duration": 0.036689,
     "end_time": "2022-11-04T00:48:21.614221",
     "exception": false,
     "start_time": "2022-11-04T00:48:21.577532",
     "status": "completed"
    },
    "tags": []
   },
   "source": [
    "From the command line run `pip install mnist`. This is a library that will help you bring down the mnist dataset. If you run this from a notebook, you need to put  `!pip install mnist` in a cell by itself."
   ]
  },
  {
   "cell_type": "code",
   "execution_count": 3,
   "id": "bb6ad8a1",
   "metadata": {
    "execution": {
     "iopub.execute_input": "2022-11-04T00:48:21.694191Z",
     "iopub.status.busy": "2022-11-04T00:48:21.693351Z",
     "iopub.status.idle": "2022-11-04T00:48:24.151684Z",
     "shell.execute_reply": "2022-11-04T00:48:24.150867Z"
    },
    "papermill": {
     "duration": 2.497677,
     "end_time": "2022-11-04T00:48:24.151869",
     "exception": false,
     "start_time": "2022-11-04T00:48:21.654192",
     "status": "completed"
    },
    "tags": []
   },
   "outputs": [
    {
     "name": "stdout",
     "output_type": "stream",
     "text": [
      "Collecting mnist\r\n"
     ]
    },
    {
     "name": "stdout",
     "output_type": "stream",
     "text": [
      "  Downloading mnist-0.2.2-py2.py3-none-any.whl (3.5 kB)\r\n",
      "Requirement already satisfied: numpy in /opt/hostedtoolcache/Python/3.6.15/x64/lib/python3.6/site-packages (from mnist) (1.19.5)\r\n"
     ]
    },
    {
     "name": "stdout",
     "output_type": "stream",
     "text": [
      "Installing collected packages: mnist\r\n"
     ]
    },
    {
     "name": "stdout",
     "output_type": "stream",
     "text": [
      "Successfully installed mnist-0.2.2\r\n"
     ]
    }
   ],
   "source": [
    "!pip install mnist"
   ]
  },
  {
   "cell_type": "markdown",
   "id": "69df9c9a",
   "metadata": {
    "papermill": {
     "duration": 0.03473,
     "end_time": "2022-11-04T00:48:24.224052",
     "exception": false,
     "start_time": "2022-11-04T00:48:24.189322",
     "status": "completed"
    },
    "tags": []
   },
   "source": [
    "## Preparing the Data"
   ]
  },
  {
   "cell_type": "code",
   "execution_count": 4,
   "id": "7f69d806",
   "metadata": {
    "execution": {
     "iopub.execute_input": "2022-11-04T00:48:24.312515Z",
     "iopub.status.busy": "2022-11-04T00:48:24.311662Z",
     "iopub.status.idle": "2022-11-04T00:48:24.331796Z",
     "shell.execute_reply": "2022-11-04T00:48:24.331069Z"
    },
    "papermill": {
     "duration": 0.065504,
     "end_time": "2022-11-04T00:48:24.331971",
     "exception": false,
     "start_time": "2022-11-04T00:48:24.266467",
     "status": "completed"
    },
    "tags": []
   },
   "outputs": [],
   "source": [
    "import mnist"
   ]
  },
  {
   "cell_type": "code",
   "execution_count": 5,
   "id": "a411e44f",
   "metadata": {
    "execution": {
     "iopub.execute_input": "2022-11-04T00:48:24.411306Z",
     "iopub.status.busy": "2022-11-04T00:48:24.410501Z",
     "iopub.status.idle": "2022-11-04T00:48:25.093896Z",
     "shell.execute_reply": "2022-11-04T00:48:25.092755Z"
    },
    "papermill": {
     "duration": 0.726626,
     "end_time": "2022-11-04T00:48:25.094059",
     "exception": false,
     "start_time": "2022-11-04T00:48:24.367433",
     "status": "completed"
    },
    "tags": []
   },
   "outputs": [],
   "source": [
    "train_images = mnist.train_images()\n",
    "train_labels = mnist.train_labels()"
   ]
  },
  {
   "cell_type": "code",
   "execution_count": 6,
   "id": "dceab3a5",
   "metadata": {
    "execution": {
     "iopub.execute_input": "2022-11-04T00:48:25.194202Z",
     "iopub.status.busy": "2022-11-04T00:48:25.186633Z",
     "iopub.status.idle": "2022-11-04T00:48:25.212111Z",
     "shell.execute_reply": "2022-11-04T00:48:25.212949Z"
    },
    "papermill": {
     "duration": 0.074145,
     "end_time": "2022-11-04T00:48:25.213174",
     "exception": false,
     "start_time": "2022-11-04T00:48:25.139029",
     "status": "completed"
    },
    "tags": []
   },
   "outputs": [
    {
     "data": {
      "text/plain": [
       "((60000, 28, 28), (60000,))"
      ]
     },
     "execution_count": 6,
     "metadata": {},
     "output_type": "execute_result"
    }
   ],
   "source": [
    "train_images.shape, train_labels.shape"
   ]
  },
  {
   "cell_type": "code",
   "execution_count": 7,
   "id": "f50dc2bb",
   "metadata": {
    "execution": {
     "iopub.execute_input": "2022-11-04T00:48:25.305207Z",
     "iopub.status.busy": "2022-11-04T00:48:25.304303Z",
     "iopub.status.idle": "2022-11-04T00:48:25.459714Z",
     "shell.execute_reply": "2022-11-04T00:48:25.460313Z"
    },
    "papermill": {
     "duration": 0.195702,
     "end_time": "2022-11-04T00:48:25.460501",
     "exception": false,
     "start_time": "2022-11-04T00:48:25.264799",
     "status": "completed"
    },
    "tags": []
   },
   "outputs": [],
   "source": [
    "test_images = mnist.test_images()\n",
    "test_labels = mnist.test_labels()"
   ]
  },
  {
   "cell_type": "code",
   "execution_count": 8,
   "id": "fc38cf1b",
   "metadata": {
    "execution": {
     "iopub.execute_input": "2022-11-04T00:48:25.543178Z",
     "iopub.status.busy": "2022-11-04T00:48:25.540895Z",
     "iopub.status.idle": "2022-11-04T00:48:25.559394Z",
     "shell.execute_reply": "2022-11-04T00:48:25.558740Z"
    },
    "papermill": {
     "duration": 0.060165,
     "end_time": "2022-11-04T00:48:25.559560",
     "exception": false,
     "start_time": "2022-11-04T00:48:25.499395",
     "status": "completed"
    },
    "tags": []
   },
   "outputs": [
    {
     "data": {
      "text/plain": [
       "((10000, 28, 28), (10000,))"
      ]
     },
     "execution_count": 8,
     "metadata": {},
     "output_type": "execute_result"
    }
   ],
   "source": [
    "test_images.shape, test_labels.shape"
   ]
  },
  {
   "cell_type": "code",
   "execution_count": 9,
   "id": "f9ed8fe0",
   "metadata": {
    "execution": {
     "iopub.execute_input": "2022-11-04T00:48:25.639451Z",
     "iopub.status.busy": "2022-11-04T00:48:25.638512Z",
     "iopub.status.idle": "2022-11-04T00:48:25.861579Z",
     "shell.execute_reply": "2022-11-04T00:48:25.862478Z"
    },
    "papermill": {
     "duration": 0.265525,
     "end_time": "2022-11-04T00:48:25.862925",
     "exception": false,
     "start_time": "2022-11-04T00:48:25.597400",
     "status": "completed"
    },
    "tags": []
   },
   "outputs": [
    {
     "name": "stdout",
     "output_type": "stream",
     "text": [
      "2\n"
     ]
    },
    {
     "data": {
      "text/plain": [
       "<matplotlib.image.AxesImage at 0x7efd437e0da0>"
      ]
     },
     "execution_count": 9,
     "metadata": {},
     "output_type": "execute_result"
    },
    {
     "data": {
      "image/png": "[encoded data removed]",
      "text/plain": [
       "<Figure size 432x288 with 1 Axes>"
      ]
     },
     "metadata": {
      "needs_background": "light"
     },
     "output_type": "display_data"
    }
   ],
   "source": [
    "image_index = 7776 # You may select anything up to 60,000\n",
    "print(train_labels[image_index]) \n",
    "plt.imshow(train_images[image_index], cmap='Greys')"
   ]
  },
  {
   "cell_type": "markdown",
   "id": "a8d2388d",
   "metadata": {
    "papermill": {
     "duration": 0.042761,
     "end_time": "2022-11-04T00:48:25.951963",
     "exception": false,
     "start_time": "2022-11-04T00:48:25.909202",
     "status": "completed"
    },
    "tags": []
   },
   "source": [
    "## Filter data to get 3 and 8 out"
   ]
  },
  {
   "cell_type": "code",
   "execution_count": 10,
   "id": "776f7fc7",
   "metadata": {
    "execution": {
     "iopub.execute_input": "2022-11-04T00:48:26.045613Z",
     "iopub.status.busy": "2022-11-04T00:48:26.044617Z",
     "iopub.status.idle": "2022-11-04T00:48:26.066360Z",
     "shell.execute_reply": "2022-11-04T00:48:26.067005Z"
    },
    "papermill": {
     "duration": 0.073943,
     "end_time": "2022-11-04T00:48:26.067223",
     "exception": false,
     "start_time": "2022-11-04T00:48:25.993280",
     "status": "completed"
    },
    "tags": []
   },
   "outputs": [],
   "source": [
    "train_filter = np.where((train_labels == 3 ) | (train_labels == 8))\n",
    "test_filter = np.where((test_labels == 3) | (test_labels == 8))\n",
    "X_train, y_train = train_images[train_filter], train_labels[train_filter]\n",
    "X_test, y_test = test_images[test_filter], test_labels[test_filter]"
   ]
  },
  {
   "cell_type": "markdown",
   "id": "948f0b7e",
   "metadata": {
    "papermill": {
     "duration": 0.042931,
     "end_time": "2022-11-04T00:48:26.152927",
     "exception": false,
     "start_time": "2022-11-04T00:48:26.109996",
     "status": "completed"
    },
    "tags": []
   },
   "source": [
    "We normalize the pizel values in the 0 to 1 range"
   ]
  },
  {
   "cell_type": "code",
   "execution_count": 11,
   "id": "ee4c2166",
   "metadata": {
    "execution": {
     "iopub.execute_input": "2022-11-04T00:48:26.245485Z",
     "iopub.status.busy": "2022-11-04T00:48:26.244458Z",
     "iopub.status.idle": "2022-11-04T00:48:26.315935Z",
     "shell.execute_reply": "2022-11-04T00:48:26.315065Z"
    },
    "papermill": {
     "duration": 0.122896,
     "end_time": "2022-11-04T00:48:26.316180",
     "exception": false,
     "start_time": "2022-11-04T00:48:26.193284",
     "status": "completed"
    },
    "tags": []
   },
   "outputs": [],
   "source": [
    "X_train = X_train/255.\n",
    "X_test = X_test/255."
   ]
  },
  {
   "cell_type": "markdown",
   "id": "ddcf4fab",
   "metadata": {
    "papermill": {
     "duration": 0.035855,
     "end_time": "2022-11-04T00:48:26.390513",
     "exception": false,
     "start_time": "2022-11-04T00:48:26.354658",
     "status": "completed"
    },
    "tags": []
   },
   "source": [
    "And setup the labels as 1 (when the digit is 3) and 0 (when the digit is 8)"
   ]
  },
  {
   "cell_type": "code",
   "execution_count": 12,
   "id": "7dc908f2",
   "metadata": {
    "execution": {
     "iopub.execute_input": "2022-11-04T00:48:26.468609Z",
     "iopub.status.busy": "2022-11-04T00:48:26.467810Z",
     "iopub.status.idle": "2022-11-04T00:48:26.484543Z",
     "shell.execute_reply": "2022-11-04T00:48:26.483776Z"
    },
    "papermill": {
     "duration": 0.058654,
     "end_time": "2022-11-04T00:48:26.484806",
     "exception": false,
     "start_time": "2022-11-04T00:48:26.426152",
     "status": "completed"
    },
    "tags": []
   },
   "outputs": [],
   "source": [
    "y_train = 1*(y_train==3)\n",
    "y_test = 1*(y_test==3)"
   ]
  },
  {
   "cell_type": "code",
   "execution_count": 13,
   "id": "01e4e969",
   "metadata": {
    "execution": {
     "iopub.execute_input": "2022-11-04T00:48:26.574360Z",
     "iopub.status.busy": "2022-11-04T00:48:26.572206Z",
     "iopub.status.idle": "2022-11-04T00:48:26.594071Z",
     "shell.execute_reply": "2022-11-04T00:48:26.593193Z"
    },
    "papermill": {
     "duration": 0.065789,
     "end_time": "2022-11-04T00:48:26.594226",
     "exception": false,
     "start_time": "2022-11-04T00:48:26.528437",
     "status": "completed"
    },
    "tags": []
   },
   "outputs": [
    {
     "data": {
      "text/plain": [
       "((11982, 28, 28), (1984, 28, 28))"
      ]
     },
     "execution_count": 13,
     "metadata": {},
     "output_type": "execute_result"
    }
   ],
   "source": [
    "X_train.shape, X_test.shape"
   ]
  },
  {
   "cell_type": "markdown",
   "id": "5ccf3f85",
   "metadata": {
    "papermill": {
     "duration": 0.052165,
     "end_time": "2022-11-04T00:48:26.686367",
     "exception": false,
     "start_time": "2022-11-04T00:48:26.634202",
     "status": "completed"
    },
    "tags": []
   },
   "source": [
    "We reshape the data to flatten the image pixels into a set of features or co-variates:"
   ]
  },
  {
   "cell_type": "code",
   "execution_count": 14,
   "id": "5286a4a3",
   "metadata": {
    "execution": {
     "iopub.execute_input": "2022-11-04T00:48:26.775294Z",
     "iopub.status.busy": "2022-11-04T00:48:26.774412Z",
     "iopub.status.idle": "2022-11-04T00:48:26.797046Z",
     "shell.execute_reply": "2022-11-04T00:48:26.798622Z"
    },
    "papermill": {
     "duration": 0.073061,
     "end_time": "2022-11-04T00:48:26.798913",
     "exception": false,
     "start_time": "2022-11-04T00:48:26.725852",
     "status": "completed"
    },
    "tags": []
   },
   "outputs": [
    {
     "data": {
      "text/plain": [
       "((11982, 784), (1984, 784))"
      ]
     },
     "execution_count": 14,
     "metadata": {},
     "output_type": "execute_result"
    }
   ],
   "source": [
    "X_train = X_train.reshape(X_train.shape[0], -1)\n",
    "X_test = X_test.reshape(X_test.shape[0], -1)\n",
    "X_train.shape, X_test.shape"
   ]
  },
  {
   "cell_type": "code",
   "execution_count": 15,
   "id": "73c5f88a",
   "metadata": {
    "execution": {
     "iopub.execute_input": "2022-11-04T00:48:26.886108Z",
     "iopub.status.busy": "2022-11-04T00:48:26.885223Z",
     "iopub.status.idle": "2022-11-04T00:48:26.915024Z",
     "shell.execute_reply": "2022-11-04T00:48:26.914187Z"
    },
    "papermill": {
     "duration": 0.075351,
     "end_time": "2022-11-04T00:48:26.915239",
     "exception": false,
     "start_time": "2022-11-04T00:48:26.839888",
     "status": "completed"
    },
    "tags": []
   },
   "outputs": [],
   "source": [
    "#Impoting functions from 'Kudzu'\n",
    "from kudzu.model import Model\n",
    "from kudzu.train import Learner\n",
    "from kudzu.optim import GD\n",
    "from kudzu.data import Data, Sampler,Dataloader\n",
    "\n",
    "from kudzu.callbacks import AccCallback\n",
    "from kudzu.callbacks import ClfCallback\n",
    "\n",
    "from kudzu.loss import MSE\n",
    "\n",
    "from kudzu.layer import Sigmoid,Relu\n",
    "from kudzu.layer import Affine"
   ]
  },
  {
   "cell_type": "markdown",
   "id": "bc01172a",
   "metadata": {
    "papermill": {
     "duration": 0.03658,
     "end_time": "2022-11-04T00:48:26.999698",
     "exception": false,
     "start_time": "2022-11-04T00:48:26.963118",
     "status": "completed"
    },
    "tags": []
   },
   "source": [
    "### Let us create a `Config` class, to store important parameters. \n",
    "This class essentially plays the role of a dictionary."
   ]
  },
  {
   "cell_type": "code",
   "execution_count": 16,
   "id": "978281aa",
   "metadata": {
    "execution": {
     "iopub.execute_input": "2022-11-04T00:48:27.081729Z",
     "iopub.status.busy": "2022-11-04T00:48:27.080814Z",
     "iopub.status.idle": "2022-11-04T00:48:27.097766Z",
     "shell.execute_reply": "2022-11-04T00:48:27.098358Z"
    },
    "papermill": {
     "duration": 0.060923,
     "end_time": "2022-11-04T00:48:27.098610",
     "exception": false,
     "start_time": "2022-11-04T00:48:27.037687",
     "status": "completed"
    },
    "tags": []
   },
   "outputs": [],
   "source": [
    "class Config:\n",
    "    pass\n",
    "config = Config()\n",
    "config.lr = 0.001\n",
    "config.num_epochs = 250\n",
    "config.bs = 50"
   ]
  },
  {
   "cell_type": "markdown",
   "id": "1385fa59",
   "metadata": {
    "papermill": {
     "duration": 0.045863,
     "end_time": "2022-11-04T00:48:27.191315",
     "exception": false,
     "start_time": "2022-11-04T00:48:27.145452",
     "status": "completed"
    },
    "tags": []
   },
   "source": [
    "### Running Models with the Training data\n",
    "Details about the network layers:\n",
    "- A first affine layer has 784 inputs and does 100 affine transforms. These are followed by a Relu\n",
    "- A second affine layer has 100 inputs from the 100 activations of the past layer, and does 100 affine transforms. These are followed by a Relu\n",
    "- A third affine layer has 100 activations and does 2 affine transformations to create an embedding for visualization. There is no non-linearity here.\n",
    "- A final \"logistic regression\" which has an affine transform from 2 inputs to 1 output, which is squeezed through a sigmoid.\n"
   ]
  },
  {
   "cell_type": "code",
   "execution_count": 17,
   "id": "2b9c66db",
   "metadata": {
    "execution": {
     "iopub.execute_input": "2022-11-04T00:48:27.289998Z",
     "iopub.status.busy": "2022-11-04T00:48:27.288948Z",
     "iopub.status.idle": "2022-11-04T00:48:27.304858Z",
     "shell.execute_reply": "2022-11-04T00:48:27.305591Z"
    },
    "papermill": {
     "duration": 0.071541,
     "end_time": "2022-11-04T00:48:27.305799",
     "exception": false,
     "start_time": "2022-11-04T00:48:27.234258",
     "status": "completed"
    },
    "tags": []
   },
   "outputs": [],
   "source": [
    "data = Data(X_train, y_train.reshape(-1,1))\n",
    "sampler = Sampler(data, config.bs, shuffle=True)\n",
    "\n",
    "dl = Dataloader(data, sampler)\n",
    "\n",
    "opt = GD(config.lr)\n",
    "loss = MSE()"
   ]
  },
  {
   "cell_type": "code",
   "execution_count": 18,
   "id": "b275e4c2",
   "metadata": {
    "execution": {
     "iopub.execute_input": "2022-11-04T00:48:27.422347Z",
     "iopub.status.busy": "2022-11-04T00:48:27.421284Z",
     "iopub.status.idle": "2022-11-04T00:48:27.442262Z",
     "shell.execute_reply": "2022-11-04T00:48:27.441003Z"
    },
    "papermill": {
     "duration": 0.08029,
     "end_time": "2022-11-04T00:48:27.442463",
     "exception": false,
     "start_time": "2022-11-04T00:48:27.362173",
     "status": "completed"
    },
    "tags": []
   },
   "outputs": [],
   "source": [
    "training_data_x = X_train\n",
    "testing_data_x = X_test\n",
    "training_data_y = y_train.reshape(-1,1)\n",
    "testing_data_y = y_test.reshape(-1,1)"
   ]
  },
  {
   "cell_type": "code",
   "execution_count": 19,
   "id": "76951160",
   "metadata": {
    "execution": {
     "iopub.execute_input": "2022-11-04T00:48:27.541295Z",
     "iopub.status.busy": "2022-11-04T00:48:27.540403Z",
     "iopub.status.idle": "2022-11-04T00:48:27.563895Z",
     "shell.execute_reply": "2022-11-04T00:48:27.562264Z"
    },
    "papermill": {
     "duration": 0.075835,
     "end_time": "2022-11-04T00:48:27.564061",
     "exception": false,
     "start_time": "2022-11-04T00:48:27.488226",
     "status": "completed"
    },
    "tags": []
   },
   "outputs": [
    {
     "name": "stdout",
     "output_type": "stream",
     "text": [
      "xavier\n",
      "xavier\n",
      "xavier\n",
      "xavier\n",
      "xavier\n"
     ]
    }
   ],
   "source": [
    "layers = [Affine(\"first\", 784, 100), Relu(\"first\"), Affine(\"second\", 100, 100), Relu(\"second\"), Affine(\"third\", 100, 2), Affine(\"last\", 2, 1), Sigmoid(\"last\")]\n",
    "model_nn = Model(layers)\n",
    "model_lr = Model([Affine(\"logits\", 784, 1), Sigmoid(\"sigmoid\")])"
   ]
  },
  {
   "cell_type": "code",
   "execution_count": 20,
   "id": "6eede77a",
   "metadata": {
    "execution": {
     "iopub.execute_input": "2022-11-04T00:48:27.666125Z",
     "iopub.status.busy": "2022-11-04T00:48:27.660113Z",
     "iopub.status.idle": "2022-11-04T00:48:27.677189Z",
     "shell.execute_reply": "2022-11-04T00:48:27.677849Z"
    },
    "papermill": {
     "duration": 0.067604,
     "end_time": "2022-11-04T00:48:27.678048",
     "exception": false,
     "start_time": "2022-11-04T00:48:27.610444",
     "status": "completed"
    },
    "tags": []
   },
   "outputs": [],
   "source": [
    "nn_learner = Learner(loss, model_nn, opt, config.num_epochs)\n",
    "acc_nn = ClfCallback(nn_learner, config.bs, training_data_x , testing_data_x, training_data_y, testing_data_y)\n",
    "nn_learner.set_callbacks([acc_nn])"
   ]
  },
  {
   "cell_type": "code",
   "execution_count": 21,
   "id": "877b6cc7",
   "metadata": {
    "execution": {
     "iopub.execute_input": "2022-11-04T00:48:27.758365Z",
     "iopub.status.busy": "2022-11-04T00:48:27.757557Z",
     "iopub.status.idle": "2022-11-04T00:48:27.773776Z",
     "shell.execute_reply": "2022-11-04T00:48:27.772957Z"
    },
    "papermill": {
     "duration": 0.057694,
     "end_time": "2022-11-04T00:48:27.773930",
     "exception": false,
     "start_time": "2022-11-04T00:48:27.716236",
     "status": "completed"
    },
    "tags": []
   },
   "outputs": [],
   "source": [
    "lr_learner = Learner(loss, model_lr, opt, config.num_epochs)\n",
    "acc_lr = ClfCallback(lr_learner, config.bs, training_data_x , testing_data_x, training_data_y, testing_data_y)\n",
    "lr_learner.set_callbacks([acc_lr])"
   ]
  },
  {
   "cell_type": "code",
   "execution_count": 22,
   "id": "d9b133c3",
   "metadata": {
    "execution": {
     "iopub.execute_input": "2022-11-04T00:48:27.864015Z",
     "iopub.status.busy": "2022-11-04T00:48:27.863230Z",
     "iopub.status.idle": "2022-11-04T00:51:14.241833Z",
     "shell.execute_reply": "2022-11-04T00:51:14.242599Z"
    },
    "papermill": {
     "duration": 166.421956,
     "end_time": "2022-11-04T00:51:14.243112",
     "exception": false,
     "start_time": "2022-11-04T00:48:27.821156",
     "status": "completed"
    },
    "tags": []
   },
   "outputs": [
    {
     "name": "stdout",
     "output_type": "stream",
     "text": [
      "Epoch 0, Loss 0.251\n",
      "Training Accuracy: 0.6410, Testing Accuracy: 0.6593\n",
      "\n"
     ]
    },
    {
     "name": "stdout",
     "output_type": "stream",
     "text": [
      "Epoch 10, Loss 0.077\n",
      "Training Accuracy: 0.9301, Testing Accuracy: 0.9405\n",
      "\n"
     ]
    },
    {
     "name": "stdout",
     "output_type": "stream",
     "text": [
      "Epoch 20, Loss 0.0495\n",
      "Training Accuracy: 0.9498, Testing Accuracy: 0.9597\n",
      "\n"
     ]
    },
    {
     "name": "stdout",
     "output_type": "stream",
     "text": [
      "Epoch 30, Loss 0.04\n",
      "Training Accuracy: 0.9565, Testing Accuracy: 0.9657\n",
      "\n"
     ]
    },
    {
     "name": "stdout",
     "output_type": "stream",
     "text": [
      "Epoch 40, Loss 0.035\n",
      "Training Accuracy: 0.9617, Testing Accuracy: 0.9672\n",
      "\n"
     ]
    },
    {
     "name": "stdout",
     "output_type": "stream",
     "text": [
      "Epoch 50, Loss 0.0319\n",
      "Training Accuracy: 0.9648, Testing Accuracy: 0.9682\n",
      "\n"
     ]
    },
    {
     "name": "stdout",
     "output_type": "stream",
     "text": [
      "Epoch 60, Loss 0.0296\n",
      "Training Accuracy: 0.9666, Testing Accuracy: 0.9688\n",
      "\n"
     ]
    },
    {
     "name": "stdout",
     "output_type": "stream",
     "text": [
      "Epoch 70, Loss 0.0279\n",
      "Training Accuracy: 0.9684, Testing Accuracy: 0.9698\n",
      "\n"
     ]
    },
    {
     "name": "stdout",
     "output_type": "stream",
     "text": [
      "Epoch 80, Loss 0.0266\n",
      "Training Accuracy: 0.9698, Testing Accuracy: 0.9708\n",
      "\n"
     ]
    },
    {
     "name": "stdout",
     "output_type": "stream",
     "text": [
      "Epoch 90, Loss 0.0254\n",
      "Training Accuracy: 0.9708, Testing Accuracy: 0.9713\n",
      "\n"
     ]
    },
    {
     "name": "stdout",
     "output_type": "stream",
     "text": [
      "Epoch 100, Loss 0.0245\n",
      "Training Accuracy: 0.9719, Testing Accuracy: 0.9718\n",
      "\n"
     ]
    },
    {
     "name": "stdout",
     "output_type": "stream",
     "text": [
      "Epoch 110, Loss 0.0236\n",
      "Training Accuracy: 0.9733, Testing Accuracy: 0.9718\n",
      "\n"
     ]
    },
    {
     "name": "stdout",
     "output_type": "stream",
     "text": [
      "Epoch 120, Loss 0.0228\n",
      "Training Accuracy: 0.9740, Testing Accuracy: 0.9728\n",
      "\n"
     ]
    },
    {
     "name": "stdout",
     "output_type": "stream",
     "text": [
      "Epoch 130, Loss 0.0222\n",
      "Training Accuracy: 0.9744, Testing Accuracy: 0.9738\n",
      "\n"
     ]
    },
    {
     "name": "stdout",
     "output_type": "stream",
     "text": [
      "Epoch 140, Loss 0.0215\n",
      "Training Accuracy: 0.9754, Testing Accuracy: 0.9728\n",
      "\n"
     ]
    },
    {
     "name": "stdout",
     "output_type": "stream",
     "text": [
      "Epoch 150, Loss 0.0209\n",
      "Training Accuracy: 0.9760, Testing Accuracy: 0.9733\n",
      "\n"
     ]
    },
    {
     "name": "stdout",
     "output_type": "stream",
     "text": [
      "Epoch 160, Loss 0.0204\n",
      "Training Accuracy: 0.9765, Testing Accuracy: 0.9733\n",
      "\n"
     ]
    },
    {
     "name": "stdout",
     "output_type": "stream",
     "text": [
      "Epoch 170, Loss 0.0199\n",
      "Training Accuracy: 0.9775, Testing Accuracy: 0.9733\n",
      "\n"
     ]
    },
    {
     "name": "stdout",
     "output_type": "stream",
     "text": [
      "Epoch 180, Loss 0.0194\n",
      "Training Accuracy: 0.9778, Testing Accuracy: 0.9738\n",
      "\n"
     ]
    },
    {
     "name": "stdout",
     "output_type": "stream",
     "text": [
      "Epoch 190, Loss 0.0189\n",
      "Training Accuracy: 0.9784, Testing Accuracy: 0.9743\n",
      "\n"
     ]
    },
    {
     "name": "stdout",
     "output_type": "stream",
     "text": [
      "Epoch 200, Loss 0.0185\n",
      "Training Accuracy: 0.9787, Testing Accuracy: 0.9738\n",
      "\n"
     ]
    },
    {
     "name": "stdout",
     "output_type": "stream",
     "text": [
      "Epoch 210, Loss 0.0181\n",
      "Training Accuracy: 0.9793, Testing Accuracy: 0.9743\n",
      "\n"
     ]
    },
    {
     "name": "stdout",
     "output_type": "stream",
     "text": [
      "Epoch 220, Loss 0.0177\n",
      "Training Accuracy: 0.9801, Testing Accuracy: 0.9743\n",
      "\n"
     ]
    },
    {
     "name": "stdout",
     "output_type": "stream",
     "text": [
      "Epoch 230, Loss 0.0173\n",
      "Training Accuracy: 0.9805, Testing Accuracy: 0.9748\n",
      "\n"
     ]
    },
    {
     "name": "stdout",
     "output_type": "stream",
     "text": [
      "Epoch 240, Loss 0.0169\n",
      "Training Accuracy: 0.9809, Testing Accuracy: 0.9753\n",
      "\n"
     ]
    },
    {
     "data": {
      "text/plain": [
       "0.0023164117566905544"
      ]
     },
     "execution_count": 22,
     "metadata": {},
     "output_type": "execute_result"
    }
   ],
   "source": [
    "nn_learner.train_loop(dl)"
   ]
  },
  {
   "cell_type": "code",
   "execution_count": 23,
   "id": "e0163366",
   "metadata": {
    "execution": {
     "iopub.execute_input": "2022-11-04T00:51:14.360370Z",
     "iopub.status.busy": "2022-11-04T00:51:14.359597Z",
     "iopub.status.idle": "2022-11-04T00:51:37.089989Z",
     "shell.execute_reply": "2022-11-04T00:51:37.091462Z"
    },
    "papermill": {
     "duration": 22.78976,
     "end_time": "2022-11-04T00:51:37.091665",
     "exception": false,
     "start_time": "2022-11-04T00:51:14.301905",
     "status": "completed"
    },
    "tags": []
   },
   "outputs": [
    {
     "name": "stdout",
     "output_type": "stream",
     "text": [
      "Epoch 0, Loss 0.183\n",
      "Training Accuracy: 0.8221, Testing Accuracy: 0.8362\n",
      "\n"
     ]
    },
    {
     "name": "stdout",
     "output_type": "stream",
     "text": [
      "Epoch 10, Loss 0.0983\n",
      "Training Accuracy: 0.9103, Testing Accuracy: 0.9189\n",
      "\n"
     ]
    },
    {
     "name": "stdout",
     "output_type": "stream",
     "text": [
      "Epoch 20, Loss 0.0777\n",
      "Training Accuracy: 0.9284, Testing Accuracy: 0.9370\n",
      "\n"
     ]
    },
    {
     "name": "stdout",
     "output_type": "stream",
     "text": [
      "Epoch 30, Loss 0.0675\n",
      "Training Accuracy: 0.9354, Testing Accuracy: 0.9481\n",
      "\n"
     ]
    },
    {
     "name": "stdout",
     "output_type": "stream",
     "text": [
      "Epoch 40, Loss 0.0613\n",
      "Training Accuracy: 0.9404, Testing Accuracy: 0.9541\n",
      "\n"
     ]
    },
    {
     "name": "stdout",
     "output_type": "stream",
     "text": [
      "Epoch 50, Loss 0.057\n",
      "Training Accuracy: 0.9442, Testing Accuracy: 0.9556\n",
      "\n"
     ]
    },
    {
     "name": "stdout",
     "output_type": "stream",
     "text": [
      "Epoch 60, Loss 0.0538\n",
      "Training Accuracy: 0.9470, Testing Accuracy: 0.9577\n",
      "\n"
     ]
    },
    {
     "name": "stdout",
     "output_type": "stream",
     "text": [
      "Epoch 70, Loss 0.0513\n",
      "Training Accuracy: 0.9488, Testing Accuracy: 0.9592\n",
      "\n"
     ]
    },
    {
     "name": "stdout",
     "output_type": "stream",
     "text": [
      "Epoch 80, Loss 0.0493\n",
      "Training Accuracy: 0.9506, Testing Accuracy: 0.9602\n",
      "\n"
     ]
    },
    {
     "name": "stdout",
     "output_type": "stream",
     "text": [
      "Epoch 90, Loss 0.0476\n",
      "Training Accuracy: 0.9509, Testing Accuracy: 0.9607\n",
      "\n"
     ]
    },
    {
     "name": "stdout",
     "output_type": "stream",
     "text": [
      "Epoch 100, Loss 0.0462\n",
      "Training Accuracy: 0.9527, Testing Accuracy: 0.9617\n",
      "\n"
     ]
    },
    {
     "name": "stdout",
     "output_type": "stream",
     "text": [
      "Epoch 110, Loss 0.045\n",
      "Training Accuracy: 0.9537, Testing Accuracy: 0.9627\n",
      "\n"
     ]
    },
    {
     "name": "stdout",
     "output_type": "stream",
     "text": [
      "Epoch 120, Loss 0.044\n",
      "Training Accuracy: 0.9547, Testing Accuracy: 0.9647\n",
      "\n"
     ]
    },
    {
     "name": "stdout",
     "output_type": "stream",
     "text": [
      "Epoch 130, Loss 0.043\n",
      "Training Accuracy: 0.9558, Testing Accuracy: 0.9652\n",
      "\n"
     ]
    },
    {
     "name": "stdout",
     "output_type": "stream",
     "text": [
      "Epoch 140, Loss 0.0422\n",
      "Training Accuracy: 0.9561, Testing Accuracy: 0.9657\n",
      "\n"
     ]
    },
    {
     "name": "stdout",
     "output_type": "stream",
     "text": [
      "Epoch 150, Loss 0.0415\n",
      "Training Accuracy: 0.9568, Testing Accuracy: 0.9662\n",
      "\n"
     ]
    },
    {
     "name": "stdout",
     "output_type": "stream",
     "text": [
      "Epoch 160, Loss 0.0408\n",
      "Training Accuracy: 0.9570, Testing Accuracy: 0.9672\n",
      "\n"
     ]
    },
    {
     "name": "stdout",
     "output_type": "stream",
     "text": [
      "Epoch 170, Loss 0.0402\n",
      "Training Accuracy: 0.9575, Testing Accuracy: 0.9667\n",
      "\n"
     ]
    },
    {
     "name": "stdout",
     "output_type": "stream",
     "text": [
      "Epoch 180, Loss 0.0396\n",
      "Training Accuracy: 0.9580, Testing Accuracy: 0.9662\n",
      "\n"
     ]
    },
    {
     "name": "stdout",
     "output_type": "stream",
     "text": [
      "Epoch 190, Loss 0.0391\n",
      "Training Accuracy: 0.9584, Testing Accuracy: 0.9667\n",
      "\n"
     ]
    },
    {
     "name": "stdout",
     "output_type": "stream",
     "text": [
      "Epoch 200, Loss 0.0386\n",
      "Training Accuracy: 0.9591, Testing Accuracy: 0.9662\n",
      "\n"
     ]
    },
    {
     "name": "stdout",
     "output_type": "stream",
     "text": [
      "Epoch 210, Loss 0.0382\n",
      "Training Accuracy: 0.9594, Testing Accuracy: 0.9667\n",
      "\n"
     ]
    },
    {
     "name": "stdout",
     "output_type": "stream",
     "text": [
      "Epoch 220, Loss 0.0377\n",
      "Training Accuracy: 0.9599, Testing Accuracy: 0.9667\n",
      "\n"
     ]
    },
    {
     "name": "stdout",
     "output_type": "stream",
     "text": [
      "Epoch 230, Loss 0.0374\n",
      "Training Accuracy: 0.9604, Testing Accuracy: 0.9672\n",
      "\n"
     ]
    },
    {
     "name": "stdout",
     "output_type": "stream",
     "text": [
      "Epoch 240, Loss 0.037\n",
      "Training Accuracy: 0.9607, Testing Accuracy: 0.9667\n",
      "\n"
     ]
    },
    {
     "data": {
      "text/plain": [
       "0.023301998390355825"
      ]
     },
     "execution_count": 23,
     "metadata": {},
     "output_type": "execute_result"
    }
   ],
   "source": [
    "lr_learner.train_loop(dl)"
   ]
  },
  {
   "cell_type": "code",
   "execution_count": 24,
   "id": "ca410940",
   "metadata": {
    "execution": {
     "iopub.execute_input": "2022-11-04T00:51:37.222346Z",
     "iopub.status.busy": "2022-11-04T00:51:37.221540Z",
     "iopub.status.idle": "2022-11-04T00:51:37.570273Z",
     "shell.execute_reply": "2022-11-04T00:51:37.569093Z"
    },
    "papermill": {
     "duration": 0.419525,
     "end_time": "2022-11-04T00:51:37.570426",
     "exception": false,
     "start_time": "2022-11-04T00:51:37.150901",
     "status": "completed"
    },
    "tags": []
   },
   "outputs": [
    {
     "data": {
      "text/plain": [
       "<matplotlib.legend.Legend at 0x7efd36ba5518>"
      ]
     },
     "execution_count": 24,
     "metadata": {},
     "output_type": "execute_result"
    },
    {
     "data": {
      "image/png": "[encoded data removed]",
      "text/plain": [
       "<Figure size 1080x720 with 1 Axes>"
      ]
     },
     "metadata": {
      "needs_background": "light"
     },
     "output_type": "display_data"
    }
   ],
   "source": [
    "#comparing the results of NN and LR\n",
    "plt.figure(figsize=(15,10))\n",
    "\n",
    "# Neural Network plots\n",
    "plt.plot(acc_nn.accuracies, 'r-', label = \"Training Accuracies - NN\")\n",
    "plt.plot(acc_nn.test_accuracies, 'g-', label = \"Testing Accuracies - NN\")\n",
    "\n",
    "# Logistic Regression plots\n",
    "plt.plot(acc_lr.accuracies, 'k-', label = \"Training Accuracies - LR\")\n",
    "plt.plot(acc_lr.test_accuracies, 'b-', label = \"Testing Accuracies - LR\")\n",
    "plt.legend()"
   ]
  },
  {
   "cell_type": "markdown",
   "id": "80dfb35c",
   "metadata": {
    "papermill": {
     "duration": 0.059837,
     "end_time": "2022-11-04T00:51:37.692039",
     "exception": false,
     "start_time": "2022-11-04T00:51:37.632202",
     "status": "completed"
    },
    "tags": []
   },
   "source": [
    "#### Plotting the outputs of this layer of the NN.\n"
   ]
  },
  {
   "cell_type": "code",
   "execution_count": 25,
   "id": "45eb2ff5",
   "metadata": {
    "execution": {
     "iopub.execute_input": "2022-11-04T00:51:37.824531Z",
     "iopub.status.busy": "2022-11-04T00:51:37.823520Z",
     "iopub.status.idle": "2022-11-04T00:51:37.862875Z",
     "shell.execute_reply": "2022-11-04T00:51:37.863890Z"
    },
    "papermill": {
     "duration": 0.105416,
     "end_time": "2022-11-04T00:51:37.864083",
     "exception": false,
     "start_time": "2022-11-04T00:51:37.758667",
     "status": "completed"
    },
    "tags": []
   },
   "outputs": [],
   "source": [
    "new_model = Model(layers[:-2])\n",
    "testing_plot = new_model(testing_data_x)"
   ]
  },
  {
   "cell_type": "code",
   "execution_count": 26,
   "id": "4c0a5485",
   "metadata": {
    "execution": {
     "iopub.execute_input": "2022-11-04T00:51:38.009933Z",
     "iopub.status.busy": "2022-11-04T00:51:38.009125Z",
     "iopub.status.idle": "2022-11-04T00:51:38.315926Z",
     "shell.execute_reply": "2022-11-04T00:51:38.315153Z"
    },
    "papermill": {
     "duration": 0.37706,
     "end_time": "2022-11-04T00:51:38.316076",
     "exception": false,
     "start_time": "2022-11-04T00:51:37.939016",
     "status": "completed"
    },
    "tags": []
   },
   "outputs": [
    {
     "data": {
      "text/plain": [
       "Text(0.5, 1.0, 'Outputs')"
      ]
     },
     "execution_count": 26,
     "metadata": {},
     "output_type": "execute_result"
    },
    {
     "data": {
      "image/png": "[encoded data removed]",
      "text/plain": [
       "<Figure size 576x504 with 1 Axes>"
      ]
     },
     "metadata": {
      "needs_background": "light"
     },
     "output_type": "display_data"
    }
   ],
   "source": [
    "# Plotting the scatter plot of points and color coding by class\n",
    "plt.figure(figsize=(8,7))\n",
    "plt.scatter(testing_plot[:,0], testing_plot[:,1], alpha = 0.1, c = y_test.ravel());\n",
    "plt.title('Outputs')"
   ]
  },
  {
   "cell_type": "markdown",
   "id": "a74fcf8f",
   "metadata": {
    "papermill": {
     "duration": 0.063469,
     "end_time": "2022-11-04T00:51:38.478858",
     "exception": false,
     "start_time": "2022-11-04T00:51:38.415389",
     "status": "completed"
    },
    "tags": []
   },
   "source": [
    "Probability contours"
   ]
  },
  {
   "cell_type": "code",
   "execution_count": 27,
   "id": "d0afc8e3",
   "metadata": {
    "execution": {
     "iopub.execute_input": "2022-11-04T00:51:38.608683Z",
     "iopub.status.busy": "2022-11-04T00:51:38.607912Z",
     "iopub.status.idle": "2022-11-04T00:51:38.624164Z",
     "shell.execute_reply": "2022-11-04T00:51:38.624794Z"
    },
    "papermill": {
     "duration": 0.083494,
     "end_time": "2022-11-04T00:51:38.624978",
     "exception": false,
     "start_time": "2022-11-04T00:51:38.541484",
     "status": "completed"
    },
    "tags": []
   },
   "outputs": [],
   "source": [
    "model_prob = Model(layers[-2:]) "
   ]
  },
  {
   "cell_type": "code",
   "execution_count": 28,
   "id": "9b96e238",
   "metadata": {
    "execution": {
     "iopub.execute_input": "2022-11-04T00:51:38.766274Z",
     "iopub.status.busy": "2022-11-04T00:51:38.765407Z",
     "iopub.status.idle": "2022-11-04T00:51:38.782602Z",
     "shell.execute_reply": "2022-11-04T00:51:38.783311Z"
    },
    "papermill": {
     "duration": 0.088994,
     "end_time": "2022-11-04T00:51:38.783491",
     "exception": false,
     "start_time": "2022-11-04T00:51:38.694497",
     "status": "completed"
    },
    "tags": []
   },
   "outputs": [],
   "source": [
    "#creating the x and y ranges according to the above generated plot.\n",
    "x_range = np.linspace(-4, 1, 100) \n",
    "y_range = np.linspace(-6, 6, 100) \n",
    "x_grid, y_grid = np.meshgrid(x_range, y_range) # x_grid and y_grig are of size 100 X 100\n",
    "\n",
    "# converting x_grid and y_grid to continuous arrays\n",
    "x_gridflat = np.ravel(x_grid)\n",
    "y_gridflat = np.ravel(y_grid)\n",
    "\n",
    "# The last layer of the current model takes two columns as input. Hence transpose of np.vstack() is required.\n",
    "X = np.vstack((x_gridflat, y_gridflat)).T\n",
    "\n",
    "prob_contour = model_prob(X).reshape(100,100) "
   ]
  },
  {
   "cell_type": "code",
   "execution_count": 29,
   "id": "da72499a",
   "metadata": {
    "execution": {
     "iopub.execute_input": "2022-11-04T00:51:38.915606Z",
     "iopub.status.busy": "2022-11-04T00:51:38.914733Z",
     "iopub.status.idle": "2022-11-04T00:51:39.301126Z",
     "shell.execute_reply": "2022-11-04T00:51:39.300316Z"
    },
    "papermill": {
     "duration": 0.453472,
     "end_time": "2022-11-04T00:51:39.301280",
     "exception": false,
     "start_time": "2022-11-04T00:51:38.847808",
     "status": "completed"
    },
    "tags": []
   },
   "outputs": [
    {
     "data": {
      "image/png": "[encoded data removed]",
      "text/plain": [
       "<Figure size 720x648 with 1 Axes>"
      ]
     },
     "metadata": {
      "needs_background": "light"
     },
     "output_type": "display_data"
    }
   ],
   "source": [
    "plt.figure(figsize=(10,9))\n",
    "plt.scatter(testing_plot[:,0], testing_plot[:,1], alpha = 0.1, c = y_test.ravel())\n",
    "contours = plt.contour(x_grid,y_grid,prob_contour)\n",
    "plt.title('Probability Contours')\n",
    "plt.clabel(contours, inline = True );"
   ]
  },
  {
   "cell_type": "code",
   "execution_count": null,
   "id": "e81b4ac7",
   "metadata": {
    "papermill": {
     "duration": 0.073161,
     "end_time": "2022-11-04T00:51:39.440558",
     "exception": false,
     "start_time": "2022-11-04T00:51:39.367397",
     "status": "completed"
    },
    "tags": []
   },
   "outputs": [],
   "source": []
  }
 ],
 "metadata": {
  "kernelspec": {
   "display_name": "Python 3",
   "language": "python",
   "name": "python3"
  },
  "language_info": {
   "codemirror_mode": {
    "name": "ipython",
    "version": 3
   },
   "file_extension": ".py",
   "mimetype": "text/x-python",
   "name": "python",
   "nbconvert_exporter": "python",
   "pygments_lexer": "ipython3",
   "version": "3.6.15"
  },
  "papermill": {
   "default_parameters": {},
   "duration": 201.455152,
   "end_time": "2022-11-04T00:51:40.027122",
   "environment_variables": {},
   "exception": null,
   "input_path": "2020-08-11-part2.ipynb",
   "output_path": "2020-08-11-part2.ipynb",
   "parameters": {},
   "start_time": "2022-11-04T00:48:18.571970",
   "version": "2.3.3"
  }
 },
 "nbformat": 4,
 "nbformat_minor": 5
}