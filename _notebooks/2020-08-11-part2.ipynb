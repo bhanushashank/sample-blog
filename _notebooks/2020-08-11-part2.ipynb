{
 "cells": [
  {
   "cell_type": "markdown",
   "id": "98380cd3",
   "metadata": {
    "papermill": {
     "duration": 0.028328,
     "end_time": "2022-04-15T20:10:08.333509",
     "exception": false,
     "start_time": "2022-04-15T20:10:08.305181",
     "status": "completed"
    },
    "tags": []
   },
   "source": [
    "# Distinguish Your Own Digits (DYOD)"
   ]
  },
  {
   "cell_type": "markdown",
   "id": "ef31240d",
   "metadata": {
    "papermill": {
     "duration": 0.025628,
     "end_time": "2022-04-15T20:10:08.384451",
     "exception": false,
     "start_time": "2022-04-15T20:10:08.358823",
     "status": "completed"
    },
    "tags": []
   },
   "source": [
    "You are going to write a classifier that distinguishes between the number 3 and number 8."
   ]
  },
  {
   "cell_type": "code",
   "execution_count": 1,
   "id": "b15c8646",
   "metadata": {
    "execution": {
     "iopub.execute_input": "2022-04-15T20:10:08.443099Z",
     "iopub.status.busy": "2022-04-15T20:10:08.442597Z",
     "iopub.status.idle": "2022-04-15T20:10:08.453051Z",
     "shell.execute_reply": "2022-04-15T20:10:08.452648Z"
    },
    "papermill": {
     "duration": 0.044231,
     "end_time": "2022-04-15T20:10:08.453162",
     "exception": false,
     "start_time": "2022-04-15T20:10:08.408931",
     "status": "completed"
    },
    "tags": []
   },
   "outputs": [],
   "source": [
    "%load_ext autoreload\n",
    "%autoreload 2"
   ]
  },
  {
   "cell_type": "code",
   "execution_count": 2,
   "id": "22ef38dc",
   "metadata": {
    "execution": {
     "iopub.execute_input": "2022-04-15T20:10:08.505866Z",
     "iopub.status.busy": "2022-04-15T20:10:08.505360Z",
     "iopub.status.idle": "2022-04-15T20:10:09.004286Z",
     "shell.execute_reply": "2022-04-15T20:10:09.003807Z"
    },
    "papermill": {
     "duration": 0.526559,
     "end_time": "2022-04-15T20:10:09.004406",
     "exception": false,
     "start_time": "2022-04-15T20:10:08.477847",
     "status": "completed"
    },
    "tags": []
   },
   "outputs": [],
   "source": [
    "%matplotlib inline\n",
    "import numpy as np\n",
    "import matplotlib.pyplot as plt\n",
    "import pandas as pd"
   ]
  },
  {
   "cell_type": "markdown",
   "id": "ba036198",
   "metadata": {
    "papermill": {
     "duration": 0.025397,
     "end_time": "2022-04-15T20:10:09.054598",
     "exception": false,
     "start_time": "2022-04-15T20:10:09.029201",
     "status": "completed"
    },
    "tags": []
   },
   "source": [
    "From the command line run `pip install mnist`. This is a library that will help you bring down the mnist dataset. If you run this from a notebook, you need to put  `!pip install mnist` in a cell by itself."
   ]
  },
  {
   "cell_type": "code",
   "execution_count": 3,
   "id": "bb6ad8a1",
   "metadata": {
    "execution": {
     "iopub.execute_input": "2022-04-15T20:10:09.107609Z",
     "iopub.status.busy": "2022-04-15T20:10:09.107125Z",
     "iopub.status.idle": "2022-04-15T20:10:10.850686Z",
     "shell.execute_reply": "2022-04-15T20:10:10.849818Z"
    },
    "papermill": {
     "duration": 1.771579,
     "end_time": "2022-04-15T20:10:10.850810",
     "exception": false,
     "start_time": "2022-04-15T20:10:09.079231",
     "status": "completed"
    },
    "tags": []
   },
   "outputs": [
    {
     "name": "stdout",
     "output_type": "stream",
     "text": [
      "Collecting mnist\r\n"
     ]
    },
    {
     "name": "stdout",
     "output_type": "stream",
     "text": [
      "  Downloading mnist-0.2.2-py2.py3-none-any.whl (3.5 kB)\r\n"
     ]
    },
    {
     "name": "stdout",
     "output_type": "stream",
     "text": [
      "Requirement already satisfied: numpy in /opt/hostedtoolcache/Python/3.6.15/x64/lib/python3.6/site-packages (from mnist) (1.19.5)\r\n"
     ]
    },
    {
     "name": "stdout",
     "output_type": "stream",
     "text": [
      "Installing collected packages: mnist\r\n"
     ]
    },
    {
     "name": "stdout",
     "output_type": "stream",
     "text": [
      "Successfully installed mnist-0.2.2\r\n"
     ]
    }
   ],
   "source": [
    "!pip install mnist"
   ]
  },
  {
   "cell_type": "markdown",
   "id": "69df9c9a",
   "metadata": {
    "papermill": {
     "duration": 0.026151,
     "end_time": "2022-04-15T20:10:10.903310",
     "exception": false,
     "start_time": "2022-04-15T20:10:10.877159",
     "status": "completed"
    },
    "tags": []
   },
   "source": [
    "## Preparing the Data"
   ]
  },
  {
   "cell_type": "code",
   "execution_count": 4,
   "id": "7f69d806",
   "metadata": {
    "execution": {
     "iopub.execute_input": "2022-04-15T20:10:10.965238Z",
     "iopub.status.busy": "2022-04-15T20:10:10.958388Z",
     "iopub.status.idle": "2022-04-15T20:10:10.971800Z",
     "shell.execute_reply": "2022-04-15T20:10:10.971374Z"
    },
    "papermill": {
     "duration": 0.042515,
     "end_time": "2022-04-15T20:10:10.971898",
     "exception": false,
     "start_time": "2022-04-15T20:10:10.929383",
     "status": "completed"
    },
    "tags": []
   },
   "outputs": [],
   "source": [
    "import mnist"
   ]
  },
  {
   "cell_type": "code",
   "execution_count": 5,
   "id": "a411e44f",
   "metadata": {
    "execution": {
     "iopub.execute_input": "2022-04-15T20:10:11.027180Z",
     "iopub.status.busy": "2022-04-15T20:10:11.026680Z",
     "iopub.status.idle": "2022-04-15T20:10:11.665298Z",
     "shell.execute_reply": "2022-04-15T20:10:11.665703Z"
    },
    "papermill": {
     "duration": 0.667771,
     "end_time": "2022-04-15T20:10:11.665840",
     "exception": false,
     "start_time": "2022-04-15T20:10:10.998069",
     "status": "completed"
    },
    "tags": []
   },
   "outputs": [],
   "source": [
    "train_images = mnist.train_images()\n",
    "train_labels = mnist.train_labels()"
   ]
  },
  {
   "cell_type": "code",
   "execution_count": 6,
   "id": "dceab3a5",
   "metadata": {
    "execution": {
     "iopub.execute_input": "2022-04-15T20:10:11.721489Z",
     "iopub.status.busy": "2022-04-15T20:10:11.721006Z",
     "iopub.status.idle": "2022-04-15T20:10:11.734902Z",
     "shell.execute_reply": "2022-04-15T20:10:11.734486Z"
    },
    "papermill": {
     "duration": 0.042463,
     "end_time": "2022-04-15T20:10:11.735002",
     "exception": false,
     "start_time": "2022-04-15T20:10:11.692539",
     "status": "completed"
    },
    "tags": []
   },
   "outputs": [
    {
     "data": {
      "text/plain": [
       "((60000, 28, 28), (60000,))"
      ]
     },
     "execution_count": 6,
     "metadata": {},
     "output_type": "execute_result"
    }
   ],
   "source": [
    "train_images.shape, train_labels.shape"
   ]
  },
  {
   "cell_type": "code",
   "execution_count": 7,
   "id": "f50dc2bb",
   "metadata": {
    "execution": {
     "iopub.execute_input": "2022-04-15T20:10:11.791065Z",
     "iopub.status.busy": "2022-04-15T20:10:11.790579Z",
     "iopub.status.idle": "2022-04-15T20:10:12.074103Z",
     "shell.execute_reply": "2022-04-15T20:10:12.073670Z"
    },
    "papermill": {
     "duration": 0.312853,
     "end_time": "2022-04-15T20:10:12.074215",
     "exception": false,
     "start_time": "2022-04-15T20:10:11.761362",
     "status": "completed"
    },
    "tags": []
   },
   "outputs": [],
   "source": [
    "test_images = mnist.test_images()\n",
    "test_labels = mnist.test_labels()"
   ]
  },
  {
   "cell_type": "code",
   "execution_count": 8,
   "id": "fc38cf1b",
   "metadata": {
    "execution": {
     "iopub.execute_input": "2022-04-15T20:10:12.130821Z",
     "iopub.status.busy": "2022-04-15T20:10:12.130326Z",
     "iopub.status.idle": "2022-04-15T20:10:12.142737Z",
     "shell.execute_reply": "2022-04-15T20:10:12.142318Z"
    },
    "papermill": {
     "duration": 0.041832,
     "end_time": "2022-04-15T20:10:12.142832",
     "exception": false,
     "start_time": "2022-04-15T20:10:12.101000",
     "status": "completed"
    },
    "tags": []
   },
   "outputs": [
    {
     "data": {
      "text/plain": [
       "((10000, 28, 28), (10000,))"
      ]
     },
     "execution_count": 8,
     "metadata": {},
     "output_type": "execute_result"
    }
   ],
   "source": [
    "test_images.shape, test_labels.shape"
   ]
  },
  {
   "cell_type": "code",
   "execution_count": 9,
   "id": "f9ed8fe0",
   "metadata": {
    "execution": {
     "iopub.execute_input": "2022-04-15T20:10:12.199363Z",
     "iopub.status.busy": "2022-04-15T20:10:12.198876Z",
     "iopub.status.idle": "2022-04-15T20:10:12.330675Z",
     "shell.execute_reply": "2022-04-15T20:10:12.331083Z"
    },
    "papermill": {
     "duration": 0.16171,
     "end_time": "2022-04-15T20:10:12.331207",
     "exception": false,
     "start_time": "2022-04-15T20:10:12.169497",
     "status": "completed"
    },
    "tags": []
   },
   "outputs": [
    {
     "name": "stdout",
     "output_type": "stream",
     "text": [
      "2\n"
     ]
    },
    {
     "data": {
      "text/plain": [
       "<matplotlib.image.AxesImage at 0x7f07825252e8>"
      ]
     },
     "execution_count": 9,
     "metadata": {},
     "output_type": "execute_result"
    },
    {
     "data": {
      "image/png": "[encoded data removed]",
      "text/plain": [
       "<Figure size 432x288 with 1 Axes>"
      ]
     },
     "metadata": {
      "needs_background": "light"
     },
     "output_type": "display_data"
    }
   ],
   "source": [
    "image_index = 7776 # You may select anything up to 60,000\n",
    "print(train_labels[image_index]) \n",
    "plt.imshow(train_images[image_index], cmap='Greys')"
   ]
  },
  {
   "cell_type": "markdown",
   "id": "a8d2388d",
   "metadata": {
    "papermill": {
     "duration": 0.027484,
     "end_time": "2022-04-15T20:10:12.386601",
     "exception": false,
     "start_time": "2022-04-15T20:10:12.359117",
     "status": "completed"
    },
    "tags": []
   },
   "source": [
    "## Filter data to get 3 and 8 out"
   ]
  },
  {
   "cell_type": "code",
   "execution_count": 10,
   "id": "776f7fc7",
   "metadata": {
    "execution": {
     "iopub.execute_input": "2022-04-15T20:10:12.445753Z",
     "iopub.status.busy": "2022-04-15T20:10:12.445238Z",
     "iopub.status.idle": "2022-04-15T20:10:12.461134Z",
     "shell.execute_reply": "2022-04-15T20:10:12.461505Z"
    },
    "papermill": {
     "duration": 0.047367,
     "end_time": "2022-04-15T20:10:12.461625",
     "exception": false,
     "start_time": "2022-04-15T20:10:12.414258",
     "status": "completed"
    },
    "tags": []
   },
   "outputs": [],
   "source": [
    "train_filter = np.where((train_labels == 3 ) | (train_labels == 8))\n",
    "test_filter = np.where((test_labels == 3) | (test_labels == 8))\n",
    "X_train, y_train = train_images[train_filter], train_labels[train_filter]\n",
    "X_test, y_test = test_images[test_filter], test_labels[test_filter]"
   ]
  },
  {
   "cell_type": "markdown",
   "id": "948f0b7e",
   "metadata": {
    "papermill": {
     "duration": 0.027567,
     "end_time": "2022-04-15T20:10:12.516948",
     "exception": false,
     "start_time": "2022-04-15T20:10:12.489381",
     "status": "completed"
    },
    "tags": []
   },
   "source": [
    "We normalize the pizel values in the 0 to 1 range"
   ]
  },
  {
   "cell_type": "code",
   "execution_count": 11,
   "id": "ee4c2166",
   "metadata": {
    "execution": {
     "iopub.execute_input": "2022-04-15T20:10:12.575578Z",
     "iopub.status.busy": "2022-04-15T20:10:12.575087Z",
     "iopub.status.idle": "2022-04-15T20:10:12.615646Z",
     "shell.execute_reply": "2022-04-15T20:10:12.615184Z"
    },
    "papermill": {
     "duration": 0.071204,
     "end_time": "2022-04-15T20:10:12.615752",
     "exception": false,
     "start_time": "2022-04-15T20:10:12.544548",
     "status": "completed"
    },
    "tags": []
   },
   "outputs": [],
   "source": [
    "X_train = X_train/255.\n",
    "X_test = X_test/255."
   ]
  },
  {
   "cell_type": "markdown",
   "id": "ddcf4fab",
   "metadata": {
    "papermill": {
     "duration": 0.027675,
     "end_time": "2022-04-15T20:10:12.671298",
     "exception": false,
     "start_time": "2022-04-15T20:10:12.643623",
     "status": "completed"
    },
    "tags": []
   },
   "source": [
    "And setup the labels as 1 (when the digit is 3) and 0 (when the digit is 8)"
   ]
  },
  {
   "cell_type": "code",
   "execution_count": 12,
   "id": "7dc908f2",
   "metadata": {
    "execution": {
     "iopub.execute_input": "2022-04-15T20:10:12.730107Z",
     "iopub.status.busy": "2022-04-15T20:10:12.729614Z",
     "iopub.status.idle": "2022-04-15T20:10:12.741198Z",
     "shell.execute_reply": "2022-04-15T20:10:12.740783Z"
    },
    "papermill": {
     "duration": 0.041829,
     "end_time": "2022-04-15T20:10:12.741293",
     "exception": false,
     "start_time": "2022-04-15T20:10:12.699464",
     "status": "completed"
    },
    "tags": []
   },
   "outputs": [],
   "source": [
    "y_train = 1*(y_train==3)\n",
    "y_test = 1*(y_test==3)"
   ]
  },
  {
   "cell_type": "code",
   "execution_count": 13,
   "id": "01e4e969",
   "metadata": {
    "execution": {
     "iopub.execute_input": "2022-04-15T20:10:12.799202Z",
     "iopub.status.busy": "2022-04-15T20:10:12.798696Z",
     "iopub.status.idle": "2022-04-15T20:10:12.811075Z",
     "shell.execute_reply": "2022-04-15T20:10:12.810684Z"
    },
    "papermill": {
     "duration": 0.042277,
     "end_time": "2022-04-15T20:10:12.811173",
     "exception": false,
     "start_time": "2022-04-15T20:10:12.768896",
     "status": "completed"
    },
    "tags": []
   },
   "outputs": [
    {
     "data": {
      "text/plain": [
       "((11982, 28, 28), (1984, 28, 28))"
      ]
     },
     "execution_count": 13,
     "metadata": {},
     "output_type": "execute_result"
    }
   ],
   "source": [
    "X_train.shape, X_test.shape"
   ]
  },
  {
   "cell_type": "markdown",
   "id": "5ccf3f85",
   "metadata": {
    "papermill": {
     "duration": 0.027615,
     "end_time": "2022-04-15T20:10:12.866504",
     "exception": false,
     "start_time": "2022-04-15T20:10:12.838889",
     "status": "completed"
    },
    "tags": []
   },
   "source": [
    "We reshape the data to flatten the image pixels into a set of features or co-variates:"
   ]
  },
  {
   "cell_type": "code",
   "execution_count": 14,
   "id": "5286a4a3",
   "metadata": {
    "execution": {
     "iopub.execute_input": "2022-04-15T20:10:12.925661Z",
     "iopub.status.busy": "2022-04-15T20:10:12.925166Z",
     "iopub.status.idle": "2022-04-15T20:10:12.938009Z",
     "shell.execute_reply": "2022-04-15T20:10:12.937616Z"
    },
    "papermill": {
     "duration": 0.043752,
     "end_time": "2022-04-15T20:10:12.938108",
     "exception": false,
     "start_time": "2022-04-15T20:10:12.894356",
     "status": "completed"
    },
    "tags": []
   },
   "outputs": [
    {
     "data": {
      "text/plain": [
       "((11982, 784), (1984, 784))"
      ]
     },
     "execution_count": 14,
     "metadata": {},
     "output_type": "execute_result"
    }
   ],
   "source": [
    "X_train = X_train.reshape(X_train.shape[0], -1)\n",
    "X_test = X_test.reshape(X_test.shape[0], -1)\n",
    "X_train.shape, X_test.shape"
   ]
  },
  {
   "cell_type": "code",
   "execution_count": 15,
   "id": "73c5f88a",
   "metadata": {
    "execution": {
     "iopub.execute_input": "2022-04-15T20:10:12.998826Z",
     "iopub.status.busy": "2022-04-15T20:10:12.998329Z",
     "iopub.status.idle": "2022-04-15T20:10:13.015634Z",
     "shell.execute_reply": "2022-04-15T20:10:13.016034Z"
    },
    "papermill": {
     "duration": 0.049588,
     "end_time": "2022-04-15T20:10:13.016172",
     "exception": false,
     "start_time": "2022-04-15T20:10:12.966584",
     "status": "completed"
    },
    "tags": []
   },
   "outputs": [],
   "source": [
    "#Impoting functions from 'Kudzu'\n",
    "from kudzu.model import Model\n",
    "from kudzu.train import Learner\n",
    "from kudzu.optim import GD\n",
    "from kudzu.data import Data, Sampler,Dataloader\n",
    "\n",
    "from kudzu.callbacks import AccCallback\n",
    "from kudzu.callbacks import ClfCallback\n",
    "\n",
    "from kudzu.loss import MSE\n",
    "\n",
    "from kudzu.layer import Sigmoid,Relu\n",
    "from kudzu.layer import Affine"
   ]
  },
  {
   "cell_type": "markdown",
   "id": "bc01172a",
   "metadata": {
    "papermill": {
     "duration": 0.028173,
     "end_time": "2022-04-15T20:10:13.072761",
     "exception": false,
     "start_time": "2022-04-15T20:10:13.044588",
     "status": "completed"
    },
    "tags": []
   },
   "source": [
    "### Let us create a `Config` class, to store important parameters. \n",
    "This class essentially plays the role of a dictionary."
   ]
  },
  {
   "cell_type": "code",
   "execution_count": 16,
   "id": "978281aa",
   "metadata": {
    "execution": {
     "iopub.execute_input": "2022-04-15T20:10:13.132691Z",
     "iopub.status.busy": "2022-04-15T20:10:13.132187Z",
     "iopub.status.idle": "2022-04-15T20:10:13.143576Z",
     "shell.execute_reply": "2022-04-15T20:10:13.143959Z"
    },
    "papermill": {
     "duration": 0.043071,
     "end_time": "2022-04-15T20:10:13.144080",
     "exception": false,
     "start_time": "2022-04-15T20:10:13.101009",
     "status": "completed"
    },
    "tags": []
   },
   "outputs": [],
   "source": [
    "class Config:\n",
    "    pass\n",
    "config = Config()\n",
    "config.lr = 0.001\n",
    "config.num_epochs = 250\n",
    "config.bs = 50"
   ]
  },
  {
   "cell_type": "markdown",
   "id": "1385fa59",
   "metadata": {
    "papermill": {
     "duration": 0.028294,
     "end_time": "2022-04-15T20:10:13.200742",
     "exception": false,
     "start_time": "2022-04-15T20:10:13.172448",
     "status": "completed"
    },
    "tags": []
   },
   "source": [
    "### Running Models with the Training data\n",
    "Details about the network layers:\n",
    "- A first affine layer has 784 inputs and does 100 affine transforms. These are followed by a Relu\n",
    "- A second affine layer has 100 inputs from the 100 activations of the past layer, and does 100 affine transforms. These are followed by a Relu\n",
    "- A third affine layer has 100 activations and does 2 affine transformations to create an embedding for visualization. There is no non-linearity here.\n",
    "- A final \"logistic regression\" which has an affine transform from 2 inputs to 1 output, which is squeezed through a sigmoid.\n"
   ]
  },
  {
   "cell_type": "code",
   "execution_count": 17,
   "id": "2b9c66db",
   "metadata": {
    "execution": {
     "iopub.execute_input": "2022-04-15T20:10:13.261400Z",
     "iopub.status.busy": "2022-04-15T20:10:13.260898Z",
     "iopub.status.idle": "2022-04-15T20:10:13.272916Z",
     "shell.execute_reply": "2022-04-15T20:10:13.272514Z"
    },
    "papermill": {
     "duration": 0.043862,
     "end_time": "2022-04-15T20:10:13.273020",
     "exception": false,
     "start_time": "2022-04-15T20:10:13.229158",
     "status": "completed"
    },
    "tags": []
   },
   "outputs": [],
   "source": [
    "data = Data(X_train, y_train.reshape(-1,1))\n",
    "sampler = Sampler(data, config.bs, shuffle=True)\n",
    "\n",
    "dl = Dataloader(data, sampler)\n",
    "\n",
    "opt = GD(config.lr)\n",
    "loss = MSE()"
   ]
  },
  {
   "cell_type": "code",
   "execution_count": 18,
   "id": "b275e4c2",
   "metadata": {
    "execution": {
     "iopub.execute_input": "2022-04-15T20:10:13.333808Z",
     "iopub.status.busy": "2022-04-15T20:10:13.333282Z",
     "iopub.status.idle": "2022-04-15T20:10:13.346065Z",
     "shell.execute_reply": "2022-04-15T20:10:13.345615Z"
    },
    "papermill": {
     "duration": 0.044605,
     "end_time": "2022-04-15T20:10:13.346170",
     "exception": false,
     "start_time": "2022-04-15T20:10:13.301565",
     "status": "completed"
    },
    "tags": []
   },
   "outputs": [],
   "source": [
    "training_data_x = X_train\n",
    "testing_data_x = X_test\n",
    "training_data_y = y_train.reshape(-1,1)\n",
    "testing_data_y = y_test.reshape(-1,1)"
   ]
  },
  {
   "cell_type": "code",
   "execution_count": 19,
   "id": "76951160",
   "metadata": {
    "execution": {
     "iopub.execute_input": "2022-04-15T20:10:13.407460Z",
     "iopub.status.busy": "2022-04-15T20:10:13.406929Z",
     "iopub.status.idle": "2022-04-15T20:10:13.421952Z",
     "shell.execute_reply": "2022-04-15T20:10:13.421522Z"
    },
    "papermill": {
     "duration": 0.047499,
     "end_time": "2022-04-15T20:10:13.422055",
     "exception": false,
     "start_time": "2022-04-15T20:10:13.374556",
     "status": "completed"
    },
    "tags": []
   },
   "outputs": [
    {
     "name": "stdout",
     "output_type": "stream",
     "text": [
      "xavier\n",
      "xavier\n",
      "xavier\n",
      "xavier\n",
      "xavier\n"
     ]
    }
   ],
   "source": [
    "layers = [Affine(\"first\", 784, 100), Relu(\"first\"), Affine(\"second\", 100, 100), Relu(\"second\"), Affine(\"third\", 100, 2), Affine(\"last\", 2, 1), Sigmoid(\"last\")]\n",
    "model_nn = Model(layers)\n",
    "model_lr = Model([Affine(\"logits\", 784, 1), Sigmoid(\"sigmoid\")])"
   ]
  },
  {
   "cell_type": "code",
   "execution_count": 20,
   "id": "6eede77a",
   "metadata": {
    "execution": {
     "iopub.execute_input": "2022-04-15T20:10:13.483116Z",
     "iopub.status.busy": "2022-04-15T20:10:13.482602Z",
     "iopub.status.idle": "2022-04-15T20:10:13.494231Z",
     "shell.execute_reply": "2022-04-15T20:10:13.493818Z"
    },
    "papermill": {
     "duration": 0.043691,
     "end_time": "2022-04-15T20:10:13.494336",
     "exception": false,
     "start_time": "2022-04-15T20:10:13.450645",
     "status": "completed"
    },
    "tags": []
   },
   "outputs": [],
   "source": [
    "nn_learner = Learner(loss, model_nn, opt, config.num_epochs)\n",
    "acc_nn = ClfCallback(nn_learner, config.bs, training_data_x , testing_data_x, training_data_y, testing_data_y)\n",
    "nn_learner.set_callbacks([acc_nn])"
   ]
  },
  {
   "cell_type": "code",
   "execution_count": 21,
   "id": "877b6cc7",
   "metadata": {
    "execution": {
     "iopub.execute_input": "2022-04-15T20:10:13.554978Z",
     "iopub.status.busy": "2022-04-15T20:10:13.554487Z",
     "iopub.status.idle": "2022-04-15T20:10:13.566083Z",
     "shell.execute_reply": "2022-04-15T20:10:13.565686Z"
    },
    "papermill": {
     "duration": 0.043271,
     "end_time": "2022-04-15T20:10:13.566181",
     "exception": false,
     "start_time": "2022-04-15T20:10:13.522910",
     "status": "completed"
    },
    "tags": []
   },
   "outputs": [],
   "source": [
    "lr_learner = Learner(loss, model_lr, opt, config.num_epochs)\n",
    "acc_lr = ClfCallback(lr_learner, config.bs, training_data_x , testing_data_x, training_data_y, testing_data_y)\n",
    "lr_learner.set_callbacks([acc_lr])"
   ]
  },
  {
   "cell_type": "code",
   "execution_count": 22,
   "id": "d9b133c3",
   "metadata": {
    "execution": {
     "iopub.execute_input": "2022-04-15T20:10:13.626780Z",
     "iopub.status.busy": "2022-04-15T20:10:13.626280Z",
     "iopub.status.idle": "2022-04-15T20:13:09.251438Z",
     "shell.execute_reply": "2022-04-15T20:13:09.251852Z"
    },
    "papermill": {
     "duration": 175.65725,
     "end_time": "2022-04-15T20:13:09.251977",
     "exception": false,
     "start_time": "2022-04-15T20:10:13.594727",
     "status": "completed"
    },
    "tags": []
   },
   "outputs": [
    {
     "name": "stdout",
     "output_type": "stream",
     "text": [
      "Epoch 0, Loss 0.2481\n",
      "Training Accuracy: 0.5625, Testing Accuracy: 0.5494\n",
      "\n"
     ]
    },
    {
     "name": "stdout",
     "output_type": "stream",
     "text": [
      "Epoch 10, Loss 0.1979\n",
      "Training Accuracy: 0.8826, Testing Accuracy: 0.8881\n",
      "\n"
     ]
    },
    {
     "name": "stdout",
     "output_type": "stream",
     "text": [
      "Epoch 20, Loss 0.0964\n",
      "Training Accuracy: 0.9200, Testing Accuracy: 0.9294\n",
      "\n"
     ]
    },
    {
     "name": "stdout",
     "output_type": "stream",
     "text": [
      "Epoch 30, Loss 0.0588\n",
      "Training Accuracy: 0.9404, Testing Accuracy: 0.9501\n",
      "\n"
     ]
    },
    {
     "name": "stdout",
     "output_type": "stream",
     "text": [
      "Epoch 40, Loss 0.0451\n",
      "Training Accuracy: 0.9518, Testing Accuracy: 0.9637\n",
      "\n"
     ]
    },
    {
     "name": "stdout",
     "output_type": "stream",
     "text": [
      "Epoch 50, Loss 0.0385\n",
      "Training Accuracy: 0.9577, Testing Accuracy: 0.9672\n",
      "\n"
     ]
    },
    {
     "name": "stdout",
     "output_type": "stream",
     "text": [
      "Epoch 60, Loss 0.0346\n",
      "Training Accuracy: 0.9606, Testing Accuracy: 0.9693\n",
      "\n"
     ]
    },
    {
     "name": "stdout",
     "output_type": "stream",
     "text": [
      "Epoch 70, Loss 0.0319\n",
      "Training Accuracy: 0.9639, Testing Accuracy: 0.9723\n",
      "\n"
     ]
    },
    {
     "name": "stdout",
     "output_type": "stream",
     "text": [
      "Epoch 80, Loss 0.03\n",
      "Training Accuracy: 0.9664, Testing Accuracy: 0.9728\n",
      "\n"
     ]
    },
    {
     "name": "stdout",
     "output_type": "stream",
     "text": [
      "Epoch 90, Loss 0.0284\n",
      "Training Accuracy: 0.9685, Testing Accuracy: 0.9733\n",
      "\n"
     ]
    },
    {
     "name": "stdout",
     "output_type": "stream",
     "text": [
      "Epoch 100, Loss 0.0272\n",
      "Training Accuracy: 0.9693, Testing Accuracy: 0.9738\n",
      "\n"
     ]
    },
    {
     "name": "stdout",
     "output_type": "stream",
     "text": [
      "Epoch 110, Loss 0.0261\n",
      "Training Accuracy: 0.9703, Testing Accuracy: 0.9748\n",
      "\n"
     ]
    },
    {
     "name": "stdout",
     "output_type": "stream",
     "text": [
      "Epoch 120, Loss 0.0252\n",
      "Training Accuracy: 0.9715, Testing Accuracy: 0.9748\n",
      "\n"
     ]
    },
    {
     "name": "stdout",
     "output_type": "stream",
     "text": [
      "Epoch 130, Loss 0.0243\n",
      "Training Accuracy: 0.9720, Testing Accuracy: 0.9748\n",
      "\n"
     ]
    },
    {
     "name": "stdout",
     "output_type": "stream",
     "text": [
      "Epoch 140, Loss 0.0236\n",
      "Training Accuracy: 0.9726, Testing Accuracy: 0.9748\n",
      "\n"
     ]
    },
    {
     "name": "stdout",
     "output_type": "stream",
     "text": [
      "Epoch 150, Loss 0.0229\n",
      "Training Accuracy: 0.9739, Testing Accuracy: 0.9748\n",
      "\n"
     ]
    },
    {
     "name": "stdout",
     "output_type": "stream",
     "text": [
      "Epoch 160, Loss 0.0223\n",
      "Training Accuracy: 0.9750, Testing Accuracy: 0.9753\n",
      "\n"
     ]
    },
    {
     "name": "stdout",
     "output_type": "stream",
     "text": [
      "Epoch 170, Loss 0.0217\n",
      "Training Accuracy: 0.9755, Testing Accuracy: 0.9753\n",
      "\n"
     ]
    },
    {
     "name": "stdout",
     "output_type": "stream",
     "text": [
      "Epoch 180, Loss 0.0212\n",
      "Training Accuracy: 0.9757, Testing Accuracy: 0.9758\n",
      "\n"
     ]
    },
    {
     "name": "stdout",
     "output_type": "stream",
     "text": [
      "Epoch 190, Loss 0.0207\n",
      "Training Accuracy: 0.9765, Testing Accuracy: 0.9763\n",
      "\n"
     ]
    },
    {
     "name": "stdout",
     "output_type": "stream",
     "text": [
      "Epoch 200, Loss 0.0203\n",
      "Training Accuracy: 0.9771, Testing Accuracy: 0.9758\n",
      "\n"
     ]
    },
    {
     "name": "stdout",
     "output_type": "stream",
     "text": [
      "Epoch 210, Loss 0.0198\n",
      "Training Accuracy: 0.9780, Testing Accuracy: 0.9758\n",
      "\n"
     ]
    },
    {
     "name": "stdout",
     "output_type": "stream",
     "text": [
      "Epoch 220, Loss 0.0194\n",
      "Training Accuracy: 0.9786, Testing Accuracy: 0.9758\n",
      "\n"
     ]
    },
    {
     "name": "stdout",
     "output_type": "stream",
     "text": [
      "Epoch 230, Loss 0.019\n",
      "Training Accuracy: 0.9791, Testing Accuracy: 0.9758\n",
      "\n"
     ]
    },
    {
     "name": "stdout",
     "output_type": "stream",
     "text": [
      "Epoch 240, Loss 0.0186\n",
      "Training Accuracy: 0.9799, Testing Accuracy: 0.9758\n",
      "\n"
     ]
    },
    {
     "data": {
      "text/plain": [
       "0.026897365967856524"
      ]
     },
     "execution_count": 22,
     "metadata": {},
     "output_type": "execute_result"
    }
   ],
   "source": [
    "nn_learner.train_loop(dl)"
   ]
  },
  {
   "cell_type": "code",
   "execution_count": 23,
   "id": "e0163366",
   "metadata": {
    "execution": {
     "iopub.execute_input": "2022-04-15T20:13:09.329241Z",
     "iopub.status.busy": "2022-04-15T20:13:09.327247Z",
     "iopub.status.idle": "2022-04-15T20:13:21.745540Z",
     "shell.execute_reply": "2022-04-15T20:13:21.745108Z"
    },
    "papermill": {
     "duration": 12.457773,
     "end_time": "2022-04-15T20:13:21.745647",
     "exception": false,
     "start_time": "2022-04-15T20:13:09.287874",
     "status": "completed"
    },
    "tags": []
   },
   "outputs": [
    {
     "name": "stdout",
     "output_type": "stream",
     "text": [
      "Epoch 0, Loss 0.2074\n",
      "Training Accuracy: 0.7941, Testing Accuracy: 0.8246\n",
      "\n"
     ]
    },
    {
     "name": "stdout",
     "output_type": "stream",
     "text": [
      "Epoch 10, Loss 0.0994\n",
      "Training Accuracy: 0.9125, Testing Accuracy: 0.9204\n",
      "\n"
     ]
    },
    {
     "name": "stdout",
     "output_type": "stream",
     "text": [
      "Epoch 20, Loss 0.0782\n",
      "Training Accuracy: 0.9279, Testing Accuracy: 0.9370\n",
      "\n"
     ]
    },
    {
     "name": "stdout",
     "output_type": "stream",
     "text": [
      "Epoch 30, Loss 0.068\n",
      "Training Accuracy: 0.9348, Testing Accuracy: 0.9461\n",
      "\n"
     ]
    },
    {
     "name": "stdout",
     "output_type": "stream",
     "text": [
      "Epoch 40, Loss 0.0618\n",
      "Training Accuracy: 0.9398, Testing Accuracy: 0.9491\n",
      "\n"
     ]
    },
    {
     "name": "stdout",
     "output_type": "stream",
     "text": [
      "Epoch 50, Loss 0.0575\n",
      "Training Accuracy: 0.9433, Testing Accuracy: 0.9531\n",
      "\n"
     ]
    },
    {
     "name": "stdout",
     "output_type": "stream",
     "text": [
      "Epoch 60, Loss 0.0543\n",
      "Training Accuracy: 0.9460, Testing Accuracy: 0.9567\n",
      "\n"
     ]
    },
    {
     "name": "stdout",
     "output_type": "stream",
     "text": [
      "Epoch 70, Loss 0.0518\n",
      "Training Accuracy: 0.9477, Testing Accuracy: 0.9577\n",
      "\n"
     ]
    },
    {
     "name": "stdout",
     "output_type": "stream",
     "text": [
      "Epoch 80, Loss 0.0497\n",
      "Training Accuracy: 0.9493, Testing Accuracy: 0.9602\n",
      "\n"
     ]
    },
    {
     "name": "stdout",
     "output_type": "stream",
     "text": [
      "Epoch 90, Loss 0.0481\n",
      "Training Accuracy: 0.9508, Testing Accuracy: 0.9612\n",
      "\n"
     ]
    },
    {
     "name": "stdout",
     "output_type": "stream",
     "text": [
      "Epoch 100, Loss 0.0466\n",
      "Training Accuracy: 0.9522, Testing Accuracy: 0.9617\n",
      "\n"
     ]
    },
    {
     "name": "stdout",
     "output_type": "stream",
     "text": [
      "Epoch 110, Loss 0.0454\n",
      "Training Accuracy: 0.9532, Testing Accuracy: 0.9627\n",
      "\n"
     ]
    },
    {
     "name": "stdout",
     "output_type": "stream",
     "text": [
      "Epoch 120, Loss 0.0444\n",
      "Training Accuracy: 0.9535, Testing Accuracy: 0.9632\n",
      "\n"
     ]
    },
    {
     "name": "stdout",
     "output_type": "stream",
     "text": [
      "Epoch 130, Loss 0.0434\n",
      "Training Accuracy: 0.9544, Testing Accuracy: 0.9637\n",
      "\n"
     ]
    },
    {
     "name": "stdout",
     "output_type": "stream",
     "text": [
      "Epoch 140, Loss 0.0426\n",
      "Training Accuracy: 0.9552, Testing Accuracy: 0.9637\n",
      "\n"
     ]
    },
    {
     "name": "stdout",
     "output_type": "stream",
     "text": [
      "Epoch 150, Loss 0.0418\n",
      "Training Accuracy: 0.9557, Testing Accuracy: 0.9632\n",
      "\n"
     ]
    },
    {
     "name": "stdout",
     "output_type": "stream",
     "text": [
      "Epoch 160, Loss 0.0411\n",
      "Training Accuracy: 0.9568, Testing Accuracy: 0.9637\n",
      "\n"
     ]
    },
    {
     "name": "stdout",
     "output_type": "stream",
     "text": [
      "Epoch 170, Loss 0.0405\n",
      "Training Accuracy: 0.9574, Testing Accuracy: 0.9637\n",
      "\n"
     ]
    },
    {
     "name": "stdout",
     "output_type": "stream",
     "text": [
      "Epoch 180, Loss 0.04\n",
      "Training Accuracy: 0.9579, Testing Accuracy: 0.9642\n",
      "\n"
     ]
    },
    {
     "name": "stdout",
     "output_type": "stream",
     "text": [
      "Epoch 190, Loss 0.0394\n",
      "Training Accuracy: 0.9582, Testing Accuracy: 0.9642\n",
      "\n"
     ]
    },
    {
     "name": "stdout",
     "output_type": "stream",
     "text": [
      "Epoch 200, Loss 0.0389\n",
      "Training Accuracy: 0.9588, Testing Accuracy: 0.9637\n",
      "\n"
     ]
    },
    {
     "name": "stdout",
     "output_type": "stream",
     "text": [
      "Epoch 210, Loss 0.0385\n",
      "Training Accuracy: 0.9591, Testing Accuracy: 0.9637\n",
      "\n"
     ]
    },
    {
     "name": "stdout",
     "output_type": "stream",
     "text": [
      "Epoch 220, Loss 0.0381\n",
      "Training Accuracy: 0.9594, Testing Accuracy: 0.9637\n",
      "\n"
     ]
    },
    {
     "name": "stdout",
     "output_type": "stream",
     "text": [
      "Epoch 230, Loss 0.0377\n",
      "Training Accuracy: 0.9595, Testing Accuracy: 0.9632\n",
      "\n"
     ]
    },
    {
     "name": "stdout",
     "output_type": "stream",
     "text": [
      "Epoch 240, Loss 0.0373\n",
      "Training Accuracy: 0.9597, Testing Accuracy: 0.9637\n",
      "\n"
     ]
    },
    {
     "data": {
      "text/plain": [
       "0.0987022635756564"
      ]
     },
     "execution_count": 23,
     "metadata": {},
     "output_type": "execute_result"
    }
   ],
   "source": [
    "lr_learner.train_loop(dl)"
   ]
  },
  {
   "cell_type": "code",
   "execution_count": 24,
   "id": "ca410940",
   "metadata": {
    "execution": {
     "iopub.execute_input": "2022-04-15T20:13:21.838421Z",
     "iopub.status.busy": "2022-04-15T20:13:21.837602Z",
     "iopub.status.idle": "2022-04-15T20:13:22.059021Z",
     "shell.execute_reply": "2022-04-15T20:13:22.058574Z"
    },
    "papermill": {
     "duration": 0.270897,
     "end_time": "2022-04-15T20:13:22.059129",
     "exception": false,
     "start_time": "2022-04-15T20:13:21.788232",
     "status": "completed"
    },
    "tags": []
   },
   "outputs": [
    {
     "data": {
      "text/plain": [
       "<matplotlib.legend.Legend at 0x7f0782103a90>"
      ]
     },
     "execution_count": 24,
     "metadata": {},
     "output_type": "execute_result"
    },
    {
     "data": {
      "image/png": "[encoded data removed]",
      "text/plain": [
       "<Figure size 1080x720 with 1 Axes>"
      ]
     },
     "metadata": {
      "needs_background": "light"
     },
     "output_type": "display_data"
    }
   ],
   "source": [
    "#comparing the results of NN and LR\n",
    "plt.figure(figsize=(15,10))\n",
    "\n",
    "# Neural Network plots\n",
    "plt.plot(acc_nn.accuracies, 'r-', label = \"Training Accuracies - NN\")\n",
    "plt.plot(acc_nn.test_accuracies, 'g-', label = \"Testing Accuracies - NN\")\n",
    "\n",
    "# Logistic Regression plots\n",
    "plt.plot(acc_lr.accuracies, 'k-', label = \"Training Accuracies - LR\")\n",
    "plt.plot(acc_lr.test_accuracies, 'b-', label = \"Testing Accuracies - LR\")\n",
    "plt.legend()"
   ]
  },
  {
   "cell_type": "markdown",
   "id": "80dfb35c",
   "metadata": {
    "papermill": {
     "duration": 0.044155,
     "end_time": "2022-04-15T20:13:22.147702",
     "exception": false,
     "start_time": "2022-04-15T20:13:22.103547",
     "status": "completed"
    },
    "tags": []
   },
   "source": [
    "#### Plotting the outputs of this layer of the NN.\n"
   ]
  },
  {
   "cell_type": "code",
   "execution_count": 25,
   "id": "45eb2ff5",
   "metadata": {
    "execution": {
     "iopub.execute_input": "2022-04-15T20:13:22.240015Z",
     "iopub.status.busy": "2022-04-15T20:13:22.238350Z",
     "iopub.status.idle": "2022-04-15T20:13:22.273569Z",
     "shell.execute_reply": "2022-04-15T20:13:22.274263Z"
    },
    "papermill": {
     "duration": 0.082839,
     "end_time": "2022-04-15T20:13:22.274395",
     "exception": false,
     "start_time": "2022-04-15T20:13:22.191556",
     "status": "completed"
    },
    "tags": []
   },
   "outputs": [],
   "source": [
    "new_model = Model(layers[:-2])\n",
    "testing_plot = new_model(testing_data_x)"
   ]
  },
  {
   "cell_type": "code",
   "execution_count": 26,
   "id": "4c0a5485",
   "metadata": {
    "execution": {
     "iopub.execute_input": "2022-04-15T20:13:22.370561Z",
     "iopub.status.busy": "2022-04-15T20:13:22.369486Z",
     "iopub.status.idle": "2022-04-15T20:13:22.602491Z",
     "shell.execute_reply": "2022-04-15T20:13:22.602072Z"
    },
    "papermill": {
     "duration": 0.284045,
     "end_time": "2022-04-15T20:13:22.602597",
     "exception": false,
     "start_time": "2022-04-15T20:13:22.318552",
     "status": "completed"
    },
    "tags": []
   },
   "outputs": [
    {
     "data": {
      "text/plain": [
       "Text(0.5, 1.0, 'Outputs')"
      ]
     },
     "execution_count": 26,
     "metadata": {},
     "output_type": "execute_result"
    },
    {
     "data": {
      "image/png": "[encoded data removed]",
      "text/plain": [
       "<Figure size 576x504 with 1 Axes>"
      ]
     },
     "metadata": {
      "needs_background": "light"
     },
     "output_type": "display_data"
    }
   ],
   "source": [
    "# Plotting the scatter plot of points and color coding by class\n",
    "plt.figure(figsize=(8,7))\n",
    "plt.scatter(testing_plot[:,0], testing_plot[:,1], alpha = 0.1, c = y_test.ravel());\n",
    "plt.title('Outputs')"
   ]
  },
  {
   "cell_type": "markdown",
   "id": "a74fcf8f",
   "metadata": {
    "papermill": {
     "duration": 0.066517,
     "end_time": "2022-04-15T20:13:22.716192",
     "exception": false,
     "start_time": "2022-04-15T20:13:22.649675",
     "status": "completed"
    },
    "tags": []
   },
   "source": [
    "Probability contours"
   ]
  },
  {
   "cell_type": "code",
   "execution_count": 27,
   "id": "d0afc8e3",
   "metadata": {
    "execution": {
     "iopub.execute_input": "2022-04-15T20:13:22.813750Z",
     "iopub.status.busy": "2022-04-15T20:13:22.813230Z",
     "iopub.status.idle": "2022-04-15T20:13:22.824752Z",
     "shell.execute_reply": "2022-04-15T20:13:22.824360Z"
    },
    "papermill": {
     "duration": 0.061338,
     "end_time": "2022-04-15T20:13:22.824848",
     "exception": false,
     "start_time": "2022-04-15T20:13:22.763510",
     "status": "completed"
    },
    "tags": []
   },
   "outputs": [],
   "source": [
    "model_prob = Model(layers[-2:]) "
   ]
  },
  {
   "cell_type": "code",
   "execution_count": 28,
   "id": "9b96e238",
   "metadata": {
    "execution": {
     "iopub.execute_input": "2022-04-15T20:13:22.922617Z",
     "iopub.status.busy": "2022-04-15T20:13:22.922110Z",
     "iopub.status.idle": "2022-04-15T20:13:22.935358Z",
     "shell.execute_reply": "2022-04-15T20:13:22.934949Z"
    },
    "papermill": {
     "duration": 0.063632,
     "end_time": "2022-04-15T20:13:22.935458",
     "exception": false,
     "start_time": "2022-04-15T20:13:22.871826",
     "status": "completed"
    },
    "tags": []
   },
   "outputs": [],
   "source": [
    "#creating the x and y ranges according to the above generated plot.\n",
    "x_range = np.linspace(-4, 1, 100) \n",
    "y_range = np.linspace(-6, 6, 100) \n",
    "x_grid, y_grid = np.meshgrid(x_range, y_range) # x_grid and y_grig are of size 100 X 100\n",
    "\n",
    "# converting x_grid and y_grid to continuous arrays\n",
    "x_gridflat = np.ravel(x_grid)\n",
    "y_gridflat = np.ravel(y_grid)\n",
    "\n",
    "# The last layer of the current model takes two columns as input. Hence transpose of np.vstack() is required.\n",
    "X = np.vstack((x_gridflat, y_gridflat)).T\n",
    "\n",
    "prob_contour = model_prob(X).reshape(100,100) "
   ]
  },
  {
   "cell_type": "code",
   "execution_count": 29,
   "id": "da72499a",
   "metadata": {
    "execution": {
     "iopub.execute_input": "2022-04-15T20:13:23.036918Z",
     "iopub.status.busy": "2022-04-15T20:13:23.033199Z",
     "iopub.status.idle": "2022-04-15T20:13:23.285867Z",
     "shell.execute_reply": "2022-04-15T20:13:23.285460Z"
    },
    "papermill": {
     "duration": 0.302792,
     "end_time": "2022-04-15T20:13:23.285974",
     "exception": false,
     "start_time": "2022-04-15T20:13:22.983182",
     "status": "completed"
    },
    "tags": []
   },
   "outputs": [
    {
     "data": {
      "image/png": "[encoded data removed]",
      "text/plain": [
       "<Figure size 720x648 with 1 Axes>"
      ]
     },
     "metadata": {
      "needs_background": "light"
     },
     "output_type": "display_data"
    }
   ],
   "source": [
    "plt.figure(figsize=(10,9))\n",
    "plt.scatter(testing_plot[:,0], testing_plot[:,1], alpha = 0.1, c = y_test.ravel())\n",
    "contours = plt.contour(x_grid,y_grid,prob_contour)\n",
    "plt.title('Probability Contours')\n",
    "plt.clabel(contours, inline = True );"
   ]
  },
  {
   "cell_type": "code",
   "execution_count": null,
   "id": "e81b4ac7",
   "metadata": {
    "papermill": {
     "duration": 0.049617,
     "end_time": "2022-04-15T20:13:23.385719",
     "exception": false,
     "start_time": "2022-04-15T20:13:23.336102",
     "status": "completed"
    },
    "tags": []
   },
   "outputs": [],
   "source": []
  }
 ],
 "metadata": {
  "kernelspec": {
   "display_name": "Python 3",
   "language": "python",
   "name": "python3"
  },
  "language_info": {
   "codemirror_mode": {
    "name": "ipython",
    "version": 3
   },
   "file_extension": ".py",
   "mimetype": "text/x-python",
   "name": "python",
   "nbconvert_exporter": "python",
   "pygments_lexer": "ipython3",
   "version": "3.6.15"
  },
  "papermill": {
   "default_parameters": {},
   "duration": 196.349427,
   "end_time": "2022-04-15T20:13:23.752138",
   "environment_variables": {},
   "exception": null,
   "input_path": "2020-08-11-part2.ipynb",
   "output_path": "2020-08-11-part2.ipynb",
   "parameters": {},
   "start_time": "2022-04-15T20:10:07.402711",
   "version": "2.3.3"
  }
 },
 "nbformat": 4,
 "nbformat_minor": 5
}