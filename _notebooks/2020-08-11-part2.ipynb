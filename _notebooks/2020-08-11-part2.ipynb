{
 "cells": [
  {
   "cell_type": "markdown",
   "id": "98380cd3",
   "metadata": {
    "papermill": {
     "duration": 0.036197,
     "end_time": "2022-09-10T10:11:01.026727",
     "exception": false,
     "start_time": "2022-09-10T10:11:00.990530",
     "status": "completed"
    },
    "tags": []
   },
   "source": [
    "# Distinguish Your Own Digits (DYOD)"
   ]
  },
  {
   "cell_type": "markdown",
   "id": "ef31240d",
   "metadata": {
    "papermill": {
     "duration": 0.026537,
     "end_time": "2022-09-10T10:11:01.080547",
     "exception": false,
     "start_time": "2022-09-10T10:11:01.054010",
     "status": "completed"
    },
    "tags": []
   },
   "source": [
    "You are going to write a classifier that distinguishes between the number 3 and number 8."
   ]
  },
  {
   "cell_type": "code",
   "execution_count": 1,
   "id": "b15c8646",
   "metadata": {
    "execution": {
     "iopub.execute_input": "2022-09-10T10:11:01.148305Z",
     "iopub.status.busy": "2022-09-10T10:11:01.147530Z",
     "iopub.status.idle": "2022-09-10T10:11:01.160443Z",
     "shell.execute_reply": "2022-09-10T10:11:01.159826Z"
    },
    "papermill": {
     "duration": 0.05415,
     "end_time": "2022-09-10T10:11:01.160591",
     "exception": false,
     "start_time": "2022-09-10T10:11:01.106441",
     "status": "completed"
    },
    "tags": []
   },
   "outputs": [],
   "source": [
    "%load_ext autoreload\n",
    "%autoreload 2"
   ]
  },
  {
   "cell_type": "code",
   "execution_count": 2,
   "id": "22ef38dc",
   "metadata": {
    "execution": {
     "iopub.execute_input": "2022-09-10T10:11:01.221025Z",
     "iopub.status.busy": "2022-09-10T10:11:01.220317Z",
     "iopub.status.idle": "2022-09-10T10:11:01.828466Z",
     "shell.execute_reply": "2022-09-10T10:11:01.827370Z"
    },
    "papermill": {
     "duration": 0.640966,
     "end_time": "2022-09-10T10:11:01.828697",
     "exception": false,
     "start_time": "2022-09-10T10:11:01.187731",
     "status": "completed"
    },
    "tags": []
   },
   "outputs": [],
   "source": [
    "%matplotlib inline\n",
    "import numpy as np\n",
    "import matplotlib.pyplot as plt\n",
    "import pandas as pd"
   ]
  },
  {
   "cell_type": "markdown",
   "id": "ba036198",
   "metadata": {
    "papermill": {
     "duration": 0.026718,
     "end_time": "2022-09-10T10:11:01.883525",
     "exception": false,
     "start_time": "2022-09-10T10:11:01.856807",
     "status": "completed"
    },
    "tags": []
   },
   "source": [
    "From the command line run `pip install mnist`. This is a library that will help you bring down the mnist dataset. If you run this from a notebook, you need to put  `!pip install mnist` in a cell by itself."
   ]
  },
  {
   "cell_type": "code",
   "execution_count": 3,
   "id": "bb6ad8a1",
   "metadata": {
    "execution": {
     "iopub.execute_input": "2022-09-10T10:11:01.948552Z",
     "iopub.status.busy": "2022-09-10T10:11:01.946083Z",
     "iopub.status.idle": "2022-09-10T10:11:03.739036Z",
     "shell.execute_reply": "2022-09-10T10:11:03.737431Z"
    },
    "papermill": {
     "duration": 1.829,
     "end_time": "2022-09-10T10:11:03.739257",
     "exception": false,
     "start_time": "2022-09-10T10:11:01.910257",
     "status": "completed"
    },
    "tags": []
   },
   "outputs": [
    {
     "name": "stdout",
     "output_type": "stream",
     "text": [
      "Collecting mnist\r\n"
     ]
    },
    {
     "name": "stdout",
     "output_type": "stream",
     "text": [
      "  Downloading mnist-0.2.2-py2.py3-none-any.whl (3.5 kB)\r\n",
      "Requirement already satisfied: numpy in /opt/hostedtoolcache/Python/3.6.15/x64/lib/python3.6/site-packages (from mnist) (1.19.5)\r\n"
     ]
    },
    {
     "name": "stdout",
     "output_type": "stream",
     "text": [
      "Installing collected packages: mnist\r\n",
      "Successfully installed mnist-0.2.2\r\n"
     ]
    }
   ],
   "source": [
    "!pip install mnist"
   ]
  },
  {
   "cell_type": "markdown",
   "id": "69df9c9a",
   "metadata": {
    "papermill": {
     "duration": 0.027673,
     "end_time": "2022-09-10T10:11:03.793748",
     "exception": false,
     "start_time": "2022-09-10T10:11:03.766075",
     "status": "completed"
    },
    "tags": []
   },
   "source": [
    "## Preparing the Data"
   ]
  },
  {
   "cell_type": "code",
   "execution_count": 4,
   "id": "7f69d806",
   "metadata": {
    "execution": {
     "iopub.execute_input": "2022-09-10T10:11:03.860716Z",
     "iopub.status.busy": "2022-09-10T10:11:03.852251Z",
     "iopub.status.idle": "2022-09-10T10:11:03.870957Z",
     "shell.execute_reply": "2022-09-10T10:11:03.871482Z"
    },
    "papermill": {
     "duration": 0.050739,
     "end_time": "2022-09-10T10:11:03.871636",
     "exception": false,
     "start_time": "2022-09-10T10:11:03.820897",
     "status": "completed"
    },
    "tags": []
   },
   "outputs": [],
   "source": [
    "import mnist"
   ]
  },
  {
   "cell_type": "code",
   "execution_count": 5,
   "id": "a411e44f",
   "metadata": {
    "execution": {
     "iopub.execute_input": "2022-09-10T10:11:03.933365Z",
     "iopub.status.busy": "2022-09-10T10:11:03.932689Z",
     "iopub.status.idle": "2022-09-10T10:11:04.560861Z",
     "shell.execute_reply": "2022-09-10T10:11:04.561766Z"
    },
    "papermill": {
     "duration": 0.66318,
     "end_time": "2022-09-10T10:11:04.562024",
     "exception": false,
     "start_time": "2022-09-10T10:11:03.898844",
     "status": "completed"
    },
    "tags": []
   },
   "outputs": [],
   "source": [
    "train_images = mnist.train_images()\n",
    "train_labels = mnist.train_labels()"
   ]
  },
  {
   "cell_type": "code",
   "execution_count": 6,
   "id": "dceab3a5",
   "metadata": {
    "execution": {
     "iopub.execute_input": "2022-09-10T10:11:04.622531Z",
     "iopub.status.busy": "2022-09-10T10:11:04.621237Z",
     "iopub.status.idle": "2022-09-10T10:11:04.640028Z",
     "shell.execute_reply": "2022-09-10T10:11:04.639448Z"
    },
    "papermill": {
     "duration": 0.050252,
     "end_time": "2022-09-10T10:11:04.640158",
     "exception": false,
     "start_time": "2022-09-10T10:11:04.589906",
     "status": "completed"
    },
    "tags": []
   },
   "outputs": [
    {
     "data": {
      "text/plain": [
       "((60000, 28, 28), (60000,))"
      ]
     },
     "execution_count": 6,
     "metadata": {},
     "output_type": "execute_result"
    }
   ],
   "source": [
    "train_images.shape, train_labels.shape"
   ]
  },
  {
   "cell_type": "code",
   "execution_count": 7,
   "id": "f50dc2bb",
   "metadata": {
    "execution": {
     "iopub.execute_input": "2022-09-10T10:11:04.712918Z",
     "iopub.status.busy": "2022-09-10T10:11:04.705460Z",
     "iopub.status.idle": "2022-09-10T10:11:04.867688Z",
     "shell.execute_reply": "2022-09-10T10:11:04.866362Z"
    },
    "papermill": {
     "duration": 0.199808,
     "end_time": "2022-09-10T10:11:04.867825",
     "exception": false,
     "start_time": "2022-09-10T10:11:04.668017",
     "status": "completed"
    },
    "tags": []
   },
   "outputs": [],
   "source": [
    "test_images = mnist.test_images()\n",
    "test_labels = mnist.test_labels()"
   ]
  },
  {
   "cell_type": "code",
   "execution_count": 8,
   "id": "fc38cf1b",
   "metadata": {
    "execution": {
     "iopub.execute_input": "2022-09-10T10:11:04.928371Z",
     "iopub.status.busy": "2022-09-10T10:11:04.927640Z",
     "iopub.status.idle": "2022-09-10T10:11:04.945500Z",
     "shell.execute_reply": "2022-09-10T10:11:04.945995Z"
    },
    "papermill": {
     "duration": 0.050136,
     "end_time": "2022-09-10T10:11:04.946150",
     "exception": false,
     "start_time": "2022-09-10T10:11:04.896014",
     "status": "completed"
    },
    "tags": []
   },
   "outputs": [
    {
     "data": {
      "text/plain": [
       "((10000, 28, 28), (10000,))"
      ]
     },
     "execution_count": 8,
     "metadata": {},
     "output_type": "execute_result"
    }
   ],
   "source": [
    "test_images.shape, test_labels.shape"
   ]
  },
  {
   "cell_type": "code",
   "execution_count": 9,
   "id": "f9ed8fe0",
   "metadata": {
    "execution": {
     "iopub.execute_input": "2022-09-10T10:11:05.007066Z",
     "iopub.status.busy": "2022-09-10T10:11:05.006392Z",
     "iopub.status.idle": "2022-09-10T10:11:05.171642Z",
     "shell.execute_reply": "2022-09-10T10:11:05.172194Z"
    },
    "papermill": {
     "duration": 0.198266,
     "end_time": "2022-09-10T10:11:05.172355",
     "exception": false,
     "start_time": "2022-09-10T10:11:04.974089",
     "status": "completed"
    },
    "tags": []
   },
   "outputs": [
    {
     "name": "stdout",
     "output_type": "stream",
     "text": [
      "2\n"
     ]
    },
    {
     "data": {
      "text/plain": [
       "<matplotlib.image.AxesImage at 0x7fa648377c18>"
      ]
     },
     "execution_count": 9,
     "metadata": {},
     "output_type": "execute_result"
    },
    {
     "data": {
      "image/png": "[encoded data removed]",
      "text/plain": [
       "<Figure size 432x288 with 1 Axes>"
      ]
     },
     "metadata": {
      "needs_background": "light"
     },
     "output_type": "display_data"
    }
   ],
   "source": [
    "image_index = 7776 # You may select anything up to 60,000\n",
    "print(train_labels[image_index]) \n",
    "plt.imshow(train_images[image_index], cmap='Greys')"
   ]
  },
  {
   "cell_type": "markdown",
   "id": "a8d2388d",
   "metadata": {
    "papermill": {
     "duration": 0.029715,
     "end_time": "2022-09-10T10:11:05.232281",
     "exception": false,
     "start_time": "2022-09-10T10:11:05.202566",
     "status": "completed"
    },
    "tags": []
   },
   "source": [
    "## Filter data to get 3 and 8 out"
   ]
  },
  {
   "cell_type": "code",
   "execution_count": 10,
   "id": "776f7fc7",
   "metadata": {
    "execution": {
     "iopub.execute_input": "2022-09-10T10:11:05.301732Z",
     "iopub.status.busy": "2022-09-10T10:11:05.300925Z",
     "iopub.status.idle": "2022-09-10T10:11:05.317066Z",
     "shell.execute_reply": "2022-09-10T10:11:05.316463Z"
    },
    "papermill": {
     "duration": 0.055169,
     "end_time": "2022-09-10T10:11:05.317200",
     "exception": false,
     "start_time": "2022-09-10T10:11:05.262031",
     "status": "completed"
    },
    "tags": []
   },
   "outputs": [],
   "source": [
    "train_filter = np.where((train_labels == 3 ) | (train_labels == 8))\n",
    "test_filter = np.where((test_labels == 3) | (test_labels == 8))\n",
    "X_train, y_train = train_images[train_filter], train_labels[train_filter]\n",
    "X_test, y_test = test_images[test_filter], test_labels[test_filter]"
   ]
  },
  {
   "cell_type": "markdown",
   "id": "948f0b7e",
   "metadata": {
    "papermill": {
     "duration": 0.029558,
     "end_time": "2022-09-10T10:11:05.376791",
     "exception": false,
     "start_time": "2022-09-10T10:11:05.347233",
     "status": "completed"
    },
    "tags": []
   },
   "source": [
    "We normalize the pizel values in the 0 to 1 range"
   ]
  },
  {
   "cell_type": "code",
   "execution_count": 11,
   "id": "ee4c2166",
   "metadata": {
    "execution": {
     "iopub.execute_input": "2022-09-10T10:11:05.440797Z",
     "iopub.status.busy": "2022-09-10T10:11:05.440092Z",
     "iopub.status.idle": "2022-09-10T10:11:05.491133Z",
     "shell.execute_reply": "2022-09-10T10:11:05.492071Z"
    },
    "papermill": {
     "duration": 0.086011,
     "end_time": "2022-09-10T10:11:05.492328",
     "exception": false,
     "start_time": "2022-09-10T10:11:05.406317",
     "status": "completed"
    },
    "tags": []
   },
   "outputs": [],
   "source": [
    "X_train = X_train/255.\n",
    "X_test = X_test/255."
   ]
  },
  {
   "cell_type": "markdown",
   "id": "ddcf4fab",
   "metadata": {
    "papermill": {
     "duration": 0.028862,
     "end_time": "2022-09-10T10:11:05.551737",
     "exception": false,
     "start_time": "2022-09-10T10:11:05.522875",
     "status": "completed"
    },
    "tags": []
   },
   "source": [
    "And setup the labels as 1 (when the digit is 3) and 0 (when the digit is 8)"
   ]
  },
  {
   "cell_type": "code",
   "execution_count": 12,
   "id": "7dc908f2",
   "metadata": {
    "execution": {
     "iopub.execute_input": "2022-09-10T10:11:05.615537Z",
     "iopub.status.busy": "2022-09-10T10:11:05.614839Z",
     "iopub.status.idle": "2022-09-10T10:11:05.630747Z",
     "shell.execute_reply": "2022-09-10T10:11:05.630175Z"
    },
    "papermill": {
     "duration": 0.049766,
     "end_time": "2022-09-10T10:11:05.630876",
     "exception": false,
     "start_time": "2022-09-10T10:11:05.581110",
     "status": "completed"
    },
    "tags": []
   },
   "outputs": [],
   "source": [
    "y_train = 1*(y_train==3)\n",
    "y_test = 1*(y_test==3)"
   ]
  },
  {
   "cell_type": "code",
   "execution_count": 13,
   "id": "01e4e969",
   "metadata": {
    "execution": {
     "iopub.execute_input": "2022-09-10T10:11:05.697064Z",
     "iopub.status.busy": "2022-09-10T10:11:05.696360Z",
     "iopub.status.idle": "2022-09-10T10:11:05.714308Z",
     "shell.execute_reply": "2022-09-10T10:11:05.713751Z"
    },
    "papermill": {
     "duration": 0.05367,
     "end_time": "2022-09-10T10:11:05.714437",
     "exception": false,
     "start_time": "2022-09-10T10:11:05.660767",
     "status": "completed"
    },
    "tags": []
   },
   "outputs": [
    {
     "data": {
      "text/plain": [
       "((11982, 28, 28), (1984, 28, 28))"
      ]
     },
     "execution_count": 13,
     "metadata": {},
     "output_type": "execute_result"
    }
   ],
   "source": [
    "X_train.shape, X_test.shape"
   ]
  },
  {
   "cell_type": "markdown",
   "id": "5ccf3f85",
   "metadata": {
    "papermill": {
     "duration": 0.029894,
     "end_time": "2022-09-10T10:11:05.774512",
     "exception": false,
     "start_time": "2022-09-10T10:11:05.744618",
     "status": "completed"
    },
    "tags": []
   },
   "source": [
    "We reshape the data to flatten the image pixels into a set of features or co-variates:"
   ]
  },
  {
   "cell_type": "code",
   "execution_count": 14,
   "id": "5286a4a3",
   "metadata": {
    "execution": {
     "iopub.execute_input": "2022-09-10T10:11:05.841880Z",
     "iopub.status.busy": "2022-09-10T10:11:05.841192Z",
     "iopub.status.idle": "2022-09-10T10:11:05.857288Z",
     "shell.execute_reply": "2022-09-10T10:11:05.856677Z"
    },
    "papermill": {
     "duration": 0.052743,
     "end_time": "2022-09-10T10:11:05.857431",
     "exception": false,
     "start_time": "2022-09-10T10:11:05.804688",
     "status": "completed"
    },
    "tags": []
   },
   "outputs": [
    {
     "data": {
      "text/plain": [
       "((11982, 784), (1984, 784))"
      ]
     },
     "execution_count": 14,
     "metadata": {},
     "output_type": "execute_result"
    }
   ],
   "source": [
    "X_train = X_train.reshape(X_train.shape[0], -1)\n",
    "X_test = X_test.reshape(X_test.shape[0], -1)\n",
    "X_train.shape, X_test.shape"
   ]
  },
  {
   "cell_type": "code",
   "execution_count": 15,
   "id": "73c5f88a",
   "metadata": {
    "execution": {
     "iopub.execute_input": "2022-09-10T10:11:05.923262Z",
     "iopub.status.busy": "2022-09-10T10:11:05.922574Z",
     "iopub.status.idle": "2022-09-10T10:11:05.947355Z",
     "shell.execute_reply": "2022-09-10T10:11:05.946778Z"
    },
    "papermill": {
     "duration": 0.059824,
     "end_time": "2022-09-10T10:11:05.947486",
     "exception": false,
     "start_time": "2022-09-10T10:11:05.887662",
     "status": "completed"
    },
    "tags": []
   },
   "outputs": [],
   "source": [
    "#Impoting functions from 'Kudzu'\n",
    "from kudzu.model import Model\n",
    "from kudzu.train import Learner\n",
    "from kudzu.optim import GD\n",
    "from kudzu.data import Data, Sampler,Dataloader\n",
    "\n",
    "from kudzu.callbacks import AccCallback\n",
    "from kudzu.callbacks import ClfCallback\n",
    "\n",
    "from kudzu.loss import MSE\n",
    "\n",
    "from kudzu.layer import Sigmoid,Relu\n",
    "from kudzu.layer import Affine"
   ]
  },
  {
   "cell_type": "markdown",
   "id": "bc01172a",
   "metadata": {
    "papermill": {
     "duration": 0.029503,
     "end_time": "2022-09-10T10:11:06.007460",
     "exception": false,
     "start_time": "2022-09-10T10:11:05.977957",
     "status": "completed"
    },
    "tags": []
   },
   "source": [
    "### Let us create a `Config` class, to store important parameters. \n",
    "This class essentially plays the role of a dictionary."
   ]
  },
  {
   "cell_type": "code",
   "execution_count": 16,
   "id": "978281aa",
   "metadata": {
    "execution": {
     "iopub.execute_input": "2022-09-10T10:11:06.075328Z",
     "iopub.status.busy": "2022-09-10T10:11:06.074629Z",
     "iopub.status.idle": "2022-09-10T10:11:06.088833Z",
     "shell.execute_reply": "2022-09-10T10:11:06.088272Z"
    },
    "papermill": {
     "duration": 0.05089,
     "end_time": "2022-09-10T10:11:06.088960",
     "exception": false,
     "start_time": "2022-09-10T10:11:06.038070",
     "status": "completed"
    },
    "tags": []
   },
   "outputs": [],
   "source": [
    "class Config:\n",
    "    pass\n",
    "config = Config()\n",
    "config.lr = 0.001\n",
    "config.num_epochs = 250\n",
    "config.bs = 50"
   ]
  },
  {
   "cell_type": "markdown",
   "id": "1385fa59",
   "metadata": {
    "papermill": {
     "duration": 0.030159,
     "end_time": "2022-09-10T10:11:06.149585",
     "exception": false,
     "start_time": "2022-09-10T10:11:06.119426",
     "status": "completed"
    },
    "tags": []
   },
   "source": [
    "### Running Models with the Training data\n",
    "Details about the network layers:\n",
    "- A first affine layer has 784 inputs and does 100 affine transforms. These are followed by a Relu\n",
    "- A second affine layer has 100 inputs from the 100 activations of the past layer, and does 100 affine transforms. These are followed by a Relu\n",
    "- A third affine layer has 100 activations and does 2 affine transformations to create an embedding for visualization. There is no non-linearity here.\n",
    "- A final \"logistic regression\" which has an affine transform from 2 inputs to 1 output, which is squeezed through a sigmoid.\n"
   ]
  },
  {
   "cell_type": "code",
   "execution_count": 17,
   "id": "2b9c66db",
   "metadata": {
    "execution": {
     "iopub.execute_input": "2022-09-10T10:11:06.215070Z",
     "iopub.status.busy": "2022-09-10T10:11:06.214372Z",
     "iopub.status.idle": "2022-09-10T10:11:06.229318Z",
     "shell.execute_reply": "2022-09-10T10:11:06.229837Z"
    },
    "papermill": {
     "duration": 0.050293,
     "end_time": "2022-09-10T10:11:06.229982",
     "exception": false,
     "start_time": "2022-09-10T10:11:06.179689",
     "status": "completed"
    },
    "tags": []
   },
   "outputs": [],
   "source": [
    "data = Data(X_train, y_train.reshape(-1,1))\n",
    "sampler = Sampler(data, config.bs, shuffle=True)\n",
    "\n",
    "dl = Dataloader(data, sampler)\n",
    "\n",
    "opt = GD(config.lr)\n",
    "loss = MSE()"
   ]
  },
  {
   "cell_type": "code",
   "execution_count": 18,
   "id": "b275e4c2",
   "metadata": {
    "execution": {
     "iopub.execute_input": "2022-09-10T10:11:06.294623Z",
     "iopub.status.busy": "2022-09-10T10:11:06.293941Z",
     "iopub.status.idle": "2022-09-10T10:11:06.309820Z",
     "shell.execute_reply": "2022-09-10T10:11:06.310494Z"
    },
    "papermill": {
     "duration": 0.050822,
     "end_time": "2022-09-10T10:11:06.310647",
     "exception": false,
     "start_time": "2022-09-10T10:11:06.259825",
     "status": "completed"
    },
    "tags": []
   },
   "outputs": [],
   "source": [
    "training_data_x = X_train\n",
    "testing_data_x = X_test\n",
    "training_data_y = y_train.reshape(-1,1)\n",
    "testing_data_y = y_test.reshape(-1,1)"
   ]
  },
  {
   "cell_type": "code",
   "execution_count": 19,
   "id": "76951160",
   "metadata": {
    "execution": {
     "iopub.execute_input": "2022-09-10T10:11:06.376220Z",
     "iopub.status.busy": "2022-09-10T10:11:06.375498Z",
     "iopub.status.idle": "2022-09-10T10:11:06.395092Z",
     "shell.execute_reply": "2022-09-10T10:11:06.394433Z"
    },
    "papermill": {
     "duration": 0.054566,
     "end_time": "2022-09-10T10:11:06.395218",
     "exception": false,
     "start_time": "2022-09-10T10:11:06.340652",
     "status": "completed"
    },
    "tags": []
   },
   "outputs": [
    {
     "name": "stdout",
     "output_type": "stream",
     "text": [
      "xavier\n",
      "xavier\n",
      "xavier\n",
      "xavier\n",
      "xavier\n"
     ]
    }
   ],
   "source": [
    "layers = [Affine(\"first\", 784, 100), Relu(\"first\"), Affine(\"second\", 100, 100), Relu(\"second\"), Affine(\"third\", 100, 2), Affine(\"last\", 2, 1), Sigmoid(\"last\")]\n",
    "model_nn = Model(layers)\n",
    "model_lr = Model([Affine(\"logits\", 784, 1), Sigmoid(\"sigmoid\")])"
   ]
  },
  {
   "cell_type": "code",
   "execution_count": 20,
   "id": "6eede77a",
   "metadata": {
    "execution": {
     "iopub.execute_input": "2022-09-10T10:11:06.461595Z",
     "iopub.status.busy": "2022-09-10T10:11:06.460890Z",
     "iopub.status.idle": "2022-09-10T10:11:06.475007Z",
     "shell.execute_reply": "2022-09-10T10:11:06.474334Z"
    },
    "papermill": {
     "duration": 0.049242,
     "end_time": "2022-09-10T10:11:06.475134",
     "exception": false,
     "start_time": "2022-09-10T10:11:06.425892",
     "status": "completed"
    },
    "tags": []
   },
   "outputs": [],
   "source": [
    "nn_learner = Learner(loss, model_nn, opt, config.num_epochs)\n",
    "acc_nn = ClfCallback(nn_learner, config.bs, training_data_x , testing_data_x, training_data_y, testing_data_y)\n",
    "nn_learner.set_callbacks([acc_nn])"
   ]
  },
  {
   "cell_type": "code",
   "execution_count": 21,
   "id": "877b6cc7",
   "metadata": {
    "execution": {
     "iopub.execute_input": "2022-09-10T10:11:06.553936Z",
     "iopub.status.busy": "2022-09-10T10:11:06.544665Z",
     "iopub.status.idle": "2022-09-10T10:11:06.556958Z",
     "shell.execute_reply": "2022-09-10T10:11:06.556409Z"
    },
    "papermill": {
     "duration": 0.051495,
     "end_time": "2022-09-10T10:11:06.557081",
     "exception": false,
     "start_time": "2022-09-10T10:11:06.505586",
     "status": "completed"
    },
    "tags": []
   },
   "outputs": [],
   "source": [
    "lr_learner = Learner(loss, model_lr, opt, config.num_epochs)\n",
    "acc_lr = ClfCallback(lr_learner, config.bs, training_data_x , testing_data_x, training_data_y, testing_data_y)\n",
    "lr_learner.set_callbacks([acc_lr])"
   ]
  },
  {
   "cell_type": "code",
   "execution_count": 22,
   "id": "d9b133c3",
   "metadata": {
    "execution": {
     "iopub.execute_input": "2022-09-10T10:11:06.624996Z",
     "iopub.status.busy": "2022-09-10T10:11:06.624275Z",
     "iopub.status.idle": "2022-09-10T10:12:36.104083Z",
     "shell.execute_reply": "2022-09-10T10:12:36.105082Z"
    },
    "papermill": {
     "duration": 89.517556,
     "end_time": "2022-09-10T10:12:36.105243",
     "exception": false,
     "start_time": "2022-09-10T10:11:06.587687",
     "status": "completed"
    },
    "tags": []
   },
   "outputs": [
    {
     "name": "stdout",
     "output_type": "stream",
     "text": [
      "Epoch 0, Loss 0.2346\n",
      "Training Accuracy: 0.6240, Testing Accuracy: 0.6356\n",
      "\n"
     ]
    },
    {
     "name": "stdout",
     "output_type": "stream",
     "text": [
      "Epoch 10, Loss 0.1168\n",
      "Training Accuracy: 0.9152, Testing Accuracy: 0.9234\n",
      "\n"
     ]
    },
    {
     "name": "stdout",
     "output_type": "stream",
     "text": [
      "Epoch 20, Loss 0.0649\n",
      "Training Accuracy: 0.9360, Testing Accuracy: 0.9471\n",
      "\n"
     ]
    },
    {
     "name": "stdout",
     "output_type": "stream",
     "text": [
      "Epoch 30, Loss 0.0485\n",
      "Training Accuracy: 0.9496, Testing Accuracy: 0.9597\n",
      "\n"
     ]
    },
    {
     "name": "stdout",
     "output_type": "stream",
     "text": [
      "Epoch 40, Loss 0.0409\n",
      "Training Accuracy: 0.9548, Testing Accuracy: 0.9632\n",
      "\n"
     ]
    },
    {
     "name": "stdout",
     "output_type": "stream",
     "text": [
      "Epoch 50, Loss 0.0365\n",
      "Training Accuracy: 0.9585, Testing Accuracy: 0.9652\n",
      "\n"
     ]
    },
    {
     "name": "stdout",
     "output_type": "stream",
     "text": [
      "Epoch 60, Loss 0.0337\n",
      "Training Accuracy: 0.9612, Testing Accuracy: 0.9657\n",
      "\n"
     ]
    },
    {
     "name": "stdout",
     "output_type": "stream",
     "text": [
      "Epoch 70, Loss 0.0316\n",
      "Training Accuracy: 0.9630, Testing Accuracy: 0.9672\n",
      "\n"
     ]
    },
    {
     "name": "stdout",
     "output_type": "stream",
     "text": [
      "Epoch 80, Loss 0.03\n",
      "Training Accuracy: 0.9646, Testing Accuracy: 0.9682\n",
      "\n"
     ]
    },
    {
     "name": "stdout",
     "output_type": "stream",
     "text": [
      "Epoch 90, Loss 0.0287\n",
      "Training Accuracy: 0.9660, Testing Accuracy: 0.9682\n",
      "\n"
     ]
    },
    {
     "name": "stdout",
     "output_type": "stream",
     "text": [
      "Epoch 100, Loss 0.0275\n",
      "Training Accuracy: 0.9675, Testing Accuracy: 0.9688\n",
      "\n"
     ]
    },
    {
     "name": "stdout",
     "output_type": "stream",
     "text": [
      "Epoch 110, Loss 0.0266\n",
      "Training Accuracy: 0.9688, Testing Accuracy: 0.9693\n",
      "\n"
     ]
    },
    {
     "name": "stdout",
     "output_type": "stream",
     "text": [
      "Epoch 120, Loss 0.0257\n",
      "Training Accuracy: 0.9702, Testing Accuracy: 0.9693\n",
      "\n"
     ]
    },
    {
     "name": "stdout",
     "output_type": "stream",
     "text": [
      "Epoch 130, Loss 0.025\n",
      "Training Accuracy: 0.9709, Testing Accuracy: 0.9693\n",
      "\n"
     ]
    },
    {
     "name": "stdout",
     "output_type": "stream",
     "text": [
      "Epoch 140, Loss 0.0243\n",
      "Training Accuracy: 0.9716, Testing Accuracy: 0.9693\n",
      "\n"
     ]
    },
    {
     "name": "stdout",
     "output_type": "stream",
     "text": [
      "Epoch 150, Loss 0.0237\n",
      "Training Accuracy: 0.9725, Testing Accuracy: 0.9693\n",
      "\n"
     ]
    },
    {
     "name": "stdout",
     "output_type": "stream",
     "text": [
      "Epoch 160, Loss 0.0231\n",
      "Training Accuracy: 0.9735, Testing Accuracy: 0.9713\n",
      "\n"
     ]
    },
    {
     "name": "stdout",
     "output_type": "stream",
     "text": [
      "Epoch 170, Loss 0.0226\n",
      "Training Accuracy: 0.9739, Testing Accuracy: 0.9723\n",
      "\n"
     ]
    },
    {
     "name": "stdout",
     "output_type": "stream",
     "text": [
      "Epoch 180, Loss 0.0221\n",
      "Training Accuracy: 0.9743, Testing Accuracy: 0.9723\n",
      "\n"
     ]
    },
    {
     "name": "stdout",
     "output_type": "stream",
     "text": [
      "Epoch 190, Loss 0.0216\n",
      "Training Accuracy: 0.9752, Testing Accuracy: 0.9728\n",
      "\n"
     ]
    },
    {
     "name": "stdout",
     "output_type": "stream",
     "text": [
      "Epoch 200, Loss 0.0211\n",
      "Training Accuracy: 0.9757, Testing Accuracy: 0.9723\n",
      "\n"
     ]
    },
    {
     "name": "stdout",
     "output_type": "stream",
     "text": [
      "Epoch 210, Loss 0.0207\n",
      "Training Accuracy: 0.9764, Testing Accuracy: 0.9728\n",
      "\n"
     ]
    },
    {
     "name": "stdout",
     "output_type": "stream",
     "text": [
      "Epoch 220, Loss 0.0203\n",
      "Training Accuracy: 0.9767, Testing Accuracy: 0.9728\n",
      "\n"
     ]
    },
    {
     "name": "stdout",
     "output_type": "stream",
     "text": [
      "Epoch 230, Loss 0.0199\n",
      "Training Accuracy: 0.9775, Testing Accuracy: 0.9728\n",
      "\n"
     ]
    },
    {
     "name": "stdout",
     "output_type": "stream",
     "text": [
      "Epoch 240, Loss 0.0196\n",
      "Training Accuracy: 0.9781, Testing Accuracy: 0.9728\n",
      "\n"
     ]
    },
    {
     "data": {
      "text/plain": [
       "0.0031376099441561894"
      ]
     },
     "execution_count": 22,
     "metadata": {},
     "output_type": "execute_result"
    }
   ],
   "source": [
    "nn_learner.train_loop(dl)"
   ]
  },
  {
   "cell_type": "code",
   "execution_count": 23,
   "id": "e0163366",
   "metadata": {
    "execution": {
     "iopub.execute_input": "2022-09-10T10:12:36.193679Z",
     "iopub.status.busy": "2022-09-10T10:12:36.192981Z",
     "iopub.status.idle": "2022-09-10T10:12:52.144667Z",
     "shell.execute_reply": "2022-09-10T10:12:52.145615Z"
    },
    "papermill": {
     "duration": 16.001419,
     "end_time": "2022-09-10T10:12:52.145773",
     "exception": false,
     "start_time": "2022-09-10T10:12:36.144354",
     "status": "completed"
    },
    "tags": []
   },
   "outputs": [
    {
     "name": "stdout",
     "output_type": "stream",
     "text": [
      "Epoch 0, Loss 0.2392\n",
      "Training Accuracy: 0.6979, Testing Accuracy: 0.7424\n",
      "\n"
     ]
    },
    {
     "name": "stdout",
     "output_type": "stream",
     "text": [
      "Epoch 10, Loss 0.1017\n",
      "Training Accuracy: 0.9102, Testing Accuracy: 0.9219\n",
      "\n"
     ]
    },
    {
     "name": "stdout",
     "output_type": "stream",
     "text": [
      "Epoch 20, Loss 0.0786\n",
      "Training Accuracy: 0.9281, Testing Accuracy: 0.9410\n",
      "\n"
     ]
    },
    {
     "name": "stdout",
     "output_type": "stream",
     "text": [
      "Epoch 30, Loss 0.0679\n",
      "Training Accuracy: 0.9352, Testing Accuracy: 0.9506\n",
      "\n"
     ]
    },
    {
     "name": "stdout",
     "output_type": "stream",
     "text": [
      "Epoch 40, Loss 0.0615\n",
      "Training Accuracy: 0.9407, Testing Accuracy: 0.9541\n",
      "\n"
     ]
    },
    {
     "name": "stdout",
     "output_type": "stream",
     "text": [
      "Epoch 50, Loss 0.0571\n",
      "Training Accuracy: 0.9458, Testing Accuracy: 0.9556\n",
      "\n"
     ]
    },
    {
     "name": "stdout",
     "output_type": "stream",
     "text": [
      "Epoch 60, Loss 0.0539\n",
      "Training Accuracy: 0.9475, Testing Accuracy: 0.9597\n",
      "\n"
     ]
    },
    {
     "name": "stdout",
     "output_type": "stream",
     "text": [
      "Epoch 70, Loss 0.0514\n",
      "Training Accuracy: 0.9492, Testing Accuracy: 0.9597\n",
      "\n"
     ]
    },
    {
     "name": "stdout",
     "output_type": "stream",
     "text": [
      "Epoch 80, Loss 0.0493\n",
      "Training Accuracy: 0.9503, Testing Accuracy: 0.9607\n",
      "\n"
     ]
    },
    {
     "name": "stdout",
     "output_type": "stream",
     "text": [
      "Epoch 90, Loss 0.0477\n",
      "Training Accuracy: 0.9515, Testing Accuracy: 0.9597\n",
      "\n"
     ]
    },
    {
     "name": "stdout",
     "output_type": "stream",
     "text": [
      "Epoch 100, Loss 0.0463\n",
      "Training Accuracy: 0.9521, Testing Accuracy: 0.9597\n",
      "\n"
     ]
    },
    {
     "name": "stdout",
     "output_type": "stream",
     "text": [
      "Epoch 110, Loss 0.0451\n",
      "Training Accuracy: 0.9529, Testing Accuracy: 0.9602\n",
      "\n"
     ]
    },
    {
     "name": "stdout",
     "output_type": "stream",
     "text": [
      "Epoch 120, Loss 0.044\n",
      "Training Accuracy: 0.9536, Testing Accuracy: 0.9612\n",
      "\n"
     ]
    },
    {
     "name": "stdout",
     "output_type": "stream",
     "text": [
      "Epoch 130, Loss 0.0431\n",
      "Training Accuracy: 0.9541, Testing Accuracy: 0.9612\n",
      "\n"
     ]
    },
    {
     "name": "stdout",
     "output_type": "stream",
     "text": [
      "Epoch 140, Loss 0.0423\n",
      "Training Accuracy: 0.9548, Testing Accuracy: 0.9612\n",
      "\n"
     ]
    },
    {
     "name": "stdout",
     "output_type": "stream",
     "text": [
      "Epoch 150, Loss 0.0415\n",
      "Training Accuracy: 0.9556, Testing Accuracy: 0.9627\n",
      "\n"
     ]
    },
    {
     "name": "stdout",
     "output_type": "stream",
     "text": [
      "Epoch 160, Loss 0.0408\n",
      "Training Accuracy: 0.9563, Testing Accuracy: 0.9632\n",
      "\n"
     ]
    },
    {
     "name": "stdout",
     "output_type": "stream",
     "text": [
      "Epoch 170, Loss 0.0402\n",
      "Training Accuracy: 0.9568, Testing Accuracy: 0.9642\n",
      "\n"
     ]
    },
    {
     "name": "stdout",
     "output_type": "stream",
     "text": [
      "Epoch 180, Loss 0.0397\n",
      "Training Accuracy: 0.9572, Testing Accuracy: 0.9642\n",
      "\n"
     ]
    },
    {
     "name": "stdout",
     "output_type": "stream",
     "text": [
      "Epoch 190, Loss 0.0392\n",
      "Training Accuracy: 0.9575, Testing Accuracy: 0.9652\n",
      "\n"
     ]
    },
    {
     "name": "stdout",
     "output_type": "stream",
     "text": [
      "Epoch 200, Loss 0.0387\n",
      "Training Accuracy: 0.9579, Testing Accuracy: 0.9652\n",
      "\n"
     ]
    },
    {
     "name": "stdout",
     "output_type": "stream",
     "text": [
      "Epoch 210, Loss 0.0382\n",
      "Training Accuracy: 0.9583, Testing Accuracy: 0.9657\n",
      "\n"
     ]
    },
    {
     "name": "stdout",
     "output_type": "stream",
     "text": [
      "Epoch 220, Loss 0.0378\n",
      "Training Accuracy: 0.9592, Testing Accuracy: 0.9657\n",
      "\n"
     ]
    },
    {
     "name": "stdout",
     "output_type": "stream",
     "text": [
      "Epoch 230, Loss 0.0374\n",
      "Training Accuracy: 0.9593, Testing Accuracy: 0.9657\n",
      "\n"
     ]
    },
    {
     "name": "stdout",
     "output_type": "stream",
     "text": [
      "Epoch 240, Loss 0.0371\n",
      "Training Accuracy: 0.9601, Testing Accuracy: 0.9657\n",
      "\n"
     ]
    },
    {
     "data": {
      "text/plain": [
       "0.02949181479182733"
      ]
     },
     "execution_count": 23,
     "metadata": {},
     "output_type": "execute_result"
    }
   ],
   "source": [
    "lr_learner.train_loop(dl)"
   ]
  },
  {
   "cell_type": "code",
   "execution_count": 24,
   "id": "ca410940",
   "metadata": {
    "execution": {
     "iopub.execute_input": "2022-09-10T10:12:52.249696Z",
     "iopub.status.busy": "2022-09-10T10:12:52.248977Z",
     "iopub.status.idle": "2022-09-10T10:12:52.522931Z",
     "shell.execute_reply": "2022-09-10T10:12:52.521550Z"
    },
    "papermill": {
     "duration": 0.330679,
     "end_time": "2022-09-10T10:12:52.523076",
     "exception": false,
     "start_time": "2022-09-10T10:12:52.192397",
     "status": "completed"
    },
    "tags": []
   },
   "outputs": [
    {
     "data": {
      "text/plain": [
       "<matplotlib.legend.Legend at 0x7fa63b73b2b0>"
      ]
     },
     "execution_count": 24,
     "metadata": {},
     "output_type": "execute_result"
    },
    {
     "data": {
      "image/png": "[encoded data removed]",
      "text/plain": [
       "<Figure size 1080x720 with 1 Axes>"
      ]
     },
     "metadata": {
      "needs_background": "light"
     },
     "output_type": "display_data"
    }
   ],
   "source": [
    "#comparing the results of NN and LR\n",
    "plt.figure(figsize=(15,10))\n",
    "\n",
    "# Neural Network plots\n",
    "plt.plot(acc_nn.accuracies, 'r-', label = \"Training Accuracies - NN\")\n",
    "plt.plot(acc_nn.test_accuracies, 'g-', label = \"Testing Accuracies - NN\")\n",
    "\n",
    "# Logistic Regression plots\n",
    "plt.plot(acc_lr.accuracies, 'k-', label = \"Training Accuracies - LR\")\n",
    "plt.plot(acc_lr.test_accuracies, 'b-', label = \"Testing Accuracies - LR\")\n",
    "plt.legend()"
   ]
  },
  {
   "cell_type": "markdown",
   "id": "80dfb35c",
   "metadata": {
    "papermill": {
     "duration": 0.047427,
     "end_time": "2022-09-10T10:12:52.618160",
     "exception": false,
     "start_time": "2022-09-10T10:12:52.570733",
     "status": "completed"
    },
    "tags": []
   },
   "source": [
    "#### Plotting the outputs of this layer of the NN.\n"
   ]
  },
  {
   "cell_type": "code",
   "execution_count": 25,
   "id": "45eb2ff5",
   "metadata": {
    "execution": {
     "iopub.execute_input": "2022-09-10T10:12:52.717884Z",
     "iopub.status.busy": "2022-09-10T10:12:52.717172Z",
     "iopub.status.idle": "2022-09-10T10:12:52.740691Z",
     "shell.execute_reply": "2022-09-10T10:12:52.741246Z"
    },
    "papermill": {
     "duration": 0.075897,
     "end_time": "2022-09-10T10:12:52.741407",
     "exception": false,
     "start_time": "2022-09-10T10:12:52.665510",
     "status": "completed"
    },
    "tags": []
   },
   "outputs": [],
   "source": [
    "new_model = Model(layers[:-2])\n",
    "testing_plot = new_model(testing_data_x)"
   ]
  },
  {
   "cell_type": "code",
   "execution_count": 26,
   "id": "4c0a5485",
   "metadata": {
    "execution": {
     "iopub.execute_input": "2022-09-10T10:12:52.844104Z",
     "iopub.status.busy": "2022-09-10T10:12:52.843332Z",
     "iopub.status.idle": "2022-09-10T10:12:53.071785Z",
     "shell.execute_reply": "2022-09-10T10:12:53.071116Z"
    },
    "papermill": {
     "duration": 0.282783,
     "end_time": "2022-09-10T10:12:53.071957",
     "exception": false,
     "start_time": "2022-09-10T10:12:52.789174",
     "status": "completed"
    },
    "tags": []
   },
   "outputs": [
    {
     "data": {
      "text/plain": [
       "Text(0.5, 1.0, 'Outputs')"
      ]
     },
     "execution_count": 26,
     "metadata": {},
     "output_type": "execute_result"
    },
    {
     "data": {
      "image/png": "[encoded data removed]",
      "text/plain": [
       "<Figure size 576x504 with 1 Axes>"
      ]
     },
     "metadata": {
      "needs_background": "light"
     },
     "output_type": "display_data"
    }
   ],
   "source": [
    "# Plotting the scatter plot of points and color coding by class\n",
    "plt.figure(figsize=(8,7))\n",
    "plt.scatter(testing_plot[:,0], testing_plot[:,1], alpha = 0.1, c = y_test.ravel());\n",
    "plt.title('Outputs')"
   ]
  },
  {
   "cell_type": "markdown",
   "id": "a74fcf8f",
   "metadata": {
    "papermill": {
     "duration": 0.049977,
     "end_time": "2022-09-10T10:12:53.189260",
     "exception": false,
     "start_time": "2022-09-10T10:12:53.139283",
     "status": "completed"
    },
    "tags": []
   },
   "source": [
    "Probability contours"
   ]
  },
  {
   "cell_type": "code",
   "execution_count": 27,
   "id": "d0afc8e3",
   "metadata": {
    "execution": {
     "iopub.execute_input": "2022-09-10T10:12:53.298195Z",
     "iopub.status.busy": "2022-09-10T10:12:53.295776Z",
     "iopub.status.idle": "2022-09-10T10:12:53.311214Z",
     "shell.execute_reply": "2022-09-10T10:12:53.310354Z"
    },
    "papermill": {
     "duration": 0.071842,
     "end_time": "2022-09-10T10:12:53.311363",
     "exception": false,
     "start_time": "2022-09-10T10:12:53.239521",
     "status": "completed"
    },
    "tags": []
   },
   "outputs": [],
   "source": [
    "model_prob = Model(layers[-2:]) "
   ]
  },
  {
   "cell_type": "code",
   "execution_count": 28,
   "id": "9b96e238",
   "metadata": {
    "execution": {
     "iopub.execute_input": "2022-09-10T10:12:53.463001Z",
     "iopub.status.busy": "2022-09-10T10:12:53.462299Z",
     "iopub.status.idle": "2022-09-10T10:12:53.479793Z",
     "shell.execute_reply": "2022-09-10T10:12:53.479219Z"
    },
    "papermill": {
     "duration": 0.114811,
     "end_time": "2022-09-10T10:12:53.479948",
     "exception": false,
     "start_time": "2022-09-10T10:12:53.365137",
     "status": "completed"
    },
    "tags": []
   },
   "outputs": [],
   "source": [
    "#creating the x and y ranges according to the above generated plot.\n",
    "x_range = np.linspace(-4, 1, 100) \n",
    "y_range = np.linspace(-6, 6, 100) \n",
    "x_grid, y_grid = np.meshgrid(x_range, y_range) # x_grid and y_grig are of size 100 X 100\n",
    "\n",
    "# converting x_grid and y_grid to continuous arrays\n",
    "x_gridflat = np.ravel(x_grid)\n",
    "y_gridflat = np.ravel(y_grid)\n",
    "\n",
    "# The last layer of the current model takes two columns as input. Hence transpose of np.vstack() is required.\n",
    "X = np.vstack((x_gridflat, y_gridflat)).T\n",
    "\n",
    "prob_contour = model_prob(X).reshape(100,100) "
   ]
  },
  {
   "cell_type": "code",
   "execution_count": 29,
   "id": "da72499a",
   "metadata": {
    "execution": {
     "iopub.execute_input": "2022-09-10T10:12:53.595410Z",
     "iopub.status.busy": "2022-09-10T10:12:53.594706Z",
     "iopub.status.idle": "2022-09-10T10:12:53.882907Z",
     "shell.execute_reply": "2022-09-10T10:12:53.883802Z"
    },
    "papermill": {
     "duration": 0.353065,
     "end_time": "2022-09-10T10:12:53.883988",
     "exception": false,
     "start_time": "2022-09-10T10:12:53.530923",
     "status": "completed"
    },
    "tags": []
   },
   "outputs": [
    {
     "data": {
      "image/png": "[encoded data removed]",
      "text/plain": [
       "<Figure size 720x648 with 1 Axes>"
      ]
     },
     "metadata": {
      "needs_background": "light"
     },
     "output_type": "display_data"
    }
   ],
   "source": [
    "plt.figure(figsize=(10,9))\n",
    "plt.scatter(testing_plot[:,0], testing_plot[:,1], alpha = 0.1, c = y_test.ravel())\n",
    "contours = plt.contour(x_grid,y_grid,prob_contour)\n",
    "plt.title('Probability Contours')\n",
    "plt.clabel(contours, inline = True );"
   ]
  },
  {
   "cell_type": "code",
   "execution_count": null,
   "id": "e81b4ac7",
   "metadata": {
    "papermill": {
     "duration": 0.052916,
     "end_time": "2022-09-10T10:12:53.989446",
     "exception": false,
     "start_time": "2022-09-10T10:12:53.936530",
     "status": "completed"
    },
    "tags": []
   },
   "outputs": [],
   "source": []
  }
 ],
 "metadata": {
  "kernelspec": {
   "display_name": "Python 3",
   "language": "python",
   "name": "python3"
  },
  "language_info": {
   "codemirror_mode": {
    "name": "ipython",
    "version": 3
   },
   "file_extension": ".py",
   "mimetype": "text/x-python",
   "name": "python",
   "nbconvert_exporter": "python",
   "pygments_lexer": "ipython3",
   "version": "3.6.15"
  },
  "papermill": {
   "default_parameters": {},
   "duration": 114.760831,
   "end_time": "2022-09-10T10:12:54.462135",
   "environment_variables": {},
   "exception": null,
   "input_path": "2020-08-11-part2.ipynb",
   "output_path": "2020-08-11-part2.ipynb",
   "parameters": {},
   "start_time": "2022-09-10T10:10:59.701304",
   "version": "2.3.3"
  }
 },
 "nbformat": 4,
 "nbformat_minor": 5
}