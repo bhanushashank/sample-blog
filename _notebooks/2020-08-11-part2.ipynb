{
 "cells": [
  {
   "cell_type": "markdown",
   "id": "98380cd3",
   "metadata": {
    "papermill": {
     "duration": 0.031238,
     "end_time": "2021-09-01T20:06:34.623034",
     "exception": false,
     "start_time": "2021-09-01T20:06:34.591796",
     "status": "completed"
    },
    "tags": []
   },
   "source": [
    "# Distinguish Your Own Digits (DYOD)"
   ]
  },
  {
   "cell_type": "markdown",
   "id": "ef31240d",
   "metadata": {
    "papermill": {
     "duration": 0.020887,
     "end_time": "2021-09-01T20:06:34.665452",
     "exception": false,
     "start_time": "2021-09-01T20:06:34.644565",
     "status": "completed"
    },
    "tags": []
   },
   "source": [
    "You are going to write a classifier that distinguishes between the number 3 and number 8."
   ]
  },
  {
   "cell_type": "code",
   "execution_count": 1,
   "id": "b15c8646",
   "metadata": {
    "execution": {
     "iopub.execute_input": "2021-09-01T20:06:34.717420Z",
     "iopub.status.busy": "2021-09-01T20:06:34.716952Z",
     "iopub.status.idle": "2021-09-01T20:06:34.726597Z",
     "shell.execute_reply": "2021-09-01T20:06:34.726240Z"
    },
    "papermill": {
     "duration": 0.040534,
     "end_time": "2021-09-01T20:06:34.726700",
     "exception": false,
     "start_time": "2021-09-01T20:06:34.686166",
     "status": "completed"
    },
    "tags": []
   },
   "outputs": [],
   "source": [
    "%load_ext autoreload\n",
    "%autoreload 2"
   ]
  },
  {
   "cell_type": "code",
   "execution_count": 2,
   "id": "22ef38dc",
   "metadata": {
    "execution": {
     "iopub.execute_input": "2021-09-01T20:06:34.772019Z",
     "iopub.status.busy": "2021-09-01T20:06:34.771566Z",
     "iopub.status.idle": "2021-09-01T20:06:35.255525Z",
     "shell.execute_reply": "2021-09-01T20:06:35.255016Z"
    },
    "papermill": {
     "duration": 0.507917,
     "end_time": "2021-09-01T20:06:35.255658",
     "exception": false,
     "start_time": "2021-09-01T20:06:34.747741",
     "status": "completed"
    },
    "tags": []
   },
   "outputs": [],
   "source": [
    "%matplotlib inline\n",
    "import numpy as np\n",
    "import matplotlib.pyplot as plt\n",
    "import pandas as pd"
   ]
  },
  {
   "cell_type": "markdown",
   "id": "ba036198",
   "metadata": {
    "papermill": {
     "duration": 0.021482,
     "end_time": "2021-09-01T20:06:35.300107",
     "exception": false,
     "start_time": "2021-09-01T20:06:35.278625",
     "status": "completed"
    },
    "tags": []
   },
   "source": [
    "From the command line run `pip install mnist`. This is a library that will help you bring down the mnist dataset. If you run this from a notebook, you need to put  `!pip install mnist` in a cell by itself."
   ]
  },
  {
   "cell_type": "code",
   "execution_count": 3,
   "id": "bb6ad8a1",
   "metadata": {
    "execution": {
     "iopub.execute_input": "2021-09-01T20:06:35.348355Z",
     "iopub.status.busy": "2021-09-01T20:06:35.347910Z",
     "iopub.status.idle": "2021-09-01T20:06:37.691489Z",
     "shell.execute_reply": "2021-09-01T20:06:37.690943Z"
    },
    "papermill": {
     "duration": 2.370854,
     "end_time": "2021-09-01T20:06:37.691617",
     "exception": false,
     "start_time": "2021-09-01T20:06:35.320763",
     "status": "completed"
    },
    "tags": []
   },
   "outputs": [
    {
     "name": "stdout",
     "output_type": "stream",
     "text": [
      "Collecting mnist\r\n"
     ]
    },
    {
     "name": "stdout",
     "output_type": "stream",
     "text": [
      "  Downloading mnist-0.2.2-py2.py3-none-any.whl (3.5 kB)\r\n",
      "Requirement already satisfied: numpy in /opt/hostedtoolcache/Python/3.6.14/x64/lib/python3.6/site-packages (from mnist) (1.19.5)\r\n"
     ]
    },
    {
     "name": "stdout",
     "output_type": "stream",
     "text": [
      "Installing collected packages: mnist\r\n"
     ]
    },
    {
     "name": "stdout",
     "output_type": "stream",
     "text": [
      "Successfully installed mnist-0.2.2\r\n"
     ]
    }
   ],
   "source": [
    "!pip install mnist"
   ]
  },
  {
   "cell_type": "markdown",
   "id": "69df9c9a",
   "metadata": {
    "papermill": {
     "duration": 0.021702,
     "end_time": "2021-09-01T20:06:37.735495",
     "exception": false,
     "start_time": "2021-09-01T20:06:37.713793",
     "status": "completed"
    },
    "tags": []
   },
   "source": [
    "## Preparing the Data"
   ]
  },
  {
   "cell_type": "code",
   "execution_count": 4,
   "id": "7f69d806",
   "metadata": {
    "execution": {
     "iopub.execute_input": "2021-09-01T20:06:37.795140Z",
     "iopub.status.busy": "2021-09-01T20:06:37.787336Z",
     "iopub.status.idle": "2021-09-01T20:06:37.798456Z",
     "shell.execute_reply": "2021-09-01T20:06:37.798099Z"
    },
    "papermill": {
     "duration": 0.041168,
     "end_time": "2021-09-01T20:06:37.798549",
     "exception": false,
     "start_time": "2021-09-01T20:06:37.757381",
     "status": "completed"
    },
    "tags": []
   },
   "outputs": [],
   "source": [
    "import mnist"
   ]
  },
  {
   "cell_type": "code",
   "execution_count": 5,
   "id": "a411e44f",
   "metadata": {
    "execution": {
     "iopub.execute_input": "2021-09-01T20:06:37.846539Z",
     "iopub.status.busy": "2021-09-01T20:06:37.846104Z",
     "iopub.status.idle": "2021-09-01T20:06:38.377874Z",
     "shell.execute_reply": "2021-09-01T20:06:38.377355Z"
    },
    "papermill": {
     "duration": 0.557869,
     "end_time": "2021-09-01T20:06:38.378005",
     "exception": false,
     "start_time": "2021-09-01T20:06:37.820136",
     "status": "completed"
    },
    "tags": []
   },
   "outputs": [],
   "source": [
    "train_images = mnist.train_images()\n",
    "train_labels = mnist.train_labels()"
   ]
  },
  {
   "cell_type": "code",
   "execution_count": 6,
   "id": "dceab3a5",
   "metadata": {
    "execution": {
     "iopub.execute_input": "2021-09-01T20:06:38.435115Z",
     "iopub.status.busy": "2021-09-01T20:06:38.426637Z",
     "iopub.status.idle": "2021-09-01T20:06:38.441921Z",
     "shell.execute_reply": "2021-09-01T20:06:38.441548Z"
    },
    "papermill": {
     "duration": 0.041133,
     "end_time": "2021-09-01T20:06:38.442012",
     "exception": false,
     "start_time": "2021-09-01T20:06:38.400879",
     "status": "completed"
    },
    "tags": []
   },
   "outputs": [
    {
     "data": {
      "text/plain": [
       "((60000, 28, 28), (60000,))"
      ]
     },
     "execution_count": 6,
     "metadata": {},
     "output_type": "execute_result"
    }
   ],
   "source": [
    "train_images.shape, train_labels.shape"
   ]
  },
  {
   "cell_type": "code",
   "execution_count": 7,
   "id": "f50dc2bb",
   "metadata": {
    "execution": {
     "iopub.execute_input": "2021-09-01T20:06:38.488146Z",
     "iopub.status.busy": "2021-09-01T20:06:38.487696Z",
     "iopub.status.idle": "2021-09-01T20:06:38.638612Z",
     "shell.execute_reply": "2021-09-01T20:06:38.639109Z"
    },
    "papermill": {
     "duration": 0.175854,
     "end_time": "2021-09-01T20:06:38.639242",
     "exception": false,
     "start_time": "2021-09-01T20:06:38.463388",
     "status": "completed"
    },
    "tags": []
   },
   "outputs": [],
   "source": [
    "test_images = mnist.test_images()\n",
    "test_labels = mnist.test_labels()"
   ]
  },
  {
   "cell_type": "code",
   "execution_count": 8,
   "id": "fc38cf1b",
   "metadata": {
    "execution": {
     "iopub.execute_input": "2021-09-01T20:06:38.690495Z",
     "iopub.status.busy": "2021-09-01T20:06:38.689988Z",
     "iopub.status.idle": "2021-09-01T20:06:38.700995Z",
     "shell.execute_reply": "2021-09-01T20:06:38.700381Z"
    },
    "papermill": {
     "duration": 0.039723,
     "end_time": "2021-09-01T20:06:38.701101",
     "exception": false,
     "start_time": "2021-09-01T20:06:38.661378",
     "status": "completed"
    },
    "tags": []
   },
   "outputs": [
    {
     "data": {
      "text/plain": [
       "((10000, 28, 28), (10000,))"
      ]
     },
     "execution_count": 8,
     "metadata": {},
     "output_type": "execute_result"
    }
   ],
   "source": [
    "test_images.shape, test_labels.shape"
   ]
  },
  {
   "cell_type": "code",
   "execution_count": 9,
   "id": "f9ed8fe0",
   "metadata": {
    "execution": {
     "iopub.execute_input": "2021-09-01T20:06:38.776878Z",
     "iopub.status.busy": "2021-09-01T20:06:38.760714Z",
     "iopub.status.idle": "2021-09-01T20:06:38.877567Z",
     "shell.execute_reply": "2021-09-01T20:06:38.877095Z"
    },
    "papermill": {
     "duration": 0.151471,
     "end_time": "2021-09-01T20:06:38.877697",
     "exception": false,
     "start_time": "2021-09-01T20:06:38.726226",
     "status": "completed"
    },
    "tags": []
   },
   "outputs": [
    {
     "name": "stdout",
     "output_type": "stream",
     "text": [
      "2\n"
     ]
    },
    {
     "data": {
      "text/plain": [
       "<matplotlib.image.AxesImage at 0x7fae61dd2c18>"
      ]
     },
     "execution_count": 9,
     "metadata": {},
     "output_type": "execute_result"
    },
    {
     "data": {
      "image/png": "[encoded data removed]",
      "text/plain": [
       "<Figure size 432x288 with 1 Axes>"
      ]
     },
     "metadata": {
      "needs_background": "light"
     },
     "output_type": "display_data"
    }
   ],
   "source": [
    "image_index = 7776 # You may select anything up to 60,000\n",
    "print(train_labels[image_index]) \n",
    "plt.imshow(train_images[image_index], cmap='Greys')"
   ]
  },
  {
   "cell_type": "markdown",
   "id": "a8d2388d",
   "metadata": {
    "papermill": {
     "duration": 0.026939,
     "end_time": "2021-09-01T20:06:38.931865",
     "exception": false,
     "start_time": "2021-09-01T20:06:38.904926",
     "status": "completed"
    },
    "tags": []
   },
   "source": [
    "## Filter data to get 3 and 8 out"
   ]
  },
  {
   "cell_type": "code",
   "execution_count": 10,
   "id": "776f7fc7",
   "metadata": {
    "execution": {
     "iopub.execute_input": "2021-09-01T20:06:38.991980Z",
     "iopub.status.busy": "2021-09-01T20:06:38.988051Z",
     "iopub.status.idle": "2021-09-01T20:06:39.004398Z",
     "shell.execute_reply": "2021-09-01T20:06:39.003983Z"
    },
    "papermill": {
     "duration": 0.046121,
     "end_time": "2021-09-01T20:06:39.004512",
     "exception": false,
     "start_time": "2021-09-01T20:06:38.958391",
     "status": "completed"
    },
    "tags": []
   },
   "outputs": [],
   "source": [
    "train_filter = np.where((train_labels == 3 ) | (train_labels == 8))\n",
    "test_filter = np.where((test_labels == 3) | (test_labels == 8))\n",
    "X_train, y_train = train_images[train_filter], train_labels[train_filter]\n",
    "X_test, y_test = test_images[test_filter], test_labels[test_filter]"
   ]
  },
  {
   "cell_type": "markdown",
   "id": "948f0b7e",
   "metadata": {
    "papermill": {
     "duration": 0.026473,
     "end_time": "2021-09-01T20:06:39.057776",
     "exception": false,
     "start_time": "2021-09-01T20:06:39.031303",
     "status": "completed"
    },
    "tags": []
   },
   "source": [
    "We normalize the pizel values in the 0 to 1 range"
   ]
  },
  {
   "cell_type": "code",
   "execution_count": 11,
   "id": "ee4c2166",
   "metadata": {
    "execution": {
     "iopub.execute_input": "2021-09-01T20:06:39.127592Z",
     "iopub.status.busy": "2021-09-01T20:06:39.123645Z",
     "iopub.status.idle": "2021-09-01T20:06:39.164567Z",
     "shell.execute_reply": "2021-09-01T20:06:39.164085Z"
    },
    "papermill": {
     "duration": 0.08052,
     "end_time": "2021-09-01T20:06:39.164696",
     "exception": false,
     "start_time": "2021-09-01T20:06:39.084176",
     "status": "completed"
    },
    "tags": []
   },
   "outputs": [],
   "source": [
    "X_train = X_train/255.\n",
    "X_test = X_test/255."
   ]
  },
  {
   "cell_type": "markdown",
   "id": "ddcf4fab",
   "metadata": {
    "papermill": {
     "duration": 0.02628,
     "end_time": "2021-09-01T20:06:39.217776",
     "exception": false,
     "start_time": "2021-09-01T20:06:39.191496",
     "status": "completed"
    },
    "tags": []
   },
   "source": [
    "And setup the labels as 1 (when the digit is 3) and 0 (when the digit is 8)"
   ]
  },
  {
   "cell_type": "code",
   "execution_count": 12,
   "id": "7dc908f2",
   "metadata": {
    "execution": {
     "iopub.execute_input": "2021-09-01T20:06:39.273857Z",
     "iopub.status.busy": "2021-09-01T20:06:39.273354Z",
     "iopub.status.idle": "2021-09-01T20:06:39.285096Z",
     "shell.execute_reply": "2021-09-01T20:06:39.284693Z"
    },
    "papermill": {
     "duration": 0.041152,
     "end_time": "2021-09-01T20:06:39.285200",
     "exception": false,
     "start_time": "2021-09-01T20:06:39.244048",
     "status": "completed"
    },
    "tags": []
   },
   "outputs": [],
   "source": [
    "y_train = 1*(y_train==3)\n",
    "y_test = 1*(y_test==3)"
   ]
  },
  {
   "cell_type": "code",
   "execution_count": 13,
   "id": "01e4e969",
   "metadata": {
    "execution": {
     "iopub.execute_input": "2021-09-01T20:06:39.352448Z",
     "iopub.status.busy": "2021-09-01T20:06:39.347671Z",
     "iopub.status.idle": "2021-09-01T20:06:39.355220Z",
     "shell.execute_reply": "2021-09-01T20:06:39.354792Z"
    },
    "papermill": {
     "duration": 0.043829,
     "end_time": "2021-09-01T20:06:39.355317",
     "exception": false,
     "start_time": "2021-09-01T20:06:39.311488",
     "status": "completed"
    },
    "tags": []
   },
   "outputs": [
    {
     "data": {
      "text/plain": [
       "((11982, 28, 28), (1984, 28, 28))"
      ]
     },
     "execution_count": 13,
     "metadata": {},
     "output_type": "execute_result"
    }
   ],
   "source": [
    "X_train.shape, X_test.shape"
   ]
  },
  {
   "cell_type": "markdown",
   "id": "5ccf3f85",
   "metadata": {
    "papermill": {
     "duration": 0.026384,
     "end_time": "2021-09-01T20:06:39.408111",
     "exception": false,
     "start_time": "2021-09-01T20:06:39.381727",
     "status": "completed"
    },
    "tags": []
   },
   "source": [
    "We reshape the data to flatten the image pixels into a set of features or co-variates:"
   ]
  },
  {
   "cell_type": "code",
   "execution_count": 14,
   "id": "5286a4a3",
   "metadata": {
    "execution": {
     "iopub.execute_input": "2021-09-01T20:06:39.464723Z",
     "iopub.status.busy": "2021-09-01T20:06:39.464234Z",
     "iopub.status.idle": "2021-09-01T20:06:39.476355Z",
     "shell.execute_reply": "2021-09-01T20:06:39.475938Z"
    },
    "papermill": {
     "duration": 0.041732,
     "end_time": "2021-09-01T20:06:39.476452",
     "exception": false,
     "start_time": "2021-09-01T20:06:39.434720",
     "status": "completed"
    },
    "tags": []
   },
   "outputs": [
    {
     "data": {
      "text/plain": [
       "((11982, 784), (1984, 784))"
      ]
     },
     "execution_count": 14,
     "metadata": {},
     "output_type": "execute_result"
    }
   ],
   "source": [
    "X_train = X_train.reshape(X_train.shape[0], -1)\n",
    "X_test = X_test.reshape(X_test.shape[0], -1)\n",
    "X_train.shape, X_test.shape"
   ]
  },
  {
   "cell_type": "code",
   "execution_count": 15,
   "id": "73c5f88a",
   "metadata": {
    "execution": {
     "iopub.execute_input": "2021-09-01T20:06:39.539862Z",
     "iopub.status.busy": "2021-09-01T20:06:39.539362Z",
     "iopub.status.idle": "2021-09-01T20:06:39.553608Z",
     "shell.execute_reply": "2021-09-01T20:06:39.553213Z"
    },
    "papermill": {
     "duration": 0.05054,
     "end_time": "2021-09-01T20:06:39.553708",
     "exception": false,
     "start_time": "2021-09-01T20:06:39.503168",
     "status": "completed"
    },
    "tags": []
   },
   "outputs": [],
   "source": [
    "#Impoting functions from 'Kudzu'\n",
    "from kudzu.model import Model\n",
    "from kudzu.train import Learner\n",
    "from kudzu.optim import GD\n",
    "from kudzu.data import Data, Sampler,Dataloader\n",
    "\n",
    "from kudzu.callbacks import AccCallback\n",
    "from kudzu.callbacks import ClfCallback\n",
    "\n",
    "from kudzu.loss import MSE\n",
    "\n",
    "from kudzu.layer import Sigmoid,Relu\n",
    "from kudzu.layer import Affine"
   ]
  },
  {
   "cell_type": "markdown",
   "id": "bc01172a",
   "metadata": {
    "papermill": {
     "duration": 0.026547,
     "end_time": "2021-09-01T20:06:39.607088",
     "exception": false,
     "start_time": "2021-09-01T20:06:39.580541",
     "status": "completed"
    },
    "tags": []
   },
   "source": [
    "### Let us create a `Config` class, to store important parameters. \n",
    "This class essentially plays the role of a dictionary."
   ]
  },
  {
   "cell_type": "code",
   "execution_count": 16,
   "id": "978281aa",
   "metadata": {
    "execution": {
     "iopub.execute_input": "2021-09-01T20:06:39.663896Z",
     "iopub.status.busy": "2021-09-01T20:06:39.663398Z",
     "iopub.status.idle": "2021-09-01T20:06:39.672870Z",
     "shell.execute_reply": "2021-09-01T20:06:39.672452Z"
    },
    "papermill": {
     "duration": 0.039177,
     "end_time": "2021-09-01T20:06:39.672966",
     "exception": false,
     "start_time": "2021-09-01T20:06:39.633789",
     "status": "completed"
    },
    "tags": []
   },
   "outputs": [],
   "source": [
    "class Config:\n",
    "    pass\n",
    "config = Config()\n",
    "config.lr = 0.001\n",
    "config.num_epochs = 250\n",
    "config.bs = 50"
   ]
  },
  {
   "cell_type": "markdown",
   "id": "1385fa59",
   "metadata": {
    "papermill": {
     "duration": 0.026561,
     "end_time": "2021-09-01T20:06:39.726280",
     "exception": false,
     "start_time": "2021-09-01T20:06:39.699719",
     "status": "completed"
    },
    "tags": []
   },
   "source": [
    "### Running Models with the Training data\n",
    "Details about the network layers:\n",
    "- A first affine layer has 784 inputs and does 100 affine transforms. These are followed by a Relu\n",
    "- A second affine layer has 100 inputs from the 100 activations of the past layer, and does 100 affine transforms. These are followed by a Relu\n",
    "- A third affine layer has 100 activations and does 2 affine transformations to create an embedding for visualization. There is no non-linearity here.\n",
    "- A final \"logistic regression\" which has an affine transform from 2 inputs to 1 output, which is squeezed through a sigmoid.\n"
   ]
  },
  {
   "cell_type": "code",
   "execution_count": 17,
   "id": "2b9c66db",
   "metadata": {
    "execution": {
     "iopub.execute_input": "2021-09-01T20:06:39.786087Z",
     "iopub.status.busy": "2021-09-01T20:06:39.785589Z",
     "iopub.status.idle": "2021-09-01T20:06:39.794356Z",
     "shell.execute_reply": "2021-09-01T20:06:39.793942Z"
    },
    "papermill": {
     "duration": 0.041474,
     "end_time": "2021-09-01T20:06:39.794452",
     "exception": false,
     "start_time": "2021-09-01T20:06:39.752978",
     "status": "completed"
    },
    "tags": []
   },
   "outputs": [],
   "source": [
    "data = Data(X_train, y_train.reshape(-1,1))\n",
    "sampler = Sampler(data, config.bs, shuffle=True)\n",
    "\n",
    "dl = Dataloader(data, sampler)\n",
    "\n",
    "opt = GD(config.lr)\n",
    "loss = MSE()"
   ]
  },
  {
   "cell_type": "code",
   "execution_count": 18,
   "id": "b275e4c2",
   "metadata": {
    "execution": {
     "iopub.execute_input": "2021-09-01T20:06:39.850903Z",
     "iopub.status.busy": "2021-09-01T20:06:39.850378Z",
     "iopub.status.idle": "2021-09-01T20:06:39.861349Z",
     "shell.execute_reply": "2021-09-01T20:06:39.860932Z"
    },
    "papermill": {
     "duration": 0.040275,
     "end_time": "2021-09-01T20:06:39.861445",
     "exception": false,
     "start_time": "2021-09-01T20:06:39.821170",
     "status": "completed"
    },
    "tags": []
   },
   "outputs": [],
   "source": [
    "training_data_x = X_train\n",
    "testing_data_x = X_test\n",
    "training_data_y = y_train.reshape(-1,1)\n",
    "testing_data_y = y_test.reshape(-1,1)"
   ]
  },
  {
   "cell_type": "code",
   "execution_count": 19,
   "id": "76951160",
   "metadata": {
    "execution": {
     "iopub.execute_input": "2021-09-01T20:06:39.918697Z",
     "iopub.status.busy": "2021-09-01T20:06:39.918198Z",
     "iopub.status.idle": "2021-09-01T20:06:39.931062Z",
     "shell.execute_reply": "2021-09-01T20:06:39.931492Z"
    },
    "papermill": {
     "duration": 0.043495,
     "end_time": "2021-09-01T20:06:39.931605",
     "exception": false,
     "start_time": "2021-09-01T20:06:39.888110",
     "status": "completed"
    },
    "tags": []
   },
   "outputs": [
    {
     "name": "stdout",
     "output_type": "stream",
     "text": [
      "xavier\n",
      "xavier\n",
      "xavier\n",
      "xavier\n",
      "xavier\n"
     ]
    }
   ],
   "source": [
    "layers = [Affine(\"first\", 784, 100), Relu(\"first\"), Affine(\"second\", 100, 100), Relu(\"second\"), Affine(\"third\", 100, 2), Affine(\"last\", 2, 1), Sigmoid(\"last\")]\n",
    "model_nn = Model(layers)\n",
    "model_lr = Model([Affine(\"logits\", 784, 1), Sigmoid(\"sigmoid\")])"
   ]
  },
  {
   "cell_type": "code",
   "execution_count": 20,
   "id": "6eede77a",
   "metadata": {
    "execution": {
     "iopub.execute_input": "2021-09-01T20:06:39.989051Z",
     "iopub.status.busy": "2021-09-01T20:06:39.988560Z",
     "iopub.status.idle": "2021-09-01T20:06:39.998903Z",
     "shell.execute_reply": "2021-09-01T20:06:39.999333Z"
    },
    "papermill": {
     "duration": 0.040764,
     "end_time": "2021-09-01T20:06:39.999445",
     "exception": false,
     "start_time": "2021-09-01T20:06:39.958681",
     "status": "completed"
    },
    "tags": []
   },
   "outputs": [],
   "source": [
    "nn_learner = Learner(loss, model_nn, opt, config.num_epochs)\n",
    "acc_nn = ClfCallback(nn_learner, config.bs, training_data_x , testing_data_x, training_data_y, testing_data_y)\n",
    "nn_learner.set_callbacks([acc_nn])"
   ]
  },
  {
   "cell_type": "code",
   "execution_count": 21,
   "id": "877b6cc7",
   "metadata": {
    "execution": {
     "iopub.execute_input": "2021-09-01T20:06:40.056947Z",
     "iopub.status.busy": "2021-09-01T20:06:40.056453Z",
     "iopub.status.idle": "2021-09-01T20:06:40.067320Z",
     "shell.execute_reply": "2021-09-01T20:06:40.066864Z"
    },
    "papermill": {
     "duration": 0.041,
     "end_time": "2021-09-01T20:06:40.067421",
     "exception": false,
     "start_time": "2021-09-01T20:06:40.026421",
     "status": "completed"
    },
    "tags": []
   },
   "outputs": [],
   "source": [
    "lr_learner = Learner(loss, model_lr, opt, config.num_epochs)\n",
    "acc_lr = ClfCallback(lr_learner, config.bs, training_data_x , testing_data_x, training_data_y, testing_data_y)\n",
    "lr_learner.set_callbacks([acc_lr])"
   ]
  },
  {
   "cell_type": "code",
   "execution_count": 22,
   "id": "d9b133c3",
   "metadata": {
    "execution": {
     "iopub.execute_input": "2021-09-01T20:06:40.135388Z",
     "iopub.status.busy": "2021-09-01T20:06:40.130424Z",
     "iopub.status.idle": "2021-09-01T20:07:50.550775Z",
     "shell.execute_reply": "2021-09-01T20:07:50.551492Z"
    },
    "papermill": {
     "duration": 70.457135,
     "end_time": "2021-09-01T20:07:50.551631",
     "exception": false,
     "start_time": "2021-09-01T20:06:40.094496",
     "status": "completed"
    },
    "tags": []
   },
   "outputs": [
    {
     "name": "stdout",
     "output_type": "stream",
     "text": [
      "Epoch 0, Loss 0.2582\n",
      "Training Accuracy: 0.4860, Testing Accuracy: 0.4889\n",
      "\n"
     ]
    },
    {
     "name": "stdout",
     "output_type": "stream",
     "text": [
      "Epoch 10, Loss 0.1636\n",
      "Training Accuracy: 0.8953, Testing Accuracy: 0.9017\n",
      "\n"
     ]
    },
    {
     "name": "stdout",
     "output_type": "stream",
     "text": [
      "Epoch 20, Loss 0.0788\n",
      "Training Accuracy: 0.9280, Testing Accuracy: 0.9350\n",
      "\n"
     ]
    },
    {
     "name": "stdout",
     "output_type": "stream",
     "text": [
      "Epoch 30, Loss 0.0532\n",
      "Training Accuracy: 0.9441, Testing Accuracy: 0.9506\n",
      "\n"
     ]
    },
    {
     "name": "stdout",
     "output_type": "stream",
     "text": [
      "Epoch 40, Loss 0.0433\n",
      "Training Accuracy: 0.9513, Testing Accuracy: 0.9597\n",
      "\n"
     ]
    },
    {
     "name": "stdout",
     "output_type": "stream",
     "text": [
      "Epoch 50, Loss 0.0382\n",
      "Training Accuracy: 0.9567, Testing Accuracy: 0.9652\n",
      "\n"
     ]
    },
    {
     "name": "stdout",
     "output_type": "stream",
     "text": [
      "Epoch 60, Loss 0.035\n",
      "Training Accuracy: 0.9593, Testing Accuracy: 0.9657\n",
      "\n"
     ]
    },
    {
     "name": "stdout",
     "output_type": "stream",
     "text": [
      "Epoch 70, Loss 0.0327\n",
      "Training Accuracy: 0.9617, Testing Accuracy: 0.9657\n",
      "\n"
     ]
    },
    {
     "name": "stdout",
     "output_type": "stream",
     "text": [
      "Epoch 80, Loss 0.031\n",
      "Training Accuracy: 0.9631, Testing Accuracy: 0.9652\n",
      "\n"
     ]
    },
    {
     "name": "stdout",
     "output_type": "stream",
     "text": [
      "Epoch 90, Loss 0.0297\n",
      "Training Accuracy: 0.9642, Testing Accuracy: 0.9652\n",
      "\n"
     ]
    },
    {
     "name": "stdout",
     "output_type": "stream",
     "text": [
      "Epoch 100, Loss 0.0286\n",
      "Training Accuracy: 0.9653, Testing Accuracy: 0.9652\n",
      "\n"
     ]
    },
    {
     "name": "stdout",
     "output_type": "stream",
     "text": [
      "Epoch 110, Loss 0.0276\n",
      "Training Accuracy: 0.9664, Testing Accuracy: 0.9652\n",
      "\n"
     ]
    },
    {
     "name": "stdout",
     "output_type": "stream",
     "text": [
      "Epoch 120, Loss 0.0268\n",
      "Training Accuracy: 0.9676, Testing Accuracy: 0.9662\n",
      "\n"
     ]
    },
    {
     "name": "stdout",
     "output_type": "stream",
     "text": [
      "Epoch 130, Loss 0.026\n",
      "Training Accuracy: 0.9689, Testing Accuracy: 0.9672\n",
      "\n"
     ]
    },
    {
     "name": "stdout",
     "output_type": "stream",
     "text": [
      "Epoch 140, Loss 0.0254\n",
      "Training Accuracy: 0.9698, Testing Accuracy: 0.9667\n",
      "\n"
     ]
    },
    {
     "name": "stdout",
     "output_type": "stream",
     "text": [
      "Epoch 150, Loss 0.0248\n",
      "Training Accuracy: 0.9708, Testing Accuracy: 0.9672\n",
      "\n"
     ]
    },
    {
     "name": "stdout",
     "output_type": "stream",
     "text": [
      "Epoch 160, Loss 0.0242\n",
      "Training Accuracy: 0.9719, Testing Accuracy: 0.9667\n",
      "\n"
     ]
    },
    {
     "name": "stdout",
     "output_type": "stream",
     "text": [
      "Epoch 170, Loss 0.0237\n",
      "Training Accuracy: 0.9723, Testing Accuracy: 0.9667\n",
      "\n"
     ]
    },
    {
     "name": "stdout",
     "output_type": "stream",
     "text": [
      "Epoch 180, Loss 0.0232\n",
      "Training Accuracy: 0.9730, Testing Accuracy: 0.9677\n",
      "\n"
     ]
    },
    {
     "name": "stdout",
     "output_type": "stream",
     "text": [
      "Epoch 190, Loss 0.0228\n",
      "Training Accuracy: 0.9733, Testing Accuracy: 0.9682\n",
      "\n"
     ]
    },
    {
     "name": "stdout",
     "output_type": "stream",
     "text": [
      "Epoch 200, Loss 0.0223\n",
      "Training Accuracy: 0.9741, Testing Accuracy: 0.9677\n",
      "\n"
     ]
    },
    {
     "name": "stdout",
     "output_type": "stream",
     "text": [
      "Epoch 210, Loss 0.0219\n",
      "Training Accuracy: 0.9744, Testing Accuracy: 0.9682\n",
      "\n"
     ]
    },
    {
     "name": "stdout",
     "output_type": "stream",
     "text": [
      "Epoch 220, Loss 0.0215\n",
      "Training Accuracy: 0.9750, Testing Accuracy: 0.9703\n",
      "\n"
     ]
    },
    {
     "name": "stdout",
     "output_type": "stream",
     "text": [
      "Epoch 230, Loss 0.0212\n",
      "Training Accuracy: 0.9754, Testing Accuracy: 0.9713\n",
      "\n"
     ]
    },
    {
     "name": "stdout",
     "output_type": "stream",
     "text": [
      "Epoch 240, Loss 0.0208\n",
      "Training Accuracy: 0.9762, Testing Accuracy: 0.9708\n",
      "\n"
     ]
    },
    {
     "data": {
      "text/plain": [
       "0.019016635657900547"
      ]
     },
     "execution_count": 22,
     "metadata": {},
     "output_type": "execute_result"
    }
   ],
   "source": [
    "nn_learner.train_loop(dl)"
   ]
  },
  {
   "cell_type": "code",
   "execution_count": 23,
   "id": "e0163366",
   "metadata": {
    "execution": {
     "iopub.execute_input": "2021-09-01T20:07:50.628258Z",
     "iopub.status.busy": "2021-09-01T20:07:50.627752Z",
     "iopub.status.idle": "2021-09-01T20:08:03.763508Z",
     "shell.execute_reply": "2021-09-01T20:08:03.764206Z"
    },
    "papermill": {
     "duration": 13.177718,
     "end_time": "2021-09-01T20:08:03.764343",
     "exception": false,
     "start_time": "2021-09-01T20:07:50.586625",
     "status": "completed"
    },
    "tags": []
   },
   "outputs": [
    {
     "name": "stdout",
     "output_type": "stream",
     "text": [
      "Epoch 0, Loss 0.2319\n",
      "Training Accuracy: 0.7157, Testing Accuracy: 0.7107\n",
      "\n"
     ]
    },
    {
     "name": "stdout",
     "output_type": "stream",
     "text": [
      "Epoch 10, Loss 0.1041\n",
      "Training Accuracy: 0.9054, Testing Accuracy: 0.9073\n",
      "\n"
     ]
    },
    {
     "name": "stdout",
     "output_type": "stream",
     "text": [
      "Epoch 20, Loss 0.0799\n",
      "Training Accuracy: 0.9271, Testing Accuracy: 0.9345\n",
      "\n"
     ]
    },
    {
     "name": "stdout",
     "output_type": "stream",
     "text": [
      "Epoch 30, Loss 0.0685\n",
      "Training Accuracy: 0.9362, Testing Accuracy: 0.9446\n",
      "\n"
     ]
    },
    {
     "name": "stdout",
     "output_type": "stream",
     "text": [
      "Epoch 40, Loss 0.0616\n",
      "Training Accuracy: 0.9425, Testing Accuracy: 0.9496\n",
      "\n"
     ]
    },
    {
     "name": "stdout",
     "output_type": "stream",
     "text": [
      "Epoch 50, Loss 0.0569\n",
      "Training Accuracy: 0.9462, Testing Accuracy: 0.9541\n",
      "\n"
     ]
    },
    {
     "name": "stdout",
     "output_type": "stream",
     "text": [
      "Epoch 60, Loss 0.0535\n",
      "Training Accuracy: 0.9478, Testing Accuracy: 0.9556\n",
      "\n"
     ]
    },
    {
     "name": "stdout",
     "output_type": "stream",
     "text": [
      "Epoch 70, Loss 0.0509\n",
      "Training Accuracy: 0.9496, Testing Accuracy: 0.9582\n",
      "\n"
     ]
    },
    {
     "name": "stdout",
     "output_type": "stream",
     "text": [
      "Epoch 80, Loss 0.0488\n",
      "Training Accuracy: 0.9508, Testing Accuracy: 0.9607\n",
      "\n"
     ]
    },
    {
     "name": "stdout",
     "output_type": "stream",
     "text": [
      "Epoch 90, Loss 0.0471\n",
      "Training Accuracy: 0.9523, Testing Accuracy: 0.9617\n",
      "\n"
     ]
    },
    {
     "name": "stdout",
     "output_type": "stream",
     "text": [
      "Epoch 100, Loss 0.0457\n",
      "Training Accuracy: 0.9532, Testing Accuracy: 0.9632\n",
      "\n"
     ]
    },
    {
     "name": "stdout",
     "output_type": "stream",
     "text": [
      "Epoch 110, Loss 0.0445\n",
      "Training Accuracy: 0.9541, Testing Accuracy: 0.9647\n",
      "\n"
     ]
    },
    {
     "name": "stdout",
     "output_type": "stream",
     "text": [
      "Epoch 120, Loss 0.0435\n",
      "Training Accuracy: 0.9552, Testing Accuracy: 0.9637\n",
      "\n"
     ]
    },
    {
     "name": "stdout",
     "output_type": "stream",
     "text": [
      "Epoch 130, Loss 0.0425\n",
      "Training Accuracy: 0.9567, Testing Accuracy: 0.9637\n",
      "\n"
     ]
    },
    {
     "name": "stdout",
     "output_type": "stream",
     "text": [
      "Epoch 140, Loss 0.0417\n",
      "Training Accuracy: 0.9574, Testing Accuracy: 0.9637\n",
      "\n"
     ]
    },
    {
     "name": "stdout",
     "output_type": "stream",
     "text": [
      "Epoch 150, Loss 0.041\n",
      "Training Accuracy: 0.9581, Testing Accuracy: 0.9642\n",
      "\n"
     ]
    },
    {
     "name": "stdout",
     "output_type": "stream",
     "text": [
      "Epoch 160, Loss 0.0403\n",
      "Training Accuracy: 0.9587, Testing Accuracy: 0.9642\n",
      "\n"
     ]
    },
    {
     "name": "stdout",
     "output_type": "stream",
     "text": [
      "Epoch 170, Loss 0.0397\n",
      "Training Accuracy: 0.9591, Testing Accuracy: 0.9642\n",
      "\n"
     ]
    },
    {
     "name": "stdout",
     "output_type": "stream",
     "text": [
      "Epoch 180, Loss 0.0392\n",
      "Training Accuracy: 0.9596, Testing Accuracy: 0.9652\n",
      "\n"
     ]
    },
    {
     "name": "stdout",
     "output_type": "stream",
     "text": [
      "Epoch 190, Loss 0.0386\n",
      "Training Accuracy: 0.9602, Testing Accuracy: 0.9657\n",
      "\n"
     ]
    },
    {
     "name": "stdout",
     "output_type": "stream",
     "text": [
      "Epoch 200, Loss 0.0382\n",
      "Training Accuracy: 0.9603, Testing Accuracy: 0.9657\n",
      "\n"
     ]
    },
    {
     "name": "stdout",
     "output_type": "stream",
     "text": [
      "Epoch 210, Loss 0.0377\n",
      "Training Accuracy: 0.9608, Testing Accuracy: 0.9662\n",
      "\n"
     ]
    },
    {
     "name": "stdout",
     "output_type": "stream",
     "text": [
      "Epoch 220, Loss 0.0373\n",
      "Training Accuracy: 0.9612, Testing Accuracy: 0.9662\n",
      "\n"
     ]
    },
    {
     "name": "stdout",
     "output_type": "stream",
     "text": [
      "Epoch 230, Loss 0.037\n",
      "Training Accuracy: 0.9614, Testing Accuracy: 0.9657\n",
      "\n"
     ]
    },
    {
     "name": "stdout",
     "output_type": "stream",
     "text": [
      "Epoch 240, Loss 0.0366\n",
      "Training Accuracy: 0.9618, Testing Accuracy: 0.9662\n",
      "\n"
     ]
    },
    {
     "data": {
      "text/plain": [
       "0.07561212771422553"
      ]
     },
     "execution_count": 23,
     "metadata": {},
     "output_type": "execute_result"
    }
   ],
   "source": [
    "lr_learner.train_loop(dl)"
   ]
  },
  {
   "cell_type": "code",
   "execution_count": 24,
   "id": "ca410940",
   "metadata": {
    "execution": {
     "iopub.execute_input": "2021-09-01T20:08:03.860009Z",
     "iopub.status.busy": "2021-09-01T20:08:03.859502Z",
     "iopub.status.idle": "2021-09-01T20:08:04.079182Z",
     "shell.execute_reply": "2021-09-01T20:08:04.078709Z"
    },
    "papermill": {
     "duration": 0.273425,
     "end_time": "2021-09-01T20:08:04.079297",
     "exception": false,
     "start_time": "2021-09-01T20:08:03.805872",
     "status": "completed"
    },
    "tags": []
   },
   "outputs": [
    {
     "data": {
      "text/plain": [
       "<matplotlib.legend.Legend at 0x7fae619b7b70>"
      ]
     },
     "execution_count": 24,
     "metadata": {},
     "output_type": "execute_result"
    },
    {
     "data": {
      "image/png": "[encoded data removed]",
      "text/plain": [
       "<Figure size 1080x720 with 1 Axes>"
      ]
     },
     "metadata": {
      "needs_background": "light"
     },
     "output_type": "display_data"
    }
   ],
   "source": [
    "#comparing the results of NN and LR\n",
    "plt.figure(figsize=(15,10))\n",
    "\n",
    "# Neural Network plots\n",
    "plt.plot(acc_nn.accuracies, 'r-', label = \"Training Accuracies - NN\")\n",
    "plt.plot(acc_nn.test_accuracies, 'g-', label = \"Testing Accuracies - NN\")\n",
    "\n",
    "# Logistic Regression plots\n",
    "plt.plot(acc_lr.accuracies, 'k-', label = \"Training Accuracies - LR\")\n",
    "plt.plot(acc_lr.test_accuracies, 'b-', label = \"Testing Accuracies - LR\")\n",
    "plt.legend()"
   ]
  },
  {
   "cell_type": "markdown",
   "id": "80dfb35c",
   "metadata": {
    "papermill": {
     "duration": 0.0363,
     "end_time": "2021-09-01T20:08:04.153589",
     "exception": false,
     "start_time": "2021-09-01T20:08:04.117289",
     "status": "completed"
    },
    "tags": []
   },
   "source": [
    "#### Plotting the outputs of this layer of the NN.\n"
   ]
  },
  {
   "cell_type": "code",
   "execution_count": 25,
   "id": "45eb2ff5",
   "metadata": {
    "execution": {
     "iopub.execute_input": "2021-09-01T20:08:04.229456Z",
     "iopub.status.busy": "2021-09-01T20:08:04.229011Z",
     "iopub.status.idle": "2021-09-01T20:08:04.247232Z",
     "shell.execute_reply": "2021-09-01T20:08:04.247599Z"
    },
    "papermill": {
     "duration": 0.057507,
     "end_time": "2021-09-01T20:08:04.247714",
     "exception": false,
     "start_time": "2021-09-01T20:08:04.190207",
     "status": "completed"
    },
    "tags": []
   },
   "outputs": [],
   "source": [
    "new_model = Model(layers[:-2])\n",
    "testing_plot = new_model(testing_data_x)"
   ]
  },
  {
   "cell_type": "code",
   "execution_count": 26,
   "id": "4c0a5485",
   "metadata": {
    "execution": {
     "iopub.execute_input": "2021-09-01T20:08:04.339837Z",
     "iopub.status.busy": "2021-09-01T20:08:04.339400Z",
     "iopub.status.idle": "2021-09-01T20:08:04.523108Z",
     "shell.execute_reply": "2021-09-01T20:08:04.523502Z"
    },
    "papermill": {
     "duration": 0.230747,
     "end_time": "2021-09-01T20:08:04.523638",
     "exception": false,
     "start_time": "2021-09-01T20:08:04.292891",
     "status": "completed"
    },
    "tags": []
   },
   "outputs": [
    {
     "data": {
      "text/plain": [
       "Text(0.5, 1.0, 'Outputs')"
      ]
     },
     "execution_count": 26,
     "metadata": {},
     "output_type": "execute_result"
    },
    {
     "data": {
      "image/png": "[encoded data removed]",
      "text/plain": [
       "<Figure size 576x504 with 1 Axes>"
      ]
     },
     "metadata": {
      "needs_background": "light"
     },
     "output_type": "display_data"
    }
   ],
   "source": [
    "# Plotting the scatter plot of points and color coding by class\n",
    "plt.figure(figsize=(8,7))\n",
    "plt.scatter(testing_plot[:,0], testing_plot[:,1], alpha = 0.1, c = y_test.ravel());\n",
    "plt.title('Outputs')"
   ]
  },
  {
   "cell_type": "markdown",
   "id": "a74fcf8f",
   "metadata": {
    "papermill": {
     "duration": 0.043877,
     "end_time": "2021-09-01T20:08:04.611511",
     "exception": false,
     "start_time": "2021-09-01T20:08:04.567634",
     "status": "completed"
    },
    "tags": []
   },
   "source": [
    "Probability contours"
   ]
  },
  {
   "cell_type": "code",
   "execution_count": 27,
   "id": "d0afc8e3",
   "metadata": {
    "execution": {
     "iopub.execute_input": "2021-09-01T20:08:04.703170Z",
     "iopub.status.busy": "2021-09-01T20:08:04.702098Z",
     "iopub.status.idle": "2021-09-01T20:08:04.712889Z",
     "shell.execute_reply": "2021-09-01T20:08:04.713226Z"
    },
    "papermill": {
     "duration": 0.058053,
     "end_time": "2021-09-01T20:08:04.713339",
     "exception": false,
     "start_time": "2021-09-01T20:08:04.655286",
     "status": "completed"
    },
    "tags": []
   },
   "outputs": [],
   "source": [
    "model_prob = Model(layers[-2:]) "
   ]
  },
  {
   "cell_type": "code",
   "execution_count": 28,
   "id": "9b96e238",
   "metadata": {
    "execution": {
     "iopub.execute_input": "2021-09-01T20:08:04.794333Z",
     "iopub.status.busy": "2021-09-01T20:08:04.793890Z",
     "iopub.status.idle": "2021-09-01T20:08:04.809123Z",
     "shell.execute_reply": "2021-09-01T20:08:04.809488Z"
    },
    "papermill": {
     "duration": 0.057984,
     "end_time": "2021-09-01T20:08:04.809599",
     "exception": false,
     "start_time": "2021-09-01T20:08:04.751615",
     "status": "completed"
    },
    "tags": []
   },
   "outputs": [],
   "source": [
    "#creating the x and y ranges according to the above generated plot.\n",
    "x_range = np.linspace(-4, 1, 100) \n",
    "y_range = np.linspace(-6, 6, 100) \n",
    "x_grid, y_grid = np.meshgrid(x_range, y_range) # x_grid and y_grig are of size 100 X 100\n",
    "\n",
    "# converting x_grid and y_grid to continuous arrays\n",
    "x_gridflat = np.ravel(x_grid)\n",
    "y_gridflat = np.ravel(y_grid)\n",
    "\n",
    "# The last layer of the current model takes two columns as input. Hence transpose of np.vstack() is required.\n",
    "X = np.vstack((x_gridflat, y_gridflat)).T\n",
    "\n",
    "prob_contour = model_prob(X).reshape(100,100) "
   ]
  },
  {
   "cell_type": "code",
   "execution_count": 29,
   "id": "da72499a",
   "metadata": {
    "execution": {
     "iopub.execute_input": "2021-09-01T20:08:04.913728Z",
     "iopub.status.busy": "2021-09-01T20:08:04.913290Z",
     "iopub.status.idle": "2021-09-01T20:08:05.153445Z",
     "shell.execute_reply": "2021-09-01T20:08:05.153036Z"
    },
    "papermill": {
     "duration": 0.305178,
     "end_time": "2021-09-01T20:08:05.153546",
     "exception": false,
     "start_time": "2021-09-01T20:08:04.848368",
     "status": "completed"
    },
    "tags": []
   },
   "outputs": [
    {
     "data": {
      "image/png": "[encoded data removed]",
      "text/plain": [
       "<Figure size 720x648 with 1 Axes>"
      ]
     },
     "metadata": {
      "needs_background": "light"
     },
     "output_type": "display_data"
    }
   ],
   "source": [
    "plt.figure(figsize=(10,9))\n",
    "plt.scatter(testing_plot[:,0], testing_plot[:,1], alpha = 0.1, c = y_test.ravel())\n",
    "contours = plt.contour(x_grid,y_grid,prob_contour)\n",
    "plt.title('Probability Contours')\n",
    "plt.clabel(contours, inline = True );"
   ]
  },
  {
   "cell_type": "code",
   "execution_count": null,
   "id": "e81b4ac7",
   "metadata": {
    "papermill": {
     "duration": 0.040485,
     "end_time": "2021-09-01T20:08:05.235308",
     "exception": false,
     "start_time": "2021-09-01T20:08:05.194823",
     "status": "completed"
    },
    "tags": []
   },
   "outputs": [],
   "source": []
  }
 ],
 "metadata": {
  "kernelspec": {
   "display_name": "Python 3",
   "language": "python",
   "name": "python3"
  },
  "language_info": {
   "codemirror_mode": {
    "name": "ipython",
    "version": 3
   },
   "file_extension": ".py",
   "mimetype": "text/x-python",
   "name": "python",
   "nbconvert_exporter": "python",
   "pygments_lexer": "ipython3",
   "version": "3.6.14"
  },
  "papermill": {
   "default_parameters": {},
   "duration": 92.07139,
   "end_time": "2021-09-01T20:08:05.583140",
   "environment_variables": {},
   "exception": null,
   "input_path": "2020-08-11-part2.ipynb",
   "output_path": "2020-08-11-part2.ipynb",
   "parameters": {},
   "start_time": "2021-09-01T20:06:33.511750",
   "version": "2.3.3"
  }
 },
 "nbformat": 4,
 "nbformat_minor": 5
}