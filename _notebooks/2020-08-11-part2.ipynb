{
 "cells": [
  {
   "cell_type": "markdown",
   "id": "98380cd3",
   "metadata": {
    "papermill": {
     "duration": 0.027925,
     "end_time": "2021-11-30T10:06:37.714111",
     "exception": false,
     "start_time": "2021-11-30T10:06:37.686186",
     "status": "completed"
    },
    "tags": []
   },
   "source": [
    "# Distinguish Your Own Digits (DYOD)"
   ]
  },
  {
   "cell_type": "markdown",
   "id": "ef31240d",
   "metadata": {
    "papermill": {
     "duration": 0.023928,
     "end_time": "2021-11-30T10:06:37.762514",
     "exception": false,
     "start_time": "2021-11-30T10:06:37.738586",
     "status": "completed"
    },
    "tags": []
   },
   "source": [
    "You are going to write a classifier that distinguishes between the number 3 and number 8."
   ]
  },
  {
   "cell_type": "code",
   "execution_count": 1,
   "id": "b15c8646",
   "metadata": {
    "execution": {
     "iopub.execute_input": "2021-11-30T10:06:37.821755Z",
     "iopub.status.busy": "2021-11-30T10:06:37.818948Z",
     "iopub.status.idle": "2021-11-30T10:06:37.832025Z",
     "shell.execute_reply": "2021-11-30T10:06:37.832526Z"
    },
    "papermill": {
     "duration": 0.046451,
     "end_time": "2021-11-30T10:06:37.832718",
     "exception": false,
     "start_time": "2021-11-30T10:06:37.786267",
     "status": "completed"
    },
    "tags": []
   },
   "outputs": [],
   "source": [
    "%load_ext autoreload\n",
    "%autoreload 2"
   ]
  },
  {
   "cell_type": "code",
   "execution_count": 2,
   "id": "22ef38dc",
   "metadata": {
    "execution": {
     "iopub.execute_input": "2021-11-30T10:06:37.886240Z",
     "iopub.status.busy": "2021-11-30T10:06:37.885723Z",
     "iopub.status.idle": "2021-11-30T10:06:38.455265Z",
     "shell.execute_reply": "2021-11-30T10:06:38.454758Z"
    },
    "papermill": {
     "duration": 0.597616,
     "end_time": "2021-11-30T10:06:38.455401",
     "exception": false,
     "start_time": "2021-11-30T10:06:37.857785",
     "status": "completed"
    },
    "tags": []
   },
   "outputs": [],
   "source": [
    "%matplotlib inline\n",
    "import numpy as np\n",
    "import matplotlib.pyplot as plt\n",
    "import pandas as pd"
   ]
  },
  {
   "cell_type": "markdown",
   "id": "ba036198",
   "metadata": {
    "papermill": {
     "duration": 0.023897,
     "end_time": "2021-11-30T10:06:38.504238",
     "exception": false,
     "start_time": "2021-11-30T10:06:38.480341",
     "status": "completed"
    },
    "tags": []
   },
   "source": [
    "From the command line run `pip install mnist`. This is a library that will help you bring down the mnist dataset. If you run this from a notebook, you need to put  `!pip install mnist` in a cell by itself."
   ]
  },
  {
   "cell_type": "code",
   "execution_count": 3,
   "id": "bb6ad8a1",
   "metadata": {
    "execution": {
     "iopub.execute_input": "2021-11-30T10:06:38.556923Z",
     "iopub.status.busy": "2021-11-30T10:06:38.556366Z",
     "iopub.status.idle": "2021-11-30T10:06:41.050938Z",
     "shell.execute_reply": "2021-11-30T10:06:41.050451Z"
    },
    "papermill": {
     "duration": 2.522812,
     "end_time": "2021-11-30T10:06:41.051058",
     "exception": false,
     "start_time": "2021-11-30T10:06:38.528246",
     "status": "completed"
    },
    "tags": []
   },
   "outputs": [
    {
     "name": "stdout",
     "output_type": "stream",
     "text": [
      "Collecting mnist\r\n"
     ]
    },
    {
     "name": "stdout",
     "output_type": "stream",
     "text": [
      "  Downloading mnist-0.2.2-py2.py3-none-any.whl (3.5 kB)\r\n",
      "Requirement already satisfied: numpy in /opt/hostedtoolcache/Python/3.6.15/x64/lib/python3.6/site-packages (from mnist) (1.19.5)\r\n"
     ]
    },
    {
     "name": "stdout",
     "output_type": "stream",
     "text": [
      "Installing collected packages: mnist\r\n"
     ]
    },
    {
     "name": "stdout",
     "output_type": "stream",
     "text": [
      "Successfully installed mnist-0.2.2\r\n"
     ]
    }
   ],
   "source": [
    "!pip install mnist"
   ]
  },
  {
   "cell_type": "markdown",
   "id": "69df9c9a",
   "metadata": {
    "papermill": {
     "duration": 0.025116,
     "end_time": "2021-11-30T10:06:41.101543",
     "exception": false,
     "start_time": "2021-11-30T10:06:41.076427",
     "status": "completed"
    },
    "tags": []
   },
   "source": [
    "## Preparing the Data"
   ]
  },
  {
   "cell_type": "code",
   "execution_count": 4,
   "id": "7f69d806",
   "metadata": {
    "execution": {
     "iopub.execute_input": "2021-11-30T10:06:41.155103Z",
     "iopub.status.busy": "2021-11-30T10:06:41.154586Z",
     "iopub.status.idle": "2021-11-30T10:06:41.168724Z",
     "shell.execute_reply": "2021-11-30T10:06:41.168255Z"
    },
    "papermill": {
     "duration": 0.0424,
     "end_time": "2021-11-30T10:06:41.168836",
     "exception": false,
     "start_time": "2021-11-30T10:06:41.126436",
     "status": "completed"
    },
    "tags": []
   },
   "outputs": [],
   "source": [
    "import mnist"
   ]
  },
  {
   "cell_type": "code",
   "execution_count": 5,
   "id": "a411e44f",
   "metadata": {
    "execution": {
     "iopub.execute_input": "2021-11-30T10:06:41.224337Z",
     "iopub.status.busy": "2021-11-30T10:06:41.223819Z",
     "iopub.status.idle": "2021-11-30T10:06:41.895908Z",
     "shell.execute_reply": "2021-11-30T10:06:41.894919Z"
    },
    "papermill": {
     "duration": 0.702087,
     "end_time": "2021-11-30T10:06:41.896029",
     "exception": false,
     "start_time": "2021-11-30T10:06:41.193942",
     "status": "completed"
    },
    "tags": []
   },
   "outputs": [],
   "source": [
    "train_images = mnist.train_images()\n",
    "train_labels = mnist.train_labels()"
   ]
  },
  {
   "cell_type": "code",
   "execution_count": 6,
   "id": "dceab3a5",
   "metadata": {
    "execution": {
     "iopub.execute_input": "2021-11-30T10:06:41.944798Z",
     "iopub.status.busy": "2021-11-30T10:06:41.944317Z",
     "iopub.status.idle": "2021-11-30T10:06:41.957821Z",
     "shell.execute_reply": "2021-11-30T10:06:41.958234Z"
    },
    "papermill": {
     "duration": 0.039937,
     "end_time": "2021-11-30T10:06:41.958366",
     "exception": false,
     "start_time": "2021-11-30T10:06:41.918429",
     "status": "completed"
    },
    "tags": []
   },
   "outputs": [
    {
     "data": {
      "text/plain": [
       "((60000, 28, 28), (60000,))"
      ]
     },
     "execution_count": 6,
     "metadata": {},
     "output_type": "execute_result"
    }
   ],
   "source": [
    "train_images.shape, train_labels.shape"
   ]
  },
  {
   "cell_type": "code",
   "execution_count": 7,
   "id": "f50dc2bb",
   "metadata": {
    "execution": {
     "iopub.execute_input": "2021-11-30T10:06:42.012190Z",
     "iopub.status.busy": "2021-11-30T10:06:42.011684Z",
     "iopub.status.idle": "2021-11-30T10:06:42.220918Z",
     "shell.execute_reply": "2021-11-30T10:06:42.220331Z"
    },
    "papermill": {
     "duration": 0.237441,
     "end_time": "2021-11-30T10:06:42.221067",
     "exception": false,
     "start_time": "2021-11-30T10:06:41.983626",
     "status": "completed"
    },
    "tags": []
   },
   "outputs": [],
   "source": [
    "test_images = mnist.test_images()\n",
    "test_labels = mnist.test_labels()"
   ]
  },
  {
   "cell_type": "code",
   "execution_count": 8,
   "id": "fc38cf1b",
   "metadata": {
    "execution": {
     "iopub.execute_input": "2021-11-30T10:06:42.275922Z",
     "iopub.status.busy": "2021-11-30T10:06:42.275404Z",
     "iopub.status.idle": "2021-11-30T10:06:42.289256Z",
     "shell.execute_reply": "2021-11-30T10:06:42.288830Z"
    },
    "papermill": {
     "duration": 0.04222,
     "end_time": "2021-11-30T10:06:42.289374",
     "exception": false,
     "start_time": "2021-11-30T10:06:42.247154",
     "status": "completed"
    },
    "tags": []
   },
   "outputs": [
    {
     "data": {
      "text/plain": [
       "((10000, 28, 28), (10000,))"
      ]
     },
     "execution_count": 8,
     "metadata": {},
     "output_type": "execute_result"
    }
   ],
   "source": [
    "test_images.shape, test_labels.shape"
   ]
  },
  {
   "cell_type": "code",
   "execution_count": 9,
   "id": "f9ed8fe0",
   "metadata": {
    "execution": {
     "iopub.execute_input": "2021-11-30T10:06:42.346497Z",
     "iopub.status.busy": "2021-11-30T10:06:42.345981Z",
     "iopub.status.idle": "2021-11-30T10:06:42.481037Z",
     "shell.execute_reply": "2021-11-30T10:06:42.481476Z"
    },
    "papermill": {
     "duration": 0.166679,
     "end_time": "2021-11-30T10:06:42.481623",
     "exception": false,
     "start_time": "2021-11-30T10:06:42.314944",
     "status": "completed"
    },
    "tags": []
   },
   "outputs": [
    {
     "name": "stdout",
     "output_type": "stream",
     "text": [
      "2\n"
     ]
    },
    {
     "data": {
      "text/plain": [
       "<matplotlib.image.AxesImage at 0x7f0bc4be54e0>"
      ]
     },
     "execution_count": 9,
     "metadata": {},
     "output_type": "execute_result"
    },
    {
     "data": {
      "image/png": "[encoded data removed]",
      "text/plain": [
       "<Figure size 432x288 with 1 Axes>"
      ]
     },
     "metadata": {
      "needs_background": "light"
     },
     "output_type": "display_data"
    }
   ],
   "source": [
    "image_index = 7776 # You may select anything up to 60,000\n",
    "print(train_labels[image_index]) \n",
    "plt.imshow(train_images[image_index], cmap='Greys')"
   ]
  },
  {
   "cell_type": "markdown",
   "id": "a8d2388d",
   "metadata": {
    "papermill": {
     "duration": 0.026775,
     "end_time": "2021-11-30T10:06:42.535258",
     "exception": false,
     "start_time": "2021-11-30T10:06:42.508483",
     "status": "completed"
    },
    "tags": []
   },
   "source": [
    "## Filter data to get 3 and 8 out"
   ]
  },
  {
   "cell_type": "code",
   "execution_count": 10,
   "id": "776f7fc7",
   "metadata": {
    "execution": {
     "iopub.execute_input": "2021-11-30T10:06:42.592651Z",
     "iopub.status.busy": "2021-11-30T10:06:42.592102Z",
     "iopub.status.idle": "2021-11-30T10:06:42.610381Z",
     "shell.execute_reply": "2021-11-30T10:06:42.610827Z"
    },
    "papermill": {
     "duration": 0.049089,
     "end_time": "2021-11-30T10:06:42.610958",
     "exception": false,
     "start_time": "2021-11-30T10:06:42.561869",
     "status": "completed"
    },
    "tags": []
   },
   "outputs": [],
   "source": [
    "train_filter = np.where((train_labels == 3 ) | (train_labels == 8))\n",
    "test_filter = np.where((test_labels == 3) | (test_labels == 8))\n",
    "X_train, y_train = train_images[train_filter], train_labels[train_filter]\n",
    "X_test, y_test = test_images[test_filter], test_labels[test_filter]"
   ]
  },
  {
   "cell_type": "markdown",
   "id": "948f0b7e",
   "metadata": {
    "papermill": {
     "duration": 0.026891,
     "end_time": "2021-11-30T10:06:42.664607",
     "exception": false,
     "start_time": "2021-11-30T10:06:42.637716",
     "status": "completed"
    },
    "tags": []
   },
   "source": [
    "We normalize the pizel values in the 0 to 1 range"
   ]
  },
  {
   "cell_type": "code",
   "execution_count": 11,
   "id": "ee4c2166",
   "metadata": {
    "execution": {
     "iopub.execute_input": "2021-11-30T10:06:42.721878Z",
     "iopub.status.busy": "2021-11-30T10:06:42.721351Z",
     "iopub.status.idle": "2021-11-30T10:06:42.769698Z",
     "shell.execute_reply": "2021-11-30T10:06:42.769190Z"
    },
    "papermill": {
     "duration": 0.078663,
     "end_time": "2021-11-30T10:06:42.769838",
     "exception": false,
     "start_time": "2021-11-30T10:06:42.691175",
     "status": "completed"
    },
    "tags": []
   },
   "outputs": [],
   "source": [
    "X_train = X_train/255.\n",
    "X_test = X_test/255."
   ]
  },
  {
   "cell_type": "markdown",
   "id": "ddcf4fab",
   "metadata": {
    "papermill": {
     "duration": 0.02693,
     "end_time": "2021-11-30T10:06:42.824170",
     "exception": false,
     "start_time": "2021-11-30T10:06:42.797240",
     "status": "completed"
    },
    "tags": []
   },
   "source": [
    "And setup the labels as 1 (when the digit is 3) and 0 (when the digit is 8)"
   ]
  },
  {
   "cell_type": "code",
   "execution_count": 12,
   "id": "7dc908f2",
   "metadata": {
    "execution": {
     "iopub.execute_input": "2021-11-30T10:06:42.881332Z",
     "iopub.status.busy": "2021-11-30T10:06:42.880792Z",
     "iopub.status.idle": "2021-11-30T10:06:42.892307Z",
     "shell.execute_reply": "2021-11-30T10:06:42.891883Z"
    },
    "papermill": {
     "duration": 0.041515,
     "end_time": "2021-11-30T10:06:42.892421",
     "exception": false,
     "start_time": "2021-11-30T10:06:42.850906",
     "status": "completed"
    },
    "tags": []
   },
   "outputs": [],
   "source": [
    "y_train = 1*(y_train==3)\n",
    "y_test = 1*(y_test==3)"
   ]
  },
  {
   "cell_type": "code",
   "execution_count": 13,
   "id": "01e4e969",
   "metadata": {
    "execution": {
     "iopub.execute_input": "2021-11-30T10:06:42.949679Z",
     "iopub.status.busy": "2021-11-30T10:06:42.949153Z",
     "iopub.status.idle": "2021-11-30T10:06:42.960867Z",
     "shell.execute_reply": "2021-11-30T10:06:42.960410Z"
    },
    "papermill": {
     "duration": 0.04185,
     "end_time": "2021-11-30T10:06:42.960984",
     "exception": false,
     "start_time": "2021-11-30T10:06:42.919134",
     "status": "completed"
    },
    "tags": []
   },
   "outputs": [
    {
     "data": {
      "text/plain": [
       "((11982, 28, 28), (1984, 28, 28))"
      ]
     },
     "execution_count": 13,
     "metadata": {},
     "output_type": "execute_result"
    }
   ],
   "source": [
    "X_train.shape, X_test.shape"
   ]
  },
  {
   "cell_type": "markdown",
   "id": "5ccf3f85",
   "metadata": {
    "papermill": {
     "duration": 0.026928,
     "end_time": "2021-11-30T10:06:43.014750",
     "exception": false,
     "start_time": "2021-11-30T10:06:42.987822",
     "status": "completed"
    },
    "tags": []
   },
   "source": [
    "We reshape the data to flatten the image pixels into a set of features or co-variates:"
   ]
  },
  {
   "cell_type": "code",
   "execution_count": 14,
   "id": "5286a4a3",
   "metadata": {
    "execution": {
     "iopub.execute_input": "2021-11-30T10:06:43.073608Z",
     "iopub.status.busy": "2021-11-30T10:06:43.073079Z",
     "iopub.status.idle": "2021-11-30T10:06:43.086256Z",
     "shell.execute_reply": "2021-11-30T10:06:43.086648Z"
    },
    "papermill": {
     "duration": 0.044443,
     "end_time": "2021-11-30T10:06:43.086778",
     "exception": false,
     "start_time": "2021-11-30T10:06:43.042335",
     "status": "completed"
    },
    "tags": []
   },
   "outputs": [
    {
     "data": {
      "text/plain": [
       "((11982, 784), (1984, 784))"
      ]
     },
     "execution_count": 14,
     "metadata": {},
     "output_type": "execute_result"
    }
   ],
   "source": [
    "X_train = X_train.reshape(X_train.shape[0], -1)\n",
    "X_test = X_test.reshape(X_test.shape[0], -1)\n",
    "X_train.shape, X_test.shape"
   ]
  },
  {
   "cell_type": "code",
   "execution_count": 15,
   "id": "73c5f88a",
   "metadata": {
    "execution": {
     "iopub.execute_input": "2021-11-30T10:06:43.146049Z",
     "iopub.status.busy": "2021-11-30T10:06:43.145519Z",
     "iopub.status.idle": "2021-11-30T10:06:43.164057Z",
     "shell.execute_reply": "2021-11-30T10:06:43.163638Z"
    },
    "papermill": {
     "duration": 0.049747,
     "end_time": "2021-11-30T10:06:43.164171",
     "exception": false,
     "start_time": "2021-11-30T10:06:43.114424",
     "status": "completed"
    },
    "tags": []
   },
   "outputs": [],
   "source": [
    "#Impoting functions from 'Kudzu'\n",
    "from kudzu.model import Model\n",
    "from kudzu.train import Learner\n",
    "from kudzu.optim import GD\n",
    "from kudzu.data import Data, Sampler,Dataloader\n",
    "\n",
    "from kudzu.callbacks import AccCallback\n",
    "from kudzu.callbacks import ClfCallback\n",
    "\n",
    "from kudzu.loss import MSE\n",
    "\n",
    "from kudzu.layer import Sigmoid,Relu\n",
    "from kudzu.layer import Affine"
   ]
  },
  {
   "cell_type": "markdown",
   "id": "bc01172a",
   "metadata": {
    "papermill": {
     "duration": 0.027276,
     "end_time": "2021-11-30T10:06:43.218795",
     "exception": false,
     "start_time": "2021-11-30T10:06:43.191519",
     "status": "completed"
    },
    "tags": []
   },
   "source": [
    "### Let us create a `Config` class, to store important parameters. \n",
    "This class essentially plays the role of a dictionary."
   ]
  },
  {
   "cell_type": "code",
   "execution_count": 16,
   "id": "978281aa",
   "metadata": {
    "execution": {
     "iopub.execute_input": "2021-11-30T10:06:43.277213Z",
     "iopub.status.busy": "2021-11-30T10:06:43.276672Z",
     "iopub.status.idle": "2021-11-30T10:06:43.288593Z",
     "shell.execute_reply": "2021-11-30T10:06:43.289069Z"
    },
    "papermill": {
     "duration": 0.043189,
     "end_time": "2021-11-30T10:06:43.289196",
     "exception": false,
     "start_time": "2021-11-30T10:06:43.246007",
     "status": "completed"
    },
    "tags": []
   },
   "outputs": [],
   "source": [
    "class Config:\n",
    "    pass\n",
    "config = Config()\n",
    "config.lr = 0.001\n",
    "config.num_epochs = 250\n",
    "config.bs = 50"
   ]
  },
  {
   "cell_type": "markdown",
   "id": "1385fa59",
   "metadata": {
    "papermill": {
     "duration": 0.027101,
     "end_time": "2021-11-30T10:06:43.343387",
     "exception": false,
     "start_time": "2021-11-30T10:06:43.316286",
     "status": "completed"
    },
    "tags": []
   },
   "source": [
    "### Running Models with the Training data\n",
    "Details about the network layers:\n",
    "- A first affine layer has 784 inputs and does 100 affine transforms. These are followed by a Relu\n",
    "- A second affine layer has 100 inputs from the 100 activations of the past layer, and does 100 affine transforms. These are followed by a Relu\n",
    "- A third affine layer has 100 activations and does 2 affine transformations to create an embedding for visualization. There is no non-linearity here.\n",
    "- A final \"logistic regression\" which has an affine transform from 2 inputs to 1 output, which is squeezed through a sigmoid.\n"
   ]
  },
  {
   "cell_type": "code",
   "execution_count": 17,
   "id": "2b9c66db",
   "metadata": {
    "execution": {
     "iopub.execute_input": "2021-11-30T10:06:43.404837Z",
     "iopub.status.busy": "2021-11-30T10:06:43.404268Z",
     "iopub.status.idle": "2021-11-30T10:06:43.416381Z",
     "shell.execute_reply": "2021-11-30T10:06:43.416901Z"
    },
    "papermill": {
     "duration": 0.046651,
     "end_time": "2021-11-30T10:06:43.417036",
     "exception": false,
     "start_time": "2021-11-30T10:06:43.370385",
     "status": "completed"
    },
    "tags": []
   },
   "outputs": [],
   "source": [
    "data = Data(X_train, y_train.reshape(-1,1))\n",
    "sampler = Sampler(data, config.bs, shuffle=True)\n",
    "\n",
    "dl = Dataloader(data, sampler)\n",
    "\n",
    "opt = GD(config.lr)\n",
    "loss = MSE()"
   ]
  },
  {
   "cell_type": "code",
   "execution_count": 18,
   "id": "b275e4c2",
   "metadata": {
    "execution": {
     "iopub.execute_input": "2021-11-30T10:06:43.475037Z",
     "iopub.status.busy": "2021-11-30T10:06:43.474510Z",
     "iopub.status.idle": "2021-11-30T10:06:43.485904Z",
     "shell.execute_reply": "2021-11-30T10:06:43.486345Z"
    },
    "papermill": {
     "duration": 0.04222,
     "end_time": "2021-11-30T10:06:43.486473",
     "exception": false,
     "start_time": "2021-11-30T10:06:43.444253",
     "status": "completed"
    },
    "tags": []
   },
   "outputs": [],
   "source": [
    "training_data_x = X_train\n",
    "testing_data_x = X_test\n",
    "training_data_y = y_train.reshape(-1,1)\n",
    "testing_data_y = y_test.reshape(-1,1)"
   ]
  },
  {
   "cell_type": "code",
   "execution_count": 19,
   "id": "76951160",
   "metadata": {
    "execution": {
     "iopub.execute_input": "2021-11-30T10:06:43.552129Z",
     "iopub.status.busy": "2021-11-30T10:06:43.551601Z",
     "iopub.status.idle": "2021-11-30T10:06:43.563326Z",
     "shell.execute_reply": "2021-11-30T10:06:43.562909Z"
    },
    "papermill": {
     "duration": 0.049909,
     "end_time": "2021-11-30T10:06:43.563437",
     "exception": false,
     "start_time": "2021-11-30T10:06:43.513528",
     "status": "completed"
    },
    "tags": []
   },
   "outputs": [
    {
     "name": "stdout",
     "output_type": "stream",
     "text": [
      "xavier\n",
      "xavier\n",
      "xavier\n",
      "xavier\n",
      "xavier\n"
     ]
    }
   ],
   "source": [
    "layers = [Affine(\"first\", 784, 100), Relu(\"first\"), Affine(\"second\", 100, 100), Relu(\"second\"), Affine(\"third\", 100, 2), Affine(\"last\", 2, 1), Sigmoid(\"last\")]\n",
    "model_nn = Model(layers)\n",
    "model_lr = Model([Affine(\"logits\", 784, 1), Sigmoid(\"sigmoid\")])"
   ]
  },
  {
   "cell_type": "code",
   "execution_count": 20,
   "id": "6eede77a",
   "metadata": {
    "execution": {
     "iopub.execute_input": "2021-11-30T10:06:43.622381Z",
     "iopub.status.busy": "2021-11-30T10:06:43.621870Z",
     "iopub.status.idle": "2021-11-30T10:06:43.634264Z",
     "shell.execute_reply": "2021-11-30T10:06:43.633850Z"
    },
    "papermill": {
     "duration": 0.043476,
     "end_time": "2021-11-30T10:06:43.634374",
     "exception": false,
     "start_time": "2021-11-30T10:06:43.590898",
     "status": "completed"
    },
    "tags": []
   },
   "outputs": [],
   "source": [
    "nn_learner = Learner(loss, model_nn, opt, config.num_epochs)\n",
    "acc_nn = ClfCallback(nn_learner, config.bs, training_data_x , testing_data_x, training_data_y, testing_data_y)\n",
    "nn_learner.set_callbacks([acc_nn])"
   ]
  },
  {
   "cell_type": "code",
   "execution_count": 21,
   "id": "877b6cc7",
   "metadata": {
    "execution": {
     "iopub.execute_input": "2021-11-30T10:06:43.692800Z",
     "iopub.status.busy": "2021-11-30T10:06:43.692183Z",
     "iopub.status.idle": "2021-11-30T10:06:43.705303Z",
     "shell.execute_reply": "2021-11-30T10:06:43.704834Z"
    },
    "papermill": {
     "duration": 0.04357,
     "end_time": "2021-11-30T10:06:43.705409",
     "exception": false,
     "start_time": "2021-11-30T10:06:43.661839",
     "status": "completed"
    },
    "tags": []
   },
   "outputs": [],
   "source": [
    "lr_learner = Learner(loss, model_lr, opt, config.num_epochs)\n",
    "acc_lr = ClfCallback(lr_learner, config.bs, training_data_x , testing_data_x, training_data_y, testing_data_y)\n",
    "lr_learner.set_callbacks([acc_lr])"
   ]
  },
  {
   "cell_type": "code",
   "execution_count": 22,
   "id": "d9b133c3",
   "metadata": {
    "execution": {
     "iopub.execute_input": "2021-11-30T10:06:43.770027Z",
     "iopub.status.busy": "2021-11-30T10:06:43.769481Z",
     "iopub.status.idle": "2021-11-30T10:07:59.343018Z",
     "shell.execute_reply": "2021-11-30T10:07:59.343762Z"
    },
    "papermill": {
     "duration": 75.610477,
     "end_time": "2021-11-30T10:07:59.343916",
     "exception": false,
     "start_time": "2021-11-30T10:06:43.733439",
     "status": "completed"
    },
    "tags": []
   },
   "outputs": [
    {
     "name": "stdout",
     "output_type": "stream",
     "text": [
      "Epoch 0, Loss 0.2523\n",
      "Training Accuracy: 0.3869, Testing Accuracy: 0.3664\n",
      "\n"
     ]
    },
    {
     "name": "stdout",
     "output_type": "stream",
     "text": [
      "Epoch 10, Loss 0.2466\n",
      "Training Accuracy: 0.6834, Testing Accuracy: 0.6764\n",
      "\n"
     ]
    },
    {
     "name": "stdout",
     "output_type": "stream",
     "text": [
      "Epoch 20, Loss 0.2297\n",
      "Training Accuracy: 0.8134, Testing Accuracy: 0.8075\n",
      "\n"
     ]
    },
    {
     "name": "stdout",
     "output_type": "stream",
     "text": [
      "Epoch 30, Loss 0.1494\n",
      "Training Accuracy: 0.8925, Testing Accuracy: 0.9032\n",
      "\n"
     ]
    },
    {
     "name": "stdout",
     "output_type": "stream",
     "text": [
      "Epoch 40, Loss 0.0757\n",
      "Training Accuracy: 0.9266, Testing Accuracy: 0.9420\n",
      "\n"
     ]
    },
    {
     "name": "stdout",
     "output_type": "stream",
     "text": [
      "Epoch 50, Loss 0.0534\n",
      "Training Accuracy: 0.9432, Testing Accuracy: 0.9556\n",
      "\n"
     ]
    },
    {
     "name": "stdout",
     "output_type": "stream",
     "text": [
      "Epoch 60, Loss 0.0435\n",
      "Training Accuracy: 0.9515, Testing Accuracy: 0.9622\n",
      "\n"
     ]
    },
    {
     "name": "stdout",
     "output_type": "stream",
     "text": [
      "Epoch 70, Loss 0.038\n",
      "Training Accuracy: 0.9575, Testing Accuracy: 0.9667\n",
      "\n"
     ]
    },
    {
     "name": "stdout",
     "output_type": "stream",
     "text": [
      "Epoch 80, Loss 0.0345\n",
      "Training Accuracy: 0.9609, Testing Accuracy: 0.9703\n",
      "\n"
     ]
    },
    {
     "name": "stdout",
     "output_type": "stream",
     "text": [
      "Epoch 90, Loss 0.0319\n",
      "Training Accuracy: 0.9628, Testing Accuracy: 0.9703\n",
      "\n"
     ]
    },
    {
     "name": "stdout",
     "output_type": "stream",
     "text": [
      "Epoch 100, Loss 0.03\n",
      "Training Accuracy: 0.9653, Testing Accuracy: 0.9708\n",
      "\n"
     ]
    },
    {
     "name": "stdout",
     "output_type": "stream",
     "text": [
      "Epoch 110, Loss 0.0285\n",
      "Training Accuracy: 0.9669, Testing Accuracy: 0.9708\n",
      "\n"
     ]
    },
    {
     "name": "stdout",
     "output_type": "stream",
     "text": [
      "Epoch 120, Loss 0.0272\n",
      "Training Accuracy: 0.9685, Testing Accuracy: 0.9708\n",
      "\n"
     ]
    },
    {
     "name": "stdout",
     "output_type": "stream",
     "text": [
      "Epoch 130, Loss 0.0262\n",
      "Training Accuracy: 0.9698, Testing Accuracy: 0.9708\n",
      "\n"
     ]
    },
    {
     "name": "stdout",
     "output_type": "stream",
     "text": [
      "Epoch 140, Loss 0.0253\n",
      "Training Accuracy: 0.9704, Testing Accuracy: 0.9713\n",
      "\n"
     ]
    },
    {
     "name": "stdout",
     "output_type": "stream",
     "text": [
      "Epoch 150, Loss 0.0245\n",
      "Training Accuracy: 0.9719, Testing Accuracy: 0.9723\n",
      "\n"
     ]
    },
    {
     "name": "stdout",
     "output_type": "stream",
     "text": [
      "Epoch 160, Loss 0.0238\n",
      "Training Accuracy: 0.9728, Testing Accuracy: 0.9718\n",
      "\n"
     ]
    },
    {
     "name": "stdout",
     "output_type": "stream",
     "text": [
      "Epoch 170, Loss 0.0232\n",
      "Training Accuracy: 0.9735, Testing Accuracy: 0.9738\n",
      "\n"
     ]
    },
    {
     "name": "stdout",
     "output_type": "stream",
     "text": [
      "Epoch 180, Loss 0.0226\n",
      "Training Accuracy: 0.9745, Testing Accuracy: 0.9743\n",
      "\n"
     ]
    },
    {
     "name": "stdout",
     "output_type": "stream",
     "text": [
      "Epoch 190, Loss 0.022\n",
      "Training Accuracy: 0.9754, Testing Accuracy: 0.9738\n",
      "\n"
     ]
    },
    {
     "name": "stdout",
     "output_type": "stream",
     "text": [
      "Epoch 200, Loss 0.0215\n",
      "Training Accuracy: 0.9760, Testing Accuracy: 0.9748\n",
      "\n"
     ]
    },
    {
     "name": "stdout",
     "output_type": "stream",
     "text": [
      "Epoch 210, Loss 0.0211\n",
      "Training Accuracy: 0.9764, Testing Accuracy: 0.9748\n",
      "\n"
     ]
    },
    {
     "name": "stdout",
     "output_type": "stream",
     "text": [
      "Epoch 220, Loss 0.0207\n",
      "Training Accuracy: 0.9767, Testing Accuracy: 0.9748\n",
      "\n"
     ]
    },
    {
     "name": "stdout",
     "output_type": "stream",
     "text": [
      "Epoch 230, Loss 0.0203\n",
      "Training Accuracy: 0.9772, Testing Accuracy: 0.9748\n",
      "\n"
     ]
    },
    {
     "name": "stdout",
     "output_type": "stream",
     "text": [
      "Epoch 240, Loss 0.0199\n",
      "Training Accuracy: 0.9776, Testing Accuracy: 0.9743\n",
      "\n"
     ]
    },
    {
     "data": {
      "text/plain": [
       "0.02944884908530867"
      ]
     },
     "execution_count": 22,
     "metadata": {},
     "output_type": "execute_result"
    }
   ],
   "source": [
    "nn_learner.train_loop(dl)"
   ]
  },
  {
   "cell_type": "code",
   "execution_count": 23,
   "id": "e0163366",
   "metadata": {
    "execution": {
     "iopub.execute_input": "2021-11-30T10:07:59.422613Z",
     "iopub.status.busy": "2021-11-30T10:07:59.422050Z",
     "iopub.status.idle": "2021-11-30T10:08:12.942682Z",
     "shell.execute_reply": "2021-11-30T10:08:12.943472Z"
    },
    "papermill": {
     "duration": 13.564896,
     "end_time": "2021-11-30T10:08:12.943623",
     "exception": false,
     "start_time": "2021-11-30T10:07:59.378727",
     "status": "completed"
    },
    "tags": []
   },
   "outputs": [
    {
     "name": "stdout",
     "output_type": "stream",
     "text": [
      "Epoch 0, Loss 0.2285\n",
      "Training Accuracy: 0.7014, Testing Accuracy: 0.7097\n",
      "\n"
     ]
    },
    {
     "name": "stdout",
     "output_type": "stream",
     "text": [
      "Epoch 10, Loss 0.1068\n",
      "Training Accuracy: 0.8959, Testing Accuracy: 0.9078\n",
      "\n"
     ]
    },
    {
     "name": "stdout",
     "output_type": "stream",
     "text": [
      "Epoch 20, Loss 0.0815\n",
      "Training Accuracy: 0.9223, Testing Accuracy: 0.9400\n",
      "\n"
     ]
    },
    {
     "name": "stdout",
     "output_type": "stream",
     "text": [
      "Epoch 30, Loss 0.0698\n",
      "Training Accuracy: 0.9326, Testing Accuracy: 0.9491\n",
      "\n"
     ]
    },
    {
     "name": "stdout",
     "output_type": "stream",
     "text": [
      "Epoch 40, Loss 0.0629\n",
      "Training Accuracy: 0.9380, Testing Accuracy: 0.9516\n",
      "\n"
     ]
    },
    {
     "name": "stdout",
     "output_type": "stream",
     "text": [
      "Epoch 50, Loss 0.0582\n",
      "Training Accuracy: 0.9421, Testing Accuracy: 0.9546\n",
      "\n"
     ]
    },
    {
     "name": "stdout",
     "output_type": "stream",
     "text": [
      "Epoch 60, Loss 0.0547\n",
      "Training Accuracy: 0.9456, Testing Accuracy: 0.9577\n",
      "\n"
     ]
    },
    {
     "name": "stdout",
     "output_type": "stream",
     "text": [
      "Epoch 70, Loss 0.0521\n",
      "Training Accuracy: 0.9475, Testing Accuracy: 0.9587\n",
      "\n"
     ]
    },
    {
     "name": "stdout",
     "output_type": "stream",
     "text": [
      "Epoch 80, Loss 0.0499\n",
      "Training Accuracy: 0.9498, Testing Accuracy: 0.9592\n",
      "\n"
     ]
    },
    {
     "name": "stdout",
     "output_type": "stream",
     "text": [
      "Epoch 90, Loss 0.0482\n",
      "Training Accuracy: 0.9516, Testing Accuracy: 0.9597\n",
      "\n"
     ]
    },
    {
     "name": "stdout",
     "output_type": "stream",
     "text": [
      "Epoch 100, Loss 0.0467\n",
      "Training Accuracy: 0.9528, Testing Accuracy: 0.9597\n",
      "\n"
     ]
    },
    {
     "name": "stdout",
     "output_type": "stream",
     "text": [
      "Epoch 110, Loss 0.0455\n",
      "Training Accuracy: 0.9533, Testing Accuracy: 0.9602\n",
      "\n"
     ]
    },
    {
     "name": "stdout",
     "output_type": "stream",
     "text": [
      "Epoch 120, Loss 0.0444\n",
      "Training Accuracy: 0.9543, Testing Accuracy: 0.9602\n",
      "\n"
     ]
    },
    {
     "name": "stdout",
     "output_type": "stream",
     "text": [
      "Epoch 130, Loss 0.0434\n",
      "Training Accuracy: 0.9545, Testing Accuracy: 0.9612\n",
      "\n"
     ]
    },
    {
     "name": "stdout",
     "output_type": "stream",
     "text": [
      "Epoch 140, Loss 0.0426\n",
      "Training Accuracy: 0.9556, Testing Accuracy: 0.9622\n",
      "\n"
     ]
    },
    {
     "name": "stdout",
     "output_type": "stream",
     "text": [
      "Epoch 150, Loss 0.0418\n",
      "Training Accuracy: 0.9559, Testing Accuracy: 0.9622\n",
      "\n"
     ]
    },
    {
     "name": "stdout",
     "output_type": "stream",
     "text": [
      "Epoch 160, Loss 0.0411\n",
      "Training Accuracy: 0.9569, Testing Accuracy: 0.9632\n",
      "\n"
     ]
    },
    {
     "name": "stdout",
     "output_type": "stream",
     "text": [
      "Epoch 170, Loss 0.0405\n",
      "Training Accuracy: 0.9576, Testing Accuracy: 0.9637\n",
      "\n"
     ]
    },
    {
     "name": "stdout",
     "output_type": "stream",
     "text": [
      "Epoch 180, Loss 0.0399\n",
      "Training Accuracy: 0.9578, Testing Accuracy: 0.9642\n",
      "\n"
     ]
    },
    {
     "name": "stdout",
     "output_type": "stream",
     "text": [
      "Epoch 190, Loss 0.0394\n",
      "Training Accuracy: 0.9579, Testing Accuracy: 0.9642\n",
      "\n"
     ]
    },
    {
     "name": "stdout",
     "output_type": "stream",
     "text": [
      "Epoch 200, Loss 0.0389\n",
      "Training Accuracy: 0.9584, Testing Accuracy: 0.9642\n",
      "\n"
     ]
    },
    {
     "name": "stdout",
     "output_type": "stream",
     "text": [
      "Epoch 210, Loss 0.0385\n",
      "Training Accuracy: 0.9589, Testing Accuracy: 0.9642\n",
      "\n"
     ]
    },
    {
     "name": "stdout",
     "output_type": "stream",
     "text": [
      "Epoch 220, Loss 0.038\n",
      "Training Accuracy: 0.9594, Testing Accuracy: 0.9642\n",
      "\n"
     ]
    },
    {
     "name": "stdout",
     "output_type": "stream",
     "text": [
      "Epoch 230, Loss 0.0376\n",
      "Training Accuracy: 0.9596, Testing Accuracy: 0.9647\n",
      "\n"
     ]
    },
    {
     "name": "stdout",
     "output_type": "stream",
     "text": [
      "Epoch 240, Loss 0.0373\n",
      "Training Accuracy: 0.9598, Testing Accuracy: 0.9647\n",
      "\n"
     ]
    },
    {
     "data": {
      "text/plain": [
       "0.054921508464361765"
      ]
     },
     "execution_count": 23,
     "metadata": {},
     "output_type": "execute_result"
    }
   ],
   "source": [
    "lr_learner.train_loop(dl)"
   ]
  },
  {
   "cell_type": "code",
   "execution_count": 24,
   "id": "ca410940",
   "metadata": {
    "execution": {
     "iopub.execute_input": "2021-11-30T10:08:13.040461Z",
     "iopub.status.busy": "2021-11-30T10:08:13.039890Z",
     "iopub.status.idle": "2021-11-30T10:08:13.275712Z",
     "shell.execute_reply": "2021-11-30T10:08:13.275190Z"
    },
    "papermill": {
     "duration": 0.282033,
     "end_time": "2021-11-30T10:08:13.275849",
     "exception": false,
     "start_time": "2021-11-30T10:08:12.993816",
     "status": "completed"
    },
    "tags": []
   },
   "outputs": [
    {
     "data": {
      "text/plain": [
       "<matplotlib.legend.Legend at 0x7f0bc47bfc88>"
      ]
     },
     "execution_count": 24,
     "metadata": {},
     "output_type": "execute_result"
    },
    {
     "data": {
      "image/png": "[encoded data removed]",
      "text/plain": [
       "<Figure size 1080x720 with 1 Axes>"
      ]
     },
     "metadata": {
      "needs_background": "light"
     },
     "output_type": "display_data"
    }
   ],
   "source": [
    "#comparing the results of NN and LR\n",
    "plt.figure(figsize=(15,10))\n",
    "\n",
    "# Neural Network plots\n",
    "plt.plot(acc_nn.accuracies, 'r-', label = \"Training Accuracies - NN\")\n",
    "plt.plot(acc_nn.test_accuracies, 'g-', label = \"Testing Accuracies - NN\")\n",
    "\n",
    "# Logistic Regression plots\n",
    "plt.plot(acc_lr.accuracies, 'k-', label = \"Training Accuracies - LR\")\n",
    "plt.plot(acc_lr.test_accuracies, 'b-', label = \"Testing Accuracies - LR\")\n",
    "plt.legend()"
   ]
  },
  {
   "cell_type": "markdown",
   "id": "80dfb35c",
   "metadata": {
    "papermill": {
     "duration": 0.037736,
     "end_time": "2021-11-30T10:08:13.352165",
     "exception": false,
     "start_time": "2021-11-30T10:08:13.314429",
     "status": "completed"
    },
    "tags": []
   },
   "source": [
    "#### Plotting the outputs of this layer of the NN.\n"
   ]
  },
  {
   "cell_type": "code",
   "execution_count": 25,
   "id": "45eb2ff5",
   "metadata": {
    "execution": {
     "iopub.execute_input": "2021-11-30T10:08:13.431354Z",
     "iopub.status.busy": "2021-11-30T10:08:13.430872Z",
     "iopub.status.idle": "2021-11-30T10:08:13.450335Z",
     "shell.execute_reply": "2021-11-30T10:08:13.450723Z"
    },
    "papermill": {
     "duration": 0.061114,
     "end_time": "2021-11-30T10:08:13.450862",
     "exception": false,
     "start_time": "2021-11-30T10:08:13.389748",
     "status": "completed"
    },
    "tags": []
   },
   "outputs": [],
   "source": [
    "new_model = Model(layers[:-2])\n",
    "testing_plot = new_model(testing_data_x)"
   ]
  },
  {
   "cell_type": "code",
   "execution_count": 26,
   "id": "4c0a5485",
   "metadata": {
    "execution": {
     "iopub.execute_input": "2021-11-30T10:08:13.533337Z",
     "iopub.status.busy": "2021-11-30T10:08:13.532583Z",
     "iopub.status.idle": "2021-11-30T10:08:13.736481Z",
     "shell.execute_reply": "2021-11-30T10:08:13.736920Z"
    },
    "papermill": {
     "duration": 0.246623,
     "end_time": "2021-11-30T10:08:13.737071",
     "exception": false,
     "start_time": "2021-11-30T10:08:13.490448",
     "status": "completed"
    },
    "tags": []
   },
   "outputs": [
    {
     "data": {
      "text/plain": [
       "Text(0.5, 1.0, 'Outputs')"
      ]
     },
     "execution_count": 26,
     "metadata": {},
     "output_type": "execute_result"
    },
    {
     "data": {
      "image/png": "[encoded data removed]",
      "text/plain": [
       "<Figure size 576x504 with 1 Axes>"
      ]
     },
     "metadata": {
      "needs_background": "light"
     },
     "output_type": "display_data"
    }
   ],
   "source": [
    "# Plotting the scatter plot of points and color coding by class\n",
    "plt.figure(figsize=(8,7))\n",
    "plt.scatter(testing_plot[:,0], testing_plot[:,1], alpha = 0.1, c = y_test.ravel());\n",
    "plt.title('Outputs')"
   ]
  },
  {
   "cell_type": "markdown",
   "id": "a74fcf8f",
   "metadata": {
    "papermill": {
     "duration": 0.044407,
     "end_time": "2021-11-30T10:08:13.826057",
     "exception": false,
     "start_time": "2021-11-30T10:08:13.781650",
     "status": "completed"
    },
    "tags": []
   },
   "source": [
    "Probability contours"
   ]
  },
  {
   "cell_type": "code",
   "execution_count": 27,
   "id": "d0afc8e3",
   "metadata": {
    "execution": {
     "iopub.execute_input": "2021-11-30T10:08:13.925015Z",
     "iopub.status.busy": "2021-11-30T10:08:13.920450Z",
     "iopub.status.idle": "2021-11-30T10:08:13.934318Z",
     "shell.execute_reply": "2021-11-30T10:08:13.933844Z"
    },
    "papermill": {
     "duration": 0.063449,
     "end_time": "2021-11-30T10:08:13.934439",
     "exception": false,
     "start_time": "2021-11-30T10:08:13.870990",
     "status": "completed"
    },
    "tags": []
   },
   "outputs": [],
   "source": [
    "model_prob = Model(layers[-2:]) "
   ]
  },
  {
   "cell_type": "code",
   "execution_count": 28,
   "id": "9b96e238",
   "metadata": {
    "execution": {
     "iopub.execute_input": "2021-11-30T10:08:14.061197Z",
     "iopub.status.busy": "2021-11-30T10:08:14.060031Z",
     "iopub.status.idle": "2021-11-30T10:08:14.075562Z",
     "shell.execute_reply": "2021-11-30T10:08:14.075964Z"
    },
    "papermill": {
     "duration": 0.097021,
     "end_time": "2021-11-30T10:08:14.076104",
     "exception": false,
     "start_time": "2021-11-30T10:08:13.979083",
     "status": "completed"
    },
    "tags": []
   },
   "outputs": [],
   "source": [
    "#creating the x and y ranges according to the above generated plot.\n",
    "x_range = np.linspace(-4, 1, 100) \n",
    "y_range = np.linspace(-6, 6, 100) \n",
    "x_grid, y_grid = np.meshgrid(x_range, y_range) # x_grid and y_grig are of size 100 X 100\n",
    "\n",
    "# converting x_grid and y_grid to continuous arrays\n",
    "x_gridflat = np.ravel(x_grid)\n",
    "y_gridflat = np.ravel(y_grid)\n",
    "\n",
    "# The last layer of the current model takes two columns as input. Hence transpose of np.vstack() is required.\n",
    "X = np.vstack((x_gridflat, y_gridflat)).T\n",
    "\n",
    "prob_contour = model_prob(X).reshape(100,100) "
   ]
  },
  {
   "cell_type": "code",
   "execution_count": 29,
   "id": "da72499a",
   "metadata": {
    "execution": {
     "iopub.execute_input": "2021-11-30T10:08:14.172553Z",
     "iopub.status.busy": "2021-11-30T10:08:14.170074Z",
     "iopub.status.idle": "2021-11-30T10:08:14.435035Z",
     "shell.execute_reply": "2021-11-30T10:08:14.433886Z"
    },
    "papermill": {
     "duration": 0.314544,
     "end_time": "2021-11-30T10:08:14.435196",
     "exception": false,
     "start_time": "2021-11-30T10:08:14.120652",
     "status": "completed"
    },
    "tags": []
   },
   "outputs": [
    {
     "data": {
      "image/png": "[encoded data removed]",
      "text/plain": [
       "<Figure size 720x648 with 1 Axes>"
      ]
     },
     "metadata": {
      "needs_background": "light"
     },
     "output_type": "display_data"
    }
   ],
   "source": [
    "plt.figure(figsize=(10,9))\n",
    "plt.scatter(testing_plot[:,0], testing_plot[:,1], alpha = 0.1, c = y_test.ravel())\n",
    "contours = plt.contour(x_grid,y_grid,prob_contour)\n",
    "plt.title('Probability Contours')\n",
    "plt.clabel(contours, inline = True );"
   ]
  },
  {
   "cell_type": "code",
   "execution_count": null,
   "id": "e81b4ac7",
   "metadata": {
    "papermill": {
     "duration": 0.051881,
     "end_time": "2021-11-30T10:08:14.537767",
     "exception": false,
     "start_time": "2021-11-30T10:08:14.485886",
     "status": "completed"
    },
    "tags": []
   },
   "outputs": [],
   "source": []
  }
 ],
 "metadata": {
  "kernelspec": {
   "display_name": "Python 3",
   "language": "python",
   "name": "python3"
  },
  "language_info": {
   "codemirror_mode": {
    "name": "ipython",
    "version": 3
   },
   "file_extension": ".py",
   "mimetype": "text/x-python",
   "name": "python",
   "nbconvert_exporter": "python",
   "pygments_lexer": "ipython3",
   "version": "3.6.15"
  },
  "papermill": {
   "default_parameters": {},
   "duration": 98.237984,
   "end_time": "2021-11-30T10:08:14.997107",
   "environment_variables": {},
   "exception": null,
   "input_path": "2020-08-11-part2.ipynb",
   "output_path": "2020-08-11-part2.ipynb",
   "parameters": {},
   "start_time": "2021-11-30T10:06:36.759123",
   "version": "2.3.3"
  }
 },
 "nbformat": 4,
 "nbformat_minor": 5
}