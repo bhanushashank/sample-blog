{
 "cells": [
  {
   "cell_type": "markdown",
   "id": "98380cd3",
   "metadata": {
    "papermill": {
     "duration": 0.036168,
     "end_time": "2022-06-27T10:11:00.636103",
     "exception": false,
     "start_time": "2022-06-27T10:11:00.599935",
     "status": "completed"
    },
    "tags": []
   },
   "source": [
    "# Distinguish Your Own Digits (DYOD)"
   ]
  },
  {
   "cell_type": "markdown",
   "id": "ef31240d",
   "metadata": {
    "papermill": {
     "duration": 0.029305,
     "end_time": "2022-06-27T10:11:00.693726",
     "exception": false,
     "start_time": "2022-06-27T10:11:00.664421",
     "status": "completed"
    },
    "tags": []
   },
   "source": [
    "You are going to write a classifier that distinguishes between the number 3 and number 8."
   ]
  },
  {
   "cell_type": "code",
   "execution_count": 1,
   "id": "b15c8646",
   "metadata": {
    "execution": {
     "iopub.execute_input": "2022-06-27T10:11:00.762518Z",
     "iopub.status.busy": "2022-06-27T10:11:00.761795Z",
     "iopub.status.idle": "2022-06-27T10:11:00.773933Z",
     "shell.execute_reply": "2022-06-27T10:11:00.774615Z"
    },
    "papermill": {
     "duration": 0.053179,
     "end_time": "2022-06-27T10:11:00.774775",
     "exception": false,
     "start_time": "2022-06-27T10:11:00.721596",
     "status": "completed"
    },
    "tags": []
   },
   "outputs": [],
   "source": [
    "%load_ext autoreload\n",
    "%autoreload 2"
   ]
  },
  {
   "cell_type": "code",
   "execution_count": 2,
   "id": "22ef38dc",
   "metadata": {
    "execution": {
     "iopub.execute_input": "2022-06-27T10:11:00.843429Z",
     "iopub.status.busy": "2022-06-27T10:11:00.842729Z",
     "iopub.status.idle": "2022-06-27T10:11:01.496776Z",
     "shell.execute_reply": "2022-06-27T10:11:01.496133Z"
    },
    "papermill": {
     "duration": 0.692147,
     "end_time": "2022-06-27T10:11:01.496921",
     "exception": false,
     "start_time": "2022-06-27T10:11:00.804774",
     "status": "completed"
    },
    "tags": []
   },
   "outputs": [],
   "source": [
    "%matplotlib inline\n",
    "import numpy as np\n",
    "import matplotlib.pyplot as plt\n",
    "import pandas as pd"
   ]
  },
  {
   "cell_type": "markdown",
   "id": "ba036198",
   "metadata": {
    "papermill": {
     "duration": 0.028917,
     "end_time": "2022-06-27T10:11:01.555228",
     "exception": false,
     "start_time": "2022-06-27T10:11:01.526311",
     "status": "completed"
    },
    "tags": []
   },
   "source": [
    "From the command line run `pip install mnist`. This is a library that will help you bring down the mnist dataset. If you run this from a notebook, you need to put  `!pip install mnist` in a cell by itself."
   ]
  },
  {
   "cell_type": "code",
   "execution_count": 3,
   "id": "bb6ad8a1",
   "metadata": {
    "execution": {
     "iopub.execute_input": "2022-06-27T10:11:01.619057Z",
     "iopub.status.busy": "2022-06-27T10:11:01.618374Z",
     "iopub.status.idle": "2022-06-27T10:11:03.716550Z",
     "shell.execute_reply": "2022-06-27T10:11:03.715973Z"
    },
    "papermill": {
     "duration": 2.131802,
     "end_time": "2022-06-27T10:11:03.716713",
     "exception": false,
     "start_time": "2022-06-27T10:11:01.584911",
     "status": "completed"
    },
    "tags": []
   },
   "outputs": [
    {
     "name": "stdout",
     "output_type": "stream",
     "text": [
      "Collecting mnist\r\n"
     ]
    },
    {
     "name": "stdout",
     "output_type": "stream",
     "text": [
      "  Downloading mnist-0.2.2-py2.py3-none-any.whl (3.5 kB)\r\n"
     ]
    },
    {
     "name": "stdout",
     "output_type": "stream",
     "text": [
      "Requirement already satisfied: numpy in /opt/hostedtoolcache/Python/3.6.15/x64/lib/python3.6/site-packages (from mnist) (1.19.5)\r\n"
     ]
    },
    {
     "name": "stdout",
     "output_type": "stream",
     "text": [
      "Installing collected packages: mnist\r\n"
     ]
    },
    {
     "name": "stdout",
     "output_type": "stream",
     "text": [
      "Successfully installed mnist-0.2.2\r\n"
     ]
    }
   ],
   "source": [
    "!pip install mnist"
   ]
  },
  {
   "cell_type": "markdown",
   "id": "69df9c9a",
   "metadata": {
    "papermill": {
     "duration": 0.032199,
     "end_time": "2022-06-27T10:11:03.787176",
     "exception": false,
     "start_time": "2022-06-27T10:11:03.754977",
     "status": "completed"
    },
    "tags": []
   },
   "source": [
    "## Preparing the Data"
   ]
  },
  {
   "cell_type": "code",
   "execution_count": 4,
   "id": "7f69d806",
   "metadata": {
    "execution": {
     "iopub.execute_input": "2022-06-27T10:11:03.856779Z",
     "iopub.status.busy": "2022-06-27T10:11:03.856023Z",
     "iopub.status.idle": "2022-06-27T10:11:03.872147Z",
     "shell.execute_reply": "2022-06-27T10:11:03.872890Z"
    },
    "papermill": {
     "duration": 0.054536,
     "end_time": "2022-06-27T10:11:03.873084",
     "exception": false,
     "start_time": "2022-06-27T10:11:03.818548",
     "status": "completed"
    },
    "tags": []
   },
   "outputs": [],
   "source": [
    "import mnist"
   ]
  },
  {
   "cell_type": "code",
   "execution_count": 5,
   "id": "a411e44f",
   "metadata": {
    "execution": {
     "iopub.execute_input": "2022-06-27T10:11:03.945624Z",
     "iopub.status.busy": "2022-06-27T10:11:03.944888Z",
     "iopub.status.idle": "2022-06-27T10:11:04.610618Z",
     "shell.execute_reply": "2022-06-27T10:11:04.611323Z"
    },
    "papermill": {
     "duration": 0.706757,
     "end_time": "2022-06-27T10:11:04.611509",
     "exception": false,
     "start_time": "2022-06-27T10:11:03.904752",
     "status": "completed"
    },
    "tags": []
   },
   "outputs": [],
   "source": [
    "train_images = mnist.train_images()\n",
    "train_labels = mnist.train_labels()"
   ]
  },
  {
   "cell_type": "code",
   "execution_count": 6,
   "id": "dceab3a5",
   "metadata": {
    "execution": {
     "iopub.execute_input": "2022-06-27T10:11:04.681869Z",
     "iopub.status.busy": "2022-06-27T10:11:04.681071Z",
     "iopub.status.idle": "2022-06-27T10:11:04.697713Z",
     "shell.execute_reply": "2022-06-27T10:11:04.698352Z"
    },
    "papermill": {
     "duration": 0.054254,
     "end_time": "2022-06-27T10:11:04.698505",
     "exception": false,
     "start_time": "2022-06-27T10:11:04.644251",
     "status": "completed"
    },
    "tags": []
   },
   "outputs": [
    {
     "data": {
      "text/plain": [
       "((60000, 28, 28), (60000,))"
      ]
     },
     "execution_count": 6,
     "metadata": {},
     "output_type": "execute_result"
    }
   ],
   "source": [
    "train_images.shape, train_labels.shape"
   ]
  },
  {
   "cell_type": "code",
   "execution_count": 7,
   "id": "f50dc2bb",
   "metadata": {
    "execution": {
     "iopub.execute_input": "2022-06-27T10:11:04.768849Z",
     "iopub.status.busy": "2022-06-27T10:11:04.768040Z",
     "iopub.status.idle": "2022-06-27T10:11:04.951522Z",
     "shell.execute_reply": "2022-06-27T10:11:04.950887Z"
    },
    "papermill": {
     "duration": 0.221872,
     "end_time": "2022-06-27T10:11:04.951663",
     "exception": false,
     "start_time": "2022-06-27T10:11:04.729791",
     "status": "completed"
    },
    "tags": []
   },
   "outputs": [],
   "source": [
    "test_images = mnist.test_images()\n",
    "test_labels = mnist.test_labels()"
   ]
  },
  {
   "cell_type": "code",
   "execution_count": 8,
   "id": "fc38cf1b",
   "metadata": {
    "execution": {
     "iopub.execute_input": "2022-06-27T10:11:05.015394Z",
     "iopub.status.busy": "2022-06-27T10:11:05.014588Z",
     "iopub.status.idle": "2022-06-27T10:11:05.031150Z",
     "shell.execute_reply": "2022-06-27T10:11:05.031875Z"
    },
    "papermill": {
     "duration": 0.050218,
     "end_time": "2022-06-27T10:11:05.032045",
     "exception": false,
     "start_time": "2022-06-27T10:11:04.981827",
     "status": "completed"
    },
    "tags": []
   },
   "outputs": [
    {
     "data": {
      "text/plain": [
       "((10000, 28, 28), (10000,))"
      ]
     },
     "execution_count": 8,
     "metadata": {},
     "output_type": "execute_result"
    }
   ],
   "source": [
    "test_images.shape, test_labels.shape"
   ]
  },
  {
   "cell_type": "code",
   "execution_count": 9,
   "id": "f9ed8fe0",
   "metadata": {
    "execution": {
     "iopub.execute_input": "2022-06-27T10:11:05.102491Z",
     "iopub.status.busy": "2022-06-27T10:11:05.101767Z",
     "iopub.status.idle": "2022-06-27T10:11:05.307449Z",
     "shell.execute_reply": "2022-06-27T10:11:05.306474Z"
    },
    "papermill": {
     "duration": 0.240997,
     "end_time": "2022-06-27T10:11:05.307683",
     "exception": false,
     "start_time": "2022-06-27T10:11:05.066686",
     "status": "completed"
    },
    "tags": []
   },
   "outputs": [
    {
     "name": "stdout",
     "output_type": "stream",
     "text": [
      "2\n"
     ]
    },
    {
     "data": {
      "text/plain": [
       "<matplotlib.image.AxesImage at 0x7ff04142c400>"
      ]
     },
     "execution_count": 9,
     "metadata": {},
     "output_type": "execute_result"
    },
    {
     "data": {
      "image/png": "[encoded data removed]",
      "text/plain": [
       "<Figure size 432x288 with 1 Axes>"
      ]
     },
     "metadata": {
      "needs_background": "light"
     },
     "output_type": "display_data"
    }
   ],
   "source": [
    "image_index = 7776 # You may select anything up to 60,000\n",
    "print(train_labels[image_index]) \n",
    "plt.imshow(train_images[image_index], cmap='Greys')"
   ]
  },
  {
   "cell_type": "markdown",
   "id": "a8d2388d",
   "metadata": {
    "papermill": {
     "duration": 0.034178,
     "end_time": "2022-06-27T10:11:05.378031",
     "exception": false,
     "start_time": "2022-06-27T10:11:05.343853",
     "status": "completed"
    },
    "tags": []
   },
   "source": [
    "## Filter data to get 3 and 8 out"
   ]
  },
  {
   "cell_type": "code",
   "execution_count": 10,
   "id": "776f7fc7",
   "metadata": {
    "execution": {
     "iopub.execute_input": "2022-06-27T10:11:05.449775Z",
     "iopub.status.busy": "2022-06-27T10:11:05.449010Z",
     "iopub.status.idle": "2022-06-27T10:11:05.472628Z",
     "shell.execute_reply": "2022-06-27T10:11:05.473189Z"
    },
    "papermill": {
     "duration": 0.063444,
     "end_time": "2022-06-27T10:11:05.473352",
     "exception": false,
     "start_time": "2022-06-27T10:11:05.409908",
     "status": "completed"
    },
    "tags": []
   },
   "outputs": [],
   "source": [
    "train_filter = np.where((train_labels == 3 ) | (train_labels == 8))\n",
    "test_filter = np.where((test_labels == 3) | (test_labels == 8))\n",
    "X_train, y_train = train_images[train_filter], train_labels[train_filter]\n",
    "X_test, y_test = test_images[test_filter], test_labels[test_filter]"
   ]
  },
  {
   "cell_type": "markdown",
   "id": "948f0b7e",
   "metadata": {
    "papermill": {
     "duration": 0.031185,
     "end_time": "2022-06-27T10:11:05.536362",
     "exception": false,
     "start_time": "2022-06-27T10:11:05.505177",
     "status": "completed"
    },
    "tags": []
   },
   "source": [
    "We normalize the pizel values in the 0 to 1 range"
   ]
  },
  {
   "cell_type": "code",
   "execution_count": 11,
   "id": "ee4c2166",
   "metadata": {
    "execution": {
     "iopub.execute_input": "2022-06-27T10:11:05.609872Z",
     "iopub.status.busy": "2022-06-27T10:11:05.608997Z",
     "iopub.status.idle": "2022-06-27T10:11:05.674172Z",
     "shell.execute_reply": "2022-06-27T10:11:05.673552Z"
    },
    "papermill": {
     "duration": 0.103635,
     "end_time": "2022-06-27T10:11:05.674364",
     "exception": false,
     "start_time": "2022-06-27T10:11:05.570729",
     "status": "completed"
    },
    "tags": []
   },
   "outputs": [],
   "source": [
    "X_train = X_train/255.\n",
    "X_test = X_test/255."
   ]
  },
  {
   "cell_type": "markdown",
   "id": "ddcf4fab",
   "metadata": {
    "papermill": {
     "duration": 0.031093,
     "end_time": "2022-06-27T10:11:05.737860",
     "exception": false,
     "start_time": "2022-06-27T10:11:05.706767",
     "status": "completed"
    },
    "tags": []
   },
   "source": [
    "And setup the labels as 1 (when the digit is 3) and 0 (when the digit is 8)"
   ]
  },
  {
   "cell_type": "code",
   "execution_count": 12,
   "id": "7dc908f2",
   "metadata": {
    "execution": {
     "iopub.execute_input": "2022-06-27T10:11:05.810874Z",
     "iopub.status.busy": "2022-06-27T10:11:05.810045Z",
     "iopub.status.idle": "2022-06-27T10:11:05.826459Z",
     "shell.execute_reply": "2022-06-27T10:11:05.827400Z"
    },
    "papermill": {
     "duration": 0.058662,
     "end_time": "2022-06-27T10:11:05.827578",
     "exception": false,
     "start_time": "2022-06-27T10:11:05.768916",
     "status": "completed"
    },
    "tags": []
   },
   "outputs": [],
   "source": [
    "y_train = 1*(y_train==3)\n",
    "y_test = 1*(y_test==3)"
   ]
  },
  {
   "cell_type": "code",
   "execution_count": 13,
   "id": "01e4e969",
   "metadata": {
    "execution": {
     "iopub.execute_input": "2022-06-27T10:11:05.904897Z",
     "iopub.status.busy": "2022-06-27T10:11:05.904080Z",
     "iopub.status.idle": "2022-06-27T10:11:05.919484Z",
     "shell.execute_reply": "2022-06-27T10:11:05.920090Z"
    },
    "papermill": {
     "duration": 0.05596,
     "end_time": "2022-06-27T10:11:05.920251",
     "exception": false,
     "start_time": "2022-06-27T10:11:05.864291",
     "status": "completed"
    },
    "tags": []
   },
   "outputs": [
    {
     "data": {
      "text/plain": [
       "((11982, 28, 28), (1984, 28, 28))"
      ]
     },
     "execution_count": 13,
     "metadata": {},
     "output_type": "execute_result"
    }
   ],
   "source": [
    "X_train.shape, X_test.shape"
   ]
  },
  {
   "cell_type": "markdown",
   "id": "5ccf3f85",
   "metadata": {
    "papermill": {
     "duration": 0.03352,
     "end_time": "2022-06-27T10:11:05.988115",
     "exception": false,
     "start_time": "2022-06-27T10:11:05.954595",
     "status": "completed"
    },
    "tags": []
   },
   "source": [
    "We reshape the data to flatten the image pixels into a set of features or co-variates:"
   ]
  },
  {
   "cell_type": "code",
   "execution_count": 14,
   "id": "5286a4a3",
   "metadata": {
    "execution": {
     "iopub.execute_input": "2022-06-27T10:11:06.063560Z",
     "iopub.status.busy": "2022-06-27T10:11:06.062710Z",
     "iopub.status.idle": "2022-06-27T10:11:06.079470Z",
     "shell.execute_reply": "2022-06-27T10:11:06.078831Z"
    },
    "papermill": {
     "duration": 0.057607,
     "end_time": "2022-06-27T10:11:06.079650",
     "exception": false,
     "start_time": "2022-06-27T10:11:06.022043",
     "status": "completed"
    },
    "tags": []
   },
   "outputs": [
    {
     "data": {
      "text/plain": [
       "((11982, 784), (1984, 784))"
      ]
     },
     "execution_count": 14,
     "metadata": {},
     "output_type": "execute_result"
    }
   ],
   "source": [
    "X_train = X_train.reshape(X_train.shape[0], -1)\n",
    "X_test = X_test.reshape(X_test.shape[0], -1)\n",
    "X_train.shape, X_test.shape"
   ]
  },
  {
   "cell_type": "code",
   "execution_count": 15,
   "id": "73c5f88a",
   "metadata": {
    "execution": {
     "iopub.execute_input": "2022-06-27T10:11:06.161158Z",
     "iopub.status.busy": "2022-06-27T10:11:06.160279Z",
     "iopub.status.idle": "2022-06-27T10:11:06.181481Z",
     "shell.execute_reply": "2022-06-27T10:11:06.182003Z"
    },
    "papermill": {
     "duration": 0.066601,
     "end_time": "2022-06-27T10:11:06.182207",
     "exception": false,
     "start_time": "2022-06-27T10:11:06.115606",
     "status": "completed"
    },
    "tags": []
   },
   "outputs": [],
   "source": [
    "#Impoting functions from 'Kudzu'\n",
    "from kudzu.model import Model\n",
    "from kudzu.train import Learner\n",
    "from kudzu.optim import GD\n",
    "from kudzu.data import Data, Sampler,Dataloader\n",
    "\n",
    "from kudzu.callbacks import AccCallback\n",
    "from kudzu.callbacks import ClfCallback\n",
    "\n",
    "from kudzu.loss import MSE\n",
    "\n",
    "from kudzu.layer import Sigmoid,Relu\n",
    "from kudzu.layer import Affine"
   ]
  },
  {
   "cell_type": "markdown",
   "id": "bc01172a",
   "metadata": {
    "papermill": {
     "duration": 0.034713,
     "end_time": "2022-06-27T10:11:06.252291",
     "exception": false,
     "start_time": "2022-06-27T10:11:06.217578",
     "status": "completed"
    },
    "tags": []
   },
   "source": [
    "### Let us create a `Config` class, to store important parameters. \n",
    "This class essentially plays the role of a dictionary."
   ]
  },
  {
   "cell_type": "code",
   "execution_count": 16,
   "id": "978281aa",
   "metadata": {
    "execution": {
     "iopub.execute_input": "2022-06-27T10:11:06.333687Z",
     "iopub.status.busy": "2022-06-27T10:11:06.332605Z",
     "iopub.status.idle": "2022-06-27T10:11:06.351022Z",
     "shell.execute_reply": "2022-06-27T10:11:06.350333Z"
    },
    "papermill": {
     "duration": 0.061823,
     "end_time": "2022-06-27T10:11:06.351186",
     "exception": false,
     "start_time": "2022-06-27T10:11:06.289363",
     "status": "completed"
    },
    "tags": []
   },
   "outputs": [],
   "source": [
    "class Config:\n",
    "    pass\n",
    "config = Config()\n",
    "config.lr = 0.001\n",
    "config.num_epochs = 250\n",
    "config.bs = 50"
   ]
  },
  {
   "cell_type": "markdown",
   "id": "1385fa59",
   "metadata": {
    "papermill": {
     "duration": 0.032416,
     "end_time": "2022-06-27T10:11:06.425688",
     "exception": false,
     "start_time": "2022-06-27T10:11:06.393272",
     "status": "completed"
    },
    "tags": []
   },
   "source": [
    "### Running Models with the Training data\n",
    "Details about the network layers:\n",
    "- A first affine layer has 784 inputs and does 100 affine transforms. These are followed by a Relu\n",
    "- A second affine layer has 100 inputs from the 100 activations of the past layer, and does 100 affine transforms. These are followed by a Relu\n",
    "- A third affine layer has 100 activations and does 2 affine transformations to create an embedding for visualization. There is no non-linearity here.\n",
    "- A final \"logistic regression\" which has an affine transform from 2 inputs to 1 output, which is squeezed through a sigmoid.\n"
   ]
  },
  {
   "cell_type": "code",
   "execution_count": 17,
   "id": "2b9c66db",
   "metadata": {
    "execution": {
     "iopub.execute_input": "2022-06-27T10:11:06.501040Z",
     "iopub.status.busy": "2022-06-27T10:11:06.500268Z",
     "iopub.status.idle": "2022-06-27T10:11:06.514626Z",
     "shell.execute_reply": "2022-06-27T10:11:06.514040Z"
    },
    "papermill": {
     "duration": 0.054624,
     "end_time": "2022-06-27T10:11:06.514755",
     "exception": false,
     "start_time": "2022-06-27T10:11:06.460131",
     "status": "completed"
    },
    "tags": []
   },
   "outputs": [],
   "source": [
    "data = Data(X_train, y_train.reshape(-1,1))\n",
    "sampler = Sampler(data, config.bs, shuffle=True)\n",
    "\n",
    "dl = Dataloader(data, sampler)\n",
    "\n",
    "opt = GD(config.lr)\n",
    "loss = MSE()"
   ]
  },
  {
   "cell_type": "code",
   "execution_count": 18,
   "id": "b275e4c2",
   "metadata": {
    "execution": {
     "iopub.execute_input": "2022-06-27T10:11:06.590144Z",
     "iopub.status.busy": "2022-06-27T10:11:06.589189Z",
     "iopub.status.idle": "2022-06-27T10:11:06.605283Z",
     "shell.execute_reply": "2022-06-27T10:11:06.604596Z"
    },
    "papermill": {
     "duration": 0.057288,
     "end_time": "2022-06-27T10:11:06.605452",
     "exception": false,
     "start_time": "2022-06-27T10:11:06.548164",
     "status": "completed"
    },
    "tags": []
   },
   "outputs": [],
   "source": [
    "training_data_x = X_train\n",
    "testing_data_x = X_test\n",
    "training_data_y = y_train.reshape(-1,1)\n",
    "testing_data_y = y_test.reshape(-1,1)"
   ]
  },
  {
   "cell_type": "code",
   "execution_count": 19,
   "id": "76951160",
   "metadata": {
    "execution": {
     "iopub.execute_input": "2022-06-27T10:11:06.692315Z",
     "iopub.status.busy": "2022-06-27T10:11:06.691539Z",
     "iopub.status.idle": "2022-06-27T10:11:06.715795Z",
     "shell.execute_reply": "2022-06-27T10:11:06.715136Z"
    },
    "papermill": {
     "duration": 0.072175,
     "end_time": "2022-06-27T10:11:06.715935",
     "exception": false,
     "start_time": "2022-06-27T10:11:06.643760",
     "status": "completed"
    },
    "tags": []
   },
   "outputs": [
    {
     "name": "stdout",
     "output_type": "stream",
     "text": [
      "xavier\n",
      "xavier\n",
      "xavier\n",
      "xavier\n",
      "xavier\n"
     ]
    }
   ],
   "source": [
    "layers = [Affine(\"first\", 784, 100), Relu(\"first\"), Affine(\"second\", 100, 100), Relu(\"second\"), Affine(\"third\", 100, 2), Affine(\"last\", 2, 1), Sigmoid(\"last\")]\n",
    "model_nn = Model(layers)\n",
    "model_lr = Model([Affine(\"logits\", 784, 1), Sigmoid(\"sigmoid\")])"
   ]
  },
  {
   "cell_type": "code",
   "execution_count": 20,
   "id": "6eede77a",
   "metadata": {
    "execution": {
     "iopub.execute_input": "2022-06-27T10:11:06.808210Z",
     "iopub.status.busy": "2022-06-27T10:11:06.807341Z",
     "iopub.status.idle": "2022-06-27T10:11:06.823807Z",
     "shell.execute_reply": "2022-06-27T10:11:06.824529Z"
    },
    "papermill": {
     "duration": 0.064744,
     "end_time": "2022-06-27T10:11:06.824858",
     "exception": false,
     "start_time": "2022-06-27T10:11:06.760114",
     "status": "completed"
    },
    "tags": []
   },
   "outputs": [],
   "source": [
    "nn_learner = Learner(loss, model_nn, opt, config.num_epochs)\n",
    "acc_nn = ClfCallback(nn_learner, config.bs, training_data_x , testing_data_x, training_data_y, testing_data_y)\n",
    "nn_learner.set_callbacks([acc_nn])"
   ]
  },
  {
   "cell_type": "code",
   "execution_count": 21,
   "id": "877b6cc7",
   "metadata": {
    "execution": {
     "iopub.execute_input": "2022-06-27T10:11:06.907499Z",
     "iopub.status.busy": "2022-06-27T10:11:06.906795Z",
     "iopub.status.idle": "2022-06-27T10:11:06.920915Z",
     "shell.execute_reply": "2022-06-27T10:11:06.920253Z"
    },
    "papermill": {
     "duration": 0.056331,
     "end_time": "2022-06-27T10:11:06.921050",
     "exception": false,
     "start_time": "2022-06-27T10:11:06.864719",
     "status": "completed"
    },
    "tags": []
   },
   "outputs": [],
   "source": [
    "lr_learner = Learner(loss, model_lr, opt, config.num_epochs)\n",
    "acc_lr = ClfCallback(lr_learner, config.bs, training_data_x , testing_data_x, training_data_y, testing_data_y)\n",
    "lr_learner.set_callbacks([acc_lr])"
   ]
  },
  {
   "cell_type": "code",
   "execution_count": 22,
   "id": "d9b133c3",
   "metadata": {
    "execution": {
     "iopub.execute_input": "2022-06-27T10:11:06.999822Z",
     "iopub.status.busy": "2022-06-27T10:11:06.999018Z",
     "iopub.status.idle": "2022-06-27T10:13:31.205904Z",
     "shell.execute_reply": "2022-06-27T10:13:31.206507Z"
    },
    "papermill": {
     "duration": 144.248874,
     "end_time": "2022-06-27T10:13:31.206660",
     "exception": false,
     "start_time": "2022-06-27T10:11:06.957786",
     "status": "completed"
    },
    "tags": []
   },
   "outputs": [
    {
     "name": "stdout",
     "output_type": "stream",
     "text": [
      "Epoch 0, Loss 0.2194\n",
      "Training Accuracy: 0.8091, Testing Accuracy: 0.8135\n",
      "\n"
     ]
    },
    {
     "name": "stdout",
     "output_type": "stream",
     "text": [
      "Epoch 10, Loss 0.0853\n",
      "Training Accuracy: 0.9150, Testing Accuracy: 0.9259\n",
      "\n"
     ]
    },
    {
     "name": "stdout",
     "output_type": "stream",
     "text": [
      "Epoch 20, Loss 0.0562\n",
      "Training Accuracy: 0.9387, Testing Accuracy: 0.9461\n",
      "\n"
     ]
    },
    {
     "name": "stdout",
     "output_type": "stream",
     "text": [
      "Epoch 30, Loss 0.0453\n",
      "Training Accuracy: 0.9493, Testing Accuracy: 0.9561\n",
      "\n"
     ]
    },
    {
     "name": "stdout",
     "output_type": "stream",
     "text": [
      "Epoch 40, Loss 0.0395\n",
      "Training Accuracy: 0.9551, Testing Accuracy: 0.9607\n",
      "\n"
     ]
    },
    {
     "name": "stdout",
     "output_type": "stream",
     "text": [
      "Epoch 50, Loss 0.0358\n",
      "Training Accuracy: 0.9591, Testing Accuracy: 0.9622\n",
      "\n"
     ]
    },
    {
     "name": "stdout",
     "output_type": "stream",
     "text": [
      "Epoch 60, Loss 0.0332\n",
      "Training Accuracy: 0.9624, Testing Accuracy: 0.9612\n",
      "\n"
     ]
    },
    {
     "name": "stdout",
     "output_type": "stream",
     "text": [
      "Epoch 70, Loss 0.0313\n",
      "Training Accuracy: 0.9644, Testing Accuracy: 0.9622\n",
      "\n"
     ]
    },
    {
     "name": "stdout",
     "output_type": "stream",
     "text": [
      "Epoch 80, Loss 0.0298\n",
      "Training Accuracy: 0.9657, Testing Accuracy: 0.9642\n",
      "\n"
     ]
    },
    {
     "name": "stdout",
     "output_type": "stream",
     "text": [
      "Epoch 90, Loss 0.0285\n",
      "Training Accuracy: 0.9664, Testing Accuracy: 0.9647\n",
      "\n"
     ]
    },
    {
     "name": "stdout",
     "output_type": "stream",
     "text": [
      "Epoch 100, Loss 0.0275\n",
      "Training Accuracy: 0.9679, Testing Accuracy: 0.9647\n",
      "\n"
     ]
    },
    {
     "name": "stdout",
     "output_type": "stream",
     "text": [
      "Epoch 110, Loss 0.0266\n",
      "Training Accuracy: 0.9687, Testing Accuracy: 0.9667\n",
      "\n"
     ]
    },
    {
     "name": "stdout",
     "output_type": "stream",
     "text": [
      "Epoch 120, Loss 0.0258\n",
      "Training Accuracy: 0.9695, Testing Accuracy: 0.9672\n",
      "\n"
     ]
    },
    {
     "name": "stdout",
     "output_type": "stream",
     "text": [
      "Epoch 130, Loss 0.0251\n",
      "Training Accuracy: 0.9706, Testing Accuracy: 0.9677\n",
      "\n"
     ]
    },
    {
     "name": "stdout",
     "output_type": "stream",
     "text": [
      "Epoch 140, Loss 0.0244\n",
      "Training Accuracy: 0.9716, Testing Accuracy: 0.9693\n",
      "\n"
     ]
    },
    {
     "name": "stdout",
     "output_type": "stream",
     "text": [
      "Epoch 150, Loss 0.0238\n",
      "Training Accuracy: 0.9725, Testing Accuracy: 0.9698\n",
      "\n"
     ]
    },
    {
     "name": "stdout",
     "output_type": "stream",
     "text": [
      "Epoch 160, Loss 0.0233\n",
      "Training Accuracy: 0.9728, Testing Accuracy: 0.9698\n",
      "\n"
     ]
    },
    {
     "name": "stdout",
     "output_type": "stream",
     "text": [
      "Epoch 170, Loss 0.0228\n",
      "Training Accuracy: 0.9735, Testing Accuracy: 0.9703\n",
      "\n"
     ]
    },
    {
     "name": "stdout",
     "output_type": "stream",
     "text": [
      "Epoch 180, Loss 0.0223\n",
      "Training Accuracy: 0.9745, Testing Accuracy: 0.9708\n",
      "\n"
     ]
    },
    {
     "name": "stdout",
     "output_type": "stream",
     "text": [
      "Epoch 190, Loss 0.0219\n",
      "Training Accuracy: 0.9748, Testing Accuracy: 0.9703\n",
      "\n"
     ]
    },
    {
     "name": "stdout",
     "output_type": "stream",
     "text": [
      "Epoch 200, Loss 0.0214\n",
      "Training Accuracy: 0.9755, Testing Accuracy: 0.9703\n",
      "\n"
     ]
    },
    {
     "name": "stdout",
     "output_type": "stream",
     "text": [
      "Epoch 210, Loss 0.021\n",
      "Training Accuracy: 0.9758, Testing Accuracy: 0.9708\n",
      "\n"
     ]
    },
    {
     "name": "stdout",
     "output_type": "stream",
     "text": [
      "Epoch 220, Loss 0.0206\n",
      "Training Accuracy: 0.9764, Testing Accuracy: 0.9708\n",
      "\n"
     ]
    },
    {
     "name": "stdout",
     "output_type": "stream",
     "text": [
      "Epoch 230, Loss 0.0203\n",
      "Training Accuracy: 0.9773, Testing Accuracy: 0.9708\n",
      "\n"
     ]
    },
    {
     "name": "stdout",
     "output_type": "stream",
     "text": [
      "Epoch 240, Loss 0.0199\n",
      "Training Accuracy: 0.9781, Testing Accuracy: 0.9703\n",
      "\n"
     ]
    },
    {
     "data": {
      "text/plain": [
       "0.022538635576774"
      ]
     },
     "execution_count": 22,
     "metadata": {},
     "output_type": "execute_result"
    }
   ],
   "source": [
    "nn_learner.train_loop(dl)"
   ]
  },
  {
   "cell_type": "code",
   "execution_count": 23,
   "id": "e0163366",
   "metadata": {
    "execution": {
     "iopub.execute_input": "2022-06-27T10:13:31.294453Z",
     "iopub.status.busy": "2022-06-27T10:13:31.293804Z",
     "iopub.status.idle": "2022-06-27T10:13:51.403050Z",
     "shell.execute_reply": "2022-06-27T10:13:51.404062Z"
    },
    "papermill": {
     "duration": 20.158497,
     "end_time": "2022-06-27T10:13:51.404265",
     "exception": false,
     "start_time": "2022-06-27T10:13:31.245768",
     "status": "completed"
    },
    "tags": []
   },
   "outputs": [
    {
     "name": "stdout",
     "output_type": "stream",
     "text": [
      "Epoch 0, Loss 0.2309\n",
      "Training Accuracy: 0.7191, Testing Accuracy: 0.7576\n",
      "\n"
     ]
    },
    {
     "name": "stdout",
     "output_type": "stream",
     "text": [
      "Epoch 10, Loss 0.1022\n",
      "Training Accuracy: 0.9080, Testing Accuracy: 0.9259\n",
      "\n"
     ]
    },
    {
     "name": "stdout",
     "output_type": "stream",
     "text": [
      "Epoch 20, Loss 0.0792\n",
      "Training Accuracy: 0.9263, Testing Accuracy: 0.9425\n",
      "\n"
     ]
    },
    {
     "name": "stdout",
     "output_type": "stream",
     "text": [
      "Epoch 30, Loss 0.0685\n",
      "Training Accuracy: 0.9347, Testing Accuracy: 0.9496\n",
      "\n"
     ]
    },
    {
     "name": "stdout",
     "output_type": "stream",
     "text": [
      "Epoch 40, Loss 0.062\n",
      "Training Accuracy: 0.9405, Testing Accuracy: 0.9531\n",
      "\n"
     ]
    },
    {
     "name": "stdout",
     "output_type": "stream",
     "text": [
      "Epoch 50, Loss 0.0575\n",
      "Training Accuracy: 0.9439, Testing Accuracy: 0.9556\n",
      "\n"
     ]
    },
    {
     "name": "stdout",
     "output_type": "stream",
     "text": [
      "Epoch 60, Loss 0.0542\n",
      "Training Accuracy: 0.9468, Testing Accuracy: 0.9556\n",
      "\n"
     ]
    },
    {
     "name": "stdout",
     "output_type": "stream",
     "text": [
      "Epoch 70, Loss 0.0516\n",
      "Training Accuracy: 0.9490, Testing Accuracy: 0.9572\n",
      "\n"
     ]
    },
    {
     "name": "stdout",
     "output_type": "stream",
     "text": [
      "Epoch 80, Loss 0.0495\n",
      "Training Accuracy: 0.9511, Testing Accuracy: 0.9597\n",
      "\n"
     ]
    },
    {
     "name": "stdout",
     "output_type": "stream",
     "text": [
      "Epoch 90, Loss 0.0478\n",
      "Training Accuracy: 0.9517, Testing Accuracy: 0.9607\n",
      "\n"
     ]
    },
    {
     "name": "stdout",
     "output_type": "stream",
     "text": [
      "Epoch 100, Loss 0.0464\n",
      "Training Accuracy: 0.9528, Testing Accuracy: 0.9617\n",
      "\n"
     ]
    },
    {
     "name": "stdout",
     "output_type": "stream",
     "text": [
      "Epoch 110, Loss 0.0451\n",
      "Training Accuracy: 0.9544, Testing Accuracy: 0.9617\n",
      "\n"
     ]
    },
    {
     "name": "stdout",
     "output_type": "stream",
     "text": [
      "Epoch 120, Loss 0.0441\n",
      "Training Accuracy: 0.9559, Testing Accuracy: 0.9617\n",
      "\n"
     ]
    },
    {
     "name": "stdout",
     "output_type": "stream",
     "text": [
      "Epoch 130, Loss 0.0431\n",
      "Training Accuracy: 0.9567, Testing Accuracy: 0.9632\n",
      "\n"
     ]
    },
    {
     "name": "stdout",
     "output_type": "stream",
     "text": [
      "Epoch 140, Loss 0.0423\n",
      "Training Accuracy: 0.9573, Testing Accuracy: 0.9632\n",
      "\n"
     ]
    },
    {
     "name": "stdout",
     "output_type": "stream",
     "text": [
      "Epoch 150, Loss 0.0415\n",
      "Training Accuracy: 0.9578, Testing Accuracy: 0.9632\n",
      "\n"
     ]
    },
    {
     "name": "stdout",
     "output_type": "stream",
     "text": [
      "Epoch 160, Loss 0.0408\n",
      "Training Accuracy: 0.9582, Testing Accuracy: 0.9637\n",
      "\n"
     ]
    },
    {
     "name": "stdout",
     "output_type": "stream",
     "text": [
      "Epoch 170, Loss 0.0402\n",
      "Training Accuracy: 0.9586, Testing Accuracy: 0.9642\n",
      "\n"
     ]
    },
    {
     "name": "stdout",
     "output_type": "stream",
     "text": [
      "Epoch 180, Loss 0.0397\n",
      "Training Accuracy: 0.9591, Testing Accuracy: 0.9647\n",
      "\n"
     ]
    },
    {
     "name": "stdout",
     "output_type": "stream",
     "text": [
      "Epoch 190, Loss 0.0391\n",
      "Training Accuracy: 0.9598, Testing Accuracy: 0.9652\n",
      "\n"
     ]
    },
    {
     "name": "stdout",
     "output_type": "stream",
     "text": [
      "Epoch 200, Loss 0.0387\n",
      "Training Accuracy: 0.9599, Testing Accuracy: 0.9652\n",
      "\n"
     ]
    },
    {
     "name": "stdout",
     "output_type": "stream",
     "text": [
      "Epoch 210, Loss 0.0382\n",
      "Training Accuracy: 0.9603, Testing Accuracy: 0.9657\n",
      "\n"
     ]
    },
    {
     "name": "stdout",
     "output_type": "stream",
     "text": [
      "Epoch 220, Loss 0.0378\n",
      "Training Accuracy: 0.9604, Testing Accuracy: 0.9657\n",
      "\n"
     ]
    },
    {
     "name": "stdout",
     "output_type": "stream",
     "text": [
      "Epoch 230, Loss 0.0374\n",
      "Training Accuracy: 0.9608, Testing Accuracy: 0.9672\n",
      "\n"
     ]
    },
    {
     "name": "stdout",
     "output_type": "stream",
     "text": [
      "Epoch 240, Loss 0.037\n",
      "Training Accuracy: 0.9609, Testing Accuracy: 0.9672\n",
      "\n"
     ]
    },
    {
     "data": {
      "text/plain": [
       "0.053077101307846666"
      ]
     },
     "execution_count": 23,
     "metadata": {},
     "output_type": "execute_result"
    }
   ],
   "source": [
    "lr_learner.train_loop(dl)"
   ]
  },
  {
   "cell_type": "code",
   "execution_count": 24,
   "id": "ca410940",
   "metadata": {
    "execution": {
     "iopub.execute_input": "2022-06-27T10:13:51.506511Z",
     "iopub.status.busy": "2022-06-27T10:13:51.505900Z",
     "iopub.status.idle": "2022-06-27T10:13:51.776488Z",
     "shell.execute_reply": "2022-06-27T10:13:51.775776Z"
    },
    "papermill": {
     "duration": 0.325046,
     "end_time": "2022-06-27T10:13:51.776705",
     "exception": false,
     "start_time": "2022-06-27T10:13:51.451659",
     "status": "completed"
    },
    "tags": []
   },
   "outputs": [
    {
     "data": {
      "text/plain": [
       "<matplotlib.legend.Legend at 0x7ff040f8eb00>"
      ]
     },
     "execution_count": 24,
     "metadata": {},
     "output_type": "execute_result"
    },
    {
     "data": {
      "image/png": "[encoded data removed]",
      "text/plain": [
       "<Figure size 1080x720 with 1 Axes>"
      ]
     },
     "metadata": {
      "needs_background": "light"
     },
     "output_type": "display_data"
    }
   ],
   "source": [
    "#comparing the results of NN and LR\n",
    "plt.figure(figsize=(15,10))\n",
    "\n",
    "# Neural Network plots\n",
    "plt.plot(acc_nn.accuracies, 'r-', label = \"Training Accuracies - NN\")\n",
    "plt.plot(acc_nn.test_accuracies, 'g-', label = \"Testing Accuracies - NN\")\n",
    "\n",
    "# Logistic Regression plots\n",
    "plt.plot(acc_lr.accuracies, 'k-', label = \"Training Accuracies - LR\")\n",
    "plt.plot(acc_lr.test_accuracies, 'b-', label = \"Testing Accuracies - LR\")\n",
    "plt.legend()"
   ]
  },
  {
   "cell_type": "markdown",
   "id": "80dfb35c",
   "metadata": {
    "papermill": {
     "duration": 0.046418,
     "end_time": "2022-06-27T10:13:51.873721",
     "exception": false,
     "start_time": "2022-06-27T10:13:51.827303",
     "status": "completed"
    },
    "tags": []
   },
   "source": [
    "#### Plotting the outputs of this layer of the NN.\n"
   ]
  },
  {
   "cell_type": "code",
   "execution_count": 25,
   "id": "45eb2ff5",
   "metadata": {
    "execution": {
     "iopub.execute_input": "2022-06-27T10:13:51.974372Z",
     "iopub.status.busy": "2022-06-27T10:13:51.973774Z",
     "iopub.status.idle": "2022-06-27T10:13:51.998616Z",
     "shell.execute_reply": "2022-06-27T10:13:51.999105Z"
    },
    "papermill": {
     "duration": 0.07893,
     "end_time": "2022-06-27T10:13:51.999239",
     "exception": false,
     "start_time": "2022-06-27T10:13:51.920309",
     "status": "completed"
    },
    "tags": []
   },
   "outputs": [],
   "source": [
    "new_model = Model(layers[:-2])\n",
    "testing_plot = new_model(testing_data_x)"
   ]
  },
  {
   "cell_type": "code",
   "execution_count": 26,
   "id": "4c0a5485",
   "metadata": {
    "execution": {
     "iopub.execute_input": "2022-06-27T10:13:52.101972Z",
     "iopub.status.busy": "2022-06-27T10:13:52.101321Z",
     "iopub.status.idle": "2022-06-27T10:13:52.352165Z",
     "shell.execute_reply": "2022-06-27T10:13:52.351639Z"
    },
    "papermill": {
     "duration": 0.308295,
     "end_time": "2022-06-27T10:13:52.352297",
     "exception": false,
     "start_time": "2022-06-27T10:13:52.044002",
     "status": "completed"
    },
    "tags": []
   },
   "outputs": [
    {
     "data": {
      "text/plain": [
       "Text(0.5, 1.0, 'Outputs')"
      ]
     },
     "execution_count": 26,
     "metadata": {},
     "output_type": "execute_result"
    },
    {
     "data": {
      "image/png": "[encoded data removed]",
      "text/plain": [
       "<Figure size 576x504 with 1 Axes>"
      ]
     },
     "metadata": {
      "needs_background": "light"
     },
     "output_type": "display_data"
    }
   ],
   "source": [
    "# Plotting the scatter plot of points and color coding by class\n",
    "plt.figure(figsize=(8,7))\n",
    "plt.scatter(testing_plot[:,0], testing_plot[:,1], alpha = 0.1, c = y_test.ravel());\n",
    "plt.title('Outputs')"
   ]
  },
  {
   "cell_type": "markdown",
   "id": "a74fcf8f",
   "metadata": {
    "papermill": {
     "duration": 0.071931,
     "end_time": "2022-06-27T10:13:52.475604",
     "exception": false,
     "start_time": "2022-06-27T10:13:52.403673",
     "status": "completed"
    },
    "tags": []
   },
   "source": [
    "Probability contours"
   ]
  },
  {
   "cell_type": "code",
   "execution_count": 27,
   "id": "d0afc8e3",
   "metadata": {
    "execution": {
     "iopub.execute_input": "2022-06-27T10:13:52.574670Z",
     "iopub.status.busy": "2022-06-27T10:13:52.574056Z",
     "iopub.status.idle": "2022-06-27T10:13:52.585920Z",
     "shell.execute_reply": "2022-06-27T10:13:52.585329Z"
    },
    "papermill": {
     "duration": 0.063483,
     "end_time": "2022-06-27T10:13:52.586030",
     "exception": false,
     "start_time": "2022-06-27T10:13:52.522547",
     "status": "completed"
    },
    "tags": []
   },
   "outputs": [],
   "source": [
    "model_prob = Model(layers[-2:]) "
   ]
  },
  {
   "cell_type": "code",
   "execution_count": 28,
   "id": "9b96e238",
   "metadata": {
    "execution": {
     "iopub.execute_input": "2022-06-27T10:13:52.682793Z",
     "iopub.status.busy": "2022-06-27T10:13:52.681965Z",
     "iopub.status.idle": "2022-06-27T10:13:52.694256Z",
     "shell.execute_reply": "2022-06-27T10:13:52.694691Z"
    },
    "papermill": {
     "duration": 0.062028,
     "end_time": "2022-06-27T10:13:52.694814",
     "exception": false,
     "start_time": "2022-06-27T10:13:52.632786",
     "status": "completed"
    },
    "tags": []
   },
   "outputs": [],
   "source": [
    "#creating the x and y ranges according to the above generated plot.\n",
    "x_range = np.linspace(-4, 1, 100) \n",
    "y_range = np.linspace(-6, 6, 100) \n",
    "x_grid, y_grid = np.meshgrid(x_range, y_range) # x_grid and y_grig are of size 100 X 100\n",
    "\n",
    "# converting x_grid and y_grid to continuous arrays\n",
    "x_gridflat = np.ravel(x_grid)\n",
    "y_gridflat = np.ravel(y_grid)\n",
    "\n",
    "# The last layer of the current model takes two columns as input. Hence transpose of np.vstack() is required.\n",
    "X = np.vstack((x_gridflat, y_gridflat)).T\n",
    "\n",
    "prob_contour = model_prob(X).reshape(100,100) "
   ]
  },
  {
   "cell_type": "code",
   "execution_count": 29,
   "id": "da72499a",
   "metadata": {
    "execution": {
     "iopub.execute_input": "2022-06-27T10:13:52.802238Z",
     "iopub.status.busy": "2022-06-27T10:13:52.801577Z",
     "iopub.status.idle": "2022-06-27T10:13:53.111017Z",
     "shell.execute_reply": "2022-06-27T10:13:53.111546Z"
    },
    "papermill": {
     "duration": 0.370883,
     "end_time": "2022-06-27T10:13:53.111715",
     "exception": false,
     "start_time": "2022-06-27T10:13:52.740832",
     "status": "completed"
    },
    "tags": []
   },
   "outputs": [
    {
     "data": {
      "image/png": "[encoded data removed]",
      "text/plain": [
       "<Figure size 720x648 with 1 Axes>"
      ]
     },
     "metadata": {
      "needs_background": "light"
     },
     "output_type": "display_data"
    }
   ],
   "source": [
    "plt.figure(figsize=(10,9))\n",
    "plt.scatter(testing_plot[:,0], testing_plot[:,1], alpha = 0.1, c = y_test.ravel())\n",
    "contours = plt.contour(x_grid,y_grid,prob_contour)\n",
    "plt.title('Probability Contours')\n",
    "plt.clabel(contours, inline = True );"
   ]
  },
  {
   "cell_type": "code",
   "execution_count": null,
   "id": "e81b4ac7",
   "metadata": {
    "papermill": {
     "duration": 0.059064,
     "end_time": "2022-06-27T10:13:53.223593",
     "exception": false,
     "start_time": "2022-06-27T10:13:53.164529",
     "status": "completed"
    },
    "tags": []
   },
   "outputs": [],
   "source": []
  }
 ],
 "metadata": {
  "kernelspec": {
   "display_name": "Python 3",
   "language": "python",
   "name": "python3"
  },
  "language_info": {
   "codemirror_mode": {
    "name": "ipython",
    "version": 3
   },
   "file_extension": ".py",
   "mimetype": "text/x-python",
   "name": "python",
   "nbconvert_exporter": "python",
   "pygments_lexer": "ipython3",
   "version": "3.6.15"
  },
  "papermill": {
   "default_parameters": {},
   "duration": 174.291957,
   "end_time": "2022-06-27T10:13:53.702847",
   "environment_variables": {},
   "exception": null,
   "input_path": "2020-08-11-part2.ipynb",
   "output_path": "2020-08-11-part2.ipynb",
   "parameters": {},
   "start_time": "2022-06-27T10:10:59.410890",
   "version": "2.3.3"
  }
 },
 "nbformat": 4,
 "nbformat_minor": 5
}