{
 "cells": [
  {
   "cell_type": "markdown",
   "id": "98380cd3",
   "metadata": {
    "papermill": {
     "duration": 0.029529,
     "end_time": "2022-07-26T10:09:43.350260",
     "exception": false,
     "start_time": "2022-07-26T10:09:43.320731",
     "status": "completed"
    },
    "tags": []
   },
   "source": [
    "# Distinguish Your Own Digits (DYOD)"
   ]
  },
  {
   "cell_type": "markdown",
   "id": "ef31240d",
   "metadata": {
    "papermill": {
     "duration": 0.023461,
     "end_time": "2022-07-26T10:09:43.397982",
     "exception": false,
     "start_time": "2022-07-26T10:09:43.374521",
     "status": "completed"
    },
    "tags": []
   },
   "source": [
    "You are going to write a classifier that distinguishes between the number 3 and number 8."
   ]
  },
  {
   "cell_type": "code",
   "execution_count": 1,
   "id": "b15c8646",
   "metadata": {
    "execution": {
     "iopub.execute_input": "2022-07-26T10:09:43.456008Z",
     "iopub.status.busy": "2022-07-26T10:09:43.455372Z",
     "iopub.status.idle": "2022-07-26T10:09:43.467588Z",
     "shell.execute_reply": "2022-07-26T10:09:43.467067Z"
    },
    "papermill": {
     "duration": 0.046315,
     "end_time": "2022-07-26T10:09:43.467720",
     "exception": false,
     "start_time": "2022-07-26T10:09:43.421405",
     "status": "completed"
    },
    "tags": []
   },
   "outputs": [],
   "source": [
    "%load_ext autoreload\n",
    "%autoreload 2"
   ]
  },
  {
   "cell_type": "code",
   "execution_count": 2,
   "id": "22ef38dc",
   "metadata": {
    "execution": {
     "iopub.execute_input": "2022-07-26T10:09:43.518880Z",
     "iopub.status.busy": "2022-07-26T10:09:43.518284Z",
     "iopub.status.idle": "2022-07-26T10:09:44.088745Z",
     "shell.execute_reply": "2022-07-26T10:09:44.088139Z"
    },
    "papermill": {
     "duration": 0.59756,
     "end_time": "2022-07-26T10:09:44.088891",
     "exception": false,
     "start_time": "2022-07-26T10:09:43.491331",
     "status": "completed"
    },
    "tags": []
   },
   "outputs": [],
   "source": [
    "%matplotlib inline\n",
    "import numpy as np\n",
    "import matplotlib.pyplot as plt\n",
    "import pandas as pd"
   ]
  },
  {
   "cell_type": "markdown",
   "id": "ba036198",
   "metadata": {
    "papermill": {
     "duration": 0.02382,
     "end_time": "2022-07-26T10:09:44.136515",
     "exception": false,
     "start_time": "2022-07-26T10:09:44.112695",
     "status": "completed"
    },
    "tags": []
   },
   "source": [
    "From the command line run `pip install mnist`. This is a library that will help you bring down the mnist dataset. If you run this from a notebook, you need to put  `!pip install mnist` in a cell by itself."
   ]
  },
  {
   "cell_type": "code",
   "execution_count": 3,
   "id": "bb6ad8a1",
   "metadata": {
    "execution": {
     "iopub.execute_input": "2022-07-26T10:09:44.195364Z",
     "iopub.status.busy": "2022-07-26T10:09:44.194731Z",
     "iopub.status.idle": "2022-07-26T10:09:45.789982Z",
     "shell.execute_reply": "2022-07-26T10:09:45.789304Z"
    },
    "papermill": {
     "duration": 1.629861,
     "end_time": "2022-07-26T10:09:45.790133",
     "exception": false,
     "start_time": "2022-07-26T10:09:44.160272",
     "status": "completed"
    },
    "tags": []
   },
   "outputs": [
    {
     "name": "stdout",
     "output_type": "stream",
     "text": [
      "Collecting mnist\r\n",
      "  Downloading mnist-0.2.2-py2.py3-none-any.whl (3.5 kB)\r\n"
     ]
    },
    {
     "name": "stdout",
     "output_type": "stream",
     "text": [
      "Requirement already satisfied: numpy in /opt/hostedtoolcache/Python/3.6.15/x64/lib/python3.6/site-packages (from mnist) (1.19.5)\r\n"
     ]
    },
    {
     "name": "stdout",
     "output_type": "stream",
     "text": [
      "Installing collected packages: mnist\r\n",
      "Successfully installed mnist-0.2.2\r\n"
     ]
    }
   ],
   "source": [
    "!pip install mnist"
   ]
  },
  {
   "cell_type": "markdown",
   "id": "69df9c9a",
   "metadata": {
    "papermill": {
     "duration": 0.024283,
     "end_time": "2022-07-26T10:09:45.839511",
     "exception": false,
     "start_time": "2022-07-26T10:09:45.815228",
     "status": "completed"
    },
    "tags": []
   },
   "source": [
    "## Preparing the Data"
   ]
  },
  {
   "cell_type": "code",
   "execution_count": 4,
   "id": "7f69d806",
   "metadata": {
    "execution": {
     "iopub.execute_input": "2022-07-26T10:09:45.907154Z",
     "iopub.status.busy": "2022-07-26T10:09:45.902395Z",
     "iopub.status.idle": "2022-07-26T10:09:45.910099Z",
     "shell.execute_reply": "2022-07-26T10:09:45.909326Z"
    },
    "papermill": {
     "duration": 0.046518,
     "end_time": "2022-07-26T10:09:45.910216",
     "exception": false,
     "start_time": "2022-07-26T10:09:45.863698",
     "status": "completed"
    },
    "tags": []
   },
   "outputs": [],
   "source": [
    "import mnist"
   ]
  },
  {
   "cell_type": "code",
   "execution_count": 5,
   "id": "a411e44f",
   "metadata": {
    "execution": {
     "iopub.execute_input": "2022-07-26T10:09:45.970664Z",
     "iopub.status.busy": "2022-07-26T10:09:45.970066Z",
     "iopub.status.idle": "2022-07-26T10:09:46.518685Z",
     "shell.execute_reply": "2022-07-26T10:09:46.518134Z"
    },
    "papermill": {
     "duration": 0.584222,
     "end_time": "2022-07-26T10:09:46.518824",
     "exception": false,
     "start_time": "2022-07-26T10:09:45.934602",
     "status": "completed"
    },
    "tags": []
   },
   "outputs": [],
   "source": [
    "train_images = mnist.train_images()\n",
    "train_labels = mnist.train_labels()"
   ]
  },
  {
   "cell_type": "code",
   "execution_count": 6,
   "id": "dceab3a5",
   "metadata": {
    "execution": {
     "iopub.execute_input": "2022-07-26T10:09:46.575187Z",
     "iopub.status.busy": "2022-07-26T10:09:46.574556Z",
     "iopub.status.idle": "2022-07-26T10:09:46.589262Z",
     "shell.execute_reply": "2022-07-26T10:09:46.588666Z"
    },
    "papermill": {
     "duration": 0.044513,
     "end_time": "2022-07-26T10:09:46.589377",
     "exception": false,
     "start_time": "2022-07-26T10:09:46.544864",
     "status": "completed"
    },
    "tags": []
   },
   "outputs": [
    {
     "data": {
      "text/plain": [
       "((60000, 28, 28), (60000,))"
      ]
     },
     "execution_count": 6,
     "metadata": {},
     "output_type": "execute_result"
    }
   ],
   "source": [
    "train_images.shape, train_labels.shape"
   ]
  },
  {
   "cell_type": "code",
   "execution_count": 7,
   "id": "f50dc2bb",
   "metadata": {
    "execution": {
     "iopub.execute_input": "2022-07-26T10:09:46.642940Z",
     "iopub.status.busy": "2022-07-26T10:09:46.642331Z",
     "iopub.status.idle": "2022-07-26T10:09:46.806898Z",
     "shell.execute_reply": "2022-07-26T10:09:46.805528Z"
    },
    "papermill": {
     "duration": 0.193152,
     "end_time": "2022-07-26T10:09:46.807047",
     "exception": false,
     "start_time": "2022-07-26T10:09:46.613895",
     "status": "completed"
    },
    "tags": []
   },
   "outputs": [],
   "source": [
    "test_images = mnist.test_images()\n",
    "test_labels = mnist.test_labels()"
   ]
  },
  {
   "cell_type": "code",
   "execution_count": 8,
   "id": "fc38cf1b",
   "metadata": {
    "execution": {
     "iopub.execute_input": "2022-07-26T10:09:46.862814Z",
     "iopub.status.busy": "2022-07-26T10:09:46.859640Z",
     "iopub.status.idle": "2022-07-26T10:09:46.873249Z",
     "shell.execute_reply": "2022-07-26T10:09:46.872674Z"
    },
    "papermill": {
     "duration": 0.041427,
     "end_time": "2022-07-26T10:09:46.873379",
     "exception": false,
     "start_time": "2022-07-26T10:09:46.831952",
     "status": "completed"
    },
    "tags": []
   },
   "outputs": [
    {
     "data": {
      "text/plain": [
       "((10000, 28, 28), (10000,))"
      ]
     },
     "execution_count": 8,
     "metadata": {},
     "output_type": "execute_result"
    }
   ],
   "source": [
    "test_images.shape, test_labels.shape"
   ]
  },
  {
   "cell_type": "code",
   "execution_count": 9,
   "id": "f9ed8fe0",
   "metadata": {
    "execution": {
     "iopub.execute_input": "2022-07-26T10:09:46.926430Z",
     "iopub.status.busy": "2022-07-26T10:09:46.925846Z",
     "iopub.status.idle": "2022-07-26T10:09:47.064866Z",
     "shell.execute_reply": "2022-07-26T10:09:47.065454Z"
    },
    "papermill": {
     "duration": 0.16758,
     "end_time": "2022-07-26T10:09:47.065615",
     "exception": false,
     "start_time": "2022-07-26T10:09:46.898035",
     "status": "completed"
    },
    "tags": []
   },
   "outputs": [
    {
     "name": "stdout",
     "output_type": "stream",
     "text": [
      "2\n"
     ]
    },
    {
     "data": {
      "text/plain": [
       "<matplotlib.image.AxesImage at 0x7f5658f0c940>"
      ]
     },
     "execution_count": 9,
     "metadata": {},
     "output_type": "execute_result"
    },
    {
     "data": {
      "image/png": "[encoded data removed]",
      "text/plain": [
       "<Figure size 432x288 with 1 Axes>"
      ]
     },
     "metadata": {
      "needs_background": "light"
     },
     "output_type": "display_data"
    }
   ],
   "source": [
    "image_index = 7776 # You may select anything up to 60,000\n",
    "print(train_labels[image_index]) \n",
    "plt.imshow(train_images[image_index], cmap='Greys')"
   ]
  },
  {
   "cell_type": "markdown",
   "id": "a8d2388d",
   "metadata": {
    "papermill": {
     "duration": 0.025765,
     "end_time": "2022-07-26T10:09:47.117587",
     "exception": false,
     "start_time": "2022-07-26T10:09:47.091822",
     "status": "completed"
    },
    "tags": []
   },
   "source": [
    "## Filter data to get 3 and 8 out"
   ]
  },
  {
   "cell_type": "code",
   "execution_count": 10,
   "id": "776f7fc7",
   "metadata": {
    "execution": {
     "iopub.execute_input": "2022-07-26T10:09:47.173611Z",
     "iopub.status.busy": "2022-07-26T10:09:47.173017Z",
     "iopub.status.idle": "2022-07-26T10:09:47.191676Z",
     "shell.execute_reply": "2022-07-26T10:09:47.192127Z"
    },
    "papermill": {
     "duration": 0.048977,
     "end_time": "2022-07-26T10:09:47.192261",
     "exception": false,
     "start_time": "2022-07-26T10:09:47.143284",
     "status": "completed"
    },
    "tags": []
   },
   "outputs": [],
   "source": [
    "train_filter = np.where((train_labels == 3 ) | (train_labels == 8))\n",
    "test_filter = np.where((test_labels == 3) | (test_labels == 8))\n",
    "X_train, y_train = train_images[train_filter], train_labels[train_filter]\n",
    "X_test, y_test = test_images[test_filter], test_labels[test_filter]"
   ]
  },
  {
   "cell_type": "markdown",
   "id": "948f0b7e",
   "metadata": {
    "papermill": {
     "duration": 0.025895,
     "end_time": "2022-07-26T10:09:47.244007",
     "exception": false,
     "start_time": "2022-07-26T10:09:47.218112",
     "status": "completed"
    },
    "tags": []
   },
   "source": [
    "We normalize the pizel values in the 0 to 1 range"
   ]
  },
  {
   "cell_type": "code",
   "execution_count": 11,
   "id": "ee4c2166",
   "metadata": {
    "execution": {
     "iopub.execute_input": "2022-07-26T10:09:47.299278Z",
     "iopub.status.busy": "2022-07-26T10:09:47.298701Z",
     "iopub.status.idle": "2022-07-26T10:09:47.348564Z",
     "shell.execute_reply": "2022-07-26T10:09:47.347925Z"
    },
    "papermill": {
     "duration": 0.078938,
     "end_time": "2022-07-26T10:09:47.348708",
     "exception": false,
     "start_time": "2022-07-26T10:09:47.269770",
     "status": "completed"
    },
    "tags": []
   },
   "outputs": [],
   "source": [
    "X_train = X_train/255.\n",
    "X_test = X_test/255."
   ]
  },
  {
   "cell_type": "markdown",
   "id": "ddcf4fab",
   "metadata": {
    "papermill": {
     "duration": 0.026194,
     "end_time": "2022-07-26T10:09:47.402350",
     "exception": false,
     "start_time": "2022-07-26T10:09:47.376156",
     "status": "completed"
    },
    "tags": []
   },
   "source": [
    "And setup the labels as 1 (when the digit is 3) and 0 (when the digit is 8)"
   ]
  },
  {
   "cell_type": "code",
   "execution_count": 12,
   "id": "7dc908f2",
   "metadata": {
    "execution": {
     "iopub.execute_input": "2022-07-26T10:09:47.459867Z",
     "iopub.status.busy": "2022-07-26T10:09:47.459256Z",
     "iopub.status.idle": "2022-07-26T10:09:47.472573Z",
     "shell.execute_reply": "2022-07-26T10:09:47.472066Z"
    },
    "papermill": {
     "duration": 0.044225,
     "end_time": "2022-07-26T10:09:47.472694",
     "exception": false,
     "start_time": "2022-07-26T10:09:47.428469",
     "status": "completed"
    },
    "tags": []
   },
   "outputs": [],
   "source": [
    "y_train = 1*(y_train==3)\n",
    "y_test = 1*(y_test==3)"
   ]
  },
  {
   "cell_type": "code",
   "execution_count": 13,
   "id": "01e4e969",
   "metadata": {
    "execution": {
     "iopub.execute_input": "2022-07-26T10:09:47.530086Z",
     "iopub.status.busy": "2022-07-26T10:09:47.529453Z",
     "iopub.status.idle": "2022-07-26T10:09:47.562506Z",
     "shell.execute_reply": "2022-07-26T10:09:47.563001Z"
    },
    "papermill": {
     "duration": 0.064144,
     "end_time": "2022-07-26T10:09:47.563162",
     "exception": false,
     "start_time": "2022-07-26T10:09:47.499018",
     "status": "completed"
    },
    "tags": []
   },
   "outputs": [
    {
     "data": {
      "text/plain": [
       "((11982, 28, 28), (1984, 28, 28))"
      ]
     },
     "execution_count": 13,
     "metadata": {},
     "output_type": "execute_result"
    }
   ],
   "source": [
    "X_train.shape, X_test.shape"
   ]
  },
  {
   "cell_type": "markdown",
   "id": "5ccf3f85",
   "metadata": {
    "papermill": {
     "duration": 0.028034,
     "end_time": "2022-07-26T10:09:47.617718",
     "exception": false,
     "start_time": "2022-07-26T10:09:47.589684",
     "status": "completed"
    },
    "tags": []
   },
   "source": [
    "We reshape the data to flatten the image pixels into a set of features or co-variates:"
   ]
  },
  {
   "cell_type": "code",
   "execution_count": 14,
   "id": "5286a4a3",
   "metadata": {
    "execution": {
     "iopub.execute_input": "2022-07-26T10:09:47.676156Z",
     "iopub.status.busy": "2022-07-26T10:09:47.675527Z",
     "iopub.status.idle": "2022-07-26T10:09:47.690366Z",
     "shell.execute_reply": "2022-07-26T10:09:47.689610Z"
    },
    "papermill": {
     "duration": 0.046561,
     "end_time": "2022-07-26T10:09:47.690483",
     "exception": false,
     "start_time": "2022-07-26T10:09:47.643922",
     "status": "completed"
    },
    "tags": []
   },
   "outputs": [
    {
     "data": {
      "text/plain": [
       "((11982, 784), (1984, 784))"
      ]
     },
     "execution_count": 14,
     "metadata": {},
     "output_type": "execute_result"
    }
   ],
   "source": [
    "X_train = X_train.reshape(X_train.shape[0], -1)\n",
    "X_test = X_test.reshape(X_test.shape[0], -1)\n",
    "X_train.shape, X_test.shape"
   ]
  },
  {
   "cell_type": "code",
   "execution_count": 15,
   "id": "73c5f88a",
   "metadata": {
    "execution": {
     "iopub.execute_input": "2022-07-26T10:09:47.748194Z",
     "iopub.status.busy": "2022-07-26T10:09:47.747605Z",
     "iopub.status.idle": "2022-07-26T10:09:47.767037Z",
     "shell.execute_reply": "2022-07-26T10:09:47.766559Z"
    },
    "papermill": {
     "duration": 0.050199,
     "end_time": "2022-07-26T10:09:47.767155",
     "exception": false,
     "start_time": "2022-07-26T10:09:47.716956",
     "status": "completed"
    },
    "tags": []
   },
   "outputs": [],
   "source": [
    "#Impoting functions from 'Kudzu'\n",
    "from kudzu.model import Model\n",
    "from kudzu.train import Learner\n",
    "from kudzu.optim import GD\n",
    "from kudzu.data import Data, Sampler,Dataloader\n",
    "\n",
    "from kudzu.callbacks import AccCallback\n",
    "from kudzu.callbacks import ClfCallback\n",
    "\n",
    "from kudzu.loss import MSE\n",
    "\n",
    "from kudzu.layer import Sigmoid,Relu\n",
    "from kudzu.layer import Affine"
   ]
  },
  {
   "cell_type": "markdown",
   "id": "bc01172a",
   "metadata": {
    "papermill": {
     "duration": 0.026775,
     "end_time": "2022-07-26T10:09:47.820851",
     "exception": false,
     "start_time": "2022-07-26T10:09:47.794076",
     "status": "completed"
    },
    "tags": []
   },
   "source": [
    "### Let us create a `Config` class, to store important parameters. \n",
    "This class essentially plays the role of a dictionary."
   ]
  },
  {
   "cell_type": "code",
   "execution_count": 16,
   "id": "978281aa",
   "metadata": {
    "execution": {
     "iopub.execute_input": "2022-07-26T10:09:47.878622Z",
     "iopub.status.busy": "2022-07-26T10:09:47.877993Z",
     "iopub.status.idle": "2022-07-26T10:09:47.890959Z",
     "shell.execute_reply": "2022-07-26T10:09:47.891516Z"
    },
    "papermill": {
     "duration": 0.044042,
     "end_time": "2022-07-26T10:09:47.891654",
     "exception": false,
     "start_time": "2022-07-26T10:09:47.847612",
     "status": "completed"
    },
    "tags": []
   },
   "outputs": [],
   "source": [
    "class Config:\n",
    "    pass\n",
    "config = Config()\n",
    "config.lr = 0.001\n",
    "config.num_epochs = 250\n",
    "config.bs = 50"
   ]
  },
  {
   "cell_type": "markdown",
   "id": "1385fa59",
   "metadata": {
    "papermill": {
     "duration": 0.026386,
     "end_time": "2022-07-26T10:09:47.944605",
     "exception": false,
     "start_time": "2022-07-26T10:09:47.918219",
     "status": "completed"
    },
    "tags": []
   },
   "source": [
    "### Running Models with the Training data\n",
    "Details about the network layers:\n",
    "- A first affine layer has 784 inputs and does 100 affine transforms. These are followed by a Relu\n",
    "- A second affine layer has 100 inputs from the 100 activations of the past layer, and does 100 affine transforms. These are followed by a Relu\n",
    "- A third affine layer has 100 activations and does 2 affine transformations to create an embedding for visualization. There is no non-linearity here.\n",
    "- A final \"logistic regression\" which has an affine transform from 2 inputs to 1 output, which is squeezed through a sigmoid.\n"
   ]
  },
  {
   "cell_type": "code",
   "execution_count": 17,
   "id": "2b9c66db",
   "metadata": {
    "execution": {
     "iopub.execute_input": "2022-07-26T10:09:48.009500Z",
     "iopub.status.busy": "2022-07-26T10:09:48.008887Z",
     "iopub.status.idle": "2022-07-26T10:09:48.018262Z",
     "shell.execute_reply": "2022-07-26T10:09:48.017486Z"
    },
    "papermill": {
     "duration": 0.047409,
     "end_time": "2022-07-26T10:09:48.018376",
     "exception": false,
     "start_time": "2022-07-26T10:09:47.970967",
     "status": "completed"
    },
    "tags": []
   },
   "outputs": [],
   "source": [
    "data = Data(X_train, y_train.reshape(-1,1))\n",
    "sampler = Sampler(data, config.bs, shuffle=True)\n",
    "\n",
    "dl = Dataloader(data, sampler)\n",
    "\n",
    "opt = GD(config.lr)\n",
    "loss = MSE()"
   ]
  },
  {
   "cell_type": "code",
   "execution_count": 18,
   "id": "b275e4c2",
   "metadata": {
    "execution": {
     "iopub.execute_input": "2022-07-26T10:09:48.079150Z",
     "iopub.status.busy": "2022-07-26T10:09:48.076127Z",
     "iopub.status.idle": "2022-07-26T10:09:48.088095Z",
     "shell.execute_reply": "2022-07-26T10:09:48.087532Z"
    },
    "papermill": {
     "duration": 0.043248,
     "end_time": "2022-07-26T10:09:48.088210",
     "exception": false,
     "start_time": "2022-07-26T10:09:48.044962",
     "status": "completed"
    },
    "tags": []
   },
   "outputs": [],
   "source": [
    "training_data_x = X_train\n",
    "testing_data_x = X_test\n",
    "training_data_y = y_train.reshape(-1,1)\n",
    "testing_data_y = y_test.reshape(-1,1)"
   ]
  },
  {
   "cell_type": "code",
   "execution_count": 19,
   "id": "76951160",
   "metadata": {
    "execution": {
     "iopub.execute_input": "2022-07-26T10:09:48.146895Z",
     "iopub.status.busy": "2022-07-26T10:09:48.146268Z",
     "iopub.status.idle": "2022-07-26T10:09:48.162925Z",
     "shell.execute_reply": "2022-07-26T10:09:48.162341Z"
    },
    "papermill": {
     "duration": 0.048438,
     "end_time": "2022-07-26T10:09:48.163048",
     "exception": false,
     "start_time": "2022-07-26T10:09:48.114610",
     "status": "completed"
    },
    "tags": []
   },
   "outputs": [
    {
     "name": "stdout",
     "output_type": "stream",
     "text": [
      "xavier\n",
      "xavier\n",
      "xavier\n",
      "xavier\n",
      "xavier\n"
     ]
    }
   ],
   "source": [
    "layers = [Affine(\"first\", 784, 100), Relu(\"first\"), Affine(\"second\", 100, 100), Relu(\"second\"), Affine(\"third\", 100, 2), Affine(\"last\", 2, 1), Sigmoid(\"last\")]\n",
    "model_nn = Model(layers)\n",
    "model_lr = Model([Affine(\"logits\", 784, 1), Sigmoid(\"sigmoid\")])"
   ]
  },
  {
   "cell_type": "code",
   "execution_count": 20,
   "id": "6eede77a",
   "metadata": {
    "execution": {
     "iopub.execute_input": "2022-07-26T10:09:48.226580Z",
     "iopub.status.busy": "2022-07-26T10:09:48.225335Z",
     "iopub.status.idle": "2022-07-26T10:09:48.236028Z",
     "shell.execute_reply": "2022-07-26T10:09:48.236479Z"
    },
    "papermill": {
     "duration": 0.046234,
     "end_time": "2022-07-26T10:09:48.236617",
     "exception": false,
     "start_time": "2022-07-26T10:09:48.190383",
     "status": "completed"
    },
    "tags": []
   },
   "outputs": [],
   "source": [
    "nn_learner = Learner(loss, model_nn, opt, config.num_epochs)\n",
    "acc_nn = ClfCallback(nn_learner, config.bs, training_data_x , testing_data_x, training_data_y, testing_data_y)\n",
    "nn_learner.set_callbacks([acc_nn])"
   ]
  },
  {
   "cell_type": "code",
   "execution_count": 21,
   "id": "877b6cc7",
   "metadata": {
    "execution": {
     "iopub.execute_input": "2022-07-26T10:09:48.301110Z",
     "iopub.status.busy": "2022-07-26T10:09:48.293672Z",
     "iopub.status.idle": "2022-07-26T10:09:48.307446Z",
     "shell.execute_reply": "2022-07-26T10:09:48.307900Z"
    },
    "papermill": {
     "duration": 0.044506,
     "end_time": "2022-07-26T10:09:48.308030",
     "exception": false,
     "start_time": "2022-07-26T10:09:48.263524",
     "status": "completed"
    },
    "tags": []
   },
   "outputs": [],
   "source": [
    "lr_learner = Learner(loss, model_lr, opt, config.num_epochs)\n",
    "acc_lr = ClfCallback(lr_learner, config.bs, training_data_x , testing_data_x, training_data_y, testing_data_y)\n",
    "lr_learner.set_callbacks([acc_lr])"
   ]
  },
  {
   "cell_type": "code",
   "execution_count": 22,
   "id": "d9b133c3",
   "metadata": {
    "execution": {
     "iopub.execute_input": "2022-07-26T10:09:48.371730Z",
     "iopub.status.busy": "2022-07-26T10:09:48.364470Z",
     "iopub.status.idle": "2022-07-26T10:11:07.833934Z",
     "shell.execute_reply": "2022-07-26T10:11:07.835046Z"
    },
    "papermill": {
     "duration": 79.50057,
     "end_time": "2022-07-26T10:11:07.835389",
     "exception": false,
     "start_time": "2022-07-26T10:09:48.334819",
     "status": "completed"
    },
    "tags": []
   },
   "outputs": [
    {
     "name": "stdout",
     "output_type": "stream",
     "text": [
      "Epoch 0, Loss 0.2433\n",
      "Training Accuracy: 0.5972, Testing Accuracy: 0.5917\n",
      "\n"
     ]
    },
    {
     "name": "stdout",
     "output_type": "stream",
     "text": [
      "Epoch 10, Loss 0.1144\n",
      "Training Accuracy: 0.9174, Testing Accuracy: 0.9335\n",
      "\n"
     ]
    },
    {
     "name": "stdout",
     "output_type": "stream",
     "text": [
      "Epoch 20, Loss 0.0637\n",
      "Training Accuracy: 0.9363, Testing Accuracy: 0.9476\n",
      "\n"
     ]
    },
    {
     "name": "stdout",
     "output_type": "stream",
     "text": [
      "Epoch 30, Loss 0.0486\n",
      "Training Accuracy: 0.9473, Testing Accuracy: 0.9572\n",
      "\n"
     ]
    },
    {
     "name": "stdout",
     "output_type": "stream",
     "text": [
      "Epoch 40, Loss 0.0413\n",
      "Training Accuracy: 0.9518, Testing Accuracy: 0.9637\n",
      "\n"
     ]
    },
    {
     "name": "stdout",
     "output_type": "stream",
     "text": [
      "Epoch 50, Loss 0.0371\n",
      "Training Accuracy: 0.9561, Testing Accuracy: 0.9657\n",
      "\n"
     ]
    },
    {
     "name": "stdout",
     "output_type": "stream",
     "text": [
      "Epoch 60, Loss 0.0342\n",
      "Training Accuracy: 0.9591, Testing Accuracy: 0.9652\n",
      "\n"
     ]
    },
    {
     "name": "stdout",
     "output_type": "stream",
     "text": [
      "Epoch 70, Loss 0.0321\n",
      "Training Accuracy: 0.9617, Testing Accuracy: 0.9677\n",
      "\n"
     ]
    },
    {
     "name": "stdout",
     "output_type": "stream",
     "text": [
      "Epoch 80, Loss 0.0304\n",
      "Training Accuracy: 0.9642, Testing Accuracy: 0.9677\n",
      "\n"
     ]
    },
    {
     "name": "stdout",
     "output_type": "stream",
     "text": [
      "Epoch 90, Loss 0.0291\n",
      "Training Accuracy: 0.9654, Testing Accuracy: 0.9682\n",
      "\n"
     ]
    },
    {
     "name": "stdout",
     "output_type": "stream",
     "text": [
      "Epoch 100, Loss 0.028\n",
      "Training Accuracy: 0.9671, Testing Accuracy: 0.9682\n",
      "\n"
     ]
    },
    {
     "name": "stdout",
     "output_type": "stream",
     "text": [
      "Epoch 110, Loss 0.027\n",
      "Training Accuracy: 0.9684, Testing Accuracy: 0.9698\n",
      "\n"
     ]
    },
    {
     "name": "stdout",
     "output_type": "stream",
     "text": [
      "Epoch 120, Loss 0.0262\n",
      "Training Accuracy: 0.9691, Testing Accuracy: 0.9693\n",
      "\n"
     ]
    },
    {
     "name": "stdout",
     "output_type": "stream",
     "text": [
      "Epoch 130, Loss 0.0254\n",
      "Training Accuracy: 0.9701, Testing Accuracy: 0.9688\n",
      "\n"
     ]
    },
    {
     "name": "stdout",
     "output_type": "stream",
     "text": [
      "Epoch 140, Loss 0.0247\n",
      "Training Accuracy: 0.9710, Testing Accuracy: 0.9693\n",
      "\n"
     ]
    },
    {
     "name": "stdout",
     "output_type": "stream",
     "text": [
      "Epoch 150, Loss 0.0241\n",
      "Training Accuracy: 0.9717, Testing Accuracy: 0.9703\n",
      "\n"
     ]
    },
    {
     "name": "stdout",
     "output_type": "stream",
     "text": [
      "Epoch 160, Loss 0.0235\n",
      "Training Accuracy: 0.9720, Testing Accuracy: 0.9718\n",
      "\n"
     ]
    },
    {
     "name": "stdout",
     "output_type": "stream",
     "text": [
      "Epoch 170, Loss 0.023\n",
      "Training Accuracy: 0.9728, Testing Accuracy: 0.9728\n",
      "\n"
     ]
    },
    {
     "name": "stdout",
     "output_type": "stream",
     "text": [
      "Epoch 180, Loss 0.0225\n",
      "Training Accuracy: 0.9735, Testing Accuracy: 0.9728\n",
      "\n"
     ]
    },
    {
     "name": "stdout",
     "output_type": "stream",
     "text": [
      "Epoch 190, Loss 0.022\n",
      "Training Accuracy: 0.9741, Testing Accuracy: 0.9728\n",
      "\n"
     ]
    },
    {
     "name": "stdout",
     "output_type": "stream",
     "text": [
      "Epoch 200, Loss 0.0216\n",
      "Training Accuracy: 0.9751, Testing Accuracy: 0.9728\n",
      "\n"
     ]
    },
    {
     "name": "stdout",
     "output_type": "stream",
     "text": [
      "Epoch 210, Loss 0.0211\n",
      "Training Accuracy: 0.9755, Testing Accuracy: 0.9738\n",
      "\n"
     ]
    },
    {
     "name": "stdout",
     "output_type": "stream",
     "text": [
      "Epoch 220, Loss 0.0207\n",
      "Training Accuracy: 0.9755, Testing Accuracy: 0.9738\n",
      "\n"
     ]
    },
    {
     "name": "stdout",
     "output_type": "stream",
     "text": [
      "Epoch 230, Loss 0.0203\n",
      "Training Accuracy: 0.9760, Testing Accuracy: 0.9738\n",
      "\n"
     ]
    },
    {
     "name": "stdout",
     "output_type": "stream",
     "text": [
      "Epoch 240, Loss 0.0199\n",
      "Training Accuracy: 0.9765, Testing Accuracy: 0.9743\n",
      "\n"
     ]
    },
    {
     "data": {
      "text/plain": [
       "0.021840079750306718"
      ]
     },
     "execution_count": 22,
     "metadata": {},
     "output_type": "execute_result"
    }
   ],
   "source": [
    "nn_learner.train_loop(dl)"
   ]
  },
  {
   "cell_type": "code",
   "execution_count": 23,
   "id": "e0163366",
   "metadata": {
    "execution": {
     "iopub.execute_input": "2022-07-26T10:11:08.046638Z",
     "iopub.status.busy": "2022-07-26T10:11:08.044888Z",
     "iopub.status.idle": "2022-07-26T10:11:22.632914Z",
     "shell.execute_reply": "2022-07-26T10:11:22.633805Z"
    },
    "papermill": {
     "duration": 14.696142,
     "end_time": "2022-07-26T10:11:22.633959",
     "exception": false,
     "start_time": "2022-07-26T10:11:07.937817",
     "status": "completed"
    },
    "tags": []
   },
   "outputs": [
    {
     "name": "stdout",
     "output_type": "stream",
     "text": [
      "Epoch 0, Loss 0.2078\n",
      "Training Accuracy: 0.7825, Testing Accuracy: 0.7802\n",
      "\n"
     ]
    },
    {
     "name": "stdout",
     "output_type": "stream",
     "text": [
      "Epoch 10, Loss 0.1006\n",
      "Training Accuracy: 0.9089, Testing Accuracy: 0.9204\n",
      "\n"
     ]
    },
    {
     "name": "stdout",
     "output_type": "stream",
     "text": [
      "Epoch 20, Loss 0.0784\n",
      "Training Accuracy: 0.9284, Testing Accuracy: 0.9375\n",
      "\n"
     ]
    },
    {
     "name": "stdout",
     "output_type": "stream",
     "text": [
      "Epoch 30, Loss 0.0678\n",
      "Training Accuracy: 0.9364, Testing Accuracy: 0.9471\n",
      "\n"
     ]
    },
    {
     "name": "stdout",
     "output_type": "stream",
     "text": [
      "Epoch 40, Loss 0.0614\n",
      "Training Accuracy: 0.9407, Testing Accuracy: 0.9516\n",
      "\n"
     ]
    },
    {
     "name": "stdout",
     "output_type": "stream",
     "text": [
      "Epoch 50, Loss 0.057\n",
      "Training Accuracy: 0.9449, Testing Accuracy: 0.9561\n",
      "\n"
     ]
    },
    {
     "name": "stdout",
     "output_type": "stream",
     "text": [
      "Epoch 60, Loss 0.0537\n",
      "Training Accuracy: 0.9478, Testing Accuracy: 0.9597\n",
      "\n"
     ]
    },
    {
     "name": "stdout",
     "output_type": "stream",
     "text": [
      "Epoch 70, Loss 0.0512\n",
      "Training Accuracy: 0.9500, Testing Accuracy: 0.9602\n",
      "\n"
     ]
    },
    {
     "name": "stdout",
     "output_type": "stream",
     "text": [
      "Epoch 80, Loss 0.0492\n",
      "Training Accuracy: 0.9511, Testing Accuracy: 0.9592\n",
      "\n"
     ]
    },
    {
     "name": "stdout",
     "output_type": "stream",
     "text": [
      "Epoch 90, Loss 0.0475\n",
      "Training Accuracy: 0.9527, Testing Accuracy: 0.9597\n",
      "\n"
     ]
    },
    {
     "name": "stdout",
     "output_type": "stream",
     "text": [
      "Epoch 100, Loss 0.0461\n",
      "Training Accuracy: 0.9541, Testing Accuracy: 0.9622\n",
      "\n"
     ]
    },
    {
     "name": "stdout",
     "output_type": "stream",
     "text": [
      "Epoch 110, Loss 0.0449\n",
      "Training Accuracy: 0.9552, Testing Accuracy: 0.9632\n",
      "\n"
     ]
    },
    {
     "name": "stdout",
     "output_type": "stream",
     "text": [
      "Epoch 120, Loss 0.0438\n",
      "Training Accuracy: 0.9559, Testing Accuracy: 0.9647\n",
      "\n"
     ]
    },
    {
     "name": "stdout",
     "output_type": "stream",
     "text": [
      "Epoch 130, Loss 0.0429\n",
      "Training Accuracy: 0.9564, Testing Accuracy: 0.9647\n",
      "\n"
     ]
    },
    {
     "name": "stdout",
     "output_type": "stream",
     "text": [
      "Epoch 140, Loss 0.042\n",
      "Training Accuracy: 0.9569, Testing Accuracy: 0.9662\n",
      "\n"
     ]
    },
    {
     "name": "stdout",
     "output_type": "stream",
     "text": [
      "Epoch 150, Loss 0.0413\n",
      "Training Accuracy: 0.9572, Testing Accuracy: 0.9667\n",
      "\n"
     ]
    },
    {
     "name": "stdout",
     "output_type": "stream",
     "text": [
      "Epoch 160, Loss 0.0406\n",
      "Training Accuracy: 0.9575, Testing Accuracy: 0.9667\n",
      "\n"
     ]
    },
    {
     "name": "stdout",
     "output_type": "stream",
     "text": [
      "Epoch 170, Loss 0.04\n",
      "Training Accuracy: 0.9580, Testing Accuracy: 0.9682\n",
      "\n"
     ]
    },
    {
     "name": "stdout",
     "output_type": "stream",
     "text": [
      "Epoch 180, Loss 0.0394\n",
      "Training Accuracy: 0.9585, Testing Accuracy: 0.9682\n",
      "\n"
     ]
    },
    {
     "name": "stdout",
     "output_type": "stream",
     "text": [
      "Epoch 190, Loss 0.0389\n",
      "Training Accuracy: 0.9589, Testing Accuracy: 0.9677\n",
      "\n"
     ]
    },
    {
     "name": "stdout",
     "output_type": "stream",
     "text": [
      "Epoch 200, Loss 0.0385\n",
      "Training Accuracy: 0.9594, Testing Accuracy: 0.9688\n",
      "\n"
     ]
    },
    {
     "name": "stdout",
     "output_type": "stream",
     "text": [
      "Epoch 210, Loss 0.038\n",
      "Training Accuracy: 0.9597, Testing Accuracy: 0.9688\n",
      "\n"
     ]
    },
    {
     "name": "stdout",
     "output_type": "stream",
     "text": [
      "Epoch 220, Loss 0.0376\n",
      "Training Accuracy: 0.9600, Testing Accuracy: 0.9693\n",
      "\n"
     ]
    },
    {
     "name": "stdout",
     "output_type": "stream",
     "text": [
      "Epoch 230, Loss 0.0372\n",
      "Training Accuracy: 0.9604, Testing Accuracy: 0.9698\n",
      "\n"
     ]
    },
    {
     "name": "stdout",
     "output_type": "stream",
     "text": [
      "Epoch 240, Loss 0.0369\n",
      "Training Accuracy: 0.9605, Testing Accuracy: 0.9693\n",
      "\n"
     ]
    },
    {
     "data": {
      "text/plain": [
       "0.04772653115806905"
      ]
     },
     "execution_count": 23,
     "metadata": {},
     "output_type": "execute_result"
    }
   ],
   "source": [
    "lr_learner.train_loop(dl)"
   ]
  },
  {
   "cell_type": "code",
   "execution_count": 24,
   "id": "ca410940",
   "metadata": {
    "execution": {
     "iopub.execute_input": "2022-07-26T10:11:22.723050Z",
     "iopub.status.busy": "2022-07-26T10:11:22.722452Z",
     "iopub.status.idle": "2022-07-26T10:11:22.961189Z",
     "shell.execute_reply": "2022-07-26T10:11:22.960709Z"
    },
    "papermill": {
     "duration": 0.286556,
     "end_time": "2022-07-26T10:11:22.961317",
     "exception": false,
     "start_time": "2022-07-26T10:11:22.674761",
     "status": "completed"
    },
    "tags": []
   },
   "outputs": [
    {
     "data": {
      "text/plain": [
       "<matplotlib.legend.Legend at 0x7f5658a76b70>"
      ]
     },
     "execution_count": 24,
     "metadata": {},
     "output_type": "execute_result"
    },
    {
     "data": {
      "image/png": "[encoded data removed]",
      "text/plain": [
       "<Figure size 1080x720 with 1 Axes>"
      ]
     },
     "metadata": {
      "needs_background": "light"
     },
     "output_type": "display_data"
    }
   ],
   "source": [
    "#comparing the results of NN and LR\n",
    "plt.figure(figsize=(15,10))\n",
    "\n",
    "# Neural Network plots\n",
    "plt.plot(acc_nn.accuracies, 'r-', label = \"Training Accuracies - NN\")\n",
    "plt.plot(acc_nn.test_accuracies, 'g-', label = \"Testing Accuracies - NN\")\n",
    "\n",
    "# Logistic Regression plots\n",
    "plt.plot(acc_lr.accuracies, 'k-', label = \"Training Accuracies - LR\")\n",
    "plt.plot(acc_lr.test_accuracies, 'b-', label = \"Testing Accuracies - LR\")\n",
    "plt.legend()"
   ]
  },
  {
   "cell_type": "markdown",
   "id": "80dfb35c",
   "metadata": {
    "papermill": {
     "duration": 0.041373,
     "end_time": "2022-07-26T10:11:23.044465",
     "exception": false,
     "start_time": "2022-07-26T10:11:23.003092",
     "status": "completed"
    },
    "tags": []
   },
   "source": [
    "#### Plotting the outputs of this layer of the NN.\n"
   ]
  },
  {
   "cell_type": "code",
   "execution_count": 25,
   "id": "45eb2ff5",
   "metadata": {
    "execution": {
     "iopub.execute_input": "2022-07-26T10:11:23.139684Z",
     "iopub.status.busy": "2022-07-26T10:11:23.139027Z",
     "iopub.status.idle": "2022-07-26T10:11:23.157384Z",
     "shell.execute_reply": "2022-07-26T10:11:23.156885Z"
    },
    "papermill": {
     "duration": 0.071487,
     "end_time": "2022-07-26T10:11:23.157512",
     "exception": false,
     "start_time": "2022-07-26T10:11:23.086025",
     "status": "completed"
    },
    "tags": []
   },
   "outputs": [],
   "source": [
    "new_model = Model(layers[:-2])\n",
    "testing_plot = new_model(testing_data_x)"
   ]
  },
  {
   "cell_type": "code",
   "execution_count": 26,
   "id": "4c0a5485",
   "metadata": {
    "execution": {
     "iopub.execute_input": "2022-07-26T10:11:23.246598Z",
     "iopub.status.busy": "2022-07-26T10:11:23.245968Z",
     "iopub.status.idle": "2022-07-26T10:11:23.468888Z",
     "shell.execute_reply": "2022-07-26T10:11:23.469349Z"
    },
    "papermill": {
     "duration": 0.26928,
     "end_time": "2022-07-26T10:11:23.469495",
     "exception": false,
     "start_time": "2022-07-26T10:11:23.200215",
     "status": "completed"
    },
    "tags": []
   },
   "outputs": [
    {
     "data": {
      "text/plain": [
       "Text(0.5, 1.0, 'Outputs')"
      ]
     },
     "execution_count": 26,
     "metadata": {},
     "output_type": "execute_result"
    },
    {
     "data": {
      "image/png": "[encoded data removed]",
      "text/plain": [
       "<Figure size 576x504 with 1 Axes>"
      ]
     },
     "metadata": {
      "needs_background": "light"
     },
     "output_type": "display_data"
    }
   ],
   "source": [
    "# Plotting the scatter plot of points and color coding by class\n",
    "plt.figure(figsize=(8,7))\n",
    "plt.scatter(testing_plot[:,0], testing_plot[:,1], alpha = 0.1, c = y_test.ravel());\n",
    "plt.title('Outputs')"
   ]
  },
  {
   "cell_type": "markdown",
   "id": "a74fcf8f",
   "metadata": {
    "papermill": {
     "duration": 0.044887,
     "end_time": "2022-07-26T10:11:23.559473",
     "exception": false,
     "start_time": "2022-07-26T10:11:23.514586",
     "status": "completed"
    },
    "tags": []
   },
   "source": [
    "Probability contours"
   ]
  },
  {
   "cell_type": "code",
   "execution_count": 27,
   "id": "d0afc8e3",
   "metadata": {
    "execution": {
     "iopub.execute_input": "2022-07-26T10:11:23.655551Z",
     "iopub.status.busy": "2022-07-26T10:11:23.654903Z",
     "iopub.status.idle": "2022-07-26T10:11:23.667815Z",
     "shell.execute_reply": "2022-07-26T10:11:23.667292Z"
    },
    "papermill": {
     "duration": 0.063786,
     "end_time": "2022-07-26T10:11:23.667935",
     "exception": false,
     "start_time": "2022-07-26T10:11:23.604149",
     "status": "completed"
    },
    "tags": []
   },
   "outputs": [],
   "source": [
    "model_prob = Model(layers[-2:]) "
   ]
  },
  {
   "cell_type": "code",
   "execution_count": 28,
   "id": "9b96e238",
   "metadata": {
    "execution": {
     "iopub.execute_input": "2022-07-26T10:11:23.763242Z",
     "iopub.status.busy": "2022-07-26T10:11:23.762641Z",
     "iopub.status.idle": "2022-07-26T10:11:23.792577Z",
     "shell.execute_reply": "2022-07-26T10:11:23.793093Z"
    },
    "papermill": {
     "duration": 0.080269,
     "end_time": "2022-07-26T10:11:23.793242",
     "exception": false,
     "start_time": "2022-07-26T10:11:23.712973",
     "status": "completed"
    },
    "tags": []
   },
   "outputs": [],
   "source": [
    "#creating the x and y ranges according to the above generated plot.\n",
    "x_range = np.linspace(-4, 1, 100) \n",
    "y_range = np.linspace(-6, 6, 100) \n",
    "x_grid, y_grid = np.meshgrid(x_range, y_range) # x_grid and y_grig are of size 100 X 100\n",
    "\n",
    "# converting x_grid and y_grid to continuous arrays\n",
    "x_gridflat = np.ravel(x_grid)\n",
    "y_gridflat = np.ravel(y_grid)\n",
    "\n",
    "# The last layer of the current model takes two columns as input. Hence transpose of np.vstack() is required.\n",
    "X = np.vstack((x_gridflat, y_gridflat)).T\n",
    "\n",
    "prob_contour = model_prob(X).reshape(100,100) "
   ]
  },
  {
   "cell_type": "code",
   "execution_count": 29,
   "id": "da72499a",
   "metadata": {
    "execution": {
     "iopub.execute_input": "2022-07-26T10:11:23.922623Z",
     "iopub.status.busy": "2022-07-26T10:11:23.920863Z",
     "iopub.status.idle": "2022-07-26T10:11:24.173190Z",
     "shell.execute_reply": "2022-07-26T10:11:24.172709Z"
    },
    "papermill": {
     "duration": 0.303635,
     "end_time": "2022-07-26T10:11:24.173315",
     "exception": false,
     "start_time": "2022-07-26T10:11:23.869680",
     "status": "completed"
    },
    "tags": []
   },
   "outputs": [
    {
     "data": {
      "image/png": "[encoded data removed]",
      "text/plain": [
       "<Figure size 720x648 with 1 Axes>"
      ]
     },
     "metadata": {
      "needs_background": "light"
     },
     "output_type": "display_data"
    }
   ],
   "source": [
    "plt.figure(figsize=(10,9))\n",
    "plt.scatter(testing_plot[:,0], testing_plot[:,1], alpha = 0.1, c = y_test.ravel())\n",
    "contours = plt.contour(x_grid,y_grid,prob_contour)\n",
    "plt.title('Probability Contours')\n",
    "plt.clabel(contours, inline = True );"
   ]
  },
  {
   "cell_type": "code",
   "execution_count": null,
   "id": "e81b4ac7",
   "metadata": {
    "papermill": {
     "duration": 0.047253,
     "end_time": "2022-07-26T10:11:24.268394",
     "exception": false,
     "start_time": "2022-07-26T10:11:24.221141",
     "status": "completed"
    },
    "tags": []
   },
   "outputs": [],
   "source": []
  }
 ],
 "metadata": {
  "kernelspec": {
   "display_name": "Python 3",
   "language": "python",
   "name": "python3"
  },
  "language_info": {
   "codemirror_mode": {
    "name": "ipython",
    "version": 3
   },
   "file_extension": ".py",
   "mimetype": "text/x-python",
   "name": "python",
   "nbconvert_exporter": "python",
   "pygments_lexer": "ipython3",
   "version": "3.6.15"
  },
  "papermill": {
   "default_parameters": {},
   "duration": 102.578707,
   "end_time": "2022-07-26T10:11:24.735884",
   "environment_variables": {},
   "exception": null,
   "input_path": "2020-08-11-part2.ipynb",
   "output_path": "2020-08-11-part2.ipynb",
   "parameters": {},
   "start_time": "2022-07-26T10:09:42.157177",
   "version": "2.3.3"
  }
 },
 "nbformat": 4,
 "nbformat_minor": 5
}