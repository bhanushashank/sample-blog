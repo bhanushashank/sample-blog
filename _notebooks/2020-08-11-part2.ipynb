{
 "cells": [
  {
   "cell_type": "markdown",
   "id": "98380cd3",
   "metadata": {
    "papermill": {
     "duration": 0.027737,
     "end_time": "2022-01-03T20:08:51.413628",
     "exception": false,
     "start_time": "2022-01-03T20:08:51.385891",
     "status": "completed"
    },
    "tags": []
   },
   "source": [
    "# Distinguish Your Own Digits (DYOD)"
   ]
  },
  {
   "cell_type": "markdown",
   "id": "ef31240d",
   "metadata": {
    "papermill": {
     "duration": 0.023399,
     "end_time": "2022-01-03T20:08:51.461268",
     "exception": false,
     "start_time": "2022-01-03T20:08:51.437869",
     "status": "completed"
    },
    "tags": []
   },
   "source": [
    "You are going to write a classifier that distinguishes between the number 3 and number 8."
   ]
  },
  {
   "cell_type": "code",
   "execution_count": 1,
   "id": "b15c8646",
   "metadata": {
    "execution": {
     "iopub.execute_input": "2022-01-03T20:08:51.520132Z",
     "iopub.status.busy": "2022-01-03T20:08:51.519596Z",
     "iopub.status.idle": "2022-01-03T20:08:51.530028Z",
     "shell.execute_reply": "2022-01-03T20:08:51.529596Z"
    },
    "papermill": {
     "duration": 0.044156,
     "end_time": "2022-01-03T20:08:51.530156",
     "exception": false,
     "start_time": "2022-01-03T20:08:51.486000",
     "status": "completed"
    },
    "tags": []
   },
   "outputs": [],
   "source": [
    "%load_ext autoreload\n",
    "%autoreload 2"
   ]
  },
  {
   "cell_type": "code",
   "execution_count": 2,
   "id": "22ef38dc",
   "metadata": {
    "execution": {
     "iopub.execute_input": "2022-01-03T20:08:51.581148Z",
     "iopub.status.busy": "2022-01-03T20:08:51.580627Z",
     "iopub.status.idle": "2022-01-03T20:08:52.158349Z",
     "shell.execute_reply": "2022-01-03T20:08:52.157823Z"
    },
    "papermill": {
     "duration": 0.604668,
     "end_time": "2022-01-03T20:08:52.158518",
     "exception": false,
     "start_time": "2022-01-03T20:08:51.553850",
     "status": "completed"
    },
    "tags": []
   },
   "outputs": [],
   "source": [
    "%matplotlib inline\n",
    "import numpy as np\n",
    "import matplotlib.pyplot as plt\n",
    "import pandas as pd"
   ]
  },
  {
   "cell_type": "markdown",
   "id": "ba036198",
   "metadata": {
    "papermill": {
     "duration": 0.023692,
     "end_time": "2022-01-03T20:08:52.206875",
     "exception": false,
     "start_time": "2022-01-03T20:08:52.183183",
     "status": "completed"
    },
    "tags": []
   },
   "source": [
    "From the command line run `pip install mnist`. This is a library that will help you bring down the mnist dataset. If you run this from a notebook, you need to put  `!pip install mnist` in a cell by itself."
   ]
  },
  {
   "cell_type": "code",
   "execution_count": 3,
   "id": "bb6ad8a1",
   "metadata": {
    "execution": {
     "iopub.execute_input": "2022-01-03T20:08:52.259805Z",
     "iopub.status.busy": "2022-01-03T20:08:52.259293Z",
     "iopub.status.idle": "2022-01-03T20:08:54.067934Z",
     "shell.execute_reply": "2022-01-03T20:08:54.067407Z"
    },
    "papermill": {
     "duration": 1.837549,
     "end_time": "2022-01-03T20:08:54.068074",
     "exception": false,
     "start_time": "2022-01-03T20:08:52.230525",
     "status": "completed"
    },
    "tags": []
   },
   "outputs": [
    {
     "name": "stdout",
     "output_type": "stream",
     "text": [
      "Collecting mnist\r\n"
     ]
    },
    {
     "name": "stdout",
     "output_type": "stream",
     "text": [
      "  Downloading mnist-0.2.2-py2.py3-none-any.whl (3.5 kB)\r\n",
      "Requirement already satisfied: numpy in /opt/hostedtoolcache/Python/3.6.15/x64/lib/python3.6/site-packages (from mnist) (1.19.5)\r\n"
     ]
    },
    {
     "name": "stdout",
     "output_type": "stream",
     "text": [
      "Installing collected packages: mnist\r\n"
     ]
    },
    {
     "name": "stdout",
     "output_type": "stream",
     "text": [
      "Successfully installed mnist-0.2.2\r\n"
     ]
    }
   ],
   "source": [
    "!pip install mnist"
   ]
  },
  {
   "cell_type": "markdown",
   "id": "69df9c9a",
   "metadata": {
    "papermill": {
     "duration": 0.024827,
     "end_time": "2022-01-03T20:08:54.118492",
     "exception": false,
     "start_time": "2022-01-03T20:08:54.093665",
     "status": "completed"
    },
    "tags": []
   },
   "source": [
    "## Preparing the Data"
   ]
  },
  {
   "cell_type": "code",
   "execution_count": 4,
   "id": "7f69d806",
   "metadata": {
    "execution": {
     "iopub.execute_input": "2022-01-03T20:08:54.172900Z",
     "iopub.status.busy": "2022-01-03T20:08:54.172353Z",
     "iopub.status.idle": "2022-01-03T20:08:54.188320Z",
     "shell.execute_reply": "2022-01-03T20:08:54.187447Z"
    },
    "papermill": {
     "duration": 0.04519,
     "end_time": "2022-01-03T20:08:54.188458",
     "exception": false,
     "start_time": "2022-01-03T20:08:54.143268",
     "status": "completed"
    },
    "tags": []
   },
   "outputs": [],
   "source": [
    "import mnist"
   ]
  },
  {
   "cell_type": "code",
   "execution_count": 5,
   "id": "a411e44f",
   "metadata": {
    "execution": {
     "iopub.execute_input": "2022-01-03T20:08:54.242748Z",
     "iopub.status.busy": "2022-01-03T20:08:54.242186Z",
     "iopub.status.idle": "2022-01-03T20:08:54.853078Z",
     "shell.execute_reply": "2022-01-03T20:08:54.852555Z"
    },
    "papermill": {
     "duration": 0.639155,
     "end_time": "2022-01-03T20:08:54.853221",
     "exception": false,
     "start_time": "2022-01-03T20:08:54.214066",
     "status": "completed"
    },
    "tags": []
   },
   "outputs": [],
   "source": [
    "train_images = mnist.train_images()\n",
    "train_labels = mnist.train_labels()"
   ]
  },
  {
   "cell_type": "code",
   "execution_count": 6,
   "id": "dceab3a5",
   "metadata": {
    "execution": {
     "iopub.execute_input": "2022-01-03T20:08:54.919114Z",
     "iopub.status.busy": "2022-01-03T20:08:54.917120Z",
     "iopub.status.idle": "2022-01-03T20:08:54.926639Z",
     "shell.execute_reply": "2022-01-03T20:08:54.927059Z"
    },
    "papermill": {
     "duration": 0.048899,
     "end_time": "2022-01-03T20:08:54.927196",
     "exception": false,
     "start_time": "2022-01-03T20:08:54.878297",
     "status": "completed"
    },
    "tags": []
   },
   "outputs": [
    {
     "data": {
      "text/plain": [
       "((60000, 28, 28), (60000,))"
      ]
     },
     "execution_count": 6,
     "metadata": {},
     "output_type": "execute_result"
    }
   ],
   "source": [
    "train_images.shape, train_labels.shape"
   ]
  },
  {
   "cell_type": "code",
   "execution_count": 7,
   "id": "f50dc2bb",
   "metadata": {
    "execution": {
     "iopub.execute_input": "2022-01-03T20:08:54.991332Z",
     "iopub.status.busy": "2022-01-03T20:08:54.983185Z",
     "iopub.status.idle": "2022-01-03T20:08:55.215410Z",
     "shell.execute_reply": "2022-01-03T20:08:55.214537Z"
    },
    "papermill": {
     "duration": 0.26312,
     "end_time": "2022-01-03T20:08:55.215551",
     "exception": false,
     "start_time": "2022-01-03T20:08:54.952431",
     "status": "completed"
    },
    "tags": []
   },
   "outputs": [],
   "source": [
    "test_images = mnist.test_images()\n",
    "test_labels = mnist.test_labels()"
   ]
  },
  {
   "cell_type": "code",
   "execution_count": 8,
   "id": "fc38cf1b",
   "metadata": {
    "execution": {
     "iopub.execute_input": "2022-01-03T20:08:55.270376Z",
     "iopub.status.busy": "2022-01-03T20:08:55.269836Z",
     "iopub.status.idle": "2022-01-03T20:08:55.284773Z",
     "shell.execute_reply": "2022-01-03T20:08:55.284243Z"
    },
    "papermill": {
     "duration": 0.043327,
     "end_time": "2022-01-03T20:08:55.284890",
     "exception": false,
     "start_time": "2022-01-03T20:08:55.241563",
     "status": "completed"
    },
    "tags": []
   },
   "outputs": [
    {
     "data": {
      "text/plain": [
       "((10000, 28, 28), (10000,))"
      ]
     },
     "execution_count": 8,
     "metadata": {},
     "output_type": "execute_result"
    }
   ],
   "source": [
    "test_images.shape, test_labels.shape"
   ]
  },
  {
   "cell_type": "code",
   "execution_count": 9,
   "id": "f9ed8fe0",
   "metadata": {
    "execution": {
     "iopub.execute_input": "2022-01-03T20:08:55.339708Z",
     "iopub.status.busy": "2022-01-03T20:08:55.339180Z",
     "iopub.status.idle": "2022-01-03T20:08:55.476991Z",
     "shell.execute_reply": "2022-01-03T20:08:55.476546Z"
    },
    "papermill": {
     "duration": 0.166721,
     "end_time": "2022-01-03T20:08:55.477112",
     "exception": false,
     "start_time": "2022-01-03T20:08:55.310391",
     "status": "completed"
    },
    "tags": []
   },
   "outputs": [
    {
     "name": "stdout",
     "output_type": "stream",
     "text": [
      "2\n"
     ]
    },
    {
     "data": {
      "text/plain": [
       "<matplotlib.image.AxesImage at 0x7f62a9d9f3c8>"
      ]
     },
     "execution_count": 9,
     "metadata": {},
     "output_type": "execute_result"
    },
    {
     "data": {
      "image/png": "[encoded data removed]",
      "text/plain": [
       "<Figure size 432x288 with 1 Axes>"
      ]
     },
     "metadata": {
      "needs_background": "light"
     },
     "output_type": "display_data"
    }
   ],
   "source": [
    "image_index = 7776 # You may select anything up to 60,000\n",
    "print(train_labels[image_index]) \n",
    "plt.imshow(train_images[image_index], cmap='Greys')"
   ]
  },
  {
   "cell_type": "markdown",
   "id": "a8d2388d",
   "metadata": {
    "papermill": {
     "duration": 0.026327,
     "end_time": "2022-01-03T20:08:55.530097",
     "exception": false,
     "start_time": "2022-01-03T20:08:55.503770",
     "status": "completed"
    },
    "tags": []
   },
   "source": [
    "## Filter data to get 3 and 8 out"
   ]
  },
  {
   "cell_type": "code",
   "execution_count": 10,
   "id": "776f7fc7",
   "metadata": {
    "execution": {
     "iopub.execute_input": "2022-01-03T20:08:55.587778Z",
     "iopub.status.busy": "2022-01-03T20:08:55.587227Z",
     "iopub.status.idle": "2022-01-03T20:08:55.604747Z",
     "shell.execute_reply": "2022-01-03T20:08:55.604302Z"
    },
    "papermill": {
     "duration": 0.048229,
     "end_time": "2022-01-03T20:08:55.604870",
     "exception": false,
     "start_time": "2022-01-03T20:08:55.556641",
     "status": "completed"
    },
    "tags": []
   },
   "outputs": [],
   "source": [
    "train_filter = np.where((train_labels == 3 ) | (train_labels == 8))\n",
    "test_filter = np.where((test_labels == 3) | (test_labels == 8))\n",
    "X_train, y_train = train_images[train_filter], train_labels[train_filter]\n",
    "X_test, y_test = test_images[test_filter], test_labels[test_filter]"
   ]
  },
  {
   "cell_type": "markdown",
   "id": "948f0b7e",
   "metadata": {
    "papermill": {
     "duration": 0.027592,
     "end_time": "2022-01-03T20:08:55.659083",
     "exception": false,
     "start_time": "2022-01-03T20:08:55.631491",
     "status": "completed"
    },
    "tags": []
   },
   "source": [
    "We normalize the pizel values in the 0 to 1 range"
   ]
  },
  {
   "cell_type": "code",
   "execution_count": 11,
   "id": "ee4c2166",
   "metadata": {
    "execution": {
     "iopub.execute_input": "2022-01-03T20:08:55.715323Z",
     "iopub.status.busy": "2022-01-03T20:08:55.714776Z",
     "iopub.status.idle": "2022-01-03T20:08:55.762744Z",
     "shell.execute_reply": "2022-01-03T20:08:55.762193Z"
    },
    "papermill": {
     "duration": 0.077587,
     "end_time": "2022-01-03T20:08:55.762887",
     "exception": false,
     "start_time": "2022-01-03T20:08:55.685300",
     "status": "completed"
    },
    "tags": []
   },
   "outputs": [],
   "source": [
    "X_train = X_train/255.\n",
    "X_test = X_test/255."
   ]
  },
  {
   "cell_type": "markdown",
   "id": "ddcf4fab",
   "metadata": {
    "papermill": {
     "duration": 0.026178,
     "end_time": "2022-01-03T20:08:55.816572",
     "exception": false,
     "start_time": "2022-01-03T20:08:55.790394",
     "status": "completed"
    },
    "tags": []
   },
   "source": [
    "And setup the labels as 1 (when the digit is 3) and 0 (when the digit is 8)"
   ]
  },
  {
   "cell_type": "code",
   "execution_count": 12,
   "id": "7dc908f2",
   "metadata": {
    "execution": {
     "iopub.execute_input": "2022-01-03T20:08:55.885846Z",
     "iopub.status.busy": "2022-01-03T20:08:55.883322Z",
     "iopub.status.idle": "2022-01-03T20:08:55.888231Z",
     "shell.execute_reply": "2022-01-03T20:08:55.887793Z"
    },
    "papermill": {
     "duration": 0.045555,
     "end_time": "2022-01-03T20:08:55.888343",
     "exception": false,
     "start_time": "2022-01-03T20:08:55.842788",
     "status": "completed"
    },
    "tags": []
   },
   "outputs": [],
   "source": [
    "y_train = 1*(y_train==3)\n",
    "y_test = 1*(y_test==3)"
   ]
  },
  {
   "cell_type": "code",
   "execution_count": 13,
   "id": "01e4e969",
   "metadata": {
    "execution": {
     "iopub.execute_input": "2022-01-03T20:08:55.951110Z",
     "iopub.status.busy": "2022-01-03T20:08:55.944456Z",
     "iopub.status.idle": "2022-01-03T20:08:55.956491Z",
     "shell.execute_reply": "2022-01-03T20:08:55.956930Z"
    },
    "papermill": {
     "duration": 0.042366,
     "end_time": "2022-01-03T20:08:55.957061",
     "exception": false,
     "start_time": "2022-01-03T20:08:55.914695",
     "status": "completed"
    },
    "tags": []
   },
   "outputs": [
    {
     "data": {
      "text/plain": [
       "((11982, 28, 28), (1984, 28, 28))"
      ]
     },
     "execution_count": 13,
     "metadata": {},
     "output_type": "execute_result"
    }
   ],
   "source": [
    "X_train.shape, X_test.shape"
   ]
  },
  {
   "cell_type": "markdown",
   "id": "5ccf3f85",
   "metadata": {
    "papermill": {
     "duration": 0.026334,
     "end_time": "2022-01-03T20:08:56.009919",
     "exception": false,
     "start_time": "2022-01-03T20:08:55.983585",
     "status": "completed"
    },
    "tags": []
   },
   "source": [
    "We reshape the data to flatten the image pixels into a set of features or co-variates:"
   ]
  },
  {
   "cell_type": "code",
   "execution_count": 14,
   "id": "5286a4a3",
   "metadata": {
    "execution": {
     "iopub.execute_input": "2022-01-03T20:08:56.067267Z",
     "iopub.status.busy": "2022-01-03T20:08:56.066733Z",
     "iopub.status.idle": "2022-01-03T20:08:56.079625Z",
     "shell.execute_reply": "2022-01-03T20:08:56.079208Z"
    },
    "papermill": {
     "duration": 0.043175,
     "end_time": "2022-01-03T20:08:56.079743",
     "exception": false,
     "start_time": "2022-01-03T20:08:56.036568",
     "status": "completed"
    },
    "tags": []
   },
   "outputs": [
    {
     "data": {
      "text/plain": [
       "((11982, 784), (1984, 784))"
      ]
     },
     "execution_count": 14,
     "metadata": {},
     "output_type": "execute_result"
    }
   ],
   "source": [
    "X_train = X_train.reshape(X_train.shape[0], -1)\n",
    "X_test = X_test.reshape(X_test.shape[0], -1)\n",
    "X_train.shape, X_test.shape"
   ]
  },
  {
   "cell_type": "code",
   "execution_count": 15,
   "id": "73c5f88a",
   "metadata": {
    "execution": {
     "iopub.execute_input": "2022-01-03T20:08:56.140345Z",
     "iopub.status.busy": "2022-01-03T20:08:56.139791Z",
     "iopub.status.idle": "2022-01-03T20:08:56.156681Z",
     "shell.execute_reply": "2022-01-03T20:08:56.156239Z"
    },
    "papermill": {
     "duration": 0.05033,
     "end_time": "2022-01-03T20:08:56.156806",
     "exception": false,
     "start_time": "2022-01-03T20:08:56.106476",
     "status": "completed"
    },
    "tags": []
   },
   "outputs": [],
   "source": [
    "#Impoting functions from 'Kudzu'\n",
    "from kudzu.model import Model\n",
    "from kudzu.train import Learner\n",
    "from kudzu.optim import GD\n",
    "from kudzu.data import Data, Sampler,Dataloader\n",
    "\n",
    "from kudzu.callbacks import AccCallback\n",
    "from kudzu.callbacks import ClfCallback\n",
    "\n",
    "from kudzu.loss import MSE\n",
    "\n",
    "from kudzu.layer import Sigmoid,Relu\n",
    "from kudzu.layer import Affine"
   ]
  },
  {
   "cell_type": "markdown",
   "id": "bc01172a",
   "metadata": {
    "papermill": {
     "duration": 0.026665,
     "end_time": "2022-01-03T20:08:56.210402",
     "exception": false,
     "start_time": "2022-01-03T20:08:56.183737",
     "status": "completed"
    },
    "tags": []
   },
   "source": [
    "### Let us create a `Config` class, to store important parameters. \n",
    "This class essentially plays the role of a dictionary."
   ]
  },
  {
   "cell_type": "code",
   "execution_count": 16,
   "id": "978281aa",
   "metadata": {
    "execution": {
     "iopub.execute_input": "2022-01-03T20:08:56.271719Z",
     "iopub.status.busy": "2022-01-03T20:08:56.271186Z",
     "iopub.status.idle": "2022-01-03T20:08:56.280257Z",
     "shell.execute_reply": "2022-01-03T20:08:56.279818Z"
    },
    "papermill": {
     "duration": 0.043441,
     "end_time": "2022-01-03T20:08:56.280370",
     "exception": false,
     "start_time": "2022-01-03T20:08:56.236929",
     "status": "completed"
    },
    "tags": []
   },
   "outputs": [],
   "source": [
    "class Config:\n",
    "    pass\n",
    "config = Config()\n",
    "config.lr = 0.001\n",
    "config.num_epochs = 250\n",
    "config.bs = 50"
   ]
  },
  {
   "cell_type": "markdown",
   "id": "1385fa59",
   "metadata": {
    "papermill": {
     "duration": 0.02649,
     "end_time": "2022-01-03T20:08:56.333685",
     "exception": false,
     "start_time": "2022-01-03T20:08:56.307195",
     "status": "completed"
    },
    "tags": []
   },
   "source": [
    "### Running Models with the Training data\n",
    "Details about the network layers:\n",
    "- A first affine layer has 784 inputs and does 100 affine transforms. These are followed by a Relu\n",
    "- A second affine layer has 100 inputs from the 100 activations of the past layer, and does 100 affine transforms. These are followed by a Relu\n",
    "- A third affine layer has 100 activations and does 2 affine transformations to create an embedding for visualization. There is no non-linearity here.\n",
    "- A final \"logistic regression\" which has an affine transform from 2 inputs to 1 output, which is squeezed through a sigmoid.\n"
   ]
  },
  {
   "cell_type": "code",
   "execution_count": 17,
   "id": "2b9c66db",
   "metadata": {
    "execution": {
     "iopub.execute_input": "2022-01-03T20:08:56.395604Z",
     "iopub.status.busy": "2022-01-03T20:08:56.395065Z",
     "iopub.status.idle": "2022-01-03T20:08:56.402938Z",
     "shell.execute_reply": "2022-01-03T20:08:56.402429Z"
    },
    "papermill": {
     "duration": 0.042778,
     "end_time": "2022-01-03T20:08:56.403063",
     "exception": false,
     "start_time": "2022-01-03T20:08:56.360285",
     "status": "completed"
    },
    "tags": []
   },
   "outputs": [],
   "source": [
    "data = Data(X_train, y_train.reshape(-1,1))\n",
    "sampler = Sampler(data, config.bs, shuffle=True)\n",
    "\n",
    "dl = Dataloader(data, sampler)\n",
    "\n",
    "opt = GD(config.lr)\n",
    "loss = MSE()"
   ]
  },
  {
   "cell_type": "code",
   "execution_count": 18,
   "id": "b275e4c2",
   "metadata": {
    "execution": {
     "iopub.execute_input": "2022-01-03T20:08:56.473622Z",
     "iopub.status.busy": "2022-01-03T20:08:56.470786Z",
     "iopub.status.idle": "2022-01-03T20:08:56.475986Z",
     "shell.execute_reply": "2022-01-03T20:08:56.475471Z"
    },
    "papermill": {
     "duration": 0.0461,
     "end_time": "2022-01-03T20:08:56.476096",
     "exception": false,
     "start_time": "2022-01-03T20:08:56.429996",
     "status": "completed"
    },
    "tags": []
   },
   "outputs": [],
   "source": [
    "training_data_x = X_train\n",
    "testing_data_x = X_test\n",
    "training_data_y = y_train.reshape(-1,1)\n",
    "testing_data_y = y_test.reshape(-1,1)"
   ]
  },
  {
   "cell_type": "code",
   "execution_count": 19,
   "id": "76951160",
   "metadata": {
    "execution": {
     "iopub.execute_input": "2022-01-03T20:08:56.540314Z",
     "iopub.status.busy": "2022-01-03T20:08:56.539778Z",
     "iopub.status.idle": "2022-01-03T20:08:56.553102Z",
     "shell.execute_reply": "2022-01-03T20:08:56.552687Z"
    },
    "papermill": {
     "duration": 0.05065,
     "end_time": "2022-01-03T20:08:56.553213",
     "exception": false,
     "start_time": "2022-01-03T20:08:56.502563",
     "status": "completed"
    },
    "tags": []
   },
   "outputs": [
    {
     "name": "stdout",
     "output_type": "stream",
     "text": [
      "xavier\n",
      "xavier\n",
      "xavier\n",
      "xavier\n",
      "xavier\n"
     ]
    }
   ],
   "source": [
    "layers = [Affine(\"first\", 784, 100), Relu(\"first\"), Affine(\"second\", 100, 100), Relu(\"second\"), Affine(\"third\", 100, 2), Affine(\"last\", 2, 1), Sigmoid(\"last\")]\n",
    "model_nn = Model(layers)\n",
    "model_lr = Model([Affine(\"logits\", 784, 1), Sigmoid(\"sigmoid\")])"
   ]
  },
  {
   "cell_type": "code",
   "execution_count": 20,
   "id": "6eede77a",
   "metadata": {
    "execution": {
     "iopub.execute_input": "2022-01-03T20:08:56.610966Z",
     "iopub.status.busy": "2022-01-03T20:08:56.610440Z",
     "iopub.status.idle": "2022-01-03T20:08:56.622306Z",
     "shell.execute_reply": "2022-01-03T20:08:56.622789Z"
    },
    "papermill": {
     "duration": 0.042568,
     "end_time": "2022-01-03T20:08:56.622917",
     "exception": false,
     "start_time": "2022-01-03T20:08:56.580349",
     "status": "completed"
    },
    "tags": []
   },
   "outputs": [],
   "source": [
    "nn_learner = Learner(loss, model_nn, opt, config.num_epochs)\n",
    "acc_nn = ClfCallback(nn_learner, config.bs, training_data_x , testing_data_x, training_data_y, testing_data_y)\n",
    "nn_learner.set_callbacks([acc_nn])"
   ]
  },
  {
   "cell_type": "code",
   "execution_count": 21,
   "id": "877b6cc7",
   "metadata": {
    "execution": {
     "iopub.execute_input": "2022-01-03T20:08:56.683843Z",
     "iopub.status.busy": "2022-01-03T20:08:56.683238Z",
     "iopub.status.idle": "2022-01-03T20:08:56.693198Z",
     "shell.execute_reply": "2022-01-03T20:08:56.692752Z"
    },
    "papermill": {
     "duration": 0.043582,
     "end_time": "2022-01-03T20:08:56.693312",
     "exception": false,
     "start_time": "2022-01-03T20:08:56.649730",
     "status": "completed"
    },
    "tags": []
   },
   "outputs": [],
   "source": [
    "lr_learner = Learner(loss, model_lr, opt, config.num_epochs)\n",
    "acc_lr = ClfCallback(lr_learner, config.bs, training_data_x , testing_data_x, training_data_y, testing_data_y)\n",
    "lr_learner.set_callbacks([acc_lr])"
   ]
  },
  {
   "cell_type": "code",
   "execution_count": 22,
   "id": "d9b133c3",
   "metadata": {
    "execution": {
     "iopub.execute_input": "2022-01-03T20:08:56.752299Z",
     "iopub.status.busy": "2022-01-03T20:08:56.751793Z",
     "iopub.status.idle": "2022-01-03T20:10:12.368118Z",
     "shell.execute_reply": "2022-01-03T20:10:12.368561Z"
    },
    "papermill": {
     "duration": 75.648397,
     "end_time": "2022-01-03T20:10:12.368701",
     "exception": false,
     "start_time": "2022-01-03T20:08:56.720304",
     "status": "completed"
    },
    "tags": []
   },
   "outputs": [
    {
     "name": "stdout",
     "output_type": "stream",
     "text": [
      "Epoch 0, Loss 0.2433\n",
      "Training Accuracy: 0.4900, Testing Accuracy: 0.4924\n",
      "\n"
     ]
    },
    {
     "name": "stdout",
     "output_type": "stream",
     "text": [
      "Epoch 10, Loss 0.1715\n",
      "Training Accuracy: 0.8789, Testing Accuracy: 0.8992\n",
      "\n"
     ]
    },
    {
     "name": "stdout",
     "output_type": "stream",
     "text": [
      "Epoch 20, Loss 0.0841\n",
      "Training Accuracy: 0.9204, Testing Accuracy: 0.9284\n",
      "\n"
     ]
    },
    {
     "name": "stdout",
     "output_type": "stream",
     "text": [
      "Epoch 30, Loss 0.0568\n",
      "Training Accuracy: 0.9381, Testing Accuracy: 0.9501\n",
      "\n"
     ]
    },
    {
     "name": "stdout",
     "output_type": "stream",
     "text": [
      "Epoch 40, Loss 0.0457\n",
      "Training Accuracy: 0.9488, Testing Accuracy: 0.9602\n",
      "\n"
     ]
    },
    {
     "name": "stdout",
     "output_type": "stream",
     "text": [
      "Epoch 50, Loss 0.0397\n",
      "Training Accuracy: 0.9541, Testing Accuracy: 0.9642\n",
      "\n"
     ]
    },
    {
     "name": "stdout",
     "output_type": "stream",
     "text": [
      "Epoch 60, Loss 0.0361\n",
      "Training Accuracy: 0.9580, Testing Accuracy: 0.9647\n",
      "\n"
     ]
    },
    {
     "name": "stdout",
     "output_type": "stream",
     "text": [
      "Epoch 70, Loss 0.0335\n",
      "Training Accuracy: 0.9615, Testing Accuracy: 0.9667\n",
      "\n"
     ]
    },
    {
     "name": "stdout",
     "output_type": "stream",
     "text": [
      "Epoch 80, Loss 0.0316\n",
      "Training Accuracy: 0.9636, Testing Accuracy: 0.9677\n",
      "\n"
     ]
    },
    {
     "name": "stdout",
     "output_type": "stream",
     "text": [
      "Epoch 90, Loss 0.0301\n",
      "Training Accuracy: 0.9652, Testing Accuracy: 0.9672\n",
      "\n"
     ]
    },
    {
     "name": "stdout",
     "output_type": "stream",
     "text": [
      "Epoch 100, Loss 0.0289\n",
      "Training Accuracy: 0.9668, Testing Accuracy: 0.9677\n",
      "\n"
     ]
    },
    {
     "name": "stdout",
     "output_type": "stream",
     "text": [
      "Epoch 110, Loss 0.0279\n",
      "Training Accuracy: 0.9675, Testing Accuracy: 0.9693\n",
      "\n"
     ]
    },
    {
     "name": "stdout",
     "output_type": "stream",
     "text": [
      "Epoch 120, Loss 0.027\n",
      "Training Accuracy: 0.9683, Testing Accuracy: 0.9703\n",
      "\n"
     ]
    },
    {
     "name": "stdout",
     "output_type": "stream",
     "text": [
      "Epoch 130, Loss 0.0263\n",
      "Training Accuracy: 0.9685, Testing Accuracy: 0.9718\n",
      "\n"
     ]
    },
    {
     "name": "stdout",
     "output_type": "stream",
     "text": [
      "Epoch 140, Loss 0.0256\n",
      "Training Accuracy: 0.9699, Testing Accuracy: 0.9713\n",
      "\n"
     ]
    },
    {
     "name": "stdout",
     "output_type": "stream",
     "text": [
      "Epoch 150, Loss 0.025\n",
      "Training Accuracy: 0.9706, Testing Accuracy: 0.9723\n",
      "\n"
     ]
    },
    {
     "name": "stdout",
     "output_type": "stream",
     "text": [
      "Epoch 160, Loss 0.0244\n",
      "Training Accuracy: 0.9711, Testing Accuracy: 0.9723\n",
      "\n"
     ]
    },
    {
     "name": "stdout",
     "output_type": "stream",
     "text": [
      "Epoch 170, Loss 0.0239\n",
      "Training Accuracy: 0.9718, Testing Accuracy: 0.9723\n",
      "\n"
     ]
    },
    {
     "name": "stdout",
     "output_type": "stream",
     "text": [
      "Epoch 180, Loss 0.0234\n",
      "Training Accuracy: 0.9721, Testing Accuracy: 0.9733\n",
      "\n"
     ]
    },
    {
     "name": "stdout",
     "output_type": "stream",
     "text": [
      "Epoch 190, Loss 0.0229\n",
      "Training Accuracy: 0.9725, Testing Accuracy: 0.9733\n",
      "\n"
     ]
    },
    {
     "name": "stdout",
     "output_type": "stream",
     "text": [
      "Epoch 200, Loss 0.0225\n",
      "Training Accuracy: 0.9735, Testing Accuracy: 0.9728\n",
      "\n"
     ]
    },
    {
     "name": "stdout",
     "output_type": "stream",
     "text": [
      "Epoch 210, Loss 0.0221\n",
      "Training Accuracy: 0.9741, Testing Accuracy: 0.9728\n",
      "\n"
     ]
    },
    {
     "name": "stdout",
     "output_type": "stream",
     "text": [
      "Epoch 220, Loss 0.0217\n",
      "Training Accuracy: 0.9745, Testing Accuracy: 0.9728\n",
      "\n"
     ]
    },
    {
     "name": "stdout",
     "output_type": "stream",
     "text": [
      "Epoch 230, Loss 0.0214\n",
      "Training Accuracy: 0.9752, Testing Accuracy: 0.9728\n",
      "\n"
     ]
    },
    {
     "name": "stdout",
     "output_type": "stream",
     "text": [
      "Epoch 240, Loss 0.021\n",
      "Training Accuracy: 0.9755, Testing Accuracy: 0.9728\n",
      "\n"
     ]
    },
    {
     "data": {
      "text/plain": [
       "0.025124465304296358"
      ]
     },
     "execution_count": 22,
     "metadata": {},
     "output_type": "execute_result"
    }
   ],
   "source": [
    "nn_learner.train_loop(dl)"
   ]
  },
  {
   "cell_type": "code",
   "execution_count": 23,
   "id": "e0163366",
   "metadata": {
    "execution": {
     "iopub.execute_input": "2022-01-03T20:10:12.441755Z",
     "iopub.status.busy": "2022-01-03T20:10:12.441233Z",
     "iopub.status.idle": "2022-01-03T20:10:25.692974Z",
     "shell.execute_reply": "2022-01-03T20:10:25.693693Z"
    },
    "papermill": {
     "duration": 13.290502,
     "end_time": "2022-01-03T20:10:25.693838",
     "exception": false,
     "start_time": "2022-01-03T20:10:12.403336",
     "status": "completed"
    },
    "tags": []
   },
   "outputs": [
    {
     "name": "stdout",
     "output_type": "stream",
     "text": [
      "Epoch 0, Loss 0.2324\n",
      "Training Accuracy: 0.7199, Testing Accuracy: 0.7263\n",
      "\n"
     ]
    },
    {
     "name": "stdout",
     "output_type": "stream",
     "text": [
      "Epoch 10, Loss 0.1034\n",
      "Training Accuracy: 0.9056, Testing Accuracy: 0.9214\n",
      "\n"
     ]
    },
    {
     "name": "stdout",
     "output_type": "stream",
     "text": [
      "Epoch 20, Loss 0.0801\n",
      "Training Accuracy: 0.9240, Testing Accuracy: 0.9375\n",
      "\n"
     ]
    },
    {
     "name": "stdout",
     "output_type": "stream",
     "text": [
      "Epoch 30, Loss 0.069\n",
      "Training Accuracy: 0.9346, Testing Accuracy: 0.9481\n",
      "\n"
     ]
    },
    {
     "name": "stdout",
     "output_type": "stream",
     "text": [
      "Epoch 40, Loss 0.0623\n",
      "Training Accuracy: 0.9400, Testing Accuracy: 0.9531\n",
      "\n"
     ]
    },
    {
     "name": "stdout",
     "output_type": "stream",
     "text": [
      "Epoch 50, Loss 0.0577\n",
      "Training Accuracy: 0.9435, Testing Accuracy: 0.9556\n",
      "\n"
     ]
    },
    {
     "name": "stdout",
     "output_type": "stream",
     "text": [
      "Epoch 60, Loss 0.0543\n",
      "Training Accuracy: 0.9468, Testing Accuracy: 0.9577\n",
      "\n"
     ]
    },
    {
     "name": "stdout",
     "output_type": "stream",
     "text": [
      "Epoch 70, Loss 0.0517\n",
      "Training Accuracy: 0.9490, Testing Accuracy: 0.9587\n",
      "\n"
     ]
    },
    {
     "name": "stdout",
     "output_type": "stream",
     "text": [
      "Epoch 80, Loss 0.0496\n",
      "Training Accuracy: 0.9499, Testing Accuracy: 0.9612\n",
      "\n"
     ]
    },
    {
     "name": "stdout",
     "output_type": "stream",
     "text": [
      "Epoch 90, Loss 0.0479\n",
      "Training Accuracy: 0.9513, Testing Accuracy: 0.9612\n",
      "\n"
     ]
    },
    {
     "name": "stdout",
     "output_type": "stream",
     "text": [
      "Epoch 100, Loss 0.0464\n",
      "Training Accuracy: 0.9522, Testing Accuracy: 0.9632\n",
      "\n"
     ]
    },
    {
     "name": "stdout",
     "output_type": "stream",
     "text": [
      "Epoch 110, Loss 0.0452\n",
      "Training Accuracy: 0.9533, Testing Accuracy: 0.9627\n",
      "\n"
     ]
    },
    {
     "name": "stdout",
     "output_type": "stream",
     "text": [
      "Epoch 120, Loss 0.0441\n",
      "Training Accuracy: 0.9543, Testing Accuracy: 0.9632\n",
      "\n"
     ]
    },
    {
     "name": "stdout",
     "output_type": "stream",
     "text": [
      "Epoch 130, Loss 0.0431\n",
      "Training Accuracy: 0.9550, Testing Accuracy: 0.9637\n",
      "\n"
     ]
    },
    {
     "name": "stdout",
     "output_type": "stream",
     "text": [
      "Epoch 140, Loss 0.0423\n",
      "Training Accuracy: 0.9556, Testing Accuracy: 0.9642\n",
      "\n"
     ]
    },
    {
     "name": "stdout",
     "output_type": "stream",
     "text": [
      "Epoch 150, Loss 0.0415\n",
      "Training Accuracy: 0.9566, Testing Accuracy: 0.9647\n",
      "\n"
     ]
    },
    {
     "name": "stdout",
     "output_type": "stream",
     "text": [
      "Epoch 160, Loss 0.0408\n",
      "Training Accuracy: 0.9575, Testing Accuracy: 0.9652\n",
      "\n"
     ]
    },
    {
     "name": "stdout",
     "output_type": "stream",
     "text": [
      "Epoch 170, Loss 0.0402\n",
      "Training Accuracy: 0.9580, Testing Accuracy: 0.9652\n",
      "\n"
     ]
    },
    {
     "name": "stdout",
     "output_type": "stream",
     "text": [
      "Epoch 180, Loss 0.0396\n",
      "Training Accuracy: 0.9591, Testing Accuracy: 0.9657\n",
      "\n"
     ]
    },
    {
     "name": "stdout",
     "output_type": "stream",
     "text": [
      "Epoch 190, Loss 0.0391\n",
      "Training Accuracy: 0.9593, Testing Accuracy: 0.9657\n",
      "\n"
     ]
    },
    {
     "name": "stdout",
     "output_type": "stream",
     "text": [
      "Epoch 200, Loss 0.0386\n",
      "Training Accuracy: 0.9603, Testing Accuracy: 0.9662\n",
      "\n"
     ]
    },
    {
     "name": "stdout",
     "output_type": "stream",
     "text": [
      "Epoch 210, Loss 0.0381\n",
      "Training Accuracy: 0.9607, Testing Accuracy: 0.9677\n",
      "\n"
     ]
    },
    {
     "name": "stdout",
     "output_type": "stream",
     "text": [
      "Epoch 220, Loss 0.0377\n",
      "Training Accuracy: 0.9611, Testing Accuracy: 0.9677\n",
      "\n"
     ]
    },
    {
     "name": "stdout",
     "output_type": "stream",
     "text": [
      "Epoch 230, Loss 0.0373\n",
      "Training Accuracy: 0.9614, Testing Accuracy: 0.9677\n",
      "\n"
     ]
    },
    {
     "name": "stdout",
     "output_type": "stream",
     "text": [
      "Epoch 240, Loss 0.037\n",
      "Training Accuracy: 0.9615, Testing Accuracy: 0.9672\n",
      "\n"
     ]
    },
    {
     "data": {
      "text/plain": [
       "0.07476787142121652"
      ]
     },
     "execution_count": 23,
     "metadata": {},
     "output_type": "execute_result"
    }
   ],
   "source": [
    "lr_learner.train_loop(dl)"
   ]
  },
  {
   "cell_type": "code",
   "execution_count": 24,
   "id": "ca410940",
   "metadata": {
    "execution": {
     "iopub.execute_input": "2022-01-03T20:10:25.785744Z",
     "iopub.status.busy": "2022-01-03T20:10:25.785197Z",
     "iopub.status.idle": "2022-01-03T20:10:26.009479Z",
     "shell.execute_reply": "2022-01-03T20:10:26.008989Z"
    },
    "papermill": {
     "duration": 0.274754,
     "end_time": "2022-01-03T20:10:26.009612",
     "exception": false,
     "start_time": "2022-01-03T20:10:25.734858",
     "status": "completed"
    },
    "tags": []
   },
   "outputs": [
    {
     "data": {
      "text/plain": [
       "<matplotlib.legend.Legend at 0x7f62a997cb38>"
      ]
     },
     "execution_count": 24,
     "metadata": {},
     "output_type": "execute_result"
    },
    {
     "data": {
      "image/png": "[encoded data removed]",
      "text/plain": [
       "<Figure size 1080x720 with 1 Axes>"
      ]
     },
     "metadata": {
      "needs_background": "light"
     },
     "output_type": "display_data"
    }
   ],
   "source": [
    "#comparing the results of NN and LR\n",
    "plt.figure(figsize=(15,10))\n",
    "\n",
    "# Neural Network plots\n",
    "plt.plot(acc_nn.accuracies, 'r-', label = \"Training Accuracies - NN\")\n",
    "plt.plot(acc_nn.test_accuracies, 'g-', label = \"Testing Accuracies - NN\")\n",
    "\n",
    "# Logistic Regression plots\n",
    "plt.plot(acc_lr.accuracies, 'k-', label = \"Training Accuracies - LR\")\n",
    "plt.plot(acc_lr.test_accuracies, 'b-', label = \"Testing Accuracies - LR\")\n",
    "plt.legend()"
   ]
  },
  {
   "cell_type": "markdown",
   "id": "80dfb35c",
   "metadata": {
    "papermill": {
     "duration": 0.042232,
     "end_time": "2022-01-03T20:10:26.094064",
     "exception": false,
     "start_time": "2022-01-03T20:10:26.051832",
     "status": "completed"
    },
    "tags": []
   },
   "source": [
    "#### Plotting the outputs of this layer of the NN.\n"
   ]
  },
  {
   "cell_type": "code",
   "execution_count": 25,
   "id": "45eb2ff5",
   "metadata": {
    "execution": {
     "iopub.execute_input": "2022-01-03T20:10:26.184126Z",
     "iopub.status.busy": "2022-01-03T20:10:26.183572Z",
     "iopub.status.idle": "2022-01-03T20:10:26.202443Z",
     "shell.execute_reply": "2022-01-03T20:10:26.201956Z"
    },
    "papermill": {
     "duration": 0.06682,
     "end_time": "2022-01-03T20:10:26.202565",
     "exception": false,
     "start_time": "2022-01-03T20:10:26.135745",
     "status": "completed"
    },
    "tags": []
   },
   "outputs": [],
   "source": [
    "new_model = Model(layers[:-2])\n",
    "testing_plot = new_model(testing_data_x)"
   ]
  },
  {
   "cell_type": "code",
   "execution_count": 26,
   "id": "4c0a5485",
   "metadata": {
    "execution": {
     "iopub.execute_input": "2022-01-03T20:10:26.303507Z",
     "iopub.status.busy": "2022-01-03T20:10:26.302973Z",
     "iopub.status.idle": "2022-01-03T20:10:26.513219Z",
     "shell.execute_reply": "2022-01-03T20:10:26.512789Z"
    },
    "papermill": {
     "duration": 0.2683,
     "end_time": "2022-01-03T20:10:26.513340",
     "exception": false,
     "start_time": "2022-01-03T20:10:26.245040",
     "status": "completed"
    },
    "tags": []
   },
   "outputs": [
    {
     "data": {
      "text/plain": [
       "Text(0.5, 1.0, 'Outputs')"
      ]
     },
     "execution_count": 26,
     "metadata": {},
     "output_type": "execute_result"
    },
    {
     "data": {
      "image/png": "[encoded data removed]",
      "text/plain": [
       "<Figure size 576x504 with 1 Axes>"
      ]
     },
     "metadata": {
      "needs_background": "light"
     },
     "output_type": "display_data"
    }
   ],
   "source": [
    "# Plotting the scatter plot of points and color coding by class\n",
    "plt.figure(figsize=(8,7))\n",
    "plt.scatter(testing_plot[:,0], testing_plot[:,1], alpha = 0.1, c = y_test.ravel());\n",
    "plt.title('Outputs')"
   ]
  },
  {
   "cell_type": "markdown",
   "id": "a74fcf8f",
   "metadata": {
    "papermill": {
     "duration": 0.04434,
     "end_time": "2022-01-03T20:10:26.602209",
     "exception": false,
     "start_time": "2022-01-03T20:10:26.557869",
     "status": "completed"
    },
    "tags": []
   },
   "source": [
    "Probability contours"
   ]
  },
  {
   "cell_type": "code",
   "execution_count": 27,
   "id": "d0afc8e3",
   "metadata": {
    "execution": {
     "iopub.execute_input": "2022-01-03T20:10:26.701001Z",
     "iopub.status.busy": "2022-01-03T20:10:26.699727Z",
     "iopub.status.idle": "2022-01-03T20:10:26.708369Z",
     "shell.execute_reply": "2022-01-03T20:10:26.708753Z"
    },
    "papermill": {
     "duration": 0.062391,
     "end_time": "2022-01-03T20:10:26.708884",
     "exception": false,
     "start_time": "2022-01-03T20:10:26.646493",
     "status": "completed"
    },
    "tags": []
   },
   "outputs": [],
   "source": [
    "model_prob = Model(layers[-2:]) "
   ]
  },
  {
   "cell_type": "code",
   "execution_count": 28,
   "id": "9b96e238",
   "metadata": {
    "execution": {
     "iopub.execute_input": "2022-01-03T20:10:26.830524Z",
     "iopub.status.busy": "2022-01-03T20:10:26.829967Z",
     "iopub.status.idle": "2022-01-03T20:10:26.844431Z",
     "shell.execute_reply": "2022-01-03T20:10:26.844823Z"
    },
    "papermill": {
     "duration": 0.091797,
     "end_time": "2022-01-03T20:10:26.844964",
     "exception": false,
     "start_time": "2022-01-03T20:10:26.753167",
     "status": "completed"
    },
    "tags": []
   },
   "outputs": [],
   "source": [
    "#creating the x and y ranges according to the above generated plot.\n",
    "x_range = np.linspace(-4, 1, 100) \n",
    "y_range = np.linspace(-6, 6, 100) \n",
    "x_grid, y_grid = np.meshgrid(x_range, y_range) # x_grid and y_grig are of size 100 X 100\n",
    "\n",
    "# converting x_grid and y_grid to continuous arrays\n",
    "x_gridflat = np.ravel(x_grid)\n",
    "y_gridflat = np.ravel(y_grid)\n",
    "\n",
    "# The last layer of the current model takes two columns as input. Hence transpose of np.vstack() is required.\n",
    "X = np.vstack((x_gridflat, y_gridflat)).T\n",
    "\n",
    "prob_contour = model_prob(X).reshape(100,100) "
   ]
  },
  {
   "cell_type": "code",
   "execution_count": 29,
   "id": "da72499a",
   "metadata": {
    "execution": {
     "iopub.execute_input": "2022-01-03T20:10:26.937975Z",
     "iopub.status.busy": "2022-01-03T20:10:26.937450Z",
     "iopub.status.idle": "2022-01-03T20:10:27.189154Z",
     "shell.execute_reply": "2022-01-03T20:10:27.188694Z"
    },
    "papermill": {
     "duration": 0.299793,
     "end_time": "2022-01-03T20:10:27.189273",
     "exception": false,
     "start_time": "2022-01-03T20:10:26.889480",
     "status": "completed"
    },
    "tags": []
   },
   "outputs": [
    {
     "data": {
      "image/png": "[encoded data removed]",
      "text/plain": [
       "<Figure size 720x648 with 1 Axes>"
      ]
     },
     "metadata": {
      "needs_background": "light"
     },
     "output_type": "display_data"
    }
   ],
   "source": [
    "plt.figure(figsize=(10,9))\n",
    "plt.scatter(testing_plot[:,0], testing_plot[:,1], alpha = 0.1, c = y_test.ravel())\n",
    "contours = plt.contour(x_grid,y_grid,prob_contour)\n",
    "plt.title('Probability Contours')\n",
    "plt.clabel(contours, inline = True );"
   ]
  },
  {
   "cell_type": "code",
   "execution_count": null,
   "id": "e81b4ac7",
   "metadata": {
    "papermill": {
     "duration": 0.046501,
     "end_time": "2022-01-03T20:10:27.282813",
     "exception": false,
     "start_time": "2022-01-03T20:10:27.236312",
     "status": "completed"
    },
    "tags": []
   },
   "outputs": [],
   "source": []
  }
 ],
 "metadata": {
  "kernelspec": {
   "display_name": "Python 3",
   "language": "python",
   "name": "python3"
  },
  "language_info": {
   "codemirror_mode": {
    "name": "ipython",
    "version": 3
   },
   "file_extension": ".py",
   "mimetype": "text/x-python",
   "name": "python",
   "nbconvert_exporter": "python",
   "pygments_lexer": "ipython3",
   "version": "3.6.15"
  },
  "papermill": {
   "default_parameters": {},
   "duration": 97.276656,
   "end_time": "2022-01-03T20:10:27.737784",
   "environment_variables": {},
   "exception": null,
   "input_path": "2020-08-11-part2.ipynb",
   "output_path": "2020-08-11-part2.ipynb",
   "parameters": {},
   "start_time": "2022-01-03T20:08:50.461128",
   "version": "2.3.3"
  }
 },
 "nbformat": 4,
 "nbformat_minor": 5
}