{
 "cells": [
  {
   "cell_type": "markdown",
   "id": "98380cd3",
   "metadata": {
    "papermill": {
     "duration": 0.033052,
     "end_time": "2021-09-13T10:08:25.133124",
     "exception": false,
     "start_time": "2021-09-13T10:08:25.100072",
     "status": "completed"
    },
    "tags": []
   },
   "source": [
    "# Distinguish Your Own Digits (DYOD)"
   ]
  },
  {
   "cell_type": "markdown",
   "id": "ef31240d",
   "metadata": {
    "papermill": {
     "duration": 0.026893,
     "end_time": "2021-09-13T10:08:25.187688",
     "exception": false,
     "start_time": "2021-09-13T10:08:25.160795",
     "status": "completed"
    },
    "tags": []
   },
   "source": [
    "You are going to write a classifier that distinguishes between the number 3 and number 8."
   ]
  },
  {
   "cell_type": "code",
   "execution_count": 1,
   "id": "b15c8646",
   "metadata": {
    "execution": {
     "iopub.execute_input": "2021-09-13T10:08:25.253265Z",
     "iopub.status.busy": "2021-09-13T10:08:25.252607Z",
     "iopub.status.idle": "2021-09-13T10:08:25.265671Z",
     "shell.execute_reply": "2021-09-13T10:08:25.265125Z"
    },
    "papermill": {
     "duration": 0.051418,
     "end_time": "2021-09-13T10:08:25.265820",
     "exception": false,
     "start_time": "2021-09-13T10:08:25.214402",
     "status": "completed"
    },
    "tags": []
   },
   "outputs": [],
   "source": [
    "%load_ext autoreload\n",
    "%autoreload 2"
   ]
  },
  {
   "cell_type": "code",
   "execution_count": 2,
   "id": "22ef38dc",
   "metadata": {
    "execution": {
     "iopub.execute_input": "2021-09-13T10:08:25.325637Z",
     "iopub.status.busy": "2021-09-13T10:08:25.324983Z",
     "iopub.status.idle": "2021-09-13T10:08:25.924802Z",
     "shell.execute_reply": "2021-09-13T10:08:25.924077Z"
    },
    "papermill": {
     "duration": 0.631235,
     "end_time": "2021-09-13T10:08:25.925010",
     "exception": false,
     "start_time": "2021-09-13T10:08:25.293775",
     "status": "completed"
    },
    "tags": []
   },
   "outputs": [],
   "source": [
    "%matplotlib inline\n",
    "import numpy as np\n",
    "import matplotlib.pyplot as plt\n",
    "import pandas as pd"
   ]
  },
  {
   "cell_type": "markdown",
   "id": "ba036198",
   "metadata": {
    "papermill": {
     "duration": 0.037014,
     "end_time": "2021-09-13T10:08:25.994843",
     "exception": false,
     "start_time": "2021-09-13T10:08:25.957829",
     "status": "completed"
    },
    "tags": []
   },
   "source": [
    "From the command line run `pip install mnist`. This is a library that will help you bring down the mnist dataset. If you run this from a notebook, you need to put  `!pip install mnist` in a cell by itself."
   ]
  },
  {
   "cell_type": "code",
   "execution_count": 3,
   "id": "bb6ad8a1",
   "metadata": {
    "execution": {
     "iopub.execute_input": "2021-09-13T10:08:26.054042Z",
     "iopub.status.busy": "2021-09-13T10:08:26.053429Z",
     "iopub.status.idle": "2021-09-13T10:08:28.895933Z",
     "shell.execute_reply": "2021-09-13T10:08:28.896424Z"
    },
    "papermill": {
     "duration": 2.87494,
     "end_time": "2021-09-13T10:08:28.896621",
     "exception": false,
     "start_time": "2021-09-13T10:08:26.021681",
     "status": "completed"
    },
    "tags": []
   },
   "outputs": [
    {
     "name": "stdout",
     "output_type": "stream",
     "text": [
      "Collecting mnist\r\n"
     ]
    },
    {
     "name": "stdout",
     "output_type": "stream",
     "text": [
      "  Downloading mnist-0.2.2-py2.py3-none-any.whl (3.5 kB)\r\n",
      "Requirement already satisfied: numpy in /opt/hostedtoolcache/Python/3.6.14/x64/lib/python3.6/site-packages (from mnist) (1.19.5)\r\n"
     ]
    },
    {
     "name": "stdout",
     "output_type": "stream",
     "text": [
      "Installing collected packages: mnist\r\n"
     ]
    },
    {
     "name": "stdout",
     "output_type": "stream",
     "text": [
      "Successfully installed mnist-0.2.2\r\n"
     ]
    }
   ],
   "source": [
    "!pip install mnist"
   ]
  },
  {
   "cell_type": "markdown",
   "id": "69df9c9a",
   "metadata": {
    "papermill": {
     "duration": 0.029623,
     "end_time": "2021-09-13T10:08:28.956482",
     "exception": false,
     "start_time": "2021-09-13T10:08:28.926859",
     "status": "completed"
    },
    "tags": []
   },
   "source": [
    "## Preparing the Data"
   ]
  },
  {
   "cell_type": "code",
   "execution_count": 4,
   "id": "7f69d806",
   "metadata": {
    "execution": {
     "iopub.execute_input": "2021-09-13T10:08:29.022056Z",
     "iopub.status.busy": "2021-09-13T10:08:29.021448Z",
     "iopub.status.idle": "2021-09-13T10:08:29.038208Z",
     "shell.execute_reply": "2021-09-13T10:08:29.038812Z"
    },
    "papermill": {
     "duration": 0.051979,
     "end_time": "2021-09-13T10:08:29.038967",
     "exception": false,
     "start_time": "2021-09-13T10:08:28.986988",
     "status": "completed"
    },
    "tags": []
   },
   "outputs": [],
   "source": [
    "import mnist"
   ]
  },
  {
   "cell_type": "code",
   "execution_count": 5,
   "id": "a411e44f",
   "metadata": {
    "execution": {
     "iopub.execute_input": "2021-09-13T10:08:29.101297Z",
     "iopub.status.busy": "2021-09-13T10:08:29.100632Z",
     "iopub.status.idle": "2021-09-13T10:08:29.815303Z",
     "shell.execute_reply": "2021-09-13T10:08:29.816147Z"
    },
    "papermill": {
     "duration": 0.747568,
     "end_time": "2021-09-13T10:08:29.816367",
     "exception": false,
     "start_time": "2021-09-13T10:08:29.068799",
     "status": "completed"
    },
    "tags": []
   },
   "outputs": [],
   "source": [
    "train_images = mnist.train_images()\n",
    "train_labels = mnist.train_labels()"
   ]
  },
  {
   "cell_type": "code",
   "execution_count": 6,
   "id": "dceab3a5",
   "metadata": {
    "execution": {
     "iopub.execute_input": "2021-09-13T10:08:29.878029Z",
     "iopub.status.busy": "2021-09-13T10:08:29.877417Z",
     "iopub.status.idle": "2021-09-13T10:08:29.899616Z",
     "shell.execute_reply": "2021-09-13T10:08:29.900093Z"
    },
    "papermill": {
     "duration": 0.055003,
     "end_time": "2021-09-13T10:08:29.900240",
     "exception": false,
     "start_time": "2021-09-13T10:08:29.845237",
     "status": "completed"
    },
    "tags": []
   },
   "outputs": [
    {
     "data": {
      "text/plain": [
       "((60000, 28, 28), (60000,))"
      ]
     },
     "execution_count": 6,
     "metadata": {},
     "output_type": "execute_result"
    }
   ],
   "source": [
    "train_images.shape, train_labels.shape"
   ]
  },
  {
   "cell_type": "code",
   "execution_count": 7,
   "id": "f50dc2bb",
   "metadata": {
    "execution": {
     "iopub.execute_input": "2021-09-13T10:08:29.968193Z",
     "iopub.status.busy": "2021-09-13T10:08:29.962554Z",
     "iopub.status.idle": "2021-09-13T10:08:30.224924Z",
     "shell.execute_reply": "2021-09-13T10:08:30.224121Z"
    },
    "papermill": {
     "duration": 0.296401,
     "end_time": "2021-09-13T10:08:30.225083",
     "exception": false,
     "start_time": "2021-09-13T10:08:29.928682",
     "status": "completed"
    },
    "tags": []
   },
   "outputs": [],
   "source": [
    "test_images = mnist.test_images()\n",
    "test_labels = mnist.test_labels()"
   ]
  },
  {
   "cell_type": "code",
   "execution_count": 8,
   "id": "fc38cf1b",
   "metadata": {
    "execution": {
     "iopub.execute_input": "2021-09-13T10:08:30.292744Z",
     "iopub.status.busy": "2021-09-13T10:08:30.292084Z",
     "iopub.status.idle": "2021-09-13T10:08:30.313271Z",
     "shell.execute_reply": "2021-09-13T10:08:30.312696Z"
    },
    "papermill": {
     "duration": 0.056309,
     "end_time": "2021-09-13T10:08:30.313406",
     "exception": false,
     "start_time": "2021-09-13T10:08:30.257097",
     "status": "completed"
    },
    "tags": []
   },
   "outputs": [
    {
     "data": {
      "text/plain": [
       "((10000, 28, 28), (10000,))"
      ]
     },
     "execution_count": 8,
     "metadata": {},
     "output_type": "execute_result"
    }
   ],
   "source": [
    "test_images.shape, test_labels.shape"
   ]
  },
  {
   "cell_type": "code",
   "execution_count": 9,
   "id": "f9ed8fe0",
   "metadata": {
    "execution": {
     "iopub.execute_input": "2021-09-13T10:08:30.378050Z",
     "iopub.status.busy": "2021-09-13T10:08:30.377439Z",
     "iopub.status.idle": "2021-09-13T10:08:30.549665Z",
     "shell.execute_reply": "2021-09-13T10:08:30.549149Z"
    },
    "papermill": {
     "duration": 0.205834,
     "end_time": "2021-09-13T10:08:30.549804",
     "exception": false,
     "start_time": "2021-09-13T10:08:30.343970",
     "status": "completed"
    },
    "tags": []
   },
   "outputs": [
    {
     "name": "stdout",
     "output_type": "stream",
     "text": [
      "2\n"
     ]
    },
    {
     "data": {
      "text/plain": [
       "<matplotlib.image.AxesImage at 0x7f7d1daf9e80>"
      ]
     },
     "execution_count": 9,
     "metadata": {},
     "output_type": "execute_result"
    },
    {
     "data": {
      "image/png": "[encoded data removed]",
      "text/plain": [
       "<Figure size 432x288 with 1 Axes>"
      ]
     },
     "metadata": {
      "needs_background": "light"
     },
     "output_type": "display_data"
    }
   ],
   "source": [
    "image_index = 7776 # You may select anything up to 60,000\n",
    "print(train_labels[image_index]) \n",
    "plt.imshow(train_images[image_index], cmap='Greys')"
   ]
  },
  {
   "cell_type": "markdown",
   "id": "a8d2388d",
   "metadata": {
    "papermill": {
     "duration": 0.032764,
     "end_time": "2021-09-13T10:08:30.614943",
     "exception": false,
     "start_time": "2021-09-13T10:08:30.582179",
     "status": "completed"
    },
    "tags": []
   },
   "source": [
    "## Filter data to get 3 and 8 out"
   ]
  },
  {
   "cell_type": "code",
   "execution_count": 10,
   "id": "776f7fc7",
   "metadata": {
    "execution": {
     "iopub.execute_input": "2021-09-13T10:08:30.686927Z",
     "iopub.status.busy": "2021-09-13T10:08:30.685449Z",
     "iopub.status.idle": "2021-09-13T10:08:30.704828Z",
     "shell.execute_reply": "2021-09-13T10:08:30.704265Z"
    },
    "papermill": {
     "duration": 0.059419,
     "end_time": "2021-09-13T10:08:30.704982",
     "exception": false,
     "start_time": "2021-09-13T10:08:30.645563",
     "status": "completed"
    },
    "tags": []
   },
   "outputs": [],
   "source": [
    "train_filter = np.where((train_labels == 3 ) | (train_labels == 8))\n",
    "test_filter = np.where((test_labels == 3) | (test_labels == 8))\n",
    "X_train, y_train = train_images[train_filter], train_labels[train_filter]\n",
    "X_test, y_test = test_images[test_filter], test_labels[test_filter]"
   ]
  },
  {
   "cell_type": "markdown",
   "id": "948f0b7e",
   "metadata": {
    "papermill": {
     "duration": 0.029919,
     "end_time": "2021-09-13T10:08:30.765027",
     "exception": false,
     "start_time": "2021-09-13T10:08:30.735108",
     "status": "completed"
    },
    "tags": []
   },
   "source": [
    "We normalize the pizel values in the 0 to 1 range"
   ]
  },
  {
   "cell_type": "code",
   "execution_count": 11,
   "id": "ee4c2166",
   "metadata": {
    "execution": {
     "iopub.execute_input": "2021-09-13T10:08:30.828608Z",
     "iopub.status.busy": "2021-09-13T10:08:30.828005Z",
     "iopub.status.idle": "2021-09-13T10:08:30.881669Z",
     "shell.execute_reply": "2021-09-13T10:08:30.880884Z"
    },
    "papermill": {
     "duration": 0.087058,
     "end_time": "2021-09-13T10:08:30.881854",
     "exception": false,
     "start_time": "2021-09-13T10:08:30.794796",
     "status": "completed"
    },
    "tags": []
   },
   "outputs": [],
   "source": [
    "X_train = X_train/255.\n",
    "X_test = X_test/255."
   ]
  },
  {
   "cell_type": "markdown",
   "id": "ddcf4fab",
   "metadata": {
    "papermill": {
     "duration": 0.029907,
     "end_time": "2021-09-13T10:08:30.942444",
     "exception": false,
     "start_time": "2021-09-13T10:08:30.912537",
     "status": "completed"
    },
    "tags": []
   },
   "source": [
    "And setup the labels as 1 (when the digit is 3) and 0 (when the digit is 8)"
   ]
  },
  {
   "cell_type": "code",
   "execution_count": 12,
   "id": "7dc908f2",
   "metadata": {
    "execution": {
     "iopub.execute_input": "2021-09-13T10:08:31.006152Z",
     "iopub.status.busy": "2021-09-13T10:08:31.005528Z",
     "iopub.status.idle": "2021-09-13T10:08:31.019018Z",
     "shell.execute_reply": "2021-09-13T10:08:31.018525Z"
    },
    "papermill": {
     "duration": 0.046852,
     "end_time": "2021-09-13T10:08:31.019153",
     "exception": false,
     "start_time": "2021-09-13T10:08:30.972301",
     "status": "completed"
    },
    "tags": []
   },
   "outputs": [],
   "source": [
    "y_train = 1*(y_train==3)\n",
    "y_test = 1*(y_test==3)"
   ]
  },
  {
   "cell_type": "code",
   "execution_count": 13,
   "id": "01e4e969",
   "metadata": {
    "execution": {
     "iopub.execute_input": "2021-09-13T10:08:31.083964Z",
     "iopub.status.busy": "2021-09-13T10:08:31.083365Z",
     "iopub.status.idle": "2021-09-13T10:08:31.099348Z",
     "shell.execute_reply": "2021-09-13T10:08:31.098633Z"
    },
    "papermill": {
     "duration": 0.05037,
     "end_time": "2021-09-13T10:08:31.099486",
     "exception": false,
     "start_time": "2021-09-13T10:08:31.049116",
     "status": "completed"
    },
    "tags": []
   },
   "outputs": [
    {
     "data": {
      "text/plain": [
       "((11982, 28, 28), (1984, 28, 28))"
      ]
     },
     "execution_count": 13,
     "metadata": {},
     "output_type": "execute_result"
    }
   ],
   "source": [
    "X_train.shape, X_test.shape"
   ]
  },
  {
   "cell_type": "markdown",
   "id": "5ccf3f85",
   "metadata": {
    "papermill": {
     "duration": 0.030292,
     "end_time": "2021-09-13T10:08:31.165852",
     "exception": false,
     "start_time": "2021-09-13T10:08:31.135560",
     "status": "completed"
    },
    "tags": []
   },
   "source": [
    "We reshape the data to flatten the image pixels into a set of features or co-variates:"
   ]
  },
  {
   "cell_type": "code",
   "execution_count": 14,
   "id": "5286a4a3",
   "metadata": {
    "execution": {
     "iopub.execute_input": "2021-09-13T10:08:31.231941Z",
     "iopub.status.busy": "2021-09-13T10:08:31.231312Z",
     "iopub.status.idle": "2021-09-13T10:08:31.245687Z",
     "shell.execute_reply": "2021-09-13T10:08:31.245063Z"
    },
    "papermill": {
     "duration": 0.049614,
     "end_time": "2021-09-13T10:08:31.245823",
     "exception": false,
     "start_time": "2021-09-13T10:08:31.196209",
     "status": "completed"
    },
    "tags": []
   },
   "outputs": [
    {
     "data": {
      "text/plain": [
       "((11982, 784), (1984, 784))"
      ]
     },
     "execution_count": 14,
     "metadata": {},
     "output_type": "execute_result"
    }
   ],
   "source": [
    "X_train = X_train.reshape(X_train.shape[0], -1)\n",
    "X_test = X_test.reshape(X_test.shape[0], -1)\n",
    "X_train.shape, X_test.shape"
   ]
  },
  {
   "cell_type": "code",
   "execution_count": 15,
   "id": "73c5f88a",
   "metadata": {
    "execution": {
     "iopub.execute_input": "2021-09-13T10:08:31.310854Z",
     "iopub.status.busy": "2021-09-13T10:08:31.310241Z",
     "iopub.status.idle": "2021-09-13T10:08:31.330345Z",
     "shell.execute_reply": "2021-09-13T10:08:31.330810Z"
    },
    "papermill": {
     "duration": 0.054809,
     "end_time": "2021-09-13T10:08:31.330963",
     "exception": false,
     "start_time": "2021-09-13T10:08:31.276154",
     "status": "completed"
    },
    "tags": []
   },
   "outputs": [],
   "source": [
    "#Impoting functions from 'Kudzu'\n",
    "from kudzu.model import Model\n",
    "from kudzu.train import Learner\n",
    "from kudzu.optim import GD\n",
    "from kudzu.data import Data, Sampler,Dataloader\n",
    "\n",
    "from kudzu.callbacks import AccCallback\n",
    "from kudzu.callbacks import ClfCallback\n",
    "\n",
    "from kudzu.loss import MSE\n",
    "\n",
    "from kudzu.layer import Sigmoid,Relu\n",
    "from kudzu.layer import Affine"
   ]
  },
  {
   "cell_type": "markdown",
   "id": "bc01172a",
   "metadata": {
    "papermill": {
     "duration": 0.030398,
     "end_time": "2021-09-13T10:08:31.392604",
     "exception": false,
     "start_time": "2021-09-13T10:08:31.362206",
     "status": "completed"
    },
    "tags": []
   },
   "source": [
    "### Let us create a `Config` class, to store important parameters. \n",
    "This class essentially plays the role of a dictionary."
   ]
  },
  {
   "cell_type": "code",
   "execution_count": 16,
   "id": "978281aa",
   "metadata": {
    "execution": {
     "iopub.execute_input": "2021-09-13T10:08:31.458337Z",
     "iopub.status.busy": "2021-09-13T10:08:31.457735Z",
     "iopub.status.idle": "2021-09-13T10:08:31.473315Z",
     "shell.execute_reply": "2021-09-13T10:08:31.473831Z"
    },
    "papermill": {
     "duration": 0.051139,
     "end_time": "2021-09-13T10:08:31.473969",
     "exception": false,
     "start_time": "2021-09-13T10:08:31.422830",
     "status": "completed"
    },
    "tags": []
   },
   "outputs": [],
   "source": [
    "class Config:\n",
    "    pass\n",
    "config = Config()\n",
    "config.lr = 0.001\n",
    "config.num_epochs = 250\n",
    "config.bs = 50"
   ]
  },
  {
   "cell_type": "markdown",
   "id": "1385fa59",
   "metadata": {
    "papermill": {
     "duration": 0.030279,
     "end_time": "2021-09-13T10:08:31.534534",
     "exception": false,
     "start_time": "2021-09-13T10:08:31.504255",
     "status": "completed"
    },
    "tags": []
   },
   "source": [
    "### Running Models with the Training data\n",
    "Details about the network layers:\n",
    "- A first affine layer has 784 inputs and does 100 affine transforms. These are followed by a Relu\n",
    "- A second affine layer has 100 inputs from the 100 activations of the past layer, and does 100 affine transforms. These are followed by a Relu\n",
    "- A third affine layer has 100 activations and does 2 affine transformations to create an embedding for visualization. There is no non-linearity here.\n",
    "- A final \"logistic regression\" which has an affine transform from 2 inputs to 1 output, which is squeezed through a sigmoid.\n"
   ]
  },
  {
   "cell_type": "code",
   "execution_count": 17,
   "id": "2b9c66db",
   "metadata": {
    "execution": {
     "iopub.execute_input": "2021-09-13T10:08:31.599739Z",
     "iopub.status.busy": "2021-09-13T10:08:31.599077Z",
     "iopub.status.idle": "2021-09-13T10:08:31.614388Z",
     "shell.execute_reply": "2021-09-13T10:08:31.613501Z"
    },
    "papermill": {
     "duration": 0.049783,
     "end_time": "2021-09-13T10:08:31.614513",
     "exception": false,
     "start_time": "2021-09-13T10:08:31.564730",
     "status": "completed"
    },
    "tags": []
   },
   "outputs": [],
   "source": [
    "data = Data(X_train, y_train.reshape(-1,1))\n",
    "sampler = Sampler(data, config.bs, shuffle=True)\n",
    "\n",
    "dl = Dataloader(data, sampler)\n",
    "\n",
    "opt = GD(config.lr)\n",
    "loss = MSE()"
   ]
  },
  {
   "cell_type": "code",
   "execution_count": 18,
   "id": "b275e4c2",
   "metadata": {
    "execution": {
     "iopub.execute_input": "2021-09-13T10:08:31.685278Z",
     "iopub.status.busy": "2021-09-13T10:08:31.684652Z",
     "iopub.status.idle": "2021-09-13T10:08:31.698188Z",
     "shell.execute_reply": "2021-09-13T10:08:31.697707Z"
    },
    "papermill": {
     "duration": 0.051616,
     "end_time": "2021-09-13T10:08:31.698324",
     "exception": false,
     "start_time": "2021-09-13T10:08:31.646708",
     "status": "completed"
    },
    "tags": []
   },
   "outputs": [],
   "source": [
    "training_data_x = X_train\n",
    "testing_data_x = X_test\n",
    "training_data_y = y_train.reshape(-1,1)\n",
    "testing_data_y = y_test.reshape(-1,1)"
   ]
  },
  {
   "cell_type": "code",
   "execution_count": 19,
   "id": "76951160",
   "metadata": {
    "execution": {
     "iopub.execute_input": "2021-09-13T10:08:31.768711Z",
     "iopub.status.busy": "2021-09-13T10:08:31.768103Z",
     "iopub.status.idle": "2021-09-13T10:08:31.786103Z",
     "shell.execute_reply": "2021-09-13T10:08:31.785509Z"
    },
    "papermill": {
     "duration": 0.056214,
     "end_time": "2021-09-13T10:08:31.786226",
     "exception": false,
     "start_time": "2021-09-13T10:08:31.730012",
     "status": "completed"
    },
    "tags": []
   },
   "outputs": [
    {
     "name": "stdout",
     "output_type": "stream",
     "text": [
      "xavier\n",
      "xavier\n",
      "xavier\n",
      "xavier\n",
      "xavier\n"
     ]
    }
   ],
   "source": [
    "layers = [Affine(\"first\", 784, 100), Relu(\"first\"), Affine(\"second\", 100, 100), Relu(\"second\"), Affine(\"third\", 100, 2), Affine(\"last\", 2, 1), Sigmoid(\"last\")]\n",
    "model_nn = Model(layers)\n",
    "model_lr = Model([Affine(\"logits\", 784, 1), Sigmoid(\"sigmoid\")])"
   ]
  },
  {
   "cell_type": "code",
   "execution_count": 20,
   "id": "6eede77a",
   "metadata": {
    "execution": {
     "iopub.execute_input": "2021-09-13T10:08:31.857890Z",
     "iopub.status.busy": "2021-09-13T10:08:31.857275Z",
     "iopub.status.idle": "2021-09-13T10:08:31.871367Z",
     "shell.execute_reply": "2021-09-13T10:08:31.870844Z"
    },
    "papermill": {
     "duration": 0.052628,
     "end_time": "2021-09-13T10:08:31.871494",
     "exception": false,
     "start_time": "2021-09-13T10:08:31.818866",
     "status": "completed"
    },
    "tags": []
   },
   "outputs": [],
   "source": [
    "nn_learner = Learner(loss, model_nn, opt, config.num_epochs)\n",
    "acc_nn = ClfCallback(nn_learner, config.bs, training_data_x , testing_data_x, training_data_y, testing_data_y)\n",
    "nn_learner.set_callbacks([acc_nn])"
   ]
  },
  {
   "cell_type": "code",
   "execution_count": 21,
   "id": "877b6cc7",
   "metadata": {
    "execution": {
     "iopub.execute_input": "2021-09-13T10:08:31.937366Z",
     "iopub.status.busy": "2021-09-13T10:08:31.936728Z",
     "iopub.status.idle": "2021-09-13T10:08:31.951424Z",
     "shell.execute_reply": "2021-09-13T10:08:31.950934Z"
    },
    "papermill": {
     "duration": 0.049414,
     "end_time": "2021-09-13T10:08:31.951553",
     "exception": false,
     "start_time": "2021-09-13T10:08:31.902139",
     "status": "completed"
    },
    "tags": []
   },
   "outputs": [],
   "source": [
    "lr_learner = Learner(loss, model_lr, opt, config.num_epochs)\n",
    "acc_lr = ClfCallback(lr_learner, config.bs, training_data_x , testing_data_x, training_data_y, testing_data_y)\n",
    "lr_learner.set_callbacks([acc_lr])"
   ]
  },
  {
   "cell_type": "code",
   "execution_count": 22,
   "id": "d9b133c3",
   "metadata": {
    "execution": {
     "iopub.execute_input": "2021-09-13T10:08:32.017621Z",
     "iopub.status.busy": "2021-09-13T10:08:32.016991Z",
     "iopub.status.idle": "2021-09-13T10:10:03.447061Z",
     "shell.execute_reply": "2021-09-13T10:10:03.447909Z"
    },
    "papermill": {
     "duration": 91.465695,
     "end_time": "2021-09-13T10:10:03.448074",
     "exception": false,
     "start_time": "2021-09-13T10:08:31.982379",
     "status": "completed"
    },
    "tags": []
   },
   "outputs": [
    {
     "name": "stdout",
     "output_type": "stream",
     "text": [
      "Epoch 0, Loss 0.2418\n",
      "Training Accuracy: 0.5873, Testing Accuracy: 0.5988\n",
      "\n"
     ]
    },
    {
     "name": "stdout",
     "output_type": "stream",
     "text": [
      "Epoch 10, Loss 0.1744\n",
      "Training Accuracy: 0.8941, Testing Accuracy: 0.8962\n",
      "\n"
     ]
    },
    {
     "name": "stdout",
     "output_type": "stream",
     "text": [
      "Epoch 20, Loss 0.0831\n",
      "Training Accuracy: 0.9225, Testing Accuracy: 0.9350\n",
      "\n"
     ]
    },
    {
     "name": "stdout",
     "output_type": "stream",
     "text": [
      "Epoch 30, Loss 0.0548\n",
      "Training Accuracy: 0.9432, Testing Accuracy: 0.9511\n",
      "\n"
     ]
    },
    {
     "name": "stdout",
     "output_type": "stream",
     "text": [
      "Epoch 40, Loss 0.0436\n",
      "Training Accuracy: 0.9537, Testing Accuracy: 0.9597\n",
      "\n"
     ]
    },
    {
     "name": "stdout",
     "output_type": "stream",
     "text": [
      "Epoch 50, Loss 0.0378\n",
      "Training Accuracy: 0.9589, Testing Accuracy: 0.9647\n",
      "\n"
     ]
    },
    {
     "name": "stdout",
     "output_type": "stream",
     "text": [
      "Epoch 60, Loss 0.0343\n",
      "Training Accuracy: 0.9620, Testing Accuracy: 0.9667\n",
      "\n"
     ]
    },
    {
     "name": "stdout",
     "output_type": "stream",
     "text": [
      "Epoch 70, Loss 0.0319\n",
      "Training Accuracy: 0.9649, Testing Accuracy: 0.9693\n",
      "\n"
     ]
    },
    {
     "name": "stdout",
     "output_type": "stream",
     "text": [
      "Epoch 80, Loss 0.0301\n",
      "Training Accuracy: 0.9662, Testing Accuracy: 0.9703\n",
      "\n"
     ]
    },
    {
     "name": "stdout",
     "output_type": "stream",
     "text": [
      "Epoch 90, Loss 0.0287\n",
      "Training Accuracy: 0.9675, Testing Accuracy: 0.9703\n",
      "\n"
     ]
    },
    {
     "name": "stdout",
     "output_type": "stream",
     "text": [
      "Epoch 100, Loss 0.0276\n",
      "Training Accuracy: 0.9685, Testing Accuracy: 0.9698\n",
      "\n"
     ]
    },
    {
     "name": "stdout",
     "output_type": "stream",
     "text": [
      "Epoch 110, Loss 0.0266\n",
      "Training Accuracy: 0.9695, Testing Accuracy: 0.9693\n",
      "\n"
     ]
    },
    {
     "name": "stdout",
     "output_type": "stream",
     "text": [
      "Epoch 120, Loss 0.0258\n",
      "Training Accuracy: 0.9704, Testing Accuracy: 0.9693\n",
      "\n"
     ]
    },
    {
     "name": "stdout",
     "output_type": "stream",
     "text": [
      "Epoch 130, Loss 0.025\n",
      "Training Accuracy: 0.9710, Testing Accuracy: 0.9708\n",
      "\n"
     ]
    },
    {
     "name": "stdout",
     "output_type": "stream",
     "text": [
      "Epoch 140, Loss 0.0243\n",
      "Training Accuracy: 0.9720, Testing Accuracy: 0.9713\n",
      "\n"
     ]
    },
    {
     "name": "stdout",
     "output_type": "stream",
     "text": [
      "Epoch 150, Loss 0.0237\n",
      "Training Accuracy: 0.9728, Testing Accuracy: 0.9703\n",
      "\n"
     ]
    },
    {
     "name": "stdout",
     "output_type": "stream",
     "text": [
      "Epoch 160, Loss 0.0232\n",
      "Training Accuracy: 0.9735, Testing Accuracy: 0.9713\n",
      "\n"
     ]
    },
    {
     "name": "stdout",
     "output_type": "stream",
     "text": [
      "Epoch 170, Loss 0.0226\n",
      "Training Accuracy: 0.9744, Testing Accuracy: 0.9718\n",
      "\n"
     ]
    },
    {
     "name": "stdout",
     "output_type": "stream",
     "text": [
      "Epoch 180, Loss 0.0221\n",
      "Training Accuracy: 0.9748, Testing Accuracy: 0.9718\n",
      "\n"
     ]
    },
    {
     "name": "stdout",
     "output_type": "stream",
     "text": [
      "Epoch 190, Loss 0.0217\n",
      "Training Accuracy: 0.9755, Testing Accuracy: 0.9718\n",
      "\n"
     ]
    },
    {
     "name": "stdout",
     "output_type": "stream",
     "text": [
      "Epoch 200, Loss 0.0212\n",
      "Training Accuracy: 0.9761, Testing Accuracy: 0.9723\n",
      "\n"
     ]
    },
    {
     "name": "stdout",
     "output_type": "stream",
     "text": [
      "Epoch 210, Loss 0.0208\n",
      "Training Accuracy: 0.9767, Testing Accuracy: 0.9723\n",
      "\n"
     ]
    },
    {
     "name": "stdout",
     "output_type": "stream",
     "text": [
      "Epoch 220, Loss 0.0204\n",
      "Training Accuracy: 0.9772, Testing Accuracy: 0.9728\n",
      "\n"
     ]
    },
    {
     "name": "stdout",
     "output_type": "stream",
     "text": [
      "Epoch 230, Loss 0.02\n",
      "Training Accuracy: 0.9779, Testing Accuracy: 0.9728\n",
      "\n"
     ]
    },
    {
     "name": "stdout",
     "output_type": "stream",
     "text": [
      "Epoch 240, Loss 0.0197\n",
      "Training Accuracy: 0.9781, Testing Accuracy: 0.9728\n",
      "\n"
     ]
    },
    {
     "data": {
      "text/plain": [
       "0.08348139216510858"
      ]
     },
     "execution_count": 22,
     "metadata": {},
     "output_type": "execute_result"
    }
   ],
   "source": [
    "nn_learner.train_loop(dl)"
   ]
  },
  {
   "cell_type": "code",
   "execution_count": 23,
   "id": "e0163366",
   "metadata": {
    "execution": {
     "iopub.execute_input": "2021-09-13T10:10:03.538578Z",
     "iopub.status.busy": "2021-09-13T10:10:03.537951Z",
     "iopub.status.idle": "2021-09-13T10:10:19.385457Z",
     "shell.execute_reply": "2021-09-13T10:10:19.386298Z"
    },
    "papermill": {
     "duration": 15.899333,
     "end_time": "2021-09-13T10:10:19.386463",
     "exception": false,
     "start_time": "2021-09-13T10:10:03.487130",
     "status": "completed"
    },
    "tags": []
   },
   "outputs": [
    {
     "name": "stdout",
     "output_type": "stream",
     "text": [
      "Epoch 0, Loss 0.2496\n",
      "Training Accuracy: 0.6592, Testing Accuracy: 0.6668\n",
      "\n"
     ]
    },
    {
     "name": "stdout",
     "output_type": "stream",
     "text": [
      "Epoch 10, Loss 0.0985\n",
      "Training Accuracy: 0.9246, Testing Accuracy: 0.9340\n",
      "\n"
     ]
    },
    {
     "name": "stdout",
     "output_type": "stream",
     "text": [
      "Epoch 20, Loss 0.0763\n",
      "Training Accuracy: 0.9348, Testing Accuracy: 0.9405\n",
      "\n"
     ]
    },
    {
     "name": "stdout",
     "output_type": "stream",
     "text": [
      "Epoch 30, Loss 0.0663\n",
      "Training Accuracy: 0.9409, Testing Accuracy: 0.9471\n",
      "\n"
     ]
    },
    {
     "name": "stdout",
     "output_type": "stream",
     "text": [
      "Epoch 40, Loss 0.0603\n",
      "Training Accuracy: 0.9443, Testing Accuracy: 0.9521\n",
      "\n"
     ]
    },
    {
     "name": "stdout",
     "output_type": "stream",
     "text": [
      "Epoch 50, Loss 0.0561\n",
      "Training Accuracy: 0.9463, Testing Accuracy: 0.9561\n",
      "\n"
     ]
    },
    {
     "name": "stdout",
     "output_type": "stream",
     "text": [
      "Epoch 60, Loss 0.053\n",
      "Training Accuracy: 0.9484, Testing Accuracy: 0.9587\n",
      "\n"
     ]
    },
    {
     "name": "stdout",
     "output_type": "stream",
     "text": [
      "Epoch 70, Loss 0.0506\n",
      "Training Accuracy: 0.9495, Testing Accuracy: 0.9607\n",
      "\n"
     ]
    },
    {
     "name": "stdout",
     "output_type": "stream",
     "text": [
      "Epoch 80, Loss 0.0487\n",
      "Training Accuracy: 0.9510, Testing Accuracy: 0.9607\n",
      "\n"
     ]
    },
    {
     "name": "stdout",
     "output_type": "stream",
     "text": [
      "Epoch 90, Loss 0.0471\n",
      "Training Accuracy: 0.9524, Testing Accuracy: 0.9607\n",
      "\n"
     ]
    },
    {
     "name": "stdout",
     "output_type": "stream",
     "text": [
      "Epoch 100, Loss 0.0457\n",
      "Training Accuracy: 0.9538, Testing Accuracy: 0.9612\n",
      "\n"
     ]
    },
    {
     "name": "stdout",
     "output_type": "stream",
     "text": [
      "Epoch 110, Loss 0.0445\n",
      "Training Accuracy: 0.9544, Testing Accuracy: 0.9617\n",
      "\n"
     ]
    },
    {
     "name": "stdout",
     "output_type": "stream",
     "text": [
      "Epoch 120, Loss 0.0435\n",
      "Training Accuracy: 0.9556, Testing Accuracy: 0.9627\n",
      "\n"
     ]
    },
    {
     "name": "stdout",
     "output_type": "stream",
     "text": [
      "Epoch 130, Loss 0.0426\n",
      "Training Accuracy: 0.9569, Testing Accuracy: 0.9642\n",
      "\n"
     ]
    },
    {
     "name": "stdout",
     "output_type": "stream",
     "text": [
      "Epoch 140, Loss 0.0418\n",
      "Training Accuracy: 0.9579, Testing Accuracy: 0.9652\n",
      "\n"
     ]
    },
    {
     "name": "stdout",
     "output_type": "stream",
     "text": [
      "Epoch 150, Loss 0.0411\n",
      "Training Accuracy: 0.9580, Testing Accuracy: 0.9647\n",
      "\n"
     ]
    },
    {
     "name": "stdout",
     "output_type": "stream",
     "text": [
      "Epoch 160, Loss 0.0404\n",
      "Training Accuracy: 0.9587, Testing Accuracy: 0.9642\n",
      "\n"
     ]
    },
    {
     "name": "stdout",
     "output_type": "stream",
     "text": [
      "Epoch 170, Loss 0.0398\n",
      "Training Accuracy: 0.9590, Testing Accuracy: 0.9652\n",
      "\n"
     ]
    },
    {
     "name": "stdout",
     "output_type": "stream",
     "text": [
      "Epoch 180, Loss 0.0393\n",
      "Training Accuracy: 0.9594, Testing Accuracy: 0.9652\n",
      "\n"
     ]
    },
    {
     "name": "stdout",
     "output_type": "stream",
     "text": [
      "Epoch 190, Loss 0.0388\n",
      "Training Accuracy: 0.9603, Testing Accuracy: 0.9652\n",
      "\n"
     ]
    },
    {
     "name": "stdout",
     "output_type": "stream",
     "text": [
      "Epoch 200, Loss 0.0383\n",
      "Training Accuracy: 0.9604, Testing Accuracy: 0.9657\n",
      "\n"
     ]
    },
    {
     "name": "stdout",
     "output_type": "stream",
     "text": [
      "Epoch 210, Loss 0.0379\n",
      "Training Accuracy: 0.9605, Testing Accuracy: 0.9667\n",
      "\n"
     ]
    },
    {
     "name": "stdout",
     "output_type": "stream",
     "text": [
      "Epoch 220, Loss 0.0374\n",
      "Training Accuracy: 0.9607, Testing Accuracy: 0.9667\n",
      "\n"
     ]
    },
    {
     "name": "stdout",
     "output_type": "stream",
     "text": [
      "Epoch 230, Loss 0.0371\n",
      "Training Accuracy: 0.9605, Testing Accuracy: 0.9667\n",
      "\n"
     ]
    },
    {
     "name": "stdout",
     "output_type": "stream",
     "text": [
      "Epoch 240, Loss 0.0367\n",
      "Training Accuracy: 0.9606, Testing Accuracy: 0.9667\n",
      "\n"
     ]
    },
    {
     "data": {
      "text/plain": [
       "0.03867389153237811"
      ]
     },
     "execution_count": 23,
     "metadata": {},
     "output_type": "execute_result"
    }
   ],
   "source": [
    "lr_learner.train_loop(dl)"
   ]
  },
  {
   "cell_type": "code",
   "execution_count": 24,
   "id": "ca410940",
   "metadata": {
    "execution": {
     "iopub.execute_input": "2021-09-13T10:10:19.490541Z",
     "iopub.status.busy": "2021-09-13T10:10:19.489921Z",
     "iopub.status.idle": "2021-09-13T10:10:19.760674Z",
     "shell.execute_reply": "2021-09-13T10:10:19.759656Z"
    },
    "papermill": {
     "duration": 0.327164,
     "end_time": "2021-09-13T10:10:19.760825",
     "exception": false,
     "start_time": "2021-09-13T10:10:19.433661",
     "status": "completed"
    },
    "tags": []
   },
   "outputs": [
    {
     "data": {
      "text/plain": [
       "<matplotlib.legend.Legend at 0x7f7d1d6d7f60>"
      ]
     },
     "execution_count": 24,
     "metadata": {},
     "output_type": "execute_result"
    },
    {
     "data": {
      "image/png": "[encoded data removed]",
      "text/plain": [
       "<Figure size 1080x720 with 1 Axes>"
      ]
     },
     "metadata": {
      "needs_background": "light"
     },
     "output_type": "display_data"
    }
   ],
   "source": [
    "#comparing the results of NN and LR\n",
    "plt.figure(figsize=(15,10))\n",
    "\n",
    "# Neural Network plots\n",
    "plt.plot(acc_nn.accuracies, 'r-', label = \"Training Accuracies - NN\")\n",
    "plt.plot(acc_nn.test_accuracies, 'g-', label = \"Testing Accuracies - NN\")\n",
    "\n",
    "# Logistic Regression plots\n",
    "plt.plot(acc_lr.accuracies, 'k-', label = \"Training Accuracies - LR\")\n",
    "plt.plot(acc_lr.test_accuracies, 'b-', label = \"Testing Accuracies - LR\")\n",
    "plt.legend()"
   ]
  },
  {
   "cell_type": "markdown",
   "id": "80dfb35c",
   "metadata": {
    "papermill": {
     "duration": 0.047673,
     "end_time": "2021-09-13T10:10:19.856885",
     "exception": false,
     "start_time": "2021-09-13T10:10:19.809212",
     "status": "completed"
    },
    "tags": []
   },
   "source": [
    "#### Plotting the outputs of this layer of the NN.\n"
   ]
  },
  {
   "cell_type": "code",
   "execution_count": 25,
   "id": "45eb2ff5",
   "metadata": {
    "execution": {
     "iopub.execute_input": "2021-09-13T10:10:19.959325Z",
     "iopub.status.busy": "2021-09-13T10:10:19.958709Z",
     "iopub.status.idle": "2021-09-13T10:10:19.979421Z",
     "shell.execute_reply": "2021-09-13T10:10:19.979924Z"
    },
    "papermill": {
     "duration": 0.075365,
     "end_time": "2021-09-13T10:10:19.980080",
     "exception": false,
     "start_time": "2021-09-13T10:10:19.904715",
     "status": "completed"
    },
    "tags": []
   },
   "outputs": [],
   "source": [
    "new_model = Model(layers[:-2])\n",
    "testing_plot = new_model(testing_data_x)"
   ]
  },
  {
   "cell_type": "code",
   "execution_count": 26,
   "id": "4c0a5485",
   "metadata": {
    "execution": {
     "iopub.execute_input": "2021-09-13T10:10:20.092542Z",
     "iopub.status.busy": "2021-09-13T10:10:20.091922Z",
     "iopub.status.idle": "2021-09-13T10:10:20.343071Z",
     "shell.execute_reply": "2021-09-13T10:10:20.343539Z"
    },
    "papermill": {
     "duration": 0.309026,
     "end_time": "2021-09-13T10:10:20.343699",
     "exception": false,
     "start_time": "2021-09-13T10:10:20.034673",
     "status": "completed"
    },
    "tags": []
   },
   "outputs": [
    {
     "data": {
      "text/plain": [
       "Text(0.5, 1.0, 'Outputs')"
      ]
     },
     "execution_count": 26,
     "metadata": {},
     "output_type": "execute_result"
    },
    {
     "data": {
      "image/png": "[encoded data removed]",
      "text/plain": [
       "<Figure size 576x504 with 1 Axes>"
      ]
     },
     "metadata": {
      "needs_background": "light"
     },
     "output_type": "display_data"
    }
   ],
   "source": [
    "# Plotting the scatter plot of points and color coding by class\n",
    "plt.figure(figsize=(8,7))\n",
    "plt.scatter(testing_plot[:,0], testing_plot[:,1], alpha = 0.1, c = y_test.ravel());\n",
    "plt.title('Outputs')"
   ]
  },
  {
   "cell_type": "markdown",
   "id": "a74fcf8f",
   "metadata": {
    "papermill": {
     "duration": 0.052051,
     "end_time": "2021-09-13T10:10:20.448802",
     "exception": false,
     "start_time": "2021-09-13T10:10:20.396751",
     "status": "completed"
    },
    "tags": []
   },
   "source": [
    "Probability contours"
   ]
  },
  {
   "cell_type": "code",
   "execution_count": 27,
   "id": "d0afc8e3",
   "metadata": {
    "execution": {
     "iopub.execute_input": "2021-09-13T10:10:20.558312Z",
     "iopub.status.busy": "2021-09-13T10:10:20.557696Z",
     "iopub.status.idle": "2021-09-13T10:10:20.568245Z",
     "shell.execute_reply": "2021-09-13T10:10:20.567641Z"
    },
    "papermill": {
     "duration": 0.068301,
     "end_time": "2021-09-13T10:10:20.568373",
     "exception": false,
     "start_time": "2021-09-13T10:10:20.500072",
     "status": "completed"
    },
    "tags": []
   },
   "outputs": [],
   "source": [
    "model_prob = Model(layers[-2:]) "
   ]
  },
  {
   "cell_type": "code",
   "execution_count": 28,
   "id": "9b96e238",
   "metadata": {
    "execution": {
     "iopub.execute_input": "2021-09-13T10:10:20.678217Z",
     "iopub.status.busy": "2021-09-13T10:10:20.677605Z",
     "iopub.status.idle": "2021-09-13T10:10:20.693321Z",
     "shell.execute_reply": "2021-09-13T10:10:20.693918Z"
    },
    "papermill": {
     "duration": 0.073647,
     "end_time": "2021-09-13T10:10:20.694126",
     "exception": false,
     "start_time": "2021-09-13T10:10:20.620479",
     "status": "completed"
    },
    "tags": []
   },
   "outputs": [],
   "source": [
    "#creating the x and y ranges according to the above generated plot.\n",
    "x_range = np.linspace(-4, 1, 100) \n",
    "y_range = np.linspace(-6, 6, 100) \n",
    "x_grid, y_grid = np.meshgrid(x_range, y_range) # x_grid and y_grig are of size 100 X 100\n",
    "\n",
    "# converting x_grid and y_grid to continuous arrays\n",
    "x_gridflat = np.ravel(x_grid)\n",
    "y_gridflat = np.ravel(y_grid)\n",
    "\n",
    "# The last layer of the current model takes two columns as input. Hence transpose of np.vstack() is required.\n",
    "X = np.vstack((x_gridflat, y_gridflat)).T\n",
    "\n",
    "prob_contour = model_prob(X).reshape(100,100) "
   ]
  },
  {
   "cell_type": "code",
   "execution_count": 29,
   "id": "da72499a",
   "metadata": {
    "execution": {
     "iopub.execute_input": "2021-09-13T10:10:20.839137Z",
     "iopub.status.busy": "2021-09-13T10:10:20.838505Z",
     "iopub.status.idle": "2021-09-13T10:10:21.145257Z",
     "shell.execute_reply": "2021-09-13T10:10:21.145747Z"
    },
    "papermill": {
     "duration": 0.364912,
     "end_time": "2021-09-13T10:10:21.145902",
     "exception": false,
     "start_time": "2021-09-13T10:10:20.780990",
     "status": "completed"
    },
    "tags": []
   },
   "outputs": [
    {
     "data": {
      "image/png": "[encoded data removed]",
      "text/plain": [
       "<Figure size 720x648 with 1 Axes>"
      ]
     },
     "metadata": {
      "needs_background": "light"
     },
     "output_type": "display_data"
    }
   ],
   "source": [
    "plt.figure(figsize=(10,9))\n",
    "plt.scatter(testing_plot[:,0], testing_plot[:,1], alpha = 0.1, c = y_test.ravel())\n",
    "contours = plt.contour(x_grid,y_grid,prob_contour)\n",
    "plt.title('Probability Contours')\n",
    "plt.clabel(contours, inline = True );"
   ]
  },
  {
   "cell_type": "code",
   "execution_count": null,
   "id": "e81b4ac7",
   "metadata": {
    "papermill": {
     "duration": 0.057274,
     "end_time": "2021-09-13T10:10:21.262815",
     "exception": false,
     "start_time": "2021-09-13T10:10:21.205541",
     "status": "completed"
    },
    "tags": []
   },
   "outputs": [],
   "source": []
  }
 ],
 "metadata": {
  "kernelspec": {
   "display_name": "Python 3",
   "language": "python",
   "name": "python3"
  },
  "language_info": {
   "codemirror_mode": {
    "name": "ipython",
    "version": 3
   },
   "file_extension": ".py",
   "mimetype": "text/x-python",
   "name": "python",
   "nbconvert_exporter": "python",
   "pygments_lexer": "ipython3",
   "version": "3.6.14"
  },
  "papermill": {
   "default_parameters": {},
   "duration": 117.702276,
   "end_time": "2021-09-13T10:10:21.726864",
   "environment_variables": {},
   "exception": null,
   "input_path": "2020-08-11-part2.ipynb",
   "output_path": "2020-08-11-part2.ipynb",
   "parameters": {},
   "start_time": "2021-09-13T10:08:24.024588",
   "version": "2.3.3"
  }
 },
 "nbformat": 4,
 "nbformat_minor": 5
}