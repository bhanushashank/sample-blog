{
 "cells": [
  {
   "cell_type": "markdown",
   "id": "98380cd3",
   "metadata": {
    "papermill": {
     "duration": 0.028155,
     "end_time": "2022-02-25T00:29:25.883842",
     "exception": false,
     "start_time": "2022-02-25T00:29:25.855687",
     "status": "completed"
    },
    "tags": []
   },
   "source": [
    "# Distinguish Your Own Digits (DYOD)"
   ]
  },
  {
   "cell_type": "markdown",
   "id": "ef31240d",
   "metadata": {
    "papermill": {
     "duration": 0.025278,
     "end_time": "2022-02-25T00:29:25.933655",
     "exception": false,
     "start_time": "2022-02-25T00:29:25.908377",
     "status": "completed"
    },
    "tags": []
   },
   "source": [
    "You are going to write a classifier that distinguishes between the number 3 and number 8."
   ]
  },
  {
   "cell_type": "code",
   "execution_count": 1,
   "id": "b15c8646",
   "metadata": {
    "execution": {
     "iopub.execute_input": "2022-02-25T00:29:25.992732Z",
     "iopub.status.busy": "2022-02-25T00:29:25.992168Z",
     "iopub.status.idle": "2022-02-25T00:29:26.002455Z",
     "shell.execute_reply": "2022-02-25T00:29:26.002899Z"
    },
    "papermill": {
     "duration": 0.045613,
     "end_time": "2022-02-25T00:29:26.003076",
     "exception": false,
     "start_time": "2022-02-25T00:29:25.957463",
     "status": "completed"
    },
    "tags": []
   },
   "outputs": [],
   "source": [
    "%load_ext autoreload\n",
    "%autoreload 2"
   ]
  },
  {
   "cell_type": "code",
   "execution_count": 2,
   "id": "22ef38dc",
   "metadata": {
    "execution": {
     "iopub.execute_input": "2022-02-25T00:29:26.056426Z",
     "iopub.status.busy": "2022-02-25T00:29:26.055882Z",
     "iopub.status.idle": "2022-02-25T00:29:26.666309Z",
     "shell.execute_reply": "2022-02-25T00:29:26.666803Z"
    },
    "papermill": {
     "duration": 0.639733,
     "end_time": "2022-02-25T00:29:26.667001",
     "exception": false,
     "start_time": "2022-02-25T00:29:26.027268",
     "status": "completed"
    },
    "tags": []
   },
   "outputs": [],
   "source": [
    "%matplotlib inline\n",
    "import numpy as np\n",
    "import matplotlib.pyplot as plt\n",
    "import pandas as pd"
   ]
  },
  {
   "cell_type": "markdown",
   "id": "ba036198",
   "metadata": {
    "papermill": {
     "duration": 0.023942,
     "end_time": "2022-02-25T00:29:26.715624",
     "exception": false,
     "start_time": "2022-02-25T00:29:26.691682",
     "status": "completed"
    },
    "tags": []
   },
   "source": [
    "From the command line run `pip install mnist`. This is a library that will help you bring down the mnist dataset. If you run this from a notebook, you need to put  `!pip install mnist` in a cell by itself."
   ]
  },
  {
   "cell_type": "code",
   "execution_count": 3,
   "id": "bb6ad8a1",
   "metadata": {
    "execution": {
     "iopub.execute_input": "2022-02-25T00:29:26.772276Z",
     "iopub.status.busy": "2022-02-25T00:29:26.771746Z",
     "iopub.status.idle": "2022-02-25T00:29:28.754483Z",
     "shell.execute_reply": "2022-02-25T00:29:28.755027Z"
    },
    "papermill": {
     "duration": 2.01557,
     "end_time": "2022-02-25T00:29:28.755191",
     "exception": false,
     "start_time": "2022-02-25T00:29:26.739621",
     "status": "completed"
    },
    "tags": []
   },
   "outputs": [
    {
     "name": "stdout",
     "output_type": "stream",
     "text": [
      "Collecting mnist\r\n"
     ]
    },
    {
     "name": "stdout",
     "output_type": "stream",
     "text": [
      "  Downloading mnist-0.2.2-py2.py3-none-any.whl (3.5 kB)\r\n",
      "Requirement already satisfied: numpy in /opt/hostedtoolcache/Python/3.6.15/x64/lib/python3.6/site-packages (from mnist) (1.19.5)\r\n"
     ]
    },
    {
     "name": "stdout",
     "output_type": "stream",
     "text": [
      "Installing collected packages: mnist\r\n"
     ]
    },
    {
     "name": "stdout",
     "output_type": "stream",
     "text": [
      "Successfully installed mnist-0.2.2\r\n"
     ]
    }
   ],
   "source": [
    "!pip install mnist"
   ]
  },
  {
   "cell_type": "markdown",
   "id": "69df9c9a",
   "metadata": {
    "papermill": {
     "duration": 0.025179,
     "end_time": "2022-02-25T00:29:28.805643",
     "exception": false,
     "start_time": "2022-02-25T00:29:28.780464",
     "status": "completed"
    },
    "tags": []
   },
   "source": [
    "## Preparing the Data"
   ]
  },
  {
   "cell_type": "code",
   "execution_count": 4,
   "id": "7f69d806",
   "metadata": {
    "execution": {
     "iopub.execute_input": "2022-02-25T00:29:28.868785Z",
     "iopub.status.busy": "2022-02-25T00:29:28.868244Z",
     "iopub.status.idle": "2022-02-25T00:29:28.876610Z",
     "shell.execute_reply": "2022-02-25T00:29:28.877028Z"
    },
    "papermill": {
     "duration": 0.046621,
     "end_time": "2022-02-25T00:29:28.877161",
     "exception": false,
     "start_time": "2022-02-25T00:29:28.830540",
     "status": "completed"
    },
    "tags": []
   },
   "outputs": [],
   "source": [
    "import mnist"
   ]
  },
  {
   "cell_type": "code",
   "execution_count": 5,
   "id": "a411e44f",
   "metadata": {
    "execution": {
     "iopub.execute_input": "2022-02-25T00:29:28.943991Z",
     "iopub.status.busy": "2022-02-25T00:29:28.932973Z",
     "iopub.status.idle": "2022-02-25T00:29:29.445448Z",
     "shell.execute_reply": "2022-02-25T00:29:29.446328Z"
    },
    "papermill": {
     "duration": 0.544096,
     "end_time": "2022-02-25T00:29:29.446510",
     "exception": false,
     "start_time": "2022-02-25T00:29:28.902414",
     "status": "completed"
    },
    "tags": []
   },
   "outputs": [],
   "source": [
    "train_images = mnist.train_images()\n",
    "train_labels = mnist.train_labels()"
   ]
  },
  {
   "cell_type": "code",
   "execution_count": 6,
   "id": "dceab3a5",
   "metadata": {
    "execution": {
     "iopub.execute_input": "2022-02-25T00:29:29.501616Z",
     "iopub.status.busy": "2022-02-25T00:29:29.500415Z",
     "iopub.status.idle": "2022-02-25T00:29:29.515018Z",
     "shell.execute_reply": "2022-02-25T00:29:29.514538Z"
    },
    "papermill": {
     "duration": 0.043123,
     "end_time": "2022-02-25T00:29:29.515136",
     "exception": false,
     "start_time": "2022-02-25T00:29:29.472013",
     "status": "completed"
    },
    "tags": []
   },
   "outputs": [
    {
     "data": {
      "text/plain": [
       "((60000, 28, 28), (60000,))"
      ]
     },
     "execution_count": 6,
     "metadata": {},
     "output_type": "execute_result"
    }
   ],
   "source": [
    "train_images.shape, train_labels.shape"
   ]
  },
  {
   "cell_type": "code",
   "execution_count": 7,
   "id": "f50dc2bb",
   "metadata": {
    "execution": {
     "iopub.execute_input": "2022-02-25T00:29:29.569953Z",
     "iopub.status.busy": "2022-02-25T00:29:29.569434Z",
     "iopub.status.idle": "2022-02-25T00:29:29.721090Z",
     "shell.execute_reply": "2022-02-25T00:29:29.720512Z"
    },
    "papermill": {
     "duration": 0.180752,
     "end_time": "2022-02-25T00:29:29.721223",
     "exception": false,
     "start_time": "2022-02-25T00:29:29.540471",
     "status": "completed"
    },
    "tags": []
   },
   "outputs": [],
   "source": [
    "test_images = mnist.test_images()\n",
    "test_labels = mnist.test_labels()"
   ]
  },
  {
   "cell_type": "code",
   "execution_count": 8,
   "id": "fc38cf1b",
   "metadata": {
    "execution": {
     "iopub.execute_input": "2022-02-25T00:29:29.788160Z",
     "iopub.status.busy": "2022-02-25T00:29:29.787616Z",
     "iopub.status.idle": "2022-02-25T00:29:29.795249Z",
     "shell.execute_reply": "2022-02-25T00:29:29.794785Z"
    },
    "papermill": {
     "duration": 0.048222,
     "end_time": "2022-02-25T00:29:29.795369",
     "exception": false,
     "start_time": "2022-02-25T00:29:29.747147",
     "status": "completed"
    },
    "tags": []
   },
   "outputs": [
    {
     "data": {
      "text/plain": [
       "((10000, 28, 28), (10000,))"
      ]
     },
     "execution_count": 8,
     "metadata": {},
     "output_type": "execute_result"
    }
   ],
   "source": [
    "test_images.shape, test_labels.shape"
   ]
  },
  {
   "cell_type": "code",
   "execution_count": 9,
   "id": "f9ed8fe0",
   "metadata": {
    "execution": {
     "iopub.execute_input": "2022-02-25T00:29:29.878299Z",
     "iopub.status.busy": "2022-02-25T00:29:29.861030Z",
     "iopub.status.idle": "2022-02-25T00:29:29.995341Z",
     "shell.execute_reply": "2022-02-25T00:29:29.995773Z"
    },
    "papermill": {
     "duration": 0.174991,
     "end_time": "2022-02-25T00:29:29.995912",
     "exception": false,
     "start_time": "2022-02-25T00:29:29.820921",
     "status": "completed"
    },
    "tags": []
   },
   "outputs": [
    {
     "name": "stdout",
     "output_type": "stream",
     "text": [
      "2\n"
     ]
    },
    {
     "data": {
      "text/plain": [
       "<matplotlib.image.AxesImage at 0x7f6ab5b58630>"
      ]
     },
     "execution_count": 9,
     "metadata": {},
     "output_type": "execute_result"
    },
    {
     "data": {
      "image/png": "[encoded data removed]",
      "text/plain": [
       "<Figure size 432x288 with 1 Axes>"
      ]
     },
     "metadata": {
      "needs_background": "light"
     },
     "output_type": "display_data"
    }
   ],
   "source": [
    "image_index = 7776 # You may select anything up to 60,000\n",
    "print(train_labels[image_index]) \n",
    "plt.imshow(train_images[image_index], cmap='Greys')"
   ]
  },
  {
   "cell_type": "markdown",
   "id": "a8d2388d",
   "metadata": {
    "papermill": {
     "duration": 0.026783,
     "end_time": "2022-02-25T00:29:30.049902",
     "exception": false,
     "start_time": "2022-02-25T00:29:30.023119",
     "status": "completed"
    },
    "tags": []
   },
   "source": [
    "## Filter data to get 3 and 8 out"
   ]
  },
  {
   "cell_type": "code",
   "execution_count": 10,
   "id": "776f7fc7",
   "metadata": {
    "execution": {
     "iopub.execute_input": "2022-02-25T00:29:30.122892Z",
     "iopub.status.busy": "2022-02-25T00:29:30.122290Z",
     "iopub.status.idle": "2022-02-25T00:29:30.133059Z",
     "shell.execute_reply": "2022-02-25T00:29:30.132614Z"
    },
    "papermill": {
     "duration": 0.056511,
     "end_time": "2022-02-25T00:29:30.133179",
     "exception": false,
     "start_time": "2022-02-25T00:29:30.076668",
     "status": "completed"
    },
    "tags": []
   },
   "outputs": [],
   "source": [
    "train_filter = np.where((train_labels == 3 ) | (train_labels == 8))\n",
    "test_filter = np.where((test_labels == 3) | (test_labels == 8))\n",
    "X_train, y_train = train_images[train_filter], train_labels[train_filter]\n",
    "X_test, y_test = test_images[test_filter], test_labels[test_filter]"
   ]
  },
  {
   "cell_type": "markdown",
   "id": "948f0b7e",
   "metadata": {
    "papermill": {
     "duration": 0.026904,
     "end_time": "2022-02-25T00:29:30.186979",
     "exception": false,
     "start_time": "2022-02-25T00:29:30.160075",
     "status": "completed"
    },
    "tags": []
   },
   "source": [
    "We normalize the pizel values in the 0 to 1 range"
   ]
  },
  {
   "cell_type": "code",
   "execution_count": 11,
   "id": "ee4c2166",
   "metadata": {
    "execution": {
     "iopub.execute_input": "2022-02-25T00:29:30.246637Z",
     "iopub.status.busy": "2022-02-25T00:29:30.246092Z",
     "iopub.status.idle": "2022-02-25T00:29:30.294412Z",
     "shell.execute_reply": "2022-02-25T00:29:30.293903Z"
    },
    "papermill": {
     "duration": 0.080699,
     "end_time": "2022-02-25T00:29:30.294535",
     "exception": false,
     "start_time": "2022-02-25T00:29:30.213836",
     "status": "completed"
    },
    "tags": []
   },
   "outputs": [],
   "source": [
    "X_train = X_train/255.\n",
    "X_test = X_test/255."
   ]
  },
  {
   "cell_type": "markdown",
   "id": "ddcf4fab",
   "metadata": {
    "papermill": {
     "duration": 0.026871,
     "end_time": "2022-02-25T00:29:30.348313",
     "exception": false,
     "start_time": "2022-02-25T00:29:30.321442",
     "status": "completed"
    },
    "tags": []
   },
   "source": [
    "And setup the labels as 1 (when the digit is 3) and 0 (when the digit is 8)"
   ]
  },
  {
   "cell_type": "code",
   "execution_count": 12,
   "id": "7dc908f2",
   "metadata": {
    "execution": {
     "iopub.execute_input": "2022-02-25T00:29:30.408367Z",
     "iopub.status.busy": "2022-02-25T00:29:30.407838Z",
     "iopub.status.idle": "2022-02-25T00:29:30.417938Z",
     "shell.execute_reply": "2022-02-25T00:29:30.418377Z"
    },
    "papermill": {
     "duration": 0.043737,
     "end_time": "2022-02-25T00:29:30.418516",
     "exception": false,
     "start_time": "2022-02-25T00:29:30.374779",
     "status": "completed"
    },
    "tags": []
   },
   "outputs": [],
   "source": [
    "y_train = 1*(y_train==3)\n",
    "y_test = 1*(y_test==3)"
   ]
  },
  {
   "cell_type": "code",
   "execution_count": 13,
   "id": "01e4e969",
   "metadata": {
    "execution": {
     "iopub.execute_input": "2022-02-25T00:29:30.476077Z",
     "iopub.status.busy": "2022-02-25T00:29:30.475569Z",
     "iopub.status.idle": "2022-02-25T00:29:30.489430Z",
     "shell.execute_reply": "2022-02-25T00:29:30.488985Z"
    },
    "papermill": {
     "duration": 0.044355,
     "end_time": "2022-02-25T00:29:30.489542",
     "exception": false,
     "start_time": "2022-02-25T00:29:30.445187",
     "status": "completed"
    },
    "tags": []
   },
   "outputs": [
    {
     "data": {
      "text/plain": [
       "((11982, 28, 28), (1984, 28, 28))"
      ]
     },
     "execution_count": 13,
     "metadata": {},
     "output_type": "execute_result"
    }
   ],
   "source": [
    "X_train.shape, X_test.shape"
   ]
  },
  {
   "cell_type": "markdown",
   "id": "5ccf3f85",
   "metadata": {
    "papermill": {
     "duration": 0.026892,
     "end_time": "2022-02-25T00:29:30.543348",
     "exception": false,
     "start_time": "2022-02-25T00:29:30.516456",
     "status": "completed"
    },
    "tags": []
   },
   "source": [
    "We reshape the data to flatten the image pixels into a set of features or co-variates:"
   ]
  },
  {
   "cell_type": "code",
   "execution_count": 14,
   "id": "5286a4a3",
   "metadata": {
    "execution": {
     "iopub.execute_input": "2022-02-25T00:29:30.615845Z",
     "iopub.status.busy": "2022-02-25T00:29:30.611770Z",
     "iopub.status.idle": "2022-02-25T00:29:30.618492Z",
     "shell.execute_reply": "2022-02-25T00:29:30.618899Z"
    },
    "papermill": {
     "duration": 0.048757,
     "end_time": "2022-02-25T00:29:30.619042",
     "exception": false,
     "start_time": "2022-02-25T00:29:30.570285",
     "status": "completed"
    },
    "tags": []
   },
   "outputs": [
    {
     "data": {
      "text/plain": [
       "((11982, 784), (1984, 784))"
      ]
     },
     "execution_count": 14,
     "metadata": {},
     "output_type": "execute_result"
    }
   ],
   "source": [
    "X_train = X_train.reshape(X_train.shape[0], -1)\n",
    "X_test = X_test.reshape(X_test.shape[0], -1)\n",
    "X_train.shape, X_test.shape"
   ]
  },
  {
   "cell_type": "code",
   "execution_count": 15,
   "id": "73c5f88a",
   "metadata": {
    "execution": {
     "iopub.execute_input": "2022-02-25T00:29:30.681447Z",
     "iopub.status.busy": "2022-02-25T00:29:30.680906Z",
     "iopub.status.idle": "2022-02-25T00:29:30.700499Z",
     "shell.execute_reply": "2022-02-25T00:29:30.700921Z"
    },
    "papermill": {
     "duration": 0.054891,
     "end_time": "2022-02-25T00:29:30.701059",
     "exception": false,
     "start_time": "2022-02-25T00:29:30.646168",
     "status": "completed"
    },
    "tags": []
   },
   "outputs": [],
   "source": [
    "#Impoting functions from 'Kudzu'\n",
    "from kudzu.model import Model\n",
    "from kudzu.train import Learner\n",
    "from kudzu.optim import GD\n",
    "from kudzu.data import Data, Sampler,Dataloader\n",
    "\n",
    "from kudzu.callbacks import AccCallback\n",
    "from kudzu.callbacks import ClfCallback\n",
    "\n",
    "from kudzu.loss import MSE\n",
    "\n",
    "from kudzu.layer import Sigmoid,Relu\n",
    "from kudzu.layer import Affine"
   ]
  },
  {
   "cell_type": "markdown",
   "id": "bc01172a",
   "metadata": {
    "papermill": {
     "duration": 0.027197,
     "end_time": "2022-02-25T00:29:30.755891",
     "exception": false,
     "start_time": "2022-02-25T00:29:30.728694",
     "status": "completed"
    },
    "tags": []
   },
   "source": [
    "### Let us create a `Config` class, to store important parameters. \n",
    "This class essentially plays the role of a dictionary."
   ]
  },
  {
   "cell_type": "code",
   "execution_count": 16,
   "id": "978281aa",
   "metadata": {
    "execution": {
     "iopub.execute_input": "2022-02-25T00:29:30.814238Z",
     "iopub.status.busy": "2022-02-25T00:29:30.813714Z",
     "iopub.status.idle": "2022-02-25T00:29:30.827532Z",
     "shell.execute_reply": "2022-02-25T00:29:30.826580Z"
    },
    "papermill": {
     "duration": 0.044573,
     "end_time": "2022-02-25T00:29:30.827647",
     "exception": false,
     "start_time": "2022-02-25T00:29:30.783074",
     "status": "completed"
    },
    "tags": []
   },
   "outputs": [],
   "source": [
    "class Config:\n",
    "    pass\n",
    "config = Config()\n",
    "config.lr = 0.001\n",
    "config.num_epochs = 250\n",
    "config.bs = 50"
   ]
  },
  {
   "cell_type": "markdown",
   "id": "1385fa59",
   "metadata": {
    "papermill": {
     "duration": 0.027043,
     "end_time": "2022-02-25T00:29:30.881930",
     "exception": false,
     "start_time": "2022-02-25T00:29:30.854887",
     "status": "completed"
    },
    "tags": []
   },
   "source": [
    "### Running Models with the Training data\n",
    "Details about the network layers:\n",
    "- A first affine layer has 784 inputs and does 100 affine transforms. These are followed by a Relu\n",
    "- A second affine layer has 100 inputs from the 100 activations of the past layer, and does 100 affine transforms. These are followed by a Relu\n",
    "- A third affine layer has 100 activations and does 2 affine transformations to create an embedding for visualization. There is no non-linearity here.\n",
    "- A final \"logistic regression\" which has an affine transform from 2 inputs to 1 output, which is squeezed through a sigmoid.\n"
   ]
  },
  {
   "cell_type": "code",
   "execution_count": 17,
   "id": "2b9c66db",
   "metadata": {
    "execution": {
     "iopub.execute_input": "2022-02-25T00:29:30.941123Z",
     "iopub.status.busy": "2022-02-25T00:29:30.939788Z",
     "iopub.status.idle": "2022-02-25T00:29:30.952286Z",
     "shell.execute_reply": "2022-02-25T00:29:30.951818Z"
    },
    "papermill": {
     "duration": 0.04325,
     "end_time": "2022-02-25T00:29:30.952398",
     "exception": false,
     "start_time": "2022-02-25T00:29:30.909148",
     "status": "completed"
    },
    "tags": []
   },
   "outputs": [],
   "source": [
    "data = Data(X_train, y_train.reshape(-1,1))\n",
    "sampler = Sampler(data, config.bs, shuffle=True)\n",
    "\n",
    "dl = Dataloader(data, sampler)\n",
    "\n",
    "opt = GD(config.lr)\n",
    "loss = MSE()"
   ]
  },
  {
   "cell_type": "code",
   "execution_count": 18,
   "id": "b275e4c2",
   "metadata": {
    "execution": {
     "iopub.execute_input": "2022-02-25T00:29:31.024866Z",
     "iopub.status.busy": "2022-02-25T00:29:31.012135Z",
     "iopub.status.idle": "2022-02-25T00:29:31.028114Z",
     "shell.execute_reply": "2022-02-25T00:29:31.027680Z"
    },
    "papermill": {
     "duration": 0.04852,
     "end_time": "2022-02-25T00:29:31.028230",
     "exception": false,
     "start_time": "2022-02-25T00:29:30.979710",
     "status": "completed"
    },
    "tags": []
   },
   "outputs": [],
   "source": [
    "training_data_x = X_train\n",
    "testing_data_x = X_test\n",
    "training_data_y = y_train.reshape(-1,1)\n",
    "testing_data_y = y_test.reshape(-1,1)"
   ]
  },
  {
   "cell_type": "code",
   "execution_count": 19,
   "id": "76951160",
   "metadata": {
    "execution": {
     "iopub.execute_input": "2022-02-25T00:29:31.087394Z",
     "iopub.status.busy": "2022-02-25T00:29:31.086818Z",
     "iopub.status.idle": "2022-02-25T00:29:31.103719Z",
     "shell.execute_reply": "2022-02-25T00:29:31.103285Z"
    },
    "papermill": {
     "duration": 0.048388,
     "end_time": "2022-02-25T00:29:31.103870",
     "exception": false,
     "start_time": "2022-02-25T00:29:31.055482",
     "status": "completed"
    },
    "tags": []
   },
   "outputs": [
    {
     "name": "stdout",
     "output_type": "stream",
     "text": [
      "xavier\n",
      "xavier\n",
      "xavier\n",
      "xavier\n",
      "xavier\n"
     ]
    }
   ],
   "source": [
    "layers = [Affine(\"first\", 784, 100), Relu(\"first\"), Affine(\"second\", 100, 100), Relu(\"second\"), Affine(\"third\", 100, 2), Affine(\"last\", 2, 1), Sigmoid(\"last\")]\n",
    "model_nn = Model(layers)\n",
    "model_lr = Model([Affine(\"logits\", 784, 1), Sigmoid(\"sigmoid\")])"
   ]
  },
  {
   "cell_type": "code",
   "execution_count": 20,
   "id": "6eede77a",
   "metadata": {
    "execution": {
     "iopub.execute_input": "2022-02-25T00:29:31.165744Z",
     "iopub.status.busy": "2022-02-25T00:29:31.165225Z",
     "iopub.status.idle": "2022-02-25T00:29:31.176801Z",
     "shell.execute_reply": "2022-02-25T00:29:31.177214Z"
    },
    "papermill": {
     "duration": 0.045197,
     "end_time": "2022-02-25T00:29:31.177349",
     "exception": false,
     "start_time": "2022-02-25T00:29:31.132152",
     "status": "completed"
    },
    "tags": []
   },
   "outputs": [],
   "source": [
    "nn_learner = Learner(loss, model_nn, opt, config.num_epochs)\n",
    "acc_nn = ClfCallback(nn_learner, config.bs, training_data_x , testing_data_x, training_data_y, testing_data_y)\n",
    "nn_learner.set_callbacks([acc_nn])"
   ]
  },
  {
   "cell_type": "code",
   "execution_count": 21,
   "id": "877b6cc7",
   "metadata": {
    "execution": {
     "iopub.execute_input": "2022-02-25T00:29:31.248268Z",
     "iopub.status.busy": "2022-02-25T00:29:31.243420Z",
     "iopub.status.idle": "2022-02-25T00:29:31.251926Z",
     "shell.execute_reply": "2022-02-25T00:29:31.251451Z"
    },
    "papermill": {
     "duration": 0.047164,
     "end_time": "2022-02-25T00:29:31.252043",
     "exception": false,
     "start_time": "2022-02-25T00:29:31.204879",
     "status": "completed"
    },
    "tags": []
   },
   "outputs": [],
   "source": [
    "lr_learner = Learner(loss, model_lr, opt, config.num_epochs)\n",
    "acc_lr = ClfCallback(lr_learner, config.bs, training_data_x , testing_data_x, training_data_y, testing_data_y)\n",
    "lr_learner.set_callbacks([acc_lr])"
   ]
  },
  {
   "cell_type": "code",
   "execution_count": 22,
   "id": "d9b133c3",
   "metadata": {
    "execution": {
     "iopub.execute_input": "2022-02-25T00:29:31.323608Z",
     "iopub.status.busy": "2022-02-25T00:29:31.319697Z",
     "iopub.status.idle": "2022-02-25T00:30:49.285087Z",
     "shell.execute_reply": "2022-02-25T00:30:49.285834Z"
    },
    "papermill": {
     "duration": 78.006364,
     "end_time": "2022-02-25T00:30:49.285983",
     "exception": false,
     "start_time": "2022-02-25T00:29:31.279619",
     "status": "completed"
    },
    "tags": []
   },
   "outputs": [
    {
     "name": "stdout",
     "output_type": "stream",
     "text": [
      "Epoch 0, Loss 0.2307\n",
      "Training Accuracy: 0.5796, Testing Accuracy: 0.5922\n",
      "\n"
     ]
    },
    {
     "name": "stdout",
     "output_type": "stream",
     "text": [
      "Epoch 10, Loss 0.1015\n",
      "Training Accuracy: 0.9126, Testing Accuracy: 0.9209\n",
      "\n"
     ]
    },
    {
     "name": "stdout",
     "output_type": "stream",
     "text": [
      "Epoch 20, Loss 0.06\n",
      "Training Accuracy: 0.9401, Testing Accuracy: 0.9526\n",
      "\n"
     ]
    },
    {
     "name": "stdout",
     "output_type": "stream",
     "text": [
      "Epoch 30, Loss 0.0461\n",
      "Training Accuracy: 0.9488, Testing Accuracy: 0.9642\n",
      "\n"
     ]
    },
    {
     "name": "stdout",
     "output_type": "stream",
     "text": [
      "Epoch 40, Loss 0.0395\n",
      "Training Accuracy: 0.9542, Testing Accuracy: 0.9657\n",
      "\n"
     ]
    },
    {
     "name": "stdout",
     "output_type": "stream",
     "text": [
      "Epoch 50, Loss 0.0356\n",
      "Training Accuracy: 0.9579, Testing Accuracy: 0.9677\n",
      "\n"
     ]
    },
    {
     "name": "stdout",
     "output_type": "stream",
     "text": [
      "Epoch 60, Loss 0.0329\n",
      "Training Accuracy: 0.9610, Testing Accuracy: 0.9688\n",
      "\n"
     ]
    },
    {
     "name": "stdout",
     "output_type": "stream",
     "text": [
      "Epoch 70, Loss 0.031\n",
      "Training Accuracy: 0.9629, Testing Accuracy: 0.9688\n",
      "\n"
     ]
    },
    {
     "name": "stdout",
     "output_type": "stream",
     "text": [
      "Epoch 80, Loss 0.0294\n",
      "Training Accuracy: 0.9656, Testing Accuracy: 0.9682\n",
      "\n"
     ]
    },
    {
     "name": "stdout",
     "output_type": "stream",
     "text": [
      "Epoch 90, Loss 0.0281\n",
      "Training Accuracy: 0.9668, Testing Accuracy: 0.9698\n",
      "\n"
     ]
    },
    {
     "name": "stdout",
     "output_type": "stream",
     "text": [
      "Epoch 100, Loss 0.0271\n",
      "Training Accuracy: 0.9680, Testing Accuracy: 0.9703\n",
      "\n"
     ]
    },
    {
     "name": "stdout",
     "output_type": "stream",
     "text": [
      "Epoch 110, Loss 0.0261\n",
      "Training Accuracy: 0.9690, Testing Accuracy: 0.9708\n",
      "\n"
     ]
    },
    {
     "name": "stdout",
     "output_type": "stream",
     "text": [
      "Epoch 120, Loss 0.0253\n",
      "Training Accuracy: 0.9702, Testing Accuracy: 0.9718\n",
      "\n"
     ]
    },
    {
     "name": "stdout",
     "output_type": "stream",
     "text": [
      "Epoch 130, Loss 0.0246\n",
      "Training Accuracy: 0.9710, Testing Accuracy: 0.9723\n",
      "\n"
     ]
    },
    {
     "name": "stdout",
     "output_type": "stream",
     "text": [
      "Epoch 140, Loss 0.0239\n",
      "Training Accuracy: 0.9719, Testing Accuracy: 0.9728\n",
      "\n"
     ]
    },
    {
     "name": "stdout",
     "output_type": "stream",
     "text": [
      "Epoch 150, Loss 0.0233\n",
      "Training Accuracy: 0.9725, Testing Accuracy: 0.9723\n",
      "\n"
     ]
    },
    {
     "name": "stdout",
     "output_type": "stream",
     "text": [
      "Epoch 160, Loss 0.0227\n",
      "Training Accuracy: 0.9731, Testing Accuracy: 0.9748\n",
      "\n"
     ]
    },
    {
     "name": "stdout",
     "output_type": "stream",
     "text": [
      "Epoch 170, Loss 0.0221\n",
      "Training Accuracy: 0.9742, Testing Accuracy: 0.9748\n",
      "\n"
     ]
    },
    {
     "name": "stdout",
     "output_type": "stream",
     "text": [
      "Epoch 180, Loss 0.0216\n",
      "Training Accuracy: 0.9751, Testing Accuracy: 0.9748\n",
      "\n"
     ]
    },
    {
     "name": "stdout",
     "output_type": "stream",
     "text": [
      "Epoch 190, Loss 0.0211\n",
      "Training Accuracy: 0.9755, Testing Accuracy: 0.9743\n",
      "\n"
     ]
    },
    {
     "name": "stdout",
     "output_type": "stream",
     "text": [
      "Epoch 200, Loss 0.0207\n",
      "Training Accuracy: 0.9763, Testing Accuracy: 0.9743\n",
      "\n"
     ]
    },
    {
     "name": "stdout",
     "output_type": "stream",
     "text": [
      "Epoch 210, Loss 0.0202\n",
      "Training Accuracy: 0.9770, Testing Accuracy: 0.9743\n",
      "\n"
     ]
    },
    {
     "name": "stdout",
     "output_type": "stream",
     "text": [
      "Epoch 220, Loss 0.0198\n",
      "Training Accuracy: 0.9779, Testing Accuracy: 0.9753\n",
      "\n"
     ]
    },
    {
     "name": "stdout",
     "output_type": "stream",
     "text": [
      "Epoch 230, Loss 0.0194\n",
      "Training Accuracy: 0.9785, Testing Accuracy: 0.9753\n",
      "\n"
     ]
    },
    {
     "name": "stdout",
     "output_type": "stream",
     "text": [
      "Epoch 240, Loss 0.019\n",
      "Training Accuracy: 0.9794, Testing Accuracy: 0.9753\n",
      "\n"
     ]
    },
    {
     "data": {
      "text/plain": [
       "0.012672773493827966"
      ]
     },
     "execution_count": 22,
     "metadata": {},
     "output_type": "execute_result"
    }
   ],
   "source": [
    "nn_learner.train_loop(dl)"
   ]
  },
  {
   "cell_type": "code",
   "execution_count": 23,
   "id": "e0163366",
   "metadata": {
    "execution": {
     "iopub.execute_input": "2022-02-25T00:30:49.364533Z",
     "iopub.status.busy": "2022-02-25T00:30:49.364015Z",
     "iopub.status.idle": "2022-02-25T00:31:02.951225Z",
     "shell.execute_reply": "2022-02-25T00:31:02.951968Z"
    },
    "papermill": {
     "duration": 13.631072,
     "end_time": "2022-02-25T00:31:02.952111",
     "exception": false,
     "start_time": "2022-02-25T00:30:49.321039",
     "status": "completed"
    },
    "tags": []
   },
   "outputs": [
    {
     "name": "stdout",
     "output_type": "stream",
     "text": [
      "Epoch 0, Loss 0.225\n",
      "Training Accuracy: 0.7524, Testing Accuracy: 0.7767\n",
      "\n"
     ]
    },
    {
     "name": "stdout",
     "output_type": "stream",
     "text": [
      "Epoch 10, Loss 0.1007\n",
      "Training Accuracy: 0.9101, Testing Accuracy: 0.9199\n",
      "\n"
     ]
    },
    {
     "name": "stdout",
     "output_type": "stream",
     "text": [
      "Epoch 20, Loss 0.078\n",
      "Training Accuracy: 0.9278, Testing Accuracy: 0.9385\n",
      "\n"
     ]
    },
    {
     "name": "stdout",
     "output_type": "stream",
     "text": [
      "Epoch 30, Loss 0.0675\n",
      "Training Accuracy: 0.9354, Testing Accuracy: 0.9476\n",
      "\n"
     ]
    },
    {
     "name": "stdout",
     "output_type": "stream",
     "text": [
      "Epoch 40, Loss 0.0611\n",
      "Training Accuracy: 0.9406, Testing Accuracy: 0.9531\n",
      "\n"
     ]
    },
    {
     "name": "stdout",
     "output_type": "stream",
     "text": [
      "Epoch 50, Loss 0.0567\n",
      "Training Accuracy: 0.9442, Testing Accuracy: 0.9541\n",
      "\n"
     ]
    },
    {
     "name": "stdout",
     "output_type": "stream",
     "text": [
      "Epoch 60, Loss 0.0535\n",
      "Training Accuracy: 0.9479, Testing Accuracy: 0.9561\n",
      "\n"
     ]
    },
    {
     "name": "stdout",
     "output_type": "stream",
     "text": [
      "Epoch 70, Loss 0.051\n",
      "Training Accuracy: 0.9497, Testing Accuracy: 0.9587\n",
      "\n"
     ]
    },
    {
     "name": "stdout",
     "output_type": "stream",
     "text": [
      "Epoch 80, Loss 0.049\n",
      "Training Accuracy: 0.9509, Testing Accuracy: 0.9592\n",
      "\n"
     ]
    },
    {
     "name": "stdout",
     "output_type": "stream",
     "text": [
      "Epoch 90, Loss 0.0474\n",
      "Training Accuracy: 0.9515, Testing Accuracy: 0.9622\n",
      "\n"
     ]
    },
    {
     "name": "stdout",
     "output_type": "stream",
     "text": [
      "Epoch 100, Loss 0.046\n",
      "Training Accuracy: 0.9525, Testing Accuracy: 0.9627\n",
      "\n"
     ]
    },
    {
     "name": "stdout",
     "output_type": "stream",
     "text": [
      "Epoch 110, Loss 0.0448\n",
      "Training Accuracy: 0.9533, Testing Accuracy: 0.9632\n",
      "\n"
     ]
    },
    {
     "name": "stdout",
     "output_type": "stream",
     "text": [
      "Epoch 120, Loss 0.0437\n",
      "Training Accuracy: 0.9543, Testing Accuracy: 0.9637\n",
      "\n"
     ]
    },
    {
     "name": "stdout",
     "output_type": "stream",
     "text": [
      "Epoch 130, Loss 0.0428\n",
      "Training Accuracy: 0.9548, Testing Accuracy: 0.9637\n",
      "\n"
     ]
    },
    {
     "name": "stdout",
     "output_type": "stream",
     "text": [
      "Epoch 140, Loss 0.042\n",
      "Training Accuracy: 0.9554, Testing Accuracy: 0.9637\n",
      "\n"
     ]
    },
    {
     "name": "stdout",
     "output_type": "stream",
     "text": [
      "Epoch 150, Loss 0.0413\n",
      "Training Accuracy: 0.9563, Testing Accuracy: 0.9637\n",
      "\n"
     ]
    },
    {
     "name": "stdout",
     "output_type": "stream",
     "text": [
      "Epoch 160, Loss 0.0406\n",
      "Training Accuracy: 0.9566, Testing Accuracy: 0.9637\n",
      "\n"
     ]
    },
    {
     "name": "stdout",
     "output_type": "stream",
     "text": [
      "Epoch 170, Loss 0.04\n",
      "Training Accuracy: 0.9572, Testing Accuracy: 0.9647\n",
      "\n"
     ]
    },
    {
     "name": "stdout",
     "output_type": "stream",
     "text": [
      "Epoch 180, Loss 0.0395\n",
      "Training Accuracy: 0.9577, Testing Accuracy: 0.9647\n",
      "\n"
     ]
    },
    {
     "name": "stdout",
     "output_type": "stream",
     "text": [
      "Epoch 190, Loss 0.039\n",
      "Training Accuracy: 0.9582, Testing Accuracy: 0.9642\n",
      "\n"
     ]
    },
    {
     "name": "stdout",
     "output_type": "stream",
     "text": [
      "Epoch 200, Loss 0.0385\n",
      "Training Accuracy: 0.9586, Testing Accuracy: 0.9652\n",
      "\n"
     ]
    },
    {
     "name": "stdout",
     "output_type": "stream",
     "text": [
      "Epoch 210, Loss 0.038\n",
      "Training Accuracy: 0.9589, Testing Accuracy: 0.9652\n",
      "\n"
     ]
    },
    {
     "name": "stdout",
     "output_type": "stream",
     "text": [
      "Epoch 220, Loss 0.0376\n",
      "Training Accuracy: 0.9590, Testing Accuracy: 0.9652\n",
      "\n"
     ]
    },
    {
     "name": "stdout",
     "output_type": "stream",
     "text": [
      "Epoch 230, Loss 0.0373\n",
      "Training Accuracy: 0.9591, Testing Accuracy: 0.9657\n",
      "\n"
     ]
    },
    {
     "name": "stdout",
     "output_type": "stream",
     "text": [
      "Epoch 240, Loss 0.0369\n",
      "Training Accuracy: 0.9593, Testing Accuracy: 0.9657\n",
      "\n"
     ]
    },
    {
     "data": {
      "text/plain": [
       "0.04173386950011862"
      ]
     },
     "execution_count": 23,
     "metadata": {},
     "output_type": "execute_result"
    }
   ],
   "source": [
    "lr_learner.train_loop(dl)"
   ]
  },
  {
   "cell_type": "code",
   "execution_count": 24,
   "id": "ca410940",
   "metadata": {
    "execution": {
     "iopub.execute_input": "2022-02-25T00:31:03.044250Z",
     "iopub.status.busy": "2022-02-25T00:31:03.043716Z",
     "iopub.status.idle": "2022-02-25T00:31:03.282319Z",
     "shell.execute_reply": "2022-02-25T00:31:03.281561Z"
    },
    "papermill": {
     "duration": 0.288842,
     "end_time": "2022-02-25T00:31:03.282445",
     "exception": false,
     "start_time": "2022-02-25T00:31:02.993603",
     "status": "completed"
    },
    "tags": []
   },
   "outputs": [
    {
     "data": {
      "text/plain": [
       "<matplotlib.legend.Legend at 0x7f6ab5736c88>"
      ]
     },
     "execution_count": 24,
     "metadata": {},
     "output_type": "execute_result"
    },
    {
     "data": {
      "image/png": "[encoded data removed]",
      "text/plain": [
       "<Figure size 1080x720 with 1 Axes>"
      ]
     },
     "metadata": {
      "needs_background": "light"
     },
     "output_type": "display_data"
    }
   ],
   "source": [
    "#comparing the results of NN and LR\n",
    "plt.figure(figsize=(15,10))\n",
    "\n",
    "# Neural Network plots\n",
    "plt.plot(acc_nn.accuracies, 'r-', label = \"Training Accuracies - NN\")\n",
    "plt.plot(acc_nn.test_accuracies, 'g-', label = \"Testing Accuracies - NN\")\n",
    "\n",
    "# Logistic Regression plots\n",
    "plt.plot(acc_lr.accuracies, 'k-', label = \"Training Accuracies - LR\")\n",
    "plt.plot(acc_lr.test_accuracies, 'b-', label = \"Testing Accuracies - LR\")\n",
    "plt.legend()"
   ]
  },
  {
   "cell_type": "markdown",
   "id": "80dfb35c",
   "metadata": {
    "papermill": {
     "duration": 0.04243,
     "end_time": "2022-02-25T00:31:03.367284",
     "exception": false,
     "start_time": "2022-02-25T00:31:03.324854",
     "status": "completed"
    },
    "tags": []
   },
   "source": [
    "#### Plotting the outputs of this layer of the NN.\n"
   ]
  },
  {
   "cell_type": "code",
   "execution_count": 25,
   "id": "45eb2ff5",
   "metadata": {
    "execution": {
     "iopub.execute_input": "2022-02-25T00:31:03.457140Z",
     "iopub.status.busy": "2022-02-25T00:31:03.456605Z",
     "iopub.status.idle": "2022-02-25T00:31:03.476418Z",
     "shell.execute_reply": "2022-02-25T00:31:03.476840Z"
    },
    "papermill": {
     "duration": 0.067607,
     "end_time": "2022-02-25T00:31:03.476977",
     "exception": false,
     "start_time": "2022-02-25T00:31:03.409370",
     "status": "completed"
    },
    "tags": []
   },
   "outputs": [],
   "source": [
    "new_model = Model(layers[:-2])\n",
    "testing_plot = new_model(testing_data_x)"
   ]
  },
  {
   "cell_type": "code",
   "execution_count": 26,
   "id": "4c0a5485",
   "metadata": {
    "execution": {
     "iopub.execute_input": "2022-02-25T00:31:03.566538Z",
     "iopub.status.busy": "2022-02-25T00:31:03.566026Z",
     "iopub.status.idle": "2022-02-25T00:31:03.749544Z",
     "shell.execute_reply": "2022-02-25T00:31:03.749943Z"
    },
    "papermill": {
     "duration": 0.230687,
     "end_time": "2022-02-25T00:31:03.750087",
     "exception": false,
     "start_time": "2022-02-25T00:31:03.519400",
     "status": "completed"
    },
    "tags": []
   },
   "outputs": [
    {
     "data": {
      "text/plain": [
       "Text(0.5, 1.0, 'Outputs')"
      ]
     },
     "execution_count": 26,
     "metadata": {},
     "output_type": "execute_result"
    },
    {
     "data": {
      "image/png": "[encoded data removed]",
      "text/plain": [
       "<Figure size 576x504 with 1 Axes>"
      ]
     },
     "metadata": {
      "needs_background": "light"
     },
     "output_type": "display_data"
    }
   ],
   "source": [
    "# Plotting the scatter plot of points and color coding by class\n",
    "plt.figure(figsize=(8,7))\n",
    "plt.scatter(testing_plot[:,0], testing_plot[:,1], alpha = 0.1, c = y_test.ravel());\n",
    "plt.title('Outputs')"
   ]
  },
  {
   "cell_type": "markdown",
   "id": "a74fcf8f",
   "metadata": {
    "papermill": {
     "duration": 0.044173,
     "end_time": "2022-02-25T00:31:03.838762",
     "exception": false,
     "start_time": "2022-02-25T00:31:03.794589",
     "status": "completed"
    },
    "tags": []
   },
   "source": [
    "Probability contours"
   ]
  },
  {
   "cell_type": "code",
   "execution_count": 27,
   "id": "d0afc8e3",
   "metadata": {
    "execution": {
     "iopub.execute_input": "2022-02-25T00:31:03.940546Z",
     "iopub.status.busy": "2022-02-25T00:31:03.939645Z",
     "iopub.status.idle": "2022-02-25T00:31:03.946076Z",
     "shell.execute_reply": "2022-02-25T00:31:03.945640Z"
    },
    "papermill": {
     "duration": 0.063078,
     "end_time": "2022-02-25T00:31:03.946185",
     "exception": false,
     "start_time": "2022-02-25T00:31:03.883107",
     "status": "completed"
    },
    "tags": []
   },
   "outputs": [],
   "source": [
    "model_prob = Model(layers[-2:]) "
   ]
  },
  {
   "cell_type": "code",
   "execution_count": 28,
   "id": "9b96e238",
   "metadata": {
    "execution": {
     "iopub.execute_input": "2022-02-25T00:31:04.080577Z",
     "iopub.status.busy": "2022-02-25T00:31:04.079700Z",
     "iopub.status.idle": "2022-02-25T00:31:04.089711Z",
     "shell.execute_reply": "2022-02-25T00:31:04.089199Z"
    },
    "papermill": {
     "duration": 0.069063,
     "end_time": "2022-02-25T00:31:04.089822",
     "exception": false,
     "start_time": "2022-02-25T00:31:04.020759",
     "status": "completed"
    },
    "tags": []
   },
   "outputs": [],
   "source": [
    "#creating the x and y ranges according to the above generated plot.\n",
    "x_range = np.linspace(-4, 1, 100) \n",
    "y_range = np.linspace(-6, 6, 100) \n",
    "x_grid, y_grid = np.meshgrid(x_range, y_range) # x_grid and y_grig are of size 100 X 100\n",
    "\n",
    "# converting x_grid and y_grid to continuous arrays\n",
    "x_gridflat = np.ravel(x_grid)\n",
    "y_gridflat = np.ravel(y_grid)\n",
    "\n",
    "# The last layer of the current model takes two columns as input. Hence transpose of np.vstack() is required.\n",
    "X = np.vstack((x_gridflat, y_gridflat)).T\n",
    "\n",
    "prob_contour = model_prob(X).reshape(100,100) "
   ]
  },
  {
   "cell_type": "code",
   "execution_count": 29,
   "id": "da72499a",
   "metadata": {
    "execution": {
     "iopub.execute_input": "2022-02-25T00:31:04.209471Z",
     "iopub.status.busy": "2022-02-25T00:31:04.196357Z",
     "iopub.status.idle": "2022-02-25T00:31:04.433597Z",
     "shell.execute_reply": "2022-02-25T00:31:04.433155Z"
    },
    "papermill": {
     "duration": 0.299699,
     "end_time": "2022-02-25T00:31:04.433719",
     "exception": false,
     "start_time": "2022-02-25T00:31:04.134020",
     "status": "completed"
    },
    "tags": []
   },
   "outputs": [
    {
     "data": {
      "image/png": "[encoded data removed]",
      "text/plain": [
       "<Figure size 720x648 with 1 Axes>"
      ]
     },
     "metadata": {
      "needs_background": "light"
     },
     "output_type": "display_data"
    }
   ],
   "source": [
    "plt.figure(figsize=(10,9))\n",
    "plt.scatter(testing_plot[:,0], testing_plot[:,1], alpha = 0.1, c = y_test.ravel())\n",
    "contours = plt.contour(x_grid,y_grid,prob_contour)\n",
    "plt.title('Probability Contours')\n",
    "plt.clabel(contours, inline = True );"
   ]
  },
  {
   "cell_type": "code",
   "execution_count": null,
   "id": "e81b4ac7",
   "metadata": {
    "papermill": {
     "duration": 0.046913,
     "end_time": "2022-02-25T00:31:04.528099",
     "exception": false,
     "start_time": "2022-02-25T00:31:04.481186",
     "status": "completed"
    },
    "tags": []
   },
   "outputs": [],
   "source": []
  }
 ],
 "metadata": {
  "kernelspec": {
   "display_name": "Python 3",
   "language": "python",
   "name": "python3"
  },
  "language_info": {
   "codemirror_mode": {
    "name": "ipython",
    "version": 3
   },
   "file_extension": ".py",
   "mimetype": "text/x-python",
   "name": "python",
   "nbconvert_exporter": "python",
   "pygments_lexer": "ipython3",
   "version": "3.6.15"
  },
  "papermill": {
   "default_parameters": {},
   "duration": 100.193462,
   "end_time": "2022-02-25T00:31:04.995162",
   "environment_variables": {},
   "exception": null,
   "input_path": "2020-08-11-part2.ipynb",
   "output_path": "2020-08-11-part2.ipynb",
   "parameters": {},
   "start_time": "2022-02-25T00:29:24.801700",
   "version": "2.3.3"
  }
 },
 "nbformat": 4,
 "nbformat_minor": 5
}