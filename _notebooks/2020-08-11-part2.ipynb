{
 "cells": [
  {
   "cell_type": "markdown",
   "id": "98380cd3",
   "metadata": {
    "papermill": {
     "duration": 0.027805,
     "end_time": "2021-09-17T20:13:49.374168",
     "exception": false,
     "start_time": "2021-09-17T20:13:49.346363",
     "status": "completed"
    },
    "tags": []
   },
   "source": [
    "# Distinguish Your Own Digits (DYOD)"
   ]
  },
  {
   "cell_type": "markdown",
   "id": "ef31240d",
   "metadata": {
    "papermill": {
     "duration": 0.023587,
     "end_time": "2021-09-17T20:13:49.422001",
     "exception": false,
     "start_time": "2021-09-17T20:13:49.398414",
     "status": "completed"
    },
    "tags": []
   },
   "source": [
    "You are going to write a classifier that distinguishes between the number 3 and number 8."
   ]
  },
  {
   "cell_type": "code",
   "execution_count": 1,
   "id": "b15c8646",
   "metadata": {
    "execution": {
     "iopub.execute_input": "2021-09-17T20:13:49.480142Z",
     "iopub.status.busy": "2021-09-17T20:13:49.479630Z",
     "iopub.status.idle": "2021-09-17T20:13:49.490362Z",
     "shell.execute_reply": "2021-09-17T20:13:49.489952Z"
    },
    "papermill": {
     "duration": 0.044937,
     "end_time": "2021-09-17T20:13:49.490483",
     "exception": false,
     "start_time": "2021-09-17T20:13:49.445546",
     "status": "completed"
    },
    "tags": []
   },
   "outputs": [],
   "source": [
    "%load_ext autoreload\n",
    "%autoreload 2"
   ]
  },
  {
   "cell_type": "code",
   "execution_count": 2,
   "id": "22ef38dc",
   "metadata": {
    "execution": {
     "iopub.execute_input": "2021-09-17T20:13:49.550463Z",
     "iopub.status.busy": "2021-09-17T20:13:49.546891Z",
     "iopub.status.idle": "2021-09-17T20:13:50.046315Z",
     "shell.execute_reply": "2021-09-17T20:13:50.045787Z"
    },
    "papermill": {
     "duration": 0.532296,
     "end_time": "2021-09-17T20:13:50.046453",
     "exception": false,
     "start_time": "2021-09-17T20:13:49.514157",
     "status": "completed"
    },
    "tags": []
   },
   "outputs": [],
   "source": [
    "%matplotlib inline\n",
    "import numpy as np\n",
    "import matplotlib.pyplot as plt\n",
    "import pandas as pd"
   ]
  },
  {
   "cell_type": "markdown",
   "id": "ba036198",
   "metadata": {
    "papermill": {
     "duration": 0.02368,
     "end_time": "2021-09-17T20:13:50.094941",
     "exception": false,
     "start_time": "2021-09-17T20:13:50.071261",
     "status": "completed"
    },
    "tags": []
   },
   "source": [
    "From the command line run `pip install mnist`. This is a library that will help you bring down the mnist dataset. If you run this from a notebook, you need to put  `!pip install mnist` in a cell by itself."
   ]
  },
  {
   "cell_type": "code",
   "execution_count": 3,
   "id": "bb6ad8a1",
   "metadata": {
    "execution": {
     "iopub.execute_input": "2021-09-17T20:13:50.147013Z",
     "iopub.status.busy": "2021-09-17T20:13:50.146513Z",
     "iopub.status.idle": "2021-09-17T20:13:51.884540Z",
     "shell.execute_reply": "2021-09-17T20:13:51.883549Z"
    },
    "papermill": {
     "duration": 1.765906,
     "end_time": "2021-09-17T20:13:51.884692",
     "exception": false,
     "start_time": "2021-09-17T20:13:50.118786",
     "status": "completed"
    },
    "tags": []
   },
   "outputs": [
    {
     "name": "stdout",
     "output_type": "stream",
     "text": [
      "Collecting mnist\r\n"
     ]
    },
    {
     "name": "stdout",
     "output_type": "stream",
     "text": [
      "  Downloading mnist-0.2.2-py2.py3-none-any.whl (3.5 kB)\r\n",
      "Requirement already satisfied: numpy in /opt/hostedtoolcache/Python/3.6.15/x64/lib/python3.6/site-packages (from mnist) (1.19.5)\r\n"
     ]
    },
    {
     "name": "stdout",
     "output_type": "stream",
     "text": [
      "Installing collected packages: mnist\r\n"
     ]
    },
    {
     "name": "stdout",
     "output_type": "stream",
     "text": [
      "Successfully installed mnist-0.2.2\r\n"
     ]
    }
   ],
   "source": [
    "!pip install mnist"
   ]
  },
  {
   "cell_type": "markdown",
   "id": "69df9c9a",
   "metadata": {
    "papermill": {
     "duration": 0.024915,
     "end_time": "2021-09-17T20:13:51.934991",
     "exception": false,
     "start_time": "2021-09-17T20:13:51.910076",
     "status": "completed"
    },
    "tags": []
   },
   "source": [
    "## Preparing the Data"
   ]
  },
  {
   "cell_type": "code",
   "execution_count": 4,
   "id": "7f69d806",
   "metadata": {
    "execution": {
     "iopub.execute_input": "2021-09-17T20:13:51.988079Z",
     "iopub.status.busy": "2021-09-17T20:13:51.987566Z",
     "iopub.status.idle": "2021-09-17T20:13:52.001545Z",
     "shell.execute_reply": "2021-09-17T20:13:52.002018Z"
    },
    "papermill": {
     "duration": 0.042463,
     "end_time": "2021-09-17T20:13:52.002142",
     "exception": false,
     "start_time": "2021-09-17T20:13:51.959679",
     "status": "completed"
    },
    "tags": []
   },
   "outputs": [],
   "source": [
    "import mnist"
   ]
  },
  {
   "cell_type": "code",
   "execution_count": 5,
   "id": "a411e44f",
   "metadata": {
    "execution": {
     "iopub.execute_input": "2021-09-17T20:13:52.057313Z",
     "iopub.status.busy": "2021-09-17T20:13:52.056572Z",
     "iopub.status.idle": "2021-09-17T20:13:52.571079Z",
     "shell.execute_reply": "2021-09-17T20:13:52.569965Z"
    },
    "papermill": {
     "duration": 0.544193,
     "end_time": "2021-09-17T20:13:52.571215",
     "exception": false,
     "start_time": "2021-09-17T20:13:52.027022",
     "status": "completed"
    },
    "tags": []
   },
   "outputs": [],
   "source": [
    "train_images = mnist.train_images()\n",
    "train_labels = mnist.train_labels()"
   ]
  },
  {
   "cell_type": "code",
   "execution_count": 6,
   "id": "dceab3a5",
   "metadata": {
    "execution": {
     "iopub.execute_input": "2021-09-17T20:13:52.626235Z",
     "iopub.status.busy": "2021-09-17T20:13:52.624550Z",
     "iopub.status.idle": "2021-09-17T20:13:52.638358Z",
     "shell.execute_reply": "2021-09-17T20:13:52.637928Z"
    },
    "papermill": {
     "duration": 0.041665,
     "end_time": "2021-09-17T20:13:52.638463",
     "exception": false,
     "start_time": "2021-09-17T20:13:52.596798",
     "status": "completed"
    },
    "tags": []
   },
   "outputs": [
    {
     "data": {
      "text/plain": [
       "((60000, 28, 28), (60000,))"
      ]
     },
     "execution_count": 6,
     "metadata": {},
     "output_type": "execute_result"
    }
   ],
   "source": [
    "train_images.shape, train_labels.shape"
   ]
  },
  {
   "cell_type": "code",
   "execution_count": 7,
   "id": "f50dc2bb",
   "metadata": {
    "execution": {
     "iopub.execute_input": "2021-09-17T20:13:52.702633Z",
     "iopub.status.busy": "2021-09-17T20:13:52.702142Z",
     "iopub.status.idle": "2021-09-17T20:13:52.860967Z",
     "shell.execute_reply": "2021-09-17T20:13:52.860461Z"
    },
    "papermill": {
     "duration": 0.197189,
     "end_time": "2021-09-17T20:13:52.861092",
     "exception": false,
     "start_time": "2021-09-17T20:13:52.663903",
     "status": "completed"
    },
    "tags": []
   },
   "outputs": [],
   "source": [
    "test_images = mnist.test_images()\n",
    "test_labels = mnist.test_labels()"
   ]
  },
  {
   "cell_type": "code",
   "execution_count": 8,
   "id": "fc38cf1b",
   "metadata": {
    "execution": {
     "iopub.execute_input": "2021-09-17T20:13:52.922070Z",
     "iopub.status.busy": "2021-09-17T20:13:52.921550Z",
     "iopub.status.idle": "2021-09-17T20:13:52.931134Z",
     "shell.execute_reply": "2021-09-17T20:13:52.930703Z"
    },
    "papermill": {
     "duration": 0.044354,
     "end_time": "2021-09-17T20:13:52.931247",
     "exception": false,
     "start_time": "2021-09-17T20:13:52.886893",
     "status": "completed"
    },
    "tags": []
   },
   "outputs": [
    {
     "data": {
      "text/plain": [
       "((10000, 28, 28), (10000,))"
      ]
     },
     "execution_count": 8,
     "metadata": {},
     "output_type": "execute_result"
    }
   ],
   "source": [
    "test_images.shape, test_labels.shape"
   ]
  },
  {
   "cell_type": "code",
   "execution_count": 9,
   "id": "f9ed8fe0",
   "metadata": {
    "execution": {
     "iopub.execute_input": "2021-09-17T20:13:52.992596Z",
     "iopub.status.busy": "2021-09-17T20:13:52.992093Z",
     "iopub.status.idle": "2021-09-17T20:13:53.120724Z",
     "shell.execute_reply": "2021-09-17T20:13:53.121189Z"
    },
    "papermill": {
     "duration": 0.164533,
     "end_time": "2021-09-17T20:13:53.121345",
     "exception": false,
     "start_time": "2021-09-17T20:13:52.956812",
     "status": "completed"
    },
    "tags": []
   },
   "outputs": [
    {
     "name": "stdout",
     "output_type": "stream",
     "text": [
      "2\n"
     ]
    },
    {
     "data": {
      "text/plain": [
       "<matplotlib.image.AxesImage at 0x7f05289aeda0>"
      ]
     },
     "execution_count": 9,
     "metadata": {},
     "output_type": "execute_result"
    },
    {
     "data": {
      "image/png": "[encoded data removed]",
      "text/plain": [
       "<Figure size 432x288 with 1 Axes>"
      ]
     },
     "metadata": {
      "needs_background": "light"
     },
     "output_type": "display_data"
    }
   ],
   "source": [
    "image_index = 7776 # You may select anything up to 60,000\n",
    "print(train_labels[image_index]) \n",
    "plt.imshow(train_images[image_index], cmap='Greys')"
   ]
  },
  {
   "cell_type": "markdown",
   "id": "a8d2388d",
   "metadata": {
    "papermill": {
     "duration": 0.026448,
     "end_time": "2021-09-17T20:13:53.176745",
     "exception": false,
     "start_time": "2021-09-17T20:13:53.150297",
     "status": "completed"
    },
    "tags": []
   },
   "source": [
    "## Filter data to get 3 and 8 out"
   ]
  },
  {
   "cell_type": "code",
   "execution_count": 10,
   "id": "776f7fc7",
   "metadata": {
    "execution": {
     "iopub.execute_input": "2021-09-17T20:13:53.238257Z",
     "iopub.status.busy": "2021-09-17T20:13:53.237735Z",
     "iopub.status.idle": "2021-09-17T20:13:53.253525Z",
     "shell.execute_reply": "2021-09-17T20:13:53.253963Z"
    },
    "papermill": {
     "duration": 0.050961,
     "end_time": "2021-09-17T20:13:53.254090",
     "exception": false,
     "start_time": "2021-09-17T20:13:53.203129",
     "status": "completed"
    },
    "tags": []
   },
   "outputs": [],
   "source": [
    "train_filter = np.where((train_labels == 3 ) | (train_labels == 8))\n",
    "test_filter = np.where((test_labels == 3) | (test_labels == 8))\n",
    "X_train, y_train = train_images[train_filter], train_labels[train_filter]\n",
    "X_test, y_test = test_images[test_filter], test_labels[test_filter]"
   ]
  },
  {
   "cell_type": "markdown",
   "id": "948f0b7e",
   "metadata": {
    "papermill": {
     "duration": 0.026313,
     "end_time": "2021-09-17T20:13:53.306789",
     "exception": false,
     "start_time": "2021-09-17T20:13:53.280476",
     "status": "completed"
    },
    "tags": []
   },
   "source": [
    "We normalize the pizel values in the 0 to 1 range"
   ]
  },
  {
   "cell_type": "code",
   "execution_count": 11,
   "id": "ee4c2166",
   "metadata": {
    "execution": {
     "iopub.execute_input": "2021-09-17T20:13:53.374151Z",
     "iopub.status.busy": "2021-09-17T20:13:53.366134Z",
     "iopub.status.idle": "2021-09-17T20:13:53.411338Z",
     "shell.execute_reply": "2021-09-17T20:13:53.411795Z"
    },
    "papermill": {
     "duration": 0.078887,
     "end_time": "2021-09-17T20:13:53.411956",
     "exception": false,
     "start_time": "2021-09-17T20:13:53.333069",
     "status": "completed"
    },
    "tags": []
   },
   "outputs": [],
   "source": [
    "X_train = X_train/255.\n",
    "X_test = X_test/255."
   ]
  },
  {
   "cell_type": "markdown",
   "id": "ddcf4fab",
   "metadata": {
    "papermill": {
     "duration": 0.026432,
     "end_time": "2021-09-17T20:13:53.466268",
     "exception": false,
     "start_time": "2021-09-17T20:13:53.439836",
     "status": "completed"
    },
    "tags": []
   },
   "source": [
    "And setup the labels as 1 (when the digit is 3) and 0 (when the digit is 8)"
   ]
  },
  {
   "cell_type": "code",
   "execution_count": 12,
   "id": "7dc908f2",
   "metadata": {
    "execution": {
     "iopub.execute_input": "2021-09-17T20:13:53.534603Z",
     "iopub.status.busy": "2021-09-17T20:13:53.524346Z",
     "iopub.status.idle": "2021-09-17T20:13:53.538157Z",
     "shell.execute_reply": "2021-09-17T20:13:53.537695Z"
    },
    "papermill": {
     "duration": 0.045554,
     "end_time": "2021-09-17T20:13:53.538269",
     "exception": false,
     "start_time": "2021-09-17T20:13:53.492715",
     "status": "completed"
    },
    "tags": []
   },
   "outputs": [],
   "source": [
    "y_train = 1*(y_train==3)\n",
    "y_test = 1*(y_test==3)"
   ]
  },
  {
   "cell_type": "code",
   "execution_count": 13,
   "id": "01e4e969",
   "metadata": {
    "execution": {
     "iopub.execute_input": "2021-09-17T20:13:53.595917Z",
     "iopub.status.busy": "2021-09-17T20:13:53.595413Z",
     "iopub.status.idle": "2021-09-17T20:13:53.607588Z",
     "shell.execute_reply": "2021-09-17T20:13:53.607147Z"
    },
    "papermill": {
     "duration": 0.042816,
     "end_time": "2021-09-17T20:13:53.607696",
     "exception": false,
     "start_time": "2021-09-17T20:13:53.564880",
     "status": "completed"
    },
    "tags": []
   },
   "outputs": [
    {
     "data": {
      "text/plain": [
       "((11982, 28, 28), (1984, 28, 28))"
      ]
     },
     "execution_count": 13,
     "metadata": {},
     "output_type": "execute_result"
    }
   ],
   "source": [
    "X_train.shape, X_test.shape"
   ]
  },
  {
   "cell_type": "markdown",
   "id": "5ccf3f85",
   "metadata": {
    "papermill": {
     "duration": 0.026585,
     "end_time": "2021-09-17T20:13:53.660970",
     "exception": false,
     "start_time": "2021-09-17T20:13:53.634385",
     "status": "completed"
    },
    "tags": []
   },
   "source": [
    "We reshape the data to flatten the image pixels into a set of features or co-variates:"
   ]
  },
  {
   "cell_type": "code",
   "execution_count": 14,
   "id": "5286a4a3",
   "metadata": {
    "execution": {
     "iopub.execute_input": "2021-09-17T20:13:53.719105Z",
     "iopub.status.busy": "2021-09-17T20:13:53.718596Z",
     "iopub.status.idle": "2021-09-17T20:13:53.731418Z",
     "shell.execute_reply": "2021-09-17T20:13:53.731014Z"
    },
    "papermill": {
     "duration": 0.042702,
     "end_time": "2021-09-17T20:13:53.731526",
     "exception": false,
     "start_time": "2021-09-17T20:13:53.688824",
     "status": "completed"
    },
    "tags": []
   },
   "outputs": [
    {
     "data": {
      "text/plain": [
       "((11982, 784), (1984, 784))"
      ]
     },
     "execution_count": 14,
     "metadata": {},
     "output_type": "execute_result"
    }
   ],
   "source": [
    "X_train = X_train.reshape(X_train.shape[0], -1)\n",
    "X_test = X_test.reshape(X_test.shape[0], -1)\n",
    "X_train.shape, X_test.shape"
   ]
  },
  {
   "cell_type": "code",
   "execution_count": 15,
   "id": "73c5f88a",
   "metadata": {
    "execution": {
     "iopub.execute_input": "2021-09-17T20:13:53.791963Z",
     "iopub.status.busy": "2021-09-17T20:13:53.791458Z",
     "iopub.status.idle": "2021-09-17T20:13:53.806565Z",
     "shell.execute_reply": "2021-09-17T20:13:53.806944Z"
    },
    "papermill": {
     "duration": 0.048688,
     "end_time": "2021-09-17T20:13:53.807065",
     "exception": false,
     "start_time": "2021-09-17T20:13:53.758377",
     "status": "completed"
    },
    "tags": []
   },
   "outputs": [],
   "source": [
    "#Impoting functions from 'Kudzu'\n",
    "from kudzu.model import Model\n",
    "from kudzu.train import Learner\n",
    "from kudzu.optim import GD\n",
    "from kudzu.data import Data, Sampler,Dataloader\n",
    "\n",
    "from kudzu.callbacks import AccCallback\n",
    "from kudzu.callbacks import ClfCallback\n",
    "\n",
    "from kudzu.loss import MSE\n",
    "\n",
    "from kudzu.layer import Sigmoid,Relu\n",
    "from kudzu.layer import Affine"
   ]
  },
  {
   "cell_type": "markdown",
   "id": "bc01172a",
   "metadata": {
    "papermill": {
     "duration": 0.026724,
     "end_time": "2021-09-17T20:13:53.860642",
     "exception": false,
     "start_time": "2021-09-17T20:13:53.833918",
     "status": "completed"
    },
    "tags": []
   },
   "source": [
    "### Let us create a `Config` class, to store important parameters. \n",
    "This class essentially plays the role of a dictionary."
   ]
  },
  {
   "cell_type": "code",
   "execution_count": 16,
   "id": "978281aa",
   "metadata": {
    "execution": {
     "iopub.execute_input": "2021-09-17T20:13:53.918243Z",
     "iopub.status.busy": "2021-09-17T20:13:53.917714Z",
     "iopub.status.idle": "2021-09-17T20:13:53.929580Z",
     "shell.execute_reply": "2021-09-17T20:13:53.929123Z"
    },
    "papermill": {
     "duration": 0.042309,
     "end_time": "2021-09-17T20:13:53.929694",
     "exception": false,
     "start_time": "2021-09-17T20:13:53.887385",
     "status": "completed"
    },
    "tags": []
   },
   "outputs": [],
   "source": [
    "class Config:\n",
    "    pass\n",
    "config = Config()\n",
    "config.lr = 0.001\n",
    "config.num_epochs = 250\n",
    "config.bs = 50"
   ]
  },
  {
   "cell_type": "markdown",
   "id": "1385fa59",
   "metadata": {
    "papermill": {
     "duration": 0.027062,
     "end_time": "2021-09-17T20:13:53.984069",
     "exception": false,
     "start_time": "2021-09-17T20:13:53.957007",
     "status": "completed"
    },
    "tags": []
   },
   "source": [
    "### Running Models with the Training data\n",
    "Details about the network layers:\n",
    "- A first affine layer has 784 inputs and does 100 affine transforms. These are followed by a Relu\n",
    "- A second affine layer has 100 inputs from the 100 activations of the past layer, and does 100 affine transforms. These are followed by a Relu\n",
    "- A third affine layer has 100 activations and does 2 affine transformations to create an embedding for visualization. There is no non-linearity here.\n",
    "- A final \"logistic regression\" which has an affine transform from 2 inputs to 1 output, which is squeezed through a sigmoid.\n"
   ]
  },
  {
   "cell_type": "code",
   "execution_count": 17,
   "id": "2b9c66db",
   "metadata": {
    "execution": {
     "iopub.execute_input": "2021-09-17T20:13:54.045235Z",
     "iopub.status.busy": "2021-09-17T20:13:54.044728Z",
     "iopub.status.idle": "2021-09-17T20:13:54.055191Z",
     "shell.execute_reply": "2021-09-17T20:13:54.054783Z"
    },
    "papermill": {
     "duration": 0.044085,
     "end_time": "2021-09-17T20:13:54.055302",
     "exception": false,
     "start_time": "2021-09-17T20:13:54.011217",
     "status": "completed"
    },
    "tags": []
   },
   "outputs": [],
   "source": [
    "data = Data(X_train, y_train.reshape(-1,1))\n",
    "sampler = Sampler(data, config.bs, shuffle=True)\n",
    "\n",
    "dl = Dataloader(data, sampler)\n",
    "\n",
    "opt = GD(config.lr)\n",
    "loss = MSE()"
   ]
  },
  {
   "cell_type": "code",
   "execution_count": 18,
   "id": "b275e4c2",
   "metadata": {
    "execution": {
     "iopub.execute_input": "2021-09-17T20:13:54.116810Z",
     "iopub.status.busy": "2021-09-17T20:13:54.116275Z",
     "iopub.status.idle": "2021-09-17T20:13:54.125708Z",
     "shell.execute_reply": "2021-09-17T20:13:54.126093Z"
    },
    "papermill": {
     "duration": 0.043938,
     "end_time": "2021-09-17T20:13:54.126217",
     "exception": false,
     "start_time": "2021-09-17T20:13:54.082279",
     "status": "completed"
    },
    "tags": []
   },
   "outputs": [],
   "source": [
    "training_data_x = X_train\n",
    "testing_data_x = X_test\n",
    "training_data_y = y_train.reshape(-1,1)\n",
    "testing_data_y = y_test.reshape(-1,1)"
   ]
  },
  {
   "cell_type": "code",
   "execution_count": 19,
   "id": "76951160",
   "metadata": {
    "execution": {
     "iopub.execute_input": "2021-09-17T20:13:54.183414Z",
     "iopub.status.busy": "2021-09-17T20:13:54.182911Z",
     "iopub.status.idle": "2021-09-17T20:13:54.197986Z",
     "shell.execute_reply": "2021-09-17T20:13:54.197556Z"
    },
    "papermill": {
     "duration": 0.045129,
     "end_time": "2021-09-17T20:13:54.198090",
     "exception": false,
     "start_time": "2021-09-17T20:13:54.152961",
     "status": "completed"
    },
    "tags": []
   },
   "outputs": [
    {
     "name": "stdout",
     "output_type": "stream",
     "text": [
      "xavier\n",
      "xavier\n",
      "xavier\n",
      "xavier\n",
      "xavier\n"
     ]
    }
   ],
   "source": [
    "layers = [Affine(\"first\", 784, 100), Relu(\"first\"), Affine(\"second\", 100, 100), Relu(\"second\"), Affine(\"third\", 100, 2), Affine(\"last\", 2, 1), Sigmoid(\"last\")]\n",
    "model_nn = Model(layers)\n",
    "model_lr = Model([Affine(\"logits\", 784, 1), Sigmoid(\"sigmoid\")])"
   ]
  },
  {
   "cell_type": "code",
   "execution_count": 20,
   "id": "6eede77a",
   "metadata": {
    "execution": {
     "iopub.execute_input": "2021-09-17T20:13:54.255741Z",
     "iopub.status.busy": "2021-09-17T20:13:54.255240Z",
     "iopub.status.idle": "2021-09-17T20:13:54.266108Z",
     "shell.execute_reply": "2021-09-17T20:13:54.266571Z"
    },
    "papermill": {
     "duration": 0.041327,
     "end_time": "2021-09-17T20:13:54.266685",
     "exception": false,
     "start_time": "2021-09-17T20:13:54.225358",
     "status": "completed"
    },
    "tags": []
   },
   "outputs": [],
   "source": [
    "nn_learner = Learner(loss, model_nn, opt, config.num_epochs)\n",
    "acc_nn = ClfCallback(nn_learner, config.bs, training_data_x , testing_data_x, training_data_y, testing_data_y)\n",
    "nn_learner.set_callbacks([acc_nn])"
   ]
  },
  {
   "cell_type": "code",
   "execution_count": 21,
   "id": "877b6cc7",
   "metadata": {
    "execution": {
     "iopub.execute_input": "2021-09-17T20:13:54.328803Z",
     "iopub.status.busy": "2021-09-17T20:13:54.328305Z",
     "iopub.status.idle": "2021-09-17T20:13:54.337021Z",
     "shell.execute_reply": "2021-09-17T20:13:54.336600Z"
    },
    "papermill": {
     "duration": 0.043223,
     "end_time": "2021-09-17T20:13:54.337122",
     "exception": false,
     "start_time": "2021-09-17T20:13:54.293899",
     "status": "completed"
    },
    "tags": []
   },
   "outputs": [],
   "source": [
    "lr_learner = Learner(loss, model_lr, opt, config.num_epochs)\n",
    "acc_lr = ClfCallback(lr_learner, config.bs, training_data_x , testing_data_x, training_data_y, testing_data_y)\n",
    "lr_learner.set_callbacks([acc_lr])"
   ]
  },
  {
   "cell_type": "code",
   "execution_count": 22,
   "id": "d9b133c3",
   "metadata": {
    "execution": {
     "iopub.execute_input": "2021-09-17T20:13:54.394196Z",
     "iopub.status.busy": "2021-09-17T20:13:54.393693Z",
     "iopub.status.idle": "2021-09-17T20:15:08.668806Z",
     "shell.execute_reply": "2021-09-17T20:15:08.669556Z"
    },
    "papermill": {
     "duration": 74.305484,
     "end_time": "2021-09-17T20:15:08.669712",
     "exception": false,
     "start_time": "2021-09-17T20:13:54.364228",
     "status": "completed"
    },
    "tags": []
   },
   "outputs": [
    {
     "name": "stdout",
     "output_type": "stream",
     "text": [
      "Epoch 0, Loss 0.2616\n",
      "Training Accuracy: 0.4846, Testing Accuracy: 0.4682\n",
      "\n"
     ]
    },
    {
     "name": "stdout",
     "output_type": "stream",
     "text": [
      "Epoch 10, Loss 0.1273\n",
      "Training Accuracy: 0.9014, Testing Accuracy: 0.9073\n",
      "\n"
     ]
    },
    {
     "name": "stdout",
     "output_type": "stream",
     "text": [
      "Epoch 20, Loss 0.0663\n",
      "Training Accuracy: 0.9342, Testing Accuracy: 0.9410\n",
      "\n"
     ]
    },
    {
     "name": "stdout",
     "output_type": "stream",
     "text": [
      "Epoch 30, Loss 0.049\n",
      "Training Accuracy: 0.9459, Testing Accuracy: 0.9561\n",
      "\n"
     ]
    },
    {
     "name": "stdout",
     "output_type": "stream",
     "text": [
      "Epoch 40, Loss 0.0413\n",
      "Training Accuracy: 0.9548, Testing Accuracy: 0.9602\n",
      "\n"
     ]
    },
    {
     "name": "stdout",
     "output_type": "stream",
     "text": [
      "Epoch 50, Loss 0.0369\n",
      "Training Accuracy: 0.9589, Testing Accuracy: 0.9632\n",
      "\n"
     ]
    },
    {
     "name": "stdout",
     "output_type": "stream",
     "text": [
      "Epoch 60, Loss 0.034\n",
      "Training Accuracy: 0.9616, Testing Accuracy: 0.9632\n",
      "\n"
     ]
    },
    {
     "name": "stdout",
     "output_type": "stream",
     "text": [
      "Epoch 70, Loss 0.0319\n",
      "Training Accuracy: 0.9634, Testing Accuracy: 0.9652\n",
      "\n"
     ]
    },
    {
     "name": "stdout",
     "output_type": "stream",
     "text": [
      "Epoch 80, Loss 0.0303\n",
      "Training Accuracy: 0.9645, Testing Accuracy: 0.9667\n",
      "\n"
     ]
    },
    {
     "name": "stdout",
     "output_type": "stream",
     "text": [
      "Epoch 90, Loss 0.0291\n",
      "Training Accuracy: 0.9661, Testing Accuracy: 0.9672\n",
      "\n"
     ]
    },
    {
     "name": "stdout",
     "output_type": "stream",
     "text": [
      "Epoch 100, Loss 0.028\n",
      "Training Accuracy: 0.9675, Testing Accuracy: 0.9672\n",
      "\n"
     ]
    },
    {
     "name": "stdout",
     "output_type": "stream",
     "text": [
      "Epoch 110, Loss 0.0271\n",
      "Training Accuracy: 0.9686, Testing Accuracy: 0.9682\n",
      "\n"
     ]
    },
    {
     "name": "stdout",
     "output_type": "stream",
     "text": [
      "Epoch 120, Loss 0.0263\n",
      "Training Accuracy: 0.9695, Testing Accuracy: 0.9693\n",
      "\n"
     ]
    },
    {
     "name": "stdout",
     "output_type": "stream",
     "text": [
      "Epoch 130, Loss 0.0256\n",
      "Training Accuracy: 0.9705, Testing Accuracy: 0.9682\n",
      "\n"
     ]
    },
    {
     "name": "stdout",
     "output_type": "stream",
     "text": [
      "Epoch 140, Loss 0.025\n",
      "Training Accuracy: 0.9715, Testing Accuracy: 0.9693\n",
      "\n"
     ]
    },
    {
     "name": "stdout",
     "output_type": "stream",
     "text": [
      "Epoch 150, Loss 0.0244\n",
      "Training Accuracy: 0.9721, Testing Accuracy: 0.9703\n",
      "\n"
     ]
    },
    {
     "name": "stdout",
     "output_type": "stream",
     "text": [
      "Epoch 160, Loss 0.0238\n",
      "Training Accuracy: 0.9730, Testing Accuracy: 0.9708\n",
      "\n"
     ]
    },
    {
     "name": "stdout",
     "output_type": "stream",
     "text": [
      "Epoch 170, Loss 0.0233\n",
      "Training Accuracy: 0.9737, Testing Accuracy: 0.9708\n",
      "\n"
     ]
    },
    {
     "name": "stdout",
     "output_type": "stream",
     "text": [
      "Epoch 180, Loss 0.0229\n",
      "Training Accuracy: 0.9743, Testing Accuracy: 0.9708\n",
      "\n"
     ]
    },
    {
     "name": "stdout",
     "output_type": "stream",
     "text": [
      "Epoch 190, Loss 0.0224\n",
      "Training Accuracy: 0.9751, Testing Accuracy: 0.9723\n",
      "\n"
     ]
    },
    {
     "name": "stdout",
     "output_type": "stream",
     "text": [
      "Epoch 200, Loss 0.022\n",
      "Training Accuracy: 0.9752, Testing Accuracy: 0.9728\n",
      "\n"
     ]
    },
    {
     "name": "stdout",
     "output_type": "stream",
     "text": [
      "Epoch 210, Loss 0.0216\n",
      "Training Accuracy: 0.9758, Testing Accuracy: 0.9728\n",
      "\n"
     ]
    },
    {
     "name": "stdout",
     "output_type": "stream",
     "text": [
      "Epoch 220, Loss 0.0212\n",
      "Training Accuracy: 0.9762, Testing Accuracy: 0.9728\n",
      "\n"
     ]
    },
    {
     "name": "stdout",
     "output_type": "stream",
     "text": [
      "Epoch 230, Loss 0.0209\n",
      "Training Accuracy: 0.9764, Testing Accuracy: 0.9738\n",
      "\n"
     ]
    },
    {
     "name": "stdout",
     "output_type": "stream",
     "text": [
      "Epoch 240, Loss 0.0205\n",
      "Training Accuracy: 0.9764, Testing Accuracy: 0.9733\n",
      "\n"
     ]
    },
    {
     "data": {
      "text/plain": [
       "0.005749358517376453"
      ]
     },
     "execution_count": 22,
     "metadata": {},
     "output_type": "execute_result"
    }
   ],
   "source": [
    "nn_learner.train_loop(dl)"
   ]
  },
  {
   "cell_type": "code",
   "execution_count": 23,
   "id": "e0163366",
   "metadata": {
    "execution": {
     "iopub.execute_input": "2021-09-17T20:15:08.746884Z",
     "iopub.status.busy": "2021-09-17T20:15:08.746380Z",
     "iopub.status.idle": "2021-09-17T20:15:22.469046Z",
     "shell.execute_reply": "2021-09-17T20:15:22.469833Z"
    },
    "papermill": {
     "duration": 13.765405,
     "end_time": "2021-09-17T20:15:22.469992",
     "exception": false,
     "start_time": "2021-09-17T20:15:08.704587",
     "status": "completed"
    },
    "tags": []
   },
   "outputs": [
    {
     "name": "stdout",
     "output_type": "stream",
     "text": [
      "Epoch 0, Loss 0.2459\n",
      "Training Accuracy: 0.6511, Testing Accuracy: 0.6114\n",
      "\n"
     ]
    },
    {
     "name": "stdout",
     "output_type": "stream",
     "text": [
      "Epoch 10, Loss 0.1052\n",
      "Training Accuracy: 0.9033, Testing Accuracy: 0.9153\n",
      "\n"
     ]
    },
    {
     "name": "stdout",
     "output_type": "stream",
     "text": [
      "Epoch 20, Loss 0.0802\n",
      "Training Accuracy: 0.9256, Testing Accuracy: 0.9335\n",
      "\n"
     ]
    },
    {
     "name": "stdout",
     "output_type": "stream",
     "text": [
      "Epoch 30, Loss 0.0689\n",
      "Training Accuracy: 0.9362, Testing Accuracy: 0.9441\n",
      "\n"
     ]
    },
    {
     "name": "stdout",
     "output_type": "stream",
     "text": [
      "Epoch 40, Loss 0.0621\n",
      "Training Accuracy: 0.9402, Testing Accuracy: 0.9476\n",
      "\n"
     ]
    },
    {
     "name": "stdout",
     "output_type": "stream",
     "text": [
      "Epoch 50, Loss 0.0575\n",
      "Training Accuracy: 0.9439, Testing Accuracy: 0.9506\n",
      "\n"
     ]
    },
    {
     "name": "stdout",
     "output_type": "stream",
     "text": [
      "Epoch 60, Loss 0.0541\n",
      "Training Accuracy: 0.9467, Testing Accuracy: 0.9521\n",
      "\n"
     ]
    },
    {
     "name": "stdout",
     "output_type": "stream",
     "text": [
      "Epoch 70, Loss 0.0515\n",
      "Training Accuracy: 0.9487, Testing Accuracy: 0.9551\n",
      "\n"
     ]
    },
    {
     "name": "stdout",
     "output_type": "stream",
     "text": [
      "Epoch 80, Loss 0.0495\n",
      "Training Accuracy: 0.9502, Testing Accuracy: 0.9582\n",
      "\n"
     ]
    },
    {
     "name": "stdout",
     "output_type": "stream",
     "text": [
      "Epoch 90, Loss 0.0478\n",
      "Training Accuracy: 0.9516, Testing Accuracy: 0.9607\n",
      "\n"
     ]
    },
    {
     "name": "stdout",
     "output_type": "stream",
     "text": [
      "Epoch 100, Loss 0.0463\n",
      "Training Accuracy: 0.9530, Testing Accuracy: 0.9612\n",
      "\n"
     ]
    },
    {
     "name": "stdout",
     "output_type": "stream",
     "text": [
      "Epoch 110, Loss 0.0451\n",
      "Training Accuracy: 0.9535, Testing Accuracy: 0.9617\n",
      "\n"
     ]
    },
    {
     "name": "stdout",
     "output_type": "stream",
     "text": [
      "Epoch 120, Loss 0.044\n",
      "Training Accuracy: 0.9544, Testing Accuracy: 0.9617\n",
      "\n"
     ]
    },
    {
     "name": "stdout",
     "output_type": "stream",
     "text": [
      "Epoch 130, Loss 0.0431\n",
      "Training Accuracy: 0.9553, Testing Accuracy: 0.9617\n",
      "\n"
     ]
    },
    {
     "name": "stdout",
     "output_type": "stream",
     "text": [
      "Epoch 140, Loss 0.0422\n",
      "Training Accuracy: 0.9555, Testing Accuracy: 0.9617\n",
      "\n"
     ]
    },
    {
     "name": "stdout",
     "output_type": "stream",
     "text": [
      "Epoch 150, Loss 0.0415\n",
      "Training Accuracy: 0.9564, Testing Accuracy: 0.9617\n",
      "\n"
     ]
    },
    {
     "name": "stdout",
     "output_type": "stream",
     "text": [
      "Epoch 160, Loss 0.0408\n",
      "Training Accuracy: 0.9570, Testing Accuracy: 0.9627\n",
      "\n"
     ]
    },
    {
     "name": "stdout",
     "output_type": "stream",
     "text": [
      "Epoch 170, Loss 0.0402\n",
      "Training Accuracy: 0.9573, Testing Accuracy: 0.9622\n",
      "\n"
     ]
    },
    {
     "name": "stdout",
     "output_type": "stream",
     "text": [
      "Epoch 180, Loss 0.0396\n",
      "Training Accuracy: 0.9576, Testing Accuracy: 0.9622\n",
      "\n"
     ]
    },
    {
     "name": "stdout",
     "output_type": "stream",
     "text": [
      "Epoch 190, Loss 0.0391\n",
      "Training Accuracy: 0.9580, Testing Accuracy: 0.9642\n",
      "\n"
     ]
    },
    {
     "name": "stdout",
     "output_type": "stream",
     "text": [
      "Epoch 200, Loss 0.0386\n",
      "Training Accuracy: 0.9584, Testing Accuracy: 0.9642\n",
      "\n"
     ]
    },
    {
     "name": "stdout",
     "output_type": "stream",
     "text": [
      "Epoch 210, Loss 0.0381\n",
      "Training Accuracy: 0.9585, Testing Accuracy: 0.9647\n",
      "\n"
     ]
    },
    {
     "name": "stdout",
     "output_type": "stream",
     "text": [
      "Epoch 220, Loss 0.0377\n",
      "Training Accuracy: 0.9587, Testing Accuracy: 0.9647\n",
      "\n"
     ]
    },
    {
     "name": "stdout",
     "output_type": "stream",
     "text": [
      "Epoch 230, Loss 0.0373\n",
      "Training Accuracy: 0.9592, Testing Accuracy: 0.9652\n",
      "\n"
     ]
    },
    {
     "name": "stdout",
     "output_type": "stream",
     "text": [
      "Epoch 240, Loss 0.037\n",
      "Training Accuracy: 0.9595, Testing Accuracy: 0.9657\n",
      "\n"
     ]
    },
    {
     "data": {
      "text/plain": [
       "0.01468520651937456"
      ]
     },
     "execution_count": 23,
     "metadata": {},
     "output_type": "execute_result"
    }
   ],
   "source": [
    "lr_learner.train_loop(dl)"
   ]
  },
  {
   "cell_type": "code",
   "execution_count": 24,
   "id": "ca410940",
   "metadata": {
    "execution": {
     "iopub.execute_input": "2021-09-17T20:15:22.566793Z",
     "iopub.status.busy": "2021-09-17T20:15:22.566277Z",
     "iopub.status.idle": "2021-09-17T20:15:22.781681Z",
     "shell.execute_reply": "2021-09-17T20:15:22.781227Z"
    },
    "papermill": {
     "duration": 0.27027,
     "end_time": "2021-09-17T20:15:22.781808",
     "exception": false,
     "start_time": "2021-09-17T20:15:22.511538",
     "status": "completed"
    },
    "tags": []
   },
   "outputs": [
    {
     "data": {
      "text/plain": [
       "<matplotlib.legend.Legend at 0x7f0528521898>"
      ]
     },
     "execution_count": 24,
     "metadata": {},
     "output_type": "execute_result"
    },
    {
     "data": {
      "image/png": "[encoded data removed]",
      "text/plain": [
       "<Figure size 1080x720 with 1 Axes>"
      ]
     },
     "metadata": {
      "needs_background": "light"
     },
     "output_type": "display_data"
    }
   ],
   "source": [
    "#comparing the results of NN and LR\n",
    "plt.figure(figsize=(15,10))\n",
    "\n",
    "# Neural Network plots\n",
    "plt.plot(acc_nn.accuracies, 'r-', label = \"Training Accuracies - NN\")\n",
    "plt.plot(acc_nn.test_accuracies, 'g-', label = \"Testing Accuracies - NN\")\n",
    "\n",
    "# Logistic Regression plots\n",
    "plt.plot(acc_lr.accuracies, 'k-', label = \"Training Accuracies - LR\")\n",
    "plt.plot(acc_lr.test_accuracies, 'b-', label = \"Testing Accuracies - LR\")\n",
    "plt.legend()"
   ]
  },
  {
   "cell_type": "markdown",
   "id": "80dfb35c",
   "metadata": {
    "papermill": {
     "duration": 0.042421,
     "end_time": "2021-09-17T20:15:22.866599",
     "exception": false,
     "start_time": "2021-09-17T20:15:22.824178",
     "status": "completed"
    },
    "tags": []
   },
   "source": [
    "#### Plotting the outputs of this layer of the NN.\n"
   ]
  },
  {
   "cell_type": "code",
   "execution_count": 25,
   "id": "45eb2ff5",
   "metadata": {
    "execution": {
     "iopub.execute_input": "2021-09-17T20:15:22.967645Z",
     "iopub.status.busy": "2021-09-17T20:15:22.966142Z",
     "iopub.status.idle": "2021-09-17T20:15:22.981717Z",
     "shell.execute_reply": "2021-09-17T20:15:22.982149Z"
    },
    "papermill": {
     "duration": 0.073513,
     "end_time": "2021-09-17T20:15:22.982289",
     "exception": false,
     "start_time": "2021-09-17T20:15:22.908776",
     "status": "completed"
    },
    "tags": []
   },
   "outputs": [],
   "source": [
    "new_model = Model(layers[:-2])\n",
    "testing_plot = new_model(testing_data_x)"
   ]
  },
  {
   "cell_type": "code",
   "execution_count": 26,
   "id": "4c0a5485",
   "metadata": {
    "execution": {
     "iopub.execute_input": "2021-09-17T20:15:23.091365Z",
     "iopub.status.busy": "2021-09-17T20:15:23.086255Z",
     "iopub.status.idle": "2021-09-17T20:15:23.290382Z",
     "shell.execute_reply": "2021-09-17T20:15:23.289928Z"
    },
    "papermill": {
     "duration": 0.257783,
     "end_time": "2021-09-17T20:15:23.290501",
     "exception": false,
     "start_time": "2021-09-17T20:15:23.032718",
     "status": "completed"
    },
    "tags": []
   },
   "outputs": [
    {
     "data": {
      "text/plain": [
       "Text(0.5, 1.0, 'Outputs')"
      ]
     },
     "execution_count": 26,
     "metadata": {},
     "output_type": "execute_result"
    },
    {
     "data": {
      "image/png": "[encoded data removed]",
      "text/plain": [
       "<Figure size 576x504 with 1 Axes>"
      ]
     },
     "metadata": {
      "needs_background": "light"
     },
     "output_type": "display_data"
    }
   ],
   "source": [
    "# Plotting the scatter plot of points and color coding by class\n",
    "plt.figure(figsize=(8,7))\n",
    "plt.scatter(testing_plot[:,0], testing_plot[:,1], alpha = 0.1, c = y_test.ravel());\n",
    "plt.title('Outputs')"
   ]
  },
  {
   "cell_type": "markdown",
   "id": "a74fcf8f",
   "metadata": {
    "papermill": {
     "duration": 0.043953,
     "end_time": "2021-09-17T20:15:23.378942",
     "exception": false,
     "start_time": "2021-09-17T20:15:23.334989",
     "status": "completed"
    },
    "tags": []
   },
   "source": [
    "Probability contours"
   ]
  },
  {
   "cell_type": "code",
   "execution_count": 27,
   "id": "d0afc8e3",
   "metadata": {
    "execution": {
     "iopub.execute_input": "2021-09-17T20:15:23.483034Z",
     "iopub.status.busy": "2021-09-17T20:15:23.482219Z",
     "iopub.status.idle": "2021-09-17T20:15:23.486432Z",
     "shell.execute_reply": "2021-09-17T20:15:23.486005Z"
    },
    "papermill": {
     "duration": 0.063554,
     "end_time": "2021-09-17T20:15:23.486540",
     "exception": false,
     "start_time": "2021-09-17T20:15:23.422986",
     "status": "completed"
    },
    "tags": []
   },
   "outputs": [],
   "source": [
    "model_prob = Model(layers[-2:]) "
   ]
  },
  {
   "cell_type": "code",
   "execution_count": 28,
   "id": "9b96e238",
   "metadata": {
    "execution": {
     "iopub.execute_input": "2021-09-17T20:15:23.615011Z",
     "iopub.status.busy": "2021-09-17T20:15:23.614504Z",
     "iopub.status.idle": "2021-09-17T20:15:23.624946Z",
     "shell.execute_reply": "2021-09-17T20:15:23.624455Z"
    },
    "papermill": {
     "duration": 0.094223,
     "end_time": "2021-09-17T20:15:23.625052",
     "exception": false,
     "start_time": "2021-09-17T20:15:23.530829",
     "status": "completed"
    },
    "tags": []
   },
   "outputs": [],
   "source": [
    "#creating the x and y ranges according to the above generated plot.\n",
    "x_range = np.linspace(-4, 1, 100) \n",
    "y_range = np.linspace(-6, 6, 100) \n",
    "x_grid, y_grid = np.meshgrid(x_range, y_range) # x_grid and y_grig are of size 100 X 100\n",
    "\n",
    "# converting x_grid and y_grid to continuous arrays\n",
    "x_gridflat = np.ravel(x_grid)\n",
    "y_gridflat = np.ravel(y_grid)\n",
    "\n",
    "# The last layer of the current model takes two columns as input. Hence transpose of np.vstack() is required.\n",
    "X = np.vstack((x_gridflat, y_gridflat)).T\n",
    "\n",
    "prob_contour = model_prob(X).reshape(100,100) "
   ]
  },
  {
   "cell_type": "code",
   "execution_count": 29,
   "id": "da72499a",
   "metadata": {
    "execution": {
     "iopub.execute_input": "2021-09-17T20:15:23.754258Z",
     "iopub.status.busy": "2021-09-17T20:15:23.748410Z",
     "iopub.status.idle": "2021-09-17T20:15:23.979915Z",
     "shell.execute_reply": "2021-09-17T20:15:23.980339Z"
    },
    "papermill": {
     "duration": 0.306065,
     "end_time": "2021-09-17T20:15:23.980480",
     "exception": false,
     "start_time": "2021-09-17T20:15:23.674415",
     "status": "completed"
    },
    "tags": []
   },
   "outputs": [
    {
     "data": {
      "image/png": "[encoded data removed]",
      "text/plain": [
       "<Figure size 720x648 with 1 Axes>"
      ]
     },
     "metadata": {
      "needs_background": "light"
     },
     "output_type": "display_data"
    }
   ],
   "source": [
    "plt.figure(figsize=(10,9))\n",
    "plt.scatter(testing_plot[:,0], testing_plot[:,1], alpha = 0.1, c = y_test.ravel())\n",
    "contours = plt.contour(x_grid,y_grid,prob_contour)\n",
    "plt.title('Probability Contours')\n",
    "plt.clabel(contours, inline = True );"
   ]
  },
  {
   "cell_type": "code",
   "execution_count": null,
   "id": "e81b4ac7",
   "metadata": {
    "papermill": {
     "duration": 0.046784,
     "end_time": "2021-09-17T20:15:24.074951",
     "exception": false,
     "start_time": "2021-09-17T20:15:24.028167",
     "status": "completed"
    },
    "tags": []
   },
   "outputs": [],
   "source": []
  }
 ],
 "metadata": {
  "kernelspec": {
   "display_name": "Python 3",
   "language": "python",
   "name": "python3"
  },
  "language_info": {
   "codemirror_mode": {
    "name": "ipython",
    "version": 3
   },
   "file_extension": ".py",
   "mimetype": "text/x-python",
   "name": "python",
   "nbconvert_exporter": "python",
   "pygments_lexer": "ipython3",
   "version": "3.6.15"
  },
  "papermill": {
   "default_parameters": {},
   "duration": 96.142295,
   "end_time": "2021-09-17T20:15:24.529360",
   "environment_variables": {},
   "exception": null,
   "input_path": "2020-08-11-part2.ipynb",
   "output_path": "2020-08-11-part2.ipynb",
   "parameters": {},
   "start_time": "2021-09-17T20:13:48.387065",
   "version": "2.3.3"
  }
 },
 "nbformat": 4,
 "nbformat_minor": 5
}