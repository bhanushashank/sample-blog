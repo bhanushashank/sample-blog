{
 "cells": [
  {
   "cell_type": "markdown",
   "id": "98380cd3",
   "metadata": {
    "papermill": {
     "duration": 0.02772,
     "end_time": "2022-03-31T00:31:58.799138",
     "exception": false,
     "start_time": "2022-03-31T00:31:58.771418",
     "status": "completed"
    },
    "tags": []
   },
   "source": [
    "# Distinguish Your Own Digits (DYOD)"
   ]
  },
  {
   "cell_type": "markdown",
   "id": "ef31240d",
   "metadata": {
    "papermill": {
     "duration": 0.025037,
     "end_time": "2022-03-31T00:31:58.848351",
     "exception": false,
     "start_time": "2022-03-31T00:31:58.823314",
     "status": "completed"
    },
    "tags": []
   },
   "source": [
    "You are going to write a classifier that distinguishes between the number 3 and number 8."
   ]
  },
  {
   "cell_type": "code",
   "execution_count": 1,
   "id": "b15c8646",
   "metadata": {
    "execution": {
     "iopub.execute_input": "2022-03-31T00:31:58.906971Z",
     "iopub.status.busy": "2022-03-31T00:31:58.906392Z",
     "iopub.status.idle": "2022-03-31T00:31:58.916606Z",
     "shell.execute_reply": "2022-03-31T00:31:58.916167Z"
    },
    "papermill": {
     "duration": 0.044784,
     "end_time": "2022-03-31T00:31:58.916733",
     "exception": false,
     "start_time": "2022-03-31T00:31:58.871949",
     "status": "completed"
    },
    "tags": []
   },
   "outputs": [],
   "source": [
    "%load_ext autoreload\n",
    "%autoreload 2"
   ]
  },
  {
   "cell_type": "code",
   "execution_count": 2,
   "id": "22ef38dc",
   "metadata": {
    "execution": {
     "iopub.execute_input": "2022-03-31T00:31:58.969140Z",
     "iopub.status.busy": "2022-03-31T00:31:58.968168Z",
     "iopub.status.idle": "2022-03-31T00:31:59.571233Z",
     "shell.execute_reply": "2022-03-31T00:31:59.570627Z"
    },
    "papermill": {
     "duration": 0.631009,
     "end_time": "2022-03-31T00:31:59.571385",
     "exception": false,
     "start_time": "2022-03-31T00:31:58.940376",
     "status": "completed"
    },
    "tags": []
   },
   "outputs": [],
   "source": [
    "%matplotlib inline\n",
    "import numpy as np\n",
    "import matplotlib.pyplot as plt\n",
    "import pandas as pd"
   ]
  },
  {
   "cell_type": "markdown",
   "id": "ba036198",
   "metadata": {
    "papermill": {
     "duration": 0.023783,
     "end_time": "2022-03-31T00:31:59.619847",
     "exception": false,
     "start_time": "2022-03-31T00:31:59.596064",
     "status": "completed"
    },
    "tags": []
   },
   "source": [
    "From the command line run `pip install mnist`. This is a library that will help you bring down the mnist dataset. If you run this from a notebook, you need to put  `!pip install mnist` in a cell by itself."
   ]
  },
  {
   "cell_type": "code",
   "execution_count": 3,
   "id": "bb6ad8a1",
   "metadata": {
    "execution": {
     "iopub.execute_input": "2022-03-31T00:31:59.676609Z",
     "iopub.status.busy": "2022-03-31T00:31:59.676053Z",
     "iopub.status.idle": "2022-03-31T00:32:01.441068Z",
     "shell.execute_reply": "2022-03-31T00:32:01.441550Z"
    },
    "papermill": {
     "duration": 1.798,
     "end_time": "2022-03-31T00:32:01.441725",
     "exception": false,
     "start_time": "2022-03-31T00:31:59.643725",
     "status": "completed"
    },
    "tags": []
   },
   "outputs": [
    {
     "name": "stdout",
     "output_type": "stream",
     "text": [
      "Collecting mnist\r\n"
     ]
    },
    {
     "name": "stdout",
     "output_type": "stream",
     "text": [
      "  Downloading mnist-0.2.2-py2.py3-none-any.whl (3.5 kB)\r\n",
      "Requirement already satisfied: numpy in /opt/hostedtoolcache/Python/3.6.15/x64/lib/python3.6/site-packages (from mnist) (1.19.5)\r\n"
     ]
    },
    {
     "name": "stdout",
     "output_type": "stream",
     "text": [
      "Installing collected packages: mnist\r\n"
     ]
    },
    {
     "name": "stdout",
     "output_type": "stream",
     "text": [
      "Successfully installed mnist-0.2.2\r\n"
     ]
    }
   ],
   "source": [
    "!pip install mnist"
   ]
  },
  {
   "cell_type": "markdown",
   "id": "69df9c9a",
   "metadata": {
    "papermill": {
     "duration": 0.02506,
     "end_time": "2022-03-31T00:32:01.492334",
     "exception": false,
     "start_time": "2022-03-31T00:32:01.467274",
     "status": "completed"
    },
    "tags": []
   },
   "source": [
    "## Preparing the Data"
   ]
  },
  {
   "cell_type": "code",
   "execution_count": 4,
   "id": "7f69d806",
   "metadata": {
    "execution": {
     "iopub.execute_input": "2022-03-31T00:32:01.558557Z",
     "iopub.status.busy": "2022-03-31T00:32:01.557997Z",
     "iopub.status.idle": "2022-03-31T00:32:01.563927Z",
     "shell.execute_reply": "2022-03-31T00:32:01.563490Z"
    },
    "papermill": {
     "duration": 0.047019,
     "end_time": "2022-03-31T00:32:01.564049",
     "exception": false,
     "start_time": "2022-03-31T00:32:01.517030",
     "status": "completed"
    },
    "tags": []
   },
   "outputs": [],
   "source": [
    "import mnist"
   ]
  },
  {
   "cell_type": "code",
   "execution_count": 5,
   "id": "a411e44f",
   "metadata": {
    "execution": {
     "iopub.execute_input": "2022-03-31T00:32:01.621378Z",
     "iopub.status.busy": "2022-03-31T00:32:01.620862Z",
     "iopub.status.idle": "2022-03-31T00:32:02.349676Z",
     "shell.execute_reply": "2022-03-31T00:32:02.350233Z"
    },
    "papermill": {
     "duration": 0.757838,
     "end_time": "2022-03-31T00:32:02.350411",
     "exception": false,
     "start_time": "2022-03-31T00:32:01.592573",
     "status": "completed"
    },
    "tags": []
   },
   "outputs": [],
   "source": [
    "train_images = mnist.train_images()\n",
    "train_labels = mnist.train_labels()"
   ]
  },
  {
   "cell_type": "code",
   "execution_count": 6,
   "id": "dceab3a5",
   "metadata": {
    "execution": {
     "iopub.execute_input": "2022-03-31T00:32:02.410251Z",
     "iopub.status.busy": "2022-03-31T00:32:02.405196Z",
     "iopub.status.idle": "2022-03-31T00:32:02.420817Z",
     "shell.execute_reply": "2022-03-31T00:32:02.420371Z"
    },
    "papermill": {
     "duration": 0.045295,
     "end_time": "2022-03-31T00:32:02.420929",
     "exception": false,
     "start_time": "2022-03-31T00:32:02.375634",
     "status": "completed"
    },
    "tags": []
   },
   "outputs": [
    {
     "data": {
      "text/plain": [
       "((60000, 28, 28), (60000,))"
      ]
     },
     "execution_count": 6,
     "metadata": {},
     "output_type": "execute_result"
    }
   ],
   "source": [
    "train_images.shape, train_labels.shape"
   ]
  },
  {
   "cell_type": "code",
   "execution_count": 7,
   "id": "f50dc2bb",
   "metadata": {
    "execution": {
     "iopub.execute_input": "2022-03-31T00:32:02.477031Z",
     "iopub.status.busy": "2022-03-31T00:32:02.476506Z",
     "iopub.status.idle": "2022-03-31T00:32:02.755003Z",
     "shell.execute_reply": "2022-03-31T00:32:02.755555Z"
    },
    "papermill": {
     "duration": 0.309927,
     "end_time": "2022-03-31T00:32:02.755729",
     "exception": false,
     "start_time": "2022-03-31T00:32:02.445802",
     "status": "completed"
    },
    "tags": []
   },
   "outputs": [],
   "source": [
    "test_images = mnist.test_images()\n",
    "test_labels = mnist.test_labels()"
   ]
  },
  {
   "cell_type": "code",
   "execution_count": 8,
   "id": "fc38cf1b",
   "metadata": {
    "execution": {
     "iopub.execute_input": "2022-03-31T00:32:02.811209Z",
     "iopub.status.busy": "2022-03-31T00:32:02.810653Z",
     "iopub.status.idle": "2022-03-31T00:32:02.823379Z",
     "shell.execute_reply": "2022-03-31T00:32:02.822947Z"
    },
    "papermill": {
     "duration": 0.041845,
     "end_time": "2022-03-31T00:32:02.823499",
     "exception": false,
     "start_time": "2022-03-31T00:32:02.781654",
     "status": "completed"
    },
    "tags": []
   },
   "outputs": [
    {
     "data": {
      "text/plain": [
       "((10000, 28, 28), (10000,))"
      ]
     },
     "execution_count": 8,
     "metadata": {},
     "output_type": "execute_result"
    }
   ],
   "source": [
    "test_images.shape, test_labels.shape"
   ]
  },
  {
   "cell_type": "code",
   "execution_count": 9,
   "id": "f9ed8fe0",
   "metadata": {
    "execution": {
     "iopub.execute_input": "2022-03-31T00:32:02.882529Z",
     "iopub.status.busy": "2022-03-31T00:32:02.882010Z",
     "iopub.status.idle": "2022-03-31T00:32:03.021549Z",
     "shell.execute_reply": "2022-03-31T00:32:03.021953Z"
    },
    "papermill": {
     "duration": 0.173078,
     "end_time": "2022-03-31T00:32:03.022105",
     "exception": false,
     "start_time": "2022-03-31T00:32:02.849027",
     "status": "completed"
    },
    "tags": []
   },
   "outputs": [
    {
     "name": "stdout",
     "output_type": "stream",
     "text": [
      "2\n"
     ]
    },
    {
     "data": {
      "text/plain": [
       "<matplotlib.image.AxesImage at 0x7ff32d41b5f8>"
      ]
     },
     "execution_count": 9,
     "metadata": {},
     "output_type": "execute_result"
    },
    {
     "data": {
      "image/png": "[encoded data removed]",
      "text/plain": [
       "<Figure size 432x288 with 1 Axes>"
      ]
     },
     "metadata": {
      "needs_background": "light"
     },
     "output_type": "display_data"
    }
   ],
   "source": [
    "image_index = 7776 # You may select anything up to 60,000\n",
    "print(train_labels[image_index]) \n",
    "plt.imshow(train_images[image_index], cmap='Greys')"
   ]
  },
  {
   "cell_type": "markdown",
   "id": "a8d2388d",
   "metadata": {
    "papermill": {
     "duration": 0.027274,
     "end_time": "2022-03-31T00:32:03.077907",
     "exception": false,
     "start_time": "2022-03-31T00:32:03.050633",
     "status": "completed"
    },
    "tags": []
   },
   "source": [
    "## Filter data to get 3 and 8 out"
   ]
  },
  {
   "cell_type": "code",
   "execution_count": 10,
   "id": "776f7fc7",
   "metadata": {
    "execution": {
     "iopub.execute_input": "2022-03-31T00:32:03.136500Z",
     "iopub.status.busy": "2022-03-31T00:32:03.135932Z",
     "iopub.status.idle": "2022-03-31T00:32:03.154521Z",
     "shell.execute_reply": "2022-03-31T00:32:03.154048Z"
    },
    "papermill": {
     "duration": 0.04985,
     "end_time": "2022-03-31T00:32:03.154643",
     "exception": false,
     "start_time": "2022-03-31T00:32:03.104793",
     "status": "completed"
    },
    "tags": []
   },
   "outputs": [],
   "source": [
    "train_filter = np.where((train_labels == 3 ) | (train_labels == 8))\n",
    "test_filter = np.where((test_labels == 3) | (test_labels == 8))\n",
    "X_train, y_train = train_images[train_filter], train_labels[train_filter]\n",
    "X_test, y_test = test_images[test_filter], test_labels[test_filter]"
   ]
  },
  {
   "cell_type": "markdown",
   "id": "948f0b7e",
   "metadata": {
    "papermill": {
     "duration": 0.027998,
     "end_time": "2022-03-31T00:32:03.209237",
     "exception": false,
     "start_time": "2022-03-31T00:32:03.181239",
     "status": "completed"
    },
    "tags": []
   },
   "source": [
    "We normalize the pizel values in the 0 to 1 range"
   ]
  },
  {
   "cell_type": "code",
   "execution_count": 11,
   "id": "ee4c2166",
   "metadata": {
    "execution": {
     "iopub.execute_input": "2022-03-31T00:32:03.268385Z",
     "iopub.status.busy": "2022-03-31T00:32:03.265226Z",
     "iopub.status.idle": "2022-03-31T00:32:03.314170Z",
     "shell.execute_reply": "2022-03-31T00:32:03.313620Z"
    },
    "papermill": {
     "duration": 0.078623,
     "end_time": "2022-03-31T00:32:03.314320",
     "exception": false,
     "start_time": "2022-03-31T00:32:03.235697",
     "status": "completed"
    },
    "tags": []
   },
   "outputs": [],
   "source": [
    "X_train = X_train/255.\n",
    "X_test = X_test/255."
   ]
  },
  {
   "cell_type": "markdown",
   "id": "ddcf4fab",
   "metadata": {
    "papermill": {
     "duration": 0.032103,
     "end_time": "2022-03-31T00:32:03.373674",
     "exception": false,
     "start_time": "2022-03-31T00:32:03.341571",
     "status": "completed"
    },
    "tags": []
   },
   "source": [
    "And setup the labels as 1 (when the digit is 3) and 0 (when the digit is 8)"
   ]
  },
  {
   "cell_type": "code",
   "execution_count": 12,
   "id": "7dc908f2",
   "metadata": {
    "execution": {
     "iopub.execute_input": "2022-03-31T00:32:03.430141Z",
     "iopub.status.busy": "2022-03-31T00:32:03.429606Z",
     "iopub.status.idle": "2022-03-31T00:32:03.441488Z",
     "shell.execute_reply": "2022-03-31T00:32:03.441036Z"
    },
    "papermill": {
     "duration": 0.041644,
     "end_time": "2022-03-31T00:32:03.441601",
     "exception": false,
     "start_time": "2022-03-31T00:32:03.399957",
     "status": "completed"
    },
    "tags": []
   },
   "outputs": [],
   "source": [
    "y_train = 1*(y_train==3)\n",
    "y_test = 1*(y_test==3)"
   ]
  },
  {
   "cell_type": "code",
   "execution_count": 13,
   "id": "01e4e969",
   "metadata": {
    "execution": {
     "iopub.execute_input": "2022-03-31T00:32:03.500041Z",
     "iopub.status.busy": "2022-03-31T00:32:03.499525Z",
     "iopub.status.idle": "2022-03-31T00:32:03.511163Z",
     "shell.execute_reply": "2022-03-31T00:32:03.511605Z"
    },
    "papermill": {
     "duration": 0.043832,
     "end_time": "2022-03-31T00:32:03.511738",
     "exception": false,
     "start_time": "2022-03-31T00:32:03.467906",
     "status": "completed"
    },
    "tags": []
   },
   "outputs": [
    {
     "data": {
      "text/plain": [
       "((11982, 28, 28), (1984, 28, 28))"
      ]
     },
     "execution_count": 13,
     "metadata": {},
     "output_type": "execute_result"
    }
   ],
   "source": [
    "X_train.shape, X_test.shape"
   ]
  },
  {
   "cell_type": "markdown",
   "id": "5ccf3f85",
   "metadata": {
    "papermill": {
     "duration": 0.026444,
     "end_time": "2022-03-31T00:32:03.564572",
     "exception": false,
     "start_time": "2022-03-31T00:32:03.538128",
     "status": "completed"
    },
    "tags": []
   },
   "source": [
    "We reshape the data to flatten the image pixels into a set of features or co-variates:"
   ]
  },
  {
   "cell_type": "code",
   "execution_count": 14,
   "id": "5286a4a3",
   "metadata": {
    "execution": {
     "iopub.execute_input": "2022-03-31T00:32:03.624215Z",
     "iopub.status.busy": "2022-03-31T00:32:03.623682Z",
     "iopub.status.idle": "2022-03-31T00:32:03.635417Z",
     "shell.execute_reply": "2022-03-31T00:32:03.635805Z"
    },
    "papermill": {
     "duration": 0.044853,
     "end_time": "2022-03-31T00:32:03.635950",
     "exception": false,
     "start_time": "2022-03-31T00:32:03.591097",
     "status": "completed"
    },
    "tags": []
   },
   "outputs": [
    {
     "data": {
      "text/plain": [
       "((11982, 784), (1984, 784))"
      ]
     },
     "execution_count": 14,
     "metadata": {},
     "output_type": "execute_result"
    }
   ],
   "source": [
    "X_train = X_train.reshape(X_train.shape[0], -1)\n",
    "X_test = X_test.reshape(X_test.shape[0], -1)\n",
    "X_train.shape, X_test.shape"
   ]
  },
  {
   "cell_type": "code",
   "execution_count": 15,
   "id": "73c5f88a",
   "metadata": {
    "execution": {
     "iopub.execute_input": "2022-03-31T00:32:03.694366Z",
     "iopub.status.busy": "2022-03-31T00:32:03.693829Z",
     "iopub.status.idle": "2022-03-31T00:32:03.711581Z",
     "shell.execute_reply": "2022-03-31T00:32:03.711998Z"
    },
    "papermill": {
     "duration": 0.049377,
     "end_time": "2022-03-31T00:32:03.712130",
     "exception": false,
     "start_time": "2022-03-31T00:32:03.662753",
     "status": "completed"
    },
    "tags": []
   },
   "outputs": [],
   "source": [
    "#Impoting functions from 'Kudzu'\n",
    "from kudzu.model import Model\n",
    "from kudzu.train import Learner\n",
    "from kudzu.optim import GD\n",
    "from kudzu.data import Data, Sampler,Dataloader\n",
    "\n",
    "from kudzu.callbacks import AccCallback\n",
    "from kudzu.callbacks import ClfCallback\n",
    "\n",
    "from kudzu.loss import MSE\n",
    "\n",
    "from kudzu.layer import Sigmoid,Relu\n",
    "from kudzu.layer import Affine"
   ]
  },
  {
   "cell_type": "markdown",
   "id": "bc01172a",
   "metadata": {
    "papermill": {
     "duration": 0.026864,
     "end_time": "2022-03-31T00:32:03.765871",
     "exception": false,
     "start_time": "2022-03-31T00:32:03.739007",
     "status": "completed"
    },
    "tags": []
   },
   "source": [
    "### Let us create a `Config` class, to store important parameters. \n",
    "This class essentially plays the role of a dictionary."
   ]
  },
  {
   "cell_type": "code",
   "execution_count": 16,
   "id": "978281aa",
   "metadata": {
    "execution": {
     "iopub.execute_input": "2022-03-31T00:32:03.831675Z",
     "iopub.status.busy": "2022-03-31T00:32:03.831122Z",
     "iopub.status.idle": "2022-03-31T00:32:03.838424Z",
     "shell.execute_reply": "2022-03-31T00:32:03.838002Z"
    },
    "papermill": {
     "duration": 0.046037,
     "end_time": "2022-03-31T00:32:03.838539",
     "exception": false,
     "start_time": "2022-03-31T00:32:03.792502",
     "status": "completed"
    },
    "tags": []
   },
   "outputs": [],
   "source": [
    "class Config:\n",
    "    pass\n",
    "config = Config()\n",
    "config.lr = 0.001\n",
    "config.num_epochs = 250\n",
    "config.bs = 50"
   ]
  },
  {
   "cell_type": "markdown",
   "id": "1385fa59",
   "metadata": {
    "papermill": {
     "duration": 0.026657,
     "end_time": "2022-03-31T00:32:03.891996",
     "exception": false,
     "start_time": "2022-03-31T00:32:03.865339",
     "status": "completed"
    },
    "tags": []
   },
   "source": [
    "### Running Models with the Training data\n",
    "Details about the network layers:\n",
    "- A first affine layer has 784 inputs and does 100 affine transforms. These are followed by a Relu\n",
    "- A second affine layer has 100 inputs from the 100 activations of the past layer, and does 100 affine transforms. These are followed by a Relu\n",
    "- A third affine layer has 100 activations and does 2 affine transformations to create an embedding for visualization. There is no non-linearity here.\n",
    "- A final \"logistic regression\" which has an affine transform from 2 inputs to 1 output, which is squeezed through a sigmoid.\n"
   ]
  },
  {
   "cell_type": "code",
   "execution_count": 17,
   "id": "2b9c66db",
   "metadata": {
    "execution": {
     "iopub.execute_input": "2022-03-31T00:32:03.956315Z",
     "iopub.status.busy": "2022-03-31T00:32:03.955781Z",
     "iopub.status.idle": "2022-03-31T00:32:03.966987Z",
     "shell.execute_reply": "2022-03-31T00:32:03.966539Z"
    },
    "papermill": {
     "duration": 0.048342,
     "end_time": "2022-03-31T00:32:03.967104",
     "exception": false,
     "start_time": "2022-03-31T00:32:03.918762",
     "status": "completed"
    },
    "tags": []
   },
   "outputs": [],
   "source": [
    "data = Data(X_train, y_train.reshape(-1,1))\n",
    "sampler = Sampler(data, config.bs, shuffle=True)\n",
    "\n",
    "dl = Dataloader(data, sampler)\n",
    "\n",
    "opt = GD(config.lr)\n",
    "loss = MSE()"
   ]
  },
  {
   "cell_type": "code",
   "execution_count": 18,
   "id": "b275e4c2",
   "metadata": {
    "execution": {
     "iopub.execute_input": "2022-03-31T00:32:04.024635Z",
     "iopub.status.busy": "2022-03-31T00:32:04.024118Z",
     "iopub.status.idle": "2022-03-31T00:32:04.035687Z",
     "shell.execute_reply": "2022-03-31T00:32:04.035243Z"
    },
    "papermill": {
     "duration": 0.042015,
     "end_time": "2022-03-31T00:32:04.035797",
     "exception": false,
     "start_time": "2022-03-31T00:32:03.993782",
     "status": "completed"
    },
    "tags": []
   },
   "outputs": [],
   "source": [
    "training_data_x = X_train\n",
    "testing_data_x = X_test\n",
    "training_data_y = y_train.reshape(-1,1)\n",
    "testing_data_y = y_test.reshape(-1,1)"
   ]
  },
  {
   "cell_type": "code",
   "execution_count": 19,
   "id": "76951160",
   "metadata": {
    "execution": {
     "iopub.execute_input": "2022-03-31T00:32:04.093408Z",
     "iopub.status.busy": "2022-03-31T00:32:04.092886Z",
     "iopub.status.idle": "2022-03-31T00:32:04.108872Z",
     "shell.execute_reply": "2022-03-31T00:32:04.108427Z"
    },
    "papermill": {
     "duration": 0.046555,
     "end_time": "2022-03-31T00:32:04.108982",
     "exception": false,
     "start_time": "2022-03-31T00:32:04.062427",
     "status": "completed"
    },
    "tags": []
   },
   "outputs": [
    {
     "name": "stdout",
     "output_type": "stream",
     "text": [
      "xavier\n",
      "xavier\n",
      "xavier\n",
      "xavier\n",
      "xavier\n"
     ]
    }
   ],
   "source": [
    "layers = [Affine(\"first\", 784, 100), Relu(\"first\"), Affine(\"second\", 100, 100), Relu(\"second\"), Affine(\"third\", 100, 2), Affine(\"last\", 2, 1), Sigmoid(\"last\")]\n",
    "model_nn = Model(layers)\n",
    "model_lr = Model([Affine(\"logits\", 784, 1), Sigmoid(\"sigmoid\")])"
   ]
  },
  {
   "cell_type": "code",
   "execution_count": 20,
   "id": "6eede77a",
   "metadata": {
    "execution": {
     "iopub.execute_input": "2022-03-31T00:32:04.179504Z",
     "iopub.status.busy": "2022-03-31T00:32:04.174204Z",
     "iopub.status.idle": "2022-03-31T00:32:04.181734Z",
     "shell.execute_reply": "2022-03-31T00:32:04.181283Z"
    },
    "papermill": {
     "duration": 0.045424,
     "end_time": "2022-03-31T00:32:04.181843",
     "exception": false,
     "start_time": "2022-03-31T00:32:04.136419",
     "status": "completed"
    },
    "tags": []
   },
   "outputs": [],
   "source": [
    "nn_learner = Learner(loss, model_nn, opt, config.num_epochs)\n",
    "acc_nn = ClfCallback(nn_learner, config.bs, training_data_x , testing_data_x, training_data_y, testing_data_y)\n",
    "nn_learner.set_callbacks([acc_nn])"
   ]
  },
  {
   "cell_type": "code",
   "execution_count": 21,
   "id": "877b6cc7",
   "metadata": {
    "execution": {
     "iopub.execute_input": "2022-03-31T00:32:04.240218Z",
     "iopub.status.busy": "2022-03-31T00:32:04.239703Z",
     "iopub.status.idle": "2022-03-31T00:32:04.256956Z",
     "shell.execute_reply": "2022-03-31T00:32:04.256501Z"
    },
    "papermill": {
     "duration": 0.048105,
     "end_time": "2022-03-31T00:32:04.257071",
     "exception": false,
     "start_time": "2022-03-31T00:32:04.208966",
     "status": "completed"
    },
    "tags": []
   },
   "outputs": [],
   "source": [
    "lr_learner = Learner(loss, model_lr, opt, config.num_epochs)\n",
    "acc_lr = ClfCallback(lr_learner, config.bs, training_data_x , testing_data_x, training_data_y, testing_data_y)\n",
    "lr_learner.set_callbacks([acc_lr])"
   ]
  },
  {
   "cell_type": "code",
   "execution_count": 22,
   "id": "d9b133c3",
   "metadata": {
    "execution": {
     "iopub.execute_input": "2022-03-31T00:32:04.316076Z",
     "iopub.status.busy": "2022-03-31T00:32:04.315565Z",
     "iopub.status.idle": "2022-03-31T00:33:24.424262Z",
     "shell.execute_reply": "2022-03-31T00:33:24.425012Z"
    },
    "papermill": {
     "duration": 80.140931,
     "end_time": "2022-03-31T00:33:24.425168",
     "exception": false,
     "start_time": "2022-03-31T00:32:04.284237",
     "status": "completed"
    },
    "tags": []
   },
   "outputs": [
    {
     "name": "stdout",
     "output_type": "stream",
     "text": [
      "Epoch 0, Loss 0.2517\n",
      "Training Accuracy: 0.6054, Testing Accuracy: 0.6084\n",
      "\n"
     ]
    },
    {
     "name": "stdout",
     "output_type": "stream",
     "text": [
      "Epoch 10, Loss 0.0909\n",
      "Training Accuracy: 0.9154, Testing Accuracy: 0.9294\n",
      "\n"
     ]
    },
    {
     "name": "stdout",
     "output_type": "stream",
     "text": [
      "Epoch 20, Loss 0.0546\n",
      "Training Accuracy: 0.9437, Testing Accuracy: 0.9536\n",
      "\n"
     ]
    },
    {
     "name": "stdout",
     "output_type": "stream",
     "text": [
      "Epoch 30, Loss 0.043\n",
      "Training Accuracy: 0.9541, Testing Accuracy: 0.9612\n",
      "\n"
     ]
    },
    {
     "name": "stdout",
     "output_type": "stream",
     "text": [
      "Epoch 40, Loss 0.0375\n",
      "Training Accuracy: 0.9572, Testing Accuracy: 0.9622\n",
      "\n"
     ]
    },
    {
     "name": "stdout",
     "output_type": "stream",
     "text": [
      "Epoch 50, Loss 0.0342\n",
      "Training Accuracy: 0.9593, Testing Accuracy: 0.9637\n",
      "\n"
     ]
    },
    {
     "name": "stdout",
     "output_type": "stream",
     "text": [
      "Epoch 60, Loss 0.0319\n",
      "Training Accuracy: 0.9619, Testing Accuracy: 0.9647\n",
      "\n"
     ]
    },
    {
     "name": "stdout",
     "output_type": "stream",
     "text": [
      "Epoch 70, Loss 0.0302\n",
      "Training Accuracy: 0.9648, Testing Accuracy: 0.9672\n",
      "\n"
     ]
    },
    {
     "name": "stdout",
     "output_type": "stream",
     "text": [
      "Epoch 80, Loss 0.0288\n",
      "Training Accuracy: 0.9662, Testing Accuracy: 0.9682\n",
      "\n"
     ]
    },
    {
     "name": "stdout",
     "output_type": "stream",
     "text": [
      "Epoch 90, Loss 0.0277\n",
      "Training Accuracy: 0.9673, Testing Accuracy: 0.9677\n",
      "\n"
     ]
    },
    {
     "name": "stdout",
     "output_type": "stream",
     "text": [
      "Epoch 100, Loss 0.0268\n",
      "Training Accuracy: 0.9680, Testing Accuracy: 0.9682\n",
      "\n"
     ]
    },
    {
     "name": "stdout",
     "output_type": "stream",
     "text": [
      "Epoch 110, Loss 0.0259\n",
      "Training Accuracy: 0.9689, Testing Accuracy: 0.9693\n",
      "\n"
     ]
    },
    {
     "name": "stdout",
     "output_type": "stream",
     "text": [
      "Epoch 120, Loss 0.0252\n",
      "Training Accuracy: 0.9700, Testing Accuracy: 0.9698\n",
      "\n"
     ]
    },
    {
     "name": "stdout",
     "output_type": "stream",
     "text": [
      "Epoch 130, Loss 0.0245\n",
      "Training Accuracy: 0.9707, Testing Accuracy: 0.9698\n",
      "\n"
     ]
    },
    {
     "name": "stdout",
     "output_type": "stream",
     "text": [
      "Epoch 140, Loss 0.0239\n",
      "Training Accuracy: 0.9715, Testing Accuracy: 0.9698\n",
      "\n"
     ]
    },
    {
     "name": "stdout",
     "output_type": "stream",
     "text": [
      "Epoch 150, Loss 0.0234\n",
      "Training Accuracy: 0.9725, Testing Accuracy: 0.9708\n",
      "\n"
     ]
    },
    {
     "name": "stdout",
     "output_type": "stream",
     "text": [
      "Epoch 160, Loss 0.0229\n",
      "Training Accuracy: 0.9733, Testing Accuracy: 0.9713\n",
      "\n"
     ]
    },
    {
     "name": "stdout",
     "output_type": "stream",
     "text": [
      "Epoch 170, Loss 0.0224\n",
      "Training Accuracy: 0.9743, Testing Accuracy: 0.9713\n",
      "\n"
     ]
    },
    {
     "name": "stdout",
     "output_type": "stream",
     "text": [
      "Epoch 180, Loss 0.0219\n",
      "Training Accuracy: 0.9754, Testing Accuracy: 0.9708\n",
      "\n"
     ]
    },
    {
     "name": "stdout",
     "output_type": "stream",
     "text": [
      "Epoch 190, Loss 0.0215\n",
      "Training Accuracy: 0.9759, Testing Accuracy: 0.9718\n",
      "\n"
     ]
    },
    {
     "name": "stdout",
     "output_type": "stream",
     "text": [
      "Epoch 200, Loss 0.021\n",
      "Training Accuracy: 0.9763, Testing Accuracy: 0.9718\n",
      "\n"
     ]
    },
    {
     "name": "stdout",
     "output_type": "stream",
     "text": [
      "Epoch 210, Loss 0.0206\n",
      "Training Accuracy: 0.9769, Testing Accuracy: 0.9723\n",
      "\n"
     ]
    },
    {
     "name": "stdout",
     "output_type": "stream",
     "text": [
      "Epoch 220, Loss 0.0203\n",
      "Training Accuracy: 0.9781, Testing Accuracy: 0.9728\n",
      "\n"
     ]
    },
    {
     "name": "stdout",
     "output_type": "stream",
     "text": [
      "Epoch 230, Loss 0.0199\n",
      "Training Accuracy: 0.9787, Testing Accuracy: 0.9728\n",
      "\n"
     ]
    },
    {
     "name": "stdout",
     "output_type": "stream",
     "text": [
      "Epoch 240, Loss 0.0196\n",
      "Training Accuracy: 0.9789, Testing Accuracy: 0.9728\n",
      "\n"
     ]
    },
    {
     "data": {
      "text/plain": [
       "0.04621712170510709"
      ]
     },
     "execution_count": 22,
     "metadata": {},
     "output_type": "execute_result"
    }
   ],
   "source": [
    "nn_learner.train_loop(dl)"
   ]
  },
  {
   "cell_type": "code",
   "execution_count": 23,
   "id": "e0163366",
   "metadata": {
    "execution": {
     "iopub.execute_input": "2022-03-31T00:33:24.506955Z",
     "iopub.status.busy": "2022-03-31T00:33:24.506403Z",
     "iopub.status.idle": "2022-03-31T00:33:38.992437Z",
     "shell.execute_reply": "2022-03-31T00:33:38.993164Z"
    },
    "papermill": {
     "duration": 14.532975,
     "end_time": "2022-03-31T00:33:38.993324",
     "exception": false,
     "start_time": "2022-03-31T00:33:24.460349",
     "status": "completed"
    },
    "tags": []
   },
   "outputs": [
    {
     "name": "stdout",
     "output_type": "stream",
     "text": [
      "Epoch 0, Loss 0.2333\n",
      "Training Accuracy: 0.7131, Testing Accuracy: 0.7495\n",
      "\n"
     ]
    },
    {
     "name": "stdout",
     "output_type": "stream",
     "text": [
      "Epoch 10, Loss 0.1004\n",
      "Training Accuracy: 0.9151, Testing Accuracy: 0.9254\n",
      "\n"
     ]
    },
    {
     "name": "stdout",
     "output_type": "stream",
     "text": [
      "Epoch 20, Loss 0.0775\n",
      "Training Accuracy: 0.9307, Testing Accuracy: 0.9400\n",
      "\n"
     ]
    },
    {
     "name": "stdout",
     "output_type": "stream",
     "text": [
      "Epoch 30, Loss 0.067\n",
      "Training Accuracy: 0.9382, Testing Accuracy: 0.9486\n",
      "\n"
     ]
    },
    {
     "name": "stdout",
     "output_type": "stream",
     "text": [
      "Epoch 40, Loss 0.0606\n",
      "Training Accuracy: 0.9433, Testing Accuracy: 0.9541\n",
      "\n"
     ]
    },
    {
     "name": "stdout",
     "output_type": "stream",
     "text": [
      "Epoch 50, Loss 0.0563\n",
      "Training Accuracy: 0.9462, Testing Accuracy: 0.9582\n",
      "\n"
     ]
    },
    {
     "name": "stdout",
     "output_type": "stream",
     "text": [
      "Epoch 60, Loss 0.0531\n",
      "Training Accuracy: 0.9474, Testing Accuracy: 0.9602\n",
      "\n"
     ]
    },
    {
     "name": "stdout",
     "output_type": "stream",
     "text": [
      "Epoch 70, Loss 0.0507\n",
      "Training Accuracy: 0.9497, Testing Accuracy: 0.9607\n",
      "\n"
     ]
    },
    {
     "name": "stdout",
     "output_type": "stream",
     "text": [
      "Epoch 80, Loss 0.0487\n",
      "Training Accuracy: 0.9521, Testing Accuracy: 0.9617\n",
      "\n"
     ]
    },
    {
     "name": "stdout",
     "output_type": "stream",
     "text": [
      "Epoch 90, Loss 0.0471\n",
      "Training Accuracy: 0.9528, Testing Accuracy: 0.9622\n",
      "\n"
     ]
    },
    {
     "name": "stdout",
     "output_type": "stream",
     "text": [
      "Epoch 100, Loss 0.0457\n",
      "Training Accuracy: 0.9537, Testing Accuracy: 0.9632\n",
      "\n"
     ]
    },
    {
     "name": "stdout",
     "output_type": "stream",
     "text": [
      "Epoch 110, Loss 0.0445\n",
      "Training Accuracy: 0.9543, Testing Accuracy: 0.9627\n",
      "\n"
     ]
    },
    {
     "name": "stdout",
     "output_type": "stream",
     "text": [
      "Epoch 120, Loss 0.0435\n",
      "Training Accuracy: 0.9552, Testing Accuracy: 0.9627\n",
      "\n"
     ]
    },
    {
     "name": "stdout",
     "output_type": "stream",
     "text": [
      "Epoch 130, Loss 0.0426\n",
      "Training Accuracy: 0.9563, Testing Accuracy: 0.9637\n",
      "\n"
     ]
    },
    {
     "name": "stdout",
     "output_type": "stream",
     "text": [
      "Epoch 140, Loss 0.0417\n",
      "Training Accuracy: 0.9567, Testing Accuracy: 0.9642\n",
      "\n"
     ]
    },
    {
     "name": "stdout",
     "output_type": "stream",
     "text": [
      "Epoch 150, Loss 0.041\n",
      "Training Accuracy: 0.9576, Testing Accuracy: 0.9632\n",
      "\n"
     ]
    },
    {
     "name": "stdout",
     "output_type": "stream",
     "text": [
      "Epoch 160, Loss 0.0403\n",
      "Training Accuracy: 0.9578, Testing Accuracy: 0.9642\n",
      "\n"
     ]
    },
    {
     "name": "stdout",
     "output_type": "stream",
     "text": [
      "Epoch 170, Loss 0.0397\n",
      "Training Accuracy: 0.9584, Testing Accuracy: 0.9647\n",
      "\n"
     ]
    },
    {
     "name": "stdout",
     "output_type": "stream",
     "text": [
      "Epoch 180, Loss 0.0392\n",
      "Training Accuracy: 0.9584, Testing Accuracy: 0.9647\n",
      "\n"
     ]
    },
    {
     "name": "stdout",
     "output_type": "stream",
     "text": [
      "Epoch 190, Loss 0.0387\n",
      "Training Accuracy: 0.9586, Testing Accuracy: 0.9642\n",
      "\n"
     ]
    },
    {
     "name": "stdout",
     "output_type": "stream",
     "text": [
      "Epoch 200, Loss 0.0382\n",
      "Training Accuracy: 0.9594, Testing Accuracy: 0.9642\n",
      "\n"
     ]
    },
    {
     "name": "stdout",
     "output_type": "stream",
     "text": [
      "Epoch 210, Loss 0.0378\n",
      "Training Accuracy: 0.9599, Testing Accuracy: 0.9642\n",
      "\n"
     ]
    },
    {
     "name": "stdout",
     "output_type": "stream",
     "text": [
      "Epoch 220, Loss 0.0374\n",
      "Training Accuracy: 0.9604, Testing Accuracy: 0.9652\n",
      "\n"
     ]
    },
    {
     "name": "stdout",
     "output_type": "stream",
     "text": [
      "Epoch 230, Loss 0.037\n",
      "Training Accuracy: 0.9607, Testing Accuracy: 0.9652\n",
      "\n"
     ]
    },
    {
     "name": "stdout",
     "output_type": "stream",
     "text": [
      "Epoch 240, Loss 0.0366\n",
      "Training Accuracy: 0.9610, Testing Accuracy: 0.9652\n",
      "\n"
     ]
    },
    {
     "data": {
      "text/plain": [
       "0.01984266400801308"
      ]
     },
     "execution_count": 23,
     "metadata": {},
     "output_type": "execute_result"
    }
   ],
   "source": [
    "lr_learner.train_loop(dl)"
   ]
  },
  {
   "cell_type": "code",
   "execution_count": 24,
   "id": "ca410940",
   "metadata": {
    "execution": {
     "iopub.execute_input": "2022-03-31T00:33:39.084622Z",
     "iopub.status.busy": "2022-03-31T00:33:39.084087Z",
     "iopub.status.idle": "2022-03-31T00:33:39.317869Z",
     "shell.execute_reply": "2022-03-31T00:33:39.317397Z"
    },
    "papermill": {
     "duration": 0.283412,
     "end_time": "2022-03-31T00:33:39.317991",
     "exception": false,
     "start_time": "2022-03-31T00:33:39.034579",
     "status": "completed"
    },
    "tags": []
   },
   "outputs": [
    {
     "data": {
      "text/plain": [
       "<matplotlib.legend.Legend at 0x7ff32cfea7b8>"
      ]
     },
     "execution_count": 24,
     "metadata": {},
     "output_type": "execute_result"
    },
    {
     "data": {
      "image/png": "[encoded data removed]",
      "text/plain": [
       "<Figure size 1080x720 with 1 Axes>"
      ]
     },
     "metadata": {
      "needs_background": "light"
     },
     "output_type": "display_data"
    }
   ],
   "source": [
    "#comparing the results of NN and LR\n",
    "plt.figure(figsize=(15,10))\n",
    "\n",
    "# Neural Network plots\n",
    "plt.plot(acc_nn.accuracies, 'r-', label = \"Training Accuracies - NN\")\n",
    "plt.plot(acc_nn.test_accuracies, 'g-', label = \"Testing Accuracies - NN\")\n",
    "\n",
    "# Logistic Regression plots\n",
    "plt.plot(acc_lr.accuracies, 'k-', label = \"Training Accuracies - LR\")\n",
    "plt.plot(acc_lr.test_accuracies, 'b-', label = \"Testing Accuracies - LR\")\n",
    "plt.legend()"
   ]
  },
  {
   "cell_type": "markdown",
   "id": "80dfb35c",
   "metadata": {
    "papermill": {
     "duration": 0.042071,
     "end_time": "2022-03-31T00:33:39.402283",
     "exception": false,
     "start_time": "2022-03-31T00:33:39.360212",
     "status": "completed"
    },
    "tags": []
   },
   "source": [
    "#### Plotting the outputs of this layer of the NN.\n"
   ]
  },
  {
   "cell_type": "code",
   "execution_count": 25,
   "id": "45eb2ff5",
   "metadata": {
    "execution": {
     "iopub.execute_input": "2022-03-31T00:33:39.493426Z",
     "iopub.status.busy": "2022-03-31T00:33:39.492877Z",
     "iopub.status.idle": "2022-03-31T00:33:39.513673Z",
     "shell.execute_reply": "2022-03-31T00:33:39.514140Z"
    },
    "papermill": {
     "duration": 0.070068,
     "end_time": "2022-03-31T00:33:39.514298",
     "exception": false,
     "start_time": "2022-03-31T00:33:39.444230",
     "status": "completed"
    },
    "tags": []
   },
   "outputs": [],
   "source": [
    "new_model = Model(layers[:-2])\n",
    "testing_plot = new_model(testing_data_x)"
   ]
  },
  {
   "cell_type": "code",
   "execution_count": 26,
   "id": "4c0a5485",
   "metadata": {
    "execution": {
     "iopub.execute_input": "2022-03-31T00:33:39.612067Z",
     "iopub.status.busy": "2022-03-31T00:33:39.611505Z",
     "iopub.status.idle": "2022-03-31T00:33:39.817402Z",
     "shell.execute_reply": "2022-03-31T00:33:39.816931Z"
    },
    "papermill": {
     "duration": 0.260018,
     "end_time": "2022-03-31T00:33:39.817525",
     "exception": false,
     "start_time": "2022-03-31T00:33:39.557507",
     "status": "completed"
    },
    "tags": []
   },
   "outputs": [
    {
     "data": {
      "text/plain": [
       "Text(0.5, 1.0, 'Outputs')"
      ]
     },
     "execution_count": 26,
     "metadata": {},
     "output_type": "execute_result"
    },
    {
     "data": {
      "image/png": "[encoded data removed]",
      "text/plain": [
       "<Figure size 576x504 with 1 Axes>"
      ]
     },
     "metadata": {
      "needs_background": "light"
     },
     "output_type": "display_data"
    }
   ],
   "source": [
    "# Plotting the scatter plot of points and color coding by class\n",
    "plt.figure(figsize=(8,7))\n",
    "plt.scatter(testing_plot[:,0], testing_plot[:,1], alpha = 0.1, c = y_test.ravel());\n",
    "plt.title('Outputs')"
   ]
  },
  {
   "cell_type": "markdown",
   "id": "a74fcf8f",
   "metadata": {
    "papermill": {
     "duration": 0.044704,
     "end_time": "2022-03-31T00:33:39.906777",
     "exception": false,
     "start_time": "2022-03-31T00:33:39.862073",
     "status": "completed"
    },
    "tags": []
   },
   "source": [
    "Probability contours"
   ]
  },
  {
   "cell_type": "code",
   "execution_count": 27,
   "id": "d0afc8e3",
   "metadata": {
    "execution": {
     "iopub.execute_input": "2022-03-31T00:33:40.012815Z",
     "iopub.status.busy": "2022-03-31T00:33:40.011791Z",
     "iopub.status.idle": "2022-03-31T00:33:40.016794Z",
     "shell.execute_reply": "2022-03-31T00:33:40.016367Z"
    },
    "papermill": {
     "duration": 0.065472,
     "end_time": "2022-03-31T00:33:40.016913",
     "exception": false,
     "start_time": "2022-03-31T00:33:39.951441",
     "status": "completed"
    },
    "tags": []
   },
   "outputs": [],
   "source": [
    "model_prob = Model(layers[-2:]) "
   ]
  },
  {
   "cell_type": "code",
   "execution_count": 28,
   "id": "9b96e238",
   "metadata": {
    "execution": {
     "iopub.execute_input": "2022-03-31T00:33:40.144281Z",
     "iopub.status.busy": "2022-03-31T00:33:40.143710Z",
     "iopub.status.idle": "2022-03-31T00:33:40.155377Z",
     "shell.execute_reply": "2022-03-31T00:33:40.156135Z"
    },
    "papermill": {
     "duration": 0.06525,
     "end_time": "2022-03-31T00:33:40.156279",
     "exception": false,
     "start_time": "2022-03-31T00:33:40.091029",
     "status": "completed"
    },
    "tags": []
   },
   "outputs": [],
   "source": [
    "#creating the x and y ranges according to the above generated plot.\n",
    "x_range = np.linspace(-4, 1, 100) \n",
    "y_range = np.linspace(-6, 6, 100) \n",
    "x_grid, y_grid = np.meshgrid(x_range, y_range) # x_grid and y_grig are of size 100 X 100\n",
    "\n",
    "# converting x_grid and y_grid to continuous arrays\n",
    "x_gridflat = np.ravel(x_grid)\n",
    "y_gridflat = np.ravel(y_grid)\n",
    "\n",
    "# The last layer of the current model takes two columns as input. Hence transpose of np.vstack() is required.\n",
    "X = np.vstack((x_gridflat, y_gridflat)).T\n",
    "\n",
    "prob_contour = model_prob(X).reshape(100,100) "
   ]
  },
  {
   "cell_type": "code",
   "execution_count": 29,
   "id": "da72499a",
   "metadata": {
    "execution": {
     "iopub.execute_input": "2022-03-31T00:33:40.257344Z",
     "iopub.status.busy": "2022-03-31T00:33:40.256807Z",
     "iopub.status.idle": "2022-03-31T00:33:40.493841Z",
     "shell.execute_reply": "2022-03-31T00:33:40.493394Z"
    },
    "papermill": {
     "duration": 0.292449,
     "end_time": "2022-03-31T00:33:40.493963",
     "exception": false,
     "start_time": "2022-03-31T00:33:40.201514",
     "status": "completed"
    },
    "tags": []
   },
   "outputs": [
    {
     "data": {
      "image/png": "[encoded data removed]",
      "text/plain": [
       "<Figure size 720x648 with 1 Axes>"
      ]
     },
     "metadata": {
      "needs_background": "light"
     },
     "output_type": "display_data"
    }
   ],
   "source": [
    "plt.figure(figsize=(10,9))\n",
    "plt.scatter(testing_plot[:,0], testing_plot[:,1], alpha = 0.1, c = y_test.ravel())\n",
    "contours = plt.contour(x_grid,y_grid,prob_contour)\n",
    "plt.title('Probability Contours')\n",
    "plt.clabel(contours, inline = True );"
   ]
  },
  {
   "cell_type": "code",
   "execution_count": null,
   "id": "e81b4ac7",
   "metadata": {
    "papermill": {
     "duration": 0.047426,
     "end_time": "2022-03-31T00:33:40.589154",
     "exception": false,
     "start_time": "2022-03-31T00:33:40.541728",
     "status": "completed"
    },
    "tags": []
   },
   "outputs": [],
   "source": []
  }
 ],
 "metadata": {
  "kernelspec": {
   "display_name": "Python 3",
   "language": "python",
   "name": "python3"
  },
  "language_info": {
   "codemirror_mode": {
    "name": "ipython",
    "version": 3
   },
   "file_extension": ".py",
   "mimetype": "text/x-python",
   "name": "python",
   "nbconvert_exporter": "python",
   "pygments_lexer": "ipython3",
   "version": "3.6.15"
  },
  "papermill": {
   "default_parameters": {},
   "duration": 103.222769,
   "end_time": "2022-03-31T00:33:41.056570",
   "environment_variables": {},
   "exception": null,
   "input_path": "2020-08-11-part2.ipynb",
   "output_path": "2020-08-11-part2.ipynb",
   "parameters": {},
   "start_time": "2022-03-31T00:31:57.833801",
   "version": "2.3.3"
  }
 },
 "nbformat": 4,
 "nbformat_minor": 5
}