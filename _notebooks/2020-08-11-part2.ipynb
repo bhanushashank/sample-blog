{
 "cells": [
  {
   "cell_type": "markdown",
   "id": "98380cd3",
   "metadata": {
    "papermill": {
     "duration": 0.045135,
     "end_time": "2022-07-14T10:11:55.147379",
     "exception": false,
     "start_time": "2022-07-14T10:11:55.102244",
     "status": "completed"
    },
    "tags": []
   },
   "source": [
    "# Distinguish Your Own Digits (DYOD)"
   ]
  },
  {
   "cell_type": "markdown",
   "id": "ef31240d",
   "metadata": {
    "papermill": {
     "duration": 0.03065,
     "end_time": "2022-07-14T10:11:55.210386",
     "exception": false,
     "start_time": "2022-07-14T10:11:55.179736",
     "status": "completed"
    },
    "tags": []
   },
   "source": [
    "You are going to write a classifier that distinguishes between the number 3 and number 8."
   ]
  },
  {
   "cell_type": "code",
   "execution_count": 1,
   "id": "b15c8646",
   "metadata": {
    "execution": {
     "iopub.execute_input": "2022-07-14T10:11:55.293036Z",
     "iopub.status.busy": "2022-07-14T10:11:55.292072Z",
     "iopub.status.idle": "2022-07-14T10:11:55.303523Z",
     "shell.execute_reply": "2022-07-14T10:11:55.302869Z"
    },
    "papermill": {
     "duration": 0.056702,
     "end_time": "2022-07-14T10:11:55.303760",
     "exception": false,
     "start_time": "2022-07-14T10:11:55.247058",
     "status": "completed"
    },
    "tags": []
   },
   "outputs": [],
   "source": [
    "%load_ext autoreload\n",
    "%autoreload 2"
   ]
  },
  {
   "cell_type": "code",
   "execution_count": 2,
   "id": "22ef38dc",
   "metadata": {
    "execution": {
     "iopub.execute_input": "2022-07-14T10:11:55.374818Z",
     "iopub.status.busy": "2022-07-14T10:11:55.374045Z",
     "iopub.status.idle": "2022-07-14T10:11:56.049146Z",
     "shell.execute_reply": "2022-07-14T10:11:56.048455Z"
    },
    "papermill": {
     "duration": 0.710294,
     "end_time": "2022-07-14T10:11:56.049298",
     "exception": false,
     "start_time": "2022-07-14T10:11:55.339004",
     "status": "completed"
    },
    "tags": []
   },
   "outputs": [],
   "source": [
    "%matplotlib inline\n",
    "import numpy as np\n",
    "import matplotlib.pyplot as plt\n",
    "import pandas as pd"
   ]
  },
  {
   "cell_type": "markdown",
   "id": "ba036198",
   "metadata": {
    "papermill": {
     "duration": 0.032704,
     "end_time": "2022-07-14T10:11:56.114850",
     "exception": false,
     "start_time": "2022-07-14T10:11:56.082146",
     "status": "completed"
    },
    "tags": []
   },
   "source": [
    "From the command line run `pip install mnist`. This is a library that will help you bring down the mnist dataset. If you run this from a notebook, you need to put  `!pip install mnist` in a cell by itself."
   ]
  },
  {
   "cell_type": "code",
   "execution_count": 3,
   "id": "bb6ad8a1",
   "metadata": {
    "execution": {
     "iopub.execute_input": "2022-07-14T10:11:56.193819Z",
     "iopub.status.busy": "2022-07-14T10:11:56.193077Z",
     "iopub.status.idle": "2022-07-14T10:11:58.293831Z",
     "shell.execute_reply": "2022-07-14T10:11:58.294705Z"
    },
    "papermill": {
     "duration": 2.143908,
     "end_time": "2022-07-14T10:11:58.294881",
     "exception": false,
     "start_time": "2022-07-14T10:11:56.150973",
     "status": "completed"
    },
    "tags": []
   },
   "outputs": [
    {
     "name": "stdout",
     "output_type": "stream",
     "text": [
      "Collecting mnist\r\n"
     ]
    },
    {
     "name": "stdout",
     "output_type": "stream",
     "text": [
      "  Downloading mnist-0.2.2-py2.py3-none-any.whl (3.5 kB)\r\n",
      "Requirement already satisfied: numpy in /opt/hostedtoolcache/Python/3.6.15/x64/lib/python3.6/site-packages (from mnist) (1.19.5)\r\n"
     ]
    },
    {
     "name": "stdout",
     "output_type": "stream",
     "text": [
      "Installing collected packages: mnist\r\n",
      "Successfully installed mnist-0.2.2\r\n"
     ]
    }
   ],
   "source": [
    "!pip install mnist"
   ]
  },
  {
   "cell_type": "markdown",
   "id": "69df9c9a",
   "metadata": {
    "papermill": {
     "duration": 0.031514,
     "end_time": "2022-07-14T10:11:58.367894",
     "exception": false,
     "start_time": "2022-07-14T10:11:58.336380",
     "status": "completed"
    },
    "tags": []
   },
   "source": [
    "## Preparing the Data"
   ]
  },
  {
   "cell_type": "code",
   "execution_count": 4,
   "id": "7f69d806",
   "metadata": {
    "execution": {
     "iopub.execute_input": "2022-07-14T10:11:58.446131Z",
     "iopub.status.busy": "2022-07-14T10:11:58.440361Z",
     "iopub.status.idle": "2022-07-14T10:11:58.457484Z",
     "shell.execute_reply": "2022-07-14T10:11:58.456742Z"
    },
    "papermill": {
     "duration": 0.057999,
     "end_time": "2022-07-14T10:11:58.457631",
     "exception": false,
     "start_time": "2022-07-14T10:11:58.399632",
     "status": "completed"
    },
    "tags": []
   },
   "outputs": [],
   "source": [
    "import mnist"
   ]
  },
  {
   "cell_type": "code",
   "execution_count": 5,
   "id": "a411e44f",
   "metadata": {
    "execution": {
     "iopub.execute_input": "2022-07-14T10:11:58.527231Z",
     "iopub.status.busy": "2022-07-14T10:11:58.526484Z",
     "iopub.status.idle": "2022-07-14T10:11:59.188211Z",
     "shell.execute_reply": "2022-07-14T10:11:59.187503Z"
    },
    "papermill": {
     "duration": 0.699036,
     "end_time": "2022-07-14T10:11:59.188381",
     "exception": false,
     "start_time": "2022-07-14T10:11:58.489345",
     "status": "completed"
    },
    "tags": []
   },
   "outputs": [],
   "source": [
    "train_images = mnist.train_images()\n",
    "train_labels = mnist.train_labels()"
   ]
  },
  {
   "cell_type": "code",
   "execution_count": 6,
   "id": "dceab3a5",
   "metadata": {
    "execution": {
     "iopub.execute_input": "2022-07-14T10:11:59.261921Z",
     "iopub.status.busy": "2022-07-14T10:11:59.261136Z",
     "iopub.status.idle": "2022-07-14T10:11:59.279499Z",
     "shell.execute_reply": "2022-07-14T10:11:59.278867Z"
    },
    "papermill": {
     "duration": 0.054821,
     "end_time": "2022-07-14T10:11:59.279637",
     "exception": false,
     "start_time": "2022-07-14T10:11:59.224816",
     "status": "completed"
    },
    "tags": []
   },
   "outputs": [
    {
     "data": {
      "text/plain": [
       "((60000, 28, 28), (60000,))"
      ]
     },
     "execution_count": 6,
     "metadata": {},
     "output_type": "execute_result"
    }
   ],
   "source": [
    "train_images.shape, train_labels.shape"
   ]
  },
  {
   "cell_type": "code",
   "execution_count": 7,
   "id": "f50dc2bb",
   "metadata": {
    "execution": {
     "iopub.execute_input": "2022-07-14T10:11:59.349755Z",
     "iopub.status.busy": "2022-07-14T10:11:59.348970Z",
     "iopub.status.idle": "2022-07-14T10:11:59.464256Z",
     "shell.execute_reply": "2022-07-14T10:11:59.464835Z"
    },
    "papermill": {
     "duration": 0.153691,
     "end_time": "2022-07-14T10:11:59.465020",
     "exception": false,
     "start_time": "2022-07-14T10:11:59.311329",
     "status": "completed"
    },
    "tags": []
   },
   "outputs": [],
   "source": [
    "test_images = mnist.test_images()\n",
    "test_labels = mnist.test_labels()"
   ]
  },
  {
   "cell_type": "code",
   "execution_count": 8,
   "id": "fc38cf1b",
   "metadata": {
    "execution": {
     "iopub.execute_input": "2022-07-14T10:11:59.534461Z",
     "iopub.status.busy": "2022-07-14T10:11:59.533675Z",
     "iopub.status.idle": "2022-07-14T10:11:59.549169Z",
     "shell.execute_reply": "2022-07-14T10:11:59.549899Z"
    },
    "papermill": {
     "duration": 0.052482,
     "end_time": "2022-07-14T10:11:59.550056",
     "exception": false,
     "start_time": "2022-07-14T10:11:59.497574",
     "status": "completed"
    },
    "tags": []
   },
   "outputs": [
    {
     "data": {
      "text/plain": [
       "((10000, 28, 28), (10000,))"
      ]
     },
     "execution_count": 8,
     "metadata": {},
     "output_type": "execute_result"
    }
   ],
   "source": [
    "test_images.shape, test_labels.shape"
   ]
  },
  {
   "cell_type": "code",
   "execution_count": 9,
   "id": "f9ed8fe0",
   "metadata": {
    "execution": {
     "iopub.execute_input": "2022-07-14T10:11:59.625602Z",
     "iopub.status.busy": "2022-07-14T10:11:59.624868Z",
     "iopub.status.idle": "2022-07-14T10:11:59.811700Z",
     "shell.execute_reply": "2022-07-14T10:11:59.811046Z"
    },
    "papermill": {
     "duration": 0.225435,
     "end_time": "2022-07-14T10:11:59.811857",
     "exception": false,
     "start_time": "2022-07-14T10:11:59.586422",
     "status": "completed"
    },
    "tags": []
   },
   "outputs": [
    {
     "name": "stdout",
     "output_type": "stream",
     "text": [
      "2\n"
     ]
    },
    {
     "data": {
      "text/plain": [
       "<matplotlib.image.AxesImage at 0x7f2b79abb470>"
      ]
     },
     "execution_count": 9,
     "metadata": {},
     "output_type": "execute_result"
    },
    {
     "data": {
      "image/png": "[encoded data removed]",
      "text/plain": [
       "<Figure size 432x288 with 1 Axes>"
      ]
     },
     "metadata": {
      "needs_background": "light"
     },
     "output_type": "display_data"
    }
   ],
   "source": [
    "image_index = 7776 # You may select anything up to 60,000\n",
    "print(train_labels[image_index]) \n",
    "plt.imshow(train_images[image_index], cmap='Greys')"
   ]
  },
  {
   "cell_type": "markdown",
   "id": "a8d2388d",
   "metadata": {
    "papermill": {
     "duration": 0.035309,
     "end_time": "2022-07-14T10:11:59.881584",
     "exception": false,
     "start_time": "2022-07-14T10:11:59.846275",
     "status": "completed"
    },
    "tags": []
   },
   "source": [
    "## Filter data to get 3 and 8 out"
   ]
  },
  {
   "cell_type": "code",
   "execution_count": 10,
   "id": "776f7fc7",
   "metadata": {
    "execution": {
     "iopub.execute_input": "2022-07-14T10:11:59.961459Z",
     "iopub.status.busy": "2022-07-14T10:11:59.956234Z",
     "iopub.status.idle": "2022-07-14T10:11:59.977613Z",
     "shell.execute_reply": "2022-07-14T10:11:59.976861Z"
    },
    "papermill": {
     "duration": 0.059847,
     "end_time": "2022-07-14T10:11:59.977764",
     "exception": false,
     "start_time": "2022-07-14T10:11:59.917917",
     "status": "completed"
    },
    "tags": []
   },
   "outputs": [],
   "source": [
    "train_filter = np.where((train_labels == 3 ) | (train_labels == 8))\n",
    "test_filter = np.where((test_labels == 3) | (test_labels == 8))\n",
    "X_train, y_train = train_images[train_filter], train_labels[train_filter]\n",
    "X_test, y_test = test_images[test_filter], test_labels[test_filter]"
   ]
  },
  {
   "cell_type": "markdown",
   "id": "948f0b7e",
   "metadata": {
    "papermill": {
     "duration": 0.034222,
     "end_time": "2022-07-14T10:12:00.046889",
     "exception": false,
     "start_time": "2022-07-14T10:12:00.012667",
     "status": "completed"
    },
    "tags": []
   },
   "source": [
    "We normalize the pizel values in the 0 to 1 range"
   ]
  },
  {
   "cell_type": "code",
   "execution_count": 11,
   "id": "ee4c2166",
   "metadata": {
    "execution": {
     "iopub.execute_input": "2022-07-14T10:12:00.118203Z",
     "iopub.status.busy": "2022-07-14T10:12:00.117449Z",
     "iopub.status.idle": "2022-07-14T10:12:00.186450Z",
     "shell.execute_reply": "2022-07-14T10:12:00.185780Z"
    },
    "papermill": {
     "duration": 0.106574,
     "end_time": "2022-07-14T10:12:00.186599",
     "exception": false,
     "start_time": "2022-07-14T10:12:00.080025",
     "status": "completed"
    },
    "tags": []
   },
   "outputs": [],
   "source": [
    "X_train = X_train/255.\n",
    "X_test = X_test/255."
   ]
  },
  {
   "cell_type": "markdown",
   "id": "ddcf4fab",
   "metadata": {
    "papermill": {
     "duration": 0.036684,
     "end_time": "2022-07-14T10:12:00.258287",
     "exception": false,
     "start_time": "2022-07-14T10:12:00.221603",
     "status": "completed"
    },
    "tags": []
   },
   "source": [
    "And setup the labels as 1 (when the digit is 3) and 0 (when the digit is 8)"
   ]
  },
  {
   "cell_type": "code",
   "execution_count": 12,
   "id": "7dc908f2",
   "metadata": {
    "execution": {
     "iopub.execute_input": "2022-07-14T10:12:00.333959Z",
     "iopub.status.busy": "2022-07-14T10:12:00.333210Z",
     "iopub.status.idle": "2022-07-14T10:12:00.355374Z",
     "shell.execute_reply": "2022-07-14T10:12:00.356005Z"
    },
    "papermill": {
     "duration": 0.061777,
     "end_time": "2022-07-14T10:12:00.356211",
     "exception": false,
     "start_time": "2022-07-14T10:12:00.294434",
     "status": "completed"
    },
    "tags": []
   },
   "outputs": [],
   "source": [
    "y_train = 1*(y_train==3)\n",
    "y_test = 1*(y_test==3)"
   ]
  },
  {
   "cell_type": "code",
   "execution_count": 13,
   "id": "01e4e969",
   "metadata": {
    "execution": {
     "iopub.execute_input": "2022-07-14T10:12:00.429288Z",
     "iopub.status.busy": "2022-07-14T10:12:00.428537Z",
     "iopub.status.idle": "2022-07-14T10:12:00.443905Z",
     "shell.execute_reply": "2022-07-14T10:12:00.444496Z"
    },
    "papermill": {
     "duration": 0.052895,
     "end_time": "2022-07-14T10:12:00.444664",
     "exception": false,
     "start_time": "2022-07-14T10:12:00.391769",
     "status": "completed"
    },
    "tags": []
   },
   "outputs": [
    {
     "data": {
      "text/plain": [
       "((11982, 28, 28), (1984, 28, 28))"
      ]
     },
     "execution_count": 13,
     "metadata": {},
     "output_type": "execute_result"
    }
   ],
   "source": [
    "X_train.shape, X_test.shape"
   ]
  },
  {
   "cell_type": "markdown",
   "id": "5ccf3f85",
   "metadata": {
    "papermill": {
     "duration": 0.03508,
     "end_time": "2022-07-14T10:12:00.513945",
     "exception": false,
     "start_time": "2022-07-14T10:12:00.478865",
     "status": "completed"
    },
    "tags": []
   },
   "source": [
    "We reshape the data to flatten the image pixels into a set of features or co-variates:"
   ]
  },
  {
   "cell_type": "code",
   "execution_count": 14,
   "id": "5286a4a3",
   "metadata": {
    "execution": {
     "iopub.execute_input": "2022-07-14T10:12:00.586889Z",
     "iopub.status.busy": "2022-07-14T10:12:00.586140Z",
     "iopub.status.idle": "2022-07-14T10:12:00.602769Z",
     "shell.execute_reply": "2022-07-14T10:12:00.602139Z"
    },
    "papermill": {
     "duration": 0.05571,
     "end_time": "2022-07-14T10:12:00.602938",
     "exception": false,
     "start_time": "2022-07-14T10:12:00.547228",
     "status": "completed"
    },
    "tags": []
   },
   "outputs": [
    {
     "data": {
      "text/plain": [
       "((11982, 784), (1984, 784))"
      ]
     },
     "execution_count": 14,
     "metadata": {},
     "output_type": "execute_result"
    }
   ],
   "source": [
    "X_train = X_train.reshape(X_train.shape[0], -1)\n",
    "X_test = X_test.reshape(X_test.shape[0], -1)\n",
    "X_train.shape, X_test.shape"
   ]
  },
  {
   "cell_type": "code",
   "execution_count": 15,
   "id": "73c5f88a",
   "metadata": {
    "execution": {
     "iopub.execute_input": "2022-07-14T10:12:00.681164Z",
     "iopub.status.busy": "2022-07-14T10:12:00.680410Z",
     "iopub.status.idle": "2022-07-14T10:12:00.701870Z",
     "shell.execute_reply": "2022-07-14T10:12:00.701130Z"
    },
    "papermill": {
     "duration": 0.062229,
     "end_time": "2022-07-14T10:12:00.702009",
     "exception": false,
     "start_time": "2022-07-14T10:12:00.639780",
     "status": "completed"
    },
    "tags": []
   },
   "outputs": [],
   "source": [
    "#Impoting functions from 'Kudzu'\n",
    "from kudzu.model import Model\n",
    "from kudzu.train import Learner\n",
    "from kudzu.optim import GD\n",
    "from kudzu.data import Data, Sampler,Dataloader\n",
    "\n",
    "from kudzu.callbacks import AccCallback\n",
    "from kudzu.callbacks import ClfCallback\n",
    "\n",
    "from kudzu.loss import MSE\n",
    "\n",
    "from kudzu.layer import Sigmoid,Relu\n",
    "from kudzu.layer import Affine"
   ]
  },
  {
   "cell_type": "markdown",
   "id": "bc01172a",
   "metadata": {
    "papermill": {
     "duration": 0.038911,
     "end_time": "2022-07-14T10:12:00.776824",
     "exception": false,
     "start_time": "2022-07-14T10:12:00.737913",
     "status": "completed"
    },
    "tags": []
   },
   "source": [
    "### Let us create a `Config` class, to store important parameters. \n",
    "This class essentially plays the role of a dictionary."
   ]
  },
  {
   "cell_type": "code",
   "execution_count": 16,
   "id": "978281aa",
   "metadata": {
    "execution": {
     "iopub.execute_input": "2022-07-14T10:12:00.861656Z",
     "iopub.status.busy": "2022-07-14T10:12:00.860338Z",
     "iopub.status.idle": "2022-07-14T10:12:00.873986Z",
     "shell.execute_reply": "2022-07-14T10:12:00.874626Z"
    },
    "papermill": {
     "duration": 0.059525,
     "end_time": "2022-07-14T10:12:00.874796",
     "exception": false,
     "start_time": "2022-07-14T10:12:00.815271",
     "status": "completed"
    },
    "tags": []
   },
   "outputs": [],
   "source": [
    "class Config:\n",
    "    pass\n",
    "config = Config()\n",
    "config.lr = 0.001\n",
    "config.num_epochs = 250\n",
    "config.bs = 50"
   ]
  },
  {
   "cell_type": "markdown",
   "id": "1385fa59",
   "metadata": {
    "papermill": {
     "duration": 0.036644,
     "end_time": "2022-07-14T10:12:00.949011",
     "exception": false,
     "start_time": "2022-07-14T10:12:00.912367",
     "status": "completed"
    },
    "tags": []
   },
   "source": [
    "### Running Models with the Training data\n",
    "Details about the network layers:\n",
    "- A first affine layer has 784 inputs and does 100 affine transforms. These are followed by a Relu\n",
    "- A second affine layer has 100 inputs from the 100 activations of the past layer, and does 100 affine transforms. These are followed by a Relu\n",
    "- A third affine layer has 100 activations and does 2 affine transformations to create an embedding for visualization. There is no non-linearity here.\n",
    "- A final \"logistic regression\" which has an affine transform from 2 inputs to 1 output, which is squeezed through a sigmoid.\n"
   ]
  },
  {
   "cell_type": "code",
   "execution_count": 17,
   "id": "2b9c66db",
   "metadata": {
    "execution": {
     "iopub.execute_input": "2022-07-14T10:12:01.025667Z",
     "iopub.status.busy": "2022-07-14T10:12:01.024801Z",
     "iopub.status.idle": "2022-07-14T10:12:01.038016Z",
     "shell.execute_reply": "2022-07-14T10:12:01.038768Z"
    },
    "papermill": {
     "duration": 0.055132,
     "end_time": "2022-07-14T10:12:01.038930",
     "exception": false,
     "start_time": "2022-07-14T10:12:00.983798",
     "status": "completed"
    },
    "tags": []
   },
   "outputs": [],
   "source": [
    "data = Data(X_train, y_train.reshape(-1,1))\n",
    "sampler = Sampler(data, config.bs, shuffle=True)\n",
    "\n",
    "dl = Dataloader(data, sampler)\n",
    "\n",
    "opt = GD(config.lr)\n",
    "loss = MSE()"
   ]
  },
  {
   "cell_type": "code",
   "execution_count": 18,
   "id": "b275e4c2",
   "metadata": {
    "execution": {
     "iopub.execute_input": "2022-07-14T10:12:01.119343Z",
     "iopub.status.busy": "2022-07-14T10:12:01.118596Z",
     "iopub.status.idle": "2022-07-14T10:12:01.133543Z",
     "shell.execute_reply": "2022-07-14T10:12:01.132911Z"
    },
    "papermill": {
     "duration": 0.055608,
     "end_time": "2022-07-14T10:12:01.133682",
     "exception": false,
     "start_time": "2022-07-14T10:12:01.078074",
     "status": "completed"
    },
    "tags": []
   },
   "outputs": [],
   "source": [
    "training_data_x = X_train\n",
    "testing_data_x = X_test\n",
    "training_data_y = y_train.reshape(-1,1)\n",
    "testing_data_y = y_test.reshape(-1,1)"
   ]
  },
  {
   "cell_type": "code",
   "execution_count": 19,
   "id": "76951160",
   "metadata": {
    "execution": {
     "iopub.execute_input": "2022-07-14T10:12:01.211194Z",
     "iopub.status.busy": "2022-07-14T10:12:01.210406Z",
     "iopub.status.idle": "2022-07-14T10:12:01.230143Z",
     "shell.execute_reply": "2022-07-14T10:12:01.229274Z"
    },
    "papermill": {
     "duration": 0.060168,
     "end_time": "2022-07-14T10:12:01.230288",
     "exception": false,
     "start_time": "2022-07-14T10:12:01.170120",
     "status": "completed"
    },
    "tags": []
   },
   "outputs": [
    {
     "name": "stdout",
     "output_type": "stream",
     "text": [
      "xavier\n",
      "xavier\n",
      "xavier\n",
      "xavier\n",
      "xavier\n"
     ]
    }
   ],
   "source": [
    "layers = [Affine(\"first\", 784, 100), Relu(\"first\"), Affine(\"second\", 100, 100), Relu(\"second\"), Affine(\"third\", 100, 2), Affine(\"last\", 2, 1), Sigmoid(\"last\")]\n",
    "model_nn = Model(layers)\n",
    "model_lr = Model([Affine(\"logits\", 784, 1), Sigmoid(\"sigmoid\")])"
   ]
  },
  {
   "cell_type": "code",
   "execution_count": 20,
   "id": "6eede77a",
   "metadata": {
    "execution": {
     "iopub.execute_input": "2022-07-14T10:12:01.310887Z",
     "iopub.status.busy": "2022-07-14T10:12:01.310123Z",
     "iopub.status.idle": "2022-07-14T10:12:01.323798Z",
     "shell.execute_reply": "2022-07-14T10:12:01.323170Z"
    },
    "papermill": {
     "duration": 0.05606,
     "end_time": "2022-07-14T10:12:01.323937",
     "exception": false,
     "start_time": "2022-07-14T10:12:01.267877",
     "status": "completed"
    },
    "tags": []
   },
   "outputs": [],
   "source": [
    "nn_learner = Learner(loss, model_nn, opt, config.num_epochs)\n",
    "acc_nn = ClfCallback(nn_learner, config.bs, training_data_x , testing_data_x, training_data_y, testing_data_y)\n",
    "nn_learner.set_callbacks([acc_nn])"
   ]
  },
  {
   "cell_type": "code",
   "execution_count": 21,
   "id": "877b6cc7",
   "metadata": {
    "execution": {
     "iopub.execute_input": "2022-07-14T10:12:01.404734Z",
     "iopub.status.busy": "2022-07-14T10:12:01.403965Z",
     "iopub.status.idle": "2022-07-14T10:12:01.417793Z",
     "shell.execute_reply": "2022-07-14T10:12:01.417161Z"
    },
    "papermill": {
     "duration": 0.05715,
     "end_time": "2022-07-14T10:12:01.417934",
     "exception": false,
     "start_time": "2022-07-14T10:12:01.360784",
     "status": "completed"
    },
    "tags": []
   },
   "outputs": [],
   "source": [
    "lr_learner = Learner(loss, model_lr, opt, config.num_epochs)\n",
    "acc_lr = ClfCallback(lr_learner, config.bs, training_data_x , testing_data_x, training_data_y, testing_data_y)\n",
    "lr_learner.set_callbacks([acc_lr])"
   ]
  },
  {
   "cell_type": "code",
   "execution_count": 22,
   "id": "d9b133c3",
   "metadata": {
    "execution": {
     "iopub.execute_input": "2022-07-14T10:12:01.492660Z",
     "iopub.status.busy": "2022-07-14T10:12:01.491842Z",
     "iopub.status.idle": "2022-07-14T10:14:14.864079Z",
     "shell.execute_reply": "2022-07-14T10:14:14.865120Z"
    },
    "papermill": {
     "duration": 133.411873,
     "end_time": "2022-07-14T10:14:14.865291",
     "exception": false,
     "start_time": "2022-07-14T10:12:01.453418",
     "status": "completed"
    },
    "tags": []
   },
   "outputs": [
    {
     "name": "stdout",
     "output_type": "stream",
     "text": [
      "Epoch 0, Loss 0.2483\n",
      "Training Accuracy: 0.6106, Testing Accuracy: 0.6396\n",
      "\n"
     ]
    },
    {
     "name": "stdout",
     "output_type": "stream",
     "text": [
      "Epoch 10, Loss 0.0962\n",
      "Training Accuracy: 0.9202, Testing Accuracy: 0.9239\n",
      "\n"
     ]
    },
    {
     "name": "stdout",
     "output_type": "stream",
     "text": [
      "Epoch 20, Loss 0.0565\n",
      "Training Accuracy: 0.9424, Testing Accuracy: 0.9496\n",
      "\n"
     ]
    },
    {
     "name": "stdout",
     "output_type": "stream",
     "text": [
      "Epoch 30, Loss 0.0437\n",
      "Training Accuracy: 0.9544, Testing Accuracy: 0.9597\n",
      "\n"
     ]
    },
    {
     "name": "stdout",
     "output_type": "stream",
     "text": [
      "Epoch 40, Loss 0.0377\n",
      "Training Accuracy: 0.9582, Testing Accuracy: 0.9637\n",
      "\n"
     ]
    },
    {
     "name": "stdout",
     "output_type": "stream",
     "text": [
      "Epoch 50, Loss 0.0341\n",
      "Training Accuracy: 0.9609, Testing Accuracy: 0.9672\n",
      "\n"
     ]
    },
    {
     "name": "stdout",
     "output_type": "stream",
     "text": [
      "Epoch 60, Loss 0.0316\n",
      "Training Accuracy: 0.9631, Testing Accuracy: 0.9682\n",
      "\n"
     ]
    },
    {
     "name": "stdout",
     "output_type": "stream",
     "text": [
      "Epoch 70, Loss 0.0298\n",
      "Training Accuracy: 0.9649, Testing Accuracy: 0.9693\n",
      "\n"
     ]
    },
    {
     "name": "stdout",
     "output_type": "stream",
     "text": [
      "Epoch 80, Loss 0.0283\n",
      "Training Accuracy: 0.9669, Testing Accuracy: 0.9698\n",
      "\n"
     ]
    },
    {
     "name": "stdout",
     "output_type": "stream",
     "text": [
      "Epoch 90, Loss 0.027\n",
      "Training Accuracy: 0.9683, Testing Accuracy: 0.9688\n",
      "\n"
     ]
    },
    {
     "name": "stdout",
     "output_type": "stream",
     "text": [
      "Epoch 100, Loss 0.0259\n",
      "Training Accuracy: 0.9697, Testing Accuracy: 0.9698\n",
      "\n"
     ]
    },
    {
     "name": "stdout",
     "output_type": "stream",
     "text": [
      "Epoch 110, Loss 0.025\n",
      "Training Accuracy: 0.9710, Testing Accuracy: 0.9698\n",
      "\n"
     ]
    },
    {
     "name": "stdout",
     "output_type": "stream",
     "text": [
      "Epoch 120, Loss 0.0241\n",
      "Training Accuracy: 0.9725, Testing Accuracy: 0.9713\n",
      "\n"
     ]
    },
    {
     "name": "stdout",
     "output_type": "stream",
     "text": [
      "Epoch 130, Loss 0.0233\n",
      "Training Accuracy: 0.9738, Testing Accuracy: 0.9718\n",
      "\n"
     ]
    },
    {
     "name": "stdout",
     "output_type": "stream",
     "text": [
      "Epoch 140, Loss 0.0226\n",
      "Training Accuracy: 0.9749, Testing Accuracy: 0.9728\n",
      "\n"
     ]
    },
    {
     "name": "stdout",
     "output_type": "stream",
     "text": [
      "Epoch 150, Loss 0.0219\n",
      "Training Accuracy: 0.9760, Testing Accuracy: 0.9738\n",
      "\n"
     ]
    },
    {
     "name": "stdout",
     "output_type": "stream",
     "text": [
      "Epoch 160, Loss 0.0213\n",
      "Training Accuracy: 0.9764, Testing Accuracy: 0.9748\n",
      "\n"
     ]
    },
    {
     "name": "stdout",
     "output_type": "stream",
     "text": [
      "Epoch 170, Loss 0.0207\n",
      "Training Accuracy: 0.9769, Testing Accuracy: 0.9758\n",
      "\n"
     ]
    },
    {
     "name": "stdout",
     "output_type": "stream",
     "text": [
      "Epoch 180, Loss 0.0202\n",
      "Training Accuracy: 0.9774, Testing Accuracy: 0.9753\n",
      "\n"
     ]
    },
    {
     "name": "stdout",
     "output_type": "stream",
     "text": [
      "Epoch 190, Loss 0.0197\n",
      "Training Accuracy: 0.9785, Testing Accuracy: 0.9758\n",
      "\n"
     ]
    },
    {
     "name": "stdout",
     "output_type": "stream",
     "text": [
      "Epoch 200, Loss 0.0192\n",
      "Training Accuracy: 0.9790, Testing Accuracy: 0.9753\n",
      "\n"
     ]
    },
    {
     "name": "stdout",
     "output_type": "stream",
     "text": [
      "Epoch 210, Loss 0.0187\n",
      "Training Accuracy: 0.9794, Testing Accuracy: 0.9753\n",
      "\n"
     ]
    },
    {
     "name": "stdout",
     "output_type": "stream",
     "text": [
      "Epoch 220, Loss 0.0182\n",
      "Training Accuracy: 0.9801, Testing Accuracy: 0.9753\n",
      "\n"
     ]
    },
    {
     "name": "stdout",
     "output_type": "stream",
     "text": [
      "Epoch 230, Loss 0.0178\n",
      "Training Accuracy: 0.9808, Testing Accuracy: 0.9758\n",
      "\n"
     ]
    },
    {
     "name": "stdout",
     "output_type": "stream",
     "text": [
      "Epoch 240, Loss 0.0174\n",
      "Training Accuracy: 0.9811, Testing Accuracy: 0.9753\n",
      "\n"
     ]
    },
    {
     "data": {
      "text/plain": [
       "0.004132868719168828"
      ]
     },
     "execution_count": 22,
     "metadata": {},
     "output_type": "execute_result"
    }
   ],
   "source": [
    "nn_learner.train_loop(dl)"
   ]
  },
  {
   "cell_type": "code",
   "execution_count": 23,
   "id": "e0163366",
   "metadata": {
    "execution": {
     "iopub.execute_input": "2022-07-14T10:14:14.966135Z",
     "iopub.status.busy": "2022-07-14T10:14:14.965359Z",
     "iopub.status.idle": "2022-07-14T10:14:33.643325Z",
     "shell.execute_reply": "2022-07-14T10:14:33.644365Z"
    },
    "papermill": {
     "duration": 18.73441,
     "end_time": "2022-07-14T10:14:33.644535",
     "exception": false,
     "start_time": "2022-07-14T10:14:14.910125",
     "status": "completed"
    },
    "tags": []
   },
   "outputs": [
    {
     "name": "stdout",
     "output_type": "stream",
     "text": [
      "Epoch 0, Loss 0.2579\n",
      "Training Accuracy: 0.6118, Testing Accuracy: 0.6164\n",
      "\n"
     ]
    },
    {
     "name": "stdout",
     "output_type": "stream",
     "text": [
      "Epoch 10, Loss 0.108\n",
      "Training Accuracy: 0.8970, Testing Accuracy: 0.9042\n",
      "\n"
     ]
    },
    {
     "name": "stdout",
     "output_type": "stream",
     "text": [
      "Epoch 20, Loss 0.0823\n",
      "Training Accuracy: 0.9197, Testing Accuracy: 0.9335\n",
      "\n"
     ]
    },
    {
     "name": "stdout",
     "output_type": "stream",
     "text": [
      "Epoch 30, Loss 0.0704\n",
      "Training Accuracy: 0.9318, Testing Accuracy: 0.9461\n",
      "\n"
     ]
    },
    {
     "name": "stdout",
     "output_type": "stream",
     "text": [
      "Epoch 40, Loss 0.0633\n",
      "Training Accuracy: 0.9382, Testing Accuracy: 0.9511\n",
      "\n"
     ]
    },
    {
     "name": "stdout",
     "output_type": "stream",
     "text": [
      "Epoch 50, Loss 0.0584\n",
      "Training Accuracy: 0.9425, Testing Accuracy: 0.9546\n",
      "\n"
     ]
    },
    {
     "name": "stdout",
     "output_type": "stream",
     "text": [
      "Epoch 60, Loss 0.0549\n",
      "Training Accuracy: 0.9448, Testing Accuracy: 0.9567\n",
      "\n"
     ]
    },
    {
     "name": "stdout",
     "output_type": "stream",
     "text": [
      "Epoch 70, Loss 0.0522\n",
      "Training Accuracy: 0.9464, Testing Accuracy: 0.9587\n",
      "\n"
     ]
    },
    {
     "name": "stdout",
     "output_type": "stream",
     "text": [
      "Epoch 80, Loss 0.05\n",
      "Training Accuracy: 0.9488, Testing Accuracy: 0.9582\n",
      "\n"
     ]
    },
    {
     "name": "stdout",
     "output_type": "stream",
     "text": [
      "Epoch 90, Loss 0.0482\n",
      "Training Accuracy: 0.9498, Testing Accuracy: 0.9602\n",
      "\n"
     ]
    },
    {
     "name": "stdout",
     "output_type": "stream",
     "text": [
      "Epoch 100, Loss 0.0467\n",
      "Training Accuracy: 0.9512, Testing Accuracy: 0.9617\n",
      "\n"
     ]
    },
    {
     "name": "stdout",
     "output_type": "stream",
     "text": [
      "Epoch 110, Loss 0.0454\n",
      "Training Accuracy: 0.9523, Testing Accuracy: 0.9622\n",
      "\n"
     ]
    },
    {
     "name": "stdout",
     "output_type": "stream",
     "text": [
      "Epoch 120, Loss 0.0443\n",
      "Training Accuracy: 0.9536, Testing Accuracy: 0.9627\n",
      "\n"
     ]
    },
    {
     "name": "stdout",
     "output_type": "stream",
     "text": [
      "Epoch 130, Loss 0.0433\n",
      "Training Accuracy: 0.9546, Testing Accuracy: 0.9642\n",
      "\n"
     ]
    },
    {
     "name": "stdout",
     "output_type": "stream",
     "text": [
      "Epoch 140, Loss 0.0425\n",
      "Training Accuracy: 0.9548, Testing Accuracy: 0.9642\n",
      "\n"
     ]
    },
    {
     "name": "stdout",
     "output_type": "stream",
     "text": [
      "Epoch 150, Loss 0.0417\n",
      "Training Accuracy: 0.9553, Testing Accuracy: 0.9642\n",
      "\n"
     ]
    },
    {
     "name": "stdout",
     "output_type": "stream",
     "text": [
      "Epoch 160, Loss 0.041\n",
      "Training Accuracy: 0.9560, Testing Accuracy: 0.9652\n",
      "\n"
     ]
    },
    {
     "name": "stdout",
     "output_type": "stream",
     "text": [
      "Epoch 170, Loss 0.0404\n",
      "Training Accuracy: 0.9569, Testing Accuracy: 0.9652\n",
      "\n"
     ]
    },
    {
     "name": "stdout",
     "output_type": "stream",
     "text": [
      "Epoch 180, Loss 0.0398\n",
      "Training Accuracy: 0.9572, Testing Accuracy: 0.9652\n",
      "\n"
     ]
    },
    {
     "name": "stdout",
     "output_type": "stream",
     "text": [
      "Epoch 190, Loss 0.0392\n",
      "Training Accuracy: 0.9576, Testing Accuracy: 0.9657\n",
      "\n"
     ]
    },
    {
     "name": "stdout",
     "output_type": "stream",
     "text": [
      "Epoch 200, Loss 0.0387\n",
      "Training Accuracy: 0.9584, Testing Accuracy: 0.9662\n",
      "\n"
     ]
    },
    {
     "name": "stdout",
     "output_type": "stream",
     "text": [
      "Epoch 210, Loss 0.0383\n",
      "Training Accuracy: 0.9586, Testing Accuracy: 0.9662\n",
      "\n"
     ]
    },
    {
     "name": "stdout",
     "output_type": "stream",
     "text": [
      "Epoch 220, Loss 0.0379\n",
      "Training Accuracy: 0.9593, Testing Accuracy: 0.9667\n",
      "\n"
     ]
    },
    {
     "name": "stdout",
     "output_type": "stream",
     "text": [
      "Epoch 230, Loss 0.0375\n",
      "Training Accuracy: 0.9595, Testing Accuracy: 0.9667\n",
      "\n"
     ]
    },
    {
     "name": "stdout",
     "output_type": "stream",
     "text": [
      "Epoch 240, Loss 0.0371\n",
      "Training Accuracy: 0.9601, Testing Accuracy: 0.9677\n",
      "\n"
     ]
    },
    {
     "data": {
      "text/plain": [
       "0.0479776936469908"
      ]
     },
     "execution_count": 23,
     "metadata": {},
     "output_type": "execute_result"
    }
   ],
   "source": [
    "lr_learner.train_loop(dl)"
   ]
  },
  {
   "cell_type": "code",
   "execution_count": 24,
   "id": "ca410940",
   "metadata": {
    "execution": {
     "iopub.execute_input": "2022-07-14T10:14:33.761378Z",
     "iopub.status.busy": "2022-07-14T10:14:33.760590Z",
     "iopub.status.idle": "2022-07-14T10:14:34.082323Z",
     "shell.execute_reply": "2022-07-14T10:14:34.081552Z"
    },
    "papermill": {
     "duration": 0.382087,
     "end_time": "2022-07-14T10:14:34.082481",
     "exception": false,
     "start_time": "2022-07-14T10:14:33.700394",
     "status": "completed"
    },
    "tags": []
   },
   "outputs": [
    {
     "data": {
      "text/plain": [
       "<matplotlib.legend.Legend at 0x7f2b7961ca58>"
      ]
     },
     "execution_count": 24,
     "metadata": {},
     "output_type": "execute_result"
    },
    {
     "data": {
      "image/png": "[encoded data removed]",
      "text/plain": [
       "<Figure size 1080x720 with 1 Axes>"
      ]
     },
     "metadata": {
      "needs_background": "light"
     },
     "output_type": "display_data"
    }
   ],
   "source": [
    "#comparing the results of NN and LR\n",
    "plt.figure(figsize=(15,10))\n",
    "\n",
    "# Neural Network plots\n",
    "plt.plot(acc_nn.accuracies, 'r-', label = \"Training Accuracies - NN\")\n",
    "plt.plot(acc_nn.test_accuracies, 'g-', label = \"Testing Accuracies - NN\")\n",
    "\n",
    "# Logistic Regression plots\n",
    "plt.plot(acc_lr.accuracies, 'k-', label = \"Training Accuracies - LR\")\n",
    "plt.plot(acc_lr.test_accuracies, 'b-', label = \"Testing Accuracies - LR\")\n",
    "plt.legend()"
   ]
  },
  {
   "cell_type": "markdown",
   "id": "80dfb35c",
   "metadata": {
    "papermill": {
     "duration": 0.056329,
     "end_time": "2022-07-14T10:14:34.192317",
     "exception": false,
     "start_time": "2022-07-14T10:14:34.135988",
     "status": "completed"
    },
    "tags": []
   },
   "source": [
    "#### Plotting the outputs of this layer of the NN.\n"
   ]
  },
  {
   "cell_type": "code",
   "execution_count": 25,
   "id": "45eb2ff5",
   "metadata": {
    "execution": {
     "iopub.execute_input": "2022-07-14T10:14:34.308654Z",
     "iopub.status.busy": "2022-07-14T10:14:34.307057Z",
     "iopub.status.idle": "2022-07-14T10:14:34.336487Z",
     "shell.execute_reply": "2022-07-14T10:14:34.337479Z"
    },
    "papermill": {
     "duration": 0.090863,
     "end_time": "2022-07-14T10:14:34.337663",
     "exception": false,
     "start_time": "2022-07-14T10:14:34.246800",
     "status": "completed"
    },
    "tags": []
   },
   "outputs": [],
   "source": [
    "new_model = Model(layers[:-2])\n",
    "testing_plot = new_model(testing_data_x)"
   ]
  },
  {
   "cell_type": "code",
   "execution_count": 26,
   "id": "4c0a5485",
   "metadata": {
    "execution": {
     "iopub.execute_input": "2022-07-14T10:14:34.453632Z",
     "iopub.status.busy": "2022-07-14T10:14:34.452870Z",
     "iopub.status.idle": "2022-07-14T10:14:34.729362Z",
     "shell.execute_reply": "2022-07-14T10:14:34.727405Z"
    },
    "papermill": {
     "duration": 0.337242,
     "end_time": "2022-07-14T10:14:34.729583",
     "exception": false,
     "start_time": "2022-07-14T10:14:34.392341",
     "status": "completed"
    },
    "tags": []
   },
   "outputs": [
    {
     "data": {
      "text/plain": [
       "Text(0.5, 1.0, 'Outputs')"
      ]
     },
     "execution_count": 26,
     "metadata": {},
     "output_type": "execute_result"
    },
    {
     "data": {
      "image/png": "[encoded data removed]",
      "text/plain": [
       "<Figure size 576x504 with 1 Axes>"
      ]
     },
     "metadata": {
      "needs_background": "light"
     },
     "output_type": "display_data"
    }
   ],
   "source": [
    "# Plotting the scatter plot of points and color coding by class\n",
    "plt.figure(figsize=(8,7))\n",
    "plt.scatter(testing_plot[:,0], testing_plot[:,1], alpha = 0.1, c = y_test.ravel());\n",
    "plt.title('Outputs')"
   ]
  },
  {
   "cell_type": "markdown",
   "id": "a74fcf8f",
   "metadata": {
    "papermill": {
     "duration": 0.059451,
     "end_time": "2022-07-14T10:14:34.845056",
     "exception": false,
     "start_time": "2022-07-14T10:14:34.785605",
     "status": "completed"
    },
    "tags": []
   },
   "source": [
    "Probability contours"
   ]
  },
  {
   "cell_type": "code",
   "execution_count": 27,
   "id": "d0afc8e3",
   "metadata": {
    "execution": {
     "iopub.execute_input": "2022-07-14T10:14:34.971135Z",
     "iopub.status.busy": "2022-07-14T10:14:34.970372Z",
     "iopub.status.idle": "2022-07-14T10:14:34.985211Z",
     "shell.execute_reply": "2022-07-14T10:14:34.985824Z"
    },
    "papermill": {
     "duration": 0.081887,
     "end_time": "2022-07-14T10:14:34.985998",
     "exception": false,
     "start_time": "2022-07-14T10:14:34.904111",
     "status": "completed"
    },
    "tags": []
   },
   "outputs": [],
   "source": [
    "model_prob = Model(layers[-2:]) "
   ]
  },
  {
   "cell_type": "code",
   "execution_count": 28,
   "id": "9b96e238",
   "metadata": {
    "execution": {
     "iopub.execute_input": "2022-07-14T10:14:35.142103Z",
     "iopub.status.busy": "2022-07-14T10:14:35.141341Z",
     "iopub.status.idle": "2022-07-14T10:14:35.156401Z",
     "shell.execute_reply": "2022-07-14T10:14:35.156997Z"
    },
    "papermill": {
     "duration": 0.080599,
     "end_time": "2022-07-14T10:14:35.157167",
     "exception": false,
     "start_time": "2022-07-14T10:14:35.076568",
     "status": "completed"
    },
    "tags": []
   },
   "outputs": [],
   "source": [
    "#creating the x and y ranges according to the above generated plot.\n",
    "x_range = np.linspace(-4, 1, 100) \n",
    "y_range = np.linspace(-6, 6, 100) \n",
    "x_grid, y_grid = np.meshgrid(x_range, y_range) # x_grid and y_grig are of size 100 X 100\n",
    "\n",
    "# converting x_grid and y_grid to continuous arrays\n",
    "x_gridflat = np.ravel(x_grid)\n",
    "y_gridflat = np.ravel(y_grid)\n",
    "\n",
    "# The last layer of the current model takes two columns as input. Hence transpose of np.vstack() is required.\n",
    "X = np.vstack((x_gridflat, y_gridflat)).T\n",
    "\n",
    "prob_contour = model_prob(X).reshape(100,100) "
   ]
  },
  {
   "cell_type": "code",
   "execution_count": 29,
   "id": "da72499a",
   "metadata": {
    "execution": {
     "iopub.execute_input": "2022-07-14T10:14:35.280944Z",
     "iopub.status.busy": "2022-07-14T10:14:35.280044Z",
     "iopub.status.idle": "2022-07-14T10:14:35.622559Z",
     "shell.execute_reply": "2022-07-14T10:14:35.623590Z"
    },
    "papermill": {
     "duration": 0.408075,
     "end_time": "2022-07-14T10:14:35.623761",
     "exception": false,
     "start_time": "2022-07-14T10:14:35.215686",
     "status": "completed"
    },
    "tags": []
   },
   "outputs": [
    {
     "data": {
      "image/png": "[encoded data removed]",
      "text/plain": [
       "<Figure size 720x648 with 1 Axes>"
      ]
     },
     "metadata": {
      "needs_background": "light"
     },
     "output_type": "display_data"
    }
   ],
   "source": [
    "plt.figure(figsize=(10,9))\n",
    "plt.scatter(testing_plot[:,0], testing_plot[:,1], alpha = 0.1, c = y_test.ravel())\n",
    "contours = plt.contour(x_grid,y_grid,prob_contour)\n",
    "plt.title('Probability Contours')\n",
    "plt.clabel(contours, inline = True );"
   ]
  },
  {
   "cell_type": "code",
   "execution_count": null,
   "id": "e81b4ac7",
   "metadata": {
    "papermill": {
     "duration": 0.063969,
     "end_time": "2022-07-14T10:14:35.749662",
     "exception": false,
     "start_time": "2022-07-14T10:14:35.685693",
     "status": "completed"
    },
    "tags": []
   },
   "outputs": [],
   "source": []
  }
 ],
 "metadata": {
  "kernelspec": {
   "display_name": "Python 3",
   "language": "python",
   "name": "python3"
  },
  "language_info": {
   "codemirror_mode": {
    "name": "ipython",
    "version": 3
   },
   "file_extension": ".py",
   "mimetype": "text/x-python",
   "name": "python",
   "nbconvert_exporter": "python",
   "pygments_lexer": "ipython3",
   "version": "3.6.15"
  },
  "papermill": {
   "default_parameters": {},
   "duration": 162.370256,
   "end_time": "2022-07-14T10:14:36.232430",
   "environment_variables": {},
   "exception": null,
   "input_path": "2020-08-11-part2.ipynb",
   "output_path": "2020-08-11-part2.ipynb",
   "parameters": {},
   "start_time": "2022-07-14T10:11:53.862174",
   "version": "2.3.3"
  }
 },
 "nbformat": 4,
 "nbformat_minor": 5
}