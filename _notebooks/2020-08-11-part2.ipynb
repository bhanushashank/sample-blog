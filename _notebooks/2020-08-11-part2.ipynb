{
 "cells": [
  {
   "cell_type": "markdown",
   "id": "98380cd3",
   "metadata": {
    "papermill": {
     "duration": 0.027863,
     "end_time": "2022-09-04T10:11:27.243713",
     "exception": false,
     "start_time": "2022-09-04T10:11:27.215850",
     "status": "completed"
    },
    "tags": []
   },
   "source": [
    "# Distinguish Your Own Digits (DYOD)"
   ]
  },
  {
   "cell_type": "markdown",
   "id": "ef31240d",
   "metadata": {
    "papermill": {
     "duration": 0.022208,
     "end_time": "2022-09-04T10:11:27.287774",
     "exception": false,
     "start_time": "2022-09-04T10:11:27.265566",
     "status": "completed"
    },
    "tags": []
   },
   "source": [
    "You are going to write a classifier that distinguishes between the number 3 and number 8."
   ]
  },
  {
   "cell_type": "code",
   "execution_count": 1,
   "id": "b15c8646",
   "metadata": {
    "execution": {
     "iopub.execute_input": "2022-09-04T10:11:27.341420Z",
     "iopub.status.busy": "2022-09-04T10:11:27.340838Z",
     "iopub.status.idle": "2022-09-04T10:11:27.352343Z",
     "shell.execute_reply": "2022-09-04T10:11:27.351276Z"
    },
    "papermill": {
     "duration": 0.042593,
     "end_time": "2022-09-04T10:11:27.352468",
     "exception": false,
     "start_time": "2022-09-04T10:11:27.309875",
     "status": "completed"
    },
    "tags": []
   },
   "outputs": [],
   "source": [
    "%load_ext autoreload\n",
    "%autoreload 2"
   ]
  },
  {
   "cell_type": "code",
   "execution_count": 2,
   "id": "22ef38dc",
   "metadata": {
    "execution": {
     "iopub.execute_input": "2022-09-04T10:11:27.403127Z",
     "iopub.status.busy": "2022-09-04T10:11:27.401797Z",
     "iopub.status.idle": "2022-09-04T10:11:27.941526Z",
     "shell.execute_reply": "2022-09-04T10:11:27.941939Z"
    },
    "papermill": {
     "duration": 0.568306,
     "end_time": "2022-09-04T10:11:27.942123",
     "exception": false,
     "start_time": "2022-09-04T10:11:27.373817",
     "status": "completed"
    },
    "tags": []
   },
   "outputs": [],
   "source": [
    "%matplotlib inline\n",
    "import numpy as np\n",
    "import matplotlib.pyplot as plt\n",
    "import pandas as pd"
   ]
  },
  {
   "cell_type": "markdown",
   "id": "ba036198",
   "metadata": {
    "papermill": {
     "duration": 0.021337,
     "end_time": "2022-09-04T10:11:27.984715",
     "exception": false,
     "start_time": "2022-09-04T10:11:27.963378",
     "status": "completed"
    },
    "tags": []
   },
   "source": [
    "From the command line run `pip install mnist`. This is a library that will help you bring down the mnist dataset. If you run this from a notebook, you need to put  `!pip install mnist` in a cell by itself."
   ]
  },
  {
   "cell_type": "code",
   "execution_count": 3,
   "id": "bb6ad8a1",
   "metadata": {
    "execution": {
     "iopub.execute_input": "2022-09-04T10:11:28.037064Z",
     "iopub.status.busy": "2022-09-04T10:11:28.036176Z",
     "iopub.status.idle": "2022-09-04T10:11:30.506274Z",
     "shell.execute_reply": "2022-09-04T10:11:30.504726Z"
    },
    "papermill": {
     "duration": 2.500509,
     "end_time": "2022-09-04T10:11:30.506411",
     "exception": false,
     "start_time": "2022-09-04T10:11:28.005902",
     "status": "completed"
    },
    "tags": []
   },
   "outputs": [
    {
     "name": "stdout",
     "output_type": "stream",
     "text": [
      "Collecting mnist\r\n"
     ]
    },
    {
     "name": "stdout",
     "output_type": "stream",
     "text": [
      "  Downloading mnist-0.2.2-py2.py3-none-any.whl (3.5 kB)\r\n",
      "Requirement already satisfied: numpy in /opt/hostedtoolcache/Python/3.6.15/x64/lib/python3.6/site-packages (from mnist) (1.19.5)\r\n"
     ]
    },
    {
     "name": "stdout",
     "output_type": "stream",
     "text": [
      "Installing collected packages: mnist\r\n"
     ]
    },
    {
     "name": "stdout",
     "output_type": "stream",
     "text": [
      "Successfully installed mnist-0.2.2\r\n"
     ]
    }
   ],
   "source": [
    "!pip install mnist"
   ]
  },
  {
   "cell_type": "markdown",
   "id": "69df9c9a",
   "metadata": {
    "papermill": {
     "duration": 0.022563,
     "end_time": "2022-09-04T10:11:30.551305",
     "exception": false,
     "start_time": "2022-09-04T10:11:30.528742",
     "status": "completed"
    },
    "tags": []
   },
   "source": [
    "## Preparing the Data"
   ]
  },
  {
   "cell_type": "code",
   "execution_count": 4,
   "id": "7f69d806",
   "metadata": {
    "execution": {
     "iopub.execute_input": "2022-09-04T10:11:30.600224Z",
     "iopub.status.busy": "2022-09-04T10:11:30.599336Z",
     "iopub.status.idle": "2022-09-04T10:11:30.612950Z",
     "shell.execute_reply": "2022-09-04T10:11:30.612470Z"
    },
    "papermill": {
     "duration": 0.039621,
     "end_time": "2022-09-04T10:11:30.613056",
     "exception": false,
     "start_time": "2022-09-04T10:11:30.573435",
     "status": "completed"
    },
    "tags": []
   },
   "outputs": [],
   "source": [
    "import mnist"
   ]
  },
  {
   "cell_type": "code",
   "execution_count": 5,
   "id": "a411e44f",
   "metadata": {
    "execution": {
     "iopub.execute_input": "2022-09-04T10:11:30.663976Z",
     "iopub.status.busy": "2022-09-04T10:11:30.663120Z",
     "iopub.status.idle": "2022-09-04T10:11:31.327696Z",
     "shell.execute_reply": "2022-09-04T10:11:31.328268Z"
    },
    "papermill": {
     "duration": 0.693227,
     "end_time": "2022-09-04T10:11:31.328424",
     "exception": false,
     "start_time": "2022-09-04T10:11:30.635197",
     "status": "completed"
    },
    "tags": []
   },
   "outputs": [],
   "source": [
    "train_images = mnist.train_images()\n",
    "train_labels = mnist.train_labels()"
   ]
  },
  {
   "cell_type": "code",
   "execution_count": 6,
   "id": "dceab3a5",
   "metadata": {
    "execution": {
     "iopub.execute_input": "2022-09-04T10:11:31.377499Z",
     "iopub.status.busy": "2022-09-04T10:11:31.376618Z",
     "iopub.status.idle": "2022-09-04T10:11:31.391009Z",
     "shell.execute_reply": "2022-09-04T10:11:31.390478Z"
    },
    "papermill": {
     "duration": 0.040112,
     "end_time": "2022-09-04T10:11:31.391109",
     "exception": false,
     "start_time": "2022-09-04T10:11:31.350997",
     "status": "completed"
    },
    "tags": []
   },
   "outputs": [
    {
     "data": {
      "text/plain": [
       "((60000, 28, 28), (60000,))"
      ]
     },
     "execution_count": 6,
     "metadata": {},
     "output_type": "execute_result"
    }
   ],
   "source": [
    "train_images.shape, train_labels.shape"
   ]
  },
  {
   "cell_type": "code",
   "execution_count": 7,
   "id": "f50dc2bb",
   "metadata": {
    "execution": {
     "iopub.execute_input": "2022-09-04T10:11:31.440283Z",
     "iopub.status.busy": "2022-09-04T10:11:31.439427Z",
     "iopub.status.idle": "2022-09-04T10:11:31.659854Z",
     "shell.execute_reply": "2022-09-04T10:11:31.659242Z"
    },
    "papermill": {
     "duration": 0.246225,
     "end_time": "2022-09-04T10:11:31.659985",
     "exception": false,
     "start_time": "2022-09-04T10:11:31.413760",
     "status": "completed"
    },
    "tags": []
   },
   "outputs": [],
   "source": [
    "test_images = mnist.test_images()\n",
    "test_labels = mnist.test_labels()"
   ]
  },
  {
   "cell_type": "code",
   "execution_count": 8,
   "id": "fc38cf1b",
   "metadata": {
    "execution": {
     "iopub.execute_input": "2022-09-04T10:11:31.724482Z",
     "iopub.status.busy": "2022-09-04T10:11:31.723216Z",
     "iopub.status.idle": "2022-09-04T10:11:31.730996Z",
     "shell.execute_reply": "2022-09-04T10:11:31.730585Z"
    },
    "papermill": {
     "duration": 0.047369,
     "end_time": "2022-09-04T10:11:31.731104",
     "exception": false,
     "start_time": "2022-09-04T10:11:31.683735",
     "status": "completed"
    },
    "tags": []
   },
   "outputs": [
    {
     "data": {
      "text/plain": [
       "((10000, 28, 28), (10000,))"
      ]
     },
     "execution_count": 8,
     "metadata": {},
     "output_type": "execute_result"
    }
   ],
   "source": [
    "test_images.shape, test_labels.shape"
   ]
  },
  {
   "cell_type": "code",
   "execution_count": 9,
   "id": "f9ed8fe0",
   "metadata": {
    "execution": {
     "iopub.execute_input": "2022-09-04T10:11:31.781004Z",
     "iopub.status.busy": "2022-09-04T10:11:31.780135Z",
     "iopub.status.idle": "2022-09-04T10:11:31.905177Z",
     "shell.execute_reply": "2022-09-04T10:11:31.905591Z"
    },
    "papermill": {
     "duration": 0.152109,
     "end_time": "2022-09-04T10:11:31.905716",
     "exception": false,
     "start_time": "2022-09-04T10:11:31.753607",
     "status": "completed"
    },
    "tags": []
   },
   "outputs": [
    {
     "name": "stdout",
     "output_type": "stream",
     "text": [
      "2\n"
     ]
    },
    {
     "data": {
      "text/plain": [
       "<matplotlib.image.AxesImage at 0x7f863b415c88>"
      ]
     },
     "execution_count": 9,
     "metadata": {},
     "output_type": "execute_result"
    },
    {
     "data": {
      "image/png": "[encoded data removed]",
      "text/plain": [
       "<Figure size 432x288 with 1 Axes>"
      ]
     },
     "metadata": {
      "needs_background": "light"
     },
     "output_type": "display_data"
    }
   ],
   "source": [
    "image_index = 7776 # You may select anything up to 60,000\n",
    "print(train_labels[image_index]) \n",
    "plt.imshow(train_images[image_index], cmap='Greys')"
   ]
  },
  {
   "cell_type": "markdown",
   "id": "a8d2388d",
   "metadata": {
    "papermill": {
     "duration": 0.024076,
     "end_time": "2022-09-04T10:11:31.953516",
     "exception": false,
     "start_time": "2022-09-04T10:11:31.929440",
     "status": "completed"
    },
    "tags": []
   },
   "source": [
    "## Filter data to get 3 and 8 out"
   ]
  },
  {
   "cell_type": "code",
   "execution_count": 10,
   "id": "776f7fc7",
   "metadata": {
    "execution": {
     "iopub.execute_input": "2022-09-04T10:11:32.005713Z",
     "iopub.status.busy": "2022-09-04T10:11:32.004796Z",
     "iopub.status.idle": "2022-09-04T10:11:32.022365Z",
     "shell.execute_reply": "2022-09-04T10:11:32.021860Z"
    },
    "papermill": {
     "duration": 0.045405,
     "end_time": "2022-09-04T10:11:32.022480",
     "exception": false,
     "start_time": "2022-09-04T10:11:31.977075",
     "status": "completed"
    },
    "tags": []
   },
   "outputs": [],
   "source": [
    "train_filter = np.where((train_labels == 3 ) | (train_labels == 8))\n",
    "test_filter = np.where((test_labels == 3) | (test_labels == 8))\n",
    "X_train, y_train = train_images[train_filter], train_labels[train_filter]\n",
    "X_test, y_test = test_images[test_filter], test_labels[test_filter]"
   ]
  },
  {
   "cell_type": "markdown",
   "id": "948f0b7e",
   "metadata": {
    "papermill": {
     "duration": 0.023717,
     "end_time": "2022-09-04T10:11:32.070071",
     "exception": false,
     "start_time": "2022-09-04T10:11:32.046354",
     "status": "completed"
    },
    "tags": []
   },
   "source": [
    "We normalize the pizel values in the 0 to 1 range"
   ]
  },
  {
   "cell_type": "code",
   "execution_count": 11,
   "id": "ee4c2166",
   "metadata": {
    "execution": {
     "iopub.execute_input": "2022-09-04T10:11:32.121270Z",
     "iopub.status.busy": "2022-09-04T10:11:32.120409Z",
     "iopub.status.idle": "2022-09-04T10:11:32.166038Z",
     "shell.execute_reply": "2022-09-04T10:11:32.164807Z"
    },
    "papermill": {
     "duration": 0.072709,
     "end_time": "2022-09-04T10:11:32.166188",
     "exception": false,
     "start_time": "2022-09-04T10:11:32.093479",
     "status": "completed"
    },
    "tags": []
   },
   "outputs": [],
   "source": [
    "X_train = X_train/255.\n",
    "X_test = X_test/255."
   ]
  },
  {
   "cell_type": "markdown",
   "id": "ddcf4fab",
   "metadata": {
    "papermill": {
     "duration": 0.025707,
     "end_time": "2022-09-04T10:11:32.215658",
     "exception": false,
     "start_time": "2022-09-04T10:11:32.189951",
     "status": "completed"
    },
    "tags": []
   },
   "source": [
    "And setup the labels as 1 (when the digit is 3) and 0 (when the digit is 8)"
   ]
  },
  {
   "cell_type": "code",
   "execution_count": 12,
   "id": "7dc908f2",
   "metadata": {
    "execution": {
     "iopub.execute_input": "2022-09-04T10:11:32.268748Z",
     "iopub.status.busy": "2022-09-04T10:11:32.267821Z",
     "iopub.status.idle": "2022-09-04T10:11:32.280259Z",
     "shell.execute_reply": "2022-09-04T10:11:32.279730Z"
    },
    "papermill": {
     "duration": 0.040221,
     "end_time": "2022-09-04T10:11:32.280368",
     "exception": false,
     "start_time": "2022-09-04T10:11:32.240147",
     "status": "completed"
    },
    "tags": []
   },
   "outputs": [],
   "source": [
    "y_train = 1*(y_train==3)\n",
    "y_test = 1*(y_test==3)"
   ]
  },
  {
   "cell_type": "code",
   "execution_count": 13,
   "id": "01e4e969",
   "metadata": {
    "execution": {
     "iopub.execute_input": "2022-09-04T10:11:32.333609Z",
     "iopub.status.busy": "2022-09-04T10:11:32.332329Z",
     "iopub.status.idle": "2022-09-04T10:11:32.345615Z",
     "shell.execute_reply": "2022-09-04T10:11:32.346102Z"
    },
    "papermill": {
     "duration": 0.041815,
     "end_time": "2022-09-04T10:11:32.346248",
     "exception": false,
     "start_time": "2022-09-04T10:11:32.304433",
     "status": "completed"
    },
    "tags": []
   },
   "outputs": [
    {
     "data": {
      "text/plain": [
       "((11982, 28, 28), (1984, 28, 28))"
      ]
     },
     "execution_count": 13,
     "metadata": {},
     "output_type": "execute_result"
    }
   ],
   "source": [
    "X_train.shape, X_test.shape"
   ]
  },
  {
   "cell_type": "markdown",
   "id": "5ccf3f85",
   "metadata": {
    "papermill": {
     "duration": 0.024274,
     "end_time": "2022-09-04T10:11:32.395155",
     "exception": false,
     "start_time": "2022-09-04T10:11:32.370881",
     "status": "completed"
    },
    "tags": []
   },
   "source": [
    "We reshape the data to flatten the image pixels into a set of features or co-variates:"
   ]
  },
  {
   "cell_type": "code",
   "execution_count": 14,
   "id": "5286a4a3",
   "metadata": {
    "execution": {
     "iopub.execute_input": "2022-09-04T10:11:32.450983Z",
     "iopub.status.busy": "2022-09-04T10:11:32.448391Z",
     "iopub.status.idle": "2022-09-04T10:11:32.462884Z",
     "shell.execute_reply": "2022-09-04T10:11:32.462469Z"
    },
    "papermill": {
     "duration": 0.042788,
     "end_time": "2022-09-04T10:11:32.462985",
     "exception": false,
     "start_time": "2022-09-04T10:11:32.420197",
     "status": "completed"
    },
    "tags": []
   },
   "outputs": [
    {
     "data": {
      "text/plain": [
       "((11982, 784), (1984, 784))"
      ]
     },
     "execution_count": 14,
     "metadata": {},
     "output_type": "execute_result"
    }
   ],
   "source": [
    "X_train = X_train.reshape(X_train.shape[0], -1)\n",
    "X_test = X_test.reshape(X_test.shape[0], -1)\n",
    "X_train.shape, X_test.shape"
   ]
  },
  {
   "cell_type": "code",
   "execution_count": 15,
   "id": "73c5f88a",
   "metadata": {
    "execution": {
     "iopub.execute_input": "2022-09-04T10:11:32.516742Z",
     "iopub.status.busy": "2022-09-04T10:11:32.515801Z",
     "iopub.status.idle": "2022-09-04T10:11:32.533419Z",
     "shell.execute_reply": "2022-09-04T10:11:32.532986Z"
    },
    "papermill": {
     "duration": 0.046007,
     "end_time": "2022-09-04T10:11:32.533520",
     "exception": false,
     "start_time": "2022-09-04T10:11:32.487513",
     "status": "completed"
    },
    "tags": []
   },
   "outputs": [],
   "source": [
    "#Impoting functions from 'Kudzu'\n",
    "from kudzu.model import Model\n",
    "from kudzu.train import Learner\n",
    "from kudzu.optim import GD\n",
    "from kudzu.data import Data, Sampler,Dataloader\n",
    "\n",
    "from kudzu.callbacks import AccCallback\n",
    "from kudzu.callbacks import ClfCallback\n",
    "\n",
    "from kudzu.loss import MSE\n",
    "\n",
    "from kudzu.layer import Sigmoid,Relu\n",
    "from kudzu.layer import Affine"
   ]
  },
  {
   "cell_type": "markdown",
   "id": "bc01172a",
   "metadata": {
    "papermill": {
     "duration": 0.024396,
     "end_time": "2022-09-04T10:11:32.583051",
     "exception": false,
     "start_time": "2022-09-04T10:11:32.558655",
     "status": "completed"
    },
    "tags": []
   },
   "source": [
    "### Let us create a `Config` class, to store important parameters. \n",
    "This class essentially plays the role of a dictionary."
   ]
  },
  {
   "cell_type": "code",
   "execution_count": 16,
   "id": "978281aa",
   "metadata": {
    "execution": {
     "iopub.execute_input": "2022-09-04T10:11:32.641099Z",
     "iopub.status.busy": "2022-09-04T10:11:32.640198Z",
     "iopub.status.idle": "2022-09-04T10:11:32.650544Z",
     "shell.execute_reply": "2022-09-04T10:11:32.650098Z"
    },
    "papermill": {
     "duration": 0.043113,
     "end_time": "2022-09-04T10:11:32.650648",
     "exception": false,
     "start_time": "2022-09-04T10:11:32.607535",
     "status": "completed"
    },
    "tags": []
   },
   "outputs": [],
   "source": [
    "class Config:\n",
    "    pass\n",
    "config = Config()\n",
    "config.lr = 0.001\n",
    "config.num_epochs = 250\n",
    "config.bs = 50"
   ]
  },
  {
   "cell_type": "markdown",
   "id": "1385fa59",
   "metadata": {
    "papermill": {
     "duration": 0.024492,
     "end_time": "2022-09-04T10:11:32.699533",
     "exception": false,
     "start_time": "2022-09-04T10:11:32.675041",
     "status": "completed"
    },
    "tags": []
   },
   "source": [
    "### Running Models with the Training data\n",
    "Details about the network layers:\n",
    "- A first affine layer has 784 inputs and does 100 affine transforms. These are followed by a Relu\n",
    "- A second affine layer has 100 inputs from the 100 activations of the past layer, and does 100 affine transforms. These are followed by a Relu\n",
    "- A third affine layer has 100 activations and does 2 affine transformations to create an embedding for visualization. There is no non-linearity here.\n",
    "- A final \"logistic regression\" which has an affine transform from 2 inputs to 1 output, which is squeezed through a sigmoid.\n"
   ]
  },
  {
   "cell_type": "code",
   "execution_count": 17,
   "id": "2b9c66db",
   "metadata": {
    "execution": {
     "iopub.execute_input": "2022-09-04T10:11:32.765133Z",
     "iopub.status.busy": "2022-09-04T10:11:32.753091Z",
     "iopub.status.idle": "2022-09-04T10:11:32.770567Z",
     "shell.execute_reply": "2022-09-04T10:11:32.770068Z"
    },
    "papermill": {
     "duration": 0.046792,
     "end_time": "2022-09-04T10:11:32.770670",
     "exception": false,
     "start_time": "2022-09-04T10:11:32.723878",
     "status": "completed"
    },
    "tags": []
   },
   "outputs": [],
   "source": [
    "data = Data(X_train, y_train.reshape(-1,1))\n",
    "sampler = Sampler(data, config.bs, shuffle=True)\n",
    "\n",
    "dl = Dataloader(data, sampler)\n",
    "\n",
    "opt = GD(config.lr)\n",
    "loss = MSE()"
   ]
  },
  {
   "cell_type": "code",
   "execution_count": 18,
   "id": "b275e4c2",
   "metadata": {
    "execution": {
     "iopub.execute_input": "2022-09-04T10:11:32.829008Z",
     "iopub.status.busy": "2022-09-04T10:11:32.823558Z",
     "iopub.status.idle": "2022-09-04T10:11:32.838041Z",
     "shell.execute_reply": "2022-09-04T10:11:32.837564Z"
    },
    "papermill": {
     "duration": 0.042879,
     "end_time": "2022-09-04T10:11:32.838178",
     "exception": false,
     "start_time": "2022-09-04T10:11:32.795299",
     "status": "completed"
    },
    "tags": []
   },
   "outputs": [],
   "source": [
    "training_data_x = X_train\n",
    "testing_data_x = X_test\n",
    "training_data_y = y_train.reshape(-1,1)\n",
    "testing_data_y = y_test.reshape(-1,1)"
   ]
  },
  {
   "cell_type": "code",
   "execution_count": 19,
   "id": "76951160",
   "metadata": {
    "execution": {
     "iopub.execute_input": "2022-09-04T10:11:32.905079Z",
     "iopub.status.busy": "2022-09-04T10:11:32.890851Z",
     "iopub.status.idle": "2022-09-04T10:11:32.914239Z",
     "shell.execute_reply": "2022-09-04T10:11:32.913302Z"
    },
    "papermill": {
     "duration": 0.051806,
     "end_time": "2022-09-04T10:11:32.914351",
     "exception": false,
     "start_time": "2022-09-04T10:11:32.862545",
     "status": "completed"
    },
    "tags": []
   },
   "outputs": [
    {
     "name": "stdout",
     "output_type": "stream",
     "text": [
      "xavier\n",
      "xavier\n",
      "xavier\n",
      "xavier\n",
      "xavier\n"
     ]
    }
   ],
   "source": [
    "layers = [Affine(\"first\", 784, 100), Relu(\"first\"), Affine(\"second\", 100, 100), Relu(\"second\"), Affine(\"third\", 100, 2), Affine(\"last\", 2, 1), Sigmoid(\"last\")]\n",
    "model_nn = Model(layers)\n",
    "model_lr = Model([Affine(\"logits\", 784, 1), Sigmoid(\"sigmoid\")])"
   ]
  },
  {
   "cell_type": "code",
   "execution_count": 20,
   "id": "6eede77a",
   "metadata": {
    "execution": {
     "iopub.execute_input": "2022-09-04T10:11:32.967656Z",
     "iopub.status.busy": "2022-09-04T10:11:32.966800Z",
     "iopub.status.idle": "2022-09-04T10:11:32.978106Z",
     "shell.execute_reply": "2022-09-04T10:11:32.978603Z"
    },
    "papermill": {
     "duration": 0.03975,
     "end_time": "2022-09-04T10:11:32.978718",
     "exception": false,
     "start_time": "2022-09-04T10:11:32.938968",
     "status": "completed"
    },
    "tags": []
   },
   "outputs": [],
   "source": [
    "nn_learner = Learner(loss, model_nn, opt, config.num_epochs)\n",
    "acc_nn = ClfCallback(nn_learner, config.bs, training_data_x , testing_data_x, training_data_y, testing_data_y)\n",
    "nn_learner.set_callbacks([acc_nn])"
   ]
  },
  {
   "cell_type": "code",
   "execution_count": 21,
   "id": "877b6cc7",
   "metadata": {
    "execution": {
     "iopub.execute_input": "2022-09-04T10:11:33.031277Z",
     "iopub.status.busy": "2022-09-04T10:11:33.030418Z",
     "iopub.status.idle": "2022-09-04T10:11:33.041732Z",
     "shell.execute_reply": "2022-09-04T10:11:33.042192Z"
    },
    "papermill": {
     "duration": 0.039451,
     "end_time": "2022-09-04T10:11:33.042314",
     "exception": false,
     "start_time": "2022-09-04T10:11:33.002863",
     "status": "completed"
    },
    "tags": []
   },
   "outputs": [],
   "source": [
    "lr_learner = Learner(loss, model_lr, opt, config.num_epochs)\n",
    "acc_lr = ClfCallback(lr_learner, config.bs, training_data_x , testing_data_x, training_data_y, testing_data_y)\n",
    "lr_learner.set_callbacks([acc_lr])"
   ]
  },
  {
   "cell_type": "code",
   "execution_count": 22,
   "id": "d9b133c3",
   "metadata": {
    "execution": {
     "iopub.execute_input": "2022-09-04T10:11:33.094911Z",
     "iopub.status.busy": "2022-09-04T10:11:33.094006Z",
     "iopub.status.idle": "2022-09-04T10:13:44.756362Z",
     "shell.execute_reply": "2022-09-04T10:13:44.757633Z"
    },
    "papermill": {
     "duration": 131.69145,
     "end_time": "2022-09-04T10:13:44.757908",
     "exception": false,
     "start_time": "2022-09-04T10:11:33.066458",
     "status": "completed"
    },
    "tags": []
   },
   "outputs": [
    {
     "name": "stdout",
     "output_type": "stream",
     "text": [
      "Epoch 0, Loss 0.1811\n",
      "Training Accuracy: 0.8271, Testing Accuracy: 0.8412\n",
      "\n"
     ]
    },
    {
     "name": "stdout",
     "output_type": "stream",
     "text": [
      "Epoch 10, Loss 0.0514\n",
      "Training Accuracy: 0.9442, Testing Accuracy: 0.9556\n",
      "\n"
     ]
    },
    {
     "name": "stdout",
     "output_type": "stream",
     "text": [
      "Epoch 20, Loss 0.0384\n",
      "Training Accuracy: 0.9562, Testing Accuracy: 0.9672\n",
      "\n"
     ]
    },
    {
     "name": "stdout",
     "output_type": "stream",
     "text": [
      "Epoch 30, Loss 0.033\n",
      "Training Accuracy: 0.9624, Testing Accuracy: 0.9677\n",
      "\n"
     ]
    },
    {
     "name": "stdout",
     "output_type": "stream",
     "text": [
      "Epoch 40, Loss 0.0299\n",
      "Training Accuracy: 0.9659, Testing Accuracy: 0.9688\n",
      "\n"
     ]
    },
    {
     "name": "stdout",
     "output_type": "stream",
     "text": [
      "Epoch 50, Loss 0.0278\n",
      "Training Accuracy: 0.9685, Testing Accuracy: 0.9718\n",
      "\n"
     ]
    },
    {
     "name": "stdout",
     "output_type": "stream",
     "text": [
      "Epoch 60, Loss 0.0262\n",
      "Training Accuracy: 0.9696, Testing Accuracy: 0.9718\n",
      "\n"
     ]
    },
    {
     "name": "stdout",
     "output_type": "stream",
     "text": [
      "Epoch 70, Loss 0.025\n",
      "Training Accuracy: 0.9715, Testing Accuracy: 0.9723\n",
      "\n"
     ]
    },
    {
     "name": "stdout",
     "output_type": "stream",
     "text": [
      "Epoch 80, Loss 0.024\n",
      "Training Accuracy: 0.9730, Testing Accuracy: 0.9733\n",
      "\n"
     ]
    },
    {
     "name": "stdout",
     "output_type": "stream",
     "text": [
      "Epoch 90, Loss 0.0231\n",
      "Training Accuracy: 0.9743, Testing Accuracy: 0.9738\n",
      "\n"
     ]
    },
    {
     "name": "stdout",
     "output_type": "stream",
     "text": [
      "Epoch 100, Loss 0.0223\n",
      "Training Accuracy: 0.9755, Testing Accuracy: 0.9723\n",
      "\n"
     ]
    },
    {
     "name": "stdout",
     "output_type": "stream",
     "text": [
      "Epoch 110, Loss 0.0216\n",
      "Training Accuracy: 0.9766, Testing Accuracy: 0.9743\n",
      "\n"
     ]
    },
    {
     "name": "stdout",
     "output_type": "stream",
     "text": [
      "Epoch 120, Loss 0.0209\n",
      "Training Accuracy: 0.9776, Testing Accuracy: 0.9738\n",
      "\n"
     ]
    },
    {
     "name": "stdout",
     "output_type": "stream",
     "text": [
      "Epoch 130, Loss 0.0203\n",
      "Training Accuracy: 0.9786, Testing Accuracy: 0.9743\n",
      "\n"
     ]
    },
    {
     "name": "stdout",
     "output_type": "stream",
     "text": [
      "Epoch 140, Loss 0.0198\n",
      "Training Accuracy: 0.9790, Testing Accuracy: 0.9738\n",
      "\n"
     ]
    },
    {
     "name": "stdout",
     "output_type": "stream",
     "text": [
      "Epoch 150, Loss 0.0192\n",
      "Training Accuracy: 0.9799, Testing Accuracy: 0.9748\n",
      "\n"
     ]
    },
    {
     "name": "stdout",
     "output_type": "stream",
     "text": [
      "Epoch 160, Loss 0.0187\n",
      "Training Accuracy: 0.9806, Testing Accuracy: 0.9748\n",
      "\n"
     ]
    },
    {
     "name": "stdout",
     "output_type": "stream",
     "text": [
      "Epoch 170, Loss 0.0182\n",
      "Training Accuracy: 0.9811, Testing Accuracy: 0.9758\n",
      "\n"
     ]
    },
    {
     "name": "stdout",
     "output_type": "stream",
     "text": [
      "Epoch 180, Loss 0.0178\n",
      "Training Accuracy: 0.9815, Testing Accuracy: 0.9753\n",
      "\n"
     ]
    },
    {
     "name": "stdout",
     "output_type": "stream",
     "text": [
      "Epoch 190, Loss 0.0173\n",
      "Training Accuracy: 0.9817, Testing Accuracy: 0.9763\n",
      "\n"
     ]
    },
    {
     "name": "stdout",
     "output_type": "stream",
     "text": [
      "Epoch 200, Loss 0.0169\n",
      "Training Accuracy: 0.9821, Testing Accuracy: 0.9768\n",
      "\n"
     ]
    },
    {
     "name": "stdout",
     "output_type": "stream",
     "text": [
      "Epoch 210, Loss 0.0165\n",
      "Training Accuracy: 0.9826, Testing Accuracy: 0.9773\n",
      "\n"
     ]
    },
    {
     "name": "stdout",
     "output_type": "stream",
     "text": [
      "Epoch 220, Loss 0.0161\n",
      "Training Accuracy: 0.9829, Testing Accuracy: 0.9773\n",
      "\n"
     ]
    },
    {
     "name": "stdout",
     "output_type": "stream",
     "text": [
      "Epoch 230, Loss 0.0157\n",
      "Training Accuracy: 0.9833, Testing Accuracy: 0.9773\n",
      "\n"
     ]
    },
    {
     "name": "stdout",
     "output_type": "stream",
     "text": [
      "Epoch 240, Loss 0.0153\n",
      "Training Accuracy: 0.9841, Testing Accuracy: 0.9778\n",
      "\n"
     ]
    },
    {
     "data": {
      "text/plain": [
       "0.006103809378781031"
      ]
     },
     "execution_count": 22,
     "metadata": {},
     "output_type": "execute_result"
    }
   ],
   "source": [
    "nn_learner.train_loop(dl)"
   ]
  },
  {
   "cell_type": "code",
   "execution_count": 23,
   "id": "e0163366",
   "metadata": {
    "execution": {
     "iopub.execute_input": "2022-09-04T10:13:44.892516Z",
     "iopub.status.busy": "2022-09-04T10:13:44.891190Z",
     "iopub.status.idle": "2022-09-04T10:14:15.859258Z",
     "shell.execute_reply": "2022-09-04T10:14:15.859711Z"
    },
    "papermill": {
     "duration": 31.022625,
     "end_time": "2022-09-04T10:14:15.859838",
     "exception": false,
     "start_time": "2022-09-04T10:13:44.837213",
     "status": "completed"
    },
    "tags": []
   },
   "outputs": [
    {
     "name": "stdout",
     "output_type": "stream",
     "text": [
      "Epoch 0, Loss 0.2375\n",
      "Training Accuracy: 0.6803, Testing Accuracy: 0.7001\n",
      "\n"
     ]
    },
    {
     "name": "stdout",
     "output_type": "stream",
     "text": [
      "Epoch 10, Loss 0.1019\n",
      "Training Accuracy: 0.9108, Testing Accuracy: 0.9234\n",
      "\n"
     ]
    },
    {
     "name": "stdout",
     "output_type": "stream",
     "text": [
      "Epoch 20, Loss 0.0787\n",
      "Training Accuracy: 0.9273, Testing Accuracy: 0.9375\n",
      "\n"
     ]
    },
    {
     "name": "stdout",
     "output_type": "stream",
     "text": [
      "Epoch 30, Loss 0.0679\n",
      "Training Accuracy: 0.9353, Testing Accuracy: 0.9481\n",
      "\n"
     ]
    },
    {
     "name": "stdout",
     "output_type": "stream",
     "text": [
      "Epoch 40, Loss 0.0613\n",
      "Training Accuracy: 0.9406, Testing Accuracy: 0.9501\n",
      "\n"
     ]
    },
    {
     "name": "stdout",
     "output_type": "stream",
     "text": [
      "Epoch 50, Loss 0.0568\n",
      "Training Accuracy: 0.9442, Testing Accuracy: 0.9521\n",
      "\n"
     ]
    },
    {
     "name": "stdout",
     "output_type": "stream",
     "text": [
      "Epoch 60, Loss 0.0535\n",
      "Training Accuracy: 0.9468, Testing Accuracy: 0.9546\n",
      "\n"
     ]
    },
    {
     "name": "stdout",
     "output_type": "stream",
     "text": [
      "Epoch 70, Loss 0.051\n",
      "Training Accuracy: 0.9488, Testing Accuracy: 0.9577\n",
      "\n"
     ]
    },
    {
     "name": "stdout",
     "output_type": "stream",
     "text": [
      "Epoch 80, Loss 0.0489\n",
      "Training Accuracy: 0.9503, Testing Accuracy: 0.9582\n",
      "\n"
     ]
    },
    {
     "name": "stdout",
     "output_type": "stream",
     "text": [
      "Epoch 90, Loss 0.0472\n",
      "Training Accuracy: 0.9514, Testing Accuracy: 0.9617\n",
      "\n"
     ]
    },
    {
     "name": "stdout",
     "output_type": "stream",
     "text": [
      "Epoch 100, Loss 0.0458\n",
      "Training Accuracy: 0.9525, Testing Accuracy: 0.9622\n",
      "\n"
     ]
    },
    {
     "name": "stdout",
     "output_type": "stream",
     "text": [
      "Epoch 110, Loss 0.0446\n",
      "Training Accuracy: 0.9542, Testing Accuracy: 0.9647\n",
      "\n"
     ]
    },
    {
     "name": "stdout",
     "output_type": "stream",
     "text": [
      "Epoch 120, Loss 0.0435\n",
      "Training Accuracy: 0.9553, Testing Accuracy: 0.9657\n",
      "\n"
     ]
    },
    {
     "name": "stdout",
     "output_type": "stream",
     "text": [
      "Epoch 130, Loss 0.0426\n",
      "Training Accuracy: 0.9558, Testing Accuracy: 0.9657\n",
      "\n"
     ]
    },
    {
     "name": "stdout",
     "output_type": "stream",
     "text": [
      "Epoch 140, Loss 0.0418\n",
      "Training Accuracy: 0.9566, Testing Accuracy: 0.9657\n",
      "\n"
     ]
    },
    {
     "name": "stdout",
     "output_type": "stream",
     "text": [
      "Epoch 150, Loss 0.0411\n",
      "Training Accuracy: 0.9574, Testing Accuracy: 0.9657\n",
      "\n"
     ]
    },
    {
     "name": "stdout",
     "output_type": "stream",
     "text": [
      "Epoch 160, Loss 0.0404\n",
      "Training Accuracy: 0.9577, Testing Accuracy: 0.9662\n",
      "\n"
     ]
    },
    {
     "name": "stdout",
     "output_type": "stream",
     "text": [
      "Epoch 170, Loss 0.0398\n",
      "Training Accuracy: 0.9586, Testing Accuracy: 0.9667\n",
      "\n"
     ]
    },
    {
     "name": "stdout",
     "output_type": "stream",
     "text": [
      "Epoch 180, Loss 0.0392\n",
      "Training Accuracy: 0.9587, Testing Accuracy: 0.9667\n",
      "\n"
     ]
    },
    {
     "name": "stdout",
     "output_type": "stream",
     "text": [
      "Epoch 190, Loss 0.0387\n",
      "Training Accuracy: 0.9590, Testing Accuracy: 0.9667\n",
      "\n"
     ]
    },
    {
     "name": "stdout",
     "output_type": "stream",
     "text": [
      "Epoch 200, Loss 0.0382\n",
      "Training Accuracy: 0.9595, Testing Accuracy: 0.9667\n",
      "\n"
     ]
    },
    {
     "name": "stdout",
     "output_type": "stream",
     "text": [
      "Epoch 210, Loss 0.0378\n",
      "Training Accuracy: 0.9597, Testing Accuracy: 0.9667\n",
      "\n"
     ]
    },
    {
     "name": "stdout",
     "output_type": "stream",
     "text": [
      "Epoch 220, Loss 0.0374\n",
      "Training Accuracy: 0.9601, Testing Accuracy: 0.9657\n",
      "\n"
     ]
    },
    {
     "name": "stdout",
     "output_type": "stream",
     "text": [
      "Epoch 230, Loss 0.037\n",
      "Training Accuracy: 0.9606, Testing Accuracy: 0.9667\n",
      "\n"
     ]
    },
    {
     "name": "stdout",
     "output_type": "stream",
     "text": [
      "Epoch 240, Loss 0.0367\n",
      "Training Accuracy: 0.9611, Testing Accuracy: 0.9667\n",
      "\n"
     ]
    },
    {
     "data": {
      "text/plain": [
       "0.06302971222285413"
      ]
     },
     "execution_count": 23,
     "metadata": {},
     "output_type": "execute_result"
    }
   ],
   "source": [
    "lr_learner.train_loop(dl)"
   ]
  },
  {
   "cell_type": "code",
   "execution_count": 24,
   "id": "ca410940",
   "metadata": {
    "execution": {
     "iopub.execute_input": "2022-09-04T10:14:15.995996Z",
     "iopub.status.busy": "2022-09-04T10:14:15.995081Z",
     "iopub.status.idle": "2022-09-04T10:14:16.209560Z",
     "shell.execute_reply": "2022-09-04T10:14:16.209970Z"
    },
    "papermill": {
     "duration": 0.262515,
     "end_time": "2022-09-04T10:14:16.210116",
     "exception": false,
     "start_time": "2022-09-04T10:14:15.947601",
     "status": "completed"
    },
    "tags": []
   },
   "outputs": [
    {
     "data": {
      "text/plain": [
       "<matplotlib.legend.Legend at 0x7f863af81358>"
      ]
     },
     "execution_count": 24,
     "metadata": {},
     "output_type": "execute_result"
    },
    {
     "data": {
      "image/png": "[encoded data removed]",
      "text/plain": [
       "<Figure size 1080x720 with 1 Axes>"
      ]
     },
     "metadata": {
      "needs_background": "light"
     },
     "output_type": "display_data"
    }
   ],
   "source": [
    "#comparing the results of NN and LR\n",
    "plt.figure(figsize=(15,10))\n",
    "\n",
    "# Neural Network plots\n",
    "plt.plot(acc_nn.accuracies, 'r-', label = \"Training Accuracies - NN\")\n",
    "plt.plot(acc_nn.test_accuracies, 'g-', label = \"Testing Accuracies - NN\")\n",
    "\n",
    "# Logistic Regression plots\n",
    "plt.plot(acc_lr.accuracies, 'k-', label = \"Training Accuracies - LR\")\n",
    "plt.plot(acc_lr.test_accuracies, 'b-', label = \"Testing Accuracies - LR\")\n",
    "plt.legend()"
   ]
  },
  {
   "cell_type": "markdown",
   "id": "80dfb35c",
   "metadata": {
    "papermill": {
     "duration": 0.054204,
     "end_time": "2022-09-04T10:14:16.302648",
     "exception": false,
     "start_time": "2022-09-04T10:14:16.248444",
     "status": "completed"
    },
    "tags": []
   },
   "source": [
    "#### Plotting the outputs of this layer of the NN.\n"
   ]
  },
  {
   "cell_type": "code",
   "execution_count": 25,
   "id": "45eb2ff5",
   "metadata": {
    "execution": {
     "iopub.execute_input": "2022-09-04T10:14:16.395928Z",
     "iopub.status.busy": "2022-09-04T10:14:16.395036Z",
     "iopub.status.idle": "2022-09-04T10:14:16.416918Z",
     "shell.execute_reply": "2022-09-04T10:14:16.418658Z"
    },
    "papermill": {
     "duration": 0.069328,
     "end_time": "2022-09-04T10:14:16.418931",
     "exception": false,
     "start_time": "2022-09-04T10:14:16.349603",
     "status": "completed"
    },
    "tags": []
   },
   "outputs": [],
   "source": [
    "new_model = Model(layers[:-2])\n",
    "testing_plot = new_model(testing_data_x)"
   ]
  },
  {
   "cell_type": "code",
   "execution_count": 26,
   "id": "4c0a5485",
   "metadata": {
    "execution": {
     "iopub.execute_input": "2022-09-04T10:14:16.586917Z",
     "iopub.status.busy": "2022-09-04T10:14:16.574570Z",
     "iopub.status.idle": "2022-09-04T10:14:16.757945Z",
     "shell.execute_reply": "2022-09-04T10:14:16.758395Z"
    },
    "papermill": {
     "duration": 0.2424,
     "end_time": "2022-09-04T10:14:16.758527",
     "exception": false,
     "start_time": "2022-09-04T10:14:16.516127",
     "status": "completed"
    },
    "tags": []
   },
   "outputs": [
    {
     "data": {
      "text/plain": [
       "Text(0.5, 1.0, 'Outputs')"
      ]
     },
     "execution_count": 26,
     "metadata": {},
     "output_type": "execute_result"
    },
    {
     "data": {
      "image/png": "[encoded data removed]",
      "text/plain": [
       "<Figure size 576x504 with 1 Axes>"
      ]
     },
     "metadata": {
      "needs_background": "light"
     },
     "output_type": "display_data"
    }
   ],
   "source": [
    "# Plotting the scatter plot of points and color coding by class\n",
    "plt.figure(figsize=(8,7))\n",
    "plt.scatter(testing_plot[:,0], testing_plot[:,1], alpha = 0.1, c = y_test.ravel());\n",
    "plt.title('Outputs')"
   ]
  },
  {
   "cell_type": "markdown",
   "id": "a74fcf8f",
   "metadata": {
    "papermill": {
     "duration": 0.040572,
     "end_time": "2022-09-04T10:14:16.870514",
     "exception": false,
     "start_time": "2022-09-04T10:14:16.829942",
     "status": "completed"
    },
    "tags": []
   },
   "source": [
    "Probability contours"
   ]
  },
  {
   "cell_type": "code",
   "execution_count": 27,
   "id": "d0afc8e3",
   "metadata": {
    "execution": {
     "iopub.execute_input": "2022-09-04T10:14:16.960086Z",
     "iopub.status.busy": "2022-09-04T10:14:16.959197Z",
     "iopub.status.idle": "2022-09-04T10:14:16.968843Z",
     "shell.execute_reply": "2022-09-04T10:14:16.968400Z"
    },
    "papermill": {
     "duration": 0.058179,
     "end_time": "2022-09-04T10:14:16.968946",
     "exception": false,
     "start_time": "2022-09-04T10:14:16.910767",
     "status": "completed"
    },
    "tags": []
   },
   "outputs": [],
   "source": [
    "model_prob = Model(layers[-2:]) "
   ]
  },
  {
   "cell_type": "code",
   "execution_count": 28,
   "id": "9b96e238",
   "metadata": {
    "execution": {
     "iopub.execute_input": "2022-09-04T10:14:17.066123Z",
     "iopub.status.busy": "2022-09-04T10:14:17.063754Z",
     "iopub.status.idle": "2022-09-04T10:14:17.076574Z",
     "shell.execute_reply": "2022-09-04T10:14:17.074489Z"
    },
    "papermill": {
     "duration": 0.068076,
     "end_time": "2022-09-04T10:14:17.076796",
     "exception": false,
     "start_time": "2022-09-04T10:14:17.008720",
     "status": "completed"
    },
    "tags": []
   },
   "outputs": [],
   "source": [
    "#creating the x and y ranges according to the above generated plot.\n",
    "x_range = np.linspace(-4, 1, 100) \n",
    "y_range = np.linspace(-6, 6, 100) \n",
    "x_grid, y_grid = np.meshgrid(x_range, y_range) # x_grid and y_grig are of size 100 X 100\n",
    "\n",
    "# converting x_grid and y_grid to continuous arrays\n",
    "x_gridflat = np.ravel(x_grid)\n",
    "y_gridflat = np.ravel(y_grid)\n",
    "\n",
    "# The last layer of the current model takes two columns as input. Hence transpose of np.vstack() is required.\n",
    "X = np.vstack((x_gridflat, y_gridflat)).T\n",
    "\n",
    "prob_contour = model_prob(X).reshape(100,100) "
   ]
  },
  {
   "cell_type": "code",
   "execution_count": 29,
   "id": "da72499a",
   "metadata": {
    "execution": {
     "iopub.execute_input": "2022-09-04T10:14:17.220029Z",
     "iopub.status.busy": "2022-09-04T10:14:17.218370Z",
     "iopub.status.idle": "2022-09-04T10:14:17.490507Z",
     "shell.execute_reply": "2022-09-04T10:14:17.490917Z"
    },
    "papermill": {
     "duration": 0.316851,
     "end_time": "2022-09-04T10:14:17.491045",
     "exception": false,
     "start_time": "2022-09-04T10:14:17.174194",
     "status": "completed"
    },
    "tags": []
   },
   "outputs": [
    {
     "data": {
      "image/png": "[encoded data removed]",
      "text/plain": [
       "<Figure size 720x648 with 1 Axes>"
      ]
     },
     "metadata": {
      "needs_background": "light"
     },
     "output_type": "display_data"
    }
   ],
   "source": [
    "plt.figure(figsize=(10,9))\n",
    "plt.scatter(testing_plot[:,0], testing_plot[:,1], alpha = 0.1, c = y_test.ravel())\n",
    "contours = plt.contour(x_grid,y_grid,prob_contour)\n",
    "plt.title('Probability Contours')\n",
    "plt.clabel(contours, inline = True );"
   ]
  },
  {
   "cell_type": "code",
   "execution_count": null,
   "id": "e81b4ac7",
   "metadata": {
    "papermill": {
     "duration": 0.043318,
     "end_time": "2022-09-04T10:14:17.577733",
     "exception": false,
     "start_time": "2022-09-04T10:14:17.534415",
     "status": "completed"
    },
    "tags": []
   },
   "outputs": [],
   "source": []
  }
 ],
 "metadata": {
  "kernelspec": {
   "display_name": "Python 3",
   "language": "python",
   "name": "python3"
  },
  "language_info": {
   "codemirror_mode": {
    "name": "ipython",
    "version": 3
   },
   "file_extension": ".py",
   "mimetype": "text/x-python",
   "name": "python",
   "nbconvert_exporter": "python",
   "pygments_lexer": "ipython3",
   "version": "3.6.15"
  },
  "papermill": {
   "default_parameters": {},
   "duration": 171.912779,
   "end_time": "2022-09-04T10:14:18.039164",
   "environment_variables": {},
   "exception": null,
   "input_path": "2020-08-11-part2.ipynb",
   "output_path": "2020-08-11-part2.ipynb",
   "parameters": {},
   "start_time": "2022-09-04T10:11:26.126385",
   "version": "2.3.3"
  }
 },
 "nbformat": 4,
 "nbformat_minor": 5
}