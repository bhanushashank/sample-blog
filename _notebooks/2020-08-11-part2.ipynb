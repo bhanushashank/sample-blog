{
 "cells": [
  {
   "cell_type": "markdown",
   "id": "98380cd3",
   "metadata": {
    "papermill": {
     "duration": 0.034927,
     "end_time": "2022-05-30T20:10:51.492856",
     "exception": false,
     "start_time": "2022-05-30T20:10:51.457929",
     "status": "completed"
    },
    "tags": []
   },
   "source": [
    "# Distinguish Your Own Digits (DYOD)"
   ]
  },
  {
   "cell_type": "markdown",
   "id": "ef31240d",
   "metadata": {
    "papermill": {
     "duration": 0.029681,
     "end_time": "2022-05-30T20:10:51.550960",
     "exception": false,
     "start_time": "2022-05-30T20:10:51.521279",
     "status": "completed"
    },
    "tags": []
   },
   "source": [
    "You are going to write a classifier that distinguishes between the number 3 and number 8."
   ]
  },
  {
   "cell_type": "code",
   "execution_count": 1,
   "id": "b15c8646",
   "metadata": {
    "execution": {
     "iopub.execute_input": "2022-05-30T20:10:51.620621Z",
     "iopub.status.busy": "2022-05-30T20:10:51.619025Z",
     "iopub.status.idle": "2022-05-30T20:10:51.631944Z",
     "shell.execute_reply": "2022-05-30T20:10:51.632657Z"
    },
    "papermill": {
     "duration": 0.053596,
     "end_time": "2022-05-30T20:10:51.632841",
     "exception": false,
     "start_time": "2022-05-30T20:10:51.579245",
     "status": "completed"
    },
    "tags": []
   },
   "outputs": [],
   "source": [
    "%load_ext autoreload\n",
    "%autoreload 2"
   ]
  },
  {
   "cell_type": "code",
   "execution_count": 2,
   "id": "22ef38dc",
   "metadata": {
    "execution": {
     "iopub.execute_input": "2022-05-30T20:10:51.698011Z",
     "iopub.status.busy": "2022-05-30T20:10:51.697308Z",
     "iopub.status.idle": "2022-05-30T20:10:52.370144Z",
     "shell.execute_reply": "2022-05-30T20:10:52.369552Z"
    },
    "papermill": {
     "duration": 0.708392,
     "end_time": "2022-05-30T20:10:52.370290",
     "exception": false,
     "start_time": "2022-05-30T20:10:51.661898",
     "status": "completed"
    },
    "tags": []
   },
   "outputs": [],
   "source": [
    "%matplotlib inline\n",
    "import numpy as np\n",
    "import matplotlib.pyplot as plt\n",
    "import pandas as pd"
   ]
  },
  {
   "cell_type": "markdown",
   "id": "ba036198",
   "metadata": {
    "papermill": {
     "duration": 0.029828,
     "end_time": "2022-05-30T20:10:52.427907",
     "exception": false,
     "start_time": "2022-05-30T20:10:52.398079",
     "status": "completed"
    },
    "tags": []
   },
   "source": [
    "From the command line run `pip install mnist`. This is a library that will help you bring down the mnist dataset. If you run this from a notebook, you need to put  `!pip install mnist` in a cell by itself."
   ]
  },
  {
   "cell_type": "code",
   "execution_count": 3,
   "id": "bb6ad8a1",
   "metadata": {
    "execution": {
     "iopub.execute_input": "2022-05-30T20:10:52.488654Z",
     "iopub.status.busy": "2022-05-30T20:10:52.487929Z",
     "iopub.status.idle": "2022-05-30T20:10:54.429628Z",
     "shell.execute_reply": "2022-05-30T20:10:54.429034Z"
    },
    "papermill": {
     "duration": 1.974095,
     "end_time": "2022-05-30T20:10:54.429772",
     "exception": false,
     "start_time": "2022-05-30T20:10:52.455677",
     "status": "completed"
    },
    "tags": []
   },
   "outputs": [
    {
     "name": "stdout",
     "output_type": "stream",
     "text": [
      "Collecting mnist\r\n",
      "  Downloading mnist-0.2.2-py2.py3-none-any.whl (3.5 kB)\r\n",
      "Requirement already satisfied: numpy in /opt/hostedtoolcache/Python/3.6.15/x64/lib/python3.6/site-packages (from mnist) (1.19.5)\r\n"
     ]
    },
    {
     "name": "stdout",
     "output_type": "stream",
     "text": [
      "Installing collected packages: mnist\r\n"
     ]
    },
    {
     "name": "stdout",
     "output_type": "stream",
     "text": [
      "Successfully installed mnist-0.2.2\r\n"
     ]
    }
   ],
   "source": [
    "!pip install mnist"
   ]
  },
  {
   "cell_type": "markdown",
   "id": "69df9c9a",
   "metadata": {
    "papermill": {
     "duration": 0.028333,
     "end_time": "2022-05-30T20:10:54.491025",
     "exception": false,
     "start_time": "2022-05-30T20:10:54.462692",
     "status": "completed"
    },
    "tags": []
   },
   "source": [
    "## Preparing the Data"
   ]
  },
  {
   "cell_type": "code",
   "execution_count": 4,
   "id": "7f69d806",
   "metadata": {
    "execution": {
     "iopub.execute_input": "2022-05-30T20:10:54.555357Z",
     "iopub.status.busy": "2022-05-30T20:10:54.554668Z",
     "iopub.status.idle": "2022-05-30T20:10:54.571233Z",
     "shell.execute_reply": "2022-05-30T20:10:54.570642Z"
    },
    "papermill": {
     "duration": 0.051819,
     "end_time": "2022-05-30T20:10:54.571365",
     "exception": false,
     "start_time": "2022-05-30T20:10:54.519546",
     "status": "completed"
    },
    "tags": []
   },
   "outputs": [],
   "source": [
    "import mnist"
   ]
  },
  {
   "cell_type": "code",
   "execution_count": 5,
   "id": "a411e44f",
   "metadata": {
    "execution": {
     "iopub.execute_input": "2022-05-30T20:10:54.633961Z",
     "iopub.status.busy": "2022-05-30T20:10:54.633285Z",
     "iopub.status.idle": "2022-05-30T20:10:55.200264Z",
     "shell.execute_reply": "2022-05-30T20:10:55.199600Z"
    },
    "papermill": {
     "duration": 0.599309,
     "end_time": "2022-05-30T20:10:55.200411",
     "exception": false,
     "start_time": "2022-05-30T20:10:54.601102",
     "status": "completed"
    },
    "tags": []
   },
   "outputs": [],
   "source": [
    "train_images = mnist.train_images()\n",
    "train_labels = mnist.train_labels()"
   ]
  },
  {
   "cell_type": "code",
   "execution_count": 6,
   "id": "dceab3a5",
   "metadata": {
    "execution": {
     "iopub.execute_input": "2022-05-30T20:10:55.269185Z",
     "iopub.status.busy": "2022-05-30T20:10:55.268311Z",
     "iopub.status.idle": "2022-05-30T20:10:55.286659Z",
     "shell.execute_reply": "2022-05-30T20:10:55.287362Z"
    },
    "papermill": {
     "duration": 0.05325,
     "end_time": "2022-05-30T20:10:55.287535",
     "exception": false,
     "start_time": "2022-05-30T20:10:55.234285",
     "status": "completed"
    },
    "tags": []
   },
   "outputs": [
    {
     "data": {
      "text/plain": [
       "((60000, 28, 28), (60000,))"
      ]
     },
     "execution_count": 6,
     "metadata": {},
     "output_type": "execute_result"
    }
   ],
   "source": [
    "train_images.shape, train_labels.shape"
   ]
  },
  {
   "cell_type": "code",
   "execution_count": 7,
   "id": "f50dc2bb",
   "metadata": {
    "execution": {
     "iopub.execute_input": "2022-05-30T20:10:55.359084Z",
     "iopub.status.busy": "2022-05-30T20:10:55.358404Z",
     "iopub.status.idle": "2022-05-30T20:10:55.509648Z",
     "shell.execute_reply": "2022-05-30T20:10:55.508912Z"
    },
    "papermill": {
     "duration": 0.186373,
     "end_time": "2022-05-30T20:10:55.509816",
     "exception": false,
     "start_time": "2022-05-30T20:10:55.323443",
     "status": "completed"
    },
    "tags": []
   },
   "outputs": [],
   "source": [
    "test_images = mnist.test_images()\n",
    "test_labels = mnist.test_labels()"
   ]
  },
  {
   "cell_type": "code",
   "execution_count": 8,
   "id": "fc38cf1b",
   "metadata": {
    "execution": {
     "iopub.execute_input": "2022-05-30T20:10:55.573106Z",
     "iopub.status.busy": "2022-05-30T20:10:55.572418Z",
     "iopub.status.idle": "2022-05-30T20:10:55.588108Z",
     "shell.execute_reply": "2022-05-30T20:10:55.587361Z"
    },
    "papermill": {
     "duration": 0.04884,
     "end_time": "2022-05-30T20:10:55.588266",
     "exception": false,
     "start_time": "2022-05-30T20:10:55.539426",
     "status": "completed"
    },
    "tags": []
   },
   "outputs": [
    {
     "data": {
      "text/plain": [
       "((10000, 28, 28), (10000,))"
      ]
     },
     "execution_count": 8,
     "metadata": {},
     "output_type": "execute_result"
    }
   ],
   "source": [
    "test_images.shape, test_labels.shape"
   ]
  },
  {
   "cell_type": "code",
   "execution_count": 9,
   "id": "f9ed8fe0",
   "metadata": {
    "execution": {
     "iopub.execute_input": "2022-05-30T20:10:55.651955Z",
     "iopub.status.busy": "2022-05-30T20:10:55.651266Z",
     "iopub.status.idle": "2022-05-30T20:10:55.829980Z",
     "shell.execute_reply": "2022-05-30T20:10:55.829400Z"
    },
    "papermill": {
     "duration": 0.211751,
     "end_time": "2022-05-30T20:10:55.830113",
     "exception": false,
     "start_time": "2022-05-30T20:10:55.618362",
     "status": "completed"
    },
    "tags": []
   },
   "outputs": [
    {
     "name": "stdout",
     "output_type": "stream",
     "text": [
      "2\n"
     ]
    },
    {
     "data": {
      "text/plain": [
       "<matplotlib.image.AxesImage at 0x7f92e4123eb8>"
      ]
     },
     "execution_count": 9,
     "metadata": {},
     "output_type": "execute_result"
    },
    {
     "data": {
      "image/png": "[encoded data removed]",
      "text/plain": [
       "<Figure size 432x288 with 1 Axes>"
      ]
     },
     "metadata": {
      "needs_background": "light"
     },
     "output_type": "display_data"
    }
   ],
   "source": [
    "image_index = 7776 # You may select anything up to 60,000\n",
    "print(train_labels[image_index]) \n",
    "plt.imshow(train_images[image_index], cmap='Greys')"
   ]
  },
  {
   "cell_type": "markdown",
   "id": "a8d2388d",
   "metadata": {
    "papermill": {
     "duration": 0.030687,
     "end_time": "2022-05-30T20:10:55.891799",
     "exception": false,
     "start_time": "2022-05-30T20:10:55.861112",
     "status": "completed"
    },
    "tags": []
   },
   "source": [
    "## Filter data to get 3 and 8 out"
   ]
  },
  {
   "cell_type": "code",
   "execution_count": 10,
   "id": "776f7fc7",
   "metadata": {
    "execution": {
     "iopub.execute_input": "2022-05-30T20:10:55.965470Z",
     "iopub.status.busy": "2022-05-30T20:10:55.962006Z",
     "iopub.status.idle": "2022-05-30T20:10:55.983765Z",
     "shell.execute_reply": "2022-05-30T20:10:55.983052Z"
    },
    "papermill": {
     "duration": 0.058902,
     "end_time": "2022-05-30T20:10:55.983899",
     "exception": false,
     "start_time": "2022-05-30T20:10:55.924997",
     "status": "completed"
    },
    "tags": []
   },
   "outputs": [],
   "source": [
    "train_filter = np.where((train_labels == 3 ) | (train_labels == 8))\n",
    "test_filter = np.where((test_labels == 3) | (test_labels == 8))\n",
    "X_train, y_train = train_images[train_filter], train_labels[train_filter]\n",
    "X_test, y_test = test_images[test_filter], test_labels[test_filter]"
   ]
  },
  {
   "cell_type": "markdown",
   "id": "948f0b7e",
   "metadata": {
    "papermill": {
     "duration": 0.033323,
     "end_time": "2022-05-30T20:10:56.051807",
     "exception": false,
     "start_time": "2022-05-30T20:10:56.018484",
     "status": "completed"
    },
    "tags": []
   },
   "source": [
    "We normalize the pizel values in the 0 to 1 range"
   ]
  },
  {
   "cell_type": "code",
   "execution_count": 11,
   "id": "ee4c2166",
   "metadata": {
    "execution": {
     "iopub.execute_input": "2022-05-30T20:10:56.120540Z",
     "iopub.status.busy": "2022-05-30T20:10:56.119813Z",
     "iopub.status.idle": "2022-05-30T20:10:56.175288Z",
     "shell.execute_reply": "2022-05-30T20:10:56.174664Z"
    },
    "papermill": {
     "duration": 0.090949,
     "end_time": "2022-05-30T20:10:56.175421",
     "exception": false,
     "start_time": "2022-05-30T20:10:56.084472",
     "status": "completed"
    },
    "tags": []
   },
   "outputs": [],
   "source": [
    "X_train = X_train/255.\n",
    "X_test = X_test/255."
   ]
  },
  {
   "cell_type": "markdown",
   "id": "ddcf4fab",
   "metadata": {
    "papermill": {
     "duration": 0.030131,
     "end_time": "2022-05-30T20:10:56.237162",
     "exception": false,
     "start_time": "2022-05-30T20:10:56.207031",
     "status": "completed"
    },
    "tags": []
   },
   "source": [
    "And setup the labels as 1 (when the digit is 3) and 0 (when the digit is 8)"
   ]
  },
  {
   "cell_type": "code",
   "execution_count": 12,
   "id": "7dc908f2",
   "metadata": {
    "execution": {
     "iopub.execute_input": "2022-05-30T20:10:56.304167Z",
     "iopub.status.busy": "2022-05-30T20:10:56.303454Z",
     "iopub.status.idle": "2022-05-30T20:10:56.317617Z",
     "shell.execute_reply": "2022-05-30T20:10:56.316932Z"
    },
    "papermill": {
     "duration": 0.048689,
     "end_time": "2022-05-30T20:10:56.317743",
     "exception": false,
     "start_time": "2022-05-30T20:10:56.269054",
     "status": "completed"
    },
    "tags": []
   },
   "outputs": [],
   "source": [
    "y_train = 1*(y_train==3)\n",
    "y_test = 1*(y_test==3)"
   ]
  },
  {
   "cell_type": "code",
   "execution_count": 13,
   "id": "01e4e969",
   "metadata": {
    "execution": {
     "iopub.execute_input": "2022-05-30T20:10:56.383976Z",
     "iopub.status.busy": "2022-05-30T20:10:56.383137Z",
     "iopub.status.idle": "2022-05-30T20:10:56.398843Z",
     "shell.execute_reply": "2022-05-30T20:10:56.398281Z"
    },
    "papermill": {
     "duration": 0.05063,
     "end_time": "2022-05-30T20:10:56.398977",
     "exception": false,
     "start_time": "2022-05-30T20:10:56.348347",
     "status": "completed"
    },
    "tags": []
   },
   "outputs": [
    {
     "data": {
      "text/plain": [
       "((11982, 28, 28), (1984, 28, 28))"
      ]
     },
     "execution_count": 13,
     "metadata": {},
     "output_type": "execute_result"
    }
   ],
   "source": [
    "X_train.shape, X_test.shape"
   ]
  },
  {
   "cell_type": "markdown",
   "id": "5ccf3f85",
   "metadata": {
    "papermill": {
     "duration": 0.030441,
     "end_time": "2022-05-30T20:10:56.460401",
     "exception": false,
     "start_time": "2022-05-30T20:10:56.429960",
     "status": "completed"
    },
    "tags": []
   },
   "source": [
    "We reshape the data to flatten the image pixels into a set of features or co-variates:"
   ]
  },
  {
   "cell_type": "code",
   "execution_count": 14,
   "id": "5286a4a3",
   "metadata": {
    "execution": {
     "iopub.execute_input": "2022-05-30T20:10:56.527519Z",
     "iopub.status.busy": "2022-05-30T20:10:56.526850Z",
     "iopub.status.idle": "2022-05-30T20:10:56.544004Z",
     "shell.execute_reply": "2022-05-30T20:10:56.544651Z"
    },
    "papermill": {
     "duration": 0.053251,
     "end_time": "2022-05-30T20:10:56.544805",
     "exception": false,
     "start_time": "2022-05-30T20:10:56.491554",
     "status": "completed"
    },
    "tags": []
   },
   "outputs": [
    {
     "data": {
      "text/plain": [
       "((11982, 784), (1984, 784))"
      ]
     },
     "execution_count": 14,
     "metadata": {},
     "output_type": "execute_result"
    }
   ],
   "source": [
    "X_train = X_train.reshape(X_train.shape[0], -1)\n",
    "X_test = X_test.reshape(X_test.shape[0], -1)\n",
    "X_train.shape, X_test.shape"
   ]
  },
  {
   "cell_type": "code",
   "execution_count": 15,
   "id": "73c5f88a",
   "metadata": {
    "execution": {
     "iopub.execute_input": "2022-05-30T20:10:56.617798Z",
     "iopub.status.busy": "2022-05-30T20:10:56.617127Z",
     "iopub.status.idle": "2022-05-30T20:10:56.638417Z",
     "shell.execute_reply": "2022-05-30T20:10:56.638942Z"
    },
    "papermill": {
     "duration": 0.05744,
     "end_time": "2022-05-30T20:10:56.639087",
     "exception": false,
     "start_time": "2022-05-30T20:10:56.581647",
     "status": "completed"
    },
    "tags": []
   },
   "outputs": [],
   "source": [
    "#Impoting functions from 'Kudzu'\n",
    "from kudzu.model import Model\n",
    "from kudzu.train import Learner\n",
    "from kudzu.optim import GD\n",
    "from kudzu.data import Data, Sampler,Dataloader\n",
    "\n",
    "from kudzu.callbacks import AccCallback\n",
    "from kudzu.callbacks import ClfCallback\n",
    "\n",
    "from kudzu.loss import MSE\n",
    "\n",
    "from kudzu.layer import Sigmoid,Relu\n",
    "from kudzu.layer import Affine"
   ]
  },
  {
   "cell_type": "markdown",
   "id": "bc01172a",
   "metadata": {
    "papermill": {
     "duration": 0.031119,
     "end_time": "2022-05-30T20:10:56.700950",
     "exception": false,
     "start_time": "2022-05-30T20:10:56.669831",
     "status": "completed"
    },
    "tags": []
   },
   "source": [
    "### Let us create a `Config` class, to store important parameters. \n",
    "This class essentially plays the role of a dictionary."
   ]
  },
  {
   "cell_type": "code",
   "execution_count": 16,
   "id": "978281aa",
   "metadata": {
    "execution": {
     "iopub.execute_input": "2022-05-30T20:10:56.767191Z",
     "iopub.status.busy": "2022-05-30T20:10:56.766489Z",
     "iopub.status.idle": "2022-05-30T20:10:56.782273Z",
     "shell.execute_reply": "2022-05-30T20:10:56.781708Z"
    },
    "papermill": {
     "duration": 0.05054,
     "end_time": "2022-05-30T20:10:56.782402",
     "exception": false,
     "start_time": "2022-05-30T20:10:56.731862",
     "status": "completed"
    },
    "tags": []
   },
   "outputs": [],
   "source": [
    "class Config:\n",
    "    pass\n",
    "config = Config()\n",
    "config.lr = 0.001\n",
    "config.num_epochs = 250\n",
    "config.bs = 50"
   ]
  },
  {
   "cell_type": "markdown",
   "id": "1385fa59",
   "metadata": {
    "papermill": {
     "duration": 0.033314,
     "end_time": "2022-05-30T20:10:56.846579",
     "exception": false,
     "start_time": "2022-05-30T20:10:56.813265",
     "status": "completed"
    },
    "tags": []
   },
   "source": [
    "### Running Models with the Training data\n",
    "Details about the network layers:\n",
    "- A first affine layer has 784 inputs and does 100 affine transforms. These are followed by a Relu\n",
    "- A second affine layer has 100 inputs from the 100 activations of the past layer, and does 100 affine transforms. These are followed by a Relu\n",
    "- A third affine layer has 100 activations and does 2 affine transformations to create an embedding for visualization. There is no non-linearity here.\n",
    "- A final \"logistic regression\" which has an affine transform from 2 inputs to 1 output, which is squeezed through a sigmoid.\n"
   ]
  },
  {
   "cell_type": "code",
   "execution_count": 17,
   "id": "2b9c66db",
   "metadata": {
    "execution": {
     "iopub.execute_input": "2022-05-30T20:10:56.920073Z",
     "iopub.status.busy": "2022-05-30T20:10:56.916921Z",
     "iopub.status.idle": "2022-05-30T20:10:56.935219Z",
     "shell.execute_reply": "2022-05-30T20:10:56.935776Z"
    },
    "papermill": {
     "duration": 0.056153,
     "end_time": "2022-05-30T20:10:56.935919",
     "exception": false,
     "start_time": "2022-05-30T20:10:56.879766",
     "status": "completed"
    },
    "tags": []
   },
   "outputs": [],
   "source": [
    "data = Data(X_train, y_train.reshape(-1,1))\n",
    "sampler = Sampler(data, config.bs, shuffle=True)\n",
    "\n",
    "dl = Dataloader(data, sampler)\n",
    "\n",
    "opt = GD(config.lr)\n",
    "loss = MSE()"
   ]
  },
  {
   "cell_type": "code",
   "execution_count": 18,
   "id": "b275e4c2",
   "metadata": {
    "execution": {
     "iopub.execute_input": "2022-05-30T20:10:57.005958Z",
     "iopub.status.busy": "2022-05-30T20:10:57.005162Z",
     "iopub.status.idle": "2022-05-30T20:10:57.017676Z",
     "shell.execute_reply": "2022-05-30T20:10:57.017116Z"
    },
    "papermill": {
     "duration": 0.050845,
     "end_time": "2022-05-30T20:10:57.017798",
     "exception": false,
     "start_time": "2022-05-30T20:10:56.966953",
     "status": "completed"
    },
    "tags": []
   },
   "outputs": [],
   "source": [
    "training_data_x = X_train\n",
    "testing_data_x = X_test\n",
    "training_data_y = y_train.reshape(-1,1)\n",
    "testing_data_y = y_test.reshape(-1,1)"
   ]
  },
  {
   "cell_type": "code",
   "execution_count": 19,
   "id": "76951160",
   "metadata": {
    "execution": {
     "iopub.execute_input": "2022-05-30T20:10:57.083903Z",
     "iopub.status.busy": "2022-05-30T20:10:57.083107Z",
     "iopub.status.idle": "2022-05-30T20:10:57.103632Z",
     "shell.execute_reply": "2022-05-30T20:10:57.102921Z"
    },
    "papermill": {
     "duration": 0.05515,
     "end_time": "2022-05-30T20:10:57.103756",
     "exception": false,
     "start_time": "2022-05-30T20:10:57.048606",
     "status": "completed"
    },
    "tags": []
   },
   "outputs": [
    {
     "name": "stdout",
     "output_type": "stream",
     "text": [
      "xavier\n",
      "xavier\n",
      "xavier\n",
      "xavier\n",
      "xavier\n"
     ]
    }
   ],
   "source": [
    "layers = [Affine(\"first\", 784, 100), Relu(\"first\"), Affine(\"second\", 100, 100), Relu(\"second\"), Affine(\"third\", 100, 2), Affine(\"last\", 2, 1), Sigmoid(\"last\")]\n",
    "model_nn = Model(layers)\n",
    "model_lr = Model([Affine(\"logits\", 784, 1), Sigmoid(\"sigmoid\")])"
   ]
  },
  {
   "cell_type": "code",
   "execution_count": 20,
   "id": "6eede77a",
   "metadata": {
    "execution": {
     "iopub.execute_input": "2022-05-30T20:10:57.169938Z",
     "iopub.status.busy": "2022-05-30T20:10:57.169247Z",
     "iopub.status.idle": "2022-05-30T20:10:57.183693Z",
     "shell.execute_reply": "2022-05-30T20:10:57.183029Z"
    },
    "papermill": {
     "duration": 0.048801,
     "end_time": "2022-05-30T20:10:57.183811",
     "exception": false,
     "start_time": "2022-05-30T20:10:57.135010",
     "status": "completed"
    },
    "tags": []
   },
   "outputs": [],
   "source": [
    "nn_learner = Learner(loss, model_nn, opt, config.num_epochs)\n",
    "acc_nn = ClfCallback(nn_learner, config.bs, training_data_x , testing_data_x, training_data_y, testing_data_y)\n",
    "nn_learner.set_callbacks([acc_nn])"
   ]
  },
  {
   "cell_type": "code",
   "execution_count": 21,
   "id": "877b6cc7",
   "metadata": {
    "execution": {
     "iopub.execute_input": "2022-05-30T20:10:57.252111Z",
     "iopub.status.busy": "2022-05-30T20:10:57.251438Z",
     "iopub.status.idle": "2022-05-30T20:10:57.265904Z",
     "shell.execute_reply": "2022-05-30T20:10:57.265239Z"
    },
    "papermill": {
     "duration": 0.049801,
     "end_time": "2022-05-30T20:10:57.266022",
     "exception": false,
     "start_time": "2022-05-30T20:10:57.216221",
     "status": "completed"
    },
    "tags": []
   },
   "outputs": [],
   "source": [
    "lr_learner = Learner(loss, model_lr, opt, config.num_epochs)\n",
    "acc_lr = ClfCallback(lr_learner, config.bs, training_data_x , testing_data_x, training_data_y, testing_data_y)\n",
    "lr_learner.set_callbacks([acc_lr])"
   ]
  },
  {
   "cell_type": "code",
   "execution_count": 22,
   "id": "d9b133c3",
   "metadata": {
    "execution": {
     "iopub.execute_input": "2022-05-30T20:10:57.334453Z",
     "iopub.status.busy": "2022-05-30T20:10:57.333793Z",
     "iopub.status.idle": "2022-05-30T20:12:28.826734Z",
     "shell.execute_reply": "2022-05-30T20:12:28.827712Z"
    },
    "papermill": {
     "duration": 91.530511,
     "end_time": "2022-05-30T20:12:28.827886",
     "exception": false,
     "start_time": "2022-05-30T20:10:57.297375",
     "status": "completed"
    },
    "tags": []
   },
   "outputs": [
    {
     "name": "stdout",
     "output_type": "stream",
     "text": [
      "Epoch 0, Loss 0.2541\n",
      "Training Accuracy: 0.7260, Testing Accuracy: 0.7485\n",
      "\n"
     ]
    },
    {
     "name": "stdout",
     "output_type": "stream",
     "text": [
      "Epoch 10, Loss 0.0675\n",
      "Training Accuracy: 0.9352, Testing Accuracy: 0.9476\n",
      "\n"
     ]
    },
    {
     "name": "stdout",
     "output_type": "stream",
     "text": [
      "Epoch 20, Loss 0.0466\n",
      "Training Accuracy: 0.9512, Testing Accuracy: 0.9592\n",
      "\n"
     ]
    },
    {
     "name": "stdout",
     "output_type": "stream",
     "text": [
      "Epoch 30, Loss 0.0387\n",
      "Training Accuracy: 0.9579, Testing Accuracy: 0.9652\n",
      "\n"
     ]
    },
    {
     "name": "stdout",
     "output_type": "stream",
     "text": [
      "Epoch 40, Loss 0.0344\n",
      "Training Accuracy: 0.9622, Testing Accuracy: 0.9677\n",
      "\n"
     ]
    },
    {
     "name": "stdout",
     "output_type": "stream",
     "text": [
      "Epoch 50, Loss 0.0316\n",
      "Training Accuracy: 0.9640, Testing Accuracy: 0.9693\n",
      "\n"
     ]
    },
    {
     "name": "stdout",
     "output_type": "stream",
     "text": [
      "Epoch 60, Loss 0.0295\n",
      "Training Accuracy: 0.9660, Testing Accuracy: 0.9698\n",
      "\n"
     ]
    },
    {
     "name": "stdout",
     "output_type": "stream",
     "text": [
      "Epoch 70, Loss 0.028\n",
      "Training Accuracy: 0.9679, Testing Accuracy: 0.9708\n",
      "\n"
     ]
    },
    {
     "name": "stdout",
     "output_type": "stream",
     "text": [
      "Epoch 80, Loss 0.0268\n",
      "Training Accuracy: 0.9700, Testing Accuracy: 0.9708\n",
      "\n"
     ]
    },
    {
     "name": "stdout",
     "output_type": "stream",
     "text": [
      "Epoch 90, Loss 0.0257\n",
      "Training Accuracy: 0.9712, Testing Accuracy: 0.9713\n",
      "\n"
     ]
    },
    {
     "name": "stdout",
     "output_type": "stream",
     "text": [
      "Epoch 100, Loss 0.0249\n",
      "Training Accuracy: 0.9724, Testing Accuracy: 0.9713\n",
      "\n"
     ]
    },
    {
     "name": "stdout",
     "output_type": "stream",
     "text": [
      "Epoch 110, Loss 0.0241\n",
      "Training Accuracy: 0.9731, Testing Accuracy: 0.9718\n",
      "\n"
     ]
    },
    {
     "name": "stdout",
     "output_type": "stream",
     "text": [
      "Epoch 120, Loss 0.0234\n",
      "Training Accuracy: 0.9737, Testing Accuracy: 0.9718\n",
      "\n"
     ]
    },
    {
     "name": "stdout",
     "output_type": "stream",
     "text": [
      "Epoch 130, Loss 0.0227\n",
      "Training Accuracy: 0.9740, Testing Accuracy: 0.9718\n",
      "\n"
     ]
    },
    {
     "name": "stdout",
     "output_type": "stream",
     "text": [
      "Epoch 140, Loss 0.0222\n",
      "Training Accuracy: 0.9750, Testing Accuracy: 0.9718\n",
      "\n"
     ]
    },
    {
     "name": "stdout",
     "output_type": "stream",
     "text": [
      "Epoch 150, Loss 0.0216\n",
      "Training Accuracy: 0.9755, Testing Accuracy: 0.9738\n",
      "\n"
     ]
    },
    {
     "name": "stdout",
     "output_type": "stream",
     "text": [
      "Epoch 160, Loss 0.0211\n",
      "Training Accuracy: 0.9767, Testing Accuracy: 0.9733\n",
      "\n"
     ]
    },
    {
     "name": "stdout",
     "output_type": "stream",
     "text": [
      "Epoch 170, Loss 0.0206\n",
      "Training Accuracy: 0.9770, Testing Accuracy: 0.9743\n",
      "\n"
     ]
    },
    {
     "name": "stdout",
     "output_type": "stream",
     "text": [
      "Epoch 180, Loss 0.0202\n",
      "Training Accuracy: 0.9773, Testing Accuracy: 0.9748\n",
      "\n"
     ]
    },
    {
     "name": "stdout",
     "output_type": "stream",
     "text": [
      "Epoch 190, Loss 0.0197\n",
      "Training Accuracy: 0.9779, Testing Accuracy: 0.9748\n",
      "\n"
     ]
    },
    {
     "name": "stdout",
     "output_type": "stream",
     "text": [
      "Epoch 200, Loss 0.0193\n",
      "Training Accuracy: 0.9782, Testing Accuracy: 0.9748\n",
      "\n"
     ]
    },
    {
     "name": "stdout",
     "output_type": "stream",
     "text": [
      "Epoch 210, Loss 0.0189\n",
      "Training Accuracy: 0.9787, Testing Accuracy: 0.9748\n",
      "\n"
     ]
    },
    {
     "name": "stdout",
     "output_type": "stream",
     "text": [
      "Epoch 220, Loss 0.0186\n",
      "Training Accuracy: 0.9792, Testing Accuracy: 0.9753\n",
      "\n"
     ]
    },
    {
     "name": "stdout",
     "output_type": "stream",
     "text": [
      "Epoch 230, Loss 0.0182\n",
      "Training Accuracy: 0.9796, Testing Accuracy: 0.9753\n",
      "\n"
     ]
    },
    {
     "name": "stdout",
     "output_type": "stream",
     "text": [
      "Epoch 240, Loss 0.0179\n",
      "Training Accuracy: 0.9801, Testing Accuracy: 0.9753\n",
      "\n"
     ]
    },
    {
     "data": {
      "text/plain": [
       "0.004779218351682785"
      ]
     },
     "execution_count": 22,
     "metadata": {},
     "output_type": "execute_result"
    }
   ],
   "source": [
    "nn_learner.train_loop(dl)"
   ]
  },
  {
   "cell_type": "code",
   "execution_count": 23,
   "id": "e0163366",
   "metadata": {
    "execution": {
     "iopub.execute_input": "2022-05-30T20:12:28.917884Z",
     "iopub.status.busy": "2022-05-30T20:12:28.917212Z",
     "iopub.status.idle": "2022-05-30T20:12:45.004159Z",
     "shell.execute_reply": "2022-05-30T20:12:45.005182Z"
    },
    "papermill": {
     "duration": 16.1383,
     "end_time": "2022-05-30T20:12:45.005364",
     "exception": false,
     "start_time": "2022-05-30T20:12:28.867064",
     "status": "completed"
    },
    "tags": []
   },
   "outputs": [
    {
     "name": "stdout",
     "output_type": "stream",
     "text": [
      "Epoch 0, Loss 0.2209\n",
      "Training Accuracy: 0.7375, Testing Accuracy: 0.7560\n",
      "\n"
     ]
    },
    {
     "name": "stdout",
     "output_type": "stream",
     "text": [
      "Epoch 10, Loss 0.0991\n",
      "Training Accuracy: 0.9119, Testing Accuracy: 0.9214\n",
      "\n"
     ]
    },
    {
     "name": "stdout",
     "output_type": "stream",
     "text": [
      "Epoch 20, Loss 0.0775\n",
      "Training Accuracy: 0.9274, Testing Accuracy: 0.9370\n",
      "\n"
     ]
    },
    {
     "name": "stdout",
     "output_type": "stream",
     "text": [
      "Epoch 30, Loss 0.0673\n",
      "Training Accuracy: 0.9348, Testing Accuracy: 0.9491\n",
      "\n"
     ]
    },
    {
     "name": "stdout",
     "output_type": "stream",
     "text": [
      "Epoch 40, Loss 0.0612\n",
      "Training Accuracy: 0.9408, Testing Accuracy: 0.9506\n",
      "\n"
     ]
    },
    {
     "name": "stdout",
     "output_type": "stream",
     "text": [
      "Epoch 50, Loss 0.0569\n",
      "Training Accuracy: 0.9439, Testing Accuracy: 0.9546\n",
      "\n"
     ]
    },
    {
     "name": "stdout",
     "output_type": "stream",
     "text": [
      "Epoch 60, Loss 0.0537\n",
      "Training Accuracy: 0.9462, Testing Accuracy: 0.9556\n",
      "\n"
     ]
    },
    {
     "name": "stdout",
     "output_type": "stream",
     "text": [
      "Epoch 70, Loss 0.0512\n",
      "Training Accuracy: 0.9476, Testing Accuracy: 0.9577\n",
      "\n"
     ]
    },
    {
     "name": "stdout",
     "output_type": "stream",
     "text": [
      "Epoch 80, Loss 0.0492\n",
      "Training Accuracy: 0.9491, Testing Accuracy: 0.9592\n",
      "\n"
     ]
    },
    {
     "name": "stdout",
     "output_type": "stream",
     "text": [
      "Epoch 90, Loss 0.0476\n",
      "Training Accuracy: 0.9506, Testing Accuracy: 0.9607\n",
      "\n"
     ]
    },
    {
     "name": "stdout",
     "output_type": "stream",
     "text": [
      "Epoch 100, Loss 0.0462\n",
      "Training Accuracy: 0.9524, Testing Accuracy: 0.9622\n",
      "\n"
     ]
    },
    {
     "name": "stdout",
     "output_type": "stream",
     "text": [
      "Epoch 110, Loss 0.045\n",
      "Training Accuracy: 0.9537, Testing Accuracy: 0.9632\n",
      "\n"
     ]
    },
    {
     "name": "stdout",
     "output_type": "stream",
     "text": [
      "Epoch 120, Loss 0.0439\n",
      "Training Accuracy: 0.9542, Testing Accuracy: 0.9647\n",
      "\n"
     ]
    },
    {
     "name": "stdout",
     "output_type": "stream",
     "text": [
      "Epoch 130, Loss 0.043\n",
      "Training Accuracy: 0.9550, Testing Accuracy: 0.9647\n",
      "\n"
     ]
    },
    {
     "name": "stdout",
     "output_type": "stream",
     "text": [
      "Epoch 140, Loss 0.0422\n",
      "Training Accuracy: 0.9551, Testing Accuracy: 0.9647\n",
      "\n"
     ]
    },
    {
     "name": "stdout",
     "output_type": "stream",
     "text": [
      "Epoch 150, Loss 0.0414\n",
      "Training Accuracy: 0.9559, Testing Accuracy: 0.9652\n",
      "\n"
     ]
    },
    {
     "name": "stdout",
     "output_type": "stream",
     "text": [
      "Epoch 160, Loss 0.0408\n",
      "Training Accuracy: 0.9565, Testing Accuracy: 0.9652\n",
      "\n"
     ]
    },
    {
     "name": "stdout",
     "output_type": "stream",
     "text": [
      "Epoch 170, Loss 0.0402\n",
      "Training Accuracy: 0.9571, Testing Accuracy: 0.9667\n",
      "\n"
     ]
    },
    {
     "name": "stdout",
     "output_type": "stream",
     "text": [
      "Epoch 180, Loss 0.0396\n",
      "Training Accuracy: 0.9575, Testing Accuracy: 0.9662\n",
      "\n"
     ]
    },
    {
     "name": "stdout",
     "output_type": "stream",
     "text": [
      "Epoch 190, Loss 0.0391\n",
      "Training Accuracy: 0.9577, Testing Accuracy: 0.9667\n",
      "\n"
     ]
    },
    {
     "name": "stdout",
     "output_type": "stream",
     "text": [
      "Epoch 200, Loss 0.0386\n",
      "Training Accuracy: 0.9583, Testing Accuracy: 0.9662\n",
      "\n"
     ]
    },
    {
     "name": "stdout",
     "output_type": "stream",
     "text": [
      "Epoch 210, Loss 0.0382\n",
      "Training Accuracy: 0.9587, Testing Accuracy: 0.9662\n",
      "\n"
     ]
    },
    {
     "name": "stdout",
     "output_type": "stream",
     "text": [
      "Epoch 220, Loss 0.0377\n",
      "Training Accuracy: 0.9591, Testing Accuracy: 0.9662\n",
      "\n"
     ]
    },
    {
     "name": "stdout",
     "output_type": "stream",
     "text": [
      "Epoch 230, Loss 0.0374\n",
      "Training Accuracy: 0.9594, Testing Accuracy: 0.9667\n",
      "\n"
     ]
    },
    {
     "name": "stdout",
     "output_type": "stream",
     "text": [
      "Epoch 240, Loss 0.037\n",
      "Training Accuracy: 0.9600, Testing Accuracy: 0.9667\n",
      "\n"
     ]
    },
    {
     "data": {
      "text/plain": [
       "0.035957435160325166"
      ]
     },
     "execution_count": 23,
     "metadata": {},
     "output_type": "execute_result"
    }
   ],
   "source": [
    "lr_learner.train_loop(dl)"
   ]
  },
  {
   "cell_type": "code",
   "execution_count": 24,
   "id": "ca410940",
   "metadata": {
    "execution": {
     "iopub.execute_input": "2022-05-30T20:12:45.114005Z",
     "iopub.status.busy": "2022-05-30T20:12:45.113311Z",
     "iopub.status.idle": "2022-05-30T20:12:45.370642Z",
     "shell.execute_reply": "2022-05-30T20:12:45.369578Z"
    },
    "papermill": {
     "duration": 0.317636,
     "end_time": "2022-05-30T20:12:45.370803",
     "exception": false,
     "start_time": "2022-05-30T20:12:45.053167",
     "status": "completed"
    },
    "tags": []
   },
   "outputs": [
    {
     "data": {
      "text/plain": [
       "<matplotlib.legend.Legend at 0x7f92e3c94518>"
      ]
     },
     "execution_count": 24,
     "metadata": {},
     "output_type": "execute_result"
    },
    {
     "data": {
      "image/png": "[encoded data removed]",
      "text/plain": [
       "<Figure size 1080x720 with 1 Axes>"
      ]
     },
     "metadata": {
      "needs_background": "light"
     },
     "output_type": "display_data"
    }
   ],
   "source": [
    "#comparing the results of NN and LR\n",
    "plt.figure(figsize=(15,10))\n",
    "\n",
    "# Neural Network plots\n",
    "plt.plot(acc_nn.accuracies, 'r-', label = \"Training Accuracies - NN\")\n",
    "plt.plot(acc_nn.test_accuracies, 'g-', label = \"Testing Accuracies - NN\")\n",
    "\n",
    "# Logistic Regression plots\n",
    "plt.plot(acc_lr.accuracies, 'k-', label = \"Training Accuracies - LR\")\n",
    "plt.plot(acc_lr.test_accuracies, 'b-', label = \"Testing Accuracies - LR\")\n",
    "plt.legend()"
   ]
  },
  {
   "cell_type": "markdown",
   "id": "80dfb35c",
   "metadata": {
    "papermill": {
     "duration": 0.047472,
     "end_time": "2022-05-30T20:12:45.466550",
     "exception": false,
     "start_time": "2022-05-30T20:12:45.419078",
     "status": "completed"
    },
    "tags": []
   },
   "source": [
    "#### Plotting the outputs of this layer of the NN.\n"
   ]
  },
  {
   "cell_type": "code",
   "execution_count": 25,
   "id": "45eb2ff5",
   "metadata": {
    "execution": {
     "iopub.execute_input": "2022-05-30T20:12:45.566203Z",
     "iopub.status.busy": "2022-05-30T20:12:45.565506Z",
     "iopub.status.idle": "2022-05-30T20:12:45.589678Z",
     "shell.execute_reply": "2022-05-30T20:12:45.590614Z"
    },
    "papermill": {
     "duration": 0.076837,
     "end_time": "2022-05-30T20:12:45.590782",
     "exception": false,
     "start_time": "2022-05-30T20:12:45.513945",
     "status": "completed"
    },
    "tags": []
   },
   "outputs": [],
   "source": [
    "new_model = Model(layers[:-2])\n",
    "testing_plot = new_model(testing_data_x)"
   ]
  },
  {
   "cell_type": "code",
   "execution_count": 26,
   "id": "4c0a5485",
   "metadata": {
    "execution": {
     "iopub.execute_input": "2022-05-30T20:12:45.699590Z",
     "iopub.status.busy": "2022-05-30T20:12:45.698911Z",
     "iopub.status.idle": "2022-05-30T20:12:45.919377Z",
     "shell.execute_reply": "2022-05-30T20:12:45.919883Z"
    },
    "papermill": {
     "duration": 0.278733,
     "end_time": "2022-05-30T20:12:45.920043",
     "exception": false,
     "start_time": "2022-05-30T20:12:45.641310",
     "status": "completed"
    },
    "tags": []
   },
   "outputs": [
    {
     "data": {
      "text/plain": [
       "Text(0.5, 1.0, 'Outputs')"
      ]
     },
     "execution_count": 26,
     "metadata": {},
     "output_type": "execute_result"
    },
    {
     "data": {
      "image/png": "[encoded data removed]",
      "text/plain": [
       "<Figure size 576x504 with 1 Axes>"
      ]
     },
     "metadata": {
      "needs_background": "light"
     },
     "output_type": "display_data"
    }
   ],
   "source": [
    "# Plotting the scatter plot of points and color coding by class\n",
    "plt.figure(figsize=(8,7))\n",
    "plt.scatter(testing_plot[:,0], testing_plot[:,1], alpha = 0.1, c = y_test.ravel());\n",
    "plt.title('Outputs')"
   ]
  },
  {
   "cell_type": "markdown",
   "id": "a74fcf8f",
   "metadata": {
    "papermill": {
     "duration": 0.050233,
     "end_time": "2022-05-30T20:12:46.022527",
     "exception": false,
     "start_time": "2022-05-30T20:12:45.972294",
     "status": "completed"
    },
    "tags": []
   },
   "source": [
    "Probability contours"
   ]
  },
  {
   "cell_type": "code",
   "execution_count": 27,
   "id": "d0afc8e3",
   "metadata": {
    "execution": {
     "iopub.execute_input": "2022-05-30T20:12:46.130767Z",
     "iopub.status.busy": "2022-05-30T20:12:46.129947Z",
     "iopub.status.idle": "2022-05-30T20:12:46.145279Z",
     "shell.execute_reply": "2022-05-30T20:12:46.145811Z"
    },
    "papermill": {
     "duration": 0.070797,
     "end_time": "2022-05-30T20:12:46.145960",
     "exception": false,
     "start_time": "2022-05-30T20:12:46.075163",
     "status": "completed"
    },
    "tags": []
   },
   "outputs": [],
   "source": [
    "model_prob = Model(layers[-2:]) "
   ]
  },
  {
   "cell_type": "code",
   "execution_count": 28,
   "id": "9b96e238",
   "metadata": {
    "execution": {
     "iopub.execute_input": "2022-05-30T20:12:46.282585Z",
     "iopub.status.busy": "2022-05-30T20:12:46.281542Z",
     "iopub.status.idle": "2022-05-30T20:12:46.298615Z",
     "shell.execute_reply": "2022-05-30T20:12:46.297646Z"
    },
    "papermill": {
     "duration": 0.10338,
     "end_time": "2022-05-30T20:12:46.298739",
     "exception": false,
     "start_time": "2022-05-30T20:12:46.195359",
     "status": "completed"
    },
    "tags": []
   },
   "outputs": [],
   "source": [
    "#creating the x and y ranges according to the above generated plot.\n",
    "x_range = np.linspace(-4, 1, 100) \n",
    "y_range = np.linspace(-6, 6, 100) \n",
    "x_grid, y_grid = np.meshgrid(x_range, y_range) # x_grid and y_grig are of size 100 X 100\n",
    "\n",
    "# converting x_grid and y_grid to continuous arrays\n",
    "x_gridflat = np.ravel(x_grid)\n",
    "y_gridflat = np.ravel(y_grid)\n",
    "\n",
    "# The last layer of the current model takes two columns as input. Hence transpose of np.vstack() is required.\n",
    "X = np.vstack((x_gridflat, y_gridflat)).T\n",
    "\n",
    "prob_contour = model_prob(X).reshape(100,100) "
   ]
  },
  {
   "cell_type": "code",
   "execution_count": 29,
   "id": "da72499a",
   "metadata": {
    "execution": {
     "iopub.execute_input": "2022-05-30T20:12:46.413902Z",
     "iopub.status.busy": "2022-05-30T20:12:46.413225Z",
     "iopub.status.idle": "2022-05-30T20:12:46.687682Z",
     "shell.execute_reply": "2022-05-30T20:12:46.688258Z"
    },
    "papermill": {
     "duration": 0.339161,
     "end_time": "2022-05-30T20:12:46.688426",
     "exception": false,
     "start_time": "2022-05-30T20:12:46.349265",
     "status": "completed"
    },
    "tags": []
   },
   "outputs": [
    {
     "data": {
      "image/png": "[encoded data removed]",
      "text/plain": [
       "<Figure size 720x648 with 1 Axes>"
      ]
     },
     "metadata": {
      "needs_background": "light"
     },
     "output_type": "display_data"
    }
   ],
   "source": [
    "plt.figure(figsize=(10,9))\n",
    "plt.scatter(testing_plot[:,0], testing_plot[:,1], alpha = 0.1, c = y_test.ravel())\n",
    "contours = plt.contour(x_grid,y_grid,prob_contour)\n",
    "plt.title('Probability Contours')\n",
    "plt.clabel(contours, inline = True );"
   ]
  },
  {
   "cell_type": "code",
   "execution_count": null,
   "id": "e81b4ac7",
   "metadata": {
    "papermill": {
     "duration": 0.052571,
     "end_time": "2022-05-30T20:12:46.794165",
     "exception": false,
     "start_time": "2022-05-30T20:12:46.741594",
     "status": "completed"
    },
    "tags": []
   },
   "outputs": [],
   "source": []
  }
 ],
 "metadata": {
  "kernelspec": {
   "display_name": "Python 3",
   "language": "python",
   "name": "python3"
  },
  "language_info": {
   "codemirror_mode": {
    "name": "ipython",
    "version": 3
   },
   "file_extension": ".py",
   "mimetype": "text/x-python",
   "name": "python",
   "nbconvert_exporter": "python",
   "pygments_lexer": "ipython3",
   "version": "3.6.15"
  },
  "papermill": {
   "default_parameters": {},
   "duration": 117.124393,
   "end_time": "2022-05-30T20:12:47.268311",
   "environment_variables": {},
   "exception": null,
   "input_path": "2020-08-11-part2.ipynb",
   "output_path": "2020-08-11-part2.ipynb",
   "parameters": {},
   "start_time": "2022-05-30T20:10:50.143918",
   "version": "2.3.3"
  }
 },
 "nbformat": 4,
 "nbformat_minor": 5
}