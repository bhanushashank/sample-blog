{
 "cells": [
  {
   "cell_type": "markdown",
   "id": "98380cd3",
   "metadata": {
    "papermill": {
     "duration": 0.037166,
     "end_time": "2022-09-07T10:16:57.798261",
     "exception": false,
     "start_time": "2022-09-07T10:16:57.761095",
     "status": "completed"
    },
    "tags": []
   },
   "source": [
    "# Distinguish Your Own Digits (DYOD)"
   ]
  },
  {
   "cell_type": "markdown",
   "id": "ef31240d",
   "metadata": {
    "papermill": {
     "duration": 0.024149,
     "end_time": "2022-09-07T10:16:57.847964",
     "exception": false,
     "start_time": "2022-09-07T10:16:57.823815",
     "status": "completed"
    },
    "tags": []
   },
   "source": [
    "You are going to write a classifier that distinguishes between the number 3 and number 8."
   ]
  },
  {
   "cell_type": "code",
   "execution_count": 1,
   "id": "b15c8646",
   "metadata": {
    "execution": {
     "iopub.execute_input": "2022-09-07T10:16:57.904947Z",
     "iopub.status.busy": "2022-09-07T10:16:57.904330Z",
     "iopub.status.idle": "2022-09-07T10:16:57.917150Z",
     "shell.execute_reply": "2022-09-07T10:16:57.916584Z"
    },
    "papermill": {
     "duration": 0.048032,
     "end_time": "2022-09-07T10:16:57.917288",
     "exception": false,
     "start_time": "2022-09-07T10:16:57.869256",
     "status": "completed"
    },
    "tags": []
   },
   "outputs": [],
   "source": [
    "%load_ext autoreload\n",
    "%autoreload 2"
   ]
  },
  {
   "cell_type": "code",
   "execution_count": 2,
   "id": "22ef38dc",
   "metadata": {
    "execution": {
     "iopub.execute_input": "2022-09-07T10:16:57.970199Z",
     "iopub.status.busy": "2022-09-07T10:16:57.969586Z",
     "iopub.status.idle": "2022-09-07T10:16:58.533505Z",
     "shell.execute_reply": "2022-09-07T10:16:58.534494Z"
    },
    "papermill": {
     "duration": 0.593607,
     "end_time": "2022-09-07T10:16:58.534752",
     "exception": false,
     "start_time": "2022-09-07T10:16:57.941145",
     "status": "completed"
    },
    "tags": []
   },
   "outputs": [],
   "source": [
    "%matplotlib inline\n",
    "import numpy as np\n",
    "import matplotlib.pyplot as plt\n",
    "import pandas as pd"
   ]
  },
  {
   "cell_type": "markdown",
   "id": "ba036198",
   "metadata": {
    "papermill": {
     "duration": 0.029345,
     "end_time": "2022-09-07T10:16:58.590371",
     "exception": false,
     "start_time": "2022-09-07T10:16:58.561026",
     "status": "completed"
    },
    "tags": []
   },
   "source": [
    "From the command line run `pip install mnist`. This is a library that will help you bring down the mnist dataset. If you run this from a notebook, you need to put  `!pip install mnist` in a cell by itself."
   ]
  },
  {
   "cell_type": "code",
   "execution_count": 3,
   "id": "bb6ad8a1",
   "metadata": {
    "execution": {
     "iopub.execute_input": "2022-09-07T10:16:58.645574Z",
     "iopub.status.busy": "2022-09-07T10:16:58.642856Z",
     "iopub.status.idle": "2022-09-07T10:17:01.195474Z",
     "shell.execute_reply": "2022-09-07T10:17:01.195020Z"
    },
    "papermill": {
     "duration": 2.579606,
     "end_time": "2022-09-07T10:17:01.195591",
     "exception": false,
     "start_time": "2022-09-07T10:16:58.615985",
     "status": "completed"
    },
    "tags": []
   },
   "outputs": [
    {
     "name": "stdout",
     "output_type": "stream",
     "text": [
      "Collecting mnist\r\n"
     ]
    },
    {
     "name": "stdout",
     "output_type": "stream",
     "text": [
      "  Downloading mnist-0.2.2-py2.py3-none-any.whl (3.5 kB)\r\n",
      "Requirement already satisfied: numpy in /opt/hostedtoolcache/Python/3.6.15/x64/lib/python3.6/site-packages (from mnist) (1.19.5)\r\n"
     ]
    },
    {
     "name": "stdout",
     "output_type": "stream",
     "text": [
      "Installing collected packages: mnist\r\n"
     ]
    },
    {
     "name": "stdout",
     "output_type": "stream",
     "text": [
      "Successfully installed mnist-0.2.2\r\n"
     ]
    }
   ],
   "source": [
    "!pip install mnist"
   ]
  },
  {
   "cell_type": "markdown",
   "id": "69df9c9a",
   "metadata": {
    "papermill": {
     "duration": 0.022261,
     "end_time": "2022-09-07T10:17:01.242617",
     "exception": false,
     "start_time": "2022-09-07T10:17:01.220356",
     "status": "completed"
    },
    "tags": []
   },
   "source": [
    "## Preparing the Data"
   ]
  },
  {
   "cell_type": "code",
   "execution_count": 4,
   "id": "7f69d806",
   "metadata": {
    "execution": {
     "iopub.execute_input": "2022-09-07T10:17:01.293408Z",
     "iopub.status.busy": "2022-09-07T10:17:01.292652Z",
     "iopub.status.idle": "2022-09-07T10:17:01.311747Z",
     "shell.execute_reply": "2022-09-07T10:17:01.311062Z"
    },
    "papermill": {
     "duration": 0.04529,
     "end_time": "2022-09-07T10:17:01.311896",
     "exception": false,
     "start_time": "2022-09-07T10:17:01.266606",
     "status": "completed"
    },
    "tags": []
   },
   "outputs": [],
   "source": [
    "import mnist"
   ]
  },
  {
   "cell_type": "code",
   "execution_count": 5,
   "id": "a411e44f",
   "metadata": {
    "execution": {
     "iopub.execute_input": "2022-09-07T10:17:01.365657Z",
     "iopub.status.busy": "2022-09-07T10:17:01.365091Z",
     "iopub.status.idle": "2022-09-07T10:17:02.170992Z",
     "shell.execute_reply": "2022-09-07T10:17:02.169836Z"
    },
    "papermill": {
     "duration": 0.833599,
     "end_time": "2022-09-07T10:17:02.171151",
     "exception": false,
     "start_time": "2022-09-07T10:17:01.337552",
     "status": "completed"
    },
    "tags": []
   },
   "outputs": [],
   "source": [
    "train_images = mnist.train_images()\n",
    "train_labels = mnist.train_labels()"
   ]
  },
  {
   "cell_type": "code",
   "execution_count": 6,
   "id": "dceab3a5",
   "metadata": {
    "execution": {
     "iopub.execute_input": "2022-09-07T10:17:02.223330Z",
     "iopub.status.busy": "2022-09-07T10:17:02.222135Z",
     "iopub.status.idle": "2022-09-07T10:17:02.235720Z",
     "shell.execute_reply": "2022-09-07T10:17:02.235269Z"
    },
    "papermill": {
     "duration": 0.041055,
     "end_time": "2022-09-07T10:17:02.235824",
     "exception": false,
     "start_time": "2022-09-07T10:17:02.194769",
     "status": "completed"
    },
    "tags": []
   },
   "outputs": [
    {
     "data": {
      "text/plain": [
       "((60000, 28, 28), (60000,))"
      ]
     },
     "execution_count": 6,
     "metadata": {},
     "output_type": "execute_result"
    }
   ],
   "source": [
    "train_images.shape, train_labels.shape"
   ]
  },
  {
   "cell_type": "code",
   "execution_count": 7,
   "id": "f50dc2bb",
   "metadata": {
    "execution": {
     "iopub.execute_input": "2022-09-07T10:17:02.290193Z",
     "iopub.status.busy": "2022-09-07T10:17:02.289596Z",
     "iopub.status.idle": "2022-09-07T10:17:02.408617Z",
     "shell.execute_reply": "2022-09-07T10:17:02.407641Z"
    },
    "papermill": {
     "duration": 0.148349,
     "end_time": "2022-09-07T10:17:02.408885",
     "exception": false,
     "start_time": "2022-09-07T10:17:02.260536",
     "status": "completed"
    },
    "tags": []
   },
   "outputs": [],
   "source": [
    "test_images = mnist.test_images()\n",
    "test_labels = mnist.test_labels()"
   ]
  },
  {
   "cell_type": "code",
   "execution_count": 8,
   "id": "fc38cf1b",
   "metadata": {
    "execution": {
     "iopub.execute_input": "2022-09-07T10:17:02.469521Z",
     "iopub.status.busy": "2022-09-07T10:17:02.468931Z",
     "iopub.status.idle": "2022-09-07T10:17:02.485986Z",
     "shell.execute_reply": "2022-09-07T10:17:02.486446Z"
    },
    "papermill": {
     "duration": 0.050841,
     "end_time": "2022-09-07T10:17:02.486594",
     "exception": false,
     "start_time": "2022-09-07T10:17:02.435753",
     "status": "completed"
    },
    "tags": []
   },
   "outputs": [
    {
     "data": {
      "text/plain": [
       "((10000, 28, 28), (10000,))"
      ]
     },
     "execution_count": 8,
     "metadata": {},
     "output_type": "execute_result"
    }
   ],
   "source": [
    "test_images.shape, test_labels.shape"
   ]
  },
  {
   "cell_type": "code",
   "execution_count": 9,
   "id": "f9ed8fe0",
   "metadata": {
    "execution": {
     "iopub.execute_input": "2022-09-07T10:17:02.541863Z",
     "iopub.status.busy": "2022-09-07T10:17:02.541216Z",
     "iopub.status.idle": "2022-09-07T10:17:02.692161Z",
     "shell.execute_reply": "2022-09-07T10:17:02.691646Z"
    },
    "papermill": {
     "duration": 0.180723,
     "end_time": "2022-09-07T10:17:02.692294",
     "exception": false,
     "start_time": "2022-09-07T10:17:02.511571",
     "status": "completed"
    },
    "tags": []
   },
   "outputs": [
    {
     "name": "stdout",
     "output_type": "stream",
     "text": [
      "2\n"
     ]
    },
    {
     "data": {
      "text/plain": [
       "<matplotlib.image.AxesImage at 0x7fd1edd43be0>"
      ]
     },
     "execution_count": 9,
     "metadata": {},
     "output_type": "execute_result"
    },
    {
     "data": {
      "image/png": "[encoded data removed]",
      "text/plain": [
       "<Figure size 432x288 with 1 Axes>"
      ]
     },
     "metadata": {
      "needs_background": "light"
     },
     "output_type": "display_data"
    }
   ],
   "source": [
    "image_index = 7776 # You may select anything up to 60,000\n",
    "print(train_labels[image_index]) \n",
    "plt.imshow(train_images[image_index], cmap='Greys')"
   ]
  },
  {
   "cell_type": "markdown",
   "id": "a8d2388d",
   "metadata": {
    "papermill": {
     "duration": 0.024812,
     "end_time": "2022-09-07T10:17:02.745043",
     "exception": false,
     "start_time": "2022-09-07T10:17:02.720231",
     "status": "completed"
    },
    "tags": []
   },
   "source": [
    "## Filter data to get 3 and 8 out"
   ]
  },
  {
   "cell_type": "code",
   "execution_count": 10,
   "id": "776f7fc7",
   "metadata": {
    "execution": {
     "iopub.execute_input": "2022-09-07T10:17:02.810034Z",
     "iopub.status.busy": "2022-09-07T10:17:02.805274Z",
     "iopub.status.idle": "2022-09-07T10:17:02.823613Z",
     "shell.execute_reply": "2022-09-07T10:17:02.822958Z"
    },
    "papermill": {
     "duration": 0.051794,
     "end_time": "2022-09-07T10:17:02.823724",
     "exception": false,
     "start_time": "2022-09-07T10:17:02.771930",
     "status": "completed"
    },
    "tags": []
   },
   "outputs": [],
   "source": [
    "train_filter = np.where((train_labels == 3 ) | (train_labels == 8))\n",
    "test_filter = np.where((test_labels == 3) | (test_labels == 8))\n",
    "X_train, y_train = train_images[train_filter], train_labels[train_filter]\n",
    "X_test, y_test = test_images[test_filter], test_labels[test_filter]"
   ]
  },
  {
   "cell_type": "markdown",
   "id": "948f0b7e",
   "metadata": {
    "papermill": {
     "duration": 0.026806,
     "end_time": "2022-09-07T10:17:02.878484",
     "exception": false,
     "start_time": "2022-09-07T10:17:02.851678",
     "status": "completed"
    },
    "tags": []
   },
   "source": [
    "We normalize the pizel values in the 0 to 1 range"
   ]
  },
  {
   "cell_type": "code",
   "execution_count": 11,
   "id": "ee4c2166",
   "metadata": {
    "execution": {
     "iopub.execute_input": "2022-09-07T10:17:02.941848Z",
     "iopub.status.busy": "2022-09-07T10:17:02.938819Z",
     "iopub.status.idle": "2022-09-07T10:17:02.989861Z",
     "shell.execute_reply": "2022-09-07T10:17:02.989242Z"
    },
    "papermill": {
     "duration": 0.083836,
     "end_time": "2022-09-07T10:17:02.989997",
     "exception": false,
     "start_time": "2022-09-07T10:17:02.906161",
     "status": "completed"
    },
    "tags": []
   },
   "outputs": [],
   "source": [
    "X_train = X_train/255.\n",
    "X_test = X_test/255."
   ]
  },
  {
   "cell_type": "markdown",
   "id": "ddcf4fab",
   "metadata": {
    "papermill": {
     "duration": 0.03801,
     "end_time": "2022-09-07T10:17:03.056252",
     "exception": false,
     "start_time": "2022-09-07T10:17:03.018242",
     "status": "completed"
    },
    "tags": []
   },
   "source": [
    "And setup the labels as 1 (when the digit is 3) and 0 (when the digit is 8)"
   ]
  },
  {
   "cell_type": "code",
   "execution_count": 12,
   "id": "7dc908f2",
   "metadata": {
    "execution": {
     "iopub.execute_input": "2022-09-07T10:17:03.122201Z",
     "iopub.status.busy": "2022-09-07T10:17:03.121479Z",
     "iopub.status.idle": "2022-09-07T10:17:03.134984Z",
     "shell.execute_reply": "2022-09-07T10:17:03.135490Z"
    },
    "papermill": {
     "duration": 0.049104,
     "end_time": "2022-09-07T10:17:03.135661",
     "exception": false,
     "start_time": "2022-09-07T10:17:03.086557",
     "status": "completed"
    },
    "tags": []
   },
   "outputs": [],
   "source": [
    "y_train = 1*(y_train==3)\n",
    "y_test = 1*(y_test==3)"
   ]
  },
  {
   "cell_type": "code",
   "execution_count": 13,
   "id": "01e4e969",
   "metadata": {
    "execution": {
     "iopub.execute_input": "2022-09-07T10:17:03.198399Z",
     "iopub.status.busy": "2022-09-07T10:17:03.197671Z",
     "iopub.status.idle": "2022-09-07T10:17:03.214448Z",
     "shell.execute_reply": "2022-09-07T10:17:03.215004Z"
    },
    "papermill": {
     "duration": 0.05071,
     "end_time": "2022-09-07T10:17:03.215139",
     "exception": false,
     "start_time": "2022-09-07T10:17:03.164429",
     "status": "completed"
    },
    "tags": []
   },
   "outputs": [
    {
     "data": {
      "text/plain": [
       "((11982, 28, 28), (1984, 28, 28))"
      ]
     },
     "execution_count": 13,
     "metadata": {},
     "output_type": "execute_result"
    }
   ],
   "source": [
    "X_train.shape, X_test.shape"
   ]
  },
  {
   "cell_type": "markdown",
   "id": "5ccf3f85",
   "metadata": {
    "papermill": {
     "duration": 0.027327,
     "end_time": "2022-09-07T10:17:03.269438",
     "exception": false,
     "start_time": "2022-09-07T10:17:03.242111",
     "status": "completed"
    },
    "tags": []
   },
   "source": [
    "We reshape the data to flatten the image pixels into a set of features or co-variates:"
   ]
  },
  {
   "cell_type": "code",
   "execution_count": 14,
   "id": "5286a4a3",
   "metadata": {
    "execution": {
     "iopub.execute_input": "2022-09-07T10:17:03.326015Z",
     "iopub.status.busy": "2022-09-07T10:17:03.325339Z",
     "iopub.status.idle": "2022-09-07T10:17:03.340276Z",
     "shell.execute_reply": "2022-09-07T10:17:03.339735Z"
    },
    "papermill": {
     "duration": 0.043432,
     "end_time": "2022-09-07T10:17:03.340380",
     "exception": false,
     "start_time": "2022-09-07T10:17:03.296948",
     "status": "completed"
    },
    "tags": []
   },
   "outputs": [
    {
     "data": {
      "text/plain": [
       "((11982, 784), (1984, 784))"
      ]
     },
     "execution_count": 14,
     "metadata": {},
     "output_type": "execute_result"
    }
   ],
   "source": [
    "X_train = X_train.reshape(X_train.shape[0], -1)\n",
    "X_test = X_test.reshape(X_test.shape[0], -1)\n",
    "X_train.shape, X_test.shape"
   ]
  },
  {
   "cell_type": "code",
   "execution_count": 15,
   "id": "73c5f88a",
   "metadata": {
    "execution": {
     "iopub.execute_input": "2022-09-07T10:17:03.395855Z",
     "iopub.status.busy": "2022-09-07T10:17:03.395229Z",
     "iopub.status.idle": "2022-09-07T10:17:03.414779Z",
     "shell.execute_reply": "2022-09-07T10:17:03.414200Z"
    },
    "papermill": {
     "duration": 0.049771,
     "end_time": "2022-09-07T10:17:03.414893",
     "exception": false,
     "start_time": "2022-09-07T10:17:03.365122",
     "status": "completed"
    },
    "tags": []
   },
   "outputs": [],
   "source": [
    "#Impoting functions from 'Kudzu'\n",
    "from kudzu.model import Model\n",
    "from kudzu.train import Learner\n",
    "from kudzu.optim import GD\n",
    "from kudzu.data import Data, Sampler,Dataloader\n",
    "\n",
    "from kudzu.callbacks import AccCallback\n",
    "from kudzu.callbacks import ClfCallback\n",
    "\n",
    "from kudzu.loss import MSE\n",
    "\n",
    "from kudzu.layer import Sigmoid,Relu\n",
    "from kudzu.layer import Affine"
   ]
  },
  {
   "cell_type": "markdown",
   "id": "bc01172a",
   "metadata": {
    "papermill": {
     "duration": 0.028122,
     "end_time": "2022-09-07T10:17:03.470679",
     "exception": false,
     "start_time": "2022-09-07T10:17:03.442557",
     "status": "completed"
    },
    "tags": []
   },
   "source": [
    "### Let us create a `Config` class, to store important parameters. \n",
    "This class essentially plays the role of a dictionary."
   ]
  },
  {
   "cell_type": "code",
   "execution_count": 16,
   "id": "978281aa",
   "metadata": {
    "execution": {
     "iopub.execute_input": "2022-09-07T10:17:03.530297Z",
     "iopub.status.busy": "2022-09-07T10:17:03.529647Z",
     "iopub.status.idle": "2022-09-07T10:17:03.544003Z",
     "shell.execute_reply": "2022-09-07T10:17:03.543491Z"
    },
    "papermill": {
     "duration": 0.046407,
     "end_time": "2022-09-07T10:17:03.544138",
     "exception": false,
     "start_time": "2022-09-07T10:17:03.497731",
     "status": "completed"
    },
    "tags": []
   },
   "outputs": [],
   "source": [
    "class Config:\n",
    "    pass\n",
    "config = Config()\n",
    "config.lr = 0.001\n",
    "config.num_epochs = 250\n",
    "config.bs = 50"
   ]
  },
  {
   "cell_type": "markdown",
   "id": "1385fa59",
   "metadata": {
    "papermill": {
     "duration": 0.027992,
     "end_time": "2022-09-07T10:17:03.599357",
     "exception": false,
     "start_time": "2022-09-07T10:17:03.571365",
     "status": "completed"
    },
    "tags": []
   },
   "source": [
    "### Running Models with the Training data\n",
    "Details about the network layers:\n",
    "- A first affine layer has 784 inputs and does 100 affine transforms. These are followed by a Relu\n",
    "- A second affine layer has 100 inputs from the 100 activations of the past layer, and does 100 affine transforms. These are followed by a Relu\n",
    "- A third affine layer has 100 activations and does 2 affine transformations to create an embedding for visualization. There is no non-linearity here.\n",
    "- A final \"logistic regression\" which has an affine transform from 2 inputs to 1 output, which is squeezed through a sigmoid.\n"
   ]
  },
  {
   "cell_type": "code",
   "execution_count": 17,
   "id": "2b9c66db",
   "metadata": {
    "execution": {
     "iopub.execute_input": "2022-09-07T10:17:03.659157Z",
     "iopub.status.busy": "2022-09-07T10:17:03.658563Z",
     "iopub.status.idle": "2022-09-07T10:17:03.671855Z",
     "shell.execute_reply": "2022-09-07T10:17:03.672241Z"
    },
    "papermill": {
     "duration": 0.04653,
     "end_time": "2022-09-07T10:17:03.672345",
     "exception": false,
     "start_time": "2022-09-07T10:17:03.625815",
     "status": "completed"
    },
    "tags": []
   },
   "outputs": [],
   "source": [
    "data = Data(X_train, y_train.reshape(-1,1))\n",
    "sampler = Sampler(data, config.bs, shuffle=True)\n",
    "\n",
    "dl = Dataloader(data, sampler)\n",
    "\n",
    "opt = GD(config.lr)\n",
    "loss = MSE()"
   ]
  },
  {
   "cell_type": "code",
   "execution_count": 18,
   "id": "b275e4c2",
   "metadata": {
    "execution": {
     "iopub.execute_input": "2022-09-07T10:17:03.728704Z",
     "iopub.status.busy": "2022-09-07T10:17:03.728229Z",
     "iopub.status.idle": "2022-09-07T10:17:03.742589Z",
     "shell.execute_reply": "2022-09-07T10:17:03.741830Z"
    },
    "papermill": {
     "duration": 0.047329,
     "end_time": "2022-09-07T10:17:03.742763",
     "exception": false,
     "start_time": "2022-09-07T10:17:03.695434",
     "status": "completed"
    },
    "tags": []
   },
   "outputs": [],
   "source": [
    "training_data_x = X_train\n",
    "testing_data_x = X_test\n",
    "training_data_y = y_train.reshape(-1,1)\n",
    "testing_data_y = y_test.reshape(-1,1)"
   ]
  },
  {
   "cell_type": "code",
   "execution_count": 19,
   "id": "76951160",
   "metadata": {
    "execution": {
     "iopub.execute_input": "2022-09-07T10:17:03.800198Z",
     "iopub.status.busy": "2022-09-07T10:17:03.799548Z",
     "iopub.status.idle": "2022-09-07T10:17:03.815334Z",
     "shell.execute_reply": "2022-09-07T10:17:03.814821Z"
    },
    "papermill": {
     "duration": 0.044789,
     "end_time": "2022-09-07T10:17:03.815447",
     "exception": false,
     "start_time": "2022-09-07T10:17:03.770658",
     "status": "completed"
    },
    "tags": []
   },
   "outputs": [
    {
     "name": "stdout",
     "output_type": "stream",
     "text": [
      "xavier\n",
      "xavier\n",
      "xavier\n",
      "xavier\n",
      "xavier\n"
     ]
    }
   ],
   "source": [
    "layers = [Affine(\"first\", 784, 100), Relu(\"first\"), Affine(\"second\", 100, 100), Relu(\"second\"), Affine(\"third\", 100, 2), Affine(\"last\", 2, 1), Sigmoid(\"last\")]\n",
    "model_nn = Model(layers)\n",
    "model_lr = Model([Affine(\"logits\", 784, 1), Sigmoid(\"sigmoid\")])"
   ]
  },
  {
   "cell_type": "code",
   "execution_count": 20,
   "id": "6eede77a",
   "metadata": {
    "execution": {
     "iopub.execute_input": "2022-09-07T10:17:03.874086Z",
     "iopub.status.busy": "2022-09-07T10:17:03.873351Z",
     "iopub.status.idle": "2022-09-07T10:17:03.885995Z",
     "shell.execute_reply": "2022-09-07T10:17:03.885542Z"
    },
    "papermill": {
     "duration": 0.043217,
     "end_time": "2022-09-07T10:17:03.886094",
     "exception": false,
     "start_time": "2022-09-07T10:17:03.842877",
     "status": "completed"
    },
    "tags": []
   },
   "outputs": [],
   "source": [
    "nn_learner = Learner(loss, model_nn, opt, config.num_epochs)\n",
    "acc_nn = ClfCallback(nn_learner, config.bs, training_data_x , testing_data_x, training_data_y, testing_data_y)\n",
    "nn_learner.set_callbacks([acc_nn])"
   ]
  },
  {
   "cell_type": "code",
   "execution_count": 21,
   "id": "877b6cc7",
   "metadata": {
    "execution": {
     "iopub.execute_input": "2022-09-07T10:17:03.943374Z",
     "iopub.status.busy": "2022-09-07T10:17:03.942855Z",
     "iopub.status.idle": "2022-09-07T10:17:03.955403Z",
     "shell.execute_reply": "2022-09-07T10:17:03.954850Z"
    },
    "papermill": {
     "duration": 0.044407,
     "end_time": "2022-09-07T10:17:03.955517",
     "exception": false,
     "start_time": "2022-09-07T10:17:03.911110",
     "status": "completed"
    },
    "tags": []
   },
   "outputs": [],
   "source": [
    "lr_learner = Learner(loss, model_lr, opt, config.num_epochs)\n",
    "acc_lr = ClfCallback(lr_learner, config.bs, training_data_x , testing_data_x, training_data_y, testing_data_y)\n",
    "lr_learner.set_callbacks([acc_lr])"
   ]
  },
  {
   "cell_type": "code",
   "execution_count": 22,
   "id": "d9b133c3",
   "metadata": {
    "execution": {
     "iopub.execute_input": "2022-09-07T10:17:04.012733Z",
     "iopub.status.busy": "2022-09-07T10:17:04.012112Z",
     "iopub.status.idle": "2022-09-07T10:18:25.823490Z",
     "shell.execute_reply": "2022-09-07T10:18:25.824146Z"
    },
    "papermill": {
     "duration": 81.842675,
     "end_time": "2022-09-07T10:18:25.824318",
     "exception": false,
     "start_time": "2022-09-07T10:17:03.981643",
     "status": "completed"
    },
    "tags": []
   },
   "outputs": [
    {
     "name": "stdout",
     "output_type": "stream",
     "text": [
      "Epoch 0, Loss 0.2431\n",
      "Training Accuracy: 0.6601, Testing Accuracy: 0.6966\n",
      "\n"
     ]
    },
    {
     "name": "stdout",
     "output_type": "stream",
     "text": [
      "Epoch 10, Loss 0.0901\n",
      "Training Accuracy: 0.9185, Testing Accuracy: 0.9320\n",
      "\n"
     ]
    },
    {
     "name": "stdout",
     "output_type": "stream",
     "text": [
      "Epoch 20, Loss 0.0557\n",
      "Training Accuracy: 0.9421, Testing Accuracy: 0.9521\n",
      "\n"
     ]
    },
    {
     "name": "stdout",
     "output_type": "stream",
     "text": [
      "Epoch 30, Loss 0.0438\n",
      "Training Accuracy: 0.9523, Testing Accuracy: 0.9587\n",
      "\n"
     ]
    },
    {
     "name": "stdout",
     "output_type": "stream",
     "text": [
      "Epoch 40, Loss 0.0381\n",
      "Training Accuracy: 0.9584, Testing Accuracy: 0.9642\n",
      "\n"
     ]
    },
    {
     "name": "stdout",
     "output_type": "stream",
     "text": [
      "Epoch 50, Loss 0.0346\n",
      "Training Accuracy: 0.9621, Testing Accuracy: 0.9647\n",
      "\n"
     ]
    },
    {
     "name": "stdout",
     "output_type": "stream",
     "text": [
      "Epoch 60, Loss 0.0323\n",
      "Training Accuracy: 0.9639, Testing Accuracy: 0.9657\n",
      "\n"
     ]
    },
    {
     "name": "stdout",
     "output_type": "stream",
     "text": [
      "Epoch 70, Loss 0.0305\n",
      "Training Accuracy: 0.9657, Testing Accuracy: 0.9662\n",
      "\n"
     ]
    },
    {
     "name": "stdout",
     "output_type": "stream",
     "text": [
      "Epoch 80, Loss 0.0291\n",
      "Training Accuracy: 0.9664, Testing Accuracy: 0.9667\n",
      "\n"
     ]
    },
    {
     "name": "stdout",
     "output_type": "stream",
     "text": [
      "Epoch 90, Loss 0.028\n",
      "Training Accuracy: 0.9677, Testing Accuracy: 0.9688\n",
      "\n"
     ]
    },
    {
     "name": "stdout",
     "output_type": "stream",
     "text": [
      "Epoch 100, Loss 0.027\n",
      "Training Accuracy: 0.9685, Testing Accuracy: 0.9698\n",
      "\n"
     ]
    },
    {
     "name": "stdout",
     "output_type": "stream",
     "text": [
      "Epoch 110, Loss 0.0261\n",
      "Training Accuracy: 0.9695, Testing Accuracy: 0.9703\n",
      "\n"
     ]
    },
    {
     "name": "stdout",
     "output_type": "stream",
     "text": [
      "Epoch 120, Loss 0.0254\n",
      "Training Accuracy: 0.9705, Testing Accuracy: 0.9698\n",
      "\n"
     ]
    },
    {
     "name": "stdout",
     "output_type": "stream",
     "text": [
      "Epoch 130, Loss 0.0247\n",
      "Training Accuracy: 0.9714, Testing Accuracy: 0.9723\n",
      "\n"
     ]
    },
    {
     "name": "stdout",
     "output_type": "stream",
     "text": [
      "Epoch 140, Loss 0.024\n",
      "Training Accuracy: 0.9725, Testing Accuracy: 0.9718\n",
      "\n"
     ]
    },
    {
     "name": "stdout",
     "output_type": "stream",
     "text": [
      "Epoch 150, Loss 0.0235\n",
      "Training Accuracy: 0.9728, Testing Accuracy: 0.9723\n",
      "\n"
     ]
    },
    {
     "name": "stdout",
     "output_type": "stream",
     "text": [
      "Epoch 160, Loss 0.0229\n",
      "Training Accuracy: 0.9730, Testing Accuracy: 0.9723\n",
      "\n"
     ]
    },
    {
     "name": "stdout",
     "output_type": "stream",
     "text": [
      "Epoch 170, Loss 0.0224\n",
      "Training Accuracy: 0.9738, Testing Accuracy: 0.9728\n",
      "\n"
     ]
    },
    {
     "name": "stdout",
     "output_type": "stream",
     "text": [
      "Epoch 180, Loss 0.0219\n",
      "Training Accuracy: 0.9746, Testing Accuracy: 0.9733\n",
      "\n"
     ]
    },
    {
     "name": "stdout",
     "output_type": "stream",
     "text": [
      "Epoch 190, Loss 0.0214\n",
      "Training Accuracy: 0.9755, Testing Accuracy: 0.9733\n",
      "\n"
     ]
    },
    {
     "name": "stdout",
     "output_type": "stream",
     "text": [
      "Epoch 200, Loss 0.021\n",
      "Training Accuracy: 0.9760, Testing Accuracy: 0.9728\n",
      "\n"
     ]
    },
    {
     "name": "stdout",
     "output_type": "stream",
     "text": [
      "Epoch 210, Loss 0.0206\n",
      "Training Accuracy: 0.9765, Testing Accuracy: 0.9723\n",
      "\n"
     ]
    },
    {
     "name": "stdout",
     "output_type": "stream",
     "text": [
      "Epoch 220, Loss 0.0202\n",
      "Training Accuracy: 0.9770, Testing Accuracy: 0.9733\n",
      "\n"
     ]
    },
    {
     "name": "stdout",
     "output_type": "stream",
     "text": [
      "Epoch 230, Loss 0.0198\n",
      "Training Accuracy: 0.9776, Testing Accuracy: 0.9728\n",
      "\n"
     ]
    },
    {
     "name": "stdout",
     "output_type": "stream",
     "text": [
      "Epoch 240, Loss 0.0194\n",
      "Training Accuracy: 0.9784, Testing Accuracy: 0.9728\n",
      "\n"
     ]
    },
    {
     "data": {
      "text/plain": [
       "0.05979118574085597"
      ]
     },
     "execution_count": 22,
     "metadata": {},
     "output_type": "execute_result"
    }
   ],
   "source": [
    "nn_learner.train_loop(dl)"
   ]
  },
  {
   "cell_type": "code",
   "execution_count": 23,
   "id": "e0163366",
   "metadata": {
    "execution": {
     "iopub.execute_input": "2022-09-07T10:18:25.910459Z",
     "iopub.status.busy": "2022-09-07T10:18:25.909888Z",
     "iopub.status.idle": "2022-09-07T10:18:40.130133Z",
     "shell.execute_reply": "2022-09-07T10:18:40.131079Z"
    },
    "papermill": {
     "duration": 14.269101,
     "end_time": "2022-09-07T10:18:40.131247",
     "exception": false,
     "start_time": "2022-09-07T10:18:25.862146",
     "status": "completed"
    },
    "tags": []
   },
   "outputs": [
    {
     "name": "stdout",
     "output_type": "stream",
     "text": [
      "Epoch 0, Loss 0.216\n",
      "Training Accuracy: 0.7650, Testing Accuracy: 0.7903\n",
      "\n"
     ]
    },
    {
     "name": "stdout",
     "output_type": "stream",
     "text": [
      "Epoch 10, Loss 0.1014\n",
      "Training Accuracy: 0.9056, Testing Accuracy: 0.9153\n",
      "\n"
     ]
    },
    {
     "name": "stdout",
     "output_type": "stream",
     "text": [
      "Epoch 20, Loss 0.0794\n",
      "Training Accuracy: 0.9240, Testing Accuracy: 0.9345\n",
      "\n"
     ]
    },
    {
     "name": "stdout",
     "output_type": "stream",
     "text": [
      "Epoch 30, Loss 0.0689\n",
      "Training Accuracy: 0.9337, Testing Accuracy: 0.9466\n",
      "\n"
     ]
    },
    {
     "name": "stdout",
     "output_type": "stream",
     "text": [
      "Epoch 40, Loss 0.0624\n",
      "Training Accuracy: 0.9387, Testing Accuracy: 0.9491\n",
      "\n"
     ]
    },
    {
     "name": "stdout",
     "output_type": "stream",
     "text": [
      "Epoch 50, Loss 0.0579\n",
      "Training Accuracy: 0.9432, Testing Accuracy: 0.9536\n",
      "\n"
     ]
    },
    {
     "name": "stdout",
     "output_type": "stream",
     "text": [
      "Epoch 60, Loss 0.0546\n",
      "Training Accuracy: 0.9457, Testing Accuracy: 0.9567\n",
      "\n"
     ]
    },
    {
     "name": "stdout",
     "output_type": "stream",
     "text": [
      "Epoch 70, Loss 0.052\n",
      "Training Accuracy: 0.9483, Testing Accuracy: 0.9577\n",
      "\n"
     ]
    },
    {
     "name": "stdout",
     "output_type": "stream",
     "text": [
      "Epoch 80, Loss 0.0499\n",
      "Training Accuracy: 0.9504, Testing Accuracy: 0.9592\n",
      "\n"
     ]
    },
    {
     "name": "stdout",
     "output_type": "stream",
     "text": [
      "Epoch 90, Loss 0.0482\n",
      "Training Accuracy: 0.9518, Testing Accuracy: 0.9602\n",
      "\n"
     ]
    },
    {
     "name": "stdout",
     "output_type": "stream",
     "text": [
      "Epoch 100, Loss 0.0467\n",
      "Training Accuracy: 0.9527, Testing Accuracy: 0.9607\n",
      "\n"
     ]
    },
    {
     "name": "stdout",
     "output_type": "stream",
     "text": [
      "Epoch 110, Loss 0.0455\n",
      "Training Accuracy: 0.9535, Testing Accuracy: 0.9612\n",
      "\n"
     ]
    },
    {
     "name": "stdout",
     "output_type": "stream",
     "text": [
      "Epoch 120, Loss 0.0444\n",
      "Training Accuracy: 0.9541, Testing Accuracy: 0.9617\n",
      "\n"
     ]
    },
    {
     "name": "stdout",
     "output_type": "stream",
     "text": [
      "Epoch 130, Loss 0.0434\n",
      "Training Accuracy: 0.9553, Testing Accuracy: 0.9627\n",
      "\n"
     ]
    },
    {
     "name": "stdout",
     "output_type": "stream",
     "text": [
      "Epoch 140, Loss 0.0425\n",
      "Training Accuracy: 0.9556, Testing Accuracy: 0.9637\n",
      "\n"
     ]
    },
    {
     "name": "stdout",
     "output_type": "stream",
     "text": [
      "Epoch 150, Loss 0.0418\n",
      "Training Accuracy: 0.9562, Testing Accuracy: 0.9637\n",
      "\n"
     ]
    },
    {
     "name": "stdout",
     "output_type": "stream",
     "text": [
      "Epoch 160, Loss 0.0411\n",
      "Training Accuracy: 0.9568, Testing Accuracy: 0.9647\n",
      "\n"
     ]
    },
    {
     "name": "stdout",
     "output_type": "stream",
     "text": [
      "Epoch 170, Loss 0.0404\n",
      "Training Accuracy: 0.9574, Testing Accuracy: 0.9647\n",
      "\n"
     ]
    },
    {
     "name": "stdout",
     "output_type": "stream",
     "text": [
      "Epoch 180, Loss 0.0399\n",
      "Training Accuracy: 0.9584, Testing Accuracy: 0.9657\n",
      "\n"
     ]
    },
    {
     "name": "stdout",
     "output_type": "stream",
     "text": [
      "Epoch 190, Loss 0.0393\n",
      "Training Accuracy: 0.9588, Testing Accuracy: 0.9667\n",
      "\n"
     ]
    },
    {
     "name": "stdout",
     "output_type": "stream",
     "text": [
      "Epoch 200, Loss 0.0388\n",
      "Training Accuracy: 0.9589, Testing Accuracy: 0.9667\n",
      "\n"
     ]
    },
    {
     "name": "stdout",
     "output_type": "stream",
     "text": [
      "Epoch 210, Loss 0.0384\n",
      "Training Accuracy: 0.9593, Testing Accuracy: 0.9667\n",
      "\n"
     ]
    },
    {
     "name": "stdout",
     "output_type": "stream",
     "text": [
      "Epoch 220, Loss 0.038\n",
      "Training Accuracy: 0.9598, Testing Accuracy: 0.9667\n",
      "\n"
     ]
    },
    {
     "name": "stdout",
     "output_type": "stream",
     "text": [
      "Epoch 230, Loss 0.0376\n",
      "Training Accuracy: 0.9599, Testing Accuracy: 0.9662\n",
      "\n"
     ]
    },
    {
     "name": "stdout",
     "output_type": "stream",
     "text": [
      "Epoch 240, Loss 0.0372\n",
      "Training Accuracy: 0.9604, Testing Accuracy: 0.9657\n",
      "\n"
     ]
    },
    {
     "data": {
      "text/plain": [
       "0.03802670451719194"
      ]
     },
     "execution_count": 23,
     "metadata": {},
     "output_type": "execute_result"
    }
   ],
   "source": [
    "lr_learner.train_loop(dl)"
   ]
  },
  {
   "cell_type": "code",
   "execution_count": 24,
   "id": "ca410940",
   "metadata": {
    "execution": {
     "iopub.execute_input": "2022-09-07T10:18:40.234992Z",
     "iopub.status.busy": "2022-09-07T10:18:40.234344Z",
     "iopub.status.idle": "2022-09-07T10:18:40.464572Z",
     "shell.execute_reply": "2022-09-07T10:18:40.463620Z"
    },
    "papermill": {
     "duration": 0.281804,
     "end_time": "2022-09-07T10:18:40.464712",
     "exception": false,
     "start_time": "2022-09-07T10:18:40.182908",
     "status": "completed"
    },
    "tags": []
   },
   "outputs": [
    {
     "data": {
      "text/plain": [
       "<matplotlib.legend.Legend at 0x7fd1e10f4fd0>"
      ]
     },
     "execution_count": 24,
     "metadata": {},
     "output_type": "execute_result"
    },
    {
     "data": {
      "image/png": "[encoded data removed]",
      "text/plain": [
       "<Figure size 1080x720 with 1 Axes>"
      ]
     },
     "metadata": {
      "needs_background": "light"
     },
     "output_type": "display_data"
    }
   ],
   "source": [
    "#comparing the results of NN and LR\n",
    "plt.figure(figsize=(15,10))\n",
    "\n",
    "# Neural Network plots\n",
    "plt.plot(acc_nn.accuracies, 'r-', label = \"Training Accuracies - NN\")\n",
    "plt.plot(acc_nn.test_accuracies, 'g-', label = \"Testing Accuracies - NN\")\n",
    "\n",
    "# Logistic Regression plots\n",
    "plt.plot(acc_lr.accuracies, 'k-', label = \"Training Accuracies - LR\")\n",
    "plt.plot(acc_lr.test_accuracies, 'b-', label = \"Testing Accuracies - LR\")\n",
    "plt.legend()"
   ]
  },
  {
   "cell_type": "markdown",
   "id": "80dfb35c",
   "metadata": {
    "papermill": {
     "duration": 0.046562,
     "end_time": "2022-09-07T10:18:40.553516",
     "exception": false,
     "start_time": "2022-09-07T10:18:40.506954",
     "status": "completed"
    },
    "tags": []
   },
   "source": [
    "#### Plotting the outputs of this layer of the NN.\n"
   ]
  },
  {
   "cell_type": "code",
   "execution_count": 25,
   "id": "45eb2ff5",
   "metadata": {
    "execution": {
     "iopub.execute_input": "2022-09-07T10:18:40.639955Z",
     "iopub.status.busy": "2022-09-07T10:18:40.639454Z",
     "iopub.status.idle": "2022-09-07T10:18:40.662569Z",
     "shell.execute_reply": "2022-09-07T10:18:40.663472Z"
    },
    "papermill": {
     "duration": 0.067521,
     "end_time": "2022-09-07T10:18:40.663644",
     "exception": false,
     "start_time": "2022-09-07T10:18:40.596123",
     "status": "completed"
    },
    "tags": []
   },
   "outputs": [],
   "source": [
    "new_model = Model(layers[:-2])\n",
    "testing_plot = new_model(testing_data_x)"
   ]
  },
  {
   "cell_type": "code",
   "execution_count": 26,
   "id": "4c0a5485",
   "metadata": {
    "execution": {
     "iopub.execute_input": "2022-09-07T10:18:40.762393Z",
     "iopub.status.busy": "2022-09-07T10:18:40.761756Z",
     "iopub.status.idle": "2022-09-07T10:18:40.970807Z",
     "shell.execute_reply": "2022-09-07T10:18:40.970328Z"
    },
    "papermill": {
     "duration": 0.264574,
     "end_time": "2022-09-07T10:18:40.970926",
     "exception": false,
     "start_time": "2022-09-07T10:18:40.706352",
     "status": "completed"
    },
    "tags": []
   },
   "outputs": [
    {
     "data": {
      "text/plain": [
       "Text(0.5, 1.0, 'Outputs')"
      ]
     },
     "execution_count": 26,
     "metadata": {},
     "output_type": "execute_result"
    },
    {
     "data": {
      "image/png": "[encoded data removed]",
      "text/plain": [
       "<Figure size 576x504 with 1 Axes>"
      ]
     },
     "metadata": {
      "needs_background": "light"
     },
     "output_type": "display_data"
    }
   ],
   "source": [
    "# Plotting the scatter plot of points and color coding by class\n",
    "plt.figure(figsize=(8,7))\n",
    "plt.scatter(testing_plot[:,0], testing_plot[:,1], alpha = 0.1, c = y_test.ravel());\n",
    "plt.title('Outputs')"
   ]
  },
  {
   "cell_type": "markdown",
   "id": "a74fcf8f",
   "metadata": {
    "papermill": {
     "duration": 0.04072,
     "end_time": "2022-09-07T10:18:41.054485",
     "exception": false,
     "start_time": "2022-09-07T10:18:41.013765",
     "status": "completed"
    },
    "tags": []
   },
   "source": [
    "Probability contours"
   ]
  },
  {
   "cell_type": "code",
   "execution_count": 27,
   "id": "d0afc8e3",
   "metadata": {
    "execution": {
     "iopub.execute_input": "2022-09-07T10:18:41.178905Z",
     "iopub.status.busy": "2022-09-07T10:18:41.174127Z",
     "iopub.status.idle": "2022-09-07T10:18:41.186325Z",
     "shell.execute_reply": "2022-09-07T10:18:41.186769Z"
    },
    "papermill": {
     "duration": 0.062423,
     "end_time": "2022-09-07T10:18:41.186894",
     "exception": false,
     "start_time": "2022-09-07T10:18:41.124471",
     "status": "completed"
    },
    "tags": []
   },
   "outputs": [],
   "source": [
    "model_prob = Model(layers[-2:]) "
   ]
  },
  {
   "cell_type": "code",
   "execution_count": 28,
   "id": "9b96e238",
   "metadata": {
    "execution": {
     "iopub.execute_input": "2022-09-07T10:18:41.278517Z",
     "iopub.status.busy": "2022-09-07T10:18:41.278023Z",
     "iopub.status.idle": "2022-09-07T10:18:41.295614Z",
     "shell.execute_reply": "2022-09-07T10:18:41.295965Z"
    },
    "papermill": {
     "duration": 0.064522,
     "end_time": "2022-09-07T10:18:41.296075",
     "exception": false,
     "start_time": "2022-09-07T10:18:41.231553",
     "status": "completed"
    },
    "tags": []
   },
   "outputs": [],
   "source": [
    "#creating the x and y ranges according to the above generated plot.\n",
    "x_range = np.linspace(-4, 1, 100) \n",
    "y_range = np.linspace(-6, 6, 100) \n",
    "x_grid, y_grid = np.meshgrid(x_range, y_range) # x_grid and y_grig are of size 100 X 100\n",
    "\n",
    "# converting x_grid and y_grid to continuous arrays\n",
    "x_gridflat = np.ravel(x_grid)\n",
    "y_gridflat = np.ravel(y_grid)\n",
    "\n",
    "# The last layer of the current model takes two columns as input. Hence transpose of np.vstack() is required.\n",
    "X = np.vstack((x_gridflat, y_gridflat)).T\n",
    "\n",
    "prob_contour = model_prob(X).reshape(100,100) "
   ]
  },
  {
   "cell_type": "code",
   "execution_count": 29,
   "id": "da72499a",
   "metadata": {
    "execution": {
     "iopub.execute_input": "2022-09-07T10:18:41.396447Z",
     "iopub.status.busy": "2022-09-07T10:18:41.393851Z",
     "iopub.status.idle": "2022-09-07T10:18:41.655988Z",
     "shell.execute_reply": "2022-09-07T10:18:41.654933Z"
    },
    "papermill": {
     "duration": 0.313539,
     "end_time": "2022-09-07T10:18:41.656142",
     "exception": false,
     "start_time": "2022-09-07T10:18:41.342603",
     "status": "completed"
    },
    "tags": []
   },
   "outputs": [
    {
     "data": {
      "image/png": "[encoded data removed]",
      "text/plain": [
       "<Figure size 720x648 with 1 Axes>"
      ]
     },
     "metadata": {
      "needs_background": "light"
     },
     "output_type": "display_data"
    }
   ],
   "source": [
    "plt.figure(figsize=(10,9))\n",
    "plt.scatter(testing_plot[:,0], testing_plot[:,1], alpha = 0.1, c = y_test.ravel())\n",
    "contours = plt.contour(x_grid,y_grid,prob_contour)\n",
    "plt.title('Probability Contours')\n",
    "plt.clabel(contours, inline = True );"
   ]
  },
  {
   "cell_type": "code",
   "execution_count": null,
   "id": "e81b4ac7",
   "metadata": {
    "papermill": {
     "duration": 0.047988,
     "end_time": "2022-09-07T10:18:41.751880",
     "exception": false,
     "start_time": "2022-09-07T10:18:41.703892",
     "status": "completed"
    },
    "tags": []
   },
   "outputs": [],
   "source": []
  }
 ],
 "metadata": {
  "kernelspec": {
   "display_name": "Python 3",
   "language": "python",
   "name": "python3"
  },
  "language_info": {
   "codemirror_mode": {
    "name": "ipython",
    "version": 3
   },
   "file_extension": ".py",
   "mimetype": "text/x-python",
   "name": "python",
   "nbconvert_exporter": "python",
   "pygments_lexer": "ipython3",
   "version": "3.6.15"
  },
  "papermill": {
   "default_parameters": {},
   "duration": 105.604473,
   "end_time": "2022-09-07T10:18:42.216886",
   "environment_variables": {},
   "exception": null,
   "input_path": "2020-08-11-part2.ipynb",
   "output_path": "2020-08-11-part2.ipynb",
   "parameters": {},
   "start_time": "2022-09-07T10:16:56.612413",
   "version": "2.3.3"
  }
 },
 "nbformat": 4,
 "nbformat_minor": 5
}