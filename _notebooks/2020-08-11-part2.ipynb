{
 "cells": [
  {
   "cell_type": "markdown",
   "id": "98380cd3",
   "metadata": {
    "papermill": {
     "duration": 0.027546,
     "end_time": "2021-09-08T00:17:58.486899",
     "exception": false,
     "start_time": "2021-09-08T00:17:58.459353",
     "status": "completed"
    },
    "tags": []
   },
   "source": [
    "# Distinguish Your Own Digits (DYOD)"
   ]
  },
  {
   "cell_type": "markdown",
   "id": "ef31240d",
   "metadata": {
    "papermill": {
     "duration": 0.023388,
     "end_time": "2021-09-08T00:17:58.534496",
     "exception": false,
     "start_time": "2021-09-08T00:17:58.511108",
     "status": "completed"
    },
    "tags": []
   },
   "source": [
    "You are going to write a classifier that distinguishes between the number 3 and number 8."
   ]
  },
  {
   "cell_type": "code",
   "execution_count": 1,
   "id": "b15c8646",
   "metadata": {
    "execution": {
     "iopub.execute_input": "2021-09-08T00:17:58.591025Z",
     "iopub.status.busy": "2021-09-08T00:17:58.590516Z",
     "iopub.status.idle": "2021-09-08T00:17:58.599608Z",
     "shell.execute_reply": "2021-09-08T00:17:58.599991Z"
    },
    "papermill": {
     "duration": 0.042286,
     "end_time": "2021-09-08T00:17:58.600127",
     "exception": false,
     "start_time": "2021-09-08T00:17:58.557841",
     "status": "completed"
    },
    "tags": []
   },
   "outputs": [],
   "source": [
    "%load_ext autoreload\n",
    "%autoreload 2"
   ]
  },
  {
   "cell_type": "code",
   "execution_count": 2,
   "id": "22ef38dc",
   "metadata": {
    "execution": {
     "iopub.execute_input": "2021-09-08T00:17:58.655536Z",
     "iopub.status.busy": "2021-09-08T00:17:58.655034Z",
     "iopub.status.idle": "2021-09-08T00:17:59.132172Z",
     "shell.execute_reply": "2021-09-08T00:17:59.131645Z"
    },
    "papermill": {
     "duration": 0.50868,
     "end_time": "2021-09-08T00:17:59.132306",
     "exception": false,
     "start_time": "2021-09-08T00:17:58.623626",
     "status": "completed"
    },
    "tags": []
   },
   "outputs": [],
   "source": [
    "%matplotlib inline\n",
    "import numpy as np\n",
    "import matplotlib.pyplot as plt\n",
    "import pandas as pd"
   ]
  },
  {
   "cell_type": "markdown",
   "id": "ba036198",
   "metadata": {
    "papermill": {
     "duration": 0.024457,
     "end_time": "2021-09-08T00:17:59.181628",
     "exception": false,
     "start_time": "2021-09-08T00:17:59.157171",
     "status": "completed"
    },
    "tags": []
   },
   "source": [
    "From the command line run `pip install mnist`. This is a library that will help you bring down the mnist dataset. If you run this from a notebook, you need to put  `!pip install mnist` in a cell by itself."
   ]
  },
  {
   "cell_type": "code",
   "execution_count": 3,
   "id": "bb6ad8a1",
   "metadata": {
    "execution": {
     "iopub.execute_input": "2021-09-08T00:17:59.233841Z",
     "iopub.status.busy": "2021-09-08T00:17:59.233344Z",
     "iopub.status.idle": "2021-09-08T00:18:00.936824Z",
     "shell.execute_reply": "2021-09-08T00:18:00.936314Z"
    },
    "papermill": {
     "duration": 1.731754,
     "end_time": "2021-09-08T00:18:00.936960",
     "exception": false,
     "start_time": "2021-09-08T00:17:59.205206",
     "status": "completed"
    },
    "tags": []
   },
   "outputs": [
    {
     "name": "stdout",
     "output_type": "stream",
     "text": [
      "Collecting mnist\r\n"
     ]
    },
    {
     "name": "stdout",
     "output_type": "stream",
     "text": [
      "  Downloading mnist-0.2.2-py2.py3-none-any.whl (3.5 kB)\r\n",
      "Requirement already satisfied: numpy in /opt/hostedtoolcache/Python/3.6.14/x64/lib/python3.6/site-packages (from mnist) (1.19.5)\r\n"
     ]
    },
    {
     "name": "stdout",
     "output_type": "stream",
     "text": [
      "Installing collected packages: mnist\r\n",
      "Successfully installed mnist-0.2.2\r\n"
     ]
    }
   ],
   "source": [
    "!pip install mnist"
   ]
  },
  {
   "cell_type": "markdown",
   "id": "69df9c9a",
   "metadata": {
    "papermill": {
     "duration": 0.024827,
     "end_time": "2021-09-08T00:18:00.987072",
     "exception": false,
     "start_time": "2021-09-08T00:18:00.962245",
     "status": "completed"
    },
    "tags": []
   },
   "source": [
    "## Preparing the Data"
   ]
  },
  {
   "cell_type": "code",
   "execution_count": 4,
   "id": "7f69d806",
   "metadata": {
    "execution": {
     "iopub.execute_input": "2021-09-08T00:18:01.054178Z",
     "iopub.status.busy": "2021-09-08T00:18:01.051026Z",
     "iopub.status.idle": "2021-09-08T00:18:01.056346Z",
     "shell.execute_reply": "2021-09-08T00:18:01.055916Z"
    },
    "papermill": {
     "duration": 0.044884,
     "end_time": "2021-09-08T00:18:01.056447",
     "exception": false,
     "start_time": "2021-09-08T00:18:01.011563",
     "status": "completed"
    },
    "tags": []
   },
   "outputs": [],
   "source": [
    "import mnist"
   ]
  },
  {
   "cell_type": "code",
   "execution_count": 5,
   "id": "a411e44f",
   "metadata": {
    "execution": {
     "iopub.execute_input": "2021-09-08T00:18:01.120458Z",
     "iopub.status.busy": "2021-09-08T00:18:01.113067Z",
     "iopub.status.idle": "2021-09-08T00:18:01.701010Z",
     "shell.execute_reply": "2021-09-08T00:18:01.700567Z"
    },
    "papermill": {
     "duration": 0.620299,
     "end_time": "2021-09-08T00:18:01.701132",
     "exception": false,
     "start_time": "2021-09-08T00:18:01.080833",
     "status": "completed"
    },
    "tags": []
   },
   "outputs": [],
   "source": [
    "train_images = mnist.train_images()\n",
    "train_labels = mnist.train_labels()"
   ]
  },
  {
   "cell_type": "code",
   "execution_count": 6,
   "id": "dceab3a5",
   "metadata": {
    "execution": {
     "iopub.execute_input": "2021-09-08T00:18:01.760829Z",
     "iopub.status.busy": "2021-09-08T00:18:01.759768Z",
     "iopub.status.idle": "2021-09-08T00:18:01.769854Z",
     "shell.execute_reply": "2021-09-08T00:18:01.769435Z"
    },
    "papermill": {
     "duration": 0.043519,
     "end_time": "2021-09-08T00:18:01.769956",
     "exception": false,
     "start_time": "2021-09-08T00:18:01.726437",
     "status": "completed"
    },
    "tags": []
   },
   "outputs": [
    {
     "data": {
      "text/plain": [
       "((60000, 28, 28), (60000,))"
      ]
     },
     "execution_count": 6,
     "metadata": {},
     "output_type": "execute_result"
    }
   ],
   "source": [
    "train_images.shape, train_labels.shape"
   ]
  },
  {
   "cell_type": "code",
   "execution_count": 7,
   "id": "f50dc2bb",
   "metadata": {
    "execution": {
     "iopub.execute_input": "2021-09-08T00:18:01.831792Z",
     "iopub.status.busy": "2021-09-08T00:18:01.831016Z",
     "iopub.status.idle": "2021-09-08T00:18:02.082678Z",
     "shell.execute_reply": "2021-09-08T00:18:02.081741Z"
    },
    "papermill": {
     "duration": 0.288226,
     "end_time": "2021-09-08T00:18:02.082817",
     "exception": false,
     "start_time": "2021-09-08T00:18:01.794591",
     "status": "completed"
    },
    "tags": []
   },
   "outputs": [],
   "source": [
    "test_images = mnist.test_images()\n",
    "test_labels = mnist.test_labels()"
   ]
  },
  {
   "cell_type": "code",
   "execution_count": 8,
   "id": "fc38cf1b",
   "metadata": {
    "execution": {
     "iopub.execute_input": "2021-09-08T00:18:02.139133Z",
     "iopub.status.busy": "2021-09-08T00:18:02.136355Z",
     "iopub.status.idle": "2021-09-08T00:18:02.147571Z",
     "shell.execute_reply": "2021-09-08T00:18:02.147171Z"
    },
    "papermill": {
     "duration": 0.039809,
     "end_time": "2021-09-08T00:18:02.147677",
     "exception": false,
     "start_time": "2021-09-08T00:18:02.107868",
     "status": "completed"
    },
    "tags": []
   },
   "outputs": [
    {
     "data": {
      "text/plain": [
       "((10000, 28, 28), (10000,))"
      ]
     },
     "execution_count": 8,
     "metadata": {},
     "output_type": "execute_result"
    }
   ],
   "source": [
    "test_images.shape, test_labels.shape"
   ]
  },
  {
   "cell_type": "code",
   "execution_count": 9,
   "id": "f9ed8fe0",
   "metadata": {
    "execution": {
     "iopub.execute_input": "2021-09-08T00:18:02.206449Z",
     "iopub.status.busy": "2021-09-08T00:18:02.205915Z",
     "iopub.status.idle": "2021-09-08T00:18:02.348630Z",
     "shell.execute_reply": "2021-09-08T00:18:02.349095Z"
    },
    "papermill": {
     "duration": 0.176546,
     "end_time": "2021-09-08T00:18:02.349234",
     "exception": false,
     "start_time": "2021-09-08T00:18:02.172688",
     "status": "completed"
    },
    "tags": []
   },
   "outputs": [
    {
     "name": "stdout",
     "output_type": "stream",
     "text": [
      "2\n"
     ]
    },
    {
     "data": {
      "text/plain": [
       "<matplotlib.image.AxesImage at 0x7f2475898d30>"
      ]
     },
     "execution_count": 9,
     "metadata": {},
     "output_type": "execute_result"
    },
    {
     "data": {
      "image/png": "[encoded data removed]",
      "text/plain": [
       "<Figure size 432x288 with 1 Axes>"
      ]
     },
     "metadata": {
      "needs_background": "light"
     },
     "output_type": "display_data"
    }
   ],
   "source": [
    "image_index = 7776 # You may select anything up to 60,000\n",
    "print(train_labels[image_index]) \n",
    "plt.imshow(train_images[image_index], cmap='Greys')"
   ]
  },
  {
   "cell_type": "markdown",
   "id": "a8d2388d",
   "metadata": {
    "papermill": {
     "duration": 0.026226,
     "end_time": "2021-09-08T00:18:02.402453",
     "exception": false,
     "start_time": "2021-09-08T00:18:02.376227",
     "status": "completed"
    },
    "tags": []
   },
   "source": [
    "## Filter data to get 3 and 8 out"
   ]
  },
  {
   "cell_type": "code",
   "execution_count": 10,
   "id": "776f7fc7",
   "metadata": {
    "execution": {
     "iopub.execute_input": "2021-09-08T00:18:02.457701Z",
     "iopub.status.busy": "2021-09-08T00:18:02.457200Z",
     "iopub.status.idle": "2021-09-08T00:18:02.473956Z",
     "shell.execute_reply": "2021-09-08T00:18:02.474366Z"
    },
    "papermill": {
     "duration": 0.046193,
     "end_time": "2021-09-08T00:18:02.474486",
     "exception": false,
     "start_time": "2021-09-08T00:18:02.428293",
     "status": "completed"
    },
    "tags": []
   },
   "outputs": [],
   "source": [
    "train_filter = np.where((train_labels == 3 ) | (train_labels == 8))\n",
    "test_filter = np.where((test_labels == 3) | (test_labels == 8))\n",
    "X_train, y_train = train_images[train_filter], train_labels[train_filter]\n",
    "X_test, y_test = test_images[test_filter], test_labels[test_filter]"
   ]
  },
  {
   "cell_type": "markdown",
   "id": "948f0b7e",
   "metadata": {
    "papermill": {
     "duration": 0.025754,
     "end_time": "2021-09-08T00:18:02.526064",
     "exception": false,
     "start_time": "2021-09-08T00:18:02.500310",
     "status": "completed"
    },
    "tags": []
   },
   "source": [
    "We normalize the pizel values in the 0 to 1 range"
   ]
  },
  {
   "cell_type": "code",
   "execution_count": 11,
   "id": "ee4c2166",
   "metadata": {
    "execution": {
     "iopub.execute_input": "2021-09-08T00:18:02.581219Z",
     "iopub.status.busy": "2021-09-08T00:18:02.580722Z",
     "iopub.status.idle": "2021-09-08T00:18:02.626257Z",
     "shell.execute_reply": "2021-09-08T00:18:02.625709Z"
    },
    "papermill": {
     "duration": 0.074583,
     "end_time": "2021-09-08T00:18:02.626387",
     "exception": false,
     "start_time": "2021-09-08T00:18:02.551804",
     "status": "completed"
    },
    "tags": []
   },
   "outputs": [],
   "source": [
    "X_train = X_train/255.\n",
    "X_test = X_test/255."
   ]
  },
  {
   "cell_type": "markdown",
   "id": "ddcf4fab",
   "metadata": {
    "papermill": {
     "duration": 0.025873,
     "end_time": "2021-09-08T00:18:02.678972",
     "exception": false,
     "start_time": "2021-09-08T00:18:02.653099",
     "status": "completed"
    },
    "tags": []
   },
   "source": [
    "And setup the labels as 1 (when the digit is 3) and 0 (when the digit is 8)"
   ]
  },
  {
   "cell_type": "code",
   "execution_count": 12,
   "id": "7dc908f2",
   "metadata": {
    "execution": {
     "iopub.execute_input": "2021-09-08T00:18:02.734107Z",
     "iopub.status.busy": "2021-09-08T00:18:02.733572Z",
     "iopub.status.idle": "2021-09-08T00:18:02.746174Z",
     "shell.execute_reply": "2021-09-08T00:18:02.745749Z"
    },
    "papermill": {
     "duration": 0.041227,
     "end_time": "2021-09-08T00:18:02.746281",
     "exception": false,
     "start_time": "2021-09-08T00:18:02.705054",
     "status": "completed"
    },
    "tags": []
   },
   "outputs": [],
   "source": [
    "y_train = 1*(y_train==3)\n",
    "y_test = 1*(y_test==3)"
   ]
  },
  {
   "cell_type": "code",
   "execution_count": 13,
   "id": "01e4e969",
   "metadata": {
    "execution": {
     "iopub.execute_input": "2021-09-08T00:18:02.800925Z",
     "iopub.status.busy": "2021-09-08T00:18:02.800429Z",
     "iopub.status.idle": "2021-09-08T00:18:02.812051Z",
     "shell.execute_reply": "2021-09-08T00:18:02.812428Z"
    },
    "papermill": {
     "duration": 0.04038,
     "end_time": "2021-09-08T00:18:02.812541",
     "exception": false,
     "start_time": "2021-09-08T00:18:02.772161",
     "status": "completed"
    },
    "tags": []
   },
   "outputs": [
    {
     "data": {
      "text/plain": [
       "((11982, 28, 28), (1984, 28, 28))"
      ]
     },
     "execution_count": 13,
     "metadata": {},
     "output_type": "execute_result"
    }
   ],
   "source": [
    "X_train.shape, X_test.shape"
   ]
  },
  {
   "cell_type": "markdown",
   "id": "5ccf3f85",
   "metadata": {
    "papermill": {
     "duration": 0.025989,
     "end_time": "2021-09-08T00:18:02.864488",
     "exception": false,
     "start_time": "2021-09-08T00:18:02.838499",
     "status": "completed"
    },
    "tags": []
   },
   "source": [
    "We reshape the data to flatten the image pixels into a set of features or co-variates:"
   ]
  },
  {
   "cell_type": "code",
   "execution_count": 14,
   "id": "5286a4a3",
   "metadata": {
    "execution": {
     "iopub.execute_input": "2021-09-08T00:18:02.924543Z",
     "iopub.status.busy": "2021-09-08T00:18:02.924045Z",
     "iopub.status.idle": "2021-09-08T00:18:02.932794Z",
     "shell.execute_reply": "2021-09-08T00:18:02.932368Z"
    },
    "papermill": {
     "duration": 0.042277,
     "end_time": "2021-09-08T00:18:02.932892",
     "exception": false,
     "start_time": "2021-09-08T00:18:02.890615",
     "status": "completed"
    },
    "tags": []
   },
   "outputs": [
    {
     "data": {
      "text/plain": [
       "((11982, 784), (1984, 784))"
      ]
     },
     "execution_count": 14,
     "metadata": {},
     "output_type": "execute_result"
    }
   ],
   "source": [
    "X_train = X_train.reshape(X_train.shape[0], -1)\n",
    "X_test = X_test.reshape(X_test.shape[0], -1)\n",
    "X_train.shape, X_test.shape"
   ]
  },
  {
   "cell_type": "code",
   "execution_count": 15,
   "id": "73c5f88a",
   "metadata": {
    "execution": {
     "iopub.execute_input": "2021-09-08T00:18:02.995356Z",
     "iopub.status.busy": "2021-09-08T00:18:02.994860Z",
     "iopub.status.idle": "2021-09-08T00:18:03.007914Z",
     "shell.execute_reply": "2021-09-08T00:18:03.007516Z"
    },
    "papermill": {
     "duration": 0.048722,
     "end_time": "2021-09-08T00:18:03.008011",
     "exception": false,
     "start_time": "2021-09-08T00:18:02.959289",
     "status": "completed"
    },
    "tags": []
   },
   "outputs": [],
   "source": [
    "#Impoting functions from 'Kudzu'\n",
    "from kudzu.model import Model\n",
    "from kudzu.train import Learner\n",
    "from kudzu.optim import GD\n",
    "from kudzu.data import Data, Sampler,Dataloader\n",
    "\n",
    "from kudzu.callbacks import AccCallback\n",
    "from kudzu.callbacks import ClfCallback\n",
    "\n",
    "from kudzu.loss import MSE\n",
    "\n",
    "from kudzu.layer import Sigmoid,Relu\n",
    "from kudzu.layer import Affine"
   ]
  },
  {
   "cell_type": "markdown",
   "id": "bc01172a",
   "metadata": {
    "papermill": {
     "duration": 0.026286,
     "end_time": "2021-09-08T00:18:03.060737",
     "exception": false,
     "start_time": "2021-09-08T00:18:03.034451",
     "status": "completed"
    },
    "tags": []
   },
   "source": [
    "### Let us create a `Config` class, to store important parameters. \n",
    "This class essentially plays the role of a dictionary."
   ]
  },
  {
   "cell_type": "code",
   "execution_count": 16,
   "id": "978281aa",
   "metadata": {
    "execution": {
     "iopub.execute_input": "2021-09-08T00:18:03.117057Z",
     "iopub.status.busy": "2021-09-08T00:18:03.116551Z",
     "iopub.status.idle": "2021-09-08T00:18:03.127055Z",
     "shell.execute_reply": "2021-09-08T00:18:03.126634Z"
    },
    "papermill": {
     "duration": 0.040088,
     "end_time": "2021-09-08T00:18:03.127153",
     "exception": false,
     "start_time": "2021-09-08T00:18:03.087065",
     "status": "completed"
    },
    "tags": []
   },
   "outputs": [],
   "source": [
    "class Config:\n",
    "    pass\n",
    "config = Config()\n",
    "config.lr = 0.001\n",
    "config.num_epochs = 250\n",
    "config.bs = 50"
   ]
  },
  {
   "cell_type": "markdown",
   "id": "1385fa59",
   "metadata": {
    "papermill": {
     "duration": 0.026344,
     "end_time": "2021-09-08T00:18:03.179919",
     "exception": false,
     "start_time": "2021-09-08T00:18:03.153575",
     "status": "completed"
    },
    "tags": []
   },
   "source": [
    "### Running Models with the Training data\n",
    "Details about the network layers:\n",
    "- A first affine layer has 784 inputs and does 100 affine transforms. These are followed by a Relu\n",
    "- A second affine layer has 100 inputs from the 100 activations of the past layer, and does 100 affine transforms. These are followed by a Relu\n",
    "- A third affine layer has 100 activations and does 2 affine transformations to create an embedding for visualization. There is no non-linearity here.\n",
    "- A final \"logistic regression\" which has an affine transform from 2 inputs to 1 output, which is squeezed through a sigmoid.\n"
   ]
  },
  {
   "cell_type": "code",
   "execution_count": 17,
   "id": "2b9c66db",
   "metadata": {
    "execution": {
     "iopub.execute_input": "2021-09-08T00:18:03.238396Z",
     "iopub.status.busy": "2021-09-08T00:18:03.237872Z",
     "iopub.status.idle": "2021-09-08T00:18:03.248313Z",
     "shell.execute_reply": "2021-09-08T00:18:03.247907Z"
    },
    "papermill": {
     "duration": 0.04202,
     "end_time": "2021-09-08T00:18:03.248414",
     "exception": false,
     "start_time": "2021-09-08T00:18:03.206394",
     "status": "completed"
    },
    "tags": []
   },
   "outputs": [],
   "source": [
    "data = Data(X_train, y_train.reshape(-1,1))\n",
    "sampler = Sampler(data, config.bs, shuffle=True)\n",
    "\n",
    "dl = Dataloader(data, sampler)\n",
    "\n",
    "opt = GD(config.lr)\n",
    "loss = MSE()"
   ]
  },
  {
   "cell_type": "code",
   "execution_count": 18,
   "id": "b275e4c2",
   "metadata": {
    "execution": {
     "iopub.execute_input": "2021-09-08T00:18:03.305270Z",
     "iopub.status.busy": "2021-09-08T00:18:03.304777Z",
     "iopub.status.idle": "2021-09-08T00:18:03.315551Z",
     "shell.execute_reply": "2021-09-08T00:18:03.315151Z"
    },
    "papermill": {
     "duration": 0.040756,
     "end_time": "2021-09-08T00:18:03.315651",
     "exception": false,
     "start_time": "2021-09-08T00:18:03.274895",
     "status": "completed"
    },
    "tags": []
   },
   "outputs": [],
   "source": [
    "training_data_x = X_train\n",
    "testing_data_x = X_test\n",
    "training_data_y = y_train.reshape(-1,1)\n",
    "testing_data_y = y_test.reshape(-1,1)"
   ]
  },
  {
   "cell_type": "code",
   "execution_count": 19,
   "id": "76951160",
   "metadata": {
    "execution": {
     "iopub.execute_input": "2021-09-08T00:18:03.371987Z",
     "iopub.status.busy": "2021-09-08T00:18:03.371224Z",
     "iopub.status.idle": "2021-09-08T00:18:03.386319Z",
     "shell.execute_reply": "2021-09-08T00:18:03.386703Z"
    },
    "papermill": {
     "duration": 0.044847,
     "end_time": "2021-09-08T00:18:03.386817",
     "exception": false,
     "start_time": "2021-09-08T00:18:03.341970",
     "status": "completed"
    },
    "tags": []
   },
   "outputs": [
    {
     "name": "stdout",
     "output_type": "stream",
     "text": [
      "xavier\n",
      "xavier\n",
      "xavier\n",
      "xavier\n",
      "xavier\n"
     ]
    }
   ],
   "source": [
    "layers = [Affine(\"first\", 784, 100), Relu(\"first\"), Affine(\"second\", 100, 100), Relu(\"second\"), Affine(\"third\", 100, 2), Affine(\"last\", 2, 1), Sigmoid(\"last\")]\n",
    "model_nn = Model(layers)\n",
    "model_lr = Model([Affine(\"logits\", 784, 1), Sigmoid(\"sigmoid\")])"
   ]
  },
  {
   "cell_type": "code",
   "execution_count": 20,
   "id": "6eede77a",
   "metadata": {
    "execution": {
     "iopub.execute_input": "2021-09-08T00:18:03.454579Z",
     "iopub.status.busy": "2021-09-08T00:18:03.450881Z",
     "iopub.status.idle": "2021-09-08T00:18:03.457034Z",
     "shell.execute_reply": "2021-09-08T00:18:03.456613Z"
    },
    "papermill": {
     "duration": 0.043637,
     "end_time": "2021-09-08T00:18:03.457131",
     "exception": false,
     "start_time": "2021-09-08T00:18:03.413494",
     "status": "completed"
    },
    "tags": []
   },
   "outputs": [],
   "source": [
    "nn_learner = Learner(loss, model_nn, opt, config.num_epochs)\n",
    "acc_nn = ClfCallback(nn_learner, config.bs, training_data_x , testing_data_x, training_data_y, testing_data_y)\n",
    "nn_learner.set_callbacks([acc_nn])"
   ]
  },
  {
   "cell_type": "code",
   "execution_count": 21,
   "id": "877b6cc7",
   "metadata": {
    "execution": {
     "iopub.execute_input": "2021-09-08T00:18:03.513334Z",
     "iopub.status.busy": "2021-09-08T00:18:03.512839Z",
     "iopub.status.idle": "2021-09-08T00:18:03.523599Z",
     "shell.execute_reply": "2021-09-08T00:18:03.523975Z"
    },
    "papermill": {
     "duration": 0.040364,
     "end_time": "2021-09-08T00:18:03.524086",
     "exception": false,
     "start_time": "2021-09-08T00:18:03.483722",
     "status": "completed"
    },
    "tags": []
   },
   "outputs": [],
   "source": [
    "lr_learner = Learner(loss, model_lr, opt, config.num_epochs)\n",
    "acc_lr = ClfCallback(lr_learner, config.bs, training_data_x , testing_data_x, training_data_y, testing_data_y)\n",
    "lr_learner.set_callbacks([acc_lr])"
   ]
  },
  {
   "cell_type": "code",
   "execution_count": 22,
   "id": "d9b133c3",
   "metadata": {
    "execution": {
     "iopub.execute_input": "2021-09-08T00:18:03.582829Z",
     "iopub.status.busy": "2021-09-08T00:18:03.582333Z",
     "iopub.status.idle": "2021-09-08T00:19:15.657389Z",
     "shell.execute_reply": "2021-09-08T00:19:15.658208Z"
    },
    "papermill": {
     "duration": 72.10747,
     "end_time": "2021-09-08T00:19:15.658345",
     "exception": false,
     "start_time": "2021-09-08T00:18:03.550875",
     "status": "completed"
    },
    "tags": []
   },
   "outputs": [
    {
     "name": "stdout",
     "output_type": "stream",
     "text": [
      "Epoch 0, Loss 0.2395\n",
      "Training Accuracy: 0.6395, Testing Accuracy: 0.6729\n",
      "\n"
     ]
    },
    {
     "name": "stdout",
     "output_type": "stream",
     "text": [
      "Epoch 10, Loss 0.1569\n",
      "Training Accuracy: 0.8913, Testing Accuracy: 0.9073\n",
      "\n"
     ]
    },
    {
     "name": "stdout",
     "output_type": "stream",
     "text": [
      "Epoch 20, Loss 0.0797\n",
      "Training Accuracy: 0.9255, Testing Accuracy: 0.9365\n",
      "\n"
     ]
    },
    {
     "name": "stdout",
     "output_type": "stream",
     "text": [
      "Epoch 30, Loss 0.0544\n",
      "Training Accuracy: 0.9441, Testing Accuracy: 0.9516\n",
      "\n"
     ]
    },
    {
     "name": "stdout",
     "output_type": "stream",
     "text": [
      "Epoch 40, Loss 0.0438\n",
      "Training Accuracy: 0.9531, Testing Accuracy: 0.9612\n",
      "\n"
     ]
    },
    {
     "name": "stdout",
     "output_type": "stream",
     "text": [
      "Epoch 50, Loss 0.0383\n",
      "Training Accuracy: 0.9574, Testing Accuracy: 0.9647\n",
      "\n"
     ]
    },
    {
     "name": "stdout",
     "output_type": "stream",
     "text": [
      "Epoch 60, Loss 0.035\n",
      "Training Accuracy: 0.9605, Testing Accuracy: 0.9662\n",
      "\n"
     ]
    },
    {
     "name": "stdout",
     "output_type": "stream",
     "text": [
      "Epoch 70, Loss 0.0327\n",
      "Training Accuracy: 0.9620, Testing Accuracy: 0.9672\n",
      "\n"
     ]
    },
    {
     "name": "stdout",
     "output_type": "stream",
     "text": [
      "Epoch 80, Loss 0.031\n",
      "Training Accuracy: 0.9637, Testing Accuracy: 0.9682\n",
      "\n"
     ]
    },
    {
     "name": "stdout",
     "output_type": "stream",
     "text": [
      "Epoch 90, Loss 0.0297\n",
      "Training Accuracy: 0.9649, Testing Accuracy: 0.9708\n",
      "\n"
     ]
    },
    {
     "name": "stdout",
     "output_type": "stream",
     "text": [
      "Epoch 100, Loss 0.0286\n",
      "Training Accuracy: 0.9664, Testing Accuracy: 0.9693\n",
      "\n"
     ]
    },
    {
     "name": "stdout",
     "output_type": "stream",
     "text": [
      "Epoch 110, Loss 0.0276\n",
      "Training Accuracy: 0.9673, Testing Accuracy: 0.9698\n",
      "\n"
     ]
    },
    {
     "name": "stdout",
     "output_type": "stream",
     "text": [
      "Epoch 120, Loss 0.0268\n",
      "Training Accuracy: 0.9684, Testing Accuracy: 0.9688\n",
      "\n"
     ]
    },
    {
     "name": "stdout",
     "output_type": "stream",
     "text": [
      "Epoch 130, Loss 0.0261\n",
      "Training Accuracy: 0.9694, Testing Accuracy: 0.9688\n",
      "\n"
     ]
    },
    {
     "name": "stdout",
     "output_type": "stream",
     "text": [
      "Epoch 140, Loss 0.0254\n",
      "Training Accuracy: 0.9704, Testing Accuracy: 0.9693\n",
      "\n"
     ]
    },
    {
     "name": "stdout",
     "output_type": "stream",
     "text": [
      "Epoch 150, Loss 0.0248\n",
      "Training Accuracy: 0.9711, Testing Accuracy: 0.9698\n",
      "\n"
     ]
    },
    {
     "name": "stdout",
     "output_type": "stream",
     "text": [
      "Epoch 160, Loss 0.0243\n",
      "Training Accuracy: 0.9720, Testing Accuracy: 0.9713\n",
      "\n"
     ]
    },
    {
     "name": "stdout",
     "output_type": "stream",
     "text": [
      "Epoch 170, Loss 0.0237\n",
      "Training Accuracy: 0.9725, Testing Accuracy: 0.9718\n",
      "\n"
     ]
    },
    {
     "name": "stdout",
     "output_type": "stream",
     "text": [
      "Epoch 180, Loss 0.0232\n",
      "Training Accuracy: 0.9731, Testing Accuracy: 0.9718\n",
      "\n"
     ]
    },
    {
     "name": "stdout",
     "output_type": "stream",
     "text": [
      "Epoch 190, Loss 0.0228\n",
      "Training Accuracy: 0.9739, Testing Accuracy: 0.9718\n",
      "\n"
     ]
    },
    {
     "name": "stdout",
     "output_type": "stream",
     "text": [
      "Epoch 200, Loss 0.0223\n",
      "Training Accuracy: 0.9744, Testing Accuracy: 0.9718\n",
      "\n"
     ]
    },
    {
     "name": "stdout",
     "output_type": "stream",
     "text": [
      "Epoch 210, Loss 0.0219\n",
      "Training Accuracy: 0.9753, Testing Accuracy: 0.9718\n",
      "\n"
     ]
    },
    {
     "name": "stdout",
     "output_type": "stream",
     "text": [
      "Epoch 220, Loss 0.0215\n",
      "Training Accuracy: 0.9757, Testing Accuracy: 0.9718\n",
      "\n"
     ]
    },
    {
     "name": "stdout",
     "output_type": "stream",
     "text": [
      "Epoch 230, Loss 0.0211\n",
      "Training Accuracy: 0.9764, Testing Accuracy: 0.9718\n",
      "\n"
     ]
    },
    {
     "name": "stdout",
     "output_type": "stream",
     "text": [
      "Epoch 240, Loss 0.0207\n",
      "Training Accuracy: 0.9770, Testing Accuracy: 0.9718\n",
      "\n"
     ]
    },
    {
     "data": {
      "text/plain": [
       "0.0382097965182962"
      ]
     },
     "execution_count": 22,
     "metadata": {},
     "output_type": "execute_result"
    }
   ],
   "source": [
    "nn_learner.train_loop(dl)"
   ]
  },
  {
   "cell_type": "code",
   "execution_count": 23,
   "id": "e0163366",
   "metadata": {
    "execution": {
     "iopub.execute_input": "2021-09-08T00:19:15.737737Z",
     "iopub.status.busy": "2021-09-08T00:19:15.737243Z",
     "iopub.status.idle": "2021-09-08T00:19:28.587165Z",
     "shell.execute_reply": "2021-09-08T00:19:28.587855Z"
    },
    "papermill": {
     "duration": 12.895591,
     "end_time": "2021-09-08T00:19:28.587998",
     "exception": false,
     "start_time": "2021-09-08T00:19:15.692407",
     "status": "completed"
    },
    "tags": []
   },
   "outputs": [
    {
     "name": "stdout",
     "output_type": "stream",
     "text": [
      "Epoch 0, Loss 0.2597\n",
      "Training Accuracy: 0.6213, Testing Accuracy: 0.6326\n",
      "\n"
     ]
    },
    {
     "name": "stdout",
     "output_type": "stream",
     "text": [
      "Epoch 10, Loss 0.101\n",
      "Training Accuracy: 0.9154, Testing Accuracy: 0.9214\n",
      "\n"
     ]
    },
    {
     "name": "stdout",
     "output_type": "stream",
     "text": [
      "Epoch 20, Loss 0.0777\n",
      "Training Accuracy: 0.9309, Testing Accuracy: 0.9375\n",
      "\n"
     ]
    },
    {
     "name": "stdout",
     "output_type": "stream",
     "text": [
      "Epoch 30, Loss 0.0672\n",
      "Training Accuracy: 0.9374, Testing Accuracy: 0.9456\n",
      "\n"
     ]
    },
    {
     "name": "stdout",
     "output_type": "stream",
     "text": [
      "Epoch 40, Loss 0.0609\n",
      "Training Accuracy: 0.9415, Testing Accuracy: 0.9521\n",
      "\n"
     ]
    },
    {
     "name": "stdout",
     "output_type": "stream",
     "text": [
      "Epoch 50, Loss 0.0566\n",
      "Training Accuracy: 0.9451, Testing Accuracy: 0.9556\n",
      "\n"
     ]
    },
    {
     "name": "stdout",
     "output_type": "stream",
     "text": [
      "Epoch 60, Loss 0.0534\n",
      "Training Accuracy: 0.9479, Testing Accuracy: 0.9551\n",
      "\n"
     ]
    },
    {
     "name": "stdout",
     "output_type": "stream",
     "text": [
      "Epoch 70, Loss 0.0509\n",
      "Training Accuracy: 0.9493, Testing Accuracy: 0.9572\n",
      "\n"
     ]
    },
    {
     "name": "stdout",
     "output_type": "stream",
     "text": [
      "Epoch 80, Loss 0.0489\n",
      "Training Accuracy: 0.9513, Testing Accuracy: 0.9592\n",
      "\n"
     ]
    },
    {
     "name": "stdout",
     "output_type": "stream",
     "text": [
      "Epoch 90, Loss 0.0473\n",
      "Training Accuracy: 0.9525, Testing Accuracy: 0.9597\n",
      "\n"
     ]
    },
    {
     "name": "stdout",
     "output_type": "stream",
     "text": [
      "Epoch 100, Loss 0.0459\n",
      "Training Accuracy: 0.9535, Testing Accuracy: 0.9607\n",
      "\n"
     ]
    },
    {
     "name": "stdout",
     "output_type": "stream",
     "text": [
      "Epoch 110, Loss 0.0447\n",
      "Training Accuracy: 0.9543, Testing Accuracy: 0.9617\n",
      "\n"
     ]
    },
    {
     "name": "stdout",
     "output_type": "stream",
     "text": [
      "Epoch 120, Loss 0.0437\n",
      "Training Accuracy: 0.9548, Testing Accuracy: 0.9627\n",
      "\n"
     ]
    },
    {
     "name": "stdout",
     "output_type": "stream",
     "text": [
      "Epoch 130, Loss 0.0428\n",
      "Training Accuracy: 0.9553, Testing Accuracy: 0.9647\n",
      "\n"
     ]
    },
    {
     "name": "stdout",
     "output_type": "stream",
     "text": [
      "Epoch 140, Loss 0.0419\n",
      "Training Accuracy: 0.9559, Testing Accuracy: 0.9652\n",
      "\n"
     ]
    },
    {
     "name": "stdout",
     "output_type": "stream",
     "text": [
      "Epoch 150, Loss 0.0412\n",
      "Training Accuracy: 0.9570, Testing Accuracy: 0.9647\n",
      "\n"
     ]
    },
    {
     "name": "stdout",
     "output_type": "stream",
     "text": [
      "Epoch 160, Loss 0.0406\n",
      "Training Accuracy: 0.9574, Testing Accuracy: 0.9667\n",
      "\n"
     ]
    },
    {
     "name": "stdout",
     "output_type": "stream",
     "text": [
      "Epoch 170, Loss 0.0399\n",
      "Training Accuracy: 0.9574, Testing Accuracy: 0.9662\n",
      "\n"
     ]
    },
    {
     "name": "stdout",
     "output_type": "stream",
     "text": [
      "Epoch 180, Loss 0.0394\n",
      "Training Accuracy: 0.9573, Testing Accuracy: 0.9662\n",
      "\n"
     ]
    },
    {
     "name": "stdout",
     "output_type": "stream",
     "text": [
      "Epoch 190, Loss 0.0389\n",
      "Training Accuracy: 0.9578, Testing Accuracy: 0.9667\n",
      "\n"
     ]
    },
    {
     "name": "stdout",
     "output_type": "stream",
     "text": [
      "Epoch 200, Loss 0.0384\n",
      "Training Accuracy: 0.9584, Testing Accuracy: 0.9667\n",
      "\n"
     ]
    },
    {
     "name": "stdout",
     "output_type": "stream",
     "text": [
      "Epoch 210, Loss 0.038\n",
      "Training Accuracy: 0.9589, Testing Accuracy: 0.9667\n",
      "\n"
     ]
    },
    {
     "name": "stdout",
     "output_type": "stream",
     "text": [
      "Epoch 220, Loss 0.0376\n",
      "Training Accuracy: 0.9598, Testing Accuracy: 0.9672\n",
      "\n"
     ]
    },
    {
     "name": "stdout",
     "output_type": "stream",
     "text": [
      "Epoch 230, Loss 0.0372\n",
      "Training Accuracy: 0.9603, Testing Accuracy: 0.9672\n",
      "\n"
     ]
    },
    {
     "name": "stdout",
     "output_type": "stream",
     "text": [
      "Epoch 240, Loss 0.0368\n",
      "Training Accuracy: 0.9604, Testing Accuracy: 0.9672\n",
      "\n"
     ]
    },
    {
     "data": {
      "text/plain": [
       "0.027698218857332223"
      ]
     },
     "execution_count": 23,
     "metadata": {},
     "output_type": "execute_result"
    }
   ],
   "source": [
    "lr_learner.train_loop(dl)"
   ]
  },
  {
   "cell_type": "code",
   "execution_count": 24,
   "id": "ca410940",
   "metadata": {
    "execution": {
     "iopub.execute_input": "2021-09-08T00:19:28.687209Z",
     "iopub.status.busy": "2021-09-08T00:19:28.686708Z",
     "iopub.status.idle": "2021-09-08T00:19:28.902098Z",
     "shell.execute_reply": "2021-09-08T00:19:28.902514Z"
    },
    "papermill": {
     "duration": 0.273941,
     "end_time": "2021-09-08T00:19:28.902641",
     "exception": false,
     "start_time": "2021-09-08T00:19:28.628700",
     "status": "completed"
    },
    "tags": []
   },
   "outputs": [
    {
     "data": {
      "text/plain": [
       "<matplotlib.legend.Legend at 0x7f2475477e48>"
      ]
     },
     "execution_count": 24,
     "metadata": {},
     "output_type": "execute_result"
    },
    {
     "data": {
      "image/png": "[encoded data removed]",
      "text/plain": [
       "<Figure size 1080x720 with 1 Axes>"
      ]
     },
     "metadata": {
      "needs_background": "light"
     },
     "output_type": "display_data"
    }
   ],
   "source": [
    "#comparing the results of NN and LR\n",
    "plt.figure(figsize=(15,10))\n",
    "\n",
    "# Neural Network plots\n",
    "plt.plot(acc_nn.accuracies, 'r-', label = \"Training Accuracies - NN\")\n",
    "plt.plot(acc_nn.test_accuracies, 'g-', label = \"Testing Accuracies - NN\")\n",
    "\n",
    "# Logistic Regression plots\n",
    "plt.plot(acc_lr.accuracies, 'k-', label = \"Training Accuracies - LR\")\n",
    "plt.plot(acc_lr.test_accuracies, 'b-', label = \"Testing Accuracies - LR\")\n",
    "plt.legend()"
   ]
  },
  {
   "cell_type": "markdown",
   "id": "80dfb35c",
   "metadata": {
    "papermill": {
     "duration": 0.041605,
     "end_time": "2021-09-08T00:19:28.986329",
     "exception": false,
     "start_time": "2021-09-08T00:19:28.944724",
     "status": "completed"
    },
    "tags": []
   },
   "source": [
    "#### Plotting the outputs of this layer of the NN.\n"
   ]
  },
  {
   "cell_type": "code",
   "execution_count": 25,
   "id": "45eb2ff5",
   "metadata": {
    "execution": {
     "iopub.execute_input": "2021-09-08T00:19:29.076962Z",
     "iopub.status.busy": "2021-09-08T00:19:29.075823Z",
     "iopub.status.idle": "2021-09-08T00:19:29.091852Z",
     "shell.execute_reply": "2021-09-08T00:19:29.092256Z"
    },
    "papermill": {
     "duration": 0.064609,
     "end_time": "2021-09-08T00:19:29.092375",
     "exception": false,
     "start_time": "2021-09-08T00:19:29.027766",
     "status": "completed"
    },
    "tags": []
   },
   "outputs": [],
   "source": [
    "new_model = Model(layers[:-2])\n",
    "testing_plot = new_model(testing_data_x)"
   ]
  },
  {
   "cell_type": "code",
   "execution_count": 26,
   "id": "4c0a5485",
   "metadata": {
    "execution": {
     "iopub.execute_input": "2021-09-08T00:19:29.198909Z",
     "iopub.status.busy": "2021-09-08T00:19:29.188276Z",
     "iopub.status.idle": "2021-09-08T00:19:29.380788Z",
     "shell.execute_reply": "2021-09-08T00:19:29.380351Z"
    },
    "papermill": {
     "duration": 0.238175,
     "end_time": "2021-09-08T00:19:29.380895",
     "exception": false,
     "start_time": "2021-09-08T00:19:29.142720",
     "status": "completed"
    },
    "tags": []
   },
   "outputs": [
    {
     "data": {
      "text/plain": [
       "Text(0.5, 1.0, 'Outputs')"
      ]
     },
     "execution_count": 26,
     "metadata": {},
     "output_type": "execute_result"
    },
    {
     "data": {
      "image/png": "[encoded data removed]",
      "text/plain": [
       "<Figure size 576x504 with 1 Axes>"
      ]
     },
     "metadata": {
      "needs_background": "light"
     },
     "output_type": "display_data"
    }
   ],
   "source": [
    "# Plotting the scatter plot of points and color coding by class\n",
    "plt.figure(figsize=(8,7))\n",
    "plt.scatter(testing_plot[:,0], testing_plot[:,1], alpha = 0.1, c = y_test.ravel());\n",
    "plt.title('Outputs')"
   ]
  },
  {
   "cell_type": "markdown",
   "id": "a74fcf8f",
   "metadata": {
    "papermill": {
     "duration": 0.043251,
     "end_time": "2021-09-08T00:19:29.468150",
     "exception": false,
     "start_time": "2021-09-08T00:19:29.424899",
     "status": "completed"
    },
    "tags": []
   },
   "source": [
    "Probability contours"
   ]
  },
  {
   "cell_type": "code",
   "execution_count": 27,
   "id": "d0afc8e3",
   "metadata": {
    "execution": {
     "iopub.execute_input": "2021-09-08T00:19:29.572103Z",
     "iopub.status.busy": "2021-09-08T00:19:29.571603Z",
     "iopub.status.idle": "2021-09-08T00:19:29.575315Z",
     "shell.execute_reply": "2021-09-08T00:19:29.575691Z"
    },
    "papermill": {
     "duration": 0.064217,
     "end_time": "2021-09-08T00:19:29.575808",
     "exception": false,
     "start_time": "2021-09-08T00:19:29.511591",
     "status": "completed"
    },
    "tags": []
   },
   "outputs": [],
   "source": [
    "model_prob = Model(layers[-2:]) "
   ]
  },
  {
   "cell_type": "code",
   "execution_count": 28,
   "id": "9b96e238",
   "metadata": {
    "execution": {
     "iopub.execute_input": "2021-09-08T00:19:29.673289Z",
     "iopub.status.busy": "2021-09-08T00:19:29.667271Z",
     "iopub.status.idle": "2021-09-08T00:19:29.680798Z",
     "shell.execute_reply": "2021-09-08T00:19:29.680401Z"
    },
    "papermill": {
     "duration": 0.0603,
     "end_time": "2021-09-08T00:19:29.680896",
     "exception": false,
     "start_time": "2021-09-08T00:19:29.620596",
     "status": "completed"
    },
    "tags": []
   },
   "outputs": [],
   "source": [
    "#creating the x and y ranges according to the above generated plot.\n",
    "x_range = np.linspace(-4, 1, 100) \n",
    "y_range = np.linspace(-6, 6, 100) \n",
    "x_grid, y_grid = np.meshgrid(x_range, y_range) # x_grid and y_grig are of size 100 X 100\n",
    "\n",
    "# converting x_grid and y_grid to continuous arrays\n",
    "x_gridflat = np.ravel(x_grid)\n",
    "y_gridflat = np.ravel(y_grid)\n",
    "\n",
    "# The last layer of the current model takes two columns as input. Hence transpose of np.vstack() is required.\n",
    "X = np.vstack((x_gridflat, y_gridflat)).T\n",
    "\n",
    "prob_contour = model_prob(X).reshape(100,100) "
   ]
  },
  {
   "cell_type": "code",
   "execution_count": 29,
   "id": "da72499a",
   "metadata": {
    "execution": {
     "iopub.execute_input": "2021-09-08T00:19:29.784180Z",
     "iopub.status.busy": "2021-09-08T00:19:29.783687Z",
     "iopub.status.idle": "2021-09-08T00:19:30.024628Z",
     "shell.execute_reply": "2021-09-08T00:19:30.025083Z"
    },
    "papermill": {
     "duration": 0.28808,
     "end_time": "2021-09-08T00:19:30.025221",
     "exception": false,
     "start_time": "2021-09-08T00:19:29.737141",
     "status": "completed"
    },
    "tags": []
   },
   "outputs": [
    {
     "data": {
      "image/png": "[encoded data removed]",
      "text/plain": [
       "<Figure size 720x648 with 1 Axes>"
      ]
     },
     "metadata": {
      "needs_background": "light"
     },
     "output_type": "display_data"
    }
   ],
   "source": [
    "plt.figure(figsize=(10,9))\n",
    "plt.scatter(testing_plot[:,0], testing_plot[:,1], alpha = 0.1, c = y_test.ravel())\n",
    "contours = plt.contour(x_grid,y_grid,prob_contour)\n",
    "plt.title('Probability Contours')\n",
    "plt.clabel(contours, inline = True );"
   ]
  },
  {
   "cell_type": "code",
   "execution_count": null,
   "id": "e81b4ac7",
   "metadata": {
    "papermill": {
     "duration": 0.046203,
     "end_time": "2021-09-08T00:19:30.118300",
     "exception": false,
     "start_time": "2021-09-08T00:19:30.072097",
     "status": "completed"
    },
    "tags": []
   },
   "outputs": [],
   "source": []
  }
 ],
 "metadata": {
  "kernelspec": {
   "display_name": "Python 3",
   "language": "python",
   "name": "python3"
  },
  "language_info": {
   "codemirror_mode": {
    "name": "ipython",
    "version": 3
   },
   "file_extension": ".py",
   "mimetype": "text/x-python",
   "name": "python",
   "nbconvert_exporter": "python",
   "pygments_lexer": "ipython3",
   "version": "3.6.14"
  },
  "papermill": {
   "default_parameters": {},
   "duration": 93.060638,
   "end_time": "2021-09-08T00:19:30.496057",
   "environment_variables": {},
   "exception": null,
   "input_path": "2020-08-11-part2.ipynb",
   "output_path": "2020-08-11-part2.ipynb",
   "parameters": {},
   "start_time": "2021-09-08T00:17:57.435419",
   "version": "2.3.3"
  }
 },
 "nbformat": 4,
 "nbformat_minor": 5
}