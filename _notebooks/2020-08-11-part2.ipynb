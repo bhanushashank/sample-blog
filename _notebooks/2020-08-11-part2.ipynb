{
 "cells": [
  {
   "cell_type": "markdown",
   "id": "98380cd3",
   "metadata": {
    "papermill": {
     "duration": 0.029504,
     "end_time": "2022-08-23T10:10:38.559928",
     "exception": false,
     "start_time": "2022-08-23T10:10:38.530424",
     "status": "completed"
    },
    "tags": []
   },
   "source": [
    "# Distinguish Your Own Digits (DYOD)"
   ]
  },
  {
   "cell_type": "markdown",
   "id": "ef31240d",
   "metadata": {
    "papermill": {
     "duration": 0.023344,
     "end_time": "2022-08-23T10:10:38.607472",
     "exception": false,
     "start_time": "2022-08-23T10:10:38.584128",
     "status": "completed"
    },
    "tags": []
   },
   "source": [
    "You are going to write a classifier that distinguishes between the number 3 and number 8."
   ]
  },
  {
   "cell_type": "code",
   "execution_count": 1,
   "id": "b15c8646",
   "metadata": {
    "execution": {
     "iopub.execute_input": "2022-08-23T10:10:38.664903Z",
     "iopub.status.busy": "2022-08-23T10:10:38.664285Z",
     "iopub.status.idle": "2022-08-23T10:10:38.674750Z",
     "shell.execute_reply": "2022-08-23T10:10:38.675251Z"
    },
    "papermill": {
     "duration": 0.044542,
     "end_time": "2022-08-23T10:10:38.675401",
     "exception": false,
     "start_time": "2022-08-23T10:10:38.630859",
     "status": "completed"
    },
    "tags": []
   },
   "outputs": [],
   "source": [
    "%load_ext autoreload\n",
    "%autoreload 2"
   ]
  },
  {
   "cell_type": "code",
   "execution_count": 2,
   "id": "22ef38dc",
   "metadata": {
    "execution": {
     "iopub.execute_input": "2022-08-23T10:10:38.726343Z",
     "iopub.status.busy": "2022-08-23T10:10:38.725744Z",
     "iopub.status.idle": "2022-08-23T10:10:39.258937Z",
     "shell.execute_reply": "2022-08-23T10:10:39.258246Z"
    },
    "papermill": {
     "duration": 0.560226,
     "end_time": "2022-08-23T10:10:39.259108",
     "exception": false,
     "start_time": "2022-08-23T10:10:38.698882",
     "status": "completed"
    },
    "tags": []
   },
   "outputs": [],
   "source": [
    "%matplotlib inline\n",
    "import numpy as np\n",
    "import matplotlib.pyplot as plt\n",
    "import pandas as pd"
   ]
  },
  {
   "cell_type": "markdown",
   "id": "ba036198",
   "metadata": {
    "papermill": {
     "duration": 0.02341,
     "end_time": "2022-08-23T10:10:39.306080",
     "exception": false,
     "start_time": "2022-08-23T10:10:39.282670",
     "status": "completed"
    },
    "tags": []
   },
   "source": [
    "From the command line run `pip install mnist`. This is a library that will help you bring down the mnist dataset. If you run this from a notebook, you need to put  `!pip install mnist` in a cell by itself."
   ]
  },
  {
   "cell_type": "code",
   "execution_count": 3,
   "id": "bb6ad8a1",
   "metadata": {
    "execution": {
     "iopub.execute_input": "2022-08-23T10:10:39.357327Z",
     "iopub.status.busy": "2022-08-23T10:10:39.356723Z",
     "iopub.status.idle": "2022-08-23T10:10:41.026972Z",
     "shell.execute_reply": "2022-08-23T10:10:41.026369Z"
    },
    "papermill": {
     "duration": 1.697525,
     "end_time": "2022-08-23T10:10:41.027114",
     "exception": false,
     "start_time": "2022-08-23T10:10:39.329589",
     "status": "completed"
    },
    "tags": []
   },
   "outputs": [
    {
     "name": "stdout",
     "output_type": "stream",
     "text": [
      "Collecting mnist\r\n"
     ]
    },
    {
     "name": "stdout",
     "output_type": "stream",
     "text": [
      "  Downloading mnist-0.2.2-py2.py3-none-any.whl (3.5 kB)\r\n",
      "Requirement already satisfied: numpy in /opt/hostedtoolcache/Python/3.6.15/x64/lib/python3.6/site-packages (from mnist) (1.19.5)\r\n"
     ]
    },
    {
     "name": "stdout",
     "output_type": "stream",
     "text": [
      "Installing collected packages: mnist\r\n"
     ]
    },
    {
     "name": "stdout",
     "output_type": "stream",
     "text": [
      "Successfully installed mnist-0.2.2\r\n"
     ]
    }
   ],
   "source": [
    "!pip install mnist"
   ]
  },
  {
   "cell_type": "markdown",
   "id": "69df9c9a",
   "metadata": {
    "papermill": {
     "duration": 0.024627,
     "end_time": "2022-08-23T10:10:41.076634",
     "exception": false,
     "start_time": "2022-08-23T10:10:41.052007",
     "status": "completed"
    },
    "tags": []
   },
   "source": [
    "## Preparing the Data"
   ]
  },
  {
   "cell_type": "code",
   "execution_count": 4,
   "id": "7f69d806",
   "metadata": {
    "execution": {
     "iopub.execute_input": "2022-08-23T10:10:41.129542Z",
     "iopub.status.busy": "2022-08-23T10:10:41.128954Z",
     "iopub.status.idle": "2022-08-23T10:10:41.143946Z",
     "shell.execute_reply": "2022-08-23T10:10:41.144426Z"
    },
    "papermill": {
     "duration": 0.043627,
     "end_time": "2022-08-23T10:10:41.144558",
     "exception": false,
     "start_time": "2022-08-23T10:10:41.100931",
     "status": "completed"
    },
    "tags": []
   },
   "outputs": [],
   "source": [
    "import mnist"
   ]
  },
  {
   "cell_type": "code",
   "execution_count": 5,
   "id": "a411e44f",
   "metadata": {
    "execution": {
     "iopub.execute_input": "2022-08-23T10:10:41.196768Z",
     "iopub.status.busy": "2022-08-23T10:10:41.196183Z",
     "iopub.status.idle": "2022-08-23T10:10:41.781356Z",
     "shell.execute_reply": "2022-08-23T10:10:41.780787Z"
    },
    "papermill": {
     "duration": 0.612528,
     "end_time": "2022-08-23T10:10:41.781491",
     "exception": false,
     "start_time": "2022-08-23T10:10:41.168963",
     "status": "completed"
    },
    "tags": []
   },
   "outputs": [],
   "source": [
    "train_images = mnist.train_images()\n",
    "train_labels = mnist.train_labels()"
   ]
  },
  {
   "cell_type": "code",
   "execution_count": 6,
   "id": "dceab3a5",
   "metadata": {
    "execution": {
     "iopub.execute_input": "2022-08-23T10:10:41.839190Z",
     "iopub.status.busy": "2022-08-23T10:10:41.838544Z",
     "iopub.status.idle": "2022-08-23T10:10:41.852845Z",
     "shell.execute_reply": "2022-08-23T10:10:41.852366Z"
    },
    "papermill": {
     "duration": 0.046534,
     "end_time": "2022-08-23T10:10:41.852963",
     "exception": false,
     "start_time": "2022-08-23T10:10:41.806429",
     "status": "completed"
    },
    "tags": []
   },
   "outputs": [
    {
     "data": {
      "text/plain": [
       "((60000, 28, 28), (60000,))"
      ]
     },
     "execution_count": 6,
     "metadata": {},
     "output_type": "execute_result"
    }
   ],
   "source": [
    "train_images.shape, train_labels.shape"
   ]
  },
  {
   "cell_type": "code",
   "execution_count": 7,
   "id": "f50dc2bb",
   "metadata": {
    "execution": {
     "iopub.execute_input": "2022-08-23T10:10:41.907322Z",
     "iopub.status.busy": "2022-08-23T10:10:41.906685Z",
     "iopub.status.idle": "2022-08-23T10:10:42.099673Z",
     "shell.execute_reply": "2022-08-23T10:10:42.099081Z"
    },
    "papermill": {
     "duration": 0.221969,
     "end_time": "2022-08-23T10:10:42.099806",
     "exception": false,
     "start_time": "2022-08-23T10:10:41.877837",
     "status": "completed"
    },
    "tags": []
   },
   "outputs": [],
   "source": [
    "test_images = mnist.test_images()\n",
    "test_labels = mnist.test_labels()"
   ]
  },
  {
   "cell_type": "code",
   "execution_count": 8,
   "id": "fc38cf1b",
   "metadata": {
    "execution": {
     "iopub.execute_input": "2022-08-23T10:10:42.153233Z",
     "iopub.status.busy": "2022-08-23T10:10:42.152645Z",
     "iopub.status.idle": "2022-08-23T10:10:42.166470Z",
     "shell.execute_reply": "2022-08-23T10:10:42.167046Z"
    },
    "papermill": {
     "duration": 0.04222,
     "end_time": "2022-08-23T10:10:42.167168",
     "exception": false,
     "start_time": "2022-08-23T10:10:42.124948",
     "status": "completed"
    },
    "tags": []
   },
   "outputs": [
    {
     "data": {
      "text/plain": [
       "((10000, 28, 28), (10000,))"
      ]
     },
     "execution_count": 8,
     "metadata": {},
     "output_type": "execute_result"
    }
   ],
   "source": [
    "test_images.shape, test_labels.shape"
   ]
  },
  {
   "cell_type": "code",
   "execution_count": 9,
   "id": "f9ed8fe0",
   "metadata": {
    "execution": {
     "iopub.execute_input": "2022-08-23T10:10:42.223543Z",
     "iopub.status.busy": "2022-08-23T10:10:42.222957Z",
     "iopub.status.idle": "2022-08-23T10:10:42.359975Z",
     "shell.execute_reply": "2022-08-23T10:10:42.360500Z"
    },
    "papermill": {
     "duration": 0.165557,
     "end_time": "2022-08-23T10:10:42.360654",
     "exception": false,
     "start_time": "2022-08-23T10:10:42.195097",
     "status": "completed"
    },
    "tags": []
   },
   "outputs": [
    {
     "name": "stdout",
     "output_type": "stream",
     "text": [
      "2\n"
     ]
    },
    {
     "data": {
      "text/plain": [
       "<matplotlib.image.AxesImage at 0x7f2af925b978>"
      ]
     },
     "execution_count": 9,
     "metadata": {},
     "output_type": "execute_result"
    },
    {
     "data": {
      "image/png": "[encoded data removed]",
      "text/plain": [
       "<Figure size 432x288 with 1 Axes>"
      ]
     },
     "metadata": {
      "needs_background": "light"
     },
     "output_type": "display_data"
    }
   ],
   "source": [
    "image_index = 7776 # You may select anything up to 60,000\n",
    "print(train_labels[image_index]) \n",
    "plt.imshow(train_images[image_index], cmap='Greys')"
   ]
  },
  {
   "cell_type": "markdown",
   "id": "a8d2388d",
   "metadata": {
    "papermill": {
     "duration": 0.026152,
     "end_time": "2022-08-23T10:10:42.413242",
     "exception": false,
     "start_time": "2022-08-23T10:10:42.387090",
     "status": "completed"
    },
    "tags": []
   },
   "source": [
    "## Filter data to get 3 and 8 out"
   ]
  },
  {
   "cell_type": "code",
   "execution_count": 10,
   "id": "776f7fc7",
   "metadata": {
    "execution": {
     "iopub.execute_input": "2022-08-23T10:10:42.469763Z",
     "iopub.status.busy": "2022-08-23T10:10:42.469153Z",
     "iopub.status.idle": "2022-08-23T10:10:42.491941Z",
     "shell.execute_reply": "2022-08-23T10:10:42.492556Z"
    },
    "papermill": {
     "duration": 0.053506,
     "end_time": "2022-08-23T10:10:42.492700",
     "exception": false,
     "start_time": "2022-08-23T10:10:42.439194",
     "status": "completed"
    },
    "tags": []
   },
   "outputs": [],
   "source": [
    "train_filter = np.where((train_labels == 3 ) | (train_labels == 8))\n",
    "test_filter = np.where((test_labels == 3) | (test_labels == 8))\n",
    "X_train, y_train = train_images[train_filter], train_labels[train_filter]\n",
    "X_test, y_test = test_images[test_filter], test_labels[test_filter]"
   ]
  },
  {
   "cell_type": "markdown",
   "id": "948f0b7e",
   "metadata": {
    "papermill": {
     "duration": 0.026046,
     "end_time": "2022-08-23T10:10:42.545072",
     "exception": false,
     "start_time": "2022-08-23T10:10:42.519026",
     "status": "completed"
    },
    "tags": []
   },
   "source": [
    "We normalize the pizel values in the 0 to 1 range"
   ]
  },
  {
   "cell_type": "code",
   "execution_count": 11,
   "id": "ee4c2166",
   "metadata": {
    "execution": {
     "iopub.execute_input": "2022-08-23T10:10:42.612291Z",
     "iopub.status.busy": "2022-08-23T10:10:42.611690Z",
     "iopub.status.idle": "2022-08-23T10:10:42.653440Z",
     "shell.execute_reply": "2022-08-23T10:10:42.652847Z"
    },
    "papermill": {
     "duration": 0.082632,
     "end_time": "2022-08-23T10:10:42.653592",
     "exception": false,
     "start_time": "2022-08-23T10:10:42.570960",
     "status": "completed"
    },
    "tags": []
   },
   "outputs": [],
   "source": [
    "X_train = X_train/255.\n",
    "X_test = X_test/255."
   ]
  },
  {
   "cell_type": "markdown",
   "id": "ddcf4fab",
   "metadata": {
    "papermill": {
     "duration": 0.026239,
     "end_time": "2022-08-23T10:10:42.706795",
     "exception": false,
     "start_time": "2022-08-23T10:10:42.680556",
     "status": "completed"
    },
    "tags": []
   },
   "source": [
    "And setup the labels as 1 (when the digit is 3) and 0 (when the digit is 8)"
   ]
  },
  {
   "cell_type": "code",
   "execution_count": 12,
   "id": "7dc908f2",
   "metadata": {
    "execution": {
     "iopub.execute_input": "2022-08-23T10:10:42.769554Z",
     "iopub.status.busy": "2022-08-23T10:10:42.762148Z",
     "iopub.status.idle": "2022-08-23T10:10:42.778345Z",
     "shell.execute_reply": "2022-08-23T10:10:42.777869Z"
    },
    "papermill": {
     "duration": 0.045754,
     "end_time": "2022-08-23T10:10:42.778457",
     "exception": false,
     "start_time": "2022-08-23T10:10:42.732703",
     "status": "completed"
    },
    "tags": []
   },
   "outputs": [],
   "source": [
    "y_train = 1*(y_train==3)\n",
    "y_test = 1*(y_test==3)"
   ]
  },
  {
   "cell_type": "code",
   "execution_count": 13,
   "id": "01e4e969",
   "metadata": {
    "execution": {
     "iopub.execute_input": "2022-08-23T10:10:42.834069Z",
     "iopub.status.busy": "2022-08-23T10:10:42.833489Z",
     "iopub.status.idle": "2022-08-23T10:10:42.847813Z",
     "shell.execute_reply": "2022-08-23T10:10:42.847235Z"
    },
    "papermill": {
     "duration": 0.043338,
     "end_time": "2022-08-23T10:10:42.847921",
     "exception": false,
     "start_time": "2022-08-23T10:10:42.804583",
     "status": "completed"
    },
    "tags": []
   },
   "outputs": [
    {
     "data": {
      "text/plain": [
       "((11982, 28, 28), (1984, 28, 28))"
      ]
     },
     "execution_count": 13,
     "metadata": {},
     "output_type": "execute_result"
    }
   ],
   "source": [
    "X_train.shape, X_test.shape"
   ]
  },
  {
   "cell_type": "markdown",
   "id": "5ccf3f85",
   "metadata": {
    "papermill": {
     "duration": 0.026387,
     "end_time": "2022-08-23T10:10:42.901544",
     "exception": false,
     "start_time": "2022-08-23T10:10:42.875157",
     "status": "completed"
    },
    "tags": []
   },
   "source": [
    "We reshape the data to flatten the image pixels into a set of features or co-variates:"
   ]
  },
  {
   "cell_type": "code",
   "execution_count": 14,
   "id": "5286a4a3",
   "metadata": {
    "execution": {
     "iopub.execute_input": "2022-08-23T10:10:42.958406Z",
     "iopub.status.busy": "2022-08-23T10:10:42.957817Z",
     "iopub.status.idle": "2022-08-23T10:10:42.971903Z",
     "shell.execute_reply": "2022-08-23T10:10:42.972386Z"
    },
    "papermill": {
     "duration": 0.043915,
     "end_time": "2022-08-23T10:10:42.972514",
     "exception": false,
     "start_time": "2022-08-23T10:10:42.928599",
     "status": "completed"
    },
    "tags": []
   },
   "outputs": [
    {
     "data": {
      "text/plain": [
       "((11982, 784), (1984, 784))"
      ]
     },
     "execution_count": 14,
     "metadata": {},
     "output_type": "execute_result"
    }
   ],
   "source": [
    "X_train = X_train.reshape(X_train.shape[0], -1)\n",
    "X_test = X_test.reshape(X_test.shape[0], -1)\n",
    "X_train.shape, X_test.shape"
   ]
  },
  {
   "cell_type": "code",
   "execution_count": 15,
   "id": "73c5f88a",
   "metadata": {
    "execution": {
     "iopub.execute_input": "2022-08-23T10:10:43.029607Z",
     "iopub.status.busy": "2022-08-23T10:10:43.029018Z",
     "iopub.status.idle": "2022-08-23T10:10:43.048320Z",
     "shell.execute_reply": "2022-08-23T10:10:43.047670Z"
    },
    "papermill": {
     "duration": 0.049333,
     "end_time": "2022-08-23T10:10:43.048441",
     "exception": false,
     "start_time": "2022-08-23T10:10:42.999108",
     "status": "completed"
    },
    "tags": []
   },
   "outputs": [],
   "source": [
    "#Impoting functions from 'Kudzu'\n",
    "from kudzu.model import Model\n",
    "from kudzu.train import Learner\n",
    "from kudzu.optim import GD\n",
    "from kudzu.data import Data, Sampler,Dataloader\n",
    "\n",
    "from kudzu.callbacks import AccCallback\n",
    "from kudzu.callbacks import ClfCallback\n",
    "\n",
    "from kudzu.loss import MSE\n",
    "\n",
    "from kudzu.layer import Sigmoid,Relu\n",
    "from kudzu.layer import Affine"
   ]
  },
  {
   "cell_type": "markdown",
   "id": "bc01172a",
   "metadata": {
    "papermill": {
     "duration": 0.026452,
     "end_time": "2022-08-23T10:10:43.102183",
     "exception": false,
     "start_time": "2022-08-23T10:10:43.075731",
     "status": "completed"
    },
    "tags": []
   },
   "source": [
    "### Let us create a `Config` class, to store important parameters. \n",
    "This class essentially plays the role of a dictionary."
   ]
  },
  {
   "cell_type": "code",
   "execution_count": 16,
   "id": "978281aa",
   "metadata": {
    "execution": {
     "iopub.execute_input": "2022-08-23T10:10:43.158973Z",
     "iopub.status.busy": "2022-08-23T10:10:43.158356Z",
     "iopub.status.idle": "2022-08-23T10:10:43.172075Z",
     "shell.execute_reply": "2022-08-23T10:10:43.171601Z"
    },
    "papermill": {
     "duration": 0.043629,
     "end_time": "2022-08-23T10:10:43.172182",
     "exception": false,
     "start_time": "2022-08-23T10:10:43.128553",
     "status": "completed"
    },
    "tags": []
   },
   "outputs": [],
   "source": [
    "class Config:\n",
    "    pass\n",
    "config = Config()\n",
    "config.lr = 0.001\n",
    "config.num_epochs = 250\n",
    "config.bs = 50"
   ]
  },
  {
   "cell_type": "markdown",
   "id": "1385fa59",
   "metadata": {
    "papermill": {
     "duration": 0.026239,
     "end_time": "2022-08-23T10:10:43.224794",
     "exception": false,
     "start_time": "2022-08-23T10:10:43.198555",
     "status": "completed"
    },
    "tags": []
   },
   "source": [
    "### Running Models with the Training data\n",
    "Details about the network layers:\n",
    "- A first affine layer has 784 inputs and does 100 affine transforms. These are followed by a Relu\n",
    "- A second affine layer has 100 inputs from the 100 activations of the past layer, and does 100 affine transforms. These are followed by a Relu\n",
    "- A third affine layer has 100 activations and does 2 affine transformations to create an embedding for visualization. There is no non-linearity here.\n",
    "- A final \"logistic regression\" which has an affine transform from 2 inputs to 1 output, which is squeezed through a sigmoid.\n"
   ]
  },
  {
   "cell_type": "code",
   "execution_count": 17,
   "id": "2b9c66db",
   "metadata": {
    "execution": {
     "iopub.execute_input": "2022-08-23T10:10:43.281355Z",
     "iopub.status.busy": "2022-08-23T10:10:43.280766Z",
     "iopub.status.idle": "2022-08-23T10:10:43.293542Z",
     "shell.execute_reply": "2022-08-23T10:10:43.294022Z"
    },
    "papermill": {
     "duration": 0.042996,
     "end_time": "2022-08-23T10:10:43.294142",
     "exception": false,
     "start_time": "2022-08-23T10:10:43.251146",
     "status": "completed"
    },
    "tags": []
   },
   "outputs": [],
   "source": [
    "data = Data(X_train, y_train.reshape(-1,1))\n",
    "sampler = Sampler(data, config.bs, shuffle=True)\n",
    "\n",
    "dl = Dataloader(data, sampler)\n",
    "\n",
    "opt = GD(config.lr)\n",
    "loss = MSE()"
   ]
  },
  {
   "cell_type": "code",
   "execution_count": 18,
   "id": "b275e4c2",
   "metadata": {
    "execution": {
     "iopub.execute_input": "2022-08-23T10:10:43.353782Z",
     "iopub.status.busy": "2022-08-23T10:10:43.353187Z",
     "iopub.status.idle": "2022-08-23T10:10:43.363993Z",
     "shell.execute_reply": "2022-08-23T10:10:43.363514Z"
    },
    "papermill": {
     "duration": 0.0435,
     "end_time": "2022-08-23T10:10:43.364101",
     "exception": false,
     "start_time": "2022-08-23T10:10:43.320601",
     "status": "completed"
    },
    "tags": []
   },
   "outputs": [],
   "source": [
    "training_data_x = X_train\n",
    "testing_data_x = X_test\n",
    "training_data_y = y_train.reshape(-1,1)\n",
    "testing_data_y = y_test.reshape(-1,1)"
   ]
  },
  {
   "cell_type": "code",
   "execution_count": 19,
   "id": "76951160",
   "metadata": {
    "execution": {
     "iopub.execute_input": "2022-08-23T10:10:43.420966Z",
     "iopub.status.busy": "2022-08-23T10:10:43.420371Z",
     "iopub.status.idle": "2022-08-23T10:10:43.436801Z",
     "shell.execute_reply": "2022-08-23T10:10:43.436232Z"
    },
    "papermill": {
     "duration": 0.046484,
     "end_time": "2022-08-23T10:10:43.436906",
     "exception": false,
     "start_time": "2022-08-23T10:10:43.390422",
     "status": "completed"
    },
    "tags": []
   },
   "outputs": [
    {
     "name": "stdout",
     "output_type": "stream",
     "text": [
      "xavier\n",
      "xavier\n",
      "xavier\n",
      "xavier\n",
      "xavier\n"
     ]
    }
   ],
   "source": [
    "layers = [Affine(\"first\", 784, 100), Relu(\"first\"), Affine(\"second\", 100, 100), Relu(\"second\"), Affine(\"third\", 100, 2), Affine(\"last\", 2, 1), Sigmoid(\"last\")]\n",
    "model_nn = Model(layers)\n",
    "model_lr = Model([Affine(\"logits\", 784, 1), Sigmoid(\"sigmoid\")])"
   ]
  },
  {
   "cell_type": "code",
   "execution_count": 20,
   "id": "6eede77a",
   "metadata": {
    "execution": {
     "iopub.execute_input": "2022-08-23T10:10:43.500215Z",
     "iopub.status.busy": "2022-08-23T10:10:43.499554Z",
     "iopub.status.idle": "2022-08-23T10:10:43.508421Z",
     "shell.execute_reply": "2022-08-23T10:10:43.507945Z"
    },
    "papermill": {
     "duration": 0.04483,
     "end_time": "2022-08-23T10:10:43.508524",
     "exception": false,
     "start_time": "2022-08-23T10:10:43.463694",
     "status": "completed"
    },
    "tags": []
   },
   "outputs": [],
   "source": [
    "nn_learner = Learner(loss, model_nn, opt, config.num_epochs)\n",
    "acc_nn = ClfCallback(nn_learner, config.bs, training_data_x , testing_data_x, training_data_y, testing_data_y)\n",
    "nn_learner.set_callbacks([acc_nn])"
   ]
  },
  {
   "cell_type": "code",
   "execution_count": 21,
   "id": "877b6cc7",
   "metadata": {
    "execution": {
     "iopub.execute_input": "2022-08-23T10:10:43.565375Z",
     "iopub.status.busy": "2022-08-23T10:10:43.564796Z",
     "iopub.status.idle": "2022-08-23T10:10:43.578278Z",
     "shell.execute_reply": "2022-08-23T10:10:43.577807Z"
    },
    "papermill": {
     "duration": 0.04319,
     "end_time": "2022-08-23T10:10:43.578380",
     "exception": false,
     "start_time": "2022-08-23T10:10:43.535190",
     "status": "completed"
    },
    "tags": []
   },
   "outputs": [],
   "source": [
    "lr_learner = Learner(loss, model_lr, opt, config.num_epochs)\n",
    "acc_lr = ClfCallback(lr_learner, config.bs, training_data_x , testing_data_x, training_data_y, testing_data_y)\n",
    "lr_learner.set_callbacks([acc_lr])"
   ]
  },
  {
   "cell_type": "code",
   "execution_count": 22,
   "id": "d9b133c3",
   "metadata": {
    "execution": {
     "iopub.execute_input": "2022-08-23T10:10:43.635221Z",
     "iopub.status.busy": "2022-08-23T10:10:43.634558Z",
     "iopub.status.idle": "2022-08-23T10:11:58.669309Z",
     "shell.execute_reply": "2022-08-23T10:11:58.670172Z"
    },
    "papermill": {
     "duration": 75.065213,
     "end_time": "2022-08-23T10:11:58.670336",
     "exception": false,
     "start_time": "2022-08-23T10:10:43.605123",
     "status": "completed"
    },
    "tags": []
   },
   "outputs": [
    {
     "name": "stdout",
     "output_type": "stream",
     "text": [
      "Epoch 0, Loss 0.2404\n",
      "Training Accuracy: 0.6795, Testing Accuracy: 0.7036\n",
      "\n"
     ]
    },
    {
     "name": "stdout",
     "output_type": "stream",
     "text": [
      "Epoch 10, Loss 0.0792\n",
      "Training Accuracy: 0.9223, Testing Accuracy: 0.9330\n",
      "\n"
     ]
    },
    {
     "name": "stdout",
     "output_type": "stream",
     "text": [
      "Epoch 20, Loss 0.0518\n",
      "Training Accuracy: 0.9435, Testing Accuracy: 0.9476\n",
      "\n"
     ]
    },
    {
     "name": "stdout",
     "output_type": "stream",
     "text": [
      "Epoch 30, Loss 0.042\n",
      "Training Accuracy: 0.9531, Testing Accuracy: 0.9577\n",
      "\n"
     ]
    },
    {
     "name": "stdout",
     "output_type": "stream",
     "text": [
      "Epoch 40, Loss 0.0369\n",
      "Training Accuracy: 0.9583, Testing Accuracy: 0.9612\n",
      "\n"
     ]
    },
    {
     "name": "stdout",
     "output_type": "stream",
     "text": [
      "Epoch 50, Loss 0.0337\n",
      "Training Accuracy: 0.9607, Testing Accuracy: 0.9647\n",
      "\n"
     ]
    },
    {
     "name": "stdout",
     "output_type": "stream",
     "text": [
      "Epoch 60, Loss 0.0313\n",
      "Training Accuracy: 0.9635, Testing Accuracy: 0.9667\n",
      "\n"
     ]
    },
    {
     "name": "stdout",
     "output_type": "stream",
     "text": [
      "Epoch 70, Loss 0.0296\n",
      "Training Accuracy: 0.9654, Testing Accuracy: 0.9677\n",
      "\n"
     ]
    },
    {
     "name": "stdout",
     "output_type": "stream",
     "text": [
      "Epoch 80, Loss 0.0281\n",
      "Training Accuracy: 0.9670, Testing Accuracy: 0.9688\n",
      "\n"
     ]
    },
    {
     "name": "stdout",
     "output_type": "stream",
     "text": [
      "Epoch 90, Loss 0.0269\n",
      "Training Accuracy: 0.9682, Testing Accuracy: 0.9693\n",
      "\n"
     ]
    },
    {
     "name": "stdout",
     "output_type": "stream",
     "text": [
      "Epoch 100, Loss 0.0259\n",
      "Training Accuracy: 0.9700, Testing Accuracy: 0.9693\n",
      "\n"
     ]
    },
    {
     "name": "stdout",
     "output_type": "stream",
     "text": [
      "Epoch 110, Loss 0.025\n",
      "Training Accuracy: 0.9705, Testing Accuracy: 0.9693\n",
      "\n"
     ]
    },
    {
     "name": "stdout",
     "output_type": "stream",
     "text": [
      "Epoch 120, Loss 0.0242\n",
      "Training Accuracy: 0.9717, Testing Accuracy: 0.9698\n",
      "\n"
     ]
    },
    {
     "name": "stdout",
     "output_type": "stream",
     "text": [
      "Epoch 130, Loss 0.0234\n",
      "Training Accuracy: 0.9723, Testing Accuracy: 0.9698\n",
      "\n"
     ]
    },
    {
     "name": "stdout",
     "output_type": "stream",
     "text": [
      "Epoch 140, Loss 0.0227\n",
      "Training Accuracy: 0.9731, Testing Accuracy: 0.9708\n",
      "\n"
     ]
    },
    {
     "name": "stdout",
     "output_type": "stream",
     "text": [
      "Epoch 150, Loss 0.0221\n",
      "Training Accuracy: 0.9744, Testing Accuracy: 0.9713\n",
      "\n"
     ]
    },
    {
     "name": "stdout",
     "output_type": "stream",
     "text": [
      "Epoch 160, Loss 0.0215\n",
      "Training Accuracy: 0.9753, Testing Accuracy: 0.9713\n",
      "\n"
     ]
    },
    {
     "name": "stdout",
     "output_type": "stream",
     "text": [
      "Epoch 170, Loss 0.021\n",
      "Training Accuracy: 0.9763, Testing Accuracy: 0.9728\n",
      "\n"
     ]
    },
    {
     "name": "stdout",
     "output_type": "stream",
     "text": [
      "Epoch 180, Loss 0.0204\n",
      "Training Accuracy: 0.9769, Testing Accuracy: 0.9733\n",
      "\n"
     ]
    },
    {
     "name": "stdout",
     "output_type": "stream",
     "text": [
      "Epoch 190, Loss 0.02\n",
      "Training Accuracy: 0.9771, Testing Accuracy: 0.9728\n",
      "\n"
     ]
    },
    {
     "name": "stdout",
     "output_type": "stream",
     "text": [
      "Epoch 200, Loss 0.0195\n",
      "Training Accuracy: 0.9781, Testing Accuracy: 0.9728\n",
      "\n"
     ]
    },
    {
     "name": "stdout",
     "output_type": "stream",
     "text": [
      "Epoch 210, Loss 0.019\n",
      "Training Accuracy: 0.9788, Testing Accuracy: 0.9733\n",
      "\n"
     ]
    },
    {
     "name": "stdout",
     "output_type": "stream",
     "text": [
      "Epoch 220, Loss 0.0186\n",
      "Training Accuracy: 0.9795, Testing Accuracy: 0.9738\n",
      "\n"
     ]
    },
    {
     "name": "stdout",
     "output_type": "stream",
     "text": [
      "Epoch 230, Loss 0.0182\n",
      "Training Accuracy: 0.9800, Testing Accuracy: 0.9738\n",
      "\n"
     ]
    },
    {
     "name": "stdout",
     "output_type": "stream",
     "text": [
      "Epoch 240, Loss 0.0178\n",
      "Training Accuracy: 0.9806, Testing Accuracy: 0.9738\n",
      "\n"
     ]
    },
    {
     "data": {
      "text/plain": [
       "0.06169379965929769"
      ]
     },
     "execution_count": 22,
     "metadata": {},
     "output_type": "execute_result"
    }
   ],
   "source": [
    "nn_learner.train_loop(dl)"
   ]
  },
  {
   "cell_type": "code",
   "execution_count": 23,
   "id": "e0163366",
   "metadata": {
    "execution": {
     "iopub.execute_input": "2022-08-23T10:11:58.748110Z",
     "iopub.status.busy": "2022-08-23T10:11:58.747493Z",
     "iopub.status.idle": "2022-08-23T10:12:12.619965Z",
     "shell.execute_reply": "2022-08-23T10:12:12.620793Z"
    },
    "papermill": {
     "duration": 13.915759,
     "end_time": "2022-08-23T10:12:12.620948",
     "exception": false,
     "start_time": "2022-08-23T10:11:58.705189",
     "status": "completed"
    },
    "tags": []
   },
   "outputs": [
    {
     "name": "stdout",
     "output_type": "stream",
     "text": [
      "Epoch 0, Loss 0.2671\n",
      "Training Accuracy: 0.5840, Testing Accuracy: 0.6280\n",
      "\n"
     ]
    },
    {
     "name": "stdout",
     "output_type": "stream",
     "text": [
      "Epoch 10, Loss 0.1043\n",
      "Training Accuracy: 0.9073, Testing Accuracy: 0.9219\n",
      "\n"
     ]
    },
    {
     "name": "stdout",
     "output_type": "stream",
     "text": [
      "Epoch 20, Loss 0.08\n",
      "Training Accuracy: 0.9263, Testing Accuracy: 0.9380\n",
      "\n"
     ]
    },
    {
     "name": "stdout",
     "output_type": "stream",
     "text": [
      "Epoch 30, Loss 0.0688\n",
      "Training Accuracy: 0.9342, Testing Accuracy: 0.9446\n",
      "\n"
     ]
    },
    {
     "name": "stdout",
     "output_type": "stream",
     "text": [
      "Epoch 40, Loss 0.0621\n",
      "Training Accuracy: 0.9409, Testing Accuracy: 0.9501\n",
      "\n"
     ]
    },
    {
     "name": "stdout",
     "output_type": "stream",
     "text": [
      "Epoch 50, Loss 0.0575\n",
      "Training Accuracy: 0.9450, Testing Accuracy: 0.9531\n",
      "\n"
     ]
    },
    {
     "name": "stdout",
     "output_type": "stream",
     "text": [
      "Epoch 60, Loss 0.0541\n",
      "Training Accuracy: 0.9469, Testing Accuracy: 0.9546\n",
      "\n"
     ]
    },
    {
     "name": "stdout",
     "output_type": "stream",
     "text": [
      "Epoch 70, Loss 0.0515\n",
      "Training Accuracy: 0.9481, Testing Accuracy: 0.9551\n",
      "\n"
     ]
    },
    {
     "name": "stdout",
     "output_type": "stream",
     "text": [
      "Epoch 80, Loss 0.0494\n",
      "Training Accuracy: 0.9498, Testing Accuracy: 0.9561\n",
      "\n"
     ]
    },
    {
     "name": "stdout",
     "output_type": "stream",
     "text": [
      "Epoch 90, Loss 0.0477\n",
      "Training Accuracy: 0.9513, Testing Accuracy: 0.9577\n",
      "\n"
     ]
    },
    {
     "name": "stdout",
     "output_type": "stream",
     "text": [
      "Epoch 100, Loss 0.0463\n",
      "Training Accuracy: 0.9529, Testing Accuracy: 0.9592\n",
      "\n"
     ]
    },
    {
     "name": "stdout",
     "output_type": "stream",
     "text": [
      "Epoch 110, Loss 0.045\n",
      "Training Accuracy: 0.9538, Testing Accuracy: 0.9602\n",
      "\n"
     ]
    },
    {
     "name": "stdout",
     "output_type": "stream",
     "text": [
      "Epoch 120, Loss 0.0439\n",
      "Training Accuracy: 0.9543, Testing Accuracy: 0.9617\n",
      "\n"
     ]
    },
    {
     "name": "stdout",
     "output_type": "stream",
     "text": [
      "Epoch 130, Loss 0.043\n",
      "Training Accuracy: 0.9551, Testing Accuracy: 0.9627\n",
      "\n"
     ]
    },
    {
     "name": "stdout",
     "output_type": "stream",
     "text": [
      "Epoch 140, Loss 0.0422\n",
      "Training Accuracy: 0.9557, Testing Accuracy: 0.9637\n",
      "\n"
     ]
    },
    {
     "name": "stdout",
     "output_type": "stream",
     "text": [
      "Epoch 150, Loss 0.0414\n",
      "Training Accuracy: 0.9567, Testing Accuracy: 0.9652\n",
      "\n"
     ]
    },
    {
     "name": "stdout",
     "output_type": "stream",
     "text": [
      "Epoch 160, Loss 0.0407\n",
      "Training Accuracy: 0.9577, Testing Accuracy: 0.9662\n",
      "\n"
     ]
    },
    {
     "name": "stdout",
     "output_type": "stream",
     "text": [
      "Epoch 170, Loss 0.0401\n",
      "Training Accuracy: 0.9581, Testing Accuracy: 0.9672\n",
      "\n"
     ]
    },
    {
     "name": "stdout",
     "output_type": "stream",
     "text": [
      "Epoch 180, Loss 0.0395\n",
      "Training Accuracy: 0.9585, Testing Accuracy: 0.9672\n",
      "\n"
     ]
    },
    {
     "name": "stdout",
     "output_type": "stream",
     "text": [
      "Epoch 190, Loss 0.039\n",
      "Training Accuracy: 0.9583, Testing Accuracy: 0.9672\n",
      "\n"
     ]
    },
    {
     "name": "stdout",
     "output_type": "stream",
     "text": [
      "Epoch 200, Loss 0.0385\n",
      "Training Accuracy: 0.9590, Testing Accuracy: 0.9662\n",
      "\n"
     ]
    },
    {
     "name": "stdout",
     "output_type": "stream",
     "text": [
      "Epoch 210, Loss 0.0381\n",
      "Training Accuracy: 0.9593, Testing Accuracy: 0.9667\n",
      "\n"
     ]
    },
    {
     "name": "stdout",
     "output_type": "stream",
     "text": [
      "Epoch 220, Loss 0.0377\n",
      "Training Accuracy: 0.9595, Testing Accuracy: 0.9662\n",
      "\n"
     ]
    },
    {
     "name": "stdout",
     "output_type": "stream",
     "text": [
      "Epoch 230, Loss 0.0373\n",
      "Training Accuracy: 0.9597, Testing Accuracy: 0.9662\n",
      "\n"
     ]
    },
    {
     "name": "stdout",
     "output_type": "stream",
     "text": [
      "Epoch 240, Loss 0.0369\n",
      "Training Accuracy: 0.9604, Testing Accuracy: 0.9662\n",
      "\n"
     ]
    },
    {
     "data": {
      "text/plain": [
       "0.05157069521303617"
      ]
     },
     "execution_count": 23,
     "metadata": {},
     "output_type": "execute_result"
    }
   ],
   "source": [
    "lr_learner.train_loop(dl)"
   ]
  },
  {
   "cell_type": "code",
   "execution_count": 24,
   "id": "ca410940",
   "metadata": {
    "execution": {
     "iopub.execute_input": "2022-08-23T10:12:12.717978Z",
     "iopub.status.busy": "2022-08-23T10:12:12.717334Z",
     "iopub.status.idle": "2022-08-23T10:12:12.950509Z",
     "shell.execute_reply": "2022-08-23T10:12:12.950995Z"
    },
    "papermill": {
     "duration": 0.287988,
     "end_time": "2022-08-23T10:12:12.951149",
     "exception": false,
     "start_time": "2022-08-23T10:12:12.663161",
     "status": "completed"
    },
    "tags": []
   },
   "outputs": [
    {
     "data": {
      "text/plain": [
       "<matplotlib.legend.Legend at 0x7f2af8dbbdd8>"
      ]
     },
     "execution_count": 24,
     "metadata": {},
     "output_type": "execute_result"
    },
    {
     "data": {
      "image/png": "[encoded data removed]",
      "text/plain": [
       "<Figure size 1080x720 with 1 Axes>"
      ]
     },
     "metadata": {
      "needs_background": "light"
     },
     "output_type": "display_data"
    }
   ],
   "source": [
    "#comparing the results of NN and LR\n",
    "plt.figure(figsize=(15,10))\n",
    "\n",
    "# Neural Network plots\n",
    "plt.plot(acc_nn.accuracies, 'r-', label = \"Training Accuracies - NN\")\n",
    "plt.plot(acc_nn.test_accuracies, 'g-', label = \"Testing Accuracies - NN\")\n",
    "\n",
    "# Logistic Regression plots\n",
    "plt.plot(acc_lr.accuracies, 'k-', label = \"Training Accuracies - LR\")\n",
    "plt.plot(acc_lr.test_accuracies, 'b-', label = \"Testing Accuracies - LR\")\n",
    "plt.legend()"
   ]
  },
  {
   "cell_type": "markdown",
   "id": "80dfb35c",
   "metadata": {
    "papermill": {
     "duration": 0.041936,
     "end_time": "2022-08-23T10:12:13.035156",
     "exception": false,
     "start_time": "2022-08-23T10:12:12.993220",
     "status": "completed"
    },
    "tags": []
   },
   "source": [
    "#### Plotting the outputs of this layer of the NN.\n"
   ]
  },
  {
   "cell_type": "code",
   "execution_count": 25,
   "id": "45eb2ff5",
   "metadata": {
    "execution": {
     "iopub.execute_input": "2022-08-23T10:12:13.123756Z",
     "iopub.status.busy": "2022-08-23T10:12:13.123104Z",
     "iopub.status.idle": "2022-08-23T10:12:13.146372Z",
     "shell.execute_reply": "2022-08-23T10:12:13.147302Z"
    },
    "papermill": {
     "duration": 0.07068,
     "end_time": "2022-08-23T10:12:13.147478",
     "exception": false,
     "start_time": "2022-08-23T10:12:13.076798",
     "status": "completed"
    },
    "tags": []
   },
   "outputs": [],
   "source": [
    "new_model = Model(layers[:-2])\n",
    "testing_plot = new_model(testing_data_x)"
   ]
  },
  {
   "cell_type": "code",
   "execution_count": 26,
   "id": "4c0a5485",
   "metadata": {
    "execution": {
     "iopub.execute_input": "2022-08-23T10:12:13.247230Z",
     "iopub.status.busy": "2022-08-23T10:12:13.246508Z",
     "iopub.status.idle": "2022-08-23T10:12:13.430400Z",
     "shell.execute_reply": "2022-08-23T10:12:13.429762Z"
    },
    "papermill": {
     "duration": 0.238271,
     "end_time": "2022-08-23T10:12:13.430534",
     "exception": false,
     "start_time": "2022-08-23T10:12:13.192263",
     "status": "completed"
    },
    "tags": []
   },
   "outputs": [
    {
     "data": {
      "text/plain": [
       "Text(0.5, 1.0, 'Outputs')"
      ]
     },
     "execution_count": 26,
     "metadata": {},
     "output_type": "execute_result"
    },
    {
     "data": {
      "image/png": "[encoded data removed]",
      "text/plain": [
       "<Figure size 576x504 with 1 Axes>"
      ]
     },
     "metadata": {
      "needs_background": "light"
     },
     "output_type": "display_data"
    }
   ],
   "source": [
    "# Plotting the scatter plot of points and color coding by class\n",
    "plt.figure(figsize=(8,7))\n",
    "plt.scatter(testing_plot[:,0], testing_plot[:,1], alpha = 0.1, c = y_test.ravel());\n",
    "plt.title('Outputs')"
   ]
  },
  {
   "cell_type": "markdown",
   "id": "a74fcf8f",
   "metadata": {
    "papermill": {
     "duration": 0.04366,
     "end_time": "2022-08-23T10:12:13.518292",
     "exception": false,
     "start_time": "2022-08-23T10:12:13.474632",
     "status": "completed"
    },
    "tags": []
   },
   "source": [
    "Probability contours"
   ]
  },
  {
   "cell_type": "code",
   "execution_count": 27,
   "id": "d0afc8e3",
   "metadata": {
    "execution": {
     "iopub.execute_input": "2022-08-23T10:12:13.650283Z",
     "iopub.status.busy": "2022-08-23T10:12:13.649674Z",
     "iopub.status.idle": "2022-08-23T10:12:13.659573Z",
     "shell.execute_reply": "2022-08-23T10:12:13.659081Z"
    },
    "papermill": {
     "duration": 0.097559,
     "end_time": "2022-08-23T10:12:13.659691",
     "exception": false,
     "start_time": "2022-08-23T10:12:13.562132",
     "status": "completed"
    },
    "tags": []
   },
   "outputs": [],
   "source": [
    "model_prob = Model(layers[-2:]) "
   ]
  },
  {
   "cell_type": "code",
   "execution_count": 28,
   "id": "9b96e238",
   "metadata": {
    "execution": {
     "iopub.execute_input": "2022-08-23T10:12:13.763553Z",
     "iopub.status.busy": "2022-08-23T10:12:13.760441Z",
     "iopub.status.idle": "2022-08-23T10:12:13.769278Z",
     "shell.execute_reply": "2022-08-23T10:12:13.769705Z"
    },
    "papermill": {
     "duration": 0.066422,
     "end_time": "2022-08-23T10:12:13.769855",
     "exception": false,
     "start_time": "2022-08-23T10:12:13.703433",
     "status": "completed"
    },
    "tags": []
   },
   "outputs": [],
   "source": [
    "#creating the x and y ranges according to the above generated plot.\n",
    "x_range = np.linspace(-4, 1, 100) \n",
    "y_range = np.linspace(-6, 6, 100) \n",
    "x_grid, y_grid = np.meshgrid(x_range, y_range) # x_grid and y_grig are of size 100 X 100\n",
    "\n",
    "# converting x_grid and y_grid to continuous arrays\n",
    "x_gridflat = np.ravel(x_grid)\n",
    "y_gridflat = np.ravel(y_grid)\n",
    "\n",
    "# The last layer of the current model takes two columns as input. Hence transpose of np.vstack() is required.\n",
    "X = np.vstack((x_gridflat, y_gridflat)).T\n",
    "\n",
    "prob_contour = model_prob(X).reshape(100,100) "
   ]
  },
  {
   "cell_type": "code",
   "execution_count": 29,
   "id": "da72499a",
   "metadata": {
    "execution": {
     "iopub.execute_input": "2022-08-23T10:12:13.869637Z",
     "iopub.status.busy": "2022-08-23T10:12:13.868979Z",
     "iopub.status.idle": "2022-08-23T10:12:14.110951Z",
     "shell.execute_reply": "2022-08-23T10:12:14.111487Z"
    },
    "papermill": {
     "duration": 0.291964,
     "end_time": "2022-08-23T10:12:14.111650",
     "exception": false,
     "start_time": "2022-08-23T10:12:13.819686",
     "status": "completed"
    },
    "tags": []
   },
   "outputs": [
    {
     "data": {
      "image/png": "[encoded data removed]",
      "text/plain": [
       "<Figure size 720x648 with 1 Axes>"
      ]
     },
     "metadata": {
      "needs_background": "light"
     },
     "output_type": "display_data"
    }
   ],
   "source": [
    "plt.figure(figsize=(10,9))\n",
    "plt.scatter(testing_plot[:,0], testing_plot[:,1], alpha = 0.1, c = y_test.ravel())\n",
    "contours = plt.contour(x_grid,y_grid,prob_contour)\n",
    "plt.title('Probability Contours')\n",
    "plt.clabel(contours, inline = True );"
   ]
  },
  {
   "cell_type": "code",
   "execution_count": null,
   "id": "e81b4ac7",
   "metadata": {
    "papermill": {
     "duration": 0.046064,
     "end_time": "2022-08-23T10:12:14.205098",
     "exception": false,
     "start_time": "2022-08-23T10:12:14.159034",
     "status": "completed"
    },
    "tags": []
   },
   "outputs": [],
   "source": []
  }
 ],
 "metadata": {
  "kernelspec": {
   "display_name": "Python 3",
   "language": "python",
   "name": "python3"
  },
  "language_info": {
   "codemirror_mode": {
    "name": "ipython",
    "version": 3
   },
   "file_extension": ".py",
   "mimetype": "text/x-python",
   "name": "python",
   "nbconvert_exporter": "python",
   "pygments_lexer": "ipython3",
   "version": "3.6.15"
  },
  "papermill": {
   "default_parameters": {},
   "duration": 97.075383,
   "end_time": "2022-08-23T10:12:14.670833",
   "environment_variables": {},
   "exception": null,
   "input_path": "2020-08-11-part2.ipynb",
   "output_path": "2020-08-11-part2.ipynb",
   "parameters": {},
   "start_time": "2022-08-23T10:10:37.595450",
   "version": "2.3.3"
  }
 },
 "nbformat": 4,
 "nbformat_minor": 5
}