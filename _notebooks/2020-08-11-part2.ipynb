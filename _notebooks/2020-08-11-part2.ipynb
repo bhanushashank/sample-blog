{
 "cells": [
  {
   "cell_type": "markdown",
   "id": "98380cd3",
   "metadata": {
    "papermill": {
     "duration": 0.029682,
     "end_time": "2022-06-24T10:09:27.767075",
     "exception": false,
     "start_time": "2022-06-24T10:09:27.737393",
     "status": "completed"
    },
    "tags": []
   },
   "source": [
    "# Distinguish Your Own Digits (DYOD)"
   ]
  },
  {
   "cell_type": "markdown",
   "id": "ef31240d",
   "metadata": {
    "papermill": {
     "duration": 0.02357,
     "end_time": "2022-06-24T10:09:27.815360",
     "exception": false,
     "start_time": "2022-06-24T10:09:27.791790",
     "status": "completed"
    },
    "tags": []
   },
   "source": [
    "You are going to write a classifier that distinguishes between the number 3 and number 8."
   ]
  },
  {
   "cell_type": "code",
   "execution_count": 1,
   "id": "b15c8646",
   "metadata": {
    "execution": {
     "iopub.execute_input": "2022-06-24T10:09:27.875462Z",
     "iopub.status.busy": "2022-06-24T10:09:27.872326Z",
     "iopub.status.idle": "2022-06-24T10:09:27.886603Z",
     "shell.execute_reply": "2022-06-24T10:09:27.886107Z"
    },
    "papermill": {
     "duration": 0.045817,
     "end_time": "2022-06-24T10:09:27.886722",
     "exception": false,
     "start_time": "2022-06-24T10:09:27.840905",
     "status": "completed"
    },
    "tags": []
   },
   "outputs": [],
   "source": [
    "%load_ext autoreload\n",
    "%autoreload 2"
   ]
  },
  {
   "cell_type": "code",
   "execution_count": 2,
   "id": "22ef38dc",
   "metadata": {
    "execution": {
     "iopub.execute_input": "2022-06-24T10:09:27.937598Z",
     "iopub.status.busy": "2022-06-24T10:09:27.937016Z",
     "iopub.status.idle": "2022-06-24T10:09:28.467356Z",
     "shell.execute_reply": "2022-06-24T10:09:28.466771Z"
    },
    "papermill": {
     "duration": 0.557193,
     "end_time": "2022-06-24T10:09:28.467502",
     "exception": false,
     "start_time": "2022-06-24T10:09:27.910309",
     "status": "completed"
    },
    "tags": []
   },
   "outputs": [],
   "source": [
    "%matplotlib inline\n",
    "import numpy as np\n",
    "import matplotlib.pyplot as plt\n",
    "import pandas as pd"
   ]
  },
  {
   "cell_type": "markdown",
   "id": "ba036198",
   "metadata": {
    "papermill": {
     "duration": 0.023766,
     "end_time": "2022-06-24T10:09:28.515704",
     "exception": false,
     "start_time": "2022-06-24T10:09:28.491938",
     "status": "completed"
    },
    "tags": []
   },
   "source": [
    "From the command line run `pip install mnist`. This is a library that will help you bring down the mnist dataset. If you run this from a notebook, you need to put  `!pip install mnist` in a cell by itself."
   ]
  },
  {
   "cell_type": "code",
   "execution_count": 3,
   "id": "bb6ad8a1",
   "metadata": {
    "execution": {
     "iopub.execute_input": "2022-06-24T10:09:28.567158Z",
     "iopub.status.busy": "2022-06-24T10:09:28.566580Z",
     "iopub.status.idle": "2022-06-24T10:09:30.452821Z",
     "shell.execute_reply": "2022-06-24T10:09:30.452179Z"
    },
    "papermill": {
     "duration": 1.91362,
     "end_time": "2022-06-24T10:09:30.452952",
     "exception": false,
     "start_time": "2022-06-24T10:09:28.539332",
     "status": "completed"
    },
    "tags": []
   },
   "outputs": [
    {
     "name": "stdout",
     "output_type": "stream",
     "text": [
      "Collecting mnist\r\n"
     ]
    },
    {
     "name": "stdout",
     "output_type": "stream",
     "text": [
      "  Downloading mnist-0.2.2-py2.py3-none-any.whl (3.5 kB)\r\n",
      "Requirement already satisfied: numpy in /opt/hostedtoolcache/Python/3.6.15/x64/lib/python3.6/site-packages (from mnist) (1.19.5)\r\n"
     ]
    },
    {
     "name": "stdout",
     "output_type": "stream",
     "text": [
      "Installing collected packages: mnist\r\n",
      "Successfully installed mnist-0.2.2\r\n"
     ]
    }
   ],
   "source": [
    "!pip install mnist"
   ]
  },
  {
   "cell_type": "markdown",
   "id": "69df9c9a",
   "metadata": {
    "papermill": {
     "duration": 0.024329,
     "end_time": "2022-06-24T10:09:30.502005",
     "exception": false,
     "start_time": "2022-06-24T10:09:30.477676",
     "status": "completed"
    },
    "tags": []
   },
   "source": [
    "## Preparing the Data"
   ]
  },
  {
   "cell_type": "code",
   "execution_count": 4,
   "id": "7f69d806",
   "metadata": {
    "execution": {
     "iopub.execute_input": "2022-06-24T10:09:30.554327Z",
     "iopub.status.busy": "2022-06-24T10:09:30.553742Z",
     "iopub.status.idle": "2022-06-24T10:09:30.568736Z",
     "shell.execute_reply": "2022-06-24T10:09:30.568256Z"
    },
    "papermill": {
     "duration": 0.042687,
     "end_time": "2022-06-24T10:09:30.568851",
     "exception": false,
     "start_time": "2022-06-24T10:09:30.526164",
     "status": "completed"
    },
    "tags": []
   },
   "outputs": [],
   "source": [
    "import mnist"
   ]
  },
  {
   "cell_type": "code",
   "execution_count": 5,
   "id": "a411e44f",
   "metadata": {
    "execution": {
     "iopub.execute_input": "2022-06-24T10:09:30.620807Z",
     "iopub.status.busy": "2022-06-24T10:09:30.620215Z",
     "iopub.status.idle": "2022-06-24T10:09:31.233880Z",
     "shell.execute_reply": "2022-06-24T10:09:31.233331Z"
    },
    "papermill": {
     "duration": 0.640844,
     "end_time": "2022-06-24T10:09:31.234007",
     "exception": false,
     "start_time": "2022-06-24T10:09:30.593163",
     "status": "completed"
    },
    "tags": []
   },
   "outputs": [],
   "source": [
    "train_images = mnist.train_images()\n",
    "train_labels = mnist.train_labels()"
   ]
  },
  {
   "cell_type": "code",
   "execution_count": 6,
   "id": "dceab3a5",
   "metadata": {
    "execution": {
     "iopub.execute_input": "2022-06-24T10:09:31.294153Z",
     "iopub.status.busy": "2022-06-24T10:09:31.293557Z",
     "iopub.status.idle": "2022-06-24T10:09:31.304619Z",
     "shell.execute_reply": "2022-06-24T10:09:31.304140Z"
    },
    "papermill": {
     "duration": 0.045359,
     "end_time": "2022-06-24T10:09:31.304730",
     "exception": false,
     "start_time": "2022-06-24T10:09:31.259371",
     "status": "completed"
    },
    "tags": []
   },
   "outputs": [
    {
     "data": {
      "text/plain": [
       "((60000, 28, 28), (60000,))"
      ]
     },
     "execution_count": 6,
     "metadata": {},
     "output_type": "execute_result"
    }
   ],
   "source": [
    "train_images.shape, train_labels.shape"
   ]
  },
  {
   "cell_type": "code",
   "execution_count": 7,
   "id": "f50dc2bb",
   "metadata": {
    "execution": {
     "iopub.execute_input": "2022-06-24T10:09:31.364636Z",
     "iopub.status.busy": "2022-06-24T10:09:31.356696Z",
     "iopub.status.idle": "2022-06-24T10:09:31.558118Z",
     "shell.execute_reply": "2022-06-24T10:09:31.557572Z"
    },
    "papermill": {
     "duration": 0.228862,
     "end_time": "2022-06-24T10:09:31.558242",
     "exception": false,
     "start_time": "2022-06-24T10:09:31.329380",
     "status": "completed"
    },
    "tags": []
   },
   "outputs": [],
   "source": [
    "test_images = mnist.test_images()\n",
    "test_labels = mnist.test_labels()"
   ]
  },
  {
   "cell_type": "code",
   "execution_count": 8,
   "id": "fc38cf1b",
   "metadata": {
    "execution": {
     "iopub.execute_input": "2022-06-24T10:09:31.620552Z",
     "iopub.status.busy": "2022-06-24T10:09:31.619943Z",
     "iopub.status.idle": "2022-06-24T10:09:31.628785Z",
     "shell.execute_reply": "2022-06-24T10:09:31.628304Z"
    },
    "papermill": {
     "duration": 0.04557,
     "end_time": "2022-06-24T10:09:31.628897",
     "exception": false,
     "start_time": "2022-06-24T10:09:31.583327",
     "status": "completed"
    },
    "tags": []
   },
   "outputs": [
    {
     "data": {
      "text/plain": [
       "((10000, 28, 28), (10000,))"
      ]
     },
     "execution_count": 8,
     "metadata": {},
     "output_type": "execute_result"
    }
   ],
   "source": [
    "test_images.shape, test_labels.shape"
   ]
  },
  {
   "cell_type": "code",
   "execution_count": 9,
   "id": "f9ed8fe0",
   "metadata": {
    "execution": {
     "iopub.execute_input": "2022-06-24T10:09:31.684423Z",
     "iopub.status.busy": "2022-06-24T10:09:31.681564Z",
     "iopub.status.idle": "2022-06-24T10:09:31.820766Z",
     "shell.execute_reply": "2022-06-24T10:09:31.821291Z"
    },
    "papermill": {
     "duration": 0.16776,
     "end_time": "2022-06-24T10:09:31.821452",
     "exception": false,
     "start_time": "2022-06-24T10:09:31.653692",
     "status": "completed"
    },
    "tags": []
   },
   "outputs": [
    {
     "name": "stdout",
     "output_type": "stream",
     "text": [
      "2\n"
     ]
    },
    {
     "data": {
      "text/plain": [
       "<matplotlib.image.AxesImage at 0x7f12560e8320>"
      ]
     },
     "execution_count": 9,
     "metadata": {},
     "output_type": "execute_result"
    },
    {
     "data": {
      "image/png": "[encoded data removed]",
      "text/plain": [
       "<Figure size 432x288 with 1 Axes>"
      ]
     },
     "metadata": {
      "needs_background": "light"
     },
     "output_type": "display_data"
    }
   ],
   "source": [
    "image_index = 7776 # You may select anything up to 60,000\n",
    "print(train_labels[image_index]) \n",
    "plt.imshow(train_images[image_index], cmap='Greys')"
   ]
  },
  {
   "cell_type": "markdown",
   "id": "a8d2388d",
   "metadata": {
    "papermill": {
     "duration": 0.026444,
     "end_time": "2022-06-24T10:09:31.874198",
     "exception": false,
     "start_time": "2022-06-24T10:09:31.847754",
     "status": "completed"
    },
    "tags": []
   },
   "source": [
    "## Filter data to get 3 and 8 out"
   ]
  },
  {
   "cell_type": "code",
   "execution_count": 10,
   "id": "776f7fc7",
   "metadata": {
    "execution": {
     "iopub.execute_input": "2022-06-24T10:09:31.941043Z",
     "iopub.status.busy": "2022-06-24T10:09:31.932527Z",
     "iopub.status.idle": "2022-06-24T10:09:31.950566Z",
     "shell.execute_reply": "2022-06-24T10:09:31.951022Z"
    },
    "papermill": {
     "duration": 0.051,
     "end_time": "2022-06-24T10:09:31.951161",
     "exception": false,
     "start_time": "2022-06-24T10:09:31.900161",
     "status": "completed"
    },
    "tags": []
   },
   "outputs": [],
   "source": [
    "train_filter = np.where((train_labels == 3 ) | (train_labels == 8))\n",
    "test_filter = np.where((test_labels == 3) | (test_labels == 8))\n",
    "X_train, y_train = train_images[train_filter], train_labels[train_filter]\n",
    "X_test, y_test = test_images[test_filter], test_labels[test_filter]"
   ]
  },
  {
   "cell_type": "markdown",
   "id": "948f0b7e",
   "metadata": {
    "papermill": {
     "duration": 0.027126,
     "end_time": "2022-06-24T10:09:32.004586",
     "exception": false,
     "start_time": "2022-06-24T10:09:31.977460",
     "status": "completed"
    },
    "tags": []
   },
   "source": [
    "We normalize the pizel values in the 0 to 1 range"
   ]
  },
  {
   "cell_type": "code",
   "execution_count": 11,
   "id": "ee4c2166",
   "metadata": {
    "execution": {
     "iopub.execute_input": "2022-06-24T10:09:32.065565Z",
     "iopub.status.busy": "2022-06-24T10:09:32.059803Z",
     "iopub.status.idle": "2022-06-24T10:09:32.109785Z",
     "shell.execute_reply": "2022-06-24T10:09:32.109170Z"
    },
    "papermill": {
     "duration": 0.079477,
     "end_time": "2022-06-24T10:09:32.109923",
     "exception": false,
     "start_time": "2022-06-24T10:09:32.030446",
     "status": "completed"
    },
    "tags": []
   },
   "outputs": [],
   "source": [
    "X_train = X_train/255.\n",
    "X_test = X_test/255."
   ]
  },
  {
   "cell_type": "markdown",
   "id": "ddcf4fab",
   "metadata": {
    "papermill": {
     "duration": 0.026064,
     "end_time": "2022-06-24T10:09:32.163524",
     "exception": false,
     "start_time": "2022-06-24T10:09:32.137460",
     "status": "completed"
    },
    "tags": []
   },
   "source": [
    "And setup the labels as 1 (when the digit is 3) and 0 (when the digit is 8)"
   ]
  },
  {
   "cell_type": "code",
   "execution_count": 12,
   "id": "7dc908f2",
   "metadata": {
    "execution": {
     "iopub.execute_input": "2022-06-24T10:09:32.232808Z",
     "iopub.status.busy": "2022-06-24T10:09:32.219116Z",
     "iopub.status.idle": "2022-06-24T10:09:32.236123Z",
     "shell.execute_reply": "2022-06-24T10:09:32.235597Z"
    },
    "papermill": {
     "duration": 0.046721,
     "end_time": "2022-06-24T10:09:32.236242",
     "exception": false,
     "start_time": "2022-06-24T10:09:32.189521",
     "status": "completed"
    },
    "tags": []
   },
   "outputs": [],
   "source": [
    "y_train = 1*(y_train==3)\n",
    "y_test = 1*(y_test==3)"
   ]
  },
  {
   "cell_type": "code",
   "execution_count": 13,
   "id": "01e4e969",
   "metadata": {
    "execution": {
     "iopub.execute_input": "2022-06-24T10:09:32.292972Z",
     "iopub.status.busy": "2022-06-24T10:09:32.292384Z",
     "iopub.status.idle": "2022-06-24T10:09:32.307021Z",
     "shell.execute_reply": "2022-06-24T10:09:32.306534Z"
    },
    "papermill": {
     "duration": 0.044467,
     "end_time": "2022-06-24T10:09:32.307137",
     "exception": false,
     "start_time": "2022-06-24T10:09:32.262670",
     "status": "completed"
    },
    "tags": []
   },
   "outputs": [
    {
     "data": {
      "text/plain": [
       "((11982, 28, 28), (1984, 28, 28))"
      ]
     },
     "execution_count": 13,
     "metadata": {},
     "output_type": "execute_result"
    }
   ],
   "source": [
    "X_train.shape, X_test.shape"
   ]
  },
  {
   "cell_type": "markdown",
   "id": "5ccf3f85",
   "metadata": {
    "papermill": {
     "duration": 0.026342,
     "end_time": "2022-06-24T10:09:32.360014",
     "exception": false,
     "start_time": "2022-06-24T10:09:32.333672",
     "status": "completed"
    },
    "tags": []
   },
   "source": [
    "We reshape the data to flatten the image pixels into a set of features or co-variates:"
   ]
  },
  {
   "cell_type": "code",
   "execution_count": 14,
   "id": "5286a4a3",
   "metadata": {
    "execution": {
     "iopub.execute_input": "2022-06-24T10:09:32.428431Z",
     "iopub.status.busy": "2022-06-24T10:09:32.420508Z",
     "iopub.status.idle": "2022-06-24T10:09:32.434580Z",
     "shell.execute_reply": "2022-06-24T10:09:32.433698Z"
    },
    "papermill": {
     "duration": 0.048305,
     "end_time": "2022-06-24T10:09:32.434704",
     "exception": false,
     "start_time": "2022-06-24T10:09:32.386399",
     "status": "completed"
    },
    "tags": []
   },
   "outputs": [
    {
     "data": {
      "text/plain": [
       "((11982, 784), (1984, 784))"
      ]
     },
     "execution_count": 14,
     "metadata": {},
     "output_type": "execute_result"
    }
   ],
   "source": [
    "X_train = X_train.reshape(X_train.shape[0], -1)\n",
    "X_test = X_test.reshape(X_test.shape[0], -1)\n",
    "X_train.shape, X_test.shape"
   ]
  },
  {
   "cell_type": "code",
   "execution_count": 15,
   "id": "73c5f88a",
   "metadata": {
    "execution": {
     "iopub.execute_input": "2022-06-24T10:09:32.504439Z",
     "iopub.status.busy": "2022-06-24T10:09:32.492040Z",
     "iopub.status.idle": "2022-06-24T10:09:32.515581Z",
     "shell.execute_reply": "2022-06-24T10:09:32.516074Z"
    },
    "papermill": {
     "duration": 0.054794,
     "end_time": "2022-06-24T10:09:32.516212",
     "exception": false,
     "start_time": "2022-06-24T10:09:32.461418",
     "status": "completed"
    },
    "tags": []
   },
   "outputs": [],
   "source": [
    "#Impoting functions from 'Kudzu'\n",
    "from kudzu.model import Model\n",
    "from kudzu.train import Learner\n",
    "from kudzu.optim import GD\n",
    "from kudzu.data import Data, Sampler,Dataloader\n",
    "\n",
    "from kudzu.callbacks import AccCallback\n",
    "from kudzu.callbacks import ClfCallback\n",
    "\n",
    "from kudzu.loss import MSE\n",
    "\n",
    "from kudzu.layer import Sigmoid,Relu\n",
    "from kudzu.layer import Affine"
   ]
  },
  {
   "cell_type": "markdown",
   "id": "bc01172a",
   "metadata": {
    "papermill": {
     "duration": 0.026448,
     "end_time": "2022-06-24T10:09:32.569194",
     "exception": false,
     "start_time": "2022-06-24T10:09:32.542746",
     "status": "completed"
    },
    "tags": []
   },
   "source": [
    "### Let us create a `Config` class, to store important parameters. \n",
    "This class essentially plays the role of a dictionary."
   ]
  },
  {
   "cell_type": "code",
   "execution_count": 16,
   "id": "978281aa",
   "metadata": {
    "execution": {
     "iopub.execute_input": "2022-06-24T10:09:32.636631Z",
     "iopub.status.busy": "2022-06-24T10:09:32.625727Z",
     "iopub.status.idle": "2022-06-24T10:09:32.641506Z",
     "shell.execute_reply": "2022-06-24T10:09:32.641961Z"
    },
    "papermill": {
     "duration": 0.046513,
     "end_time": "2022-06-24T10:09:32.642094",
     "exception": false,
     "start_time": "2022-06-24T10:09:32.595581",
     "status": "completed"
    },
    "tags": []
   },
   "outputs": [],
   "source": [
    "class Config:\n",
    "    pass\n",
    "config = Config()\n",
    "config.lr = 0.001\n",
    "config.num_epochs = 250\n",
    "config.bs = 50"
   ]
  },
  {
   "cell_type": "markdown",
   "id": "1385fa59",
   "metadata": {
    "papermill": {
     "duration": 0.026339,
     "end_time": "2022-06-24T10:09:32.695119",
     "exception": false,
     "start_time": "2022-06-24T10:09:32.668780",
     "status": "completed"
    },
    "tags": []
   },
   "source": [
    "### Running Models with the Training data\n",
    "Details about the network layers:\n",
    "- A first affine layer has 784 inputs and does 100 affine transforms. These are followed by a Relu\n",
    "- A second affine layer has 100 inputs from the 100 activations of the past layer, and does 100 affine transforms. These are followed by a Relu\n",
    "- A third affine layer has 100 activations and does 2 affine transformations to create an embedding for visualization. There is no non-linearity here.\n",
    "- A final \"logistic regression\" which has an affine transform from 2 inputs to 1 output, which is squeezed through a sigmoid.\n"
   ]
  },
  {
   "cell_type": "code",
   "execution_count": 17,
   "id": "2b9c66db",
   "metadata": {
    "execution": {
     "iopub.execute_input": "2022-06-24T10:09:32.764396Z",
     "iopub.status.busy": "2022-06-24T10:09:32.756476Z",
     "iopub.status.idle": "2022-06-24T10:09:32.767592Z",
     "shell.execute_reply": "2022-06-24T10:09:32.767082Z"
    },
    "papermill": {
     "duration": 0.046264,
     "end_time": "2022-06-24T10:09:32.767728",
     "exception": false,
     "start_time": "2022-06-24T10:09:32.721464",
     "status": "completed"
    },
    "tags": []
   },
   "outputs": [],
   "source": [
    "data = Data(X_train, y_train.reshape(-1,1))\n",
    "sampler = Sampler(data, config.bs, shuffle=True)\n",
    "\n",
    "dl = Dataloader(data, sampler)\n",
    "\n",
    "opt = GD(config.lr)\n",
    "loss = MSE()"
   ]
  },
  {
   "cell_type": "code",
   "execution_count": 18,
   "id": "b275e4c2",
   "metadata": {
    "execution": {
     "iopub.execute_input": "2022-06-24T10:09:32.824465Z",
     "iopub.status.busy": "2022-06-24T10:09:32.823865Z",
     "iopub.status.idle": "2022-06-24T10:09:32.837020Z",
     "shell.execute_reply": "2022-06-24T10:09:32.836541Z"
    },
    "papermill": {
     "duration": 0.042835,
     "end_time": "2022-06-24T10:09:32.837130",
     "exception": false,
     "start_time": "2022-06-24T10:09:32.794295",
     "status": "completed"
    },
    "tags": []
   },
   "outputs": [],
   "source": [
    "training_data_x = X_train\n",
    "testing_data_x = X_test\n",
    "training_data_y = y_train.reshape(-1,1)\n",
    "testing_data_y = y_test.reshape(-1,1)"
   ]
  },
  {
   "cell_type": "code",
   "execution_count": 19,
   "id": "76951160",
   "metadata": {
    "execution": {
     "iopub.execute_input": "2022-06-24T10:09:32.909011Z",
     "iopub.status.busy": "2022-06-24T10:09:32.905187Z",
     "iopub.status.idle": "2022-06-24T10:09:32.912123Z",
     "shell.execute_reply": "2022-06-24T10:09:32.911528Z"
    },
    "papermill": {
     "duration": 0.048885,
     "end_time": "2022-06-24T10:09:32.912233",
     "exception": false,
     "start_time": "2022-06-24T10:09:32.863348",
     "status": "completed"
    },
    "tags": []
   },
   "outputs": [
    {
     "name": "stdout",
     "output_type": "stream",
     "text": [
      "xavier\n",
      "xavier\n",
      "xavier\n",
      "xavier\n",
      "xavier\n"
     ]
    }
   ],
   "source": [
    "layers = [Affine(\"first\", 784, 100), Relu(\"first\"), Affine(\"second\", 100, 100), Relu(\"second\"), Affine(\"third\", 100, 2), Affine(\"last\", 2, 1), Sigmoid(\"last\")]\n",
    "model_nn = Model(layers)\n",
    "model_lr = Model([Affine(\"logits\", 784, 1), Sigmoid(\"sigmoid\")])"
   ]
  },
  {
   "cell_type": "code",
   "execution_count": 20,
   "id": "6eede77a",
   "metadata": {
    "execution": {
     "iopub.execute_input": "2022-06-24T10:09:32.979596Z",
     "iopub.status.busy": "2022-06-24T10:09:32.972352Z",
     "iopub.status.idle": "2022-06-24T10:09:32.982228Z",
     "shell.execute_reply": "2022-06-24T10:09:32.981781Z"
    },
    "papermill": {
     "duration": 0.043436,
     "end_time": "2022-06-24T10:09:32.982334",
     "exception": false,
     "start_time": "2022-06-24T10:09:32.938898",
     "status": "completed"
    },
    "tags": []
   },
   "outputs": [],
   "source": [
    "nn_learner = Learner(loss, model_nn, opt, config.num_epochs)\n",
    "acc_nn = ClfCallback(nn_learner, config.bs, training_data_x , testing_data_x, training_data_y, testing_data_y)\n",
    "nn_learner.set_callbacks([acc_nn])"
   ]
  },
  {
   "cell_type": "code",
   "execution_count": 21,
   "id": "877b6cc7",
   "metadata": {
    "execution": {
     "iopub.execute_input": "2022-06-24T10:09:33.044938Z",
     "iopub.status.busy": "2022-06-24T10:09:33.044363Z",
     "iopub.status.idle": "2022-06-24T10:09:33.053507Z",
     "shell.execute_reply": "2022-06-24T10:09:33.053983Z"
    },
    "papermill": {
     "duration": 0.045097,
     "end_time": "2022-06-24T10:09:33.054102",
     "exception": false,
     "start_time": "2022-06-24T10:09:33.009005",
     "status": "completed"
    },
    "tags": []
   },
   "outputs": [],
   "source": [
    "lr_learner = Learner(loss, model_lr, opt, config.num_epochs)\n",
    "acc_lr = ClfCallback(lr_learner, config.bs, training_data_x , testing_data_x, training_data_y, testing_data_y)\n",
    "lr_learner.set_callbacks([acc_lr])"
   ]
  },
  {
   "cell_type": "code",
   "execution_count": 22,
   "id": "d9b133c3",
   "metadata": {
    "execution": {
     "iopub.execute_input": "2022-06-24T10:09:33.110993Z",
     "iopub.status.busy": "2022-06-24T10:09:33.110409Z",
     "iopub.status.idle": "2022-06-24T10:10:47.998954Z",
     "shell.execute_reply": "2022-06-24T10:10:47.999831Z"
    },
    "papermill": {
     "duration": 74.919151,
     "end_time": "2022-06-24T10:10:47.999992",
     "exception": false,
     "start_time": "2022-06-24T10:09:33.080841",
     "status": "completed"
    },
    "tags": []
   },
   "outputs": [
    {
     "name": "stdout",
     "output_type": "stream",
     "text": [
      "Epoch 0, Loss 0.243\n",
      "Training Accuracy: 0.7311, Testing Accuracy: 0.7193\n",
      "\n"
     ]
    },
    {
     "name": "stdout",
     "output_type": "stream",
     "text": [
      "Epoch 10, Loss 0.0726\n",
      "Training Accuracy: 0.9311, Testing Accuracy: 0.9360\n",
      "\n"
     ]
    },
    {
     "name": "stdout",
     "output_type": "stream",
     "text": [
      "Epoch 20, Loss 0.0491\n",
      "Training Accuracy: 0.9475, Testing Accuracy: 0.9541\n",
      "\n"
     ]
    },
    {
     "name": "stdout",
     "output_type": "stream",
     "text": [
      "Epoch 30, Loss 0.0406\n",
      "Training Accuracy: 0.9548, Testing Accuracy: 0.9602\n",
      "\n"
     ]
    },
    {
     "name": "stdout",
     "output_type": "stream",
     "text": [
      "Epoch 40, Loss 0.036\n",
      "Training Accuracy: 0.9585, Testing Accuracy: 0.9647\n",
      "\n"
     ]
    },
    {
     "name": "stdout",
     "output_type": "stream",
     "text": [
      "Epoch 50, Loss 0.033\n",
      "Training Accuracy: 0.9615, Testing Accuracy: 0.9677\n",
      "\n"
     ]
    },
    {
     "name": "stdout",
     "output_type": "stream",
     "text": [
      "Epoch 60, Loss 0.0309\n",
      "Training Accuracy: 0.9643, Testing Accuracy: 0.9677\n",
      "\n"
     ]
    },
    {
     "name": "stdout",
     "output_type": "stream",
     "text": [
      "Epoch 70, Loss 0.0292\n",
      "Training Accuracy: 0.9659, Testing Accuracy: 0.9703\n",
      "\n"
     ]
    },
    {
     "name": "stdout",
     "output_type": "stream",
     "text": [
      "Epoch 80, Loss 0.0279\n",
      "Training Accuracy: 0.9675, Testing Accuracy: 0.9708\n",
      "\n"
     ]
    },
    {
     "name": "stdout",
     "output_type": "stream",
     "text": [
      "Epoch 90, Loss 0.0267\n",
      "Training Accuracy: 0.9682, Testing Accuracy: 0.9713\n",
      "\n"
     ]
    },
    {
     "name": "stdout",
     "output_type": "stream",
     "text": [
      "Epoch 100, Loss 0.0257\n",
      "Training Accuracy: 0.9698, Testing Accuracy: 0.9708\n",
      "\n"
     ]
    },
    {
     "name": "stdout",
     "output_type": "stream",
     "text": [
      "Epoch 110, Loss 0.0248\n",
      "Training Accuracy: 0.9705, Testing Accuracy: 0.9713\n",
      "\n"
     ]
    },
    {
     "name": "stdout",
     "output_type": "stream",
     "text": [
      "Epoch 120, Loss 0.0241\n",
      "Training Accuracy: 0.9719, Testing Accuracy: 0.9708\n",
      "\n"
     ]
    },
    {
     "name": "stdout",
     "output_type": "stream",
     "text": [
      "Epoch 130, Loss 0.0234\n",
      "Training Accuracy: 0.9730, Testing Accuracy: 0.9718\n",
      "\n"
     ]
    },
    {
     "name": "stdout",
     "output_type": "stream",
     "text": [
      "Epoch 140, Loss 0.0227\n",
      "Training Accuracy: 0.9736, Testing Accuracy: 0.9738\n",
      "\n"
     ]
    },
    {
     "name": "stdout",
     "output_type": "stream",
     "text": [
      "Epoch 150, Loss 0.0221\n",
      "Training Accuracy: 0.9740, Testing Accuracy: 0.9743\n",
      "\n"
     ]
    },
    {
     "name": "stdout",
     "output_type": "stream",
     "text": [
      "Epoch 160, Loss 0.0215\n",
      "Training Accuracy: 0.9749, Testing Accuracy: 0.9738\n",
      "\n"
     ]
    },
    {
     "name": "stdout",
     "output_type": "stream",
     "text": [
      "Epoch 170, Loss 0.021\n",
      "Training Accuracy: 0.9757, Testing Accuracy: 0.9748\n",
      "\n"
     ]
    },
    {
     "name": "stdout",
     "output_type": "stream",
     "text": [
      "Epoch 180, Loss 0.0205\n",
      "Training Accuracy: 0.9765, Testing Accuracy: 0.9748\n",
      "\n"
     ]
    },
    {
     "name": "stdout",
     "output_type": "stream",
     "text": [
      "Epoch 190, Loss 0.02\n",
      "Training Accuracy: 0.9775, Testing Accuracy: 0.9748\n",
      "\n"
     ]
    },
    {
     "name": "stdout",
     "output_type": "stream",
     "text": [
      "Epoch 200, Loss 0.0195\n",
      "Training Accuracy: 0.9783, Testing Accuracy: 0.9743\n",
      "\n"
     ]
    },
    {
     "name": "stdout",
     "output_type": "stream",
     "text": [
      "Epoch 210, Loss 0.0191\n",
      "Training Accuracy: 0.9788, Testing Accuracy: 0.9738\n",
      "\n"
     ]
    },
    {
     "name": "stdout",
     "output_type": "stream",
     "text": [
      "Epoch 220, Loss 0.0187\n",
      "Training Accuracy: 0.9793, Testing Accuracy: 0.9738\n",
      "\n"
     ]
    },
    {
     "name": "stdout",
     "output_type": "stream",
     "text": [
      "Epoch 230, Loss 0.0182\n",
      "Training Accuracy: 0.9801, Testing Accuracy: 0.9753\n",
      "\n"
     ]
    },
    {
     "name": "stdout",
     "output_type": "stream",
     "text": [
      "Epoch 240, Loss 0.0178\n",
      "Training Accuracy: 0.9806, Testing Accuracy: 0.9768\n",
      "\n"
     ]
    },
    {
     "data": {
      "text/plain": [
       "0.0031991728809998223"
      ]
     },
     "execution_count": 22,
     "metadata": {},
     "output_type": "execute_result"
    }
   ],
   "source": [
    "nn_learner.train_loop(dl)"
   ]
  },
  {
   "cell_type": "code",
   "execution_count": 23,
   "id": "e0163366",
   "metadata": {
    "execution": {
     "iopub.execute_input": "2022-06-24T10:10:48.080874Z",
     "iopub.status.busy": "2022-06-24T10:10:48.080280Z",
     "iopub.status.idle": "2022-06-24T10:11:01.423609Z",
     "shell.execute_reply": "2022-06-24T10:11:01.424500Z"
    },
    "papermill": {
     "duration": 13.390337,
     "end_time": "2022-06-24T10:11:01.424656",
     "exception": false,
     "start_time": "2022-06-24T10:10:48.034319",
     "status": "completed"
    },
    "tags": []
   },
   "outputs": [
    {
     "name": "stdout",
     "output_type": "stream",
     "text": [
      "Epoch 0, Loss 0.2039\n",
      "Training Accuracy: 0.8277, Testing Accuracy: 0.8518\n",
      "\n"
     ]
    },
    {
     "name": "stdout",
     "output_type": "stream",
     "text": [
      "Epoch 10, Loss 0.0983\n",
      "Training Accuracy: 0.9135, Testing Accuracy: 0.9219\n",
      "\n"
     ]
    },
    {
     "name": "stdout",
     "output_type": "stream",
     "text": [
      "Epoch 20, Loss 0.0776\n",
      "Training Accuracy: 0.9279, Testing Accuracy: 0.9370\n",
      "\n"
     ]
    },
    {
     "name": "stdout",
     "output_type": "stream",
     "text": [
      "Epoch 30, Loss 0.0676\n",
      "Training Accuracy: 0.9350, Testing Accuracy: 0.9435\n",
      "\n"
     ]
    },
    {
     "name": "stdout",
     "output_type": "stream",
     "text": [
      "Epoch 40, Loss 0.0614\n",
      "Training Accuracy: 0.9401, Testing Accuracy: 0.9481\n",
      "\n"
     ]
    },
    {
     "name": "stdout",
     "output_type": "stream",
     "text": [
      "Epoch 50, Loss 0.0571\n",
      "Training Accuracy: 0.9435, Testing Accuracy: 0.9506\n",
      "\n"
     ]
    },
    {
     "name": "stdout",
     "output_type": "stream",
     "text": [
      "Epoch 60, Loss 0.0538\n",
      "Training Accuracy: 0.9463, Testing Accuracy: 0.9526\n",
      "\n"
     ]
    },
    {
     "name": "stdout",
     "output_type": "stream",
     "text": [
      "Epoch 70, Loss 0.0513\n",
      "Training Accuracy: 0.9487, Testing Accuracy: 0.9551\n",
      "\n"
     ]
    },
    {
     "name": "stdout",
     "output_type": "stream",
     "text": [
      "Epoch 80, Loss 0.0493\n",
      "Training Accuracy: 0.9506, Testing Accuracy: 0.9567\n",
      "\n"
     ]
    },
    {
     "name": "stdout",
     "output_type": "stream",
     "text": [
      "Epoch 90, Loss 0.0477\n",
      "Training Accuracy: 0.9522, Testing Accuracy: 0.9572\n",
      "\n"
     ]
    },
    {
     "name": "stdout",
     "output_type": "stream",
     "text": [
      "Epoch 100, Loss 0.0462\n",
      "Training Accuracy: 0.9532, Testing Accuracy: 0.9572\n",
      "\n"
     ]
    },
    {
     "name": "stdout",
     "output_type": "stream",
     "text": [
      "Epoch 110, Loss 0.045\n",
      "Training Accuracy: 0.9543, Testing Accuracy: 0.9582\n",
      "\n"
     ]
    },
    {
     "name": "stdout",
     "output_type": "stream",
     "text": [
      "Epoch 120, Loss 0.044\n",
      "Training Accuracy: 0.9554, Testing Accuracy: 0.9592\n",
      "\n"
     ]
    },
    {
     "name": "stdout",
     "output_type": "stream",
     "text": [
      "Epoch 130, Loss 0.043\n",
      "Training Accuracy: 0.9558, Testing Accuracy: 0.9612\n",
      "\n"
     ]
    },
    {
     "name": "stdout",
     "output_type": "stream",
     "text": [
      "Epoch 140, Loss 0.0422\n",
      "Training Accuracy: 0.9563, Testing Accuracy: 0.9622\n",
      "\n"
     ]
    },
    {
     "name": "stdout",
     "output_type": "stream",
     "text": [
      "Epoch 150, Loss 0.0414\n",
      "Training Accuracy: 0.9570, Testing Accuracy: 0.9627\n",
      "\n"
     ]
    },
    {
     "name": "stdout",
     "output_type": "stream",
     "text": [
      "Epoch 160, Loss 0.0408\n",
      "Training Accuracy: 0.9575, Testing Accuracy: 0.9632\n",
      "\n"
     ]
    },
    {
     "name": "stdout",
     "output_type": "stream",
     "text": [
      "Epoch 170, Loss 0.0401\n",
      "Training Accuracy: 0.9579, Testing Accuracy: 0.9627\n",
      "\n"
     ]
    },
    {
     "name": "stdout",
     "output_type": "stream",
     "text": [
      "Epoch 180, Loss 0.0396\n",
      "Training Accuracy: 0.9583, Testing Accuracy: 0.9632\n",
      "\n"
     ]
    },
    {
     "name": "stdout",
     "output_type": "stream",
     "text": [
      "Epoch 190, Loss 0.0391\n",
      "Training Accuracy: 0.9584, Testing Accuracy: 0.9642\n",
      "\n"
     ]
    },
    {
     "name": "stdout",
     "output_type": "stream",
     "text": [
      "Epoch 200, Loss 0.0386\n",
      "Training Accuracy: 0.9586, Testing Accuracy: 0.9642\n",
      "\n"
     ]
    },
    {
     "name": "stdout",
     "output_type": "stream",
     "text": [
      "Epoch 210, Loss 0.0381\n",
      "Training Accuracy: 0.9593, Testing Accuracy: 0.9647\n",
      "\n"
     ]
    },
    {
     "name": "stdout",
     "output_type": "stream",
     "text": [
      "Epoch 220, Loss 0.0377\n",
      "Training Accuracy: 0.9593, Testing Accuracy: 0.9657\n",
      "\n"
     ]
    },
    {
     "name": "stdout",
     "output_type": "stream",
     "text": [
      "Epoch 230, Loss 0.0373\n",
      "Training Accuracy: 0.9597, Testing Accuracy: 0.9662\n",
      "\n"
     ]
    },
    {
     "name": "stdout",
     "output_type": "stream",
     "text": [
      "Epoch 240, Loss 0.037\n",
      "Training Accuracy: 0.9600, Testing Accuracy: 0.9672\n",
      "\n"
     ]
    },
    {
     "data": {
      "text/plain": [
       "0.041762834735416095"
      ]
     },
     "execution_count": 23,
     "metadata": {},
     "output_type": "execute_result"
    }
   ],
   "source": [
    "lr_learner.train_loop(dl)"
   ]
  },
  {
   "cell_type": "code",
   "execution_count": 24,
   "id": "ca410940",
   "metadata": {
    "execution": {
     "iopub.execute_input": "2022-06-24T10:11:01.516888Z",
     "iopub.status.busy": "2022-06-24T10:11:01.516300Z",
     "iopub.status.idle": "2022-06-24T10:11:01.735375Z",
     "shell.execute_reply": "2022-06-24T10:11:01.734880Z"
    },
    "papermill": {
     "duration": 0.269972,
     "end_time": "2022-06-24T10:11:01.735496",
     "exception": false,
     "start_time": "2022-06-24T10:11:01.465524",
     "status": "completed"
    },
    "tags": []
   },
   "outputs": [
    {
     "data": {
      "text/plain": [
       "<matplotlib.legend.Legend at 0x7f1255c479e8>"
      ]
     },
     "execution_count": 24,
     "metadata": {},
     "output_type": "execute_result"
    },
    {
     "data": {
      "image/png": "[encoded data removed]",
      "text/plain": [
       "<Figure size 1080x720 with 1 Axes>"
      ]
     },
     "metadata": {
      "needs_background": "light"
     },
     "output_type": "display_data"
    }
   ],
   "source": [
    "#comparing the results of NN and LR\n",
    "plt.figure(figsize=(15,10))\n",
    "\n",
    "# Neural Network plots\n",
    "plt.plot(acc_nn.accuracies, 'r-', label = \"Training Accuracies - NN\")\n",
    "plt.plot(acc_nn.test_accuracies, 'g-', label = \"Testing Accuracies - NN\")\n",
    "\n",
    "# Logistic Regression plots\n",
    "plt.plot(acc_lr.accuracies, 'k-', label = \"Training Accuracies - LR\")\n",
    "plt.plot(acc_lr.test_accuracies, 'b-', label = \"Testing Accuracies - LR\")\n",
    "plt.legend()"
   ]
  },
  {
   "cell_type": "markdown",
   "id": "80dfb35c",
   "metadata": {
    "papermill": {
     "duration": 0.041795,
     "end_time": "2022-06-24T10:11:01.819330",
     "exception": false,
     "start_time": "2022-06-24T10:11:01.777535",
     "status": "completed"
    },
    "tags": []
   },
   "source": [
    "#### Plotting the outputs of this layer of the NN.\n"
   ]
  },
  {
   "cell_type": "code",
   "execution_count": 25,
   "id": "45eb2ff5",
   "metadata": {
    "execution": {
     "iopub.execute_input": "2022-06-24T10:11:01.906166Z",
     "iopub.status.busy": "2022-06-24T10:11:01.905575Z",
     "iopub.status.idle": "2022-06-24T10:11:01.926754Z",
     "shell.execute_reply": "2022-06-24T10:11:01.926295Z"
    },
    "papermill": {
     "duration": 0.066162,
     "end_time": "2022-06-24T10:11:01.926870",
     "exception": false,
     "start_time": "2022-06-24T10:11:01.860708",
     "status": "completed"
    },
    "tags": []
   },
   "outputs": [],
   "source": [
    "new_model = Model(layers[:-2])\n",
    "testing_plot = new_model(testing_data_x)"
   ]
  },
  {
   "cell_type": "code",
   "execution_count": 26,
   "id": "4c0a5485",
   "metadata": {
    "execution": {
     "iopub.execute_input": "2022-06-24T10:11:02.014747Z",
     "iopub.status.busy": "2022-06-24T10:11:02.014126Z",
     "iopub.status.idle": "2022-06-24T10:11:02.210913Z",
     "shell.execute_reply": "2022-06-24T10:11:02.210443Z"
    },
    "papermill": {
     "duration": 0.242724,
     "end_time": "2022-06-24T10:11:02.211037",
     "exception": false,
     "start_time": "2022-06-24T10:11:01.968313",
     "status": "completed"
    },
    "tags": []
   },
   "outputs": [
    {
     "data": {
      "text/plain": [
       "Text(0.5, 1.0, 'Outputs')"
      ]
     },
     "execution_count": 26,
     "metadata": {},
     "output_type": "execute_result"
    },
    {
     "data": {
      "image/png": "[encoded data removed]",
      "text/plain": [
       "<Figure size 576x504 with 1 Axes>"
      ]
     },
     "metadata": {
      "needs_background": "light"
     },
     "output_type": "display_data"
    }
   ],
   "source": [
    "# Plotting the scatter plot of points and color coding by class\n",
    "plt.figure(figsize=(8,7))\n",
    "plt.scatter(testing_plot[:,0], testing_plot[:,1], alpha = 0.1, c = y_test.ravel());\n",
    "plt.title('Outputs')"
   ]
  },
  {
   "cell_type": "markdown",
   "id": "a74fcf8f",
   "metadata": {
    "papermill": {
     "duration": 0.044268,
     "end_time": "2022-06-24T10:11:02.299771",
     "exception": false,
     "start_time": "2022-06-24T10:11:02.255503",
     "status": "completed"
    },
    "tags": []
   },
   "source": [
    "Probability contours"
   ]
  },
  {
   "cell_type": "code",
   "execution_count": 27,
   "id": "d0afc8e3",
   "metadata": {
    "execution": {
     "iopub.execute_input": "2022-06-24T10:11:02.392646Z",
     "iopub.status.busy": "2022-06-24T10:11:02.391111Z",
     "iopub.status.idle": "2022-06-24T10:11:02.404170Z",
     "shell.execute_reply": "2022-06-24T10:11:02.403632Z"
    },
    "papermill": {
     "duration": 0.060445,
     "end_time": "2022-06-24T10:11:02.404281",
     "exception": false,
     "start_time": "2022-06-24T10:11:02.343836",
     "status": "completed"
    },
    "tags": []
   },
   "outputs": [],
   "source": [
    "model_prob = Model(layers[-2:]) "
   ]
  },
  {
   "cell_type": "code",
   "execution_count": 28,
   "id": "9b96e238",
   "metadata": {
    "execution": {
     "iopub.execute_input": "2022-06-24T10:11:02.496673Z",
     "iopub.status.busy": "2022-06-24T10:11:02.496079Z",
     "iopub.status.idle": "2022-06-24T10:11:02.509653Z",
     "shell.execute_reply": "2022-06-24T10:11:02.510084Z"
    },
    "papermill": {
     "duration": 0.061977,
     "end_time": "2022-06-24T10:11:02.510212",
     "exception": false,
     "start_time": "2022-06-24T10:11:02.448235",
     "status": "completed"
    },
    "tags": []
   },
   "outputs": [],
   "source": [
    "#creating the x and y ranges according to the above generated plot.\n",
    "x_range = np.linspace(-4, 1, 100) \n",
    "y_range = np.linspace(-6, 6, 100) \n",
    "x_grid, y_grid = np.meshgrid(x_range, y_range) # x_grid and y_grig are of size 100 X 100\n",
    "\n",
    "# converting x_grid and y_grid to continuous arrays\n",
    "x_gridflat = np.ravel(x_grid)\n",
    "y_gridflat = np.ravel(y_grid)\n",
    "\n",
    "# The last layer of the current model takes two columns as input. Hence transpose of np.vstack() is required.\n",
    "X = np.vstack((x_gridflat, y_gridflat)).T\n",
    "\n",
    "prob_contour = model_prob(X).reshape(100,100) "
   ]
  },
  {
   "cell_type": "code",
   "execution_count": 29,
   "id": "da72499a",
   "metadata": {
    "execution": {
     "iopub.execute_input": "2022-06-24T10:11:02.632068Z",
     "iopub.status.busy": "2022-06-24T10:11:02.631427Z",
     "iopub.status.idle": "2022-06-24T10:11:02.874537Z",
     "shell.execute_reply": "2022-06-24T10:11:02.874980Z"
    },
    "papermill": {
     "duration": 0.292419,
     "end_time": "2022-06-24T10:11:02.875133",
     "exception": false,
     "start_time": "2022-06-24T10:11:02.582714",
     "status": "completed"
    },
    "tags": []
   },
   "outputs": [
    {
     "data": {
      "image/png": "[encoded data removed]",
      "text/plain": [
       "<Figure size 720x648 with 1 Axes>"
      ]
     },
     "metadata": {
      "needs_background": "light"
     },
     "output_type": "display_data"
    }
   ],
   "source": [
    "plt.figure(figsize=(10,9))\n",
    "plt.scatter(testing_plot[:,0], testing_plot[:,1], alpha = 0.1, c = y_test.ravel())\n",
    "contours = plt.contour(x_grid,y_grid,prob_contour)\n",
    "plt.title('Probability Contours')\n",
    "plt.clabel(contours, inline = True );"
   ]
  },
  {
   "cell_type": "code",
   "execution_count": null,
   "id": "e81b4ac7",
   "metadata": {
    "papermill": {
     "duration": 0.046942,
     "end_time": "2022-06-24T10:11:02.969599",
     "exception": false,
     "start_time": "2022-06-24T10:11:02.922657",
     "status": "completed"
    },
    "tags": []
   },
   "outputs": [],
   "source": []
  }
 ],
 "metadata": {
  "kernelspec": {
   "display_name": "Python 3",
   "language": "python",
   "name": "python3"
  },
  "language_info": {
   "codemirror_mode": {
    "name": "ipython",
    "version": 3
   },
   "file_extension": ".py",
   "mimetype": "text/x-python",
   "name": "python",
   "nbconvert_exporter": "python",
   "pygments_lexer": "ipython3",
   "version": "3.6.15"
  },
  "papermill": {
   "default_parameters": {},
   "duration": 96.628989,
   "end_time": "2022-06-24T10:11:03.435958",
   "environment_variables": {},
   "exception": null,
   "input_path": "2020-08-11-part2.ipynb",
   "output_path": "2020-08-11-part2.ipynb",
   "parameters": {},
   "start_time": "2022-06-24T10:09:26.806969",
   "version": "2.3.3"
  }
 },
 "nbformat": 4,
 "nbformat_minor": 5
}