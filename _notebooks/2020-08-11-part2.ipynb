{
 "cells": [
  {
   "cell_type": "markdown",
   "id": "98380cd3",
   "metadata": {
    "papermill": {
     "duration": 0.034983,
     "end_time": "2022-02-23T00:32:28.289613",
     "exception": false,
     "start_time": "2022-02-23T00:32:28.254630",
     "status": "completed"
    },
    "tags": []
   },
   "source": [
    "# Distinguish Your Own Digits (DYOD)"
   ]
  },
  {
   "cell_type": "markdown",
   "id": "ef31240d",
   "metadata": {
    "papermill": {
     "duration": 0.028737,
     "end_time": "2022-02-23T00:32:28.345896",
     "exception": false,
     "start_time": "2022-02-23T00:32:28.317159",
     "status": "completed"
    },
    "tags": []
   },
   "source": [
    "You are going to write a classifier that distinguishes between the number 3 and number 8."
   ]
  },
  {
   "cell_type": "code",
   "execution_count": 1,
   "id": "b15c8646",
   "metadata": {
    "execution": {
     "iopub.execute_input": "2022-02-23T00:32:28.410671Z",
     "iopub.status.busy": "2022-02-23T00:32:28.410032Z",
     "iopub.status.idle": "2022-02-23T00:32:28.422580Z",
     "shell.execute_reply": "2022-02-23T00:32:28.422068Z"
    },
    "papermill": {
     "duration": 0.050351,
     "end_time": "2022-02-23T00:32:28.422726",
     "exception": false,
     "start_time": "2022-02-23T00:32:28.372375",
     "status": "completed"
    },
    "tags": []
   },
   "outputs": [],
   "source": [
    "%load_ext autoreload\n",
    "%autoreload 2"
   ]
  },
  {
   "cell_type": "code",
   "execution_count": 2,
   "id": "22ef38dc",
   "metadata": {
    "execution": {
     "iopub.execute_input": "2022-02-23T00:32:28.481238Z",
     "iopub.status.busy": "2022-02-23T00:32:28.479770Z",
     "iopub.status.idle": "2022-02-23T00:32:29.169901Z",
     "shell.execute_reply": "2022-02-23T00:32:29.169329Z"
    },
    "papermill": {
     "duration": 0.72038,
     "end_time": "2022-02-23T00:32:29.170052",
     "exception": false,
     "start_time": "2022-02-23T00:32:28.449672",
     "status": "completed"
    },
    "tags": []
   },
   "outputs": [],
   "source": [
    "%matplotlib inline\n",
    "import numpy as np\n",
    "import matplotlib.pyplot as plt\n",
    "import pandas as pd"
   ]
  },
  {
   "cell_type": "markdown",
   "id": "ba036198",
   "metadata": {
    "papermill": {
     "duration": 0.027393,
     "end_time": "2022-02-23T00:32:29.224619",
     "exception": false,
     "start_time": "2022-02-23T00:32:29.197226",
     "status": "completed"
    },
    "tags": []
   },
   "source": [
    "From the command line run `pip install mnist`. This is a library that will help you bring down the mnist dataset. If you run this from a notebook, you need to put  `!pip install mnist` in a cell by itself."
   ]
  },
  {
   "cell_type": "code",
   "execution_count": 3,
   "id": "bb6ad8a1",
   "metadata": {
    "execution": {
     "iopub.execute_input": "2022-02-23T00:32:29.288641Z",
     "iopub.status.busy": "2022-02-23T00:32:29.285540Z",
     "iopub.status.idle": "2022-02-23T00:32:31.381431Z",
     "shell.execute_reply": "2022-02-23T00:32:31.380539Z"
    },
    "papermill": {
     "duration": 2.130272,
     "end_time": "2022-02-23T00:32:31.381578",
     "exception": false,
     "start_time": "2022-02-23T00:32:29.251306",
     "status": "completed"
    },
    "tags": []
   },
   "outputs": [
    {
     "name": "stdout",
     "output_type": "stream",
     "text": [
      "Collecting mnist\r\n"
     ]
    },
    {
     "name": "stdout",
     "output_type": "stream",
     "text": [
      "  Downloading mnist-0.2.2-py2.py3-none-any.whl (3.5 kB)\r\n",
      "Requirement already satisfied: numpy in /opt/hostedtoolcache/Python/3.6.15/x64/lib/python3.6/site-packages (from mnist) (1.19.5)\r\n"
     ]
    },
    {
     "name": "stdout",
     "output_type": "stream",
     "text": [
      "Installing collected packages: mnist\r\n",
      "Successfully installed mnist-0.2.2\r\n"
     ]
    }
   ],
   "source": [
    "!pip install mnist"
   ]
  },
  {
   "cell_type": "markdown",
   "id": "69df9c9a",
   "metadata": {
    "papermill": {
     "duration": 0.028913,
     "end_time": "2022-02-23T00:32:31.441092",
     "exception": false,
     "start_time": "2022-02-23T00:32:31.412179",
     "status": "completed"
    },
    "tags": []
   },
   "source": [
    "## Preparing the Data"
   ]
  },
  {
   "cell_type": "code",
   "execution_count": 4,
   "id": "7f69d806",
   "metadata": {
    "execution": {
     "iopub.execute_input": "2022-02-23T00:32:31.508910Z",
     "iopub.status.busy": "2022-02-23T00:32:31.506977Z",
     "iopub.status.idle": "2022-02-23T00:32:31.526858Z",
     "shell.execute_reply": "2022-02-23T00:32:31.525925Z"
    },
    "papermill": {
     "duration": 0.056373,
     "end_time": "2022-02-23T00:32:31.527016",
     "exception": false,
     "start_time": "2022-02-23T00:32:31.470643",
     "status": "completed"
    },
    "tags": []
   },
   "outputs": [],
   "source": [
    "import mnist"
   ]
  },
  {
   "cell_type": "code",
   "execution_count": 5,
   "id": "a411e44f",
   "metadata": {
    "execution": {
     "iopub.execute_input": "2022-02-23T00:32:31.588531Z",
     "iopub.status.busy": "2022-02-23T00:32:31.587873Z",
     "iopub.status.idle": "2022-02-23T00:32:32.275077Z",
     "shell.execute_reply": "2022-02-23T00:32:32.274345Z"
    },
    "papermill": {
     "duration": 0.71976,
     "end_time": "2022-02-23T00:32:32.275266",
     "exception": false,
     "start_time": "2022-02-23T00:32:31.555506",
     "status": "completed"
    },
    "tags": []
   },
   "outputs": [],
   "source": [
    "train_images = mnist.train_images()\n",
    "train_labels = mnist.train_labels()"
   ]
  },
  {
   "cell_type": "code",
   "execution_count": 6,
   "id": "dceab3a5",
   "metadata": {
    "execution": {
     "iopub.execute_input": "2022-02-23T00:32:32.337506Z",
     "iopub.status.busy": "2022-02-23T00:32:32.336876Z",
     "iopub.status.idle": "2022-02-23T00:32:32.354926Z",
     "shell.execute_reply": "2022-02-23T00:32:32.355489Z"
    },
    "papermill": {
     "duration": 0.051564,
     "end_time": "2022-02-23T00:32:32.355646",
     "exception": false,
     "start_time": "2022-02-23T00:32:32.304082",
     "status": "completed"
    },
    "tags": []
   },
   "outputs": [
    {
     "data": {
      "text/plain": [
       "((60000, 28, 28), (60000,))"
      ]
     },
     "execution_count": 6,
     "metadata": {},
     "output_type": "execute_result"
    }
   ],
   "source": [
    "train_images.shape, train_labels.shape"
   ]
  },
  {
   "cell_type": "code",
   "execution_count": 7,
   "id": "f50dc2bb",
   "metadata": {
    "execution": {
     "iopub.execute_input": "2022-02-23T00:32:32.418778Z",
     "iopub.status.busy": "2022-02-23T00:32:32.418171Z",
     "iopub.status.idle": "2022-02-23T00:32:32.644645Z",
     "shell.execute_reply": "2022-02-23T00:32:32.644015Z"
    },
    "papermill": {
     "duration": 0.260959,
     "end_time": "2022-02-23T00:32:32.644792",
     "exception": false,
     "start_time": "2022-02-23T00:32:32.383833",
     "status": "completed"
    },
    "tags": []
   },
   "outputs": [],
   "source": [
    "test_images = mnist.test_images()\n",
    "test_labels = mnist.test_labels()"
   ]
  },
  {
   "cell_type": "code",
   "execution_count": 8,
   "id": "fc38cf1b",
   "metadata": {
    "execution": {
     "iopub.execute_input": "2022-02-23T00:32:32.707423Z",
     "iopub.status.busy": "2022-02-23T00:32:32.706807Z",
     "iopub.status.idle": "2022-02-23T00:32:32.724602Z",
     "shell.execute_reply": "2022-02-23T00:32:32.725177Z"
    },
    "papermill": {
     "duration": 0.051677,
     "end_time": "2022-02-23T00:32:32.725333",
     "exception": false,
     "start_time": "2022-02-23T00:32:32.673656",
     "status": "completed"
    },
    "tags": []
   },
   "outputs": [
    {
     "data": {
      "text/plain": [
       "((10000, 28, 28), (10000,))"
      ]
     },
     "execution_count": 8,
     "metadata": {},
     "output_type": "execute_result"
    }
   ],
   "source": [
    "test_images.shape, test_labels.shape"
   ]
  },
  {
   "cell_type": "code",
   "execution_count": 9,
   "id": "f9ed8fe0",
   "metadata": {
    "execution": {
     "iopub.execute_input": "2022-02-23T00:32:32.787550Z",
     "iopub.status.busy": "2022-02-23T00:32:32.786132Z",
     "iopub.status.idle": "2022-02-23T00:32:32.951364Z",
     "shell.execute_reply": "2022-02-23T00:32:32.950841Z"
    },
    "papermill": {
     "duration": 0.197603,
     "end_time": "2022-02-23T00:32:32.951506",
     "exception": false,
     "start_time": "2022-02-23T00:32:32.753903",
     "status": "completed"
    },
    "tags": []
   },
   "outputs": [
    {
     "name": "stdout",
     "output_type": "stream",
     "text": [
      "2\n"
     ]
    },
    {
     "data": {
      "text/plain": [
       "<matplotlib.image.AxesImage at 0x7f9b08b225c0>"
      ]
     },
     "execution_count": 9,
     "metadata": {},
     "output_type": "execute_result"
    },
    {
     "data": {
      "image/png": "[encoded data removed]",
      "text/plain": [
       "<Figure size 432x288 with 1 Axes>"
      ]
     },
     "metadata": {
      "needs_background": "light"
     },
     "output_type": "display_data"
    }
   ],
   "source": [
    "image_index = 7776 # You may select anything up to 60,000\n",
    "print(train_labels[image_index]) \n",
    "plt.imshow(train_images[image_index], cmap='Greys')"
   ]
  },
  {
   "cell_type": "markdown",
   "id": "a8d2388d",
   "metadata": {
    "papermill": {
     "duration": 0.03077,
     "end_time": "2022-02-23T00:32:33.013042",
     "exception": false,
     "start_time": "2022-02-23T00:32:32.982272",
     "status": "completed"
    },
    "tags": []
   },
   "source": [
    "## Filter data to get 3 and 8 out"
   ]
  },
  {
   "cell_type": "code",
   "execution_count": 10,
   "id": "776f7fc7",
   "metadata": {
    "execution": {
     "iopub.execute_input": "2022-02-23T00:32:33.083536Z",
     "iopub.status.busy": "2022-02-23T00:32:33.082800Z",
     "iopub.status.idle": "2022-02-23T00:32:33.106455Z",
     "shell.execute_reply": "2022-02-23T00:32:33.105929Z"
    },
    "papermill": {
     "duration": 0.061549,
     "end_time": "2022-02-23T00:32:33.106599",
     "exception": false,
     "start_time": "2022-02-23T00:32:33.045050",
     "status": "completed"
    },
    "tags": []
   },
   "outputs": [],
   "source": [
    "train_filter = np.where((train_labels == 3 ) | (train_labels == 8))\n",
    "test_filter = np.where((test_labels == 3) | (test_labels == 8))\n",
    "X_train, y_train = train_images[train_filter], train_labels[train_filter]\n",
    "X_test, y_test = test_images[test_filter], test_labels[test_filter]"
   ]
  },
  {
   "cell_type": "markdown",
   "id": "948f0b7e",
   "metadata": {
    "papermill": {
     "duration": 0.029706,
     "end_time": "2022-02-23T00:32:33.166202",
     "exception": false,
     "start_time": "2022-02-23T00:32:33.136496",
     "status": "completed"
    },
    "tags": []
   },
   "source": [
    "We normalize the pizel values in the 0 to 1 range"
   ]
  },
  {
   "cell_type": "code",
   "execution_count": 11,
   "id": "ee4c2166",
   "metadata": {
    "execution": {
     "iopub.execute_input": "2022-02-23T00:32:33.231218Z",
     "iopub.status.busy": "2022-02-23T00:32:33.230599Z",
     "iopub.status.idle": "2022-02-23T00:32:33.287879Z",
     "shell.execute_reply": "2022-02-23T00:32:33.287001Z"
    },
    "papermill": {
     "duration": 0.092003,
     "end_time": "2022-02-23T00:32:33.288065",
     "exception": false,
     "start_time": "2022-02-23T00:32:33.196062",
     "status": "completed"
    },
    "tags": []
   },
   "outputs": [],
   "source": [
    "X_train = X_train/255.\n",
    "X_test = X_test/255."
   ]
  },
  {
   "cell_type": "markdown",
   "id": "ddcf4fab",
   "metadata": {
    "papermill": {
     "duration": 0.029567,
     "end_time": "2022-02-23T00:32:33.347640",
     "exception": false,
     "start_time": "2022-02-23T00:32:33.318073",
     "status": "completed"
    },
    "tags": []
   },
   "source": [
    "And setup the labels as 1 (when the digit is 3) and 0 (when the digit is 8)"
   ]
  },
  {
   "cell_type": "code",
   "execution_count": 12,
   "id": "7dc908f2",
   "metadata": {
    "execution": {
     "iopub.execute_input": "2022-02-23T00:32:33.412411Z",
     "iopub.status.busy": "2022-02-23T00:32:33.411784Z",
     "iopub.status.idle": "2022-02-23T00:32:33.425314Z",
     "shell.execute_reply": "2022-02-23T00:32:33.424863Z"
    },
    "papermill": {
     "duration": 0.047957,
     "end_time": "2022-02-23T00:32:33.425440",
     "exception": false,
     "start_time": "2022-02-23T00:32:33.377483",
     "status": "completed"
    },
    "tags": []
   },
   "outputs": [],
   "source": [
    "y_train = 1*(y_train==3)\n",
    "y_test = 1*(y_test==3)"
   ]
  },
  {
   "cell_type": "code",
   "execution_count": 13,
   "id": "01e4e969",
   "metadata": {
    "execution": {
     "iopub.execute_input": "2022-02-23T00:32:33.493499Z",
     "iopub.status.busy": "2022-02-23T00:32:33.492892Z",
     "iopub.status.idle": "2022-02-23T00:32:33.506994Z",
     "shell.execute_reply": "2022-02-23T00:32:33.506478Z"
    },
    "papermill": {
     "duration": 0.051321,
     "end_time": "2022-02-23T00:32:33.507126",
     "exception": false,
     "start_time": "2022-02-23T00:32:33.455805",
     "status": "completed"
    },
    "tags": []
   },
   "outputs": [
    {
     "data": {
      "text/plain": [
       "((11982, 28, 28), (1984, 28, 28))"
      ]
     },
     "execution_count": 13,
     "metadata": {},
     "output_type": "execute_result"
    }
   ],
   "source": [
    "X_train.shape, X_test.shape"
   ]
  },
  {
   "cell_type": "markdown",
   "id": "5ccf3f85",
   "metadata": {
    "papermill": {
     "duration": 0.030029,
     "end_time": "2022-02-23T00:32:33.567215",
     "exception": false,
     "start_time": "2022-02-23T00:32:33.537186",
     "status": "completed"
    },
    "tags": []
   },
   "source": [
    "We reshape the data to flatten the image pixels into a set of features or co-variates:"
   ]
  },
  {
   "cell_type": "code",
   "execution_count": 14,
   "id": "5286a4a3",
   "metadata": {
    "execution": {
     "iopub.execute_input": "2022-02-23T00:32:33.632717Z",
     "iopub.status.busy": "2022-02-23T00:32:33.632075Z",
     "iopub.status.idle": "2022-02-23T00:32:33.648630Z",
     "shell.execute_reply": "2022-02-23T00:32:33.648114Z"
    },
    "papermill": {
     "duration": 0.051345,
     "end_time": "2022-02-23T00:32:33.648770",
     "exception": false,
     "start_time": "2022-02-23T00:32:33.597425",
     "status": "completed"
    },
    "tags": []
   },
   "outputs": [
    {
     "data": {
      "text/plain": [
       "((11982, 784), (1984, 784))"
      ]
     },
     "execution_count": 14,
     "metadata": {},
     "output_type": "execute_result"
    }
   ],
   "source": [
    "X_train = X_train.reshape(X_train.shape[0], -1)\n",
    "X_test = X_test.reshape(X_test.shape[0], -1)\n",
    "X_train.shape, X_test.shape"
   ]
  },
  {
   "cell_type": "code",
   "execution_count": 15,
   "id": "73c5f88a",
   "metadata": {
    "execution": {
     "iopub.execute_input": "2022-02-23T00:32:33.715770Z",
     "iopub.status.busy": "2022-02-23T00:32:33.715132Z",
     "iopub.status.idle": "2022-02-23T00:32:33.737189Z",
     "shell.execute_reply": "2022-02-23T00:32:33.736666Z"
    },
    "papermill": {
     "duration": 0.05831,
     "end_time": "2022-02-23T00:32:33.737329",
     "exception": false,
     "start_time": "2022-02-23T00:32:33.679019",
     "status": "completed"
    },
    "tags": []
   },
   "outputs": [],
   "source": [
    "#Impoting functions from 'Kudzu'\n",
    "from kudzu.model import Model\n",
    "from kudzu.train import Learner\n",
    "from kudzu.optim import GD\n",
    "from kudzu.data import Data, Sampler,Dataloader\n",
    "\n",
    "from kudzu.callbacks import AccCallback\n",
    "from kudzu.callbacks import ClfCallback\n",
    "\n",
    "from kudzu.loss import MSE\n",
    "\n",
    "from kudzu.layer import Sigmoid,Relu\n",
    "from kudzu.layer import Affine"
   ]
  },
  {
   "cell_type": "markdown",
   "id": "bc01172a",
   "metadata": {
    "papermill": {
     "duration": 0.030202,
     "end_time": "2022-02-23T00:32:33.797975",
     "exception": false,
     "start_time": "2022-02-23T00:32:33.767773",
     "status": "completed"
    },
    "tags": []
   },
   "source": [
    "### Let us create a `Config` class, to store important parameters. \n",
    "This class essentially plays the role of a dictionary."
   ]
  },
  {
   "cell_type": "code",
   "execution_count": 16,
   "id": "978281aa",
   "metadata": {
    "execution": {
     "iopub.execute_input": "2022-02-23T00:32:33.864514Z",
     "iopub.status.busy": "2022-02-23T00:32:33.863861Z",
     "iopub.status.idle": "2022-02-23T00:32:33.878739Z",
     "shell.execute_reply": "2022-02-23T00:32:33.879251Z"
    },
    "papermill": {
     "duration": 0.051254,
     "end_time": "2022-02-23T00:32:33.879412",
     "exception": false,
     "start_time": "2022-02-23T00:32:33.828158",
     "status": "completed"
    },
    "tags": []
   },
   "outputs": [],
   "source": [
    "class Config:\n",
    "    pass\n",
    "config = Config()\n",
    "config.lr = 0.001\n",
    "config.num_epochs = 250\n",
    "config.bs = 50"
   ]
  },
  {
   "cell_type": "markdown",
   "id": "1385fa59",
   "metadata": {
    "papermill": {
     "duration": 0.029973,
     "end_time": "2022-02-23T00:32:33.939265",
     "exception": false,
     "start_time": "2022-02-23T00:32:33.909292",
     "status": "completed"
    },
    "tags": []
   },
   "source": [
    "### Running Models with the Training data\n",
    "Details about the network layers:\n",
    "- A first affine layer has 784 inputs and does 100 affine transforms. These are followed by a Relu\n",
    "- A second affine layer has 100 inputs from the 100 activations of the past layer, and does 100 affine transforms. These are followed by a Relu\n",
    "- A third affine layer has 100 activations and does 2 affine transformations to create an embedding for visualization. There is no non-linearity here.\n",
    "- A final \"logistic regression\" which has an affine transform from 2 inputs to 1 output, which is squeezed through a sigmoid.\n"
   ]
  },
  {
   "cell_type": "code",
   "execution_count": 17,
   "id": "2b9c66db",
   "metadata": {
    "execution": {
     "iopub.execute_input": "2022-02-23T00:32:34.003918Z",
     "iopub.status.busy": "2022-02-23T00:32:34.003319Z",
     "iopub.status.idle": "2022-02-23T00:32:34.018659Z",
     "shell.execute_reply": "2022-02-23T00:32:34.018195Z"
    },
    "papermill": {
     "duration": 0.049304,
     "end_time": "2022-02-23T00:32:34.018780",
     "exception": false,
     "start_time": "2022-02-23T00:32:33.969476",
     "status": "completed"
    },
    "tags": []
   },
   "outputs": [],
   "source": [
    "data = Data(X_train, y_train.reshape(-1,1))\n",
    "sampler = Sampler(data, config.bs, shuffle=True)\n",
    "\n",
    "dl = Dataloader(data, sampler)\n",
    "\n",
    "opt = GD(config.lr)\n",
    "loss = MSE()"
   ]
  },
  {
   "cell_type": "code",
   "execution_count": 18,
   "id": "b275e4c2",
   "metadata": {
    "execution": {
     "iopub.execute_input": "2022-02-23T00:32:34.083563Z",
     "iopub.status.busy": "2022-02-23T00:32:34.082944Z",
     "iopub.status.idle": "2022-02-23T00:32:34.102741Z",
     "shell.execute_reply": "2022-02-23T00:32:34.103428Z"
    },
    "papermill": {
     "duration": 0.0548,
     "end_time": "2022-02-23T00:32:34.103603",
     "exception": false,
     "start_time": "2022-02-23T00:32:34.048803",
     "status": "completed"
    },
    "tags": []
   },
   "outputs": [],
   "source": [
    "training_data_x = X_train\n",
    "testing_data_x = X_test\n",
    "training_data_y = y_train.reshape(-1,1)\n",
    "testing_data_y = y_test.reshape(-1,1)"
   ]
  },
  {
   "cell_type": "code",
   "execution_count": 19,
   "id": "76951160",
   "metadata": {
    "execution": {
     "iopub.execute_input": "2022-02-23T00:32:34.169792Z",
     "iopub.status.busy": "2022-02-23T00:32:34.169180Z",
     "iopub.status.idle": "2022-02-23T00:32:34.188694Z",
     "shell.execute_reply": "2022-02-23T00:32:34.188149Z"
    },
    "papermill": {
     "duration": 0.053925,
     "end_time": "2022-02-23T00:32:34.188825",
     "exception": false,
     "start_time": "2022-02-23T00:32:34.134900",
     "status": "completed"
    },
    "tags": []
   },
   "outputs": [
    {
     "name": "stdout",
     "output_type": "stream",
     "text": [
      "xavier\n",
      "xavier\n",
      "xavier\n",
      "xavier\n",
      "xavier\n"
     ]
    }
   ],
   "source": [
    "layers = [Affine(\"first\", 784, 100), Relu(\"first\"), Affine(\"second\", 100, 100), Relu(\"second\"), Affine(\"third\", 100, 2), Affine(\"last\", 2, 1), Sigmoid(\"last\")]\n",
    "model_nn = Model(layers)\n",
    "model_lr = Model([Affine(\"logits\", 784, 1), Sigmoid(\"sigmoid\")])"
   ]
  },
  {
   "cell_type": "code",
   "execution_count": 20,
   "id": "6eede77a",
   "metadata": {
    "execution": {
     "iopub.execute_input": "2022-02-23T00:32:34.257694Z",
     "iopub.status.busy": "2022-02-23T00:32:34.257067Z",
     "iopub.status.idle": "2022-02-23T00:32:34.270656Z",
     "shell.execute_reply": "2022-02-23T00:32:34.270142Z"
    },
    "papermill": {
     "duration": 0.05145,
     "end_time": "2022-02-23T00:32:34.270784",
     "exception": false,
     "start_time": "2022-02-23T00:32:34.219334",
     "status": "completed"
    },
    "tags": []
   },
   "outputs": [],
   "source": [
    "nn_learner = Learner(loss, model_nn, opt, config.num_epochs)\n",
    "acc_nn = ClfCallback(nn_learner, config.bs, training_data_x , testing_data_x, training_data_y, testing_data_y)\n",
    "nn_learner.set_callbacks([acc_nn])"
   ]
  },
  {
   "cell_type": "code",
   "execution_count": 21,
   "id": "877b6cc7",
   "metadata": {
    "execution": {
     "iopub.execute_input": "2022-02-23T00:32:34.336857Z",
     "iopub.status.busy": "2022-02-23T00:32:34.336161Z",
     "iopub.status.idle": "2022-02-23T00:32:34.349881Z",
     "shell.execute_reply": "2022-02-23T00:32:34.349361Z"
    },
    "papermill": {
     "duration": 0.048722,
     "end_time": "2022-02-23T00:32:34.350010",
     "exception": false,
     "start_time": "2022-02-23T00:32:34.301288",
     "status": "completed"
    },
    "tags": []
   },
   "outputs": [],
   "source": [
    "lr_learner = Learner(loss, model_lr, opt, config.num_epochs)\n",
    "acc_lr = ClfCallback(lr_learner, config.bs, training_data_x , testing_data_x, training_data_y, testing_data_y)\n",
    "lr_learner.set_callbacks([acc_lr])"
   ]
  },
  {
   "cell_type": "code",
   "execution_count": 22,
   "id": "d9b133c3",
   "metadata": {
    "execution": {
     "iopub.execute_input": "2022-02-23T00:32:34.418105Z",
     "iopub.status.busy": "2022-02-23T00:32:34.416490Z",
     "iopub.status.idle": "2022-02-23T00:34:05.011636Z",
     "shell.execute_reply": "2022-02-23T00:34:05.012532Z"
    },
    "papermill": {
     "duration": 90.631491,
     "end_time": "2022-02-23T00:34:05.012707",
     "exception": false,
     "start_time": "2022-02-23T00:32:34.381216",
     "status": "completed"
    },
    "tags": []
   },
   "outputs": [
    {
     "name": "stdout",
     "output_type": "stream",
     "text": [
      "Epoch 0, Loss 0.2468\n",
      "Training Accuracy: 0.5352, Testing Accuracy: 0.5459\n",
      "\n"
     ]
    },
    {
     "name": "stdout",
     "output_type": "stream",
     "text": [
      "Epoch 10, Loss 0.1619\n",
      "Training Accuracy: 0.8720, Testing Accuracy: 0.8891\n",
      "\n"
     ]
    },
    {
     "name": "stdout",
     "output_type": "stream",
     "text": [
      "Epoch 20, Loss 0.0849\n",
      "Training Accuracy: 0.9126, Testing Accuracy: 0.9254\n",
      "\n"
     ]
    },
    {
     "name": "stdout",
     "output_type": "stream",
     "text": [
      "Epoch 30, Loss 0.0578\n",
      "Training Accuracy: 0.9365, Testing Accuracy: 0.9491\n",
      "\n"
     ]
    },
    {
     "name": "stdout",
     "output_type": "stream",
     "text": [
      "Epoch 40, Loss 0.0461\n",
      "Training Accuracy: 0.9496, Testing Accuracy: 0.9602\n",
      "\n"
     ]
    },
    {
     "name": "stdout",
     "output_type": "stream",
     "text": [
      "Epoch 50, Loss 0.04\n",
      "Training Accuracy: 0.9556, Testing Accuracy: 0.9637\n",
      "\n"
     ]
    },
    {
     "name": "stdout",
     "output_type": "stream",
     "text": [
      "Epoch 60, Loss 0.0362\n",
      "Training Accuracy: 0.9589, Testing Accuracy: 0.9642\n",
      "\n"
     ]
    },
    {
     "name": "stdout",
     "output_type": "stream",
     "text": [
      "Epoch 70, Loss 0.0336\n",
      "Training Accuracy: 0.9612, Testing Accuracy: 0.9657\n",
      "\n"
     ]
    },
    {
     "name": "stdout",
     "output_type": "stream",
     "text": [
      "Epoch 80, Loss 0.0317\n",
      "Training Accuracy: 0.9632, Testing Accuracy: 0.9672\n",
      "\n"
     ]
    },
    {
     "name": "stdout",
     "output_type": "stream",
     "text": [
      "Epoch 90, Loss 0.0303\n",
      "Training Accuracy: 0.9650, Testing Accuracy: 0.9682\n",
      "\n"
     ]
    },
    {
     "name": "stdout",
     "output_type": "stream",
     "text": [
      "Epoch 100, Loss 0.0291\n",
      "Training Accuracy: 0.9669, Testing Accuracy: 0.9682\n",
      "\n"
     ]
    },
    {
     "name": "stdout",
     "output_type": "stream",
     "text": [
      "Epoch 110, Loss 0.0281\n",
      "Training Accuracy: 0.9675, Testing Accuracy: 0.9693\n",
      "\n"
     ]
    },
    {
     "name": "stdout",
     "output_type": "stream",
     "text": [
      "Epoch 120, Loss 0.0273\n",
      "Training Accuracy: 0.9681, Testing Accuracy: 0.9688\n",
      "\n"
     ]
    },
    {
     "name": "stdout",
     "output_type": "stream",
     "text": [
      "Epoch 130, Loss 0.0266\n",
      "Training Accuracy: 0.9688, Testing Accuracy: 0.9693\n",
      "\n"
     ]
    },
    {
     "name": "stdout",
     "output_type": "stream",
     "text": [
      "Epoch 140, Loss 0.0259\n",
      "Training Accuracy: 0.9695, Testing Accuracy: 0.9698\n",
      "\n"
     ]
    },
    {
     "name": "stdout",
     "output_type": "stream",
     "text": [
      "Epoch 150, Loss 0.0253\n",
      "Training Accuracy: 0.9700, Testing Accuracy: 0.9698\n",
      "\n"
     ]
    },
    {
     "name": "stdout",
     "output_type": "stream",
     "text": [
      "Epoch 160, Loss 0.0248\n",
      "Training Accuracy: 0.9708, Testing Accuracy: 0.9698\n",
      "\n"
     ]
    },
    {
     "name": "stdout",
     "output_type": "stream",
     "text": [
      "Epoch 170, Loss 0.0243\n",
      "Training Accuracy: 0.9718, Testing Accuracy: 0.9698\n",
      "\n"
     ]
    },
    {
     "name": "stdout",
     "output_type": "stream",
     "text": [
      "Epoch 180, Loss 0.0239\n",
      "Training Accuracy: 0.9724, Testing Accuracy: 0.9703\n",
      "\n"
     ]
    },
    {
     "name": "stdout",
     "output_type": "stream",
     "text": [
      "Epoch 190, Loss 0.0234\n",
      "Training Accuracy: 0.9725, Testing Accuracy: 0.9703\n",
      "\n"
     ]
    },
    {
     "name": "stdout",
     "output_type": "stream",
     "text": [
      "Epoch 200, Loss 0.023\n",
      "Training Accuracy: 0.9730, Testing Accuracy: 0.9703\n",
      "\n"
     ]
    },
    {
     "name": "stdout",
     "output_type": "stream",
     "text": [
      "Epoch 210, Loss 0.0226\n",
      "Training Accuracy: 0.9735, Testing Accuracy: 0.9708\n",
      "\n"
     ]
    },
    {
     "name": "stdout",
     "output_type": "stream",
     "text": [
      "Epoch 220, Loss 0.0223\n",
      "Training Accuracy: 0.9738, Testing Accuracy: 0.9708\n",
      "\n"
     ]
    },
    {
     "name": "stdout",
     "output_type": "stream",
     "text": [
      "Epoch 230, Loss 0.0219\n",
      "Training Accuracy: 0.9742, Testing Accuracy: 0.9708\n",
      "\n"
     ]
    },
    {
     "name": "stdout",
     "output_type": "stream",
     "text": [
      "Epoch 240, Loss 0.0216\n",
      "Training Accuracy: 0.9746, Testing Accuracy: 0.9708\n",
      "\n"
     ]
    },
    {
     "data": {
      "text/plain": [
       "0.004803784554017693"
      ]
     },
     "execution_count": 22,
     "metadata": {},
     "output_type": "execute_result"
    }
   ],
   "source": [
    "nn_learner.train_loop(dl)"
   ]
  },
  {
   "cell_type": "code",
   "execution_count": 23,
   "id": "e0163366",
   "metadata": {
    "execution": {
     "iopub.execute_input": "2022-02-23T00:34:05.102059Z",
     "iopub.status.busy": "2022-02-23T00:34:05.101429Z",
     "iopub.status.idle": "2022-02-23T00:34:21.847140Z",
     "shell.execute_reply": "2022-02-23T00:34:21.848001Z"
    },
    "papermill": {
     "duration": 16.796857,
     "end_time": "2022-02-23T00:34:21.848168",
     "exception": false,
     "start_time": "2022-02-23T00:34:05.051311",
     "status": "completed"
    },
    "tags": []
   },
   "outputs": [
    {
     "name": "stdout",
     "output_type": "stream",
     "text": [
      "Epoch 0, Loss 0.2709\n",
      "Training Accuracy: 0.5643, Testing Accuracy: 0.5988\n",
      "\n"
     ]
    },
    {
     "name": "stdout",
     "output_type": "stream",
     "text": [
      "Epoch 10, Loss 0.1006\n",
      "Training Accuracy: 0.9194, Testing Accuracy: 0.9335\n",
      "\n"
     ]
    },
    {
     "name": "stdout",
     "output_type": "stream",
     "text": [
      "Epoch 20, Loss 0.0772\n",
      "Training Accuracy: 0.9312, Testing Accuracy: 0.9425\n",
      "\n"
     ]
    },
    {
     "name": "stdout",
     "output_type": "stream",
     "text": [
      "Epoch 30, Loss 0.0667\n",
      "Training Accuracy: 0.9377, Testing Accuracy: 0.9496\n",
      "\n"
     ]
    },
    {
     "name": "stdout",
     "output_type": "stream",
     "text": [
      "Epoch 40, Loss 0.0604\n",
      "Training Accuracy: 0.9427, Testing Accuracy: 0.9546\n",
      "\n"
     ]
    },
    {
     "name": "stdout",
     "output_type": "stream",
     "text": [
      "Epoch 50, Loss 0.0561\n",
      "Training Accuracy: 0.9456, Testing Accuracy: 0.9577\n",
      "\n"
     ]
    },
    {
     "name": "stdout",
     "output_type": "stream",
     "text": [
      "Epoch 60, Loss 0.0529\n",
      "Training Accuracy: 0.9483, Testing Accuracy: 0.9592\n",
      "\n"
     ]
    },
    {
     "name": "stdout",
     "output_type": "stream",
     "text": [
      "Epoch 70, Loss 0.0505\n",
      "Training Accuracy: 0.9500, Testing Accuracy: 0.9617\n",
      "\n"
     ]
    },
    {
     "name": "stdout",
     "output_type": "stream",
     "text": [
      "Epoch 80, Loss 0.0485\n",
      "Training Accuracy: 0.9513, Testing Accuracy: 0.9632\n",
      "\n"
     ]
    },
    {
     "name": "stdout",
     "output_type": "stream",
     "text": [
      "Epoch 90, Loss 0.0469\n",
      "Training Accuracy: 0.9531, Testing Accuracy: 0.9627\n",
      "\n"
     ]
    },
    {
     "name": "stdout",
     "output_type": "stream",
     "text": [
      "Epoch 100, Loss 0.0455\n",
      "Training Accuracy: 0.9538, Testing Accuracy: 0.9637\n",
      "\n"
     ]
    },
    {
     "name": "stdout",
     "output_type": "stream",
     "text": [
      "Epoch 110, Loss 0.0444\n",
      "Training Accuracy: 0.9548, Testing Accuracy: 0.9652\n",
      "\n"
     ]
    },
    {
     "name": "stdout",
     "output_type": "stream",
     "text": [
      "Epoch 120, Loss 0.0434\n",
      "Training Accuracy: 0.9555, Testing Accuracy: 0.9647\n",
      "\n"
     ]
    },
    {
     "name": "stdout",
     "output_type": "stream",
     "text": [
      "Epoch 130, Loss 0.0425\n",
      "Training Accuracy: 0.9555, Testing Accuracy: 0.9647\n",
      "\n"
     ]
    },
    {
     "name": "stdout",
     "output_type": "stream",
     "text": [
      "Epoch 140, Loss 0.0417\n",
      "Training Accuracy: 0.9564, Testing Accuracy: 0.9652\n",
      "\n"
     ]
    },
    {
     "name": "stdout",
     "output_type": "stream",
     "text": [
      "Epoch 150, Loss 0.0409\n",
      "Training Accuracy: 0.9572, Testing Accuracy: 0.9657\n",
      "\n"
     ]
    },
    {
     "name": "stdout",
     "output_type": "stream",
     "text": [
      "Epoch 160, Loss 0.0403\n",
      "Training Accuracy: 0.9576, Testing Accuracy: 0.9652\n",
      "\n"
     ]
    },
    {
     "name": "stdout",
     "output_type": "stream",
     "text": [
      "Epoch 170, Loss 0.0397\n",
      "Training Accuracy: 0.9580, Testing Accuracy: 0.9662\n",
      "\n"
     ]
    },
    {
     "name": "stdout",
     "output_type": "stream",
     "text": [
      "Epoch 180, Loss 0.0392\n",
      "Training Accuracy: 0.9584, Testing Accuracy: 0.9667\n",
      "\n"
     ]
    },
    {
     "name": "stdout",
     "output_type": "stream",
     "text": [
      "Epoch 190, Loss 0.0387\n",
      "Training Accuracy: 0.9589, Testing Accuracy: 0.9677\n",
      "\n"
     ]
    },
    {
     "name": "stdout",
     "output_type": "stream",
     "text": [
      "Epoch 200, Loss 0.0382\n",
      "Training Accuracy: 0.9592, Testing Accuracy: 0.9682\n",
      "\n"
     ]
    },
    {
     "name": "stdout",
     "output_type": "stream",
     "text": [
      "Epoch 210, Loss 0.0378\n",
      "Training Accuracy: 0.9595, Testing Accuracy: 0.9682\n",
      "\n"
     ]
    },
    {
     "name": "stdout",
     "output_type": "stream",
     "text": [
      "Epoch 220, Loss 0.0374\n",
      "Training Accuracy: 0.9599, Testing Accuracy: 0.9682\n",
      "\n"
     ]
    },
    {
     "name": "stdout",
     "output_type": "stream",
     "text": [
      "Epoch 230, Loss 0.037\n",
      "Training Accuracy: 0.9605, Testing Accuracy: 0.9682\n",
      "\n"
     ]
    },
    {
     "name": "stdout",
     "output_type": "stream",
     "text": [
      "Epoch 240, Loss 0.0367\n",
      "Training Accuracy: 0.9608, Testing Accuracy: 0.9677\n",
      "\n"
     ]
    },
    {
     "data": {
      "text/plain": [
       "0.01378756230013797"
      ]
     },
     "execution_count": 23,
     "metadata": {},
     "output_type": "execute_result"
    }
   ],
   "source": [
    "lr_learner.train_loop(dl)"
   ]
  },
  {
   "cell_type": "code",
   "execution_count": 24,
   "id": "ca410940",
   "metadata": {
    "execution": {
     "iopub.execute_input": "2022-02-23T00:34:21.954072Z",
     "iopub.status.busy": "2022-02-23T00:34:21.953426Z",
     "iopub.status.idle": "2022-02-23T00:34:22.207247Z",
     "shell.execute_reply": "2022-02-23T00:34:22.206705Z"
    },
    "papermill": {
     "duration": 0.313028,
     "end_time": "2022-02-23T00:34:22.207387",
     "exception": false,
     "start_time": "2022-02-23T00:34:21.894359",
     "status": "completed"
    },
    "tags": []
   },
   "outputs": [
    {
     "data": {
      "text/plain": [
       "<matplotlib.legend.Legend at 0x7f9b08700c88>"
      ]
     },
     "execution_count": 24,
     "metadata": {},
     "output_type": "execute_result"
    },
    {
     "data": {
      "image/png": "[encoded data removed]",
      "text/plain": [
       "<Figure size 1080x720 with 1 Axes>"
      ]
     },
     "metadata": {
      "needs_background": "light"
     },
     "output_type": "display_data"
    }
   ],
   "source": [
    "#comparing the results of NN and LR\n",
    "plt.figure(figsize=(15,10))\n",
    "\n",
    "# Neural Network plots\n",
    "plt.plot(acc_nn.accuracies, 'r-', label = \"Training Accuracies - NN\")\n",
    "plt.plot(acc_nn.test_accuracies, 'g-', label = \"Testing Accuracies - NN\")\n",
    "\n",
    "# Logistic Regression plots\n",
    "plt.plot(acc_lr.accuracies, 'k-', label = \"Training Accuracies - LR\")\n",
    "plt.plot(acc_lr.test_accuracies, 'b-', label = \"Testing Accuracies - LR\")\n",
    "plt.legend()"
   ]
  },
  {
   "cell_type": "markdown",
   "id": "80dfb35c",
   "metadata": {
    "papermill": {
     "duration": 0.047437,
     "end_time": "2022-02-23T00:34:22.302491",
     "exception": false,
     "start_time": "2022-02-23T00:34:22.255054",
     "status": "completed"
    },
    "tags": []
   },
   "source": [
    "#### Plotting the outputs of this layer of the NN.\n"
   ]
  },
  {
   "cell_type": "code",
   "execution_count": 25,
   "id": "45eb2ff5",
   "metadata": {
    "execution": {
     "iopub.execute_input": "2022-02-23T00:34:22.406523Z",
     "iopub.status.busy": "2022-02-23T00:34:22.404148Z",
     "iopub.status.idle": "2022-02-23T00:34:22.428409Z",
     "shell.execute_reply": "2022-02-23T00:34:22.429043Z"
    },
    "papermill": {
     "duration": 0.079386,
     "end_time": "2022-02-23T00:34:22.429211",
     "exception": false,
     "start_time": "2022-02-23T00:34:22.349825",
     "status": "completed"
    },
    "tags": []
   },
   "outputs": [],
   "source": [
    "new_model = Model(layers[:-2])\n",
    "testing_plot = new_model(testing_data_x)"
   ]
  },
  {
   "cell_type": "code",
   "execution_count": 26,
   "id": "4c0a5485",
   "metadata": {
    "execution": {
     "iopub.execute_input": "2022-02-23T00:34:22.533194Z",
     "iopub.status.busy": "2022-02-23T00:34:22.532561Z",
     "iopub.status.idle": "2022-02-23T00:34:22.828394Z",
     "shell.execute_reply": "2022-02-23T00:34:22.828932Z"
    },
    "papermill": {
     "duration": 0.349655,
     "end_time": "2022-02-23T00:34:22.829097",
     "exception": false,
     "start_time": "2022-02-23T00:34:22.479442",
     "status": "completed"
    },
    "tags": []
   },
   "outputs": [
    {
     "data": {
      "text/plain": [
       "Text(0.5, 1.0, 'Outputs')"
      ]
     },
     "execution_count": 26,
     "metadata": {},
     "output_type": "execute_result"
    },
    {
     "data": {
      "image/png": "[encoded data removed]",
      "text/plain": [
       "<Figure size 576x504 with 1 Axes>"
      ]
     },
     "metadata": {
      "needs_background": "light"
     },
     "output_type": "display_data"
    }
   ],
   "source": [
    "# Plotting the scatter plot of points and color coding by class\n",
    "plt.figure(figsize=(8,7))\n",
    "plt.scatter(testing_plot[:,0], testing_plot[:,1], alpha = 0.1, c = y_test.ravel());\n",
    "plt.title('Outputs')"
   ]
  },
  {
   "cell_type": "markdown",
   "id": "a74fcf8f",
   "metadata": {
    "papermill": {
     "duration": 0.054898,
     "end_time": "2022-02-23T00:34:22.940909",
     "exception": false,
     "start_time": "2022-02-23T00:34:22.886011",
     "status": "completed"
    },
    "tags": []
   },
   "source": [
    "Probability contours"
   ]
  },
  {
   "cell_type": "code",
   "execution_count": 27,
   "id": "d0afc8e3",
   "metadata": {
    "execution": {
     "iopub.execute_input": "2022-02-23T00:34:23.059767Z",
     "iopub.status.busy": "2022-02-23T00:34:23.059066Z",
     "iopub.status.idle": "2022-02-23T00:34:23.074598Z",
     "shell.execute_reply": "2022-02-23T00:34:23.074062Z"
    },
    "papermill": {
     "duration": 0.072683,
     "end_time": "2022-02-23T00:34:23.074736",
     "exception": false,
     "start_time": "2022-02-23T00:34:23.002053",
     "status": "completed"
    },
    "tags": []
   },
   "outputs": [],
   "source": [
    "model_prob = Model(layers[-2:]) "
   ]
  },
  {
   "cell_type": "code",
   "execution_count": 28,
   "id": "9b96e238",
   "metadata": {
    "execution": {
     "iopub.execute_input": "2022-02-23T00:34:23.233549Z",
     "iopub.status.busy": "2022-02-23T00:34:23.232917Z",
     "iopub.status.idle": "2022-02-23T00:34:23.249152Z",
     "shell.execute_reply": "2022-02-23T00:34:23.249614Z"
    },
    "papermill": {
     "duration": 0.112394,
     "end_time": "2022-02-23T00:34:23.249771",
     "exception": false,
     "start_time": "2022-02-23T00:34:23.137377",
     "status": "completed"
    },
    "tags": []
   },
   "outputs": [],
   "source": [
    "#creating the x and y ranges according to the above generated plot.\n",
    "x_range = np.linspace(-4, 1, 100) \n",
    "y_range = np.linspace(-6, 6, 100) \n",
    "x_grid, y_grid = np.meshgrid(x_range, y_range) # x_grid and y_grig are of size 100 X 100\n",
    "\n",
    "# converting x_grid and y_grid to continuous arrays\n",
    "x_gridflat = np.ravel(x_grid)\n",
    "y_gridflat = np.ravel(y_grid)\n",
    "\n",
    "# The last layer of the current model takes two columns as input. Hence transpose of np.vstack() is required.\n",
    "X = np.vstack((x_gridflat, y_gridflat)).T\n",
    "\n",
    "prob_contour = model_prob(X).reshape(100,100) "
   ]
  },
  {
   "cell_type": "code",
   "execution_count": 29,
   "id": "da72499a",
   "metadata": {
    "execution": {
     "iopub.execute_input": "2022-02-23T00:34:23.374152Z",
     "iopub.status.busy": "2022-02-23T00:34:23.373513Z",
     "iopub.status.idle": "2022-02-23T00:34:23.696046Z",
     "shell.execute_reply": "2022-02-23T00:34:23.695534Z"
    },
    "papermill": {
     "duration": 0.391809,
     "end_time": "2022-02-23T00:34:23.696188",
     "exception": false,
     "start_time": "2022-02-23T00:34:23.304379",
     "status": "completed"
    },
    "tags": []
   },
   "outputs": [
    {
     "data": {
      "image/png": "[encoded data removed]",
      "text/plain": [
       "<Figure size 720x648 with 1 Axes>"
      ]
     },
     "metadata": {
      "needs_background": "light"
     },
     "output_type": "display_data"
    }
   ],
   "source": [
    "plt.figure(figsize=(10,9))\n",
    "plt.scatter(testing_plot[:,0], testing_plot[:,1], alpha = 0.1, c = y_test.ravel())\n",
    "contours = plt.contour(x_grid,y_grid,prob_contour)\n",
    "plt.title('Probability Contours')\n",
    "plt.clabel(contours, inline = True );"
   ]
  },
  {
   "cell_type": "code",
   "execution_count": null,
   "id": "e81b4ac7",
   "metadata": {
    "papermill": {
     "duration": 0.060293,
     "end_time": "2022-02-23T00:34:23.819932",
     "exception": false,
     "start_time": "2022-02-23T00:34:23.759639",
     "status": "completed"
    },
    "tags": []
   },
   "outputs": [],
   "source": []
  }
 ],
 "metadata": {
  "kernelspec": {
   "display_name": "Python 3",
   "language": "python",
   "name": "python3"
  },
  "language_info": {
   "codemirror_mode": {
    "name": "ipython",
    "version": 3
   },
   "file_extension": ".py",
   "mimetype": "text/x-python",
   "name": "python",
   "nbconvert_exporter": "python",
   "pygments_lexer": "ipython3",
   "version": "3.6.15"
  },
  "papermill": {
   "default_parameters": {},
   "duration": 117.24965,
   "end_time": "2022-02-23T00:34:24.299683",
   "environment_variables": {},
   "exception": null,
   "input_path": "2020-08-11-part2.ipynb",
   "output_path": "2020-08-11-part2.ipynb",
   "parameters": {},
   "start_time": "2022-02-23T00:32:27.050033",
   "version": "2.3.3"
  }
 },
 "nbformat": 4,
 "nbformat_minor": 5
}