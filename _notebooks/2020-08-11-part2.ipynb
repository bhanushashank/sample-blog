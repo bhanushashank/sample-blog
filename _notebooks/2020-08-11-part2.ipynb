{
 "cells": [
  {
   "cell_type": "markdown",
   "id": "98380cd3",
   "metadata": {
    "papermill": {
     "duration": 0.029421,
     "end_time": "2022-03-08T10:09:42.886053",
     "exception": false,
     "start_time": "2022-03-08T10:09:42.856632",
     "status": "completed"
    },
    "tags": []
   },
   "source": [
    "# Distinguish Your Own Digits (DYOD)"
   ]
  },
  {
   "cell_type": "markdown",
   "id": "ef31240d",
   "metadata": {
    "papermill": {
     "duration": 0.025645,
     "end_time": "2022-03-08T10:09:42.936514",
     "exception": false,
     "start_time": "2022-03-08T10:09:42.910869",
     "status": "completed"
    },
    "tags": []
   },
   "source": [
    "You are going to write a classifier that distinguishes between the number 3 and number 8."
   ]
  },
  {
   "cell_type": "code",
   "execution_count": 1,
   "id": "b15c8646",
   "metadata": {
    "execution": {
     "iopub.execute_input": "2022-03-08T10:09:42.995444Z",
     "iopub.status.busy": "2022-03-08T10:09:42.994878Z",
     "iopub.status.idle": "2022-03-08T10:09:43.005615Z",
     "shell.execute_reply": "2022-03-08T10:09:43.005167Z"
    },
    "papermill": {
     "duration": 0.045021,
     "end_time": "2022-03-08T10:09:43.005753",
     "exception": false,
     "start_time": "2022-03-08T10:09:42.960732",
     "status": "completed"
    },
    "tags": []
   },
   "outputs": [],
   "source": [
    "%load_ext autoreload\n",
    "%autoreload 2"
   ]
  },
  {
   "cell_type": "code",
   "execution_count": 2,
   "id": "22ef38dc",
   "metadata": {
    "execution": {
     "iopub.execute_input": "2022-03-08T10:09:43.058700Z",
     "iopub.status.busy": "2022-03-08T10:09:43.058167Z",
     "iopub.status.idle": "2022-03-08T10:09:43.658103Z",
     "shell.execute_reply": "2022-03-08T10:09:43.657586Z"
    },
    "papermill": {
     "duration": 0.628258,
     "end_time": "2022-03-08T10:09:43.658243",
     "exception": false,
     "start_time": "2022-03-08T10:09:43.029985",
     "status": "completed"
    },
    "tags": []
   },
   "outputs": [],
   "source": [
    "%matplotlib inline\n",
    "import numpy as np\n",
    "import matplotlib.pyplot as plt\n",
    "import pandas as pd"
   ]
  },
  {
   "cell_type": "markdown",
   "id": "ba036198",
   "metadata": {
    "papermill": {
     "duration": 0.024341,
     "end_time": "2022-03-08T10:09:43.707211",
     "exception": false,
     "start_time": "2022-03-08T10:09:43.682870",
     "status": "completed"
    },
    "tags": []
   },
   "source": [
    "From the command line run `pip install mnist`. This is a library that will help you bring down the mnist dataset. If you run this from a notebook, you need to put  `!pip install mnist` in a cell by itself."
   ]
  },
  {
   "cell_type": "code",
   "execution_count": 3,
   "id": "bb6ad8a1",
   "metadata": {
    "execution": {
     "iopub.execute_input": "2022-03-08T10:09:43.760325Z",
     "iopub.status.busy": "2022-03-08T10:09:43.759766Z",
     "iopub.status.idle": "2022-03-08T10:09:46.353062Z",
     "shell.execute_reply": "2022-03-08T10:09:46.352506Z"
    },
    "papermill": {
     "duration": 2.621535,
     "end_time": "2022-03-08T10:09:46.353184",
     "exception": false,
     "start_time": "2022-03-08T10:09:43.731649",
     "status": "completed"
    },
    "tags": []
   },
   "outputs": [
    {
     "name": "stdout",
     "output_type": "stream",
     "text": [
      "Collecting mnist\r\n"
     ]
    },
    {
     "name": "stdout",
     "output_type": "stream",
     "text": [
      "  Downloading mnist-0.2.2-py2.py3-none-any.whl (3.5 kB)\r\n",
      "Requirement already satisfied: numpy in /opt/hostedtoolcache/Python/3.6.15/x64/lib/python3.6/site-packages (from mnist) (1.19.5)\r\n"
     ]
    },
    {
     "name": "stdout",
     "output_type": "stream",
     "text": [
      "Installing collected packages: mnist\r\n"
     ]
    },
    {
     "name": "stdout",
     "output_type": "stream",
     "text": [
      "Successfully installed mnist-0.2.2\r\n"
     ]
    }
   ],
   "source": [
    "!pip install mnist"
   ]
  },
  {
   "cell_type": "markdown",
   "id": "69df9c9a",
   "metadata": {
    "papermill": {
     "duration": 0.02555,
     "end_time": "2022-03-08T10:09:46.404462",
     "exception": false,
     "start_time": "2022-03-08T10:09:46.378912",
     "status": "completed"
    },
    "tags": []
   },
   "source": [
    "## Preparing the Data"
   ]
  },
  {
   "cell_type": "code",
   "execution_count": 4,
   "id": "7f69d806",
   "metadata": {
    "execution": {
     "iopub.execute_input": "2022-03-08T10:09:46.465085Z",
     "iopub.status.busy": "2022-03-08T10:09:46.464542Z",
     "iopub.status.idle": "2022-03-08T10:09:46.475708Z",
     "shell.execute_reply": "2022-03-08T10:09:46.475279Z"
    },
    "papermill": {
     "duration": 0.046117,
     "end_time": "2022-03-08T10:09:46.475849",
     "exception": false,
     "start_time": "2022-03-08T10:09:46.429732",
     "status": "completed"
    },
    "tags": []
   },
   "outputs": [],
   "source": [
    "import mnist"
   ]
  },
  {
   "cell_type": "code",
   "execution_count": 5,
   "id": "a411e44f",
   "metadata": {
    "execution": {
     "iopub.execute_input": "2022-03-08T10:09:46.530694Z",
     "iopub.status.busy": "2022-03-08T10:09:46.530172Z",
     "iopub.status.idle": "2022-03-08T10:09:47.071766Z",
     "shell.execute_reply": "2022-03-08T10:09:47.071244Z"
    },
    "papermill": {
     "duration": 0.570503,
     "end_time": "2022-03-08T10:09:47.071942",
     "exception": false,
     "start_time": "2022-03-08T10:09:46.501439",
     "status": "completed"
    },
    "tags": []
   },
   "outputs": [],
   "source": [
    "train_images = mnist.train_images()\n",
    "train_labels = mnist.train_labels()"
   ]
  },
  {
   "cell_type": "code",
   "execution_count": 6,
   "id": "dceab3a5",
   "metadata": {
    "execution": {
     "iopub.execute_input": "2022-03-08T10:09:47.144436Z",
     "iopub.status.busy": "2022-03-08T10:09:47.129633Z",
     "iopub.status.idle": "2022-03-08T10:09:47.149749Z",
     "shell.execute_reply": "2022-03-08T10:09:47.149292Z"
    },
    "papermill": {
     "duration": 0.051424,
     "end_time": "2022-03-08T10:09:47.149868",
     "exception": false,
     "start_time": "2022-03-08T10:09:47.098444",
     "status": "completed"
    },
    "tags": []
   },
   "outputs": [
    {
     "data": {
      "text/plain": [
       "((60000, 28, 28), (60000,))"
      ]
     },
     "execution_count": 6,
     "metadata": {},
     "output_type": "execute_result"
    }
   ],
   "source": [
    "train_images.shape, train_labels.shape"
   ]
  },
  {
   "cell_type": "code",
   "execution_count": 7,
   "id": "f50dc2bb",
   "metadata": {
    "execution": {
     "iopub.execute_input": "2022-03-08T10:09:47.205308Z",
     "iopub.status.busy": "2022-03-08T10:09:47.204785Z",
     "iopub.status.idle": "2022-03-08T10:09:47.350858Z",
     "shell.execute_reply": "2022-03-08T10:09:47.350333Z"
    },
    "papermill": {
     "duration": 0.175487,
     "end_time": "2022-03-08T10:09:47.351002",
     "exception": false,
     "start_time": "2022-03-08T10:09:47.175515",
     "status": "completed"
    },
    "tags": []
   },
   "outputs": [],
   "source": [
    "test_images = mnist.test_images()\n",
    "test_labels = mnist.test_labels()"
   ]
  },
  {
   "cell_type": "code",
   "execution_count": 8,
   "id": "fc38cf1b",
   "metadata": {
    "execution": {
     "iopub.execute_input": "2022-03-08T10:09:47.407314Z",
     "iopub.status.busy": "2022-03-08T10:09:47.406759Z",
     "iopub.status.idle": "2022-03-08T10:09:47.422765Z",
     "shell.execute_reply": "2022-03-08T10:09:47.421890Z"
    },
    "papermill": {
     "duration": 0.045737,
     "end_time": "2022-03-08T10:09:47.422904",
     "exception": false,
     "start_time": "2022-03-08T10:09:47.377167",
     "status": "completed"
    },
    "tags": []
   },
   "outputs": [
    {
     "data": {
      "text/plain": [
       "((10000, 28, 28), (10000,))"
      ]
     },
     "execution_count": 8,
     "metadata": {},
     "output_type": "execute_result"
    }
   ],
   "source": [
    "test_images.shape, test_labels.shape"
   ]
  },
  {
   "cell_type": "code",
   "execution_count": 9,
   "id": "f9ed8fe0",
   "metadata": {
    "execution": {
     "iopub.execute_input": "2022-03-08T10:09:47.480944Z",
     "iopub.status.busy": "2022-03-08T10:09:47.478726Z",
     "iopub.status.idle": "2022-03-08T10:09:47.617677Z",
     "shell.execute_reply": "2022-03-08T10:09:47.617154Z"
    },
    "papermill": {
     "duration": 0.168601,
     "end_time": "2022-03-08T10:09:47.617808",
     "exception": false,
     "start_time": "2022-03-08T10:09:47.449207",
     "status": "completed"
    },
    "tags": []
   },
   "outputs": [
    {
     "name": "stdout",
     "output_type": "stream",
     "text": [
      "2\n"
     ]
    },
    {
     "data": {
      "text/plain": [
       "<matplotlib.image.AxesImage at 0x7f081f6695c0>"
      ]
     },
     "execution_count": 9,
     "metadata": {},
     "output_type": "execute_result"
    },
    {
     "data": {
      "image/png": "[encoded data removed]",
      "text/plain": [
       "<Figure size 432x288 with 1 Axes>"
      ]
     },
     "metadata": {
      "needs_background": "light"
     },
     "output_type": "display_data"
    }
   ],
   "source": [
    "image_index = 7776 # You may select anything up to 60,000\n",
    "print(train_labels[image_index]) \n",
    "plt.imshow(train_images[image_index], cmap='Greys')"
   ]
  },
  {
   "cell_type": "markdown",
   "id": "a8d2388d",
   "metadata": {
    "papermill": {
     "duration": 0.026785,
     "end_time": "2022-03-08T10:09:47.672712",
     "exception": false,
     "start_time": "2022-03-08T10:09:47.645927",
     "status": "completed"
    },
    "tags": []
   },
   "source": [
    "## Filter data to get 3 and 8 out"
   ]
  },
  {
   "cell_type": "code",
   "execution_count": 10,
   "id": "776f7fc7",
   "metadata": {
    "execution": {
     "iopub.execute_input": "2022-03-08T10:09:47.732596Z",
     "iopub.status.busy": "2022-03-08T10:09:47.731949Z",
     "iopub.status.idle": "2022-03-08T10:09:47.749909Z",
     "shell.execute_reply": "2022-03-08T10:09:47.749436Z"
    },
    "papermill": {
     "duration": 0.049721,
     "end_time": "2022-03-08T10:09:47.750032",
     "exception": false,
     "start_time": "2022-03-08T10:09:47.700311",
     "status": "completed"
    },
    "tags": []
   },
   "outputs": [],
   "source": [
    "train_filter = np.where((train_labels == 3 ) | (train_labels == 8))\n",
    "test_filter = np.where((test_labels == 3) | (test_labels == 8))\n",
    "X_train, y_train = train_images[train_filter], train_labels[train_filter]\n",
    "X_test, y_test = test_images[test_filter], test_labels[test_filter]"
   ]
  },
  {
   "cell_type": "markdown",
   "id": "948f0b7e",
   "metadata": {
    "papermill": {
     "duration": 0.027067,
     "end_time": "2022-03-08T10:09:47.804474",
     "exception": false,
     "start_time": "2022-03-08T10:09:47.777407",
     "status": "completed"
    },
    "tags": []
   },
   "source": [
    "We normalize the pizel values in the 0 to 1 range"
   ]
  },
  {
   "cell_type": "code",
   "execution_count": 11,
   "id": "ee4c2166",
   "metadata": {
    "execution": {
     "iopub.execute_input": "2022-03-08T10:09:47.876683Z",
     "iopub.status.busy": "2022-03-08T10:09:47.872777Z",
     "iopub.status.idle": "2022-03-08T10:09:47.914064Z",
     "shell.execute_reply": "2022-03-08T10:09:47.913562Z"
    },
    "papermill": {
     "duration": 0.082725,
     "end_time": "2022-03-08T10:09:47.914206",
     "exception": false,
     "start_time": "2022-03-08T10:09:47.831481",
     "status": "completed"
    },
    "tags": []
   },
   "outputs": [],
   "source": [
    "X_train = X_train/255.\n",
    "X_test = X_test/255."
   ]
  },
  {
   "cell_type": "markdown",
   "id": "ddcf4fab",
   "metadata": {
    "papermill": {
     "duration": 0.02693,
     "end_time": "2022-03-08T10:09:47.968316",
     "exception": false,
     "start_time": "2022-03-08T10:09:47.941386",
     "status": "completed"
    },
    "tags": []
   },
   "source": [
    "And setup the labels as 1 (when the digit is 3) and 0 (when the digit is 8)"
   ]
  },
  {
   "cell_type": "code",
   "execution_count": 12,
   "id": "7dc908f2",
   "metadata": {
    "execution": {
     "iopub.execute_input": "2022-03-08T10:09:48.026164Z",
     "iopub.status.busy": "2022-03-08T10:09:48.025638Z",
     "iopub.status.idle": "2022-03-08T10:09:48.038057Z",
     "shell.execute_reply": "2022-03-08T10:09:48.037615Z"
    },
    "papermill": {
     "duration": 0.042988,
     "end_time": "2022-03-08T10:09:48.038181",
     "exception": false,
     "start_time": "2022-03-08T10:09:47.995193",
     "status": "completed"
    },
    "tags": []
   },
   "outputs": [],
   "source": [
    "y_train = 1*(y_train==3)\n",
    "y_test = 1*(y_test==3)"
   ]
  },
  {
   "cell_type": "code",
   "execution_count": 13,
   "id": "01e4e969",
   "metadata": {
    "execution": {
     "iopub.execute_input": "2022-03-08T10:09:48.097090Z",
     "iopub.status.busy": "2022-03-08T10:09:48.096554Z",
     "iopub.status.idle": "2022-03-08T10:09:48.109777Z",
     "shell.execute_reply": "2022-03-08T10:09:48.109345Z"
    },
    "papermill": {
     "duration": 0.044599,
     "end_time": "2022-03-08T10:09:48.109899",
     "exception": false,
     "start_time": "2022-03-08T10:09:48.065300",
     "status": "completed"
    },
    "tags": []
   },
   "outputs": [
    {
     "data": {
      "text/plain": [
       "((11982, 28, 28), (1984, 28, 28))"
      ]
     },
     "execution_count": 13,
     "metadata": {},
     "output_type": "execute_result"
    }
   ],
   "source": [
    "X_train.shape, X_test.shape"
   ]
  },
  {
   "cell_type": "markdown",
   "id": "5ccf3f85",
   "metadata": {
    "papermill": {
     "duration": 0.027274,
     "end_time": "2022-03-08T10:09:48.164300",
     "exception": false,
     "start_time": "2022-03-08T10:09:48.137026",
     "status": "completed"
    },
    "tags": []
   },
   "source": [
    "We reshape the data to flatten the image pixels into a set of features or co-variates:"
   ]
  },
  {
   "cell_type": "code",
   "execution_count": 14,
   "id": "5286a4a3",
   "metadata": {
    "execution": {
     "iopub.execute_input": "2022-03-08T10:09:48.229255Z",
     "iopub.status.busy": "2022-03-08T10:09:48.228698Z",
     "iopub.status.idle": "2022-03-08T10:09:48.239543Z",
     "shell.execute_reply": "2022-03-08T10:09:48.239115Z"
    },
    "papermill": {
     "duration": 0.04806,
     "end_time": "2022-03-08T10:09:48.239665",
     "exception": false,
     "start_time": "2022-03-08T10:09:48.191605",
     "status": "completed"
    },
    "tags": []
   },
   "outputs": [
    {
     "data": {
      "text/plain": [
       "((11982, 784), (1984, 784))"
      ]
     },
     "execution_count": 14,
     "metadata": {},
     "output_type": "execute_result"
    }
   ],
   "source": [
    "X_train = X_train.reshape(X_train.shape[0], -1)\n",
    "X_test = X_test.reshape(X_test.shape[0], -1)\n",
    "X_train.shape, X_test.shape"
   ]
  },
  {
   "cell_type": "code",
   "execution_count": 15,
   "id": "73c5f88a",
   "metadata": {
    "execution": {
     "iopub.execute_input": "2022-03-08T10:09:48.299890Z",
     "iopub.status.busy": "2022-03-08T10:09:48.299295Z",
     "iopub.status.idle": "2022-03-08T10:09:48.317794Z",
     "shell.execute_reply": "2022-03-08T10:09:48.318203Z"
    },
    "papermill": {
     "duration": 0.051096,
     "end_time": "2022-03-08T10:09:48.318350",
     "exception": false,
     "start_time": "2022-03-08T10:09:48.267254",
     "status": "completed"
    },
    "tags": []
   },
   "outputs": [],
   "source": [
    "#Impoting functions from 'Kudzu'\n",
    "from kudzu.model import Model\n",
    "from kudzu.train import Learner\n",
    "from kudzu.optim import GD\n",
    "from kudzu.data import Data, Sampler,Dataloader\n",
    "\n",
    "from kudzu.callbacks import AccCallback\n",
    "from kudzu.callbacks import ClfCallback\n",
    "\n",
    "from kudzu.loss import MSE\n",
    "\n",
    "from kudzu.layer import Sigmoid,Relu\n",
    "from kudzu.layer import Affine"
   ]
  },
  {
   "cell_type": "markdown",
   "id": "bc01172a",
   "metadata": {
    "papermill": {
     "duration": 0.027352,
     "end_time": "2022-03-08T10:09:48.373551",
     "exception": false,
     "start_time": "2022-03-08T10:09:48.346199",
     "status": "completed"
    },
    "tags": []
   },
   "source": [
    "### Let us create a `Config` class, to store important parameters. \n",
    "This class essentially plays the role of a dictionary."
   ]
  },
  {
   "cell_type": "code",
   "execution_count": 16,
   "id": "978281aa",
   "metadata": {
    "execution": {
     "iopub.execute_input": "2022-03-08T10:09:48.432233Z",
     "iopub.status.busy": "2022-03-08T10:09:48.431645Z",
     "iopub.status.idle": "2022-03-08T10:09:48.443931Z",
     "shell.execute_reply": "2022-03-08T10:09:48.444448Z"
    },
    "papermill": {
     "duration": 0.043711,
     "end_time": "2022-03-08T10:09:48.444589",
     "exception": false,
     "start_time": "2022-03-08T10:09:48.400878",
     "status": "completed"
    },
    "tags": []
   },
   "outputs": [],
   "source": [
    "class Config:\n",
    "    pass\n",
    "config = Config()\n",
    "config.lr = 0.001\n",
    "config.num_epochs = 250\n",
    "config.bs = 50"
   ]
  },
  {
   "cell_type": "markdown",
   "id": "1385fa59",
   "metadata": {
    "papermill": {
     "duration": 0.027547,
     "end_time": "2022-03-08T10:09:48.499761",
     "exception": false,
     "start_time": "2022-03-08T10:09:48.472214",
     "status": "completed"
    },
    "tags": []
   },
   "source": [
    "### Running Models with the Training data\n",
    "Details about the network layers:\n",
    "- A first affine layer has 784 inputs and does 100 affine transforms. These are followed by a Relu\n",
    "- A second affine layer has 100 inputs from the 100 activations of the past layer, and does 100 affine transforms. These are followed by a Relu\n",
    "- A third affine layer has 100 activations and does 2 affine transformations to create an embedding for visualization. There is no non-linearity here.\n",
    "- A final \"logistic regression\" which has an affine transform from 2 inputs to 1 output, which is squeezed through a sigmoid.\n"
   ]
  },
  {
   "cell_type": "code",
   "execution_count": 17,
   "id": "2b9c66db",
   "metadata": {
    "execution": {
     "iopub.execute_input": "2022-03-08T10:09:48.560414Z",
     "iopub.status.busy": "2022-03-08T10:09:48.559846Z",
     "iopub.status.idle": "2022-03-08T10:09:48.571463Z",
     "shell.execute_reply": "2022-03-08T10:09:48.571034Z"
    },
    "papermill": {
     "duration": 0.044119,
     "end_time": "2022-03-08T10:09:48.571580",
     "exception": false,
     "start_time": "2022-03-08T10:09:48.527461",
     "status": "completed"
    },
    "tags": []
   },
   "outputs": [],
   "source": [
    "data = Data(X_train, y_train.reshape(-1,1))\n",
    "sampler = Sampler(data, config.bs, shuffle=True)\n",
    "\n",
    "dl = Dataloader(data, sampler)\n",
    "\n",
    "opt = GD(config.lr)\n",
    "loss = MSE()"
   ]
  },
  {
   "cell_type": "code",
   "execution_count": 18,
   "id": "b275e4c2",
   "metadata": {
    "execution": {
     "iopub.execute_input": "2022-03-08T10:09:48.631024Z",
     "iopub.status.busy": "2022-03-08T10:09:48.630482Z",
     "iopub.status.idle": "2022-03-08T10:09:48.642092Z",
     "shell.execute_reply": "2022-03-08T10:09:48.641658Z"
    },
    "papermill": {
     "duration": 0.043049,
     "end_time": "2022-03-08T10:09:48.642216",
     "exception": false,
     "start_time": "2022-03-08T10:09:48.599167",
     "status": "completed"
    },
    "tags": []
   },
   "outputs": [],
   "source": [
    "training_data_x = X_train\n",
    "testing_data_x = X_test\n",
    "training_data_y = y_train.reshape(-1,1)\n",
    "testing_data_y = y_test.reshape(-1,1)"
   ]
  },
  {
   "cell_type": "code",
   "execution_count": 19,
   "id": "76951160",
   "metadata": {
    "execution": {
     "iopub.execute_input": "2022-03-08T10:09:48.702971Z",
     "iopub.status.busy": "2022-03-08T10:09:48.702432Z",
     "iopub.status.idle": "2022-03-08T10:09:48.719115Z",
     "shell.execute_reply": "2022-03-08T10:09:48.718658Z"
    },
    "papermill": {
     "duration": 0.049341,
     "end_time": "2022-03-08T10:09:48.719236",
     "exception": false,
     "start_time": "2022-03-08T10:09:48.669895",
     "status": "completed"
    },
    "tags": []
   },
   "outputs": [
    {
     "name": "stdout",
     "output_type": "stream",
     "text": [
      "xavier\n",
      "xavier\n",
      "xavier\n",
      "xavier\n",
      "xavier\n"
     ]
    }
   ],
   "source": [
    "layers = [Affine(\"first\", 784, 100), Relu(\"first\"), Affine(\"second\", 100, 100), Relu(\"second\"), Affine(\"third\", 100, 2), Affine(\"last\", 2, 1), Sigmoid(\"last\")]\n",
    "model_nn = Model(layers)\n",
    "model_lr = Model([Affine(\"logits\", 784, 1), Sigmoid(\"sigmoid\")])"
   ]
  },
  {
   "cell_type": "code",
   "execution_count": 20,
   "id": "6eede77a",
   "metadata": {
    "execution": {
     "iopub.execute_input": "2022-03-08T10:09:48.780056Z",
     "iopub.status.busy": "2022-03-08T10:09:48.779453Z",
     "iopub.status.idle": "2022-03-08T10:09:48.792066Z",
     "shell.execute_reply": "2022-03-08T10:09:48.791593Z"
    },
    "papermill": {
     "duration": 0.04494,
     "end_time": "2022-03-08T10:09:48.792197",
     "exception": false,
     "start_time": "2022-03-08T10:09:48.747257",
     "status": "completed"
    },
    "tags": []
   },
   "outputs": [],
   "source": [
    "nn_learner = Learner(loss, model_nn, opt, config.num_epochs)\n",
    "acc_nn = ClfCallback(nn_learner, config.bs, training_data_x , testing_data_x, training_data_y, testing_data_y)\n",
    "nn_learner.set_callbacks([acc_nn])"
   ]
  },
  {
   "cell_type": "code",
   "execution_count": 21,
   "id": "877b6cc7",
   "metadata": {
    "execution": {
     "iopub.execute_input": "2022-03-08T10:09:48.852078Z",
     "iopub.status.busy": "2022-03-08T10:09:48.851509Z",
     "iopub.status.idle": "2022-03-08T10:09:48.863636Z",
     "shell.execute_reply": "2022-03-08T10:09:48.864080Z"
    },
    "papermill": {
     "duration": 0.044126,
     "end_time": "2022-03-08T10:09:48.864223",
     "exception": false,
     "start_time": "2022-03-08T10:09:48.820097",
     "status": "completed"
    },
    "tags": []
   },
   "outputs": [],
   "source": [
    "lr_learner = Learner(loss, model_lr, opt, config.num_epochs)\n",
    "acc_lr = ClfCallback(lr_learner, config.bs, training_data_x , testing_data_x, training_data_y, testing_data_y)\n",
    "lr_learner.set_callbacks([acc_lr])"
   ]
  },
  {
   "cell_type": "code",
   "execution_count": 22,
   "id": "d9b133c3",
   "metadata": {
    "execution": {
     "iopub.execute_input": "2022-03-08T10:09:48.923678Z",
     "iopub.status.busy": "2022-03-08T10:09:48.923158Z",
     "iopub.status.idle": "2022-03-08T10:11:08.798423Z",
     "shell.execute_reply": "2022-03-08T10:11:08.799184Z"
    },
    "papermill": {
     "duration": 79.907174,
     "end_time": "2022-03-08T10:11:08.799337",
     "exception": false,
     "start_time": "2022-03-08T10:09:48.892163",
     "status": "completed"
    },
    "tags": []
   },
   "outputs": [
    {
     "name": "stdout",
     "output_type": "stream",
     "text": [
      "Epoch 0, Loss 0.2528\n",
      "Training Accuracy: 0.6525, Testing Accuracy: 0.6593\n",
      "\n"
     ]
    },
    {
     "name": "stdout",
     "output_type": "stream",
     "text": [
      "Epoch 10, Loss 0.0787\n",
      "Training Accuracy: 0.9286, Testing Accuracy: 0.9400\n",
      "\n"
     ]
    },
    {
     "name": "stdout",
     "output_type": "stream",
     "text": [
      "Epoch 20, Loss 0.0503\n",
      "Training Accuracy: 0.9474, Testing Accuracy: 0.9561\n",
      "\n"
     ]
    },
    {
     "name": "stdout",
     "output_type": "stream",
     "text": [
      "Epoch 30, Loss 0.0407\n",
      "Training Accuracy: 0.9548, Testing Accuracy: 0.9602\n",
      "\n"
     ]
    },
    {
     "name": "stdout",
     "output_type": "stream",
     "text": [
      "Epoch 40, Loss 0.0358\n",
      "Training Accuracy: 0.9605, Testing Accuracy: 0.9632\n",
      "\n"
     ]
    },
    {
     "name": "stdout",
     "output_type": "stream",
     "text": [
      "Epoch 50, Loss 0.0327\n",
      "Training Accuracy: 0.9641, Testing Accuracy: 0.9647\n",
      "\n"
     ]
    },
    {
     "name": "stdout",
     "output_type": "stream",
     "text": [
      "Epoch 60, Loss 0.0305\n",
      "Training Accuracy: 0.9663, Testing Accuracy: 0.9688\n",
      "\n"
     ]
    },
    {
     "name": "stdout",
     "output_type": "stream",
     "text": [
      "Epoch 70, Loss 0.0287\n",
      "Training Accuracy: 0.9676, Testing Accuracy: 0.9708\n",
      "\n"
     ]
    },
    {
     "name": "stdout",
     "output_type": "stream",
     "text": [
      "Epoch 80, Loss 0.0273\n",
      "Training Accuracy: 0.9694, Testing Accuracy: 0.9723\n",
      "\n"
     ]
    },
    {
     "name": "stdout",
     "output_type": "stream",
     "text": [
      "Epoch 90, Loss 0.0262\n",
      "Training Accuracy: 0.9709, Testing Accuracy: 0.9738\n",
      "\n"
     ]
    },
    {
     "name": "stdout",
     "output_type": "stream",
     "text": [
      "Epoch 100, Loss 0.0251\n",
      "Training Accuracy: 0.9718, Testing Accuracy: 0.9738\n",
      "\n"
     ]
    },
    {
     "name": "stdout",
     "output_type": "stream",
     "text": [
      "Epoch 110, Loss 0.0242\n",
      "Training Accuracy: 0.9727, Testing Accuracy: 0.9738\n",
      "\n"
     ]
    },
    {
     "name": "stdout",
     "output_type": "stream",
     "text": [
      "Epoch 120, Loss 0.0234\n",
      "Training Accuracy: 0.9736, Testing Accuracy: 0.9733\n",
      "\n"
     ]
    },
    {
     "name": "stdout",
     "output_type": "stream",
     "text": [
      "Epoch 130, Loss 0.0227\n",
      "Training Accuracy: 0.9745, Testing Accuracy: 0.9728\n",
      "\n"
     ]
    },
    {
     "name": "stdout",
     "output_type": "stream",
     "text": [
      "Epoch 140, Loss 0.022\n",
      "Training Accuracy: 0.9750, Testing Accuracy: 0.9728\n",
      "\n"
     ]
    },
    {
     "name": "stdout",
     "output_type": "stream",
     "text": [
      "Epoch 150, Loss 0.0213\n",
      "Training Accuracy: 0.9757, Testing Accuracy: 0.9733\n",
      "\n"
     ]
    },
    {
     "name": "stdout",
     "output_type": "stream",
     "text": [
      "Epoch 160, Loss 0.0207\n",
      "Training Accuracy: 0.9765, Testing Accuracy: 0.9743\n",
      "\n"
     ]
    },
    {
     "name": "stdout",
     "output_type": "stream",
     "text": [
      "Epoch 170, Loss 0.0202\n",
      "Training Accuracy: 0.9774, Testing Accuracy: 0.9748\n",
      "\n"
     ]
    },
    {
     "name": "stdout",
     "output_type": "stream",
     "text": [
      "Epoch 180, Loss 0.0196\n",
      "Training Accuracy: 0.9781, Testing Accuracy: 0.9753\n",
      "\n"
     ]
    },
    {
     "name": "stdout",
     "output_type": "stream",
     "text": [
      "Epoch 190, Loss 0.0191\n",
      "Training Accuracy: 0.9791, Testing Accuracy: 0.9748\n",
      "\n"
     ]
    },
    {
     "name": "stdout",
     "output_type": "stream",
     "text": [
      "Epoch 200, Loss 0.0187\n",
      "Training Accuracy: 0.9799, Testing Accuracy: 0.9753\n",
      "\n"
     ]
    },
    {
     "name": "stdout",
     "output_type": "stream",
     "text": [
      "Epoch 210, Loss 0.0182\n",
      "Training Accuracy: 0.9803, Testing Accuracy: 0.9753\n",
      "\n"
     ]
    },
    {
     "name": "stdout",
     "output_type": "stream",
     "text": [
      "Epoch 220, Loss 0.0178\n",
      "Training Accuracy: 0.9807, Testing Accuracy: 0.9758\n",
      "\n"
     ]
    },
    {
     "name": "stdout",
     "output_type": "stream",
     "text": [
      "Epoch 230, Loss 0.0173\n",
      "Training Accuracy: 0.9810, Testing Accuracy: 0.9758\n",
      "\n"
     ]
    },
    {
     "name": "stdout",
     "output_type": "stream",
     "text": [
      "Epoch 240, Loss 0.0169\n",
      "Training Accuracy: 0.9816, Testing Accuracy: 0.9758\n",
      "\n"
     ]
    },
    {
     "data": {
      "text/plain": [
       "0.033353041575905906"
      ]
     },
     "execution_count": 22,
     "metadata": {},
     "output_type": "execute_result"
    }
   ],
   "source": [
    "nn_learner.train_loop(dl)"
   ]
  },
  {
   "cell_type": "code",
   "execution_count": 23,
   "id": "e0163366",
   "metadata": {
    "execution": {
     "iopub.execute_input": "2022-03-08T10:11:08.877781Z",
     "iopub.status.busy": "2022-03-08T10:11:08.877239Z",
     "iopub.status.idle": "2022-03-08T10:11:23.060752Z",
     "shell.execute_reply": "2022-03-08T10:11:23.061253Z"
    },
    "papermill": {
     "duration": 14.226773,
     "end_time": "2022-03-08T10:11:23.061397",
     "exception": false,
     "start_time": "2022-03-08T10:11:08.834624",
     "status": "completed"
    },
    "tags": []
   },
   "outputs": [
    {
     "name": "stdout",
     "output_type": "stream",
     "text": [
      "Epoch 0, Loss 0.2618\n",
      "Training Accuracy: 0.6516, Testing Accuracy: 0.6457\n",
      "\n"
     ]
    },
    {
     "name": "stdout",
     "output_type": "stream",
     "text": [
      "Epoch 10, Loss 0.1011\n",
      "Training Accuracy: 0.9135, Testing Accuracy: 0.9259\n",
      "\n"
     ]
    },
    {
     "name": "stdout",
     "output_type": "stream",
     "text": [
      "Epoch 20, Loss 0.0777\n",
      "Training Accuracy: 0.9284, Testing Accuracy: 0.9456\n",
      "\n"
     ]
    },
    {
     "name": "stdout",
     "output_type": "stream",
     "text": [
      "Epoch 30, Loss 0.0672\n",
      "Training Accuracy: 0.9372, Testing Accuracy: 0.9496\n",
      "\n"
     ]
    },
    {
     "name": "stdout",
     "output_type": "stream",
     "text": [
      "Epoch 40, Loss 0.0609\n",
      "Training Accuracy: 0.9427, Testing Accuracy: 0.9541\n",
      "\n"
     ]
    },
    {
     "name": "stdout",
     "output_type": "stream",
     "text": [
      "Epoch 50, Loss 0.0567\n",
      "Training Accuracy: 0.9464, Testing Accuracy: 0.9577\n",
      "\n"
     ]
    },
    {
     "name": "stdout",
     "output_type": "stream",
     "text": [
      "Epoch 60, Loss 0.0535\n",
      "Training Accuracy: 0.9487, Testing Accuracy: 0.9582\n",
      "\n"
     ]
    },
    {
     "name": "stdout",
     "output_type": "stream",
     "text": [
      "Epoch 70, Loss 0.051\n",
      "Training Accuracy: 0.9498, Testing Accuracy: 0.9597\n",
      "\n"
     ]
    },
    {
     "name": "stdout",
     "output_type": "stream",
     "text": [
      "Epoch 80, Loss 0.049\n",
      "Training Accuracy: 0.9510, Testing Accuracy: 0.9617\n",
      "\n"
     ]
    },
    {
     "name": "stdout",
     "output_type": "stream",
     "text": [
      "Epoch 90, Loss 0.0474\n",
      "Training Accuracy: 0.9519, Testing Accuracy: 0.9637\n",
      "\n"
     ]
    },
    {
     "name": "stdout",
     "output_type": "stream",
     "text": [
      "Epoch 100, Loss 0.046\n",
      "Training Accuracy: 0.9535, Testing Accuracy: 0.9632\n",
      "\n"
     ]
    },
    {
     "name": "stdout",
     "output_type": "stream",
     "text": [
      "Epoch 110, Loss 0.0448\n",
      "Training Accuracy: 0.9546, Testing Accuracy: 0.9637\n",
      "\n"
     ]
    },
    {
     "name": "stdout",
     "output_type": "stream",
     "text": [
      "Epoch 120, Loss 0.0437\n",
      "Training Accuracy: 0.9556, Testing Accuracy: 0.9632\n",
      "\n"
     ]
    },
    {
     "name": "stdout",
     "output_type": "stream",
     "text": [
      "Epoch 130, Loss 0.0428\n",
      "Training Accuracy: 0.9561, Testing Accuracy: 0.9642\n",
      "\n"
     ]
    },
    {
     "name": "stdout",
     "output_type": "stream",
     "text": [
      "Epoch 140, Loss 0.042\n",
      "Training Accuracy: 0.9563, Testing Accuracy: 0.9642\n",
      "\n"
     ]
    },
    {
     "name": "stdout",
     "output_type": "stream",
     "text": [
      "Epoch 150, Loss 0.0412\n",
      "Training Accuracy: 0.9574, Testing Accuracy: 0.9657\n",
      "\n"
     ]
    },
    {
     "name": "stdout",
     "output_type": "stream",
     "text": [
      "Epoch 160, Loss 0.0406\n",
      "Training Accuracy: 0.9574, Testing Accuracy: 0.9657\n",
      "\n"
     ]
    },
    {
     "name": "stdout",
     "output_type": "stream",
     "text": [
      "Epoch 170, Loss 0.04\n",
      "Training Accuracy: 0.9579, Testing Accuracy: 0.9657\n",
      "\n"
     ]
    },
    {
     "name": "stdout",
     "output_type": "stream",
     "text": [
      "Epoch 180, Loss 0.0394\n",
      "Training Accuracy: 0.9585, Testing Accuracy: 0.9662\n",
      "\n"
     ]
    },
    {
     "name": "stdout",
     "output_type": "stream",
     "text": [
      "Epoch 190, Loss 0.0389\n",
      "Training Accuracy: 0.9589, Testing Accuracy: 0.9662\n",
      "\n"
     ]
    },
    {
     "name": "stdout",
     "output_type": "stream",
     "text": [
      "Epoch 200, Loss 0.0384\n",
      "Training Accuracy: 0.9590, Testing Accuracy: 0.9662\n",
      "\n"
     ]
    },
    {
     "name": "stdout",
     "output_type": "stream",
     "text": [
      "Epoch 210, Loss 0.038\n",
      "Training Accuracy: 0.9596, Testing Accuracy: 0.9662\n",
      "\n"
     ]
    },
    {
     "name": "stdout",
     "output_type": "stream",
     "text": [
      "Epoch 220, Loss 0.0376\n",
      "Training Accuracy: 0.9599, Testing Accuracy: 0.9662\n",
      "\n"
     ]
    },
    {
     "name": "stdout",
     "output_type": "stream",
     "text": [
      "Epoch 230, Loss 0.0372\n",
      "Training Accuracy: 0.9603, Testing Accuracy: 0.9662\n",
      "\n"
     ]
    },
    {
     "name": "stdout",
     "output_type": "stream",
     "text": [
      "Epoch 240, Loss 0.0368\n",
      "Training Accuracy: 0.9602, Testing Accuracy: 0.9662\n",
      "\n"
     ]
    },
    {
     "data": {
      "text/plain": [
       "0.059454851266132605"
      ]
     },
     "execution_count": 23,
     "metadata": {},
     "output_type": "execute_result"
    }
   ],
   "source": [
    "lr_learner.train_loop(dl)"
   ]
  },
  {
   "cell_type": "code",
   "execution_count": 24,
   "id": "ca410940",
   "metadata": {
    "execution": {
     "iopub.execute_input": "2022-03-08T10:11:23.153531Z",
     "iopub.status.busy": "2022-03-08T10:11:23.152967Z",
     "iopub.status.idle": "2022-03-08T10:11:23.387314Z",
     "shell.execute_reply": "2022-03-08T10:11:23.386453Z"
    },
    "papermill": {
     "duration": 0.284518,
     "end_time": "2022-03-08T10:11:23.387456",
     "exception": false,
     "start_time": "2022-03-08T10:11:23.102938",
     "status": "completed"
    },
    "tags": []
   },
   "outputs": [
    {
     "data": {
      "text/plain": [
       "<matplotlib.legend.Legend at 0x7f081f247d30>"
      ]
     },
     "execution_count": 24,
     "metadata": {},
     "output_type": "execute_result"
    },
    {
     "data": {
      "image/png": "[encoded data removed]",
      "text/plain": [
       "<Figure size 1080x720 with 1 Axes>"
      ]
     },
     "metadata": {
      "needs_background": "light"
     },
     "output_type": "display_data"
    }
   ],
   "source": [
    "#comparing the results of NN and LR\n",
    "plt.figure(figsize=(15,10))\n",
    "\n",
    "# Neural Network plots\n",
    "plt.plot(acc_nn.accuracies, 'r-', label = \"Training Accuracies - NN\")\n",
    "plt.plot(acc_nn.test_accuracies, 'g-', label = \"Testing Accuracies - NN\")\n",
    "\n",
    "# Logistic Regression plots\n",
    "plt.plot(acc_lr.accuracies, 'k-', label = \"Training Accuracies - LR\")\n",
    "plt.plot(acc_lr.test_accuracies, 'b-', label = \"Testing Accuracies - LR\")\n",
    "plt.legend()"
   ]
  },
  {
   "cell_type": "markdown",
   "id": "80dfb35c",
   "metadata": {
    "papermill": {
     "duration": 0.043303,
     "end_time": "2022-03-08T10:11:23.473800",
     "exception": false,
     "start_time": "2022-03-08T10:11:23.430497",
     "status": "completed"
    },
    "tags": []
   },
   "source": [
    "#### Plotting the outputs of this layer of the NN.\n"
   ]
  },
  {
   "cell_type": "code",
   "execution_count": 25,
   "id": "45eb2ff5",
   "metadata": {
    "execution": {
     "iopub.execute_input": "2022-03-08T10:11:23.563653Z",
     "iopub.status.busy": "2022-03-08T10:11:23.563111Z",
     "iopub.status.idle": "2022-03-08T10:11:23.583415Z",
     "shell.execute_reply": "2022-03-08T10:11:23.583879Z"
    },
    "papermill": {
     "duration": 0.067205,
     "end_time": "2022-03-08T10:11:23.584040",
     "exception": false,
     "start_time": "2022-03-08T10:11:23.516835",
     "status": "completed"
    },
    "tags": []
   },
   "outputs": [],
   "source": [
    "new_model = Model(layers[:-2])\n",
    "testing_plot = new_model(testing_data_x)"
   ]
  },
  {
   "cell_type": "code",
   "execution_count": 26,
   "id": "4c0a5485",
   "metadata": {
    "execution": {
     "iopub.execute_input": "2022-03-08T10:11:23.678552Z",
     "iopub.status.busy": "2022-03-08T10:11:23.675957Z",
     "iopub.status.idle": "2022-03-08T10:11:23.863598Z",
     "shell.execute_reply": "2022-03-08T10:11:23.863079Z"
    },
    "papermill": {
     "duration": 0.236667,
     "end_time": "2022-03-08T10:11:23.863732",
     "exception": false,
     "start_time": "2022-03-08T10:11:23.627065",
     "status": "completed"
    },
    "tags": []
   },
   "outputs": [
    {
     "data": {
      "text/plain": [
       "Text(0.5, 1.0, 'Outputs')"
      ]
     },
     "execution_count": 26,
     "metadata": {},
     "output_type": "execute_result"
    },
    {
     "data": {
      "image/png": "[encoded data removed]",
      "text/plain": [
       "<Figure size 576x504 with 1 Axes>"
      ]
     },
     "metadata": {
      "needs_background": "light"
     },
     "output_type": "display_data"
    }
   ],
   "source": [
    "# Plotting the scatter plot of points and color coding by class\n",
    "plt.figure(figsize=(8,7))\n",
    "plt.scatter(testing_plot[:,0], testing_plot[:,1], alpha = 0.1, c = y_test.ravel());\n",
    "plt.title('Outputs')"
   ]
  },
  {
   "cell_type": "markdown",
   "id": "a74fcf8f",
   "metadata": {
    "papermill": {
     "duration": 0.044789,
     "end_time": "2022-03-08T10:11:23.953813",
     "exception": false,
     "start_time": "2022-03-08T10:11:23.909024",
     "status": "completed"
    },
    "tags": []
   },
   "source": [
    "Probability contours"
   ]
  },
  {
   "cell_type": "code",
   "execution_count": 27,
   "id": "d0afc8e3",
   "metadata": {
    "execution": {
     "iopub.execute_input": "2022-03-08T10:11:24.049205Z",
     "iopub.status.busy": "2022-03-08T10:11:24.048664Z",
     "iopub.status.idle": "2022-03-08T10:11:24.059899Z",
     "shell.execute_reply": "2022-03-08T10:11:24.059439Z"
    },
    "papermill": {
     "duration": 0.061233,
     "end_time": "2022-03-08T10:11:24.060031",
     "exception": false,
     "start_time": "2022-03-08T10:11:23.998798",
     "status": "completed"
    },
    "tags": []
   },
   "outputs": [],
   "source": [
    "model_prob = Model(layers[-2:]) "
   ]
  },
  {
   "cell_type": "code",
   "execution_count": 28,
   "id": "9b96e238",
   "metadata": {
    "execution": {
     "iopub.execute_input": "2022-03-08T10:11:24.193219Z",
     "iopub.status.busy": "2022-03-08T10:11:24.192312Z",
     "iopub.status.idle": "2022-03-08T10:11:24.203608Z",
     "shell.execute_reply": "2022-03-08T10:11:24.204029Z"
    },
    "papermill": {
     "duration": 0.067861,
     "end_time": "2022-03-08T10:11:24.204175",
     "exception": false,
     "start_time": "2022-03-08T10:11:24.136314",
     "status": "completed"
    },
    "tags": []
   },
   "outputs": [],
   "source": [
    "#creating the x and y ranges according to the above generated plot.\n",
    "x_range = np.linspace(-4, 1, 100) \n",
    "y_range = np.linspace(-6, 6, 100) \n",
    "x_grid, y_grid = np.meshgrid(x_range, y_range) # x_grid and y_grig are of size 100 X 100\n",
    "\n",
    "# converting x_grid and y_grid to continuous arrays\n",
    "x_gridflat = np.ravel(x_grid)\n",
    "y_gridflat = np.ravel(y_grid)\n",
    "\n",
    "# The last layer of the current model takes two columns as input. Hence transpose of np.vstack() is required.\n",
    "X = np.vstack((x_gridflat, y_gridflat)).T\n",
    "\n",
    "prob_contour = model_prob(X).reshape(100,100) "
   ]
  },
  {
   "cell_type": "code",
   "execution_count": 29,
   "id": "da72499a",
   "metadata": {
    "execution": {
     "iopub.execute_input": "2022-03-08T10:11:24.299140Z",
     "iopub.status.busy": "2022-03-08T10:11:24.298590Z",
     "iopub.status.idle": "2022-03-08T10:11:24.542975Z",
     "shell.execute_reply": "2022-03-08T10:11:24.542526Z"
    },
    "papermill": {
     "duration": 0.29394,
     "end_time": "2022-03-08T10:11:24.543100",
     "exception": false,
     "start_time": "2022-03-08T10:11:24.249160",
     "status": "completed"
    },
    "tags": []
   },
   "outputs": [
    {
     "data": {
      "image/png": "[encoded data removed]",
      "text/plain": [
       "<Figure size 720x648 with 1 Axes>"
      ]
     },
     "metadata": {
      "needs_background": "light"
     },
     "output_type": "display_data"
    }
   ],
   "source": [
    "plt.figure(figsize=(10,9))\n",
    "plt.scatter(testing_plot[:,0], testing_plot[:,1], alpha = 0.1, c = y_test.ravel())\n",
    "contours = plt.contour(x_grid,y_grid,prob_contour)\n",
    "plt.title('Probability Contours')\n",
    "plt.clabel(contours, inline = True );"
   ]
  },
  {
   "cell_type": "code",
   "execution_count": null,
   "id": "e81b4ac7",
   "metadata": {
    "papermill": {
     "duration": 0.048104,
     "end_time": "2022-03-08T10:11:24.639295",
     "exception": false,
     "start_time": "2022-03-08T10:11:24.591191",
     "status": "completed"
    },
    "tags": []
   },
   "outputs": [],
   "source": []
  }
 ],
 "metadata": {
  "kernelspec": {
   "display_name": "Python 3",
   "language": "python",
   "name": "python3"
  },
  "language_info": {
   "codemirror_mode": {
    "name": "ipython",
    "version": 3
   },
   "file_extension": ".py",
   "mimetype": "text/x-python",
   "name": "python",
   "nbconvert_exporter": "python",
   "pygments_lexer": "ipython3",
   "version": "3.6.15"
  },
  "papermill": {
   "default_parameters": {},
   "duration": 103.202685,
   "end_time": "2022-03-08T10:11:25.105908",
   "environment_variables": {},
   "exception": null,
   "input_path": "2020-08-11-part2.ipynb",
   "output_path": "2020-08-11-part2.ipynb",
   "parameters": {},
   "start_time": "2022-03-08T10:09:41.903223",
   "version": "2.3.3"
  }
 },
 "nbformat": 4,
 "nbformat_minor": 5
}