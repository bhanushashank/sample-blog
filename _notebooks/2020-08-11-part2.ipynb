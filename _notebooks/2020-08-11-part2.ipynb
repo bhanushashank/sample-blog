{
 "cells": [
  {
   "cell_type": "markdown",
   "id": "98380cd3",
   "metadata": {
    "papermill": {
     "duration": 0.032339,
     "end_time": "2022-01-17T20:09:31.319578",
     "exception": false,
     "start_time": "2022-01-17T20:09:31.287239",
     "status": "completed"
    },
    "tags": []
   },
   "source": [
    "# Distinguish Your Own Digits (DYOD)"
   ]
  },
  {
   "cell_type": "markdown",
   "id": "ef31240d",
   "metadata": {
    "papermill": {
     "duration": 0.027549,
     "end_time": "2022-01-17T20:09:31.375388",
     "exception": false,
     "start_time": "2022-01-17T20:09:31.347839",
     "status": "completed"
    },
    "tags": []
   },
   "source": [
    "You are going to write a classifier that distinguishes between the number 3 and number 8."
   ]
  },
  {
   "cell_type": "code",
   "execution_count": 1,
   "id": "b15c8646",
   "metadata": {
    "execution": {
     "iopub.execute_input": "2022-01-17T20:09:31.445926Z",
     "iopub.status.busy": "2022-01-17T20:09:31.445278Z",
     "iopub.status.idle": "2022-01-17T20:09:31.458125Z",
     "shell.execute_reply": "2022-01-17T20:09:31.457587Z"
    },
    "papermill": {
     "duration": 0.055521,
     "end_time": "2022-01-17T20:09:31.458277",
     "exception": false,
     "start_time": "2022-01-17T20:09:31.402756",
     "status": "completed"
    },
    "tags": []
   },
   "outputs": [],
   "source": [
    "%load_ext autoreload\n",
    "%autoreload 2"
   ]
  },
  {
   "cell_type": "code",
   "execution_count": 2,
   "id": "22ef38dc",
   "metadata": {
    "execution": {
     "iopub.execute_input": "2022-01-17T20:09:31.518138Z",
     "iopub.status.busy": "2022-01-17T20:09:31.517535Z",
     "iopub.status.idle": "2022-01-17T20:09:32.201994Z",
     "shell.execute_reply": "2022-01-17T20:09:32.201315Z"
    },
    "papermill": {
     "duration": 0.716206,
     "end_time": "2022-01-17T20:09:32.202138",
     "exception": false,
     "start_time": "2022-01-17T20:09:31.485932",
     "status": "completed"
    },
    "tags": []
   },
   "outputs": [],
   "source": [
    "%matplotlib inline\n",
    "import numpy as np\n",
    "import matplotlib.pyplot as plt\n",
    "import pandas as pd"
   ]
  },
  {
   "cell_type": "markdown",
   "id": "ba036198",
   "metadata": {
    "papermill": {
     "duration": 0.027542,
     "end_time": "2022-01-17T20:09:32.257089",
     "exception": false,
     "start_time": "2022-01-17T20:09:32.229547",
     "status": "completed"
    },
    "tags": []
   },
   "source": [
    "From the command line run `pip install mnist`. This is a library that will help you bring down the mnist dataset. If you run this from a notebook, you need to put  `!pip install mnist` in a cell by itself."
   ]
  },
  {
   "cell_type": "code",
   "execution_count": 3,
   "id": "bb6ad8a1",
   "metadata": {
    "execution": {
     "iopub.execute_input": "2022-01-17T20:09:32.317812Z",
     "iopub.status.busy": "2022-01-17T20:09:32.316533Z",
     "iopub.status.idle": "2022-01-17T20:09:34.393175Z",
     "shell.execute_reply": "2022-01-17T20:09:34.394050Z"
    },
    "papermill": {
     "duration": 2.109672,
     "end_time": "2022-01-17T20:09:34.394298",
     "exception": false,
     "start_time": "2022-01-17T20:09:32.284626",
     "status": "completed"
    },
    "tags": []
   },
   "outputs": [
    {
     "name": "stdout",
     "output_type": "stream",
     "text": [
      "Collecting mnist\r\n"
     ]
    },
    {
     "name": "stdout",
     "output_type": "stream",
     "text": [
      "  Downloading mnist-0.2.2-py2.py3-none-any.whl (3.5 kB)\r\n"
     ]
    },
    {
     "name": "stdout",
     "output_type": "stream",
     "text": [
      "Requirement already satisfied: numpy in /opt/hostedtoolcache/Python/3.6.15/x64/lib/python3.6/site-packages (from mnist) (1.19.5)\r\n"
     ]
    },
    {
     "name": "stdout",
     "output_type": "stream",
     "text": [
      "Installing collected packages: mnist\r\n"
     ]
    },
    {
     "name": "stdout",
     "output_type": "stream",
     "text": [
      "Successfully installed mnist-0.2.2\r\n"
     ]
    }
   ],
   "source": [
    "!pip install mnist"
   ]
  },
  {
   "cell_type": "markdown",
   "id": "69df9c9a",
   "metadata": {
    "papermill": {
     "duration": 0.02876,
     "end_time": "2022-01-17T20:09:34.452199",
     "exception": false,
     "start_time": "2022-01-17T20:09:34.423439",
     "status": "completed"
    },
    "tags": []
   },
   "source": [
    "## Preparing the Data"
   ]
  },
  {
   "cell_type": "code",
   "execution_count": 4,
   "id": "7f69d806",
   "metadata": {
    "execution": {
     "iopub.execute_input": "2022-01-17T20:09:34.516736Z",
     "iopub.status.busy": "2022-01-17T20:09:34.512694Z",
     "iopub.status.idle": "2022-01-17T20:09:34.528969Z",
     "shell.execute_reply": "2022-01-17T20:09:34.528454Z"
    },
    "papermill": {
     "duration": 0.048826,
     "end_time": "2022-01-17T20:09:34.529095",
     "exception": false,
     "start_time": "2022-01-17T20:09:34.480269",
     "status": "completed"
    },
    "tags": []
   },
   "outputs": [],
   "source": [
    "import mnist"
   ]
  },
  {
   "cell_type": "code",
   "execution_count": 5,
   "id": "a411e44f",
   "metadata": {
    "execution": {
     "iopub.execute_input": "2022-01-17T20:09:34.591509Z",
     "iopub.status.busy": "2022-01-17T20:09:34.590874Z",
     "iopub.status.idle": "2022-01-17T20:09:35.185508Z",
     "shell.execute_reply": "2022-01-17T20:09:35.184572Z"
    },
    "papermill": {
     "duration": 0.62779,
     "end_time": "2022-01-17T20:09:35.185723",
     "exception": false,
     "start_time": "2022-01-17T20:09:34.557933",
     "status": "completed"
    },
    "tags": []
   },
   "outputs": [],
   "source": [
    "train_images = mnist.train_images()\n",
    "train_labels = mnist.train_labels()"
   ]
  },
  {
   "cell_type": "code",
   "execution_count": 6,
   "id": "dceab3a5",
   "metadata": {
    "execution": {
     "iopub.execute_input": "2022-01-17T20:09:35.249829Z",
     "iopub.status.busy": "2022-01-17T20:09:35.249223Z",
     "iopub.status.idle": "2022-01-17T20:09:35.265055Z",
     "shell.execute_reply": "2022-01-17T20:09:35.264564Z"
    },
    "papermill": {
     "duration": 0.050197,
     "end_time": "2022-01-17T20:09:35.265190",
     "exception": false,
     "start_time": "2022-01-17T20:09:35.214993",
     "status": "completed"
    },
    "tags": []
   },
   "outputs": [
    {
     "data": {
      "text/plain": [
       "((60000, 28, 28), (60000,))"
      ]
     },
     "execution_count": 6,
     "metadata": {},
     "output_type": "execute_result"
    }
   ],
   "source": [
    "train_images.shape, train_labels.shape"
   ]
  },
  {
   "cell_type": "code",
   "execution_count": 7,
   "id": "f50dc2bb",
   "metadata": {
    "execution": {
     "iopub.execute_input": "2022-01-17T20:09:35.328533Z",
     "iopub.status.busy": "2022-01-17T20:09:35.327928Z",
     "iopub.status.idle": "2022-01-17T20:09:35.492268Z",
     "shell.execute_reply": "2022-01-17T20:09:35.491449Z"
    },
    "papermill": {
     "duration": 0.198299,
     "end_time": "2022-01-17T20:09:35.492406",
     "exception": false,
     "start_time": "2022-01-17T20:09:35.294107",
     "status": "completed"
    },
    "tags": []
   },
   "outputs": [],
   "source": [
    "test_images = mnist.test_images()\n",
    "test_labels = mnist.test_labels()"
   ]
  },
  {
   "cell_type": "code",
   "execution_count": 8,
   "id": "fc38cf1b",
   "metadata": {
    "execution": {
     "iopub.execute_input": "2022-01-17T20:09:35.555031Z",
     "iopub.status.busy": "2022-01-17T20:09:35.554432Z",
     "iopub.status.idle": "2022-01-17T20:09:35.568685Z",
     "shell.execute_reply": "2022-01-17T20:09:35.568236Z"
    },
    "papermill": {
     "duration": 0.047703,
     "end_time": "2022-01-17T20:09:35.568809",
     "exception": false,
     "start_time": "2022-01-17T20:09:35.521106",
     "status": "completed"
    },
    "tags": []
   },
   "outputs": [
    {
     "data": {
      "text/plain": [
       "((10000, 28, 28), (10000,))"
      ]
     },
     "execution_count": 8,
     "metadata": {},
     "output_type": "execute_result"
    }
   ],
   "source": [
    "test_images.shape, test_labels.shape"
   ]
  },
  {
   "cell_type": "code",
   "execution_count": 9,
   "id": "f9ed8fe0",
   "metadata": {
    "execution": {
     "iopub.execute_input": "2022-01-17T20:09:35.631857Z",
     "iopub.status.busy": "2022-01-17T20:09:35.631228Z",
     "iopub.status.idle": "2022-01-17T20:09:35.790365Z",
     "shell.execute_reply": "2022-01-17T20:09:35.790844Z"
    },
    "papermill": {
     "duration": 0.193399,
     "end_time": "2022-01-17T20:09:35.791012",
     "exception": false,
     "start_time": "2022-01-17T20:09:35.597613",
     "status": "completed"
    },
    "tags": []
   },
   "outputs": [
    {
     "name": "stdout",
     "output_type": "stream",
     "text": [
      "2\n"
     ]
    },
    {
     "data": {
      "text/plain": [
       "<matplotlib.image.AxesImage at 0x7f154adef518>"
      ]
     },
     "execution_count": 9,
     "metadata": {},
     "output_type": "execute_result"
    },
    {
     "data": {
      "image/png": "[encoded data removed]",
      "text/plain": [
       "<Figure size 432x288 with 1 Axes>"
      ]
     },
     "metadata": {
      "needs_background": "light"
     },
     "output_type": "display_data"
    }
   ],
   "source": [
    "image_index = 7776 # You may select anything up to 60,000\n",
    "print(train_labels[image_index]) \n",
    "plt.imshow(train_images[image_index], cmap='Greys')"
   ]
  },
  {
   "cell_type": "markdown",
   "id": "a8d2388d",
   "metadata": {
    "papermill": {
     "duration": 0.030575,
     "end_time": "2022-01-17T20:09:35.851327",
     "exception": false,
     "start_time": "2022-01-17T20:09:35.820752",
     "status": "completed"
    },
    "tags": []
   },
   "source": [
    "## Filter data to get 3 and 8 out"
   ]
  },
  {
   "cell_type": "code",
   "execution_count": 10,
   "id": "776f7fc7",
   "metadata": {
    "execution": {
     "iopub.execute_input": "2022-01-17T20:09:35.918676Z",
     "iopub.status.busy": "2022-01-17T20:09:35.918053Z",
     "iopub.status.idle": "2022-01-17T20:09:35.938003Z",
     "shell.execute_reply": "2022-01-17T20:09:35.937494Z"
    },
    "papermill": {
     "duration": 0.057124,
     "end_time": "2022-01-17T20:09:35.938138",
     "exception": false,
     "start_time": "2022-01-17T20:09:35.881014",
     "status": "completed"
    },
    "tags": []
   },
   "outputs": [],
   "source": [
    "train_filter = np.where((train_labels == 3 ) | (train_labels == 8))\n",
    "test_filter = np.where((test_labels == 3) | (test_labels == 8))\n",
    "X_train, y_train = train_images[train_filter], train_labels[train_filter]\n",
    "X_test, y_test = test_images[test_filter], test_labels[test_filter]"
   ]
  },
  {
   "cell_type": "markdown",
   "id": "948f0b7e",
   "metadata": {
    "papermill": {
     "duration": 0.030765,
     "end_time": "2022-01-17T20:09:35.999380",
     "exception": false,
     "start_time": "2022-01-17T20:09:35.968615",
     "status": "completed"
    },
    "tags": []
   },
   "source": [
    "We normalize the pizel values in the 0 to 1 range"
   ]
  },
  {
   "cell_type": "code",
   "execution_count": 11,
   "id": "ee4c2166",
   "metadata": {
    "execution": {
     "iopub.execute_input": "2022-01-17T20:09:36.064591Z",
     "iopub.status.busy": "2022-01-17T20:09:36.063989Z",
     "iopub.status.idle": "2022-01-17T20:09:36.120983Z",
     "shell.execute_reply": "2022-01-17T20:09:36.120091Z"
    },
    "papermill": {
     "duration": 0.091744,
     "end_time": "2022-01-17T20:09:36.121209",
     "exception": false,
     "start_time": "2022-01-17T20:09:36.029465",
     "status": "completed"
    },
    "tags": []
   },
   "outputs": [],
   "source": [
    "X_train = X_train/255.\n",
    "X_test = X_test/255."
   ]
  },
  {
   "cell_type": "markdown",
   "id": "ddcf4fab",
   "metadata": {
    "papermill": {
     "duration": 0.030784,
     "end_time": "2022-01-17T20:09:36.182724",
     "exception": false,
     "start_time": "2022-01-17T20:09:36.151940",
     "status": "completed"
    },
    "tags": []
   },
   "source": [
    "And setup the labels as 1 (when the digit is 3) and 0 (when the digit is 8)"
   ]
  },
  {
   "cell_type": "code",
   "execution_count": 12,
   "id": "7dc908f2",
   "metadata": {
    "execution": {
     "iopub.execute_input": "2022-01-17T20:09:36.246832Z",
     "iopub.status.busy": "2022-01-17T20:09:36.246214Z",
     "iopub.status.idle": "2022-01-17T20:09:36.260084Z",
     "shell.execute_reply": "2022-01-17T20:09:36.260564Z"
    },
    "papermill": {
     "duration": 0.047894,
     "end_time": "2022-01-17T20:09:36.260710",
     "exception": false,
     "start_time": "2022-01-17T20:09:36.212816",
     "status": "completed"
    },
    "tags": []
   },
   "outputs": [],
   "source": [
    "y_train = 1*(y_train==3)\n",
    "y_test = 1*(y_test==3)"
   ]
  },
  {
   "cell_type": "code",
   "execution_count": 13,
   "id": "01e4e969",
   "metadata": {
    "execution": {
     "iopub.execute_input": "2022-01-17T20:09:36.325594Z",
     "iopub.status.busy": "2022-01-17T20:09:36.324977Z",
     "iopub.status.idle": "2022-01-17T20:09:36.340732Z",
     "shell.execute_reply": "2022-01-17T20:09:36.339919Z"
    },
    "papermill": {
     "duration": 0.050097,
     "end_time": "2022-01-17T20:09:36.340862",
     "exception": false,
     "start_time": "2022-01-17T20:09:36.290765",
     "status": "completed"
    },
    "tags": []
   },
   "outputs": [
    {
     "data": {
      "text/plain": [
       "((11982, 28, 28), (1984, 28, 28))"
      ]
     },
     "execution_count": 13,
     "metadata": {},
     "output_type": "execute_result"
    }
   ],
   "source": [
    "X_train.shape, X_test.shape"
   ]
  },
  {
   "cell_type": "markdown",
   "id": "5ccf3f85",
   "metadata": {
    "papermill": {
     "duration": 0.030563,
     "end_time": "2022-01-17T20:09:36.401697",
     "exception": false,
     "start_time": "2022-01-17T20:09:36.371134",
     "status": "completed"
    },
    "tags": []
   },
   "source": [
    "We reshape the data to flatten the image pixels into a set of features or co-variates:"
   ]
  },
  {
   "cell_type": "code",
   "execution_count": 14,
   "id": "5286a4a3",
   "metadata": {
    "execution": {
     "iopub.execute_input": "2022-01-17T20:09:36.467775Z",
     "iopub.status.busy": "2022-01-17T20:09:36.467093Z",
     "iopub.status.idle": "2022-01-17T20:09:36.482317Z",
     "shell.execute_reply": "2022-01-17T20:09:36.482766Z"
    },
    "papermill": {
     "duration": 0.050489,
     "end_time": "2022-01-17T20:09:36.482923",
     "exception": false,
     "start_time": "2022-01-17T20:09:36.432434",
     "status": "completed"
    },
    "tags": []
   },
   "outputs": [
    {
     "data": {
      "text/plain": [
       "((11982, 784), (1984, 784))"
      ]
     },
     "execution_count": 14,
     "metadata": {},
     "output_type": "execute_result"
    }
   ],
   "source": [
    "X_train = X_train.reshape(X_train.shape[0], -1)\n",
    "X_test = X_test.reshape(X_test.shape[0], -1)\n",
    "X_train.shape, X_test.shape"
   ]
  },
  {
   "cell_type": "code",
   "execution_count": 15,
   "id": "73c5f88a",
   "metadata": {
    "execution": {
     "iopub.execute_input": "2022-01-17T20:09:36.549631Z",
     "iopub.status.busy": "2022-01-17T20:09:36.549000Z",
     "iopub.status.idle": "2022-01-17T20:09:36.571674Z",
     "shell.execute_reply": "2022-01-17T20:09:36.572191Z"
    },
    "papermill": {
     "duration": 0.05872,
     "end_time": "2022-01-17T20:09:36.572346",
     "exception": false,
     "start_time": "2022-01-17T20:09:36.513626",
     "status": "completed"
    },
    "tags": []
   },
   "outputs": [],
   "source": [
    "#Impoting functions from 'Kudzu'\n",
    "from kudzu.model import Model\n",
    "from kudzu.train import Learner\n",
    "from kudzu.optim import GD\n",
    "from kudzu.data import Data, Sampler,Dataloader\n",
    "\n",
    "from kudzu.callbacks import AccCallback\n",
    "from kudzu.callbacks import ClfCallback\n",
    "\n",
    "from kudzu.loss import MSE\n",
    "\n",
    "from kudzu.layer import Sigmoid,Relu\n",
    "from kudzu.layer import Affine"
   ]
  },
  {
   "cell_type": "markdown",
   "id": "bc01172a",
   "metadata": {
    "papermill": {
     "duration": 0.030779,
     "end_time": "2022-01-17T20:09:36.634092",
     "exception": false,
     "start_time": "2022-01-17T20:09:36.603313",
     "status": "completed"
    },
    "tags": []
   },
   "source": [
    "### Let us create a `Config` class, to store important parameters. \n",
    "This class essentially plays the role of a dictionary."
   ]
  },
  {
   "cell_type": "code",
   "execution_count": 16,
   "id": "978281aa",
   "metadata": {
    "execution": {
     "iopub.execute_input": "2022-01-17T20:09:36.702445Z",
     "iopub.status.busy": "2022-01-17T20:09:36.701831Z",
     "iopub.status.idle": "2022-01-17T20:09:36.714424Z",
     "shell.execute_reply": "2022-01-17T20:09:36.713938Z"
    },
    "papermill": {
     "duration": 0.049521,
     "end_time": "2022-01-17T20:09:36.714555",
     "exception": false,
     "start_time": "2022-01-17T20:09:36.665034",
     "status": "completed"
    },
    "tags": []
   },
   "outputs": [],
   "source": [
    "class Config:\n",
    "    pass\n",
    "config = Config()\n",
    "config.lr = 0.001\n",
    "config.num_epochs = 250\n",
    "config.bs = 50"
   ]
  },
  {
   "cell_type": "markdown",
   "id": "1385fa59",
   "metadata": {
    "papermill": {
     "duration": 0.030973,
     "end_time": "2022-01-17T20:09:36.776587",
     "exception": false,
     "start_time": "2022-01-17T20:09:36.745614",
     "status": "completed"
    },
    "tags": []
   },
   "source": [
    "### Running Models with the Training data\n",
    "Details about the network layers:\n",
    "- A first affine layer has 784 inputs and does 100 affine transforms. These are followed by a Relu\n",
    "- A second affine layer has 100 inputs from the 100 activations of the past layer, and does 100 affine transforms. These are followed by a Relu\n",
    "- A third affine layer has 100 activations and does 2 affine transformations to create an embedding for visualization. There is no non-linearity here.\n",
    "- A final \"logistic regression\" which has an affine transform from 2 inputs to 1 output, which is squeezed through a sigmoid.\n"
   ]
  },
  {
   "cell_type": "code",
   "execution_count": 17,
   "id": "2b9c66db",
   "metadata": {
    "execution": {
     "iopub.execute_input": "2022-01-17T20:09:36.844939Z",
     "iopub.status.busy": "2022-01-17T20:09:36.844348Z",
     "iopub.status.idle": "2022-01-17T20:09:36.857538Z",
     "shell.execute_reply": "2022-01-17T20:09:36.857050Z"
    },
    "papermill": {
     "duration": 0.050293,
     "end_time": "2022-01-17T20:09:36.857666",
     "exception": false,
     "start_time": "2022-01-17T20:09:36.807373",
     "status": "completed"
    },
    "tags": []
   },
   "outputs": [],
   "source": [
    "data = Data(X_train, y_train.reshape(-1,1))\n",
    "sampler = Sampler(data, config.bs, shuffle=True)\n",
    "\n",
    "dl = Dataloader(data, sampler)\n",
    "\n",
    "opt = GD(config.lr)\n",
    "loss = MSE()"
   ]
  },
  {
   "cell_type": "code",
   "execution_count": 18,
   "id": "b275e4c2",
   "metadata": {
    "execution": {
     "iopub.execute_input": "2022-01-17T20:09:36.923616Z",
     "iopub.status.busy": "2022-01-17T20:09:36.922983Z",
     "iopub.status.idle": "2022-01-17T20:09:36.936489Z",
     "shell.execute_reply": "2022-01-17T20:09:36.936979Z"
    },
    "papermill": {
     "duration": 0.04845,
     "end_time": "2022-01-17T20:09:36.937117",
     "exception": false,
     "start_time": "2022-01-17T20:09:36.888667",
     "status": "completed"
    },
    "tags": []
   },
   "outputs": [],
   "source": [
    "training_data_x = X_train\n",
    "testing_data_x = X_test\n",
    "training_data_y = y_train.reshape(-1,1)\n",
    "testing_data_y = y_test.reshape(-1,1)"
   ]
  },
  {
   "cell_type": "code",
   "execution_count": 19,
   "id": "76951160",
   "metadata": {
    "execution": {
     "iopub.execute_input": "2022-01-17T20:09:37.004525Z",
     "iopub.status.busy": "2022-01-17T20:09:37.003893Z",
     "iopub.status.idle": "2022-01-17T20:09:37.023229Z",
     "shell.execute_reply": "2022-01-17T20:09:37.022666Z"
    },
    "papermill": {
     "duration": 0.055805,
     "end_time": "2022-01-17T20:09:37.023366",
     "exception": false,
     "start_time": "2022-01-17T20:09:36.967561",
     "status": "completed"
    },
    "tags": []
   },
   "outputs": [
    {
     "name": "stdout",
     "output_type": "stream",
     "text": [
      "xavier\n",
      "xavier\n",
      "xavier\n",
      "xavier\n",
      "xavier\n"
     ]
    }
   ],
   "source": [
    "layers = [Affine(\"first\", 784, 100), Relu(\"first\"), Affine(\"second\", 100, 100), Relu(\"second\"), Affine(\"third\", 100, 2), Affine(\"last\", 2, 1), Sigmoid(\"last\")]\n",
    "model_nn = Model(layers)\n",
    "model_lr = Model([Affine(\"logits\", 784, 1), Sigmoid(\"sigmoid\")])"
   ]
  },
  {
   "cell_type": "code",
   "execution_count": 20,
   "id": "6eede77a",
   "metadata": {
    "execution": {
     "iopub.execute_input": "2022-01-17T20:09:37.090672Z",
     "iopub.status.busy": "2022-01-17T20:09:37.089590Z",
     "iopub.status.idle": "2022-01-17T20:09:37.106531Z",
     "shell.execute_reply": "2022-01-17T20:09:37.106024Z"
    },
    "papermill": {
     "duration": 0.052263,
     "end_time": "2022-01-17T20:09:37.106656",
     "exception": false,
     "start_time": "2022-01-17T20:09:37.054393",
     "status": "completed"
    },
    "tags": []
   },
   "outputs": [],
   "source": [
    "nn_learner = Learner(loss, model_nn, opt, config.num_epochs)\n",
    "acc_nn = ClfCallback(nn_learner, config.bs, training_data_x , testing_data_x, training_data_y, testing_data_y)\n",
    "nn_learner.set_callbacks([acc_nn])"
   ]
  },
  {
   "cell_type": "code",
   "execution_count": 21,
   "id": "877b6cc7",
   "metadata": {
    "execution": {
     "iopub.execute_input": "2022-01-17T20:09:37.174359Z",
     "iopub.status.busy": "2022-01-17T20:09:37.173760Z",
     "iopub.status.idle": "2022-01-17T20:09:37.188751Z",
     "shell.execute_reply": "2022-01-17T20:09:37.189242Z"
    },
    "papermill": {
     "duration": 0.052274,
     "end_time": "2022-01-17T20:09:37.189396",
     "exception": false,
     "start_time": "2022-01-17T20:09:37.137122",
     "status": "completed"
    },
    "tags": []
   },
   "outputs": [],
   "source": [
    "lr_learner = Learner(loss, model_lr, opt, config.num_epochs)\n",
    "acc_lr = ClfCallback(lr_learner, config.bs, training_data_x , testing_data_x, training_data_y, testing_data_y)\n",
    "lr_learner.set_callbacks([acc_lr])"
   ]
  },
  {
   "cell_type": "code",
   "execution_count": 22,
   "id": "d9b133c3",
   "metadata": {
    "execution": {
     "iopub.execute_input": "2022-01-17T20:09:37.260451Z",
     "iopub.status.busy": "2022-01-17T20:09:37.259837Z",
     "iopub.status.idle": "2022-01-17T20:11:04.485540Z",
     "shell.execute_reply": "2022-01-17T20:11:04.486383Z"
    },
    "papermill": {
     "duration": 87.266106,
     "end_time": "2022-01-17T20:11:04.486550",
     "exception": false,
     "start_time": "2022-01-17T20:09:37.220444",
     "status": "completed"
    },
    "tags": []
   },
   "outputs": [
    {
     "name": "stdout",
     "output_type": "stream",
     "text": [
      "Epoch 0, Loss 0.2031\n",
      "Training Accuracy: 0.8126, Testing Accuracy: 0.8337\n",
      "\n"
     ]
    },
    {
     "name": "stdout",
     "output_type": "stream",
     "text": [
      "Epoch 10, Loss 0.07\n",
      "Training Accuracy: 0.9294, Testing Accuracy: 0.9461\n",
      "\n"
     ]
    },
    {
     "name": "stdout",
     "output_type": "stream",
     "text": [
      "Epoch 20, Loss 0.0466\n",
      "Training Accuracy: 0.9502, Testing Accuracy: 0.9657\n",
      "\n"
     ]
    },
    {
     "name": "stdout",
     "output_type": "stream",
     "text": [
      "Epoch 30, Loss 0.0382\n",
      "Training Accuracy: 0.9586, Testing Accuracy: 0.9718\n",
      "\n"
     ]
    },
    {
     "name": "stdout",
     "output_type": "stream",
     "text": [
      "Epoch 40, Loss 0.0337\n",
      "Training Accuracy: 0.9623, Testing Accuracy: 0.9738\n",
      "\n"
     ]
    },
    {
     "name": "stdout",
     "output_type": "stream",
     "text": [
      "Epoch 50, Loss 0.0308\n",
      "Training Accuracy: 0.9655, Testing Accuracy: 0.9738\n",
      "\n"
     ]
    },
    {
     "name": "stdout",
     "output_type": "stream",
     "text": [
      "Epoch 60, Loss 0.0288\n",
      "Training Accuracy: 0.9672, Testing Accuracy: 0.9743\n",
      "\n"
     ]
    },
    {
     "name": "stdout",
     "output_type": "stream",
     "text": [
      "Epoch 70, Loss 0.0272\n",
      "Training Accuracy: 0.9689, Testing Accuracy: 0.9743\n",
      "\n"
     ]
    },
    {
     "name": "stdout",
     "output_type": "stream",
     "text": [
      "Epoch 80, Loss 0.0259\n",
      "Training Accuracy: 0.9702, Testing Accuracy: 0.9743\n",
      "\n"
     ]
    },
    {
     "name": "stdout",
     "output_type": "stream",
     "text": [
      "Epoch 90, Loss 0.0247\n",
      "Training Accuracy: 0.9715, Testing Accuracy: 0.9743\n",
      "\n"
     ]
    },
    {
     "name": "stdout",
     "output_type": "stream",
     "text": [
      "Epoch 100, Loss 0.0238\n",
      "Training Accuracy: 0.9725, Testing Accuracy: 0.9758\n",
      "\n"
     ]
    },
    {
     "name": "stdout",
     "output_type": "stream",
     "text": [
      "Epoch 110, Loss 0.0229\n",
      "Training Accuracy: 0.9740, Testing Accuracy: 0.9763\n",
      "\n"
     ]
    },
    {
     "name": "stdout",
     "output_type": "stream",
     "text": [
      "Epoch 120, Loss 0.0222\n",
      "Training Accuracy: 0.9747, Testing Accuracy: 0.9758\n",
      "\n"
     ]
    },
    {
     "name": "stdout",
     "output_type": "stream",
     "text": [
      "Epoch 130, Loss 0.0214\n",
      "Training Accuracy: 0.9753, Testing Accuracy: 0.9763\n",
      "\n"
     ]
    },
    {
     "name": "stdout",
     "output_type": "stream",
     "text": [
      "Epoch 140, Loss 0.0207\n",
      "Training Accuracy: 0.9759, Testing Accuracy: 0.9758\n",
      "\n"
     ]
    },
    {
     "name": "stdout",
     "output_type": "stream",
     "text": [
      "Epoch 150, Loss 0.0201\n",
      "Training Accuracy: 0.9766, Testing Accuracy: 0.9773\n",
      "\n"
     ]
    },
    {
     "name": "stdout",
     "output_type": "stream",
     "text": [
      "Epoch 160, Loss 0.0195\n",
      "Training Accuracy: 0.9771, Testing Accuracy: 0.9773\n",
      "\n"
     ]
    },
    {
     "name": "stdout",
     "output_type": "stream",
     "text": [
      "Epoch 170, Loss 0.0189\n",
      "Training Accuracy: 0.9785, Testing Accuracy: 0.9768\n",
      "\n"
     ]
    },
    {
     "name": "stdout",
     "output_type": "stream",
     "text": [
      "Epoch 180, Loss 0.0183\n",
      "Training Accuracy: 0.9791, Testing Accuracy: 0.9773\n",
      "\n"
     ]
    },
    {
     "name": "stdout",
     "output_type": "stream",
     "text": [
      "Epoch 190, Loss 0.0178\n",
      "Training Accuracy: 0.9799, Testing Accuracy: 0.9778\n",
      "\n"
     ]
    },
    {
     "name": "stdout",
     "output_type": "stream",
     "text": [
      "Epoch 200, Loss 0.0173\n",
      "Training Accuracy: 0.9807, Testing Accuracy: 0.9778\n",
      "\n"
     ]
    },
    {
     "name": "stdout",
     "output_type": "stream",
     "text": [
      "Epoch 210, Loss 0.0168\n",
      "Training Accuracy: 0.9814, Testing Accuracy: 0.9788\n",
      "\n"
     ]
    },
    {
     "name": "stdout",
     "output_type": "stream",
     "text": [
      "Epoch 220, Loss 0.0164\n",
      "Training Accuracy: 0.9822, Testing Accuracy: 0.9783\n",
      "\n"
     ]
    },
    {
     "name": "stdout",
     "output_type": "stream",
     "text": [
      "Epoch 230, Loss 0.0159\n",
      "Training Accuracy: 0.9830, Testing Accuracy: 0.9783\n",
      "\n"
     ]
    },
    {
     "name": "stdout",
     "output_type": "stream",
     "text": [
      "Epoch 240, Loss 0.0155\n",
      "Training Accuracy: 0.9838, Testing Accuracy: 0.9793\n",
      "\n"
     ]
    },
    {
     "data": {
      "text/plain": [
       "0.014084495165244576"
      ]
     },
     "execution_count": 22,
     "metadata": {},
     "output_type": "execute_result"
    }
   ],
   "source": [
    "nn_learner.train_loop(dl)"
   ]
  },
  {
   "cell_type": "code",
   "execution_count": 23,
   "id": "e0163366",
   "metadata": {
    "execution": {
     "iopub.execute_input": "2022-01-17T20:11:04.579646Z",
     "iopub.status.busy": "2022-01-17T20:11:04.578971Z",
     "iopub.status.idle": "2022-01-17T20:11:20.052940Z",
     "shell.execute_reply": "2022-01-17T20:11:20.053805Z"
    },
    "papermill": {
     "duration": 15.527983,
     "end_time": "2022-01-17T20:11:20.053970",
     "exception": false,
     "start_time": "2022-01-17T20:11:04.525987",
     "status": "completed"
    },
    "tags": []
   },
   "outputs": [
    {
     "name": "stdout",
     "output_type": "stream",
     "text": [
      "Epoch 0, Loss 0.2774\n",
      "Training Accuracy: 0.5302, Testing Accuracy: 0.5620\n",
      "\n"
     ]
    },
    {
     "name": "stdout",
     "output_type": "stream",
     "text": [
      "Epoch 10, Loss 0.106\n",
      "Training Accuracy: 0.9060, Testing Accuracy: 0.9148\n",
      "\n"
     ]
    },
    {
     "name": "stdout",
     "output_type": "stream",
     "text": [
      "Epoch 20, Loss 0.0803\n",
      "Training Accuracy: 0.9253, Testing Accuracy: 0.9375\n",
      "\n"
     ]
    },
    {
     "name": "stdout",
     "output_type": "stream",
     "text": [
      "Epoch 30, Loss 0.0689\n",
      "Training Accuracy: 0.9345, Testing Accuracy: 0.9501\n",
      "\n"
     ]
    },
    {
     "name": "stdout",
     "output_type": "stream",
     "text": [
      "Epoch 40, Loss 0.0621\n",
      "Training Accuracy: 0.9394, Testing Accuracy: 0.9536\n",
      "\n"
     ]
    },
    {
     "name": "stdout",
     "output_type": "stream",
     "text": [
      "Epoch 50, Loss 0.0575\n",
      "Training Accuracy: 0.9444, Testing Accuracy: 0.9561\n",
      "\n"
     ]
    },
    {
     "name": "stdout",
     "output_type": "stream",
     "text": [
      "Epoch 60, Loss 0.0541\n",
      "Training Accuracy: 0.9468, Testing Accuracy: 0.9587\n",
      "\n"
     ]
    },
    {
     "name": "stdout",
     "output_type": "stream",
     "text": [
      "Epoch 70, Loss 0.0515\n",
      "Training Accuracy: 0.9483, Testing Accuracy: 0.9622\n",
      "\n"
     ]
    },
    {
     "name": "stdout",
     "output_type": "stream",
     "text": [
      "Epoch 80, Loss 0.0494\n",
      "Training Accuracy: 0.9498, Testing Accuracy: 0.9622\n",
      "\n"
     ]
    },
    {
     "name": "stdout",
     "output_type": "stream",
     "text": [
      "Epoch 90, Loss 0.0477\n",
      "Training Accuracy: 0.9508, Testing Accuracy: 0.9632\n",
      "\n"
     ]
    },
    {
     "name": "stdout",
     "output_type": "stream",
     "text": [
      "Epoch 100, Loss 0.0463\n",
      "Training Accuracy: 0.9519, Testing Accuracy: 0.9637\n",
      "\n"
     ]
    },
    {
     "name": "stdout",
     "output_type": "stream",
     "text": [
      "Epoch 110, Loss 0.045\n",
      "Training Accuracy: 0.9530, Testing Accuracy: 0.9637\n",
      "\n"
     ]
    },
    {
     "name": "stdout",
     "output_type": "stream",
     "text": [
      "Epoch 120, Loss 0.044\n",
      "Training Accuracy: 0.9536, Testing Accuracy: 0.9642\n",
      "\n"
     ]
    },
    {
     "name": "stdout",
     "output_type": "stream",
     "text": [
      "Epoch 130, Loss 0.043\n",
      "Training Accuracy: 0.9548, Testing Accuracy: 0.9647\n",
      "\n"
     ]
    },
    {
     "name": "stdout",
     "output_type": "stream",
     "text": [
      "Epoch 140, Loss 0.0422\n",
      "Training Accuracy: 0.9553, Testing Accuracy: 0.9652\n",
      "\n"
     ]
    },
    {
     "name": "stdout",
     "output_type": "stream",
     "text": [
      "Epoch 150, Loss 0.0414\n",
      "Training Accuracy: 0.9561, Testing Accuracy: 0.9652\n",
      "\n"
     ]
    },
    {
     "name": "stdout",
     "output_type": "stream",
     "text": [
      "Epoch 160, Loss 0.0408\n",
      "Training Accuracy: 0.9568, Testing Accuracy: 0.9657\n",
      "\n"
     ]
    },
    {
     "name": "stdout",
     "output_type": "stream",
     "text": [
      "Epoch 170, Loss 0.0402\n",
      "Training Accuracy: 0.9569, Testing Accuracy: 0.9667\n",
      "\n"
     ]
    },
    {
     "name": "stdout",
     "output_type": "stream",
     "text": [
      "Epoch 180, Loss 0.0396\n",
      "Training Accuracy: 0.9574, Testing Accuracy: 0.9672\n",
      "\n"
     ]
    },
    {
     "name": "stdout",
     "output_type": "stream",
     "text": [
      "Epoch 190, Loss 0.0391\n",
      "Training Accuracy: 0.9582, Testing Accuracy: 0.9672\n",
      "\n"
     ]
    },
    {
     "name": "stdout",
     "output_type": "stream",
     "text": [
      "Epoch 200, Loss 0.0386\n",
      "Training Accuracy: 0.9589, Testing Accuracy: 0.9672\n",
      "\n"
     ]
    },
    {
     "name": "stdout",
     "output_type": "stream",
     "text": [
      "Epoch 210, Loss 0.0381\n",
      "Training Accuracy: 0.9593, Testing Accuracy: 0.9682\n",
      "\n"
     ]
    },
    {
     "name": "stdout",
     "output_type": "stream",
     "text": [
      "Epoch 220, Loss 0.0377\n",
      "Training Accuracy: 0.9594, Testing Accuracy: 0.9688\n",
      "\n"
     ]
    },
    {
     "name": "stdout",
     "output_type": "stream",
     "text": [
      "Epoch 230, Loss 0.0374\n",
      "Training Accuracy: 0.9598, Testing Accuracy: 0.9693\n",
      "\n"
     ]
    },
    {
     "name": "stdout",
     "output_type": "stream",
     "text": [
      "Epoch 240, Loss 0.037\n",
      "Training Accuracy: 0.9603, Testing Accuracy: 0.9677\n",
      "\n"
     ]
    },
    {
     "data": {
      "text/plain": [
       "0.032470038124772754"
      ]
     },
     "execution_count": 23,
     "metadata": {},
     "output_type": "execute_result"
    }
   ],
   "source": [
    "lr_learner.train_loop(dl)"
   ]
  },
  {
   "cell_type": "code",
   "execution_count": 24,
   "id": "ca410940",
   "metadata": {
    "execution": {
     "iopub.execute_input": "2022-01-17T20:11:20.157355Z",
     "iopub.status.busy": "2022-01-17T20:11:20.156720Z",
     "iopub.status.idle": "2022-01-17T20:11:20.414228Z",
     "shell.execute_reply": "2022-01-17T20:11:20.414696Z"
    },
    "papermill": {
     "duration": 0.313637,
     "end_time": "2022-01-17T20:11:20.414863",
     "exception": false,
     "start_time": "2022-01-17T20:11:20.101226",
     "status": "completed"
    },
    "tags": []
   },
   "outputs": [
    {
     "data": {
      "text/plain": [
       "<matplotlib.legend.Legend at 0x7f154a94bc18>"
      ]
     },
     "execution_count": 24,
     "metadata": {},
     "output_type": "execute_result"
    },
    {
     "data": {
      "image/png": "[encoded data removed]",
      "text/plain": [
       "<Figure size 1080x720 with 1 Axes>"
      ]
     },
     "metadata": {
      "needs_background": "light"
     },
     "output_type": "display_data"
    }
   ],
   "source": [
    "#comparing the results of NN and LR\n",
    "plt.figure(figsize=(15,10))\n",
    "\n",
    "# Neural Network plots\n",
    "plt.plot(acc_nn.accuracies, 'r-', label = \"Training Accuracies - NN\")\n",
    "plt.plot(acc_nn.test_accuracies, 'g-', label = \"Testing Accuracies - NN\")\n",
    "\n",
    "# Logistic Regression plots\n",
    "plt.plot(acc_lr.accuracies, 'k-', label = \"Training Accuracies - LR\")\n",
    "plt.plot(acc_lr.test_accuracies, 'b-', label = \"Testing Accuracies - LR\")\n",
    "plt.legend()"
   ]
  },
  {
   "cell_type": "markdown",
   "id": "80dfb35c",
   "metadata": {
    "papermill": {
     "duration": 0.04819,
     "end_time": "2022-01-17T20:11:20.511796",
     "exception": false,
     "start_time": "2022-01-17T20:11:20.463606",
     "status": "completed"
    },
    "tags": []
   },
   "source": [
    "#### Plotting the outputs of this layer of the NN.\n"
   ]
  },
  {
   "cell_type": "code",
   "execution_count": 25,
   "id": "45eb2ff5",
   "metadata": {
    "execution": {
     "iopub.execute_input": "2022-01-17T20:11:20.617364Z",
     "iopub.status.busy": "2022-01-17T20:11:20.616725Z",
     "iopub.status.idle": "2022-01-17T20:11:20.637640Z",
     "shell.execute_reply": "2022-01-17T20:11:20.637102Z"
    },
    "papermill": {
     "duration": 0.077847,
     "end_time": "2022-01-17T20:11:20.637786",
     "exception": false,
     "start_time": "2022-01-17T20:11:20.559939",
     "status": "completed"
    },
    "tags": []
   },
   "outputs": [],
   "source": [
    "new_model = Model(layers[:-2])\n",
    "testing_plot = new_model(testing_data_x)"
   ]
  },
  {
   "cell_type": "code",
   "execution_count": 26,
   "id": "4c0a5485",
   "metadata": {
    "execution": {
     "iopub.execute_input": "2022-01-17T20:11:20.745906Z",
     "iopub.status.busy": "2022-01-17T20:11:20.741302Z",
     "iopub.status.idle": "2022-01-17T20:11:20.957171Z",
     "shell.execute_reply": "2022-01-17T20:11:20.956628Z"
    },
    "papermill": {
     "duration": 0.270135,
     "end_time": "2022-01-17T20:11:20.957305",
     "exception": false,
     "start_time": "2022-01-17T20:11:20.687170",
     "status": "completed"
    },
    "tags": []
   },
   "outputs": [
    {
     "data": {
      "text/plain": [
       "Text(0.5, 1.0, 'Outputs')"
      ]
     },
     "execution_count": 26,
     "metadata": {},
     "output_type": "execute_result"
    },
    {
     "data": {
      "image/png": "[encoded data removed]",
      "text/plain": [
       "<Figure size 576x504 with 1 Axes>"
      ]
     },
     "metadata": {
      "needs_background": "light"
     },
     "output_type": "display_data"
    }
   ],
   "source": [
    "# Plotting the scatter plot of points and color coding by class\n",
    "plt.figure(figsize=(8,7))\n",
    "plt.scatter(testing_plot[:,0], testing_plot[:,1], alpha = 0.1, c = y_test.ravel());\n",
    "plt.title('Outputs')"
   ]
  },
  {
   "cell_type": "markdown",
   "id": "a74fcf8f",
   "metadata": {
    "papermill": {
     "duration": 0.050111,
     "end_time": "2022-01-17T20:11:21.058183",
     "exception": false,
     "start_time": "2022-01-17T20:11:21.008072",
     "status": "completed"
    },
    "tags": []
   },
   "source": [
    "Probability contours"
   ]
  },
  {
   "cell_type": "code",
   "execution_count": 27,
   "id": "d0afc8e3",
   "metadata": {
    "execution": {
     "iopub.execute_input": "2022-01-17T20:11:21.166150Z",
     "iopub.status.busy": "2022-01-17T20:11:21.165511Z",
     "iopub.status.idle": "2022-01-17T20:11:21.179466Z",
     "shell.execute_reply": "2022-01-17T20:11:21.178913Z"
    },
    "papermill": {
     "duration": 0.07086,
     "end_time": "2022-01-17T20:11:21.179598",
     "exception": false,
     "start_time": "2022-01-17T20:11:21.108738",
     "status": "completed"
    },
    "tags": []
   },
   "outputs": [],
   "source": [
    "model_prob = Model(layers[-2:]) "
   ]
  },
  {
   "cell_type": "code",
   "execution_count": 28,
   "id": "9b96e238",
   "metadata": {
    "execution": {
     "iopub.execute_input": "2022-01-17T20:11:21.316089Z",
     "iopub.status.busy": "2022-01-17T20:11:21.315451Z",
     "iopub.status.idle": "2022-01-17T20:11:21.330353Z",
     "shell.execute_reply": "2022-01-17T20:11:21.330912Z"
    },
    "papermill": {
     "duration": 0.070974,
     "end_time": "2022-01-17T20:11:21.331068",
     "exception": false,
     "start_time": "2022-01-17T20:11:21.260094",
     "status": "completed"
    },
    "tags": []
   },
   "outputs": [],
   "source": [
    "#creating the x and y ranges according to the above generated plot.\n",
    "x_range = np.linspace(-4, 1, 100) \n",
    "y_range = np.linspace(-6, 6, 100) \n",
    "x_grid, y_grid = np.meshgrid(x_range, y_range) # x_grid and y_grig are of size 100 X 100\n",
    "\n",
    "# converting x_grid and y_grid to continuous arrays\n",
    "x_gridflat = np.ravel(x_grid)\n",
    "y_gridflat = np.ravel(y_grid)\n",
    "\n",
    "# The last layer of the current model takes two columns as input. Hence transpose of np.vstack() is required.\n",
    "X = np.vstack((x_gridflat, y_gridflat)).T\n",
    "\n",
    "prob_contour = model_prob(X).reshape(100,100) "
   ]
  },
  {
   "cell_type": "code",
   "execution_count": 29,
   "id": "da72499a",
   "metadata": {
    "execution": {
     "iopub.execute_input": "2022-01-17T20:11:21.442194Z",
     "iopub.status.busy": "2022-01-17T20:11:21.438097Z",
     "iopub.status.idle": "2022-01-17T20:11:21.723804Z",
     "shell.execute_reply": "2022-01-17T20:11:21.724301Z"
    },
    "papermill": {
     "duration": 0.342104,
     "end_time": "2022-01-17T20:11:21.724450",
     "exception": false,
     "start_time": "2022-01-17T20:11:21.382346",
     "status": "completed"
    },
    "tags": []
   },
   "outputs": [
    {
     "data": {
      "image/png": "[encoded data removed]",
      "text/plain": [
       "<Figure size 720x648 with 1 Axes>"
      ]
     },
     "metadata": {
      "needs_background": "light"
     },
     "output_type": "display_data"
    }
   ],
   "source": [
    "plt.figure(figsize=(10,9))\n",
    "plt.scatter(testing_plot[:,0], testing_plot[:,1], alpha = 0.1, c = y_test.ravel())\n",
    "contours = plt.contour(x_grid,y_grid,prob_contour)\n",
    "plt.title('Probability Contours')\n",
    "plt.clabel(contours, inline = True );"
   ]
  },
  {
   "cell_type": "code",
   "execution_count": null,
   "id": "e81b4ac7",
   "metadata": {
    "papermill": {
     "duration": 0.053569,
     "end_time": "2022-01-17T20:11:21.831988",
     "exception": false,
     "start_time": "2022-01-17T20:11:21.778419",
     "status": "completed"
    },
    "tags": []
   },
   "outputs": [],
   "source": []
  }
 ],
 "metadata": {
  "kernelspec": {
   "display_name": "Python 3",
   "language": "python",
   "name": "python3"
  },
  "language_info": {
   "codemirror_mode": {
    "name": "ipython",
    "version": 3
   },
   "file_extension": ".py",
   "mimetype": "text/x-python",
   "name": "python",
   "nbconvert_exporter": "python",
   "pygments_lexer": "ipython3",
   "version": "3.6.15"
  },
  "papermill": {
   "default_parameters": {},
   "duration": 112.31545,
   "end_time": "2022-01-17T20:11:22.306168",
   "environment_variables": {},
   "exception": null,
   "input_path": "2020-08-11-part2.ipynb",
   "output_path": "2020-08-11-part2.ipynb",
   "parameters": {},
   "start_time": "2022-01-17T20:09:29.990718",
   "version": "2.3.3"
  }
 },
 "nbformat": 4,
 "nbformat_minor": 5
}