{
 "cells": [
  {
   "cell_type": "markdown",
   "id": "98380cd3",
   "metadata": {
    "papermill": {
     "duration": 0.034855,
     "end_time": "2021-09-14T00:20:56.452974",
     "exception": false,
     "start_time": "2021-09-14T00:20:56.418119",
     "status": "completed"
    },
    "tags": []
   },
   "source": [
    "# Distinguish Your Own Digits (DYOD)"
   ]
  },
  {
   "cell_type": "markdown",
   "id": "ef31240d",
   "metadata": {
    "papermill": {
     "duration": 0.026806,
     "end_time": "2021-09-14T00:20:56.507435",
     "exception": false,
     "start_time": "2021-09-14T00:20:56.480629",
     "status": "completed"
    },
    "tags": []
   },
   "source": [
    "You are going to write a classifier that distinguishes between the number 3 and number 8."
   ]
  },
  {
   "cell_type": "code",
   "execution_count": 1,
   "id": "b15c8646",
   "metadata": {
    "execution": {
     "iopub.execute_input": "2021-09-14T00:20:56.573273Z",
     "iopub.status.busy": "2021-09-14T00:20:56.572664Z",
     "iopub.status.idle": "2021-09-14T00:20:56.585542Z",
     "shell.execute_reply": "2021-09-14T00:20:56.586025Z"
    },
    "papermill": {
     "duration": 0.052073,
     "end_time": "2021-09-14T00:20:56.586191",
     "exception": false,
     "start_time": "2021-09-14T00:20:56.534118",
     "status": "completed"
    },
    "tags": []
   },
   "outputs": [],
   "source": [
    "%load_ext autoreload\n",
    "%autoreload 2"
   ]
  },
  {
   "cell_type": "code",
   "execution_count": 2,
   "id": "22ef38dc",
   "metadata": {
    "execution": {
     "iopub.execute_input": "2021-09-14T00:20:56.644517Z",
     "iopub.status.busy": "2021-09-14T00:20:56.643913Z",
     "iopub.status.idle": "2021-09-14T00:20:57.271632Z",
     "shell.execute_reply": "2021-09-14T00:20:57.271105Z"
    },
    "papermill": {
     "duration": 0.658621,
     "end_time": "2021-09-14T00:20:57.271818",
     "exception": false,
     "start_time": "2021-09-14T00:20:56.613197",
     "status": "completed"
    },
    "tags": []
   },
   "outputs": [],
   "source": [
    "%matplotlib inline\n",
    "import numpy as np\n",
    "import matplotlib.pyplot as plt\n",
    "import pandas as pd"
   ]
  },
  {
   "cell_type": "markdown",
   "id": "ba036198",
   "metadata": {
    "papermill": {
     "duration": 0.035072,
     "end_time": "2021-09-14T00:20:57.350709",
     "exception": false,
     "start_time": "2021-09-14T00:20:57.315637",
     "status": "completed"
    },
    "tags": []
   },
   "source": [
    "From the command line run `pip install mnist`. This is a library that will help you bring down the mnist dataset. If you run this from a notebook, you need to put  `!pip install mnist` in a cell by itself."
   ]
  },
  {
   "cell_type": "code",
   "execution_count": 3,
   "id": "bb6ad8a1",
   "metadata": {
    "execution": {
     "iopub.execute_input": "2021-09-14T00:20:57.413046Z",
     "iopub.status.busy": "2021-09-14T00:20:57.412401Z",
     "iopub.status.idle": "2021-09-14T00:20:59.472654Z",
     "shell.execute_reply": "2021-09-14T00:20:59.473162Z"
    },
    "papermill": {
     "duration": 2.095394,
     "end_time": "2021-09-14T00:20:59.473313",
     "exception": false,
     "start_time": "2021-09-14T00:20:57.377919",
     "status": "completed"
    },
    "tags": []
   },
   "outputs": [
    {
     "name": "stdout",
     "output_type": "stream",
     "text": [
      "Collecting mnist\r\n"
     ]
    },
    {
     "name": "stdout",
     "output_type": "stream",
     "text": [
      "  Downloading mnist-0.2.2-py2.py3-none-any.whl (3.5 kB)\r\n"
     ]
    },
    {
     "name": "stdout",
     "output_type": "stream",
     "text": [
      "Requirement already satisfied: numpy in /opt/hostedtoolcache/Python/3.6.14/x64/lib/python3.6/site-packages (from mnist) (1.19.5)\r\n"
     ]
    },
    {
     "name": "stdout",
     "output_type": "stream",
     "text": [
      "Installing collected packages: mnist\r\n",
      "Successfully installed mnist-0.2.2\r\n"
     ]
    }
   ],
   "source": [
    "!pip install mnist"
   ]
  },
  {
   "cell_type": "markdown",
   "id": "69df9c9a",
   "metadata": {
    "papermill": {
     "duration": 0.029796,
     "end_time": "2021-09-14T00:20:59.532183",
     "exception": false,
     "start_time": "2021-09-14T00:20:59.502387",
     "status": "completed"
    },
    "tags": []
   },
   "source": [
    "## Preparing the Data"
   ]
  },
  {
   "cell_type": "code",
   "execution_count": 4,
   "id": "7f69d806",
   "metadata": {
    "execution": {
     "iopub.execute_input": "2021-09-14T00:20:59.604509Z",
     "iopub.status.busy": "2021-09-14T00:20:59.596396Z",
     "iopub.status.idle": "2021-09-14T00:20:59.611841Z",
     "shell.execute_reply": "2021-09-14T00:20:59.610462Z"
    },
    "papermill": {
     "duration": 0.051171,
     "end_time": "2021-09-14T00:20:59.611971",
     "exception": false,
     "start_time": "2021-09-14T00:20:59.560800",
     "status": "completed"
    },
    "tags": []
   },
   "outputs": [],
   "source": [
    "import mnist"
   ]
  },
  {
   "cell_type": "code",
   "execution_count": 5,
   "id": "a411e44f",
   "metadata": {
    "execution": {
     "iopub.execute_input": "2021-09-14T00:20:59.684603Z",
     "iopub.status.busy": "2021-09-14T00:20:59.683285Z",
     "iopub.status.idle": "2021-09-14T00:21:00.389635Z",
     "shell.execute_reply": "2021-09-14T00:21:00.389089Z"
    },
    "papermill": {
     "duration": 0.744592,
     "end_time": "2021-09-14T00:21:00.389766",
     "exception": false,
     "start_time": "2021-09-14T00:20:59.645174",
     "status": "completed"
    },
    "tags": []
   },
   "outputs": [],
   "source": [
    "train_images = mnist.train_images()\n",
    "train_labels = mnist.train_labels()"
   ]
  },
  {
   "cell_type": "code",
   "execution_count": 6,
   "id": "dceab3a5",
   "metadata": {
    "execution": {
     "iopub.execute_input": "2021-09-14T00:21:00.455354Z",
     "iopub.status.busy": "2021-09-14T00:21:00.454743Z",
     "iopub.status.idle": "2021-09-14T00:21:00.469893Z",
     "shell.execute_reply": "2021-09-14T00:21:00.470457Z"
    },
    "papermill": {
     "duration": 0.051691,
     "end_time": "2021-09-14T00:21:00.470604",
     "exception": false,
     "start_time": "2021-09-14T00:21:00.418913",
     "status": "completed"
    },
    "tags": []
   },
   "outputs": [
    {
     "data": {
      "text/plain": [
       "((60000, 28, 28), (60000,))"
      ]
     },
     "execution_count": 6,
     "metadata": {},
     "output_type": "execute_result"
    }
   ],
   "source": [
    "train_images.shape, train_labels.shape"
   ]
  },
  {
   "cell_type": "code",
   "execution_count": 7,
   "id": "f50dc2bb",
   "metadata": {
    "execution": {
     "iopub.execute_input": "2021-09-14T00:21:00.541922Z",
     "iopub.status.busy": "2021-09-14T00:21:00.541329Z",
     "iopub.status.idle": "2021-09-14T00:21:00.737340Z",
     "shell.execute_reply": "2021-09-14T00:21:00.737934Z"
    },
    "papermill": {
     "duration": 0.232066,
     "end_time": "2021-09-14T00:21:00.738091",
     "exception": false,
     "start_time": "2021-09-14T00:21:00.506025",
     "status": "completed"
    },
    "tags": []
   },
   "outputs": [],
   "source": [
    "test_images = mnist.test_images()\n",
    "test_labels = mnist.test_labels()"
   ]
  },
  {
   "cell_type": "code",
   "execution_count": 8,
   "id": "fc38cf1b",
   "metadata": {
    "execution": {
     "iopub.execute_input": "2021-09-14T00:21:00.804373Z",
     "iopub.status.busy": "2021-09-14T00:21:00.803764Z",
     "iopub.status.idle": "2021-09-14T00:21:00.818031Z",
     "shell.execute_reply": "2021-09-14T00:21:00.817555Z"
    },
    "papermill": {
     "duration": 0.05112,
     "end_time": "2021-09-14T00:21:00.818156",
     "exception": false,
     "start_time": "2021-09-14T00:21:00.767036",
     "status": "completed"
    },
    "tags": []
   },
   "outputs": [
    {
     "data": {
      "text/plain": [
       "((10000, 28, 28), (10000,))"
      ]
     },
     "execution_count": 8,
     "metadata": {},
     "output_type": "execute_result"
    }
   ],
   "source": [
    "test_images.shape, test_labels.shape"
   ]
  },
  {
   "cell_type": "code",
   "execution_count": 9,
   "id": "f9ed8fe0",
   "metadata": {
    "execution": {
     "iopub.execute_input": "2021-09-14T00:21:00.881307Z",
     "iopub.status.busy": "2021-09-14T00:21:00.880719Z",
     "iopub.status.idle": "2021-09-14T00:21:01.059205Z",
     "shell.execute_reply": "2021-09-14T00:21:01.058685Z"
    },
    "papermill": {
     "duration": 0.211639,
     "end_time": "2021-09-14T00:21:01.059334",
     "exception": false,
     "start_time": "2021-09-14T00:21:00.847695",
     "status": "completed"
    },
    "tags": []
   },
   "outputs": [
    {
     "name": "stdout",
     "output_type": "stream",
     "text": [
      "2\n"
     ]
    },
    {
     "data": {
      "text/plain": [
       "<matplotlib.image.AxesImage at 0x7f2afb1cde80>"
      ]
     },
     "execution_count": 9,
     "metadata": {},
     "output_type": "execute_result"
    },
    {
     "data": {
      "image/png": "[encoded data removed]",
      "text/plain": [
       "<Figure size 432x288 with 1 Axes>"
      ]
     },
     "metadata": {
      "needs_background": "light"
     },
     "output_type": "display_data"
    }
   ],
   "source": [
    "image_index = 7776 # You may select anything up to 60,000\n",
    "print(train_labels[image_index]) \n",
    "plt.imshow(train_images[image_index], cmap='Greys')"
   ]
  },
  {
   "cell_type": "markdown",
   "id": "a8d2388d",
   "metadata": {
    "papermill": {
     "duration": 0.030203,
     "end_time": "2021-09-14T00:21:01.127004",
     "exception": false,
     "start_time": "2021-09-14T00:21:01.096801",
     "status": "completed"
    },
    "tags": []
   },
   "source": [
    "## Filter data to get 3 and 8 out"
   ]
  },
  {
   "cell_type": "code",
   "execution_count": 10,
   "id": "776f7fc7",
   "metadata": {
    "execution": {
     "iopub.execute_input": "2021-09-14T00:21:01.192922Z",
     "iopub.status.busy": "2021-09-14T00:21:01.192309Z",
     "iopub.status.idle": "2021-09-14T00:21:01.216386Z",
     "shell.execute_reply": "2021-09-14T00:21:01.214915Z"
    },
    "papermill": {
     "duration": 0.058787,
     "end_time": "2021-09-14T00:21:01.216531",
     "exception": false,
     "start_time": "2021-09-14T00:21:01.157744",
     "status": "completed"
    },
    "tags": []
   },
   "outputs": [],
   "source": [
    "train_filter = np.where((train_labels == 3 ) | (train_labels == 8))\n",
    "test_filter = np.where((test_labels == 3) | (test_labels == 8))\n",
    "X_train, y_train = train_images[train_filter], train_labels[train_filter]\n",
    "X_test, y_test = test_images[test_filter], test_labels[test_filter]"
   ]
  },
  {
   "cell_type": "markdown",
   "id": "948f0b7e",
   "metadata": {
    "papermill": {
     "duration": 0.031068,
     "end_time": "2021-09-14T00:21:01.278396",
     "exception": false,
     "start_time": "2021-09-14T00:21:01.247328",
     "status": "completed"
    },
    "tags": []
   },
   "source": [
    "We normalize the pizel values in the 0 to 1 range"
   ]
  },
  {
   "cell_type": "code",
   "execution_count": 11,
   "id": "ee4c2166",
   "metadata": {
    "execution": {
     "iopub.execute_input": "2021-09-14T00:21:01.349189Z",
     "iopub.status.busy": "2021-09-14T00:21:01.348583Z",
     "iopub.status.idle": "2021-09-14T00:21:01.403512Z",
     "shell.execute_reply": "2021-09-14T00:21:01.402981Z"
    },
    "papermill": {
     "duration": 0.095004,
     "end_time": "2021-09-14T00:21:01.403653",
     "exception": false,
     "start_time": "2021-09-14T00:21:01.308649",
     "status": "completed"
    },
    "tags": []
   },
   "outputs": [],
   "source": [
    "X_train = X_train/255.\n",
    "X_test = X_test/255."
   ]
  },
  {
   "cell_type": "markdown",
   "id": "ddcf4fab",
   "metadata": {
    "papermill": {
     "duration": 0.030718,
     "end_time": "2021-09-14T00:21:01.465749",
     "exception": false,
     "start_time": "2021-09-14T00:21:01.435031",
     "status": "completed"
    },
    "tags": []
   },
   "source": [
    "And setup the labels as 1 (when the digit is 3) and 0 (when the digit is 8)"
   ]
  },
  {
   "cell_type": "code",
   "execution_count": 12,
   "id": "7dc908f2",
   "metadata": {
    "execution": {
     "iopub.execute_input": "2021-09-14T00:21:01.541654Z",
     "iopub.status.busy": "2021-09-14T00:21:01.541048Z",
     "iopub.status.idle": "2021-09-14T00:21:01.553890Z",
     "shell.execute_reply": "2021-09-14T00:21:01.553403Z"
    },
    "papermill": {
     "duration": 0.057534,
     "end_time": "2021-09-14T00:21:01.554017",
     "exception": false,
     "start_time": "2021-09-14T00:21:01.496483",
     "status": "completed"
    },
    "tags": []
   },
   "outputs": [],
   "source": [
    "y_train = 1*(y_train==3)\n",
    "y_test = 1*(y_test==3)"
   ]
  },
  {
   "cell_type": "code",
   "execution_count": 13,
   "id": "01e4e969",
   "metadata": {
    "execution": {
     "iopub.execute_input": "2021-09-14T00:21:01.620223Z",
     "iopub.status.busy": "2021-09-14T00:21:01.619336Z",
     "iopub.status.idle": "2021-09-14T00:21:01.637506Z",
     "shell.execute_reply": "2021-09-14T00:21:01.637987Z"
    },
    "papermill": {
     "duration": 0.053484,
     "end_time": "2021-09-14T00:21:01.638138",
     "exception": false,
     "start_time": "2021-09-14T00:21:01.584654",
     "status": "completed"
    },
    "tags": []
   },
   "outputs": [
    {
     "data": {
      "text/plain": [
       "((11982, 28, 28), (1984, 28, 28))"
      ]
     },
     "execution_count": 13,
     "metadata": {},
     "output_type": "execute_result"
    }
   ],
   "source": [
    "X_train.shape, X_test.shape"
   ]
  },
  {
   "cell_type": "markdown",
   "id": "5ccf3f85",
   "metadata": {
    "papermill": {
     "duration": 0.031151,
     "end_time": "2021-09-14T00:21:01.700284",
     "exception": false,
     "start_time": "2021-09-14T00:21:01.669133",
     "status": "completed"
    },
    "tags": []
   },
   "source": [
    "We reshape the data to flatten the image pixels into a set of features or co-variates:"
   ]
  },
  {
   "cell_type": "code",
   "execution_count": 14,
   "id": "5286a4a3",
   "metadata": {
    "execution": {
     "iopub.execute_input": "2021-09-14T00:21:01.767971Z",
     "iopub.status.busy": "2021-09-14T00:21:01.767326Z",
     "iopub.status.idle": "2021-09-14T00:21:01.782918Z",
     "shell.execute_reply": "2021-09-14T00:21:01.783427Z"
    },
    "papermill": {
     "duration": 0.05081,
     "end_time": "2021-09-14T00:21:01.783571",
     "exception": false,
     "start_time": "2021-09-14T00:21:01.732761",
     "status": "completed"
    },
    "tags": []
   },
   "outputs": [
    {
     "data": {
      "text/plain": [
       "((11982, 784), (1984, 784))"
      ]
     },
     "execution_count": 14,
     "metadata": {},
     "output_type": "execute_result"
    }
   ],
   "source": [
    "X_train = X_train.reshape(X_train.shape[0], -1)\n",
    "X_test = X_test.reshape(X_test.shape[0], -1)\n",
    "X_train.shape, X_test.shape"
   ]
  },
  {
   "cell_type": "code",
   "execution_count": 15,
   "id": "73c5f88a",
   "metadata": {
    "execution": {
     "iopub.execute_input": "2021-09-14T00:21:01.857775Z",
     "iopub.status.busy": "2021-09-14T00:21:01.856915Z",
     "iopub.status.idle": "2021-09-14T00:21:01.877100Z",
     "shell.execute_reply": "2021-09-14T00:21:01.876586Z"
    },
    "papermill": {
     "duration": 0.062173,
     "end_time": "2021-09-14T00:21:01.877226",
     "exception": false,
     "start_time": "2021-09-14T00:21:01.815053",
     "status": "completed"
    },
    "tags": []
   },
   "outputs": [],
   "source": [
    "#Impoting functions from 'Kudzu'\n",
    "from kudzu.model import Model\n",
    "from kudzu.train import Learner\n",
    "from kudzu.optim import GD\n",
    "from kudzu.data import Data, Sampler,Dataloader\n",
    "\n",
    "from kudzu.callbacks import AccCallback\n",
    "from kudzu.callbacks import ClfCallback\n",
    "\n",
    "from kudzu.loss import MSE\n",
    "\n",
    "from kudzu.layer import Sigmoid,Relu\n",
    "from kudzu.layer import Affine"
   ]
  },
  {
   "cell_type": "markdown",
   "id": "bc01172a",
   "metadata": {
    "papermill": {
     "duration": 0.043928,
     "end_time": "2021-09-14T00:21:01.963486",
     "exception": false,
     "start_time": "2021-09-14T00:21:01.919558",
     "status": "completed"
    },
    "tags": []
   },
   "source": [
    "### Let us create a `Config` class, to store important parameters. \n",
    "This class essentially plays the role of a dictionary."
   ]
  },
  {
   "cell_type": "code",
   "execution_count": 16,
   "id": "978281aa",
   "metadata": {
    "execution": {
     "iopub.execute_input": "2021-09-14T00:21:02.037153Z",
     "iopub.status.busy": "2021-09-14T00:21:02.036550Z",
     "iopub.status.idle": "2021-09-14T00:21:02.048943Z",
     "shell.execute_reply": "2021-09-14T00:21:02.049454Z"
    },
    "papermill": {
     "duration": 0.054544,
     "end_time": "2021-09-14T00:21:02.049596",
     "exception": false,
     "start_time": "2021-09-14T00:21:01.995052",
     "status": "completed"
    },
    "tags": []
   },
   "outputs": [],
   "source": [
    "class Config:\n",
    "    pass\n",
    "config = Config()\n",
    "config.lr = 0.001\n",
    "config.num_epochs = 250\n",
    "config.bs = 50"
   ]
  },
  {
   "cell_type": "markdown",
   "id": "1385fa59",
   "metadata": {
    "papermill": {
     "duration": 0.031353,
     "end_time": "2021-09-14T00:21:02.113382",
     "exception": false,
     "start_time": "2021-09-14T00:21:02.082029",
     "status": "completed"
    },
    "tags": []
   },
   "source": [
    "### Running Models with the Training data\n",
    "Details about the network layers:\n",
    "- A first affine layer has 784 inputs and does 100 affine transforms. These are followed by a Relu\n",
    "- A second affine layer has 100 inputs from the 100 activations of the past layer, and does 100 affine transforms. These are followed by a Relu\n",
    "- A third affine layer has 100 activations and does 2 affine transformations to create an embedding for visualization. There is no non-linearity here.\n",
    "- A final \"logistic regression\" which has an affine transform from 2 inputs to 1 output, which is squeezed through a sigmoid.\n"
   ]
  },
  {
   "cell_type": "code",
   "execution_count": 17,
   "id": "2b9c66db",
   "metadata": {
    "execution": {
     "iopub.execute_input": "2021-09-14T00:21:02.186246Z",
     "iopub.status.busy": "2021-09-14T00:21:02.185395Z",
     "iopub.status.idle": "2021-09-14T00:21:02.204499Z",
     "shell.execute_reply": "2021-09-14T00:21:02.203976Z"
    },
    "papermill": {
     "duration": 0.05737,
     "end_time": "2021-09-14T00:21:02.204637",
     "exception": false,
     "start_time": "2021-09-14T00:21:02.147267",
     "status": "completed"
    },
    "tags": []
   },
   "outputs": [],
   "source": [
    "data = Data(X_train, y_train.reshape(-1,1))\n",
    "sampler = Sampler(data, config.bs, shuffle=True)\n",
    "\n",
    "dl = Dataloader(data, sampler)\n",
    "\n",
    "opt = GD(config.lr)\n",
    "loss = MSE()"
   ]
  },
  {
   "cell_type": "code",
   "execution_count": 18,
   "id": "b275e4c2",
   "metadata": {
    "execution": {
     "iopub.execute_input": "2021-09-14T00:21:02.279047Z",
     "iopub.status.busy": "2021-09-14T00:21:02.278017Z",
     "iopub.status.idle": "2021-09-14T00:21:02.292813Z",
     "shell.execute_reply": "2021-09-14T00:21:02.292274Z"
    },
    "papermill": {
     "duration": 0.056646,
     "end_time": "2021-09-14T00:21:02.292941",
     "exception": false,
     "start_time": "2021-09-14T00:21:02.236295",
     "status": "completed"
    },
    "tags": []
   },
   "outputs": [],
   "source": [
    "training_data_x = X_train\n",
    "testing_data_x = X_test\n",
    "training_data_y = y_train.reshape(-1,1)\n",
    "testing_data_y = y_test.reshape(-1,1)"
   ]
  },
  {
   "cell_type": "code",
   "execution_count": 19,
   "id": "76951160",
   "metadata": {
    "execution": {
     "iopub.execute_input": "2021-09-14T00:21:02.363900Z",
     "iopub.status.busy": "2021-09-14T00:21:02.363267Z",
     "iopub.status.idle": "2021-09-14T00:21:02.380737Z",
     "shell.execute_reply": "2021-09-14T00:21:02.381249Z"
    },
    "papermill": {
     "duration": 0.057077,
     "end_time": "2021-09-14T00:21:02.381399",
     "exception": false,
     "start_time": "2021-09-14T00:21:02.324322",
     "status": "completed"
    },
    "tags": []
   },
   "outputs": [
    {
     "name": "stdout",
     "output_type": "stream",
     "text": [
      "xavier\n",
      "xavier\n",
      "xavier\n",
      "xavier\n",
      "xavier\n"
     ]
    }
   ],
   "source": [
    "layers = [Affine(\"first\", 784, 100), Relu(\"first\"), Affine(\"second\", 100, 100), Relu(\"second\"), Affine(\"third\", 100, 2), Affine(\"last\", 2, 1), Sigmoid(\"last\")]\n",
    "model_nn = Model(layers)\n",
    "model_lr = Model([Affine(\"logits\", 784, 1), Sigmoid(\"sigmoid\")])"
   ]
  },
  {
   "cell_type": "code",
   "execution_count": 20,
   "id": "6eede77a",
   "metadata": {
    "execution": {
     "iopub.execute_input": "2021-09-14T00:21:02.460277Z",
     "iopub.status.busy": "2021-09-14T00:21:02.459481Z",
     "iopub.status.idle": "2021-09-14T00:21:02.480257Z",
     "shell.execute_reply": "2021-09-14T00:21:02.480789Z"
    },
    "papermill": {
     "duration": 0.062695,
     "end_time": "2021-09-14T00:21:02.480946",
     "exception": false,
     "start_time": "2021-09-14T00:21:02.418251",
     "status": "completed"
    },
    "tags": []
   },
   "outputs": [],
   "source": [
    "nn_learner = Learner(loss, model_nn, opt, config.num_epochs)\n",
    "acc_nn = ClfCallback(nn_learner, config.bs, training_data_x , testing_data_x, training_data_y, testing_data_y)\n",
    "nn_learner.set_callbacks([acc_nn])"
   ]
  },
  {
   "cell_type": "code",
   "execution_count": 21,
   "id": "877b6cc7",
   "metadata": {
    "execution": {
     "iopub.execute_input": "2021-09-14T00:21:02.554910Z",
     "iopub.status.busy": "2021-09-14T00:21:02.554301Z",
     "iopub.status.idle": "2021-09-14T00:21:02.570301Z",
     "shell.execute_reply": "2021-09-14T00:21:02.569558Z"
    },
    "papermill": {
     "duration": 0.056854,
     "end_time": "2021-09-14T00:21:02.570469",
     "exception": false,
     "start_time": "2021-09-14T00:21:02.513615",
     "status": "completed"
    },
    "tags": []
   },
   "outputs": [],
   "source": [
    "lr_learner = Learner(loss, model_lr, opt, config.num_epochs)\n",
    "acc_lr = ClfCallback(lr_learner, config.bs, training_data_x , testing_data_x, training_data_y, testing_data_y)\n",
    "lr_learner.set_callbacks([acc_lr])"
   ]
  },
  {
   "cell_type": "code",
   "execution_count": 22,
   "id": "d9b133c3",
   "metadata": {
    "execution": {
     "iopub.execute_input": "2021-09-14T00:21:02.647249Z",
     "iopub.status.busy": "2021-09-14T00:21:02.646654Z",
     "iopub.status.idle": "2021-09-14T00:22:36.271651Z",
     "shell.execute_reply": "2021-09-14T00:22:36.272486Z"
    },
    "papermill": {
     "duration": 93.664823,
     "end_time": "2021-09-14T00:22:36.272648",
     "exception": false,
     "start_time": "2021-09-14T00:21:02.607825",
     "status": "completed"
    },
    "tags": []
   },
   "outputs": [
    {
     "name": "stdout",
     "output_type": "stream",
     "text": [
      "Epoch 0, Loss 0.2433\n",
      "Training Accuracy: 0.6915, Testing Accuracy: 0.6804\n",
      "\n"
     ]
    },
    {
     "name": "stdout",
     "output_type": "stream",
     "text": [
      "Epoch 10, Loss 0.08\n",
      "Training Accuracy: 0.9239, Testing Accuracy: 0.9410\n",
      "\n"
     ]
    },
    {
     "name": "stdout",
     "output_type": "stream",
     "text": [
      "Epoch 20, Loss 0.0503\n",
      "Training Accuracy: 0.9480, Testing Accuracy: 0.9572\n",
      "\n"
     ]
    },
    {
     "name": "stdout",
     "output_type": "stream",
     "text": [
      "Epoch 30, Loss 0.0403\n",
      "Training Accuracy: 0.9573, Testing Accuracy: 0.9662\n",
      "\n"
     ]
    },
    {
     "name": "stdout",
     "output_type": "stream",
     "text": [
      "Epoch 40, Loss 0.0353\n",
      "Training Accuracy: 0.9612, Testing Accuracy: 0.9703\n",
      "\n"
     ]
    },
    {
     "name": "stdout",
     "output_type": "stream",
     "text": [
      "Epoch 50, Loss 0.0322\n",
      "Training Accuracy: 0.9632, Testing Accuracy: 0.9703\n",
      "\n"
     ]
    },
    {
     "name": "stdout",
     "output_type": "stream",
     "text": [
      "Epoch 60, Loss 0.03\n",
      "Training Accuracy: 0.9654, Testing Accuracy: 0.9703\n",
      "\n"
     ]
    },
    {
     "name": "stdout",
     "output_type": "stream",
     "text": [
      "Epoch 70, Loss 0.0283\n",
      "Training Accuracy: 0.9670, Testing Accuracy: 0.9708\n",
      "\n"
     ]
    },
    {
     "name": "stdout",
     "output_type": "stream",
     "text": [
      "Epoch 80, Loss 0.027\n",
      "Training Accuracy: 0.9680, Testing Accuracy: 0.9708\n",
      "\n"
     ]
    },
    {
     "name": "stdout",
     "output_type": "stream",
     "text": [
      "Epoch 90, Loss 0.0259\n",
      "Training Accuracy: 0.9694, Testing Accuracy: 0.9698\n",
      "\n"
     ]
    },
    {
     "name": "stdout",
     "output_type": "stream",
     "text": [
      "Epoch 100, Loss 0.0249\n",
      "Training Accuracy: 0.9701, Testing Accuracy: 0.9698\n",
      "\n"
     ]
    },
    {
     "name": "stdout",
     "output_type": "stream",
     "text": [
      "Epoch 110, Loss 0.0241\n",
      "Training Accuracy: 0.9720, Testing Accuracy: 0.9713\n",
      "\n"
     ]
    },
    {
     "name": "stdout",
     "output_type": "stream",
     "text": [
      "Epoch 120, Loss 0.0233\n",
      "Training Accuracy: 0.9737, Testing Accuracy: 0.9718\n",
      "\n"
     ]
    },
    {
     "name": "stdout",
     "output_type": "stream",
     "text": [
      "Epoch 130, Loss 0.0226\n",
      "Training Accuracy: 0.9745, Testing Accuracy: 0.9713\n",
      "\n"
     ]
    },
    {
     "name": "stdout",
     "output_type": "stream",
     "text": [
      "Epoch 140, Loss 0.0219\n",
      "Training Accuracy: 0.9754, Testing Accuracy: 0.9723\n",
      "\n"
     ]
    },
    {
     "name": "stdout",
     "output_type": "stream",
     "text": [
      "Epoch 150, Loss 0.0213\n",
      "Training Accuracy: 0.9760, Testing Accuracy: 0.9718\n",
      "\n"
     ]
    },
    {
     "name": "stdout",
     "output_type": "stream",
     "text": [
      "Epoch 160, Loss 0.0207\n",
      "Training Accuracy: 0.9768, Testing Accuracy: 0.9733\n",
      "\n"
     ]
    },
    {
     "name": "stdout",
     "output_type": "stream",
     "text": [
      "Epoch 170, Loss 0.0202\n",
      "Training Accuracy: 0.9777, Testing Accuracy: 0.9723\n",
      "\n"
     ]
    },
    {
     "name": "stdout",
     "output_type": "stream",
     "text": [
      "Epoch 180, Loss 0.0197\n",
      "Training Accuracy: 0.9780, Testing Accuracy: 0.9728\n",
      "\n"
     ]
    },
    {
     "name": "stdout",
     "output_type": "stream",
     "text": [
      "Epoch 190, Loss 0.0192\n",
      "Training Accuracy: 0.9782, Testing Accuracy: 0.9738\n",
      "\n"
     ]
    },
    {
     "name": "stdout",
     "output_type": "stream",
     "text": [
      "Epoch 200, Loss 0.0188\n",
      "Training Accuracy: 0.9787, Testing Accuracy: 0.9743\n",
      "\n"
     ]
    },
    {
     "name": "stdout",
     "output_type": "stream",
     "text": [
      "Epoch 210, Loss 0.0183\n",
      "Training Accuracy: 0.9793, Testing Accuracy: 0.9743\n",
      "\n"
     ]
    },
    {
     "name": "stdout",
     "output_type": "stream",
     "text": [
      "Epoch 220, Loss 0.0179\n",
      "Training Accuracy: 0.9803, Testing Accuracy: 0.9748\n",
      "\n"
     ]
    },
    {
     "name": "stdout",
     "output_type": "stream",
     "text": [
      "Epoch 230, Loss 0.0175\n",
      "Training Accuracy: 0.9807, Testing Accuracy: 0.9748\n",
      "\n"
     ]
    },
    {
     "name": "stdout",
     "output_type": "stream",
     "text": [
      "Epoch 240, Loss 0.0171\n",
      "Training Accuracy: 0.9813, Testing Accuracy: 0.9753\n",
      "\n"
     ]
    },
    {
     "data": {
      "text/plain": [
       "0.03668605382596919"
      ]
     },
     "execution_count": 22,
     "metadata": {},
     "output_type": "execute_result"
    }
   ],
   "source": [
    "nn_learner.train_loop(dl)"
   ]
  },
  {
   "cell_type": "code",
   "execution_count": 23,
   "id": "e0163366",
   "metadata": {
    "execution": {
     "iopub.execute_input": "2021-09-14T00:22:36.364450Z",
     "iopub.status.busy": "2021-09-14T00:22:36.363847Z",
     "iopub.status.idle": "2021-09-14T00:22:52.839107Z",
     "shell.execute_reply": "2021-09-14T00:22:52.839940Z"
    },
    "papermill": {
     "duration": 16.527713,
     "end_time": "2021-09-14T00:22:52.840101",
     "exception": false,
     "start_time": "2021-09-14T00:22:36.312388",
     "status": "completed"
    },
    "tags": []
   },
   "outputs": [
    {
     "name": "stdout",
     "output_type": "stream",
     "text": [
      "Epoch 0, Loss 0.2239\n",
      "Training Accuracy: 0.7455, Testing Accuracy: 0.7566\n",
      "\n"
     ]
    },
    {
     "name": "stdout",
     "output_type": "stream",
     "text": [
      "Epoch 10, Loss 0.1009\n",
      "Training Accuracy: 0.9127, Testing Accuracy: 0.9209\n",
      "\n"
     ]
    },
    {
     "name": "stdout",
     "output_type": "stream",
     "text": [
      "Epoch 20, Loss 0.0782\n",
      "Training Accuracy: 0.9295, Testing Accuracy: 0.9360\n",
      "\n"
     ]
    },
    {
     "name": "stdout",
     "output_type": "stream",
     "text": [
      "Epoch 30, Loss 0.0676\n",
      "Training Accuracy: 0.9369, Testing Accuracy: 0.9441\n",
      "\n"
     ]
    },
    {
     "name": "stdout",
     "output_type": "stream",
     "text": [
      "Epoch 40, Loss 0.0612\n",
      "Training Accuracy: 0.9413, Testing Accuracy: 0.9491\n",
      "\n"
     ]
    },
    {
     "name": "stdout",
     "output_type": "stream",
     "text": [
      "Epoch 50, Loss 0.0568\n",
      "Training Accuracy: 0.9445, Testing Accuracy: 0.9496\n",
      "\n"
     ]
    },
    {
     "name": "stdout",
     "output_type": "stream",
     "text": [
      "Epoch 60, Loss 0.0535\n",
      "Training Accuracy: 0.9479, Testing Accuracy: 0.9536\n",
      "\n"
     ]
    },
    {
     "name": "stdout",
     "output_type": "stream",
     "text": [
      "Epoch 70, Loss 0.051\n",
      "Training Accuracy: 0.9498, Testing Accuracy: 0.9541\n",
      "\n"
     ]
    },
    {
     "name": "stdout",
     "output_type": "stream",
     "text": [
      "Epoch 80, Loss 0.049\n",
      "Training Accuracy: 0.9508, Testing Accuracy: 0.9582\n",
      "\n"
     ]
    },
    {
     "name": "stdout",
     "output_type": "stream",
     "text": [
      "Epoch 90, Loss 0.0474\n",
      "Training Accuracy: 0.9520, Testing Accuracy: 0.9602\n",
      "\n"
     ]
    },
    {
     "name": "stdout",
     "output_type": "stream",
     "text": [
      "Epoch 100, Loss 0.046\n",
      "Training Accuracy: 0.9532, Testing Accuracy: 0.9612\n",
      "\n"
     ]
    },
    {
     "name": "stdout",
     "output_type": "stream",
     "text": [
      "Epoch 110, Loss 0.0448\n",
      "Training Accuracy: 0.9538, Testing Accuracy: 0.9617\n",
      "\n"
     ]
    },
    {
     "name": "stdout",
     "output_type": "stream",
     "text": [
      "Epoch 120, Loss 0.0437\n",
      "Training Accuracy: 0.9546, Testing Accuracy: 0.9622\n",
      "\n"
     ]
    },
    {
     "name": "stdout",
     "output_type": "stream",
     "text": [
      "Epoch 130, Loss 0.0428\n",
      "Training Accuracy: 0.9559, Testing Accuracy: 0.9632\n",
      "\n"
     ]
    },
    {
     "name": "stdout",
     "output_type": "stream",
     "text": [
      "Epoch 140, Loss 0.042\n",
      "Training Accuracy: 0.9573, Testing Accuracy: 0.9642\n",
      "\n"
     ]
    },
    {
     "name": "stdout",
     "output_type": "stream",
     "text": [
      "Epoch 150, Loss 0.0412\n",
      "Training Accuracy: 0.9579, Testing Accuracy: 0.9647\n",
      "\n"
     ]
    },
    {
     "name": "stdout",
     "output_type": "stream",
     "text": [
      "Epoch 160, Loss 0.0406\n",
      "Training Accuracy: 0.9588, Testing Accuracy: 0.9652\n",
      "\n"
     ]
    },
    {
     "name": "stdout",
     "output_type": "stream",
     "text": [
      "Epoch 170, Loss 0.04\n",
      "Training Accuracy: 0.9590, Testing Accuracy: 0.9652\n",
      "\n"
     ]
    },
    {
     "name": "stdout",
     "output_type": "stream",
     "text": [
      "Epoch 180, Loss 0.0394\n",
      "Training Accuracy: 0.9592, Testing Accuracy: 0.9657\n",
      "\n"
     ]
    },
    {
     "name": "stdout",
     "output_type": "stream",
     "text": [
      "Epoch 190, Loss 0.0389\n",
      "Training Accuracy: 0.9593, Testing Accuracy: 0.9657\n",
      "\n"
     ]
    },
    {
     "name": "stdout",
     "output_type": "stream",
     "text": [
      "Epoch 200, Loss 0.0384\n",
      "Training Accuracy: 0.9599, Testing Accuracy: 0.9657\n",
      "\n"
     ]
    },
    {
     "name": "stdout",
     "output_type": "stream",
     "text": [
      "Epoch 210, Loss 0.038\n",
      "Training Accuracy: 0.9604, Testing Accuracy: 0.9662\n",
      "\n"
     ]
    },
    {
     "name": "stdout",
     "output_type": "stream",
     "text": [
      "Epoch 220, Loss 0.0376\n",
      "Training Accuracy: 0.9605, Testing Accuracy: 0.9662\n",
      "\n"
     ]
    },
    {
     "name": "stdout",
     "output_type": "stream",
     "text": [
      "Epoch 230, Loss 0.0372\n",
      "Training Accuracy: 0.9610, Testing Accuracy: 0.9662\n",
      "\n"
     ]
    },
    {
     "name": "stdout",
     "output_type": "stream",
     "text": [
      "Epoch 240, Loss 0.0369\n",
      "Training Accuracy: 0.9613, Testing Accuracy: 0.9662\n",
      "\n"
     ]
    },
    {
     "data": {
      "text/plain": [
       "0.05351783074788464"
      ]
     },
     "execution_count": 23,
     "metadata": {},
     "output_type": "execute_result"
    }
   ],
   "source": [
    "lr_learner.train_loop(dl)"
   ]
  },
  {
   "cell_type": "code",
   "execution_count": 24,
   "id": "ca410940",
   "metadata": {
    "execution": {
     "iopub.execute_input": "2021-09-14T00:22:52.981269Z",
     "iopub.status.busy": "2021-09-14T00:22:52.980652Z",
     "iopub.status.idle": "2021-09-14T00:22:53.239048Z",
     "shell.execute_reply": "2021-09-14T00:22:53.239537Z"
    },
    "papermill": {
     "duration": 0.340809,
     "end_time": "2021-09-14T00:22:53.239709",
     "exception": false,
     "start_time": "2021-09-14T00:22:52.898900",
     "status": "completed"
    },
    "tags": []
   },
   "outputs": [
    {
     "data": {
      "text/plain": [
       "<matplotlib.legend.Legend at 0x7f2afadabf28>"
      ]
     },
     "execution_count": 24,
     "metadata": {},
     "output_type": "execute_result"
    },
    {
     "data": {
      "image/png": "[encoded data removed]",
      "text/plain": [
       "<Figure size 1080x720 with 1 Axes>"
      ]
     },
     "metadata": {
      "needs_background": "light"
     },
     "output_type": "display_data"
    }
   ],
   "source": [
    "#comparing the results of NN and LR\n",
    "plt.figure(figsize=(15,10))\n",
    "\n",
    "# Neural Network plots\n",
    "plt.plot(acc_nn.accuracies, 'r-', label = \"Training Accuracies - NN\")\n",
    "plt.plot(acc_nn.test_accuracies, 'g-', label = \"Testing Accuracies - NN\")\n",
    "\n",
    "# Logistic Regression plots\n",
    "plt.plot(acc_lr.accuracies, 'k-', label = \"Training Accuracies - LR\")\n",
    "plt.plot(acc_lr.test_accuracies, 'b-', label = \"Testing Accuracies - LR\")\n",
    "plt.legend()"
   ]
  },
  {
   "cell_type": "markdown",
   "id": "80dfb35c",
   "metadata": {
    "papermill": {
     "duration": 0.049476,
     "end_time": "2021-09-14T00:22:53.348643",
     "exception": false,
     "start_time": "2021-09-14T00:22:53.299167",
     "status": "completed"
    },
    "tags": []
   },
   "source": [
    "#### Plotting the outputs of this layer of the NN.\n"
   ]
  },
  {
   "cell_type": "code",
   "execution_count": 25,
   "id": "45eb2ff5",
   "metadata": {
    "execution": {
     "iopub.execute_input": "2021-09-14T00:22:53.448560Z",
     "iopub.status.busy": "2021-09-14T00:22:53.447943Z",
     "iopub.status.idle": "2021-09-14T00:22:53.470352Z",
     "shell.execute_reply": "2021-09-14T00:22:53.469841Z"
    },
    "papermill": {
     "duration": 0.074052,
     "end_time": "2021-09-14T00:22:53.470486",
     "exception": false,
     "start_time": "2021-09-14T00:22:53.396434",
     "status": "completed"
    },
    "tags": []
   },
   "outputs": [],
   "source": [
    "new_model = Model(layers[:-2])\n",
    "testing_plot = new_model(testing_data_x)"
   ]
  },
  {
   "cell_type": "code",
   "execution_count": 26,
   "id": "4c0a5485",
   "metadata": {
    "execution": {
     "iopub.execute_input": "2021-09-14T00:22:53.586339Z",
     "iopub.status.busy": "2021-09-14T00:22:53.584952Z",
     "iopub.status.idle": "2021-09-14T00:22:53.865039Z",
     "shell.execute_reply": "2021-09-14T00:22:53.864489Z"
    },
    "papermill": {
     "duration": 0.336864,
     "end_time": "2021-09-14T00:22:53.865170",
     "exception": false,
     "start_time": "2021-09-14T00:22:53.528306",
     "status": "completed"
    },
    "tags": []
   },
   "outputs": [
    {
     "data": {
      "text/plain": [
       "Text(0.5, 1.0, 'Outputs')"
      ]
     },
     "execution_count": 26,
     "metadata": {},
     "output_type": "execute_result"
    },
    {
     "data": {
      "image/png": "[encoded data removed]",
      "text/plain": [
       "<Figure size 576x504 with 1 Axes>"
      ]
     },
     "metadata": {
      "needs_background": "light"
     },
     "output_type": "display_data"
    }
   ],
   "source": [
    "# Plotting the scatter plot of points and color coding by class\n",
    "plt.figure(figsize=(8,7))\n",
    "plt.scatter(testing_plot[:,0], testing_plot[:,1], alpha = 0.1, c = y_test.ravel());\n",
    "plt.title('Outputs')"
   ]
  },
  {
   "cell_type": "markdown",
   "id": "a74fcf8f",
   "metadata": {
    "papermill": {
     "duration": 0.051871,
     "end_time": "2021-09-14T00:22:53.969278",
     "exception": false,
     "start_time": "2021-09-14T00:22:53.917407",
     "status": "completed"
    },
    "tags": []
   },
   "source": [
    "Probability contours"
   ]
  },
  {
   "cell_type": "code",
   "execution_count": 27,
   "id": "d0afc8e3",
   "metadata": {
    "execution": {
     "iopub.execute_input": "2021-09-14T00:22:54.077663Z",
     "iopub.status.busy": "2021-09-14T00:22:54.077070Z",
     "iopub.status.idle": "2021-09-14T00:22:54.090142Z",
     "shell.execute_reply": "2021-09-14T00:22:54.090619Z"
    },
    "papermill": {
     "duration": 0.069401,
     "end_time": "2021-09-14T00:22:54.090760",
     "exception": false,
     "start_time": "2021-09-14T00:22:54.021359",
     "status": "completed"
    },
    "tags": []
   },
   "outputs": [],
   "source": [
    "model_prob = Model(layers[-2:]) "
   ]
  },
  {
   "cell_type": "code",
   "execution_count": 28,
   "id": "9b96e238",
   "metadata": {
    "execution": {
     "iopub.execute_input": "2021-09-14T00:22:54.199310Z",
     "iopub.status.busy": "2021-09-14T00:22:54.198714Z",
     "iopub.status.idle": "2021-09-14T00:22:54.213750Z",
     "shell.execute_reply": "2021-09-14T00:22:54.214195Z"
    },
    "papermill": {
     "duration": 0.071616,
     "end_time": "2021-09-14T00:22:54.214342",
     "exception": false,
     "start_time": "2021-09-14T00:22:54.142726",
     "status": "completed"
    },
    "tags": []
   },
   "outputs": [],
   "source": [
    "#creating the x and y ranges according to the above generated plot.\n",
    "x_range = np.linspace(-4, 1, 100) \n",
    "y_range = np.linspace(-6, 6, 100) \n",
    "x_grid, y_grid = np.meshgrid(x_range, y_range) # x_grid and y_grig are of size 100 X 100\n",
    "\n",
    "# converting x_grid and y_grid to continuous arrays\n",
    "x_gridflat = np.ravel(x_grid)\n",
    "y_gridflat = np.ravel(y_grid)\n",
    "\n",
    "# The last layer of the current model takes two columns as input. Hence transpose of np.vstack() is required.\n",
    "X = np.vstack((x_gridflat, y_gridflat)).T\n",
    "\n",
    "prob_contour = model_prob(X).reshape(100,100) "
   ]
  },
  {
   "cell_type": "code",
   "execution_count": 29,
   "id": "da72499a",
   "metadata": {
    "execution": {
     "iopub.execute_input": "2021-09-14T00:22:54.361888Z",
     "iopub.status.busy": "2021-09-14T00:22:54.361289Z",
     "iopub.status.idle": "2021-09-14T00:22:54.659206Z",
     "shell.execute_reply": "2021-09-14T00:22:54.658307Z"
    },
    "papermill": {
     "duration": 0.354653,
     "end_time": "2021-09-14T00:22:54.659346",
     "exception": false,
     "start_time": "2021-09-14T00:22:54.304693",
     "status": "completed"
    },
    "tags": []
   },
   "outputs": [
    {
     "data": {
      "image/png": "[encoded data removed]",
      "text/plain": [
       "<Figure size 720x648 with 1 Axes>"
      ]
     },
     "metadata": {
      "needs_background": "light"
     },
     "output_type": "display_data"
    }
   ],
   "source": [
    "plt.figure(figsize=(10,9))\n",
    "plt.scatter(testing_plot[:,0], testing_plot[:,1], alpha = 0.1, c = y_test.ravel())\n",
    "contours = plt.contour(x_grid,y_grid,prob_contour)\n",
    "plt.title('Probability Contours')\n",
    "plt.clabel(contours, inline = True );"
   ]
  },
  {
   "cell_type": "code",
   "execution_count": null,
   "id": "e81b4ac7",
   "metadata": {
    "papermill": {
     "duration": 0.054757,
     "end_time": "2021-09-14T00:22:54.768965",
     "exception": false,
     "start_time": "2021-09-14T00:22:54.714208",
     "status": "completed"
    },
    "tags": []
   },
   "outputs": [],
   "source": []
  }
 ],
 "metadata": {
  "kernelspec": {
   "display_name": "Python 3",
   "language": "python",
   "name": "python3"
  },
  "language_info": {
   "codemirror_mode": {
    "name": "ipython",
    "version": 3
   },
   "file_extension": ".py",
   "mimetype": "text/x-python",
   "name": "python",
   "nbconvert_exporter": "python",
   "pygments_lexer": "ipython3",
   "version": "3.6.14"
  },
  "papermill": {
   "default_parameters": {},
   "duration": 119.884798,
   "end_time": "2021-09-14T00:22:55.233221",
   "environment_variables": {},
   "exception": null,
   "input_path": "2020-08-11-part2.ipynb",
   "output_path": "2020-08-11-part2.ipynb",
   "parameters": {},
   "start_time": "2021-09-14T00:20:55.348423",
   "version": "2.3.3"
  }
 },
 "nbformat": 4,
 "nbformat_minor": 5
}