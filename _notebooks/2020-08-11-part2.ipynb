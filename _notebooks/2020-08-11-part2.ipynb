{
 "cells": [
  {
   "cell_type": "markdown",
   "id": "98380cd3",
   "metadata": {
    "papermill": {
     "duration": 0.027171,
     "end_time": "2022-08-26T00:43:45.555503",
     "exception": false,
     "start_time": "2022-08-26T00:43:45.528332",
     "status": "completed"
    },
    "tags": []
   },
   "source": [
    "# Distinguish Your Own Digits (DYOD)"
   ]
  },
  {
   "cell_type": "markdown",
   "id": "ef31240d",
   "metadata": {
    "papermill": {
     "duration": 0.020825,
     "end_time": "2022-08-26T00:43:45.597703",
     "exception": false,
     "start_time": "2022-08-26T00:43:45.576878",
     "status": "completed"
    },
    "tags": []
   },
   "source": [
    "You are going to write a classifier that distinguishes between the number 3 and number 8."
   ]
  },
  {
   "cell_type": "code",
   "execution_count": 1,
   "id": "b15c8646",
   "metadata": {
    "execution": {
     "iopub.execute_input": "2022-08-26T00:43:45.651041Z",
     "iopub.status.busy": "2022-08-26T00:43:45.648845Z",
     "iopub.status.idle": "2022-08-26T00:43:45.660886Z",
     "shell.execute_reply": "2022-08-26T00:43:45.661341Z"
    },
    "papermill": {
     "duration": 0.042866,
     "end_time": "2022-08-26T00:43:45.661481",
     "exception": false,
     "start_time": "2022-08-26T00:43:45.618615",
     "status": "completed"
    },
    "tags": []
   },
   "outputs": [],
   "source": [
    "%load_ext autoreload\n",
    "%autoreload 2"
   ]
  },
  {
   "cell_type": "code",
   "execution_count": 2,
   "id": "22ef38dc",
   "metadata": {
    "execution": {
     "iopub.execute_input": "2022-08-26T00:43:45.706507Z",
     "iopub.status.busy": "2022-08-26T00:43:45.705974Z",
     "iopub.status.idle": "2022-08-26T00:43:46.189788Z",
     "shell.execute_reply": "2022-08-26T00:43:46.189156Z"
    },
    "papermill": {
     "duration": 0.507664,
     "end_time": "2022-08-26T00:43:46.189892",
     "exception": false,
     "start_time": "2022-08-26T00:43:45.682228",
     "status": "completed"
    },
    "tags": []
   },
   "outputs": [],
   "source": [
    "%matplotlib inline\n",
    "import numpy as np\n",
    "import matplotlib.pyplot as plt\n",
    "import pandas as pd"
   ]
  },
  {
   "cell_type": "markdown",
   "id": "ba036198",
   "metadata": {
    "papermill": {
     "duration": 0.020648,
     "end_time": "2022-08-26T00:43:46.231890",
     "exception": false,
     "start_time": "2022-08-26T00:43:46.211242",
     "status": "completed"
    },
    "tags": []
   },
   "source": [
    "From the command line run `pip install mnist`. This is a library that will help you bring down the mnist dataset. If you run this from a notebook, you need to put  `!pip install mnist` in a cell by itself."
   ]
  },
  {
   "cell_type": "code",
   "execution_count": 3,
   "id": "bb6ad8a1",
   "metadata": {
    "execution": {
     "iopub.execute_input": "2022-08-26T00:43:46.278389Z",
     "iopub.status.busy": "2022-08-26T00:43:46.277839Z",
     "iopub.status.idle": "2022-08-26T00:43:47.859144Z",
     "shell.execute_reply": "2022-08-26T00:43:47.859587Z"
    },
    "papermill": {
     "duration": 1.607584,
     "end_time": "2022-08-26T00:43:47.859715",
     "exception": false,
     "start_time": "2022-08-26T00:43:46.252131",
     "status": "completed"
    },
    "tags": []
   },
   "outputs": [
    {
     "name": "stdout",
     "output_type": "stream",
     "text": [
      "Collecting mnist\r\n"
     ]
    },
    {
     "name": "stdout",
     "output_type": "stream",
     "text": [
      "  Downloading mnist-0.2.2-py2.py3-none-any.whl (3.5 kB)\r\n",
      "Requirement already satisfied: numpy in /opt/hostedtoolcache/Python/3.6.15/x64/lib/python3.6/site-packages (from mnist) (1.19.5)\r\n"
     ]
    },
    {
     "name": "stdout",
     "output_type": "stream",
     "text": [
      "Installing collected packages: mnist\r\n"
     ]
    },
    {
     "name": "stdout",
     "output_type": "stream",
     "text": [
      "Successfully installed mnist-0.2.2\r\n"
     ]
    }
   ],
   "source": [
    "!pip install mnist"
   ]
  },
  {
   "cell_type": "markdown",
   "id": "69df9c9a",
   "metadata": {
    "papermill": {
     "duration": 0.02229,
     "end_time": "2022-08-26T00:43:47.904699",
     "exception": false,
     "start_time": "2022-08-26T00:43:47.882409",
     "status": "completed"
    },
    "tags": []
   },
   "source": [
    "## Preparing the Data"
   ]
  },
  {
   "cell_type": "code",
   "execution_count": 4,
   "id": "7f69d806",
   "metadata": {
    "execution": {
     "iopub.execute_input": "2022-08-26T00:43:47.955874Z",
     "iopub.status.busy": "2022-08-26T00:43:47.952537Z",
     "iopub.status.idle": "2022-08-26T00:43:47.971101Z",
     "shell.execute_reply": "2022-08-26T00:43:47.970437Z"
    },
    "papermill": {
     "duration": 0.043378,
     "end_time": "2022-08-26T00:43:47.971194",
     "exception": false,
     "start_time": "2022-08-26T00:43:47.927816",
     "status": "completed"
    },
    "tags": []
   },
   "outputs": [],
   "source": [
    "import mnist"
   ]
  },
  {
   "cell_type": "code",
   "execution_count": 5,
   "id": "a411e44f",
   "metadata": {
    "execution": {
     "iopub.execute_input": "2022-08-26T00:43:48.024096Z",
     "iopub.status.busy": "2022-08-26T00:43:48.020241Z",
     "iopub.status.idle": "2022-08-26T00:43:48.752736Z",
     "shell.execute_reply": "2022-08-26T00:43:48.753159Z"
    },
    "papermill": {
     "duration": 0.760296,
     "end_time": "2022-08-26T00:43:48.753287",
     "exception": false,
     "start_time": "2022-08-26T00:43:47.992991",
     "status": "completed"
    },
    "tags": []
   },
   "outputs": [],
   "source": [
    "train_images = mnist.train_images()\n",
    "train_labels = mnist.train_labels()"
   ]
  },
  {
   "cell_type": "code",
   "execution_count": 6,
   "id": "dceab3a5",
   "metadata": {
    "execution": {
     "iopub.execute_input": "2022-08-26T00:43:48.803756Z",
     "iopub.status.busy": "2022-08-26T00:43:48.802990Z",
     "iopub.status.idle": "2022-08-26T00:43:48.818870Z",
     "shell.execute_reply": "2022-08-26T00:43:48.818361Z"
    },
    "papermill": {
     "duration": 0.043276,
     "end_time": "2022-08-26T00:43:48.818964",
     "exception": false,
     "start_time": "2022-08-26T00:43:48.775688",
     "status": "completed"
    },
    "tags": []
   },
   "outputs": [
    {
     "data": {
      "text/plain": [
       "((60000, 28, 28), (60000,))"
      ]
     },
     "execution_count": 6,
     "metadata": {},
     "output_type": "execute_result"
    }
   ],
   "source": [
    "train_images.shape, train_labels.shape"
   ]
  },
  {
   "cell_type": "code",
   "execution_count": 7,
   "id": "f50dc2bb",
   "metadata": {
    "execution": {
     "iopub.execute_input": "2022-08-26T00:43:48.867851Z",
     "iopub.status.busy": "2022-08-26T00:43:48.867300Z",
     "iopub.status.idle": "2022-08-26T00:43:49.058846Z",
     "shell.execute_reply": "2022-08-26T00:43:49.057842Z"
    },
    "papermill": {
     "duration": 0.217073,
     "end_time": "2022-08-26T00:43:49.059072",
     "exception": false,
     "start_time": "2022-08-26T00:43:48.841999",
     "status": "completed"
    },
    "tags": []
   },
   "outputs": [],
   "source": [
    "test_images = mnist.test_images()\n",
    "test_labels = mnist.test_labels()"
   ]
  },
  {
   "cell_type": "code",
   "execution_count": 8,
   "id": "fc38cf1b",
   "metadata": {
    "execution": {
     "iopub.execute_input": "2022-08-26T00:43:49.117129Z",
     "iopub.status.busy": "2022-08-26T00:43:49.116460Z",
     "iopub.status.idle": "2022-08-26T00:43:49.130159Z",
     "shell.execute_reply": "2022-08-26T00:43:49.130830Z"
    },
    "papermill": {
     "duration": 0.044215,
     "end_time": "2022-08-26T00:43:49.130980",
     "exception": false,
     "start_time": "2022-08-26T00:43:49.086765",
     "status": "completed"
    },
    "tags": []
   },
   "outputs": [
    {
     "data": {
      "text/plain": [
       "((10000, 28, 28), (10000,))"
      ]
     },
     "execution_count": 8,
     "metadata": {},
     "output_type": "execute_result"
    }
   ],
   "source": [
    "test_images.shape, test_labels.shape"
   ]
  },
  {
   "cell_type": "code",
   "execution_count": 9,
   "id": "f9ed8fe0",
   "metadata": {
    "execution": {
     "iopub.execute_input": "2022-08-26T00:43:49.180889Z",
     "iopub.status.busy": "2022-08-26T00:43:49.178927Z",
     "iopub.status.idle": "2022-08-26T00:43:49.306232Z",
     "shell.execute_reply": "2022-08-26T00:43:49.305748Z"
    },
    "papermill": {
     "duration": 0.152952,
     "end_time": "2022-08-26T00:43:49.306327",
     "exception": false,
     "start_time": "2022-08-26T00:43:49.153375",
     "status": "completed"
    },
    "tags": []
   },
   "outputs": [
    {
     "name": "stdout",
     "output_type": "stream",
     "text": [
      "2\n"
     ]
    },
    {
     "data": {
      "text/plain": [
       "<matplotlib.image.AxesImage at 0x7f3c6951feb8>"
      ]
     },
     "execution_count": 9,
     "metadata": {},
     "output_type": "execute_result"
    },
    {
     "data": {
      "image/png": "[encoded data removed]",
      "text/plain": [
       "<Figure size 432x288 with 1 Axes>"
      ]
     },
     "metadata": {
      "needs_background": "light"
     },
     "output_type": "display_data"
    }
   ],
   "source": [
    "image_index = 7776 # You may select anything up to 60,000\n",
    "print(train_labels[image_index]) \n",
    "plt.imshow(train_images[image_index], cmap='Greys')"
   ]
  },
  {
   "cell_type": "markdown",
   "id": "a8d2388d",
   "metadata": {
    "papermill": {
     "duration": 0.022836,
     "end_time": "2022-08-26T00:43:49.352129",
     "exception": false,
     "start_time": "2022-08-26T00:43:49.329293",
     "status": "completed"
    },
    "tags": []
   },
   "source": [
    "## Filter data to get 3 and 8 out"
   ]
  },
  {
   "cell_type": "code",
   "execution_count": 10,
   "id": "776f7fc7",
   "metadata": {
    "execution": {
     "iopub.execute_input": "2022-08-26T00:43:49.404453Z",
     "iopub.status.busy": "2022-08-26T00:43:49.402249Z",
     "iopub.status.idle": "2022-08-26T00:43:49.417184Z",
     "shell.execute_reply": "2022-08-26T00:43:49.416795Z"
    },
    "papermill": {
     "duration": 0.041556,
     "end_time": "2022-08-26T00:43:49.417269",
     "exception": false,
     "start_time": "2022-08-26T00:43:49.375713",
     "status": "completed"
    },
    "tags": []
   },
   "outputs": [],
   "source": [
    "train_filter = np.where((train_labels == 3 ) | (train_labels == 8))\n",
    "test_filter = np.where((test_labels == 3) | (test_labels == 8))\n",
    "X_train, y_train = train_images[train_filter], train_labels[train_filter]\n",
    "X_test, y_test = test_images[test_filter], test_labels[test_filter]"
   ]
  },
  {
   "cell_type": "markdown",
   "id": "948f0b7e",
   "metadata": {
    "papermill": {
     "duration": 0.02592,
     "end_time": "2022-08-26T00:43:49.466730",
     "exception": false,
     "start_time": "2022-08-26T00:43:49.440810",
     "status": "completed"
    },
    "tags": []
   },
   "source": [
    "We normalize the pizel values in the 0 to 1 range"
   ]
  },
  {
   "cell_type": "code",
   "execution_count": 11,
   "id": "ee4c2166",
   "metadata": {
    "execution": {
     "iopub.execute_input": "2022-08-26T00:43:49.519287Z",
     "iopub.status.busy": "2022-08-26T00:43:49.518738Z",
     "iopub.status.idle": "2022-08-26T00:43:49.567203Z",
     "shell.execute_reply": "2022-08-26T00:43:49.567956Z"
    },
    "papermill": {
     "duration": 0.077487,
     "end_time": "2022-08-26T00:43:49.568172",
     "exception": false,
     "start_time": "2022-08-26T00:43:49.490685",
     "status": "completed"
    },
    "tags": []
   },
   "outputs": [],
   "source": [
    "X_train = X_train/255.\n",
    "X_test = X_test/255."
   ]
  },
  {
   "cell_type": "markdown",
   "id": "ddcf4fab",
   "metadata": {
    "papermill": {
     "duration": 0.023701,
     "end_time": "2022-08-26T00:43:49.616550",
     "exception": false,
     "start_time": "2022-08-26T00:43:49.592849",
     "status": "completed"
    },
    "tags": []
   },
   "source": [
    "And setup the labels as 1 (when the digit is 3) and 0 (when the digit is 8)"
   ]
  },
  {
   "cell_type": "code",
   "execution_count": 12,
   "id": "7dc908f2",
   "metadata": {
    "execution": {
     "iopub.execute_input": "2022-08-26T00:43:49.670038Z",
     "iopub.status.busy": "2022-08-26T00:43:49.669557Z",
     "iopub.status.idle": "2022-08-26T00:43:49.679620Z",
     "shell.execute_reply": "2022-08-26T00:43:49.679993Z"
    },
    "papermill": {
     "duration": 0.039243,
     "end_time": "2022-08-26T00:43:49.680099",
     "exception": false,
     "start_time": "2022-08-26T00:43:49.640856",
     "status": "completed"
    },
    "tags": []
   },
   "outputs": [],
   "source": [
    "y_train = 1*(y_train==3)\n",
    "y_test = 1*(y_test==3)"
   ]
  },
  {
   "cell_type": "code",
   "execution_count": 13,
   "id": "01e4e969",
   "metadata": {
    "execution": {
     "iopub.execute_input": "2022-08-26T00:43:49.734676Z",
     "iopub.status.busy": "2022-08-26T00:43:49.734100Z",
     "iopub.status.idle": "2022-08-26T00:43:49.748913Z",
     "shell.execute_reply": "2022-08-26T00:43:49.748523Z"
    },
    "papermill": {
     "duration": 0.044691,
     "end_time": "2022-08-26T00:43:49.749002",
     "exception": false,
     "start_time": "2022-08-26T00:43:49.704311",
     "status": "completed"
    },
    "tags": []
   },
   "outputs": [
    {
     "data": {
      "text/plain": [
       "((11982, 28, 28), (1984, 28, 28))"
      ]
     },
     "execution_count": 13,
     "metadata": {},
     "output_type": "execute_result"
    }
   ],
   "source": [
    "X_train.shape, X_test.shape"
   ]
  },
  {
   "cell_type": "markdown",
   "id": "5ccf3f85",
   "metadata": {
    "papermill": {
     "duration": 0.024252,
     "end_time": "2022-08-26T00:43:49.797034",
     "exception": false,
     "start_time": "2022-08-26T00:43:49.772782",
     "status": "completed"
    },
    "tags": []
   },
   "source": [
    "We reshape the data to flatten the image pixels into a set of features or co-variates:"
   ]
  },
  {
   "cell_type": "code",
   "execution_count": 14,
   "id": "5286a4a3",
   "metadata": {
    "execution": {
     "iopub.execute_input": "2022-08-26T00:43:49.851353Z",
     "iopub.status.busy": "2022-08-26T00:43:49.850874Z",
     "iopub.status.idle": "2022-08-26T00:43:49.865741Z",
     "shell.execute_reply": "2022-08-26T00:43:49.866255Z"
    },
    "papermill": {
     "duration": 0.04304,
     "end_time": "2022-08-26T00:43:49.866372",
     "exception": false,
     "start_time": "2022-08-26T00:43:49.823332",
     "status": "completed"
    },
    "tags": []
   },
   "outputs": [
    {
     "data": {
      "text/plain": [
       "((11982, 784), (1984, 784))"
      ]
     },
     "execution_count": 14,
     "metadata": {},
     "output_type": "execute_result"
    }
   ],
   "source": [
    "X_train = X_train.reshape(X_train.shape[0], -1)\n",
    "X_test = X_test.reshape(X_test.shape[0], -1)\n",
    "X_train.shape, X_test.shape"
   ]
  },
  {
   "cell_type": "code",
   "execution_count": 15,
   "id": "73c5f88a",
   "metadata": {
    "execution": {
     "iopub.execute_input": "2022-08-26T00:43:49.920817Z",
     "iopub.status.busy": "2022-08-26T00:43:49.920340Z",
     "iopub.status.idle": "2022-08-26T00:43:49.940551Z",
     "shell.execute_reply": "2022-08-26T00:43:49.939806Z"
    },
    "papermill": {
     "duration": 0.049051,
     "end_time": "2022-08-26T00:43:49.940704",
     "exception": false,
     "start_time": "2022-08-26T00:43:49.891653",
     "status": "completed"
    },
    "tags": []
   },
   "outputs": [],
   "source": [
    "#Impoting functions from 'Kudzu'\n",
    "from kudzu.model import Model\n",
    "from kudzu.train import Learner\n",
    "from kudzu.optim import GD\n",
    "from kudzu.data import Data, Sampler,Dataloader\n",
    "\n",
    "from kudzu.callbacks import AccCallback\n",
    "from kudzu.callbacks import ClfCallback\n",
    "\n",
    "from kudzu.loss import MSE\n",
    "\n",
    "from kudzu.layer import Sigmoid,Relu\n",
    "from kudzu.layer import Affine"
   ]
  },
  {
   "cell_type": "markdown",
   "id": "bc01172a",
   "metadata": {
    "papermill": {
     "duration": 0.024257,
     "end_time": "2022-08-26T00:43:49.990077",
     "exception": false,
     "start_time": "2022-08-26T00:43:49.965820",
     "status": "completed"
    },
    "tags": []
   },
   "source": [
    "### Let us create a `Config` class, to store important parameters. \n",
    "This class essentially plays the role of a dictionary."
   ]
  },
  {
   "cell_type": "code",
   "execution_count": 16,
   "id": "978281aa",
   "metadata": {
    "execution": {
     "iopub.execute_input": "2022-08-26T00:43:50.043000Z",
     "iopub.status.busy": "2022-08-26T00:43:50.042399Z",
     "iopub.status.idle": "2022-08-26T00:43:50.056036Z",
     "shell.execute_reply": "2022-08-26T00:43:50.056570Z"
    },
    "papermill": {
     "duration": 0.042455,
     "end_time": "2022-08-26T00:43:50.056692",
     "exception": false,
     "start_time": "2022-08-26T00:43:50.014237",
     "status": "completed"
    },
    "tags": []
   },
   "outputs": [],
   "source": [
    "class Config:\n",
    "    pass\n",
    "config = Config()\n",
    "config.lr = 0.001\n",
    "config.num_epochs = 250\n",
    "config.bs = 50"
   ]
  },
  {
   "cell_type": "markdown",
   "id": "1385fa59",
   "metadata": {
    "papermill": {
     "duration": 0.024015,
     "end_time": "2022-08-26T00:43:50.105989",
     "exception": false,
     "start_time": "2022-08-26T00:43:50.081974",
     "status": "completed"
    },
    "tags": []
   },
   "source": [
    "### Running Models with the Training data\n",
    "Details about the network layers:\n",
    "- A first affine layer has 784 inputs and does 100 affine transforms. These are followed by a Relu\n",
    "- A second affine layer has 100 inputs from the 100 activations of the past layer, and does 100 affine transforms. These are followed by a Relu\n",
    "- A third affine layer has 100 activations and does 2 affine transformations to create an embedding for visualization. There is no non-linearity here.\n",
    "- A final \"logistic regression\" which has an affine transform from 2 inputs to 1 output, which is squeezed through a sigmoid.\n"
   ]
  },
  {
   "cell_type": "code",
   "execution_count": 17,
   "id": "2b9c66db",
   "metadata": {
    "execution": {
     "iopub.execute_input": "2022-08-26T00:43:50.161900Z",
     "iopub.status.busy": "2022-08-26T00:43:50.161420Z",
     "iopub.status.idle": "2022-08-26T00:43:50.177471Z",
     "shell.execute_reply": "2022-08-26T00:43:50.176952Z"
    },
    "papermill": {
     "duration": 0.045132,
     "end_time": "2022-08-26T00:43:50.177585",
     "exception": false,
     "start_time": "2022-08-26T00:43:50.132453",
     "status": "completed"
    },
    "tags": []
   },
   "outputs": [],
   "source": [
    "data = Data(X_train, y_train.reshape(-1,1))\n",
    "sampler = Sampler(data, config.bs, shuffle=True)\n",
    "\n",
    "dl = Dataloader(data, sampler)\n",
    "\n",
    "opt = GD(config.lr)\n",
    "loss = MSE()"
   ]
  },
  {
   "cell_type": "code",
   "execution_count": 18,
   "id": "b275e4c2",
   "metadata": {
    "execution": {
     "iopub.execute_input": "2022-08-26T00:43:50.231599Z",
     "iopub.status.busy": "2022-08-26T00:43:50.231125Z",
     "iopub.status.idle": "2022-08-26T00:43:50.241056Z",
     "shell.execute_reply": "2022-08-26T00:43:50.240670Z"
    },
    "papermill": {
     "duration": 0.038666,
     "end_time": "2022-08-26T00:43:50.241137",
     "exception": false,
     "start_time": "2022-08-26T00:43:50.202471",
     "status": "completed"
    },
    "tags": []
   },
   "outputs": [],
   "source": [
    "training_data_x = X_train\n",
    "testing_data_x = X_test\n",
    "training_data_y = y_train.reshape(-1,1)\n",
    "testing_data_y = y_test.reshape(-1,1)"
   ]
  },
  {
   "cell_type": "code",
   "execution_count": 19,
   "id": "76951160",
   "metadata": {
    "execution": {
     "iopub.execute_input": "2022-08-26T00:43:50.294126Z",
     "iopub.status.busy": "2022-08-26T00:43:50.293465Z",
     "iopub.status.idle": "2022-08-26T00:43:50.311391Z",
     "shell.execute_reply": "2022-08-26T00:43:50.311783Z"
    },
    "papermill": {
     "duration": 0.04765,
     "end_time": "2022-08-26T00:43:50.311877",
     "exception": false,
     "start_time": "2022-08-26T00:43:50.264227",
     "status": "completed"
    },
    "tags": []
   },
   "outputs": [
    {
     "name": "stdout",
     "output_type": "stream",
     "text": [
      "xavier\n",
      "xavier\n",
      "xavier\n",
      "xavier\n",
      "xavier\n"
     ]
    }
   ],
   "source": [
    "layers = [Affine(\"first\", 784, 100), Relu(\"first\"), Affine(\"second\", 100, 100), Relu(\"second\"), Affine(\"third\", 100, 2), Affine(\"last\", 2, 1), Sigmoid(\"last\")]\n",
    "model_nn = Model(layers)\n",
    "model_lr = Model([Affine(\"logits\", 784, 1), Sigmoid(\"sigmoid\")])"
   ]
  },
  {
   "cell_type": "code",
   "execution_count": 20,
   "id": "6eede77a",
   "metadata": {
    "execution": {
     "iopub.execute_input": "2022-08-26T00:43:50.364817Z",
     "iopub.status.busy": "2022-08-26T00:43:50.364293Z",
     "iopub.status.idle": "2022-08-26T00:43:50.378582Z",
     "shell.execute_reply": "2022-08-26T00:43:50.379036Z"
    },
    "papermill": {
     "duration": 0.042804,
     "end_time": "2022-08-26T00:43:50.379140",
     "exception": false,
     "start_time": "2022-08-26T00:43:50.336336",
     "status": "completed"
    },
    "tags": []
   },
   "outputs": [],
   "source": [
    "nn_learner = Learner(loss, model_nn, opt, config.num_epochs)\n",
    "acc_nn = ClfCallback(nn_learner, config.bs, training_data_x , testing_data_x, training_data_y, testing_data_y)\n",
    "nn_learner.set_callbacks([acc_nn])"
   ]
  },
  {
   "cell_type": "code",
   "execution_count": 21,
   "id": "877b6cc7",
   "metadata": {
    "execution": {
     "iopub.execute_input": "2022-08-26T00:43:50.431166Z",
     "iopub.status.busy": "2022-08-26T00:43:50.430693Z",
     "iopub.status.idle": "2022-08-26T00:43:50.441845Z",
     "shell.execute_reply": "2022-08-26T00:43:50.441404Z"
    },
    "papermill": {
     "duration": 0.038908,
     "end_time": "2022-08-26T00:43:50.441926",
     "exception": false,
     "start_time": "2022-08-26T00:43:50.403018",
     "status": "completed"
    },
    "tags": []
   },
   "outputs": [],
   "source": [
    "lr_learner = Learner(loss, model_lr, opt, config.num_epochs)\n",
    "acc_lr = ClfCallback(lr_learner, config.bs, training_data_x , testing_data_x, training_data_y, testing_data_y)\n",
    "lr_learner.set_callbacks([acc_lr])"
   ]
  },
  {
   "cell_type": "code",
   "execution_count": 22,
   "id": "d9b133c3",
   "metadata": {
    "execution": {
     "iopub.execute_input": "2022-08-26T00:43:50.498398Z",
     "iopub.status.busy": "2022-08-26T00:43:50.497862Z",
     "iopub.status.idle": "2022-08-26T00:45:05.770867Z",
     "shell.execute_reply": "2022-08-26T00:45:05.771578Z"
    },
    "papermill": {
     "duration": 75.304726,
     "end_time": "2022-08-26T00:45:05.771706",
     "exception": false,
     "start_time": "2022-08-26T00:43:50.466980",
     "status": "completed"
    },
    "tags": []
   },
   "outputs": [
    {
     "name": "stdout",
     "output_type": "stream",
     "text": [
      "Epoch 0, Loss 0.2369\n",
      "Training Accuracy: 0.6593, Testing Accuracy: 0.6946\n",
      "\n"
     ]
    },
    {
     "name": "stdout",
     "output_type": "stream",
     "text": [
      "Epoch 10, Loss 0.1073\n",
      "Training Accuracy: 0.9060, Testing Accuracy: 0.9138\n",
      "\n"
     ]
    },
    {
     "name": "stdout",
     "output_type": "stream",
     "text": [
      "Epoch 20, Loss 0.0609\n",
      "Training Accuracy: 0.9384, Testing Accuracy: 0.9481\n",
      "\n"
     ]
    },
    {
     "name": "stdout",
     "output_type": "stream",
     "text": [
      "Epoch 30, Loss 0.0457\n",
      "Training Accuracy: 0.9503, Testing Accuracy: 0.9582\n",
      "\n"
     ]
    },
    {
     "name": "stdout",
     "output_type": "stream",
     "text": [
      "Epoch 40, Loss 0.0388\n",
      "Training Accuracy: 0.9567, Testing Accuracy: 0.9627\n",
      "\n"
     ]
    },
    {
     "name": "stdout",
     "output_type": "stream",
     "text": [
      "Epoch 50, Loss 0.0349\n",
      "Training Accuracy: 0.9594, Testing Accuracy: 0.9652\n",
      "\n"
     ]
    },
    {
     "name": "stdout",
     "output_type": "stream",
     "text": [
      "Epoch 60, Loss 0.0323\n",
      "Training Accuracy: 0.9624, Testing Accuracy: 0.9672\n",
      "\n"
     ]
    },
    {
     "name": "stdout",
     "output_type": "stream",
     "text": [
      "Epoch 70, Loss 0.0305\n",
      "Training Accuracy: 0.9649, Testing Accuracy: 0.9667\n",
      "\n"
     ]
    },
    {
     "name": "stdout",
     "output_type": "stream",
     "text": [
      "Epoch 80, Loss 0.029\n",
      "Training Accuracy: 0.9666, Testing Accuracy: 0.9672\n",
      "\n"
     ]
    },
    {
     "name": "stdout",
     "output_type": "stream",
     "text": [
      "Epoch 90, Loss 0.0279\n",
      "Training Accuracy: 0.9675, Testing Accuracy: 0.9682\n",
      "\n"
     ]
    },
    {
     "name": "stdout",
     "output_type": "stream",
     "text": [
      "Epoch 100, Loss 0.0269\n",
      "Training Accuracy: 0.9681, Testing Accuracy: 0.9682\n",
      "\n"
     ]
    },
    {
     "name": "stdout",
     "output_type": "stream",
     "text": [
      "Epoch 110, Loss 0.0261\n",
      "Training Accuracy: 0.9693, Testing Accuracy: 0.9682\n",
      "\n"
     ]
    },
    {
     "name": "stdout",
     "output_type": "stream",
     "text": [
      "Epoch 120, Loss 0.0253\n",
      "Training Accuracy: 0.9701, Testing Accuracy: 0.9688\n",
      "\n"
     ]
    },
    {
     "name": "stdout",
     "output_type": "stream",
     "text": [
      "Epoch 130, Loss 0.0247\n",
      "Training Accuracy: 0.9707, Testing Accuracy: 0.9688\n",
      "\n"
     ]
    },
    {
     "name": "stdout",
     "output_type": "stream",
     "text": [
      "Epoch 140, Loss 0.0241\n",
      "Training Accuracy: 0.9716, Testing Accuracy: 0.9693\n",
      "\n"
     ]
    },
    {
     "name": "stdout",
     "output_type": "stream",
     "text": [
      "Epoch 150, Loss 0.0235\n",
      "Training Accuracy: 0.9718, Testing Accuracy: 0.9693\n",
      "\n"
     ]
    },
    {
     "name": "stdout",
     "output_type": "stream",
     "text": [
      "Epoch 160, Loss 0.023\n",
      "Training Accuracy: 0.9723, Testing Accuracy: 0.9703\n",
      "\n"
     ]
    },
    {
     "name": "stdout",
     "output_type": "stream",
     "text": [
      "Epoch 170, Loss 0.0226\n",
      "Training Accuracy: 0.9730, Testing Accuracy: 0.9703\n",
      "\n"
     ]
    },
    {
     "name": "stdout",
     "output_type": "stream",
     "text": [
      "Epoch 180, Loss 0.0221\n",
      "Training Accuracy: 0.9739, Testing Accuracy: 0.9703\n",
      "\n"
     ]
    },
    {
     "name": "stdout",
     "output_type": "stream",
     "text": [
      "Epoch 190, Loss 0.0217\n",
      "Training Accuracy: 0.9742, Testing Accuracy: 0.9703\n",
      "\n"
     ]
    },
    {
     "name": "stdout",
     "output_type": "stream",
     "text": [
      "Epoch 200, Loss 0.0213\n",
      "Training Accuracy: 0.9750, Testing Accuracy: 0.9703\n",
      "\n"
     ]
    },
    {
     "name": "stdout",
     "output_type": "stream",
     "text": [
      "Epoch 210, Loss 0.0209\n",
      "Training Accuracy: 0.9751, Testing Accuracy: 0.9703\n",
      "\n"
     ]
    },
    {
     "name": "stdout",
     "output_type": "stream",
     "text": [
      "Epoch 220, Loss 0.0206\n",
      "Training Accuracy: 0.9760, Testing Accuracy: 0.9708\n",
      "\n"
     ]
    },
    {
     "name": "stdout",
     "output_type": "stream",
     "text": [
      "Epoch 230, Loss 0.0202\n",
      "Training Accuracy: 0.9767, Testing Accuracy: 0.9713\n",
      "\n"
     ]
    },
    {
     "name": "stdout",
     "output_type": "stream",
     "text": [
      "Epoch 240, Loss 0.0199\n",
      "Training Accuracy: 0.9769, Testing Accuracy: 0.9718\n",
      "\n"
     ]
    },
    {
     "data": {
      "text/plain": [
       "0.004486556124219744"
      ]
     },
     "execution_count": 22,
     "metadata": {},
     "output_type": "execute_result"
    }
   ],
   "source": [
    "nn_learner.train_loop(dl)"
   ]
  },
  {
   "cell_type": "code",
   "execution_count": 23,
   "id": "e0163366",
   "metadata": {
    "execution": {
     "iopub.execute_input": "2022-08-26T00:45:05.844643Z",
     "iopub.status.busy": "2022-08-26T00:45:05.843962Z",
     "iopub.status.idle": "2022-08-26T00:45:18.763680Z",
     "shell.execute_reply": "2022-08-26T00:45:18.764474Z"
    },
    "papermill": {
     "duration": 12.960646,
     "end_time": "2022-08-26T00:45:18.764618",
     "exception": false,
     "start_time": "2022-08-26T00:45:05.803972",
     "status": "completed"
    },
    "tags": []
   },
   "outputs": [
    {
     "name": "stdout",
     "output_type": "stream",
     "text": [
      "Epoch 0, Loss 0.2595\n",
      "Training Accuracy: 0.6337, Testing Accuracy: 0.6527\n",
      "\n"
     ]
    },
    {
     "name": "stdout",
     "output_type": "stream",
     "text": [
      "Epoch 10, Loss 0.1034\n",
      "Training Accuracy: 0.9054, Testing Accuracy: 0.9163\n",
      "\n"
     ]
    },
    {
     "name": "stdout",
     "output_type": "stream",
     "text": [
      "Epoch 20, Loss 0.0796\n",
      "Training Accuracy: 0.9252, Testing Accuracy: 0.9380\n",
      "\n"
     ]
    },
    {
     "name": "stdout",
     "output_type": "stream",
     "text": [
      "Epoch 30, Loss 0.0686\n",
      "Training Accuracy: 0.9350, Testing Accuracy: 0.9476\n",
      "\n"
     ]
    },
    {
     "name": "stdout",
     "output_type": "stream",
     "text": [
      "Epoch 40, Loss 0.0619\n",
      "Training Accuracy: 0.9407, Testing Accuracy: 0.9526\n",
      "\n"
     ]
    },
    {
     "name": "stdout",
     "output_type": "stream",
     "text": [
      "Epoch 50, Loss 0.0573\n",
      "Training Accuracy: 0.9449, Testing Accuracy: 0.9556\n",
      "\n"
     ]
    },
    {
     "name": "stdout",
     "output_type": "stream",
     "text": [
      "Epoch 60, Loss 0.0539\n",
      "Training Accuracy: 0.9474, Testing Accuracy: 0.9582\n",
      "\n"
     ]
    },
    {
     "name": "stdout",
     "output_type": "stream",
     "text": [
      "Epoch 70, Loss 0.0513\n",
      "Training Accuracy: 0.9492, Testing Accuracy: 0.9592\n",
      "\n"
     ]
    },
    {
     "name": "stdout",
     "output_type": "stream",
     "text": [
      "Epoch 80, Loss 0.0493\n",
      "Training Accuracy: 0.9511, Testing Accuracy: 0.9612\n",
      "\n"
     ]
    },
    {
     "name": "stdout",
     "output_type": "stream",
     "text": [
      "Epoch 90, Loss 0.0475\n",
      "Training Accuracy: 0.9520, Testing Accuracy: 0.9617\n",
      "\n"
     ]
    },
    {
     "name": "stdout",
     "output_type": "stream",
     "text": [
      "Epoch 100, Loss 0.0461\n",
      "Training Accuracy: 0.9531, Testing Accuracy: 0.9627\n",
      "\n"
     ]
    },
    {
     "name": "stdout",
     "output_type": "stream",
     "text": [
      "Epoch 110, Loss 0.0449\n",
      "Training Accuracy: 0.9547, Testing Accuracy: 0.9617\n",
      "\n"
     ]
    },
    {
     "name": "stdout",
     "output_type": "stream",
     "text": [
      "Epoch 120, Loss 0.0438\n",
      "Training Accuracy: 0.9559, Testing Accuracy: 0.9617\n",
      "\n"
     ]
    },
    {
     "name": "stdout",
     "output_type": "stream",
     "text": [
      "Epoch 130, Loss 0.0428\n",
      "Training Accuracy: 0.9562, Testing Accuracy: 0.9622\n",
      "\n"
     ]
    },
    {
     "name": "stdout",
     "output_type": "stream",
     "text": [
      "Epoch 140, Loss 0.042\n",
      "Training Accuracy: 0.9566, Testing Accuracy: 0.9632\n",
      "\n"
     ]
    },
    {
     "name": "stdout",
     "output_type": "stream",
     "text": [
      "Epoch 150, Loss 0.0412\n",
      "Training Accuracy: 0.9578, Testing Accuracy: 0.9642\n",
      "\n"
     ]
    },
    {
     "name": "stdout",
     "output_type": "stream",
     "text": [
      "Epoch 160, Loss 0.0406\n",
      "Training Accuracy: 0.9582, Testing Accuracy: 0.9642\n",
      "\n"
     ]
    },
    {
     "name": "stdout",
     "output_type": "stream",
     "text": [
      "Epoch 170, Loss 0.0399\n",
      "Training Accuracy: 0.9584, Testing Accuracy: 0.9652\n",
      "\n"
     ]
    },
    {
     "name": "stdout",
     "output_type": "stream",
     "text": [
      "Epoch 180, Loss 0.0394\n",
      "Training Accuracy: 0.9587, Testing Accuracy: 0.9657\n",
      "\n"
     ]
    },
    {
     "name": "stdout",
     "output_type": "stream",
     "text": [
      "Epoch 190, Loss 0.0389\n",
      "Training Accuracy: 0.9591, Testing Accuracy: 0.9657\n",
      "\n"
     ]
    },
    {
     "name": "stdout",
     "output_type": "stream",
     "text": [
      "Epoch 200, Loss 0.0384\n",
      "Training Accuracy: 0.9596, Testing Accuracy: 0.9657\n",
      "\n"
     ]
    },
    {
     "name": "stdout",
     "output_type": "stream",
     "text": [
      "Epoch 210, Loss 0.0379\n",
      "Training Accuracy: 0.9603, Testing Accuracy: 0.9667\n",
      "\n"
     ]
    },
    {
     "name": "stdout",
     "output_type": "stream",
     "text": [
      "Epoch 220, Loss 0.0375\n",
      "Training Accuracy: 0.9605, Testing Accuracy: 0.9672\n",
      "\n"
     ]
    },
    {
     "name": "stdout",
     "output_type": "stream",
     "text": [
      "Epoch 230, Loss 0.0371\n",
      "Training Accuracy: 0.9611, Testing Accuracy: 0.9672\n",
      "\n"
     ]
    },
    {
     "name": "stdout",
     "output_type": "stream",
     "text": [
      "Epoch 240, Loss 0.0368\n",
      "Training Accuracy: 0.9616, Testing Accuracy: 0.9677\n",
      "\n"
     ]
    },
    {
     "data": {
      "text/plain": [
       "0.01704822486068873"
      ]
     },
     "execution_count": 23,
     "metadata": {},
     "output_type": "execute_result"
    }
   ],
   "source": [
    "lr_learner.train_loop(dl)"
   ]
  },
  {
   "cell_type": "code",
   "execution_count": 24,
   "id": "ca410940",
   "metadata": {
    "execution": {
     "iopub.execute_input": "2022-08-26T00:45:18.855541Z",
     "iopub.status.busy": "2022-08-26T00:45:18.854966Z",
     "iopub.status.idle": "2022-08-26T00:45:19.064398Z",
     "shell.execute_reply": "2022-08-26T00:45:19.064775Z"
    },
    "papermill": {
     "duration": 0.262024,
     "end_time": "2022-08-26T00:45:19.064894",
     "exception": false,
     "start_time": "2022-08-26T00:45:18.802870",
     "status": "completed"
    },
    "tags": []
   },
   "outputs": [
    {
     "data": {
      "text/plain": [
       "<matplotlib.legend.Legend at 0x7f3c5bd03f98>"
      ]
     },
     "execution_count": 24,
     "metadata": {},
     "output_type": "execute_result"
    },
    {
     "data": {
      "image/png": "[encoded data removed]",
      "text/plain": [
       "<Figure size 1080x720 with 1 Axes>"
      ]
     },
     "metadata": {
      "needs_background": "light"
     },
     "output_type": "display_data"
    }
   ],
   "source": [
    "#comparing the results of NN and LR\n",
    "plt.figure(figsize=(15,10))\n",
    "\n",
    "# Neural Network plots\n",
    "plt.plot(acc_nn.accuracies, 'r-', label = \"Training Accuracies - NN\")\n",
    "plt.plot(acc_nn.test_accuracies, 'g-', label = \"Testing Accuracies - NN\")\n",
    "\n",
    "# Logistic Regression plots\n",
    "plt.plot(acc_lr.accuracies, 'k-', label = \"Training Accuracies - LR\")\n",
    "plt.plot(acc_lr.test_accuracies, 'b-', label = \"Testing Accuracies - LR\")\n",
    "plt.legend()"
   ]
  },
  {
   "cell_type": "markdown",
   "id": "80dfb35c",
   "metadata": {
    "papermill": {
     "duration": 0.037841,
     "end_time": "2022-08-26T00:45:19.139654",
     "exception": false,
     "start_time": "2022-08-26T00:45:19.101813",
     "status": "completed"
    },
    "tags": []
   },
   "source": [
    "#### Plotting the outputs of this layer of the NN.\n"
   ]
  },
  {
   "cell_type": "code",
   "execution_count": 25,
   "id": "45eb2ff5",
   "metadata": {
    "execution": {
     "iopub.execute_input": "2022-08-26T00:45:19.226611Z",
     "iopub.status.busy": "2022-08-26T00:45:19.225903Z",
     "iopub.status.idle": "2022-08-26T00:45:19.250172Z",
     "shell.execute_reply": "2022-08-26T00:45:19.249618Z"
    },
    "papermill": {
     "duration": 0.068785,
     "end_time": "2022-08-26T00:45:19.250296",
     "exception": false,
     "start_time": "2022-08-26T00:45:19.181511",
     "status": "completed"
    },
    "tags": []
   },
   "outputs": [],
   "source": [
    "new_model = Model(layers[:-2])\n",
    "testing_plot = new_model(testing_data_x)"
   ]
  },
  {
   "cell_type": "code",
   "execution_count": 26,
   "id": "4c0a5485",
   "metadata": {
    "execution": {
     "iopub.execute_input": "2022-08-26T00:45:19.339547Z",
     "iopub.status.busy": "2022-08-26T00:45:19.339056Z",
     "iopub.status.idle": "2022-08-26T00:45:19.546715Z",
     "shell.execute_reply": "2022-08-26T00:45:19.546309Z"
    },
    "papermill": {
     "duration": 0.257378,
     "end_time": "2022-08-26T00:45:19.546822",
     "exception": false,
     "start_time": "2022-08-26T00:45:19.289444",
     "status": "completed"
    },
    "tags": []
   },
   "outputs": [
    {
     "data": {
      "text/plain": [
       "Text(0.5, 1.0, 'Outputs')"
      ]
     },
     "execution_count": 26,
     "metadata": {},
     "output_type": "execute_result"
    },
    {
     "data": {
      "image/png": "[encoded data removed]",
      "text/plain": [
       "<Figure size 576x504 with 1 Axes>"
      ]
     },
     "metadata": {
      "needs_background": "light"
     },
     "output_type": "display_data"
    }
   ],
   "source": [
    "# Plotting the scatter plot of points and color coding by class\n",
    "plt.figure(figsize=(8,7))\n",
    "plt.scatter(testing_plot[:,0], testing_plot[:,1], alpha = 0.1, c = y_test.ravel());\n",
    "plt.title('Outputs')"
   ]
  },
  {
   "cell_type": "markdown",
   "id": "a74fcf8f",
   "metadata": {
    "papermill": {
     "duration": 0.039387,
     "end_time": "2022-08-26T00:45:19.625827",
     "exception": false,
     "start_time": "2022-08-26T00:45:19.586440",
     "status": "completed"
    },
    "tags": []
   },
   "source": [
    "Probability contours"
   ]
  },
  {
   "cell_type": "code",
   "execution_count": 27,
   "id": "d0afc8e3",
   "metadata": {
    "execution": {
     "iopub.execute_input": "2022-08-26T00:45:19.745036Z",
     "iopub.status.busy": "2022-08-26T00:45:19.743883Z",
     "iopub.status.idle": "2022-08-26T00:45:19.751495Z",
     "shell.execute_reply": "2022-08-26T00:45:19.751842Z"
    },
    "papermill": {
     "duration": 0.081041,
     "end_time": "2022-08-26T00:45:19.751946",
     "exception": false,
     "start_time": "2022-08-26T00:45:19.670905",
     "status": "completed"
    },
    "tags": []
   },
   "outputs": [],
   "source": [
    "model_prob = Model(layers[-2:]) "
   ]
  },
  {
   "cell_type": "code",
   "execution_count": 28,
   "id": "9b96e238",
   "metadata": {
    "execution": {
     "iopub.execute_input": "2022-08-26T00:45:19.840602Z",
     "iopub.status.busy": "2022-08-26T00:45:19.839990Z",
     "iopub.status.idle": "2022-08-26T00:45:19.859310Z",
     "shell.execute_reply": "2022-08-26T00:45:19.860058Z"
    },
    "papermill": {
     "duration": 0.068364,
     "end_time": "2022-08-26T00:45:19.860165",
     "exception": false,
     "start_time": "2022-08-26T00:45:19.791801",
     "status": "completed"
    },
    "tags": []
   },
   "outputs": [],
   "source": [
    "#creating the x and y ranges according to the above generated plot.\n",
    "x_range = np.linspace(-4, 1, 100) \n",
    "y_range = np.linspace(-6, 6, 100) \n",
    "x_grid, y_grid = np.meshgrid(x_range, y_range) # x_grid and y_grig are of size 100 X 100\n",
    "\n",
    "# converting x_grid and y_grid to continuous arrays\n",
    "x_gridflat = np.ravel(x_grid)\n",
    "y_gridflat = np.ravel(y_grid)\n",
    "\n",
    "# The last layer of the current model takes two columns as input. Hence transpose of np.vstack() is required.\n",
    "X = np.vstack((x_gridflat, y_gridflat)).T\n",
    "\n",
    "prob_contour = model_prob(X).reshape(100,100) "
   ]
  },
  {
   "cell_type": "code",
   "execution_count": 29,
   "id": "da72499a",
   "metadata": {
    "execution": {
     "iopub.execute_input": "2022-08-26T00:45:19.952755Z",
     "iopub.status.busy": "2022-08-26T00:45:19.952256Z",
     "iopub.status.idle": "2022-08-26T00:45:20.196568Z",
     "shell.execute_reply": "2022-08-26T00:45:20.196038Z"
    },
    "papermill": {
     "duration": 0.292984,
     "end_time": "2022-08-26T00:45:20.196704",
     "exception": false,
     "start_time": "2022-08-26T00:45:19.903720",
     "status": "completed"
    },
    "tags": []
   },
   "outputs": [
    {
     "data": {
      "image/png": "[encoded data removed]",
      "text/plain": [
       "<Figure size 720x648 with 1 Axes>"
      ]
     },
     "metadata": {
      "needs_background": "light"
     },
     "output_type": "display_data"
    }
   ],
   "source": [
    "plt.figure(figsize=(10,9))\n",
    "plt.scatter(testing_plot[:,0], testing_plot[:,1], alpha = 0.1, c = y_test.ravel())\n",
    "contours = plt.contour(x_grid,y_grid,prob_contour)\n",
    "plt.title('Probability Contours')\n",
    "plt.clabel(contours, inline = True );"
   ]
  },
  {
   "cell_type": "code",
   "execution_count": null,
   "id": "e81b4ac7",
   "metadata": {
    "papermill": {
     "duration": 0.043142,
     "end_time": "2022-08-26T00:45:20.285309",
     "exception": false,
     "start_time": "2022-08-26T00:45:20.242167",
     "status": "completed"
    },
    "tags": []
   },
   "outputs": [],
   "source": []
  }
 ],
 "metadata": {
  "kernelspec": {
   "display_name": "Python 3",
   "language": "python",
   "name": "python3"
  },
  "language_info": {
   "codemirror_mode": {
    "name": "ipython",
    "version": 3
   },
   "file_extension": ".py",
   "mimetype": "text/x-python",
   "name": "python",
   "nbconvert_exporter": "python",
   "pygments_lexer": "ipython3",
   "version": "3.6.15"
  },
  "papermill": {
   "default_parameters": {},
   "duration": 96.153498,
   "end_time": "2022-08-26T00:45:20.748518",
   "environment_variables": {},
   "exception": null,
   "input_path": "2020-08-11-part2.ipynb",
   "output_path": "2020-08-11-part2.ipynb",
   "parameters": {},
   "start_time": "2022-08-26T00:43:44.595020",
   "version": "2.3.3"
  }
 },
 "nbformat": 4,
 "nbformat_minor": 5
}