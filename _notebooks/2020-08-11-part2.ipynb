{
 "cells": [
  {
   "cell_type": "markdown",
   "id": "98380cd3",
   "metadata": {
    "papermill": {
     "duration": 0.031719,
     "end_time": "2022-02-14T10:07:38.330171",
     "exception": false,
     "start_time": "2022-02-14T10:07:38.298452",
     "status": "completed"
    },
    "tags": []
   },
   "source": [
    "# Distinguish Your Own Digits (DYOD)"
   ]
  },
  {
   "cell_type": "markdown",
   "id": "ef31240d",
   "metadata": {
    "papermill": {
     "duration": 0.022349,
     "end_time": "2022-02-14T10:07:38.373854",
     "exception": false,
     "start_time": "2022-02-14T10:07:38.351505",
     "status": "completed"
    },
    "tags": []
   },
   "source": [
    "You are going to write a classifier that distinguishes between the number 3 and number 8."
   ]
  },
  {
   "cell_type": "code",
   "execution_count": 1,
   "id": "b15c8646",
   "metadata": {
    "execution": {
     "iopub.execute_input": "2022-02-14T10:07:38.426900Z",
     "iopub.status.busy": "2022-02-14T10:07:38.426428Z",
     "iopub.status.idle": "2022-02-14T10:07:38.437053Z",
     "shell.execute_reply": "2022-02-14T10:07:38.436649Z"
    },
    "papermill": {
     "duration": 0.041989,
     "end_time": "2022-02-14T10:07:38.437167",
     "exception": false,
     "start_time": "2022-02-14T10:07:38.395178",
     "status": "completed"
    },
    "tags": []
   },
   "outputs": [],
   "source": [
    "%load_ext autoreload\n",
    "%autoreload 2"
   ]
  },
  {
   "cell_type": "code",
   "execution_count": 2,
   "id": "22ef38dc",
   "metadata": {
    "execution": {
     "iopub.execute_input": "2022-02-14T10:07:38.484838Z",
     "iopub.status.busy": "2022-02-14T10:07:38.484348Z",
     "iopub.status.idle": "2022-02-14T10:07:39.026119Z",
     "shell.execute_reply": "2022-02-14T10:07:39.025415Z"
    },
    "papermill": {
     "duration": 0.568689,
     "end_time": "2022-02-14T10:07:39.026249",
     "exception": false,
     "start_time": "2022-02-14T10:07:38.457560",
     "status": "completed"
    },
    "tags": []
   },
   "outputs": [],
   "source": [
    "%matplotlib inline\n",
    "import numpy as np\n",
    "import matplotlib.pyplot as plt\n",
    "import pandas as pd"
   ]
  },
  {
   "cell_type": "markdown",
   "id": "ba036198",
   "metadata": {
    "papermill": {
     "duration": 0.025063,
     "end_time": "2022-02-14T10:07:39.074767",
     "exception": false,
     "start_time": "2022-02-14T10:07:39.049704",
     "status": "completed"
    },
    "tags": []
   },
   "source": [
    "From the command line run `pip install mnist`. This is a library that will help you bring down the mnist dataset. If you run this from a notebook, you need to put  `!pip install mnist` in a cell by itself."
   ]
  },
  {
   "cell_type": "code",
   "execution_count": 3,
   "id": "bb6ad8a1",
   "metadata": {
    "execution": {
     "iopub.execute_input": "2022-02-14T10:07:39.125090Z",
     "iopub.status.busy": "2022-02-14T10:07:39.124655Z",
     "iopub.status.idle": "2022-02-14T10:07:40.713154Z",
     "shell.execute_reply": "2022-02-14T10:07:40.713855Z"
    },
    "papermill": {
     "duration": 1.617145,
     "end_time": "2022-02-14T10:07:40.714056",
     "exception": false,
     "start_time": "2022-02-14T10:07:39.096911",
     "status": "completed"
    },
    "tags": []
   },
   "outputs": [
    {
     "name": "stdout",
     "output_type": "stream",
     "text": [
      "Collecting mnist\r\n"
     ]
    },
    {
     "name": "stdout",
     "output_type": "stream",
     "text": [
      "  Downloading mnist-0.2.2-py2.py3-none-any.whl (3.5 kB)\r\n",
      "Requirement already satisfied: numpy in /opt/hostedtoolcache/Python/3.6.15/x64/lib/python3.6/site-packages (from mnist) (1.19.5)\r\n"
     ]
    },
    {
     "name": "stdout",
     "output_type": "stream",
     "text": [
      "Installing collected packages: mnist\r\n",
      "Successfully installed mnist-0.2.2\r\n"
     ]
    }
   ],
   "source": [
    "!pip install mnist"
   ]
  },
  {
   "cell_type": "markdown",
   "id": "69df9c9a",
   "metadata": {
    "papermill": {
     "duration": 0.022769,
     "end_time": "2022-02-14T10:07:40.759338",
     "exception": false,
     "start_time": "2022-02-14T10:07:40.736569",
     "status": "completed"
    },
    "tags": []
   },
   "source": [
    "## Preparing the Data"
   ]
  },
  {
   "cell_type": "code",
   "execution_count": 4,
   "id": "7f69d806",
   "metadata": {
    "execution": {
     "iopub.execute_input": "2022-02-14T10:07:40.810433Z",
     "iopub.status.busy": "2022-02-14T10:07:40.809947Z",
     "iopub.status.idle": "2022-02-14T10:07:40.824072Z",
     "shell.execute_reply": "2022-02-14T10:07:40.824559Z"
    },
    "papermill": {
     "duration": 0.042907,
     "end_time": "2022-02-14T10:07:40.824694",
     "exception": false,
     "start_time": "2022-02-14T10:07:40.781787",
     "status": "completed"
    },
    "tags": []
   },
   "outputs": [],
   "source": [
    "import mnist"
   ]
  },
  {
   "cell_type": "code",
   "execution_count": 5,
   "id": "a411e44f",
   "metadata": {
    "execution": {
     "iopub.execute_input": "2022-02-14T10:07:40.875550Z",
     "iopub.status.busy": "2022-02-14T10:07:40.875127Z",
     "iopub.status.idle": "2022-02-14T10:07:41.387464Z",
     "shell.execute_reply": "2022-02-14T10:07:41.386878Z"
    },
    "papermill": {
     "duration": 0.539806,
     "end_time": "2022-02-14T10:07:41.387579",
     "exception": false,
     "start_time": "2022-02-14T10:07:40.847773",
     "status": "completed"
    },
    "tags": []
   },
   "outputs": [],
   "source": [
    "train_images = mnist.train_images()\n",
    "train_labels = mnist.train_labels()"
   ]
  },
  {
   "cell_type": "code",
   "execution_count": 6,
   "id": "dceab3a5",
   "metadata": {
    "execution": {
     "iopub.execute_input": "2022-02-14T10:07:41.434283Z",
     "iopub.status.busy": "2022-02-14T10:07:41.433783Z",
     "iopub.status.idle": "2022-02-14T10:07:41.449543Z",
     "shell.execute_reply": "2022-02-14T10:07:41.449125Z"
    },
    "papermill": {
     "duration": 0.04068,
     "end_time": "2022-02-14T10:07:41.449638",
     "exception": false,
     "start_time": "2022-02-14T10:07:41.408958",
     "status": "completed"
    },
    "tags": []
   },
   "outputs": [
    {
     "data": {
      "text/plain": [
       "((60000, 28, 28), (60000,))"
      ]
     },
     "execution_count": 6,
     "metadata": {},
     "output_type": "execute_result"
    }
   ],
   "source": [
    "train_images.shape, train_labels.shape"
   ]
  },
  {
   "cell_type": "code",
   "execution_count": 7,
   "id": "f50dc2bb",
   "metadata": {
    "execution": {
     "iopub.execute_input": "2022-02-14T10:07:41.509515Z",
     "iopub.status.busy": "2022-02-14T10:07:41.503626Z",
     "iopub.status.idle": "2022-02-14T10:07:41.642346Z",
     "shell.execute_reply": "2022-02-14T10:07:41.641481Z"
    },
    "papermill": {
     "duration": 0.170986,
     "end_time": "2022-02-14T10:07:41.642555",
     "exception": false,
     "start_time": "2022-02-14T10:07:41.471569",
     "status": "completed"
    },
    "tags": []
   },
   "outputs": [],
   "source": [
    "test_images = mnist.test_images()\n",
    "test_labels = mnist.test_labels()"
   ]
  },
  {
   "cell_type": "code",
   "execution_count": 8,
   "id": "fc38cf1b",
   "metadata": {
    "execution": {
     "iopub.execute_input": "2022-02-14T10:07:41.691272Z",
     "iopub.status.busy": "2022-02-14T10:07:41.690829Z",
     "iopub.status.idle": "2022-02-14T10:07:41.704996Z",
     "shell.execute_reply": "2022-02-14T10:07:41.705524Z"
    },
    "papermill": {
     "duration": 0.039002,
     "end_time": "2022-02-14T10:07:41.705641",
     "exception": false,
     "start_time": "2022-02-14T10:07:41.666639",
     "status": "completed"
    },
    "tags": []
   },
   "outputs": [
    {
     "data": {
      "text/plain": [
       "((10000, 28, 28), (10000,))"
      ]
     },
     "execution_count": 8,
     "metadata": {},
     "output_type": "execute_result"
    }
   ],
   "source": [
    "test_images.shape, test_labels.shape"
   ]
  },
  {
   "cell_type": "code",
   "execution_count": 9,
   "id": "f9ed8fe0",
   "metadata": {
    "execution": {
     "iopub.execute_input": "2022-02-14T10:07:41.753424Z",
     "iopub.status.busy": "2022-02-14T10:07:41.753005Z",
     "iopub.status.idle": "2022-02-14T10:07:41.892392Z",
     "shell.execute_reply": "2022-02-14T10:07:41.891467Z"
    },
    "papermill": {
     "duration": 0.164291,
     "end_time": "2022-02-14T10:07:41.892526",
     "exception": false,
     "start_time": "2022-02-14T10:07:41.728235",
     "status": "completed"
    },
    "tags": []
   },
   "outputs": [
    {
     "name": "stdout",
     "output_type": "stream",
     "text": [
      "2\n"
     ]
    },
    {
     "data": {
      "text/plain": [
       "<matplotlib.image.AxesImage at 0x7fb2a4c2aa90>"
      ]
     },
     "execution_count": 9,
     "metadata": {},
     "output_type": "execute_result"
    },
    {
     "data": {
      "image/png": "[encoded data removed]",
      "text/plain": [
       "<Figure size 432x288 with 1 Axes>"
      ]
     },
     "metadata": {
      "needs_background": "light"
     },
     "output_type": "display_data"
    }
   ],
   "source": [
    "image_index = 7776 # You may select anything up to 60,000\n",
    "print(train_labels[image_index]) \n",
    "plt.imshow(train_images[image_index], cmap='Greys')"
   ]
  },
  {
   "cell_type": "markdown",
   "id": "a8d2388d",
   "metadata": {
    "papermill": {
     "duration": 0.023279,
     "end_time": "2022-02-14T10:07:41.940690",
     "exception": false,
     "start_time": "2022-02-14T10:07:41.917411",
     "status": "completed"
    },
    "tags": []
   },
   "source": [
    "## Filter data to get 3 and 8 out"
   ]
  },
  {
   "cell_type": "code",
   "execution_count": 10,
   "id": "776f7fc7",
   "metadata": {
    "execution": {
     "iopub.execute_input": "2022-02-14T10:07:41.990609Z",
     "iopub.status.busy": "2022-02-14T10:07:41.989484Z",
     "iopub.status.idle": "2022-02-14T10:07:42.006915Z",
     "shell.execute_reply": "2022-02-14T10:07:42.006437Z"
    },
    "papermill": {
     "duration": 0.043785,
     "end_time": "2022-02-14T10:07:42.007016",
     "exception": false,
     "start_time": "2022-02-14T10:07:41.963231",
     "status": "completed"
    },
    "tags": []
   },
   "outputs": [],
   "source": [
    "train_filter = np.where((train_labels == 3 ) | (train_labels == 8))\n",
    "test_filter = np.where((test_labels == 3) | (test_labels == 8))\n",
    "X_train, y_train = train_images[train_filter], train_labels[train_filter]\n",
    "X_test, y_test = test_images[test_filter], test_labels[test_filter]"
   ]
  },
  {
   "cell_type": "markdown",
   "id": "948f0b7e",
   "metadata": {
    "papermill": {
     "duration": 0.025224,
     "end_time": "2022-02-14T10:07:42.058285",
     "exception": false,
     "start_time": "2022-02-14T10:07:42.033061",
     "status": "completed"
    },
    "tags": []
   },
   "source": [
    "We normalize the pizel values in the 0 to 1 range"
   ]
  },
  {
   "cell_type": "code",
   "execution_count": 11,
   "id": "ee4c2166",
   "metadata": {
    "execution": {
     "iopub.execute_input": "2022-02-14T10:07:42.114313Z",
     "iopub.status.busy": "2022-02-14T10:07:42.113708Z",
     "iopub.status.idle": "2022-02-14T10:07:42.163699Z",
     "shell.execute_reply": "2022-02-14T10:07:42.162802Z"
    },
    "papermill": {
     "duration": 0.079271,
     "end_time": "2022-02-14T10:07:42.163861",
     "exception": false,
     "start_time": "2022-02-14T10:07:42.084590",
     "status": "completed"
    },
    "tags": []
   },
   "outputs": [],
   "source": [
    "X_train = X_train/255.\n",
    "X_test = X_test/255."
   ]
  },
  {
   "cell_type": "markdown",
   "id": "ddcf4fab",
   "metadata": {
    "papermill": {
     "duration": 0.024914,
     "end_time": "2022-02-14T10:07:42.212839",
     "exception": false,
     "start_time": "2022-02-14T10:07:42.187925",
     "status": "completed"
    },
    "tags": []
   },
   "source": [
    "And setup the labels as 1 (when the digit is 3) and 0 (when the digit is 8)"
   ]
  },
  {
   "cell_type": "code",
   "execution_count": 12,
   "id": "7dc908f2",
   "metadata": {
    "execution": {
     "iopub.execute_input": "2022-02-14T10:07:42.266483Z",
     "iopub.status.busy": "2022-02-14T10:07:42.265433Z",
     "iopub.status.idle": "2022-02-14T10:07:42.281453Z",
     "shell.execute_reply": "2022-02-14T10:07:42.281061Z"
    },
    "papermill": {
     "duration": 0.043973,
     "end_time": "2022-02-14T10:07:42.281554",
     "exception": false,
     "start_time": "2022-02-14T10:07:42.237581",
     "status": "completed"
    },
    "tags": []
   },
   "outputs": [],
   "source": [
    "y_train = 1*(y_train==3)\n",
    "y_test = 1*(y_test==3)"
   ]
  },
  {
   "cell_type": "code",
   "execution_count": 13,
   "id": "01e4e969",
   "metadata": {
    "execution": {
     "iopub.execute_input": "2022-02-14T10:07:42.335072Z",
     "iopub.status.busy": "2022-02-14T10:07:42.334557Z",
     "iopub.status.idle": "2022-02-14T10:07:42.347084Z",
     "shell.execute_reply": "2022-02-14T10:07:42.346494Z"
    },
    "papermill": {
     "duration": 0.040671,
     "end_time": "2022-02-14T10:07:42.347205",
     "exception": false,
     "start_time": "2022-02-14T10:07:42.306534",
     "status": "completed"
    },
    "tags": []
   },
   "outputs": [
    {
     "data": {
      "text/plain": [
       "((11982, 28, 28), (1984, 28, 28))"
      ]
     },
     "execution_count": 13,
     "metadata": {},
     "output_type": "execute_result"
    }
   ],
   "source": [
    "X_train.shape, X_test.shape"
   ]
  },
  {
   "cell_type": "markdown",
   "id": "5ccf3f85",
   "metadata": {
    "papermill": {
     "duration": 0.022982,
     "end_time": "2022-02-14T10:07:42.393658",
     "exception": false,
     "start_time": "2022-02-14T10:07:42.370676",
     "status": "completed"
    },
    "tags": []
   },
   "source": [
    "We reshape the data to flatten the image pixels into a set of features or co-variates:"
   ]
  },
  {
   "cell_type": "code",
   "execution_count": 14,
   "id": "5286a4a3",
   "metadata": {
    "execution": {
     "iopub.execute_input": "2022-02-14T10:07:42.443860Z",
     "iopub.status.busy": "2022-02-14T10:07:42.443422Z",
     "iopub.status.idle": "2022-02-14T10:07:42.456366Z",
     "shell.execute_reply": "2022-02-14T10:07:42.456851Z"
    },
    "papermill": {
     "duration": 0.040031,
     "end_time": "2022-02-14T10:07:42.456970",
     "exception": false,
     "start_time": "2022-02-14T10:07:42.416939",
     "status": "completed"
    },
    "tags": []
   },
   "outputs": [
    {
     "data": {
      "text/plain": [
       "((11982, 784), (1984, 784))"
      ]
     },
     "execution_count": 14,
     "metadata": {},
     "output_type": "execute_result"
    }
   ],
   "source": [
    "X_train = X_train.reshape(X_train.shape[0], -1)\n",
    "X_test = X_test.reshape(X_test.shape[0], -1)\n",
    "X_train.shape, X_test.shape"
   ]
  },
  {
   "cell_type": "code",
   "execution_count": 15,
   "id": "73c5f88a",
   "metadata": {
    "execution": {
     "iopub.execute_input": "2022-02-14T10:07:42.510336Z",
     "iopub.status.busy": "2022-02-14T10:07:42.509740Z",
     "iopub.status.idle": "2022-02-14T10:07:42.530220Z",
     "shell.execute_reply": "2022-02-14T10:07:42.529608Z"
    },
    "papermill": {
     "duration": 0.049959,
     "end_time": "2022-02-14T10:07:42.530353",
     "exception": false,
     "start_time": "2022-02-14T10:07:42.480394",
     "status": "completed"
    },
    "tags": []
   },
   "outputs": [],
   "source": [
    "#Impoting functions from 'Kudzu'\n",
    "from kudzu.model import Model\n",
    "from kudzu.train import Learner\n",
    "from kudzu.optim import GD\n",
    "from kudzu.data import Data, Sampler,Dataloader\n",
    "\n",
    "from kudzu.callbacks import AccCallback\n",
    "from kudzu.callbacks import ClfCallback\n",
    "\n",
    "from kudzu.loss import MSE\n",
    "\n",
    "from kudzu.layer import Sigmoid,Relu\n",
    "from kudzu.layer import Affine"
   ]
  },
  {
   "cell_type": "markdown",
   "id": "bc01172a",
   "metadata": {
    "papermill": {
     "duration": 0.022344,
     "end_time": "2022-02-14T10:07:42.577266",
     "exception": false,
     "start_time": "2022-02-14T10:07:42.554922",
     "status": "completed"
    },
    "tags": []
   },
   "source": [
    "### Let us create a `Config` class, to store important parameters. \n",
    "This class essentially plays the role of a dictionary."
   ]
  },
  {
   "cell_type": "code",
   "execution_count": 16,
   "id": "978281aa",
   "metadata": {
    "execution": {
     "iopub.execute_input": "2022-02-14T10:07:42.629276Z",
     "iopub.status.busy": "2022-02-14T10:07:42.628234Z",
     "iopub.status.idle": "2022-02-14T10:07:42.639249Z",
     "shell.execute_reply": "2022-02-14T10:07:42.638807Z"
    },
    "papermill": {
     "duration": 0.038975,
     "end_time": "2022-02-14T10:07:42.639343",
     "exception": false,
     "start_time": "2022-02-14T10:07:42.600368",
     "status": "completed"
    },
    "tags": []
   },
   "outputs": [],
   "source": [
    "class Config:\n",
    "    pass\n",
    "config = Config()\n",
    "config.lr = 0.001\n",
    "config.num_epochs = 250\n",
    "config.bs = 50"
   ]
  },
  {
   "cell_type": "markdown",
   "id": "1385fa59",
   "metadata": {
    "papermill": {
     "duration": 0.023665,
     "end_time": "2022-02-14T10:07:42.687442",
     "exception": false,
     "start_time": "2022-02-14T10:07:42.663777",
     "status": "completed"
    },
    "tags": []
   },
   "source": [
    "### Running Models with the Training data\n",
    "Details about the network layers:\n",
    "- A first affine layer has 784 inputs and does 100 affine transforms. These are followed by a Relu\n",
    "- A second affine layer has 100 inputs from the 100 activations of the past layer, and does 100 affine transforms. These are followed by a Relu\n",
    "- A third affine layer has 100 activations and does 2 affine transformations to create an embedding for visualization. There is no non-linearity here.\n",
    "- A final \"logistic regression\" which has an affine transform from 2 inputs to 1 output, which is squeezed through a sigmoid.\n"
   ]
  },
  {
   "cell_type": "code",
   "execution_count": 17,
   "id": "2b9c66db",
   "metadata": {
    "execution": {
     "iopub.execute_input": "2022-02-14T10:07:42.736331Z",
     "iopub.status.busy": "2022-02-14T10:07:42.735839Z",
     "iopub.status.idle": "2022-02-14T10:07:42.747834Z",
     "shell.execute_reply": "2022-02-14T10:07:42.748173Z"
    },
    "papermill": {
     "duration": 0.03817,
     "end_time": "2022-02-14T10:07:42.748266",
     "exception": false,
     "start_time": "2022-02-14T10:07:42.710096",
     "status": "completed"
    },
    "tags": []
   },
   "outputs": [],
   "source": [
    "data = Data(X_train, y_train.reshape(-1,1))\n",
    "sampler = Sampler(data, config.bs, shuffle=True)\n",
    "\n",
    "dl = Dataloader(data, sampler)\n",
    "\n",
    "opt = GD(config.lr)\n",
    "loss = MSE()"
   ]
  },
  {
   "cell_type": "code",
   "execution_count": 18,
   "id": "b275e4c2",
   "metadata": {
    "execution": {
     "iopub.execute_input": "2022-02-14T10:07:42.799586Z",
     "iopub.status.busy": "2022-02-14T10:07:42.799099Z",
     "iopub.status.idle": "2022-02-14T10:07:42.809445Z",
     "shell.execute_reply": "2022-02-14T10:07:42.809056Z"
    },
    "papermill": {
     "duration": 0.037875,
     "end_time": "2022-02-14T10:07:42.809538",
     "exception": false,
     "start_time": "2022-02-14T10:07:42.771663",
     "status": "completed"
    },
    "tags": []
   },
   "outputs": [],
   "source": [
    "training_data_x = X_train\n",
    "testing_data_x = X_test\n",
    "training_data_y = y_train.reshape(-1,1)\n",
    "testing_data_y = y_test.reshape(-1,1)"
   ]
  },
  {
   "cell_type": "code",
   "execution_count": 19,
   "id": "76951160",
   "metadata": {
    "execution": {
     "iopub.execute_input": "2022-02-14T10:07:42.861181Z",
     "iopub.status.busy": "2022-02-14T10:07:42.860688Z",
     "iopub.status.idle": "2022-02-14T10:07:42.874974Z",
     "shell.execute_reply": "2022-02-14T10:07:42.875453Z"
    },
    "papermill": {
     "duration": 0.04356,
     "end_time": "2022-02-14T10:07:42.875581",
     "exception": false,
     "start_time": "2022-02-14T10:07:42.832021",
     "status": "completed"
    },
    "tags": []
   },
   "outputs": [
    {
     "name": "stdout",
     "output_type": "stream",
     "text": [
      "xavier\n",
      "xavier\n",
      "xavier\n",
      "xavier\n",
      "xavier\n"
     ]
    }
   ],
   "source": [
    "layers = [Affine(\"first\", 784, 100), Relu(\"first\"), Affine(\"second\", 100, 100), Relu(\"second\"), Affine(\"third\", 100, 2), Affine(\"last\", 2, 1), Sigmoid(\"last\")]\n",
    "model_nn = Model(layers)\n",
    "model_lr = Model([Affine(\"logits\", 784, 1), Sigmoid(\"sigmoid\")])"
   ]
  },
  {
   "cell_type": "code",
   "execution_count": 20,
   "id": "6eede77a",
   "metadata": {
    "execution": {
     "iopub.execute_input": "2022-02-14T10:07:42.931505Z",
     "iopub.status.busy": "2022-02-14T10:07:42.928192Z",
     "iopub.status.idle": "2022-02-14T10:07:42.939630Z",
     "shell.execute_reply": "2022-02-14T10:07:42.939137Z"
    },
    "papermill": {
     "duration": 0.03938,
     "end_time": "2022-02-14T10:07:42.939735",
     "exception": false,
     "start_time": "2022-02-14T10:07:42.900355",
     "status": "completed"
    },
    "tags": []
   },
   "outputs": [],
   "source": [
    "nn_learner = Learner(loss, model_nn, opt, config.num_epochs)\n",
    "acc_nn = ClfCallback(nn_learner, config.bs, training_data_x , testing_data_x, training_data_y, testing_data_y)\n",
    "nn_learner.set_callbacks([acc_nn])"
   ]
  },
  {
   "cell_type": "code",
   "execution_count": 21,
   "id": "877b6cc7",
   "metadata": {
    "execution": {
     "iopub.execute_input": "2022-02-14T10:07:42.992982Z",
     "iopub.status.busy": "2022-02-14T10:07:42.992500Z",
     "iopub.status.idle": "2022-02-14T10:07:43.007938Z",
     "shell.execute_reply": "2022-02-14T10:07:43.007470Z"
    },
    "papermill": {
     "duration": 0.041395,
     "end_time": "2022-02-14T10:07:43.008049",
     "exception": false,
     "start_time": "2022-02-14T10:07:42.966654",
     "status": "completed"
    },
    "tags": []
   },
   "outputs": [],
   "source": [
    "lr_learner = Learner(loss, model_lr, opt, config.num_epochs)\n",
    "acc_lr = ClfCallback(lr_learner, config.bs, training_data_x , testing_data_x, training_data_y, testing_data_y)\n",
    "lr_learner.set_callbacks([acc_lr])"
   ]
  },
  {
   "cell_type": "code",
   "execution_count": 22,
   "id": "d9b133c3",
   "metadata": {
    "execution": {
     "iopub.execute_input": "2022-02-14T10:07:43.058609Z",
     "iopub.status.busy": "2022-02-14T10:07:43.058025Z",
     "iopub.status.idle": "2022-02-14T10:08:57.543164Z",
     "shell.execute_reply": "2022-02-14T10:08:57.543796Z"
    },
    "papermill": {
     "duration": 74.513327,
     "end_time": "2022-02-14T10:08:57.543927",
     "exception": false,
     "start_time": "2022-02-14T10:07:43.030600",
     "status": "completed"
    },
    "tags": []
   },
   "outputs": [
    {
     "name": "stdout",
     "output_type": "stream",
     "text": [
      "Epoch 0, Loss 0.2456\n",
      "Training Accuracy: 0.6421, Testing Accuracy: 0.6638\n",
      "\n"
     ]
    },
    {
     "name": "stdout",
     "output_type": "stream",
     "text": [
      "Epoch 10, Loss 0.1811\n",
      "Training Accuracy: 0.8933, Testing Accuracy: 0.9057\n",
      "\n"
     ]
    },
    {
     "name": "stdout",
     "output_type": "stream",
     "text": [
      "Epoch 20, Loss 0.0883\n",
      "Training Accuracy: 0.9188, Testing Accuracy: 0.9299\n",
      "\n"
     ]
    },
    {
     "name": "stdout",
     "output_type": "stream",
     "text": [
      "Epoch 30, Loss 0.0587\n",
      "Training Accuracy: 0.9367, Testing Accuracy: 0.9461\n",
      "\n"
     ]
    },
    {
     "name": "stdout",
     "output_type": "stream",
     "text": [
      "Epoch 40, Loss 0.0466\n",
      "Training Accuracy: 0.9475, Testing Accuracy: 0.9531\n",
      "\n"
     ]
    },
    {
     "name": "stdout",
     "output_type": "stream",
     "text": [
      "Epoch 50, Loss 0.0402\n",
      "Training Accuracy: 0.9531, Testing Accuracy: 0.9607\n",
      "\n"
     ]
    },
    {
     "name": "stdout",
     "output_type": "stream",
     "text": [
      "Epoch 60, Loss 0.0363\n",
      "Training Accuracy: 0.9576, Testing Accuracy: 0.9632\n",
      "\n"
     ]
    },
    {
     "name": "stdout",
     "output_type": "stream",
     "text": [
      "Epoch 70, Loss 0.0337\n",
      "Training Accuracy: 0.9608, Testing Accuracy: 0.9652\n",
      "\n"
     ]
    },
    {
     "name": "stdout",
     "output_type": "stream",
     "text": [
      "Epoch 80, Loss 0.0318\n",
      "Training Accuracy: 0.9622, Testing Accuracy: 0.9662\n",
      "\n"
     ]
    },
    {
     "name": "stdout",
     "output_type": "stream",
     "text": [
      "Epoch 90, Loss 0.0303\n",
      "Training Accuracy: 0.9643, Testing Accuracy: 0.9667\n",
      "\n"
     ]
    },
    {
     "name": "stdout",
     "output_type": "stream",
     "text": [
      "Epoch 100, Loss 0.0291\n",
      "Training Accuracy: 0.9663, Testing Accuracy: 0.9682\n",
      "\n"
     ]
    },
    {
     "name": "stdout",
     "output_type": "stream",
     "text": [
      "Epoch 110, Loss 0.0281\n",
      "Training Accuracy: 0.9680, Testing Accuracy: 0.9682\n",
      "\n"
     ]
    },
    {
     "name": "stdout",
     "output_type": "stream",
     "text": [
      "Epoch 120, Loss 0.0272\n",
      "Training Accuracy: 0.9688, Testing Accuracy: 0.9682\n",
      "\n"
     ]
    },
    {
     "name": "stdout",
     "output_type": "stream",
     "text": [
      "Epoch 130, Loss 0.0264\n",
      "Training Accuracy: 0.9698, Testing Accuracy: 0.9672\n",
      "\n"
     ]
    },
    {
     "name": "stdout",
     "output_type": "stream",
     "text": [
      "Epoch 140, Loss 0.0257\n",
      "Training Accuracy: 0.9705, Testing Accuracy: 0.9672\n",
      "\n"
     ]
    },
    {
     "name": "stdout",
     "output_type": "stream",
     "text": [
      "Epoch 150, Loss 0.0251\n",
      "Training Accuracy: 0.9711, Testing Accuracy: 0.9682\n",
      "\n"
     ]
    },
    {
     "name": "stdout",
     "output_type": "stream",
     "text": [
      "Epoch 160, Loss 0.0245\n",
      "Training Accuracy: 0.9716, Testing Accuracy: 0.9688\n",
      "\n"
     ]
    },
    {
     "name": "stdout",
     "output_type": "stream",
     "text": [
      "Epoch 170, Loss 0.024\n",
      "Training Accuracy: 0.9723, Testing Accuracy: 0.9688\n",
      "\n"
     ]
    },
    {
     "name": "stdout",
     "output_type": "stream",
     "text": [
      "Epoch 180, Loss 0.0235\n",
      "Training Accuracy: 0.9732, Testing Accuracy: 0.9688\n",
      "\n"
     ]
    },
    {
     "name": "stdout",
     "output_type": "stream",
     "text": [
      "Epoch 190, Loss 0.023\n",
      "Training Accuracy: 0.9738, Testing Accuracy: 0.9693\n",
      "\n"
     ]
    },
    {
     "name": "stdout",
     "output_type": "stream",
     "text": [
      "Epoch 200, Loss 0.0226\n",
      "Training Accuracy: 0.9740, Testing Accuracy: 0.9698\n",
      "\n"
     ]
    },
    {
     "name": "stdout",
     "output_type": "stream",
     "text": [
      "Epoch 210, Loss 0.0221\n",
      "Training Accuracy: 0.9748, Testing Accuracy: 0.9693\n",
      "\n"
     ]
    },
    {
     "name": "stdout",
     "output_type": "stream",
     "text": [
      "Epoch 220, Loss 0.0217\n",
      "Training Accuracy: 0.9750, Testing Accuracy: 0.9708\n",
      "\n"
     ]
    },
    {
     "name": "stdout",
     "output_type": "stream",
     "text": [
      "Epoch 230, Loss 0.0213\n",
      "Training Accuracy: 0.9759, Testing Accuracy: 0.9708\n",
      "\n"
     ]
    },
    {
     "name": "stdout",
     "output_type": "stream",
     "text": [
      "Epoch 240, Loss 0.0209\n",
      "Training Accuracy: 0.9769, Testing Accuracy: 0.9708\n",
      "\n"
     ]
    },
    {
     "data": {
      "text/plain": [
       "0.10346448262715086"
      ]
     },
     "execution_count": 22,
     "metadata": {},
     "output_type": "execute_result"
    }
   ],
   "source": [
    "nn_learner.train_loop(dl)"
   ]
  },
  {
   "cell_type": "code",
   "execution_count": 23,
   "id": "e0163366",
   "metadata": {
    "execution": {
     "iopub.execute_input": "2022-02-14T10:08:57.617186Z",
     "iopub.status.busy": "2022-02-14T10:08:57.616618Z",
     "iopub.status.idle": "2022-02-14T10:09:10.735427Z",
     "shell.execute_reply": "2022-02-14T10:09:10.736225Z"
    },
    "papermill": {
     "duration": 13.16203,
     "end_time": "2022-02-14T10:09:10.736377",
     "exception": false,
     "start_time": "2022-02-14T10:08:57.574347",
     "status": "completed"
    },
    "tags": []
   },
   "outputs": [
    {
     "name": "stdout",
     "output_type": "stream",
     "text": [
      "Epoch 0, Loss 0.2184\n",
      "Training Accuracy: 0.7570, Testing Accuracy: 0.7898\n",
      "\n"
     ]
    },
    {
     "name": "stdout",
     "output_type": "stream",
     "text": [
      "Epoch 10, Loss 0.1031\n",
      "Training Accuracy: 0.9048, Testing Accuracy: 0.9163\n",
      "\n"
     ]
    },
    {
     "name": "stdout",
     "output_type": "stream",
     "text": [
      "Epoch 20, Loss 0.0797\n",
      "Training Accuracy: 0.9267, Testing Accuracy: 0.9370\n",
      "\n"
     ]
    },
    {
     "name": "stdout",
     "output_type": "stream",
     "text": [
      "Epoch 30, Loss 0.0685\n",
      "Training Accuracy: 0.9370, Testing Accuracy: 0.9471\n",
      "\n"
     ]
    },
    {
     "name": "stdout",
     "output_type": "stream",
     "text": [
      "Epoch 40, Loss 0.0617\n",
      "Training Accuracy: 0.9417, Testing Accuracy: 0.9531\n",
      "\n"
     ]
    },
    {
     "name": "stdout",
     "output_type": "stream",
     "text": [
      "Epoch 50, Loss 0.0572\n",
      "Training Accuracy: 0.9458, Testing Accuracy: 0.9572\n",
      "\n"
     ]
    },
    {
     "name": "stdout",
     "output_type": "stream",
     "text": [
      "Epoch 60, Loss 0.0538\n",
      "Training Accuracy: 0.9480, Testing Accuracy: 0.9567\n",
      "\n"
     ]
    },
    {
     "name": "stdout",
     "output_type": "stream",
     "text": [
      "Epoch 70, Loss 0.0512\n",
      "Training Accuracy: 0.9489, Testing Accuracy: 0.9587\n",
      "\n"
     ]
    },
    {
     "name": "stdout",
     "output_type": "stream",
     "text": [
      "Epoch 80, Loss 0.0491\n",
      "Training Accuracy: 0.9508, Testing Accuracy: 0.9602\n",
      "\n"
     ]
    },
    {
     "name": "stdout",
     "output_type": "stream",
     "text": [
      "Epoch 90, Loss 0.0474\n",
      "Training Accuracy: 0.9522, Testing Accuracy: 0.9612\n",
      "\n"
     ]
    },
    {
     "name": "stdout",
     "output_type": "stream",
     "text": [
      "Epoch 100, Loss 0.046\n",
      "Training Accuracy: 0.9523, Testing Accuracy: 0.9637\n",
      "\n"
     ]
    },
    {
     "name": "stdout",
     "output_type": "stream",
     "text": [
      "Epoch 110, Loss 0.0448\n",
      "Training Accuracy: 0.9534, Testing Accuracy: 0.9642\n",
      "\n"
     ]
    },
    {
     "name": "stdout",
     "output_type": "stream",
     "text": [
      "Epoch 120, Loss 0.0437\n",
      "Training Accuracy: 0.9545, Testing Accuracy: 0.9647\n",
      "\n"
     ]
    },
    {
     "name": "stdout",
     "output_type": "stream",
     "text": [
      "Epoch 130, Loss 0.0428\n",
      "Training Accuracy: 0.9548, Testing Accuracy: 0.9647\n",
      "\n"
     ]
    },
    {
     "name": "stdout",
     "output_type": "stream",
     "text": [
      "Epoch 140, Loss 0.042\n",
      "Training Accuracy: 0.9553, Testing Accuracy: 0.9652\n",
      "\n"
     ]
    },
    {
     "name": "stdout",
     "output_type": "stream",
     "text": [
      "Epoch 150, Loss 0.0412\n",
      "Training Accuracy: 0.9559, Testing Accuracy: 0.9652\n",
      "\n"
     ]
    },
    {
     "name": "stdout",
     "output_type": "stream",
     "text": [
      "Epoch 160, Loss 0.0406\n",
      "Training Accuracy: 0.9565, Testing Accuracy: 0.9657\n",
      "\n"
     ]
    },
    {
     "name": "stdout",
     "output_type": "stream",
     "text": [
      "Epoch 170, Loss 0.04\n",
      "Training Accuracy: 0.9569, Testing Accuracy: 0.9662\n",
      "\n"
     ]
    },
    {
     "name": "stdout",
     "output_type": "stream",
     "text": [
      "Epoch 180, Loss 0.0394\n",
      "Training Accuracy: 0.9574, Testing Accuracy: 0.9662\n",
      "\n"
     ]
    },
    {
     "name": "stdout",
     "output_type": "stream",
     "text": [
      "Epoch 190, Loss 0.0389\n",
      "Training Accuracy: 0.9580, Testing Accuracy: 0.9662\n",
      "\n"
     ]
    },
    {
     "name": "stdout",
     "output_type": "stream",
     "text": [
      "Epoch 200, Loss 0.0384\n",
      "Training Accuracy: 0.9584, Testing Accuracy: 0.9667\n",
      "\n"
     ]
    },
    {
     "name": "stdout",
     "output_type": "stream",
     "text": [
      "Epoch 210, Loss 0.038\n",
      "Training Accuracy: 0.9591, Testing Accuracy: 0.9672\n",
      "\n"
     ]
    },
    {
     "name": "stdout",
     "output_type": "stream",
     "text": [
      "Epoch 220, Loss 0.0376\n",
      "Training Accuracy: 0.9595, Testing Accuracy: 0.9672\n",
      "\n"
     ]
    },
    {
     "name": "stdout",
     "output_type": "stream",
     "text": [
      "Epoch 230, Loss 0.0372\n",
      "Training Accuracy: 0.9602, Testing Accuracy: 0.9672\n",
      "\n"
     ]
    },
    {
     "name": "stdout",
     "output_type": "stream",
     "text": [
      "Epoch 240, Loss 0.0368\n",
      "Training Accuracy: 0.9603, Testing Accuracy: 0.9672\n",
      "\n"
     ]
    },
    {
     "data": {
      "text/plain": [
       "0.04583999306480589"
      ]
     },
     "execution_count": 23,
     "metadata": {},
     "output_type": "execute_result"
    }
   ],
   "source": [
    "lr_learner.train_loop(dl)"
   ]
  },
  {
   "cell_type": "code",
   "execution_count": 24,
   "id": "ca410940",
   "metadata": {
    "execution": {
     "iopub.execute_input": "2022-02-14T10:09:10.823881Z",
     "iopub.status.busy": "2022-02-14T10:09:10.823448Z",
     "iopub.status.idle": "2022-02-14T10:09:11.023233Z",
     "shell.execute_reply": "2022-02-14T10:09:11.023605Z"
    },
    "papermill": {
     "duration": 0.250332,
     "end_time": "2022-02-14T10:09:11.023725",
     "exception": false,
     "start_time": "2022-02-14T10:09:10.773393",
     "status": "completed"
    },
    "tags": []
   },
   "outputs": [
    {
     "data": {
      "text/plain": [
       "<matplotlib.legend.Legend at 0x7fb2a4797ba8>"
      ]
     },
     "execution_count": 24,
     "metadata": {},
     "output_type": "execute_result"
    },
    {
     "data": {
      "image/png": "[encoded data removed]",
      "text/plain": [
       "<Figure size 1080x720 with 1 Axes>"
      ]
     },
     "metadata": {
      "needs_background": "light"
     },
     "output_type": "display_data"
    }
   ],
   "source": [
    "#comparing the results of NN and LR\n",
    "plt.figure(figsize=(15,10))\n",
    "\n",
    "# Neural Network plots\n",
    "plt.plot(acc_nn.accuracies, 'r-', label = \"Training Accuracies - NN\")\n",
    "plt.plot(acc_nn.test_accuracies, 'g-', label = \"Testing Accuracies - NN\")\n",
    "\n",
    "# Logistic Regression plots\n",
    "plt.plot(acc_lr.accuracies, 'k-', label = \"Training Accuracies - LR\")\n",
    "plt.plot(acc_lr.test_accuracies, 'b-', label = \"Testing Accuracies - LR\")\n",
    "plt.legend()"
   ]
  },
  {
   "cell_type": "markdown",
   "id": "80dfb35c",
   "metadata": {
    "papermill": {
     "duration": 0.03876,
     "end_time": "2022-02-14T10:09:11.099745",
     "exception": false,
     "start_time": "2022-02-14T10:09:11.060985",
     "status": "completed"
    },
    "tags": []
   },
   "source": [
    "#### Plotting the outputs of this layer of the NN.\n"
   ]
  },
  {
   "cell_type": "code",
   "execution_count": 25,
   "id": "45eb2ff5",
   "metadata": {
    "execution": {
     "iopub.execute_input": "2022-02-14T10:09:11.183217Z",
     "iopub.status.busy": "2022-02-14T10:09:11.180997Z",
     "iopub.status.idle": "2022-02-14T10:09:11.199104Z",
     "shell.execute_reply": "2022-02-14T10:09:11.199498Z"
    },
    "papermill": {
     "duration": 0.059851,
     "end_time": "2022-02-14T10:09:11.199614",
     "exception": false,
     "start_time": "2022-02-14T10:09:11.139763",
     "status": "completed"
    },
    "tags": []
   },
   "outputs": [],
   "source": [
    "new_model = Model(layers[:-2])\n",
    "testing_plot = new_model(testing_data_x)"
   ]
  },
  {
   "cell_type": "code",
   "execution_count": 26,
   "id": "4c0a5485",
   "metadata": {
    "execution": {
     "iopub.execute_input": "2022-02-14T10:09:11.293769Z",
     "iopub.status.busy": "2022-02-14T10:09:11.284140Z",
     "iopub.status.idle": "2022-02-14T10:09:11.479002Z",
     "shell.execute_reply": "2022-02-14T10:09:11.477634Z"
    },
    "papermill": {
     "duration": 0.242409,
     "end_time": "2022-02-14T10:09:11.479219",
     "exception": false,
     "start_time": "2022-02-14T10:09:11.236810",
     "status": "completed"
    },
    "tags": []
   },
   "outputs": [
    {
     "data": {
      "text/plain": [
       "Text(0.5, 1.0, 'Outputs')"
      ]
     },
     "execution_count": 26,
     "metadata": {},
     "output_type": "execute_result"
    },
    {
     "data": {
      "image/png": "[encoded data removed]",
      "text/plain": [
       "<Figure size 576x504 with 1 Axes>"
      ]
     },
     "metadata": {
      "needs_background": "light"
     },
     "output_type": "display_data"
    }
   ],
   "source": [
    "# Plotting the scatter plot of points and color coding by class\n",
    "plt.figure(figsize=(8,7))\n",
    "plt.scatter(testing_plot[:,0], testing_plot[:,1], alpha = 0.1, c = y_test.ravel());\n",
    "plt.title('Outputs')"
   ]
  },
  {
   "cell_type": "markdown",
   "id": "a74fcf8f",
   "metadata": {
    "papermill": {
     "duration": 0.042131,
     "end_time": "2022-02-14T10:09:11.566124",
     "exception": false,
     "start_time": "2022-02-14T10:09:11.523993",
     "status": "completed"
    },
    "tags": []
   },
   "source": [
    "Probability contours"
   ]
  },
  {
   "cell_type": "code",
   "execution_count": 27,
   "id": "d0afc8e3",
   "metadata": {
    "execution": {
     "iopub.execute_input": "2022-02-14T10:09:11.658946Z",
     "iopub.status.busy": "2022-02-14T10:09:11.658291Z",
     "iopub.status.idle": "2022-02-14T10:09:11.670378Z",
     "shell.execute_reply": "2022-02-14T10:09:11.669907Z"
    },
    "papermill": {
     "duration": 0.059841,
     "end_time": "2022-02-14T10:09:11.670486",
     "exception": false,
     "start_time": "2022-02-14T10:09:11.610645",
     "status": "completed"
    },
    "tags": []
   },
   "outputs": [],
   "source": [
    "model_prob = Model(layers[-2:]) "
   ]
  },
  {
   "cell_type": "code",
   "execution_count": 28,
   "id": "9b96e238",
   "metadata": {
    "execution": {
     "iopub.execute_input": "2022-02-14T10:09:11.763183Z",
     "iopub.status.busy": "2022-02-14T10:09:11.762647Z",
     "iopub.status.idle": "2022-02-14T10:09:11.778391Z",
     "shell.execute_reply": "2022-02-14T10:09:11.778709Z"
    },
    "papermill": {
     "duration": 0.064577,
     "end_time": "2022-02-14T10:09:11.778861",
     "exception": false,
     "start_time": "2022-02-14T10:09:11.714284",
     "status": "completed"
    },
    "tags": []
   },
   "outputs": [],
   "source": [
    "#creating the x and y ranges according to the above generated plot.\n",
    "x_range = np.linspace(-4, 1, 100) \n",
    "y_range = np.linspace(-6, 6, 100) \n",
    "x_grid, y_grid = np.meshgrid(x_range, y_range) # x_grid and y_grig are of size 100 X 100\n",
    "\n",
    "# converting x_grid and y_grid to continuous arrays\n",
    "x_gridflat = np.ravel(x_grid)\n",
    "y_gridflat = np.ravel(y_grid)\n",
    "\n",
    "# The last layer of the current model takes two columns as input. Hence transpose of np.vstack() is required.\n",
    "X = np.vstack((x_gridflat, y_gridflat)).T\n",
    "\n",
    "prob_contour = model_prob(X).reshape(100,100) "
   ]
  },
  {
   "cell_type": "code",
   "execution_count": 29,
   "id": "da72499a",
   "metadata": {
    "execution": {
     "iopub.execute_input": "2022-02-14T10:09:11.900303Z",
     "iopub.status.busy": "2022-02-14T10:09:11.899744Z",
     "iopub.status.idle": "2022-02-14T10:09:12.149719Z",
     "shell.execute_reply": "2022-02-14T10:09:12.149297Z"
    },
    "papermill": {
     "duration": 0.328446,
     "end_time": "2022-02-14T10:09:12.149837",
     "exception": false,
     "start_time": "2022-02-14T10:09:11.821391",
     "status": "completed"
    },
    "tags": []
   },
   "outputs": [
    {
     "data": {
      "image/png": "[encoded data removed]",
      "text/plain": [
       "<Figure size 720x648 with 1 Axes>"
      ]
     },
     "metadata": {
      "needs_background": "light"
     },
     "output_type": "display_data"
    }
   ],
   "source": [
    "plt.figure(figsize=(10,9))\n",
    "plt.scatter(testing_plot[:,0], testing_plot[:,1], alpha = 0.1, c = y_test.ravel())\n",
    "contours = plt.contour(x_grid,y_grid,prob_contour)\n",
    "plt.title('Probability Contours')\n",
    "plt.clabel(contours, inline = True );"
   ]
  },
  {
   "cell_type": "code",
   "execution_count": null,
   "id": "e81b4ac7",
   "metadata": {
    "papermill": {
     "duration": 0.041772,
     "end_time": "2022-02-14T10:09:12.237692",
     "exception": false,
     "start_time": "2022-02-14T10:09:12.195920",
     "status": "completed"
    },
    "tags": []
   },
   "outputs": [],
   "source": []
  }
 ],
 "metadata": {
  "kernelspec": {
   "display_name": "Python 3",
   "language": "python",
   "name": "python3"
  },
  "language_info": {
   "codemirror_mode": {
    "name": "ipython",
    "version": 3
   },
   "file_extension": ".py",
   "mimetype": "text/x-python",
   "name": "python",
   "nbconvert_exporter": "python",
   "pygments_lexer": "ipython3",
   "version": "3.6.15"
  },
  "papermill": {
   "default_parameters": {},
   "duration": 95.497983,
   "end_time": "2022-02-14T10:09:12.702359",
   "environment_variables": {},
   "exception": null,
   "input_path": "2020-08-11-part2.ipynb",
   "output_path": "2020-08-11-part2.ipynb",
   "parameters": {},
   "start_time": "2022-02-14T10:07:37.204376",
   "version": "2.3.3"
  }
 },
 "nbformat": 4,
 "nbformat_minor": 5
}