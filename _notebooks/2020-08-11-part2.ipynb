{
 "cells": [
  {
   "cell_type": "markdown",
   "id": "98380cd3",
   "metadata": {
    "papermill": {
     "duration": 0.032627,
     "end_time": "2022-09-14T10:11:27.206819",
     "exception": false,
     "start_time": "2022-09-14T10:11:27.174192",
     "status": "completed"
    },
    "tags": []
   },
   "source": [
    "# Distinguish Your Own Digits (DYOD)"
   ]
  },
  {
   "cell_type": "markdown",
   "id": "ef31240d",
   "metadata": {
    "papermill": {
     "duration": 0.026417,
     "end_time": "2022-09-14T10:11:27.259931",
     "exception": false,
     "start_time": "2022-09-14T10:11:27.233514",
     "status": "completed"
    },
    "tags": []
   },
   "source": [
    "You are going to write a classifier that distinguishes between the number 3 and number 8."
   ]
  },
  {
   "cell_type": "code",
   "execution_count": 1,
   "id": "b15c8646",
   "metadata": {
    "execution": {
     "iopub.execute_input": "2022-09-14T10:11:27.326134Z",
     "iopub.status.busy": "2022-09-14T10:11:27.325462Z",
     "iopub.status.idle": "2022-09-14T10:11:27.338093Z",
     "shell.execute_reply": "2022-09-14T10:11:27.337557Z"
    },
    "papermill": {
     "duration": 0.051477,
     "end_time": "2022-09-14T10:11:27.338229",
     "exception": false,
     "start_time": "2022-09-14T10:11:27.286752",
     "status": "completed"
    },
    "tags": []
   },
   "outputs": [],
   "source": [
    "%load_ext autoreload\n",
    "%autoreload 2"
   ]
  },
  {
   "cell_type": "code",
   "execution_count": 2,
   "id": "22ef38dc",
   "metadata": {
    "execution": {
     "iopub.execute_input": "2022-09-14T10:11:27.397404Z",
     "iopub.status.busy": "2022-09-14T10:11:27.396601Z",
     "iopub.status.idle": "2022-09-14T10:11:28.025921Z",
     "shell.execute_reply": "2022-09-14T10:11:28.024829Z"
    },
    "papermill": {
     "duration": 0.661884,
     "end_time": "2022-09-14T10:11:28.026064",
     "exception": false,
     "start_time": "2022-09-14T10:11:27.364180",
     "status": "completed"
    },
    "tags": []
   },
   "outputs": [],
   "source": [
    "%matplotlib inline\n",
    "import numpy as np\n",
    "import matplotlib.pyplot as plt\n",
    "import pandas as pd"
   ]
  },
  {
   "cell_type": "markdown",
   "id": "ba036198",
   "metadata": {
    "papermill": {
     "duration": 0.026907,
     "end_time": "2022-09-14T10:11:28.079815",
     "exception": false,
     "start_time": "2022-09-14T10:11:28.052908",
     "status": "completed"
    },
    "tags": []
   },
   "source": [
    "From the command line run `pip install mnist`. This is a library that will help you bring down the mnist dataset. If you run this from a notebook, you need to put  `!pip install mnist` in a cell by itself."
   ]
  },
  {
   "cell_type": "code",
   "execution_count": 3,
   "id": "bb6ad8a1",
   "metadata": {
    "execution": {
     "iopub.execute_input": "2022-09-14T10:11:28.138478Z",
     "iopub.status.busy": "2022-09-14T10:11:28.137810Z",
     "iopub.status.idle": "2022-09-14T10:11:30.028637Z",
     "shell.execute_reply": "2022-09-14T10:11:30.027305Z"
    },
    "papermill": {
     "duration": 1.922428,
     "end_time": "2022-09-14T10:11:30.028817",
     "exception": false,
     "start_time": "2022-09-14T10:11:28.106389",
     "status": "completed"
    },
    "tags": []
   },
   "outputs": [
    {
     "name": "stdout",
     "output_type": "stream",
     "text": [
      "Collecting mnist\r\n"
     ]
    },
    {
     "name": "stdout",
     "output_type": "stream",
     "text": [
      "  Downloading mnist-0.2.2-py2.py3-none-any.whl (3.5 kB)\r\n",
      "Requirement already satisfied: numpy in /opt/hostedtoolcache/Python/3.6.15/x64/lib/python3.6/site-packages (from mnist) (1.19.5)\r\n"
     ]
    },
    {
     "name": "stdout",
     "output_type": "stream",
     "text": [
      "Installing collected packages: mnist\r\n",
      "Successfully installed mnist-0.2.2\r\n"
     ]
    }
   ],
   "source": [
    "!pip install mnist"
   ]
  },
  {
   "cell_type": "markdown",
   "id": "69df9c9a",
   "metadata": {
    "papermill": {
     "duration": 0.027692,
     "end_time": "2022-09-14T10:11:30.085805",
     "exception": false,
     "start_time": "2022-09-14T10:11:30.058113",
     "status": "completed"
    },
    "tags": []
   },
   "source": [
    "## Preparing the Data"
   ]
  },
  {
   "cell_type": "code",
   "execution_count": 4,
   "id": "7f69d806",
   "metadata": {
    "execution": {
     "iopub.execute_input": "2022-09-14T10:11:30.151632Z",
     "iopub.status.busy": "2022-09-14T10:11:30.148206Z",
     "iopub.status.idle": "2022-09-14T10:11:30.163521Z",
     "shell.execute_reply": "2022-09-14T10:11:30.164124Z"
    },
    "papermill": {
     "duration": 0.051078,
     "end_time": "2022-09-14T10:11:30.164275",
     "exception": false,
     "start_time": "2022-09-14T10:11:30.113197",
     "status": "completed"
    },
    "tags": []
   },
   "outputs": [],
   "source": [
    "import mnist"
   ]
  },
  {
   "cell_type": "code",
   "execution_count": 5,
   "id": "a411e44f",
   "metadata": {
    "execution": {
     "iopub.execute_input": "2022-09-14T10:11:30.224445Z",
     "iopub.status.busy": "2022-09-14T10:11:30.223734Z",
     "iopub.status.idle": "2022-09-14T10:11:31.047930Z",
     "shell.execute_reply": "2022-09-14T10:11:31.046926Z"
    },
    "papermill": {
     "duration": 0.856507,
     "end_time": "2022-09-14T10:11:31.048183",
     "exception": false,
     "start_time": "2022-09-14T10:11:30.191676",
     "status": "completed"
    },
    "tags": []
   },
   "outputs": [],
   "source": [
    "train_images = mnist.train_images()\n",
    "train_labels = mnist.train_labels()"
   ]
  },
  {
   "cell_type": "code",
   "execution_count": 6,
   "id": "dceab3a5",
   "metadata": {
    "execution": {
     "iopub.execute_input": "2022-09-14T10:11:31.108756Z",
     "iopub.status.busy": "2022-09-14T10:11:31.108059Z",
     "iopub.status.idle": "2022-09-14T10:11:31.124137Z",
     "shell.execute_reply": "2022-09-14T10:11:31.124627Z"
    },
    "papermill": {
     "duration": 0.048519,
     "end_time": "2022-09-14T10:11:31.124763",
     "exception": false,
     "start_time": "2022-09-14T10:11:31.076244",
     "status": "completed"
    },
    "tags": []
   },
   "outputs": [
    {
     "data": {
      "text/plain": [
       "((60000, 28, 28), (60000,))"
      ]
     },
     "execution_count": 6,
     "metadata": {},
     "output_type": "execute_result"
    }
   ],
   "source": [
    "train_images.shape, train_labels.shape"
   ]
  },
  {
   "cell_type": "code",
   "execution_count": 7,
   "id": "f50dc2bb",
   "metadata": {
    "execution": {
     "iopub.execute_input": "2022-09-14T10:11:31.184325Z",
     "iopub.status.busy": "2022-09-14T10:11:31.183629Z",
     "iopub.status.idle": "2022-09-14T10:11:31.390449Z",
     "shell.execute_reply": "2022-09-14T10:11:31.389486Z"
    },
    "papermill": {
     "duration": 0.239199,
     "end_time": "2022-09-14T10:11:31.390668",
     "exception": false,
     "start_time": "2022-09-14T10:11:31.151469",
     "status": "completed"
    },
    "tags": []
   },
   "outputs": [],
   "source": [
    "test_images = mnist.test_images()\n",
    "test_labels = mnist.test_labels()"
   ]
  },
  {
   "cell_type": "code",
   "execution_count": 8,
   "id": "fc38cf1b",
   "metadata": {
    "execution": {
     "iopub.execute_input": "2022-09-14T10:11:31.456385Z",
     "iopub.status.busy": "2022-09-14T10:11:31.455681Z",
     "iopub.status.idle": "2022-09-14T10:11:31.470698Z",
     "shell.execute_reply": "2022-09-14T10:11:31.471180Z"
    },
    "papermill": {
     "duration": 0.050831,
     "end_time": "2022-09-14T10:11:31.471327",
     "exception": false,
     "start_time": "2022-09-14T10:11:31.420496",
     "status": "completed"
    },
    "tags": []
   },
   "outputs": [
    {
     "data": {
      "text/plain": [
       "((10000, 28, 28), (10000,))"
      ]
     },
     "execution_count": 8,
     "metadata": {},
     "output_type": "execute_result"
    }
   ],
   "source": [
    "test_images.shape, test_labels.shape"
   ]
  },
  {
   "cell_type": "code",
   "execution_count": 9,
   "id": "f9ed8fe0",
   "metadata": {
    "execution": {
     "iopub.execute_input": "2022-09-14T10:11:31.532508Z",
     "iopub.status.busy": "2022-09-14T10:11:31.531798Z",
     "iopub.status.idle": "2022-09-14T10:11:31.696722Z",
     "shell.execute_reply": "2022-09-14T10:11:31.697433Z"
    },
    "papermill": {
     "duration": 0.198035,
     "end_time": "2022-09-14T10:11:31.697646",
     "exception": false,
     "start_time": "2022-09-14T10:11:31.499611",
     "status": "completed"
    },
    "tags": []
   },
   "outputs": [
    {
     "name": "stdout",
     "output_type": "stream",
     "text": [
      "2\n"
     ]
    },
    {
     "data": {
      "text/plain": [
       "<matplotlib.image.AxesImage at 0x7fda7ba17c50>"
      ]
     },
     "execution_count": 9,
     "metadata": {},
     "output_type": "execute_result"
    },
    {
     "data": {
      "image/png": "[encoded data removed]",
      "text/plain": [
       "<Figure size 432x288 with 1 Axes>"
      ]
     },
     "metadata": {
      "needs_background": "light"
     },
     "output_type": "display_data"
    }
   ],
   "source": [
    "image_index = 7776 # You may select anything up to 60,000\n",
    "print(train_labels[image_index]) \n",
    "plt.imshow(train_images[image_index], cmap='Greys')"
   ]
  },
  {
   "cell_type": "markdown",
   "id": "a8d2388d",
   "metadata": {
    "papermill": {
     "duration": 0.029659,
     "end_time": "2022-09-14T10:11:31.757331",
     "exception": false,
     "start_time": "2022-09-14T10:11:31.727672",
     "status": "completed"
    },
    "tags": []
   },
   "source": [
    "## Filter data to get 3 and 8 out"
   ]
  },
  {
   "cell_type": "code",
   "execution_count": 10,
   "id": "776f7fc7",
   "metadata": {
    "execution": {
     "iopub.execute_input": "2022-09-14T10:11:31.822907Z",
     "iopub.status.busy": "2022-09-14T10:11:31.822215Z",
     "iopub.status.idle": "2022-09-14T10:11:31.843250Z",
     "shell.execute_reply": "2022-09-14T10:11:31.842687Z"
    },
    "papermill": {
     "duration": 0.056327,
     "end_time": "2022-09-14T10:11:31.843383",
     "exception": false,
     "start_time": "2022-09-14T10:11:31.787056",
     "status": "completed"
    },
    "tags": []
   },
   "outputs": [],
   "source": [
    "train_filter = np.where((train_labels == 3 ) | (train_labels == 8))\n",
    "test_filter = np.where((test_labels == 3) | (test_labels == 8))\n",
    "X_train, y_train = train_images[train_filter], train_labels[train_filter]\n",
    "X_test, y_test = test_images[test_filter], test_labels[test_filter]"
   ]
  },
  {
   "cell_type": "markdown",
   "id": "948f0b7e",
   "metadata": {
    "papermill": {
     "duration": 0.029508,
     "end_time": "2022-09-14T10:11:31.902633",
     "exception": false,
     "start_time": "2022-09-14T10:11:31.873125",
     "status": "completed"
    },
    "tags": []
   },
   "source": [
    "We normalize the pizel values in the 0 to 1 range"
   ]
  },
  {
   "cell_type": "code",
   "execution_count": 11,
   "id": "ee4c2166",
   "metadata": {
    "execution": {
     "iopub.execute_input": "2022-09-14T10:11:31.970311Z",
     "iopub.status.busy": "2022-09-14T10:11:31.969634Z",
     "iopub.status.idle": "2022-09-14T10:11:32.024664Z",
     "shell.execute_reply": "2022-09-14T10:11:32.023890Z"
    },
    "papermill": {
     "duration": 0.09272,
     "end_time": "2022-09-14T10:11:32.024813",
     "exception": false,
     "start_time": "2022-09-14T10:11:31.932093",
     "status": "completed"
    },
    "tags": []
   },
   "outputs": [],
   "source": [
    "X_train = X_train/255.\n",
    "X_test = X_test/255."
   ]
  },
  {
   "cell_type": "markdown",
   "id": "ddcf4fab",
   "metadata": {
    "papermill": {
     "duration": 0.029546,
     "end_time": "2022-09-14T10:11:32.084167",
     "exception": false,
     "start_time": "2022-09-14T10:11:32.054621",
     "status": "completed"
    },
    "tags": []
   },
   "source": [
    "And setup the labels as 1 (when the digit is 3) and 0 (when the digit is 8)"
   ]
  },
  {
   "cell_type": "code",
   "execution_count": 12,
   "id": "7dc908f2",
   "metadata": {
    "execution": {
     "iopub.execute_input": "2022-09-14T10:11:32.150898Z",
     "iopub.status.busy": "2022-09-14T10:11:32.149918Z",
     "iopub.status.idle": "2022-09-14T10:11:32.163421Z",
     "shell.execute_reply": "2022-09-14T10:11:32.162865Z"
    },
    "papermill": {
     "duration": 0.04996,
     "end_time": "2022-09-14T10:11:32.163552",
     "exception": false,
     "start_time": "2022-09-14T10:11:32.113592",
     "status": "completed"
    },
    "tags": []
   },
   "outputs": [],
   "source": [
    "y_train = 1*(y_train==3)\n",
    "y_test = 1*(y_test==3)"
   ]
  },
  {
   "cell_type": "code",
   "execution_count": 13,
   "id": "01e4e969",
   "metadata": {
    "execution": {
     "iopub.execute_input": "2022-09-14T10:11:32.227805Z",
     "iopub.status.busy": "2022-09-14T10:11:32.227130Z",
     "iopub.status.idle": "2022-09-14T10:11:32.241794Z",
     "shell.execute_reply": "2022-09-14T10:11:32.242338Z"
    },
    "papermill": {
     "duration": 0.049531,
     "end_time": "2022-09-14T10:11:32.242480",
     "exception": false,
     "start_time": "2022-09-14T10:11:32.192949",
     "status": "completed"
    },
    "tags": []
   },
   "outputs": [
    {
     "data": {
      "text/plain": [
       "((11982, 28, 28), (1984, 28, 28))"
      ]
     },
     "execution_count": 13,
     "metadata": {},
     "output_type": "execute_result"
    }
   ],
   "source": [
    "X_train.shape, X_test.shape"
   ]
  },
  {
   "cell_type": "markdown",
   "id": "5ccf3f85",
   "metadata": {
    "papermill": {
     "duration": 0.029824,
     "end_time": "2022-09-14T10:11:32.300352",
     "exception": false,
     "start_time": "2022-09-14T10:11:32.270528",
     "status": "completed"
    },
    "tags": []
   },
   "source": [
    "We reshape the data to flatten the image pixels into a set of features or co-variates:"
   ]
  },
  {
   "cell_type": "code",
   "execution_count": 14,
   "id": "5286a4a3",
   "metadata": {
    "execution": {
     "iopub.execute_input": "2022-09-14T10:11:32.366287Z",
     "iopub.status.busy": "2022-09-14T10:11:32.365580Z",
     "iopub.status.idle": "2022-09-14T10:11:32.385350Z",
     "shell.execute_reply": "2022-09-14T10:11:32.384790Z"
    },
    "papermill": {
     "duration": 0.055569,
     "end_time": "2022-09-14T10:11:32.385484",
     "exception": false,
     "start_time": "2022-09-14T10:11:32.329915",
     "status": "completed"
    },
    "tags": []
   },
   "outputs": [
    {
     "data": {
      "text/plain": [
       "((11982, 784), (1984, 784))"
      ]
     },
     "execution_count": 14,
     "metadata": {},
     "output_type": "execute_result"
    }
   ],
   "source": [
    "X_train = X_train.reshape(X_train.shape[0], -1)\n",
    "X_test = X_test.reshape(X_test.shape[0], -1)\n",
    "X_train.shape, X_test.shape"
   ]
  },
  {
   "cell_type": "code",
   "execution_count": 15,
   "id": "73c5f88a",
   "metadata": {
    "execution": {
     "iopub.execute_input": "2022-09-14T10:11:32.452145Z",
     "iopub.status.busy": "2022-09-14T10:11:32.451403Z",
     "iopub.status.idle": "2022-09-14T10:11:32.475338Z",
     "shell.execute_reply": "2022-09-14T10:11:32.474766Z"
    },
    "papermill": {
     "duration": 0.059569,
     "end_time": "2022-09-14T10:11:32.475472",
     "exception": false,
     "start_time": "2022-09-14T10:11:32.415903",
     "status": "completed"
    },
    "tags": []
   },
   "outputs": [],
   "source": [
    "#Impoting functions from 'Kudzu'\n",
    "from kudzu.model import Model\n",
    "from kudzu.train import Learner\n",
    "from kudzu.optim import GD\n",
    "from kudzu.data import Data, Sampler,Dataloader\n",
    "\n",
    "from kudzu.callbacks import AccCallback\n",
    "from kudzu.callbacks import ClfCallback\n",
    "\n",
    "from kudzu.loss import MSE\n",
    "\n",
    "from kudzu.layer import Sigmoid,Relu\n",
    "from kudzu.layer import Affine"
   ]
  },
  {
   "cell_type": "markdown",
   "id": "bc01172a",
   "metadata": {
    "papermill": {
     "duration": 0.029764,
     "end_time": "2022-09-14T10:11:32.535562",
     "exception": false,
     "start_time": "2022-09-14T10:11:32.505798",
     "status": "completed"
    },
    "tags": []
   },
   "source": [
    "### Let us create a `Config` class, to store important parameters. \n",
    "This class essentially plays the role of a dictionary."
   ]
  },
  {
   "cell_type": "code",
   "execution_count": 16,
   "id": "978281aa",
   "metadata": {
    "execution": {
     "iopub.execute_input": "2022-09-14T10:11:32.601229Z",
     "iopub.status.busy": "2022-09-14T10:11:32.600543Z",
     "iopub.status.idle": "2022-09-14T10:11:32.627298Z",
     "shell.execute_reply": "2022-09-14T10:11:32.626540Z"
    },
    "papermill": {
     "duration": 0.0619,
     "end_time": "2022-09-14T10:11:32.627466",
     "exception": false,
     "start_time": "2022-09-14T10:11:32.565566",
     "status": "completed"
    },
    "tags": []
   },
   "outputs": [],
   "source": [
    "class Config:\n",
    "    pass\n",
    "config = Config()\n",
    "config.lr = 0.001\n",
    "config.num_epochs = 250\n",
    "config.bs = 50"
   ]
  },
  {
   "cell_type": "markdown",
   "id": "1385fa59",
   "metadata": {
    "papermill": {
     "duration": 0.030084,
     "end_time": "2022-09-14T10:11:32.688454",
     "exception": false,
     "start_time": "2022-09-14T10:11:32.658370",
     "status": "completed"
    },
    "tags": []
   },
   "source": [
    "### Running Models with the Training data\n",
    "Details about the network layers:\n",
    "- A first affine layer has 784 inputs and does 100 affine transforms. These are followed by a Relu\n",
    "- A second affine layer has 100 inputs from the 100 activations of the past layer, and does 100 affine transforms. These are followed by a Relu\n",
    "- A third affine layer has 100 activations and does 2 affine transformations to create an embedding for visualization. There is no non-linearity here.\n",
    "- A final \"logistic regression\" which has an affine transform from 2 inputs to 1 output, which is squeezed through a sigmoid.\n"
   ]
  },
  {
   "cell_type": "code",
   "execution_count": 17,
   "id": "2b9c66db",
   "metadata": {
    "execution": {
     "iopub.execute_input": "2022-09-14T10:11:32.753992Z",
     "iopub.status.busy": "2022-09-14T10:11:32.753320Z",
     "iopub.status.idle": "2022-09-14T10:11:32.767682Z",
     "shell.execute_reply": "2022-09-14T10:11:32.767137Z"
    },
    "papermill": {
     "duration": 0.049127,
     "end_time": "2022-09-14T10:11:32.767806",
     "exception": false,
     "start_time": "2022-09-14T10:11:32.718679",
     "status": "completed"
    },
    "tags": []
   },
   "outputs": [],
   "source": [
    "data = Data(X_train, y_train.reshape(-1,1))\n",
    "sampler = Sampler(data, config.bs, shuffle=True)\n",
    "\n",
    "dl = Dataloader(data, sampler)\n",
    "\n",
    "opt = GD(config.lr)\n",
    "loss = MSE()"
   ]
  },
  {
   "cell_type": "code",
   "execution_count": 18,
   "id": "b275e4c2",
   "metadata": {
    "execution": {
     "iopub.execute_input": "2022-09-14T10:11:32.833571Z",
     "iopub.status.busy": "2022-09-14T10:11:32.832913Z",
     "iopub.status.idle": "2022-09-14T10:11:32.847926Z",
     "shell.execute_reply": "2022-09-14T10:11:32.847383Z"
    },
    "papermill": {
     "duration": 0.05024,
     "end_time": "2022-09-14T10:11:32.848076",
     "exception": false,
     "start_time": "2022-09-14T10:11:32.797836",
     "status": "completed"
    },
    "tags": []
   },
   "outputs": [],
   "source": [
    "training_data_x = X_train\n",
    "testing_data_x = X_test\n",
    "training_data_y = y_train.reshape(-1,1)\n",
    "testing_data_y = y_test.reshape(-1,1)"
   ]
  },
  {
   "cell_type": "code",
   "execution_count": 19,
   "id": "76951160",
   "metadata": {
    "execution": {
     "iopub.execute_input": "2022-09-14T10:11:32.914140Z",
     "iopub.status.busy": "2022-09-14T10:11:32.913452Z",
     "iopub.status.idle": "2022-09-14T10:11:32.933701Z",
     "shell.execute_reply": "2022-09-14T10:11:32.933050Z"
    },
    "papermill": {
     "duration": 0.056135,
     "end_time": "2022-09-14T10:11:32.933824",
     "exception": false,
     "start_time": "2022-09-14T10:11:32.877689",
     "status": "completed"
    },
    "tags": []
   },
   "outputs": [
    {
     "name": "stdout",
     "output_type": "stream",
     "text": [
      "xavier\n",
      "xavier\n",
      "xavier\n",
      "xavier\n",
      "xavier\n"
     ]
    }
   ],
   "source": [
    "layers = [Affine(\"first\", 784, 100), Relu(\"first\"), Affine(\"second\", 100, 100), Relu(\"second\"), Affine(\"third\", 100, 2), Affine(\"last\", 2, 1), Sigmoid(\"last\")]\n",
    "model_nn = Model(layers)\n",
    "model_lr = Model([Affine(\"logits\", 784, 1), Sigmoid(\"sigmoid\")])"
   ]
  },
  {
   "cell_type": "code",
   "execution_count": 20,
   "id": "6eede77a",
   "metadata": {
    "execution": {
     "iopub.execute_input": "2022-09-14T10:11:32.999101Z",
     "iopub.status.busy": "2022-09-14T10:11:32.998440Z",
     "iopub.status.idle": "2022-09-14T10:11:33.012830Z",
     "shell.execute_reply": "2022-09-14T10:11:33.013468Z"
    },
    "papermill": {
     "duration": 0.049725,
     "end_time": "2022-09-14T10:11:33.013748",
     "exception": false,
     "start_time": "2022-09-14T10:11:32.964023",
     "status": "completed"
    },
    "tags": []
   },
   "outputs": [],
   "source": [
    "nn_learner = Learner(loss, model_nn, opt, config.num_epochs)\n",
    "acc_nn = ClfCallback(nn_learner, config.bs, training_data_x , testing_data_x, training_data_y, testing_data_y)\n",
    "nn_learner.set_callbacks([acc_nn])"
   ]
  },
  {
   "cell_type": "code",
   "execution_count": 21,
   "id": "877b6cc7",
   "metadata": {
    "execution": {
     "iopub.execute_input": "2022-09-14T10:11:33.078721Z",
     "iopub.status.busy": "2022-09-14T10:11:33.078054Z",
     "iopub.status.idle": "2022-09-14T10:11:33.100572Z",
     "shell.execute_reply": "2022-09-14T10:11:33.099990Z"
    },
    "papermill": {
     "duration": 0.0567,
     "end_time": "2022-09-14T10:11:33.100698",
     "exception": false,
     "start_time": "2022-09-14T10:11:33.043998",
     "status": "completed"
    },
    "tags": []
   },
   "outputs": [],
   "source": [
    "lr_learner = Learner(loss, model_lr, opt, config.num_epochs)\n",
    "acc_lr = ClfCallback(lr_learner, config.bs, training_data_x , testing_data_x, training_data_y, testing_data_y)\n",
    "lr_learner.set_callbacks([acc_lr])"
   ]
  },
  {
   "cell_type": "code",
   "execution_count": 22,
   "id": "d9b133c3",
   "metadata": {
    "execution": {
     "iopub.execute_input": "2022-09-14T10:11:33.166108Z",
     "iopub.status.busy": "2022-09-14T10:11:33.165450Z",
     "iopub.status.idle": "2022-09-14T10:13:00.603479Z",
     "shell.execute_reply": "2022-09-14T10:13:00.604498Z"
    },
    "papermill": {
     "duration": 87.473587,
     "end_time": "2022-09-14T10:13:00.604665",
     "exception": false,
     "start_time": "2022-09-14T10:11:33.131078",
     "status": "completed"
    },
    "tags": []
   },
   "outputs": [
    {
     "name": "stdout",
     "output_type": "stream",
     "text": [
      "Epoch 0, Loss 0.2442\n",
      "Training Accuracy: 0.6379, Testing Accuracy: 0.6658\n",
      "\n"
     ]
    },
    {
     "name": "stdout",
     "output_type": "stream",
     "text": [
      "Epoch 10, Loss 0.1571\n",
      "Training Accuracy: 0.8794, Testing Accuracy: 0.8866\n",
      "\n"
     ]
    },
    {
     "name": "stdout",
     "output_type": "stream",
     "text": [
      "Epoch 20, Loss 0.0814\n",
      "Training Accuracy: 0.9190, Testing Accuracy: 0.9309\n",
      "\n"
     ]
    },
    {
     "name": "stdout",
     "output_type": "stream",
     "text": [
      "Epoch 30, Loss 0.0557\n",
      "Training Accuracy: 0.9401, Testing Accuracy: 0.9471\n",
      "\n"
     ]
    },
    {
     "name": "stdout",
     "output_type": "stream",
     "text": [
      "Epoch 40, Loss 0.0444\n",
      "Training Accuracy: 0.9508, Testing Accuracy: 0.9597\n",
      "\n"
     ]
    },
    {
     "name": "stdout",
     "output_type": "stream",
     "text": [
      "Epoch 50, Loss 0.0384\n",
      "Training Accuracy: 0.9569, Testing Accuracy: 0.9647\n",
      "\n"
     ]
    },
    {
     "name": "stdout",
     "output_type": "stream",
     "text": [
      "Epoch 60, Loss 0.0348\n",
      "Training Accuracy: 0.9615, Testing Accuracy: 0.9672\n",
      "\n"
     ]
    },
    {
     "name": "stdout",
     "output_type": "stream",
     "text": [
      "Epoch 70, Loss 0.0323\n",
      "Training Accuracy: 0.9642, Testing Accuracy: 0.9667\n",
      "\n"
     ]
    },
    {
     "name": "stdout",
     "output_type": "stream",
     "text": [
      "Epoch 80, Loss 0.0305\n",
      "Training Accuracy: 0.9659, Testing Accuracy: 0.9662\n",
      "\n"
     ]
    },
    {
     "name": "stdout",
     "output_type": "stream",
     "text": [
      "Epoch 90, Loss 0.029\n",
      "Training Accuracy: 0.9670, Testing Accuracy: 0.9672\n",
      "\n"
     ]
    },
    {
     "name": "stdout",
     "output_type": "stream",
     "text": [
      "Epoch 100, Loss 0.0279\n",
      "Training Accuracy: 0.9684, Testing Accuracy: 0.9662\n",
      "\n"
     ]
    },
    {
     "name": "stdout",
     "output_type": "stream",
     "text": [
      "Epoch 110, Loss 0.0269\n",
      "Training Accuracy: 0.9693, Testing Accuracy: 0.9672\n",
      "\n"
     ]
    },
    {
     "name": "stdout",
     "output_type": "stream",
     "text": [
      "Epoch 120, Loss 0.0261\n",
      "Training Accuracy: 0.9698, Testing Accuracy: 0.9682\n",
      "\n"
     ]
    },
    {
     "name": "stdout",
     "output_type": "stream",
     "text": [
      "Epoch 130, Loss 0.0253\n",
      "Training Accuracy: 0.9707, Testing Accuracy: 0.9703\n",
      "\n"
     ]
    },
    {
     "name": "stdout",
     "output_type": "stream",
     "text": [
      "Epoch 140, Loss 0.0247\n",
      "Training Accuracy: 0.9714, Testing Accuracy: 0.9703\n",
      "\n"
     ]
    },
    {
     "name": "stdout",
     "output_type": "stream",
     "text": [
      "Epoch 150, Loss 0.0241\n",
      "Training Accuracy: 0.9721, Testing Accuracy: 0.9703\n",
      "\n"
     ]
    },
    {
     "name": "stdout",
     "output_type": "stream",
     "text": [
      "Epoch 160, Loss 0.0235\n",
      "Training Accuracy: 0.9728, Testing Accuracy: 0.9708\n",
      "\n"
     ]
    },
    {
     "name": "stdout",
     "output_type": "stream",
     "text": [
      "Epoch 170, Loss 0.023\n",
      "Training Accuracy: 0.9735, Testing Accuracy: 0.9708\n",
      "\n"
     ]
    },
    {
     "name": "stdout",
     "output_type": "stream",
     "text": [
      "Epoch 180, Loss 0.0225\n",
      "Training Accuracy: 0.9747, Testing Accuracy: 0.9708\n",
      "\n"
     ]
    },
    {
     "name": "stdout",
     "output_type": "stream",
     "text": [
      "Epoch 190, Loss 0.0221\n",
      "Training Accuracy: 0.9753, Testing Accuracy: 0.9703\n",
      "\n"
     ]
    },
    {
     "name": "stdout",
     "output_type": "stream",
     "text": [
      "Epoch 200, Loss 0.0217\n",
      "Training Accuracy: 0.9759, Testing Accuracy: 0.9708\n",
      "\n"
     ]
    },
    {
     "name": "stdout",
     "output_type": "stream",
     "text": [
      "Epoch 210, Loss 0.0213\n",
      "Training Accuracy: 0.9763, Testing Accuracy: 0.9708\n",
      "\n"
     ]
    },
    {
     "name": "stdout",
     "output_type": "stream",
     "text": [
      "Epoch 220, Loss 0.0209\n",
      "Training Accuracy: 0.9766, Testing Accuracy: 0.9703\n",
      "\n"
     ]
    },
    {
     "name": "stdout",
     "output_type": "stream",
     "text": [
      "Epoch 230, Loss 0.0206\n",
      "Training Accuracy: 0.9771, Testing Accuracy: 0.9703\n",
      "\n"
     ]
    },
    {
     "name": "stdout",
     "output_type": "stream",
     "text": [
      "Epoch 240, Loss 0.0202\n",
      "Training Accuracy: 0.9773, Testing Accuracy: 0.9708\n",
      "\n"
     ]
    },
    {
     "data": {
      "text/plain": [
       "0.00047800999084474436"
      ]
     },
     "execution_count": 22,
     "metadata": {},
     "output_type": "execute_result"
    }
   ],
   "source": [
    "nn_learner.train_loop(dl)"
   ]
  },
  {
   "cell_type": "code",
   "execution_count": 23,
   "id": "e0163366",
   "metadata": {
    "execution": {
     "iopub.execute_input": "2022-09-14T10:13:00.693336Z",
     "iopub.status.busy": "2022-09-14T10:13:00.692690Z",
     "iopub.status.idle": "2022-09-14T10:13:16.577286Z",
     "shell.execute_reply": "2022-09-14T10:13:16.578251Z"
    },
    "papermill": {
     "duration": 15.933591,
     "end_time": "2022-09-14T10:13:16.578412",
     "exception": false,
     "start_time": "2022-09-14T10:13:00.644821",
     "status": "completed"
    },
    "tags": []
   },
   "outputs": [
    {
     "name": "stdout",
     "output_type": "stream",
     "text": [
      "Epoch 0, Loss 0.2498\n",
      "Training Accuracy: 0.6549, Testing Accuracy: 0.6295\n",
      "\n"
     ]
    },
    {
     "name": "stdout",
     "output_type": "stream",
     "text": [
      "Epoch 10, Loss 0.1062\n",
      "Training Accuracy: 0.9028, Testing Accuracy: 0.9108\n",
      "\n"
     ]
    },
    {
     "name": "stdout",
     "output_type": "stream",
     "text": [
      "Epoch 20, Loss 0.0808\n",
      "Training Accuracy: 0.9238, Testing Accuracy: 0.9375\n",
      "\n"
     ]
    },
    {
     "name": "stdout",
     "output_type": "stream",
     "text": [
      "Epoch 30, Loss 0.0691\n",
      "Training Accuracy: 0.9347, Testing Accuracy: 0.9441\n",
      "\n"
     ]
    },
    {
     "name": "stdout",
     "output_type": "stream",
     "text": [
      "Epoch 40, Loss 0.0621\n",
      "Training Accuracy: 0.9409, Testing Accuracy: 0.9506\n",
      "\n"
     ]
    },
    {
     "name": "stdout",
     "output_type": "stream",
     "text": [
      "Epoch 50, Loss 0.0574\n",
      "Training Accuracy: 0.9448, Testing Accuracy: 0.9551\n",
      "\n"
     ]
    },
    {
     "name": "stdout",
     "output_type": "stream",
     "text": [
      "Epoch 60, Loss 0.054\n",
      "Training Accuracy: 0.9477, Testing Accuracy: 0.9577\n",
      "\n"
     ]
    },
    {
     "name": "stdout",
     "output_type": "stream",
     "text": [
      "Epoch 70, Loss 0.0513\n",
      "Training Accuracy: 0.9495, Testing Accuracy: 0.9582\n",
      "\n"
     ]
    },
    {
     "name": "stdout",
     "output_type": "stream",
     "text": [
      "Epoch 80, Loss 0.0492\n",
      "Training Accuracy: 0.9514, Testing Accuracy: 0.9602\n",
      "\n"
     ]
    },
    {
     "name": "stdout",
     "output_type": "stream",
     "text": [
      "Epoch 90, Loss 0.0475\n",
      "Training Accuracy: 0.9527, Testing Accuracy: 0.9612\n",
      "\n"
     ]
    },
    {
     "name": "stdout",
     "output_type": "stream",
     "text": [
      "Epoch 100, Loss 0.046\n",
      "Training Accuracy: 0.9537, Testing Accuracy: 0.9632\n",
      "\n"
     ]
    },
    {
     "name": "stdout",
     "output_type": "stream",
     "text": [
      "Epoch 110, Loss 0.0448\n",
      "Training Accuracy: 0.9546, Testing Accuracy: 0.9632\n",
      "\n"
     ]
    },
    {
     "name": "stdout",
     "output_type": "stream",
     "text": [
      "Epoch 120, Loss 0.0437\n",
      "Training Accuracy: 0.9557, Testing Accuracy: 0.9642\n",
      "\n"
     ]
    },
    {
     "name": "stdout",
     "output_type": "stream",
     "text": [
      "Epoch 130, Loss 0.0427\n",
      "Training Accuracy: 0.9563, Testing Accuracy: 0.9652\n",
      "\n"
     ]
    },
    {
     "name": "stdout",
     "output_type": "stream",
     "text": [
      "Epoch 140, Loss 0.0419\n",
      "Training Accuracy: 0.9570, Testing Accuracy: 0.9657\n",
      "\n"
     ]
    },
    {
     "name": "stdout",
     "output_type": "stream",
     "text": [
      "Epoch 150, Loss 0.0411\n",
      "Training Accuracy: 0.9582, Testing Accuracy: 0.9667\n",
      "\n"
     ]
    },
    {
     "name": "stdout",
     "output_type": "stream",
     "text": [
      "Epoch 160, Loss 0.0405\n",
      "Training Accuracy: 0.9585, Testing Accuracy: 0.9667\n",
      "\n"
     ]
    },
    {
     "name": "stdout",
     "output_type": "stream",
     "text": [
      "Epoch 170, Loss 0.0398\n",
      "Training Accuracy: 0.9589, Testing Accuracy: 0.9667\n",
      "\n"
     ]
    },
    {
     "name": "stdout",
     "output_type": "stream",
     "text": [
      "Epoch 180, Loss 0.0393\n",
      "Training Accuracy: 0.9594, Testing Accuracy: 0.9667\n",
      "\n"
     ]
    },
    {
     "name": "stdout",
     "output_type": "stream",
     "text": [
      "Epoch 190, Loss 0.0388\n",
      "Training Accuracy: 0.9599, Testing Accuracy: 0.9672\n",
      "\n"
     ]
    },
    {
     "name": "stdout",
     "output_type": "stream",
     "text": [
      "Epoch 200, Loss 0.0383\n",
      "Training Accuracy: 0.9603, Testing Accuracy: 0.9672\n",
      "\n"
     ]
    },
    {
     "name": "stdout",
     "output_type": "stream",
     "text": [
      "Epoch 210, Loss 0.0378\n",
      "Training Accuracy: 0.9605, Testing Accuracy: 0.9682\n",
      "\n"
     ]
    },
    {
     "name": "stdout",
     "output_type": "stream",
     "text": [
      "Epoch 220, Loss 0.0374\n",
      "Training Accuracy: 0.9607, Testing Accuracy: 0.9682\n",
      "\n"
     ]
    },
    {
     "name": "stdout",
     "output_type": "stream",
     "text": [
      "Epoch 230, Loss 0.037\n",
      "Training Accuracy: 0.9609, Testing Accuracy: 0.9682\n",
      "\n"
     ]
    },
    {
     "name": "stdout",
     "output_type": "stream",
     "text": [
      "Epoch 240, Loss 0.0367\n",
      "Training Accuracy: 0.9610, Testing Accuracy: 0.9682\n",
      "\n"
     ]
    },
    {
     "data": {
      "text/plain": [
       "0.01762675180356863"
      ]
     },
     "execution_count": 23,
     "metadata": {},
     "output_type": "execute_result"
    }
   ],
   "source": [
    "lr_learner.train_loop(dl)"
   ]
  },
  {
   "cell_type": "code",
   "execution_count": 24,
   "id": "ca410940",
   "metadata": {
    "execution": {
     "iopub.execute_input": "2022-09-14T10:13:16.681879Z",
     "iopub.status.busy": "2022-09-14T10:13:16.681176Z",
     "iopub.status.idle": "2022-09-14T10:13:16.951904Z",
     "shell.execute_reply": "2022-09-14T10:13:16.952751Z"
    },
    "papermill": {
     "duration": 0.327752,
     "end_time": "2022-09-14T10:13:16.952914",
     "exception": false,
     "start_time": "2022-09-14T10:13:16.625162",
     "status": "completed"
    },
    "tags": []
   },
   "outputs": [
    {
     "data": {
      "text/plain": [
       "<matplotlib.legend.Legend at 0x7fda7b5842e8>"
      ]
     },
     "execution_count": 24,
     "metadata": {},
     "output_type": "execute_result"
    },
    {
     "data": {
      "image/png": "[encoded data removed]",
      "text/plain": [
       "<Figure size 1080x720 with 1 Axes>"
      ]
     },
     "metadata": {
      "needs_background": "light"
     },
     "output_type": "display_data"
    }
   ],
   "source": [
    "#comparing the results of NN and LR\n",
    "plt.figure(figsize=(15,10))\n",
    "\n",
    "# Neural Network plots\n",
    "plt.plot(acc_nn.accuracies, 'r-', label = \"Training Accuracies - NN\")\n",
    "plt.plot(acc_nn.test_accuracies, 'g-', label = \"Testing Accuracies - NN\")\n",
    "\n",
    "# Logistic Regression plots\n",
    "plt.plot(acc_lr.accuracies, 'k-', label = \"Training Accuracies - LR\")\n",
    "plt.plot(acc_lr.test_accuracies, 'b-', label = \"Testing Accuracies - LR\")\n",
    "plt.legend()"
   ]
  },
  {
   "cell_type": "markdown",
   "id": "80dfb35c",
   "metadata": {
    "papermill": {
     "duration": 0.045954,
     "end_time": "2022-09-14T10:13:17.044891",
     "exception": false,
     "start_time": "2022-09-14T10:13:16.998937",
     "status": "completed"
    },
    "tags": []
   },
   "source": [
    "#### Plotting the outputs of this layer of the NN.\n"
   ]
  },
  {
   "cell_type": "code",
   "execution_count": 25,
   "id": "45eb2ff5",
   "metadata": {
    "execution": {
     "iopub.execute_input": "2022-09-14T10:13:17.148317Z",
     "iopub.status.busy": "2022-09-14T10:13:17.146985Z",
     "iopub.status.idle": "2022-09-14T10:13:17.169196Z",
     "shell.execute_reply": "2022-09-14T10:13:17.168211Z"
    },
    "papermill": {
     "duration": 0.078244,
     "end_time": "2022-09-14T10:13:17.169329",
     "exception": false,
     "start_time": "2022-09-14T10:13:17.091085",
     "status": "completed"
    },
    "tags": []
   },
   "outputs": [],
   "source": [
    "new_model = Model(layers[:-2])\n",
    "testing_plot = new_model(testing_data_x)"
   ]
  },
  {
   "cell_type": "code",
   "execution_count": 26,
   "id": "4c0a5485",
   "metadata": {
    "execution": {
     "iopub.execute_input": "2022-09-14T10:13:17.267787Z",
     "iopub.status.busy": "2022-09-14T10:13:17.267081Z",
     "iopub.status.idle": "2022-09-14T10:13:17.539659Z",
     "shell.execute_reply": "2022-09-14T10:13:17.540244Z"
    },
    "papermill": {
     "duration": 0.324389,
     "end_time": "2022-09-14T10:13:17.540407",
     "exception": false,
     "start_time": "2022-09-14T10:13:17.216018",
     "status": "completed"
    },
    "tags": []
   },
   "outputs": [
    {
     "data": {
      "text/plain": [
       "Text(0.5, 1.0, 'Outputs')"
      ]
     },
     "execution_count": 26,
     "metadata": {},
     "output_type": "execute_result"
    },
    {
     "data": {
      "image/png": "[encoded data removed]",
      "text/plain": [
       "<Figure size 576x504 with 1 Axes>"
      ]
     },
     "metadata": {
      "needs_background": "light"
     },
     "output_type": "display_data"
    }
   ],
   "source": [
    "# Plotting the scatter plot of points and color coding by class\n",
    "plt.figure(figsize=(8,7))\n",
    "plt.scatter(testing_plot[:,0], testing_plot[:,1], alpha = 0.1, c = y_test.ravel());\n",
    "plt.title('Outputs')"
   ]
  },
  {
   "cell_type": "markdown",
   "id": "a74fcf8f",
   "metadata": {
    "papermill": {
     "duration": 0.054451,
     "end_time": "2022-09-14T10:13:17.648326",
     "exception": false,
     "start_time": "2022-09-14T10:13:17.593875",
     "status": "completed"
    },
    "tags": []
   },
   "source": [
    "Probability contours"
   ]
  },
  {
   "cell_type": "code",
   "execution_count": 27,
   "id": "d0afc8e3",
   "metadata": {
    "execution": {
     "iopub.execute_input": "2022-09-14T10:13:17.757285Z",
     "iopub.status.busy": "2022-09-14T10:13:17.756413Z",
     "iopub.status.idle": "2022-09-14T10:13:17.770815Z",
     "shell.execute_reply": "2022-09-14T10:13:17.770173Z"
    },
    "papermill": {
     "duration": 0.071923,
     "end_time": "2022-09-14T10:13:17.770951",
     "exception": false,
     "start_time": "2022-09-14T10:13:17.699028",
     "status": "completed"
    },
    "tags": []
   },
   "outputs": [],
   "source": [
    "model_prob = Model(layers[-2:]) "
   ]
  },
  {
   "cell_type": "code",
   "execution_count": 28,
   "id": "9b96e238",
   "metadata": {
    "execution": {
     "iopub.execute_input": "2022-09-14T10:13:17.914204Z",
     "iopub.status.busy": "2022-09-14T10:13:17.913509Z",
     "iopub.status.idle": "2022-09-14T10:13:17.931993Z",
     "shell.execute_reply": "2022-09-14T10:13:17.932546Z"
    },
    "papermill": {
     "duration": 0.110856,
     "end_time": "2022-09-14T10:13:17.932708",
     "exception": false,
     "start_time": "2022-09-14T10:13:17.821852",
     "status": "completed"
    },
    "tags": []
   },
   "outputs": [],
   "source": [
    "#creating the x and y ranges according to the above generated plot.\n",
    "x_range = np.linspace(-4, 1, 100) \n",
    "y_range = np.linspace(-6, 6, 100) \n",
    "x_grid, y_grid = np.meshgrid(x_range, y_range) # x_grid and y_grig are of size 100 X 100\n",
    "\n",
    "# converting x_grid and y_grid to continuous arrays\n",
    "x_gridflat = np.ravel(x_grid)\n",
    "y_gridflat = np.ravel(y_grid)\n",
    "\n",
    "# The last layer of the current model takes two columns as input. Hence transpose of np.vstack() is required.\n",
    "X = np.vstack((x_gridflat, y_gridflat)).T\n",
    "\n",
    "prob_contour = model_prob(X).reshape(100,100) "
   ]
  },
  {
   "cell_type": "code",
   "execution_count": 29,
   "id": "da72499a",
   "metadata": {
    "execution": {
     "iopub.execute_input": "2022-09-14T10:13:18.041723Z",
     "iopub.status.busy": "2022-09-14T10:13:18.039983Z",
     "iopub.status.idle": "2022-09-14T10:13:18.343605Z",
     "shell.execute_reply": "2022-09-14T10:13:18.344162Z"
    },
    "papermill": {
     "duration": 0.360898,
     "end_time": "2022-09-14T10:13:18.344326",
     "exception": false,
     "start_time": "2022-09-14T10:13:17.983428",
     "status": "completed"
    },
    "tags": []
   },
   "outputs": [
    {
     "data": {
      "image/png": "[encoded data removed]",
      "text/plain": [
       "<Figure size 720x648 with 1 Axes>"
      ]
     },
     "metadata": {
      "needs_background": "light"
     },
     "output_type": "display_data"
    }
   ],
   "source": [
    "plt.figure(figsize=(10,9))\n",
    "plt.scatter(testing_plot[:,0], testing_plot[:,1], alpha = 0.1, c = y_test.ravel())\n",
    "contours = plt.contour(x_grid,y_grid,prob_contour)\n",
    "plt.title('Probability Contours')\n",
    "plt.clabel(contours, inline = True );"
   ]
  },
  {
   "cell_type": "code",
   "execution_count": null,
   "id": "e81b4ac7",
   "metadata": {
    "papermill": {
     "duration": 0.051623,
     "end_time": "2022-09-14T10:13:18.447583",
     "exception": false,
     "start_time": "2022-09-14T10:13:18.395960",
     "status": "completed"
    },
    "tags": []
   },
   "outputs": [],
   "source": []
  }
 ],
 "metadata": {
  "kernelspec": {
   "display_name": "Python 3",
   "language": "python",
   "name": "python3"
  },
  "language_info": {
   "codemirror_mode": {
    "name": "ipython",
    "version": 3
   },
   "file_extension": ".py",
   "mimetype": "text/x-python",
   "name": "python",
   "nbconvert_exporter": "python",
   "pygments_lexer": "ipython3",
   "version": "3.6.15"
  },
  "papermill": {
   "default_parameters": {},
   "duration": 113.044754,
   "end_time": "2022-09-14T10:13:18.919375",
   "environment_variables": {},
   "exception": null,
   "input_path": "2020-08-11-part2.ipynb",
   "output_path": "2020-08-11-part2.ipynb",
   "parameters": {},
   "start_time": "2022-09-14T10:11:25.874621",
   "version": "2.3.3"
  }
 },
 "nbformat": 4,
 "nbformat_minor": 5
}