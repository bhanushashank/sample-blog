{
 "cells": [
  {
   "cell_type": "markdown",
   "id": "98380cd3",
   "metadata": {
    "papermill": {
     "duration": 0.028336,
     "end_time": "2021-09-24T10:07:47.737865",
     "exception": false,
     "start_time": "2021-09-24T10:07:47.709529",
     "status": "completed"
    },
    "tags": []
   },
   "source": [
    "# Distinguish Your Own Digits (DYOD)"
   ]
  },
  {
   "cell_type": "markdown",
   "id": "ef31240d",
   "metadata": {
    "papermill": {
     "duration": 0.023119,
     "end_time": "2021-09-24T10:07:47.785122",
     "exception": false,
     "start_time": "2021-09-24T10:07:47.762003",
     "status": "completed"
    },
    "tags": []
   },
   "source": [
    "You are going to write a classifier that distinguishes between the number 3 and number 8."
   ]
  },
  {
   "cell_type": "code",
   "execution_count": 1,
   "id": "b15c8646",
   "metadata": {
    "execution": {
     "iopub.execute_input": "2021-09-24T10:07:47.842239Z",
     "iopub.status.busy": "2021-09-24T10:07:47.839788Z",
     "iopub.status.idle": "2021-09-24T10:07:47.852087Z",
     "shell.execute_reply": "2021-09-24T10:07:47.852571Z"
    },
    "papermill": {
     "duration": 0.044444,
     "end_time": "2021-09-24T10:07:47.852704",
     "exception": false,
     "start_time": "2021-09-24T10:07:47.808260",
     "status": "completed"
    },
    "tags": []
   },
   "outputs": [],
   "source": [
    "%load_ext autoreload\n",
    "%autoreload 2"
   ]
  },
  {
   "cell_type": "code",
   "execution_count": 2,
   "id": "22ef38dc",
   "metadata": {
    "execution": {
     "iopub.execute_input": "2021-09-24T10:07:47.913508Z",
     "iopub.status.busy": "2021-09-24T10:07:47.910610Z",
     "iopub.status.idle": "2021-09-24T10:07:48.400542Z",
     "shell.execute_reply": "2021-09-24T10:07:48.399989Z"
    },
    "papermill": {
     "duration": 0.524684,
     "end_time": "2021-09-24T10:07:48.400677",
     "exception": false,
     "start_time": "2021-09-24T10:07:47.875993",
     "status": "completed"
    },
    "tags": []
   },
   "outputs": [],
   "source": [
    "%matplotlib inline\n",
    "import numpy as np\n",
    "import matplotlib.pyplot as plt\n",
    "import pandas as pd"
   ]
  },
  {
   "cell_type": "markdown",
   "id": "ba036198",
   "metadata": {
    "papermill": {
     "duration": 0.023403,
     "end_time": "2021-09-24T10:07:48.448061",
     "exception": false,
     "start_time": "2021-09-24T10:07:48.424658",
     "status": "completed"
    },
    "tags": []
   },
   "source": [
    "From the command line run `pip install mnist`. This is a library that will help you bring down the mnist dataset. If you run this from a notebook, you need to put  `!pip install mnist` in a cell by itself."
   ]
  },
  {
   "cell_type": "code",
   "execution_count": 3,
   "id": "bb6ad8a1",
   "metadata": {
    "execution": {
     "iopub.execute_input": "2021-09-24T10:07:48.498618Z",
     "iopub.status.busy": "2021-09-24T10:07:48.498108Z",
     "iopub.status.idle": "2021-09-24T10:07:50.139275Z",
     "shell.execute_reply": "2021-09-24T10:07:50.138484Z"
    },
    "papermill": {
     "duration": 1.667947,
     "end_time": "2021-09-24T10:07:50.139400",
     "exception": false,
     "start_time": "2021-09-24T10:07:48.471453",
     "status": "completed"
    },
    "tags": []
   },
   "outputs": [
    {
     "name": "stdout",
     "output_type": "stream",
     "text": [
      "Collecting mnist\r\n"
     ]
    },
    {
     "name": "stdout",
     "output_type": "stream",
     "text": [
      "  Downloading mnist-0.2.2-py2.py3-none-any.whl (3.5 kB)\r\n",
      "Requirement already satisfied: numpy in /opt/hostedtoolcache/Python/3.6.15/x64/lib/python3.6/site-packages (from mnist) (1.19.5)\r\n"
     ]
    },
    {
     "name": "stdout",
     "output_type": "stream",
     "text": [
      "Installing collected packages: mnist\r\n"
     ]
    },
    {
     "name": "stdout",
     "output_type": "stream",
     "text": [
      "Successfully installed mnist-0.2.2\r\n"
     ]
    }
   ],
   "source": [
    "!pip install mnist"
   ]
  },
  {
   "cell_type": "markdown",
   "id": "69df9c9a",
   "metadata": {
    "papermill": {
     "duration": 0.024512,
     "end_time": "2021-09-24T10:07:50.188813",
     "exception": false,
     "start_time": "2021-09-24T10:07:50.164301",
     "status": "completed"
    },
    "tags": []
   },
   "source": [
    "## Preparing the Data"
   ]
  },
  {
   "cell_type": "code",
   "execution_count": 4,
   "id": "7f69d806",
   "metadata": {
    "execution": {
     "iopub.execute_input": "2021-09-24T10:07:50.252642Z",
     "iopub.status.busy": "2021-09-24T10:07:50.244645Z",
     "iopub.status.idle": "2021-09-24T10:07:50.255813Z",
     "shell.execute_reply": "2021-09-24T10:07:50.255366Z"
    },
    "papermill": {
     "duration": 0.04278,
     "end_time": "2021-09-24T10:07:50.255913",
     "exception": false,
     "start_time": "2021-09-24T10:07:50.213133",
     "status": "completed"
    },
    "tags": []
   },
   "outputs": [],
   "source": [
    "import mnist"
   ]
  },
  {
   "cell_type": "code",
   "execution_count": 5,
   "id": "a411e44f",
   "metadata": {
    "execution": {
     "iopub.execute_input": "2021-09-24T10:07:50.315070Z",
     "iopub.status.busy": "2021-09-24T10:07:50.314576Z",
     "iopub.status.idle": "2021-09-24T10:07:50.925387Z",
     "shell.execute_reply": "2021-09-24T10:07:50.924870Z"
    },
    "papermill": {
     "duration": 0.64508,
     "end_time": "2021-09-24T10:07:50.925524",
     "exception": false,
     "start_time": "2021-09-24T10:07:50.280444",
     "status": "completed"
    },
    "tags": []
   },
   "outputs": [],
   "source": [
    "train_images = mnist.train_images()\n",
    "train_labels = mnist.train_labels()"
   ]
  },
  {
   "cell_type": "code",
   "execution_count": 6,
   "id": "dceab3a5",
   "metadata": {
    "execution": {
     "iopub.execute_input": "2021-09-24T10:07:50.993976Z",
     "iopub.status.busy": "2021-09-24T10:07:50.989258Z",
     "iopub.status.idle": "2021-09-24T10:07:50.996911Z",
     "shell.execute_reply": "2021-09-24T10:07:50.996481Z"
    },
    "papermill": {
     "duration": 0.045856,
     "end_time": "2021-09-24T10:07:50.997015",
     "exception": false,
     "start_time": "2021-09-24T10:07:50.951159",
     "status": "completed"
    },
    "tags": []
   },
   "outputs": [
    {
     "data": {
      "text/plain": [
       "((60000, 28, 28), (60000,))"
      ]
     },
     "execution_count": 6,
     "metadata": {},
     "output_type": "execute_result"
    }
   ],
   "source": [
    "train_images.shape, train_labels.shape"
   ]
  },
  {
   "cell_type": "code",
   "execution_count": 7,
   "id": "f50dc2bb",
   "metadata": {
    "execution": {
     "iopub.execute_input": "2021-09-24T10:07:51.052716Z",
     "iopub.status.busy": "2021-09-24T10:07:51.052222Z",
     "iopub.status.idle": "2021-09-24T10:07:51.264059Z",
     "shell.execute_reply": "2021-09-24T10:07:51.263482Z"
    },
    "papermill": {
     "duration": 0.24217,
     "end_time": "2021-09-24T10:07:51.264200",
     "exception": false,
     "start_time": "2021-09-24T10:07:51.022030",
     "status": "completed"
    },
    "tags": []
   },
   "outputs": [],
   "source": [
    "test_images = mnist.test_images()\n",
    "test_labels = mnist.test_labels()"
   ]
  },
  {
   "cell_type": "code",
   "execution_count": 8,
   "id": "fc38cf1b",
   "metadata": {
    "execution": {
     "iopub.execute_input": "2021-09-24T10:07:51.326175Z",
     "iopub.status.busy": "2021-09-24T10:07:51.325672Z",
     "iopub.status.idle": "2021-09-24T10:07:51.332693Z",
     "shell.execute_reply": "2021-09-24T10:07:51.332261Z"
    },
    "papermill": {
     "duration": 0.043229,
     "end_time": "2021-09-24T10:07:51.332798",
     "exception": false,
     "start_time": "2021-09-24T10:07:51.289569",
     "status": "completed"
    },
    "tags": []
   },
   "outputs": [
    {
     "data": {
      "text/plain": [
       "((10000, 28, 28), (10000,))"
      ]
     },
     "execution_count": 8,
     "metadata": {},
     "output_type": "execute_result"
    }
   ],
   "source": [
    "test_images.shape, test_labels.shape"
   ]
  },
  {
   "cell_type": "code",
   "execution_count": 9,
   "id": "f9ed8fe0",
   "metadata": {
    "execution": {
     "iopub.execute_input": "2021-09-24T10:07:51.389745Z",
     "iopub.status.busy": "2021-09-24T10:07:51.389251Z",
     "iopub.status.idle": "2021-09-24T10:07:51.523087Z",
     "shell.execute_reply": "2021-09-24T10:07:51.523549Z"
    },
    "papermill": {
     "duration": 0.166106,
     "end_time": "2021-09-24T10:07:51.523690",
     "exception": false,
     "start_time": "2021-09-24T10:07:51.357584",
     "status": "completed"
    },
    "tags": []
   },
   "outputs": [
    {
     "name": "stdout",
     "output_type": "stream",
     "text": [
      "2\n"
     ]
    },
    {
     "data": {
      "text/plain": [
       "<matplotlib.image.AxesImage at 0x7fef916e6898>"
      ]
     },
     "execution_count": 9,
     "metadata": {},
     "output_type": "execute_result"
    },
    {
     "data": {
      "image/png": "[encoded data removed]",
      "text/plain": [
       "<Figure size 432x288 with 1 Axes>"
      ]
     },
     "metadata": {
      "needs_background": "light"
     },
     "output_type": "display_data"
    }
   ],
   "source": [
    "image_index = 7776 # You may select anything up to 60,000\n",
    "print(train_labels[image_index]) \n",
    "plt.imshow(train_images[image_index], cmap='Greys')"
   ]
  },
  {
   "cell_type": "markdown",
   "id": "a8d2388d",
   "metadata": {
    "papermill": {
     "duration": 0.025795,
     "end_time": "2021-09-24T10:07:51.579113",
     "exception": false,
     "start_time": "2021-09-24T10:07:51.553318",
     "status": "completed"
    },
    "tags": []
   },
   "source": [
    "## Filter data to get 3 and 8 out"
   ]
  },
  {
   "cell_type": "code",
   "execution_count": 10,
   "id": "776f7fc7",
   "metadata": {
    "execution": {
     "iopub.execute_input": "2021-09-24T10:07:51.650433Z",
     "iopub.status.busy": "2021-09-24T10:07:51.649917Z",
     "iopub.status.idle": "2021-09-24T10:07:51.659076Z",
     "shell.execute_reply": "2021-09-24T10:07:51.658650Z"
    },
    "papermill": {
     "duration": 0.054266,
     "end_time": "2021-09-24T10:07:51.659179",
     "exception": false,
     "start_time": "2021-09-24T10:07:51.604913",
     "status": "completed"
    },
    "tags": []
   },
   "outputs": [],
   "source": [
    "train_filter = np.where((train_labels == 3 ) | (train_labels == 8))\n",
    "test_filter = np.where((test_labels == 3) | (test_labels == 8))\n",
    "X_train, y_train = train_images[train_filter], train_labels[train_filter]\n",
    "X_test, y_test = test_images[test_filter], test_labels[test_filter]"
   ]
  },
  {
   "cell_type": "markdown",
   "id": "948f0b7e",
   "metadata": {
    "papermill": {
     "duration": 0.025652,
     "end_time": "2021-09-24T10:07:51.710769",
     "exception": false,
     "start_time": "2021-09-24T10:07:51.685117",
     "status": "completed"
    },
    "tags": []
   },
   "source": [
    "We normalize the pizel values in the 0 to 1 range"
   ]
  },
  {
   "cell_type": "code",
   "execution_count": 11,
   "id": "ee4c2166",
   "metadata": {
    "execution": {
     "iopub.execute_input": "2021-09-24T10:07:51.781025Z",
     "iopub.status.busy": "2021-09-24T10:07:51.776098Z",
     "iopub.status.idle": "2021-09-24T10:07:51.817083Z",
     "shell.execute_reply": "2021-09-24T10:07:51.816240Z"
    },
    "papermill": {
     "duration": 0.080742,
     "end_time": "2021-09-24T10:07:51.817207",
     "exception": false,
     "start_time": "2021-09-24T10:07:51.736465",
     "status": "completed"
    },
    "tags": []
   },
   "outputs": [],
   "source": [
    "X_train = X_train/255.\n",
    "X_test = X_test/255."
   ]
  },
  {
   "cell_type": "markdown",
   "id": "ddcf4fab",
   "metadata": {
    "papermill": {
     "duration": 0.025832,
     "end_time": "2021-09-24T10:07:51.871261",
     "exception": false,
     "start_time": "2021-09-24T10:07:51.845429",
     "status": "completed"
    },
    "tags": []
   },
   "source": [
    "And setup the labels as 1 (when the digit is 3) and 0 (when the digit is 8)"
   ]
  },
  {
   "cell_type": "code",
   "execution_count": 12,
   "id": "7dc908f2",
   "metadata": {
    "execution": {
     "iopub.execute_input": "2021-09-24T10:07:51.929089Z",
     "iopub.status.busy": "2021-09-24T10:07:51.925784Z",
     "iopub.status.idle": "2021-09-24T10:07:51.937392Z",
     "shell.execute_reply": "2021-09-24T10:07:51.936963Z"
    },
    "papermill": {
     "duration": 0.04047,
     "end_time": "2021-09-24T10:07:51.937495",
     "exception": false,
     "start_time": "2021-09-24T10:07:51.897025",
     "status": "completed"
    },
    "tags": []
   },
   "outputs": [],
   "source": [
    "y_train = 1*(y_train==3)\n",
    "y_test = 1*(y_test==3)"
   ]
  },
  {
   "cell_type": "code",
   "execution_count": 13,
   "id": "01e4e969",
   "metadata": {
    "execution": {
     "iopub.execute_input": "2021-09-24T10:07:51.997099Z",
     "iopub.status.busy": "2021-09-24T10:07:51.996608Z",
     "iopub.status.idle": "2021-09-24T10:07:52.007593Z",
     "shell.execute_reply": "2021-09-24T10:07:52.007170Z"
    },
    "papermill": {
     "duration": 0.044278,
     "end_time": "2021-09-24T10:07:52.007692",
     "exception": false,
     "start_time": "2021-09-24T10:07:51.963414",
     "status": "completed"
    },
    "tags": []
   },
   "outputs": [
    {
     "data": {
      "text/plain": [
       "((11982, 28, 28), (1984, 28, 28))"
      ]
     },
     "execution_count": 13,
     "metadata": {},
     "output_type": "execute_result"
    }
   ],
   "source": [
    "X_train.shape, X_test.shape"
   ]
  },
  {
   "cell_type": "markdown",
   "id": "5ccf3f85",
   "metadata": {
    "papermill": {
     "duration": 0.026002,
     "end_time": "2021-09-24T10:07:52.059851",
     "exception": false,
     "start_time": "2021-09-24T10:07:52.033849",
     "status": "completed"
    },
    "tags": []
   },
   "source": [
    "We reshape the data to flatten the image pixels into a set of features or co-variates:"
   ]
  },
  {
   "cell_type": "code",
   "execution_count": 14,
   "id": "5286a4a3",
   "metadata": {
    "execution": {
     "iopub.execute_input": "2021-09-24T10:07:52.129548Z",
     "iopub.status.busy": "2021-09-24T10:07:52.129039Z",
     "iopub.status.idle": "2021-09-24T10:07:52.132219Z",
     "shell.execute_reply": "2021-09-24T10:07:52.131792Z"
    },
    "papermill": {
     "duration": 0.046341,
     "end_time": "2021-09-24T10:07:52.132327",
     "exception": false,
     "start_time": "2021-09-24T10:07:52.085986",
     "status": "completed"
    },
    "tags": []
   },
   "outputs": [
    {
     "data": {
      "text/plain": [
       "((11982, 784), (1984, 784))"
      ]
     },
     "execution_count": 14,
     "metadata": {},
     "output_type": "execute_result"
    }
   ],
   "source": [
    "X_train = X_train.reshape(X_train.shape[0], -1)\n",
    "X_test = X_test.reshape(X_test.shape[0], -1)\n",
    "X_train.shape, X_test.shape"
   ]
  },
  {
   "cell_type": "code",
   "execution_count": 15,
   "id": "73c5f88a",
   "metadata": {
    "execution": {
     "iopub.execute_input": "2021-09-24T10:07:52.188711Z",
     "iopub.status.busy": "2021-09-24T10:07:52.188197Z",
     "iopub.status.idle": "2021-09-24T10:07:52.206084Z",
     "shell.execute_reply": "2021-09-24T10:07:52.205663Z"
    },
    "papermill": {
     "duration": 0.047559,
     "end_time": "2021-09-24T10:07:52.206184",
     "exception": false,
     "start_time": "2021-09-24T10:07:52.158625",
     "status": "completed"
    },
    "tags": []
   },
   "outputs": [],
   "source": [
    "#Impoting functions from 'Kudzu'\n",
    "from kudzu.model import Model\n",
    "from kudzu.train import Learner\n",
    "from kudzu.optim import GD\n",
    "from kudzu.data import Data, Sampler,Dataloader\n",
    "\n",
    "from kudzu.callbacks import AccCallback\n",
    "from kudzu.callbacks import ClfCallback\n",
    "\n",
    "from kudzu.loss import MSE\n",
    "\n",
    "from kudzu.layer import Sigmoid,Relu\n",
    "from kudzu.layer import Affine"
   ]
  },
  {
   "cell_type": "markdown",
   "id": "bc01172a",
   "metadata": {
    "papermill": {
     "duration": 0.026203,
     "end_time": "2021-09-24T10:07:52.258715",
     "exception": false,
     "start_time": "2021-09-24T10:07:52.232512",
     "status": "completed"
    },
    "tags": []
   },
   "source": [
    "### Let us create a `Config` class, to store important parameters. \n",
    "This class essentially plays the role of a dictionary."
   ]
  },
  {
   "cell_type": "code",
   "execution_count": 16,
   "id": "978281aa",
   "metadata": {
    "execution": {
     "iopub.execute_input": "2021-09-24T10:07:52.326385Z",
     "iopub.status.busy": "2021-09-24T10:07:52.325882Z",
     "iopub.status.idle": "2021-09-24T10:07:52.329157Z",
     "shell.execute_reply": "2021-09-24T10:07:52.328757Z"
    },
    "papermill": {
     "duration": 0.044306,
     "end_time": "2021-09-24T10:07:52.329258",
     "exception": false,
     "start_time": "2021-09-24T10:07:52.284952",
     "status": "completed"
    },
    "tags": []
   },
   "outputs": [],
   "source": [
    "class Config:\n",
    "    pass\n",
    "config = Config()\n",
    "config.lr = 0.001\n",
    "config.num_epochs = 250\n",
    "config.bs = 50"
   ]
  },
  {
   "cell_type": "markdown",
   "id": "1385fa59",
   "metadata": {
    "papermill": {
     "duration": 0.026253,
     "end_time": "2021-09-24T10:07:52.381785",
     "exception": false,
     "start_time": "2021-09-24T10:07:52.355532",
     "status": "completed"
    },
    "tags": []
   },
   "source": [
    "### Running Models with the Training data\n",
    "Details about the network layers:\n",
    "- A first affine layer has 784 inputs and does 100 affine transforms. These are followed by a Relu\n",
    "- A second affine layer has 100 inputs from the 100 activations of the past layer, and does 100 affine transforms. These are followed by a Relu\n",
    "- A third affine layer has 100 activations and does 2 affine transformations to create an embedding for visualization. There is no non-linearity here.\n",
    "- A final \"logistic regression\" which has an affine transform from 2 inputs to 1 output, which is squeezed through a sigmoid.\n"
   ]
  },
  {
   "cell_type": "code",
   "execution_count": 17,
   "id": "2b9c66db",
   "metadata": {
    "execution": {
     "iopub.execute_input": "2021-09-24T10:07:52.444434Z",
     "iopub.status.busy": "2021-09-24T10:07:52.436719Z",
     "iopub.status.idle": "2021-09-24T10:07:52.452389Z",
     "shell.execute_reply": "2021-09-24T10:07:52.451959Z"
    },
    "papermill": {
     "duration": 0.044386,
     "end_time": "2021-09-24T10:07:52.452489",
     "exception": false,
     "start_time": "2021-09-24T10:07:52.408103",
     "status": "completed"
    },
    "tags": []
   },
   "outputs": [],
   "source": [
    "data = Data(X_train, y_train.reshape(-1,1))\n",
    "sampler = Sampler(data, config.bs, shuffle=True)\n",
    "\n",
    "dl = Dataloader(data, sampler)\n",
    "\n",
    "opt = GD(config.lr)\n",
    "loss = MSE()"
   ]
  },
  {
   "cell_type": "code",
   "execution_count": 18,
   "id": "b275e4c2",
   "metadata": {
    "execution": {
     "iopub.execute_input": "2021-09-24T10:07:52.513106Z",
     "iopub.status.busy": "2021-09-24T10:07:52.512602Z",
     "iopub.status.idle": "2021-09-24T10:07:52.521709Z",
     "shell.execute_reply": "2021-09-24T10:07:52.521309Z"
    },
    "papermill": {
     "duration": 0.04301,
     "end_time": "2021-09-24T10:07:52.521810",
     "exception": false,
     "start_time": "2021-09-24T10:07:52.478800",
     "status": "completed"
    },
    "tags": []
   },
   "outputs": [],
   "source": [
    "training_data_x = X_train\n",
    "testing_data_x = X_test\n",
    "training_data_y = y_train.reshape(-1,1)\n",
    "testing_data_y = y_test.reshape(-1,1)"
   ]
  },
  {
   "cell_type": "code",
   "execution_count": 19,
   "id": "76951160",
   "metadata": {
    "execution": {
     "iopub.execute_input": "2021-09-24T10:07:52.580042Z",
     "iopub.status.busy": "2021-09-24T10:07:52.579514Z",
     "iopub.status.idle": "2021-09-24T10:07:52.594909Z",
     "shell.execute_reply": "2021-09-24T10:07:52.595290Z"
    },
    "papermill": {
     "duration": 0.047381,
     "end_time": "2021-09-24T10:07:52.595403",
     "exception": false,
     "start_time": "2021-09-24T10:07:52.548022",
     "status": "completed"
    },
    "tags": []
   },
   "outputs": [
    {
     "name": "stdout",
     "output_type": "stream",
     "text": [
      "xavier\n",
      "xavier\n",
      "xavier\n",
      "xavier\n",
      "xavier\n"
     ]
    }
   ],
   "source": [
    "layers = [Affine(\"first\", 784, 100), Relu(\"first\"), Affine(\"second\", 100, 100), Relu(\"second\"), Affine(\"third\", 100, 2), Affine(\"last\", 2, 1), Sigmoid(\"last\")]\n",
    "model_nn = Model(layers)\n",
    "model_lr = Model([Affine(\"logits\", 784, 1), Sigmoid(\"sigmoid\")])"
   ]
  },
  {
   "cell_type": "code",
   "execution_count": 20,
   "id": "6eede77a",
   "metadata": {
    "execution": {
     "iopub.execute_input": "2021-09-24T10:07:52.660745Z",
     "iopub.status.busy": "2021-09-24T10:07:52.657426Z",
     "iopub.status.idle": "2021-09-24T10:07:52.666740Z",
     "shell.execute_reply": "2021-09-24T10:07:52.666343Z"
    },
    "papermill": {
     "duration": 0.043402,
     "end_time": "2021-09-24T10:07:52.666840",
     "exception": false,
     "start_time": "2021-09-24T10:07:52.623438",
     "status": "completed"
    },
    "tags": []
   },
   "outputs": [],
   "source": [
    "nn_learner = Learner(loss, model_nn, opt, config.num_epochs)\n",
    "acc_nn = ClfCallback(nn_learner, config.bs, training_data_x , testing_data_x, training_data_y, testing_data_y)\n",
    "nn_learner.set_callbacks([acc_nn])"
   ]
  },
  {
   "cell_type": "code",
   "execution_count": 21,
   "id": "877b6cc7",
   "metadata": {
    "execution": {
     "iopub.execute_input": "2021-09-24T10:07:52.722941Z",
     "iopub.status.busy": "2021-09-24T10:07:52.722449Z",
     "iopub.status.idle": "2021-09-24T10:07:52.734489Z",
     "shell.execute_reply": "2021-09-24T10:07:52.734865Z"
    },
    "papermill": {
     "duration": 0.041676,
     "end_time": "2021-09-24T10:07:52.734976",
     "exception": false,
     "start_time": "2021-09-24T10:07:52.693300",
     "status": "completed"
    },
    "tags": []
   },
   "outputs": [],
   "source": [
    "lr_learner = Learner(loss, model_lr, opt, config.num_epochs)\n",
    "acc_lr = ClfCallback(lr_learner, config.bs, training_data_x , testing_data_x, training_data_y, testing_data_y)\n",
    "lr_learner.set_callbacks([acc_lr])"
   ]
  },
  {
   "cell_type": "code",
   "execution_count": 22,
   "id": "d9b133c3",
   "metadata": {
    "execution": {
     "iopub.execute_input": "2021-09-24T10:07:52.802612Z",
     "iopub.status.busy": "2021-09-24T10:07:52.799042Z",
     "iopub.status.idle": "2021-09-24T10:09:07.343237Z",
     "shell.execute_reply": "2021-09-24T10:09:07.343990Z"
    },
    "papermill": {
     "duration": 74.582562,
     "end_time": "2021-09-24T10:09:07.344141",
     "exception": false,
     "start_time": "2021-09-24T10:07:52.761579",
     "status": "completed"
    },
    "tags": []
   },
   "outputs": [
    {
     "name": "stdout",
     "output_type": "stream",
     "text": [
      "Epoch 0, Loss 0.2508\n",
      "Training Accuracy: 0.4816, Testing Accuracy: 0.4672\n",
      "\n"
     ]
    },
    {
     "name": "stdout",
     "output_type": "stream",
     "text": [
      "Epoch 10, Loss 0.2406\n",
      "Training Accuracy: 0.7733, Testing Accuracy: 0.7636\n",
      "\n"
     ]
    },
    {
     "name": "stdout",
     "output_type": "stream",
     "text": [
      "Epoch 20, Loss 0.1908\n",
      "Training Accuracy: 0.8852, Testing Accuracy: 0.8901\n",
      "\n"
     ]
    },
    {
     "name": "stdout",
     "output_type": "stream",
     "text": [
      "Epoch 30, Loss 0.0929\n",
      "Training Accuracy: 0.9150, Testing Accuracy: 0.9289\n",
      "\n"
     ]
    },
    {
     "name": "stdout",
     "output_type": "stream",
     "text": [
      "Epoch 40, Loss 0.0588\n",
      "Training Accuracy: 0.9385, Testing Accuracy: 0.9481\n",
      "\n"
     ]
    },
    {
     "name": "stdout",
     "output_type": "stream",
     "text": [
      "Epoch 50, Loss 0.0455\n",
      "Training Accuracy: 0.9497, Testing Accuracy: 0.9602\n",
      "\n"
     ]
    },
    {
     "name": "stdout",
     "output_type": "stream",
     "text": [
      "Epoch 60, Loss 0.0389\n",
      "Training Accuracy: 0.9559, Testing Accuracy: 0.9652\n",
      "\n"
     ]
    },
    {
     "name": "stdout",
     "output_type": "stream",
     "text": [
      "Epoch 70, Loss 0.035\n",
      "Training Accuracy: 0.9604, Testing Accuracy: 0.9662\n",
      "\n"
     ]
    },
    {
     "name": "stdout",
     "output_type": "stream",
     "text": [
      "Epoch 80, Loss 0.0324\n",
      "Training Accuracy: 0.9630, Testing Accuracy: 0.9693\n",
      "\n"
     ]
    },
    {
     "name": "stdout",
     "output_type": "stream",
     "text": [
      "Epoch 90, Loss 0.0306\n",
      "Training Accuracy: 0.9649, Testing Accuracy: 0.9693\n",
      "\n"
     ]
    },
    {
     "name": "stdout",
     "output_type": "stream",
     "text": [
      "Epoch 100, Loss 0.0291\n",
      "Training Accuracy: 0.9663, Testing Accuracy: 0.9703\n",
      "\n"
     ]
    },
    {
     "name": "stdout",
     "output_type": "stream",
     "text": [
      "Epoch 110, Loss 0.028\n",
      "Training Accuracy: 0.9681, Testing Accuracy: 0.9703\n",
      "\n"
     ]
    },
    {
     "name": "stdout",
     "output_type": "stream",
     "text": [
      "Epoch 120, Loss 0.027\n",
      "Training Accuracy: 0.9691, Testing Accuracy: 0.9708\n",
      "\n"
     ]
    },
    {
     "name": "stdout",
     "output_type": "stream",
     "text": [
      "Epoch 130, Loss 0.0261\n",
      "Training Accuracy: 0.9703, Testing Accuracy: 0.9708\n",
      "\n"
     ]
    },
    {
     "name": "stdout",
     "output_type": "stream",
     "text": [
      "Epoch 140, Loss 0.0254\n",
      "Training Accuracy: 0.9715, Testing Accuracy: 0.9718\n",
      "\n"
     ]
    },
    {
     "name": "stdout",
     "output_type": "stream",
     "text": [
      "Epoch 150, Loss 0.0247\n",
      "Training Accuracy: 0.9723, Testing Accuracy: 0.9713\n",
      "\n"
     ]
    },
    {
     "name": "stdout",
     "output_type": "stream",
     "text": [
      "Epoch 160, Loss 0.0241\n",
      "Training Accuracy: 0.9732, Testing Accuracy: 0.9713\n",
      "\n"
     ]
    },
    {
     "name": "stdout",
     "output_type": "stream",
     "text": [
      "Epoch 170, Loss 0.0235\n",
      "Training Accuracy: 0.9736, Testing Accuracy: 0.9718\n",
      "\n"
     ]
    },
    {
     "name": "stdout",
     "output_type": "stream",
     "text": [
      "Epoch 180, Loss 0.023\n",
      "Training Accuracy: 0.9745, Testing Accuracy: 0.9718\n",
      "\n"
     ]
    },
    {
     "name": "stdout",
     "output_type": "stream",
     "text": [
      "Epoch 190, Loss 0.0225\n",
      "Training Accuracy: 0.9750, Testing Accuracy: 0.9718\n",
      "\n"
     ]
    },
    {
     "name": "stdout",
     "output_type": "stream",
     "text": [
      "Epoch 200, Loss 0.022\n",
      "Training Accuracy: 0.9755, Testing Accuracy: 0.9733\n",
      "\n"
     ]
    },
    {
     "name": "stdout",
     "output_type": "stream",
     "text": [
      "Epoch 210, Loss 0.0215\n",
      "Training Accuracy: 0.9760, Testing Accuracy: 0.9743\n",
      "\n"
     ]
    },
    {
     "name": "stdout",
     "output_type": "stream",
     "text": [
      "Epoch 220, Loss 0.0211\n",
      "Training Accuracy: 0.9764, Testing Accuracy: 0.9743\n",
      "\n"
     ]
    },
    {
     "name": "stdout",
     "output_type": "stream",
     "text": [
      "Epoch 230, Loss 0.0207\n",
      "Training Accuracy: 0.9765, Testing Accuracy: 0.9743\n",
      "\n"
     ]
    },
    {
     "name": "stdout",
     "output_type": "stream",
     "text": [
      "Epoch 240, Loss 0.0203\n",
      "Training Accuracy: 0.9768, Testing Accuracy: 0.9753\n",
      "\n"
     ]
    },
    {
     "data": {
      "text/plain": [
       "0.010009645572450251"
      ]
     },
     "execution_count": 22,
     "metadata": {},
     "output_type": "execute_result"
    }
   ],
   "source": [
    "nn_learner.train_loop(dl)"
   ]
  },
  {
   "cell_type": "code",
   "execution_count": 23,
   "id": "e0163366",
   "metadata": {
    "execution": {
     "iopub.execute_input": "2021-09-24T10:09:07.421205Z",
     "iopub.status.busy": "2021-09-24T10:09:07.420705Z",
     "iopub.status.idle": "2021-09-24T10:09:20.448937Z",
     "shell.execute_reply": "2021-09-24T10:09:20.449660Z"
    },
    "papermill": {
     "duration": 13.071969,
     "end_time": "2021-09-24T10:09:20.449807",
     "exception": false,
     "start_time": "2021-09-24T10:09:07.377838",
     "status": "completed"
    },
    "tags": []
   },
   "outputs": [
    {
     "name": "stdout",
     "output_type": "stream",
     "text": [
      "Epoch 0, Loss 0.2402\n",
      "Training Accuracy: 0.7049, Testing Accuracy: 0.7419\n",
      "\n"
     ]
    },
    {
     "name": "stdout",
     "output_type": "stream",
     "text": [
      "Epoch 10, Loss 0.1027\n",
      "Training Accuracy: 0.9099, Testing Accuracy: 0.9189\n",
      "\n"
     ]
    },
    {
     "name": "stdout",
     "output_type": "stream",
     "text": [
      "Epoch 20, Loss 0.0799\n",
      "Training Accuracy: 0.9252, Testing Accuracy: 0.9350\n",
      "\n"
     ]
    },
    {
     "name": "stdout",
     "output_type": "stream",
     "text": [
      "Epoch 30, Loss 0.0691\n",
      "Training Accuracy: 0.9329, Testing Accuracy: 0.9486\n",
      "\n"
     ]
    },
    {
     "name": "stdout",
     "output_type": "stream",
     "text": [
      "Epoch 40, Loss 0.0626\n",
      "Training Accuracy: 0.9381, Testing Accuracy: 0.9536\n",
      "\n"
     ]
    },
    {
     "name": "stdout",
     "output_type": "stream",
     "text": [
      "Epoch 50, Loss 0.0581\n",
      "Training Accuracy: 0.9419, Testing Accuracy: 0.9546\n",
      "\n"
     ]
    },
    {
     "name": "stdout",
     "output_type": "stream",
     "text": [
      "Epoch 60, Loss 0.0548\n",
      "Training Accuracy: 0.9445, Testing Accuracy: 0.9556\n",
      "\n"
     ]
    },
    {
     "name": "stdout",
     "output_type": "stream",
     "text": [
      "Epoch 70, Loss 0.0522\n",
      "Training Accuracy: 0.9473, Testing Accuracy: 0.9556\n",
      "\n"
     ]
    },
    {
     "name": "stdout",
     "output_type": "stream",
     "text": [
      "Epoch 80, Loss 0.0501\n",
      "Training Accuracy: 0.9498, Testing Accuracy: 0.9577\n",
      "\n"
     ]
    },
    {
     "name": "stdout",
     "output_type": "stream",
     "text": [
      "Epoch 90, Loss 0.0484\n",
      "Training Accuracy: 0.9511, Testing Accuracy: 0.9582\n",
      "\n"
     ]
    },
    {
     "name": "stdout",
     "output_type": "stream",
     "text": [
      "Epoch 100, Loss 0.047\n",
      "Training Accuracy: 0.9527, Testing Accuracy: 0.9587\n",
      "\n"
     ]
    },
    {
     "name": "stdout",
     "output_type": "stream",
     "text": [
      "Epoch 110, Loss 0.0457\n",
      "Training Accuracy: 0.9535, Testing Accuracy: 0.9592\n",
      "\n"
     ]
    },
    {
     "name": "stdout",
     "output_type": "stream",
     "text": [
      "Epoch 120, Loss 0.0446\n",
      "Training Accuracy: 0.9539, Testing Accuracy: 0.9602\n",
      "\n"
     ]
    },
    {
     "name": "stdout",
     "output_type": "stream",
     "text": [
      "Epoch 130, Loss 0.0436\n",
      "Training Accuracy: 0.9546, Testing Accuracy: 0.9607\n",
      "\n"
     ]
    },
    {
     "name": "stdout",
     "output_type": "stream",
     "text": [
      "Epoch 140, Loss 0.0428\n",
      "Training Accuracy: 0.9552, Testing Accuracy: 0.9612\n",
      "\n"
     ]
    },
    {
     "name": "stdout",
     "output_type": "stream",
     "text": [
      "Epoch 150, Loss 0.042\n",
      "Training Accuracy: 0.9559, Testing Accuracy: 0.9622\n",
      "\n"
     ]
    },
    {
     "name": "stdout",
     "output_type": "stream",
     "text": [
      "Epoch 160, Loss 0.0413\n",
      "Training Accuracy: 0.9568, Testing Accuracy: 0.9637\n",
      "\n"
     ]
    },
    {
     "name": "stdout",
     "output_type": "stream",
     "text": [
      "Epoch 170, Loss 0.0407\n",
      "Training Accuracy: 0.9577, Testing Accuracy: 0.9637\n",
      "\n"
     ]
    },
    {
     "name": "stdout",
     "output_type": "stream",
     "text": [
      "Epoch 180, Loss 0.0401\n",
      "Training Accuracy: 0.9579, Testing Accuracy: 0.9642\n",
      "\n"
     ]
    },
    {
     "name": "stdout",
     "output_type": "stream",
     "text": [
      "Epoch 190, Loss 0.0396\n",
      "Training Accuracy: 0.9583, Testing Accuracy: 0.9642\n",
      "\n"
     ]
    },
    {
     "name": "stdout",
     "output_type": "stream",
     "text": [
      "Epoch 200, Loss 0.0391\n",
      "Training Accuracy: 0.9587, Testing Accuracy: 0.9652\n",
      "\n"
     ]
    },
    {
     "name": "stdout",
     "output_type": "stream",
     "text": [
      "Epoch 210, Loss 0.0386\n",
      "Training Accuracy: 0.9592, Testing Accuracy: 0.9652\n",
      "\n"
     ]
    },
    {
     "name": "stdout",
     "output_type": "stream",
     "text": [
      "Epoch 220, Loss 0.0382\n",
      "Training Accuracy: 0.9594, Testing Accuracy: 0.9652\n",
      "\n"
     ]
    },
    {
     "name": "stdout",
     "output_type": "stream",
     "text": [
      "Epoch 230, Loss 0.0378\n",
      "Training Accuracy: 0.9600, Testing Accuracy: 0.9652\n",
      "\n"
     ]
    },
    {
     "name": "stdout",
     "output_type": "stream",
     "text": [
      "Epoch 240, Loss 0.0374\n",
      "Training Accuracy: 0.9605, Testing Accuracy: 0.9652\n",
      "\n"
     ]
    },
    {
     "data": {
      "text/plain": [
       "0.08353418553558613"
      ]
     },
     "execution_count": 23,
     "metadata": {},
     "output_type": "execute_result"
    }
   ],
   "source": [
    "lr_learner.train_loop(dl)"
   ]
  },
  {
   "cell_type": "code",
   "execution_count": 24,
   "id": "ca410940",
   "metadata": {
    "execution": {
     "iopub.execute_input": "2021-09-24T10:09:20.545241Z",
     "iopub.status.busy": "2021-09-24T10:09:20.544738Z",
     "iopub.status.idle": "2021-09-24T10:09:20.759653Z",
     "shell.execute_reply": "2021-09-24T10:09:20.760093Z"
    },
    "papermill": {
     "duration": 0.269768,
     "end_time": "2021-09-24T10:09:20.760232",
     "exception": false,
     "start_time": "2021-09-24T10:09:20.490464",
     "status": "completed"
    },
    "tags": []
   },
   "outputs": [
    {
     "data": {
      "text/plain": [
       "<matplotlib.legend.Legend at 0x7fef91248978>"
      ]
     },
     "execution_count": 24,
     "metadata": {},
     "output_type": "execute_result"
    },
    {
     "data": {
      "image/png": "[encoded data removed]",
      "text/plain": [
       "<Figure size 1080x720 with 1 Axes>"
      ]
     },
     "metadata": {
      "needs_background": "light"
     },
     "output_type": "display_data"
    }
   ],
   "source": [
    "#comparing the results of NN and LR\n",
    "plt.figure(figsize=(15,10))\n",
    "\n",
    "# Neural Network plots\n",
    "plt.plot(acc_nn.accuracies, 'r-', label = \"Training Accuracies - NN\")\n",
    "plt.plot(acc_nn.test_accuracies, 'g-', label = \"Testing Accuracies - NN\")\n",
    "\n",
    "# Logistic Regression plots\n",
    "plt.plot(acc_lr.accuracies, 'k-', label = \"Training Accuracies - LR\")\n",
    "plt.plot(acc_lr.test_accuracies, 'b-', label = \"Testing Accuracies - LR\")\n",
    "plt.legend()"
   ]
  },
  {
   "cell_type": "markdown",
   "id": "80dfb35c",
   "metadata": {
    "papermill": {
     "duration": 0.041141,
     "end_time": "2021-09-24T10:09:20.842957",
     "exception": false,
     "start_time": "2021-09-24T10:09:20.801816",
     "status": "completed"
    },
    "tags": []
   },
   "source": [
    "#### Plotting the outputs of this layer of the NN.\n"
   ]
  },
  {
   "cell_type": "code",
   "execution_count": 25,
   "id": "45eb2ff5",
   "metadata": {
    "execution": {
     "iopub.execute_input": "2021-09-24T10:09:20.931590Z",
     "iopub.status.busy": "2021-09-24T10:09:20.929735Z",
     "iopub.status.idle": "2021-09-24T10:09:20.952025Z",
     "shell.execute_reply": "2021-09-24T10:09:20.952468Z"
    },
    "papermill": {
     "duration": 0.068554,
     "end_time": "2021-09-24T10:09:20.952593",
     "exception": false,
     "start_time": "2021-09-24T10:09:20.884039",
     "status": "completed"
    },
    "tags": []
   },
   "outputs": [],
   "source": [
    "new_model = Model(layers[:-2])\n",
    "testing_plot = new_model(testing_data_x)"
   ]
  },
  {
   "cell_type": "code",
   "execution_count": 26,
   "id": "4c0a5485",
   "metadata": {
    "execution": {
     "iopub.execute_input": "2021-09-24T10:09:21.056870Z",
     "iopub.status.busy": "2021-09-24T10:09:21.050153Z",
     "iopub.status.idle": "2021-09-24T10:09:21.278362Z",
     "shell.execute_reply": "2021-09-24T10:09:21.278777Z"
    },
    "papermill": {
     "duration": 0.276452,
     "end_time": "2021-09-24T10:09:21.278913",
     "exception": false,
     "start_time": "2021-09-24T10:09:21.002461",
     "status": "completed"
    },
    "tags": []
   },
   "outputs": [
    {
     "data": {
      "text/plain": [
       "Text(0.5, 1.0, 'Outputs')"
      ]
     },
     "execution_count": 26,
     "metadata": {},
     "output_type": "execute_result"
    },
    {
     "data": {
      "image/png": "[encoded data removed]",
      "text/plain": [
       "<Figure size 576x504 with 1 Axes>"
      ]
     },
     "metadata": {
      "needs_background": "light"
     },
     "output_type": "display_data"
    }
   ],
   "source": [
    "# Plotting the scatter plot of points and color coding by class\n",
    "plt.figure(figsize=(8,7))\n",
    "plt.scatter(testing_plot[:,0], testing_plot[:,1], alpha = 0.1, c = y_test.ravel());\n",
    "plt.title('Outputs')"
   ]
  },
  {
   "cell_type": "markdown",
   "id": "a74fcf8f",
   "metadata": {
    "papermill": {
     "duration": 0.043686,
     "end_time": "2021-09-24T10:09:21.366673",
     "exception": false,
     "start_time": "2021-09-24T10:09:21.322987",
     "status": "completed"
    },
    "tags": []
   },
   "source": [
    "Probability contours"
   ]
  },
  {
   "cell_type": "code",
   "execution_count": 27,
   "id": "d0afc8e3",
   "metadata": {
    "execution": {
     "iopub.execute_input": "2021-09-24T10:09:21.465094Z",
     "iopub.status.busy": "2021-09-24T10:09:21.464575Z",
     "iopub.status.idle": "2021-09-24T10:09:21.468781Z",
     "shell.execute_reply": "2021-09-24T10:09:21.469187Z"
    },
    "papermill": {
     "duration": 0.058754,
     "end_time": "2021-09-24T10:09:21.469313",
     "exception": false,
     "start_time": "2021-09-24T10:09:21.410559",
     "status": "completed"
    },
    "tags": []
   },
   "outputs": [],
   "source": [
    "model_prob = Model(layers[-2:]) "
   ]
  },
  {
   "cell_type": "code",
   "execution_count": 28,
   "id": "9b96e238",
   "metadata": {
    "execution": {
     "iopub.execute_input": "2021-09-24T10:09:21.586214Z",
     "iopub.status.busy": "2021-09-24T10:09:21.585702Z",
     "iopub.status.idle": "2021-09-24T10:09:21.598951Z",
     "shell.execute_reply": "2021-09-24T10:09:21.599357Z"
    },
    "papermill": {
     "duration": 0.086285,
     "end_time": "2021-09-24T10:09:21.599474",
     "exception": false,
     "start_time": "2021-09-24T10:09:21.513189",
     "status": "completed"
    },
    "tags": []
   },
   "outputs": [],
   "source": [
    "#creating the x and y ranges according to the above generated plot.\n",
    "x_range = np.linspace(-4, 1, 100) \n",
    "y_range = np.linspace(-6, 6, 100) \n",
    "x_grid, y_grid = np.meshgrid(x_range, y_range) # x_grid and y_grig are of size 100 X 100\n",
    "\n",
    "# converting x_grid and y_grid to continuous arrays\n",
    "x_gridflat = np.ravel(x_grid)\n",
    "y_gridflat = np.ravel(y_grid)\n",
    "\n",
    "# The last layer of the current model takes two columns as input. Hence transpose of np.vstack() is required.\n",
    "X = np.vstack((x_gridflat, y_gridflat)).T\n",
    "\n",
    "prob_contour = model_prob(X).reshape(100,100) "
   ]
  },
  {
   "cell_type": "code",
   "execution_count": 29,
   "id": "da72499a",
   "metadata": {
    "execution": {
     "iopub.execute_input": "2021-09-24T10:09:21.704555Z",
     "iopub.status.busy": "2021-09-24T10:09:21.697575Z",
     "iopub.status.idle": "2021-09-24T10:09:21.947565Z",
     "shell.execute_reply": "2021-09-24T10:09:21.947117Z"
    },
    "papermill": {
     "duration": 0.302611,
     "end_time": "2021-09-24T10:09:21.947680",
     "exception": false,
     "start_time": "2021-09-24T10:09:21.645069",
     "status": "completed"
    },
    "tags": []
   },
   "outputs": [
    {
     "data": {
      "image/png": "[encoded data removed]",
      "text/plain": [
       "<Figure size 720x648 with 1 Axes>"
      ]
     },
     "metadata": {
      "needs_background": "light"
     },
     "output_type": "display_data"
    }
   ],
   "source": [
    "plt.figure(figsize=(10,9))\n",
    "plt.scatter(testing_plot[:,0], testing_plot[:,1], alpha = 0.1, c = y_test.ravel())\n",
    "contours = plt.contour(x_grid,y_grid,prob_contour)\n",
    "plt.title('Probability Contours')\n",
    "plt.clabel(contours, inline = True );"
   ]
  },
  {
   "cell_type": "code",
   "execution_count": null,
   "id": "e81b4ac7",
   "metadata": {
    "papermill": {
     "duration": 0.046518,
     "end_time": "2021-09-24T10:09:22.041785",
     "exception": false,
     "start_time": "2021-09-24T10:09:21.995267",
     "status": "completed"
    },
    "tags": []
   },
   "outputs": [],
   "source": []
  }
 ],
 "metadata": {
  "kernelspec": {
   "display_name": "Python 3",
   "language": "python",
   "name": "python3"
  },
  "language_info": {
   "codemirror_mode": {
    "name": "ipython",
    "version": 3
   },
   "file_extension": ".py",
   "mimetype": "text/x-python",
   "name": "python",
   "nbconvert_exporter": "python",
   "pygments_lexer": "ipython3",
   "version": "3.6.15"
  },
  "papermill": {
   "default_parameters": {},
   "duration": 95.749423,
   "end_time": "2021-09-24T10:09:22.496926",
   "environment_variables": {},
   "exception": null,
   "input_path": "2020-08-11-part2.ipynb",
   "output_path": "2020-08-11-part2.ipynb",
   "parameters": {},
   "start_time": "2021-09-24T10:07:46.747503",
   "version": "2.3.3"
  }
 },
 "nbformat": 4,
 "nbformat_minor": 5
}