{
 "cells": [
  {
   "cell_type": "markdown",
   "id": "98380cd3",
   "metadata": {
    "papermill": {
     "duration": 0.037053,
     "end_time": "2022-09-04T20:12:57.447835",
     "exception": false,
     "start_time": "2022-09-04T20:12:57.410782",
     "status": "completed"
    },
    "tags": []
   },
   "source": [
    "# Distinguish Your Own Digits (DYOD)"
   ]
  },
  {
   "cell_type": "markdown",
   "id": "ef31240d",
   "metadata": {
    "papermill": {
     "duration": 0.029983,
     "end_time": "2022-09-04T20:12:57.509762",
     "exception": false,
     "start_time": "2022-09-04T20:12:57.479779",
     "status": "completed"
    },
    "tags": []
   },
   "source": [
    "You are going to write a classifier that distinguishes between the number 3 and number 8."
   ]
  },
  {
   "cell_type": "code",
   "execution_count": 1,
   "id": "b15c8646",
   "metadata": {
    "execution": {
     "iopub.execute_input": "2022-09-04T20:12:57.589461Z",
     "iopub.status.busy": "2022-09-04T20:12:57.588728Z",
     "iopub.status.idle": "2022-09-04T20:12:57.604621Z",
     "shell.execute_reply": "2022-09-04T20:12:57.605259Z"
    },
    "papermill": {
     "duration": 0.061289,
     "end_time": "2022-09-04T20:12:57.605453",
     "exception": false,
     "start_time": "2022-09-04T20:12:57.544164",
     "status": "completed"
    },
    "tags": []
   },
   "outputs": [],
   "source": [
    "%load_ext autoreload\n",
    "%autoreload 2"
   ]
  },
  {
   "cell_type": "code",
   "execution_count": 2,
   "id": "22ef38dc",
   "metadata": {
    "execution": {
     "iopub.execute_input": "2022-09-04T20:12:57.676261Z",
     "iopub.status.busy": "2022-09-04T20:12:57.675556Z",
     "iopub.status.idle": "2022-09-04T20:12:58.349104Z",
     "shell.execute_reply": "2022-09-04T20:12:58.348427Z"
    },
    "papermill": {
     "duration": 0.71018,
     "end_time": "2022-09-04T20:12:58.349244",
     "exception": false,
     "start_time": "2022-09-04T20:12:57.639064",
     "status": "completed"
    },
    "tags": []
   },
   "outputs": [],
   "source": [
    "%matplotlib inline\n",
    "import numpy as np\n",
    "import matplotlib.pyplot as plt\n",
    "import pandas as pd"
   ]
  },
  {
   "cell_type": "markdown",
   "id": "ba036198",
   "metadata": {
    "papermill": {
     "duration": 0.030223,
     "end_time": "2022-09-04T20:12:58.410982",
     "exception": false,
     "start_time": "2022-09-04T20:12:58.380759",
     "status": "completed"
    },
    "tags": []
   },
   "source": [
    "From the command line run `pip install mnist`. This is a library that will help you bring down the mnist dataset. If you run this from a notebook, you need to put  `!pip install mnist` in a cell by itself."
   ]
  },
  {
   "cell_type": "code",
   "execution_count": 3,
   "id": "bb6ad8a1",
   "metadata": {
    "execution": {
     "iopub.execute_input": "2022-09-04T20:12:58.477353Z",
     "iopub.status.busy": "2022-09-04T20:12:58.476489Z",
     "iopub.status.idle": "2022-09-04T20:13:00.474582Z",
     "shell.execute_reply": "2022-09-04T20:13:00.475301Z"
    },
    "papermill": {
     "duration": 2.033827,
     "end_time": "2022-09-04T20:13:00.475634",
     "exception": false,
     "start_time": "2022-09-04T20:12:58.441807",
     "status": "completed"
    },
    "tags": []
   },
   "outputs": [
    {
     "name": "stdout",
     "output_type": "stream",
     "text": [
      "Collecting mnist\r\n"
     ]
    },
    {
     "name": "stdout",
     "output_type": "stream",
     "text": [
      "  Downloading mnist-0.2.2-py2.py3-none-any.whl (3.5 kB)\r\n",
      "Requirement already satisfied: numpy in /opt/hostedtoolcache/Python/3.6.15/x64/lib/python3.6/site-packages (from mnist) (1.19.5)\r\n"
     ]
    },
    {
     "name": "stdout",
     "output_type": "stream",
     "text": [
      "Installing collected packages: mnist\r\n"
     ]
    },
    {
     "name": "stdout",
     "output_type": "stream",
     "text": [
      "Successfully installed mnist-0.2.2\r\n"
     ]
    }
   ],
   "source": [
    "!pip install mnist"
   ]
  },
  {
   "cell_type": "markdown",
   "id": "69df9c9a",
   "metadata": {
    "papermill": {
     "duration": 0.033554,
     "end_time": "2022-09-04T20:13:00.541335",
     "exception": false,
     "start_time": "2022-09-04T20:13:00.507781",
     "status": "completed"
    },
    "tags": []
   },
   "source": [
    "## Preparing the Data"
   ]
  },
  {
   "cell_type": "code",
   "execution_count": 4,
   "id": "7f69d806",
   "metadata": {
    "execution": {
     "iopub.execute_input": "2022-09-04T20:13:00.612857Z",
     "iopub.status.busy": "2022-09-04T20:13:00.609194Z",
     "iopub.status.idle": "2022-09-04T20:13:00.626879Z",
     "shell.execute_reply": "2022-09-04T20:13:00.626016Z"
    },
    "papermill": {
     "duration": 0.05322,
     "end_time": "2022-09-04T20:13:00.626999",
     "exception": false,
     "start_time": "2022-09-04T20:13:00.573779",
     "status": "completed"
    },
    "tags": []
   },
   "outputs": [],
   "source": [
    "import mnist"
   ]
  },
  {
   "cell_type": "code",
   "execution_count": 5,
   "id": "a411e44f",
   "metadata": {
    "execution": {
     "iopub.execute_input": "2022-09-04T20:13:00.693978Z",
     "iopub.status.busy": "2022-09-04T20:13:00.693184Z",
     "iopub.status.idle": "2022-09-04T20:13:01.277438Z",
     "shell.execute_reply": "2022-09-04T20:13:01.276517Z"
    },
    "papermill": {
     "duration": 0.62022,
     "end_time": "2022-09-04T20:13:01.277620",
     "exception": false,
     "start_time": "2022-09-04T20:13:00.657400",
     "status": "completed"
    },
    "tags": []
   },
   "outputs": [],
   "source": [
    "train_images = mnist.train_images()\n",
    "train_labels = mnist.train_labels()"
   ]
  },
  {
   "cell_type": "code",
   "execution_count": 6,
   "id": "dceab3a5",
   "metadata": {
    "execution": {
     "iopub.execute_input": "2022-09-04T20:13:01.347016Z",
     "iopub.status.busy": "2022-09-04T20:13:01.346330Z",
     "iopub.status.idle": "2022-09-04T20:13:01.365531Z",
     "shell.execute_reply": "2022-09-04T20:13:01.364973Z"
    },
    "papermill": {
     "duration": 0.055234,
     "end_time": "2022-09-04T20:13:01.365660",
     "exception": false,
     "start_time": "2022-09-04T20:13:01.310426",
     "status": "completed"
    },
    "tags": []
   },
   "outputs": [
    {
     "data": {
      "text/plain": [
       "((60000, 28, 28), (60000,))"
      ]
     },
     "execution_count": 6,
     "metadata": {},
     "output_type": "execute_result"
    }
   ],
   "source": [
    "train_images.shape, train_labels.shape"
   ]
  },
  {
   "cell_type": "code",
   "execution_count": 7,
   "id": "f50dc2bb",
   "metadata": {
    "execution": {
     "iopub.execute_input": "2022-09-04T20:13:01.438305Z",
     "iopub.status.busy": "2022-09-04T20:13:01.437435Z",
     "iopub.status.idle": "2022-09-04T20:13:01.635977Z",
     "shell.execute_reply": "2022-09-04T20:13:01.635238Z"
    },
    "papermill": {
     "duration": 0.237855,
     "end_time": "2022-09-04T20:13:01.636138",
     "exception": false,
     "start_time": "2022-09-04T20:13:01.398283",
     "status": "completed"
    },
    "tags": []
   },
   "outputs": [],
   "source": [
    "test_images = mnist.test_images()\n",
    "test_labels = mnist.test_labels()"
   ]
  },
  {
   "cell_type": "code",
   "execution_count": 8,
   "id": "fc38cf1b",
   "metadata": {
    "execution": {
     "iopub.execute_input": "2022-09-04T20:13:01.707915Z",
     "iopub.status.busy": "2022-09-04T20:13:01.707160Z",
     "iopub.status.idle": "2022-09-04T20:13:01.724212Z",
     "shell.execute_reply": "2022-09-04T20:13:01.723545Z"
    },
    "papermill": {
     "duration": 0.054318,
     "end_time": "2022-09-04T20:13:01.724341",
     "exception": false,
     "start_time": "2022-09-04T20:13:01.670023",
     "status": "completed"
    },
    "tags": []
   },
   "outputs": [
    {
     "data": {
      "text/plain": [
       "((10000, 28, 28), (10000,))"
      ]
     },
     "execution_count": 8,
     "metadata": {},
     "output_type": "execute_result"
    }
   ],
   "source": [
    "test_images.shape, test_labels.shape"
   ]
  },
  {
   "cell_type": "code",
   "execution_count": 9,
   "id": "f9ed8fe0",
   "metadata": {
    "execution": {
     "iopub.execute_input": "2022-09-04T20:13:01.801637Z",
     "iopub.status.busy": "2022-09-04T20:13:01.800765Z",
     "iopub.status.idle": "2022-09-04T20:13:02.000354Z",
     "shell.execute_reply": "2022-09-04T20:13:02.000917Z"
    },
    "papermill": {
     "duration": 0.243164,
     "end_time": "2022-09-04T20:13:02.001086",
     "exception": false,
     "start_time": "2022-09-04T20:13:01.757922",
     "status": "completed"
    },
    "tags": []
   },
   "outputs": [
    {
     "name": "stdout",
     "output_type": "stream",
     "text": [
      "2\n"
     ]
    },
    {
     "data": {
      "text/plain": [
       "<matplotlib.image.AxesImage at 0x7fbced3adc50>"
      ]
     },
     "execution_count": 9,
     "metadata": {},
     "output_type": "execute_result"
    },
    {
     "data": {
      "image/png": "[encoded data removed]",
      "text/plain": [
       "<Figure size 432x288 with 1 Axes>"
      ]
     },
     "metadata": {
      "needs_background": "light"
     },
     "output_type": "display_data"
    }
   ],
   "source": [
    "image_index = 7776 # You may select anything up to 60,000\n",
    "print(train_labels[image_index]) \n",
    "plt.imshow(train_images[image_index], cmap='Greys')"
   ]
  },
  {
   "cell_type": "markdown",
   "id": "a8d2388d",
   "metadata": {
    "papermill": {
     "duration": 0.03923,
     "end_time": "2022-09-04T20:13:02.074202",
     "exception": false,
     "start_time": "2022-09-04T20:13:02.034972",
     "status": "completed"
    },
    "tags": []
   },
   "source": [
    "## Filter data to get 3 and 8 out"
   ]
  },
  {
   "cell_type": "code",
   "execution_count": 10,
   "id": "776f7fc7",
   "metadata": {
    "execution": {
     "iopub.execute_input": "2022-09-04T20:13:02.154317Z",
     "iopub.status.busy": "2022-09-04T20:13:02.150084Z",
     "iopub.status.idle": "2022-09-04T20:13:02.172543Z",
     "shell.execute_reply": "2022-09-04T20:13:02.171904Z"
    },
    "papermill": {
     "duration": 0.063187,
     "end_time": "2022-09-04T20:13:02.172682",
     "exception": false,
     "start_time": "2022-09-04T20:13:02.109495",
     "status": "completed"
    },
    "tags": []
   },
   "outputs": [],
   "source": [
    "train_filter = np.where((train_labels == 3 ) | (train_labels == 8))\n",
    "test_filter = np.where((test_labels == 3) | (test_labels == 8))\n",
    "X_train, y_train = train_images[train_filter], train_labels[train_filter]\n",
    "X_test, y_test = test_images[test_filter], test_labels[test_filter]"
   ]
  },
  {
   "cell_type": "markdown",
   "id": "948f0b7e",
   "metadata": {
    "papermill": {
     "duration": 0.036128,
     "end_time": "2022-09-04T20:13:02.244759",
     "exception": false,
     "start_time": "2022-09-04T20:13:02.208631",
     "status": "completed"
    },
    "tags": []
   },
   "source": [
    "We normalize the pizel values in the 0 to 1 range"
   ]
  },
  {
   "cell_type": "code",
   "execution_count": 11,
   "id": "ee4c2166",
   "metadata": {
    "execution": {
     "iopub.execute_input": "2022-09-04T20:13:02.322065Z",
     "iopub.status.busy": "2022-09-04T20:13:02.321301Z",
     "iopub.status.idle": "2022-09-04T20:13:02.387460Z",
     "shell.execute_reply": "2022-09-04T20:13:02.386754Z"
    },
    "papermill": {
     "duration": 0.108433,
     "end_time": "2022-09-04T20:13:02.387705",
     "exception": false,
     "start_time": "2022-09-04T20:13:02.279272",
     "status": "completed"
    },
    "tags": []
   },
   "outputs": [],
   "source": [
    "X_train = X_train/255.\n",
    "X_test = X_test/255."
   ]
  },
  {
   "cell_type": "markdown",
   "id": "ddcf4fab",
   "metadata": {
    "papermill": {
     "duration": 0.033951,
     "end_time": "2022-09-04T20:13:02.458121",
     "exception": false,
     "start_time": "2022-09-04T20:13:02.424170",
     "status": "completed"
    },
    "tags": []
   },
   "source": [
    "And setup the labels as 1 (when the digit is 3) and 0 (when the digit is 8)"
   ]
  },
  {
   "cell_type": "code",
   "execution_count": 12,
   "id": "7dc908f2",
   "metadata": {
    "execution": {
     "iopub.execute_input": "2022-09-04T20:13:02.544150Z",
     "iopub.status.busy": "2022-09-04T20:13:02.543351Z",
     "iopub.status.idle": "2022-09-04T20:13:02.558407Z",
     "shell.execute_reply": "2022-09-04T20:13:02.559099Z"
    },
    "papermill": {
     "duration": 0.05871,
     "end_time": "2022-09-04T20:13:02.559258",
     "exception": false,
     "start_time": "2022-09-04T20:13:02.500548",
     "status": "completed"
    },
    "tags": []
   },
   "outputs": [],
   "source": [
    "y_train = 1*(y_train==3)\n",
    "y_test = 1*(y_test==3)"
   ]
  },
  {
   "cell_type": "code",
   "execution_count": 13,
   "id": "01e4e969",
   "metadata": {
    "execution": {
     "iopub.execute_input": "2022-09-04T20:13:02.635379Z",
     "iopub.status.busy": "2022-09-04T20:13:02.634686Z",
     "iopub.status.idle": "2022-09-04T20:13:02.648872Z",
     "shell.execute_reply": "2022-09-04T20:13:02.649526Z"
    },
    "papermill": {
     "duration": 0.055262,
     "end_time": "2022-09-04T20:13:02.649677",
     "exception": false,
     "start_time": "2022-09-04T20:13:02.594415",
     "status": "completed"
    },
    "tags": []
   },
   "outputs": [
    {
     "data": {
      "text/plain": [
       "((11982, 28, 28), (1984, 28, 28))"
      ]
     },
     "execution_count": 13,
     "metadata": {},
     "output_type": "execute_result"
    }
   ],
   "source": [
    "X_train.shape, X_test.shape"
   ]
  },
  {
   "cell_type": "markdown",
   "id": "5ccf3f85",
   "metadata": {
    "papermill": {
     "duration": 0.034138,
     "end_time": "2022-09-04T20:13:02.718120",
     "exception": false,
     "start_time": "2022-09-04T20:13:02.683982",
     "status": "completed"
    },
    "tags": []
   },
   "source": [
    "We reshape the data to flatten the image pixels into a set of features or co-variates:"
   ]
  },
  {
   "cell_type": "code",
   "execution_count": 14,
   "id": "5286a4a3",
   "metadata": {
    "execution": {
     "iopub.execute_input": "2022-09-04T20:13:02.800412Z",
     "iopub.status.busy": "2022-09-04T20:13:02.796446Z",
     "iopub.status.idle": "2022-09-04T20:13:02.811477Z",
     "shell.execute_reply": "2022-09-04T20:13:02.812103Z"
    },
    "papermill": {
     "duration": 0.059108,
     "end_time": "2022-09-04T20:13:02.812263",
     "exception": false,
     "start_time": "2022-09-04T20:13:02.753155",
     "status": "completed"
    },
    "tags": []
   },
   "outputs": [
    {
     "data": {
      "text/plain": [
       "((11982, 784), (1984, 784))"
      ]
     },
     "execution_count": 14,
     "metadata": {},
     "output_type": "execute_result"
    }
   ],
   "source": [
    "X_train = X_train.reshape(X_train.shape[0], -1)\n",
    "X_test = X_test.reshape(X_test.shape[0], -1)\n",
    "X_train.shape, X_test.shape"
   ]
  },
  {
   "cell_type": "code",
   "execution_count": 15,
   "id": "73c5f88a",
   "metadata": {
    "execution": {
     "iopub.execute_input": "2022-09-04T20:13:02.890175Z",
     "iopub.status.busy": "2022-09-04T20:13:02.887059Z",
     "iopub.status.idle": "2022-09-04T20:13:02.911092Z",
     "shell.execute_reply": "2022-09-04T20:13:02.910529Z"
    },
    "papermill": {
     "duration": 0.064858,
     "end_time": "2022-09-04T20:13:02.911220",
     "exception": false,
     "start_time": "2022-09-04T20:13:02.846362",
     "status": "completed"
    },
    "tags": []
   },
   "outputs": [],
   "source": [
    "#Impoting functions from 'Kudzu'\n",
    "from kudzu.model import Model\n",
    "from kudzu.train import Learner\n",
    "from kudzu.optim import GD\n",
    "from kudzu.data import Data, Sampler,Dataloader\n",
    "\n",
    "from kudzu.callbacks import AccCallback\n",
    "from kudzu.callbacks import ClfCallback\n",
    "\n",
    "from kudzu.loss import MSE\n",
    "\n",
    "from kudzu.layer import Sigmoid,Relu\n",
    "from kudzu.layer import Affine"
   ]
  },
  {
   "cell_type": "markdown",
   "id": "bc01172a",
   "metadata": {
    "papermill": {
     "duration": 0.035914,
     "end_time": "2022-09-04T20:13:02.980983",
     "exception": false,
     "start_time": "2022-09-04T20:13:02.945069",
     "status": "completed"
    },
    "tags": []
   },
   "source": [
    "### Let us create a `Config` class, to store important parameters. \n",
    "This class essentially plays the role of a dictionary."
   ]
  },
  {
   "cell_type": "code",
   "execution_count": 16,
   "id": "978281aa",
   "metadata": {
    "execution": {
     "iopub.execute_input": "2022-09-04T20:13:03.061862Z",
     "iopub.status.busy": "2022-09-04T20:13:03.061116Z",
     "iopub.status.idle": "2022-09-04T20:13:03.077739Z",
     "shell.execute_reply": "2022-09-04T20:13:03.078528Z"
    },
    "papermill": {
     "duration": 0.058235,
     "end_time": "2022-09-04T20:13:03.078687",
     "exception": false,
     "start_time": "2022-09-04T20:13:03.020452",
     "status": "completed"
    },
    "tags": []
   },
   "outputs": [],
   "source": [
    "class Config:\n",
    "    pass\n",
    "config = Config()\n",
    "config.lr = 0.001\n",
    "config.num_epochs = 250\n",
    "config.bs = 50"
   ]
  },
  {
   "cell_type": "markdown",
   "id": "1385fa59",
   "metadata": {
    "papermill": {
     "duration": 0.034777,
     "end_time": "2022-09-04T20:13:03.149178",
     "exception": false,
     "start_time": "2022-09-04T20:13:03.114401",
     "status": "completed"
    },
    "tags": []
   },
   "source": [
    "### Running Models with the Training data\n",
    "Details about the network layers:\n",
    "- A first affine layer has 784 inputs and does 100 affine transforms. These are followed by a Relu\n",
    "- A second affine layer has 100 inputs from the 100 activations of the past layer, and does 100 affine transforms. These are followed by a Relu\n",
    "- A third affine layer has 100 activations and does 2 affine transformations to create an embedding for visualization. There is no non-linearity here.\n",
    "- A final \"logistic regression\" which has an affine transform from 2 inputs to 1 output, which is squeezed through a sigmoid.\n"
   ]
  },
  {
   "cell_type": "code",
   "execution_count": 17,
   "id": "2b9c66db",
   "metadata": {
    "execution": {
     "iopub.execute_input": "2022-09-04T20:13:03.234362Z",
     "iopub.status.busy": "2022-09-04T20:13:03.233657Z",
     "iopub.status.idle": "2022-09-04T20:13:03.250830Z",
     "shell.execute_reply": "2022-09-04T20:13:03.250063Z"
    },
    "papermill": {
     "duration": 0.057556,
     "end_time": "2022-09-04T20:13:03.250958",
     "exception": false,
     "start_time": "2022-09-04T20:13:03.193402",
     "status": "completed"
    },
    "tags": []
   },
   "outputs": [],
   "source": [
    "data = Data(X_train, y_train.reshape(-1,1))\n",
    "sampler = Sampler(data, config.bs, shuffle=True)\n",
    "\n",
    "dl = Dataloader(data, sampler)\n",
    "\n",
    "opt = GD(config.lr)\n",
    "loss = MSE()"
   ]
  },
  {
   "cell_type": "code",
   "execution_count": 18,
   "id": "b275e4c2",
   "metadata": {
    "execution": {
     "iopub.execute_input": "2022-09-04T20:13:03.329119Z",
     "iopub.status.busy": "2022-09-04T20:13:03.328345Z",
     "iopub.status.idle": "2022-09-04T20:13:03.342862Z",
     "shell.execute_reply": "2022-09-04T20:13:03.342254Z"
    },
    "papermill": {
     "duration": 0.057268,
     "end_time": "2022-09-04T20:13:03.343083",
     "exception": false,
     "start_time": "2022-09-04T20:13:03.285815",
     "status": "completed"
    },
    "tags": []
   },
   "outputs": [],
   "source": [
    "training_data_x = X_train\n",
    "testing_data_x = X_test\n",
    "training_data_y = y_train.reshape(-1,1)\n",
    "testing_data_y = y_test.reshape(-1,1)"
   ]
  },
  {
   "cell_type": "code",
   "execution_count": 19,
   "id": "76951160",
   "metadata": {
    "execution": {
     "iopub.execute_input": "2022-09-04T20:13:03.425065Z",
     "iopub.status.busy": "2022-09-04T20:13:03.424260Z",
     "iopub.status.idle": "2022-09-04T20:13:03.444054Z",
     "shell.execute_reply": "2022-09-04T20:13:03.444722Z"
    },
    "papermill": {
     "duration": 0.064541,
     "end_time": "2022-09-04T20:13:03.444878",
     "exception": false,
     "start_time": "2022-09-04T20:13:03.380337",
     "status": "completed"
    },
    "tags": []
   },
   "outputs": [
    {
     "name": "stdout",
     "output_type": "stream",
     "text": [
      "xavier\n",
      "xavier\n",
      "xavier\n",
      "xavier\n",
      "xavier\n"
     ]
    }
   ],
   "source": [
    "layers = [Affine(\"first\", 784, 100), Relu(\"first\"), Affine(\"second\", 100, 100), Relu(\"second\"), Affine(\"third\", 100, 2), Affine(\"last\", 2, 1), Sigmoid(\"last\")]\n",
    "model_nn = Model(layers)\n",
    "model_lr = Model([Affine(\"logits\", 784, 1), Sigmoid(\"sigmoid\")])"
   ]
  },
  {
   "cell_type": "code",
   "execution_count": 20,
   "id": "6eede77a",
   "metadata": {
    "execution": {
     "iopub.execute_input": "2022-09-04T20:13:03.528333Z",
     "iopub.status.busy": "2022-09-04T20:13:03.527560Z",
     "iopub.status.idle": "2022-09-04T20:13:03.544103Z",
     "shell.execute_reply": "2022-09-04T20:13:03.543356Z"
    },
    "papermill": {
     "duration": 0.062502,
     "end_time": "2022-09-04T20:13:03.544235",
     "exception": false,
     "start_time": "2022-09-04T20:13:03.481733",
     "status": "completed"
    },
    "tags": []
   },
   "outputs": [],
   "source": [
    "nn_learner = Learner(loss, model_nn, opt, config.num_epochs)\n",
    "acc_nn = ClfCallback(nn_learner, config.bs, training_data_x , testing_data_x, training_data_y, testing_data_y)\n",
    "nn_learner.set_callbacks([acc_nn])"
   ]
  },
  {
   "cell_type": "code",
   "execution_count": 21,
   "id": "877b6cc7",
   "metadata": {
    "execution": {
     "iopub.execute_input": "2022-09-04T20:13:03.625828Z",
     "iopub.status.busy": "2022-09-04T20:13:03.624145Z",
     "iopub.status.idle": "2022-09-04T20:13:03.640819Z",
     "shell.execute_reply": "2022-09-04T20:13:03.640067Z"
    },
    "papermill": {
     "duration": 0.059517,
     "end_time": "2022-09-04T20:13:03.640962",
     "exception": false,
     "start_time": "2022-09-04T20:13:03.581445",
     "status": "completed"
    },
    "tags": []
   },
   "outputs": [],
   "source": [
    "lr_learner = Learner(loss, model_lr, opt, config.num_epochs)\n",
    "acc_lr = ClfCallback(lr_learner, config.bs, training_data_x , testing_data_x, training_data_y, testing_data_y)\n",
    "lr_learner.set_callbacks([acc_lr])"
   ]
  },
  {
   "cell_type": "code",
   "execution_count": 22,
   "id": "d9b133c3",
   "metadata": {
    "execution": {
     "iopub.execute_input": "2022-09-04T20:13:03.722619Z",
     "iopub.status.busy": "2022-09-04T20:13:03.721858Z",
     "iopub.status.idle": "2022-09-04T20:15:31.407125Z",
     "shell.execute_reply": "2022-09-04T20:15:31.406399Z"
    },
    "papermill": {
     "duration": 147.729432,
     "end_time": "2022-09-04T20:15:31.407264",
     "exception": false,
     "start_time": "2022-09-04T20:13:03.677832",
     "status": "completed"
    },
    "tags": []
   },
   "outputs": [
    {
     "name": "stdout",
     "output_type": "stream",
     "text": [
      "Epoch 0, Loss 0.2543\n",
      "Training Accuracy: 0.6832, Testing Accuracy: 0.6764\n",
      "\n"
     ]
    },
    {
     "name": "stdout",
     "output_type": "stream",
     "text": [
      "Epoch 10, Loss 0.0756\n",
      "Training Accuracy: 0.9211, Testing Accuracy: 0.9395\n",
      "\n"
     ]
    },
    {
     "name": "stdout",
     "output_type": "stream",
     "text": [
      "Epoch 20, Loss 0.0487\n",
      "Training Accuracy: 0.9476, Testing Accuracy: 0.9597\n",
      "\n"
     ]
    },
    {
     "name": "stdout",
     "output_type": "stream",
     "text": [
      "Epoch 30, Loss 0.0392\n",
      "Training Accuracy: 0.9559, Testing Accuracy: 0.9667\n",
      "\n"
     ]
    },
    {
     "name": "stdout",
     "output_type": "stream",
     "text": [
      "Epoch 40, Loss 0.0343\n",
      "Training Accuracy: 0.9612, Testing Accuracy: 0.9693\n",
      "\n"
     ]
    },
    {
     "name": "stdout",
     "output_type": "stream",
     "text": [
      "Epoch 50, Loss 0.0312\n",
      "Training Accuracy: 0.9646, Testing Accuracy: 0.9708\n",
      "\n"
     ]
    },
    {
     "name": "stdout",
     "output_type": "stream",
     "text": [
      "Epoch 60, Loss 0.029\n",
      "Training Accuracy: 0.9672, Testing Accuracy: 0.9708\n",
      "\n"
     ]
    },
    {
     "name": "stdout",
     "output_type": "stream",
     "text": [
      "Epoch 70, Loss 0.0274\n",
      "Training Accuracy: 0.9686, Testing Accuracy: 0.9718\n",
      "\n"
     ]
    },
    {
     "name": "stdout",
     "output_type": "stream",
     "text": [
      "Epoch 80, Loss 0.026\n",
      "Training Accuracy: 0.9704, Testing Accuracy: 0.9703\n",
      "\n"
     ]
    },
    {
     "name": "stdout",
     "output_type": "stream",
     "text": [
      "Epoch 90, Loss 0.0249\n",
      "Training Accuracy: 0.9725, Testing Accuracy: 0.9703\n",
      "\n"
     ]
    },
    {
     "name": "stdout",
     "output_type": "stream",
     "text": [
      "Epoch 100, Loss 0.024\n",
      "Training Accuracy: 0.9736, Testing Accuracy: 0.9708\n",
      "\n"
     ]
    },
    {
     "name": "stdout",
     "output_type": "stream",
     "text": [
      "Epoch 110, Loss 0.0231\n",
      "Training Accuracy: 0.9742, Testing Accuracy: 0.9718\n",
      "\n"
     ]
    },
    {
     "name": "stdout",
     "output_type": "stream",
     "text": [
      "Epoch 120, Loss 0.0224\n",
      "Training Accuracy: 0.9750, Testing Accuracy: 0.9713\n",
      "\n"
     ]
    },
    {
     "name": "stdout",
     "output_type": "stream",
     "text": [
      "Epoch 130, Loss 0.0217\n",
      "Training Accuracy: 0.9757, Testing Accuracy: 0.9718\n",
      "\n"
     ]
    },
    {
     "name": "stdout",
     "output_type": "stream",
     "text": [
      "Epoch 140, Loss 0.0211\n",
      "Training Accuracy: 0.9762, Testing Accuracy: 0.9723\n",
      "\n"
     ]
    },
    {
     "name": "stdout",
     "output_type": "stream",
     "text": [
      "Epoch 150, Loss 0.0205\n",
      "Training Accuracy: 0.9770, Testing Accuracy: 0.9738\n",
      "\n"
     ]
    },
    {
     "name": "stdout",
     "output_type": "stream",
     "text": [
      "Epoch 160, Loss 0.02\n",
      "Training Accuracy: 0.9775, Testing Accuracy: 0.9743\n",
      "\n"
     ]
    },
    {
     "name": "stdout",
     "output_type": "stream",
     "text": [
      "Epoch 170, Loss 0.0195\n",
      "Training Accuracy: 0.9781, Testing Accuracy: 0.9743\n",
      "\n"
     ]
    },
    {
     "name": "stdout",
     "output_type": "stream",
     "text": [
      "Epoch 180, Loss 0.0191\n",
      "Training Accuracy: 0.9787, Testing Accuracy: 0.9743\n",
      "\n"
     ]
    },
    {
     "name": "stdout",
     "output_type": "stream",
     "text": [
      "Epoch 190, Loss 0.0186\n",
      "Training Accuracy: 0.9795, Testing Accuracy: 0.9738\n",
      "\n"
     ]
    },
    {
     "name": "stdout",
     "output_type": "stream",
     "text": [
      "Epoch 200, Loss 0.0182\n",
      "Training Accuracy: 0.9799, Testing Accuracy: 0.9748\n",
      "\n"
     ]
    },
    {
     "name": "stdout",
     "output_type": "stream",
     "text": [
      "Epoch 210, Loss 0.0178\n",
      "Training Accuracy: 0.9803, Testing Accuracy: 0.9748\n",
      "\n"
     ]
    },
    {
     "name": "stdout",
     "output_type": "stream",
     "text": [
      "Epoch 220, Loss 0.0174\n",
      "Training Accuracy: 0.9808, Testing Accuracy: 0.9753\n",
      "\n"
     ]
    },
    {
     "name": "stdout",
     "output_type": "stream",
     "text": [
      "Epoch 230, Loss 0.0171\n",
      "Training Accuracy: 0.9810, Testing Accuracy: 0.9758\n",
      "\n"
     ]
    },
    {
     "name": "stdout",
     "output_type": "stream",
     "text": [
      "Epoch 240, Loss 0.0167\n",
      "Training Accuracy: 0.9816, Testing Accuracy: 0.9758\n",
      "\n"
     ]
    },
    {
     "data": {
      "text/plain": [
       "0.006679250635677491"
      ]
     },
     "execution_count": 22,
     "metadata": {},
     "output_type": "execute_result"
    }
   ],
   "source": [
    "nn_learner.train_loop(dl)"
   ]
  },
  {
   "cell_type": "code",
   "execution_count": 23,
   "id": "e0163366",
   "metadata": {
    "execution": {
     "iopub.execute_input": "2022-09-04T20:15:31.513064Z",
     "iopub.status.busy": "2022-09-04T20:15:31.512345Z",
     "iopub.status.idle": "2022-09-04T20:15:52.664758Z",
     "shell.execute_reply": "2022-09-04T20:15:52.665762Z"
    },
    "papermill": {
     "duration": 21.213148,
     "end_time": "2022-09-04T20:15:52.665937",
     "exception": false,
     "start_time": "2022-09-04T20:15:31.452789",
     "status": "completed"
    },
    "tags": []
   },
   "outputs": [
    {
     "name": "stdout",
     "output_type": "stream",
     "text": [
      "Epoch 0, Loss 0.2017\n",
      "Training Accuracy: 0.8330, Testing Accuracy: 0.8443\n",
      "\n"
     ]
    },
    {
     "name": "stdout",
     "output_type": "stream",
     "text": [
      "Epoch 10, Loss 0.0961\n",
      "Training Accuracy: 0.9212, Testing Accuracy: 0.9330\n",
      "\n"
     ]
    },
    {
     "name": "stdout",
     "output_type": "stream",
     "text": [
      "Epoch 20, Loss 0.0755\n",
      "Training Accuracy: 0.9348, Testing Accuracy: 0.9481\n",
      "\n"
     ]
    },
    {
     "name": "stdout",
     "output_type": "stream",
     "text": [
      "Epoch 30, Loss 0.0658\n",
      "Training Accuracy: 0.9417, Testing Accuracy: 0.9531\n",
      "\n"
     ]
    },
    {
     "name": "stdout",
     "output_type": "stream",
     "text": [
      "Epoch 40, Loss 0.0599\n",
      "Training Accuracy: 0.9458, Testing Accuracy: 0.9567\n",
      "\n"
     ]
    },
    {
     "name": "stdout",
     "output_type": "stream",
     "text": [
      "Epoch 50, Loss 0.0558\n",
      "Training Accuracy: 0.9473, Testing Accuracy: 0.9561\n",
      "\n"
     ]
    },
    {
     "name": "stdout",
     "output_type": "stream",
     "text": [
      "Epoch 60, Loss 0.0527\n",
      "Training Accuracy: 0.9493, Testing Accuracy: 0.9592\n",
      "\n"
     ]
    },
    {
     "name": "stdout",
     "output_type": "stream",
     "text": [
      "Epoch 70, Loss 0.0504\n",
      "Training Accuracy: 0.9509, Testing Accuracy: 0.9622\n",
      "\n"
     ]
    },
    {
     "name": "stdout",
     "output_type": "stream",
     "text": [
      "Epoch 80, Loss 0.0485\n",
      "Training Accuracy: 0.9528, Testing Accuracy: 0.9622\n",
      "\n"
     ]
    },
    {
     "name": "stdout",
     "output_type": "stream",
     "text": [
      "Epoch 90, Loss 0.0469\n",
      "Training Accuracy: 0.9536, Testing Accuracy: 0.9622\n",
      "\n"
     ]
    },
    {
     "name": "stdout",
     "output_type": "stream",
     "text": [
      "Epoch 100, Loss 0.0456\n",
      "Training Accuracy: 0.9549, Testing Accuracy: 0.9642\n",
      "\n"
     ]
    },
    {
     "name": "stdout",
     "output_type": "stream",
     "text": [
      "Epoch 110, Loss 0.0445\n",
      "Training Accuracy: 0.9557, Testing Accuracy: 0.9647\n",
      "\n"
     ]
    },
    {
     "name": "stdout",
     "output_type": "stream",
     "text": [
      "Epoch 120, Loss 0.0435\n",
      "Training Accuracy: 0.9564, Testing Accuracy: 0.9657\n",
      "\n"
     ]
    },
    {
     "name": "stdout",
     "output_type": "stream",
     "text": [
      "Epoch 130, Loss 0.0426\n",
      "Training Accuracy: 0.9580, Testing Accuracy: 0.9657\n",
      "\n"
     ]
    },
    {
     "name": "stdout",
     "output_type": "stream",
     "text": [
      "Epoch 140, Loss 0.0418\n",
      "Training Accuracy: 0.9583, Testing Accuracy: 0.9667\n",
      "\n"
     ]
    },
    {
     "name": "stdout",
     "output_type": "stream",
     "text": [
      "Epoch 150, Loss 0.0411\n",
      "Training Accuracy: 0.9584, Testing Accuracy: 0.9667\n",
      "\n"
     ]
    },
    {
     "name": "stdout",
     "output_type": "stream",
     "text": [
      "Epoch 160, Loss 0.0404\n",
      "Training Accuracy: 0.9588, Testing Accuracy: 0.9672\n",
      "\n"
     ]
    },
    {
     "name": "stdout",
     "output_type": "stream",
     "text": [
      "Epoch 170, Loss 0.0399\n",
      "Training Accuracy: 0.9589, Testing Accuracy: 0.9672\n",
      "\n"
     ]
    },
    {
     "name": "stdout",
     "output_type": "stream",
     "text": [
      "Epoch 180, Loss 0.0393\n",
      "Training Accuracy: 0.9594, Testing Accuracy: 0.9677\n",
      "\n"
     ]
    },
    {
     "name": "stdout",
     "output_type": "stream",
     "text": [
      "Epoch 190, Loss 0.0388\n",
      "Training Accuracy: 0.9599, Testing Accuracy: 0.9677\n",
      "\n"
     ]
    },
    {
     "name": "stdout",
     "output_type": "stream",
     "text": [
      "Epoch 200, Loss 0.0384\n",
      "Training Accuracy: 0.9599, Testing Accuracy: 0.9677\n",
      "\n"
     ]
    },
    {
     "name": "stdout",
     "output_type": "stream",
     "text": [
      "Epoch 210, Loss 0.0379\n",
      "Training Accuracy: 0.9602, Testing Accuracy: 0.9682\n",
      "\n"
     ]
    },
    {
     "name": "stdout",
     "output_type": "stream",
     "text": [
      "Epoch 220, Loss 0.0375\n",
      "Training Accuracy: 0.9608, Testing Accuracy: 0.9688\n",
      "\n"
     ]
    },
    {
     "name": "stdout",
     "output_type": "stream",
     "text": [
      "Epoch 230, Loss 0.0372\n",
      "Training Accuracy: 0.9609, Testing Accuracy: 0.9682\n",
      "\n"
     ]
    },
    {
     "name": "stdout",
     "output_type": "stream",
     "text": [
      "Epoch 240, Loss 0.0368\n",
      "Training Accuracy: 0.9614, Testing Accuracy: 0.9682\n",
      "\n"
     ]
    },
    {
     "data": {
      "text/plain": [
       "0.024174431436630252"
      ]
     },
     "execution_count": 23,
     "metadata": {},
     "output_type": "execute_result"
    }
   ],
   "source": [
    "lr_learner.train_loop(dl)"
   ]
  },
  {
   "cell_type": "code",
   "execution_count": 24,
   "id": "ca410940",
   "metadata": {
    "execution": {
     "iopub.execute_input": "2022-09-04T20:15:52.788750Z",
     "iopub.status.busy": "2022-09-04T20:15:52.787947Z",
     "iopub.status.idle": "2022-09-04T20:15:53.119286Z",
     "shell.execute_reply": "2022-09-04T20:15:53.119925Z"
    },
    "papermill": {
     "duration": 0.396353,
     "end_time": "2022-09-04T20:15:53.120092",
     "exception": false,
     "start_time": "2022-09-04T20:15:52.723739",
     "status": "completed"
    },
    "tags": []
   },
   "outputs": [
    {
     "data": {
      "text/plain": [
       "<matplotlib.legend.Legend at 0x7fbcdfb8c358>"
      ]
     },
     "execution_count": 24,
     "metadata": {},
     "output_type": "execute_result"
    },
    {
     "data": {
      "image/png": "[encoded data removed]",
      "text/plain": [
       "<Figure size 1080x720 with 1 Axes>"
      ]
     },
     "metadata": {
      "needs_background": "light"
     },
     "output_type": "display_data"
    }
   ],
   "source": [
    "#comparing the results of NN and LR\n",
    "plt.figure(figsize=(15,10))\n",
    "\n",
    "# Neural Network plots\n",
    "plt.plot(acc_nn.accuracies, 'r-', label = \"Training Accuracies - NN\")\n",
    "plt.plot(acc_nn.test_accuracies, 'g-', label = \"Testing Accuracies - NN\")\n",
    "\n",
    "# Logistic Regression plots\n",
    "plt.plot(acc_lr.accuracies, 'k-', label = \"Training Accuracies - LR\")\n",
    "plt.plot(acc_lr.test_accuracies, 'b-', label = \"Testing Accuracies - LR\")\n",
    "plt.legend()"
   ]
  },
  {
   "cell_type": "markdown",
   "id": "80dfb35c",
   "metadata": {
    "papermill": {
     "duration": 0.055946,
     "end_time": "2022-09-04T20:15:53.233023",
     "exception": false,
     "start_time": "2022-09-04T20:15:53.177077",
     "status": "completed"
    },
    "tags": []
   },
   "source": [
    "#### Plotting the outputs of this layer of the NN.\n"
   ]
  },
  {
   "cell_type": "code",
   "execution_count": 25,
   "id": "45eb2ff5",
   "metadata": {
    "execution": {
     "iopub.execute_input": "2022-09-04T20:15:53.352440Z",
     "iopub.status.busy": "2022-09-04T20:15:53.351673Z",
     "iopub.status.idle": "2022-09-04T20:15:53.382388Z",
     "shell.execute_reply": "2022-09-04T20:15:53.383133Z"
    },
    "papermill": {
     "duration": 0.092593,
     "end_time": "2022-09-04T20:15:53.383323",
     "exception": false,
     "start_time": "2022-09-04T20:15:53.290730",
     "status": "completed"
    },
    "tags": []
   },
   "outputs": [],
   "source": [
    "new_model = Model(layers[:-2])\n",
    "testing_plot = new_model(testing_data_x)"
   ]
  },
  {
   "cell_type": "code",
   "execution_count": 26,
   "id": "4c0a5485",
   "metadata": {
    "execution": {
     "iopub.execute_input": "2022-09-04T20:15:53.514062Z",
     "iopub.status.busy": "2022-09-04T20:15:53.513076Z",
     "iopub.status.idle": "2022-09-04T20:15:53.787330Z",
     "shell.execute_reply": "2022-09-04T20:15:53.786743Z"
    },
    "papermill": {
     "duration": 0.34484,
     "end_time": "2022-09-04T20:15:53.787470",
     "exception": false,
     "start_time": "2022-09-04T20:15:53.442630",
     "status": "completed"
    },
    "tags": []
   },
   "outputs": [
    {
     "data": {
      "text/plain": [
       "Text(0.5, 1.0, 'Outputs')"
      ]
     },
     "execution_count": 26,
     "metadata": {},
     "output_type": "execute_result"
    },
    {
     "data": {
      "image/png": "[encoded data removed]",
      "text/plain": [
       "<Figure size 576x504 with 1 Axes>"
      ]
     },
     "metadata": {
      "needs_background": "light"
     },
     "output_type": "display_data"
    }
   ],
   "source": [
    "# Plotting the scatter plot of points and color coding by class\n",
    "plt.figure(figsize=(8,7))\n",
    "plt.scatter(testing_plot[:,0], testing_plot[:,1], alpha = 0.1, c = y_test.ravel());\n",
    "plt.title('Outputs')"
   ]
  },
  {
   "cell_type": "markdown",
   "id": "a74fcf8f",
   "metadata": {
    "papermill": {
     "duration": 0.098061,
     "end_time": "2022-09-04T20:15:53.943855",
     "exception": false,
     "start_time": "2022-09-04T20:15:53.845794",
     "status": "completed"
    },
    "tags": []
   },
   "source": [
    "Probability contours"
   ]
  },
  {
   "cell_type": "code",
   "execution_count": 27,
   "id": "d0afc8e3",
   "metadata": {
    "execution": {
     "iopub.execute_input": "2022-09-04T20:15:54.070086Z",
     "iopub.status.busy": "2022-09-04T20:15:54.069171Z",
     "iopub.status.idle": "2022-09-04T20:15:54.086306Z",
     "shell.execute_reply": "2022-09-04T20:15:54.086990Z"
    },
    "papermill": {
     "duration": 0.081867,
     "end_time": "2022-09-04T20:15:54.087173",
     "exception": false,
     "start_time": "2022-09-04T20:15:54.005306",
     "status": "completed"
    },
    "tags": []
   },
   "outputs": [],
   "source": [
    "model_prob = Model(layers[-2:]) "
   ]
  },
  {
   "cell_type": "code",
   "execution_count": 28,
   "id": "9b96e238",
   "metadata": {
    "execution": {
     "iopub.execute_input": "2022-09-04T20:15:54.212330Z",
     "iopub.status.busy": "2022-09-04T20:15:54.211562Z",
     "iopub.status.idle": "2022-09-04T20:15:54.229744Z",
     "shell.execute_reply": "2022-09-04T20:15:54.230327Z"
    },
    "papermill": {
     "duration": 0.084821,
     "end_time": "2022-09-04T20:15:54.230498",
     "exception": false,
     "start_time": "2022-09-04T20:15:54.145677",
     "status": "completed"
    },
    "tags": []
   },
   "outputs": [],
   "source": [
    "#creating the x and y ranges according to the above generated plot.\n",
    "x_range = np.linspace(-4, 1, 100) \n",
    "y_range = np.linspace(-6, 6, 100) \n",
    "x_grid, y_grid = np.meshgrid(x_range, y_range) # x_grid and y_grig are of size 100 X 100\n",
    "\n",
    "# converting x_grid and y_grid to continuous arrays\n",
    "x_gridflat = np.ravel(x_grid)\n",
    "y_gridflat = np.ravel(y_grid)\n",
    "\n",
    "# The last layer of the current model takes two columns as input. Hence transpose of np.vstack() is required.\n",
    "X = np.vstack((x_gridflat, y_gridflat)).T\n",
    "\n",
    "prob_contour = model_prob(X).reshape(100,100) "
   ]
  },
  {
   "cell_type": "code",
   "execution_count": 29,
   "id": "da72499a",
   "metadata": {
    "execution": {
     "iopub.execute_input": "2022-09-04T20:15:54.359651Z",
     "iopub.status.busy": "2022-09-04T20:15:54.358796Z",
     "iopub.status.idle": "2022-09-04T20:15:54.715097Z",
     "shell.execute_reply": "2022-09-04T20:15:54.715721Z"
    },
    "papermill": {
     "duration": 0.425218,
     "end_time": "2022-09-04T20:15:54.715939",
     "exception": false,
     "start_time": "2022-09-04T20:15:54.290721",
     "status": "completed"
    },
    "tags": []
   },
   "outputs": [
    {
     "data": {
      "image/png": "[encoded data removed]",
      "text/plain": [
       "<Figure size 720x648 with 1 Axes>"
      ]
     },
     "metadata": {
      "needs_background": "light"
     },
     "output_type": "display_data"
    }
   ],
   "source": [
    "plt.figure(figsize=(10,9))\n",
    "plt.scatter(testing_plot[:,0], testing_plot[:,1], alpha = 0.1, c = y_test.ravel())\n",
    "contours = plt.contour(x_grid,y_grid,prob_contour)\n",
    "plt.title('Probability Contours')\n",
    "plt.clabel(contours, inline = True );"
   ]
  },
  {
   "cell_type": "code",
   "execution_count": null,
   "id": "e81b4ac7",
   "metadata": {
    "papermill": {
     "duration": 0.066223,
     "end_time": "2022-09-04T20:15:54.847678",
     "exception": false,
     "start_time": "2022-09-04T20:15:54.781455",
     "status": "completed"
    },
    "tags": []
   },
   "outputs": [],
   "source": []
  }
 ],
 "metadata": {
  "kernelspec": {
   "display_name": "Python 3",
   "language": "python",
   "name": "python3"
  },
  "language_info": {
   "codemirror_mode": {
    "name": "ipython",
    "version": 3
   },
   "file_extension": ".py",
   "mimetype": "text/x-python",
   "name": "python",
   "nbconvert_exporter": "python",
   "pygments_lexer": "ipython3",
   "version": "3.6.15"
  },
  "papermill": {
   "default_parameters": {},
   "duration": 179.270107,
   "end_time": "2022-09-04T20:15:55.435927",
   "environment_variables": {},
   "exception": null,
   "input_path": "2020-08-11-part2.ipynb",
   "output_path": "2020-08-11-part2.ipynb",
   "parameters": {},
   "start_time": "2022-09-04T20:12:56.165820",
   "version": "2.3.3"
  }
 },
 "nbformat": 4,
 "nbformat_minor": 5
}