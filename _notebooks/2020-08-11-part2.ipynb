{
 "cells": [
  {
   "cell_type": "markdown",
   "id": "98380cd3",
   "metadata": {
    "papermill": {
     "duration": 0.034647,
     "end_time": "2021-11-13T10:07:32.039757",
     "exception": false,
     "start_time": "2021-11-13T10:07:32.005110",
     "status": "completed"
    },
    "tags": []
   },
   "source": [
    "# Distinguish Your Own Digits (DYOD)"
   ]
  },
  {
   "cell_type": "markdown",
   "id": "ef31240d",
   "metadata": {
    "papermill": {
     "duration": 0.032685,
     "end_time": "2021-11-13T10:07:32.105605",
     "exception": false,
     "start_time": "2021-11-13T10:07:32.072920",
     "status": "completed"
    },
    "tags": []
   },
   "source": [
    "You are going to write a classifier that distinguishes between the number 3 and number 8."
   ]
  },
  {
   "cell_type": "code",
   "execution_count": 1,
   "id": "b15c8646",
   "metadata": {
    "execution": {
     "iopub.execute_input": "2021-11-13T10:07:32.182388Z",
     "iopub.status.busy": "2021-11-13T10:07:32.181707Z",
     "iopub.status.idle": "2021-11-13T10:07:32.194589Z",
     "shell.execute_reply": "2021-11-13T10:07:32.193965Z"
    },
    "papermill": {
     "duration": 0.05894,
     "end_time": "2021-11-13T10:07:32.194748",
     "exception": false,
     "start_time": "2021-11-13T10:07:32.135808",
     "status": "completed"
    },
    "tags": []
   },
   "outputs": [],
   "source": [
    "%load_ext autoreload\n",
    "%autoreload 2"
   ]
  },
  {
   "cell_type": "code",
   "execution_count": 2,
   "id": "22ef38dc",
   "metadata": {
    "execution": {
     "iopub.execute_input": "2021-11-13T10:07:32.269681Z",
     "iopub.status.busy": "2021-11-13T10:07:32.265556Z",
     "iopub.status.idle": "2021-11-13T10:07:32.870057Z",
     "shell.execute_reply": "2021-11-13T10:07:32.869479Z"
    },
    "papermill": {
     "duration": 0.64541,
     "end_time": "2021-11-13T10:07:32.870212",
     "exception": false,
     "start_time": "2021-11-13T10:07:32.224802",
     "status": "completed"
    },
    "tags": []
   },
   "outputs": [],
   "source": [
    "%matplotlib inline\n",
    "import numpy as np\n",
    "import matplotlib.pyplot as plt\n",
    "import pandas as pd"
   ]
  },
  {
   "cell_type": "markdown",
   "id": "ba036198",
   "metadata": {
    "papermill": {
     "duration": 0.037727,
     "end_time": "2021-11-13T10:07:32.942475",
     "exception": false,
     "start_time": "2021-11-13T10:07:32.904748",
     "status": "completed"
    },
    "tags": []
   },
   "source": [
    "From the command line run `pip install mnist`. This is a library that will help you bring down the mnist dataset. If you run this from a notebook, you need to put  `!pip install mnist` in a cell by itself."
   ]
  },
  {
   "cell_type": "code",
   "execution_count": 3,
   "id": "bb6ad8a1",
   "metadata": {
    "execution": {
     "iopub.execute_input": "2021-11-13T10:07:33.013442Z",
     "iopub.status.busy": "2021-11-13T10:07:33.012640Z",
     "iopub.status.idle": "2021-11-13T10:07:35.060673Z",
     "shell.execute_reply": "2021-11-13T10:07:35.060106Z"
    },
    "papermill": {
     "duration": 2.086954,
     "end_time": "2021-11-13T10:07:35.060822",
     "exception": false,
     "start_time": "2021-11-13T10:07:32.973868",
     "status": "completed"
    },
    "tags": []
   },
   "outputs": [
    {
     "name": "stdout",
     "output_type": "stream",
     "text": [
      "Collecting mnist\r\n"
     ]
    },
    {
     "name": "stdout",
     "output_type": "stream",
     "text": [
      "  Downloading mnist-0.2.2-py2.py3-none-any.whl (3.5 kB)\r\n",
      "Requirement already satisfied: numpy in /opt/hostedtoolcache/Python/3.6.15/x64/lib/python3.6/site-packages (from mnist) (1.19.5)\r\n"
     ]
    },
    {
     "name": "stdout",
     "output_type": "stream",
     "text": [
      "Installing collected packages: mnist\r\n"
     ]
    },
    {
     "name": "stdout",
     "output_type": "stream",
     "text": [
      "Successfully installed mnist-0.2.2\r\n"
     ]
    }
   ],
   "source": [
    "!pip install mnist"
   ]
  },
  {
   "cell_type": "markdown",
   "id": "69df9c9a",
   "metadata": {
    "papermill": {
     "duration": 0.036313,
     "end_time": "2021-11-13T10:07:35.131243",
     "exception": false,
     "start_time": "2021-11-13T10:07:35.094930",
     "status": "completed"
    },
    "tags": []
   },
   "source": [
    "## Preparing the Data"
   ]
  },
  {
   "cell_type": "code",
   "execution_count": 4,
   "id": "7f69d806",
   "metadata": {
    "execution": {
     "iopub.execute_input": "2021-11-13T10:07:35.200221Z",
     "iopub.status.busy": "2021-11-13T10:07:35.199463Z",
     "iopub.status.idle": "2021-11-13T10:07:35.214507Z",
     "shell.execute_reply": "2021-11-13T10:07:35.215019Z"
    },
    "papermill": {
     "duration": 0.0526,
     "end_time": "2021-11-13T10:07:35.215181",
     "exception": false,
     "start_time": "2021-11-13T10:07:35.162581",
     "status": "completed"
    },
    "tags": []
   },
   "outputs": [],
   "source": [
    "import mnist"
   ]
  },
  {
   "cell_type": "code",
   "execution_count": 5,
   "id": "a411e44f",
   "metadata": {
    "execution": {
     "iopub.execute_input": "2021-11-13T10:07:35.284327Z",
     "iopub.status.busy": "2021-11-13T10:07:35.283630Z",
     "iopub.status.idle": "2021-11-13T10:07:35.920261Z",
     "shell.execute_reply": "2021-11-13T10:07:35.920794Z"
    },
    "papermill": {
     "duration": 0.673537,
     "end_time": "2021-11-13T10:07:35.920973",
     "exception": false,
     "start_time": "2021-11-13T10:07:35.247436",
     "status": "completed"
    },
    "tags": []
   },
   "outputs": [],
   "source": [
    "train_images = mnist.train_images()\n",
    "train_labels = mnist.train_labels()"
   ]
  },
  {
   "cell_type": "code",
   "execution_count": 6,
   "id": "dceab3a5",
   "metadata": {
    "execution": {
     "iopub.execute_input": "2021-11-13T10:07:36.001387Z",
     "iopub.status.busy": "2021-11-13T10:07:35.996707Z",
     "iopub.status.idle": "2021-11-13T10:07:36.012067Z",
     "shell.execute_reply": "2021-11-13T10:07:36.011139Z"
    },
    "papermill": {
     "duration": 0.058969,
     "end_time": "2021-11-13T10:07:36.012209",
     "exception": false,
     "start_time": "2021-11-13T10:07:35.953240",
     "status": "completed"
    },
    "tags": []
   },
   "outputs": [
    {
     "data": {
      "text/plain": [
       "((60000, 28, 28), (60000,))"
      ]
     },
     "execution_count": 6,
     "metadata": {},
     "output_type": "execute_result"
    }
   ],
   "source": [
    "train_images.shape, train_labels.shape"
   ]
  },
  {
   "cell_type": "code",
   "execution_count": 7,
   "id": "f50dc2bb",
   "metadata": {
    "execution": {
     "iopub.execute_input": "2021-11-13T10:07:36.093497Z",
     "iopub.status.busy": "2021-11-13T10:07:36.092844Z",
     "iopub.status.idle": "2021-11-13T10:07:36.332538Z",
     "shell.execute_reply": "2021-11-13T10:07:36.331912Z"
    },
    "papermill": {
     "duration": 0.28302,
     "end_time": "2021-11-13T10:07:36.332692",
     "exception": false,
     "start_time": "2021-11-13T10:07:36.049672",
     "status": "completed"
    },
    "tags": []
   },
   "outputs": [],
   "source": [
    "test_images = mnist.test_images()\n",
    "test_labels = mnist.test_labels()"
   ]
  },
  {
   "cell_type": "code",
   "execution_count": 8,
   "id": "fc38cf1b",
   "metadata": {
    "execution": {
     "iopub.execute_input": "2021-11-13T10:07:36.404270Z",
     "iopub.status.busy": "2021-11-13T10:07:36.403570Z",
     "iopub.status.idle": "2021-11-13T10:07:36.420884Z",
     "shell.execute_reply": "2021-11-13T10:07:36.420316Z"
    },
    "papermill": {
     "duration": 0.054884,
     "end_time": "2021-11-13T10:07:36.421025",
     "exception": false,
     "start_time": "2021-11-13T10:07:36.366141",
     "status": "completed"
    },
    "tags": []
   },
   "outputs": [
    {
     "data": {
      "text/plain": [
       "((10000, 28, 28), (10000,))"
      ]
     },
     "execution_count": 8,
     "metadata": {},
     "output_type": "execute_result"
    }
   ],
   "source": [
    "test_images.shape, test_labels.shape"
   ]
  },
  {
   "cell_type": "code",
   "execution_count": 9,
   "id": "f9ed8fe0",
   "metadata": {
    "execution": {
     "iopub.execute_input": "2021-11-13T10:07:36.491228Z",
     "iopub.status.busy": "2021-11-13T10:07:36.490563Z",
     "iopub.status.idle": "2021-11-13T10:07:36.676191Z",
     "shell.execute_reply": "2021-11-13T10:07:36.676807Z"
    },
    "papermill": {
     "duration": 0.223845,
     "end_time": "2021-11-13T10:07:36.676991",
     "exception": false,
     "start_time": "2021-11-13T10:07:36.453146",
     "status": "completed"
    },
    "tags": []
   },
   "outputs": [
    {
     "name": "stdout",
     "output_type": "stream",
     "text": [
      "2\n"
     ]
    },
    {
     "data": {
      "text/plain": [
       "<matplotlib.image.AxesImage at 0x7f266238d0b8>"
      ]
     },
     "execution_count": 9,
     "metadata": {},
     "output_type": "execute_result"
    },
    {
     "data": {
      "image/png": "[encoded data removed]",
      "text/plain": [
       "<Figure size 432x288 with 1 Axes>"
      ]
     },
     "metadata": {
      "needs_background": "light"
     },
     "output_type": "display_data"
    }
   ],
   "source": [
    "image_index = 7776 # You may select anything up to 60,000\n",
    "print(train_labels[image_index]) \n",
    "plt.imshow(train_images[image_index], cmap='Greys')"
   ]
  },
  {
   "cell_type": "markdown",
   "id": "a8d2388d",
   "metadata": {
    "papermill": {
     "duration": 0.03455,
     "end_time": "2021-11-13T10:07:36.746064",
     "exception": false,
     "start_time": "2021-11-13T10:07:36.711514",
     "status": "completed"
    },
    "tags": []
   },
   "source": [
    "## Filter data to get 3 and 8 out"
   ]
  },
  {
   "cell_type": "code",
   "execution_count": 10,
   "id": "776f7fc7",
   "metadata": {
    "execution": {
     "iopub.execute_input": "2021-11-13T10:07:36.821522Z",
     "iopub.status.busy": "2021-11-13T10:07:36.820853Z",
     "iopub.status.idle": "2021-11-13T10:07:36.839483Z",
     "shell.execute_reply": "2021-11-13T10:07:36.838902Z"
    },
    "papermill": {
     "duration": 0.058038,
     "end_time": "2021-11-13T10:07:36.839628",
     "exception": false,
     "start_time": "2021-11-13T10:07:36.781590",
     "status": "completed"
    },
    "tags": []
   },
   "outputs": [],
   "source": [
    "train_filter = np.where((train_labels == 3 ) | (train_labels == 8))\n",
    "test_filter = np.where((test_labels == 3) | (test_labels == 8))\n",
    "X_train, y_train = train_images[train_filter], train_labels[train_filter]\n",
    "X_test, y_test = test_images[test_filter], test_labels[test_filter]"
   ]
  },
  {
   "cell_type": "markdown",
   "id": "948f0b7e",
   "metadata": {
    "papermill": {
     "duration": 0.036824,
     "end_time": "2021-11-13T10:07:36.910728",
     "exception": false,
     "start_time": "2021-11-13T10:07:36.873904",
     "status": "completed"
    },
    "tags": []
   },
   "source": [
    "We normalize the pizel values in the 0 to 1 range"
   ]
  },
  {
   "cell_type": "code",
   "execution_count": 11,
   "id": "ee4c2166",
   "metadata": {
    "execution": {
     "iopub.execute_input": "2021-11-13T10:07:36.998851Z",
     "iopub.status.busy": "2021-11-13T10:07:36.993467Z",
     "iopub.status.idle": "2021-11-13T10:07:37.050857Z",
     "shell.execute_reply": "2021-11-13T10:07:37.050278Z"
    },
    "papermill": {
     "duration": 0.105373,
     "end_time": "2021-11-13T10:07:37.051014",
     "exception": false,
     "start_time": "2021-11-13T10:07:36.945641",
     "status": "completed"
    },
    "tags": []
   },
   "outputs": [],
   "source": [
    "X_train = X_train/255.\n",
    "X_test = X_test/255."
   ]
  },
  {
   "cell_type": "markdown",
   "id": "ddcf4fab",
   "metadata": {
    "papermill": {
     "duration": 0.034721,
     "end_time": "2021-11-13T10:07:37.121557",
     "exception": false,
     "start_time": "2021-11-13T10:07:37.086836",
     "status": "completed"
    },
    "tags": []
   },
   "source": [
    "And setup the labels as 1 (when the digit is 3) and 0 (when the digit is 8)"
   ]
  },
  {
   "cell_type": "code",
   "execution_count": 12,
   "id": "7dc908f2",
   "metadata": {
    "execution": {
     "iopub.execute_input": "2021-11-13T10:07:37.199881Z",
     "iopub.status.busy": "2021-11-13T10:07:37.199201Z",
     "iopub.status.idle": "2021-11-13T10:07:37.212758Z",
     "shell.execute_reply": "2021-11-13T10:07:37.212204Z"
    },
    "papermill": {
     "duration": 0.056448,
     "end_time": "2021-11-13T10:07:37.212890",
     "exception": false,
     "start_time": "2021-11-13T10:07:37.156442",
     "status": "completed"
    },
    "tags": []
   },
   "outputs": [],
   "source": [
    "y_train = 1*(y_train==3)\n",
    "y_test = 1*(y_test==3)"
   ]
  },
  {
   "cell_type": "code",
   "execution_count": 13,
   "id": "01e4e969",
   "metadata": {
    "execution": {
     "iopub.execute_input": "2021-11-13T10:07:37.298005Z",
     "iopub.status.busy": "2021-11-13T10:07:37.297346Z",
     "iopub.status.idle": "2021-11-13T10:07:37.306110Z",
     "shell.execute_reply": "2021-11-13T10:07:37.305555Z"
    },
    "papermill": {
     "duration": 0.05933,
     "end_time": "2021-11-13T10:07:37.306249",
     "exception": false,
     "start_time": "2021-11-13T10:07:37.246919",
     "status": "completed"
    },
    "tags": []
   },
   "outputs": [
    {
     "data": {
      "text/plain": [
       "((11982, 28, 28), (1984, 28, 28))"
      ]
     },
     "execution_count": 13,
     "metadata": {},
     "output_type": "execute_result"
    }
   ],
   "source": [
    "X_train.shape, X_test.shape"
   ]
  },
  {
   "cell_type": "markdown",
   "id": "5ccf3f85",
   "metadata": {
    "papermill": {
     "duration": 0.035202,
     "end_time": "2021-11-13T10:07:37.375285",
     "exception": false,
     "start_time": "2021-11-13T10:07:37.340083",
     "status": "completed"
    },
    "tags": []
   },
   "source": [
    "We reshape the data to flatten the image pixels into a set of features or co-variates:"
   ]
  },
  {
   "cell_type": "code",
   "execution_count": 14,
   "id": "5286a4a3",
   "metadata": {
    "execution": {
     "iopub.execute_input": "2021-11-13T10:07:37.455547Z",
     "iopub.status.busy": "2021-11-13T10:07:37.454867Z",
     "iopub.status.idle": "2021-11-13T10:07:37.468186Z",
     "shell.execute_reply": "2021-11-13T10:07:37.467585Z"
    },
    "papermill": {
     "duration": 0.058483,
     "end_time": "2021-11-13T10:07:37.468325",
     "exception": false,
     "start_time": "2021-11-13T10:07:37.409842",
     "status": "completed"
    },
    "tags": []
   },
   "outputs": [
    {
     "data": {
      "text/plain": [
       "((11982, 784), (1984, 784))"
      ]
     },
     "execution_count": 14,
     "metadata": {},
     "output_type": "execute_result"
    }
   ],
   "source": [
    "X_train = X_train.reshape(X_train.shape[0], -1)\n",
    "X_test = X_test.reshape(X_test.shape[0], -1)\n",
    "X_train.shape, X_test.shape"
   ]
  },
  {
   "cell_type": "code",
   "execution_count": 15,
   "id": "73c5f88a",
   "metadata": {
    "execution": {
     "iopub.execute_input": "2021-11-13T10:07:37.552757Z",
     "iopub.status.busy": "2021-11-13T10:07:37.551512Z",
     "iopub.status.idle": "2021-11-13T10:07:37.568521Z",
     "shell.execute_reply": "2021-11-13T10:07:37.569029Z"
    },
    "papermill": {
     "duration": 0.064425,
     "end_time": "2021-11-13T10:07:37.569188",
     "exception": false,
     "start_time": "2021-11-13T10:07:37.504763",
     "status": "completed"
    },
    "tags": []
   },
   "outputs": [],
   "source": [
    "#Impoting functions from 'Kudzu'\n",
    "from kudzu.model import Model\n",
    "from kudzu.train import Learner\n",
    "from kudzu.optim import GD\n",
    "from kudzu.data import Data, Sampler,Dataloader\n",
    "\n",
    "from kudzu.callbacks import AccCallback\n",
    "from kudzu.callbacks import ClfCallback\n",
    "\n",
    "from kudzu.loss import MSE\n",
    "\n",
    "from kudzu.layer import Sigmoid,Relu\n",
    "from kudzu.layer import Affine"
   ]
  },
  {
   "cell_type": "markdown",
   "id": "bc01172a",
   "metadata": {
    "papermill": {
     "duration": 0.034861,
     "end_time": "2021-11-13T10:07:37.640366",
     "exception": false,
     "start_time": "2021-11-13T10:07:37.605505",
     "status": "completed"
    },
    "tags": []
   },
   "source": [
    "### Let us create a `Config` class, to store important parameters. \n",
    "This class essentially plays the role of a dictionary."
   ]
  },
  {
   "cell_type": "code",
   "execution_count": 16,
   "id": "978281aa",
   "metadata": {
    "execution": {
     "iopub.execute_input": "2021-11-13T10:07:37.719973Z",
     "iopub.status.busy": "2021-11-13T10:07:37.719260Z",
     "iopub.status.idle": "2021-11-13T10:07:37.731240Z",
     "shell.execute_reply": "2021-11-13T10:07:37.731925Z"
    },
    "papermill": {
     "duration": 0.057465,
     "end_time": "2021-11-13T10:07:37.732086",
     "exception": false,
     "start_time": "2021-11-13T10:07:37.674621",
     "status": "completed"
    },
    "tags": []
   },
   "outputs": [],
   "source": [
    "class Config:\n",
    "    pass\n",
    "config = Config()\n",
    "config.lr = 0.001\n",
    "config.num_epochs = 250\n",
    "config.bs = 50"
   ]
  },
  {
   "cell_type": "markdown",
   "id": "1385fa59",
   "metadata": {
    "papermill": {
     "duration": 0.035362,
     "end_time": "2021-11-13T10:07:37.802315",
     "exception": false,
     "start_time": "2021-11-13T10:07:37.766953",
     "status": "completed"
    },
    "tags": []
   },
   "source": [
    "### Running Models with the Training data\n",
    "Details about the network layers:\n",
    "- A first affine layer has 784 inputs and does 100 affine transforms. These are followed by a Relu\n",
    "- A second affine layer has 100 inputs from the 100 activations of the past layer, and does 100 affine transforms. These are followed by a Relu\n",
    "- A third affine layer has 100 activations and does 2 affine transformations to create an embedding for visualization. There is no non-linearity here.\n",
    "- A final \"logistic regression\" which has an affine transform from 2 inputs to 1 output, which is squeezed through a sigmoid.\n"
   ]
  },
  {
   "cell_type": "code",
   "execution_count": 17,
   "id": "2b9c66db",
   "metadata": {
    "execution": {
     "iopub.execute_input": "2021-11-13T10:07:37.890091Z",
     "iopub.status.busy": "2021-11-13T10:07:37.889356Z",
     "iopub.status.idle": "2021-11-13T10:07:37.896583Z",
     "shell.execute_reply": "2021-11-13T10:07:37.897128Z"
    },
    "papermill": {
     "duration": 0.059347,
     "end_time": "2021-11-13T10:07:37.897300",
     "exception": false,
     "start_time": "2021-11-13T10:07:37.837953",
     "status": "completed"
    },
    "tags": []
   },
   "outputs": [],
   "source": [
    "data = Data(X_train, y_train.reshape(-1,1))\n",
    "sampler = Sampler(data, config.bs, shuffle=True)\n",
    "\n",
    "dl = Dataloader(data, sampler)\n",
    "\n",
    "opt = GD(config.lr)\n",
    "loss = MSE()"
   ]
  },
  {
   "cell_type": "code",
   "execution_count": 18,
   "id": "b275e4c2",
   "metadata": {
    "execution": {
     "iopub.execute_input": "2021-11-13T10:07:37.973448Z",
     "iopub.status.busy": "2021-11-13T10:07:37.972716Z",
     "iopub.status.idle": "2021-11-13T10:07:37.985822Z",
     "shell.execute_reply": "2021-11-13T10:07:37.985241Z"
    },
    "papermill": {
     "duration": 0.053971,
     "end_time": "2021-11-13T10:07:37.985965",
     "exception": false,
     "start_time": "2021-11-13T10:07:37.931994",
     "status": "completed"
    },
    "tags": []
   },
   "outputs": [],
   "source": [
    "training_data_x = X_train\n",
    "testing_data_x = X_test\n",
    "training_data_y = y_train.reshape(-1,1)\n",
    "testing_data_y = y_test.reshape(-1,1)"
   ]
  },
  {
   "cell_type": "code",
   "execution_count": 19,
   "id": "76951160",
   "metadata": {
    "execution": {
     "iopub.execute_input": "2021-11-13T10:07:38.059946Z",
     "iopub.status.busy": "2021-11-13T10:07:38.059232Z",
     "iopub.status.idle": "2021-11-13T10:07:38.077424Z",
     "shell.execute_reply": "2021-11-13T10:07:38.076857Z"
    },
    "papermill": {
     "duration": 0.057326,
     "end_time": "2021-11-13T10:07:38.077562",
     "exception": false,
     "start_time": "2021-11-13T10:07:38.020236",
     "status": "completed"
    },
    "tags": []
   },
   "outputs": [
    {
     "name": "stdout",
     "output_type": "stream",
     "text": [
      "xavier\n",
      "xavier\n",
      "xavier\n",
      "xavier\n",
      "xavier\n"
     ]
    }
   ],
   "source": [
    "layers = [Affine(\"first\", 784, 100), Relu(\"first\"), Affine(\"second\", 100, 100), Relu(\"second\"), Affine(\"third\", 100, 2), Affine(\"last\", 2, 1), Sigmoid(\"last\")]\n",
    "model_nn = Model(layers)\n",
    "model_lr = Model([Affine(\"logits\", 784, 1), Sigmoid(\"sigmoid\")])"
   ]
  },
  {
   "cell_type": "code",
   "execution_count": 20,
   "id": "6eede77a",
   "metadata": {
    "execution": {
     "iopub.execute_input": "2021-11-13T10:07:38.158903Z",
     "iopub.status.busy": "2021-11-13T10:07:38.158236Z",
     "iopub.status.idle": "2021-11-13T10:07:38.168466Z",
     "shell.execute_reply": "2021-11-13T10:07:38.167905Z"
    },
    "papermill": {
     "duration": 0.05558,
     "end_time": "2021-11-13T10:07:38.168602",
     "exception": false,
     "start_time": "2021-11-13T10:07:38.113022",
     "status": "completed"
    },
    "tags": []
   },
   "outputs": [],
   "source": [
    "nn_learner = Learner(loss, model_nn, opt, config.num_epochs)\n",
    "acc_nn = ClfCallback(nn_learner, config.bs, training_data_x , testing_data_x, training_data_y, testing_data_y)\n",
    "nn_learner.set_callbacks([acc_nn])"
   ]
  },
  {
   "cell_type": "code",
   "execution_count": 21,
   "id": "877b6cc7",
   "metadata": {
    "execution": {
     "iopub.execute_input": "2021-11-13T10:07:38.246603Z",
     "iopub.status.busy": "2021-11-13T10:07:38.245943Z",
     "iopub.status.idle": "2021-11-13T10:07:38.258771Z",
     "shell.execute_reply": "2021-11-13T10:07:38.258211Z"
    },
    "papermill": {
     "duration": 0.055518,
     "end_time": "2021-11-13T10:07:38.258906",
     "exception": false,
     "start_time": "2021-11-13T10:07:38.203388",
     "status": "completed"
    },
    "tags": []
   },
   "outputs": [],
   "source": [
    "lr_learner = Learner(loss, model_lr, opt, config.num_epochs)\n",
    "acc_lr = ClfCallback(lr_learner, config.bs, training_data_x , testing_data_x, training_data_y, testing_data_y)\n",
    "lr_learner.set_callbacks([acc_lr])"
   ]
  },
  {
   "cell_type": "code",
   "execution_count": 22,
   "id": "d9b133c3",
   "metadata": {
    "execution": {
     "iopub.execute_input": "2021-11-13T10:07:38.337131Z",
     "iopub.status.busy": "2021-11-13T10:07:38.336466Z",
     "iopub.status.idle": "2021-11-13T10:09:45.837638Z",
     "shell.execute_reply": "2021-11-13T10:09:45.838521Z"
    },
    "papermill": {
     "duration": 127.54395,
     "end_time": "2021-11-13T10:09:45.838696",
     "exception": false,
     "start_time": "2021-11-13T10:07:38.294746",
     "status": "completed"
    },
    "tags": []
   },
   "outputs": [
    {
     "name": "stdout",
     "output_type": "stream",
     "text": [
      "Epoch 0, Loss 0.2531\n",
      "Training Accuracy: 0.4861, Testing Accuracy: 0.4899\n",
      "\n"
     ]
    },
    {
     "name": "stdout",
     "output_type": "stream",
     "text": [
      "Epoch 10, Loss 0.194\n",
      "Training Accuracy: 0.8724, Testing Accuracy: 0.8856\n",
      "\n"
     ]
    },
    {
     "name": "stdout",
     "output_type": "stream",
     "text": [
      "Epoch 20, Loss 0.0982\n",
      "Training Accuracy: 0.9145, Testing Accuracy: 0.9249\n",
      "\n"
     ]
    },
    {
     "name": "stdout",
     "output_type": "stream",
     "text": [
      "Epoch 30, Loss 0.061\n",
      "Training Accuracy: 0.9369, Testing Accuracy: 0.9511\n",
      "\n"
     ]
    },
    {
     "name": "stdout",
     "output_type": "stream",
     "text": [
      "Epoch 40, Loss 0.0471\n",
      "Training Accuracy: 0.9504, Testing Accuracy: 0.9592\n",
      "\n"
     ]
    },
    {
     "name": "stdout",
     "output_type": "stream",
     "text": [
      "Epoch 50, Loss 0.0403\n",
      "Training Accuracy: 0.9557, Testing Accuracy: 0.9662\n",
      "\n"
     ]
    },
    {
     "name": "stdout",
     "output_type": "stream",
     "text": [
      "Epoch 60, Loss 0.0364\n",
      "Training Accuracy: 0.9591, Testing Accuracy: 0.9688\n",
      "\n"
     ]
    },
    {
     "name": "stdout",
     "output_type": "stream",
     "text": [
      "Epoch 70, Loss 0.0338\n",
      "Training Accuracy: 0.9613, Testing Accuracy: 0.9698\n",
      "\n"
     ]
    },
    {
     "name": "stdout",
     "output_type": "stream",
     "text": [
      "Epoch 80, Loss 0.0318\n",
      "Training Accuracy: 0.9636, Testing Accuracy: 0.9703\n",
      "\n"
     ]
    },
    {
     "name": "stdout",
     "output_type": "stream",
     "text": [
      "Epoch 90, Loss 0.0303\n",
      "Training Accuracy: 0.9649, Testing Accuracy: 0.9713\n",
      "\n"
     ]
    },
    {
     "name": "stdout",
     "output_type": "stream",
     "text": [
      "Epoch 100, Loss 0.0291\n",
      "Training Accuracy: 0.9665, Testing Accuracy: 0.9723\n",
      "\n"
     ]
    },
    {
     "name": "stdout",
     "output_type": "stream",
     "text": [
      "Epoch 110, Loss 0.028\n",
      "Training Accuracy: 0.9680, Testing Accuracy: 0.9723\n",
      "\n"
     ]
    },
    {
     "name": "stdout",
     "output_type": "stream",
     "text": [
      "Epoch 120, Loss 0.0271\n",
      "Training Accuracy: 0.9690, Testing Accuracy: 0.9723\n",
      "\n"
     ]
    },
    {
     "name": "stdout",
     "output_type": "stream",
     "text": [
      "Epoch 130, Loss 0.0263\n",
      "Training Accuracy: 0.9699, Testing Accuracy: 0.9718\n",
      "\n"
     ]
    },
    {
     "name": "stdout",
     "output_type": "stream",
     "text": [
      "Epoch 140, Loss 0.0255\n",
      "Training Accuracy: 0.9702, Testing Accuracy: 0.9728\n",
      "\n"
     ]
    },
    {
     "name": "stdout",
     "output_type": "stream",
     "text": [
      "Epoch 150, Loss 0.0248\n",
      "Training Accuracy: 0.9709, Testing Accuracy: 0.9713\n",
      "\n"
     ]
    },
    {
     "name": "stdout",
     "output_type": "stream",
     "text": [
      "Epoch 160, Loss 0.0242\n",
      "Training Accuracy: 0.9717, Testing Accuracy: 0.9713\n",
      "\n"
     ]
    },
    {
     "name": "stdout",
     "output_type": "stream",
     "text": [
      "Epoch 170, Loss 0.0237\n",
      "Training Accuracy: 0.9725, Testing Accuracy: 0.9723\n",
      "\n"
     ]
    },
    {
     "name": "stdout",
     "output_type": "stream",
     "text": [
      "Epoch 180, Loss 0.0231\n",
      "Training Accuracy: 0.9734, Testing Accuracy: 0.9733\n",
      "\n"
     ]
    },
    {
     "name": "stdout",
     "output_type": "stream",
     "text": [
      "Epoch 190, Loss 0.0226\n",
      "Training Accuracy: 0.9739, Testing Accuracy: 0.9733\n",
      "\n"
     ]
    },
    {
     "name": "stdout",
     "output_type": "stream",
     "text": [
      "Epoch 200, Loss 0.0222\n",
      "Training Accuracy: 0.9747, Testing Accuracy: 0.9733\n",
      "\n"
     ]
    },
    {
     "name": "stdout",
     "output_type": "stream",
     "text": [
      "Epoch 210, Loss 0.0217\n",
      "Training Accuracy: 0.9753, Testing Accuracy: 0.9728\n",
      "\n"
     ]
    },
    {
     "name": "stdout",
     "output_type": "stream",
     "text": [
      "Epoch 220, Loss 0.0213\n",
      "Training Accuracy: 0.9760, Testing Accuracy: 0.9728\n",
      "\n"
     ]
    },
    {
     "name": "stdout",
     "output_type": "stream",
     "text": [
      "Epoch 230, Loss 0.0209\n",
      "Training Accuracy: 0.9762, Testing Accuracy: 0.9728\n",
      "\n"
     ]
    },
    {
     "name": "stdout",
     "output_type": "stream",
     "text": [
      "Epoch 240, Loss 0.0205\n",
      "Training Accuracy: 0.9770, Testing Accuracy: 0.9723\n",
      "\n"
     ]
    },
    {
     "data": {
      "text/plain": [
       "0.02605559665687303"
      ]
     },
     "execution_count": 22,
     "metadata": {},
     "output_type": "execute_result"
    }
   ],
   "source": [
    "nn_learner.train_loop(dl)"
   ]
  },
  {
   "cell_type": "code",
   "execution_count": 23,
   "id": "e0163366",
   "metadata": {
    "execution": {
     "iopub.execute_input": "2021-11-13T10:09:45.937957Z",
     "iopub.status.busy": "2021-11-13T10:09:45.937281Z",
     "iopub.status.idle": "2021-11-13T10:10:04.024910Z",
     "shell.execute_reply": "2021-11-13T10:10:04.025790Z"
    },
    "papermill": {
     "duration": 18.144564,
     "end_time": "2021-11-13T10:10:04.025962",
     "exception": false,
     "start_time": "2021-11-13T10:09:45.881398",
     "status": "completed"
    },
    "tags": []
   },
   "outputs": [
    {
     "name": "stdout",
     "output_type": "stream",
     "text": [
      "Epoch 0, Loss 0.2261\n",
      "Training Accuracy: 0.7380, Testing Accuracy: 0.7273\n",
      "\n"
     ]
    },
    {
     "name": "stdout",
     "output_type": "stream",
     "text": [
      "Epoch 10, Loss 0.1007\n",
      "Training Accuracy: 0.9170, Testing Accuracy: 0.9219\n",
      "\n"
     ]
    },
    {
     "name": "stdout",
     "output_type": "stream",
     "text": [
      "Epoch 20, Loss 0.078\n",
      "Training Accuracy: 0.9313, Testing Accuracy: 0.9405\n",
      "\n"
     ]
    },
    {
     "name": "stdout",
     "output_type": "stream",
     "text": [
      "Epoch 30, Loss 0.0674\n",
      "Training Accuracy: 0.9394, Testing Accuracy: 0.9496\n",
      "\n"
     ]
    },
    {
     "name": "stdout",
     "output_type": "stream",
     "text": [
      "Epoch 40, Loss 0.0609\n",
      "Training Accuracy: 0.9437, Testing Accuracy: 0.9531\n",
      "\n"
     ]
    },
    {
     "name": "stdout",
     "output_type": "stream",
     "text": [
      "Epoch 50, Loss 0.0566\n",
      "Training Accuracy: 0.9468, Testing Accuracy: 0.9556\n",
      "\n"
     ]
    },
    {
     "name": "stdout",
     "output_type": "stream",
     "text": [
      "Epoch 60, Loss 0.0533\n",
      "Training Accuracy: 0.9493, Testing Accuracy: 0.9567\n",
      "\n"
     ]
    },
    {
     "name": "stdout",
     "output_type": "stream",
     "text": [
      "Epoch 70, Loss 0.0508\n",
      "Training Accuracy: 0.9514, Testing Accuracy: 0.9587\n",
      "\n"
     ]
    },
    {
     "name": "stdout",
     "output_type": "stream",
     "text": [
      "Epoch 80, Loss 0.0488\n",
      "Training Accuracy: 0.9533, Testing Accuracy: 0.9602\n",
      "\n"
     ]
    },
    {
     "name": "stdout",
     "output_type": "stream",
     "text": [
      "Epoch 90, Loss 0.0472\n",
      "Training Accuracy: 0.9548, Testing Accuracy: 0.9612\n",
      "\n"
     ]
    },
    {
     "name": "stdout",
     "output_type": "stream",
     "text": [
      "Epoch 100, Loss 0.0458\n",
      "Training Accuracy: 0.9553, Testing Accuracy: 0.9617\n",
      "\n"
     ]
    },
    {
     "name": "stdout",
     "output_type": "stream",
     "text": [
      "Epoch 110, Loss 0.0446\n",
      "Training Accuracy: 0.9566, Testing Accuracy: 0.9622\n",
      "\n"
     ]
    },
    {
     "name": "stdout",
     "output_type": "stream",
     "text": [
      "Epoch 120, Loss 0.0436\n",
      "Training Accuracy: 0.9574, Testing Accuracy: 0.9627\n",
      "\n"
     ]
    },
    {
     "name": "stdout",
     "output_type": "stream",
     "text": [
      "Epoch 130, Loss 0.0427\n",
      "Training Accuracy: 0.9579, Testing Accuracy: 0.9627\n",
      "\n"
     ]
    },
    {
     "name": "stdout",
     "output_type": "stream",
     "text": [
      "Epoch 140, Loss 0.0419\n",
      "Training Accuracy: 0.9580, Testing Accuracy: 0.9637\n",
      "\n"
     ]
    },
    {
     "name": "stdout",
     "output_type": "stream",
     "text": [
      "Epoch 150, Loss 0.0411\n",
      "Training Accuracy: 0.9584, Testing Accuracy: 0.9642\n",
      "\n"
     ]
    },
    {
     "name": "stdout",
     "output_type": "stream",
     "text": [
      "Epoch 160, Loss 0.0405\n",
      "Training Accuracy: 0.9584, Testing Accuracy: 0.9642\n",
      "\n"
     ]
    },
    {
     "name": "stdout",
     "output_type": "stream",
     "text": [
      "Epoch 170, Loss 0.0399\n",
      "Training Accuracy: 0.9589, Testing Accuracy: 0.9652\n",
      "\n"
     ]
    },
    {
     "name": "stdout",
     "output_type": "stream",
     "text": [
      "Epoch 180, Loss 0.0393\n",
      "Training Accuracy: 0.9589, Testing Accuracy: 0.9657\n",
      "\n"
     ]
    },
    {
     "name": "stdout",
     "output_type": "stream",
     "text": [
      "Epoch 190, Loss 0.0388\n",
      "Training Accuracy: 0.9593, Testing Accuracy: 0.9662\n",
      "\n"
     ]
    },
    {
     "name": "stdout",
     "output_type": "stream",
     "text": [
      "Epoch 200, Loss 0.0384\n",
      "Training Accuracy: 0.9597, Testing Accuracy: 0.9657\n",
      "\n"
     ]
    },
    {
     "name": "stdout",
     "output_type": "stream",
     "text": [
      "Epoch 210, Loss 0.0379\n",
      "Training Accuracy: 0.9600, Testing Accuracy: 0.9657\n",
      "\n"
     ]
    },
    {
     "name": "stdout",
     "output_type": "stream",
     "text": [
      "Epoch 220, Loss 0.0375\n",
      "Training Accuracy: 0.9604, Testing Accuracy: 0.9657\n",
      "\n"
     ]
    },
    {
     "name": "stdout",
     "output_type": "stream",
     "text": [
      "Epoch 230, Loss 0.0371\n",
      "Training Accuracy: 0.9607, Testing Accuracy: 0.9657\n",
      "\n"
     ]
    },
    {
     "name": "stdout",
     "output_type": "stream",
     "text": [
      "Epoch 240, Loss 0.0368\n",
      "Training Accuracy: 0.9609, Testing Accuracy: 0.9657\n",
      "\n"
     ]
    },
    {
     "data": {
      "text/plain": [
       "0.031560754927337745"
      ]
     },
     "execution_count": 23,
     "metadata": {},
     "output_type": "execute_result"
    }
   ],
   "source": [
    "lr_learner.train_loop(dl)"
   ]
  },
  {
   "cell_type": "code",
   "execution_count": 24,
   "id": "ca410940",
   "metadata": {
    "execution": {
     "iopub.execute_input": "2021-11-13T10:10:04.137184Z",
     "iopub.status.busy": "2021-11-13T10:10:04.136435Z",
     "iopub.status.idle": "2021-11-13T10:10:04.438651Z",
     "shell.execute_reply": "2021-11-13T10:10:04.438068Z"
    },
    "papermill": {
     "duration": 0.358832,
     "end_time": "2021-11-13T10:10:04.438800",
     "exception": false,
     "start_time": "2021-11-13T10:10:04.079968",
     "status": "completed"
    },
    "tags": []
   },
   "outputs": [
    {
     "data": {
      "text/plain": [
       "<matplotlib.legend.Legend at 0x7f2661ef27b8>"
      ]
     },
     "execution_count": 24,
     "metadata": {},
     "output_type": "execute_result"
    },
    {
     "data": {
      "image/png": "[encoded data removed]",
      "text/plain": [
       "<Figure size 1080x720 with 1 Axes>"
      ]
     },
     "metadata": {
      "needs_background": "light"
     },
     "output_type": "display_data"
    }
   ],
   "source": [
    "#comparing the results of NN and LR\n",
    "plt.figure(figsize=(15,10))\n",
    "\n",
    "# Neural Network plots\n",
    "plt.plot(acc_nn.accuracies, 'r-', label = \"Training Accuracies - NN\")\n",
    "plt.plot(acc_nn.test_accuracies, 'g-', label = \"Testing Accuracies - NN\")\n",
    "\n",
    "# Logistic Regression plots\n",
    "plt.plot(acc_lr.accuracies, 'k-', label = \"Training Accuracies - LR\")\n",
    "plt.plot(acc_lr.test_accuracies, 'b-', label = \"Testing Accuracies - LR\")\n",
    "plt.legend()"
   ]
  },
  {
   "cell_type": "markdown",
   "id": "80dfb35c",
   "metadata": {
    "papermill": {
     "duration": 0.061606,
     "end_time": "2021-11-13T10:10:04.556885",
     "exception": false,
     "start_time": "2021-11-13T10:10:04.495279",
     "status": "completed"
    },
    "tags": []
   },
   "source": [
    "#### Plotting the outputs of this layer of the NN.\n"
   ]
  },
  {
   "cell_type": "code",
   "execution_count": 25,
   "id": "45eb2ff5",
   "metadata": {
    "execution": {
     "iopub.execute_input": "2021-11-13T10:10:04.672457Z",
     "iopub.status.busy": "2021-11-13T10:10:04.671751Z",
     "iopub.status.idle": "2021-11-13T10:10:04.694910Z",
     "shell.execute_reply": "2021-11-13T10:10:04.695472Z"
    },
    "papermill": {
     "duration": 0.083942,
     "end_time": "2021-11-13T10:10:04.695650",
     "exception": false,
     "start_time": "2021-11-13T10:10:04.611708",
     "status": "completed"
    },
    "tags": []
   },
   "outputs": [],
   "source": [
    "new_model = Model(layers[:-2])\n",
    "testing_plot = new_model(testing_data_x)"
   ]
  },
  {
   "cell_type": "code",
   "execution_count": 26,
   "id": "4c0a5485",
   "metadata": {
    "execution": {
     "iopub.execute_input": "2021-11-13T10:10:04.809255Z",
     "iopub.status.busy": "2021-11-13T10:10:04.808590Z",
     "iopub.status.idle": "2021-11-13T10:10:05.090349Z",
     "shell.execute_reply": "2021-11-13T10:10:05.089794Z"
    },
    "papermill": {
     "duration": 0.340865,
     "end_time": "2021-11-13T10:10:05.090501",
     "exception": false,
     "start_time": "2021-11-13T10:10:04.749636",
     "status": "completed"
    },
    "tags": []
   },
   "outputs": [
    {
     "data": {
      "text/plain": [
       "Text(0.5, 1.0, 'Outputs')"
      ]
     },
     "execution_count": 26,
     "metadata": {},
     "output_type": "execute_result"
    },
    {
     "data": {
      "image/png": "[encoded data removed]",
      "text/plain": [
       "<Figure size 576x504 with 1 Axes>"
      ]
     },
     "metadata": {
      "needs_background": "light"
     },
     "output_type": "display_data"
    }
   ],
   "source": [
    "# Plotting the scatter plot of points and color coding by class\n",
    "plt.figure(figsize=(8,7))\n",
    "plt.scatter(testing_plot[:,0], testing_plot[:,1], alpha = 0.1, c = y_test.ravel());\n",
    "plt.title('Outputs')"
   ]
  },
  {
   "cell_type": "markdown",
   "id": "a74fcf8f",
   "metadata": {
    "papermill": {
     "duration": 0.057439,
     "end_time": "2021-11-13T10:10:05.206384",
     "exception": false,
     "start_time": "2021-11-13T10:10:05.148945",
     "status": "completed"
    },
    "tags": []
   },
   "source": [
    "Probability contours"
   ]
  },
  {
   "cell_type": "code",
   "execution_count": 27,
   "id": "d0afc8e3",
   "metadata": {
    "execution": {
     "iopub.execute_input": "2021-11-13T10:10:05.352515Z",
     "iopub.status.busy": "2021-11-13T10:10:05.351826Z",
     "iopub.status.idle": "2021-11-13T10:10:05.366718Z",
     "shell.execute_reply": "2021-11-13T10:10:05.366176Z"
    },
    "papermill": {
     "duration": 0.075334,
     "end_time": "2021-11-13T10:10:05.366857",
     "exception": false,
     "start_time": "2021-11-13T10:10:05.291523",
     "status": "completed"
    },
    "tags": []
   },
   "outputs": [],
   "source": [
    "model_prob = Model(layers[-2:]) "
   ]
  },
  {
   "cell_type": "code",
   "execution_count": 28,
   "id": "9b96e238",
   "metadata": {
    "execution": {
     "iopub.execute_input": "2021-11-13T10:10:05.485988Z",
     "iopub.status.busy": "2021-11-13T10:10:05.485312Z",
     "iopub.status.idle": "2021-11-13T10:10:05.500556Z",
     "shell.execute_reply": "2021-11-13T10:10:05.501062Z"
    },
    "papermill": {
     "duration": 0.077726,
     "end_time": "2021-11-13T10:10:05.501223",
     "exception": false,
     "start_time": "2021-11-13T10:10:05.423497",
     "status": "completed"
    },
    "tags": []
   },
   "outputs": [],
   "source": [
    "#creating the x and y ranges according to the above generated plot.\n",
    "x_range = np.linspace(-4, 1, 100) \n",
    "y_range = np.linspace(-6, 6, 100) \n",
    "x_grid, y_grid = np.meshgrid(x_range, y_range) # x_grid and y_grig are of size 100 X 100\n",
    "\n",
    "# converting x_grid and y_grid to continuous arrays\n",
    "x_gridflat = np.ravel(x_grid)\n",
    "y_gridflat = np.ravel(y_grid)\n",
    "\n",
    "# The last layer of the current model takes two columns as input. Hence transpose of np.vstack() is required.\n",
    "X = np.vstack((x_gridflat, y_gridflat)).T\n",
    "\n",
    "prob_contour = model_prob(X).reshape(100,100) "
   ]
  },
  {
   "cell_type": "code",
   "execution_count": 29,
   "id": "da72499a",
   "metadata": {
    "execution": {
     "iopub.execute_input": "2021-11-13T10:10:05.628388Z",
     "iopub.status.busy": "2021-11-13T10:10:05.627323Z",
     "iopub.status.idle": "2021-11-13T10:10:05.947374Z",
     "shell.execute_reply": "2021-11-13T10:10:05.946377Z"
    },
    "papermill": {
     "duration": 0.388998,
     "end_time": "2021-11-13T10:10:05.947530",
     "exception": false,
     "start_time": "2021-11-13T10:10:05.558532",
     "status": "completed"
    },
    "tags": []
   },
   "outputs": [
    {
     "data": {
      "image/png": "[encoded data removed]",
      "text/plain": [
       "<Figure size 720x648 with 1 Axes>"
      ]
     },
     "metadata": {
      "needs_background": "light"
     },
     "output_type": "display_data"
    }
   ],
   "source": [
    "plt.figure(figsize=(10,9))\n",
    "plt.scatter(testing_plot[:,0], testing_plot[:,1], alpha = 0.1, c = y_test.ravel())\n",
    "contours = plt.contour(x_grid,y_grid,prob_contour)\n",
    "plt.title('Probability Contours')\n",
    "plt.clabel(contours, inline = True );"
   ]
  },
  {
   "cell_type": "code",
   "execution_count": null,
   "id": "e81b4ac7",
   "metadata": {
    "papermill": {
     "duration": 0.058441,
     "end_time": "2021-11-13T10:10:06.068967",
     "exception": false,
     "start_time": "2021-11-13T10:10:06.010526",
     "status": "completed"
    },
    "tags": []
   },
   "outputs": [],
   "source": []
  }
 ],
 "metadata": {
  "kernelspec": {
   "display_name": "Python 3",
   "language": "python",
   "name": "python3"
  },
  "language_info": {
   "codemirror_mode": {
    "name": "ipython",
    "version": 3
   },
   "file_extension": ".py",
   "mimetype": "text/x-python",
   "name": "python",
   "nbconvert_exporter": "python",
   "pygments_lexer": "ipython3",
   "version": "3.6.15"
  },
  "papermill": {
   "default_parameters": {},
   "duration": 155.63965,
   "end_time": "2021-11-13T10:10:06.535771",
   "environment_variables": {},
   "exception": null,
   "input_path": "2020-08-11-part2.ipynb",
   "output_path": "2020-08-11-part2.ipynb",
   "parameters": {},
   "start_time": "2021-11-13T10:07:30.896121",
   "version": "2.3.3"
  }
 },
 "nbformat": 4,
 "nbformat_minor": 5
}