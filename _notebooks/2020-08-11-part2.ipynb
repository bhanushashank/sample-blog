{
 "cells": [
  {
   "cell_type": "markdown",
   "id": "98380cd3",
   "metadata": {
    "papermill": {
     "duration": 0.031807,
     "end_time": "2021-11-17T10:08:45.630026",
     "exception": false,
     "start_time": "2021-11-17T10:08:45.598219",
     "status": "completed"
    },
    "tags": []
   },
   "source": [
    "# Distinguish Your Own Digits (DYOD)"
   ]
  },
  {
   "cell_type": "markdown",
   "id": "ef31240d",
   "metadata": {
    "papermill": {
     "duration": 0.027894,
     "end_time": "2021-11-17T10:08:45.685262",
     "exception": false,
     "start_time": "2021-11-17T10:08:45.657368",
     "status": "completed"
    },
    "tags": []
   },
   "source": [
    "You are going to write a classifier that distinguishes between the number 3 and number 8."
   ]
  },
  {
   "cell_type": "code",
   "execution_count": 1,
   "id": "b15c8646",
   "metadata": {
    "execution": {
     "iopub.execute_input": "2021-11-17T10:08:45.750955Z",
     "iopub.status.busy": "2021-11-17T10:08:45.750329Z",
     "iopub.status.idle": "2021-11-17T10:08:45.761244Z",
     "shell.execute_reply": "2021-11-17T10:08:45.761702Z"
    },
    "papermill": {
     "duration": 0.049997,
     "end_time": "2021-11-17T10:08:45.761877",
     "exception": false,
     "start_time": "2021-11-17T10:08:45.711880",
     "status": "completed"
    },
    "tags": []
   },
   "outputs": [],
   "source": [
    "%load_ext autoreload\n",
    "%autoreload 2"
   ]
  },
  {
   "cell_type": "code",
   "execution_count": 2,
   "id": "22ef38dc",
   "metadata": {
    "execution": {
     "iopub.execute_input": "2021-11-17T10:08:45.819552Z",
     "iopub.status.busy": "2021-11-17T10:08:45.818914Z",
     "iopub.status.idle": "2021-11-17T10:08:46.399886Z",
     "shell.execute_reply": "2021-11-17T10:08:46.399306Z"
    },
    "papermill": {
     "duration": 0.611764,
     "end_time": "2021-11-17T10:08:46.400023",
     "exception": false,
     "start_time": "2021-11-17T10:08:45.788259",
     "status": "completed"
    },
    "tags": []
   },
   "outputs": [],
   "source": [
    "%matplotlib inline\n",
    "import numpy as np\n",
    "import matplotlib.pyplot as plt\n",
    "import pandas as pd"
   ]
  },
  {
   "cell_type": "markdown",
   "id": "ba036198",
   "metadata": {
    "papermill": {
     "duration": 0.02632,
     "end_time": "2021-11-17T10:08:46.452520",
     "exception": false,
     "start_time": "2021-11-17T10:08:46.426200",
     "status": "completed"
    },
    "tags": []
   },
   "source": [
    "From the command line run `pip install mnist`. This is a library that will help you bring down the mnist dataset. If you run this from a notebook, you need to put  `!pip install mnist` in a cell by itself."
   ]
  },
  {
   "cell_type": "code",
   "execution_count": 3,
   "id": "bb6ad8a1",
   "metadata": {
    "execution": {
     "iopub.execute_input": "2021-11-17T10:08:46.510366Z",
     "iopub.status.busy": "2021-11-17T10:08:46.509812Z",
     "iopub.status.idle": "2021-11-17T10:08:48.328731Z",
     "shell.execute_reply": "2021-11-17T10:08:48.328057Z"
    },
    "papermill": {
     "duration": 1.850379,
     "end_time": "2021-11-17T10:08:48.328855",
     "exception": false,
     "start_time": "2021-11-17T10:08:46.478476",
     "status": "completed"
    },
    "tags": []
   },
   "outputs": [
    {
     "name": "stdout",
     "output_type": "stream",
     "text": [
      "Collecting mnist\r\n"
     ]
    },
    {
     "name": "stdout",
     "output_type": "stream",
     "text": [
      "  Downloading mnist-0.2.2-py2.py3-none-any.whl (3.5 kB)\r\n",
      "Requirement already satisfied: numpy in /opt/hostedtoolcache/Python/3.6.15/x64/lib/python3.6/site-packages (from mnist) (1.19.5)\r\n"
     ]
    },
    {
     "name": "stdout",
     "output_type": "stream",
     "text": [
      "Installing collected packages: mnist\r\n",
      "Successfully installed mnist-0.2.2\r\n"
     ]
    }
   ],
   "source": [
    "!pip install mnist"
   ]
  },
  {
   "cell_type": "markdown",
   "id": "69df9c9a",
   "metadata": {
    "papermill": {
     "duration": 0.026538,
     "end_time": "2021-11-17T10:08:48.381695",
     "exception": false,
     "start_time": "2021-11-17T10:08:48.355157",
     "status": "completed"
    },
    "tags": []
   },
   "source": [
    "## Preparing the Data"
   ]
  },
  {
   "cell_type": "code",
   "execution_count": 4,
   "id": "7f69d806",
   "metadata": {
    "execution": {
     "iopub.execute_input": "2021-11-17T10:08:48.439363Z",
     "iopub.status.busy": "2021-11-17T10:08:48.438190Z",
     "iopub.status.idle": "2021-11-17T10:08:48.455945Z",
     "shell.execute_reply": "2021-11-17T10:08:48.454853Z"
    },
    "papermill": {
     "duration": 0.048512,
     "end_time": "2021-11-17T10:08:48.456082",
     "exception": false,
     "start_time": "2021-11-17T10:08:48.407570",
     "status": "completed"
    },
    "tags": []
   },
   "outputs": [],
   "source": [
    "import mnist"
   ]
  },
  {
   "cell_type": "code",
   "execution_count": 5,
   "id": "a411e44f",
   "metadata": {
    "execution": {
     "iopub.execute_input": "2021-11-17T10:08:48.524220Z",
     "iopub.status.busy": "2021-11-17T10:08:48.517312Z",
     "iopub.status.idle": "2021-11-17T10:08:49.142692Z",
     "shell.execute_reply": "2021-11-17T10:08:49.143594Z"
    },
    "papermill": {
     "duration": 0.660147,
     "end_time": "2021-11-17T10:08:49.143864",
     "exception": false,
     "start_time": "2021-11-17T10:08:48.483717",
     "status": "completed"
    },
    "tags": []
   },
   "outputs": [],
   "source": [
    "train_images = mnist.train_images()\n",
    "train_labels = mnist.train_labels()"
   ]
  },
  {
   "cell_type": "code",
   "execution_count": 6,
   "id": "dceab3a5",
   "metadata": {
    "execution": {
     "iopub.execute_input": "2021-11-17T10:08:49.204497Z",
     "iopub.status.busy": "2021-11-17T10:08:49.203899Z",
     "iopub.status.idle": "2021-11-17T10:08:49.220849Z",
     "shell.execute_reply": "2021-11-17T10:08:49.220311Z"
    },
    "papermill": {
     "duration": 0.049371,
     "end_time": "2021-11-17T10:08:49.220977",
     "exception": false,
     "start_time": "2021-11-17T10:08:49.171606",
     "status": "completed"
    },
    "tags": []
   },
   "outputs": [
    {
     "data": {
      "text/plain": [
       "((60000, 28, 28), (60000,))"
      ]
     },
     "execution_count": 6,
     "metadata": {},
     "output_type": "execute_result"
    }
   ],
   "source": [
    "train_images.shape, train_labels.shape"
   ]
  },
  {
   "cell_type": "code",
   "execution_count": 7,
   "id": "f50dc2bb",
   "metadata": {
    "execution": {
     "iopub.execute_input": "2021-11-17T10:08:49.279487Z",
     "iopub.status.busy": "2021-11-17T10:08:49.278889Z",
     "iopub.status.idle": "2021-11-17T10:08:49.450404Z",
     "shell.execute_reply": "2021-11-17T10:08:49.449804Z"
    },
    "papermill": {
     "duration": 0.202093,
     "end_time": "2021-11-17T10:08:49.450543",
     "exception": false,
     "start_time": "2021-11-17T10:08:49.248450",
     "status": "completed"
    },
    "tags": []
   },
   "outputs": [],
   "source": [
    "test_images = mnist.test_images()\n",
    "test_labels = mnist.test_labels()"
   ]
  },
  {
   "cell_type": "code",
   "execution_count": 8,
   "id": "fc38cf1b",
   "metadata": {
    "execution": {
     "iopub.execute_input": "2021-11-17T10:08:49.512189Z",
     "iopub.status.busy": "2021-11-17T10:08:49.511606Z",
     "iopub.status.idle": "2021-11-17T10:08:49.524028Z",
     "shell.execute_reply": "2021-11-17T10:08:49.523541Z"
    },
    "papermill": {
     "duration": 0.045517,
     "end_time": "2021-11-17T10:08:49.524145",
     "exception": false,
     "start_time": "2021-11-17T10:08:49.478628",
     "status": "completed"
    },
    "tags": []
   },
   "outputs": [
    {
     "data": {
      "text/plain": [
       "((10000, 28, 28), (10000,))"
      ]
     },
     "execution_count": 8,
     "metadata": {},
     "output_type": "execute_result"
    }
   ],
   "source": [
    "test_images.shape, test_labels.shape"
   ]
  },
  {
   "cell_type": "code",
   "execution_count": 9,
   "id": "f9ed8fe0",
   "metadata": {
    "execution": {
     "iopub.execute_input": "2021-11-17T10:08:49.581996Z",
     "iopub.status.busy": "2021-11-17T10:08:49.581426Z",
     "iopub.status.idle": "2021-11-17T10:08:49.735884Z",
     "shell.execute_reply": "2021-11-17T10:08:49.735316Z"
    },
    "papermill": {
     "duration": 0.185128,
     "end_time": "2021-11-17T10:08:49.736025",
     "exception": false,
     "start_time": "2021-11-17T10:08:49.550897",
     "status": "completed"
    },
    "tags": []
   },
   "outputs": [
    {
     "name": "stdout",
     "output_type": "stream",
     "text": [
      "2\n"
     ]
    },
    {
     "data": {
      "text/plain": [
       "<matplotlib.image.AxesImage at 0x7f40ef87cac8>"
      ]
     },
     "execution_count": 9,
     "metadata": {},
     "output_type": "execute_result"
    },
    {
     "data": {
      "image/png": "[encoded data removed]",
      "text/plain": [
       "<Figure size 432x288 with 1 Axes>"
      ]
     },
     "metadata": {
      "needs_background": "light"
     },
     "output_type": "display_data"
    }
   ],
   "source": [
    "image_index = 7776 # You may select anything up to 60,000\n",
    "print(train_labels[image_index]) \n",
    "plt.imshow(train_images[image_index], cmap='Greys')"
   ]
  },
  {
   "cell_type": "markdown",
   "id": "a8d2388d",
   "metadata": {
    "papermill": {
     "duration": 0.029182,
     "end_time": "2021-11-17T10:08:49.793790",
     "exception": false,
     "start_time": "2021-11-17T10:08:49.764608",
     "status": "completed"
    },
    "tags": []
   },
   "source": [
    "## Filter data to get 3 and 8 out"
   ]
  },
  {
   "cell_type": "code",
   "execution_count": 10,
   "id": "776f7fc7",
   "metadata": {
    "execution": {
     "iopub.execute_input": "2021-11-17T10:08:49.857436Z",
     "iopub.status.busy": "2021-11-17T10:08:49.856789Z",
     "iopub.status.idle": "2021-11-17T10:08:49.877118Z",
     "shell.execute_reply": "2021-11-17T10:08:49.876541Z"
    },
    "papermill": {
     "duration": 0.054793,
     "end_time": "2021-11-17T10:08:49.877252",
     "exception": false,
     "start_time": "2021-11-17T10:08:49.822459",
     "status": "completed"
    },
    "tags": []
   },
   "outputs": [],
   "source": [
    "train_filter = np.where((train_labels == 3 ) | (train_labels == 8))\n",
    "test_filter = np.where((test_labels == 3) | (test_labels == 8))\n",
    "X_train, y_train = train_images[train_filter], train_labels[train_filter]\n",
    "X_test, y_test = test_images[test_filter], test_labels[test_filter]"
   ]
  },
  {
   "cell_type": "markdown",
   "id": "948f0b7e",
   "metadata": {
    "papermill": {
     "duration": 0.028528,
     "end_time": "2021-11-17T10:08:49.935251",
     "exception": false,
     "start_time": "2021-11-17T10:08:49.906723",
     "status": "completed"
    },
    "tags": []
   },
   "source": [
    "We normalize the pizel values in the 0 to 1 range"
   ]
  },
  {
   "cell_type": "code",
   "execution_count": 11,
   "id": "ee4c2166",
   "metadata": {
    "execution": {
     "iopub.execute_input": "2021-11-17T10:08:49.994959Z",
     "iopub.status.busy": "2021-11-17T10:08:49.994344Z",
     "iopub.status.idle": "2021-11-17T10:08:50.047594Z",
     "shell.execute_reply": "2021-11-17T10:08:50.046619Z"
    },
    "papermill": {
     "duration": 0.084869,
     "end_time": "2021-11-17T10:08:50.047808",
     "exception": false,
     "start_time": "2021-11-17T10:08:49.962939",
     "status": "completed"
    },
    "tags": []
   },
   "outputs": [],
   "source": [
    "X_train = X_train/255.\n",
    "X_test = X_test/255."
   ]
  },
  {
   "cell_type": "markdown",
   "id": "ddcf4fab",
   "metadata": {
    "papermill": {
     "duration": 0.028555,
     "end_time": "2021-11-17T10:08:50.105764",
     "exception": false,
     "start_time": "2021-11-17T10:08:50.077209",
     "status": "completed"
    },
    "tags": []
   },
   "source": [
    "And setup the labels as 1 (when the digit is 3) and 0 (when the digit is 8)"
   ]
  },
  {
   "cell_type": "code",
   "execution_count": 12,
   "id": "7dc908f2",
   "metadata": {
    "execution": {
     "iopub.execute_input": "2021-11-17T10:08:50.166219Z",
     "iopub.status.busy": "2021-11-17T10:08:50.165608Z",
     "iopub.status.idle": "2021-11-17T10:08:50.178593Z",
     "shell.execute_reply": "2021-11-17T10:08:50.178100Z"
    },
    "papermill": {
     "duration": 0.045198,
     "end_time": "2021-11-17T10:08:50.178715",
     "exception": false,
     "start_time": "2021-11-17T10:08:50.133517",
     "status": "completed"
    },
    "tags": []
   },
   "outputs": [],
   "source": [
    "y_train = 1*(y_train==3)\n",
    "y_test = 1*(y_test==3)"
   ]
  },
  {
   "cell_type": "code",
   "execution_count": 13,
   "id": "01e4e969",
   "metadata": {
    "execution": {
     "iopub.execute_input": "2021-11-17T10:08:50.241408Z",
     "iopub.status.busy": "2021-11-17T10:08:50.240822Z",
     "iopub.status.idle": "2021-11-17T10:08:50.254448Z",
     "shell.execute_reply": "2021-11-17T10:08:50.254917Z"
    },
    "papermill": {
     "duration": 0.047645,
     "end_time": "2021-11-17T10:08:50.255056",
     "exception": false,
     "start_time": "2021-11-17T10:08:50.207411",
     "status": "completed"
    },
    "tags": []
   },
   "outputs": [
    {
     "data": {
      "text/plain": [
       "((11982, 28, 28), (1984, 28, 28))"
      ]
     },
     "execution_count": 13,
     "metadata": {},
     "output_type": "execute_result"
    }
   ],
   "source": [
    "X_train.shape, X_test.shape"
   ]
  },
  {
   "cell_type": "markdown",
   "id": "5ccf3f85",
   "metadata": {
    "papermill": {
     "duration": 0.028278,
     "end_time": "2021-11-17T10:08:50.312134",
     "exception": false,
     "start_time": "2021-11-17T10:08:50.283856",
     "status": "completed"
    },
    "tags": []
   },
   "source": [
    "We reshape the data to flatten the image pixels into a set of features or co-variates:"
   ]
  },
  {
   "cell_type": "code",
   "execution_count": 14,
   "id": "5286a4a3",
   "metadata": {
    "execution": {
     "iopub.execute_input": "2021-11-17T10:08:50.373776Z",
     "iopub.status.busy": "2021-11-17T10:08:50.373168Z",
     "iopub.status.idle": "2021-11-17T10:08:50.387453Z",
     "shell.execute_reply": "2021-11-17T10:08:50.387937Z"
    },
    "papermill": {
     "duration": 0.047825,
     "end_time": "2021-11-17T10:08:50.388075",
     "exception": false,
     "start_time": "2021-11-17T10:08:50.340250",
     "status": "completed"
    },
    "tags": []
   },
   "outputs": [
    {
     "data": {
      "text/plain": [
       "((11982, 784), (1984, 784))"
      ]
     },
     "execution_count": 14,
     "metadata": {},
     "output_type": "execute_result"
    }
   ],
   "source": [
    "X_train = X_train.reshape(X_train.shape[0], -1)\n",
    "X_test = X_test.reshape(X_test.shape[0], -1)\n",
    "X_train.shape, X_test.shape"
   ]
  },
  {
   "cell_type": "code",
   "execution_count": 15,
   "id": "73c5f88a",
   "metadata": {
    "execution": {
     "iopub.execute_input": "2021-11-17T10:08:50.452307Z",
     "iopub.status.busy": "2021-11-17T10:08:50.451746Z",
     "iopub.status.idle": "2021-11-17T10:08:50.471508Z",
     "shell.execute_reply": "2021-11-17T10:08:50.472047Z"
    },
    "papermill": {
     "duration": 0.055484,
     "end_time": "2021-11-17T10:08:50.472198",
     "exception": false,
     "start_time": "2021-11-17T10:08:50.416714",
     "status": "completed"
    },
    "tags": []
   },
   "outputs": [],
   "source": [
    "#Impoting functions from 'Kudzu'\n",
    "from kudzu.model import Model\n",
    "from kudzu.train import Learner\n",
    "from kudzu.optim import GD\n",
    "from kudzu.data import Data, Sampler,Dataloader\n",
    "\n",
    "from kudzu.callbacks import AccCallback\n",
    "from kudzu.callbacks import ClfCallback\n",
    "\n",
    "from kudzu.loss import MSE\n",
    "\n",
    "from kudzu.layer import Sigmoid,Relu\n",
    "from kudzu.layer import Affine"
   ]
  },
  {
   "cell_type": "markdown",
   "id": "bc01172a",
   "metadata": {
    "papermill": {
     "duration": 0.028637,
     "end_time": "2021-11-17T10:08:50.529588",
     "exception": false,
     "start_time": "2021-11-17T10:08:50.500951",
     "status": "completed"
    },
    "tags": []
   },
   "source": [
    "### Let us create a `Config` class, to store important parameters. \n",
    "This class essentially plays the role of a dictionary."
   ]
  },
  {
   "cell_type": "code",
   "execution_count": 16,
   "id": "978281aa",
   "metadata": {
    "execution": {
     "iopub.execute_input": "2021-11-17T10:08:50.591504Z",
     "iopub.status.busy": "2021-11-17T10:08:50.590391Z",
     "iopub.status.idle": "2021-11-17T10:08:50.606856Z",
     "shell.execute_reply": "2021-11-17T10:08:50.606133Z"
    },
    "papermill": {
     "duration": 0.048676,
     "end_time": "2021-11-17T10:08:50.607028",
     "exception": false,
     "start_time": "2021-11-17T10:08:50.558352",
     "status": "completed"
    },
    "tags": []
   },
   "outputs": [],
   "source": [
    "class Config:\n",
    "    pass\n",
    "config = Config()\n",
    "config.lr = 0.001\n",
    "config.num_epochs = 250\n",
    "config.bs = 50"
   ]
  },
  {
   "cell_type": "markdown",
   "id": "1385fa59",
   "metadata": {
    "papermill": {
     "duration": 0.027912,
     "end_time": "2021-11-17T10:08:50.665820",
     "exception": false,
     "start_time": "2021-11-17T10:08:50.637908",
     "status": "completed"
    },
    "tags": []
   },
   "source": [
    "### Running Models with the Training data\n",
    "Details about the network layers:\n",
    "- A first affine layer has 784 inputs and does 100 affine transforms. These are followed by a Relu\n",
    "- A second affine layer has 100 inputs from the 100 activations of the past layer, and does 100 affine transforms. These are followed by a Relu\n",
    "- A third affine layer has 100 activations and does 2 affine transformations to create an embedding for visualization. There is no non-linearity here.\n",
    "- A final \"logistic regression\" which has an affine transform from 2 inputs to 1 output, which is squeezed through a sigmoid.\n"
   ]
  },
  {
   "cell_type": "code",
   "execution_count": 17,
   "id": "2b9c66db",
   "metadata": {
    "execution": {
     "iopub.execute_input": "2021-11-17T10:08:50.725930Z",
     "iopub.status.busy": "2021-11-17T10:08:50.725367Z",
     "iopub.status.idle": "2021-11-17T10:08:50.739640Z",
     "shell.execute_reply": "2021-11-17T10:08:50.739123Z"
    },
    "papermill": {
     "duration": 0.046154,
     "end_time": "2021-11-17T10:08:50.739759",
     "exception": false,
     "start_time": "2021-11-17T10:08:50.693605",
     "status": "completed"
    },
    "tags": []
   },
   "outputs": [],
   "source": [
    "data = Data(X_train, y_train.reshape(-1,1))\n",
    "sampler = Sampler(data, config.bs, shuffle=True)\n",
    "\n",
    "dl = Dataloader(data, sampler)\n",
    "\n",
    "opt = GD(config.lr)\n",
    "loss = MSE()"
   ]
  },
  {
   "cell_type": "code",
   "execution_count": 18,
   "id": "b275e4c2",
   "metadata": {
    "execution": {
     "iopub.execute_input": "2021-11-17T10:08:50.800638Z",
     "iopub.status.busy": "2021-11-17T10:08:50.800080Z",
     "iopub.status.idle": "2021-11-17T10:08:50.815658Z",
     "shell.execute_reply": "2021-11-17T10:08:50.815122Z"
    },
    "papermill": {
     "duration": 0.048039,
     "end_time": "2021-11-17T10:08:50.815785",
     "exception": false,
     "start_time": "2021-11-17T10:08:50.767746",
     "status": "completed"
    },
    "tags": []
   },
   "outputs": [],
   "source": [
    "training_data_x = X_train\n",
    "testing_data_x = X_test\n",
    "training_data_y = y_train.reshape(-1,1)\n",
    "testing_data_y = y_test.reshape(-1,1)"
   ]
  },
  {
   "cell_type": "code",
   "execution_count": 19,
   "id": "76951160",
   "metadata": {
    "execution": {
     "iopub.execute_input": "2021-11-17T10:08:50.881249Z",
     "iopub.status.busy": "2021-11-17T10:08:50.880607Z",
     "iopub.status.idle": "2021-11-17T10:08:50.899598Z",
     "shell.execute_reply": "2021-11-17T10:08:50.899087Z"
    },
    "papermill": {
     "duration": 0.054858,
     "end_time": "2021-11-17T10:08:50.899712",
     "exception": false,
     "start_time": "2021-11-17T10:08:50.844854",
     "status": "completed"
    },
    "tags": []
   },
   "outputs": [
    {
     "name": "stdout",
     "output_type": "stream",
     "text": [
      "xavier\n",
      "xavier\n",
      "xavier\n",
      "xavier\n",
      "xavier\n"
     ]
    }
   ],
   "source": [
    "layers = [Affine(\"first\", 784, 100), Relu(\"first\"), Affine(\"second\", 100, 100), Relu(\"second\"), Affine(\"third\", 100, 2), Affine(\"last\", 2, 1), Sigmoid(\"last\")]\n",
    "model_nn = Model(layers)\n",
    "model_lr = Model([Affine(\"logits\", 784, 1), Sigmoid(\"sigmoid\")])"
   ]
  },
  {
   "cell_type": "code",
   "execution_count": 20,
   "id": "6eede77a",
   "metadata": {
    "execution": {
     "iopub.execute_input": "2021-11-17T10:08:50.962491Z",
     "iopub.status.busy": "2021-11-17T10:08:50.961898Z",
     "iopub.status.idle": "2021-11-17T10:08:50.973977Z",
     "shell.execute_reply": "2021-11-17T10:08:50.974489Z"
    },
    "papermill": {
     "duration": 0.045894,
     "end_time": "2021-11-17T10:08:50.974620",
     "exception": false,
     "start_time": "2021-11-17T10:08:50.928726",
     "status": "completed"
    },
    "tags": []
   },
   "outputs": [],
   "source": [
    "nn_learner = Learner(loss, model_nn, opt, config.num_epochs)\n",
    "acc_nn = ClfCallback(nn_learner, config.bs, training_data_x , testing_data_x, training_data_y, testing_data_y)\n",
    "nn_learner.set_callbacks([acc_nn])"
   ]
  },
  {
   "cell_type": "code",
   "execution_count": 21,
   "id": "877b6cc7",
   "metadata": {
    "execution": {
     "iopub.execute_input": "2021-11-17T10:08:51.034670Z",
     "iopub.status.busy": "2021-11-17T10:08:51.034110Z",
     "iopub.status.idle": "2021-11-17T10:08:51.050492Z",
     "shell.execute_reply": "2021-11-17T10:08:51.049988Z"
    },
    "papermill": {
     "duration": 0.048196,
     "end_time": "2021-11-17T10:08:51.050613",
     "exception": false,
     "start_time": "2021-11-17T10:08:51.002417",
     "status": "completed"
    },
    "tags": []
   },
   "outputs": [],
   "source": [
    "lr_learner = Learner(loss, model_lr, opt, config.num_epochs)\n",
    "acc_lr = ClfCallback(lr_learner, config.bs, training_data_x , testing_data_x, training_data_y, testing_data_y)\n",
    "lr_learner.set_callbacks([acc_lr])"
   ]
  },
  {
   "cell_type": "code",
   "execution_count": 22,
   "id": "d9b133c3",
   "metadata": {
    "execution": {
     "iopub.execute_input": "2021-11-17T10:08:51.111319Z",
     "iopub.status.busy": "2021-11-17T10:08:51.110738Z",
     "iopub.status.idle": "2021-11-17T10:10:16.831353Z",
     "shell.execute_reply": "2021-11-17T10:10:16.832157Z"
    },
    "papermill": {
     "duration": 85.753517,
     "end_time": "2021-11-17T10:10:16.832321",
     "exception": false,
     "start_time": "2021-11-17T10:08:51.078804",
     "status": "completed"
    },
    "tags": []
   },
   "outputs": [
    {
     "name": "stdout",
     "output_type": "stream",
     "text": [
      "Epoch 0, Loss 0.2447\n",
      "Training Accuracy: 0.6492, Testing Accuracy: 0.6376\n",
      "\n"
     ]
    },
    {
     "name": "stdout",
     "output_type": "stream",
     "text": [
      "Epoch 10, Loss 0.089\n",
      "Training Accuracy: 0.9278, Testing Accuracy: 0.9410\n",
      "\n"
     ]
    },
    {
     "name": "stdout",
     "output_type": "stream",
     "text": [
      "Epoch 20, Loss 0.0542\n",
      "Training Accuracy: 0.9447, Testing Accuracy: 0.9541\n",
      "\n"
     ]
    },
    {
     "name": "stdout",
     "output_type": "stream",
     "text": [
      "Epoch 30, Loss 0.0431\n",
      "Training Accuracy: 0.9529, Testing Accuracy: 0.9627\n",
      "\n"
     ]
    },
    {
     "name": "stdout",
     "output_type": "stream",
     "text": [
      "Epoch 40, Loss 0.0376\n",
      "Training Accuracy: 0.9584, Testing Accuracy: 0.9642\n",
      "\n"
     ]
    },
    {
     "name": "stdout",
     "output_type": "stream",
     "text": [
      "Epoch 50, Loss 0.0342\n",
      "Training Accuracy: 0.9608, Testing Accuracy: 0.9682\n",
      "\n"
     ]
    },
    {
     "name": "stdout",
     "output_type": "stream",
     "text": [
      "Epoch 60, Loss 0.0318\n",
      "Training Accuracy: 0.9631, Testing Accuracy: 0.9688\n",
      "\n"
     ]
    },
    {
     "name": "stdout",
     "output_type": "stream",
     "text": [
      "Epoch 70, Loss 0.03\n",
      "Training Accuracy: 0.9650, Testing Accuracy: 0.9698\n",
      "\n"
     ]
    },
    {
     "name": "stdout",
     "output_type": "stream",
     "text": [
      "Epoch 80, Loss 0.0285\n",
      "Training Accuracy: 0.9665, Testing Accuracy: 0.9713\n",
      "\n"
     ]
    },
    {
     "name": "stdout",
     "output_type": "stream",
     "text": [
      "Epoch 90, Loss 0.0273\n",
      "Training Accuracy: 0.9684, Testing Accuracy: 0.9723\n",
      "\n"
     ]
    },
    {
     "name": "stdout",
     "output_type": "stream",
     "text": [
      "Epoch 100, Loss 0.0263\n",
      "Training Accuracy: 0.9699, Testing Accuracy: 0.9723\n",
      "\n"
     ]
    },
    {
     "name": "stdout",
     "output_type": "stream",
     "text": [
      "Epoch 110, Loss 0.0253\n",
      "Training Accuracy: 0.9711, Testing Accuracy: 0.9718\n",
      "\n"
     ]
    },
    {
     "name": "stdout",
     "output_type": "stream",
     "text": [
      "Epoch 120, Loss 0.0245\n",
      "Training Accuracy: 0.9718, Testing Accuracy: 0.9723\n",
      "\n"
     ]
    },
    {
     "name": "stdout",
     "output_type": "stream",
     "text": [
      "Epoch 130, Loss 0.0238\n",
      "Training Accuracy: 0.9730, Testing Accuracy: 0.9728\n",
      "\n"
     ]
    },
    {
     "name": "stdout",
     "output_type": "stream",
     "text": [
      "Epoch 140, Loss 0.0231\n",
      "Training Accuracy: 0.9737, Testing Accuracy: 0.9728\n",
      "\n"
     ]
    },
    {
     "name": "stdout",
     "output_type": "stream",
     "text": [
      "Epoch 150, Loss 0.0225\n",
      "Training Accuracy: 0.9747, Testing Accuracy: 0.9733\n",
      "\n"
     ]
    },
    {
     "name": "stdout",
     "output_type": "stream",
     "text": [
      "Epoch 160, Loss 0.022\n",
      "Training Accuracy: 0.9754, Testing Accuracy: 0.9733\n",
      "\n"
     ]
    },
    {
     "name": "stdout",
     "output_type": "stream",
     "text": [
      "Epoch 170, Loss 0.0214\n",
      "Training Accuracy: 0.9757, Testing Accuracy: 0.9733\n",
      "\n"
     ]
    },
    {
     "name": "stdout",
     "output_type": "stream",
     "text": [
      "Epoch 180, Loss 0.0209\n",
      "Training Accuracy: 0.9767, Testing Accuracy: 0.9738\n",
      "\n"
     ]
    },
    {
     "name": "stdout",
     "output_type": "stream",
     "text": [
      "Epoch 190, Loss 0.0205\n",
      "Training Accuracy: 0.9776, Testing Accuracy: 0.9733\n",
      "\n"
     ]
    },
    {
     "name": "stdout",
     "output_type": "stream",
     "text": [
      "Epoch 200, Loss 0.0201\n",
      "Training Accuracy: 0.9787, Testing Accuracy: 0.9743\n",
      "\n"
     ]
    },
    {
     "name": "stdout",
     "output_type": "stream",
     "text": [
      "Epoch 210, Loss 0.0196\n",
      "Training Accuracy: 0.9790, Testing Accuracy: 0.9738\n",
      "\n"
     ]
    },
    {
     "name": "stdout",
     "output_type": "stream",
     "text": [
      "Epoch 220, Loss 0.0192\n",
      "Training Accuracy: 0.9799, Testing Accuracy: 0.9743\n",
      "\n"
     ]
    },
    {
     "name": "stdout",
     "output_type": "stream",
     "text": [
      "Epoch 230, Loss 0.0188\n",
      "Training Accuracy: 0.9804, Testing Accuracy: 0.9748\n",
      "\n"
     ]
    },
    {
     "name": "stdout",
     "output_type": "stream",
     "text": [
      "Epoch 240, Loss 0.0185\n",
      "Training Accuracy: 0.9805, Testing Accuracy: 0.9743\n",
      "\n"
     ]
    },
    {
     "data": {
      "text/plain": [
       "0.03872118112039365"
      ]
     },
     "execution_count": 22,
     "metadata": {},
     "output_type": "execute_result"
    }
   ],
   "source": [
    "nn_learner.train_loop(dl)"
   ]
  },
  {
   "cell_type": "code",
   "execution_count": 23,
   "id": "e0163366",
   "metadata": {
    "execution": {
     "iopub.execute_input": "2021-11-17T10:10:16.920731Z",
     "iopub.status.busy": "2021-11-17T10:10:16.920137Z",
     "iopub.status.idle": "2021-11-17T10:10:31.931307Z",
     "shell.execute_reply": "2021-11-17T10:10:31.932172Z"
    },
    "papermill": {
     "duration": 15.062566,
     "end_time": "2021-11-17T10:10:31.932342",
     "exception": false,
     "start_time": "2021-11-17T10:10:16.869776",
     "status": "completed"
    },
    "tags": []
   },
   "outputs": [
    {
     "name": "stdout",
     "output_type": "stream",
     "text": [
      "Epoch 0, Loss 0.248\n",
      "Training Accuracy: 0.6468, Testing Accuracy: 0.6522\n",
      "\n"
     ]
    },
    {
     "name": "stdout",
     "output_type": "stream",
     "text": [
      "Epoch 10, Loss 0.1052\n",
      "Training Accuracy: 0.9044, Testing Accuracy: 0.9168\n",
      "\n"
     ]
    },
    {
     "name": "stdout",
     "output_type": "stream",
     "text": [
      "Epoch 20, Loss 0.0811\n",
      "Training Accuracy: 0.9235, Testing Accuracy: 0.9340\n",
      "\n"
     ]
    },
    {
     "name": "stdout",
     "output_type": "stream",
     "text": [
      "Epoch 30, Loss 0.0699\n",
      "Training Accuracy: 0.9320, Testing Accuracy: 0.9425\n",
      "\n"
     ]
    },
    {
     "name": "stdout",
     "output_type": "stream",
     "text": [
      "Epoch 40, Loss 0.0631\n",
      "Training Accuracy: 0.9363, Testing Accuracy: 0.9496\n",
      "\n"
     ]
    },
    {
     "name": "stdout",
     "output_type": "stream",
     "text": [
      "Epoch 50, Loss 0.0585\n",
      "Training Accuracy: 0.9407, Testing Accuracy: 0.9536\n",
      "\n"
     ]
    },
    {
     "name": "stdout",
     "output_type": "stream",
     "text": [
      "Epoch 60, Loss 0.0551\n",
      "Training Accuracy: 0.9436, Testing Accuracy: 0.9561\n",
      "\n"
     ]
    },
    {
     "name": "stdout",
     "output_type": "stream",
     "text": [
      "Epoch 70, Loss 0.0525\n",
      "Training Accuracy: 0.9455, Testing Accuracy: 0.9592\n",
      "\n"
     ]
    },
    {
     "name": "stdout",
     "output_type": "stream",
     "text": [
      "Epoch 80, Loss 0.0503\n",
      "Training Accuracy: 0.9479, Testing Accuracy: 0.9617\n",
      "\n"
     ]
    },
    {
     "name": "stdout",
     "output_type": "stream",
     "text": [
      "Epoch 90, Loss 0.0486\n",
      "Training Accuracy: 0.9495, Testing Accuracy: 0.9617\n",
      "\n"
     ]
    },
    {
     "name": "stdout",
     "output_type": "stream",
     "text": [
      "Epoch 100, Loss 0.0471\n",
      "Training Accuracy: 0.9513, Testing Accuracy: 0.9632\n",
      "\n"
     ]
    },
    {
     "name": "stdout",
     "output_type": "stream",
     "text": [
      "Epoch 110, Loss 0.0458\n",
      "Training Accuracy: 0.9520, Testing Accuracy: 0.9632\n",
      "\n"
     ]
    },
    {
     "name": "stdout",
     "output_type": "stream",
     "text": [
      "Epoch 120, Loss 0.0447\n",
      "Training Accuracy: 0.9529, Testing Accuracy: 0.9647\n",
      "\n"
     ]
    },
    {
     "name": "stdout",
     "output_type": "stream",
     "text": [
      "Epoch 130, Loss 0.0437\n",
      "Training Accuracy: 0.9538, Testing Accuracy: 0.9647\n",
      "\n"
     ]
    },
    {
     "name": "stdout",
     "output_type": "stream",
     "text": [
      "Epoch 140, Loss 0.0429\n",
      "Training Accuracy: 0.9539, Testing Accuracy: 0.9647\n",
      "\n"
     ]
    },
    {
     "name": "stdout",
     "output_type": "stream",
     "text": [
      "Epoch 150, Loss 0.0421\n",
      "Training Accuracy: 0.9552, Testing Accuracy: 0.9647\n",
      "\n"
     ]
    },
    {
     "name": "stdout",
     "output_type": "stream",
     "text": [
      "Epoch 160, Loss 0.0414\n",
      "Training Accuracy: 0.9559, Testing Accuracy: 0.9652\n",
      "\n"
     ]
    },
    {
     "name": "stdout",
     "output_type": "stream",
     "text": [
      "Epoch 170, Loss 0.0407\n",
      "Training Accuracy: 0.9564, Testing Accuracy: 0.9657\n",
      "\n"
     ]
    },
    {
     "name": "stdout",
     "output_type": "stream",
     "text": [
      "Epoch 180, Loss 0.0401\n",
      "Training Accuracy: 0.9574, Testing Accuracy: 0.9662\n",
      "\n"
     ]
    },
    {
     "name": "stdout",
     "output_type": "stream",
     "text": [
      "Epoch 190, Loss 0.0396\n",
      "Training Accuracy: 0.9579, Testing Accuracy: 0.9662\n",
      "\n"
     ]
    },
    {
     "name": "stdout",
     "output_type": "stream",
     "text": [
      "Epoch 200, Loss 0.0391\n",
      "Training Accuracy: 0.9584, Testing Accuracy: 0.9662\n",
      "\n"
     ]
    },
    {
     "name": "stdout",
     "output_type": "stream",
     "text": [
      "Epoch 210, Loss 0.0386\n",
      "Training Accuracy: 0.9589, Testing Accuracy: 0.9662\n",
      "\n"
     ]
    },
    {
     "name": "stdout",
     "output_type": "stream",
     "text": [
      "Epoch 220, Loss 0.0382\n",
      "Training Accuracy: 0.9591, Testing Accuracy: 0.9662\n",
      "\n"
     ]
    },
    {
     "name": "stdout",
     "output_type": "stream",
     "text": [
      "Epoch 230, Loss 0.0378\n",
      "Training Accuracy: 0.9593, Testing Accuracy: 0.9662\n",
      "\n"
     ]
    },
    {
     "name": "stdout",
     "output_type": "stream",
     "text": [
      "Epoch 240, Loss 0.0374\n",
      "Training Accuracy: 0.9595, Testing Accuracy: 0.9662\n",
      "\n"
     ]
    },
    {
     "data": {
      "text/plain": [
       "0.016484329845043277"
      ]
     },
     "execution_count": 23,
     "metadata": {},
     "output_type": "execute_result"
    }
   ],
   "source": [
    "lr_learner.train_loop(dl)"
   ]
  },
  {
   "cell_type": "code",
   "execution_count": 24,
   "id": "ca410940",
   "metadata": {
    "execution": {
     "iopub.execute_input": "2021-11-17T10:10:32.029207Z",
     "iopub.status.busy": "2021-11-17T10:10:32.028596Z",
     "iopub.status.idle": "2021-11-17T10:10:32.285970Z",
     "shell.execute_reply": "2021-11-17T10:10:32.285279Z"
    },
    "papermill": {
     "duration": 0.310044,
     "end_time": "2021-11-17T10:10:32.286108",
     "exception": false,
     "start_time": "2021-11-17T10:10:31.976064",
     "status": "completed"
    },
    "tags": []
   },
   "outputs": [
    {
     "data": {
      "text/plain": [
       "<matplotlib.legend.Legend at 0x7f40ef3dbf28>"
      ]
     },
     "execution_count": 24,
     "metadata": {},
     "output_type": "execute_result"
    },
    {
     "data": {
      "image/png": "[encoded data removed]",
      "text/plain": [
       "<Figure size 1080x720 with 1 Axes>"
      ]
     },
     "metadata": {
      "needs_background": "light"
     },
     "output_type": "display_data"
    }
   ],
   "source": [
    "#comparing the results of NN and LR\n",
    "plt.figure(figsize=(15,10))\n",
    "\n",
    "# Neural Network plots\n",
    "plt.plot(acc_nn.accuracies, 'r-', label = \"Training Accuracies - NN\")\n",
    "plt.plot(acc_nn.test_accuracies, 'g-', label = \"Testing Accuracies - NN\")\n",
    "\n",
    "# Logistic Regression plots\n",
    "plt.plot(acc_lr.accuracies, 'k-', label = \"Training Accuracies - LR\")\n",
    "plt.plot(acc_lr.test_accuracies, 'b-', label = \"Testing Accuracies - LR\")\n",
    "plt.legend()"
   ]
  },
  {
   "cell_type": "markdown",
   "id": "80dfb35c",
   "metadata": {
    "papermill": {
     "duration": 0.044838,
     "end_time": "2021-11-17T10:10:32.376594",
     "exception": false,
     "start_time": "2021-11-17T10:10:32.331756",
     "status": "completed"
    },
    "tags": []
   },
   "source": [
    "#### Plotting the outputs of this layer of the NN.\n"
   ]
  },
  {
   "cell_type": "code",
   "execution_count": 25,
   "id": "45eb2ff5",
   "metadata": {
    "execution": {
     "iopub.execute_input": "2021-11-17T10:10:32.471659Z",
     "iopub.status.busy": "2021-11-17T10:10:32.470534Z",
     "iopub.status.idle": "2021-11-17T10:10:32.490655Z",
     "shell.execute_reply": "2021-11-17T10:10:32.491100Z"
    },
    "papermill": {
     "duration": 0.069846,
     "end_time": "2021-11-17T10:10:32.491247",
     "exception": false,
     "start_time": "2021-11-17T10:10:32.421401",
     "status": "completed"
    },
    "tags": []
   },
   "outputs": [],
   "source": [
    "new_model = Model(layers[:-2])\n",
    "testing_plot = new_model(testing_data_x)"
   ]
  },
  {
   "cell_type": "code",
   "execution_count": 26,
   "id": "4c0a5485",
   "metadata": {
    "execution": {
     "iopub.execute_input": "2021-11-17T10:10:32.601987Z",
     "iopub.status.busy": "2021-11-17T10:10:32.588865Z",
     "iopub.status.idle": "2021-11-17T10:10:32.810792Z",
     "shell.execute_reply": "2021-11-17T10:10:32.811221Z"
    },
    "papermill": {
     "duration": 0.272943,
     "end_time": "2021-11-17T10:10:32.811410",
     "exception": false,
     "start_time": "2021-11-17T10:10:32.538467",
     "status": "completed"
    },
    "tags": []
   },
   "outputs": [
    {
     "data": {
      "text/plain": [
       "Text(0.5, 1.0, 'Outputs')"
      ]
     },
     "execution_count": 26,
     "metadata": {},
     "output_type": "execute_result"
    },
    {
     "data": {
      "image/png": "[encoded data removed]",
      "text/plain": [
       "<Figure size 576x504 with 1 Axes>"
      ]
     },
     "metadata": {
      "needs_background": "light"
     },
     "output_type": "display_data"
    }
   ],
   "source": [
    "# Plotting the scatter plot of points and color coding by class\n",
    "plt.figure(figsize=(8,7))\n",
    "plt.scatter(testing_plot[:,0], testing_plot[:,1], alpha = 0.1, c = y_test.ravel());\n",
    "plt.title('Outputs')"
   ]
  },
  {
   "cell_type": "markdown",
   "id": "a74fcf8f",
   "metadata": {
    "papermill": {
     "duration": 0.047219,
     "end_time": "2021-11-17T10:10:32.906838",
     "exception": false,
     "start_time": "2021-11-17T10:10:32.859619",
     "status": "completed"
    },
    "tags": []
   },
   "source": [
    "Probability contours"
   ]
  },
  {
   "cell_type": "code",
   "execution_count": 27,
   "id": "d0afc8e3",
   "metadata": {
    "execution": {
     "iopub.execute_input": "2021-11-17T10:10:33.006489Z",
     "iopub.status.busy": "2021-11-17T10:10:33.005935Z",
     "iopub.status.idle": "2021-11-17T10:10:33.019150Z",
     "shell.execute_reply": "2021-11-17T10:10:33.018662Z"
    },
    "papermill": {
     "duration": 0.064991,
     "end_time": "2021-11-17T10:10:33.019270",
     "exception": false,
     "start_time": "2021-11-17T10:10:32.954279",
     "status": "completed"
    },
    "tags": []
   },
   "outputs": [],
   "source": [
    "model_prob = Model(layers[-2:]) "
   ]
  },
  {
   "cell_type": "code",
   "execution_count": 28,
   "id": "9b96e238",
   "metadata": {
    "execution": {
     "iopub.execute_input": "2021-11-17T10:10:33.118343Z",
     "iopub.status.busy": "2021-11-17T10:10:33.117707Z",
     "iopub.status.idle": "2021-11-17T10:10:33.132923Z",
     "shell.execute_reply": "2021-11-17T10:10:33.133402Z"
    },
    "papermill": {
     "duration": 0.067812,
     "end_time": "2021-11-17T10:10:33.133553",
     "exception": false,
     "start_time": "2021-11-17T10:10:33.065741",
     "status": "completed"
    },
    "tags": []
   },
   "outputs": [],
   "source": [
    "#creating the x and y ranges according to the above generated plot.\n",
    "x_range = np.linspace(-4, 1, 100) \n",
    "y_range = np.linspace(-6, 6, 100) \n",
    "x_grid, y_grid = np.meshgrid(x_range, y_range) # x_grid and y_grig are of size 100 X 100\n",
    "\n",
    "# converting x_grid and y_grid to continuous arrays\n",
    "x_gridflat = np.ravel(x_grid)\n",
    "y_gridflat = np.ravel(y_grid)\n",
    "\n",
    "# The last layer of the current model takes two columns as input. Hence transpose of np.vstack() is required.\n",
    "X = np.vstack((x_gridflat, y_gridflat)).T\n",
    "\n",
    "prob_contour = model_prob(X).reshape(100,100) "
   ]
  },
  {
   "cell_type": "code",
   "execution_count": 29,
   "id": "da72499a",
   "metadata": {
    "execution": {
     "iopub.execute_input": "2021-11-17T10:10:33.264992Z",
     "iopub.status.busy": "2021-11-17T10:10:33.264435Z",
     "iopub.status.idle": "2021-11-17T10:10:33.539364Z",
     "shell.execute_reply": "2021-11-17T10:10:33.538449Z"
    },
    "papermill": {
     "duration": 0.327423,
     "end_time": "2021-11-17T10:10:33.539559",
     "exception": false,
     "start_time": "2021-11-17T10:10:33.212136",
     "status": "completed"
    },
    "tags": []
   },
   "outputs": [
    {
     "data": {
      "image/png": "[encoded data removed]",
      "text/plain": [
       "<Figure size 720x648 with 1 Axes>"
      ]
     },
     "metadata": {
      "needs_background": "light"
     },
     "output_type": "display_data"
    }
   ],
   "source": [
    "plt.figure(figsize=(10,9))\n",
    "plt.scatter(testing_plot[:,0], testing_plot[:,1], alpha = 0.1, c = y_test.ravel())\n",
    "contours = plt.contour(x_grid,y_grid,prob_contour)\n",
    "plt.title('Probability Contours')\n",
    "plt.clabel(contours, inline = True );"
   ]
  },
  {
   "cell_type": "code",
   "execution_count": null,
   "id": "e81b4ac7",
   "metadata": {
    "papermill": {
     "duration": 0.050155,
     "end_time": "2021-11-17T10:10:33.641630",
     "exception": false,
     "start_time": "2021-11-17T10:10:33.591475",
     "status": "completed"
    },
    "tags": []
   },
   "outputs": [],
   "source": []
  }
 ],
 "metadata": {
  "kernelspec": {
   "display_name": "Python 3",
   "language": "python",
   "name": "python3"
  },
  "language_info": {
   "codemirror_mode": {
    "name": "ipython",
    "version": 3
   },
   "file_extension": ".py",
   "mimetype": "text/x-python",
   "name": "python",
   "nbconvert_exporter": "python",
   "pygments_lexer": "ipython3",
   "version": "3.6.15"
  },
  "papermill": {
   "default_parameters": {},
   "duration": 109.58392,
   "end_time": "2021-11-17T10:10:34.101691",
   "environment_variables": {},
   "exception": null,
   "input_path": "2020-08-11-part2.ipynb",
   "output_path": "2020-08-11-part2.ipynb",
   "parameters": {},
   "start_time": "2021-11-17T10:08:44.517771",
   "version": "2.3.3"
  }
 },
 "nbformat": 4,
 "nbformat_minor": 5
}