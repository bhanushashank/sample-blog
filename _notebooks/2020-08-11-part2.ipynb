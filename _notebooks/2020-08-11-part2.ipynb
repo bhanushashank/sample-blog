{
 "cells": [
  {
   "cell_type": "markdown",
   "id": "98380cd3",
   "metadata": {
    "papermill": {
     "duration": 0.038637,
     "end_time": "2022-09-18T10:11:37.959497",
     "exception": false,
     "start_time": "2022-09-18T10:11:37.920860",
     "status": "completed"
    },
    "tags": []
   },
   "source": [
    "# Distinguish Your Own Digits (DYOD)"
   ]
  },
  {
   "cell_type": "markdown",
   "id": "ef31240d",
   "metadata": {
    "papermill": {
     "duration": 0.032878,
     "end_time": "2022-09-18T10:11:38.028474",
     "exception": false,
     "start_time": "2022-09-18T10:11:37.995596",
     "status": "completed"
    },
    "tags": []
   },
   "source": [
    "You are going to write a classifier that distinguishes between the number 3 and number 8."
   ]
  },
  {
   "cell_type": "code",
   "execution_count": 1,
   "id": "b15c8646",
   "metadata": {
    "execution": {
     "iopub.execute_input": "2022-09-18T10:11:38.112830Z",
     "iopub.status.busy": "2022-09-18T10:11:38.111934Z",
     "iopub.status.idle": "2022-09-18T10:11:38.125533Z",
     "shell.execute_reply": "2022-09-18T10:11:38.124889Z"
    },
    "papermill": {
     "duration": 0.058484,
     "end_time": "2022-09-18T10:11:38.125707",
     "exception": false,
     "start_time": "2022-09-18T10:11:38.067223",
     "status": "completed"
    },
    "tags": []
   },
   "outputs": [],
   "source": [
    "%load_ext autoreload\n",
    "%autoreload 2"
   ]
  },
  {
   "cell_type": "code",
   "execution_count": 2,
   "id": "22ef38dc",
   "metadata": {
    "execution": {
     "iopub.execute_input": "2022-09-18T10:11:38.195515Z",
     "iopub.status.busy": "2022-09-18T10:11:38.194678Z",
     "iopub.status.idle": "2022-09-18T10:11:38.906273Z",
     "shell.execute_reply": "2022-09-18T10:11:38.906893Z"
    },
    "papermill": {
     "duration": 0.748937,
     "end_time": "2022-09-18T10:11:38.907085",
     "exception": false,
     "start_time": "2022-09-18T10:11:38.158148",
     "status": "completed"
    },
    "tags": []
   },
   "outputs": [],
   "source": [
    "%matplotlib inline\n",
    "import numpy as np\n",
    "import matplotlib.pyplot as plt\n",
    "import pandas as pd"
   ]
  },
  {
   "cell_type": "markdown",
   "id": "ba036198",
   "metadata": {
    "papermill": {
     "duration": 0.033719,
     "end_time": "2022-09-18T10:11:38.973514",
     "exception": false,
     "start_time": "2022-09-18T10:11:38.939795",
     "status": "completed"
    },
    "tags": []
   },
   "source": [
    "From the command line run `pip install mnist`. This is a library that will help you bring down the mnist dataset. If you run this from a notebook, you need to put  `!pip install mnist` in a cell by itself."
   ]
  },
  {
   "cell_type": "code",
   "execution_count": 3,
   "id": "bb6ad8a1",
   "metadata": {
    "execution": {
     "iopub.execute_input": "2022-09-18T10:11:39.044947Z",
     "iopub.status.busy": "2022-09-18T10:11:39.044188Z",
     "iopub.status.idle": "2022-09-18T10:11:41.099125Z",
     "shell.execute_reply": "2022-09-18T10:11:41.098115Z"
    },
    "papermill": {
     "duration": 2.09257,
     "end_time": "2022-09-18T10:11:41.099292",
     "exception": false,
     "start_time": "2022-09-18T10:11:39.006722",
     "status": "completed"
    },
    "tags": []
   },
   "outputs": [
    {
     "name": "stdout",
     "output_type": "stream",
     "text": [
      "Collecting mnist\r\n",
      "  Downloading mnist-0.2.2-py2.py3-none-any.whl (3.5 kB)\r\n",
      "Requirement already satisfied: numpy in /opt/hostedtoolcache/Python/3.6.15/x64/lib/python3.6/site-packages (from mnist) (1.19.5)\r\n"
     ]
    },
    {
     "name": "stdout",
     "output_type": "stream",
     "text": [
      "Installing collected packages: mnist\r\n"
     ]
    },
    {
     "name": "stdout",
     "output_type": "stream",
     "text": [
      "Successfully installed mnist-0.2.2\r\n"
     ]
    }
   ],
   "source": [
    "!pip install mnist"
   ]
  },
  {
   "cell_type": "markdown",
   "id": "69df9c9a",
   "metadata": {
    "papermill": {
     "duration": 0.033017,
     "end_time": "2022-09-18T10:11:41.166173",
     "exception": false,
     "start_time": "2022-09-18T10:11:41.133156",
     "status": "completed"
    },
    "tags": []
   },
   "source": [
    "## Preparing the Data"
   ]
  },
  {
   "cell_type": "code",
   "execution_count": 4,
   "id": "7f69d806",
   "metadata": {
    "execution": {
     "iopub.execute_input": "2022-09-18T10:11:41.240280Z",
     "iopub.status.busy": "2022-09-18T10:11:41.239523Z",
     "iopub.status.idle": "2022-09-18T10:11:41.257895Z",
     "shell.execute_reply": "2022-09-18T10:11:41.258688Z"
    },
    "papermill": {
     "duration": 0.05805,
     "end_time": "2022-09-18T10:11:41.258868",
     "exception": false,
     "start_time": "2022-09-18T10:11:41.200818",
     "status": "completed"
    },
    "tags": []
   },
   "outputs": [],
   "source": [
    "import mnist"
   ]
  },
  {
   "cell_type": "code",
   "execution_count": 5,
   "id": "a411e44f",
   "metadata": {
    "execution": {
     "iopub.execute_input": "2022-09-18T10:11:41.332165Z",
     "iopub.status.busy": "2022-09-18T10:11:41.331391Z",
     "iopub.status.idle": "2022-09-18T10:11:41.883707Z",
     "shell.execute_reply": "2022-09-18T10:11:41.883071Z"
    },
    "papermill": {
     "duration": 0.591625,
     "end_time": "2022-09-18T10:11:41.884330",
     "exception": false,
     "start_time": "2022-09-18T10:11:41.292705",
     "status": "completed"
    },
    "tags": []
   },
   "outputs": [],
   "source": [
    "train_images = mnist.train_images()\n",
    "train_labels = mnist.train_labels()"
   ]
  },
  {
   "cell_type": "code",
   "execution_count": 6,
   "id": "dceab3a5",
   "metadata": {
    "execution": {
     "iopub.execute_input": "2022-09-18T10:11:41.960291Z",
     "iopub.status.busy": "2022-09-18T10:11:41.959499Z",
     "iopub.status.idle": "2022-09-18T10:11:41.982416Z",
     "shell.execute_reply": "2022-09-18T10:11:41.981187Z"
    },
    "papermill": {
     "duration": 0.064382,
     "end_time": "2022-09-18T10:11:41.982646",
     "exception": false,
     "start_time": "2022-09-18T10:11:41.918264",
     "status": "completed"
    },
    "tags": []
   },
   "outputs": [
    {
     "data": {
      "text/plain": [
       "((60000, 28, 28), (60000,))"
      ]
     },
     "execution_count": 6,
     "metadata": {},
     "output_type": "execute_result"
    }
   ],
   "source": [
    "train_images.shape, train_labels.shape"
   ]
  },
  {
   "cell_type": "code",
   "execution_count": 7,
   "id": "f50dc2bb",
   "metadata": {
    "execution": {
     "iopub.execute_input": "2022-09-18T10:11:42.056451Z",
     "iopub.status.busy": "2022-09-18T10:11:42.055551Z",
     "iopub.status.idle": "2022-09-18T10:11:42.190635Z",
     "shell.execute_reply": "2022-09-18T10:11:42.189704Z"
    },
    "papermill": {
     "duration": 0.173763,
     "end_time": "2022-09-18T10:11:42.190790",
     "exception": false,
     "start_time": "2022-09-18T10:11:42.017027",
     "status": "completed"
    },
    "tags": []
   },
   "outputs": [],
   "source": [
    "test_images = mnist.test_images()\n",
    "test_labels = mnist.test_labels()"
   ]
  },
  {
   "cell_type": "code",
   "execution_count": 8,
   "id": "fc38cf1b",
   "metadata": {
    "execution": {
     "iopub.execute_input": "2022-09-18T10:11:42.264095Z",
     "iopub.status.busy": "2022-09-18T10:11:42.263353Z",
     "iopub.status.idle": "2022-09-18T10:11:42.280344Z",
     "shell.execute_reply": "2022-09-18T10:11:42.281323Z"
    },
    "papermill": {
     "duration": 0.057023,
     "end_time": "2022-09-18T10:11:42.281495",
     "exception": false,
     "start_time": "2022-09-18T10:11:42.224472",
     "status": "completed"
    },
    "tags": []
   },
   "outputs": [
    {
     "data": {
      "text/plain": [
       "((10000, 28, 28), (10000,))"
      ]
     },
     "execution_count": 8,
     "metadata": {},
     "output_type": "execute_result"
    }
   ],
   "source": [
    "test_images.shape, test_labels.shape"
   ]
  },
  {
   "cell_type": "code",
   "execution_count": 9,
   "id": "f9ed8fe0",
   "metadata": {
    "execution": {
     "iopub.execute_input": "2022-09-18T10:11:42.359026Z",
     "iopub.status.busy": "2022-09-18T10:11:42.358218Z",
     "iopub.status.idle": "2022-09-18T10:11:42.557406Z",
     "shell.execute_reply": "2022-09-18T10:11:42.556794Z"
    },
    "papermill": {
     "duration": 0.240536,
     "end_time": "2022-09-18T10:11:42.557559",
     "exception": false,
     "start_time": "2022-09-18T10:11:42.317023",
     "status": "completed"
    },
    "tags": []
   },
   "outputs": [
    {
     "name": "stdout",
     "output_type": "stream",
     "text": [
      "2\n"
     ]
    },
    {
     "data": {
      "text/plain": [
       "<matplotlib.image.AxesImage at 0x7f7ae6febc50>"
      ]
     },
     "execution_count": 9,
     "metadata": {},
     "output_type": "execute_result"
    },
    {
     "data": {
      "image/png": "[encoded data removed]",
      "text/plain": [
       "<Figure size 432x288 with 1 Axes>"
      ]
     },
     "metadata": {
      "needs_background": "light"
     },
     "output_type": "display_data"
    }
   ],
   "source": [
    "image_index = 7776 # You may select anything up to 60,000\n",
    "print(train_labels[image_index]) \n",
    "plt.imshow(train_images[image_index], cmap='Greys')"
   ]
  },
  {
   "cell_type": "markdown",
   "id": "a8d2388d",
   "metadata": {
    "papermill": {
     "duration": 0.03764,
     "end_time": "2022-09-18T10:11:42.633283",
     "exception": false,
     "start_time": "2022-09-18T10:11:42.595643",
     "status": "completed"
    },
    "tags": []
   },
   "source": [
    "## Filter data to get 3 and 8 out"
   ]
  },
  {
   "cell_type": "code",
   "execution_count": 10,
   "id": "776f7fc7",
   "metadata": {
    "execution": {
     "iopub.execute_input": "2022-09-18T10:11:42.727739Z",
     "iopub.status.busy": "2022-09-18T10:11:42.726946Z",
     "iopub.status.idle": "2022-09-18T10:11:42.750982Z",
     "shell.execute_reply": "2022-09-18T10:11:42.751674Z"
    },
    "papermill": {
     "duration": 0.072682,
     "end_time": "2022-09-18T10:11:42.752211",
     "exception": false,
     "start_time": "2022-09-18T10:11:42.679529",
     "status": "completed"
    },
    "tags": []
   },
   "outputs": [],
   "source": [
    "train_filter = np.where((train_labels == 3 ) | (train_labels == 8))\n",
    "test_filter = np.where((test_labels == 3) | (test_labels == 8))\n",
    "X_train, y_train = train_images[train_filter], train_labels[train_filter]\n",
    "X_test, y_test = test_images[test_filter], test_labels[test_filter]"
   ]
  },
  {
   "cell_type": "markdown",
   "id": "948f0b7e",
   "metadata": {
    "papermill": {
     "duration": 0.035759,
     "end_time": "2022-09-18T10:11:42.824749",
     "exception": false,
     "start_time": "2022-09-18T10:11:42.788990",
     "status": "completed"
    },
    "tags": []
   },
   "source": [
    "We normalize the pizel values in the 0 to 1 range"
   ]
  },
  {
   "cell_type": "code",
   "execution_count": 11,
   "id": "ee4c2166",
   "metadata": {
    "execution": {
     "iopub.execute_input": "2022-09-18T10:11:42.904398Z",
     "iopub.status.busy": "2022-09-18T10:11:42.903562Z",
     "iopub.status.idle": "2022-09-18T10:11:42.968073Z",
     "shell.execute_reply": "2022-09-18T10:11:42.967249Z"
    },
    "papermill": {
     "duration": 0.108662,
     "end_time": "2022-09-18T10:11:42.968225",
     "exception": false,
     "start_time": "2022-09-18T10:11:42.859563",
     "status": "completed"
    },
    "tags": []
   },
   "outputs": [],
   "source": [
    "X_train = X_train/255.\n",
    "X_test = X_test/255."
   ]
  },
  {
   "cell_type": "markdown",
   "id": "ddcf4fab",
   "metadata": {
    "papermill": {
     "duration": 0.036803,
     "end_time": "2022-09-18T10:11:43.043907",
     "exception": false,
     "start_time": "2022-09-18T10:11:43.007104",
     "status": "completed"
    },
    "tags": []
   },
   "source": [
    "And setup the labels as 1 (when the digit is 3) and 0 (when the digit is 8)"
   ]
  },
  {
   "cell_type": "code",
   "execution_count": 12,
   "id": "7dc908f2",
   "metadata": {
    "execution": {
     "iopub.execute_input": "2022-09-18T10:11:43.122391Z",
     "iopub.status.busy": "2022-09-18T10:11:43.121651Z",
     "iopub.status.idle": "2022-09-18T10:11:43.137713Z",
     "shell.execute_reply": "2022-09-18T10:11:43.136973Z"
    },
    "papermill": {
     "duration": 0.05722,
     "end_time": "2022-09-18T10:11:43.137886",
     "exception": false,
     "start_time": "2022-09-18T10:11:43.080666",
     "status": "completed"
    },
    "tags": []
   },
   "outputs": [],
   "source": [
    "y_train = 1*(y_train==3)\n",
    "y_test = 1*(y_test==3)"
   ]
  },
  {
   "cell_type": "code",
   "execution_count": 13,
   "id": "01e4e969",
   "metadata": {
    "execution": {
     "iopub.execute_input": "2022-09-18T10:11:43.218824Z",
     "iopub.status.busy": "2022-09-18T10:11:43.217942Z",
     "iopub.status.idle": "2022-09-18T10:11:43.234270Z",
     "shell.execute_reply": "2022-09-18T10:11:43.235122Z"
    },
    "papermill": {
     "duration": 0.060957,
     "end_time": "2022-09-18T10:11:43.235298",
     "exception": false,
     "start_time": "2022-09-18T10:11:43.174341",
     "status": "completed"
    },
    "tags": []
   },
   "outputs": [
    {
     "data": {
      "text/plain": [
       "((11982, 28, 28), (1984, 28, 28))"
      ]
     },
     "execution_count": 13,
     "metadata": {},
     "output_type": "execute_result"
    }
   ],
   "source": [
    "X_train.shape, X_test.shape"
   ]
  },
  {
   "cell_type": "markdown",
   "id": "5ccf3f85",
   "metadata": {
    "papermill": {
     "duration": 0.037565,
     "end_time": "2022-09-18T10:11:43.308369",
     "exception": false,
     "start_time": "2022-09-18T10:11:43.270804",
     "status": "completed"
    },
    "tags": []
   },
   "source": [
    "We reshape the data to flatten the image pixels into a set of features or co-variates:"
   ]
  },
  {
   "cell_type": "code",
   "execution_count": 14,
   "id": "5286a4a3",
   "metadata": {
    "execution": {
     "iopub.execute_input": "2022-09-18T10:11:43.392116Z",
     "iopub.status.busy": "2022-09-18T10:11:43.391240Z",
     "iopub.status.idle": "2022-09-18T10:11:43.409111Z",
     "shell.execute_reply": "2022-09-18T10:11:43.409881Z"
    },
    "papermill": {
     "duration": 0.059571,
     "end_time": "2022-09-18T10:11:43.410057",
     "exception": false,
     "start_time": "2022-09-18T10:11:43.350486",
     "status": "completed"
    },
    "tags": []
   },
   "outputs": [
    {
     "data": {
      "text/plain": [
       "((11982, 784), (1984, 784))"
      ]
     },
     "execution_count": 14,
     "metadata": {},
     "output_type": "execute_result"
    }
   ],
   "source": [
    "X_train = X_train.reshape(X_train.shape[0], -1)\n",
    "X_test = X_test.reshape(X_test.shape[0], -1)\n",
    "X_train.shape, X_test.shape"
   ]
  },
  {
   "cell_type": "code",
   "execution_count": 15,
   "id": "73c5f88a",
   "metadata": {
    "execution": {
     "iopub.execute_input": "2022-09-18T10:11:43.503857Z",
     "iopub.status.busy": "2022-09-18T10:11:43.499492Z",
     "iopub.status.idle": "2022-09-18T10:11:43.522790Z",
     "shell.execute_reply": "2022-09-18T10:11:43.522091Z"
    },
    "papermill": {
     "duration": 0.069748,
     "end_time": "2022-09-18T10:11:43.522946",
     "exception": false,
     "start_time": "2022-09-18T10:11:43.453198",
     "status": "completed"
    },
    "tags": []
   },
   "outputs": [],
   "source": [
    "#Impoting functions from 'Kudzu'\n",
    "from kudzu.model import Model\n",
    "from kudzu.train import Learner\n",
    "from kudzu.optim import GD\n",
    "from kudzu.data import Data, Sampler,Dataloader\n",
    "\n",
    "from kudzu.callbacks import AccCallback\n",
    "from kudzu.callbacks import ClfCallback\n",
    "\n",
    "from kudzu.loss import MSE\n",
    "\n",
    "from kudzu.layer import Sigmoid,Relu\n",
    "from kudzu.layer import Affine"
   ]
  },
  {
   "cell_type": "markdown",
   "id": "bc01172a",
   "metadata": {
    "papermill": {
     "duration": 0.038443,
     "end_time": "2022-09-18T10:11:43.599349",
     "exception": false,
     "start_time": "2022-09-18T10:11:43.560906",
     "status": "completed"
    },
    "tags": []
   },
   "source": [
    "### Let us create a `Config` class, to store important parameters. \n",
    "This class essentially plays the role of a dictionary."
   ]
  },
  {
   "cell_type": "code",
   "execution_count": 16,
   "id": "978281aa",
   "metadata": {
    "execution": {
     "iopub.execute_input": "2022-09-18T10:11:43.685216Z",
     "iopub.status.busy": "2022-09-18T10:11:43.684359Z",
     "iopub.status.idle": "2022-09-18T10:11:43.698112Z",
     "shell.execute_reply": "2022-09-18T10:11:43.698735Z"
    },
    "papermill": {
     "duration": 0.059636,
     "end_time": "2022-09-18T10:11:43.698907",
     "exception": false,
     "start_time": "2022-09-18T10:11:43.639271",
     "status": "completed"
    },
    "tags": []
   },
   "outputs": [],
   "source": [
    "class Config:\n",
    "    pass\n",
    "config = Config()\n",
    "config.lr = 0.001\n",
    "config.num_epochs = 250\n",
    "config.bs = 50"
   ]
  },
  {
   "cell_type": "markdown",
   "id": "1385fa59",
   "metadata": {
    "papermill": {
     "duration": 0.037845,
     "end_time": "2022-09-18T10:11:43.773465",
     "exception": false,
     "start_time": "2022-09-18T10:11:43.735620",
     "status": "completed"
    },
    "tags": []
   },
   "source": [
    "### Running Models with the Training data\n",
    "Details about the network layers:\n",
    "- A first affine layer has 784 inputs and does 100 affine transforms. These are followed by a Relu\n",
    "- A second affine layer has 100 inputs from the 100 activations of the past layer, and does 100 affine transforms. These are followed by a Relu\n",
    "- A third affine layer has 100 activations and does 2 affine transformations to create an embedding for visualization. There is no non-linearity here.\n",
    "- A final \"logistic regression\" which has an affine transform from 2 inputs to 1 output, which is squeezed through a sigmoid.\n"
   ]
  },
  {
   "cell_type": "code",
   "execution_count": 17,
   "id": "2b9c66db",
   "metadata": {
    "execution": {
     "iopub.execute_input": "2022-09-18T10:11:43.855551Z",
     "iopub.status.busy": "2022-09-18T10:11:43.854766Z",
     "iopub.status.idle": "2022-09-18T10:11:43.872161Z",
     "shell.execute_reply": "2022-09-18T10:11:43.872997Z"
    },
    "papermill": {
     "duration": 0.05973,
     "end_time": "2022-09-18T10:11:43.873173",
     "exception": false,
     "start_time": "2022-09-18T10:11:43.813443",
     "status": "completed"
    },
    "tags": []
   },
   "outputs": [],
   "source": [
    "data = Data(X_train, y_train.reshape(-1,1))\n",
    "sampler = Sampler(data, config.bs, shuffle=True)\n",
    "\n",
    "dl = Dataloader(data, sampler)\n",
    "\n",
    "opt = GD(config.lr)\n",
    "loss = MSE()"
   ]
  },
  {
   "cell_type": "code",
   "execution_count": 18,
   "id": "b275e4c2",
   "metadata": {
    "execution": {
     "iopub.execute_input": "2022-09-18T10:11:43.961096Z",
     "iopub.status.busy": "2022-09-18T10:11:43.960339Z",
     "iopub.status.idle": "2022-09-18T10:11:43.981770Z",
     "shell.execute_reply": "2022-09-18T10:11:43.981023Z"
    },
    "papermill": {
     "duration": 0.063644,
     "end_time": "2022-09-18T10:11:43.981923",
     "exception": false,
     "start_time": "2022-09-18T10:11:43.918279",
     "status": "completed"
    },
    "tags": []
   },
   "outputs": [],
   "source": [
    "training_data_x = X_train\n",
    "testing_data_x = X_test\n",
    "training_data_y = y_train.reshape(-1,1)\n",
    "testing_data_y = y_test.reshape(-1,1)"
   ]
  },
  {
   "cell_type": "code",
   "execution_count": 19,
   "id": "76951160",
   "metadata": {
    "execution": {
     "iopub.execute_input": "2022-09-18T10:11:44.064954Z",
     "iopub.status.busy": "2022-09-18T10:11:44.064202Z",
     "iopub.status.idle": "2022-09-18T10:11:44.086470Z",
     "shell.execute_reply": "2022-09-18T10:11:44.087103Z"
    },
    "papermill": {
     "duration": 0.067616,
     "end_time": "2022-09-18T10:11:44.087318",
     "exception": false,
     "start_time": "2022-09-18T10:11:44.019702",
     "status": "completed"
    },
    "tags": []
   },
   "outputs": [
    {
     "name": "stdout",
     "output_type": "stream",
     "text": [
      "xavier\n",
      "xavier\n",
      "xavier\n",
      "xavier\n",
      "xavier\n"
     ]
    }
   ],
   "source": [
    "layers = [Affine(\"first\", 784, 100), Relu(\"first\"), Affine(\"second\", 100, 100), Relu(\"second\"), Affine(\"third\", 100, 2), Affine(\"last\", 2, 1), Sigmoid(\"last\")]\n",
    "model_nn = Model(layers)\n",
    "model_lr = Model([Affine(\"logits\", 784, 1), Sigmoid(\"sigmoid\")])"
   ]
  },
  {
   "cell_type": "code",
   "execution_count": 20,
   "id": "6eede77a",
   "metadata": {
    "execution": {
     "iopub.execute_input": "2022-09-18T10:11:44.171980Z",
     "iopub.status.busy": "2022-09-18T10:11:44.169373Z",
     "iopub.status.idle": "2022-09-18T10:11:44.189562Z",
     "shell.execute_reply": "2022-09-18T10:11:44.188620Z"
    },
    "papermill": {
     "duration": 0.063897,
     "end_time": "2022-09-18T10:11:44.189727",
     "exception": false,
     "start_time": "2022-09-18T10:11:44.125830",
     "status": "completed"
    },
    "tags": []
   },
   "outputs": [],
   "source": [
    "nn_learner = Learner(loss, model_nn, opt, config.num_epochs)\n",
    "acc_nn = ClfCallback(nn_learner, config.bs, training_data_x , testing_data_x, training_data_y, testing_data_y)\n",
    "nn_learner.set_callbacks([acc_nn])"
   ]
  },
  {
   "cell_type": "code",
   "execution_count": 21,
   "id": "877b6cc7",
   "metadata": {
    "execution": {
     "iopub.execute_input": "2022-09-18T10:11:44.277608Z",
     "iopub.status.busy": "2022-09-18T10:11:44.273281Z",
     "iopub.status.idle": "2022-09-18T10:11:44.290189Z",
     "shell.execute_reply": "2022-09-18T10:11:44.289535Z"
    },
    "papermill": {
     "duration": 0.06097,
     "end_time": "2022-09-18T10:11:44.290339",
     "exception": false,
     "start_time": "2022-09-18T10:11:44.229369",
     "status": "completed"
    },
    "tags": []
   },
   "outputs": [],
   "source": [
    "lr_learner = Learner(loss, model_lr, opt, config.num_epochs)\n",
    "acc_lr = ClfCallback(lr_learner, config.bs, training_data_x , testing_data_x, training_data_y, testing_data_y)\n",
    "lr_learner.set_callbacks([acc_lr])"
   ]
  },
  {
   "cell_type": "code",
   "execution_count": 22,
   "id": "d9b133c3",
   "metadata": {
    "execution": {
     "iopub.execute_input": "2022-09-18T10:11:44.371670Z",
     "iopub.status.busy": "2022-09-18T10:11:44.370919Z",
     "iopub.status.idle": "2022-09-18T10:14:01.887044Z",
     "shell.execute_reply": "2022-09-18T10:14:01.887845Z"
    },
    "papermill": {
     "duration": 137.560013,
     "end_time": "2022-09-18T10:14:01.888023",
     "exception": false,
     "start_time": "2022-09-18T10:11:44.328010",
     "status": "completed"
    },
    "tags": []
   },
   "outputs": [
    {
     "name": "stdout",
     "output_type": "stream",
     "text": [
      "Epoch 0, Loss 0.2524\n",
      "Training Accuracy: 0.5404, Testing Accuracy: 0.5307\n",
      "\n"
     ]
    },
    {
     "name": "stdout",
     "output_type": "stream",
     "text": [
      "Epoch 10, Loss 0.1261\n",
      "Training Accuracy: 0.8998, Testing Accuracy: 0.9098\n",
      "\n"
     ]
    },
    {
     "name": "stdout",
     "output_type": "stream",
     "text": [
      "Epoch 20, Loss 0.0669\n",
      "Training Accuracy: 0.9347, Testing Accuracy: 0.9456\n",
      "\n"
     ]
    },
    {
     "name": "stdout",
     "output_type": "stream",
     "text": [
      "Epoch 30, Loss 0.0494\n",
      "Training Accuracy: 0.9467, Testing Accuracy: 0.9546\n",
      "\n"
     ]
    },
    {
     "name": "stdout",
     "output_type": "stream",
     "text": [
      "Epoch 40, Loss 0.0417\n",
      "Training Accuracy: 0.9527, Testing Accuracy: 0.9617\n",
      "\n"
     ]
    },
    {
     "name": "stdout",
     "output_type": "stream",
     "text": [
      "Epoch 50, Loss 0.0374\n",
      "Training Accuracy: 0.9574, Testing Accuracy: 0.9667\n",
      "\n"
     ]
    },
    {
     "name": "stdout",
     "output_type": "stream",
     "text": [
      "Epoch 60, Loss 0.0345\n",
      "Training Accuracy: 0.9592, Testing Accuracy: 0.9672\n",
      "\n"
     ]
    },
    {
     "name": "stdout",
     "output_type": "stream",
     "text": [
      "Epoch 70, Loss 0.0324\n",
      "Training Accuracy: 0.9613, Testing Accuracy: 0.9698\n",
      "\n"
     ]
    },
    {
     "name": "stdout",
     "output_type": "stream",
     "text": [
      "Epoch 80, Loss 0.0307\n",
      "Training Accuracy: 0.9631, Testing Accuracy: 0.9693\n",
      "\n"
     ]
    },
    {
     "name": "stdout",
     "output_type": "stream",
     "text": [
      "Epoch 90, Loss 0.0294\n",
      "Training Accuracy: 0.9640, Testing Accuracy: 0.9698\n",
      "\n"
     ]
    },
    {
     "name": "stdout",
     "output_type": "stream",
     "text": [
      "Epoch 100, Loss 0.0283\n",
      "Training Accuracy: 0.9658, Testing Accuracy: 0.9698\n",
      "\n"
     ]
    },
    {
     "name": "stdout",
     "output_type": "stream",
     "text": [
      "Epoch 110, Loss 0.0273\n",
      "Training Accuracy: 0.9677, Testing Accuracy: 0.9688\n",
      "\n"
     ]
    },
    {
     "name": "stdout",
     "output_type": "stream",
     "text": [
      "Epoch 120, Loss 0.0265\n",
      "Training Accuracy: 0.9692, Testing Accuracy: 0.9688\n",
      "\n"
     ]
    },
    {
     "name": "stdout",
     "output_type": "stream",
     "text": [
      "Epoch 130, Loss 0.0257\n",
      "Training Accuracy: 0.9700, Testing Accuracy: 0.9682\n",
      "\n"
     ]
    },
    {
     "name": "stdout",
     "output_type": "stream",
     "text": [
      "Epoch 140, Loss 0.025\n",
      "Training Accuracy: 0.9712, Testing Accuracy: 0.9688\n",
      "\n"
     ]
    },
    {
     "name": "stdout",
     "output_type": "stream",
     "text": [
      "Epoch 150, Loss 0.0244\n",
      "Training Accuracy: 0.9719, Testing Accuracy: 0.9693\n",
      "\n"
     ]
    },
    {
     "name": "stdout",
     "output_type": "stream",
     "text": [
      "Epoch 160, Loss 0.0238\n",
      "Training Accuracy: 0.9732, Testing Accuracy: 0.9703\n",
      "\n"
     ]
    },
    {
     "name": "stdout",
     "output_type": "stream",
     "text": [
      "Epoch 170, Loss 0.0232\n",
      "Training Accuracy: 0.9737, Testing Accuracy: 0.9703\n",
      "\n"
     ]
    },
    {
     "name": "stdout",
     "output_type": "stream",
     "text": [
      "Epoch 180, Loss 0.0227\n",
      "Training Accuracy: 0.9741, Testing Accuracy: 0.9698\n",
      "\n"
     ]
    },
    {
     "name": "stdout",
     "output_type": "stream",
     "text": [
      "Epoch 190, Loss 0.0222\n",
      "Training Accuracy: 0.9746, Testing Accuracy: 0.9703\n",
      "\n"
     ]
    },
    {
     "name": "stdout",
     "output_type": "stream",
     "text": [
      "Epoch 200, Loss 0.0217\n",
      "Training Accuracy: 0.9751, Testing Accuracy: 0.9703\n",
      "\n"
     ]
    },
    {
     "name": "stdout",
     "output_type": "stream",
     "text": [
      "Epoch 210, Loss 0.0213\n",
      "Training Accuracy: 0.9756, Testing Accuracy: 0.9713\n",
      "\n"
     ]
    },
    {
     "name": "stdout",
     "output_type": "stream",
     "text": [
      "Epoch 220, Loss 0.0208\n",
      "Training Accuracy: 0.9764, Testing Accuracy: 0.9718\n",
      "\n"
     ]
    },
    {
     "name": "stdout",
     "output_type": "stream",
     "text": [
      "Epoch 230, Loss 0.0204\n",
      "Training Accuracy: 0.9771, Testing Accuracy: 0.9733\n",
      "\n"
     ]
    },
    {
     "name": "stdout",
     "output_type": "stream",
     "text": [
      "Epoch 240, Loss 0.02\n",
      "Training Accuracy: 0.9773, Testing Accuracy: 0.9733\n",
      "\n"
     ]
    },
    {
     "data": {
      "text/plain": [
       "0.022453041482110168"
      ]
     },
     "execution_count": 22,
     "metadata": {},
     "output_type": "execute_result"
    }
   ],
   "source": [
    "nn_learner.train_loop(dl)"
   ]
  },
  {
   "cell_type": "code",
   "execution_count": 23,
   "id": "e0163366",
   "metadata": {
    "execution": {
     "iopub.execute_input": "2022-09-18T10:14:01.988828Z",
     "iopub.status.busy": "2022-09-18T10:14:01.987977Z",
     "iopub.status.idle": "2022-09-18T10:14:22.661225Z",
     "shell.execute_reply": "2022-09-18T10:14:22.662241Z"
    },
    "papermill": {
     "duration": 20.730091,
     "end_time": "2022-09-18T10:14:22.662413",
     "exception": false,
     "start_time": "2022-09-18T10:14:01.932322",
     "status": "completed"
    },
    "tags": []
   },
   "outputs": [
    {
     "name": "stdout",
     "output_type": "stream",
     "text": [
      "Epoch 0, Loss 0.2454\n",
      "Training Accuracy: 0.6833, Testing Accuracy: 0.6683\n",
      "\n"
     ]
    },
    {
     "name": "stdout",
     "output_type": "stream",
     "text": [
      "Epoch 10, Loss 0.104\n",
      "Training Accuracy: 0.9111, Testing Accuracy: 0.9204\n",
      "\n"
     ]
    },
    {
     "name": "stdout",
     "output_type": "stream",
     "text": [
      "Epoch 20, Loss 0.0795\n",
      "Training Accuracy: 0.9289, Testing Accuracy: 0.9390\n",
      "\n"
     ]
    },
    {
     "name": "stdout",
     "output_type": "stream",
     "text": [
      "Epoch 30, Loss 0.0683\n",
      "Training Accuracy: 0.9380, Testing Accuracy: 0.9461\n",
      "\n"
     ]
    },
    {
     "name": "stdout",
     "output_type": "stream",
     "text": [
      "Epoch 40, Loss 0.0616\n",
      "Training Accuracy: 0.9422, Testing Accuracy: 0.9531\n",
      "\n"
     ]
    },
    {
     "name": "stdout",
     "output_type": "stream",
     "text": [
      "Epoch 50, Loss 0.057\n",
      "Training Accuracy: 0.9458, Testing Accuracy: 0.9551\n",
      "\n"
     ]
    },
    {
     "name": "stdout",
     "output_type": "stream",
     "text": [
      "Epoch 60, Loss 0.0537\n",
      "Training Accuracy: 0.9485, Testing Accuracy: 0.9561\n",
      "\n"
     ]
    },
    {
     "name": "stdout",
     "output_type": "stream",
     "text": [
      "Epoch 70, Loss 0.0511\n",
      "Training Accuracy: 0.9499, Testing Accuracy: 0.9582\n",
      "\n"
     ]
    },
    {
     "name": "stdout",
     "output_type": "stream",
     "text": [
      "Epoch 80, Loss 0.0491\n",
      "Training Accuracy: 0.9508, Testing Accuracy: 0.9597\n",
      "\n"
     ]
    },
    {
     "name": "stdout",
     "output_type": "stream",
     "text": [
      "Epoch 90, Loss 0.0474\n",
      "Training Accuracy: 0.9523, Testing Accuracy: 0.9592\n",
      "\n"
     ]
    },
    {
     "name": "stdout",
     "output_type": "stream",
     "text": [
      "Epoch 100, Loss 0.046\n",
      "Training Accuracy: 0.9536, Testing Accuracy: 0.9622\n",
      "\n"
     ]
    },
    {
     "name": "stdout",
     "output_type": "stream",
     "text": [
      "Epoch 110, Loss 0.0448\n",
      "Training Accuracy: 0.9544, Testing Accuracy: 0.9632\n",
      "\n"
     ]
    },
    {
     "name": "stdout",
     "output_type": "stream",
     "text": [
      "Epoch 120, Loss 0.0437\n",
      "Training Accuracy: 0.9548, Testing Accuracy: 0.9637\n",
      "\n"
     ]
    },
    {
     "name": "stdout",
     "output_type": "stream",
     "text": [
      "Epoch 130, Loss 0.0428\n",
      "Training Accuracy: 0.9554, Testing Accuracy: 0.9627\n",
      "\n"
     ]
    },
    {
     "name": "stdout",
     "output_type": "stream",
     "text": [
      "Epoch 140, Loss 0.042\n",
      "Training Accuracy: 0.9563, Testing Accuracy: 0.9637\n",
      "\n"
     ]
    },
    {
     "name": "stdout",
     "output_type": "stream",
     "text": [
      "Epoch 150, Loss 0.0412\n",
      "Training Accuracy: 0.9568, Testing Accuracy: 0.9647\n",
      "\n"
     ]
    },
    {
     "name": "stdout",
     "output_type": "stream",
     "text": [
      "Epoch 160, Loss 0.0406\n",
      "Training Accuracy: 0.9570, Testing Accuracy: 0.9647\n",
      "\n"
     ]
    },
    {
     "name": "stdout",
     "output_type": "stream",
     "text": [
      "Epoch 170, Loss 0.04\n",
      "Training Accuracy: 0.9576, Testing Accuracy: 0.9652\n",
      "\n"
     ]
    },
    {
     "name": "stdout",
     "output_type": "stream",
     "text": [
      "Epoch 180, Loss 0.0394\n",
      "Training Accuracy: 0.9585, Testing Accuracy: 0.9652\n",
      "\n"
     ]
    },
    {
     "name": "stdout",
     "output_type": "stream",
     "text": [
      "Epoch 190, Loss 0.0389\n",
      "Training Accuracy: 0.9589, Testing Accuracy: 0.9652\n",
      "\n"
     ]
    },
    {
     "name": "stdout",
     "output_type": "stream",
     "text": [
      "Epoch 200, Loss 0.0384\n",
      "Training Accuracy: 0.9593, Testing Accuracy: 0.9652\n",
      "\n"
     ]
    },
    {
     "name": "stdout",
     "output_type": "stream",
     "text": [
      "Epoch 210, Loss 0.038\n",
      "Training Accuracy: 0.9601, Testing Accuracy: 0.9652\n",
      "\n"
     ]
    },
    {
     "name": "stdout",
     "output_type": "stream",
     "text": [
      "Epoch 220, Loss 0.0376\n",
      "Training Accuracy: 0.9599, Testing Accuracy: 0.9652\n",
      "\n"
     ]
    },
    {
     "name": "stdout",
     "output_type": "stream",
     "text": [
      "Epoch 230, Loss 0.0372\n",
      "Training Accuracy: 0.9601, Testing Accuracy: 0.9642\n",
      "\n"
     ]
    },
    {
     "name": "stdout",
     "output_type": "stream",
     "text": [
      "Epoch 240, Loss 0.0368\n",
      "Training Accuracy: 0.9602, Testing Accuracy: 0.9647\n",
      "\n"
     ]
    },
    {
     "data": {
      "text/plain": [
       "0.04632907878097182"
      ]
     },
     "execution_count": 23,
     "metadata": {},
     "output_type": "execute_result"
    }
   ],
   "source": [
    "lr_learner.train_loop(dl)"
   ]
  },
  {
   "cell_type": "code",
   "execution_count": 24,
   "id": "ca410940",
   "metadata": {
    "execution": {
     "iopub.execute_input": "2022-09-18T10:14:22.789939Z",
     "iopub.status.busy": "2022-09-18T10:14:22.789031Z",
     "iopub.status.idle": "2022-09-18T10:14:23.114903Z",
     "shell.execute_reply": "2022-09-18T10:14:23.114155Z"
    },
    "papermill": {
     "duration": 0.395686,
     "end_time": "2022-09-18T10:14:23.115054",
     "exception": false,
     "start_time": "2022-09-18T10:14:22.719368",
     "status": "completed"
    },
    "tags": []
   },
   "outputs": [
    {
     "data": {
      "text/plain": [
       "<matplotlib.legend.Legend at 0x7f7ae6b582e8>"
      ]
     },
     "execution_count": 24,
     "metadata": {},
     "output_type": "execute_result"
    },
    {
     "data": {
      "image/png": "[encoded data removed]",
      "text/plain": [
       "<Figure size 1080x720 with 1 Axes>"
      ]
     },
     "metadata": {
      "needs_background": "light"
     },
     "output_type": "display_data"
    }
   ],
   "source": [
    "#comparing the results of NN and LR\n",
    "plt.figure(figsize=(15,10))\n",
    "\n",
    "# Neural Network plots\n",
    "plt.plot(acc_nn.accuracies, 'r-', label = \"Training Accuracies - NN\")\n",
    "plt.plot(acc_nn.test_accuracies, 'g-', label = \"Testing Accuracies - NN\")\n",
    "\n",
    "# Logistic Regression plots\n",
    "plt.plot(acc_lr.accuracies, 'k-', label = \"Training Accuracies - LR\")\n",
    "plt.plot(acc_lr.test_accuracies, 'b-', label = \"Testing Accuracies - LR\")\n",
    "plt.legend()"
   ]
  },
  {
   "cell_type": "markdown",
   "id": "80dfb35c",
   "metadata": {
    "papermill": {
     "duration": 0.056444,
     "end_time": "2022-09-18T10:14:23.229565",
     "exception": false,
     "start_time": "2022-09-18T10:14:23.173121",
     "status": "completed"
    },
    "tags": []
   },
   "source": [
    "#### Plotting the outputs of this layer of the NN.\n"
   ]
  },
  {
   "cell_type": "code",
   "execution_count": 25,
   "id": "45eb2ff5",
   "metadata": {
    "execution": {
     "iopub.execute_input": "2022-09-18T10:14:23.352237Z",
     "iopub.status.busy": "2022-09-18T10:14:23.351289Z",
     "iopub.status.idle": "2022-09-18T10:14:23.376238Z",
     "shell.execute_reply": "2022-09-18T10:14:23.376873Z"
    },
    "papermill": {
     "duration": 0.089681,
     "end_time": "2022-09-18T10:14:23.377052",
     "exception": false,
     "start_time": "2022-09-18T10:14:23.287371",
     "status": "completed"
    },
    "tags": []
   },
   "outputs": [],
   "source": [
    "new_model = Model(layers[:-2])\n",
    "testing_plot = new_model(testing_data_x)"
   ]
  },
  {
   "cell_type": "code",
   "execution_count": 26,
   "id": "4c0a5485",
   "metadata": {
    "execution": {
     "iopub.execute_input": "2022-09-18T10:14:23.502891Z",
     "iopub.status.busy": "2022-09-18T10:14:23.502083Z",
     "iopub.status.idle": "2022-09-18T10:14:23.833482Z",
     "shell.execute_reply": "2022-09-18T10:14:23.834084Z"
    },
    "papermill": {
     "duration": 0.397489,
     "end_time": "2022-09-18T10:14:23.834293",
     "exception": false,
     "start_time": "2022-09-18T10:14:23.436804",
     "status": "completed"
    },
    "tags": []
   },
   "outputs": [
    {
     "data": {
      "text/plain": [
       "Text(0.5, 1.0, 'Outputs')"
      ]
     },
     "execution_count": 26,
     "metadata": {},
     "output_type": "execute_result"
    },
    {
     "data": {
      "image/png": "[encoded data removed]",
      "text/plain": [
       "<Figure size 576x504 with 1 Axes>"
      ]
     },
     "metadata": {
      "needs_background": "light"
     },
     "output_type": "display_data"
    }
   ],
   "source": [
    "# Plotting the scatter plot of points and color coding by class\n",
    "plt.figure(figsize=(8,7))\n",
    "plt.scatter(testing_plot[:,0], testing_plot[:,1], alpha = 0.1, c = y_test.ravel());\n",
    "plt.title('Outputs')"
   ]
  },
  {
   "cell_type": "markdown",
   "id": "a74fcf8f",
   "metadata": {
    "papermill": {
     "duration": 0.063805,
     "end_time": "2022-09-18T10:14:23.957908",
     "exception": false,
     "start_time": "2022-09-18T10:14:23.894103",
     "status": "completed"
    },
    "tags": []
   },
   "source": [
    "Probability contours"
   ]
  },
  {
   "cell_type": "code",
   "execution_count": 27,
   "id": "d0afc8e3",
   "metadata": {
    "execution": {
     "iopub.execute_input": "2022-09-18T10:14:24.089596Z",
     "iopub.status.busy": "2022-09-18T10:14:24.088822Z",
     "iopub.status.idle": "2022-09-18T10:14:24.103515Z",
     "shell.execute_reply": "2022-09-18T10:14:24.104110Z"
    },
    "papermill": {
     "duration": 0.084193,
     "end_time": "2022-09-18T10:14:24.104311",
     "exception": false,
     "start_time": "2022-09-18T10:14:24.020118",
     "status": "completed"
    },
    "tags": []
   },
   "outputs": [],
   "source": [
    "model_prob = Model(layers[-2:]) "
   ]
  },
  {
   "cell_type": "code",
   "execution_count": 28,
   "id": "9b96e238",
   "metadata": {
    "execution": {
     "iopub.execute_input": "2022-09-18T10:14:24.272232Z",
     "iopub.status.busy": "2022-09-18T10:14:24.271485Z",
     "iopub.status.idle": "2022-09-18T10:14:24.289037Z",
     "shell.execute_reply": "2022-09-18T10:14:24.289686Z"
    },
    "papermill": {
     "duration": 0.085876,
     "end_time": "2022-09-18T10:14:24.289867",
     "exception": false,
     "start_time": "2022-09-18T10:14:24.203991",
     "status": "completed"
    },
    "tags": []
   },
   "outputs": [],
   "source": [
    "#creating the x and y ranges according to the above generated plot.\n",
    "x_range = np.linspace(-4, 1, 100) \n",
    "y_range = np.linspace(-6, 6, 100) \n",
    "x_grid, y_grid = np.meshgrid(x_range, y_range) # x_grid and y_grig are of size 100 X 100\n",
    "\n",
    "# converting x_grid and y_grid to continuous arrays\n",
    "x_gridflat = np.ravel(x_grid)\n",
    "y_gridflat = np.ravel(y_grid)\n",
    "\n",
    "# The last layer of the current model takes two columns as input. Hence transpose of np.vstack() is required.\n",
    "X = np.vstack((x_gridflat, y_gridflat)).T\n",
    "\n",
    "prob_contour = model_prob(X).reshape(100,100) "
   ]
  },
  {
   "cell_type": "code",
   "execution_count": 29,
   "id": "da72499a",
   "metadata": {
    "execution": {
     "iopub.execute_input": "2022-09-18T10:14:24.418593Z",
     "iopub.status.busy": "2022-09-18T10:14:24.416632Z",
     "iopub.status.idle": "2022-09-18T10:14:24.754848Z",
     "shell.execute_reply": "2022-09-18T10:14:24.753993Z"
    },
    "papermill": {
     "duration": 0.40586,
     "end_time": "2022-09-18T10:14:24.754998",
     "exception": false,
     "start_time": "2022-09-18T10:14:24.349138",
     "status": "completed"
    },
    "tags": []
   },
   "outputs": [
    {
     "data": {
      "image/png": "[encoded data removed]",
      "text/plain": [
       "<Figure size 720x648 with 1 Axes>"
      ]
     },
     "metadata": {
      "needs_background": "light"
     },
     "output_type": "display_data"
    }
   ],
   "source": [
    "plt.figure(figsize=(10,9))\n",
    "plt.scatter(testing_plot[:,0], testing_plot[:,1], alpha = 0.1, c = y_test.ravel())\n",
    "contours = plt.contour(x_grid,y_grid,prob_contour)\n",
    "plt.title('Probability Contours')\n",
    "plt.clabel(contours, inline = True );"
   ]
  },
  {
   "cell_type": "code",
   "execution_count": null,
   "id": "e81b4ac7",
   "metadata": {
    "papermill": {
     "duration": 0.07072,
     "end_time": "2022-09-18T10:14:24.890760",
     "exception": false,
     "start_time": "2022-09-18T10:14:24.820040",
     "status": "completed"
    },
    "tags": []
   },
   "outputs": [],
   "source": []
  }
 ],
 "metadata": {
  "kernelspec": {
   "display_name": "Python 3",
   "language": "python",
   "name": "python3"
  },
  "language_info": {
   "codemirror_mode": {
    "name": "ipython",
    "version": 3
   },
   "file_extension": ".py",
   "mimetype": "text/x-python",
   "name": "python",
   "nbconvert_exporter": "python",
   "pygments_lexer": "ipython3",
   "version": "3.6.15"
  },
  "papermill": {
   "default_parameters": {},
   "duration": 168.811637,
   "end_time": "2022-09-18T10:14:25.474497",
   "environment_variables": {},
   "exception": null,
   "input_path": "2020-08-11-part2.ipynb",
   "output_path": "2020-08-11-part2.ipynb",
   "parameters": {},
   "start_time": "2022-09-18T10:11:36.662860",
   "version": "2.3.3"
  }
 },
 "nbformat": 4,
 "nbformat_minor": 5
}