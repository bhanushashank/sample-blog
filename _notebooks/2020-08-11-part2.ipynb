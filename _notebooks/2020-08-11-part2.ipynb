{
 "cells": [
  {
   "cell_type": "markdown",
   "id": "98380cd3",
   "metadata": {
    "papermill": {
     "duration": 0.035439,
     "end_time": "2022-06-14T00:44:27.137188",
     "exception": false,
     "start_time": "2022-06-14T00:44:27.101749",
     "status": "completed"
    },
    "tags": []
   },
   "source": [
    "# Distinguish Your Own Digits (DYOD)"
   ]
  },
  {
   "cell_type": "markdown",
   "id": "ef31240d",
   "metadata": {
    "papermill": {
     "duration": 0.026344,
     "end_time": "2022-06-14T00:44:27.190819",
     "exception": false,
     "start_time": "2022-06-14T00:44:27.164475",
     "status": "completed"
    },
    "tags": []
   },
   "source": [
    "You are going to write a classifier that distinguishes between the number 3 and number 8."
   ]
  },
  {
   "cell_type": "code",
   "execution_count": 1,
   "id": "b15c8646",
   "metadata": {
    "execution": {
     "iopub.execute_input": "2022-06-14T00:44:27.256325Z",
     "iopub.status.busy": "2022-06-14T00:44:27.255638Z",
     "iopub.status.idle": "2022-06-14T00:44:27.268132Z",
     "shell.execute_reply": "2022-06-14T00:44:27.267552Z"
    },
    "papermill": {
     "duration": 0.050944,
     "end_time": "2022-06-14T00:44:27.268274",
     "exception": false,
     "start_time": "2022-06-14T00:44:27.217330",
     "status": "completed"
    },
    "tags": []
   },
   "outputs": [],
   "source": [
    "%load_ext autoreload\n",
    "%autoreload 2"
   ]
  },
  {
   "cell_type": "code",
   "execution_count": 2,
   "id": "22ef38dc",
   "metadata": {
    "execution": {
     "iopub.execute_input": "2022-06-14T00:44:27.332247Z",
     "iopub.status.busy": "2022-06-14T00:44:27.331062Z",
     "iopub.status.idle": "2022-06-14T00:44:27.966756Z",
     "shell.execute_reply": "2022-06-14T00:44:27.966118Z"
    },
    "papermill": {
     "duration": 0.669477,
     "end_time": "2022-06-14T00:44:27.966900",
     "exception": false,
     "start_time": "2022-06-14T00:44:27.297423",
     "status": "completed"
    },
    "tags": []
   },
   "outputs": [],
   "source": [
    "%matplotlib inline\n",
    "import numpy as np\n",
    "import matplotlib.pyplot as plt\n",
    "import pandas as pd"
   ]
  },
  {
   "cell_type": "markdown",
   "id": "ba036198",
   "metadata": {
    "papermill": {
     "duration": 0.028111,
     "end_time": "2022-06-14T00:44:28.023208",
     "exception": false,
     "start_time": "2022-06-14T00:44:27.995097",
     "status": "completed"
    },
    "tags": []
   },
   "source": [
    "From the command line run `pip install mnist`. This is a library that will help you bring down the mnist dataset. If you run this from a notebook, you need to put  `!pip install mnist` in a cell by itself."
   ]
  },
  {
   "cell_type": "code",
   "execution_count": 3,
   "id": "bb6ad8a1",
   "metadata": {
    "execution": {
     "iopub.execute_input": "2022-06-14T00:44:28.087185Z",
     "iopub.status.busy": "2022-06-14T00:44:28.086377Z",
     "iopub.status.idle": "2022-06-14T00:44:30.181317Z",
     "shell.execute_reply": "2022-06-14T00:44:30.181945Z"
    },
    "papermill": {
     "duration": 2.126494,
     "end_time": "2022-06-14T00:44:30.182137",
     "exception": false,
     "start_time": "2022-06-14T00:44:28.055643",
     "status": "completed"
    },
    "tags": []
   },
   "outputs": [
    {
     "name": "stdout",
     "output_type": "stream",
     "text": [
      "Collecting mnist\r\n"
     ]
    },
    {
     "name": "stdout",
     "output_type": "stream",
     "text": [
      "  Downloading mnist-0.2.2-py2.py3-none-any.whl (3.5 kB)\r\n",
      "Requirement already satisfied: numpy in /opt/hostedtoolcache/Python/3.6.15/x64/lib/python3.6/site-packages (from mnist) (1.19.5)\r\n"
     ]
    },
    {
     "name": "stdout",
     "output_type": "stream",
     "text": [
      "Installing collected packages: mnist\r\n",
      "Successfully installed mnist-0.2.2\r\n"
     ]
    }
   ],
   "source": [
    "!pip install mnist"
   ]
  },
  {
   "cell_type": "markdown",
   "id": "69df9c9a",
   "metadata": {
    "papermill": {
     "duration": 0.028516,
     "end_time": "2022-06-14T00:44:30.238731",
     "exception": false,
     "start_time": "2022-06-14T00:44:30.210215",
     "status": "completed"
    },
    "tags": []
   },
   "source": [
    "## Preparing the Data"
   ]
  },
  {
   "cell_type": "code",
   "execution_count": 4,
   "id": "7f69d806",
   "metadata": {
    "execution": {
     "iopub.execute_input": "2022-06-14T00:44:30.303638Z",
     "iopub.status.busy": "2022-06-14T00:44:30.302313Z",
     "iopub.status.idle": "2022-06-14T00:44:30.319734Z",
     "shell.execute_reply": "2022-06-14T00:44:30.319168Z"
    },
    "papermill": {
     "duration": 0.051636,
     "end_time": "2022-06-14T00:44:30.319869",
     "exception": false,
     "start_time": "2022-06-14T00:44:30.268233",
     "status": "completed"
    },
    "tags": []
   },
   "outputs": [],
   "source": [
    "import mnist"
   ]
  },
  {
   "cell_type": "code",
   "execution_count": 5,
   "id": "a411e44f",
   "metadata": {
    "execution": {
     "iopub.execute_input": "2022-06-14T00:44:30.383874Z",
     "iopub.status.busy": "2022-06-14T00:44:30.382228Z",
     "iopub.status.idle": "2022-06-14T00:44:31.075049Z",
     "shell.execute_reply": "2022-06-14T00:44:31.075563Z"
    },
    "papermill": {
     "duration": 0.727599,
     "end_time": "2022-06-14T00:44:31.075745",
     "exception": false,
     "start_time": "2022-06-14T00:44:30.348146",
     "status": "completed"
    },
    "tags": []
   },
   "outputs": [],
   "source": [
    "train_images = mnist.train_images()\n",
    "train_labels = mnist.train_labels()"
   ]
  },
  {
   "cell_type": "code",
   "execution_count": 6,
   "id": "dceab3a5",
   "metadata": {
    "execution": {
     "iopub.execute_input": "2022-06-14T00:44:31.136357Z",
     "iopub.status.busy": "2022-06-14T00:44:31.135717Z",
     "iopub.status.idle": "2022-06-14T00:44:31.153427Z",
     "shell.execute_reply": "2022-06-14T00:44:31.152784Z"
    },
    "papermill": {
     "duration": 0.050629,
     "end_time": "2022-06-14T00:44:31.153546",
     "exception": false,
     "start_time": "2022-06-14T00:44:31.102917",
     "status": "completed"
    },
    "tags": []
   },
   "outputs": [
    {
     "data": {
      "text/plain": [
       "((60000, 28, 28), (60000,))"
      ]
     },
     "execution_count": 6,
     "metadata": {},
     "output_type": "execute_result"
    }
   ],
   "source": [
    "train_images.shape, train_labels.shape"
   ]
  },
  {
   "cell_type": "code",
   "execution_count": 7,
   "id": "f50dc2bb",
   "metadata": {
    "execution": {
     "iopub.execute_input": "2022-06-14T00:44:31.214521Z",
     "iopub.status.busy": "2022-06-14T00:44:31.213907Z",
     "iopub.status.idle": "2022-06-14T00:44:31.462959Z",
     "shell.execute_reply": "2022-06-14T00:44:31.462314Z"
    },
    "papermill": {
     "duration": 0.279553,
     "end_time": "2022-06-14T00:44:31.463106",
     "exception": false,
     "start_time": "2022-06-14T00:44:31.183553",
     "status": "completed"
    },
    "tags": []
   },
   "outputs": [],
   "source": [
    "test_images = mnist.test_images()\n",
    "test_labels = mnist.test_labels()"
   ]
  },
  {
   "cell_type": "code",
   "execution_count": 8,
   "id": "fc38cf1b",
   "metadata": {
    "execution": {
     "iopub.execute_input": "2022-06-14T00:44:31.524543Z",
     "iopub.status.busy": "2022-06-14T00:44:31.523869Z",
     "iopub.status.idle": "2022-06-14T00:44:31.539639Z",
     "shell.execute_reply": "2022-06-14T00:44:31.539066Z"
    },
    "papermill": {
     "duration": 0.046321,
     "end_time": "2022-06-14T00:44:31.539758",
     "exception": false,
     "start_time": "2022-06-14T00:44:31.493437",
     "status": "completed"
    },
    "tags": []
   },
   "outputs": [
    {
     "data": {
      "text/plain": [
       "((10000, 28, 28), (10000,))"
      ]
     },
     "execution_count": 8,
     "metadata": {},
     "output_type": "execute_result"
    }
   ],
   "source": [
    "test_images.shape, test_labels.shape"
   ]
  },
  {
   "cell_type": "code",
   "execution_count": 9,
   "id": "f9ed8fe0",
   "metadata": {
    "execution": {
     "iopub.execute_input": "2022-06-14T00:44:31.599875Z",
     "iopub.status.busy": "2022-06-14T00:44:31.599265Z",
     "iopub.status.idle": "2022-06-14T00:44:31.762809Z",
     "shell.execute_reply": "2022-06-14T00:44:31.762147Z"
    },
    "papermill": {
     "duration": 0.195346,
     "end_time": "2022-06-14T00:44:31.762935",
     "exception": false,
     "start_time": "2022-06-14T00:44:31.567589",
     "status": "completed"
    },
    "tags": []
   },
   "outputs": [
    {
     "name": "stdout",
     "output_type": "stream",
     "text": [
      "2\n"
     ]
    },
    {
     "data": {
      "text/plain": [
       "<matplotlib.image.AxesImage at 0x7f1e1474d3c8>"
      ]
     },
     "execution_count": 9,
     "metadata": {},
     "output_type": "execute_result"
    },
    {
     "data": {
      "image/png": "[encoded data removed]",
      "text/plain": [
       "<Figure size 432x288 with 1 Axes>"
      ]
     },
     "metadata": {
      "needs_background": "light"
     },
     "output_type": "display_data"
    }
   ],
   "source": [
    "image_index = 7776 # You may select anything up to 60,000\n",
    "print(train_labels[image_index]) \n",
    "plt.imshow(train_images[image_index], cmap='Greys')"
   ]
  },
  {
   "cell_type": "markdown",
   "id": "a8d2388d",
   "metadata": {
    "papermill": {
     "duration": 0.028788,
     "end_time": "2022-06-14T00:44:31.820890",
     "exception": false,
     "start_time": "2022-06-14T00:44:31.792102",
     "status": "completed"
    },
    "tags": []
   },
   "source": [
    "## Filter data to get 3 and 8 out"
   ]
  },
  {
   "cell_type": "code",
   "execution_count": 10,
   "id": "776f7fc7",
   "metadata": {
    "execution": {
     "iopub.execute_input": "2022-06-14T00:44:31.884075Z",
     "iopub.status.busy": "2022-06-14T00:44:31.883391Z",
     "iopub.status.idle": "2022-06-14T00:44:31.902151Z",
     "shell.execute_reply": "2022-06-14T00:44:31.902661Z"
    },
    "papermill": {
     "duration": 0.052644,
     "end_time": "2022-06-14T00:44:31.902824",
     "exception": false,
     "start_time": "2022-06-14T00:44:31.850180",
     "status": "completed"
    },
    "tags": []
   },
   "outputs": [],
   "source": [
    "train_filter = np.where((train_labels == 3 ) | (train_labels == 8))\n",
    "test_filter = np.where((test_labels == 3) | (test_labels == 8))\n",
    "X_train, y_train = train_images[train_filter], train_labels[train_filter]\n",
    "X_test, y_test = test_images[test_filter], test_labels[test_filter]"
   ]
  },
  {
   "cell_type": "markdown",
   "id": "948f0b7e",
   "metadata": {
    "papermill": {
     "duration": 0.0278,
     "end_time": "2022-06-14T00:44:31.959374",
     "exception": false,
     "start_time": "2022-06-14T00:44:31.931574",
     "status": "completed"
    },
    "tags": []
   },
   "source": [
    "We normalize the pizel values in the 0 to 1 range"
   ]
  },
  {
   "cell_type": "code",
   "execution_count": 11,
   "id": "ee4c2166",
   "metadata": {
    "execution": {
     "iopub.execute_input": "2022-06-14T00:44:32.033356Z",
     "iopub.status.busy": "2022-06-14T00:44:32.026033Z",
     "iopub.status.idle": "2022-06-14T00:44:32.078917Z",
     "shell.execute_reply": "2022-06-14T00:44:32.078335Z"
    },
    "papermill": {
     "duration": 0.090542,
     "end_time": "2022-06-14T00:44:32.079057",
     "exception": false,
     "start_time": "2022-06-14T00:44:31.988515",
     "status": "completed"
    },
    "tags": []
   },
   "outputs": [],
   "source": [
    "X_train = X_train/255.\n",
    "X_test = X_test/255."
   ]
  },
  {
   "cell_type": "markdown",
   "id": "ddcf4fab",
   "metadata": {
    "papermill": {
     "duration": 0.028842,
     "end_time": "2022-06-14T00:44:32.137076",
     "exception": false,
     "start_time": "2022-06-14T00:44:32.108234",
     "status": "completed"
    },
    "tags": []
   },
   "source": [
    "And setup the labels as 1 (when the digit is 3) and 0 (when the digit is 8)"
   ]
  },
  {
   "cell_type": "code",
   "execution_count": 12,
   "id": "7dc908f2",
   "metadata": {
    "execution": {
     "iopub.execute_input": "2022-06-14T00:44:32.203217Z",
     "iopub.status.busy": "2022-06-14T00:44:32.201982Z",
     "iopub.status.idle": "2022-06-14T00:44:32.217697Z",
     "shell.execute_reply": "2022-06-14T00:44:32.217126Z"
    },
    "papermill": {
     "duration": 0.050495,
     "end_time": "2022-06-14T00:44:32.217839",
     "exception": false,
     "start_time": "2022-06-14T00:44:32.167344",
     "status": "completed"
    },
    "tags": []
   },
   "outputs": [],
   "source": [
    "y_train = 1*(y_train==3)\n",
    "y_test = 1*(y_test==3)"
   ]
  },
  {
   "cell_type": "code",
   "execution_count": 13,
   "id": "01e4e969",
   "metadata": {
    "execution": {
     "iopub.execute_input": "2022-06-14T00:44:32.285048Z",
     "iopub.status.busy": "2022-06-14T00:44:32.281966Z",
     "iopub.status.idle": "2022-06-14T00:44:32.296864Z",
     "shell.execute_reply": "2022-06-14T00:44:32.297349Z"
    },
    "papermill": {
     "duration": 0.049697,
     "end_time": "2022-06-14T00:44:32.297542",
     "exception": false,
     "start_time": "2022-06-14T00:44:32.247845",
     "status": "completed"
    },
    "tags": []
   },
   "outputs": [
    {
     "data": {
      "text/plain": [
       "((11982, 28, 28), (1984, 28, 28))"
      ]
     },
     "execution_count": 13,
     "metadata": {},
     "output_type": "execute_result"
    }
   ],
   "source": [
    "X_train.shape, X_test.shape"
   ]
  },
  {
   "cell_type": "markdown",
   "id": "5ccf3f85",
   "metadata": {
    "papermill": {
     "duration": 0.028868,
     "end_time": "2022-06-14T00:44:32.355327",
     "exception": false,
     "start_time": "2022-06-14T00:44:32.326459",
     "status": "completed"
    },
    "tags": []
   },
   "source": [
    "We reshape the data to flatten the image pixels into a set of features or co-variates:"
   ]
  },
  {
   "cell_type": "code",
   "execution_count": 14,
   "id": "5286a4a3",
   "metadata": {
    "execution": {
     "iopub.execute_input": "2022-06-14T00:44:32.427942Z",
     "iopub.status.busy": "2022-06-14T00:44:32.424578Z",
     "iopub.status.idle": "2022-06-14T00:44:32.441279Z",
     "shell.execute_reply": "2022-06-14T00:44:32.440729Z"
    },
    "papermill": {
     "duration": 0.051516,
     "end_time": "2022-06-14T00:44:32.441404",
     "exception": false,
     "start_time": "2022-06-14T00:44:32.389888",
     "status": "completed"
    },
    "tags": []
   },
   "outputs": [
    {
     "data": {
      "text/plain": [
       "((11982, 784), (1984, 784))"
      ]
     },
     "execution_count": 14,
     "metadata": {},
     "output_type": "execute_result"
    }
   ],
   "source": [
    "X_train = X_train.reshape(X_train.shape[0], -1)\n",
    "X_test = X_test.reshape(X_test.shape[0], -1)\n",
    "X_train.shape, X_test.shape"
   ]
  },
  {
   "cell_type": "code",
   "execution_count": 15,
   "id": "73c5f88a",
   "metadata": {
    "execution": {
     "iopub.execute_input": "2022-06-14T00:44:32.506790Z",
     "iopub.status.busy": "2022-06-14T00:44:32.506098Z",
     "iopub.status.idle": "2022-06-14T00:44:32.529705Z",
     "shell.execute_reply": "2022-06-14T00:44:32.528921Z"
    },
    "papermill": {
     "duration": 0.057689,
     "end_time": "2022-06-14T00:44:32.529845",
     "exception": false,
     "start_time": "2022-06-14T00:44:32.472156",
     "status": "completed"
    },
    "tags": []
   },
   "outputs": [],
   "source": [
    "#Impoting functions from 'Kudzu'\n",
    "from kudzu.model import Model\n",
    "from kudzu.train import Learner\n",
    "from kudzu.optim import GD\n",
    "from kudzu.data import Data, Sampler,Dataloader\n",
    "\n",
    "from kudzu.callbacks import AccCallback\n",
    "from kudzu.callbacks import ClfCallback\n",
    "\n",
    "from kudzu.loss import MSE\n",
    "\n",
    "from kudzu.layer import Sigmoid,Relu\n",
    "from kudzu.layer import Affine"
   ]
  },
  {
   "cell_type": "markdown",
   "id": "bc01172a",
   "metadata": {
    "papermill": {
     "duration": 0.029403,
     "end_time": "2022-06-14T00:44:32.588876",
     "exception": false,
     "start_time": "2022-06-14T00:44:32.559473",
     "status": "completed"
    },
    "tags": []
   },
   "source": [
    "### Let us create a `Config` class, to store important parameters. \n",
    "This class essentially plays the role of a dictionary."
   ]
  },
  {
   "cell_type": "code",
   "execution_count": 16,
   "id": "978281aa",
   "metadata": {
    "execution": {
     "iopub.execute_input": "2022-06-14T00:44:32.651796Z",
     "iopub.status.busy": "2022-06-14T00:44:32.651120Z",
     "iopub.status.idle": "2022-06-14T00:44:32.665118Z",
     "shell.execute_reply": "2022-06-14T00:44:32.664570Z"
    },
    "papermill": {
     "duration": 0.047471,
     "end_time": "2022-06-14T00:44:32.665241",
     "exception": false,
     "start_time": "2022-06-14T00:44:32.617770",
     "status": "completed"
    },
    "tags": []
   },
   "outputs": [],
   "source": [
    "class Config:\n",
    "    pass\n",
    "config = Config()\n",
    "config.lr = 0.001\n",
    "config.num_epochs = 250\n",
    "config.bs = 50"
   ]
  },
  {
   "cell_type": "markdown",
   "id": "1385fa59",
   "metadata": {
    "papermill": {
     "duration": 0.029122,
     "end_time": "2022-06-14T00:44:32.724104",
     "exception": false,
     "start_time": "2022-06-14T00:44:32.694982",
     "status": "completed"
    },
    "tags": []
   },
   "source": [
    "### Running Models with the Training data\n",
    "Details about the network layers:\n",
    "- A first affine layer has 784 inputs and does 100 affine transforms. These are followed by a Relu\n",
    "- A second affine layer has 100 inputs from the 100 activations of the past layer, and does 100 affine transforms. These are followed by a Relu\n",
    "- A third affine layer has 100 activations and does 2 affine transformations to create an embedding for visualization. There is no non-linearity here.\n",
    "- A final \"logistic regression\" which has an affine transform from 2 inputs to 1 output, which is squeezed through a sigmoid.\n"
   ]
  },
  {
   "cell_type": "code",
   "execution_count": 17,
   "id": "2b9c66db",
   "metadata": {
    "execution": {
     "iopub.execute_input": "2022-06-14T00:44:32.790539Z",
     "iopub.status.busy": "2022-06-14T00:44:32.789859Z",
     "iopub.status.idle": "2022-06-14T00:44:32.805245Z",
     "shell.execute_reply": "2022-06-14T00:44:32.804689Z"
    },
    "papermill": {
     "duration": 0.050823,
     "end_time": "2022-06-14T00:44:32.805370",
     "exception": false,
     "start_time": "2022-06-14T00:44:32.754547",
     "status": "completed"
    },
    "tags": []
   },
   "outputs": [],
   "source": [
    "data = Data(X_train, y_train.reshape(-1,1))\n",
    "sampler = Sampler(data, config.bs, shuffle=True)\n",
    "\n",
    "dl = Dataloader(data, sampler)\n",
    "\n",
    "opt = GD(config.lr)\n",
    "loss = MSE()"
   ]
  },
  {
   "cell_type": "code",
   "execution_count": 18,
   "id": "b275e4c2",
   "metadata": {
    "execution": {
     "iopub.execute_input": "2022-06-14T00:44:32.867554Z",
     "iopub.status.busy": "2022-06-14T00:44:32.866881Z",
     "iopub.status.idle": "2022-06-14T00:44:32.881508Z",
     "shell.execute_reply": "2022-06-14T00:44:32.882029Z"
    },
    "papermill": {
     "duration": 0.048481,
     "end_time": "2022-06-14T00:44:32.882249",
     "exception": false,
     "start_time": "2022-06-14T00:44:32.833768",
     "status": "completed"
    },
    "tags": []
   },
   "outputs": [],
   "source": [
    "training_data_x = X_train\n",
    "testing_data_x = X_test\n",
    "training_data_y = y_train.reshape(-1,1)\n",
    "testing_data_y = y_test.reshape(-1,1)"
   ]
  },
  {
   "cell_type": "code",
   "execution_count": 19,
   "id": "76951160",
   "metadata": {
    "execution": {
     "iopub.execute_input": "2022-06-14T00:44:32.947679Z",
     "iopub.status.busy": "2022-06-14T00:44:32.946992Z",
     "iopub.status.idle": "2022-06-14T00:44:32.966058Z",
     "shell.execute_reply": "2022-06-14T00:44:32.965402Z"
    },
    "papermill": {
     "duration": 0.054533,
     "end_time": "2022-06-14T00:44:32.966181",
     "exception": false,
     "start_time": "2022-06-14T00:44:32.911648",
     "status": "completed"
    },
    "tags": []
   },
   "outputs": [
    {
     "name": "stdout",
     "output_type": "stream",
     "text": [
      "xavier\n",
      "xavier\n",
      "xavier\n",
      "xavier\n",
      "xavier\n"
     ]
    }
   ],
   "source": [
    "layers = [Affine(\"first\", 784, 100), Relu(\"first\"), Affine(\"second\", 100, 100), Relu(\"second\"), Affine(\"third\", 100, 2), Affine(\"last\", 2, 1), Sigmoid(\"last\")]\n",
    "model_nn = Model(layers)\n",
    "model_lr = Model([Affine(\"logits\", 784, 1), Sigmoid(\"sigmoid\")])"
   ]
  },
  {
   "cell_type": "code",
   "execution_count": 20,
   "id": "6eede77a",
   "metadata": {
    "execution": {
     "iopub.execute_input": "2022-06-14T00:44:33.032491Z",
     "iopub.status.busy": "2022-06-14T00:44:33.031869Z",
     "iopub.status.idle": "2022-06-14T00:44:33.046439Z",
     "shell.execute_reply": "2022-06-14T00:44:33.045760Z"
    },
    "papermill": {
     "duration": 0.048875,
     "end_time": "2022-06-14T00:44:33.046554",
     "exception": false,
     "start_time": "2022-06-14T00:44:32.997679",
     "status": "completed"
    },
    "tags": []
   },
   "outputs": [],
   "source": [
    "nn_learner = Learner(loss, model_nn, opt, config.num_epochs)\n",
    "acc_nn = ClfCallback(nn_learner, config.bs, training_data_x , testing_data_x, training_data_y, testing_data_y)\n",
    "nn_learner.set_callbacks([acc_nn])"
   ]
  },
  {
   "cell_type": "code",
   "execution_count": 21,
   "id": "877b6cc7",
   "metadata": {
    "execution": {
     "iopub.execute_input": "2022-06-14T00:44:33.119224Z",
     "iopub.status.busy": "2022-06-14T00:44:33.118522Z",
     "iopub.status.idle": "2022-06-14T00:44:33.132839Z",
     "shell.execute_reply": "2022-06-14T00:44:33.132280Z"
    },
    "papermill": {
     "duration": 0.049687,
     "end_time": "2022-06-14T00:44:33.132962",
     "exception": false,
     "start_time": "2022-06-14T00:44:33.083275",
     "status": "completed"
    },
    "tags": []
   },
   "outputs": [],
   "source": [
    "lr_learner = Learner(loss, model_lr, opt, config.num_epochs)\n",
    "acc_lr = ClfCallback(lr_learner, config.bs, training_data_x , testing_data_x, training_data_y, testing_data_y)\n",
    "lr_learner.set_callbacks([acc_lr])"
   ]
  },
  {
   "cell_type": "code",
   "execution_count": 22,
   "id": "d9b133c3",
   "metadata": {
    "execution": {
     "iopub.execute_input": "2022-06-14T00:44:33.201277Z",
     "iopub.status.busy": "2022-06-14T00:44:33.200606Z",
     "iopub.status.idle": "2022-06-14T00:46:05.356298Z",
     "shell.execute_reply": "2022-06-14T00:46:05.357263Z"
    },
    "papermill": {
     "duration": 92.192801,
     "end_time": "2022-06-14T00:46:05.357420",
     "exception": false,
     "start_time": "2022-06-14T00:44:33.164619",
     "status": "completed"
    },
    "tags": []
   },
   "outputs": [
    {
     "name": "stdout",
     "output_type": "stream",
     "text": [
      "Epoch 0, Loss 0.2594\n",
      "Training Accuracy: 0.6121, Testing Accuracy: 0.6064\n",
      "\n"
     ]
    },
    {
     "name": "stdout",
     "output_type": "stream",
     "text": [
      "Epoch 10, Loss 0.0786\n",
      "Training Accuracy: 0.9244, Testing Accuracy: 0.9345\n",
      "\n"
     ]
    },
    {
     "name": "stdout",
     "output_type": "stream",
     "text": [
      "Epoch 20, Loss 0.051\n",
      "Training Accuracy: 0.9476, Testing Accuracy: 0.9516\n",
      "\n"
     ]
    },
    {
     "name": "stdout",
     "output_type": "stream",
     "text": [
      "Epoch 30, Loss 0.0409\n",
      "Training Accuracy: 0.9551, Testing Accuracy: 0.9592\n",
      "\n"
     ]
    },
    {
     "name": "stdout",
     "output_type": "stream",
     "text": [
      "Epoch 40, Loss 0.0357\n",
      "Training Accuracy: 0.9601, Testing Accuracy: 0.9652\n",
      "\n"
     ]
    },
    {
     "name": "stdout",
     "output_type": "stream",
     "text": [
      "Epoch 50, Loss 0.0324\n",
      "Training Accuracy: 0.9635, Testing Accuracy: 0.9667\n",
      "\n"
     ]
    },
    {
     "name": "stdout",
     "output_type": "stream",
     "text": [
      "Epoch 60, Loss 0.0301\n",
      "Training Accuracy: 0.9660, Testing Accuracy: 0.9667\n",
      "\n"
     ]
    },
    {
     "name": "stdout",
     "output_type": "stream",
     "text": [
      "Epoch 70, Loss 0.0284\n",
      "Training Accuracy: 0.9679, Testing Accuracy: 0.9667\n",
      "\n"
     ]
    },
    {
     "name": "stdout",
     "output_type": "stream",
     "text": [
      "Epoch 80, Loss 0.027\n",
      "Training Accuracy: 0.9688, Testing Accuracy: 0.9682\n",
      "\n"
     ]
    },
    {
     "name": "stdout",
     "output_type": "stream",
     "text": [
      "Epoch 90, Loss 0.0258\n",
      "Training Accuracy: 0.9701, Testing Accuracy: 0.9682\n",
      "\n"
     ]
    },
    {
     "name": "stdout",
     "output_type": "stream",
     "text": [
      "Epoch 100, Loss 0.0249\n",
      "Training Accuracy: 0.9713, Testing Accuracy: 0.9682\n",
      "\n"
     ]
    },
    {
     "name": "stdout",
     "output_type": "stream",
     "text": [
      "Epoch 110, Loss 0.024\n",
      "Training Accuracy: 0.9726, Testing Accuracy: 0.9698\n",
      "\n"
     ]
    },
    {
     "name": "stdout",
     "output_type": "stream",
     "text": [
      "Epoch 120, Loss 0.0233\n",
      "Training Accuracy: 0.9729, Testing Accuracy: 0.9703\n",
      "\n"
     ]
    },
    {
     "name": "stdout",
     "output_type": "stream",
     "text": [
      "Epoch 130, Loss 0.0226\n",
      "Training Accuracy: 0.9737, Testing Accuracy: 0.9708\n",
      "\n"
     ]
    },
    {
     "name": "stdout",
     "output_type": "stream",
     "text": [
      "Epoch 140, Loss 0.022\n",
      "Training Accuracy: 0.9746, Testing Accuracy: 0.9723\n",
      "\n"
     ]
    },
    {
     "name": "stdout",
     "output_type": "stream",
     "text": [
      "Epoch 150, Loss 0.0214\n",
      "Training Accuracy: 0.9755, Testing Accuracy: 0.9728\n",
      "\n"
     ]
    },
    {
     "name": "stdout",
     "output_type": "stream",
     "text": [
      "Epoch 160, Loss 0.0209\n",
      "Training Accuracy: 0.9762, Testing Accuracy: 0.9723\n",
      "\n"
     ]
    },
    {
     "name": "stdout",
     "output_type": "stream",
     "text": [
      "Epoch 170, Loss 0.0204\n",
      "Training Accuracy: 0.9773, Testing Accuracy: 0.9718\n",
      "\n"
     ]
    },
    {
     "name": "stdout",
     "output_type": "stream",
     "text": [
      "Epoch 180, Loss 0.0199\n",
      "Training Accuracy: 0.9783, Testing Accuracy: 0.9728\n",
      "\n"
     ]
    },
    {
     "name": "stdout",
     "output_type": "stream",
     "text": [
      "Epoch 190, Loss 0.0195\n",
      "Training Accuracy: 0.9787, Testing Accuracy: 0.9733\n",
      "\n"
     ]
    },
    {
     "name": "stdout",
     "output_type": "stream",
     "text": [
      "Epoch 200, Loss 0.0191\n",
      "Training Accuracy: 0.9791, Testing Accuracy: 0.9733\n",
      "\n"
     ]
    },
    {
     "name": "stdout",
     "output_type": "stream",
     "text": [
      "Epoch 210, Loss 0.0187\n",
      "Training Accuracy: 0.9796, Testing Accuracy: 0.9738\n",
      "\n"
     ]
    },
    {
     "name": "stdout",
     "output_type": "stream",
     "text": [
      "Epoch 220, Loss 0.0183\n",
      "Training Accuracy: 0.9802, Testing Accuracy: 0.9738\n",
      "\n"
     ]
    },
    {
     "name": "stdout",
     "output_type": "stream",
     "text": [
      "Epoch 230, Loss 0.0179\n",
      "Training Accuracy: 0.9804, Testing Accuracy: 0.9743\n",
      "\n"
     ]
    },
    {
     "name": "stdout",
     "output_type": "stream",
     "text": [
      "Epoch 240, Loss 0.0176\n",
      "Training Accuracy: 0.9809, Testing Accuracy: 0.9743\n",
      "\n"
     ]
    },
    {
     "data": {
      "text/plain": [
       "0.02423104329132244"
      ]
     },
     "execution_count": 22,
     "metadata": {},
     "output_type": "execute_result"
    }
   ],
   "source": [
    "nn_learner.train_loop(dl)"
   ]
  },
  {
   "cell_type": "code",
   "execution_count": 23,
   "id": "e0163366",
   "metadata": {
    "execution": {
     "iopub.execute_input": "2022-06-14T00:46:05.445148Z",
     "iopub.status.busy": "2022-06-14T00:46:05.444456Z",
     "iopub.status.idle": "2022-06-14T00:46:21.476693Z",
     "shell.execute_reply": "2022-06-14T00:46:21.477737Z"
    },
    "papermill": {
     "duration": 16.080995,
     "end_time": "2022-06-14T00:46:21.477902",
     "exception": false,
     "start_time": "2022-06-14T00:46:05.396907",
     "status": "completed"
    },
    "tags": []
   },
   "outputs": [
    {
     "name": "stdout",
     "output_type": "stream",
     "text": [
      "Epoch 0, Loss 0.2131\n",
      "Training Accuracy: 0.8071, Testing Accuracy: 0.8145\n",
      "\n"
     ]
    },
    {
     "name": "stdout",
     "output_type": "stream",
     "text": [
      "Epoch 10, Loss 0.0981\n",
      "Training Accuracy: 0.9163, Testing Accuracy: 0.9289\n",
      "\n"
     ]
    },
    {
     "name": "stdout",
     "output_type": "stream",
     "text": [
      "Epoch 20, Loss 0.0772\n",
      "Training Accuracy: 0.9293, Testing Accuracy: 0.9446\n",
      "\n"
     ]
    },
    {
     "name": "stdout",
     "output_type": "stream",
     "text": [
      "Epoch 30, Loss 0.0673\n",
      "Training Accuracy: 0.9367, Testing Accuracy: 0.9491\n",
      "\n"
     ]
    },
    {
     "name": "stdout",
     "output_type": "stream",
     "text": [
      "Epoch 40, Loss 0.0611\n",
      "Training Accuracy: 0.9419, Testing Accuracy: 0.9501\n",
      "\n"
     ]
    },
    {
     "name": "stdout",
     "output_type": "stream",
     "text": [
      "Epoch 50, Loss 0.0569\n",
      "Training Accuracy: 0.9453, Testing Accuracy: 0.9556\n",
      "\n"
     ]
    },
    {
     "name": "stdout",
     "output_type": "stream",
     "text": [
      "Epoch 60, Loss 0.0537\n",
      "Training Accuracy: 0.9469, Testing Accuracy: 0.9572\n",
      "\n"
     ]
    },
    {
     "name": "stdout",
     "output_type": "stream",
     "text": [
      "Epoch 70, Loss 0.0512\n",
      "Training Accuracy: 0.9489, Testing Accuracy: 0.9587\n",
      "\n"
     ]
    },
    {
     "name": "stdout",
     "output_type": "stream",
     "text": [
      "Epoch 80, Loss 0.0492\n",
      "Training Accuracy: 0.9507, Testing Accuracy: 0.9597\n",
      "\n"
     ]
    },
    {
     "name": "stdout",
     "output_type": "stream",
     "text": [
      "Epoch 90, Loss 0.0476\n",
      "Training Accuracy: 0.9517, Testing Accuracy: 0.9597\n",
      "\n"
     ]
    },
    {
     "name": "stdout",
     "output_type": "stream",
     "text": [
      "Epoch 100, Loss 0.0462\n",
      "Training Accuracy: 0.9531, Testing Accuracy: 0.9622\n",
      "\n"
     ]
    },
    {
     "name": "stdout",
     "output_type": "stream",
     "text": [
      "Epoch 110, Loss 0.045\n",
      "Training Accuracy: 0.9540, Testing Accuracy: 0.9632\n",
      "\n"
     ]
    },
    {
     "name": "stdout",
     "output_type": "stream",
     "text": [
      "Epoch 120, Loss 0.0439\n",
      "Training Accuracy: 0.9551, Testing Accuracy: 0.9632\n",
      "\n"
     ]
    },
    {
     "name": "stdout",
     "output_type": "stream",
     "text": [
      "Epoch 130, Loss 0.043\n",
      "Training Accuracy: 0.9559, Testing Accuracy: 0.9637\n",
      "\n"
     ]
    },
    {
     "name": "stdout",
     "output_type": "stream",
     "text": [
      "Epoch 140, Loss 0.0422\n",
      "Training Accuracy: 0.9560, Testing Accuracy: 0.9642\n",
      "\n"
     ]
    },
    {
     "name": "stdout",
     "output_type": "stream",
     "text": [
      "Epoch 150, Loss 0.0414\n",
      "Training Accuracy: 0.9565, Testing Accuracy: 0.9642\n",
      "\n"
     ]
    },
    {
     "name": "stdout",
     "output_type": "stream",
     "text": [
      "Epoch 160, Loss 0.0407\n",
      "Training Accuracy: 0.9567, Testing Accuracy: 0.9647\n",
      "\n"
     ]
    },
    {
     "name": "stdout",
     "output_type": "stream",
     "text": [
      "Epoch 170, Loss 0.0401\n",
      "Training Accuracy: 0.9569, Testing Accuracy: 0.9662\n",
      "\n"
     ]
    },
    {
     "name": "stdout",
     "output_type": "stream",
     "text": [
      "Epoch 180, Loss 0.0396\n",
      "Training Accuracy: 0.9579, Testing Accuracy: 0.9672\n",
      "\n"
     ]
    },
    {
     "name": "stdout",
     "output_type": "stream",
     "text": [
      "Epoch 190, Loss 0.0391\n",
      "Training Accuracy: 0.9588, Testing Accuracy: 0.9672\n",
      "\n"
     ]
    },
    {
     "name": "stdout",
     "output_type": "stream",
     "text": [
      "Epoch 200, Loss 0.0386\n",
      "Training Accuracy: 0.9594, Testing Accuracy: 0.9672\n",
      "\n"
     ]
    },
    {
     "name": "stdout",
     "output_type": "stream",
     "text": [
      "Epoch 210, Loss 0.0381\n",
      "Training Accuracy: 0.9596, Testing Accuracy: 0.9677\n",
      "\n"
     ]
    },
    {
     "name": "stdout",
     "output_type": "stream",
     "text": [
      "Epoch 220, Loss 0.0377\n",
      "Training Accuracy: 0.9600, Testing Accuracy: 0.9682\n",
      "\n"
     ]
    },
    {
     "name": "stdout",
     "output_type": "stream",
     "text": [
      "Epoch 230, Loss 0.0373\n",
      "Training Accuracy: 0.9604, Testing Accuracy: 0.9682\n",
      "\n"
     ]
    },
    {
     "name": "stdout",
     "output_type": "stream",
     "text": [
      "Epoch 240, Loss 0.037\n",
      "Training Accuracy: 0.9605, Testing Accuracy: 0.9688\n",
      "\n"
     ]
    },
    {
     "data": {
      "text/plain": [
       "0.010063099447289434"
      ]
     },
     "execution_count": 23,
     "metadata": {},
     "output_type": "execute_result"
    }
   ],
   "source": [
    "lr_learner.train_loop(dl)"
   ]
  },
  {
   "cell_type": "code",
   "execution_count": 24,
   "id": "ca410940",
   "metadata": {
    "execution": {
     "iopub.execute_input": "2022-06-14T00:46:21.584465Z",
     "iopub.status.busy": "2022-06-14T00:46:21.583780Z",
     "iopub.status.idle": "2022-06-14T00:46:21.861981Z",
     "shell.execute_reply": "2022-06-14T00:46:21.861048Z"
    },
    "papermill": {
     "duration": 0.337437,
     "end_time": "2022-06-14T00:46:21.862121",
     "exception": false,
     "start_time": "2022-06-14T00:46:21.524684",
     "status": "completed"
    },
    "tags": []
   },
   "outputs": [
    {
     "data": {
      "text/plain": [
       "<matplotlib.legend.Legend at 0x7f1e142ae9b0>"
      ]
     },
     "execution_count": 24,
     "metadata": {},
     "output_type": "execute_result"
    },
    {
     "data": {
      "image/png": "[encoded data removed]",
      "text/plain": [
       "<Figure size 1080x720 with 1 Axes>"
      ]
     },
     "metadata": {
      "needs_background": "light"
     },
     "output_type": "display_data"
    }
   ],
   "source": [
    "#comparing the results of NN and LR\n",
    "plt.figure(figsize=(15,10))\n",
    "\n",
    "# Neural Network plots\n",
    "plt.plot(acc_nn.accuracies, 'r-', label = \"Training Accuracies - NN\")\n",
    "plt.plot(acc_nn.test_accuracies, 'g-', label = \"Testing Accuracies - NN\")\n",
    "\n",
    "# Logistic Regression plots\n",
    "plt.plot(acc_lr.accuracies, 'k-', label = \"Training Accuracies - LR\")\n",
    "plt.plot(acc_lr.test_accuracies, 'b-', label = \"Testing Accuracies - LR\")\n",
    "plt.legend()"
   ]
  },
  {
   "cell_type": "markdown",
   "id": "80dfb35c",
   "metadata": {
    "papermill": {
     "duration": 0.048357,
     "end_time": "2022-06-14T00:46:21.958696",
     "exception": false,
     "start_time": "2022-06-14T00:46:21.910339",
     "status": "completed"
    },
    "tags": []
   },
   "source": [
    "#### Plotting the outputs of this layer of the NN.\n"
   ]
  },
  {
   "cell_type": "code",
   "execution_count": 25,
   "id": "45eb2ff5",
   "metadata": {
    "execution": {
     "iopub.execute_input": "2022-06-14T00:46:22.058572Z",
     "iopub.status.busy": "2022-06-14T00:46:22.057886Z",
     "iopub.status.idle": "2022-06-14T00:46:22.082037Z",
     "shell.execute_reply": "2022-06-14T00:46:22.082661Z"
    },
    "papermill": {
     "duration": 0.077679,
     "end_time": "2022-06-14T00:46:22.082846",
     "exception": false,
     "start_time": "2022-06-14T00:46:22.005167",
     "status": "completed"
    },
    "tags": []
   },
   "outputs": [],
   "source": [
    "new_model = Model(layers[:-2])\n",
    "testing_plot = new_model(testing_data_x)"
   ]
  },
  {
   "cell_type": "code",
   "execution_count": 26,
   "id": "4c0a5485",
   "metadata": {
    "execution": {
     "iopub.execute_input": "2022-06-14T00:46:22.188392Z",
     "iopub.status.busy": "2022-06-14T00:46:22.187730Z",
     "iopub.status.idle": "2022-06-14T00:46:22.434562Z",
     "shell.execute_reply": "2022-06-14T00:46:22.435150Z"
    },
    "papermill": {
     "duration": 0.304277,
     "end_time": "2022-06-14T00:46:22.435306",
     "exception": false,
     "start_time": "2022-06-14T00:46:22.131029",
     "status": "completed"
    },
    "tags": []
   },
   "outputs": [
    {
     "data": {
      "text/plain": [
       "Text(0.5, 1.0, 'Outputs')"
      ]
     },
     "execution_count": 26,
     "metadata": {},
     "output_type": "execute_result"
    },
    {
     "data": {
      "image/png": "[encoded data removed]",
      "text/plain": [
       "<Figure size 576x504 with 1 Axes>"
      ]
     },
     "metadata": {
      "needs_background": "light"
     },
     "output_type": "display_data"
    }
   ],
   "source": [
    "# Plotting the scatter plot of points and color coding by class\n",
    "plt.figure(figsize=(8,7))\n",
    "plt.scatter(testing_plot[:,0], testing_plot[:,1], alpha = 0.1, c = y_test.ravel());\n",
    "plt.title('Outputs')"
   ]
  },
  {
   "cell_type": "markdown",
   "id": "a74fcf8f",
   "metadata": {
    "papermill": {
     "duration": 0.050857,
     "end_time": "2022-06-14T00:46:22.535625",
     "exception": false,
     "start_time": "2022-06-14T00:46:22.484768",
     "status": "completed"
    },
    "tags": []
   },
   "source": [
    "Probability contours"
   ]
  },
  {
   "cell_type": "code",
   "execution_count": 27,
   "id": "d0afc8e3",
   "metadata": {
    "execution": {
     "iopub.execute_input": "2022-06-14T00:46:22.641114Z",
     "iopub.status.busy": "2022-06-14T00:46:22.640420Z",
     "iopub.status.idle": "2022-06-14T00:46:22.655293Z",
     "shell.execute_reply": "2022-06-14T00:46:22.654475Z"
    },
    "papermill": {
     "duration": 0.069537,
     "end_time": "2022-06-14T00:46:22.655415",
     "exception": false,
     "start_time": "2022-06-14T00:46:22.585878",
     "status": "completed"
    },
    "tags": []
   },
   "outputs": [],
   "source": [
    "model_prob = Model(layers[-2:]) "
   ]
  },
  {
   "cell_type": "code",
   "execution_count": 28,
   "id": "9b96e238",
   "metadata": {
    "execution": {
     "iopub.execute_input": "2022-06-14T00:46:22.797358Z",
     "iopub.status.busy": "2022-06-14T00:46:22.796515Z",
     "iopub.status.idle": "2022-06-14T00:46:22.814552Z",
     "shell.execute_reply": "2022-06-14T00:46:22.815091Z"
    },
    "papermill": {
     "duration": 0.107982,
     "end_time": "2022-06-14T00:46:22.815249",
     "exception": false,
     "start_time": "2022-06-14T00:46:22.707267",
     "status": "completed"
    },
    "tags": []
   },
   "outputs": [],
   "source": [
    "#creating the x and y ranges according to the above generated plot.\n",
    "x_range = np.linspace(-4, 1, 100) \n",
    "y_range = np.linspace(-6, 6, 100) \n",
    "x_grid, y_grid = np.meshgrid(x_range, y_range) # x_grid and y_grig are of size 100 X 100\n",
    "\n",
    "# converting x_grid and y_grid to continuous arrays\n",
    "x_gridflat = np.ravel(x_grid)\n",
    "y_gridflat = np.ravel(y_grid)\n",
    "\n",
    "# The last layer of the current model takes two columns as input. Hence transpose of np.vstack() is required.\n",
    "X = np.vstack((x_gridflat, y_gridflat)).T\n",
    "\n",
    "prob_contour = model_prob(X).reshape(100,100) "
   ]
  },
  {
   "cell_type": "code",
   "execution_count": 29,
   "id": "da72499a",
   "metadata": {
    "execution": {
     "iopub.execute_input": "2022-06-14T00:46:22.927332Z",
     "iopub.status.busy": "2022-06-14T00:46:22.926570Z",
     "iopub.status.idle": "2022-06-14T00:46:23.210454Z",
     "shell.execute_reply": "2022-06-14T00:46:23.210950Z"
    },
    "papermill": {
     "duration": 0.34388,
     "end_time": "2022-06-14T00:46:23.211140",
     "exception": false,
     "start_time": "2022-06-14T00:46:22.867260",
     "status": "completed"
    },
    "tags": []
   },
   "outputs": [
    {
     "data": {
      "image/png": "[encoded data removed]",
      "text/plain": [
       "<Figure size 720x648 with 1 Axes>"
      ]
     },
     "metadata": {
      "needs_background": "light"
     },
     "output_type": "display_data"
    }
   ],
   "source": [
    "plt.figure(figsize=(10,9))\n",
    "plt.scatter(testing_plot[:,0], testing_plot[:,1], alpha = 0.1, c = y_test.ravel())\n",
    "contours = plt.contour(x_grid,y_grid,prob_contour)\n",
    "plt.title('Probability Contours')\n",
    "plt.clabel(contours, inline = True );"
   ]
  },
  {
   "cell_type": "code",
   "execution_count": null,
   "id": "e81b4ac7",
   "metadata": {
    "papermill": {
     "duration": 0.05299,
     "end_time": "2022-06-14T00:46:23.319571",
     "exception": false,
     "start_time": "2022-06-14T00:46:23.266581",
     "status": "completed"
    },
    "tags": []
   },
   "outputs": [],
   "source": []
  }
 ],
 "metadata": {
  "kernelspec": {
   "display_name": "Python 3",
   "language": "python",
   "name": "python3"
  },
  "language_info": {
   "codemirror_mode": {
    "name": "ipython",
    "version": 3
   },
   "file_extension": ".py",
   "mimetype": "text/x-python",
   "name": "python",
   "nbconvert_exporter": "python",
   "pygments_lexer": "ipython3",
   "version": "3.6.15"
  },
  "papermill": {
   "default_parameters": {},
   "duration": 117.992733,
   "end_time": "2022-06-14T00:46:23.796374",
   "environment_variables": {},
   "exception": null,
   "input_path": "2020-08-11-part2.ipynb",
   "output_path": "2020-08-11-part2.ipynb",
   "parameters": {},
   "start_time": "2022-06-14T00:44:25.803641",
   "version": "2.3.3"
  }
 },
 "nbformat": 4,
 "nbformat_minor": 5
}