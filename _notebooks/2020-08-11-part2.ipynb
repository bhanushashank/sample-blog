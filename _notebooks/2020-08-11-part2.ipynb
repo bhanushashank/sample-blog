{
 "cells": [
  {
   "cell_type": "markdown",
   "id": "98380cd3",
   "metadata": {
    "papermill": {
     "duration": 0.034751,
     "end_time": "2021-08-29T10:07:02.317174",
     "exception": false,
     "start_time": "2021-08-29T10:07:02.282423",
     "status": "completed"
    },
    "tags": []
   },
   "source": [
    "# Distinguish Your Own Digits (DYOD)"
   ]
  },
  {
   "cell_type": "markdown",
   "id": "ef31240d",
   "metadata": {
    "papermill": {
     "duration": 0.029435,
     "end_time": "2021-08-29T10:07:02.376813",
     "exception": false,
     "start_time": "2021-08-29T10:07:02.347378",
     "status": "completed"
    },
    "tags": []
   },
   "source": [
    "You are going to write a classifier that distinguishes between the number 3 and number 8."
   ]
  },
  {
   "cell_type": "code",
   "execution_count": 1,
   "id": "b15c8646",
   "metadata": {
    "execution": {
     "iopub.execute_input": "2021-08-29T10:07:02.445912Z",
     "iopub.status.busy": "2021-08-29T10:07:02.445231Z",
     "iopub.status.idle": "2021-08-29T10:07:02.456661Z",
     "shell.execute_reply": "2021-08-29T10:07:02.455866Z"
    },
    "papermill": {
     "duration": 0.051218,
     "end_time": "2021-08-29T10:07:02.456827",
     "exception": false,
     "start_time": "2021-08-29T10:07:02.405609",
     "status": "completed"
    },
    "tags": []
   },
   "outputs": [],
   "source": [
    "%load_ext autoreload\n",
    "%autoreload 2"
   ]
  },
  {
   "cell_type": "code",
   "execution_count": 2,
   "id": "22ef38dc",
   "metadata": {
    "execution": {
     "iopub.execute_input": "2021-08-29T10:07:02.521444Z",
     "iopub.status.busy": "2021-08-29T10:07:02.520781Z",
     "iopub.status.idle": "2021-08-29T10:07:03.140457Z",
     "shell.execute_reply": "2021-08-29T10:07:03.139838Z"
    },
    "papermill": {
     "duration": 0.655153,
     "end_time": "2021-08-29T10:07:03.140599",
     "exception": false,
     "start_time": "2021-08-29T10:07:02.485446",
     "status": "completed"
    },
    "tags": []
   },
   "outputs": [],
   "source": [
    "%matplotlib inline\n",
    "import numpy as np\n",
    "import matplotlib.pyplot as plt\n",
    "import pandas as pd"
   ]
  },
  {
   "cell_type": "markdown",
   "id": "ba036198",
   "metadata": {
    "papermill": {
     "duration": 0.030486,
     "end_time": "2021-08-29T10:07:03.200467",
     "exception": false,
     "start_time": "2021-08-29T10:07:03.169981",
     "status": "completed"
    },
    "tags": []
   },
   "source": [
    "From the command line run `pip install mnist`. This is a library that will help you bring down the mnist dataset. If you run this from a notebook, you need to put  `!pip install mnist` in a cell by itself."
   ]
  },
  {
   "cell_type": "code",
   "execution_count": 3,
   "id": "bb6ad8a1",
   "metadata": {
    "execution": {
     "iopub.execute_input": "2021-08-29T10:07:03.269334Z",
     "iopub.status.busy": "2021-08-29T10:07:03.268717Z",
     "iopub.status.idle": "2021-08-29T10:07:05.217226Z",
     "shell.execute_reply": "2021-08-29T10:07:05.215992Z"
    },
    "papermill": {
     "duration": 1.98844,
     "end_time": "2021-08-29T10:07:05.217372",
     "exception": false,
     "start_time": "2021-08-29T10:07:03.228932",
     "status": "completed"
    },
    "tags": []
   },
   "outputs": [
    {
     "name": "stdout",
     "output_type": "stream",
     "text": [
      "Collecting mnist\r\n"
     ]
    },
    {
     "name": "stdout",
     "output_type": "stream",
     "text": [
      "  Downloading mnist-0.2.2-py2.py3-none-any.whl (3.5 kB)\r\n",
      "Requirement already satisfied: numpy in /opt/hostedtoolcache/Python/3.6.14/x64/lib/python3.6/site-packages (from mnist) (1.19.5)\r\n"
     ]
    },
    {
     "name": "stdout",
     "output_type": "stream",
     "text": [
      "Installing collected packages: mnist\r\n",
      "Successfully installed mnist-0.2.2\r\n"
     ]
    }
   ],
   "source": [
    "!pip install mnist"
   ]
  },
  {
   "cell_type": "markdown",
   "id": "69df9c9a",
   "metadata": {
    "papermill": {
     "duration": 0.032066,
     "end_time": "2021-08-29T10:07:05.279878",
     "exception": false,
     "start_time": "2021-08-29T10:07:05.247812",
     "status": "completed"
    },
    "tags": []
   },
   "source": [
    "## Preparing the Data"
   ]
  },
  {
   "cell_type": "code",
   "execution_count": 4,
   "id": "7f69d806",
   "metadata": {
    "execution": {
     "iopub.execute_input": "2021-08-29T10:07:05.361143Z",
     "iopub.status.busy": "2021-08-29T10:07:05.359663Z",
     "iopub.status.idle": "2021-08-29T10:07:05.370539Z",
     "shell.execute_reply": "2021-08-29T10:07:05.369880Z"
    },
    "papermill": {
     "duration": 0.052979,
     "end_time": "2021-08-29T10:07:05.370671",
     "exception": false,
     "start_time": "2021-08-29T10:07:05.317692",
     "status": "completed"
    },
    "tags": []
   },
   "outputs": [],
   "source": [
    "import mnist"
   ]
  },
  {
   "cell_type": "code",
   "execution_count": 5,
   "id": "a411e44f",
   "metadata": {
    "execution": {
     "iopub.execute_input": "2021-08-29T10:07:05.442129Z",
     "iopub.status.busy": "2021-08-29T10:07:05.441456Z",
     "iopub.status.idle": "2021-08-29T10:07:06.068827Z",
     "shell.execute_reply": "2021-08-29T10:07:06.068223Z"
    },
    "papermill": {
     "duration": 0.667357,
     "end_time": "2021-08-29T10:07:06.068968",
     "exception": false,
     "start_time": "2021-08-29T10:07:05.401611",
     "status": "completed"
    },
    "tags": []
   },
   "outputs": [],
   "source": [
    "train_images = mnist.train_images()\n",
    "train_labels = mnist.train_labels()"
   ]
  },
  {
   "cell_type": "code",
   "execution_count": 6,
   "id": "dceab3a5",
   "metadata": {
    "execution": {
     "iopub.execute_input": "2021-08-29T10:07:06.137504Z",
     "iopub.status.busy": "2021-08-29T10:07:06.136833Z",
     "iopub.status.idle": "2021-08-29T10:07:06.150678Z",
     "shell.execute_reply": "2021-08-29T10:07:06.151237Z"
    },
    "papermill": {
     "duration": 0.050866,
     "end_time": "2021-08-29T10:07:06.151383",
     "exception": false,
     "start_time": "2021-08-29T10:07:06.100517",
     "status": "completed"
    },
    "tags": []
   },
   "outputs": [
    {
     "data": {
      "text/plain": [
       "((60000, 28, 28), (60000,))"
      ]
     },
     "execution_count": 6,
     "metadata": {},
     "output_type": "execute_result"
    }
   ],
   "source": [
    "train_images.shape, train_labels.shape"
   ]
  },
  {
   "cell_type": "code",
   "execution_count": 7,
   "id": "f50dc2bb",
   "metadata": {
    "execution": {
     "iopub.execute_input": "2021-08-29T10:07:06.230422Z",
     "iopub.status.busy": "2021-08-29T10:07:06.229796Z",
     "iopub.status.idle": "2021-08-29T10:07:06.435234Z",
     "shell.execute_reply": "2021-08-29T10:07:06.434647Z"
    },
    "papermill": {
     "duration": 0.247346,
     "end_time": "2021-08-29T10:07:06.435392",
     "exception": false,
     "start_time": "2021-08-29T10:07:06.188046",
     "status": "completed"
    },
    "tags": []
   },
   "outputs": [],
   "source": [
    "test_images = mnist.test_images()\n",
    "test_labels = mnist.test_labels()"
   ]
  },
  {
   "cell_type": "code",
   "execution_count": 8,
   "id": "fc38cf1b",
   "metadata": {
    "execution": {
     "iopub.execute_input": "2021-08-29T10:07:06.503945Z",
     "iopub.status.busy": "2021-08-29T10:07:06.503327Z",
     "iopub.status.idle": "2021-08-29T10:07:06.516705Z",
     "shell.execute_reply": "2021-08-29T10:07:06.516133Z"
    },
    "papermill": {
     "duration": 0.049008,
     "end_time": "2021-08-29T10:07:06.516841",
     "exception": false,
     "start_time": "2021-08-29T10:07:06.467833",
     "status": "completed"
    },
    "tags": []
   },
   "outputs": [
    {
     "data": {
      "text/plain": [
       "((10000, 28, 28), (10000,))"
      ]
     },
     "execution_count": 8,
     "metadata": {},
     "output_type": "execute_result"
    }
   ],
   "source": [
    "test_images.shape, test_labels.shape"
   ]
  },
  {
   "cell_type": "code",
   "execution_count": 9,
   "id": "f9ed8fe0",
   "metadata": {
    "execution": {
     "iopub.execute_input": "2021-08-29T10:07:06.583654Z",
     "iopub.status.busy": "2021-08-29T10:07:06.582921Z",
     "iopub.status.idle": "2021-08-29T10:07:06.756045Z",
     "shell.execute_reply": "2021-08-29T10:07:06.755468Z"
    },
    "papermill": {
     "duration": 0.208947,
     "end_time": "2021-08-29T10:07:06.756168",
     "exception": false,
     "start_time": "2021-08-29T10:07:06.547221",
     "status": "completed"
    },
    "tags": []
   },
   "outputs": [
    {
     "name": "stdout",
     "output_type": "stream",
     "text": [
      "2\n"
     ]
    },
    {
     "data": {
      "text/plain": [
       "<matplotlib.image.AxesImage at 0x7f9c1d0138d0>"
      ]
     },
     "execution_count": 9,
     "metadata": {},
     "output_type": "execute_result"
    },
    {
     "data": {
      "image/png": "[encoded data removed]",
      "text/plain": [
       "<Figure size 432x288 with 1 Axes>"
      ]
     },
     "metadata": {
      "needs_background": "light"
     },
     "output_type": "display_data"
    }
   ],
   "source": [
    "image_index = 7776 # You may select anything up to 60,000\n",
    "print(train_labels[image_index]) \n",
    "plt.imshow(train_images[image_index], cmap='Greys')"
   ]
  },
  {
   "cell_type": "markdown",
   "id": "a8d2388d",
   "metadata": {
    "papermill": {
     "duration": 0.03246,
     "end_time": "2021-08-29T10:07:06.821767",
     "exception": false,
     "start_time": "2021-08-29T10:07:06.789307",
     "status": "completed"
    },
    "tags": []
   },
   "source": [
    "## Filter data to get 3 and 8 out"
   ]
  },
  {
   "cell_type": "code",
   "execution_count": 10,
   "id": "776f7fc7",
   "metadata": {
    "execution": {
     "iopub.execute_input": "2021-08-29T10:07:06.895141Z",
     "iopub.status.busy": "2021-08-29T10:07:06.894483Z",
     "iopub.status.idle": "2021-08-29T10:07:06.909249Z",
     "shell.execute_reply": "2021-08-29T10:07:06.908706Z"
    },
    "papermill": {
     "duration": 0.055875,
     "end_time": "2021-08-29T10:07:06.909372",
     "exception": false,
     "start_time": "2021-08-29T10:07:06.853497",
     "status": "completed"
    },
    "tags": []
   },
   "outputs": [],
   "source": [
    "train_filter = np.where((train_labels == 3 ) | (train_labels == 8))\n",
    "test_filter = np.where((test_labels == 3) | (test_labels == 8))\n",
    "X_train, y_train = train_images[train_filter], train_labels[train_filter]\n",
    "X_test, y_test = test_images[test_filter], test_labels[test_filter]"
   ]
  },
  {
   "cell_type": "markdown",
   "id": "948f0b7e",
   "metadata": {
    "papermill": {
     "duration": 0.032991,
     "end_time": "2021-08-29T10:07:06.975952",
     "exception": false,
     "start_time": "2021-08-29T10:07:06.942961",
     "status": "completed"
    },
    "tags": []
   },
   "source": [
    "We normalize the pizel values in the 0 to 1 range"
   ]
  },
  {
   "cell_type": "code",
   "execution_count": 11,
   "id": "ee4c2166",
   "metadata": {
    "execution": {
     "iopub.execute_input": "2021-08-29T10:07:07.045544Z",
     "iopub.status.busy": "2021-08-29T10:07:07.044889Z",
     "iopub.status.idle": "2021-08-29T10:07:07.107145Z",
     "shell.execute_reply": "2021-08-29T10:07:07.106505Z"
    },
    "papermill": {
     "duration": 0.099584,
     "end_time": "2021-08-29T10:07:07.107280",
     "exception": false,
     "start_time": "2021-08-29T10:07:07.007696",
     "status": "completed"
    },
    "tags": []
   },
   "outputs": [],
   "source": [
    "X_train = X_train/255.\n",
    "X_test = X_test/255."
   ]
  },
  {
   "cell_type": "markdown",
   "id": "ddcf4fab",
   "metadata": {
    "papermill": {
     "duration": 0.033898,
     "end_time": "2021-08-29T10:07:07.175628",
     "exception": false,
     "start_time": "2021-08-29T10:07:07.141730",
     "status": "completed"
    },
    "tags": []
   },
   "source": [
    "And setup the labels as 1 (when the digit is 3) and 0 (when the digit is 8)"
   ]
  },
  {
   "cell_type": "code",
   "execution_count": 12,
   "id": "7dc908f2",
   "metadata": {
    "execution": {
     "iopub.execute_input": "2021-08-29T10:07:07.246193Z",
     "iopub.status.busy": "2021-08-29T10:07:07.245586Z",
     "iopub.status.idle": "2021-08-29T10:07:07.258485Z",
     "shell.execute_reply": "2021-08-29T10:07:07.257899Z"
    },
    "papermill": {
     "duration": 0.051611,
     "end_time": "2021-08-29T10:07:07.258634",
     "exception": false,
     "start_time": "2021-08-29T10:07:07.207023",
     "status": "completed"
    },
    "tags": []
   },
   "outputs": [],
   "source": [
    "y_train = 1*(y_train==3)\n",
    "y_test = 1*(y_test==3)"
   ]
  },
  {
   "cell_type": "code",
   "execution_count": 13,
   "id": "01e4e969",
   "metadata": {
    "execution": {
     "iopub.execute_input": "2021-08-29T10:07:07.329367Z",
     "iopub.status.busy": "2021-08-29T10:07:07.328728Z",
     "iopub.status.idle": "2021-08-29T10:07:07.342715Z",
     "shell.execute_reply": "2021-08-29T10:07:07.343307Z"
    },
    "papermill": {
     "duration": 0.051896,
     "end_time": "2021-08-29T10:07:07.343435",
     "exception": false,
     "start_time": "2021-08-29T10:07:07.291539",
     "status": "completed"
    },
    "tags": []
   },
   "outputs": [
    {
     "data": {
      "text/plain": [
       "((11982, 28, 28), (1984, 28, 28))"
      ]
     },
     "execution_count": 13,
     "metadata": {},
     "output_type": "execute_result"
    }
   ],
   "source": [
    "X_train.shape, X_test.shape"
   ]
  },
  {
   "cell_type": "markdown",
   "id": "5ccf3f85",
   "metadata": {
    "papermill": {
     "duration": 0.030736,
     "end_time": "2021-08-29T10:07:07.406176",
     "exception": false,
     "start_time": "2021-08-29T10:07:07.375440",
     "status": "completed"
    },
    "tags": []
   },
   "source": [
    "We reshape the data to flatten the image pixels into a set of features or co-variates:"
   ]
  },
  {
   "cell_type": "code",
   "execution_count": 14,
   "id": "5286a4a3",
   "metadata": {
    "execution": {
     "iopub.execute_input": "2021-08-29T10:07:07.487815Z",
     "iopub.status.busy": "2021-08-29T10:07:07.479917Z",
     "iopub.status.idle": "2021-08-29T10:07:07.491656Z",
     "shell.execute_reply": "2021-08-29T10:07:07.490922Z"
    },
    "papermill": {
     "duration": 0.054464,
     "end_time": "2021-08-29T10:07:07.491780",
     "exception": false,
     "start_time": "2021-08-29T10:07:07.437316",
     "status": "completed"
    },
    "tags": []
   },
   "outputs": [
    {
     "data": {
      "text/plain": [
       "((11982, 784), (1984, 784))"
      ]
     },
     "execution_count": 14,
     "metadata": {},
     "output_type": "execute_result"
    }
   ],
   "source": [
    "X_train = X_train.reshape(X_train.shape[0], -1)\n",
    "X_test = X_test.reshape(X_test.shape[0], -1)\n",
    "X_train.shape, X_test.shape"
   ]
  },
  {
   "cell_type": "code",
   "execution_count": 15,
   "id": "73c5f88a",
   "metadata": {
    "execution": {
     "iopub.execute_input": "2021-08-29T10:07:07.561116Z",
     "iopub.status.busy": "2021-08-29T10:07:07.558042Z",
     "iopub.status.idle": "2021-08-29T10:07:07.580333Z",
     "shell.execute_reply": "2021-08-29T10:07:07.580827Z"
    },
    "papermill": {
     "duration": 0.057946,
     "end_time": "2021-08-29T10:07:07.580960",
     "exception": false,
     "start_time": "2021-08-29T10:07:07.523014",
     "status": "completed"
    },
    "tags": []
   },
   "outputs": [],
   "source": [
    "#Impoting functions from 'Kudzu'\n",
    "from kudzu.model import Model\n",
    "from kudzu.train import Learner\n",
    "from kudzu.optim import GD\n",
    "from kudzu.data import Data, Sampler,Dataloader\n",
    "\n",
    "from kudzu.callbacks import AccCallback\n",
    "from kudzu.callbacks import ClfCallback\n",
    "\n",
    "from kudzu.loss import MSE\n",
    "\n",
    "from kudzu.layer import Sigmoid,Relu\n",
    "from kudzu.layer import Affine"
   ]
  },
  {
   "cell_type": "markdown",
   "id": "bc01172a",
   "metadata": {
    "papermill": {
     "duration": 0.03147,
     "end_time": "2021-08-29T10:07:07.645151",
     "exception": false,
     "start_time": "2021-08-29T10:07:07.613681",
     "status": "completed"
    },
    "tags": []
   },
   "source": [
    "### Let us create a `Config` class, to store important parameters. \n",
    "This class essentially plays the role of a dictionary."
   ]
  },
  {
   "cell_type": "code",
   "execution_count": 16,
   "id": "978281aa",
   "metadata": {
    "execution": {
     "iopub.execute_input": "2021-08-29T10:07:07.715603Z",
     "iopub.status.busy": "2021-08-29T10:07:07.714906Z",
     "iopub.status.idle": "2021-08-29T10:07:07.728365Z",
     "shell.execute_reply": "2021-08-29T10:07:07.727788Z"
    },
    "papermill": {
     "duration": 0.050285,
     "end_time": "2021-08-29T10:07:07.728490",
     "exception": false,
     "start_time": "2021-08-29T10:07:07.678205",
     "status": "completed"
    },
    "tags": []
   },
   "outputs": [],
   "source": [
    "class Config:\n",
    "    pass\n",
    "config = Config()\n",
    "config.lr = 0.001\n",
    "config.num_epochs = 250\n",
    "config.bs = 50"
   ]
  },
  {
   "cell_type": "markdown",
   "id": "1385fa59",
   "metadata": {
    "papermill": {
     "duration": 0.033189,
     "end_time": "2021-08-29T10:07:07.793628",
     "exception": false,
     "start_time": "2021-08-29T10:07:07.760439",
     "status": "completed"
    },
    "tags": []
   },
   "source": [
    "### Running Models with the Training data\n",
    "Details about the network layers:\n",
    "- A first affine layer has 784 inputs and does 100 affine transforms. These are followed by a Relu\n",
    "- A second affine layer has 100 inputs from the 100 activations of the past layer, and does 100 affine transforms. These are followed by a Relu\n",
    "- A third affine layer has 100 activations and does 2 affine transformations to create an embedding for visualization. There is no non-linearity here.\n",
    "- A final \"logistic regression\" which has an affine transform from 2 inputs to 1 output, which is squeezed through a sigmoid.\n"
   ]
  },
  {
   "cell_type": "code",
   "execution_count": 17,
   "id": "2b9c66db",
   "metadata": {
    "execution": {
     "iopub.execute_input": "2021-08-29T10:07:07.873059Z",
     "iopub.status.busy": "2021-08-29T10:07:07.867375Z",
     "iopub.status.idle": "2021-08-29T10:07:07.883186Z",
     "shell.execute_reply": "2021-08-29T10:07:07.882682Z"
    },
    "papermill": {
     "duration": 0.053287,
     "end_time": "2021-08-29T10:07:07.883303",
     "exception": false,
     "start_time": "2021-08-29T10:07:07.830016",
     "status": "completed"
    },
    "tags": []
   },
   "outputs": [],
   "source": [
    "data = Data(X_train, y_train.reshape(-1,1))\n",
    "sampler = Sampler(data, config.bs, shuffle=True)\n",
    "\n",
    "dl = Dataloader(data, sampler)\n",
    "\n",
    "opt = GD(config.lr)\n",
    "loss = MSE()"
   ]
  },
  {
   "cell_type": "code",
   "execution_count": 18,
   "id": "b275e4c2",
   "metadata": {
    "execution": {
     "iopub.execute_input": "2021-08-29T10:07:07.952272Z",
     "iopub.status.busy": "2021-08-29T10:07:07.951649Z",
     "iopub.status.idle": "2021-08-29T10:07:07.964008Z",
     "shell.execute_reply": "2021-08-29T10:07:07.963453Z"
    },
    "papermill": {
     "duration": 0.048528,
     "end_time": "2021-08-29T10:07:07.964167",
     "exception": false,
     "start_time": "2021-08-29T10:07:07.915639",
     "status": "completed"
    },
    "tags": []
   },
   "outputs": [],
   "source": [
    "training_data_x = X_train\n",
    "testing_data_x = X_test\n",
    "training_data_y = y_train.reshape(-1,1)\n",
    "testing_data_y = y_test.reshape(-1,1)"
   ]
  },
  {
   "cell_type": "code",
   "execution_count": 19,
   "id": "76951160",
   "metadata": {
    "execution": {
     "iopub.execute_input": "2021-08-29T10:07:08.050490Z",
     "iopub.status.busy": "2021-08-29T10:07:08.042518Z",
     "iopub.status.idle": "2021-08-29T10:07:08.057430Z",
     "shell.execute_reply": "2021-08-29T10:07:08.058015Z"
    },
    "papermill": {
     "duration": 0.059428,
     "end_time": "2021-08-29T10:07:08.058175",
     "exception": false,
     "start_time": "2021-08-29T10:07:07.998747",
     "status": "completed"
    },
    "tags": []
   },
   "outputs": [
    {
     "name": "stdout",
     "output_type": "stream",
     "text": [
      "xavier\n",
      "xavier\n",
      "xavier\n",
      "xavier\n",
      "xavier\n"
     ]
    }
   ],
   "source": [
    "layers = [Affine(\"first\", 784, 100), Relu(\"first\"), Affine(\"second\", 100, 100), Relu(\"second\"), Affine(\"third\", 100, 2), Affine(\"last\", 2, 1), Sigmoid(\"last\")]\n",
    "model_nn = Model(layers)\n",
    "model_lr = Model([Affine(\"logits\", 784, 1), Sigmoid(\"sigmoid\")])"
   ]
  },
  {
   "cell_type": "code",
   "execution_count": 20,
   "id": "6eede77a",
   "metadata": {
    "execution": {
     "iopub.execute_input": "2021-08-29T10:07:08.131947Z",
     "iopub.status.busy": "2021-08-29T10:07:08.131347Z",
     "iopub.status.idle": "2021-08-29T10:07:08.142223Z",
     "shell.execute_reply": "2021-08-29T10:07:08.142751Z"
    },
    "papermill": {
     "duration": 0.050138,
     "end_time": "2021-08-29T10:07:08.142903",
     "exception": false,
     "start_time": "2021-08-29T10:07:08.092765",
     "status": "completed"
    },
    "tags": []
   },
   "outputs": [],
   "source": [
    "nn_learner = Learner(loss, model_nn, opt, config.num_epochs)\n",
    "acc_nn = ClfCallback(nn_learner, config.bs, training_data_x , testing_data_x, training_data_y, testing_data_y)\n",
    "nn_learner.set_callbacks([acc_nn])"
   ]
  },
  {
   "cell_type": "code",
   "execution_count": 21,
   "id": "877b6cc7",
   "metadata": {
    "execution": {
     "iopub.execute_input": "2021-08-29T10:07:08.211913Z",
     "iopub.status.busy": "2021-08-29T10:07:08.211272Z",
     "iopub.status.idle": "2021-08-29T10:07:08.225548Z",
     "shell.execute_reply": "2021-08-29T10:07:08.224998Z"
    },
    "papermill": {
     "duration": 0.050862,
     "end_time": "2021-08-29T10:07:08.225685",
     "exception": false,
     "start_time": "2021-08-29T10:07:08.174823",
     "status": "completed"
    },
    "tags": []
   },
   "outputs": [],
   "source": [
    "lr_learner = Learner(loss, model_lr, opt, config.num_epochs)\n",
    "acc_lr = ClfCallback(lr_learner, config.bs, training_data_x , testing_data_x, training_data_y, testing_data_y)\n",
    "lr_learner.set_callbacks([acc_lr])"
   ]
  },
  {
   "cell_type": "code",
   "execution_count": 22,
   "id": "d9b133c3",
   "metadata": {
    "execution": {
     "iopub.execute_input": "2021-08-29T10:07:08.300665Z",
     "iopub.status.busy": "2021-08-29T10:07:08.299936Z",
     "iopub.status.idle": "2021-08-29T10:09:14.890309Z",
     "shell.execute_reply": "2021-08-29T10:09:14.891190Z"
    },
    "papermill": {
     "duration": 126.631422,
     "end_time": "2021-08-29T10:09:14.891348",
     "exception": false,
     "start_time": "2021-08-29T10:07:08.259926",
     "status": "completed"
    },
    "tags": []
   },
   "outputs": [
    {
     "name": "stdout",
     "output_type": "stream",
     "text": [
      "Epoch 0, Loss 0.2617\n",
      "Training Accuracy: 0.6102, Testing Accuracy: 0.6275\n",
      "\n"
     ]
    },
    {
     "name": "stdout",
     "output_type": "stream",
     "text": [
      "Epoch 10, Loss 0.0707\n",
      "Training Accuracy: 0.9265, Testing Accuracy: 0.9405\n",
      "\n"
     ]
    },
    {
     "name": "stdout",
     "output_type": "stream",
     "text": [
      "Epoch 20, Loss 0.0478\n",
      "Training Accuracy: 0.9472, Testing Accuracy: 0.9546\n",
      "\n"
     ]
    },
    {
     "name": "stdout",
     "output_type": "stream",
     "text": [
      "Epoch 30, Loss 0.0394\n",
      "Training Accuracy: 0.9557, Testing Accuracy: 0.9597\n",
      "\n"
     ]
    },
    {
     "name": "stdout",
     "output_type": "stream",
     "text": [
      "Epoch 40, Loss 0.0349\n",
      "Training Accuracy: 0.9609, Testing Accuracy: 0.9662\n",
      "\n"
     ]
    },
    {
     "name": "stdout",
     "output_type": "stream",
     "text": [
      "Epoch 50, Loss 0.032\n",
      "Training Accuracy: 0.9628, Testing Accuracy: 0.9682\n",
      "\n"
     ]
    },
    {
     "name": "stdout",
     "output_type": "stream",
     "text": [
      "Epoch 60, Loss 0.0299\n",
      "Training Accuracy: 0.9645, Testing Accuracy: 0.9688\n",
      "\n"
     ]
    },
    {
     "name": "stdout",
     "output_type": "stream",
     "text": [
      "Epoch 70, Loss 0.0282\n",
      "Training Accuracy: 0.9659, Testing Accuracy: 0.9708\n",
      "\n"
     ]
    },
    {
     "name": "stdout",
     "output_type": "stream",
     "text": [
      "Epoch 80, Loss 0.0269\n",
      "Training Accuracy: 0.9670, Testing Accuracy: 0.9708\n",
      "\n"
     ]
    },
    {
     "name": "stdout",
     "output_type": "stream",
     "text": [
      "Epoch 90, Loss 0.0257\n",
      "Training Accuracy: 0.9691, Testing Accuracy: 0.9723\n",
      "\n"
     ]
    },
    {
     "name": "stdout",
     "output_type": "stream",
     "text": [
      "Epoch 100, Loss 0.0247\n",
      "Training Accuracy: 0.9704, Testing Accuracy: 0.9733\n",
      "\n"
     ]
    },
    {
     "name": "stdout",
     "output_type": "stream",
     "text": [
      "Epoch 110, Loss 0.0238\n",
      "Training Accuracy: 0.9720, Testing Accuracy: 0.9733\n",
      "\n"
     ]
    },
    {
     "name": "stdout",
     "output_type": "stream",
     "text": [
      "Epoch 120, Loss 0.023\n",
      "Training Accuracy: 0.9734, Testing Accuracy: 0.9733\n",
      "\n"
     ]
    },
    {
     "name": "stdout",
     "output_type": "stream",
     "text": [
      "Epoch 130, Loss 0.0222\n",
      "Training Accuracy: 0.9750, Testing Accuracy: 0.9753\n",
      "\n"
     ]
    },
    {
     "name": "stdout",
     "output_type": "stream",
     "text": [
      "Epoch 140, Loss 0.0215\n",
      "Training Accuracy: 0.9758, Testing Accuracy: 0.9778\n",
      "\n"
     ]
    },
    {
     "name": "stdout",
     "output_type": "stream",
     "text": [
      "Epoch 150, Loss 0.0209\n",
      "Training Accuracy: 0.9766, Testing Accuracy: 0.9773\n",
      "\n"
     ]
    },
    {
     "name": "stdout",
     "output_type": "stream",
     "text": [
      "Epoch 160, Loss 0.0203\n",
      "Training Accuracy: 0.9773, Testing Accuracy: 0.9778\n",
      "\n"
     ]
    },
    {
     "name": "stdout",
     "output_type": "stream",
     "text": [
      "Epoch 170, Loss 0.0197\n",
      "Training Accuracy: 0.9780, Testing Accuracy: 0.9778\n",
      "\n"
     ]
    },
    {
     "name": "stdout",
     "output_type": "stream",
     "text": [
      "Epoch 180, Loss 0.0192\n",
      "Training Accuracy: 0.9786, Testing Accuracy: 0.9778\n",
      "\n"
     ]
    },
    {
     "name": "stdout",
     "output_type": "stream",
     "text": [
      "Epoch 190, Loss 0.0187\n",
      "Training Accuracy: 0.9792, Testing Accuracy: 0.9778\n",
      "\n"
     ]
    },
    {
     "name": "stdout",
     "output_type": "stream",
     "text": [
      "Epoch 200, Loss 0.0182\n",
      "Training Accuracy: 0.9804, Testing Accuracy: 0.9788\n",
      "\n"
     ]
    },
    {
     "name": "stdout",
     "output_type": "stream",
     "text": [
      "Epoch 210, Loss 0.0178\n",
      "Training Accuracy: 0.9808, Testing Accuracy: 0.9788\n",
      "\n"
     ]
    },
    {
     "name": "stdout",
     "output_type": "stream",
     "text": [
      "Epoch 220, Loss 0.0174\n",
      "Training Accuracy: 0.9811, Testing Accuracy: 0.9783\n",
      "\n"
     ]
    },
    {
     "name": "stdout",
     "output_type": "stream",
     "text": [
      "Epoch 230, Loss 0.017\n",
      "Training Accuracy: 0.9817, Testing Accuracy: 0.9788\n",
      "\n"
     ]
    },
    {
     "name": "stdout",
     "output_type": "stream",
     "text": [
      "Epoch 240, Loss 0.0166\n",
      "Training Accuracy: 0.9822, Testing Accuracy: 0.9783\n",
      "\n"
     ]
    },
    {
     "data": {
      "text/plain": [
       "0.012264628688251011"
      ]
     },
     "execution_count": 22,
     "metadata": {},
     "output_type": "execute_result"
    }
   ],
   "source": [
    "nn_learner.train_loop(dl)"
   ]
  },
  {
   "cell_type": "code",
   "execution_count": 23,
   "id": "e0163366",
   "metadata": {
    "execution": {
     "iopub.execute_input": "2021-08-29T10:09:14.989850Z",
     "iopub.status.busy": "2021-08-29T10:09:14.989202Z",
     "iopub.status.idle": "2021-08-29T10:09:33.640921Z",
     "shell.execute_reply": "2021-08-29T10:09:33.641787Z"
    },
    "papermill": {
     "duration": 18.706554,
     "end_time": "2021-08-29T10:09:33.641951",
     "exception": false,
     "start_time": "2021-08-29T10:09:14.935397",
     "status": "completed"
    },
    "tags": []
   },
   "outputs": [
    {
     "name": "stdout",
     "output_type": "stream",
     "text": [
      "Epoch 0, Loss 0.2469\n",
      "Training Accuracy: 0.6238, Testing Accuracy: 0.6290\n",
      "\n"
     ]
    },
    {
     "name": "stdout",
     "output_type": "stream",
     "text": [
      "Epoch 10, Loss 0.106\n",
      "Training Accuracy: 0.9042, Testing Accuracy: 0.9113\n",
      "\n"
     ]
    },
    {
     "name": "stdout",
     "output_type": "stream",
     "text": [
      "Epoch 20, Loss 0.0801\n",
      "Training Accuracy: 0.9291, Testing Accuracy: 0.9299\n",
      "\n"
     ]
    },
    {
     "name": "stdout",
     "output_type": "stream",
     "text": [
      "Epoch 30, Loss 0.0684\n",
      "Training Accuracy: 0.9373, Testing Accuracy: 0.9451\n",
      "\n"
     ]
    },
    {
     "name": "stdout",
     "output_type": "stream",
     "text": [
      "Epoch 40, Loss 0.0616\n",
      "Training Accuracy: 0.9427, Testing Accuracy: 0.9471\n",
      "\n"
     ]
    },
    {
     "name": "stdout",
     "output_type": "stream",
     "text": [
      "Epoch 50, Loss 0.0569\n",
      "Training Accuracy: 0.9464, Testing Accuracy: 0.9526\n",
      "\n"
     ]
    },
    {
     "name": "stdout",
     "output_type": "stream",
     "text": [
      "Epoch 60, Loss 0.0536\n",
      "Training Accuracy: 0.9488, Testing Accuracy: 0.9567\n",
      "\n"
     ]
    },
    {
     "name": "stdout",
     "output_type": "stream",
     "text": [
      "Epoch 70, Loss 0.051\n",
      "Training Accuracy: 0.9498, Testing Accuracy: 0.9597\n",
      "\n"
     ]
    },
    {
     "name": "stdout",
     "output_type": "stream",
     "text": [
      "Epoch 80, Loss 0.049\n",
      "Training Accuracy: 0.9519, Testing Accuracy: 0.9617\n",
      "\n"
     ]
    },
    {
     "name": "stdout",
     "output_type": "stream",
     "text": [
      "Epoch 90, Loss 0.0473\n",
      "Training Accuracy: 0.9531, Testing Accuracy: 0.9627\n",
      "\n"
     ]
    },
    {
     "name": "stdout",
     "output_type": "stream",
     "text": [
      "Epoch 100, Loss 0.0459\n",
      "Training Accuracy: 0.9537, Testing Accuracy: 0.9627\n",
      "\n"
     ]
    },
    {
     "name": "stdout",
     "output_type": "stream",
     "text": [
      "Epoch 110, Loss 0.0447\n",
      "Training Accuracy: 0.9546, Testing Accuracy: 0.9637\n",
      "\n"
     ]
    },
    {
     "name": "stdout",
     "output_type": "stream",
     "text": [
      "Epoch 120, Loss 0.0436\n",
      "Training Accuracy: 0.9555, Testing Accuracy: 0.9637\n",
      "\n"
     ]
    },
    {
     "name": "stdout",
     "output_type": "stream",
     "text": [
      "Epoch 130, Loss 0.0427\n",
      "Training Accuracy: 0.9562, Testing Accuracy: 0.9642\n",
      "\n"
     ]
    },
    {
     "name": "stdout",
     "output_type": "stream",
     "text": [
      "Epoch 140, Loss 0.0419\n",
      "Training Accuracy: 0.9569, Testing Accuracy: 0.9642\n",
      "\n"
     ]
    },
    {
     "name": "stdout",
     "output_type": "stream",
     "text": [
      "Epoch 150, Loss 0.0411\n",
      "Training Accuracy: 0.9573, Testing Accuracy: 0.9647\n",
      "\n"
     ]
    },
    {
     "name": "stdout",
     "output_type": "stream",
     "text": [
      "Epoch 160, Loss 0.0405\n",
      "Training Accuracy: 0.9579, Testing Accuracy: 0.9652\n",
      "\n"
     ]
    },
    {
     "name": "stdout",
     "output_type": "stream",
     "text": [
      "Epoch 170, Loss 0.0399\n",
      "Training Accuracy: 0.9581, Testing Accuracy: 0.9662\n",
      "\n"
     ]
    },
    {
     "name": "stdout",
     "output_type": "stream",
     "text": [
      "Epoch 180, Loss 0.0393\n",
      "Training Accuracy: 0.9582, Testing Accuracy: 0.9667\n",
      "\n"
     ]
    },
    {
     "name": "stdout",
     "output_type": "stream",
     "text": [
      "Epoch 190, Loss 0.0388\n",
      "Training Accuracy: 0.9589, Testing Accuracy: 0.9667\n",
      "\n"
     ]
    },
    {
     "name": "stdout",
     "output_type": "stream",
     "text": [
      "Epoch 200, Loss 0.0383\n",
      "Training Accuracy: 0.9592, Testing Accuracy: 0.9667\n",
      "\n"
     ]
    },
    {
     "name": "stdout",
     "output_type": "stream",
     "text": [
      "Epoch 210, Loss 0.0379\n",
      "Training Accuracy: 0.9597, Testing Accuracy: 0.9677\n",
      "\n"
     ]
    },
    {
     "name": "stdout",
     "output_type": "stream",
     "text": [
      "Epoch 220, Loss 0.0375\n",
      "Training Accuracy: 0.9600, Testing Accuracy: 0.9682\n",
      "\n"
     ]
    },
    {
     "name": "stdout",
     "output_type": "stream",
     "text": [
      "Epoch 230, Loss 0.0371\n",
      "Training Accuracy: 0.9605, Testing Accuracy: 0.9693\n",
      "\n"
     ]
    },
    {
     "name": "stdout",
     "output_type": "stream",
     "text": [
      "Epoch 240, Loss 0.0368\n",
      "Training Accuracy: 0.9609, Testing Accuracy: 0.9688\n",
      "\n"
     ]
    },
    {
     "data": {
      "text/plain": [
       "0.05322055369947362"
      ]
     },
     "execution_count": 23,
     "metadata": {},
     "output_type": "execute_result"
    }
   ],
   "source": [
    "lr_learner.train_loop(dl)"
   ]
  },
  {
   "cell_type": "code",
   "execution_count": 24,
   "id": "ca410940",
   "metadata": {
    "execution": {
     "iopub.execute_input": "2021-08-29T10:09:33.761705Z",
     "iopub.status.busy": "2021-08-29T10:09:33.761001Z",
     "iopub.status.idle": "2021-08-29T10:09:34.081920Z",
     "shell.execute_reply": "2021-08-29T10:09:34.081345Z"
    },
    "papermill": {
     "duration": 0.384799,
     "end_time": "2021-08-29T10:09:34.082073",
     "exception": false,
     "start_time": "2021-08-29T10:09:33.697274",
     "status": "completed"
    },
    "tags": []
   },
   "outputs": [
    {
     "data": {
      "text/plain": [
       "<matplotlib.legend.Legend at 0x7f9c0f7ea978>"
      ]
     },
     "execution_count": 24,
     "metadata": {},
     "output_type": "execute_result"
    },
    {
     "data": {
      "image/png": "[encoded data removed]",
      "text/plain": [
       "<Figure size 1080x720 with 1 Axes>"
      ]
     },
     "metadata": {
      "needs_background": "light"
     },
     "output_type": "display_data"
    }
   ],
   "source": [
    "#comparing the results of NN and LR\n",
    "plt.figure(figsize=(15,10))\n",
    "\n",
    "# Neural Network plots\n",
    "plt.plot(acc_nn.accuracies, 'r-', label = \"Training Accuracies - NN\")\n",
    "plt.plot(acc_nn.test_accuracies, 'g-', label = \"Testing Accuracies - NN\")\n",
    "\n",
    "# Logistic Regression plots\n",
    "plt.plot(acc_lr.accuracies, 'k-', label = \"Training Accuracies - LR\")\n",
    "plt.plot(acc_lr.test_accuracies, 'b-', label = \"Testing Accuracies - LR\")\n",
    "plt.legend()"
   ]
  },
  {
   "cell_type": "markdown",
   "id": "80dfb35c",
   "metadata": {
    "papermill": {
     "duration": 0.055605,
     "end_time": "2021-08-29T10:09:34.195155",
     "exception": false,
     "start_time": "2021-08-29T10:09:34.139550",
     "status": "completed"
    },
    "tags": []
   },
   "source": [
    "#### Plotting the outputs of this layer of the NN.\n"
   ]
  },
  {
   "cell_type": "code",
   "execution_count": 25,
   "id": "45eb2ff5",
   "metadata": {
    "execution": {
     "iopub.execute_input": "2021-08-29T10:09:34.316030Z",
     "iopub.status.busy": "2021-08-29T10:09:34.314995Z",
     "iopub.status.idle": "2021-08-29T10:09:34.336475Z",
     "shell.execute_reply": "2021-08-29T10:09:34.337018Z"
    },
    "papermill": {
     "duration": 0.084391,
     "end_time": "2021-08-29T10:09:34.337182",
     "exception": false,
     "start_time": "2021-08-29T10:09:34.252791",
     "status": "completed"
    },
    "tags": []
   },
   "outputs": [],
   "source": [
    "new_model = Model(layers[:-2])\n",
    "testing_plot = new_model(testing_data_x)"
   ]
  },
  {
   "cell_type": "code",
   "execution_count": 26,
   "id": "4c0a5485",
   "metadata": {
    "execution": {
     "iopub.execute_input": "2021-08-29T10:09:34.452033Z",
     "iopub.status.busy": "2021-08-29T10:09:34.451386Z",
     "iopub.status.idle": "2021-08-29T10:09:34.693738Z",
     "shell.execute_reply": "2021-08-29T10:09:34.693147Z"
    },
    "papermill": {
     "duration": 0.298937,
     "end_time": "2021-08-29T10:09:34.693876",
     "exception": false,
     "start_time": "2021-08-29T10:09:34.394939",
     "status": "completed"
    },
    "tags": []
   },
   "outputs": [
    {
     "data": {
      "text/plain": [
       "Text(0.5, 1.0, 'Outputs')"
      ]
     },
     "execution_count": 26,
     "metadata": {},
     "output_type": "execute_result"
    },
    {
     "data": {
      "image/png": "[encoded data removed]",
      "text/plain": [
       "<Figure size 576x504 with 1 Axes>"
      ]
     },
     "metadata": {
      "needs_background": "light"
     },
     "output_type": "display_data"
    }
   ],
   "source": [
    "# Plotting the scatter plot of points and color coding by class\n",
    "plt.figure(figsize=(8,7))\n",
    "plt.scatter(testing_plot[:,0], testing_plot[:,1], alpha = 0.1, c = y_test.ravel());\n",
    "plt.title('Outputs')"
   ]
  },
  {
   "cell_type": "markdown",
   "id": "a74fcf8f",
   "metadata": {
    "papermill": {
     "duration": 0.053739,
     "end_time": "2021-08-29T10:09:34.801748",
     "exception": false,
     "start_time": "2021-08-29T10:09:34.748009",
     "status": "completed"
    },
    "tags": []
   },
   "source": [
    "Probability contours"
   ]
  },
  {
   "cell_type": "code",
   "execution_count": 27,
   "id": "d0afc8e3",
   "metadata": {
    "execution": {
     "iopub.execute_input": "2021-08-29T10:09:34.915091Z",
     "iopub.status.busy": "2021-08-29T10:09:34.912640Z",
     "iopub.status.idle": "2021-08-29T10:09:34.929151Z",
     "shell.execute_reply": "2021-08-29T10:09:34.928521Z"
    },
    "papermill": {
     "duration": 0.075827,
     "end_time": "2021-08-29T10:09:34.929274",
     "exception": false,
     "start_time": "2021-08-29T10:09:34.853447",
     "status": "completed"
    },
    "tags": []
   },
   "outputs": [],
   "source": [
    "model_prob = Model(layers[-2:]) "
   ]
  },
  {
   "cell_type": "code",
   "execution_count": 28,
   "id": "9b96e238",
   "metadata": {
    "execution": {
     "iopub.execute_input": "2021-08-29T10:09:35.047254Z",
     "iopub.status.busy": "2021-08-29T10:09:35.045244Z",
     "iopub.status.idle": "2021-08-29T10:09:35.061377Z",
     "shell.execute_reply": "2021-08-29T10:09:35.060643Z"
    },
    "papermill": {
     "duration": 0.077393,
     "end_time": "2021-08-29T10:09:35.061522",
     "exception": false,
     "start_time": "2021-08-29T10:09:34.984129",
     "status": "completed"
    },
    "tags": []
   },
   "outputs": [],
   "source": [
    "#creating the x and y ranges according to the above generated plot.\n",
    "x_range = np.linspace(-4, 1, 100) \n",
    "y_range = np.linspace(-6, 6, 100) \n",
    "x_grid, y_grid = np.meshgrid(x_range, y_range) # x_grid and y_grig are of size 100 X 100\n",
    "\n",
    "# converting x_grid and y_grid to continuous arrays\n",
    "x_gridflat = np.ravel(x_grid)\n",
    "y_gridflat = np.ravel(y_grid)\n",
    "\n",
    "# The last layer of the current model takes two columns as input. Hence transpose of np.vstack() is required.\n",
    "X = np.vstack((x_gridflat, y_gridflat)).T\n",
    "\n",
    "prob_contour = model_prob(X).reshape(100,100) "
   ]
  },
  {
   "cell_type": "code",
   "execution_count": 29,
   "id": "da72499a",
   "metadata": {
    "execution": {
     "iopub.execute_input": "2021-08-29T10:09:35.180936Z",
     "iopub.status.busy": "2021-08-29T10:09:35.180228Z",
     "iopub.status.idle": "2021-08-29T10:09:35.487157Z",
     "shell.execute_reply": "2021-08-29T10:09:35.486024Z"
    },
    "papermill": {
     "duration": 0.365963,
     "end_time": "2021-08-29T10:09:35.487291",
     "exception": false,
     "start_time": "2021-08-29T10:09:35.121328",
     "status": "completed"
    },
    "tags": []
   },
   "outputs": [
    {
     "data": {
      "image/png": "[encoded data removed]",
      "text/plain": [
       "<Figure size 720x648 with 1 Axes>"
      ]
     },
     "metadata": {
      "needs_background": "light"
     },
     "output_type": "display_data"
    }
   ],
   "source": [
    "plt.figure(figsize=(10,9))\n",
    "plt.scatter(testing_plot[:,0], testing_plot[:,1], alpha = 0.1, c = y_test.ravel())\n",
    "contours = plt.contour(x_grid,y_grid,prob_contour)\n",
    "plt.title('Probability Contours')\n",
    "plt.clabel(contours, inline = True );"
   ]
  },
  {
   "cell_type": "code",
   "execution_count": null,
   "id": "e81b4ac7",
   "metadata": {
    "papermill": {
     "duration": 0.054534,
     "end_time": "2021-08-29T10:09:35.618727",
     "exception": false,
     "start_time": "2021-08-29T10:09:35.564193",
     "status": "completed"
    },
    "tags": []
   },
   "outputs": [],
   "source": []
  }
 ],
 "metadata": {
  "kernelspec": {
   "display_name": "Python 3",
   "language": "python",
   "name": "python3"
  },
  "language_info": {
   "codemirror_mode": {
    "name": "ipython",
    "version": 3
   },
   "file_extension": ".py",
   "mimetype": "text/x-python",
   "name": "python",
   "nbconvert_exporter": "python",
   "pygments_lexer": "ipython3",
   "version": "3.6.14"
  },
  "papermill": {
   "default_parameters": {},
   "duration": 154.878316,
   "end_time": "2021-08-29T10:09:36.082796",
   "environment_variables": {},
   "exception": null,
   "input_path": "2020-08-11-part2.ipynb",
   "output_path": "2020-08-11-part2.ipynb",
   "parameters": {},
   "start_time": "2021-08-29T10:07:01.204480",
   "version": "2.3.3"
  }
 },
 "nbformat": 4,
 "nbformat_minor": 5
}