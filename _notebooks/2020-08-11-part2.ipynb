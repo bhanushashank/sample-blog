{
 "cells": [
  {
   "cell_type": "markdown",
   "id": "98380cd3",
   "metadata": {
    "papermill": {
     "duration": 0.029561,
     "end_time": "2022-06-11T10:09:29.415567",
     "exception": false,
     "start_time": "2022-06-11T10:09:29.386006",
     "status": "completed"
    },
    "tags": []
   },
   "source": [
    "# Distinguish Your Own Digits (DYOD)"
   ]
  },
  {
   "cell_type": "markdown",
   "id": "ef31240d",
   "metadata": {
    "papermill": {
     "duration": 0.026839,
     "end_time": "2022-06-11T10:09:29.467280",
     "exception": false,
     "start_time": "2022-06-11T10:09:29.440441",
     "status": "completed"
    },
    "tags": []
   },
   "source": [
    "You are going to write a classifier that distinguishes between the number 3 and number 8."
   ]
  },
  {
   "cell_type": "code",
   "execution_count": 1,
   "id": "b15c8646",
   "metadata": {
    "execution": {
     "iopub.execute_input": "2022-06-11T10:09:29.525907Z",
     "iopub.status.busy": "2022-06-11T10:09:29.525329Z",
     "iopub.status.idle": "2022-06-11T10:09:29.536197Z",
     "shell.execute_reply": "2022-06-11T10:09:29.535713Z"
    },
    "papermill": {
     "duration": 0.044944,
     "end_time": "2022-06-11T10:09:29.536317",
     "exception": false,
     "start_time": "2022-06-11T10:09:29.491373",
     "status": "completed"
    },
    "tags": []
   },
   "outputs": [],
   "source": [
    "%load_ext autoreload\n",
    "%autoreload 2"
   ]
  },
  {
   "cell_type": "code",
   "execution_count": 2,
   "id": "22ef38dc",
   "metadata": {
    "execution": {
     "iopub.execute_input": "2022-06-11T10:09:29.588853Z",
     "iopub.status.busy": "2022-06-11T10:09:29.588290Z",
     "iopub.status.idle": "2022-06-11T10:09:30.102000Z",
     "shell.execute_reply": "2022-06-11T10:09:30.101510Z"
    },
    "papermill": {
     "duration": 0.541394,
     "end_time": "2022-06-11T10:09:30.102153",
     "exception": false,
     "start_time": "2022-06-11T10:09:29.560759",
     "status": "completed"
    },
    "tags": []
   },
   "outputs": [],
   "source": [
    "%matplotlib inline\n",
    "import numpy as np\n",
    "import matplotlib.pyplot as plt\n",
    "import pandas as pd"
   ]
  },
  {
   "cell_type": "markdown",
   "id": "ba036198",
   "metadata": {
    "papermill": {
     "duration": 0.024293,
     "end_time": "2022-06-11T10:09:30.150684",
     "exception": false,
     "start_time": "2022-06-11T10:09:30.126391",
     "status": "completed"
    },
    "tags": []
   },
   "source": [
    "From the command line run `pip install mnist`. This is a library that will help you bring down the mnist dataset. If you run this from a notebook, you need to put  `!pip install mnist` in a cell by itself."
   ]
  },
  {
   "cell_type": "code",
   "execution_count": 3,
   "id": "bb6ad8a1",
   "metadata": {
    "execution": {
     "iopub.execute_input": "2022-06-11T10:09:30.204995Z",
     "iopub.status.busy": "2022-06-11T10:09:30.204407Z",
     "iopub.status.idle": "2022-06-11T10:09:32.726362Z",
     "shell.execute_reply": "2022-06-11T10:09:32.725581Z"
    },
    "papermill": {
     "duration": 2.551371,
     "end_time": "2022-06-11T10:09:32.726477",
     "exception": false,
     "start_time": "2022-06-11T10:09:30.175106",
     "status": "completed"
    },
    "tags": []
   },
   "outputs": [
    {
     "name": "stdout",
     "output_type": "stream",
     "text": [
      "Collecting mnist\r\n"
     ]
    },
    {
     "name": "stdout",
     "output_type": "stream",
     "text": [
      "  Downloading mnist-0.2.2-py2.py3-none-any.whl (3.5 kB)\r\n",
      "Requirement already satisfied: numpy in /opt/hostedtoolcache/Python/3.6.15/x64/lib/python3.6/site-packages (from mnist) (1.19.5)\r\n"
     ]
    },
    {
     "name": "stdout",
     "output_type": "stream",
     "text": [
      "Installing collected packages: mnist\r\n"
     ]
    },
    {
     "name": "stdout",
     "output_type": "stream",
     "text": [
      "Successfully installed mnist-0.2.2\r\n"
     ]
    }
   ],
   "source": [
    "!pip install mnist"
   ]
  },
  {
   "cell_type": "markdown",
   "id": "69df9c9a",
   "metadata": {
    "papermill": {
     "duration": 0.025187,
     "end_time": "2022-06-11T10:09:32.777652",
     "exception": false,
     "start_time": "2022-06-11T10:09:32.752465",
     "status": "completed"
    },
    "tags": []
   },
   "source": [
    "## Preparing the Data"
   ]
  },
  {
   "cell_type": "code",
   "execution_count": 4,
   "id": "7f69d806",
   "metadata": {
    "execution": {
     "iopub.execute_input": "2022-06-11T10:09:32.831955Z",
     "iopub.status.busy": "2022-06-11T10:09:32.831393Z",
     "iopub.status.idle": "2022-06-11T10:09:32.845538Z",
     "shell.execute_reply": "2022-06-11T10:09:32.844986Z"
    },
    "papermill": {
     "duration": 0.042743,
     "end_time": "2022-06-11T10:09:32.845639",
     "exception": false,
     "start_time": "2022-06-11T10:09:32.802896",
     "status": "completed"
    },
    "tags": []
   },
   "outputs": [],
   "source": [
    "import mnist"
   ]
  },
  {
   "cell_type": "code",
   "execution_count": 5,
   "id": "a411e44f",
   "metadata": {
    "execution": {
     "iopub.execute_input": "2022-06-11T10:09:32.902760Z",
     "iopub.status.busy": "2022-06-11T10:09:32.899119Z",
     "iopub.status.idle": "2022-06-11T10:09:33.514557Z",
     "shell.execute_reply": "2022-06-11T10:09:33.514064Z"
    },
    "papermill": {
     "duration": 0.643652,
     "end_time": "2022-06-11T10:09:33.514671",
     "exception": false,
     "start_time": "2022-06-11T10:09:32.871019",
     "status": "completed"
    },
    "tags": []
   },
   "outputs": [],
   "source": [
    "train_images = mnist.train_images()\n",
    "train_labels = mnist.train_labels()"
   ]
  },
  {
   "cell_type": "code",
   "execution_count": 6,
   "id": "dceab3a5",
   "metadata": {
    "execution": {
     "iopub.execute_input": "2022-06-11T10:09:33.569862Z",
     "iopub.status.busy": "2022-06-11T10:09:33.569304Z",
     "iopub.status.idle": "2022-06-11T10:09:33.583248Z",
     "shell.execute_reply": "2022-06-11T10:09:33.583680Z"
    },
    "papermill": {
     "duration": 0.043479,
     "end_time": "2022-06-11T10:09:33.583802",
     "exception": false,
     "start_time": "2022-06-11T10:09:33.540323",
     "status": "completed"
    },
    "tags": []
   },
   "outputs": [
    {
     "data": {
      "text/plain": [
       "((60000, 28, 28), (60000,))"
      ]
     },
     "execution_count": 6,
     "metadata": {},
     "output_type": "execute_result"
    }
   ],
   "source": [
    "train_images.shape, train_labels.shape"
   ]
  },
  {
   "cell_type": "code",
   "execution_count": 7,
   "id": "f50dc2bb",
   "metadata": {
    "execution": {
     "iopub.execute_input": "2022-06-11T10:09:33.638887Z",
     "iopub.status.busy": "2022-06-11T10:09:33.638306Z",
     "iopub.status.idle": "2022-06-11T10:09:33.827329Z",
     "shell.execute_reply": "2022-06-11T10:09:33.826798Z"
    },
    "papermill": {
     "duration": 0.217938,
     "end_time": "2022-06-11T10:09:33.827440",
     "exception": false,
     "start_time": "2022-06-11T10:09:33.609502",
     "status": "completed"
    },
    "tags": []
   },
   "outputs": [],
   "source": [
    "test_images = mnist.test_images()\n",
    "test_labels = mnist.test_labels()"
   ]
  },
  {
   "cell_type": "code",
   "execution_count": 8,
   "id": "fc38cf1b",
   "metadata": {
    "execution": {
     "iopub.execute_input": "2022-06-11T10:09:33.882942Z",
     "iopub.status.busy": "2022-06-11T10:09:33.882366Z",
     "iopub.status.idle": "2022-06-11T10:09:33.894916Z",
     "shell.execute_reply": "2022-06-11T10:09:33.895349Z"
    },
    "papermill": {
     "duration": 0.042041,
     "end_time": "2022-06-11T10:09:33.895471",
     "exception": false,
     "start_time": "2022-06-11T10:09:33.853430",
     "status": "completed"
    },
    "tags": []
   },
   "outputs": [
    {
     "data": {
      "text/plain": [
       "((10000, 28, 28), (10000,))"
      ]
     },
     "execution_count": 8,
     "metadata": {},
     "output_type": "execute_result"
    }
   ],
   "source": [
    "test_images.shape, test_labels.shape"
   ]
  },
  {
   "cell_type": "code",
   "execution_count": 9,
   "id": "f9ed8fe0",
   "metadata": {
    "execution": {
     "iopub.execute_input": "2022-06-11T10:09:33.951373Z",
     "iopub.status.busy": "2022-06-11T10:09:33.950818Z",
     "iopub.status.idle": "2022-06-11T10:09:34.083815Z",
     "shell.execute_reply": "2022-06-11T10:09:34.084249Z"
    },
    "papermill": {
     "duration": 0.162932,
     "end_time": "2022-06-11T10:09:34.084374",
     "exception": false,
     "start_time": "2022-06-11T10:09:33.921442",
     "status": "completed"
    },
    "tags": []
   },
   "outputs": [
    {
     "name": "stdout",
     "output_type": "stream",
     "text": [
      "2\n"
     ]
    },
    {
     "data": {
      "text/plain": [
       "<matplotlib.image.AxesImage at 0x7f8d30c283c8>"
      ]
     },
     "execution_count": 9,
     "metadata": {},
     "output_type": "execute_result"
    },
    {
     "data": {
      "image/png": "[encoded data removed]",
      "text/plain": [
       "<Figure size 432x288 with 1 Axes>"
      ]
     },
     "metadata": {
      "needs_background": "light"
     },
     "output_type": "display_data"
    }
   ],
   "source": [
    "image_index = 7776 # You may select anything up to 60,000\n",
    "print(train_labels[image_index]) \n",
    "plt.imshow(train_images[image_index], cmap='Greys')"
   ]
  },
  {
   "cell_type": "markdown",
   "id": "a8d2388d",
   "metadata": {
    "papermill": {
     "duration": 0.026888,
     "end_time": "2022-06-11T10:09:34.138306",
     "exception": false,
     "start_time": "2022-06-11T10:09:34.111418",
     "status": "completed"
    },
    "tags": []
   },
   "source": [
    "## Filter data to get 3 and 8 out"
   ]
  },
  {
   "cell_type": "code",
   "execution_count": 10,
   "id": "776f7fc7",
   "metadata": {
    "execution": {
     "iopub.execute_input": "2022-06-11T10:09:34.196491Z",
     "iopub.status.busy": "2022-06-11T10:09:34.195911Z",
     "iopub.status.idle": "2022-06-11T10:09:34.213183Z",
     "shell.execute_reply": "2022-06-11T10:09:34.213604Z"
    },
    "papermill": {
     "duration": 0.04852,
     "end_time": "2022-06-11T10:09:34.213736",
     "exception": false,
     "start_time": "2022-06-11T10:09:34.165216",
     "status": "completed"
    },
    "tags": []
   },
   "outputs": [],
   "source": [
    "train_filter = np.where((train_labels == 3 ) | (train_labels == 8))\n",
    "test_filter = np.where((test_labels == 3) | (test_labels == 8))\n",
    "X_train, y_train = train_images[train_filter], train_labels[train_filter]\n",
    "X_test, y_test = test_images[test_filter], test_labels[test_filter]"
   ]
  },
  {
   "cell_type": "markdown",
   "id": "948f0b7e",
   "metadata": {
    "papermill": {
     "duration": 0.026927,
     "end_time": "2022-06-11T10:09:34.267975",
     "exception": false,
     "start_time": "2022-06-11T10:09:34.241048",
     "status": "completed"
    },
    "tags": []
   },
   "source": [
    "We normalize the pizel values in the 0 to 1 range"
   ]
  },
  {
   "cell_type": "code",
   "execution_count": 11,
   "id": "ee4c2166",
   "metadata": {
    "execution": {
     "iopub.execute_input": "2022-06-11T10:09:34.325309Z",
     "iopub.status.busy": "2022-06-11T10:09:34.324738Z",
     "iopub.status.idle": "2022-06-11T10:09:34.364862Z",
     "shell.execute_reply": "2022-06-11T10:09:34.364391Z"
    },
    "papermill": {
     "duration": 0.07018,
     "end_time": "2022-06-11T10:09:34.364972",
     "exception": false,
     "start_time": "2022-06-11T10:09:34.294792",
     "status": "completed"
    },
    "tags": []
   },
   "outputs": [],
   "source": [
    "X_train = X_train/255.\n",
    "X_test = X_test/255."
   ]
  },
  {
   "cell_type": "markdown",
   "id": "ddcf4fab",
   "metadata": {
    "papermill": {
     "duration": 0.027084,
     "end_time": "2022-06-11T10:09:34.419114",
     "exception": false,
     "start_time": "2022-06-11T10:09:34.392030",
     "status": "completed"
    },
    "tags": []
   },
   "source": [
    "And setup the labels as 1 (when the digit is 3) and 0 (when the digit is 8)"
   ]
  },
  {
   "cell_type": "code",
   "execution_count": 12,
   "id": "7dc908f2",
   "metadata": {
    "execution": {
     "iopub.execute_input": "2022-06-11T10:09:34.476066Z",
     "iopub.status.busy": "2022-06-11T10:09:34.475451Z",
     "iopub.status.idle": "2022-06-11T10:09:34.488176Z",
     "shell.execute_reply": "2022-06-11T10:09:34.487721Z"
    },
    "papermill": {
     "duration": 0.042213,
     "end_time": "2022-06-11T10:09:34.488281",
     "exception": false,
     "start_time": "2022-06-11T10:09:34.446068",
     "status": "completed"
    },
    "tags": []
   },
   "outputs": [],
   "source": [
    "y_train = 1*(y_train==3)\n",
    "y_test = 1*(y_test==3)"
   ]
  },
  {
   "cell_type": "code",
   "execution_count": 13,
   "id": "01e4e969",
   "metadata": {
    "execution": {
     "iopub.execute_input": "2022-06-11T10:09:34.546080Z",
     "iopub.status.busy": "2022-06-11T10:09:34.545492Z",
     "iopub.status.idle": "2022-06-11T10:09:34.558244Z",
     "shell.execute_reply": "2022-06-11T10:09:34.558684Z"
    },
    "papermill": {
     "duration": 0.043451,
     "end_time": "2022-06-11T10:09:34.558808",
     "exception": false,
     "start_time": "2022-06-11T10:09:34.515357",
     "status": "completed"
    },
    "tags": []
   },
   "outputs": [
    {
     "data": {
      "text/plain": [
       "((11982, 28, 28), (1984, 28, 28))"
      ]
     },
     "execution_count": 13,
     "metadata": {},
     "output_type": "execute_result"
    }
   ],
   "source": [
    "X_train.shape, X_test.shape"
   ]
  },
  {
   "cell_type": "markdown",
   "id": "5ccf3f85",
   "metadata": {
    "papermill": {
     "duration": 0.027018,
     "end_time": "2022-06-11T10:09:34.612997",
     "exception": false,
     "start_time": "2022-06-11T10:09:34.585979",
     "status": "completed"
    },
    "tags": []
   },
   "source": [
    "We reshape the data to flatten the image pixels into a set of features or co-variates:"
   ]
  },
  {
   "cell_type": "code",
   "execution_count": 14,
   "id": "5286a4a3",
   "metadata": {
    "execution": {
     "iopub.execute_input": "2022-06-11T10:09:34.671030Z",
     "iopub.status.busy": "2022-06-11T10:09:34.670472Z",
     "iopub.status.idle": "2022-06-11T10:09:34.683979Z",
     "shell.execute_reply": "2022-06-11T10:09:34.683432Z"
    },
    "papermill": {
     "duration": 0.043835,
     "end_time": "2022-06-11T10:09:34.684081",
     "exception": false,
     "start_time": "2022-06-11T10:09:34.640246",
     "status": "completed"
    },
    "tags": []
   },
   "outputs": [
    {
     "data": {
      "text/plain": [
       "((11982, 784), (1984, 784))"
      ]
     },
     "execution_count": 14,
     "metadata": {},
     "output_type": "execute_result"
    }
   ],
   "source": [
    "X_train = X_train.reshape(X_train.shape[0], -1)\n",
    "X_test = X_test.reshape(X_test.shape[0], -1)\n",
    "X_train.shape, X_test.shape"
   ]
  },
  {
   "cell_type": "code",
   "execution_count": 15,
   "id": "73c5f88a",
   "metadata": {
    "execution": {
     "iopub.execute_input": "2022-06-11T10:09:34.743841Z",
     "iopub.status.busy": "2022-06-11T10:09:34.743278Z",
     "iopub.status.idle": "2022-06-11T10:09:34.761507Z",
     "shell.execute_reply": "2022-06-11T10:09:34.761070Z"
    },
    "papermill": {
     "duration": 0.049992,
     "end_time": "2022-06-11T10:09:34.761614",
     "exception": false,
     "start_time": "2022-06-11T10:09:34.711622",
     "status": "completed"
    },
    "tags": []
   },
   "outputs": [],
   "source": [
    "#Impoting functions from 'Kudzu'\n",
    "from kudzu.model import Model\n",
    "from kudzu.train import Learner\n",
    "from kudzu.optim import GD\n",
    "from kudzu.data import Data, Sampler,Dataloader\n",
    "\n",
    "from kudzu.callbacks import AccCallback\n",
    "from kudzu.callbacks import ClfCallback\n",
    "\n",
    "from kudzu.loss import MSE\n",
    "\n",
    "from kudzu.layer import Sigmoid,Relu\n",
    "from kudzu.layer import Affine"
   ]
  },
  {
   "cell_type": "markdown",
   "id": "bc01172a",
   "metadata": {
    "papermill": {
     "duration": 0.027436,
     "end_time": "2022-06-11T10:09:34.816795",
     "exception": false,
     "start_time": "2022-06-11T10:09:34.789359",
     "status": "completed"
    },
    "tags": []
   },
   "source": [
    "### Let us create a `Config` class, to store important parameters. \n",
    "This class essentially plays the role of a dictionary."
   ]
  },
  {
   "cell_type": "code",
   "execution_count": 16,
   "id": "978281aa",
   "metadata": {
    "execution": {
     "iopub.execute_input": "2022-06-11T10:09:34.875484Z",
     "iopub.status.busy": "2022-06-11T10:09:34.874917Z",
     "iopub.status.idle": "2022-06-11T10:09:34.887147Z",
     "shell.execute_reply": "2022-06-11T10:09:34.886707Z"
    },
    "papermill": {
     "duration": 0.042943,
     "end_time": "2022-06-11T10:09:34.887249",
     "exception": false,
     "start_time": "2022-06-11T10:09:34.844306",
     "status": "completed"
    },
    "tags": []
   },
   "outputs": [],
   "source": [
    "class Config:\n",
    "    pass\n",
    "config = Config()\n",
    "config.lr = 0.001\n",
    "config.num_epochs = 250\n",
    "config.bs = 50"
   ]
  },
  {
   "cell_type": "markdown",
   "id": "1385fa59",
   "metadata": {
    "papermill": {
     "duration": 0.027467,
     "end_time": "2022-06-11T10:09:34.942321",
     "exception": false,
     "start_time": "2022-06-11T10:09:34.914854",
     "status": "completed"
    },
    "tags": []
   },
   "source": [
    "### Running Models with the Training data\n",
    "Details about the network layers:\n",
    "- A first affine layer has 784 inputs and does 100 affine transforms. These are followed by a Relu\n",
    "- A second affine layer has 100 inputs from the 100 activations of the past layer, and does 100 affine transforms. These are followed by a Relu\n",
    "- A third affine layer has 100 activations and does 2 affine transformations to create an embedding for visualization. There is no non-linearity here.\n",
    "- A final \"logistic regression\" which has an affine transform from 2 inputs to 1 output, which is squeezed through a sigmoid.\n"
   ]
  },
  {
   "cell_type": "code",
   "execution_count": 17,
   "id": "2b9c66db",
   "metadata": {
    "execution": {
     "iopub.execute_input": "2022-06-11T10:09:35.001198Z",
     "iopub.status.busy": "2022-06-11T10:09:35.000629Z",
     "iopub.status.idle": "2022-06-11T10:09:35.013167Z",
     "shell.execute_reply": "2022-06-11T10:09:35.012713Z"
    },
    "papermill": {
     "duration": 0.043554,
     "end_time": "2022-06-11T10:09:35.013271",
     "exception": false,
     "start_time": "2022-06-11T10:09:34.969717",
     "status": "completed"
    },
    "tags": []
   },
   "outputs": [],
   "source": [
    "data = Data(X_train, y_train.reshape(-1,1))\n",
    "sampler = Sampler(data, config.bs, shuffle=True)\n",
    "\n",
    "dl = Dataloader(data, sampler)\n",
    "\n",
    "opt = GD(config.lr)\n",
    "loss = MSE()"
   ]
  },
  {
   "cell_type": "code",
   "execution_count": 18,
   "id": "b275e4c2",
   "metadata": {
    "execution": {
     "iopub.execute_input": "2022-06-11T10:09:35.072649Z",
     "iopub.status.busy": "2022-06-11T10:09:35.072078Z",
     "iopub.status.idle": "2022-06-11T10:09:35.083873Z",
     "shell.execute_reply": "2022-06-11T10:09:35.083411Z"
    },
    "papermill": {
     "duration": 0.043117,
     "end_time": "2022-06-11T10:09:35.083979",
     "exception": false,
     "start_time": "2022-06-11T10:09:35.040862",
     "status": "completed"
    },
    "tags": []
   },
   "outputs": [],
   "source": [
    "training_data_x = X_train\n",
    "testing_data_x = X_test\n",
    "training_data_y = y_train.reshape(-1,1)\n",
    "testing_data_y = y_test.reshape(-1,1)"
   ]
  },
  {
   "cell_type": "code",
   "execution_count": 19,
   "id": "76951160",
   "metadata": {
    "execution": {
     "iopub.execute_input": "2022-06-11T10:09:35.143371Z",
     "iopub.status.busy": "2022-06-11T10:09:35.142791Z",
     "iopub.status.idle": "2022-06-11T10:09:35.158689Z",
     "shell.execute_reply": "2022-06-11T10:09:35.159132Z"
    },
    "papermill": {
     "duration": 0.047738,
     "end_time": "2022-06-11T10:09:35.159258",
     "exception": false,
     "start_time": "2022-06-11T10:09:35.111520",
     "status": "completed"
    },
    "tags": []
   },
   "outputs": [
    {
     "name": "stdout",
     "output_type": "stream",
     "text": [
      "xavier\n",
      "xavier\n",
      "xavier\n",
      "xavier\n",
      "xavier\n"
     ]
    }
   ],
   "source": [
    "layers = [Affine(\"first\", 784, 100), Relu(\"first\"), Affine(\"second\", 100, 100), Relu(\"second\"), Affine(\"third\", 100, 2), Affine(\"last\", 2, 1), Sigmoid(\"last\")]\n",
    "model_nn = Model(layers)\n",
    "model_lr = Model([Affine(\"logits\", 784, 1), Sigmoid(\"sigmoid\")])"
   ]
  },
  {
   "cell_type": "code",
   "execution_count": 20,
   "id": "6eede77a",
   "metadata": {
    "execution": {
     "iopub.execute_input": "2022-06-11T10:09:35.221547Z",
     "iopub.status.busy": "2022-06-11T10:09:35.220237Z",
     "iopub.status.idle": "2022-06-11T10:09:35.231816Z",
     "shell.execute_reply": "2022-06-11T10:09:35.231352Z"
    },
    "papermill": {
     "duration": 0.044622,
     "end_time": "2022-06-11T10:09:35.231921",
     "exception": false,
     "start_time": "2022-06-11T10:09:35.187299",
     "status": "completed"
    },
    "tags": []
   },
   "outputs": [],
   "source": [
    "nn_learner = Learner(loss, model_nn, opt, config.num_epochs)\n",
    "acc_nn = ClfCallback(nn_learner, config.bs, training_data_x , testing_data_x, training_data_y, testing_data_y)\n",
    "nn_learner.set_callbacks([acc_nn])"
   ]
  },
  {
   "cell_type": "code",
   "execution_count": 21,
   "id": "877b6cc7",
   "metadata": {
    "execution": {
     "iopub.execute_input": "2022-06-11T10:09:35.291945Z",
     "iopub.status.busy": "2022-06-11T10:09:35.291380Z",
     "iopub.status.idle": "2022-06-11T10:09:35.302612Z",
     "shell.execute_reply": "2022-06-11T10:09:35.303021Z"
    },
    "papermill": {
     "duration": 0.043233,
     "end_time": "2022-06-11T10:09:35.303147",
     "exception": false,
     "start_time": "2022-06-11T10:09:35.259914",
     "status": "completed"
    },
    "tags": []
   },
   "outputs": [],
   "source": [
    "lr_learner = Learner(loss, model_lr, opt, config.num_epochs)\n",
    "acc_lr = ClfCallback(lr_learner, config.bs, training_data_x , testing_data_x, training_data_y, testing_data_y)\n",
    "lr_learner.set_callbacks([acc_lr])"
   ]
  },
  {
   "cell_type": "code",
   "execution_count": 22,
   "id": "d9b133c3",
   "metadata": {
    "execution": {
     "iopub.execute_input": "2022-06-11T10:09:35.366544Z",
     "iopub.status.busy": "2022-06-11T10:09:35.363185Z",
     "iopub.status.idle": "2022-06-11T10:12:32.187509Z",
     "shell.execute_reply": "2022-06-11T10:12:32.187966Z"
    },
    "papermill": {
     "duration": 176.857134,
     "end_time": "2022-06-11T10:12:32.188096",
     "exception": false,
     "start_time": "2022-06-11T10:09:35.330962",
     "status": "completed"
    },
    "tags": []
   },
   "outputs": [
    {
     "name": "stdout",
     "output_type": "stream",
     "text": [
      "Epoch 0, Loss 0.249\n",
      "Training Accuracy: 0.6718, Testing Accuracy: 0.6915\n",
      "\n"
     ]
    },
    {
     "name": "stdout",
     "output_type": "stream",
     "text": [
      "Epoch 10, Loss 0.0866\n",
      "Training Accuracy: 0.9175, Testing Accuracy: 0.9259\n",
      "\n"
     ]
    },
    {
     "name": "stdout",
     "output_type": "stream",
     "text": [
      "Epoch 20, Loss 0.0545\n",
      "Training Accuracy: 0.9433, Testing Accuracy: 0.9506\n",
      "\n"
     ]
    },
    {
     "name": "stdout",
     "output_type": "stream",
     "text": [
      "Epoch 30, Loss 0.0431\n",
      "Training Accuracy: 0.9533, Testing Accuracy: 0.9607\n",
      "\n"
     ]
    },
    {
     "name": "stdout",
     "output_type": "stream",
     "text": [
      "Epoch 40, Loss 0.0374\n",
      "Training Accuracy: 0.9574, Testing Accuracy: 0.9647\n",
      "\n"
     ]
    },
    {
     "name": "stdout",
     "output_type": "stream",
     "text": [
      "Epoch 50, Loss 0.034\n",
      "Training Accuracy: 0.9604, Testing Accuracy: 0.9713\n",
      "\n"
     ]
    },
    {
     "name": "stdout",
     "output_type": "stream",
     "text": [
      "Epoch 60, Loss 0.0315\n",
      "Training Accuracy: 0.9636, Testing Accuracy: 0.9713\n",
      "\n"
     ]
    },
    {
     "name": "stdout",
     "output_type": "stream",
     "text": [
      "Epoch 70, Loss 0.0297\n",
      "Training Accuracy: 0.9666, Testing Accuracy: 0.9728\n",
      "\n"
     ]
    },
    {
     "name": "stdout",
     "output_type": "stream",
     "text": [
      "Epoch 80, Loss 0.0282\n",
      "Training Accuracy: 0.9683, Testing Accuracy: 0.9728\n",
      "\n"
     ]
    },
    {
     "name": "stdout",
     "output_type": "stream",
     "text": [
      "Epoch 90, Loss 0.027\n",
      "Training Accuracy: 0.9695, Testing Accuracy: 0.9723\n",
      "\n"
     ]
    },
    {
     "name": "stdout",
     "output_type": "stream",
     "text": [
      "Epoch 100, Loss 0.0259\n",
      "Training Accuracy: 0.9705, Testing Accuracy: 0.9718\n",
      "\n"
     ]
    },
    {
     "name": "stdout",
     "output_type": "stream",
     "text": [
      "Epoch 110, Loss 0.025\n",
      "Training Accuracy: 0.9715, Testing Accuracy: 0.9718\n",
      "\n"
     ]
    },
    {
     "name": "stdout",
     "output_type": "stream",
     "text": [
      "Epoch 120, Loss 0.0241\n",
      "Training Accuracy: 0.9723, Testing Accuracy: 0.9728\n",
      "\n"
     ]
    },
    {
     "name": "stdout",
     "output_type": "stream",
     "text": [
      "Epoch 130, Loss 0.0234\n",
      "Training Accuracy: 0.9728, Testing Accuracy: 0.9738\n",
      "\n"
     ]
    },
    {
     "name": "stdout",
     "output_type": "stream",
     "text": [
      "Epoch 140, Loss 0.0226\n",
      "Training Accuracy: 0.9739, Testing Accuracy: 0.9743\n",
      "\n"
     ]
    },
    {
     "name": "stdout",
     "output_type": "stream",
     "text": [
      "Epoch 150, Loss 0.022\n",
      "Training Accuracy: 0.9745, Testing Accuracy: 0.9753\n",
      "\n"
     ]
    },
    {
     "name": "stdout",
     "output_type": "stream",
     "text": [
      "Epoch 160, Loss 0.0214\n",
      "Training Accuracy: 0.9749, Testing Accuracy: 0.9768\n",
      "\n"
     ]
    },
    {
     "name": "stdout",
     "output_type": "stream",
     "text": [
      "Epoch 170, Loss 0.0208\n",
      "Training Accuracy: 0.9757, Testing Accuracy: 0.9768\n",
      "\n"
     ]
    },
    {
     "name": "stdout",
     "output_type": "stream",
     "text": [
      "Epoch 180, Loss 0.0202\n",
      "Training Accuracy: 0.9764, Testing Accuracy: 0.9773\n",
      "\n"
     ]
    },
    {
     "name": "stdout",
     "output_type": "stream",
     "text": [
      "Epoch 190, Loss 0.0197\n",
      "Training Accuracy: 0.9770, Testing Accuracy: 0.9773\n",
      "\n"
     ]
    },
    {
     "name": "stdout",
     "output_type": "stream",
     "text": [
      "Epoch 200, Loss 0.0192\n",
      "Training Accuracy: 0.9776, Testing Accuracy: 0.9778\n",
      "\n"
     ]
    },
    {
     "name": "stdout",
     "output_type": "stream",
     "text": [
      "Epoch 210, Loss 0.0187\n",
      "Training Accuracy: 0.9782, Testing Accuracy: 0.9783\n",
      "\n"
     ]
    },
    {
     "name": "stdout",
     "output_type": "stream",
     "text": [
      "Epoch 220, Loss 0.0183\n",
      "Training Accuracy: 0.9791, Testing Accuracy: 0.9783\n",
      "\n"
     ]
    },
    {
     "name": "stdout",
     "output_type": "stream",
     "text": [
      "Epoch 230, Loss 0.0178\n",
      "Training Accuracy: 0.9798, Testing Accuracy: 0.9783\n",
      "\n"
     ]
    },
    {
     "name": "stdout",
     "output_type": "stream",
     "text": [
      "Epoch 240, Loss 0.0174\n",
      "Training Accuracy: 0.9807, Testing Accuracy: 0.9783\n",
      "\n"
     ]
    },
    {
     "data": {
      "text/plain": [
       "0.002644071648503092"
      ]
     },
     "execution_count": 22,
     "metadata": {},
     "output_type": "execute_result"
    }
   ],
   "source": [
    "nn_learner.train_loop(dl)"
   ]
  },
  {
   "cell_type": "code",
   "execution_count": 23,
   "id": "e0163366",
   "metadata": {
    "execution": {
     "iopub.execute_input": "2022-06-11T10:12:32.264848Z",
     "iopub.status.busy": "2022-06-11T10:12:32.263225Z",
     "iopub.status.idle": "2022-06-11T10:12:44.476274Z",
     "shell.execute_reply": "2022-06-11T10:12:44.477060Z"
    },
    "papermill": {
     "duration": 12.253818,
     "end_time": "2022-06-11T10:12:44.477202",
     "exception": false,
     "start_time": "2022-06-11T10:12:32.223384",
     "status": "completed"
    },
    "tags": []
   },
   "outputs": [
    {
     "name": "stdout",
     "output_type": "stream",
     "text": [
      "Epoch 0, Loss 0.2304\n",
      "Training Accuracy: 0.7009, Testing Accuracy: 0.7041\n",
      "\n"
     ]
    },
    {
     "name": "stdout",
     "output_type": "stream",
     "text": [
      "Epoch 10, Loss 0.1037\n",
      "Training Accuracy: 0.9073, Testing Accuracy: 0.9098\n",
      "\n"
     ]
    },
    {
     "name": "stdout",
     "output_type": "stream",
     "text": [
      "Epoch 20, Loss 0.0791\n",
      "Training Accuracy: 0.9268, Testing Accuracy: 0.9345\n",
      "\n"
     ]
    },
    {
     "name": "stdout",
     "output_type": "stream",
     "text": [
      "Epoch 30, Loss 0.0679\n",
      "Training Accuracy: 0.9365, Testing Accuracy: 0.9456\n",
      "\n"
     ]
    },
    {
     "name": "stdout",
     "output_type": "stream",
     "text": [
      "Epoch 40, Loss 0.0612\n",
      "Training Accuracy: 0.9412, Testing Accuracy: 0.9521\n",
      "\n"
     ]
    },
    {
     "name": "stdout",
     "output_type": "stream",
     "text": [
      "Epoch 50, Loss 0.0566\n",
      "Training Accuracy: 0.9444, Testing Accuracy: 0.9526\n",
      "\n"
     ]
    },
    {
     "name": "stdout",
     "output_type": "stream",
     "text": [
      "Epoch 60, Loss 0.0533\n",
      "Training Accuracy: 0.9468, Testing Accuracy: 0.9546\n",
      "\n"
     ]
    },
    {
     "name": "stdout",
     "output_type": "stream",
     "text": [
      "Epoch 70, Loss 0.0508\n",
      "Training Accuracy: 0.9501, Testing Accuracy: 0.9572\n",
      "\n"
     ]
    },
    {
     "name": "stdout",
     "output_type": "stream",
     "text": [
      "Epoch 80, Loss 0.0487\n",
      "Training Accuracy: 0.9532, Testing Accuracy: 0.9587\n",
      "\n"
     ]
    },
    {
     "name": "stdout",
     "output_type": "stream",
     "text": [
      "Epoch 90, Loss 0.0471\n",
      "Training Accuracy: 0.9542, Testing Accuracy: 0.9617\n",
      "\n"
     ]
    },
    {
     "name": "stdout",
     "output_type": "stream",
     "text": [
      "Epoch 100, Loss 0.0457\n",
      "Training Accuracy: 0.9552, Testing Accuracy: 0.9627\n",
      "\n"
     ]
    },
    {
     "name": "stdout",
     "output_type": "stream",
     "text": [
      "Epoch 110, Loss 0.0445\n",
      "Training Accuracy: 0.9562, Testing Accuracy: 0.9627\n",
      "\n"
     ]
    },
    {
     "name": "stdout",
     "output_type": "stream",
     "text": [
      "Epoch 120, Loss 0.0434\n",
      "Training Accuracy: 0.9568, Testing Accuracy: 0.9627\n",
      "\n"
     ]
    },
    {
     "name": "stdout",
     "output_type": "stream",
     "text": [
      "Epoch 130, Loss 0.0425\n",
      "Training Accuracy: 0.9576, Testing Accuracy: 0.9642\n",
      "\n"
     ]
    },
    {
     "name": "stdout",
     "output_type": "stream",
     "text": [
      "Epoch 140, Loss 0.0417\n",
      "Training Accuracy: 0.9584, Testing Accuracy: 0.9647\n",
      "\n"
     ]
    },
    {
     "name": "stdout",
     "output_type": "stream",
     "text": [
      "Epoch 150, Loss 0.0409\n",
      "Training Accuracy: 0.9589, Testing Accuracy: 0.9647\n",
      "\n"
     ]
    },
    {
     "name": "stdout",
     "output_type": "stream",
     "text": [
      "Epoch 160, Loss 0.0403\n",
      "Training Accuracy: 0.9594, Testing Accuracy: 0.9647\n",
      "\n"
     ]
    },
    {
     "name": "stdout",
     "output_type": "stream",
     "text": [
      "Epoch 170, Loss 0.0397\n",
      "Training Accuracy: 0.9595, Testing Accuracy: 0.9647\n",
      "\n"
     ]
    },
    {
     "name": "stdout",
     "output_type": "stream",
     "text": [
      "Epoch 180, Loss 0.0391\n",
      "Training Accuracy: 0.9601, Testing Accuracy: 0.9652\n",
      "\n"
     ]
    },
    {
     "name": "stdout",
     "output_type": "stream",
     "text": [
      "Epoch 190, Loss 0.0386\n",
      "Training Accuracy: 0.9603, Testing Accuracy: 0.9647\n",
      "\n"
     ]
    },
    {
     "name": "stdout",
     "output_type": "stream",
     "text": [
      "Epoch 200, Loss 0.0381\n",
      "Training Accuracy: 0.9606, Testing Accuracy: 0.9652\n",
      "\n"
     ]
    },
    {
     "name": "stdout",
     "output_type": "stream",
     "text": [
      "Epoch 210, Loss 0.0377\n",
      "Training Accuracy: 0.9608, Testing Accuracy: 0.9657\n",
      "\n"
     ]
    },
    {
     "name": "stdout",
     "output_type": "stream",
     "text": [
      "Epoch 220, Loss 0.0373\n",
      "Training Accuracy: 0.9611, Testing Accuracy: 0.9662\n",
      "\n"
     ]
    },
    {
     "name": "stdout",
     "output_type": "stream",
     "text": [
      "Epoch 230, Loss 0.0369\n",
      "Training Accuracy: 0.9614, Testing Accuracy: 0.9667\n",
      "\n"
     ]
    },
    {
     "name": "stdout",
     "output_type": "stream",
     "text": [
      "Epoch 240, Loss 0.0366\n",
      "Training Accuracy: 0.9614, Testing Accuracy: 0.9672\n",
      "\n"
     ]
    },
    {
     "data": {
      "text/plain": [
       "0.05727895908670597"
      ]
     },
     "execution_count": 23,
     "metadata": {},
     "output_type": "execute_result"
    }
   ],
   "source": [
    "lr_learner.train_loop(dl)"
   ]
  },
  {
   "cell_type": "code",
   "execution_count": 24,
   "id": "ca410940",
   "metadata": {
    "execution": {
     "iopub.execute_input": "2022-06-11T10:12:44.567832Z",
     "iopub.status.busy": "2022-06-11T10:12:44.567251Z",
     "iopub.status.idle": "2022-06-11T10:12:44.798866Z",
     "shell.execute_reply": "2022-06-11T10:12:44.799684Z"
    },
    "papermill": {
     "duration": 0.279932,
     "end_time": "2022-06-11T10:12:44.799819",
     "exception": false,
     "start_time": "2022-06-11T10:12:44.519887",
     "status": "completed"
    },
    "tags": []
   },
   "outputs": [
    {
     "data": {
      "text/plain": [
       "<matplotlib.legend.Legend at 0x7f8d30788a58>"
      ]
     },
     "execution_count": 24,
     "metadata": {},
     "output_type": "execute_result"
    },
    {
     "data": {
      "image/png": "[encoded data removed]",
      "text/plain": [
       "<Figure size 1080x720 with 1 Axes>"
      ]
     },
     "metadata": {
      "needs_background": "light"
     },
     "output_type": "display_data"
    }
   ],
   "source": [
    "#comparing the results of NN and LR\n",
    "plt.figure(figsize=(15,10))\n",
    "\n",
    "# Neural Network plots\n",
    "plt.plot(acc_nn.accuracies, 'r-', label = \"Training Accuracies - NN\")\n",
    "plt.plot(acc_nn.test_accuracies, 'g-', label = \"Testing Accuracies - NN\")\n",
    "\n",
    "# Logistic Regression plots\n",
    "plt.plot(acc_lr.accuracies, 'k-', label = \"Training Accuracies - LR\")\n",
    "plt.plot(acc_lr.test_accuracies, 'b-', label = \"Testing Accuracies - LR\")\n",
    "plt.legend()"
   ]
  },
  {
   "cell_type": "markdown",
   "id": "80dfb35c",
   "metadata": {
    "papermill": {
     "duration": 0.042918,
     "end_time": "2022-06-11T10:12:44.886435",
     "exception": false,
     "start_time": "2022-06-11T10:12:44.843517",
     "status": "completed"
    },
    "tags": []
   },
   "source": [
    "#### Plotting the outputs of this layer of the NN.\n"
   ]
  },
  {
   "cell_type": "code",
   "execution_count": 25,
   "id": "45eb2ff5",
   "metadata": {
    "execution": {
     "iopub.execute_input": "2022-06-11T10:12:44.977090Z",
     "iopub.status.busy": "2022-06-11T10:12:44.975250Z",
     "iopub.status.idle": "2022-06-11T10:12:45.011710Z",
     "shell.execute_reply": "2022-06-11T10:12:45.012521Z"
    },
    "papermill": {
     "duration": 0.083537,
     "end_time": "2022-06-11T10:12:45.012665",
     "exception": false,
     "start_time": "2022-06-11T10:12:44.929128",
     "status": "completed"
    },
    "tags": []
   },
   "outputs": [],
   "source": [
    "new_model = Model(layers[:-2])\n",
    "testing_plot = new_model(testing_data_x)"
   ]
  },
  {
   "cell_type": "code",
   "execution_count": 26,
   "id": "4c0a5485",
   "metadata": {
    "execution": {
     "iopub.execute_input": "2022-06-11T10:12:45.109476Z",
     "iopub.status.busy": "2022-06-11T10:12:45.107908Z",
     "iopub.status.idle": "2022-06-11T10:12:45.295929Z",
     "shell.execute_reply": "2022-06-11T10:12:45.296380Z"
    },
    "papermill": {
     "duration": 0.240134,
     "end_time": "2022-06-11T10:12:45.296508",
     "exception": false,
     "start_time": "2022-06-11T10:12:45.056374",
     "status": "completed"
    },
    "tags": []
   },
   "outputs": [
    {
     "data": {
      "text/plain": [
       "Text(0.5, 1.0, 'Outputs')"
      ]
     },
     "execution_count": 26,
     "metadata": {},
     "output_type": "execute_result"
    },
    {
     "data": {
      "image/png": "[encoded data removed]",
      "text/plain": [
       "<Figure size 576x504 with 1 Axes>"
      ]
     },
     "metadata": {
      "needs_background": "light"
     },
     "output_type": "display_data"
    }
   ],
   "source": [
    "# Plotting the scatter plot of points and color coding by class\n",
    "plt.figure(figsize=(8,7))\n",
    "plt.scatter(testing_plot[:,0], testing_plot[:,1], alpha = 0.1, c = y_test.ravel());\n",
    "plt.title('Outputs')"
   ]
  },
  {
   "cell_type": "markdown",
   "id": "a74fcf8f",
   "metadata": {
    "papermill": {
     "duration": 0.045243,
     "end_time": "2022-06-11T10:12:45.412339",
     "exception": false,
     "start_time": "2022-06-11T10:12:45.367096",
     "status": "completed"
    },
    "tags": []
   },
   "source": [
    "Probability contours"
   ]
  },
  {
   "cell_type": "code",
   "execution_count": 27,
   "id": "d0afc8e3",
   "metadata": {
    "execution": {
     "iopub.execute_input": "2022-06-11T10:12:45.515888Z",
     "iopub.status.busy": "2022-06-11T10:12:45.506493Z",
     "iopub.status.idle": "2022-06-11T10:12:45.518454Z",
     "shell.execute_reply": "2022-06-11T10:12:45.517962Z"
    },
    "papermill": {
     "duration": 0.060787,
     "end_time": "2022-06-11T10:12:45.518565",
     "exception": false,
     "start_time": "2022-06-11T10:12:45.457778",
     "status": "completed"
    },
    "tags": []
   },
   "outputs": [],
   "source": [
    "model_prob = Model(layers[-2:]) "
   ]
  },
  {
   "cell_type": "code",
   "execution_count": 28,
   "id": "9b96e238",
   "metadata": {
    "execution": {
     "iopub.execute_input": "2022-06-11T10:12:45.613434Z",
     "iopub.status.busy": "2022-06-11T10:12:45.612860Z",
     "iopub.status.idle": "2022-06-11T10:12:45.625984Z",
     "shell.execute_reply": "2022-06-11T10:12:45.626447Z"
    },
    "papermill": {
     "duration": 0.062796,
     "end_time": "2022-06-11T10:12:45.626583",
     "exception": false,
     "start_time": "2022-06-11T10:12:45.563787",
     "status": "completed"
    },
    "tags": []
   },
   "outputs": [],
   "source": [
    "#creating the x and y ranges according to the above generated plot.\n",
    "x_range = np.linspace(-4, 1, 100) \n",
    "y_range = np.linspace(-6, 6, 100) \n",
    "x_grid, y_grid = np.meshgrid(x_range, y_range) # x_grid and y_grig are of size 100 X 100\n",
    "\n",
    "# converting x_grid and y_grid to continuous arrays\n",
    "x_gridflat = np.ravel(x_grid)\n",
    "y_gridflat = np.ravel(y_grid)\n",
    "\n",
    "# The last layer of the current model takes two columns as input. Hence transpose of np.vstack() is required.\n",
    "X = np.vstack((x_gridflat, y_gridflat)).T\n",
    "\n",
    "prob_contour = model_prob(X).reshape(100,100) "
   ]
  },
  {
   "cell_type": "code",
   "execution_count": 29,
   "id": "da72499a",
   "metadata": {
    "execution": {
     "iopub.execute_input": "2022-06-11T10:12:45.721845Z",
     "iopub.status.busy": "2022-06-11T10:12:45.721283Z",
     "iopub.status.idle": "2022-06-11T10:12:45.971452Z",
     "shell.execute_reply": "2022-06-11T10:12:45.971871Z"
    },
    "papermill": {
     "duration": 0.299709,
     "end_time": "2022-06-11T10:12:45.972001",
     "exception": false,
     "start_time": "2022-06-11T10:12:45.672292",
     "status": "completed"
    },
    "tags": []
   },
   "outputs": [
    {
     "data": {
      "image/png": "[encoded data removed]",
      "text/plain": [
       "<Figure size 720x648 with 1 Axes>"
      ]
     },
     "metadata": {
      "needs_background": "light"
     },
     "output_type": "display_data"
    }
   ],
   "source": [
    "plt.figure(figsize=(10,9))\n",
    "plt.scatter(testing_plot[:,0], testing_plot[:,1], alpha = 0.1, c = y_test.ravel())\n",
    "contours = plt.contour(x_grid,y_grid,prob_contour)\n",
    "plt.title('Probability Contours')\n",
    "plt.clabel(contours, inline = True );"
   ]
  },
  {
   "cell_type": "code",
   "execution_count": null,
   "id": "e81b4ac7",
   "metadata": {
    "papermill": {
     "duration": 0.047918,
     "end_time": "2022-06-11T10:12:46.068144",
     "exception": false,
     "start_time": "2022-06-11T10:12:46.020226",
     "status": "completed"
    },
    "tags": []
   },
   "outputs": [],
   "source": []
  }
 ],
 "metadata": {
  "kernelspec": {
   "display_name": "Python 3",
   "language": "python",
   "name": "python3"
  },
  "language_info": {
   "codemirror_mode": {
    "name": "ipython",
    "version": 3
   },
   "file_extension": ".py",
   "mimetype": "text/x-python",
   "name": "python",
   "nbconvert_exporter": "python",
   "pygments_lexer": "ipython3",
   "version": "3.6.15"
  },
  "papermill": {
   "default_parameters": {},
   "duration": 198.071153,
   "end_time": "2022-06-11T10:12:46.534270",
   "environment_variables": {},
   "exception": null,
   "input_path": "2020-08-11-part2.ipynb",
   "output_path": "2020-08-11-part2.ipynb",
   "parameters": {},
   "start_time": "2022-06-11T10:09:28.463117",
   "version": "2.3.3"
  }
 },
 "nbformat": 4,
 "nbformat_minor": 5
}