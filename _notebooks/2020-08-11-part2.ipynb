{
 "cells": [
  {
   "cell_type": "markdown",
   "id": "98380cd3",
   "metadata": {
    "papermill": {
     "duration": 0.03598,
     "end_time": "2022-09-29T20:13:36.904909",
     "exception": false,
     "start_time": "2022-09-29T20:13:36.868929",
     "status": "completed"
    },
    "tags": []
   },
   "source": [
    "# Distinguish Your Own Digits (DYOD)"
   ]
  },
  {
   "cell_type": "markdown",
   "id": "ef31240d",
   "metadata": {
    "papermill": {
     "duration": 0.030326,
     "end_time": "2022-09-29T20:13:36.966229",
     "exception": false,
     "start_time": "2022-09-29T20:13:36.935903",
     "status": "completed"
    },
    "tags": []
   },
   "source": [
    "You are going to write a classifier that distinguishes between the number 3 and number 8."
   ]
  },
  {
   "cell_type": "code",
   "execution_count": 1,
   "id": "b15c8646",
   "metadata": {
    "execution": {
     "iopub.execute_input": "2022-09-29T20:13:37.040032Z",
     "iopub.status.busy": "2022-09-29T20:13:37.038620Z",
     "iopub.status.idle": "2022-09-29T20:13:37.050944Z",
     "shell.execute_reply": "2022-09-29T20:13:37.051680Z"
    },
    "papermill": {
     "duration": 0.056011,
     "end_time": "2022-09-29T20:13:37.051860",
     "exception": false,
     "start_time": "2022-09-29T20:13:36.995849",
     "status": "completed"
    },
    "tags": []
   },
   "outputs": [],
   "source": [
    "%load_ext autoreload\n",
    "%autoreload 2"
   ]
  },
  {
   "cell_type": "code",
   "execution_count": 2,
   "id": "22ef38dc",
   "metadata": {
    "execution": {
     "iopub.execute_input": "2022-09-29T20:13:37.122628Z",
     "iopub.status.busy": "2022-09-29T20:13:37.121862Z",
     "iopub.status.idle": "2022-09-29T20:13:37.782476Z",
     "shell.execute_reply": "2022-09-29T20:13:37.781478Z"
    },
    "papermill": {
     "duration": 0.695638,
     "end_time": "2022-09-29T20:13:37.782620",
     "exception": false,
     "start_time": "2022-09-29T20:13:37.086982",
     "status": "completed"
    },
    "tags": []
   },
   "outputs": [],
   "source": [
    "%matplotlib inline\n",
    "import numpy as np\n",
    "import matplotlib.pyplot as plt\n",
    "import pandas as pd"
   ]
  },
  {
   "cell_type": "markdown",
   "id": "ba036198",
   "metadata": {
    "papermill": {
     "duration": 0.031479,
     "end_time": "2022-09-29T20:13:37.845179",
     "exception": false,
     "start_time": "2022-09-29T20:13:37.813700",
     "status": "completed"
    },
    "tags": []
   },
   "source": [
    "From the command line run `pip install mnist`. This is a library that will help you bring down the mnist dataset. If you run this from a notebook, you need to put  `!pip install mnist` in a cell by itself."
   ]
  },
  {
   "cell_type": "code",
   "execution_count": 3,
   "id": "bb6ad8a1",
   "metadata": {
    "execution": {
     "iopub.execute_input": "2022-09-29T20:13:37.921075Z",
     "iopub.status.busy": "2022-09-29T20:13:37.920300Z",
     "iopub.status.idle": "2022-09-29T20:13:39.976898Z",
     "shell.execute_reply": "2022-09-29T20:13:39.975614Z"
    },
    "papermill": {
     "duration": 2.098675,
     "end_time": "2022-09-29T20:13:39.977047",
     "exception": false,
     "start_time": "2022-09-29T20:13:37.878372",
     "status": "completed"
    },
    "tags": []
   },
   "outputs": [
    {
     "name": "stdout",
     "output_type": "stream",
     "text": [
      "Collecting mnist\r\n"
     ]
    },
    {
     "name": "stdout",
     "output_type": "stream",
     "text": [
      "  Downloading mnist-0.2.2-py2.py3-none-any.whl (3.5 kB)\r\n"
     ]
    },
    {
     "name": "stdout",
     "output_type": "stream",
     "text": [
      "Requirement already satisfied: numpy in /opt/hostedtoolcache/Python/3.6.15/x64/lib/python3.6/site-packages (from mnist) (1.19.5)\r\n"
     ]
    },
    {
     "name": "stdout",
     "output_type": "stream",
     "text": [
      "Installing collected packages: mnist\r\n"
     ]
    },
    {
     "name": "stdout",
     "output_type": "stream",
     "text": [
      "Successfully installed mnist-0.2.2\r\n"
     ]
    }
   ],
   "source": [
    "!pip install mnist"
   ]
  },
  {
   "cell_type": "markdown",
   "id": "69df9c9a",
   "metadata": {
    "papermill": {
     "duration": 0.032792,
     "end_time": "2022-09-29T20:13:40.043520",
     "exception": false,
     "start_time": "2022-09-29T20:13:40.010728",
     "status": "completed"
    },
    "tags": []
   },
   "source": [
    "## Preparing the Data"
   ]
  },
  {
   "cell_type": "code",
   "execution_count": 4,
   "id": "7f69d806",
   "metadata": {
    "execution": {
     "iopub.execute_input": "2022-09-29T20:13:40.118456Z",
     "iopub.status.busy": "2022-09-29T20:13:40.117692Z",
     "iopub.status.idle": "2022-09-29T20:13:40.135269Z",
     "shell.execute_reply": "2022-09-29T20:13:40.134630Z"
    },
    "papermill": {
     "duration": 0.058692,
     "end_time": "2022-09-29T20:13:40.135391",
     "exception": false,
     "start_time": "2022-09-29T20:13:40.076699",
     "status": "completed"
    },
    "tags": []
   },
   "outputs": [],
   "source": [
    "import mnist"
   ]
  },
  {
   "cell_type": "code",
   "execution_count": 5,
   "id": "a411e44f",
   "metadata": {
    "execution": {
     "iopub.execute_input": "2022-09-29T20:13:40.206313Z",
     "iopub.status.busy": "2022-09-29T20:13:40.205551Z",
     "iopub.status.idle": "2022-09-29T20:13:40.796711Z",
     "shell.execute_reply": "2022-09-29T20:13:40.795991Z"
    },
    "papermill": {
     "duration": 0.629351,
     "end_time": "2022-09-29T20:13:40.796879",
     "exception": false,
     "start_time": "2022-09-29T20:13:40.167528",
     "status": "completed"
    },
    "tags": []
   },
   "outputs": [],
   "source": [
    "train_images = mnist.train_images()\n",
    "train_labels = mnist.train_labels()"
   ]
  },
  {
   "cell_type": "code",
   "execution_count": 6,
   "id": "dceab3a5",
   "metadata": {
    "execution": {
     "iopub.execute_input": "2022-09-29T20:13:40.878175Z",
     "iopub.status.busy": "2022-09-29T20:13:40.877408Z",
     "iopub.status.idle": "2022-09-29T20:13:40.892236Z",
     "shell.execute_reply": "2022-09-29T20:13:40.892962Z"
    },
    "papermill": {
     "duration": 0.057386,
     "end_time": "2022-09-29T20:13:40.893117",
     "exception": false,
     "start_time": "2022-09-29T20:13:40.835731",
     "status": "completed"
    },
    "tags": []
   },
   "outputs": [
    {
     "data": {
      "text/plain": [
       "((60000, 28, 28), (60000,))"
      ]
     },
     "execution_count": 6,
     "metadata": {},
     "output_type": "execute_result"
    }
   ],
   "source": [
    "train_images.shape, train_labels.shape"
   ]
  },
  {
   "cell_type": "code",
   "execution_count": 7,
   "id": "f50dc2bb",
   "metadata": {
    "execution": {
     "iopub.execute_input": "2022-09-29T20:13:40.962631Z",
     "iopub.status.busy": "2022-09-29T20:13:40.961809Z",
     "iopub.status.idle": "2022-09-29T20:13:41.150234Z",
     "shell.execute_reply": "2022-09-29T20:13:41.149589Z"
    },
    "papermill": {
     "duration": 0.225144,
     "end_time": "2022-09-29T20:13:41.150387",
     "exception": false,
     "start_time": "2022-09-29T20:13:40.925243",
     "status": "completed"
    },
    "tags": []
   },
   "outputs": [],
   "source": [
    "test_images = mnist.test_images()\n",
    "test_labels = mnist.test_labels()"
   ]
  },
  {
   "cell_type": "code",
   "execution_count": 8,
   "id": "fc38cf1b",
   "metadata": {
    "execution": {
     "iopub.execute_input": "2022-09-29T20:13:41.223406Z",
     "iopub.status.busy": "2022-09-29T20:13:41.222471Z",
     "iopub.status.idle": "2022-09-29T20:13:41.238939Z",
     "shell.execute_reply": "2022-09-29T20:13:41.239641Z"
    },
    "papermill": {
     "duration": 0.055733,
     "end_time": "2022-09-29T20:13:41.239802",
     "exception": false,
     "start_time": "2022-09-29T20:13:41.184069",
     "status": "completed"
    },
    "tags": []
   },
   "outputs": [
    {
     "data": {
      "text/plain": [
       "((10000, 28, 28), (10000,))"
      ]
     },
     "execution_count": 8,
     "metadata": {},
     "output_type": "execute_result"
    }
   ],
   "source": [
    "test_images.shape, test_labels.shape"
   ]
  },
  {
   "cell_type": "code",
   "execution_count": 9,
   "id": "f9ed8fe0",
   "metadata": {
    "execution": {
     "iopub.execute_input": "2022-09-29T20:13:41.310281Z",
     "iopub.status.busy": "2022-09-29T20:13:41.309552Z",
     "iopub.status.idle": "2022-09-29T20:13:41.504120Z",
     "shell.execute_reply": "2022-09-29T20:13:41.503463Z"
    },
    "papermill": {
     "duration": 0.231824,
     "end_time": "2022-09-29T20:13:41.504261",
     "exception": false,
     "start_time": "2022-09-29T20:13:41.272437",
     "status": "completed"
    },
    "tags": []
   },
   "outputs": [
    {
     "name": "stdout",
     "output_type": "stream",
     "text": [
      "2\n"
     ]
    },
    {
     "data": {
      "text/plain": [
       "<matplotlib.image.AxesImage at 0x7fa119752cf8>"
      ]
     },
     "execution_count": 9,
     "metadata": {},
     "output_type": "execute_result"
    },
    {
     "data": {
      "image/png": "[encoded data removed]",
      "text/plain": [
       "<Figure size 432x288 with 1 Axes>"
      ]
     },
     "metadata": {
      "needs_background": "light"
     },
     "output_type": "display_data"
    }
   ],
   "source": [
    "image_index = 7776 # You may select anything up to 60,000\n",
    "print(train_labels[image_index]) \n",
    "plt.imshow(train_images[image_index], cmap='Greys')"
   ]
  },
  {
   "cell_type": "markdown",
   "id": "a8d2388d",
   "metadata": {
    "papermill": {
     "duration": 0.033357,
     "end_time": "2022-09-29T20:13:41.576397",
     "exception": false,
     "start_time": "2022-09-29T20:13:41.543040",
     "status": "completed"
    },
    "tags": []
   },
   "source": [
    "## Filter data to get 3 and 8 out"
   ]
  },
  {
   "cell_type": "code",
   "execution_count": 10,
   "id": "776f7fc7",
   "metadata": {
    "execution": {
     "iopub.execute_input": "2022-09-29T20:13:41.655715Z",
     "iopub.status.busy": "2022-09-29T20:13:41.654920Z",
     "iopub.status.idle": "2022-09-29T20:13:41.675406Z",
     "shell.execute_reply": "2022-09-29T20:13:41.674786Z"
    },
    "papermill": {
     "duration": 0.065473,
     "end_time": "2022-09-29T20:13:41.675553",
     "exception": false,
     "start_time": "2022-09-29T20:13:41.610080",
     "status": "completed"
    },
    "tags": []
   },
   "outputs": [],
   "source": [
    "train_filter = np.where((train_labels == 3 ) | (train_labels == 8))\n",
    "test_filter = np.where((test_labels == 3) | (test_labels == 8))\n",
    "X_train, y_train = train_images[train_filter], train_labels[train_filter]\n",
    "X_test, y_test = test_images[test_filter], test_labels[test_filter]"
   ]
  },
  {
   "cell_type": "markdown",
   "id": "948f0b7e",
   "metadata": {
    "papermill": {
     "duration": 0.03693,
     "end_time": "2022-09-29T20:13:41.757709",
     "exception": false,
     "start_time": "2022-09-29T20:13:41.720779",
     "status": "completed"
    },
    "tags": []
   },
   "source": [
    "We normalize the pizel values in the 0 to 1 range"
   ]
  },
  {
   "cell_type": "code",
   "execution_count": 11,
   "id": "ee4c2166",
   "metadata": {
    "execution": {
     "iopub.execute_input": "2022-09-29T20:13:41.831283Z",
     "iopub.status.busy": "2022-09-29T20:13:41.830493Z",
     "iopub.status.idle": "2022-09-29T20:13:41.893659Z",
     "shell.execute_reply": "2022-09-29T20:13:41.892968Z"
    },
    "papermill": {
     "duration": 0.103016,
     "end_time": "2022-09-29T20:13:41.893805",
     "exception": false,
     "start_time": "2022-09-29T20:13:41.790789",
     "status": "completed"
    },
    "tags": []
   },
   "outputs": [],
   "source": [
    "X_train = X_train/255.\n",
    "X_test = X_test/255."
   ]
  },
  {
   "cell_type": "markdown",
   "id": "ddcf4fab",
   "metadata": {
    "papermill": {
     "duration": 0.034764,
     "end_time": "2022-09-29T20:13:41.962566",
     "exception": false,
     "start_time": "2022-09-29T20:13:41.927802",
     "status": "completed"
    },
    "tags": []
   },
   "source": [
    "And setup the labels as 1 (when the digit is 3) and 0 (when the digit is 8)"
   ]
  },
  {
   "cell_type": "code",
   "execution_count": 12,
   "id": "7dc908f2",
   "metadata": {
    "execution": {
     "iopub.execute_input": "2022-09-29T20:13:42.055591Z",
     "iopub.status.busy": "2022-09-29T20:13:42.052027Z",
     "iopub.status.idle": "2022-09-29T20:13:42.067605Z",
     "shell.execute_reply": "2022-09-29T20:13:42.066859Z"
    },
    "papermill": {
     "duration": 0.062683,
     "end_time": "2022-09-29T20:13:42.067738",
     "exception": false,
     "start_time": "2022-09-29T20:13:42.005055",
     "status": "completed"
    },
    "tags": []
   },
   "outputs": [],
   "source": [
    "y_train = 1*(y_train==3)\n",
    "y_test = 1*(y_test==3)"
   ]
  },
  {
   "cell_type": "code",
   "execution_count": 13,
   "id": "01e4e969",
   "metadata": {
    "execution": {
     "iopub.execute_input": "2022-09-29T20:13:42.145870Z",
     "iopub.status.busy": "2022-09-29T20:13:42.145125Z",
     "iopub.status.idle": "2022-09-29T20:13:42.162135Z",
     "shell.execute_reply": "2022-09-29T20:13:42.161489Z"
    },
    "papermill": {
     "duration": 0.058326,
     "end_time": "2022-09-29T20:13:42.162276",
     "exception": false,
     "start_time": "2022-09-29T20:13:42.103950",
     "status": "completed"
    },
    "tags": []
   },
   "outputs": [
    {
     "data": {
      "text/plain": [
       "((11982, 28, 28), (1984, 28, 28))"
      ]
     },
     "execution_count": 13,
     "metadata": {},
     "output_type": "execute_result"
    }
   ],
   "source": [
    "X_train.shape, X_test.shape"
   ]
  },
  {
   "cell_type": "markdown",
   "id": "5ccf3f85",
   "metadata": {
    "papermill": {
     "duration": 0.034545,
     "end_time": "2022-09-29T20:13:42.231610",
     "exception": false,
     "start_time": "2022-09-29T20:13:42.197065",
     "status": "completed"
    },
    "tags": []
   },
   "source": [
    "We reshape the data to flatten the image pixels into a set of features or co-variates:"
   ]
  },
  {
   "cell_type": "code",
   "execution_count": 14,
   "id": "5286a4a3",
   "metadata": {
    "execution": {
     "iopub.execute_input": "2022-09-29T20:13:42.307408Z",
     "iopub.status.busy": "2022-09-29T20:13:42.306604Z",
     "iopub.status.idle": "2022-09-29T20:13:42.323259Z",
     "shell.execute_reply": "2022-09-29T20:13:42.322538Z"
    },
    "papermill": {
     "duration": 0.056285,
     "end_time": "2022-09-29T20:13:42.323401",
     "exception": false,
     "start_time": "2022-09-29T20:13:42.267116",
     "status": "completed"
    },
    "tags": []
   },
   "outputs": [
    {
     "data": {
      "text/plain": [
       "((11982, 784), (1984, 784))"
      ]
     },
     "execution_count": 14,
     "metadata": {},
     "output_type": "execute_result"
    }
   ],
   "source": [
    "X_train = X_train.reshape(X_train.shape[0], -1)\n",
    "X_test = X_test.reshape(X_test.shape[0], -1)\n",
    "X_train.shape, X_test.shape"
   ]
  },
  {
   "cell_type": "code",
   "execution_count": 15,
   "id": "73c5f88a",
   "metadata": {
    "execution": {
     "iopub.execute_input": "2022-09-29T20:13:42.397569Z",
     "iopub.status.busy": "2022-09-29T20:13:42.396916Z",
     "iopub.status.idle": "2022-09-29T20:13:42.419511Z",
     "shell.execute_reply": "2022-09-29T20:13:42.420153Z"
    },
    "papermill": {
     "duration": 0.062372,
     "end_time": "2022-09-29T20:13:42.420313",
     "exception": false,
     "start_time": "2022-09-29T20:13:42.357941",
     "status": "completed"
    },
    "tags": []
   },
   "outputs": [],
   "source": [
    "#Impoting functions from 'Kudzu'\n",
    "from kudzu.model import Model\n",
    "from kudzu.train import Learner\n",
    "from kudzu.optim import GD\n",
    "from kudzu.data import Data, Sampler,Dataloader\n",
    "\n",
    "from kudzu.callbacks import AccCallback\n",
    "from kudzu.callbacks import ClfCallback\n",
    "\n",
    "from kudzu.loss import MSE\n",
    "\n",
    "from kudzu.layer import Sigmoid,Relu\n",
    "from kudzu.layer import Affine"
   ]
  },
  {
   "cell_type": "markdown",
   "id": "bc01172a",
   "metadata": {
    "papermill": {
     "duration": 0.034452,
     "end_time": "2022-09-29T20:13:42.489243",
     "exception": false,
     "start_time": "2022-09-29T20:13:42.454791",
     "status": "completed"
    },
    "tags": []
   },
   "source": [
    "### Let us create a `Config` class, to store important parameters. \n",
    "This class essentially plays the role of a dictionary."
   ]
  },
  {
   "cell_type": "code",
   "execution_count": 16,
   "id": "978281aa",
   "metadata": {
    "execution": {
     "iopub.execute_input": "2022-09-29T20:13:42.565165Z",
     "iopub.status.busy": "2022-09-29T20:13:42.564382Z",
     "iopub.status.idle": "2022-09-29T20:13:42.578532Z",
     "shell.execute_reply": "2022-09-29T20:13:42.579328Z"
    },
    "papermill": {
     "duration": 0.053971,
     "end_time": "2022-09-29T20:13:42.579467",
     "exception": false,
     "start_time": "2022-09-29T20:13:42.525496",
     "status": "completed"
    },
    "tags": []
   },
   "outputs": [],
   "source": [
    "class Config:\n",
    "    pass\n",
    "config = Config()\n",
    "config.lr = 0.001\n",
    "config.num_epochs = 250\n",
    "config.bs = 50"
   ]
  },
  {
   "cell_type": "markdown",
   "id": "1385fa59",
   "metadata": {
    "papermill": {
     "duration": 0.034265,
     "end_time": "2022-09-29T20:13:42.648080",
     "exception": false,
     "start_time": "2022-09-29T20:13:42.613815",
     "status": "completed"
    },
    "tags": []
   },
   "source": [
    "### Running Models with the Training data\n",
    "Details about the network layers:\n",
    "- A first affine layer has 784 inputs and does 100 affine transforms. These are followed by a Relu\n",
    "- A second affine layer has 100 inputs from the 100 activations of the past layer, and does 100 affine transforms. These are followed by a Relu\n",
    "- A third affine layer has 100 activations and does 2 affine transformations to create an embedding for visualization. There is no non-linearity here.\n",
    "- A final \"logistic regression\" which has an affine transform from 2 inputs to 1 output, which is squeezed through a sigmoid.\n"
   ]
  },
  {
   "cell_type": "code",
   "execution_count": 17,
   "id": "2b9c66db",
   "metadata": {
    "execution": {
     "iopub.execute_input": "2022-09-29T20:13:42.721697Z",
     "iopub.status.busy": "2022-09-29T20:13:42.720916Z",
     "iopub.status.idle": "2022-09-29T20:13:42.742208Z",
     "shell.execute_reply": "2022-09-29T20:13:42.741477Z"
    },
    "papermill": {
     "duration": 0.059681,
     "end_time": "2022-09-29T20:13:42.742345",
     "exception": false,
     "start_time": "2022-09-29T20:13:42.682664",
     "status": "completed"
    },
    "tags": []
   },
   "outputs": [],
   "source": [
    "data = Data(X_train, y_train.reshape(-1,1))\n",
    "sampler = Sampler(data, config.bs, shuffle=True)\n",
    "\n",
    "dl = Dataloader(data, sampler)\n",
    "\n",
    "opt = GD(config.lr)\n",
    "loss = MSE()"
   ]
  },
  {
   "cell_type": "code",
   "execution_count": 18,
   "id": "b275e4c2",
   "metadata": {
    "execution": {
     "iopub.execute_input": "2022-09-29T20:13:42.814799Z",
     "iopub.status.busy": "2022-09-29T20:13:42.814061Z",
     "iopub.status.idle": "2022-09-29T20:13:42.828219Z",
     "shell.execute_reply": "2022-09-29T20:13:42.828866Z"
    },
    "papermill": {
     "duration": 0.05253,
     "end_time": "2022-09-29T20:13:42.829013",
     "exception": false,
     "start_time": "2022-09-29T20:13:42.776483",
     "status": "completed"
    },
    "tags": []
   },
   "outputs": [],
   "source": [
    "training_data_x = X_train\n",
    "testing_data_x = X_test\n",
    "training_data_y = y_train.reshape(-1,1)\n",
    "testing_data_y = y_test.reshape(-1,1)"
   ]
  },
  {
   "cell_type": "code",
   "execution_count": 19,
   "id": "76951160",
   "metadata": {
    "execution": {
     "iopub.execute_input": "2022-09-29T20:13:42.909620Z",
     "iopub.status.busy": "2022-09-29T20:13:42.908837Z",
     "iopub.status.idle": "2022-09-29T20:13:42.927861Z",
     "shell.execute_reply": "2022-09-29T20:13:42.927319Z"
    },
    "papermill": {
     "duration": 0.063034,
     "end_time": "2022-09-29T20:13:42.927983",
     "exception": false,
     "start_time": "2022-09-29T20:13:42.864949",
     "status": "completed"
    },
    "tags": []
   },
   "outputs": [
    {
     "name": "stdout",
     "output_type": "stream",
     "text": [
      "xavier\n",
      "xavier\n",
      "xavier\n",
      "xavier\n",
      "xavier\n"
     ]
    }
   ],
   "source": [
    "layers = [Affine(\"first\", 784, 100), Relu(\"first\"), Affine(\"second\", 100, 100), Relu(\"second\"), Affine(\"third\", 100, 2), Affine(\"last\", 2, 1), Sigmoid(\"last\")]\n",
    "model_nn = Model(layers)\n",
    "model_lr = Model([Affine(\"logits\", 784, 1), Sigmoid(\"sigmoid\")])"
   ]
  },
  {
   "cell_type": "code",
   "execution_count": 20,
   "id": "6eede77a",
   "metadata": {
    "execution": {
     "iopub.execute_input": "2022-09-29T20:13:43.004691Z",
     "iopub.status.busy": "2022-09-29T20:13:43.003806Z",
     "iopub.status.idle": "2022-09-29T20:13:43.018606Z",
     "shell.execute_reply": "2022-09-29T20:13:43.017971Z"
    },
    "papermill": {
     "duration": 0.054832,
     "end_time": "2022-09-29T20:13:43.018746",
     "exception": false,
     "start_time": "2022-09-29T20:13:42.963914",
     "status": "completed"
    },
    "tags": []
   },
   "outputs": [],
   "source": [
    "nn_learner = Learner(loss, model_nn, opt, config.num_epochs)\n",
    "acc_nn = ClfCallback(nn_learner, config.bs, training_data_x , testing_data_x, training_data_y, testing_data_y)\n",
    "nn_learner.set_callbacks([acc_nn])"
   ]
  },
  {
   "cell_type": "code",
   "execution_count": 21,
   "id": "877b6cc7",
   "metadata": {
    "execution": {
     "iopub.execute_input": "2022-09-29T20:13:43.094293Z",
     "iopub.status.busy": "2022-09-29T20:13:43.093528Z",
     "iopub.status.idle": "2022-09-29T20:13:43.107456Z",
     "shell.execute_reply": "2022-09-29T20:13:43.108008Z"
    },
    "papermill": {
     "duration": 0.054685,
     "end_time": "2022-09-29T20:13:43.108169",
     "exception": false,
     "start_time": "2022-09-29T20:13:43.053484",
     "status": "completed"
    },
    "tags": []
   },
   "outputs": [],
   "source": [
    "lr_learner = Learner(loss, model_lr, opt, config.num_epochs)\n",
    "acc_lr = ClfCallback(lr_learner, config.bs, training_data_x , testing_data_x, training_data_y, testing_data_y)\n",
    "lr_learner.set_callbacks([acc_lr])"
   ]
  },
  {
   "cell_type": "code",
   "execution_count": 22,
   "id": "d9b133c3",
   "metadata": {
    "execution": {
     "iopub.execute_input": "2022-09-29T20:13:43.183108Z",
     "iopub.status.busy": "2022-09-29T20:13:43.182366Z",
     "iopub.status.idle": "2022-09-29T20:15:50.839017Z",
     "shell.execute_reply": "2022-09-29T20:15:50.840487Z"
    },
    "papermill": {
     "duration": 127.697915,
     "end_time": "2022-09-29T20:15:50.840697",
     "exception": false,
     "start_time": "2022-09-29T20:13:43.142782",
     "status": "completed"
    },
    "tags": []
   },
   "outputs": [
    {
     "name": "stdout",
     "output_type": "stream",
     "text": [
      "Epoch 0, Loss 0.2383\n",
      "Training Accuracy: 0.7491, Testing Accuracy: 0.7515\n",
      "\n"
     ]
    },
    {
     "name": "stdout",
     "output_type": "stream",
     "text": [
      "Epoch 10, Loss 0.0653\n",
      "Training Accuracy: 0.9362, Testing Accuracy: 0.9501\n",
      "\n"
     ]
    },
    {
     "name": "stdout",
     "output_type": "stream",
     "text": [
      "Epoch 20, Loss 0.0453\n",
      "Training Accuracy: 0.9517, Testing Accuracy: 0.9622\n",
      "\n"
     ]
    },
    {
     "name": "stdout",
     "output_type": "stream",
     "text": [
      "Epoch 30, Loss 0.0379\n",
      "Training Accuracy: 0.9584, Testing Accuracy: 0.9657\n",
      "\n"
     ]
    },
    {
     "name": "stdout",
     "output_type": "stream",
     "text": [
      "Epoch 40, Loss 0.0339\n",
      "Training Accuracy: 0.9624, Testing Accuracy: 0.9682\n",
      "\n"
     ]
    },
    {
     "name": "stdout",
     "output_type": "stream",
     "text": [
      "Epoch 50, Loss 0.0312\n",
      "Training Accuracy: 0.9648, Testing Accuracy: 0.9708\n",
      "\n"
     ]
    },
    {
     "name": "stdout",
     "output_type": "stream",
     "text": [
      "Epoch 60, Loss 0.0293\n",
      "Training Accuracy: 0.9659, Testing Accuracy: 0.9708\n",
      "\n"
     ]
    },
    {
     "name": "stdout",
     "output_type": "stream",
     "text": [
      "Epoch 70, Loss 0.0278\n",
      "Training Accuracy: 0.9683, Testing Accuracy: 0.9703\n",
      "\n"
     ]
    },
    {
     "name": "stdout",
     "output_type": "stream",
     "text": [
      "Epoch 80, Loss 0.0265\n",
      "Training Accuracy: 0.9691, Testing Accuracy: 0.9713\n",
      "\n"
     ]
    },
    {
     "name": "stdout",
     "output_type": "stream",
     "text": [
      "Epoch 90, Loss 0.0255\n",
      "Training Accuracy: 0.9700, Testing Accuracy: 0.9718\n",
      "\n"
     ]
    },
    {
     "name": "stdout",
     "output_type": "stream",
     "text": [
      "Epoch 100, Loss 0.0246\n",
      "Training Accuracy: 0.9716, Testing Accuracy: 0.9713\n",
      "\n"
     ]
    },
    {
     "name": "stdout",
     "output_type": "stream",
     "text": [
      "Epoch 110, Loss 0.0238\n",
      "Training Accuracy: 0.9728, Testing Accuracy: 0.9728\n",
      "\n"
     ]
    },
    {
     "name": "stdout",
     "output_type": "stream",
     "text": [
      "Epoch 120, Loss 0.0231\n",
      "Training Accuracy: 0.9735, Testing Accuracy: 0.9728\n",
      "\n"
     ]
    },
    {
     "name": "stdout",
     "output_type": "stream",
     "text": [
      "Epoch 130, Loss 0.0224\n",
      "Training Accuracy: 0.9745, Testing Accuracy: 0.9738\n",
      "\n"
     ]
    },
    {
     "name": "stdout",
     "output_type": "stream",
     "text": [
      "Epoch 140, Loss 0.0218\n",
      "Training Accuracy: 0.9750, Testing Accuracy: 0.9738\n",
      "\n"
     ]
    },
    {
     "name": "stdout",
     "output_type": "stream",
     "text": [
      "Epoch 150, Loss 0.0212\n",
      "Training Accuracy: 0.9759, Testing Accuracy: 0.9738\n",
      "\n"
     ]
    },
    {
     "name": "stdout",
     "output_type": "stream",
     "text": [
      "Epoch 160, Loss 0.0207\n",
      "Training Accuracy: 0.9765, Testing Accuracy: 0.9733\n",
      "\n"
     ]
    },
    {
     "name": "stdout",
     "output_type": "stream",
     "text": [
      "Epoch 170, Loss 0.0202\n",
      "Training Accuracy: 0.9770, Testing Accuracy: 0.9728\n",
      "\n"
     ]
    },
    {
     "name": "stdout",
     "output_type": "stream",
     "text": [
      "Epoch 180, Loss 0.0197\n",
      "Training Accuracy: 0.9782, Testing Accuracy: 0.9723\n",
      "\n"
     ]
    },
    {
     "name": "stdout",
     "output_type": "stream",
     "text": [
      "Epoch 190, Loss 0.0193\n",
      "Training Accuracy: 0.9791, Testing Accuracy: 0.9728\n",
      "\n"
     ]
    },
    {
     "name": "stdout",
     "output_type": "stream",
     "text": [
      "Epoch 200, Loss 0.0189\n",
      "Training Accuracy: 0.9798, Testing Accuracy: 0.9723\n",
      "\n"
     ]
    },
    {
     "name": "stdout",
     "output_type": "stream",
     "text": [
      "Epoch 210, Loss 0.0184\n",
      "Training Accuracy: 0.9800, Testing Accuracy: 0.9738\n",
      "\n"
     ]
    },
    {
     "name": "stdout",
     "output_type": "stream",
     "text": [
      "Epoch 220, Loss 0.0181\n",
      "Training Accuracy: 0.9804, Testing Accuracy: 0.9753\n",
      "\n"
     ]
    },
    {
     "name": "stdout",
     "output_type": "stream",
     "text": [
      "Epoch 230, Loss 0.0177\n",
      "Training Accuracy: 0.9810, Testing Accuracy: 0.9753\n",
      "\n"
     ]
    },
    {
     "name": "stdout",
     "output_type": "stream",
     "text": [
      "Epoch 240, Loss 0.0173\n",
      "Training Accuracy: 0.9815, Testing Accuracy: 0.9753\n",
      "\n"
     ]
    },
    {
     "data": {
      "text/plain": [
       "0.011623933763336017"
      ]
     },
     "execution_count": 22,
     "metadata": {},
     "output_type": "execute_result"
    }
   ],
   "source": [
    "nn_learner.train_loop(dl)"
   ]
  },
  {
   "cell_type": "code",
   "execution_count": 23,
   "id": "e0163366",
   "metadata": {
    "execution": {
     "iopub.execute_input": "2022-09-29T20:15:50.942457Z",
     "iopub.status.busy": "2022-09-29T20:15:50.941719Z",
     "iopub.status.idle": "2022-09-29T20:16:09.083055Z",
     "shell.execute_reply": "2022-09-29T20:16:09.084083Z"
    },
    "papermill": {
     "duration": 18.199619,
     "end_time": "2022-09-29T20:16:09.084285",
     "exception": false,
     "start_time": "2022-09-29T20:15:50.884666",
     "status": "completed"
    },
    "tags": []
   },
   "outputs": [
    {
     "name": "stdout",
     "output_type": "stream",
     "text": [
      "Epoch 0, Loss 0.253\n",
      "Training Accuracy: 0.6378, Testing Accuracy: 0.6396\n",
      "\n"
     ]
    },
    {
     "name": "stdout",
     "output_type": "stream",
     "text": [
      "Epoch 10, Loss 0.1049\n",
      "Training Accuracy: 0.9085, Testing Accuracy: 0.9194\n",
      "\n"
     ]
    },
    {
     "name": "stdout",
     "output_type": "stream",
     "text": [
      "Epoch 20, Loss 0.0798\n",
      "Training Accuracy: 0.9271, Testing Accuracy: 0.9355\n",
      "\n"
     ]
    },
    {
     "name": "stdout",
     "output_type": "stream",
     "text": [
      "Epoch 30, Loss 0.0685\n",
      "Training Accuracy: 0.9342, Testing Accuracy: 0.9415\n",
      "\n"
     ]
    },
    {
     "name": "stdout",
     "output_type": "stream",
     "text": [
      "Epoch 40, Loss 0.0618\n",
      "Training Accuracy: 0.9413, Testing Accuracy: 0.9496\n",
      "\n"
     ]
    },
    {
     "name": "stdout",
     "output_type": "stream",
     "text": [
      "Epoch 50, Loss 0.0573\n",
      "Training Accuracy: 0.9448, Testing Accuracy: 0.9531\n",
      "\n"
     ]
    },
    {
     "name": "stdout",
     "output_type": "stream",
     "text": [
      "Epoch 60, Loss 0.054\n",
      "Training Accuracy: 0.9469, Testing Accuracy: 0.9572\n",
      "\n"
     ]
    },
    {
     "name": "stdout",
     "output_type": "stream",
     "text": [
      "Epoch 70, Loss 0.0514\n",
      "Training Accuracy: 0.9483, Testing Accuracy: 0.9582\n",
      "\n"
     ]
    },
    {
     "name": "stdout",
     "output_type": "stream",
     "text": [
      "Epoch 80, Loss 0.0494\n",
      "Training Accuracy: 0.9497, Testing Accuracy: 0.9592\n",
      "\n"
     ]
    },
    {
     "name": "stdout",
     "output_type": "stream",
     "text": [
      "Epoch 90, Loss 0.0477\n",
      "Training Accuracy: 0.9513, Testing Accuracy: 0.9612\n",
      "\n"
     ]
    },
    {
     "name": "stdout",
     "output_type": "stream",
     "text": [
      "Epoch 100, Loss 0.0463\n",
      "Training Accuracy: 0.9523, Testing Accuracy: 0.9612\n",
      "\n"
     ]
    },
    {
     "name": "stdout",
     "output_type": "stream",
     "text": [
      "Epoch 110, Loss 0.0451\n",
      "Training Accuracy: 0.9523, Testing Accuracy: 0.9612\n",
      "\n"
     ]
    },
    {
     "name": "stdout",
     "output_type": "stream",
     "text": [
      "Epoch 120, Loss 0.044\n",
      "Training Accuracy: 0.9531, Testing Accuracy: 0.9617\n",
      "\n"
     ]
    },
    {
     "name": "stdout",
     "output_type": "stream",
     "text": [
      "Epoch 130, Loss 0.0431\n",
      "Training Accuracy: 0.9543, Testing Accuracy: 0.9627\n",
      "\n"
     ]
    },
    {
     "name": "stdout",
     "output_type": "stream",
     "text": [
      "Epoch 140, Loss 0.0422\n",
      "Training Accuracy: 0.9548, Testing Accuracy: 0.9657\n",
      "\n"
     ]
    },
    {
     "name": "stdout",
     "output_type": "stream",
     "text": [
      "Epoch 150, Loss 0.0415\n",
      "Training Accuracy: 0.9554, Testing Accuracy: 0.9652\n",
      "\n"
     ]
    },
    {
     "name": "stdout",
     "output_type": "stream",
     "text": [
      "Epoch 160, Loss 0.0408\n",
      "Training Accuracy: 0.9559, Testing Accuracy: 0.9652\n",
      "\n"
     ]
    },
    {
     "name": "stdout",
     "output_type": "stream",
     "text": [
      "Epoch 170, Loss 0.0402\n",
      "Training Accuracy: 0.9569, Testing Accuracy: 0.9652\n",
      "\n"
     ]
    },
    {
     "name": "stdout",
     "output_type": "stream",
     "text": [
      "Epoch 180, Loss 0.0397\n",
      "Training Accuracy: 0.9575, Testing Accuracy: 0.9657\n",
      "\n"
     ]
    },
    {
     "name": "stdout",
     "output_type": "stream",
     "text": [
      "Epoch 190, Loss 0.0391\n",
      "Training Accuracy: 0.9579, Testing Accuracy: 0.9657\n",
      "\n"
     ]
    },
    {
     "name": "stdout",
     "output_type": "stream",
     "text": [
      "Epoch 200, Loss 0.0387\n",
      "Training Accuracy: 0.9583, Testing Accuracy: 0.9657\n",
      "\n"
     ]
    },
    {
     "name": "stdout",
     "output_type": "stream",
     "text": [
      "Epoch 210, Loss 0.0382\n",
      "Training Accuracy: 0.9585, Testing Accuracy: 0.9657\n",
      "\n"
     ]
    },
    {
     "name": "stdout",
     "output_type": "stream",
     "text": [
      "Epoch 220, Loss 0.0378\n",
      "Training Accuracy: 0.9588, Testing Accuracy: 0.9662\n",
      "\n"
     ]
    },
    {
     "name": "stdout",
     "output_type": "stream",
     "text": [
      "Epoch 230, Loss 0.0374\n",
      "Training Accuracy: 0.9592, Testing Accuracy: 0.9662\n",
      "\n"
     ]
    },
    {
     "name": "stdout",
     "output_type": "stream",
     "text": [
      "Epoch 240, Loss 0.0371\n",
      "Training Accuracy: 0.9593, Testing Accuracy: 0.9662\n",
      "\n"
     ]
    },
    {
     "data": {
      "text/plain": [
       "0.05716271426341374"
      ]
     },
     "execution_count": 23,
     "metadata": {},
     "output_type": "execute_result"
    }
   ],
   "source": [
    "lr_learner.train_loop(dl)"
   ]
  },
  {
   "cell_type": "code",
   "execution_count": 24,
   "id": "ca410940",
   "metadata": {
    "execution": {
     "iopub.execute_input": "2022-09-29T20:16:09.201543Z",
     "iopub.status.busy": "2022-09-29T20:16:09.200344Z",
     "iopub.status.idle": "2022-09-29T20:16:09.508741Z",
     "shell.execute_reply": "2022-09-29T20:16:09.508060Z"
    },
    "papermill": {
     "duration": 0.370244,
     "end_time": "2022-09-29T20:16:09.508909",
     "exception": false,
     "start_time": "2022-09-29T20:16:09.138665",
     "status": "completed"
    },
    "tags": []
   },
   "outputs": [
    {
     "data": {
      "text/plain": [
       "<matplotlib.legend.Legend at 0x7fa1192c0438>"
      ]
     },
     "execution_count": 24,
     "metadata": {},
     "output_type": "execute_result"
    },
    {
     "data": {
      "image/png": "[encoded data removed]",
      "text/plain": [
       "<Figure size 1080x720 with 1 Axes>"
      ]
     },
     "metadata": {
      "needs_background": "light"
     },
     "output_type": "display_data"
    }
   ],
   "source": [
    "#comparing the results of NN and LR\n",
    "plt.figure(figsize=(15,10))\n",
    "\n",
    "# Neural Network plots\n",
    "plt.plot(acc_nn.accuracies, 'r-', label = \"Training Accuracies - NN\")\n",
    "plt.plot(acc_nn.test_accuracies, 'g-', label = \"Testing Accuracies - NN\")\n",
    "\n",
    "# Logistic Regression plots\n",
    "plt.plot(acc_lr.accuracies, 'k-', label = \"Training Accuracies - LR\")\n",
    "plt.plot(acc_lr.test_accuracies, 'b-', label = \"Testing Accuracies - LR\")\n",
    "plt.legend()"
   ]
  },
  {
   "cell_type": "markdown",
   "id": "80dfb35c",
   "metadata": {
    "papermill": {
     "duration": 0.054511,
     "end_time": "2022-09-29T20:16:09.617230",
     "exception": false,
     "start_time": "2022-09-29T20:16:09.562719",
     "status": "completed"
    },
    "tags": []
   },
   "source": [
    "#### Plotting the outputs of this layer of the NN.\n"
   ]
  },
  {
   "cell_type": "code",
   "execution_count": 25,
   "id": "45eb2ff5",
   "metadata": {
    "execution": {
     "iopub.execute_input": "2022-09-29T20:16:09.730475Z",
     "iopub.status.busy": "2022-09-29T20:16:09.729717Z",
     "iopub.status.idle": "2022-09-29T20:16:09.755572Z",
     "shell.execute_reply": "2022-09-29T20:16:09.756461Z"
    },
    "papermill": {
     "duration": 0.086515,
     "end_time": "2022-09-29T20:16:09.756675",
     "exception": false,
     "start_time": "2022-09-29T20:16:09.670160",
     "status": "completed"
    },
    "tags": []
   },
   "outputs": [],
   "source": [
    "new_model = Model(layers[:-2])\n",
    "testing_plot = new_model(testing_data_x)"
   ]
  },
  {
   "cell_type": "code",
   "execution_count": 26,
   "id": "4c0a5485",
   "metadata": {
    "execution": {
     "iopub.execute_input": "2022-09-29T20:16:09.875220Z",
     "iopub.status.busy": "2022-09-29T20:16:09.874450Z",
     "iopub.status.idle": "2022-09-29T20:16:10.142679Z",
     "shell.execute_reply": "2022-09-29T20:16:10.143507Z"
    },
    "papermill": {
     "duration": 0.329745,
     "end_time": "2022-09-29T20:16:10.143674",
     "exception": false,
     "start_time": "2022-09-29T20:16:09.813929",
     "status": "completed"
    },
    "tags": []
   },
   "outputs": [
    {
     "data": {
      "text/plain": [
       "Text(0.5, 1.0, 'Outputs')"
      ]
     },
     "execution_count": 26,
     "metadata": {},
     "output_type": "execute_result"
    },
    {
     "data": {
      "image/png": "[encoded data removed]",
      "text/plain": [
       "<Figure size 576x504 with 1 Axes>"
      ]
     },
     "metadata": {
      "needs_background": "light"
     },
     "output_type": "display_data"
    }
   ],
   "source": [
    "# Plotting the scatter plot of points and color coding by class\n",
    "plt.figure(figsize=(8,7))\n",
    "plt.scatter(testing_plot[:,0], testing_plot[:,1], alpha = 0.1, c = y_test.ravel());\n",
    "plt.title('Outputs')"
   ]
  },
  {
   "cell_type": "markdown",
   "id": "a74fcf8f",
   "metadata": {
    "papermill": {
     "duration": 0.086161,
     "end_time": "2022-09-29T20:16:10.289077",
     "exception": false,
     "start_time": "2022-09-29T20:16:10.202916",
     "status": "completed"
    },
    "tags": []
   },
   "source": [
    "Probability contours"
   ]
  },
  {
   "cell_type": "code",
   "execution_count": 27,
   "id": "d0afc8e3",
   "metadata": {
    "execution": {
     "iopub.execute_input": "2022-09-29T20:16:10.411062Z",
     "iopub.status.busy": "2022-09-29T20:16:10.410325Z",
     "iopub.status.idle": "2022-09-29T20:16:10.427970Z",
     "shell.execute_reply": "2022-09-29T20:16:10.427259Z"
    },
    "papermill": {
     "duration": 0.081899,
     "end_time": "2022-09-29T20:16:10.428114",
     "exception": false,
     "start_time": "2022-09-29T20:16:10.346215",
     "status": "completed"
    },
    "tags": []
   },
   "outputs": [],
   "source": [
    "model_prob = Model(layers[-2:]) "
   ]
  },
  {
   "cell_type": "code",
   "execution_count": 28,
   "id": "9b96e238",
   "metadata": {
    "execution": {
     "iopub.execute_input": "2022-09-29T20:16:10.552511Z",
     "iopub.status.busy": "2022-09-29T20:16:10.551674Z",
     "iopub.status.idle": "2022-09-29T20:16:10.567152Z",
     "shell.execute_reply": "2022-09-29T20:16:10.567872Z"
    },
    "papermill": {
     "duration": 0.080765,
     "end_time": "2022-09-29T20:16:10.568034",
     "exception": false,
     "start_time": "2022-09-29T20:16:10.487269",
     "status": "completed"
    },
    "tags": []
   },
   "outputs": [],
   "source": [
    "#creating the x and y ranges according to the above generated plot.\n",
    "x_range = np.linspace(-4, 1, 100) \n",
    "y_range = np.linspace(-6, 6, 100) \n",
    "x_grid, y_grid = np.meshgrid(x_range, y_range) # x_grid and y_grig are of size 100 X 100\n",
    "\n",
    "# converting x_grid and y_grid to continuous arrays\n",
    "x_gridflat = np.ravel(x_grid)\n",
    "y_gridflat = np.ravel(y_grid)\n",
    "\n",
    "# The last layer of the current model takes two columns as input. Hence transpose of np.vstack() is required.\n",
    "X = np.vstack((x_gridflat, y_gridflat)).T\n",
    "\n",
    "prob_contour = model_prob(X).reshape(100,100) "
   ]
  },
  {
   "cell_type": "code",
   "execution_count": 29,
   "id": "da72499a",
   "metadata": {
    "execution": {
     "iopub.execute_input": "2022-09-29T20:16:10.690268Z",
     "iopub.status.busy": "2022-09-29T20:16:10.689528Z",
     "iopub.status.idle": "2022-09-29T20:16:11.020467Z",
     "shell.execute_reply": "2022-09-29T20:16:11.019874Z"
    },
    "papermill": {
     "duration": 0.393047,
     "end_time": "2022-09-29T20:16:11.020644",
     "exception": false,
     "start_time": "2022-09-29T20:16:10.627597",
     "status": "completed"
    },
    "tags": []
   },
   "outputs": [
    {
     "data": {
      "image/png": "[encoded data removed]",
      "text/plain": [
       "<Figure size 720x648 with 1 Axes>"
      ]
     },
     "metadata": {
      "needs_background": "light"
     },
     "output_type": "display_data"
    }
   ],
   "source": [
    "plt.figure(figsize=(10,9))\n",
    "plt.scatter(testing_plot[:,0], testing_plot[:,1], alpha = 0.1, c = y_test.ravel())\n",
    "contours = plt.contour(x_grid,y_grid,prob_contour)\n",
    "plt.title('Probability Contours')\n",
    "plt.clabel(contours, inline = True );"
   ]
  },
  {
   "cell_type": "code",
   "execution_count": null,
   "id": "e81b4ac7",
   "metadata": {
    "papermill": {
     "duration": 0.061085,
     "end_time": "2022-09-29T20:16:11.142329",
     "exception": false,
     "start_time": "2022-09-29T20:16:11.081244",
     "status": "completed"
    },
    "tags": []
   },
   "outputs": [],
   "source": []
  }
 ],
 "metadata": {
  "kernelspec": {
   "display_name": "Python 3",
   "language": "python",
   "name": "python3"
  },
  "language_info": {
   "codemirror_mode": {
    "name": "ipython",
    "version": 3
   },
   "file_extension": ".py",
   "mimetype": "text/x-python",
   "name": "python",
   "nbconvert_exporter": "python",
   "pygments_lexer": "ipython3",
   "version": "3.6.15"
  },
  "papermill": {
   "default_parameters": {},
   "duration": 156.113758,
   "end_time": "2022-09-29T20:16:11.623326",
   "environment_variables": {},
   "exception": null,
   "input_path": "2020-08-11-part2.ipynb",
   "output_path": "2020-08-11-part2.ipynb",
   "parameters": {},
   "start_time": "2022-09-29T20:13:35.509568",
   "version": "2.3.3"
  }
 },
 "nbformat": 4,
 "nbformat_minor": 5
}