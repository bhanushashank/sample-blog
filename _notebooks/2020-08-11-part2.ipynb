{
 "cells": [
  {
   "cell_type": "markdown",
   "id": "98380cd3",
   "metadata": {
    "papermill": {
     "duration": 0.029112,
     "end_time": "2022-11-22T00:42:13.567315",
     "exception": false,
     "start_time": "2022-11-22T00:42:13.538203",
     "status": "completed"
    },
    "tags": []
   },
   "source": [
    "# Distinguish Your Own Digits (DYOD)"
   ]
  },
  {
   "cell_type": "markdown",
   "id": "ef31240d",
   "metadata": {
    "papermill": {
     "duration": 0.024036,
     "end_time": "2022-11-22T00:42:13.615968",
     "exception": false,
     "start_time": "2022-11-22T00:42:13.591932",
     "status": "completed"
    },
    "tags": []
   },
   "source": [
    "You are going to write a classifier that distinguishes between the number 3 and number 8."
   ]
  },
  {
   "cell_type": "code",
   "execution_count": 1,
   "id": "b15c8646",
   "metadata": {
    "execution": {
     "iopub.execute_input": "2022-11-22T00:42:13.674082Z",
     "iopub.status.busy": "2022-11-22T00:42:13.673521Z",
     "iopub.status.idle": "2022-11-22T00:42:13.684095Z",
     "shell.execute_reply": "2022-11-22T00:42:13.683544Z"
    },
    "papermill": {
     "duration": 0.044281,
     "end_time": "2022-11-22T00:42:13.684213",
     "exception": false,
     "start_time": "2022-11-22T00:42:13.639932",
     "status": "completed"
    },
    "tags": []
   },
   "outputs": [],
   "source": [
    "%load_ext autoreload\n",
    "%autoreload 2"
   ]
  },
  {
   "cell_type": "code",
   "execution_count": 2,
   "id": "22ef38dc",
   "metadata": {
    "execution": {
     "iopub.execute_input": "2022-11-22T00:42:13.736395Z",
     "iopub.status.busy": "2022-11-22T00:42:13.735831Z",
     "iopub.status.idle": "2022-11-22T00:42:14.238991Z",
     "shell.execute_reply": "2022-11-22T00:42:14.238513Z"
    },
    "papermill": {
     "duration": 0.530708,
     "end_time": "2022-11-22T00:42:14.239107",
     "exception": false,
     "start_time": "2022-11-22T00:42:13.708399",
     "status": "completed"
    },
    "tags": []
   },
   "outputs": [],
   "source": [
    "%matplotlib inline\n",
    "import numpy as np\n",
    "import matplotlib.pyplot as plt\n",
    "import pandas as pd"
   ]
  },
  {
   "cell_type": "markdown",
   "id": "ba036198",
   "metadata": {
    "papermill": {
     "duration": 0.024156,
     "end_time": "2022-11-22T00:42:14.287495",
     "exception": false,
     "start_time": "2022-11-22T00:42:14.263339",
     "status": "completed"
    },
    "tags": []
   },
   "source": [
    "From the command line run `pip install mnist`. This is a library that will help you bring down the mnist dataset. If you run this from a notebook, you need to put  `!pip install mnist` in a cell by itself."
   ]
  },
  {
   "cell_type": "code",
   "execution_count": 3,
   "id": "bb6ad8a1",
   "metadata": {
    "execution": {
     "iopub.execute_input": "2022-11-22T00:42:14.339913Z",
     "iopub.status.busy": "2022-11-22T00:42:14.339350Z",
     "iopub.status.idle": "2022-11-22T00:42:16.766714Z",
     "shell.execute_reply": "2022-11-22T00:42:16.765940Z"
    },
    "papermill": {
     "duration": 2.455165,
     "end_time": "2022-11-22T00:42:16.766830",
     "exception": false,
     "start_time": "2022-11-22T00:42:14.311665",
     "status": "completed"
    },
    "tags": []
   },
   "outputs": [
    {
     "name": "stdout",
     "output_type": "stream",
     "text": [
      "Collecting mnist\r\n"
     ]
    },
    {
     "name": "stdout",
     "output_type": "stream",
     "text": [
      "  Downloading mnist-0.2.2-py2.py3-none-any.whl (3.5 kB)\r\n",
      "Requirement already satisfied: numpy in /opt/hostedtoolcache/Python/3.6.15/x64/lib/python3.6/site-packages (from mnist) (1.19.5)\r\n"
     ]
    },
    {
     "name": "stdout",
     "output_type": "stream",
     "text": [
      "Installing collected packages: mnist\r\n",
      "Successfully installed mnist-0.2.2\r\n"
     ]
    }
   ],
   "source": [
    "!pip install mnist"
   ]
  },
  {
   "cell_type": "markdown",
   "id": "69df9c9a",
   "metadata": {
    "papermill": {
     "duration": 0.024854,
     "end_time": "2022-11-22T00:42:16.816877",
     "exception": false,
     "start_time": "2022-11-22T00:42:16.792023",
     "status": "completed"
    },
    "tags": []
   },
   "source": [
    "## Preparing the Data"
   ]
  },
  {
   "cell_type": "code",
   "execution_count": 4,
   "id": "7f69d806",
   "metadata": {
    "execution": {
     "iopub.execute_input": "2022-11-22T00:42:16.869978Z",
     "iopub.status.busy": "2022-11-22T00:42:16.869428Z",
     "iopub.status.idle": "2022-11-22T00:42:16.883035Z",
     "shell.execute_reply": "2022-11-22T00:42:16.883492Z"
    },
    "papermill": {
     "duration": 0.041907,
     "end_time": "2022-11-22T00:42:16.883605",
     "exception": false,
     "start_time": "2022-11-22T00:42:16.841698",
     "status": "completed"
    },
    "tags": []
   },
   "outputs": [],
   "source": [
    "import mnist"
   ]
  },
  {
   "cell_type": "code",
   "execution_count": 5,
   "id": "a411e44f",
   "metadata": {
    "execution": {
     "iopub.execute_input": "2022-11-22T00:42:16.936595Z",
     "iopub.status.busy": "2022-11-22T00:42:16.936044Z",
     "iopub.status.idle": "2022-11-22T00:42:17.679450Z",
     "shell.execute_reply": "2022-11-22T00:42:17.678943Z"
    },
    "papermill": {
     "duration": 0.770745,
     "end_time": "2022-11-22T00:42:17.679560",
     "exception": false,
     "start_time": "2022-11-22T00:42:16.908815",
     "status": "completed"
    },
    "tags": []
   },
   "outputs": [],
   "source": [
    "train_images = mnist.train_images()\n",
    "train_labels = mnist.train_labels()"
   ]
  },
  {
   "cell_type": "code",
   "execution_count": 6,
   "id": "dceab3a5",
   "metadata": {
    "execution": {
     "iopub.execute_input": "2022-11-22T00:42:17.733314Z",
     "iopub.status.busy": "2022-11-22T00:42:17.732762Z",
     "iopub.status.idle": "2022-11-22T00:42:17.746391Z",
     "shell.execute_reply": "2022-11-22T00:42:17.746910Z"
    },
    "papermill": {
     "duration": 0.042234,
     "end_time": "2022-11-22T00:42:17.747023",
     "exception": false,
     "start_time": "2022-11-22T00:42:17.704789",
     "status": "completed"
    },
    "tags": []
   },
   "outputs": [
    {
     "data": {
      "text/plain": [
       "((60000, 28, 28), (60000,))"
      ]
     },
     "execution_count": 6,
     "metadata": {},
     "output_type": "execute_result"
    }
   ],
   "source": [
    "train_images.shape, train_labels.shape"
   ]
  },
  {
   "cell_type": "code",
   "execution_count": 7,
   "id": "f50dc2bb",
   "metadata": {
    "execution": {
     "iopub.execute_input": "2022-11-22T00:42:17.800655Z",
     "iopub.status.busy": "2022-11-22T00:42:17.800062Z",
     "iopub.status.idle": "2022-11-22T00:42:17.947715Z",
     "shell.execute_reply": "2022-11-22T00:42:17.947233Z"
    },
    "papermill": {
     "duration": 0.175811,
     "end_time": "2022-11-22T00:42:17.947832",
     "exception": false,
     "start_time": "2022-11-22T00:42:17.772021",
     "status": "completed"
    },
    "tags": []
   },
   "outputs": [],
   "source": [
    "test_images = mnist.test_images()\n",
    "test_labels = mnist.test_labels()"
   ]
  },
  {
   "cell_type": "code",
   "execution_count": 8,
   "id": "fc38cf1b",
   "metadata": {
    "execution": {
     "iopub.execute_input": "2022-11-22T00:42:18.003983Z",
     "iopub.status.busy": "2022-11-22T00:42:18.003423Z",
     "iopub.status.idle": "2022-11-22T00:42:18.016327Z",
     "shell.execute_reply": "2022-11-22T00:42:18.015877Z"
    },
    "papermill": {
     "duration": 0.041513,
     "end_time": "2022-11-22T00:42:18.016426",
     "exception": false,
     "start_time": "2022-11-22T00:42:17.974913",
     "status": "completed"
    },
    "tags": []
   },
   "outputs": [
    {
     "data": {
      "text/plain": [
       "((10000, 28, 28), (10000,))"
      ]
     },
     "execution_count": 8,
     "metadata": {},
     "output_type": "execute_result"
    }
   ],
   "source": [
    "test_images.shape, test_labels.shape"
   ]
  },
  {
   "cell_type": "code",
   "execution_count": 9,
   "id": "f9ed8fe0",
   "metadata": {
    "execution": {
     "iopub.execute_input": "2022-11-22T00:42:18.070263Z",
     "iopub.status.busy": "2022-11-22T00:42:18.069711Z",
     "iopub.status.idle": "2022-11-22T00:42:18.200924Z",
     "shell.execute_reply": "2022-11-22T00:42:18.201358Z"
    },
    "papermill": {
     "duration": 0.159794,
     "end_time": "2022-11-22T00:42:18.201481",
     "exception": false,
     "start_time": "2022-11-22T00:42:18.041687",
     "status": "completed"
    },
    "tags": []
   },
   "outputs": [
    {
     "name": "stdout",
     "output_type": "stream",
     "text": [
      "2\n"
     ]
    },
    {
     "data": {
      "text/plain": [
       "<matplotlib.image.AxesImage at 0x7f67f3313dd8>"
      ]
     },
     "execution_count": 9,
     "metadata": {},
     "output_type": "execute_result"
    },
    {
     "data": {
      "image/png": "[encoded data removed]",
      "text/plain": [
       "<Figure size 432x288 with 1 Axes>"
      ]
     },
     "metadata": {
      "needs_background": "light"
     },
     "output_type": "display_data"
    }
   ],
   "source": [
    "image_index = 7776 # You may select anything up to 60,000\n",
    "print(train_labels[image_index]) \n",
    "plt.imshow(train_images[image_index], cmap='Greys')"
   ]
  },
  {
   "cell_type": "markdown",
   "id": "a8d2388d",
   "metadata": {
    "papermill": {
     "duration": 0.026445,
     "end_time": "2022-11-22T00:42:18.255058",
     "exception": false,
     "start_time": "2022-11-22T00:42:18.228613",
     "status": "completed"
    },
    "tags": []
   },
   "source": [
    "## Filter data to get 3 and 8 out"
   ]
  },
  {
   "cell_type": "code",
   "execution_count": 10,
   "id": "776f7fc7",
   "metadata": {
    "execution": {
     "iopub.execute_input": "2022-11-22T00:42:18.311803Z",
     "iopub.status.busy": "2022-11-22T00:42:18.311245Z",
     "iopub.status.idle": "2022-11-22T00:42:18.328184Z",
     "shell.execute_reply": "2022-11-22T00:42:18.327714Z"
    },
    "papermill": {
     "duration": 0.046796,
     "end_time": "2022-11-22T00:42:18.328287",
     "exception": false,
     "start_time": "2022-11-22T00:42:18.281491",
     "status": "completed"
    },
    "tags": []
   },
   "outputs": [],
   "source": [
    "train_filter = np.where((train_labels == 3 ) | (train_labels == 8))\n",
    "test_filter = np.where((test_labels == 3) | (test_labels == 8))\n",
    "X_train, y_train = train_images[train_filter], train_labels[train_filter]\n",
    "X_test, y_test = test_images[test_filter], test_labels[test_filter]"
   ]
  },
  {
   "cell_type": "markdown",
   "id": "948f0b7e",
   "metadata": {
    "papermill": {
     "duration": 0.026123,
     "end_time": "2022-11-22T00:42:18.380871",
     "exception": false,
     "start_time": "2022-11-22T00:42:18.354748",
     "status": "completed"
    },
    "tags": []
   },
   "source": [
    "We normalize the pizel values in the 0 to 1 range"
   ]
  },
  {
   "cell_type": "code",
   "execution_count": 11,
   "id": "ee4c2166",
   "metadata": {
    "execution": {
     "iopub.execute_input": "2022-11-22T00:42:18.436642Z",
     "iopub.status.busy": "2022-11-22T00:42:18.436063Z",
     "iopub.status.idle": "2022-11-22T00:42:18.476154Z",
     "shell.execute_reply": "2022-11-22T00:42:18.475705Z"
    },
    "papermill": {
     "duration": 0.069174,
     "end_time": "2022-11-22T00:42:18.476263",
     "exception": false,
     "start_time": "2022-11-22T00:42:18.407089",
     "status": "completed"
    },
    "tags": []
   },
   "outputs": [],
   "source": [
    "X_train = X_train/255.\n",
    "X_test = X_test/255."
   ]
  },
  {
   "cell_type": "markdown",
   "id": "ddcf4fab",
   "metadata": {
    "papermill": {
     "duration": 0.026556,
     "end_time": "2022-11-22T00:42:18.529582",
     "exception": false,
     "start_time": "2022-11-22T00:42:18.503026",
     "status": "completed"
    },
    "tags": []
   },
   "source": [
    "And setup the labels as 1 (when the digit is 3) and 0 (when the digit is 8)"
   ]
  },
  {
   "cell_type": "code",
   "execution_count": 12,
   "id": "7dc908f2",
   "metadata": {
    "execution": {
     "iopub.execute_input": "2022-11-22T00:42:18.585925Z",
     "iopub.status.busy": "2022-11-22T00:42:18.585362Z",
     "iopub.status.idle": "2022-11-22T00:42:18.597201Z",
     "shell.execute_reply": "2022-11-22T00:42:18.596741Z"
    },
    "papermill": {
     "duration": 0.041165,
     "end_time": "2022-11-22T00:42:18.597301",
     "exception": false,
     "start_time": "2022-11-22T00:42:18.556136",
     "status": "completed"
    },
    "tags": []
   },
   "outputs": [],
   "source": [
    "y_train = 1*(y_train==3)\n",
    "y_test = 1*(y_test==3)"
   ]
  },
  {
   "cell_type": "code",
   "execution_count": 13,
   "id": "01e4e969",
   "metadata": {
    "execution": {
     "iopub.execute_input": "2022-11-22T00:42:18.653345Z",
     "iopub.status.busy": "2022-11-22T00:42:18.652775Z",
     "iopub.status.idle": "2022-11-22T00:42:18.665141Z",
     "shell.execute_reply": "2022-11-22T00:42:18.665594Z"
    },
    "papermill": {
     "duration": 0.041961,
     "end_time": "2022-11-22T00:42:18.665704",
     "exception": false,
     "start_time": "2022-11-22T00:42:18.623743",
     "status": "completed"
    },
    "tags": []
   },
   "outputs": [
    {
     "data": {
      "text/plain": [
       "((11982, 28, 28), (1984, 28, 28))"
      ]
     },
     "execution_count": 13,
     "metadata": {},
     "output_type": "execute_result"
    }
   ],
   "source": [
    "X_train.shape, X_test.shape"
   ]
  },
  {
   "cell_type": "markdown",
   "id": "5ccf3f85",
   "metadata": {
    "papermill": {
     "duration": 0.026548,
     "end_time": "2022-11-22T00:42:18.718896",
     "exception": false,
     "start_time": "2022-11-22T00:42:18.692348",
     "status": "completed"
    },
    "tags": []
   },
   "source": [
    "We reshape the data to flatten the image pixels into a set of features or co-variates:"
   ]
  },
  {
   "cell_type": "code",
   "execution_count": 14,
   "id": "5286a4a3",
   "metadata": {
    "execution": {
     "iopub.execute_input": "2022-11-22T00:42:18.775813Z",
     "iopub.status.busy": "2022-11-22T00:42:18.775265Z",
     "iopub.status.idle": "2022-11-22T00:42:18.788059Z",
     "shell.execute_reply": "2022-11-22T00:42:18.788502Z"
    },
    "papermill": {
     "duration": 0.042981,
     "end_time": "2022-11-22T00:42:18.788635",
     "exception": false,
     "start_time": "2022-11-22T00:42:18.745654",
     "status": "completed"
    },
    "tags": []
   },
   "outputs": [
    {
     "data": {
      "text/plain": [
       "((11982, 784), (1984, 784))"
      ]
     },
     "execution_count": 14,
     "metadata": {},
     "output_type": "execute_result"
    }
   ],
   "source": [
    "X_train = X_train.reshape(X_train.shape[0], -1)\n",
    "X_test = X_test.reshape(X_test.shape[0], -1)\n",
    "X_train.shape, X_test.shape"
   ]
  },
  {
   "cell_type": "code",
   "execution_count": 15,
   "id": "73c5f88a",
   "metadata": {
    "execution": {
     "iopub.execute_input": "2022-11-22T00:42:18.846069Z",
     "iopub.status.busy": "2022-11-22T00:42:18.845517Z",
     "iopub.status.idle": "2022-11-22T00:42:18.863175Z",
     "shell.execute_reply": "2022-11-22T00:42:18.862723Z"
    },
    "papermill": {
     "duration": 0.047813,
     "end_time": "2022-11-22T00:42:18.863272",
     "exception": false,
     "start_time": "2022-11-22T00:42:18.815459",
     "status": "completed"
    },
    "tags": []
   },
   "outputs": [],
   "source": [
    "#Impoting functions from 'Kudzu'\n",
    "from kudzu.model import Model\n",
    "from kudzu.train import Learner\n",
    "from kudzu.optim import GD\n",
    "from kudzu.data import Data, Sampler,Dataloader\n",
    "\n",
    "from kudzu.callbacks import AccCallback\n",
    "from kudzu.callbacks import ClfCallback\n",
    "\n",
    "from kudzu.loss import MSE\n",
    "\n",
    "from kudzu.layer import Sigmoid,Relu\n",
    "from kudzu.layer import Affine"
   ]
  },
  {
   "cell_type": "markdown",
   "id": "bc01172a",
   "metadata": {
    "papermill": {
     "duration": 0.027021,
     "end_time": "2022-11-22T00:42:18.917286",
     "exception": false,
     "start_time": "2022-11-22T00:42:18.890265",
     "status": "completed"
    },
    "tags": []
   },
   "source": [
    "### Let us create a `Config` class, to store important parameters. \n",
    "This class essentially plays the role of a dictionary."
   ]
  },
  {
   "cell_type": "code",
   "execution_count": 16,
   "id": "978281aa",
   "metadata": {
    "execution": {
     "iopub.execute_input": "2022-11-22T00:42:18.974649Z",
     "iopub.status.busy": "2022-11-22T00:42:18.974093Z",
     "iopub.status.idle": "2022-11-22T00:42:18.985740Z",
     "shell.execute_reply": "2022-11-22T00:42:18.985313Z"
    },
    "papermill": {
     "duration": 0.041573,
     "end_time": "2022-11-22T00:42:18.985839",
     "exception": false,
     "start_time": "2022-11-22T00:42:18.944266",
     "status": "completed"
    },
    "tags": []
   },
   "outputs": [],
   "source": [
    "class Config:\n",
    "    pass\n",
    "config = Config()\n",
    "config.lr = 0.001\n",
    "config.num_epochs = 250\n",
    "config.bs = 50"
   ]
  },
  {
   "cell_type": "markdown",
   "id": "1385fa59",
   "metadata": {
    "papermill": {
     "duration": 0.026912,
     "end_time": "2022-11-22T00:42:19.039727",
     "exception": false,
     "start_time": "2022-11-22T00:42:19.012815",
     "status": "completed"
    },
    "tags": []
   },
   "source": [
    "### Running Models with the Training data\n",
    "Details about the network layers:\n",
    "- A first affine layer has 784 inputs and does 100 affine transforms. These are followed by a Relu\n",
    "- A second affine layer has 100 inputs from the 100 activations of the past layer, and does 100 affine transforms. These are followed by a Relu\n",
    "- A third affine layer has 100 activations and does 2 affine transformations to create an embedding for visualization. There is no non-linearity here.\n",
    "- A final \"logistic regression\" which has an affine transform from 2 inputs to 1 output, which is squeezed through a sigmoid.\n"
   ]
  },
  {
   "cell_type": "code",
   "execution_count": 17,
   "id": "2b9c66db",
   "metadata": {
    "execution": {
     "iopub.execute_input": "2022-11-22T00:42:19.097079Z",
     "iopub.status.busy": "2022-11-22T00:42:19.096495Z",
     "iopub.status.idle": "2022-11-22T00:42:19.108446Z",
     "shell.execute_reply": "2022-11-22T00:42:19.108000Z"
    },
    "papermill": {
     "duration": 0.041936,
     "end_time": "2022-11-22T00:42:19.108543",
     "exception": false,
     "start_time": "2022-11-22T00:42:19.066607",
     "status": "completed"
    },
    "tags": []
   },
   "outputs": [],
   "source": [
    "data = Data(X_train, y_train.reshape(-1,1))\n",
    "sampler = Sampler(data, config.bs, shuffle=True)\n",
    "\n",
    "dl = Dataloader(data, sampler)\n",
    "\n",
    "opt = GD(config.lr)\n",
    "loss = MSE()"
   ]
  },
  {
   "cell_type": "code",
   "execution_count": 18,
   "id": "b275e4c2",
   "metadata": {
    "execution": {
     "iopub.execute_input": "2022-11-22T00:42:19.165582Z",
     "iopub.status.busy": "2022-11-22T00:42:19.165032Z",
     "iopub.status.idle": "2022-11-22T00:42:19.176071Z",
     "shell.execute_reply": "2022-11-22T00:42:19.176468Z"
    },
    "papermill": {
     "duration": 0.041184,
     "end_time": "2022-11-22T00:42:19.176581",
     "exception": false,
     "start_time": "2022-11-22T00:42:19.135397",
     "status": "completed"
    },
    "tags": []
   },
   "outputs": [],
   "source": [
    "training_data_x = X_train\n",
    "testing_data_x = X_test\n",
    "training_data_y = y_train.reshape(-1,1)\n",
    "testing_data_y = y_test.reshape(-1,1)"
   ]
  },
  {
   "cell_type": "code",
   "execution_count": 19,
   "id": "76951160",
   "metadata": {
    "execution": {
     "iopub.execute_input": "2022-11-22T00:42:19.234210Z",
     "iopub.status.busy": "2022-11-22T00:42:19.233660Z",
     "iopub.status.idle": "2022-11-22T00:42:19.249292Z",
     "shell.execute_reply": "2022-11-22T00:42:19.248749Z"
    },
    "papermill": {
     "duration": 0.045888,
     "end_time": "2022-11-22T00:42:19.249388",
     "exception": false,
     "start_time": "2022-11-22T00:42:19.203500",
     "status": "completed"
    },
    "tags": []
   },
   "outputs": [
    {
     "name": "stdout",
     "output_type": "stream",
     "text": [
      "xavier\n",
      "xavier\n",
      "xavier\n",
      "xavier\n",
      "xavier\n"
     ]
    }
   ],
   "source": [
    "layers = [Affine(\"first\", 784, 100), Relu(\"first\"), Affine(\"second\", 100, 100), Relu(\"second\"), Affine(\"third\", 100, 2), Affine(\"last\", 2, 1), Sigmoid(\"last\")]\n",
    "model_nn = Model(layers)\n",
    "model_lr = Model([Affine(\"logits\", 784, 1), Sigmoid(\"sigmoid\")])"
   ]
  },
  {
   "cell_type": "code",
   "execution_count": 20,
   "id": "6eede77a",
   "metadata": {
    "execution": {
     "iopub.execute_input": "2022-11-22T00:42:19.307367Z",
     "iopub.status.busy": "2022-11-22T00:42:19.306817Z",
     "iopub.status.idle": "2022-11-22T00:42:19.318210Z",
     "shell.execute_reply": "2022-11-22T00:42:19.317761Z"
    },
    "papermill": {
     "duration": 0.04163,
     "end_time": "2022-11-22T00:42:19.318306",
     "exception": false,
     "start_time": "2022-11-22T00:42:19.276676",
     "status": "completed"
    },
    "tags": []
   },
   "outputs": [],
   "source": [
    "nn_learner = Learner(loss, model_nn, opt, config.num_epochs)\n",
    "acc_nn = ClfCallback(nn_learner, config.bs, training_data_x , testing_data_x, training_data_y, testing_data_y)\n",
    "nn_learner.set_callbacks([acc_nn])"
   ]
  },
  {
   "cell_type": "code",
   "execution_count": 21,
   "id": "877b6cc7",
   "metadata": {
    "execution": {
     "iopub.execute_input": "2022-11-22T00:42:19.376299Z",
     "iopub.status.busy": "2022-11-22T00:42:19.375733Z",
     "iopub.status.idle": "2022-11-22T00:42:19.386855Z",
     "shell.execute_reply": "2022-11-22T00:42:19.386386Z"
    },
    "papermill": {
     "duration": 0.041441,
     "end_time": "2022-11-22T00:42:19.386949",
     "exception": false,
     "start_time": "2022-11-22T00:42:19.345508",
     "status": "completed"
    },
    "tags": []
   },
   "outputs": [],
   "source": [
    "lr_learner = Learner(loss, model_lr, opt, config.num_epochs)\n",
    "acc_lr = ClfCallback(lr_learner, config.bs, training_data_x , testing_data_x, training_data_y, testing_data_y)\n",
    "lr_learner.set_callbacks([acc_lr])"
   ]
  },
  {
   "cell_type": "code",
   "execution_count": 22,
   "id": "d9b133c3",
   "metadata": {
    "execution": {
     "iopub.execute_input": "2022-11-22T00:42:19.444478Z",
     "iopub.status.busy": "2022-11-22T00:42:19.443923Z",
     "iopub.status.idle": "2022-11-22T00:45:14.780997Z",
     "shell.execute_reply": "2022-11-22T00:45:14.781453Z"
    },
    "papermill": {
     "duration": 175.367458,
     "end_time": "2022-11-22T00:45:14.781581",
     "exception": false,
     "start_time": "2022-11-22T00:42:19.414123",
     "status": "completed"
    },
    "tags": []
   },
   "outputs": [
    {
     "name": "stdout",
     "output_type": "stream",
     "text": [
      "Epoch 0, Loss 0.2815\n",
      "Training Accuracy: 0.5108, Testing Accuracy: 0.5086\n",
      "\n"
     ]
    },
    {
     "name": "stdout",
     "output_type": "stream",
     "text": [
      "Epoch 10, Loss 0.1303\n",
      "Training Accuracy: 0.8901, Testing Accuracy: 0.8977\n",
      "\n"
     ]
    },
    {
     "name": "stdout",
     "output_type": "stream",
     "text": [
      "Epoch 20, Loss 0.0706\n",
      "Training Accuracy: 0.9285, Testing Accuracy: 0.9390\n",
      "\n"
     ]
    },
    {
     "name": "stdout",
     "output_type": "stream",
     "text": [
      "Epoch 30, Loss 0.0518\n",
      "Training Accuracy: 0.9435, Testing Accuracy: 0.9541\n",
      "\n"
     ]
    },
    {
     "name": "stdout",
     "output_type": "stream",
     "text": [
      "Epoch 40, Loss 0.0432\n",
      "Training Accuracy: 0.9513, Testing Accuracy: 0.9607\n",
      "\n"
     ]
    },
    {
     "name": "stdout",
     "output_type": "stream",
     "text": [
      "Epoch 50, Loss 0.0382\n",
      "Training Accuracy: 0.9566, Testing Accuracy: 0.9642\n",
      "\n"
     ]
    },
    {
     "name": "stdout",
     "output_type": "stream",
     "text": [
      "Epoch 60, Loss 0.0348\n",
      "Training Accuracy: 0.9604, Testing Accuracy: 0.9642\n",
      "\n"
     ]
    },
    {
     "name": "stdout",
     "output_type": "stream",
     "text": [
      "Epoch 70, Loss 0.0324\n",
      "Training Accuracy: 0.9631, Testing Accuracy: 0.9662\n",
      "\n"
     ]
    },
    {
     "name": "stdout",
     "output_type": "stream",
     "text": [
      "Epoch 80, Loss 0.0304\n",
      "Training Accuracy: 0.9650, Testing Accuracy: 0.9677\n",
      "\n"
     ]
    },
    {
     "name": "stdout",
     "output_type": "stream",
     "text": [
      "Epoch 90, Loss 0.0288\n",
      "Training Accuracy: 0.9670, Testing Accuracy: 0.9693\n",
      "\n"
     ]
    },
    {
     "name": "stdout",
     "output_type": "stream",
     "text": [
      "Epoch 100, Loss 0.0275\n",
      "Training Accuracy: 0.9685, Testing Accuracy: 0.9708\n",
      "\n"
     ]
    },
    {
     "name": "stdout",
     "output_type": "stream",
     "text": [
      "Epoch 110, Loss 0.0263\n",
      "Training Accuracy: 0.9694, Testing Accuracy: 0.9718\n",
      "\n"
     ]
    },
    {
     "name": "stdout",
     "output_type": "stream",
     "text": [
      "Epoch 120, Loss 0.0252\n",
      "Training Accuracy: 0.9710, Testing Accuracy: 0.9718\n",
      "\n"
     ]
    },
    {
     "name": "stdout",
     "output_type": "stream",
     "text": [
      "Epoch 130, Loss 0.0243\n",
      "Training Accuracy: 0.9722, Testing Accuracy: 0.9733\n",
      "\n"
     ]
    },
    {
     "name": "stdout",
     "output_type": "stream",
     "text": [
      "Epoch 140, Loss 0.0234\n",
      "Training Accuracy: 0.9730, Testing Accuracy: 0.9743\n",
      "\n"
     ]
    },
    {
     "name": "stdout",
     "output_type": "stream",
     "text": [
      "Epoch 150, Loss 0.0227\n",
      "Training Accuracy: 0.9740, Testing Accuracy: 0.9738\n",
      "\n"
     ]
    },
    {
     "name": "stdout",
     "output_type": "stream",
     "text": [
      "Epoch 160, Loss 0.0219\n",
      "Training Accuracy: 0.9745, Testing Accuracy: 0.9758\n",
      "\n"
     ]
    },
    {
     "name": "stdout",
     "output_type": "stream",
     "text": [
      "Epoch 170, Loss 0.0213\n",
      "Training Accuracy: 0.9750, Testing Accuracy: 0.9753\n",
      "\n"
     ]
    },
    {
     "name": "stdout",
     "output_type": "stream",
     "text": [
      "Epoch 180, Loss 0.0206\n",
      "Training Accuracy: 0.9760, Testing Accuracy: 0.9753\n",
      "\n"
     ]
    },
    {
     "name": "stdout",
     "output_type": "stream",
     "text": [
      "Epoch 190, Loss 0.0201\n",
      "Training Accuracy: 0.9764, Testing Accuracy: 0.9758\n",
      "\n"
     ]
    },
    {
     "name": "stdout",
     "output_type": "stream",
     "text": [
      "Epoch 200, Loss 0.0195\n",
      "Training Accuracy: 0.9775, Testing Accuracy: 0.9753\n",
      "\n"
     ]
    },
    {
     "name": "stdout",
     "output_type": "stream",
     "text": [
      "Epoch 210, Loss 0.019\n",
      "Training Accuracy: 0.9780, Testing Accuracy: 0.9753\n",
      "\n"
     ]
    },
    {
     "name": "stdout",
     "output_type": "stream",
     "text": [
      "Epoch 220, Loss 0.0185\n",
      "Training Accuracy: 0.9781, Testing Accuracy: 0.9758\n",
      "\n"
     ]
    },
    {
     "name": "stdout",
     "output_type": "stream",
     "text": [
      "Epoch 230, Loss 0.018\n",
      "Training Accuracy: 0.9792, Testing Accuracy: 0.9763\n",
      "\n"
     ]
    },
    {
     "name": "stdout",
     "output_type": "stream",
     "text": [
      "Epoch 240, Loss 0.0176\n",
      "Training Accuracy: 0.9801, Testing Accuracy: 0.9763\n",
      "\n"
     ]
    },
    {
     "data": {
      "text/plain": [
       "0.0075387673852661125"
      ]
     },
     "execution_count": 22,
     "metadata": {},
     "output_type": "execute_result"
    }
   ],
   "source": [
    "nn_learner.train_loop(dl)"
   ]
  },
  {
   "cell_type": "code",
   "execution_count": 23,
   "id": "e0163366",
   "metadata": {
    "execution": {
     "iopub.execute_input": "2022-11-22T00:45:14.857350Z",
     "iopub.status.busy": "2022-11-22T00:45:14.854184Z",
     "iopub.status.idle": "2022-11-22T00:45:27.083047Z",
     "shell.execute_reply": "2022-11-22T00:45:27.083851Z"
    },
    "papermill": {
     "duration": 12.268021,
     "end_time": "2022-11-22T00:45:27.083991",
     "exception": false,
     "start_time": "2022-11-22T00:45:14.815970",
     "status": "completed"
    },
    "tags": []
   },
   "outputs": [
    {
     "name": "stdout",
     "output_type": "stream",
     "text": [
      "Epoch 0, Loss 0.2611\n",
      "Training Accuracy: 0.6153, Testing Accuracy: 0.6104\n",
      "\n"
     ]
    },
    {
     "name": "stdout",
     "output_type": "stream",
     "text": [
      "Epoch 10, Loss 0.1038\n",
      "Training Accuracy: 0.9110, Testing Accuracy: 0.9239\n",
      "\n"
     ]
    },
    {
     "name": "stdout",
     "output_type": "stream",
     "text": [
      "Epoch 20, Loss 0.0797\n",
      "Training Accuracy: 0.9275, Testing Accuracy: 0.9385\n",
      "\n"
     ]
    },
    {
     "name": "stdout",
     "output_type": "stream",
     "text": [
      "Epoch 30, Loss 0.0687\n",
      "Training Accuracy: 0.9347, Testing Accuracy: 0.9476\n",
      "\n"
     ]
    },
    {
     "name": "stdout",
     "output_type": "stream",
     "text": [
      "Epoch 40, Loss 0.0621\n",
      "Training Accuracy: 0.9390, Testing Accuracy: 0.9526\n",
      "\n"
     ]
    },
    {
     "name": "stdout",
     "output_type": "stream",
     "text": [
      "Epoch 50, Loss 0.0576\n",
      "Training Accuracy: 0.9424, Testing Accuracy: 0.9556\n",
      "\n"
     ]
    },
    {
     "name": "stdout",
     "output_type": "stream",
     "text": [
      "Epoch 60, Loss 0.0543\n",
      "Training Accuracy: 0.9442, Testing Accuracy: 0.9592\n",
      "\n"
     ]
    },
    {
     "name": "stdout",
     "output_type": "stream",
     "text": [
      "Epoch 70, Loss 0.0517\n",
      "Training Accuracy: 0.9465, Testing Accuracy: 0.9617\n",
      "\n"
     ]
    },
    {
     "name": "stdout",
     "output_type": "stream",
     "text": [
      "Epoch 80, Loss 0.0497\n",
      "Training Accuracy: 0.9480, Testing Accuracy: 0.9607\n",
      "\n"
     ]
    },
    {
     "name": "stdout",
     "output_type": "stream",
     "text": [
      "Epoch 90, Loss 0.048\n",
      "Training Accuracy: 0.9500, Testing Accuracy: 0.9622\n",
      "\n"
     ]
    },
    {
     "name": "stdout",
     "output_type": "stream",
     "text": [
      "Epoch 100, Loss 0.0465\n",
      "Training Accuracy: 0.9512, Testing Accuracy: 0.9627\n",
      "\n"
     ]
    },
    {
     "name": "stdout",
     "output_type": "stream",
     "text": [
      "Epoch 110, Loss 0.0453\n",
      "Training Accuracy: 0.9517, Testing Accuracy: 0.9632\n",
      "\n"
     ]
    },
    {
     "name": "stdout",
     "output_type": "stream",
     "text": [
      "Epoch 120, Loss 0.0442\n",
      "Training Accuracy: 0.9521, Testing Accuracy: 0.9647\n",
      "\n"
     ]
    },
    {
     "name": "stdout",
     "output_type": "stream",
     "text": [
      "Epoch 130, Loss 0.0433\n",
      "Training Accuracy: 0.9533, Testing Accuracy: 0.9647\n",
      "\n"
     ]
    },
    {
     "name": "stdout",
     "output_type": "stream",
     "text": [
      "Epoch 140, Loss 0.0424\n",
      "Training Accuracy: 0.9547, Testing Accuracy: 0.9642\n",
      "\n"
     ]
    },
    {
     "name": "stdout",
     "output_type": "stream",
     "text": [
      "Epoch 150, Loss 0.0417\n",
      "Training Accuracy: 0.9557, Testing Accuracy: 0.9652\n",
      "\n"
     ]
    },
    {
     "name": "stdout",
     "output_type": "stream",
     "text": [
      "Epoch 160, Loss 0.041\n",
      "Training Accuracy: 0.9560, Testing Accuracy: 0.9652\n",
      "\n"
     ]
    },
    {
     "name": "stdout",
     "output_type": "stream",
     "text": [
      "Epoch 170, Loss 0.0403\n",
      "Training Accuracy: 0.9567, Testing Accuracy: 0.9657\n",
      "\n"
     ]
    },
    {
     "name": "stdout",
     "output_type": "stream",
     "text": [
      "Epoch 180, Loss 0.0398\n",
      "Training Accuracy: 0.9571, Testing Accuracy: 0.9667\n",
      "\n"
     ]
    },
    {
     "name": "stdout",
     "output_type": "stream",
     "text": [
      "Epoch 190, Loss 0.0392\n",
      "Training Accuracy: 0.9574, Testing Accuracy: 0.9672\n",
      "\n"
     ]
    },
    {
     "name": "stdout",
     "output_type": "stream",
     "text": [
      "Epoch 200, Loss 0.0387\n",
      "Training Accuracy: 0.9582, Testing Accuracy: 0.9677\n",
      "\n"
     ]
    },
    {
     "name": "stdout",
     "output_type": "stream",
     "text": [
      "Epoch 210, Loss 0.0383\n",
      "Training Accuracy: 0.9590, Testing Accuracy: 0.9688\n",
      "\n"
     ]
    },
    {
     "name": "stdout",
     "output_type": "stream",
     "text": [
      "Epoch 220, Loss 0.0379\n",
      "Training Accuracy: 0.9593, Testing Accuracy: 0.9682\n",
      "\n"
     ]
    },
    {
     "name": "stdout",
     "output_type": "stream",
     "text": [
      "Epoch 230, Loss 0.0375\n",
      "Training Accuracy: 0.9596, Testing Accuracy: 0.9688\n",
      "\n"
     ]
    },
    {
     "name": "stdout",
     "output_type": "stream",
     "text": [
      "Epoch 240, Loss 0.0371\n",
      "Training Accuracy: 0.9598, Testing Accuracy: 0.9688\n",
      "\n"
     ]
    },
    {
     "data": {
      "text/plain": [
       "0.03231896265843987"
      ]
     },
     "execution_count": 23,
     "metadata": {},
     "output_type": "execute_result"
    }
   ],
   "source": [
    "lr_learner.train_loop(dl)"
   ]
  },
  {
   "cell_type": "code",
   "execution_count": 24,
   "id": "ca410940",
   "metadata": {
    "execution": {
     "iopub.execute_input": "2022-11-22T00:45:27.174625Z",
     "iopub.status.busy": "2022-11-22T00:45:27.174050Z",
     "iopub.status.idle": "2022-11-22T00:45:27.402164Z",
     "shell.execute_reply": "2022-11-22T00:45:27.401701Z"
    },
    "papermill": {
     "duration": 0.27673,
     "end_time": "2022-11-22T00:45:27.402275",
     "exception": false,
     "start_time": "2022-11-22T00:45:27.125545",
     "status": "completed"
    },
    "tags": []
   },
   "outputs": [
    {
     "data": {
      "text/plain": [
       "<matplotlib.legend.Legend at 0x7f67f2e80470>"
      ]
     },
     "execution_count": 24,
     "metadata": {},
     "output_type": "execute_result"
    },
    {
     "data": {
      "image/png": "[encoded data removed]",
      "text/plain": [
       "<Figure size 1080x720 with 1 Axes>"
      ]
     },
     "metadata": {
      "needs_background": "light"
     },
     "output_type": "display_data"
    }
   ],
   "source": [
    "#comparing the results of NN and LR\n",
    "plt.figure(figsize=(15,10))\n",
    "\n",
    "# Neural Network plots\n",
    "plt.plot(acc_nn.accuracies, 'r-', label = \"Training Accuracies - NN\")\n",
    "plt.plot(acc_nn.test_accuracies, 'g-', label = \"Testing Accuracies - NN\")\n",
    "\n",
    "# Logistic Regression plots\n",
    "plt.plot(acc_lr.accuracies, 'k-', label = \"Training Accuracies - LR\")\n",
    "plt.plot(acc_lr.test_accuracies, 'b-', label = \"Testing Accuracies - LR\")\n",
    "plt.legend()"
   ]
  },
  {
   "cell_type": "markdown",
   "id": "80dfb35c",
   "metadata": {
    "papermill": {
     "duration": 0.042113,
     "end_time": "2022-11-22T00:45:27.486984",
     "exception": false,
     "start_time": "2022-11-22T00:45:27.444871",
     "status": "completed"
    },
    "tags": []
   },
   "source": [
    "#### Plotting the outputs of this layer of the NN.\n"
   ]
  },
  {
   "cell_type": "code",
   "execution_count": 25,
   "id": "45eb2ff5",
   "metadata": {
    "execution": {
     "iopub.execute_input": "2022-11-22T00:45:27.576226Z",
     "iopub.status.busy": "2022-11-22T00:45:27.575640Z",
     "iopub.status.idle": "2022-11-22T00:45:27.611206Z",
     "shell.execute_reply": "2022-11-22T00:45:27.610748Z"
    },
    "papermill": {
     "duration": 0.082105,
     "end_time": "2022-11-22T00:45:27.611316",
     "exception": false,
     "start_time": "2022-11-22T00:45:27.529211",
     "status": "completed"
    },
    "tags": []
   },
   "outputs": [],
   "source": [
    "new_model = Model(layers[:-2])\n",
    "testing_plot = new_model(testing_data_x)"
   ]
  },
  {
   "cell_type": "code",
   "execution_count": 26,
   "id": "4c0a5485",
   "metadata": {
    "execution": {
     "iopub.execute_input": "2022-11-22T00:45:27.705275Z",
     "iopub.status.busy": "2022-11-22T00:45:27.703171Z",
     "iopub.status.idle": "2022-11-22T00:45:27.901385Z",
     "shell.execute_reply": "2022-11-22T00:45:27.901812Z"
    },
    "papermill": {
     "duration": 0.248087,
     "end_time": "2022-11-22T00:45:27.901946",
     "exception": false,
     "start_time": "2022-11-22T00:45:27.653859",
     "status": "completed"
    },
    "tags": []
   },
   "outputs": [
    {
     "data": {
      "text/plain": [
       "Text(0.5, 1.0, 'Outputs')"
      ]
     },
     "execution_count": 26,
     "metadata": {},
     "output_type": "execute_result"
    },
    {
     "data": {
      "image/png": "[encoded data removed]",
      "text/plain": [
       "<Figure size 576x504 with 1 Axes>"
      ]
     },
     "metadata": {
      "needs_background": "light"
     },
     "output_type": "display_data"
    }
   ],
   "source": [
    "# Plotting the scatter plot of points and color coding by class\n",
    "plt.figure(figsize=(8,7))\n",
    "plt.scatter(testing_plot[:,0], testing_plot[:,1], alpha = 0.1, c = y_test.ravel());\n",
    "plt.title('Outputs')"
   ]
  },
  {
   "cell_type": "markdown",
   "id": "a74fcf8f",
   "metadata": {
    "papermill": {
     "duration": 0.044372,
     "end_time": "2022-11-22T00:45:27.990844",
     "exception": false,
     "start_time": "2022-11-22T00:45:27.946472",
     "status": "completed"
    },
    "tags": []
   },
   "source": [
    "Probability contours"
   ]
  },
  {
   "cell_type": "code",
   "execution_count": 27,
   "id": "d0afc8e3",
   "metadata": {
    "execution": {
     "iopub.execute_input": "2022-11-22T00:45:28.108533Z",
     "iopub.status.busy": "2022-11-22T00:45:28.107110Z",
     "iopub.status.idle": "2022-11-22T00:45:28.118145Z",
     "shell.execute_reply": "2022-11-22T00:45:28.117591Z"
    },
    "papermill": {
     "duration": 0.083211,
     "end_time": "2022-11-22T00:45:28.118246",
     "exception": false,
     "start_time": "2022-11-22T00:45:28.035035",
     "status": "completed"
    },
    "tags": []
   },
   "outputs": [],
   "source": [
    "model_prob = Model(layers[-2:]) "
   ]
  },
  {
   "cell_type": "code",
   "execution_count": 28,
   "id": "9b96e238",
   "metadata": {
    "execution": {
     "iopub.execute_input": "2022-11-22T00:45:28.211152Z",
     "iopub.status.busy": "2022-11-22T00:45:28.210569Z",
     "iopub.status.idle": "2022-11-22T00:45:28.224143Z",
     "shell.execute_reply": "2022-11-22T00:45:28.224989Z"
    },
    "papermill": {
     "duration": 0.062474,
     "end_time": "2022-11-22T00:45:28.225117",
     "exception": false,
     "start_time": "2022-11-22T00:45:28.162643",
     "status": "completed"
    },
    "tags": []
   },
   "outputs": [],
   "source": [
    "#creating the x and y ranges according to the above generated plot.\n",
    "x_range = np.linspace(-4, 1, 100) \n",
    "y_range = np.linspace(-6, 6, 100) \n",
    "x_grid, y_grid = np.meshgrid(x_range, y_range) # x_grid and y_grig are of size 100 X 100\n",
    "\n",
    "# converting x_grid and y_grid to continuous arrays\n",
    "x_gridflat = np.ravel(x_grid)\n",
    "y_gridflat = np.ravel(y_grid)\n",
    "\n",
    "# The last layer of the current model takes two columns as input. Hence transpose of np.vstack() is required.\n",
    "X = np.vstack((x_gridflat, y_gridflat)).T\n",
    "\n",
    "prob_contour = model_prob(X).reshape(100,100) "
   ]
  },
  {
   "cell_type": "code",
   "execution_count": 29,
   "id": "da72499a",
   "metadata": {
    "execution": {
     "iopub.execute_input": "2022-11-22T00:45:28.319070Z",
     "iopub.status.busy": "2022-11-22T00:45:28.318501Z",
     "iopub.status.idle": "2022-11-22T00:45:28.571617Z",
     "shell.execute_reply": "2022-11-22T00:45:28.571061Z"
    },
    "papermill": {
     "duration": 0.300931,
     "end_time": "2022-11-22T00:45:28.571723",
     "exception": false,
     "start_time": "2022-11-22T00:45:28.270792",
     "status": "completed"
    },
    "tags": []
   },
   "outputs": [
    {
     "data": {
      "image/png": "[encoded data removed]",
      "text/plain": [
       "<Figure size 720x648 with 1 Axes>"
      ]
     },
     "metadata": {
      "needs_background": "light"
     },
     "output_type": "display_data"
    }
   ],
   "source": [
    "plt.figure(figsize=(10,9))\n",
    "plt.scatter(testing_plot[:,0], testing_plot[:,1], alpha = 0.1, c = y_test.ravel())\n",
    "contours = plt.contour(x_grid,y_grid,prob_contour)\n",
    "plt.title('Probability Contours')\n",
    "plt.clabel(contours, inline = True );"
   ]
  },
  {
   "cell_type": "code",
   "execution_count": null,
   "id": "e81b4ac7",
   "metadata": {
    "papermill": {
     "duration": 0.04603,
     "end_time": "2022-11-22T00:45:28.664453",
     "exception": false,
     "start_time": "2022-11-22T00:45:28.618423",
     "status": "completed"
    },
    "tags": []
   },
   "outputs": [],
   "source": []
  }
 ],
 "metadata": {
  "kernelspec": {
   "display_name": "Python 3",
   "language": "python",
   "name": "python3"
  },
  "language_info": {
   "codemirror_mode": {
    "name": "ipython",
    "version": 3
   },
   "file_extension": ".py",
   "mimetype": "text/x-python",
   "name": "python",
   "nbconvert_exporter": "python",
   "pygments_lexer": "ipython3",
   "version": "3.6.15"
  },
  "papermill": {
   "default_parameters": {},
   "duration": 196.410677,
   "end_time": "2022-11-22T00:45:29.028257",
   "environment_variables": {},
   "exception": null,
   "input_path": "2020-08-11-part2.ipynb",
   "output_path": "2020-08-11-part2.ipynb",
   "parameters": {},
   "start_time": "2022-11-22T00:42:12.617580",
   "version": "2.3.3"
  }
 },
 "nbformat": 4,
 "nbformat_minor": 5
}