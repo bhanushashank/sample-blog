{
 "cells": [
  {
   "cell_type": "markdown",
   "id": "98380cd3",
   "metadata": {
    "papermill": {
     "duration": 0.025061,
     "end_time": "2022-09-20T20:13:28.842830",
     "exception": false,
     "start_time": "2022-09-20T20:13:28.817769",
     "status": "completed"
    },
    "tags": []
   },
   "source": [
    "# Distinguish Your Own Digits (DYOD)"
   ]
  },
  {
   "cell_type": "markdown",
   "id": "ef31240d",
   "metadata": {
    "papermill": {
     "duration": 0.02081,
     "end_time": "2022-09-20T20:13:28.885230",
     "exception": false,
     "start_time": "2022-09-20T20:13:28.864420",
     "status": "completed"
    },
    "tags": []
   },
   "source": [
    "You are going to write a classifier that distinguishes between the number 3 and number 8."
   ]
  },
  {
   "cell_type": "code",
   "execution_count": 1,
   "id": "b15c8646",
   "metadata": {
    "execution": {
     "iopub.execute_input": "2022-09-20T20:13:28.936631Z",
     "iopub.status.busy": "2022-09-20T20:13:28.935730Z",
     "iopub.status.idle": "2022-09-20T20:13:28.944923Z",
     "shell.execute_reply": "2022-09-20T20:13:28.945335Z"
    },
    "papermill": {
     "duration": 0.039565,
     "end_time": "2022-09-20T20:13:28.945447",
     "exception": false,
     "start_time": "2022-09-20T20:13:28.905882",
     "status": "completed"
    },
    "tags": []
   },
   "outputs": [],
   "source": [
    "%load_ext autoreload\n",
    "%autoreload 2"
   ]
  },
  {
   "cell_type": "code",
   "execution_count": 2,
   "id": "22ef38dc",
   "metadata": {
    "execution": {
     "iopub.execute_input": "2022-09-20T20:13:28.998082Z",
     "iopub.status.busy": "2022-09-20T20:13:28.997237Z",
     "iopub.status.idle": "2022-09-20T20:13:29.478797Z",
     "shell.execute_reply": "2022-09-20T20:13:29.478051Z"
    },
    "papermill": {
     "duration": 0.512709,
     "end_time": "2022-09-20T20:13:29.478904",
     "exception": false,
     "start_time": "2022-09-20T20:13:28.966195",
     "status": "completed"
    },
    "tags": []
   },
   "outputs": [],
   "source": [
    "%matplotlib inline\n",
    "import numpy as np\n",
    "import matplotlib.pyplot as plt\n",
    "import pandas as pd"
   ]
  },
  {
   "cell_type": "markdown",
   "id": "ba036198",
   "metadata": {
    "papermill": {
     "duration": 0.020967,
     "end_time": "2022-09-20T20:13:29.520787",
     "exception": false,
     "start_time": "2022-09-20T20:13:29.499820",
     "status": "completed"
    },
    "tags": []
   },
   "source": [
    "From the command line run `pip install mnist`. This is a library that will help you bring down the mnist dataset. If you run this from a notebook, you need to put  `!pip install mnist` in a cell by itself."
   ]
  },
  {
   "cell_type": "code",
   "execution_count": 3,
   "id": "bb6ad8a1",
   "metadata": {
    "execution": {
     "iopub.execute_input": "2022-09-20T20:13:29.570552Z",
     "iopub.status.busy": "2022-09-20T20:13:29.569729Z",
     "iopub.status.idle": "2022-09-20T20:13:31.957367Z",
     "shell.execute_reply": "2022-09-20T20:13:31.958109Z"
    },
    "papermill": {
     "duration": 2.416651,
     "end_time": "2022-09-20T20:13:31.958235",
     "exception": false,
     "start_time": "2022-09-20T20:13:29.541584",
     "status": "completed"
    },
    "tags": []
   },
   "outputs": [
    {
     "name": "stdout",
     "output_type": "stream",
     "text": [
      "Collecting mnist\r\n"
     ]
    },
    {
     "name": "stdout",
     "output_type": "stream",
     "text": [
      "  Downloading mnist-0.2.2-py2.py3-none-any.whl (3.5 kB)\r\n"
     ]
    },
    {
     "name": "stdout",
     "output_type": "stream",
     "text": [
      "Requirement already satisfied: numpy in /opt/hostedtoolcache/Python/3.6.15/x64/lib/python3.6/site-packages (from mnist) (1.19.5)\r\n"
     ]
    },
    {
     "name": "stdout",
     "output_type": "stream",
     "text": [
      "Installing collected packages: mnist\r\n"
     ]
    },
    {
     "name": "stdout",
     "output_type": "stream",
     "text": [
      "Successfully installed mnist-0.2.2\r\n"
     ]
    }
   ],
   "source": [
    "!pip install mnist"
   ]
  },
  {
   "cell_type": "markdown",
   "id": "69df9c9a",
   "metadata": {
    "papermill": {
     "duration": 0.022709,
     "end_time": "2022-09-20T20:13:32.003927",
     "exception": false,
     "start_time": "2022-09-20T20:13:31.981218",
     "status": "completed"
    },
    "tags": []
   },
   "source": [
    "## Preparing the Data"
   ]
  },
  {
   "cell_type": "code",
   "execution_count": 4,
   "id": "7f69d806",
   "metadata": {
    "execution": {
     "iopub.execute_input": "2022-09-20T20:13:32.054634Z",
     "iopub.status.busy": "2022-09-20T20:13:32.053792Z",
     "iopub.status.idle": "2022-09-20T20:13:32.064995Z",
     "shell.execute_reply": "2022-09-20T20:13:32.065391Z"
    },
    "papermill": {
     "duration": 0.039639,
     "end_time": "2022-09-20T20:13:32.065502",
     "exception": false,
     "start_time": "2022-09-20T20:13:32.025863",
     "status": "completed"
    },
    "tags": []
   },
   "outputs": [],
   "source": [
    "import mnist"
   ]
  },
  {
   "cell_type": "code",
   "execution_count": 5,
   "id": "a411e44f",
   "metadata": {
    "execution": {
     "iopub.execute_input": "2022-09-20T20:13:32.113161Z",
     "iopub.status.busy": "2022-09-20T20:13:32.112288Z",
     "iopub.status.idle": "2022-09-20T20:13:32.849636Z",
     "shell.execute_reply": "2022-09-20T20:13:32.849169Z"
    },
    "papermill": {
     "duration": 0.7623,
     "end_time": "2022-09-20T20:13:32.849734",
     "exception": false,
     "start_time": "2022-09-20T20:13:32.087434",
     "status": "completed"
    },
    "tags": []
   },
   "outputs": [],
   "source": [
    "train_images = mnist.train_images()\n",
    "train_labels = mnist.train_labels()"
   ]
  },
  {
   "cell_type": "code",
   "execution_count": 6,
   "id": "dceab3a5",
   "metadata": {
    "execution": {
     "iopub.execute_input": "2022-09-20T20:13:32.909525Z",
     "iopub.status.busy": "2022-09-20T20:13:32.905792Z",
     "iopub.status.idle": "2022-09-20T20:13:32.918177Z",
     "shell.execute_reply": "2022-09-20T20:13:32.917502Z"
    },
    "papermill": {
     "duration": 0.046522,
     "end_time": "2022-09-20T20:13:32.918274",
     "exception": false,
     "start_time": "2022-09-20T20:13:32.871752",
     "status": "completed"
    },
    "tags": []
   },
   "outputs": [
    {
     "data": {
      "text/plain": [
       "((60000, 28, 28), (60000,))"
      ]
     },
     "execution_count": 6,
     "metadata": {},
     "output_type": "execute_result"
    }
   ],
   "source": [
    "train_images.shape, train_labels.shape"
   ]
  },
  {
   "cell_type": "code",
   "execution_count": 7,
   "id": "f50dc2bb",
   "metadata": {
    "execution": {
     "iopub.execute_input": "2022-09-20T20:13:32.966315Z",
     "iopub.status.busy": "2022-09-20T20:13:32.965494Z",
     "iopub.status.idle": "2022-09-20T20:13:33.277123Z",
     "shell.execute_reply": "2022-09-20T20:13:33.276668Z"
    },
    "papermill": {
     "duration": 0.336742,
     "end_time": "2022-09-20T20:13:33.277221",
     "exception": false,
     "start_time": "2022-09-20T20:13:32.940479",
     "status": "completed"
    },
    "tags": []
   },
   "outputs": [],
   "source": [
    "test_images = mnist.test_images()\n",
    "test_labels = mnist.test_labels()"
   ]
  },
  {
   "cell_type": "code",
   "execution_count": 8,
   "id": "fc38cf1b",
   "metadata": {
    "execution": {
     "iopub.execute_input": "2022-09-20T20:13:33.326115Z",
     "iopub.status.busy": "2022-09-20T20:13:33.325312Z",
     "iopub.status.idle": "2022-09-20T20:13:33.336830Z",
     "shell.execute_reply": "2022-09-20T20:13:33.337241Z"
    },
    "papermill": {
     "duration": 0.037757,
     "end_time": "2022-09-20T20:13:33.337342",
     "exception": false,
     "start_time": "2022-09-20T20:13:33.299585",
     "status": "completed"
    },
    "tags": []
   },
   "outputs": [
    {
     "data": {
      "text/plain": [
       "((10000, 28, 28), (10000,))"
      ]
     },
     "execution_count": 8,
     "metadata": {},
     "output_type": "execute_result"
    }
   ],
   "source": [
    "test_images.shape, test_labels.shape"
   ]
  },
  {
   "cell_type": "code",
   "execution_count": 9,
   "id": "f9ed8fe0",
   "metadata": {
    "execution": {
     "iopub.execute_input": "2022-09-20T20:13:33.412910Z",
     "iopub.status.busy": "2022-09-20T20:13:33.410466Z",
     "iopub.status.idle": "2022-09-20T20:13:33.509509Z",
     "shell.execute_reply": "2022-09-20T20:13:33.509921Z"
    },
    "papermill": {
     "duration": 0.150432,
     "end_time": "2022-09-20T20:13:33.510025",
     "exception": false,
     "start_time": "2022-09-20T20:13:33.359593",
     "status": "completed"
    },
    "tags": []
   },
   "outputs": [
    {
     "name": "stdout",
     "output_type": "stream",
     "text": [
      "2\n"
     ]
    },
    {
     "data": {
      "text/plain": [
       "<matplotlib.image.AxesImage at 0x7faab9723d30>"
      ]
     },
     "execution_count": 9,
     "metadata": {},
     "output_type": "execute_result"
    },
    {
     "data": {
      "image/png": "[encoded data removed]",
      "text/plain": [
       "<Figure size 432x288 with 1 Axes>"
      ]
     },
     "metadata": {
      "needs_background": "light"
     },
     "output_type": "display_data"
    }
   ],
   "source": [
    "image_index = 7776 # You may select anything up to 60,000\n",
    "print(train_labels[image_index]) \n",
    "plt.imshow(train_images[image_index], cmap='Greys')"
   ]
  },
  {
   "cell_type": "markdown",
   "id": "a8d2388d",
   "metadata": {
    "papermill": {
     "duration": 0.023465,
     "end_time": "2022-09-20T20:13:33.557163",
     "exception": false,
     "start_time": "2022-09-20T20:13:33.533698",
     "status": "completed"
    },
    "tags": []
   },
   "source": [
    "## Filter data to get 3 and 8 out"
   ]
  },
  {
   "cell_type": "code",
   "execution_count": 10,
   "id": "776f7fc7",
   "metadata": {
    "execution": {
     "iopub.execute_input": "2022-09-20T20:13:33.613718Z",
     "iopub.status.busy": "2022-09-20T20:13:33.607049Z",
     "iopub.status.idle": "2022-09-20T20:13:33.624806Z",
     "shell.execute_reply": "2022-09-20T20:13:33.624352Z"
    },
    "papermill": {
     "duration": 0.044465,
     "end_time": "2022-09-20T20:13:33.624895",
     "exception": false,
     "start_time": "2022-09-20T20:13:33.580430",
     "status": "completed"
    },
    "tags": []
   },
   "outputs": [],
   "source": [
    "train_filter = np.where((train_labels == 3 ) | (train_labels == 8))\n",
    "test_filter = np.where((test_labels == 3) | (test_labels == 8))\n",
    "X_train, y_train = train_images[train_filter], train_labels[train_filter]\n",
    "X_test, y_test = test_images[test_filter], test_labels[test_filter]"
   ]
  },
  {
   "cell_type": "markdown",
   "id": "948f0b7e",
   "metadata": {
    "papermill": {
     "duration": 0.023438,
     "end_time": "2022-09-20T20:13:33.671778",
     "exception": false,
     "start_time": "2022-09-20T20:13:33.648340",
     "status": "completed"
    },
    "tags": []
   },
   "source": [
    "We normalize the pizel values in the 0 to 1 range"
   ]
  },
  {
   "cell_type": "code",
   "execution_count": 11,
   "id": "ee4c2166",
   "metadata": {
    "execution": {
     "iopub.execute_input": "2022-09-20T20:13:33.730106Z",
     "iopub.status.busy": "2022-09-20T20:13:33.729613Z",
     "iopub.status.idle": "2022-09-20T20:13:33.761536Z",
     "shell.execute_reply": "2022-09-20T20:13:33.761066Z"
    },
    "papermill": {
     "duration": 0.06663,
     "end_time": "2022-09-20T20:13:33.761631",
     "exception": false,
     "start_time": "2022-09-20T20:13:33.695001",
     "status": "completed"
    },
    "tags": []
   },
   "outputs": [],
   "source": [
    "X_train = X_train/255.\n",
    "X_test = X_test/255."
   ]
  },
  {
   "cell_type": "markdown",
   "id": "ddcf4fab",
   "metadata": {
    "papermill": {
     "duration": 0.023523,
     "end_time": "2022-09-20T20:13:33.808672",
     "exception": false,
     "start_time": "2022-09-20T20:13:33.785149",
     "status": "completed"
    },
    "tags": []
   },
   "source": [
    "And setup the labels as 1 (when the digit is 3) and 0 (when the digit is 8)"
   ]
  },
  {
   "cell_type": "code",
   "execution_count": 12,
   "id": "7dc908f2",
   "metadata": {
    "execution": {
     "iopub.execute_input": "2022-09-20T20:13:33.861594Z",
     "iopub.status.busy": "2022-09-20T20:13:33.858265Z",
     "iopub.status.idle": "2022-09-20T20:13:33.869063Z",
     "shell.execute_reply": "2022-09-20T20:13:33.869456Z"
    },
    "papermill": {
     "duration": 0.037567,
     "end_time": "2022-09-20T20:13:33.869558",
     "exception": false,
     "start_time": "2022-09-20T20:13:33.831991",
     "status": "completed"
    },
    "tags": []
   },
   "outputs": [],
   "source": [
    "y_train = 1*(y_train==3)\n",
    "y_test = 1*(y_test==3)"
   ]
  },
  {
   "cell_type": "code",
   "execution_count": 13,
   "id": "01e4e969",
   "metadata": {
    "execution": {
     "iopub.execute_input": "2022-09-20T20:13:33.935039Z",
     "iopub.status.busy": "2022-09-20T20:13:33.932471Z",
     "iopub.status.idle": "2022-09-20T20:13:33.938804Z",
     "shell.execute_reply": "2022-09-20T20:13:33.938392Z"
    },
    "papermill": {
     "duration": 0.046087,
     "end_time": "2022-09-20T20:13:33.938889",
     "exception": false,
     "start_time": "2022-09-20T20:13:33.892802",
     "status": "completed"
    },
    "tags": []
   },
   "outputs": [
    {
     "data": {
      "text/plain": [
       "((11982, 28, 28), (1984, 28, 28))"
      ]
     },
     "execution_count": 13,
     "metadata": {},
     "output_type": "execute_result"
    }
   ],
   "source": [
    "X_train.shape, X_test.shape"
   ]
  },
  {
   "cell_type": "markdown",
   "id": "5ccf3f85",
   "metadata": {
    "papermill": {
     "duration": 0.023453,
     "end_time": "2022-09-20T20:13:33.985738",
     "exception": false,
     "start_time": "2022-09-20T20:13:33.962285",
     "status": "completed"
    },
    "tags": []
   },
   "source": [
    "We reshape the data to flatten the image pixels into a set of features or co-variates:"
   ]
  },
  {
   "cell_type": "code",
   "execution_count": 14,
   "id": "5286a4a3",
   "metadata": {
    "execution": {
     "iopub.execute_input": "2022-09-20T20:13:34.041514Z",
     "iopub.status.busy": "2022-09-20T20:13:34.040669Z",
     "iopub.status.idle": "2022-09-20T20:13:34.051555Z",
     "shell.execute_reply": "2022-09-20T20:13:34.051145Z"
    },
    "papermill": {
     "duration": 0.041991,
     "end_time": "2022-09-20T20:13:34.051640",
     "exception": false,
     "start_time": "2022-09-20T20:13:34.009649",
     "status": "completed"
    },
    "tags": []
   },
   "outputs": [
    {
     "data": {
      "text/plain": [
       "((11982, 784), (1984, 784))"
      ]
     },
     "execution_count": 14,
     "metadata": {},
     "output_type": "execute_result"
    }
   ],
   "source": [
    "X_train = X_train.reshape(X_train.shape[0], -1)\n",
    "X_test = X_test.reshape(X_test.shape[0], -1)\n",
    "X_train.shape, X_test.shape"
   ]
  },
  {
   "cell_type": "code",
   "execution_count": 15,
   "id": "73c5f88a",
   "metadata": {
    "execution": {
     "iopub.execute_input": "2022-09-20T20:13:34.124400Z",
     "iopub.status.busy": "2022-09-20T20:13:34.118564Z",
     "iopub.status.idle": "2022-09-20T20:13:34.127020Z",
     "shell.execute_reply": "2022-09-20T20:13:34.126629Z"
    },
    "papermill": {
     "duration": 0.051738,
     "end_time": "2022-09-20T20:13:34.127109",
     "exception": false,
     "start_time": "2022-09-20T20:13:34.075371",
     "status": "completed"
    },
    "tags": []
   },
   "outputs": [],
   "source": [
    "#Impoting functions from 'Kudzu'\n",
    "from kudzu.model import Model\n",
    "from kudzu.train import Learner\n",
    "from kudzu.optim import GD\n",
    "from kudzu.data import Data, Sampler,Dataloader\n",
    "\n",
    "from kudzu.callbacks import AccCallback\n",
    "from kudzu.callbacks import ClfCallback\n",
    "\n",
    "from kudzu.loss import MSE\n",
    "\n",
    "from kudzu.layer import Sigmoid,Relu\n",
    "from kudzu.layer import Affine"
   ]
  },
  {
   "cell_type": "markdown",
   "id": "bc01172a",
   "metadata": {
    "papermill": {
     "duration": 0.023893,
     "end_time": "2022-09-20T20:13:34.174789",
     "exception": false,
     "start_time": "2022-09-20T20:13:34.150896",
     "status": "completed"
    },
    "tags": []
   },
   "source": [
    "### Let us create a `Config` class, to store important parameters. \n",
    "This class essentially plays the role of a dictionary."
   ]
  },
  {
   "cell_type": "code",
   "execution_count": 16,
   "id": "978281aa",
   "metadata": {
    "execution": {
     "iopub.execute_input": "2022-09-20T20:13:34.244848Z",
     "iopub.status.busy": "2022-09-20T20:13:34.239749Z",
     "iopub.status.idle": "2022-09-20T20:13:34.247385Z",
     "shell.execute_reply": "2022-09-20T20:13:34.246884Z"
    },
    "papermill": {
     "duration": 0.049086,
     "end_time": "2022-09-20T20:13:34.247474",
     "exception": false,
     "start_time": "2022-09-20T20:13:34.198388",
     "status": "completed"
    },
    "tags": []
   },
   "outputs": [],
   "source": [
    "class Config:\n",
    "    pass\n",
    "config = Config()\n",
    "config.lr = 0.001\n",
    "config.num_epochs = 250\n",
    "config.bs = 50"
   ]
  },
  {
   "cell_type": "markdown",
   "id": "1385fa59",
   "metadata": {
    "papermill": {
     "duration": 0.023922,
     "end_time": "2022-09-20T20:13:34.295296",
     "exception": false,
     "start_time": "2022-09-20T20:13:34.271374",
     "status": "completed"
    },
    "tags": []
   },
   "source": [
    "### Running Models with the Training data\n",
    "Details about the network layers:\n",
    "- A first affine layer has 784 inputs and does 100 affine transforms. These are followed by a Relu\n",
    "- A second affine layer has 100 inputs from the 100 activations of the past layer, and does 100 affine transforms. These are followed by a Relu\n",
    "- A third affine layer has 100 activations and does 2 affine transformations to create an embedding for visualization. There is no non-linearity here.\n",
    "- A final \"logistic regression\" which has an affine transform from 2 inputs to 1 output, which is squeezed through a sigmoid.\n"
   ]
  },
  {
   "cell_type": "code",
   "execution_count": 17,
   "id": "2b9c66db",
   "metadata": {
    "execution": {
     "iopub.execute_input": "2022-09-20T20:13:34.361391Z",
     "iopub.status.busy": "2022-09-20T20:13:34.358350Z",
     "iopub.status.idle": "2022-09-20T20:13:34.365309Z",
     "shell.execute_reply": "2022-09-20T20:13:34.364258Z"
    },
    "papermill": {
     "duration": 0.046387,
     "end_time": "2022-09-20T20:13:34.365402",
     "exception": false,
     "start_time": "2022-09-20T20:13:34.319015",
     "status": "completed"
    },
    "tags": []
   },
   "outputs": [],
   "source": [
    "data = Data(X_train, y_train.reshape(-1,1))\n",
    "sampler = Sampler(data, config.bs, shuffle=True)\n",
    "\n",
    "dl = Dataloader(data, sampler)\n",
    "\n",
    "opt = GD(config.lr)\n",
    "loss = MSE()"
   ]
  },
  {
   "cell_type": "code",
   "execution_count": 18,
   "id": "b275e4c2",
   "metadata": {
    "execution": {
     "iopub.execute_input": "2022-09-20T20:13:34.421110Z",
     "iopub.status.busy": "2022-09-20T20:13:34.420262Z",
     "iopub.status.idle": "2022-09-20T20:13:34.429325Z",
     "shell.execute_reply": "2022-09-20T20:13:34.428920Z"
    },
    "papermill": {
     "duration": 0.040206,
     "end_time": "2022-09-20T20:13:34.429410",
     "exception": false,
     "start_time": "2022-09-20T20:13:34.389204",
     "status": "completed"
    },
    "tags": []
   },
   "outputs": [],
   "source": [
    "training_data_x = X_train\n",
    "testing_data_x = X_test\n",
    "training_data_y = y_train.reshape(-1,1)\n",
    "testing_data_y = y_test.reshape(-1,1)"
   ]
  },
  {
   "cell_type": "code",
   "execution_count": 19,
   "id": "76951160",
   "metadata": {
    "execution": {
     "iopub.execute_input": "2022-09-20T20:13:34.482483Z",
     "iopub.status.busy": "2022-09-20T20:13:34.481659Z",
     "iopub.status.idle": "2022-09-20T20:13:34.496146Z",
     "shell.execute_reply": "2022-09-20T20:13:34.495741Z"
    },
    "papermill": {
     "duration": 0.043276,
     "end_time": "2022-09-20T20:13:34.496232",
     "exception": false,
     "start_time": "2022-09-20T20:13:34.452956",
     "status": "completed"
    },
    "tags": []
   },
   "outputs": [
    {
     "name": "stdout",
     "output_type": "stream",
     "text": [
      "xavier\n",
      "xavier\n",
      "xavier\n",
      "xavier\n",
      "xavier\n"
     ]
    }
   ],
   "source": [
    "layers = [Affine(\"first\", 784, 100), Relu(\"first\"), Affine(\"second\", 100, 100), Relu(\"second\"), Affine(\"third\", 100, 2), Affine(\"last\", 2, 1), Sigmoid(\"last\")]\n",
    "model_nn = Model(layers)\n",
    "model_lr = Model([Affine(\"logits\", 784, 1), Sigmoid(\"sigmoid\")])"
   ]
  },
  {
   "cell_type": "code",
   "execution_count": 20,
   "id": "6eede77a",
   "metadata": {
    "execution": {
     "iopub.execute_input": "2022-09-20T20:13:34.564601Z",
     "iopub.status.busy": "2022-09-20T20:13:34.563259Z",
     "iopub.status.idle": "2022-09-20T20:13:34.567356Z",
     "shell.execute_reply": "2022-09-20T20:13:34.566600Z"
    },
    "papermill": {
     "duration": 0.047232,
     "end_time": "2022-09-20T20:13:34.567444",
     "exception": false,
     "start_time": "2022-09-20T20:13:34.520212",
     "status": "completed"
    },
    "tags": []
   },
   "outputs": [],
   "source": [
    "nn_learner = Learner(loss, model_nn, opt, config.num_epochs)\n",
    "acc_nn = ClfCallback(nn_learner, config.bs, training_data_x , testing_data_x, training_data_y, testing_data_y)\n",
    "nn_learner.set_callbacks([acc_nn])"
   ]
  },
  {
   "cell_type": "code",
   "execution_count": 21,
   "id": "877b6cc7",
   "metadata": {
    "execution": {
     "iopub.execute_input": "2022-09-20T20:13:34.630449Z",
     "iopub.status.busy": "2022-09-20T20:13:34.629818Z",
     "iopub.status.idle": "2022-09-20T20:13:34.632550Z",
     "shell.execute_reply": "2022-09-20T20:13:34.632062Z"
    },
    "papermill": {
     "duration": 0.04134,
     "end_time": "2022-09-20T20:13:34.632633",
     "exception": false,
     "start_time": "2022-09-20T20:13:34.591293",
     "status": "completed"
    },
    "tags": []
   },
   "outputs": [],
   "source": [
    "lr_learner = Learner(loss, model_lr, opt, config.num_epochs)\n",
    "acc_lr = ClfCallback(lr_learner, config.bs, training_data_x , testing_data_x, training_data_y, testing_data_y)\n",
    "lr_learner.set_callbacks([acc_lr])"
   ]
  },
  {
   "cell_type": "code",
   "execution_count": 22,
   "id": "d9b133c3",
   "metadata": {
    "execution": {
     "iopub.execute_input": "2022-09-20T20:13:34.699496Z",
     "iopub.status.busy": "2022-09-20T20:13:34.698410Z",
     "iopub.status.idle": "2022-09-20T20:18:35.573889Z",
     "shell.execute_reply": "2022-09-20T20:18:35.575305Z"
    },
    "papermill": {
     "duration": 300.91886,
     "end_time": "2022-09-20T20:18:35.575549",
     "exception": false,
     "start_time": "2022-09-20T20:13:34.656689",
     "status": "completed"
    },
    "tags": []
   },
   "outputs": [
    {
     "name": "stdout",
     "output_type": "stream",
     "text": [
      "Epoch 0, Loss 0.2492\n",
      "Training Accuracy: 0.5778, Testing Accuracy: 0.5811\n",
      "\n"
     ]
    },
    {
     "name": "stdout",
     "output_type": "stream",
     "text": [
      "Epoch 10, Loss 0.1086\n",
      "Training Accuracy: 0.8966, Testing Accuracy: 0.8982\n",
      "\n"
     ]
    },
    {
     "name": "stdout",
     "output_type": "stream",
     "text": [
      "Epoch 20, Loss 0.064\n",
      "Training Accuracy: 0.9326, Testing Accuracy: 0.9435\n",
      "\n"
     ]
    },
    {
     "name": "stdout",
     "output_type": "stream",
     "text": [
      "Epoch 30, Loss 0.0479\n",
      "Training Accuracy: 0.9488, Testing Accuracy: 0.9582\n",
      "\n"
     ]
    },
    {
     "name": "stdout",
     "output_type": "stream",
     "text": [
      "Epoch 40, Loss 0.0403\n",
      "Training Accuracy: 0.9563, Testing Accuracy: 0.9647\n",
      "\n"
     ]
    },
    {
     "name": "stdout",
     "output_type": "stream",
     "text": [
      "Epoch 50, Loss 0.036\n",
      "Training Accuracy: 0.9599, Testing Accuracy: 0.9693\n",
      "\n"
     ]
    },
    {
     "name": "stdout",
     "output_type": "stream",
     "text": [
      "Epoch 60, Loss 0.0331\n",
      "Training Accuracy: 0.9626, Testing Accuracy: 0.9718\n",
      "\n"
     ]
    },
    {
     "name": "stdout",
     "output_type": "stream",
     "text": [
      "Epoch 70, Loss 0.031\n",
      "Training Accuracy: 0.9644, Testing Accuracy: 0.9723\n",
      "\n"
     ]
    },
    {
     "name": "stdout",
     "output_type": "stream",
     "text": [
      "Epoch 80, Loss 0.0294\n",
      "Training Accuracy: 0.9660, Testing Accuracy: 0.9728\n",
      "\n"
     ]
    },
    {
     "name": "stdout",
     "output_type": "stream",
     "text": [
      "Epoch 90, Loss 0.028\n",
      "Training Accuracy: 0.9675, Testing Accuracy: 0.9718\n",
      "\n"
     ]
    },
    {
     "name": "stdout",
     "output_type": "stream",
     "text": [
      "Epoch 100, Loss 0.0269\n",
      "Training Accuracy: 0.9695, Testing Accuracy: 0.9728\n",
      "\n"
     ]
    },
    {
     "name": "stdout",
     "output_type": "stream",
     "text": [
      "Epoch 110, Loss 0.0259\n",
      "Training Accuracy: 0.9706, Testing Accuracy: 0.9738\n",
      "\n"
     ]
    },
    {
     "name": "stdout",
     "output_type": "stream",
     "text": [
      "Epoch 120, Loss 0.025\n",
      "Training Accuracy: 0.9718, Testing Accuracy: 0.9748\n",
      "\n"
     ]
    },
    {
     "name": "stdout",
     "output_type": "stream",
     "text": [
      "Epoch 130, Loss 0.0243\n",
      "Training Accuracy: 0.9726, Testing Accuracy: 0.9748\n",
      "\n"
     ]
    },
    {
     "name": "stdout",
     "output_type": "stream",
     "text": [
      "Epoch 140, Loss 0.0236\n",
      "Training Accuracy: 0.9735, Testing Accuracy: 0.9743\n",
      "\n"
     ]
    },
    {
     "name": "stdout",
     "output_type": "stream",
     "text": [
      "Epoch 150, Loss 0.0229\n",
      "Training Accuracy: 0.9742, Testing Accuracy: 0.9743\n",
      "\n"
     ]
    },
    {
     "name": "stdout",
     "output_type": "stream",
     "text": [
      "Epoch 160, Loss 0.0223\n",
      "Training Accuracy: 0.9749, Testing Accuracy: 0.9748\n",
      "\n"
     ]
    },
    {
     "name": "stdout",
     "output_type": "stream",
     "text": [
      "Epoch 170, Loss 0.0218\n",
      "Training Accuracy: 0.9757, Testing Accuracy: 0.9748\n",
      "\n"
     ]
    },
    {
     "name": "stdout",
     "output_type": "stream",
     "text": [
      "Epoch 180, Loss 0.0213\n",
      "Training Accuracy: 0.9760, Testing Accuracy: 0.9748\n",
      "\n"
     ]
    },
    {
     "name": "stdout",
     "output_type": "stream",
     "text": [
      "Epoch 190, Loss 0.0208\n",
      "Training Accuracy: 0.9767, Testing Accuracy: 0.9748\n",
      "\n"
     ]
    },
    {
     "name": "stdout",
     "output_type": "stream",
     "text": [
      "Epoch 200, Loss 0.0203\n",
      "Training Accuracy: 0.9774, Testing Accuracy: 0.9748\n",
      "\n"
     ]
    },
    {
     "name": "stdout",
     "output_type": "stream",
     "text": [
      "Epoch 210, Loss 0.0199\n",
      "Training Accuracy: 0.9777, Testing Accuracy: 0.9753\n",
      "\n"
     ]
    },
    {
     "name": "stdout",
     "output_type": "stream",
     "text": [
      "Epoch 220, Loss 0.0195\n",
      "Training Accuracy: 0.9780, Testing Accuracy: 0.9758\n",
      "\n"
     ]
    },
    {
     "name": "stdout",
     "output_type": "stream",
     "text": [
      "Epoch 230, Loss 0.0191\n",
      "Training Accuracy: 0.9786, Testing Accuracy: 0.9763\n",
      "\n"
     ]
    },
    {
     "name": "stdout",
     "output_type": "stream",
     "text": [
      "Epoch 240, Loss 0.0187\n",
      "Training Accuracy: 0.9790, Testing Accuracy: 0.9768\n",
      "\n"
     ]
    },
    {
     "data": {
      "text/plain": [
       "0.004275560692652393"
      ]
     },
     "execution_count": 22,
     "metadata": {},
     "output_type": "execute_result"
    }
   ],
   "source": [
    "nn_learner.train_loop(dl)"
   ]
  },
  {
   "cell_type": "code",
   "execution_count": 23,
   "id": "e0163366",
   "metadata": {
    "execution": {
     "iopub.execute_input": "2022-09-20T20:18:35.694570Z",
     "iopub.status.busy": "2022-09-20T20:18:35.693730Z",
     "iopub.status.idle": "2022-09-20T20:19:02.298234Z",
     "shell.execute_reply": "2022-09-20T20:19:02.299032Z"
    },
    "papermill": {
     "duration": 26.645865,
     "end_time": "2022-09-20T20:19:02.299270",
     "exception": false,
     "start_time": "2022-09-20T20:18:35.653405",
     "status": "completed"
    },
    "tags": []
   },
   "outputs": [
    {
     "name": "stdout",
     "output_type": "stream",
     "text": [
      "Epoch 0, Loss 0.26\n",
      "Training Accuracy: 0.6303, Testing Accuracy: 0.6074\n",
      "\n"
     ]
    },
    {
     "name": "stdout",
     "output_type": "stream",
     "text": [
      "Epoch 10, Loss 0.1044\n",
      "Training Accuracy: 0.9066, Testing Accuracy: 0.9123\n",
      "\n"
     ]
    },
    {
     "name": "stdout",
     "output_type": "stream",
     "text": [
      "Epoch 20, Loss 0.0798\n",
      "Training Accuracy: 0.9280, Testing Accuracy: 0.9325\n",
      "\n"
     ]
    },
    {
     "name": "stdout",
     "output_type": "stream",
     "text": [
      "Epoch 30, Loss 0.0685\n",
      "Training Accuracy: 0.9372, Testing Accuracy: 0.9435\n",
      "\n"
     ]
    },
    {
     "name": "stdout",
     "output_type": "stream",
     "text": [
      "Epoch 40, Loss 0.0618\n",
      "Training Accuracy: 0.9417, Testing Accuracy: 0.9506\n",
      "\n"
     ]
    },
    {
     "name": "stdout",
     "output_type": "stream",
     "text": [
      "Epoch 50, Loss 0.0573\n",
      "Training Accuracy: 0.9453, Testing Accuracy: 0.9536\n",
      "\n"
     ]
    },
    {
     "name": "stdout",
     "output_type": "stream",
     "text": [
      "Epoch 60, Loss 0.0539\n",
      "Training Accuracy: 0.9473, Testing Accuracy: 0.9572\n",
      "\n"
     ]
    },
    {
     "name": "stdout",
     "output_type": "stream",
     "text": [
      "Epoch 70, Loss 0.0514\n",
      "Training Accuracy: 0.9492, Testing Accuracy: 0.9577\n",
      "\n"
     ]
    },
    {
     "name": "stdout",
     "output_type": "stream",
     "text": [
      "Epoch 80, Loss 0.0493\n",
      "Training Accuracy: 0.9507, Testing Accuracy: 0.9587\n",
      "\n"
     ]
    },
    {
     "name": "stdout",
     "output_type": "stream",
     "text": [
      "Epoch 90, Loss 0.0476\n",
      "Training Accuracy: 0.9518, Testing Accuracy: 0.9602\n",
      "\n"
     ]
    },
    {
     "name": "stdout",
     "output_type": "stream",
     "text": [
      "Epoch 100, Loss 0.0462\n",
      "Training Accuracy: 0.9533, Testing Accuracy: 0.9617\n",
      "\n"
     ]
    },
    {
     "name": "stdout",
     "output_type": "stream",
     "text": [
      "Epoch 110, Loss 0.045\n",
      "Training Accuracy: 0.9543, Testing Accuracy: 0.9612\n",
      "\n"
     ]
    },
    {
     "name": "stdout",
     "output_type": "stream",
     "text": [
      "Epoch 120, Loss 0.0439\n",
      "Training Accuracy: 0.9552, Testing Accuracy: 0.9612\n",
      "\n"
     ]
    },
    {
     "name": "stdout",
     "output_type": "stream",
     "text": [
      "Epoch 130, Loss 0.043\n",
      "Training Accuracy: 0.9560, Testing Accuracy: 0.9622\n",
      "\n"
     ]
    },
    {
     "name": "stdout",
     "output_type": "stream",
     "text": [
      "Epoch 140, Loss 0.0421\n",
      "Training Accuracy: 0.9569, Testing Accuracy: 0.9632\n",
      "\n"
     ]
    },
    {
     "name": "stdout",
     "output_type": "stream",
     "text": [
      "Epoch 150, Loss 0.0414\n",
      "Training Accuracy: 0.9575, Testing Accuracy: 0.9637\n",
      "\n"
     ]
    },
    {
     "name": "stdout",
     "output_type": "stream",
     "text": [
      "Epoch 160, Loss 0.0407\n",
      "Training Accuracy: 0.9577, Testing Accuracy: 0.9642\n",
      "\n"
     ]
    },
    {
     "name": "stdout",
     "output_type": "stream",
     "text": [
      "Epoch 170, Loss 0.0401\n",
      "Training Accuracy: 0.9584, Testing Accuracy: 0.9647\n",
      "\n"
     ]
    },
    {
     "name": "stdout",
     "output_type": "stream",
     "text": [
      "Epoch 180, Loss 0.0395\n",
      "Training Accuracy: 0.9593, Testing Accuracy: 0.9657\n",
      "\n"
     ]
    },
    {
     "name": "stdout",
     "output_type": "stream",
     "text": [
      "Epoch 190, Loss 0.039\n",
      "Training Accuracy: 0.9594, Testing Accuracy: 0.9657\n",
      "\n"
     ]
    },
    {
     "name": "stdout",
     "output_type": "stream",
     "text": [
      "Epoch 200, Loss 0.0385\n",
      "Training Accuracy: 0.9599, Testing Accuracy: 0.9667\n",
      "\n"
     ]
    },
    {
     "name": "stdout",
     "output_type": "stream",
     "text": [
      "Epoch 210, Loss 0.0381\n",
      "Training Accuracy: 0.9599, Testing Accuracy: 0.9672\n",
      "\n"
     ]
    },
    {
     "name": "stdout",
     "output_type": "stream",
     "text": [
      "Epoch 220, Loss 0.0377\n",
      "Training Accuracy: 0.9604, Testing Accuracy: 0.9672\n",
      "\n"
     ]
    },
    {
     "name": "stdout",
     "output_type": "stream",
     "text": [
      "Epoch 230, Loss 0.0373\n",
      "Training Accuracy: 0.9605, Testing Accuracy: 0.9672\n",
      "\n"
     ]
    },
    {
     "name": "stdout",
     "output_type": "stream",
     "text": [
      "Epoch 240, Loss 0.0369\n",
      "Training Accuracy: 0.9608, Testing Accuracy: 0.9667\n",
      "\n"
     ]
    },
    {
     "data": {
      "text/plain": [
       "0.044785844056926774"
      ]
     },
     "execution_count": 23,
     "metadata": {},
     "output_type": "execute_result"
    }
   ],
   "source": [
    "lr_learner.train_loop(dl)"
   ]
  },
  {
   "cell_type": "code",
   "execution_count": 24,
   "id": "ca410940",
   "metadata": {
    "execution": {
     "iopub.execute_input": "2022-09-20T20:19:02.428388Z",
     "iopub.status.busy": "2022-09-20T20:19:02.427543Z",
     "iopub.status.idle": "2022-09-20T20:19:02.633600Z",
     "shell.execute_reply": "2022-09-20T20:19:02.634098Z"
    },
    "papermill": {
     "duration": 0.24736,
     "end_time": "2022-09-20T20:19:02.634211",
     "exception": false,
     "start_time": "2022-09-20T20:19:02.386851",
     "status": "completed"
    },
    "tags": []
   },
   "outputs": [
    {
     "data": {
      "text/plain": [
       "<matplotlib.legend.Legend at 0x7faab928f3c8>"
      ]
     },
     "execution_count": 24,
     "metadata": {},
     "output_type": "execute_result"
    },
    {
     "data": {
      "image/png": "[encoded data removed]",
      "text/plain": [
       "<Figure size 1080x720 with 1 Axes>"
      ]
     },
     "metadata": {
      "needs_background": "light"
     },
     "output_type": "display_data"
    }
   ],
   "source": [
    "#comparing the results of NN and LR\n",
    "plt.figure(figsize=(15,10))\n",
    "\n",
    "# Neural Network plots\n",
    "plt.plot(acc_nn.accuracies, 'r-', label = \"Training Accuracies - NN\")\n",
    "plt.plot(acc_nn.test_accuracies, 'g-', label = \"Testing Accuracies - NN\")\n",
    "\n",
    "# Logistic Regression plots\n",
    "plt.plot(acc_lr.accuracies, 'k-', label = \"Training Accuracies - LR\")\n",
    "plt.plot(acc_lr.test_accuracies, 'b-', label = \"Testing Accuracies - LR\")\n",
    "plt.legend()"
   ]
  },
  {
   "cell_type": "markdown",
   "id": "80dfb35c",
   "metadata": {
    "papermill": {
     "duration": 0.037282,
     "end_time": "2022-09-20T20:19:02.708691",
     "exception": false,
     "start_time": "2022-09-20T20:19:02.671409",
     "status": "completed"
    },
    "tags": []
   },
   "source": [
    "#### Plotting the outputs of this layer of the NN.\n"
   ]
  },
  {
   "cell_type": "code",
   "execution_count": 25,
   "id": "45eb2ff5",
   "metadata": {
    "execution": {
     "iopub.execute_input": "2022-09-20T20:19:02.811412Z",
     "iopub.status.busy": "2022-09-20T20:19:02.810568Z",
     "iopub.status.idle": "2022-09-20T20:19:02.863993Z",
     "shell.execute_reply": "2022-09-20T20:19:02.865419Z"
    },
    "papermill": {
     "duration": 0.119718,
     "end_time": "2022-09-20T20:19:02.865676",
     "exception": false,
     "start_time": "2022-09-20T20:19:02.745958",
     "status": "completed"
    },
    "tags": []
   },
   "outputs": [],
   "source": [
    "new_model = Model(layers[:-2])\n",
    "testing_plot = new_model(testing_data_x)"
   ]
  },
  {
   "cell_type": "code",
   "execution_count": 26,
   "id": "4c0a5485",
   "metadata": {
    "execution": {
     "iopub.execute_input": "2022-09-20T20:19:03.002178Z",
     "iopub.status.busy": "2022-09-20T20:19:03.001308Z",
     "iopub.status.idle": "2022-09-20T20:19:03.175656Z",
     "shell.execute_reply": "2022-09-20T20:19:03.175250Z"
    },
    "papermill": {
     "duration": 0.218717,
     "end_time": "2022-09-20T20:19:03.175757",
     "exception": false,
     "start_time": "2022-09-20T20:19:02.957040",
     "status": "completed"
    },
    "tags": []
   },
   "outputs": [
    {
     "data": {
      "text/plain": [
       "Text(0.5, 1.0, 'Outputs')"
      ]
     },
     "execution_count": 26,
     "metadata": {},
     "output_type": "execute_result"
    },
    {
     "data": {
      "image/png": "[encoded data removed]",
      "text/plain": [
       "<Figure size 576x504 with 1 Axes>"
      ]
     },
     "metadata": {
      "needs_background": "light"
     },
     "output_type": "display_data"
    }
   ],
   "source": [
    "# Plotting the scatter plot of points and color coding by class\n",
    "plt.figure(figsize=(8,7))\n",
    "plt.scatter(testing_plot[:,0], testing_plot[:,1], alpha = 0.1, c = y_test.ravel());\n",
    "plt.title('Outputs')"
   ]
  },
  {
   "cell_type": "markdown",
   "id": "a74fcf8f",
   "metadata": {
    "papermill": {
     "duration": 0.039029,
     "end_time": "2022-09-20T20:19:03.254626",
     "exception": false,
     "start_time": "2022-09-20T20:19:03.215597",
     "status": "completed"
    },
    "tags": []
   },
   "source": [
    "Probability contours"
   ]
  },
  {
   "cell_type": "code",
   "execution_count": 27,
   "id": "d0afc8e3",
   "metadata": {
    "execution": {
     "iopub.execute_input": "2022-09-20T20:19:03.337918Z",
     "iopub.status.busy": "2022-09-20T20:19:03.337055Z",
     "iopub.status.idle": "2022-09-20T20:19:03.348109Z",
     "shell.execute_reply": "2022-09-20T20:19:03.347727Z"
    },
    "papermill": {
     "duration": 0.054473,
     "end_time": "2022-09-20T20:19:03.348203",
     "exception": false,
     "start_time": "2022-09-20T20:19:03.293730",
     "status": "completed"
    },
    "tags": []
   },
   "outputs": [],
   "source": [
    "model_prob = Model(layers[-2:]) "
   ]
  },
  {
   "cell_type": "code",
   "execution_count": 28,
   "id": "9b96e238",
   "metadata": {
    "execution": {
     "iopub.execute_input": "2022-09-20T20:19:03.430724Z",
     "iopub.status.busy": "2022-09-20T20:19:03.429879Z",
     "iopub.status.idle": "2022-09-20T20:19:03.442958Z",
     "shell.execute_reply": "2022-09-20T20:19:03.443326Z"
    },
    "papermill": {
     "duration": 0.056449,
     "end_time": "2022-09-20T20:19:03.443440",
     "exception": false,
     "start_time": "2022-09-20T20:19:03.386991",
     "status": "completed"
    },
    "tags": []
   },
   "outputs": [],
   "source": [
    "#creating the x and y ranges according to the above generated plot.\n",
    "x_range = np.linspace(-4, 1, 100) \n",
    "y_range = np.linspace(-6, 6, 100) \n",
    "x_grid, y_grid = np.meshgrid(x_range, y_range) # x_grid and y_grig are of size 100 X 100\n",
    "\n",
    "# converting x_grid and y_grid to continuous arrays\n",
    "x_gridflat = np.ravel(x_grid)\n",
    "y_gridflat = np.ravel(y_grid)\n",
    "\n",
    "# The last layer of the current model takes two columns as input. Hence transpose of np.vstack() is required.\n",
    "X = np.vstack((x_gridflat, y_gridflat)).T\n",
    "\n",
    "prob_contour = model_prob(X).reshape(100,100) "
   ]
  },
  {
   "cell_type": "code",
   "execution_count": 29,
   "id": "da72499a",
   "metadata": {
    "execution": {
     "iopub.execute_input": "2022-09-20T20:19:03.594579Z",
     "iopub.status.busy": "2022-09-20T20:19:03.588985Z",
     "iopub.status.idle": "2022-09-20T20:19:03.856645Z",
     "shell.execute_reply": "2022-09-20T20:19:03.857045Z"
    },
    "papermill": {
     "duration": 0.319826,
     "end_time": "2022-09-20T20:19:03.857161",
     "exception": false,
     "start_time": "2022-09-20T20:19:03.537335",
     "status": "completed"
    },
    "tags": []
   },
   "outputs": [
    {
     "data": {
      "image/png": "[encoded data removed]",
      "text/plain": [
       "<Figure size 720x648 with 1 Axes>"
      ]
     },
     "metadata": {
      "needs_background": "light"
     },
     "output_type": "display_data"
    }
   ],
   "source": [
    "plt.figure(figsize=(10,9))\n",
    "plt.scatter(testing_plot[:,0], testing_plot[:,1], alpha = 0.1, c = y_test.ravel())\n",
    "contours = plt.contour(x_grid,y_grid,prob_contour)\n",
    "plt.title('Probability Contours')\n",
    "plt.clabel(contours, inline = True );"
   ]
  },
  {
   "cell_type": "code",
   "execution_count": null,
   "id": "e81b4ac7",
   "metadata": {
    "papermill": {
     "duration": 0.041309,
     "end_time": "2022-09-20T20:19:03.939729",
     "exception": false,
     "start_time": "2022-09-20T20:19:03.898420",
     "status": "completed"
    },
    "tags": []
   },
   "outputs": [],
   "source": []
  }
 ],
 "metadata": {
  "kernelspec": {
   "display_name": "Python 3",
   "language": "python",
   "name": "python3"
  },
  "language_info": {
   "codemirror_mode": {
    "name": "ipython",
    "version": 3
   },
   "file_extension": ".py",
   "mimetype": "text/x-python",
   "name": "python",
   "nbconvert_exporter": "python",
   "pygments_lexer": "ipython3",
   "version": "3.6.15"
  },
  "papermill": {
   "default_parameters": {},
   "duration": 336.552528,
   "end_time": "2022-09-20T20:19:04.299518",
   "environment_variables": {},
   "exception": null,
   "input_path": "2020-08-11-part2.ipynb",
   "output_path": "2020-08-11-part2.ipynb",
   "parameters": {},
   "start_time": "2022-09-20T20:13:27.746990",
   "version": "2.3.3"
  }
 },
 "nbformat": 4,
 "nbformat_minor": 5
}