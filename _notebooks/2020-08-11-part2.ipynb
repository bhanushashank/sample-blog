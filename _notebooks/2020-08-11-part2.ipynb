{
 "cells": [
  {
   "cell_type": "markdown",
   "id": "98380cd3",
   "metadata": {
    "papermill": {
     "duration": 0.029448,
     "end_time": "2022-05-22T00:37:46.903600",
     "exception": false,
     "start_time": "2022-05-22T00:37:46.874152",
     "status": "completed"
    },
    "tags": []
   },
   "source": [
    "# Distinguish Your Own Digits (DYOD)"
   ]
  },
  {
   "cell_type": "markdown",
   "id": "ef31240d",
   "metadata": {
    "papermill": {
     "duration": 0.023628,
     "end_time": "2022-05-22T00:37:46.951574",
     "exception": false,
     "start_time": "2022-05-22T00:37:46.927946",
     "status": "completed"
    },
    "tags": []
   },
   "source": [
    "You are going to write a classifier that distinguishes between the number 3 and number 8."
   ]
  },
  {
   "cell_type": "code",
   "execution_count": 1,
   "id": "b15c8646",
   "metadata": {
    "execution": {
     "iopub.execute_input": "2022-05-22T00:37:47.009864Z",
     "iopub.status.busy": "2022-05-22T00:37:47.009239Z",
     "iopub.status.idle": "2022-05-22T00:37:47.020227Z",
     "shell.execute_reply": "2022-05-22T00:37:47.019727Z"
    },
    "papermill": {
     "duration": 0.045092,
     "end_time": "2022-05-22T00:37:47.020357",
     "exception": false,
     "start_time": "2022-05-22T00:37:46.975265",
     "status": "completed"
    },
    "tags": []
   },
   "outputs": [],
   "source": [
    "%load_ext autoreload\n",
    "%autoreload 2"
   ]
  },
  {
   "cell_type": "code",
   "execution_count": 2,
   "id": "22ef38dc",
   "metadata": {
    "execution": {
     "iopub.execute_input": "2022-05-22T00:37:47.073559Z",
     "iopub.status.busy": "2022-05-22T00:37:47.072943Z",
     "iopub.status.idle": "2022-05-22T00:37:47.599191Z",
     "shell.execute_reply": "2022-05-22T00:37:47.598643Z"
    },
    "papermill": {
     "duration": 0.555218,
     "end_time": "2022-05-22T00:37:47.599324",
     "exception": false,
     "start_time": "2022-05-22T00:37:47.044106",
     "status": "completed"
    },
    "tags": []
   },
   "outputs": [],
   "source": [
    "%matplotlib inline\n",
    "import numpy as np\n",
    "import matplotlib.pyplot as plt\n",
    "import pandas as pd"
   ]
  },
  {
   "cell_type": "markdown",
   "id": "ba036198",
   "metadata": {
    "papermill": {
     "duration": 0.023705,
     "end_time": "2022-05-22T00:37:47.646862",
     "exception": false,
     "start_time": "2022-05-22T00:37:47.623157",
     "status": "completed"
    },
    "tags": []
   },
   "source": [
    "From the command line run `pip install mnist`. This is a library that will help you bring down the mnist dataset. If you run this from a notebook, you need to put  `!pip install mnist` in a cell by itself."
   ]
  },
  {
   "cell_type": "code",
   "execution_count": 3,
   "id": "bb6ad8a1",
   "metadata": {
    "execution": {
     "iopub.execute_input": "2022-05-22T00:37:47.698390Z",
     "iopub.status.busy": "2022-05-22T00:37:47.697823Z",
     "iopub.status.idle": "2022-05-22T00:37:49.348423Z",
     "shell.execute_reply": "2022-05-22T00:37:49.347875Z"
    },
    "papermill": {
     "duration": 1.677962,
     "end_time": "2022-05-22T00:37:49.348548",
     "exception": false,
     "start_time": "2022-05-22T00:37:47.670586",
     "status": "completed"
    },
    "tags": []
   },
   "outputs": [
    {
     "name": "stdout",
     "output_type": "stream",
     "text": [
      "Collecting mnist\r\n",
      "  Downloading mnist-0.2.2-py2.py3-none-any.whl (3.5 kB)\r\n",
      "Requirement already satisfied: numpy in /opt/hostedtoolcache/Python/3.6.15/x64/lib/python3.6/site-packages (from mnist) (1.19.5)\r\n"
     ]
    },
    {
     "name": "stdout",
     "output_type": "stream",
     "text": [
      "Installing collected packages: mnist\r\n"
     ]
    },
    {
     "name": "stdout",
     "output_type": "stream",
     "text": [
      "Successfully installed mnist-0.2.2\r\n"
     ]
    }
   ],
   "source": [
    "!pip install mnist"
   ]
  },
  {
   "cell_type": "markdown",
   "id": "69df9c9a",
   "metadata": {
    "papermill": {
     "duration": 0.024562,
     "end_time": "2022-05-22T00:37:49.397991",
     "exception": false,
     "start_time": "2022-05-22T00:37:49.373429",
     "status": "completed"
    },
    "tags": []
   },
   "source": [
    "## Preparing the Data"
   ]
  },
  {
   "cell_type": "code",
   "execution_count": 4,
   "id": "7f69d806",
   "metadata": {
    "execution": {
     "iopub.execute_input": "2022-05-22T00:37:49.462415Z",
     "iopub.status.busy": "2022-05-22T00:37:49.450053Z",
     "iopub.status.idle": "2022-05-22T00:37:49.467813Z",
     "shell.execute_reply": "2022-05-22T00:37:49.468256Z"
    },
    "papermill": {
     "duration": 0.046054,
     "end_time": "2022-05-22T00:37:49.468379",
     "exception": false,
     "start_time": "2022-05-22T00:37:49.422325",
     "status": "completed"
    },
    "tags": []
   },
   "outputs": [],
   "source": [
    "import mnist"
   ]
  },
  {
   "cell_type": "code",
   "execution_count": 5,
   "id": "a411e44f",
   "metadata": {
    "execution": {
     "iopub.execute_input": "2022-05-22T00:37:49.530000Z",
     "iopub.status.busy": "2022-05-22T00:37:49.519764Z",
     "iopub.status.idle": "2022-05-22T00:37:50.034033Z",
     "shell.execute_reply": "2022-05-22T00:37:50.033431Z"
    },
    "papermill": {
     "duration": 0.541429,
     "end_time": "2022-05-22T00:37:50.034182",
     "exception": false,
     "start_time": "2022-05-22T00:37:49.492753",
     "status": "completed"
    },
    "tags": []
   },
   "outputs": [],
   "source": [
    "train_images = mnist.train_images()\n",
    "train_labels = mnist.train_labels()"
   ]
  },
  {
   "cell_type": "code",
   "execution_count": 6,
   "id": "dceab3a5",
   "metadata": {
    "execution": {
     "iopub.execute_input": "2022-05-22T00:37:50.087964Z",
     "iopub.status.busy": "2022-05-22T00:37:50.087389Z",
     "iopub.status.idle": "2022-05-22T00:37:50.101958Z",
     "shell.execute_reply": "2022-05-22T00:37:50.102430Z"
    },
    "papermill": {
     "duration": 0.043173,
     "end_time": "2022-05-22T00:37:50.102550",
     "exception": false,
     "start_time": "2022-05-22T00:37:50.059377",
     "status": "completed"
    },
    "tags": []
   },
   "outputs": [
    {
     "data": {
      "text/plain": [
       "((60000, 28, 28), (60000,))"
      ]
     },
     "execution_count": 6,
     "metadata": {},
     "output_type": "execute_result"
    }
   ],
   "source": [
    "train_images.shape, train_labels.shape"
   ]
  },
  {
   "cell_type": "code",
   "execution_count": 7,
   "id": "f50dc2bb",
   "metadata": {
    "execution": {
     "iopub.execute_input": "2022-05-22T00:37:50.155158Z",
     "iopub.status.busy": "2022-05-22T00:37:50.154601Z",
     "iopub.status.idle": "2022-05-22T00:37:50.259884Z",
     "shell.execute_reply": "2022-05-22T00:37:50.259254Z"
    },
    "papermill": {
     "duration": 0.132866,
     "end_time": "2022-05-22T00:37:50.260018",
     "exception": false,
     "start_time": "2022-05-22T00:37:50.127152",
     "status": "completed"
    },
    "tags": []
   },
   "outputs": [],
   "source": [
    "test_images = mnist.test_images()\n",
    "test_labels = mnist.test_labels()"
   ]
  },
  {
   "cell_type": "code",
   "execution_count": 8,
   "id": "fc38cf1b",
   "metadata": {
    "execution": {
     "iopub.execute_input": "2022-05-22T00:37:50.313517Z",
     "iopub.status.busy": "2022-05-22T00:37:50.312919Z",
     "iopub.status.idle": "2022-05-22T00:37:50.326493Z",
     "shell.execute_reply": "2022-05-22T00:37:50.327040Z"
    },
    "papermill": {
     "duration": 0.041884,
     "end_time": "2022-05-22T00:37:50.327162",
     "exception": false,
     "start_time": "2022-05-22T00:37:50.285278",
     "status": "completed"
    },
    "tags": []
   },
   "outputs": [
    {
     "data": {
      "text/plain": [
       "((10000, 28, 28), (10000,))"
      ]
     },
     "execution_count": 8,
     "metadata": {},
     "output_type": "execute_result"
    }
   ],
   "source": [
    "test_images.shape, test_labels.shape"
   ]
  },
  {
   "cell_type": "code",
   "execution_count": 9,
   "id": "f9ed8fe0",
   "metadata": {
    "execution": {
     "iopub.execute_input": "2022-05-22T00:37:50.389921Z",
     "iopub.status.busy": "2022-05-22T00:37:50.387289Z",
     "iopub.status.idle": "2022-05-22T00:37:50.521273Z",
     "shell.execute_reply": "2022-05-22T00:37:50.520755Z"
    },
    "papermill": {
     "duration": 0.169433,
     "end_time": "2022-05-22T00:37:50.521395",
     "exception": false,
     "start_time": "2022-05-22T00:37:50.351962",
     "status": "completed"
    },
    "tags": []
   },
   "outputs": [
    {
     "name": "stdout",
     "output_type": "stream",
     "text": [
      "2\n"
     ]
    },
    {
     "data": {
      "text/plain": [
       "<matplotlib.image.AxesImage at 0x7fef4fc54f98>"
      ]
     },
     "execution_count": 9,
     "metadata": {},
     "output_type": "execute_result"
    },
    {
     "data": {
      "image/png": "[encoded data removed]",
      "text/plain": [
       "<Figure size 432x288 with 1 Axes>"
      ]
     },
     "metadata": {
      "needs_background": "light"
     },
     "output_type": "display_data"
    }
   ],
   "source": [
    "image_index = 7776 # You may select anything up to 60,000\n",
    "print(train_labels[image_index]) \n",
    "plt.imshow(train_images[image_index], cmap='Greys')"
   ]
  },
  {
   "cell_type": "markdown",
   "id": "a8d2388d",
   "metadata": {
    "papermill": {
     "duration": 0.026161,
     "end_time": "2022-05-22T00:37:50.573967",
     "exception": false,
     "start_time": "2022-05-22T00:37:50.547806",
     "status": "completed"
    },
    "tags": []
   },
   "source": [
    "## Filter data to get 3 and 8 out"
   ]
  },
  {
   "cell_type": "code",
   "execution_count": 10,
   "id": "776f7fc7",
   "metadata": {
    "execution": {
     "iopub.execute_input": "2022-05-22T00:37:50.630316Z",
     "iopub.status.busy": "2022-05-22T00:37:50.629732Z",
     "iopub.status.idle": "2022-05-22T00:37:50.649486Z",
     "shell.execute_reply": "2022-05-22T00:37:50.648921Z"
    },
    "papermill": {
     "duration": 0.049622,
     "end_time": "2022-05-22T00:37:50.649610",
     "exception": false,
     "start_time": "2022-05-22T00:37:50.599988",
     "status": "completed"
    },
    "tags": []
   },
   "outputs": [],
   "source": [
    "train_filter = np.where((train_labels == 3 ) | (train_labels == 8))\n",
    "test_filter = np.where((test_labels == 3) | (test_labels == 8))\n",
    "X_train, y_train = train_images[train_filter], train_labels[train_filter]\n",
    "X_test, y_test = test_images[test_filter], test_labels[test_filter]"
   ]
  },
  {
   "cell_type": "markdown",
   "id": "948f0b7e",
   "metadata": {
    "papermill": {
     "duration": 0.026132,
     "end_time": "2022-05-22T00:37:50.702867",
     "exception": false,
     "start_time": "2022-05-22T00:37:50.676735",
     "status": "completed"
    },
    "tags": []
   },
   "source": [
    "We normalize the pizel values in the 0 to 1 range"
   ]
  },
  {
   "cell_type": "code",
   "execution_count": 11,
   "id": "ee4c2166",
   "metadata": {
    "execution": {
     "iopub.execute_input": "2022-05-22T00:37:50.774066Z",
     "iopub.status.busy": "2022-05-22T00:37:50.769089Z",
     "iopub.status.idle": "2022-05-22T00:37:50.809700Z",
     "shell.execute_reply": "2022-05-22T00:37:50.809138Z"
    },
    "papermill": {
     "duration": 0.080959,
     "end_time": "2022-05-22T00:37:50.809829",
     "exception": false,
     "start_time": "2022-05-22T00:37:50.728870",
     "status": "completed"
    },
    "tags": []
   },
   "outputs": [],
   "source": [
    "X_train = X_train/255.\n",
    "X_test = X_test/255."
   ]
  },
  {
   "cell_type": "markdown",
   "id": "ddcf4fab",
   "metadata": {
    "papermill": {
     "duration": 0.026077,
     "end_time": "2022-05-22T00:37:50.862464",
     "exception": false,
     "start_time": "2022-05-22T00:37:50.836387",
     "status": "completed"
    },
    "tags": []
   },
   "source": [
    "And setup the labels as 1 (when the digit is 3) and 0 (when the digit is 8)"
   ]
  },
  {
   "cell_type": "code",
   "execution_count": 12,
   "id": "7dc908f2",
   "metadata": {
    "execution": {
     "iopub.execute_input": "2022-05-22T00:37:50.918500Z",
     "iopub.status.busy": "2022-05-22T00:37:50.917931Z",
     "iopub.status.idle": "2022-05-22T00:37:50.930706Z",
     "shell.execute_reply": "2022-05-22T00:37:50.930231Z"
    },
    "papermill": {
     "duration": 0.042339,
     "end_time": "2022-05-22T00:37:50.930818",
     "exception": false,
     "start_time": "2022-05-22T00:37:50.888479",
     "status": "completed"
    },
    "tags": []
   },
   "outputs": [],
   "source": [
    "y_train = 1*(y_train==3)\n",
    "y_test = 1*(y_test==3)"
   ]
  },
  {
   "cell_type": "code",
   "execution_count": 13,
   "id": "01e4e969",
   "metadata": {
    "execution": {
     "iopub.execute_input": "2022-05-22T00:37:50.990425Z",
     "iopub.status.busy": "2022-05-22T00:37:50.989861Z",
     "iopub.status.idle": "2022-05-22T00:37:51.001109Z",
     "shell.execute_reply": "2022-05-22T00:37:51.000645Z"
    },
    "papermill": {
     "duration": 0.044301,
     "end_time": "2022-05-22T00:37:51.001235",
     "exception": false,
     "start_time": "2022-05-22T00:37:50.956934",
     "status": "completed"
    },
    "tags": []
   },
   "outputs": [
    {
     "data": {
      "text/plain": [
       "((11982, 28, 28), (1984, 28, 28))"
      ]
     },
     "execution_count": 13,
     "metadata": {},
     "output_type": "execute_result"
    }
   ],
   "source": [
    "X_train.shape, X_test.shape"
   ]
  },
  {
   "cell_type": "markdown",
   "id": "5ccf3f85",
   "metadata": {
    "papermill": {
     "duration": 0.02617,
     "end_time": "2022-05-22T00:37:51.053499",
     "exception": false,
     "start_time": "2022-05-22T00:37:51.027329",
     "status": "completed"
    },
    "tags": []
   },
   "source": [
    "We reshape the data to flatten the image pixels into a set of features or co-variates:"
   ]
  },
  {
   "cell_type": "code",
   "execution_count": 14,
   "id": "5286a4a3",
   "metadata": {
    "execution": {
     "iopub.execute_input": "2022-05-22T00:37:51.122709Z",
     "iopub.status.busy": "2022-05-22T00:37:51.122112Z",
     "iopub.status.idle": "2022-05-22T00:37:51.130401Z",
     "shell.execute_reply": "2022-05-22T00:37:51.129924Z"
    },
    "papermill": {
     "duration": 0.050394,
     "end_time": "2022-05-22T00:37:51.130517",
     "exception": false,
     "start_time": "2022-05-22T00:37:51.080123",
     "status": "completed"
    },
    "tags": []
   },
   "outputs": [
    {
     "data": {
      "text/plain": [
       "((11982, 784), (1984, 784))"
      ]
     },
     "execution_count": 14,
     "metadata": {},
     "output_type": "execute_result"
    }
   ],
   "source": [
    "X_train = X_train.reshape(X_train.shape[0], -1)\n",
    "X_test = X_test.reshape(X_test.shape[0], -1)\n",
    "X_train.shape, X_test.shape"
   ]
  },
  {
   "cell_type": "code",
   "execution_count": 15,
   "id": "73c5f88a",
   "metadata": {
    "execution": {
     "iopub.execute_input": "2022-05-22T00:37:51.191481Z",
     "iopub.status.busy": "2022-05-22T00:37:51.187325Z",
     "iopub.status.idle": "2022-05-22T00:37:51.207728Z",
     "shell.execute_reply": "2022-05-22T00:37:51.207253Z"
    },
    "papermill": {
     "duration": 0.050935,
     "end_time": "2022-05-22T00:37:51.207847",
     "exception": false,
     "start_time": "2022-05-22T00:37:51.156912",
     "status": "completed"
    },
    "tags": []
   },
   "outputs": [],
   "source": [
    "#Impoting functions from 'Kudzu'\n",
    "from kudzu.model import Model\n",
    "from kudzu.train import Learner\n",
    "from kudzu.optim import GD\n",
    "from kudzu.data import Data, Sampler,Dataloader\n",
    "\n",
    "from kudzu.callbacks import AccCallback\n",
    "from kudzu.callbacks import ClfCallback\n",
    "\n",
    "from kudzu.loss import MSE\n",
    "\n",
    "from kudzu.layer import Sigmoid,Relu\n",
    "from kudzu.layer import Affine"
   ]
  },
  {
   "cell_type": "markdown",
   "id": "bc01172a",
   "metadata": {
    "papermill": {
     "duration": 0.026584,
     "end_time": "2022-05-22T00:37:51.261842",
     "exception": false,
     "start_time": "2022-05-22T00:37:51.235258",
     "status": "completed"
    },
    "tags": []
   },
   "source": [
    "### Let us create a `Config` class, to store important parameters. \n",
    "This class essentially plays the role of a dictionary."
   ]
  },
  {
   "cell_type": "code",
   "execution_count": 16,
   "id": "978281aa",
   "metadata": {
    "execution": {
     "iopub.execute_input": "2022-05-22T00:37:51.319705Z",
     "iopub.status.busy": "2022-05-22T00:37:51.319118Z",
     "iopub.status.idle": "2022-05-22T00:37:51.331933Z",
     "shell.execute_reply": "2022-05-22T00:37:51.331460Z"
    },
    "papermill": {
     "duration": 0.043677,
     "end_time": "2022-05-22T00:37:51.332046",
     "exception": false,
     "start_time": "2022-05-22T00:37:51.288369",
     "status": "completed"
    },
    "tags": []
   },
   "outputs": [],
   "source": [
    "class Config:\n",
    "    pass\n",
    "config = Config()\n",
    "config.lr = 0.001\n",
    "config.num_epochs = 250\n",
    "config.bs = 50"
   ]
  },
  {
   "cell_type": "markdown",
   "id": "1385fa59",
   "metadata": {
    "papermill": {
     "duration": 0.026413,
     "end_time": "2022-05-22T00:37:51.385019",
     "exception": false,
     "start_time": "2022-05-22T00:37:51.358606",
     "status": "completed"
    },
    "tags": []
   },
   "source": [
    "### Running Models with the Training data\n",
    "Details about the network layers:\n",
    "- A first affine layer has 784 inputs and does 100 affine transforms. These are followed by a Relu\n",
    "- A second affine layer has 100 inputs from the 100 activations of the past layer, and does 100 affine transforms. These are followed by a Relu\n",
    "- A third affine layer has 100 activations and does 2 affine transformations to create an embedding for visualization. There is no non-linearity here.\n",
    "- A final \"logistic regression\" which has an affine transform from 2 inputs to 1 output, which is squeezed through a sigmoid.\n"
   ]
  },
  {
   "cell_type": "code",
   "execution_count": 17,
   "id": "2b9c66db",
   "metadata": {
    "execution": {
     "iopub.execute_input": "2022-05-22T00:37:51.442275Z",
     "iopub.status.busy": "2022-05-22T00:37:51.441704Z",
     "iopub.status.idle": "2022-05-22T00:37:51.454554Z",
     "shell.execute_reply": "2022-05-22T00:37:51.455027Z"
    },
    "papermill": {
     "duration": 0.043673,
     "end_time": "2022-05-22T00:37:51.455152",
     "exception": false,
     "start_time": "2022-05-22T00:37:51.411479",
     "status": "completed"
    },
    "tags": []
   },
   "outputs": [],
   "source": [
    "data = Data(X_train, y_train.reshape(-1,1))\n",
    "sampler = Sampler(data, config.bs, shuffle=True)\n",
    "\n",
    "dl = Dataloader(data, sampler)\n",
    "\n",
    "opt = GD(config.lr)\n",
    "loss = MSE()"
   ]
  },
  {
   "cell_type": "code",
   "execution_count": 18,
   "id": "b275e4c2",
   "metadata": {
    "execution": {
     "iopub.execute_input": "2022-05-22T00:37:51.510569Z",
     "iopub.status.busy": "2022-05-22T00:37:51.510007Z",
     "iopub.status.idle": "2022-05-22T00:37:51.523513Z",
     "shell.execute_reply": "2022-05-22T00:37:51.522956Z"
    },
    "papermill": {
     "duration": 0.041986,
     "end_time": "2022-05-22T00:37:51.523616",
     "exception": false,
     "start_time": "2022-05-22T00:37:51.481630",
     "status": "completed"
    },
    "tags": []
   },
   "outputs": [],
   "source": [
    "training_data_x = X_train\n",
    "testing_data_x = X_test\n",
    "training_data_y = y_train.reshape(-1,1)\n",
    "testing_data_y = y_test.reshape(-1,1)"
   ]
  },
  {
   "cell_type": "code",
   "execution_count": 19,
   "id": "76951160",
   "metadata": {
    "execution": {
     "iopub.execute_input": "2022-05-22T00:37:51.584587Z",
     "iopub.status.busy": "2022-05-22T00:37:51.584014Z",
     "iopub.status.idle": "2022-05-22T00:37:51.597191Z",
     "shell.execute_reply": "2022-05-22T00:37:51.597673Z"
    },
    "papermill": {
     "duration": 0.047764,
     "end_time": "2022-05-22T00:37:51.597796",
     "exception": false,
     "start_time": "2022-05-22T00:37:51.550032",
     "status": "completed"
    },
    "tags": []
   },
   "outputs": [
    {
     "name": "stdout",
     "output_type": "stream",
     "text": [
      "xavier\n",
      "xavier\n",
      "xavier\n",
      "xavier\n",
      "xavier\n"
     ]
    }
   ],
   "source": [
    "layers = [Affine(\"first\", 784, 100), Relu(\"first\"), Affine(\"second\", 100, 100), Relu(\"second\"), Affine(\"third\", 100, 2), Affine(\"last\", 2, 1), Sigmoid(\"last\")]\n",
    "model_nn = Model(layers)\n",
    "model_lr = Model([Affine(\"logits\", 784, 1), Sigmoid(\"sigmoid\")])"
   ]
  },
  {
   "cell_type": "code",
   "execution_count": 20,
   "id": "6eede77a",
   "metadata": {
    "execution": {
     "iopub.execute_input": "2022-05-22T00:37:51.655239Z",
     "iopub.status.busy": "2022-05-22T00:37:51.654672Z",
     "iopub.status.idle": "2022-05-22T00:37:51.666945Z",
     "shell.execute_reply": "2022-05-22T00:37:51.667365Z"
    },
    "papermill": {
     "duration": 0.042979,
     "end_time": "2022-05-22T00:37:51.667492",
     "exception": false,
     "start_time": "2022-05-22T00:37:51.624513",
     "status": "completed"
    },
    "tags": []
   },
   "outputs": [],
   "source": [
    "nn_learner = Learner(loss, model_nn, opt, config.num_epochs)\n",
    "acc_nn = ClfCallback(nn_learner, config.bs, training_data_x , testing_data_x, training_data_y, testing_data_y)\n",
    "nn_learner.set_callbacks([acc_nn])"
   ]
  },
  {
   "cell_type": "code",
   "execution_count": 21,
   "id": "877b6cc7",
   "metadata": {
    "execution": {
     "iopub.execute_input": "2022-05-22T00:37:51.724546Z",
     "iopub.status.busy": "2022-05-22T00:37:51.723991Z",
     "iopub.status.idle": "2022-05-22T00:37:51.736838Z",
     "shell.execute_reply": "2022-05-22T00:37:51.736371Z"
    },
    "papermill": {
     "duration": 0.042693,
     "end_time": "2022-05-22T00:37:51.736942",
     "exception": false,
     "start_time": "2022-05-22T00:37:51.694249",
     "status": "completed"
    },
    "tags": []
   },
   "outputs": [],
   "source": [
    "lr_learner = Learner(loss, model_lr, opt, config.num_epochs)\n",
    "acc_lr = ClfCallback(lr_learner, config.bs, training_data_x , testing_data_x, training_data_y, testing_data_y)\n",
    "lr_learner.set_callbacks([acc_lr])"
   ]
  },
  {
   "cell_type": "code",
   "execution_count": 22,
   "id": "d9b133c3",
   "metadata": {
    "execution": {
     "iopub.execute_input": "2022-05-22T00:37:51.793512Z",
     "iopub.status.busy": "2022-05-22T00:37:51.792917Z",
     "iopub.status.idle": "2022-05-22T00:39:06.213546Z",
     "shell.execute_reply": "2022-05-22T00:39:06.214110Z"
    },
    "papermill": {
     "duration": 74.450653,
     "end_time": "2022-05-22T00:39:06.214255",
     "exception": false,
     "start_time": "2022-05-22T00:37:51.763602",
     "status": "completed"
    },
    "tags": []
   },
   "outputs": [
    {
     "name": "stdout",
     "output_type": "stream",
     "text": [
      "Epoch 0, Loss 0.2514\n",
      "Training Accuracy: 0.5326, Testing Accuracy: 0.5625\n",
      "\n"
     ]
    },
    {
     "name": "stdout",
     "output_type": "stream",
     "text": [
      "Epoch 10, Loss 0.1627\n",
      "Training Accuracy: 0.8714, Testing Accuracy: 0.8851\n",
      "\n"
     ]
    },
    {
     "name": "stdout",
     "output_type": "stream",
     "text": [
      "Epoch 20, Loss 0.0806\n",
      "Training Accuracy: 0.9173, Testing Accuracy: 0.9234\n",
      "\n"
     ]
    },
    {
     "name": "stdout",
     "output_type": "stream",
     "text": [
      "Epoch 30, Loss 0.0543\n",
      "Training Accuracy: 0.9416, Testing Accuracy: 0.9430\n",
      "\n"
     ]
    },
    {
     "name": "stdout",
     "output_type": "stream",
     "text": [
      "Epoch 40, Loss 0.0436\n",
      "Training Accuracy: 0.9518, Testing Accuracy: 0.9561\n",
      "\n"
     ]
    },
    {
     "name": "stdout",
     "output_type": "stream",
     "text": [
      "Epoch 50, Loss 0.0381\n",
      "Training Accuracy: 0.9573, Testing Accuracy: 0.9637\n",
      "\n"
     ]
    },
    {
     "name": "stdout",
     "output_type": "stream",
     "text": [
      "Epoch 60, Loss 0.0348\n",
      "Training Accuracy: 0.9598, Testing Accuracy: 0.9672\n",
      "\n"
     ]
    },
    {
     "name": "stdout",
     "output_type": "stream",
     "text": [
      "Epoch 70, Loss 0.0325\n",
      "Training Accuracy: 0.9615, Testing Accuracy: 0.9693\n",
      "\n"
     ]
    },
    {
     "name": "stdout",
     "output_type": "stream",
     "text": [
      "Epoch 80, Loss 0.0307\n",
      "Training Accuracy: 0.9632, Testing Accuracy: 0.9688\n",
      "\n"
     ]
    },
    {
     "name": "stdout",
     "output_type": "stream",
     "text": [
      "Epoch 90, Loss 0.0294\n",
      "Training Accuracy: 0.9649, Testing Accuracy: 0.9688\n",
      "\n"
     ]
    },
    {
     "name": "stdout",
     "output_type": "stream",
     "text": [
      "Epoch 100, Loss 0.0282\n",
      "Training Accuracy: 0.9662, Testing Accuracy: 0.9698\n",
      "\n"
     ]
    },
    {
     "name": "stdout",
     "output_type": "stream",
     "text": [
      "Epoch 110, Loss 0.0273\n",
      "Training Accuracy: 0.9679, Testing Accuracy: 0.9708\n",
      "\n"
     ]
    },
    {
     "name": "stdout",
     "output_type": "stream",
     "text": [
      "Epoch 120, Loss 0.0264\n",
      "Training Accuracy: 0.9689, Testing Accuracy: 0.9708\n",
      "\n"
     ]
    },
    {
     "name": "stdout",
     "output_type": "stream",
     "text": [
      "Epoch 130, Loss 0.0257\n",
      "Training Accuracy: 0.9698, Testing Accuracy: 0.9708\n",
      "\n"
     ]
    },
    {
     "name": "stdout",
     "output_type": "stream",
     "text": [
      "Epoch 140, Loss 0.025\n",
      "Training Accuracy: 0.9710, Testing Accuracy: 0.9713\n",
      "\n"
     ]
    },
    {
     "name": "stdout",
     "output_type": "stream",
     "text": [
      "Epoch 150, Loss 0.0244\n",
      "Training Accuracy: 0.9715, Testing Accuracy: 0.9713\n",
      "\n"
     ]
    },
    {
     "name": "stdout",
     "output_type": "stream",
     "text": [
      "Epoch 160, Loss 0.0238\n",
      "Training Accuracy: 0.9725, Testing Accuracy: 0.9718\n",
      "\n"
     ]
    },
    {
     "name": "stdout",
     "output_type": "stream",
     "text": [
      "Epoch 170, Loss 0.0233\n",
      "Training Accuracy: 0.9735, Testing Accuracy: 0.9708\n",
      "\n"
     ]
    },
    {
     "name": "stdout",
     "output_type": "stream",
     "text": [
      "Epoch 180, Loss 0.0228\n",
      "Training Accuracy: 0.9742, Testing Accuracy: 0.9708\n",
      "\n"
     ]
    },
    {
     "name": "stdout",
     "output_type": "stream",
     "text": [
      "Epoch 190, Loss 0.0223\n",
      "Training Accuracy: 0.9745, Testing Accuracy: 0.9713\n",
      "\n"
     ]
    },
    {
     "name": "stdout",
     "output_type": "stream",
     "text": [
      "Epoch 200, Loss 0.0219\n",
      "Training Accuracy: 0.9755, Testing Accuracy: 0.9713\n",
      "\n"
     ]
    },
    {
     "name": "stdout",
     "output_type": "stream",
     "text": [
      "Epoch 210, Loss 0.0215\n",
      "Training Accuracy: 0.9760, Testing Accuracy: 0.9713\n",
      "\n"
     ]
    },
    {
     "name": "stdout",
     "output_type": "stream",
     "text": [
      "Epoch 220, Loss 0.0211\n",
      "Training Accuracy: 0.9765, Testing Accuracy: 0.9718\n",
      "\n"
     ]
    },
    {
     "name": "stdout",
     "output_type": "stream",
     "text": [
      "Epoch 230, Loss 0.0208\n",
      "Training Accuracy: 0.9769, Testing Accuracy: 0.9718\n",
      "\n"
     ]
    },
    {
     "name": "stdout",
     "output_type": "stream",
     "text": [
      "Epoch 240, Loss 0.0204\n",
      "Training Accuracy: 0.9773, Testing Accuracy: 0.9718\n",
      "\n"
     ]
    },
    {
     "data": {
      "text/plain": [
       "0.00776919746655496"
      ]
     },
     "execution_count": 22,
     "metadata": {},
     "output_type": "execute_result"
    }
   ],
   "source": [
    "nn_learner.train_loop(dl)"
   ]
  },
  {
   "cell_type": "code",
   "execution_count": 23,
   "id": "e0163366",
   "metadata": {
    "execution": {
     "iopub.execute_input": "2022-05-22T00:39:06.286726Z",
     "iopub.status.busy": "2022-05-22T00:39:06.286162Z",
     "iopub.status.idle": "2022-05-22T00:39:19.642363Z",
     "shell.execute_reply": "2022-05-22T00:39:19.643230Z"
    },
    "papermill": {
     "duration": 13.394753,
     "end_time": "2022-05-22T00:39:19.643391",
     "exception": false,
     "start_time": "2022-05-22T00:39:06.248638",
     "status": "completed"
    },
    "tags": []
   },
   "outputs": [
    {
     "name": "stdout",
     "output_type": "stream",
     "text": [
      "Epoch 0, Loss 0.2392\n",
      "Training Accuracy: 0.6804, Testing Accuracy: 0.6860\n",
      "\n"
     ]
    },
    {
     "name": "stdout",
     "output_type": "stream",
     "text": [
      "Epoch 10, Loss 0.108\n",
      "Training Accuracy: 0.8972, Testing Accuracy: 0.9118\n",
      "\n"
     ]
    },
    {
     "name": "stdout",
     "output_type": "stream",
     "text": [
      "Epoch 20, Loss 0.0825\n",
      "Training Accuracy: 0.9210, Testing Accuracy: 0.9335\n",
      "\n"
     ]
    },
    {
     "name": "stdout",
     "output_type": "stream",
     "text": [
      "Epoch 30, Loss 0.0706\n",
      "Training Accuracy: 0.9315, Testing Accuracy: 0.9451\n",
      "\n"
     ]
    },
    {
     "name": "stdout",
     "output_type": "stream",
     "text": [
      "Epoch 40, Loss 0.0634\n",
      "Training Accuracy: 0.9382, Testing Accuracy: 0.9516\n",
      "\n"
     ]
    },
    {
     "name": "stdout",
     "output_type": "stream",
     "text": [
      "Epoch 50, Loss 0.0585\n",
      "Training Accuracy: 0.9427, Testing Accuracy: 0.9556\n",
      "\n"
     ]
    },
    {
     "name": "stdout",
     "output_type": "stream",
     "text": [
      "Epoch 60, Loss 0.0549\n",
      "Training Accuracy: 0.9448, Testing Accuracy: 0.9587\n",
      "\n"
     ]
    },
    {
     "name": "stdout",
     "output_type": "stream",
     "text": [
      "Epoch 70, Loss 0.0522\n",
      "Training Accuracy: 0.9477, Testing Accuracy: 0.9587\n",
      "\n"
     ]
    },
    {
     "name": "stdout",
     "output_type": "stream",
     "text": [
      "Epoch 80, Loss 0.05\n",
      "Training Accuracy: 0.9493, Testing Accuracy: 0.9597\n",
      "\n"
     ]
    },
    {
     "name": "stdout",
     "output_type": "stream",
     "text": [
      "Epoch 90, Loss 0.0482\n",
      "Training Accuracy: 0.9508, Testing Accuracy: 0.9617\n",
      "\n"
     ]
    },
    {
     "name": "stdout",
     "output_type": "stream",
     "text": [
      "Epoch 100, Loss 0.0467\n",
      "Training Accuracy: 0.9523, Testing Accuracy: 0.9632\n",
      "\n"
     ]
    },
    {
     "name": "stdout",
     "output_type": "stream",
     "text": [
      "Epoch 110, Loss 0.0454\n",
      "Training Accuracy: 0.9536, Testing Accuracy: 0.9627\n",
      "\n"
     ]
    },
    {
     "name": "stdout",
     "output_type": "stream",
     "text": [
      "Epoch 120, Loss 0.0443\n",
      "Training Accuracy: 0.9547, Testing Accuracy: 0.9632\n",
      "\n"
     ]
    },
    {
     "name": "stdout",
     "output_type": "stream",
     "text": [
      "Epoch 130, Loss 0.0433\n",
      "Training Accuracy: 0.9556, Testing Accuracy: 0.9642\n",
      "\n"
     ]
    },
    {
     "name": "stdout",
     "output_type": "stream",
     "text": [
      "Epoch 140, Loss 0.0424\n",
      "Training Accuracy: 0.9564, Testing Accuracy: 0.9647\n",
      "\n"
     ]
    },
    {
     "name": "stdout",
     "output_type": "stream",
     "text": [
      "Epoch 150, Loss 0.0417\n",
      "Training Accuracy: 0.9566, Testing Accuracy: 0.9652\n",
      "\n"
     ]
    },
    {
     "name": "stdout",
     "output_type": "stream",
     "text": [
      "Epoch 160, Loss 0.041\n",
      "Training Accuracy: 0.9573, Testing Accuracy: 0.9652\n",
      "\n"
     ]
    },
    {
     "name": "stdout",
     "output_type": "stream",
     "text": [
      "Epoch 170, Loss 0.0403\n",
      "Training Accuracy: 0.9579, Testing Accuracy: 0.9657\n",
      "\n"
     ]
    },
    {
     "name": "stdout",
     "output_type": "stream",
     "text": [
      "Epoch 180, Loss 0.0397\n",
      "Training Accuracy: 0.9584, Testing Accuracy: 0.9647\n",
      "\n"
     ]
    },
    {
     "name": "stdout",
     "output_type": "stream",
     "text": [
      "Epoch 190, Loss 0.0392\n",
      "Training Accuracy: 0.9589, Testing Accuracy: 0.9652\n",
      "\n"
     ]
    },
    {
     "name": "stdout",
     "output_type": "stream",
     "text": [
      "Epoch 200, Loss 0.0387\n",
      "Training Accuracy: 0.9593, Testing Accuracy: 0.9652\n",
      "\n"
     ]
    },
    {
     "name": "stdout",
     "output_type": "stream",
     "text": [
      "Epoch 210, Loss 0.0383\n",
      "Training Accuracy: 0.9594, Testing Accuracy: 0.9652\n",
      "\n"
     ]
    },
    {
     "name": "stdout",
     "output_type": "stream",
     "text": [
      "Epoch 220, Loss 0.0378\n",
      "Training Accuracy: 0.9599, Testing Accuracy: 0.9652\n",
      "\n"
     ]
    },
    {
     "name": "stdout",
     "output_type": "stream",
     "text": [
      "Epoch 230, Loss 0.0374\n",
      "Training Accuracy: 0.9603, Testing Accuracy: 0.9652\n",
      "\n"
     ]
    },
    {
     "name": "stdout",
     "output_type": "stream",
     "text": [
      "Epoch 240, Loss 0.0371\n",
      "Training Accuracy: 0.9603, Testing Accuracy: 0.9652\n",
      "\n"
     ]
    },
    {
     "data": {
      "text/plain": [
       "0.06549903836320263"
      ]
     },
     "execution_count": 23,
     "metadata": {},
     "output_type": "execute_result"
    }
   ],
   "source": [
    "lr_learner.train_loop(dl)"
   ]
  },
  {
   "cell_type": "code",
   "execution_count": 24,
   "id": "ca410940",
   "metadata": {
    "execution": {
     "iopub.execute_input": "2022-05-22T00:39:19.738640Z",
     "iopub.status.busy": "2022-05-22T00:39:19.738050Z",
     "iopub.status.idle": "2022-05-22T00:39:19.952008Z",
     "shell.execute_reply": "2022-05-22T00:39:19.952761Z"
    },
    "papermill": {
     "duration": 0.268188,
     "end_time": "2022-05-22T00:39:19.952920",
     "exception": false,
     "start_time": "2022-05-22T00:39:19.684732",
     "status": "completed"
    },
    "tags": []
   },
   "outputs": [
    {
     "data": {
      "text/plain": [
       "<matplotlib.legend.Legend at 0x7fef4f7c55c0>"
      ]
     },
     "execution_count": 24,
     "metadata": {},
     "output_type": "execute_result"
    },
    {
     "data": {
      "image/png": "[encoded data removed]",
      "text/plain": [
       "<Figure size 1080x720 with 1 Axes>"
      ]
     },
     "metadata": {
      "needs_background": "light"
     },
     "output_type": "display_data"
    }
   ],
   "source": [
    "#comparing the results of NN and LR\n",
    "plt.figure(figsize=(15,10))\n",
    "\n",
    "# Neural Network plots\n",
    "plt.plot(acc_nn.accuracies, 'r-', label = \"Training Accuracies - NN\")\n",
    "plt.plot(acc_nn.test_accuracies, 'g-', label = \"Testing Accuracies - NN\")\n",
    "\n",
    "# Logistic Regression plots\n",
    "plt.plot(acc_lr.accuracies, 'k-', label = \"Training Accuracies - LR\")\n",
    "plt.plot(acc_lr.test_accuracies, 'b-', label = \"Testing Accuracies - LR\")\n",
    "plt.legend()"
   ]
  },
  {
   "cell_type": "markdown",
   "id": "80dfb35c",
   "metadata": {
    "papermill": {
     "duration": 0.041408,
     "end_time": "2022-05-22T00:39:20.036311",
     "exception": false,
     "start_time": "2022-05-22T00:39:19.994903",
     "status": "completed"
    },
    "tags": []
   },
   "source": [
    "#### Plotting the outputs of this layer of the NN.\n"
   ]
  },
  {
   "cell_type": "code",
   "execution_count": 25,
   "id": "45eb2ff5",
   "metadata": {
    "execution": {
     "iopub.execute_input": "2022-05-22T00:39:20.123945Z",
     "iopub.status.busy": "2022-05-22T00:39:20.123355Z",
     "iopub.status.idle": "2022-05-22T00:39:20.144166Z",
     "shell.execute_reply": "2022-05-22T00:39:20.143650Z"
    },
    "papermill": {
     "duration": 0.066482,
     "end_time": "2022-05-22T00:39:20.144284",
     "exception": false,
     "start_time": "2022-05-22T00:39:20.077802",
     "status": "completed"
    },
    "tags": []
   },
   "outputs": [],
   "source": [
    "new_model = Model(layers[:-2])\n",
    "testing_plot = new_model(testing_data_x)"
   ]
  },
  {
   "cell_type": "code",
   "execution_count": 26,
   "id": "4c0a5485",
   "metadata": {
    "execution": {
     "iopub.execute_input": "2022-05-22T00:39:20.233155Z",
     "iopub.status.busy": "2022-05-22T00:39:20.232569Z",
     "iopub.status.idle": "2022-05-22T00:39:20.472560Z",
     "shell.execute_reply": "2022-05-22T00:39:20.472087Z"
    },
    "papermill": {
     "duration": 0.286218,
     "end_time": "2022-05-22T00:39:20.472687",
     "exception": false,
     "start_time": "2022-05-22T00:39:20.186469",
     "status": "completed"
    },
    "tags": []
   },
   "outputs": [
    {
     "data": {
      "text/plain": [
       "Text(0.5, 1.0, 'Outputs')"
      ]
     },
     "execution_count": 26,
     "metadata": {},
     "output_type": "execute_result"
    },
    {
     "data": {
      "image/png": "[encoded data removed]",
      "text/plain": [
       "<Figure size 576x504 with 1 Axes>"
      ]
     },
     "metadata": {
      "needs_background": "light"
     },
     "output_type": "display_data"
    }
   ],
   "source": [
    "# Plotting the scatter plot of points and color coding by class\n",
    "plt.figure(figsize=(8,7))\n",
    "plt.scatter(testing_plot[:,0], testing_plot[:,1], alpha = 0.1, c = y_test.ravel());\n",
    "plt.title('Outputs')"
   ]
  },
  {
   "cell_type": "markdown",
   "id": "a74fcf8f",
   "metadata": {
    "papermill": {
     "duration": 0.045334,
     "end_time": "2022-05-22T00:39:20.563702",
     "exception": false,
     "start_time": "2022-05-22T00:39:20.518368",
     "status": "completed"
    },
    "tags": []
   },
   "source": [
    "Probability contours"
   ]
  },
  {
   "cell_type": "code",
   "execution_count": 27,
   "id": "d0afc8e3",
   "metadata": {
    "execution": {
     "iopub.execute_input": "2022-05-22T00:39:20.662618Z",
     "iopub.status.busy": "2022-05-22T00:39:20.657752Z",
     "iopub.status.idle": "2022-05-22T00:39:20.670390Z",
     "shell.execute_reply": "2022-05-22T00:39:20.669809Z"
    },
    "papermill": {
     "duration": 0.06133,
     "end_time": "2022-05-22T00:39:20.670507",
     "exception": false,
     "start_time": "2022-05-22T00:39:20.609177",
     "status": "completed"
    },
    "tags": []
   },
   "outputs": [],
   "source": [
    "model_prob = Model(layers[-2:]) "
   ]
  },
  {
   "cell_type": "code",
   "execution_count": 28,
   "id": "9b96e238",
   "metadata": {
    "execution": {
     "iopub.execute_input": "2022-05-22T00:39:20.766359Z",
     "iopub.status.busy": "2022-05-22T00:39:20.765786Z",
     "iopub.status.idle": "2022-05-22T00:39:20.780227Z",
     "shell.execute_reply": "2022-05-22T00:39:20.780643Z"
    },
    "papermill": {
     "duration": 0.064614,
     "end_time": "2022-05-22T00:39:20.780771",
     "exception": false,
     "start_time": "2022-05-22T00:39:20.716157",
     "status": "completed"
    },
    "tags": []
   },
   "outputs": [],
   "source": [
    "#creating the x and y ranges according to the above generated plot.\n",
    "x_range = np.linspace(-4, 1, 100) \n",
    "y_range = np.linspace(-6, 6, 100) \n",
    "x_grid, y_grid = np.meshgrid(x_range, y_range) # x_grid and y_grig are of size 100 X 100\n",
    "\n",
    "# converting x_grid and y_grid to continuous arrays\n",
    "x_gridflat = np.ravel(x_grid)\n",
    "y_gridflat = np.ravel(y_grid)\n",
    "\n",
    "# The last layer of the current model takes two columns as input. Hence transpose of np.vstack() is required.\n",
    "X = np.vstack((x_gridflat, y_gridflat)).T\n",
    "\n",
    "prob_contour = model_prob(X).reshape(100,100) "
   ]
  },
  {
   "cell_type": "code",
   "execution_count": 29,
   "id": "da72499a",
   "metadata": {
    "execution": {
     "iopub.execute_input": "2022-05-22T00:39:20.904740Z",
     "iopub.status.busy": "2022-05-22T00:39:20.904170Z",
     "iopub.status.idle": "2022-05-22T00:39:21.151534Z",
     "shell.execute_reply": "2022-05-22T00:39:21.150960Z"
    },
    "papermill": {
     "duration": 0.297218,
     "end_time": "2022-05-22T00:39:21.151671",
     "exception": false,
     "start_time": "2022-05-22T00:39:20.854453",
     "status": "completed"
    },
    "tags": []
   },
   "outputs": [
    {
     "data": {
      "image/png": "[encoded data removed]",
      "text/plain": [
       "<Figure size 720x648 with 1 Axes>"
      ]
     },
     "metadata": {
      "needs_background": "light"
     },
     "output_type": "display_data"
    }
   ],
   "source": [
    "plt.figure(figsize=(10,9))\n",
    "plt.scatter(testing_plot[:,0], testing_plot[:,1], alpha = 0.1, c = y_test.ravel())\n",
    "contours = plt.contour(x_grid,y_grid,prob_contour)\n",
    "plt.title('Probability Contours')\n",
    "plt.clabel(contours, inline = True );"
   ]
  },
  {
   "cell_type": "code",
   "execution_count": null,
   "id": "e81b4ac7",
   "metadata": {
    "papermill": {
     "duration": 0.047949,
     "end_time": "2022-05-22T00:39:21.247838",
     "exception": false,
     "start_time": "2022-05-22T00:39:21.199889",
     "status": "completed"
    },
    "tags": []
   },
   "outputs": [],
   "source": []
  }
 ],
 "metadata": {
  "kernelspec": {
   "display_name": "Python 3",
   "language": "python",
   "name": "python3"
  },
  "language_info": {
   "codemirror_mode": {
    "name": "ipython",
    "version": 3
   },
   "file_extension": ".py",
   "mimetype": "text/x-python",
   "name": "python",
   "nbconvert_exporter": "python",
   "pygments_lexer": "ipython3",
   "version": "3.6.15"
  },
  "papermill": {
   "default_parameters": {},
   "duration": 95.773346,
   "end_time": "2022-05-22T00:39:21.714403",
   "environment_variables": {},
   "exception": null,
   "input_path": "2020-08-11-part2.ipynb",
   "output_path": "2020-08-11-part2.ipynb",
   "parameters": {},
   "start_time": "2022-05-22T00:37:45.941057",
   "version": "2.3.3"
  }
 },
 "nbformat": 4,
 "nbformat_minor": 5
}