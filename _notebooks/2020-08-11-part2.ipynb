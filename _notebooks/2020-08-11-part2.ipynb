{
 "cells": [
  {
   "cell_type": "markdown",
   "id": "98380cd3",
   "metadata": {
    "papermill": {
     "duration": 0.028595,
     "end_time": "2021-11-20T10:07:24.874991",
     "exception": false,
     "start_time": "2021-11-20T10:07:24.846396",
     "status": "completed"
    },
    "tags": []
   },
   "source": [
    "# Distinguish Your Own Digits (DYOD)"
   ]
  },
  {
   "cell_type": "markdown",
   "id": "ef31240d",
   "metadata": {
    "papermill": {
     "duration": 0.02477,
     "end_time": "2021-11-20T10:07:24.923793",
     "exception": false,
     "start_time": "2021-11-20T10:07:24.899023",
     "status": "completed"
    },
    "tags": []
   },
   "source": [
    "You are going to write a classifier that distinguishes between the number 3 and number 8."
   ]
  },
  {
   "cell_type": "code",
   "execution_count": 1,
   "id": "b15c8646",
   "metadata": {
    "execution": {
     "iopub.execute_input": "2021-11-20T10:07:24.981179Z",
     "iopub.status.busy": "2021-11-20T10:07:24.980652Z",
     "iopub.status.idle": "2021-11-20T10:07:24.991094Z",
     "shell.execute_reply": "2021-11-20T10:07:24.990642Z"
    },
    "papermill": {
     "duration": 0.04397,
     "end_time": "2021-11-20T10:07:24.991218",
     "exception": false,
     "start_time": "2021-11-20T10:07:24.947248",
     "status": "completed"
    },
    "tags": []
   },
   "outputs": [],
   "source": [
    "%load_ext autoreload\n",
    "%autoreload 2"
   ]
  },
  {
   "cell_type": "code",
   "execution_count": 2,
   "id": "22ef38dc",
   "metadata": {
    "execution": {
     "iopub.execute_input": "2021-11-20T10:07:25.041725Z",
     "iopub.status.busy": "2021-11-20T10:07:25.041209Z",
     "iopub.status.idle": "2021-11-20T10:07:25.618605Z",
     "shell.execute_reply": "2021-11-20T10:07:25.618041Z"
    },
    "papermill": {
     "duration": 0.604139,
     "end_time": "2021-11-20T10:07:25.618750",
     "exception": false,
     "start_time": "2021-11-20T10:07:25.014611",
     "status": "completed"
    },
    "tags": []
   },
   "outputs": [],
   "source": [
    "%matplotlib inline\n",
    "import numpy as np\n",
    "import matplotlib.pyplot as plt\n",
    "import pandas as pd"
   ]
  },
  {
   "cell_type": "markdown",
   "id": "ba036198",
   "metadata": {
    "papermill": {
     "duration": 0.023401,
     "end_time": "2021-11-20T10:07:25.666989",
     "exception": false,
     "start_time": "2021-11-20T10:07:25.643588",
     "status": "completed"
    },
    "tags": []
   },
   "source": [
    "From the command line run `pip install mnist`. This is a library that will help you bring down the mnist dataset. If you run this from a notebook, you need to put  `!pip install mnist` in a cell by itself."
   ]
  },
  {
   "cell_type": "code",
   "execution_count": 3,
   "id": "bb6ad8a1",
   "metadata": {
    "execution": {
     "iopub.execute_input": "2021-11-20T10:07:25.720922Z",
     "iopub.status.busy": "2021-11-20T10:07:25.720403Z",
     "iopub.status.idle": "2021-11-20T10:07:27.370057Z",
     "shell.execute_reply": "2021-11-20T10:07:27.369575Z"
    },
    "papermill": {
     "duration": 1.679831,
     "end_time": "2021-11-20T10:07:27.370191",
     "exception": false,
     "start_time": "2021-11-20T10:07:25.690360",
     "status": "completed"
    },
    "tags": []
   },
   "outputs": [
    {
     "name": "stdout",
     "output_type": "stream",
     "text": [
      "Collecting mnist\r\n"
     ]
    },
    {
     "name": "stdout",
     "output_type": "stream",
     "text": [
      "  Downloading mnist-0.2.2-py2.py3-none-any.whl (3.5 kB)\r\n",
      "Requirement already satisfied: numpy in /opt/hostedtoolcache/Python/3.6.15/x64/lib/python3.6/site-packages (from mnist) (1.19.5)\r\n"
     ]
    },
    {
     "name": "stdout",
     "output_type": "stream",
     "text": [
      "Installing collected packages: mnist\r\n",
      "Successfully installed mnist-0.2.2\r\n"
     ]
    }
   ],
   "source": [
    "!pip install mnist"
   ]
  },
  {
   "cell_type": "markdown",
   "id": "69df9c9a",
   "metadata": {
    "papermill": {
     "duration": 0.024876,
     "end_time": "2021-11-20T10:07:27.419784",
     "exception": false,
     "start_time": "2021-11-20T10:07:27.394908",
     "status": "completed"
    },
    "tags": []
   },
   "source": [
    "## Preparing the Data"
   ]
  },
  {
   "cell_type": "code",
   "execution_count": 4,
   "id": "7f69d806",
   "metadata": {
    "execution": {
     "iopub.execute_input": "2021-11-20T10:07:27.486582Z",
     "iopub.status.busy": "2021-11-20T10:07:27.478172Z",
     "iopub.status.idle": "2021-11-20T10:07:27.490060Z",
     "shell.execute_reply": "2021-11-20T10:07:27.489629Z"
    },
    "papermill": {
     "duration": 0.045872,
     "end_time": "2021-11-20T10:07:27.490184",
     "exception": false,
     "start_time": "2021-11-20T10:07:27.444312",
     "status": "completed"
    },
    "tags": []
   },
   "outputs": [],
   "source": [
    "import mnist"
   ]
  },
  {
   "cell_type": "code",
   "execution_count": 5,
   "id": "a411e44f",
   "metadata": {
    "execution": {
     "iopub.execute_input": "2021-11-20T10:07:27.557538Z",
     "iopub.status.busy": "2021-11-20T10:07:27.554458Z",
     "iopub.status.idle": "2021-11-20T10:07:28.075771Z",
     "shell.execute_reply": "2021-11-20T10:07:28.074480Z"
    },
    "papermill": {
     "duration": 0.560815,
     "end_time": "2021-11-20T10:07:28.075929",
     "exception": false,
     "start_time": "2021-11-20T10:07:27.515114",
     "status": "completed"
    },
    "tags": []
   },
   "outputs": [],
   "source": [
    "train_images = mnist.train_images()\n",
    "train_labels = mnist.train_labels()"
   ]
  },
  {
   "cell_type": "code",
   "execution_count": 6,
   "id": "dceab3a5",
   "metadata": {
    "execution": {
     "iopub.execute_input": "2021-11-20T10:07:28.132915Z",
     "iopub.status.busy": "2021-11-20T10:07:28.132397Z",
     "iopub.status.idle": "2021-11-20T10:07:28.142568Z",
     "shell.execute_reply": "2021-11-20T10:07:28.142953Z"
    },
    "papermill": {
     "duration": 0.04223,
     "end_time": "2021-11-20T10:07:28.143086",
     "exception": false,
     "start_time": "2021-11-20T10:07:28.100856",
     "status": "completed"
    },
    "tags": []
   },
   "outputs": [
    {
     "data": {
      "text/plain": [
       "((60000, 28, 28), (60000,))"
      ]
     },
     "execution_count": 6,
     "metadata": {},
     "output_type": "execute_result"
    }
   ],
   "source": [
    "train_images.shape, train_labels.shape"
   ]
  },
  {
   "cell_type": "code",
   "execution_count": 7,
   "id": "f50dc2bb",
   "metadata": {
    "execution": {
     "iopub.execute_input": "2021-11-20T10:07:28.195973Z",
     "iopub.status.busy": "2021-11-20T10:07:28.195417Z",
     "iopub.status.idle": "2021-11-20T10:07:28.336603Z",
     "shell.execute_reply": "2021-11-20T10:07:28.337098Z"
    },
    "papermill": {
     "duration": 0.169509,
     "end_time": "2021-11-20T10:07:28.337273",
     "exception": false,
     "start_time": "2021-11-20T10:07:28.167764",
     "status": "completed"
    },
    "tags": []
   },
   "outputs": [],
   "source": [
    "test_images = mnist.test_images()\n",
    "test_labels = mnist.test_labels()"
   ]
  },
  {
   "cell_type": "code",
   "execution_count": 8,
   "id": "fc38cf1b",
   "metadata": {
    "execution": {
     "iopub.execute_input": "2021-11-20T10:07:28.392873Z",
     "iopub.status.busy": "2021-11-20T10:07:28.392357Z",
     "iopub.status.idle": "2021-11-20T10:07:28.404206Z",
     "shell.execute_reply": "2021-11-20T10:07:28.404694Z"
    },
    "papermill": {
     "duration": 0.041942,
     "end_time": "2021-11-20T10:07:28.404827",
     "exception": false,
     "start_time": "2021-11-20T10:07:28.362885",
     "status": "completed"
    },
    "tags": []
   },
   "outputs": [
    {
     "data": {
      "text/plain": [
       "((10000, 28, 28), (10000,))"
      ]
     },
     "execution_count": 8,
     "metadata": {},
     "output_type": "execute_result"
    }
   ],
   "source": [
    "test_images.shape, test_labels.shape"
   ]
  },
  {
   "cell_type": "code",
   "execution_count": 9,
   "id": "f9ed8fe0",
   "metadata": {
    "execution": {
     "iopub.execute_input": "2021-11-20T10:07:28.457740Z",
     "iopub.status.busy": "2021-11-20T10:07:28.457236Z",
     "iopub.status.idle": "2021-11-20T10:07:28.595643Z",
     "shell.execute_reply": "2021-11-20T10:07:28.596088Z"
    },
    "papermill": {
     "duration": 0.166833,
     "end_time": "2021-11-20T10:07:28.596236",
     "exception": false,
     "start_time": "2021-11-20T10:07:28.429403",
     "status": "completed"
    },
    "tags": []
   },
   "outputs": [
    {
     "name": "stdout",
     "output_type": "stream",
     "text": [
      "2\n"
     ]
    },
    {
     "data": {
      "text/plain": [
       "<matplotlib.image.AxesImage at 0x7ff710a14048>"
      ]
     },
     "execution_count": 9,
     "metadata": {},
     "output_type": "execute_result"
    },
    {
     "data": {
      "image/png": "[encoded data removed]",
      "text/plain": [
       "<Figure size 432x288 with 1 Axes>"
      ]
     },
     "metadata": {
      "needs_background": "light"
     },
     "output_type": "display_data"
    }
   ],
   "source": [
    "image_index = 7776 # You may select anything up to 60,000\n",
    "print(train_labels[image_index]) \n",
    "plt.imshow(train_images[image_index], cmap='Greys')"
   ]
  },
  {
   "cell_type": "markdown",
   "id": "a8d2388d",
   "metadata": {
    "papermill": {
     "duration": 0.026218,
     "end_time": "2021-11-20T10:07:28.648403",
     "exception": false,
     "start_time": "2021-11-20T10:07:28.622185",
     "status": "completed"
    },
    "tags": []
   },
   "source": [
    "## Filter data to get 3 and 8 out"
   ]
  },
  {
   "cell_type": "code",
   "execution_count": 10,
   "id": "776f7fc7",
   "metadata": {
    "execution": {
     "iopub.execute_input": "2021-11-20T10:07:28.713051Z",
     "iopub.status.busy": "2021-11-20T10:07:28.712500Z",
     "iopub.status.idle": "2021-11-20T10:07:28.727208Z",
     "shell.execute_reply": "2021-11-20T10:07:28.726785Z"
    },
    "papermill": {
     "duration": 0.053242,
     "end_time": "2021-11-20T10:07:28.727326",
     "exception": false,
     "start_time": "2021-11-20T10:07:28.674084",
     "status": "completed"
    },
    "tags": []
   },
   "outputs": [],
   "source": [
    "train_filter = np.where((train_labels == 3 ) | (train_labels == 8))\n",
    "test_filter = np.where((test_labels == 3) | (test_labels == 8))\n",
    "X_train, y_train = train_images[train_filter], train_labels[train_filter]\n",
    "X_test, y_test = test_images[test_filter], test_labels[test_filter]"
   ]
  },
  {
   "cell_type": "markdown",
   "id": "948f0b7e",
   "metadata": {
    "papermill": {
     "duration": 0.025616,
     "end_time": "2021-11-20T10:07:28.778807",
     "exception": false,
     "start_time": "2021-11-20T10:07:28.753191",
     "status": "completed"
    },
    "tags": []
   },
   "source": [
    "We normalize the pizel values in the 0 to 1 range"
   ]
  },
  {
   "cell_type": "code",
   "execution_count": 11,
   "id": "ee4c2166",
   "metadata": {
    "execution": {
     "iopub.execute_input": "2021-11-20T10:07:28.838618Z",
     "iopub.status.busy": "2021-11-20T10:07:28.838084Z",
     "iopub.status.idle": "2021-11-20T10:07:28.884052Z",
     "shell.execute_reply": "2021-11-20T10:07:28.883441Z"
    },
    "papermill": {
     "duration": 0.079789,
     "end_time": "2021-11-20T10:07:28.884194",
     "exception": false,
     "start_time": "2021-11-20T10:07:28.804405",
     "status": "completed"
    },
    "tags": []
   },
   "outputs": [],
   "source": [
    "X_train = X_train/255.\n",
    "X_test = X_test/255."
   ]
  },
  {
   "cell_type": "markdown",
   "id": "ddcf4fab",
   "metadata": {
    "papermill": {
     "duration": 0.025631,
     "end_time": "2021-11-20T10:07:28.936316",
     "exception": false,
     "start_time": "2021-11-20T10:07:28.910685",
     "status": "completed"
    },
    "tags": []
   },
   "source": [
    "And setup the labels as 1 (when the digit is 3) and 0 (when the digit is 8)"
   ]
  },
  {
   "cell_type": "code",
   "execution_count": 12,
   "id": "7dc908f2",
   "metadata": {
    "execution": {
     "iopub.execute_input": "2021-11-20T10:07:28.991886Z",
     "iopub.status.busy": "2021-11-20T10:07:28.991341Z",
     "iopub.status.idle": "2021-11-20T10:07:29.004411Z",
     "shell.execute_reply": "2021-11-20T10:07:29.003998Z"
    },
    "papermill": {
     "duration": 0.041952,
     "end_time": "2021-11-20T10:07:29.004524",
     "exception": false,
     "start_time": "2021-11-20T10:07:28.962572",
     "status": "completed"
    },
    "tags": []
   },
   "outputs": [],
   "source": [
    "y_train = 1*(y_train==3)\n",
    "y_test = 1*(y_test==3)"
   ]
  },
  {
   "cell_type": "code",
   "execution_count": 13,
   "id": "01e4e969",
   "metadata": {
    "execution": {
     "iopub.execute_input": "2021-11-20T10:07:29.059230Z",
     "iopub.status.busy": "2021-11-20T10:07:29.058729Z",
     "iopub.status.idle": "2021-11-20T10:07:29.072218Z",
     "shell.execute_reply": "2021-11-20T10:07:29.071781Z"
    },
    "papermill": {
     "duration": 0.042069,
     "end_time": "2021-11-20T10:07:29.072326",
     "exception": false,
     "start_time": "2021-11-20T10:07:29.030257",
     "status": "completed"
    },
    "tags": []
   },
   "outputs": [
    {
     "data": {
      "text/plain": [
       "((11982, 28, 28), (1984, 28, 28))"
      ]
     },
     "execution_count": 13,
     "metadata": {},
     "output_type": "execute_result"
    }
   ],
   "source": [
    "X_train.shape, X_test.shape"
   ]
  },
  {
   "cell_type": "markdown",
   "id": "5ccf3f85",
   "metadata": {
    "papermill": {
     "duration": 0.025787,
     "end_time": "2021-11-20T10:07:29.123946",
     "exception": false,
     "start_time": "2021-11-20T10:07:29.098159",
     "status": "completed"
    },
    "tags": []
   },
   "source": [
    "We reshape the data to flatten the image pixels into a set of features or co-variates:"
   ]
  },
  {
   "cell_type": "code",
   "execution_count": 14,
   "id": "5286a4a3",
   "metadata": {
    "execution": {
     "iopub.execute_input": "2021-11-20T10:07:29.179725Z",
     "iopub.status.busy": "2021-11-20T10:07:29.179189Z",
     "iopub.status.idle": "2021-11-20T10:07:29.192778Z",
     "shell.execute_reply": "2021-11-20T10:07:29.193159Z"
    },
    "papermill": {
     "duration": 0.043341,
     "end_time": "2021-11-20T10:07:29.193289",
     "exception": false,
     "start_time": "2021-11-20T10:07:29.149948",
     "status": "completed"
    },
    "tags": []
   },
   "outputs": [
    {
     "data": {
      "text/plain": [
       "((11982, 784), (1984, 784))"
      ]
     },
     "execution_count": 14,
     "metadata": {},
     "output_type": "execute_result"
    }
   ],
   "source": [
    "X_train = X_train.reshape(X_train.shape[0], -1)\n",
    "X_test = X_test.reshape(X_test.shape[0], -1)\n",
    "X_train.shape, X_test.shape"
   ]
  },
  {
   "cell_type": "code",
   "execution_count": 15,
   "id": "73c5f88a",
   "metadata": {
    "execution": {
     "iopub.execute_input": "2021-11-20T10:07:29.252911Z",
     "iopub.status.busy": "2021-11-20T10:07:29.252392Z",
     "iopub.status.idle": "2021-11-20T10:07:29.269553Z",
     "shell.execute_reply": "2021-11-20T10:07:29.269963Z"
    },
    "papermill": {
     "duration": 0.050591,
     "end_time": "2021-11-20T10:07:29.270089",
     "exception": false,
     "start_time": "2021-11-20T10:07:29.219498",
     "status": "completed"
    },
    "tags": []
   },
   "outputs": [],
   "source": [
    "#Impoting functions from 'Kudzu'\n",
    "from kudzu.model import Model\n",
    "from kudzu.train import Learner\n",
    "from kudzu.optim import GD\n",
    "from kudzu.data import Data, Sampler,Dataloader\n",
    "\n",
    "from kudzu.callbacks import AccCallback\n",
    "from kudzu.callbacks import ClfCallback\n",
    "\n",
    "from kudzu.loss import MSE\n",
    "\n",
    "from kudzu.layer import Sigmoid,Relu\n",
    "from kudzu.layer import Affine"
   ]
  },
  {
   "cell_type": "markdown",
   "id": "bc01172a",
   "metadata": {
    "papermill": {
     "duration": 0.026045,
     "end_time": "2021-11-20T10:07:29.322394",
     "exception": false,
     "start_time": "2021-11-20T10:07:29.296349",
     "status": "completed"
    },
    "tags": []
   },
   "source": [
    "### Let us create a `Config` class, to store important parameters. \n",
    "This class essentially plays the role of a dictionary."
   ]
  },
  {
   "cell_type": "code",
   "execution_count": 16,
   "id": "978281aa",
   "metadata": {
    "execution": {
     "iopub.execute_input": "2021-11-20T10:07:29.384955Z",
     "iopub.status.busy": "2021-11-20T10:07:29.384431Z",
     "iopub.status.idle": "2021-11-20T10:07:29.392854Z",
     "shell.execute_reply": "2021-11-20T10:07:29.393234Z"
    },
    "papermill": {
     "duration": 0.044913,
     "end_time": "2021-11-20T10:07:29.393369",
     "exception": false,
     "start_time": "2021-11-20T10:07:29.348456",
     "status": "completed"
    },
    "tags": []
   },
   "outputs": [],
   "source": [
    "class Config:\n",
    "    pass\n",
    "config = Config()\n",
    "config.lr = 0.001\n",
    "config.num_epochs = 250\n",
    "config.bs = 50"
   ]
  },
  {
   "cell_type": "markdown",
   "id": "1385fa59",
   "metadata": {
    "papermill": {
     "duration": 0.026044,
     "end_time": "2021-11-20T10:07:29.446066",
     "exception": false,
     "start_time": "2021-11-20T10:07:29.420022",
     "status": "completed"
    },
    "tags": []
   },
   "source": [
    "### Running Models with the Training data\n",
    "Details about the network layers:\n",
    "- A first affine layer has 784 inputs and does 100 affine transforms. These are followed by a Relu\n",
    "- A second affine layer has 100 inputs from the 100 activations of the past layer, and does 100 affine transforms. These are followed by a Relu\n",
    "- A third affine layer has 100 activations and does 2 affine transformations to create an embedding for visualization. There is no non-linearity here.\n",
    "- A final \"logistic regression\" which has an affine transform from 2 inputs to 1 output, which is squeezed through a sigmoid.\n"
   ]
  },
  {
   "cell_type": "code",
   "execution_count": 17,
   "id": "2b9c66db",
   "metadata": {
    "execution": {
     "iopub.execute_input": "2021-11-20T10:07:29.502666Z",
     "iopub.status.busy": "2021-11-20T10:07:29.502139Z",
     "iopub.status.idle": "2021-11-20T10:07:29.515131Z",
     "shell.execute_reply": "2021-11-20T10:07:29.514696Z"
    },
    "papermill": {
     "duration": 0.042963,
     "end_time": "2021-11-20T10:07:29.515243",
     "exception": false,
     "start_time": "2021-11-20T10:07:29.472280",
     "status": "completed"
    },
    "tags": []
   },
   "outputs": [],
   "source": [
    "data = Data(X_train, y_train.reshape(-1,1))\n",
    "sampler = Sampler(data, config.bs, shuffle=True)\n",
    "\n",
    "dl = Dataloader(data, sampler)\n",
    "\n",
    "opt = GD(config.lr)\n",
    "loss = MSE()"
   ]
  },
  {
   "cell_type": "code",
   "execution_count": 18,
   "id": "b275e4c2",
   "metadata": {
    "execution": {
     "iopub.execute_input": "2021-11-20T10:07:29.571038Z",
     "iopub.status.busy": "2021-11-20T10:07:29.570527Z",
     "iopub.status.idle": "2021-11-20T10:07:29.583063Z",
     "shell.execute_reply": "2021-11-20T10:07:29.583471Z"
    },
    "papermill": {
     "duration": 0.042187,
     "end_time": "2021-11-20T10:07:29.583597",
     "exception": false,
     "start_time": "2021-11-20T10:07:29.541410",
     "status": "completed"
    },
    "tags": []
   },
   "outputs": [],
   "source": [
    "training_data_x = X_train\n",
    "testing_data_x = X_test\n",
    "training_data_y = y_train.reshape(-1,1)\n",
    "testing_data_y = y_test.reshape(-1,1)"
   ]
  },
  {
   "cell_type": "code",
   "execution_count": 19,
   "id": "76951160",
   "metadata": {
    "execution": {
     "iopub.execute_input": "2021-11-20T10:07:29.643091Z",
     "iopub.status.busy": "2021-11-20T10:07:29.642580Z",
     "iopub.status.idle": "2021-11-20T10:07:29.657132Z",
     "shell.execute_reply": "2021-11-20T10:07:29.656705Z"
    },
    "papermill": {
     "duration": 0.047466,
     "end_time": "2021-11-20T10:07:29.657240",
     "exception": false,
     "start_time": "2021-11-20T10:07:29.609774",
     "status": "completed"
    },
    "tags": []
   },
   "outputs": [
    {
     "name": "stdout",
     "output_type": "stream",
     "text": [
      "xavier\n",
      "xavier\n",
      "xavier\n",
      "xavier\n",
      "xavier\n"
     ]
    }
   ],
   "source": [
    "layers = [Affine(\"first\", 784, 100), Relu(\"first\"), Affine(\"second\", 100, 100), Relu(\"second\"), Affine(\"third\", 100, 2), Affine(\"last\", 2, 1), Sigmoid(\"last\")]\n",
    "model_nn = Model(layers)\n",
    "model_lr = Model([Affine(\"logits\", 784, 1), Sigmoid(\"sigmoid\")])"
   ]
  },
  {
   "cell_type": "code",
   "execution_count": 20,
   "id": "6eede77a",
   "metadata": {
    "execution": {
     "iopub.execute_input": "2021-11-20T10:07:29.714212Z",
     "iopub.status.busy": "2021-11-20T10:07:29.713706Z",
     "iopub.status.idle": "2021-11-20T10:07:29.728164Z",
     "shell.execute_reply": "2021-11-20T10:07:29.727749Z"
    },
    "papermill": {
     "duration": 0.044407,
     "end_time": "2021-11-20T10:07:29.728282",
     "exception": false,
     "start_time": "2021-11-20T10:07:29.683875",
     "status": "completed"
    },
    "tags": []
   },
   "outputs": [],
   "source": [
    "nn_learner = Learner(loss, model_nn, opt, config.num_epochs)\n",
    "acc_nn = ClfCallback(nn_learner, config.bs, training_data_x , testing_data_x, training_data_y, testing_data_y)\n",
    "nn_learner.set_callbacks([acc_nn])"
   ]
  },
  {
   "cell_type": "code",
   "execution_count": 21,
   "id": "877b6cc7",
   "metadata": {
    "execution": {
     "iopub.execute_input": "2021-11-20T10:07:29.797749Z",
     "iopub.status.busy": "2021-11-20T10:07:29.792322Z",
     "iopub.status.idle": "2021-11-20T10:07:29.799713Z",
     "shell.execute_reply": "2021-11-20T10:07:29.800131Z"
    },
    "papermill": {
     "duration": 0.045557,
     "end_time": "2021-11-20T10:07:29.800257",
     "exception": false,
     "start_time": "2021-11-20T10:07:29.754700",
     "status": "completed"
    },
    "tags": []
   },
   "outputs": [],
   "source": [
    "lr_learner = Learner(loss, model_lr, opt, config.num_epochs)\n",
    "acc_lr = ClfCallback(lr_learner, config.bs, training_data_x , testing_data_x, training_data_y, testing_data_y)\n",
    "lr_learner.set_callbacks([acc_lr])"
   ]
  },
  {
   "cell_type": "code",
   "execution_count": 22,
   "id": "d9b133c3",
   "metadata": {
    "execution": {
     "iopub.execute_input": "2021-11-20T10:07:29.864324Z",
     "iopub.status.busy": "2021-11-20T10:07:29.857990Z",
     "iopub.status.idle": "2021-11-20T10:08:45.660953Z",
     "shell.execute_reply": "2021-11-20T10:08:45.661447Z"
    },
    "papermill": {
     "duration": 75.834717,
     "end_time": "2021-11-20T10:08:45.661584",
     "exception": false,
     "start_time": "2021-11-20T10:07:29.826867",
     "status": "completed"
    },
    "tags": []
   },
   "outputs": [
    {
     "name": "stdout",
     "output_type": "stream",
     "text": [
      "Epoch 0, Loss 0.2444\n",
      "Training Accuracy: 0.5324, Testing Accuracy: 0.5328\n",
      "\n"
     ]
    },
    {
     "name": "stdout",
     "output_type": "stream",
     "text": [
      "Epoch 10, Loss 0.111\n",
      "Training Accuracy: 0.9143, Testing Accuracy: 0.9249\n",
      "\n"
     ]
    },
    {
     "name": "stdout",
     "output_type": "stream",
     "text": [
      "Epoch 20, Loss 0.0629\n",
      "Training Accuracy: 0.9391, Testing Accuracy: 0.9476\n",
      "\n"
     ]
    },
    {
     "name": "stdout",
     "output_type": "stream",
     "text": [
      "Epoch 30, Loss 0.0476\n",
      "Training Accuracy: 0.9490, Testing Accuracy: 0.9556\n",
      "\n"
     ]
    },
    {
     "name": "stdout",
     "output_type": "stream",
     "text": [
      "Epoch 40, Loss 0.0407\n",
      "Training Accuracy: 0.9532, Testing Accuracy: 0.9607\n",
      "\n"
     ]
    },
    {
     "name": "stdout",
     "output_type": "stream",
     "text": [
      "Epoch 50, Loss 0.0367\n",
      "Training Accuracy: 0.9565, Testing Accuracy: 0.9647\n",
      "\n"
     ]
    },
    {
     "name": "stdout",
     "output_type": "stream",
     "text": [
      "Epoch 60, Loss 0.034\n",
      "Training Accuracy: 0.9601, Testing Accuracy: 0.9667\n",
      "\n"
     ]
    },
    {
     "name": "stdout",
     "output_type": "stream",
     "text": [
      "Epoch 70, Loss 0.0321\n",
      "Training Accuracy: 0.9619, Testing Accuracy: 0.9677\n",
      "\n"
     ]
    },
    {
     "name": "stdout",
     "output_type": "stream",
     "text": [
      "Epoch 80, Loss 0.0305\n",
      "Training Accuracy: 0.9638, Testing Accuracy: 0.9677\n",
      "\n"
     ]
    },
    {
     "name": "stdout",
     "output_type": "stream",
     "text": [
      "Epoch 90, Loss 0.0293\n",
      "Training Accuracy: 0.9654, Testing Accuracy: 0.9682\n",
      "\n"
     ]
    },
    {
     "name": "stdout",
     "output_type": "stream",
     "text": [
      "Epoch 100, Loss 0.0282\n",
      "Training Accuracy: 0.9662, Testing Accuracy: 0.9698\n",
      "\n"
     ]
    },
    {
     "name": "stdout",
     "output_type": "stream",
     "text": [
      "Epoch 110, Loss 0.0273\n",
      "Training Accuracy: 0.9675, Testing Accuracy: 0.9698\n",
      "\n"
     ]
    },
    {
     "name": "stdout",
     "output_type": "stream",
     "text": [
      "Epoch 120, Loss 0.0265\n",
      "Training Accuracy: 0.9681, Testing Accuracy: 0.9698\n",
      "\n"
     ]
    },
    {
     "name": "stdout",
     "output_type": "stream",
     "text": [
      "Epoch 130, Loss 0.0258\n",
      "Training Accuracy: 0.9689, Testing Accuracy: 0.9703\n",
      "\n"
     ]
    },
    {
     "name": "stdout",
     "output_type": "stream",
     "text": [
      "Epoch 140, Loss 0.0251\n",
      "Training Accuracy: 0.9697, Testing Accuracy: 0.9703\n",
      "\n"
     ]
    },
    {
     "name": "stdout",
     "output_type": "stream",
     "text": [
      "Epoch 150, Loss 0.0245\n",
      "Training Accuracy: 0.9708, Testing Accuracy: 0.9703\n",
      "\n"
     ]
    },
    {
     "name": "stdout",
     "output_type": "stream",
     "text": [
      "Epoch 160, Loss 0.024\n",
      "Training Accuracy: 0.9715, Testing Accuracy: 0.9708\n",
      "\n"
     ]
    },
    {
     "name": "stdout",
     "output_type": "stream",
     "text": [
      "Epoch 170, Loss 0.0234\n",
      "Training Accuracy: 0.9724, Testing Accuracy: 0.9723\n",
      "\n"
     ]
    },
    {
     "name": "stdout",
     "output_type": "stream",
     "text": [
      "Epoch 180, Loss 0.0229\n",
      "Training Accuracy: 0.9727, Testing Accuracy: 0.9718\n",
      "\n"
     ]
    },
    {
     "name": "stdout",
     "output_type": "stream",
     "text": [
      "Epoch 190, Loss 0.0225\n",
      "Training Accuracy: 0.9737, Testing Accuracy: 0.9718\n",
      "\n"
     ]
    },
    {
     "name": "stdout",
     "output_type": "stream",
     "text": [
      "Epoch 200, Loss 0.0221\n",
      "Training Accuracy: 0.9747, Testing Accuracy: 0.9718\n",
      "\n"
     ]
    },
    {
     "name": "stdout",
     "output_type": "stream",
     "text": [
      "Epoch 210, Loss 0.0216\n",
      "Training Accuracy: 0.9753, Testing Accuracy: 0.9728\n",
      "\n"
     ]
    },
    {
     "name": "stdout",
     "output_type": "stream",
     "text": [
      "Epoch 220, Loss 0.0213\n",
      "Training Accuracy: 0.9759, Testing Accuracy: 0.9723\n",
      "\n"
     ]
    },
    {
     "name": "stdout",
     "output_type": "stream",
     "text": [
      "Epoch 230, Loss 0.0209\n",
      "Training Accuracy: 0.9763, Testing Accuracy: 0.9723\n",
      "\n"
     ]
    },
    {
     "name": "stdout",
     "output_type": "stream",
     "text": [
      "Epoch 240, Loss 0.0205\n",
      "Training Accuracy: 0.9765, Testing Accuracy: 0.9728\n",
      "\n"
     ]
    },
    {
     "data": {
      "text/plain": [
       "0.02962099138011423"
      ]
     },
     "execution_count": 22,
     "metadata": {},
     "output_type": "execute_result"
    }
   ],
   "source": [
    "nn_learner.train_loop(dl)"
   ]
  },
  {
   "cell_type": "code",
   "execution_count": 23,
   "id": "e0163366",
   "metadata": {
    "execution": {
     "iopub.execute_input": "2021-11-20T10:08:45.736947Z",
     "iopub.status.busy": "2021-11-20T10:08:45.736440Z",
     "iopub.status.idle": "2021-11-20T10:08:59.337134Z",
     "shell.execute_reply": "2021-11-20T10:08:59.337923Z"
    },
    "papermill": {
     "duration": 13.642172,
     "end_time": "2021-11-20T10:08:59.338084",
     "exception": false,
     "start_time": "2021-11-20T10:08:45.695912",
     "status": "completed"
    },
    "tags": []
   },
   "outputs": [
    {
     "name": "stdout",
     "output_type": "stream",
     "text": [
      "Epoch 0, Loss 0.2381\n",
      "Training Accuracy: 0.7193, Testing Accuracy: 0.7404\n",
      "\n"
     ]
    },
    {
     "name": "stdout",
     "output_type": "stream",
     "text": [
      "Epoch 10, Loss 0.1017\n",
      "Training Accuracy: 0.9155, Testing Accuracy: 0.9244\n",
      "\n"
     ]
    },
    {
     "name": "stdout",
     "output_type": "stream",
     "text": [
      "Epoch 20, Loss 0.0786\n",
      "Training Accuracy: 0.9301, Testing Accuracy: 0.9370\n",
      "\n"
     ]
    },
    {
     "name": "stdout",
     "output_type": "stream",
     "text": [
      "Epoch 30, Loss 0.0678\n",
      "Training Accuracy: 0.9368, Testing Accuracy: 0.9471\n",
      "\n"
     ]
    },
    {
     "name": "stdout",
     "output_type": "stream",
     "text": [
      "Epoch 40, Loss 0.0614\n",
      "Training Accuracy: 0.9416, Testing Accuracy: 0.9511\n",
      "\n"
     ]
    },
    {
     "name": "stdout",
     "output_type": "stream",
     "text": [
      "Epoch 50, Loss 0.0569\n",
      "Training Accuracy: 0.9442, Testing Accuracy: 0.9561\n",
      "\n"
     ]
    },
    {
     "name": "stdout",
     "output_type": "stream",
     "text": [
      "Epoch 60, Loss 0.0537\n",
      "Training Accuracy: 0.9464, Testing Accuracy: 0.9597\n",
      "\n"
     ]
    },
    {
     "name": "stdout",
     "output_type": "stream",
     "text": [
      "Epoch 70, Loss 0.0512\n",
      "Training Accuracy: 0.9488, Testing Accuracy: 0.9622\n",
      "\n"
     ]
    },
    {
     "name": "stdout",
     "output_type": "stream",
     "text": [
      "Epoch 80, Loss 0.0492\n",
      "Training Accuracy: 0.9494, Testing Accuracy: 0.9637\n",
      "\n"
     ]
    },
    {
     "name": "stdout",
     "output_type": "stream",
     "text": [
      "Epoch 90, Loss 0.0475\n",
      "Training Accuracy: 0.9505, Testing Accuracy: 0.9647\n",
      "\n"
     ]
    },
    {
     "name": "stdout",
     "output_type": "stream",
     "text": [
      "Epoch 100, Loss 0.0461\n",
      "Training Accuracy: 0.9518, Testing Accuracy: 0.9652\n",
      "\n"
     ]
    },
    {
     "name": "stdout",
     "output_type": "stream",
     "text": [
      "Epoch 110, Loss 0.0449\n",
      "Training Accuracy: 0.9530, Testing Accuracy: 0.9657\n",
      "\n"
     ]
    },
    {
     "name": "stdout",
     "output_type": "stream",
     "text": [
      "Epoch 120, Loss 0.0439\n",
      "Training Accuracy: 0.9536, Testing Accuracy: 0.9662\n",
      "\n"
     ]
    },
    {
     "name": "stdout",
     "output_type": "stream",
     "text": [
      "Epoch 130, Loss 0.0429\n",
      "Training Accuracy: 0.9548, Testing Accuracy: 0.9672\n",
      "\n"
     ]
    },
    {
     "name": "stdout",
     "output_type": "stream",
     "text": [
      "Epoch 140, Loss 0.0421\n",
      "Training Accuracy: 0.9548, Testing Accuracy: 0.9672\n",
      "\n"
     ]
    },
    {
     "name": "stdout",
     "output_type": "stream",
     "text": [
      "Epoch 150, Loss 0.0414\n",
      "Training Accuracy: 0.9552, Testing Accuracy: 0.9677\n",
      "\n"
     ]
    },
    {
     "name": "stdout",
     "output_type": "stream",
     "text": [
      "Epoch 160, Loss 0.0407\n",
      "Training Accuracy: 0.9556, Testing Accuracy: 0.9672\n",
      "\n"
     ]
    },
    {
     "name": "stdout",
     "output_type": "stream",
     "text": [
      "Epoch 170, Loss 0.0401\n",
      "Training Accuracy: 0.9561, Testing Accuracy: 0.9672\n",
      "\n"
     ]
    },
    {
     "name": "stdout",
     "output_type": "stream",
     "text": [
      "Epoch 180, Loss 0.0395\n",
      "Training Accuracy: 0.9567, Testing Accuracy: 0.9677\n",
      "\n"
     ]
    },
    {
     "name": "stdout",
     "output_type": "stream",
     "text": [
      "Epoch 190, Loss 0.039\n",
      "Training Accuracy: 0.9573, Testing Accuracy: 0.9682\n",
      "\n"
     ]
    },
    {
     "name": "stdout",
     "output_type": "stream",
     "text": [
      "Epoch 200, Loss 0.0385\n",
      "Training Accuracy: 0.9579, Testing Accuracy: 0.9682\n",
      "\n"
     ]
    },
    {
     "name": "stdout",
     "output_type": "stream",
     "text": [
      "Epoch 210, Loss 0.0381\n",
      "Training Accuracy: 0.9589, Testing Accuracy: 0.9672\n",
      "\n"
     ]
    },
    {
     "name": "stdout",
     "output_type": "stream",
     "text": [
      "Epoch 220, Loss 0.0377\n",
      "Training Accuracy: 0.9592, Testing Accuracy: 0.9672\n",
      "\n"
     ]
    },
    {
     "name": "stdout",
     "output_type": "stream",
     "text": [
      "Epoch 230, Loss 0.0373\n",
      "Training Accuracy: 0.9595, Testing Accuracy: 0.9677\n",
      "\n"
     ]
    },
    {
     "name": "stdout",
     "output_type": "stream",
     "text": [
      "Epoch 240, Loss 0.037\n",
      "Training Accuracy: 0.9595, Testing Accuracy: 0.9677\n",
      "\n"
     ]
    },
    {
     "data": {
      "text/plain": [
       "0.027316521311560826"
      ]
     },
     "execution_count": 23,
     "metadata": {},
     "output_type": "execute_result"
    }
   ],
   "source": [
    "lr_learner.train_loop(dl)"
   ]
  },
  {
   "cell_type": "code",
   "execution_count": 24,
   "id": "ca410940",
   "metadata": {
    "execution": {
     "iopub.execute_input": "2021-11-20T10:08:59.432792Z",
     "iopub.status.busy": "2021-11-20T10:08:59.432268Z",
     "iopub.status.idle": "2021-11-20T10:08:59.642405Z",
     "shell.execute_reply": "2021-11-20T10:08:59.641961Z"
    },
    "papermill": {
     "duration": 0.263884,
     "end_time": "2021-11-20T10:08:59.642530",
     "exception": false,
     "start_time": "2021-11-20T10:08:59.378646",
     "status": "completed"
    },
    "tags": []
   },
   "outputs": [
    {
     "data": {
      "text/plain": [
       "<matplotlib.legend.Legend at 0x7ff710576828>"
      ]
     },
     "execution_count": 24,
     "metadata": {},
     "output_type": "execute_result"
    },
    {
     "data": {
      "image/png": "[encoded data removed]",
      "text/plain": [
       "<Figure size 1080x720 with 1 Axes>"
      ]
     },
     "metadata": {
      "needs_background": "light"
     },
     "output_type": "display_data"
    }
   ],
   "source": [
    "#comparing the results of NN and LR\n",
    "plt.figure(figsize=(15,10))\n",
    "\n",
    "# Neural Network plots\n",
    "plt.plot(acc_nn.accuracies, 'r-', label = \"Training Accuracies - NN\")\n",
    "plt.plot(acc_nn.test_accuracies, 'g-', label = \"Testing Accuracies - NN\")\n",
    "\n",
    "# Logistic Regression plots\n",
    "plt.plot(acc_lr.accuracies, 'k-', label = \"Training Accuracies - LR\")\n",
    "plt.plot(acc_lr.test_accuracies, 'b-', label = \"Testing Accuracies - LR\")\n",
    "plt.legend()"
   ]
  },
  {
   "cell_type": "markdown",
   "id": "80dfb35c",
   "metadata": {
    "papermill": {
     "duration": 0.040993,
     "end_time": "2021-11-20T10:08:59.727339",
     "exception": false,
     "start_time": "2021-11-20T10:08:59.686346",
     "status": "completed"
    },
    "tags": []
   },
   "source": [
    "#### Plotting the outputs of this layer of the NN.\n"
   ]
  },
  {
   "cell_type": "code",
   "execution_count": 25,
   "id": "45eb2ff5",
   "metadata": {
    "execution": {
     "iopub.execute_input": "2021-11-20T10:08:59.813385Z",
     "iopub.status.busy": "2021-11-20T10:08:59.812869Z",
     "iopub.status.idle": "2021-11-20T10:08:59.833222Z",
     "shell.execute_reply": "2021-11-20T10:08:59.832778Z"
    },
    "papermill": {
     "duration": 0.06504,
     "end_time": "2021-11-20T10:08:59.833335",
     "exception": false,
     "start_time": "2021-11-20T10:08:59.768295",
     "status": "completed"
    },
    "tags": []
   },
   "outputs": [],
   "source": [
    "new_model = Model(layers[:-2])\n",
    "testing_plot = new_model(testing_data_x)"
   ]
  },
  {
   "cell_type": "code",
   "execution_count": 26,
   "id": "4c0a5485",
   "metadata": {
    "execution": {
     "iopub.execute_input": "2021-11-20T10:08:59.924092Z",
     "iopub.status.busy": "2021-11-20T10:08:59.921114Z",
     "iopub.status.idle": "2021-11-20T10:09:00.102417Z",
     "shell.execute_reply": "2021-11-20T10:09:00.101731Z"
    },
    "papermill": {
     "duration": 0.227606,
     "end_time": "2021-11-20T10:09:00.102548",
     "exception": false,
     "start_time": "2021-11-20T10:08:59.874942",
     "status": "completed"
    },
    "tags": []
   },
   "outputs": [
    {
     "data": {
      "text/plain": [
       "Text(0.5, 1.0, 'Outputs')"
      ]
     },
     "execution_count": 26,
     "metadata": {},
     "output_type": "execute_result"
    },
    {
     "data": {
      "image/png": "[encoded data removed]",
      "text/plain": [
       "<Figure size 576x504 with 1 Axes>"
      ]
     },
     "metadata": {
      "needs_background": "light"
     },
     "output_type": "display_data"
    }
   ],
   "source": [
    "# Plotting the scatter plot of points and color coding by class\n",
    "plt.figure(figsize=(8,7))\n",
    "plt.scatter(testing_plot[:,0], testing_plot[:,1], alpha = 0.1, c = y_test.ravel());\n",
    "plt.title('Outputs')"
   ]
  },
  {
   "cell_type": "markdown",
   "id": "a74fcf8f",
   "metadata": {
    "papermill": {
     "duration": 0.042633,
     "end_time": "2021-11-20T10:09:00.188195",
     "exception": false,
     "start_time": "2021-11-20T10:09:00.145562",
     "status": "completed"
    },
    "tags": []
   },
   "source": [
    "Probability contours"
   ]
  },
  {
   "cell_type": "code",
   "execution_count": 27,
   "id": "d0afc8e3",
   "metadata": {
    "execution": {
     "iopub.execute_input": "2021-11-20T10:09:00.289396Z",
     "iopub.status.busy": "2021-11-20T10:09:00.288525Z",
     "iopub.status.idle": "2021-11-20T10:09:00.294977Z",
     "shell.execute_reply": "2021-11-20T10:09:00.294305Z"
    },
    "papermill": {
     "duration": 0.064213,
     "end_time": "2021-11-20T10:09:00.295090",
     "exception": false,
     "start_time": "2021-11-20T10:09:00.230877",
     "status": "completed"
    },
    "tags": []
   },
   "outputs": [],
   "source": [
    "model_prob = Model(layers[-2:]) "
   ]
  },
  {
   "cell_type": "code",
   "execution_count": 28,
   "id": "9b96e238",
   "metadata": {
    "execution": {
     "iopub.execute_input": "2021-11-20T10:09:00.396317Z",
     "iopub.status.busy": "2021-11-20T10:09:00.393747Z",
     "iopub.status.idle": "2021-11-20T10:09:00.405758Z",
     "shell.execute_reply": "2021-11-20T10:09:00.406376Z"
    },
    "papermill": {
     "duration": 0.068524,
     "end_time": "2021-11-20T10:09:00.406506",
     "exception": false,
     "start_time": "2021-11-20T10:09:00.337982",
     "status": "completed"
    },
    "tags": []
   },
   "outputs": [],
   "source": [
    "#creating the x and y ranges according to the above generated plot.\n",
    "x_range = np.linspace(-4, 1, 100) \n",
    "y_range = np.linspace(-6, 6, 100) \n",
    "x_grid, y_grid = np.meshgrid(x_range, y_range) # x_grid and y_grig are of size 100 X 100\n",
    "\n",
    "# converting x_grid and y_grid to continuous arrays\n",
    "x_gridflat = np.ravel(x_grid)\n",
    "y_gridflat = np.ravel(y_grid)\n",
    "\n",
    "# The last layer of the current model takes two columns as input. Hence transpose of np.vstack() is required.\n",
    "X = np.vstack((x_gridflat, y_gridflat)).T\n",
    "\n",
    "prob_contour = model_prob(X).reshape(100,100) "
   ]
  },
  {
   "cell_type": "code",
   "execution_count": 29,
   "id": "da72499a",
   "metadata": {
    "execution": {
     "iopub.execute_input": "2021-11-20T10:09:00.558419Z",
     "iopub.status.busy": "2021-11-20T10:09:00.541832Z",
     "iopub.status.idle": "2021-11-20T10:09:00.773276Z",
     "shell.execute_reply": "2021-11-20T10:09:00.772823Z"
    },
    "papermill": {
     "duration": 0.323959,
     "end_time": "2021-11-20T10:09:00.773397",
     "exception": false,
     "start_time": "2021-11-20T10:09:00.449438",
     "status": "completed"
    },
    "tags": []
   },
   "outputs": [
    {
     "data": {
      "image/png": "[encoded data removed]",
      "text/plain": [
       "<Figure size 720x648 with 1 Axes>"
      ]
     },
     "metadata": {
      "needs_background": "light"
     },
     "output_type": "display_data"
    }
   ],
   "source": [
    "plt.figure(figsize=(10,9))\n",
    "plt.scatter(testing_plot[:,0], testing_plot[:,1], alpha = 0.1, c = y_test.ravel())\n",
    "contours = plt.contour(x_grid,y_grid,prob_contour)\n",
    "plt.title('Probability Contours')\n",
    "plt.clabel(contours, inline = True );"
   ]
  },
  {
   "cell_type": "code",
   "execution_count": null,
   "id": "e81b4ac7",
   "metadata": {
    "papermill": {
     "duration": 0.045091,
     "end_time": "2021-11-20T10:09:00.864377",
     "exception": false,
     "start_time": "2021-11-20T10:09:00.819286",
     "status": "completed"
    },
    "tags": []
   },
   "outputs": [],
   "source": []
  }
 ],
 "metadata": {
  "kernelspec": {
   "display_name": "Python 3",
   "language": "python",
   "name": "python3"
  },
  "language_info": {
   "codemirror_mode": {
    "name": "ipython",
    "version": 3
   },
   "file_extension": ".py",
   "mimetype": "text/x-python",
   "name": "python",
   "nbconvert_exporter": "python",
   "pygments_lexer": "ipython3",
   "version": "3.6.15"
  },
  "papermill": {
   "default_parameters": {},
   "duration": 97.641676,
   "end_time": "2021-11-20T10:09:01.318488",
   "environment_variables": {},
   "exception": null,
   "input_path": "2020-08-11-part2.ipynb",
   "output_path": "2020-08-11-part2.ipynb",
   "parameters": {},
   "start_time": "2021-11-20T10:07:23.676812",
   "version": "2.3.3"
  }
 },
 "nbformat": 4,
 "nbformat_minor": 5
}