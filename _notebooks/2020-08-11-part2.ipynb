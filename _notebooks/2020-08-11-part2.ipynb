{
 "cells": [
  {
   "cell_type": "markdown",
   "id": "98380cd3",
   "metadata": {
    "papermill": {
     "duration": 0.036921,
     "end_time": "2022-01-02T00:26:09.951154",
     "exception": false,
     "start_time": "2022-01-02T00:26:09.914233",
     "status": "completed"
    },
    "tags": []
   },
   "source": [
    "# Distinguish Your Own Digits (DYOD)"
   ]
  },
  {
   "cell_type": "markdown",
   "id": "ef31240d",
   "metadata": {
    "papermill": {
     "duration": 0.033853,
     "end_time": "2022-01-02T00:26:10.022241",
     "exception": false,
     "start_time": "2022-01-02T00:26:09.988388",
     "status": "completed"
    },
    "tags": []
   },
   "source": [
    "You are going to write a classifier that distinguishes between the number 3 and number 8."
   ]
  },
  {
   "cell_type": "code",
   "execution_count": 1,
   "id": "b15c8646",
   "metadata": {
    "execution": {
     "iopub.execute_input": "2022-01-02T00:26:10.097904Z",
     "iopub.status.busy": "2022-01-02T00:26:10.097154Z",
     "iopub.status.idle": "2022-01-02T00:26:10.109202Z",
     "shell.execute_reply": "2022-01-02T00:26:10.108567Z"
    },
    "papermill": {
     "duration": 0.055552,
     "end_time": "2022-01-02T00:26:10.109361",
     "exception": false,
     "start_time": "2022-01-02T00:26:10.053809",
     "status": "completed"
    },
    "tags": []
   },
   "outputs": [],
   "source": [
    "%load_ext autoreload\n",
    "%autoreload 2"
   ]
  },
  {
   "cell_type": "code",
   "execution_count": 2,
   "id": "22ef38dc",
   "metadata": {
    "execution": {
     "iopub.execute_input": "2022-01-02T00:26:10.177574Z",
     "iopub.status.busy": "2022-01-02T00:26:10.176876Z",
     "iopub.status.idle": "2022-01-02T00:26:10.893812Z",
     "shell.execute_reply": "2022-01-02T00:26:10.893100Z"
    },
    "papermill": {
     "duration": 0.75338,
     "end_time": "2022-01-02T00:26:10.893954",
     "exception": false,
     "start_time": "2022-01-02T00:26:10.140574",
     "status": "completed"
    },
    "tags": []
   },
   "outputs": [],
   "source": [
    "%matplotlib inline\n",
    "import numpy as np\n",
    "import matplotlib.pyplot as plt\n",
    "import pandas as pd"
   ]
  },
  {
   "cell_type": "markdown",
   "id": "ba036198",
   "metadata": {
    "papermill": {
     "duration": 0.031596,
     "end_time": "2022-01-02T00:26:10.957218",
     "exception": false,
     "start_time": "2022-01-02T00:26:10.925622",
     "status": "completed"
    },
    "tags": []
   },
   "source": [
    "From the command line run `pip install mnist`. This is a library that will help you bring down the mnist dataset. If you run this from a notebook, you need to put  `!pip install mnist` in a cell by itself."
   ]
  },
  {
   "cell_type": "code",
   "execution_count": 3,
   "id": "bb6ad8a1",
   "metadata": {
    "execution": {
     "iopub.execute_input": "2022-01-02T00:26:11.023201Z",
     "iopub.status.busy": "2022-01-02T00:26:11.022483Z",
     "iopub.status.idle": "2022-01-02T00:26:13.134882Z",
     "shell.execute_reply": "2022-01-02T00:26:13.133744Z"
    },
    "papermill": {
     "duration": 2.147461,
     "end_time": "2022-01-02T00:26:13.135036",
     "exception": false,
     "start_time": "2022-01-02T00:26:10.987575",
     "status": "completed"
    },
    "tags": []
   },
   "outputs": [
    {
     "name": "stdout",
     "output_type": "stream",
     "text": [
      "Collecting mnist\r\n"
     ]
    },
    {
     "name": "stdout",
     "output_type": "stream",
     "text": [
      "  Downloading mnist-0.2.2-py2.py3-none-any.whl (3.5 kB)\r\n"
     ]
    },
    {
     "name": "stdout",
     "output_type": "stream",
     "text": [
      "Requirement already satisfied: numpy in /opt/hostedtoolcache/Python/3.6.15/x64/lib/python3.6/site-packages (from mnist) (1.19.5)\r\n"
     ]
    },
    {
     "name": "stdout",
     "output_type": "stream",
     "text": [
      "Installing collected packages: mnist\r\n"
     ]
    },
    {
     "name": "stdout",
     "output_type": "stream",
     "text": [
      "Successfully installed mnist-0.2.2\r\n"
     ]
    }
   ],
   "source": [
    "!pip install mnist"
   ]
  },
  {
   "cell_type": "markdown",
   "id": "69df9c9a",
   "metadata": {
    "papermill": {
     "duration": 0.03373,
     "end_time": "2022-01-02T00:26:13.202114",
     "exception": false,
     "start_time": "2022-01-02T00:26:13.168384",
     "status": "completed"
    },
    "tags": []
   },
   "source": [
    "## Preparing the Data"
   ]
  },
  {
   "cell_type": "code",
   "execution_count": 4,
   "id": "7f69d806",
   "metadata": {
    "execution": {
     "iopub.execute_input": "2022-01-02T00:26:13.275235Z",
     "iopub.status.busy": "2022-01-02T00:26:13.273215Z",
     "iopub.status.idle": "2022-01-02T00:26:13.289053Z",
     "shell.execute_reply": "2022-01-02T00:26:13.289554Z"
    },
    "papermill": {
     "duration": 0.054466,
     "end_time": "2022-01-02T00:26:13.289695",
     "exception": false,
     "start_time": "2022-01-02T00:26:13.235229",
     "status": "completed"
    },
    "tags": []
   },
   "outputs": [],
   "source": [
    "import mnist"
   ]
  },
  {
   "cell_type": "code",
   "execution_count": 5,
   "id": "a411e44f",
   "metadata": {
    "execution": {
     "iopub.execute_input": "2022-01-02T00:26:13.365923Z",
     "iopub.status.busy": "2022-01-02T00:26:13.365145Z",
     "iopub.status.idle": "2022-01-02T00:26:13.892649Z",
     "shell.execute_reply": "2022-01-02T00:26:13.892084Z"
    },
    "papermill": {
     "duration": 0.568589,
     "end_time": "2022-01-02T00:26:13.892878",
     "exception": false,
     "start_time": "2022-01-02T00:26:13.324289",
     "status": "completed"
    },
    "tags": []
   },
   "outputs": [],
   "source": [
    "train_images = mnist.train_images()\n",
    "train_labels = mnist.train_labels()"
   ]
  },
  {
   "cell_type": "code",
   "execution_count": 6,
   "id": "dceab3a5",
   "metadata": {
    "execution": {
     "iopub.execute_input": "2022-01-02T00:26:13.982439Z",
     "iopub.status.busy": "2022-01-02T00:26:13.981625Z",
     "iopub.status.idle": "2022-01-02T00:26:13.997706Z",
     "shell.execute_reply": "2022-01-02T00:26:13.998287Z"
    },
    "papermill": {
     "duration": 0.061656,
     "end_time": "2022-01-02T00:26:13.998522",
     "exception": false,
     "start_time": "2022-01-02T00:26:13.936866",
     "status": "completed"
    },
    "tags": []
   },
   "outputs": [
    {
     "data": {
      "text/plain": [
       "((60000, 28, 28), (60000,))"
      ]
     },
     "execution_count": 6,
     "metadata": {},
     "output_type": "execute_result"
    }
   ],
   "source": [
    "train_images.shape, train_labels.shape"
   ]
  },
  {
   "cell_type": "code",
   "execution_count": 7,
   "id": "f50dc2bb",
   "metadata": {
    "execution": {
     "iopub.execute_input": "2022-01-02T00:26:14.072697Z",
     "iopub.status.busy": "2022-01-02T00:26:14.071976Z",
     "iopub.status.idle": "2022-01-02T00:26:14.222844Z",
     "shell.execute_reply": "2022-01-02T00:26:14.222023Z"
    },
    "papermill": {
     "duration": 0.191733,
     "end_time": "2022-01-02T00:26:14.223052",
     "exception": false,
     "start_time": "2022-01-02T00:26:14.031319",
     "status": "completed"
    },
    "tags": []
   },
   "outputs": [],
   "source": [
    "test_images = mnist.test_images()\n",
    "test_labels = mnist.test_labels()"
   ]
  },
  {
   "cell_type": "code",
   "execution_count": 8,
   "id": "fc38cf1b",
   "metadata": {
    "execution": {
     "iopub.execute_input": "2022-01-02T00:26:14.295698Z",
     "iopub.status.busy": "2022-01-02T00:26:14.295026Z",
     "iopub.status.idle": "2022-01-02T00:26:14.310247Z",
     "shell.execute_reply": "2022-01-02T00:26:14.310903Z"
    },
    "papermill": {
     "duration": 0.053892,
     "end_time": "2022-01-02T00:26:14.311056",
     "exception": false,
     "start_time": "2022-01-02T00:26:14.257164",
     "status": "completed"
    },
    "tags": []
   },
   "outputs": [
    {
     "data": {
      "text/plain": [
       "((10000, 28, 28), (10000,))"
      ]
     },
     "execution_count": 8,
     "metadata": {},
     "output_type": "execute_result"
    }
   ],
   "source": [
    "test_images.shape, test_labels.shape"
   ]
  },
  {
   "cell_type": "code",
   "execution_count": 9,
   "id": "f9ed8fe0",
   "metadata": {
    "execution": {
     "iopub.execute_input": "2022-01-02T00:26:14.387516Z",
     "iopub.status.busy": "2022-01-02T00:26:14.386877Z",
     "iopub.status.idle": "2022-01-02T00:26:14.600320Z",
     "shell.execute_reply": "2022-01-02T00:26:14.599764Z"
    },
    "papermill": {
     "duration": 0.253194,
     "end_time": "2022-01-02T00:26:14.600476",
     "exception": false,
     "start_time": "2022-01-02T00:26:14.347282",
     "status": "completed"
    },
    "tags": []
   },
   "outputs": [
    {
     "name": "stdout",
     "output_type": "stream",
     "text": [
      "2\n"
     ]
    },
    {
     "data": {
      "text/plain": [
       "<matplotlib.image.AxesImage at 0x7ff41ecd5390>"
      ]
     },
     "execution_count": 9,
     "metadata": {},
     "output_type": "execute_result"
    },
    {
     "data": {
      "image/png": "[encoded data removed]",
      "text/plain": [
       "<Figure size 432x288 with 1 Axes>"
      ]
     },
     "metadata": {
      "needs_background": "light"
     },
     "output_type": "display_data"
    }
   ],
   "source": [
    "image_index = 7776 # You may select anything up to 60,000\n",
    "print(train_labels[image_index]) \n",
    "plt.imshow(train_images[image_index], cmap='Greys')"
   ]
  },
  {
   "cell_type": "markdown",
   "id": "a8d2388d",
   "metadata": {
    "papermill": {
     "duration": 0.034659,
     "end_time": "2022-01-02T00:26:14.674227",
     "exception": false,
     "start_time": "2022-01-02T00:26:14.639568",
     "status": "completed"
    },
    "tags": []
   },
   "source": [
    "## Filter data to get 3 and 8 out"
   ]
  },
  {
   "cell_type": "code",
   "execution_count": 10,
   "id": "776f7fc7",
   "metadata": {
    "execution": {
     "iopub.execute_input": "2022-01-02T00:26:14.754679Z",
     "iopub.status.busy": "2022-01-02T00:26:14.753841Z",
     "iopub.status.idle": "2022-01-02T00:26:14.774352Z",
     "shell.execute_reply": "2022-01-02T00:26:14.773716Z"
    },
    "papermill": {
     "duration": 0.06108,
     "end_time": "2022-01-02T00:26:14.774519",
     "exception": false,
     "start_time": "2022-01-02T00:26:14.713439",
     "status": "completed"
    },
    "tags": []
   },
   "outputs": [],
   "source": [
    "train_filter = np.where((train_labels == 3 ) | (train_labels == 8))\n",
    "test_filter = np.where((test_labels == 3) | (test_labels == 8))\n",
    "X_train, y_train = train_images[train_filter], train_labels[train_filter]\n",
    "X_test, y_test = test_images[test_filter], test_labels[test_filter]"
   ]
  },
  {
   "cell_type": "markdown",
   "id": "948f0b7e",
   "metadata": {
    "papermill": {
     "duration": 0.035473,
     "end_time": "2022-01-02T00:26:14.850730",
     "exception": false,
     "start_time": "2022-01-02T00:26:14.815257",
     "status": "completed"
    },
    "tags": []
   },
   "source": [
    "We normalize the pizel values in the 0 to 1 range"
   ]
  },
  {
   "cell_type": "code",
   "execution_count": 11,
   "id": "ee4c2166",
   "metadata": {
    "execution": {
     "iopub.execute_input": "2022-01-02T00:26:14.924007Z",
     "iopub.status.busy": "2022-01-02T00:26:14.923332Z",
     "iopub.status.idle": "2022-01-02T00:26:14.990516Z",
     "shell.execute_reply": "2022-01-02T00:26:14.989711Z"
    },
    "papermill": {
     "duration": 0.105768,
     "end_time": "2022-01-02T00:26:14.990694",
     "exception": false,
     "start_time": "2022-01-02T00:26:14.884926",
     "status": "completed"
    },
    "tags": []
   },
   "outputs": [],
   "source": [
    "X_train = X_train/255.\n",
    "X_test = X_test/255."
   ]
  },
  {
   "cell_type": "markdown",
   "id": "ddcf4fab",
   "metadata": {
    "papermill": {
     "duration": 0.036581,
     "end_time": "2022-01-02T00:26:15.064245",
     "exception": false,
     "start_time": "2022-01-02T00:26:15.027664",
     "status": "completed"
    },
    "tags": []
   },
   "source": [
    "And setup the labels as 1 (when the digit is 3) and 0 (when the digit is 8)"
   ]
  },
  {
   "cell_type": "code",
   "execution_count": 12,
   "id": "7dc908f2",
   "metadata": {
    "execution": {
     "iopub.execute_input": "2022-01-02T00:26:15.139054Z",
     "iopub.status.busy": "2022-01-02T00:26:15.138361Z",
     "iopub.status.idle": "2022-01-02T00:26:15.153509Z",
     "shell.execute_reply": "2022-01-02T00:26:15.152949Z"
    },
    "papermill": {
     "duration": 0.054388,
     "end_time": "2022-01-02T00:26:15.153638",
     "exception": false,
     "start_time": "2022-01-02T00:26:15.099250",
     "status": "completed"
    },
    "tags": []
   },
   "outputs": [],
   "source": [
    "y_train = 1*(y_train==3)\n",
    "y_test = 1*(y_test==3)"
   ]
  },
  {
   "cell_type": "code",
   "execution_count": 13,
   "id": "01e4e969",
   "metadata": {
    "execution": {
     "iopub.execute_input": "2022-01-02T00:26:15.227581Z",
     "iopub.status.busy": "2022-01-02T00:26:15.226921Z",
     "iopub.status.idle": "2022-01-02T00:26:15.243431Z",
     "shell.execute_reply": "2022-01-02T00:26:15.242836Z"
    },
    "papermill": {
     "duration": 0.055103,
     "end_time": "2022-01-02T00:26:15.243583",
     "exception": false,
     "start_time": "2022-01-02T00:26:15.188480",
     "status": "completed"
    },
    "tags": []
   },
   "outputs": [
    {
     "data": {
      "text/plain": [
       "((11982, 28, 28), (1984, 28, 28))"
      ]
     },
     "execution_count": 13,
     "metadata": {},
     "output_type": "execute_result"
    }
   ],
   "source": [
    "X_train.shape, X_test.shape"
   ]
  },
  {
   "cell_type": "markdown",
   "id": "5ccf3f85",
   "metadata": {
    "papermill": {
     "duration": 0.035034,
     "end_time": "2022-01-02T00:26:15.312472",
     "exception": false,
     "start_time": "2022-01-02T00:26:15.277438",
     "status": "completed"
    },
    "tags": []
   },
   "source": [
    "We reshape the data to flatten the image pixels into a set of features or co-variates:"
   ]
  },
  {
   "cell_type": "code",
   "execution_count": 14,
   "id": "5286a4a3",
   "metadata": {
    "execution": {
     "iopub.execute_input": "2022-01-02T00:26:15.389632Z",
     "iopub.status.busy": "2022-01-02T00:26:15.388951Z",
     "iopub.status.idle": "2022-01-02T00:26:15.404353Z",
     "shell.execute_reply": "2022-01-02T00:26:15.404870Z"
    },
    "papermill": {
     "duration": 0.056501,
     "end_time": "2022-01-02T00:26:15.405024",
     "exception": false,
     "start_time": "2022-01-02T00:26:15.348523",
     "status": "completed"
    },
    "tags": []
   },
   "outputs": [
    {
     "data": {
      "text/plain": [
       "((11982, 784), (1984, 784))"
      ]
     },
     "execution_count": 14,
     "metadata": {},
     "output_type": "execute_result"
    }
   ],
   "source": [
    "X_train = X_train.reshape(X_train.shape[0], -1)\n",
    "X_test = X_test.reshape(X_test.shape[0], -1)\n",
    "X_train.shape, X_test.shape"
   ]
  },
  {
   "cell_type": "code",
   "execution_count": 15,
   "id": "73c5f88a",
   "metadata": {
    "execution": {
     "iopub.execute_input": "2022-01-02T00:26:15.485502Z",
     "iopub.status.busy": "2022-01-02T00:26:15.484718Z",
     "iopub.status.idle": "2022-01-02T00:26:15.506165Z",
     "shell.execute_reply": "2022-01-02T00:26:15.505579Z"
    },
    "papermill": {
     "duration": 0.066189,
     "end_time": "2022-01-02T00:26:15.506336",
     "exception": false,
     "start_time": "2022-01-02T00:26:15.440147",
     "status": "completed"
    },
    "tags": []
   },
   "outputs": [],
   "source": [
    "#Impoting functions from 'Kudzu'\n",
    "from kudzu.model import Model\n",
    "from kudzu.train import Learner\n",
    "from kudzu.optim import GD\n",
    "from kudzu.data import Data, Sampler,Dataloader\n",
    "\n",
    "from kudzu.callbacks import AccCallback\n",
    "from kudzu.callbacks import ClfCallback\n",
    "\n",
    "from kudzu.loss import MSE\n",
    "\n",
    "from kudzu.layer import Sigmoid,Relu\n",
    "from kudzu.layer import Affine"
   ]
  },
  {
   "cell_type": "markdown",
   "id": "bc01172a",
   "metadata": {
    "papermill": {
     "duration": 0.036075,
     "end_time": "2022-01-02T00:26:15.578044",
     "exception": false,
     "start_time": "2022-01-02T00:26:15.541969",
     "status": "completed"
    },
    "tags": []
   },
   "source": [
    "### Let us create a `Config` class, to store important parameters. \n",
    "This class essentially plays the role of a dictionary."
   ]
  },
  {
   "cell_type": "code",
   "execution_count": 16,
   "id": "978281aa",
   "metadata": {
    "execution": {
     "iopub.execute_input": "2022-01-02T00:26:15.657383Z",
     "iopub.status.busy": "2022-01-02T00:26:15.656460Z",
     "iopub.status.idle": "2022-01-02T00:26:15.669947Z",
     "shell.execute_reply": "2022-01-02T00:26:15.670520Z"
    },
    "papermill": {
     "duration": 0.057035,
     "end_time": "2022-01-02T00:26:15.670695",
     "exception": false,
     "start_time": "2022-01-02T00:26:15.613660",
     "status": "completed"
    },
    "tags": []
   },
   "outputs": [],
   "source": [
    "class Config:\n",
    "    pass\n",
    "config = Config()\n",
    "config.lr = 0.001\n",
    "config.num_epochs = 250\n",
    "config.bs = 50"
   ]
  },
  {
   "cell_type": "markdown",
   "id": "1385fa59",
   "metadata": {
    "papermill": {
     "duration": 0.034914,
     "end_time": "2022-01-02T00:26:15.742109",
     "exception": false,
     "start_time": "2022-01-02T00:26:15.707195",
     "status": "completed"
    },
    "tags": []
   },
   "source": [
    "### Running Models with the Training data\n",
    "Details about the network layers:\n",
    "- A first affine layer has 784 inputs and does 100 affine transforms. These are followed by a Relu\n",
    "- A second affine layer has 100 inputs from the 100 activations of the past layer, and does 100 affine transforms. These are followed by a Relu\n",
    "- A third affine layer has 100 activations and does 2 affine transformations to create an embedding for visualization. There is no non-linearity here.\n",
    "- A final \"logistic regression\" which has an affine transform from 2 inputs to 1 output, which is squeezed through a sigmoid.\n"
   ]
  },
  {
   "cell_type": "code",
   "execution_count": 17,
   "id": "2b9c66db",
   "metadata": {
    "execution": {
     "iopub.execute_input": "2022-01-02T00:26:15.820928Z",
     "iopub.status.busy": "2022-01-02T00:26:15.820237Z",
     "iopub.status.idle": "2022-01-02T00:26:15.832738Z",
     "shell.execute_reply": "2022-01-02T00:26:15.832078Z"
    },
    "papermill": {
     "duration": 0.055417,
     "end_time": "2022-01-02T00:26:15.832872",
     "exception": false,
     "start_time": "2022-01-02T00:26:15.777455",
     "status": "completed"
    },
    "tags": []
   },
   "outputs": [],
   "source": [
    "data = Data(X_train, y_train.reshape(-1,1))\n",
    "sampler = Sampler(data, config.bs, shuffle=True)\n",
    "\n",
    "dl = Dataloader(data, sampler)\n",
    "\n",
    "opt = GD(config.lr)\n",
    "loss = MSE()"
   ]
  },
  {
   "cell_type": "code",
   "execution_count": 18,
   "id": "b275e4c2",
   "metadata": {
    "execution": {
     "iopub.execute_input": "2022-01-02T00:26:15.910104Z",
     "iopub.status.busy": "2022-01-02T00:26:15.909355Z",
     "iopub.status.idle": "2022-01-02T00:26:15.923139Z",
     "shell.execute_reply": "2022-01-02T00:26:15.922594Z"
    },
    "papermill": {
     "duration": 0.05371,
     "end_time": "2022-01-02T00:26:15.923275",
     "exception": false,
     "start_time": "2022-01-02T00:26:15.869565",
     "status": "completed"
    },
    "tags": []
   },
   "outputs": [],
   "source": [
    "training_data_x = X_train\n",
    "testing_data_x = X_test\n",
    "training_data_y = y_train.reshape(-1,1)\n",
    "testing_data_y = y_test.reshape(-1,1)"
   ]
  },
  {
   "cell_type": "code",
   "execution_count": 19,
   "id": "76951160",
   "metadata": {
    "execution": {
     "iopub.execute_input": "2022-01-02T00:26:15.999722Z",
     "iopub.status.busy": "2022-01-02T00:26:15.998977Z",
     "iopub.status.idle": "2022-01-02T00:26:16.018649Z",
     "shell.execute_reply": "2022-01-02T00:26:16.018020Z"
    },
    "papermill": {
     "duration": 0.060762,
     "end_time": "2022-01-02T00:26:16.018788",
     "exception": false,
     "start_time": "2022-01-02T00:26:15.958026",
     "status": "completed"
    },
    "tags": []
   },
   "outputs": [
    {
     "name": "stdout",
     "output_type": "stream",
     "text": [
      "xavier\n",
      "xavier\n",
      "xavier\n",
      "xavier\n",
      "xavier\n"
     ]
    }
   ],
   "source": [
    "layers = [Affine(\"first\", 784, 100), Relu(\"first\"), Affine(\"second\", 100, 100), Relu(\"second\"), Affine(\"third\", 100, 2), Affine(\"last\", 2, 1), Sigmoid(\"last\")]\n",
    "model_nn = Model(layers)\n",
    "model_lr = Model([Affine(\"logits\", 784, 1), Sigmoid(\"sigmoid\")])"
   ]
  },
  {
   "cell_type": "code",
   "execution_count": 20,
   "id": "6eede77a",
   "metadata": {
    "execution": {
     "iopub.execute_input": "2022-01-02T00:26:16.102000Z",
     "iopub.status.busy": "2022-01-02T00:26:16.101324Z",
     "iopub.status.idle": "2022-01-02T00:26:16.114661Z",
     "shell.execute_reply": "2022-01-02T00:26:16.115305Z"
    },
    "papermill": {
     "duration": 0.060326,
     "end_time": "2022-01-02T00:26:16.115458",
     "exception": false,
     "start_time": "2022-01-02T00:26:16.055132",
     "status": "completed"
    },
    "tags": []
   },
   "outputs": [],
   "source": [
    "nn_learner = Learner(loss, model_nn, opt, config.num_epochs)\n",
    "acc_nn = ClfCallback(nn_learner, config.bs, training_data_x , testing_data_x, training_data_y, testing_data_y)\n",
    "nn_learner.set_callbacks([acc_nn])"
   ]
  },
  {
   "cell_type": "code",
   "execution_count": 21,
   "id": "877b6cc7",
   "metadata": {
    "execution": {
     "iopub.execute_input": "2022-01-02T00:26:16.196019Z",
     "iopub.status.busy": "2022-01-02T00:26:16.195256Z",
     "iopub.status.idle": "2022-01-02T00:26:16.208344Z",
     "shell.execute_reply": "2022-01-02T00:26:16.207780Z"
    },
    "papermill": {
     "duration": 0.056859,
     "end_time": "2022-01-02T00:26:16.208481",
     "exception": false,
     "start_time": "2022-01-02T00:26:16.151622",
     "status": "completed"
    },
    "tags": []
   },
   "outputs": [],
   "source": [
    "lr_learner = Learner(loss, model_lr, opt, config.num_epochs)\n",
    "acc_lr = ClfCallback(lr_learner, config.bs, training_data_x , testing_data_x, training_data_y, testing_data_y)\n",
    "lr_learner.set_callbacks([acc_lr])"
   ]
  },
  {
   "cell_type": "code",
   "execution_count": 22,
   "id": "d9b133c3",
   "metadata": {
    "execution": {
     "iopub.execute_input": "2022-01-02T00:26:16.290101Z",
     "iopub.status.busy": "2022-01-02T00:26:16.289363Z",
     "iopub.status.idle": "2022-01-02T00:28:42.920004Z",
     "shell.execute_reply": "2022-01-02T00:28:42.921171Z"
    },
    "papermill": {
     "duration": 146.676514,
     "end_time": "2022-01-02T00:28:42.921346",
     "exception": false,
     "start_time": "2022-01-02T00:26:16.244832",
     "status": "completed"
    },
    "tags": []
   },
   "outputs": [
    {
     "name": "stdout",
     "output_type": "stream",
     "text": [
      "Epoch 0, Loss 0.2391\n",
      "Training Accuracy: 0.7437, Testing Accuracy: 0.7525\n",
      "\n"
     ]
    },
    {
     "name": "stdout",
     "output_type": "stream",
     "text": [
      "Epoch 10, Loss 0.0826\n",
      "Training Accuracy: 0.9215, Testing Accuracy: 0.9244\n",
      "\n"
     ]
    },
    {
     "name": "stdout",
     "output_type": "stream",
     "text": [
      "Epoch 20, Loss 0.0553\n",
      "Training Accuracy: 0.9396, Testing Accuracy: 0.9506\n",
      "\n"
     ]
    },
    {
     "name": "stdout",
     "output_type": "stream",
     "text": [
      "Epoch 30, Loss 0.045\n",
      "Training Accuracy: 0.9504, Testing Accuracy: 0.9597\n",
      "\n"
     ]
    },
    {
     "name": "stdout",
     "output_type": "stream",
     "text": [
      "Epoch 40, Loss 0.0394\n",
      "Training Accuracy: 0.9551, Testing Accuracy: 0.9617\n",
      "\n"
     ]
    },
    {
     "name": "stdout",
     "output_type": "stream",
     "text": [
      "Epoch 50, Loss 0.0358\n",
      "Training Accuracy: 0.9584, Testing Accuracy: 0.9642\n",
      "\n"
     ]
    },
    {
     "name": "stdout",
     "output_type": "stream",
     "text": [
      "Epoch 60, Loss 0.0332\n",
      "Training Accuracy: 0.9614, Testing Accuracy: 0.9677\n",
      "\n"
     ]
    },
    {
     "name": "stdout",
     "output_type": "stream",
     "text": [
      "Epoch 70, Loss 0.0312\n",
      "Training Accuracy: 0.9634, Testing Accuracy: 0.9688\n",
      "\n"
     ]
    },
    {
     "name": "stdout",
     "output_type": "stream",
     "text": [
      "Epoch 80, Loss 0.0296\n",
      "Training Accuracy: 0.9662, Testing Accuracy: 0.9682\n",
      "\n"
     ]
    },
    {
     "name": "stdout",
     "output_type": "stream",
     "text": [
      "Epoch 90, Loss 0.0283\n",
      "Training Accuracy: 0.9670, Testing Accuracy: 0.9688\n",
      "\n"
     ]
    },
    {
     "name": "stdout",
     "output_type": "stream",
     "text": [
      "Epoch 100, Loss 0.0272\n",
      "Training Accuracy: 0.9685, Testing Accuracy: 0.9703\n",
      "\n"
     ]
    },
    {
     "name": "stdout",
     "output_type": "stream",
     "text": [
      "Epoch 110, Loss 0.0262\n",
      "Training Accuracy: 0.9700, Testing Accuracy: 0.9708\n",
      "\n"
     ]
    },
    {
     "name": "stdout",
     "output_type": "stream",
     "text": [
      "Epoch 120, Loss 0.0253\n",
      "Training Accuracy: 0.9711, Testing Accuracy: 0.9708\n",
      "\n"
     ]
    },
    {
     "name": "stdout",
     "output_type": "stream",
     "text": [
      "Epoch 130, Loss 0.0245\n",
      "Training Accuracy: 0.9723, Testing Accuracy: 0.9708\n",
      "\n"
     ]
    },
    {
     "name": "stdout",
     "output_type": "stream",
     "text": [
      "Epoch 140, Loss 0.0238\n",
      "Training Accuracy: 0.9733, Testing Accuracy: 0.9713\n",
      "\n"
     ]
    },
    {
     "name": "stdout",
     "output_type": "stream",
     "text": [
      "Epoch 150, Loss 0.0231\n",
      "Training Accuracy: 0.9739, Testing Accuracy: 0.9713\n",
      "\n"
     ]
    },
    {
     "name": "stdout",
     "output_type": "stream",
     "text": [
      "Epoch 160, Loss 0.0225\n",
      "Training Accuracy: 0.9742, Testing Accuracy: 0.9718\n",
      "\n"
     ]
    },
    {
     "name": "stdout",
     "output_type": "stream",
     "text": [
      "Epoch 170, Loss 0.0219\n",
      "Training Accuracy: 0.9747, Testing Accuracy: 0.9728\n",
      "\n"
     ]
    },
    {
     "name": "stdout",
     "output_type": "stream",
     "text": [
      "Epoch 180, Loss 0.0214\n",
      "Training Accuracy: 0.9751, Testing Accuracy: 0.9733\n",
      "\n"
     ]
    },
    {
     "name": "stdout",
     "output_type": "stream",
     "text": [
      "Epoch 190, Loss 0.0209\n",
      "Training Accuracy: 0.9760, Testing Accuracy: 0.9738\n",
      "\n"
     ]
    },
    {
     "name": "stdout",
     "output_type": "stream",
     "text": [
      "Epoch 200, Loss 0.0205\n",
      "Training Accuracy: 0.9766, Testing Accuracy: 0.9738\n",
      "\n"
     ]
    },
    {
     "name": "stdout",
     "output_type": "stream",
     "text": [
      "Epoch 210, Loss 0.02\n",
      "Training Accuracy: 0.9772, Testing Accuracy: 0.9738\n",
      "\n"
     ]
    },
    {
     "name": "stdout",
     "output_type": "stream",
     "text": [
      "Epoch 220, Loss 0.0196\n",
      "Training Accuracy: 0.9776, Testing Accuracy: 0.9743\n",
      "\n"
     ]
    },
    {
     "name": "stdout",
     "output_type": "stream",
     "text": [
      "Epoch 230, Loss 0.0192\n",
      "Training Accuracy: 0.9782, Testing Accuracy: 0.9743\n",
      "\n"
     ]
    },
    {
     "name": "stdout",
     "output_type": "stream",
     "text": [
      "Epoch 240, Loss 0.0188\n",
      "Training Accuracy: 0.9786, Testing Accuracy: 0.9743\n",
      "\n"
     ]
    },
    {
     "data": {
      "text/plain": [
       "0.022828241183731113"
      ]
     },
     "execution_count": 22,
     "metadata": {},
     "output_type": "execute_result"
    }
   ],
   "source": [
    "nn_learner.train_loop(dl)"
   ]
  },
  {
   "cell_type": "code",
   "execution_count": 23,
   "id": "e0163366",
   "metadata": {
    "execution": {
     "iopub.execute_input": "2022-01-02T00:28:43.026147Z",
     "iopub.status.busy": "2022-01-02T00:28:43.025435Z",
     "iopub.status.idle": "2022-01-02T00:29:04.115797Z",
     "shell.execute_reply": "2022-01-02T00:29:04.116715Z"
    },
    "papermill": {
     "duration": 21.147413,
     "end_time": "2022-01-02T00:29:04.116903",
     "exception": false,
     "start_time": "2022-01-02T00:28:42.969490",
     "status": "completed"
    },
    "tags": []
   },
   "outputs": [
    {
     "name": "stdout",
     "output_type": "stream",
     "text": [
      "Epoch 0, Loss 0.2287\n",
      "Training Accuracy: 0.7400, Testing Accuracy: 0.7429\n",
      "\n"
     ]
    },
    {
     "name": "stdout",
     "output_type": "stream",
     "text": [
      "Epoch 10, Loss 0.1008\n",
      "Training Accuracy: 0.9154, Testing Accuracy: 0.9299\n",
      "\n"
     ]
    },
    {
     "name": "stdout",
     "output_type": "stream",
     "text": [
      "Epoch 20, Loss 0.0778\n",
      "Training Accuracy: 0.9318, Testing Accuracy: 0.9441\n",
      "\n"
     ]
    },
    {
     "name": "stdout",
     "output_type": "stream",
     "text": [
      "Epoch 30, Loss 0.0672\n",
      "Training Accuracy: 0.9382, Testing Accuracy: 0.9541\n",
      "\n"
     ]
    },
    {
     "name": "stdout",
     "output_type": "stream",
     "text": [
      "Epoch 40, Loss 0.0608\n",
      "Training Accuracy: 0.9425, Testing Accuracy: 0.9582\n",
      "\n"
     ]
    },
    {
     "name": "stdout",
     "output_type": "stream",
     "text": [
      "Epoch 50, Loss 0.0565\n",
      "Training Accuracy: 0.9451, Testing Accuracy: 0.9602\n",
      "\n"
     ]
    },
    {
     "name": "stdout",
     "output_type": "stream",
     "text": [
      "Epoch 60, Loss 0.0533\n",
      "Training Accuracy: 0.9471, Testing Accuracy: 0.9632\n",
      "\n"
     ]
    },
    {
     "name": "stdout",
     "output_type": "stream",
     "text": [
      "Epoch 70, Loss 0.0508\n",
      "Training Accuracy: 0.9493, Testing Accuracy: 0.9627\n",
      "\n"
     ]
    },
    {
     "name": "stdout",
     "output_type": "stream",
     "text": [
      "Epoch 80, Loss 0.0488\n",
      "Training Accuracy: 0.9505, Testing Accuracy: 0.9647\n",
      "\n"
     ]
    },
    {
     "name": "stdout",
     "output_type": "stream",
     "text": [
      "Epoch 90, Loss 0.0472\n",
      "Training Accuracy: 0.9522, Testing Accuracy: 0.9642\n",
      "\n"
     ]
    },
    {
     "name": "stdout",
     "output_type": "stream",
     "text": [
      "Epoch 100, Loss 0.0458\n",
      "Training Accuracy: 0.9536, Testing Accuracy: 0.9652\n",
      "\n"
     ]
    },
    {
     "name": "stdout",
     "output_type": "stream",
     "text": [
      "Epoch 110, Loss 0.0446\n",
      "Training Accuracy: 0.9548, Testing Accuracy: 0.9662\n",
      "\n"
     ]
    },
    {
     "name": "stdout",
     "output_type": "stream",
     "text": [
      "Epoch 120, Loss 0.0436\n",
      "Training Accuracy: 0.9554, Testing Accuracy: 0.9662\n",
      "\n"
     ]
    },
    {
     "name": "stdout",
     "output_type": "stream",
     "text": [
      "Epoch 130, Loss 0.0427\n",
      "Training Accuracy: 0.9559, Testing Accuracy: 0.9672\n",
      "\n"
     ]
    },
    {
     "name": "stdout",
     "output_type": "stream",
     "text": [
      "Epoch 140, Loss 0.0419\n",
      "Training Accuracy: 0.9562, Testing Accuracy: 0.9672\n",
      "\n"
     ]
    },
    {
     "name": "stdout",
     "output_type": "stream",
     "text": [
      "Epoch 150, Loss 0.0411\n",
      "Training Accuracy: 0.9569, Testing Accuracy: 0.9672\n",
      "\n"
     ]
    },
    {
     "name": "stdout",
     "output_type": "stream",
     "text": [
      "Epoch 160, Loss 0.0405\n",
      "Training Accuracy: 0.9577, Testing Accuracy: 0.9677\n",
      "\n"
     ]
    },
    {
     "name": "stdout",
     "output_type": "stream",
     "text": [
      "Epoch 170, Loss 0.0399\n",
      "Training Accuracy: 0.9584, Testing Accuracy: 0.9672\n",
      "\n"
     ]
    },
    {
     "name": "stdout",
     "output_type": "stream",
     "text": [
      "Epoch 180, Loss 0.0393\n",
      "Training Accuracy: 0.9588, Testing Accuracy: 0.9677\n",
      "\n"
     ]
    },
    {
     "name": "stdout",
     "output_type": "stream",
     "text": [
      "Epoch 190, Loss 0.0388\n",
      "Training Accuracy: 0.9592, Testing Accuracy: 0.9677\n",
      "\n"
     ]
    },
    {
     "name": "stdout",
     "output_type": "stream",
     "text": [
      "Epoch 200, Loss 0.0383\n",
      "Training Accuracy: 0.9599, Testing Accuracy: 0.9677\n",
      "\n"
     ]
    },
    {
     "name": "stdout",
     "output_type": "stream",
     "text": [
      "Epoch 210, Loss 0.0379\n",
      "Training Accuracy: 0.9603, Testing Accuracy: 0.9677\n",
      "\n"
     ]
    },
    {
     "name": "stdout",
     "output_type": "stream",
     "text": [
      "Epoch 220, Loss 0.0375\n",
      "Training Accuracy: 0.9603, Testing Accuracy: 0.9677\n",
      "\n"
     ]
    },
    {
     "name": "stdout",
     "output_type": "stream",
     "text": [
      "Epoch 230, Loss 0.0371\n",
      "Training Accuracy: 0.9604, Testing Accuracy: 0.9682\n",
      "\n"
     ]
    },
    {
     "name": "stdout",
     "output_type": "stream",
     "text": [
      "Epoch 240, Loss 0.0368\n",
      "Training Accuracy: 0.9609, Testing Accuracy: 0.9693\n",
      "\n"
     ]
    },
    {
     "data": {
      "text/plain": [
       "0.054683787301468445"
      ]
     },
     "execution_count": 23,
     "metadata": {},
     "output_type": "execute_result"
    }
   ],
   "source": [
    "lr_learner.train_loop(dl)"
   ]
  },
  {
   "cell_type": "code",
   "execution_count": 24,
   "id": "ca410940",
   "metadata": {
    "execution": {
     "iopub.execute_input": "2022-01-02T00:29:04.238907Z",
     "iopub.status.busy": "2022-01-02T00:29:04.238152Z",
     "iopub.status.idle": "2022-01-02T00:29:04.550012Z",
     "shell.execute_reply": "2022-01-02T00:29:04.550745Z"
    },
    "papermill": {
     "duration": 0.378439,
     "end_time": "2022-01-02T00:29:04.550906",
     "exception": false,
     "start_time": "2022-01-02T00:29:04.172467",
     "status": "completed"
    },
    "tags": []
   },
   "outputs": [
    {
     "data": {
      "text/plain": [
       "<matplotlib.legend.Legend at 0x7ff4114a7b38>"
      ]
     },
     "execution_count": 24,
     "metadata": {},
     "output_type": "execute_result"
    },
    {
     "data": {
      "image/png": "[encoded data removed]",
      "text/plain": [
       "<Figure size 1080x720 with 1 Axes>"
      ]
     },
     "metadata": {
      "needs_background": "light"
     },
     "output_type": "display_data"
    }
   ],
   "source": [
    "#comparing the results of NN and LR\n",
    "plt.figure(figsize=(15,10))\n",
    "\n",
    "# Neural Network plots\n",
    "plt.plot(acc_nn.accuracies, 'r-', label = \"Training Accuracies - NN\")\n",
    "plt.plot(acc_nn.test_accuracies, 'g-', label = \"Testing Accuracies - NN\")\n",
    "\n",
    "# Logistic Regression plots\n",
    "plt.plot(acc_lr.accuracies, 'k-', label = \"Training Accuracies - LR\")\n",
    "plt.plot(acc_lr.test_accuracies, 'b-', label = \"Testing Accuracies - LR\")\n",
    "plt.legend()"
   ]
  },
  {
   "cell_type": "markdown",
   "id": "80dfb35c",
   "metadata": {
    "papermill": {
     "duration": 0.054881,
     "end_time": "2022-01-02T00:29:04.664177",
     "exception": false,
     "start_time": "2022-01-02T00:29:04.609296",
     "status": "completed"
    },
    "tags": []
   },
   "source": [
    "#### Plotting the outputs of this layer of the NN.\n"
   ]
  },
  {
   "cell_type": "code",
   "execution_count": 25,
   "id": "45eb2ff5",
   "metadata": {
    "execution": {
     "iopub.execute_input": "2022-01-02T00:29:04.777381Z",
     "iopub.status.busy": "2022-01-02T00:29:04.776525Z",
     "iopub.status.idle": "2022-01-02T00:29:04.809986Z",
     "shell.execute_reply": "2022-01-02T00:29:04.810935Z"
    },
    "papermill": {
     "duration": 0.091522,
     "end_time": "2022-01-02T00:29:04.811107",
     "exception": false,
     "start_time": "2022-01-02T00:29:04.719585",
     "status": "completed"
    },
    "tags": []
   },
   "outputs": [],
   "source": [
    "new_model = Model(layers[:-2])\n",
    "testing_plot = new_model(testing_data_x)"
   ]
  },
  {
   "cell_type": "code",
   "execution_count": 26,
   "id": "4c0a5485",
   "metadata": {
    "execution": {
     "iopub.execute_input": "2022-01-02T00:29:04.926068Z",
     "iopub.status.busy": "2022-01-02T00:29:04.925398Z",
     "iopub.status.idle": "2022-01-02T00:29:05.203942Z",
     "shell.execute_reply": "2022-01-02T00:29:05.204500Z"
    },
    "papermill": {
     "duration": 0.338139,
     "end_time": "2022-01-02T00:29:05.204667",
     "exception": false,
     "start_time": "2022-01-02T00:29:04.866528",
     "status": "completed"
    },
    "tags": []
   },
   "outputs": [
    {
     "data": {
      "text/plain": [
       "Text(0.5, 1.0, 'Outputs')"
      ]
     },
     "execution_count": 26,
     "metadata": {},
     "output_type": "execute_result"
    },
    {
     "data": {
      "image/png": "[encoded data removed]",
      "text/plain": [
       "<Figure size 576x504 with 1 Axes>"
      ]
     },
     "metadata": {
      "needs_background": "light"
     },
     "output_type": "display_data"
    }
   ],
   "source": [
    "# Plotting the scatter plot of points and color coding by class\n",
    "plt.figure(figsize=(8,7))\n",
    "plt.scatter(testing_plot[:,0], testing_plot[:,1], alpha = 0.1, c = y_test.ravel());\n",
    "plt.title('Outputs')"
   ]
  },
  {
   "cell_type": "markdown",
   "id": "a74fcf8f",
   "metadata": {
    "papermill": {
     "duration": 0.055816,
     "end_time": "2022-01-02T00:29:05.318713",
     "exception": false,
     "start_time": "2022-01-02T00:29:05.262897",
     "status": "completed"
    },
    "tags": []
   },
   "source": [
    "Probability contours"
   ]
  },
  {
   "cell_type": "code",
   "execution_count": 27,
   "id": "d0afc8e3",
   "metadata": {
    "execution": {
     "iopub.execute_input": "2022-01-02T00:29:05.464950Z",
     "iopub.status.busy": "2022-01-02T00:29:05.464304Z",
     "iopub.status.idle": "2022-01-02T00:29:05.478303Z",
     "shell.execute_reply": "2022-01-02T00:29:05.479074Z"
    },
    "papermill": {
     "duration": 0.104311,
     "end_time": "2022-01-02T00:29:05.479294",
     "exception": false,
     "start_time": "2022-01-02T00:29:05.374983",
     "status": "completed"
    },
    "tags": []
   },
   "outputs": [],
   "source": [
    "model_prob = Model(layers[-2:]) "
   ]
  },
  {
   "cell_type": "code",
   "execution_count": 28,
   "id": "9b96e238",
   "metadata": {
    "execution": {
     "iopub.execute_input": "2022-01-02T00:29:05.603209Z",
     "iopub.status.busy": "2022-01-02T00:29:05.602532Z",
     "iopub.status.idle": "2022-01-02T00:29:05.619089Z",
     "shell.execute_reply": "2022-01-02T00:29:05.619722Z"
    },
    "papermill": {
     "duration": 0.081257,
     "end_time": "2022-01-02T00:29:05.619883",
     "exception": false,
     "start_time": "2022-01-02T00:29:05.538626",
     "status": "completed"
    },
    "tags": []
   },
   "outputs": [],
   "source": [
    "#creating the x and y ranges according to the above generated plot.\n",
    "x_range = np.linspace(-4, 1, 100) \n",
    "y_range = np.linspace(-6, 6, 100) \n",
    "x_grid, y_grid = np.meshgrid(x_range, y_range) # x_grid and y_grig are of size 100 X 100\n",
    "\n",
    "# converting x_grid and y_grid to continuous arrays\n",
    "x_gridflat = np.ravel(x_grid)\n",
    "y_gridflat = np.ravel(y_grid)\n",
    "\n",
    "# The last layer of the current model takes two columns as input. Hence transpose of np.vstack() is required.\n",
    "X = np.vstack((x_gridflat, y_gridflat)).T\n",
    "\n",
    "prob_contour = model_prob(X).reshape(100,100) "
   ]
  },
  {
   "cell_type": "code",
   "execution_count": 29,
   "id": "da72499a",
   "metadata": {
    "execution": {
     "iopub.execute_input": "2022-01-02T00:29:05.747166Z",
     "iopub.status.busy": "2022-01-02T00:29:05.746164Z",
     "iopub.status.idle": "2022-01-02T00:29:06.078048Z",
     "shell.execute_reply": "2022-01-02T00:29:06.077491Z"
    },
    "papermill": {
     "duration": 0.393107,
     "end_time": "2022-01-02T00:29:06.078185",
     "exception": false,
     "start_time": "2022-01-02T00:29:05.685078",
     "status": "completed"
    },
    "tags": []
   },
   "outputs": [
    {
     "data": {
      "image/png": "[encoded data removed]",
      "text/plain": [
       "<Figure size 720x648 with 1 Axes>"
      ]
     },
     "metadata": {
      "needs_background": "light"
     },
     "output_type": "display_data"
    }
   ],
   "source": [
    "plt.figure(figsize=(10,9))\n",
    "plt.scatter(testing_plot[:,0], testing_plot[:,1], alpha = 0.1, c = y_test.ravel())\n",
    "contours = plt.contour(x_grid,y_grid,prob_contour)\n",
    "plt.title('Probability Contours')\n",
    "plt.clabel(contours, inline = True );"
   ]
  },
  {
   "cell_type": "code",
   "execution_count": null,
   "id": "e81b4ac7",
   "metadata": {
    "papermill": {
     "duration": 0.06169,
     "end_time": "2022-01-02T00:29:06.200119",
     "exception": false,
     "start_time": "2022-01-02T00:29:06.138429",
     "status": "completed"
    },
    "tags": []
   },
   "outputs": [],
   "source": []
  }
 ],
 "metadata": {
  "kernelspec": {
   "display_name": "Python 3",
   "language": "python",
   "name": "python3"
  },
  "language_info": {
   "codemirror_mode": {
    "name": "ipython",
    "version": 3
   },
   "file_extension": ".py",
   "mimetype": "text/x-python",
   "name": "python",
   "nbconvert_exporter": "python",
   "pygments_lexer": "ipython3",
   "version": "3.6.15"
  },
  "papermill": {
   "default_parameters": {},
   "duration": 178.107955,
   "end_time": "2022-01-02T00:29:06.669496",
   "environment_variables": {},
   "exception": null,
   "input_path": "2020-08-11-part2.ipynb",
   "output_path": "2020-08-11-part2.ipynb",
   "parameters": {},
   "start_time": "2022-01-02T00:26:08.561541",
   "version": "2.3.3"
  }
 },
 "nbformat": 4,
 "nbformat_minor": 5
}