{
 "cells": [
  {
   "cell_type": "markdown",
   "id": "98380cd3",
   "metadata": {
    "papermill": {
     "duration": 0.033602,
     "end_time": "2022-06-03T00:32:20.453986",
     "exception": false,
     "start_time": "2022-06-03T00:32:20.420384",
     "status": "completed"
    },
    "tags": []
   },
   "source": [
    "# Distinguish Your Own Digits (DYOD)"
   ]
  },
  {
   "cell_type": "markdown",
   "id": "ef31240d",
   "metadata": {
    "papermill": {
     "duration": 0.026572,
     "end_time": "2022-06-03T00:32:20.506198",
     "exception": false,
     "start_time": "2022-06-03T00:32:20.479626",
     "status": "completed"
    },
    "tags": []
   },
   "source": [
    "You are going to write a classifier that distinguishes between the number 3 and number 8."
   ]
  },
  {
   "cell_type": "code",
   "execution_count": 1,
   "id": "b15c8646",
   "metadata": {
    "execution": {
     "iopub.execute_input": "2022-06-03T00:32:20.573951Z",
     "iopub.status.busy": "2022-06-03T00:32:20.573058Z",
     "iopub.status.idle": "2022-06-03T00:32:20.586697Z",
     "shell.execute_reply": "2022-06-03T00:32:20.585960Z"
    },
    "papermill": {
     "duration": 0.053932,
     "end_time": "2022-06-03T00:32:20.586836",
     "exception": false,
     "start_time": "2022-06-03T00:32:20.532904",
     "status": "completed"
    },
    "tags": []
   },
   "outputs": [],
   "source": [
    "%load_ext autoreload\n",
    "%autoreload 2"
   ]
  },
  {
   "cell_type": "code",
   "execution_count": 2,
   "id": "22ef38dc",
   "metadata": {
    "execution": {
     "iopub.execute_input": "2022-06-03T00:32:20.644699Z",
     "iopub.status.busy": "2022-06-03T00:32:20.643998Z",
     "iopub.status.idle": "2022-06-03T00:32:21.228598Z",
     "shell.execute_reply": "2022-06-03T00:32:21.227938Z"
    },
    "papermill": {
     "duration": 0.615631,
     "end_time": "2022-06-03T00:32:21.228728",
     "exception": false,
     "start_time": "2022-06-03T00:32:20.613097",
     "status": "completed"
    },
    "tags": []
   },
   "outputs": [],
   "source": [
    "%matplotlib inline\n",
    "import numpy as np\n",
    "import matplotlib.pyplot as plt\n",
    "import pandas as pd"
   ]
  },
  {
   "cell_type": "markdown",
   "id": "ba036198",
   "metadata": {
    "papermill": {
     "duration": 0.026126,
     "end_time": "2022-06-03T00:32:21.281465",
     "exception": false,
     "start_time": "2022-06-03T00:32:21.255339",
     "status": "completed"
    },
    "tags": []
   },
   "source": [
    "From the command line run `pip install mnist`. This is a library that will help you bring down the mnist dataset. If you run this from a notebook, you need to put  `!pip install mnist` in a cell by itself."
   ]
  },
  {
   "cell_type": "code",
   "execution_count": 3,
   "id": "bb6ad8a1",
   "metadata": {
    "execution": {
     "iopub.execute_input": "2022-06-03T00:32:21.344483Z",
     "iopub.status.busy": "2022-06-03T00:32:21.341321Z",
     "iopub.status.idle": "2022-06-03T00:32:23.103013Z",
     "shell.execute_reply": "2022-06-03T00:32:23.103923Z"
    },
    "papermill": {
     "duration": 1.796791,
     "end_time": "2022-06-03T00:32:23.104093",
     "exception": false,
     "start_time": "2022-06-03T00:32:21.307302",
     "status": "completed"
    },
    "tags": []
   },
   "outputs": [
    {
     "name": "stdout",
     "output_type": "stream",
     "text": [
      "Collecting mnist\r\n"
     ]
    },
    {
     "name": "stdout",
     "output_type": "stream",
     "text": [
      "  Downloading mnist-0.2.2-py2.py3-none-any.whl (3.5 kB)\r\n",
      "Requirement already satisfied: numpy in /opt/hostedtoolcache/Python/3.6.15/x64/lib/python3.6/site-packages (from mnist) (1.19.5)\r\n"
     ]
    },
    {
     "name": "stdout",
     "output_type": "stream",
     "text": [
      "Installing collected packages: mnist\r\n",
      "Successfully installed mnist-0.2.2\r\n"
     ]
    }
   ],
   "source": [
    "!pip install mnist"
   ]
  },
  {
   "cell_type": "markdown",
   "id": "69df9c9a",
   "metadata": {
    "papermill": {
     "duration": 0.025662,
     "end_time": "2022-06-03T00:32:23.155953",
     "exception": false,
     "start_time": "2022-06-03T00:32:23.130291",
     "status": "completed"
    },
    "tags": []
   },
   "source": [
    "## Preparing the Data"
   ]
  },
  {
   "cell_type": "code",
   "execution_count": 4,
   "id": "7f69d806",
   "metadata": {
    "execution": {
     "iopub.execute_input": "2022-06-03T00:32:23.214467Z",
     "iopub.status.busy": "2022-06-03T00:32:23.210762Z",
     "iopub.status.idle": "2022-06-03T00:32:23.228290Z",
     "shell.execute_reply": "2022-06-03T00:32:23.228854Z"
    },
    "papermill": {
     "duration": 0.048734,
     "end_time": "2022-06-03T00:32:23.228994",
     "exception": false,
     "start_time": "2022-06-03T00:32:23.180260",
     "status": "completed"
    },
    "tags": []
   },
   "outputs": [],
   "source": [
    "import mnist"
   ]
  },
  {
   "cell_type": "code",
   "execution_count": 5,
   "id": "a411e44f",
   "metadata": {
    "execution": {
     "iopub.execute_input": "2022-06-03T00:32:23.289263Z",
     "iopub.status.busy": "2022-06-03T00:32:23.286174Z",
     "iopub.status.idle": "2022-06-03T00:32:23.835626Z",
     "shell.execute_reply": "2022-06-03T00:32:23.835052Z"
    },
    "papermill": {
     "duration": 0.580334,
     "end_time": "2022-06-03T00:32:23.835755",
     "exception": false,
     "start_time": "2022-06-03T00:32:23.255421",
     "status": "completed"
    },
    "tags": []
   },
   "outputs": [],
   "source": [
    "train_images = mnist.train_images()\n",
    "train_labels = mnist.train_labels()"
   ]
  },
  {
   "cell_type": "code",
   "execution_count": 6,
   "id": "dceab3a5",
   "metadata": {
    "execution": {
     "iopub.execute_input": "2022-06-03T00:32:23.893367Z",
     "iopub.status.busy": "2022-06-03T00:32:23.892680Z",
     "iopub.status.idle": "2022-06-03T00:32:23.909720Z",
     "shell.execute_reply": "2022-06-03T00:32:23.909163Z"
    },
    "papermill": {
     "duration": 0.04789,
     "end_time": "2022-06-03T00:32:23.909846",
     "exception": false,
     "start_time": "2022-06-03T00:32:23.861956",
     "status": "completed"
    },
    "tags": []
   },
   "outputs": [
    {
     "data": {
      "text/plain": [
       "((60000, 28, 28), (60000,))"
      ]
     },
     "execution_count": 6,
     "metadata": {},
     "output_type": "execute_result"
    }
   ],
   "source": [
    "train_images.shape, train_labels.shape"
   ]
  },
  {
   "cell_type": "code",
   "execution_count": 7,
   "id": "f50dc2bb",
   "metadata": {
    "execution": {
     "iopub.execute_input": "2022-06-03T00:32:23.967525Z",
     "iopub.status.busy": "2022-06-03T00:32:23.966892Z",
     "iopub.status.idle": "2022-06-03T00:32:24.107788Z",
     "shell.execute_reply": "2022-06-03T00:32:24.106850Z"
    },
    "papermill": {
     "duration": 0.171398,
     "end_time": "2022-06-03T00:32:24.107916",
     "exception": false,
     "start_time": "2022-06-03T00:32:23.936518",
     "status": "completed"
    },
    "tags": []
   },
   "outputs": [],
   "source": [
    "test_images = mnist.test_images()\n",
    "test_labels = mnist.test_labels()"
   ]
  },
  {
   "cell_type": "code",
   "execution_count": 8,
   "id": "fc38cf1b",
   "metadata": {
    "execution": {
     "iopub.execute_input": "2022-06-03T00:32:24.166997Z",
     "iopub.status.busy": "2022-06-03T00:32:24.166275Z",
     "iopub.status.idle": "2022-06-03T00:32:24.180107Z",
     "shell.execute_reply": "2022-06-03T00:32:24.180629Z"
    },
    "papermill": {
     "duration": 0.045387,
     "end_time": "2022-06-03T00:32:24.180787",
     "exception": false,
     "start_time": "2022-06-03T00:32:24.135400",
     "status": "completed"
    },
    "tags": []
   },
   "outputs": [
    {
     "data": {
      "text/plain": [
       "((10000, 28, 28), (10000,))"
      ]
     },
     "execution_count": 8,
     "metadata": {},
     "output_type": "execute_result"
    }
   ],
   "source": [
    "test_images.shape, test_labels.shape"
   ]
  },
  {
   "cell_type": "code",
   "execution_count": 9,
   "id": "f9ed8fe0",
   "metadata": {
    "execution": {
     "iopub.execute_input": "2022-06-03T00:32:24.238562Z",
     "iopub.status.busy": "2022-06-03T00:32:24.237874Z",
     "iopub.status.idle": "2022-06-03T00:32:24.391392Z",
     "shell.execute_reply": "2022-06-03T00:32:24.390840Z"
    },
    "papermill": {
     "duration": 0.183765,
     "end_time": "2022-06-03T00:32:24.391506",
     "exception": false,
     "start_time": "2022-06-03T00:32:24.207741",
     "status": "completed"
    },
    "tags": []
   },
   "outputs": [
    {
     "name": "stdout",
     "output_type": "stream",
     "text": [
      "2\n"
     ]
    },
    {
     "data": {
      "text/plain": [
       "<matplotlib.image.AxesImage at 0x7f6e59b623c8>"
      ]
     },
     "execution_count": 9,
     "metadata": {},
     "output_type": "execute_result"
    },
    {
     "data": {
      "image/png": "[encoded data removed]",
      "text/plain": [
       "<Figure size 432x288 with 1 Axes>"
      ]
     },
     "metadata": {
      "needs_background": "light"
     },
     "output_type": "display_data"
    }
   ],
   "source": [
    "image_index = 7776 # You may select anything up to 60,000\n",
    "print(train_labels[image_index]) \n",
    "plt.imshow(train_images[image_index], cmap='Greys')"
   ]
  },
  {
   "cell_type": "markdown",
   "id": "a8d2388d",
   "metadata": {
    "papermill": {
     "duration": 0.027636,
     "end_time": "2022-06-03T00:32:24.445403",
     "exception": false,
     "start_time": "2022-06-03T00:32:24.417767",
     "status": "completed"
    },
    "tags": []
   },
   "source": [
    "## Filter data to get 3 and 8 out"
   ]
  },
  {
   "cell_type": "code",
   "execution_count": 10,
   "id": "776f7fc7",
   "metadata": {
    "execution": {
     "iopub.execute_input": "2022-06-03T00:32:24.506789Z",
     "iopub.status.busy": "2022-06-03T00:32:24.505202Z",
     "iopub.status.idle": "2022-06-03T00:32:24.524802Z",
     "shell.execute_reply": "2022-06-03T00:32:24.524104Z"
    },
    "papermill": {
     "duration": 0.052166,
     "end_time": "2022-06-03T00:32:24.524929",
     "exception": false,
     "start_time": "2022-06-03T00:32:24.472763",
     "status": "completed"
    },
    "tags": []
   },
   "outputs": [],
   "source": [
    "train_filter = np.where((train_labels == 3 ) | (train_labels == 8))\n",
    "test_filter = np.where((test_labels == 3) | (test_labels == 8))\n",
    "X_train, y_train = train_images[train_filter], train_labels[train_filter]\n",
    "X_test, y_test = test_images[test_filter], test_labels[test_filter]"
   ]
  },
  {
   "cell_type": "markdown",
   "id": "948f0b7e",
   "metadata": {
    "papermill": {
     "duration": 0.02674,
     "end_time": "2022-06-03T00:32:24.580189",
     "exception": false,
     "start_time": "2022-06-03T00:32:24.553449",
     "status": "completed"
    },
    "tags": []
   },
   "source": [
    "We normalize the pizel values in the 0 to 1 range"
   ]
  },
  {
   "cell_type": "code",
   "execution_count": 11,
   "id": "ee4c2166",
   "metadata": {
    "execution": {
     "iopub.execute_input": "2022-06-03T00:32:24.648037Z",
     "iopub.status.busy": "2022-06-03T00:32:24.641313Z",
     "iopub.status.idle": "2022-06-03T00:32:24.696740Z",
     "shell.execute_reply": "2022-06-03T00:32:24.695931Z"
    },
    "papermill": {
     "duration": 0.087991,
     "end_time": "2022-06-03T00:32:24.696873",
     "exception": false,
     "start_time": "2022-06-03T00:32:24.608882",
     "status": "completed"
    },
    "tags": []
   },
   "outputs": [],
   "source": [
    "X_train = X_train/255.\n",
    "X_test = X_test/255."
   ]
  },
  {
   "cell_type": "markdown",
   "id": "ddcf4fab",
   "metadata": {
    "papermill": {
     "duration": 0.026814,
     "end_time": "2022-06-03T00:32:24.749038",
     "exception": false,
     "start_time": "2022-06-03T00:32:24.722224",
     "status": "completed"
    },
    "tags": []
   },
   "source": [
    "And setup the labels as 1 (when the digit is 3) and 0 (when the digit is 8)"
   ]
  },
  {
   "cell_type": "code",
   "execution_count": 12,
   "id": "7dc908f2",
   "metadata": {
    "execution": {
     "iopub.execute_input": "2022-06-03T00:32:24.813610Z",
     "iopub.status.busy": "2022-06-03T00:32:24.809926Z",
     "iopub.status.idle": "2022-06-03T00:32:24.822868Z",
     "shell.execute_reply": "2022-06-03T00:32:24.823327Z"
    },
    "papermill": {
     "duration": 0.046601,
     "end_time": "2022-06-03T00:32:24.823465",
     "exception": false,
     "start_time": "2022-06-03T00:32:24.776864",
     "status": "completed"
    },
    "tags": []
   },
   "outputs": [],
   "source": [
    "y_train = 1*(y_train==3)\n",
    "y_test = 1*(y_test==3)"
   ]
  },
  {
   "cell_type": "code",
   "execution_count": 13,
   "id": "01e4e969",
   "metadata": {
    "execution": {
     "iopub.execute_input": "2022-06-03T00:32:24.890829Z",
     "iopub.status.busy": "2022-06-03T00:32:24.884319Z",
     "iopub.status.idle": "2022-06-03T00:32:24.902164Z",
     "shell.execute_reply": "2022-06-03T00:32:24.902685Z"
    },
    "papermill": {
     "duration": 0.050809,
     "end_time": "2022-06-03T00:32:24.902825",
     "exception": false,
     "start_time": "2022-06-03T00:32:24.852016",
     "status": "completed"
    },
    "tags": []
   },
   "outputs": [
    {
     "data": {
      "text/plain": [
       "((11982, 28, 28), (1984, 28, 28))"
      ]
     },
     "execution_count": 13,
     "metadata": {},
     "output_type": "execute_result"
    }
   ],
   "source": [
    "X_train.shape, X_test.shape"
   ]
  },
  {
   "cell_type": "markdown",
   "id": "5ccf3f85",
   "metadata": {
    "papermill": {
     "duration": 0.027957,
     "end_time": "2022-06-03T00:32:24.960109",
     "exception": false,
     "start_time": "2022-06-03T00:32:24.932152",
     "status": "completed"
    },
    "tags": []
   },
   "source": [
    "We reshape the data to flatten the image pixels into a set of features or co-variates:"
   ]
  },
  {
   "cell_type": "code",
   "execution_count": 14,
   "id": "5286a4a3",
   "metadata": {
    "execution": {
     "iopub.execute_input": "2022-06-03T00:32:25.025840Z",
     "iopub.status.busy": "2022-06-03T00:32:25.025133Z",
     "iopub.status.idle": "2022-06-03T00:32:25.040226Z",
     "shell.execute_reply": "2022-06-03T00:32:25.039699Z"
    },
    "papermill": {
     "duration": 0.050709,
     "end_time": "2022-06-03T00:32:25.040348",
     "exception": false,
     "start_time": "2022-06-03T00:32:24.989639",
     "status": "completed"
    },
    "tags": []
   },
   "outputs": [
    {
     "data": {
      "text/plain": [
       "((11982, 784), (1984, 784))"
      ]
     },
     "execution_count": 14,
     "metadata": {},
     "output_type": "execute_result"
    }
   ],
   "source": [
    "X_train = X_train.reshape(X_train.shape[0], -1)\n",
    "X_test = X_test.reshape(X_test.shape[0], -1)\n",
    "X_train.shape, X_test.shape"
   ]
  },
  {
   "cell_type": "code",
   "execution_count": 15,
   "id": "73c5f88a",
   "metadata": {
    "execution": {
     "iopub.execute_input": "2022-06-03T00:32:25.106895Z",
     "iopub.status.busy": "2022-06-03T00:32:25.106187Z",
     "iopub.status.idle": "2022-06-03T00:32:25.127322Z",
     "shell.execute_reply": "2022-06-03T00:32:25.126794Z"
    },
    "papermill": {
     "duration": 0.05684,
     "end_time": "2022-06-03T00:32:25.127443",
     "exception": false,
     "start_time": "2022-06-03T00:32:25.070603",
     "status": "completed"
    },
    "tags": []
   },
   "outputs": [],
   "source": [
    "#Impoting functions from 'Kudzu'\n",
    "from kudzu.model import Model\n",
    "from kudzu.train import Learner\n",
    "from kudzu.optim import GD\n",
    "from kudzu.data import Data, Sampler,Dataloader\n",
    "\n",
    "from kudzu.callbacks import AccCallback\n",
    "from kudzu.callbacks import ClfCallback\n",
    "\n",
    "from kudzu.loss import MSE\n",
    "\n",
    "from kudzu.layer import Sigmoid,Relu\n",
    "from kudzu.layer import Affine"
   ]
  },
  {
   "cell_type": "markdown",
   "id": "bc01172a",
   "metadata": {
    "papermill": {
     "duration": 0.02894,
     "end_time": "2022-06-03T00:32:25.184870",
     "exception": false,
     "start_time": "2022-06-03T00:32:25.155930",
     "status": "completed"
    },
    "tags": []
   },
   "source": [
    "### Let us create a `Config` class, to store important parameters. \n",
    "This class essentially plays the role of a dictionary."
   ]
  },
  {
   "cell_type": "code",
   "execution_count": 16,
   "id": "978281aa",
   "metadata": {
    "execution": {
     "iopub.execute_input": "2022-06-03T00:32:25.248436Z",
     "iopub.status.busy": "2022-06-03T00:32:25.247889Z",
     "iopub.status.idle": "2022-06-03T00:32:25.260607Z",
     "shell.execute_reply": "2022-06-03T00:32:25.260069Z"
    },
    "papermill": {
     "duration": 0.046563,
     "end_time": "2022-06-03T00:32:25.260728",
     "exception": false,
     "start_time": "2022-06-03T00:32:25.214165",
     "status": "completed"
    },
    "tags": []
   },
   "outputs": [],
   "source": [
    "class Config:\n",
    "    pass\n",
    "config = Config()\n",
    "config.lr = 0.001\n",
    "config.num_epochs = 250\n",
    "config.bs = 50"
   ]
  },
  {
   "cell_type": "markdown",
   "id": "1385fa59",
   "metadata": {
    "papermill": {
     "duration": 0.026491,
     "end_time": "2022-06-03T00:32:25.314838",
     "exception": false,
     "start_time": "2022-06-03T00:32:25.288347",
     "status": "completed"
    },
    "tags": []
   },
   "source": [
    "### Running Models with the Training data\n",
    "Details about the network layers:\n",
    "- A first affine layer has 784 inputs and does 100 affine transforms. These are followed by a Relu\n",
    "- A second affine layer has 100 inputs from the 100 activations of the past layer, and does 100 affine transforms. These are followed by a Relu\n",
    "- A third affine layer has 100 activations and does 2 affine transformations to create an embedding for visualization. There is no non-linearity here.\n",
    "- A final \"logistic regression\" which has an affine transform from 2 inputs to 1 output, which is squeezed through a sigmoid.\n"
   ]
  },
  {
   "cell_type": "code",
   "execution_count": 17,
   "id": "2b9c66db",
   "metadata": {
    "execution": {
     "iopub.execute_input": "2022-06-03T00:32:25.376987Z",
     "iopub.status.busy": "2022-06-03T00:32:25.376281Z",
     "iopub.status.idle": "2022-06-03T00:32:25.390903Z",
     "shell.execute_reply": "2022-06-03T00:32:25.390270Z"
    },
    "papermill": {
     "duration": 0.048525,
     "end_time": "2022-06-03T00:32:25.391013",
     "exception": false,
     "start_time": "2022-06-03T00:32:25.342488",
     "status": "completed"
    },
    "tags": []
   },
   "outputs": [],
   "source": [
    "data = Data(X_train, y_train.reshape(-1,1))\n",
    "sampler = Sampler(data, config.bs, shuffle=True)\n",
    "\n",
    "dl = Dataloader(data, sampler)\n",
    "\n",
    "opt = GD(config.lr)\n",
    "loss = MSE()"
   ]
  },
  {
   "cell_type": "code",
   "execution_count": 18,
   "id": "b275e4c2",
   "metadata": {
    "execution": {
     "iopub.execute_input": "2022-06-03T00:32:25.451754Z",
     "iopub.status.busy": "2022-06-03T00:32:25.451130Z",
     "iopub.status.idle": "2022-06-03T00:32:25.464679Z",
     "shell.execute_reply": "2022-06-03T00:32:25.464135Z"
    },
    "papermill": {
     "duration": 0.046257,
     "end_time": "2022-06-03T00:32:25.464796",
     "exception": false,
     "start_time": "2022-06-03T00:32:25.418539",
     "status": "completed"
    },
    "tags": []
   },
   "outputs": [],
   "source": [
    "training_data_x = X_train\n",
    "testing_data_x = X_test\n",
    "training_data_y = y_train.reshape(-1,1)\n",
    "testing_data_y = y_test.reshape(-1,1)"
   ]
  },
  {
   "cell_type": "code",
   "execution_count": 19,
   "id": "76951160",
   "metadata": {
    "execution": {
     "iopub.execute_input": "2022-06-03T00:32:25.529182Z",
     "iopub.status.busy": "2022-06-03T00:32:25.528477Z",
     "iopub.status.idle": "2022-06-03T00:32:25.546408Z",
     "shell.execute_reply": "2022-06-03T00:32:25.545789Z"
    },
    "papermill": {
     "duration": 0.054031,
     "end_time": "2022-06-03T00:32:25.546521",
     "exception": false,
     "start_time": "2022-06-03T00:32:25.492490",
     "status": "completed"
    },
    "tags": []
   },
   "outputs": [
    {
     "name": "stdout",
     "output_type": "stream",
     "text": [
      "xavier\n",
      "xavier\n",
      "xavier\n",
      "xavier\n",
      "xavier\n"
     ]
    }
   ],
   "source": [
    "layers = [Affine(\"first\", 784, 100), Relu(\"first\"), Affine(\"second\", 100, 100), Relu(\"second\"), Affine(\"third\", 100, 2), Affine(\"last\", 2, 1), Sigmoid(\"last\")]\n",
    "model_nn = Model(layers)\n",
    "model_lr = Model([Affine(\"logits\", 784, 1), Sigmoid(\"sigmoid\")])"
   ]
  },
  {
   "cell_type": "code",
   "execution_count": 20,
   "id": "6eede77a",
   "metadata": {
    "execution": {
     "iopub.execute_input": "2022-06-03T00:32:25.609936Z",
     "iopub.status.busy": "2022-06-03T00:32:25.609263Z",
     "iopub.status.idle": "2022-06-03T00:32:25.623744Z",
     "shell.execute_reply": "2022-06-03T00:32:25.623251Z"
    },
    "papermill": {
     "duration": 0.047578,
     "end_time": "2022-06-03T00:32:25.623859",
     "exception": false,
     "start_time": "2022-06-03T00:32:25.576281",
     "status": "completed"
    },
    "tags": []
   },
   "outputs": [],
   "source": [
    "nn_learner = Learner(loss, model_nn, opt, config.num_epochs)\n",
    "acc_nn = ClfCallback(nn_learner, config.bs, training_data_x , testing_data_x, training_data_y, testing_data_y)\n",
    "nn_learner.set_callbacks([acc_nn])"
   ]
  },
  {
   "cell_type": "code",
   "execution_count": 21,
   "id": "877b6cc7",
   "metadata": {
    "execution": {
     "iopub.execute_input": "2022-06-03T00:32:25.685019Z",
     "iopub.status.busy": "2022-06-03T00:32:25.684356Z",
     "iopub.status.idle": "2022-06-03T00:32:25.697733Z",
     "shell.execute_reply": "2022-06-03T00:32:25.697225Z"
    },
    "papermill": {
     "duration": 0.045724,
     "end_time": "2022-06-03T00:32:25.697847",
     "exception": false,
     "start_time": "2022-06-03T00:32:25.652123",
     "status": "completed"
    },
    "tags": []
   },
   "outputs": [],
   "source": [
    "lr_learner = Learner(loss, model_lr, opt, config.num_epochs)\n",
    "acc_lr = ClfCallback(lr_learner, config.bs, training_data_x , testing_data_x, training_data_y, testing_data_y)\n",
    "lr_learner.set_callbacks([acc_lr])"
   ]
  },
  {
   "cell_type": "code",
   "execution_count": 22,
   "id": "d9b133c3",
   "metadata": {
    "execution": {
     "iopub.execute_input": "2022-06-03T00:32:25.758626Z",
     "iopub.status.busy": "2022-06-03T00:32:25.758013Z",
     "iopub.status.idle": "2022-06-03T00:33:49.145105Z",
     "shell.execute_reply": "2022-06-03T00:33:49.145763Z"
    },
    "papermill": {
     "duration": 83.420881,
     "end_time": "2022-06-03T00:33:49.145919",
     "exception": false,
     "start_time": "2022-06-03T00:32:25.725038",
     "status": "completed"
    },
    "tags": []
   },
   "outputs": [
    {
     "name": "stdout",
     "output_type": "stream",
     "text": [
      "Epoch 0, Loss 0.2464\n",
      "Training Accuracy: 0.6473, Testing Accuracy: 0.6467\n",
      "\n"
     ]
    },
    {
     "name": "stdout",
     "output_type": "stream",
     "text": [
      "Epoch 10, Loss 0.1091\n",
      "Training Accuracy: 0.9164, Testing Accuracy: 0.9234\n",
      "\n"
     ]
    },
    {
     "name": "stdout",
     "output_type": "stream",
     "text": [
      "Epoch 20, Loss 0.0618\n",
      "Training Accuracy: 0.9392, Testing Accuracy: 0.9501\n",
      "\n"
     ]
    },
    {
     "name": "stdout",
     "output_type": "stream",
     "text": [
      "Epoch 30, Loss 0.047\n",
      "Training Accuracy: 0.9501, Testing Accuracy: 0.9602\n",
      "\n"
     ]
    },
    {
     "name": "stdout",
     "output_type": "stream",
     "text": [
      "Epoch 40, Loss 0.0399\n",
      "Training Accuracy: 0.9561, Testing Accuracy: 0.9642\n",
      "\n"
     ]
    },
    {
     "name": "stdout",
     "output_type": "stream",
     "text": [
      "Epoch 50, Loss 0.0357\n",
      "Training Accuracy: 0.9601, Testing Accuracy: 0.9677\n",
      "\n"
     ]
    },
    {
     "name": "stdout",
     "output_type": "stream",
     "text": [
      "Epoch 60, Loss 0.0329\n",
      "Training Accuracy: 0.9626, Testing Accuracy: 0.9682\n",
      "\n"
     ]
    },
    {
     "name": "stdout",
     "output_type": "stream",
     "text": [
      "Epoch 70, Loss 0.0309\n",
      "Training Accuracy: 0.9647, Testing Accuracy: 0.9693\n",
      "\n"
     ]
    },
    {
     "name": "stdout",
     "output_type": "stream",
     "text": [
      "Epoch 80, Loss 0.0293\n",
      "Training Accuracy: 0.9664, Testing Accuracy: 0.9698\n",
      "\n"
     ]
    },
    {
     "name": "stdout",
     "output_type": "stream",
     "text": [
      "Epoch 90, Loss 0.028\n",
      "Training Accuracy: 0.9681, Testing Accuracy: 0.9698\n",
      "\n"
     ]
    },
    {
     "name": "stdout",
     "output_type": "stream",
     "text": [
      "Epoch 100, Loss 0.0268\n",
      "Training Accuracy: 0.9690, Testing Accuracy: 0.9708\n",
      "\n"
     ]
    },
    {
     "name": "stdout",
     "output_type": "stream",
     "text": [
      "Epoch 110, Loss 0.0259\n",
      "Training Accuracy: 0.9702, Testing Accuracy: 0.9703\n",
      "\n"
     ]
    },
    {
     "name": "stdout",
     "output_type": "stream",
     "text": [
      "Epoch 120, Loss 0.025\n",
      "Training Accuracy: 0.9712, Testing Accuracy: 0.9703\n",
      "\n"
     ]
    },
    {
     "name": "stdout",
     "output_type": "stream",
     "text": [
      "Epoch 130, Loss 0.0242\n",
      "Training Accuracy: 0.9722, Testing Accuracy: 0.9708\n",
      "\n"
     ]
    },
    {
     "name": "stdout",
     "output_type": "stream",
     "text": [
      "Epoch 140, Loss 0.0235\n",
      "Training Accuracy: 0.9724, Testing Accuracy: 0.9718\n",
      "\n"
     ]
    },
    {
     "name": "stdout",
     "output_type": "stream",
     "text": [
      "Epoch 150, Loss 0.0229\n",
      "Training Accuracy: 0.9730, Testing Accuracy: 0.9718\n",
      "\n"
     ]
    },
    {
     "name": "stdout",
     "output_type": "stream",
     "text": [
      "Epoch 160, Loss 0.0223\n",
      "Training Accuracy: 0.9737, Testing Accuracy: 0.9723\n",
      "\n"
     ]
    },
    {
     "name": "stdout",
     "output_type": "stream",
     "text": [
      "Epoch 170, Loss 0.0217\n",
      "Training Accuracy: 0.9749, Testing Accuracy: 0.9723\n",
      "\n"
     ]
    },
    {
     "name": "stdout",
     "output_type": "stream",
     "text": [
      "Epoch 180, Loss 0.0212\n",
      "Training Accuracy: 0.9758, Testing Accuracy: 0.9728\n",
      "\n"
     ]
    },
    {
     "name": "stdout",
     "output_type": "stream",
     "text": [
      "Epoch 190, Loss 0.0207\n",
      "Training Accuracy: 0.9770, Testing Accuracy: 0.9738\n",
      "\n"
     ]
    },
    {
     "name": "stdout",
     "output_type": "stream",
     "text": [
      "Epoch 200, Loss 0.0203\n",
      "Training Accuracy: 0.9772, Testing Accuracy: 0.9743\n",
      "\n"
     ]
    },
    {
     "name": "stdout",
     "output_type": "stream",
     "text": [
      "Epoch 210, Loss 0.0198\n",
      "Training Accuracy: 0.9779, Testing Accuracy: 0.9748\n",
      "\n"
     ]
    },
    {
     "name": "stdout",
     "output_type": "stream",
     "text": [
      "Epoch 220, Loss 0.0194\n",
      "Training Accuracy: 0.9784, Testing Accuracy: 0.9748\n",
      "\n"
     ]
    },
    {
     "name": "stdout",
     "output_type": "stream",
     "text": [
      "Epoch 230, Loss 0.019\n",
      "Training Accuracy: 0.9788, Testing Accuracy: 0.9763\n",
      "\n"
     ]
    },
    {
     "name": "stdout",
     "output_type": "stream",
     "text": [
      "Epoch 240, Loss 0.0186\n",
      "Training Accuracy: 0.9794, Testing Accuracy: 0.9763\n",
      "\n"
     ]
    },
    {
     "data": {
      "text/plain": [
       "0.03901068011027971"
      ]
     },
     "execution_count": 22,
     "metadata": {},
     "output_type": "execute_result"
    }
   ],
   "source": [
    "nn_learner.train_loop(dl)"
   ]
  },
  {
   "cell_type": "code",
   "execution_count": 23,
   "id": "e0163366",
   "metadata": {
    "execution": {
     "iopub.execute_input": "2022-06-03T00:33:49.225867Z",
     "iopub.status.busy": "2022-06-03T00:33:49.225378Z",
     "iopub.status.idle": "2022-06-03T00:34:03.232666Z",
     "shell.execute_reply": "2022-06-03T00:34:03.233639Z"
    },
    "papermill": {
     "duration": 14.05355,
     "end_time": "2022-06-03T00:34:03.233797",
     "exception": false,
     "start_time": "2022-06-03T00:33:49.180247",
     "status": "completed"
    },
    "tags": []
   },
   "outputs": [
    {
     "name": "stdout",
     "output_type": "stream",
     "text": [
      "Epoch 0, Loss 0.2537\n",
      "Training Accuracy: 0.6380, Testing Accuracy: 0.6305\n",
      "\n"
     ]
    },
    {
     "name": "stdout",
     "output_type": "stream",
     "text": [
      "Epoch 10, Loss 0.1057\n",
      "Training Accuracy: 0.9044, Testing Accuracy: 0.9219\n",
      "\n"
     ]
    },
    {
     "name": "stdout",
     "output_type": "stream",
     "text": [
      "Epoch 20, Loss 0.0804\n",
      "Training Accuracy: 0.9274, Testing Accuracy: 0.9380\n",
      "\n"
     ]
    },
    {
     "name": "stdout",
     "output_type": "stream",
     "text": [
      "Epoch 30, Loss 0.0689\n",
      "Training Accuracy: 0.9368, Testing Accuracy: 0.9486\n",
      "\n"
     ]
    },
    {
     "name": "stdout",
     "output_type": "stream",
     "text": [
      "Epoch 40, Loss 0.062\n",
      "Training Accuracy: 0.9419, Testing Accuracy: 0.9521\n",
      "\n"
     ]
    },
    {
     "name": "stdout",
     "output_type": "stream",
     "text": [
      "Epoch 50, Loss 0.0574\n",
      "Training Accuracy: 0.9442, Testing Accuracy: 0.9546\n",
      "\n"
     ]
    },
    {
     "name": "stdout",
     "output_type": "stream",
     "text": [
      "Epoch 60, Loss 0.054\n",
      "Training Accuracy: 0.9463, Testing Accuracy: 0.9551\n",
      "\n"
     ]
    },
    {
     "name": "stdout",
     "output_type": "stream",
     "text": [
      "Epoch 70, Loss 0.0514\n",
      "Training Accuracy: 0.9485, Testing Accuracy: 0.9556\n",
      "\n"
     ]
    },
    {
     "name": "stdout",
     "output_type": "stream",
     "text": [
      "Epoch 80, Loss 0.0493\n",
      "Training Accuracy: 0.9502, Testing Accuracy: 0.9587\n",
      "\n"
     ]
    },
    {
     "name": "stdout",
     "output_type": "stream",
     "text": [
      "Epoch 90, Loss 0.0476\n",
      "Training Accuracy: 0.9520, Testing Accuracy: 0.9602\n",
      "\n"
     ]
    },
    {
     "name": "stdout",
     "output_type": "stream",
     "text": [
      "Epoch 100, Loss 0.0462\n",
      "Training Accuracy: 0.9534, Testing Accuracy: 0.9627\n",
      "\n"
     ]
    },
    {
     "name": "stdout",
     "output_type": "stream",
     "text": [
      "Epoch 110, Loss 0.0449\n",
      "Training Accuracy: 0.9543, Testing Accuracy: 0.9637\n",
      "\n"
     ]
    },
    {
     "name": "stdout",
     "output_type": "stream",
     "text": [
      "Epoch 120, Loss 0.0439\n",
      "Training Accuracy: 0.9549, Testing Accuracy: 0.9637\n",
      "\n"
     ]
    },
    {
     "name": "stdout",
     "output_type": "stream",
     "text": [
      "Epoch 130, Loss 0.0429\n",
      "Training Accuracy: 0.9552, Testing Accuracy: 0.9647\n",
      "\n"
     ]
    },
    {
     "name": "stdout",
     "output_type": "stream",
     "text": [
      "Epoch 140, Loss 0.0421\n",
      "Training Accuracy: 0.9562, Testing Accuracy: 0.9657\n",
      "\n"
     ]
    },
    {
     "name": "stdout",
     "output_type": "stream",
     "text": [
      "Epoch 150, Loss 0.0413\n",
      "Training Accuracy: 0.9561, Testing Accuracy: 0.9657\n",
      "\n"
     ]
    },
    {
     "name": "stdout",
     "output_type": "stream",
     "text": [
      "Epoch 160, Loss 0.0406\n",
      "Training Accuracy: 0.9569, Testing Accuracy: 0.9662\n",
      "\n"
     ]
    },
    {
     "name": "stdout",
     "output_type": "stream",
     "text": [
      "Epoch 170, Loss 0.04\n",
      "Training Accuracy: 0.9572, Testing Accuracy: 0.9662\n",
      "\n"
     ]
    },
    {
     "name": "stdout",
     "output_type": "stream",
     "text": [
      "Epoch 180, Loss 0.0395\n",
      "Training Accuracy: 0.9577, Testing Accuracy: 0.9667\n",
      "\n"
     ]
    },
    {
     "name": "stdout",
     "output_type": "stream",
     "text": [
      "Epoch 190, Loss 0.0389\n",
      "Training Accuracy: 0.9579, Testing Accuracy: 0.9667\n",
      "\n"
     ]
    },
    {
     "name": "stdout",
     "output_type": "stream",
     "text": [
      "Epoch 200, Loss 0.0385\n",
      "Training Accuracy: 0.9586, Testing Accuracy: 0.9672\n",
      "\n"
     ]
    },
    {
     "name": "stdout",
     "output_type": "stream",
     "text": [
      "Epoch 210, Loss 0.038\n",
      "Training Accuracy: 0.9590, Testing Accuracy: 0.9677\n",
      "\n"
     ]
    },
    {
     "name": "stdout",
     "output_type": "stream",
     "text": [
      "Epoch 220, Loss 0.0376\n",
      "Training Accuracy: 0.9597, Testing Accuracy: 0.9677\n",
      "\n"
     ]
    },
    {
     "name": "stdout",
     "output_type": "stream",
     "text": [
      "Epoch 230, Loss 0.0372\n",
      "Training Accuracy: 0.9603, Testing Accuracy: 0.9677\n",
      "\n"
     ]
    },
    {
     "name": "stdout",
     "output_type": "stream",
     "text": [
      "Epoch 240, Loss 0.0368\n",
      "Training Accuracy: 0.9609, Testing Accuracy: 0.9677\n",
      "\n"
     ]
    },
    {
     "data": {
      "text/plain": [
       "0.026132533527570216"
      ]
     },
     "execution_count": 23,
     "metadata": {},
     "output_type": "execute_result"
    }
   ],
   "source": [
    "lr_learner.train_loop(dl)"
   ]
  },
  {
   "cell_type": "code",
   "execution_count": 24,
   "id": "ca410940",
   "metadata": {
    "execution": {
     "iopub.execute_input": "2022-06-03T00:34:03.325967Z",
     "iopub.status.busy": "2022-06-03T00:34:03.325374Z",
     "iopub.status.idle": "2022-06-03T00:34:03.567219Z",
     "shell.execute_reply": "2022-06-03T00:34:03.568147Z"
    },
    "papermill": {
     "duration": 0.292591,
     "end_time": "2022-06-03T00:34:03.568315",
     "exception": false,
     "start_time": "2022-06-03T00:34:03.275724",
     "status": "completed"
    },
    "tags": []
   },
   "outputs": [
    {
     "data": {
      "text/plain": [
       "<matplotlib.legend.Legend at 0x7f6e596c09b0>"
      ]
     },
     "execution_count": 24,
     "metadata": {},
     "output_type": "execute_result"
    },
    {
     "data": {
      "image/png": "[encoded data removed]",
      "text/plain": [
       "<Figure size 1080x720 with 1 Axes>"
      ]
     },
     "metadata": {
      "needs_background": "light"
     },
     "output_type": "display_data"
    }
   ],
   "source": [
    "#comparing the results of NN and LR\n",
    "plt.figure(figsize=(15,10))\n",
    "\n",
    "# Neural Network plots\n",
    "plt.plot(acc_nn.accuracies, 'r-', label = \"Training Accuracies - NN\")\n",
    "plt.plot(acc_nn.test_accuracies, 'g-', label = \"Testing Accuracies - NN\")\n",
    "\n",
    "# Logistic Regression plots\n",
    "plt.plot(acc_lr.accuracies, 'k-', label = \"Training Accuracies - LR\")\n",
    "plt.plot(acc_lr.test_accuracies, 'b-', label = \"Testing Accuracies - LR\")\n",
    "plt.legend()"
   ]
  },
  {
   "cell_type": "markdown",
   "id": "80dfb35c",
   "metadata": {
    "papermill": {
     "duration": 0.040943,
     "end_time": "2022-06-03T00:34:03.650139",
     "exception": false,
     "start_time": "2022-06-03T00:34:03.609196",
     "status": "completed"
    },
    "tags": []
   },
   "source": [
    "#### Plotting the outputs of this layer of the NN.\n"
   ]
  },
  {
   "cell_type": "code",
   "execution_count": 25,
   "id": "45eb2ff5",
   "metadata": {
    "execution": {
     "iopub.execute_input": "2022-06-03T00:34:03.740654Z",
     "iopub.status.busy": "2022-06-03T00:34:03.739667Z",
     "iopub.status.idle": "2022-06-03T00:34:03.761042Z",
     "shell.execute_reply": "2022-06-03T00:34:03.761970Z"
    },
    "papermill": {
     "duration": 0.07127,
     "end_time": "2022-06-03T00:34:03.762143",
     "exception": false,
     "start_time": "2022-06-03T00:34:03.690873",
     "status": "completed"
    },
    "tags": []
   },
   "outputs": [],
   "source": [
    "new_model = Model(layers[:-2])\n",
    "testing_plot = new_model(testing_data_x)"
   ]
  },
  {
   "cell_type": "code",
   "execution_count": 26,
   "id": "4c0a5485",
   "metadata": {
    "execution": {
     "iopub.execute_input": "2022-06-03T00:34:03.862254Z",
     "iopub.status.busy": "2022-06-03T00:34:03.861560Z",
     "iopub.status.idle": "2022-06-03T00:34:04.088177Z",
     "shell.execute_reply": "2022-06-03T00:34:04.087310Z"
    },
    "papermill": {
     "duration": 0.281557,
     "end_time": "2022-06-03T00:34:04.088310",
     "exception": false,
     "start_time": "2022-06-03T00:34:03.806753",
     "status": "completed"
    },
    "tags": []
   },
   "outputs": [
    {
     "data": {
      "text/plain": [
       "Text(0.5, 1.0, 'Outputs')"
      ]
     },
     "execution_count": 26,
     "metadata": {},
     "output_type": "execute_result"
    },
    {
     "data": {
      "image/png": "[encoded data removed]",
      "text/plain": [
       "<Figure size 576x504 with 1 Axes>"
      ]
     },
     "metadata": {
      "needs_background": "light"
     },
     "output_type": "display_data"
    }
   ],
   "source": [
    "# Plotting the scatter plot of points and color coding by class\n",
    "plt.figure(figsize=(8,7))\n",
    "plt.scatter(testing_plot[:,0], testing_plot[:,1], alpha = 0.1, c = y_test.ravel());\n",
    "plt.title('Outputs')"
   ]
  },
  {
   "cell_type": "markdown",
   "id": "a74fcf8f",
   "metadata": {
    "papermill": {
     "duration": 0.046156,
     "end_time": "2022-06-03T00:34:04.181991",
     "exception": false,
     "start_time": "2022-06-03T00:34:04.135835",
     "status": "completed"
    },
    "tags": []
   },
   "source": [
    "Probability contours"
   ]
  },
  {
   "cell_type": "code",
   "execution_count": 27,
   "id": "d0afc8e3",
   "metadata": {
    "execution": {
     "iopub.execute_input": "2022-06-03T00:34:04.273981Z",
     "iopub.status.busy": "2022-06-03T00:34:04.273367Z",
     "iopub.status.idle": "2022-06-03T00:34:04.287141Z",
     "shell.execute_reply": "2022-06-03T00:34:04.287596Z"
    },
    "papermill": {
     "duration": 0.061854,
     "end_time": "2022-06-03T00:34:04.287735",
     "exception": false,
     "start_time": "2022-06-03T00:34:04.225881",
     "status": "completed"
    },
    "tags": []
   },
   "outputs": [],
   "source": [
    "model_prob = Model(layers[-2:]) "
   ]
  },
  {
   "cell_type": "code",
   "execution_count": 28,
   "id": "9b96e238",
   "metadata": {
    "execution": {
     "iopub.execute_input": "2022-06-03T00:34:04.414297Z",
     "iopub.status.busy": "2022-06-03T00:34:04.412021Z",
     "iopub.status.idle": "2022-06-03T00:34:04.428230Z",
     "shell.execute_reply": "2022-06-03T00:34:04.428729Z"
    },
    "papermill": {
     "duration": 0.09684,
     "end_time": "2022-06-03T00:34:04.428854",
     "exception": false,
     "start_time": "2022-06-03T00:34:04.332014",
     "status": "completed"
    },
    "tags": []
   },
   "outputs": [],
   "source": [
    "#creating the x and y ranges according to the above generated plot.\n",
    "x_range = np.linspace(-4, 1, 100) \n",
    "y_range = np.linspace(-6, 6, 100) \n",
    "x_grid, y_grid = np.meshgrid(x_range, y_range) # x_grid and y_grig are of size 100 X 100\n",
    "\n",
    "# converting x_grid and y_grid to continuous arrays\n",
    "x_gridflat = np.ravel(x_grid)\n",
    "y_gridflat = np.ravel(y_grid)\n",
    "\n",
    "# The last layer of the current model takes two columns as input. Hence transpose of np.vstack() is required.\n",
    "X = np.vstack((x_gridflat, y_gridflat)).T\n",
    "\n",
    "prob_contour = model_prob(X).reshape(100,100) "
   ]
  },
  {
   "cell_type": "code",
   "execution_count": 29,
   "id": "da72499a",
   "metadata": {
    "execution": {
     "iopub.execute_input": "2022-06-03T00:34:04.531544Z",
     "iopub.status.busy": "2022-06-03T00:34:04.530458Z",
     "iopub.status.idle": "2022-06-03T00:34:04.787933Z",
     "shell.execute_reply": "2022-06-03T00:34:04.788402Z"
    },
    "papermill": {
     "duration": 0.311818,
     "end_time": "2022-06-03T00:34:04.788587",
     "exception": false,
     "start_time": "2022-06-03T00:34:04.476769",
     "status": "completed"
    },
    "tags": []
   },
   "outputs": [
    {
     "data": {
      "image/png": "[encoded data removed]",
      "text/plain": [
       "<Figure size 720x648 with 1 Axes>"
      ]
     },
     "metadata": {
      "needs_background": "light"
     },
     "output_type": "display_data"
    }
   ],
   "source": [
    "plt.figure(figsize=(10,9))\n",
    "plt.scatter(testing_plot[:,0], testing_plot[:,1], alpha = 0.1, c = y_test.ravel())\n",
    "contours = plt.contour(x_grid,y_grid,prob_contour)\n",
    "plt.title('Probability Contours')\n",
    "plt.clabel(contours, inline = True );"
   ]
  },
  {
   "cell_type": "code",
   "execution_count": null,
   "id": "e81b4ac7",
   "metadata": {
    "papermill": {
     "duration": 0.04897,
     "end_time": "2022-06-03T00:34:04.886217",
     "exception": false,
     "start_time": "2022-06-03T00:34:04.837247",
     "status": "completed"
    },
    "tags": []
   },
   "outputs": [],
   "source": []
  }
 ],
 "metadata": {
  "kernelspec": {
   "display_name": "Python 3",
   "language": "python",
   "name": "python3"
  },
  "language_info": {
   "codemirror_mode": {
    "name": "ipython",
    "version": 3
   },
   "file_extension": ".py",
   "mimetype": "text/x-python",
   "name": "python",
   "nbconvert_exporter": "python",
   "pygments_lexer": "ipython3",
   "version": "3.6.15"
  },
  "papermill": {
   "default_parameters": {},
   "duration": 106.209523,
   "end_time": "2022-06-03T00:34:05.356135",
   "environment_variables": {},
   "exception": null,
   "input_path": "2020-08-11-part2.ipynb",
   "output_path": "2020-08-11-part2.ipynb",
   "parameters": {},
   "start_time": "2022-06-03T00:32:19.146612",
   "version": "2.3.3"
  }
 },
 "nbformat": 4,
 "nbformat_minor": 5
}