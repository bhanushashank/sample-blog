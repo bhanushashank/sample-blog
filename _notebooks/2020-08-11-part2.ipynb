{
 "cells": [
  {
   "cell_type": "markdown",
   "id": "98380cd3",
   "metadata": {
    "papermill": {
     "duration": 0.037197,
     "end_time": "2022-03-27T10:09:36.912461",
     "exception": false,
     "start_time": "2022-03-27T10:09:36.875264",
     "status": "completed"
    },
    "tags": []
   },
   "source": [
    "# Distinguish Your Own Digits (DYOD)"
   ]
  },
  {
   "cell_type": "markdown",
   "id": "ef31240d",
   "metadata": {
    "papermill": {
     "duration": 0.029943,
     "end_time": "2022-03-27T10:09:36.969801",
     "exception": false,
     "start_time": "2022-03-27T10:09:36.939858",
     "status": "completed"
    },
    "tags": []
   },
   "source": [
    "You are going to write a classifier that distinguishes between the number 3 and number 8."
   ]
  },
  {
   "cell_type": "code",
   "execution_count": 1,
   "id": "b15c8646",
   "metadata": {
    "execution": {
     "iopub.execute_input": "2022-03-27T10:09:37.040237Z",
     "iopub.status.busy": "2022-03-27T10:09:37.039606Z",
     "iopub.status.idle": "2022-03-27T10:09:37.051120Z",
     "shell.execute_reply": "2022-03-27T10:09:37.050505Z"
    },
    "papermill": {
     "duration": 0.053149,
     "end_time": "2022-03-27T10:09:37.051260",
     "exception": false,
     "start_time": "2022-03-27T10:09:36.998111",
     "status": "completed"
    },
    "tags": []
   },
   "outputs": [],
   "source": [
    "%load_ext autoreload\n",
    "%autoreload 2"
   ]
  },
  {
   "cell_type": "code",
   "execution_count": 2,
   "id": "22ef38dc",
   "metadata": {
    "execution": {
     "iopub.execute_input": "2022-03-27T10:09:37.118748Z",
     "iopub.status.busy": "2022-03-27T10:09:37.118151Z",
     "iopub.status.idle": "2022-03-27T10:09:37.792152Z",
     "shell.execute_reply": "2022-03-27T10:09:37.790640Z"
    },
    "papermill": {
     "duration": 0.708601,
     "end_time": "2022-03-27T10:09:37.792378",
     "exception": false,
     "start_time": "2022-03-27T10:09:37.083777",
     "status": "completed"
    },
    "tags": []
   },
   "outputs": [],
   "source": [
    "%matplotlib inline\n",
    "import numpy as np\n",
    "import matplotlib.pyplot as plt\n",
    "import pandas as pd"
   ]
  },
  {
   "cell_type": "markdown",
   "id": "ba036198",
   "metadata": {
    "papermill": {
     "duration": 0.027947,
     "end_time": "2022-03-27T10:09:37.851776",
     "exception": false,
     "start_time": "2022-03-27T10:09:37.823829",
     "status": "completed"
    },
    "tags": []
   },
   "source": [
    "From the command line run `pip install mnist`. This is a library that will help you bring down the mnist dataset. If you run this from a notebook, you need to put  `!pip install mnist` in a cell by itself."
   ]
  },
  {
   "cell_type": "code",
   "execution_count": 3,
   "id": "bb6ad8a1",
   "metadata": {
    "execution": {
     "iopub.execute_input": "2022-03-27T10:09:37.914071Z",
     "iopub.status.busy": "2022-03-27T10:09:37.913440Z",
     "iopub.status.idle": "2022-03-27T10:09:39.849705Z",
     "shell.execute_reply": "2022-03-27T10:09:39.850206Z"
    },
    "papermill": {
     "duration": 1.970563,
     "end_time": "2022-03-27T10:09:39.850375",
     "exception": false,
     "start_time": "2022-03-27T10:09:37.879812",
     "status": "completed"
    },
    "tags": []
   },
   "outputs": [
    {
     "name": "stdout",
     "output_type": "stream",
     "text": [
      "Collecting mnist\r\n"
     ]
    },
    {
     "name": "stdout",
     "output_type": "stream",
     "text": [
      "  Downloading mnist-0.2.2-py2.py3-none-any.whl (3.5 kB)\r\n",
      "Requirement already satisfied: numpy in /opt/hostedtoolcache/Python/3.6.15/x64/lib/python3.6/site-packages (from mnist) (1.19.5)\r\n"
     ]
    },
    {
     "name": "stdout",
     "output_type": "stream",
     "text": [
      "Installing collected packages: mnist\r\n",
      "Successfully installed mnist-0.2.2\r\n"
     ]
    }
   ],
   "source": [
    "!pip install mnist"
   ]
  },
  {
   "cell_type": "markdown",
   "id": "69df9c9a",
   "metadata": {
    "papermill": {
     "duration": 0.028103,
     "end_time": "2022-03-27T10:09:39.906802",
     "exception": false,
     "start_time": "2022-03-27T10:09:39.878699",
     "status": "completed"
    },
    "tags": []
   },
   "source": [
    "## Preparing the Data"
   ]
  },
  {
   "cell_type": "code",
   "execution_count": 4,
   "id": "7f69d806",
   "metadata": {
    "execution": {
     "iopub.execute_input": "2022-03-27T10:09:39.968330Z",
     "iopub.status.busy": "2022-03-27T10:09:39.967119Z",
     "iopub.status.idle": "2022-03-27T10:09:39.984977Z",
     "shell.execute_reply": "2022-03-27T10:09:39.984436Z"
    },
    "papermill": {
     "duration": 0.05039,
     "end_time": "2022-03-27T10:09:39.985108",
     "exception": false,
     "start_time": "2022-03-27T10:09:39.934718",
     "status": "completed"
    },
    "tags": []
   },
   "outputs": [],
   "source": [
    "import mnist"
   ]
  },
  {
   "cell_type": "code",
   "execution_count": 5,
   "id": "a411e44f",
   "metadata": {
    "execution": {
     "iopub.execute_input": "2022-03-27T10:09:40.050078Z",
     "iopub.status.busy": "2022-03-27T10:09:40.045915Z",
     "iopub.status.idle": "2022-03-27T10:09:40.595821Z",
     "shell.execute_reply": "2022-03-27T10:09:40.594546Z"
    },
    "papermill": {
     "duration": 0.582472,
     "end_time": "2022-03-27T10:09:40.595967",
     "exception": false,
     "start_time": "2022-03-27T10:09:40.013495",
     "status": "completed"
    },
    "tags": []
   },
   "outputs": [],
   "source": [
    "train_images = mnist.train_images()\n",
    "train_labels = mnist.train_labels()"
   ]
  },
  {
   "cell_type": "code",
   "execution_count": 6,
   "id": "dceab3a5",
   "metadata": {
    "execution": {
     "iopub.execute_input": "2022-03-27T10:09:40.657207Z",
     "iopub.status.busy": "2022-03-27T10:09:40.656252Z",
     "iopub.status.idle": "2022-03-27T10:09:40.672539Z",
     "shell.execute_reply": "2022-03-27T10:09:40.672030Z"
    },
    "papermill": {
     "duration": 0.048575,
     "end_time": "2022-03-27T10:09:40.672664",
     "exception": false,
     "start_time": "2022-03-27T10:09:40.624089",
     "status": "completed"
    },
    "tags": []
   },
   "outputs": [
    {
     "data": {
      "text/plain": [
       "((60000, 28, 28), (60000,))"
      ]
     },
     "execution_count": 6,
     "metadata": {},
     "output_type": "execute_result"
    }
   ],
   "source": [
    "train_images.shape, train_labels.shape"
   ]
  },
  {
   "cell_type": "code",
   "execution_count": 7,
   "id": "f50dc2bb",
   "metadata": {
    "execution": {
     "iopub.execute_input": "2022-03-27T10:09:40.737197Z",
     "iopub.status.busy": "2022-03-27T10:09:40.736556Z",
     "iopub.status.idle": "2022-03-27T10:09:40.860931Z",
     "shell.execute_reply": "2022-03-27T10:09:40.860003Z"
    },
    "papermill": {
     "duration": 0.160294,
     "end_time": "2022-03-27T10:09:40.861101",
     "exception": false,
     "start_time": "2022-03-27T10:09:40.700807",
     "status": "completed"
    },
    "tags": []
   },
   "outputs": [],
   "source": [
    "test_images = mnist.test_images()\n",
    "test_labels = mnist.test_labels()"
   ]
  },
  {
   "cell_type": "code",
   "execution_count": 8,
   "id": "fc38cf1b",
   "metadata": {
    "execution": {
     "iopub.execute_input": "2022-03-27T10:09:40.925889Z",
     "iopub.status.busy": "2022-03-27T10:09:40.925260Z",
     "iopub.status.idle": "2022-03-27T10:09:40.939557Z",
     "shell.execute_reply": "2022-03-27T10:09:40.940681Z"
    },
    "papermill": {
     "duration": 0.04997,
     "end_time": "2022-03-27T10:09:40.940923",
     "exception": false,
     "start_time": "2022-03-27T10:09:40.890953",
     "status": "completed"
    },
    "tags": []
   },
   "outputs": [
    {
     "data": {
      "text/plain": [
       "((10000, 28, 28), (10000,))"
      ]
     },
     "execution_count": 8,
     "metadata": {},
     "output_type": "execute_result"
    }
   ],
   "source": [
    "test_images.shape, test_labels.shape"
   ]
  },
  {
   "cell_type": "code",
   "execution_count": 9,
   "id": "f9ed8fe0",
   "metadata": {
    "execution": {
     "iopub.execute_input": "2022-03-27T10:09:41.006608Z",
     "iopub.status.busy": "2022-03-27T10:09:41.006008Z",
     "iopub.status.idle": "2022-03-27T10:09:41.164818Z",
     "shell.execute_reply": "2022-03-27T10:09:41.164281Z"
    },
    "papermill": {
     "duration": 0.193246,
     "end_time": "2022-03-27T10:09:41.164948",
     "exception": false,
     "start_time": "2022-03-27T10:09:40.971702",
     "status": "completed"
    },
    "tags": []
   },
   "outputs": [
    {
     "name": "stdout",
     "output_type": "stream",
     "text": [
      "2\n"
     ]
    },
    {
     "data": {
      "text/plain": [
       "<matplotlib.image.AxesImage at 0x7fe94f3bd5f8>"
      ]
     },
     "execution_count": 9,
     "metadata": {},
     "output_type": "execute_result"
    },
    {
     "data": {
      "image/png": "[encoded data removed]",
      "text/plain": [
       "<Figure size 432x288 with 1 Axes>"
      ]
     },
     "metadata": {
      "needs_background": "light"
     },
     "output_type": "display_data"
    }
   ],
   "source": [
    "image_index = 7776 # You may select anything up to 60,000\n",
    "print(train_labels[image_index]) \n",
    "plt.imshow(train_images[image_index], cmap='Greys')"
   ]
  },
  {
   "cell_type": "markdown",
   "id": "a8d2388d",
   "metadata": {
    "papermill": {
     "duration": 0.029831,
     "end_time": "2022-03-27T10:09:41.224728",
     "exception": false,
     "start_time": "2022-03-27T10:09:41.194897",
     "status": "completed"
    },
    "tags": []
   },
   "source": [
    "## Filter data to get 3 and 8 out"
   ]
  },
  {
   "cell_type": "code",
   "execution_count": 10,
   "id": "776f7fc7",
   "metadata": {
    "execution": {
     "iopub.execute_input": "2022-03-27T10:09:41.288796Z",
     "iopub.status.busy": "2022-03-27T10:09:41.288178Z",
     "iopub.status.idle": "2022-03-27T10:09:41.309826Z",
     "shell.execute_reply": "2022-03-27T10:09:41.309291Z"
    },
    "papermill": {
     "duration": 0.055506,
     "end_time": "2022-03-27T10:09:41.309965",
     "exception": false,
     "start_time": "2022-03-27T10:09:41.254459",
     "status": "completed"
    },
    "tags": []
   },
   "outputs": [],
   "source": [
    "train_filter = np.where((train_labels == 3 ) | (train_labels == 8))\n",
    "test_filter = np.where((test_labels == 3) | (test_labels == 8))\n",
    "X_train, y_train = train_images[train_filter], train_labels[train_filter]\n",
    "X_test, y_test = test_images[test_filter], test_labels[test_filter]"
   ]
  },
  {
   "cell_type": "markdown",
   "id": "948f0b7e",
   "metadata": {
    "papermill": {
     "duration": 0.029776,
     "end_time": "2022-03-27T10:09:41.369643",
     "exception": false,
     "start_time": "2022-03-27T10:09:41.339867",
     "status": "completed"
    },
    "tags": []
   },
   "source": [
    "We normalize the pizel values in the 0 to 1 range"
   ]
  },
  {
   "cell_type": "code",
   "execution_count": 11,
   "id": "ee4c2166",
   "metadata": {
    "execution": {
     "iopub.execute_input": "2022-03-27T10:09:41.435820Z",
     "iopub.status.busy": "2022-03-27T10:09:41.435216Z",
     "iopub.status.idle": "2022-03-27T10:09:41.500314Z",
     "shell.execute_reply": "2022-03-27T10:09:41.499408Z"
    },
    "papermill": {
     "duration": 0.101321,
     "end_time": "2022-03-27T10:09:41.500538",
     "exception": false,
     "start_time": "2022-03-27T10:09:41.399217",
     "status": "completed"
    },
    "tags": []
   },
   "outputs": [],
   "source": [
    "X_train = X_train/255.\n",
    "X_test = X_test/255."
   ]
  },
  {
   "cell_type": "markdown",
   "id": "ddcf4fab",
   "metadata": {
    "papermill": {
     "duration": 0.02954,
     "end_time": "2022-03-27T10:09:41.560095",
     "exception": false,
     "start_time": "2022-03-27T10:09:41.530555",
     "status": "completed"
    },
    "tags": []
   },
   "source": [
    "And setup the labels as 1 (when the digit is 3) and 0 (when the digit is 8)"
   ]
  },
  {
   "cell_type": "code",
   "execution_count": 12,
   "id": "7dc908f2",
   "metadata": {
    "execution": {
     "iopub.execute_input": "2022-03-27T10:09:41.626899Z",
     "iopub.status.busy": "2022-03-27T10:09:41.626266Z",
     "iopub.status.idle": "2022-03-27T10:09:41.639639Z",
     "shell.execute_reply": "2022-03-27T10:09:41.639112Z"
    },
    "papermill": {
     "duration": 0.049951,
     "end_time": "2022-03-27T10:09:41.639767",
     "exception": false,
     "start_time": "2022-03-27T10:09:41.589816",
     "status": "completed"
    },
    "tags": []
   },
   "outputs": [],
   "source": [
    "y_train = 1*(y_train==3)\n",
    "y_test = 1*(y_test==3)"
   ]
  },
  {
   "cell_type": "code",
   "execution_count": 13,
   "id": "01e4e969",
   "metadata": {
    "execution": {
     "iopub.execute_input": "2022-03-27T10:09:41.703385Z",
     "iopub.status.busy": "2022-03-27T10:09:41.702777Z",
     "iopub.status.idle": "2022-03-27T10:09:41.719168Z",
     "shell.execute_reply": "2022-03-27T10:09:41.718366Z"
    },
    "papermill": {
     "duration": 0.049819,
     "end_time": "2022-03-27T10:09:41.719302",
     "exception": false,
     "start_time": "2022-03-27T10:09:41.669483",
     "status": "completed"
    },
    "tags": []
   },
   "outputs": [
    {
     "data": {
      "text/plain": [
       "((11982, 28, 28), (1984, 28, 28))"
      ]
     },
     "execution_count": 13,
     "metadata": {},
     "output_type": "execute_result"
    }
   ],
   "source": [
    "X_train.shape, X_test.shape"
   ]
  },
  {
   "cell_type": "markdown",
   "id": "5ccf3f85",
   "metadata": {
    "papermill": {
     "duration": 0.029747,
     "end_time": "2022-03-27T10:09:41.778994",
     "exception": false,
     "start_time": "2022-03-27T10:09:41.749247",
     "status": "completed"
    },
    "tags": []
   },
   "source": [
    "We reshape the data to flatten the image pixels into a set of features or co-variates:"
   ]
  },
  {
   "cell_type": "code",
   "execution_count": 14,
   "id": "5286a4a3",
   "metadata": {
    "execution": {
     "iopub.execute_input": "2022-03-27T10:09:41.843487Z",
     "iopub.status.busy": "2022-03-27T10:09:41.842857Z",
     "iopub.status.idle": "2022-03-27T10:09:41.858039Z",
     "shell.execute_reply": "2022-03-27T10:09:41.857445Z"
    },
    "papermill": {
     "duration": 0.04922,
     "end_time": "2022-03-27T10:09:41.858244",
     "exception": false,
     "start_time": "2022-03-27T10:09:41.809024",
     "status": "completed"
    },
    "tags": []
   },
   "outputs": [
    {
     "data": {
      "text/plain": [
       "((11982, 784), (1984, 784))"
      ]
     },
     "execution_count": 14,
     "metadata": {},
     "output_type": "execute_result"
    }
   ],
   "source": [
    "X_train = X_train.reshape(X_train.shape[0], -1)\n",
    "X_test = X_test.reshape(X_test.shape[0], -1)\n",
    "X_train.shape, X_test.shape"
   ]
  },
  {
   "cell_type": "code",
   "execution_count": 15,
   "id": "73c5f88a",
   "metadata": {
    "execution": {
     "iopub.execute_input": "2022-03-27T10:09:41.927797Z",
     "iopub.status.busy": "2022-03-27T10:09:41.927014Z",
     "iopub.status.idle": "2022-03-27T10:09:41.948059Z",
     "shell.execute_reply": "2022-03-27T10:09:41.948581Z"
    },
    "papermill": {
     "duration": 0.059254,
     "end_time": "2022-03-27T10:09:41.948743",
     "exception": false,
     "start_time": "2022-03-27T10:09:41.889489",
     "status": "completed"
    },
    "tags": []
   },
   "outputs": [],
   "source": [
    "#Impoting functions from 'Kudzu'\n",
    "from kudzu.model import Model\n",
    "from kudzu.train import Learner\n",
    "from kudzu.optim import GD\n",
    "from kudzu.data import Data, Sampler,Dataloader\n",
    "\n",
    "from kudzu.callbacks import AccCallback\n",
    "from kudzu.callbacks import ClfCallback\n",
    "\n",
    "from kudzu.loss import MSE\n",
    "\n",
    "from kudzu.layer import Sigmoid,Relu\n",
    "from kudzu.layer import Affine"
   ]
  },
  {
   "cell_type": "markdown",
   "id": "bc01172a",
   "metadata": {
    "papermill": {
     "duration": 0.038429,
     "end_time": "2022-03-27T10:09:42.019314",
     "exception": false,
     "start_time": "2022-03-27T10:09:41.980885",
     "status": "completed"
    },
    "tags": []
   },
   "source": [
    "### Let us create a `Config` class, to store important parameters. \n",
    "This class essentially plays the role of a dictionary."
   ]
  },
  {
   "cell_type": "code",
   "execution_count": 16,
   "id": "978281aa",
   "metadata": {
    "execution": {
     "iopub.execute_input": "2022-03-27T10:09:42.087519Z",
     "iopub.status.busy": "2022-03-27T10:09:42.086914Z",
     "iopub.status.idle": "2022-03-27T10:09:42.102743Z",
     "shell.execute_reply": "2022-03-27T10:09:42.101898Z"
    },
    "papermill": {
     "duration": 0.051719,
     "end_time": "2022-03-27T10:09:42.102911",
     "exception": false,
     "start_time": "2022-03-27T10:09:42.051192",
     "status": "completed"
    },
    "tags": []
   },
   "outputs": [],
   "source": [
    "class Config:\n",
    "    pass\n",
    "config = Config()\n",
    "config.lr = 0.001\n",
    "config.num_epochs = 250\n",
    "config.bs = 50"
   ]
  },
  {
   "cell_type": "markdown",
   "id": "1385fa59",
   "metadata": {
    "papermill": {
     "duration": 0.031566,
     "end_time": "2022-03-27T10:09:42.174723",
     "exception": false,
     "start_time": "2022-03-27T10:09:42.143157",
     "status": "completed"
    },
    "tags": []
   },
   "source": [
    "### Running Models with the Training data\n",
    "Details about the network layers:\n",
    "- A first affine layer has 784 inputs and does 100 affine transforms. These are followed by a Relu\n",
    "- A second affine layer has 100 inputs from the 100 activations of the past layer, and does 100 affine transforms. These are followed by a Relu\n",
    "- A third affine layer has 100 activations and does 2 affine transformations to create an embedding for visualization. There is no non-linearity here.\n",
    "- A final \"logistic regression\" which has an affine transform from 2 inputs to 1 output, which is squeezed through a sigmoid.\n"
   ]
  },
  {
   "cell_type": "code",
   "execution_count": 17,
   "id": "2b9c66db",
   "metadata": {
    "execution": {
     "iopub.execute_input": "2022-03-27T10:09:42.246149Z",
     "iopub.status.busy": "2022-03-27T10:09:42.245521Z",
     "iopub.status.idle": "2022-03-27T10:09:42.278848Z",
     "shell.execute_reply": "2022-03-27T10:09:42.277776Z"
    },
    "papermill": {
     "duration": 0.072147,
     "end_time": "2022-03-27T10:09:42.279073",
     "exception": false,
     "start_time": "2022-03-27T10:09:42.206926",
     "status": "completed"
    },
    "tags": []
   },
   "outputs": [],
   "source": [
    "data = Data(X_train, y_train.reshape(-1,1))\n",
    "sampler = Sampler(data, config.bs, shuffle=True)\n",
    "\n",
    "dl = Dataloader(data, sampler)\n",
    "\n",
    "opt = GD(config.lr)\n",
    "loss = MSE()"
   ]
  },
  {
   "cell_type": "code",
   "execution_count": 18,
   "id": "b275e4c2",
   "metadata": {
    "execution": {
     "iopub.execute_input": "2022-03-27T10:09:42.351432Z",
     "iopub.status.busy": "2022-03-27T10:09:42.350774Z",
     "iopub.status.idle": "2022-03-27T10:09:42.364875Z",
     "shell.execute_reply": "2022-03-27T10:09:42.365572Z"
    },
    "papermill": {
     "duration": 0.05294,
     "end_time": "2022-03-27T10:09:42.365767",
     "exception": false,
     "start_time": "2022-03-27T10:09:42.312827",
     "status": "completed"
    },
    "tags": []
   },
   "outputs": [],
   "source": [
    "training_data_x = X_train\n",
    "testing_data_x = X_test\n",
    "training_data_y = y_train.reshape(-1,1)\n",
    "testing_data_y = y_test.reshape(-1,1)"
   ]
  },
  {
   "cell_type": "code",
   "execution_count": 19,
   "id": "76951160",
   "metadata": {
    "execution": {
     "iopub.execute_input": "2022-03-27T10:09:42.435085Z",
     "iopub.status.busy": "2022-03-27T10:09:42.434474Z",
     "iopub.status.idle": "2022-03-27T10:09:42.452147Z",
     "shell.execute_reply": "2022-03-27T10:09:42.451638Z"
    },
    "papermill": {
     "duration": 0.05363,
     "end_time": "2022-03-27T10:09:42.452271",
     "exception": false,
     "start_time": "2022-03-27T10:09:42.398641",
     "status": "completed"
    },
    "tags": []
   },
   "outputs": [
    {
     "name": "stdout",
     "output_type": "stream",
     "text": [
      "xavier\n",
      "xavier\n",
      "xavier\n",
      "xavier\n",
      "xavier\n"
     ]
    }
   ],
   "source": [
    "layers = [Affine(\"first\", 784, 100), Relu(\"first\"), Affine(\"second\", 100, 100), Relu(\"second\"), Affine(\"third\", 100, 2), Affine(\"last\", 2, 1), Sigmoid(\"last\")]\n",
    "model_nn = Model(layers)\n",
    "model_lr = Model([Affine(\"logits\", 784, 1), Sigmoid(\"sigmoid\")])"
   ]
  },
  {
   "cell_type": "code",
   "execution_count": 20,
   "id": "6eede77a",
   "metadata": {
    "execution": {
     "iopub.execute_input": "2022-03-27T10:09:42.520843Z",
     "iopub.status.busy": "2022-03-27T10:09:42.520214Z",
     "iopub.status.idle": "2022-03-27T10:09:42.533875Z",
     "shell.execute_reply": "2022-03-27T10:09:42.533376Z"
    },
    "papermill": {
     "duration": 0.050166,
     "end_time": "2022-03-27T10:09:42.534007",
     "exception": false,
     "start_time": "2022-03-27T10:09:42.483841",
     "status": "completed"
    },
    "tags": []
   },
   "outputs": [],
   "source": [
    "nn_learner = Learner(loss, model_nn, opt, config.num_epochs)\n",
    "acc_nn = ClfCallback(nn_learner, config.bs, training_data_x , testing_data_x, training_data_y, testing_data_y)\n",
    "nn_learner.set_callbacks([acc_nn])"
   ]
  },
  {
   "cell_type": "code",
   "execution_count": 21,
   "id": "877b6cc7",
   "metadata": {
    "execution": {
     "iopub.execute_input": "2022-03-27T10:09:42.601024Z",
     "iopub.status.busy": "2022-03-27T10:09:42.600386Z",
     "iopub.status.idle": "2022-03-27T10:09:42.614316Z",
     "shell.execute_reply": "2022-03-27T10:09:42.613824Z"
    },
    "papermill": {
     "duration": 0.049083,
     "end_time": "2022-03-27T10:09:42.614444",
     "exception": false,
     "start_time": "2022-03-27T10:09:42.565361",
     "status": "completed"
    },
    "tags": []
   },
   "outputs": [],
   "source": [
    "lr_learner = Learner(loss, model_lr, opt, config.num_epochs)\n",
    "acc_lr = ClfCallback(lr_learner, config.bs, training_data_x , testing_data_x, training_data_y, testing_data_y)\n",
    "lr_learner.set_callbacks([acc_lr])"
   ]
  },
  {
   "cell_type": "code",
   "execution_count": 22,
   "id": "d9b133c3",
   "metadata": {
    "execution": {
     "iopub.execute_input": "2022-03-27T10:09:42.682621Z",
     "iopub.status.busy": "2022-03-27T10:09:42.682027Z",
     "iopub.status.idle": "2022-03-27T10:11:11.876838Z",
     "shell.execute_reply": "2022-03-27T10:11:11.877705Z"
    },
    "papermill": {
     "duration": 89.23098,
     "end_time": "2022-03-27T10:11:11.877868",
     "exception": false,
     "start_time": "2022-03-27T10:09:42.646888",
     "status": "completed"
    },
    "tags": []
   },
   "outputs": [
    {
     "name": "stdout",
     "output_type": "stream",
     "text": [
      "Epoch 0, Loss 0.2516\n",
      "Training Accuracy: 0.4564, Testing Accuracy: 0.4466\n",
      "\n"
     ]
    },
    {
     "name": "stdout",
     "output_type": "stream",
     "text": [
      "Epoch 10, Loss 0.2392\n",
      "Training Accuracy: 0.7967, Testing Accuracy: 0.8065\n",
      "\n"
     ]
    },
    {
     "name": "stdout",
     "output_type": "stream",
     "text": [
      "Epoch 20, Loss 0.1881\n",
      "Training Accuracy: 0.8846, Testing Accuracy: 0.8952\n",
      "\n"
     ]
    },
    {
     "name": "stdout",
     "output_type": "stream",
     "text": [
      "Epoch 30, Loss 0.0932\n",
      "Training Accuracy: 0.9195, Testing Accuracy: 0.9249\n",
      "\n"
     ]
    },
    {
     "name": "stdout",
     "output_type": "stream",
     "text": [
      "Epoch 40, Loss 0.0592\n",
      "Training Accuracy: 0.9374, Testing Accuracy: 0.9446\n",
      "\n"
     ]
    },
    {
     "name": "stdout",
     "output_type": "stream",
     "text": [
      "Epoch 50, Loss 0.0471\n",
      "Training Accuracy: 0.9465, Testing Accuracy: 0.9561\n",
      "\n"
     ]
    },
    {
     "name": "stdout",
     "output_type": "stream",
     "text": [
      "Epoch 60, Loss 0.0409\n",
      "Training Accuracy: 0.9532, Testing Accuracy: 0.9582\n",
      "\n"
     ]
    },
    {
     "name": "stdout",
     "output_type": "stream",
     "text": [
      "Epoch 70, Loss 0.0371\n",
      "Training Accuracy: 0.9574, Testing Accuracy: 0.9602\n",
      "\n"
     ]
    },
    {
     "name": "stdout",
     "output_type": "stream",
     "text": [
      "Epoch 80, Loss 0.0345\n",
      "Training Accuracy: 0.9605, Testing Accuracy: 0.9612\n",
      "\n"
     ]
    },
    {
     "name": "stdout",
     "output_type": "stream",
     "text": [
      "Epoch 90, Loss 0.0325\n",
      "Training Accuracy: 0.9630, Testing Accuracy: 0.9642\n",
      "\n"
     ]
    },
    {
     "name": "stdout",
     "output_type": "stream",
     "text": [
      "Epoch 100, Loss 0.0309\n",
      "Training Accuracy: 0.9649, Testing Accuracy: 0.9642\n",
      "\n"
     ]
    },
    {
     "name": "stdout",
     "output_type": "stream",
     "text": [
      "Epoch 110, Loss 0.0297\n",
      "Training Accuracy: 0.9666, Testing Accuracy: 0.9652\n",
      "\n"
     ]
    },
    {
     "name": "stdout",
     "output_type": "stream",
     "text": [
      "Epoch 120, Loss 0.0286\n",
      "Training Accuracy: 0.9675, Testing Accuracy: 0.9657\n",
      "\n"
     ]
    },
    {
     "name": "stdout",
     "output_type": "stream",
     "text": [
      "Epoch 130, Loss 0.0277\n",
      "Training Accuracy: 0.9676, Testing Accuracy: 0.9662\n",
      "\n"
     ]
    },
    {
     "name": "stdout",
     "output_type": "stream",
     "text": [
      "Epoch 140, Loss 0.0269\n",
      "Training Accuracy: 0.9684, Testing Accuracy: 0.9672\n",
      "\n"
     ]
    },
    {
     "name": "stdout",
     "output_type": "stream",
     "text": [
      "Epoch 150, Loss 0.0262\n",
      "Training Accuracy: 0.9690, Testing Accuracy: 0.9672\n",
      "\n"
     ]
    },
    {
     "name": "stdout",
     "output_type": "stream",
     "text": [
      "Epoch 160, Loss 0.0256\n",
      "Training Accuracy: 0.9701, Testing Accuracy: 0.9682\n",
      "\n"
     ]
    },
    {
     "name": "stdout",
     "output_type": "stream",
     "text": [
      "Epoch 170, Loss 0.025\n",
      "Training Accuracy: 0.9710, Testing Accuracy: 0.9688\n",
      "\n"
     ]
    },
    {
     "name": "stdout",
     "output_type": "stream",
     "text": [
      "Epoch 180, Loss 0.0244\n",
      "Training Accuracy: 0.9716, Testing Accuracy: 0.9688\n",
      "\n"
     ]
    },
    {
     "name": "stdout",
     "output_type": "stream",
     "text": [
      "Epoch 190, Loss 0.0239\n",
      "Training Accuracy: 0.9724, Testing Accuracy: 0.9693\n",
      "\n"
     ]
    },
    {
     "name": "stdout",
     "output_type": "stream",
     "text": [
      "Epoch 200, Loss 0.0235\n",
      "Training Accuracy: 0.9727, Testing Accuracy: 0.9698\n",
      "\n"
     ]
    },
    {
     "name": "stdout",
     "output_type": "stream",
     "text": [
      "Epoch 210, Loss 0.023\n",
      "Training Accuracy: 0.9730, Testing Accuracy: 0.9698\n",
      "\n"
     ]
    },
    {
     "name": "stdout",
     "output_type": "stream",
     "text": [
      "Epoch 220, Loss 0.0226\n",
      "Training Accuracy: 0.9732, Testing Accuracy: 0.9703\n",
      "\n"
     ]
    },
    {
     "name": "stdout",
     "output_type": "stream",
     "text": [
      "Epoch 230, Loss 0.0222\n",
      "Training Accuracy: 0.9736, Testing Accuracy: 0.9703\n",
      "\n"
     ]
    },
    {
     "name": "stdout",
     "output_type": "stream",
     "text": [
      "Epoch 240, Loss 0.0218\n",
      "Training Accuracy: 0.9742, Testing Accuracy: 0.9713\n",
      "\n"
     ]
    },
    {
     "data": {
      "text/plain": [
       "0.013557520977420176"
      ]
     },
     "execution_count": 22,
     "metadata": {},
     "output_type": "execute_result"
    }
   ],
   "source": [
    "nn_learner.train_loop(dl)"
   ]
  },
  {
   "cell_type": "code",
   "execution_count": 23,
   "id": "e0163366",
   "metadata": {
    "execution": {
     "iopub.execute_input": "2022-03-27T10:11:11.970286Z",
     "iopub.status.busy": "2022-03-27T10:11:11.969641Z",
     "iopub.status.idle": "2022-03-27T10:11:27.867847Z",
     "shell.execute_reply": "2022-03-27T10:11:27.868678Z"
    },
    "papermill": {
     "duration": 15.951755,
     "end_time": "2022-03-27T10:11:27.868842",
     "exception": false,
     "start_time": "2022-03-27T10:11:11.917087",
     "status": "completed"
    },
    "tags": []
   },
   "outputs": [
    {
     "name": "stdout",
     "output_type": "stream",
     "text": [
      "Epoch 0, Loss 0.2039\n",
      "Training Accuracy: 0.7980, Testing Accuracy: 0.8130\n",
      "\n"
     ]
    },
    {
     "name": "stdout",
     "output_type": "stream",
     "text": [
      "Epoch 10, Loss 0.0987\n",
      "Training Accuracy: 0.9128, Testing Accuracy: 0.9234\n",
      "\n"
     ]
    },
    {
     "name": "stdout",
     "output_type": "stream",
     "text": [
      "Epoch 20, Loss 0.0771\n",
      "Training Accuracy: 0.9299, Testing Accuracy: 0.9415\n",
      "\n"
     ]
    },
    {
     "name": "stdout",
     "output_type": "stream",
     "text": [
      "Epoch 30, Loss 0.0669\n",
      "Training Accuracy: 0.9376, Testing Accuracy: 0.9496\n",
      "\n"
     ]
    },
    {
     "name": "stdout",
     "output_type": "stream",
     "text": [
      "Epoch 40, Loss 0.0607\n",
      "Training Accuracy: 0.9424, Testing Accuracy: 0.9541\n",
      "\n"
     ]
    },
    {
     "name": "stdout",
     "output_type": "stream",
     "text": [
      "Epoch 50, Loss 0.0565\n",
      "Training Accuracy: 0.9446, Testing Accuracy: 0.9556\n",
      "\n"
     ]
    },
    {
     "name": "stdout",
     "output_type": "stream",
     "text": [
      "Epoch 60, Loss 0.0533\n",
      "Training Accuracy: 0.9465, Testing Accuracy: 0.9587\n",
      "\n"
     ]
    },
    {
     "name": "stdout",
     "output_type": "stream",
     "text": [
      "Epoch 70, Loss 0.0509\n",
      "Training Accuracy: 0.9482, Testing Accuracy: 0.9602\n",
      "\n"
     ]
    },
    {
     "name": "stdout",
     "output_type": "stream",
     "text": [
      "Epoch 80, Loss 0.0489\n",
      "Training Accuracy: 0.9495, Testing Accuracy: 0.9597\n",
      "\n"
     ]
    },
    {
     "name": "stdout",
     "output_type": "stream",
     "text": [
      "Epoch 90, Loss 0.0473\n",
      "Training Accuracy: 0.9513, Testing Accuracy: 0.9612\n",
      "\n"
     ]
    },
    {
     "name": "stdout",
     "output_type": "stream",
     "text": [
      "Epoch 100, Loss 0.0459\n",
      "Training Accuracy: 0.9522, Testing Accuracy: 0.9617\n",
      "\n"
     ]
    },
    {
     "name": "stdout",
     "output_type": "stream",
     "text": [
      "Epoch 110, Loss 0.0448\n",
      "Training Accuracy: 0.9541, Testing Accuracy: 0.9632\n",
      "\n"
     ]
    },
    {
     "name": "stdout",
     "output_type": "stream",
     "text": [
      "Epoch 120, Loss 0.0437\n",
      "Training Accuracy: 0.9548, Testing Accuracy: 0.9632\n",
      "\n"
     ]
    },
    {
     "name": "stdout",
     "output_type": "stream",
     "text": [
      "Epoch 130, Loss 0.0428\n",
      "Training Accuracy: 0.9557, Testing Accuracy: 0.9637\n",
      "\n"
     ]
    },
    {
     "name": "stdout",
     "output_type": "stream",
     "text": [
      "Epoch 140, Loss 0.042\n",
      "Training Accuracy: 0.9560, Testing Accuracy: 0.9637\n",
      "\n"
     ]
    },
    {
     "name": "stdout",
     "output_type": "stream",
     "text": [
      "Epoch 150, Loss 0.0413\n",
      "Training Accuracy: 0.9566, Testing Accuracy: 0.9637\n",
      "\n"
     ]
    },
    {
     "name": "stdout",
     "output_type": "stream",
     "text": [
      "Epoch 160, Loss 0.0406\n",
      "Training Accuracy: 0.9573, Testing Accuracy: 0.9642\n",
      "\n"
     ]
    },
    {
     "name": "stdout",
     "output_type": "stream",
     "text": [
      "Epoch 170, Loss 0.04\n",
      "Training Accuracy: 0.9579, Testing Accuracy: 0.9642\n",
      "\n"
     ]
    },
    {
     "name": "stdout",
     "output_type": "stream",
     "text": [
      "Epoch 180, Loss 0.0395\n",
      "Training Accuracy: 0.9583, Testing Accuracy: 0.9647\n",
      "\n"
     ]
    },
    {
     "name": "stdout",
     "output_type": "stream",
     "text": [
      "Epoch 190, Loss 0.039\n",
      "Training Accuracy: 0.9589, Testing Accuracy: 0.9652\n",
      "\n"
     ]
    },
    {
     "name": "stdout",
     "output_type": "stream",
     "text": [
      "Epoch 200, Loss 0.0385\n",
      "Training Accuracy: 0.9592, Testing Accuracy: 0.9657\n",
      "\n"
     ]
    },
    {
     "name": "stdout",
     "output_type": "stream",
     "text": [
      "Epoch 210, Loss 0.0381\n",
      "Training Accuracy: 0.9596, Testing Accuracy: 0.9662\n",
      "\n"
     ]
    },
    {
     "name": "stdout",
     "output_type": "stream",
     "text": [
      "Epoch 220, Loss 0.0377\n",
      "Training Accuracy: 0.9602, Testing Accuracy: 0.9657\n",
      "\n"
     ]
    },
    {
     "name": "stdout",
     "output_type": "stream",
     "text": [
      "Epoch 230, Loss 0.0373\n",
      "Training Accuracy: 0.9607, Testing Accuracy: 0.9662\n",
      "\n"
     ]
    },
    {
     "name": "stdout",
     "output_type": "stream",
     "text": [
      "Epoch 240, Loss 0.0369\n",
      "Training Accuracy: 0.9610, Testing Accuracy: 0.9667\n",
      "\n"
     ]
    },
    {
     "data": {
      "text/plain": [
       "0.07722166205961815"
      ]
     },
     "execution_count": 23,
     "metadata": {},
     "output_type": "execute_result"
    }
   ],
   "source": [
    "lr_learner.train_loop(dl)"
   ]
  },
  {
   "cell_type": "code",
   "execution_count": 24,
   "id": "ca410940",
   "metadata": {
    "execution": {
     "iopub.execute_input": "2022-03-27T10:11:27.970777Z",
     "iopub.status.busy": "2022-03-27T10:11:27.970145Z",
     "iopub.status.idle": "2022-03-27T10:11:28.228265Z",
     "shell.execute_reply": "2022-03-27T10:11:28.228754Z"
    },
    "papermill": {
     "duration": 0.313889,
     "end_time": "2022-03-27T10:11:28.228910",
     "exception": false,
     "start_time": "2022-03-27T10:11:27.915021",
     "status": "completed"
    },
    "tags": []
   },
   "outputs": [
    {
     "data": {
      "text/plain": [
       "<matplotlib.legend.Legend at 0x7fe94ef99d30>"
      ]
     },
     "execution_count": 24,
     "metadata": {},
     "output_type": "execute_result"
    },
    {
     "data": {
      "image/png": "[encoded data removed]",
      "text/plain": [
       "<Figure size 1080x720 with 1 Axes>"
      ]
     },
     "metadata": {
      "needs_background": "light"
     },
     "output_type": "display_data"
    }
   ],
   "source": [
    "#comparing the results of NN and LR\n",
    "plt.figure(figsize=(15,10))\n",
    "\n",
    "# Neural Network plots\n",
    "plt.plot(acc_nn.accuracies, 'r-', label = \"Training Accuracies - NN\")\n",
    "plt.plot(acc_nn.test_accuracies, 'g-', label = \"Testing Accuracies - NN\")\n",
    "\n",
    "# Logistic Regression plots\n",
    "plt.plot(acc_lr.accuracies, 'k-', label = \"Training Accuracies - LR\")\n",
    "plt.plot(acc_lr.test_accuracies, 'b-', label = \"Testing Accuracies - LR\")\n",
    "plt.legend()"
   ]
  },
  {
   "cell_type": "markdown",
   "id": "80dfb35c",
   "metadata": {
    "papermill": {
     "duration": 0.047155,
     "end_time": "2022-03-27T10:11:28.323731",
     "exception": false,
     "start_time": "2022-03-27T10:11:28.276576",
     "status": "completed"
    },
    "tags": []
   },
   "source": [
    "#### Plotting the outputs of this layer of the NN.\n"
   ]
  },
  {
   "cell_type": "code",
   "execution_count": 25,
   "id": "45eb2ff5",
   "metadata": {
    "execution": {
     "iopub.execute_input": "2022-03-27T10:11:28.424009Z",
     "iopub.status.busy": "2022-03-27T10:11:28.423400Z",
     "iopub.status.idle": "2022-03-27T10:11:28.446329Z",
     "shell.execute_reply": "2022-03-27T10:11:28.446832Z"
    },
    "papermill": {
     "duration": 0.07599,
     "end_time": "2022-03-27T10:11:28.446986",
     "exception": false,
     "start_time": "2022-03-27T10:11:28.370996",
     "status": "completed"
    },
    "tags": []
   },
   "outputs": [],
   "source": [
    "new_model = Model(layers[:-2])\n",
    "testing_plot = new_model(testing_data_x)"
   ]
  },
  {
   "cell_type": "code",
   "execution_count": 26,
   "id": "4c0a5485",
   "metadata": {
    "execution": {
     "iopub.execute_input": "2022-03-27T10:11:28.548114Z",
     "iopub.status.busy": "2022-03-27T10:11:28.547511Z",
     "iopub.status.idle": "2022-03-27T10:11:28.782515Z",
     "shell.execute_reply": "2022-03-27T10:11:28.783011Z"
    },
    "papermill": {
     "duration": 0.287265,
     "end_time": "2022-03-27T10:11:28.783167",
     "exception": false,
     "start_time": "2022-03-27T10:11:28.495902",
     "status": "completed"
    },
    "tags": []
   },
   "outputs": [
    {
     "data": {
      "text/plain": [
       "Text(0.5, 1.0, 'Outputs')"
      ]
     },
     "execution_count": 26,
     "metadata": {},
     "output_type": "execute_result"
    },
    {
     "data": {
      "image/png": "[encoded data removed]",
      "text/plain": [
       "<Figure size 576x504 with 1 Axes>"
      ]
     },
     "metadata": {
      "needs_background": "light"
     },
     "output_type": "display_data"
    }
   ],
   "source": [
    "# Plotting the scatter plot of points and color coding by class\n",
    "plt.figure(figsize=(8,7))\n",
    "plt.scatter(testing_plot[:,0], testing_plot[:,1], alpha = 0.1, c = y_test.ravel());\n",
    "plt.title('Outputs')"
   ]
  },
  {
   "cell_type": "markdown",
   "id": "a74fcf8f",
   "metadata": {
    "papermill": {
     "duration": 0.04974,
     "end_time": "2022-03-27T10:11:28.883135",
     "exception": false,
     "start_time": "2022-03-27T10:11:28.833395",
     "status": "completed"
    },
    "tags": []
   },
   "source": [
    "Probability contours"
   ]
  },
  {
   "cell_type": "code",
   "execution_count": 27,
   "id": "d0afc8e3",
   "metadata": {
    "execution": {
     "iopub.execute_input": "2022-03-27T10:11:28.990413Z",
     "iopub.status.busy": "2022-03-27T10:11:28.989727Z",
     "iopub.status.idle": "2022-03-27T10:11:28.999838Z",
     "shell.execute_reply": "2022-03-27T10:11:28.999347Z"
    },
    "papermill": {
     "duration": 0.067316,
     "end_time": "2022-03-27T10:11:28.999966",
     "exception": false,
     "start_time": "2022-03-27T10:11:28.932650",
     "status": "completed"
    },
    "tags": []
   },
   "outputs": [],
   "source": [
    "model_prob = Model(layers[-2:]) "
   ]
  },
  {
   "cell_type": "code",
   "execution_count": 28,
   "id": "9b96e238",
   "metadata": {
    "execution": {
     "iopub.execute_input": "2022-03-27T10:11:29.106094Z",
     "iopub.status.busy": "2022-03-27T10:11:29.105024Z",
     "iopub.status.idle": "2022-03-27T10:11:29.120754Z",
     "shell.execute_reply": "2022-03-27T10:11:29.121251Z"
    },
    "papermill": {
     "duration": 0.071925,
     "end_time": "2022-03-27T10:11:29.121415",
     "exception": false,
     "start_time": "2022-03-27T10:11:29.049490",
     "status": "completed"
    },
    "tags": []
   },
   "outputs": [],
   "source": [
    "#creating the x and y ranges according to the above generated plot.\n",
    "x_range = np.linspace(-4, 1, 100) \n",
    "y_range = np.linspace(-6, 6, 100) \n",
    "x_grid, y_grid = np.meshgrid(x_range, y_range) # x_grid and y_grig are of size 100 X 100\n",
    "\n",
    "# converting x_grid and y_grid to continuous arrays\n",
    "x_gridflat = np.ravel(x_grid)\n",
    "y_gridflat = np.ravel(y_grid)\n",
    "\n",
    "# The last layer of the current model takes two columns as input. Hence transpose of np.vstack() is required.\n",
    "X = np.vstack((x_gridflat, y_gridflat)).T\n",
    "\n",
    "prob_contour = model_prob(X).reshape(100,100) "
   ]
  },
  {
   "cell_type": "code",
   "execution_count": 29,
   "id": "da72499a",
   "metadata": {
    "execution": {
     "iopub.execute_input": "2022-03-27T10:11:29.263451Z",
     "iopub.status.busy": "2022-03-27T10:11:29.261997Z",
     "iopub.status.idle": "2022-03-27T10:11:29.552281Z",
     "shell.execute_reply": "2022-03-27T10:11:29.552769Z"
    },
    "papermill": {
     "duration": 0.3476,
     "end_time": "2022-03-27T10:11:29.552925",
     "exception": false,
     "start_time": "2022-03-27T10:11:29.205325",
     "status": "completed"
    },
    "tags": []
   },
   "outputs": [
    {
     "data": {
      "image/png": "[encoded data removed]",
      "text/plain": [
       "<Figure size 720x648 with 1 Axes>"
      ]
     },
     "metadata": {
      "needs_background": "light"
     },
     "output_type": "display_data"
    }
   ],
   "source": [
    "plt.figure(figsize=(10,9))\n",
    "plt.scatter(testing_plot[:,0], testing_plot[:,1], alpha = 0.1, c = y_test.ravel())\n",
    "contours = plt.contour(x_grid,y_grid,prob_contour)\n",
    "plt.title('Probability Contours')\n",
    "plt.clabel(contours, inline = True );"
   ]
  },
  {
   "cell_type": "code",
   "execution_count": null,
   "id": "e81b4ac7",
   "metadata": {
    "papermill": {
     "duration": 0.052167,
     "end_time": "2022-03-27T10:11:29.657551",
     "exception": false,
     "start_time": "2022-03-27T10:11:29.605384",
     "status": "completed"
    },
    "tags": []
   },
   "outputs": [],
   "source": []
  }
 ],
 "metadata": {
  "kernelspec": {
   "display_name": "Python 3",
   "language": "python",
   "name": "python3"
  },
  "language_info": {
   "codemirror_mode": {
    "name": "ipython",
    "version": 3
   },
   "file_extension": ".py",
   "mimetype": "text/x-python",
   "name": "python",
   "nbconvert_exporter": "python",
   "pygments_lexer": "ipython3",
   "version": "3.6.15"
  },
  "papermill": {
   "default_parameters": {},
   "duration": 114.418665,
   "end_time": "2022-03-27T10:11:30.129303",
   "environment_variables": {},
   "exception": null,
   "input_path": "2020-08-11-part2.ipynb",
   "output_path": "2020-08-11-part2.ipynb",
   "parameters": {},
   "start_time": "2022-03-27T10:09:35.710638",
   "version": "2.3.3"
  }
 },
 "nbformat": 4,
 "nbformat_minor": 5
}