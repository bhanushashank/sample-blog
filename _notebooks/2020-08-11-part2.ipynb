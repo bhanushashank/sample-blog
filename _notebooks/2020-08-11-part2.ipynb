{
 "cells": [
  {
   "cell_type": "markdown",
   "id": "98380cd3",
   "metadata": {
    "papermill": {
     "duration": 0.037536,
     "end_time": "2022-07-17T10:09:49.944672",
     "exception": false,
     "start_time": "2022-07-17T10:09:49.907136",
     "status": "completed"
    },
    "tags": []
   },
   "source": [
    "# Distinguish Your Own Digits (DYOD)"
   ]
  },
  {
   "cell_type": "markdown",
   "id": "ef31240d",
   "metadata": {
    "papermill": {
     "duration": 0.027875,
     "end_time": "2022-07-17T10:09:50.003154",
     "exception": false,
     "start_time": "2022-07-17T10:09:49.975279",
     "status": "completed"
    },
    "tags": []
   },
   "source": [
    "You are going to write a classifier that distinguishes between the number 3 and number 8."
   ]
  },
  {
   "cell_type": "code",
   "execution_count": 1,
   "id": "b15c8646",
   "metadata": {
    "execution": {
     "iopub.execute_input": "2022-07-17T10:09:50.076827Z",
     "iopub.status.busy": "2022-07-17T10:09:50.075918Z",
     "iopub.status.idle": "2022-07-17T10:09:50.092369Z",
     "shell.execute_reply": "2022-07-17T10:09:50.092859Z"
    },
    "papermill": {
     "duration": 0.061175,
     "end_time": "2022-07-17T10:09:50.093063",
     "exception": false,
     "start_time": "2022-07-17T10:09:50.031888",
     "status": "completed"
    },
    "tags": []
   },
   "outputs": [],
   "source": [
    "%load_ext autoreload\n",
    "%autoreload 2"
   ]
  },
  {
   "cell_type": "code",
   "execution_count": 2,
   "id": "22ef38dc",
   "metadata": {
    "execution": {
     "iopub.execute_input": "2022-07-17T10:09:50.170923Z",
     "iopub.status.busy": "2022-07-17T10:09:50.163815Z",
     "iopub.status.idle": "2022-07-17T10:09:50.807584Z",
     "shell.execute_reply": "2022-07-17T10:09:50.806917Z"
    },
    "papermill": {
     "duration": 0.685042,
     "end_time": "2022-07-17T10:09:50.807720",
     "exception": false,
     "start_time": "2022-07-17T10:09:50.122678",
     "status": "completed"
    },
    "tags": []
   },
   "outputs": [],
   "source": [
    "%matplotlib inline\n",
    "import numpy as np\n",
    "import matplotlib.pyplot as plt\n",
    "import pandas as pd"
   ]
  },
  {
   "cell_type": "markdown",
   "id": "ba036198",
   "metadata": {
    "papermill": {
     "duration": 0.028092,
     "end_time": "2022-07-17T10:09:50.865355",
     "exception": false,
     "start_time": "2022-07-17T10:09:50.837263",
     "status": "completed"
    },
    "tags": []
   },
   "source": [
    "From the command line run `pip install mnist`. This is a library that will help you bring down the mnist dataset. If you run this from a notebook, you need to put  `!pip install mnist` in a cell by itself."
   ]
  },
  {
   "cell_type": "code",
   "execution_count": 3,
   "id": "bb6ad8a1",
   "metadata": {
    "execution": {
     "iopub.execute_input": "2022-07-17T10:09:50.931842Z",
     "iopub.status.busy": "2022-07-17T10:09:50.931172Z",
     "iopub.status.idle": "2022-07-17T10:09:52.848702Z",
     "shell.execute_reply": "2022-07-17T10:09:52.848014Z"
    },
    "papermill": {
     "duration": 1.955356,
     "end_time": "2022-07-17T10:09:52.848829",
     "exception": false,
     "start_time": "2022-07-17T10:09:50.893473",
     "status": "completed"
    },
    "tags": []
   },
   "outputs": [
    {
     "name": "stdout",
     "output_type": "stream",
     "text": [
      "Collecting mnist\r\n"
     ]
    },
    {
     "name": "stdout",
     "output_type": "stream",
     "text": [
      "  Downloading mnist-0.2.2-py2.py3-none-any.whl (3.5 kB)\r\n",
      "Requirement already satisfied: numpy in /opt/hostedtoolcache/Python/3.6.15/x64/lib/python3.6/site-packages (from mnist) (1.19.5)\r\n"
     ]
    },
    {
     "name": "stdout",
     "output_type": "stream",
     "text": [
      "Installing collected packages: mnist\r\n"
     ]
    },
    {
     "name": "stdout",
     "output_type": "stream",
     "text": [
      "Successfully installed mnist-0.2.2\r\n"
     ]
    }
   ],
   "source": [
    "!pip install mnist"
   ]
  },
  {
   "cell_type": "markdown",
   "id": "69df9c9a",
   "metadata": {
    "papermill": {
     "duration": 0.029429,
     "end_time": "2022-07-17T10:09:52.907642",
     "exception": false,
     "start_time": "2022-07-17T10:09:52.878213",
     "status": "completed"
    },
    "tags": []
   },
   "source": [
    "## Preparing the Data"
   ]
  },
  {
   "cell_type": "code",
   "execution_count": 4,
   "id": "7f69d806",
   "metadata": {
    "execution": {
     "iopub.execute_input": "2022-07-17T10:09:52.977964Z",
     "iopub.status.busy": "2022-07-17T10:09:52.977220Z",
     "iopub.status.idle": "2022-07-17T10:09:52.992756Z",
     "shell.execute_reply": "2022-07-17T10:09:52.992212Z"
    },
    "papermill": {
     "duration": 0.053977,
     "end_time": "2022-07-17T10:09:52.992879",
     "exception": false,
     "start_time": "2022-07-17T10:09:52.938902",
     "status": "completed"
    },
    "tags": []
   },
   "outputs": [],
   "source": [
    "import mnist"
   ]
  },
  {
   "cell_type": "code",
   "execution_count": 5,
   "id": "a411e44f",
   "metadata": {
    "execution": {
     "iopub.execute_input": "2022-07-17T10:09:53.065816Z",
     "iopub.status.busy": "2022-07-17T10:09:53.060439Z",
     "iopub.status.idle": "2022-07-17T10:09:53.638358Z",
     "shell.execute_reply": "2022-07-17T10:09:53.637628Z"
    },
    "papermill": {
     "duration": 0.61266,
     "end_time": "2022-07-17T10:09:53.638531",
     "exception": false,
     "start_time": "2022-07-17T10:09:53.025871",
     "status": "completed"
    },
    "tags": []
   },
   "outputs": [],
   "source": [
    "train_images = mnist.train_images()\n",
    "train_labels = mnist.train_labels()"
   ]
  },
  {
   "cell_type": "code",
   "execution_count": 6,
   "id": "dceab3a5",
   "metadata": {
    "execution": {
     "iopub.execute_input": "2022-07-17T10:09:53.709087Z",
     "iopub.status.busy": "2022-07-17T10:09:53.708330Z",
     "iopub.status.idle": "2022-07-17T10:09:53.723513Z",
     "shell.execute_reply": "2022-07-17T10:09:53.724245Z"
    },
    "papermill": {
     "duration": 0.055015,
     "end_time": "2022-07-17T10:09:53.724430",
     "exception": false,
     "start_time": "2022-07-17T10:09:53.669415",
     "status": "completed"
    },
    "tags": []
   },
   "outputs": [
    {
     "data": {
      "text/plain": [
       "((60000, 28, 28), (60000,))"
      ]
     },
     "execution_count": 6,
     "metadata": {},
     "output_type": "execute_result"
    }
   ],
   "source": [
    "train_images.shape, train_labels.shape"
   ]
  },
  {
   "cell_type": "code",
   "execution_count": 7,
   "id": "f50dc2bb",
   "metadata": {
    "execution": {
     "iopub.execute_input": "2022-07-17T10:09:53.793606Z",
     "iopub.status.busy": "2022-07-17T10:09:53.792928Z",
     "iopub.status.idle": "2022-07-17T10:09:53.941293Z",
     "shell.execute_reply": "2022-07-17T10:09:53.940559Z"
    },
    "papermill": {
     "duration": 0.183154,
     "end_time": "2022-07-17T10:09:53.941444",
     "exception": false,
     "start_time": "2022-07-17T10:09:53.758290",
     "status": "completed"
    },
    "tags": []
   },
   "outputs": [],
   "source": [
    "test_images = mnist.test_images()\n",
    "test_labels = mnist.test_labels()"
   ]
  },
  {
   "cell_type": "code",
   "execution_count": 8,
   "id": "fc38cf1b",
   "metadata": {
    "execution": {
     "iopub.execute_input": "2022-07-17T10:09:54.021615Z",
     "iopub.status.busy": "2022-07-17T10:09:54.020756Z",
     "iopub.status.idle": "2022-07-17T10:09:54.040367Z",
     "shell.execute_reply": "2022-07-17T10:09:54.038922Z"
    },
    "papermill": {
     "duration": 0.061021,
     "end_time": "2022-07-17T10:09:54.040741",
     "exception": false,
     "start_time": "2022-07-17T10:09:53.979720",
     "status": "completed"
    },
    "tags": []
   },
   "outputs": [
    {
     "data": {
      "text/plain": [
       "((10000, 28, 28), (10000,))"
      ]
     },
     "execution_count": 8,
     "metadata": {},
     "output_type": "execute_result"
    }
   ],
   "source": [
    "test_images.shape, test_labels.shape"
   ]
  },
  {
   "cell_type": "code",
   "execution_count": 9,
   "id": "f9ed8fe0",
   "metadata": {
    "execution": {
     "iopub.execute_input": "2022-07-17T10:09:54.111632Z",
     "iopub.status.busy": "2022-07-17T10:09:54.110694Z",
     "iopub.status.idle": "2022-07-17T10:09:54.297573Z",
     "shell.execute_reply": "2022-07-17T10:09:54.298111Z"
    },
    "papermill": {
     "duration": 0.221524,
     "end_time": "2022-07-17T10:09:54.298257",
     "exception": false,
     "start_time": "2022-07-17T10:09:54.076733",
     "status": "completed"
    },
    "tags": []
   },
   "outputs": [
    {
     "name": "stdout",
     "output_type": "stream",
     "text": [
      "2\n"
     ]
    },
    {
     "data": {
      "text/plain": [
       "<matplotlib.image.AxesImage at 0x7f27a6e124e0>"
      ]
     },
     "execution_count": 9,
     "metadata": {},
     "output_type": "execute_result"
    },
    {
     "data": {
      "image/png": "[encoded data removed]",
      "text/plain": [
       "<Figure size 432x288 with 1 Axes>"
      ]
     },
     "metadata": {
      "needs_background": "light"
     },
     "output_type": "display_data"
    }
   ],
   "source": [
    "image_index = 7776 # You may select anything up to 60,000\n",
    "print(train_labels[image_index]) \n",
    "plt.imshow(train_images[image_index], cmap='Greys')"
   ]
  },
  {
   "cell_type": "markdown",
   "id": "a8d2388d",
   "metadata": {
    "papermill": {
     "duration": 0.030494,
     "end_time": "2022-07-17T10:09:54.360034",
     "exception": false,
     "start_time": "2022-07-17T10:09:54.329540",
     "status": "completed"
    },
    "tags": []
   },
   "source": [
    "## Filter data to get 3 and 8 out"
   ]
  },
  {
   "cell_type": "code",
   "execution_count": 10,
   "id": "776f7fc7",
   "metadata": {
    "execution": {
     "iopub.execute_input": "2022-07-17T10:09:54.426851Z",
     "iopub.status.busy": "2022-07-17T10:09:54.426103Z",
     "iopub.status.idle": "2022-07-17T10:09:54.447661Z",
     "shell.execute_reply": "2022-07-17T10:09:54.447125Z"
    },
    "papermill": {
     "duration": 0.058557,
     "end_time": "2022-07-17T10:09:54.447819",
     "exception": false,
     "start_time": "2022-07-17T10:09:54.389262",
     "status": "completed"
    },
    "tags": []
   },
   "outputs": [],
   "source": [
    "train_filter = np.where((train_labels == 3 ) | (train_labels == 8))\n",
    "test_filter = np.where((test_labels == 3) | (test_labels == 8))\n",
    "X_train, y_train = train_images[train_filter], train_labels[train_filter]\n",
    "X_test, y_test = test_images[test_filter], test_labels[test_filter]"
   ]
  },
  {
   "cell_type": "markdown",
   "id": "948f0b7e",
   "metadata": {
    "papermill": {
     "duration": 0.031129,
     "end_time": "2022-07-17T10:09:54.510754",
     "exception": false,
     "start_time": "2022-07-17T10:09:54.479625",
     "status": "completed"
    },
    "tags": []
   },
   "source": [
    "We normalize the pizel values in the 0 to 1 range"
   ]
  },
  {
   "cell_type": "code",
   "execution_count": 11,
   "id": "ee4c2166",
   "metadata": {
    "execution": {
     "iopub.execute_input": "2022-07-17T10:09:54.575294Z",
     "iopub.status.busy": "2022-07-17T10:09:54.574546Z",
     "iopub.status.idle": "2022-07-17T10:09:54.635010Z",
     "shell.execute_reply": "2022-07-17T10:09:54.634449Z"
    },
    "papermill": {
     "duration": 0.092294,
     "end_time": "2022-07-17T10:09:54.635139",
     "exception": false,
     "start_time": "2022-07-17T10:09:54.542845",
     "status": "completed"
    },
    "tags": []
   },
   "outputs": [],
   "source": [
    "X_train = X_train/255.\n",
    "X_test = X_test/255."
   ]
  },
  {
   "cell_type": "markdown",
   "id": "ddcf4fab",
   "metadata": {
    "papermill": {
     "duration": 0.02946,
     "end_time": "2022-07-17T10:09:54.699963",
     "exception": false,
     "start_time": "2022-07-17T10:09:54.670503",
     "status": "completed"
    },
    "tags": []
   },
   "source": [
    "And setup the labels as 1 (when the digit is 3) and 0 (when the digit is 8)"
   ]
  },
  {
   "cell_type": "code",
   "execution_count": 12,
   "id": "7dc908f2",
   "metadata": {
    "execution": {
     "iopub.execute_input": "2022-07-17T10:09:54.765987Z",
     "iopub.status.busy": "2022-07-17T10:09:54.765148Z",
     "iopub.status.idle": "2022-07-17T10:09:54.779046Z",
     "shell.execute_reply": "2022-07-17T10:09:54.779645Z"
    },
    "papermill": {
     "duration": 0.049795,
     "end_time": "2022-07-17T10:09:54.779769",
     "exception": false,
     "start_time": "2022-07-17T10:09:54.729974",
     "status": "completed"
    },
    "tags": []
   },
   "outputs": [],
   "source": [
    "y_train = 1*(y_train==3)\n",
    "y_test = 1*(y_test==3)"
   ]
  },
  {
   "cell_type": "code",
   "execution_count": 13,
   "id": "01e4e969",
   "metadata": {
    "execution": {
     "iopub.execute_input": "2022-07-17T10:09:54.846690Z",
     "iopub.status.busy": "2022-07-17T10:09:54.846021Z",
     "iopub.status.idle": "2022-07-17T10:09:54.859199Z",
     "shell.execute_reply": "2022-07-17T10:09:54.860114Z"
    },
    "papermill": {
     "duration": 0.05102,
     "end_time": "2022-07-17T10:09:54.860255",
     "exception": false,
     "start_time": "2022-07-17T10:09:54.809235",
     "status": "completed"
    },
    "tags": []
   },
   "outputs": [
    {
     "data": {
      "text/plain": [
       "((11982, 28, 28), (1984, 28, 28))"
      ]
     },
     "execution_count": 13,
     "metadata": {},
     "output_type": "execute_result"
    }
   ],
   "source": [
    "X_train.shape, X_test.shape"
   ]
  },
  {
   "cell_type": "markdown",
   "id": "5ccf3f85",
   "metadata": {
    "papermill": {
     "duration": 0.032163,
     "end_time": "2022-07-17T10:09:54.922704",
     "exception": false,
     "start_time": "2022-07-17T10:09:54.890541",
     "status": "completed"
    },
    "tags": []
   },
   "source": [
    "We reshape the data to flatten the image pixels into a set of features or co-variates:"
   ]
  },
  {
   "cell_type": "code",
   "execution_count": 14,
   "id": "5286a4a3",
   "metadata": {
    "execution": {
     "iopub.execute_input": "2022-07-17T10:09:54.991387Z",
     "iopub.status.busy": "2022-07-17T10:09:54.990625Z",
     "iopub.status.idle": "2022-07-17T10:09:55.009216Z",
     "shell.execute_reply": "2022-07-17T10:09:55.009766Z"
    },
    "papermill": {
     "duration": 0.057553,
     "end_time": "2022-07-17T10:09:55.009913",
     "exception": false,
     "start_time": "2022-07-17T10:09:54.952360",
     "status": "completed"
    },
    "tags": []
   },
   "outputs": [
    {
     "data": {
      "text/plain": [
       "((11982, 784), (1984, 784))"
      ]
     },
     "execution_count": 14,
     "metadata": {},
     "output_type": "execute_result"
    }
   ],
   "source": [
    "X_train = X_train.reshape(X_train.shape[0], -1)\n",
    "X_test = X_test.reshape(X_test.shape[0], -1)\n",
    "X_train.shape, X_test.shape"
   ]
  },
  {
   "cell_type": "code",
   "execution_count": 15,
   "id": "73c5f88a",
   "metadata": {
    "execution": {
     "iopub.execute_input": "2022-07-17T10:09:55.084238Z",
     "iopub.status.busy": "2022-07-17T10:09:55.083246Z",
     "iopub.status.idle": "2022-07-17T10:09:55.106956Z",
     "shell.execute_reply": "2022-07-17T10:09:55.106359Z"
    },
    "papermill": {
     "duration": 0.06366,
     "end_time": "2022-07-17T10:09:55.107064",
     "exception": false,
     "start_time": "2022-07-17T10:09:55.043404",
     "status": "completed"
    },
    "tags": []
   },
   "outputs": [],
   "source": [
    "#Impoting functions from 'Kudzu'\n",
    "from kudzu.model import Model\n",
    "from kudzu.train import Learner\n",
    "from kudzu.optim import GD\n",
    "from kudzu.data import Data, Sampler,Dataloader\n",
    "\n",
    "from kudzu.callbacks import AccCallback\n",
    "from kudzu.callbacks import ClfCallback\n",
    "\n",
    "from kudzu.loss import MSE\n",
    "\n",
    "from kudzu.layer import Sigmoid,Relu\n",
    "from kudzu.layer import Affine"
   ]
  },
  {
   "cell_type": "markdown",
   "id": "bc01172a",
   "metadata": {
    "papermill": {
     "duration": 0.032434,
     "end_time": "2022-07-17T10:09:55.170007",
     "exception": false,
     "start_time": "2022-07-17T10:09:55.137573",
     "status": "completed"
    },
    "tags": []
   },
   "source": [
    "### Let us create a `Config` class, to store important parameters. \n",
    "This class essentially plays the role of a dictionary."
   ]
  },
  {
   "cell_type": "code",
   "execution_count": 16,
   "id": "978281aa",
   "metadata": {
    "execution": {
     "iopub.execute_input": "2022-07-17T10:09:55.236892Z",
     "iopub.status.busy": "2022-07-17T10:09:55.236047Z",
     "iopub.status.idle": "2022-07-17T10:09:55.251198Z",
     "shell.execute_reply": "2022-07-17T10:09:55.250642Z"
    },
    "papermill": {
     "duration": 0.050386,
     "end_time": "2022-07-17T10:09:55.251313",
     "exception": false,
     "start_time": "2022-07-17T10:09:55.200927",
     "status": "completed"
    },
    "tags": []
   },
   "outputs": [],
   "source": [
    "class Config:\n",
    "    pass\n",
    "config = Config()\n",
    "config.lr = 0.001\n",
    "config.num_epochs = 250\n",
    "config.bs = 50"
   ]
  },
  {
   "cell_type": "markdown",
   "id": "1385fa59",
   "metadata": {
    "papermill": {
     "duration": 0.031919,
     "end_time": "2022-07-17T10:09:55.314343",
     "exception": false,
     "start_time": "2022-07-17T10:09:55.282424",
     "status": "completed"
    },
    "tags": []
   },
   "source": [
    "### Running Models with the Training data\n",
    "Details about the network layers:\n",
    "- A first affine layer has 784 inputs and does 100 affine transforms. These are followed by a Relu\n",
    "- A second affine layer has 100 inputs from the 100 activations of the past layer, and does 100 affine transforms. These are followed by a Relu\n",
    "- A third affine layer has 100 activations and does 2 affine transformations to create an embedding for visualization. There is no non-linearity here.\n",
    "- A final \"logistic regression\" which has an affine transform from 2 inputs to 1 output, which is squeezed through a sigmoid.\n"
   ]
  },
  {
   "cell_type": "code",
   "execution_count": 17,
   "id": "2b9c66db",
   "metadata": {
    "execution": {
     "iopub.execute_input": "2022-07-17T10:09:55.381134Z",
     "iopub.status.busy": "2022-07-17T10:09:55.380404Z",
     "iopub.status.idle": "2022-07-17T10:09:55.395301Z",
     "shell.execute_reply": "2022-07-17T10:09:55.394660Z"
    },
    "papermill": {
     "duration": 0.048992,
     "end_time": "2022-07-17T10:09:55.395454",
     "exception": false,
     "start_time": "2022-07-17T10:09:55.346462",
     "status": "completed"
    },
    "tags": []
   },
   "outputs": [],
   "source": [
    "data = Data(X_train, y_train.reshape(-1,1))\n",
    "sampler = Sampler(data, config.bs, shuffle=True)\n",
    "\n",
    "dl = Dataloader(data, sampler)\n",
    "\n",
    "opt = GD(config.lr)\n",
    "loss = MSE()"
   ]
  },
  {
   "cell_type": "code",
   "execution_count": 18,
   "id": "b275e4c2",
   "metadata": {
    "execution": {
     "iopub.execute_input": "2022-07-17T10:09:55.464665Z",
     "iopub.status.busy": "2022-07-17T10:09:55.463967Z",
     "iopub.status.idle": "2022-07-17T10:09:55.475281Z",
     "shell.execute_reply": "2022-07-17T10:09:55.475833Z"
    },
    "papermill": {
     "duration": 0.049731,
     "end_time": "2022-07-17T10:09:55.476070",
     "exception": false,
     "start_time": "2022-07-17T10:09:55.426339",
     "status": "completed"
    },
    "tags": []
   },
   "outputs": [],
   "source": [
    "training_data_x = X_train\n",
    "testing_data_x = X_test\n",
    "training_data_y = y_train.reshape(-1,1)\n",
    "testing_data_y = y_test.reshape(-1,1)"
   ]
  },
  {
   "cell_type": "code",
   "execution_count": 19,
   "id": "76951160",
   "metadata": {
    "execution": {
     "iopub.execute_input": "2022-07-17T10:09:55.550103Z",
     "iopub.status.busy": "2022-07-17T10:09:55.549383Z",
     "iopub.status.idle": "2022-07-17T10:09:55.565270Z",
     "shell.execute_reply": "2022-07-17T10:09:55.564553Z"
    },
    "papermill": {
     "duration": 0.056608,
     "end_time": "2022-07-17T10:09:55.565419",
     "exception": false,
     "start_time": "2022-07-17T10:09:55.508811",
     "status": "completed"
    },
    "tags": []
   },
   "outputs": [
    {
     "name": "stdout",
     "output_type": "stream",
     "text": [
      "xavier\n",
      "xavier\n",
      "xavier\n",
      "xavier\n",
      "xavier\n"
     ]
    }
   ],
   "source": [
    "layers = [Affine(\"first\", 784, 100), Relu(\"first\"), Affine(\"second\", 100, 100), Relu(\"second\"), Affine(\"third\", 100, 2), Affine(\"last\", 2, 1), Sigmoid(\"last\")]\n",
    "model_nn = Model(layers)\n",
    "model_lr = Model([Affine(\"logits\", 784, 1), Sigmoid(\"sigmoid\")])"
   ]
  },
  {
   "cell_type": "code",
   "execution_count": 20,
   "id": "6eede77a",
   "metadata": {
    "execution": {
     "iopub.execute_input": "2022-07-17T10:09:55.635211Z",
     "iopub.status.busy": "2022-07-17T10:09:55.634499Z",
     "iopub.status.idle": "2022-07-17T10:09:55.647000Z",
     "shell.execute_reply": "2022-07-17T10:09:55.647436Z"
    },
    "papermill": {
     "duration": 0.048764,
     "end_time": "2022-07-17T10:09:55.647550",
     "exception": false,
     "start_time": "2022-07-17T10:09:55.598786",
     "status": "completed"
    },
    "tags": []
   },
   "outputs": [],
   "source": [
    "nn_learner = Learner(loss, model_nn, opt, config.num_epochs)\n",
    "acc_nn = ClfCallback(nn_learner, config.bs, training_data_x , testing_data_x, training_data_y, testing_data_y)\n",
    "nn_learner.set_callbacks([acc_nn])"
   ]
  },
  {
   "cell_type": "code",
   "execution_count": 21,
   "id": "877b6cc7",
   "metadata": {
    "execution": {
     "iopub.execute_input": "2022-07-17T10:09:55.714012Z",
     "iopub.status.busy": "2022-07-17T10:09:55.713358Z",
     "iopub.status.idle": "2022-07-17T10:09:55.727679Z",
     "shell.execute_reply": "2022-07-17T10:09:55.726974Z"
    },
    "papermill": {
     "duration": 0.048543,
     "end_time": "2022-07-17T10:09:55.727839",
     "exception": false,
     "start_time": "2022-07-17T10:09:55.679296",
     "status": "completed"
    },
    "tags": []
   },
   "outputs": [],
   "source": [
    "lr_learner = Learner(loss, model_lr, opt, config.num_epochs)\n",
    "acc_lr = ClfCallback(lr_learner, config.bs, training_data_x , testing_data_x, training_data_y, testing_data_y)\n",
    "lr_learner.set_callbacks([acc_lr])"
   ]
  },
  {
   "cell_type": "code",
   "execution_count": 22,
   "id": "d9b133c3",
   "metadata": {
    "execution": {
     "iopub.execute_input": "2022-07-17T10:09:55.797766Z",
     "iopub.status.busy": "2022-07-17T10:09:55.797096Z",
     "iopub.status.idle": "2022-07-17T10:12:19.590218Z",
     "shell.execute_reply": "2022-07-17T10:12:19.591380Z"
    },
    "papermill": {
     "duration": 143.831614,
     "end_time": "2022-07-17T10:12:19.591670",
     "exception": false,
     "start_time": "2022-07-17T10:09:55.760056",
     "status": "completed"
    },
    "tags": []
   },
   "outputs": [
    {
     "name": "stdout",
     "output_type": "stream",
     "text": [
      "Epoch 0, Loss 0.2423\n",
      "Training Accuracy: 0.6622, Testing Accuracy: 0.6920\n",
      "\n"
     ]
    },
    {
     "name": "stdout",
     "output_type": "stream",
     "text": [
      "Epoch 10, Loss 0.1169\n",
      "Training Accuracy: 0.9099, Testing Accuracy: 0.9214\n",
      "\n"
     ]
    },
    {
     "name": "stdout",
     "output_type": "stream",
     "text": [
      "Epoch 20, Loss 0.0652\n",
      "Training Accuracy: 0.9344, Testing Accuracy: 0.9441\n",
      "\n"
     ]
    },
    {
     "name": "stdout",
     "output_type": "stream",
     "text": [
      "Epoch 30, Loss 0.0493\n",
      "Training Accuracy: 0.9459, Testing Accuracy: 0.9556\n",
      "\n"
     ]
    },
    {
     "name": "stdout",
     "output_type": "stream",
     "text": [
      "Epoch 40, Loss 0.0418\n",
      "Training Accuracy: 0.9528, Testing Accuracy: 0.9607\n",
      "\n"
     ]
    },
    {
     "name": "stdout",
     "output_type": "stream",
     "text": [
      "Epoch 50, Loss 0.0374\n",
      "Training Accuracy: 0.9568, Testing Accuracy: 0.9622\n",
      "\n"
     ]
    },
    {
     "name": "stdout",
     "output_type": "stream",
     "text": [
      "Epoch 60, Loss 0.0345\n",
      "Training Accuracy: 0.9603, Testing Accuracy: 0.9667\n",
      "\n"
     ]
    },
    {
     "name": "stdout",
     "output_type": "stream",
     "text": [
      "Epoch 70, Loss 0.0323\n",
      "Training Accuracy: 0.9624, Testing Accuracy: 0.9667\n",
      "\n"
     ]
    },
    {
     "name": "stdout",
     "output_type": "stream",
     "text": [
      "Epoch 80, Loss 0.0306\n",
      "Training Accuracy: 0.9639, Testing Accuracy: 0.9682\n",
      "\n"
     ]
    },
    {
     "name": "stdout",
     "output_type": "stream",
     "text": [
      "Epoch 90, Loss 0.0292\n",
      "Training Accuracy: 0.9656, Testing Accuracy: 0.9703\n",
      "\n"
     ]
    },
    {
     "name": "stdout",
     "output_type": "stream",
     "text": [
      "Epoch 100, Loss 0.0281\n",
      "Training Accuracy: 0.9672, Testing Accuracy: 0.9703\n",
      "\n"
     ]
    },
    {
     "name": "stdout",
     "output_type": "stream",
     "text": [
      "Epoch 110, Loss 0.0271\n",
      "Training Accuracy: 0.9683, Testing Accuracy: 0.9703\n",
      "\n"
     ]
    },
    {
     "name": "stdout",
     "output_type": "stream",
     "text": [
      "Epoch 120, Loss 0.0263\n",
      "Training Accuracy: 0.9695, Testing Accuracy: 0.9723\n",
      "\n"
     ]
    },
    {
     "name": "stdout",
     "output_type": "stream",
     "text": [
      "Epoch 130, Loss 0.0255\n",
      "Training Accuracy: 0.9697, Testing Accuracy: 0.9708\n",
      "\n"
     ]
    },
    {
     "name": "stdout",
     "output_type": "stream",
     "text": [
      "Epoch 140, Loss 0.0248\n",
      "Training Accuracy: 0.9706, Testing Accuracy: 0.9708\n",
      "\n"
     ]
    },
    {
     "name": "stdout",
     "output_type": "stream",
     "text": [
      "Epoch 150, Loss 0.0242\n",
      "Training Accuracy: 0.9713, Testing Accuracy: 0.9718\n",
      "\n"
     ]
    },
    {
     "name": "stdout",
     "output_type": "stream",
     "text": [
      "Epoch 160, Loss 0.0236\n",
      "Training Accuracy: 0.9721, Testing Accuracy: 0.9723\n",
      "\n"
     ]
    },
    {
     "name": "stdout",
     "output_type": "stream",
     "text": [
      "Epoch 170, Loss 0.0231\n",
      "Training Accuracy: 0.9730, Testing Accuracy: 0.9728\n",
      "\n"
     ]
    },
    {
     "name": "stdout",
     "output_type": "stream",
     "text": [
      "Epoch 180, Loss 0.0226\n",
      "Training Accuracy: 0.9739, Testing Accuracy: 0.9733\n",
      "\n"
     ]
    },
    {
     "name": "stdout",
     "output_type": "stream",
     "text": [
      "Epoch 190, Loss 0.0221\n",
      "Training Accuracy: 0.9744, Testing Accuracy: 0.9733\n",
      "\n"
     ]
    },
    {
     "name": "stdout",
     "output_type": "stream",
     "text": [
      "Epoch 200, Loss 0.0217\n",
      "Training Accuracy: 0.9750, Testing Accuracy: 0.9733\n",
      "\n"
     ]
    },
    {
     "name": "stdout",
     "output_type": "stream",
     "text": [
      "Epoch 210, Loss 0.0213\n",
      "Training Accuracy: 0.9758, Testing Accuracy: 0.9728\n",
      "\n"
     ]
    },
    {
     "name": "stdout",
     "output_type": "stream",
     "text": [
      "Epoch 220, Loss 0.0209\n",
      "Training Accuracy: 0.9760, Testing Accuracy: 0.9728\n",
      "\n"
     ]
    },
    {
     "name": "stdout",
     "output_type": "stream",
     "text": [
      "Epoch 230, Loss 0.0205\n",
      "Training Accuracy: 0.9770, Testing Accuracy: 0.9728\n",
      "\n"
     ]
    },
    {
     "name": "stdout",
     "output_type": "stream",
     "text": [
      "Epoch 240, Loss 0.0202\n",
      "Training Accuracy: 0.9779, Testing Accuracy: 0.9728\n",
      "\n"
     ]
    },
    {
     "data": {
      "text/plain": [
       "0.010593870843947069"
      ]
     },
     "execution_count": 22,
     "metadata": {},
     "output_type": "execute_result"
    }
   ],
   "source": [
    "nn_learner.train_loop(dl)"
   ]
  },
  {
   "cell_type": "code",
   "execution_count": 23,
   "id": "e0163366",
   "metadata": {
    "execution": {
     "iopub.execute_input": "2022-07-17T10:12:19.691373Z",
     "iopub.status.busy": "2022-07-17T10:12:19.690397Z",
     "iopub.status.idle": "2022-07-17T10:12:39.094934Z",
     "shell.execute_reply": "2022-07-17T10:12:39.095902Z"
    },
    "papermill": {
     "duration": 19.460434,
     "end_time": "2022-07-17T10:12:39.096070",
     "exception": false,
     "start_time": "2022-07-17T10:12:19.635636",
     "status": "completed"
    },
    "tags": []
   },
   "outputs": [
    {
     "name": "stdout",
     "output_type": "stream",
     "text": [
      "Epoch 0, Loss 0.2615\n",
      "Training Accuracy: 0.6267, Testing Accuracy: 0.6522\n",
      "\n"
     ]
    },
    {
     "name": "stdout",
     "output_type": "stream",
     "text": [
      "Epoch 10, Loss 0.1018\n",
      "Training Accuracy: 0.9146, Testing Accuracy: 0.9309\n",
      "\n"
     ]
    },
    {
     "name": "stdout",
     "output_type": "stream",
     "text": [
      "Epoch 20, Loss 0.0788\n",
      "Training Accuracy: 0.9272, Testing Accuracy: 0.9441\n",
      "\n"
     ]
    },
    {
     "name": "stdout",
     "output_type": "stream",
     "text": [
      "Epoch 30, Loss 0.0683\n",
      "Training Accuracy: 0.9362, Testing Accuracy: 0.9516\n",
      "\n"
     ]
    },
    {
     "name": "stdout",
     "output_type": "stream",
     "text": [
      "Epoch 40, Loss 0.0619\n",
      "Training Accuracy: 0.9412, Testing Accuracy: 0.9551\n",
      "\n"
     ]
    },
    {
     "name": "stdout",
     "output_type": "stream",
     "text": [
      "Epoch 50, Loss 0.0575\n",
      "Training Accuracy: 0.9445, Testing Accuracy: 0.9567\n",
      "\n"
     ]
    },
    {
     "name": "stdout",
     "output_type": "stream",
     "text": [
      "Epoch 60, Loss 0.0543\n",
      "Training Accuracy: 0.9468, Testing Accuracy: 0.9582\n",
      "\n"
     ]
    },
    {
     "name": "stdout",
     "output_type": "stream",
     "text": [
      "Epoch 70, Loss 0.0517\n",
      "Training Accuracy: 0.9487, Testing Accuracy: 0.9597\n",
      "\n"
     ]
    },
    {
     "name": "stdout",
     "output_type": "stream",
     "text": [
      "Epoch 80, Loss 0.0497\n",
      "Training Accuracy: 0.9497, Testing Accuracy: 0.9617\n",
      "\n"
     ]
    },
    {
     "name": "stdout",
     "output_type": "stream",
     "text": [
      "Epoch 90, Loss 0.048\n",
      "Training Accuracy: 0.9518, Testing Accuracy: 0.9622\n",
      "\n"
     ]
    },
    {
     "name": "stdout",
     "output_type": "stream",
     "text": [
      "Epoch 100, Loss 0.0465\n",
      "Training Accuracy: 0.9529, Testing Accuracy: 0.9642\n",
      "\n"
     ]
    },
    {
     "name": "stdout",
     "output_type": "stream",
     "text": [
      "Epoch 110, Loss 0.0453\n",
      "Training Accuracy: 0.9539, Testing Accuracy: 0.9642\n",
      "\n"
     ]
    },
    {
     "name": "stdout",
     "output_type": "stream",
     "text": [
      "Epoch 120, Loss 0.0442\n",
      "Training Accuracy: 0.9545, Testing Accuracy: 0.9652\n",
      "\n"
     ]
    },
    {
     "name": "stdout",
     "output_type": "stream",
     "text": [
      "Epoch 130, Loss 0.0433\n",
      "Training Accuracy: 0.9552, Testing Accuracy: 0.9652\n",
      "\n"
     ]
    },
    {
     "name": "stdout",
     "output_type": "stream",
     "text": [
      "Epoch 140, Loss 0.0424\n",
      "Training Accuracy: 0.9557, Testing Accuracy: 0.9652\n",
      "\n"
     ]
    },
    {
     "name": "stdout",
     "output_type": "stream",
     "text": [
      "Epoch 150, Loss 0.0417\n",
      "Training Accuracy: 0.9559, Testing Accuracy: 0.9657\n",
      "\n"
     ]
    },
    {
     "name": "stdout",
     "output_type": "stream",
     "text": [
      "Epoch 160, Loss 0.041\n",
      "Training Accuracy: 0.9564, Testing Accuracy: 0.9662\n",
      "\n"
     ]
    },
    {
     "name": "stdout",
     "output_type": "stream",
     "text": [
      "Epoch 170, Loss 0.0404\n",
      "Training Accuracy: 0.9570, Testing Accuracy: 0.9667\n",
      "\n"
     ]
    },
    {
     "name": "stdout",
     "output_type": "stream",
     "text": [
      "Epoch 180, Loss 0.0398\n",
      "Training Accuracy: 0.9572, Testing Accuracy: 0.9667\n",
      "\n"
     ]
    },
    {
     "name": "stdout",
     "output_type": "stream",
     "text": [
      "Epoch 190, Loss 0.0393\n",
      "Training Accuracy: 0.9578, Testing Accuracy: 0.9672\n",
      "\n"
     ]
    },
    {
     "name": "stdout",
     "output_type": "stream",
     "text": [
      "Epoch 200, Loss 0.0388\n",
      "Training Accuracy: 0.9582, Testing Accuracy: 0.9667\n",
      "\n"
     ]
    },
    {
     "name": "stdout",
     "output_type": "stream",
     "text": [
      "Epoch 210, Loss 0.0383\n",
      "Training Accuracy: 0.9584, Testing Accuracy: 0.9677\n",
      "\n"
     ]
    },
    {
     "name": "stdout",
     "output_type": "stream",
     "text": [
      "Epoch 220, Loss 0.0379\n",
      "Training Accuracy: 0.9589, Testing Accuracy: 0.9672\n",
      "\n"
     ]
    },
    {
     "name": "stdout",
     "output_type": "stream",
     "text": [
      "Epoch 230, Loss 0.0375\n",
      "Training Accuracy: 0.9589, Testing Accuracy: 0.9672\n",
      "\n"
     ]
    },
    {
     "name": "stdout",
     "output_type": "stream",
     "text": [
      "Epoch 240, Loss 0.0372\n",
      "Training Accuracy: 0.9591, Testing Accuracy: 0.9677\n",
      "\n"
     ]
    },
    {
     "data": {
      "text/plain": [
       "0.03644468741413644"
      ]
     },
     "execution_count": 23,
     "metadata": {},
     "output_type": "execute_result"
    }
   ],
   "source": [
    "lr_learner.train_loop(dl)"
   ]
  },
  {
   "cell_type": "code",
   "execution_count": 24,
   "id": "ca410940",
   "metadata": {
    "execution": {
     "iopub.execute_input": "2022-07-17T10:12:39.209445Z",
     "iopub.status.busy": "2022-07-17T10:12:39.208664Z",
     "iopub.status.idle": "2022-07-17T10:12:39.536931Z",
     "shell.execute_reply": "2022-07-17T10:12:39.537505Z"
    },
    "papermill": {
     "duration": 0.387688,
     "end_time": "2022-07-17T10:12:39.537827",
     "exception": false,
     "start_time": "2022-07-17T10:12:39.150139",
     "status": "completed"
    },
    "tags": []
   },
   "outputs": [
    {
     "data": {
      "text/plain": [
       "<matplotlib.legend.Legend at 0x7f27a6974b00>"
      ]
     },
     "execution_count": 24,
     "metadata": {},
     "output_type": "execute_result"
    },
    {
     "data": {
      "image/png": "[encoded data removed]",
      "text/plain": [
       "<Figure size 1080x720 with 1 Axes>"
      ]
     },
     "metadata": {
      "needs_background": "light"
     },
     "output_type": "display_data"
    }
   ],
   "source": [
    "#comparing the results of NN and LR\n",
    "plt.figure(figsize=(15,10))\n",
    "\n",
    "# Neural Network plots\n",
    "plt.plot(acc_nn.accuracies, 'r-', label = \"Training Accuracies - NN\")\n",
    "plt.plot(acc_nn.test_accuracies, 'g-', label = \"Testing Accuracies - NN\")\n",
    "\n",
    "# Logistic Regression plots\n",
    "plt.plot(acc_lr.accuracies, 'k-', label = \"Training Accuracies - LR\")\n",
    "plt.plot(acc_lr.test_accuracies, 'b-', label = \"Testing Accuracies - LR\")\n",
    "plt.legend()"
   ]
  },
  {
   "cell_type": "markdown",
   "id": "80dfb35c",
   "metadata": {
    "papermill": {
     "duration": 0.05101,
     "end_time": "2022-07-17T10:12:39.641415",
     "exception": false,
     "start_time": "2022-07-17T10:12:39.590405",
     "status": "completed"
    },
    "tags": []
   },
   "source": [
    "#### Plotting the outputs of this layer of the NN.\n"
   ]
  },
  {
   "cell_type": "code",
   "execution_count": 25,
   "id": "45eb2ff5",
   "metadata": {
    "execution": {
     "iopub.execute_input": "2022-07-17T10:12:39.747024Z",
     "iopub.status.busy": "2022-07-17T10:12:39.746306Z",
     "iopub.status.idle": "2022-07-17T10:12:39.776458Z",
     "shell.execute_reply": "2022-07-17T10:12:39.777060Z"
    },
    "papermill": {
     "duration": 0.085648,
     "end_time": "2022-07-17T10:12:39.777269",
     "exception": false,
     "start_time": "2022-07-17T10:12:39.691621",
     "status": "completed"
    },
    "tags": []
   },
   "outputs": [],
   "source": [
    "new_model = Model(layers[:-2])\n",
    "testing_plot = new_model(testing_data_x)"
   ]
  },
  {
   "cell_type": "code",
   "execution_count": 26,
   "id": "4c0a5485",
   "metadata": {
    "execution": {
     "iopub.execute_input": "2022-07-17T10:12:39.889313Z",
     "iopub.status.busy": "2022-07-17T10:12:39.888428Z",
     "iopub.status.idle": "2022-07-17T10:12:40.200192Z",
     "shell.execute_reply": "2022-07-17T10:12:40.199632Z"
    },
    "papermill": {
     "duration": 0.370545,
     "end_time": "2022-07-17T10:12:40.200331",
     "exception": false,
     "start_time": "2022-07-17T10:12:39.829786",
     "status": "completed"
    },
    "tags": []
   },
   "outputs": [
    {
     "data": {
      "text/plain": [
       "Text(0.5, 1.0, 'Outputs')"
      ]
     },
     "execution_count": 26,
     "metadata": {},
     "output_type": "execute_result"
    },
    {
     "data": {
      "image/png": "[encoded data removed]",
      "text/plain": [
       "<Figure size 576x504 with 1 Axes>"
      ]
     },
     "metadata": {
      "needs_background": "light"
     },
     "output_type": "display_data"
    }
   ],
   "source": [
    "# Plotting the scatter plot of points and color coding by class\n",
    "plt.figure(figsize=(8,7))\n",
    "plt.scatter(testing_plot[:,0], testing_plot[:,1], alpha = 0.1, c = y_test.ravel());\n",
    "plt.title('Outputs')"
   ]
  },
  {
   "cell_type": "markdown",
   "id": "a74fcf8f",
   "metadata": {
    "papermill": {
     "duration": 0.086306,
     "end_time": "2022-07-17T10:12:40.350918",
     "exception": false,
     "start_time": "2022-07-17T10:12:40.264612",
     "status": "completed"
    },
    "tags": []
   },
   "source": [
    "Probability contours"
   ]
  },
  {
   "cell_type": "code",
   "execution_count": 27,
   "id": "d0afc8e3",
   "metadata": {
    "execution": {
     "iopub.execute_input": "2022-07-17T10:12:40.474923Z",
     "iopub.status.busy": "2022-07-17T10:12:40.473999Z",
     "iopub.status.idle": "2022-07-17T10:12:40.486437Z",
     "shell.execute_reply": "2022-07-17T10:12:40.486926Z"
    },
    "papermill": {
     "duration": 0.080474,
     "end_time": "2022-07-17T10:12:40.487055",
     "exception": false,
     "start_time": "2022-07-17T10:12:40.406581",
     "status": "completed"
    },
    "tags": []
   },
   "outputs": [],
   "source": [
    "model_prob = Model(layers[-2:]) "
   ]
  },
  {
   "cell_type": "code",
   "execution_count": 28,
   "id": "9b96e238",
   "metadata": {
    "execution": {
     "iopub.execute_input": "2022-07-17T10:12:40.615339Z",
     "iopub.status.busy": "2022-07-17T10:12:40.614653Z",
     "iopub.status.idle": "2022-07-17T10:12:40.630466Z",
     "shell.execute_reply": "2022-07-17T10:12:40.631094Z"
    },
    "papermill": {
     "duration": 0.08424,
     "end_time": "2022-07-17T10:12:40.631319",
     "exception": false,
     "start_time": "2022-07-17T10:12:40.547079",
     "status": "completed"
    },
    "tags": []
   },
   "outputs": [],
   "source": [
    "#creating the x and y ranges according to the above generated plot.\n",
    "x_range = np.linspace(-4, 1, 100) \n",
    "y_range = np.linspace(-6, 6, 100) \n",
    "x_grid, y_grid = np.meshgrid(x_range, y_range) # x_grid and y_grig are of size 100 X 100\n",
    "\n",
    "# converting x_grid and y_grid to continuous arrays\n",
    "x_gridflat = np.ravel(x_grid)\n",
    "y_gridflat = np.ravel(y_grid)\n",
    "\n",
    "# The last layer of the current model takes two columns as input. Hence transpose of np.vstack() is required.\n",
    "X = np.vstack((x_gridflat, y_gridflat)).T\n",
    "\n",
    "prob_contour = model_prob(X).reshape(100,100) "
   ]
  },
  {
   "cell_type": "code",
   "execution_count": 29,
   "id": "da72499a",
   "metadata": {
    "execution": {
     "iopub.execute_input": "2022-07-17T10:12:40.755257Z",
     "iopub.status.busy": "2022-07-17T10:12:40.754318Z",
     "iopub.status.idle": "2022-07-17T10:12:41.111912Z",
     "shell.execute_reply": "2022-07-17T10:12:41.112417Z"
    },
    "papermill": {
     "duration": 0.423822,
     "end_time": "2022-07-17T10:12:41.112584",
     "exception": false,
     "start_time": "2022-07-17T10:12:40.688762",
     "status": "completed"
    },
    "tags": []
   },
   "outputs": [
    {
     "data": {
      "image/png": "[encoded data removed]",
      "text/plain": [
       "<Figure size 720x648 with 1 Axes>"
      ]
     },
     "metadata": {
      "needs_background": "light"
     },
     "output_type": "display_data"
    }
   ],
   "source": [
    "plt.figure(figsize=(10,9))\n",
    "plt.scatter(testing_plot[:,0], testing_plot[:,1], alpha = 0.1, c = y_test.ravel())\n",
    "contours = plt.contour(x_grid,y_grid,prob_contour)\n",
    "plt.title('Probability Contours')\n",
    "plt.clabel(contours, inline = True );"
   ]
  },
  {
   "cell_type": "code",
   "execution_count": null,
   "id": "e81b4ac7",
   "metadata": {
    "papermill": {
     "duration": 0.069435,
     "end_time": "2022-07-17T10:12:41.241467",
     "exception": false,
     "start_time": "2022-07-17T10:12:41.172032",
     "status": "completed"
    },
    "tags": []
   },
   "outputs": [],
   "source": []
  }
 ],
 "metadata": {
  "kernelspec": {
   "display_name": "Python 3",
   "language": "python",
   "name": "python3"
  },
  "language_info": {
   "codemirror_mode": {
    "name": "ipython",
    "version": 3
   },
   "file_extension": ".py",
   "mimetype": "text/x-python",
   "name": "python",
   "nbconvert_exporter": "python",
   "pygments_lexer": "ipython3",
   "version": "3.6.15"
  },
  "papermill": {
   "default_parameters": {},
   "duration": 173.158736,
   "end_time": "2022-07-17T10:12:41.726153",
   "environment_variables": {},
   "exception": null,
   "input_path": "2020-08-11-part2.ipynb",
   "output_path": "2020-08-11-part2.ipynb",
   "parameters": {},
   "start_time": "2022-07-17T10:09:48.567417",
   "version": "2.3.3"
  }
 },
 "nbformat": 4,
 "nbformat_minor": 5
}