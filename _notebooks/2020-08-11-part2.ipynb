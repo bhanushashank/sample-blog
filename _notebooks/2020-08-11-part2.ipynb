{
 "cells": [
  {
   "cell_type": "markdown",
   "id": "98380cd3",
   "metadata": {
    "papermill": {
     "duration": 0.03346,
     "end_time": "2022-01-28T20:10:20.102897",
     "exception": false,
     "start_time": "2022-01-28T20:10:20.069437",
     "status": "completed"
    },
    "tags": []
   },
   "source": [
    "# Distinguish Your Own Digits (DYOD)"
   ]
  },
  {
   "cell_type": "markdown",
   "id": "ef31240d",
   "metadata": {
    "papermill": {
     "duration": 0.026916,
     "end_time": "2022-01-28T20:10:20.157664",
     "exception": false,
     "start_time": "2022-01-28T20:10:20.130748",
     "status": "completed"
    },
    "tags": []
   },
   "source": [
    "You are going to write a classifier that distinguishes between the number 3 and number 8."
   ]
  },
  {
   "cell_type": "code",
   "execution_count": 1,
   "id": "b15c8646",
   "metadata": {
    "execution": {
     "iopub.execute_input": "2022-01-28T20:10:20.225337Z",
     "iopub.status.busy": "2022-01-28T20:10:20.224712Z",
     "iopub.status.idle": "2022-01-28T20:10:20.236268Z",
     "shell.execute_reply": "2022-01-28T20:10:20.235774Z"
    },
    "papermill": {
     "duration": 0.051961,
     "end_time": "2022-01-28T20:10:20.236418",
     "exception": false,
     "start_time": "2022-01-28T20:10:20.184457",
     "status": "completed"
    },
    "tags": []
   },
   "outputs": [],
   "source": [
    "%load_ext autoreload\n",
    "%autoreload 2"
   ]
  },
  {
   "cell_type": "code",
   "execution_count": 2,
   "id": "22ef38dc",
   "metadata": {
    "execution": {
     "iopub.execute_input": "2022-01-28T20:10:20.295896Z",
     "iopub.status.busy": "2022-01-28T20:10:20.294682Z",
     "iopub.status.idle": "2022-01-28T20:10:20.971799Z",
     "shell.execute_reply": "2022-01-28T20:10:20.970535Z"
    },
    "papermill": {
     "duration": 0.708434,
     "end_time": "2022-01-28T20:10:20.971947",
     "exception": false,
     "start_time": "2022-01-28T20:10:20.263513",
     "status": "completed"
    },
    "tags": []
   },
   "outputs": [],
   "source": [
    "%matplotlib inline\n",
    "import numpy as np\n",
    "import matplotlib.pyplot as plt\n",
    "import pandas as pd"
   ]
  },
  {
   "cell_type": "markdown",
   "id": "ba036198",
   "metadata": {
    "papermill": {
     "duration": 0.026909,
     "end_time": "2022-01-28T20:10:21.026084",
     "exception": false,
     "start_time": "2022-01-28T20:10:20.999175",
     "status": "completed"
    },
    "tags": []
   },
   "source": [
    "From the command line run `pip install mnist`. This is a library that will help you bring down the mnist dataset. If you run this from a notebook, you need to put  `!pip install mnist` in a cell by itself."
   ]
  },
  {
   "cell_type": "code",
   "execution_count": 3,
   "id": "bb6ad8a1",
   "metadata": {
    "execution": {
     "iopub.execute_input": "2022-01-28T20:10:21.086687Z",
     "iopub.status.busy": "2022-01-28T20:10:21.084903Z",
     "iopub.status.idle": "2022-01-28T20:10:23.780466Z",
     "shell.execute_reply": "2022-01-28T20:10:23.781017Z"
    },
    "papermill": {
     "duration": 2.72826,
     "end_time": "2022-01-28T20:10:23.781197",
     "exception": false,
     "start_time": "2022-01-28T20:10:21.052937",
     "status": "completed"
    },
    "tags": []
   },
   "outputs": [
    {
     "name": "stdout",
     "output_type": "stream",
     "text": [
      "Collecting mnist\r\n"
     ]
    },
    {
     "name": "stdout",
     "output_type": "stream",
     "text": [
      "  Downloading mnist-0.2.2-py2.py3-none-any.whl (3.5 kB)\r\n",
      "Requirement already satisfied: numpy in /opt/hostedtoolcache/Python/3.6.15/x64/lib/python3.6/site-packages (from mnist) (1.19.5)\r\n"
     ]
    },
    {
     "name": "stdout",
     "output_type": "stream",
     "text": [
      "Installing collected packages: mnist\r\n"
     ]
    },
    {
     "name": "stdout",
     "output_type": "stream",
     "text": [
      "Successfully installed mnist-0.2.2\r\n"
     ]
    }
   ],
   "source": [
    "!pip install mnist"
   ]
  },
  {
   "cell_type": "markdown",
   "id": "69df9c9a",
   "metadata": {
    "papermill": {
     "duration": 0.028369,
     "end_time": "2022-01-28T20:10:23.838299",
     "exception": false,
     "start_time": "2022-01-28T20:10:23.809930",
     "status": "completed"
    },
    "tags": []
   },
   "source": [
    "## Preparing the Data"
   ]
  },
  {
   "cell_type": "code",
   "execution_count": 4,
   "id": "7f69d806",
   "metadata": {
    "execution": {
     "iopub.execute_input": "2022-01-28T20:10:23.902182Z",
     "iopub.status.busy": "2022-01-28T20:10:23.900377Z",
     "iopub.status.idle": "2022-01-28T20:10:23.916799Z",
     "shell.execute_reply": "2022-01-28T20:10:23.916251Z"
    },
    "papermill": {
     "duration": 0.049224,
     "end_time": "2022-01-28T20:10:23.916934",
     "exception": false,
     "start_time": "2022-01-28T20:10:23.867710",
     "status": "completed"
    },
    "tags": []
   },
   "outputs": [],
   "source": [
    "import mnist"
   ]
  },
  {
   "cell_type": "code",
   "execution_count": 5,
   "id": "a411e44f",
   "metadata": {
    "execution": {
     "iopub.execute_input": "2022-01-28T20:10:23.980521Z",
     "iopub.status.busy": "2022-01-28T20:10:23.979893Z",
     "iopub.status.idle": "2022-01-28T20:10:24.583718Z",
     "shell.execute_reply": "2022-01-28T20:10:24.584233Z"
    },
    "papermill": {
     "duration": 0.639347,
     "end_time": "2022-01-28T20:10:24.584396",
     "exception": false,
     "start_time": "2022-01-28T20:10:23.945049",
     "status": "completed"
    },
    "tags": []
   },
   "outputs": [],
   "source": [
    "train_images = mnist.train_images()\n",
    "train_labels = mnist.train_labels()"
   ]
  },
  {
   "cell_type": "code",
   "execution_count": 6,
   "id": "dceab3a5",
   "metadata": {
    "execution": {
     "iopub.execute_input": "2022-01-28T20:10:24.645187Z",
     "iopub.status.busy": "2022-01-28T20:10:24.644539Z",
     "iopub.status.idle": "2022-01-28T20:10:24.662561Z",
     "shell.execute_reply": "2022-01-28T20:10:24.663259Z"
    },
    "papermill": {
     "duration": 0.050957,
     "end_time": "2022-01-28T20:10:24.663431",
     "exception": false,
     "start_time": "2022-01-28T20:10:24.612474",
     "status": "completed"
    },
    "tags": []
   },
   "outputs": [
    {
     "data": {
      "text/plain": [
       "((60000, 28, 28), (60000,))"
      ]
     },
     "execution_count": 6,
     "metadata": {},
     "output_type": "execute_result"
    }
   ],
   "source": [
    "train_images.shape, train_labels.shape"
   ]
  },
  {
   "cell_type": "code",
   "execution_count": 7,
   "id": "f50dc2bb",
   "metadata": {
    "execution": {
     "iopub.execute_input": "2022-01-28T20:10:24.724492Z",
     "iopub.status.busy": "2022-01-28T20:10:24.723901Z",
     "iopub.status.idle": "2022-01-28T20:10:24.854220Z",
     "shell.execute_reply": "2022-01-28T20:10:24.853498Z"
    },
    "papermill": {
     "duration": 0.162633,
     "end_time": "2022-01-28T20:10:24.854352",
     "exception": false,
     "start_time": "2022-01-28T20:10:24.691719",
     "status": "completed"
    },
    "tags": []
   },
   "outputs": [],
   "source": [
    "test_images = mnist.test_images()\n",
    "test_labels = mnist.test_labels()"
   ]
  },
  {
   "cell_type": "code",
   "execution_count": 8,
   "id": "fc38cf1b",
   "metadata": {
    "execution": {
     "iopub.execute_input": "2022-01-28T20:10:24.916781Z",
     "iopub.status.busy": "2022-01-28T20:10:24.916155Z",
     "iopub.status.idle": "2022-01-28T20:10:24.930304Z",
     "shell.execute_reply": "2022-01-28T20:10:24.929796Z"
    },
    "papermill": {
     "duration": 0.047635,
     "end_time": "2022-01-28T20:10:24.930433",
     "exception": false,
     "start_time": "2022-01-28T20:10:24.882798",
     "status": "completed"
    },
    "tags": []
   },
   "outputs": [
    {
     "data": {
      "text/plain": [
       "((10000, 28, 28), (10000,))"
      ]
     },
     "execution_count": 8,
     "metadata": {},
     "output_type": "execute_result"
    }
   ],
   "source": [
    "test_images.shape, test_labels.shape"
   ]
  },
  {
   "cell_type": "code",
   "execution_count": 9,
   "id": "f9ed8fe0",
   "metadata": {
    "execution": {
     "iopub.execute_input": "2022-01-28T20:10:24.992157Z",
     "iopub.status.busy": "2022-01-28T20:10:24.991561Z",
     "iopub.status.idle": "2022-01-28T20:10:25.150987Z",
     "shell.execute_reply": "2022-01-28T20:10:25.150492Z"
    },
    "papermill": {
     "duration": 0.192118,
     "end_time": "2022-01-28T20:10:25.151120",
     "exception": false,
     "start_time": "2022-01-28T20:10:24.959002",
     "status": "completed"
    },
    "tags": []
   },
   "outputs": [
    {
     "name": "stdout",
     "output_type": "stream",
     "text": [
      "2\n"
     ]
    },
    {
     "data": {
      "text/plain": [
       "<matplotlib.image.AxesImage at 0x7fd8da1cbc50>"
      ]
     },
     "execution_count": 9,
     "metadata": {},
     "output_type": "execute_result"
    },
    {
     "data": {
      "image/png": "[encoded data removed]",
      "text/plain": [
       "<Figure size 432x288 with 1 Axes>"
      ]
     },
     "metadata": {
      "needs_background": "light"
     },
     "output_type": "display_data"
    }
   ],
   "source": [
    "image_index = 7776 # You may select anything up to 60,000\n",
    "print(train_labels[image_index]) \n",
    "plt.imshow(train_images[image_index], cmap='Greys')"
   ]
  },
  {
   "cell_type": "markdown",
   "id": "a8d2388d",
   "metadata": {
    "papermill": {
     "duration": 0.029745,
     "end_time": "2022-01-28T20:10:25.210958",
     "exception": false,
     "start_time": "2022-01-28T20:10:25.181213",
     "status": "completed"
    },
    "tags": []
   },
   "source": [
    "## Filter data to get 3 and 8 out"
   ]
  },
  {
   "cell_type": "code",
   "execution_count": 10,
   "id": "776f7fc7",
   "metadata": {
    "execution": {
     "iopub.execute_input": "2022-01-28T20:10:25.276364Z",
     "iopub.status.busy": "2022-01-28T20:10:25.275738Z",
     "iopub.status.idle": "2022-01-28T20:10:25.297847Z",
     "shell.execute_reply": "2022-01-28T20:10:25.297329Z"
    },
    "papermill": {
     "duration": 0.057021,
     "end_time": "2022-01-28T20:10:25.297990",
     "exception": false,
     "start_time": "2022-01-28T20:10:25.240969",
     "status": "completed"
    },
    "tags": []
   },
   "outputs": [],
   "source": [
    "train_filter = np.where((train_labels == 3 ) | (train_labels == 8))\n",
    "test_filter = np.where((test_labels == 3) | (test_labels == 8))\n",
    "X_train, y_train = train_images[train_filter], train_labels[train_filter]\n",
    "X_test, y_test = test_images[test_filter], test_labels[test_filter]"
   ]
  },
  {
   "cell_type": "markdown",
   "id": "948f0b7e",
   "metadata": {
    "papermill": {
     "duration": 0.029854,
     "end_time": "2022-01-28T20:10:25.358103",
     "exception": false,
     "start_time": "2022-01-28T20:10:25.328249",
     "status": "completed"
    },
    "tags": []
   },
   "source": [
    "We normalize the pizel values in the 0 to 1 range"
   ]
  },
  {
   "cell_type": "code",
   "execution_count": 11,
   "id": "ee4c2166",
   "metadata": {
    "execution": {
     "iopub.execute_input": "2022-01-28T20:10:25.423337Z",
     "iopub.status.busy": "2022-01-28T20:10:25.422723Z",
     "iopub.status.idle": "2022-01-28T20:10:25.477423Z",
     "shell.execute_reply": "2022-01-28T20:10:25.478224Z"
    },
    "papermill": {
     "duration": 0.090458,
     "end_time": "2022-01-28T20:10:25.478479",
     "exception": false,
     "start_time": "2022-01-28T20:10:25.388021",
     "status": "completed"
    },
    "tags": []
   },
   "outputs": [],
   "source": [
    "X_train = X_train/255.\n",
    "X_test = X_test/255."
   ]
  },
  {
   "cell_type": "markdown",
   "id": "ddcf4fab",
   "metadata": {
    "papermill": {
     "duration": 0.02982,
     "end_time": "2022-01-28T20:10:25.540985",
     "exception": false,
     "start_time": "2022-01-28T20:10:25.511165",
     "status": "completed"
    },
    "tags": []
   },
   "source": [
    "And setup the labels as 1 (when the digit is 3) and 0 (when the digit is 8)"
   ]
  },
  {
   "cell_type": "code",
   "execution_count": 12,
   "id": "7dc908f2",
   "metadata": {
    "execution": {
     "iopub.execute_input": "2022-01-28T20:10:25.606854Z",
     "iopub.status.busy": "2022-01-28T20:10:25.606080Z",
     "iopub.status.idle": "2022-01-28T20:10:25.620535Z",
     "shell.execute_reply": "2022-01-28T20:10:25.621076Z"
    },
    "papermill": {
     "duration": 0.050319,
     "end_time": "2022-01-28T20:10:25.621232",
     "exception": false,
     "start_time": "2022-01-28T20:10:25.570913",
     "status": "completed"
    },
    "tags": []
   },
   "outputs": [],
   "source": [
    "y_train = 1*(y_train==3)\n",
    "y_test = 1*(y_test==3)"
   ]
  },
  {
   "cell_type": "code",
   "execution_count": 13,
   "id": "01e4e969",
   "metadata": {
    "execution": {
     "iopub.execute_input": "2022-01-28T20:10:25.688858Z",
     "iopub.status.busy": "2022-01-28T20:10:25.688206Z",
     "iopub.status.idle": "2022-01-28T20:10:25.701334Z",
     "shell.execute_reply": "2022-01-28T20:10:25.700844Z"
    },
    "papermill": {
     "duration": 0.050149,
     "end_time": "2022-01-28T20:10:25.701465",
     "exception": false,
     "start_time": "2022-01-28T20:10:25.651316",
     "status": "completed"
    },
    "tags": []
   },
   "outputs": [
    {
     "data": {
      "text/plain": [
       "((11982, 28, 28), (1984, 28, 28))"
      ]
     },
     "execution_count": 13,
     "metadata": {},
     "output_type": "execute_result"
    }
   ],
   "source": [
    "X_train.shape, X_test.shape"
   ]
  },
  {
   "cell_type": "markdown",
   "id": "5ccf3f85",
   "metadata": {
    "papermill": {
     "duration": 0.030135,
     "end_time": "2022-01-28T20:10:25.761678",
     "exception": false,
     "start_time": "2022-01-28T20:10:25.731543",
     "status": "completed"
    },
    "tags": []
   },
   "source": [
    "We reshape the data to flatten the image pixels into a set of features or co-variates:"
   ]
  },
  {
   "cell_type": "code",
   "execution_count": 14,
   "id": "5286a4a3",
   "metadata": {
    "execution": {
     "iopub.execute_input": "2022-01-28T20:10:25.827483Z",
     "iopub.status.busy": "2022-01-28T20:10:25.826896Z",
     "iopub.status.idle": "2022-01-28T20:10:25.843181Z",
     "shell.execute_reply": "2022-01-28T20:10:25.843626Z"
    },
    "papermill": {
     "duration": 0.051928,
     "end_time": "2022-01-28T20:10:25.843777",
     "exception": false,
     "start_time": "2022-01-28T20:10:25.791849",
     "status": "completed"
    },
    "tags": []
   },
   "outputs": [
    {
     "data": {
      "text/plain": [
       "((11982, 784), (1984, 784))"
      ]
     },
     "execution_count": 14,
     "metadata": {},
     "output_type": "execute_result"
    }
   ],
   "source": [
    "X_train = X_train.reshape(X_train.shape[0], -1)\n",
    "X_test = X_test.reshape(X_test.shape[0], -1)\n",
    "X_train.shape, X_test.shape"
   ]
  },
  {
   "cell_type": "code",
   "execution_count": 15,
   "id": "73c5f88a",
   "metadata": {
    "execution": {
     "iopub.execute_input": "2022-01-28T20:10:25.911255Z",
     "iopub.status.busy": "2022-01-28T20:10:25.910654Z",
     "iopub.status.idle": "2022-01-28T20:10:25.931619Z",
     "shell.execute_reply": "2022-01-28T20:10:25.931101Z"
    },
    "papermill": {
     "duration": 0.057526,
     "end_time": "2022-01-28T20:10:25.931749",
     "exception": false,
     "start_time": "2022-01-28T20:10:25.874223",
     "status": "completed"
    },
    "tags": []
   },
   "outputs": [],
   "source": [
    "#Impoting functions from 'Kudzu'\n",
    "from kudzu.model import Model\n",
    "from kudzu.train import Learner\n",
    "from kudzu.optim import GD\n",
    "from kudzu.data import Data, Sampler,Dataloader\n",
    "\n",
    "from kudzu.callbacks import AccCallback\n",
    "from kudzu.callbacks import ClfCallback\n",
    "\n",
    "from kudzu.loss import MSE\n",
    "\n",
    "from kudzu.layer import Sigmoid,Relu\n",
    "from kudzu.layer import Affine"
   ]
  },
  {
   "cell_type": "markdown",
   "id": "bc01172a",
   "metadata": {
    "papermill": {
     "duration": 0.030365,
     "end_time": "2022-01-28T20:10:25.992807",
     "exception": false,
     "start_time": "2022-01-28T20:10:25.962442",
     "status": "completed"
    },
    "tags": []
   },
   "source": [
    "### Let us create a `Config` class, to store important parameters. \n",
    "This class essentially plays the role of a dictionary."
   ]
  },
  {
   "cell_type": "code",
   "execution_count": 16,
   "id": "978281aa",
   "metadata": {
    "execution": {
     "iopub.execute_input": "2022-01-28T20:10:26.058378Z",
     "iopub.status.busy": "2022-01-28T20:10:26.057758Z",
     "iopub.status.idle": "2022-01-28T20:10:26.072553Z",
     "shell.execute_reply": "2022-01-28T20:10:26.072034Z"
    },
    "papermill": {
     "duration": 0.049527,
     "end_time": "2022-01-28T20:10:26.072721",
     "exception": false,
     "start_time": "2022-01-28T20:10:26.023194",
     "status": "completed"
    },
    "tags": []
   },
   "outputs": [],
   "source": [
    "class Config:\n",
    "    pass\n",
    "config = Config()\n",
    "config.lr = 0.001\n",
    "config.num_epochs = 250\n",
    "config.bs = 50"
   ]
  },
  {
   "cell_type": "markdown",
   "id": "1385fa59",
   "metadata": {
    "papermill": {
     "duration": 0.030864,
     "end_time": "2022-01-28T20:10:26.134174",
     "exception": false,
     "start_time": "2022-01-28T20:10:26.103310",
     "status": "completed"
    },
    "tags": []
   },
   "source": [
    "### Running Models with the Training data\n",
    "Details about the network layers:\n",
    "- A first affine layer has 784 inputs and does 100 affine transforms. These are followed by a Relu\n",
    "- A second affine layer has 100 inputs from the 100 activations of the past layer, and does 100 affine transforms. These are followed by a Relu\n",
    "- A third affine layer has 100 activations and does 2 affine transformations to create an embedding for visualization. There is no non-linearity here.\n",
    "- A final \"logistic regression\" which has an affine transform from 2 inputs to 1 output, which is squeezed through a sigmoid.\n"
   ]
  },
  {
   "cell_type": "code",
   "execution_count": 17,
   "id": "2b9c66db",
   "metadata": {
    "execution": {
     "iopub.execute_input": "2022-01-28T20:10:26.201888Z",
     "iopub.status.busy": "2022-01-28T20:10:26.201290Z",
     "iopub.status.idle": "2022-01-28T20:10:26.216681Z",
     "shell.execute_reply": "2022-01-28T20:10:26.216177Z"
    },
    "papermill": {
     "duration": 0.052037,
     "end_time": "2022-01-28T20:10:26.216815",
     "exception": false,
     "start_time": "2022-01-28T20:10:26.164778",
     "status": "completed"
    },
    "tags": []
   },
   "outputs": [],
   "source": [
    "data = Data(X_train, y_train.reshape(-1,1))\n",
    "sampler = Sampler(data, config.bs, shuffle=True)\n",
    "\n",
    "dl = Dataloader(data, sampler)\n",
    "\n",
    "opt = GD(config.lr)\n",
    "loss = MSE()"
   ]
  },
  {
   "cell_type": "code",
   "execution_count": 18,
   "id": "b275e4c2",
   "metadata": {
    "execution": {
     "iopub.execute_input": "2022-01-28T20:10:26.282580Z",
     "iopub.status.busy": "2022-01-28T20:10:26.281983Z",
     "iopub.status.idle": "2022-01-28T20:10:26.296844Z",
     "shell.execute_reply": "2022-01-28T20:10:26.296294Z"
    },
    "papermill": {
     "duration": 0.049633,
     "end_time": "2022-01-28T20:10:26.296980",
     "exception": false,
     "start_time": "2022-01-28T20:10:26.247347",
     "status": "completed"
    },
    "tags": []
   },
   "outputs": [],
   "source": [
    "training_data_x = X_train\n",
    "testing_data_x = X_test\n",
    "training_data_y = y_train.reshape(-1,1)\n",
    "testing_data_y = y_test.reshape(-1,1)"
   ]
  },
  {
   "cell_type": "code",
   "execution_count": 19,
   "id": "76951160",
   "metadata": {
    "execution": {
     "iopub.execute_input": "2022-01-28T20:10:26.368417Z",
     "iopub.status.busy": "2022-01-28T20:10:26.367810Z",
     "iopub.status.idle": "2022-01-28T20:10:26.383850Z",
     "shell.execute_reply": "2022-01-28T20:10:26.384352Z"
    },
    "papermill": {
     "duration": 0.056972,
     "end_time": "2022-01-28T20:10:26.384504",
     "exception": false,
     "start_time": "2022-01-28T20:10:26.327532",
     "status": "completed"
    },
    "tags": []
   },
   "outputs": [
    {
     "name": "stdout",
     "output_type": "stream",
     "text": [
      "xavier\n",
      "xavier\n",
      "xavier\n",
      "xavier\n",
      "xavier\n"
     ]
    }
   ],
   "source": [
    "layers = [Affine(\"first\", 784, 100), Relu(\"first\"), Affine(\"second\", 100, 100), Relu(\"second\"), Affine(\"third\", 100, 2), Affine(\"last\", 2, 1), Sigmoid(\"last\")]\n",
    "model_nn = Model(layers)\n",
    "model_lr = Model([Affine(\"logits\", 784, 1), Sigmoid(\"sigmoid\")])"
   ]
  },
  {
   "cell_type": "code",
   "execution_count": 20,
   "id": "6eede77a",
   "metadata": {
    "execution": {
     "iopub.execute_input": "2022-01-28T20:10:26.450983Z",
     "iopub.status.busy": "2022-01-28T20:10:26.450389Z",
     "iopub.status.idle": "2022-01-28T20:10:26.464286Z",
     "shell.execute_reply": "2022-01-28T20:10:26.463762Z"
    },
    "papermill": {
     "duration": 0.048917,
     "end_time": "2022-01-28T20:10:26.464412",
     "exception": false,
     "start_time": "2022-01-28T20:10:26.415495",
     "status": "completed"
    },
    "tags": []
   },
   "outputs": [],
   "source": [
    "nn_learner = Learner(loss, model_nn, opt, config.num_epochs)\n",
    "acc_nn = ClfCallback(nn_learner, config.bs, training_data_x , testing_data_x, training_data_y, testing_data_y)\n",
    "nn_learner.set_callbacks([acc_nn])"
   ]
  },
  {
   "cell_type": "code",
   "execution_count": 21,
   "id": "877b6cc7",
   "metadata": {
    "execution": {
     "iopub.execute_input": "2022-01-28T20:10:26.533754Z",
     "iopub.status.busy": "2022-01-28T20:10:26.533153Z",
     "iopub.status.idle": "2022-01-28T20:10:26.549177Z",
     "shell.execute_reply": "2022-01-28T20:10:26.548652Z"
    },
    "papermill": {
     "duration": 0.053361,
     "end_time": "2022-01-28T20:10:26.549307",
     "exception": false,
     "start_time": "2022-01-28T20:10:26.495946",
     "status": "completed"
    },
    "tags": []
   },
   "outputs": [],
   "source": [
    "lr_learner = Learner(loss, model_lr, opt, config.num_epochs)\n",
    "acc_lr = ClfCallback(lr_learner, config.bs, training_data_x , testing_data_x, training_data_y, testing_data_y)\n",
    "lr_learner.set_callbacks([acc_lr])"
   ]
  },
  {
   "cell_type": "code",
   "execution_count": 22,
   "id": "d9b133c3",
   "metadata": {
    "execution": {
     "iopub.execute_input": "2022-01-28T20:10:26.618373Z",
     "iopub.status.busy": "2022-01-28T20:10:26.617765Z",
     "iopub.status.idle": "2022-01-28T20:11:54.608138Z",
     "shell.execute_reply": "2022-01-28T20:11:54.609013Z"
    },
    "papermill": {
     "duration": 88.028155,
     "end_time": "2022-01-28T20:11:54.609183",
     "exception": false,
     "start_time": "2022-01-28T20:10:26.581028",
     "status": "completed"
    },
    "tags": []
   },
   "outputs": [
    {
     "name": "stdout",
     "output_type": "stream",
     "text": [
      "Epoch 0, Loss 0.2392\n",
      "Training Accuracy: 0.6468, Testing Accuracy: 0.6240\n",
      "\n"
     ]
    },
    {
     "name": "stdout",
     "output_type": "stream",
     "text": [
      "Epoch 10, Loss 0.1159\n",
      "Training Accuracy: 0.8925, Testing Accuracy: 0.9012\n",
      "\n"
     ]
    },
    {
     "name": "stdout",
     "output_type": "stream",
     "text": [
      "Epoch 20, Loss 0.0666\n",
      "Training Accuracy: 0.9331, Testing Accuracy: 0.9441\n",
      "\n"
     ]
    },
    {
     "name": "stdout",
     "output_type": "stream",
     "text": [
      "Epoch 30, Loss 0.0487\n",
      "Training Accuracy: 0.9487, Testing Accuracy: 0.9561\n",
      "\n"
     ]
    },
    {
     "name": "stdout",
     "output_type": "stream",
     "text": [
      "Epoch 40, Loss 0.0408\n",
      "Training Accuracy: 0.9550, Testing Accuracy: 0.9622\n",
      "\n"
     ]
    },
    {
     "name": "stdout",
     "output_type": "stream",
     "text": [
      "Epoch 50, Loss 0.0363\n",
      "Training Accuracy: 0.9589, Testing Accuracy: 0.9667\n",
      "\n"
     ]
    },
    {
     "name": "stdout",
     "output_type": "stream",
     "text": [
      "Epoch 60, Loss 0.0334\n",
      "Training Accuracy: 0.9610, Testing Accuracy: 0.9688\n",
      "\n"
     ]
    },
    {
     "name": "stdout",
     "output_type": "stream",
     "text": [
      "Epoch 70, Loss 0.0313\n",
      "Training Accuracy: 0.9634, Testing Accuracy: 0.9698\n",
      "\n"
     ]
    },
    {
     "name": "stdout",
     "output_type": "stream",
     "text": [
      "Epoch 80, Loss 0.0297\n",
      "Training Accuracy: 0.9650, Testing Accuracy: 0.9698\n",
      "\n"
     ]
    },
    {
     "name": "stdout",
     "output_type": "stream",
     "text": [
      "Epoch 90, Loss 0.0284\n",
      "Training Accuracy: 0.9663, Testing Accuracy: 0.9708\n",
      "\n"
     ]
    },
    {
     "name": "stdout",
     "output_type": "stream",
     "text": [
      "Epoch 100, Loss 0.0273\n",
      "Training Accuracy: 0.9672, Testing Accuracy: 0.9693\n",
      "\n"
     ]
    },
    {
     "name": "stdout",
     "output_type": "stream",
     "text": [
      "Epoch 110, Loss 0.0263\n",
      "Training Accuracy: 0.9686, Testing Accuracy: 0.9693\n",
      "\n"
     ]
    },
    {
     "name": "stdout",
     "output_type": "stream",
     "text": [
      "Epoch 120, Loss 0.0255\n",
      "Training Accuracy: 0.9700, Testing Accuracy: 0.9698\n",
      "\n"
     ]
    },
    {
     "name": "stdout",
     "output_type": "stream",
     "text": [
      "Epoch 130, Loss 0.0247\n",
      "Training Accuracy: 0.9714, Testing Accuracy: 0.9708\n",
      "\n"
     ]
    },
    {
     "name": "stdout",
     "output_type": "stream",
     "text": [
      "Epoch 140, Loss 0.0241\n",
      "Training Accuracy: 0.9725, Testing Accuracy: 0.9708\n",
      "\n"
     ]
    },
    {
     "name": "stdout",
     "output_type": "stream",
     "text": [
      "Epoch 150, Loss 0.0234\n",
      "Training Accuracy: 0.9729, Testing Accuracy: 0.9718\n",
      "\n"
     ]
    },
    {
     "name": "stdout",
     "output_type": "stream",
     "text": [
      "Epoch 160, Loss 0.0229\n",
      "Training Accuracy: 0.9738, Testing Accuracy: 0.9723\n",
      "\n"
     ]
    },
    {
     "name": "stdout",
     "output_type": "stream",
     "text": [
      "Epoch 170, Loss 0.0223\n",
      "Training Accuracy: 0.9748, Testing Accuracy: 0.9728\n",
      "\n"
     ]
    },
    {
     "name": "stdout",
     "output_type": "stream",
     "text": [
      "Epoch 180, Loss 0.0218\n",
      "Training Accuracy: 0.9753, Testing Accuracy: 0.9728\n",
      "\n"
     ]
    },
    {
     "name": "stdout",
     "output_type": "stream",
     "text": [
      "Epoch 190, Loss 0.0214\n",
      "Training Accuracy: 0.9760, Testing Accuracy: 0.9723\n",
      "\n"
     ]
    },
    {
     "name": "stdout",
     "output_type": "stream",
     "text": [
      "Epoch 200, Loss 0.0209\n",
      "Training Accuracy: 0.9764, Testing Accuracy: 0.9723\n",
      "\n"
     ]
    },
    {
     "name": "stdout",
     "output_type": "stream",
     "text": [
      "Epoch 210, Loss 0.0205\n",
      "Training Accuracy: 0.9767, Testing Accuracy: 0.9728\n",
      "\n"
     ]
    },
    {
     "name": "stdout",
     "output_type": "stream",
     "text": [
      "Epoch 220, Loss 0.0201\n",
      "Training Accuracy: 0.9771, Testing Accuracy: 0.9733\n",
      "\n"
     ]
    },
    {
     "name": "stdout",
     "output_type": "stream",
     "text": [
      "Epoch 230, Loss 0.0197\n",
      "Training Accuracy: 0.9775, Testing Accuracy: 0.9748\n",
      "\n"
     ]
    },
    {
     "name": "stdout",
     "output_type": "stream",
     "text": [
      "Epoch 240, Loss 0.0193\n",
      "Training Accuracy: 0.9786, Testing Accuracy: 0.9753\n",
      "\n"
     ]
    },
    {
     "data": {
      "text/plain": [
       "0.006128367893889896"
      ]
     },
     "execution_count": 22,
     "metadata": {},
     "output_type": "execute_result"
    }
   ],
   "source": [
    "nn_learner.train_loop(dl)"
   ]
  },
  {
   "cell_type": "code",
   "execution_count": 23,
   "id": "e0163366",
   "metadata": {
    "execution": {
     "iopub.execute_input": "2022-01-28T20:11:54.695463Z",
     "iopub.status.busy": "2022-01-28T20:11:54.694856Z",
     "iopub.status.idle": "2022-01-28T20:12:10.368729Z",
     "shell.execute_reply": "2022-01-28T20:12:10.369569Z"
    },
    "papermill": {
     "duration": 15.720923,
     "end_time": "2022-01-28T20:12:10.369734",
     "exception": false,
     "start_time": "2022-01-28T20:11:54.648811",
     "status": "completed"
    },
    "tags": []
   },
   "outputs": [
    {
     "name": "stdout",
     "output_type": "stream",
     "text": [
      "Epoch 0, Loss 0.2675\n",
      "Training Accuracy: 0.5750, Testing Accuracy: 0.5842\n",
      "\n"
     ]
    },
    {
     "name": "stdout",
     "output_type": "stream",
     "text": [
      "Epoch 10, Loss 0.1062\n",
      "Training Accuracy: 0.9053, Testing Accuracy: 0.9153\n",
      "\n"
     ]
    },
    {
     "name": "stdout",
     "output_type": "stream",
     "text": [
      "Epoch 20, Loss 0.0812\n",
      "Training Accuracy: 0.9241, Testing Accuracy: 0.9355\n",
      "\n"
     ]
    },
    {
     "name": "stdout",
     "output_type": "stream",
     "text": [
      "Epoch 30, Loss 0.0698\n",
      "Training Accuracy: 0.9349, Testing Accuracy: 0.9461\n",
      "\n"
     ]
    },
    {
     "name": "stdout",
     "output_type": "stream",
     "text": [
      "Epoch 40, Loss 0.0629\n",
      "Training Accuracy: 0.9394, Testing Accuracy: 0.9501\n",
      "\n"
     ]
    },
    {
     "name": "stdout",
     "output_type": "stream",
     "text": [
      "Epoch 50, Loss 0.0582\n",
      "Training Accuracy: 0.9432, Testing Accuracy: 0.9536\n",
      "\n"
     ]
    },
    {
     "name": "stdout",
     "output_type": "stream",
     "text": [
      "Epoch 60, Loss 0.0547\n",
      "Training Accuracy: 0.9466, Testing Accuracy: 0.9567\n",
      "\n"
     ]
    },
    {
     "name": "stdout",
     "output_type": "stream",
     "text": [
      "Epoch 70, Loss 0.0521\n",
      "Training Accuracy: 0.9483, Testing Accuracy: 0.9607\n",
      "\n"
     ]
    },
    {
     "name": "stdout",
     "output_type": "stream",
     "text": [
      "Epoch 80, Loss 0.0499\n",
      "Training Accuracy: 0.9507, Testing Accuracy: 0.9607\n",
      "\n"
     ]
    },
    {
     "name": "stdout",
     "output_type": "stream",
     "text": [
      "Epoch 90, Loss 0.0482\n",
      "Training Accuracy: 0.9516, Testing Accuracy: 0.9627\n",
      "\n"
     ]
    },
    {
     "name": "stdout",
     "output_type": "stream",
     "text": [
      "Epoch 100, Loss 0.0467\n",
      "Training Accuracy: 0.9525, Testing Accuracy: 0.9627\n",
      "\n"
     ]
    },
    {
     "name": "stdout",
     "output_type": "stream",
     "text": [
      "Epoch 110, Loss 0.0454\n",
      "Training Accuracy: 0.9534, Testing Accuracy: 0.9632\n",
      "\n"
     ]
    },
    {
     "name": "stdout",
     "output_type": "stream",
     "text": [
      "Epoch 120, Loss 0.0443\n",
      "Training Accuracy: 0.9548, Testing Accuracy: 0.9642\n",
      "\n"
     ]
    },
    {
     "name": "stdout",
     "output_type": "stream",
     "text": [
      "Epoch 130, Loss 0.0434\n",
      "Training Accuracy: 0.9553, Testing Accuracy: 0.9637\n",
      "\n"
     ]
    },
    {
     "name": "stdout",
     "output_type": "stream",
     "text": [
      "Epoch 140, Loss 0.0425\n",
      "Training Accuracy: 0.9557, Testing Accuracy: 0.9642\n",
      "\n"
     ]
    },
    {
     "name": "stdout",
     "output_type": "stream",
     "text": [
      "Epoch 150, Loss 0.0417\n",
      "Training Accuracy: 0.9558, Testing Accuracy: 0.9642\n",
      "\n"
     ]
    },
    {
     "name": "stdout",
     "output_type": "stream",
     "text": [
      "Epoch 160, Loss 0.041\n",
      "Training Accuracy: 0.9564, Testing Accuracy: 0.9672\n",
      "\n"
     ]
    },
    {
     "name": "stdout",
     "output_type": "stream",
     "text": [
      "Epoch 170, Loss 0.0404\n",
      "Training Accuracy: 0.9571, Testing Accuracy: 0.9672\n",
      "\n"
     ]
    },
    {
     "name": "stdout",
     "output_type": "stream",
     "text": [
      "Epoch 180, Loss 0.0398\n",
      "Training Accuracy: 0.9574, Testing Accuracy: 0.9667\n",
      "\n"
     ]
    },
    {
     "name": "stdout",
     "output_type": "stream",
     "text": [
      "Epoch 190, Loss 0.0393\n",
      "Training Accuracy: 0.9582, Testing Accuracy: 0.9667\n",
      "\n"
     ]
    },
    {
     "name": "stdout",
     "output_type": "stream",
     "text": [
      "Epoch 200, Loss 0.0388\n",
      "Training Accuracy: 0.9585, Testing Accuracy: 0.9667\n",
      "\n"
     ]
    },
    {
     "name": "stdout",
     "output_type": "stream",
     "text": [
      "Epoch 210, Loss 0.0384\n",
      "Training Accuracy: 0.9588, Testing Accuracy: 0.9667\n",
      "\n"
     ]
    },
    {
     "name": "stdout",
     "output_type": "stream",
     "text": [
      "Epoch 220, Loss 0.0379\n",
      "Training Accuracy: 0.9593, Testing Accuracy: 0.9672\n",
      "\n"
     ]
    },
    {
     "name": "stdout",
     "output_type": "stream",
     "text": [
      "Epoch 230, Loss 0.0375\n",
      "Training Accuracy: 0.9595, Testing Accuracy: 0.9672\n",
      "\n"
     ]
    },
    {
     "name": "stdout",
     "output_type": "stream",
     "text": [
      "Epoch 240, Loss 0.0372\n",
      "Training Accuracy: 0.9596, Testing Accuracy: 0.9672\n",
      "\n"
     ]
    },
    {
     "data": {
      "text/plain": [
       "0.021516727984588802"
      ]
     },
     "execution_count": 23,
     "metadata": {},
     "output_type": "execute_result"
    }
   ],
   "source": [
    "lr_learner.train_loop(dl)"
   ]
  },
  {
   "cell_type": "code",
   "execution_count": 24,
   "id": "ca410940",
   "metadata": {
    "execution": {
     "iopub.execute_input": "2022-01-28T20:12:10.470572Z",
     "iopub.status.busy": "2022-01-28T20:12:10.469953Z",
     "iopub.status.idle": "2022-01-28T20:12:10.742359Z",
     "shell.execute_reply": "2022-01-28T20:12:10.741864Z"
    },
    "papermill": {
     "duration": 0.326366,
     "end_time": "2022-01-28T20:12:10.742495",
     "exception": false,
     "start_time": "2022-01-28T20:12:10.416129",
     "status": "completed"
    },
    "tags": []
   },
   "outputs": [
    {
     "data": {
      "text/plain": [
       "<matplotlib.legend.Legend at 0x7fd8d9d393c8>"
      ]
     },
     "execution_count": 24,
     "metadata": {},
     "output_type": "execute_result"
    },
    {
     "data": {
      "image/png": "[encoded data removed]",
      "text/plain": [
       "<Figure size 1080x720 with 1 Axes>"
      ]
     },
     "metadata": {
      "needs_background": "light"
     },
     "output_type": "display_data"
    }
   ],
   "source": [
    "#comparing the results of NN and LR\n",
    "plt.figure(figsize=(15,10))\n",
    "\n",
    "# Neural Network plots\n",
    "plt.plot(acc_nn.accuracies, 'r-', label = \"Training Accuracies - NN\")\n",
    "plt.plot(acc_nn.test_accuracies, 'g-', label = \"Testing Accuracies - NN\")\n",
    "\n",
    "# Logistic Regression plots\n",
    "plt.plot(acc_lr.accuracies, 'k-', label = \"Training Accuracies - LR\")\n",
    "plt.plot(acc_lr.test_accuracies, 'b-', label = \"Testing Accuracies - LR\")\n",
    "plt.legend()"
   ]
  },
  {
   "cell_type": "markdown",
   "id": "80dfb35c",
   "metadata": {
    "papermill": {
     "duration": 0.047485,
     "end_time": "2022-01-28T20:12:10.837575",
     "exception": false,
     "start_time": "2022-01-28T20:12:10.790090",
     "status": "completed"
    },
    "tags": []
   },
   "source": [
    "#### Plotting the outputs of this layer of the NN.\n"
   ]
  },
  {
   "cell_type": "code",
   "execution_count": 25,
   "id": "45eb2ff5",
   "metadata": {
    "execution": {
     "iopub.execute_input": "2022-01-28T20:12:10.937623Z",
     "iopub.status.busy": "2022-01-28T20:12:10.936762Z",
     "iopub.status.idle": "2022-01-28T20:12:10.960924Z",
     "shell.execute_reply": "2022-01-28T20:12:10.961421Z"
    },
    "papermill": {
     "duration": 0.076984,
     "end_time": "2022-01-28T20:12:10.961578",
     "exception": false,
     "start_time": "2022-01-28T20:12:10.884594",
     "status": "completed"
    },
    "tags": []
   },
   "outputs": [],
   "source": [
    "new_model = Model(layers[:-2])\n",
    "testing_plot = new_model(testing_data_x)"
   ]
  },
  {
   "cell_type": "code",
   "execution_count": 26,
   "id": "4c0a5485",
   "metadata": {
    "execution": {
     "iopub.execute_input": "2022-01-28T20:12:11.065958Z",
     "iopub.status.busy": "2022-01-28T20:12:11.063784Z",
     "iopub.status.idle": "2022-01-28T20:12:11.295703Z",
     "shell.execute_reply": "2022-01-28T20:12:11.295090Z"
    },
    "papermill": {
     "duration": 0.285099,
     "end_time": "2022-01-28T20:12:11.295836",
     "exception": false,
     "start_time": "2022-01-28T20:12:11.010737",
     "status": "completed"
    },
    "tags": []
   },
   "outputs": [
    {
     "data": {
      "text/plain": [
       "Text(0.5, 1.0, 'Outputs')"
      ]
     },
     "execution_count": 26,
     "metadata": {},
     "output_type": "execute_result"
    },
    {
     "data": {
      "image/png": "[encoded data removed]",
      "text/plain": [
       "<Figure size 576x504 with 1 Axes>"
      ]
     },
     "metadata": {
      "needs_background": "light"
     },
     "output_type": "display_data"
    }
   ],
   "source": [
    "# Plotting the scatter plot of points and color coding by class\n",
    "plt.figure(figsize=(8,7))\n",
    "plt.scatter(testing_plot[:,0], testing_plot[:,1], alpha = 0.1, c = y_test.ravel());\n",
    "plt.title('Outputs')"
   ]
  },
  {
   "cell_type": "markdown",
   "id": "a74fcf8f",
   "metadata": {
    "papermill": {
     "duration": 0.049589,
     "end_time": "2022-01-28T20:12:11.395471",
     "exception": false,
     "start_time": "2022-01-28T20:12:11.345882",
     "status": "completed"
    },
    "tags": []
   },
   "source": [
    "Probability contours"
   ]
  },
  {
   "cell_type": "code",
   "execution_count": 27,
   "id": "d0afc8e3",
   "metadata": {
    "execution": {
     "iopub.execute_input": "2022-01-28T20:12:11.502525Z",
     "iopub.status.busy": "2022-01-28T20:12:11.500112Z",
     "iopub.status.idle": "2022-01-28T20:12:11.513584Z",
     "shell.execute_reply": "2022-01-28T20:12:11.513108Z"
    },
    "papermill": {
     "duration": 0.068799,
     "end_time": "2022-01-28T20:12:11.513710",
     "exception": false,
     "start_time": "2022-01-28T20:12:11.444911",
     "status": "completed"
    },
    "tags": []
   },
   "outputs": [],
   "source": [
    "model_prob = Model(layers[-2:]) "
   ]
  },
  {
   "cell_type": "code",
   "execution_count": 28,
   "id": "9b96e238",
   "metadata": {
    "execution": {
     "iopub.execute_input": "2022-01-28T20:12:11.649289Z",
     "iopub.status.busy": "2022-01-28T20:12:11.648669Z",
     "iopub.status.idle": "2022-01-28T20:12:11.665422Z",
     "shell.execute_reply": "2022-01-28T20:12:11.665860Z"
    },
    "papermill": {
     "duration": 0.072958,
     "end_time": "2022-01-28T20:12:11.666009",
     "exception": false,
     "start_time": "2022-01-28T20:12:11.593051",
     "status": "completed"
    },
    "tags": []
   },
   "outputs": [],
   "source": [
    "#creating the x and y ranges according to the above generated plot.\n",
    "x_range = np.linspace(-4, 1, 100) \n",
    "y_range = np.linspace(-6, 6, 100) \n",
    "x_grid, y_grid = np.meshgrid(x_range, y_range) # x_grid and y_grig are of size 100 X 100\n",
    "\n",
    "# converting x_grid and y_grid to continuous arrays\n",
    "x_gridflat = np.ravel(x_grid)\n",
    "y_gridflat = np.ravel(y_grid)\n",
    "\n",
    "# The last layer of the current model takes two columns as input. Hence transpose of np.vstack() is required.\n",
    "X = np.vstack((x_gridflat, y_gridflat)).T\n",
    "\n",
    "prob_contour = model_prob(X).reshape(100,100) "
   ]
  },
  {
   "cell_type": "code",
   "execution_count": 29,
   "id": "da72499a",
   "metadata": {
    "execution": {
     "iopub.execute_input": "2022-01-28T20:12:11.778287Z",
     "iopub.status.busy": "2022-01-28T20:12:11.777579Z",
     "iopub.status.idle": "2022-01-28T20:12:12.080344Z",
     "shell.execute_reply": "2022-01-28T20:12:12.079817Z"
    },
    "papermill": {
     "duration": 0.361078,
     "end_time": "2022-01-28T20:12:12.080550",
     "exception": false,
     "start_time": "2022-01-28T20:12:11.719472",
     "status": "completed"
    },
    "tags": []
   },
   "outputs": [
    {
     "data": {
      "image/png": "[encoded data removed]",
      "text/plain": [
       "<Figure size 720x648 with 1 Axes>"
      ]
     },
     "metadata": {
      "needs_background": "light"
     },
     "output_type": "display_data"
    }
   ],
   "source": [
    "plt.figure(figsize=(10,9))\n",
    "plt.scatter(testing_plot[:,0], testing_plot[:,1], alpha = 0.1, c = y_test.ravel())\n",
    "contours = plt.contour(x_grid,y_grid,prob_contour)\n",
    "plt.title('Probability Contours')\n",
    "plt.clabel(contours, inline = True );"
   ]
  },
  {
   "cell_type": "code",
   "execution_count": null,
   "id": "e81b4ac7",
   "metadata": {
    "papermill": {
     "duration": 0.057603,
     "end_time": "2022-01-28T20:12:12.192737",
     "exception": false,
     "start_time": "2022-01-28T20:12:12.135134",
     "status": "completed"
    },
    "tags": []
   },
   "outputs": [],
   "source": []
  }
 ],
 "metadata": {
  "kernelspec": {
   "display_name": "Python 3",
   "language": "python",
   "name": "python3"
  },
  "language_info": {
   "codemirror_mode": {
    "name": "ipython",
    "version": 3
   },
   "file_extension": ".py",
   "mimetype": "text/x-python",
   "name": "python",
   "nbconvert_exporter": "python",
   "pygments_lexer": "ipython3",
   "version": "3.6.15"
  },
  "papermill": {
   "default_parameters": {},
   "duration": 113.898638,
   "end_time": "2022-01-28T20:12:12.674104",
   "environment_variables": {},
   "exception": null,
   "input_path": "2020-08-11-part2.ipynb",
   "output_path": "2020-08-11-part2.ipynb",
   "parameters": {},
   "start_time": "2022-01-28T20:10:18.775466",
   "version": "2.3.3"
  }
 },
 "nbformat": 4,
 "nbformat_minor": 5
}