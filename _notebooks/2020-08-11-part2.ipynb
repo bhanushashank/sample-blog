{
 "cells": [
  {
   "cell_type": "markdown",
   "id": "98380cd3",
   "metadata": {
    "papermill": {
     "duration": 0.029523,
     "end_time": "2022-07-11T10:10:26.053270",
     "exception": false,
     "start_time": "2022-07-11T10:10:26.023747",
     "status": "completed"
    },
    "tags": []
   },
   "source": [
    "# Distinguish Your Own Digits (DYOD)"
   ]
  },
  {
   "cell_type": "markdown",
   "id": "ef31240d",
   "metadata": {
    "papermill": {
     "duration": 0.023911,
     "end_time": "2022-07-11T10:10:26.101424",
     "exception": false,
     "start_time": "2022-07-11T10:10:26.077513",
     "status": "completed"
    },
    "tags": []
   },
   "source": [
    "You are going to write a classifier that distinguishes between the number 3 and number 8."
   ]
  },
  {
   "cell_type": "code",
   "execution_count": 1,
   "id": "b15c8646",
   "metadata": {
    "execution": {
     "iopub.execute_input": "2022-07-11T10:10:26.161811Z",
     "iopub.status.busy": "2022-07-11T10:10:26.161200Z",
     "iopub.status.idle": "2022-07-11T10:10:26.172100Z",
     "shell.execute_reply": "2022-07-11T10:10:26.171595Z"
    },
    "papermill": {
     "duration": 0.047155,
     "end_time": "2022-07-11T10:10:26.172261",
     "exception": false,
     "start_time": "2022-07-11T10:10:26.125106",
     "status": "completed"
    },
    "tags": []
   },
   "outputs": [],
   "source": [
    "%load_ext autoreload\n",
    "%autoreload 2"
   ]
  },
  {
   "cell_type": "code",
   "execution_count": 2,
   "id": "22ef38dc",
   "metadata": {
    "execution": {
     "iopub.execute_input": "2022-07-11T10:10:26.230449Z",
     "iopub.status.busy": "2022-07-11T10:10:26.229838Z",
     "iopub.status.idle": "2022-07-11T10:10:26.784149Z",
     "shell.execute_reply": "2022-07-11T10:10:26.783136Z"
    },
    "papermill": {
     "duration": 0.588037,
     "end_time": "2022-07-11T10:10:26.784325",
     "exception": false,
     "start_time": "2022-07-11T10:10:26.196288",
     "status": "completed"
    },
    "tags": []
   },
   "outputs": [],
   "source": [
    "%matplotlib inline\n",
    "import numpy as np\n",
    "import matplotlib.pyplot as plt\n",
    "import pandas as pd"
   ]
  },
  {
   "cell_type": "markdown",
   "id": "ba036198",
   "metadata": {
    "papermill": {
     "duration": 0.023869,
     "end_time": "2022-07-11T10:10:26.832842",
     "exception": false,
     "start_time": "2022-07-11T10:10:26.808973",
     "status": "completed"
    },
    "tags": []
   },
   "source": [
    "From the command line run `pip install mnist`. This is a library that will help you bring down the mnist dataset. If you run this from a notebook, you need to put  `!pip install mnist` in a cell by itself."
   ]
  },
  {
   "cell_type": "code",
   "execution_count": 3,
   "id": "bb6ad8a1",
   "metadata": {
    "execution": {
     "iopub.execute_input": "2022-07-11T10:10:26.897836Z",
     "iopub.status.busy": "2022-07-11T10:10:26.894526Z",
     "iopub.status.idle": "2022-07-11T10:10:28.690427Z",
     "shell.execute_reply": "2022-07-11T10:10:28.689799Z"
    },
    "papermill": {
     "duration": 1.833848,
     "end_time": "2022-07-11T10:10:28.690570",
     "exception": false,
     "start_time": "2022-07-11T10:10:26.856722",
     "status": "completed"
    },
    "tags": []
   },
   "outputs": [
    {
     "name": "stdout",
     "output_type": "stream",
     "text": [
      "Collecting mnist\r\n"
     ]
    },
    {
     "name": "stdout",
     "output_type": "stream",
     "text": [
      "  Downloading mnist-0.2.2-py2.py3-none-any.whl (3.5 kB)\r\n",
      "Requirement already satisfied: numpy in /opt/hostedtoolcache/Python/3.6.15/x64/lib/python3.6/site-packages (from mnist) (1.19.5)\r\n"
     ]
    },
    {
     "name": "stdout",
     "output_type": "stream",
     "text": [
      "Installing collected packages: mnist\r\n",
      "Successfully installed mnist-0.2.2\r\n"
     ]
    }
   ],
   "source": [
    "!pip install mnist"
   ]
  },
  {
   "cell_type": "markdown",
   "id": "69df9c9a",
   "metadata": {
    "papermill": {
     "duration": 0.024884,
     "end_time": "2022-07-11T10:10:28.741030",
     "exception": false,
     "start_time": "2022-07-11T10:10:28.716146",
     "status": "completed"
    },
    "tags": []
   },
   "source": [
    "## Preparing the Data"
   ]
  },
  {
   "cell_type": "code",
   "execution_count": 4,
   "id": "7f69d806",
   "metadata": {
    "execution": {
     "iopub.execute_input": "2022-07-11T10:10:28.810656Z",
     "iopub.status.busy": "2022-07-11T10:10:28.810022Z",
     "iopub.status.idle": "2022-07-11T10:10:28.817765Z",
     "shell.execute_reply": "2022-07-11T10:10:28.817300Z"
    },
    "papermill": {
     "duration": 0.052564,
     "end_time": "2022-07-11T10:10:28.817892",
     "exception": false,
     "start_time": "2022-07-11T10:10:28.765328",
     "status": "completed"
    },
    "tags": []
   },
   "outputs": [],
   "source": [
    "import mnist"
   ]
  },
  {
   "cell_type": "code",
   "execution_count": 5,
   "id": "a411e44f",
   "metadata": {
    "execution": {
     "iopub.execute_input": "2022-07-11T10:10:28.870863Z",
     "iopub.status.busy": "2022-07-11T10:10:28.870276Z",
     "iopub.status.idle": "2022-07-11T10:10:29.521898Z",
     "shell.execute_reply": "2022-07-11T10:10:29.521286Z"
    },
    "papermill": {
     "duration": 0.679493,
     "end_time": "2022-07-11T10:10:29.522037",
     "exception": false,
     "start_time": "2022-07-11T10:10:28.842544",
     "status": "completed"
    },
    "tags": []
   },
   "outputs": [],
   "source": [
    "train_images = mnist.train_images()\n",
    "train_labels = mnist.train_labels()"
   ]
  },
  {
   "cell_type": "code",
   "execution_count": 6,
   "id": "dceab3a5",
   "metadata": {
    "execution": {
     "iopub.execute_input": "2022-07-11T10:10:29.580115Z",
     "iopub.status.busy": "2022-07-11T10:10:29.579531Z",
     "iopub.status.idle": "2022-07-11T10:10:29.592284Z",
     "shell.execute_reply": "2022-07-11T10:10:29.591771Z"
    },
    "papermill": {
     "duration": 0.045307,
     "end_time": "2022-07-11T10:10:29.592409",
     "exception": false,
     "start_time": "2022-07-11T10:10:29.547102",
     "status": "completed"
    },
    "tags": []
   },
   "outputs": [
    {
     "data": {
      "text/plain": [
       "((60000, 28, 28), (60000,))"
      ]
     },
     "execution_count": 6,
     "metadata": {},
     "output_type": "execute_result"
    }
   ],
   "source": [
    "train_images.shape, train_labels.shape"
   ]
  },
  {
   "cell_type": "code",
   "execution_count": 7,
   "id": "f50dc2bb",
   "metadata": {
    "execution": {
     "iopub.execute_input": "2022-07-11T10:10:29.650886Z",
     "iopub.status.busy": "2022-07-11T10:10:29.650295Z",
     "iopub.status.idle": "2022-07-11T10:10:29.886237Z",
     "shell.execute_reply": "2022-07-11T10:10:29.885625Z"
    },
    "papermill": {
     "duration": 0.269233,
     "end_time": "2022-07-11T10:10:29.886376",
     "exception": false,
     "start_time": "2022-07-11T10:10:29.617143",
     "status": "completed"
    },
    "tags": []
   },
   "outputs": [],
   "source": [
    "test_images = mnist.test_images()\n",
    "test_labels = mnist.test_labels()"
   ]
  },
  {
   "cell_type": "code",
   "execution_count": 8,
   "id": "fc38cf1b",
   "metadata": {
    "execution": {
     "iopub.execute_input": "2022-07-11T10:10:29.944771Z",
     "iopub.status.busy": "2022-07-11T10:10:29.944091Z",
     "iopub.status.idle": "2022-07-11T10:10:29.955842Z",
     "shell.execute_reply": "2022-07-11T10:10:29.956289Z"
    },
    "papermill": {
     "duration": 0.044554,
     "end_time": "2022-07-11T10:10:29.956428",
     "exception": false,
     "start_time": "2022-07-11T10:10:29.911874",
     "status": "completed"
    },
    "tags": []
   },
   "outputs": [
    {
     "data": {
      "text/plain": [
       "((10000, 28, 28), (10000,))"
      ]
     },
     "execution_count": 8,
     "metadata": {},
     "output_type": "execute_result"
    }
   ],
   "source": [
    "test_images.shape, test_labels.shape"
   ]
  },
  {
   "cell_type": "code",
   "execution_count": 9,
   "id": "f9ed8fe0",
   "metadata": {
    "execution": {
     "iopub.execute_input": "2022-07-11T10:10:30.013018Z",
     "iopub.status.busy": "2022-07-11T10:10:30.012408Z",
     "iopub.status.idle": "2022-07-11T10:10:30.151196Z",
     "shell.execute_reply": "2022-07-11T10:10:30.151662Z"
    },
    "papermill": {
     "duration": 0.170615,
     "end_time": "2022-07-11T10:10:30.151811",
     "exception": false,
     "start_time": "2022-07-11T10:10:29.981196",
     "status": "completed"
    },
    "tags": []
   },
   "outputs": [
    {
     "name": "stdout",
     "output_type": "stream",
     "text": [
      "2\n"
     ]
    },
    {
     "data": {
      "text/plain": [
       "<matplotlib.image.AxesImage at 0x7fbd88248470>"
      ]
     },
     "execution_count": 9,
     "metadata": {},
     "output_type": "execute_result"
    },
    {
     "data": {
      "image/png": "[encoded data removed]",
      "text/plain": [
       "<Figure size 432x288 with 1 Axes>"
      ]
     },
     "metadata": {
      "needs_background": "light"
     },
     "output_type": "display_data"
    }
   ],
   "source": [
    "image_index = 7776 # You may select anything up to 60,000\n",
    "print(train_labels[image_index]) \n",
    "plt.imshow(train_images[image_index], cmap='Greys')"
   ]
  },
  {
   "cell_type": "markdown",
   "id": "a8d2388d",
   "metadata": {
    "papermill": {
     "duration": 0.026778,
     "end_time": "2022-07-11T10:10:30.206043",
     "exception": false,
     "start_time": "2022-07-11T10:10:30.179265",
     "status": "completed"
    },
    "tags": []
   },
   "source": [
    "## Filter data to get 3 and 8 out"
   ]
  },
  {
   "cell_type": "code",
   "execution_count": 10,
   "id": "776f7fc7",
   "metadata": {
    "execution": {
     "iopub.execute_input": "2022-07-11T10:10:30.269357Z",
     "iopub.status.busy": "2022-07-11T10:10:30.263743Z",
     "iopub.status.idle": "2022-07-11T10:10:30.283943Z",
     "shell.execute_reply": "2022-07-11T10:10:30.283377Z"
    },
    "papermill": {
     "duration": 0.051746,
     "end_time": "2022-07-11T10:10:30.284070",
     "exception": false,
     "start_time": "2022-07-11T10:10:30.232324",
     "status": "completed"
    },
    "tags": []
   },
   "outputs": [],
   "source": [
    "train_filter = np.where((train_labels == 3 ) | (train_labels == 8))\n",
    "test_filter = np.where((test_labels == 3) | (test_labels == 8))\n",
    "X_train, y_train = train_images[train_filter], train_labels[train_filter]\n",
    "X_test, y_test = test_images[test_filter], test_labels[test_filter]"
   ]
  },
  {
   "cell_type": "markdown",
   "id": "948f0b7e",
   "metadata": {
    "papermill": {
     "duration": 0.026526,
     "end_time": "2022-07-11T10:10:30.337191",
     "exception": false,
     "start_time": "2022-07-11T10:10:30.310665",
     "status": "completed"
    },
    "tags": []
   },
   "source": [
    "We normalize the pizel values in the 0 to 1 range"
   ]
  },
  {
   "cell_type": "code",
   "execution_count": 11,
   "id": "ee4c2166",
   "metadata": {
    "execution": {
     "iopub.execute_input": "2022-07-11T10:10:30.394240Z",
     "iopub.status.busy": "2022-07-11T10:10:30.393536Z",
     "iopub.status.idle": "2022-07-11T10:10:30.442831Z",
     "shell.execute_reply": "2022-07-11T10:10:30.442202Z"
    },
    "papermill": {
     "duration": 0.07956,
     "end_time": "2022-07-11T10:10:30.442968",
     "exception": false,
     "start_time": "2022-07-11T10:10:30.363408",
     "status": "completed"
    },
    "tags": []
   },
   "outputs": [],
   "source": [
    "X_train = X_train/255.\n",
    "X_test = X_test/255."
   ]
  },
  {
   "cell_type": "markdown",
   "id": "ddcf4fab",
   "metadata": {
    "papermill": {
     "duration": 0.026731,
     "end_time": "2022-07-11T10:10:30.497164",
     "exception": false,
     "start_time": "2022-07-11T10:10:30.470433",
     "status": "completed"
    },
    "tags": []
   },
   "source": [
    "And setup the labels as 1 (when the digit is 3) and 0 (when the digit is 8)"
   ]
  },
  {
   "cell_type": "code",
   "execution_count": 12,
   "id": "7dc908f2",
   "metadata": {
    "execution": {
     "iopub.execute_input": "2022-07-11T10:10:30.567538Z",
     "iopub.status.busy": "2022-07-11T10:10:30.562482Z",
     "iopub.status.idle": "2022-07-11T10:10:30.570041Z",
     "shell.execute_reply": "2022-07-11T10:10:30.570532Z"
    },
    "papermill": {
     "duration": 0.047165,
     "end_time": "2022-07-11T10:10:30.570684",
     "exception": false,
     "start_time": "2022-07-11T10:10:30.523519",
     "status": "completed"
    },
    "tags": []
   },
   "outputs": [],
   "source": [
    "y_train = 1*(y_train==3)\n",
    "y_test = 1*(y_test==3)"
   ]
  },
  {
   "cell_type": "code",
   "execution_count": 13,
   "id": "01e4e969",
   "metadata": {
    "execution": {
     "iopub.execute_input": "2022-07-11T10:10:30.633846Z",
     "iopub.status.busy": "2022-07-11T10:10:30.633218Z",
     "iopub.status.idle": "2022-07-11T10:10:30.645396Z",
     "shell.execute_reply": "2022-07-11T10:10:30.644922Z"
    },
    "papermill": {
     "duration": 0.048358,
     "end_time": "2022-07-11T10:10:30.645520",
     "exception": false,
     "start_time": "2022-07-11T10:10:30.597162",
     "status": "completed"
    },
    "tags": []
   },
   "outputs": [
    {
     "data": {
      "text/plain": [
       "((11982, 28, 28), (1984, 28, 28))"
      ]
     },
     "execution_count": 13,
     "metadata": {},
     "output_type": "execute_result"
    }
   ],
   "source": [
    "X_train.shape, X_test.shape"
   ]
  },
  {
   "cell_type": "markdown",
   "id": "5ccf3f85",
   "metadata": {
    "papermill": {
     "duration": 0.026525,
     "end_time": "2022-07-11T10:10:30.698473",
     "exception": false,
     "start_time": "2022-07-11T10:10:30.671948",
     "status": "completed"
    },
    "tags": []
   },
   "source": [
    "We reshape the data to flatten the image pixels into a set of features or co-variates:"
   ]
  },
  {
   "cell_type": "code",
   "execution_count": 14,
   "id": "5286a4a3",
   "metadata": {
    "execution": {
     "iopub.execute_input": "2022-07-11T10:10:30.761745Z",
     "iopub.status.busy": "2022-07-11T10:10:30.761144Z",
     "iopub.status.idle": "2022-07-11T10:10:30.772338Z",
     "shell.execute_reply": "2022-07-11T10:10:30.772781Z"
    },
    "papermill": {
     "duration": 0.047816,
     "end_time": "2022-07-11T10:10:30.772929",
     "exception": false,
     "start_time": "2022-07-11T10:10:30.725113",
     "status": "completed"
    },
    "tags": []
   },
   "outputs": [
    {
     "data": {
      "text/plain": [
       "((11982, 784), (1984, 784))"
      ]
     },
     "execution_count": 14,
     "metadata": {},
     "output_type": "execute_result"
    }
   ],
   "source": [
    "X_train = X_train.reshape(X_train.shape[0], -1)\n",
    "X_test = X_test.reshape(X_test.shape[0], -1)\n",
    "X_train.shape, X_test.shape"
   ]
  },
  {
   "cell_type": "code",
   "execution_count": 15,
   "id": "73c5f88a",
   "metadata": {
    "execution": {
     "iopub.execute_input": "2022-07-11T10:10:30.847748Z",
     "iopub.status.busy": "2022-07-11T10:10:30.846361Z",
     "iopub.status.idle": "2022-07-11T10:10:30.856606Z",
     "shell.execute_reply": "2022-07-11T10:10:30.856073Z"
    },
    "papermill": {
     "duration": 0.056793,
     "end_time": "2022-07-11T10:10:30.856741",
     "exception": false,
     "start_time": "2022-07-11T10:10:30.799948",
     "status": "completed"
    },
    "tags": []
   },
   "outputs": [],
   "source": [
    "#Impoting functions from 'Kudzu'\n",
    "from kudzu.model import Model\n",
    "from kudzu.train import Learner\n",
    "from kudzu.optim import GD\n",
    "from kudzu.data import Data, Sampler,Dataloader\n",
    "\n",
    "from kudzu.callbacks import AccCallback\n",
    "from kudzu.callbacks import ClfCallback\n",
    "\n",
    "from kudzu.loss import MSE\n",
    "\n",
    "from kudzu.layer import Sigmoid,Relu\n",
    "from kudzu.layer import Affine"
   ]
  },
  {
   "cell_type": "markdown",
   "id": "bc01172a",
   "metadata": {
    "papermill": {
     "duration": 0.027577,
     "end_time": "2022-07-11T10:10:30.911501",
     "exception": false,
     "start_time": "2022-07-11T10:10:30.883924",
     "status": "completed"
    },
    "tags": []
   },
   "source": [
    "### Let us create a `Config` class, to store important parameters. \n",
    "This class essentially plays the role of a dictionary."
   ]
  },
  {
   "cell_type": "code",
   "execution_count": 16,
   "id": "978281aa",
   "metadata": {
    "execution": {
     "iopub.execute_input": "2022-07-11T10:10:30.971213Z",
     "iopub.status.busy": "2022-07-11T10:10:30.970599Z",
     "iopub.status.idle": "2022-07-11T10:10:30.981980Z",
     "shell.execute_reply": "2022-07-11T10:10:30.981493Z"
    },
    "papermill": {
     "duration": 0.043912,
     "end_time": "2022-07-11T10:10:30.982096",
     "exception": false,
     "start_time": "2022-07-11T10:10:30.938184",
     "status": "completed"
    },
    "tags": []
   },
   "outputs": [],
   "source": [
    "class Config:\n",
    "    pass\n",
    "config = Config()\n",
    "config.lr = 0.001\n",
    "config.num_epochs = 250\n",
    "config.bs = 50"
   ]
  },
  {
   "cell_type": "markdown",
   "id": "1385fa59",
   "metadata": {
    "papermill": {
     "duration": 0.029939,
     "end_time": "2022-07-11T10:10:31.039153",
     "exception": false,
     "start_time": "2022-07-11T10:10:31.009214",
     "status": "completed"
    },
    "tags": []
   },
   "source": [
    "### Running Models with the Training data\n",
    "Details about the network layers:\n",
    "- A first affine layer has 784 inputs and does 100 affine transforms. These are followed by a Relu\n",
    "- A second affine layer has 100 inputs from the 100 activations of the past layer, and does 100 affine transforms. These are followed by a Relu\n",
    "- A third affine layer has 100 activations and does 2 affine transformations to create an embedding for visualization. There is no non-linearity here.\n",
    "- A final \"logistic regression\" which has an affine transform from 2 inputs to 1 output, which is squeezed through a sigmoid.\n"
   ]
  },
  {
   "cell_type": "code",
   "execution_count": 17,
   "id": "2b9c66db",
   "metadata": {
    "execution": {
     "iopub.execute_input": "2022-07-11T10:10:31.101980Z",
     "iopub.status.busy": "2022-07-11T10:10:31.101382Z",
     "iopub.status.idle": "2022-07-11T10:10:31.113705Z",
     "shell.execute_reply": "2022-07-11T10:10:31.113219Z"
    },
    "papermill": {
     "duration": 0.045401,
     "end_time": "2022-07-11T10:10:31.113817",
     "exception": false,
     "start_time": "2022-07-11T10:10:31.068416",
     "status": "completed"
    },
    "tags": []
   },
   "outputs": [],
   "source": [
    "data = Data(X_train, y_train.reshape(-1,1))\n",
    "sampler = Sampler(data, config.bs, shuffle=True)\n",
    "\n",
    "dl = Dataloader(data, sampler)\n",
    "\n",
    "opt = GD(config.lr)\n",
    "loss = MSE()"
   ]
  },
  {
   "cell_type": "code",
   "execution_count": 18,
   "id": "b275e4c2",
   "metadata": {
    "execution": {
     "iopub.execute_input": "2022-07-11T10:10:31.181904Z",
     "iopub.status.busy": "2022-07-11T10:10:31.177085Z",
     "iopub.status.idle": "2022-07-11T10:10:31.186241Z",
     "shell.execute_reply": "2022-07-11T10:10:31.185735Z"
    },
    "papermill": {
     "duration": 0.045834,
     "end_time": "2022-07-11T10:10:31.186358",
     "exception": false,
     "start_time": "2022-07-11T10:10:31.140524",
     "status": "completed"
    },
    "tags": []
   },
   "outputs": [],
   "source": [
    "training_data_x = X_train\n",
    "testing_data_x = X_test\n",
    "training_data_y = y_train.reshape(-1,1)\n",
    "testing_data_y = y_test.reshape(-1,1)"
   ]
  },
  {
   "cell_type": "code",
   "execution_count": 19,
   "id": "76951160",
   "metadata": {
    "execution": {
     "iopub.execute_input": "2022-07-11T10:10:31.249060Z",
     "iopub.status.busy": "2022-07-11T10:10:31.245885Z",
     "iopub.status.idle": "2022-07-11T10:10:31.262359Z",
     "shell.execute_reply": "2022-07-11T10:10:31.262812Z"
    },
    "papermill": {
     "duration": 0.049559,
     "end_time": "2022-07-11T10:10:31.262981",
     "exception": false,
     "start_time": "2022-07-11T10:10:31.213422",
     "status": "completed"
    },
    "tags": []
   },
   "outputs": [
    {
     "name": "stdout",
     "output_type": "stream",
     "text": [
      "xavier\n",
      "xavier\n",
      "xavier\n",
      "xavier\n",
      "xavier\n"
     ]
    }
   ],
   "source": [
    "layers = [Affine(\"first\", 784, 100), Relu(\"first\"), Affine(\"second\", 100, 100), Relu(\"second\"), Affine(\"third\", 100, 2), Affine(\"last\", 2, 1), Sigmoid(\"last\")]\n",
    "model_nn = Model(layers)\n",
    "model_lr = Model([Affine(\"logits\", 784, 1), Sigmoid(\"sigmoid\")])"
   ]
  },
  {
   "cell_type": "code",
   "execution_count": 20,
   "id": "6eede77a",
   "metadata": {
    "execution": {
     "iopub.execute_input": "2022-07-11T10:10:31.332129Z",
     "iopub.status.busy": "2022-07-11T10:10:31.320905Z",
     "iopub.status.idle": "2022-07-11T10:10:31.336698Z",
     "shell.execute_reply": "2022-07-11T10:10:31.336162Z"
    },
    "papermill": {
     "duration": 0.046505,
     "end_time": "2022-07-11T10:10:31.336809",
     "exception": false,
     "start_time": "2022-07-11T10:10:31.290304",
     "status": "completed"
    },
    "tags": []
   },
   "outputs": [],
   "source": [
    "nn_learner = Learner(loss, model_nn, opt, config.num_epochs)\n",
    "acc_nn = ClfCallback(nn_learner, config.bs, training_data_x , testing_data_x, training_data_y, testing_data_y)\n",
    "nn_learner.set_callbacks([acc_nn])"
   ]
  },
  {
   "cell_type": "code",
   "execution_count": 21,
   "id": "877b6cc7",
   "metadata": {
    "execution": {
     "iopub.execute_input": "2022-07-11T10:10:31.406577Z",
     "iopub.status.busy": "2022-07-11T10:10:31.402008Z",
     "iopub.status.idle": "2022-07-11T10:10:31.410887Z",
     "shell.execute_reply": "2022-07-11T10:10:31.411344Z"
    },
    "papermill": {
     "duration": 0.047982,
     "end_time": "2022-07-11T10:10:31.411491",
     "exception": false,
     "start_time": "2022-07-11T10:10:31.363509",
     "status": "completed"
    },
    "tags": []
   },
   "outputs": [],
   "source": [
    "lr_learner = Learner(loss, model_lr, opt, config.num_epochs)\n",
    "acc_lr = ClfCallback(lr_learner, config.bs, training_data_x , testing_data_x, training_data_y, testing_data_y)\n",
    "lr_learner.set_callbacks([acc_lr])"
   ]
  },
  {
   "cell_type": "code",
   "execution_count": 22,
   "id": "d9b133c3",
   "metadata": {
    "execution": {
     "iopub.execute_input": "2022-07-11T10:10:31.480650Z",
     "iopub.status.busy": "2022-07-11T10:10:31.472245Z",
     "iopub.status.idle": "2022-07-11T10:11:50.893890Z",
     "shell.execute_reply": "2022-07-11T10:11:50.894780Z"
    },
    "papermill": {
     "duration": 79.456171,
     "end_time": "2022-07-11T10:11:50.894940",
     "exception": false,
     "start_time": "2022-07-11T10:10:31.438769",
     "status": "completed"
    },
    "tags": []
   },
   "outputs": [
    {
     "name": "stdout",
     "output_type": "stream",
     "text": [
      "Epoch 0, Loss 0.2491\n",
      "Training Accuracy: 0.6092, Testing Accuracy: 0.6371\n",
      "\n"
     ]
    },
    {
     "name": "stdout",
     "output_type": "stream",
     "text": [
      "Epoch 10, Loss 0.1233\n",
      "Training Accuracy: 0.9012, Testing Accuracy: 0.9148\n",
      "\n"
     ]
    },
    {
     "name": "stdout",
     "output_type": "stream",
     "text": [
      "Epoch 20, Loss 0.0677\n",
      "Training Accuracy: 0.9299, Testing Accuracy: 0.9451\n",
      "\n"
     ]
    },
    {
     "name": "stdout",
     "output_type": "stream",
     "text": [
      "Epoch 30, Loss 0.05\n",
      "Training Accuracy: 0.9466, Testing Accuracy: 0.9556\n",
      "\n"
     ]
    },
    {
     "name": "stdout",
     "output_type": "stream",
     "text": [
      "Epoch 40, Loss 0.0416\n",
      "Training Accuracy: 0.9547, Testing Accuracy: 0.9612\n",
      "\n"
     ]
    },
    {
     "name": "stdout",
     "output_type": "stream",
     "text": [
      "Epoch 50, Loss 0.0367\n",
      "Training Accuracy: 0.9586, Testing Accuracy: 0.9657\n",
      "\n"
     ]
    },
    {
     "name": "stdout",
     "output_type": "stream",
     "text": [
      "Epoch 60, Loss 0.0336\n",
      "Training Accuracy: 0.9623, Testing Accuracy: 0.9667\n",
      "\n"
     ]
    },
    {
     "name": "stdout",
     "output_type": "stream",
     "text": [
      "Epoch 70, Loss 0.0314\n",
      "Training Accuracy: 0.9643, Testing Accuracy: 0.9662\n",
      "\n"
     ]
    },
    {
     "name": "stdout",
     "output_type": "stream",
     "text": [
      "Epoch 80, Loss 0.0297\n",
      "Training Accuracy: 0.9660, Testing Accuracy: 0.9672\n",
      "\n"
     ]
    },
    {
     "name": "stdout",
     "output_type": "stream",
     "text": [
      "Epoch 90, Loss 0.0283\n",
      "Training Accuracy: 0.9671, Testing Accuracy: 0.9682\n",
      "\n"
     ]
    },
    {
     "name": "stdout",
     "output_type": "stream",
     "text": [
      "Epoch 100, Loss 0.0272\n",
      "Training Accuracy: 0.9680, Testing Accuracy: 0.9688\n",
      "\n"
     ]
    },
    {
     "name": "stdout",
     "output_type": "stream",
     "text": [
      "Epoch 110, Loss 0.0262\n",
      "Training Accuracy: 0.9695, Testing Accuracy: 0.9693\n",
      "\n"
     ]
    },
    {
     "name": "stdout",
     "output_type": "stream",
     "text": [
      "Epoch 120, Loss 0.0254\n",
      "Training Accuracy: 0.9702, Testing Accuracy: 0.9693\n",
      "\n"
     ]
    },
    {
     "name": "stdout",
     "output_type": "stream",
     "text": [
      "Epoch 130, Loss 0.0246\n",
      "Training Accuracy: 0.9715, Testing Accuracy: 0.9698\n",
      "\n"
     ]
    },
    {
     "name": "stdout",
     "output_type": "stream",
     "text": [
      "Epoch 140, Loss 0.024\n",
      "Training Accuracy: 0.9722, Testing Accuracy: 0.9698\n",
      "\n"
     ]
    },
    {
     "name": "stdout",
     "output_type": "stream",
     "text": [
      "Epoch 150, Loss 0.0234\n",
      "Training Accuracy: 0.9730, Testing Accuracy: 0.9708\n",
      "\n"
     ]
    },
    {
     "name": "stdout",
     "output_type": "stream",
     "text": [
      "Epoch 160, Loss 0.0228\n",
      "Training Accuracy: 0.9741, Testing Accuracy: 0.9703\n",
      "\n"
     ]
    },
    {
     "name": "stdout",
     "output_type": "stream",
     "text": [
      "Epoch 170, Loss 0.0223\n",
      "Training Accuracy: 0.9742, Testing Accuracy: 0.9698\n",
      "\n"
     ]
    },
    {
     "name": "stdout",
     "output_type": "stream",
     "text": [
      "Epoch 180, Loss 0.0218\n",
      "Training Accuracy: 0.9754, Testing Accuracy: 0.9708\n",
      "\n"
     ]
    },
    {
     "name": "stdout",
     "output_type": "stream",
     "text": [
      "Epoch 190, Loss 0.0213\n",
      "Training Accuracy: 0.9755, Testing Accuracy: 0.9713\n",
      "\n"
     ]
    },
    {
     "name": "stdout",
     "output_type": "stream",
     "text": [
      "Epoch 200, Loss 0.0209\n",
      "Training Accuracy: 0.9762, Testing Accuracy: 0.9708\n",
      "\n"
     ]
    },
    {
     "name": "stdout",
     "output_type": "stream",
     "text": [
      "Epoch 210, Loss 0.0205\n",
      "Training Accuracy: 0.9771, Testing Accuracy: 0.9708\n",
      "\n"
     ]
    },
    {
     "name": "stdout",
     "output_type": "stream",
     "text": [
      "Epoch 220, Loss 0.0201\n",
      "Training Accuracy: 0.9777, Testing Accuracy: 0.9708\n",
      "\n"
     ]
    },
    {
     "name": "stdout",
     "output_type": "stream",
     "text": [
      "Epoch 230, Loss 0.0197\n",
      "Training Accuracy: 0.9784, Testing Accuracy: 0.9708\n",
      "\n"
     ]
    },
    {
     "name": "stdout",
     "output_type": "stream",
     "text": [
      "Epoch 240, Loss 0.0194\n",
      "Training Accuracy: 0.9790, Testing Accuracy: 0.9713\n",
      "\n"
     ]
    },
    {
     "data": {
      "text/plain": [
       "0.03362589692319333"
      ]
     },
     "execution_count": 22,
     "metadata": {},
     "output_type": "execute_result"
    }
   ],
   "source": [
    "nn_learner.train_loop(dl)"
   ]
  },
  {
   "cell_type": "code",
   "execution_count": 23,
   "id": "e0163366",
   "metadata": {
    "execution": {
     "iopub.execute_input": "2022-07-11T10:11:50.973798Z",
     "iopub.status.busy": "2022-07-11T10:11:50.973207Z",
     "iopub.status.idle": "2022-07-11T10:12:05.265054Z",
     "shell.execute_reply": "2022-07-11T10:12:05.265909Z"
    },
    "papermill": {
     "duration": 14.336683,
     "end_time": "2022-07-11T10:12:05.266070",
     "exception": false,
     "start_time": "2022-07-11T10:11:50.929387",
     "status": "completed"
    },
    "tags": []
   },
   "outputs": [
    {
     "name": "stdout",
     "output_type": "stream",
     "text": [
      "Epoch 0, Loss 0.2524\n",
      "Training Accuracy: 0.6581, Testing Accuracy: 0.6144\n",
      "\n"
     ]
    },
    {
     "name": "stdout",
     "output_type": "stream",
     "text": [
      "Epoch 10, Loss 0.1048\n",
      "Training Accuracy: 0.9050, Testing Accuracy: 0.9083\n",
      "\n"
     ]
    },
    {
     "name": "stdout",
     "output_type": "stream",
     "text": [
      "Epoch 20, Loss 0.0799\n",
      "Training Accuracy: 0.9273, Testing Accuracy: 0.9289\n",
      "\n"
     ]
    },
    {
     "name": "stdout",
     "output_type": "stream",
     "text": [
      "Epoch 30, Loss 0.0685\n",
      "Training Accuracy: 0.9347, Testing Accuracy: 0.9456\n",
      "\n"
     ]
    },
    {
     "name": "stdout",
     "output_type": "stream",
     "text": [
      "Epoch 40, Loss 0.0616\n",
      "Training Accuracy: 0.9401, Testing Accuracy: 0.9491\n",
      "\n"
     ]
    },
    {
     "name": "stdout",
     "output_type": "stream",
     "text": [
      "Epoch 50, Loss 0.057\n",
      "Training Accuracy: 0.9432, Testing Accuracy: 0.9516\n",
      "\n"
     ]
    },
    {
     "name": "stdout",
     "output_type": "stream",
     "text": [
      "Epoch 60, Loss 0.0536\n",
      "Training Accuracy: 0.9462, Testing Accuracy: 0.9546\n",
      "\n"
     ]
    },
    {
     "name": "stdout",
     "output_type": "stream",
     "text": [
      "Epoch 70, Loss 0.051\n",
      "Training Accuracy: 0.9492, Testing Accuracy: 0.9587\n",
      "\n"
     ]
    },
    {
     "name": "stdout",
     "output_type": "stream",
     "text": [
      "Epoch 80, Loss 0.0489\n",
      "Training Accuracy: 0.9508, Testing Accuracy: 0.9592\n",
      "\n"
     ]
    },
    {
     "name": "stdout",
     "output_type": "stream",
     "text": [
      "Epoch 90, Loss 0.0472\n",
      "Training Accuracy: 0.9524, Testing Accuracy: 0.9607\n",
      "\n"
     ]
    },
    {
     "name": "stdout",
     "output_type": "stream",
     "text": [
      "Epoch 100, Loss 0.0458\n",
      "Training Accuracy: 0.9532, Testing Accuracy: 0.9617\n",
      "\n"
     ]
    },
    {
     "name": "stdout",
     "output_type": "stream",
     "text": [
      "Epoch 110, Loss 0.0446\n",
      "Training Accuracy: 0.9541, Testing Accuracy: 0.9622\n",
      "\n"
     ]
    },
    {
     "name": "stdout",
     "output_type": "stream",
     "text": [
      "Epoch 120, Loss 0.0435\n",
      "Training Accuracy: 0.9553, Testing Accuracy: 0.9642\n",
      "\n"
     ]
    },
    {
     "name": "stdout",
     "output_type": "stream",
     "text": [
      "Epoch 130, Loss 0.0426\n",
      "Training Accuracy: 0.9558, Testing Accuracy: 0.9647\n",
      "\n"
     ]
    },
    {
     "name": "stdout",
     "output_type": "stream",
     "text": [
      "Epoch 140, Loss 0.0417\n",
      "Training Accuracy: 0.9561, Testing Accuracy: 0.9657\n",
      "\n"
     ]
    },
    {
     "name": "stdout",
     "output_type": "stream",
     "text": [
      "Epoch 150, Loss 0.041\n",
      "Training Accuracy: 0.9569, Testing Accuracy: 0.9667\n",
      "\n"
     ]
    },
    {
     "name": "stdout",
     "output_type": "stream",
     "text": [
      "Epoch 160, Loss 0.0403\n",
      "Training Accuracy: 0.9577, Testing Accuracy: 0.9667\n",
      "\n"
     ]
    },
    {
     "name": "stdout",
     "output_type": "stream",
     "text": [
      "Epoch 170, Loss 0.0397\n",
      "Training Accuracy: 0.9579, Testing Accuracy: 0.9667\n",
      "\n"
     ]
    },
    {
     "name": "stdout",
     "output_type": "stream",
     "text": [
      "Epoch 180, Loss 0.0391\n",
      "Training Accuracy: 0.9585, Testing Accuracy: 0.9662\n",
      "\n"
     ]
    },
    {
     "name": "stdout",
     "output_type": "stream",
     "text": [
      "Epoch 190, Loss 0.0386\n",
      "Training Accuracy: 0.9591, Testing Accuracy: 0.9662\n",
      "\n"
     ]
    },
    {
     "name": "stdout",
     "output_type": "stream",
     "text": [
      "Epoch 200, Loss 0.0381\n",
      "Training Accuracy: 0.9593, Testing Accuracy: 0.9662\n",
      "\n"
     ]
    },
    {
     "name": "stdout",
     "output_type": "stream",
     "text": [
      "Epoch 210, Loss 0.0377\n",
      "Training Accuracy: 0.9596, Testing Accuracy: 0.9662\n",
      "\n"
     ]
    },
    {
     "name": "stdout",
     "output_type": "stream",
     "text": [
      "Epoch 220, Loss 0.0373\n",
      "Training Accuracy: 0.9601, Testing Accuracy: 0.9662\n",
      "\n"
     ]
    },
    {
     "name": "stdout",
     "output_type": "stream",
     "text": [
      "Epoch 230, Loss 0.0369\n",
      "Training Accuracy: 0.9607, Testing Accuracy: 0.9667\n",
      "\n"
     ]
    },
    {
     "name": "stdout",
     "output_type": "stream",
     "text": [
      "Epoch 240, Loss 0.0366\n",
      "Training Accuracy: 0.9613, Testing Accuracy: 0.9662\n",
      "\n"
     ]
    },
    {
     "data": {
      "text/plain": [
       "0.020138344483283405"
      ]
     },
     "execution_count": 23,
     "metadata": {},
     "output_type": "execute_result"
    }
   ],
   "source": [
    "lr_learner.train_loop(dl)"
   ]
  },
  {
   "cell_type": "code",
   "execution_count": 24,
   "id": "ca410940",
   "metadata": {
    "execution": {
     "iopub.execute_input": "2022-07-11T10:12:05.361842Z",
     "iopub.status.busy": "2022-07-11T10:12:05.361230Z",
     "iopub.status.idle": "2022-07-11T10:12:05.598005Z",
     "shell.execute_reply": "2022-07-11T10:12:05.597494Z"
    },
    "papermill": {
     "duration": 0.290095,
     "end_time": "2022-07-11T10:12:05.598135",
     "exception": false,
     "start_time": "2022-07-11T10:12:05.308040",
     "status": "completed"
    },
    "tags": []
   },
   "outputs": [
    {
     "data": {
      "text/plain": [
       "<matplotlib.legend.Legend at 0x7fbd87da8ac8>"
      ]
     },
     "execution_count": 24,
     "metadata": {},
     "output_type": "execute_result"
    },
    {
     "data": {
      "image/png": "[encoded data removed]",
      "text/plain": [
       "<Figure size 1080x720 with 1 Axes>"
      ]
     },
     "metadata": {
      "needs_background": "light"
     },
     "output_type": "display_data"
    }
   ],
   "source": [
    "#comparing the results of NN and LR\n",
    "plt.figure(figsize=(15,10))\n",
    "\n",
    "# Neural Network plots\n",
    "plt.plot(acc_nn.accuracies, 'r-', label = \"Training Accuracies - NN\")\n",
    "plt.plot(acc_nn.test_accuracies, 'g-', label = \"Testing Accuracies - NN\")\n",
    "\n",
    "# Logistic Regression plots\n",
    "plt.plot(acc_lr.accuracies, 'k-', label = \"Training Accuracies - LR\")\n",
    "plt.plot(acc_lr.test_accuracies, 'b-', label = \"Testing Accuracies - LR\")\n",
    "plt.legend()"
   ]
  },
  {
   "cell_type": "markdown",
   "id": "80dfb35c",
   "metadata": {
    "papermill": {
     "duration": 0.042224,
     "end_time": "2022-07-11T10:12:05.682516",
     "exception": false,
     "start_time": "2022-07-11T10:12:05.640292",
     "status": "completed"
    },
    "tags": []
   },
   "source": [
    "#### Plotting the outputs of this layer of the NN.\n"
   ]
  },
  {
   "cell_type": "code",
   "execution_count": 25,
   "id": "45eb2ff5",
   "metadata": {
    "execution": {
     "iopub.execute_input": "2022-07-11T10:12:05.774781Z",
     "iopub.status.busy": "2022-07-11T10:12:05.774154Z",
     "iopub.status.idle": "2022-07-11T10:12:05.793356Z",
     "shell.execute_reply": "2022-07-11T10:12:05.792816Z"
    },
    "papermill": {
     "duration": 0.069136,
     "end_time": "2022-07-11T10:12:05.793483",
     "exception": false,
     "start_time": "2022-07-11T10:12:05.724347",
     "status": "completed"
    },
    "tags": []
   },
   "outputs": [],
   "source": [
    "new_model = Model(layers[:-2])\n",
    "testing_plot = new_model(testing_data_x)"
   ]
  },
  {
   "cell_type": "code",
   "execution_count": 26,
   "id": "4c0a5485",
   "metadata": {
    "execution": {
     "iopub.execute_input": "2022-07-11T10:12:05.883808Z",
     "iopub.status.busy": "2022-07-11T10:12:05.883205Z",
     "iopub.status.idle": "2022-07-11T10:12:06.077495Z",
     "shell.execute_reply": "2022-07-11T10:12:06.076986Z"
    },
    "papermill": {
     "duration": 0.241934,
     "end_time": "2022-07-11T10:12:06.077620",
     "exception": false,
     "start_time": "2022-07-11T10:12:05.835686",
     "status": "completed"
    },
    "tags": []
   },
   "outputs": [
    {
     "data": {
      "text/plain": [
       "Text(0.5, 1.0, 'Outputs')"
      ]
     },
     "execution_count": 26,
     "metadata": {},
     "output_type": "execute_result"
    },
    {
     "data": {
      "image/png": "[encoded data removed]",
      "text/plain": [
       "<Figure size 576x504 with 1 Axes>"
      ]
     },
     "metadata": {
      "needs_background": "light"
     },
     "output_type": "display_data"
    }
   ],
   "source": [
    "# Plotting the scatter plot of points and color coding by class\n",
    "plt.figure(figsize=(8,7))\n",
    "plt.scatter(testing_plot[:,0], testing_plot[:,1], alpha = 0.1, c = y_test.ravel());\n",
    "plt.title('Outputs')"
   ]
  },
  {
   "cell_type": "markdown",
   "id": "a74fcf8f",
   "metadata": {
    "papermill": {
     "duration": 0.043712,
     "end_time": "2022-07-11T10:12:06.165322",
     "exception": false,
     "start_time": "2022-07-11T10:12:06.121610",
     "status": "completed"
    },
    "tags": []
   },
   "source": [
    "Probability contours"
   ]
  },
  {
   "cell_type": "code",
   "execution_count": 27,
   "id": "d0afc8e3",
   "metadata": {
    "execution": {
     "iopub.execute_input": "2022-07-11T10:12:06.257896Z",
     "iopub.status.busy": "2022-07-11T10:12:06.257297Z",
     "iopub.status.idle": "2022-07-11T10:12:06.269984Z",
     "shell.execute_reply": "2022-07-11T10:12:06.269497Z"
    },
    "papermill": {
     "duration": 0.06082,
     "end_time": "2022-07-11T10:12:06.270099",
     "exception": false,
     "start_time": "2022-07-11T10:12:06.209279",
     "status": "completed"
    },
    "tags": []
   },
   "outputs": [],
   "source": [
    "model_prob = Model(layers[-2:]) "
   ]
  },
  {
   "cell_type": "code",
   "execution_count": 28,
   "id": "9b96e238",
   "metadata": {
    "execution": {
     "iopub.execute_input": "2022-07-11T10:12:06.364465Z",
     "iopub.status.busy": "2022-07-11T10:12:06.363797Z",
     "iopub.status.idle": "2022-07-11T10:12:06.378518Z",
     "shell.execute_reply": "2022-07-11T10:12:06.378972Z"
    },
    "papermill": {
     "duration": 0.06467,
     "end_time": "2022-07-11T10:12:06.379123",
     "exception": false,
     "start_time": "2022-07-11T10:12:06.314453",
     "status": "completed"
    },
    "tags": []
   },
   "outputs": [],
   "source": [
    "#creating the x and y ranges according to the above generated plot.\n",
    "x_range = np.linspace(-4, 1, 100) \n",
    "y_range = np.linspace(-6, 6, 100) \n",
    "x_grid, y_grid = np.meshgrid(x_range, y_range) # x_grid and y_grig are of size 100 X 100\n",
    "\n",
    "# converting x_grid and y_grid to continuous arrays\n",
    "x_gridflat = np.ravel(x_grid)\n",
    "y_gridflat = np.ravel(y_grid)\n",
    "\n",
    "# The last layer of the current model takes two columns as input. Hence transpose of np.vstack() is required.\n",
    "X = np.vstack((x_gridflat, y_gridflat)).T\n",
    "\n",
    "prob_contour = model_prob(X).reshape(100,100) "
   ]
  },
  {
   "cell_type": "code",
   "execution_count": 29,
   "id": "da72499a",
   "metadata": {
    "execution": {
     "iopub.execute_input": "2022-07-11T10:12:06.509196Z",
     "iopub.status.busy": "2022-07-11T10:12:06.508479Z",
     "iopub.status.idle": "2022-07-11T10:12:06.750566Z",
     "shell.execute_reply": "2022-07-11T10:12:06.751017Z"
    },
    "papermill": {
     "duration": 0.291362,
     "end_time": "2022-07-11T10:12:06.751163",
     "exception": false,
     "start_time": "2022-07-11T10:12:06.459801",
     "status": "completed"
    },
    "tags": []
   },
   "outputs": [
    {
     "data": {
      "image/png": "[encoded data removed]",
      "text/plain": [
       "<Figure size 720x648 with 1 Axes>"
      ]
     },
     "metadata": {
      "needs_background": "light"
     },
     "output_type": "display_data"
    }
   ],
   "source": [
    "plt.figure(figsize=(10,9))\n",
    "plt.scatter(testing_plot[:,0], testing_plot[:,1], alpha = 0.1, c = y_test.ravel())\n",
    "contours = plt.contour(x_grid,y_grid,prob_contour)\n",
    "plt.title('Probability Contours')\n",
    "plt.clabel(contours, inline = True );"
   ]
  },
  {
   "cell_type": "code",
   "execution_count": null,
   "id": "e81b4ac7",
   "metadata": {
    "papermill": {
     "duration": 0.047026,
     "end_time": "2022-07-11T10:12:06.845447",
     "exception": false,
     "start_time": "2022-07-11T10:12:06.798421",
     "status": "completed"
    },
    "tags": []
   },
   "outputs": [],
   "source": []
  }
 ],
 "metadata": {
  "kernelspec": {
   "display_name": "Python 3",
   "language": "python",
   "name": "python3"
  },
  "language_info": {
   "codemirror_mode": {
    "name": "ipython",
    "version": 3
   },
   "file_extension": ".py",
   "mimetype": "text/x-python",
   "name": "python",
   "nbconvert_exporter": "python",
   "pygments_lexer": "ipython3",
   "version": "3.6.15"
  },
  "papermill": {
   "default_parameters": {},
   "duration": 102.338361,
   "end_time": "2022-07-11T10:12:07.312274",
   "environment_variables": {},
   "exception": null,
   "input_path": "2020-08-11-part2.ipynb",
   "output_path": "2020-08-11-part2.ipynb",
   "parameters": {},
   "start_time": "2022-07-11T10:10:24.973913",
   "version": "2.3.3"
  }
 },
 "nbformat": 4,
 "nbformat_minor": 5
}