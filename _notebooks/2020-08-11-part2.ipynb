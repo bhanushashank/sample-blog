{
 "cells": [
  {
   "cell_type": "markdown",
   "id": "98380cd3",
   "metadata": {
    "papermill": {
     "duration": 0.02994,
     "end_time": "2022-08-17T10:10:41.892907",
     "exception": false,
     "start_time": "2022-08-17T10:10:41.862967",
     "status": "completed"
    },
    "tags": []
   },
   "source": [
    "# Distinguish Your Own Digits (DYOD)"
   ]
  },
  {
   "cell_type": "markdown",
   "id": "ef31240d",
   "metadata": {
    "papermill": {
     "duration": 0.023909,
     "end_time": "2022-08-17T10:10:41.941522",
     "exception": false,
     "start_time": "2022-08-17T10:10:41.917613",
     "status": "completed"
    },
    "tags": []
   },
   "source": [
    "You are going to write a classifier that distinguishes between the number 3 and number 8."
   ]
  },
  {
   "cell_type": "code",
   "execution_count": 1,
   "id": "b15c8646",
   "metadata": {
    "execution": {
     "iopub.execute_input": "2022-08-17T10:10:42.000272Z",
     "iopub.status.busy": "2022-08-17T10:10:41.999656Z",
     "iopub.status.idle": "2022-08-17T10:10:42.010741Z",
     "shell.execute_reply": "2022-08-17T10:10:42.010241Z"
    },
    "papermill": {
     "duration": 0.045379,
     "end_time": "2022-08-17T10:10:42.010871",
     "exception": false,
     "start_time": "2022-08-17T10:10:41.965492",
     "status": "completed"
    },
    "tags": []
   },
   "outputs": [],
   "source": [
    "%load_ext autoreload\n",
    "%autoreload 2"
   ]
  },
  {
   "cell_type": "code",
   "execution_count": 2,
   "id": "22ef38dc",
   "metadata": {
    "execution": {
     "iopub.execute_input": "2022-08-17T10:10:42.063298Z",
     "iopub.status.busy": "2022-08-17T10:10:42.062694Z",
     "iopub.status.idle": "2022-08-17T10:10:42.633915Z",
     "shell.execute_reply": "2022-08-17T10:10:42.633320Z"
    },
    "papermill": {
     "duration": 0.599175,
     "end_time": "2022-08-17T10:10:42.634058",
     "exception": false,
     "start_time": "2022-08-17T10:10:42.034883",
     "status": "completed"
    },
    "tags": []
   },
   "outputs": [],
   "source": [
    "%matplotlib inline\n",
    "import numpy as np\n",
    "import matplotlib.pyplot as plt\n",
    "import pandas as pd"
   ]
  },
  {
   "cell_type": "markdown",
   "id": "ba036198",
   "metadata": {
    "papermill": {
     "duration": 0.024124,
     "end_time": "2022-08-17T10:10:42.682951",
     "exception": false,
     "start_time": "2022-08-17T10:10:42.658827",
     "status": "completed"
    },
    "tags": []
   },
   "source": [
    "From the command line run `pip install mnist`. This is a library that will help you bring down the mnist dataset. If you run this from a notebook, you need to put  `!pip install mnist` in a cell by itself."
   ]
  },
  {
   "cell_type": "code",
   "execution_count": 3,
   "id": "bb6ad8a1",
   "metadata": {
    "execution": {
     "iopub.execute_input": "2022-08-17T10:10:42.742412Z",
     "iopub.status.busy": "2022-08-17T10:10:42.741788Z",
     "iopub.status.idle": "2022-08-17T10:10:44.374134Z",
     "shell.execute_reply": "2022-08-17T10:10:44.374698Z"
    },
    "papermill": {
     "duration": 1.667673,
     "end_time": "2022-08-17T10:10:44.374865",
     "exception": false,
     "start_time": "2022-08-17T10:10:42.707192",
     "status": "completed"
    },
    "tags": []
   },
   "outputs": [
    {
     "name": "stdout",
     "output_type": "stream",
     "text": [
      "Collecting mnist\r\n"
     ]
    },
    {
     "name": "stdout",
     "output_type": "stream",
     "text": [
      "  Downloading mnist-0.2.2-py2.py3-none-any.whl (3.5 kB)\r\n",
      "Requirement already satisfied: numpy in /opt/hostedtoolcache/Python/3.6.15/x64/lib/python3.6/site-packages (from mnist) (1.19.5)\r\n"
     ]
    },
    {
     "name": "stdout",
     "output_type": "stream",
     "text": [
      "Installing collected packages: mnist\r\n"
     ]
    },
    {
     "name": "stdout",
     "output_type": "stream",
     "text": [
      "Successfully installed mnist-0.2.2\r\n"
     ]
    }
   ],
   "source": [
    "!pip install mnist"
   ]
  },
  {
   "cell_type": "markdown",
   "id": "69df9c9a",
   "metadata": {
    "papermill": {
     "duration": 0.025851,
     "end_time": "2022-08-17T10:10:44.426186",
     "exception": false,
     "start_time": "2022-08-17T10:10:44.400335",
     "status": "completed"
    },
    "tags": []
   },
   "source": [
    "## Preparing the Data"
   ]
  },
  {
   "cell_type": "code",
   "execution_count": 4,
   "id": "7f69d806",
   "metadata": {
    "execution": {
     "iopub.execute_input": "2022-08-17T10:10:44.485673Z",
     "iopub.status.busy": "2022-08-17T10:10:44.480793Z",
     "iopub.status.idle": "2022-08-17T10:10:44.495701Z",
     "shell.execute_reply": "2022-08-17T10:10:44.495206Z"
    },
    "papermill": {
     "duration": 0.04453,
     "end_time": "2022-08-17T10:10:44.495819",
     "exception": false,
     "start_time": "2022-08-17T10:10:44.451289",
     "status": "completed"
    },
    "tags": []
   },
   "outputs": [],
   "source": [
    "import mnist"
   ]
  },
  {
   "cell_type": "code",
   "execution_count": 5,
   "id": "a411e44f",
   "metadata": {
    "execution": {
     "iopub.execute_input": "2022-08-17T10:10:44.550833Z",
     "iopub.status.busy": "2022-08-17T10:10:44.550221Z",
     "iopub.status.idle": "2022-08-17T10:10:45.080180Z",
     "shell.execute_reply": "2022-08-17T10:10:45.079525Z"
    },
    "papermill": {
     "duration": 0.559017,
     "end_time": "2022-08-17T10:10:45.080320",
     "exception": false,
     "start_time": "2022-08-17T10:10:44.521303",
     "status": "completed"
    },
    "tags": []
   },
   "outputs": [],
   "source": [
    "train_images = mnist.train_images()\n",
    "train_labels = mnist.train_labels()"
   ]
  },
  {
   "cell_type": "code",
   "execution_count": 6,
   "id": "dceab3a5",
   "metadata": {
    "execution": {
     "iopub.execute_input": "2022-08-17T10:10:45.139251Z",
     "iopub.status.busy": "2022-08-17T10:10:45.138537Z",
     "iopub.status.idle": "2022-08-17T10:10:45.151464Z",
     "shell.execute_reply": "2022-08-17T10:10:45.151948Z"
    },
    "papermill": {
     "duration": 0.045838,
     "end_time": "2022-08-17T10:10:45.152088",
     "exception": false,
     "start_time": "2022-08-17T10:10:45.106250",
     "status": "completed"
    },
    "tags": []
   },
   "outputs": [
    {
     "data": {
      "text/plain": [
       "((60000, 28, 28), (60000,))"
      ]
     },
     "execution_count": 6,
     "metadata": {},
     "output_type": "execute_result"
    }
   ],
   "source": [
    "train_images.shape, train_labels.shape"
   ]
  },
  {
   "cell_type": "code",
   "execution_count": 7,
   "id": "f50dc2bb",
   "metadata": {
    "execution": {
     "iopub.execute_input": "2022-08-17T10:10:45.210628Z",
     "iopub.status.busy": "2022-08-17T10:10:45.210029Z",
     "iopub.status.idle": "2022-08-17T10:10:45.362605Z",
     "shell.execute_reply": "2022-08-17T10:10:45.362001Z"
    },
    "papermill": {
     "duration": 0.185287,
     "end_time": "2022-08-17T10:10:45.362739",
     "exception": false,
     "start_time": "2022-08-17T10:10:45.177452",
     "status": "completed"
    },
    "tags": []
   },
   "outputs": [],
   "source": [
    "test_images = mnist.test_images()\n",
    "test_labels = mnist.test_labels()"
   ]
  },
  {
   "cell_type": "code",
   "execution_count": 8,
   "id": "fc38cf1b",
   "metadata": {
    "execution": {
     "iopub.execute_input": "2022-08-17T10:10:45.418929Z",
     "iopub.status.busy": "2022-08-17T10:10:45.418335Z",
     "iopub.status.idle": "2022-08-17T10:10:45.432087Z",
     "shell.execute_reply": "2022-08-17T10:10:45.432633Z"
    },
    "papermill": {
     "duration": 0.044483,
     "end_time": "2022-08-17T10:10:45.432770",
     "exception": false,
     "start_time": "2022-08-17T10:10:45.388287",
     "status": "completed"
    },
    "tags": []
   },
   "outputs": [
    {
     "data": {
      "text/plain": [
       "((10000, 28, 28), (10000,))"
      ]
     },
     "execution_count": 8,
     "metadata": {},
     "output_type": "execute_result"
    }
   ],
   "source": [
    "test_images.shape, test_labels.shape"
   ]
  },
  {
   "cell_type": "code",
   "execution_count": 9,
   "id": "f9ed8fe0",
   "metadata": {
    "execution": {
     "iopub.execute_input": "2022-08-17T10:10:45.493568Z",
     "iopub.status.busy": "2022-08-17T10:10:45.492887Z",
     "iopub.status.idle": "2022-08-17T10:10:45.634018Z",
     "shell.execute_reply": "2022-08-17T10:10:45.633459Z"
    },
    "papermill": {
     "duration": 0.175752,
     "end_time": "2022-08-17T10:10:45.634158",
     "exception": false,
     "start_time": "2022-08-17T10:10:45.458406",
     "status": "completed"
    },
    "tags": []
   },
   "outputs": [
    {
     "name": "stdout",
     "output_type": "stream",
     "text": [
      "2\n"
     ]
    },
    {
     "data": {
      "text/plain": [
       "<matplotlib.image.AxesImage at 0x7fe061f0b978>"
      ]
     },
     "execution_count": 9,
     "metadata": {},
     "output_type": "execute_result"
    },
    {
     "data": {
      "image/png": "[encoded data removed]",
      "text/plain": [
       "<Figure size 432x288 with 1 Axes>"
      ]
     },
     "metadata": {
      "needs_background": "light"
     },
     "output_type": "display_data"
    }
   ],
   "source": [
    "image_index = 7776 # You may select anything up to 60,000\n",
    "print(train_labels[image_index]) \n",
    "plt.imshow(train_images[image_index], cmap='Greys')"
   ]
  },
  {
   "cell_type": "markdown",
   "id": "a8d2388d",
   "metadata": {
    "papermill": {
     "duration": 0.02715,
     "end_time": "2022-08-17T10:10:45.688776",
     "exception": false,
     "start_time": "2022-08-17T10:10:45.661626",
     "status": "completed"
    },
    "tags": []
   },
   "source": [
    "## Filter data to get 3 and 8 out"
   ]
  },
  {
   "cell_type": "code",
   "execution_count": 10,
   "id": "776f7fc7",
   "metadata": {
    "execution": {
     "iopub.execute_input": "2022-08-17T10:10:45.748574Z",
     "iopub.status.busy": "2022-08-17T10:10:45.747957Z",
     "iopub.status.idle": "2022-08-17T10:10:45.767634Z",
     "shell.execute_reply": "2022-08-17T10:10:45.767066Z"
    },
    "papermill": {
     "duration": 0.052331,
     "end_time": "2022-08-17T10:10:45.767770",
     "exception": false,
     "start_time": "2022-08-17T10:10:45.715439",
     "status": "completed"
    },
    "tags": []
   },
   "outputs": [],
   "source": [
    "train_filter = np.where((train_labels == 3 ) | (train_labels == 8))\n",
    "test_filter = np.where((test_labels == 3) | (test_labels == 8))\n",
    "X_train, y_train = train_images[train_filter], train_labels[train_filter]\n",
    "X_test, y_test = test_images[test_filter], test_labels[test_filter]"
   ]
  },
  {
   "cell_type": "markdown",
   "id": "948f0b7e",
   "metadata": {
    "papermill": {
     "duration": 0.02648,
     "end_time": "2022-08-17T10:10:45.821740",
     "exception": false,
     "start_time": "2022-08-17T10:10:45.795260",
     "status": "completed"
    },
    "tags": []
   },
   "source": [
    "We normalize the pizel values in the 0 to 1 range"
   ]
  },
  {
   "cell_type": "code",
   "execution_count": 11,
   "id": "ee4c2166",
   "metadata": {
    "execution": {
     "iopub.execute_input": "2022-08-17T10:10:45.878919Z",
     "iopub.status.busy": "2022-08-17T10:10:45.878328Z",
     "iopub.status.idle": "2022-08-17T10:10:45.927775Z",
     "shell.execute_reply": "2022-08-17T10:10:45.927201Z"
    },
    "papermill": {
     "duration": 0.079615,
     "end_time": "2022-08-17T10:10:45.927901",
     "exception": false,
     "start_time": "2022-08-17T10:10:45.848286",
     "status": "completed"
    },
    "tags": []
   },
   "outputs": [],
   "source": [
    "X_train = X_train/255.\n",
    "X_test = X_test/255."
   ]
  },
  {
   "cell_type": "markdown",
   "id": "ddcf4fab",
   "metadata": {
    "papermill": {
     "duration": 0.027011,
     "end_time": "2022-08-17T10:10:45.981858",
     "exception": false,
     "start_time": "2022-08-17T10:10:45.954847",
     "status": "completed"
    },
    "tags": []
   },
   "source": [
    "And setup the labels as 1 (when the digit is 3) and 0 (when the digit is 8)"
   ]
  },
  {
   "cell_type": "code",
   "execution_count": 12,
   "id": "7dc908f2",
   "metadata": {
    "execution": {
     "iopub.execute_input": "2022-08-17T10:10:46.046412Z",
     "iopub.status.busy": "2022-08-17T10:10:46.045787Z",
     "iopub.status.idle": "2022-08-17T10:10:46.054962Z",
     "shell.execute_reply": "2022-08-17T10:10:46.054421Z"
    },
    "papermill": {
     "duration": 0.04675,
     "end_time": "2022-08-17T10:10:46.055083",
     "exception": false,
     "start_time": "2022-08-17T10:10:46.008333",
     "status": "completed"
    },
    "tags": []
   },
   "outputs": [],
   "source": [
    "y_train = 1*(y_train==3)\n",
    "y_test = 1*(y_test==3)"
   ]
  },
  {
   "cell_type": "code",
   "execution_count": 13,
   "id": "01e4e969",
   "metadata": {
    "execution": {
     "iopub.execute_input": "2022-08-17T10:10:46.122449Z",
     "iopub.status.busy": "2022-08-17T10:10:46.121830Z",
     "iopub.status.idle": "2022-08-17T10:10:46.133246Z",
     "shell.execute_reply": "2022-08-17T10:10:46.132139Z"
    },
    "papermill": {
     "duration": 0.05146,
     "end_time": "2022-08-17T10:10:46.133369",
     "exception": false,
     "start_time": "2022-08-17T10:10:46.081909",
     "status": "completed"
    },
    "tags": []
   },
   "outputs": [
    {
     "data": {
      "text/plain": [
       "((11982, 28, 28), (1984, 28, 28))"
      ]
     },
     "execution_count": 13,
     "metadata": {},
     "output_type": "execute_result"
    }
   ],
   "source": [
    "X_train.shape, X_test.shape"
   ]
  },
  {
   "cell_type": "markdown",
   "id": "5ccf3f85",
   "metadata": {
    "papermill": {
     "duration": 0.026854,
     "end_time": "2022-08-17T10:10:46.186975",
     "exception": false,
     "start_time": "2022-08-17T10:10:46.160121",
     "status": "completed"
    },
    "tags": []
   },
   "source": [
    "We reshape the data to flatten the image pixels into a set of features or co-variates:"
   ]
  },
  {
   "cell_type": "code",
   "execution_count": 14,
   "id": "5286a4a3",
   "metadata": {
    "execution": {
     "iopub.execute_input": "2022-08-17T10:10:46.251848Z",
     "iopub.status.busy": "2022-08-17T10:10:46.251234Z",
     "iopub.status.idle": "2022-08-17T10:10:46.261743Z",
     "shell.execute_reply": "2022-08-17T10:10:46.261268Z"
    },
    "papermill": {
     "duration": 0.047582,
     "end_time": "2022-08-17T10:10:46.261858",
     "exception": false,
     "start_time": "2022-08-17T10:10:46.214276",
     "status": "completed"
    },
    "tags": []
   },
   "outputs": [
    {
     "data": {
      "text/plain": [
       "((11982, 784), (1984, 784))"
      ]
     },
     "execution_count": 14,
     "metadata": {},
     "output_type": "execute_result"
    }
   ],
   "source": [
    "X_train = X_train.reshape(X_train.shape[0], -1)\n",
    "X_test = X_test.reshape(X_test.shape[0], -1)\n",
    "X_train.shape, X_test.shape"
   ]
  },
  {
   "cell_type": "code",
   "execution_count": 15,
   "id": "73c5f88a",
   "metadata": {
    "execution": {
     "iopub.execute_input": "2022-08-17T10:10:46.330163Z",
     "iopub.status.busy": "2022-08-17T10:10:46.329523Z",
     "iopub.status.idle": "2022-08-17T10:10:46.345237Z",
     "shell.execute_reply": "2022-08-17T10:10:46.345683Z"
    },
    "papermill": {
     "duration": 0.056593,
     "end_time": "2022-08-17T10:10:46.345830",
     "exception": false,
     "start_time": "2022-08-17T10:10:46.289237",
     "status": "completed"
    },
    "tags": []
   },
   "outputs": [],
   "source": [
    "#Impoting functions from 'Kudzu'\n",
    "from kudzu.model import Model\n",
    "from kudzu.train import Learner\n",
    "from kudzu.optim import GD\n",
    "from kudzu.data import Data, Sampler,Dataloader\n",
    "\n",
    "from kudzu.callbacks import AccCallback\n",
    "from kudzu.callbacks import ClfCallback\n",
    "\n",
    "from kudzu.loss import MSE\n",
    "\n",
    "from kudzu.layer import Sigmoid,Relu\n",
    "from kudzu.layer import Affine"
   ]
  },
  {
   "cell_type": "markdown",
   "id": "bc01172a",
   "metadata": {
    "papermill": {
     "duration": 0.027334,
     "end_time": "2022-08-17T10:10:46.400653",
     "exception": false,
     "start_time": "2022-08-17T10:10:46.373319",
     "status": "completed"
    },
    "tags": []
   },
   "source": [
    "### Let us create a `Config` class, to store important parameters. \n",
    "This class essentially plays the role of a dictionary."
   ]
  },
  {
   "cell_type": "code",
   "execution_count": 16,
   "id": "978281aa",
   "metadata": {
    "execution": {
     "iopub.execute_input": "2022-08-17T10:10:46.470733Z",
     "iopub.status.busy": "2022-08-17T10:10:46.463436Z",
     "iopub.status.idle": "2022-08-17T10:10:46.475187Z",
     "shell.execute_reply": "2022-08-17T10:10:46.475654Z"
    },
    "papermill": {
     "duration": 0.047014,
     "end_time": "2022-08-17T10:10:46.475797",
     "exception": false,
     "start_time": "2022-08-17T10:10:46.428783",
     "status": "completed"
    },
    "tags": []
   },
   "outputs": [],
   "source": [
    "class Config:\n",
    "    pass\n",
    "config = Config()\n",
    "config.lr = 0.001\n",
    "config.num_epochs = 250\n",
    "config.bs = 50"
   ]
  },
  {
   "cell_type": "markdown",
   "id": "1385fa59",
   "metadata": {
    "papermill": {
     "duration": 0.027188,
     "end_time": "2022-08-17T10:10:46.530396",
     "exception": false,
     "start_time": "2022-08-17T10:10:46.503208",
     "status": "completed"
    },
    "tags": []
   },
   "source": [
    "### Running Models with the Training data\n",
    "Details about the network layers:\n",
    "- A first affine layer has 784 inputs and does 100 affine transforms. These are followed by a Relu\n",
    "- A second affine layer has 100 inputs from the 100 activations of the past layer, and does 100 affine transforms. These are followed by a Relu\n",
    "- A third affine layer has 100 activations and does 2 affine transformations to create an embedding for visualization. There is no non-linearity here.\n",
    "- A final \"logistic regression\" which has an affine transform from 2 inputs to 1 output, which is squeezed through a sigmoid.\n"
   ]
  },
  {
   "cell_type": "code",
   "execution_count": 17,
   "id": "2b9c66db",
   "metadata": {
    "execution": {
     "iopub.execute_input": "2022-08-17T10:10:46.594318Z",
     "iopub.status.busy": "2022-08-17T10:10:46.589492Z",
     "iopub.status.idle": "2022-08-17T10:10:46.602092Z",
     "shell.execute_reply": "2022-08-17T10:10:46.602576Z"
    },
    "papermill": {
     "duration": 0.045114,
     "end_time": "2022-08-17T10:10:46.602712",
     "exception": false,
     "start_time": "2022-08-17T10:10:46.557598",
     "status": "completed"
    },
    "tags": []
   },
   "outputs": [],
   "source": [
    "data = Data(X_train, y_train.reshape(-1,1))\n",
    "sampler = Sampler(data, config.bs, shuffle=True)\n",
    "\n",
    "dl = Dataloader(data, sampler)\n",
    "\n",
    "opt = GD(config.lr)\n",
    "loss = MSE()"
   ]
  },
  {
   "cell_type": "code",
   "execution_count": 18,
   "id": "b275e4c2",
   "metadata": {
    "execution": {
     "iopub.execute_input": "2022-08-17T10:10:46.661713Z",
     "iopub.status.busy": "2022-08-17T10:10:46.661099Z",
     "iopub.status.idle": "2022-08-17T10:10:46.674178Z",
     "shell.execute_reply": "2022-08-17T10:10:46.674633Z"
    },
    "papermill": {
     "duration": 0.044603,
     "end_time": "2022-08-17T10:10:46.674767",
     "exception": false,
     "start_time": "2022-08-17T10:10:46.630164",
     "status": "completed"
    },
    "tags": []
   },
   "outputs": [],
   "source": [
    "training_data_x = X_train\n",
    "testing_data_x = X_test\n",
    "training_data_y = y_train.reshape(-1,1)\n",
    "testing_data_y = y_test.reshape(-1,1)"
   ]
  },
  {
   "cell_type": "code",
   "execution_count": 19,
   "id": "76951160",
   "metadata": {
    "execution": {
     "iopub.execute_input": "2022-08-17T10:10:46.746387Z",
     "iopub.status.busy": "2022-08-17T10:10:46.745759Z",
     "iopub.status.idle": "2022-08-17T10:10:46.756205Z",
     "shell.execute_reply": "2022-08-17T10:10:46.756650Z"
    },
    "papermill": {
     "duration": 0.054904,
     "end_time": "2022-08-17T10:10:46.756783",
     "exception": false,
     "start_time": "2022-08-17T10:10:46.701879",
     "status": "completed"
    },
    "tags": []
   },
   "outputs": [
    {
     "name": "stdout",
     "output_type": "stream",
     "text": [
      "xavier\n",
      "xavier\n",
      "xavier\n",
      "xavier\n",
      "xavier\n"
     ]
    }
   ],
   "source": [
    "layers = [Affine(\"first\", 784, 100), Relu(\"first\"), Affine(\"second\", 100, 100), Relu(\"second\"), Affine(\"third\", 100, 2), Affine(\"last\", 2, 1), Sigmoid(\"last\")]\n",
    "model_nn = Model(layers)\n",
    "model_lr = Model([Affine(\"logits\", 784, 1), Sigmoid(\"sigmoid\")])"
   ]
  },
  {
   "cell_type": "code",
   "execution_count": 20,
   "id": "6eede77a",
   "metadata": {
    "execution": {
     "iopub.execute_input": "2022-08-17T10:10:46.827337Z",
     "iopub.status.busy": "2022-08-17T10:10:46.815917Z",
     "iopub.status.idle": "2022-08-17T10:10:46.833591Z",
     "shell.execute_reply": "2022-08-17T10:10:46.834038Z"
    },
    "papermill": {
     "duration": 0.049793,
     "end_time": "2022-08-17T10:10:46.834174",
     "exception": false,
     "start_time": "2022-08-17T10:10:46.784381",
     "status": "completed"
    },
    "tags": []
   },
   "outputs": [],
   "source": [
    "nn_learner = Learner(loss, model_nn, opt, config.num_epochs)\n",
    "acc_nn = ClfCallback(nn_learner, config.bs, training_data_x , testing_data_x, training_data_y, testing_data_y)\n",
    "nn_learner.set_callbacks([acc_nn])"
   ]
  },
  {
   "cell_type": "code",
   "execution_count": 21,
   "id": "877b6cc7",
   "metadata": {
    "execution": {
     "iopub.execute_input": "2022-08-17T10:10:46.897972Z",
     "iopub.status.busy": "2022-08-17T10:10:46.897381Z",
     "iopub.status.idle": "2022-08-17T10:10:46.907745Z",
     "shell.execute_reply": "2022-08-17T10:10:46.908309Z"
    },
    "papermill": {
     "duration": 0.046764,
     "end_time": "2022-08-17T10:10:46.908446",
     "exception": false,
     "start_time": "2022-08-17T10:10:46.861682",
     "status": "completed"
    },
    "tags": []
   },
   "outputs": [],
   "source": [
    "lr_learner = Learner(loss, model_lr, opt, config.num_epochs)\n",
    "acc_lr = ClfCallback(lr_learner, config.bs, training_data_x , testing_data_x, training_data_y, testing_data_y)\n",
    "lr_learner.set_callbacks([acc_lr])"
   ]
  },
  {
   "cell_type": "code",
   "execution_count": 22,
   "id": "d9b133c3",
   "metadata": {
    "execution": {
     "iopub.execute_input": "2022-08-17T10:10:46.967599Z",
     "iopub.status.busy": "2022-08-17T10:10:46.967014Z",
     "iopub.status.idle": "2022-08-17T10:12:07.803573Z",
     "shell.execute_reply": "2022-08-17T10:12:07.804439Z"
    },
    "papermill": {
     "duration": 80.868647,
     "end_time": "2022-08-17T10:12:07.804597",
     "exception": false,
     "start_time": "2022-08-17T10:10:46.935950",
     "status": "completed"
    },
    "tags": []
   },
   "outputs": [
    {
     "name": "stdout",
     "output_type": "stream",
     "text": [
      "Epoch 0, Loss 0.2477\n",
      "Training Accuracy: 0.6437, Testing Accuracy: 0.6396\n",
      "\n"
     ]
    },
    {
     "name": "stdout",
     "output_type": "stream",
     "text": [
      "Epoch 10, Loss 0.0932\n",
      "Training Accuracy: 0.9054, Testing Accuracy: 0.9088\n",
      "\n"
     ]
    },
    {
     "name": "stdout",
     "output_type": "stream",
     "text": [
      "Epoch 20, Loss 0.0571\n",
      "Training Accuracy: 0.9377, Testing Accuracy: 0.9486\n",
      "\n"
     ]
    },
    {
     "name": "stdout",
     "output_type": "stream",
     "text": [
      "Epoch 30, Loss 0.0445\n",
      "Training Accuracy: 0.9498, Testing Accuracy: 0.9607\n",
      "\n"
     ]
    },
    {
     "name": "stdout",
     "output_type": "stream",
     "text": [
      "Epoch 40, Loss 0.0384\n",
      "Training Accuracy: 0.9569, Testing Accuracy: 0.9642\n",
      "\n"
     ]
    },
    {
     "name": "stdout",
     "output_type": "stream",
     "text": [
      "Epoch 50, Loss 0.0348\n",
      "Training Accuracy: 0.9602, Testing Accuracy: 0.9677\n",
      "\n"
     ]
    },
    {
     "name": "stdout",
     "output_type": "stream",
     "text": [
      "Epoch 60, Loss 0.0322\n",
      "Training Accuracy: 0.9625, Testing Accuracy: 0.9688\n",
      "\n"
     ]
    },
    {
     "name": "stdout",
     "output_type": "stream",
     "text": [
      "Epoch 70, Loss 0.0303\n",
      "Training Accuracy: 0.9652, Testing Accuracy: 0.9698\n",
      "\n"
     ]
    },
    {
     "name": "stdout",
     "output_type": "stream",
     "text": [
      "Epoch 80, Loss 0.0287\n",
      "Training Accuracy: 0.9670, Testing Accuracy: 0.9703\n",
      "\n"
     ]
    },
    {
     "name": "stdout",
     "output_type": "stream",
     "text": [
      "Epoch 90, Loss 0.0275\n",
      "Training Accuracy: 0.9684, Testing Accuracy: 0.9708\n",
      "\n"
     ]
    },
    {
     "name": "stdout",
     "output_type": "stream",
     "text": [
      "Epoch 100, Loss 0.0264\n",
      "Training Accuracy: 0.9698, Testing Accuracy: 0.9718\n",
      "\n"
     ]
    },
    {
     "name": "stdout",
     "output_type": "stream",
     "text": [
      "Epoch 110, Loss 0.0254\n",
      "Training Accuracy: 0.9710, Testing Accuracy: 0.9708\n",
      "\n"
     ]
    },
    {
     "name": "stdout",
     "output_type": "stream",
     "text": [
      "Epoch 120, Loss 0.0246\n",
      "Training Accuracy: 0.9721, Testing Accuracy: 0.9713\n",
      "\n"
     ]
    },
    {
     "name": "stdout",
     "output_type": "stream",
     "text": [
      "Epoch 130, Loss 0.0238\n",
      "Training Accuracy: 0.9730, Testing Accuracy: 0.9718\n",
      "\n"
     ]
    },
    {
     "name": "stdout",
     "output_type": "stream",
     "text": [
      "Epoch 140, Loss 0.0231\n",
      "Training Accuracy: 0.9740, Testing Accuracy: 0.9728\n",
      "\n"
     ]
    },
    {
     "name": "stdout",
     "output_type": "stream",
     "text": [
      "Epoch 150, Loss 0.0225\n",
      "Training Accuracy: 0.9746, Testing Accuracy: 0.9723\n",
      "\n"
     ]
    },
    {
     "name": "stdout",
     "output_type": "stream",
     "text": [
      "Epoch 160, Loss 0.0219\n",
      "Training Accuracy: 0.9755, Testing Accuracy: 0.9728\n",
      "\n"
     ]
    },
    {
     "name": "stdout",
     "output_type": "stream",
     "text": [
      "Epoch 170, Loss 0.0213\n",
      "Training Accuracy: 0.9765, Testing Accuracy: 0.9728\n",
      "\n"
     ]
    },
    {
     "name": "stdout",
     "output_type": "stream",
     "text": [
      "Epoch 180, Loss 0.0208\n",
      "Training Accuracy: 0.9774, Testing Accuracy: 0.9738\n",
      "\n"
     ]
    },
    {
     "name": "stdout",
     "output_type": "stream",
     "text": [
      "Epoch 190, Loss 0.0203\n",
      "Training Accuracy: 0.9780, Testing Accuracy: 0.9748\n",
      "\n"
     ]
    },
    {
     "name": "stdout",
     "output_type": "stream",
     "text": [
      "Epoch 200, Loss 0.0198\n",
      "Training Accuracy: 0.9781, Testing Accuracy: 0.9758\n",
      "\n"
     ]
    },
    {
     "name": "stdout",
     "output_type": "stream",
     "text": [
      "Epoch 210, Loss 0.0194\n",
      "Training Accuracy: 0.9788, Testing Accuracy: 0.9753\n",
      "\n"
     ]
    },
    {
     "name": "stdout",
     "output_type": "stream",
     "text": [
      "Epoch 220, Loss 0.0189\n",
      "Training Accuracy: 0.9792, Testing Accuracy: 0.9758\n",
      "\n"
     ]
    },
    {
     "name": "stdout",
     "output_type": "stream",
     "text": [
      "Epoch 230, Loss 0.0185\n",
      "Training Accuracy: 0.9796, Testing Accuracy: 0.9758\n",
      "\n"
     ]
    },
    {
     "name": "stdout",
     "output_type": "stream",
     "text": [
      "Epoch 240, Loss 0.0181\n",
      "Training Accuracy: 0.9799, Testing Accuracy: 0.9758\n",
      "\n"
     ]
    },
    {
     "data": {
      "text/plain": [
       "0.005170041767899397"
      ]
     },
     "execution_count": 22,
     "metadata": {},
     "output_type": "execute_result"
    }
   ],
   "source": [
    "nn_learner.train_loop(dl)"
   ]
  },
  {
   "cell_type": "code",
   "execution_count": 23,
   "id": "e0163366",
   "metadata": {
    "execution": {
     "iopub.execute_input": "2022-08-17T10:12:07.882782Z",
     "iopub.status.busy": "2022-08-17T10:12:07.882182Z",
     "iopub.status.idle": "2022-08-17T10:12:22.812740Z",
     "shell.execute_reply": "2022-08-17T10:12:22.813626Z"
    },
    "papermill": {
     "duration": 14.973997,
     "end_time": "2022-08-17T10:12:22.813782",
     "exception": false,
     "start_time": "2022-08-17T10:12:07.839785",
     "status": "completed"
    },
    "tags": []
   },
   "outputs": [
    {
     "name": "stdout",
     "output_type": "stream",
     "text": [
      "Epoch 0, Loss 0.2153\n",
      "Training Accuracy: 0.7816, Testing Accuracy: 0.7888\n",
      "\n"
     ]
    },
    {
     "name": "stdout",
     "output_type": "stream",
     "text": [
      "Epoch 10, Loss 0.1\n",
      "Training Accuracy: 0.9127, Testing Accuracy: 0.9234\n",
      "\n"
     ]
    },
    {
     "name": "stdout",
     "output_type": "stream",
     "text": [
      "Epoch 20, Loss 0.078\n",
      "Training Accuracy: 0.9291, Testing Accuracy: 0.9410\n",
      "\n"
     ]
    },
    {
     "name": "stdout",
     "output_type": "stream",
     "text": [
      "Epoch 30, Loss 0.0675\n",
      "Training Accuracy: 0.9372, Testing Accuracy: 0.9466\n",
      "\n"
     ]
    },
    {
     "name": "stdout",
     "output_type": "stream",
     "text": [
      "Epoch 40, Loss 0.0611\n",
      "Training Accuracy: 0.9424, Testing Accuracy: 0.9516\n",
      "\n"
     ]
    },
    {
     "name": "stdout",
     "output_type": "stream",
     "text": [
      "Epoch 50, Loss 0.0567\n",
      "Training Accuracy: 0.9458, Testing Accuracy: 0.9546\n",
      "\n"
     ]
    },
    {
     "name": "stdout",
     "output_type": "stream",
     "text": [
      "Epoch 60, Loss 0.0534\n",
      "Training Accuracy: 0.9483, Testing Accuracy: 0.9561\n",
      "\n"
     ]
    },
    {
     "name": "stdout",
     "output_type": "stream",
     "text": [
      "Epoch 70, Loss 0.0509\n",
      "Training Accuracy: 0.9507, Testing Accuracy: 0.9592\n",
      "\n"
     ]
    },
    {
     "name": "stdout",
     "output_type": "stream",
     "text": [
      "Epoch 80, Loss 0.0489\n",
      "Training Accuracy: 0.9518, Testing Accuracy: 0.9592\n",
      "\n"
     ]
    },
    {
     "name": "stdout",
     "output_type": "stream",
     "text": [
      "Epoch 90, Loss 0.0472\n",
      "Training Accuracy: 0.9520, Testing Accuracy: 0.9597\n",
      "\n"
     ]
    },
    {
     "name": "stdout",
     "output_type": "stream",
     "text": [
      "Epoch 100, Loss 0.0458\n",
      "Training Accuracy: 0.9532, Testing Accuracy: 0.9602\n",
      "\n"
     ]
    },
    {
     "name": "stdout",
     "output_type": "stream",
     "text": [
      "Epoch 110, Loss 0.0446\n",
      "Training Accuracy: 0.9543, Testing Accuracy: 0.9617\n",
      "\n"
     ]
    },
    {
     "name": "stdout",
     "output_type": "stream",
     "text": [
      "Epoch 120, Loss 0.0436\n",
      "Training Accuracy: 0.9558, Testing Accuracy: 0.9627\n",
      "\n"
     ]
    },
    {
     "name": "stdout",
     "output_type": "stream",
     "text": [
      "Epoch 130, Loss 0.0427\n",
      "Training Accuracy: 0.9565, Testing Accuracy: 0.9632\n",
      "\n"
     ]
    },
    {
     "name": "stdout",
     "output_type": "stream",
     "text": [
      "Epoch 140, Loss 0.0418\n",
      "Training Accuracy: 0.9569, Testing Accuracy: 0.9632\n",
      "\n"
     ]
    },
    {
     "name": "stdout",
     "output_type": "stream",
     "text": [
      "Epoch 150, Loss 0.0411\n",
      "Training Accuracy: 0.9573, Testing Accuracy: 0.9637\n",
      "\n"
     ]
    },
    {
     "name": "stdout",
     "output_type": "stream",
     "text": [
      "Epoch 160, Loss 0.0404\n",
      "Training Accuracy: 0.9580, Testing Accuracy: 0.9642\n",
      "\n"
     ]
    },
    {
     "name": "stdout",
     "output_type": "stream",
     "text": [
      "Epoch 170, Loss 0.0398\n",
      "Training Accuracy: 0.9586, Testing Accuracy: 0.9647\n",
      "\n"
     ]
    },
    {
     "name": "stdout",
     "output_type": "stream",
     "text": [
      "Epoch 180, Loss 0.0393\n",
      "Training Accuracy: 0.9588, Testing Accuracy: 0.9652\n",
      "\n"
     ]
    },
    {
     "name": "stdout",
     "output_type": "stream",
     "text": [
      "Epoch 190, Loss 0.0388\n",
      "Training Accuracy: 0.9589, Testing Accuracy: 0.9657\n",
      "\n"
     ]
    },
    {
     "name": "stdout",
     "output_type": "stream",
     "text": [
      "Epoch 200, Loss 0.0383\n",
      "Training Accuracy: 0.9596, Testing Accuracy: 0.9662\n",
      "\n"
     ]
    },
    {
     "name": "stdout",
     "output_type": "stream",
     "text": [
      "Epoch 210, Loss 0.0379\n",
      "Training Accuracy: 0.9599, Testing Accuracy: 0.9662\n",
      "\n"
     ]
    },
    {
     "name": "stdout",
     "output_type": "stream",
     "text": [
      "Epoch 220, Loss 0.0375\n",
      "Training Accuracy: 0.9602, Testing Accuracy: 0.9662\n",
      "\n"
     ]
    },
    {
     "name": "stdout",
     "output_type": "stream",
     "text": [
      "Epoch 230, Loss 0.0371\n",
      "Training Accuracy: 0.9608, Testing Accuracy: 0.9662\n",
      "\n"
     ]
    },
    {
     "name": "stdout",
     "output_type": "stream",
     "text": [
      "Epoch 240, Loss 0.0367\n",
      "Training Accuracy: 0.9608, Testing Accuracy: 0.9667\n",
      "\n"
     ]
    },
    {
     "data": {
      "text/plain": [
       "0.01544059414079237"
      ]
     },
     "execution_count": 23,
     "metadata": {},
     "output_type": "execute_result"
    }
   ],
   "source": [
    "lr_learner.train_loop(dl)"
   ]
  },
  {
   "cell_type": "code",
   "execution_count": 24,
   "id": "ca410940",
   "metadata": {
    "execution": {
     "iopub.execute_input": "2022-08-17T10:12:22.907251Z",
     "iopub.status.busy": "2022-08-17T10:12:22.906612Z",
     "iopub.status.idle": "2022-08-17T10:12:23.142603Z",
     "shell.execute_reply": "2022-08-17T10:12:23.143062Z"
    },
    "papermill": {
     "duration": 0.287385,
     "end_time": "2022-08-17T10:12:23.143208",
     "exception": false,
     "start_time": "2022-08-17T10:12:22.855823",
     "status": "completed"
    },
    "tags": []
   },
   "outputs": [
    {
     "data": {
      "text/plain": [
       "<matplotlib.legend.Legend at 0x7fe061a6bf98>"
      ]
     },
     "execution_count": 24,
     "metadata": {},
     "output_type": "execute_result"
    },
    {
     "data": {
      "image/png": "[encoded data removed]",
      "text/plain": [
       "<Figure size 1080x720 with 1 Axes>"
      ]
     },
     "metadata": {
      "needs_background": "light"
     },
     "output_type": "display_data"
    }
   ],
   "source": [
    "#comparing the results of NN and LR\n",
    "plt.figure(figsize=(15,10))\n",
    "\n",
    "# Neural Network plots\n",
    "plt.plot(acc_nn.accuracies, 'r-', label = \"Training Accuracies - NN\")\n",
    "plt.plot(acc_nn.test_accuracies, 'g-', label = \"Testing Accuracies - NN\")\n",
    "\n",
    "# Logistic Regression plots\n",
    "plt.plot(acc_lr.accuracies, 'k-', label = \"Training Accuracies - LR\")\n",
    "plt.plot(acc_lr.test_accuracies, 'b-', label = \"Testing Accuracies - LR\")\n",
    "plt.legend()"
   ]
  },
  {
   "cell_type": "markdown",
   "id": "80dfb35c",
   "metadata": {
    "papermill": {
     "duration": 0.042758,
     "end_time": "2022-08-17T10:12:23.228798",
     "exception": false,
     "start_time": "2022-08-17T10:12:23.186040",
     "status": "completed"
    },
    "tags": []
   },
   "source": [
    "#### Plotting the outputs of this layer of the NN.\n"
   ]
  },
  {
   "cell_type": "code",
   "execution_count": 25,
   "id": "45eb2ff5",
   "metadata": {
    "execution": {
     "iopub.execute_input": "2022-08-17T10:12:23.319202Z",
     "iopub.status.busy": "2022-08-17T10:12:23.318020Z",
     "iopub.status.idle": "2022-08-17T10:12:23.340289Z",
     "shell.execute_reply": "2022-08-17T10:12:23.339780Z"
    },
    "papermill": {
     "duration": 0.068843,
     "end_time": "2022-08-17T10:12:23.340422",
     "exception": false,
     "start_time": "2022-08-17T10:12:23.271579",
     "status": "completed"
    },
    "tags": []
   },
   "outputs": [],
   "source": [
    "new_model = Model(layers[:-2])\n",
    "testing_plot = new_model(testing_data_x)"
   ]
  },
  {
   "cell_type": "code",
   "execution_count": 26,
   "id": "4c0a5485",
   "metadata": {
    "execution": {
     "iopub.execute_input": "2022-08-17T10:12:23.431282Z",
     "iopub.status.busy": "2022-08-17T10:12:23.430659Z",
     "iopub.status.idle": "2022-08-17T10:12:23.639579Z",
     "shell.execute_reply": "2022-08-17T10:12:23.640025Z"
    },
    "papermill": {
     "duration": 0.256805,
     "end_time": "2022-08-17T10:12:23.640178",
     "exception": false,
     "start_time": "2022-08-17T10:12:23.383373",
     "status": "completed"
    },
    "tags": []
   },
   "outputs": [
    {
     "data": {
      "text/plain": [
       "Text(0.5, 1.0, 'Outputs')"
      ]
     },
     "execution_count": 26,
     "metadata": {},
     "output_type": "execute_result"
    },
    {
     "data": {
      "image/png": "[encoded data removed]",
      "text/plain": [
       "<Figure size 576x504 with 1 Axes>"
      ]
     },
     "metadata": {
      "needs_background": "light"
     },
     "output_type": "display_data"
    }
   ],
   "source": [
    "# Plotting the scatter plot of points and color coding by class\n",
    "plt.figure(figsize=(8,7))\n",
    "plt.scatter(testing_plot[:,0], testing_plot[:,1], alpha = 0.1, c = y_test.ravel());\n",
    "plt.title('Outputs')"
   ]
  },
  {
   "cell_type": "markdown",
   "id": "a74fcf8f",
   "metadata": {
    "papermill": {
     "duration": 0.044695,
     "end_time": "2022-08-17T10:12:23.729954",
     "exception": false,
     "start_time": "2022-08-17T10:12:23.685259",
     "status": "completed"
    },
    "tags": []
   },
   "source": [
    "Probability contours"
   ]
  },
  {
   "cell_type": "code",
   "execution_count": 27,
   "id": "d0afc8e3",
   "metadata": {
    "execution": {
     "iopub.execute_input": "2022-08-17T10:12:23.861511Z",
     "iopub.status.busy": "2022-08-17T10:12:23.860909Z",
     "iopub.status.idle": "2022-08-17T10:12:23.874046Z",
     "shell.execute_reply": "2022-08-17T10:12:23.873501Z"
    },
    "papermill": {
     "duration": 0.097687,
     "end_time": "2022-08-17T10:12:23.874173",
     "exception": false,
     "start_time": "2022-08-17T10:12:23.776486",
     "status": "completed"
    },
    "tags": []
   },
   "outputs": [],
   "source": [
    "model_prob = Model(layers[-2:]) "
   ]
  },
  {
   "cell_type": "code",
   "execution_count": 28,
   "id": "9b96e238",
   "metadata": {
    "execution": {
     "iopub.execute_input": "2022-08-17T10:12:23.970203Z",
     "iopub.status.busy": "2022-08-17T10:12:23.969603Z",
     "iopub.status.idle": "2022-08-17T10:12:23.984688Z",
     "shell.execute_reply": "2022-08-17T10:12:23.985137Z"
    },
    "papermill": {
     "duration": 0.065097,
     "end_time": "2022-08-17T10:12:23.985283",
     "exception": false,
     "start_time": "2022-08-17T10:12:23.920186",
     "status": "completed"
    },
    "tags": []
   },
   "outputs": [],
   "source": [
    "#creating the x and y ranges according to the above generated plot.\n",
    "x_range = np.linspace(-4, 1, 100) \n",
    "y_range = np.linspace(-6, 6, 100) \n",
    "x_grid, y_grid = np.meshgrid(x_range, y_range) # x_grid and y_grig are of size 100 X 100\n",
    "\n",
    "# converting x_grid and y_grid to continuous arrays\n",
    "x_gridflat = np.ravel(x_grid)\n",
    "y_gridflat = np.ravel(y_grid)\n",
    "\n",
    "# The last layer of the current model takes two columns as input. Hence transpose of np.vstack() is required.\n",
    "X = np.vstack((x_gridflat, y_gridflat)).T\n",
    "\n",
    "prob_contour = model_prob(X).reshape(100,100) "
   ]
  },
  {
   "cell_type": "code",
   "execution_count": 29,
   "id": "da72499a",
   "metadata": {
    "execution": {
     "iopub.execute_input": "2022-08-17T10:12:24.079743Z",
     "iopub.status.busy": "2022-08-17T10:12:24.079152Z",
     "iopub.status.idle": "2022-08-17T10:12:24.323119Z",
     "shell.execute_reply": "2022-08-17T10:12:24.322612Z"
    },
    "papermill": {
     "duration": 0.293147,
     "end_time": "2022-08-17T10:12:24.323239",
     "exception": false,
     "start_time": "2022-08-17T10:12:24.030092",
     "status": "completed"
    },
    "tags": []
   },
   "outputs": [
    {
     "data": {
      "image/png": "[encoded data removed]",
      "text/plain": [
       "<Figure size 720x648 with 1 Axes>"
      ]
     },
     "metadata": {
      "needs_background": "light"
     },
     "output_type": "display_data"
    }
   ],
   "source": [
    "plt.figure(figsize=(10,9))\n",
    "plt.scatter(testing_plot[:,0], testing_plot[:,1], alpha = 0.1, c = y_test.ravel())\n",
    "contours = plt.contour(x_grid,y_grid,prob_contour)\n",
    "plt.title('Probability Contours')\n",
    "plt.clabel(contours, inline = True );"
   ]
  },
  {
   "cell_type": "code",
   "execution_count": null,
   "id": "e81b4ac7",
   "metadata": {
    "papermill": {
     "duration": 0.048091,
     "end_time": "2022-08-17T10:12:24.419697",
     "exception": false,
     "start_time": "2022-08-17T10:12:24.371606",
     "status": "completed"
    },
    "tags": []
   },
   "outputs": [],
   "source": []
  }
 ],
 "metadata": {
  "kernelspec": {
   "display_name": "Python 3",
   "language": "python",
   "name": "python3"
  },
  "language_info": {
   "codemirror_mode": {
    "name": "ipython",
    "version": 3
   },
   "file_extension": ".py",
   "mimetype": "text/x-python",
   "name": "python",
   "nbconvert_exporter": "python",
   "pygments_lexer": "ipython3",
   "version": "3.6.15"
  },
  "papermill": {
   "default_parameters": {},
   "duration": 104.075822,
   "end_time": "2022-08-17T10:12:24.987321",
   "environment_variables": {},
   "exception": null,
   "input_path": "2020-08-11-part2.ipynb",
   "output_path": "2020-08-11-part2.ipynb",
   "parameters": {},
   "start_time": "2022-08-17T10:10:40.911499",
   "version": "2.3.3"
  }
 },
 "nbformat": 4,
 "nbformat_minor": 5
}