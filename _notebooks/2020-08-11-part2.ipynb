{
 "cells": [
  {
   "cell_type": "markdown",
   "id": "98380cd3",
   "metadata": {
    "papermill": {
     "duration": 0.028795,
     "end_time": "2022-04-28T20:09:48.538683",
     "exception": false,
     "start_time": "2022-04-28T20:09:48.509888",
     "status": "completed"
    },
    "tags": []
   },
   "source": [
    "# Distinguish Your Own Digits (DYOD)"
   ]
  },
  {
   "cell_type": "markdown",
   "id": "ef31240d",
   "metadata": {
    "papermill": {
     "duration": 0.025272,
     "end_time": "2022-04-28T20:09:48.589452",
     "exception": false,
     "start_time": "2022-04-28T20:09:48.564180",
     "status": "completed"
    },
    "tags": []
   },
   "source": [
    "You are going to write a classifier that distinguishes between the number 3 and number 8."
   ]
  },
  {
   "cell_type": "code",
   "execution_count": 1,
   "id": "b15c8646",
   "metadata": {
    "execution": {
     "iopub.execute_input": "2022-04-28T20:09:48.647713Z",
     "iopub.status.busy": "2022-04-28T20:09:48.647127Z",
     "iopub.status.idle": "2022-04-28T20:09:48.657032Z",
     "shell.execute_reply": "2022-04-28T20:09:48.657475Z"
    },
    "papermill": {
     "duration": 0.044384,
     "end_time": "2022-04-28T20:09:48.657625",
     "exception": false,
     "start_time": "2022-04-28T20:09:48.613241",
     "status": "completed"
    },
    "tags": []
   },
   "outputs": [],
   "source": [
    "%load_ext autoreload\n",
    "%autoreload 2"
   ]
  },
  {
   "cell_type": "code",
   "execution_count": 2,
   "id": "22ef38dc",
   "metadata": {
    "execution": {
     "iopub.execute_input": "2022-04-28T20:09:48.712450Z",
     "iopub.status.busy": "2022-04-28T20:09:48.711919Z",
     "iopub.status.idle": "2022-04-28T20:09:49.248835Z",
     "shell.execute_reply": "2022-04-28T20:09:49.248311Z"
    },
    "papermill": {
     "duration": 0.567315,
     "end_time": "2022-04-28T20:09:49.248974",
     "exception": false,
     "start_time": "2022-04-28T20:09:48.681659",
     "status": "completed"
    },
    "tags": []
   },
   "outputs": [],
   "source": [
    "%matplotlib inline\n",
    "import numpy as np\n",
    "import matplotlib.pyplot as plt\n",
    "import pandas as pd"
   ]
  },
  {
   "cell_type": "markdown",
   "id": "ba036198",
   "metadata": {
    "papermill": {
     "duration": 0.023919,
     "end_time": "2022-04-28T20:09:49.297315",
     "exception": false,
     "start_time": "2022-04-28T20:09:49.273396",
     "status": "completed"
    },
    "tags": []
   },
   "source": [
    "From the command line run `pip install mnist`. This is a library that will help you bring down the mnist dataset. If you run this from a notebook, you need to put  `!pip install mnist` in a cell by itself."
   ]
  },
  {
   "cell_type": "code",
   "execution_count": 3,
   "id": "bb6ad8a1",
   "metadata": {
    "execution": {
     "iopub.execute_input": "2022-04-28T20:09:49.351567Z",
     "iopub.status.busy": "2022-04-28T20:09:49.351021Z",
     "iopub.status.idle": "2022-04-28T20:09:51.014125Z",
     "shell.execute_reply": "2022-04-28T20:09:51.013190Z"
    },
    "papermill": {
     "duration": 1.692887,
     "end_time": "2022-04-28T20:09:51.014261",
     "exception": false,
     "start_time": "2022-04-28T20:09:49.321374",
     "status": "completed"
    },
    "tags": []
   },
   "outputs": [
    {
     "name": "stdout",
     "output_type": "stream",
     "text": [
      "Collecting mnist\r\n"
     ]
    },
    {
     "name": "stdout",
     "output_type": "stream",
     "text": [
      "  Downloading mnist-0.2.2-py2.py3-none-any.whl (3.5 kB)\r\n",
      "Requirement already satisfied: numpy in /opt/hostedtoolcache/Python/3.6.15/x64/lib/python3.6/site-packages (from mnist) (1.19.5)\r\n"
     ]
    },
    {
     "name": "stdout",
     "output_type": "stream",
     "text": [
      "Installing collected packages: mnist\r\n"
     ]
    },
    {
     "name": "stdout",
     "output_type": "stream",
     "text": [
      "Successfully installed mnist-0.2.2\r\n"
     ]
    }
   ],
   "source": [
    "!pip install mnist"
   ]
  },
  {
   "cell_type": "markdown",
   "id": "69df9c9a",
   "metadata": {
    "papermill": {
     "duration": 0.025194,
     "end_time": "2022-04-28T20:09:51.064663",
     "exception": false,
     "start_time": "2022-04-28T20:09:51.039469",
     "status": "completed"
    },
    "tags": []
   },
   "source": [
    "## Preparing the Data"
   ]
  },
  {
   "cell_type": "code",
   "execution_count": 4,
   "id": "7f69d806",
   "metadata": {
    "execution": {
     "iopub.execute_input": "2022-04-28T20:09:51.120087Z",
     "iopub.status.busy": "2022-04-28T20:09:51.118186Z",
     "iopub.status.idle": "2022-04-28T20:09:51.132853Z",
     "shell.execute_reply": "2022-04-28T20:09:51.132433Z"
    },
    "papermill": {
     "duration": 0.043406,
     "end_time": "2022-04-28T20:09:51.132967",
     "exception": false,
     "start_time": "2022-04-28T20:09:51.089561",
     "status": "completed"
    },
    "tags": []
   },
   "outputs": [],
   "source": [
    "import mnist"
   ]
  },
  {
   "cell_type": "code",
   "execution_count": 5,
   "id": "a411e44f",
   "metadata": {
    "execution": {
     "iopub.execute_input": "2022-04-28T20:09:51.204384Z",
     "iopub.status.busy": "2022-04-28T20:09:51.201987Z",
     "iopub.status.idle": "2022-04-28T20:09:51.726625Z",
     "shell.execute_reply": "2022-04-28T20:09:51.725738Z"
    },
    "papermill": {
     "duration": 0.56844,
     "end_time": "2022-04-28T20:09:51.726763",
     "exception": false,
     "start_time": "2022-04-28T20:09:51.158323",
     "status": "completed"
    },
    "tags": []
   },
   "outputs": [],
   "source": [
    "train_images = mnist.train_images()\n",
    "train_labels = mnist.train_labels()"
   ]
  },
  {
   "cell_type": "code",
   "execution_count": 6,
   "id": "dceab3a5",
   "metadata": {
    "execution": {
     "iopub.execute_input": "2022-04-28T20:09:51.784390Z",
     "iopub.status.busy": "2022-04-28T20:09:51.783865Z",
     "iopub.status.idle": "2022-04-28T20:09:51.796926Z",
     "shell.execute_reply": "2022-04-28T20:09:51.796514Z"
    },
    "papermill": {
     "duration": 0.044182,
     "end_time": "2022-04-28T20:09:51.797038",
     "exception": false,
     "start_time": "2022-04-28T20:09:51.752856",
     "status": "completed"
    },
    "tags": []
   },
   "outputs": [
    {
     "data": {
      "text/plain": [
       "((60000, 28, 28), (60000,))"
      ]
     },
     "execution_count": 6,
     "metadata": {},
     "output_type": "execute_result"
    }
   ],
   "source": [
    "train_images.shape, train_labels.shape"
   ]
  },
  {
   "cell_type": "code",
   "execution_count": 7,
   "id": "f50dc2bb",
   "metadata": {
    "execution": {
     "iopub.execute_input": "2022-04-28T20:09:51.853755Z",
     "iopub.status.busy": "2022-04-28T20:09:51.853243Z",
     "iopub.status.idle": "2022-04-28T20:09:51.966762Z",
     "shell.execute_reply": "2022-04-28T20:09:51.966247Z"
    },
    "papermill": {
     "duration": 0.144649,
     "end_time": "2022-04-28T20:09:51.966900",
     "exception": false,
     "start_time": "2022-04-28T20:09:51.822251",
     "status": "completed"
    },
    "tags": []
   },
   "outputs": [],
   "source": [
    "test_images = mnist.test_images()\n",
    "test_labels = mnist.test_labels()"
   ]
  },
  {
   "cell_type": "code",
   "execution_count": 8,
   "id": "fc38cf1b",
   "metadata": {
    "execution": {
     "iopub.execute_input": "2022-04-28T20:09:52.024362Z",
     "iopub.status.busy": "2022-04-28T20:09:52.023847Z",
     "iopub.status.idle": "2022-04-28T20:09:52.035606Z",
     "shell.execute_reply": "2022-04-28T20:09:52.035166Z"
    },
    "papermill": {
     "duration": 0.043204,
     "end_time": "2022-04-28T20:09:52.035715",
     "exception": false,
     "start_time": "2022-04-28T20:09:51.992511",
     "status": "completed"
    },
    "tags": []
   },
   "outputs": [
    {
     "data": {
      "text/plain": [
       "((10000, 28, 28), (10000,))"
      ]
     },
     "execution_count": 8,
     "metadata": {},
     "output_type": "execute_result"
    }
   ],
   "source": [
    "test_images.shape, test_labels.shape"
   ]
  },
  {
   "cell_type": "code",
   "execution_count": 9,
   "id": "f9ed8fe0",
   "metadata": {
    "execution": {
     "iopub.execute_input": "2022-04-28T20:09:52.090856Z",
     "iopub.status.busy": "2022-04-28T20:09:52.090354Z",
     "iopub.status.idle": "2022-04-28T20:09:52.227510Z",
     "shell.execute_reply": "2022-04-28T20:09:52.227978Z"
    },
    "papermill": {
     "duration": 0.166961,
     "end_time": "2022-04-28T20:09:52.228124",
     "exception": false,
     "start_time": "2022-04-28T20:09:52.061163",
     "status": "completed"
    },
    "tags": []
   },
   "outputs": [
    {
     "name": "stdout",
     "output_type": "stream",
     "text": [
      "2\n"
     ]
    },
    {
     "data": {
      "text/plain": [
       "<matplotlib.image.AxesImage at 0x7f2c9d752390>"
      ]
     },
     "execution_count": 9,
     "metadata": {},
     "output_type": "execute_result"
    },
    {
     "data": {
      "image/png": "[encoded data removed]",
      "text/plain": [
       "<Figure size 432x288 with 1 Axes>"
      ]
     },
     "metadata": {
      "needs_background": "light"
     },
     "output_type": "display_data"
    }
   ],
   "source": [
    "image_index = 7776 # You may select anything up to 60,000\n",
    "print(train_labels[image_index]) \n",
    "plt.imshow(train_images[image_index], cmap='Greys')"
   ]
  },
  {
   "cell_type": "markdown",
   "id": "a8d2388d",
   "metadata": {
    "papermill": {
     "duration": 0.026657,
     "end_time": "2022-04-28T20:09:52.281851",
     "exception": false,
     "start_time": "2022-04-28T20:09:52.255194",
     "status": "completed"
    },
    "tags": []
   },
   "source": [
    "## Filter data to get 3 and 8 out"
   ]
  },
  {
   "cell_type": "code",
   "execution_count": 10,
   "id": "776f7fc7",
   "metadata": {
    "execution": {
     "iopub.execute_input": "2022-04-28T20:09:52.338831Z",
     "iopub.status.busy": "2022-04-28T20:09:52.338316Z",
     "iopub.status.idle": "2022-04-28T20:09:52.357186Z",
     "shell.execute_reply": "2022-04-28T20:09:52.356728Z"
    },
    "papermill": {
     "duration": 0.048968,
     "end_time": "2022-04-28T20:09:52.357306",
     "exception": false,
     "start_time": "2022-04-28T20:09:52.308338",
     "status": "completed"
    },
    "tags": []
   },
   "outputs": [],
   "source": [
    "train_filter = np.where((train_labels == 3 ) | (train_labels == 8))\n",
    "test_filter = np.where((test_labels == 3) | (test_labels == 8))\n",
    "X_train, y_train = train_images[train_filter], train_labels[train_filter]\n",
    "X_test, y_test = test_images[test_filter], test_labels[test_filter]"
   ]
  },
  {
   "cell_type": "markdown",
   "id": "948f0b7e",
   "metadata": {
    "papermill": {
     "duration": 0.026778,
     "end_time": "2022-04-28T20:09:52.411389",
     "exception": false,
     "start_time": "2022-04-28T20:09:52.384611",
     "status": "completed"
    },
    "tags": []
   },
   "source": [
    "We normalize the pizel values in the 0 to 1 range"
   ]
  },
  {
   "cell_type": "code",
   "execution_count": 11,
   "id": "ee4c2166",
   "metadata": {
    "execution": {
     "iopub.execute_input": "2022-04-28T20:09:52.467839Z",
     "iopub.status.busy": "2022-04-28T20:09:52.467312Z",
     "iopub.status.idle": "2022-04-28T20:09:52.515118Z",
     "shell.execute_reply": "2022-04-28T20:09:52.515585Z"
    },
    "papermill": {
     "duration": 0.078,
     "end_time": "2022-04-28T20:09:52.515741",
     "exception": false,
     "start_time": "2022-04-28T20:09:52.437741",
     "status": "completed"
    },
    "tags": []
   },
   "outputs": [],
   "source": [
    "X_train = X_train/255.\n",
    "X_test = X_test/255."
   ]
  },
  {
   "cell_type": "markdown",
   "id": "ddcf4fab",
   "metadata": {
    "papermill": {
     "duration": 0.027331,
     "end_time": "2022-04-28T20:09:52.570002",
     "exception": false,
     "start_time": "2022-04-28T20:09:52.542671",
     "status": "completed"
    },
    "tags": []
   },
   "source": [
    "And setup the labels as 1 (when the digit is 3) and 0 (when the digit is 8)"
   ]
  },
  {
   "cell_type": "code",
   "execution_count": 12,
   "id": "7dc908f2",
   "metadata": {
    "execution": {
     "iopub.execute_input": "2022-04-28T20:09:52.631862Z",
     "iopub.status.busy": "2022-04-28T20:09:52.631295Z",
     "iopub.status.idle": "2022-04-28T20:09:52.640158Z",
     "shell.execute_reply": "2022-04-28T20:09:52.639746Z"
    },
    "papermill": {
     "duration": 0.043724,
     "end_time": "2022-04-28T20:09:52.640266",
     "exception": false,
     "start_time": "2022-04-28T20:09:52.596542",
     "status": "completed"
    },
    "tags": []
   },
   "outputs": [],
   "source": [
    "y_train = 1*(y_train==3)\n",
    "y_test = 1*(y_test==3)"
   ]
  },
  {
   "cell_type": "code",
   "execution_count": 13,
   "id": "01e4e969",
   "metadata": {
    "execution": {
     "iopub.execute_input": "2022-04-28T20:09:52.701273Z",
     "iopub.status.busy": "2022-04-28T20:09:52.700733Z",
     "iopub.status.idle": "2022-04-28T20:09:52.711445Z",
     "shell.execute_reply": "2022-04-28T20:09:52.710971Z"
    },
    "papermill": {
     "duration": 0.044824,
     "end_time": "2022-04-28T20:09:52.711558",
     "exception": false,
     "start_time": "2022-04-28T20:09:52.666734",
     "status": "completed"
    },
    "tags": []
   },
   "outputs": [
    {
     "data": {
      "text/plain": [
       "((11982, 28, 28), (1984, 28, 28))"
      ]
     },
     "execution_count": 13,
     "metadata": {},
     "output_type": "execute_result"
    }
   ],
   "source": [
    "X_train.shape, X_test.shape"
   ]
  },
  {
   "cell_type": "markdown",
   "id": "5ccf3f85",
   "metadata": {
    "papermill": {
     "duration": 0.026671,
     "end_time": "2022-04-28T20:09:52.764943",
     "exception": false,
     "start_time": "2022-04-28T20:09:52.738272",
     "status": "completed"
    },
    "tags": []
   },
   "source": [
    "We reshape the data to flatten the image pixels into a set of features or co-variates:"
   ]
  },
  {
   "cell_type": "code",
   "execution_count": 14,
   "id": "5286a4a3",
   "metadata": {
    "execution": {
     "iopub.execute_input": "2022-04-28T20:09:52.822478Z",
     "iopub.status.busy": "2022-04-28T20:09:52.821972Z",
     "iopub.status.idle": "2022-04-28T20:09:52.835230Z",
     "shell.execute_reply": "2022-04-28T20:09:52.834779Z"
    },
    "papermill": {
     "duration": 0.043563,
     "end_time": "2022-04-28T20:09:52.835340",
     "exception": false,
     "start_time": "2022-04-28T20:09:52.791777",
     "status": "completed"
    },
    "tags": []
   },
   "outputs": [
    {
     "data": {
      "text/plain": [
       "((11982, 784), (1984, 784))"
      ]
     },
     "execution_count": 14,
     "metadata": {},
     "output_type": "execute_result"
    }
   ],
   "source": [
    "X_train = X_train.reshape(X_train.shape[0], -1)\n",
    "X_test = X_test.reshape(X_test.shape[0], -1)\n",
    "X_train.shape, X_test.shape"
   ]
  },
  {
   "cell_type": "code",
   "execution_count": 15,
   "id": "73c5f88a",
   "metadata": {
    "execution": {
     "iopub.execute_input": "2022-04-28T20:09:52.893549Z",
     "iopub.status.busy": "2022-04-28T20:09:52.893038Z",
     "iopub.status.idle": "2022-04-28T20:09:52.911189Z",
     "shell.execute_reply": "2022-04-28T20:09:52.910747Z"
    },
    "papermill": {
     "duration": 0.048693,
     "end_time": "2022-04-28T20:09:52.911306",
     "exception": false,
     "start_time": "2022-04-28T20:09:52.862613",
     "status": "completed"
    },
    "tags": []
   },
   "outputs": [],
   "source": [
    "#Impoting functions from 'Kudzu'\n",
    "from kudzu.model import Model\n",
    "from kudzu.train import Learner\n",
    "from kudzu.optim import GD\n",
    "from kudzu.data import Data, Sampler,Dataloader\n",
    "\n",
    "from kudzu.callbacks import AccCallback\n",
    "from kudzu.callbacks import ClfCallback\n",
    "\n",
    "from kudzu.loss import MSE\n",
    "\n",
    "from kudzu.layer import Sigmoid,Relu\n",
    "from kudzu.layer import Affine"
   ]
  },
  {
   "cell_type": "markdown",
   "id": "bc01172a",
   "metadata": {
    "papermill": {
     "duration": 0.02713,
     "end_time": "2022-04-28T20:09:52.965604",
     "exception": false,
     "start_time": "2022-04-28T20:09:52.938474",
     "status": "completed"
    },
    "tags": []
   },
   "source": [
    "### Let us create a `Config` class, to store important parameters. \n",
    "This class essentially plays the role of a dictionary."
   ]
  },
  {
   "cell_type": "code",
   "execution_count": 16,
   "id": "978281aa",
   "metadata": {
    "execution": {
     "iopub.execute_input": "2022-04-28T20:09:53.026935Z",
     "iopub.status.busy": "2022-04-28T20:09:53.026415Z",
     "iopub.status.idle": "2022-04-28T20:09:53.036352Z",
     "shell.execute_reply": "2022-04-28T20:09:53.035939Z"
    },
    "papermill": {
     "duration": 0.043826,
     "end_time": "2022-04-28T20:09:53.036464",
     "exception": false,
     "start_time": "2022-04-28T20:09:52.992638",
     "status": "completed"
    },
    "tags": []
   },
   "outputs": [],
   "source": [
    "class Config:\n",
    "    pass\n",
    "config = Config()\n",
    "config.lr = 0.001\n",
    "config.num_epochs = 250\n",
    "config.bs = 50"
   ]
  },
  {
   "cell_type": "markdown",
   "id": "1385fa59",
   "metadata": {
    "papermill": {
     "duration": 0.027003,
     "end_time": "2022-04-28T20:09:53.091062",
     "exception": false,
     "start_time": "2022-04-28T20:09:53.064059",
     "status": "completed"
    },
    "tags": []
   },
   "source": [
    "### Running Models with the Training data\n",
    "Details about the network layers:\n",
    "- A first affine layer has 784 inputs and does 100 affine transforms. These are followed by a Relu\n",
    "- A second affine layer has 100 inputs from the 100 activations of the past layer, and does 100 affine transforms. These are followed by a Relu\n",
    "- A third affine layer has 100 activations and does 2 affine transformations to create an embedding for visualization. There is no non-linearity here.\n",
    "- A final \"logistic regression\" which has an affine transform from 2 inputs to 1 output, which is squeezed through a sigmoid.\n"
   ]
  },
  {
   "cell_type": "code",
   "execution_count": 17,
   "id": "2b9c66db",
   "metadata": {
    "execution": {
     "iopub.execute_input": "2022-04-28T20:09:53.149715Z",
     "iopub.status.busy": "2022-04-28T20:09:53.149176Z",
     "iopub.status.idle": "2022-04-28T20:09:53.162091Z",
     "shell.execute_reply": "2022-04-28T20:09:53.162516Z"
    },
    "papermill": {
     "duration": 0.044525,
     "end_time": "2022-04-28T20:09:53.162654",
     "exception": false,
     "start_time": "2022-04-28T20:09:53.118129",
     "status": "completed"
    },
    "tags": []
   },
   "outputs": [],
   "source": [
    "data = Data(X_train, y_train.reshape(-1,1))\n",
    "sampler = Sampler(data, config.bs, shuffle=True)\n",
    "\n",
    "dl = Dataloader(data, sampler)\n",
    "\n",
    "opt = GD(config.lr)\n",
    "loss = MSE()"
   ]
  },
  {
   "cell_type": "code",
   "execution_count": 18,
   "id": "b275e4c2",
   "metadata": {
    "execution": {
     "iopub.execute_input": "2022-04-28T20:09:53.224103Z",
     "iopub.status.busy": "2022-04-28T20:09:53.223497Z",
     "iopub.status.idle": "2022-04-28T20:09:53.234426Z",
     "shell.execute_reply": "2022-04-28T20:09:53.234015Z"
    },
    "papermill": {
     "duration": 0.04454,
     "end_time": "2022-04-28T20:09:53.234536",
     "exception": false,
     "start_time": "2022-04-28T20:09:53.189996",
     "status": "completed"
    },
    "tags": []
   },
   "outputs": [],
   "source": [
    "training_data_x = X_train\n",
    "testing_data_x = X_test\n",
    "training_data_y = y_train.reshape(-1,1)\n",
    "testing_data_y = y_test.reshape(-1,1)"
   ]
  },
  {
   "cell_type": "code",
   "execution_count": 19,
   "id": "76951160",
   "metadata": {
    "execution": {
     "iopub.execute_input": "2022-04-28T20:09:53.292914Z",
     "iopub.status.busy": "2022-04-28T20:09:53.292403Z",
     "iopub.status.idle": "2022-04-28T20:09:53.309196Z",
     "shell.execute_reply": "2022-04-28T20:09:53.308761Z"
    },
    "papermill": {
     "duration": 0.04774,
     "end_time": "2022-04-28T20:09:53.309307",
     "exception": false,
     "start_time": "2022-04-28T20:09:53.261567",
     "status": "completed"
    },
    "tags": []
   },
   "outputs": [
    {
     "name": "stdout",
     "output_type": "stream",
     "text": [
      "xavier\n",
      "xavier\n",
      "xavier\n",
      "xavier\n",
      "xavier\n"
     ]
    }
   ],
   "source": [
    "layers = [Affine(\"first\", 784, 100), Relu(\"first\"), Affine(\"second\", 100, 100), Relu(\"second\"), Affine(\"third\", 100, 2), Affine(\"last\", 2, 1), Sigmoid(\"last\")]\n",
    "model_nn = Model(layers)\n",
    "model_lr = Model([Affine(\"logits\", 784, 1), Sigmoid(\"sigmoid\")])"
   ]
  },
  {
   "cell_type": "code",
   "execution_count": 20,
   "id": "6eede77a",
   "metadata": {
    "execution": {
     "iopub.execute_input": "2022-04-28T20:09:53.372423Z",
     "iopub.status.busy": "2022-04-28T20:09:53.371896Z",
     "iopub.status.idle": "2022-04-28T20:09:53.382014Z",
     "shell.execute_reply": "2022-04-28T20:09:53.381597Z"
    },
    "papermill": {
     "duration": 0.045437,
     "end_time": "2022-04-28T20:09:53.382128",
     "exception": false,
     "start_time": "2022-04-28T20:09:53.336691",
     "status": "completed"
    },
    "tags": []
   },
   "outputs": [],
   "source": [
    "nn_learner = Learner(loss, model_nn, opt, config.num_epochs)\n",
    "acc_nn = ClfCallback(nn_learner, config.bs, training_data_x , testing_data_x, training_data_y, testing_data_y)\n",
    "nn_learner.set_callbacks([acc_nn])"
   ]
  },
  {
   "cell_type": "code",
   "execution_count": 21,
   "id": "877b6cc7",
   "metadata": {
    "execution": {
     "iopub.execute_input": "2022-04-28T20:09:53.456337Z",
     "iopub.status.busy": "2022-04-28T20:09:53.455803Z",
     "iopub.status.idle": "2022-04-28T20:09:53.459215Z",
     "shell.execute_reply": "2022-04-28T20:09:53.459604Z"
    },
    "papermill": {
     "duration": 0.050033,
     "end_time": "2022-04-28T20:09:53.459740",
     "exception": false,
     "start_time": "2022-04-28T20:09:53.409707",
     "status": "completed"
    },
    "tags": []
   },
   "outputs": [],
   "source": [
    "lr_learner = Learner(loss, model_lr, opt, config.num_epochs)\n",
    "acc_lr = ClfCallback(lr_learner, config.bs, training_data_x , testing_data_x, training_data_y, testing_data_y)\n",
    "lr_learner.set_callbacks([acc_lr])"
   ]
  },
  {
   "cell_type": "code",
   "execution_count": 22,
   "id": "d9b133c3",
   "metadata": {
    "execution": {
     "iopub.execute_input": "2022-04-28T20:09:53.528491Z",
     "iopub.status.busy": "2022-04-28T20:09:53.527961Z",
     "iopub.status.idle": "2022-04-28T20:11:08.035431Z",
     "shell.execute_reply": "2022-04-28T20:11:08.036182Z"
    },
    "papermill": {
     "duration": 74.54907,
     "end_time": "2022-04-28T20:11:08.036331",
     "exception": false,
     "start_time": "2022-04-28T20:09:53.487261",
     "status": "completed"
    },
    "tags": []
   },
   "outputs": [
    {
     "name": "stdout",
     "output_type": "stream",
     "text": [
      "Epoch 0, Loss 0.2442\n",
      "Training Accuracy: 0.5299, Testing Accuracy: 0.5237\n",
      "\n"
     ]
    },
    {
     "name": "stdout",
     "output_type": "stream",
     "text": [
      "Epoch 10, Loss 0.2085\n",
      "Training Accuracy: 0.8550, Testing Accuracy: 0.8553\n",
      "\n"
     ]
    },
    {
     "name": "stdout",
     "output_type": "stream",
     "text": [
      "Epoch 20, Loss 0.1151\n",
      "Training Accuracy: 0.9104, Testing Accuracy: 0.9163\n",
      "\n"
     ]
    },
    {
     "name": "stdout",
     "output_type": "stream",
     "text": [
      "Epoch 30, Loss 0.0676\n",
      "Training Accuracy: 0.9309, Testing Accuracy: 0.9435\n",
      "\n"
     ]
    },
    {
     "name": "stdout",
     "output_type": "stream",
     "text": [
      "Epoch 40, Loss 0.0517\n",
      "Training Accuracy: 0.9447, Testing Accuracy: 0.9531\n",
      "\n"
     ]
    },
    {
     "name": "stdout",
     "output_type": "stream",
     "text": [
      "Epoch 50, Loss 0.044\n",
      "Training Accuracy: 0.9528, Testing Accuracy: 0.9617\n",
      "\n"
     ]
    },
    {
     "name": "stdout",
     "output_type": "stream",
     "text": [
      "Epoch 60, Loss 0.0394\n",
      "Training Accuracy: 0.9560, Testing Accuracy: 0.9632\n",
      "\n"
     ]
    },
    {
     "name": "stdout",
     "output_type": "stream",
     "text": [
      "Epoch 70, Loss 0.0362\n",
      "Training Accuracy: 0.9583, Testing Accuracy: 0.9652\n",
      "\n"
     ]
    },
    {
     "name": "stdout",
     "output_type": "stream",
     "text": [
      "Epoch 80, Loss 0.0338\n",
      "Training Accuracy: 0.9604, Testing Accuracy: 0.9667\n",
      "\n"
     ]
    },
    {
     "name": "stdout",
     "output_type": "stream",
     "text": [
      "Epoch 90, Loss 0.032\n",
      "Training Accuracy: 0.9615, Testing Accuracy: 0.9672\n",
      "\n"
     ]
    },
    {
     "name": "stdout",
     "output_type": "stream",
     "text": [
      "Epoch 100, Loss 0.0305\n",
      "Training Accuracy: 0.9636, Testing Accuracy: 0.9667\n",
      "\n"
     ]
    },
    {
     "name": "stdout",
     "output_type": "stream",
     "text": [
      "Epoch 110, Loss 0.0292\n",
      "Training Accuracy: 0.9651, Testing Accuracy: 0.9682\n",
      "\n"
     ]
    },
    {
     "name": "stdout",
     "output_type": "stream",
     "text": [
      "Epoch 120, Loss 0.0281\n",
      "Training Accuracy: 0.9664, Testing Accuracy: 0.9688\n",
      "\n"
     ]
    },
    {
     "name": "stdout",
     "output_type": "stream",
     "text": [
      "Epoch 130, Loss 0.0271\n",
      "Training Accuracy: 0.9680, Testing Accuracy: 0.9698\n",
      "\n"
     ]
    },
    {
     "name": "stdout",
     "output_type": "stream",
     "text": [
      "Epoch 140, Loss 0.0263\n",
      "Training Accuracy: 0.9687, Testing Accuracy: 0.9708\n",
      "\n"
     ]
    },
    {
     "name": "stdout",
     "output_type": "stream",
     "text": [
      "Epoch 150, Loss 0.0255\n",
      "Training Accuracy: 0.9696, Testing Accuracy: 0.9703\n",
      "\n"
     ]
    },
    {
     "name": "stdout",
     "output_type": "stream",
     "text": [
      "Epoch 160, Loss 0.0248\n",
      "Training Accuracy: 0.9706, Testing Accuracy: 0.9713\n",
      "\n"
     ]
    },
    {
     "name": "stdout",
     "output_type": "stream",
     "text": [
      "Epoch 170, Loss 0.0241\n",
      "Training Accuracy: 0.9717, Testing Accuracy: 0.9718\n",
      "\n"
     ]
    },
    {
     "name": "stdout",
     "output_type": "stream",
     "text": [
      "Epoch 180, Loss 0.0235\n",
      "Training Accuracy: 0.9722, Testing Accuracy: 0.9713\n",
      "\n"
     ]
    },
    {
     "name": "stdout",
     "output_type": "stream",
     "text": [
      "Epoch 190, Loss 0.0229\n",
      "Training Accuracy: 0.9736, Testing Accuracy: 0.9718\n",
      "\n"
     ]
    },
    {
     "name": "stdout",
     "output_type": "stream",
     "text": [
      "Epoch 200, Loss 0.0224\n",
      "Training Accuracy: 0.9741, Testing Accuracy: 0.9723\n",
      "\n"
     ]
    },
    {
     "name": "stdout",
     "output_type": "stream",
     "text": [
      "Epoch 210, Loss 0.0219\n",
      "Training Accuracy: 0.9748, Testing Accuracy: 0.9728\n",
      "\n"
     ]
    },
    {
     "name": "stdout",
     "output_type": "stream",
     "text": [
      "Epoch 220, Loss 0.0214\n",
      "Training Accuracy: 0.9755, Testing Accuracy: 0.9733\n",
      "\n"
     ]
    },
    {
     "name": "stdout",
     "output_type": "stream",
     "text": [
      "Epoch 230, Loss 0.021\n",
      "Training Accuracy: 0.9760, Testing Accuracy: 0.9733\n",
      "\n"
     ]
    },
    {
     "name": "stdout",
     "output_type": "stream",
     "text": [
      "Epoch 240, Loss 0.0205\n",
      "Training Accuracy: 0.9766, Testing Accuracy: 0.9733\n",
      "\n"
     ]
    },
    {
     "data": {
      "text/plain": [
       "0.02297826427620426"
      ]
     },
     "execution_count": 22,
     "metadata": {},
     "output_type": "execute_result"
    }
   ],
   "source": [
    "nn_learner.train_loop(dl)"
   ]
  },
  {
   "cell_type": "code",
   "execution_count": 23,
   "id": "e0163366",
   "metadata": {
    "execution": {
     "iopub.execute_input": "2022-04-28T20:11:08.124906Z",
     "iopub.status.busy": "2022-04-28T20:11:08.124382Z",
     "iopub.status.idle": "2022-04-28T20:11:21.305125Z",
     "shell.execute_reply": "2022-04-28T20:11:21.305848Z"
    },
    "papermill": {
     "duration": 13.234607,
     "end_time": "2022-04-28T20:11:21.305994",
     "exception": false,
     "start_time": "2022-04-28T20:11:08.071387",
     "status": "completed"
    },
    "tags": []
   },
   "outputs": [
    {
     "name": "stdout",
     "output_type": "stream",
     "text": [
      "Epoch 0, Loss 0.2242\n",
      "Training Accuracy: 0.7349, Testing Accuracy: 0.7525\n",
      "\n"
     ]
    },
    {
     "name": "stdout",
     "output_type": "stream",
     "text": [
      "Epoch 10, Loss 0.1046\n",
      "Training Accuracy: 0.8997, Testing Accuracy: 0.9173\n",
      "\n"
     ]
    },
    {
     "name": "stdout",
     "output_type": "stream",
     "text": [
      "Epoch 20, Loss 0.0805\n",
      "Training Accuracy: 0.9236, Testing Accuracy: 0.9375\n",
      "\n"
     ]
    },
    {
     "name": "stdout",
     "output_type": "stream",
     "text": [
      "Epoch 30, Loss 0.0692\n",
      "Training Accuracy: 0.9334, Testing Accuracy: 0.9466\n",
      "\n"
     ]
    },
    {
     "name": "stdout",
     "output_type": "stream",
     "text": [
      "Epoch 40, Loss 0.0623\n",
      "Training Accuracy: 0.9387, Testing Accuracy: 0.9506\n",
      "\n"
     ]
    },
    {
     "name": "stdout",
     "output_type": "stream",
     "text": [
      "Epoch 50, Loss 0.0577\n",
      "Training Accuracy: 0.9435, Testing Accuracy: 0.9556\n",
      "\n"
     ]
    },
    {
     "name": "stdout",
     "output_type": "stream",
     "text": [
      "Epoch 60, Loss 0.0543\n",
      "Training Accuracy: 0.9462, Testing Accuracy: 0.9592\n",
      "\n"
     ]
    },
    {
     "name": "stdout",
     "output_type": "stream",
     "text": [
      "Epoch 70, Loss 0.0516\n",
      "Training Accuracy: 0.9478, Testing Accuracy: 0.9592\n",
      "\n"
     ]
    },
    {
     "name": "stdout",
     "output_type": "stream",
     "text": [
      "Epoch 80, Loss 0.0495\n",
      "Training Accuracy: 0.9503, Testing Accuracy: 0.9602\n",
      "\n"
     ]
    },
    {
     "name": "stdout",
     "output_type": "stream",
     "text": [
      "Epoch 90, Loss 0.0478\n",
      "Training Accuracy: 0.9518, Testing Accuracy: 0.9607\n",
      "\n"
     ]
    },
    {
     "name": "stdout",
     "output_type": "stream",
     "text": [
      "Epoch 100, Loss 0.0463\n",
      "Training Accuracy: 0.9536, Testing Accuracy: 0.9627\n",
      "\n"
     ]
    },
    {
     "name": "stdout",
     "output_type": "stream",
     "text": [
      "Epoch 110, Loss 0.0451\n",
      "Training Accuracy: 0.9545, Testing Accuracy: 0.9627\n",
      "\n"
     ]
    },
    {
     "name": "stdout",
     "output_type": "stream",
     "text": [
      "Epoch 120, Loss 0.044\n",
      "Training Accuracy: 0.9554, Testing Accuracy: 0.9637\n",
      "\n"
     ]
    },
    {
     "name": "stdout",
     "output_type": "stream",
     "text": [
      "Epoch 130, Loss 0.0431\n",
      "Training Accuracy: 0.9560, Testing Accuracy: 0.9642\n",
      "\n"
     ]
    },
    {
     "name": "stdout",
     "output_type": "stream",
     "text": [
      "Epoch 140, Loss 0.0422\n",
      "Training Accuracy: 0.9564, Testing Accuracy: 0.9647\n",
      "\n"
     ]
    },
    {
     "name": "stdout",
     "output_type": "stream",
     "text": [
      "Epoch 150, Loss 0.0415\n",
      "Training Accuracy: 0.9574, Testing Accuracy: 0.9652\n",
      "\n"
     ]
    },
    {
     "name": "stdout",
     "output_type": "stream",
     "text": [
      "Epoch 160, Loss 0.0408\n",
      "Training Accuracy: 0.9579, Testing Accuracy: 0.9662\n",
      "\n"
     ]
    },
    {
     "name": "stdout",
     "output_type": "stream",
     "text": [
      "Epoch 170, Loss 0.0402\n",
      "Training Accuracy: 0.9581, Testing Accuracy: 0.9657\n",
      "\n"
     ]
    },
    {
     "name": "stdout",
     "output_type": "stream",
     "text": [
      "Epoch 180, Loss 0.0396\n",
      "Training Accuracy: 0.9588, Testing Accuracy: 0.9657\n",
      "\n"
     ]
    },
    {
     "name": "stdout",
     "output_type": "stream",
     "text": [
      "Epoch 190, Loss 0.0391\n",
      "Training Accuracy: 0.9595, Testing Accuracy: 0.9657\n",
      "\n"
     ]
    },
    {
     "name": "stdout",
     "output_type": "stream",
     "text": [
      "Epoch 200, Loss 0.0386\n",
      "Training Accuracy: 0.9598, Testing Accuracy: 0.9657\n",
      "\n"
     ]
    },
    {
     "name": "stdout",
     "output_type": "stream",
     "text": [
      "Epoch 210, Loss 0.0381\n",
      "Training Accuracy: 0.9599, Testing Accuracy: 0.9662\n",
      "\n"
     ]
    },
    {
     "name": "stdout",
     "output_type": "stream",
     "text": [
      "Epoch 220, Loss 0.0377\n",
      "Training Accuracy: 0.9602, Testing Accuracy: 0.9667\n",
      "\n"
     ]
    },
    {
     "name": "stdout",
     "output_type": "stream",
     "text": [
      "Epoch 230, Loss 0.0373\n",
      "Training Accuracy: 0.9602, Testing Accuracy: 0.9667\n",
      "\n"
     ]
    },
    {
     "name": "stdout",
     "output_type": "stream",
     "text": [
      "Epoch 240, Loss 0.0369\n",
      "Training Accuracy: 0.9603, Testing Accuracy: 0.9672\n",
      "\n"
     ]
    },
    {
     "data": {
      "text/plain": [
       "0.025731689917251548"
      ]
     },
     "execution_count": 23,
     "metadata": {},
     "output_type": "execute_result"
    }
   ],
   "source": [
    "lr_learner.train_loop(dl)"
   ]
  },
  {
   "cell_type": "code",
   "execution_count": 24,
   "id": "ca410940",
   "metadata": {
    "execution": {
     "iopub.execute_input": "2022-04-28T20:11:21.400515Z",
     "iopub.status.busy": "2022-04-28T20:11:21.399981Z",
     "iopub.status.idle": "2022-04-28T20:11:21.610152Z",
     "shell.execute_reply": "2022-04-28T20:11:21.610561Z"
    },
    "papermill": {
     "duration": 0.263004,
     "end_time": "2022-04-28T20:11:21.610695",
     "exception": false,
     "start_time": "2022-04-28T20:11:21.347691",
     "status": "completed"
    },
    "tags": []
   },
   "outputs": [
    {
     "data": {
      "text/plain": [
       "<matplotlib.legend.Legend at 0x7f2c9d332b38>"
      ]
     },
     "execution_count": 24,
     "metadata": {},
     "output_type": "execute_result"
    },
    {
     "data": {
      "image/png": "[encoded data removed]",
      "text/plain": [
       "<Figure size 1080x720 with 1 Axes>"
      ]
     },
     "metadata": {
      "needs_background": "light"
     },
     "output_type": "display_data"
    }
   ],
   "source": [
    "#comparing the results of NN and LR\n",
    "plt.figure(figsize=(15,10))\n",
    "\n",
    "# Neural Network plots\n",
    "plt.plot(acc_nn.accuracies, 'r-', label = \"Training Accuracies - NN\")\n",
    "plt.plot(acc_nn.test_accuracies, 'g-', label = \"Testing Accuracies - NN\")\n",
    "\n",
    "# Logistic Regression plots\n",
    "plt.plot(acc_lr.accuracies, 'k-', label = \"Training Accuracies - LR\")\n",
    "plt.plot(acc_lr.test_accuracies, 'b-', label = \"Testing Accuracies - LR\")\n",
    "plt.legend()"
   ]
  },
  {
   "cell_type": "markdown",
   "id": "80dfb35c",
   "metadata": {
    "papermill": {
     "duration": 0.041883,
     "end_time": "2022-04-28T20:11:21.695004",
     "exception": false,
     "start_time": "2022-04-28T20:11:21.653121",
     "status": "completed"
    },
    "tags": []
   },
   "source": [
    "#### Plotting the outputs of this layer of the NN.\n"
   ]
  },
  {
   "cell_type": "code",
   "execution_count": 25,
   "id": "45eb2ff5",
   "metadata": {
    "execution": {
     "iopub.execute_input": "2022-04-28T20:11:21.783136Z",
     "iopub.status.busy": "2022-04-28T20:11:21.782584Z",
     "iopub.status.idle": "2022-04-28T20:11:21.802038Z",
     "shell.execute_reply": "2022-04-28T20:11:21.802435Z"
    },
    "papermill": {
     "duration": 0.065581,
     "end_time": "2022-04-28T20:11:21.802572",
     "exception": false,
     "start_time": "2022-04-28T20:11:21.736991",
     "status": "completed"
    },
    "tags": []
   },
   "outputs": [],
   "source": [
    "new_model = Model(layers[:-2])\n",
    "testing_plot = new_model(testing_data_x)"
   ]
  },
  {
   "cell_type": "code",
   "execution_count": 26,
   "id": "4c0a5485",
   "metadata": {
    "execution": {
     "iopub.execute_input": "2022-04-28T20:11:21.891489Z",
     "iopub.status.busy": "2022-04-28T20:11:21.890939Z",
     "iopub.status.idle": "2022-04-28T20:11:22.080812Z",
     "shell.execute_reply": "2022-04-28T20:11:22.080384Z"
    },
    "papermill": {
     "duration": 0.235857,
     "end_time": "2022-04-28T20:11:22.080933",
     "exception": false,
     "start_time": "2022-04-28T20:11:21.845076",
     "status": "completed"
    },
    "tags": []
   },
   "outputs": [
    {
     "data": {
      "text/plain": [
       "Text(0.5, 1.0, 'Outputs')"
      ]
     },
     "execution_count": 26,
     "metadata": {},
     "output_type": "execute_result"
    },
    {
     "data": {
      "image/png": "[encoded data removed]",
      "text/plain": [
       "<Figure size 576x504 with 1 Axes>"
      ]
     },
     "metadata": {
      "needs_background": "light"
     },
     "output_type": "display_data"
    }
   ],
   "source": [
    "# Plotting the scatter plot of points and color coding by class\n",
    "plt.figure(figsize=(8,7))\n",
    "plt.scatter(testing_plot[:,0], testing_plot[:,1], alpha = 0.1, c = y_test.ravel());\n",
    "plt.title('Outputs')"
   ]
  },
  {
   "cell_type": "markdown",
   "id": "a74fcf8f",
   "metadata": {
    "papermill": {
     "duration": 0.04405,
     "end_time": "2022-04-28T20:11:22.169318",
     "exception": false,
     "start_time": "2022-04-28T20:11:22.125268",
     "status": "completed"
    },
    "tags": []
   },
   "source": [
    "Probability contours"
   ]
  },
  {
   "cell_type": "code",
   "execution_count": 27,
   "id": "d0afc8e3",
   "metadata": {
    "execution": {
     "iopub.execute_input": "2022-04-28T20:11:22.262074Z",
     "iopub.status.busy": "2022-04-28T20:11:22.260921Z",
     "iopub.status.idle": "2022-04-28T20:11:22.272679Z",
     "shell.execute_reply": "2022-04-28T20:11:22.272124Z"
    },
    "papermill": {
     "duration": 0.059331,
     "end_time": "2022-04-28T20:11:22.272798",
     "exception": false,
     "start_time": "2022-04-28T20:11:22.213467",
     "status": "completed"
    },
    "tags": []
   },
   "outputs": [],
   "source": [
    "model_prob = Model(layers[-2:]) "
   ]
  },
  {
   "cell_type": "code",
   "execution_count": 28,
   "id": "9b96e238",
   "metadata": {
    "execution": {
     "iopub.execute_input": "2022-04-28T20:11:22.395882Z",
     "iopub.status.busy": "2022-04-28T20:11:22.395276Z",
     "iopub.status.idle": "2022-04-28T20:11:22.408073Z",
     "shell.execute_reply": "2022-04-28T20:11:22.408457Z"
    },
    "papermill": {
     "duration": 0.062208,
     "end_time": "2022-04-28T20:11:22.408589",
     "exception": false,
     "start_time": "2022-04-28T20:11:22.346381",
     "status": "completed"
    },
    "tags": []
   },
   "outputs": [],
   "source": [
    "#creating the x and y ranges according to the above generated plot.\n",
    "x_range = np.linspace(-4, 1, 100) \n",
    "y_range = np.linspace(-6, 6, 100) \n",
    "x_grid, y_grid = np.meshgrid(x_range, y_range) # x_grid and y_grig are of size 100 X 100\n",
    "\n",
    "# converting x_grid and y_grid to continuous arrays\n",
    "x_gridflat = np.ravel(x_grid)\n",
    "y_gridflat = np.ravel(y_grid)\n",
    "\n",
    "# The last layer of the current model takes two columns as input. Hence transpose of np.vstack() is required.\n",
    "X = np.vstack((x_gridflat, y_gridflat)).T\n",
    "\n",
    "prob_contour = model_prob(X).reshape(100,100) "
   ]
  },
  {
   "cell_type": "code",
   "execution_count": 29,
   "id": "da72499a",
   "metadata": {
    "execution": {
     "iopub.execute_input": "2022-04-28T20:11:22.509940Z",
     "iopub.status.busy": "2022-04-28T20:11:22.509415Z",
     "iopub.status.idle": "2022-04-28T20:11:22.745451Z",
     "shell.execute_reply": "2022-04-28T20:11:22.745849Z"
    },
    "papermill": {
     "duration": 0.293049,
     "end_time": "2022-04-28T20:11:22.745989",
     "exception": false,
     "start_time": "2022-04-28T20:11:22.452940",
     "status": "completed"
    },
    "tags": []
   },
   "outputs": [
    {
     "data": {
      "image/png": "[encoded data removed]",
      "text/plain": [
       "<Figure size 720x648 with 1 Axes>"
      ]
     },
     "metadata": {
      "needs_background": "light"
     },
     "output_type": "display_data"
    }
   ],
   "source": [
    "plt.figure(figsize=(10,9))\n",
    "plt.scatter(testing_plot[:,0], testing_plot[:,1], alpha = 0.1, c = y_test.ravel())\n",
    "contours = plt.contour(x_grid,y_grid,prob_contour)\n",
    "plt.title('Probability Contours')\n",
    "plt.clabel(contours, inline = True );"
   ]
  },
  {
   "cell_type": "code",
   "execution_count": null,
   "id": "e81b4ac7",
   "metadata": {
    "papermill": {
     "duration": 0.046759,
     "end_time": "2022-04-28T20:11:22.840081",
     "exception": false,
     "start_time": "2022-04-28T20:11:22.793322",
     "status": "completed"
    },
    "tags": []
   },
   "outputs": [],
   "source": []
  }
 ],
 "metadata": {
  "kernelspec": {
   "display_name": "Python 3",
   "language": "python",
   "name": "python3"
  },
  "language_info": {
   "codemirror_mode": {
    "name": "ipython",
    "version": 3
   },
   "file_extension": ".py",
   "mimetype": "text/x-python",
   "name": "python",
   "nbconvert_exporter": "python",
   "pygments_lexer": "ipython3",
   "version": "3.6.15"
  },
  "papermill": {
   "default_parameters": {},
   "duration": 95.729843,
   "end_time": "2022-04-28T20:11:23.305701",
   "environment_variables": {},
   "exception": null,
   "input_path": "2020-08-11-part2.ipynb",
   "output_path": "2020-08-11-part2.ipynb",
   "parameters": {},
   "start_time": "2022-04-28T20:09:47.575858",
   "version": "2.3.3"
  }
 },
 "nbformat": 4,
 "nbformat_minor": 5
}