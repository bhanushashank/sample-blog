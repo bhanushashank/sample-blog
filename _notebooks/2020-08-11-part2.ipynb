{
 "cells": [
  {
   "cell_type": "markdown",
   "id": "98380cd3",
   "metadata": {
    "papermill": {
     "duration": 0.035594,
     "end_time": "2022-03-24T20:10:48.590026",
     "exception": false,
     "start_time": "2022-03-24T20:10:48.554432",
     "status": "completed"
    },
    "tags": []
   },
   "source": [
    "# Distinguish Your Own Digits (DYOD)"
   ]
  },
  {
   "cell_type": "markdown",
   "id": "ef31240d",
   "metadata": {
    "papermill": {
     "duration": 0.028765,
     "end_time": "2022-03-24T20:10:48.646646",
     "exception": false,
     "start_time": "2022-03-24T20:10:48.617881",
     "status": "completed"
    },
    "tags": []
   },
   "source": [
    "You are going to write a classifier that distinguishes between the number 3 and number 8."
   ]
  },
  {
   "cell_type": "code",
   "execution_count": 1,
   "id": "b15c8646",
   "metadata": {
    "execution": {
     "iopub.execute_input": "2022-03-24T20:10:48.717910Z",
     "iopub.status.busy": "2022-03-24T20:10:48.717247Z",
     "iopub.status.idle": "2022-03-24T20:10:48.729641Z",
     "shell.execute_reply": "2022-03-24T20:10:48.729091Z"
    },
    "papermill": {
     "duration": 0.056234,
     "end_time": "2022-03-24T20:10:48.729792",
     "exception": false,
     "start_time": "2022-03-24T20:10:48.673558",
     "status": "completed"
    },
    "tags": []
   },
   "outputs": [],
   "source": [
    "%load_ext autoreload\n",
    "%autoreload 2"
   ]
  },
  {
   "cell_type": "code",
   "execution_count": 2,
   "id": "22ef38dc",
   "metadata": {
    "execution": {
     "iopub.execute_input": "2022-03-24T20:10:48.790276Z",
     "iopub.status.busy": "2022-03-24T20:10:48.789652Z",
     "iopub.status.idle": "2022-03-24T20:10:49.490567Z",
     "shell.execute_reply": "2022-03-24T20:10:49.491391Z"
    },
    "papermill": {
     "duration": 0.735049,
     "end_time": "2022-03-24T20:10:49.491648",
     "exception": false,
     "start_time": "2022-03-24T20:10:48.756599",
     "status": "completed"
    },
    "tags": []
   },
   "outputs": [],
   "source": [
    "%matplotlib inline\n",
    "import numpy as np\n",
    "import matplotlib.pyplot as plt\n",
    "import pandas as pd"
   ]
  },
  {
   "cell_type": "markdown",
   "id": "ba036198",
   "metadata": {
    "papermill": {
     "duration": 0.027882,
     "end_time": "2022-03-24T20:10:49.549318",
     "exception": false,
     "start_time": "2022-03-24T20:10:49.521436",
     "status": "completed"
    },
    "tags": []
   },
   "source": [
    "From the command line run `pip install mnist`. This is a library that will help you bring down the mnist dataset. If you run this from a notebook, you need to put  `!pip install mnist` in a cell by itself."
   ]
  },
  {
   "cell_type": "code",
   "execution_count": 3,
   "id": "bb6ad8a1",
   "metadata": {
    "execution": {
     "iopub.execute_input": "2022-03-24T20:10:49.612140Z",
     "iopub.status.busy": "2022-03-24T20:10:49.610748Z",
     "iopub.status.idle": "2022-03-24T20:10:51.604349Z",
     "shell.execute_reply": "2022-03-24T20:10:51.605606Z"
    },
    "papermill": {
     "duration": 2.029309,
     "end_time": "2022-03-24T20:10:51.605851",
     "exception": false,
     "start_time": "2022-03-24T20:10:49.576542",
     "status": "completed"
    },
    "tags": []
   },
   "outputs": [
    {
     "name": "stdout",
     "output_type": "stream",
     "text": [
      "Collecting mnist\r\n"
     ]
    },
    {
     "name": "stdout",
     "output_type": "stream",
     "text": [
      "  Downloading mnist-0.2.2-py2.py3-none-any.whl (3.5 kB)\r\n",
      "Requirement already satisfied: numpy in /opt/hostedtoolcache/Python/3.6.15/x64/lib/python3.6/site-packages (from mnist) (1.19.5)\r\n"
     ]
    },
    {
     "name": "stdout",
     "output_type": "stream",
     "text": [
      "Installing collected packages: mnist\r\n"
     ]
    },
    {
     "name": "stdout",
     "output_type": "stream",
     "text": [
      "Successfully installed mnist-0.2.2\r\n"
     ]
    }
   ],
   "source": [
    "!pip install mnist"
   ]
  },
  {
   "cell_type": "markdown",
   "id": "69df9c9a",
   "metadata": {
    "papermill": {
     "duration": 0.032262,
     "end_time": "2022-03-24T20:10:51.669218",
     "exception": false,
     "start_time": "2022-03-24T20:10:51.636956",
     "status": "completed"
    },
    "tags": []
   },
   "source": [
    "## Preparing the Data"
   ]
  },
  {
   "cell_type": "code",
   "execution_count": 4,
   "id": "7f69d806",
   "metadata": {
    "execution": {
     "iopub.execute_input": "2022-03-24T20:10:51.732768Z",
     "iopub.status.busy": "2022-03-24T20:10:51.732117Z",
     "iopub.status.idle": "2022-03-24T20:10:51.748895Z",
     "shell.execute_reply": "2022-03-24T20:10:51.748403Z"
    },
    "papermill": {
     "duration": 0.051672,
     "end_time": "2022-03-24T20:10:51.749031",
     "exception": false,
     "start_time": "2022-03-24T20:10:51.697359",
     "status": "completed"
    },
    "tags": []
   },
   "outputs": [],
   "source": [
    "import mnist"
   ]
  },
  {
   "cell_type": "code",
   "execution_count": 5,
   "id": "a411e44f",
   "metadata": {
    "execution": {
     "iopub.execute_input": "2022-03-24T20:10:51.813294Z",
     "iopub.status.busy": "2022-03-24T20:10:51.812688Z",
     "iopub.status.idle": "2022-03-24T20:10:52.354547Z",
     "shell.execute_reply": "2022-03-24T20:10:52.353869Z"
    },
    "papermill": {
     "duration": 0.576022,
     "end_time": "2022-03-24T20:10:52.354721",
     "exception": false,
     "start_time": "2022-03-24T20:10:51.778699",
     "status": "completed"
    },
    "tags": []
   },
   "outputs": [],
   "source": [
    "train_images = mnist.train_images()\n",
    "train_labels = mnist.train_labels()"
   ]
  },
  {
   "cell_type": "code",
   "execution_count": 6,
   "id": "dceab3a5",
   "metadata": {
    "execution": {
     "iopub.execute_input": "2022-03-24T20:10:52.420304Z",
     "iopub.status.busy": "2022-03-24T20:10:52.419568Z",
     "iopub.status.idle": "2022-03-24T20:10:52.437891Z",
     "shell.execute_reply": "2022-03-24T20:10:52.438373Z"
    },
    "papermill": {
     "duration": 0.052441,
     "end_time": "2022-03-24T20:10:52.438530",
     "exception": false,
     "start_time": "2022-03-24T20:10:52.386089",
     "status": "completed"
    },
    "tags": []
   },
   "outputs": [
    {
     "data": {
      "text/plain": [
       "((60000, 28, 28), (60000,))"
      ]
     },
     "execution_count": 6,
     "metadata": {},
     "output_type": "execute_result"
    }
   ],
   "source": [
    "train_images.shape, train_labels.shape"
   ]
  },
  {
   "cell_type": "code",
   "execution_count": 7,
   "id": "f50dc2bb",
   "metadata": {
    "execution": {
     "iopub.execute_input": "2022-03-24T20:10:52.506137Z",
     "iopub.status.busy": "2022-03-24T20:10:52.504846Z",
     "iopub.status.idle": "2022-03-24T20:10:52.671229Z",
     "shell.execute_reply": "2022-03-24T20:10:52.671728Z"
    },
    "papermill": {
     "duration": 0.204172,
     "end_time": "2022-03-24T20:10:52.671896",
     "exception": false,
     "start_time": "2022-03-24T20:10:52.467724",
     "status": "completed"
    },
    "tags": []
   },
   "outputs": [],
   "source": [
    "test_images = mnist.test_images()\n",
    "test_labels = mnist.test_labels()"
   ]
  },
  {
   "cell_type": "code",
   "execution_count": 8,
   "id": "fc38cf1b",
   "metadata": {
    "execution": {
     "iopub.execute_input": "2022-03-24T20:10:52.740931Z",
     "iopub.status.busy": "2022-03-24T20:10:52.739272Z",
     "iopub.status.idle": "2022-03-24T20:10:52.758364Z",
     "shell.execute_reply": "2022-03-24T20:10:52.757838Z"
    },
    "papermill": {
     "duration": 0.05535,
     "end_time": "2022-03-24T20:10:52.758496",
     "exception": false,
     "start_time": "2022-03-24T20:10:52.703146",
     "status": "completed"
    },
    "tags": []
   },
   "outputs": [
    {
     "data": {
      "text/plain": [
       "((10000, 28, 28), (10000,))"
      ]
     },
     "execution_count": 8,
     "metadata": {},
     "output_type": "execute_result"
    }
   ],
   "source": [
    "test_images.shape, test_labels.shape"
   ]
  },
  {
   "cell_type": "code",
   "execution_count": 9,
   "id": "f9ed8fe0",
   "metadata": {
    "execution": {
     "iopub.execute_input": "2022-03-24T20:10:52.827107Z",
     "iopub.status.busy": "2022-03-24T20:10:52.826022Z",
     "iopub.status.idle": "2022-03-24T20:10:52.989418Z",
     "shell.execute_reply": "2022-03-24T20:10:52.988883Z"
    },
    "papermill": {
     "duration": 0.199782,
     "end_time": "2022-03-24T20:10:52.989547",
     "exception": false,
     "start_time": "2022-03-24T20:10:52.789765",
     "status": "completed"
    },
    "tags": []
   },
   "outputs": [
    {
     "name": "stdout",
     "output_type": "stream",
     "text": [
      "2\n"
     ]
    },
    {
     "data": {
      "text/plain": [
       "<matplotlib.image.AxesImage at 0x7f374681b630>"
      ]
     },
     "execution_count": 9,
     "metadata": {},
     "output_type": "execute_result"
    },
    {
     "data": {
      "image/png": "[encoded data removed]",
      "text/plain": [
       "<Figure size 432x288 with 1 Axes>"
      ]
     },
     "metadata": {
      "needs_background": "light"
     },
     "output_type": "display_data"
    }
   ],
   "source": [
    "image_index = 7776 # You may select anything up to 60,000\n",
    "print(train_labels[image_index]) \n",
    "plt.imshow(train_images[image_index], cmap='Greys')"
   ]
  },
  {
   "cell_type": "markdown",
   "id": "a8d2388d",
   "metadata": {
    "papermill": {
     "duration": 0.030082,
     "end_time": "2022-03-24T20:10:53.049451",
     "exception": false,
     "start_time": "2022-03-24T20:10:53.019369",
     "status": "completed"
    },
    "tags": []
   },
   "source": [
    "## Filter data to get 3 and 8 out"
   ]
  },
  {
   "cell_type": "code",
   "execution_count": 10,
   "id": "776f7fc7",
   "metadata": {
    "execution": {
     "iopub.execute_input": "2022-03-24T20:10:53.117310Z",
     "iopub.status.busy": "2022-03-24T20:10:53.115722Z",
     "iopub.status.idle": "2022-03-24T20:10:53.139204Z",
     "shell.execute_reply": "2022-03-24T20:10:53.138459Z"
    },
    "papermill": {
     "duration": 0.060077,
     "end_time": "2022-03-24T20:10:53.139378",
     "exception": false,
     "start_time": "2022-03-24T20:10:53.079301",
     "status": "completed"
    },
    "tags": []
   },
   "outputs": [],
   "source": [
    "train_filter = np.where((train_labels == 3 ) | (train_labels == 8))\n",
    "test_filter = np.where((test_labels == 3) | (test_labels == 8))\n",
    "X_train, y_train = train_images[train_filter], train_labels[train_filter]\n",
    "X_test, y_test = test_images[test_filter], test_labels[test_filter]"
   ]
  },
  {
   "cell_type": "markdown",
   "id": "948f0b7e",
   "metadata": {
    "papermill": {
     "duration": 0.030192,
     "end_time": "2022-03-24T20:10:53.201254",
     "exception": false,
     "start_time": "2022-03-24T20:10:53.171062",
     "status": "completed"
    },
    "tags": []
   },
   "source": [
    "We normalize the pizel values in the 0 to 1 range"
   ]
  },
  {
   "cell_type": "code",
   "execution_count": 11,
   "id": "ee4c2166",
   "metadata": {
    "execution": {
     "iopub.execute_input": "2022-03-24T20:10:53.265175Z",
     "iopub.status.busy": "2022-03-24T20:10:53.264534Z",
     "iopub.status.idle": "2022-03-24T20:10:53.322229Z",
     "shell.execute_reply": "2022-03-24T20:10:53.321305Z"
    },
    "papermill": {
     "duration": 0.09135,
     "end_time": "2022-03-24T20:10:53.322444",
     "exception": false,
     "start_time": "2022-03-24T20:10:53.231094",
     "status": "completed"
    },
    "tags": []
   },
   "outputs": [],
   "source": [
    "X_train = X_train/255.\n",
    "X_test = X_test/255."
   ]
  },
  {
   "cell_type": "markdown",
   "id": "ddcf4fab",
   "metadata": {
    "papermill": {
     "duration": 0.029579,
     "end_time": "2022-03-24T20:10:53.383815",
     "exception": false,
     "start_time": "2022-03-24T20:10:53.354236",
     "status": "completed"
    },
    "tags": []
   },
   "source": [
    "And setup the labels as 1 (when the digit is 3) and 0 (when the digit is 8)"
   ]
  },
  {
   "cell_type": "code",
   "execution_count": 12,
   "id": "7dc908f2",
   "metadata": {
    "execution": {
     "iopub.execute_input": "2022-03-24T20:10:53.449727Z",
     "iopub.status.busy": "2022-03-24T20:10:53.449131Z",
     "iopub.status.idle": "2022-03-24T20:10:53.464952Z",
     "shell.execute_reply": "2022-03-24T20:10:53.465409Z"
    },
    "papermill": {
     "duration": 0.052016,
     "end_time": "2022-03-24T20:10:53.465561",
     "exception": false,
     "start_time": "2022-03-24T20:10:53.413545",
     "status": "completed"
    },
    "tags": []
   },
   "outputs": [],
   "source": [
    "y_train = 1*(y_train==3)\n",
    "y_test = 1*(y_test==3)"
   ]
  },
  {
   "cell_type": "code",
   "execution_count": 13,
   "id": "01e4e969",
   "metadata": {
    "execution": {
     "iopub.execute_input": "2022-03-24T20:10:53.529333Z",
     "iopub.status.busy": "2022-03-24T20:10:53.528708Z",
     "iopub.status.idle": "2022-03-24T20:10:53.545104Z",
     "shell.execute_reply": "2022-03-24T20:10:53.544486Z"
    },
    "papermill": {
     "duration": 0.049978,
     "end_time": "2022-03-24T20:10:53.545239",
     "exception": false,
     "start_time": "2022-03-24T20:10:53.495261",
     "status": "completed"
    },
    "tags": []
   },
   "outputs": [
    {
     "data": {
      "text/plain": [
       "((11982, 28, 28), (1984, 28, 28))"
      ]
     },
     "execution_count": 13,
     "metadata": {},
     "output_type": "execute_result"
    }
   ],
   "source": [
    "X_train.shape, X_test.shape"
   ]
  },
  {
   "cell_type": "markdown",
   "id": "5ccf3f85",
   "metadata": {
    "papermill": {
     "duration": 0.029805,
     "end_time": "2022-03-24T20:10:53.604818",
     "exception": false,
     "start_time": "2022-03-24T20:10:53.575013",
     "status": "completed"
    },
    "tags": []
   },
   "source": [
    "We reshape the data to flatten the image pixels into a set of features or co-variates:"
   ]
  },
  {
   "cell_type": "code",
   "execution_count": 14,
   "id": "5286a4a3",
   "metadata": {
    "execution": {
     "iopub.execute_input": "2022-03-24T20:10:53.670077Z",
     "iopub.status.busy": "2022-03-24T20:10:53.669468Z",
     "iopub.status.idle": "2022-03-24T20:10:53.685898Z",
     "shell.execute_reply": "2022-03-24T20:10:53.685407Z"
    },
    "papermill": {
     "duration": 0.05097,
     "end_time": "2022-03-24T20:10:53.686032",
     "exception": false,
     "start_time": "2022-03-24T20:10:53.635062",
     "status": "completed"
    },
    "tags": []
   },
   "outputs": [
    {
     "data": {
      "text/plain": [
       "((11982, 784), (1984, 784))"
      ]
     },
     "execution_count": 14,
     "metadata": {},
     "output_type": "execute_result"
    }
   ],
   "source": [
    "X_train = X_train.reshape(X_train.shape[0], -1)\n",
    "X_test = X_test.reshape(X_test.shape[0], -1)\n",
    "X_train.shape, X_test.shape"
   ]
  },
  {
   "cell_type": "code",
   "execution_count": 15,
   "id": "73c5f88a",
   "metadata": {
    "execution": {
     "iopub.execute_input": "2022-03-24T20:10:53.752734Z",
     "iopub.status.busy": "2022-03-24T20:10:53.751214Z",
     "iopub.status.idle": "2022-03-24T20:10:53.774987Z",
     "shell.execute_reply": "2022-03-24T20:10:53.773867Z"
    },
    "papermill": {
     "duration": 0.05909,
     "end_time": "2022-03-24T20:10:53.775144",
     "exception": false,
     "start_time": "2022-03-24T20:10:53.716054",
     "status": "completed"
    },
    "tags": []
   },
   "outputs": [],
   "source": [
    "#Impoting functions from 'Kudzu'\n",
    "from kudzu.model import Model\n",
    "from kudzu.train import Learner\n",
    "from kudzu.optim import GD\n",
    "from kudzu.data import Data, Sampler,Dataloader\n",
    "\n",
    "from kudzu.callbacks import AccCallback\n",
    "from kudzu.callbacks import ClfCallback\n",
    "\n",
    "from kudzu.loss import MSE\n",
    "\n",
    "from kudzu.layer import Sigmoid,Relu\n",
    "from kudzu.layer import Affine"
   ]
  },
  {
   "cell_type": "markdown",
   "id": "bc01172a",
   "metadata": {
    "papermill": {
     "duration": 0.030323,
     "end_time": "2022-03-24T20:10:53.836020",
     "exception": false,
     "start_time": "2022-03-24T20:10:53.805697",
     "status": "completed"
    },
    "tags": []
   },
   "source": [
    "### Let us create a `Config` class, to store important parameters. \n",
    "This class essentially plays the role of a dictionary."
   ]
  },
  {
   "cell_type": "code",
   "execution_count": 16,
   "id": "978281aa",
   "metadata": {
    "execution": {
     "iopub.execute_input": "2022-03-24T20:10:53.905963Z",
     "iopub.status.busy": "2022-03-24T20:10:53.900578Z",
     "iopub.status.idle": "2022-03-24T20:10:53.914294Z",
     "shell.execute_reply": "2022-03-24T20:10:53.913697Z"
    },
    "papermill": {
     "duration": 0.048378,
     "end_time": "2022-03-24T20:10:53.914430",
     "exception": false,
     "start_time": "2022-03-24T20:10:53.866052",
     "status": "completed"
    },
    "tags": []
   },
   "outputs": [],
   "source": [
    "class Config:\n",
    "    pass\n",
    "config = Config()\n",
    "config.lr = 0.001\n",
    "config.num_epochs = 250\n",
    "config.bs = 50"
   ]
  },
  {
   "cell_type": "markdown",
   "id": "1385fa59",
   "metadata": {
    "papermill": {
     "duration": 0.030227,
     "end_time": "2022-03-24T20:10:53.975878",
     "exception": false,
     "start_time": "2022-03-24T20:10:53.945651",
     "status": "completed"
    },
    "tags": []
   },
   "source": [
    "### Running Models with the Training data\n",
    "Details about the network layers:\n",
    "- A first affine layer has 784 inputs and does 100 affine transforms. These are followed by a Relu\n",
    "- A second affine layer has 100 inputs from the 100 activations of the past layer, and does 100 affine transforms. These are followed by a Relu\n",
    "- A third affine layer has 100 activations and does 2 affine transformations to create an embedding for visualization. There is no non-linearity here.\n",
    "- A final \"logistic regression\" which has an affine transform from 2 inputs to 1 output, which is squeezed through a sigmoid.\n"
   ]
  },
  {
   "cell_type": "code",
   "execution_count": 17,
   "id": "2b9c66db",
   "metadata": {
    "execution": {
     "iopub.execute_input": "2022-03-24T20:10:54.040931Z",
     "iopub.status.busy": "2022-03-24T20:10:54.040339Z",
     "iopub.status.idle": "2022-03-24T20:10:54.054815Z",
     "shell.execute_reply": "2022-03-24T20:10:54.055321Z"
    },
    "papermill": {
     "duration": 0.049477,
     "end_time": "2022-03-24T20:10:54.055479",
     "exception": false,
     "start_time": "2022-03-24T20:10:54.006002",
     "status": "completed"
    },
    "tags": []
   },
   "outputs": [],
   "source": [
    "data = Data(X_train, y_train.reshape(-1,1))\n",
    "sampler = Sampler(data, config.bs, shuffle=True)\n",
    "\n",
    "dl = Dataloader(data, sampler)\n",
    "\n",
    "opt = GD(config.lr)\n",
    "loss = MSE()"
   ]
  },
  {
   "cell_type": "code",
   "execution_count": 18,
   "id": "b275e4c2",
   "metadata": {
    "execution": {
     "iopub.execute_input": "2022-03-24T20:10:54.121586Z",
     "iopub.status.busy": "2022-03-24T20:10:54.121004Z",
     "iopub.status.idle": "2022-03-24T20:10:54.134671Z",
     "shell.execute_reply": "2022-03-24T20:10:54.135161Z"
    },
    "papermill": {
     "duration": 0.049362,
     "end_time": "2022-03-24T20:10:54.135322",
     "exception": false,
     "start_time": "2022-03-24T20:10:54.085960",
     "status": "completed"
    },
    "tags": []
   },
   "outputs": [],
   "source": [
    "training_data_x = X_train\n",
    "testing_data_x = X_test\n",
    "training_data_y = y_train.reshape(-1,1)\n",
    "testing_data_y = y_test.reshape(-1,1)"
   ]
  },
  {
   "cell_type": "code",
   "execution_count": 19,
   "id": "76951160",
   "metadata": {
    "execution": {
     "iopub.execute_input": "2022-03-24T20:10:54.202258Z",
     "iopub.status.busy": "2022-03-24T20:10:54.201620Z",
     "iopub.status.idle": "2022-03-24T20:10:54.219572Z",
     "shell.execute_reply": "2022-03-24T20:10:54.219056Z"
    },
    "papermill": {
     "duration": 0.053901,
     "end_time": "2022-03-24T20:10:54.219706",
     "exception": false,
     "start_time": "2022-03-24T20:10:54.165805",
     "status": "completed"
    },
    "tags": []
   },
   "outputs": [
    {
     "name": "stdout",
     "output_type": "stream",
     "text": [
      "xavier\n",
      "xavier\n",
      "xavier\n",
      "xavier\n",
      "xavier\n"
     ]
    }
   ],
   "source": [
    "layers = [Affine(\"first\", 784, 100), Relu(\"first\"), Affine(\"second\", 100, 100), Relu(\"second\"), Affine(\"third\", 100, 2), Affine(\"last\", 2, 1), Sigmoid(\"last\")]\n",
    "model_nn = Model(layers)\n",
    "model_lr = Model([Affine(\"logits\", 784, 1), Sigmoid(\"sigmoid\")])"
   ]
  },
  {
   "cell_type": "code",
   "execution_count": 20,
   "id": "6eede77a",
   "metadata": {
    "execution": {
     "iopub.execute_input": "2022-03-24T20:10:54.287424Z",
     "iopub.status.busy": "2022-03-24T20:10:54.286094Z",
     "iopub.status.idle": "2022-03-24T20:10:54.302013Z",
     "shell.execute_reply": "2022-03-24T20:10:54.301463Z"
    },
    "papermill": {
     "duration": 0.051243,
     "end_time": "2022-03-24T20:10:54.302148",
     "exception": false,
     "start_time": "2022-03-24T20:10:54.250905",
     "status": "completed"
    },
    "tags": []
   },
   "outputs": [],
   "source": [
    "nn_learner = Learner(loss, model_nn, opt, config.num_epochs)\n",
    "acc_nn = ClfCallback(nn_learner, config.bs, training_data_x , testing_data_x, training_data_y, testing_data_y)\n",
    "nn_learner.set_callbacks([acc_nn])"
   ]
  },
  {
   "cell_type": "code",
   "execution_count": 21,
   "id": "877b6cc7",
   "metadata": {
    "execution": {
     "iopub.execute_input": "2022-03-24T20:10:54.369826Z",
     "iopub.status.busy": "2022-03-24T20:10:54.369204Z",
     "iopub.status.idle": "2022-03-24T20:10:54.384752Z",
     "shell.execute_reply": "2022-03-24T20:10:54.384218Z"
    },
    "papermill": {
     "duration": 0.05165,
     "end_time": "2022-03-24T20:10:54.384908",
     "exception": false,
     "start_time": "2022-03-24T20:10:54.333258",
     "status": "completed"
    },
    "tags": []
   },
   "outputs": [],
   "source": [
    "lr_learner = Learner(loss, model_lr, opt, config.num_epochs)\n",
    "acc_lr = ClfCallback(lr_learner, config.bs, training_data_x , testing_data_x, training_data_y, testing_data_y)\n",
    "lr_learner.set_callbacks([acc_lr])"
   ]
  },
  {
   "cell_type": "code",
   "execution_count": 22,
   "id": "d9b133c3",
   "metadata": {
    "execution": {
     "iopub.execute_input": "2022-03-24T20:10:54.455103Z",
     "iopub.status.busy": "2022-03-24T20:10:54.454477Z",
     "iopub.status.idle": "2022-03-24T20:12:24.281327Z",
     "shell.execute_reply": "2022-03-24T20:12:24.281893Z"
    },
    "papermill": {
     "duration": 89.865805,
     "end_time": "2022-03-24T20:12:24.282051",
     "exception": false,
     "start_time": "2022-03-24T20:10:54.416246",
     "status": "completed"
    },
    "tags": []
   },
   "outputs": [
    {
     "name": "stdout",
     "output_type": "stream",
     "text": [
      "Epoch 0, Loss 0.2361\n",
      "Training Accuracy: 0.6815, Testing Accuracy: 0.7056\n",
      "\n"
     ]
    },
    {
     "name": "stdout",
     "output_type": "stream",
     "text": [
      "Epoch 10, Loss 0.1235\n",
      "Training Accuracy: 0.8906, Testing Accuracy: 0.9052\n",
      "\n"
     ]
    },
    {
     "name": "stdout",
     "output_type": "stream",
     "text": [
      "Epoch 20, Loss 0.0697\n",
      "Training Accuracy: 0.9290, Testing Accuracy: 0.9405\n",
      "\n"
     ]
    },
    {
     "name": "stdout",
     "output_type": "stream",
     "text": [
      "Epoch 30, Loss 0.051\n",
      "Training Accuracy: 0.9450, Testing Accuracy: 0.9577\n",
      "\n"
     ]
    },
    {
     "name": "stdout",
     "output_type": "stream",
     "text": [
      "Epoch 40, Loss 0.0423\n",
      "Training Accuracy: 0.9533, Testing Accuracy: 0.9642\n",
      "\n"
     ]
    },
    {
     "name": "stdout",
     "output_type": "stream",
     "text": [
      "Epoch 50, Loss 0.0373\n",
      "Training Accuracy: 0.9585, Testing Accuracy: 0.9677\n",
      "\n"
     ]
    },
    {
     "name": "stdout",
     "output_type": "stream",
     "text": [
      "Epoch 60, Loss 0.0342\n",
      "Training Accuracy: 0.9614, Testing Accuracy: 0.9693\n",
      "\n"
     ]
    },
    {
     "name": "stdout",
     "output_type": "stream",
     "text": [
      "Epoch 70, Loss 0.0319\n",
      "Training Accuracy: 0.9630, Testing Accuracy: 0.9703\n",
      "\n"
     ]
    },
    {
     "name": "stdout",
     "output_type": "stream",
     "text": [
      "Epoch 80, Loss 0.0302\n",
      "Training Accuracy: 0.9640, Testing Accuracy: 0.9703\n",
      "\n"
     ]
    },
    {
     "name": "stdout",
     "output_type": "stream",
     "text": [
      "Epoch 90, Loss 0.0288\n",
      "Training Accuracy: 0.9659, Testing Accuracy: 0.9708\n",
      "\n"
     ]
    },
    {
     "name": "stdout",
     "output_type": "stream",
     "text": [
      "Epoch 100, Loss 0.0277\n",
      "Training Accuracy: 0.9674, Testing Accuracy: 0.9713\n",
      "\n"
     ]
    },
    {
     "name": "stdout",
     "output_type": "stream",
     "text": [
      "Epoch 110, Loss 0.0267\n",
      "Training Accuracy: 0.9685, Testing Accuracy: 0.9723\n",
      "\n"
     ]
    },
    {
     "name": "stdout",
     "output_type": "stream",
     "text": [
      "Epoch 120, Loss 0.0258\n",
      "Training Accuracy: 0.9696, Testing Accuracy: 0.9738\n",
      "\n"
     ]
    },
    {
     "name": "stdout",
     "output_type": "stream",
     "text": [
      "Epoch 130, Loss 0.0251\n",
      "Training Accuracy: 0.9705, Testing Accuracy: 0.9743\n",
      "\n"
     ]
    },
    {
     "name": "stdout",
     "output_type": "stream",
     "text": [
      "Epoch 140, Loss 0.0244\n",
      "Training Accuracy: 0.9712, Testing Accuracy: 0.9748\n",
      "\n"
     ]
    },
    {
     "name": "stdout",
     "output_type": "stream",
     "text": [
      "Epoch 150, Loss 0.0237\n",
      "Training Accuracy: 0.9721, Testing Accuracy: 0.9743\n",
      "\n"
     ]
    },
    {
     "name": "stdout",
     "output_type": "stream",
     "text": [
      "Epoch 160, Loss 0.0232\n",
      "Training Accuracy: 0.9729, Testing Accuracy: 0.9738\n",
      "\n"
     ]
    },
    {
     "name": "stdout",
     "output_type": "stream",
     "text": [
      "Epoch 170, Loss 0.0226\n",
      "Training Accuracy: 0.9730, Testing Accuracy: 0.9738\n",
      "\n"
     ]
    },
    {
     "name": "stdout",
     "output_type": "stream",
     "text": [
      "Epoch 180, Loss 0.0221\n",
      "Training Accuracy: 0.9734, Testing Accuracy: 0.9743\n",
      "\n"
     ]
    },
    {
     "name": "stdout",
     "output_type": "stream",
     "text": [
      "Epoch 190, Loss 0.0216\n",
      "Training Accuracy: 0.9745, Testing Accuracy: 0.9743\n",
      "\n"
     ]
    },
    {
     "name": "stdout",
     "output_type": "stream",
     "text": [
      "Epoch 200, Loss 0.0212\n",
      "Training Accuracy: 0.9748, Testing Accuracy: 0.9733\n",
      "\n"
     ]
    },
    {
     "name": "stdout",
     "output_type": "stream",
     "text": [
      "Epoch 210, Loss 0.0208\n",
      "Training Accuracy: 0.9760, Testing Accuracy: 0.9733\n",
      "\n"
     ]
    },
    {
     "name": "stdout",
     "output_type": "stream",
     "text": [
      "Epoch 220, Loss 0.0204\n",
      "Training Accuracy: 0.9767, Testing Accuracy: 0.9738\n",
      "\n"
     ]
    },
    {
     "name": "stdout",
     "output_type": "stream",
     "text": [
      "Epoch 230, Loss 0.02\n",
      "Training Accuracy: 0.9774, Testing Accuracy: 0.9738\n",
      "\n"
     ]
    },
    {
     "name": "stdout",
     "output_type": "stream",
     "text": [
      "Epoch 240, Loss 0.0196\n",
      "Training Accuracy: 0.9778, Testing Accuracy: 0.9738\n",
      "\n"
     ]
    },
    {
     "data": {
      "text/plain": [
       "0.018286106405806968"
      ]
     },
     "execution_count": 22,
     "metadata": {},
     "output_type": "execute_result"
    }
   ],
   "source": [
    "nn_learner.train_loop(dl)"
   ]
  },
  {
   "cell_type": "code",
   "execution_count": 23,
   "id": "e0163366",
   "metadata": {
    "execution": {
     "iopub.execute_input": "2022-03-24T20:12:24.369758Z",
     "iopub.status.busy": "2022-03-24T20:12:24.369126Z",
     "iopub.status.idle": "2022-03-24T20:12:40.285459Z",
     "shell.execute_reply": "2022-03-24T20:12:40.286366Z"
    },
    "papermill": {
     "duration": 15.965112,
     "end_time": "2022-03-24T20:12:40.286532",
     "exception": false,
     "start_time": "2022-03-24T20:12:24.321420",
     "status": "completed"
    },
    "tags": []
   },
   "outputs": [
    {
     "name": "stdout",
     "output_type": "stream",
     "text": [
      "Epoch 0, Loss 0.2042\n",
      "Training Accuracy: 0.7679, Testing Accuracy: 0.7903\n",
      "\n"
     ]
    },
    {
     "name": "stdout",
     "output_type": "stream",
     "text": [
      "Epoch 10, Loss 0.1036\n",
      "Training Accuracy: 0.8974, Testing Accuracy: 0.9123\n",
      "\n"
     ]
    },
    {
     "name": "stdout",
     "output_type": "stream",
     "text": [
      "Epoch 20, Loss 0.0803\n",
      "Training Accuracy: 0.9226, Testing Accuracy: 0.9350\n",
      "\n"
     ]
    },
    {
     "name": "stdout",
     "output_type": "stream",
     "text": [
      "Epoch 30, Loss 0.0692\n",
      "Training Accuracy: 0.9328, Testing Accuracy: 0.9425\n",
      "\n"
     ]
    },
    {
     "name": "stdout",
     "output_type": "stream",
     "text": [
      "Epoch 40, Loss 0.0624\n",
      "Training Accuracy: 0.9382, Testing Accuracy: 0.9491\n",
      "\n"
     ]
    },
    {
     "name": "stdout",
     "output_type": "stream",
     "text": [
      "Epoch 50, Loss 0.0578\n",
      "Training Accuracy: 0.9426, Testing Accuracy: 0.9511\n",
      "\n"
     ]
    },
    {
     "name": "stdout",
     "output_type": "stream",
     "text": [
      "Epoch 60, Loss 0.0544\n",
      "Training Accuracy: 0.9453, Testing Accuracy: 0.9546\n",
      "\n"
     ]
    },
    {
     "name": "stdout",
     "output_type": "stream",
     "text": [
      "Epoch 70, Loss 0.0517\n",
      "Training Accuracy: 0.9476, Testing Accuracy: 0.9577\n",
      "\n"
     ]
    },
    {
     "name": "stdout",
     "output_type": "stream",
     "text": [
      "Epoch 80, Loss 0.0496\n",
      "Training Accuracy: 0.9500, Testing Accuracy: 0.9587\n",
      "\n"
     ]
    },
    {
     "name": "stdout",
     "output_type": "stream",
     "text": [
      "Epoch 90, Loss 0.0479\n",
      "Training Accuracy: 0.9520, Testing Accuracy: 0.9607\n",
      "\n"
     ]
    },
    {
     "name": "stdout",
     "output_type": "stream",
     "text": [
      "Epoch 100, Loss 0.0464\n",
      "Training Accuracy: 0.9536, Testing Accuracy: 0.9607\n",
      "\n"
     ]
    },
    {
     "name": "stdout",
     "output_type": "stream",
     "text": [
      "Epoch 110, Loss 0.0452\n",
      "Training Accuracy: 0.9547, Testing Accuracy: 0.9622\n",
      "\n"
     ]
    },
    {
     "name": "stdout",
     "output_type": "stream",
     "text": [
      "Epoch 120, Loss 0.0441\n",
      "Training Accuracy: 0.9559, Testing Accuracy: 0.9617\n",
      "\n"
     ]
    },
    {
     "name": "stdout",
     "output_type": "stream",
     "text": [
      "Epoch 130, Loss 0.0431\n",
      "Training Accuracy: 0.9569, Testing Accuracy: 0.9637\n",
      "\n"
     ]
    },
    {
     "name": "stdout",
     "output_type": "stream",
     "text": [
      "Epoch 140, Loss 0.0423\n",
      "Training Accuracy: 0.9577, Testing Accuracy: 0.9637\n",
      "\n"
     ]
    },
    {
     "name": "stdout",
     "output_type": "stream",
     "text": [
      "Epoch 150, Loss 0.0415\n",
      "Training Accuracy: 0.9582, Testing Accuracy: 0.9642\n",
      "\n"
     ]
    },
    {
     "name": "stdout",
     "output_type": "stream",
     "text": [
      "Epoch 160, Loss 0.0408\n",
      "Training Accuracy: 0.9587, Testing Accuracy: 0.9652\n",
      "\n"
     ]
    },
    {
     "name": "stdout",
     "output_type": "stream",
     "text": [
      "Epoch 170, Loss 0.0402\n",
      "Training Accuracy: 0.9589, Testing Accuracy: 0.9652\n",
      "\n"
     ]
    },
    {
     "name": "stdout",
     "output_type": "stream",
     "text": [
      "Epoch 180, Loss 0.0396\n",
      "Training Accuracy: 0.9592, Testing Accuracy: 0.9657\n",
      "\n"
     ]
    },
    {
     "name": "stdout",
     "output_type": "stream",
     "text": [
      "Epoch 190, Loss 0.0391\n",
      "Training Accuracy: 0.9594, Testing Accuracy: 0.9662\n",
      "\n"
     ]
    },
    {
     "name": "stdout",
     "output_type": "stream",
     "text": [
      "Epoch 200, Loss 0.0386\n",
      "Training Accuracy: 0.9599, Testing Accuracy: 0.9667\n",
      "\n"
     ]
    },
    {
     "name": "stdout",
     "output_type": "stream",
     "text": [
      "Epoch 210, Loss 0.0381\n",
      "Training Accuracy: 0.9604, Testing Accuracy: 0.9667\n",
      "\n"
     ]
    },
    {
     "name": "stdout",
     "output_type": "stream",
     "text": [
      "Epoch 220, Loss 0.0377\n",
      "Training Accuracy: 0.9605, Testing Accuracy: 0.9672\n",
      "\n"
     ]
    },
    {
     "name": "stdout",
     "output_type": "stream",
     "text": [
      "Epoch 230, Loss 0.0373\n",
      "Training Accuracy: 0.9609, Testing Accuracy: 0.9672\n",
      "\n"
     ]
    },
    {
     "name": "stdout",
     "output_type": "stream",
     "text": [
      "Epoch 240, Loss 0.037\n",
      "Training Accuracy: 0.9609, Testing Accuracy: 0.9672\n",
      "\n"
     ]
    },
    {
     "data": {
      "text/plain": [
       "0.030554965606736144"
      ]
     },
     "execution_count": 23,
     "metadata": {},
     "output_type": "execute_result"
    }
   ],
   "source": [
    "lr_learner.train_loop(dl)"
   ]
  },
  {
   "cell_type": "code",
   "execution_count": 24,
   "id": "ca410940",
   "metadata": {
    "execution": {
     "iopub.execute_input": "2022-03-24T20:12:40.389670Z",
     "iopub.status.busy": "2022-03-24T20:12:40.389010Z",
     "iopub.status.idle": "2022-03-24T20:12:40.654226Z",
     "shell.execute_reply": "2022-03-24T20:12:40.654715Z"
    },
    "papermill": {
     "duration": 0.32105,
     "end_time": "2022-03-24T20:12:40.654876",
     "exception": false,
     "start_time": "2022-03-24T20:12:40.333826",
     "status": "completed"
    },
    "tags": []
   },
   "outputs": [
    {
     "data": {
      "text/plain": [
       "<matplotlib.legend.Legend at 0x7f37463f6cf8>"
      ]
     },
     "execution_count": 24,
     "metadata": {},
     "output_type": "execute_result"
    },
    {
     "data": {
      "image/png": "[encoded data removed]",
      "text/plain": [
       "<Figure size 1080x720 with 1 Axes>"
      ]
     },
     "metadata": {
      "needs_background": "light"
     },
     "output_type": "display_data"
    }
   ],
   "source": [
    "#comparing the results of NN and LR\n",
    "plt.figure(figsize=(15,10))\n",
    "\n",
    "# Neural Network plots\n",
    "plt.plot(acc_nn.accuracies, 'r-', label = \"Training Accuracies - NN\")\n",
    "plt.plot(acc_nn.test_accuracies, 'g-', label = \"Testing Accuracies - NN\")\n",
    "\n",
    "# Logistic Regression plots\n",
    "plt.plot(acc_lr.accuracies, 'k-', label = \"Training Accuracies - LR\")\n",
    "plt.plot(acc_lr.test_accuracies, 'b-', label = \"Testing Accuracies - LR\")\n",
    "plt.legend()"
   ]
  },
  {
   "cell_type": "markdown",
   "id": "80dfb35c",
   "metadata": {
    "papermill": {
     "duration": 0.047902,
     "end_time": "2022-03-24T20:12:40.751905",
     "exception": false,
     "start_time": "2022-03-24T20:12:40.704003",
     "status": "completed"
    },
    "tags": []
   },
   "source": [
    "#### Plotting the outputs of this layer of the NN.\n"
   ]
  },
  {
   "cell_type": "code",
   "execution_count": 25,
   "id": "45eb2ff5",
   "metadata": {
    "execution": {
     "iopub.execute_input": "2022-03-24T20:12:40.852996Z",
     "iopub.status.busy": "2022-03-24T20:12:40.851877Z",
     "iopub.status.idle": "2022-03-24T20:12:40.874146Z",
     "shell.execute_reply": "2022-03-24T20:12:40.874683Z"
    },
    "papermill": {
     "duration": 0.075068,
     "end_time": "2022-03-24T20:12:40.874854",
     "exception": false,
     "start_time": "2022-03-24T20:12:40.799786",
     "status": "completed"
    },
    "tags": []
   },
   "outputs": [],
   "source": [
    "new_model = Model(layers[:-2])\n",
    "testing_plot = new_model(testing_data_x)"
   ]
  },
  {
   "cell_type": "code",
   "execution_count": 26,
   "id": "4c0a5485",
   "metadata": {
    "execution": {
     "iopub.execute_input": "2022-03-24T20:12:40.981441Z",
     "iopub.status.busy": "2022-03-24T20:12:40.980752Z",
     "iopub.status.idle": "2022-03-24T20:12:41.207069Z",
     "shell.execute_reply": "2022-03-24T20:12:41.207553Z"
    },
    "papermill": {
     "duration": 0.284186,
     "end_time": "2022-03-24T20:12:41.207709",
     "exception": false,
     "start_time": "2022-03-24T20:12:40.923523",
     "status": "completed"
    },
    "tags": []
   },
   "outputs": [
    {
     "data": {
      "text/plain": [
       "Text(0.5, 1.0, 'Outputs')"
      ]
     },
     "execution_count": 26,
     "metadata": {},
     "output_type": "execute_result"
    },
    {
     "data": {
      "image/png": "[encoded data removed]",
      "text/plain": [
       "<Figure size 576x504 with 1 Axes>"
      ]
     },
     "metadata": {
      "needs_background": "light"
     },
     "output_type": "display_data"
    }
   ],
   "source": [
    "# Plotting the scatter plot of points and color coding by class\n",
    "plt.figure(figsize=(8,7))\n",
    "plt.scatter(testing_plot[:,0], testing_plot[:,1], alpha = 0.1, c = y_test.ravel());\n",
    "plt.title('Outputs')"
   ]
  },
  {
   "cell_type": "markdown",
   "id": "a74fcf8f",
   "metadata": {
    "papermill": {
     "duration": 0.049421,
     "end_time": "2022-03-24T20:12:41.308094",
     "exception": false,
     "start_time": "2022-03-24T20:12:41.258673",
     "status": "completed"
    },
    "tags": []
   },
   "source": [
    "Probability contours"
   ]
  },
  {
   "cell_type": "code",
   "execution_count": 27,
   "id": "d0afc8e3",
   "metadata": {
    "execution": {
     "iopub.execute_input": "2022-03-24T20:12:41.450344Z",
     "iopub.status.busy": "2022-03-24T20:12:41.449169Z",
     "iopub.status.idle": "2022-03-24T20:12:41.461546Z",
     "shell.execute_reply": "2022-03-24T20:12:41.460942Z"
    },
    "papermill": {
     "duration": 0.104459,
     "end_time": "2022-03-24T20:12:41.461672",
     "exception": false,
     "start_time": "2022-03-24T20:12:41.357213",
     "status": "completed"
    },
    "tags": []
   },
   "outputs": [],
   "source": [
    "model_prob = Model(layers[-2:]) "
   ]
  },
  {
   "cell_type": "code",
   "execution_count": 28,
   "id": "9b96e238",
   "metadata": {
    "execution": {
     "iopub.execute_input": "2022-03-24T20:12:41.568791Z",
     "iopub.status.busy": "2022-03-24T20:12:41.568142Z",
     "iopub.status.idle": "2022-03-24T20:12:41.584853Z",
     "shell.execute_reply": "2022-03-24T20:12:41.585322Z"
    },
    "papermill": {
     "duration": 0.07371,
     "end_time": "2022-03-24T20:12:41.585488",
     "exception": false,
     "start_time": "2022-03-24T20:12:41.511778",
     "status": "completed"
    },
    "tags": []
   },
   "outputs": [],
   "source": [
    "#creating the x and y ranges according to the above generated plot.\n",
    "x_range = np.linspace(-4, 1, 100) \n",
    "y_range = np.linspace(-6, 6, 100) \n",
    "x_grid, y_grid = np.meshgrid(x_range, y_range) # x_grid and y_grig are of size 100 X 100\n",
    "\n",
    "# converting x_grid and y_grid to continuous arrays\n",
    "x_gridflat = np.ravel(x_grid)\n",
    "y_gridflat = np.ravel(y_grid)\n",
    "\n",
    "# The last layer of the current model takes two columns as input. Hence transpose of np.vstack() is required.\n",
    "X = np.vstack((x_gridflat, y_gridflat)).T\n",
    "\n",
    "prob_contour = model_prob(X).reshape(100,100) "
   ]
  },
  {
   "cell_type": "code",
   "execution_count": 29,
   "id": "da72499a",
   "metadata": {
    "execution": {
     "iopub.execute_input": "2022-03-24T20:12:41.699445Z",
     "iopub.status.busy": "2022-03-24T20:12:41.698822Z",
     "iopub.status.idle": "2022-03-24T20:12:41.981047Z",
     "shell.execute_reply": "2022-03-24T20:12:41.981501Z"
    },
    "papermill": {
     "duration": 0.343991,
     "end_time": "2022-03-24T20:12:41.981653",
     "exception": false,
     "start_time": "2022-03-24T20:12:41.637662",
     "status": "completed"
    },
    "tags": []
   },
   "outputs": [
    {
     "data": {
      "image/png": "[encoded data removed]",
      "text/plain": [
       "<Figure size 720x648 with 1 Axes>"
      ]
     },
     "metadata": {
      "needs_background": "light"
     },
     "output_type": "display_data"
    }
   ],
   "source": [
    "plt.figure(figsize=(10,9))\n",
    "plt.scatter(testing_plot[:,0], testing_plot[:,1], alpha = 0.1, c = y_test.ravel())\n",
    "contours = plt.contour(x_grid,y_grid,prob_contour)\n",
    "plt.title('Probability Contours')\n",
    "plt.clabel(contours, inline = True );"
   ]
  },
  {
   "cell_type": "code",
   "execution_count": null,
   "id": "e81b4ac7",
   "metadata": {
    "papermill": {
     "duration": 0.054264,
     "end_time": "2022-03-24T20:12:42.089333",
     "exception": false,
     "start_time": "2022-03-24T20:12:42.035069",
     "status": "completed"
    },
    "tags": []
   },
   "outputs": [],
   "source": []
  }
 ],
 "metadata": {
  "kernelspec": {
   "display_name": "Python 3",
   "language": "python",
   "name": "python3"
  },
  "language_info": {
   "codemirror_mode": {
    "name": "ipython",
    "version": 3
   },
   "file_extension": ".py",
   "mimetype": "text/x-python",
   "name": "python",
   "nbconvert_exporter": "python",
   "pygments_lexer": "ipython3",
   "version": "3.6.15"
  },
  "papermill": {
   "default_parameters": {},
   "duration": 115.32277,
   "end_time": "2022-03-24T20:12:42.564017",
   "environment_variables": {},
   "exception": null,
   "input_path": "2020-08-11-part2.ipynb",
   "output_path": "2020-08-11-part2.ipynb",
   "parameters": {},
   "start_time": "2022-03-24T20:10:47.241247",
   "version": "2.3.3"
  }
 },
 "nbformat": 4,
 "nbformat_minor": 5
}