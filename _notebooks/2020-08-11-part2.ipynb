{
 "cells": [
  {
   "cell_type": "markdown",
   "id": "98380cd3",
   "metadata": {
    "papermill": {
     "duration": 0.028245,
     "end_time": "2022-03-29T10:09:49.964612",
     "exception": false,
     "start_time": "2022-03-29T10:09:49.936367",
     "status": "completed"
    },
    "tags": []
   },
   "source": [
    "# Distinguish Your Own Digits (DYOD)"
   ]
  },
  {
   "cell_type": "markdown",
   "id": "ef31240d",
   "metadata": {
    "papermill": {
     "duration": 0.02552,
     "end_time": "2022-03-29T10:09:50.015268",
     "exception": false,
     "start_time": "2022-03-29T10:09:49.989748",
     "status": "completed"
    },
    "tags": []
   },
   "source": [
    "You are going to write a classifier that distinguishes between the number 3 and number 8."
   ]
  },
  {
   "cell_type": "code",
   "execution_count": 1,
   "id": "b15c8646",
   "metadata": {
    "execution": {
     "iopub.execute_input": "2022-03-29T10:09:50.073871Z",
     "iopub.status.busy": "2022-03-29T10:09:50.073361Z",
     "iopub.status.idle": "2022-03-29T10:09:50.083183Z",
     "shell.execute_reply": "2022-03-29T10:09:50.082782Z"
    },
    "papermill": {
     "duration": 0.043633,
     "end_time": "2022-03-29T10:09:50.083292",
     "exception": false,
     "start_time": "2022-03-29T10:09:50.039659",
     "status": "completed"
    },
    "tags": []
   },
   "outputs": [],
   "source": [
    "%load_ext autoreload\n",
    "%autoreload 2"
   ]
  },
  {
   "cell_type": "code",
   "execution_count": 2,
   "id": "22ef38dc",
   "metadata": {
    "execution": {
     "iopub.execute_input": "2022-03-29T10:09:50.136545Z",
     "iopub.status.busy": "2022-03-29T10:09:50.136047Z",
     "iopub.status.idle": "2022-03-29T10:09:50.688981Z",
     "shell.execute_reply": "2022-03-29T10:09:50.688498Z"
    },
    "papermill": {
     "duration": 0.580753,
     "end_time": "2022-03-29T10:09:50.689100",
     "exception": false,
     "start_time": "2022-03-29T10:09:50.108347",
     "status": "completed"
    },
    "tags": []
   },
   "outputs": [],
   "source": [
    "%matplotlib inline\n",
    "import numpy as np\n",
    "import matplotlib.pyplot as plt\n",
    "import pandas as pd"
   ]
  },
  {
   "cell_type": "markdown",
   "id": "ba036198",
   "metadata": {
    "papermill": {
     "duration": 0.024506,
     "end_time": "2022-03-29T10:09:50.738298",
     "exception": false,
     "start_time": "2022-03-29T10:09:50.713792",
     "status": "completed"
    },
    "tags": []
   },
   "source": [
    "From the command line run `pip install mnist`. This is a library that will help you bring down the mnist dataset. If you run this from a notebook, you need to put  `!pip install mnist` in a cell by itself."
   ]
  },
  {
   "cell_type": "code",
   "execution_count": 3,
   "id": "bb6ad8a1",
   "metadata": {
    "execution": {
     "iopub.execute_input": "2022-03-29T10:09:50.793193Z",
     "iopub.status.busy": "2022-03-29T10:09:50.792120Z",
     "iopub.status.idle": "2022-03-29T10:09:52.435594Z",
     "shell.execute_reply": "2022-03-29T10:09:52.435154Z"
    },
    "papermill": {
     "duration": 1.672846,
     "end_time": "2022-03-29T10:09:52.435709",
     "exception": false,
     "start_time": "2022-03-29T10:09:50.762863",
     "status": "completed"
    },
    "tags": []
   },
   "outputs": [
    {
     "name": "stdout",
     "output_type": "stream",
     "text": [
      "Collecting mnist\r\n"
     ]
    },
    {
     "name": "stdout",
     "output_type": "stream",
     "text": [
      "  Downloading mnist-0.2.2-py2.py3-none-any.whl (3.5 kB)\r\n"
     ]
    },
    {
     "name": "stdout",
     "output_type": "stream",
     "text": [
      "Requirement already satisfied: numpy in /opt/hostedtoolcache/Python/3.6.15/x64/lib/python3.6/site-packages (from mnist) (1.19.5)\r\n"
     ]
    },
    {
     "name": "stdout",
     "output_type": "stream",
     "text": [
      "Installing collected packages: mnist\r\n",
      "Successfully installed mnist-0.2.2\r\n"
     ]
    }
   ],
   "source": [
    "!pip install mnist"
   ]
  },
  {
   "cell_type": "markdown",
   "id": "69df9c9a",
   "metadata": {
    "papermill": {
     "duration": 0.025756,
     "end_time": "2022-03-29T10:09:52.487485",
     "exception": false,
     "start_time": "2022-03-29T10:09:52.461729",
     "status": "completed"
    },
    "tags": []
   },
   "source": [
    "## Preparing the Data"
   ]
  },
  {
   "cell_type": "code",
   "execution_count": 4,
   "id": "7f69d806",
   "metadata": {
    "execution": {
     "iopub.execute_input": "2022-03-29T10:09:52.542304Z",
     "iopub.status.busy": "2022-03-29T10:09:52.541805Z",
     "iopub.status.idle": "2022-03-29T10:09:52.554547Z",
     "shell.execute_reply": "2022-03-29T10:09:52.554965Z"
    },
    "papermill": {
     "duration": 0.041929,
     "end_time": "2022-03-29T10:09:52.555082",
     "exception": false,
     "start_time": "2022-03-29T10:09:52.513153",
     "status": "completed"
    },
    "tags": []
   },
   "outputs": [],
   "source": [
    "import mnist"
   ]
  },
  {
   "cell_type": "code",
   "execution_count": 5,
   "id": "a411e44f",
   "metadata": {
    "execution": {
     "iopub.execute_input": "2022-03-29T10:09:52.609817Z",
     "iopub.status.busy": "2022-03-29T10:09:52.609317Z",
     "iopub.status.idle": "2022-03-29T10:09:53.224164Z",
     "shell.execute_reply": "2022-03-29T10:09:53.223167Z"
    },
    "papermill": {
     "duration": 0.643358,
     "end_time": "2022-03-29T10:09:53.224282",
     "exception": false,
     "start_time": "2022-03-29T10:09:52.580924",
     "status": "completed"
    },
    "tags": []
   },
   "outputs": [],
   "source": [
    "train_images = mnist.train_images()\n",
    "train_labels = mnist.train_labels()"
   ]
  },
  {
   "cell_type": "code",
   "execution_count": 6,
   "id": "dceab3a5",
   "metadata": {
    "execution": {
     "iopub.execute_input": "2022-03-29T10:09:53.283364Z",
     "iopub.status.busy": "2022-03-29T10:09:53.282225Z",
     "iopub.status.idle": "2022-03-29T10:09:53.295032Z",
     "shell.execute_reply": "2022-03-29T10:09:53.294612Z"
    },
    "papermill": {
     "duration": 0.043006,
     "end_time": "2022-03-29T10:09:53.295139",
     "exception": false,
     "start_time": "2022-03-29T10:09:53.252133",
     "status": "completed"
    },
    "tags": []
   },
   "outputs": [
    {
     "data": {
      "text/plain": [
       "((60000, 28, 28), (60000,))"
      ]
     },
     "execution_count": 6,
     "metadata": {},
     "output_type": "execute_result"
    }
   ],
   "source": [
    "train_images.shape, train_labels.shape"
   ]
  },
  {
   "cell_type": "code",
   "execution_count": 7,
   "id": "f50dc2bb",
   "metadata": {
    "execution": {
     "iopub.execute_input": "2022-03-29T10:09:53.350762Z",
     "iopub.status.busy": "2022-03-29T10:09:53.350245Z",
     "iopub.status.idle": "2022-03-29T10:09:53.579468Z",
     "shell.execute_reply": "2022-03-29T10:09:53.579024Z"
    },
    "papermill": {
     "duration": 0.258359,
     "end_time": "2022-03-29T10:09:53.579583",
     "exception": false,
     "start_time": "2022-03-29T10:09:53.321224",
     "status": "completed"
    },
    "tags": []
   },
   "outputs": [],
   "source": [
    "test_images = mnist.test_images()\n",
    "test_labels = mnist.test_labels()"
   ]
  },
  {
   "cell_type": "code",
   "execution_count": 8,
   "id": "fc38cf1b",
   "metadata": {
    "execution": {
     "iopub.execute_input": "2022-03-29T10:09:53.635470Z",
     "iopub.status.busy": "2022-03-29T10:09:53.634979Z",
     "iopub.status.idle": "2022-03-29T10:09:53.647288Z",
     "shell.execute_reply": "2022-03-29T10:09:53.646860Z"
    },
    "papermill": {
     "duration": 0.041493,
     "end_time": "2022-03-29T10:09:53.647391",
     "exception": false,
     "start_time": "2022-03-29T10:09:53.605898",
     "status": "completed"
    },
    "tags": []
   },
   "outputs": [
    {
     "data": {
      "text/plain": [
       "((10000, 28, 28), (10000,))"
      ]
     },
     "execution_count": 8,
     "metadata": {},
     "output_type": "execute_result"
    }
   ],
   "source": [
    "test_images.shape, test_labels.shape"
   ]
  },
  {
   "cell_type": "code",
   "execution_count": 9,
   "id": "f9ed8fe0",
   "metadata": {
    "execution": {
     "iopub.execute_input": "2022-03-29T10:09:53.703827Z",
     "iopub.status.busy": "2022-03-29T10:09:53.703326Z",
     "iopub.status.idle": "2022-03-29T10:09:53.836766Z",
     "shell.execute_reply": "2022-03-29T10:09:53.837155Z"
    },
    "papermill": {
     "duration": 0.163465,
     "end_time": "2022-03-29T10:09:53.837285",
     "exception": false,
     "start_time": "2022-03-29T10:09:53.673820",
     "status": "completed"
    },
    "tags": []
   },
   "outputs": [
    {
     "name": "stdout",
     "output_type": "stream",
     "text": [
      "2\n"
     ]
    },
    {
     "data": {
      "text/plain": [
       "<matplotlib.image.AxesImage at 0x7f4084f3b5c0>"
      ]
     },
     "execution_count": 9,
     "metadata": {},
     "output_type": "execute_result"
    },
    {
     "data": {
      "image/png": "[encoded data removed]",
      "text/plain": [
       "<Figure size 432x288 with 1 Axes>"
      ]
     },
     "metadata": {
      "needs_background": "light"
     },
     "output_type": "display_data"
    }
   ],
   "source": [
    "image_index = 7776 # You may select anything up to 60,000\n",
    "print(train_labels[image_index]) \n",
    "plt.imshow(train_images[image_index], cmap='Greys')"
   ]
  },
  {
   "cell_type": "markdown",
   "id": "a8d2388d",
   "metadata": {
    "papermill": {
     "duration": 0.027386,
     "end_time": "2022-03-29T10:09:53.892183",
     "exception": false,
     "start_time": "2022-03-29T10:09:53.864797",
     "status": "completed"
    },
    "tags": []
   },
   "source": [
    "## Filter data to get 3 and 8 out"
   ]
  },
  {
   "cell_type": "code",
   "execution_count": 10,
   "id": "776f7fc7",
   "metadata": {
    "execution": {
     "iopub.execute_input": "2022-03-29T10:09:53.951323Z",
     "iopub.status.busy": "2022-03-29T10:09:53.950813Z",
     "iopub.status.idle": "2022-03-29T10:09:53.967816Z",
     "shell.execute_reply": "2022-03-29T10:09:53.968236Z"
    },
    "papermill": {
     "duration": 0.048771,
     "end_time": "2022-03-29T10:09:53.968359",
     "exception": false,
     "start_time": "2022-03-29T10:09:53.919588",
     "status": "completed"
    },
    "tags": []
   },
   "outputs": [],
   "source": [
    "train_filter = np.where((train_labels == 3 ) | (train_labels == 8))\n",
    "test_filter = np.where((test_labels == 3) | (test_labels == 8))\n",
    "X_train, y_train = train_images[train_filter], train_labels[train_filter]\n",
    "X_test, y_test = test_images[test_filter], test_labels[test_filter]"
   ]
  },
  {
   "cell_type": "markdown",
   "id": "948f0b7e",
   "metadata": {
    "papermill": {
     "duration": 0.027461,
     "end_time": "2022-03-29T10:09:54.023464",
     "exception": false,
     "start_time": "2022-03-29T10:09:53.996003",
     "status": "completed"
    },
    "tags": []
   },
   "source": [
    "We normalize the pizel values in the 0 to 1 range"
   ]
  },
  {
   "cell_type": "code",
   "execution_count": 11,
   "id": "ee4c2166",
   "metadata": {
    "execution": {
     "iopub.execute_input": "2022-03-29T10:09:54.083100Z",
     "iopub.status.busy": "2022-03-29T10:09:54.080765Z",
     "iopub.status.idle": "2022-03-29T10:09:54.120669Z",
     "shell.execute_reply": "2022-03-29T10:09:54.119967Z"
    },
    "papermill": {
     "duration": 0.070033,
     "end_time": "2022-03-29T10:09:54.120783",
     "exception": false,
     "start_time": "2022-03-29T10:09:54.050750",
     "status": "completed"
    },
    "tags": []
   },
   "outputs": [],
   "source": [
    "X_train = X_train/255.\n",
    "X_test = X_test/255."
   ]
  },
  {
   "cell_type": "markdown",
   "id": "ddcf4fab",
   "metadata": {
    "papermill": {
     "duration": 0.027597,
     "end_time": "2022-03-29T10:09:54.176002",
     "exception": false,
     "start_time": "2022-03-29T10:09:54.148405",
     "status": "completed"
    },
    "tags": []
   },
   "source": [
    "And setup the labels as 1 (when the digit is 3) and 0 (when the digit is 8)"
   ]
  },
  {
   "cell_type": "code",
   "execution_count": 12,
   "id": "7dc908f2",
   "metadata": {
    "execution": {
     "iopub.execute_input": "2022-03-29T10:09:54.234001Z",
     "iopub.status.busy": "2022-03-29T10:09:54.233500Z",
     "iopub.status.idle": "2022-03-29T10:09:54.244777Z",
     "shell.execute_reply": "2022-03-29T10:09:54.244386Z"
    },
    "papermill": {
     "duration": 0.041514,
     "end_time": "2022-03-29T10:09:54.244876",
     "exception": false,
     "start_time": "2022-03-29T10:09:54.203362",
     "status": "completed"
    },
    "tags": []
   },
   "outputs": [],
   "source": [
    "y_train = 1*(y_train==3)\n",
    "y_test = 1*(y_test==3)"
   ]
  },
  {
   "cell_type": "code",
   "execution_count": 13,
   "id": "01e4e969",
   "metadata": {
    "execution": {
     "iopub.execute_input": "2022-03-29T10:09:54.302923Z",
     "iopub.status.busy": "2022-03-29T10:09:54.302396Z",
     "iopub.status.idle": "2022-03-29T10:09:54.315534Z",
     "shell.execute_reply": "2022-03-29T10:09:54.315114Z"
    },
    "papermill": {
     "duration": 0.043225,
     "end_time": "2022-03-29T10:09:54.315635",
     "exception": false,
     "start_time": "2022-03-29T10:09:54.272410",
     "status": "completed"
    },
    "tags": []
   },
   "outputs": [
    {
     "data": {
      "text/plain": [
       "((11982, 28, 28), (1984, 28, 28))"
      ]
     },
     "execution_count": 13,
     "metadata": {},
     "output_type": "execute_result"
    }
   ],
   "source": [
    "X_train.shape, X_test.shape"
   ]
  },
  {
   "cell_type": "markdown",
   "id": "5ccf3f85",
   "metadata": {
    "papermill": {
     "duration": 0.027826,
     "end_time": "2022-03-29T10:09:54.370943",
     "exception": false,
     "start_time": "2022-03-29T10:09:54.343117",
     "status": "completed"
    },
    "tags": []
   },
   "source": [
    "We reshape the data to flatten the image pixels into a set of features or co-variates:"
   ]
  },
  {
   "cell_type": "code",
   "execution_count": 14,
   "id": "5286a4a3",
   "metadata": {
    "execution": {
     "iopub.execute_input": "2022-03-29T10:09:54.430306Z",
     "iopub.status.busy": "2022-03-29T10:09:54.429817Z",
     "iopub.status.idle": "2022-03-29T10:09:54.441720Z",
     "shell.execute_reply": "2022-03-29T10:09:54.442092Z"
    },
    "papermill": {
     "duration": 0.043562,
     "end_time": "2022-03-29T10:09:54.442214",
     "exception": false,
     "start_time": "2022-03-29T10:09:54.398652",
     "status": "completed"
    },
    "tags": []
   },
   "outputs": [
    {
     "data": {
      "text/plain": [
       "((11982, 784), (1984, 784))"
      ]
     },
     "execution_count": 14,
     "metadata": {},
     "output_type": "execute_result"
    }
   ],
   "source": [
    "X_train = X_train.reshape(X_train.shape[0], -1)\n",
    "X_test = X_test.reshape(X_test.shape[0], -1)\n",
    "X_train.shape, X_test.shape"
   ]
  },
  {
   "cell_type": "code",
   "execution_count": 15,
   "id": "73c5f88a",
   "metadata": {
    "execution": {
     "iopub.execute_input": "2022-03-29T10:09:54.501561Z",
     "iopub.status.busy": "2022-03-29T10:09:54.501071Z",
     "iopub.status.idle": "2022-03-29T10:09:54.517842Z",
     "shell.execute_reply": "2022-03-29T10:09:54.518225Z"
    },
    "papermill": {
     "duration": 0.048121,
     "end_time": "2022-03-29T10:09:54.518341",
     "exception": false,
     "start_time": "2022-03-29T10:09:54.470220",
     "status": "completed"
    },
    "tags": []
   },
   "outputs": [],
   "source": [
    "#Impoting functions from 'Kudzu'\n",
    "from kudzu.model import Model\n",
    "from kudzu.train import Learner\n",
    "from kudzu.optim import GD\n",
    "from kudzu.data import Data, Sampler,Dataloader\n",
    "\n",
    "from kudzu.callbacks import AccCallback\n",
    "from kudzu.callbacks import ClfCallback\n",
    "\n",
    "from kudzu.loss import MSE\n",
    "\n",
    "from kudzu.layer import Sigmoid,Relu\n",
    "from kudzu.layer import Affine"
   ]
  },
  {
   "cell_type": "markdown",
   "id": "bc01172a",
   "metadata": {
    "papermill": {
     "duration": 0.027687,
     "end_time": "2022-03-29T10:09:54.573861",
     "exception": false,
     "start_time": "2022-03-29T10:09:54.546174",
     "status": "completed"
    },
    "tags": []
   },
   "source": [
    "### Let us create a `Config` class, to store important parameters. \n",
    "This class essentially plays the role of a dictionary."
   ]
  },
  {
   "cell_type": "code",
   "execution_count": 16,
   "id": "978281aa",
   "metadata": {
    "execution": {
     "iopub.execute_input": "2022-03-29T10:09:54.632635Z",
     "iopub.status.busy": "2022-03-29T10:09:54.632137Z",
     "iopub.status.idle": "2022-03-29T10:09:54.643611Z",
     "shell.execute_reply": "2022-03-29T10:09:54.643224Z"
    },
    "papermill": {
     "duration": 0.042135,
     "end_time": "2022-03-29T10:09:54.643710",
     "exception": false,
     "start_time": "2022-03-29T10:09:54.601575",
     "status": "completed"
    },
    "tags": []
   },
   "outputs": [],
   "source": [
    "class Config:\n",
    "    pass\n",
    "config = Config()\n",
    "config.lr = 0.001\n",
    "config.num_epochs = 250\n",
    "config.bs = 50"
   ]
  },
  {
   "cell_type": "markdown",
   "id": "1385fa59",
   "metadata": {
    "papermill": {
     "duration": 0.027903,
     "end_time": "2022-03-29T10:09:54.699550",
     "exception": false,
     "start_time": "2022-03-29T10:09:54.671647",
     "status": "completed"
    },
    "tags": []
   },
   "source": [
    "### Running Models with the Training data\n",
    "Details about the network layers:\n",
    "- A first affine layer has 784 inputs and does 100 affine transforms. These are followed by a Relu\n",
    "- A second affine layer has 100 inputs from the 100 activations of the past layer, and does 100 affine transforms. These are followed by a Relu\n",
    "- A third affine layer has 100 activations and does 2 affine transformations to create an embedding for visualization. There is no non-linearity here.\n",
    "- A final \"logistic regression\" which has an affine transform from 2 inputs to 1 output, which is squeezed through a sigmoid.\n"
   ]
  },
  {
   "cell_type": "code",
   "execution_count": 17,
   "id": "2b9c66db",
   "metadata": {
    "execution": {
     "iopub.execute_input": "2022-03-29T10:09:54.759173Z",
     "iopub.status.busy": "2022-03-29T10:09:54.758663Z",
     "iopub.status.idle": "2022-03-29T10:09:54.771261Z",
     "shell.execute_reply": "2022-03-29T10:09:54.770820Z"
    },
    "papermill": {
     "duration": 0.043943,
     "end_time": "2022-03-29T10:09:54.771362",
     "exception": false,
     "start_time": "2022-03-29T10:09:54.727419",
     "status": "completed"
    },
    "tags": []
   },
   "outputs": [],
   "source": [
    "data = Data(X_train, y_train.reshape(-1,1))\n",
    "sampler = Sampler(data, config.bs, shuffle=True)\n",
    "\n",
    "dl = Dataloader(data, sampler)\n",
    "\n",
    "opt = GD(config.lr)\n",
    "loss = MSE()"
   ]
  },
  {
   "cell_type": "code",
   "execution_count": 18,
   "id": "b275e4c2",
   "metadata": {
    "execution": {
     "iopub.execute_input": "2022-03-29T10:09:54.830473Z",
     "iopub.status.busy": "2022-03-29T10:09:54.829953Z",
     "iopub.status.idle": "2022-03-29T10:09:54.841374Z",
     "shell.execute_reply": "2022-03-29T10:09:54.840964Z"
    },
    "papermill": {
     "duration": 0.04223,
     "end_time": "2022-03-29T10:09:54.841476",
     "exception": false,
     "start_time": "2022-03-29T10:09:54.799246",
     "status": "completed"
    },
    "tags": []
   },
   "outputs": [],
   "source": [
    "training_data_x = X_train\n",
    "testing_data_x = X_test\n",
    "training_data_y = y_train.reshape(-1,1)\n",
    "testing_data_y = y_test.reshape(-1,1)"
   ]
  },
  {
   "cell_type": "code",
   "execution_count": 19,
   "id": "76951160",
   "metadata": {
    "execution": {
     "iopub.execute_input": "2022-03-29T10:09:54.901491Z",
     "iopub.status.busy": "2022-03-29T10:09:54.900989Z",
     "iopub.status.idle": "2022-03-29T10:09:54.915858Z",
     "shell.execute_reply": "2022-03-29T10:09:54.916243Z"
    },
    "papermill": {
     "duration": 0.04688,
     "end_time": "2022-03-29T10:09:54.916367",
     "exception": false,
     "start_time": "2022-03-29T10:09:54.869487",
     "status": "completed"
    },
    "tags": []
   },
   "outputs": [
    {
     "name": "stdout",
     "output_type": "stream",
     "text": [
      "xavier\n",
      "xavier\n",
      "xavier\n",
      "xavier\n",
      "xavier\n"
     ]
    }
   ],
   "source": [
    "layers = [Affine(\"first\", 784, 100), Relu(\"first\"), Affine(\"second\", 100, 100), Relu(\"second\"), Affine(\"third\", 100, 2), Affine(\"last\", 2, 1), Sigmoid(\"last\")]\n",
    "model_nn = Model(layers)\n",
    "model_lr = Model([Affine(\"logits\", 784, 1), Sigmoid(\"sigmoid\")])"
   ]
  },
  {
   "cell_type": "code",
   "execution_count": 20,
   "id": "6eede77a",
   "metadata": {
    "execution": {
     "iopub.execute_input": "2022-03-29T10:09:54.976559Z",
     "iopub.status.busy": "2022-03-29T10:09:54.976061Z",
     "iopub.status.idle": "2022-03-29T10:09:54.987122Z",
     "shell.execute_reply": "2022-03-29T10:09:54.986699Z"
    },
    "papermill": {
     "duration": 0.042448,
     "end_time": "2022-03-29T10:09:54.987220",
     "exception": false,
     "start_time": "2022-03-29T10:09:54.944772",
     "status": "completed"
    },
    "tags": []
   },
   "outputs": [],
   "source": [
    "nn_learner = Learner(loss, model_nn, opt, config.num_epochs)\n",
    "acc_nn = ClfCallback(nn_learner, config.bs, training_data_x , testing_data_x, training_data_y, testing_data_y)\n",
    "nn_learner.set_callbacks([acc_nn])"
   ]
  },
  {
   "cell_type": "code",
   "execution_count": 21,
   "id": "877b6cc7",
   "metadata": {
    "execution": {
     "iopub.execute_input": "2022-03-29T10:09:55.046772Z",
     "iopub.status.busy": "2022-03-29T10:09:55.046248Z",
     "iopub.status.idle": "2022-03-29T10:09:55.057984Z",
     "shell.execute_reply": "2022-03-29T10:09:55.057587Z"
    },
    "papermill": {
     "duration": 0.042721,
     "end_time": "2022-03-29T10:09:55.058087",
     "exception": false,
     "start_time": "2022-03-29T10:09:55.015366",
     "status": "completed"
    },
    "tags": []
   },
   "outputs": [],
   "source": [
    "lr_learner = Learner(loss, model_lr, opt, config.num_epochs)\n",
    "acc_lr = ClfCallback(lr_learner, config.bs, training_data_x , testing_data_x, training_data_y, testing_data_y)\n",
    "lr_learner.set_callbacks([acc_lr])"
   ]
  },
  {
   "cell_type": "code",
   "execution_count": 22,
   "id": "d9b133c3",
   "metadata": {
    "execution": {
     "iopub.execute_input": "2022-03-29T10:09:55.117853Z",
     "iopub.status.busy": "2022-03-29T10:09:55.117360Z",
     "iopub.status.idle": "2022-03-29T10:12:49.380587Z",
     "shell.execute_reply": "2022-03-29T10:12:49.381010Z"
    },
    "papermill": {
     "duration": 174.294808,
     "end_time": "2022-03-29T10:12:49.381135",
     "exception": false,
     "start_time": "2022-03-29T10:09:55.086327",
     "status": "completed"
    },
    "tags": []
   },
   "outputs": [
    {
     "name": "stdout",
     "output_type": "stream",
     "text": [
      "Epoch 0, Loss 0.2515\n",
      "Training Accuracy: 0.5476, Testing Accuracy: 0.5534\n",
      "\n"
     ]
    },
    {
     "name": "stdout",
     "output_type": "stream",
     "text": [
      "Epoch 10, Loss 0.1325\n",
      "Training Accuracy: 0.8995, Testing Accuracy: 0.9123\n",
      "\n"
     ]
    },
    {
     "name": "stdout",
     "output_type": "stream",
     "text": [
      "Epoch 20, Loss 0.0688\n",
      "Training Accuracy: 0.9334, Testing Accuracy: 0.9425\n",
      "\n"
     ]
    },
    {
     "name": "stdout",
     "output_type": "stream",
     "text": [
      "Epoch 30, Loss 0.0501\n",
      "Training Accuracy: 0.9468, Testing Accuracy: 0.9577\n",
      "\n"
     ]
    },
    {
     "name": "stdout",
     "output_type": "stream",
     "text": [
      "Epoch 40, Loss 0.0418\n",
      "Training Accuracy: 0.9547, Testing Accuracy: 0.9627\n",
      "\n"
     ]
    },
    {
     "name": "stdout",
     "output_type": "stream",
     "text": [
      "Epoch 50, Loss 0.0373\n",
      "Training Accuracy: 0.9579, Testing Accuracy: 0.9642\n",
      "\n"
     ]
    },
    {
     "name": "stdout",
     "output_type": "stream",
     "text": [
      "Epoch 60, Loss 0.0343\n",
      "Training Accuracy: 0.9599, Testing Accuracy: 0.9652\n",
      "\n"
     ]
    },
    {
     "name": "stdout",
     "output_type": "stream",
     "text": [
      "Epoch 70, Loss 0.0322\n",
      "Training Accuracy: 0.9611, Testing Accuracy: 0.9667\n",
      "\n"
     ]
    },
    {
     "name": "stdout",
     "output_type": "stream",
     "text": [
      "Epoch 80, Loss 0.0307\n",
      "Training Accuracy: 0.9631, Testing Accuracy: 0.9667\n",
      "\n"
     ]
    },
    {
     "name": "stdout",
     "output_type": "stream",
     "text": [
      "Epoch 90, Loss 0.0294\n",
      "Training Accuracy: 0.9648, Testing Accuracy: 0.9682\n",
      "\n"
     ]
    },
    {
     "name": "stdout",
     "output_type": "stream",
     "text": [
      "Epoch 100, Loss 0.0283\n",
      "Training Accuracy: 0.9655, Testing Accuracy: 0.9698\n",
      "\n"
     ]
    },
    {
     "name": "stdout",
     "output_type": "stream",
     "text": [
      "Epoch 110, Loss 0.0274\n",
      "Training Accuracy: 0.9666, Testing Accuracy: 0.9703\n",
      "\n"
     ]
    },
    {
     "name": "stdout",
     "output_type": "stream",
     "text": [
      "Epoch 120, Loss 0.0267\n",
      "Training Accuracy: 0.9673, Testing Accuracy: 0.9718\n",
      "\n"
     ]
    },
    {
     "name": "stdout",
     "output_type": "stream",
     "text": [
      "Epoch 130, Loss 0.0259\n",
      "Training Accuracy: 0.9683, Testing Accuracy: 0.9718\n",
      "\n"
     ]
    },
    {
     "name": "stdout",
     "output_type": "stream",
     "text": [
      "Epoch 140, Loss 0.0253\n",
      "Training Accuracy: 0.9694, Testing Accuracy: 0.9718\n",
      "\n"
     ]
    },
    {
     "name": "stdout",
     "output_type": "stream",
     "text": [
      "Epoch 150, Loss 0.0247\n",
      "Training Accuracy: 0.9705, Testing Accuracy: 0.9708\n",
      "\n"
     ]
    },
    {
     "name": "stdout",
     "output_type": "stream",
     "text": [
      "Epoch 160, Loss 0.0242\n",
      "Training Accuracy: 0.9710, Testing Accuracy: 0.9708\n",
      "\n"
     ]
    },
    {
     "name": "stdout",
     "output_type": "stream",
     "text": [
      "Epoch 170, Loss 0.0237\n",
      "Training Accuracy: 0.9720, Testing Accuracy: 0.9713\n",
      "\n"
     ]
    },
    {
     "name": "stdout",
     "output_type": "stream",
     "text": [
      "Epoch 180, Loss 0.0232\n",
      "Training Accuracy: 0.9725, Testing Accuracy: 0.9723\n",
      "\n"
     ]
    },
    {
     "name": "stdout",
     "output_type": "stream",
     "text": [
      "Epoch 190, Loss 0.0228\n",
      "Training Accuracy: 0.9730, Testing Accuracy: 0.9723\n",
      "\n"
     ]
    },
    {
     "name": "stdout",
     "output_type": "stream",
     "text": [
      "Epoch 200, Loss 0.0223\n",
      "Training Accuracy: 0.9735, Testing Accuracy: 0.9723\n",
      "\n"
     ]
    },
    {
     "name": "stdout",
     "output_type": "stream",
     "text": [
      "Epoch 210, Loss 0.0219\n",
      "Training Accuracy: 0.9747, Testing Accuracy: 0.9733\n",
      "\n"
     ]
    },
    {
     "name": "stdout",
     "output_type": "stream",
     "text": [
      "Epoch 220, Loss 0.0215\n",
      "Training Accuracy: 0.9754, Testing Accuracy: 0.9723\n",
      "\n"
     ]
    },
    {
     "name": "stdout",
     "output_type": "stream",
     "text": [
      "Epoch 230, Loss 0.0212\n",
      "Training Accuracy: 0.9759, Testing Accuracy: 0.9743\n",
      "\n"
     ]
    },
    {
     "name": "stdout",
     "output_type": "stream",
     "text": [
      "Epoch 240, Loss 0.0208\n",
      "Training Accuracy: 0.9765, Testing Accuracy: 0.9738\n",
      "\n"
     ]
    },
    {
     "data": {
      "text/plain": [
       "0.004720797339650777"
      ]
     },
     "execution_count": 22,
     "metadata": {},
     "output_type": "execute_result"
    }
   ],
   "source": [
    "nn_learner.train_loop(dl)"
   ]
  },
  {
   "cell_type": "code",
   "execution_count": 23,
   "id": "e0163366",
   "metadata": {
    "execution": {
     "iopub.execute_input": "2022-03-29T10:12:49.456558Z",
     "iopub.status.busy": "2022-03-29T10:12:49.455382Z",
     "iopub.status.idle": "2022-03-29T10:13:01.665635Z",
     "shell.execute_reply": "2022-03-29T10:13:01.666036Z"
    },
    "papermill": {
     "duration": 12.249805,
     "end_time": "2022-03-29T10:13:01.666164",
     "exception": false,
     "start_time": "2022-03-29T10:12:49.416359",
     "status": "completed"
    },
    "tags": []
   },
   "outputs": [
    {
     "name": "stdout",
     "output_type": "stream",
     "text": [
      "Epoch 0, Loss 0.2608\n",
      "Training Accuracy: 0.6046, Testing Accuracy: 0.6119\n",
      "\n"
     ]
    },
    {
     "name": "stdout",
     "output_type": "stream",
     "text": [
      "Epoch 10, Loss 0.1009\n",
      "Training Accuracy: 0.9170, Testing Accuracy: 0.9370\n",
      "\n"
     ]
    },
    {
     "name": "stdout",
     "output_type": "stream",
     "text": [
      "Epoch 20, Loss 0.0773\n",
      "Training Accuracy: 0.9316, Testing Accuracy: 0.9451\n",
      "\n"
     ]
    },
    {
     "name": "stdout",
     "output_type": "stream",
     "text": [
      "Epoch 30, Loss 0.0669\n",
      "Training Accuracy: 0.9386, Testing Accuracy: 0.9501\n",
      "\n"
     ]
    },
    {
     "name": "stdout",
     "output_type": "stream",
     "text": [
      "Epoch 40, Loss 0.0607\n",
      "Training Accuracy: 0.9422, Testing Accuracy: 0.9541\n",
      "\n"
     ]
    },
    {
     "name": "stdout",
     "output_type": "stream",
     "text": [
      "Epoch 50, Loss 0.0564\n",
      "Training Accuracy: 0.9462, Testing Accuracy: 0.9567\n",
      "\n"
     ]
    },
    {
     "name": "stdout",
     "output_type": "stream",
     "text": [
      "Epoch 60, Loss 0.0533\n",
      "Training Accuracy: 0.9484, Testing Accuracy: 0.9587\n",
      "\n"
     ]
    },
    {
     "name": "stdout",
     "output_type": "stream",
     "text": [
      "Epoch 70, Loss 0.0509\n",
      "Training Accuracy: 0.9503, Testing Accuracy: 0.9602\n",
      "\n"
     ]
    },
    {
     "name": "stdout",
     "output_type": "stream",
     "text": [
      "Epoch 80, Loss 0.0489\n",
      "Training Accuracy: 0.9512, Testing Accuracy: 0.9602\n",
      "\n"
     ]
    },
    {
     "name": "stdout",
     "output_type": "stream",
     "text": [
      "Epoch 90, Loss 0.0473\n",
      "Training Accuracy: 0.9523, Testing Accuracy: 0.9617\n",
      "\n"
     ]
    },
    {
     "name": "stdout",
     "output_type": "stream",
     "text": [
      "Epoch 100, Loss 0.0459\n",
      "Training Accuracy: 0.9533, Testing Accuracy: 0.9627\n",
      "\n"
     ]
    },
    {
     "name": "stdout",
     "output_type": "stream",
     "text": [
      "Epoch 110, Loss 0.0448\n",
      "Training Accuracy: 0.9542, Testing Accuracy: 0.9627\n",
      "\n"
     ]
    },
    {
     "name": "stdout",
     "output_type": "stream",
     "text": [
      "Epoch 120, Loss 0.0437\n",
      "Training Accuracy: 0.9544, Testing Accuracy: 0.9627\n",
      "\n"
     ]
    },
    {
     "name": "stdout",
     "output_type": "stream",
     "text": [
      "Epoch 130, Loss 0.0428\n",
      "Training Accuracy: 0.9548, Testing Accuracy: 0.9637\n",
      "\n"
     ]
    },
    {
     "name": "stdout",
     "output_type": "stream",
     "text": [
      "Epoch 140, Loss 0.042\n",
      "Training Accuracy: 0.9558, Testing Accuracy: 0.9647\n",
      "\n"
     ]
    },
    {
     "name": "stdout",
     "output_type": "stream",
     "text": [
      "Epoch 150, Loss 0.0413\n",
      "Training Accuracy: 0.9564, Testing Accuracy: 0.9662\n",
      "\n"
     ]
    },
    {
     "name": "stdout",
     "output_type": "stream",
     "text": [
      "Epoch 160, Loss 0.0406\n",
      "Training Accuracy: 0.9572, Testing Accuracy: 0.9662\n",
      "\n"
     ]
    },
    {
     "name": "stdout",
     "output_type": "stream",
     "text": [
      "Epoch 170, Loss 0.04\n",
      "Training Accuracy: 0.9577, Testing Accuracy: 0.9667\n",
      "\n"
     ]
    },
    {
     "name": "stdout",
     "output_type": "stream",
     "text": [
      "Epoch 180, Loss 0.0395\n",
      "Training Accuracy: 0.9578, Testing Accuracy: 0.9672\n",
      "\n"
     ]
    },
    {
     "name": "stdout",
     "output_type": "stream",
     "text": [
      "Epoch 190, Loss 0.039\n",
      "Training Accuracy: 0.9582, Testing Accuracy: 0.9672\n",
      "\n"
     ]
    },
    {
     "name": "stdout",
     "output_type": "stream",
     "text": [
      "Epoch 200, Loss 0.0385\n",
      "Training Accuracy: 0.9586, Testing Accuracy: 0.9677\n",
      "\n"
     ]
    },
    {
     "name": "stdout",
     "output_type": "stream",
     "text": [
      "Epoch 210, Loss 0.0381\n",
      "Training Accuracy: 0.9587, Testing Accuracy: 0.9677\n",
      "\n"
     ]
    },
    {
     "name": "stdout",
     "output_type": "stream",
     "text": [
      "Epoch 220, Loss 0.0377\n",
      "Training Accuracy: 0.9591, Testing Accuracy: 0.9677\n",
      "\n"
     ]
    },
    {
     "name": "stdout",
     "output_type": "stream",
     "text": [
      "Epoch 230, Loss 0.0373\n",
      "Training Accuracy: 0.9594, Testing Accuracy: 0.9677\n",
      "\n"
     ]
    },
    {
     "name": "stdout",
     "output_type": "stream",
     "text": [
      "Epoch 240, Loss 0.0369\n",
      "Training Accuracy: 0.9596, Testing Accuracy: 0.9677\n",
      "\n"
     ]
    },
    {
     "data": {
      "text/plain": [
       "0.017606062604001996"
      ]
     },
     "execution_count": 23,
     "metadata": {},
     "output_type": "execute_result"
    }
   ],
   "source": [
    "lr_learner.train_loop(dl)"
   ]
  },
  {
   "cell_type": "code",
   "execution_count": 24,
   "id": "ca410940",
   "metadata": {
    "execution": {
     "iopub.execute_input": "2022-03-29T10:13:01.755688Z",
     "iopub.status.busy": "2022-03-29T10:13:01.755161Z",
     "iopub.status.idle": "2022-03-29T10:13:01.975062Z",
     "shell.execute_reply": "2022-03-29T10:13:01.974639Z"
    },
    "papermill": {
     "duration": 0.266093,
     "end_time": "2022-03-29T10:13:01.975173",
     "exception": false,
     "start_time": "2022-03-29T10:13:01.709080",
     "status": "completed"
    },
    "tags": []
   },
   "outputs": [
    {
     "data": {
      "text/plain": [
       "<matplotlib.legend.Legend at 0x7f4084b17da0>"
      ]
     },
     "execution_count": 24,
     "metadata": {},
     "output_type": "execute_result"
    },
    {
     "data": {
      "image/png": "[encoded data removed]",
      "text/plain": [
       "<Figure size 1080x720 with 1 Axes>"
      ]
     },
     "metadata": {
      "needs_background": "light"
     },
     "output_type": "display_data"
    }
   ],
   "source": [
    "#comparing the results of NN and LR\n",
    "plt.figure(figsize=(15,10))\n",
    "\n",
    "# Neural Network plots\n",
    "plt.plot(acc_nn.accuracies, 'r-', label = \"Training Accuracies - NN\")\n",
    "plt.plot(acc_nn.test_accuracies, 'g-', label = \"Testing Accuracies - NN\")\n",
    "\n",
    "# Logistic Regression plots\n",
    "plt.plot(acc_lr.accuracies, 'k-', label = \"Training Accuracies - LR\")\n",
    "plt.plot(acc_lr.test_accuracies, 'b-', label = \"Testing Accuracies - LR\")\n",
    "plt.legend()"
   ]
  },
  {
   "cell_type": "markdown",
   "id": "80dfb35c",
   "metadata": {
    "papermill": {
     "duration": 0.043523,
     "end_time": "2022-03-29T10:13:02.062468",
     "exception": false,
     "start_time": "2022-03-29T10:13:02.018945",
     "status": "completed"
    },
    "tags": []
   },
   "source": [
    "#### Plotting the outputs of this layer of the NN.\n"
   ]
  },
  {
   "cell_type": "code",
   "execution_count": 25,
   "id": "45eb2ff5",
   "metadata": {
    "execution": {
     "iopub.execute_input": "2022-03-29T10:13:02.152926Z",
     "iopub.status.busy": "2022-03-29T10:13:02.152426Z",
     "iopub.status.idle": "2022-03-29T10:13:02.187265Z",
     "shell.execute_reply": "2022-03-29T10:13:02.187659Z"
    },
    "papermill": {
     "duration": 0.081776,
     "end_time": "2022-03-29T10:13:02.187783",
     "exception": false,
     "start_time": "2022-03-29T10:13:02.106007",
     "status": "completed"
    },
    "tags": []
   },
   "outputs": [],
   "source": [
    "new_model = Model(layers[:-2])\n",
    "testing_plot = new_model(testing_data_x)"
   ]
  },
  {
   "cell_type": "code",
   "execution_count": 26,
   "id": "4c0a5485",
   "metadata": {
    "execution": {
     "iopub.execute_input": "2022-03-29T10:13:02.279624Z",
     "iopub.status.busy": "2022-03-29T10:13:02.279131Z",
     "iopub.status.idle": "2022-03-29T10:13:02.484737Z",
     "shell.execute_reply": "2022-03-29T10:13:02.485155Z"
    },
    "papermill": {
     "duration": 0.25327,
     "end_time": "2022-03-29T10:13:02.485284",
     "exception": false,
     "start_time": "2022-03-29T10:13:02.232014",
     "status": "completed"
    },
    "tags": []
   },
   "outputs": [
    {
     "data": {
      "text/plain": [
       "Text(0.5, 1.0, 'Outputs')"
      ]
     },
     "execution_count": 26,
     "metadata": {},
     "output_type": "execute_result"
    },
    {
     "data": {
      "image/png": "[encoded data removed]",
      "text/plain": [
       "<Figure size 576x504 with 1 Axes>"
      ]
     },
     "metadata": {
      "needs_background": "light"
     },
     "output_type": "display_data"
    }
   ],
   "source": [
    "# Plotting the scatter plot of points and color coding by class\n",
    "plt.figure(figsize=(8,7))\n",
    "plt.scatter(testing_plot[:,0], testing_plot[:,1], alpha = 0.1, c = y_test.ravel());\n",
    "plt.title('Outputs')"
   ]
  },
  {
   "cell_type": "markdown",
   "id": "a74fcf8f",
   "metadata": {
    "papermill": {
     "duration": 0.067295,
     "end_time": "2022-03-29T10:13:02.598678",
     "exception": false,
     "start_time": "2022-03-29T10:13:02.531383",
     "status": "completed"
    },
    "tags": []
   },
   "source": [
    "Probability contours"
   ]
  },
  {
   "cell_type": "code",
   "execution_count": 27,
   "id": "d0afc8e3",
   "metadata": {
    "execution": {
     "iopub.execute_input": "2022-03-29T10:13:02.695039Z",
     "iopub.status.busy": "2022-03-29T10:13:02.693299Z",
     "iopub.status.idle": "2022-03-29T10:13:02.704322Z",
     "shell.execute_reply": "2022-03-29T10:13:02.703907Z"
    },
    "papermill": {
     "duration": 0.059777,
     "end_time": "2022-03-29T10:13:02.704427",
     "exception": false,
     "start_time": "2022-03-29T10:13:02.644650",
     "status": "completed"
    },
    "tags": []
   },
   "outputs": [],
   "source": [
    "model_prob = Model(layers[-2:]) "
   ]
  },
  {
   "cell_type": "code",
   "execution_count": 28,
   "id": "9b96e238",
   "metadata": {
    "execution": {
     "iopub.execute_input": "2022-03-29T10:13:02.799996Z",
     "iopub.status.busy": "2022-03-29T10:13:02.799507Z",
     "iopub.status.idle": "2022-03-29T10:13:02.811339Z",
     "shell.execute_reply": "2022-03-29T10:13:02.811734Z"
    },
    "papermill": {
     "duration": 0.061597,
     "end_time": "2022-03-29T10:13:02.811856",
     "exception": false,
     "start_time": "2022-03-29T10:13:02.750259",
     "status": "completed"
    },
    "tags": []
   },
   "outputs": [],
   "source": [
    "#creating the x and y ranges according to the above generated plot.\n",
    "x_range = np.linspace(-4, 1, 100) \n",
    "y_range = np.linspace(-6, 6, 100) \n",
    "x_grid, y_grid = np.meshgrid(x_range, y_range) # x_grid and y_grig are of size 100 X 100\n",
    "\n",
    "# converting x_grid and y_grid to continuous arrays\n",
    "x_gridflat = np.ravel(x_grid)\n",
    "y_gridflat = np.ravel(y_grid)\n",
    "\n",
    "# The last layer of the current model takes two columns as input. Hence transpose of np.vstack() is required.\n",
    "X = np.vstack((x_gridflat, y_gridflat)).T\n",
    "\n",
    "prob_contour = model_prob(X).reshape(100,100) "
   ]
  },
  {
   "cell_type": "code",
   "execution_count": 29,
   "id": "da72499a",
   "metadata": {
    "execution": {
     "iopub.execute_input": "2022-03-29T10:13:02.911466Z",
     "iopub.status.busy": "2022-03-29T10:13:02.907768Z",
     "iopub.status.idle": "2022-03-29T10:13:03.148493Z",
     "shell.execute_reply": "2022-03-29T10:13:03.148885Z"
    },
    "papermill": {
     "duration": 0.290787,
     "end_time": "2022-03-29T10:13:03.149014",
     "exception": false,
     "start_time": "2022-03-29T10:13:02.858227",
     "status": "completed"
    },
    "tags": []
   },
   "outputs": [
    {
     "data": {
      "image/png": "[encoded data removed]",
      "text/plain": [
       "<Figure size 720x648 with 1 Axes>"
      ]
     },
     "metadata": {
      "needs_background": "light"
     },
     "output_type": "display_data"
    }
   ],
   "source": [
    "plt.figure(figsize=(10,9))\n",
    "plt.scatter(testing_plot[:,0], testing_plot[:,1], alpha = 0.1, c = y_test.ravel())\n",
    "contours = plt.contour(x_grid,y_grid,prob_contour)\n",
    "plt.title('Probability Contours')\n",
    "plt.clabel(contours, inline = True );"
   ]
  },
  {
   "cell_type": "code",
   "execution_count": null,
   "id": "e81b4ac7",
   "metadata": {
    "papermill": {
     "duration": 0.048152,
     "end_time": "2022-03-29T10:13:03.246072",
     "exception": false,
     "start_time": "2022-03-29T10:13:03.197920",
     "status": "completed"
    },
    "tags": []
   },
   "outputs": [],
   "source": []
  }
 ],
 "metadata": {
  "kernelspec": {
   "display_name": "Python 3",
   "language": "python",
   "name": "python3"
  },
  "language_info": {
   "codemirror_mode": {
    "name": "ipython",
    "version": 3
   },
   "file_extension": ".py",
   "mimetype": "text/x-python",
   "name": "python",
   "nbconvert_exporter": "python",
   "pygments_lexer": "ipython3",
   "version": "3.6.15"
  },
  "papermill": {
   "default_parameters": {},
   "duration": 194.781922,
   "end_time": "2022-03-29T10:13:03.610904",
   "environment_variables": {},
   "exception": null,
   "input_path": "2020-08-11-part2.ipynb",
   "output_path": "2020-08-11-part2.ipynb",
   "parameters": {},
   "start_time": "2022-03-29T10:09:48.828982",
   "version": "2.3.3"
  }
 },
 "nbformat": 4,
 "nbformat_minor": 5
}