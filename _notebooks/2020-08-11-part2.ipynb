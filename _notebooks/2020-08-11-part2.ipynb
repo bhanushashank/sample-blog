{
 "cells": [
  {
   "cell_type": "markdown",
   "id": "98380cd3",
   "metadata": {
    "papermill": {
     "duration": 0.029025,
     "end_time": "2022-01-30T20:07:51.974774",
     "exception": false,
     "start_time": "2022-01-30T20:07:51.945749",
     "status": "completed"
    },
    "tags": []
   },
   "source": [
    "# Distinguish Your Own Digits (DYOD)"
   ]
  },
  {
   "cell_type": "markdown",
   "id": "ef31240d",
   "metadata": {
    "papermill": {
     "duration": 0.023912,
     "end_time": "2022-01-30T20:07:52.023353",
     "exception": false,
     "start_time": "2022-01-30T20:07:51.999441",
     "status": "completed"
    },
    "tags": []
   },
   "source": [
    "You are going to write a classifier that distinguishes between the number 3 and number 8."
   ]
  },
  {
   "cell_type": "code",
   "execution_count": 1,
   "id": "b15c8646",
   "metadata": {
    "execution": {
     "iopub.execute_input": "2022-01-30T20:07:52.082734Z",
     "iopub.status.busy": "2022-01-30T20:07:52.082207Z",
     "iopub.status.idle": "2022-01-30T20:07:52.093071Z",
     "shell.execute_reply": "2022-01-30T20:07:52.092650Z"
    },
    "papermill": {
     "duration": 0.046081,
     "end_time": "2022-01-30T20:07:52.093200",
     "exception": false,
     "start_time": "2022-01-30T20:07:52.047119",
     "status": "completed"
    },
    "tags": []
   },
   "outputs": [],
   "source": [
    "%load_ext autoreload\n",
    "%autoreload 2"
   ]
  },
  {
   "cell_type": "code",
   "execution_count": 2,
   "id": "22ef38dc",
   "metadata": {
    "execution": {
     "iopub.execute_input": "2022-01-30T20:07:52.144937Z",
     "iopub.status.busy": "2022-01-30T20:07:52.144414Z",
     "iopub.status.idle": "2022-01-30T20:07:52.743045Z",
     "shell.execute_reply": "2022-01-30T20:07:52.743544Z"
    },
    "papermill": {
     "duration": 0.626641,
     "end_time": "2022-01-30T20:07:52.743755",
     "exception": false,
     "start_time": "2022-01-30T20:07:52.117114",
     "status": "completed"
    },
    "tags": []
   },
   "outputs": [],
   "source": [
    "%matplotlib inline\n",
    "import numpy as np\n",
    "import matplotlib.pyplot as plt\n",
    "import pandas as pd"
   ]
  },
  {
   "cell_type": "markdown",
   "id": "ba036198",
   "metadata": {
    "papermill": {
     "duration": 0.023988,
     "end_time": "2022-01-30T20:07:52.792226",
     "exception": false,
     "start_time": "2022-01-30T20:07:52.768238",
     "status": "completed"
    },
    "tags": []
   },
   "source": [
    "From the command line run `pip install mnist`. This is a library that will help you bring down the mnist dataset. If you run this from a notebook, you need to put  `!pip install mnist` in a cell by itself."
   ]
  },
  {
   "cell_type": "code",
   "execution_count": 3,
   "id": "bb6ad8a1",
   "metadata": {
    "execution": {
     "iopub.execute_input": "2022-01-30T20:07:52.848157Z",
     "iopub.status.busy": "2022-01-30T20:07:52.847607Z",
     "iopub.status.idle": "2022-01-30T20:07:54.521505Z",
     "shell.execute_reply": "2022-01-30T20:07:54.521995Z"
    },
    "papermill": {
     "duration": 1.705924,
     "end_time": "2022-01-30T20:07:54.522161",
     "exception": false,
     "start_time": "2022-01-30T20:07:52.816237",
     "status": "completed"
    },
    "tags": []
   },
   "outputs": [
    {
     "name": "stdout",
     "output_type": "stream",
     "text": [
      "Collecting mnist\r\n"
     ]
    },
    {
     "name": "stdout",
     "output_type": "stream",
     "text": [
      "  Downloading mnist-0.2.2-py2.py3-none-any.whl (3.5 kB)\r\n",
      "Requirement already satisfied: numpy in /opt/hostedtoolcache/Python/3.6.15/x64/lib/python3.6/site-packages (from mnist) (1.19.5)\r\n"
     ]
    },
    {
     "name": "stdout",
     "output_type": "stream",
     "text": [
      "Installing collected packages: mnist\r\n",
      "Successfully installed mnist-0.2.2\r\n"
     ]
    }
   ],
   "source": [
    "!pip install mnist"
   ]
  },
  {
   "cell_type": "markdown",
   "id": "69df9c9a",
   "metadata": {
    "papermill": {
     "duration": 0.024784,
     "end_time": "2022-01-30T20:07:54.572137",
     "exception": false,
     "start_time": "2022-01-30T20:07:54.547353",
     "status": "completed"
    },
    "tags": []
   },
   "source": [
    "## Preparing the Data"
   ]
  },
  {
   "cell_type": "code",
   "execution_count": 4,
   "id": "7f69d806",
   "metadata": {
    "execution": {
     "iopub.execute_input": "2022-01-30T20:07:54.641511Z",
     "iopub.status.busy": "2022-01-30T20:07:54.640945Z",
     "iopub.status.idle": "2022-01-30T20:07:54.643218Z",
     "shell.execute_reply": "2022-01-30T20:07:54.643611Z"
    },
    "papermill": {
     "duration": 0.046994,
     "end_time": "2022-01-30T20:07:54.643771",
     "exception": false,
     "start_time": "2022-01-30T20:07:54.596777",
     "status": "completed"
    },
    "tags": []
   },
   "outputs": [],
   "source": [
    "import mnist"
   ]
  },
  {
   "cell_type": "code",
   "execution_count": 5,
   "id": "a411e44f",
   "metadata": {
    "execution": {
     "iopub.execute_input": "2022-01-30T20:07:54.696767Z",
     "iopub.status.busy": "2022-01-30T20:07:54.696251Z",
     "iopub.status.idle": "2022-01-30T20:07:55.211899Z",
     "shell.execute_reply": "2022-01-30T20:07:55.211344Z"
    },
    "papermill": {
     "duration": 0.543616,
     "end_time": "2022-01-30T20:07:55.212047",
     "exception": false,
     "start_time": "2022-01-30T20:07:54.668431",
     "status": "completed"
    },
    "tags": []
   },
   "outputs": [],
   "source": [
    "train_images = mnist.train_images()\n",
    "train_labels = mnist.train_labels()"
   ]
  },
  {
   "cell_type": "code",
   "execution_count": 6,
   "id": "dceab3a5",
   "metadata": {
    "execution": {
     "iopub.execute_input": "2022-01-30T20:07:55.267524Z",
     "iopub.status.busy": "2022-01-30T20:07:55.267002Z",
     "iopub.status.idle": "2022-01-30T20:07:55.280003Z",
     "shell.execute_reply": "2022-01-30T20:07:55.279544Z"
    },
    "papermill": {
     "duration": 0.043003,
     "end_time": "2022-01-30T20:07:55.280116",
     "exception": false,
     "start_time": "2022-01-30T20:07:55.237113",
     "status": "completed"
    },
    "tags": []
   },
   "outputs": [
    {
     "data": {
      "text/plain": [
       "((60000, 28, 28), (60000,))"
      ]
     },
     "execution_count": 6,
     "metadata": {},
     "output_type": "execute_result"
    }
   ],
   "source": [
    "train_images.shape, train_labels.shape"
   ]
  },
  {
   "cell_type": "code",
   "execution_count": 7,
   "id": "f50dc2bb",
   "metadata": {
    "execution": {
     "iopub.execute_input": "2022-01-30T20:07:55.336892Z",
     "iopub.status.busy": "2022-01-30T20:07:55.336387Z",
     "iopub.status.idle": "2022-01-30T20:07:55.480422Z",
     "shell.execute_reply": "2022-01-30T20:07:55.479881Z"
    },
    "papermill": {
     "duration": 0.175473,
     "end_time": "2022-01-30T20:07:55.480569",
     "exception": false,
     "start_time": "2022-01-30T20:07:55.305096",
     "status": "completed"
    },
    "tags": []
   },
   "outputs": [],
   "source": [
    "test_images = mnist.test_images()\n",
    "test_labels = mnist.test_labels()"
   ]
  },
  {
   "cell_type": "code",
   "execution_count": 8,
   "id": "fc38cf1b",
   "metadata": {
    "execution": {
     "iopub.execute_input": "2022-01-30T20:07:55.550211Z",
     "iopub.status.busy": "2022-01-30T20:07:55.548556Z",
     "iopub.status.idle": "2022-01-30T20:07:55.552825Z",
     "shell.execute_reply": "2022-01-30T20:07:55.553212Z"
    },
    "papermill": {
     "duration": 0.046679,
     "end_time": "2022-01-30T20:07:55.553348",
     "exception": false,
     "start_time": "2022-01-30T20:07:55.506669",
     "status": "completed"
    },
    "tags": []
   },
   "outputs": [
    {
     "data": {
      "text/plain": [
       "((10000, 28, 28), (10000,))"
      ]
     },
     "execution_count": 8,
     "metadata": {},
     "output_type": "execute_result"
    }
   ],
   "source": [
    "test_images.shape, test_labels.shape"
   ]
  },
  {
   "cell_type": "code",
   "execution_count": 9,
   "id": "f9ed8fe0",
   "metadata": {
    "execution": {
     "iopub.execute_input": "2022-01-30T20:07:55.632557Z",
     "iopub.status.busy": "2022-01-30T20:07:55.606356Z",
     "iopub.status.idle": "2022-01-30T20:07:55.747929Z",
     "shell.execute_reply": "2022-01-30T20:07:55.747387Z"
    },
    "papermill": {
     "duration": 0.169733,
     "end_time": "2022-01-30T20:07:55.748066",
     "exception": false,
     "start_time": "2022-01-30T20:07:55.578333",
     "status": "completed"
    },
    "tags": []
   },
   "outputs": [
    {
     "name": "stdout",
     "output_type": "stream",
     "text": [
      "2\n"
     ]
    },
    {
     "data": {
      "text/plain": [
       "<matplotlib.image.AxesImage at 0x7fdfa4476cf8>"
      ]
     },
     "execution_count": 9,
     "metadata": {},
     "output_type": "execute_result"
    },
    {
     "data": {
      "image/png": "[encoded data removed]",
      "text/plain": [
       "<Figure size 432x288 with 1 Axes>"
      ]
     },
     "metadata": {
      "needs_background": "light"
     },
     "output_type": "display_data"
    }
   ],
   "source": [
    "image_index = 7776 # You may select anything up to 60,000\n",
    "print(train_labels[image_index]) \n",
    "plt.imshow(train_images[image_index], cmap='Greys')"
   ]
  },
  {
   "cell_type": "markdown",
   "id": "a8d2388d",
   "metadata": {
    "papermill": {
     "duration": 0.027672,
     "end_time": "2022-01-30T20:07:55.802717",
     "exception": false,
     "start_time": "2022-01-30T20:07:55.775045",
     "status": "completed"
    },
    "tags": []
   },
   "source": [
    "## Filter data to get 3 and 8 out"
   ]
  },
  {
   "cell_type": "code",
   "execution_count": 10,
   "id": "776f7fc7",
   "metadata": {
    "execution": {
     "iopub.execute_input": "2022-01-30T20:07:55.872878Z",
     "iopub.status.busy": "2022-01-30T20:07:55.868624Z",
     "iopub.status.idle": "2022-01-30T20:07:55.881925Z",
     "shell.execute_reply": "2022-01-30T20:07:55.881478Z"
    },
    "papermill": {
     "duration": 0.053218,
     "end_time": "2022-01-30T20:07:55.882044",
     "exception": false,
     "start_time": "2022-01-30T20:07:55.828826",
     "status": "completed"
    },
    "tags": []
   },
   "outputs": [],
   "source": [
    "train_filter = np.where((train_labels == 3 ) | (train_labels == 8))\n",
    "test_filter = np.where((test_labels == 3) | (test_labels == 8))\n",
    "X_train, y_train = train_images[train_filter], train_labels[train_filter]\n",
    "X_test, y_test = test_images[test_filter], test_labels[test_filter]"
   ]
  },
  {
   "cell_type": "markdown",
   "id": "948f0b7e",
   "metadata": {
    "papermill": {
     "duration": 0.026224,
     "end_time": "2022-01-30T20:07:55.934638",
     "exception": false,
     "start_time": "2022-01-30T20:07:55.908414",
     "status": "completed"
    },
    "tags": []
   },
   "source": [
    "We normalize the pizel values in the 0 to 1 range"
   ]
  },
  {
   "cell_type": "code",
   "execution_count": 11,
   "id": "ee4c2166",
   "metadata": {
    "execution": {
     "iopub.execute_input": "2022-01-30T20:07:56.001721Z",
     "iopub.status.busy": "2022-01-30T20:07:56.001203Z",
     "iopub.status.idle": "2022-01-30T20:07:56.043152Z",
     "shell.execute_reply": "2022-01-30T20:07:56.042651Z"
    },
    "papermill": {
     "duration": 0.082495,
     "end_time": "2022-01-30T20:07:56.043289",
     "exception": false,
     "start_time": "2022-01-30T20:07:55.960794",
     "status": "completed"
    },
    "tags": []
   },
   "outputs": [],
   "source": [
    "X_train = X_train/255.\n",
    "X_test = X_test/255."
   ]
  },
  {
   "cell_type": "markdown",
   "id": "ddcf4fab",
   "metadata": {
    "papermill": {
     "duration": 0.026323,
     "end_time": "2022-01-30T20:07:56.096675",
     "exception": false,
     "start_time": "2022-01-30T20:07:56.070352",
     "status": "completed"
    },
    "tags": []
   },
   "source": [
    "And setup the labels as 1 (when the digit is 3) and 0 (when the digit is 8)"
   ]
  },
  {
   "cell_type": "code",
   "execution_count": 12,
   "id": "7dc908f2",
   "metadata": {
    "execution": {
     "iopub.execute_input": "2022-01-30T20:07:56.162573Z",
     "iopub.status.busy": "2022-01-30T20:07:56.162037Z",
     "iopub.status.idle": "2022-01-30T20:07:56.169428Z",
     "shell.execute_reply": "2022-01-30T20:07:56.169012Z"
    },
    "papermill": {
     "duration": 0.04667,
     "end_time": "2022-01-30T20:07:56.169546",
     "exception": false,
     "start_time": "2022-01-30T20:07:56.122876",
     "status": "completed"
    },
    "tags": []
   },
   "outputs": [],
   "source": [
    "y_train = 1*(y_train==3)\n",
    "y_test = 1*(y_test==3)"
   ]
  },
  {
   "cell_type": "code",
   "execution_count": 13,
   "id": "01e4e969",
   "metadata": {
    "execution": {
     "iopub.execute_input": "2022-01-30T20:07:56.227053Z",
     "iopub.status.busy": "2022-01-30T20:07:56.226535Z",
     "iopub.status.idle": "2022-01-30T20:07:56.239147Z",
     "shell.execute_reply": "2022-01-30T20:07:56.238736Z"
    },
    "papermill": {
     "duration": 0.04338,
     "end_time": "2022-01-30T20:07:56.239260",
     "exception": false,
     "start_time": "2022-01-30T20:07:56.195880",
     "status": "completed"
    },
    "tags": []
   },
   "outputs": [
    {
     "data": {
      "text/plain": [
       "((11982, 28, 28), (1984, 28, 28))"
      ]
     },
     "execution_count": 13,
     "metadata": {},
     "output_type": "execute_result"
    }
   ],
   "source": [
    "X_train.shape, X_test.shape"
   ]
  },
  {
   "cell_type": "markdown",
   "id": "5ccf3f85",
   "metadata": {
    "papermill": {
     "duration": 0.026214,
     "end_time": "2022-01-30T20:07:56.291783",
     "exception": false,
     "start_time": "2022-01-30T20:07:56.265569",
     "status": "completed"
    },
    "tags": []
   },
   "source": [
    "We reshape the data to flatten the image pixels into a set of features or co-variates:"
   ]
  },
  {
   "cell_type": "code",
   "execution_count": 14,
   "id": "5286a4a3",
   "metadata": {
    "execution": {
     "iopub.execute_input": "2022-01-30T20:07:56.353288Z",
     "iopub.status.busy": "2022-01-30T20:07:56.352768Z",
     "iopub.status.idle": "2022-01-30T20:07:56.363960Z",
     "shell.execute_reply": "2022-01-30T20:07:56.363520Z"
    },
    "papermill": {
     "duration": 0.04539,
     "end_time": "2022-01-30T20:07:56.364080",
     "exception": false,
     "start_time": "2022-01-30T20:07:56.318690",
     "status": "completed"
    },
    "tags": []
   },
   "outputs": [
    {
     "data": {
      "text/plain": [
       "((11982, 784), (1984, 784))"
      ]
     },
     "execution_count": 14,
     "metadata": {},
     "output_type": "execute_result"
    }
   ],
   "source": [
    "X_train = X_train.reshape(X_train.shape[0], -1)\n",
    "X_test = X_test.reshape(X_test.shape[0], -1)\n",
    "X_train.shape, X_test.shape"
   ]
  },
  {
   "cell_type": "code",
   "execution_count": 15,
   "id": "73c5f88a",
   "metadata": {
    "execution": {
     "iopub.execute_input": "2022-01-30T20:07:56.422372Z",
     "iopub.status.busy": "2022-01-30T20:07:56.421858Z",
     "iopub.status.idle": "2022-01-30T20:07:56.440617Z",
     "shell.execute_reply": "2022-01-30T20:07:56.440188Z"
    },
    "papermill": {
     "duration": 0.049884,
     "end_time": "2022-01-30T20:07:56.440735",
     "exception": false,
     "start_time": "2022-01-30T20:07:56.390851",
     "status": "completed"
    },
    "tags": []
   },
   "outputs": [],
   "source": [
    "#Impoting functions from 'Kudzu'\n",
    "from kudzu.model import Model\n",
    "from kudzu.train import Learner\n",
    "from kudzu.optim import GD\n",
    "from kudzu.data import Data, Sampler,Dataloader\n",
    "\n",
    "from kudzu.callbacks import AccCallback\n",
    "from kudzu.callbacks import ClfCallback\n",
    "\n",
    "from kudzu.loss import MSE\n",
    "\n",
    "from kudzu.layer import Sigmoid,Relu\n",
    "from kudzu.layer import Affine"
   ]
  },
  {
   "cell_type": "markdown",
   "id": "bc01172a",
   "metadata": {
    "papermill": {
     "duration": 0.026631,
     "end_time": "2022-01-30T20:07:56.494113",
     "exception": false,
     "start_time": "2022-01-30T20:07:56.467482",
     "status": "completed"
    },
    "tags": []
   },
   "source": [
    "### Let us create a `Config` class, to store important parameters. \n",
    "This class essentially plays the role of a dictionary."
   ]
  },
  {
   "cell_type": "code",
   "execution_count": 16,
   "id": "978281aa",
   "metadata": {
    "execution": {
     "iopub.execute_input": "2022-01-30T20:07:56.551570Z",
     "iopub.status.busy": "2022-01-30T20:07:56.551055Z",
     "iopub.status.idle": "2022-01-30T20:07:56.564086Z",
     "shell.execute_reply": "2022-01-30T20:07:56.563651Z"
    },
    "papermill": {
     "duration": 0.043357,
     "end_time": "2022-01-30T20:07:56.564203",
     "exception": false,
     "start_time": "2022-01-30T20:07:56.520846",
     "status": "completed"
    },
    "tags": []
   },
   "outputs": [],
   "source": [
    "class Config:\n",
    "    pass\n",
    "config = Config()\n",
    "config.lr = 0.001\n",
    "config.num_epochs = 250\n",
    "config.bs = 50"
   ]
  },
  {
   "cell_type": "markdown",
   "id": "1385fa59",
   "metadata": {
    "papermill": {
     "duration": 0.026652,
     "end_time": "2022-01-30T20:07:56.617681",
     "exception": false,
     "start_time": "2022-01-30T20:07:56.591029",
     "status": "completed"
    },
    "tags": []
   },
   "source": [
    "### Running Models with the Training data\n",
    "Details about the network layers:\n",
    "- A first affine layer has 784 inputs and does 100 affine transforms. These are followed by a Relu\n",
    "- A second affine layer has 100 inputs from the 100 activations of the past layer, and does 100 affine transforms. These are followed by a Relu\n",
    "- A third affine layer has 100 activations and does 2 affine transformations to create an embedding for visualization. There is no non-linearity here.\n",
    "- A final \"logistic regression\" which has an affine transform from 2 inputs to 1 output, which is squeezed through a sigmoid.\n"
   ]
  },
  {
   "cell_type": "code",
   "execution_count": 17,
   "id": "2b9c66db",
   "metadata": {
    "execution": {
     "iopub.execute_input": "2022-01-30T20:07:56.678639Z",
     "iopub.status.busy": "2022-01-30T20:07:56.678118Z",
     "iopub.status.idle": "2022-01-30T20:07:56.689609Z",
     "shell.execute_reply": "2022-01-30T20:07:56.689192Z"
    },
    "papermill": {
     "duration": 0.045278,
     "end_time": "2022-01-30T20:07:56.689724",
     "exception": false,
     "start_time": "2022-01-30T20:07:56.644446",
     "status": "completed"
    },
    "tags": []
   },
   "outputs": [],
   "source": [
    "data = Data(X_train, y_train.reshape(-1,1))\n",
    "sampler = Sampler(data, config.bs, shuffle=True)\n",
    "\n",
    "dl = Dataloader(data, sampler)\n",
    "\n",
    "opt = GD(config.lr)\n",
    "loss = MSE()"
   ]
  },
  {
   "cell_type": "code",
   "execution_count": 18,
   "id": "b275e4c2",
   "metadata": {
    "execution": {
     "iopub.execute_input": "2022-01-30T20:07:56.745882Z",
     "iopub.status.busy": "2022-01-30T20:07:56.745373Z",
     "iopub.status.idle": "2022-01-30T20:07:56.758682Z",
     "shell.execute_reply": "2022-01-30T20:07:56.758270Z"
    },
    "papermill": {
     "duration": 0.042326,
     "end_time": "2022-01-30T20:07:56.758795",
     "exception": false,
     "start_time": "2022-01-30T20:07:56.716469",
     "status": "completed"
    },
    "tags": []
   },
   "outputs": [],
   "source": [
    "training_data_x = X_train\n",
    "testing_data_x = X_test\n",
    "training_data_y = y_train.reshape(-1,1)\n",
    "testing_data_y = y_test.reshape(-1,1)"
   ]
  },
  {
   "cell_type": "code",
   "execution_count": 19,
   "id": "76951160",
   "metadata": {
    "execution": {
     "iopub.execute_input": "2022-01-30T20:07:56.821154Z",
     "iopub.status.busy": "2022-01-30T20:07:56.820638Z",
     "iopub.status.idle": "2022-01-30T20:07:56.833779Z",
     "shell.execute_reply": "2022-01-30T20:07:56.834209Z"
    },
    "papermill": {
     "duration": 0.048996,
     "end_time": "2022-01-30T20:07:56.834334",
     "exception": false,
     "start_time": "2022-01-30T20:07:56.785338",
     "status": "completed"
    },
    "tags": []
   },
   "outputs": [
    {
     "name": "stdout",
     "output_type": "stream",
     "text": [
      "xavier\n",
      "xavier\n",
      "xavier\n",
      "xavier\n",
      "xavier\n"
     ]
    }
   ],
   "source": [
    "layers = [Affine(\"first\", 784, 100), Relu(\"first\"), Affine(\"second\", 100, 100), Relu(\"second\"), Affine(\"third\", 100, 2), Affine(\"last\", 2, 1), Sigmoid(\"last\")]\n",
    "model_nn = Model(layers)\n",
    "model_lr = Model([Affine(\"logits\", 784, 1), Sigmoid(\"sigmoid\")])"
   ]
  },
  {
   "cell_type": "code",
   "execution_count": 20,
   "id": "6eede77a",
   "metadata": {
    "execution": {
     "iopub.execute_input": "2022-01-30T20:07:56.905132Z",
     "iopub.status.busy": "2022-01-30T20:07:56.900457Z",
     "iopub.status.idle": "2022-01-30T20:07:56.906962Z",
     "shell.execute_reply": "2022-01-30T20:07:56.907369Z"
    },
    "papermill": {
     "duration": 0.046162,
     "end_time": "2022-01-30T20:07:56.907498",
     "exception": false,
     "start_time": "2022-01-30T20:07:56.861336",
     "status": "completed"
    },
    "tags": []
   },
   "outputs": [],
   "source": [
    "nn_learner = Learner(loss, model_nn, opt, config.num_epochs)\n",
    "acc_nn = ClfCallback(nn_learner, config.bs, training_data_x , testing_data_x, training_data_y, testing_data_y)\n",
    "nn_learner.set_callbacks([acc_nn])"
   ]
  },
  {
   "cell_type": "code",
   "execution_count": 21,
   "id": "877b6cc7",
   "metadata": {
    "execution": {
     "iopub.execute_input": "2022-01-30T20:07:56.977087Z",
     "iopub.status.busy": "2022-01-30T20:07:56.976546Z",
     "iopub.status.idle": "2022-01-30T20:07:56.983458Z",
     "shell.execute_reply": "2022-01-30T20:07:56.983027Z"
    },
    "papermill": {
     "duration": 0.049012,
     "end_time": "2022-01-30T20:07:56.983570",
     "exception": false,
     "start_time": "2022-01-30T20:07:56.934558",
     "status": "completed"
    },
    "tags": []
   },
   "outputs": [],
   "source": [
    "lr_learner = Learner(loss, model_lr, opt, config.num_epochs)\n",
    "acc_lr = ClfCallback(lr_learner, config.bs, training_data_x , testing_data_x, training_data_y, testing_data_y)\n",
    "lr_learner.set_callbacks([acc_lr])"
   ]
  },
  {
   "cell_type": "code",
   "execution_count": 22,
   "id": "d9b133c3",
   "metadata": {
    "execution": {
     "iopub.execute_input": "2022-01-30T20:07:57.043243Z",
     "iopub.status.busy": "2022-01-30T20:07:57.042731Z",
     "iopub.status.idle": "2022-01-30T20:09:13.993489Z",
     "shell.execute_reply": "2022-01-30T20:09:13.993041Z"
    },
    "papermill": {
     "duration": 76.98306,
     "end_time": "2022-01-30T20:09:13.993618",
     "exception": false,
     "start_time": "2022-01-30T20:07:57.010558",
     "status": "completed"
    },
    "tags": []
   },
   "outputs": [
    {
     "name": "stdout",
     "output_type": "stream",
     "text": [
      "Epoch 0, Loss 0.2476\n",
      "Training Accuracy: 0.6781, Testing Accuracy: 0.7082\n",
      "\n"
     ]
    },
    {
     "name": "stdout",
     "output_type": "stream",
     "text": [
      "Epoch 10, Loss 0.0776\n",
      "Training Accuracy: 0.9232, Testing Accuracy: 0.9415\n",
      "\n"
     ]
    },
    {
     "name": "stdout",
     "output_type": "stream",
     "text": [
      "Epoch 20, Loss 0.0508\n",
      "Training Accuracy: 0.9451, Testing Accuracy: 0.9597\n",
      "\n"
     ]
    },
    {
     "name": "stdout",
     "output_type": "stream",
     "text": [
      "Epoch 30, Loss 0.0412\n",
      "Training Accuracy: 0.9555, Testing Accuracy: 0.9657\n",
      "\n"
     ]
    },
    {
     "name": "stdout",
     "output_type": "stream",
     "text": [
      "Epoch 40, Loss 0.0362\n",
      "Training Accuracy: 0.9595, Testing Accuracy: 0.9657\n",
      "\n"
     ]
    },
    {
     "name": "stdout",
     "output_type": "stream",
     "text": [
      "Epoch 50, Loss 0.033\n",
      "Training Accuracy: 0.9621, Testing Accuracy: 0.9657\n",
      "\n"
     ]
    },
    {
     "name": "stdout",
     "output_type": "stream",
     "text": [
      "Epoch 60, Loss 0.0308\n",
      "Training Accuracy: 0.9651, Testing Accuracy: 0.9677\n",
      "\n"
     ]
    },
    {
     "name": "stdout",
     "output_type": "stream",
     "text": [
      "Epoch 70, Loss 0.0291\n",
      "Training Accuracy: 0.9665, Testing Accuracy: 0.9693\n",
      "\n"
     ]
    },
    {
     "name": "stdout",
     "output_type": "stream",
     "text": [
      "Epoch 80, Loss 0.0277\n",
      "Training Accuracy: 0.9678, Testing Accuracy: 0.9698\n",
      "\n"
     ]
    },
    {
     "name": "stdout",
     "output_type": "stream",
     "text": [
      "Epoch 90, Loss 0.0266\n",
      "Training Accuracy: 0.9690, Testing Accuracy: 0.9703\n",
      "\n"
     ]
    },
    {
     "name": "stdout",
     "output_type": "stream",
     "text": [
      "Epoch 100, Loss 0.0257\n",
      "Training Accuracy: 0.9705, Testing Accuracy: 0.9708\n",
      "\n"
     ]
    },
    {
     "name": "stdout",
     "output_type": "stream",
     "text": [
      "Epoch 110, Loss 0.0249\n",
      "Training Accuracy: 0.9712, Testing Accuracy: 0.9718\n",
      "\n"
     ]
    },
    {
     "name": "stdout",
     "output_type": "stream",
     "text": [
      "Epoch 120, Loss 0.0241\n",
      "Training Accuracy: 0.9717, Testing Accuracy: 0.9718\n",
      "\n"
     ]
    },
    {
     "name": "stdout",
     "output_type": "stream",
     "text": [
      "Epoch 130, Loss 0.0235\n",
      "Training Accuracy: 0.9730, Testing Accuracy: 0.9713\n",
      "\n"
     ]
    },
    {
     "name": "stdout",
     "output_type": "stream",
     "text": [
      "Epoch 140, Loss 0.0229\n",
      "Training Accuracy: 0.9742, Testing Accuracy: 0.9713\n",
      "\n"
     ]
    },
    {
     "name": "stdout",
     "output_type": "stream",
     "text": [
      "Epoch 150, Loss 0.0223\n",
      "Training Accuracy: 0.9751, Testing Accuracy: 0.9713\n",
      "\n"
     ]
    },
    {
     "name": "stdout",
     "output_type": "stream",
     "text": [
      "Epoch 160, Loss 0.0218\n",
      "Training Accuracy: 0.9758, Testing Accuracy: 0.9713\n",
      "\n"
     ]
    },
    {
     "name": "stdout",
     "output_type": "stream",
     "text": [
      "Epoch 170, Loss 0.0213\n",
      "Training Accuracy: 0.9761, Testing Accuracy: 0.9713\n",
      "\n"
     ]
    },
    {
     "name": "stdout",
     "output_type": "stream",
     "text": [
      "Epoch 180, Loss 0.0209\n",
      "Training Accuracy: 0.9770, Testing Accuracy: 0.9723\n",
      "\n"
     ]
    },
    {
     "name": "stdout",
     "output_type": "stream",
     "text": [
      "Epoch 190, Loss 0.0204\n",
      "Training Accuracy: 0.9776, Testing Accuracy: 0.9723\n",
      "\n"
     ]
    },
    {
     "name": "stdout",
     "output_type": "stream",
     "text": [
      "Epoch 200, Loss 0.02\n",
      "Training Accuracy: 0.9781, Testing Accuracy: 0.9723\n",
      "\n"
     ]
    },
    {
     "name": "stdout",
     "output_type": "stream",
     "text": [
      "Epoch 210, Loss 0.0196\n",
      "Training Accuracy: 0.9786, Testing Accuracy: 0.9718\n",
      "\n"
     ]
    },
    {
     "name": "stdout",
     "output_type": "stream",
     "text": [
      "Epoch 220, Loss 0.0193\n",
      "Training Accuracy: 0.9790, Testing Accuracy: 0.9728\n",
      "\n"
     ]
    },
    {
     "name": "stdout",
     "output_type": "stream",
     "text": [
      "Epoch 230, Loss 0.0189\n",
      "Training Accuracy: 0.9794, Testing Accuracy: 0.9723\n",
      "\n"
     ]
    },
    {
     "name": "stdout",
     "output_type": "stream",
     "text": [
      "Epoch 240, Loss 0.0186\n",
      "Training Accuracy: 0.9800, Testing Accuracy: 0.9733\n",
      "\n"
     ]
    },
    {
     "data": {
      "text/plain": [
       "0.011496481208449753"
      ]
     },
     "execution_count": 22,
     "metadata": {},
     "output_type": "execute_result"
    }
   ],
   "source": [
    "nn_learner.train_loop(dl)"
   ]
  },
  {
   "cell_type": "code",
   "execution_count": 23,
   "id": "e0163366",
   "metadata": {
    "execution": {
     "iopub.execute_input": "2022-01-30T20:09:14.068074Z",
     "iopub.status.busy": "2022-01-30T20:09:14.066482Z",
     "iopub.status.idle": "2022-01-30T20:09:27.759024Z",
     "shell.execute_reply": "2022-01-30T20:09:27.759778Z"
    },
    "papermill": {
     "duration": 13.731665,
     "end_time": "2022-01-30T20:09:27.759931",
     "exception": false,
     "start_time": "2022-01-30T20:09:14.028266",
     "status": "completed"
    },
    "tags": []
   },
   "outputs": [
    {
     "name": "stdout",
     "output_type": "stream",
     "text": [
      "Epoch 0, Loss 0.2546\n",
      "Training Accuracy: 0.6341, Testing Accuracy: 0.6426\n",
      "\n"
     ]
    },
    {
     "name": "stdout",
     "output_type": "stream",
     "text": [
      "Epoch 10, Loss 0.1021\n",
      "Training Accuracy: 0.9164, Testing Accuracy: 0.9249\n",
      "\n"
     ]
    },
    {
     "name": "stdout",
     "output_type": "stream",
     "text": [
      "Epoch 20, Loss 0.0781\n",
      "Training Accuracy: 0.9313, Testing Accuracy: 0.9425\n",
      "\n"
     ]
    },
    {
     "name": "stdout",
     "output_type": "stream",
     "text": [
      "Epoch 30, Loss 0.0672\n",
      "Training Accuracy: 0.9379, Testing Accuracy: 0.9491\n",
      "\n"
     ]
    },
    {
     "name": "stdout",
     "output_type": "stream",
     "text": [
      "Epoch 40, Loss 0.0607\n",
      "Training Accuracy: 0.9432, Testing Accuracy: 0.9521\n",
      "\n"
     ]
    },
    {
     "name": "stdout",
     "output_type": "stream",
     "text": [
      "Epoch 50, Loss 0.0563\n",
      "Training Accuracy: 0.9465, Testing Accuracy: 0.9572\n",
      "\n"
     ]
    },
    {
     "name": "stdout",
     "output_type": "stream",
     "text": [
      "Epoch 60, Loss 0.0531\n",
      "Training Accuracy: 0.9488, Testing Accuracy: 0.9587\n",
      "\n"
     ]
    },
    {
     "name": "stdout",
     "output_type": "stream",
     "text": [
      "Epoch 70, Loss 0.0506\n",
      "Training Accuracy: 0.9510, Testing Accuracy: 0.9602\n",
      "\n"
     ]
    },
    {
     "name": "stdout",
     "output_type": "stream",
     "text": [
      "Epoch 80, Loss 0.0486\n",
      "Training Accuracy: 0.9521, Testing Accuracy: 0.9607\n",
      "\n"
     ]
    },
    {
     "name": "stdout",
     "output_type": "stream",
     "text": [
      "Epoch 90, Loss 0.047\n",
      "Training Accuracy: 0.9533, Testing Accuracy: 0.9607\n",
      "\n"
     ]
    },
    {
     "name": "stdout",
     "output_type": "stream",
     "text": [
      "Epoch 100, Loss 0.0456\n",
      "Training Accuracy: 0.9544, Testing Accuracy: 0.9612\n",
      "\n"
     ]
    },
    {
     "name": "stdout",
     "output_type": "stream",
     "text": [
      "Epoch 110, Loss 0.0444\n",
      "Training Accuracy: 0.9553, Testing Accuracy: 0.9627\n",
      "\n"
     ]
    },
    {
     "name": "stdout",
     "output_type": "stream",
     "text": [
      "Epoch 120, Loss 0.0434\n",
      "Training Accuracy: 0.9562, Testing Accuracy: 0.9637\n",
      "\n"
     ]
    },
    {
     "name": "stdout",
     "output_type": "stream",
     "text": [
      "Epoch 130, Loss 0.0425\n",
      "Training Accuracy: 0.9569, Testing Accuracy: 0.9637\n",
      "\n"
     ]
    },
    {
     "name": "stdout",
     "output_type": "stream",
     "text": [
      "Epoch 140, Loss 0.0417\n",
      "Training Accuracy: 0.9575, Testing Accuracy: 0.9652\n",
      "\n"
     ]
    },
    {
     "name": "stdout",
     "output_type": "stream",
     "text": [
      "Epoch 150, Loss 0.0409\n",
      "Training Accuracy: 0.9579, Testing Accuracy: 0.9652\n",
      "\n"
     ]
    },
    {
     "name": "stdout",
     "output_type": "stream",
     "text": [
      "Epoch 160, Loss 0.0403\n",
      "Training Accuracy: 0.9583, Testing Accuracy: 0.9657\n",
      "\n"
     ]
    },
    {
     "name": "stdout",
     "output_type": "stream",
     "text": [
      "Epoch 170, Loss 0.0397\n",
      "Training Accuracy: 0.9592, Testing Accuracy: 0.9667\n",
      "\n"
     ]
    },
    {
     "name": "stdout",
     "output_type": "stream",
     "text": [
      "Epoch 180, Loss 0.0391\n",
      "Training Accuracy: 0.9596, Testing Accuracy: 0.9677\n",
      "\n"
     ]
    },
    {
     "name": "stdout",
     "output_type": "stream",
     "text": [
      "Epoch 190, Loss 0.0386\n",
      "Training Accuracy: 0.9602, Testing Accuracy: 0.9672\n",
      "\n"
     ]
    },
    {
     "name": "stdout",
     "output_type": "stream",
     "text": [
      "Epoch 200, Loss 0.0382\n",
      "Training Accuracy: 0.9604, Testing Accuracy: 0.9682\n",
      "\n"
     ]
    },
    {
     "name": "stdout",
     "output_type": "stream",
     "text": [
      "Epoch 210, Loss 0.0377\n",
      "Training Accuracy: 0.9612, Testing Accuracy: 0.9688\n",
      "\n"
     ]
    },
    {
     "name": "stdout",
     "output_type": "stream",
     "text": [
      "Epoch 220, Loss 0.0373\n",
      "Training Accuracy: 0.9617, Testing Accuracy: 0.9688\n",
      "\n"
     ]
    },
    {
     "name": "stdout",
     "output_type": "stream",
     "text": [
      "Epoch 230, Loss 0.037\n",
      "Training Accuracy: 0.9617, Testing Accuracy: 0.9693\n",
      "\n"
     ]
    },
    {
     "name": "stdout",
     "output_type": "stream",
     "text": [
      "Epoch 240, Loss 0.0366\n",
      "Training Accuracy: 0.9619, Testing Accuracy: 0.9693\n",
      "\n"
     ]
    },
    {
     "data": {
      "text/plain": [
       "0.049193752441633355"
      ]
     },
     "execution_count": 23,
     "metadata": {},
     "output_type": "execute_result"
    }
   ],
   "source": [
    "lr_learner.train_loop(dl)"
   ]
  },
  {
   "cell_type": "code",
   "execution_count": 24,
   "id": "ca410940",
   "metadata": {
    "execution": {
     "iopub.execute_input": "2022-01-30T20:09:27.857137Z",
     "iopub.status.busy": "2022-01-30T20:09:27.856601Z",
     "iopub.status.idle": "2022-01-30T20:09:28.077524Z",
     "shell.execute_reply": "2022-01-30T20:09:28.077977Z"
    },
    "papermill": {
     "duration": 0.276763,
     "end_time": "2022-01-30T20:09:28.078142",
     "exception": false,
     "start_time": "2022-01-30T20:09:27.801379",
     "status": "completed"
    },
    "tags": []
   },
   "outputs": [
    {
     "data": {
      "text/plain": [
       "<matplotlib.legend.Legend at 0x7fdfa3fe4438>"
      ]
     },
     "execution_count": 24,
     "metadata": {},
     "output_type": "execute_result"
    },
    {
     "data": {
      "image/png": "[encoded data removed]",
      "text/plain": [
       "<Figure size 1080x720 with 1 Axes>"
      ]
     },
     "metadata": {
      "needs_background": "light"
     },
     "output_type": "display_data"
    }
   ],
   "source": [
    "#comparing the results of NN and LR\n",
    "plt.figure(figsize=(15,10))\n",
    "\n",
    "# Neural Network plots\n",
    "plt.plot(acc_nn.accuracies, 'r-', label = \"Training Accuracies - NN\")\n",
    "plt.plot(acc_nn.test_accuracies, 'g-', label = \"Testing Accuracies - NN\")\n",
    "\n",
    "# Logistic Regression plots\n",
    "plt.plot(acc_lr.accuracies, 'k-', label = \"Training Accuracies - LR\")\n",
    "plt.plot(acc_lr.test_accuracies, 'b-', label = \"Testing Accuracies - LR\")\n",
    "plt.legend()"
   ]
  },
  {
   "cell_type": "markdown",
   "id": "80dfb35c",
   "metadata": {
    "papermill": {
     "duration": 0.042195,
     "end_time": "2022-01-30T20:09:28.162967",
     "exception": false,
     "start_time": "2022-01-30T20:09:28.120772",
     "status": "completed"
    },
    "tags": []
   },
   "source": [
    "#### Plotting the outputs of this layer of the NN.\n"
   ]
  },
  {
   "cell_type": "code",
   "execution_count": 25,
   "id": "45eb2ff5",
   "metadata": {
    "execution": {
     "iopub.execute_input": "2022-01-30T20:09:28.250796Z",
     "iopub.status.busy": "2022-01-30T20:09:28.250263Z",
     "iopub.status.idle": "2022-01-30T20:09:28.270114Z",
     "shell.execute_reply": "2022-01-30T20:09:28.270539Z"
    },
    "papermill": {
     "duration": 0.066089,
     "end_time": "2022-01-30T20:09:28.270681",
     "exception": false,
     "start_time": "2022-01-30T20:09:28.204592",
     "status": "completed"
    },
    "tags": []
   },
   "outputs": [],
   "source": [
    "new_model = Model(layers[:-2])\n",
    "testing_plot = new_model(testing_data_x)"
   ]
  },
  {
   "cell_type": "code",
   "execution_count": 26,
   "id": "4c0a5485",
   "metadata": {
    "execution": {
     "iopub.execute_input": "2022-01-30T20:09:28.379593Z",
     "iopub.status.busy": "2022-01-30T20:09:28.369011Z",
     "iopub.status.idle": "2022-01-30T20:09:28.562670Z",
     "shell.execute_reply": "2022-01-30T20:09:28.563106Z"
    },
    "papermill": {
     "duration": 0.250459,
     "end_time": "2022-01-30T20:09:28.563254",
     "exception": false,
     "start_time": "2022-01-30T20:09:28.312795",
     "status": "completed"
    },
    "tags": []
   },
   "outputs": [
    {
     "data": {
      "text/plain": [
       "Text(0.5, 1.0, 'Outputs')"
      ]
     },
     "execution_count": 26,
     "metadata": {},
     "output_type": "execute_result"
    },
    {
     "data": {
      "image/png": "[encoded data removed]",
      "text/plain": [
       "<Figure size 576x504 with 1 Axes>"
      ]
     },
     "metadata": {
      "needs_background": "light"
     },
     "output_type": "display_data"
    }
   ],
   "source": [
    "# Plotting the scatter plot of points and color coding by class\n",
    "plt.figure(figsize=(8,7))\n",
    "plt.scatter(testing_plot[:,0], testing_plot[:,1], alpha = 0.1, c = y_test.ravel());\n",
    "plt.title('Outputs')"
   ]
  },
  {
   "cell_type": "markdown",
   "id": "a74fcf8f",
   "metadata": {
    "papermill": {
     "duration": 0.043849,
     "end_time": "2022-01-30T20:09:28.651509",
     "exception": false,
     "start_time": "2022-01-30T20:09:28.607660",
     "status": "completed"
    },
    "tags": []
   },
   "source": [
    "Probability contours"
   ]
  },
  {
   "cell_type": "code",
   "execution_count": 27,
   "id": "d0afc8e3",
   "metadata": {
    "execution": {
     "iopub.execute_input": "2022-01-30T20:09:28.744529Z",
     "iopub.status.busy": "2022-01-30T20:09:28.743999Z",
     "iopub.status.idle": "2022-01-30T20:09:28.755462Z",
     "shell.execute_reply": "2022-01-30T20:09:28.755001Z"
    },
    "papermill": {
     "duration": 0.059999,
     "end_time": "2022-01-30T20:09:28.755578",
     "exception": false,
     "start_time": "2022-01-30T20:09:28.695579",
     "status": "completed"
    },
    "tags": []
   },
   "outputs": [],
   "source": [
    "model_prob = Model(layers[-2:]) "
   ]
  },
  {
   "cell_type": "code",
   "execution_count": 28,
   "id": "9b96e238",
   "metadata": {
    "execution": {
     "iopub.execute_input": "2022-01-30T20:09:28.848977Z",
     "iopub.status.busy": "2022-01-30T20:09:28.848364Z",
     "iopub.status.idle": "2022-01-30T20:09:28.860694Z",
     "shell.execute_reply": "2022-01-30T20:09:28.861084Z"
    },
    "papermill": {
     "duration": 0.061826,
     "end_time": "2022-01-30T20:09:28.861215",
     "exception": false,
     "start_time": "2022-01-30T20:09:28.799389",
     "status": "completed"
    },
    "tags": []
   },
   "outputs": [],
   "source": [
    "#creating the x and y ranges according to the above generated plot.\n",
    "x_range = np.linspace(-4, 1, 100) \n",
    "y_range = np.linspace(-6, 6, 100) \n",
    "x_grid, y_grid = np.meshgrid(x_range, y_range) # x_grid and y_grig are of size 100 X 100\n",
    "\n",
    "# converting x_grid and y_grid to continuous arrays\n",
    "x_gridflat = np.ravel(x_grid)\n",
    "y_gridflat = np.ravel(y_grid)\n",
    "\n",
    "# The last layer of the current model takes two columns as input. Hence transpose of np.vstack() is required.\n",
    "X = np.vstack((x_gridflat, y_gridflat)).T\n",
    "\n",
    "prob_contour = model_prob(X).reshape(100,100) "
   ]
  },
  {
   "cell_type": "code",
   "execution_count": 29,
   "id": "da72499a",
   "metadata": {
    "execution": {
     "iopub.execute_input": "2022-01-30T20:09:28.985038Z",
     "iopub.status.busy": "2022-01-30T20:09:28.984505Z",
     "iopub.status.idle": "2022-01-30T20:09:29.226066Z",
     "shell.execute_reply": "2022-01-30T20:09:29.226564Z"
    },
    "papermill": {
     "duration": 0.320624,
     "end_time": "2022-01-30T20:09:29.226722",
     "exception": false,
     "start_time": "2022-01-30T20:09:28.906098",
     "status": "completed"
    },
    "tags": []
   },
   "outputs": [
    {
     "data": {
      "image/png": "[encoded data removed]",
      "text/plain": [
       "<Figure size 720x648 with 1 Axes>"
      ]
     },
     "metadata": {
      "needs_background": "light"
     },
     "output_type": "display_data"
    }
   ],
   "source": [
    "plt.figure(figsize=(10,9))\n",
    "plt.scatter(testing_plot[:,0], testing_plot[:,1], alpha = 0.1, c = y_test.ravel())\n",
    "contours = plt.contour(x_grid,y_grid,prob_contour)\n",
    "plt.title('Probability Contours')\n",
    "plt.clabel(contours, inline = True );"
   ]
  },
  {
   "cell_type": "code",
   "execution_count": null,
   "id": "e81b4ac7",
   "metadata": {
    "papermill": {
     "duration": 0.046986,
     "end_time": "2022-01-30T20:09:29.321452",
     "exception": false,
     "start_time": "2022-01-30T20:09:29.274466",
     "status": "completed"
    },
    "tags": []
   },
   "outputs": [],
   "source": []
  }
 ],
 "metadata": {
  "kernelspec": {
   "display_name": "Python 3",
   "language": "python",
   "name": "python3"
  },
  "language_info": {
   "codemirror_mode": {
    "name": "ipython",
    "version": 3
   },
   "file_extension": ".py",
   "mimetype": "text/x-python",
   "name": "python",
   "nbconvert_exporter": "python",
   "pygments_lexer": "ipython3",
   "version": "3.6.15"
  },
  "papermill": {
   "default_parameters": {},
   "duration": 98.773915,
   "end_time": "2022-01-30T20:09:29.787434",
   "environment_variables": {},
   "exception": null,
   "input_path": "2020-08-11-part2.ipynb",
   "output_path": "2020-08-11-part2.ipynb",
   "parameters": {},
   "start_time": "2022-01-30T20:07:51.013519",
   "version": "2.3.3"
  }
 },
 "nbformat": 4,
 "nbformat_minor": 5
}