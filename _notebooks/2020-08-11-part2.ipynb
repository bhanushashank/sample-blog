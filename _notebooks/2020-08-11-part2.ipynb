{
 "cells": [
  {
   "cell_type": "markdown",
   "id": "98380cd3",
   "metadata": {
    "papermill": {
     "duration": 0.030985,
     "end_time": "2021-12-17T20:06:33.658732",
     "exception": false,
     "start_time": "2021-12-17T20:06:33.627747",
     "status": "completed"
    },
    "tags": []
   },
   "source": [
    "# Distinguish Your Own Digits (DYOD)"
   ]
  },
  {
   "cell_type": "markdown",
   "id": "ef31240d",
   "metadata": {
    "papermill": {
     "duration": 0.0242,
     "end_time": "2021-12-17T20:06:33.708236",
     "exception": false,
     "start_time": "2021-12-17T20:06:33.684036",
     "status": "completed"
    },
    "tags": []
   },
   "source": [
    "You are going to write a classifier that distinguishes between the number 3 and number 8."
   ]
  },
  {
   "cell_type": "code",
   "execution_count": 1,
   "id": "b15c8646",
   "metadata": {
    "execution": {
     "iopub.execute_input": "2021-12-17T20:06:33.769653Z",
     "iopub.status.busy": "2021-12-17T20:06:33.768926Z",
     "iopub.status.idle": "2021-12-17T20:06:33.783305Z",
     "shell.execute_reply": "2021-12-17T20:06:33.782694Z"
    },
    "papermill": {
     "duration": 0.051106,
     "end_time": "2021-12-17T20:06:33.783456",
     "exception": false,
     "start_time": "2021-12-17T20:06:33.732350",
     "status": "completed"
    },
    "tags": []
   },
   "outputs": [],
   "source": [
    "%load_ext autoreload\n",
    "%autoreload 2"
   ]
  },
  {
   "cell_type": "code",
   "execution_count": 2,
   "id": "22ef38dc",
   "metadata": {
    "execution": {
     "iopub.execute_input": "2021-12-17T20:06:33.842873Z",
     "iopub.status.busy": "2021-12-17T20:06:33.842236Z",
     "iopub.status.idle": "2021-12-17T20:06:34.466684Z",
     "shell.execute_reply": "2021-12-17T20:06:34.466125Z"
    },
    "papermill": {
     "duration": 0.658261,
     "end_time": "2021-12-17T20:06:34.466839",
     "exception": false,
     "start_time": "2021-12-17T20:06:33.808578",
     "status": "completed"
    },
    "tags": []
   },
   "outputs": [],
   "source": [
    "%matplotlib inline\n",
    "import numpy as np\n",
    "import matplotlib.pyplot as plt\n",
    "import pandas as pd"
   ]
  },
  {
   "cell_type": "markdown",
   "id": "ba036198",
   "metadata": {
    "papermill": {
     "duration": 0.021764,
     "end_time": "2021-12-17T20:06:34.511823",
     "exception": false,
     "start_time": "2021-12-17T20:06:34.490059",
     "status": "completed"
    },
    "tags": []
   },
   "source": [
    "From the command line run `pip install mnist`. This is a library that will help you bring down the mnist dataset. If you run this from a notebook, you need to put  `!pip install mnist` in a cell by itself."
   ]
  },
  {
   "cell_type": "code",
   "execution_count": 3,
   "id": "bb6ad8a1",
   "metadata": {
    "execution": {
     "iopub.execute_input": "2021-12-17T20:06:34.562866Z",
     "iopub.status.busy": "2021-12-17T20:06:34.562351Z",
     "iopub.status.idle": "2021-12-17T20:06:36.362836Z",
     "shell.execute_reply": "2021-12-17T20:06:36.362289Z"
    },
    "papermill": {
     "duration": 1.829723,
     "end_time": "2021-12-17T20:06:36.362978",
     "exception": false,
     "start_time": "2021-12-17T20:06:34.533255",
     "status": "completed"
    },
    "tags": []
   },
   "outputs": [
    {
     "name": "stdout",
     "output_type": "stream",
     "text": [
      "Collecting mnist\r\n"
     ]
    },
    {
     "name": "stdout",
     "output_type": "stream",
     "text": [
      "  Downloading mnist-0.2.2-py2.py3-none-any.whl (3.5 kB)\r\n",
      "Requirement already satisfied: numpy in /opt/hostedtoolcache/Python/3.6.15/x64/lib/python3.6/site-packages (from mnist) (1.19.5)\r\n"
     ]
    },
    {
     "name": "stdout",
     "output_type": "stream",
     "text": [
      "Installing collected packages: mnist\r\n"
     ]
    },
    {
     "name": "stdout",
     "output_type": "stream",
     "text": [
      "Successfully installed mnist-0.2.2\r\n"
     ]
    }
   ],
   "source": [
    "!pip install mnist"
   ]
  },
  {
   "cell_type": "markdown",
   "id": "69df9c9a",
   "metadata": {
    "papermill": {
     "duration": 0.025674,
     "end_time": "2021-12-17T20:06:36.414775",
     "exception": false,
     "start_time": "2021-12-17T20:06:36.389101",
     "status": "completed"
    },
    "tags": []
   },
   "source": [
    "## Preparing the Data"
   ]
  },
  {
   "cell_type": "code",
   "execution_count": 4,
   "id": "7f69d806",
   "metadata": {
    "execution": {
     "iopub.execute_input": "2021-12-17T20:06:36.470719Z",
     "iopub.status.busy": "2021-12-17T20:06:36.470145Z",
     "iopub.status.idle": "2021-12-17T20:06:36.486243Z",
     "shell.execute_reply": "2021-12-17T20:06:36.485809Z"
    },
    "papermill": {
     "duration": 0.046056,
     "end_time": "2021-12-17T20:06:36.486371",
     "exception": false,
     "start_time": "2021-12-17T20:06:36.440315",
     "status": "completed"
    },
    "tags": []
   },
   "outputs": [],
   "source": [
    "import mnist"
   ]
  },
  {
   "cell_type": "code",
   "execution_count": 5,
   "id": "a411e44f",
   "metadata": {
    "execution": {
     "iopub.execute_input": "2021-12-17T20:06:36.541608Z",
     "iopub.status.busy": "2021-12-17T20:06:36.541068Z",
     "iopub.status.idle": "2021-12-17T20:06:37.077922Z",
     "shell.execute_reply": "2021-12-17T20:06:37.078363Z"
    },
    "papermill": {
     "duration": 0.566402,
     "end_time": "2021-12-17T20:06:37.078529",
     "exception": false,
     "start_time": "2021-12-17T20:06:36.512127",
     "status": "completed"
    },
    "tags": []
   },
   "outputs": [],
   "source": [
    "train_images = mnist.train_images()\n",
    "train_labels = mnist.train_labels()"
   ]
  },
  {
   "cell_type": "code",
   "execution_count": 6,
   "id": "dceab3a5",
   "metadata": {
    "execution": {
     "iopub.execute_input": "2021-12-17T20:06:37.133592Z",
     "iopub.status.busy": "2021-12-17T20:06:37.133062Z",
     "iopub.status.idle": "2021-12-17T20:06:37.149275Z",
     "shell.execute_reply": "2021-12-17T20:06:37.148833Z"
    },
    "papermill": {
     "duration": 0.045252,
     "end_time": "2021-12-17T20:06:37.149393",
     "exception": false,
     "start_time": "2021-12-17T20:06:37.104141",
     "status": "completed"
    },
    "tags": []
   },
   "outputs": [
    {
     "data": {
      "text/plain": [
       "((60000, 28, 28), (60000,))"
      ]
     },
     "execution_count": 6,
     "metadata": {},
     "output_type": "execute_result"
    }
   ],
   "source": [
    "train_images.shape, train_labels.shape"
   ]
  },
  {
   "cell_type": "code",
   "execution_count": 7,
   "id": "f50dc2bb",
   "metadata": {
    "execution": {
     "iopub.execute_input": "2021-12-17T20:06:37.205096Z",
     "iopub.status.busy": "2021-12-17T20:06:37.204573Z",
     "iopub.status.idle": "2021-12-17T20:06:37.345972Z",
     "shell.execute_reply": "2021-12-17T20:06:37.345485Z"
    },
    "papermill": {
     "duration": 0.171249,
     "end_time": "2021-12-17T20:06:37.346147",
     "exception": false,
     "start_time": "2021-12-17T20:06:37.174898",
     "status": "completed"
    },
    "tags": []
   },
   "outputs": [],
   "source": [
    "test_images = mnist.test_images()\n",
    "test_labels = mnist.test_labels()"
   ]
  },
  {
   "cell_type": "code",
   "execution_count": 8,
   "id": "fc38cf1b",
   "metadata": {
    "execution": {
     "iopub.execute_input": "2021-12-17T20:06:37.404869Z",
     "iopub.status.busy": "2021-12-17T20:06:37.404332Z",
     "iopub.status.idle": "2021-12-17T20:06:37.417020Z",
     "shell.execute_reply": "2021-12-17T20:06:37.416593Z"
    },
    "papermill": {
     "duration": 0.045006,
     "end_time": "2021-12-17T20:06:37.417145",
     "exception": false,
     "start_time": "2021-12-17T20:06:37.372139",
     "status": "completed"
    },
    "tags": []
   },
   "outputs": [
    {
     "data": {
      "text/plain": [
       "((10000, 28, 28), (10000,))"
      ]
     },
     "execution_count": 8,
     "metadata": {},
     "output_type": "execute_result"
    }
   ],
   "source": [
    "test_images.shape, test_labels.shape"
   ]
  },
  {
   "cell_type": "code",
   "execution_count": 9,
   "id": "f9ed8fe0",
   "metadata": {
    "execution": {
     "iopub.execute_input": "2021-12-17T20:06:37.473481Z",
     "iopub.status.busy": "2021-12-17T20:06:37.472933Z",
     "iopub.status.idle": "2021-12-17T20:06:37.617284Z",
     "shell.execute_reply": "2021-12-17T20:06:37.616824Z"
    },
    "papermill": {
     "duration": 0.174302,
     "end_time": "2021-12-17T20:06:37.617414",
     "exception": false,
     "start_time": "2021-12-17T20:06:37.443112",
     "status": "completed"
    },
    "tags": []
   },
   "outputs": [
    {
     "name": "stdout",
     "output_type": "stream",
     "text": [
      "2\n"
     ]
    },
    {
     "data": {
      "text/plain": [
       "<matplotlib.image.AxesImage at 0x7f2f3772f518>"
      ]
     },
     "execution_count": 9,
     "metadata": {},
     "output_type": "execute_result"
    },
    {
     "data": {
      "image/png": "[encoded data removed]",
      "text/plain": [
       "<Figure size 432x288 with 1 Axes>"
      ]
     },
     "metadata": {
      "needs_background": "light"
     },
     "output_type": "display_data"
    }
   ],
   "source": [
    "image_index = 7776 # You may select anything up to 60,000\n",
    "print(train_labels[image_index]) \n",
    "plt.imshow(train_images[image_index], cmap='Greys')"
   ]
  },
  {
   "cell_type": "markdown",
   "id": "a8d2388d",
   "metadata": {
    "papermill": {
     "duration": 0.028206,
     "end_time": "2021-12-17T20:06:37.673520",
     "exception": false,
     "start_time": "2021-12-17T20:06:37.645314",
     "status": "completed"
    },
    "tags": []
   },
   "source": [
    "## Filter data to get 3 and 8 out"
   ]
  },
  {
   "cell_type": "code",
   "execution_count": 10,
   "id": "776f7fc7",
   "metadata": {
    "execution": {
     "iopub.execute_input": "2021-12-17T20:06:37.737070Z",
     "iopub.status.busy": "2021-12-17T20:06:37.736497Z",
     "iopub.status.idle": "2021-12-17T20:06:37.752513Z",
     "shell.execute_reply": "2021-12-17T20:06:37.752028Z"
    },
    "papermill": {
     "duration": 0.05128,
     "end_time": "2021-12-17T20:06:37.752634",
     "exception": false,
     "start_time": "2021-12-17T20:06:37.701354",
     "status": "completed"
    },
    "tags": []
   },
   "outputs": [],
   "source": [
    "train_filter = np.where((train_labels == 3 ) | (train_labels == 8))\n",
    "test_filter = np.where((test_labels == 3) | (test_labels == 8))\n",
    "X_train, y_train = train_images[train_filter], train_labels[train_filter]\n",
    "X_test, y_test = test_images[test_filter], test_labels[test_filter]"
   ]
  },
  {
   "cell_type": "markdown",
   "id": "948f0b7e",
   "metadata": {
    "papermill": {
     "duration": 0.027077,
     "end_time": "2021-12-17T20:06:37.806940",
     "exception": false,
     "start_time": "2021-12-17T20:06:37.779863",
     "status": "completed"
    },
    "tags": []
   },
   "source": [
    "We normalize the pizel values in the 0 to 1 range"
   ]
  },
  {
   "cell_type": "code",
   "execution_count": 11,
   "id": "ee4c2166",
   "metadata": {
    "execution": {
     "iopub.execute_input": "2021-12-17T20:06:37.871200Z",
     "iopub.status.busy": "2021-12-17T20:06:37.870600Z",
     "iopub.status.idle": "2021-12-17T20:06:37.912802Z",
     "shell.execute_reply": "2021-12-17T20:06:37.912265Z"
    },
    "papermill": {
     "duration": 0.078632,
     "end_time": "2021-12-17T20:06:37.912953",
     "exception": false,
     "start_time": "2021-12-17T20:06:37.834321",
     "status": "completed"
    },
    "tags": []
   },
   "outputs": [],
   "source": [
    "X_train = X_train/255.\n",
    "X_test = X_test/255."
   ]
  },
  {
   "cell_type": "markdown",
   "id": "ddcf4fab",
   "metadata": {
    "papermill": {
     "duration": 0.027404,
     "end_time": "2021-12-17T20:06:37.969381",
     "exception": false,
     "start_time": "2021-12-17T20:06:37.941977",
     "status": "completed"
    },
    "tags": []
   },
   "source": [
    "And setup the labels as 1 (when the digit is 3) and 0 (when the digit is 8)"
   ]
  },
  {
   "cell_type": "code",
   "execution_count": 12,
   "id": "7dc908f2",
   "metadata": {
    "execution": {
     "iopub.execute_input": "2021-12-17T20:06:38.030824Z",
     "iopub.status.busy": "2021-12-17T20:06:38.030214Z",
     "iopub.status.idle": "2021-12-17T20:06:38.046223Z",
     "shell.execute_reply": "2021-12-17T20:06:38.045755Z"
    },
    "papermill": {
     "duration": 0.050077,
     "end_time": "2021-12-17T20:06:38.046354",
     "exception": false,
     "start_time": "2021-12-17T20:06:37.996277",
     "status": "completed"
    },
    "tags": []
   },
   "outputs": [],
   "source": [
    "y_train = 1*(y_train==3)\n",
    "y_test = 1*(y_test==3)"
   ]
  },
  {
   "cell_type": "code",
   "execution_count": 13,
   "id": "01e4e969",
   "metadata": {
    "execution": {
     "iopub.execute_input": "2021-12-17T20:06:38.104397Z",
     "iopub.status.busy": "2021-12-17T20:06:38.103885Z",
     "iopub.status.idle": "2021-12-17T20:06:38.119652Z",
     "shell.execute_reply": "2021-12-17T20:06:38.119235Z"
    },
    "papermill": {
     "duration": 0.046236,
     "end_time": "2021-12-17T20:06:38.119769",
     "exception": false,
     "start_time": "2021-12-17T20:06:38.073533",
     "status": "completed"
    },
    "tags": []
   },
   "outputs": [
    {
     "data": {
      "text/plain": [
       "((11982, 28, 28), (1984, 28, 28))"
      ]
     },
     "execution_count": 13,
     "metadata": {},
     "output_type": "execute_result"
    }
   ],
   "source": [
    "X_train.shape, X_test.shape"
   ]
  },
  {
   "cell_type": "markdown",
   "id": "5ccf3f85",
   "metadata": {
    "papermill": {
     "duration": 0.026949,
     "end_time": "2021-12-17T20:06:38.173895",
     "exception": false,
     "start_time": "2021-12-17T20:06:38.146946",
     "status": "completed"
    },
    "tags": []
   },
   "source": [
    "We reshape the data to flatten the image pixels into a set of features or co-variates:"
   ]
  },
  {
   "cell_type": "code",
   "execution_count": 14,
   "id": "5286a4a3",
   "metadata": {
    "execution": {
     "iopub.execute_input": "2021-12-17T20:06:38.233847Z",
     "iopub.status.busy": "2021-12-17T20:06:38.233317Z",
     "iopub.status.idle": "2021-12-17T20:06:38.245536Z",
     "shell.execute_reply": "2021-12-17T20:06:38.245919Z"
    },
    "papermill": {
     "duration": 0.044772,
     "end_time": "2021-12-17T20:06:38.246061",
     "exception": false,
     "start_time": "2021-12-17T20:06:38.201289",
     "status": "completed"
    },
    "tags": []
   },
   "outputs": [
    {
     "data": {
      "text/plain": [
       "((11982, 784), (1984, 784))"
      ]
     },
     "execution_count": 14,
     "metadata": {},
     "output_type": "execute_result"
    }
   ],
   "source": [
    "X_train = X_train.reshape(X_train.shape[0], -1)\n",
    "X_test = X_test.reshape(X_test.shape[0], -1)\n",
    "X_train.shape, X_test.shape"
   ]
  },
  {
   "cell_type": "code",
   "execution_count": 15,
   "id": "73c5f88a",
   "metadata": {
    "execution": {
     "iopub.execute_input": "2021-12-17T20:06:38.305698Z",
     "iopub.status.busy": "2021-12-17T20:06:38.305154Z",
     "iopub.status.idle": "2021-12-17T20:06:38.324326Z",
     "shell.execute_reply": "2021-12-17T20:06:38.324731Z"
    },
    "papermill": {
     "duration": 0.05155,
     "end_time": "2021-12-17T20:06:38.324880",
     "exception": false,
     "start_time": "2021-12-17T20:06:38.273330",
     "status": "completed"
    },
    "tags": []
   },
   "outputs": [],
   "source": [
    "#Impoting functions from 'Kudzu'\n",
    "from kudzu.model import Model\n",
    "from kudzu.train import Learner\n",
    "from kudzu.optim import GD\n",
    "from kudzu.data import Data, Sampler,Dataloader\n",
    "\n",
    "from kudzu.callbacks import AccCallback\n",
    "from kudzu.callbacks import ClfCallback\n",
    "\n",
    "from kudzu.loss import MSE\n",
    "\n",
    "from kudzu.layer import Sigmoid,Relu\n",
    "from kudzu.layer import Affine"
   ]
  },
  {
   "cell_type": "markdown",
   "id": "bc01172a",
   "metadata": {
    "papermill": {
     "duration": 0.027462,
     "end_time": "2021-12-17T20:06:38.380013",
     "exception": false,
     "start_time": "2021-12-17T20:06:38.352551",
     "status": "completed"
    },
    "tags": []
   },
   "source": [
    "### Let us create a `Config` class, to store important parameters. \n",
    "This class essentially plays the role of a dictionary."
   ]
  },
  {
   "cell_type": "code",
   "execution_count": 16,
   "id": "978281aa",
   "metadata": {
    "execution": {
     "iopub.execute_input": "2021-12-17T20:06:38.439869Z",
     "iopub.status.busy": "2021-12-17T20:06:38.439317Z",
     "iopub.status.idle": "2021-12-17T20:06:38.452951Z",
     "shell.execute_reply": "2021-12-17T20:06:38.452459Z"
    },
    "papermill": {
     "duration": 0.045742,
     "end_time": "2021-12-17T20:06:38.453103",
     "exception": false,
     "start_time": "2021-12-17T20:06:38.407361",
     "status": "completed"
    },
    "tags": []
   },
   "outputs": [],
   "source": [
    "class Config:\n",
    "    pass\n",
    "config = Config()\n",
    "config.lr = 0.001\n",
    "config.num_epochs = 250\n",
    "config.bs = 50"
   ]
  },
  {
   "cell_type": "markdown",
   "id": "1385fa59",
   "metadata": {
    "papermill": {
     "duration": 0.027581,
     "end_time": "2021-12-17T20:06:38.509088",
     "exception": false,
     "start_time": "2021-12-17T20:06:38.481507",
     "status": "completed"
    },
    "tags": []
   },
   "source": [
    "### Running Models with the Training data\n",
    "Details about the network layers:\n",
    "- A first affine layer has 784 inputs and does 100 affine transforms. These are followed by a Relu\n",
    "- A second affine layer has 100 inputs from the 100 activations of the past layer, and does 100 affine transforms. These are followed by a Relu\n",
    "- A third affine layer has 100 activations and does 2 affine transformations to create an embedding for visualization. There is no non-linearity here.\n",
    "- A final \"logistic regression\" which has an affine transform from 2 inputs to 1 output, which is squeezed through a sigmoid.\n"
   ]
  },
  {
   "cell_type": "code",
   "execution_count": 17,
   "id": "2b9c66db",
   "metadata": {
    "execution": {
     "iopub.execute_input": "2021-12-17T20:06:38.571528Z",
     "iopub.status.busy": "2021-12-17T20:06:38.570983Z",
     "iopub.status.idle": "2021-12-17T20:06:38.583136Z",
     "shell.execute_reply": "2021-12-17T20:06:38.582690Z"
    },
    "papermill": {
     "duration": 0.046732,
     "end_time": "2021-12-17T20:06:38.583262",
     "exception": false,
     "start_time": "2021-12-17T20:06:38.536530",
     "status": "completed"
    },
    "tags": []
   },
   "outputs": [],
   "source": [
    "data = Data(X_train, y_train.reshape(-1,1))\n",
    "sampler = Sampler(data, config.bs, shuffle=True)\n",
    "\n",
    "dl = Dataloader(data, sampler)\n",
    "\n",
    "opt = GD(config.lr)\n",
    "loss = MSE()"
   ]
  },
  {
   "cell_type": "code",
   "execution_count": 18,
   "id": "b275e4c2",
   "metadata": {
    "execution": {
     "iopub.execute_input": "2021-12-17T20:06:38.647103Z",
     "iopub.status.busy": "2021-12-17T20:06:38.642534Z",
     "iopub.status.idle": "2021-12-17T20:06:38.659050Z",
     "shell.execute_reply": "2021-12-17T20:06:38.658573Z"
    },
    "papermill": {
     "duration": 0.04834,
     "end_time": "2021-12-17T20:06:38.659184",
     "exception": false,
     "start_time": "2021-12-17T20:06:38.610844",
     "status": "completed"
    },
    "tags": []
   },
   "outputs": [],
   "source": [
    "training_data_x = X_train\n",
    "testing_data_x = X_test\n",
    "training_data_y = y_train.reshape(-1,1)\n",
    "testing_data_y = y_test.reshape(-1,1)"
   ]
  },
  {
   "cell_type": "code",
   "execution_count": 19,
   "id": "76951160",
   "metadata": {
    "execution": {
     "iopub.execute_input": "2021-12-17T20:06:38.731650Z",
     "iopub.status.busy": "2021-12-17T20:06:38.724544Z",
     "iopub.status.idle": "2021-12-17T20:06:38.737967Z",
     "shell.execute_reply": "2021-12-17T20:06:38.738369Z"
    },
    "papermill": {
     "duration": 0.051212,
     "end_time": "2021-12-17T20:06:38.738530",
     "exception": false,
     "start_time": "2021-12-17T20:06:38.687318",
     "status": "completed"
    },
    "tags": []
   },
   "outputs": [
    {
     "name": "stdout",
     "output_type": "stream",
     "text": [
      "xavier\n",
      "xavier\n",
      "xavier\n",
      "xavier\n",
      "xavier\n"
     ]
    }
   ],
   "source": [
    "layers = [Affine(\"first\", 784, 100), Relu(\"first\"), Affine(\"second\", 100, 100), Relu(\"second\"), Affine(\"third\", 100, 2), Affine(\"last\", 2, 1), Sigmoid(\"last\")]\n",
    "model_nn = Model(layers)\n",
    "model_lr = Model([Affine(\"logits\", 784, 1), Sigmoid(\"sigmoid\")])"
   ]
  },
  {
   "cell_type": "code",
   "execution_count": 20,
   "id": "6eede77a",
   "metadata": {
    "execution": {
     "iopub.execute_input": "2021-12-17T20:06:38.804303Z",
     "iopub.status.busy": "2021-12-17T20:06:38.803737Z",
     "iopub.status.idle": "2021-12-17T20:06:38.813328Z",
     "shell.execute_reply": "2021-12-17T20:06:38.812882Z"
    },
    "papermill": {
     "duration": 0.047026,
     "end_time": "2021-12-17T20:06:38.813455",
     "exception": false,
     "start_time": "2021-12-17T20:06:38.766429",
     "status": "completed"
    },
    "tags": []
   },
   "outputs": [],
   "source": [
    "nn_learner = Learner(loss, model_nn, opt, config.num_epochs)\n",
    "acc_nn = ClfCallback(nn_learner, config.bs, training_data_x , testing_data_x, training_data_y, testing_data_y)\n",
    "nn_learner.set_callbacks([acc_nn])"
   ]
  },
  {
   "cell_type": "code",
   "execution_count": 21,
   "id": "877b6cc7",
   "metadata": {
    "execution": {
     "iopub.execute_input": "2021-12-17T20:06:38.875757Z",
     "iopub.status.busy": "2021-12-17T20:06:38.875187Z",
     "iopub.status.idle": "2021-12-17T20:06:38.887915Z",
     "shell.execute_reply": "2021-12-17T20:06:38.887470Z"
    },
    "papermill": {
     "duration": 0.046637,
     "end_time": "2021-12-17T20:06:38.888042",
     "exception": false,
     "start_time": "2021-12-17T20:06:38.841405",
     "status": "completed"
    },
    "tags": []
   },
   "outputs": [],
   "source": [
    "lr_learner = Learner(loss, model_lr, opt, config.num_epochs)\n",
    "acc_lr = ClfCallback(lr_learner, config.bs, training_data_x , testing_data_x, training_data_y, testing_data_y)\n",
    "lr_learner.set_callbacks([acc_lr])"
   ]
  },
  {
   "cell_type": "code",
   "execution_count": 22,
   "id": "d9b133c3",
   "metadata": {
    "execution": {
     "iopub.execute_input": "2021-12-17T20:06:38.949320Z",
     "iopub.status.busy": "2021-12-17T20:06:38.947918Z",
     "iopub.status.idle": "2021-12-17T20:08:05.706268Z",
     "shell.execute_reply": "2021-12-17T20:08:05.707186Z"
    },
    "papermill": {
     "duration": 86.791323,
     "end_time": "2021-12-17T20:08:05.707355",
     "exception": false,
     "start_time": "2021-12-17T20:06:38.916032",
     "status": "completed"
    },
    "tags": []
   },
   "outputs": [
    {
     "name": "stdout",
     "output_type": "stream",
     "text": [
      "Epoch 0, Loss 0.2666\n",
      "Training Accuracy: 0.4893, Testing Accuracy: 0.4919\n",
      "\n"
     ]
    },
    {
     "name": "stdout",
     "output_type": "stream",
     "text": [
      "Epoch 10, Loss 0.1265\n",
      "Training Accuracy: 0.9044, Testing Accuracy: 0.9163\n",
      "\n"
     ]
    },
    {
     "name": "stdout",
     "output_type": "stream",
     "text": [
      "Epoch 20, Loss 0.0673\n",
      "Training Accuracy: 0.9347, Testing Accuracy: 0.9486\n",
      "\n"
     ]
    },
    {
     "name": "stdout",
     "output_type": "stream",
     "text": [
      "Epoch 30, Loss 0.0492\n",
      "Training Accuracy: 0.9471, Testing Accuracy: 0.9567\n",
      "\n"
     ]
    },
    {
     "name": "stdout",
     "output_type": "stream",
     "text": [
      "Epoch 40, Loss 0.0412\n",
      "Training Accuracy: 0.9557, Testing Accuracy: 0.9612\n",
      "\n"
     ]
    },
    {
     "name": "stdout",
     "output_type": "stream",
     "text": [
      "Epoch 50, Loss 0.0368\n",
      "Training Accuracy: 0.9593, Testing Accuracy: 0.9657\n",
      "\n"
     ]
    },
    {
     "name": "stdout",
     "output_type": "stream",
     "text": [
      "Epoch 60, Loss 0.034\n",
      "Training Accuracy: 0.9609, Testing Accuracy: 0.9667\n",
      "\n"
     ]
    },
    {
     "name": "stdout",
     "output_type": "stream",
     "text": [
      "Epoch 70, Loss 0.0319\n",
      "Training Accuracy: 0.9624, Testing Accuracy: 0.9688\n",
      "\n"
     ]
    },
    {
     "name": "stdout",
     "output_type": "stream",
     "text": [
      "Epoch 80, Loss 0.0303\n",
      "Training Accuracy: 0.9639, Testing Accuracy: 0.9688\n",
      "\n"
     ]
    },
    {
     "name": "stdout",
     "output_type": "stream",
     "text": [
      "Epoch 90, Loss 0.0291\n",
      "Training Accuracy: 0.9653, Testing Accuracy: 0.9698\n",
      "\n"
     ]
    },
    {
     "name": "stdout",
     "output_type": "stream",
     "text": [
      "Epoch 100, Loss 0.028\n",
      "Training Accuracy: 0.9664, Testing Accuracy: 0.9693\n",
      "\n"
     ]
    },
    {
     "name": "stdout",
     "output_type": "stream",
     "text": [
      "Epoch 110, Loss 0.0271\n",
      "Training Accuracy: 0.9670, Testing Accuracy: 0.9698\n",
      "\n"
     ]
    },
    {
     "name": "stdout",
     "output_type": "stream",
     "text": [
      "Epoch 120, Loss 0.0264\n",
      "Training Accuracy: 0.9681, Testing Accuracy: 0.9693\n",
      "\n"
     ]
    },
    {
     "name": "stdout",
     "output_type": "stream",
     "text": [
      "Epoch 130, Loss 0.0257\n",
      "Training Accuracy: 0.9690, Testing Accuracy: 0.9698\n",
      "\n"
     ]
    },
    {
     "name": "stdout",
     "output_type": "stream",
     "text": [
      "Epoch 140, Loss 0.0251\n",
      "Training Accuracy: 0.9702, Testing Accuracy: 0.9703\n",
      "\n"
     ]
    },
    {
     "name": "stdout",
     "output_type": "stream",
     "text": [
      "Epoch 150, Loss 0.0245\n",
      "Training Accuracy: 0.9704, Testing Accuracy: 0.9703\n",
      "\n"
     ]
    },
    {
     "name": "stdout",
     "output_type": "stream",
     "text": [
      "Epoch 160, Loss 0.024\n",
      "Training Accuracy: 0.9710, Testing Accuracy: 0.9703\n",
      "\n"
     ]
    },
    {
     "name": "stdout",
     "output_type": "stream",
     "text": [
      "Epoch 170, Loss 0.0235\n",
      "Training Accuracy: 0.9718, Testing Accuracy: 0.9703\n",
      "\n"
     ]
    },
    {
     "name": "stdout",
     "output_type": "stream",
     "text": [
      "Epoch 180, Loss 0.023\n",
      "Training Accuracy: 0.9726, Testing Accuracy: 0.9703\n",
      "\n"
     ]
    },
    {
     "name": "stdout",
     "output_type": "stream",
     "text": [
      "Epoch 190, Loss 0.0226\n",
      "Training Accuracy: 0.9737, Testing Accuracy: 0.9698\n",
      "\n"
     ]
    },
    {
     "name": "stdout",
     "output_type": "stream",
     "text": [
      "Epoch 200, Loss 0.0221\n",
      "Training Accuracy: 0.9744, Testing Accuracy: 0.9703\n",
      "\n"
     ]
    },
    {
     "name": "stdout",
     "output_type": "stream",
     "text": [
      "Epoch 210, Loss 0.0217\n",
      "Training Accuracy: 0.9747, Testing Accuracy: 0.9698\n",
      "\n"
     ]
    },
    {
     "name": "stdout",
     "output_type": "stream",
     "text": [
      "Epoch 220, Loss 0.0214\n",
      "Training Accuracy: 0.9751, Testing Accuracy: 0.9703\n",
      "\n"
     ]
    },
    {
     "name": "stdout",
     "output_type": "stream",
     "text": [
      "Epoch 230, Loss 0.021\n",
      "Training Accuracy: 0.9757, Testing Accuracy: 0.9713\n",
      "\n"
     ]
    },
    {
     "name": "stdout",
     "output_type": "stream",
     "text": [
      "Epoch 240, Loss 0.0206\n",
      "Training Accuracy: 0.9761, Testing Accuracy: 0.9718\n",
      "\n"
     ]
    },
    {
     "data": {
      "text/plain": [
       "0.0021717116745364933"
      ]
     },
     "execution_count": 22,
     "metadata": {},
     "output_type": "execute_result"
    }
   ],
   "source": [
    "nn_learner.train_loop(dl)"
   ]
  },
  {
   "cell_type": "code",
   "execution_count": 23,
   "id": "e0163366",
   "metadata": {
    "execution": {
     "iopub.execute_input": "2021-12-17T20:08:05.791759Z",
     "iopub.status.busy": "2021-12-17T20:08:05.791207Z",
     "iopub.status.idle": "2021-12-17T20:08:21.893501Z",
     "shell.execute_reply": "2021-12-17T20:08:21.894239Z"
    },
    "papermill": {
     "duration": 16.15086,
     "end_time": "2021-12-17T20:08:21.894391",
     "exception": false,
     "start_time": "2021-12-17T20:08:05.743531",
     "status": "completed"
    },
    "tags": []
   },
   "outputs": [
    {
     "name": "stdout",
     "output_type": "stream",
     "text": [
      "Epoch 0, Loss 0.2346\n",
      "Training Accuracy: 0.7355, Testing Accuracy: 0.7319\n",
      "\n"
     ]
    },
    {
     "name": "stdout",
     "output_type": "stream",
     "text": [
      "Epoch 10, Loss 0.1006\n",
      "Training Accuracy: 0.9145, Testing Accuracy: 0.9284\n",
      "\n"
     ]
    },
    {
     "name": "stdout",
     "output_type": "stream",
     "text": [
      "Epoch 20, Loss 0.078\n",
      "Training Accuracy: 0.9297, Testing Accuracy: 0.9451\n",
      "\n"
     ]
    },
    {
     "name": "stdout",
     "output_type": "stream",
     "text": [
      "Epoch 30, Loss 0.0677\n",
      "Training Accuracy: 0.9371, Testing Accuracy: 0.9476\n",
      "\n"
     ]
    },
    {
     "name": "stdout",
     "output_type": "stream",
     "text": [
      "Epoch 40, Loss 0.0614\n",
      "Training Accuracy: 0.9411, Testing Accuracy: 0.9521\n",
      "\n"
     ]
    },
    {
     "name": "stdout",
     "output_type": "stream",
     "text": [
      "Epoch 50, Loss 0.0571\n",
      "Training Accuracy: 0.9446, Testing Accuracy: 0.9541\n",
      "\n"
     ]
    },
    {
     "name": "stdout",
     "output_type": "stream",
     "text": [
      "Epoch 60, Loss 0.0539\n",
      "Training Accuracy: 0.9462, Testing Accuracy: 0.9567\n",
      "\n"
     ]
    },
    {
     "name": "stdout",
     "output_type": "stream",
     "text": [
      "Epoch 70, Loss 0.0514\n",
      "Training Accuracy: 0.9487, Testing Accuracy: 0.9582\n",
      "\n"
     ]
    },
    {
     "name": "stdout",
     "output_type": "stream",
     "text": [
      "Epoch 80, Loss 0.0494\n",
      "Training Accuracy: 0.9505, Testing Accuracy: 0.9592\n",
      "\n"
     ]
    },
    {
     "name": "stdout",
     "output_type": "stream",
     "text": [
      "Epoch 90, Loss 0.0477\n",
      "Training Accuracy: 0.9515, Testing Accuracy: 0.9597\n",
      "\n"
     ]
    },
    {
     "name": "stdout",
     "output_type": "stream",
     "text": [
      "Epoch 100, Loss 0.0463\n",
      "Training Accuracy: 0.9524, Testing Accuracy: 0.9597\n",
      "\n"
     ]
    },
    {
     "name": "stdout",
     "output_type": "stream",
     "text": [
      "Epoch 110, Loss 0.0451\n",
      "Training Accuracy: 0.9535, Testing Accuracy: 0.9597\n",
      "\n"
     ]
    },
    {
     "name": "stdout",
     "output_type": "stream",
     "text": [
      "Epoch 120, Loss 0.0441\n",
      "Training Accuracy: 0.9546, Testing Accuracy: 0.9612\n",
      "\n"
     ]
    },
    {
     "name": "stdout",
     "output_type": "stream",
     "text": [
      "Epoch 130, Loss 0.0431\n",
      "Training Accuracy: 0.9551, Testing Accuracy: 0.9612\n",
      "\n"
     ]
    },
    {
     "name": "stdout",
     "output_type": "stream",
     "text": [
      "Epoch 140, Loss 0.0423\n",
      "Training Accuracy: 0.9559, Testing Accuracy: 0.9612\n",
      "\n"
     ]
    },
    {
     "name": "stdout",
     "output_type": "stream",
     "text": [
      "Epoch 150, Loss 0.0416\n",
      "Training Accuracy: 0.9567, Testing Accuracy: 0.9617\n",
      "\n"
     ]
    },
    {
     "name": "stdout",
     "output_type": "stream",
     "text": [
      "Epoch 160, Loss 0.0409\n",
      "Training Accuracy: 0.9574, Testing Accuracy: 0.9617\n",
      "\n"
     ]
    },
    {
     "name": "stdout",
     "output_type": "stream",
     "text": [
      "Epoch 170, Loss 0.0403\n",
      "Training Accuracy: 0.9574, Testing Accuracy: 0.9617\n",
      "\n"
     ]
    },
    {
     "name": "stdout",
     "output_type": "stream",
     "text": [
      "Epoch 180, Loss 0.0397\n",
      "Training Accuracy: 0.9578, Testing Accuracy: 0.9627\n",
      "\n"
     ]
    },
    {
     "name": "stdout",
     "output_type": "stream",
     "text": [
      "Epoch 190, Loss 0.0392\n",
      "Training Accuracy: 0.9581, Testing Accuracy: 0.9637\n",
      "\n"
     ]
    },
    {
     "name": "stdout",
     "output_type": "stream",
     "text": [
      "Epoch 200, Loss 0.0387\n",
      "Training Accuracy: 0.9585, Testing Accuracy: 0.9657\n",
      "\n"
     ]
    },
    {
     "name": "stdout",
     "output_type": "stream",
     "text": [
      "Epoch 210, Loss 0.0382\n",
      "Training Accuracy: 0.9588, Testing Accuracy: 0.9652\n",
      "\n"
     ]
    },
    {
     "name": "stdout",
     "output_type": "stream",
     "text": [
      "Epoch 220, Loss 0.0378\n",
      "Training Accuracy: 0.9594, Testing Accuracy: 0.9657\n",
      "\n"
     ]
    },
    {
     "name": "stdout",
     "output_type": "stream",
     "text": [
      "Epoch 230, Loss 0.0374\n",
      "Training Accuracy: 0.9596, Testing Accuracy: 0.9657\n",
      "\n"
     ]
    },
    {
     "name": "stdout",
     "output_type": "stream",
     "text": [
      "Epoch 240, Loss 0.0371\n",
      "Training Accuracy: 0.9598, Testing Accuracy: 0.9662\n",
      "\n"
     ]
    },
    {
     "data": {
      "text/plain": [
       "0.03010634245807295"
      ]
     },
     "execution_count": 23,
     "metadata": {},
     "output_type": "execute_result"
    }
   ],
   "source": [
    "lr_learner.train_loop(dl)"
   ]
  },
  {
   "cell_type": "code",
   "execution_count": 24,
   "id": "ca410940",
   "metadata": {
    "execution": {
     "iopub.execute_input": "2021-12-17T20:08:21.988511Z",
     "iopub.status.busy": "2021-12-17T20:08:21.987956Z",
     "iopub.status.idle": "2021-12-17T20:08:22.216812Z",
     "shell.execute_reply": "2021-12-17T20:08:22.217243Z"
    },
    "papermill": {
     "duration": 0.279881,
     "end_time": "2021-12-17T20:08:22.217393",
     "exception": false,
     "start_time": "2021-12-17T20:08:21.937512",
     "status": "completed"
    },
    "tags": []
   },
   "outputs": [
    {
     "data": {
      "text/plain": [
       "<matplotlib.legend.Legend at 0x7f2f2ab5cc50>"
      ]
     },
     "execution_count": 24,
     "metadata": {},
     "output_type": "execute_result"
    },
    {
     "data": {
      "image/png": "[encoded data removed]",
      "text/plain": [
       "<Figure size 1080x720 with 1 Axes>"
      ]
     },
     "metadata": {
      "needs_background": "light"
     },
     "output_type": "display_data"
    }
   ],
   "source": [
    "#comparing the results of NN and LR\n",
    "plt.figure(figsize=(15,10))\n",
    "\n",
    "# Neural Network plots\n",
    "plt.plot(acc_nn.accuracies, 'r-', label = \"Training Accuracies - NN\")\n",
    "plt.plot(acc_nn.test_accuracies, 'g-', label = \"Testing Accuracies - NN\")\n",
    "\n",
    "# Logistic Regression plots\n",
    "plt.plot(acc_lr.accuracies, 'k-', label = \"Training Accuracies - LR\")\n",
    "plt.plot(acc_lr.test_accuracies, 'b-', label = \"Testing Accuracies - LR\")\n",
    "plt.legend()"
   ]
  },
  {
   "cell_type": "markdown",
   "id": "80dfb35c",
   "metadata": {
    "papermill": {
     "duration": 0.042727,
     "end_time": "2021-12-17T20:08:22.303289",
     "exception": false,
     "start_time": "2021-12-17T20:08:22.260562",
     "status": "completed"
    },
    "tags": []
   },
   "source": [
    "#### Plotting the outputs of this layer of the NN.\n"
   ]
  },
  {
   "cell_type": "code",
   "execution_count": 25,
   "id": "45eb2ff5",
   "metadata": {
    "execution": {
     "iopub.execute_input": "2021-12-17T20:08:22.394268Z",
     "iopub.status.busy": "2021-12-17T20:08:22.393559Z",
     "iopub.status.idle": "2021-12-17T20:08:22.418390Z",
     "shell.execute_reply": "2021-12-17T20:08:22.418880Z"
    },
    "papermill": {
     "duration": 0.072892,
     "end_time": "2021-12-17T20:08:22.419046",
     "exception": false,
     "start_time": "2021-12-17T20:08:22.346154",
     "status": "completed"
    },
    "tags": []
   },
   "outputs": [],
   "source": [
    "new_model = Model(layers[:-2])\n",
    "testing_plot = new_model(testing_data_x)"
   ]
  },
  {
   "cell_type": "code",
   "execution_count": 26,
   "id": "4c0a5485",
   "metadata": {
    "execution": {
     "iopub.execute_input": "2021-12-17T20:08:22.516030Z",
     "iopub.status.busy": "2021-12-17T20:08:22.515486Z",
     "iopub.status.idle": "2021-12-17T20:08:22.716151Z",
     "shell.execute_reply": "2021-12-17T20:08:22.715671Z"
    },
    "papermill": {
     "duration": 0.247384,
     "end_time": "2021-12-17T20:08:22.716279",
     "exception": false,
     "start_time": "2021-12-17T20:08:22.468895",
     "status": "completed"
    },
    "tags": []
   },
   "outputs": [
    {
     "data": {
      "text/plain": [
       "Text(0.5, 1.0, 'Outputs')"
      ]
     },
     "execution_count": 26,
     "metadata": {},
     "output_type": "execute_result"
    },
    {
     "data": {
      "image/png": "[encoded data removed]",
      "text/plain": [
       "<Figure size 576x504 with 1 Axes>"
      ]
     },
     "metadata": {
      "needs_background": "light"
     },
     "output_type": "display_data"
    }
   ],
   "source": [
    "# Plotting the scatter plot of points and color coding by class\n",
    "plt.figure(figsize=(8,7))\n",
    "plt.scatter(testing_plot[:,0], testing_plot[:,1], alpha = 0.1, c = y_test.ravel());\n",
    "plt.title('Outputs')"
   ]
  },
  {
   "cell_type": "markdown",
   "id": "a74fcf8f",
   "metadata": {
    "papermill": {
     "duration": 0.044736,
     "end_time": "2021-12-17T20:08:22.806784",
     "exception": false,
     "start_time": "2021-12-17T20:08:22.762048",
     "status": "completed"
    },
    "tags": []
   },
   "source": [
    "Probability contours"
   ]
  },
  {
   "cell_type": "code",
   "execution_count": 27,
   "id": "d0afc8e3",
   "metadata": {
    "execution": {
     "iopub.execute_input": "2021-12-17T20:08:22.903967Z",
     "iopub.status.busy": "2021-12-17T20:08:22.900146Z",
     "iopub.status.idle": "2021-12-17T20:08:22.917760Z",
     "shell.execute_reply": "2021-12-17T20:08:22.918175Z"
    },
    "papermill": {
     "duration": 0.066588,
     "end_time": "2021-12-17T20:08:22.918313",
     "exception": false,
     "start_time": "2021-12-17T20:08:22.851725",
     "status": "completed"
    },
    "tags": []
   },
   "outputs": [],
   "source": [
    "model_prob = Model(layers[-2:]) "
   ]
  },
  {
   "cell_type": "code",
   "execution_count": 28,
   "id": "9b96e238",
   "metadata": {
    "execution": {
     "iopub.execute_input": "2021-12-17T20:08:23.046485Z",
     "iopub.status.busy": "2021-12-17T20:08:23.045861Z",
     "iopub.status.idle": "2021-12-17T20:08:23.058142Z",
     "shell.execute_reply": "2021-12-17T20:08:23.058525Z"
    },
    "papermill": {
     "duration": 0.06165,
     "end_time": "2021-12-17T20:08:23.058692",
     "exception": false,
     "start_time": "2021-12-17T20:08:22.997042",
     "status": "completed"
    },
    "tags": []
   },
   "outputs": [],
   "source": [
    "#creating the x and y ranges according to the above generated plot.\n",
    "x_range = np.linspace(-4, 1, 100) \n",
    "y_range = np.linspace(-6, 6, 100) \n",
    "x_grid, y_grid = np.meshgrid(x_range, y_range) # x_grid and y_grig are of size 100 X 100\n",
    "\n",
    "# converting x_grid and y_grid to continuous arrays\n",
    "x_gridflat = np.ravel(x_grid)\n",
    "y_gridflat = np.ravel(y_grid)\n",
    "\n",
    "# The last layer of the current model takes two columns as input. Hence transpose of np.vstack() is required.\n",
    "X = np.vstack((x_gridflat, y_gridflat)).T\n",
    "\n",
    "prob_contour = model_prob(X).reshape(100,100) "
   ]
  },
  {
   "cell_type": "code",
   "execution_count": 29,
   "id": "da72499a",
   "metadata": {
    "execution": {
     "iopub.execute_input": "2021-12-17T20:08:23.141941Z",
     "iopub.status.busy": "2021-12-17T20:08:23.141461Z",
     "iopub.status.idle": "2021-12-17T20:08:23.381447Z",
     "shell.execute_reply": "2021-12-17T20:08:23.381869Z"
    },
    "papermill": {
     "duration": 0.283736,
     "end_time": "2021-12-17T20:08:23.382027",
     "exception": false,
     "start_time": "2021-12-17T20:08:23.098291",
     "status": "completed"
    },
    "tags": []
   },
   "outputs": [
    {
     "data": {
      "image/png": "[encoded data removed]",
      "text/plain": [
       "<Figure size 720x648 with 1 Axes>"
      ]
     },
     "metadata": {
      "needs_background": "light"
     },
     "output_type": "display_data"
    }
   ],
   "source": [
    "plt.figure(figsize=(10,9))\n",
    "plt.scatter(testing_plot[:,0], testing_plot[:,1], alpha = 0.1, c = y_test.ravel())\n",
    "contours = plt.contour(x_grid,y_grid,prob_contour)\n",
    "plt.title('Probability Contours')\n",
    "plt.clabel(contours, inline = True );"
   ]
  },
  {
   "cell_type": "code",
   "execution_count": null,
   "id": "e81b4ac7",
   "metadata": {
    "papermill": {
     "duration": 0.047505,
     "end_time": "2021-12-17T20:08:23.477222",
     "exception": false,
     "start_time": "2021-12-17T20:08:23.429717",
     "status": "completed"
    },
    "tags": []
   },
   "outputs": [],
   "source": []
  }
 ],
 "metadata": {
  "kernelspec": {
   "display_name": "Python 3",
   "language": "python",
   "name": "python3"
  },
  "language_info": {
   "codemirror_mode": {
    "name": "ipython",
    "version": 3
   },
   "file_extension": ".py",
   "mimetype": "text/x-python",
   "name": "python",
   "nbconvert_exporter": "python",
   "pygments_lexer": "ipython3",
   "version": "3.6.15"
  },
  "papermill": {
   "default_parameters": {},
   "duration": 111.662031,
   "end_time": "2021-12-17T20:08:24.034152",
   "environment_variables": {},
   "exception": null,
   "input_path": "2020-08-11-part2.ipynb",
   "output_path": "2020-08-11-part2.ipynb",
   "parameters": {},
   "start_time": "2021-12-17T20:06:32.372121",
   "version": "2.3.3"
  }
 },
 "nbformat": 4,
 "nbformat_minor": 5
}