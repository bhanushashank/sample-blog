{
 "cells": [
  {
   "cell_type": "markdown",
   "id": "98380cd3",
   "metadata": {
    "papermill": {
     "duration": 0.036831,
     "end_time": "2022-05-18T00:32:55.336729",
     "exception": false,
     "start_time": "2022-05-18T00:32:55.299898",
     "status": "completed"
    },
    "tags": []
   },
   "source": [
    "# Distinguish Your Own Digits (DYOD)"
   ]
  },
  {
   "cell_type": "markdown",
   "id": "ef31240d",
   "metadata": {
    "papermill": {
     "duration": 0.034983,
     "end_time": "2022-05-18T00:32:55.405602",
     "exception": false,
     "start_time": "2022-05-18T00:32:55.370619",
     "status": "completed"
    },
    "tags": []
   },
   "source": [
    "You are going to write a classifier that distinguishes between the number 3 and number 8."
   ]
  },
  {
   "cell_type": "code",
   "execution_count": 1,
   "id": "b15c8646",
   "metadata": {
    "execution": {
     "iopub.execute_input": "2022-05-18T00:32:55.482252Z",
     "iopub.status.busy": "2022-05-18T00:32:55.481508Z",
     "iopub.status.idle": "2022-05-18T00:32:55.494532Z",
     "shell.execute_reply": "2022-05-18T00:32:55.493949Z"
    },
    "papermill": {
     "duration": 0.054813,
     "end_time": "2022-05-18T00:32:55.494692",
     "exception": false,
     "start_time": "2022-05-18T00:32:55.439879",
     "status": "completed"
    },
    "tags": []
   },
   "outputs": [],
   "source": [
    "%load_ext autoreload\n",
    "%autoreload 2"
   ]
  },
  {
   "cell_type": "code",
   "execution_count": 2,
   "id": "22ef38dc",
   "metadata": {
    "execution": {
     "iopub.execute_input": "2022-05-18T00:32:55.560640Z",
     "iopub.status.busy": "2022-05-18T00:32:55.559941Z",
     "iopub.status.idle": "2022-05-18T00:32:56.161940Z",
     "shell.execute_reply": "2022-05-18T00:32:56.161397Z"
    },
    "papermill": {
     "duration": 0.63618,
     "end_time": "2022-05-18T00:32:56.162077",
     "exception": false,
     "start_time": "2022-05-18T00:32:55.525897",
     "status": "completed"
    },
    "tags": []
   },
   "outputs": [],
   "source": [
    "%matplotlib inline\n",
    "import numpy as np\n",
    "import matplotlib.pyplot as plt\n",
    "import pandas as pd"
   ]
  },
  {
   "cell_type": "markdown",
   "id": "ba036198",
   "metadata": {
    "papermill": {
     "duration": 0.026993,
     "end_time": "2022-05-18T00:32:56.218741",
     "exception": false,
     "start_time": "2022-05-18T00:32:56.191748",
     "status": "completed"
    },
    "tags": []
   },
   "source": [
    "From the command line run `pip install mnist`. This is a library that will help you bring down the mnist dataset. If you run this from a notebook, you need to put  `!pip install mnist` in a cell by itself."
   ]
  },
  {
   "cell_type": "code",
   "execution_count": 3,
   "id": "bb6ad8a1",
   "metadata": {
    "execution": {
     "iopub.execute_input": "2022-05-18T00:32:56.278185Z",
     "iopub.status.busy": "2022-05-18T00:32:56.277543Z",
     "iopub.status.idle": "2022-05-18T00:32:58.212845Z",
     "shell.execute_reply": "2022-05-18T00:32:58.213393Z"
    },
    "papermill": {
     "duration": 1.969578,
     "end_time": "2022-05-18T00:32:58.213574",
     "exception": false,
     "start_time": "2022-05-18T00:32:56.243996",
     "status": "completed"
    },
    "tags": []
   },
   "outputs": [
    {
     "name": "stdout",
     "output_type": "stream",
     "text": [
      "Collecting mnist\r\n",
      "  Downloading mnist-0.2.2-py2.py3-none-any.whl (3.5 kB)\r\n",
      "Requirement already satisfied: numpy in /opt/hostedtoolcache/Python/3.6.15/x64/lib/python3.6/site-packages (from mnist) (1.19.5)\r\n"
     ]
    },
    {
     "name": "stdout",
     "output_type": "stream",
     "text": [
      "Installing collected packages: mnist\r\n"
     ]
    },
    {
     "name": "stdout",
     "output_type": "stream",
     "text": [
      "Successfully installed mnist-0.2.2\r\n"
     ]
    }
   ],
   "source": [
    "!pip install mnist"
   ]
  },
  {
   "cell_type": "markdown",
   "id": "69df9c9a",
   "metadata": {
    "papermill": {
     "duration": 0.032438,
     "end_time": "2022-05-18T00:32:58.279195",
     "exception": false,
     "start_time": "2022-05-18T00:32:58.246757",
     "status": "completed"
    },
    "tags": []
   },
   "source": [
    "## Preparing the Data"
   ]
  },
  {
   "cell_type": "code",
   "execution_count": 4,
   "id": "7f69d806",
   "metadata": {
    "execution": {
     "iopub.execute_input": "2022-05-18T00:32:58.358438Z",
     "iopub.status.busy": "2022-05-18T00:32:58.349824Z",
     "iopub.status.idle": "2022-05-18T00:32:58.365358Z",
     "shell.execute_reply": "2022-05-18T00:32:58.364813Z"
    },
    "papermill": {
     "duration": 0.053881,
     "end_time": "2022-05-18T00:32:58.365483",
     "exception": false,
     "start_time": "2022-05-18T00:32:58.311602",
     "status": "completed"
    },
    "tags": []
   },
   "outputs": [],
   "source": [
    "import mnist"
   ]
  },
  {
   "cell_type": "code",
   "execution_count": 5,
   "id": "a411e44f",
   "metadata": {
    "execution": {
     "iopub.execute_input": "2022-05-18T00:32:58.433833Z",
     "iopub.status.busy": "2022-05-18T00:32:58.433208Z",
     "iopub.status.idle": "2022-05-18T00:32:58.923703Z",
     "shell.execute_reply": "2022-05-18T00:32:58.923175Z"
    },
    "papermill": {
     "duration": 0.527528,
     "end_time": "2022-05-18T00:32:58.923835",
     "exception": false,
     "start_time": "2022-05-18T00:32:58.396307",
     "status": "completed"
    },
    "tags": []
   },
   "outputs": [],
   "source": [
    "train_images = mnist.train_images()\n",
    "train_labels = mnist.train_labels()"
   ]
  },
  {
   "cell_type": "code",
   "execution_count": 6,
   "id": "dceab3a5",
   "metadata": {
    "execution": {
     "iopub.execute_input": "2022-05-18T00:32:58.985844Z",
     "iopub.status.busy": "2022-05-18T00:32:58.985033Z",
     "iopub.status.idle": "2022-05-18T00:32:59.003316Z",
     "shell.execute_reply": "2022-05-18T00:32:59.002860Z"
    },
    "papermill": {
     "duration": 0.05014,
     "end_time": "2022-05-18T00:32:59.003436",
     "exception": false,
     "start_time": "2022-05-18T00:32:58.953296",
     "status": "completed"
    },
    "tags": []
   },
   "outputs": [
    {
     "data": {
      "text/plain": [
       "((60000, 28, 28), (60000,))"
      ]
     },
     "execution_count": 6,
     "metadata": {},
     "output_type": "execute_result"
    }
   ],
   "source": [
    "train_images.shape, train_labels.shape"
   ]
  },
  {
   "cell_type": "code",
   "execution_count": 7,
   "id": "f50dc2bb",
   "metadata": {
    "execution": {
     "iopub.execute_input": "2022-05-18T00:32:59.067039Z",
     "iopub.status.busy": "2022-05-18T00:32:59.066322Z",
     "iopub.status.idle": "2022-05-18T00:32:59.167512Z",
     "shell.execute_reply": "2022-05-18T00:32:59.166824Z"
    },
    "papermill": {
     "duration": 0.134572,
     "end_time": "2022-05-18T00:32:59.167722",
     "exception": false,
     "start_time": "2022-05-18T00:32:59.033150",
     "status": "completed"
    },
    "tags": []
   },
   "outputs": [],
   "source": [
    "test_images = mnist.test_images()\n",
    "test_labels = mnist.test_labels()"
   ]
  },
  {
   "cell_type": "code",
   "execution_count": 8,
   "id": "fc38cf1b",
   "metadata": {
    "execution": {
     "iopub.execute_input": "2022-05-18T00:32:59.233557Z",
     "iopub.status.busy": "2022-05-18T00:32:59.232711Z",
     "iopub.status.idle": "2022-05-18T00:32:59.250399Z",
     "shell.execute_reply": "2022-05-18T00:32:59.251074Z"
    },
    "papermill": {
     "duration": 0.055386,
     "end_time": "2022-05-18T00:32:59.251236",
     "exception": false,
     "start_time": "2022-05-18T00:32:59.195850",
     "status": "completed"
    },
    "tags": []
   },
   "outputs": [
    {
     "data": {
      "text/plain": [
       "((10000, 28, 28), (10000,))"
      ]
     },
     "execution_count": 8,
     "metadata": {},
     "output_type": "execute_result"
    }
   ],
   "source": [
    "test_images.shape, test_labels.shape"
   ]
  },
  {
   "cell_type": "code",
   "execution_count": 9,
   "id": "f9ed8fe0",
   "metadata": {
    "execution": {
     "iopub.execute_input": "2022-05-18T00:32:59.324205Z",
     "iopub.status.busy": "2022-05-18T00:32:59.323490Z",
     "iopub.status.idle": "2022-05-18T00:32:59.526391Z",
     "shell.execute_reply": "2022-05-18T00:32:59.526949Z"
    },
    "papermill": {
     "duration": 0.241617,
     "end_time": "2022-05-18T00:32:59.527193",
     "exception": false,
     "start_time": "2022-05-18T00:32:59.285576",
     "status": "completed"
    },
    "tags": []
   },
   "outputs": [
    {
     "name": "stdout",
     "output_type": "stream",
     "text": [
      "2\n"
     ]
    },
    {
     "data": {
      "text/plain": [
       "<matplotlib.image.AxesImage at 0x7f38b70c9470>"
      ]
     },
     "execution_count": 9,
     "metadata": {},
     "output_type": "execute_result"
    },
    {
     "data": {
      "image/png": "[encoded data removed]",
      "text/plain": [
       "<Figure size 432x288 with 1 Axes>"
      ]
     },
     "metadata": {
      "needs_background": "light"
     },
     "output_type": "display_data"
    }
   ],
   "source": [
    "image_index = 7776 # You may select anything up to 60,000\n",
    "print(train_labels[image_index]) \n",
    "plt.imshow(train_images[image_index], cmap='Greys')"
   ]
  },
  {
   "cell_type": "markdown",
   "id": "a8d2388d",
   "metadata": {
    "papermill": {
     "duration": 0.036368,
     "end_time": "2022-05-18T00:32:59.598748",
     "exception": false,
     "start_time": "2022-05-18T00:32:59.562380",
     "status": "completed"
    },
    "tags": []
   },
   "source": [
    "## Filter data to get 3 and 8 out"
   ]
  },
  {
   "cell_type": "code",
   "execution_count": 10,
   "id": "776f7fc7",
   "metadata": {
    "execution": {
     "iopub.execute_input": "2022-05-18T00:32:59.679596Z",
     "iopub.status.busy": "2022-05-18T00:32:59.678822Z",
     "iopub.status.idle": "2022-05-18T00:32:59.701192Z",
     "shell.execute_reply": "2022-05-18T00:32:59.700593Z"
    },
    "papermill": {
     "duration": 0.065729,
     "end_time": "2022-05-18T00:32:59.701348",
     "exception": false,
     "start_time": "2022-05-18T00:32:59.635619",
     "status": "completed"
    },
    "tags": []
   },
   "outputs": [],
   "source": [
    "train_filter = np.where((train_labels == 3 ) | (train_labels == 8))\n",
    "test_filter = np.where((test_labels == 3) | (test_labels == 8))\n",
    "X_train, y_train = train_images[train_filter], train_labels[train_filter]\n",
    "X_test, y_test = test_images[test_filter], test_labels[test_filter]"
   ]
  },
  {
   "cell_type": "markdown",
   "id": "948f0b7e",
   "metadata": {
    "papermill": {
     "duration": 0.034813,
     "end_time": "2022-05-18T00:32:59.771384",
     "exception": false,
     "start_time": "2022-05-18T00:32:59.736571",
     "status": "completed"
    },
    "tags": []
   },
   "source": [
    "We normalize the pizel values in the 0 to 1 range"
   ]
  },
  {
   "cell_type": "code",
   "execution_count": 11,
   "id": "ee4c2166",
   "metadata": {
    "execution": {
     "iopub.execute_input": "2022-05-18T00:32:59.846344Z",
     "iopub.status.busy": "2022-05-18T00:32:59.845661Z",
     "iopub.status.idle": "2022-05-18T00:32:59.911103Z",
     "shell.execute_reply": "2022-05-18T00:32:59.910497Z"
    },
    "papermill": {
     "duration": 0.105034,
     "end_time": "2022-05-18T00:32:59.911262",
     "exception": false,
     "start_time": "2022-05-18T00:32:59.806228",
     "status": "completed"
    },
    "tags": []
   },
   "outputs": [],
   "source": [
    "X_train = X_train/255.\n",
    "X_test = X_test/255."
   ]
  },
  {
   "cell_type": "markdown",
   "id": "ddcf4fab",
   "metadata": {
    "papermill": {
     "duration": 0.035028,
     "end_time": "2022-05-18T00:32:59.981945",
     "exception": false,
     "start_time": "2022-05-18T00:32:59.946917",
     "status": "completed"
    },
    "tags": []
   },
   "source": [
    "And setup the labels as 1 (when the digit is 3) and 0 (when the digit is 8)"
   ]
  },
  {
   "cell_type": "code",
   "execution_count": 12,
   "id": "7dc908f2",
   "metadata": {
    "execution": {
     "iopub.execute_input": "2022-05-18T00:33:00.057897Z",
     "iopub.status.busy": "2022-05-18T00:33:00.057117Z",
     "iopub.status.idle": "2022-05-18T00:33:00.071774Z",
     "shell.execute_reply": "2022-05-18T00:33:00.071179Z"
    },
    "papermill": {
     "duration": 0.054624,
     "end_time": "2022-05-18T00:33:00.071926",
     "exception": false,
     "start_time": "2022-05-18T00:33:00.017302",
     "status": "completed"
    },
    "tags": []
   },
   "outputs": [],
   "source": [
    "y_train = 1*(y_train==3)\n",
    "y_test = 1*(y_test==3)"
   ]
  },
  {
   "cell_type": "code",
   "execution_count": 13,
   "id": "01e4e969",
   "metadata": {
    "execution": {
     "iopub.execute_input": "2022-05-18T00:33:00.148019Z",
     "iopub.status.busy": "2022-05-18T00:33:00.147316Z",
     "iopub.status.idle": "2022-05-18T00:33:00.163404Z",
     "shell.execute_reply": "2022-05-18T00:33:00.162863Z"
    },
    "papermill": {
     "duration": 0.056752,
     "end_time": "2022-05-18T00:33:00.163551",
     "exception": false,
     "start_time": "2022-05-18T00:33:00.106799",
     "status": "completed"
    },
    "tags": []
   },
   "outputs": [
    {
     "data": {
      "text/plain": [
       "((11982, 28, 28), (1984, 28, 28))"
      ]
     },
     "execution_count": 13,
     "metadata": {},
     "output_type": "execute_result"
    }
   ],
   "source": [
    "X_train.shape, X_test.shape"
   ]
  },
  {
   "cell_type": "markdown",
   "id": "5ccf3f85",
   "metadata": {
    "papermill": {
     "duration": 0.036581,
     "end_time": "2022-05-18T00:33:00.234791",
     "exception": false,
     "start_time": "2022-05-18T00:33:00.198210",
     "status": "completed"
    },
    "tags": []
   },
   "source": [
    "We reshape the data to flatten the image pixels into a set of features or co-variates:"
   ]
  },
  {
   "cell_type": "code",
   "execution_count": 14,
   "id": "5286a4a3",
   "metadata": {
    "execution": {
     "iopub.execute_input": "2022-05-18T00:33:00.308733Z",
     "iopub.status.busy": "2022-05-18T00:33:00.308017Z",
     "iopub.status.idle": "2022-05-18T00:33:00.324088Z",
     "shell.execute_reply": "2022-05-18T00:33:00.324673Z"
    },
    "papermill": {
     "duration": 0.056532,
     "end_time": "2022-05-18T00:33:00.324835",
     "exception": false,
     "start_time": "2022-05-18T00:33:00.268303",
     "status": "completed"
    },
    "tags": []
   },
   "outputs": [
    {
     "data": {
      "text/plain": [
       "((11982, 784), (1984, 784))"
      ]
     },
     "execution_count": 14,
     "metadata": {},
     "output_type": "execute_result"
    }
   ],
   "source": [
    "X_train = X_train.reshape(X_train.shape[0], -1)\n",
    "X_test = X_test.reshape(X_test.shape[0], -1)\n",
    "X_train.shape, X_test.shape"
   ]
  },
  {
   "cell_type": "code",
   "execution_count": 15,
   "id": "73c5f88a",
   "metadata": {
    "execution": {
     "iopub.execute_input": "2022-05-18T00:33:00.399094Z",
     "iopub.status.busy": "2022-05-18T00:33:00.398370Z",
     "iopub.status.idle": "2022-05-18T00:33:00.420853Z",
     "shell.execute_reply": "2022-05-18T00:33:00.420270Z"
    },
    "papermill": {
     "duration": 0.061635,
     "end_time": "2022-05-18T00:33:00.420986",
     "exception": false,
     "start_time": "2022-05-18T00:33:00.359351",
     "status": "completed"
    },
    "tags": []
   },
   "outputs": [],
   "source": [
    "#Impoting functions from 'Kudzu'\n",
    "from kudzu.model import Model\n",
    "from kudzu.train import Learner\n",
    "from kudzu.optim import GD\n",
    "from kudzu.data import Data, Sampler,Dataloader\n",
    "\n",
    "from kudzu.callbacks import AccCallback\n",
    "from kudzu.callbacks import ClfCallback\n",
    "\n",
    "from kudzu.loss import MSE\n",
    "\n",
    "from kudzu.layer import Sigmoid,Relu\n",
    "from kudzu.layer import Affine"
   ]
  },
  {
   "cell_type": "markdown",
   "id": "bc01172a",
   "metadata": {
    "papermill": {
     "duration": 0.034407,
     "end_time": "2022-05-18T00:33:00.489855",
     "exception": false,
     "start_time": "2022-05-18T00:33:00.455448",
     "status": "completed"
    },
    "tags": []
   },
   "source": [
    "### Let us create a `Config` class, to store important parameters. \n",
    "This class essentially plays the role of a dictionary."
   ]
  },
  {
   "cell_type": "code",
   "execution_count": 16,
   "id": "978281aa",
   "metadata": {
    "execution": {
     "iopub.execute_input": "2022-05-18T00:33:00.564406Z",
     "iopub.status.busy": "2022-05-18T00:33:00.563569Z",
     "iopub.status.idle": "2022-05-18T00:33:00.575644Z",
     "shell.execute_reply": "2022-05-18T00:33:00.576172Z"
    },
    "papermill": {
     "duration": 0.054211,
     "end_time": "2022-05-18T00:33:00.576344",
     "exception": false,
     "start_time": "2022-05-18T00:33:00.522133",
     "status": "completed"
    },
    "tags": []
   },
   "outputs": [],
   "source": [
    "class Config:\n",
    "    pass\n",
    "config = Config()\n",
    "config.lr = 0.001\n",
    "config.num_epochs = 250\n",
    "config.bs = 50"
   ]
  },
  {
   "cell_type": "markdown",
   "id": "1385fa59",
   "metadata": {
    "papermill": {
     "duration": 0.031157,
     "end_time": "2022-05-18T00:33:00.637706",
     "exception": false,
     "start_time": "2022-05-18T00:33:00.606549",
     "status": "completed"
    },
    "tags": []
   },
   "source": [
    "### Running Models with the Training data\n",
    "Details about the network layers:\n",
    "- A first affine layer has 784 inputs and does 100 affine transforms. These are followed by a Relu\n",
    "- A second affine layer has 100 inputs from the 100 activations of the past layer, and does 100 affine transforms. These are followed by a Relu\n",
    "- A third affine layer has 100 activations and does 2 affine transformations to create an embedding for visualization. There is no non-linearity here.\n",
    "- A final \"logistic regression\" which has an affine transform from 2 inputs to 1 output, which is squeezed through a sigmoid.\n"
   ]
  },
  {
   "cell_type": "code",
   "execution_count": 17,
   "id": "2b9c66db",
   "metadata": {
    "execution": {
     "iopub.execute_input": "2022-05-18T00:33:00.706767Z",
     "iopub.status.busy": "2022-05-18T00:33:00.705986Z",
     "iopub.status.idle": "2022-05-18T00:33:00.719575Z",
     "shell.execute_reply": "2022-05-18T00:33:00.719066Z"
    },
    "papermill": {
     "duration": 0.050427,
     "end_time": "2022-05-18T00:33:00.719697",
     "exception": false,
     "start_time": "2022-05-18T00:33:00.669270",
     "status": "completed"
    },
    "tags": []
   },
   "outputs": [],
   "source": [
    "data = Data(X_train, y_train.reshape(-1,1))\n",
    "sampler = Sampler(data, config.bs, shuffle=True)\n",
    "\n",
    "dl = Dataloader(data, sampler)\n",
    "\n",
    "opt = GD(config.lr)\n",
    "loss = MSE()"
   ]
  },
  {
   "cell_type": "code",
   "execution_count": 18,
   "id": "b275e4c2",
   "metadata": {
    "execution": {
     "iopub.execute_input": "2022-05-18T00:33:00.782043Z",
     "iopub.status.busy": "2022-05-18T00:33:00.781485Z",
     "iopub.status.idle": "2022-05-18T00:33:00.792768Z",
     "shell.execute_reply": "2022-05-18T00:33:00.793312Z"
    },
    "papermill": {
     "duration": 0.043572,
     "end_time": "2022-05-18T00:33:00.793431",
     "exception": false,
     "start_time": "2022-05-18T00:33:00.749859",
     "status": "completed"
    },
    "tags": []
   },
   "outputs": [],
   "source": [
    "training_data_x = X_train\n",
    "testing_data_x = X_test\n",
    "training_data_y = y_train.reshape(-1,1)\n",
    "testing_data_y = y_test.reshape(-1,1)"
   ]
  },
  {
   "cell_type": "code",
   "execution_count": 19,
   "id": "76951160",
   "metadata": {
    "execution": {
     "iopub.execute_input": "2022-05-18T00:33:00.855071Z",
     "iopub.status.busy": "2022-05-18T00:33:00.854506Z",
     "iopub.status.idle": "2022-05-18T00:33:00.869302Z",
     "shell.execute_reply": "2022-05-18T00:33:00.869796Z"
    },
    "papermill": {
     "duration": 0.047142,
     "end_time": "2022-05-18T00:33:00.869918",
     "exception": false,
     "start_time": "2022-05-18T00:33:00.822776",
     "status": "completed"
    },
    "tags": []
   },
   "outputs": [
    {
     "name": "stdout",
     "output_type": "stream",
     "text": [
      "xavier\n",
      "xavier\n",
      "xavier\n",
      "xavier\n",
      "xavier\n"
     ]
    }
   ],
   "source": [
    "layers = [Affine(\"first\", 784, 100), Relu(\"first\"), Affine(\"second\", 100, 100), Relu(\"second\"), Affine(\"third\", 100, 2), Affine(\"last\", 2, 1), Sigmoid(\"last\")]\n",
    "model_nn = Model(layers)\n",
    "model_lr = Model([Affine(\"logits\", 784, 1), Sigmoid(\"sigmoid\")])"
   ]
  },
  {
   "cell_type": "code",
   "execution_count": 20,
   "id": "6eede77a",
   "metadata": {
    "execution": {
     "iopub.execute_input": "2022-05-18T00:33:00.930414Z",
     "iopub.status.busy": "2022-05-18T00:33:00.929876Z",
     "iopub.status.idle": "2022-05-18T00:33:00.940633Z",
     "shell.execute_reply": "2022-05-18T00:33:00.941051Z"
    },
    "papermill": {
     "duration": 0.043346,
     "end_time": "2022-05-18T00:33:00.941180",
     "exception": false,
     "start_time": "2022-05-18T00:33:00.897834",
     "status": "completed"
    },
    "tags": []
   },
   "outputs": [],
   "source": [
    "nn_learner = Learner(loss, model_nn, opt, config.num_epochs)\n",
    "acc_nn = ClfCallback(nn_learner, config.bs, training_data_x , testing_data_x, training_data_y, testing_data_y)\n",
    "nn_learner.set_callbacks([acc_nn])"
   ]
  },
  {
   "cell_type": "code",
   "execution_count": 21,
   "id": "877b6cc7",
   "metadata": {
    "execution": {
     "iopub.execute_input": "2022-05-18T00:33:01.001655Z",
     "iopub.status.busy": "2022-05-18T00:33:01.001088Z",
     "iopub.status.idle": "2022-05-18T00:33:01.011714Z",
     "shell.execute_reply": "2022-05-18T00:33:01.012141Z"
    },
    "papermill": {
     "duration": 0.042722,
     "end_time": "2022-05-18T00:33:01.012259",
     "exception": false,
     "start_time": "2022-05-18T00:33:00.969537",
     "status": "completed"
    },
    "tags": []
   },
   "outputs": [],
   "source": [
    "lr_learner = Learner(loss, model_lr, opt, config.num_epochs)\n",
    "acc_lr = ClfCallback(lr_learner, config.bs, training_data_x , testing_data_x, training_data_y, testing_data_y)\n",
    "lr_learner.set_callbacks([acc_lr])"
   ]
  },
  {
   "cell_type": "code",
   "execution_count": 22,
   "id": "d9b133c3",
   "metadata": {
    "execution": {
     "iopub.execute_input": "2022-05-18T00:33:01.073443Z",
     "iopub.status.busy": "2022-05-18T00:33:01.072746Z",
     "iopub.status.idle": "2022-05-18T00:35:25.093265Z",
     "shell.execute_reply": "2022-05-18T00:35:25.094229Z"
    },
    "papermill": {
     "duration": 144.053927,
     "end_time": "2022-05-18T00:35:25.094414",
     "exception": false,
     "start_time": "2022-05-18T00:33:01.040487",
     "status": "completed"
    },
    "tags": []
   },
   "outputs": [
    {
     "name": "stdout",
     "output_type": "stream",
     "text": [
      "Epoch 0, Loss 0.2549\n",
      "Training Accuracy: 0.5097, Testing Accuracy: 0.5207\n",
      "\n"
     ]
    },
    {
     "name": "stdout",
     "output_type": "stream",
     "text": [
      "Epoch 10, Loss 0.1407\n",
      "Training Accuracy: 0.8875, Testing Accuracy: 0.9057\n",
      "\n"
     ]
    },
    {
     "name": "stdout",
     "output_type": "stream",
     "text": [
      "Epoch 20, Loss 0.0729\n",
      "Training Accuracy: 0.9267, Testing Accuracy: 0.9385\n",
      "\n"
     ]
    },
    {
     "name": "stdout",
     "output_type": "stream",
     "text": [
      "Epoch 30, Loss 0.0526\n",
      "Training Accuracy: 0.9430, Testing Accuracy: 0.9501\n",
      "\n"
     ]
    },
    {
     "name": "stdout",
     "output_type": "stream",
     "text": [
      "Epoch 40, Loss 0.0439\n",
      "Training Accuracy: 0.9504, Testing Accuracy: 0.9567\n",
      "\n"
     ]
    },
    {
     "name": "stdout",
     "output_type": "stream",
     "text": [
      "Epoch 50, Loss 0.039\n",
      "Training Accuracy: 0.9559, Testing Accuracy: 0.9612\n",
      "\n"
     ]
    },
    {
     "name": "stdout",
     "output_type": "stream",
     "text": [
      "Epoch 60, Loss 0.0358\n",
      "Training Accuracy: 0.9585, Testing Accuracy: 0.9642\n",
      "\n"
     ]
    },
    {
     "name": "stdout",
     "output_type": "stream",
     "text": [
      "Epoch 70, Loss 0.0334\n",
      "Training Accuracy: 0.9611, Testing Accuracy: 0.9677\n",
      "\n"
     ]
    },
    {
     "name": "stdout",
     "output_type": "stream",
     "text": [
      "Epoch 80, Loss 0.0316\n",
      "Training Accuracy: 0.9630, Testing Accuracy: 0.9682\n",
      "\n"
     ]
    },
    {
     "name": "stdout",
     "output_type": "stream",
     "text": [
      "Epoch 90, Loss 0.0301\n",
      "Training Accuracy: 0.9646, Testing Accuracy: 0.9703\n",
      "\n"
     ]
    },
    {
     "name": "stdout",
     "output_type": "stream",
     "text": [
      "Epoch 100, Loss 0.0289\n",
      "Training Accuracy: 0.9659, Testing Accuracy: 0.9713\n",
      "\n"
     ]
    },
    {
     "name": "stdout",
     "output_type": "stream",
     "text": [
      "Epoch 110, Loss 0.0278\n",
      "Training Accuracy: 0.9671, Testing Accuracy: 0.9718\n",
      "\n"
     ]
    },
    {
     "name": "stdout",
     "output_type": "stream",
     "text": [
      "Epoch 120, Loss 0.0269\n",
      "Training Accuracy: 0.9678, Testing Accuracy: 0.9728\n",
      "\n"
     ]
    },
    {
     "name": "stdout",
     "output_type": "stream",
     "text": [
      "Epoch 130, Loss 0.026\n",
      "Training Accuracy: 0.9691, Testing Accuracy: 0.9733\n",
      "\n"
     ]
    },
    {
     "name": "stdout",
     "output_type": "stream",
     "text": [
      "Epoch 140, Loss 0.0253\n",
      "Training Accuracy: 0.9697, Testing Accuracy: 0.9748\n",
      "\n"
     ]
    },
    {
     "name": "stdout",
     "output_type": "stream",
     "text": [
      "Epoch 150, Loss 0.0246\n",
      "Training Accuracy: 0.9705, Testing Accuracy: 0.9758\n",
      "\n"
     ]
    },
    {
     "name": "stdout",
     "output_type": "stream",
     "text": [
      "Epoch 160, Loss 0.0239\n",
      "Training Accuracy: 0.9714, Testing Accuracy: 0.9758\n",
      "\n"
     ]
    },
    {
     "name": "stdout",
     "output_type": "stream",
     "text": [
      "Epoch 170, Loss 0.0233\n",
      "Training Accuracy: 0.9721, Testing Accuracy: 0.9758\n",
      "\n"
     ]
    },
    {
     "name": "stdout",
     "output_type": "stream",
     "text": [
      "Epoch 180, Loss 0.0228\n",
      "Training Accuracy: 0.9730, Testing Accuracy: 0.9758\n",
      "\n"
     ]
    },
    {
     "name": "stdout",
     "output_type": "stream",
     "text": [
      "Epoch 190, Loss 0.0222\n",
      "Training Accuracy: 0.9737, Testing Accuracy: 0.9748\n",
      "\n"
     ]
    },
    {
     "name": "stdout",
     "output_type": "stream",
     "text": [
      "Epoch 200, Loss 0.0217\n",
      "Training Accuracy: 0.9744, Testing Accuracy: 0.9753\n",
      "\n"
     ]
    },
    {
     "name": "stdout",
     "output_type": "stream",
     "text": [
      "Epoch 210, Loss 0.0213\n",
      "Training Accuracy: 0.9751, Testing Accuracy: 0.9758\n",
      "\n"
     ]
    },
    {
     "name": "stdout",
     "output_type": "stream",
     "text": [
      "Epoch 220, Loss 0.0208\n",
      "Training Accuracy: 0.9759, Testing Accuracy: 0.9758\n",
      "\n"
     ]
    },
    {
     "name": "stdout",
     "output_type": "stream",
     "text": [
      "Epoch 230, Loss 0.0203\n",
      "Training Accuracy: 0.9764, Testing Accuracy: 0.9763\n",
      "\n"
     ]
    },
    {
     "name": "stdout",
     "output_type": "stream",
     "text": [
      "Epoch 240, Loss 0.0199\n",
      "Training Accuracy: 0.9767, Testing Accuracy: 0.9763\n",
      "\n"
     ]
    },
    {
     "data": {
      "text/plain": [
       "0.06574137576022146"
      ]
     },
     "execution_count": 22,
     "metadata": {},
     "output_type": "execute_result"
    }
   ],
   "source": [
    "nn_learner.train_loop(dl)"
   ]
  },
  {
   "cell_type": "code",
   "execution_count": 23,
   "id": "e0163366",
   "metadata": {
    "execution": {
     "iopub.execute_input": "2022-05-18T00:35:25.206103Z",
     "iopub.status.busy": "2022-05-18T00:35:25.205385Z",
     "iopub.status.idle": "2022-05-18T00:35:46.299675Z",
     "shell.execute_reply": "2022-05-18T00:35:46.300659Z"
    },
    "papermill": {
     "duration": 21.151707,
     "end_time": "2022-05-18T00:35:46.300854",
     "exception": false,
     "start_time": "2022-05-18T00:35:25.149147",
     "status": "completed"
    },
    "tags": []
   },
   "outputs": [
    {
     "name": "stdout",
     "output_type": "stream",
     "text": [
      "Epoch 0, Loss 0.2838\n",
      "Training Accuracy: 0.5013, Testing Accuracy: 0.5197\n",
      "\n"
     ]
    },
    {
     "name": "stdout",
     "output_type": "stream",
     "text": [
      "Epoch 10, Loss 0.107\n",
      "Training Accuracy: 0.9094, Testing Accuracy: 0.9249\n",
      "\n"
     ]
    },
    {
     "name": "stdout",
     "output_type": "stream",
     "text": [
      "Epoch 20, Loss 0.0805\n",
      "Training Accuracy: 0.9272, Testing Accuracy: 0.9425\n",
      "\n"
     ]
    },
    {
     "name": "stdout",
     "output_type": "stream",
     "text": [
      "Epoch 30, Loss 0.069\n",
      "Training Accuracy: 0.9359, Testing Accuracy: 0.9486\n",
      "\n"
     ]
    },
    {
     "name": "stdout",
     "output_type": "stream",
     "text": [
      "Epoch 40, Loss 0.0622\n",
      "Training Accuracy: 0.9407, Testing Accuracy: 0.9526\n",
      "\n"
     ]
    },
    {
     "name": "stdout",
     "output_type": "stream",
     "text": [
      "Epoch 50, Loss 0.0576\n",
      "Training Accuracy: 0.9442, Testing Accuracy: 0.9546\n",
      "\n"
     ]
    },
    {
     "name": "stdout",
     "output_type": "stream",
     "text": [
      "Epoch 60, Loss 0.0543\n",
      "Training Accuracy: 0.9468, Testing Accuracy: 0.9572\n",
      "\n"
     ]
    },
    {
     "name": "stdout",
     "output_type": "stream",
     "text": [
      "Epoch 70, Loss 0.0517\n",
      "Training Accuracy: 0.9489, Testing Accuracy: 0.9602\n",
      "\n"
     ]
    },
    {
     "name": "stdout",
     "output_type": "stream",
     "text": [
      "Epoch 80, Loss 0.0496\n",
      "Training Accuracy: 0.9504, Testing Accuracy: 0.9617\n",
      "\n"
     ]
    },
    {
     "name": "stdout",
     "output_type": "stream",
     "text": [
      "Epoch 90, Loss 0.0479\n",
      "Training Accuracy: 0.9516, Testing Accuracy: 0.9622\n",
      "\n"
     ]
    },
    {
     "name": "stdout",
     "output_type": "stream",
     "text": [
      "Epoch 100, Loss 0.0465\n",
      "Training Accuracy: 0.9526, Testing Accuracy: 0.9642\n",
      "\n"
     ]
    },
    {
     "name": "stdout",
     "output_type": "stream",
     "text": [
      "Epoch 110, Loss 0.0453\n",
      "Training Accuracy: 0.9537, Testing Accuracy: 0.9652\n",
      "\n"
     ]
    },
    {
     "name": "stdout",
     "output_type": "stream",
     "text": [
      "Epoch 120, Loss 0.0442\n",
      "Training Accuracy: 0.9543, Testing Accuracy: 0.9657\n",
      "\n"
     ]
    },
    {
     "name": "stdout",
     "output_type": "stream",
     "text": [
      "Epoch 130, Loss 0.0433\n",
      "Training Accuracy: 0.9553, Testing Accuracy: 0.9657\n",
      "\n"
     ]
    },
    {
     "name": "stdout",
     "output_type": "stream",
     "text": [
      "Epoch 140, Loss 0.0424\n",
      "Training Accuracy: 0.9567, Testing Accuracy: 0.9672\n",
      "\n"
     ]
    },
    {
     "name": "stdout",
     "output_type": "stream",
     "text": [
      "Epoch 150, Loss 0.0417\n",
      "Training Accuracy: 0.9571, Testing Accuracy: 0.9677\n",
      "\n"
     ]
    },
    {
     "name": "stdout",
     "output_type": "stream",
     "text": [
      "Epoch 160, Loss 0.041\n",
      "Training Accuracy: 0.9576, Testing Accuracy: 0.9677\n",
      "\n"
     ]
    },
    {
     "name": "stdout",
     "output_type": "stream",
     "text": [
      "Epoch 170, Loss 0.0404\n",
      "Training Accuracy: 0.9582, Testing Accuracy: 0.9677\n",
      "\n"
     ]
    },
    {
     "name": "stdout",
     "output_type": "stream",
     "text": [
      "Epoch 180, Loss 0.0398\n",
      "Training Accuracy: 0.9583, Testing Accuracy: 0.9682\n",
      "\n"
     ]
    },
    {
     "name": "stdout",
     "output_type": "stream",
     "text": [
      "Epoch 190, Loss 0.0393\n",
      "Training Accuracy: 0.9586, Testing Accuracy: 0.9682\n",
      "\n"
     ]
    },
    {
     "name": "stdout",
     "output_type": "stream",
     "text": [
      "Epoch 200, Loss 0.0388\n",
      "Training Accuracy: 0.9587, Testing Accuracy: 0.9682\n",
      "\n"
     ]
    },
    {
     "name": "stdout",
     "output_type": "stream",
     "text": [
      "Epoch 210, Loss 0.0384\n",
      "Training Accuracy: 0.9589, Testing Accuracy: 0.9682\n",
      "\n"
     ]
    },
    {
     "name": "stdout",
     "output_type": "stream",
     "text": [
      "Epoch 220, Loss 0.0379\n",
      "Training Accuracy: 0.9592, Testing Accuracy: 0.9677\n",
      "\n"
     ]
    },
    {
     "name": "stdout",
     "output_type": "stream",
     "text": [
      "Epoch 230, Loss 0.0375\n",
      "Training Accuracy: 0.9595, Testing Accuracy: 0.9682\n",
      "\n"
     ]
    },
    {
     "name": "stdout",
     "output_type": "stream",
     "text": [
      "Epoch 240, Loss 0.0372\n",
      "Training Accuracy: 0.9599, Testing Accuracy: 0.9693\n",
      "\n"
     ]
    },
    {
     "data": {
      "text/plain": [
       "0.01964275644717687"
      ]
     },
     "execution_count": 23,
     "metadata": {},
     "output_type": "execute_result"
    }
   ],
   "source": [
    "lr_learner.train_loop(dl)"
   ]
  },
  {
   "cell_type": "code",
   "execution_count": 24,
   "id": "ca410940",
   "metadata": {
    "execution": {
     "iopub.execute_input": "2022-05-18T00:35:46.417210Z",
     "iopub.status.busy": "2022-05-18T00:35:46.416465Z",
     "iopub.status.idle": "2022-05-18T00:35:46.752171Z",
     "shell.execute_reply": "2022-05-18T00:35:46.751402Z"
    },
    "papermill": {
     "duration": 0.395456,
     "end_time": "2022-05-18T00:35:46.752348",
     "exception": false,
     "start_time": "2022-05-18T00:35:46.356892",
     "status": "completed"
    },
    "tags": []
   },
   "outputs": [
    {
     "data": {
      "text/plain": [
       "<matplotlib.legend.Legend at 0x7f38b6ca8b38>"
      ]
     },
     "execution_count": 24,
     "metadata": {},
     "output_type": "execute_result"
    },
    {
     "data": {
      "image/png": "[encoded data removed]",
      "text/plain": [
       "<Figure size 1080x720 with 1 Axes>"
      ]
     },
     "metadata": {
      "needs_background": "light"
     },
     "output_type": "display_data"
    }
   ],
   "source": [
    "#comparing the results of NN and LR\n",
    "plt.figure(figsize=(15,10))\n",
    "\n",
    "# Neural Network plots\n",
    "plt.plot(acc_nn.accuracies, 'r-', label = \"Training Accuracies - NN\")\n",
    "plt.plot(acc_nn.test_accuracies, 'g-', label = \"Testing Accuracies - NN\")\n",
    "\n",
    "# Logistic Regression plots\n",
    "plt.plot(acc_lr.accuracies, 'k-', label = \"Training Accuracies - LR\")\n",
    "plt.plot(acc_lr.test_accuracies, 'b-', label = \"Testing Accuracies - LR\")\n",
    "plt.legend()"
   ]
  },
  {
   "cell_type": "markdown",
   "id": "80dfb35c",
   "metadata": {
    "papermill": {
     "duration": 0.06083,
     "end_time": "2022-05-18T00:35:46.878981",
     "exception": false,
     "start_time": "2022-05-18T00:35:46.818151",
     "status": "completed"
    },
    "tags": []
   },
   "source": [
    "#### Plotting the outputs of this layer of the NN.\n"
   ]
  },
  {
   "cell_type": "code",
   "execution_count": 25,
   "id": "45eb2ff5",
   "metadata": {
    "execution": {
     "iopub.execute_input": "2022-05-18T00:35:46.995044Z",
     "iopub.status.busy": "2022-05-18T00:35:46.994356Z",
     "iopub.status.idle": "2022-05-18T00:35:47.021294Z",
     "shell.execute_reply": "2022-05-18T00:35:47.022268Z"
    },
    "papermill": {
     "duration": 0.087517,
     "end_time": "2022-05-18T00:35:47.022507",
     "exception": false,
     "start_time": "2022-05-18T00:35:46.934990",
     "status": "completed"
    },
    "tags": []
   },
   "outputs": [],
   "source": [
    "new_model = Model(layers[:-2])\n",
    "testing_plot = new_model(testing_data_x)"
   ]
  },
  {
   "cell_type": "code",
   "execution_count": 26,
   "id": "4c0a5485",
   "metadata": {
    "execution": {
     "iopub.execute_input": "2022-05-18T00:35:47.135670Z",
     "iopub.status.busy": "2022-05-18T00:35:47.134987Z",
     "iopub.status.idle": "2022-05-18T00:35:47.435112Z",
     "shell.execute_reply": "2022-05-18T00:35:47.435728Z"
    },
    "papermill": {
     "duration": 0.360011,
     "end_time": "2022-05-18T00:35:47.435889",
     "exception": false,
     "start_time": "2022-05-18T00:35:47.075878",
     "status": "completed"
    },
    "tags": []
   },
   "outputs": [
    {
     "data": {
      "text/plain": [
       "Text(0.5, 1.0, 'Outputs')"
      ]
     },
     "execution_count": 26,
     "metadata": {},
     "output_type": "execute_result"
    },
    {
     "data": {
      "image/png": "[encoded data removed]",
      "text/plain": [
       "<Figure size 576x504 with 1 Axes>"
      ]
     },
     "metadata": {
      "needs_background": "light"
     },
     "output_type": "display_data"
    }
   ],
   "source": [
    "# Plotting the scatter plot of points and color coding by class\n",
    "plt.figure(figsize=(8,7))\n",
    "plt.scatter(testing_plot[:,0], testing_plot[:,1], alpha = 0.1, c = y_test.ravel());\n",
    "plt.title('Outputs')"
   ]
  },
  {
   "cell_type": "markdown",
   "id": "a74fcf8f",
   "metadata": {
    "papermill": {
     "duration": 0.052178,
     "end_time": "2022-05-18T00:35:47.539492",
     "exception": false,
     "start_time": "2022-05-18T00:35:47.487314",
     "status": "completed"
    },
    "tags": []
   },
   "source": [
    "Probability contours"
   ]
  },
  {
   "cell_type": "code",
   "execution_count": 27,
   "id": "d0afc8e3",
   "metadata": {
    "execution": {
     "iopub.execute_input": "2022-05-18T00:35:47.641186Z",
     "iopub.status.busy": "2022-05-18T00:35:47.640653Z",
     "iopub.status.idle": "2022-05-18T00:35:47.652709Z",
     "shell.execute_reply": "2022-05-18T00:35:47.653149Z"
    },
    "papermill": {
     "duration": 0.064537,
     "end_time": "2022-05-18T00:35:47.653293",
     "exception": false,
     "start_time": "2022-05-18T00:35:47.588756",
     "status": "completed"
    },
    "tags": []
   },
   "outputs": [],
   "source": [
    "model_prob = Model(layers[-2:]) "
   ]
  },
  {
   "cell_type": "code",
   "execution_count": 28,
   "id": "9b96e238",
   "metadata": {
    "execution": {
     "iopub.execute_input": "2022-05-18T00:35:47.777154Z",
     "iopub.status.busy": "2022-05-18T00:35:47.776549Z",
     "iopub.status.idle": "2022-05-18T00:35:47.791285Z",
     "shell.execute_reply": "2022-05-18T00:35:47.791790Z"
    },
    "papermill": {
     "duration": 0.092099,
     "end_time": "2022-05-18T00:35:47.791940",
     "exception": false,
     "start_time": "2022-05-18T00:35:47.699841",
     "status": "completed"
    },
    "tags": []
   },
   "outputs": [],
   "source": [
    "#creating the x and y ranges according to the above generated plot.\n",
    "x_range = np.linspace(-4, 1, 100) \n",
    "y_range = np.linspace(-6, 6, 100) \n",
    "x_grid, y_grid = np.meshgrid(x_range, y_range) # x_grid and y_grig are of size 100 X 100\n",
    "\n",
    "# converting x_grid and y_grid to continuous arrays\n",
    "x_gridflat = np.ravel(x_grid)\n",
    "y_gridflat = np.ravel(y_grid)\n",
    "\n",
    "# The last layer of the current model takes two columns as input. Hence transpose of np.vstack() is required.\n",
    "X = np.vstack((x_gridflat, y_gridflat)).T\n",
    "\n",
    "prob_contour = model_prob(X).reshape(100,100) "
   ]
  },
  {
   "cell_type": "code",
   "execution_count": 29,
   "id": "da72499a",
   "metadata": {
    "execution": {
     "iopub.execute_input": "2022-05-18T00:35:47.904554Z",
     "iopub.status.busy": "2022-05-18T00:35:47.903948Z",
     "iopub.status.idle": "2022-05-18T00:35:48.199202Z",
     "shell.execute_reply": "2022-05-18T00:35:48.198757Z"
    },
    "papermill": {
     "duration": 0.354015,
     "end_time": "2022-05-18T00:35:48.199322",
     "exception": false,
     "start_time": "2022-05-18T00:35:47.845307",
     "status": "completed"
    },
    "tags": []
   },
   "outputs": [
    {
     "data": {
      "image/png": "[encoded data removed]",
      "text/plain": [
       "<Figure size 720x648 with 1 Axes>"
      ]
     },
     "metadata": {
      "needs_background": "light"
     },
     "output_type": "display_data"
    }
   ],
   "source": [
    "plt.figure(figsize=(10,9))\n",
    "plt.scatter(testing_plot[:,0], testing_plot[:,1], alpha = 0.1, c = y_test.ravel())\n",
    "contours = plt.contour(x_grid,y_grid,prob_contour)\n",
    "plt.title('Probability Contours')\n",
    "plt.clabel(contours, inline = True );"
   ]
  },
  {
   "cell_type": "code",
   "execution_count": null,
   "id": "e81b4ac7",
   "metadata": {
    "papermill": {
     "duration": 0.050405,
     "end_time": "2022-05-18T00:35:48.300927",
     "exception": false,
     "start_time": "2022-05-18T00:35:48.250522",
     "status": "completed"
    },
    "tags": []
   },
   "outputs": [],
   "source": []
  }
 ],
 "metadata": {
  "kernelspec": {
   "display_name": "Python 3",
   "language": "python",
   "name": "python3"
  },
  "language_info": {
   "codemirror_mode": {
    "name": "ipython",
    "version": 3
   },
   "file_extension": ".py",
   "mimetype": "text/x-python",
   "name": "python",
   "nbconvert_exporter": "python",
   "pygments_lexer": "ipython3",
   "version": "3.6.15"
  },
  "papermill": {
   "default_parameters": {},
   "duration": 174.47707,
   "end_time": "2022-05-18T00:35:48.771567",
   "environment_variables": {},
   "exception": null,
   "input_path": "2020-08-11-part2.ipynb",
   "output_path": "2020-08-11-part2.ipynb",
   "parameters": {},
   "start_time": "2022-05-18T00:32:54.294497",
   "version": "2.3.3"
  }
 },
 "nbformat": 4,
 "nbformat_minor": 5
}