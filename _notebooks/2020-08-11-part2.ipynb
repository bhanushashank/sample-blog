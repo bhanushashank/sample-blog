{
 "cells": [
  {
   "cell_type": "markdown",
   "id": "98380cd3",
   "metadata": {
    "papermill": {
     "duration": 0.028025,
     "end_time": "2022-07-14T00:44:50.858194",
     "exception": false,
     "start_time": "2022-07-14T00:44:50.830169",
     "status": "completed"
    },
    "tags": []
   },
   "source": [
    "# Distinguish Your Own Digits (DYOD)"
   ]
  },
  {
   "cell_type": "markdown",
   "id": "ef31240d",
   "metadata": {
    "papermill": {
     "duration": 0.021295,
     "end_time": "2022-07-14T00:44:50.901392",
     "exception": false,
     "start_time": "2022-07-14T00:44:50.880097",
     "status": "completed"
    },
    "tags": []
   },
   "source": [
    "You are going to write a classifier that distinguishes between the number 3 and number 8."
   ]
  },
  {
   "cell_type": "code",
   "execution_count": 1,
   "id": "b15c8646",
   "metadata": {
    "execution": {
     "iopub.execute_input": "2022-07-14T00:44:50.953295Z",
     "iopub.status.busy": "2022-07-14T00:44:50.952744Z",
     "iopub.status.idle": "2022-07-14T00:44:50.963843Z",
     "shell.execute_reply": "2022-07-14T00:44:50.963394Z"
    },
    "papermill": {
     "duration": 0.041303,
     "end_time": "2022-07-14T00:44:50.963953",
     "exception": false,
     "start_time": "2022-07-14T00:44:50.922650",
     "status": "completed"
    },
    "tags": []
   },
   "outputs": [],
   "source": [
    "%load_ext autoreload\n",
    "%autoreload 2"
   ]
  },
  {
   "cell_type": "code",
   "execution_count": 2,
   "id": "22ef38dc",
   "metadata": {
    "execution": {
     "iopub.execute_input": "2022-07-14T00:44:51.011423Z",
     "iopub.status.busy": "2022-07-14T00:44:51.010542Z",
     "iopub.status.idle": "2022-07-14T00:44:51.550084Z",
     "shell.execute_reply": "2022-07-14T00:44:51.550569Z"
    },
    "papermill": {
     "duration": 0.565414,
     "end_time": "2022-07-14T00:44:51.550717",
     "exception": false,
     "start_time": "2022-07-14T00:44:50.985303",
     "status": "completed"
    },
    "tags": []
   },
   "outputs": [],
   "source": [
    "%matplotlib inline\n",
    "import numpy as np\n",
    "import matplotlib.pyplot as plt\n",
    "import pandas as pd"
   ]
  },
  {
   "cell_type": "markdown",
   "id": "ba036198",
   "metadata": {
    "papermill": {
     "duration": 0.021476,
     "end_time": "2022-07-14T00:44:51.593477",
     "exception": false,
     "start_time": "2022-07-14T00:44:51.572001",
     "status": "completed"
    },
    "tags": []
   },
   "source": [
    "From the command line run `pip install mnist`. This is a library that will help you bring down the mnist dataset. If you run this from a notebook, you need to put  `!pip install mnist` in a cell by itself."
   ]
  },
  {
   "cell_type": "code",
   "execution_count": 3,
   "id": "bb6ad8a1",
   "metadata": {
    "execution": {
     "iopub.execute_input": "2022-07-14T00:44:51.640512Z",
     "iopub.status.busy": "2022-07-14T00:44:51.639645Z",
     "iopub.status.idle": "2022-07-14T00:44:54.207405Z",
     "shell.execute_reply": "2022-07-14T00:44:54.206263Z"
    },
    "papermill": {
     "duration": 2.592795,
     "end_time": "2022-07-14T00:44:54.207553",
     "exception": false,
     "start_time": "2022-07-14T00:44:51.614758",
     "status": "completed"
    },
    "tags": []
   },
   "outputs": [
    {
     "name": "stdout",
     "output_type": "stream",
     "text": [
      "Collecting mnist\r\n"
     ]
    },
    {
     "name": "stdout",
     "output_type": "stream",
     "text": [
      "  Downloading mnist-0.2.2-py2.py3-none-any.whl (3.5 kB)\r\n",
      "Requirement already satisfied: numpy in /opt/hostedtoolcache/Python/3.6.15/x64/lib/python3.6/site-packages (from mnist) (1.19.5)\r\n"
     ]
    },
    {
     "name": "stdout",
     "output_type": "stream",
     "text": [
      "Installing collected packages: mnist\r\n"
     ]
    },
    {
     "name": "stdout",
     "output_type": "stream",
     "text": [
      "Successfully installed mnist-0.2.2\r\n"
     ]
    }
   ],
   "source": [
    "!pip install mnist"
   ]
  },
  {
   "cell_type": "markdown",
   "id": "69df9c9a",
   "metadata": {
    "papermill": {
     "duration": 0.022415,
     "end_time": "2022-07-14T00:44:54.252984",
     "exception": false,
     "start_time": "2022-07-14T00:44:54.230569",
     "status": "completed"
    },
    "tags": []
   },
   "source": [
    "## Preparing the Data"
   ]
  },
  {
   "cell_type": "code",
   "execution_count": 4,
   "id": "7f69d806",
   "metadata": {
    "execution": {
     "iopub.execute_input": "2022-07-14T00:44:54.308709Z",
     "iopub.status.busy": "2022-07-14T00:44:54.307798Z",
     "iopub.status.idle": "2022-07-14T00:44:54.318392Z",
     "shell.execute_reply": "2022-07-14T00:44:54.317947Z"
    },
    "papermill": {
     "duration": 0.043181,
     "end_time": "2022-07-14T00:44:54.318518",
     "exception": false,
     "start_time": "2022-07-14T00:44:54.275337",
     "status": "completed"
    },
    "tags": []
   },
   "outputs": [],
   "source": [
    "import mnist"
   ]
  },
  {
   "cell_type": "code",
   "execution_count": 5,
   "id": "a411e44f",
   "metadata": {
    "execution": {
     "iopub.execute_input": "2022-07-14T00:44:54.367518Z",
     "iopub.status.busy": "2022-07-14T00:44:54.366647Z",
     "iopub.status.idle": "2022-07-14T00:44:55.162189Z",
     "shell.execute_reply": "2022-07-14T00:44:55.161729Z"
    },
    "papermill": {
     "duration": 0.821499,
     "end_time": "2022-07-14T00:44:55.162305",
     "exception": false,
     "start_time": "2022-07-14T00:44:54.340806",
     "status": "completed"
    },
    "tags": []
   },
   "outputs": [],
   "source": [
    "train_images = mnist.train_images()\n",
    "train_labels = mnist.train_labels()"
   ]
  },
  {
   "cell_type": "code",
   "execution_count": 6,
   "id": "dceab3a5",
   "metadata": {
    "execution": {
     "iopub.execute_input": "2022-07-14T00:44:55.255176Z",
     "iopub.status.busy": "2022-07-14T00:44:55.254613Z",
     "iopub.status.idle": "2022-07-14T00:44:55.269818Z",
     "shell.execute_reply": "2022-07-14T00:44:55.269379Z"
    },
    "papermill": {
     "duration": 0.083866,
     "end_time": "2022-07-14T00:44:55.269920",
     "exception": false,
     "start_time": "2022-07-14T00:44:55.186054",
     "status": "completed"
    },
    "tags": []
   },
   "outputs": [
    {
     "data": {
      "text/plain": [
       "((60000, 28, 28), (60000,))"
      ]
     },
     "execution_count": 6,
     "metadata": {},
     "output_type": "execute_result"
    }
   ],
   "source": [
    "train_images.shape, train_labels.shape"
   ]
  },
  {
   "cell_type": "code",
   "execution_count": 7,
   "id": "f50dc2bb",
   "metadata": {
    "execution": {
     "iopub.execute_input": "2022-07-14T00:44:55.318920Z",
     "iopub.status.busy": "2022-07-14T00:44:55.318011Z",
     "iopub.status.idle": "2022-07-14T00:44:55.643544Z",
     "shell.execute_reply": "2022-07-14T00:44:55.642915Z"
    },
    "papermill": {
     "duration": 0.351244,
     "end_time": "2022-07-14T00:44:55.643678",
     "exception": false,
     "start_time": "2022-07-14T00:44:55.292434",
     "status": "completed"
    },
    "tags": []
   },
   "outputs": [],
   "source": [
    "test_images = mnist.test_images()\n",
    "test_labels = mnist.test_labels()"
   ]
  },
  {
   "cell_type": "code",
   "execution_count": 8,
   "id": "fc38cf1b",
   "metadata": {
    "execution": {
     "iopub.execute_input": "2022-07-14T00:44:55.711342Z",
     "iopub.status.busy": "2022-07-14T00:44:55.710369Z",
     "iopub.status.idle": "2022-07-14T00:44:55.714369Z",
     "shell.execute_reply": "2022-07-14T00:44:55.713939Z"
    },
    "papermill": {
     "duration": 0.047032,
     "end_time": "2022-07-14T00:44:55.714535",
     "exception": false,
     "start_time": "2022-07-14T00:44:55.667503",
     "status": "completed"
    },
    "tags": []
   },
   "outputs": [
    {
     "data": {
      "text/plain": [
       "((10000, 28, 28), (10000,))"
      ]
     },
     "execution_count": 8,
     "metadata": {},
     "output_type": "execute_result"
    }
   ],
   "source": [
    "test_images.shape, test_labels.shape"
   ]
  },
  {
   "cell_type": "code",
   "execution_count": 9,
   "id": "f9ed8fe0",
   "metadata": {
    "execution": {
     "iopub.execute_input": "2022-07-14T00:44:55.785132Z",
     "iopub.status.busy": "2022-07-14T00:44:55.763528Z",
     "iopub.status.idle": "2022-07-14T00:44:55.892932Z",
     "shell.execute_reply": "2022-07-14T00:44:55.892476Z"
    },
    "papermill": {
     "duration": 0.156113,
     "end_time": "2022-07-14T00:44:55.893041",
     "exception": false,
     "start_time": "2022-07-14T00:44:55.736928",
     "status": "completed"
    },
    "tags": []
   },
   "outputs": [
    {
     "name": "stdout",
     "output_type": "stream",
     "text": [
      "2\n"
     ]
    },
    {
     "data": {
      "text/plain": [
       "<matplotlib.image.AxesImage at 0x7f7fa782f588>"
      ]
     },
     "execution_count": 9,
     "metadata": {},
     "output_type": "execute_result"
    },
    {
     "data": {
      "image/png": "[encoded data removed]",
      "text/plain": [
       "<Figure size 432x288 with 1 Axes>"
      ]
     },
     "metadata": {
      "needs_background": "light"
     },
     "output_type": "display_data"
    }
   ],
   "source": [
    "image_index = 7776 # You may select anything up to 60,000\n",
    "print(train_labels[image_index]) \n",
    "plt.imshow(train_images[image_index], cmap='Greys')"
   ]
  },
  {
   "cell_type": "markdown",
   "id": "a8d2388d",
   "metadata": {
    "papermill": {
     "duration": 0.023697,
     "end_time": "2022-07-14T00:44:55.940681",
     "exception": false,
     "start_time": "2022-07-14T00:44:55.916984",
     "status": "completed"
    },
    "tags": []
   },
   "source": [
    "## Filter data to get 3 and 8 out"
   ]
  },
  {
   "cell_type": "code",
   "execution_count": 10,
   "id": "776f7fc7",
   "metadata": {
    "execution": {
     "iopub.execute_input": "2022-07-14T00:44:56.007643Z",
     "iopub.status.busy": "2022-07-14T00:44:55.996298Z",
     "iopub.status.idle": "2022-07-14T00:44:56.016630Z",
     "shell.execute_reply": "2022-07-14T00:44:56.015648Z"
    },
    "papermill": {
     "duration": 0.052765,
     "end_time": "2022-07-14T00:44:56.016746",
     "exception": false,
     "start_time": "2022-07-14T00:44:55.963981",
     "status": "completed"
    },
    "tags": []
   },
   "outputs": [],
   "source": [
    "train_filter = np.where((train_labels == 3 ) | (train_labels == 8))\n",
    "test_filter = np.where((test_labels == 3) | (test_labels == 8))\n",
    "X_train, y_train = train_images[train_filter], train_labels[train_filter]\n",
    "X_test, y_test = test_images[test_filter], test_labels[test_filter]"
   ]
  },
  {
   "cell_type": "markdown",
   "id": "948f0b7e",
   "metadata": {
    "papermill": {
     "duration": 0.023717,
     "end_time": "2022-07-14T00:44:56.064166",
     "exception": false,
     "start_time": "2022-07-14T00:44:56.040449",
     "status": "completed"
    },
    "tags": []
   },
   "source": [
    "We normalize the pizel values in the 0 to 1 range"
   ]
  },
  {
   "cell_type": "code",
   "execution_count": 11,
   "id": "ee4c2166",
   "metadata": {
    "execution": {
     "iopub.execute_input": "2022-07-14T00:44:56.119455Z",
     "iopub.status.busy": "2022-07-14T00:44:56.117102Z",
     "iopub.status.idle": "2022-07-14T00:44:56.163406Z",
     "shell.execute_reply": "2022-07-14T00:44:56.162228Z"
    },
    "papermill": {
     "duration": 0.075028,
     "end_time": "2022-07-14T00:44:56.163528",
     "exception": false,
     "start_time": "2022-07-14T00:44:56.088500",
     "status": "completed"
    },
    "tags": []
   },
   "outputs": [],
   "source": [
    "X_train = X_train/255.\n",
    "X_test = X_test/255."
   ]
  },
  {
   "cell_type": "markdown",
   "id": "ddcf4fab",
   "metadata": {
    "papermill": {
     "duration": 0.023876,
     "end_time": "2022-07-14T00:44:56.211179",
     "exception": false,
     "start_time": "2022-07-14T00:44:56.187303",
     "status": "completed"
    },
    "tags": []
   },
   "source": [
    "And setup the labels as 1 (when the digit is 3) and 0 (when the digit is 8)"
   ]
  },
  {
   "cell_type": "code",
   "execution_count": 12,
   "id": "7dc908f2",
   "metadata": {
    "execution": {
     "iopub.execute_input": "2022-07-14T00:44:56.272701Z",
     "iopub.status.busy": "2022-07-14T00:44:56.272073Z",
     "iopub.status.idle": "2022-07-14T00:44:56.274758Z",
     "shell.execute_reply": "2022-07-14T00:44:56.275129Z"
    },
    "papermill": {
     "duration": 0.040629,
     "end_time": "2022-07-14T00:44:56.275267",
     "exception": false,
     "start_time": "2022-07-14T00:44:56.234638",
     "status": "completed"
    },
    "tags": []
   },
   "outputs": [],
   "source": [
    "y_train = 1*(y_train==3)\n",
    "y_test = 1*(y_test==3)"
   ]
  },
  {
   "cell_type": "code",
   "execution_count": 13,
   "id": "01e4e969",
   "metadata": {
    "execution": {
     "iopub.execute_input": "2022-07-14T00:44:56.343538Z",
     "iopub.status.busy": "2022-07-14T00:44:56.342593Z",
     "iopub.status.idle": "2022-07-14T00:44:56.346654Z",
     "shell.execute_reply": "2022-07-14T00:44:56.346115Z"
    },
    "papermill": {
     "duration": 0.048054,
     "end_time": "2022-07-14T00:44:56.346760",
     "exception": false,
     "start_time": "2022-07-14T00:44:56.298706",
     "status": "completed"
    },
    "tags": []
   },
   "outputs": [
    {
     "data": {
      "text/plain": [
       "((11982, 28, 28), (1984, 28, 28))"
      ]
     },
     "execution_count": 13,
     "metadata": {},
     "output_type": "execute_result"
    }
   ],
   "source": [
    "X_train.shape, X_test.shape"
   ]
  },
  {
   "cell_type": "markdown",
   "id": "5ccf3f85",
   "metadata": {
    "papermill": {
     "duration": 0.02368,
     "end_time": "2022-07-14T00:44:56.394280",
     "exception": false,
     "start_time": "2022-07-14T00:44:56.370600",
     "status": "completed"
    },
    "tags": []
   },
   "source": [
    "We reshape the data to flatten the image pixels into a set of features or co-variates:"
   ]
  },
  {
   "cell_type": "code",
   "execution_count": 14,
   "id": "5286a4a3",
   "metadata": {
    "execution": {
     "iopub.execute_input": "2022-07-14T00:44:56.447425Z",
     "iopub.status.busy": "2022-07-14T00:44:56.446165Z",
     "iopub.status.idle": "2022-07-14T00:44:56.459435Z",
     "shell.execute_reply": "2022-07-14T00:44:56.459879Z"
    },
    "papermill": {
     "duration": 0.041632,
     "end_time": "2022-07-14T00:44:56.459993",
     "exception": false,
     "start_time": "2022-07-14T00:44:56.418361",
     "status": "completed"
    },
    "tags": []
   },
   "outputs": [
    {
     "data": {
      "text/plain": [
       "((11982, 784), (1984, 784))"
      ]
     },
     "execution_count": 14,
     "metadata": {},
     "output_type": "execute_result"
    }
   ],
   "source": [
    "X_train = X_train.reshape(X_train.shape[0], -1)\n",
    "X_test = X_test.reshape(X_test.shape[0], -1)\n",
    "X_train.shape, X_test.shape"
   ]
  },
  {
   "cell_type": "code",
   "execution_count": 15,
   "id": "73c5f88a",
   "metadata": {
    "execution": {
     "iopub.execute_input": "2022-07-14T00:44:56.523775Z",
     "iopub.status.busy": "2022-07-14T00:44:56.511772Z",
     "iopub.status.idle": "2022-07-14T00:44:56.530589Z",
     "shell.execute_reply": "2022-07-14T00:44:56.531026Z"
    },
    "papermill": {
     "duration": 0.047067,
     "end_time": "2022-07-14T00:44:56.531151",
     "exception": false,
     "start_time": "2022-07-14T00:44:56.484084",
     "status": "completed"
    },
    "tags": []
   },
   "outputs": [],
   "source": [
    "#Impoting functions from 'Kudzu'\n",
    "from kudzu.model import Model\n",
    "from kudzu.train import Learner\n",
    "from kudzu.optim import GD\n",
    "from kudzu.data import Data, Sampler,Dataloader\n",
    "\n",
    "from kudzu.callbacks import AccCallback\n",
    "from kudzu.callbacks import ClfCallback\n",
    "\n",
    "from kudzu.loss import MSE\n",
    "\n",
    "from kudzu.layer import Sigmoid,Relu\n",
    "from kudzu.layer import Affine"
   ]
  },
  {
   "cell_type": "markdown",
   "id": "bc01172a",
   "metadata": {
    "papermill": {
     "duration": 0.024158,
     "end_time": "2022-07-14T00:44:56.579618",
     "exception": false,
     "start_time": "2022-07-14T00:44:56.555460",
     "status": "completed"
    },
    "tags": []
   },
   "source": [
    "### Let us create a `Config` class, to store important parameters. \n",
    "This class essentially plays the role of a dictionary."
   ]
  },
  {
   "cell_type": "code",
   "execution_count": 16,
   "id": "978281aa",
   "metadata": {
    "execution": {
     "iopub.execute_input": "2022-07-14T00:44:56.631859Z",
     "iopub.status.busy": "2022-07-14T00:44:56.630980Z",
     "iopub.status.idle": "2022-07-14T00:44:56.642450Z",
     "shell.execute_reply": "2022-07-14T00:44:56.642898Z"
    },
    "papermill": {
     "duration": 0.039389,
     "end_time": "2022-07-14T00:44:56.643018",
     "exception": false,
     "start_time": "2022-07-14T00:44:56.603629",
     "status": "completed"
    },
    "tags": []
   },
   "outputs": [],
   "source": [
    "class Config:\n",
    "    pass\n",
    "config = Config()\n",
    "config.lr = 0.001\n",
    "config.num_epochs = 250\n",
    "config.bs = 50"
   ]
  },
  {
   "cell_type": "markdown",
   "id": "1385fa59",
   "metadata": {
    "papermill": {
     "duration": 0.024007,
     "end_time": "2022-07-14T00:44:56.691113",
     "exception": false,
     "start_time": "2022-07-14T00:44:56.667106",
     "status": "completed"
    },
    "tags": []
   },
   "source": [
    "### Running Models with the Training data\n",
    "Details about the network layers:\n",
    "- A first affine layer has 784 inputs and does 100 affine transforms. These are followed by a Relu\n",
    "- A second affine layer has 100 inputs from the 100 activations of the past layer, and does 100 affine transforms. These are followed by a Relu\n",
    "- A third affine layer has 100 activations and does 2 affine transformations to create an embedding for visualization. There is no non-linearity here.\n",
    "- A final \"logistic regression\" which has an affine transform from 2 inputs to 1 output, which is squeezed through a sigmoid.\n"
   ]
  },
  {
   "cell_type": "code",
   "execution_count": 17,
   "id": "2b9c66db",
   "metadata": {
    "execution": {
     "iopub.execute_input": "2022-07-14T00:44:56.743652Z",
     "iopub.status.busy": "2022-07-14T00:44:56.742784Z",
     "iopub.status.idle": "2022-07-14T00:44:56.755010Z",
     "shell.execute_reply": "2022-07-14T00:44:56.754591Z"
    },
    "papermill": {
     "duration": 0.040137,
     "end_time": "2022-07-14T00:44:56.755115",
     "exception": false,
     "start_time": "2022-07-14T00:44:56.714978",
     "status": "completed"
    },
    "tags": []
   },
   "outputs": [],
   "source": [
    "data = Data(X_train, y_train.reshape(-1,1))\n",
    "sampler = Sampler(data, config.bs, shuffle=True)\n",
    "\n",
    "dl = Dataloader(data, sampler)\n",
    "\n",
    "opt = GD(config.lr)\n",
    "loss = MSE()"
   ]
  },
  {
   "cell_type": "code",
   "execution_count": 18,
   "id": "b275e4c2",
   "metadata": {
    "execution": {
     "iopub.execute_input": "2022-07-14T00:44:56.818714Z",
     "iopub.status.busy": "2022-07-14T00:44:56.807466Z",
     "iopub.status.idle": "2022-07-14T00:44:56.822785Z",
     "shell.execute_reply": "2022-07-14T00:44:56.822229Z"
    },
    "papermill": {
     "duration": 0.043579,
     "end_time": "2022-07-14T00:44:56.822890",
     "exception": false,
     "start_time": "2022-07-14T00:44:56.779311",
     "status": "completed"
    },
    "tags": []
   },
   "outputs": [],
   "source": [
    "training_data_x = X_train\n",
    "testing_data_x = X_test\n",
    "training_data_y = y_train.reshape(-1,1)\n",
    "testing_data_y = y_test.reshape(-1,1)"
   ]
  },
  {
   "cell_type": "code",
   "execution_count": 19,
   "id": "76951160",
   "metadata": {
    "execution": {
     "iopub.execute_input": "2022-07-14T00:44:56.885306Z",
     "iopub.status.busy": "2022-07-14T00:44:56.874548Z",
     "iopub.status.idle": "2022-07-14T00:44:56.893811Z",
     "shell.execute_reply": "2022-07-14T00:44:56.892745Z"
    },
    "papermill": {
     "duration": 0.047283,
     "end_time": "2022-07-14T00:44:56.893920",
     "exception": false,
     "start_time": "2022-07-14T00:44:56.846637",
     "status": "completed"
    },
    "tags": []
   },
   "outputs": [
    {
     "name": "stdout",
     "output_type": "stream",
     "text": [
      "xavier\n",
      "xavier\n",
      "xavier\n",
      "xavier\n",
      "xavier\n"
     ]
    }
   ],
   "source": [
    "layers = [Affine(\"first\", 784, 100), Relu(\"first\"), Affine(\"second\", 100, 100), Relu(\"second\"), Affine(\"third\", 100, 2), Affine(\"last\", 2, 1), Sigmoid(\"last\")]\n",
    "model_nn = Model(layers)\n",
    "model_lr = Model([Affine(\"logits\", 784, 1), Sigmoid(\"sigmoid\")])"
   ]
  },
  {
   "cell_type": "code",
   "execution_count": 20,
   "id": "6eede77a",
   "metadata": {
    "execution": {
     "iopub.execute_input": "2022-07-14T00:44:56.947152Z",
     "iopub.status.busy": "2022-07-14T00:44:56.946252Z",
     "iopub.status.idle": "2022-07-14T00:44:56.958087Z",
     "shell.execute_reply": "2022-07-14T00:44:56.957658Z"
    },
    "papermill": {
     "duration": 0.039919,
     "end_time": "2022-07-14T00:44:56.958213",
     "exception": false,
     "start_time": "2022-07-14T00:44:56.918294",
     "status": "completed"
    },
    "tags": []
   },
   "outputs": [],
   "source": [
    "nn_learner = Learner(loss, model_nn, opt, config.num_epochs)\n",
    "acc_nn = ClfCallback(nn_learner, config.bs, training_data_x , testing_data_x, training_data_y, testing_data_y)\n",
    "nn_learner.set_callbacks([acc_nn])"
   ]
  },
  {
   "cell_type": "code",
   "execution_count": 21,
   "id": "877b6cc7",
   "metadata": {
    "execution": {
     "iopub.execute_input": "2022-07-14T00:44:57.012903Z",
     "iopub.status.busy": "2022-07-14T00:44:57.011982Z",
     "iopub.status.idle": "2022-07-14T00:44:57.023917Z",
     "shell.execute_reply": "2022-07-14T00:44:57.023469Z"
    },
    "papermill": {
     "duration": 0.040133,
     "end_time": "2022-07-14T00:44:57.024018",
     "exception": false,
     "start_time": "2022-07-14T00:44:56.983885",
     "status": "completed"
    },
    "tags": []
   },
   "outputs": [],
   "source": [
    "lr_learner = Learner(loss, model_lr, opt, config.num_epochs)\n",
    "acc_lr = ClfCallback(lr_learner, config.bs, training_data_x , testing_data_x, training_data_y, testing_data_y)\n",
    "lr_learner.set_callbacks([acc_lr])"
   ]
  },
  {
   "cell_type": "code",
   "execution_count": 22,
   "id": "d9b133c3",
   "metadata": {
    "execution": {
     "iopub.execute_input": "2022-07-14T00:44:57.080266Z",
     "iopub.status.busy": "2022-07-14T00:44:57.079383Z",
     "iopub.status.idle": "2022-07-14T00:47:07.907201Z",
     "shell.execute_reply": "2022-07-14T00:47:07.908799Z"
    },
    "papermill": {
     "duration": 130.860871,
     "end_time": "2022-07-14T00:47:07.909087",
     "exception": false,
     "start_time": "2022-07-14T00:44:57.048216",
     "status": "completed"
    },
    "tags": []
   },
   "outputs": [
    {
     "name": "stdout",
     "output_type": "stream",
     "text": [
      "Epoch 0, Loss 0.2415\n",
      "Training Accuracy: 0.7076, Testing Accuracy: 0.7480\n",
      "\n"
     ]
    },
    {
     "name": "stdout",
     "output_type": "stream",
     "text": [
      "Epoch 10, Loss 0.0649\n",
      "Training Accuracy: 0.9365, Testing Accuracy: 0.9476\n",
      "\n"
     ]
    },
    {
     "name": "stdout",
     "output_type": "stream",
     "text": [
      "Epoch 20, Loss 0.0447\n",
      "Training Accuracy: 0.9525, Testing Accuracy: 0.9597\n",
      "\n"
     ]
    },
    {
     "name": "stdout",
     "output_type": "stream",
     "text": [
      "Epoch 30, Loss 0.0374\n",
      "Training Accuracy: 0.9585, Testing Accuracy: 0.9647\n",
      "\n"
     ]
    },
    {
     "name": "stdout",
     "output_type": "stream",
     "text": [
      "Epoch 40, Loss 0.0335\n",
      "Training Accuracy: 0.9618, Testing Accuracy: 0.9672\n",
      "\n"
     ]
    },
    {
     "name": "stdout",
     "output_type": "stream",
     "text": [
      "Epoch 50, Loss 0.0309\n",
      "Training Accuracy: 0.9635, Testing Accuracy: 0.9688\n",
      "\n"
     ]
    },
    {
     "name": "stdout",
     "output_type": "stream",
     "text": [
      "Epoch 60, Loss 0.029\n",
      "Training Accuracy: 0.9665, Testing Accuracy: 0.9688\n",
      "\n"
     ]
    },
    {
     "name": "stdout",
     "output_type": "stream",
     "text": [
      "Epoch 70, Loss 0.0275\n",
      "Training Accuracy: 0.9682, Testing Accuracy: 0.9693\n",
      "\n"
     ]
    },
    {
     "name": "stdout",
     "output_type": "stream",
     "text": [
      "Epoch 80, Loss 0.0263\n",
      "Training Accuracy: 0.9693, Testing Accuracy: 0.9708\n",
      "\n"
     ]
    },
    {
     "name": "stdout",
     "output_type": "stream",
     "text": [
      "Epoch 90, Loss 0.0252\n",
      "Training Accuracy: 0.9705, Testing Accuracy: 0.9713\n",
      "\n"
     ]
    },
    {
     "name": "stdout",
     "output_type": "stream",
     "text": [
      "Epoch 100, Loss 0.0243\n",
      "Training Accuracy: 0.9710, Testing Accuracy: 0.9723\n",
      "\n"
     ]
    },
    {
     "name": "stdout",
     "output_type": "stream",
     "text": [
      "Epoch 110, Loss 0.0235\n",
      "Training Accuracy: 0.9721, Testing Accuracy: 0.9733\n",
      "\n"
     ]
    },
    {
     "name": "stdout",
     "output_type": "stream",
     "text": [
      "Epoch 120, Loss 0.0227\n",
      "Training Accuracy: 0.9733, Testing Accuracy: 0.9728\n",
      "\n"
     ]
    },
    {
     "name": "stdout",
     "output_type": "stream",
     "text": [
      "Epoch 130, Loss 0.0221\n",
      "Training Accuracy: 0.9744, Testing Accuracy: 0.9733\n",
      "\n"
     ]
    },
    {
     "name": "stdout",
     "output_type": "stream",
     "text": [
      "Epoch 140, Loss 0.0214\n",
      "Training Accuracy: 0.9758, Testing Accuracy: 0.9743\n",
      "\n"
     ]
    },
    {
     "name": "stdout",
     "output_type": "stream",
     "text": [
      "Epoch 150, Loss 0.0209\n",
      "Training Accuracy: 0.9765, Testing Accuracy: 0.9753\n",
      "\n"
     ]
    },
    {
     "name": "stdout",
     "output_type": "stream",
     "text": [
      "Epoch 160, Loss 0.0203\n",
      "Training Accuracy: 0.9770, Testing Accuracy: 0.9753\n",
      "\n"
     ]
    },
    {
     "name": "stdout",
     "output_type": "stream",
     "text": [
      "Epoch 170, Loss 0.0198\n",
      "Training Accuracy: 0.9775, Testing Accuracy: 0.9758\n",
      "\n"
     ]
    },
    {
     "name": "stdout",
     "output_type": "stream",
     "text": [
      "Epoch 180, Loss 0.0193\n",
      "Training Accuracy: 0.9786, Testing Accuracy: 0.9763\n",
      "\n"
     ]
    },
    {
     "name": "stdout",
     "output_type": "stream",
     "text": [
      "Epoch 190, Loss 0.0188\n",
      "Training Accuracy: 0.9795, Testing Accuracy: 0.9768\n",
      "\n"
     ]
    },
    {
     "name": "stdout",
     "output_type": "stream",
     "text": [
      "Epoch 200, Loss 0.0183\n",
      "Training Accuracy: 0.9800, Testing Accuracy: 0.9768\n",
      "\n"
     ]
    },
    {
     "name": "stdout",
     "output_type": "stream",
     "text": [
      "Epoch 210, Loss 0.0179\n",
      "Training Accuracy: 0.9806, Testing Accuracy: 0.9763\n",
      "\n"
     ]
    },
    {
     "name": "stdout",
     "output_type": "stream",
     "text": [
      "Epoch 220, Loss 0.0174\n",
      "Training Accuracy: 0.9811, Testing Accuracy: 0.9773\n",
      "\n"
     ]
    },
    {
     "name": "stdout",
     "output_type": "stream",
     "text": [
      "Epoch 230, Loss 0.017\n",
      "Training Accuracy: 0.9817, Testing Accuracy: 0.9778\n",
      "\n"
     ]
    },
    {
     "name": "stdout",
     "output_type": "stream",
     "text": [
      "Epoch 240, Loss 0.0166\n",
      "Training Accuracy: 0.9823, Testing Accuracy: 0.9778\n",
      "\n"
     ]
    },
    {
     "data": {
      "text/plain": [
       "0.04172348022013338"
      ]
     },
     "execution_count": 22,
     "metadata": {},
     "output_type": "execute_result"
    }
   ],
   "source": [
    "nn_learner.train_loop(dl)"
   ]
  },
  {
   "cell_type": "code",
   "execution_count": 23,
   "id": "e0163366",
   "metadata": {
    "execution": {
     "iopub.execute_input": "2022-07-14T00:47:08.044938Z",
     "iopub.status.busy": "2022-07-14T00:47:08.043612Z",
     "iopub.status.idle": "2022-07-14T00:47:38.914590Z",
     "shell.execute_reply": "2022-07-14T00:47:38.915046Z"
    },
    "papermill": {
     "duration": 30.924452,
     "end_time": "2022-07-14T00:47:38.915175",
     "exception": false,
     "start_time": "2022-07-14T00:47:07.990723",
     "status": "completed"
    },
    "tags": []
   },
   "outputs": [
    {
     "name": "stdout",
     "output_type": "stream",
     "text": [
      "Epoch 0, Loss 0.2267\n",
      "Training Accuracy: 0.7118, Testing Accuracy: 0.7177\n",
      "\n"
     ]
    },
    {
     "name": "stdout",
     "output_type": "stream",
     "text": [
      "Epoch 10, Loss 0.1069\n",
      "Training Accuracy: 0.8914, Testing Accuracy: 0.9002\n",
      "\n"
     ]
    },
    {
     "name": "stdout",
     "output_type": "stream",
     "text": [
      "Epoch 20, Loss 0.0816\n",
      "Training Accuracy: 0.9219, Testing Accuracy: 0.9335\n",
      "\n"
     ]
    },
    {
     "name": "stdout",
     "output_type": "stream",
     "text": [
      "Epoch 30, Loss 0.0696\n",
      "Training Accuracy: 0.9354, Testing Accuracy: 0.9506\n",
      "\n"
     ]
    },
    {
     "name": "stdout",
     "output_type": "stream",
     "text": [
      "Epoch 40, Loss 0.0624\n",
      "Training Accuracy: 0.9413, Testing Accuracy: 0.9551\n",
      "\n"
     ]
    },
    {
     "name": "stdout",
     "output_type": "stream",
     "text": [
      "Epoch 50, Loss 0.0576\n",
      "Training Accuracy: 0.9444, Testing Accuracy: 0.9587\n",
      "\n"
     ]
    },
    {
     "name": "stdout",
     "output_type": "stream",
     "text": [
      "Epoch 60, Loss 0.0541\n",
      "Training Accuracy: 0.9472, Testing Accuracy: 0.9587\n",
      "\n"
     ]
    },
    {
     "name": "stdout",
     "output_type": "stream",
     "text": [
      "Epoch 70, Loss 0.0515\n",
      "Training Accuracy: 0.9500, Testing Accuracy: 0.9607\n",
      "\n"
     ]
    },
    {
     "name": "stdout",
     "output_type": "stream",
     "text": [
      "Epoch 80, Loss 0.0494\n",
      "Training Accuracy: 0.9518, Testing Accuracy: 0.9627\n",
      "\n"
     ]
    },
    {
     "name": "stdout",
     "output_type": "stream",
     "text": [
      "Epoch 90, Loss 0.0476\n",
      "Training Accuracy: 0.9527, Testing Accuracy: 0.9632\n",
      "\n"
     ]
    },
    {
     "name": "stdout",
     "output_type": "stream",
     "text": [
      "Epoch 100, Loss 0.0462\n",
      "Training Accuracy: 0.9538, Testing Accuracy: 0.9657\n",
      "\n"
     ]
    },
    {
     "name": "stdout",
     "output_type": "stream",
     "text": [
      "Epoch 110, Loss 0.0449\n",
      "Training Accuracy: 0.9545, Testing Accuracy: 0.9652\n",
      "\n"
     ]
    },
    {
     "name": "stdout",
     "output_type": "stream",
     "text": [
      "Epoch 120, Loss 0.0438\n",
      "Training Accuracy: 0.9553, Testing Accuracy: 0.9662\n",
      "\n"
     ]
    },
    {
     "name": "stdout",
     "output_type": "stream",
     "text": [
      "Epoch 130, Loss 0.0429\n",
      "Training Accuracy: 0.9559, Testing Accuracy: 0.9667\n",
      "\n"
     ]
    },
    {
     "name": "stdout",
     "output_type": "stream",
     "text": [
      "Epoch 140, Loss 0.0421\n",
      "Training Accuracy: 0.9564, Testing Accuracy: 0.9667\n",
      "\n"
     ]
    },
    {
     "name": "stdout",
     "output_type": "stream",
     "text": [
      "Epoch 150, Loss 0.0413\n",
      "Training Accuracy: 0.9571, Testing Accuracy: 0.9672\n",
      "\n"
     ]
    },
    {
     "name": "stdout",
     "output_type": "stream",
     "text": [
      "Epoch 160, Loss 0.0406\n",
      "Training Accuracy: 0.9573, Testing Accuracy: 0.9672\n",
      "\n"
     ]
    },
    {
     "name": "stdout",
     "output_type": "stream",
     "text": [
      "Epoch 170, Loss 0.04\n",
      "Training Accuracy: 0.9581, Testing Accuracy: 0.9682\n",
      "\n"
     ]
    },
    {
     "name": "stdout",
     "output_type": "stream",
     "text": [
      "Epoch 180, Loss 0.0395\n",
      "Training Accuracy: 0.9585, Testing Accuracy: 0.9682\n",
      "\n"
     ]
    },
    {
     "name": "stdout",
     "output_type": "stream",
     "text": [
      "Epoch 190, Loss 0.0389\n",
      "Training Accuracy: 0.9590, Testing Accuracy: 0.9688\n",
      "\n"
     ]
    },
    {
     "name": "stdout",
     "output_type": "stream",
     "text": [
      "Epoch 200, Loss 0.0385\n",
      "Training Accuracy: 0.9591, Testing Accuracy: 0.9688\n",
      "\n"
     ]
    },
    {
     "name": "stdout",
     "output_type": "stream",
     "text": [
      "Epoch 210, Loss 0.038\n",
      "Training Accuracy: 0.9594, Testing Accuracy: 0.9688\n",
      "\n"
     ]
    },
    {
     "name": "stdout",
     "output_type": "stream",
     "text": [
      "Epoch 220, Loss 0.0376\n",
      "Training Accuracy: 0.9600, Testing Accuracy: 0.9698\n",
      "\n"
     ]
    },
    {
     "name": "stdout",
     "output_type": "stream",
     "text": [
      "Epoch 230, Loss 0.0372\n",
      "Training Accuracy: 0.9602, Testing Accuracy: 0.9693\n",
      "\n"
     ]
    },
    {
     "name": "stdout",
     "output_type": "stream",
     "text": [
      "Epoch 240, Loss 0.0369\n",
      "Training Accuracy: 0.9603, Testing Accuracy: 0.9698\n",
      "\n"
     ]
    },
    {
     "data": {
      "text/plain": [
       "0.030925102155665848"
      ]
     },
     "execution_count": 23,
     "metadata": {},
     "output_type": "execute_result"
    }
   ],
   "source": [
    "lr_learner.train_loop(dl)"
   ]
  },
  {
   "cell_type": "code",
   "execution_count": 24,
   "id": "ca410940",
   "metadata": {
    "execution": {
     "iopub.execute_input": "2022-07-14T00:47:38.995575Z",
     "iopub.status.busy": "2022-07-14T00:47:38.994674Z",
     "iopub.status.idle": "2022-07-14T00:47:39.199967Z",
     "shell.execute_reply": "2022-07-14T00:47:39.200371Z"
    },
    "papermill": {
     "duration": 0.249698,
     "end_time": "2022-07-14T00:47:39.200499",
     "exception": false,
     "start_time": "2022-07-14T00:47:38.950801",
     "status": "completed"
    },
    "tags": []
   },
   "outputs": [
    {
     "data": {
      "text/plain": [
       "<matplotlib.legend.Legend at 0x7f7fa738ac18>"
      ]
     },
     "execution_count": 24,
     "metadata": {},
     "output_type": "execute_result"
    },
    {
     "data": {
      "image/png": "[encoded data removed]",
      "text/plain": [
       "<Figure size 1080x720 with 1 Axes>"
      ]
     },
     "metadata": {
      "needs_background": "light"
     },
     "output_type": "display_data"
    }
   ],
   "source": [
    "#comparing the results of NN and LR\n",
    "plt.figure(figsize=(15,10))\n",
    "\n",
    "# Neural Network plots\n",
    "plt.plot(acc_nn.accuracies, 'r-', label = \"Training Accuracies - NN\")\n",
    "plt.plot(acc_nn.test_accuracies, 'g-', label = \"Testing Accuracies - NN\")\n",
    "\n",
    "# Logistic Regression plots\n",
    "plt.plot(acc_lr.accuracies, 'k-', label = \"Training Accuracies - LR\")\n",
    "plt.plot(acc_lr.test_accuracies, 'b-', label = \"Testing Accuracies - LR\")\n",
    "plt.legend()"
   ]
  },
  {
   "cell_type": "markdown",
   "id": "80dfb35c",
   "metadata": {
    "papermill": {
     "duration": 0.037487,
     "end_time": "2022-07-14T00:47:39.275357",
     "exception": false,
     "start_time": "2022-07-14T00:47:39.237870",
     "status": "completed"
    },
    "tags": []
   },
   "source": [
    "#### Plotting the outputs of this layer of the NN.\n"
   ]
  },
  {
   "cell_type": "code",
   "execution_count": 25,
   "id": "45eb2ff5",
   "metadata": {
    "execution": {
     "iopub.execute_input": "2022-07-14T00:47:39.356282Z",
     "iopub.status.busy": "2022-07-14T00:47:39.355417Z",
     "iopub.status.idle": "2022-07-14T00:47:39.379906Z",
     "shell.execute_reply": "2022-07-14T00:47:39.380325Z"
    },
    "papermill": {
     "duration": 0.06622,
     "end_time": "2022-07-14T00:47:39.380480",
     "exception": false,
     "start_time": "2022-07-14T00:47:39.314260",
     "status": "completed"
    },
    "tags": []
   },
   "outputs": [],
   "source": [
    "new_model = Model(layers[:-2])\n",
    "testing_plot = new_model(testing_data_x)"
   ]
  },
  {
   "cell_type": "code",
   "execution_count": 26,
   "id": "4c0a5485",
   "metadata": {
    "execution": {
     "iopub.execute_input": "2022-07-14T00:47:39.520118Z",
     "iopub.status.busy": "2022-07-14T00:47:39.519235Z",
     "iopub.status.idle": "2022-07-14T00:47:39.695203Z",
     "shell.execute_reply": "2022-07-14T00:47:39.695589Z"
    },
    "papermill": {
     "duration": 0.218819,
     "end_time": "2022-07-14T00:47:39.695720",
     "exception": false,
     "start_time": "2022-07-14T00:47:39.476901",
     "status": "completed"
    },
    "tags": []
   },
   "outputs": [
    {
     "data": {
      "text/plain": [
       "Text(0.5, 1.0, 'Outputs')"
      ]
     },
     "execution_count": 26,
     "metadata": {},
     "output_type": "execute_result"
    },
    {
     "data": {
      "image/png": "[encoded data removed]",
      "text/plain": [
       "<Figure size 576x504 with 1 Axes>"
      ]
     },
     "metadata": {
      "needs_background": "light"
     },
     "output_type": "display_data"
    }
   ],
   "source": [
    "# Plotting the scatter plot of points and color coding by class\n",
    "plt.figure(figsize=(8,7))\n",
    "plt.scatter(testing_plot[:,0], testing_plot[:,1], alpha = 0.1, c = y_test.ravel());\n",
    "plt.title('Outputs')"
   ]
  },
  {
   "cell_type": "markdown",
   "id": "a74fcf8f",
   "metadata": {
    "papermill": {
     "duration": 0.039944,
     "end_time": "2022-07-14T00:47:39.801093",
     "exception": false,
     "start_time": "2022-07-14T00:47:39.761149",
     "status": "completed"
    },
    "tags": []
   },
   "source": [
    "Probability contours"
   ]
  },
  {
   "cell_type": "code",
   "execution_count": 27,
   "id": "d0afc8e3",
   "metadata": {
    "execution": {
     "iopub.execute_input": "2022-07-14T00:47:39.888406Z",
     "iopub.status.busy": "2022-07-14T00:47:39.887505Z",
     "iopub.status.idle": "2022-07-14T00:47:39.897420Z",
     "shell.execute_reply": "2022-07-14T00:47:39.897834Z"
    },
    "papermill": {
     "duration": 0.056606,
     "end_time": "2022-07-14T00:47:39.897957",
     "exception": false,
     "start_time": "2022-07-14T00:47:39.841351",
     "status": "completed"
    },
    "tags": []
   },
   "outputs": [],
   "source": [
    "model_prob = Model(layers[-2:]) "
   ]
  },
  {
   "cell_type": "code",
   "execution_count": 28,
   "id": "9b96e238",
   "metadata": {
    "execution": {
     "iopub.execute_input": "2022-07-14T00:47:39.981787Z",
     "iopub.status.busy": "2022-07-14T00:47:39.980904Z",
     "iopub.status.idle": "2022-07-14T00:47:39.994581Z",
     "shell.execute_reply": "2022-07-14T00:47:39.995783Z"
    },
    "papermill": {
     "duration": 0.058804,
     "end_time": "2022-07-14T00:47:39.996038",
     "exception": false,
     "start_time": "2022-07-14T00:47:39.937234",
     "status": "completed"
    },
    "tags": []
   },
   "outputs": [],
   "source": [
    "#creating the x and y ranges according to the above generated plot.\n",
    "x_range = np.linspace(-4, 1, 100) \n",
    "y_range = np.linspace(-6, 6, 100) \n",
    "x_grid, y_grid = np.meshgrid(x_range, y_range) # x_grid and y_grig are of size 100 X 100\n",
    "\n",
    "# converting x_grid and y_grid to continuous arrays\n",
    "x_gridflat = np.ravel(x_grid)\n",
    "y_gridflat = np.ravel(y_grid)\n",
    "\n",
    "# The last layer of the current model takes two columns as input. Hence transpose of np.vstack() is required.\n",
    "X = np.vstack((x_gridflat, y_gridflat)).T\n",
    "\n",
    "prob_contour = model_prob(X).reshape(100,100) "
   ]
  },
  {
   "cell_type": "code",
   "execution_count": 29,
   "id": "da72499a",
   "metadata": {
    "execution": {
     "iopub.execute_input": "2022-07-14T00:47:40.141761Z",
     "iopub.status.busy": "2022-07-14T00:47:40.140858Z",
     "iopub.status.idle": "2022-07-14T00:47:40.444642Z",
     "shell.execute_reply": "2022-07-14T00:47:40.445066Z"
    },
    "papermill": {
     "duration": 0.348998,
     "end_time": "2022-07-14T00:47:40.445196",
     "exception": false,
     "start_time": "2022-07-14T00:47:40.096198",
     "status": "completed"
    },
    "tags": []
   },
   "outputs": [
    {
     "data": {
      "image/png": "[encoded data removed]",
      "text/plain": [
       "<Figure size 720x648 with 1 Axes>"
      ]
     },
     "metadata": {
      "needs_background": "light"
     },
     "output_type": "display_data"
    }
   ],
   "source": [
    "plt.figure(figsize=(10,9))\n",
    "plt.scatter(testing_plot[:,0], testing_plot[:,1], alpha = 0.1, c = y_test.ravel())\n",
    "contours = plt.contour(x_grid,y_grid,prob_contour)\n",
    "plt.title('Probability Contours')\n",
    "plt.clabel(contours, inline = True );"
   ]
  },
  {
   "cell_type": "code",
   "execution_count": null,
   "id": "e81b4ac7",
   "metadata": {
    "papermill": {
     "duration": 0.042537,
     "end_time": "2022-07-14T00:47:40.530874",
     "exception": false,
     "start_time": "2022-07-14T00:47:40.488337",
     "status": "completed"
    },
    "tags": []
   },
   "outputs": [],
   "source": []
  }
 ],
 "metadata": {
  "kernelspec": {
   "display_name": "Python 3",
   "language": "python",
   "name": "python3"
  },
  "language_info": {
   "codemirror_mode": {
    "name": "ipython",
    "version": 3
   },
   "file_extension": ".py",
   "mimetype": "text/x-python",
   "name": "python",
   "nbconvert_exporter": "python",
   "pygments_lexer": "ipython3",
   "version": "3.6.15"
  },
  "papermill": {
   "default_parameters": {},
   "duration": 171.24907,
   "end_time": "2022-07-14T00:47:40.992661",
   "environment_variables": {},
   "exception": null,
   "input_path": "2020-08-11-part2.ipynb",
   "output_path": "2020-08-11-part2.ipynb",
   "parameters": {},
   "start_time": "2022-07-14T00:44:49.743591",
   "version": "2.3.3"
  }
 },
 "nbformat": 4,
 "nbformat_minor": 5
}