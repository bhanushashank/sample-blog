{
 "cells": [
  {
   "cell_type": "markdown",
   "id": "98380cd3",
   "metadata": {
    "papermill": {
     "duration": 0.035718,
     "end_time": "2022-11-21T00:43:15.999067",
     "exception": false,
     "start_time": "2022-11-21T00:43:15.963349",
     "status": "completed"
    },
    "tags": []
   },
   "source": [
    "# Distinguish Your Own Digits (DYOD)"
   ]
  },
  {
   "cell_type": "markdown",
   "id": "ef31240d",
   "metadata": {
    "papermill": {
     "duration": 0.030186,
     "end_time": "2022-11-21T00:43:16.059167",
     "exception": false,
     "start_time": "2022-11-21T00:43:16.028981",
     "status": "completed"
    },
    "tags": []
   },
   "source": [
    "You are going to write a classifier that distinguishes between the number 3 and number 8."
   ]
  },
  {
   "cell_type": "code",
   "execution_count": 1,
   "id": "b15c8646",
   "metadata": {
    "execution": {
     "iopub.execute_input": "2022-11-21T00:43:16.132208Z",
     "iopub.status.busy": "2022-11-21T00:43:16.130696Z",
     "iopub.status.idle": "2022-11-21T00:43:16.143183Z",
     "shell.execute_reply": "2022-11-21T00:43:16.142560Z"
    },
    "papermill": {
     "duration": 0.054136,
     "end_time": "2022-11-21T00:43:16.143336",
     "exception": false,
     "start_time": "2022-11-21T00:43:16.089200",
     "status": "completed"
    },
    "tags": []
   },
   "outputs": [],
   "source": [
    "%load_ext autoreload\n",
    "%autoreload 2"
   ]
  },
  {
   "cell_type": "code",
   "execution_count": 2,
   "id": "22ef38dc",
   "metadata": {
    "execution": {
     "iopub.execute_input": "2022-11-21T00:43:16.215887Z",
     "iopub.status.busy": "2022-11-21T00:43:16.215051Z",
     "iopub.status.idle": "2022-11-21T00:43:16.871149Z",
     "shell.execute_reply": "2022-11-21T00:43:16.870503Z"
    },
    "papermill": {
     "duration": 0.696457,
     "end_time": "2022-11-21T00:43:16.871297",
     "exception": false,
     "start_time": "2022-11-21T00:43:16.174840",
     "status": "completed"
    },
    "tags": []
   },
   "outputs": [],
   "source": [
    "%matplotlib inline\n",
    "import numpy as np\n",
    "import matplotlib.pyplot as plt\n",
    "import pandas as pd"
   ]
  },
  {
   "cell_type": "markdown",
   "id": "ba036198",
   "metadata": {
    "papermill": {
     "duration": 0.031737,
     "end_time": "2022-11-21T00:43:16.934769",
     "exception": false,
     "start_time": "2022-11-21T00:43:16.903032",
     "status": "completed"
    },
    "tags": []
   },
   "source": [
    "From the command line run `pip install mnist`. This is a library that will help you bring down the mnist dataset. If you run this from a notebook, you need to put  `!pip install mnist` in a cell by itself."
   ]
  },
  {
   "cell_type": "code",
   "execution_count": 3,
   "id": "bb6ad8a1",
   "metadata": {
    "execution": {
     "iopub.execute_input": "2022-11-21T00:43:17.001662Z",
     "iopub.status.busy": "2022-11-21T00:43:17.000885Z",
     "iopub.status.idle": "2022-11-21T00:43:19.524933Z",
     "shell.execute_reply": "2022-11-21T00:43:19.524245Z"
    },
    "papermill": {
     "duration": 2.559799,
     "end_time": "2022-11-21T00:43:19.525089",
     "exception": false,
     "start_time": "2022-11-21T00:43:16.965290",
     "status": "completed"
    },
    "tags": []
   },
   "outputs": [
    {
     "name": "stdout",
     "output_type": "stream",
     "text": [
      "Collecting mnist\r\n"
     ]
    },
    {
     "name": "stdout",
     "output_type": "stream",
     "text": [
      "  Downloading mnist-0.2.2-py2.py3-none-any.whl (3.5 kB)\r\n",
      "Requirement already satisfied: numpy in /opt/hostedtoolcache/Python/3.6.15/x64/lib/python3.6/site-packages (from mnist) (1.19.5)\r\n"
     ]
    },
    {
     "name": "stdout",
     "output_type": "stream",
     "text": [
      "Installing collected packages: mnist\r\n",
      "Successfully installed mnist-0.2.2\r\n"
     ]
    }
   ],
   "source": [
    "!pip install mnist"
   ]
  },
  {
   "cell_type": "markdown",
   "id": "69df9c9a",
   "metadata": {
    "papermill": {
     "duration": 0.029626,
     "end_time": "2022-11-21T00:43:19.583894",
     "exception": false,
     "start_time": "2022-11-21T00:43:19.554268",
     "status": "completed"
    },
    "tags": []
   },
   "source": [
    "## Preparing the Data"
   ]
  },
  {
   "cell_type": "code",
   "execution_count": 4,
   "id": "7f69d806",
   "metadata": {
    "execution": {
     "iopub.execute_input": "2022-11-21T00:43:19.650527Z",
     "iopub.status.busy": "2022-11-21T00:43:19.649677Z",
     "iopub.status.idle": "2022-11-21T00:43:19.666400Z",
     "shell.execute_reply": "2022-11-21T00:43:19.665643Z"
    },
    "papermill": {
     "duration": 0.051533,
     "end_time": "2022-11-21T00:43:19.666539",
     "exception": false,
     "start_time": "2022-11-21T00:43:19.615006",
     "status": "completed"
    },
    "tags": []
   },
   "outputs": [],
   "source": [
    "import mnist"
   ]
  },
  {
   "cell_type": "code",
   "execution_count": 5,
   "id": "a411e44f",
   "metadata": {
    "execution": {
     "iopub.execute_input": "2022-11-21T00:43:19.731964Z",
     "iopub.status.busy": "2022-11-21T00:43:19.731149Z",
     "iopub.status.idle": "2022-11-21T00:43:20.334188Z",
     "shell.execute_reply": "2022-11-21T00:43:20.333561Z"
    },
    "papermill": {
     "duration": 0.638037,
     "end_time": "2022-11-21T00:43:20.334357",
     "exception": false,
     "start_time": "2022-11-21T00:43:19.696320",
     "status": "completed"
    },
    "tags": []
   },
   "outputs": [],
   "source": [
    "train_images = mnist.train_images()\n",
    "train_labels = mnist.train_labels()"
   ]
  },
  {
   "cell_type": "code",
   "execution_count": 6,
   "id": "dceab3a5",
   "metadata": {
    "execution": {
     "iopub.execute_input": "2022-11-21T00:43:20.402107Z",
     "iopub.status.busy": "2022-11-21T00:43:20.401249Z",
     "iopub.status.idle": "2022-11-21T00:43:20.418495Z",
     "shell.execute_reply": "2022-11-21T00:43:20.419203Z"
    },
    "papermill": {
     "duration": 0.05099,
     "end_time": "2022-11-21T00:43:20.419341",
     "exception": false,
     "start_time": "2022-11-21T00:43:20.368351",
     "status": "completed"
    },
    "tags": []
   },
   "outputs": [
    {
     "data": {
      "text/plain": [
       "((60000, 28, 28), (60000,))"
      ]
     },
     "execution_count": 6,
     "metadata": {},
     "output_type": "execute_result"
    }
   ],
   "source": [
    "train_images.shape, train_labels.shape"
   ]
  },
  {
   "cell_type": "code",
   "execution_count": 7,
   "id": "f50dc2bb",
   "metadata": {
    "execution": {
     "iopub.execute_input": "2022-11-21T00:43:20.491129Z",
     "iopub.status.busy": "2022-11-21T00:43:20.490316Z",
     "iopub.status.idle": "2022-11-21T00:43:20.609863Z",
     "shell.execute_reply": "2022-11-21T00:43:20.609256Z"
    },
    "papermill": {
     "duration": 0.158162,
     "end_time": "2022-11-21T00:43:20.610044",
     "exception": false,
     "start_time": "2022-11-21T00:43:20.451882",
     "status": "completed"
    },
    "tags": []
   },
   "outputs": [],
   "source": [
    "test_images = mnist.test_images()\n",
    "test_labels = mnist.test_labels()"
   ]
  },
  {
   "cell_type": "code",
   "execution_count": 8,
   "id": "fc38cf1b",
   "metadata": {
    "execution": {
     "iopub.execute_input": "2022-11-21T00:43:20.675819Z",
     "iopub.status.busy": "2022-11-21T00:43:20.675153Z",
     "iopub.status.idle": "2022-11-21T00:43:20.690118Z",
     "shell.execute_reply": "2022-11-21T00:43:20.690805Z"
    },
    "papermill": {
     "duration": 0.050453,
     "end_time": "2022-11-21T00:43:20.690959",
     "exception": false,
     "start_time": "2022-11-21T00:43:20.640506",
     "status": "completed"
    },
    "tags": []
   },
   "outputs": [
    {
     "data": {
      "text/plain": [
       "((10000, 28, 28), (10000,))"
      ]
     },
     "execution_count": 8,
     "metadata": {},
     "output_type": "execute_result"
    }
   ],
   "source": [
    "test_images.shape, test_labels.shape"
   ]
  },
  {
   "cell_type": "code",
   "execution_count": 9,
   "id": "f9ed8fe0",
   "metadata": {
    "execution": {
     "iopub.execute_input": "2022-11-21T00:43:20.756604Z",
     "iopub.status.busy": "2022-11-21T00:43:20.755864Z",
     "iopub.status.idle": "2022-11-21T00:43:20.937889Z",
     "shell.execute_reply": "2022-11-21T00:43:20.938472Z"
    },
    "papermill": {
     "duration": 0.218076,
     "end_time": "2022-11-21T00:43:20.938640",
     "exception": false,
     "start_time": "2022-11-21T00:43:20.720564",
     "status": "completed"
    },
    "tags": []
   },
   "outputs": [
    {
     "name": "stdout",
     "output_type": "stream",
     "text": [
      "2\n"
     ]
    },
    {
     "data": {
      "text/plain": [
       "<matplotlib.image.AxesImage at 0x7f2bf9624dd8>"
      ]
     },
     "execution_count": 9,
     "metadata": {},
     "output_type": "execute_result"
    },
    {
     "data": {
      "image/png": "[encoded data removed]",
      "text/plain": [
       "<Figure size 432x288 with 1 Axes>"
      ]
     },
     "metadata": {
      "needs_background": "light"
     },
     "output_type": "display_data"
    }
   ],
   "source": [
    "image_index = 7776 # You may select anything up to 60,000\n",
    "print(train_labels[image_index]) \n",
    "plt.imshow(train_images[image_index], cmap='Greys')"
   ]
  },
  {
   "cell_type": "markdown",
   "id": "a8d2388d",
   "metadata": {
    "papermill": {
     "duration": 0.043395,
     "end_time": "2022-11-21T00:43:21.016465",
     "exception": false,
     "start_time": "2022-11-21T00:43:20.973070",
     "status": "completed"
    },
    "tags": []
   },
   "source": [
    "## Filter data to get 3 and 8 out"
   ]
  },
  {
   "cell_type": "code",
   "execution_count": 10,
   "id": "776f7fc7",
   "metadata": {
    "execution": {
     "iopub.execute_input": "2022-11-21T00:43:21.092507Z",
     "iopub.status.busy": "2022-11-21T00:43:21.091763Z",
     "iopub.status.idle": "2022-11-21T00:43:21.111226Z",
     "shell.execute_reply": "2022-11-21T00:43:21.111885Z"
    },
    "papermill": {
     "duration": 0.059395,
     "end_time": "2022-11-21T00:43:21.112058",
     "exception": false,
     "start_time": "2022-11-21T00:43:21.052663",
     "status": "completed"
    },
    "tags": []
   },
   "outputs": [],
   "source": [
    "train_filter = np.where((train_labels == 3 ) | (train_labels == 8))\n",
    "test_filter = np.where((test_labels == 3) | (test_labels == 8))\n",
    "X_train, y_train = train_images[train_filter], train_labels[train_filter]\n",
    "X_test, y_test = test_images[test_filter], test_labels[test_filter]"
   ]
  },
  {
   "cell_type": "markdown",
   "id": "948f0b7e",
   "metadata": {
    "papermill": {
     "duration": 0.034109,
     "end_time": "2022-11-21T00:43:21.180915",
     "exception": false,
     "start_time": "2022-11-21T00:43:21.146806",
     "status": "completed"
    },
    "tags": []
   },
   "source": [
    "We normalize the pizel values in the 0 to 1 range"
   ]
  },
  {
   "cell_type": "code",
   "execution_count": 11,
   "id": "ee4c2166",
   "metadata": {
    "execution": {
     "iopub.execute_input": "2022-11-21T00:43:21.251340Z",
     "iopub.status.busy": "2022-11-21T00:43:21.250629Z",
     "iopub.status.idle": "2022-11-21T00:43:21.310092Z",
     "shell.execute_reply": "2022-11-21T00:43:21.310650Z"
    },
    "papermill": {
     "duration": 0.097847,
     "end_time": "2022-11-21T00:43:21.310821",
     "exception": false,
     "start_time": "2022-11-21T00:43:21.212974",
     "status": "completed"
    },
    "tags": []
   },
   "outputs": [],
   "source": [
    "X_train = X_train/255.\n",
    "X_test = X_test/255."
   ]
  },
  {
   "cell_type": "markdown",
   "id": "ddcf4fab",
   "metadata": {
    "papermill": {
     "duration": 0.03269,
     "end_time": "2022-11-21T00:43:21.377722",
     "exception": false,
     "start_time": "2022-11-21T00:43:21.345032",
     "status": "completed"
    },
    "tags": []
   },
   "source": [
    "And setup the labels as 1 (when the digit is 3) and 0 (when the digit is 8)"
   ]
  },
  {
   "cell_type": "code",
   "execution_count": 12,
   "id": "7dc908f2",
   "metadata": {
    "execution": {
     "iopub.execute_input": "2022-11-21T00:43:21.446417Z",
     "iopub.status.busy": "2022-11-21T00:43:21.445558Z",
     "iopub.status.idle": "2022-11-21T00:43:21.458665Z",
     "shell.execute_reply": "2022-11-21T00:43:21.459304Z"
    },
    "papermill": {
     "duration": 0.049277,
     "end_time": "2022-11-21T00:43:21.459437",
     "exception": false,
     "start_time": "2022-11-21T00:43:21.410160",
     "status": "completed"
    },
    "tags": []
   },
   "outputs": [],
   "source": [
    "y_train = 1*(y_train==3)\n",
    "y_test = 1*(y_test==3)"
   ]
  },
  {
   "cell_type": "code",
   "execution_count": 13,
   "id": "01e4e969",
   "metadata": {
    "execution": {
     "iopub.execute_input": "2022-11-21T00:43:21.525097Z",
     "iopub.status.busy": "2022-11-21T00:43:21.524405Z",
     "iopub.status.idle": "2022-11-21T00:43:21.538644Z",
     "shell.execute_reply": "2022-11-21T00:43:21.539135Z"
    },
    "papermill": {
     "duration": 0.049642,
     "end_time": "2022-11-21T00:43:21.539283",
     "exception": false,
     "start_time": "2022-11-21T00:43:21.489641",
     "status": "completed"
    },
    "tags": []
   },
   "outputs": [
    {
     "data": {
      "text/plain": [
       "((11982, 28, 28), (1984, 28, 28))"
      ]
     },
     "execution_count": 13,
     "metadata": {},
     "output_type": "execute_result"
    }
   ],
   "source": [
    "X_train.shape, X_test.shape"
   ]
  },
  {
   "cell_type": "markdown",
   "id": "5ccf3f85",
   "metadata": {
    "papermill": {
     "duration": 0.03157,
     "end_time": "2022-11-21T00:43:21.602468",
     "exception": false,
     "start_time": "2022-11-21T00:43:21.570898",
     "status": "completed"
    },
    "tags": []
   },
   "source": [
    "We reshape the data to flatten the image pixels into a set of features or co-variates:"
   ]
  },
  {
   "cell_type": "code",
   "execution_count": 14,
   "id": "5286a4a3",
   "metadata": {
    "execution": {
     "iopub.execute_input": "2022-11-21T00:43:21.671565Z",
     "iopub.status.busy": "2022-11-21T00:43:21.670879Z",
     "iopub.status.idle": "2022-11-21T00:43:21.686809Z",
     "shell.execute_reply": "2022-11-21T00:43:21.686117Z"
    },
    "papermill": {
     "duration": 0.051858,
     "end_time": "2022-11-21T00:43:21.686947",
     "exception": false,
     "start_time": "2022-11-21T00:43:21.635089",
     "status": "completed"
    },
    "tags": []
   },
   "outputs": [
    {
     "data": {
      "text/plain": [
       "((11982, 784), (1984, 784))"
      ]
     },
     "execution_count": 14,
     "metadata": {},
     "output_type": "execute_result"
    }
   ],
   "source": [
    "X_train = X_train.reshape(X_train.shape[0], -1)\n",
    "X_test = X_test.reshape(X_test.shape[0], -1)\n",
    "X_train.shape, X_test.shape"
   ]
  },
  {
   "cell_type": "code",
   "execution_count": 15,
   "id": "73c5f88a",
   "metadata": {
    "execution": {
     "iopub.execute_input": "2022-11-21T00:43:21.761831Z",
     "iopub.status.busy": "2022-11-21T00:43:21.761120Z",
     "iopub.status.idle": "2022-11-21T00:43:21.779217Z",
     "shell.execute_reply": "2022-11-21T00:43:21.779842Z"
    },
    "papermill": {
     "duration": 0.062427,
     "end_time": "2022-11-21T00:43:21.779993",
     "exception": false,
     "start_time": "2022-11-21T00:43:21.717566",
     "status": "completed"
    },
    "tags": []
   },
   "outputs": [],
   "source": [
    "#Impoting functions from 'Kudzu'\n",
    "from kudzu.model import Model\n",
    "from kudzu.train import Learner\n",
    "from kudzu.optim import GD\n",
    "from kudzu.data import Data, Sampler,Dataloader\n",
    "\n",
    "from kudzu.callbacks import AccCallback\n",
    "from kudzu.callbacks import ClfCallback\n",
    "\n",
    "from kudzu.loss import MSE\n",
    "\n",
    "from kudzu.layer import Sigmoid,Relu\n",
    "from kudzu.layer import Affine"
   ]
  },
  {
   "cell_type": "markdown",
   "id": "bc01172a",
   "metadata": {
    "papermill": {
     "duration": 0.031995,
     "end_time": "2022-11-21T00:43:21.843720",
     "exception": false,
     "start_time": "2022-11-21T00:43:21.811725",
     "status": "completed"
    },
    "tags": []
   },
   "source": [
    "### Let us create a `Config` class, to store important parameters. \n",
    "This class essentially plays the role of a dictionary."
   ]
  },
  {
   "cell_type": "code",
   "execution_count": 16,
   "id": "978281aa",
   "metadata": {
    "execution": {
     "iopub.execute_input": "2022-11-21T00:43:21.928275Z",
     "iopub.status.busy": "2022-11-21T00:43:21.927510Z",
     "iopub.status.idle": "2022-11-21T00:43:21.940556Z",
     "shell.execute_reply": "2022-11-21T00:43:21.941129Z"
    },
    "papermill": {
     "duration": 0.064408,
     "end_time": "2022-11-21T00:43:21.941279",
     "exception": false,
     "start_time": "2022-11-21T00:43:21.876871",
     "status": "completed"
    },
    "tags": []
   },
   "outputs": [],
   "source": [
    "class Config:\n",
    "    pass\n",
    "config = Config()\n",
    "config.lr = 0.001\n",
    "config.num_epochs = 250\n",
    "config.bs = 50"
   ]
  },
  {
   "cell_type": "markdown",
   "id": "1385fa59",
   "metadata": {
    "papermill": {
     "duration": 0.035271,
     "end_time": "2022-11-21T00:43:22.011168",
     "exception": false,
     "start_time": "2022-11-21T00:43:21.975897",
     "status": "completed"
    },
    "tags": []
   },
   "source": [
    "### Running Models with the Training data\n",
    "Details about the network layers:\n",
    "- A first affine layer has 784 inputs and does 100 affine transforms. These are followed by a Relu\n",
    "- A second affine layer has 100 inputs from the 100 activations of the past layer, and does 100 affine transforms. These are followed by a Relu\n",
    "- A third affine layer has 100 activations and does 2 affine transformations to create an embedding for visualization. There is no non-linearity here.\n",
    "- A final \"logistic regression\" which has an affine transform from 2 inputs to 1 output, which is squeezed through a sigmoid.\n"
   ]
  },
  {
   "cell_type": "code",
   "execution_count": 17,
   "id": "2b9c66db",
   "metadata": {
    "execution": {
     "iopub.execute_input": "2022-11-21T00:43:22.088978Z",
     "iopub.status.busy": "2022-11-21T00:43:22.088196Z",
     "iopub.status.idle": "2022-11-21T00:43:22.102871Z",
     "shell.execute_reply": "2022-11-21T00:43:22.102132Z"
    },
    "papermill": {
     "duration": 0.056875,
     "end_time": "2022-11-21T00:43:22.103008",
     "exception": false,
     "start_time": "2022-11-21T00:43:22.046133",
     "status": "completed"
    },
    "tags": []
   },
   "outputs": [],
   "source": [
    "data = Data(X_train, y_train.reshape(-1,1))\n",
    "sampler = Sampler(data, config.bs, shuffle=True)\n",
    "\n",
    "dl = Dataloader(data, sampler)\n",
    "\n",
    "opt = GD(config.lr)\n",
    "loss = MSE()"
   ]
  },
  {
   "cell_type": "code",
   "execution_count": 18,
   "id": "b275e4c2",
   "metadata": {
    "execution": {
     "iopub.execute_input": "2022-11-21T00:43:22.173678Z",
     "iopub.status.busy": "2022-11-21T00:43:22.172994Z",
     "iopub.status.idle": "2022-11-21T00:43:22.185834Z",
     "shell.execute_reply": "2022-11-21T00:43:22.185275Z"
    },
    "papermill": {
     "duration": 0.048196,
     "end_time": "2022-11-21T00:43:22.185982",
     "exception": false,
     "start_time": "2022-11-21T00:43:22.137786",
     "status": "completed"
    },
    "tags": []
   },
   "outputs": [],
   "source": [
    "training_data_x = X_train\n",
    "testing_data_x = X_test\n",
    "training_data_y = y_train.reshape(-1,1)\n",
    "testing_data_y = y_test.reshape(-1,1)"
   ]
  },
  {
   "cell_type": "code",
   "execution_count": 19,
   "id": "76951160",
   "metadata": {
    "execution": {
     "iopub.execute_input": "2022-11-21T00:43:22.259124Z",
     "iopub.status.busy": "2022-11-21T00:43:22.258411Z",
     "iopub.status.idle": "2022-11-21T00:43:22.277852Z",
     "shell.execute_reply": "2022-11-21T00:43:22.278624Z"
    },
    "papermill": {
     "duration": 0.059037,
     "end_time": "2022-11-21T00:43:22.278763",
     "exception": false,
     "start_time": "2022-11-21T00:43:22.219726",
     "status": "completed"
    },
    "tags": []
   },
   "outputs": [
    {
     "name": "stdout",
     "output_type": "stream",
     "text": [
      "xavier\n",
      "xavier\n",
      "xavier\n",
      "xavier\n",
      "xavier\n"
     ]
    }
   ],
   "source": [
    "layers = [Affine(\"first\", 784, 100), Relu(\"first\"), Affine(\"second\", 100, 100), Relu(\"second\"), Affine(\"third\", 100, 2), Affine(\"last\", 2, 1), Sigmoid(\"last\")]\n",
    "model_nn = Model(layers)\n",
    "model_lr = Model([Affine(\"logits\", 784, 1), Sigmoid(\"sigmoid\")])"
   ]
  },
  {
   "cell_type": "code",
   "execution_count": 20,
   "id": "6eede77a",
   "metadata": {
    "execution": {
     "iopub.execute_input": "2022-11-21T00:43:22.349066Z",
     "iopub.status.busy": "2022-11-21T00:43:22.348287Z",
     "iopub.status.idle": "2022-11-21T00:43:22.362843Z",
     "shell.execute_reply": "2022-11-21T00:43:22.362176Z"
    },
    "papermill": {
     "duration": 0.051482,
     "end_time": "2022-11-21T00:43:22.363000",
     "exception": false,
     "start_time": "2022-11-21T00:43:22.311518",
     "status": "completed"
    },
    "tags": []
   },
   "outputs": [],
   "source": [
    "nn_learner = Learner(loss, model_nn, opt, config.num_epochs)\n",
    "acc_nn = ClfCallback(nn_learner, config.bs, training_data_x , testing_data_x, training_data_y, testing_data_y)\n",
    "nn_learner.set_callbacks([acc_nn])"
   ]
  },
  {
   "cell_type": "code",
   "execution_count": 21,
   "id": "877b6cc7",
   "metadata": {
    "execution": {
     "iopub.execute_input": "2022-11-21T00:43:22.434815Z",
     "iopub.status.busy": "2022-11-21T00:43:22.434026Z",
     "iopub.status.idle": "2022-11-21T00:43:22.446781Z",
     "shell.execute_reply": "2022-11-21T00:43:22.446129Z"
    },
    "papermill": {
     "duration": 0.051341,
     "end_time": "2022-11-21T00:43:22.446911",
     "exception": false,
     "start_time": "2022-11-21T00:43:22.395570",
     "status": "completed"
    },
    "tags": []
   },
   "outputs": [],
   "source": [
    "lr_learner = Learner(loss, model_lr, opt, config.num_epochs)\n",
    "acc_lr = ClfCallback(lr_learner, config.bs, training_data_x , testing_data_x, training_data_y, testing_data_y)\n",
    "lr_learner.set_callbacks([acc_lr])"
   ]
  },
  {
   "cell_type": "code",
   "execution_count": 22,
   "id": "d9b133c3",
   "metadata": {
    "execution": {
     "iopub.execute_input": "2022-11-21T00:43:22.518443Z",
     "iopub.status.busy": "2022-11-21T00:43:22.517422Z",
     "iopub.status.idle": "2022-11-21T00:45:31.971624Z",
     "shell.execute_reply": "2022-11-21T00:45:31.970304Z"
    },
    "papermill": {
     "duration": 129.490907,
     "end_time": "2022-11-21T00:45:31.971787",
     "exception": false,
     "start_time": "2022-11-21T00:43:22.480880",
     "status": "completed"
    },
    "tags": []
   },
   "outputs": [
    {
     "name": "stdout",
     "output_type": "stream",
     "text": [
      "Epoch 0, Loss 0.2497\n",
      "Training Accuracy: 0.5481, Testing Accuracy: 0.5393\n",
      "\n"
     ]
    },
    {
     "name": "stdout",
     "output_type": "stream",
     "text": [
      "Epoch 10, Loss 0.243\n",
      "Training Accuracy: 0.7997, Testing Accuracy: 0.8029\n",
      "\n"
     ]
    },
    {
     "name": "stdout",
     "output_type": "stream",
     "text": [
      "Epoch 20, Loss 0.2063\n",
      "Training Accuracy: 0.9027, Testing Accuracy: 0.9163\n",
      "\n"
     ]
    },
    {
     "name": "stdout",
     "output_type": "stream",
     "text": [
      "Epoch 30, Loss 0.1012\n",
      "Training Accuracy: 0.9207, Testing Accuracy: 0.9365\n",
      "\n"
     ]
    },
    {
     "name": "stdout",
     "output_type": "stream",
     "text": [
      "Epoch 40, Loss 0.0613\n",
      "Training Accuracy: 0.9365, Testing Accuracy: 0.9511\n",
      "\n"
     ]
    },
    {
     "name": "stdout",
     "output_type": "stream",
     "text": [
      "Epoch 50, Loss 0.0482\n",
      "Training Accuracy: 0.9469, Testing Accuracy: 0.9577\n",
      "\n"
     ]
    },
    {
     "name": "stdout",
     "output_type": "stream",
     "text": [
      "Epoch 60, Loss 0.0417\n",
      "Training Accuracy: 0.9531, Testing Accuracy: 0.9617\n",
      "\n"
     ]
    },
    {
     "name": "stdout",
     "output_type": "stream",
     "text": [
      "Epoch 70, Loss 0.0377\n",
      "Training Accuracy: 0.9567, Testing Accuracy: 0.9652\n",
      "\n"
     ]
    },
    {
     "name": "stdout",
     "output_type": "stream",
     "text": [
      "Epoch 80, Loss 0.035\n",
      "Training Accuracy: 0.9593, Testing Accuracy: 0.9672\n",
      "\n"
     ]
    },
    {
     "name": "stdout",
     "output_type": "stream",
     "text": [
      "Epoch 90, Loss 0.033\n",
      "Training Accuracy: 0.9609, Testing Accuracy: 0.9672\n",
      "\n"
     ]
    },
    {
     "name": "stdout",
     "output_type": "stream",
     "text": [
      "Epoch 100, Loss 0.0314\n",
      "Training Accuracy: 0.9625, Testing Accuracy: 0.9688\n",
      "\n"
     ]
    },
    {
     "name": "stdout",
     "output_type": "stream",
     "text": [
      "Epoch 110, Loss 0.0301\n",
      "Training Accuracy: 0.9645, Testing Accuracy: 0.9688\n",
      "\n"
     ]
    },
    {
     "name": "stdout",
     "output_type": "stream",
     "text": [
      "Epoch 120, Loss 0.029\n",
      "Training Accuracy: 0.9660, Testing Accuracy: 0.9698\n",
      "\n"
     ]
    },
    {
     "name": "stdout",
     "output_type": "stream",
     "text": [
      "Epoch 130, Loss 0.0281\n",
      "Training Accuracy: 0.9673, Testing Accuracy: 0.9708\n",
      "\n"
     ]
    },
    {
     "name": "stdout",
     "output_type": "stream",
     "text": [
      "Epoch 140, Loss 0.0273\n",
      "Training Accuracy: 0.9683, Testing Accuracy: 0.9713\n",
      "\n"
     ]
    },
    {
     "name": "stdout",
     "output_type": "stream",
     "text": [
      "Epoch 150, Loss 0.0266\n",
      "Training Accuracy: 0.9688, Testing Accuracy: 0.9723\n",
      "\n"
     ]
    },
    {
     "name": "stdout",
     "output_type": "stream",
     "text": [
      "Epoch 160, Loss 0.0259\n",
      "Training Accuracy: 0.9698, Testing Accuracy: 0.9718\n",
      "\n"
     ]
    },
    {
     "name": "stdout",
     "output_type": "stream",
     "text": [
      "Epoch 170, Loss 0.0254\n",
      "Training Accuracy: 0.9705, Testing Accuracy: 0.9708\n",
      "\n"
     ]
    },
    {
     "name": "stdout",
     "output_type": "stream",
     "text": [
      "Epoch 180, Loss 0.0248\n",
      "Training Accuracy: 0.9714, Testing Accuracy: 0.9718\n",
      "\n"
     ]
    },
    {
     "name": "stdout",
     "output_type": "stream",
     "text": [
      "Epoch 190, Loss 0.0244\n",
      "Training Accuracy: 0.9719, Testing Accuracy: 0.9718\n",
      "\n"
     ]
    },
    {
     "name": "stdout",
     "output_type": "stream",
     "text": [
      "Epoch 200, Loss 0.0239\n",
      "Training Accuracy: 0.9722, Testing Accuracy: 0.9713\n",
      "\n"
     ]
    },
    {
     "name": "stdout",
     "output_type": "stream",
     "text": [
      "Epoch 210, Loss 0.0235\n",
      "Training Accuracy: 0.9728, Testing Accuracy: 0.9713\n",
      "\n"
     ]
    },
    {
     "name": "stdout",
     "output_type": "stream",
     "text": [
      "Epoch 220, Loss 0.0231\n",
      "Training Accuracy: 0.9735, Testing Accuracy: 0.9713\n",
      "\n"
     ]
    },
    {
     "name": "stdout",
     "output_type": "stream",
     "text": [
      "Epoch 230, Loss 0.0227\n",
      "Training Accuracy: 0.9740, Testing Accuracy: 0.9713\n",
      "\n"
     ]
    },
    {
     "name": "stdout",
     "output_type": "stream",
     "text": [
      "Epoch 240, Loss 0.0224\n",
      "Training Accuracy: 0.9747, Testing Accuracy: 0.9713\n",
      "\n"
     ]
    },
    {
     "data": {
      "text/plain": [
       "0.012356352041518134"
      ]
     },
     "execution_count": 22,
     "metadata": {},
     "output_type": "execute_result"
    }
   ],
   "source": [
    "nn_learner.train_loop(dl)"
   ]
  },
  {
   "cell_type": "code",
   "execution_count": 23,
   "id": "e0163366",
   "metadata": {
    "execution": {
     "iopub.execute_input": "2022-11-21T00:45:32.079369Z",
     "iopub.status.busy": "2022-11-21T00:45:32.078611Z",
     "iopub.status.idle": "2022-11-21T00:45:51.122665Z",
     "shell.execute_reply": "2022-11-21T00:45:51.123736Z"
    },
    "papermill": {
     "duration": 19.10702,
     "end_time": "2022-11-21T00:45:51.123921",
     "exception": false,
     "start_time": "2022-11-21T00:45:32.016901",
     "status": "completed"
    },
    "tags": []
   },
   "outputs": [
    {
     "name": "stdout",
     "output_type": "stream",
     "text": [
      "Epoch 0, Loss 0.2628\n",
      "Training Accuracy: 0.5983, Testing Accuracy: 0.5852\n",
      "\n"
     ]
    },
    {
     "name": "stdout",
     "output_type": "stream",
     "text": [
      "Epoch 10, Loss 0.1047\n",
      "Training Accuracy: 0.9070, Testing Accuracy: 0.9153\n",
      "\n"
     ]
    },
    {
     "name": "stdout",
     "output_type": "stream",
     "text": [
      "Epoch 20, Loss 0.0801\n",
      "Training Accuracy: 0.9264, Testing Accuracy: 0.9340\n",
      "\n"
     ]
    },
    {
     "name": "stdout",
     "output_type": "stream",
     "text": [
      "Epoch 30, Loss 0.069\n",
      "Training Accuracy: 0.9341, Testing Accuracy: 0.9425\n",
      "\n"
     ]
    },
    {
     "name": "stdout",
     "output_type": "stream",
     "text": [
      "Epoch 40, Loss 0.0624\n",
      "Training Accuracy: 0.9392, Testing Accuracy: 0.9486\n",
      "\n"
     ]
    },
    {
     "name": "stdout",
     "output_type": "stream",
     "text": [
      "Epoch 50, Loss 0.0579\n",
      "Training Accuracy: 0.9429, Testing Accuracy: 0.9506\n",
      "\n"
     ]
    },
    {
     "name": "stdout",
     "output_type": "stream",
     "text": [
      "Epoch 60, Loss 0.0545\n",
      "Training Accuracy: 0.9456, Testing Accuracy: 0.9546\n",
      "\n"
     ]
    },
    {
     "name": "stdout",
     "output_type": "stream",
     "text": [
      "Epoch 70, Loss 0.0519\n",
      "Training Accuracy: 0.9473, Testing Accuracy: 0.9572\n",
      "\n"
     ]
    },
    {
     "name": "stdout",
     "output_type": "stream",
     "text": [
      "Epoch 80, Loss 0.0499\n",
      "Training Accuracy: 0.9490, Testing Accuracy: 0.9572\n",
      "\n"
     ]
    },
    {
     "name": "stdout",
     "output_type": "stream",
     "text": [
      "Epoch 90, Loss 0.0481\n",
      "Training Accuracy: 0.9505, Testing Accuracy: 0.9602\n",
      "\n"
     ]
    },
    {
     "name": "stdout",
     "output_type": "stream",
     "text": [
      "Epoch 100, Loss 0.0467\n",
      "Training Accuracy: 0.9518, Testing Accuracy: 0.9607\n",
      "\n"
     ]
    },
    {
     "name": "stdout",
     "output_type": "stream",
     "text": [
      "Epoch 110, Loss 0.0455\n",
      "Training Accuracy: 0.9526, Testing Accuracy: 0.9622\n",
      "\n"
     ]
    },
    {
     "name": "stdout",
     "output_type": "stream",
     "text": [
      "Epoch 120, Loss 0.0444\n",
      "Training Accuracy: 0.9533, Testing Accuracy: 0.9622\n",
      "\n"
     ]
    },
    {
     "name": "stdout",
     "output_type": "stream",
     "text": [
      "Epoch 130, Loss 0.0434\n",
      "Training Accuracy: 0.9545, Testing Accuracy: 0.9622\n",
      "\n"
     ]
    },
    {
     "name": "stdout",
     "output_type": "stream",
     "text": [
      "Epoch 140, Loss 0.0426\n",
      "Training Accuracy: 0.9551, Testing Accuracy: 0.9627\n",
      "\n"
     ]
    },
    {
     "name": "stdout",
     "output_type": "stream",
     "text": [
      "Epoch 150, Loss 0.0418\n",
      "Training Accuracy: 0.9561, Testing Accuracy: 0.9622\n",
      "\n"
     ]
    },
    {
     "name": "stdout",
     "output_type": "stream",
     "text": [
      "Epoch 160, Loss 0.0411\n",
      "Training Accuracy: 0.9568, Testing Accuracy: 0.9627\n",
      "\n"
     ]
    },
    {
     "name": "stdout",
     "output_type": "stream",
     "text": [
      "Epoch 170, Loss 0.0405\n",
      "Training Accuracy: 0.9572, Testing Accuracy: 0.9632\n",
      "\n"
     ]
    },
    {
     "name": "stdout",
     "output_type": "stream",
     "text": [
      "Epoch 180, Loss 0.0399\n",
      "Training Accuracy: 0.9577, Testing Accuracy: 0.9637\n",
      "\n"
     ]
    },
    {
     "name": "stdout",
     "output_type": "stream",
     "text": [
      "Epoch 190, Loss 0.0394\n",
      "Training Accuracy: 0.9583, Testing Accuracy: 0.9642\n",
      "\n"
     ]
    },
    {
     "name": "stdout",
     "output_type": "stream",
     "text": [
      "Epoch 200, Loss 0.0389\n",
      "Training Accuracy: 0.9586, Testing Accuracy: 0.9642\n",
      "\n"
     ]
    },
    {
     "name": "stdout",
     "output_type": "stream",
     "text": [
      "Epoch 210, Loss 0.0385\n",
      "Training Accuracy: 0.9589, Testing Accuracy: 0.9647\n",
      "\n"
     ]
    },
    {
     "name": "stdout",
     "output_type": "stream",
     "text": [
      "Epoch 220, Loss 0.038\n",
      "Training Accuracy: 0.9591, Testing Accuracy: 0.9647\n",
      "\n"
     ]
    },
    {
     "name": "stdout",
     "output_type": "stream",
     "text": [
      "Epoch 230, Loss 0.0376\n",
      "Training Accuracy: 0.9591, Testing Accuracy: 0.9652\n",
      "\n"
     ]
    },
    {
     "name": "stdout",
     "output_type": "stream",
     "text": [
      "Epoch 240, Loss 0.0373\n",
      "Training Accuracy: 0.9598, Testing Accuracy: 0.9657\n",
      "\n"
     ]
    },
    {
     "data": {
      "text/plain": [
       "0.019637668259919357"
      ]
     },
     "execution_count": 23,
     "metadata": {},
     "output_type": "execute_result"
    }
   ],
   "source": [
    "lr_learner.train_loop(dl)"
   ]
  },
  {
   "cell_type": "code",
   "execution_count": 24,
   "id": "ca410940",
   "metadata": {
    "execution": {
     "iopub.execute_input": "2022-11-21T00:45:51.236400Z",
     "iopub.status.busy": "2022-11-21T00:45:51.235617Z",
     "iopub.status.idle": "2022-11-21T00:45:51.523433Z",
     "shell.execute_reply": "2022-11-21T00:45:51.524531Z"
    },
    "papermill": {
     "duration": 0.346417,
     "end_time": "2022-11-21T00:45:51.524708",
     "exception": false,
     "start_time": "2022-11-21T00:45:51.178291",
     "status": "completed"
    },
    "tags": []
   },
   "outputs": [
    {
     "data": {
      "text/plain": [
       "<matplotlib.legend.Legend at 0x7f2bec9e6588>"
      ]
     },
     "execution_count": 24,
     "metadata": {},
     "output_type": "execute_result"
    },
    {
     "data": {
      "image/png": "[encoded data removed]",
      "text/plain": [
       "<Figure size 1080x720 with 1 Axes>"
      ]
     },
     "metadata": {
      "needs_background": "light"
     },
     "output_type": "display_data"
    }
   ],
   "source": [
    "#comparing the results of NN and LR\n",
    "plt.figure(figsize=(15,10))\n",
    "\n",
    "# Neural Network plots\n",
    "plt.plot(acc_nn.accuracies, 'r-', label = \"Training Accuracies - NN\")\n",
    "plt.plot(acc_nn.test_accuracies, 'g-', label = \"Testing Accuracies - NN\")\n",
    "\n",
    "# Logistic Regression plots\n",
    "plt.plot(acc_lr.accuracies, 'k-', label = \"Training Accuracies - LR\")\n",
    "plt.plot(acc_lr.test_accuracies, 'b-', label = \"Testing Accuracies - LR\")\n",
    "plt.legend()"
   ]
  },
  {
   "cell_type": "markdown",
   "id": "80dfb35c",
   "metadata": {
    "papermill": {
     "duration": 0.062339,
     "end_time": "2022-11-21T00:45:51.644201",
     "exception": false,
     "start_time": "2022-11-21T00:45:51.581862",
     "status": "completed"
    },
    "tags": []
   },
   "source": [
    "#### Plotting the outputs of this layer of the NN.\n"
   ]
  },
  {
   "cell_type": "code",
   "execution_count": 25,
   "id": "45eb2ff5",
   "metadata": {
    "execution": {
     "iopub.execute_input": "2022-11-21T00:45:51.766607Z",
     "iopub.status.busy": "2022-11-21T00:45:51.765799Z",
     "iopub.status.idle": "2022-11-21T00:45:51.793877Z",
     "shell.execute_reply": "2022-11-21T00:45:51.793218Z"
    },
    "papermill": {
     "duration": 0.090896,
     "end_time": "2022-11-21T00:45:51.794054",
     "exception": false,
     "start_time": "2022-11-21T00:45:51.703158",
     "status": "completed"
    },
    "tags": []
   },
   "outputs": [],
   "source": [
    "new_model = Model(layers[:-2])\n",
    "testing_plot = new_model(testing_data_x)"
   ]
  },
  {
   "cell_type": "code",
   "execution_count": 26,
   "id": "4c0a5485",
   "metadata": {
    "execution": {
     "iopub.execute_input": "2022-11-21T00:45:51.918354Z",
     "iopub.status.busy": "2022-11-21T00:45:51.917578Z",
     "iopub.status.idle": "2022-11-21T00:45:52.170502Z",
     "shell.execute_reply": "2022-11-21T00:45:52.171121Z"
    },
    "papermill": {
     "duration": 0.316733,
     "end_time": "2022-11-21T00:45:52.171287",
     "exception": false,
     "start_time": "2022-11-21T00:45:51.854554",
     "status": "completed"
    },
    "tags": []
   },
   "outputs": [
    {
     "data": {
      "text/plain": [
       "Text(0.5, 1.0, 'Outputs')"
      ]
     },
     "execution_count": 26,
     "metadata": {},
     "output_type": "execute_result"
    },
    {
     "data": {
      "image/png": "[encoded data removed]",
      "text/plain": [
       "<Figure size 576x504 with 1 Axes>"
      ]
     },
     "metadata": {
      "needs_background": "light"
     },
     "output_type": "display_data"
    }
   ],
   "source": [
    "# Plotting the scatter plot of points and color coding by class\n",
    "plt.figure(figsize=(8,7))\n",
    "plt.scatter(testing_plot[:,0], testing_plot[:,1], alpha = 0.1, c = y_test.ravel());\n",
    "plt.title('Outputs')"
   ]
  },
  {
   "cell_type": "markdown",
   "id": "a74fcf8f",
   "metadata": {
    "papermill": {
     "duration": 0.057407,
     "end_time": "2022-11-21T00:45:52.285617",
     "exception": false,
     "start_time": "2022-11-21T00:45:52.228210",
     "status": "completed"
    },
    "tags": []
   },
   "source": [
    "Probability contours"
   ]
  },
  {
   "cell_type": "code",
   "execution_count": 27,
   "id": "d0afc8e3",
   "metadata": {
    "execution": {
     "iopub.execute_input": "2022-11-21T00:45:52.403521Z",
     "iopub.status.busy": "2022-11-21T00:45:52.402647Z",
     "iopub.status.idle": "2022-11-21T00:45:52.418795Z",
     "shell.execute_reply": "2022-11-21T00:45:52.418165Z"
    },
    "papermill": {
     "duration": 0.076897,
     "end_time": "2022-11-21T00:45:52.418946",
     "exception": false,
     "start_time": "2022-11-21T00:45:52.342049",
     "status": "completed"
    },
    "tags": []
   },
   "outputs": [],
   "source": [
    "model_prob = Model(layers[-2:]) "
   ]
  },
  {
   "cell_type": "code",
   "execution_count": 28,
   "id": "9b96e238",
   "metadata": {
    "execution": {
     "iopub.execute_input": "2022-11-21T00:45:52.581255Z",
     "iopub.status.busy": "2022-11-21T00:45:52.580439Z",
     "iopub.status.idle": "2022-11-21T00:45:52.598399Z",
     "shell.execute_reply": "2022-11-21T00:45:52.599496Z"
    },
    "papermill": {
     "duration": 0.088184,
     "end_time": "2022-11-21T00:45:52.599685",
     "exception": false,
     "start_time": "2022-11-21T00:45:52.511501",
     "status": "completed"
    },
    "tags": []
   },
   "outputs": [],
   "source": [
    "#creating the x and y ranges according to the above generated plot.\n",
    "x_range = np.linspace(-4, 1, 100) \n",
    "y_range = np.linspace(-6, 6, 100) \n",
    "x_grid, y_grid = np.meshgrid(x_range, y_range) # x_grid and y_grig are of size 100 X 100\n",
    "\n",
    "# converting x_grid and y_grid to continuous arrays\n",
    "x_gridflat = np.ravel(x_grid)\n",
    "y_gridflat = np.ravel(y_grid)\n",
    "\n",
    "# The last layer of the current model takes two columns as input. Hence transpose of np.vstack() is required.\n",
    "X = np.vstack((x_gridflat, y_gridflat)).T\n",
    "\n",
    "prob_contour = model_prob(X).reshape(100,100) "
   ]
  },
  {
   "cell_type": "code",
   "execution_count": 29,
   "id": "da72499a",
   "metadata": {
    "execution": {
     "iopub.execute_input": "2022-11-21T00:45:52.724540Z",
     "iopub.status.busy": "2022-11-21T00:45:52.723769Z",
     "iopub.status.idle": "2022-11-21T00:45:53.053389Z",
     "shell.execute_reply": "2022-11-21T00:45:53.052760Z"
    },
    "papermill": {
     "duration": 0.393696,
     "end_time": "2022-11-21T00:45:53.053546",
     "exception": false,
     "start_time": "2022-11-21T00:45:52.659850",
     "status": "completed"
    },
    "tags": []
   },
   "outputs": [
    {
     "data": {
      "image/png": "[encoded data removed]",
      "text/plain": [
       "<Figure size 720x648 with 1 Axes>"
      ]
     },
     "metadata": {
      "needs_background": "light"
     },
     "output_type": "display_data"
    }
   ],
   "source": [
    "plt.figure(figsize=(10,9))\n",
    "plt.scatter(testing_plot[:,0], testing_plot[:,1], alpha = 0.1, c = y_test.ravel())\n",
    "contours = plt.contour(x_grid,y_grid,prob_contour)\n",
    "plt.title('Probability Contours')\n",
    "plt.clabel(contours, inline = True );"
   ]
  },
  {
   "cell_type": "code",
   "execution_count": null,
   "id": "e81b4ac7",
   "metadata": {
    "papermill": {
     "duration": 0.05779,
     "end_time": "2022-11-21T00:45:53.168869",
     "exception": false,
     "start_time": "2022-11-21T00:45:53.111079",
     "status": "completed"
    },
    "tags": []
   },
   "outputs": [],
   "source": []
  }
 ],
 "metadata": {
  "kernelspec": {
   "display_name": "Python 3",
   "language": "python",
   "name": "python3"
  },
  "language_info": {
   "codemirror_mode": {
    "name": "ipython",
    "version": 3
   },
   "file_extension": ".py",
   "mimetype": "text/x-python",
   "name": "python",
   "nbconvert_exporter": "python",
   "pygments_lexer": "ipython3",
   "version": "3.6.15"
  },
  "papermill": {
   "default_parameters": {},
   "duration": 159.003811,
   "end_time": "2022-11-21T00:45:53.644749",
   "environment_variables": {},
   "exception": null,
   "input_path": "2020-08-11-part2.ipynb",
   "output_path": "2020-08-11-part2.ipynb",
   "parameters": {},
   "start_time": "2022-11-21T00:43:14.640938",
   "version": "2.3.3"
  }
 },
 "nbformat": 4,
 "nbformat_minor": 5
}