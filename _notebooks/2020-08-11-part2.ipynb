{
 "cells": [
  {
   "cell_type": "markdown",
   "id": "98380cd3",
   "metadata": {
    "papermill": {
     "duration": 0.036006,
     "end_time": "2022-10-18T10:15:52.809950",
     "exception": false,
     "start_time": "2022-10-18T10:15:52.773944",
     "status": "completed"
    },
    "tags": []
   },
   "source": [
    "# Distinguish Your Own Digits (DYOD)"
   ]
  },
  {
   "cell_type": "markdown",
   "id": "ef31240d",
   "metadata": {
    "papermill": {
     "duration": 0.027219,
     "end_time": "2022-10-18T10:15:52.866943",
     "exception": false,
     "start_time": "2022-10-18T10:15:52.839724",
     "status": "completed"
    },
    "tags": []
   },
   "source": [
    "You are going to write a classifier that distinguishes between the number 3 and number 8."
   ]
  },
  {
   "cell_type": "code",
   "execution_count": 1,
   "id": "b15c8646",
   "metadata": {
    "execution": {
     "iopub.execute_input": "2022-10-18T10:15:52.935170Z",
     "iopub.status.busy": "2022-10-18T10:15:52.933896Z",
     "iopub.status.idle": "2022-10-18T10:15:52.945319Z",
     "shell.execute_reply": "2022-10-18T10:15:52.944786Z"
    },
    "papermill": {
     "duration": 0.051927,
     "end_time": "2022-10-18T10:15:52.945458",
     "exception": false,
     "start_time": "2022-10-18T10:15:52.893531",
     "status": "completed"
    },
    "tags": []
   },
   "outputs": [],
   "source": [
    "%load_ext autoreload\n",
    "%autoreload 2"
   ]
  },
  {
   "cell_type": "code",
   "execution_count": 2,
   "id": "22ef38dc",
   "metadata": {
    "execution": {
     "iopub.execute_input": "2022-10-18T10:15:53.010575Z",
     "iopub.status.busy": "2022-10-18T10:15:53.009871Z",
     "iopub.status.idle": "2022-10-18T10:15:53.648577Z",
     "shell.execute_reply": "2022-10-18T10:15:53.649487Z"
    },
    "papermill": {
     "duration": 0.674372,
     "end_time": "2022-10-18T10:15:53.649742",
     "exception": false,
     "start_time": "2022-10-18T10:15:52.975370",
     "status": "completed"
    },
    "tags": []
   },
   "outputs": [],
   "source": [
    "%matplotlib inline\n",
    "import numpy as np\n",
    "import matplotlib.pyplot as plt\n",
    "import pandas as pd"
   ]
  },
  {
   "cell_type": "markdown",
   "id": "ba036198",
   "metadata": {
    "papermill": {
     "duration": 0.030659,
     "end_time": "2022-10-18T10:15:53.710305",
     "exception": false,
     "start_time": "2022-10-18T10:15:53.679646",
     "status": "completed"
    },
    "tags": []
   },
   "source": [
    "From the command line run `pip install mnist`. This is a library that will help you bring down the mnist dataset. If you run this from a notebook, you need to put  `!pip install mnist` in a cell by itself."
   ]
  },
  {
   "cell_type": "code",
   "execution_count": 3,
   "id": "bb6ad8a1",
   "metadata": {
    "execution": {
     "iopub.execute_input": "2022-10-18T10:15:53.770262Z",
     "iopub.status.busy": "2022-10-18T10:15:53.769567Z",
     "iopub.status.idle": "2022-10-18T10:15:56.466528Z",
     "shell.execute_reply": "2022-10-18T10:15:56.467603Z"
    },
    "papermill": {
     "duration": 2.729201,
     "end_time": "2022-10-18T10:15:56.467786",
     "exception": false,
     "start_time": "2022-10-18T10:15:53.738585",
     "status": "completed"
    },
    "tags": []
   },
   "outputs": [
    {
     "name": "stdout",
     "output_type": "stream",
     "text": [
      "Collecting mnist\r\n",
      "  Downloading mnist-0.2.2-py2.py3-none-any.whl (3.5 kB)\r\n"
     ]
    },
    {
     "name": "stdout",
     "output_type": "stream",
     "text": [
      "Requirement already satisfied: numpy in /opt/hostedtoolcache/Python/3.6.15/x64/lib/python3.6/site-packages (from mnist) (1.19.5)\r\n"
     ]
    },
    {
     "name": "stdout",
     "output_type": "stream",
     "text": [
      "Installing collected packages: mnist\r\n"
     ]
    },
    {
     "name": "stdout",
     "output_type": "stream",
     "text": [
      "Successfully installed mnist-0.2.2\r\n"
     ]
    }
   ],
   "source": [
    "!pip install mnist"
   ]
  },
  {
   "cell_type": "markdown",
   "id": "69df9c9a",
   "metadata": {
    "papermill": {
     "duration": 0.028606,
     "end_time": "2022-10-18T10:15:56.525122",
     "exception": false,
     "start_time": "2022-10-18T10:15:56.496516",
     "status": "completed"
    },
    "tags": []
   },
   "source": [
    "## Preparing the Data"
   ]
  },
  {
   "cell_type": "code",
   "execution_count": 4,
   "id": "7f69d806",
   "metadata": {
    "execution": {
     "iopub.execute_input": "2022-10-18T10:15:56.588114Z",
     "iopub.status.busy": "2022-10-18T10:15:56.587439Z",
     "iopub.status.idle": "2022-10-18T10:15:56.604670Z",
     "shell.execute_reply": "2022-10-18T10:15:56.604165Z"
    },
    "papermill": {
     "duration": 0.051349,
     "end_time": "2022-10-18T10:15:56.604797",
     "exception": false,
     "start_time": "2022-10-18T10:15:56.553448",
     "status": "completed"
    },
    "tags": []
   },
   "outputs": [],
   "source": [
    "import mnist"
   ]
  },
  {
   "cell_type": "code",
   "execution_count": 5,
   "id": "a411e44f",
   "metadata": {
    "execution": {
     "iopub.execute_input": "2022-10-18T10:15:56.670254Z",
     "iopub.status.busy": "2022-10-18T10:15:56.669437Z",
     "iopub.status.idle": "2022-10-18T10:15:57.220293Z",
     "shell.execute_reply": "2022-10-18T10:15:57.219709Z"
    },
    "papermill": {
     "duration": 0.587178,
     "end_time": "2022-10-18T10:15:57.220424",
     "exception": false,
     "start_time": "2022-10-18T10:15:56.633246",
     "status": "completed"
    },
    "tags": []
   },
   "outputs": [],
   "source": [
    "train_images = mnist.train_images()\n",
    "train_labels = mnist.train_labels()"
   ]
  },
  {
   "cell_type": "code",
   "execution_count": 6,
   "id": "dceab3a5",
   "metadata": {
    "execution": {
     "iopub.execute_input": "2022-10-18T10:15:57.282000Z",
     "iopub.status.busy": "2022-10-18T10:15:57.281321Z",
     "iopub.status.idle": "2022-10-18T10:15:57.298916Z",
     "shell.execute_reply": "2022-10-18T10:15:57.300173Z"
    },
    "papermill": {
     "duration": 0.051569,
     "end_time": "2022-10-18T10:15:57.300337",
     "exception": false,
     "start_time": "2022-10-18T10:15:57.248768",
     "status": "completed"
    },
    "tags": []
   },
   "outputs": [
    {
     "data": {
      "text/plain": [
       "((60000, 28, 28), (60000,))"
      ]
     },
     "execution_count": 6,
     "metadata": {},
     "output_type": "execute_result"
    }
   ],
   "source": [
    "train_images.shape, train_labels.shape"
   ]
  },
  {
   "cell_type": "code",
   "execution_count": 7,
   "id": "f50dc2bb",
   "metadata": {
    "execution": {
     "iopub.execute_input": "2022-10-18T10:15:57.365191Z",
     "iopub.status.busy": "2022-10-18T10:15:57.364495Z",
     "iopub.status.idle": "2022-10-18T10:15:57.517585Z",
     "shell.execute_reply": "2022-10-18T10:15:57.516780Z"
    },
    "papermill": {
     "duration": 0.187361,
     "end_time": "2022-10-18T10:15:57.517734",
     "exception": false,
     "start_time": "2022-10-18T10:15:57.330373",
     "status": "completed"
    },
    "tags": []
   },
   "outputs": [],
   "source": [
    "test_images = mnist.test_images()\n",
    "test_labels = mnist.test_labels()"
   ]
  },
  {
   "cell_type": "code",
   "execution_count": 8,
   "id": "fc38cf1b",
   "metadata": {
    "execution": {
     "iopub.execute_input": "2022-10-18T10:15:57.589851Z",
     "iopub.status.busy": "2022-10-18T10:15:57.588608Z",
     "iopub.status.idle": "2022-10-18T10:15:57.603846Z",
     "shell.execute_reply": "2022-10-18T10:15:57.603267Z"
    },
    "papermill": {
     "duration": 0.055299,
     "end_time": "2022-10-18T10:15:57.603988",
     "exception": false,
     "start_time": "2022-10-18T10:15:57.548689",
     "status": "completed"
    },
    "tags": []
   },
   "outputs": [
    {
     "data": {
      "text/plain": [
       "((10000, 28, 28), (10000,))"
      ]
     },
     "execution_count": 8,
     "metadata": {},
     "output_type": "execute_result"
    }
   ],
   "source": [
    "test_images.shape, test_labels.shape"
   ]
  },
  {
   "cell_type": "code",
   "execution_count": 9,
   "id": "f9ed8fe0",
   "metadata": {
    "execution": {
     "iopub.execute_input": "2022-10-18T10:15:57.673613Z",
     "iopub.status.busy": "2022-10-18T10:15:57.672963Z",
     "iopub.status.idle": "2022-10-18T10:15:57.833634Z",
     "shell.execute_reply": "2022-10-18T10:15:57.834152Z"
    },
    "papermill": {
     "duration": 0.19735,
     "end_time": "2022-10-18T10:15:57.834321",
     "exception": false,
     "start_time": "2022-10-18T10:15:57.636971",
     "status": "completed"
    },
    "tags": []
   },
   "outputs": [
    {
     "name": "stdout",
     "output_type": "stream",
     "text": [
      "2\n"
     ]
    },
    {
     "data": {
      "text/plain": [
       "<matplotlib.image.AxesImage at 0x7f7bca32dc88>"
      ]
     },
     "execution_count": 9,
     "metadata": {},
     "output_type": "execute_result"
    },
    {
     "data": {
      "image/png": "[encoded data removed]",
      "text/plain": [
       "<Figure size 432x288 with 1 Axes>"
      ]
     },
     "metadata": {
      "needs_background": "light"
     },
     "output_type": "display_data"
    }
   ],
   "source": [
    "image_index = 7776 # You may select anything up to 60,000\n",
    "print(train_labels[image_index]) \n",
    "plt.imshow(train_images[image_index], cmap='Greys')"
   ]
  },
  {
   "cell_type": "markdown",
   "id": "a8d2388d",
   "metadata": {
    "papermill": {
     "duration": 0.031758,
     "end_time": "2022-10-18T10:15:57.901807",
     "exception": false,
     "start_time": "2022-10-18T10:15:57.870049",
     "status": "completed"
    },
    "tags": []
   },
   "source": [
    "## Filter data to get 3 and 8 out"
   ]
  },
  {
   "cell_type": "code",
   "execution_count": 10,
   "id": "776f7fc7",
   "metadata": {
    "execution": {
     "iopub.execute_input": "2022-10-18T10:15:57.972701Z",
     "iopub.status.busy": "2022-10-18T10:15:57.971969Z",
     "iopub.status.idle": "2022-10-18T10:15:57.993500Z",
     "shell.execute_reply": "2022-10-18T10:15:57.992913Z"
    },
    "papermill": {
     "duration": 0.060025,
     "end_time": "2022-10-18T10:15:57.993629",
     "exception": false,
     "start_time": "2022-10-18T10:15:57.933604",
     "status": "completed"
    },
    "tags": []
   },
   "outputs": [],
   "source": [
    "train_filter = np.where((train_labels == 3 ) | (train_labels == 8))\n",
    "test_filter = np.where((test_labels == 3) | (test_labels == 8))\n",
    "X_train, y_train = train_images[train_filter], train_labels[train_filter]\n",
    "X_test, y_test = test_images[test_filter], test_labels[test_filter]"
   ]
  },
  {
   "cell_type": "markdown",
   "id": "948f0b7e",
   "metadata": {
    "papermill": {
     "duration": 0.030476,
     "end_time": "2022-10-18T10:15:58.054504",
     "exception": false,
     "start_time": "2022-10-18T10:15:58.024028",
     "status": "completed"
    },
    "tags": []
   },
   "source": [
    "We normalize the pizel values in the 0 to 1 range"
   ]
  },
  {
   "cell_type": "code",
   "execution_count": 11,
   "id": "ee4c2166",
   "metadata": {
    "execution": {
     "iopub.execute_input": "2022-10-18T10:15:58.119822Z",
     "iopub.status.busy": "2022-10-18T10:15:58.119124Z",
     "iopub.status.idle": "2022-10-18T10:15:58.172687Z",
     "shell.execute_reply": "2022-10-18T10:15:58.172077Z"
    },
    "papermill": {
     "duration": 0.087845,
     "end_time": "2022-10-18T10:15:58.172819",
     "exception": false,
     "start_time": "2022-10-18T10:15:58.084974",
     "status": "completed"
    },
    "tags": []
   },
   "outputs": [],
   "source": [
    "X_train = X_train/255.\n",
    "X_test = X_test/255."
   ]
  },
  {
   "cell_type": "markdown",
   "id": "ddcf4fab",
   "metadata": {
    "papermill": {
     "duration": 0.030084,
     "end_time": "2022-10-18T10:15:58.234671",
     "exception": false,
     "start_time": "2022-10-18T10:15:58.204587",
     "status": "completed"
    },
    "tags": []
   },
   "source": [
    "And setup the labels as 1 (when the digit is 3) and 0 (when the digit is 8)"
   ]
  },
  {
   "cell_type": "code",
   "execution_count": 12,
   "id": "7dc908f2",
   "metadata": {
    "execution": {
     "iopub.execute_input": "2022-10-18T10:15:58.302936Z",
     "iopub.status.busy": "2022-10-18T10:15:58.302229Z",
     "iopub.status.idle": "2022-10-18T10:15:58.318159Z",
     "shell.execute_reply": "2022-10-18T10:15:58.317190Z"
    },
    "papermill": {
     "duration": 0.053093,
     "end_time": "2022-10-18T10:15:58.318406",
     "exception": false,
     "start_time": "2022-10-18T10:15:58.265313",
     "status": "completed"
    },
    "tags": []
   },
   "outputs": [],
   "source": [
    "y_train = 1*(y_train==3)\n",
    "y_test = 1*(y_test==3)"
   ]
  },
  {
   "cell_type": "code",
   "execution_count": 13,
   "id": "01e4e969",
   "metadata": {
    "execution": {
     "iopub.execute_input": "2022-10-18T10:15:58.389551Z",
     "iopub.status.busy": "2022-10-18T10:15:58.388863Z",
     "iopub.status.idle": "2022-10-18T10:15:58.406329Z",
     "shell.execute_reply": "2022-10-18T10:15:58.407169Z"
    },
    "papermill": {
     "duration": 0.055902,
     "end_time": "2022-10-18T10:15:58.407322",
     "exception": false,
     "start_time": "2022-10-18T10:15:58.351420",
     "status": "completed"
    },
    "tags": []
   },
   "outputs": [
    {
     "data": {
      "text/plain": [
       "((11982, 28, 28), (1984, 28, 28))"
      ]
     },
     "execution_count": 13,
     "metadata": {},
     "output_type": "execute_result"
    }
   ],
   "source": [
    "X_train.shape, X_test.shape"
   ]
  },
  {
   "cell_type": "markdown",
   "id": "5ccf3f85",
   "metadata": {
    "papermill": {
     "duration": 0.030501,
     "end_time": "2022-10-18T10:15:58.468427",
     "exception": false,
     "start_time": "2022-10-18T10:15:58.437926",
     "status": "completed"
    },
    "tags": []
   },
   "source": [
    "We reshape the data to flatten the image pixels into a set of features or co-variates:"
   ]
  },
  {
   "cell_type": "code",
   "execution_count": 14,
   "id": "5286a4a3",
   "metadata": {
    "execution": {
     "iopub.execute_input": "2022-10-18T10:15:58.535911Z",
     "iopub.status.busy": "2022-10-18T10:15:58.535223Z",
     "iopub.status.idle": "2022-10-18T10:15:58.551970Z",
     "shell.execute_reply": "2022-10-18T10:15:58.551411Z"
    },
    "papermill": {
     "duration": 0.052141,
     "end_time": "2022-10-18T10:15:58.552100",
     "exception": false,
     "start_time": "2022-10-18T10:15:58.499959",
     "status": "completed"
    },
    "tags": []
   },
   "outputs": [
    {
     "data": {
      "text/plain": [
       "((11982, 784), (1984, 784))"
      ]
     },
     "execution_count": 14,
     "metadata": {},
     "output_type": "execute_result"
    }
   ],
   "source": [
    "X_train = X_train.reshape(X_train.shape[0], -1)\n",
    "X_test = X_test.reshape(X_test.shape[0], -1)\n",
    "X_train.shape, X_test.shape"
   ]
  },
  {
   "cell_type": "code",
   "execution_count": 15,
   "id": "73c5f88a",
   "metadata": {
    "execution": {
     "iopub.execute_input": "2022-10-18T10:15:58.620578Z",
     "iopub.status.busy": "2022-10-18T10:15:58.619880Z",
     "iopub.status.idle": "2022-10-18T10:15:58.642766Z",
     "shell.execute_reply": "2022-10-18T10:15:58.642182Z"
    },
    "papermill": {
     "duration": 0.060036,
     "end_time": "2022-10-18T10:15:58.642902",
     "exception": false,
     "start_time": "2022-10-18T10:15:58.582866",
     "status": "completed"
    },
    "tags": []
   },
   "outputs": [],
   "source": [
    "#Impoting functions from 'Kudzu'\n",
    "from kudzu.model import Model\n",
    "from kudzu.train import Learner\n",
    "from kudzu.optim import GD\n",
    "from kudzu.data import Data, Sampler,Dataloader\n",
    "\n",
    "from kudzu.callbacks import AccCallback\n",
    "from kudzu.callbacks import ClfCallback\n",
    "\n",
    "from kudzu.loss import MSE\n",
    "\n",
    "from kudzu.layer import Sigmoid,Relu\n",
    "from kudzu.layer import Affine"
   ]
  },
  {
   "cell_type": "markdown",
   "id": "bc01172a",
   "metadata": {
    "papermill": {
     "duration": 0.031438,
     "end_time": "2022-10-18T10:15:58.705245",
     "exception": false,
     "start_time": "2022-10-18T10:15:58.673807",
     "status": "completed"
    },
    "tags": []
   },
   "source": [
    "### Let us create a `Config` class, to store important parameters. \n",
    "This class essentially plays the role of a dictionary."
   ]
  },
  {
   "cell_type": "code",
   "execution_count": 16,
   "id": "978281aa",
   "metadata": {
    "execution": {
     "iopub.execute_input": "2022-10-18T10:15:58.771931Z",
     "iopub.status.busy": "2022-10-18T10:15:58.770837Z",
     "iopub.status.idle": "2022-10-18T10:15:58.788504Z",
     "shell.execute_reply": "2022-10-18T10:15:58.784663Z"
    },
    "papermill": {
     "duration": 0.052818,
     "end_time": "2022-10-18T10:15:58.788651",
     "exception": false,
     "start_time": "2022-10-18T10:15:58.735833",
     "status": "completed"
    },
    "tags": []
   },
   "outputs": [],
   "source": [
    "class Config:\n",
    "    pass\n",
    "config = Config()\n",
    "config.lr = 0.001\n",
    "config.num_epochs = 250\n",
    "config.bs = 50"
   ]
  },
  {
   "cell_type": "markdown",
   "id": "1385fa59",
   "metadata": {
    "papermill": {
     "duration": 0.030732,
     "end_time": "2022-10-18T10:15:58.850526",
     "exception": false,
     "start_time": "2022-10-18T10:15:58.819794",
     "status": "completed"
    },
    "tags": []
   },
   "source": [
    "### Running Models with the Training data\n",
    "Details about the network layers:\n",
    "- A first affine layer has 784 inputs and does 100 affine transforms. These are followed by a Relu\n",
    "- A second affine layer has 100 inputs from the 100 activations of the past layer, and does 100 affine transforms. These are followed by a Relu\n",
    "- A third affine layer has 100 activations and does 2 affine transformations to create an embedding for visualization. There is no non-linearity here.\n",
    "- A final \"logistic regression\" which has an affine transform from 2 inputs to 1 output, which is squeezed through a sigmoid.\n"
   ]
  },
  {
   "cell_type": "code",
   "execution_count": 17,
   "id": "2b9c66db",
   "metadata": {
    "execution": {
     "iopub.execute_input": "2022-10-18T10:15:58.918270Z",
     "iopub.status.busy": "2022-10-18T10:15:58.917574Z",
     "iopub.status.idle": "2022-10-18T10:15:58.935483Z",
     "shell.execute_reply": "2022-10-18T10:15:58.934926Z"
    },
    "papermill": {
     "duration": 0.054094,
     "end_time": "2022-10-18T10:15:58.935609",
     "exception": false,
     "start_time": "2022-10-18T10:15:58.881515",
     "status": "completed"
    },
    "tags": []
   },
   "outputs": [],
   "source": [
    "data = Data(X_train, y_train.reshape(-1,1))\n",
    "sampler = Sampler(data, config.bs, shuffle=True)\n",
    "\n",
    "dl = Dataloader(data, sampler)\n",
    "\n",
    "opt = GD(config.lr)\n",
    "loss = MSE()"
   ]
  },
  {
   "cell_type": "code",
   "execution_count": 18,
   "id": "b275e4c2",
   "metadata": {
    "execution": {
     "iopub.execute_input": "2022-10-18T10:15:59.002232Z",
     "iopub.status.busy": "2022-10-18T10:15:59.001530Z",
     "iopub.status.idle": "2022-10-18T10:15:59.017878Z",
     "shell.execute_reply": "2022-10-18T10:15:59.017313Z"
    },
    "papermill": {
     "duration": 0.051233,
     "end_time": "2022-10-18T10:15:59.018003",
     "exception": false,
     "start_time": "2022-10-18T10:15:58.966770",
     "status": "completed"
    },
    "tags": []
   },
   "outputs": [],
   "source": [
    "training_data_x = X_train\n",
    "testing_data_x = X_test\n",
    "training_data_y = y_train.reshape(-1,1)\n",
    "testing_data_y = y_test.reshape(-1,1)"
   ]
  },
  {
   "cell_type": "code",
   "execution_count": 19,
   "id": "76951160",
   "metadata": {
    "execution": {
     "iopub.execute_input": "2022-10-18T10:15:59.087492Z",
     "iopub.status.busy": "2022-10-18T10:15:59.086754Z",
     "iopub.status.idle": "2022-10-18T10:15:59.109644Z",
     "shell.execute_reply": "2022-10-18T10:15:59.108163Z"
    },
    "papermill": {
     "duration": 0.060699,
     "end_time": "2022-10-18T10:15:59.109779",
     "exception": false,
     "start_time": "2022-10-18T10:15:59.049080",
     "status": "completed"
    },
    "tags": []
   },
   "outputs": [
    {
     "name": "stdout",
     "output_type": "stream",
     "text": [
      "xavier\n",
      "xavier\n",
      "xavier\n",
      "xavier\n",
      "xavier\n"
     ]
    }
   ],
   "source": [
    "layers = [Affine(\"first\", 784, 100), Relu(\"first\"), Affine(\"second\", 100, 100), Relu(\"second\"), Affine(\"third\", 100, 2), Affine(\"last\", 2, 1), Sigmoid(\"last\")]\n",
    "model_nn = Model(layers)\n",
    "model_lr = Model([Affine(\"logits\", 784, 1), Sigmoid(\"sigmoid\")])"
   ]
  },
  {
   "cell_type": "code",
   "execution_count": 20,
   "id": "6eede77a",
   "metadata": {
    "execution": {
     "iopub.execute_input": "2022-10-18T10:15:59.188806Z",
     "iopub.status.busy": "2022-10-18T10:15:59.177656Z",
     "iopub.status.idle": "2022-10-18T10:15:59.200652Z",
     "shell.execute_reply": "2022-10-18T10:15:59.200096Z"
    },
    "papermill": {
     "duration": 0.059421,
     "end_time": "2022-10-18T10:15:59.200789",
     "exception": false,
     "start_time": "2022-10-18T10:15:59.141368",
     "status": "completed"
    },
    "tags": []
   },
   "outputs": [],
   "source": [
    "nn_learner = Learner(loss, model_nn, opt, config.num_epochs)\n",
    "acc_nn = ClfCallback(nn_learner, config.bs, training_data_x , testing_data_x, training_data_y, testing_data_y)\n",
    "nn_learner.set_callbacks([acc_nn])"
   ]
  },
  {
   "cell_type": "code",
   "execution_count": 21,
   "id": "877b6cc7",
   "metadata": {
    "execution": {
     "iopub.execute_input": "2022-10-18T10:15:59.276960Z",
     "iopub.status.busy": "2022-10-18T10:15:59.276117Z",
     "iopub.status.idle": "2022-10-18T10:15:59.290361Z",
     "shell.execute_reply": "2022-10-18T10:15:59.289645Z"
    },
    "papermill": {
     "duration": 0.055759,
     "end_time": "2022-10-18T10:15:59.290500",
     "exception": false,
     "start_time": "2022-10-18T10:15:59.234741",
     "status": "completed"
    },
    "tags": []
   },
   "outputs": [],
   "source": [
    "lr_learner = Learner(loss, model_lr, opt, config.num_epochs)\n",
    "acc_lr = ClfCallback(lr_learner, config.bs, training_data_x , testing_data_x, training_data_y, testing_data_y)\n",
    "lr_learner.set_callbacks([acc_lr])"
   ]
  },
  {
   "cell_type": "code",
   "execution_count": 22,
   "id": "d9b133c3",
   "metadata": {
    "execution": {
     "iopub.execute_input": "2022-10-18T10:15:59.377226Z",
     "iopub.status.busy": "2022-10-18T10:15:59.376531Z",
     "iopub.status.idle": "2022-10-18T10:17:30.443829Z",
     "shell.execute_reply": "2022-10-18T10:17:30.444847Z"
    },
    "papermill": {
     "duration": 91.112382,
     "end_time": "2022-10-18T10:17:30.445013",
     "exception": false,
     "start_time": "2022-10-18T10:15:59.332631",
     "status": "completed"
    },
    "tags": []
   },
   "outputs": [
    {
     "name": "stdout",
     "output_type": "stream",
     "text": [
      "Epoch 0, Loss 0.2447\n",
      "Training Accuracy: 0.6511, Testing Accuracy: 0.6295\n",
      "\n"
     ]
    },
    {
     "name": "stdout",
     "output_type": "stream",
     "text": [
      "Epoch 10, Loss 0.111\n",
      "Training Accuracy: 0.8897, Testing Accuracy: 0.8957\n",
      "\n"
     ]
    },
    {
     "name": "stdout",
     "output_type": "stream",
     "text": [
      "Epoch 20, Loss 0.0658\n",
      "Training Accuracy: 0.9283, Testing Accuracy: 0.9430\n",
      "\n"
     ]
    },
    {
     "name": "stdout",
     "output_type": "stream",
     "text": [
      "Epoch 30, Loss 0.0494\n",
      "Training Accuracy: 0.9454, Testing Accuracy: 0.9551\n",
      "\n"
     ]
    },
    {
     "name": "stdout",
     "output_type": "stream",
     "text": [
      "Epoch 40, Loss 0.0417\n",
      "Training Accuracy: 0.9533, Testing Accuracy: 0.9632\n",
      "\n"
     ]
    },
    {
     "name": "stdout",
     "output_type": "stream",
     "text": [
      "Epoch 50, Loss 0.0372\n",
      "Training Accuracy: 0.9574, Testing Accuracy: 0.9667\n",
      "\n"
     ]
    },
    {
     "name": "stdout",
     "output_type": "stream",
     "text": [
      "Epoch 60, Loss 0.0343\n",
      "Training Accuracy: 0.9605, Testing Accuracy: 0.9657\n",
      "\n"
     ]
    },
    {
     "name": "stdout",
     "output_type": "stream",
     "text": [
      "Epoch 70, Loss 0.0322\n",
      "Training Accuracy: 0.9633, Testing Accuracy: 0.9657\n",
      "\n"
     ]
    },
    {
     "name": "stdout",
     "output_type": "stream",
     "text": [
      "Epoch 80, Loss 0.0305\n",
      "Training Accuracy: 0.9646, Testing Accuracy: 0.9667\n",
      "\n"
     ]
    },
    {
     "name": "stdout",
     "output_type": "stream",
     "text": [
      "Epoch 90, Loss 0.0292\n",
      "Training Accuracy: 0.9664, Testing Accuracy: 0.9677\n",
      "\n"
     ]
    },
    {
     "name": "stdout",
     "output_type": "stream",
     "text": [
      "Epoch 100, Loss 0.0281\n",
      "Training Accuracy: 0.9675, Testing Accuracy: 0.9682\n",
      "\n"
     ]
    },
    {
     "name": "stdout",
     "output_type": "stream",
     "text": [
      "Epoch 110, Loss 0.0272\n",
      "Training Accuracy: 0.9682, Testing Accuracy: 0.9688\n",
      "\n"
     ]
    },
    {
     "name": "stdout",
     "output_type": "stream",
     "text": [
      "Epoch 120, Loss 0.0264\n",
      "Training Accuracy: 0.9691, Testing Accuracy: 0.9708\n",
      "\n"
     ]
    },
    {
     "name": "stdout",
     "output_type": "stream",
     "text": [
      "Epoch 130, Loss 0.0257\n",
      "Training Accuracy: 0.9700, Testing Accuracy: 0.9718\n",
      "\n"
     ]
    },
    {
     "name": "stdout",
     "output_type": "stream",
     "text": [
      "Epoch 140, Loss 0.025\n",
      "Training Accuracy: 0.9710, Testing Accuracy: 0.9708\n",
      "\n"
     ]
    },
    {
     "name": "stdout",
     "output_type": "stream",
     "text": [
      "Epoch 150, Loss 0.0245\n",
      "Training Accuracy: 0.9716, Testing Accuracy: 0.9713\n",
      "\n"
     ]
    },
    {
     "name": "stdout",
     "output_type": "stream",
     "text": [
      "Epoch 160, Loss 0.0239\n",
      "Training Accuracy: 0.9725, Testing Accuracy: 0.9713\n",
      "\n"
     ]
    },
    {
     "name": "stdout",
     "output_type": "stream",
     "text": [
      "Epoch 170, Loss 0.0234\n",
      "Training Accuracy: 0.9731, Testing Accuracy: 0.9713\n",
      "\n"
     ]
    },
    {
     "name": "stdout",
     "output_type": "stream",
     "text": [
      "Epoch 180, Loss 0.023\n",
      "Training Accuracy: 0.9733, Testing Accuracy: 0.9728\n",
      "\n"
     ]
    },
    {
     "name": "stdout",
     "output_type": "stream",
     "text": [
      "Epoch 190, Loss 0.0225\n",
      "Training Accuracy: 0.9738, Testing Accuracy: 0.9733\n",
      "\n"
     ]
    },
    {
     "name": "stdout",
     "output_type": "stream",
     "text": [
      "Epoch 200, Loss 0.0221\n",
      "Training Accuracy: 0.9744, Testing Accuracy: 0.9723\n",
      "\n"
     ]
    },
    {
     "name": "stdout",
     "output_type": "stream",
     "text": [
      "Epoch 210, Loss 0.0217\n",
      "Training Accuracy: 0.9750, Testing Accuracy: 0.9733\n",
      "\n"
     ]
    },
    {
     "name": "stdout",
     "output_type": "stream",
     "text": [
      "Epoch 220, Loss 0.0213\n",
      "Training Accuracy: 0.9754, Testing Accuracy: 0.9733\n",
      "\n"
     ]
    },
    {
     "name": "stdout",
     "output_type": "stream",
     "text": [
      "Epoch 230, Loss 0.0209\n",
      "Training Accuracy: 0.9757, Testing Accuracy: 0.9733\n",
      "\n"
     ]
    },
    {
     "name": "stdout",
     "output_type": "stream",
     "text": [
      "Epoch 240, Loss 0.0206\n",
      "Training Accuracy: 0.9764, Testing Accuracy: 0.9733\n",
      "\n"
     ]
    },
    {
     "data": {
      "text/plain": [
       "0.006579673433979562"
      ]
     },
     "execution_count": 22,
     "metadata": {},
     "output_type": "execute_result"
    }
   ],
   "source": [
    "nn_learner.train_loop(dl)"
   ]
  },
  {
   "cell_type": "code",
   "execution_count": 23,
   "id": "e0163366",
   "metadata": {
    "execution": {
     "iopub.execute_input": "2022-10-18T10:17:30.539809Z",
     "iopub.status.busy": "2022-10-18T10:17:30.539070Z",
     "iopub.status.idle": "2022-10-18T10:17:46.633670Z",
     "shell.execute_reply": "2022-10-18T10:17:46.634349Z"
    },
    "papermill": {
     "duration": 16.149754,
     "end_time": "2022-10-18T10:17:46.634506",
     "exception": false,
     "start_time": "2022-10-18T10:17:30.484752",
     "status": "completed"
    },
    "tags": []
   },
   "outputs": [
    {
     "name": "stdout",
     "output_type": "stream",
     "text": [
      "Epoch 0, Loss 0.2604\n",
      "Training Accuracy: 0.6102, Testing Accuracy: 0.6129\n",
      "\n"
     ]
    },
    {
     "name": "stdout",
     "output_type": "stream",
     "text": [
      "Epoch 10, Loss 0.1025\n",
      "Training Accuracy: 0.9169, Testing Accuracy: 0.9269\n",
      "\n"
     ]
    },
    {
     "name": "stdout",
     "output_type": "stream",
     "text": [
      "Epoch 20, Loss 0.0783\n",
      "Training Accuracy: 0.9328, Testing Accuracy: 0.9405\n",
      "\n"
     ]
    },
    {
     "name": "stdout",
     "output_type": "stream",
     "text": [
      "Epoch 30, Loss 0.0673\n",
      "Training Accuracy: 0.9399, Testing Accuracy: 0.9461\n",
      "\n"
     ]
    },
    {
     "name": "stdout",
     "output_type": "stream",
     "text": [
      "Epoch 40, Loss 0.0608\n",
      "Training Accuracy: 0.9438, Testing Accuracy: 0.9546\n",
      "\n"
     ]
    },
    {
     "name": "stdout",
     "output_type": "stream",
     "text": [
      "Epoch 50, Loss 0.0563\n",
      "Training Accuracy: 0.9468, Testing Accuracy: 0.9561\n",
      "\n"
     ]
    },
    {
     "name": "stdout",
     "output_type": "stream",
     "text": [
      "Epoch 60, Loss 0.0531\n",
      "Training Accuracy: 0.9487, Testing Accuracy: 0.9572\n",
      "\n"
     ]
    },
    {
     "name": "stdout",
     "output_type": "stream",
     "text": [
      "Epoch 70, Loss 0.0506\n",
      "Training Accuracy: 0.9504, Testing Accuracy: 0.9607\n",
      "\n"
     ]
    },
    {
     "name": "stdout",
     "output_type": "stream",
     "text": [
      "Epoch 80, Loss 0.0486\n",
      "Training Accuracy: 0.9523, Testing Accuracy: 0.9617\n",
      "\n"
     ]
    },
    {
     "name": "stdout",
     "output_type": "stream",
     "text": [
      "Epoch 90, Loss 0.047\n",
      "Training Accuracy: 0.9532, Testing Accuracy: 0.9632\n",
      "\n"
     ]
    },
    {
     "name": "stdout",
     "output_type": "stream",
     "text": [
      "Epoch 100, Loss 0.0456\n",
      "Training Accuracy: 0.9548, Testing Accuracy: 0.9637\n",
      "\n"
     ]
    },
    {
     "name": "stdout",
     "output_type": "stream",
     "text": [
      "Epoch 110, Loss 0.0444\n",
      "Training Accuracy: 0.9556, Testing Accuracy: 0.9642\n",
      "\n"
     ]
    },
    {
     "name": "stdout",
     "output_type": "stream",
     "text": [
      "Epoch 120, Loss 0.0434\n",
      "Training Accuracy: 0.9563, Testing Accuracy: 0.9642\n",
      "\n"
     ]
    },
    {
     "name": "stdout",
     "output_type": "stream",
     "text": [
      "Epoch 130, Loss 0.0424\n",
      "Training Accuracy: 0.9572, Testing Accuracy: 0.9647\n",
      "\n"
     ]
    },
    {
     "name": "stdout",
     "output_type": "stream",
     "text": [
      "Epoch 140, Loss 0.0416\n",
      "Training Accuracy: 0.9578, Testing Accuracy: 0.9667\n",
      "\n"
     ]
    },
    {
     "name": "stdout",
     "output_type": "stream",
     "text": [
      "Epoch 150, Loss 0.0409\n",
      "Training Accuracy: 0.9578, Testing Accuracy: 0.9667\n",
      "\n"
     ]
    },
    {
     "name": "stdout",
     "output_type": "stream",
     "text": [
      "Epoch 160, Loss 0.0403\n",
      "Training Accuracy: 0.9580, Testing Accuracy: 0.9672\n",
      "\n"
     ]
    },
    {
     "name": "stdout",
     "output_type": "stream",
     "text": [
      "Epoch 170, Loss 0.0397\n",
      "Training Accuracy: 0.9588, Testing Accuracy: 0.9672\n",
      "\n"
     ]
    },
    {
     "name": "stdout",
     "output_type": "stream",
     "text": [
      "Epoch 180, Loss 0.0391\n",
      "Training Accuracy: 0.9590, Testing Accuracy: 0.9667\n",
      "\n"
     ]
    },
    {
     "name": "stdout",
     "output_type": "stream",
     "text": [
      "Epoch 190, Loss 0.0386\n",
      "Training Accuracy: 0.9597, Testing Accuracy: 0.9662\n",
      "\n"
     ]
    },
    {
     "name": "stdout",
     "output_type": "stream",
     "text": [
      "Epoch 200, Loss 0.0382\n",
      "Training Accuracy: 0.9599, Testing Accuracy: 0.9667\n",
      "\n"
     ]
    },
    {
     "name": "stdout",
     "output_type": "stream",
     "text": [
      "Epoch 210, Loss 0.0377\n",
      "Training Accuracy: 0.9604, Testing Accuracy: 0.9662\n",
      "\n"
     ]
    },
    {
     "name": "stdout",
     "output_type": "stream",
     "text": [
      "Epoch 220, Loss 0.0373\n",
      "Training Accuracy: 0.9607, Testing Accuracy: 0.9667\n",
      "\n"
     ]
    },
    {
     "name": "stdout",
     "output_type": "stream",
     "text": [
      "Epoch 230, Loss 0.037\n",
      "Training Accuracy: 0.9609, Testing Accuracy: 0.9667\n",
      "\n"
     ]
    },
    {
     "name": "stdout",
     "output_type": "stream",
     "text": [
      "Epoch 240, Loss 0.0366\n",
      "Training Accuracy: 0.9612, Testing Accuracy: 0.9667\n",
      "\n"
     ]
    },
    {
     "data": {
      "text/plain": [
       "0.018058866056451826"
      ]
     },
     "execution_count": 23,
     "metadata": {},
     "output_type": "execute_result"
    }
   ],
   "source": [
    "lr_learner.train_loop(dl)"
   ]
  },
  {
   "cell_type": "code",
   "execution_count": 24,
   "id": "ca410940",
   "metadata": {
    "execution": {
     "iopub.execute_input": "2022-10-18T10:17:46.742808Z",
     "iopub.status.busy": "2022-10-18T10:17:46.742057Z",
     "iopub.status.idle": "2022-10-18T10:17:47.020560Z",
     "shell.execute_reply": "2022-10-18T10:17:47.020003Z"
    },
    "papermill": {
     "duration": 0.338716,
     "end_time": "2022-10-18T10:17:47.020683",
     "exception": false,
     "start_time": "2022-10-18T10:17:46.681967",
     "status": "completed"
    },
    "tags": []
   },
   "outputs": [
    {
     "data": {
      "text/plain": [
       "<matplotlib.legend.Legend at 0x7f7bc9e98390>"
      ]
     },
     "execution_count": 24,
     "metadata": {},
     "output_type": "execute_result"
    },
    {
     "data": {
      "image/png": "[encoded data removed]",
      "text/plain": [
       "<Figure size 1080x720 with 1 Axes>"
      ]
     },
     "metadata": {
      "needs_background": "light"
     },
     "output_type": "display_data"
    }
   ],
   "source": [
    "#comparing the results of NN and LR\n",
    "plt.figure(figsize=(15,10))\n",
    "\n",
    "# Neural Network plots\n",
    "plt.plot(acc_nn.accuracies, 'r-', label = \"Training Accuracies - NN\")\n",
    "plt.plot(acc_nn.test_accuracies, 'g-', label = \"Testing Accuracies - NN\")\n",
    "\n",
    "# Logistic Regression plots\n",
    "plt.plot(acc_lr.accuracies, 'k-', label = \"Training Accuracies - LR\")\n",
    "plt.plot(acc_lr.test_accuracies, 'b-', label = \"Testing Accuracies - LR\")\n",
    "plt.legend()"
   ]
  },
  {
   "cell_type": "markdown",
   "id": "80dfb35c",
   "metadata": {
    "papermill": {
     "duration": 0.049211,
     "end_time": "2022-10-18T10:17:47.118626",
     "exception": false,
     "start_time": "2022-10-18T10:17:47.069415",
     "status": "completed"
    },
    "tags": []
   },
   "source": [
    "#### Plotting the outputs of this layer of the NN.\n"
   ]
  },
  {
   "cell_type": "code",
   "execution_count": 25,
   "id": "45eb2ff5",
   "metadata": {
    "execution": {
     "iopub.execute_input": "2022-10-18T10:17:47.222431Z",
     "iopub.status.busy": "2022-10-18T10:17:47.221124Z",
     "iopub.status.idle": "2022-10-18T10:17:47.245218Z",
     "shell.execute_reply": "2022-10-18T10:17:47.244582Z"
    },
    "papermill": {
     "duration": 0.078295,
     "end_time": "2022-10-18T10:17:47.245352",
     "exception": false,
     "start_time": "2022-10-18T10:17:47.167057",
     "status": "completed"
    },
    "tags": []
   },
   "outputs": [],
   "source": [
    "new_model = Model(layers[:-2])\n",
    "testing_plot = new_model(testing_data_x)"
   ]
  },
  {
   "cell_type": "code",
   "execution_count": 26,
   "id": "4c0a5485",
   "metadata": {
    "execution": {
     "iopub.execute_input": "2022-10-18T10:17:47.362986Z",
     "iopub.status.busy": "2022-10-18T10:17:47.354834Z",
     "iopub.status.idle": "2022-10-18T10:17:47.602458Z",
     "shell.execute_reply": "2022-10-18T10:17:47.601884Z"
    },
    "papermill": {
     "duration": 0.305745,
     "end_time": "2022-10-18T10:17:47.602596",
     "exception": false,
     "start_time": "2022-10-18T10:17:47.296851",
     "status": "completed"
    },
    "tags": []
   },
   "outputs": [
    {
     "data": {
      "text/plain": [
       "Text(0.5, 1.0, 'Outputs')"
      ]
     },
     "execution_count": 26,
     "metadata": {},
     "output_type": "execute_result"
    },
    {
     "data": {
      "image/png": "[encoded data removed]",
      "text/plain": [
       "<Figure size 576x504 with 1 Axes>"
      ]
     },
     "metadata": {
      "needs_background": "light"
     },
     "output_type": "display_data"
    }
   ],
   "source": [
    "# Plotting the scatter plot of points and color coding by class\n",
    "plt.figure(figsize=(8,7))\n",
    "plt.scatter(testing_plot[:,0], testing_plot[:,1], alpha = 0.1, c = y_test.ravel());\n",
    "plt.title('Outputs')"
   ]
  },
  {
   "cell_type": "markdown",
   "id": "a74fcf8f",
   "metadata": {
    "papermill": {
     "duration": 0.050099,
     "end_time": "2022-10-18T10:17:47.703143",
     "exception": false,
     "start_time": "2022-10-18T10:17:47.653044",
     "status": "completed"
    },
    "tags": []
   },
   "source": [
    "Probability contours"
   ]
  },
  {
   "cell_type": "code",
   "execution_count": 27,
   "id": "d0afc8e3",
   "metadata": {
    "execution": {
     "iopub.execute_input": "2022-10-18T10:17:47.847313Z",
     "iopub.status.busy": "2022-10-18T10:17:47.844296Z",
     "iopub.status.idle": "2022-10-18T10:17:47.860452Z",
     "shell.execute_reply": "2022-10-18T10:17:47.859451Z"
    },
    "papermill": {
     "duration": 0.073656,
     "end_time": "2022-10-18T10:17:47.860592",
     "exception": false,
     "start_time": "2022-10-18T10:17:47.786936",
     "status": "completed"
    },
    "tags": []
   },
   "outputs": [],
   "source": [
    "model_prob = Model(layers[-2:]) "
   ]
  },
  {
   "cell_type": "code",
   "execution_count": 28,
   "id": "9b96e238",
   "metadata": {
    "execution": {
     "iopub.execute_input": "2022-10-18T10:17:47.972898Z",
     "iopub.status.busy": "2022-10-18T10:17:47.972184Z",
     "iopub.status.idle": "2022-10-18T10:17:47.988768Z",
     "shell.execute_reply": "2022-10-18T10:17:47.989274Z"
    },
    "papermill": {
     "duration": 0.076831,
     "end_time": "2022-10-18T10:17:47.989431",
     "exception": false,
     "start_time": "2022-10-18T10:17:47.912600",
     "status": "completed"
    },
    "tags": []
   },
   "outputs": [],
   "source": [
    "#creating the x and y ranges according to the above generated plot.\n",
    "x_range = np.linspace(-4, 1, 100) \n",
    "y_range = np.linspace(-6, 6, 100) \n",
    "x_grid, y_grid = np.meshgrid(x_range, y_range) # x_grid and y_grig are of size 100 X 100\n",
    "\n",
    "# converting x_grid and y_grid to continuous arrays\n",
    "x_gridflat = np.ravel(x_grid)\n",
    "y_gridflat = np.ravel(y_grid)\n",
    "\n",
    "# The last layer of the current model takes two columns as input. Hence transpose of np.vstack() is required.\n",
    "X = np.vstack((x_gridflat, y_gridflat)).T\n",
    "\n",
    "prob_contour = model_prob(X).reshape(100,100) "
   ]
  },
  {
   "cell_type": "code",
   "execution_count": 29,
   "id": "da72499a",
   "metadata": {
    "execution": {
     "iopub.execute_input": "2022-10-18T10:17:48.104209Z",
     "iopub.status.busy": "2022-10-18T10:17:48.103495Z",
     "iopub.status.idle": "2022-10-18T10:17:48.389840Z",
     "shell.execute_reply": "2022-10-18T10:17:48.389041Z"
    },
    "papermill": {
     "duration": 0.349083,
     "end_time": "2022-10-18T10:17:48.389987",
     "exception": false,
     "start_time": "2022-10-18T10:17:48.040904",
     "status": "completed"
    },
    "tags": []
   },
   "outputs": [
    {
     "data": {
      "image/png": "[encoded data removed]",
      "text/plain": [
       "<Figure size 720x648 with 1 Axes>"
      ]
     },
     "metadata": {
      "needs_background": "light"
     },
     "output_type": "display_data"
    }
   ],
   "source": [
    "plt.figure(figsize=(10,9))\n",
    "plt.scatter(testing_plot[:,0], testing_plot[:,1], alpha = 0.1, c = y_test.ravel())\n",
    "contours = plt.contour(x_grid,y_grid,prob_contour)\n",
    "plt.title('Probability Contours')\n",
    "plt.clabel(contours, inline = True );"
   ]
  },
  {
   "cell_type": "code",
   "execution_count": null,
   "id": "e81b4ac7",
   "metadata": {
    "papermill": {
     "duration": 0.059198,
     "end_time": "2022-10-18T10:17:48.510166",
     "exception": false,
     "start_time": "2022-10-18T10:17:48.450968",
     "status": "completed"
    },
    "tags": []
   },
   "outputs": [],
   "source": []
  }
 ],
 "metadata": {
  "kernelspec": {
   "display_name": "Python 3",
   "language": "python",
   "name": "python3"
  },
  "language_info": {
   "codemirror_mode": {
    "name": "ipython",
    "version": 3
   },
   "file_extension": ".py",
   "mimetype": "text/x-python",
   "name": "python",
   "nbconvert_exporter": "python",
   "pygments_lexer": "ipython3",
   "version": "3.6.15"
  },
  "papermill": {
   "default_parameters": {},
   "duration": 117.511317,
   "end_time": "2022-10-18T10:17:48.985609",
   "environment_variables": {},
   "exception": null,
   "input_path": "2020-08-11-part2.ipynb",
   "output_path": "2020-08-11-part2.ipynb",
   "parameters": {},
   "start_time": "2022-10-18T10:15:51.474292",
   "version": "2.3.3"
  }
 },
 "nbformat": 4,
 "nbformat_minor": 5
}