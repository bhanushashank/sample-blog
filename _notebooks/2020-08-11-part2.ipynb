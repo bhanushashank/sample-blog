{
 "cells": [
  {
   "cell_type": "markdown",
   "id": "98380cd3",
   "metadata": {
    "papermill": {
     "duration": 0.029181,
     "end_time": "2022-07-18T10:10:05.624639",
     "exception": false,
     "start_time": "2022-07-18T10:10:05.595458",
     "status": "completed"
    },
    "tags": []
   },
   "source": [
    "# Distinguish Your Own Digits (DYOD)"
   ]
  },
  {
   "cell_type": "markdown",
   "id": "ef31240d",
   "metadata": {
    "papermill": {
     "duration": 0.024089,
     "end_time": "2022-07-18T10:10:05.673564",
     "exception": false,
     "start_time": "2022-07-18T10:10:05.649475",
     "status": "completed"
    },
    "tags": []
   },
   "source": [
    "You are going to write a classifier that distinguishes between the number 3 and number 8."
   ]
  },
  {
   "cell_type": "code",
   "execution_count": 1,
   "id": "b15c8646",
   "metadata": {
    "execution": {
     "iopub.execute_input": "2022-07-18T10:10:05.731740Z",
     "iopub.status.busy": "2022-07-18T10:10:05.731154Z",
     "iopub.status.idle": "2022-07-18T10:10:05.742179Z",
     "shell.execute_reply": "2022-07-18T10:10:05.742634Z"
    },
    "papermill": {
     "duration": 0.045169,
     "end_time": "2022-07-18T10:10:05.742769",
     "exception": false,
     "start_time": "2022-07-18T10:10:05.697600",
     "status": "completed"
    },
    "tags": []
   },
   "outputs": [],
   "source": [
    "%load_ext autoreload\n",
    "%autoreload 2"
   ]
  },
  {
   "cell_type": "code",
   "execution_count": 2,
   "id": "22ef38dc",
   "metadata": {
    "execution": {
     "iopub.execute_input": "2022-07-18T10:10:05.794806Z",
     "iopub.status.busy": "2022-07-18T10:10:05.794239Z",
     "iopub.status.idle": "2022-07-18T10:10:06.294808Z",
     "shell.execute_reply": "2022-07-18T10:10:06.294318Z"
    },
    "papermill": {
     "duration": 0.528026,
     "end_time": "2022-07-18T10:10:06.294924",
     "exception": false,
     "start_time": "2022-07-18T10:10:05.766898",
     "status": "completed"
    },
    "tags": []
   },
   "outputs": [],
   "source": [
    "%matplotlib inline\n",
    "import numpy as np\n",
    "import matplotlib.pyplot as plt\n",
    "import pandas as pd"
   ]
  },
  {
   "cell_type": "markdown",
   "id": "ba036198",
   "metadata": {
    "papermill": {
     "duration": 0.024243,
     "end_time": "2022-07-18T10:10:06.343443",
     "exception": false,
     "start_time": "2022-07-18T10:10:06.319200",
     "status": "completed"
    },
    "tags": []
   },
   "source": [
    "From the command line run `pip install mnist`. This is a library that will help you bring down the mnist dataset. If you run this from a notebook, you need to put  `!pip install mnist` in a cell by itself."
   ]
  },
  {
   "cell_type": "code",
   "execution_count": 3,
   "id": "bb6ad8a1",
   "metadata": {
    "execution": {
     "iopub.execute_input": "2022-07-18T10:10:06.395576Z",
     "iopub.status.busy": "2022-07-18T10:10:06.395019Z",
     "iopub.status.idle": "2022-07-18T10:10:08.047964Z",
     "shell.execute_reply": "2022-07-18T10:10:08.047157Z"
    },
    "papermill": {
     "duration": 1.680291,
     "end_time": "2022-07-18T10:10:08.048081",
     "exception": false,
     "start_time": "2022-07-18T10:10:06.367790",
     "status": "completed"
    },
    "tags": []
   },
   "outputs": [
    {
     "name": "stdout",
     "output_type": "stream",
     "text": [
      "Collecting mnist\r\n"
     ]
    },
    {
     "name": "stdout",
     "output_type": "stream",
     "text": [
      "  Downloading mnist-0.2.2-py2.py3-none-any.whl (3.5 kB)\r\n"
     ]
    },
    {
     "name": "stdout",
     "output_type": "stream",
     "text": [
      "Requirement already satisfied: numpy in /opt/hostedtoolcache/Python/3.6.15/x64/lib/python3.6/site-packages (from mnist) (1.19.5)\r\n"
     ]
    },
    {
     "name": "stdout",
     "output_type": "stream",
     "text": [
      "Installing collected packages: mnist\r\n"
     ]
    },
    {
     "name": "stdout",
     "output_type": "stream",
     "text": [
      "Successfully installed mnist-0.2.2\r\n"
     ]
    }
   ],
   "source": [
    "!pip install mnist"
   ]
  },
  {
   "cell_type": "markdown",
   "id": "69df9c9a",
   "metadata": {
    "papermill": {
     "duration": 0.025564,
     "end_time": "2022-07-18T10:10:08.099372",
     "exception": false,
     "start_time": "2022-07-18T10:10:08.073808",
     "status": "completed"
    },
    "tags": []
   },
   "source": [
    "## Preparing the Data"
   ]
  },
  {
   "cell_type": "code",
   "execution_count": 4,
   "id": "7f69d806",
   "metadata": {
    "execution": {
     "iopub.execute_input": "2022-07-18T10:10:08.154345Z",
     "iopub.status.busy": "2022-07-18T10:10:08.153788Z",
     "iopub.status.idle": "2022-07-18T10:10:08.167579Z",
     "shell.execute_reply": "2022-07-18T10:10:08.167128Z"
    },
    "papermill": {
     "duration": 0.042877,
     "end_time": "2022-07-18T10:10:08.167681",
     "exception": false,
     "start_time": "2022-07-18T10:10:08.124804",
     "status": "completed"
    },
    "tags": []
   },
   "outputs": [],
   "source": [
    "import mnist"
   ]
  },
  {
   "cell_type": "code",
   "execution_count": 5,
   "id": "a411e44f",
   "metadata": {
    "execution": {
     "iopub.execute_input": "2022-07-18T10:10:08.221896Z",
     "iopub.status.busy": "2022-07-18T10:10:08.221348Z",
     "iopub.status.idle": "2022-07-18T10:10:08.808631Z",
     "shell.execute_reply": "2022-07-18T10:10:08.807512Z"
    },
    "papermill": {
     "duration": 0.615624,
     "end_time": "2022-07-18T10:10:08.808750",
     "exception": false,
     "start_time": "2022-07-18T10:10:08.193126",
     "status": "completed"
    },
    "tags": []
   },
   "outputs": [],
   "source": [
    "train_images = mnist.train_images()\n",
    "train_labels = mnist.train_labels()"
   ]
  },
  {
   "cell_type": "code",
   "execution_count": 6,
   "id": "dceab3a5",
   "metadata": {
    "execution": {
     "iopub.execute_input": "2022-07-18T10:10:08.865073Z",
     "iopub.status.busy": "2022-07-18T10:10:08.862744Z",
     "iopub.status.idle": "2022-07-18T10:10:08.876698Z",
     "shell.execute_reply": "2022-07-18T10:10:08.876132Z"
    },
    "papermill": {
     "duration": 0.042443,
     "end_time": "2022-07-18T10:10:08.876799",
     "exception": false,
     "start_time": "2022-07-18T10:10:08.834356",
     "status": "completed"
    },
    "tags": []
   },
   "outputs": [
    {
     "data": {
      "text/plain": [
       "((60000, 28, 28), (60000,))"
      ]
     },
     "execution_count": 6,
     "metadata": {},
     "output_type": "execute_result"
    }
   ],
   "source": [
    "train_images.shape, train_labels.shape"
   ]
  },
  {
   "cell_type": "code",
   "execution_count": 7,
   "id": "f50dc2bb",
   "metadata": {
    "execution": {
     "iopub.execute_input": "2022-07-18T10:10:08.931270Z",
     "iopub.status.busy": "2022-07-18T10:10:08.930723Z",
     "iopub.status.idle": "2022-07-18T10:10:09.078175Z",
     "shell.execute_reply": "2022-07-18T10:10:09.077564Z"
    },
    "papermill": {
     "duration": 0.175864,
     "end_time": "2022-07-18T10:10:09.078291",
     "exception": false,
     "start_time": "2022-07-18T10:10:08.902427",
     "status": "completed"
    },
    "tags": []
   },
   "outputs": [],
   "source": [
    "test_images = mnist.test_images()\n",
    "test_labels = mnist.test_labels()"
   ]
  },
  {
   "cell_type": "code",
   "execution_count": 8,
   "id": "fc38cf1b",
   "metadata": {
    "execution": {
     "iopub.execute_input": "2022-07-18T10:10:09.133390Z",
     "iopub.status.busy": "2022-07-18T10:10:09.132841Z",
     "iopub.status.idle": "2022-07-18T10:10:09.145350Z",
     "shell.execute_reply": "2022-07-18T10:10:09.144894Z"
    },
    "papermill": {
     "duration": 0.041202,
     "end_time": "2022-07-18T10:10:09.145449",
     "exception": false,
     "start_time": "2022-07-18T10:10:09.104247",
     "status": "completed"
    },
    "tags": []
   },
   "outputs": [
    {
     "data": {
      "text/plain": [
       "((10000, 28, 28), (10000,))"
      ]
     },
     "execution_count": 8,
     "metadata": {},
     "output_type": "execute_result"
    }
   ],
   "source": [
    "test_images.shape, test_labels.shape"
   ]
  },
  {
   "cell_type": "code",
   "execution_count": 9,
   "id": "f9ed8fe0",
   "metadata": {
    "execution": {
     "iopub.execute_input": "2022-07-18T10:10:09.200641Z",
     "iopub.status.busy": "2022-07-18T10:10:09.200052Z",
     "iopub.status.idle": "2022-07-18T10:10:09.330125Z",
     "shell.execute_reply": "2022-07-18T10:10:09.330562Z"
    },
    "papermill": {
     "duration": 0.159356,
     "end_time": "2022-07-18T10:10:09.330688",
     "exception": false,
     "start_time": "2022-07-18T10:10:09.171332",
     "status": "completed"
    },
    "tags": []
   },
   "outputs": [
    {
     "name": "stdout",
     "output_type": "stream",
     "text": [
      "2\n"
     ]
    },
    {
     "data": {
      "text/plain": [
       "<matplotlib.image.AxesImage at 0x7f02d1ec6470>"
      ]
     },
     "execution_count": 9,
     "metadata": {},
     "output_type": "execute_result"
    },
    {
     "data": {
      "image/png": "[encoded data removed]",
      "text/plain": [
       "<Figure size 432x288 with 1 Axes>"
      ]
     },
     "metadata": {
      "needs_background": "light"
     },
     "output_type": "display_data"
    }
   ],
   "source": [
    "image_index = 7776 # You may select anything up to 60,000\n",
    "print(train_labels[image_index]) \n",
    "plt.imshow(train_images[image_index], cmap='Greys')"
   ]
  },
  {
   "cell_type": "markdown",
   "id": "a8d2388d",
   "metadata": {
    "papermill": {
     "duration": 0.030253,
     "end_time": "2022-07-18T10:10:09.388255",
     "exception": false,
     "start_time": "2022-07-18T10:10:09.358002",
     "status": "completed"
    },
    "tags": []
   },
   "source": [
    "## Filter data to get 3 and 8 out"
   ]
  },
  {
   "cell_type": "code",
   "execution_count": 10,
   "id": "776f7fc7",
   "metadata": {
    "execution": {
     "iopub.execute_input": "2022-07-18T10:10:09.446992Z",
     "iopub.status.busy": "2022-07-18T10:10:09.446429Z",
     "iopub.status.idle": "2022-07-18T10:10:09.463242Z",
     "shell.execute_reply": "2022-07-18T10:10:09.462776Z"
    },
    "papermill": {
     "duration": 0.047765,
     "end_time": "2022-07-18T10:10:09.463344",
     "exception": false,
     "start_time": "2022-07-18T10:10:09.415579",
     "status": "completed"
    },
    "tags": []
   },
   "outputs": [],
   "source": [
    "train_filter = np.where((train_labels == 3 ) | (train_labels == 8))\n",
    "test_filter = np.where((test_labels == 3) | (test_labels == 8))\n",
    "X_train, y_train = train_images[train_filter], train_labels[train_filter]\n",
    "X_test, y_test = test_images[test_filter], test_labels[test_filter]"
   ]
  },
  {
   "cell_type": "markdown",
   "id": "948f0b7e",
   "metadata": {
    "papermill": {
     "duration": 0.027011,
     "end_time": "2022-07-18T10:10:09.517511",
     "exception": false,
     "start_time": "2022-07-18T10:10:09.490500",
     "status": "completed"
    },
    "tags": []
   },
   "source": [
    "We normalize the pizel values in the 0 to 1 range"
   ]
  },
  {
   "cell_type": "code",
   "execution_count": 11,
   "id": "ee4c2166",
   "metadata": {
    "execution": {
     "iopub.execute_input": "2022-07-18T10:10:09.574934Z",
     "iopub.status.busy": "2022-07-18T10:10:09.574384Z",
     "iopub.status.idle": "2022-07-18T10:10:09.615711Z",
     "shell.execute_reply": "2022-07-18T10:10:09.615232Z"
    },
    "papermill": {
     "duration": 0.071329,
     "end_time": "2022-07-18T10:10:09.615819",
     "exception": false,
     "start_time": "2022-07-18T10:10:09.544490",
     "status": "completed"
    },
    "tags": []
   },
   "outputs": [],
   "source": [
    "X_train = X_train/255.\n",
    "X_test = X_test/255."
   ]
  },
  {
   "cell_type": "markdown",
   "id": "ddcf4fab",
   "metadata": {
    "papermill": {
     "duration": 0.027097,
     "end_time": "2022-07-18T10:10:09.670276",
     "exception": false,
     "start_time": "2022-07-18T10:10:09.643179",
     "status": "completed"
    },
    "tags": []
   },
   "source": [
    "And setup the labels as 1 (when the digit is 3) and 0 (when the digit is 8)"
   ]
  },
  {
   "cell_type": "code",
   "execution_count": 12,
   "id": "7dc908f2",
   "metadata": {
    "execution": {
     "iopub.execute_input": "2022-07-18T10:10:09.728544Z",
     "iopub.status.busy": "2022-07-18T10:10:09.727961Z",
     "iopub.status.idle": "2022-07-18T10:10:09.739111Z",
     "shell.execute_reply": "2022-07-18T10:10:09.738554Z"
    },
    "papermill": {
     "duration": 0.04181,
     "end_time": "2022-07-18T10:10:09.739212",
     "exception": false,
     "start_time": "2022-07-18T10:10:09.697402",
     "status": "completed"
    },
    "tags": []
   },
   "outputs": [],
   "source": [
    "y_train = 1*(y_train==3)\n",
    "y_test = 1*(y_test==3)"
   ]
  },
  {
   "cell_type": "code",
   "execution_count": 13,
   "id": "01e4e969",
   "metadata": {
    "execution": {
     "iopub.execute_input": "2022-07-18T10:10:09.796747Z",
     "iopub.status.busy": "2022-07-18T10:10:09.796161Z",
     "iopub.status.idle": "2022-07-18T10:10:09.808452Z",
     "shell.execute_reply": "2022-07-18T10:10:09.808892Z"
    },
    "papermill": {
     "duration": 0.042607,
     "end_time": "2022-07-18T10:10:09.809007",
     "exception": false,
     "start_time": "2022-07-18T10:10:09.766400",
     "status": "completed"
    },
    "tags": []
   },
   "outputs": [
    {
     "data": {
      "text/plain": [
       "((11982, 28, 28), (1984, 28, 28))"
      ]
     },
     "execution_count": 13,
     "metadata": {},
     "output_type": "execute_result"
    }
   ],
   "source": [
    "X_train.shape, X_test.shape"
   ]
  },
  {
   "cell_type": "markdown",
   "id": "5ccf3f85",
   "metadata": {
    "papermill": {
     "duration": 0.027287,
     "end_time": "2022-07-18T10:10:09.863611",
     "exception": false,
     "start_time": "2022-07-18T10:10:09.836324",
     "status": "completed"
    },
    "tags": []
   },
   "source": [
    "We reshape the data to flatten the image pixels into a set of features or co-variates:"
   ]
  },
  {
   "cell_type": "code",
   "execution_count": 14,
   "id": "5286a4a3",
   "metadata": {
    "execution": {
     "iopub.execute_input": "2022-07-18T10:10:09.922701Z",
     "iopub.status.busy": "2022-07-18T10:10:09.922133Z",
     "iopub.status.idle": "2022-07-18T10:10:09.935090Z",
     "shell.execute_reply": "2022-07-18T10:10:09.934558Z"
    },
    "papermill": {
     "duration": 0.04404,
     "end_time": "2022-07-18T10:10:09.935192",
     "exception": false,
     "start_time": "2022-07-18T10:10:09.891152",
     "status": "completed"
    },
    "tags": []
   },
   "outputs": [
    {
     "data": {
      "text/plain": [
       "((11982, 784), (1984, 784))"
      ]
     },
     "execution_count": 14,
     "metadata": {},
     "output_type": "execute_result"
    }
   ],
   "source": [
    "X_train = X_train.reshape(X_train.shape[0], -1)\n",
    "X_test = X_test.reshape(X_test.shape[0], -1)\n",
    "X_train.shape, X_test.shape"
   ]
  },
  {
   "cell_type": "code",
   "execution_count": 15,
   "id": "73c5f88a",
   "metadata": {
    "execution": {
     "iopub.execute_input": "2022-07-18T10:10:09.994338Z",
     "iopub.status.busy": "2022-07-18T10:10:09.993779Z",
     "iopub.status.idle": "2022-07-18T10:10:10.011908Z",
     "shell.execute_reply": "2022-07-18T10:10:10.012342Z"
    },
    "papermill": {
     "duration": 0.049297,
     "end_time": "2022-07-18T10:10:10.012460",
     "exception": false,
     "start_time": "2022-07-18T10:10:09.963163",
     "status": "completed"
    },
    "tags": []
   },
   "outputs": [],
   "source": [
    "#Impoting functions from 'Kudzu'\n",
    "from kudzu.model import Model\n",
    "from kudzu.train import Learner\n",
    "from kudzu.optim import GD\n",
    "from kudzu.data import Data, Sampler,Dataloader\n",
    "\n",
    "from kudzu.callbacks import AccCallback\n",
    "from kudzu.callbacks import ClfCallback\n",
    "\n",
    "from kudzu.loss import MSE\n",
    "\n",
    "from kudzu.layer import Sigmoid,Relu\n",
    "from kudzu.layer import Affine"
   ]
  },
  {
   "cell_type": "markdown",
   "id": "bc01172a",
   "metadata": {
    "papermill": {
     "duration": 0.027841,
     "end_time": "2022-07-18T10:10:10.067886",
     "exception": false,
     "start_time": "2022-07-18T10:10:10.040045",
     "status": "completed"
    },
    "tags": []
   },
   "source": [
    "### Let us create a `Config` class, to store important parameters. \n",
    "This class essentially plays the role of a dictionary."
   ]
  },
  {
   "cell_type": "code",
   "execution_count": 16,
   "id": "978281aa",
   "metadata": {
    "execution": {
     "iopub.execute_input": "2022-07-18T10:10:10.126584Z",
     "iopub.status.busy": "2022-07-18T10:10:10.126012Z",
     "iopub.status.idle": "2022-07-18T10:10:10.137893Z",
     "shell.execute_reply": "2022-07-18T10:10:10.137437Z"
    },
    "papermill": {
     "duration": 0.042574,
     "end_time": "2022-07-18T10:10:10.137991",
     "exception": false,
     "start_time": "2022-07-18T10:10:10.095417",
     "status": "completed"
    },
    "tags": []
   },
   "outputs": [],
   "source": [
    "class Config:\n",
    "    pass\n",
    "config = Config()\n",
    "config.lr = 0.001\n",
    "config.num_epochs = 250\n",
    "config.bs = 50"
   ]
  },
  {
   "cell_type": "markdown",
   "id": "1385fa59",
   "metadata": {
    "papermill": {
     "duration": 0.027878,
     "end_time": "2022-07-18T10:10:10.193424",
     "exception": false,
     "start_time": "2022-07-18T10:10:10.165546",
     "status": "completed"
    },
    "tags": []
   },
   "source": [
    "### Running Models with the Training data\n",
    "Details about the network layers:\n",
    "- A first affine layer has 784 inputs and does 100 affine transforms. These are followed by a Relu\n",
    "- A second affine layer has 100 inputs from the 100 activations of the past layer, and does 100 affine transforms. These are followed by a Relu\n",
    "- A third affine layer has 100 activations and does 2 affine transformations to create an embedding for visualization. There is no non-linearity here.\n",
    "- A final \"logistic regression\" which has an affine transform from 2 inputs to 1 output, which is squeezed through a sigmoid.\n"
   ]
  },
  {
   "cell_type": "code",
   "execution_count": 17,
   "id": "2b9c66db",
   "metadata": {
    "execution": {
     "iopub.execute_input": "2022-07-18T10:10:10.252484Z",
     "iopub.status.busy": "2022-07-18T10:10:10.251891Z",
     "iopub.status.idle": "2022-07-18T10:10:10.263511Z",
     "shell.execute_reply": "2022-07-18T10:10:10.263960Z"
    },
    "papermill": {
     "duration": 0.043048,
     "end_time": "2022-07-18T10:10:10.264075",
     "exception": false,
     "start_time": "2022-07-18T10:10:10.221027",
     "status": "completed"
    },
    "tags": []
   },
   "outputs": [],
   "source": [
    "data = Data(X_train, y_train.reshape(-1,1))\n",
    "sampler = Sampler(data, config.bs, shuffle=True)\n",
    "\n",
    "dl = Dataloader(data, sampler)\n",
    "\n",
    "opt = GD(config.lr)\n",
    "loss = MSE()"
   ]
  },
  {
   "cell_type": "code",
   "execution_count": 18,
   "id": "b275e4c2",
   "metadata": {
    "execution": {
     "iopub.execute_input": "2022-07-18T10:10:10.323108Z",
     "iopub.status.busy": "2022-07-18T10:10:10.322545Z",
     "iopub.status.idle": "2022-07-18T10:10:10.334097Z",
     "shell.execute_reply": "2022-07-18T10:10:10.333639Z"
    },
    "papermill": {
     "duration": 0.04253,
     "end_time": "2022-07-18T10:10:10.334195",
     "exception": false,
     "start_time": "2022-07-18T10:10:10.291665",
     "status": "completed"
    },
    "tags": []
   },
   "outputs": [],
   "source": [
    "training_data_x = X_train\n",
    "testing_data_x = X_test\n",
    "training_data_y = y_train.reshape(-1,1)\n",
    "testing_data_y = y_test.reshape(-1,1)"
   ]
  },
  {
   "cell_type": "code",
   "execution_count": 19,
   "id": "76951160",
   "metadata": {
    "execution": {
     "iopub.execute_input": "2022-07-18T10:10:10.392749Z",
     "iopub.status.busy": "2022-07-18T10:10:10.392149Z",
     "iopub.status.idle": "2022-07-18T10:10:10.408173Z",
     "shell.execute_reply": "2022-07-18T10:10:10.408628Z"
    },
    "papermill": {
     "duration": 0.047217,
     "end_time": "2022-07-18T10:10:10.408744",
     "exception": false,
     "start_time": "2022-07-18T10:10:10.361527",
     "status": "completed"
    },
    "tags": []
   },
   "outputs": [
    {
     "name": "stdout",
     "output_type": "stream",
     "text": [
      "xavier\n",
      "xavier\n",
      "xavier\n",
      "xavier\n",
      "xavier\n"
     ]
    }
   ],
   "source": [
    "layers = [Affine(\"first\", 784, 100), Relu(\"first\"), Affine(\"second\", 100, 100), Relu(\"second\"), Affine(\"third\", 100, 2), Affine(\"last\", 2, 1), Sigmoid(\"last\")]\n",
    "model_nn = Model(layers)\n",
    "model_lr = Model([Affine(\"logits\", 784, 1), Sigmoid(\"sigmoid\")])"
   ]
  },
  {
   "cell_type": "code",
   "execution_count": 20,
   "id": "6eede77a",
   "metadata": {
    "execution": {
     "iopub.execute_input": "2022-07-18T10:10:10.468133Z",
     "iopub.status.busy": "2022-07-18T10:10:10.467582Z",
     "iopub.status.idle": "2022-07-18T10:10:10.478731Z",
     "shell.execute_reply": "2022-07-18T10:10:10.479146Z"
    },
    "papermill": {
     "duration": 0.042519,
     "end_time": "2022-07-18T10:10:10.479261",
     "exception": false,
     "start_time": "2022-07-18T10:10:10.436742",
     "status": "completed"
    },
    "tags": []
   },
   "outputs": [],
   "source": [
    "nn_learner = Learner(loss, model_nn, opt, config.num_epochs)\n",
    "acc_nn = ClfCallback(nn_learner, config.bs, training_data_x , testing_data_x, training_data_y, testing_data_y)\n",
    "nn_learner.set_callbacks([acc_nn])"
   ]
  },
  {
   "cell_type": "code",
   "execution_count": 21,
   "id": "877b6cc7",
   "metadata": {
    "execution": {
     "iopub.execute_input": "2022-07-18T10:10:10.538139Z",
     "iopub.status.busy": "2022-07-18T10:10:10.537582Z",
     "iopub.status.idle": "2022-07-18T10:10:10.548652Z",
     "shell.execute_reply": "2022-07-18T10:10:10.549070Z"
    },
    "papermill": {
     "duration": 0.042192,
     "end_time": "2022-07-18T10:10:10.549177",
     "exception": false,
     "start_time": "2022-07-18T10:10:10.506985",
     "status": "completed"
    },
    "tags": []
   },
   "outputs": [],
   "source": [
    "lr_learner = Learner(loss, model_lr, opt, config.num_epochs)\n",
    "acc_lr = ClfCallback(lr_learner, config.bs, training_data_x , testing_data_x, training_data_y, testing_data_y)\n",
    "lr_learner.set_callbacks([acc_lr])"
   ]
  },
  {
   "cell_type": "code",
   "execution_count": 22,
   "id": "d9b133c3",
   "metadata": {
    "execution": {
     "iopub.execute_input": "2022-07-18T10:10:10.607963Z",
     "iopub.status.busy": "2022-07-18T10:10:10.607412Z",
     "iopub.status.idle": "2022-07-18T10:13:06.361902Z",
     "shell.execute_reply": "2022-07-18T10:13:06.362354Z"
    },
    "papermill": {
     "duration": 175.785278,
     "end_time": "2022-07-18T10:13:06.362480",
     "exception": false,
     "start_time": "2022-07-18T10:10:10.577202",
     "status": "completed"
    },
    "tags": []
   },
   "outputs": [
    {
     "name": "stdout",
     "output_type": "stream",
     "text": [
      "Epoch 0, Loss 0.249\n",
      "Training Accuracy: 0.5910, Testing Accuracy: 0.5978\n",
      "\n"
     ]
    },
    {
     "name": "stdout",
     "output_type": "stream",
     "text": [
      "Epoch 10, Loss 0.1714\n",
      "Training Accuracy: 0.8827, Testing Accuracy: 0.8916\n",
      "\n"
     ]
    },
    {
     "name": "stdout",
     "output_type": "stream",
     "text": [
      "Epoch 20, Loss 0.0875\n",
      "Training Accuracy: 0.9180, Testing Accuracy: 0.9299\n",
      "\n"
     ]
    },
    {
     "name": "stdout",
     "output_type": "stream",
     "text": [
      "Epoch 30, Loss 0.0583\n",
      "Training Accuracy: 0.9397, Testing Accuracy: 0.9471\n",
      "\n"
     ]
    },
    {
     "name": "stdout",
     "output_type": "stream",
     "text": [
      "Epoch 40, Loss 0.0462\n",
      "Training Accuracy: 0.9506, Testing Accuracy: 0.9561\n",
      "\n"
     ]
    },
    {
     "name": "stdout",
     "output_type": "stream",
     "text": [
      "Epoch 50, Loss 0.04\n",
      "Training Accuracy: 0.9553, Testing Accuracy: 0.9617\n",
      "\n"
     ]
    },
    {
     "name": "stdout",
     "output_type": "stream",
     "text": [
      "Epoch 60, Loss 0.0363\n",
      "Training Accuracy: 0.9579, Testing Accuracy: 0.9657\n",
      "\n"
     ]
    },
    {
     "name": "stdout",
     "output_type": "stream",
     "text": [
      "Epoch 70, Loss 0.0337\n",
      "Training Accuracy: 0.9599, Testing Accuracy: 0.9682\n",
      "\n"
     ]
    },
    {
     "name": "stdout",
     "output_type": "stream",
     "text": [
      "Epoch 80, Loss 0.0319\n",
      "Training Accuracy: 0.9614, Testing Accuracy: 0.9693\n",
      "\n"
     ]
    },
    {
     "name": "stdout",
     "output_type": "stream",
     "text": [
      "Epoch 90, Loss 0.0304\n",
      "Training Accuracy: 0.9636, Testing Accuracy: 0.9698\n",
      "\n"
     ]
    },
    {
     "name": "stdout",
     "output_type": "stream",
     "text": [
      "Epoch 100, Loss 0.0292\n",
      "Training Accuracy: 0.9653, Testing Accuracy: 0.9688\n",
      "\n"
     ]
    },
    {
     "name": "stdout",
     "output_type": "stream",
     "text": [
      "Epoch 110, Loss 0.0281\n",
      "Training Accuracy: 0.9667, Testing Accuracy: 0.9698\n",
      "\n"
     ]
    },
    {
     "name": "stdout",
     "output_type": "stream",
     "text": [
      "Epoch 120, Loss 0.0273\n",
      "Training Accuracy: 0.9678, Testing Accuracy: 0.9698\n",
      "\n"
     ]
    },
    {
     "name": "stdout",
     "output_type": "stream",
     "text": [
      "Epoch 130, Loss 0.0265\n",
      "Training Accuracy: 0.9682, Testing Accuracy: 0.9698\n",
      "\n"
     ]
    },
    {
     "name": "stdout",
     "output_type": "stream",
     "text": [
      "Epoch 140, Loss 0.0258\n",
      "Training Accuracy: 0.9687, Testing Accuracy: 0.9703\n",
      "\n"
     ]
    },
    {
     "name": "stdout",
     "output_type": "stream",
     "text": [
      "Epoch 150, Loss 0.0252\n",
      "Training Accuracy: 0.9695, Testing Accuracy: 0.9703\n",
      "\n"
     ]
    },
    {
     "name": "stdout",
     "output_type": "stream",
     "text": [
      "Epoch 160, Loss 0.0246\n",
      "Training Accuracy: 0.9705, Testing Accuracy: 0.9728\n",
      "\n"
     ]
    },
    {
     "name": "stdout",
     "output_type": "stream",
     "text": [
      "Epoch 170, Loss 0.0241\n",
      "Training Accuracy: 0.9719, Testing Accuracy: 0.9728\n",
      "\n"
     ]
    },
    {
     "name": "stdout",
     "output_type": "stream",
     "text": [
      "Epoch 180, Loss 0.0236\n",
      "Training Accuracy: 0.9723, Testing Accuracy: 0.9733\n",
      "\n"
     ]
    },
    {
     "name": "stdout",
     "output_type": "stream",
     "text": [
      "Epoch 190, Loss 0.0231\n",
      "Training Accuracy: 0.9729, Testing Accuracy: 0.9733\n",
      "\n"
     ]
    },
    {
     "name": "stdout",
     "output_type": "stream",
     "text": [
      "Epoch 200, Loss 0.0227\n",
      "Training Accuracy: 0.9735, Testing Accuracy: 0.9733\n",
      "\n"
     ]
    },
    {
     "name": "stdout",
     "output_type": "stream",
     "text": [
      "Epoch 210, Loss 0.0223\n",
      "Training Accuracy: 0.9742, Testing Accuracy: 0.9733\n",
      "\n"
     ]
    },
    {
     "name": "stdout",
     "output_type": "stream",
     "text": [
      "Epoch 220, Loss 0.0219\n",
      "Training Accuracy: 0.9746, Testing Accuracy: 0.9728\n",
      "\n"
     ]
    },
    {
     "name": "stdout",
     "output_type": "stream",
     "text": [
      "Epoch 230, Loss 0.0215\n",
      "Training Accuracy: 0.9752, Testing Accuracy: 0.9733\n",
      "\n"
     ]
    },
    {
     "name": "stdout",
     "output_type": "stream",
     "text": [
      "Epoch 240, Loss 0.0212\n",
      "Training Accuracy: 0.9759, Testing Accuracy: 0.9728\n",
      "\n"
     ]
    },
    {
     "data": {
      "text/plain": [
       "0.0214147503094176"
      ]
     },
     "execution_count": 22,
     "metadata": {},
     "output_type": "execute_result"
    }
   ],
   "source": [
    "nn_learner.train_loop(dl)"
   ]
  },
  {
   "cell_type": "code",
   "execution_count": 23,
   "id": "e0163366",
   "metadata": {
    "execution": {
     "iopub.execute_input": "2022-07-18T10:13:06.439347Z",
     "iopub.status.busy": "2022-07-18T10:13:06.438760Z",
     "iopub.status.idle": "2022-07-18T10:13:18.404189Z",
     "shell.execute_reply": "2022-07-18T10:13:18.405055Z"
    },
    "papermill": {
     "duration": 12.007341,
     "end_time": "2022-07-18T10:13:18.405187",
     "exception": false,
     "start_time": "2022-07-18T10:13:06.397846",
     "status": "completed"
    },
    "tags": []
   },
   "outputs": [
    {
     "name": "stdout",
     "output_type": "stream",
     "text": [
      "Epoch 0, Loss 0.1963\n",
      "Training Accuracy: 0.8121, Testing Accuracy: 0.8170\n",
      "\n"
     ]
    },
    {
     "name": "stdout",
     "output_type": "stream",
     "text": [
      "Epoch 10, Loss 0.0971\n",
      "Training Accuracy: 0.9147, Testing Accuracy: 0.9234\n",
      "\n"
     ]
    },
    {
     "name": "stdout",
     "output_type": "stream",
     "text": [
      "Epoch 20, Loss 0.0762\n",
      "Training Accuracy: 0.9320, Testing Accuracy: 0.9415\n",
      "\n"
     ]
    },
    {
     "name": "stdout",
     "output_type": "stream",
     "text": [
      "Epoch 30, Loss 0.0662\n",
      "Training Accuracy: 0.9384, Testing Accuracy: 0.9461\n",
      "\n"
     ]
    },
    {
     "name": "stdout",
     "output_type": "stream",
     "text": [
      "Epoch 40, Loss 0.0601\n",
      "Training Accuracy: 0.9425, Testing Accuracy: 0.9506\n",
      "\n"
     ]
    },
    {
     "name": "stdout",
     "output_type": "stream",
     "text": [
      "Epoch 50, Loss 0.0559\n",
      "Training Accuracy: 0.9457, Testing Accuracy: 0.9531\n",
      "\n"
     ]
    },
    {
     "name": "stdout",
     "output_type": "stream",
     "text": [
      "Epoch 60, Loss 0.0528\n",
      "Training Accuracy: 0.9481, Testing Accuracy: 0.9561\n",
      "\n"
     ]
    },
    {
     "name": "stdout",
     "output_type": "stream",
     "text": [
      "Epoch 70, Loss 0.0504\n",
      "Training Accuracy: 0.9498, Testing Accuracy: 0.9597\n",
      "\n"
     ]
    },
    {
     "name": "stdout",
     "output_type": "stream",
     "text": [
      "Epoch 80, Loss 0.0484\n",
      "Training Accuracy: 0.9513, Testing Accuracy: 0.9602\n",
      "\n"
     ]
    },
    {
     "name": "stdout",
     "output_type": "stream",
     "text": [
      "Epoch 90, Loss 0.0468\n",
      "Training Accuracy: 0.9529, Testing Accuracy: 0.9607\n",
      "\n"
     ]
    },
    {
     "name": "stdout",
     "output_type": "stream",
     "text": [
      "Epoch 100, Loss 0.0455\n",
      "Training Accuracy: 0.9540, Testing Accuracy: 0.9607\n",
      "\n"
     ]
    },
    {
     "name": "stdout",
     "output_type": "stream",
     "text": [
      "Epoch 110, Loss 0.0443\n",
      "Training Accuracy: 0.9543, Testing Accuracy: 0.9612\n",
      "\n"
     ]
    },
    {
     "name": "stdout",
     "output_type": "stream",
     "text": [
      "Epoch 120, Loss 0.0433\n",
      "Training Accuracy: 0.9551, Testing Accuracy: 0.9612\n",
      "\n"
     ]
    },
    {
     "name": "stdout",
     "output_type": "stream",
     "text": [
      "Epoch 130, Loss 0.0424\n",
      "Training Accuracy: 0.9559, Testing Accuracy: 0.9617\n",
      "\n"
     ]
    },
    {
     "name": "stdout",
     "output_type": "stream",
     "text": [
      "Epoch 140, Loss 0.0416\n",
      "Training Accuracy: 0.9565, Testing Accuracy: 0.9627\n",
      "\n"
     ]
    },
    {
     "name": "stdout",
     "output_type": "stream",
     "text": [
      "Epoch 150, Loss 0.0409\n",
      "Training Accuracy: 0.9571, Testing Accuracy: 0.9637\n",
      "\n"
     ]
    },
    {
     "name": "stdout",
     "output_type": "stream",
     "text": [
      "Epoch 160, Loss 0.0402\n",
      "Training Accuracy: 0.9578, Testing Accuracy: 0.9637\n",
      "\n"
     ]
    },
    {
     "name": "stdout",
     "output_type": "stream",
     "text": [
      "Epoch 170, Loss 0.0396\n",
      "Training Accuracy: 0.9585, Testing Accuracy: 0.9632\n",
      "\n"
     ]
    },
    {
     "name": "stdout",
     "output_type": "stream",
     "text": [
      "Epoch 180, Loss 0.0391\n",
      "Training Accuracy: 0.9588, Testing Accuracy: 0.9632\n",
      "\n"
     ]
    },
    {
     "name": "stdout",
     "output_type": "stream",
     "text": [
      "Epoch 190, Loss 0.0386\n",
      "Training Accuracy: 0.9590, Testing Accuracy: 0.9642\n",
      "\n"
     ]
    },
    {
     "name": "stdout",
     "output_type": "stream",
     "text": [
      "Epoch 200, Loss 0.0381\n",
      "Training Accuracy: 0.9597, Testing Accuracy: 0.9647\n",
      "\n"
     ]
    },
    {
     "name": "stdout",
     "output_type": "stream",
     "text": [
      "Epoch 210, Loss 0.0377\n",
      "Training Accuracy: 0.9598, Testing Accuracy: 0.9647\n",
      "\n"
     ]
    },
    {
     "name": "stdout",
     "output_type": "stream",
     "text": [
      "Epoch 220, Loss 0.0373\n",
      "Training Accuracy: 0.9600, Testing Accuracy: 0.9652\n",
      "\n"
     ]
    },
    {
     "name": "stdout",
     "output_type": "stream",
     "text": [
      "Epoch 230, Loss 0.0369\n",
      "Training Accuracy: 0.9604, Testing Accuracy: 0.9647\n",
      "\n"
     ]
    },
    {
     "name": "stdout",
     "output_type": "stream",
     "text": [
      "Epoch 240, Loss 0.0366\n",
      "Training Accuracy: 0.9609, Testing Accuracy: 0.9652\n",
      "\n"
     ]
    },
    {
     "data": {
      "text/plain": [
       "0.028819744394082164"
      ]
     },
     "execution_count": 23,
     "metadata": {},
     "output_type": "execute_result"
    }
   ],
   "source": [
    "lr_learner.train_loop(dl)"
   ]
  },
  {
   "cell_type": "code",
   "execution_count": 24,
   "id": "ca410940",
   "metadata": {
    "execution": {
     "iopub.execute_input": "2022-07-18T10:13:18.497629Z",
     "iopub.status.busy": "2022-07-18T10:13:18.497048Z",
     "iopub.status.idle": "2022-07-18T10:13:18.735062Z",
     "shell.execute_reply": "2022-07-18T10:13:18.735495Z"
    },
    "papermill": {
     "duration": 0.288384,
     "end_time": "2022-07-18T10:13:18.735620",
     "exception": false,
     "start_time": "2022-07-18T10:13:18.447236",
     "status": "completed"
    },
    "tags": []
   },
   "outputs": [
    {
     "data": {
      "text/plain": [
       "<matplotlib.legend.Legend at 0x7f02d1a29b38>"
      ]
     },
     "execution_count": 24,
     "metadata": {},
     "output_type": "execute_result"
    },
    {
     "data": {
      "image/png": "[encoded data removed]",
      "text/plain": [
       "<Figure size 1080x720 with 1 Axes>"
      ]
     },
     "metadata": {
      "needs_background": "light"
     },
     "output_type": "display_data"
    }
   ],
   "source": [
    "#comparing the results of NN and LR\n",
    "plt.figure(figsize=(15,10))\n",
    "\n",
    "# Neural Network plots\n",
    "plt.plot(acc_nn.accuracies, 'r-', label = \"Training Accuracies - NN\")\n",
    "plt.plot(acc_nn.test_accuracies, 'g-', label = \"Testing Accuracies - NN\")\n",
    "\n",
    "# Logistic Regression plots\n",
    "plt.plot(acc_lr.accuracies, 'k-', label = \"Training Accuracies - LR\")\n",
    "plt.plot(acc_lr.test_accuracies, 'b-', label = \"Testing Accuracies - LR\")\n",
    "plt.legend()"
   ]
  },
  {
   "cell_type": "markdown",
   "id": "80dfb35c",
   "metadata": {
    "papermill": {
     "duration": 0.042821,
     "end_time": "2022-07-18T10:13:18.821620",
     "exception": false,
     "start_time": "2022-07-18T10:13:18.778799",
     "status": "completed"
    },
    "tags": []
   },
   "source": [
    "#### Plotting the outputs of this layer of the NN.\n"
   ]
  },
  {
   "cell_type": "code",
   "execution_count": 25,
   "id": "45eb2ff5",
   "metadata": {
    "execution": {
     "iopub.execute_input": "2022-07-18T10:13:18.911210Z",
     "iopub.status.busy": "2022-07-18T10:13:18.910639Z",
     "iopub.status.idle": "2022-07-18T10:13:18.945427Z",
     "shell.execute_reply": "2022-07-18T10:13:18.946072Z"
    },
    "papermill": {
     "duration": 0.081805,
     "end_time": "2022-07-18T10:13:18.946196",
     "exception": false,
     "start_time": "2022-07-18T10:13:18.864391",
     "status": "completed"
    },
    "tags": []
   },
   "outputs": [],
   "source": [
    "new_model = Model(layers[:-2])\n",
    "testing_plot = new_model(testing_data_x)"
   ]
  },
  {
   "cell_type": "code",
   "execution_count": 26,
   "id": "4c0a5485",
   "metadata": {
    "execution": {
     "iopub.execute_input": "2022-07-18T10:13:19.040357Z",
     "iopub.status.busy": "2022-07-18T10:13:19.039785Z",
     "iopub.status.idle": "2022-07-18T10:13:19.231028Z",
     "shell.execute_reply": "2022-07-18T10:13:19.230554Z"
    },
    "papermill": {
     "duration": 0.241353,
     "end_time": "2022-07-18T10:13:19.231134",
     "exception": false,
     "start_time": "2022-07-18T10:13:18.989781",
     "status": "completed"
    },
    "tags": []
   },
   "outputs": [
    {
     "data": {
      "text/plain": [
       "Text(0.5, 1.0, 'Outputs')"
      ]
     },
     "execution_count": 26,
     "metadata": {},
     "output_type": "execute_result"
    },
    {
     "data": {
      "image/png": "[encoded data removed]",
      "text/plain": [
       "<Figure size 576x504 with 1 Axes>"
      ]
     },
     "metadata": {
      "needs_background": "light"
     },
     "output_type": "display_data"
    }
   ],
   "source": [
    "# Plotting the scatter plot of points and color coding by class\n",
    "plt.figure(figsize=(8,7))\n",
    "plt.scatter(testing_plot[:,0], testing_plot[:,1], alpha = 0.1, c = y_test.ravel());\n",
    "plt.title('Outputs')"
   ]
  },
  {
   "cell_type": "markdown",
   "id": "a74fcf8f",
   "metadata": {
    "papermill": {
     "duration": 0.044982,
     "end_time": "2022-07-18T10:13:19.342415",
     "exception": false,
     "start_time": "2022-07-18T10:13:19.297433",
     "status": "completed"
    },
    "tags": []
   },
   "source": [
    "Probability contours"
   ]
  },
  {
   "cell_type": "code",
   "execution_count": 27,
   "id": "d0afc8e3",
   "metadata": {
    "execution": {
     "iopub.execute_input": "2022-07-18T10:13:19.436424Z",
     "iopub.status.busy": "2022-07-18T10:13:19.435824Z",
     "iopub.status.idle": "2022-07-18T10:13:19.447056Z",
     "shell.execute_reply": "2022-07-18T10:13:19.446596Z"
    },
    "papermill": {
     "duration": 0.059796,
     "end_time": "2022-07-18T10:13:19.447156",
     "exception": false,
     "start_time": "2022-07-18T10:13:19.387360",
     "status": "completed"
    },
    "tags": []
   },
   "outputs": [],
   "source": [
    "model_prob = Model(layers[-2:]) "
   ]
  },
  {
   "cell_type": "code",
   "execution_count": 28,
   "id": "9b96e238",
   "metadata": {
    "execution": {
     "iopub.execute_input": "2022-07-18T10:13:19.541458Z",
     "iopub.status.busy": "2022-07-18T10:13:19.540884Z",
     "iopub.status.idle": "2022-07-18T10:13:19.554025Z",
     "shell.execute_reply": "2022-07-18T10:13:19.554464Z"
    },
    "papermill": {
     "duration": 0.062442,
     "end_time": "2022-07-18T10:13:19.554588",
     "exception": false,
     "start_time": "2022-07-18T10:13:19.492146",
     "status": "completed"
    },
    "tags": []
   },
   "outputs": [],
   "source": [
    "#creating the x and y ranges according to the above generated plot.\n",
    "x_range = np.linspace(-4, 1, 100) \n",
    "y_range = np.linspace(-6, 6, 100) \n",
    "x_grid, y_grid = np.meshgrid(x_range, y_range) # x_grid and y_grig are of size 100 X 100\n",
    "\n",
    "# converting x_grid and y_grid to continuous arrays\n",
    "x_gridflat = np.ravel(x_grid)\n",
    "y_gridflat = np.ravel(y_grid)\n",
    "\n",
    "# The last layer of the current model takes two columns as input. Hence transpose of np.vstack() is required.\n",
    "X = np.vstack((x_gridflat, y_gridflat)).T\n",
    "\n",
    "prob_contour = model_prob(X).reshape(100,100) "
   ]
  },
  {
   "cell_type": "code",
   "execution_count": 29,
   "id": "da72499a",
   "metadata": {
    "execution": {
     "iopub.execute_input": "2022-07-18T10:13:19.649369Z",
     "iopub.status.busy": "2022-07-18T10:13:19.648832Z",
     "iopub.status.idle": "2022-07-18T10:13:19.893102Z",
     "shell.execute_reply": "2022-07-18T10:13:19.893521Z"
    },
    "papermill": {
     "duration": 0.293282,
     "end_time": "2022-07-18T10:13:19.893651",
     "exception": false,
     "start_time": "2022-07-18T10:13:19.600369",
     "status": "completed"
    },
    "tags": []
   },
   "outputs": [
    {
     "data": {
      "image/png": "[encoded data removed]",
      "text/plain": [
       "<Figure size 720x648 with 1 Axes>"
      ]
     },
     "metadata": {
      "needs_background": "light"
     },
     "output_type": "display_data"
    }
   ],
   "source": [
    "plt.figure(figsize=(10,9))\n",
    "plt.scatter(testing_plot[:,0], testing_plot[:,1], alpha = 0.1, c = y_test.ravel())\n",
    "contours = plt.contour(x_grid,y_grid,prob_contour)\n",
    "plt.title('Probability Contours')\n",
    "plt.clabel(contours, inline = True );"
   ]
  },
  {
   "cell_type": "code",
   "execution_count": null,
   "id": "e81b4ac7",
   "metadata": {
    "papermill": {
     "duration": 0.047895,
     "end_time": "2022-07-18T10:13:19.990097",
     "exception": false,
     "start_time": "2022-07-18T10:13:19.942202",
     "status": "completed"
    },
    "tags": []
   },
   "outputs": [],
   "source": []
  }
 ],
 "metadata": {
  "kernelspec": {
   "display_name": "Python 3",
   "language": "python",
   "name": "python3"
  },
  "language_info": {
   "codemirror_mode": {
    "name": "ipython",
    "version": 3
   },
   "file_extension": ".py",
   "mimetype": "text/x-python",
   "name": "python",
   "nbconvert_exporter": "python",
   "pygments_lexer": "ipython3",
   "version": "3.6.15"
  },
  "papermill": {
   "default_parameters": {},
   "duration": 195.680745,
   "end_time": "2022-07-18T10:13:20.355260",
   "environment_variables": {},
   "exception": null,
   "input_path": "2020-08-11-part2.ipynb",
   "output_path": "2020-08-11-part2.ipynb",
   "parameters": {},
   "start_time": "2022-07-18T10:10:04.674515",
   "version": "2.3.3"
  }
 },
 "nbformat": 4,
 "nbformat_minor": 5
}