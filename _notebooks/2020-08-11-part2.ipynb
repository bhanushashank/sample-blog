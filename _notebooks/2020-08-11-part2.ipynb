{
 "cells": [
  {
   "cell_type": "markdown",
   "id": "98380cd3",
   "metadata": {
    "papermill": {
     "duration": 0.028649,
     "end_time": "2021-12-28T20:09:14.942285",
     "exception": false,
     "start_time": "2021-12-28T20:09:14.913636",
     "status": "completed"
    },
    "tags": []
   },
   "source": [
    "# Distinguish Your Own Digits (DYOD)"
   ]
  },
  {
   "cell_type": "markdown",
   "id": "ef31240d",
   "metadata": {
    "papermill": {
     "duration": 0.023871,
     "end_time": "2021-12-28T20:09:14.990724",
     "exception": false,
     "start_time": "2021-12-28T20:09:14.966853",
     "status": "completed"
    },
    "tags": []
   },
   "source": [
    "You are going to write a classifier that distinguishes between the number 3 and number 8."
   ]
  },
  {
   "cell_type": "code",
   "execution_count": 1,
   "id": "b15c8646",
   "metadata": {
    "execution": {
     "iopub.execute_input": "2021-12-28T20:09:15.050907Z",
     "iopub.status.busy": "2021-12-28T20:09:15.050360Z",
     "iopub.status.idle": "2021-12-28T20:09:15.060574Z",
     "shell.execute_reply": "2021-12-28T20:09:15.060971Z"
    },
    "papermill": {
     "duration": 0.046604,
     "end_time": "2021-12-28T20:09:15.061128",
     "exception": false,
     "start_time": "2021-12-28T20:09:15.014524",
     "status": "completed"
    },
    "tags": []
   },
   "outputs": [],
   "source": [
    "%load_ext autoreload\n",
    "%autoreload 2"
   ]
  },
  {
   "cell_type": "code",
   "execution_count": 2,
   "id": "22ef38dc",
   "metadata": {
    "execution": {
     "iopub.execute_input": "2021-12-28T20:09:15.113435Z",
     "iopub.status.busy": "2021-12-28T20:09:15.112916Z",
     "iopub.status.idle": "2021-12-28T20:09:15.686870Z",
     "shell.execute_reply": "2021-12-28T20:09:15.686327Z"
    },
    "papermill": {
     "duration": 0.601852,
     "end_time": "2021-12-28T20:09:15.687007",
     "exception": false,
     "start_time": "2021-12-28T20:09:15.085155",
     "status": "completed"
    },
    "tags": []
   },
   "outputs": [],
   "source": [
    "%matplotlib inline\n",
    "import numpy as np\n",
    "import matplotlib.pyplot as plt\n",
    "import pandas as pd"
   ]
  },
  {
   "cell_type": "markdown",
   "id": "ba036198",
   "metadata": {
    "papermill": {
     "duration": 0.024218,
     "end_time": "2021-12-28T20:09:15.735862",
     "exception": false,
     "start_time": "2021-12-28T20:09:15.711644",
     "status": "completed"
    },
    "tags": []
   },
   "source": [
    "From the command line run `pip install mnist`. This is a library that will help you bring down the mnist dataset. If you run this from a notebook, you need to put  `!pip install mnist` in a cell by itself."
   ]
  },
  {
   "cell_type": "code",
   "execution_count": 3,
   "id": "bb6ad8a1",
   "metadata": {
    "execution": {
     "iopub.execute_input": "2021-12-28T20:09:15.793816Z",
     "iopub.status.busy": "2021-12-28T20:09:15.793281Z",
     "iopub.status.idle": "2021-12-28T20:09:17.448718Z",
     "shell.execute_reply": "2021-12-28T20:09:17.448147Z"
    },
    "papermill": {
     "duration": 1.688946,
     "end_time": "2021-12-28T20:09:17.448862",
     "exception": false,
     "start_time": "2021-12-28T20:09:15.759916",
     "status": "completed"
    },
    "tags": []
   },
   "outputs": [
    {
     "name": "stdout",
     "output_type": "stream",
     "text": [
      "Collecting mnist\r\n",
      "  Downloading mnist-0.2.2-py2.py3-none-any.whl (3.5 kB)\r\n",
      "Requirement already satisfied: numpy in /opt/hostedtoolcache/Python/3.6.15/x64/lib/python3.6/site-packages (from mnist) (1.19.5)\r\n"
     ]
    },
    {
     "name": "stdout",
     "output_type": "stream",
     "text": [
      "Installing collected packages: mnist\r\n"
     ]
    },
    {
     "name": "stdout",
     "output_type": "stream",
     "text": [
      "Successfully installed mnist-0.2.2\r\n"
     ]
    }
   ],
   "source": [
    "!pip install mnist"
   ]
  },
  {
   "cell_type": "markdown",
   "id": "69df9c9a",
   "metadata": {
    "papermill": {
     "duration": 0.024684,
     "end_time": "2021-12-28T20:09:17.499184",
     "exception": false,
     "start_time": "2021-12-28T20:09:17.474500",
     "status": "completed"
    },
    "tags": []
   },
   "source": [
    "## Preparing the Data"
   ]
  },
  {
   "cell_type": "code",
   "execution_count": 4,
   "id": "7f69d806",
   "metadata": {
    "execution": {
     "iopub.execute_input": "2021-12-28T20:09:17.553914Z",
     "iopub.status.busy": "2021-12-28T20:09:17.553401Z",
     "iopub.status.idle": "2021-12-28T20:09:17.566748Z",
     "shell.execute_reply": "2021-12-28T20:09:17.567223Z"
    },
    "papermill": {
     "duration": 0.04361,
     "end_time": "2021-12-28T20:09:17.567348",
     "exception": false,
     "start_time": "2021-12-28T20:09:17.523738",
     "status": "completed"
    },
    "tags": []
   },
   "outputs": [],
   "source": [
    "import mnist"
   ]
  },
  {
   "cell_type": "code",
   "execution_count": 5,
   "id": "a411e44f",
   "metadata": {
    "execution": {
     "iopub.execute_input": "2021-12-28T20:09:17.620788Z",
     "iopub.status.busy": "2021-12-28T20:09:17.620247Z",
     "iopub.status.idle": "2021-12-28T20:09:18.125031Z",
     "shell.execute_reply": "2021-12-28T20:09:18.124434Z"
    },
    "papermill": {
     "duration": 0.533184,
     "end_time": "2021-12-28T20:09:18.125176",
     "exception": false,
     "start_time": "2021-12-28T20:09:17.591992",
     "status": "completed"
    },
    "tags": []
   },
   "outputs": [],
   "source": [
    "train_images = mnist.train_images()\n",
    "train_labels = mnist.train_labels()"
   ]
  },
  {
   "cell_type": "code",
   "execution_count": 6,
   "id": "dceab3a5",
   "metadata": {
    "execution": {
     "iopub.execute_input": "2021-12-28T20:09:18.185248Z",
     "iopub.status.busy": "2021-12-28T20:09:18.184693Z",
     "iopub.status.idle": "2021-12-28T20:09:18.195646Z",
     "shell.execute_reply": "2021-12-28T20:09:18.196120Z"
    },
    "papermill": {
     "duration": 0.044925,
     "end_time": "2021-12-28T20:09:18.196246",
     "exception": false,
     "start_time": "2021-12-28T20:09:18.151321",
     "status": "completed"
    },
    "tags": []
   },
   "outputs": [
    {
     "data": {
      "text/plain": [
       "((60000, 28, 28), (60000,))"
      ]
     },
     "execution_count": 6,
     "metadata": {},
     "output_type": "execute_result"
    }
   ],
   "source": [
    "train_images.shape, train_labels.shape"
   ]
  },
  {
   "cell_type": "code",
   "execution_count": 7,
   "id": "f50dc2bb",
   "metadata": {
    "execution": {
     "iopub.execute_input": "2021-12-28T20:09:18.254718Z",
     "iopub.status.busy": "2021-12-28T20:09:18.249144Z",
     "iopub.status.idle": "2021-12-28T20:09:18.446030Z",
     "shell.execute_reply": "2021-12-28T20:09:18.445487Z"
    },
    "papermill": {
     "duration": 0.225194,
     "end_time": "2021-12-28T20:09:18.446174",
     "exception": false,
     "start_time": "2021-12-28T20:09:18.220980",
     "status": "completed"
    },
    "tags": []
   },
   "outputs": [],
   "source": [
    "test_images = mnist.test_images()\n",
    "test_labels = mnist.test_labels()"
   ]
  },
  {
   "cell_type": "code",
   "execution_count": 8,
   "id": "fc38cf1b",
   "metadata": {
    "execution": {
     "iopub.execute_input": "2021-12-28T20:09:18.505890Z",
     "iopub.status.busy": "2021-12-28T20:09:18.505329Z",
     "iopub.status.idle": "2021-12-28T20:09:18.515441Z",
     "shell.execute_reply": "2021-12-28T20:09:18.515012Z"
    },
    "papermill": {
     "duration": 0.044028,
     "end_time": "2021-12-28T20:09:18.515548",
     "exception": false,
     "start_time": "2021-12-28T20:09:18.471520",
     "status": "completed"
    },
    "tags": []
   },
   "outputs": [
    {
     "data": {
      "text/plain": [
       "((10000, 28, 28), (10000,))"
      ]
     },
     "execution_count": 8,
     "metadata": {},
     "output_type": "execute_result"
    }
   ],
   "source": [
    "test_images.shape, test_labels.shape"
   ]
  },
  {
   "cell_type": "code",
   "execution_count": 9,
   "id": "f9ed8fe0",
   "metadata": {
    "execution": {
     "iopub.execute_input": "2021-12-28T20:09:18.573660Z",
     "iopub.status.busy": "2021-12-28T20:09:18.573158Z",
     "iopub.status.idle": "2021-12-28T20:09:18.706653Z",
     "shell.execute_reply": "2021-12-28T20:09:18.707123Z"
    },
    "papermill": {
     "duration": 0.16654,
     "end_time": "2021-12-28T20:09:18.707280",
     "exception": false,
     "start_time": "2021-12-28T20:09:18.540740",
     "status": "completed"
    },
    "tags": []
   },
   "outputs": [
    {
     "name": "stdout",
     "output_type": "stream",
     "text": [
      "2\n"
     ]
    },
    {
     "data": {
      "text/plain": [
       "<matplotlib.image.AxesImage at 0x7ff8d34c9518>"
      ]
     },
     "execution_count": 9,
     "metadata": {},
     "output_type": "execute_result"
    },
    {
     "data": {
      "image/png": "[encoded data removed]",
      "text/plain": [
       "<Figure size 432x288 with 1 Axes>"
      ]
     },
     "metadata": {
      "needs_background": "light"
     },
     "output_type": "display_data"
    }
   ],
   "source": [
    "image_index = 7776 # You may select anything up to 60,000\n",
    "print(train_labels[image_index]) \n",
    "plt.imshow(train_images[image_index], cmap='Greys')"
   ]
  },
  {
   "cell_type": "markdown",
   "id": "a8d2388d",
   "metadata": {
    "papermill": {
     "duration": 0.026893,
     "end_time": "2021-12-28T20:09:18.761084",
     "exception": false,
     "start_time": "2021-12-28T20:09:18.734191",
     "status": "completed"
    },
    "tags": []
   },
   "source": [
    "## Filter data to get 3 and 8 out"
   ]
  },
  {
   "cell_type": "code",
   "execution_count": 10,
   "id": "776f7fc7",
   "metadata": {
    "execution": {
     "iopub.execute_input": "2021-12-28T20:09:18.820811Z",
     "iopub.status.busy": "2021-12-28T20:09:18.820261Z",
     "iopub.status.idle": "2021-12-28T20:09:18.834620Z",
     "shell.execute_reply": "2021-12-28T20:09:18.835053Z"
    },
    "papermill": {
     "duration": 0.047713,
     "end_time": "2021-12-28T20:09:18.835182",
     "exception": false,
     "start_time": "2021-12-28T20:09:18.787469",
     "status": "completed"
    },
    "tags": []
   },
   "outputs": [],
   "source": [
    "train_filter = np.where((train_labels == 3 ) | (train_labels == 8))\n",
    "test_filter = np.where((test_labels == 3) | (test_labels == 8))\n",
    "X_train, y_train = train_images[train_filter], train_labels[train_filter]\n",
    "X_test, y_test = test_images[test_filter], test_labels[test_filter]"
   ]
  },
  {
   "cell_type": "markdown",
   "id": "948f0b7e",
   "metadata": {
    "papermill": {
     "duration": 0.026179,
     "end_time": "2021-12-28T20:09:18.887766",
     "exception": false,
     "start_time": "2021-12-28T20:09:18.861587",
     "status": "completed"
    },
    "tags": []
   },
   "source": [
    "We normalize the pizel values in the 0 to 1 range"
   ]
  },
  {
   "cell_type": "code",
   "execution_count": 11,
   "id": "ee4c2166",
   "metadata": {
    "execution": {
     "iopub.execute_input": "2021-12-28T20:09:18.946486Z",
     "iopub.status.busy": "2021-12-28T20:09:18.945972Z",
     "iopub.status.idle": "2021-12-28T20:09:18.989672Z",
     "shell.execute_reply": "2021-12-28T20:09:18.989157Z"
    },
    "papermill": {
     "duration": 0.075839,
     "end_time": "2021-12-28T20:09:18.989806",
     "exception": false,
     "start_time": "2021-12-28T20:09:18.913967",
     "status": "completed"
    },
    "tags": []
   },
   "outputs": [],
   "source": [
    "X_train = X_train/255.\n",
    "X_test = X_test/255."
   ]
  },
  {
   "cell_type": "markdown",
   "id": "ddcf4fab",
   "metadata": {
    "papermill": {
     "duration": 0.026503,
     "end_time": "2021-12-28T20:09:19.043544",
     "exception": false,
     "start_time": "2021-12-28T20:09:19.017041",
     "status": "completed"
    },
    "tags": []
   },
   "source": [
    "And setup the labels as 1 (when the digit is 3) and 0 (when the digit is 8)"
   ]
  },
  {
   "cell_type": "code",
   "execution_count": 12,
   "id": "7dc908f2",
   "metadata": {
    "execution": {
     "iopub.execute_input": "2021-12-28T20:09:19.101692Z",
     "iopub.status.busy": "2021-12-28T20:09:19.101162Z",
     "iopub.status.idle": "2021-12-28T20:09:19.112621Z",
     "shell.execute_reply": "2021-12-28T20:09:19.112184Z"
    },
    "papermill": {
     "duration": 0.042832,
     "end_time": "2021-12-28T20:09:19.112738",
     "exception": false,
     "start_time": "2021-12-28T20:09:19.069906",
     "status": "completed"
    },
    "tags": []
   },
   "outputs": [],
   "source": [
    "y_train = 1*(y_train==3)\n",
    "y_test = 1*(y_test==3)"
   ]
  },
  {
   "cell_type": "code",
   "execution_count": 13,
   "id": "01e4e969",
   "metadata": {
    "execution": {
     "iopub.execute_input": "2021-12-28T20:09:19.168609Z",
     "iopub.status.busy": "2021-12-28T20:09:19.168066Z",
     "iopub.status.idle": "2021-12-28T20:09:19.181033Z",
     "shell.execute_reply": "2021-12-28T20:09:19.180616Z"
    },
    "papermill": {
     "duration": 0.042122,
     "end_time": "2021-12-28T20:09:19.181142",
     "exception": false,
     "start_time": "2021-12-28T20:09:19.139020",
     "status": "completed"
    },
    "tags": []
   },
   "outputs": [
    {
     "data": {
      "text/plain": [
       "((11982, 28, 28), (1984, 28, 28))"
      ]
     },
     "execution_count": 13,
     "metadata": {},
     "output_type": "execute_result"
    }
   ],
   "source": [
    "X_train.shape, X_test.shape"
   ]
  },
  {
   "cell_type": "markdown",
   "id": "5ccf3f85",
   "metadata": {
    "papermill": {
     "duration": 0.026363,
     "end_time": "2021-12-28T20:09:19.233979",
     "exception": false,
     "start_time": "2021-12-28T20:09:19.207616",
     "status": "completed"
    },
    "tags": []
   },
   "source": [
    "We reshape the data to flatten the image pixels into a set of features or co-variates:"
   ]
  },
  {
   "cell_type": "code",
   "execution_count": 14,
   "id": "5286a4a3",
   "metadata": {
    "execution": {
     "iopub.execute_input": "2021-12-28T20:09:19.304882Z",
     "iopub.status.busy": "2021-12-28T20:09:19.298464Z",
     "iopub.status.idle": "2021-12-28T20:09:19.308163Z",
     "shell.execute_reply": "2021-12-28T20:09:19.307467Z"
    },
    "papermill": {
     "duration": 0.047418,
     "end_time": "2021-12-28T20:09:19.308270",
     "exception": false,
     "start_time": "2021-12-28T20:09:19.260852",
     "status": "completed"
    },
    "tags": []
   },
   "outputs": [
    {
     "data": {
      "text/plain": [
       "((11982, 784), (1984, 784))"
      ]
     },
     "execution_count": 14,
     "metadata": {},
     "output_type": "execute_result"
    }
   ],
   "source": [
    "X_train = X_train.reshape(X_train.shape[0], -1)\n",
    "X_test = X_test.reshape(X_test.shape[0], -1)\n",
    "X_train.shape, X_test.shape"
   ]
  },
  {
   "cell_type": "code",
   "execution_count": 15,
   "id": "73c5f88a",
   "metadata": {
    "execution": {
     "iopub.execute_input": "2021-12-28T20:09:19.369626Z",
     "iopub.status.busy": "2021-12-28T20:09:19.369120Z",
     "iopub.status.idle": "2021-12-28T20:09:19.385107Z",
     "shell.execute_reply": "2021-12-28T20:09:19.385536Z"
    },
    "papermill": {
     "duration": 0.050719,
     "end_time": "2021-12-28T20:09:19.385655",
     "exception": false,
     "start_time": "2021-12-28T20:09:19.334936",
     "status": "completed"
    },
    "tags": []
   },
   "outputs": [],
   "source": [
    "#Impoting functions from 'Kudzu'\n",
    "from kudzu.model import Model\n",
    "from kudzu.train import Learner\n",
    "from kudzu.optim import GD\n",
    "from kudzu.data import Data, Sampler,Dataloader\n",
    "\n",
    "from kudzu.callbacks import AccCallback\n",
    "from kudzu.callbacks import ClfCallback\n",
    "\n",
    "from kudzu.loss import MSE\n",
    "\n",
    "from kudzu.layer import Sigmoid,Relu\n",
    "from kudzu.layer import Affine"
   ]
  },
  {
   "cell_type": "markdown",
   "id": "bc01172a",
   "metadata": {
    "papermill": {
     "duration": 0.026514,
     "end_time": "2021-12-28T20:09:19.438915",
     "exception": false,
     "start_time": "2021-12-28T20:09:19.412401",
     "status": "completed"
    },
    "tags": []
   },
   "source": [
    "### Let us create a `Config` class, to store important parameters. \n",
    "This class essentially plays the role of a dictionary."
   ]
  },
  {
   "cell_type": "code",
   "execution_count": 16,
   "id": "978281aa",
   "metadata": {
    "execution": {
     "iopub.execute_input": "2021-12-28T20:09:19.501074Z",
     "iopub.status.busy": "2021-12-28T20:09:19.500442Z",
     "iopub.status.idle": "2021-12-28T20:09:19.509867Z",
     "shell.execute_reply": "2021-12-28T20:09:19.510255Z"
    },
    "papermill": {
     "duration": 0.044852,
     "end_time": "2021-12-28T20:09:19.510375",
     "exception": false,
     "start_time": "2021-12-28T20:09:19.465523",
     "status": "completed"
    },
    "tags": []
   },
   "outputs": [],
   "source": [
    "class Config:\n",
    "    pass\n",
    "config = Config()\n",
    "config.lr = 0.001\n",
    "config.num_epochs = 250\n",
    "config.bs = 50"
   ]
  },
  {
   "cell_type": "markdown",
   "id": "1385fa59",
   "metadata": {
    "papermill": {
     "duration": 0.026895,
     "end_time": "2021-12-28T20:09:19.564163",
     "exception": false,
     "start_time": "2021-12-28T20:09:19.537268",
     "status": "completed"
    },
    "tags": []
   },
   "source": [
    "### Running Models with the Training data\n",
    "Details about the network layers:\n",
    "- A first affine layer has 784 inputs and does 100 affine transforms. These are followed by a Relu\n",
    "- A second affine layer has 100 inputs from the 100 activations of the past layer, and does 100 affine transforms. These are followed by a Relu\n",
    "- A third affine layer has 100 activations and does 2 affine transformations to create an embedding for visualization. There is no non-linearity here.\n",
    "- A final \"logistic regression\" which has an affine transform from 2 inputs to 1 output, which is squeezed through a sigmoid.\n"
   ]
  },
  {
   "cell_type": "code",
   "execution_count": 17,
   "id": "2b9c66db",
   "metadata": {
    "execution": {
     "iopub.execute_input": "2021-12-28T20:09:19.623248Z",
     "iopub.status.busy": "2021-12-28T20:09:19.622651Z",
     "iopub.status.idle": "2021-12-28T20:09:19.635020Z",
     "shell.execute_reply": "2021-12-28T20:09:19.634582Z"
    },
    "papermill": {
     "duration": 0.044278,
     "end_time": "2021-12-28T20:09:19.635125",
     "exception": false,
     "start_time": "2021-12-28T20:09:19.590847",
     "status": "completed"
    },
    "tags": []
   },
   "outputs": [],
   "source": [
    "data = Data(X_train, y_train.reshape(-1,1))\n",
    "sampler = Sampler(data, config.bs, shuffle=True)\n",
    "\n",
    "dl = Dataloader(data, sampler)\n",
    "\n",
    "opt = GD(config.lr)\n",
    "loss = MSE()"
   ]
  },
  {
   "cell_type": "code",
   "execution_count": 18,
   "id": "b275e4c2",
   "metadata": {
    "execution": {
     "iopub.execute_input": "2021-12-28T20:09:19.698174Z",
     "iopub.status.busy": "2021-12-28T20:09:19.694266Z",
     "iopub.status.idle": "2021-12-28T20:09:19.705038Z",
     "shell.execute_reply": "2021-12-28T20:09:19.704620Z"
    },
    "papermill": {
     "duration": 0.043,
     "end_time": "2021-12-28T20:09:19.705149",
     "exception": false,
     "start_time": "2021-12-28T20:09:19.662149",
     "status": "completed"
    },
    "tags": []
   },
   "outputs": [],
   "source": [
    "training_data_x = X_train\n",
    "testing_data_x = X_test\n",
    "training_data_y = y_train.reshape(-1,1)\n",
    "testing_data_y = y_test.reshape(-1,1)"
   ]
  },
  {
   "cell_type": "code",
   "execution_count": 19,
   "id": "76951160",
   "metadata": {
    "execution": {
     "iopub.execute_input": "2021-12-28T20:09:19.769267Z",
     "iopub.status.busy": "2021-12-28T20:09:19.768728Z",
     "iopub.status.idle": "2021-12-28T20:09:19.780173Z",
     "shell.execute_reply": "2021-12-28T20:09:19.780631Z"
    },
    "papermill": {
     "duration": 0.048807,
     "end_time": "2021-12-28T20:09:19.780757",
     "exception": false,
     "start_time": "2021-12-28T20:09:19.731950",
     "status": "completed"
    },
    "tags": []
   },
   "outputs": [
    {
     "name": "stdout",
     "output_type": "stream",
     "text": [
      "xavier\n",
      "xavier\n",
      "xavier\n",
      "xavier\n",
      "xavier\n"
     ]
    }
   ],
   "source": [
    "layers = [Affine(\"first\", 784, 100), Relu(\"first\"), Affine(\"second\", 100, 100), Relu(\"second\"), Affine(\"third\", 100, 2), Affine(\"last\", 2, 1), Sigmoid(\"last\")]\n",
    "model_nn = Model(layers)\n",
    "model_lr = Model([Affine(\"logits\", 784, 1), Sigmoid(\"sigmoid\")])"
   ]
  },
  {
   "cell_type": "code",
   "execution_count": 20,
   "id": "6eede77a",
   "metadata": {
    "execution": {
     "iopub.execute_input": "2021-12-28T20:09:19.840031Z",
     "iopub.status.busy": "2021-12-28T20:09:19.839517Z",
     "iopub.status.idle": "2021-12-28T20:09:19.850961Z",
     "shell.execute_reply": "2021-12-28T20:09:19.851369Z"
    },
    "papermill": {
     "duration": 0.043667,
     "end_time": "2021-12-28T20:09:19.851491",
     "exception": false,
     "start_time": "2021-12-28T20:09:19.807824",
     "status": "completed"
    },
    "tags": []
   },
   "outputs": [],
   "source": [
    "nn_learner = Learner(loss, model_nn, opt, config.num_epochs)\n",
    "acc_nn = ClfCallback(nn_learner, config.bs, training_data_x , testing_data_x, training_data_y, testing_data_y)\n",
    "nn_learner.set_callbacks([acc_nn])"
   ]
  },
  {
   "cell_type": "code",
   "execution_count": 21,
   "id": "877b6cc7",
   "metadata": {
    "execution": {
     "iopub.execute_input": "2021-12-28T20:09:19.920602Z",
     "iopub.status.busy": "2021-12-28T20:09:19.915076Z",
     "iopub.status.idle": "2021-12-28T20:09:19.922389Z",
     "shell.execute_reply": "2021-12-28T20:09:19.922774Z"
    },
    "papermill": {
     "duration": 0.044303,
     "end_time": "2021-12-28T20:09:19.922895",
     "exception": false,
     "start_time": "2021-12-28T20:09:19.878592",
     "status": "completed"
    },
    "tags": []
   },
   "outputs": [],
   "source": [
    "lr_learner = Learner(loss, model_lr, opt, config.num_epochs)\n",
    "acc_lr = ClfCallback(lr_learner, config.bs, training_data_x , testing_data_x, training_data_y, testing_data_y)\n",
    "lr_learner.set_callbacks([acc_lr])"
   ]
  },
  {
   "cell_type": "code",
   "execution_count": 22,
   "id": "d9b133c3",
   "metadata": {
    "execution": {
     "iopub.execute_input": "2021-12-28T20:09:19.981402Z",
     "iopub.status.busy": "2021-12-28T20:09:19.980897Z",
     "iopub.status.idle": "2021-12-28T20:10:35.315037Z",
     "shell.execute_reply": "2021-12-28T20:10:35.315796Z"
    },
    "papermill": {
     "duration": 75.365989,
     "end_time": "2021-12-28T20:10:35.315947",
     "exception": false,
     "start_time": "2021-12-28T20:09:19.949958",
     "status": "completed"
    },
    "tags": []
   },
   "outputs": [
    {
     "name": "stdout",
     "output_type": "stream",
     "text": [
      "Epoch 0, Loss 0.2466\n",
      "Training Accuracy: 0.6076, Testing Accuracy: 0.5927\n",
      "\n"
     ]
    },
    {
     "name": "stdout",
     "output_type": "stream",
     "text": [
      "Epoch 10, Loss 0.1407\n",
      "Training Accuracy: 0.9049, Testing Accuracy: 0.9173\n",
      "\n"
     ]
    },
    {
     "name": "stdout",
     "output_type": "stream",
     "text": [
      "Epoch 20, Loss 0.071\n",
      "Training Accuracy: 0.9341, Testing Accuracy: 0.9466\n",
      "\n"
     ]
    },
    {
     "name": "stdout",
     "output_type": "stream",
     "text": [
      "Epoch 30, Loss 0.0508\n",
      "Training Accuracy: 0.9477, Testing Accuracy: 0.9567\n",
      "\n"
     ]
    },
    {
     "name": "stdout",
     "output_type": "stream",
     "text": [
      "Epoch 40, Loss 0.0421\n",
      "Training Accuracy: 0.9548, Testing Accuracy: 0.9617\n",
      "\n"
     ]
    },
    {
     "name": "stdout",
     "output_type": "stream",
     "text": [
      "Epoch 50, Loss 0.0372\n",
      "Training Accuracy: 0.9589, Testing Accuracy: 0.9642\n",
      "\n"
     ]
    },
    {
     "name": "stdout",
     "output_type": "stream",
     "text": [
      "Epoch 60, Loss 0.0341\n",
      "Training Accuracy: 0.9610, Testing Accuracy: 0.9657\n",
      "\n"
     ]
    },
    {
     "name": "stdout",
     "output_type": "stream",
     "text": [
      "Epoch 70, Loss 0.0318\n",
      "Training Accuracy: 0.9633, Testing Accuracy: 0.9677\n",
      "\n"
     ]
    },
    {
     "name": "stdout",
     "output_type": "stream",
     "text": [
      "Epoch 80, Loss 0.03\n",
      "Training Accuracy: 0.9656, Testing Accuracy: 0.9682\n",
      "\n"
     ]
    },
    {
     "name": "stdout",
     "output_type": "stream",
     "text": [
      "Epoch 90, Loss 0.0285\n",
      "Training Accuracy: 0.9669, Testing Accuracy: 0.9688\n",
      "\n"
     ]
    },
    {
     "name": "stdout",
     "output_type": "stream",
     "text": [
      "Epoch 100, Loss 0.0273\n",
      "Training Accuracy: 0.9684, Testing Accuracy: 0.9688\n",
      "\n"
     ]
    },
    {
     "name": "stdout",
     "output_type": "stream",
     "text": [
      "Epoch 110, Loss 0.0263\n",
      "Training Accuracy: 0.9695, Testing Accuracy: 0.9688\n",
      "\n"
     ]
    },
    {
     "name": "stdout",
     "output_type": "stream",
     "text": [
      "Epoch 120, Loss 0.0254\n",
      "Training Accuracy: 0.9705, Testing Accuracy: 0.9693\n",
      "\n"
     ]
    },
    {
     "name": "stdout",
     "output_type": "stream",
     "text": [
      "Epoch 130, Loss 0.0246\n",
      "Training Accuracy: 0.9720, Testing Accuracy: 0.9713\n",
      "\n"
     ]
    },
    {
     "name": "stdout",
     "output_type": "stream",
     "text": [
      "Epoch 140, Loss 0.0238\n",
      "Training Accuracy: 0.9727, Testing Accuracy: 0.9713\n",
      "\n"
     ]
    },
    {
     "name": "stdout",
     "output_type": "stream",
     "text": [
      "Epoch 150, Loss 0.0232\n",
      "Training Accuracy: 0.9732, Testing Accuracy: 0.9718\n",
      "\n"
     ]
    },
    {
     "name": "stdout",
     "output_type": "stream",
     "text": [
      "Epoch 160, Loss 0.0226\n",
      "Training Accuracy: 0.9740, Testing Accuracy: 0.9728\n",
      "\n"
     ]
    },
    {
     "name": "stdout",
     "output_type": "stream",
     "text": [
      "Epoch 170, Loss 0.022\n",
      "Training Accuracy: 0.9746, Testing Accuracy: 0.9743\n",
      "\n"
     ]
    },
    {
     "name": "stdout",
     "output_type": "stream",
     "text": [
      "Epoch 180, Loss 0.0215\n",
      "Training Accuracy: 0.9752, Testing Accuracy: 0.9743\n",
      "\n"
     ]
    },
    {
     "name": "stdout",
     "output_type": "stream",
     "text": [
      "Epoch 190, Loss 0.0209\n",
      "Training Accuracy: 0.9760, Testing Accuracy: 0.9738\n",
      "\n"
     ]
    },
    {
     "name": "stdout",
     "output_type": "stream",
     "text": [
      "Epoch 200, Loss 0.0204\n",
      "Training Accuracy: 0.9769, Testing Accuracy: 0.9743\n",
      "\n"
     ]
    },
    {
     "name": "stdout",
     "output_type": "stream",
     "text": [
      "Epoch 210, Loss 0.02\n",
      "Training Accuracy: 0.9775, Testing Accuracy: 0.9738\n",
      "\n"
     ]
    },
    {
     "name": "stdout",
     "output_type": "stream",
     "text": [
      "Epoch 220, Loss 0.0195\n",
      "Training Accuracy: 0.9781, Testing Accuracy: 0.9738\n",
      "\n"
     ]
    },
    {
     "name": "stdout",
     "output_type": "stream",
     "text": [
      "Epoch 230, Loss 0.0191\n",
      "Training Accuracy: 0.9785, Testing Accuracy: 0.9738\n",
      "\n"
     ]
    },
    {
     "name": "stdout",
     "output_type": "stream",
     "text": [
      "Epoch 240, Loss 0.0187\n",
      "Training Accuracy: 0.9789, Testing Accuracy: 0.9738\n",
      "\n"
     ]
    },
    {
     "data": {
      "text/plain": [
       "0.020412047407232375"
      ]
     },
     "execution_count": 22,
     "metadata": {},
     "output_type": "execute_result"
    }
   ],
   "source": [
    "nn_learner.train_loop(dl)"
   ]
  },
  {
   "cell_type": "code",
   "execution_count": 23,
   "id": "e0163366",
   "metadata": {
    "execution": {
     "iopub.execute_input": "2021-12-28T20:10:35.397569Z",
     "iopub.status.busy": "2021-12-28T20:10:35.397063Z",
     "iopub.status.idle": "2021-12-28T20:10:48.971894Z",
     "shell.execute_reply": "2021-12-28T20:10:48.972650Z"
    },
    "papermill": {
     "duration": 13.62175,
     "end_time": "2021-12-28T20:10:48.972807",
     "exception": false,
     "start_time": "2021-12-28T20:10:35.351057",
     "status": "completed"
    },
    "tags": []
   },
   "outputs": [
    {
     "name": "stdout",
     "output_type": "stream",
     "text": [
      "Epoch 0, Loss 0.2622\n",
      "Training Accuracy: 0.5929, Testing Accuracy: 0.5867\n",
      "\n"
     ]
    },
    {
     "name": "stdout",
     "output_type": "stream",
     "text": [
      "Epoch 10, Loss 0.1085\n",
      "Training Accuracy: 0.8981, Testing Accuracy: 0.9022\n",
      "\n"
     ]
    },
    {
     "name": "stdout",
     "output_type": "stream",
     "text": [
      "Epoch 20, Loss 0.0817\n",
      "Training Accuracy: 0.9249, Testing Accuracy: 0.9335\n",
      "\n"
     ]
    },
    {
     "name": "stdout",
     "output_type": "stream",
     "text": [
      "Epoch 30, Loss 0.0697\n",
      "Training Accuracy: 0.9340, Testing Accuracy: 0.9456\n",
      "\n"
     ]
    },
    {
     "name": "stdout",
     "output_type": "stream",
     "text": [
      "Epoch 40, Loss 0.0626\n",
      "Training Accuracy: 0.9399, Testing Accuracy: 0.9541\n",
      "\n"
     ]
    },
    {
     "name": "stdout",
     "output_type": "stream",
     "text": [
      "Epoch 50, Loss 0.0579\n",
      "Training Accuracy: 0.9440, Testing Accuracy: 0.9556\n",
      "\n"
     ]
    },
    {
     "name": "stdout",
     "output_type": "stream",
     "text": [
      "Epoch 60, Loss 0.0544\n",
      "Training Accuracy: 0.9476, Testing Accuracy: 0.9577\n",
      "\n"
     ]
    },
    {
     "name": "stdout",
     "output_type": "stream",
     "text": [
      "Epoch 70, Loss 0.0518\n",
      "Training Accuracy: 0.9489, Testing Accuracy: 0.9572\n",
      "\n"
     ]
    },
    {
     "name": "stdout",
     "output_type": "stream",
     "text": [
      "Epoch 80, Loss 0.0496\n",
      "Training Accuracy: 0.9498, Testing Accuracy: 0.9577\n",
      "\n"
     ]
    },
    {
     "name": "stdout",
     "output_type": "stream",
     "text": [
      "Epoch 90, Loss 0.0479\n",
      "Training Accuracy: 0.9517, Testing Accuracy: 0.9587\n",
      "\n"
     ]
    },
    {
     "name": "stdout",
     "output_type": "stream",
     "text": [
      "Epoch 100, Loss 0.0465\n",
      "Training Accuracy: 0.9521, Testing Accuracy: 0.9607\n",
      "\n"
     ]
    },
    {
     "name": "stdout",
     "output_type": "stream",
     "text": [
      "Epoch 110, Loss 0.0452\n",
      "Training Accuracy: 0.9533, Testing Accuracy: 0.9612\n",
      "\n"
     ]
    },
    {
     "name": "stdout",
     "output_type": "stream",
     "text": [
      "Epoch 120, Loss 0.0441\n",
      "Training Accuracy: 0.9542, Testing Accuracy: 0.9617\n",
      "\n"
     ]
    },
    {
     "name": "stdout",
     "output_type": "stream",
     "text": [
      "Epoch 130, Loss 0.0432\n",
      "Training Accuracy: 0.9553, Testing Accuracy: 0.9632\n",
      "\n"
     ]
    },
    {
     "name": "stdout",
     "output_type": "stream",
     "text": [
      "Epoch 140, Loss 0.0423\n",
      "Training Accuracy: 0.9563, Testing Accuracy: 0.9647\n",
      "\n"
     ]
    },
    {
     "name": "stdout",
     "output_type": "stream",
     "text": [
      "Epoch 150, Loss 0.0416\n",
      "Training Accuracy: 0.9569, Testing Accuracy: 0.9662\n",
      "\n"
     ]
    },
    {
     "name": "stdout",
     "output_type": "stream",
     "text": [
      "Epoch 160, Loss 0.0409\n",
      "Training Accuracy: 0.9570, Testing Accuracy: 0.9662\n",
      "\n"
     ]
    },
    {
     "name": "stdout",
     "output_type": "stream",
     "text": [
      "Epoch 170, Loss 0.0402\n",
      "Training Accuracy: 0.9577, Testing Accuracy: 0.9667\n",
      "\n"
     ]
    },
    {
     "name": "stdout",
     "output_type": "stream",
     "text": [
      "Epoch 180, Loss 0.0397\n",
      "Training Accuracy: 0.9581, Testing Accuracy: 0.9667\n",
      "\n"
     ]
    },
    {
     "name": "stdout",
     "output_type": "stream",
     "text": [
      "Epoch 190, Loss 0.0392\n",
      "Training Accuracy: 0.9583, Testing Accuracy: 0.9657\n",
      "\n"
     ]
    },
    {
     "name": "stdout",
     "output_type": "stream",
     "text": [
      "Epoch 200, Loss 0.0387\n",
      "Training Accuracy: 0.9588, Testing Accuracy: 0.9657\n",
      "\n"
     ]
    },
    {
     "name": "stdout",
     "output_type": "stream",
     "text": [
      "Epoch 210, Loss 0.0382\n",
      "Training Accuracy: 0.9593, Testing Accuracy: 0.9652\n",
      "\n"
     ]
    },
    {
     "name": "stdout",
     "output_type": "stream",
     "text": [
      "Epoch 220, Loss 0.0378\n",
      "Training Accuracy: 0.9599, Testing Accuracy: 0.9647\n",
      "\n"
     ]
    },
    {
     "name": "stdout",
     "output_type": "stream",
     "text": [
      "Epoch 230, Loss 0.0374\n",
      "Training Accuracy: 0.9604, Testing Accuracy: 0.9647\n",
      "\n"
     ]
    },
    {
     "name": "stdout",
     "output_type": "stream",
     "text": [
      "Epoch 240, Loss 0.037\n",
      "Training Accuracy: 0.9608, Testing Accuracy: 0.9647\n",
      "\n"
     ]
    },
    {
     "data": {
      "text/plain": [
       "0.016775485310001594"
      ]
     },
     "execution_count": 23,
     "metadata": {},
     "output_type": "execute_result"
    }
   ],
   "source": [
    "lr_learner.train_loop(dl)"
   ]
  },
  {
   "cell_type": "code",
   "execution_count": 24,
   "id": "ca410940",
   "metadata": {
    "execution": {
     "iopub.execute_input": "2021-12-28T20:10:49.065893Z",
     "iopub.status.busy": "2021-12-28T20:10:49.065365Z",
     "iopub.status.idle": "2021-12-28T20:10:49.295200Z",
     "shell.execute_reply": "2021-12-28T20:10:49.294678Z"
    },
    "papermill": {
     "duration": 0.281109,
     "end_time": "2021-12-28T20:10:49.295333",
     "exception": false,
     "start_time": "2021-12-28T20:10:49.014224",
     "status": "completed"
    },
    "tags": []
   },
   "outputs": [
    {
     "data": {
      "text/plain": [
       "<matplotlib.legend.Legend at 0x7ff8c68f9c88>"
      ]
     },
     "execution_count": 24,
     "metadata": {},
     "output_type": "execute_result"
    },
    {
     "data": {
      "image/png": "[encoded data removed]",
      "text/plain": [
       "<Figure size 1080x720 with 1 Axes>"
      ]
     },
     "metadata": {
      "needs_background": "light"
     },
     "output_type": "display_data"
    }
   ],
   "source": [
    "#comparing the results of NN and LR\n",
    "plt.figure(figsize=(15,10))\n",
    "\n",
    "# Neural Network plots\n",
    "plt.plot(acc_nn.accuracies, 'r-', label = \"Training Accuracies - NN\")\n",
    "plt.plot(acc_nn.test_accuracies, 'g-', label = \"Testing Accuracies - NN\")\n",
    "\n",
    "# Logistic Regression plots\n",
    "plt.plot(acc_lr.accuracies, 'k-', label = \"Training Accuracies - LR\")\n",
    "plt.plot(acc_lr.test_accuracies, 'b-', label = \"Testing Accuracies - LR\")\n",
    "plt.legend()"
   ]
  },
  {
   "cell_type": "markdown",
   "id": "80dfb35c",
   "metadata": {
    "papermill": {
     "duration": 0.041959,
     "end_time": "2021-12-28T20:10:49.380352",
     "exception": false,
     "start_time": "2021-12-28T20:10:49.338393",
     "status": "completed"
    },
    "tags": []
   },
   "source": [
    "#### Plotting the outputs of this layer of the NN.\n"
   ]
  },
  {
   "cell_type": "code",
   "execution_count": 25,
   "id": "45eb2ff5",
   "metadata": {
    "execution": {
     "iopub.execute_input": "2021-12-28T20:10:49.470281Z",
     "iopub.status.busy": "2021-12-28T20:10:49.469027Z",
     "iopub.status.idle": "2021-12-28T20:10:49.488418Z",
     "shell.execute_reply": "2021-12-28T20:10:49.488866Z"
    },
    "papermill": {
     "duration": 0.066537,
     "end_time": "2021-12-28T20:10:49.489005",
     "exception": false,
     "start_time": "2021-12-28T20:10:49.422468",
     "status": "completed"
    },
    "tags": []
   },
   "outputs": [],
   "source": [
    "new_model = Model(layers[:-2])\n",
    "testing_plot = new_model(testing_data_x)"
   ]
  },
  {
   "cell_type": "code",
   "execution_count": 26,
   "id": "4c0a5485",
   "metadata": {
    "execution": {
     "iopub.execute_input": "2021-12-28T20:10:49.580652Z",
     "iopub.status.busy": "2021-12-28T20:10:49.578085Z",
     "iopub.status.idle": "2021-12-28T20:10:49.775178Z",
     "shell.execute_reply": "2021-12-28T20:10:49.774745Z"
    },
    "papermill": {
     "duration": 0.243679,
     "end_time": "2021-12-28T20:10:49.775303",
     "exception": false,
     "start_time": "2021-12-28T20:10:49.531624",
     "status": "completed"
    },
    "tags": []
   },
   "outputs": [
    {
     "data": {
      "text/plain": [
       "Text(0.5, 1.0, 'Outputs')"
      ]
     },
     "execution_count": 26,
     "metadata": {},
     "output_type": "execute_result"
    },
    {
     "data": {
      "image/png": "[encoded data removed]",
      "text/plain": [
       "<Figure size 576x504 with 1 Axes>"
      ]
     },
     "metadata": {
      "needs_background": "light"
     },
     "output_type": "display_data"
    }
   ],
   "source": [
    "# Plotting the scatter plot of points and color coding by class\n",
    "plt.figure(figsize=(8,7))\n",
    "plt.scatter(testing_plot[:,0], testing_plot[:,1], alpha = 0.1, c = y_test.ravel());\n",
    "plt.title('Outputs')"
   ]
  },
  {
   "cell_type": "markdown",
   "id": "a74fcf8f",
   "metadata": {
    "papermill": {
     "duration": 0.04413,
     "end_time": "2021-12-28T20:10:49.863882",
     "exception": false,
     "start_time": "2021-12-28T20:10:49.819752",
     "status": "completed"
    },
    "tags": []
   },
   "source": [
    "Probability contours"
   ]
  },
  {
   "cell_type": "code",
   "execution_count": 27,
   "id": "d0afc8e3",
   "metadata": {
    "execution": {
     "iopub.execute_input": "2021-12-28T20:10:49.957175Z",
     "iopub.status.busy": "2021-12-28T20:10:49.955634Z",
     "iopub.status.idle": "2021-12-28T20:10:49.967307Z",
     "shell.execute_reply": "2021-12-28T20:10:49.966866Z"
    },
    "papermill": {
     "duration": 0.059403,
     "end_time": "2021-12-28T20:10:49.967415",
     "exception": false,
     "start_time": "2021-12-28T20:10:49.908012",
     "status": "completed"
    },
    "tags": []
   },
   "outputs": [],
   "source": [
    "model_prob = Model(layers[-2:]) "
   ]
  },
  {
   "cell_type": "code",
   "execution_count": 28,
   "id": "9b96e238",
   "metadata": {
    "execution": {
     "iopub.execute_input": "2021-12-28T20:10:50.061258Z",
     "iopub.status.busy": "2021-12-28T20:10:50.060731Z",
     "iopub.status.idle": "2021-12-28T20:10:50.074197Z",
     "shell.execute_reply": "2021-12-28T20:10:50.074598Z"
    },
    "papermill": {
     "duration": 0.063019,
     "end_time": "2021-12-28T20:10:50.074738",
     "exception": false,
     "start_time": "2021-12-28T20:10:50.011719",
     "status": "completed"
    },
    "tags": []
   },
   "outputs": [],
   "source": [
    "#creating the x and y ranges according to the above generated plot.\n",
    "x_range = np.linspace(-4, 1, 100) \n",
    "y_range = np.linspace(-6, 6, 100) \n",
    "x_grid, y_grid = np.meshgrid(x_range, y_range) # x_grid and y_grig are of size 100 X 100\n",
    "\n",
    "# converting x_grid and y_grid to continuous arrays\n",
    "x_gridflat = np.ravel(x_grid)\n",
    "y_gridflat = np.ravel(y_grid)\n",
    "\n",
    "# The last layer of the current model takes two columns as input. Hence transpose of np.vstack() is required.\n",
    "X = np.vstack((x_gridflat, y_gridflat)).T\n",
    "\n",
    "prob_contour = model_prob(X).reshape(100,100) "
   ]
  },
  {
   "cell_type": "code",
   "execution_count": 29,
   "id": "da72499a",
   "metadata": {
    "execution": {
     "iopub.execute_input": "2021-12-28T20:10:50.174287Z",
     "iopub.status.busy": "2021-12-28T20:10:50.173769Z",
     "iopub.status.idle": "2021-12-28T20:10:50.411131Z",
     "shell.execute_reply": "2021-12-28T20:10:50.411626Z"
    },
    "papermill": {
     "duration": 0.291103,
     "end_time": "2021-12-28T20:10:50.411787",
     "exception": false,
     "start_time": "2021-12-28T20:10:50.120684",
     "status": "completed"
    },
    "tags": []
   },
   "outputs": [
    {
     "data": {
      "image/png": "[encoded data removed]",
      "text/plain": [
       "<Figure size 720x648 with 1 Axes>"
      ]
     },
     "metadata": {
      "needs_background": "light"
     },
     "output_type": "display_data"
    }
   ],
   "source": [
    "plt.figure(figsize=(10,9))\n",
    "plt.scatter(testing_plot[:,0], testing_plot[:,1], alpha = 0.1, c = y_test.ravel())\n",
    "contours = plt.contour(x_grid,y_grid,prob_contour)\n",
    "plt.title('Probability Contours')\n",
    "plt.clabel(contours, inline = True );"
   ]
  },
  {
   "cell_type": "code",
   "execution_count": null,
   "id": "e81b4ac7",
   "metadata": {
    "papermill": {
     "duration": 0.046541,
     "end_time": "2021-12-28T20:10:50.533003",
     "exception": false,
     "start_time": "2021-12-28T20:10:50.486462",
     "status": "completed"
    },
    "tags": []
   },
   "outputs": [],
   "source": []
  }
 ],
 "metadata": {
  "kernelspec": {
   "display_name": "Python 3",
   "language": "python",
   "name": "python3"
  },
  "language_info": {
   "codemirror_mode": {
    "name": "ipython",
    "version": 3
   },
   "file_extension": ".py",
   "mimetype": "text/x-python",
   "name": "python",
   "nbconvert_exporter": "python",
   "pygments_lexer": "ipython3",
   "version": "3.6.15"
  },
  "papermill": {
   "default_parameters": {},
   "duration": 97.004613,
   "end_time": "2021-12-28T20:10:50.988162",
   "environment_variables": {},
   "exception": null,
   "input_path": "2020-08-11-part2.ipynb",
   "output_path": "2020-08-11-part2.ipynb",
   "parameters": {},
   "start_time": "2021-12-28T20:09:13.983549",
   "version": "2.3.3"
  }
 },
 "nbformat": 4,
 "nbformat_minor": 5
}