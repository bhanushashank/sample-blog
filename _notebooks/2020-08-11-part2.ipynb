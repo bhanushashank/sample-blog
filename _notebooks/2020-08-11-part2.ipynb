{
 "cells": [
  {
   "cell_type": "markdown",
   "id": "98380cd3",
   "metadata": {
    "papermill": {
     "duration": 0.029153,
     "end_time": "2022-07-13T20:10:32.714940",
     "exception": false,
     "start_time": "2022-07-13T20:10:32.685787",
     "status": "completed"
    },
    "tags": []
   },
   "source": [
    "# Distinguish Your Own Digits (DYOD)"
   ]
  },
  {
   "cell_type": "markdown",
   "id": "ef31240d",
   "metadata": {
    "papermill": {
     "duration": 0.024316,
     "end_time": "2022-07-13T20:10:32.764055",
     "exception": false,
     "start_time": "2022-07-13T20:10:32.739739",
     "status": "completed"
    },
    "tags": []
   },
   "source": [
    "You are going to write a classifier that distinguishes between the number 3 and number 8."
   ]
  },
  {
   "cell_type": "code",
   "execution_count": 1,
   "id": "b15c8646",
   "metadata": {
    "execution": {
     "iopub.execute_input": "2022-07-13T20:10:32.823041Z",
     "iopub.status.busy": "2022-07-13T20:10:32.822443Z",
     "iopub.status.idle": "2022-07-13T20:10:32.833358Z",
     "shell.execute_reply": "2022-07-13T20:10:32.832851Z"
    },
    "papermill": {
     "duration": 0.045322,
     "end_time": "2022-07-13T20:10:32.833479",
     "exception": false,
     "start_time": "2022-07-13T20:10:32.788157",
     "status": "completed"
    },
    "tags": []
   },
   "outputs": [],
   "source": [
    "%load_ext autoreload\n",
    "%autoreload 2"
   ]
  },
  {
   "cell_type": "code",
   "execution_count": 2,
   "id": "22ef38dc",
   "metadata": {
    "execution": {
     "iopub.execute_input": "2022-07-13T20:10:32.886342Z",
     "iopub.status.busy": "2022-07-13T20:10:32.885771Z",
     "iopub.status.idle": "2022-07-13T20:10:33.413001Z",
     "shell.execute_reply": "2022-07-13T20:10:33.412497Z"
    },
    "papermill": {
     "duration": 0.555372,
     "end_time": "2022-07-13T20:10:33.413122",
     "exception": false,
     "start_time": "2022-07-13T20:10:32.857750",
     "status": "completed"
    },
    "tags": []
   },
   "outputs": [],
   "source": [
    "%matplotlib inline\n",
    "import numpy as np\n",
    "import matplotlib.pyplot as plt\n",
    "import pandas as pd"
   ]
  },
  {
   "cell_type": "markdown",
   "id": "ba036198",
   "metadata": {
    "papermill": {
     "duration": 0.02422,
     "end_time": "2022-07-13T20:10:33.461524",
     "exception": false,
     "start_time": "2022-07-13T20:10:33.437304",
     "status": "completed"
    },
    "tags": []
   },
   "source": [
    "From the command line run `pip install mnist`. This is a library that will help you bring down the mnist dataset. If you run this from a notebook, you need to put  `!pip install mnist` in a cell by itself."
   ]
  },
  {
   "cell_type": "code",
   "execution_count": 3,
   "id": "bb6ad8a1",
   "metadata": {
    "execution": {
     "iopub.execute_input": "2022-07-13T20:10:33.516214Z",
     "iopub.status.busy": "2022-07-13T20:10:33.514883Z",
     "iopub.status.idle": "2022-07-13T20:10:35.252520Z",
     "shell.execute_reply": "2022-07-13T20:10:35.252023Z"
    },
    "papermill": {
     "duration": 1.766779,
     "end_time": "2022-07-13T20:10:35.252632",
     "exception": false,
     "start_time": "2022-07-13T20:10:33.485853",
     "status": "completed"
    },
    "tags": []
   },
   "outputs": [
    {
     "name": "stdout",
     "output_type": "stream",
     "text": [
      "Collecting mnist\r\n"
     ]
    },
    {
     "name": "stdout",
     "output_type": "stream",
     "text": [
      "  Downloading mnist-0.2.2-py2.py3-none-any.whl (3.5 kB)\r\n",
      "Requirement already satisfied: numpy in /opt/hostedtoolcache/Python/3.6.15/x64/lib/python3.6/site-packages (from mnist) (1.19.5)\r\n"
     ]
    },
    {
     "name": "stdout",
     "output_type": "stream",
     "text": [
      "Installing collected packages: mnist\r\n",
      "Successfully installed mnist-0.2.2\r\n"
     ]
    }
   ],
   "source": [
    "!pip install mnist"
   ]
  },
  {
   "cell_type": "markdown",
   "id": "69df9c9a",
   "metadata": {
    "papermill": {
     "duration": 0.025364,
     "end_time": "2022-07-13T20:10:35.303128",
     "exception": false,
     "start_time": "2022-07-13T20:10:35.277764",
     "status": "completed"
    },
    "tags": []
   },
   "source": [
    "## Preparing the Data"
   ]
  },
  {
   "cell_type": "code",
   "execution_count": 4,
   "id": "7f69d806",
   "metadata": {
    "execution": {
     "iopub.execute_input": "2022-07-13T20:10:35.356681Z",
     "iopub.status.busy": "2022-07-13T20:10:35.356125Z",
     "iopub.status.idle": "2022-07-13T20:10:35.370176Z",
     "shell.execute_reply": "2022-07-13T20:10:35.369706Z"
    },
    "papermill": {
     "duration": 0.042314,
     "end_time": "2022-07-13T20:10:35.370283",
     "exception": false,
     "start_time": "2022-07-13T20:10:35.327969",
     "status": "completed"
    },
    "tags": []
   },
   "outputs": [],
   "source": [
    "import mnist"
   ]
  },
  {
   "cell_type": "code",
   "execution_count": 5,
   "id": "a411e44f",
   "metadata": {
    "execution": {
     "iopub.execute_input": "2022-07-13T20:10:35.424419Z",
     "iopub.status.busy": "2022-07-13T20:10:35.423861Z",
     "iopub.status.idle": "2022-07-13T20:10:36.078529Z",
     "shell.execute_reply": "2022-07-13T20:10:36.078011Z"
    },
    "papermill": {
     "duration": 0.6833,
     "end_time": "2022-07-13T20:10:36.078641",
     "exception": false,
     "start_time": "2022-07-13T20:10:35.395341",
     "status": "completed"
    },
    "tags": []
   },
   "outputs": [],
   "source": [
    "train_images = mnist.train_images()\n",
    "train_labels = mnist.train_labels()"
   ]
  },
  {
   "cell_type": "code",
   "execution_count": 6,
   "id": "dceab3a5",
   "metadata": {
    "execution": {
     "iopub.execute_input": "2022-07-13T20:10:36.132660Z",
     "iopub.status.busy": "2022-07-13T20:10:36.132106Z",
     "iopub.status.idle": "2022-07-13T20:10:36.146360Z",
     "shell.execute_reply": "2022-07-13T20:10:36.146762Z"
    },
    "papermill": {
     "duration": 0.043061,
     "end_time": "2022-07-13T20:10:36.146888",
     "exception": false,
     "start_time": "2022-07-13T20:10:36.103827",
     "status": "completed"
    },
    "tags": []
   },
   "outputs": [
    {
     "data": {
      "text/plain": [
       "((60000, 28, 28), (60000,))"
      ]
     },
     "execution_count": 6,
     "metadata": {},
     "output_type": "execute_result"
    }
   ],
   "source": [
    "train_images.shape, train_labels.shape"
   ]
  },
  {
   "cell_type": "code",
   "execution_count": 7,
   "id": "f50dc2bb",
   "metadata": {
    "execution": {
     "iopub.execute_input": "2022-07-13T20:10:36.201243Z",
     "iopub.status.busy": "2022-07-13T20:10:36.200691Z",
     "iopub.status.idle": "2022-07-13T20:10:36.512918Z",
     "shell.execute_reply": "2022-07-13T20:10:36.512397Z"
    },
    "papermill": {
     "duration": 0.34094,
     "end_time": "2022-07-13T20:10:36.513029",
     "exception": false,
     "start_time": "2022-07-13T20:10:36.172089",
     "status": "completed"
    },
    "tags": []
   },
   "outputs": [],
   "source": [
    "test_images = mnist.test_images()\n",
    "test_labels = mnist.test_labels()"
   ]
  },
  {
   "cell_type": "code",
   "execution_count": 8,
   "id": "fc38cf1b",
   "metadata": {
    "execution": {
     "iopub.execute_input": "2022-07-13T20:10:36.567783Z",
     "iopub.status.busy": "2022-07-13T20:10:36.567181Z",
     "iopub.status.idle": "2022-07-13T20:10:36.580557Z",
     "shell.execute_reply": "2022-07-13T20:10:36.580120Z"
    },
    "papermill": {
     "duration": 0.042302,
     "end_time": "2022-07-13T20:10:36.580669",
     "exception": false,
     "start_time": "2022-07-13T20:10:36.538367",
     "status": "completed"
    },
    "tags": []
   },
   "outputs": [
    {
     "data": {
      "text/plain": [
       "((10000, 28, 28), (10000,))"
      ]
     },
     "execution_count": 8,
     "metadata": {},
     "output_type": "execute_result"
    }
   ],
   "source": [
    "test_images.shape, test_labels.shape"
   ]
  },
  {
   "cell_type": "code",
   "execution_count": 9,
   "id": "f9ed8fe0",
   "metadata": {
    "execution": {
     "iopub.execute_input": "2022-07-13T20:10:36.635701Z",
     "iopub.status.busy": "2022-07-13T20:10:36.635108Z",
     "iopub.status.idle": "2022-07-13T20:10:36.768404Z",
     "shell.execute_reply": "2022-07-13T20:10:36.768840Z"
    },
    "papermill": {
     "duration": 0.162875,
     "end_time": "2022-07-13T20:10:36.768964",
     "exception": false,
     "start_time": "2022-07-13T20:10:36.606089",
     "status": "completed"
    },
    "tags": []
   },
   "outputs": [
    {
     "name": "stdout",
     "output_type": "stream",
     "text": [
      "2\n"
     ]
    },
    {
     "data": {
      "text/plain": [
       "<matplotlib.image.AxesImage at 0x7f2cca6054a8>"
      ]
     },
     "execution_count": 9,
     "metadata": {},
     "output_type": "execute_result"
    },
    {
     "data": {
      "image/png": "[encoded data removed]",
      "text/plain": [
       "<Figure size 432x288 with 1 Axes>"
      ]
     },
     "metadata": {
      "needs_background": "light"
     },
     "output_type": "display_data"
    }
   ],
   "source": [
    "image_index = 7776 # You may select anything up to 60,000\n",
    "print(train_labels[image_index]) \n",
    "plt.imshow(train_images[image_index], cmap='Greys')"
   ]
  },
  {
   "cell_type": "markdown",
   "id": "a8d2388d",
   "metadata": {
    "papermill": {
     "duration": 0.026895,
     "end_time": "2022-07-13T20:10:36.822645",
     "exception": false,
     "start_time": "2022-07-13T20:10:36.795750",
     "status": "completed"
    },
    "tags": []
   },
   "source": [
    "## Filter data to get 3 and 8 out"
   ]
  },
  {
   "cell_type": "code",
   "execution_count": 10,
   "id": "776f7fc7",
   "metadata": {
    "execution": {
     "iopub.execute_input": "2022-07-13T20:10:36.880149Z",
     "iopub.status.busy": "2022-07-13T20:10:36.879571Z",
     "iopub.status.idle": "2022-07-13T20:10:36.897215Z",
     "shell.execute_reply": "2022-07-13T20:10:36.896659Z"
    },
    "papermill": {
     "duration": 0.048132,
     "end_time": "2022-07-13T20:10:36.897324",
     "exception": false,
     "start_time": "2022-07-13T20:10:36.849192",
     "status": "completed"
    },
    "tags": []
   },
   "outputs": [],
   "source": [
    "train_filter = np.where((train_labels == 3 ) | (train_labels == 8))\n",
    "test_filter = np.where((test_labels == 3) | (test_labels == 8))\n",
    "X_train, y_train = train_images[train_filter], train_labels[train_filter]\n",
    "X_test, y_test = test_images[test_filter], test_labels[test_filter]"
   ]
  },
  {
   "cell_type": "markdown",
   "id": "948f0b7e",
   "metadata": {
    "papermill": {
     "duration": 0.026481,
     "end_time": "2022-07-13T20:10:36.950574",
     "exception": false,
     "start_time": "2022-07-13T20:10:36.924093",
     "status": "completed"
    },
    "tags": []
   },
   "source": [
    "We normalize the pizel values in the 0 to 1 range"
   ]
  },
  {
   "cell_type": "code",
   "execution_count": 11,
   "id": "ee4c2166",
   "metadata": {
    "execution": {
     "iopub.execute_input": "2022-07-13T20:10:37.007126Z",
     "iopub.status.busy": "2022-07-13T20:10:37.006585Z",
     "iopub.status.idle": "2022-07-13T20:10:37.048760Z",
     "shell.execute_reply": "2022-07-13T20:10:37.048264Z"
    },
    "papermill": {
     "duration": 0.071738,
     "end_time": "2022-07-13T20:10:37.048872",
     "exception": false,
     "start_time": "2022-07-13T20:10:36.977134",
     "status": "completed"
    },
    "tags": []
   },
   "outputs": [],
   "source": [
    "X_train = X_train/255.\n",
    "X_test = X_test/255."
   ]
  },
  {
   "cell_type": "markdown",
   "id": "ddcf4fab",
   "metadata": {
    "papermill": {
     "duration": 0.026513,
     "end_time": "2022-07-13T20:10:37.102143",
     "exception": false,
     "start_time": "2022-07-13T20:10:37.075630",
     "status": "completed"
    },
    "tags": []
   },
   "source": [
    "And setup the labels as 1 (when the digit is 3) and 0 (when the digit is 8)"
   ]
  },
  {
   "cell_type": "code",
   "execution_count": 12,
   "id": "7dc908f2",
   "metadata": {
    "execution": {
     "iopub.execute_input": "2022-07-13T20:10:37.158881Z",
     "iopub.status.busy": "2022-07-13T20:10:37.158307Z",
     "iopub.status.idle": "2022-07-13T20:10:37.170297Z",
     "shell.execute_reply": "2022-07-13T20:10:37.169830Z"
    },
    "papermill": {
     "duration": 0.041834,
     "end_time": "2022-07-13T20:10:37.170405",
     "exception": false,
     "start_time": "2022-07-13T20:10:37.128571",
     "status": "completed"
    },
    "tags": []
   },
   "outputs": [],
   "source": [
    "y_train = 1*(y_train==3)\n",
    "y_test = 1*(y_test==3)"
   ]
  },
  {
   "cell_type": "code",
   "execution_count": 13,
   "id": "01e4e969",
   "metadata": {
    "execution": {
     "iopub.execute_input": "2022-07-13T20:10:37.227375Z",
     "iopub.status.busy": "2022-07-13T20:10:37.226794Z",
     "iopub.status.idle": "2022-07-13T20:10:37.239547Z",
     "shell.execute_reply": "2022-07-13T20:10:37.239984Z"
    },
    "papermill": {
     "duration": 0.042999,
     "end_time": "2022-07-13T20:10:37.240111",
     "exception": false,
     "start_time": "2022-07-13T20:10:37.197112",
     "status": "completed"
    },
    "tags": []
   },
   "outputs": [
    {
     "data": {
      "text/plain": [
       "((11982, 28, 28), (1984, 28, 28))"
      ]
     },
     "execution_count": 13,
     "metadata": {},
     "output_type": "execute_result"
    }
   ],
   "source": [
    "X_train.shape, X_test.shape"
   ]
  },
  {
   "cell_type": "markdown",
   "id": "5ccf3f85",
   "metadata": {
    "papermill": {
     "duration": 0.026739,
     "end_time": "2022-07-13T20:10:37.293708",
     "exception": false,
     "start_time": "2022-07-13T20:10:37.266969",
     "status": "completed"
    },
    "tags": []
   },
   "source": [
    "We reshape the data to flatten the image pixels into a set of features or co-variates:"
   ]
  },
  {
   "cell_type": "code",
   "execution_count": 14,
   "id": "5286a4a3",
   "metadata": {
    "execution": {
     "iopub.execute_input": "2022-07-13T20:10:37.351682Z",
     "iopub.status.busy": "2022-07-13T20:10:37.351091Z",
     "iopub.status.idle": "2022-07-13T20:10:37.364636Z",
     "shell.execute_reply": "2022-07-13T20:10:37.364096Z"
    },
    "papermill": {
     "duration": 0.04396,
     "end_time": "2022-07-13T20:10:37.364743",
     "exception": false,
     "start_time": "2022-07-13T20:10:37.320783",
     "status": "completed"
    },
    "tags": []
   },
   "outputs": [
    {
     "data": {
      "text/plain": [
       "((11982, 784), (1984, 784))"
      ]
     },
     "execution_count": 14,
     "metadata": {},
     "output_type": "execute_result"
    }
   ],
   "source": [
    "X_train = X_train.reshape(X_train.shape[0], -1)\n",
    "X_test = X_test.reshape(X_test.shape[0], -1)\n",
    "X_train.shape, X_test.shape"
   ]
  },
  {
   "cell_type": "code",
   "execution_count": 15,
   "id": "73c5f88a",
   "metadata": {
    "execution": {
     "iopub.execute_input": "2022-07-13T20:10:37.423261Z",
     "iopub.status.busy": "2022-07-13T20:10:37.422699Z",
     "iopub.status.idle": "2022-07-13T20:10:37.441377Z",
     "shell.execute_reply": "2022-07-13T20:10:37.440906Z"
    },
    "papermill": {
     "duration": 0.049485,
     "end_time": "2022-07-13T20:10:37.441485",
     "exception": false,
     "start_time": "2022-07-13T20:10:37.392000",
     "status": "completed"
    },
    "tags": []
   },
   "outputs": [],
   "source": [
    "#Impoting functions from 'Kudzu'\n",
    "from kudzu.model import Model\n",
    "from kudzu.train import Learner\n",
    "from kudzu.optim import GD\n",
    "from kudzu.data import Data, Sampler,Dataloader\n",
    "\n",
    "from kudzu.callbacks import AccCallback\n",
    "from kudzu.callbacks import ClfCallback\n",
    "\n",
    "from kudzu.loss import MSE\n",
    "\n",
    "from kudzu.layer import Sigmoid,Relu\n",
    "from kudzu.layer import Affine"
   ]
  },
  {
   "cell_type": "markdown",
   "id": "bc01172a",
   "metadata": {
    "papermill": {
     "duration": 0.027025,
     "end_time": "2022-07-13T20:10:37.495827",
     "exception": false,
     "start_time": "2022-07-13T20:10:37.468802",
     "status": "completed"
    },
    "tags": []
   },
   "source": [
    "### Let us create a `Config` class, to store important parameters. \n",
    "This class essentially plays the role of a dictionary."
   ]
  },
  {
   "cell_type": "code",
   "execution_count": 16,
   "id": "978281aa",
   "metadata": {
    "execution": {
     "iopub.execute_input": "2022-07-13T20:10:37.553785Z",
     "iopub.status.busy": "2022-07-13T20:10:37.553226Z",
     "iopub.status.idle": "2022-07-13T20:10:37.565159Z",
     "shell.execute_reply": "2022-07-13T20:10:37.565618Z"
    },
    "papermill": {
     "duration": 0.042861,
     "end_time": "2022-07-13T20:10:37.565751",
     "exception": false,
     "start_time": "2022-07-13T20:10:37.522890",
     "status": "completed"
    },
    "tags": []
   },
   "outputs": [],
   "source": [
    "class Config:\n",
    "    pass\n",
    "config = Config()\n",
    "config.lr = 0.001\n",
    "config.num_epochs = 250\n",
    "config.bs = 50"
   ]
  },
  {
   "cell_type": "markdown",
   "id": "1385fa59",
   "metadata": {
    "papermill": {
     "duration": 0.026957,
     "end_time": "2022-07-13T20:10:37.620130",
     "exception": false,
     "start_time": "2022-07-13T20:10:37.593173",
     "status": "completed"
    },
    "tags": []
   },
   "source": [
    "### Running Models with the Training data\n",
    "Details about the network layers:\n",
    "- A first affine layer has 784 inputs and does 100 affine transforms. These are followed by a Relu\n",
    "- A second affine layer has 100 inputs from the 100 activations of the past layer, and does 100 affine transforms. These are followed by a Relu\n",
    "- A third affine layer has 100 activations and does 2 affine transformations to create an embedding for visualization. There is no non-linearity here.\n",
    "- A final \"logistic regression\" which has an affine transform from 2 inputs to 1 output, which is squeezed through a sigmoid.\n"
   ]
  },
  {
   "cell_type": "code",
   "execution_count": 17,
   "id": "2b9c66db",
   "metadata": {
    "execution": {
     "iopub.execute_input": "2022-07-13T20:10:37.678396Z",
     "iopub.status.busy": "2022-07-13T20:10:37.677841Z",
     "iopub.status.idle": "2022-07-13T20:10:37.690297Z",
     "shell.execute_reply": "2022-07-13T20:10:37.689734Z"
    },
    "papermill": {
     "duration": 0.043231,
     "end_time": "2022-07-13T20:10:37.690403",
     "exception": false,
     "start_time": "2022-07-13T20:10:37.647172",
     "status": "completed"
    },
    "tags": []
   },
   "outputs": [],
   "source": [
    "data = Data(X_train, y_train.reshape(-1,1))\n",
    "sampler = Sampler(data, config.bs, shuffle=True)\n",
    "\n",
    "dl = Dataloader(data, sampler)\n",
    "\n",
    "opt = GD(config.lr)\n",
    "loss = MSE()"
   ]
  },
  {
   "cell_type": "code",
   "execution_count": 18,
   "id": "b275e4c2",
   "metadata": {
    "execution": {
     "iopub.execute_input": "2022-07-13T20:10:37.748835Z",
     "iopub.status.busy": "2022-07-13T20:10:37.748273Z",
     "iopub.status.idle": "2022-07-13T20:10:37.760111Z",
     "shell.execute_reply": "2022-07-13T20:10:37.759643Z"
    },
    "papermill": {
     "duration": 0.04261,
     "end_time": "2022-07-13T20:10:37.760214",
     "exception": false,
     "start_time": "2022-07-13T20:10:37.717604",
     "status": "completed"
    },
    "tags": []
   },
   "outputs": [],
   "source": [
    "training_data_x = X_train\n",
    "testing_data_x = X_test\n",
    "training_data_y = y_train.reshape(-1,1)\n",
    "testing_data_y = y_test.reshape(-1,1)"
   ]
  },
  {
   "cell_type": "code",
   "execution_count": 19,
   "id": "76951160",
   "metadata": {
    "execution": {
     "iopub.execute_input": "2022-07-13T20:10:37.818417Z",
     "iopub.status.busy": "2022-07-13T20:10:37.817853Z",
     "iopub.status.idle": "2022-07-13T20:10:37.834394Z",
     "shell.execute_reply": "2022-07-13T20:10:37.833835Z"
    },
    "papermill": {
     "duration": 0.047272,
     "end_time": "2022-07-13T20:10:37.834499",
     "exception": false,
     "start_time": "2022-07-13T20:10:37.787227",
     "status": "completed"
    },
    "tags": []
   },
   "outputs": [
    {
     "name": "stdout",
     "output_type": "stream",
     "text": [
      "xavier\n",
      "xavier\n",
      "xavier\n",
      "xavier\n",
      "xavier\n"
     ]
    }
   ],
   "source": [
    "layers = [Affine(\"first\", 784, 100), Relu(\"first\"), Affine(\"second\", 100, 100), Relu(\"second\"), Affine(\"third\", 100, 2), Affine(\"last\", 2, 1), Sigmoid(\"last\")]\n",
    "model_nn = Model(layers)\n",
    "model_lr = Model([Affine(\"logits\", 784, 1), Sigmoid(\"sigmoid\")])"
   ]
  },
  {
   "cell_type": "code",
   "execution_count": 20,
   "id": "6eede77a",
   "metadata": {
    "execution": {
     "iopub.execute_input": "2022-07-13T20:10:37.893323Z",
     "iopub.status.busy": "2022-07-13T20:10:37.892769Z",
     "iopub.status.idle": "2022-07-13T20:10:37.904973Z",
     "shell.execute_reply": "2022-07-13T20:10:37.904410Z"
    },
    "papermill": {
     "duration": 0.042898,
     "end_time": "2022-07-13T20:10:37.905081",
     "exception": false,
     "start_time": "2022-07-13T20:10:37.862183",
     "status": "completed"
    },
    "tags": []
   },
   "outputs": [],
   "source": [
    "nn_learner = Learner(loss, model_nn, opt, config.num_epochs)\n",
    "acc_nn = ClfCallback(nn_learner, config.bs, training_data_x , testing_data_x, training_data_y, testing_data_y)\n",
    "nn_learner.set_callbacks([acc_nn])"
   ]
  },
  {
   "cell_type": "code",
   "execution_count": 21,
   "id": "877b6cc7",
   "metadata": {
    "execution": {
     "iopub.execute_input": "2022-07-13T20:10:37.964300Z",
     "iopub.status.busy": "2022-07-13T20:10:37.963731Z",
     "iopub.status.idle": "2022-07-13T20:10:37.975709Z",
     "shell.execute_reply": "2022-07-13T20:10:37.975221Z"
    },
    "papermill": {
     "duration": 0.043138,
     "end_time": "2022-07-13T20:10:37.975817",
     "exception": false,
     "start_time": "2022-07-13T20:10:37.932679",
     "status": "completed"
    },
    "tags": []
   },
   "outputs": [],
   "source": [
    "lr_learner = Learner(loss, model_lr, opt, config.num_epochs)\n",
    "acc_lr = ClfCallback(lr_learner, config.bs, training_data_x , testing_data_x, training_data_y, testing_data_y)\n",
    "lr_learner.set_callbacks([acc_lr])"
   ]
  },
  {
   "cell_type": "code",
   "execution_count": 22,
   "id": "d9b133c3",
   "metadata": {
    "execution": {
     "iopub.execute_input": "2022-07-13T20:10:38.034971Z",
     "iopub.status.busy": "2022-07-13T20:10:38.034412Z",
     "iopub.status.idle": "2022-07-13T20:13:37.513708Z",
     "shell.execute_reply": "2022-07-13T20:13:37.514154Z"
    },
    "papermill": {
     "duration": 179.510688,
     "end_time": "2022-07-13T20:13:37.514286",
     "exception": false,
     "start_time": "2022-07-13T20:10:38.003598",
     "status": "completed"
    },
    "tags": []
   },
   "outputs": [
    {
     "name": "stdout",
     "output_type": "stream",
     "text": [
      "Epoch 0, Loss 0.2514\n",
      "Training Accuracy: 0.6208, Testing Accuracy: 0.6159\n",
      "\n"
     ]
    },
    {
     "name": "stdout",
     "output_type": "stream",
     "text": [
      "Epoch 10, Loss 0.0745\n",
      "Training Accuracy: 0.9315, Testing Accuracy: 0.9446\n",
      "\n"
     ]
    },
    {
     "name": "stdout",
     "output_type": "stream",
     "text": [
      "Epoch 20, Loss 0.0489\n",
      "Training Accuracy: 0.9494, Testing Accuracy: 0.9567\n",
      "\n"
     ]
    },
    {
     "name": "stdout",
     "output_type": "stream",
     "text": [
      "Epoch 30, Loss 0.0401\n",
      "Training Accuracy: 0.9564, Testing Accuracy: 0.9627\n",
      "\n"
     ]
    },
    {
     "name": "stdout",
     "output_type": "stream",
     "text": [
      "Epoch 40, Loss 0.0356\n",
      "Training Accuracy: 0.9597, Testing Accuracy: 0.9662\n",
      "\n"
     ]
    },
    {
     "name": "stdout",
     "output_type": "stream",
     "text": [
      "Epoch 50, Loss 0.0328\n",
      "Training Accuracy: 0.9629, Testing Accuracy: 0.9688\n",
      "\n"
     ]
    },
    {
     "name": "stdout",
     "output_type": "stream",
     "text": [
      "Epoch 60, Loss 0.0307\n",
      "Training Accuracy: 0.9652, Testing Accuracy: 0.9682\n",
      "\n"
     ]
    },
    {
     "name": "stdout",
     "output_type": "stream",
     "text": [
      "Epoch 70, Loss 0.0291\n",
      "Training Accuracy: 0.9670, Testing Accuracy: 0.9677\n",
      "\n"
     ]
    },
    {
     "name": "stdout",
     "output_type": "stream",
     "text": [
      "Epoch 80, Loss 0.0278\n",
      "Training Accuracy: 0.9685, Testing Accuracy: 0.9688\n",
      "\n"
     ]
    },
    {
     "name": "stdout",
     "output_type": "stream",
     "text": [
      "Epoch 90, Loss 0.0268\n",
      "Training Accuracy: 0.9692, Testing Accuracy: 0.9693\n",
      "\n"
     ]
    },
    {
     "name": "stdout",
     "output_type": "stream",
     "text": [
      "Epoch 100, Loss 0.0259\n",
      "Training Accuracy: 0.9699, Testing Accuracy: 0.9698\n",
      "\n"
     ]
    },
    {
     "name": "stdout",
     "output_type": "stream",
     "text": [
      "Epoch 110, Loss 0.0251\n",
      "Training Accuracy: 0.9707, Testing Accuracy: 0.9708\n",
      "\n"
     ]
    },
    {
     "name": "stdout",
     "output_type": "stream",
     "text": [
      "Epoch 120, Loss 0.0244\n",
      "Training Accuracy: 0.9720, Testing Accuracy: 0.9708\n",
      "\n"
     ]
    },
    {
     "name": "stdout",
     "output_type": "stream",
     "text": [
      "Epoch 130, Loss 0.0237\n",
      "Training Accuracy: 0.9723, Testing Accuracy: 0.9713\n",
      "\n"
     ]
    },
    {
     "name": "stdout",
     "output_type": "stream",
     "text": [
      "Epoch 140, Loss 0.0231\n",
      "Training Accuracy: 0.9729, Testing Accuracy: 0.9713\n",
      "\n"
     ]
    },
    {
     "name": "stdout",
     "output_type": "stream",
     "text": [
      "Epoch 150, Loss 0.0226\n",
      "Training Accuracy: 0.9734, Testing Accuracy: 0.9728\n",
      "\n"
     ]
    },
    {
     "name": "stdout",
     "output_type": "stream",
     "text": [
      "Epoch 160, Loss 0.0221\n",
      "Training Accuracy: 0.9745, Testing Accuracy: 0.9723\n",
      "\n"
     ]
    },
    {
     "name": "stdout",
     "output_type": "stream",
     "text": [
      "Epoch 170, Loss 0.0216\n",
      "Training Accuracy: 0.9751, Testing Accuracy: 0.9723\n",
      "\n"
     ]
    },
    {
     "name": "stdout",
     "output_type": "stream",
     "text": [
      "Epoch 180, Loss 0.0211\n",
      "Training Accuracy: 0.9756, Testing Accuracy: 0.9738\n",
      "\n"
     ]
    },
    {
     "name": "stdout",
     "output_type": "stream",
     "text": [
      "Epoch 190, Loss 0.0207\n",
      "Training Accuracy: 0.9760, Testing Accuracy: 0.9738\n",
      "\n"
     ]
    },
    {
     "name": "stdout",
     "output_type": "stream",
     "text": [
      "Epoch 200, Loss 0.0203\n",
      "Training Accuracy: 0.9767, Testing Accuracy: 0.9733\n",
      "\n"
     ]
    },
    {
     "name": "stdout",
     "output_type": "stream",
     "text": [
      "Epoch 210, Loss 0.0199\n",
      "Training Accuracy: 0.9769, Testing Accuracy: 0.9733\n",
      "\n"
     ]
    },
    {
     "name": "stdout",
     "output_type": "stream",
     "text": [
      "Epoch 220, Loss 0.0195\n",
      "Training Accuracy: 0.9775, Testing Accuracy: 0.9733\n",
      "\n"
     ]
    },
    {
     "name": "stdout",
     "output_type": "stream",
     "text": [
      "Epoch 230, Loss 0.0191\n",
      "Training Accuracy: 0.9780, Testing Accuracy: 0.9738\n",
      "\n"
     ]
    },
    {
     "name": "stdout",
     "output_type": "stream",
     "text": [
      "Epoch 240, Loss 0.0187\n",
      "Training Accuracy: 0.9786, Testing Accuracy: 0.9738\n",
      "\n"
     ]
    },
    {
     "data": {
      "text/plain": [
       "0.013696541818714087"
      ]
     },
     "execution_count": 22,
     "metadata": {},
     "output_type": "execute_result"
    }
   ],
   "source": [
    "nn_learner.train_loop(dl)"
   ]
  },
  {
   "cell_type": "code",
   "execution_count": 23,
   "id": "e0163366",
   "metadata": {
    "execution": {
     "iopub.execute_input": "2022-07-13T20:13:37.588880Z",
     "iopub.status.busy": "2022-07-13T20:13:37.588264Z",
     "iopub.status.idle": "2022-07-13T20:13:49.842728Z",
     "shell.execute_reply": "2022-07-13T20:13:49.843587Z"
    },
    "papermill": {
     "duration": 12.295058,
     "end_time": "2022-07-13T20:13:49.843733",
     "exception": false,
     "start_time": "2022-07-13T20:13:37.548675",
     "status": "completed"
    },
    "tags": []
   },
   "outputs": [
    {
     "name": "stdout",
     "output_type": "stream",
     "text": [
      "Epoch 0, Loss 0.265\n",
      "Training Accuracy: 0.5879, Testing Accuracy: 0.6043\n",
      "\n"
     ]
    },
    {
     "name": "stdout",
     "output_type": "stream",
     "text": [
      "Epoch 10, Loss 0.1063\n",
      "Training Accuracy: 0.9031, Testing Accuracy: 0.9133\n",
      "\n"
     ]
    },
    {
     "name": "stdout",
     "output_type": "stream",
     "text": [
      "Epoch 20, Loss 0.0808\n",
      "Training Accuracy: 0.9241, Testing Accuracy: 0.9355\n",
      "\n"
     ]
    },
    {
     "name": "stdout",
     "output_type": "stream",
     "text": [
      "Epoch 30, Loss 0.0691\n",
      "Training Accuracy: 0.9331, Testing Accuracy: 0.9461\n",
      "\n"
     ]
    },
    {
     "name": "stdout",
     "output_type": "stream",
     "text": [
      "Epoch 40, Loss 0.0622\n",
      "Training Accuracy: 0.9395, Testing Accuracy: 0.9496\n",
      "\n"
     ]
    },
    {
     "name": "stdout",
     "output_type": "stream",
     "text": [
      "Epoch 50, Loss 0.0575\n",
      "Training Accuracy: 0.9428, Testing Accuracy: 0.9516\n",
      "\n"
     ]
    },
    {
     "name": "stdout",
     "output_type": "stream",
     "text": [
      "Epoch 60, Loss 0.0541\n",
      "Training Accuracy: 0.9452, Testing Accuracy: 0.9551\n",
      "\n"
     ]
    },
    {
     "name": "stdout",
     "output_type": "stream",
     "text": [
      "Epoch 70, Loss 0.0515\n",
      "Training Accuracy: 0.9480, Testing Accuracy: 0.9556\n",
      "\n"
     ]
    },
    {
     "name": "stdout",
     "output_type": "stream",
     "text": [
      "Epoch 80, Loss 0.0493\n",
      "Training Accuracy: 0.9503, Testing Accuracy: 0.9577\n",
      "\n"
     ]
    },
    {
     "name": "stdout",
     "output_type": "stream",
     "text": [
      "Epoch 90, Loss 0.0476\n",
      "Training Accuracy: 0.9518, Testing Accuracy: 0.9597\n",
      "\n"
     ]
    },
    {
     "name": "stdout",
     "output_type": "stream",
     "text": [
      "Epoch 100, Loss 0.0462\n",
      "Training Accuracy: 0.9526, Testing Accuracy: 0.9602\n",
      "\n"
     ]
    },
    {
     "name": "stdout",
     "output_type": "stream",
     "text": [
      "Epoch 110, Loss 0.0449\n",
      "Training Accuracy: 0.9540, Testing Accuracy: 0.9617\n",
      "\n"
     ]
    },
    {
     "name": "stdout",
     "output_type": "stream",
     "text": [
      "Epoch 120, Loss 0.0438\n",
      "Training Accuracy: 0.9547, Testing Accuracy: 0.9632\n",
      "\n"
     ]
    },
    {
     "name": "stdout",
     "output_type": "stream",
     "text": [
      "Epoch 130, Loss 0.0429\n",
      "Training Accuracy: 0.9553, Testing Accuracy: 0.9632\n",
      "\n"
     ]
    },
    {
     "name": "stdout",
     "output_type": "stream",
     "text": [
      "Epoch 140, Loss 0.042\n",
      "Training Accuracy: 0.9560, Testing Accuracy: 0.9632\n",
      "\n"
     ]
    },
    {
     "name": "stdout",
     "output_type": "stream",
     "text": [
      "Epoch 150, Loss 0.0413\n",
      "Training Accuracy: 0.9563, Testing Accuracy: 0.9637\n",
      "\n"
     ]
    },
    {
     "name": "stdout",
     "output_type": "stream",
     "text": [
      "Epoch 160, Loss 0.0406\n",
      "Training Accuracy: 0.9569, Testing Accuracy: 0.9647\n",
      "\n"
     ]
    },
    {
     "name": "stdout",
     "output_type": "stream",
     "text": [
      "Epoch 170, Loss 0.04\n",
      "Training Accuracy: 0.9577, Testing Accuracy: 0.9652\n",
      "\n"
     ]
    },
    {
     "name": "stdout",
     "output_type": "stream",
     "text": [
      "Epoch 180, Loss 0.0394\n",
      "Training Accuracy: 0.9584, Testing Accuracy: 0.9647\n",
      "\n"
     ]
    },
    {
     "name": "stdout",
     "output_type": "stream",
     "text": [
      "Epoch 190, Loss 0.0389\n",
      "Training Accuracy: 0.9596, Testing Accuracy: 0.9657\n",
      "\n"
     ]
    },
    {
     "name": "stdout",
     "output_type": "stream",
     "text": [
      "Epoch 200, Loss 0.0384\n",
      "Training Accuracy: 0.9598, Testing Accuracy: 0.9662\n",
      "\n"
     ]
    },
    {
     "name": "stdout",
     "output_type": "stream",
     "text": [
      "Epoch 210, Loss 0.038\n",
      "Training Accuracy: 0.9601, Testing Accuracy: 0.9667\n",
      "\n"
     ]
    },
    {
     "name": "stdout",
     "output_type": "stream",
     "text": [
      "Epoch 220, Loss 0.0376\n",
      "Training Accuracy: 0.9604, Testing Accuracy: 0.9667\n",
      "\n"
     ]
    },
    {
     "name": "stdout",
     "output_type": "stream",
     "text": [
      "Epoch 230, Loss 0.0372\n",
      "Training Accuracy: 0.9608, Testing Accuracy: 0.9672\n",
      "\n"
     ]
    },
    {
     "name": "stdout",
     "output_type": "stream",
     "text": [
      "Epoch 240, Loss 0.0368\n",
      "Training Accuracy: 0.9609, Testing Accuracy: 0.9672\n",
      "\n"
     ]
    },
    {
     "data": {
      "text/plain": [
       "0.056488410774178884"
      ]
     },
     "execution_count": 23,
     "metadata": {},
     "output_type": "execute_result"
    }
   ],
   "source": [
    "lr_learner.train_loop(dl)"
   ]
  },
  {
   "cell_type": "code",
   "execution_count": 24,
   "id": "ca410940",
   "metadata": {
    "execution": {
     "iopub.execute_input": "2022-07-13T20:13:49.936940Z",
     "iopub.status.busy": "2022-07-13T20:13:49.936348Z",
     "iopub.status.idle": "2022-07-13T20:13:50.172632Z",
     "shell.execute_reply": "2022-07-13T20:13:50.172030Z"
    },
    "papermill": {
     "duration": 0.287457,
     "end_time": "2022-07-13T20:13:50.172745",
     "exception": false,
     "start_time": "2022-07-13T20:13:49.885288",
     "status": "completed"
    },
    "tags": []
   },
   "outputs": [
    {
     "data": {
      "text/plain": [
       "<matplotlib.legend.Legend at 0x7f2cca164ac8>"
      ]
     },
     "execution_count": 24,
     "metadata": {},
     "output_type": "execute_result"
    },
    {
     "data": {
      "image/png": "[encoded data removed]",
      "text/plain": [
       "<Figure size 1080x720 with 1 Axes>"
      ]
     },
     "metadata": {
      "needs_background": "light"
     },
     "output_type": "display_data"
    }
   ],
   "source": [
    "#comparing the results of NN and LR\n",
    "plt.figure(figsize=(15,10))\n",
    "\n",
    "# Neural Network plots\n",
    "plt.plot(acc_nn.accuracies, 'r-', label = \"Training Accuracies - NN\")\n",
    "plt.plot(acc_nn.test_accuracies, 'g-', label = \"Testing Accuracies - NN\")\n",
    "\n",
    "# Logistic Regression plots\n",
    "plt.plot(acc_lr.accuracies, 'k-', label = \"Training Accuracies - LR\")\n",
    "plt.plot(acc_lr.test_accuracies, 'b-', label = \"Testing Accuracies - LR\")\n",
    "plt.legend()"
   ]
  },
  {
   "cell_type": "markdown",
   "id": "80dfb35c",
   "metadata": {
    "papermill": {
     "duration": 0.042387,
     "end_time": "2022-07-13T20:13:50.258059",
     "exception": false,
     "start_time": "2022-07-13T20:13:50.215672",
     "status": "completed"
    },
    "tags": []
   },
   "source": [
    "#### Plotting the outputs of this layer of the NN.\n"
   ]
  },
  {
   "cell_type": "code",
   "execution_count": 25,
   "id": "45eb2ff5",
   "metadata": {
    "execution": {
     "iopub.execute_input": "2022-07-13T20:13:50.347230Z",
     "iopub.status.busy": "2022-07-13T20:13:50.346206Z",
     "iopub.status.idle": "2022-07-13T20:13:50.383630Z",
     "shell.execute_reply": "2022-07-13T20:13:50.384075Z"
    },
    "papermill": {
     "duration": 0.083906,
     "end_time": "2022-07-13T20:13:50.384205",
     "exception": false,
     "start_time": "2022-07-13T20:13:50.300299",
     "status": "completed"
    },
    "tags": []
   },
   "outputs": [],
   "source": [
    "new_model = Model(layers[:-2])\n",
    "testing_plot = new_model(testing_data_x)"
   ]
  },
  {
   "cell_type": "code",
   "execution_count": 26,
   "id": "4c0a5485",
   "metadata": {
    "execution": {
     "iopub.execute_input": "2022-07-13T20:13:50.476667Z",
     "iopub.status.busy": "2022-07-13T20:13:50.473908Z",
     "iopub.status.idle": "2022-07-13T20:13:50.676529Z",
     "shell.execute_reply": "2022-07-13T20:13:50.676071Z"
    },
    "papermill": {
     "duration": 0.249673,
     "end_time": "2022-07-13T20:13:50.676641",
     "exception": false,
     "start_time": "2022-07-13T20:13:50.426968",
     "status": "completed"
    },
    "tags": []
   },
   "outputs": [
    {
     "data": {
      "text/plain": [
       "Text(0.5, 1.0, 'Outputs')"
      ]
     },
     "execution_count": 26,
     "metadata": {},
     "output_type": "execute_result"
    },
    {
     "data": {
      "image/png": "[encoded data removed]",
      "text/plain": [
       "<Figure size 576x504 with 1 Axes>"
      ]
     },
     "metadata": {
      "needs_background": "light"
     },
     "output_type": "display_data"
    }
   ],
   "source": [
    "# Plotting the scatter plot of points and color coding by class\n",
    "plt.figure(figsize=(8,7))\n",
    "plt.scatter(testing_plot[:,0], testing_plot[:,1], alpha = 0.1, c = y_test.ravel());\n",
    "plt.title('Outputs')"
   ]
  },
  {
   "cell_type": "markdown",
   "id": "a74fcf8f",
   "metadata": {
    "papermill": {
     "duration": 0.046332,
     "end_time": "2022-07-13T20:13:50.767768",
     "exception": false,
     "start_time": "2022-07-13T20:13:50.721436",
     "status": "completed"
    },
    "tags": []
   },
   "source": [
    "Probability contours"
   ]
  },
  {
   "cell_type": "code",
   "execution_count": 27,
   "id": "d0afc8e3",
   "metadata": {
    "execution": {
     "iopub.execute_input": "2022-07-13T20:13:50.891499Z",
     "iopub.status.busy": "2022-07-13T20:13:50.889246Z",
     "iopub.status.idle": "2022-07-13T20:13:50.901327Z",
     "shell.execute_reply": "2022-07-13T20:13:50.900849Z"
    },
    "papermill": {
     "duration": 0.088911,
     "end_time": "2022-07-13T20:13:50.901439",
     "exception": false,
     "start_time": "2022-07-13T20:13:50.812528",
     "status": "completed"
    },
    "tags": []
   },
   "outputs": [],
   "source": [
    "model_prob = Model(layers[-2:]) "
   ]
  },
  {
   "cell_type": "code",
   "execution_count": 28,
   "id": "9b96e238",
   "metadata": {
    "execution": {
     "iopub.execute_input": "2022-07-13T20:13:50.995610Z",
     "iopub.status.busy": "2022-07-13T20:13:50.995003Z",
     "iopub.status.idle": "2022-07-13T20:13:51.008551Z",
     "shell.execute_reply": "2022-07-13T20:13:51.008983Z"
    },
    "papermill": {
     "duration": 0.063004,
     "end_time": "2022-07-13T20:13:51.009119",
     "exception": false,
     "start_time": "2022-07-13T20:13:50.946115",
     "status": "completed"
    },
    "tags": []
   },
   "outputs": [],
   "source": [
    "#creating the x and y ranges according to the above generated plot.\n",
    "x_range = np.linspace(-4, 1, 100) \n",
    "y_range = np.linspace(-6, 6, 100) \n",
    "x_grid, y_grid = np.meshgrid(x_range, y_range) # x_grid and y_grig are of size 100 X 100\n",
    "\n",
    "# converting x_grid and y_grid to continuous arrays\n",
    "x_gridflat = np.ravel(x_grid)\n",
    "y_gridflat = np.ravel(y_grid)\n",
    "\n",
    "# The last layer of the current model takes two columns as input. Hence transpose of np.vstack() is required.\n",
    "X = np.vstack((x_gridflat, y_gridflat)).T\n",
    "\n",
    "prob_contour = model_prob(X).reshape(100,100) "
   ]
  },
  {
   "cell_type": "code",
   "execution_count": 29,
   "id": "da72499a",
   "metadata": {
    "execution": {
     "iopub.execute_input": "2022-07-13T20:13:51.103248Z",
     "iopub.status.busy": "2022-07-13T20:13:51.102675Z",
     "iopub.status.idle": "2022-07-13T20:13:51.358027Z",
     "shell.execute_reply": "2022-07-13T20:13:51.358467Z"
    },
    "papermill": {
     "duration": 0.304571,
     "end_time": "2022-07-13T20:13:51.358592",
     "exception": false,
     "start_time": "2022-07-13T20:13:51.054021",
     "status": "completed"
    },
    "tags": []
   },
   "outputs": [
    {
     "data": {
      "image/png": "[encoded data removed]",
      "text/plain": [
       "<Figure size 720x648 with 1 Axes>"
      ]
     },
     "metadata": {
      "needs_background": "light"
     },
     "output_type": "display_data"
    }
   ],
   "source": [
    "plt.figure(figsize=(10,9))\n",
    "plt.scatter(testing_plot[:,0], testing_plot[:,1], alpha = 0.1, c = y_test.ravel())\n",
    "contours = plt.contour(x_grid,y_grid,prob_contour)\n",
    "plt.title('Probability Contours')\n",
    "plt.clabel(contours, inline = True );"
   ]
  },
  {
   "cell_type": "code",
   "execution_count": null,
   "id": "e81b4ac7",
   "metadata": {
    "papermill": {
     "duration": 0.047186,
     "end_time": "2022-07-13T20:13:51.453608",
     "exception": false,
     "start_time": "2022-07-13T20:13:51.406422",
     "status": "completed"
    },
    "tags": []
   },
   "outputs": [],
   "source": []
  }
 ],
 "metadata": {
  "kernelspec": {
   "display_name": "Python 3",
   "language": "python",
   "name": "python3"
  },
  "language_info": {
   "codemirror_mode": {
    "name": "ipython",
    "version": 3
   },
   "file_extension": ".py",
   "mimetype": "text/x-python",
   "name": "python",
   "nbconvert_exporter": "python",
   "pygments_lexer": "ipython3",
   "version": "3.6.15"
  },
  "papermill": {
   "default_parameters": {},
   "duration": 200.173746,
   "end_time": "2022-07-13T20:13:51.918838",
   "environment_variables": {},
   "exception": null,
   "input_path": "2020-08-11-part2.ipynb",
   "output_path": "2020-08-11-part2.ipynb",
   "parameters": {},
   "start_time": "2022-07-13T20:10:31.745092",
   "version": "2.3.3"
  }
 },
 "nbformat": 4,
 "nbformat_minor": 5
}