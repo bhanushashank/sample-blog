{
 "cells": [
  {
   "cell_type": "markdown",
   "id": "98380cd3",
   "metadata": {
    "papermill": {
     "duration": 0.031229,
     "end_time": "2022-02-03T10:07:51.498038",
     "exception": false,
     "start_time": "2022-02-03T10:07:51.466809",
     "status": "completed"
    },
    "tags": []
   },
   "source": [
    "# Distinguish Your Own Digits (DYOD)"
   ]
  },
  {
   "cell_type": "markdown",
   "id": "ef31240d",
   "metadata": {
    "papermill": {
     "duration": 0.026247,
     "end_time": "2022-02-03T10:07:51.551654",
     "exception": false,
     "start_time": "2022-02-03T10:07:51.525407",
     "status": "completed"
    },
    "tags": []
   },
   "source": [
    "You are going to write a classifier that distinguishes between the number 3 and number 8."
   ]
  },
  {
   "cell_type": "code",
   "execution_count": 1,
   "id": "b15c8646",
   "metadata": {
    "execution": {
     "iopub.execute_input": "2022-02-03T10:07:51.618584Z",
     "iopub.status.busy": "2022-02-03T10:07:51.617950Z",
     "iopub.status.idle": "2022-02-03T10:07:51.629795Z",
     "shell.execute_reply": "2022-02-03T10:07:51.629294Z"
    },
    "papermill": {
     "duration": 0.051772,
     "end_time": "2022-02-03T10:07:51.629947",
     "exception": false,
     "start_time": "2022-02-03T10:07:51.578175",
     "status": "completed"
    },
    "tags": []
   },
   "outputs": [],
   "source": [
    "%load_ext autoreload\n",
    "%autoreload 2"
   ]
  },
  {
   "cell_type": "code",
   "execution_count": 2,
   "id": "22ef38dc",
   "metadata": {
    "execution": {
     "iopub.execute_input": "2022-02-03T10:07:51.691103Z",
     "iopub.status.busy": "2022-02-03T10:07:51.690474Z",
     "iopub.status.idle": "2022-02-03T10:07:52.371184Z",
     "shell.execute_reply": "2022-02-03T10:07:52.370354Z"
    },
    "papermill": {
     "duration": 0.714694,
     "end_time": "2022-02-03T10:07:52.371388",
     "exception": false,
     "start_time": "2022-02-03T10:07:51.656694",
     "status": "completed"
    },
    "tags": []
   },
   "outputs": [],
   "source": [
    "%matplotlib inline\n",
    "import numpy as np\n",
    "import matplotlib.pyplot as plt\n",
    "import pandas as pd"
   ]
  },
  {
   "cell_type": "markdown",
   "id": "ba036198",
   "metadata": {
    "papermill": {
     "duration": 0.028533,
     "end_time": "2022-02-03T10:07:52.429370",
     "exception": false,
     "start_time": "2022-02-03T10:07:52.400837",
     "status": "completed"
    },
    "tags": []
   },
   "source": [
    "From the command line run `pip install mnist`. This is a library that will help you bring down the mnist dataset. If you run this from a notebook, you need to put  `!pip install mnist` in a cell by itself."
   ]
  },
  {
   "cell_type": "code",
   "execution_count": 3,
   "id": "bb6ad8a1",
   "metadata": {
    "execution": {
     "iopub.execute_input": "2022-02-03T10:07:52.491145Z",
     "iopub.status.busy": "2022-02-03T10:07:52.490546Z",
     "iopub.status.idle": "2022-02-03T10:07:54.712534Z",
     "shell.execute_reply": "2022-02-03T10:07:54.711724Z"
    },
    "papermill": {
     "duration": 2.255615,
     "end_time": "2022-02-03T10:07:54.712707",
     "exception": false,
     "start_time": "2022-02-03T10:07:52.457092",
     "status": "completed"
    },
    "tags": []
   },
   "outputs": [
    {
     "name": "stdout",
     "output_type": "stream",
     "text": [
      "Collecting mnist\r\n"
     ]
    },
    {
     "name": "stdout",
     "output_type": "stream",
     "text": [
      "  Downloading mnist-0.2.2-py2.py3-none-any.whl (3.5 kB)\r\n",
      "Requirement already satisfied: numpy in /opt/hostedtoolcache/Python/3.6.15/x64/lib/python3.6/site-packages (from mnist) (1.19.5)\r\n"
     ]
    },
    {
     "name": "stdout",
     "output_type": "stream",
     "text": [
      "Installing collected packages: mnist\r\n"
     ]
    },
    {
     "name": "stdout",
     "output_type": "stream",
     "text": [
      "Successfully installed mnist-0.2.2\r\n"
     ]
    }
   ],
   "source": [
    "!pip install mnist"
   ]
  },
  {
   "cell_type": "markdown",
   "id": "69df9c9a",
   "metadata": {
    "papermill": {
     "duration": 0.027805,
     "end_time": "2022-02-03T10:07:54.773587",
     "exception": false,
     "start_time": "2022-02-03T10:07:54.745782",
     "status": "completed"
    },
    "tags": []
   },
   "source": [
    "## Preparing the Data"
   ]
  },
  {
   "cell_type": "code",
   "execution_count": 4,
   "id": "7f69d806",
   "metadata": {
    "execution": {
     "iopub.execute_input": "2022-02-03T10:07:54.838288Z",
     "iopub.status.busy": "2022-02-03T10:07:54.835872Z",
     "iopub.status.idle": "2022-02-03T10:07:54.853130Z",
     "shell.execute_reply": "2022-02-03T10:07:54.852273Z"
    },
    "papermill": {
     "duration": 0.052312,
     "end_time": "2022-02-03T10:07:54.853343",
     "exception": false,
     "start_time": "2022-02-03T10:07:54.801031",
     "status": "completed"
    },
    "tags": []
   },
   "outputs": [],
   "source": [
    "import mnist"
   ]
  },
  {
   "cell_type": "code",
   "execution_count": 5,
   "id": "a411e44f",
   "metadata": {
    "execution": {
     "iopub.execute_input": "2022-02-03T10:07:54.914728Z",
     "iopub.status.busy": "2022-02-03T10:07:54.914124Z",
     "iopub.status.idle": "2022-02-03T10:07:55.590641Z",
     "shell.execute_reply": "2022-02-03T10:07:55.591460Z"
    },
    "papermill": {
     "duration": 0.709487,
     "end_time": "2022-02-03T10:07:55.591714",
     "exception": false,
     "start_time": "2022-02-03T10:07:54.882227",
     "status": "completed"
    },
    "tags": []
   },
   "outputs": [],
   "source": [
    "train_images = mnist.train_images()\n",
    "train_labels = mnist.train_labels()"
   ]
  },
  {
   "cell_type": "code",
   "execution_count": 6,
   "id": "dceab3a5",
   "metadata": {
    "execution": {
     "iopub.execute_input": "2022-02-03T10:07:55.661502Z",
     "iopub.status.busy": "2022-02-03T10:07:55.660585Z",
     "iopub.status.idle": "2022-02-03T10:07:55.679018Z",
     "shell.execute_reply": "2022-02-03T10:07:55.678520Z"
    },
    "papermill": {
     "duration": 0.056984,
     "end_time": "2022-02-03T10:07:55.679151",
     "exception": false,
     "start_time": "2022-02-03T10:07:55.622167",
     "status": "completed"
    },
    "tags": []
   },
   "outputs": [
    {
     "data": {
      "text/plain": [
       "((60000, 28, 28), (60000,))"
      ]
     },
     "execution_count": 6,
     "metadata": {},
     "output_type": "execute_result"
    }
   ],
   "source": [
    "train_images.shape, train_labels.shape"
   ]
  },
  {
   "cell_type": "code",
   "execution_count": 7,
   "id": "f50dc2bb",
   "metadata": {
    "execution": {
     "iopub.execute_input": "2022-02-03T10:07:55.745359Z",
     "iopub.status.busy": "2022-02-03T10:07:55.744720Z",
     "iopub.status.idle": "2022-02-03T10:07:55.981241Z",
     "shell.execute_reply": "2022-02-03T10:07:55.980559Z"
    },
    "papermill": {
     "duration": 0.274,
     "end_time": "2022-02-03T10:07:55.981390",
     "exception": false,
     "start_time": "2022-02-03T10:07:55.707390",
     "status": "completed"
    },
    "tags": []
   },
   "outputs": [],
   "source": [
    "test_images = mnist.test_images()\n",
    "test_labels = mnist.test_labels()"
   ]
  },
  {
   "cell_type": "code",
   "execution_count": 8,
   "id": "fc38cf1b",
   "metadata": {
    "execution": {
     "iopub.execute_input": "2022-02-03T10:07:56.048160Z",
     "iopub.status.busy": "2022-02-03T10:07:56.047531Z",
     "iopub.status.idle": "2022-02-03T10:07:56.064544Z",
     "shell.execute_reply": "2022-02-03T10:07:56.063836Z"
    },
    "papermill": {
     "duration": 0.053698,
     "end_time": "2022-02-03T10:07:56.064686",
     "exception": false,
     "start_time": "2022-02-03T10:07:56.010988",
     "status": "completed"
    },
    "tags": []
   },
   "outputs": [
    {
     "data": {
      "text/plain": [
       "((10000, 28, 28), (10000,))"
      ]
     },
     "execution_count": 8,
     "metadata": {},
     "output_type": "execute_result"
    }
   ],
   "source": [
    "test_images.shape, test_labels.shape"
   ]
  },
  {
   "cell_type": "code",
   "execution_count": 9,
   "id": "f9ed8fe0",
   "metadata": {
    "execution": {
     "iopub.execute_input": "2022-02-03T10:07:56.137076Z",
     "iopub.status.busy": "2022-02-03T10:07:56.136456Z",
     "iopub.status.idle": "2022-02-03T10:07:56.295749Z",
     "shell.execute_reply": "2022-02-03T10:07:56.296243Z"
    },
    "papermill": {
     "duration": 0.200984,
     "end_time": "2022-02-03T10:07:56.296410",
     "exception": false,
     "start_time": "2022-02-03T10:07:56.095426",
     "status": "completed"
    },
    "tags": []
   },
   "outputs": [
    {
     "name": "stdout",
     "output_type": "stream",
     "text": [
      "2\n"
     ]
    },
    {
     "data": {
      "text/plain": [
       "<matplotlib.image.AxesImage at 0x7f6e6927dc88>"
      ]
     },
     "execution_count": 9,
     "metadata": {},
     "output_type": "execute_result"
    },
    {
     "data": {
      "image/png": "[encoded data removed]",
      "text/plain": [
       "<Figure size 432x288 with 1 Axes>"
      ]
     },
     "metadata": {
      "needs_background": "light"
     },
     "output_type": "display_data"
    }
   ],
   "source": [
    "image_index = 7776 # You may select anything up to 60,000\n",
    "print(train_labels[image_index]) \n",
    "plt.imshow(train_images[image_index], cmap='Greys')"
   ]
  },
  {
   "cell_type": "markdown",
   "id": "a8d2388d",
   "metadata": {
    "papermill": {
     "duration": 0.029503,
     "end_time": "2022-02-03T10:07:56.355844",
     "exception": false,
     "start_time": "2022-02-03T10:07:56.326341",
     "status": "completed"
    },
    "tags": []
   },
   "source": [
    "## Filter data to get 3 and 8 out"
   ]
  },
  {
   "cell_type": "code",
   "execution_count": 10,
   "id": "776f7fc7",
   "metadata": {
    "execution": {
     "iopub.execute_input": "2022-02-03T10:07:56.420551Z",
     "iopub.status.busy": "2022-02-03T10:07:56.419883Z",
     "iopub.status.idle": "2022-02-03T10:07:56.439779Z",
     "shell.execute_reply": "2022-02-03T10:07:56.440378Z"
    },
    "papermill": {
     "duration": 0.055167,
     "end_time": "2022-02-03T10:07:56.440568",
     "exception": false,
     "start_time": "2022-02-03T10:07:56.385401",
     "status": "completed"
    },
    "tags": []
   },
   "outputs": [],
   "source": [
    "train_filter = np.where((train_labels == 3 ) | (train_labels == 8))\n",
    "test_filter = np.where((test_labels == 3) | (test_labels == 8))\n",
    "X_train, y_train = train_images[train_filter], train_labels[train_filter]\n",
    "X_test, y_test = test_images[test_filter], test_labels[test_filter]"
   ]
  },
  {
   "cell_type": "markdown",
   "id": "948f0b7e",
   "metadata": {
    "papermill": {
     "duration": 0.029897,
     "end_time": "2022-02-03T10:07:56.501392",
     "exception": false,
     "start_time": "2022-02-03T10:07:56.471495",
     "status": "completed"
    },
    "tags": []
   },
   "source": [
    "We normalize the pizel values in the 0 to 1 range"
   ]
  },
  {
   "cell_type": "code",
   "execution_count": 11,
   "id": "ee4c2166",
   "metadata": {
    "execution": {
     "iopub.execute_input": "2022-02-03T10:07:56.565298Z",
     "iopub.status.busy": "2022-02-03T10:07:56.564679Z",
     "iopub.status.idle": "2022-02-03T10:07:56.620295Z",
     "shell.execute_reply": "2022-02-03T10:07:56.619704Z"
    },
    "papermill": {
     "duration": 0.089481,
     "end_time": "2022-02-03T10:07:56.620438",
     "exception": false,
     "start_time": "2022-02-03T10:07:56.530957",
     "status": "completed"
    },
    "tags": []
   },
   "outputs": [],
   "source": [
    "X_train = X_train/255.\n",
    "X_test = X_test/255."
   ]
  },
  {
   "cell_type": "markdown",
   "id": "ddcf4fab",
   "metadata": {
    "papermill": {
     "duration": 0.029641,
     "end_time": "2022-02-03T10:07:56.681950",
     "exception": false,
     "start_time": "2022-02-03T10:07:56.652309",
     "status": "completed"
    },
    "tags": []
   },
   "source": [
    "And setup the labels as 1 (when the digit is 3) and 0 (when the digit is 8)"
   ]
  },
  {
   "cell_type": "code",
   "execution_count": 12,
   "id": "7dc908f2",
   "metadata": {
    "execution": {
     "iopub.execute_input": "2022-02-03T10:07:56.745798Z",
     "iopub.status.busy": "2022-02-03T10:07:56.745140Z",
     "iopub.status.idle": "2022-02-03T10:07:56.760618Z",
     "shell.execute_reply": "2022-02-03T10:07:56.759977Z"
    },
    "papermill": {
     "duration": 0.049242,
     "end_time": "2022-02-03T10:07:56.760763",
     "exception": false,
     "start_time": "2022-02-03T10:07:56.711521",
     "status": "completed"
    },
    "tags": []
   },
   "outputs": [],
   "source": [
    "y_train = 1*(y_train==3)\n",
    "y_test = 1*(y_test==3)"
   ]
  },
  {
   "cell_type": "code",
   "execution_count": 13,
   "id": "01e4e969",
   "metadata": {
    "execution": {
     "iopub.execute_input": "2022-02-03T10:07:56.829681Z",
     "iopub.status.busy": "2022-02-03T10:07:56.829107Z",
     "iopub.status.idle": "2022-02-03T10:07:56.845959Z",
     "shell.execute_reply": "2022-02-03T10:07:56.845458Z"
    },
    "papermill": {
     "duration": 0.055076,
     "end_time": "2022-02-03T10:07:56.846086",
     "exception": false,
     "start_time": "2022-02-03T10:07:56.791010",
     "status": "completed"
    },
    "tags": []
   },
   "outputs": [
    {
     "data": {
      "text/plain": [
       "((11982, 28, 28), (1984, 28, 28))"
      ]
     },
     "execution_count": 13,
     "metadata": {},
     "output_type": "execute_result"
    }
   ],
   "source": [
    "X_train.shape, X_test.shape"
   ]
  },
  {
   "cell_type": "markdown",
   "id": "5ccf3f85",
   "metadata": {
    "papermill": {
     "duration": 0.030916,
     "end_time": "2022-02-03T10:07:56.907231",
     "exception": false,
     "start_time": "2022-02-03T10:07:56.876315",
     "status": "completed"
    },
    "tags": []
   },
   "source": [
    "We reshape the data to flatten the image pixels into a set of features or co-variates:"
   ]
  },
  {
   "cell_type": "code",
   "execution_count": 14,
   "id": "5286a4a3",
   "metadata": {
    "execution": {
     "iopub.execute_input": "2022-02-03T10:07:56.973990Z",
     "iopub.status.busy": "2022-02-03T10:07:56.973359Z",
     "iopub.status.idle": "2022-02-03T10:07:56.989054Z",
     "shell.execute_reply": "2022-02-03T10:07:56.988537Z"
    },
    "papermill": {
     "duration": 0.050858,
     "end_time": "2022-02-03T10:07:56.989180",
     "exception": false,
     "start_time": "2022-02-03T10:07:56.938322",
     "status": "completed"
    },
    "tags": []
   },
   "outputs": [
    {
     "data": {
      "text/plain": [
       "((11982, 784), (1984, 784))"
      ]
     },
     "execution_count": 14,
     "metadata": {},
     "output_type": "execute_result"
    }
   ],
   "source": [
    "X_train = X_train.reshape(X_train.shape[0], -1)\n",
    "X_test = X_test.reshape(X_test.shape[0], -1)\n",
    "X_train.shape, X_test.shape"
   ]
  },
  {
   "cell_type": "code",
   "execution_count": 15,
   "id": "73c5f88a",
   "metadata": {
    "execution": {
     "iopub.execute_input": "2022-02-03T10:07:57.059665Z",
     "iopub.status.busy": "2022-02-03T10:07:57.059041Z",
     "iopub.status.idle": "2022-02-03T10:07:57.080031Z",
     "shell.execute_reply": "2022-02-03T10:07:57.080522Z"
    },
    "papermill": {
     "duration": 0.057629,
     "end_time": "2022-02-03T10:07:57.080683",
     "exception": false,
     "start_time": "2022-02-03T10:07:57.023054",
     "status": "completed"
    },
    "tags": []
   },
   "outputs": [],
   "source": [
    "#Impoting functions from 'Kudzu'\n",
    "from kudzu.model import Model\n",
    "from kudzu.train import Learner\n",
    "from kudzu.optim import GD\n",
    "from kudzu.data import Data, Sampler,Dataloader\n",
    "\n",
    "from kudzu.callbacks import AccCallback\n",
    "from kudzu.callbacks import ClfCallback\n",
    "\n",
    "from kudzu.loss import MSE\n",
    "\n",
    "from kudzu.layer import Sigmoid,Relu\n",
    "from kudzu.layer import Affine"
   ]
  },
  {
   "cell_type": "markdown",
   "id": "bc01172a",
   "metadata": {
    "papermill": {
     "duration": 0.032369,
     "end_time": "2022-02-03T10:07:57.143973",
     "exception": false,
     "start_time": "2022-02-03T10:07:57.111604",
     "status": "completed"
    },
    "tags": []
   },
   "source": [
    "### Let us create a `Config` class, to store important parameters. \n",
    "This class essentially plays the role of a dictionary."
   ]
  },
  {
   "cell_type": "code",
   "execution_count": 16,
   "id": "978281aa",
   "metadata": {
    "execution": {
     "iopub.execute_input": "2022-02-03T10:07:57.216486Z",
     "iopub.status.busy": "2022-02-03T10:07:57.215849Z",
     "iopub.status.idle": "2022-02-03T10:07:57.229831Z",
     "shell.execute_reply": "2022-02-03T10:07:57.229229Z"
    },
    "papermill": {
     "duration": 0.05533,
     "end_time": "2022-02-03T10:07:57.229975",
     "exception": false,
     "start_time": "2022-02-03T10:07:57.174645",
     "status": "completed"
    },
    "tags": []
   },
   "outputs": [],
   "source": [
    "class Config:\n",
    "    pass\n",
    "config = Config()\n",
    "config.lr = 0.001\n",
    "config.num_epochs = 250\n",
    "config.bs = 50"
   ]
  },
  {
   "cell_type": "markdown",
   "id": "1385fa59",
   "metadata": {
    "papermill": {
     "duration": 0.031044,
     "end_time": "2022-02-03T10:07:57.291896",
     "exception": false,
     "start_time": "2022-02-03T10:07:57.260852",
     "status": "completed"
    },
    "tags": []
   },
   "source": [
    "### Running Models with the Training data\n",
    "Details about the network layers:\n",
    "- A first affine layer has 784 inputs and does 100 affine transforms. These are followed by a Relu\n",
    "- A second affine layer has 100 inputs from the 100 activations of the past layer, and does 100 affine transforms. These are followed by a Relu\n",
    "- A third affine layer has 100 activations and does 2 affine transformations to create an embedding for visualization. There is no non-linearity here.\n",
    "- A final \"logistic regression\" which has an affine transform from 2 inputs to 1 output, which is squeezed through a sigmoid.\n"
   ]
  },
  {
   "cell_type": "code",
   "execution_count": 17,
   "id": "2b9c66db",
   "metadata": {
    "execution": {
     "iopub.execute_input": "2022-02-03T10:07:57.359776Z",
     "iopub.status.busy": "2022-02-03T10:07:57.359159Z",
     "iopub.status.idle": "2022-02-03T10:07:57.373797Z",
     "shell.execute_reply": "2022-02-03T10:07:57.374316Z"
    },
    "papermill": {
     "duration": 0.051661,
     "end_time": "2022-02-03T10:07:57.374476",
     "exception": false,
     "start_time": "2022-02-03T10:07:57.322815",
     "status": "completed"
    },
    "tags": []
   },
   "outputs": [],
   "source": [
    "data = Data(X_train, y_train.reshape(-1,1))\n",
    "sampler = Sampler(data, config.bs, shuffle=True)\n",
    "\n",
    "dl = Dataloader(data, sampler)\n",
    "\n",
    "opt = GD(config.lr)\n",
    "loss = MSE()"
   ]
  },
  {
   "cell_type": "code",
   "execution_count": 18,
   "id": "b275e4c2",
   "metadata": {
    "execution": {
     "iopub.execute_input": "2022-02-03T10:07:57.442042Z",
     "iopub.status.busy": "2022-02-03T10:07:57.441430Z",
     "iopub.status.idle": "2022-02-03T10:07:57.455708Z",
     "shell.execute_reply": "2022-02-03T10:07:57.455186Z"
    },
    "papermill": {
     "duration": 0.049872,
     "end_time": "2022-02-03T10:07:57.455837",
     "exception": false,
     "start_time": "2022-02-03T10:07:57.405965",
     "status": "completed"
    },
    "tags": []
   },
   "outputs": [],
   "source": [
    "training_data_x = X_train\n",
    "testing_data_x = X_test\n",
    "training_data_y = y_train.reshape(-1,1)\n",
    "testing_data_y = y_test.reshape(-1,1)"
   ]
  },
  {
   "cell_type": "code",
   "execution_count": 19,
   "id": "76951160",
   "metadata": {
    "execution": {
     "iopub.execute_input": "2022-02-03T10:07:57.529252Z",
     "iopub.status.busy": "2022-02-03T10:07:57.528616Z",
     "iopub.status.idle": "2022-02-03T10:07:57.547784Z",
     "shell.execute_reply": "2022-02-03T10:07:57.547299Z"
    },
    "papermill": {
     "duration": 0.055451,
     "end_time": "2022-02-03T10:07:57.547928",
     "exception": false,
     "start_time": "2022-02-03T10:07:57.492477",
     "status": "completed"
    },
    "tags": []
   },
   "outputs": [
    {
     "name": "stdout",
     "output_type": "stream",
     "text": [
      "xavier\n",
      "xavier\n",
      "xavier\n",
      "xavier\n",
      "xavier\n"
     ]
    }
   ],
   "source": [
    "layers = [Affine(\"first\", 784, 100), Relu(\"first\"), Affine(\"second\", 100, 100), Relu(\"second\"), Affine(\"third\", 100, 2), Affine(\"last\", 2, 1), Sigmoid(\"last\")]\n",
    "model_nn = Model(layers)\n",
    "model_lr = Model([Affine(\"logits\", 784, 1), Sigmoid(\"sigmoid\")])"
   ]
  },
  {
   "cell_type": "code",
   "execution_count": 20,
   "id": "6eede77a",
   "metadata": {
    "execution": {
     "iopub.execute_input": "2022-02-03T10:07:57.615745Z",
     "iopub.status.busy": "2022-02-03T10:07:57.615109Z",
     "iopub.status.idle": "2022-02-03T10:07:57.631144Z",
     "shell.execute_reply": "2022-02-03T10:07:57.630532Z"
    },
    "papermill": {
     "duration": 0.052428,
     "end_time": "2022-02-03T10:07:57.631293",
     "exception": false,
     "start_time": "2022-02-03T10:07:57.578865",
     "status": "completed"
    },
    "tags": []
   },
   "outputs": [],
   "source": [
    "nn_learner = Learner(loss, model_nn, opt, config.num_epochs)\n",
    "acc_nn = ClfCallback(nn_learner, config.bs, training_data_x , testing_data_x, training_data_y, testing_data_y)\n",
    "nn_learner.set_callbacks([acc_nn])"
   ]
  },
  {
   "cell_type": "code",
   "execution_count": 21,
   "id": "877b6cc7",
   "metadata": {
    "execution": {
     "iopub.execute_input": "2022-02-03T10:07:57.699755Z",
     "iopub.status.busy": "2022-02-03T10:07:57.699124Z",
     "iopub.status.idle": "2022-02-03T10:07:57.714228Z",
     "shell.execute_reply": "2022-02-03T10:07:57.713554Z"
    },
    "papermill": {
     "duration": 0.052458,
     "end_time": "2022-02-03T10:07:57.714388",
     "exception": false,
     "start_time": "2022-02-03T10:07:57.661930",
     "status": "completed"
    },
    "tags": []
   },
   "outputs": [],
   "source": [
    "lr_learner = Learner(loss, model_lr, opt, config.num_epochs)\n",
    "acc_lr = ClfCallback(lr_learner, config.bs, training_data_x , testing_data_x, training_data_y, testing_data_y)\n",
    "lr_learner.set_callbacks([acc_lr])"
   ]
  },
  {
   "cell_type": "code",
   "execution_count": 22,
   "id": "d9b133c3",
   "metadata": {
    "execution": {
     "iopub.execute_input": "2022-02-03T10:07:57.790067Z",
     "iopub.status.busy": "2022-02-03T10:07:57.789418Z",
     "iopub.status.idle": "2022-02-03T10:09:26.725645Z",
     "shell.execute_reply": "2022-02-03T10:09:26.726472Z"
    },
    "papermill": {
     "duration": 88.979419,
     "end_time": "2022-02-03T10:09:26.726655",
     "exception": false,
     "start_time": "2022-02-03T10:07:57.747236",
     "status": "completed"
    },
    "tags": []
   },
   "outputs": [
    {
     "name": "stdout",
     "output_type": "stream",
     "text": [
      "Epoch 0, Loss 0.2458\n",
      "Training Accuracy: 0.6186, Testing Accuracy: 0.5973\n",
      "\n"
     ]
    },
    {
     "name": "stdout",
     "output_type": "stream",
     "text": [
      "Epoch 10, Loss 0.1939\n",
      "Training Accuracy: 0.8828, Testing Accuracy: 0.8901\n",
      "\n"
     ]
    },
    {
     "name": "stdout",
     "output_type": "stream",
     "text": [
      "Epoch 20, Loss 0.0987\n",
      "Training Accuracy: 0.9127, Testing Accuracy: 0.9244\n",
      "\n"
     ]
    },
    {
     "name": "stdout",
     "output_type": "stream",
     "text": [
      "Epoch 30, Loss 0.0621\n",
      "Training Accuracy: 0.9352, Testing Accuracy: 0.9415\n",
      "\n"
     ]
    },
    {
     "name": "stdout",
     "output_type": "stream",
     "text": [
      "Epoch 40, Loss 0.0485\n",
      "Training Accuracy: 0.9458, Testing Accuracy: 0.9541\n",
      "\n"
     ]
    },
    {
     "name": "stdout",
     "output_type": "stream",
     "text": [
      "Epoch 50, Loss 0.0416\n",
      "Training Accuracy: 0.9523, Testing Accuracy: 0.9627\n",
      "\n"
     ]
    },
    {
     "name": "stdout",
     "output_type": "stream",
     "text": [
      "Epoch 60, Loss 0.0374\n",
      "Training Accuracy: 0.9571, Testing Accuracy: 0.9647\n",
      "\n"
     ]
    },
    {
     "name": "stdout",
     "output_type": "stream",
     "text": [
      "Epoch 70, Loss 0.0345\n",
      "Training Accuracy: 0.9600, Testing Accuracy: 0.9662\n",
      "\n"
     ]
    },
    {
     "name": "stdout",
     "output_type": "stream",
     "text": [
      "Epoch 80, Loss 0.0324\n",
      "Training Accuracy: 0.9627, Testing Accuracy: 0.9662\n",
      "\n"
     ]
    },
    {
     "name": "stdout",
     "output_type": "stream",
     "text": [
      "Epoch 90, Loss 0.0307\n",
      "Training Accuracy: 0.9644, Testing Accuracy: 0.9672\n",
      "\n"
     ]
    },
    {
     "name": "stdout",
     "output_type": "stream",
     "text": [
      "Epoch 100, Loss 0.0294\n",
      "Training Accuracy: 0.9662, Testing Accuracy: 0.9698\n",
      "\n"
     ]
    },
    {
     "name": "stdout",
     "output_type": "stream",
     "text": [
      "Epoch 110, Loss 0.0282\n",
      "Training Accuracy: 0.9677, Testing Accuracy: 0.9708\n",
      "\n"
     ]
    },
    {
     "name": "stdout",
     "output_type": "stream",
     "text": [
      "Epoch 120, Loss 0.0272\n",
      "Training Accuracy: 0.9689, Testing Accuracy: 0.9708\n",
      "\n"
     ]
    },
    {
     "name": "stdout",
     "output_type": "stream",
     "text": [
      "Epoch 130, Loss 0.0264\n",
      "Training Accuracy: 0.9695, Testing Accuracy: 0.9713\n",
      "\n"
     ]
    },
    {
     "name": "stdout",
     "output_type": "stream",
     "text": [
      "Epoch 140, Loss 0.0256\n",
      "Training Accuracy: 0.9700, Testing Accuracy: 0.9723\n",
      "\n"
     ]
    },
    {
     "name": "stdout",
     "output_type": "stream",
     "text": [
      "Epoch 150, Loss 0.0249\n",
      "Training Accuracy: 0.9704, Testing Accuracy: 0.9733\n",
      "\n"
     ]
    },
    {
     "name": "stdout",
     "output_type": "stream",
     "text": [
      "Epoch 160, Loss 0.0243\n",
      "Training Accuracy: 0.9716, Testing Accuracy: 0.9738\n",
      "\n"
     ]
    },
    {
     "name": "stdout",
     "output_type": "stream",
     "text": [
      "Epoch 170, Loss 0.0237\n",
      "Training Accuracy: 0.9725, Testing Accuracy: 0.9738\n",
      "\n"
     ]
    },
    {
     "name": "stdout",
     "output_type": "stream",
     "text": [
      "Epoch 180, Loss 0.0231\n",
      "Training Accuracy: 0.9729, Testing Accuracy: 0.9748\n",
      "\n"
     ]
    },
    {
     "name": "stdout",
     "output_type": "stream",
     "text": [
      "Epoch 190, Loss 0.0226\n",
      "Training Accuracy: 0.9736, Testing Accuracy: 0.9748\n",
      "\n"
     ]
    },
    {
     "name": "stdout",
     "output_type": "stream",
     "text": [
      "Epoch 200, Loss 0.0221\n",
      "Training Accuracy: 0.9743, Testing Accuracy: 0.9748\n",
      "\n"
     ]
    },
    {
     "name": "stdout",
     "output_type": "stream",
     "text": [
      "Epoch 210, Loss 0.0217\n",
      "Training Accuracy: 0.9750, Testing Accuracy: 0.9748\n",
      "\n"
     ]
    },
    {
     "name": "stdout",
     "output_type": "stream",
     "text": [
      "Epoch 220, Loss 0.0213\n",
      "Training Accuracy: 0.9756, Testing Accuracy: 0.9748\n",
      "\n"
     ]
    },
    {
     "name": "stdout",
     "output_type": "stream",
     "text": [
      "Epoch 230, Loss 0.0208\n",
      "Training Accuracy: 0.9760, Testing Accuracy: 0.9753\n",
      "\n"
     ]
    },
    {
     "name": "stdout",
     "output_type": "stream",
     "text": [
      "Epoch 240, Loss 0.0204\n",
      "Training Accuracy: 0.9765, Testing Accuracy: 0.9753\n",
      "\n"
     ]
    },
    {
     "data": {
      "text/plain": [
       "0.06284261664112172"
      ]
     },
     "execution_count": 22,
     "metadata": {},
     "output_type": "execute_result"
    }
   ],
   "source": [
    "nn_learner.train_loop(dl)"
   ]
  },
  {
   "cell_type": "code",
   "execution_count": 23,
   "id": "e0163366",
   "metadata": {
    "execution": {
     "iopub.execute_input": "2022-02-03T10:09:26.814284Z",
     "iopub.status.busy": "2022-02-03T10:09:26.813672Z",
     "iopub.status.idle": "2022-02-03T10:09:42.461171Z",
     "shell.execute_reply": "2022-02-03T10:09:42.462011Z"
    },
    "papermill": {
     "duration": 15.695659,
     "end_time": "2022-02-03T10:09:42.462174",
     "exception": false,
     "start_time": "2022-02-03T10:09:26.766515",
     "status": "completed"
    },
    "tags": []
   },
   "outputs": [
    {
     "name": "stdout",
     "output_type": "stream",
     "text": [
      "Epoch 0, Loss 0.2412\n",
      "Training Accuracy: 0.7049, Testing Accuracy: 0.7223\n",
      "\n"
     ]
    },
    {
     "name": "stdout",
     "output_type": "stream",
     "text": [
      "Epoch 10, Loss 0.1018\n",
      "Training Accuracy: 0.9085, Testing Accuracy: 0.9178\n",
      "\n"
     ]
    },
    {
     "name": "stdout",
     "output_type": "stream",
     "text": [
      "Epoch 20, Loss 0.0794\n",
      "Training Accuracy: 0.9251, Testing Accuracy: 0.9365\n",
      "\n"
     ]
    },
    {
     "name": "stdout",
     "output_type": "stream",
     "text": [
      "Epoch 30, Loss 0.0688\n",
      "Training Accuracy: 0.9337, Testing Accuracy: 0.9451\n",
      "\n"
     ]
    },
    {
     "name": "stdout",
     "output_type": "stream",
     "text": [
      "Epoch 40, Loss 0.0623\n",
      "Training Accuracy: 0.9389, Testing Accuracy: 0.9511\n",
      "\n"
     ]
    },
    {
     "name": "stdout",
     "output_type": "stream",
     "text": [
      "Epoch 50, Loss 0.0579\n",
      "Training Accuracy: 0.9417, Testing Accuracy: 0.9541\n",
      "\n"
     ]
    },
    {
     "name": "stdout",
     "output_type": "stream",
     "text": [
      "Epoch 60, Loss 0.0546\n",
      "Training Accuracy: 0.9451, Testing Accuracy: 0.9546\n",
      "\n"
     ]
    },
    {
     "name": "stdout",
     "output_type": "stream",
     "text": [
      "Epoch 70, Loss 0.052\n",
      "Training Accuracy: 0.9475, Testing Accuracy: 0.9567\n",
      "\n"
     ]
    },
    {
     "name": "stdout",
     "output_type": "stream",
     "text": [
      "Epoch 80, Loss 0.0499\n",
      "Training Accuracy: 0.9490, Testing Accuracy: 0.9582\n",
      "\n"
     ]
    },
    {
     "name": "stdout",
     "output_type": "stream",
     "text": [
      "Epoch 90, Loss 0.0482\n",
      "Training Accuracy: 0.9503, Testing Accuracy: 0.9587\n",
      "\n"
     ]
    },
    {
     "name": "stdout",
     "output_type": "stream",
     "text": [
      "Epoch 100, Loss 0.0468\n",
      "Training Accuracy: 0.9519, Testing Accuracy: 0.9602\n",
      "\n"
     ]
    },
    {
     "name": "stdout",
     "output_type": "stream",
     "text": [
      "Epoch 110, Loss 0.0455\n",
      "Training Accuracy: 0.9533, Testing Accuracy: 0.9607\n",
      "\n"
     ]
    },
    {
     "name": "stdout",
     "output_type": "stream",
     "text": [
      "Epoch 120, Loss 0.0444\n",
      "Training Accuracy: 0.9544, Testing Accuracy: 0.9622\n",
      "\n"
     ]
    },
    {
     "name": "stdout",
     "output_type": "stream",
     "text": [
      "Epoch 130, Loss 0.0435\n",
      "Training Accuracy: 0.9549, Testing Accuracy: 0.9632\n",
      "\n"
     ]
    },
    {
     "name": "stdout",
     "output_type": "stream",
     "text": [
      "Epoch 140, Loss 0.0426\n",
      "Training Accuracy: 0.9557, Testing Accuracy: 0.9642\n",
      "\n"
     ]
    },
    {
     "name": "stdout",
     "output_type": "stream",
     "text": [
      "Epoch 150, Loss 0.0419\n",
      "Training Accuracy: 0.9564, Testing Accuracy: 0.9647\n",
      "\n"
     ]
    },
    {
     "name": "stdout",
     "output_type": "stream",
     "text": [
      "Epoch 160, Loss 0.0412\n",
      "Training Accuracy: 0.9572, Testing Accuracy: 0.9652\n",
      "\n"
     ]
    },
    {
     "name": "stdout",
     "output_type": "stream",
     "text": [
      "Epoch 170, Loss 0.0405\n",
      "Training Accuracy: 0.9575, Testing Accuracy: 0.9657\n",
      "\n"
     ]
    },
    {
     "name": "stdout",
     "output_type": "stream",
     "text": [
      "Epoch 180, Loss 0.04\n",
      "Training Accuracy: 0.9579, Testing Accuracy: 0.9662\n",
      "\n"
     ]
    },
    {
     "name": "stdout",
     "output_type": "stream",
     "text": [
      "Epoch 190, Loss 0.0394\n",
      "Training Accuracy: 0.9582, Testing Accuracy: 0.9662\n",
      "\n"
     ]
    },
    {
     "name": "stdout",
     "output_type": "stream",
     "text": [
      "Epoch 200, Loss 0.039\n",
      "Training Accuracy: 0.9585, Testing Accuracy: 0.9667\n",
      "\n"
     ]
    },
    {
     "name": "stdout",
     "output_type": "stream",
     "text": [
      "Epoch 210, Loss 0.0385\n",
      "Training Accuracy: 0.9590, Testing Accuracy: 0.9672\n",
      "\n"
     ]
    },
    {
     "name": "stdout",
     "output_type": "stream",
     "text": [
      "Epoch 220, Loss 0.0381\n",
      "Training Accuracy: 0.9591, Testing Accuracy: 0.9677\n",
      "\n"
     ]
    },
    {
     "name": "stdout",
     "output_type": "stream",
     "text": [
      "Epoch 230, Loss 0.0377\n",
      "Training Accuracy: 0.9596, Testing Accuracy: 0.9688\n",
      "\n"
     ]
    },
    {
     "name": "stdout",
     "output_type": "stream",
     "text": [
      "Epoch 240, Loss 0.0373\n",
      "Training Accuracy: 0.9597, Testing Accuracy: 0.9693\n",
      "\n"
     ]
    },
    {
     "data": {
      "text/plain": [
       "0.03939679751997438"
      ]
     },
     "execution_count": 23,
     "metadata": {},
     "output_type": "execute_result"
    }
   ],
   "source": [
    "lr_learner.train_loop(dl)"
   ]
  },
  {
   "cell_type": "code",
   "execution_count": 24,
   "id": "ca410940",
   "metadata": {
    "execution": {
     "iopub.execute_input": "2022-02-03T10:09:42.569827Z",
     "iopub.status.busy": "2022-02-03T10:09:42.569210Z",
     "iopub.status.idle": "2022-02-03T10:09:42.838195Z",
     "shell.execute_reply": "2022-02-03T10:09:42.837665Z"
    },
    "papermill": {
     "duration": 0.330301,
     "end_time": "2022-02-03T10:09:42.838341",
     "exception": false,
     "start_time": "2022-02-03T10:09:42.508040",
     "status": "completed"
    },
    "tags": []
   },
   "outputs": [
    {
     "data": {
      "text/plain": [
       "<matplotlib.legend.Legend at 0x7f6e68deb400>"
      ]
     },
     "execution_count": 24,
     "metadata": {},
     "output_type": "execute_result"
    },
    {
     "data": {
      "image/png": "[encoded data removed]",
      "text/plain": [
       "<Figure size 1080x720 with 1 Axes>"
      ]
     },
     "metadata": {
      "needs_background": "light"
     },
     "output_type": "display_data"
    }
   ],
   "source": [
    "#comparing the results of NN and LR\n",
    "plt.figure(figsize=(15,10))\n",
    "\n",
    "# Neural Network plots\n",
    "plt.plot(acc_nn.accuracies, 'r-', label = \"Training Accuracies - NN\")\n",
    "plt.plot(acc_nn.test_accuracies, 'g-', label = \"Testing Accuracies - NN\")\n",
    "\n",
    "# Logistic Regression plots\n",
    "plt.plot(acc_lr.accuracies, 'k-', label = \"Training Accuracies - LR\")\n",
    "plt.plot(acc_lr.test_accuracies, 'b-', label = \"Testing Accuracies - LR\")\n",
    "plt.legend()"
   ]
  },
  {
   "cell_type": "markdown",
   "id": "80dfb35c",
   "metadata": {
    "papermill": {
     "duration": 0.047239,
     "end_time": "2022-02-03T10:09:42.933045",
     "exception": false,
     "start_time": "2022-02-03T10:09:42.885806",
     "status": "completed"
    },
    "tags": []
   },
   "source": [
    "#### Plotting the outputs of this layer of the NN.\n"
   ]
  },
  {
   "cell_type": "code",
   "execution_count": 25,
   "id": "45eb2ff5",
   "metadata": {
    "execution": {
     "iopub.execute_input": "2022-02-03T10:09:43.036782Z",
     "iopub.status.busy": "2022-02-03T10:09:43.034569Z",
     "iopub.status.idle": "2022-02-03T10:09:43.056285Z",
     "shell.execute_reply": "2022-02-03T10:09:43.055760Z"
    },
    "papermill": {
     "duration": 0.076508,
     "end_time": "2022-02-03T10:09:43.056417",
     "exception": false,
     "start_time": "2022-02-03T10:09:42.979909",
     "status": "completed"
    },
    "tags": []
   },
   "outputs": [],
   "source": [
    "new_model = Model(layers[:-2])\n",
    "testing_plot = new_model(testing_data_x)"
   ]
  },
  {
   "cell_type": "code",
   "execution_count": 26,
   "id": "4c0a5485",
   "metadata": {
    "execution": {
     "iopub.execute_input": "2022-02-03T10:09:43.164422Z",
     "iopub.status.busy": "2022-02-03T10:09:43.156952Z",
     "iopub.status.idle": "2022-02-03T10:09:43.391490Z",
     "shell.execute_reply": "2022-02-03T10:09:43.390977Z"
    },
    "papermill": {
     "duration": 0.287772,
     "end_time": "2022-02-03T10:09:43.391645",
     "exception": false,
     "start_time": "2022-02-03T10:09:43.103873",
     "status": "completed"
    },
    "tags": []
   },
   "outputs": [
    {
     "data": {
      "text/plain": [
       "Text(0.5, 1.0, 'Outputs')"
      ]
     },
     "execution_count": 26,
     "metadata": {},
     "output_type": "execute_result"
    },
    {
     "data": {
      "image/png": "[encoded data removed]",
      "text/plain": [
       "<Figure size 576x504 with 1 Axes>"
      ]
     },
     "metadata": {
      "needs_background": "light"
     },
     "output_type": "display_data"
    }
   ],
   "source": [
    "# Plotting the scatter plot of points and color coding by class\n",
    "plt.figure(figsize=(8,7))\n",
    "plt.scatter(testing_plot[:,0], testing_plot[:,1], alpha = 0.1, c = y_test.ravel());\n",
    "plt.title('Outputs')"
   ]
  },
  {
   "cell_type": "markdown",
   "id": "a74fcf8f",
   "metadata": {
    "papermill": {
     "duration": 0.0488,
     "end_time": "2022-02-03T10:09:43.490516",
     "exception": false,
     "start_time": "2022-02-03T10:09:43.441716",
     "status": "completed"
    },
    "tags": []
   },
   "source": [
    "Probability contours"
   ]
  },
  {
   "cell_type": "code",
   "execution_count": 27,
   "id": "d0afc8e3",
   "metadata": {
    "execution": {
     "iopub.execute_input": "2022-02-03T10:09:43.594403Z",
     "iopub.status.busy": "2022-02-03T10:09:43.593776Z",
     "iopub.status.idle": "2022-02-03T10:09:43.608988Z",
     "shell.execute_reply": "2022-02-03T10:09:43.608473Z"
    },
    "papermill": {
     "duration": 0.069817,
     "end_time": "2022-02-03T10:09:43.609116",
     "exception": false,
     "start_time": "2022-02-03T10:09:43.539299",
     "status": "completed"
    },
    "tags": []
   },
   "outputs": [],
   "source": [
    "model_prob = Model(layers[-2:]) "
   ]
  },
  {
   "cell_type": "code",
   "execution_count": 28,
   "id": "9b96e238",
   "metadata": {
    "execution": {
     "iopub.execute_input": "2022-02-03T10:09:43.744444Z",
     "iopub.status.busy": "2022-02-03T10:09:43.743764Z",
     "iopub.status.idle": "2022-02-03T10:09:43.762198Z",
     "shell.execute_reply": "2022-02-03T10:09:43.762836Z"
    },
    "papermill": {
     "duration": 0.073869,
     "end_time": "2022-02-03T10:09:43.762994",
     "exception": false,
     "start_time": "2022-02-03T10:09:43.689125",
     "status": "completed"
    },
    "tags": []
   },
   "outputs": [],
   "source": [
    "#creating the x and y ranges according to the above generated plot.\n",
    "x_range = np.linspace(-4, 1, 100) \n",
    "y_range = np.linspace(-6, 6, 100) \n",
    "x_grid, y_grid = np.meshgrid(x_range, y_range) # x_grid and y_grig are of size 100 X 100\n",
    "\n",
    "# converting x_grid and y_grid to continuous arrays\n",
    "x_gridflat = np.ravel(x_grid)\n",
    "y_gridflat = np.ravel(y_grid)\n",
    "\n",
    "# The last layer of the current model takes two columns as input. Hence transpose of np.vstack() is required.\n",
    "X = np.vstack((x_gridflat, y_gridflat)).T\n",
    "\n",
    "prob_contour = model_prob(X).reshape(100,100) "
   ]
  },
  {
   "cell_type": "code",
   "execution_count": 29,
   "id": "da72499a",
   "metadata": {
    "execution": {
     "iopub.execute_input": "2022-02-03T10:09:43.888951Z",
     "iopub.status.busy": "2022-02-03T10:09:43.888326Z",
     "iopub.status.idle": "2022-02-03T10:09:44.180483Z",
     "shell.execute_reply": "2022-02-03T10:09:44.181172Z"
    },
    "papermill": {
     "duration": 0.367591,
     "end_time": "2022-02-03T10:09:44.181361",
     "exception": false,
     "start_time": "2022-02-03T10:09:43.813770",
     "status": "completed"
    },
    "tags": []
   },
   "outputs": [
    {
     "data": {
      "image/png": "[encoded data removed]",
      "text/plain": [
       "<Figure size 720x648 with 1 Axes>"
      ]
     },
     "metadata": {
      "needs_background": "light"
     },
     "output_type": "display_data"
    }
   ],
   "source": [
    "plt.figure(figsize=(10,9))\n",
    "plt.scatter(testing_plot[:,0], testing_plot[:,1], alpha = 0.1, c = y_test.ravel())\n",
    "contours = plt.contour(x_grid,y_grid,prob_contour)\n",
    "plt.title('Probability Contours')\n",
    "plt.clabel(contours, inline = True );"
   ]
  },
  {
   "cell_type": "code",
   "execution_count": null,
   "id": "e81b4ac7",
   "metadata": {
    "papermill": {
     "duration": 0.054252,
     "end_time": "2022-02-03T10:09:44.291803",
     "exception": false,
     "start_time": "2022-02-03T10:09:44.237551",
     "status": "completed"
    },
    "tags": []
   },
   "outputs": [],
   "source": []
  }
 ],
 "metadata": {
  "kernelspec": {
   "display_name": "Python 3",
   "language": "python",
   "name": "python3"
  },
  "language_info": {
   "codemirror_mode": {
    "name": "ipython",
    "version": 3
   },
   "file_extension": ".py",
   "mimetype": "text/x-python",
   "name": "python",
   "nbconvert_exporter": "python",
   "pygments_lexer": "ipython3",
   "version": "3.6.15"
  },
  "papermill": {
   "default_parameters": {},
   "duration": 114.59898,
   "end_time": "2022-02-03T10:09:44.767561",
   "environment_variables": {},
   "exception": null,
   "input_path": "2020-08-11-part2.ipynb",
   "output_path": "2020-08-11-part2.ipynb",
   "parameters": {},
   "start_time": "2022-02-03T10:07:50.168581",
   "version": "2.3.3"
  }
 },
 "nbformat": 4,
 "nbformat_minor": 5
}