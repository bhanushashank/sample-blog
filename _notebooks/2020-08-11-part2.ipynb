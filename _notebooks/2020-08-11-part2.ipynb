{
 "cells": [
  {
   "cell_type": "markdown",
   "id": "98380cd3",
   "metadata": {
    "papermill": {
     "duration": 0.029422,
     "end_time": "2022-07-08T10:20:27.720794",
     "exception": false,
     "start_time": "2022-07-08T10:20:27.691372",
     "status": "completed"
    },
    "tags": []
   },
   "source": [
    "# Distinguish Your Own Digits (DYOD)"
   ]
  },
  {
   "cell_type": "markdown",
   "id": "ef31240d",
   "metadata": {
    "papermill": {
     "duration": 0.024577,
     "end_time": "2022-07-08T10:20:27.770899",
     "exception": false,
     "start_time": "2022-07-08T10:20:27.746322",
     "status": "completed"
    },
    "tags": []
   },
   "source": [
    "You are going to write a classifier that distinguishes between the number 3 and number 8."
   ]
  },
  {
   "cell_type": "code",
   "execution_count": 1,
   "id": "b15c8646",
   "metadata": {
    "execution": {
     "iopub.execute_input": "2022-07-08T10:20:27.829612Z",
     "iopub.status.busy": "2022-07-08T10:20:27.829049Z",
     "iopub.status.idle": "2022-07-08T10:20:27.840558Z",
     "shell.execute_reply": "2022-07-08T10:20:27.840095Z"
    },
    "papermill": {
     "duration": 0.045217,
     "end_time": "2022-07-08T10:20:27.840669",
     "exception": false,
     "start_time": "2022-07-08T10:20:27.795452",
     "status": "completed"
    },
    "tags": []
   },
   "outputs": [],
   "source": [
    "%load_ext autoreload\n",
    "%autoreload 2"
   ]
  },
  {
   "cell_type": "code",
   "execution_count": 2,
   "id": "22ef38dc",
   "metadata": {
    "execution": {
     "iopub.execute_input": "2022-07-08T10:20:27.892641Z",
     "iopub.status.busy": "2022-07-08T10:20:27.892077Z",
     "iopub.status.idle": "2022-07-08T10:20:28.401688Z",
     "shell.execute_reply": "2022-07-08T10:20:28.402142Z"
    },
    "papermill": {
     "duration": 0.537017,
     "end_time": "2022-07-08T10:20:28.402283",
     "exception": false,
     "start_time": "2022-07-08T10:20:27.865266",
     "status": "completed"
    },
    "tags": []
   },
   "outputs": [],
   "source": [
    "%matplotlib inline\n",
    "import numpy as np\n",
    "import matplotlib.pyplot as plt\n",
    "import pandas as pd"
   ]
  },
  {
   "cell_type": "markdown",
   "id": "ba036198",
   "metadata": {
    "papermill": {
     "duration": 0.024575,
     "end_time": "2022-07-08T10:20:28.451416",
     "exception": false,
     "start_time": "2022-07-08T10:20:28.426841",
     "status": "completed"
    },
    "tags": []
   },
   "source": [
    "From the command line run `pip install mnist`. This is a library that will help you bring down the mnist dataset. If you run this from a notebook, you need to put  `!pip install mnist` in a cell by itself."
   ]
  },
  {
   "cell_type": "code",
   "execution_count": 3,
   "id": "bb6ad8a1",
   "metadata": {
    "execution": {
     "iopub.execute_input": "2022-07-08T10:20:28.504354Z",
     "iopub.status.busy": "2022-07-08T10:20:28.503791Z",
     "iopub.status.idle": "2022-07-08T10:20:30.201405Z",
     "shell.execute_reply": "2022-07-08T10:20:30.200318Z"
    },
    "papermill": {
     "duration": 1.725267,
     "end_time": "2022-07-08T10:20:30.201532",
     "exception": false,
     "start_time": "2022-07-08T10:20:28.476265",
     "status": "completed"
    },
    "tags": []
   },
   "outputs": [
    {
     "name": "stdout",
     "output_type": "stream",
     "text": [
      "Collecting mnist\r\n"
     ]
    },
    {
     "name": "stdout",
     "output_type": "stream",
     "text": [
      "  Downloading mnist-0.2.2-py2.py3-none-any.whl (3.5 kB)\r\n",
      "Requirement already satisfied: numpy in /opt/hostedtoolcache/Python/3.6.15/x64/lib/python3.6/site-packages (from mnist) (1.19.5)\r\n"
     ]
    },
    {
     "name": "stdout",
     "output_type": "stream",
     "text": [
      "Installing collected packages: mnist\r\n"
     ]
    },
    {
     "name": "stdout",
     "output_type": "stream",
     "text": [
      "Successfully installed mnist-0.2.2\r\n"
     ]
    }
   ],
   "source": [
    "!pip install mnist"
   ]
  },
  {
   "cell_type": "markdown",
   "id": "69df9c9a",
   "metadata": {
    "papermill": {
     "duration": 0.025885,
     "end_time": "2022-07-08T10:20:30.253583",
     "exception": false,
     "start_time": "2022-07-08T10:20:30.227698",
     "status": "completed"
    },
    "tags": []
   },
   "source": [
    "## Preparing the Data"
   ]
  },
  {
   "cell_type": "code",
   "execution_count": 4,
   "id": "7f69d806",
   "metadata": {
    "execution": {
     "iopub.execute_input": "2022-07-08T10:20:30.308344Z",
     "iopub.status.busy": "2022-07-08T10:20:30.307782Z",
     "iopub.status.idle": "2022-07-08T10:20:30.321216Z",
     "shell.execute_reply": "2022-07-08T10:20:30.321621Z"
    },
    "papermill": {
     "duration": 0.042886,
     "end_time": "2022-07-08T10:20:30.321738",
     "exception": false,
     "start_time": "2022-07-08T10:20:30.278852",
     "status": "completed"
    },
    "tags": []
   },
   "outputs": [],
   "source": [
    "import mnist"
   ]
  },
  {
   "cell_type": "code",
   "execution_count": 5,
   "id": "a411e44f",
   "metadata": {
    "execution": {
     "iopub.execute_input": "2022-07-08T10:20:30.376415Z",
     "iopub.status.busy": "2022-07-08T10:20:30.375784Z",
     "iopub.status.idle": "2022-07-08T10:20:30.983108Z",
     "shell.execute_reply": "2022-07-08T10:20:30.982596Z"
    },
    "papermill": {
     "duration": 0.635896,
     "end_time": "2022-07-08T10:20:30.983220",
     "exception": false,
     "start_time": "2022-07-08T10:20:30.347324",
     "status": "completed"
    },
    "tags": []
   },
   "outputs": [],
   "source": [
    "train_images = mnist.train_images()\n",
    "train_labels = mnist.train_labels()"
   ]
  },
  {
   "cell_type": "code",
   "execution_count": 6,
   "id": "dceab3a5",
   "metadata": {
    "execution": {
     "iopub.execute_input": "2022-07-08T10:20:31.041490Z",
     "iopub.status.busy": "2022-07-08T10:20:31.039208Z",
     "iopub.status.idle": "2022-07-08T10:20:31.053594Z",
     "shell.execute_reply": "2022-07-08T10:20:31.053133Z"
    },
    "papermill": {
     "duration": 0.044624,
     "end_time": "2022-07-08T10:20:31.053693",
     "exception": false,
     "start_time": "2022-07-08T10:20:31.009069",
     "status": "completed"
    },
    "tags": []
   },
   "outputs": [
    {
     "data": {
      "text/plain": [
       "((60000, 28, 28), (60000,))"
      ]
     },
     "execution_count": 6,
     "metadata": {},
     "output_type": "execute_result"
    }
   ],
   "source": [
    "train_images.shape, train_labels.shape"
   ]
  },
  {
   "cell_type": "code",
   "execution_count": 7,
   "id": "f50dc2bb",
   "metadata": {
    "execution": {
     "iopub.execute_input": "2022-07-08T10:20:31.108526Z",
     "iopub.status.busy": "2022-07-08T10:20:31.107959Z",
     "iopub.status.idle": "2022-07-08T10:20:31.296317Z",
     "shell.execute_reply": "2022-07-08T10:20:31.295706Z"
    },
    "papermill": {
     "duration": 0.216997,
     "end_time": "2022-07-08T10:20:31.296426",
     "exception": false,
     "start_time": "2022-07-08T10:20:31.079429",
     "status": "completed"
    },
    "tags": []
   },
   "outputs": [],
   "source": [
    "test_images = mnist.test_images()\n",
    "test_labels = mnist.test_labels()"
   ]
  },
  {
   "cell_type": "code",
   "execution_count": 8,
   "id": "fc38cf1b",
   "metadata": {
    "execution": {
     "iopub.execute_input": "2022-07-08T10:20:31.352248Z",
     "iopub.status.busy": "2022-07-08T10:20:31.351660Z",
     "iopub.status.idle": "2022-07-08T10:20:31.364669Z",
     "shell.execute_reply": "2022-07-08T10:20:31.364220Z"
    },
    "papermill": {
     "duration": 0.042298,
     "end_time": "2022-07-08T10:20:31.364768",
     "exception": false,
     "start_time": "2022-07-08T10:20:31.322470",
     "status": "completed"
    },
    "tags": []
   },
   "outputs": [
    {
     "data": {
      "text/plain": [
       "((10000, 28, 28), (10000,))"
      ]
     },
     "execution_count": 8,
     "metadata": {},
     "output_type": "execute_result"
    }
   ],
   "source": [
    "test_images.shape, test_labels.shape"
   ]
  },
  {
   "cell_type": "code",
   "execution_count": 9,
   "id": "f9ed8fe0",
   "metadata": {
    "execution": {
     "iopub.execute_input": "2022-07-08T10:20:31.420062Z",
     "iopub.status.busy": "2022-07-08T10:20:31.419477Z",
     "iopub.status.idle": "2022-07-08T10:20:31.554078Z",
     "shell.execute_reply": "2022-07-08T10:20:31.554521Z"
    },
    "papermill": {
     "duration": 0.163867,
     "end_time": "2022-07-08T10:20:31.554644",
     "exception": false,
     "start_time": "2022-07-08T10:20:31.390777",
     "status": "completed"
    },
    "tags": []
   },
   "outputs": [
    {
     "name": "stdout",
     "output_type": "stream",
     "text": [
      "2\n"
     ]
    },
    {
     "data": {
      "text/plain": [
       "<matplotlib.image.AxesImage at 0x7fe2ee9a8080>"
      ]
     },
     "execution_count": 9,
     "metadata": {},
     "output_type": "execute_result"
    },
    {
     "data": {
      "image/png": "[encoded data removed]",
      "text/plain": [
       "<Figure size 432x288 with 1 Axes>"
      ]
     },
     "metadata": {
      "needs_background": "light"
     },
     "output_type": "display_data"
    }
   ],
   "source": [
    "image_index = 7776 # You may select anything up to 60,000\n",
    "print(train_labels[image_index]) \n",
    "plt.imshow(train_images[image_index], cmap='Greys')"
   ]
  },
  {
   "cell_type": "markdown",
   "id": "a8d2388d",
   "metadata": {
    "papermill": {
     "duration": 0.027305,
     "end_time": "2022-07-08T10:20:31.609295",
     "exception": false,
     "start_time": "2022-07-08T10:20:31.581990",
     "status": "completed"
    },
    "tags": []
   },
   "source": [
    "## Filter data to get 3 and 8 out"
   ]
  },
  {
   "cell_type": "code",
   "execution_count": 10,
   "id": "776f7fc7",
   "metadata": {
    "execution": {
     "iopub.execute_input": "2022-07-08T10:20:31.667996Z",
     "iopub.status.busy": "2022-07-08T10:20:31.667325Z",
     "iopub.status.idle": "2022-07-08T10:20:31.685000Z",
     "shell.execute_reply": "2022-07-08T10:20:31.684443Z"
    },
    "papermill": {
     "duration": 0.048621,
     "end_time": "2022-07-08T10:20:31.685100",
     "exception": false,
     "start_time": "2022-07-08T10:20:31.636479",
     "status": "completed"
    },
    "tags": []
   },
   "outputs": [],
   "source": [
    "train_filter = np.where((train_labels == 3 ) | (train_labels == 8))\n",
    "test_filter = np.where((test_labels == 3) | (test_labels == 8))\n",
    "X_train, y_train = train_images[train_filter], train_labels[train_filter]\n",
    "X_test, y_test = test_images[test_filter], test_labels[test_filter]"
   ]
  },
  {
   "cell_type": "markdown",
   "id": "948f0b7e",
   "metadata": {
    "papermill": {
     "duration": 0.027406,
     "end_time": "2022-07-08T10:20:31.740425",
     "exception": false,
     "start_time": "2022-07-08T10:20:31.713019",
     "status": "completed"
    },
    "tags": []
   },
   "source": [
    "We normalize the pizel values in the 0 to 1 range"
   ]
  },
  {
   "cell_type": "code",
   "execution_count": 11,
   "id": "ee4c2166",
   "metadata": {
    "execution": {
     "iopub.execute_input": "2022-07-08T10:20:31.798908Z",
     "iopub.status.busy": "2022-07-08T10:20:31.798337Z",
     "iopub.status.idle": "2022-07-08T10:20:31.838969Z",
     "shell.execute_reply": "2022-07-08T10:20:31.838454Z"
    },
    "papermill": {
     "duration": 0.070734,
     "end_time": "2022-07-08T10:20:31.839082",
     "exception": false,
     "start_time": "2022-07-08T10:20:31.768348",
     "status": "completed"
    },
    "tags": []
   },
   "outputs": [],
   "source": [
    "X_train = X_train/255.\n",
    "X_test = X_test/255."
   ]
  },
  {
   "cell_type": "markdown",
   "id": "ddcf4fab",
   "metadata": {
    "papermill": {
     "duration": 0.027657,
     "end_time": "2022-07-08T10:20:31.894365",
     "exception": false,
     "start_time": "2022-07-08T10:20:31.866708",
     "status": "completed"
    },
    "tags": []
   },
   "source": [
    "And setup the labels as 1 (when the digit is 3) and 0 (when the digit is 8)"
   ]
  },
  {
   "cell_type": "code",
   "execution_count": 12,
   "id": "7dc908f2",
   "metadata": {
    "execution": {
     "iopub.execute_input": "2022-07-08T10:20:31.952415Z",
     "iopub.status.busy": "2022-07-08T10:20:31.951832Z",
     "iopub.status.idle": "2022-07-08T10:20:31.964414Z",
     "shell.execute_reply": "2022-07-08T10:20:31.963961Z"
    },
    "papermill": {
     "duration": 0.043,
     "end_time": "2022-07-08T10:20:31.964513",
     "exception": false,
     "start_time": "2022-07-08T10:20:31.921513",
     "status": "completed"
    },
    "tags": []
   },
   "outputs": [],
   "source": [
    "y_train = 1*(y_train==3)\n",
    "y_test = 1*(y_test==3)"
   ]
  },
  {
   "cell_type": "code",
   "execution_count": 13,
   "id": "01e4e969",
   "metadata": {
    "execution": {
     "iopub.execute_input": "2022-07-08T10:20:32.022454Z",
     "iopub.status.busy": "2022-07-08T10:20:32.021894Z",
     "iopub.status.idle": "2022-07-08T10:20:32.034276Z",
     "shell.execute_reply": "2022-07-08T10:20:32.033822Z"
    },
    "papermill": {
     "duration": 0.04239,
     "end_time": "2022-07-08T10:20:32.034372",
     "exception": false,
     "start_time": "2022-07-08T10:20:31.991982",
     "status": "completed"
    },
    "tags": []
   },
   "outputs": [
    {
     "data": {
      "text/plain": [
       "((11982, 28, 28), (1984, 28, 28))"
      ]
     },
     "execution_count": 13,
     "metadata": {},
     "output_type": "execute_result"
    }
   ],
   "source": [
    "X_train.shape, X_test.shape"
   ]
  },
  {
   "cell_type": "markdown",
   "id": "5ccf3f85",
   "metadata": {
    "papermill": {
     "duration": 0.02792,
     "end_time": "2022-07-08T10:20:32.094373",
     "exception": false,
     "start_time": "2022-07-08T10:20:32.066453",
     "status": "completed"
    },
    "tags": []
   },
   "source": [
    "We reshape the data to flatten the image pixels into a set of features or co-variates:"
   ]
  },
  {
   "cell_type": "code",
   "execution_count": 14,
   "id": "5286a4a3",
   "metadata": {
    "execution": {
     "iopub.execute_input": "2022-07-08T10:20:32.153203Z",
     "iopub.status.busy": "2022-07-08T10:20:32.152655Z",
     "iopub.status.idle": "2022-07-08T10:20:32.166012Z",
     "shell.execute_reply": "2022-07-08T10:20:32.165558Z"
    },
    "papermill": {
     "duration": 0.044215,
     "end_time": "2022-07-08T10:20:32.166110",
     "exception": false,
     "start_time": "2022-07-08T10:20:32.121895",
     "status": "completed"
    },
    "tags": []
   },
   "outputs": [
    {
     "data": {
      "text/plain": [
       "((11982, 784), (1984, 784))"
      ]
     },
     "execution_count": 14,
     "metadata": {},
     "output_type": "execute_result"
    }
   ],
   "source": [
    "X_train = X_train.reshape(X_train.shape[0], -1)\n",
    "X_test = X_test.reshape(X_test.shape[0], -1)\n",
    "X_train.shape, X_test.shape"
   ]
  },
  {
   "cell_type": "code",
   "execution_count": 15,
   "id": "73c5f88a",
   "metadata": {
    "execution": {
     "iopub.execute_input": "2022-07-08T10:20:32.225173Z",
     "iopub.status.busy": "2022-07-08T10:20:32.224623Z",
     "iopub.status.idle": "2022-07-08T10:20:32.242167Z",
     "shell.execute_reply": "2022-07-08T10:20:32.241710Z"
    },
    "papermill": {
     "duration": 0.048496,
     "end_time": "2022-07-08T10:20:32.242264",
     "exception": false,
     "start_time": "2022-07-08T10:20:32.193768",
     "status": "completed"
    },
    "tags": []
   },
   "outputs": [],
   "source": [
    "#Impoting functions from 'Kudzu'\n",
    "from kudzu.model import Model\n",
    "from kudzu.train import Learner\n",
    "from kudzu.optim import GD\n",
    "from kudzu.data import Data, Sampler,Dataloader\n",
    "\n",
    "from kudzu.callbacks import AccCallback\n",
    "from kudzu.callbacks import ClfCallback\n",
    "\n",
    "from kudzu.loss import MSE\n",
    "\n",
    "from kudzu.layer import Sigmoid,Relu\n",
    "from kudzu.layer import Affine"
   ]
  },
  {
   "cell_type": "markdown",
   "id": "bc01172a",
   "metadata": {
    "papermill": {
     "duration": 0.027576,
     "end_time": "2022-07-08T10:20:32.297714",
     "exception": false,
     "start_time": "2022-07-08T10:20:32.270138",
     "status": "completed"
    },
    "tags": []
   },
   "source": [
    "### Let us create a `Config` class, to store important parameters. \n",
    "This class essentially plays the role of a dictionary."
   ]
  },
  {
   "cell_type": "code",
   "execution_count": 16,
   "id": "978281aa",
   "metadata": {
    "execution": {
     "iopub.execute_input": "2022-07-08T10:20:32.356787Z",
     "iopub.status.busy": "2022-07-08T10:20:32.356214Z",
     "iopub.status.idle": "2022-07-08T10:20:32.368018Z",
     "shell.execute_reply": "2022-07-08T10:20:32.368550Z"
    },
    "papermill": {
     "duration": 0.04323,
     "end_time": "2022-07-08T10:20:32.368663",
     "exception": false,
     "start_time": "2022-07-08T10:20:32.325433",
     "status": "completed"
    },
    "tags": []
   },
   "outputs": [],
   "source": [
    "class Config:\n",
    "    pass\n",
    "config = Config()\n",
    "config.lr = 0.001\n",
    "config.num_epochs = 250\n",
    "config.bs = 50"
   ]
  },
  {
   "cell_type": "markdown",
   "id": "1385fa59",
   "metadata": {
    "papermill": {
     "duration": 0.027588,
     "end_time": "2022-07-08T10:20:32.424085",
     "exception": false,
     "start_time": "2022-07-08T10:20:32.396497",
     "status": "completed"
    },
    "tags": []
   },
   "source": [
    "### Running Models with the Training data\n",
    "Details about the network layers:\n",
    "- A first affine layer has 784 inputs and does 100 affine transforms. These are followed by a Relu\n",
    "- A second affine layer has 100 inputs from the 100 activations of the past layer, and does 100 affine transforms. These are followed by a Relu\n",
    "- A third affine layer has 100 activations and does 2 affine transformations to create an embedding for visualization. There is no non-linearity here.\n",
    "- A final \"logistic regression\" which has an affine transform from 2 inputs to 1 output, which is squeezed through a sigmoid.\n"
   ]
  },
  {
   "cell_type": "code",
   "execution_count": 17,
   "id": "2b9c66db",
   "metadata": {
    "execution": {
     "iopub.execute_input": "2022-07-08T10:20:32.484077Z",
     "iopub.status.busy": "2022-07-08T10:20:32.483471Z",
     "iopub.status.idle": "2022-07-08T10:20:32.496612Z",
     "shell.execute_reply": "2022-07-08T10:20:32.496160Z"
    },
    "papermill": {
     "duration": 0.044829,
     "end_time": "2022-07-08T10:20:32.496710",
     "exception": false,
     "start_time": "2022-07-08T10:20:32.451881",
     "status": "completed"
    },
    "tags": []
   },
   "outputs": [],
   "source": [
    "data = Data(X_train, y_train.reshape(-1,1))\n",
    "sampler = Sampler(data, config.bs, shuffle=True)\n",
    "\n",
    "dl = Dataloader(data, sampler)\n",
    "\n",
    "opt = GD(config.lr)\n",
    "loss = MSE()"
   ]
  },
  {
   "cell_type": "code",
   "execution_count": 18,
   "id": "b275e4c2",
   "metadata": {
    "execution": {
     "iopub.execute_input": "2022-07-08T10:20:32.555207Z",
     "iopub.status.busy": "2022-07-08T10:20:32.554653Z",
     "iopub.status.idle": "2022-07-08T10:20:32.567017Z",
     "shell.execute_reply": "2022-07-08T10:20:32.566565Z"
    },
    "papermill": {
     "duration": 0.04271,
     "end_time": "2022-07-08T10:20:32.567113",
     "exception": false,
     "start_time": "2022-07-08T10:20:32.524403",
     "status": "completed"
    },
    "tags": []
   },
   "outputs": [],
   "source": [
    "training_data_x = X_train\n",
    "testing_data_x = X_test\n",
    "training_data_y = y_train.reshape(-1,1)\n",
    "testing_data_y = y_test.reshape(-1,1)"
   ]
  },
  {
   "cell_type": "code",
   "execution_count": 19,
   "id": "76951160",
   "metadata": {
    "execution": {
     "iopub.execute_input": "2022-07-08T10:20:32.625949Z",
     "iopub.status.busy": "2022-07-08T10:20:32.625387Z",
     "iopub.status.idle": "2022-07-08T10:20:32.641390Z",
     "shell.execute_reply": "2022-07-08T10:20:32.640748Z"
    },
    "papermill": {
     "duration": 0.046688,
     "end_time": "2022-07-08T10:20:32.641490",
     "exception": false,
     "start_time": "2022-07-08T10:20:32.594802",
     "status": "completed"
    },
    "tags": []
   },
   "outputs": [
    {
     "name": "stdout",
     "output_type": "stream",
     "text": [
      "xavier\n",
      "xavier\n",
      "xavier\n",
      "xavier\n",
      "xavier\n"
     ]
    }
   ],
   "source": [
    "layers = [Affine(\"first\", 784, 100), Relu(\"first\"), Affine(\"second\", 100, 100), Relu(\"second\"), Affine(\"third\", 100, 2), Affine(\"last\", 2, 1), Sigmoid(\"last\")]\n",
    "model_nn = Model(layers)\n",
    "model_lr = Model([Affine(\"logits\", 784, 1), Sigmoid(\"sigmoid\")])"
   ]
  },
  {
   "cell_type": "code",
   "execution_count": 20,
   "id": "6eede77a",
   "metadata": {
    "execution": {
     "iopub.execute_input": "2022-07-08T10:20:32.703941Z",
     "iopub.status.busy": "2022-07-08T10:20:32.703353Z",
     "iopub.status.idle": "2022-07-08T10:20:32.714292Z",
     "shell.execute_reply": "2022-07-08T10:20:32.714717Z"
    },
    "papermill": {
     "duration": 0.045453,
     "end_time": "2022-07-08T10:20:32.714825",
     "exception": false,
     "start_time": "2022-07-08T10:20:32.669372",
     "status": "completed"
    },
    "tags": []
   },
   "outputs": [],
   "source": [
    "nn_learner = Learner(loss, model_nn, opt, config.num_epochs)\n",
    "acc_nn = ClfCallback(nn_learner, config.bs, training_data_x , testing_data_x, training_data_y, testing_data_y)\n",
    "nn_learner.set_callbacks([acc_nn])"
   ]
  },
  {
   "cell_type": "code",
   "execution_count": 21,
   "id": "877b6cc7",
   "metadata": {
    "execution": {
     "iopub.execute_input": "2022-07-08T10:20:32.773989Z",
     "iopub.status.busy": "2022-07-08T10:20:32.773438Z",
     "iopub.status.idle": "2022-07-08T10:20:32.786106Z",
     "shell.execute_reply": "2022-07-08T10:20:32.785557Z"
    },
    "papermill": {
     "duration": 0.043196,
     "end_time": "2022-07-08T10:20:32.786204",
     "exception": false,
     "start_time": "2022-07-08T10:20:32.743008",
     "status": "completed"
    },
    "tags": []
   },
   "outputs": [],
   "source": [
    "lr_learner = Learner(loss, model_lr, opt, config.num_epochs)\n",
    "acc_lr = ClfCallback(lr_learner, config.bs, training_data_x , testing_data_x, training_data_y, testing_data_y)\n",
    "lr_learner.set_callbacks([acc_lr])"
   ]
  },
  {
   "cell_type": "code",
   "execution_count": 22,
   "id": "d9b133c3",
   "metadata": {
    "execution": {
     "iopub.execute_input": "2022-07-08T10:20:32.845280Z",
     "iopub.status.busy": "2022-07-08T10:20:32.844723Z",
     "iopub.status.idle": "2022-07-08T10:23:32.105993Z",
     "shell.execute_reply": "2022-07-08T10:23:32.106441Z"
    },
    "papermill": {
     "duration": 179.292177,
     "end_time": "2022-07-08T10:23:32.106570",
     "exception": false,
     "start_time": "2022-07-08T10:20:32.814393",
     "status": "completed"
    },
    "tags": []
   },
   "outputs": [
    {
     "name": "stdout",
     "output_type": "stream",
     "text": [
      "Epoch 0, Loss 0.2328\n",
      "Training Accuracy: 0.6626, Testing Accuracy: 0.6865\n",
      "\n"
     ]
    },
    {
     "name": "stdout",
     "output_type": "stream",
     "text": [
      "Epoch 10, Loss 0.0903\n",
      "Training Accuracy: 0.9247, Testing Accuracy: 0.9345\n",
      "\n"
     ]
    },
    {
     "name": "stdout",
     "output_type": "stream",
     "text": [
      "Epoch 20, Loss 0.055\n",
      "Training Accuracy: 0.9453, Testing Accuracy: 0.9567\n",
      "\n"
     ]
    },
    {
     "name": "stdout",
     "output_type": "stream",
     "text": [
      "Epoch 30, Loss 0.0433\n",
      "Training Accuracy: 0.9542, Testing Accuracy: 0.9647\n",
      "\n"
     ]
    },
    {
     "name": "stdout",
     "output_type": "stream",
     "text": [
      "Epoch 40, Loss 0.0376\n",
      "Training Accuracy: 0.9591, Testing Accuracy: 0.9657\n",
      "\n"
     ]
    },
    {
     "name": "stdout",
     "output_type": "stream",
     "text": [
      "Epoch 50, Loss 0.0341\n",
      "Training Accuracy: 0.9624, Testing Accuracy: 0.9682\n",
      "\n"
     ]
    },
    {
     "name": "stdout",
     "output_type": "stream",
     "text": [
      "Epoch 60, Loss 0.0317\n",
      "Training Accuracy: 0.9639, Testing Accuracy: 0.9693\n",
      "\n"
     ]
    },
    {
     "name": "stdout",
     "output_type": "stream",
     "text": [
      "Epoch 70, Loss 0.0298\n",
      "Training Accuracy: 0.9664, Testing Accuracy: 0.9698\n",
      "\n"
     ]
    },
    {
     "name": "stdout",
     "output_type": "stream",
     "text": [
      "Epoch 80, Loss 0.0283\n",
      "Training Accuracy: 0.9675, Testing Accuracy: 0.9703\n",
      "\n"
     ]
    },
    {
     "name": "stdout",
     "output_type": "stream",
     "text": [
      "Epoch 90, Loss 0.0271\n",
      "Training Accuracy: 0.9690, Testing Accuracy: 0.9713\n",
      "\n"
     ]
    },
    {
     "name": "stdout",
     "output_type": "stream",
     "text": [
      "Epoch 100, Loss 0.026\n",
      "Training Accuracy: 0.9709, Testing Accuracy: 0.9728\n",
      "\n"
     ]
    },
    {
     "name": "stdout",
     "output_type": "stream",
     "text": [
      "Epoch 110, Loss 0.025\n",
      "Training Accuracy: 0.9720, Testing Accuracy: 0.9733\n",
      "\n"
     ]
    },
    {
     "name": "stdout",
     "output_type": "stream",
     "text": [
      "Epoch 120, Loss 0.0242\n",
      "Training Accuracy: 0.9728, Testing Accuracy: 0.9753\n",
      "\n"
     ]
    },
    {
     "name": "stdout",
     "output_type": "stream",
     "text": [
      "Epoch 130, Loss 0.0234\n",
      "Training Accuracy: 0.9734, Testing Accuracy: 0.9758\n",
      "\n"
     ]
    },
    {
     "name": "stdout",
     "output_type": "stream",
     "text": [
      "Epoch 140, Loss 0.0227\n",
      "Training Accuracy: 0.9743, Testing Accuracy: 0.9768\n",
      "\n"
     ]
    },
    {
     "name": "stdout",
     "output_type": "stream",
     "text": [
      "Epoch 150, Loss 0.022\n",
      "Training Accuracy: 0.9754, Testing Accuracy: 0.9768\n",
      "\n"
     ]
    },
    {
     "name": "stdout",
     "output_type": "stream",
     "text": [
      "Epoch 160, Loss 0.0214\n",
      "Training Accuracy: 0.9759, Testing Accuracy: 0.9768\n",
      "\n"
     ]
    },
    {
     "name": "stdout",
     "output_type": "stream",
     "text": [
      "Epoch 170, Loss 0.0208\n",
      "Training Accuracy: 0.9765, Testing Accuracy: 0.9768\n",
      "\n"
     ]
    },
    {
     "name": "stdout",
     "output_type": "stream",
     "text": [
      "Epoch 180, Loss 0.0202\n",
      "Training Accuracy: 0.9771, Testing Accuracy: 0.9768\n",
      "\n"
     ]
    },
    {
     "name": "stdout",
     "output_type": "stream",
     "text": [
      "Epoch 190, Loss 0.0197\n",
      "Training Accuracy: 0.9778, Testing Accuracy: 0.9758\n",
      "\n"
     ]
    },
    {
     "name": "stdout",
     "output_type": "stream",
     "text": [
      "Epoch 200, Loss 0.0192\n",
      "Training Accuracy: 0.9781, Testing Accuracy: 0.9773\n",
      "\n"
     ]
    },
    {
     "name": "stdout",
     "output_type": "stream",
     "text": [
      "Epoch 210, Loss 0.0187\n",
      "Training Accuracy: 0.9784, Testing Accuracy: 0.9773\n",
      "\n"
     ]
    },
    {
     "name": "stdout",
     "output_type": "stream",
     "text": [
      "Epoch 220, Loss 0.0183\n",
      "Training Accuracy: 0.9790, Testing Accuracy: 0.9773\n",
      "\n"
     ]
    },
    {
     "name": "stdout",
     "output_type": "stream",
     "text": [
      "Epoch 230, Loss 0.0178\n",
      "Training Accuracy: 0.9801, Testing Accuracy: 0.9778\n",
      "\n"
     ]
    },
    {
     "name": "stdout",
     "output_type": "stream",
     "text": [
      "Epoch 240, Loss 0.0174\n",
      "Training Accuracy: 0.9806, Testing Accuracy: 0.9788\n",
      "\n"
     ]
    },
    {
     "data": {
      "text/plain": [
       "0.018171360276541544"
      ]
     },
     "execution_count": 22,
     "metadata": {},
     "output_type": "execute_result"
    }
   ],
   "source": [
    "nn_learner.train_loop(dl)"
   ]
  },
  {
   "cell_type": "code",
   "execution_count": 23,
   "id": "e0163366",
   "metadata": {
    "execution": {
     "iopub.execute_input": "2022-07-08T10:23:32.184009Z",
     "iopub.status.busy": "2022-07-08T10:23:32.182590Z",
     "iopub.status.idle": "2022-07-08T10:23:44.565060Z",
     "shell.execute_reply": "2022-07-08T10:23:44.565612Z"
    },
    "papermill": {
     "duration": 12.42312,
     "end_time": "2022-07-08T10:23:44.565741",
     "exception": false,
     "start_time": "2022-07-08T10:23:32.142621",
     "status": "completed"
    },
    "tags": []
   },
   "outputs": [
    {
     "name": "stdout",
     "output_type": "stream",
     "text": [
      "Epoch 0, Loss 0.2264\n",
      "Training Accuracy: 0.7132, Testing Accuracy: 0.7177\n",
      "\n"
     ]
    },
    {
     "name": "stdout",
     "output_type": "stream",
     "text": [
      "Epoch 10, Loss 0.1036\n",
      "Training Accuracy: 0.9079, Testing Accuracy: 0.9168\n",
      "\n"
     ]
    },
    {
     "name": "stdout",
     "output_type": "stream",
     "text": [
      "Epoch 20, Loss 0.0794\n",
      "Training Accuracy: 0.9271, Testing Accuracy: 0.9390\n",
      "\n"
     ]
    },
    {
     "name": "stdout",
     "output_type": "stream",
     "text": [
      "Epoch 30, Loss 0.0683\n",
      "Training Accuracy: 0.9360, Testing Accuracy: 0.9486\n",
      "\n"
     ]
    },
    {
     "name": "stdout",
     "output_type": "stream",
     "text": [
      "Epoch 40, Loss 0.0616\n",
      "Training Accuracy: 0.9418, Testing Accuracy: 0.9521\n",
      "\n"
     ]
    },
    {
     "name": "stdout",
     "output_type": "stream",
     "text": [
      "Epoch 50, Loss 0.0571\n",
      "Training Accuracy: 0.9453, Testing Accuracy: 0.9546\n",
      "\n"
     ]
    },
    {
     "name": "stdout",
     "output_type": "stream",
     "text": [
      "Epoch 60, Loss 0.0538\n",
      "Training Accuracy: 0.9483, Testing Accuracy: 0.9587\n",
      "\n"
     ]
    },
    {
     "name": "stdout",
     "output_type": "stream",
     "text": [
      "Epoch 70, Loss 0.0513\n",
      "Training Accuracy: 0.9498, Testing Accuracy: 0.9592\n",
      "\n"
     ]
    },
    {
     "name": "stdout",
     "output_type": "stream",
     "text": [
      "Epoch 80, Loss 0.0492\n",
      "Training Accuracy: 0.9506, Testing Accuracy: 0.9607\n",
      "\n"
     ]
    },
    {
     "name": "stdout",
     "output_type": "stream",
     "text": [
      "Epoch 90, Loss 0.0476\n",
      "Training Accuracy: 0.9528, Testing Accuracy: 0.9602\n",
      "\n"
     ]
    },
    {
     "name": "stdout",
     "output_type": "stream",
     "text": [
      "Epoch 100, Loss 0.0461\n",
      "Training Accuracy: 0.9535, Testing Accuracy: 0.9607\n",
      "\n"
     ]
    },
    {
     "name": "stdout",
     "output_type": "stream",
     "text": [
      "Epoch 110, Loss 0.0449\n",
      "Training Accuracy: 0.9542, Testing Accuracy: 0.9612\n",
      "\n"
     ]
    },
    {
     "name": "stdout",
     "output_type": "stream",
     "text": [
      "Epoch 120, Loss 0.0439\n",
      "Training Accuracy: 0.9551, Testing Accuracy: 0.9612\n",
      "\n"
     ]
    },
    {
     "name": "stdout",
     "output_type": "stream",
     "text": [
      "Epoch 130, Loss 0.0429\n",
      "Training Accuracy: 0.9559, Testing Accuracy: 0.9632\n",
      "\n"
     ]
    },
    {
     "name": "stdout",
     "output_type": "stream",
     "text": [
      "Epoch 140, Loss 0.0421\n",
      "Training Accuracy: 0.9561, Testing Accuracy: 0.9637\n",
      "\n"
     ]
    },
    {
     "name": "stdout",
     "output_type": "stream",
     "text": [
      "Epoch 150, Loss 0.0414\n",
      "Training Accuracy: 0.9572, Testing Accuracy: 0.9642\n",
      "\n"
     ]
    },
    {
     "name": "stdout",
     "output_type": "stream",
     "text": [
      "Epoch 160, Loss 0.0407\n",
      "Training Accuracy: 0.9578, Testing Accuracy: 0.9647\n",
      "\n"
     ]
    },
    {
     "name": "stdout",
     "output_type": "stream",
     "text": [
      "Epoch 170, Loss 0.0401\n",
      "Training Accuracy: 0.9580, Testing Accuracy: 0.9647\n",
      "\n"
     ]
    },
    {
     "name": "stdout",
     "output_type": "stream",
     "text": [
      "Epoch 180, Loss 0.0395\n",
      "Training Accuracy: 0.9584, Testing Accuracy: 0.9652\n",
      "\n"
     ]
    },
    {
     "name": "stdout",
     "output_type": "stream",
     "text": [
      "Epoch 190, Loss 0.039\n",
      "Training Accuracy: 0.9592, Testing Accuracy: 0.9657\n",
      "\n"
     ]
    },
    {
     "name": "stdout",
     "output_type": "stream",
     "text": [
      "Epoch 200, Loss 0.0386\n",
      "Training Accuracy: 0.9598, Testing Accuracy: 0.9662\n",
      "\n"
     ]
    },
    {
     "name": "stdout",
     "output_type": "stream",
     "text": [
      "Epoch 210, Loss 0.0381\n",
      "Training Accuracy: 0.9599, Testing Accuracy: 0.9677\n",
      "\n"
     ]
    },
    {
     "name": "stdout",
     "output_type": "stream",
     "text": [
      "Epoch 220, Loss 0.0377\n",
      "Training Accuracy: 0.9603, Testing Accuracy: 0.9682\n",
      "\n"
     ]
    },
    {
     "name": "stdout",
     "output_type": "stream",
     "text": [
      "Epoch 230, Loss 0.0373\n",
      "Training Accuracy: 0.9606, Testing Accuracy: 0.9682\n",
      "\n"
     ]
    },
    {
     "name": "stdout",
     "output_type": "stream",
     "text": [
      "Epoch 240, Loss 0.037\n",
      "Training Accuracy: 0.9608, Testing Accuracy: 0.9688\n",
      "\n"
     ]
    },
    {
     "data": {
      "text/plain": [
       "0.021130723171256117"
      ]
     },
     "execution_count": 23,
     "metadata": {},
     "output_type": "execute_result"
    }
   ],
   "source": [
    "lr_learner.train_loop(dl)"
   ]
  },
  {
   "cell_type": "code",
   "execution_count": 24,
   "id": "ca410940",
   "metadata": {
    "execution": {
     "iopub.execute_input": "2022-07-08T10:23:44.656417Z",
     "iopub.status.busy": "2022-07-08T10:23:44.655829Z",
     "iopub.status.idle": "2022-07-08T10:23:44.890483Z",
     "shell.execute_reply": "2022-07-08T10:23:44.890014Z"
    },
    "papermill": {
     "duration": 0.28197,
     "end_time": "2022-07-08T10:23:44.890597",
     "exception": false,
     "start_time": "2022-07-08T10:23:44.608627",
     "status": "completed"
    },
    "tags": []
   },
   "outputs": [
    {
     "data": {
      "text/plain": [
       "<matplotlib.legend.Legend at 0x7fe2eb578a90>"
      ]
     },
     "execution_count": 24,
     "metadata": {},
     "output_type": "execute_result"
    },
    {
     "data": {
      "image/png": "[encoded data removed]",
      "text/plain": [
       "<Figure size 1080x720 with 1 Axes>"
      ]
     },
     "metadata": {
      "needs_background": "light"
     },
     "output_type": "display_data"
    }
   ],
   "source": [
    "#comparing the results of NN and LR\n",
    "plt.figure(figsize=(15,10))\n",
    "\n",
    "# Neural Network plots\n",
    "plt.plot(acc_nn.accuracies, 'r-', label = \"Training Accuracies - NN\")\n",
    "plt.plot(acc_nn.test_accuracies, 'g-', label = \"Testing Accuracies - NN\")\n",
    "\n",
    "# Logistic Regression plots\n",
    "plt.plot(acc_lr.accuracies, 'k-', label = \"Training Accuracies - LR\")\n",
    "plt.plot(acc_lr.test_accuracies, 'b-', label = \"Testing Accuracies - LR\")\n",
    "plt.legend()"
   ]
  },
  {
   "cell_type": "markdown",
   "id": "80dfb35c",
   "metadata": {
    "papermill": {
     "duration": 0.043526,
     "end_time": "2022-07-08T10:23:44.977283",
     "exception": false,
     "start_time": "2022-07-08T10:23:44.933757",
     "status": "completed"
    },
    "tags": []
   },
   "source": [
    "#### Plotting the outputs of this layer of the NN.\n"
   ]
  },
  {
   "cell_type": "code",
   "execution_count": 25,
   "id": "45eb2ff5",
   "metadata": {
    "execution": {
     "iopub.execute_input": "2022-07-08T10:23:45.066817Z",
     "iopub.status.busy": "2022-07-08T10:23:45.066244Z",
     "iopub.status.idle": "2022-07-08T10:23:45.103879Z",
     "shell.execute_reply": "2022-07-08T10:23:45.103369Z"
    },
    "papermill": {
     "duration": 0.083832,
     "end_time": "2022-07-08T10:23:45.103984",
     "exception": false,
     "start_time": "2022-07-08T10:23:45.020152",
     "status": "completed"
    },
    "tags": []
   },
   "outputs": [],
   "source": [
    "new_model = Model(layers[:-2])\n",
    "testing_plot = new_model(testing_data_x)"
   ]
  },
  {
   "cell_type": "code",
   "execution_count": 26,
   "id": "4c0a5485",
   "metadata": {
    "execution": {
     "iopub.execute_input": "2022-07-08T10:23:45.198576Z",
     "iopub.status.busy": "2022-07-08T10:23:45.198005Z",
     "iopub.status.idle": "2022-07-08T10:23:45.392424Z",
     "shell.execute_reply": "2022-07-08T10:23:45.392847Z"
    },
    "papermill": {
     "duration": 0.24515,
     "end_time": "2022-07-08T10:23:45.392978",
     "exception": false,
     "start_time": "2022-07-08T10:23:45.147828",
     "status": "completed"
    },
    "tags": []
   },
   "outputs": [
    {
     "data": {
      "text/plain": [
       "Text(0.5, 1.0, 'Outputs')"
      ]
     },
     "execution_count": 26,
     "metadata": {},
     "output_type": "execute_result"
    },
    {
     "data": {
      "image/png": "[encoded data removed]",
      "text/plain": [
       "<Figure size 576x504 with 1 Axes>"
      ]
     },
     "metadata": {
      "needs_background": "light"
     },
     "output_type": "display_data"
    }
   ],
   "source": [
    "# Plotting the scatter plot of points and color coding by class\n",
    "plt.figure(figsize=(8,7))\n",
    "plt.scatter(testing_plot[:,0], testing_plot[:,1], alpha = 0.1, c = y_test.ravel());\n",
    "plt.title('Outputs')"
   ]
  },
  {
   "cell_type": "markdown",
   "id": "a74fcf8f",
   "metadata": {
    "papermill": {
     "duration": 0.04572,
     "end_time": "2022-07-08T10:23:45.505814",
     "exception": false,
     "start_time": "2022-07-08T10:23:45.460094",
     "status": "completed"
    },
    "tags": []
   },
   "source": [
    "Probability contours"
   ]
  },
  {
   "cell_type": "code",
   "execution_count": 27,
   "id": "d0afc8e3",
   "metadata": {
    "execution": {
     "iopub.execute_input": "2022-07-08T10:23:45.603181Z",
     "iopub.status.busy": "2022-07-08T10:23:45.601866Z",
     "iopub.status.idle": "2022-07-08T10:23:45.613074Z",
     "shell.execute_reply": "2022-07-08T10:23:45.612517Z"
    },
    "papermill": {
     "duration": 0.061543,
     "end_time": "2022-07-08T10:23:45.613176",
     "exception": false,
     "start_time": "2022-07-08T10:23:45.551633",
     "status": "completed"
    },
    "tags": []
   },
   "outputs": [],
   "source": [
    "model_prob = Model(layers[-2:]) "
   ]
  },
  {
   "cell_type": "code",
   "execution_count": 28,
   "id": "9b96e238",
   "metadata": {
    "execution": {
     "iopub.execute_input": "2022-07-08T10:23:45.709146Z",
     "iopub.status.busy": "2022-07-08T10:23:45.708584Z",
     "iopub.status.idle": "2022-07-08T10:23:45.721377Z",
     "shell.execute_reply": "2022-07-08T10:23:45.721815Z"
    },
    "papermill": {
     "duration": 0.063206,
     "end_time": "2022-07-08T10:23:45.721943",
     "exception": false,
     "start_time": "2022-07-08T10:23:45.658737",
     "status": "completed"
    },
    "tags": []
   },
   "outputs": [],
   "source": [
    "#creating the x and y ranges according to the above generated plot.\n",
    "x_range = np.linspace(-4, 1, 100) \n",
    "y_range = np.linspace(-6, 6, 100) \n",
    "x_grid, y_grid = np.meshgrid(x_range, y_range) # x_grid and y_grig are of size 100 X 100\n",
    "\n",
    "# converting x_grid and y_grid to continuous arrays\n",
    "x_gridflat = np.ravel(x_grid)\n",
    "y_gridflat = np.ravel(y_grid)\n",
    "\n",
    "# The last layer of the current model takes two columns as input. Hence transpose of np.vstack() is required.\n",
    "X = np.vstack((x_gridflat, y_gridflat)).T\n",
    "\n",
    "prob_contour = model_prob(X).reshape(100,100) "
   ]
  },
  {
   "cell_type": "code",
   "execution_count": 29,
   "id": "da72499a",
   "metadata": {
    "execution": {
     "iopub.execute_input": "2022-07-08T10:23:45.820144Z",
     "iopub.status.busy": "2022-07-08T10:23:45.819476Z",
     "iopub.status.idle": "2022-07-08T10:23:46.062698Z",
     "shell.execute_reply": "2022-07-08T10:23:46.063164Z"
    },
    "papermill": {
     "duration": 0.293246,
     "end_time": "2022-07-08T10:23:46.063298",
     "exception": false,
     "start_time": "2022-07-08T10:23:45.770052",
     "status": "completed"
    },
    "tags": []
   },
   "outputs": [
    {
     "data": {
      "image/png": "[encoded data removed]",
      "text/plain": [
       "<Figure size 720x648 with 1 Axes>"
      ]
     },
     "metadata": {
      "needs_background": "light"
     },
     "output_type": "display_data"
    }
   ],
   "source": [
    "plt.figure(figsize=(10,9))\n",
    "plt.scatter(testing_plot[:,0], testing_plot[:,1], alpha = 0.1, c = y_test.ravel())\n",
    "contours = plt.contour(x_grid,y_grid,prob_contour)\n",
    "plt.title('Probability Contours')\n",
    "plt.clabel(contours, inline = True );"
   ]
  },
  {
   "cell_type": "code",
   "execution_count": null,
   "id": "e81b4ac7",
   "metadata": {
    "papermill": {
     "duration": 0.048573,
     "end_time": "2022-07-08T10:23:46.160789",
     "exception": false,
     "start_time": "2022-07-08T10:23:46.112216",
     "status": "completed"
    },
    "tags": []
   },
   "outputs": [],
   "source": []
  }
 ],
 "metadata": {
  "kernelspec": {
   "display_name": "Python 3",
   "language": "python",
   "name": "python3"
  },
  "language_info": {
   "codemirror_mode": {
    "name": "ipython",
    "version": 3
   },
   "file_extension": ".py",
   "mimetype": "text/x-python",
   "name": "python",
   "nbconvert_exporter": "python",
   "pygments_lexer": "ipython3",
   "version": "3.6.15"
  },
  "papermill": {
   "default_parameters": {},
   "duration": 199.767687,
   "end_time": "2022-07-08T10:23:46.527095",
   "environment_variables": {},
   "exception": null,
   "input_path": "2020-08-11-part2.ipynb",
   "output_path": "2020-08-11-part2.ipynb",
   "parameters": {},
   "start_time": "2022-07-08T10:20:26.759408",
   "version": "2.3.3"
  }
 },
 "nbformat": 4,
 "nbformat_minor": 5
}