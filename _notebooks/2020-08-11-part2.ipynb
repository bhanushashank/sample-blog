{
 "cells": [
  {
   "cell_type": "markdown",
   "id": "98380cd3",
   "metadata": {
    "papermill": {
     "duration": 0.029711,
     "end_time": "2022-08-31T10:10:46.193611",
     "exception": false,
     "start_time": "2022-08-31T10:10:46.163900",
     "status": "completed"
    },
    "tags": []
   },
   "source": [
    "# Distinguish Your Own Digits (DYOD)"
   ]
  },
  {
   "cell_type": "markdown",
   "id": "ef31240d",
   "metadata": {
    "papermill": {
     "duration": 0.02347,
     "end_time": "2022-08-31T10:10:46.241177",
     "exception": false,
     "start_time": "2022-08-31T10:10:46.217707",
     "status": "completed"
    },
    "tags": []
   },
   "source": [
    "You are going to write a classifier that distinguishes between the number 3 and number 8."
   ]
  },
  {
   "cell_type": "code",
   "execution_count": 1,
   "id": "b15c8646",
   "metadata": {
    "execution": {
     "iopub.execute_input": "2022-08-31T10:10:46.299152Z",
     "iopub.status.busy": "2022-08-31T10:10:46.298507Z",
     "iopub.status.idle": "2022-08-31T10:10:46.309411Z",
     "shell.execute_reply": "2022-08-31T10:10:46.308908Z"
    },
    "papermill": {
     "duration": 0.044837,
     "end_time": "2022-08-31T10:10:46.309540",
     "exception": false,
     "start_time": "2022-08-31T10:10:46.264703",
     "status": "completed"
    },
    "tags": []
   },
   "outputs": [],
   "source": [
    "%load_ext autoreload\n",
    "%autoreload 2"
   ]
  },
  {
   "cell_type": "code",
   "execution_count": 2,
   "id": "22ef38dc",
   "metadata": {
    "execution": {
     "iopub.execute_input": "2022-08-31T10:10:46.363927Z",
     "iopub.status.busy": "2022-08-31T10:10:46.363327Z",
     "iopub.status.idle": "2022-08-31T10:10:46.892810Z",
     "shell.execute_reply": "2022-08-31T10:10:46.892241Z"
    },
    "papermill": {
     "duration": 0.559714,
     "end_time": "2022-08-31T10:10:46.892949",
     "exception": false,
     "start_time": "2022-08-31T10:10:46.333235",
     "status": "completed"
    },
    "tags": []
   },
   "outputs": [],
   "source": [
    "%matplotlib inline\n",
    "import numpy as np\n",
    "import matplotlib.pyplot as plt\n",
    "import pandas as pd"
   ]
  },
  {
   "cell_type": "markdown",
   "id": "ba036198",
   "metadata": {
    "papermill": {
     "duration": 0.023433,
     "end_time": "2022-08-31T10:10:46.940114",
     "exception": false,
     "start_time": "2022-08-31T10:10:46.916681",
     "status": "completed"
    },
    "tags": []
   },
   "source": [
    "From the command line run `pip install mnist`. This is a library that will help you bring down the mnist dataset. If you run this from a notebook, you need to put  `!pip install mnist` in a cell by itself."
   ]
  },
  {
   "cell_type": "code",
   "execution_count": 3,
   "id": "bb6ad8a1",
   "metadata": {
    "execution": {
     "iopub.execute_input": "2022-08-31T10:10:46.991546Z",
     "iopub.status.busy": "2022-08-31T10:10:46.990959Z",
     "iopub.status.idle": "2022-08-31T10:10:48.678354Z",
     "shell.execute_reply": "2022-08-31T10:10:48.677840Z"
    },
    "papermill": {
     "duration": 1.714776,
     "end_time": "2022-08-31T10:10:48.678500",
     "exception": false,
     "start_time": "2022-08-31T10:10:46.963724",
     "status": "completed"
    },
    "tags": []
   },
   "outputs": [
    {
     "name": "stdout",
     "output_type": "stream",
     "text": [
      "Collecting mnist\r\n"
     ]
    },
    {
     "name": "stdout",
     "output_type": "stream",
     "text": [
      "  Downloading mnist-0.2.2-py2.py3-none-any.whl (3.5 kB)\r\n",
      "Requirement already satisfied: numpy in /opt/hostedtoolcache/Python/3.6.15/x64/lib/python3.6/site-packages (from mnist) (1.19.5)\r\n"
     ]
    },
    {
     "name": "stdout",
     "output_type": "stream",
     "text": [
      "Installing collected packages: mnist\r\n"
     ]
    },
    {
     "name": "stdout",
     "output_type": "stream",
     "text": [
      "Successfully installed mnist-0.2.2\r\n"
     ]
    }
   ],
   "source": [
    "!pip install mnist"
   ]
  },
  {
   "cell_type": "markdown",
   "id": "69df9c9a",
   "metadata": {
    "papermill": {
     "duration": 0.024909,
     "end_time": "2022-08-31T10:10:48.728561",
     "exception": false,
     "start_time": "2022-08-31T10:10:48.703652",
     "status": "completed"
    },
    "tags": []
   },
   "source": [
    "## Preparing the Data"
   ]
  },
  {
   "cell_type": "code",
   "execution_count": 4,
   "id": "7f69d806",
   "metadata": {
    "execution": {
     "iopub.execute_input": "2022-08-31T10:10:48.782010Z",
     "iopub.status.busy": "2022-08-31T10:10:48.781424Z",
     "iopub.status.idle": "2022-08-31T10:10:48.797072Z",
     "shell.execute_reply": "2022-08-31T10:10:48.796582Z"
    },
    "papermill": {
     "duration": 0.044157,
     "end_time": "2022-08-31T10:10:48.797189",
     "exception": false,
     "start_time": "2022-08-31T10:10:48.753032",
     "status": "completed"
    },
    "tags": []
   },
   "outputs": [],
   "source": [
    "import mnist"
   ]
  },
  {
   "cell_type": "code",
   "execution_count": 5,
   "id": "a411e44f",
   "metadata": {
    "execution": {
     "iopub.execute_input": "2022-08-31T10:10:48.851060Z",
     "iopub.status.busy": "2022-08-31T10:10:48.850410Z",
     "iopub.status.idle": "2022-08-31T10:10:49.468805Z",
     "shell.execute_reply": "2022-08-31T10:10:49.468242Z"
    },
    "papermill": {
     "duration": 0.646915,
     "end_time": "2022-08-31T10:10:49.468942",
     "exception": false,
     "start_time": "2022-08-31T10:10:48.822027",
     "status": "completed"
    },
    "tags": []
   },
   "outputs": [],
   "source": [
    "train_images = mnist.train_images()\n",
    "train_labels = mnist.train_labels()"
   ]
  },
  {
   "cell_type": "code",
   "execution_count": 6,
   "id": "dceab3a5",
   "metadata": {
    "execution": {
     "iopub.execute_input": "2022-08-31T10:10:49.523955Z",
     "iopub.status.busy": "2022-08-31T10:10:49.523338Z",
     "iopub.status.idle": "2022-08-31T10:10:49.537737Z",
     "shell.execute_reply": "2022-08-31T10:10:49.537163Z"
    },
    "papermill": {
     "duration": 0.043622,
     "end_time": "2022-08-31T10:10:49.537846",
     "exception": false,
     "start_time": "2022-08-31T10:10:49.494224",
     "status": "completed"
    },
    "tags": []
   },
   "outputs": [
    {
     "data": {
      "text/plain": [
       "((60000, 28, 28), (60000,))"
      ]
     },
     "execution_count": 6,
     "metadata": {},
     "output_type": "execute_result"
    }
   ],
   "source": [
    "train_images.shape, train_labels.shape"
   ]
  },
  {
   "cell_type": "code",
   "execution_count": 7,
   "id": "f50dc2bb",
   "metadata": {
    "execution": {
     "iopub.execute_input": "2022-08-31T10:10:49.591902Z",
     "iopub.status.busy": "2022-08-31T10:10:49.591314Z",
     "iopub.status.idle": "2022-08-31T10:10:49.788407Z",
     "shell.execute_reply": "2022-08-31T10:10:49.787864Z"
    },
    "papermill": {
     "duration": 0.225663,
     "end_time": "2022-08-31T10:10:49.788548",
     "exception": false,
     "start_time": "2022-08-31T10:10:49.562885",
     "status": "completed"
    },
    "tags": []
   },
   "outputs": [],
   "source": [
    "test_images = mnist.test_images()\n",
    "test_labels = mnist.test_labels()"
   ]
  },
  {
   "cell_type": "code",
   "execution_count": 8,
   "id": "fc38cf1b",
   "metadata": {
    "execution": {
     "iopub.execute_input": "2022-08-31T10:10:49.842599Z",
     "iopub.status.busy": "2022-08-31T10:10:49.841979Z",
     "iopub.status.idle": "2022-08-31T10:10:49.856155Z",
     "shell.execute_reply": "2022-08-31T10:10:49.855582Z"
    },
    "papermill": {
     "duration": 0.042589,
     "end_time": "2022-08-31T10:10:49.856266",
     "exception": false,
     "start_time": "2022-08-31T10:10:49.813677",
     "status": "completed"
    },
    "tags": []
   },
   "outputs": [
    {
     "data": {
      "text/plain": [
       "((10000, 28, 28), (10000,))"
      ]
     },
     "execution_count": 8,
     "metadata": {},
     "output_type": "execute_result"
    }
   ],
   "source": [
    "test_images.shape, test_labels.shape"
   ]
  },
  {
   "cell_type": "code",
   "execution_count": 9,
   "id": "f9ed8fe0",
   "metadata": {
    "execution": {
     "iopub.execute_input": "2022-08-31T10:10:49.911039Z",
     "iopub.status.busy": "2022-08-31T10:10:49.910294Z",
     "iopub.status.idle": "2022-08-31T10:10:50.052560Z",
     "shell.execute_reply": "2022-08-31T10:10:50.051961Z"
    },
    "papermill": {
     "duration": 0.171261,
     "end_time": "2022-08-31T10:10:50.052678",
     "exception": false,
     "start_time": "2022-08-31T10:10:49.881417",
     "status": "completed"
    },
    "tags": []
   },
   "outputs": [
    {
     "name": "stdout",
     "output_type": "stream",
     "text": [
      "2\n"
     ]
    },
    {
     "data": {
      "text/plain": [
       "<matplotlib.image.AxesImage at 0x7fae0ec6b940>"
      ]
     },
     "execution_count": 9,
     "metadata": {},
     "output_type": "execute_result"
    },
    {
     "data": {
      "image/png": "[encoded data removed]",
      "text/plain": [
       "<Figure size 432x288 with 1 Axes>"
      ]
     },
     "metadata": {
      "needs_background": "light"
     },
     "output_type": "display_data"
    }
   ],
   "source": [
    "image_index = 7776 # You may select anything up to 60,000\n",
    "print(train_labels[image_index]) \n",
    "plt.imshow(train_images[image_index], cmap='Greys')"
   ]
  },
  {
   "cell_type": "markdown",
   "id": "a8d2388d",
   "metadata": {
    "papermill": {
     "duration": 0.02622,
     "end_time": "2022-08-31T10:10:50.105300",
     "exception": false,
     "start_time": "2022-08-31T10:10:50.079080",
     "status": "completed"
    },
    "tags": []
   },
   "source": [
    "## Filter data to get 3 and 8 out"
   ]
  },
  {
   "cell_type": "code",
   "execution_count": 10,
   "id": "776f7fc7",
   "metadata": {
    "execution": {
     "iopub.execute_input": "2022-08-31T10:10:50.163482Z",
     "iopub.status.busy": "2022-08-31T10:10:50.161874Z",
     "iopub.status.idle": "2022-08-31T10:10:50.180154Z",
     "shell.execute_reply": "2022-08-31T10:10:50.179645Z"
    },
    "papermill": {
     "duration": 0.04881,
     "end_time": "2022-08-31T10:10:50.180266",
     "exception": false,
     "start_time": "2022-08-31T10:10:50.131456",
     "status": "completed"
    },
    "tags": []
   },
   "outputs": [],
   "source": [
    "train_filter = np.where((train_labels == 3 ) | (train_labels == 8))\n",
    "test_filter = np.where((test_labels == 3) | (test_labels == 8))\n",
    "X_train, y_train = train_images[train_filter], train_labels[train_filter]\n",
    "X_test, y_test = test_images[test_filter], test_labels[test_filter]"
   ]
  },
  {
   "cell_type": "markdown",
   "id": "948f0b7e",
   "metadata": {
    "papermill": {
     "duration": 0.026447,
     "end_time": "2022-08-31T10:10:50.233016",
     "exception": false,
     "start_time": "2022-08-31T10:10:50.206569",
     "status": "completed"
    },
    "tags": []
   },
   "source": [
    "We normalize the pizel values in the 0 to 1 range"
   ]
  },
  {
   "cell_type": "code",
   "execution_count": 11,
   "id": "ee4c2166",
   "metadata": {
    "execution": {
     "iopub.execute_input": "2022-08-31T10:10:50.291356Z",
     "iopub.status.busy": "2022-08-31T10:10:50.288737Z",
     "iopub.status.idle": "2022-08-31T10:10:50.338441Z",
     "shell.execute_reply": "2022-08-31T10:10:50.337901Z"
    },
    "papermill": {
     "duration": 0.079416,
     "end_time": "2022-08-31T10:10:50.338588",
     "exception": false,
     "start_time": "2022-08-31T10:10:50.259172",
     "status": "completed"
    },
    "tags": []
   },
   "outputs": [],
   "source": [
    "X_train = X_train/255.\n",
    "X_test = X_test/255."
   ]
  },
  {
   "cell_type": "markdown",
   "id": "ddcf4fab",
   "metadata": {
    "papermill": {
     "duration": 0.026512,
     "end_time": "2022-08-31T10:10:50.391585",
     "exception": false,
     "start_time": "2022-08-31T10:10:50.365073",
     "status": "completed"
    },
    "tags": []
   },
   "source": [
    "And setup the labels as 1 (when the digit is 3) and 0 (when the digit is 8)"
   ]
  },
  {
   "cell_type": "code",
   "execution_count": 12,
   "id": "7dc908f2",
   "metadata": {
    "execution": {
     "iopub.execute_input": "2022-08-31T10:10:50.459731Z",
     "iopub.status.busy": "2022-08-31T10:10:50.447165Z",
     "iopub.status.idle": "2022-08-31T10:10:50.462510Z",
     "shell.execute_reply": "2022-08-31T10:10:50.462978Z"
    },
    "papermill": {
     "duration": 0.04549,
     "end_time": "2022-08-31T10:10:50.463112",
     "exception": false,
     "start_time": "2022-08-31T10:10:50.417622",
     "status": "completed"
    },
    "tags": []
   },
   "outputs": [],
   "source": [
    "y_train = 1*(y_train==3)\n",
    "y_test = 1*(y_test==3)"
   ]
  },
  {
   "cell_type": "code",
   "execution_count": 13,
   "id": "01e4e969",
   "metadata": {
    "execution": {
     "iopub.execute_input": "2022-08-31T10:10:50.524617Z",
     "iopub.status.busy": "2022-08-31T10:10:50.519377Z",
     "iopub.status.idle": "2022-08-31T10:10:50.533561Z",
     "shell.execute_reply": "2022-08-31T10:10:50.533088Z"
    },
    "papermill": {
     "duration": 0.0442,
     "end_time": "2022-08-31T10:10:50.533675",
     "exception": false,
     "start_time": "2022-08-31T10:10:50.489475",
     "status": "completed"
    },
    "tags": []
   },
   "outputs": [
    {
     "data": {
      "text/plain": [
       "((11982, 28, 28), (1984, 28, 28))"
      ]
     },
     "execution_count": 13,
     "metadata": {},
     "output_type": "execute_result"
    }
   ],
   "source": [
    "X_train.shape, X_test.shape"
   ]
  },
  {
   "cell_type": "markdown",
   "id": "5ccf3f85",
   "metadata": {
    "papermill": {
     "duration": 0.026453,
     "end_time": "2022-08-31T10:10:50.586619",
     "exception": false,
     "start_time": "2022-08-31T10:10:50.560166",
     "status": "completed"
    },
    "tags": []
   },
   "source": [
    "We reshape the data to flatten the image pixels into a set of features or co-variates:"
   ]
  },
  {
   "cell_type": "code",
   "execution_count": 14,
   "id": "5286a4a3",
   "metadata": {
    "execution": {
     "iopub.execute_input": "2022-08-31T10:10:50.650225Z",
     "iopub.status.busy": "2022-08-31T10:10:50.649622Z",
     "iopub.status.idle": "2022-08-31T10:10:50.661926Z",
     "shell.execute_reply": "2022-08-31T10:10:50.662373Z"
    },
    "papermill": {
     "duration": 0.049319,
     "end_time": "2022-08-31T10:10:50.662522",
     "exception": false,
     "start_time": "2022-08-31T10:10:50.613203",
     "status": "completed"
    },
    "tags": []
   },
   "outputs": [
    {
     "data": {
      "text/plain": [
       "((11982, 784), (1984, 784))"
      ]
     },
     "execution_count": 14,
     "metadata": {},
     "output_type": "execute_result"
    }
   ],
   "source": [
    "X_train = X_train.reshape(X_train.shape[0], -1)\n",
    "X_test = X_test.reshape(X_test.shape[0], -1)\n",
    "X_train.shape, X_test.shape"
   ]
  },
  {
   "cell_type": "code",
   "execution_count": 15,
   "id": "73c5f88a",
   "metadata": {
    "execution": {
     "iopub.execute_input": "2022-08-31T10:10:50.724973Z",
     "iopub.status.busy": "2022-08-31T10:10:50.724239Z",
     "iopub.status.idle": "2022-08-31T10:10:50.741256Z",
     "shell.execute_reply": "2022-08-31T10:10:50.740784Z"
    },
    "papermill": {
     "duration": 0.052119,
     "end_time": "2022-08-31T10:10:50.741374",
     "exception": false,
     "start_time": "2022-08-31T10:10:50.689255",
     "status": "completed"
    },
    "tags": []
   },
   "outputs": [],
   "source": [
    "#Impoting functions from 'Kudzu'\n",
    "from kudzu.model import Model\n",
    "from kudzu.train import Learner\n",
    "from kudzu.optim import GD\n",
    "from kudzu.data import Data, Sampler,Dataloader\n",
    "\n",
    "from kudzu.callbacks import AccCallback\n",
    "from kudzu.callbacks import ClfCallback\n",
    "\n",
    "from kudzu.loss import MSE\n",
    "\n",
    "from kudzu.layer import Sigmoid,Relu\n",
    "from kudzu.layer import Affine"
   ]
  },
  {
   "cell_type": "markdown",
   "id": "bc01172a",
   "metadata": {
    "papermill": {
     "duration": 0.026656,
     "end_time": "2022-08-31T10:10:50.795007",
     "exception": false,
     "start_time": "2022-08-31T10:10:50.768351",
     "status": "completed"
    },
    "tags": []
   },
   "source": [
    "### Let us create a `Config` class, to store important parameters. \n",
    "This class essentially plays the role of a dictionary."
   ]
  },
  {
   "cell_type": "code",
   "execution_count": 16,
   "id": "978281aa",
   "metadata": {
    "execution": {
     "iopub.execute_input": "2022-08-31T10:10:50.852876Z",
     "iopub.status.busy": "2022-08-31T10:10:50.852276Z",
     "iopub.status.idle": "2022-08-31T10:10:50.864747Z",
     "shell.execute_reply": "2022-08-31T10:10:50.865203Z"
    },
    "papermill": {
     "duration": 0.043676,
     "end_time": "2022-08-31T10:10:50.865335",
     "exception": false,
     "start_time": "2022-08-31T10:10:50.821659",
     "status": "completed"
    },
    "tags": []
   },
   "outputs": [],
   "source": [
    "class Config:\n",
    "    pass\n",
    "config = Config()\n",
    "config.lr = 0.001\n",
    "config.num_epochs = 250\n",
    "config.bs = 50"
   ]
  },
  {
   "cell_type": "markdown",
   "id": "1385fa59",
   "metadata": {
    "papermill": {
     "duration": 0.026621,
     "end_time": "2022-08-31T10:10:50.918735",
     "exception": false,
     "start_time": "2022-08-31T10:10:50.892114",
     "status": "completed"
    },
    "tags": []
   },
   "source": [
    "### Running Models with the Training data\n",
    "Details about the network layers:\n",
    "- A first affine layer has 784 inputs and does 100 affine transforms. These are followed by a Relu\n",
    "- A second affine layer has 100 inputs from the 100 activations of the past layer, and does 100 affine transforms. These are followed by a Relu\n",
    "- A third affine layer has 100 activations and does 2 affine transformations to create an embedding for visualization. There is no non-linearity here.\n",
    "- A final \"logistic regression\" which has an affine transform from 2 inputs to 1 output, which is squeezed through a sigmoid.\n"
   ]
  },
  {
   "cell_type": "code",
   "execution_count": 17,
   "id": "2b9c66db",
   "metadata": {
    "execution": {
     "iopub.execute_input": "2022-08-31T10:10:50.980536Z",
     "iopub.status.busy": "2022-08-31T10:10:50.976066Z",
     "iopub.status.idle": "2022-08-31T10:10:50.992076Z",
     "shell.execute_reply": "2022-08-31T10:10:50.991451Z"
    },
    "papermill": {
     "duration": 0.046801,
     "end_time": "2022-08-31T10:10:50.992194",
     "exception": false,
     "start_time": "2022-08-31T10:10:50.945393",
     "status": "completed"
    },
    "tags": []
   },
   "outputs": [],
   "source": [
    "data = Data(X_train, y_train.reshape(-1,1))\n",
    "sampler = Sampler(data, config.bs, shuffle=True)\n",
    "\n",
    "dl = Dataloader(data, sampler)\n",
    "\n",
    "opt = GD(config.lr)\n",
    "loss = MSE()"
   ]
  },
  {
   "cell_type": "code",
   "execution_count": 18,
   "id": "b275e4c2",
   "metadata": {
    "execution": {
     "iopub.execute_input": "2022-08-31T10:10:51.050708Z",
     "iopub.status.busy": "2022-08-31T10:10:51.050075Z",
     "iopub.status.idle": "2022-08-31T10:10:51.063047Z",
     "shell.execute_reply": "2022-08-31T10:10:51.062533Z"
    },
    "papermill": {
     "duration": 0.043878,
     "end_time": "2022-08-31T10:10:51.063167",
     "exception": false,
     "start_time": "2022-08-31T10:10:51.019289",
     "status": "completed"
    },
    "tags": []
   },
   "outputs": [],
   "source": [
    "training_data_x = X_train\n",
    "testing_data_x = X_test\n",
    "training_data_y = y_train.reshape(-1,1)\n",
    "testing_data_y = y_test.reshape(-1,1)"
   ]
  },
  {
   "cell_type": "code",
   "execution_count": 19,
   "id": "76951160",
   "metadata": {
    "execution": {
     "iopub.execute_input": "2022-08-31T10:10:51.121596Z",
     "iopub.status.busy": "2022-08-31T10:10:51.120971Z",
     "iopub.status.idle": "2022-08-31T10:10:51.137661Z",
     "shell.execute_reply": "2022-08-31T10:10:51.137175Z"
    },
    "papermill": {
     "duration": 0.047855,
     "end_time": "2022-08-31T10:10:51.137776",
     "exception": false,
     "start_time": "2022-08-31T10:10:51.089921",
     "status": "completed"
    },
    "tags": []
   },
   "outputs": [
    {
     "name": "stdout",
     "output_type": "stream",
     "text": [
      "xavier\n",
      "xavier\n",
      "xavier\n",
      "xavier\n",
      "xavier\n"
     ]
    }
   ],
   "source": [
    "layers = [Affine(\"first\", 784, 100), Relu(\"first\"), Affine(\"second\", 100, 100), Relu(\"second\"), Affine(\"third\", 100, 2), Affine(\"last\", 2, 1), Sigmoid(\"last\")]\n",
    "model_nn = Model(layers)\n",
    "model_lr = Model([Affine(\"logits\", 784, 1), Sigmoid(\"sigmoid\")])"
   ]
  },
  {
   "cell_type": "code",
   "execution_count": 20,
   "id": "6eede77a",
   "metadata": {
    "execution": {
     "iopub.execute_input": "2022-08-31T10:10:51.196304Z",
     "iopub.status.busy": "2022-08-31T10:10:51.195706Z",
     "iopub.status.idle": "2022-08-31T10:10:51.208979Z",
     "shell.execute_reply": "2022-08-31T10:10:51.208490Z"
    },
    "papermill": {
     "duration": 0.044147,
     "end_time": "2022-08-31T10:10:51.209094",
     "exception": false,
     "start_time": "2022-08-31T10:10:51.164947",
     "status": "completed"
    },
    "tags": []
   },
   "outputs": [],
   "source": [
    "nn_learner = Learner(loss, model_nn, opt, config.num_epochs)\n",
    "acc_nn = ClfCallback(nn_learner, config.bs, training_data_x , testing_data_x, training_data_y, testing_data_y)\n",
    "nn_learner.set_callbacks([acc_nn])"
   ]
  },
  {
   "cell_type": "code",
   "execution_count": 21,
   "id": "877b6cc7",
   "metadata": {
    "execution": {
     "iopub.execute_input": "2022-08-31T10:10:51.267564Z",
     "iopub.status.busy": "2022-08-31T10:10:51.266966Z",
     "iopub.status.idle": "2022-08-31T10:10:51.280218Z",
     "shell.execute_reply": "2022-08-31T10:10:51.279739Z"
    },
    "papermill": {
     "duration": 0.044186,
     "end_time": "2022-08-31T10:10:51.280335",
     "exception": false,
     "start_time": "2022-08-31T10:10:51.236149",
     "status": "completed"
    },
    "tags": []
   },
   "outputs": [],
   "source": [
    "lr_learner = Learner(loss, model_lr, opt, config.num_epochs)\n",
    "acc_lr = ClfCallback(lr_learner, config.bs, training_data_x , testing_data_x, training_data_y, testing_data_y)\n",
    "lr_learner.set_callbacks([acc_lr])"
   ]
  },
  {
   "cell_type": "code",
   "execution_count": 22,
   "id": "d9b133c3",
   "metadata": {
    "execution": {
     "iopub.execute_input": "2022-08-31T10:10:51.343413Z",
     "iopub.status.busy": "2022-08-31T10:10:51.342792Z",
     "iopub.status.idle": "2022-08-31T10:12:09.442862Z",
     "shell.execute_reply": "2022-08-31T10:12:09.443427Z"
    },
    "papermill": {
     "duration": 78.136103,
     "end_time": "2022-08-31T10:12:09.443562",
     "exception": false,
     "start_time": "2022-08-31T10:10:51.307459",
     "status": "completed"
    },
    "tags": []
   },
   "outputs": [
    {
     "name": "stdout",
     "output_type": "stream",
     "text": [
      "Epoch 0, Loss 0.2545\n",
      "Training Accuracy: 0.5453, Testing Accuracy: 0.5953\n",
      "\n"
     ]
    },
    {
     "name": "stdout",
     "output_type": "stream",
     "text": [
      "Epoch 10, Loss 0.1166\n",
      "Training Accuracy: 0.8970, Testing Accuracy: 0.9093\n",
      "\n"
     ]
    },
    {
     "name": "stdout",
     "output_type": "stream",
     "text": [
      "Epoch 20, Loss 0.0658\n",
      "Training Accuracy: 0.9335, Testing Accuracy: 0.9435\n",
      "\n"
     ]
    },
    {
     "name": "stdout",
     "output_type": "stream",
     "text": [
      "Epoch 30, Loss 0.0486\n",
      "Training Accuracy: 0.9464, Testing Accuracy: 0.9546\n",
      "\n"
     ]
    },
    {
     "name": "stdout",
     "output_type": "stream",
     "text": [
      "Epoch 40, Loss 0.0408\n",
      "Training Accuracy: 0.9536, Testing Accuracy: 0.9607\n",
      "\n"
     ]
    },
    {
     "name": "stdout",
     "output_type": "stream",
     "text": [
      "Epoch 50, Loss 0.0365\n",
      "Training Accuracy: 0.9581, Testing Accuracy: 0.9622\n",
      "\n"
     ]
    },
    {
     "name": "stdout",
     "output_type": "stream",
     "text": [
      "Epoch 60, Loss 0.0336\n",
      "Training Accuracy: 0.9619, Testing Accuracy: 0.9647\n",
      "\n"
     ]
    },
    {
     "name": "stdout",
     "output_type": "stream",
     "text": [
      "Epoch 70, Loss 0.0316\n",
      "Training Accuracy: 0.9635, Testing Accuracy: 0.9652\n",
      "\n"
     ]
    },
    {
     "name": "stdout",
     "output_type": "stream",
     "text": [
      "Epoch 80, Loss 0.03\n",
      "Training Accuracy: 0.9649, Testing Accuracy: 0.9662\n",
      "\n"
     ]
    },
    {
     "name": "stdout",
     "output_type": "stream",
     "text": [
      "Epoch 90, Loss 0.0288\n",
      "Training Accuracy: 0.9663, Testing Accuracy: 0.9652\n",
      "\n"
     ]
    },
    {
     "name": "stdout",
     "output_type": "stream",
     "text": [
      "Epoch 100, Loss 0.0277\n",
      "Training Accuracy: 0.9676, Testing Accuracy: 0.9662\n",
      "\n"
     ]
    },
    {
     "name": "stdout",
     "output_type": "stream",
     "text": [
      "Epoch 110, Loss 0.0268\n",
      "Training Accuracy: 0.9685, Testing Accuracy: 0.9677\n",
      "\n"
     ]
    },
    {
     "name": "stdout",
     "output_type": "stream",
     "text": [
      "Epoch 120, Loss 0.026\n",
      "Training Accuracy: 0.9694, Testing Accuracy: 0.9682\n",
      "\n"
     ]
    },
    {
     "name": "stdout",
     "output_type": "stream",
     "text": [
      "Epoch 130, Loss 0.0254\n",
      "Training Accuracy: 0.9701, Testing Accuracy: 0.9693\n",
      "\n"
     ]
    },
    {
     "name": "stdout",
     "output_type": "stream",
     "text": [
      "Epoch 140, Loss 0.0247\n",
      "Training Accuracy: 0.9715, Testing Accuracy: 0.9682\n",
      "\n"
     ]
    },
    {
     "name": "stdout",
     "output_type": "stream",
     "text": [
      "Epoch 150, Loss 0.0241\n",
      "Training Accuracy: 0.9725, Testing Accuracy: 0.9688\n",
      "\n"
     ]
    },
    {
     "name": "stdout",
     "output_type": "stream",
     "text": [
      "Epoch 160, Loss 0.0236\n",
      "Training Accuracy: 0.9731, Testing Accuracy: 0.9693\n",
      "\n"
     ]
    },
    {
     "name": "stdout",
     "output_type": "stream",
     "text": [
      "Epoch 170, Loss 0.0231\n",
      "Training Accuracy: 0.9737, Testing Accuracy: 0.9698\n",
      "\n"
     ]
    },
    {
     "name": "stdout",
     "output_type": "stream",
     "text": [
      "Epoch 180, Loss 0.0226\n",
      "Training Accuracy: 0.9746, Testing Accuracy: 0.9713\n",
      "\n"
     ]
    },
    {
     "name": "stdout",
     "output_type": "stream",
     "text": [
      "Epoch 190, Loss 0.0221\n",
      "Training Accuracy: 0.9753, Testing Accuracy: 0.9718\n",
      "\n"
     ]
    },
    {
     "name": "stdout",
     "output_type": "stream",
     "text": [
      "Epoch 200, Loss 0.0217\n",
      "Training Accuracy: 0.9757, Testing Accuracy: 0.9723\n",
      "\n"
     ]
    },
    {
     "name": "stdout",
     "output_type": "stream",
     "text": [
      "Epoch 210, Loss 0.0213\n",
      "Training Accuracy: 0.9761, Testing Accuracy: 0.9723\n",
      "\n"
     ]
    },
    {
     "name": "stdout",
     "output_type": "stream",
     "text": [
      "Epoch 220, Loss 0.0209\n",
      "Training Accuracy: 0.9766, Testing Accuracy: 0.9723\n",
      "\n"
     ]
    },
    {
     "name": "stdout",
     "output_type": "stream",
     "text": [
      "Epoch 230, Loss 0.0205\n",
      "Training Accuracy: 0.9770, Testing Accuracy: 0.9728\n",
      "\n"
     ]
    },
    {
     "name": "stdout",
     "output_type": "stream",
     "text": [
      "Epoch 240, Loss 0.0201\n",
      "Training Accuracy: 0.9772, Testing Accuracy: 0.9728\n",
      "\n"
     ]
    },
    {
     "data": {
      "text/plain": [
       "0.007949464513561842"
      ]
     },
     "execution_count": 22,
     "metadata": {},
     "output_type": "execute_result"
    }
   ],
   "source": [
    "nn_learner.train_loop(dl)"
   ]
  },
  {
   "cell_type": "code",
   "execution_count": 23,
   "id": "e0163366",
   "metadata": {
    "execution": {
     "iopub.execute_input": "2022-08-31T10:12:09.524299Z",
     "iopub.status.busy": "2022-08-31T10:12:09.523680Z",
     "iopub.status.idle": "2022-08-31T10:12:23.634259Z",
     "shell.execute_reply": "2022-08-31T10:12:23.635133Z"
    },
    "papermill": {
     "duration": 14.157187,
     "end_time": "2022-08-31T10:12:23.635280",
     "exception": false,
     "start_time": "2022-08-31T10:12:09.478093",
     "status": "completed"
    },
    "tags": []
   },
   "outputs": [
    {
     "name": "stdout",
     "output_type": "stream",
     "text": [
      "Epoch 0, Loss 0.2398\n",
      "Training Accuracy: 0.7170, Testing Accuracy: 0.7293\n",
      "\n"
     ]
    },
    {
     "name": "stdout",
     "output_type": "stream",
     "text": [
      "Epoch 10, Loss 0.1011\n",
      "Training Accuracy: 0.9145, Testing Accuracy: 0.9274\n",
      "\n"
     ]
    },
    {
     "name": "stdout",
     "output_type": "stream",
     "text": [
      "Epoch 20, Loss 0.0785\n",
      "Training Accuracy: 0.9289, Testing Accuracy: 0.9380\n",
      "\n"
     ]
    },
    {
     "name": "stdout",
     "output_type": "stream",
     "text": [
      "Epoch 30, Loss 0.0681\n",
      "Training Accuracy: 0.9349, Testing Accuracy: 0.9466\n",
      "\n"
     ]
    },
    {
     "name": "stdout",
     "output_type": "stream",
     "text": [
      "Epoch 40, Loss 0.0618\n",
      "Training Accuracy: 0.9392, Testing Accuracy: 0.9526\n",
      "\n"
     ]
    },
    {
     "name": "stdout",
     "output_type": "stream",
     "text": [
      "Epoch 50, Loss 0.0574\n",
      "Training Accuracy: 0.9422, Testing Accuracy: 0.9546\n",
      "\n"
     ]
    },
    {
     "name": "stdout",
     "output_type": "stream",
     "text": [
      "Epoch 60, Loss 0.0542\n",
      "Training Accuracy: 0.9453, Testing Accuracy: 0.9567\n",
      "\n"
     ]
    },
    {
     "name": "stdout",
     "output_type": "stream",
     "text": [
      "Epoch 70, Loss 0.0517\n",
      "Training Accuracy: 0.9473, Testing Accuracy: 0.9582\n",
      "\n"
     ]
    },
    {
     "name": "stdout",
     "output_type": "stream",
     "text": [
      "Epoch 80, Loss 0.0497\n",
      "Training Accuracy: 0.9491, Testing Accuracy: 0.9582\n",
      "\n"
     ]
    },
    {
     "name": "stdout",
     "output_type": "stream",
     "text": [
      "Epoch 90, Loss 0.048\n",
      "Training Accuracy: 0.9502, Testing Accuracy: 0.9597\n",
      "\n"
     ]
    },
    {
     "name": "stdout",
     "output_type": "stream",
     "text": [
      "Epoch 100, Loss 0.0466\n",
      "Training Accuracy: 0.9516, Testing Accuracy: 0.9602\n",
      "\n"
     ]
    },
    {
     "name": "stdout",
     "output_type": "stream",
     "text": [
      "Epoch 110, Loss 0.0454\n",
      "Training Accuracy: 0.9525, Testing Accuracy: 0.9607\n",
      "\n"
     ]
    },
    {
     "name": "stdout",
     "output_type": "stream",
     "text": [
      "Epoch 120, Loss 0.0443\n",
      "Training Accuracy: 0.9532, Testing Accuracy: 0.9612\n",
      "\n"
     ]
    },
    {
     "name": "stdout",
     "output_type": "stream",
     "text": [
      "Epoch 130, Loss 0.0434\n",
      "Training Accuracy: 0.9542, Testing Accuracy: 0.9612\n",
      "\n"
     ]
    },
    {
     "name": "stdout",
     "output_type": "stream",
     "text": [
      "Epoch 140, Loss 0.0425\n",
      "Training Accuracy: 0.9544, Testing Accuracy: 0.9617\n",
      "\n"
     ]
    },
    {
     "name": "stdout",
     "output_type": "stream",
     "text": [
      "Epoch 150, Loss 0.0418\n",
      "Training Accuracy: 0.9553, Testing Accuracy: 0.9622\n",
      "\n"
     ]
    },
    {
     "name": "stdout",
     "output_type": "stream",
     "text": [
      "Epoch 160, Loss 0.0411\n",
      "Training Accuracy: 0.9563, Testing Accuracy: 0.9622\n",
      "\n"
     ]
    },
    {
     "name": "stdout",
     "output_type": "stream",
     "text": [
      "Epoch 170, Loss 0.0405\n",
      "Training Accuracy: 0.9572, Testing Accuracy: 0.9627\n",
      "\n"
     ]
    },
    {
     "name": "stdout",
     "output_type": "stream",
     "text": [
      "Epoch 180, Loss 0.0399\n",
      "Training Accuracy: 0.9580, Testing Accuracy: 0.9632\n",
      "\n"
     ]
    },
    {
     "name": "stdout",
     "output_type": "stream",
     "text": [
      "Epoch 190, Loss 0.0394\n",
      "Training Accuracy: 0.9583, Testing Accuracy: 0.9642\n",
      "\n"
     ]
    },
    {
     "name": "stdout",
     "output_type": "stream",
     "text": [
      "Epoch 200, Loss 0.0389\n",
      "Training Accuracy: 0.9584, Testing Accuracy: 0.9642\n",
      "\n"
     ]
    },
    {
     "name": "stdout",
     "output_type": "stream",
     "text": [
      "Epoch 210, Loss 0.0384\n",
      "Training Accuracy: 0.9587, Testing Accuracy: 0.9647\n",
      "\n"
     ]
    },
    {
     "name": "stdout",
     "output_type": "stream",
     "text": [
      "Epoch 220, Loss 0.038\n",
      "Training Accuracy: 0.9593, Testing Accuracy: 0.9647\n",
      "\n"
     ]
    },
    {
     "name": "stdout",
     "output_type": "stream",
     "text": [
      "Epoch 230, Loss 0.0376\n",
      "Training Accuracy: 0.9595, Testing Accuracy: 0.9647\n",
      "\n"
     ]
    },
    {
     "name": "stdout",
     "output_type": "stream",
     "text": [
      "Epoch 240, Loss 0.0372\n",
      "Training Accuracy: 0.9598, Testing Accuracy: 0.9647\n",
      "\n"
     ]
    },
    {
     "data": {
      "text/plain": [
       "0.01750304739188871"
      ]
     },
     "execution_count": 23,
     "metadata": {},
     "output_type": "execute_result"
    }
   ],
   "source": [
    "lr_learner.train_loop(dl)"
   ]
  },
  {
   "cell_type": "code",
   "execution_count": 24,
   "id": "ca410940",
   "metadata": {
    "execution": {
     "iopub.execute_input": "2022-08-31T10:12:23.726155Z",
     "iopub.status.busy": "2022-08-31T10:12:23.725538Z",
     "iopub.status.idle": "2022-08-31T10:12:23.944990Z",
     "shell.execute_reply": "2022-08-31T10:12:23.944067Z"
    },
    "papermill": {
     "duration": 0.268171,
     "end_time": "2022-08-31T10:12:23.945130",
     "exception": false,
     "start_time": "2022-08-31T10:12:23.676959",
     "status": "completed"
    },
    "tags": []
   },
   "outputs": [
    {
     "data": {
      "text/plain": [
       "<matplotlib.legend.Legend at 0x7fae0e7cbf98>"
      ]
     },
     "execution_count": 24,
     "metadata": {},
     "output_type": "execute_result"
    },
    {
     "data": {
      "image/png": "[encoded data removed]",
      "text/plain": [
       "<Figure size 1080x720 with 1 Axes>"
      ]
     },
     "metadata": {
      "needs_background": "light"
     },
     "output_type": "display_data"
    }
   ],
   "source": [
    "#comparing the results of NN and LR\n",
    "plt.figure(figsize=(15,10))\n",
    "\n",
    "# Neural Network plots\n",
    "plt.plot(acc_nn.accuracies, 'r-', label = \"Training Accuracies - NN\")\n",
    "plt.plot(acc_nn.test_accuracies, 'g-', label = \"Testing Accuracies - NN\")\n",
    "\n",
    "# Logistic Regression plots\n",
    "plt.plot(acc_lr.accuracies, 'k-', label = \"Training Accuracies - LR\")\n",
    "plt.plot(acc_lr.test_accuracies, 'b-', label = \"Testing Accuracies - LR\")\n",
    "plt.legend()"
   ]
  },
  {
   "cell_type": "markdown",
   "id": "80dfb35c",
   "metadata": {
    "papermill": {
     "duration": 0.041864,
     "end_time": "2022-08-31T10:12:24.029230",
     "exception": false,
     "start_time": "2022-08-31T10:12:23.987366",
     "status": "completed"
    },
    "tags": []
   },
   "source": [
    "#### Plotting the outputs of this layer of the NN.\n"
   ]
  },
  {
   "cell_type": "code",
   "execution_count": 25,
   "id": "45eb2ff5",
   "metadata": {
    "execution": {
     "iopub.execute_input": "2022-08-31T10:12:24.117161Z",
     "iopub.status.busy": "2022-08-31T10:12:24.116541Z",
     "iopub.status.idle": "2022-08-31T10:12:24.137246Z",
     "shell.execute_reply": "2022-08-31T10:12:24.136765Z"
    },
    "papermill": {
     "duration": 0.066505,
     "end_time": "2022-08-31T10:12:24.137366",
     "exception": false,
     "start_time": "2022-08-31T10:12:24.070861",
     "status": "completed"
    },
    "tags": []
   },
   "outputs": [],
   "source": [
    "new_model = Model(layers[:-2])\n",
    "testing_plot = new_model(testing_data_x)"
   ]
  },
  {
   "cell_type": "code",
   "execution_count": 26,
   "id": "4c0a5485",
   "metadata": {
    "execution": {
     "iopub.execute_input": "2022-08-31T10:12:24.232181Z",
     "iopub.status.busy": "2022-08-31T10:12:24.231552Z",
     "iopub.status.idle": "2022-08-31T10:12:24.417528Z",
     "shell.execute_reply": "2022-08-31T10:12:24.417999Z"
    },
    "papermill": {
     "duration": 0.237572,
     "end_time": "2022-08-31T10:12:24.418139",
     "exception": false,
     "start_time": "2022-08-31T10:12:24.180567",
     "status": "completed"
    },
    "tags": []
   },
   "outputs": [
    {
     "data": {
      "text/plain": [
       "Text(0.5, 1.0, 'Outputs')"
      ]
     },
     "execution_count": 26,
     "metadata": {},
     "output_type": "execute_result"
    },
    {
     "data": {
      "image/png": "[encoded data removed]",
      "text/plain": [
       "<Figure size 576x504 with 1 Axes>"
      ]
     },
     "metadata": {
      "needs_background": "light"
     },
     "output_type": "display_data"
    }
   ],
   "source": [
    "# Plotting the scatter plot of points and color coding by class\n",
    "plt.figure(figsize=(8,7))\n",
    "plt.scatter(testing_plot[:,0], testing_plot[:,1], alpha = 0.1, c = y_test.ravel());\n",
    "plt.title('Outputs')"
   ]
  },
  {
   "cell_type": "markdown",
   "id": "a74fcf8f",
   "metadata": {
    "papermill": {
     "duration": 0.043222,
     "end_time": "2022-08-31T10:12:24.505021",
     "exception": false,
     "start_time": "2022-08-31T10:12:24.461799",
     "status": "completed"
    },
    "tags": []
   },
   "source": [
    "Probability contours"
   ]
  },
  {
   "cell_type": "code",
   "execution_count": 27,
   "id": "d0afc8e3",
   "metadata": {
    "execution": {
     "iopub.execute_input": "2022-08-31T10:12:24.632755Z",
     "iopub.status.busy": "2022-08-31T10:12:24.632153Z",
     "iopub.status.idle": "2022-08-31T10:12:24.641553Z",
     "shell.execute_reply": "2022-08-31T10:12:24.642004Z"
    },
    "papermill": {
     "duration": 0.093528,
     "end_time": "2022-08-31T10:12:24.642136",
     "exception": false,
     "start_time": "2022-08-31T10:12:24.548608",
     "status": "completed"
    },
    "tags": []
   },
   "outputs": [],
   "source": [
    "model_prob = Model(layers[-2:]) "
   ]
  },
  {
   "cell_type": "code",
   "execution_count": 28,
   "id": "9b96e238",
   "metadata": {
    "execution": {
     "iopub.execute_input": "2022-08-31T10:12:24.744118Z",
     "iopub.status.busy": "2022-08-31T10:12:24.734033Z",
     "iopub.status.idle": "2022-08-31T10:12:24.753861Z",
     "shell.execute_reply": "2022-08-31T10:12:24.753271Z"
    },
    "papermill": {
     "duration": 0.068271,
     "end_time": "2022-08-31T10:12:24.753976",
     "exception": false,
     "start_time": "2022-08-31T10:12:24.685705",
     "status": "completed"
    },
    "tags": []
   },
   "outputs": [],
   "source": [
    "#creating the x and y ranges according to the above generated plot.\n",
    "x_range = np.linspace(-4, 1, 100) \n",
    "y_range = np.linspace(-6, 6, 100) \n",
    "x_grid, y_grid = np.meshgrid(x_range, y_range) # x_grid and y_grig are of size 100 X 100\n",
    "\n",
    "# converting x_grid and y_grid to continuous arrays\n",
    "x_gridflat = np.ravel(x_grid)\n",
    "y_gridflat = np.ravel(y_grid)\n",
    "\n",
    "# The last layer of the current model takes two columns as input. Hence transpose of np.vstack() is required.\n",
    "X = np.vstack((x_gridflat, y_gridflat)).T\n",
    "\n",
    "prob_contour = model_prob(X).reshape(100,100) "
   ]
  },
  {
   "cell_type": "code",
   "execution_count": 29,
   "id": "da72499a",
   "metadata": {
    "execution": {
     "iopub.execute_input": "2022-08-31T10:12:24.853337Z",
     "iopub.status.busy": "2022-08-31T10:12:24.852738Z",
     "iopub.status.idle": "2022-08-31T10:12:25.090665Z",
     "shell.execute_reply": "2022-08-31T10:12:25.091126Z"
    },
    "papermill": {
     "duration": 0.287406,
     "end_time": "2022-08-31T10:12:25.091259",
     "exception": false,
     "start_time": "2022-08-31T10:12:24.803853",
     "status": "completed"
    },
    "tags": []
   },
   "outputs": [
    {
     "data": {
      "image/png": "[encoded data removed]",
      "text/plain": [
       "<Figure size 720x648 with 1 Axes>"
      ]
     },
     "metadata": {
      "needs_background": "light"
     },
     "output_type": "display_data"
    }
   ],
   "source": [
    "plt.figure(figsize=(10,9))\n",
    "plt.scatter(testing_plot[:,0], testing_plot[:,1], alpha = 0.1, c = y_test.ravel())\n",
    "contours = plt.contour(x_grid,y_grid,prob_contour)\n",
    "plt.title('Probability Contours')\n",
    "plt.clabel(contours, inline = True );"
   ]
  },
  {
   "cell_type": "code",
   "execution_count": null,
   "id": "e81b4ac7",
   "metadata": {
    "papermill": {
     "duration": 0.046098,
     "end_time": "2022-08-31T10:12:25.183575",
     "exception": false,
     "start_time": "2022-08-31T10:12:25.137477",
     "status": "completed"
    },
    "tags": []
   },
   "outputs": [],
   "source": []
  }
 ],
 "metadata": {
  "kernelspec": {
   "display_name": "Python 3",
   "language": "python",
   "name": "python3"
  },
  "language_info": {
   "codemirror_mode": {
    "name": "ipython",
    "version": 3
   },
   "file_extension": ".py",
   "mimetype": "text/x-python",
   "name": "python",
   "nbconvert_exporter": "python",
   "pygments_lexer": "ipython3",
   "version": "3.6.15"
  },
  "papermill": {
   "default_parameters": {},
   "duration": 100.422063,
   "end_time": "2022-08-31T10:12:25.649039",
   "environment_variables": {},
   "exception": null,
   "input_path": "2020-08-11-part2.ipynb",
   "output_path": "2020-08-11-part2.ipynb",
   "parameters": {},
   "start_time": "2022-08-31T10:10:45.226976",
   "version": "2.3.3"
  }
 },
 "nbformat": 4,
 "nbformat_minor": 5
}