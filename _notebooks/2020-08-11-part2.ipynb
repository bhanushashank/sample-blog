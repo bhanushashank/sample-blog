{
 "cells": [
  {
   "cell_type": "markdown",
   "id": "98380cd3",
   "metadata": {
    "papermill": {
     "duration": 0.030053,
     "end_time": "2022-07-16T20:10:25.332163",
     "exception": false,
     "start_time": "2022-07-16T20:10:25.302110",
     "status": "completed"
    },
    "tags": []
   },
   "source": [
    "# Distinguish Your Own Digits (DYOD)"
   ]
  },
  {
   "cell_type": "markdown",
   "id": "ef31240d",
   "metadata": {
    "papermill": {
     "duration": 0.023895,
     "end_time": "2022-07-16T20:10:25.380646",
     "exception": false,
     "start_time": "2022-07-16T20:10:25.356751",
     "status": "completed"
    },
    "tags": []
   },
   "source": [
    "You are going to write a classifier that distinguishes between the number 3 and number 8."
   ]
  },
  {
   "cell_type": "code",
   "execution_count": 1,
   "id": "b15c8646",
   "metadata": {
    "execution": {
     "iopub.execute_input": "2022-07-16T20:10:25.438797Z",
     "iopub.status.busy": "2022-07-16T20:10:25.438172Z",
     "iopub.status.idle": "2022-07-16T20:10:25.449750Z",
     "shell.execute_reply": "2022-07-16T20:10:25.449268Z"
    },
    "papermill": {
     "duration": 0.045267,
     "end_time": "2022-07-16T20:10:25.449867",
     "exception": false,
     "start_time": "2022-07-16T20:10:25.404600",
     "status": "completed"
    },
    "tags": []
   },
   "outputs": [],
   "source": [
    "%load_ext autoreload\n",
    "%autoreload 2"
   ]
  },
  {
   "cell_type": "code",
   "execution_count": 2,
   "id": "22ef38dc",
   "metadata": {
    "execution": {
     "iopub.execute_input": "2022-07-16T20:10:25.501217Z",
     "iopub.status.busy": "2022-07-16T20:10:25.500639Z",
     "iopub.status.idle": "2022-07-16T20:10:26.025909Z",
     "shell.execute_reply": "2022-07-16T20:10:26.025330Z"
    },
    "papermill": {
     "duration": 0.552428,
     "end_time": "2022-07-16T20:10:26.026047",
     "exception": false,
     "start_time": "2022-07-16T20:10:25.473619",
     "status": "completed"
    },
    "tags": []
   },
   "outputs": [],
   "source": [
    "%matplotlib inline\n",
    "import numpy as np\n",
    "import matplotlib.pyplot as plt\n",
    "import pandas as pd"
   ]
  },
  {
   "cell_type": "markdown",
   "id": "ba036198",
   "metadata": {
    "papermill": {
     "duration": 0.023982,
     "end_time": "2022-07-16T20:10:26.074825",
     "exception": false,
     "start_time": "2022-07-16T20:10:26.050843",
     "status": "completed"
    },
    "tags": []
   },
   "source": [
    "From the command line run `pip install mnist`. This is a library that will help you bring down the mnist dataset. If you run this from a notebook, you need to put  `!pip install mnist` in a cell by itself."
   ]
  },
  {
   "cell_type": "code",
   "execution_count": 3,
   "id": "bb6ad8a1",
   "metadata": {
    "execution": {
     "iopub.execute_input": "2022-07-16T20:10:26.146008Z",
     "iopub.status.busy": "2022-07-16T20:10:26.139592Z",
     "iopub.status.idle": "2022-07-16T20:10:27.929783Z",
     "shell.execute_reply": "2022-07-16T20:10:27.928272Z"
    },
    "papermill": {
     "duration": 1.831116,
     "end_time": "2022-07-16T20:10:27.929931",
     "exception": false,
     "start_time": "2022-07-16T20:10:26.098815",
     "status": "completed"
    },
    "tags": []
   },
   "outputs": [
    {
     "name": "stdout",
     "output_type": "stream",
     "text": [
      "Collecting mnist\r\n"
     ]
    },
    {
     "name": "stdout",
     "output_type": "stream",
     "text": [
      "  Downloading mnist-0.2.2-py2.py3-none-any.whl (3.5 kB)\r\n",
      "Requirement already satisfied: numpy in /opt/hostedtoolcache/Python/3.6.15/x64/lib/python3.6/site-packages (from mnist) (1.19.5)\r\n"
     ]
    },
    {
     "name": "stdout",
     "output_type": "stream",
     "text": [
      "Installing collected packages: mnist\r\n"
     ]
    },
    {
     "name": "stdout",
     "output_type": "stream",
     "text": [
      "Successfully installed mnist-0.2.2\r\n"
     ]
    }
   ],
   "source": [
    "!pip install mnist"
   ]
  },
  {
   "cell_type": "markdown",
   "id": "69df9c9a",
   "metadata": {
    "papermill": {
     "duration": 0.024921,
     "end_time": "2022-07-16T20:10:27.980552",
     "exception": false,
     "start_time": "2022-07-16T20:10:27.955631",
     "status": "completed"
    },
    "tags": []
   },
   "source": [
    "## Preparing the Data"
   ]
  },
  {
   "cell_type": "code",
   "execution_count": 4,
   "id": "7f69d806",
   "metadata": {
    "execution": {
     "iopub.execute_input": "2022-07-16T20:10:28.034419Z",
     "iopub.status.busy": "2022-07-16T20:10:28.033843Z",
     "iopub.status.idle": "2022-07-16T20:10:28.049237Z",
     "shell.execute_reply": "2022-07-16T20:10:28.048689Z"
    },
    "papermill": {
     "duration": 0.044012,
     "end_time": "2022-07-16T20:10:28.049356",
     "exception": false,
     "start_time": "2022-07-16T20:10:28.005344",
     "status": "completed"
    },
    "tags": []
   },
   "outputs": [],
   "source": [
    "import mnist"
   ]
  },
  {
   "cell_type": "code",
   "execution_count": 5,
   "id": "a411e44f",
   "metadata": {
    "execution": {
     "iopub.execute_input": "2022-07-16T20:10:28.103717Z",
     "iopub.status.busy": "2022-07-16T20:10:28.103138Z",
     "iopub.status.idle": "2022-07-16T20:10:28.835522Z",
     "shell.execute_reply": "2022-07-16T20:10:28.834895Z"
    },
    "papermill": {
     "duration": 0.760524,
     "end_time": "2022-07-16T20:10:28.835655",
     "exception": false,
     "start_time": "2022-07-16T20:10:28.075131",
     "status": "completed"
    },
    "tags": []
   },
   "outputs": [],
   "source": [
    "train_images = mnist.train_images()\n",
    "train_labels = mnist.train_labels()"
   ]
  },
  {
   "cell_type": "code",
   "execution_count": 6,
   "id": "dceab3a5",
   "metadata": {
    "execution": {
     "iopub.execute_input": "2022-07-16T20:10:28.894861Z",
     "iopub.status.busy": "2022-07-16T20:10:28.894201Z",
     "iopub.status.idle": "2022-07-16T20:10:28.905902Z",
     "shell.execute_reply": "2022-07-16T20:10:28.906371Z"
    },
    "papermill": {
     "duration": 0.045039,
     "end_time": "2022-07-16T20:10:28.906493",
     "exception": false,
     "start_time": "2022-07-16T20:10:28.861454",
     "status": "completed"
    },
    "tags": []
   },
   "outputs": [
    {
     "data": {
      "text/plain": [
       "((60000, 28, 28), (60000,))"
      ]
     },
     "execution_count": 6,
     "metadata": {},
     "output_type": "execute_result"
    }
   ],
   "source": [
    "train_images.shape, train_labels.shape"
   ]
  },
  {
   "cell_type": "code",
   "execution_count": 7,
   "id": "f50dc2bb",
   "metadata": {
    "execution": {
     "iopub.execute_input": "2022-07-16T20:10:28.961203Z",
     "iopub.status.busy": "2022-07-16T20:10:28.960637Z",
     "iopub.status.idle": "2022-07-16T20:10:29.199372Z",
     "shell.execute_reply": "2022-07-16T20:10:29.198735Z"
    },
    "papermill": {
     "duration": 0.266827,
     "end_time": "2022-07-16T20:10:29.199505",
     "exception": false,
     "start_time": "2022-07-16T20:10:28.932678",
     "status": "completed"
    },
    "tags": []
   },
   "outputs": [],
   "source": [
    "test_images = mnist.test_images()\n",
    "test_labels = mnist.test_labels()"
   ]
  },
  {
   "cell_type": "code",
   "execution_count": 8,
   "id": "fc38cf1b",
   "metadata": {
    "execution": {
     "iopub.execute_input": "2022-07-16T20:10:29.254797Z",
     "iopub.status.busy": "2022-07-16T20:10:29.254180Z",
     "iopub.status.idle": "2022-07-16T20:10:29.267775Z",
     "shell.execute_reply": "2022-07-16T20:10:29.268250Z"
    },
    "papermill": {
     "duration": 0.042394,
     "end_time": "2022-07-16T20:10:29.268373",
     "exception": false,
     "start_time": "2022-07-16T20:10:29.225979",
     "status": "completed"
    },
    "tags": []
   },
   "outputs": [
    {
     "data": {
      "text/plain": [
       "((10000, 28, 28), (10000,))"
      ]
     },
     "execution_count": 8,
     "metadata": {},
     "output_type": "execute_result"
    }
   ],
   "source": [
    "test_images.shape, test_labels.shape"
   ]
  },
  {
   "cell_type": "code",
   "execution_count": 9,
   "id": "f9ed8fe0",
   "metadata": {
    "execution": {
     "iopub.execute_input": "2022-07-16T20:10:29.322564Z",
     "iopub.status.busy": "2022-07-16T20:10:29.321992Z",
     "iopub.status.idle": "2022-07-16T20:10:29.460446Z",
     "shell.execute_reply": "2022-07-16T20:10:29.459976Z"
    },
    "papermill": {
     "duration": 0.166921,
     "end_time": "2022-07-16T20:10:29.460565",
     "exception": false,
     "start_time": "2022-07-16T20:10:29.293644",
     "status": "completed"
    },
    "tags": []
   },
   "outputs": [
    {
     "name": "stdout",
     "output_type": "stream",
     "text": [
      "2\n"
     ]
    },
    {
     "data": {
      "text/plain": [
       "<matplotlib.image.AxesImage at 0x7f8a37959518>"
      ]
     },
     "execution_count": 9,
     "metadata": {},
     "output_type": "execute_result"
    },
    {
     "data": {
      "image/png": "[encoded data removed]",
      "text/plain": [
       "<Figure size 432x288 with 1 Axes>"
      ]
     },
     "metadata": {
      "needs_background": "light"
     },
     "output_type": "display_data"
    }
   ],
   "source": [
    "image_index = 7776 # You may select anything up to 60,000\n",
    "print(train_labels[image_index]) \n",
    "plt.imshow(train_images[image_index], cmap='Greys')"
   ]
  },
  {
   "cell_type": "markdown",
   "id": "a8d2388d",
   "metadata": {
    "papermill": {
     "duration": 0.026736,
     "end_time": "2022-07-16T20:10:29.513999",
     "exception": false,
     "start_time": "2022-07-16T20:10:29.487263",
     "status": "completed"
    },
    "tags": []
   },
   "source": [
    "## Filter data to get 3 and 8 out"
   ]
  },
  {
   "cell_type": "code",
   "execution_count": 10,
   "id": "776f7fc7",
   "metadata": {
    "execution": {
     "iopub.execute_input": "2022-07-16T20:10:29.583110Z",
     "iopub.status.busy": "2022-07-16T20:10:29.570774Z",
     "iopub.status.idle": "2022-07-16T20:10:29.592164Z",
     "shell.execute_reply": "2022-07-16T20:10:29.591403Z"
    },
    "papermill": {
     "duration": 0.051803,
     "end_time": "2022-07-16T20:10:29.592274",
     "exception": false,
     "start_time": "2022-07-16T20:10:29.540471",
     "status": "completed"
    },
    "tags": []
   },
   "outputs": [],
   "source": [
    "train_filter = np.where((train_labels == 3 ) | (train_labels == 8))\n",
    "test_filter = np.where((test_labels == 3) | (test_labels == 8))\n",
    "X_train, y_train = train_images[train_filter], train_labels[train_filter]\n",
    "X_test, y_test = test_images[test_filter], test_labels[test_filter]"
   ]
  },
  {
   "cell_type": "markdown",
   "id": "948f0b7e",
   "metadata": {
    "papermill": {
     "duration": 0.026409,
     "end_time": "2022-07-16T20:10:29.645332",
     "exception": false,
     "start_time": "2022-07-16T20:10:29.618923",
     "status": "completed"
    },
    "tags": []
   },
   "source": [
    "We normalize the pizel values in the 0 to 1 range"
   ]
  },
  {
   "cell_type": "code",
   "execution_count": 11,
   "id": "ee4c2166",
   "metadata": {
    "execution": {
     "iopub.execute_input": "2022-07-16T20:10:29.716314Z",
     "iopub.status.busy": "2022-07-16T20:10:29.701920Z",
     "iopub.status.idle": "2022-07-16T20:10:29.754357Z",
     "shell.execute_reply": "2022-07-16T20:10:29.753439Z"
    },
    "papermill": {
     "duration": 0.082221,
     "end_time": "2022-07-16T20:10:29.754498",
     "exception": false,
     "start_time": "2022-07-16T20:10:29.672277",
     "status": "completed"
    },
    "tags": []
   },
   "outputs": [],
   "source": [
    "X_train = X_train/255.\n",
    "X_test = X_test/255."
   ]
  },
  {
   "cell_type": "markdown",
   "id": "ddcf4fab",
   "metadata": {
    "papermill": {
     "duration": 0.026771,
     "end_time": "2022-07-16T20:10:29.808538",
     "exception": false,
     "start_time": "2022-07-16T20:10:29.781767",
     "status": "completed"
    },
    "tags": []
   },
   "source": [
    "And setup the labels as 1 (when the digit is 3) and 0 (when the digit is 8)"
   ]
  },
  {
   "cell_type": "code",
   "execution_count": 12,
   "id": "7dc908f2",
   "metadata": {
    "execution": {
     "iopub.execute_input": "2022-07-16T20:10:29.875613Z",
     "iopub.status.busy": "2022-07-16T20:10:29.864691Z",
     "iopub.status.idle": "2022-07-16T20:10:29.881571Z",
     "shell.execute_reply": "2022-07-16T20:10:29.880785Z"
    },
    "papermill": {
     "duration": 0.046704,
     "end_time": "2022-07-16T20:10:29.881688",
     "exception": false,
     "start_time": "2022-07-16T20:10:29.834984",
     "status": "completed"
    },
    "tags": []
   },
   "outputs": [],
   "source": [
    "y_train = 1*(y_train==3)\n",
    "y_test = 1*(y_test==3)"
   ]
  },
  {
   "cell_type": "code",
   "execution_count": 13,
   "id": "01e4e969",
   "metadata": {
    "execution": {
     "iopub.execute_input": "2022-07-16T20:10:29.938288Z",
     "iopub.status.busy": "2022-07-16T20:10:29.937716Z",
     "iopub.status.idle": "2022-07-16T20:10:29.951463Z",
     "shell.execute_reply": "2022-07-16T20:10:29.950886Z"
    },
    "papermill": {
     "duration": 0.043183,
     "end_time": "2022-07-16T20:10:29.951568",
     "exception": false,
     "start_time": "2022-07-16T20:10:29.908385",
     "status": "completed"
    },
    "tags": []
   },
   "outputs": [
    {
     "data": {
      "text/plain": [
       "((11982, 28, 28), (1984, 28, 28))"
      ]
     },
     "execution_count": 13,
     "metadata": {},
     "output_type": "execute_result"
    }
   ],
   "source": [
    "X_train.shape, X_test.shape"
   ]
  },
  {
   "cell_type": "markdown",
   "id": "5ccf3f85",
   "metadata": {
    "papermill": {
     "duration": 0.026763,
     "end_time": "2022-07-16T20:10:30.004812",
     "exception": false,
     "start_time": "2022-07-16T20:10:29.978049",
     "status": "completed"
    },
    "tags": []
   },
   "source": [
    "We reshape the data to flatten the image pixels into a set of features or co-variates:"
   ]
  },
  {
   "cell_type": "code",
   "execution_count": 14,
   "id": "5286a4a3",
   "metadata": {
    "execution": {
     "iopub.execute_input": "2022-07-16T20:10:30.078049Z",
     "iopub.status.busy": "2022-07-16T20:10:30.077469Z",
     "iopub.status.idle": "2022-07-16T20:10:30.084350Z",
     "shell.execute_reply": "2022-07-16T20:10:30.083275Z"
    },
    "papermill": {
     "duration": 0.052898,
     "end_time": "2022-07-16T20:10:30.084462",
     "exception": false,
     "start_time": "2022-07-16T20:10:30.031564",
     "status": "completed"
    },
    "tags": []
   },
   "outputs": [
    {
     "data": {
      "text/plain": [
       "((11982, 784), (1984, 784))"
      ]
     },
     "execution_count": 14,
     "metadata": {},
     "output_type": "execute_result"
    }
   ],
   "source": [
    "X_train = X_train.reshape(X_train.shape[0], -1)\n",
    "X_test = X_test.reshape(X_test.shape[0], -1)\n",
    "X_train.shape, X_test.shape"
   ]
  },
  {
   "cell_type": "code",
   "execution_count": 15,
   "id": "73c5f88a",
   "metadata": {
    "execution": {
     "iopub.execute_input": "2022-07-16T20:10:30.152457Z",
     "iopub.status.busy": "2022-07-16T20:10:30.151464Z",
     "iopub.status.idle": "2022-07-16T20:10:30.164278Z",
     "shell.execute_reply": "2022-07-16T20:10:30.164700Z"
    },
    "papermill": {
     "duration": 0.053425,
     "end_time": "2022-07-16T20:10:30.164823",
     "exception": false,
     "start_time": "2022-07-16T20:10:30.111398",
     "status": "completed"
    },
    "tags": []
   },
   "outputs": [],
   "source": [
    "#Impoting functions from 'Kudzu'\n",
    "from kudzu.model import Model\n",
    "from kudzu.train import Learner\n",
    "from kudzu.optim import GD\n",
    "from kudzu.data import Data, Sampler,Dataloader\n",
    "\n",
    "from kudzu.callbacks import AccCallback\n",
    "from kudzu.callbacks import ClfCallback\n",
    "\n",
    "from kudzu.loss import MSE\n",
    "\n",
    "from kudzu.layer import Sigmoid,Relu\n",
    "from kudzu.layer import Affine"
   ]
  },
  {
   "cell_type": "markdown",
   "id": "bc01172a",
   "metadata": {
    "papermill": {
     "duration": 0.026932,
     "end_time": "2022-07-16T20:10:30.218819",
     "exception": false,
     "start_time": "2022-07-16T20:10:30.191887",
     "status": "completed"
    },
    "tags": []
   },
   "source": [
    "### Let us create a `Config` class, to store important parameters. \n",
    "This class essentially plays the role of a dictionary."
   ]
  },
  {
   "cell_type": "code",
   "execution_count": 16,
   "id": "978281aa",
   "metadata": {
    "execution": {
     "iopub.execute_input": "2022-07-16T20:10:30.287250Z",
     "iopub.status.busy": "2022-07-16T20:10:30.276130Z",
     "iopub.status.idle": "2022-07-16T20:10:30.289950Z",
     "shell.execute_reply": "2022-07-16T20:10:30.289476Z"
    },
    "papermill": {
     "duration": 0.044354,
     "end_time": "2022-07-16T20:10:30.290055",
     "exception": false,
     "start_time": "2022-07-16T20:10:30.245701",
     "status": "completed"
    },
    "tags": []
   },
   "outputs": [],
   "source": [
    "class Config:\n",
    "    pass\n",
    "config = Config()\n",
    "config.lr = 0.001\n",
    "config.num_epochs = 250\n",
    "config.bs = 50"
   ]
  },
  {
   "cell_type": "markdown",
   "id": "1385fa59",
   "metadata": {
    "papermill": {
     "duration": 0.026988,
     "end_time": "2022-07-16T20:10:30.344133",
     "exception": false,
     "start_time": "2022-07-16T20:10:30.317145",
     "status": "completed"
    },
    "tags": []
   },
   "source": [
    "### Running Models with the Training data\n",
    "Details about the network layers:\n",
    "- A first affine layer has 784 inputs and does 100 affine transforms. These are followed by a Relu\n",
    "- A second affine layer has 100 inputs from the 100 activations of the past layer, and does 100 affine transforms. These are followed by a Relu\n",
    "- A third affine layer has 100 activations and does 2 affine transformations to create an embedding for visualization. There is no non-linearity here.\n",
    "- A final \"logistic regression\" which has an affine transform from 2 inputs to 1 output, which is squeezed through a sigmoid.\n"
   ]
  },
  {
   "cell_type": "code",
   "execution_count": 17,
   "id": "2b9c66db",
   "metadata": {
    "execution": {
     "iopub.execute_input": "2022-07-16T20:10:30.415352Z",
     "iopub.status.busy": "2022-07-16T20:10:30.411523Z",
     "iopub.status.idle": "2022-07-16T20:10:30.418072Z",
     "shell.execute_reply": "2022-07-16T20:10:30.417596Z"
    },
    "papermill": {
     "duration": 0.046975,
     "end_time": "2022-07-16T20:10:30.418177",
     "exception": false,
     "start_time": "2022-07-16T20:10:30.371202",
     "status": "completed"
    },
    "tags": []
   },
   "outputs": [],
   "source": [
    "data = Data(X_train, y_train.reshape(-1,1))\n",
    "sampler = Sampler(data, config.bs, shuffle=True)\n",
    "\n",
    "dl = Dataloader(data, sampler)\n",
    "\n",
    "opt = GD(config.lr)\n",
    "loss = MSE()"
   ]
  },
  {
   "cell_type": "code",
   "execution_count": 18,
   "id": "b275e4c2",
   "metadata": {
    "execution": {
     "iopub.execute_input": "2022-07-16T20:10:30.476093Z",
     "iopub.status.busy": "2022-07-16T20:10:30.475517Z",
     "iopub.status.idle": "2022-07-16T20:10:30.488170Z",
     "shell.execute_reply": "2022-07-16T20:10:30.487697Z"
    },
    "papermill": {
     "duration": 0.04296,
     "end_time": "2022-07-16T20:10:30.488273",
     "exception": false,
     "start_time": "2022-07-16T20:10:30.445313",
     "status": "completed"
    },
    "tags": []
   },
   "outputs": [],
   "source": [
    "training_data_x = X_train\n",
    "testing_data_x = X_test\n",
    "training_data_y = y_train.reshape(-1,1)\n",
    "testing_data_y = y_test.reshape(-1,1)"
   ]
  },
  {
   "cell_type": "code",
   "execution_count": 19,
   "id": "76951160",
   "metadata": {
    "execution": {
     "iopub.execute_input": "2022-07-16T20:10:30.546515Z",
     "iopub.status.busy": "2022-07-16T20:10:30.545929Z",
     "iopub.status.idle": "2022-07-16T20:10:30.562757Z",
     "shell.execute_reply": "2022-07-16T20:10:30.562166Z"
    },
    "papermill": {
     "duration": 0.047753,
     "end_time": "2022-07-16T20:10:30.562865",
     "exception": false,
     "start_time": "2022-07-16T20:10:30.515112",
     "status": "completed"
    },
    "tags": []
   },
   "outputs": [
    {
     "name": "stdout",
     "output_type": "stream",
     "text": [
      "xavier\n",
      "xavier\n",
      "xavier\n",
      "xavier\n",
      "xavier\n"
     ]
    }
   ],
   "source": [
    "layers = [Affine(\"first\", 784, 100), Relu(\"first\"), Affine(\"second\", 100, 100), Relu(\"second\"), Affine(\"third\", 100, 2), Affine(\"last\", 2, 1), Sigmoid(\"last\")]\n",
    "model_nn = Model(layers)\n",
    "model_lr = Model([Affine(\"logits\", 784, 1), Sigmoid(\"sigmoid\")])"
   ]
  },
  {
   "cell_type": "code",
   "execution_count": 20,
   "id": "6eede77a",
   "metadata": {
    "execution": {
     "iopub.execute_input": "2022-07-16T20:10:30.621216Z",
     "iopub.status.busy": "2022-07-16T20:10:30.620643Z",
     "iopub.status.idle": "2022-07-16T20:10:30.632729Z",
     "shell.execute_reply": "2022-07-16T20:10:30.632254Z"
    },
    "papermill": {
     "duration": 0.042505,
     "end_time": "2022-07-16T20:10:30.632834",
     "exception": false,
     "start_time": "2022-07-16T20:10:30.590329",
     "status": "completed"
    },
    "tags": []
   },
   "outputs": [],
   "source": [
    "nn_learner = Learner(loss, model_nn, opt, config.num_epochs)\n",
    "acc_nn = ClfCallback(nn_learner, config.bs, training_data_x , testing_data_x, training_data_y, testing_data_y)\n",
    "nn_learner.set_callbacks([acc_nn])"
   ]
  },
  {
   "cell_type": "code",
   "execution_count": 21,
   "id": "877b6cc7",
   "metadata": {
    "execution": {
     "iopub.execute_input": "2022-07-16T20:10:30.695830Z",
     "iopub.status.busy": "2022-07-16T20:10:30.695260Z",
     "iopub.status.idle": "2022-07-16T20:10:30.705132Z",
     "shell.execute_reply": "2022-07-16T20:10:30.704649Z"
    },
    "papermill": {
     "duration": 0.045036,
     "end_time": "2022-07-16T20:10:30.705239",
     "exception": false,
     "start_time": "2022-07-16T20:10:30.660203",
     "status": "completed"
    },
    "tags": []
   },
   "outputs": [],
   "source": [
    "lr_learner = Learner(loss, model_lr, opt, config.num_epochs)\n",
    "acc_lr = ClfCallback(lr_learner, config.bs, training_data_x , testing_data_x, training_data_y, testing_data_y)\n",
    "lr_learner.set_callbacks([acc_lr])"
   ]
  },
  {
   "cell_type": "code",
   "execution_count": 22,
   "id": "d9b133c3",
   "metadata": {
    "execution": {
     "iopub.execute_input": "2022-07-16T20:10:30.763334Z",
     "iopub.status.busy": "2022-07-16T20:10:30.762751Z",
     "iopub.status.idle": "2022-07-16T20:11:43.589978Z",
     "shell.execute_reply": "2022-07-16T20:11:43.590826Z"
    },
    "papermill": {
     "duration": 72.858381,
     "end_time": "2022-07-16T20:11:43.590974",
     "exception": false,
     "start_time": "2022-07-16T20:10:30.732593",
     "status": "completed"
    },
    "tags": []
   },
   "outputs": [
    {
     "name": "stdout",
     "output_type": "stream",
     "text": [
      "Epoch 0, Loss 0.2559\n",
      "Training Accuracy: 0.6063, Testing Accuracy: 0.6512\n",
      "\n"
     ]
    },
    {
     "name": "stdout",
     "output_type": "stream",
     "text": [
      "Epoch 10, Loss 0.0954\n",
      "Training Accuracy: 0.9101, Testing Accuracy: 0.9219\n",
      "\n"
     ]
    },
    {
     "name": "stdout",
     "output_type": "stream",
     "text": [
      "Epoch 20, Loss 0.0581\n",
      "Training Accuracy: 0.9385, Testing Accuracy: 0.9511\n",
      "\n"
     ]
    },
    {
     "name": "stdout",
     "output_type": "stream",
     "text": [
      "Epoch 30, Loss 0.0451\n",
      "Training Accuracy: 0.9499, Testing Accuracy: 0.9622\n",
      "\n"
     ]
    },
    {
     "name": "stdout",
     "output_type": "stream",
     "text": [
      "Epoch 40, Loss 0.0387\n",
      "Training Accuracy: 0.9559, Testing Accuracy: 0.9662\n",
      "\n"
     ]
    },
    {
     "name": "stdout",
     "output_type": "stream",
     "text": [
      "Epoch 50, Loss 0.0348\n",
      "Training Accuracy: 0.9600, Testing Accuracy: 0.9682\n",
      "\n"
     ]
    },
    {
     "name": "stdout",
     "output_type": "stream",
     "text": [
      "Epoch 60, Loss 0.0322\n",
      "Training Accuracy: 0.9624, Testing Accuracy: 0.9688\n",
      "\n"
     ]
    },
    {
     "name": "stdout",
     "output_type": "stream",
     "text": [
      "Epoch 70, Loss 0.0302\n",
      "Training Accuracy: 0.9649, Testing Accuracy: 0.9693\n",
      "\n"
     ]
    },
    {
     "name": "stdout",
     "output_type": "stream",
     "text": [
      "Epoch 80, Loss 0.0287\n",
      "Training Accuracy: 0.9670, Testing Accuracy: 0.9713\n",
      "\n"
     ]
    },
    {
     "name": "stdout",
     "output_type": "stream",
     "text": [
      "Epoch 90, Loss 0.0274\n",
      "Training Accuracy: 0.9681, Testing Accuracy: 0.9723\n",
      "\n"
     ]
    },
    {
     "name": "stdout",
     "output_type": "stream",
     "text": [
      "Epoch 100, Loss 0.0264\n",
      "Training Accuracy: 0.9687, Testing Accuracy: 0.9733\n",
      "\n"
     ]
    },
    {
     "name": "stdout",
     "output_type": "stream",
     "text": [
      "Epoch 110, Loss 0.0254\n",
      "Training Accuracy: 0.9698, Testing Accuracy: 0.9733\n",
      "\n"
     ]
    },
    {
     "name": "stdout",
     "output_type": "stream",
     "text": [
      "Epoch 120, Loss 0.0246\n",
      "Training Accuracy: 0.9711, Testing Accuracy: 0.9733\n",
      "\n"
     ]
    },
    {
     "name": "stdout",
     "output_type": "stream",
     "text": [
      "Epoch 130, Loss 0.0239\n",
      "Training Accuracy: 0.9720, Testing Accuracy: 0.9723\n",
      "\n"
     ]
    },
    {
     "name": "stdout",
     "output_type": "stream",
     "text": [
      "Epoch 140, Loss 0.0232\n",
      "Training Accuracy: 0.9729, Testing Accuracy: 0.9718\n",
      "\n"
     ]
    },
    {
     "name": "stdout",
     "output_type": "stream",
     "text": [
      "Epoch 150, Loss 0.0226\n",
      "Training Accuracy: 0.9739, Testing Accuracy: 0.9723\n",
      "\n"
     ]
    },
    {
     "name": "stdout",
     "output_type": "stream",
     "text": [
      "Epoch 160, Loss 0.022\n",
      "Training Accuracy: 0.9745, Testing Accuracy: 0.9728\n",
      "\n"
     ]
    },
    {
     "name": "stdout",
     "output_type": "stream",
     "text": [
      "Epoch 170, Loss 0.0215\n",
      "Training Accuracy: 0.9754, Testing Accuracy: 0.9733\n",
      "\n"
     ]
    },
    {
     "name": "stdout",
     "output_type": "stream",
     "text": [
      "Epoch 180, Loss 0.021\n",
      "Training Accuracy: 0.9760, Testing Accuracy: 0.9733\n",
      "\n"
     ]
    },
    {
     "name": "stdout",
     "output_type": "stream",
     "text": [
      "Epoch 190, Loss 0.0205\n",
      "Training Accuracy: 0.9763, Testing Accuracy: 0.9738\n",
      "\n"
     ]
    },
    {
     "name": "stdout",
     "output_type": "stream",
     "text": [
      "Epoch 200, Loss 0.0201\n",
      "Training Accuracy: 0.9770, Testing Accuracy: 0.9738\n",
      "\n"
     ]
    },
    {
     "name": "stdout",
     "output_type": "stream",
     "text": [
      "Epoch 210, Loss 0.0197\n",
      "Training Accuracy: 0.9772, Testing Accuracy: 0.9743\n",
      "\n"
     ]
    },
    {
     "name": "stdout",
     "output_type": "stream",
     "text": [
      "Epoch 220, Loss 0.0193\n",
      "Training Accuracy: 0.9779, Testing Accuracy: 0.9748\n",
      "\n"
     ]
    },
    {
     "name": "stdout",
     "output_type": "stream",
     "text": [
      "Epoch 230, Loss 0.0189\n",
      "Training Accuracy: 0.9786, Testing Accuracy: 0.9738\n",
      "\n"
     ]
    },
    {
     "name": "stdout",
     "output_type": "stream",
     "text": [
      "Epoch 240, Loss 0.0185\n",
      "Training Accuracy: 0.9791, Testing Accuracy: 0.9753\n",
      "\n"
     ]
    },
    {
     "data": {
      "text/plain": [
       "0.002579412671898532"
      ]
     },
     "execution_count": 22,
     "metadata": {},
     "output_type": "execute_result"
    }
   ],
   "source": [
    "nn_learner.train_loop(dl)"
   ]
  },
  {
   "cell_type": "code",
   "execution_count": 23,
   "id": "e0163366",
   "metadata": {
    "execution": {
     "iopub.execute_input": "2022-07-16T20:11:43.671889Z",
     "iopub.status.busy": "2022-07-16T20:11:43.671309Z",
     "iopub.status.idle": "2022-07-16T20:11:56.710931Z",
     "shell.execute_reply": "2022-07-16T20:11:56.711758Z"
    },
    "papermill": {
     "duration": 13.085676,
     "end_time": "2022-07-16T20:11:56.711906",
     "exception": false,
     "start_time": "2022-07-16T20:11:43.626230",
     "status": "completed"
    },
    "tags": []
   },
   "outputs": [
    {
     "name": "stdout",
     "output_type": "stream",
     "text": [
      "Epoch 0, Loss 0.2389\n",
      "Training Accuracy: 0.7237, Testing Accuracy: 0.7500\n",
      "\n"
     ]
    },
    {
     "name": "stdout",
     "output_type": "stream",
     "text": [
      "Epoch 10, Loss 0.0992\n",
      "Training Accuracy: 0.9186, Testing Accuracy: 0.9340\n",
      "\n"
     ]
    },
    {
     "name": "stdout",
     "output_type": "stream",
     "text": [
      "Epoch 20, Loss 0.0769\n",
      "Training Accuracy: 0.9312, Testing Accuracy: 0.9461\n",
      "\n"
     ]
    },
    {
     "name": "stdout",
     "output_type": "stream",
     "text": [
      "Epoch 30, Loss 0.0666\n",
      "Training Accuracy: 0.9388, Testing Accuracy: 0.9491\n",
      "\n"
     ]
    },
    {
     "name": "stdout",
     "output_type": "stream",
     "text": [
      "Epoch 40, Loss 0.0603\n",
      "Training Accuracy: 0.9448, Testing Accuracy: 0.9531\n",
      "\n"
     ]
    },
    {
     "name": "stdout",
     "output_type": "stream",
     "text": [
      "Epoch 50, Loss 0.056\n",
      "Training Accuracy: 0.9473, Testing Accuracy: 0.9561\n",
      "\n"
     ]
    },
    {
     "name": "stdout",
     "output_type": "stream",
     "text": [
      "Epoch 60, Loss 0.0529\n",
      "Training Accuracy: 0.9483, Testing Accuracy: 0.9577\n",
      "\n"
     ]
    },
    {
     "name": "stdout",
     "output_type": "stream",
     "text": [
      "Epoch 70, Loss 0.0504\n",
      "Training Accuracy: 0.9506, Testing Accuracy: 0.9612\n",
      "\n"
     ]
    },
    {
     "name": "stdout",
     "output_type": "stream",
     "text": [
      "Epoch 80, Loss 0.0484\n",
      "Training Accuracy: 0.9523, Testing Accuracy: 0.9622\n",
      "\n"
     ]
    },
    {
     "name": "stdout",
     "output_type": "stream",
     "text": [
      "Epoch 90, Loss 0.0468\n",
      "Training Accuracy: 0.9532, Testing Accuracy: 0.9627\n",
      "\n"
     ]
    },
    {
     "name": "stdout",
     "output_type": "stream",
     "text": [
      "Epoch 100, Loss 0.0455\n",
      "Training Accuracy: 0.9548, Testing Accuracy: 0.9642\n",
      "\n"
     ]
    },
    {
     "name": "stdout",
     "output_type": "stream",
     "text": [
      "Epoch 110, Loss 0.0443\n",
      "Training Accuracy: 0.9556, Testing Accuracy: 0.9652\n",
      "\n"
     ]
    },
    {
     "name": "stdout",
     "output_type": "stream",
     "text": [
      "Epoch 120, Loss 0.0433\n",
      "Training Accuracy: 0.9566, Testing Accuracy: 0.9647\n",
      "\n"
     ]
    },
    {
     "name": "stdout",
     "output_type": "stream",
     "text": [
      "Epoch 130, Loss 0.0424\n",
      "Training Accuracy: 0.9573, Testing Accuracy: 0.9642\n",
      "\n"
     ]
    },
    {
     "name": "stdout",
     "output_type": "stream",
     "text": [
      "Epoch 140, Loss 0.0415\n",
      "Training Accuracy: 0.9577, Testing Accuracy: 0.9647\n",
      "\n"
     ]
    },
    {
     "name": "stdout",
     "output_type": "stream",
     "text": [
      "Epoch 150, Loss 0.0408\n",
      "Training Accuracy: 0.9584, Testing Accuracy: 0.9647\n",
      "\n"
     ]
    },
    {
     "name": "stdout",
     "output_type": "stream",
     "text": [
      "Epoch 160, Loss 0.0402\n",
      "Training Accuracy: 0.9587, Testing Accuracy: 0.9657\n",
      "\n"
     ]
    },
    {
     "name": "stdout",
     "output_type": "stream",
     "text": [
      "Epoch 170, Loss 0.0396\n",
      "Training Accuracy: 0.9592, Testing Accuracy: 0.9657\n",
      "\n"
     ]
    },
    {
     "name": "stdout",
     "output_type": "stream",
     "text": [
      "Epoch 180, Loss 0.039\n",
      "Training Accuracy: 0.9594, Testing Accuracy: 0.9657\n",
      "\n"
     ]
    },
    {
     "name": "stdout",
     "output_type": "stream",
     "text": [
      "Epoch 190, Loss 0.0385\n",
      "Training Accuracy: 0.9600, Testing Accuracy: 0.9662\n",
      "\n"
     ]
    },
    {
     "name": "stdout",
     "output_type": "stream",
     "text": [
      "Epoch 200, Loss 0.0381\n",
      "Training Accuracy: 0.9605, Testing Accuracy: 0.9662\n",
      "\n"
     ]
    },
    {
     "name": "stdout",
     "output_type": "stream",
     "text": [
      "Epoch 210, Loss 0.0376\n",
      "Training Accuracy: 0.9609, Testing Accuracy: 0.9662\n",
      "\n"
     ]
    },
    {
     "name": "stdout",
     "output_type": "stream",
     "text": [
      "Epoch 220, Loss 0.0372\n",
      "Training Accuracy: 0.9611, Testing Accuracy: 0.9662\n",
      "\n"
     ]
    },
    {
     "name": "stdout",
     "output_type": "stream",
     "text": [
      "Epoch 230, Loss 0.0369\n",
      "Training Accuracy: 0.9614, Testing Accuracy: 0.9667\n",
      "\n"
     ]
    },
    {
     "name": "stdout",
     "output_type": "stream",
     "text": [
      "Epoch 240, Loss 0.0365\n",
      "Training Accuracy: 0.9616, Testing Accuracy: 0.9672\n",
      "\n"
     ]
    },
    {
     "data": {
      "text/plain": [
       "0.0097239803508278"
      ]
     },
     "execution_count": 23,
     "metadata": {},
     "output_type": "execute_result"
    }
   ],
   "source": [
    "lr_learner.train_loop(dl)"
   ]
  },
  {
   "cell_type": "code",
   "execution_count": 24,
   "id": "ca410940",
   "metadata": {
    "execution": {
     "iopub.execute_input": "2022-07-16T20:11:56.804702Z",
     "iopub.status.busy": "2022-07-16T20:11:56.804110Z",
     "iopub.status.idle": "2022-07-16T20:11:57.036713Z",
     "shell.execute_reply": "2022-07-16T20:11:57.035885Z"
    },
    "papermill": {
     "duration": 0.282813,
     "end_time": "2022-07-16T20:11:57.036841",
     "exception": false,
     "start_time": "2022-07-16T20:11:56.754028",
     "status": "completed"
    },
    "tags": []
   },
   "outputs": [
    {
     "data": {
      "text/plain": [
       "<matplotlib.legend.Legend at 0x7f8a374bbac8>"
      ]
     },
     "execution_count": 24,
     "metadata": {},
     "output_type": "execute_result"
    },
    {
     "data": {
      "image/png": "[encoded data removed]",
      "text/plain": [
       "<Figure size 1080x720 with 1 Axes>"
      ]
     },
     "metadata": {
      "needs_background": "light"
     },
     "output_type": "display_data"
    }
   ],
   "source": [
    "#comparing the results of NN and LR\n",
    "plt.figure(figsize=(15,10))\n",
    "\n",
    "# Neural Network plots\n",
    "plt.plot(acc_nn.accuracies, 'r-', label = \"Training Accuracies - NN\")\n",
    "plt.plot(acc_nn.test_accuracies, 'g-', label = \"Testing Accuracies - NN\")\n",
    "\n",
    "# Logistic Regression plots\n",
    "plt.plot(acc_lr.accuracies, 'k-', label = \"Training Accuracies - LR\")\n",
    "plt.plot(acc_lr.test_accuracies, 'b-', label = \"Testing Accuracies - LR\")\n",
    "plt.legend()"
   ]
  },
  {
   "cell_type": "markdown",
   "id": "80dfb35c",
   "metadata": {
    "papermill": {
     "duration": 0.042168,
     "end_time": "2022-07-16T20:11:57.125695",
     "exception": false,
     "start_time": "2022-07-16T20:11:57.083527",
     "status": "completed"
    },
    "tags": []
   },
   "source": [
    "#### Plotting the outputs of this layer of the NN.\n"
   ]
  },
  {
   "cell_type": "code",
   "execution_count": 25,
   "id": "45eb2ff5",
   "metadata": {
    "execution": {
     "iopub.execute_input": "2022-07-16T20:11:57.218272Z",
     "iopub.status.busy": "2022-07-16T20:11:57.217679Z",
     "iopub.status.idle": "2022-07-16T20:11:57.236912Z",
     "shell.execute_reply": "2022-07-16T20:11:57.237365Z"
    },
    "papermill": {
     "duration": 0.069743,
     "end_time": "2022-07-16T20:11:57.237494",
     "exception": false,
     "start_time": "2022-07-16T20:11:57.167751",
     "status": "completed"
    },
    "tags": []
   },
   "outputs": [],
   "source": [
    "new_model = Model(layers[:-2])\n",
    "testing_plot = new_model(testing_data_x)"
   ]
  },
  {
   "cell_type": "code",
   "execution_count": 26,
   "id": "4c0a5485",
   "metadata": {
    "execution": {
     "iopub.execute_input": "2022-07-16T20:11:57.337523Z",
     "iopub.status.busy": "2022-07-16T20:11:57.335498Z",
     "iopub.status.idle": "2022-07-16T20:11:57.524505Z",
     "shell.execute_reply": "2022-07-16T20:11:57.523997Z"
    },
    "papermill": {
     "duration": 0.236656,
     "end_time": "2022-07-16T20:11:57.524623",
     "exception": false,
     "start_time": "2022-07-16T20:11:57.287967",
     "status": "completed"
    },
    "tags": []
   },
   "outputs": [
    {
     "data": {
      "text/plain": [
       "Text(0.5, 1.0, 'Outputs')"
      ]
     },
     "execution_count": 26,
     "metadata": {},
     "output_type": "execute_result"
    },
    {
     "data": {
      "image/png": "[encoded data removed]",
      "text/plain": [
       "<Figure size 576x504 with 1 Axes>"
      ]
     },
     "metadata": {
      "needs_background": "light"
     },
     "output_type": "display_data"
    }
   ],
   "source": [
    "# Plotting the scatter plot of points and color coding by class\n",
    "plt.figure(figsize=(8,7))\n",
    "plt.scatter(testing_plot[:,0], testing_plot[:,1], alpha = 0.1, c = y_test.ravel());\n",
    "plt.title('Outputs')"
   ]
  },
  {
   "cell_type": "markdown",
   "id": "a74fcf8f",
   "metadata": {
    "papermill": {
     "duration": 0.048402,
     "end_time": "2022-07-16T20:11:57.617688",
     "exception": false,
     "start_time": "2022-07-16T20:11:57.569286",
     "status": "completed"
    },
    "tags": []
   },
   "source": [
    "Probability contours"
   ]
  },
  {
   "cell_type": "code",
   "execution_count": 27,
   "id": "d0afc8e3",
   "metadata": {
    "execution": {
     "iopub.execute_input": "2022-07-16T20:11:57.741129Z",
     "iopub.status.busy": "2022-07-16T20:11:57.740519Z",
     "iopub.status.idle": "2022-07-16T20:11:57.754057Z",
     "shell.execute_reply": "2022-07-16T20:11:57.753539Z"
    },
    "papermill": {
     "duration": 0.092115,
     "end_time": "2022-07-16T20:11:57.754172",
     "exception": false,
     "start_time": "2022-07-16T20:11:57.662057",
     "status": "completed"
    },
    "tags": []
   },
   "outputs": [],
   "source": [
    "model_prob = Model(layers[-2:]) "
   ]
  },
  {
   "cell_type": "code",
   "execution_count": 28,
   "id": "9b96e238",
   "metadata": {
    "execution": {
     "iopub.execute_input": "2022-07-16T20:11:57.854385Z",
     "iopub.status.busy": "2022-07-16T20:11:57.853681Z",
     "iopub.status.idle": "2022-07-16T20:11:57.867108Z",
     "shell.execute_reply": "2022-07-16T20:11:57.867537Z"
    },
    "papermill": {
     "duration": 0.063609,
     "end_time": "2022-07-16T20:11:57.867670",
     "exception": false,
     "start_time": "2022-07-16T20:11:57.804061",
     "status": "completed"
    },
    "tags": []
   },
   "outputs": [],
   "source": [
    "#creating the x and y ranges according to the above generated plot.\n",
    "x_range = np.linspace(-4, 1, 100) \n",
    "y_range = np.linspace(-6, 6, 100) \n",
    "x_grid, y_grid = np.meshgrid(x_range, y_range) # x_grid and y_grig are of size 100 X 100\n",
    "\n",
    "# converting x_grid and y_grid to continuous arrays\n",
    "x_gridflat = np.ravel(x_grid)\n",
    "y_gridflat = np.ravel(y_grid)\n",
    "\n",
    "# The last layer of the current model takes two columns as input. Hence transpose of np.vstack() is required.\n",
    "X = np.vstack((x_gridflat, y_gridflat)).T\n",
    "\n",
    "prob_contour = model_prob(X).reshape(100,100) "
   ]
  },
  {
   "cell_type": "code",
   "execution_count": 29,
   "id": "da72499a",
   "metadata": {
    "execution": {
     "iopub.execute_input": "2022-07-16T20:11:57.967759Z",
     "iopub.status.busy": "2022-07-16T20:11:57.967176Z",
     "iopub.status.idle": "2022-07-16T20:11:58.201418Z",
     "shell.execute_reply": "2022-07-16T20:11:58.201855Z"
    },
    "papermill": {
     "duration": 0.285666,
     "end_time": "2022-07-16T20:11:58.202001",
     "exception": false,
     "start_time": "2022-07-16T20:11:57.916335",
     "status": "completed"
    },
    "tags": []
   },
   "outputs": [
    {
     "data": {
      "image/png": "[encoded data removed]",
      "text/plain": [
       "<Figure size 720x648 with 1 Axes>"
      ]
     },
     "metadata": {
      "needs_background": "light"
     },
     "output_type": "display_data"
    }
   ],
   "source": [
    "plt.figure(figsize=(10,9))\n",
    "plt.scatter(testing_plot[:,0], testing_plot[:,1], alpha = 0.1, c = y_test.ravel())\n",
    "contours = plt.contour(x_grid,y_grid,prob_contour)\n",
    "plt.title('Probability Contours')\n",
    "plt.clabel(contours, inline = True );"
   ]
  },
  {
   "cell_type": "code",
   "execution_count": null,
   "id": "e81b4ac7",
   "metadata": {
    "papermill": {
     "duration": 0.047068,
     "end_time": "2022-07-16T20:11:58.296350",
     "exception": false,
     "start_time": "2022-07-16T20:11:58.249282",
     "status": "completed"
    },
    "tags": []
   },
   "outputs": [],
   "source": []
  }
 ],
 "metadata": {
  "kernelspec": {
   "display_name": "Python 3",
   "language": "python",
   "name": "python3"
  },
  "language_info": {
   "codemirror_mode": {
    "name": "ipython",
    "version": 3
   },
   "file_extension": ".py",
   "mimetype": "text/x-python",
   "name": "python",
   "nbconvert_exporter": "python",
   "pygments_lexer": "ipython3",
   "version": "3.6.15"
  },
  "papermill": {
   "default_parameters": {},
   "duration": 94.289989,
   "end_time": "2022-07-16T20:11:58.661449",
   "environment_variables": {},
   "exception": null,
   "input_path": "2020-08-11-part2.ipynb",
   "output_path": "2020-08-11-part2.ipynb",
   "parameters": {},
   "start_time": "2022-07-16T20:10:24.371460",
   "version": "2.3.3"
  }
 },
 "nbformat": 4,
 "nbformat_minor": 5
}