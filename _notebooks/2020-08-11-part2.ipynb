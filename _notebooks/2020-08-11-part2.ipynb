{
 "cells": [
  {
   "cell_type": "markdown",
   "id": "98380cd3",
   "metadata": {
    "papermill": {
     "duration": 0.037561,
     "end_time": "2022-03-06T10:08:39.575443",
     "exception": false,
     "start_time": "2022-03-06T10:08:39.537882",
     "status": "completed"
    },
    "tags": []
   },
   "source": [
    "# Distinguish Your Own Digits (DYOD)"
   ]
  },
  {
   "cell_type": "markdown",
   "id": "ef31240d",
   "metadata": {
    "papermill": {
     "duration": 0.036054,
     "end_time": "2022-03-06T10:08:39.643677",
     "exception": false,
     "start_time": "2022-03-06T10:08:39.607623",
     "status": "completed"
    },
    "tags": []
   },
   "source": [
    "You are going to write a classifier that distinguishes between the number 3 and number 8."
   ]
  },
  {
   "cell_type": "code",
   "execution_count": 1,
   "id": "b15c8646",
   "metadata": {
    "execution": {
     "iopub.execute_input": "2022-03-06T10:08:39.723811Z",
     "iopub.status.busy": "2022-03-06T10:08:39.723037Z",
     "iopub.status.idle": "2022-03-06T10:08:39.740335Z",
     "shell.execute_reply": "2022-03-06T10:08:39.740910Z"
    },
    "papermill": {
     "duration": 0.061894,
     "end_time": "2022-03-06T10:08:39.741130",
     "exception": false,
     "start_time": "2022-03-06T10:08:39.679236",
     "status": "completed"
    },
    "tags": []
   },
   "outputs": [],
   "source": [
    "%load_ext autoreload\n",
    "%autoreload 2"
   ]
  },
  {
   "cell_type": "code",
   "execution_count": 2,
   "id": "22ef38dc",
   "metadata": {
    "execution": {
     "iopub.execute_input": "2022-03-06T10:08:39.815359Z",
     "iopub.status.busy": "2022-03-06T10:08:39.814621Z",
     "iopub.status.idle": "2022-03-06T10:08:40.620008Z",
     "shell.execute_reply": "2022-03-06T10:08:40.619284Z"
    },
    "papermill": {
     "duration": 0.846632,
     "end_time": "2022-03-06T10:08:40.620239",
     "exception": false,
     "start_time": "2022-03-06T10:08:39.773607",
     "status": "completed"
    },
    "tags": []
   },
   "outputs": [],
   "source": [
    "%matplotlib inline\n",
    "import numpy as np\n",
    "import matplotlib.pyplot as plt\n",
    "import pandas as pd"
   ]
  },
  {
   "cell_type": "markdown",
   "id": "ba036198",
   "metadata": {
    "papermill": {
     "duration": 0.032677,
     "end_time": "2022-03-06T10:08:40.685611",
     "exception": false,
     "start_time": "2022-03-06T10:08:40.652934",
     "status": "completed"
    },
    "tags": []
   },
   "source": [
    "From the command line run `pip install mnist`. This is a library that will help you bring down the mnist dataset. If you run this from a notebook, you need to put  `!pip install mnist` in a cell by itself."
   ]
  },
  {
   "cell_type": "code",
   "execution_count": 3,
   "id": "bb6ad8a1",
   "metadata": {
    "execution": {
     "iopub.execute_input": "2022-03-06T10:08:40.763103Z",
     "iopub.status.busy": "2022-03-06T10:08:40.762312Z",
     "iopub.status.idle": "2022-03-06T10:08:43.189134Z",
     "shell.execute_reply": "2022-03-06T10:08:43.187527Z"
    },
    "papermill": {
     "duration": 2.471531,
     "end_time": "2022-03-06T10:08:43.189291",
     "exception": false,
     "start_time": "2022-03-06T10:08:40.717760",
     "status": "completed"
    },
    "tags": []
   },
   "outputs": [
    {
     "name": "stdout",
     "output_type": "stream",
     "text": [
      "Collecting mnist\r\n"
     ]
    },
    {
     "name": "stdout",
     "output_type": "stream",
     "text": [
      "  Downloading mnist-0.2.2-py2.py3-none-any.whl (3.5 kB)\r\n",
      "Requirement already satisfied: numpy in /opt/hostedtoolcache/Python/3.6.15/x64/lib/python3.6/site-packages (from mnist) (1.19.5)\r\n"
     ]
    },
    {
     "name": "stdout",
     "output_type": "stream",
     "text": [
      "Installing collected packages: mnist\r\n"
     ]
    },
    {
     "name": "stdout",
     "output_type": "stream",
     "text": [
      "Successfully installed mnist-0.2.2\r\n"
     ]
    }
   ],
   "source": [
    "!pip install mnist"
   ]
  },
  {
   "cell_type": "markdown",
   "id": "69df9c9a",
   "metadata": {
    "papermill": {
     "duration": 0.036711,
     "end_time": "2022-03-06T10:08:43.259032",
     "exception": false,
     "start_time": "2022-03-06T10:08:43.222321",
     "status": "completed"
    },
    "tags": []
   },
   "source": [
    "## Preparing the Data"
   ]
  },
  {
   "cell_type": "code",
   "execution_count": 4,
   "id": "7f69d806",
   "metadata": {
    "execution": {
     "iopub.execute_input": "2022-03-06T10:08:43.339273Z",
     "iopub.status.busy": "2022-03-06T10:08:43.338415Z",
     "iopub.status.idle": "2022-03-06T10:08:43.357155Z",
     "shell.execute_reply": "2022-03-06T10:08:43.357740Z"
    },
    "papermill": {
     "duration": 0.057911,
     "end_time": "2022-03-06T10:08:43.357930",
     "exception": false,
     "start_time": "2022-03-06T10:08:43.300019",
     "status": "completed"
    },
    "tags": []
   },
   "outputs": [],
   "source": [
    "import mnist"
   ]
  },
  {
   "cell_type": "code",
   "execution_count": 5,
   "id": "a411e44f",
   "metadata": {
    "execution": {
     "iopub.execute_input": "2022-03-06T10:08:43.444133Z",
     "iopub.status.busy": "2022-03-06T10:08:43.441018Z",
     "iopub.status.idle": "2022-03-06T10:08:44.005207Z",
     "shell.execute_reply": "2022-03-06T10:08:44.004617Z"
    },
    "papermill": {
     "duration": 0.612205,
     "end_time": "2022-03-06T10:08:44.005387",
     "exception": false,
     "start_time": "2022-03-06T10:08:43.393182",
     "status": "completed"
    },
    "tags": []
   },
   "outputs": [],
   "source": [
    "train_images = mnist.train_images()\n",
    "train_labels = mnist.train_labels()"
   ]
  },
  {
   "cell_type": "code",
   "execution_count": 6,
   "id": "dceab3a5",
   "metadata": {
    "execution": {
     "iopub.execute_input": "2022-03-06T10:08:44.082376Z",
     "iopub.status.busy": "2022-03-06T10:08:44.081689Z",
     "iopub.status.idle": "2022-03-06T10:08:44.099288Z",
     "shell.execute_reply": "2022-03-06T10:08:44.098541Z"
    },
    "papermill": {
     "duration": 0.059015,
     "end_time": "2022-03-06T10:08:44.099446",
     "exception": false,
     "start_time": "2022-03-06T10:08:44.040431",
     "status": "completed"
    },
    "tags": []
   },
   "outputs": [
    {
     "data": {
      "text/plain": [
       "((60000, 28, 28), (60000,))"
      ]
     },
     "execution_count": 6,
     "metadata": {},
     "output_type": "execute_result"
    }
   ],
   "source": [
    "train_images.shape, train_labels.shape"
   ]
  },
  {
   "cell_type": "code",
   "execution_count": 7,
   "id": "f50dc2bb",
   "metadata": {
    "execution": {
     "iopub.execute_input": "2022-03-06T10:08:44.173387Z",
     "iopub.status.busy": "2022-03-06T10:08:44.172655Z",
     "iopub.status.idle": "2022-03-06T10:08:44.295348Z",
     "shell.execute_reply": "2022-03-06T10:08:44.294704Z"
    },
    "papermill": {
     "duration": 0.162528,
     "end_time": "2022-03-06T10:08:44.295507",
     "exception": false,
     "start_time": "2022-03-06T10:08:44.132979",
     "status": "completed"
    },
    "tags": []
   },
   "outputs": [],
   "source": [
    "test_images = mnist.test_images()\n",
    "test_labels = mnist.test_labels()"
   ]
  },
  {
   "cell_type": "code",
   "execution_count": 8,
   "id": "fc38cf1b",
   "metadata": {
    "execution": {
     "iopub.execute_input": "2022-03-06T10:08:44.374756Z",
     "iopub.status.busy": "2022-03-06T10:08:44.374054Z",
     "iopub.status.idle": "2022-03-06T10:08:44.390130Z",
     "shell.execute_reply": "2022-03-06T10:08:44.389424Z"
    },
    "papermill": {
     "duration": 0.059095,
     "end_time": "2022-03-06T10:08:44.390286",
     "exception": false,
     "start_time": "2022-03-06T10:08:44.331191",
     "status": "completed"
    },
    "tags": []
   },
   "outputs": [
    {
     "data": {
      "text/plain": [
       "((10000, 28, 28), (10000,))"
      ]
     },
     "execution_count": 8,
     "metadata": {},
     "output_type": "execute_result"
    }
   ],
   "source": [
    "test_images.shape, test_labels.shape"
   ]
  },
  {
   "cell_type": "code",
   "execution_count": 9,
   "id": "f9ed8fe0",
   "metadata": {
    "execution": {
     "iopub.execute_input": "2022-03-06T10:08:44.466177Z",
     "iopub.status.busy": "2022-03-06T10:08:44.465366Z",
     "iopub.status.idle": "2022-03-06T10:08:44.669668Z",
     "shell.execute_reply": "2022-03-06T10:08:44.669044Z"
    },
    "papermill": {
     "duration": 0.244784,
     "end_time": "2022-03-06T10:08:44.669824",
     "exception": false,
     "start_time": "2022-03-06T10:08:44.425040",
     "status": "completed"
    },
    "tags": []
   },
   "outputs": [
    {
     "name": "stdout",
     "output_type": "stream",
     "text": [
      "2\n"
     ]
    },
    {
     "data": {
      "text/plain": [
       "<matplotlib.image.AxesImage at 0x7f7008aa3588>"
      ]
     },
     "execution_count": 9,
     "metadata": {},
     "output_type": "execute_result"
    },
    {
     "data": {
      "image/png": "[encoded data removed]",
      "text/plain": [
       "<Figure size 432x288 with 1 Axes>"
      ]
     },
     "metadata": {
      "needs_background": "light"
     },
     "output_type": "display_data"
    }
   ],
   "source": [
    "image_index = 7776 # You may select anything up to 60,000\n",
    "print(train_labels[image_index]) \n",
    "plt.imshow(train_images[image_index], cmap='Greys')"
   ]
  },
  {
   "cell_type": "markdown",
   "id": "a8d2388d",
   "metadata": {
    "papermill": {
     "duration": 0.036338,
     "end_time": "2022-03-06T10:08:44.743194",
     "exception": false,
     "start_time": "2022-03-06T10:08:44.706856",
     "status": "completed"
    },
    "tags": []
   },
   "source": [
    "## Filter data to get 3 and 8 out"
   ]
  },
  {
   "cell_type": "code",
   "execution_count": 10,
   "id": "776f7fc7",
   "metadata": {
    "execution": {
     "iopub.execute_input": "2022-03-06T10:08:44.822062Z",
     "iopub.status.busy": "2022-03-06T10:08:44.821339Z",
     "iopub.status.idle": "2022-03-06T10:08:44.844784Z",
     "shell.execute_reply": "2022-03-06T10:08:44.843782Z"
    },
    "papermill": {
     "duration": 0.064892,
     "end_time": "2022-03-06T10:08:44.844943",
     "exception": false,
     "start_time": "2022-03-06T10:08:44.780051",
     "status": "completed"
    },
    "tags": []
   },
   "outputs": [],
   "source": [
    "train_filter = np.where((train_labels == 3 ) | (train_labels == 8))\n",
    "test_filter = np.where((test_labels == 3) | (test_labels == 8))\n",
    "X_train, y_train = train_images[train_filter], train_labels[train_filter]\n",
    "X_test, y_test = test_images[test_filter], test_labels[test_filter]"
   ]
  },
  {
   "cell_type": "markdown",
   "id": "948f0b7e",
   "metadata": {
    "papermill": {
     "duration": 0.037185,
     "end_time": "2022-03-06T10:08:44.921578",
     "exception": false,
     "start_time": "2022-03-06T10:08:44.884393",
     "status": "completed"
    },
    "tags": []
   },
   "source": [
    "We normalize the pizel values in the 0 to 1 range"
   ]
  },
  {
   "cell_type": "code",
   "execution_count": 11,
   "id": "ee4c2166",
   "metadata": {
    "execution": {
     "iopub.execute_input": "2022-03-06T10:08:45.000362Z",
     "iopub.status.busy": "2022-03-06T10:08:44.999613Z",
     "iopub.status.idle": "2022-03-06T10:08:45.067695Z",
     "shell.execute_reply": "2022-03-06T10:08:45.066856Z"
    },
    "papermill": {
     "duration": 0.10866,
     "end_time": "2022-03-06T10:08:45.067868",
     "exception": false,
     "start_time": "2022-03-06T10:08:44.959208",
     "status": "completed"
    },
    "tags": []
   },
   "outputs": [],
   "source": [
    "X_train = X_train/255.\n",
    "X_test = X_test/255."
   ]
  },
  {
   "cell_type": "markdown",
   "id": "ddcf4fab",
   "metadata": {
    "papermill": {
     "duration": 0.03812,
     "end_time": "2022-03-06T10:08:45.143160",
     "exception": false,
     "start_time": "2022-03-06T10:08:45.105040",
     "status": "completed"
    },
    "tags": []
   },
   "source": [
    "And setup the labels as 1 (when the digit is 3) and 0 (when the digit is 8)"
   ]
  },
  {
   "cell_type": "code",
   "execution_count": 12,
   "id": "7dc908f2",
   "metadata": {
    "execution": {
     "iopub.execute_input": "2022-03-06T10:08:45.237282Z",
     "iopub.status.busy": "2022-03-06T10:08:45.236603Z",
     "iopub.status.idle": "2022-03-06T10:08:45.252061Z",
     "shell.execute_reply": "2022-03-06T10:08:45.251386Z"
    },
    "papermill": {
     "duration": 0.068813,
     "end_time": "2022-03-06T10:08:45.252251",
     "exception": false,
     "start_time": "2022-03-06T10:08:45.183438",
     "status": "completed"
    },
    "tags": []
   },
   "outputs": [],
   "source": [
    "y_train = 1*(y_train==3)\n",
    "y_test = 1*(y_test==3)"
   ]
  },
  {
   "cell_type": "code",
   "execution_count": 13,
   "id": "01e4e969",
   "metadata": {
    "execution": {
     "iopub.execute_input": "2022-03-06T10:08:45.344304Z",
     "iopub.status.busy": "2022-03-06T10:08:45.343602Z",
     "iopub.status.idle": "2022-03-06T10:08:45.359592Z",
     "shell.execute_reply": "2022-03-06T10:08:45.360139Z"
    },
    "papermill": {
     "duration": 0.069754,
     "end_time": "2022-03-06T10:08:45.360382",
     "exception": false,
     "start_time": "2022-03-06T10:08:45.290628",
     "status": "completed"
    },
    "tags": []
   },
   "outputs": [
    {
     "data": {
      "text/plain": [
       "((11982, 28, 28), (1984, 28, 28))"
      ]
     },
     "execution_count": 13,
     "metadata": {},
     "output_type": "execute_result"
    }
   ],
   "source": [
    "X_train.shape, X_test.shape"
   ]
  },
  {
   "cell_type": "markdown",
   "id": "5ccf3f85",
   "metadata": {
    "papermill": {
     "duration": 0.038867,
     "end_time": "2022-03-06T10:08:45.435779",
     "exception": false,
     "start_time": "2022-03-06T10:08:45.396912",
     "status": "completed"
    },
    "tags": []
   },
   "source": [
    "We reshape the data to flatten the image pixels into a set of features or co-variates:"
   ]
  },
  {
   "cell_type": "code",
   "execution_count": 14,
   "id": "5286a4a3",
   "metadata": {
    "execution": {
     "iopub.execute_input": "2022-03-06T10:08:45.514363Z",
     "iopub.status.busy": "2022-03-06T10:08:45.513625Z",
     "iopub.status.idle": "2022-03-06T10:08:45.530106Z",
     "shell.execute_reply": "2022-03-06T10:08:45.529272Z"
    },
    "papermill": {
     "duration": 0.058399,
     "end_time": "2022-03-06T10:08:45.530292",
     "exception": false,
     "start_time": "2022-03-06T10:08:45.471893",
     "status": "completed"
    },
    "tags": []
   },
   "outputs": [
    {
     "data": {
      "text/plain": [
       "((11982, 784), (1984, 784))"
      ]
     },
     "execution_count": 14,
     "metadata": {},
     "output_type": "execute_result"
    }
   ],
   "source": [
    "X_train = X_train.reshape(X_train.shape[0], -1)\n",
    "X_test = X_test.reshape(X_test.shape[0], -1)\n",
    "X_train.shape, X_test.shape"
   ]
  },
  {
   "cell_type": "code",
   "execution_count": 15,
   "id": "73c5f88a",
   "metadata": {
    "execution": {
     "iopub.execute_input": "2022-03-06T10:08:45.614263Z",
     "iopub.status.busy": "2022-03-06T10:08:45.613514Z",
     "iopub.status.idle": "2022-03-06T10:08:45.636083Z",
     "shell.execute_reply": "2022-03-06T10:08:45.635376Z"
    },
    "papermill": {
     "duration": 0.066583,
     "end_time": "2022-03-06T10:08:45.636244",
     "exception": false,
     "start_time": "2022-03-06T10:08:45.569661",
     "status": "completed"
    },
    "tags": []
   },
   "outputs": [],
   "source": [
    "#Impoting functions from 'Kudzu'\n",
    "from kudzu.model import Model\n",
    "from kudzu.train import Learner\n",
    "from kudzu.optim import GD\n",
    "from kudzu.data import Data, Sampler,Dataloader\n",
    "\n",
    "from kudzu.callbacks import AccCallback\n",
    "from kudzu.callbacks import ClfCallback\n",
    "\n",
    "from kudzu.loss import MSE\n",
    "\n",
    "from kudzu.layer import Sigmoid,Relu\n",
    "from kudzu.layer import Affine"
   ]
  },
  {
   "cell_type": "markdown",
   "id": "bc01172a",
   "metadata": {
    "papermill": {
     "duration": 0.038066,
     "end_time": "2022-03-06T10:08:45.711607",
     "exception": false,
     "start_time": "2022-03-06T10:08:45.673541",
     "status": "completed"
    },
    "tags": []
   },
   "source": [
    "### Let us create a `Config` class, to store important parameters. \n",
    "This class essentially plays the role of a dictionary."
   ]
  },
  {
   "cell_type": "code",
   "execution_count": 16,
   "id": "978281aa",
   "metadata": {
    "execution": {
     "iopub.execute_input": "2022-03-06T10:08:45.796068Z",
     "iopub.status.busy": "2022-03-06T10:08:45.795307Z",
     "iopub.status.idle": "2022-03-06T10:08:45.810727Z",
     "shell.execute_reply": "2022-03-06T10:08:45.810116Z"
    },
    "papermill": {
     "duration": 0.061443,
     "end_time": "2022-03-06T10:08:45.810868",
     "exception": false,
     "start_time": "2022-03-06T10:08:45.749425",
     "status": "completed"
    },
    "tags": []
   },
   "outputs": [],
   "source": [
    "class Config:\n",
    "    pass\n",
    "config = Config()\n",
    "config.lr = 0.001\n",
    "config.num_epochs = 250\n",
    "config.bs = 50"
   ]
  },
  {
   "cell_type": "markdown",
   "id": "1385fa59",
   "metadata": {
    "papermill": {
     "duration": 0.036813,
     "end_time": "2022-03-06T10:08:45.883626",
     "exception": false,
     "start_time": "2022-03-06T10:08:45.846813",
     "status": "completed"
    },
    "tags": []
   },
   "source": [
    "### Running Models with the Training data\n",
    "Details about the network layers:\n",
    "- A first affine layer has 784 inputs and does 100 affine transforms. These are followed by a Relu\n",
    "- A second affine layer has 100 inputs from the 100 activations of the past layer, and does 100 affine transforms. These are followed by a Relu\n",
    "- A third affine layer has 100 activations and does 2 affine transformations to create an embedding for visualization. There is no non-linearity here.\n",
    "- A final \"logistic regression\" which has an affine transform from 2 inputs to 1 output, which is squeezed through a sigmoid.\n"
   ]
  },
  {
   "cell_type": "code",
   "execution_count": 17,
   "id": "2b9c66db",
   "metadata": {
    "execution": {
     "iopub.execute_input": "2022-03-06T10:08:45.964515Z",
     "iopub.status.busy": "2022-03-06T10:08:45.963835Z",
     "iopub.status.idle": "2022-03-06T10:08:45.979014Z",
     "shell.execute_reply": "2022-03-06T10:08:45.978392Z"
    },
    "papermill": {
     "duration": 0.058028,
     "end_time": "2022-03-06T10:08:45.979178",
     "exception": false,
     "start_time": "2022-03-06T10:08:45.921150",
     "status": "completed"
    },
    "tags": []
   },
   "outputs": [],
   "source": [
    "data = Data(X_train, y_train.reshape(-1,1))\n",
    "sampler = Sampler(data, config.bs, shuffle=True)\n",
    "\n",
    "dl = Dataloader(data, sampler)\n",
    "\n",
    "opt = GD(config.lr)\n",
    "loss = MSE()"
   ]
  },
  {
   "cell_type": "code",
   "execution_count": 18,
   "id": "b275e4c2",
   "metadata": {
    "execution": {
     "iopub.execute_input": "2022-03-06T10:08:46.062048Z",
     "iopub.status.busy": "2022-03-06T10:08:46.061352Z",
     "iopub.status.idle": "2022-03-06T10:08:46.082484Z",
     "shell.execute_reply": "2022-03-06T10:08:46.081866Z"
    },
    "papermill": {
     "duration": 0.065498,
     "end_time": "2022-03-06T10:08:46.082648",
     "exception": false,
     "start_time": "2022-03-06T10:08:46.017150",
     "status": "completed"
    },
    "tags": []
   },
   "outputs": [],
   "source": [
    "training_data_x = X_train\n",
    "testing_data_x = X_test\n",
    "training_data_y = y_train.reshape(-1,1)\n",
    "testing_data_y = y_test.reshape(-1,1)"
   ]
  },
  {
   "cell_type": "code",
   "execution_count": 19,
   "id": "76951160",
   "metadata": {
    "execution": {
     "iopub.execute_input": "2022-03-06T10:08:46.161988Z",
     "iopub.status.busy": "2022-03-06T10:08:46.161271Z",
     "iopub.status.idle": "2022-03-06T10:08:46.181482Z",
     "shell.execute_reply": "2022-03-06T10:08:46.182064Z"
    },
    "papermill": {
     "duration": 0.062107,
     "end_time": "2022-03-06T10:08:46.182243",
     "exception": false,
     "start_time": "2022-03-06T10:08:46.120136",
     "status": "completed"
    },
    "tags": []
   },
   "outputs": [
    {
     "name": "stdout",
     "output_type": "stream",
     "text": [
      "xavier\n",
      "xavier\n",
      "xavier\n",
      "xavier\n",
      "xavier\n"
     ]
    }
   ],
   "source": [
    "layers = [Affine(\"first\", 784, 100), Relu(\"first\"), Affine(\"second\", 100, 100), Relu(\"second\"), Affine(\"third\", 100, 2), Affine(\"last\", 2, 1), Sigmoid(\"last\")]\n",
    "model_nn = Model(layers)\n",
    "model_lr = Model([Affine(\"logits\", 784, 1), Sigmoid(\"sigmoid\")])"
   ]
  },
  {
   "cell_type": "code",
   "execution_count": 20,
   "id": "6eede77a",
   "metadata": {
    "execution": {
     "iopub.execute_input": "2022-03-06T10:08:46.262414Z",
     "iopub.status.busy": "2022-03-06T10:08:46.261697Z",
     "iopub.status.idle": "2022-03-06T10:08:46.276979Z",
     "shell.execute_reply": "2022-03-06T10:08:46.276353Z"
    },
    "papermill": {
     "duration": 0.058085,
     "end_time": "2022-03-06T10:08:46.277134",
     "exception": false,
     "start_time": "2022-03-06T10:08:46.219049",
     "status": "completed"
    },
    "tags": []
   },
   "outputs": [],
   "source": [
    "nn_learner = Learner(loss, model_nn, opt, config.num_epochs)\n",
    "acc_nn = ClfCallback(nn_learner, config.bs, training_data_x , testing_data_x, training_data_y, testing_data_y)\n",
    "nn_learner.set_callbacks([acc_nn])"
   ]
  },
  {
   "cell_type": "code",
   "execution_count": 21,
   "id": "877b6cc7",
   "metadata": {
    "execution": {
     "iopub.execute_input": "2022-03-06T10:08:46.362226Z",
     "iopub.status.busy": "2022-03-06T10:08:46.361534Z",
     "iopub.status.idle": "2022-03-06T10:08:46.375647Z",
     "shell.execute_reply": "2022-03-06T10:08:46.374852Z"
    },
    "papermill": {
     "duration": 0.058888,
     "end_time": "2022-03-06T10:08:46.375805",
     "exception": false,
     "start_time": "2022-03-06T10:08:46.316917",
     "status": "completed"
    },
    "tags": []
   },
   "outputs": [],
   "source": [
    "lr_learner = Learner(loss, model_lr, opt, config.num_epochs)\n",
    "acc_lr = ClfCallback(lr_learner, config.bs, training_data_x , testing_data_x, training_data_y, testing_data_y)\n",
    "lr_learner.set_callbacks([acc_lr])"
   ]
  },
  {
   "cell_type": "code",
   "execution_count": 22,
   "id": "d9b133c3",
   "metadata": {
    "execution": {
     "iopub.execute_input": "2022-03-06T10:08:46.457502Z",
     "iopub.status.busy": "2022-03-06T10:08:46.456805Z",
     "iopub.status.idle": "2022-03-06T10:11:14.678829Z",
     "shell.execute_reply": "2022-03-06T10:11:14.679762Z"
    },
    "papermill": {
     "duration": 148.26629,
     "end_time": "2022-03-06T10:11:14.679960",
     "exception": false,
     "start_time": "2022-03-06T10:08:46.413670",
     "status": "completed"
    },
    "tags": []
   },
   "outputs": [
    {
     "name": "stdout",
     "output_type": "stream",
     "text": [
      "Epoch 0, Loss 0.2134\n",
      "Training Accuracy: 0.8018, Testing Accuracy: 0.8382\n",
      "\n"
     ]
    },
    {
     "name": "stdout",
     "output_type": "stream",
     "text": [
      "Epoch 10, Loss 0.0568\n",
      "Training Accuracy: 0.9413, Testing Accuracy: 0.9556\n",
      "\n"
     ]
    },
    {
     "name": "stdout",
     "output_type": "stream",
     "text": [
      "Epoch 20, Loss 0.0401\n",
      "Training Accuracy: 0.9571, Testing Accuracy: 0.9667\n",
      "\n"
     ]
    },
    {
     "name": "stdout",
     "output_type": "stream",
     "text": [
      "Epoch 30, Loss 0.0334\n",
      "Training Accuracy: 0.9636, Testing Accuracy: 0.9693\n",
      "\n"
     ]
    },
    {
     "name": "stdout",
     "output_type": "stream",
     "text": [
      "Epoch 40, Loss 0.0296\n",
      "Training Accuracy: 0.9689, Testing Accuracy: 0.9682\n",
      "\n"
     ]
    },
    {
     "name": "stdout",
     "output_type": "stream",
     "text": [
      "Epoch 50, Loss 0.0271\n",
      "Training Accuracy: 0.9715, Testing Accuracy: 0.9688\n",
      "\n"
     ]
    },
    {
     "name": "stdout",
     "output_type": "stream",
     "text": [
      "Epoch 60, Loss 0.0253\n",
      "Training Accuracy: 0.9730, Testing Accuracy: 0.9728\n",
      "\n"
     ]
    },
    {
     "name": "stdout",
     "output_type": "stream",
     "text": [
      "Epoch 70, Loss 0.0238\n",
      "Training Accuracy: 0.9739, Testing Accuracy: 0.9728\n",
      "\n"
     ]
    },
    {
     "name": "stdout",
     "output_type": "stream",
     "text": [
      "Epoch 80, Loss 0.0226\n",
      "Training Accuracy: 0.9747, Testing Accuracy: 0.9738\n",
      "\n"
     ]
    },
    {
     "name": "stdout",
     "output_type": "stream",
     "text": [
      "Epoch 90, Loss 0.0216\n",
      "Training Accuracy: 0.9753, Testing Accuracy: 0.9743\n",
      "\n"
     ]
    },
    {
     "name": "stdout",
     "output_type": "stream",
     "text": [
      "Epoch 100, Loss 0.0207\n",
      "Training Accuracy: 0.9762, Testing Accuracy: 0.9763\n",
      "\n"
     ]
    },
    {
     "name": "stdout",
     "output_type": "stream",
     "text": [
      "Epoch 110, Loss 0.0199\n",
      "Training Accuracy: 0.9770, Testing Accuracy: 0.9768\n",
      "\n"
     ]
    },
    {
     "name": "stdout",
     "output_type": "stream",
     "text": [
      "Epoch 120, Loss 0.0192\n",
      "Training Accuracy: 0.9786, Testing Accuracy: 0.9768\n",
      "\n"
     ]
    },
    {
     "name": "stdout",
     "output_type": "stream",
     "text": [
      "Epoch 130, Loss 0.0186\n",
      "Training Accuracy: 0.9793, Testing Accuracy: 0.9768\n",
      "\n"
     ]
    },
    {
     "name": "stdout",
     "output_type": "stream",
     "text": [
      "Epoch 140, Loss 0.018\n",
      "Training Accuracy: 0.9801, Testing Accuracy: 0.9778\n",
      "\n"
     ]
    },
    {
     "name": "stdout",
     "output_type": "stream",
     "text": [
      "Epoch 150, Loss 0.0174\n",
      "Training Accuracy: 0.9808, Testing Accuracy: 0.9778\n",
      "\n"
     ]
    },
    {
     "name": "stdout",
     "output_type": "stream",
     "text": [
      "Epoch 160, Loss 0.0169\n",
      "Training Accuracy: 0.9816, Testing Accuracy: 0.9778\n",
      "\n"
     ]
    },
    {
     "name": "stdout",
     "output_type": "stream",
     "text": [
      "Epoch 170, Loss 0.0164\n",
      "Training Accuracy: 0.9823, Testing Accuracy: 0.9783\n",
      "\n"
     ]
    },
    {
     "name": "stdout",
     "output_type": "stream",
     "text": [
      "Epoch 180, Loss 0.016\n",
      "Training Accuracy: 0.9831, Testing Accuracy: 0.9783\n",
      "\n"
     ]
    },
    {
     "name": "stdout",
     "output_type": "stream",
     "text": [
      "Epoch 190, Loss 0.0156\n",
      "Training Accuracy: 0.9836, Testing Accuracy: 0.9793\n",
      "\n"
     ]
    },
    {
     "name": "stdout",
     "output_type": "stream",
     "text": [
      "Epoch 200, Loss 0.0151\n",
      "Training Accuracy: 0.9845, Testing Accuracy: 0.9793\n",
      "\n"
     ]
    },
    {
     "name": "stdout",
     "output_type": "stream",
     "text": [
      "Epoch 210, Loss 0.0148\n",
      "Training Accuracy: 0.9849, Testing Accuracy: 0.9793\n",
      "\n"
     ]
    },
    {
     "name": "stdout",
     "output_type": "stream",
     "text": [
      "Epoch 220, Loss 0.0144\n",
      "Training Accuracy: 0.9854, Testing Accuracy: 0.9793\n",
      "\n"
     ]
    },
    {
     "name": "stdout",
     "output_type": "stream",
     "text": [
      "Epoch 230, Loss 0.014\n",
      "Training Accuracy: 0.9857, Testing Accuracy: 0.9798\n",
      "\n"
     ]
    },
    {
     "name": "stdout",
     "output_type": "stream",
     "text": [
      "Epoch 240, Loss 0.0137\n",
      "Training Accuracy: 0.9861, Testing Accuracy: 0.9808\n",
      "\n"
     ]
    },
    {
     "data": {
      "text/plain": [
       "0.024185493397623346"
      ]
     },
     "execution_count": 22,
     "metadata": {},
     "output_type": "execute_result"
    }
   ],
   "source": [
    "nn_learner.train_loop(dl)"
   ]
  },
  {
   "cell_type": "code",
   "execution_count": 23,
   "id": "e0163366",
   "metadata": {
    "execution": {
     "iopub.execute_input": "2022-03-06T10:11:14.788528Z",
     "iopub.status.busy": "2022-03-06T10:11:14.787738Z",
     "iopub.status.idle": "2022-03-06T10:11:36.705229Z",
     "shell.execute_reply": "2022-03-06T10:11:36.706204Z"
    },
    "papermill": {
     "duration": 21.97889,
     "end_time": "2022-03-06T10:11:36.706393",
     "exception": false,
     "start_time": "2022-03-06T10:11:14.727503",
     "status": "completed"
    },
    "tags": []
   },
   "outputs": [
    {
     "name": "stdout",
     "output_type": "stream",
     "text": [
      "Epoch 0, Loss 0.2647\n",
      "Training Accuracy: 0.6180, Testing Accuracy: 0.6013\n",
      "\n"
     ]
    },
    {
     "name": "stdout",
     "output_type": "stream",
     "text": [
      "Epoch 10, Loss 0.0991\n",
      "Training Accuracy: 0.9253, Testing Accuracy: 0.9345\n",
      "\n"
     ]
    },
    {
     "name": "stdout",
     "output_type": "stream",
     "text": [
      "Epoch 20, Loss 0.0766\n",
      "Training Accuracy: 0.9351, Testing Accuracy: 0.9481\n",
      "\n"
     ]
    },
    {
     "name": "stdout",
     "output_type": "stream",
     "text": [
      "Epoch 30, Loss 0.0665\n",
      "Training Accuracy: 0.9416, Testing Accuracy: 0.9556\n",
      "\n"
     ]
    },
    {
     "name": "stdout",
     "output_type": "stream",
     "text": [
      "Epoch 40, Loss 0.0603\n",
      "Training Accuracy: 0.9445, Testing Accuracy: 0.9561\n",
      "\n"
     ]
    },
    {
     "name": "stdout",
     "output_type": "stream",
     "text": [
      "Epoch 50, Loss 0.0561\n",
      "Training Accuracy: 0.9466, Testing Accuracy: 0.9561\n",
      "\n"
     ]
    },
    {
     "name": "stdout",
     "output_type": "stream",
     "text": [
      "Epoch 60, Loss 0.053\n",
      "Training Accuracy: 0.9488, Testing Accuracy: 0.9582\n",
      "\n"
     ]
    },
    {
     "name": "stdout",
     "output_type": "stream",
     "text": [
      "Epoch 70, Loss 0.0505\n",
      "Training Accuracy: 0.9508, Testing Accuracy: 0.9592\n",
      "\n"
     ]
    },
    {
     "name": "stdout",
     "output_type": "stream",
     "text": [
      "Epoch 80, Loss 0.0486\n",
      "Training Accuracy: 0.9523, Testing Accuracy: 0.9602\n",
      "\n"
     ]
    },
    {
     "name": "stdout",
     "output_type": "stream",
     "text": [
      "Epoch 90, Loss 0.047\n",
      "Training Accuracy: 0.9535, Testing Accuracy: 0.9612\n",
      "\n"
     ]
    },
    {
     "name": "stdout",
     "output_type": "stream",
     "text": [
      "Epoch 100, Loss 0.0456\n",
      "Training Accuracy: 0.9543, Testing Accuracy: 0.9622\n",
      "\n"
     ]
    },
    {
     "name": "stdout",
     "output_type": "stream",
     "text": [
      "Epoch 110, Loss 0.0444\n",
      "Training Accuracy: 0.9548, Testing Accuracy: 0.9627\n",
      "\n"
     ]
    },
    {
     "name": "stdout",
     "output_type": "stream",
     "text": [
      "Epoch 120, Loss 0.0434\n",
      "Training Accuracy: 0.9551, Testing Accuracy: 0.9622\n",
      "\n"
     ]
    },
    {
     "name": "stdout",
     "output_type": "stream",
     "text": [
      "Epoch 130, Loss 0.0425\n",
      "Training Accuracy: 0.9563, Testing Accuracy: 0.9627\n",
      "\n"
     ]
    },
    {
     "name": "stdout",
     "output_type": "stream",
     "text": [
      "Epoch 140, Loss 0.0417\n",
      "Training Accuracy: 0.9567, Testing Accuracy: 0.9627\n",
      "\n"
     ]
    },
    {
     "name": "stdout",
     "output_type": "stream",
     "text": [
      "Epoch 150, Loss 0.041\n",
      "Training Accuracy: 0.9574, Testing Accuracy: 0.9627\n",
      "\n"
     ]
    },
    {
     "name": "stdout",
     "output_type": "stream",
     "text": [
      "Epoch 160, Loss 0.0403\n",
      "Training Accuracy: 0.9579, Testing Accuracy: 0.9632\n",
      "\n"
     ]
    },
    {
     "name": "stdout",
     "output_type": "stream",
     "text": [
      "Epoch 170, Loss 0.0397\n",
      "Training Accuracy: 0.9582, Testing Accuracy: 0.9632\n",
      "\n"
     ]
    },
    {
     "name": "stdout",
     "output_type": "stream",
     "text": [
      "Epoch 180, Loss 0.0392\n",
      "Training Accuracy: 0.9584, Testing Accuracy: 0.9637\n",
      "\n"
     ]
    },
    {
     "name": "stdout",
     "output_type": "stream",
     "text": [
      "Epoch 190, Loss 0.0387\n",
      "Training Accuracy: 0.9592, Testing Accuracy: 0.9647\n",
      "\n"
     ]
    },
    {
     "name": "stdout",
     "output_type": "stream",
     "text": [
      "Epoch 200, Loss 0.0382\n",
      "Training Accuracy: 0.9599, Testing Accuracy: 0.9652\n",
      "\n"
     ]
    },
    {
     "name": "stdout",
     "output_type": "stream",
     "text": [
      "Epoch 210, Loss 0.0378\n",
      "Training Accuracy: 0.9603, Testing Accuracy: 0.9647\n",
      "\n"
     ]
    },
    {
     "name": "stdout",
     "output_type": "stream",
     "text": [
      "Epoch 220, Loss 0.0374\n",
      "Training Accuracy: 0.9605, Testing Accuracy: 0.9652\n",
      "\n"
     ]
    },
    {
     "name": "stdout",
     "output_type": "stream",
     "text": [
      "Epoch 230, Loss 0.037\n",
      "Training Accuracy: 0.9607, Testing Accuracy: 0.9657\n",
      "\n"
     ]
    },
    {
     "name": "stdout",
     "output_type": "stream",
     "text": [
      "Epoch 240, Loss 0.0366\n",
      "Training Accuracy: 0.9609, Testing Accuracy: 0.9657\n",
      "\n"
     ]
    },
    {
     "data": {
      "text/plain": [
       "0.03028996103231872"
      ]
     },
     "execution_count": 23,
     "metadata": {},
     "output_type": "execute_result"
    }
   ],
   "source": [
    "lr_learner.train_loop(dl)"
   ]
  },
  {
   "cell_type": "code",
   "execution_count": 24,
   "id": "ca410940",
   "metadata": {
    "execution": {
     "iopub.execute_input": "2022-03-06T10:11:36.829133Z",
     "iopub.status.busy": "2022-03-06T10:11:36.826845Z",
     "iopub.status.idle": "2022-03-06T10:11:37.182214Z",
     "shell.execute_reply": "2022-03-06T10:11:37.181652Z"
    },
    "papermill": {
     "duration": 0.417911,
     "end_time": "2022-03-06T10:11:37.182372",
     "exception": false,
     "start_time": "2022-03-06T10:11:36.764461",
     "status": "completed"
    },
    "tags": []
   },
   "outputs": [
    {
     "data": {
      "text/plain": [
       "<matplotlib.legend.Legend at 0x7f700867fcf8>"
      ]
     },
     "execution_count": 24,
     "metadata": {},
     "output_type": "execute_result"
    },
    {
     "data": {
      "image/png": "[encoded data removed]",
      "text/plain": [
       "<Figure size 1080x720 with 1 Axes>"
      ]
     },
     "metadata": {
      "needs_background": "light"
     },
     "output_type": "display_data"
    }
   ],
   "source": [
    "#comparing the results of NN and LR\n",
    "plt.figure(figsize=(15,10))\n",
    "\n",
    "# Neural Network plots\n",
    "plt.plot(acc_nn.accuracies, 'r-', label = \"Training Accuracies - NN\")\n",
    "plt.plot(acc_nn.test_accuracies, 'g-', label = \"Testing Accuracies - NN\")\n",
    "\n",
    "# Logistic Regression plots\n",
    "plt.plot(acc_lr.accuracies, 'k-', label = \"Training Accuracies - LR\")\n",
    "plt.plot(acc_lr.test_accuracies, 'b-', label = \"Testing Accuracies - LR\")\n",
    "plt.legend()"
   ]
  },
  {
   "cell_type": "markdown",
   "id": "80dfb35c",
   "metadata": {
    "papermill": {
     "duration": 0.05776,
     "end_time": "2022-03-06T10:11:37.296134",
     "exception": false,
     "start_time": "2022-03-06T10:11:37.238374",
     "status": "completed"
    },
    "tags": []
   },
   "source": [
    "#### Plotting the outputs of this layer of the NN.\n"
   ]
  },
  {
   "cell_type": "code",
   "execution_count": 25,
   "id": "45eb2ff5",
   "metadata": {
    "execution": {
     "iopub.execute_input": "2022-03-06T10:11:37.421740Z",
     "iopub.status.busy": "2022-03-06T10:11:37.420999Z",
     "iopub.status.idle": "2022-03-06T10:11:37.450440Z",
     "shell.execute_reply": "2022-03-06T10:11:37.451044Z"
    },
    "papermill": {
     "duration": 0.097192,
     "end_time": "2022-03-06T10:11:37.451345",
     "exception": false,
     "start_time": "2022-03-06T10:11:37.354153",
     "status": "completed"
    },
    "tags": []
   },
   "outputs": [],
   "source": [
    "new_model = Model(layers[:-2])\n",
    "testing_plot = new_model(testing_data_x)"
   ]
  },
  {
   "cell_type": "code",
   "execution_count": 26,
   "id": "4c0a5485",
   "metadata": {
    "execution": {
     "iopub.execute_input": "2022-03-06T10:11:37.585020Z",
     "iopub.status.busy": "2022-03-06T10:11:37.584297Z",
     "iopub.status.idle": "2022-03-06T10:11:37.889795Z",
     "shell.execute_reply": "2022-03-06T10:11:37.890350Z"
    },
    "papermill": {
     "duration": 0.374268,
     "end_time": "2022-03-06T10:11:37.890531",
     "exception": false,
     "start_time": "2022-03-06T10:11:37.516263",
     "status": "completed"
    },
    "tags": []
   },
   "outputs": [
    {
     "data": {
      "text/plain": [
       "Text(0.5, 1.0, 'Outputs')"
      ]
     },
     "execution_count": 26,
     "metadata": {},
     "output_type": "execute_result"
    },
    {
     "data": {
      "image/png": "[encoded data removed]",
      "text/plain": [
       "<Figure size 576x504 with 1 Axes>"
      ]
     },
     "metadata": {
      "needs_background": "light"
     },
     "output_type": "display_data"
    }
   ],
   "source": [
    "# Plotting the scatter plot of points and color coding by class\n",
    "plt.figure(figsize=(8,7))\n",
    "plt.scatter(testing_plot[:,0], testing_plot[:,1], alpha = 0.1, c = y_test.ravel());\n",
    "plt.title('Outputs')"
   ]
  },
  {
   "cell_type": "markdown",
   "id": "a74fcf8f",
   "metadata": {
    "papermill": {
     "duration": 0.058303,
     "end_time": "2022-03-06T10:11:38.012846",
     "exception": false,
     "start_time": "2022-03-06T10:11:37.954543",
     "status": "completed"
    },
    "tags": []
   },
   "source": [
    "Probability contours"
   ]
  },
  {
   "cell_type": "code",
   "execution_count": 27,
   "id": "d0afc8e3",
   "metadata": {
    "execution": {
     "iopub.execute_input": "2022-03-06T10:11:38.175168Z",
     "iopub.status.busy": "2022-03-06T10:11:38.173470Z",
     "iopub.status.idle": "2022-03-06T10:11:38.188367Z",
     "shell.execute_reply": "2022-03-06T10:11:38.187672Z"
    },
    "papermill": {
     "duration": 0.080714,
     "end_time": "2022-03-06T10:11:38.188526",
     "exception": false,
     "start_time": "2022-03-06T10:11:38.107812",
     "status": "completed"
    },
    "tags": []
   },
   "outputs": [],
   "source": [
    "model_prob = Model(layers[-2:]) "
   ]
  },
  {
   "cell_type": "code",
   "execution_count": 28,
   "id": "9b96e238",
   "metadata": {
    "execution": {
     "iopub.execute_input": "2022-03-06T10:11:38.313765Z",
     "iopub.status.busy": "2022-03-06T10:11:38.313029Z",
     "iopub.status.idle": "2022-03-06T10:11:38.328736Z",
     "shell.execute_reply": "2022-03-06T10:11:38.329290Z"
    },
    "papermill": {
     "duration": 0.083315,
     "end_time": "2022-03-06T10:11:38.329516",
     "exception": false,
     "start_time": "2022-03-06T10:11:38.246201",
     "status": "completed"
    },
    "tags": []
   },
   "outputs": [],
   "source": [
    "#creating the x and y ranges according to the above generated plot.\n",
    "x_range = np.linspace(-4, 1, 100) \n",
    "y_range = np.linspace(-6, 6, 100) \n",
    "x_grid, y_grid = np.meshgrid(x_range, y_range) # x_grid and y_grig are of size 100 X 100\n",
    "\n",
    "# converting x_grid and y_grid to continuous arrays\n",
    "x_gridflat = np.ravel(x_grid)\n",
    "y_gridflat = np.ravel(y_grid)\n",
    "\n",
    "# The last layer of the current model takes two columns as input. Hence transpose of np.vstack() is required.\n",
    "X = np.vstack((x_gridflat, y_gridflat)).T\n",
    "\n",
    "prob_contour = model_prob(X).reshape(100,100) "
   ]
  },
  {
   "cell_type": "code",
   "execution_count": 29,
   "id": "da72499a",
   "metadata": {
    "execution": {
     "iopub.execute_input": "2022-03-06T10:11:38.455612Z",
     "iopub.status.busy": "2022-03-06T10:11:38.454854Z",
     "iopub.status.idle": "2022-03-06T10:11:38.807012Z",
     "shell.execute_reply": "2022-03-06T10:11:38.806337Z"
    },
    "papermill": {
     "duration": 0.417242,
     "end_time": "2022-03-06T10:11:38.807254",
     "exception": false,
     "start_time": "2022-03-06T10:11:38.390012",
     "status": "completed"
    },
    "tags": []
   },
   "outputs": [
    {
     "data": {
      "image/png": "[encoded data removed]",
      "text/plain": [
       "<Figure size 720x648 with 1 Axes>"
      ]
     },
     "metadata": {
      "needs_background": "light"
     },
     "output_type": "display_data"
    }
   ],
   "source": [
    "plt.figure(figsize=(10,9))\n",
    "plt.scatter(testing_plot[:,0], testing_plot[:,1], alpha = 0.1, c = y_test.ravel())\n",
    "contours = plt.contour(x_grid,y_grid,prob_contour)\n",
    "plt.title('Probability Contours')\n",
    "plt.clabel(contours, inline = True );"
   ]
  },
  {
   "cell_type": "code",
   "execution_count": null,
   "id": "e81b4ac7",
   "metadata": {
    "papermill": {
     "duration": 0.066489,
     "end_time": "2022-03-06T10:11:38.937921",
     "exception": false,
     "start_time": "2022-03-06T10:11:38.871432",
     "status": "completed"
    },
    "tags": []
   },
   "outputs": [],
   "source": []
  }
 ],
 "metadata": {
  "kernelspec": {
   "display_name": "Python 3",
   "language": "python",
   "name": "python3"
  },
  "language_info": {
   "codemirror_mode": {
    "name": "ipython",
    "version": 3
   },
   "file_extension": ".py",
   "mimetype": "text/x-python",
   "name": "python",
   "nbconvert_exporter": "python",
   "pygments_lexer": "ipython3",
   "version": "3.6.15"
  },
  "papermill": {
   "default_parameters": {},
   "duration": 181.277827,
   "end_time": "2022-03-06T10:11:39.420330",
   "environment_variables": {},
   "exception": null,
   "input_path": "2020-08-11-part2.ipynb",
   "output_path": "2020-08-11-part2.ipynb",
   "parameters": {},
   "start_time": "2022-03-06T10:08:38.142503",
   "version": "2.3.3"
  }
 },
 "nbformat": 4,
 "nbformat_minor": 5
}