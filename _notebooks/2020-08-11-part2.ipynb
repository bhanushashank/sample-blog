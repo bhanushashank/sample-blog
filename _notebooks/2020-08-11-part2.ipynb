{
 "cells": [
  {
   "cell_type": "markdown",
   "id": "98380cd3",
   "metadata": {
    "papermill": {
     "duration": 0.028877,
     "end_time": "2022-04-24T10:09:30.316965",
     "exception": false,
     "start_time": "2022-04-24T10:09:30.288088",
     "status": "completed"
    },
    "tags": []
   },
   "source": [
    "# Distinguish Your Own Digits (DYOD)"
   ]
  },
  {
   "cell_type": "markdown",
   "id": "ef31240d",
   "metadata": {
    "papermill": {
     "duration": 0.025536,
     "end_time": "2022-04-24T10:09:30.367197",
     "exception": false,
     "start_time": "2022-04-24T10:09:30.341661",
     "status": "completed"
    },
    "tags": []
   },
   "source": [
    "You are going to write a classifier that distinguishes between the number 3 and number 8."
   ]
  },
  {
   "cell_type": "code",
   "execution_count": 1,
   "id": "b15c8646",
   "metadata": {
    "execution": {
     "iopub.execute_input": "2022-04-24T10:09:30.425444Z",
     "iopub.status.busy": "2022-04-24T10:09:30.424906Z",
     "iopub.status.idle": "2022-04-24T10:09:30.435153Z",
     "shell.execute_reply": "2022-04-24T10:09:30.435636Z"
    },
    "papermill": {
     "duration": 0.044669,
     "end_time": "2022-04-24T10:09:30.435793",
     "exception": false,
     "start_time": "2022-04-24T10:09:30.391124",
     "status": "completed"
    },
    "tags": []
   },
   "outputs": [],
   "source": [
    "%load_ext autoreload\n",
    "%autoreload 2"
   ]
  },
  {
   "cell_type": "code",
   "execution_count": 2,
   "id": "22ef38dc",
   "metadata": {
    "execution": {
     "iopub.execute_input": "2022-04-24T10:09:30.499736Z",
     "iopub.status.busy": "2022-04-24T10:09:30.497677Z",
     "iopub.status.idle": "2022-04-24T10:09:31.044423Z",
     "shell.execute_reply": "2022-04-24T10:09:31.043890Z"
    },
    "papermill": {
     "duration": 0.584723,
     "end_time": "2022-04-24T10:09:31.044570",
     "exception": false,
     "start_time": "2022-04-24T10:09:30.459847",
     "status": "completed"
    },
    "tags": []
   },
   "outputs": [],
   "source": [
    "%matplotlib inline\n",
    "import numpy as np\n",
    "import matplotlib.pyplot as plt\n",
    "import pandas as pd"
   ]
  },
  {
   "cell_type": "markdown",
   "id": "ba036198",
   "metadata": {
    "papermill": {
     "duration": 0.024255,
     "end_time": "2022-04-24T10:09:31.093511",
     "exception": false,
     "start_time": "2022-04-24T10:09:31.069256",
     "status": "completed"
    },
    "tags": []
   },
   "source": [
    "From the command line run `pip install mnist`. This is a library that will help you bring down the mnist dataset. If you run this from a notebook, you need to put  `!pip install mnist` in a cell by itself."
   ]
  },
  {
   "cell_type": "code",
   "execution_count": 3,
   "id": "bb6ad8a1",
   "metadata": {
    "execution": {
     "iopub.execute_input": "2022-04-24T10:09:31.146505Z",
     "iopub.status.busy": "2022-04-24T10:09:31.145985Z",
     "iopub.status.idle": "2022-04-24T10:09:32.856277Z",
     "shell.execute_reply": "2022-04-24T10:09:32.855784Z"
    },
    "papermill": {
     "duration": 1.738641,
     "end_time": "2022-04-24T10:09:32.856410",
     "exception": false,
     "start_time": "2022-04-24T10:09:31.117769",
     "status": "completed"
    },
    "tags": []
   },
   "outputs": [
    {
     "name": "stdout",
     "output_type": "stream",
     "text": [
      "Collecting mnist\r\n"
     ]
    },
    {
     "name": "stdout",
     "output_type": "stream",
     "text": [
      "  Downloading mnist-0.2.2-py2.py3-none-any.whl (3.5 kB)\r\n",
      "Requirement already satisfied: numpy in /opt/hostedtoolcache/Python/3.6.15/x64/lib/python3.6/site-packages (from mnist) (1.19.5)\r\n"
     ]
    },
    {
     "name": "stdout",
     "output_type": "stream",
     "text": [
      "Installing collected packages: mnist\r\n"
     ]
    },
    {
     "name": "stdout",
     "output_type": "stream",
     "text": [
      "Successfully installed mnist-0.2.2\r\n"
     ]
    }
   ],
   "source": [
    "!pip install mnist"
   ]
  },
  {
   "cell_type": "markdown",
   "id": "69df9c9a",
   "metadata": {
    "papermill": {
     "duration": 0.025539,
     "end_time": "2022-04-24T10:09:32.907900",
     "exception": false,
     "start_time": "2022-04-24T10:09:32.882361",
     "status": "completed"
    },
    "tags": []
   },
   "source": [
    "## Preparing the Data"
   ]
  },
  {
   "cell_type": "code",
   "execution_count": 4,
   "id": "7f69d806",
   "metadata": {
    "execution": {
     "iopub.execute_input": "2022-04-24T10:09:32.997220Z",
     "iopub.status.busy": "2022-04-24T10:09:32.996637Z",
     "iopub.status.idle": "2022-04-24T10:09:33.001658Z",
     "shell.execute_reply": "2022-04-24T10:09:33.001235Z"
    },
    "papermill": {
     "duration": 0.068567,
     "end_time": "2022-04-24T10:09:33.001779",
     "exception": false,
     "start_time": "2022-04-24T10:09:32.933212",
     "status": "completed"
    },
    "tags": []
   },
   "outputs": [],
   "source": [
    "import mnist"
   ]
  },
  {
   "cell_type": "code",
   "execution_count": 5,
   "id": "a411e44f",
   "metadata": {
    "execution": {
     "iopub.execute_input": "2022-04-24T10:09:33.075298Z",
     "iopub.status.busy": "2022-04-24T10:09:33.070988Z",
     "iopub.status.idle": "2022-04-24T10:09:33.702440Z",
     "shell.execute_reply": "2022-04-24T10:09:33.702937Z"
    },
    "papermill": {
     "duration": 0.675849,
     "end_time": "2022-04-24T10:09:33.703106",
     "exception": false,
     "start_time": "2022-04-24T10:09:33.027257",
     "status": "completed"
    },
    "tags": []
   },
   "outputs": [],
   "source": [
    "train_images = mnist.train_images()\n",
    "train_labels = mnist.train_labels()"
   ]
  },
  {
   "cell_type": "code",
   "execution_count": 6,
   "id": "dceab3a5",
   "metadata": {
    "execution": {
     "iopub.execute_input": "2022-04-24T10:09:33.773562Z",
     "iopub.status.busy": "2022-04-24T10:09:33.768609Z",
     "iopub.status.idle": "2022-04-24T10:09:33.776676Z",
     "shell.execute_reply": "2022-04-24T10:09:33.776149Z"
    },
    "papermill": {
     "duration": 0.048107,
     "end_time": "2022-04-24T10:09:33.776792",
     "exception": false,
     "start_time": "2022-04-24T10:09:33.728685",
     "status": "completed"
    },
    "tags": []
   },
   "outputs": [
    {
     "data": {
      "text/plain": [
       "((60000, 28, 28), (60000,))"
      ]
     },
     "execution_count": 6,
     "metadata": {},
     "output_type": "execute_result"
    }
   ],
   "source": [
    "train_images.shape, train_labels.shape"
   ]
  },
  {
   "cell_type": "code",
   "execution_count": 7,
   "id": "f50dc2bb",
   "metadata": {
    "execution": {
     "iopub.execute_input": "2022-04-24T10:09:33.846338Z",
     "iopub.status.busy": "2022-04-24T10:09:33.845800Z",
     "iopub.status.idle": "2022-04-24T10:09:34.061266Z",
     "shell.execute_reply": "2022-04-24T10:09:34.060678Z"
    },
    "papermill": {
     "duration": 0.25914,
     "end_time": "2022-04-24T10:09:34.061412",
     "exception": false,
     "start_time": "2022-04-24T10:09:33.802272",
     "status": "completed"
    },
    "tags": []
   },
   "outputs": [],
   "source": [
    "test_images = mnist.test_images()\n",
    "test_labels = mnist.test_labels()"
   ]
  },
  {
   "cell_type": "code",
   "execution_count": 8,
   "id": "fc38cf1b",
   "metadata": {
    "execution": {
     "iopub.execute_input": "2022-04-24T10:09:34.128125Z",
     "iopub.status.busy": "2022-04-24T10:09:34.127583Z",
     "iopub.status.idle": "2022-04-24T10:09:34.135559Z",
     "shell.execute_reply": "2022-04-24T10:09:34.135125Z"
    },
    "papermill": {
     "duration": 0.047975,
     "end_time": "2022-04-24T10:09:34.135678",
     "exception": false,
     "start_time": "2022-04-24T10:09:34.087703",
     "status": "completed"
    },
    "tags": []
   },
   "outputs": [
    {
     "data": {
      "text/plain": [
       "((10000, 28, 28), (10000,))"
      ]
     },
     "execution_count": 8,
     "metadata": {},
     "output_type": "execute_result"
    }
   ],
   "source": [
    "test_images.shape, test_labels.shape"
   ]
  },
  {
   "cell_type": "code",
   "execution_count": 9,
   "id": "f9ed8fe0",
   "metadata": {
    "execution": {
     "iopub.execute_input": "2022-04-24T10:09:34.191071Z",
     "iopub.status.busy": "2022-04-24T10:09:34.190516Z",
     "iopub.status.idle": "2022-04-24T10:09:34.331090Z",
     "shell.execute_reply": "2022-04-24T10:09:34.331508Z"
    },
    "papermill": {
     "duration": 0.170299,
     "end_time": "2022-04-24T10:09:34.331651",
     "exception": false,
     "start_time": "2022-04-24T10:09:34.161352",
     "status": "completed"
    },
    "tags": []
   },
   "outputs": [
    {
     "name": "stdout",
     "output_type": "stream",
     "text": [
      "2\n"
     ]
    },
    {
     "data": {
      "text/plain": [
       "<matplotlib.image.AxesImage at 0x7f5d3d07d390>"
      ]
     },
     "execution_count": 9,
     "metadata": {},
     "output_type": "execute_result"
    },
    {
     "data": {
      "image/png": "[encoded data removed]",
      "text/plain": [
       "<Figure size 432x288 with 1 Axes>"
      ]
     },
     "metadata": {
      "needs_background": "light"
     },
     "output_type": "display_data"
    }
   ],
   "source": [
    "image_index = 7776 # You may select anything up to 60,000\n",
    "print(train_labels[image_index]) \n",
    "plt.imshow(train_images[image_index], cmap='Greys')"
   ]
  },
  {
   "cell_type": "markdown",
   "id": "a8d2388d",
   "metadata": {
    "papermill": {
     "duration": 0.026788,
     "end_time": "2022-04-24T10:09:34.385483",
     "exception": false,
     "start_time": "2022-04-24T10:09:34.358695",
     "status": "completed"
    },
    "tags": []
   },
   "source": [
    "## Filter data to get 3 and 8 out"
   ]
  },
  {
   "cell_type": "code",
   "execution_count": 10,
   "id": "776f7fc7",
   "metadata": {
    "execution": {
     "iopub.execute_input": "2022-04-24T10:09:34.443907Z",
     "iopub.status.busy": "2022-04-24T10:09:34.443366Z",
     "iopub.status.idle": "2022-04-24T10:09:34.463316Z",
     "shell.execute_reply": "2022-04-24T10:09:34.463817Z"
    },
    "papermill": {
     "duration": 0.051638,
     "end_time": "2022-04-24T10:09:34.463974",
     "exception": false,
     "start_time": "2022-04-24T10:09:34.412336",
     "status": "completed"
    },
    "tags": []
   },
   "outputs": [],
   "source": [
    "train_filter = np.where((train_labels == 3 ) | (train_labels == 8))\n",
    "test_filter = np.where((test_labels == 3) | (test_labels == 8))\n",
    "X_train, y_train = train_images[train_filter], train_labels[train_filter]\n",
    "X_test, y_test = test_images[test_filter], test_labels[test_filter]"
   ]
  },
  {
   "cell_type": "markdown",
   "id": "948f0b7e",
   "metadata": {
    "papermill": {
     "duration": 0.026838,
     "end_time": "2022-04-24T10:09:34.518526",
     "exception": false,
     "start_time": "2022-04-24T10:09:34.491688",
     "status": "completed"
    },
    "tags": []
   },
   "source": [
    "We normalize the pizel values in the 0 to 1 range"
   ]
  },
  {
   "cell_type": "code",
   "execution_count": 11,
   "id": "ee4c2166",
   "metadata": {
    "execution": {
     "iopub.execute_input": "2022-04-24T10:09:34.591591Z",
     "iopub.status.busy": "2022-04-24T10:09:34.588036Z",
     "iopub.status.idle": "2022-04-24T10:09:34.627919Z",
     "shell.execute_reply": "2022-04-24T10:09:34.627411Z"
    },
    "papermill": {
     "duration": 0.082617,
     "end_time": "2022-04-24T10:09:34.628061",
     "exception": false,
     "start_time": "2022-04-24T10:09:34.545444",
     "status": "completed"
    },
    "tags": []
   },
   "outputs": [],
   "source": [
    "X_train = X_train/255.\n",
    "X_test = X_test/255."
   ]
  },
  {
   "cell_type": "markdown",
   "id": "ddcf4fab",
   "metadata": {
    "papermill": {
     "duration": 0.026961,
     "end_time": "2022-04-24T10:09:34.682929",
     "exception": false,
     "start_time": "2022-04-24T10:09:34.655968",
     "status": "completed"
    },
    "tags": []
   },
   "source": [
    "And setup the labels as 1 (when the digit is 3) and 0 (when the digit is 8)"
   ]
  },
  {
   "cell_type": "code",
   "execution_count": 12,
   "id": "7dc908f2",
   "metadata": {
    "execution": {
     "iopub.execute_input": "2022-04-24T10:09:34.746050Z",
     "iopub.status.busy": "2022-04-24T10:09:34.745498Z",
     "iopub.status.idle": "2022-04-24T10:09:34.754818Z",
     "shell.execute_reply": "2022-04-24T10:09:34.754378Z"
    },
    "papermill": {
     "duration": 0.045137,
     "end_time": "2022-04-24T10:09:34.754942",
     "exception": false,
     "start_time": "2022-04-24T10:09:34.709805",
     "status": "completed"
    },
    "tags": []
   },
   "outputs": [],
   "source": [
    "y_train = 1*(y_train==3)\n",
    "y_test = 1*(y_test==3)"
   ]
  },
  {
   "cell_type": "code",
   "execution_count": 13,
   "id": "01e4e969",
   "metadata": {
    "execution": {
     "iopub.execute_input": "2022-04-24T10:09:34.812324Z",
     "iopub.status.busy": "2022-04-24T10:09:34.811814Z",
     "iopub.status.idle": "2022-04-24T10:09:34.825552Z",
     "shell.execute_reply": "2022-04-24T10:09:34.825984Z"
    },
    "papermill": {
     "duration": 0.044391,
     "end_time": "2022-04-24T10:09:34.826117",
     "exception": false,
     "start_time": "2022-04-24T10:09:34.781726",
     "status": "completed"
    },
    "tags": []
   },
   "outputs": [
    {
     "data": {
      "text/plain": [
       "((11982, 28, 28), (1984, 28, 28))"
      ]
     },
     "execution_count": 13,
     "metadata": {},
     "output_type": "execute_result"
    }
   ],
   "source": [
    "X_train.shape, X_test.shape"
   ]
  },
  {
   "cell_type": "markdown",
   "id": "5ccf3f85",
   "metadata": {
    "papermill": {
     "duration": 0.02686,
     "end_time": "2022-04-24T10:09:34.879976",
     "exception": false,
     "start_time": "2022-04-24T10:09:34.853116",
     "status": "completed"
    },
    "tags": []
   },
   "source": [
    "We reshape the data to flatten the image pixels into a set of features or co-variates:"
   ]
  },
  {
   "cell_type": "code",
   "execution_count": 14,
   "id": "5286a4a3",
   "metadata": {
    "execution": {
     "iopub.execute_input": "2022-04-24T10:09:34.949208Z",
     "iopub.status.busy": "2022-04-24T10:09:34.948669Z",
     "iopub.status.idle": "2022-04-24T10:09:34.955628Z",
     "shell.execute_reply": "2022-04-24T10:09:34.955212Z"
    },
    "papermill": {
     "duration": 0.048653,
     "end_time": "2022-04-24T10:09:34.955746",
     "exception": false,
     "start_time": "2022-04-24T10:09:34.907093",
     "status": "completed"
    },
    "tags": []
   },
   "outputs": [
    {
     "data": {
      "text/plain": [
       "((11982, 784), (1984, 784))"
      ]
     },
     "execution_count": 14,
     "metadata": {},
     "output_type": "execute_result"
    }
   ],
   "source": [
    "X_train = X_train.reshape(X_train.shape[0], -1)\n",
    "X_test = X_test.reshape(X_test.shape[0], -1)\n",
    "X_train.shape, X_test.shape"
   ]
  },
  {
   "cell_type": "code",
   "execution_count": 15,
   "id": "73c5f88a",
   "metadata": {
    "execution": {
     "iopub.execute_input": "2022-04-24T10:09:35.027504Z",
     "iopub.status.busy": "2022-04-24T10:09:35.025404Z",
     "iopub.status.idle": "2022-04-24T10:09:35.037991Z",
     "shell.execute_reply": "2022-04-24T10:09:35.037546Z"
    },
    "papermill": {
     "duration": 0.055073,
     "end_time": "2022-04-24T10:09:35.038106",
     "exception": false,
     "start_time": "2022-04-24T10:09:34.983033",
     "status": "completed"
    },
    "tags": []
   },
   "outputs": [],
   "source": [
    "#Impoting functions from 'Kudzu'\n",
    "from kudzu.model import Model\n",
    "from kudzu.train import Learner\n",
    "from kudzu.optim import GD\n",
    "from kudzu.data import Data, Sampler,Dataloader\n",
    "\n",
    "from kudzu.callbacks import AccCallback\n",
    "from kudzu.callbacks import ClfCallback\n",
    "\n",
    "from kudzu.loss import MSE\n",
    "\n",
    "from kudzu.layer import Sigmoid,Relu\n",
    "from kudzu.layer import Affine"
   ]
  },
  {
   "cell_type": "markdown",
   "id": "bc01172a",
   "metadata": {
    "papermill": {
     "duration": 0.027395,
     "end_time": "2022-04-24T10:09:35.093234",
     "exception": false,
     "start_time": "2022-04-24T10:09:35.065839",
     "status": "completed"
    },
    "tags": []
   },
   "source": [
    "### Let us create a `Config` class, to store important parameters. \n",
    "This class essentially plays the role of a dictionary."
   ]
  },
  {
   "cell_type": "code",
   "execution_count": 16,
   "id": "978281aa",
   "metadata": {
    "execution": {
     "iopub.execute_input": "2022-04-24T10:09:35.152611Z",
     "iopub.status.busy": "2022-04-24T10:09:35.152070Z",
     "iopub.status.idle": "2022-04-24T10:09:35.163678Z",
     "shell.execute_reply": "2022-04-24T10:09:35.164089Z"
    },
    "papermill": {
     "duration": 0.043669,
     "end_time": "2022-04-24T10:09:35.164227",
     "exception": false,
     "start_time": "2022-04-24T10:09:35.120558",
     "status": "completed"
    },
    "tags": []
   },
   "outputs": [],
   "source": [
    "class Config:\n",
    "    pass\n",
    "config = Config()\n",
    "config.lr = 0.001\n",
    "config.num_epochs = 250\n",
    "config.bs = 50"
   ]
  },
  {
   "cell_type": "markdown",
   "id": "1385fa59",
   "metadata": {
    "papermill": {
     "duration": 0.027082,
     "end_time": "2022-04-24T10:09:35.218575",
     "exception": false,
     "start_time": "2022-04-24T10:09:35.191493",
     "status": "completed"
    },
    "tags": []
   },
   "source": [
    "### Running Models with the Training data\n",
    "Details about the network layers:\n",
    "- A first affine layer has 784 inputs and does 100 affine transforms. These are followed by a Relu\n",
    "- A second affine layer has 100 inputs from the 100 activations of the past layer, and does 100 affine transforms. These are followed by a Relu\n",
    "- A third affine layer has 100 activations and does 2 affine transformations to create an embedding for visualization. There is no non-linearity here.\n",
    "- A final \"logistic regression\" which has an affine transform from 2 inputs to 1 output, which is squeezed through a sigmoid.\n"
   ]
  },
  {
   "cell_type": "code",
   "execution_count": 17,
   "id": "2b9c66db",
   "metadata": {
    "execution": {
     "iopub.execute_input": "2022-04-24T10:09:35.278711Z",
     "iopub.status.busy": "2022-04-24T10:09:35.278157Z",
     "iopub.status.idle": "2022-04-24T10:09:35.290685Z",
     "shell.execute_reply": "2022-04-24T10:09:35.290247Z"
    },
    "papermill": {
     "duration": 0.044947,
     "end_time": "2022-04-24T10:09:35.290804",
     "exception": false,
     "start_time": "2022-04-24T10:09:35.245857",
     "status": "completed"
    },
    "tags": []
   },
   "outputs": [],
   "source": [
    "data = Data(X_train, y_train.reshape(-1,1))\n",
    "sampler = Sampler(data, config.bs, shuffle=True)\n",
    "\n",
    "dl = Dataloader(data, sampler)\n",
    "\n",
    "opt = GD(config.lr)\n",
    "loss = MSE()"
   ]
  },
  {
   "cell_type": "code",
   "execution_count": 18,
   "id": "b275e4c2",
   "metadata": {
    "execution": {
     "iopub.execute_input": "2022-04-24T10:09:35.362619Z",
     "iopub.status.busy": "2022-04-24T10:09:35.360127Z",
     "iopub.status.idle": "2022-04-24T10:09:35.364979Z",
     "shell.execute_reply": "2022-04-24T10:09:35.364564Z"
    },
    "papermill": {
     "duration": 0.046958,
     "end_time": "2022-04-24T10:09:35.365099",
     "exception": false,
     "start_time": "2022-04-24T10:09:35.318141",
     "status": "completed"
    },
    "tags": []
   },
   "outputs": [],
   "source": [
    "training_data_x = X_train\n",
    "testing_data_x = X_test\n",
    "training_data_y = y_train.reshape(-1,1)\n",
    "testing_data_y = y_test.reshape(-1,1)"
   ]
  },
  {
   "cell_type": "code",
   "execution_count": 19,
   "id": "76951160",
   "metadata": {
    "execution": {
     "iopub.execute_input": "2022-04-24T10:09:35.427971Z",
     "iopub.status.busy": "2022-04-24T10:09:35.427432Z",
     "iopub.status.idle": "2022-04-24T10:09:35.441797Z",
     "shell.execute_reply": "2022-04-24T10:09:35.441376Z"
    },
    "papermill": {
     "duration": 0.049623,
     "end_time": "2022-04-24T10:09:35.441916",
     "exception": false,
     "start_time": "2022-04-24T10:09:35.392293",
     "status": "completed"
    },
    "tags": []
   },
   "outputs": [
    {
     "name": "stdout",
     "output_type": "stream",
     "text": [
      "xavier\n",
      "xavier\n",
      "xavier\n",
      "xavier\n",
      "xavier\n"
     ]
    }
   ],
   "source": [
    "layers = [Affine(\"first\", 784, 100), Relu(\"first\"), Affine(\"second\", 100, 100), Relu(\"second\"), Affine(\"third\", 100, 2), Affine(\"last\", 2, 1), Sigmoid(\"last\")]\n",
    "model_nn = Model(layers)\n",
    "model_lr = Model([Affine(\"logits\", 784, 1), Sigmoid(\"sigmoid\")])"
   ]
  },
  {
   "cell_type": "code",
   "execution_count": 20,
   "id": "6eede77a",
   "metadata": {
    "execution": {
     "iopub.execute_input": "2022-04-24T10:09:35.509256Z",
     "iopub.status.busy": "2022-04-24T10:09:35.508704Z",
     "iopub.status.idle": "2022-04-24T10:09:35.517094Z",
     "shell.execute_reply": "2022-04-24T10:09:35.516516Z"
    },
    "papermill": {
     "duration": 0.047675,
     "end_time": "2022-04-24T10:09:35.517223",
     "exception": false,
     "start_time": "2022-04-24T10:09:35.469548",
     "status": "completed"
    },
    "tags": []
   },
   "outputs": [],
   "source": [
    "nn_learner = Learner(loss, model_nn, opt, config.num_epochs)\n",
    "acc_nn = ClfCallback(nn_learner, config.bs, training_data_x , testing_data_x, training_data_y, testing_data_y)\n",
    "nn_learner.set_callbacks([acc_nn])"
   ]
  },
  {
   "cell_type": "code",
   "execution_count": 21,
   "id": "877b6cc7",
   "metadata": {
    "execution": {
     "iopub.execute_input": "2022-04-24T10:09:35.591557Z",
     "iopub.status.busy": "2022-04-24T10:09:35.588242Z",
     "iopub.status.idle": "2022-04-24T10:09:35.594305Z",
     "shell.execute_reply": "2022-04-24T10:09:35.594715Z"
    },
    "papermill": {
     "duration": 0.049468,
     "end_time": "2022-04-24T10:09:35.594866",
     "exception": false,
     "start_time": "2022-04-24T10:09:35.545398",
     "status": "completed"
    },
    "tags": []
   },
   "outputs": [],
   "source": [
    "lr_learner = Learner(loss, model_lr, opt, config.num_epochs)\n",
    "acc_lr = ClfCallback(lr_learner, config.bs, training_data_x , testing_data_x, training_data_y, testing_data_y)\n",
    "lr_learner.set_callbacks([acc_lr])"
   ]
  },
  {
   "cell_type": "code",
   "execution_count": 22,
   "id": "d9b133c3",
   "metadata": {
    "execution": {
     "iopub.execute_input": "2022-04-24T10:09:35.667800Z",
     "iopub.status.busy": "2022-04-24T10:09:35.656833Z",
     "iopub.status.idle": "2022-04-24T10:10:52.308642Z",
     "shell.execute_reply": "2022-04-24T10:10:52.309402Z"
    },
    "papermill": {
     "duration": 76.686675,
     "end_time": "2022-04-24T10:10:52.309559",
     "exception": false,
     "start_time": "2022-04-24T10:09:35.622884",
     "status": "completed"
    },
    "tags": []
   },
   "outputs": [
    {
     "name": "stdout",
     "output_type": "stream",
     "text": [
      "Epoch 0, Loss 0.2517\n",
      "Training Accuracy: 0.5452, Testing Accuracy: 0.5338\n",
      "\n"
     ]
    },
    {
     "name": "stdout",
     "output_type": "stream",
     "text": [
      "Epoch 10, Loss 0.1364\n",
      "Training Accuracy: 0.8991, Testing Accuracy: 0.9098\n",
      "\n"
     ]
    },
    {
     "name": "stdout",
     "output_type": "stream",
     "text": [
      "Epoch 20, Loss 0.0698\n",
      "Training Accuracy: 0.9318, Testing Accuracy: 0.9390\n",
      "\n"
     ]
    },
    {
     "name": "stdout",
     "output_type": "stream",
     "text": [
      "Epoch 30, Loss 0.0503\n",
      "Training Accuracy: 0.9454, Testing Accuracy: 0.9546\n",
      "\n"
     ]
    },
    {
     "name": "stdout",
     "output_type": "stream",
     "text": [
      "Epoch 40, Loss 0.0419\n",
      "Training Accuracy: 0.9537, Testing Accuracy: 0.9612\n",
      "\n"
     ]
    },
    {
     "name": "stdout",
     "output_type": "stream",
     "text": [
      "Epoch 50, Loss 0.0371\n",
      "Training Accuracy: 0.9576, Testing Accuracy: 0.9662\n",
      "\n"
     ]
    },
    {
     "name": "stdout",
     "output_type": "stream",
     "text": [
      "Epoch 60, Loss 0.0341\n",
      "Training Accuracy: 0.9612, Testing Accuracy: 0.9662\n",
      "\n"
     ]
    },
    {
     "name": "stdout",
     "output_type": "stream",
     "text": [
      "Epoch 70, Loss 0.0319\n",
      "Training Accuracy: 0.9639, Testing Accuracy: 0.9682\n",
      "\n"
     ]
    },
    {
     "name": "stdout",
     "output_type": "stream",
     "text": [
      "Epoch 80, Loss 0.0301\n",
      "Training Accuracy: 0.9652, Testing Accuracy: 0.9688\n",
      "\n"
     ]
    },
    {
     "name": "stdout",
     "output_type": "stream",
     "text": [
      "Epoch 90, Loss 0.0287\n",
      "Training Accuracy: 0.9669, Testing Accuracy: 0.9688\n",
      "\n"
     ]
    },
    {
     "name": "stdout",
     "output_type": "stream",
     "text": [
      "Epoch 100, Loss 0.0276\n",
      "Training Accuracy: 0.9680, Testing Accuracy: 0.9698\n",
      "\n"
     ]
    },
    {
     "name": "stdout",
     "output_type": "stream",
     "text": [
      "Epoch 110, Loss 0.0266\n",
      "Training Accuracy: 0.9692, Testing Accuracy: 0.9703\n",
      "\n"
     ]
    },
    {
     "name": "stdout",
     "output_type": "stream",
     "text": [
      "Epoch 120, Loss 0.0257\n",
      "Training Accuracy: 0.9710, Testing Accuracy: 0.9703\n",
      "\n"
     ]
    },
    {
     "name": "stdout",
     "output_type": "stream",
     "text": [
      "Epoch 130, Loss 0.0249\n",
      "Training Accuracy: 0.9715, Testing Accuracy: 0.9708\n",
      "\n"
     ]
    },
    {
     "name": "stdout",
     "output_type": "stream",
     "text": [
      "Epoch 140, Loss 0.0242\n",
      "Training Accuracy: 0.9722, Testing Accuracy: 0.9703\n",
      "\n"
     ]
    },
    {
     "name": "stdout",
     "output_type": "stream",
     "text": [
      "Epoch 150, Loss 0.0236\n",
      "Training Accuracy: 0.9726, Testing Accuracy: 0.9703\n",
      "\n"
     ]
    },
    {
     "name": "stdout",
     "output_type": "stream",
     "text": [
      "Epoch 160, Loss 0.023\n",
      "Training Accuracy: 0.9734, Testing Accuracy: 0.9698\n",
      "\n"
     ]
    },
    {
     "name": "stdout",
     "output_type": "stream",
     "text": [
      "Epoch 170, Loss 0.0225\n",
      "Training Accuracy: 0.9746, Testing Accuracy: 0.9698\n",
      "\n"
     ]
    },
    {
     "name": "stdout",
     "output_type": "stream",
     "text": [
      "Epoch 180, Loss 0.022\n",
      "Training Accuracy: 0.9751, Testing Accuracy: 0.9713\n",
      "\n"
     ]
    },
    {
     "name": "stdout",
     "output_type": "stream",
     "text": [
      "Epoch 190, Loss 0.0215\n",
      "Training Accuracy: 0.9758, Testing Accuracy: 0.9718\n",
      "\n"
     ]
    },
    {
     "name": "stdout",
     "output_type": "stream",
     "text": [
      "Epoch 200, Loss 0.021\n",
      "Training Accuracy: 0.9762, Testing Accuracy: 0.9723\n",
      "\n"
     ]
    },
    {
     "name": "stdout",
     "output_type": "stream",
     "text": [
      "Epoch 210, Loss 0.0206\n",
      "Training Accuracy: 0.9768, Testing Accuracy: 0.9738\n",
      "\n"
     ]
    },
    {
     "name": "stdout",
     "output_type": "stream",
     "text": [
      "Epoch 220, Loss 0.0202\n",
      "Training Accuracy: 0.9772, Testing Accuracy: 0.9743\n",
      "\n"
     ]
    },
    {
     "name": "stdout",
     "output_type": "stream",
     "text": [
      "Epoch 230, Loss 0.0198\n",
      "Training Accuracy: 0.9774, Testing Accuracy: 0.9743\n",
      "\n"
     ]
    },
    {
     "name": "stdout",
     "output_type": "stream",
     "text": [
      "Epoch 240, Loss 0.0194\n",
      "Training Accuracy: 0.9777, Testing Accuracy: 0.9743\n",
      "\n"
     ]
    },
    {
     "data": {
      "text/plain": [
       "0.03892906066112246"
      ]
     },
     "execution_count": 22,
     "metadata": {},
     "output_type": "execute_result"
    }
   ],
   "source": [
    "nn_learner.train_loop(dl)"
   ]
  },
  {
   "cell_type": "code",
   "execution_count": 23,
   "id": "e0163366",
   "metadata": {
    "execution": {
     "iopub.execute_input": "2022-04-24T10:10:52.397006Z",
     "iopub.status.busy": "2022-04-24T10:10:52.396450Z",
     "iopub.status.idle": "2022-04-24T10:11:06.930336Z",
     "shell.execute_reply": "2022-04-24T10:11:06.931081Z"
    },
    "papermill": {
     "duration": 14.586489,
     "end_time": "2022-04-24T10:11:06.931236",
     "exception": false,
     "start_time": "2022-04-24T10:10:52.344747",
     "status": "completed"
    },
    "tags": []
   },
   "outputs": [
    {
     "name": "stdout",
     "output_type": "stream",
     "text": [
      "Epoch 0, Loss 0.2527\n",
      "Training Accuracy: 0.6451, Testing Accuracy: 0.6638\n",
      "\n"
     ]
    },
    {
     "name": "stdout",
     "output_type": "stream",
     "text": [
      "Epoch 10, Loss 0.1053\n",
      "Training Accuracy: 0.9038, Testing Accuracy: 0.9183\n",
      "\n"
     ]
    },
    {
     "name": "stdout",
     "output_type": "stream",
     "text": [
      "Epoch 20, Loss 0.0804\n",
      "Training Accuracy: 0.9256, Testing Accuracy: 0.9370\n",
      "\n"
     ]
    },
    {
     "name": "stdout",
     "output_type": "stream",
     "text": [
      "Epoch 30, Loss 0.069\n",
      "Training Accuracy: 0.9348, Testing Accuracy: 0.9476\n",
      "\n"
     ]
    },
    {
     "name": "stdout",
     "output_type": "stream",
     "text": [
      "Epoch 40, Loss 0.0623\n",
      "Training Accuracy: 0.9402, Testing Accuracy: 0.9526\n",
      "\n"
     ]
    },
    {
     "name": "stdout",
     "output_type": "stream",
     "text": [
      "Epoch 50, Loss 0.0577\n",
      "Training Accuracy: 0.9433, Testing Accuracy: 0.9561\n",
      "\n"
     ]
    },
    {
     "name": "stdout",
     "output_type": "stream",
     "text": [
      "Epoch 60, Loss 0.0543\n",
      "Training Accuracy: 0.9457, Testing Accuracy: 0.9561\n",
      "\n"
     ]
    },
    {
     "name": "stdout",
     "output_type": "stream",
     "text": [
      "Epoch 70, Loss 0.0517\n",
      "Training Accuracy: 0.9480, Testing Accuracy: 0.9582\n",
      "\n"
     ]
    },
    {
     "name": "stdout",
     "output_type": "stream",
     "text": [
      "Epoch 80, Loss 0.0496\n",
      "Training Accuracy: 0.9492, Testing Accuracy: 0.9587\n",
      "\n"
     ]
    },
    {
     "name": "stdout",
     "output_type": "stream",
     "text": [
      "Epoch 90, Loss 0.0479\n",
      "Training Accuracy: 0.9508, Testing Accuracy: 0.9597\n",
      "\n"
     ]
    },
    {
     "name": "stdout",
     "output_type": "stream",
     "text": [
      "Epoch 100, Loss 0.0464\n",
      "Training Accuracy: 0.9520, Testing Accuracy: 0.9607\n",
      "\n"
     ]
    },
    {
     "name": "stdout",
     "output_type": "stream",
     "text": [
      "Epoch 110, Loss 0.0452\n",
      "Training Accuracy: 0.9533, Testing Accuracy: 0.9617\n",
      "\n"
     ]
    },
    {
     "name": "stdout",
     "output_type": "stream",
     "text": [
      "Epoch 120, Loss 0.0441\n",
      "Training Accuracy: 0.9543, Testing Accuracy: 0.9627\n",
      "\n"
     ]
    },
    {
     "name": "stdout",
     "output_type": "stream",
     "text": [
      "Epoch 130, Loss 0.0432\n",
      "Training Accuracy: 0.9554, Testing Accuracy: 0.9637\n",
      "\n"
     ]
    },
    {
     "name": "stdout",
     "output_type": "stream",
     "text": [
      "Epoch 140, Loss 0.0423\n",
      "Training Accuracy: 0.9559, Testing Accuracy: 0.9647\n",
      "\n"
     ]
    },
    {
     "name": "stdout",
     "output_type": "stream",
     "text": [
      "Epoch 150, Loss 0.0416\n",
      "Training Accuracy: 0.9568, Testing Accuracy: 0.9647\n",
      "\n"
     ]
    },
    {
     "name": "stdout",
     "output_type": "stream",
     "text": [
      "Epoch 160, Loss 0.0409\n",
      "Training Accuracy: 0.9574, Testing Accuracy: 0.9657\n",
      "\n"
     ]
    },
    {
     "name": "stdout",
     "output_type": "stream",
     "text": [
      "Epoch 170, Loss 0.0403\n",
      "Training Accuracy: 0.9579, Testing Accuracy: 0.9657\n",
      "\n"
     ]
    },
    {
     "name": "stdout",
     "output_type": "stream",
     "text": [
      "Epoch 180, Loss 0.0397\n",
      "Training Accuracy: 0.9582, Testing Accuracy: 0.9662\n",
      "\n"
     ]
    },
    {
     "name": "stdout",
     "output_type": "stream",
     "text": [
      "Epoch 190, Loss 0.0392\n",
      "Training Accuracy: 0.9584, Testing Accuracy: 0.9672\n",
      "\n"
     ]
    },
    {
     "name": "stdout",
     "output_type": "stream",
     "text": [
      "Epoch 200, Loss 0.0387\n",
      "Training Accuracy: 0.9586, Testing Accuracy: 0.9672\n",
      "\n"
     ]
    },
    {
     "name": "stdout",
     "output_type": "stream",
     "text": [
      "Epoch 210, Loss 0.0382\n",
      "Training Accuracy: 0.9588, Testing Accuracy: 0.9677\n",
      "\n"
     ]
    },
    {
     "name": "stdout",
     "output_type": "stream",
     "text": [
      "Epoch 220, Loss 0.0378\n",
      "Training Accuracy: 0.9591, Testing Accuracy: 0.9677\n",
      "\n"
     ]
    },
    {
     "name": "stdout",
     "output_type": "stream",
     "text": [
      "Epoch 230, Loss 0.0374\n",
      "Training Accuracy: 0.9594, Testing Accuracy: 0.9672\n",
      "\n"
     ]
    },
    {
     "name": "stdout",
     "output_type": "stream",
     "text": [
      "Epoch 240, Loss 0.0371\n",
      "Training Accuracy: 0.9597, Testing Accuracy: 0.9677\n",
      "\n"
     ]
    },
    {
     "data": {
      "text/plain": [
       "0.03564823075576795"
      ]
     },
     "execution_count": 23,
     "metadata": {},
     "output_type": "execute_result"
    }
   ],
   "source": [
    "lr_learner.train_loop(dl)"
   ]
  },
  {
   "cell_type": "code",
   "execution_count": 24,
   "id": "ca410940",
   "metadata": {
    "execution": {
     "iopub.execute_input": "2022-04-24T10:11:07.024144Z",
     "iopub.status.busy": "2022-04-24T10:11:07.023583Z",
     "iopub.status.idle": "2022-04-24T10:11:07.245112Z",
     "shell.execute_reply": "2022-04-24T10:11:07.244654Z"
    },
    "papermill": {
     "duration": 0.272378,
     "end_time": "2022-04-24T10:11:07.245237",
     "exception": false,
     "start_time": "2022-04-24T10:11:06.972859",
     "status": "completed"
    },
    "tags": []
   },
   "outputs": [
    {
     "data": {
      "text/plain": [
       "<matplotlib.legend.Legend at 0x7f5d3cc5dac8>"
      ]
     },
     "execution_count": 24,
     "metadata": {},
     "output_type": "execute_result"
    },
    {
     "data": {
      "image/png": "[encoded data removed]",
      "text/plain": [
       "<Figure size 1080x720 with 1 Axes>"
      ]
     },
     "metadata": {
      "needs_background": "light"
     },
     "output_type": "display_data"
    }
   ],
   "source": [
    "#comparing the results of NN and LR\n",
    "plt.figure(figsize=(15,10))\n",
    "\n",
    "# Neural Network plots\n",
    "plt.plot(acc_nn.accuracies, 'r-', label = \"Training Accuracies - NN\")\n",
    "plt.plot(acc_nn.test_accuracies, 'g-', label = \"Testing Accuracies - NN\")\n",
    "\n",
    "# Logistic Regression plots\n",
    "plt.plot(acc_lr.accuracies, 'k-', label = \"Training Accuracies - LR\")\n",
    "plt.plot(acc_lr.test_accuracies, 'b-', label = \"Testing Accuracies - LR\")\n",
    "plt.legend()"
   ]
  },
  {
   "cell_type": "markdown",
   "id": "80dfb35c",
   "metadata": {
    "papermill": {
     "duration": 0.04259,
     "end_time": "2022-04-24T10:11:07.330907",
     "exception": false,
     "start_time": "2022-04-24T10:11:07.288317",
     "status": "completed"
    },
    "tags": []
   },
   "source": [
    "#### Plotting the outputs of this layer of the NN.\n"
   ]
  },
  {
   "cell_type": "code",
   "execution_count": 25,
   "id": "45eb2ff5",
   "metadata": {
    "execution": {
     "iopub.execute_input": "2022-04-24T10:11:07.420366Z",
     "iopub.status.busy": "2022-04-24T10:11:07.419809Z",
     "iopub.status.idle": "2022-04-24T10:11:07.441029Z",
     "shell.execute_reply": "2022-04-24T10:11:07.441450Z"
    },
    "papermill": {
     "duration": 0.068162,
     "end_time": "2022-04-24T10:11:07.441597",
     "exception": false,
     "start_time": "2022-04-24T10:11:07.373435",
     "status": "completed"
    },
    "tags": []
   },
   "outputs": [],
   "source": [
    "new_model = Model(layers[:-2])\n",
    "testing_plot = new_model(testing_data_x)"
   ]
  },
  {
   "cell_type": "code",
   "execution_count": 26,
   "id": "4c0a5485",
   "metadata": {
    "execution": {
     "iopub.execute_input": "2022-04-24T10:11:07.533096Z",
     "iopub.status.busy": "2022-04-24T10:11:07.532520Z",
     "iopub.status.idle": "2022-04-24T10:11:07.721774Z",
     "shell.execute_reply": "2022-04-24T10:11:07.721310Z"
    },
    "papermill": {
     "duration": 0.2369,
     "end_time": "2022-04-24T10:11:07.721900",
     "exception": false,
     "start_time": "2022-04-24T10:11:07.485000",
     "status": "completed"
    },
    "tags": []
   },
   "outputs": [
    {
     "data": {
      "text/plain": [
       "Text(0.5, 1.0, 'Outputs')"
      ]
     },
     "execution_count": 26,
     "metadata": {},
     "output_type": "execute_result"
    },
    {
     "data": {
      "image/png": "[encoded data removed]",
      "text/plain": [
       "<Figure size 576x504 with 1 Axes>"
      ]
     },
     "metadata": {
      "needs_background": "light"
     },
     "output_type": "display_data"
    }
   ],
   "source": [
    "# Plotting the scatter plot of points and color coding by class\n",
    "plt.figure(figsize=(8,7))\n",
    "plt.scatter(testing_plot[:,0], testing_plot[:,1], alpha = 0.1, c = y_test.ravel());\n",
    "plt.title('Outputs')"
   ]
  },
  {
   "cell_type": "markdown",
   "id": "a74fcf8f",
   "metadata": {
    "papermill": {
     "duration": 0.044566,
     "end_time": "2022-04-24T10:11:07.811645",
     "exception": false,
     "start_time": "2022-04-24T10:11:07.767079",
     "status": "completed"
    },
    "tags": []
   },
   "source": [
    "Probability contours"
   ]
  },
  {
   "cell_type": "code",
   "execution_count": 27,
   "id": "d0afc8e3",
   "metadata": {
    "execution": {
     "iopub.execute_input": "2022-04-24T10:11:07.916260Z",
     "iopub.status.busy": "2022-04-24T10:11:07.915686Z",
     "iopub.status.idle": "2022-04-24T10:11:07.921548Z",
     "shell.execute_reply": "2022-04-24T10:11:07.921098Z"
    },
    "papermill": {
     "duration": 0.06523,
     "end_time": "2022-04-24T10:11:07.921669",
     "exception": false,
     "start_time": "2022-04-24T10:11:07.856439",
     "status": "completed"
    },
    "tags": []
   },
   "outputs": [],
   "source": [
    "model_prob = Model(layers[-2:]) "
   ]
  },
  {
   "cell_type": "code",
   "execution_count": 28,
   "id": "9b96e238",
   "metadata": {
    "execution": {
     "iopub.execute_input": "2022-04-24T10:11:08.052299Z",
     "iopub.status.busy": "2022-04-24T10:11:08.051488Z",
     "iopub.status.idle": "2022-04-24T10:11:08.065688Z",
     "shell.execute_reply": "2022-04-24T10:11:08.065156Z"
    },
    "papermill": {
     "duration": 0.067943,
     "end_time": "2022-04-24T10:11:08.065812",
     "exception": false,
     "start_time": "2022-04-24T10:11:07.997869",
     "status": "completed"
    },
    "tags": []
   },
   "outputs": [],
   "source": [
    "#creating the x and y ranges according to the above generated plot.\n",
    "x_range = np.linspace(-4, 1, 100) \n",
    "y_range = np.linspace(-6, 6, 100) \n",
    "x_grid, y_grid = np.meshgrid(x_range, y_range) # x_grid and y_grig are of size 100 X 100\n",
    "\n",
    "# converting x_grid and y_grid to continuous arrays\n",
    "x_gridflat = np.ravel(x_grid)\n",
    "y_gridflat = np.ravel(y_grid)\n",
    "\n",
    "# The last layer of the current model takes two columns as input. Hence transpose of np.vstack() is required.\n",
    "X = np.vstack((x_gridflat, y_gridflat)).T\n",
    "\n",
    "prob_contour = model_prob(X).reshape(100,100) "
   ]
  },
  {
   "cell_type": "code",
   "execution_count": 29,
   "id": "da72499a",
   "metadata": {
    "execution": {
     "iopub.execute_input": "2022-04-24T10:11:08.184635Z",
     "iopub.status.busy": "2022-04-24T10:11:08.178208Z",
     "iopub.status.idle": "2022-04-24T10:11:08.425647Z",
     "shell.execute_reply": "2022-04-24T10:11:08.426101Z"
    },
    "papermill": {
     "duration": 0.303642,
     "end_time": "2022-04-24T10:11:08.426255",
     "exception": false,
     "start_time": "2022-04-24T10:11:08.122613",
     "status": "completed"
    },
    "tags": []
   },
   "outputs": [
    {
     "data": {
      "image/png": "[encoded data removed]",
      "text/plain": [
       "<Figure size 720x648 with 1 Axes>"
      ]
     },
     "metadata": {
      "needs_background": "light"
     },
     "output_type": "display_data"
    }
   ],
   "source": [
    "plt.figure(figsize=(10,9))\n",
    "plt.scatter(testing_plot[:,0], testing_plot[:,1], alpha = 0.1, c = y_test.ravel())\n",
    "contours = plt.contour(x_grid,y_grid,prob_contour)\n",
    "plt.title('Probability Contours')\n",
    "plt.clabel(contours, inline = True );"
   ]
  },
  {
   "cell_type": "code",
   "execution_count": null,
   "id": "e81b4ac7",
   "metadata": {
    "papermill": {
     "duration": 0.047429,
     "end_time": "2022-04-24T10:11:08.521396",
     "exception": false,
     "start_time": "2022-04-24T10:11:08.473967",
     "status": "completed"
    },
    "tags": []
   },
   "outputs": [],
   "source": []
  }
 ],
 "metadata": {
  "kernelspec": {
   "display_name": "Python 3",
   "language": "python",
   "name": "python3"
  },
  "language_info": {
   "codemirror_mode": {
    "name": "ipython",
    "version": 3
   },
   "file_extension": ".py",
   "mimetype": "text/x-python",
   "name": "python",
   "nbconvert_exporter": "python",
   "pygments_lexer": "ipython3",
   "version": "3.6.15"
  },
  "papermill": {
   "default_parameters": {},
   "duration": 99.649971,
   "end_time": "2022-04-24T10:11:08.987926",
   "environment_variables": {},
   "exception": null,
   "input_path": "2020-08-11-part2.ipynb",
   "output_path": "2020-08-11-part2.ipynb",
   "parameters": {},
   "start_time": "2022-04-24T10:09:29.337955",
   "version": "2.3.3"
  }
 },
 "nbformat": 4,
 "nbformat_minor": 5
}