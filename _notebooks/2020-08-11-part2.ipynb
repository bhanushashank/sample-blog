{
 "cells": [
  {
   "cell_type": "markdown",
   "id": "98380cd3",
   "metadata": {
    "papermill": {
     "duration": 0.027862,
     "end_time": "2021-12-19T20:08:34.677872",
     "exception": false,
     "start_time": "2021-12-19T20:08:34.650010",
     "status": "completed"
    },
    "tags": []
   },
   "source": [
    "# Distinguish Your Own Digits (DYOD)"
   ]
  },
  {
   "cell_type": "markdown",
   "id": "ef31240d",
   "metadata": {
    "papermill": {
     "duration": 0.023776,
     "end_time": "2021-12-19T20:08:34.726035",
     "exception": false,
     "start_time": "2021-12-19T20:08:34.702259",
     "status": "completed"
    },
    "tags": []
   },
   "source": [
    "You are going to write a classifier that distinguishes between the number 3 and number 8."
   ]
  },
  {
   "cell_type": "code",
   "execution_count": 1,
   "id": "b15c8646",
   "metadata": {
    "execution": {
     "iopub.execute_input": "2021-12-19T20:08:34.783533Z",
     "iopub.status.busy": "2021-12-19T20:08:34.782959Z",
     "iopub.status.idle": "2021-12-19T20:08:34.796488Z",
     "shell.execute_reply": "2021-12-19T20:08:34.796025Z"
    },
    "papermill": {
     "duration": 0.046982,
     "end_time": "2021-12-19T20:08:34.796628",
     "exception": false,
     "start_time": "2021-12-19T20:08:34.749646",
     "status": "completed"
    },
    "tags": []
   },
   "outputs": [],
   "source": [
    "%load_ext autoreload\n",
    "%autoreload 2"
   ]
  },
  {
   "cell_type": "code",
   "execution_count": 2,
   "id": "22ef38dc",
   "metadata": {
    "execution": {
     "iopub.execute_input": "2021-12-19T20:08:34.850536Z",
     "iopub.status.busy": "2021-12-19T20:08:34.849925Z",
     "iopub.status.idle": "2021-12-19T20:08:35.441649Z",
     "shell.execute_reply": "2021-12-19T20:08:35.441111Z"
    },
    "papermill": {
     "duration": 0.621073,
     "end_time": "2021-12-19T20:08:35.441795",
     "exception": false,
     "start_time": "2021-12-19T20:08:34.820722",
     "status": "completed"
    },
    "tags": []
   },
   "outputs": [],
   "source": [
    "%matplotlib inline\n",
    "import numpy as np\n",
    "import matplotlib.pyplot as plt\n",
    "import pandas as pd"
   ]
  },
  {
   "cell_type": "markdown",
   "id": "ba036198",
   "metadata": {
    "papermill": {
     "duration": 0.02384,
     "end_time": "2021-12-19T20:08:35.490291",
     "exception": false,
     "start_time": "2021-12-19T20:08:35.466451",
     "status": "completed"
    },
    "tags": []
   },
   "source": [
    "From the command line run `pip install mnist`. This is a library that will help you bring down the mnist dataset. If you run this from a notebook, you need to put  `!pip install mnist` in a cell by itself."
   ]
  },
  {
   "cell_type": "code",
   "execution_count": 3,
   "id": "bb6ad8a1",
   "metadata": {
    "execution": {
     "iopub.execute_input": "2021-12-19T20:08:35.543280Z",
     "iopub.status.busy": "2021-12-19T20:08:35.542744Z",
     "iopub.status.idle": "2021-12-19T20:08:38.024731Z",
     "shell.execute_reply": "2021-12-19T20:08:38.024167Z"
    },
    "papermill": {
     "duration": 2.510641,
     "end_time": "2021-12-19T20:08:38.024865",
     "exception": false,
     "start_time": "2021-12-19T20:08:35.514224",
     "status": "completed"
    },
    "tags": []
   },
   "outputs": [
    {
     "name": "stdout",
     "output_type": "stream",
     "text": [
      "Collecting mnist\r\n"
     ]
    },
    {
     "name": "stdout",
     "output_type": "stream",
     "text": [
      "  Downloading mnist-0.2.2-py2.py3-none-any.whl (3.5 kB)\r\n",
      "Requirement already satisfied: numpy in /opt/hostedtoolcache/Python/3.6.15/x64/lib/python3.6/site-packages (from mnist) (1.19.5)\r\n"
     ]
    },
    {
     "name": "stdout",
     "output_type": "stream",
     "text": [
      "Installing collected packages: mnist\r\n"
     ]
    },
    {
     "name": "stdout",
     "output_type": "stream",
     "text": [
      "Successfully installed mnist-0.2.2\r\n"
     ]
    }
   ],
   "source": [
    "!pip install mnist"
   ]
  },
  {
   "cell_type": "markdown",
   "id": "69df9c9a",
   "metadata": {
    "papermill": {
     "duration": 0.025073,
     "end_time": "2021-12-19T20:08:38.075312",
     "exception": false,
     "start_time": "2021-12-19T20:08:38.050239",
     "status": "completed"
    },
    "tags": []
   },
   "source": [
    "## Preparing the Data"
   ]
  },
  {
   "cell_type": "code",
   "execution_count": 4,
   "id": "7f69d806",
   "metadata": {
    "execution": {
     "iopub.execute_input": "2021-12-19T20:08:38.141056Z",
     "iopub.status.busy": "2021-12-19T20:08:38.134975Z",
     "iopub.status.idle": "2021-12-19T20:08:38.147264Z",
     "shell.execute_reply": "2021-12-19T20:08:38.147676Z"
    },
    "papermill": {
     "duration": 0.047457,
     "end_time": "2021-12-19T20:08:38.147809",
     "exception": false,
     "start_time": "2021-12-19T20:08:38.100352",
     "status": "completed"
    },
    "tags": []
   },
   "outputs": [],
   "source": [
    "import mnist"
   ]
  },
  {
   "cell_type": "code",
   "execution_count": 5,
   "id": "a411e44f",
   "metadata": {
    "execution": {
     "iopub.execute_input": "2021-12-19T20:08:38.219224Z",
     "iopub.status.busy": "2021-12-19T20:08:38.212637Z",
     "iopub.status.idle": "2021-12-19T20:08:38.718229Z",
     "shell.execute_reply": "2021-12-19T20:08:38.718689Z"
    },
    "papermill": {
     "duration": 0.545989,
     "end_time": "2021-12-19T20:08:38.718844",
     "exception": false,
     "start_time": "2021-12-19T20:08:38.172855",
     "status": "completed"
    },
    "tags": []
   },
   "outputs": [],
   "source": [
    "train_images = mnist.train_images()\n",
    "train_labels = mnist.train_labels()"
   ]
  },
  {
   "cell_type": "code",
   "execution_count": 6,
   "id": "dceab3a5",
   "metadata": {
    "execution": {
     "iopub.execute_input": "2021-12-19T20:08:38.785046Z",
     "iopub.status.busy": "2021-12-19T20:08:38.784516Z",
     "iopub.status.idle": "2021-12-19T20:08:38.793522Z",
     "shell.execute_reply": "2021-12-19T20:08:38.793931Z"
    },
    "papermill": {
     "duration": 0.049995,
     "end_time": "2021-12-19T20:08:38.794060",
     "exception": false,
     "start_time": "2021-12-19T20:08:38.744065",
     "status": "completed"
    },
    "tags": []
   },
   "outputs": [
    {
     "data": {
      "text/plain": [
       "((60000, 28, 28), (60000,))"
      ]
     },
     "execution_count": 6,
     "metadata": {},
     "output_type": "execute_result"
    }
   ],
   "source": [
    "train_images.shape, train_labels.shape"
   ]
  },
  {
   "cell_type": "code",
   "execution_count": 7,
   "id": "f50dc2bb",
   "metadata": {
    "execution": {
     "iopub.execute_input": "2021-12-19T20:08:38.851912Z",
     "iopub.status.busy": "2021-12-19T20:08:38.851351Z",
     "iopub.status.idle": "2021-12-19T20:08:38.997041Z",
     "shell.execute_reply": "2021-12-19T20:08:38.996511Z"
    },
    "papermill": {
     "duration": 0.177941,
     "end_time": "2021-12-19T20:08:38.997183",
     "exception": false,
     "start_time": "2021-12-19T20:08:38.819242",
     "status": "completed"
    },
    "tags": []
   },
   "outputs": [],
   "source": [
    "test_images = mnist.test_images()\n",
    "test_labels = mnist.test_labels()"
   ]
  },
  {
   "cell_type": "code",
   "execution_count": 8,
   "id": "fc38cf1b",
   "metadata": {
    "execution": {
     "iopub.execute_input": "2021-12-19T20:08:39.052556Z",
     "iopub.status.busy": "2021-12-19T20:08:39.052023Z",
     "iopub.status.idle": "2021-12-19T20:08:39.065569Z",
     "shell.execute_reply": "2021-12-19T20:08:39.066052Z"
    },
    "papermill": {
     "duration": 0.042797,
     "end_time": "2021-12-19T20:08:39.066190",
     "exception": false,
     "start_time": "2021-12-19T20:08:39.023393",
     "status": "completed"
    },
    "tags": []
   },
   "outputs": [
    {
     "data": {
      "text/plain": [
       "((10000, 28, 28), (10000,))"
      ]
     },
     "execution_count": 8,
     "metadata": {},
     "output_type": "execute_result"
    }
   ],
   "source": [
    "test_images.shape, test_labels.shape"
   ]
  },
  {
   "cell_type": "code",
   "execution_count": 9,
   "id": "f9ed8fe0",
   "metadata": {
    "execution": {
     "iopub.execute_input": "2021-12-19T20:08:39.120940Z",
     "iopub.status.busy": "2021-12-19T20:08:39.120435Z",
     "iopub.status.idle": "2021-12-19T20:08:39.257831Z",
     "shell.execute_reply": "2021-12-19T20:08:39.258306Z"
    },
    "papermill": {
     "duration": 0.166708,
     "end_time": "2021-12-19T20:08:39.258462",
     "exception": false,
     "start_time": "2021-12-19T20:08:39.091754",
     "status": "completed"
    },
    "tags": []
   },
   "outputs": [
    {
     "name": "stdout",
     "output_type": "stream",
     "text": [
      "2\n"
     ]
    },
    {
     "data": {
      "text/plain": [
       "<matplotlib.image.AxesImage at 0x7f1a98b7f9b0>"
      ]
     },
     "execution_count": 9,
     "metadata": {},
     "output_type": "execute_result"
    },
    {
     "data": {
      "image/png": "[encoded data removed]",
      "text/plain": [
       "<Figure size 432x288 with 1 Axes>"
      ]
     },
     "metadata": {
      "needs_background": "light"
     },
     "output_type": "display_data"
    }
   ],
   "source": [
    "image_index = 7776 # You may select anything up to 60,000\n",
    "print(train_labels[image_index]) \n",
    "plt.imshow(train_images[image_index], cmap='Greys')"
   ]
  },
  {
   "cell_type": "markdown",
   "id": "a8d2388d",
   "metadata": {
    "papermill": {
     "duration": 0.0271,
     "end_time": "2021-12-19T20:08:39.313469",
     "exception": false,
     "start_time": "2021-12-19T20:08:39.286369",
     "status": "completed"
    },
    "tags": []
   },
   "source": [
    "## Filter data to get 3 and 8 out"
   ]
  },
  {
   "cell_type": "code",
   "execution_count": 10,
   "id": "776f7fc7",
   "metadata": {
    "execution": {
     "iopub.execute_input": "2021-12-19T20:08:39.371186Z",
     "iopub.status.busy": "2021-12-19T20:08:39.370657Z",
     "iopub.status.idle": "2021-12-19T20:08:39.389443Z",
     "shell.execute_reply": "2021-12-19T20:08:39.388967Z"
    },
    "papermill": {
     "duration": 0.049222,
     "end_time": "2021-12-19T20:08:39.389568",
     "exception": false,
     "start_time": "2021-12-19T20:08:39.340346",
     "status": "completed"
    },
    "tags": []
   },
   "outputs": [],
   "source": [
    "train_filter = np.where((train_labels == 3 ) | (train_labels == 8))\n",
    "test_filter = np.where((test_labels == 3) | (test_labels == 8))\n",
    "X_train, y_train = train_images[train_filter], train_labels[train_filter]\n",
    "X_test, y_test = test_images[test_filter], test_labels[test_filter]"
   ]
  },
  {
   "cell_type": "markdown",
   "id": "948f0b7e",
   "metadata": {
    "papermill": {
     "duration": 0.02666,
     "end_time": "2021-12-19T20:08:39.443246",
     "exception": false,
     "start_time": "2021-12-19T20:08:39.416586",
     "status": "completed"
    },
    "tags": []
   },
   "source": [
    "We normalize the pizel values in the 0 to 1 range"
   ]
  },
  {
   "cell_type": "code",
   "execution_count": 11,
   "id": "ee4c2166",
   "metadata": {
    "execution": {
     "iopub.execute_input": "2021-12-19T20:08:39.503041Z",
     "iopub.status.busy": "2021-12-19T20:08:39.502515Z",
     "iopub.status.idle": "2021-12-19T20:08:39.550498Z",
     "shell.execute_reply": "2021-12-19T20:08:39.549946Z"
    },
    "papermill": {
     "duration": 0.080386,
     "end_time": "2021-12-19T20:08:39.550636",
     "exception": false,
     "start_time": "2021-12-19T20:08:39.470250",
     "status": "completed"
    },
    "tags": []
   },
   "outputs": [],
   "source": [
    "X_train = X_train/255.\n",
    "X_test = X_test/255."
   ]
  },
  {
   "cell_type": "markdown",
   "id": "ddcf4fab",
   "metadata": {
    "papermill": {
     "duration": 0.026901,
     "end_time": "2021-12-19T20:08:39.605678",
     "exception": false,
     "start_time": "2021-12-19T20:08:39.578777",
     "status": "completed"
    },
    "tags": []
   },
   "source": [
    "And setup the labels as 1 (when the digit is 3) and 0 (when the digit is 8)"
   ]
  },
  {
   "cell_type": "code",
   "execution_count": 12,
   "id": "7dc908f2",
   "metadata": {
    "execution": {
     "iopub.execute_input": "2021-12-19T20:08:39.669213Z",
     "iopub.status.busy": "2021-12-19T20:08:39.668665Z",
     "iopub.status.idle": "2021-12-19T20:08:39.676621Z",
     "shell.execute_reply": "2021-12-19T20:08:39.677032Z"
    },
    "papermill": {
     "duration": 0.044959,
     "end_time": "2021-12-19T20:08:39.677160",
     "exception": false,
     "start_time": "2021-12-19T20:08:39.632201",
     "status": "completed"
    },
    "tags": []
   },
   "outputs": [],
   "source": [
    "y_train = 1*(y_train==3)\n",
    "y_test = 1*(y_test==3)"
   ]
  },
  {
   "cell_type": "code",
   "execution_count": 13,
   "id": "01e4e969",
   "metadata": {
    "execution": {
     "iopub.execute_input": "2021-12-19T20:08:39.741135Z",
     "iopub.status.busy": "2021-12-19T20:08:39.740621Z",
     "iopub.status.idle": "2021-12-19T20:08:39.749853Z",
     "shell.execute_reply": "2021-12-19T20:08:39.749150Z"
    },
    "papermill": {
     "duration": 0.045887,
     "end_time": "2021-12-19T20:08:39.749966",
     "exception": false,
     "start_time": "2021-12-19T20:08:39.704079",
     "status": "completed"
    },
    "tags": []
   },
   "outputs": [
    {
     "data": {
      "text/plain": [
       "((11982, 28, 28), (1984, 28, 28))"
      ]
     },
     "execution_count": 13,
     "metadata": {},
     "output_type": "execute_result"
    }
   ],
   "source": [
    "X_train.shape, X_test.shape"
   ]
  },
  {
   "cell_type": "markdown",
   "id": "5ccf3f85",
   "metadata": {
    "papermill": {
     "duration": 0.02677,
     "end_time": "2021-12-19T20:08:39.803957",
     "exception": false,
     "start_time": "2021-12-19T20:08:39.777187",
     "status": "completed"
    },
    "tags": []
   },
   "source": [
    "We reshape the data to flatten the image pixels into a set of features or co-variates:"
   ]
  },
  {
   "cell_type": "code",
   "execution_count": 14,
   "id": "5286a4a3",
   "metadata": {
    "execution": {
     "iopub.execute_input": "2021-12-19T20:08:39.861361Z",
     "iopub.status.busy": "2021-12-19T20:08:39.860839Z",
     "iopub.status.idle": "2021-12-19T20:08:39.873969Z",
     "shell.execute_reply": "2021-12-19T20:08:39.874378Z"
    },
    "papermill": {
     "duration": 0.043826,
     "end_time": "2021-12-19T20:08:39.874505",
     "exception": false,
     "start_time": "2021-12-19T20:08:39.830679",
     "status": "completed"
    },
    "tags": []
   },
   "outputs": [
    {
     "data": {
      "text/plain": [
       "((11982, 784), (1984, 784))"
      ]
     },
     "execution_count": 14,
     "metadata": {},
     "output_type": "execute_result"
    }
   ],
   "source": [
    "X_train = X_train.reshape(X_train.shape[0], -1)\n",
    "X_test = X_test.reshape(X_test.shape[0], -1)\n",
    "X_train.shape, X_test.shape"
   ]
  },
  {
   "cell_type": "code",
   "execution_count": 15,
   "id": "73c5f88a",
   "metadata": {
    "execution": {
     "iopub.execute_input": "2021-12-19T20:08:39.932549Z",
     "iopub.status.busy": "2021-12-19T20:08:39.931936Z",
     "iopub.status.idle": "2021-12-19T20:08:39.950412Z",
     "shell.execute_reply": "2021-12-19T20:08:39.950887Z"
    },
    "papermill": {
     "duration": 0.049465,
     "end_time": "2021-12-19T20:08:39.951018",
     "exception": false,
     "start_time": "2021-12-19T20:08:39.901553",
     "status": "completed"
    },
    "tags": []
   },
   "outputs": [],
   "source": [
    "#Impoting functions from 'Kudzu'\n",
    "from kudzu.model import Model\n",
    "from kudzu.train import Learner\n",
    "from kudzu.optim import GD\n",
    "from kudzu.data import Data, Sampler,Dataloader\n",
    "\n",
    "from kudzu.callbacks import AccCallback\n",
    "from kudzu.callbacks import ClfCallback\n",
    "\n",
    "from kudzu.loss import MSE\n",
    "\n",
    "from kudzu.layer import Sigmoid,Relu\n",
    "from kudzu.layer import Affine"
   ]
  },
  {
   "cell_type": "markdown",
   "id": "bc01172a",
   "metadata": {
    "papermill": {
     "duration": 0.027033,
     "end_time": "2021-12-19T20:08:40.005431",
     "exception": false,
     "start_time": "2021-12-19T20:08:39.978398",
     "status": "completed"
    },
    "tags": []
   },
   "source": [
    "### Let us create a `Config` class, to store important parameters. \n",
    "This class essentially plays the role of a dictionary."
   ]
  },
  {
   "cell_type": "code",
   "execution_count": 16,
   "id": "978281aa",
   "metadata": {
    "execution": {
     "iopub.execute_input": "2021-12-19T20:08:40.072612Z",
     "iopub.status.busy": "2021-12-19T20:08:40.070049Z",
     "iopub.status.idle": "2021-12-19T20:08:40.078322Z",
     "shell.execute_reply": "2021-12-19T20:08:40.077881Z"
    },
    "papermill": {
     "duration": 0.045523,
     "end_time": "2021-12-19T20:08:40.078436",
     "exception": false,
     "start_time": "2021-12-19T20:08:40.032913",
     "status": "completed"
    },
    "tags": []
   },
   "outputs": [],
   "source": [
    "class Config:\n",
    "    pass\n",
    "config = Config()\n",
    "config.lr = 0.001\n",
    "config.num_epochs = 250\n",
    "config.bs = 50"
   ]
  },
  {
   "cell_type": "markdown",
   "id": "1385fa59",
   "metadata": {
    "papermill": {
     "duration": 0.026668,
     "end_time": "2021-12-19T20:08:40.132298",
     "exception": false,
     "start_time": "2021-12-19T20:08:40.105630",
     "status": "completed"
    },
    "tags": []
   },
   "source": [
    "### Running Models with the Training data\n",
    "Details about the network layers:\n",
    "- A first affine layer has 784 inputs and does 100 affine transforms. These are followed by a Relu\n",
    "- A second affine layer has 100 inputs from the 100 activations of the past layer, and does 100 affine transforms. These are followed by a Relu\n",
    "- A third affine layer has 100 activations and does 2 affine transformations to create an embedding for visualization. There is no non-linearity here.\n",
    "- A final \"logistic regression\" which has an affine transform from 2 inputs to 1 output, which is squeezed through a sigmoid.\n"
   ]
  },
  {
   "cell_type": "code",
   "execution_count": 17,
   "id": "2b9c66db",
   "metadata": {
    "execution": {
     "iopub.execute_input": "2021-12-19T20:08:40.196700Z",
     "iopub.status.busy": "2021-12-19T20:08:40.196158Z",
     "iopub.status.idle": "2021-12-19T20:08:40.205892Z",
     "shell.execute_reply": "2021-12-19T20:08:40.206311Z"
    },
    "papermill": {
     "duration": 0.047366,
     "end_time": "2021-12-19T20:08:40.206447",
     "exception": false,
     "start_time": "2021-12-19T20:08:40.159081",
     "status": "completed"
    },
    "tags": []
   },
   "outputs": [],
   "source": [
    "data = Data(X_train, y_train.reshape(-1,1))\n",
    "sampler = Sampler(data, config.bs, shuffle=True)\n",
    "\n",
    "dl = Dataloader(data, sampler)\n",
    "\n",
    "opt = GD(config.lr)\n",
    "loss = MSE()"
   ]
  },
  {
   "cell_type": "code",
   "execution_count": 18,
   "id": "b275e4c2",
   "metadata": {
    "execution": {
     "iopub.execute_input": "2021-12-19T20:08:40.264231Z",
     "iopub.status.busy": "2021-12-19T20:08:40.263671Z",
     "iopub.status.idle": "2021-12-19T20:08:40.275778Z",
     "shell.execute_reply": "2021-12-19T20:08:40.275341Z"
    },
    "papermill": {
     "duration": 0.042223,
     "end_time": "2021-12-19T20:08:40.275910",
     "exception": false,
     "start_time": "2021-12-19T20:08:40.233687",
     "status": "completed"
    },
    "tags": []
   },
   "outputs": [],
   "source": [
    "training_data_x = X_train\n",
    "testing_data_x = X_test\n",
    "training_data_y = y_train.reshape(-1,1)\n",
    "testing_data_y = y_test.reshape(-1,1)"
   ]
  },
  {
   "cell_type": "code",
   "execution_count": 19,
   "id": "76951160",
   "metadata": {
    "execution": {
     "iopub.execute_input": "2021-12-19T20:08:40.337165Z",
     "iopub.status.busy": "2021-12-19T20:08:40.336632Z",
     "iopub.status.idle": "2021-12-19T20:08:40.351152Z",
     "shell.execute_reply": "2021-12-19T20:08:40.350710Z"
    },
    "papermill": {
     "duration": 0.048279,
     "end_time": "2021-12-19T20:08:40.351265",
     "exception": false,
     "start_time": "2021-12-19T20:08:40.302986",
     "status": "completed"
    },
    "tags": []
   },
   "outputs": [
    {
     "name": "stdout",
     "output_type": "stream",
     "text": [
      "xavier\n",
      "xavier\n",
      "xavier\n",
      "xavier\n",
      "xavier\n"
     ]
    }
   ],
   "source": [
    "layers = [Affine(\"first\", 784, 100), Relu(\"first\"), Affine(\"second\", 100, 100), Relu(\"second\"), Affine(\"third\", 100, 2), Affine(\"last\", 2, 1), Sigmoid(\"last\")]\n",
    "model_nn = Model(layers)\n",
    "model_lr = Model([Affine(\"logits\", 784, 1), Sigmoid(\"sigmoid\")])"
   ]
  },
  {
   "cell_type": "code",
   "execution_count": 20,
   "id": "6eede77a",
   "metadata": {
    "execution": {
     "iopub.execute_input": "2021-12-19T20:08:40.409576Z",
     "iopub.status.busy": "2021-12-19T20:08:40.409066Z",
     "iopub.status.idle": "2021-12-19T20:08:40.421213Z",
     "shell.execute_reply": "2021-12-19T20:08:40.420801Z"
    },
    "papermill": {
     "duration": 0.042699,
     "end_time": "2021-12-19T20:08:40.421325",
     "exception": false,
     "start_time": "2021-12-19T20:08:40.378626",
     "status": "completed"
    },
    "tags": []
   },
   "outputs": [],
   "source": [
    "nn_learner = Learner(loss, model_nn, opt, config.num_epochs)\n",
    "acc_nn = ClfCallback(nn_learner, config.bs, training_data_x , testing_data_x, training_data_y, testing_data_y)\n",
    "nn_learner.set_callbacks([acc_nn])"
   ]
  },
  {
   "cell_type": "code",
   "execution_count": 21,
   "id": "877b6cc7",
   "metadata": {
    "execution": {
     "iopub.execute_input": "2021-12-19T20:08:40.480361Z",
     "iopub.status.busy": "2021-12-19T20:08:40.479811Z",
     "iopub.status.idle": "2021-12-19T20:08:40.492164Z",
     "shell.execute_reply": "2021-12-19T20:08:40.491727Z"
    },
    "papermill": {
     "duration": 0.043541,
     "end_time": "2021-12-19T20:08:40.492276",
     "exception": false,
     "start_time": "2021-12-19T20:08:40.448735",
     "status": "completed"
    },
    "tags": []
   },
   "outputs": [],
   "source": [
    "lr_learner = Learner(loss, model_lr, opt, config.num_epochs)\n",
    "acc_lr = ClfCallback(lr_learner, config.bs, training_data_x , testing_data_x, training_data_y, testing_data_y)\n",
    "lr_learner.set_callbacks([acc_lr])"
   ]
  },
  {
   "cell_type": "code",
   "execution_count": 22,
   "id": "d9b133c3",
   "metadata": {
    "execution": {
     "iopub.execute_input": "2021-12-19T20:08:40.552599Z",
     "iopub.status.busy": "2021-12-19T20:08:40.552073Z",
     "iopub.status.idle": "2021-12-19T20:09:56.994572Z",
     "shell.execute_reply": "2021-12-19T20:09:56.995376Z"
    },
    "papermill": {
     "duration": 76.475851,
     "end_time": "2021-12-19T20:09:56.995532",
     "exception": false,
     "start_time": "2021-12-19T20:08:40.519681",
     "status": "completed"
    },
    "tags": []
   },
   "outputs": [
    {
     "name": "stdout",
     "output_type": "stream",
     "text": [
      "Epoch 0, Loss 0.2435\n",
      "Training Accuracy: 0.6703, Testing Accuracy: 0.6986\n",
      "\n"
     ]
    },
    {
     "name": "stdout",
     "output_type": "stream",
     "text": [
      "Epoch 10, Loss 0.0925\n",
      "Training Accuracy: 0.9123, Testing Accuracy: 0.9309\n",
      "\n"
     ]
    },
    {
     "name": "stdout",
     "output_type": "stream",
     "text": [
      "Epoch 20, Loss 0.0569\n",
      "Training Accuracy: 0.9387, Testing Accuracy: 0.9551\n",
      "\n"
     ]
    },
    {
     "name": "stdout",
     "output_type": "stream",
     "text": [
      "Epoch 30, Loss 0.0449\n",
      "Training Accuracy: 0.9495, Testing Accuracy: 0.9622\n",
      "\n"
     ]
    },
    {
     "name": "stdout",
     "output_type": "stream",
     "text": [
      "Epoch 40, Loss 0.039\n",
      "Training Accuracy: 0.9558, Testing Accuracy: 0.9627\n",
      "\n"
     ]
    },
    {
     "name": "stdout",
     "output_type": "stream",
     "text": [
      "Epoch 50, Loss 0.0353\n",
      "Training Accuracy: 0.9589, Testing Accuracy: 0.9647\n",
      "\n"
     ]
    },
    {
     "name": "stdout",
     "output_type": "stream",
     "text": [
      "Epoch 60, Loss 0.0328\n",
      "Training Accuracy: 0.9621, Testing Accuracy: 0.9672\n",
      "\n"
     ]
    },
    {
     "name": "stdout",
     "output_type": "stream",
     "text": [
      "Epoch 70, Loss 0.0308\n",
      "Training Accuracy: 0.9634, Testing Accuracy: 0.9688\n",
      "\n"
     ]
    },
    {
     "name": "stdout",
     "output_type": "stream",
     "text": [
      "Epoch 80, Loss 0.0293\n",
      "Training Accuracy: 0.9654, Testing Accuracy: 0.9703\n",
      "\n"
     ]
    },
    {
     "name": "stdout",
     "output_type": "stream",
     "text": [
      "Epoch 90, Loss 0.028\n",
      "Training Accuracy: 0.9671, Testing Accuracy: 0.9698\n",
      "\n"
     ]
    },
    {
     "name": "stdout",
     "output_type": "stream",
     "text": [
      "Epoch 100, Loss 0.0268\n",
      "Training Accuracy: 0.9688, Testing Accuracy: 0.9698\n",
      "\n"
     ]
    },
    {
     "name": "stdout",
     "output_type": "stream",
     "text": [
      "Epoch 110, Loss 0.0259\n",
      "Training Accuracy: 0.9695, Testing Accuracy: 0.9713\n",
      "\n"
     ]
    },
    {
     "name": "stdout",
     "output_type": "stream",
     "text": [
      "Epoch 120, Loss 0.025\n",
      "Training Accuracy: 0.9704, Testing Accuracy: 0.9718\n",
      "\n"
     ]
    },
    {
     "name": "stdout",
     "output_type": "stream",
     "text": [
      "Epoch 130, Loss 0.0242\n",
      "Training Accuracy: 0.9720, Testing Accuracy: 0.9728\n",
      "\n"
     ]
    },
    {
     "name": "stdout",
     "output_type": "stream",
     "text": [
      "Epoch 140, Loss 0.0236\n",
      "Training Accuracy: 0.9728, Testing Accuracy: 0.9728\n",
      "\n"
     ]
    },
    {
     "name": "stdout",
     "output_type": "stream",
     "text": [
      "Epoch 150, Loss 0.0229\n",
      "Training Accuracy: 0.9733, Testing Accuracy: 0.9738\n",
      "\n"
     ]
    },
    {
     "name": "stdout",
     "output_type": "stream",
     "text": [
      "Epoch 160, Loss 0.0224\n",
      "Training Accuracy: 0.9743, Testing Accuracy: 0.9753\n",
      "\n"
     ]
    },
    {
     "name": "stdout",
     "output_type": "stream",
     "text": [
      "Epoch 170, Loss 0.0218\n",
      "Training Accuracy: 0.9750, Testing Accuracy: 0.9753\n",
      "\n"
     ]
    },
    {
     "name": "stdout",
     "output_type": "stream",
     "text": [
      "Epoch 180, Loss 0.0213\n",
      "Training Accuracy: 0.9759, Testing Accuracy: 0.9748\n",
      "\n"
     ]
    },
    {
     "name": "stdout",
     "output_type": "stream",
     "text": [
      "Epoch 190, Loss 0.0208\n",
      "Training Accuracy: 0.9763, Testing Accuracy: 0.9753\n",
      "\n"
     ]
    },
    {
     "name": "stdout",
     "output_type": "stream",
     "text": [
      "Epoch 200, Loss 0.0204\n",
      "Training Accuracy: 0.9771, Testing Accuracy: 0.9753\n",
      "\n"
     ]
    },
    {
     "name": "stdout",
     "output_type": "stream",
     "text": [
      "Epoch 210, Loss 0.02\n",
      "Training Accuracy: 0.9780, Testing Accuracy: 0.9758\n",
      "\n"
     ]
    },
    {
     "name": "stdout",
     "output_type": "stream",
     "text": [
      "Epoch 220, Loss 0.0196\n",
      "Training Accuracy: 0.9782, Testing Accuracy: 0.9758\n",
      "\n"
     ]
    },
    {
     "name": "stdout",
     "output_type": "stream",
     "text": [
      "Epoch 230, Loss 0.0192\n",
      "Training Accuracy: 0.9790, Testing Accuracy: 0.9768\n",
      "\n"
     ]
    },
    {
     "name": "stdout",
     "output_type": "stream",
     "text": [
      "Epoch 240, Loss 0.0188\n",
      "Training Accuracy: 0.9795, Testing Accuracy: 0.9758\n",
      "\n"
     ]
    },
    {
     "data": {
      "text/plain": [
       "0.013577277586808224"
      ]
     },
     "execution_count": 22,
     "metadata": {},
     "output_type": "execute_result"
    }
   ],
   "source": [
    "nn_learner.train_loop(dl)"
   ]
  },
  {
   "cell_type": "code",
   "execution_count": 23,
   "id": "e0163366",
   "metadata": {
    "execution": {
     "iopub.execute_input": "2021-12-19T20:09:57.077360Z",
     "iopub.status.busy": "2021-12-19T20:09:57.076818Z",
     "iopub.status.idle": "2021-12-19T20:10:10.909459Z",
     "shell.execute_reply": "2021-12-19T20:10:10.910225Z"
    },
    "papermill": {
     "duration": 13.879813,
     "end_time": "2021-12-19T20:10:10.910378",
     "exception": false,
     "start_time": "2021-12-19T20:09:57.030565",
     "status": "completed"
    },
    "tags": []
   },
   "outputs": [
    {
     "name": "stdout",
     "output_type": "stream",
     "text": [
      "Epoch 0, Loss 0.2699\n",
      "Training Accuracy: 0.5661, Testing Accuracy: 0.5771\n",
      "\n"
     ]
    },
    {
     "name": "stdout",
     "output_type": "stream",
     "text": [
      "Epoch 10, Loss 0.1007\n",
      "Training Accuracy: 0.9200, Testing Accuracy: 0.9229\n",
      "\n"
     ]
    },
    {
     "name": "stdout",
     "output_type": "stream",
     "text": [
      "Epoch 20, Loss 0.0775\n",
      "Training Accuracy: 0.9314, Testing Accuracy: 0.9380\n",
      "\n"
     ]
    },
    {
     "name": "stdout",
     "output_type": "stream",
     "text": [
      "Epoch 30, Loss 0.0671\n",
      "Training Accuracy: 0.9392, Testing Accuracy: 0.9456\n",
      "\n"
     ]
    },
    {
     "name": "stdout",
     "output_type": "stream",
     "text": [
      "Epoch 40, Loss 0.0608\n",
      "Training Accuracy: 0.9439, Testing Accuracy: 0.9496\n",
      "\n"
     ]
    },
    {
     "name": "stdout",
     "output_type": "stream",
     "text": [
      "Epoch 50, Loss 0.0565\n",
      "Training Accuracy: 0.9453, Testing Accuracy: 0.9531\n",
      "\n"
     ]
    },
    {
     "name": "stdout",
     "output_type": "stream",
     "text": [
      "Epoch 60, Loss 0.0533\n",
      "Training Accuracy: 0.9475, Testing Accuracy: 0.9561\n",
      "\n"
     ]
    },
    {
     "name": "stdout",
     "output_type": "stream",
     "text": [
      "Epoch 70, Loss 0.0508\n",
      "Training Accuracy: 0.9497, Testing Accuracy: 0.9572\n",
      "\n"
     ]
    },
    {
     "name": "stdout",
     "output_type": "stream",
     "text": [
      "Epoch 80, Loss 0.0488\n",
      "Training Accuracy: 0.9508, Testing Accuracy: 0.9607\n",
      "\n"
     ]
    },
    {
     "name": "stdout",
     "output_type": "stream",
     "text": [
      "Epoch 90, Loss 0.0472\n",
      "Training Accuracy: 0.9523, Testing Accuracy: 0.9612\n",
      "\n"
     ]
    },
    {
     "name": "stdout",
     "output_type": "stream",
     "text": [
      "Epoch 100, Loss 0.0458\n",
      "Training Accuracy: 0.9537, Testing Accuracy: 0.9627\n",
      "\n"
     ]
    },
    {
     "name": "stdout",
     "output_type": "stream",
     "text": [
      "Epoch 110, Loss 0.0446\n",
      "Training Accuracy: 0.9543, Testing Accuracy: 0.9637\n",
      "\n"
     ]
    },
    {
     "name": "stdout",
     "output_type": "stream",
     "text": [
      "Epoch 120, Loss 0.0436\n",
      "Training Accuracy: 0.9553, Testing Accuracy: 0.9642\n",
      "\n"
     ]
    },
    {
     "name": "stdout",
     "output_type": "stream",
     "text": [
      "Epoch 130, Loss 0.0426\n",
      "Training Accuracy: 0.9559, Testing Accuracy: 0.9642\n",
      "\n"
     ]
    },
    {
     "name": "stdout",
     "output_type": "stream",
     "text": [
      "Epoch 140, Loss 0.0418\n",
      "Training Accuracy: 0.9564, Testing Accuracy: 0.9642\n",
      "\n"
     ]
    },
    {
     "name": "stdout",
     "output_type": "stream",
     "text": [
      "Epoch 150, Loss 0.0411\n",
      "Training Accuracy: 0.9570, Testing Accuracy: 0.9642\n",
      "\n"
     ]
    },
    {
     "name": "stdout",
     "output_type": "stream",
     "text": [
      "Epoch 160, Loss 0.0404\n",
      "Training Accuracy: 0.9577, Testing Accuracy: 0.9647\n",
      "\n"
     ]
    },
    {
     "name": "stdout",
     "output_type": "stream",
     "text": [
      "Epoch 170, Loss 0.0398\n",
      "Training Accuracy: 0.9583, Testing Accuracy: 0.9652\n",
      "\n"
     ]
    },
    {
     "name": "stdout",
     "output_type": "stream",
     "text": [
      "Epoch 180, Loss 0.0393\n",
      "Training Accuracy: 0.9587, Testing Accuracy: 0.9652\n",
      "\n"
     ]
    },
    {
     "name": "stdout",
     "output_type": "stream",
     "text": [
      "Epoch 190, Loss 0.0388\n",
      "Training Accuracy: 0.9589, Testing Accuracy: 0.9657\n",
      "\n"
     ]
    },
    {
     "name": "stdout",
     "output_type": "stream",
     "text": [
      "Epoch 200, Loss 0.0383\n",
      "Training Accuracy: 0.9591, Testing Accuracy: 0.9662\n",
      "\n"
     ]
    },
    {
     "name": "stdout",
     "output_type": "stream",
     "text": [
      "Epoch 210, Loss 0.0379\n",
      "Training Accuracy: 0.9593, Testing Accuracy: 0.9657\n",
      "\n"
     ]
    },
    {
     "name": "stdout",
     "output_type": "stream",
     "text": [
      "Epoch 220, Loss 0.0375\n",
      "Training Accuracy: 0.9598, Testing Accuracy: 0.9667\n",
      "\n"
     ]
    },
    {
     "name": "stdout",
     "output_type": "stream",
     "text": [
      "Epoch 230, Loss 0.0371\n",
      "Training Accuracy: 0.9603, Testing Accuracy: 0.9667\n",
      "\n"
     ]
    },
    {
     "name": "stdout",
     "output_type": "stream",
     "text": [
      "Epoch 240, Loss 0.0367\n",
      "Training Accuracy: 0.9609, Testing Accuracy: 0.9672\n",
      "\n"
     ]
    },
    {
     "data": {
      "text/plain": [
       "0.030774482105318475"
      ]
     },
     "execution_count": 23,
     "metadata": {},
     "output_type": "execute_result"
    }
   ],
   "source": [
    "lr_learner.train_loop(dl)"
   ]
  },
  {
   "cell_type": "code",
   "execution_count": 24,
   "id": "ca410940",
   "metadata": {
    "execution": {
     "iopub.execute_input": "2021-12-19T20:10:11.005231Z",
     "iopub.status.busy": "2021-12-19T20:10:11.004675Z",
     "iopub.status.idle": "2021-12-19T20:10:11.225706Z",
     "shell.execute_reply": "2021-12-19T20:10:11.225235Z"
    },
    "papermill": {
     "duration": 0.272792,
     "end_time": "2021-12-19T20:10:11.225829",
     "exception": false,
     "start_time": "2021-12-19T20:10:10.953037",
     "status": "completed"
    },
    "tags": []
   },
   "outputs": [
    {
     "data": {
      "text/plain": [
       "<matplotlib.legend.Legend at 0x7f1a98769c88>"
      ]
     },
     "execution_count": 24,
     "metadata": {},
     "output_type": "execute_result"
    },
    {
     "data": {
      "image/png": "[encoded data removed]",
      "text/plain": [
       "<Figure size 1080x720 with 1 Axes>"
      ]
     },
     "metadata": {
      "needs_background": "light"
     },
     "output_type": "display_data"
    }
   ],
   "source": [
    "#comparing the results of NN and LR\n",
    "plt.figure(figsize=(15,10))\n",
    "\n",
    "# Neural Network plots\n",
    "plt.plot(acc_nn.accuracies, 'r-', label = \"Training Accuracies - NN\")\n",
    "plt.plot(acc_nn.test_accuracies, 'g-', label = \"Testing Accuracies - NN\")\n",
    "\n",
    "# Logistic Regression plots\n",
    "plt.plot(acc_lr.accuracies, 'k-', label = \"Training Accuracies - LR\")\n",
    "plt.plot(acc_lr.test_accuracies, 'b-', label = \"Testing Accuracies - LR\")\n",
    "plt.legend()"
   ]
  },
  {
   "cell_type": "markdown",
   "id": "80dfb35c",
   "metadata": {
    "papermill": {
     "duration": 0.042288,
     "end_time": "2021-12-19T20:10:11.310792",
     "exception": false,
     "start_time": "2021-12-19T20:10:11.268504",
     "status": "completed"
    },
    "tags": []
   },
   "source": [
    "#### Plotting the outputs of this layer of the NN.\n"
   ]
  },
  {
   "cell_type": "code",
   "execution_count": 25,
   "id": "45eb2ff5",
   "metadata": {
    "execution": {
     "iopub.execute_input": "2021-12-19T20:10:11.404280Z",
     "iopub.status.busy": "2021-12-19T20:10:11.403202Z",
     "iopub.status.idle": "2021-12-19T20:10:11.421114Z",
     "shell.execute_reply": "2021-12-19T20:10:11.421559Z"
    },
    "papermill": {
     "duration": 0.068685,
     "end_time": "2021-12-19T20:10:11.421710",
     "exception": false,
     "start_time": "2021-12-19T20:10:11.353025",
     "status": "completed"
    },
    "tags": []
   },
   "outputs": [],
   "source": [
    "new_model = Model(layers[:-2])\n",
    "testing_plot = new_model(testing_data_x)"
   ]
  },
  {
   "cell_type": "code",
   "execution_count": 26,
   "id": "4c0a5485",
   "metadata": {
    "execution": {
     "iopub.execute_input": "2021-12-19T20:10:11.514774Z",
     "iopub.status.busy": "2021-12-19T20:10:11.512450Z",
     "iopub.status.idle": "2021-12-19T20:10:11.729353Z",
     "shell.execute_reply": "2021-12-19T20:10:11.729785Z"
    },
    "papermill": {
     "duration": 0.265077,
     "end_time": "2021-12-19T20:10:11.729936",
     "exception": false,
     "start_time": "2021-12-19T20:10:11.464859",
     "status": "completed"
    },
    "tags": []
   },
   "outputs": [
    {
     "data": {
      "text/plain": [
       "Text(0.5, 1.0, 'Outputs')"
      ]
     },
     "execution_count": 26,
     "metadata": {},
     "output_type": "execute_result"
    },
    {
     "data": {
      "image/png": "[encoded data removed]",
      "text/plain": [
       "<Figure size 576x504 with 1 Axes>"
      ]
     },
     "metadata": {
      "needs_background": "light"
     },
     "output_type": "display_data"
    }
   ],
   "source": [
    "# Plotting the scatter plot of points and color coding by class\n",
    "plt.figure(figsize=(8,7))\n",
    "plt.scatter(testing_plot[:,0], testing_plot[:,1], alpha = 0.1, c = y_test.ravel());\n",
    "plt.title('Outputs')"
   ]
  },
  {
   "cell_type": "markdown",
   "id": "a74fcf8f",
   "metadata": {
    "papermill": {
     "duration": 0.04506,
     "end_time": "2021-12-19T20:10:11.820252",
     "exception": false,
     "start_time": "2021-12-19T20:10:11.775192",
     "status": "completed"
    },
    "tags": []
   },
   "source": [
    "Probability contours"
   ]
  },
  {
   "cell_type": "code",
   "execution_count": 27,
   "id": "d0afc8e3",
   "metadata": {
    "execution": {
     "iopub.execute_input": "2021-12-19T20:10:11.915791Z",
     "iopub.status.busy": "2021-12-19T20:10:11.915125Z",
     "iopub.status.idle": "2021-12-19T20:10:11.926327Z",
     "shell.execute_reply": "2021-12-19T20:10:11.925908Z"
    },
    "papermill": {
     "duration": 0.060962,
     "end_time": "2021-12-19T20:10:11.926447",
     "exception": false,
     "start_time": "2021-12-19T20:10:11.865485",
     "status": "completed"
    },
    "tags": []
   },
   "outputs": [],
   "source": [
    "model_prob = Model(layers[-2:]) "
   ]
  },
  {
   "cell_type": "code",
   "execution_count": 28,
   "id": "9b96e238",
   "metadata": {
    "execution": {
     "iopub.execute_input": "2021-12-19T20:10:12.061114Z",
     "iopub.status.busy": "2021-12-19T20:10:12.060569Z",
     "iopub.status.idle": "2021-12-19T20:10:12.070698Z",
     "shell.execute_reply": "2021-12-19T20:10:12.071100Z"
    },
    "papermill": {
     "duration": 0.098873,
     "end_time": "2021-12-19T20:10:12.071249",
     "exception": false,
     "start_time": "2021-12-19T20:10:11.972376",
     "status": "completed"
    },
    "tags": []
   },
   "outputs": [],
   "source": [
    "#creating the x and y ranges according to the above generated plot.\n",
    "x_range = np.linspace(-4, 1, 100) \n",
    "y_range = np.linspace(-6, 6, 100) \n",
    "x_grid, y_grid = np.meshgrid(x_range, y_range) # x_grid and y_grig are of size 100 X 100\n",
    "\n",
    "# converting x_grid and y_grid to continuous arrays\n",
    "x_gridflat = np.ravel(x_grid)\n",
    "y_gridflat = np.ravel(y_grid)\n",
    "\n",
    "# The last layer of the current model takes two columns as input. Hence transpose of np.vstack() is required.\n",
    "X = np.vstack((x_gridflat, y_gridflat)).T\n",
    "\n",
    "prob_contour = model_prob(X).reshape(100,100) "
   ]
  },
  {
   "cell_type": "code",
   "execution_count": 29,
   "id": "da72499a",
   "metadata": {
    "execution": {
     "iopub.execute_input": "2021-12-19T20:10:12.171978Z",
     "iopub.status.busy": "2021-12-19T20:10:12.171413Z",
     "iopub.status.idle": "2021-12-19T20:10:12.418846Z",
     "shell.execute_reply": "2021-12-19T20:10:12.418403Z"
    },
    "papermill": {
     "duration": 0.301768,
     "end_time": "2021-12-19T20:10:12.418966",
     "exception": false,
     "start_time": "2021-12-19T20:10:12.117198",
     "status": "completed"
    },
    "tags": []
   },
   "outputs": [
    {
     "data": {
      "image/png": "[encoded data removed]",
      "text/plain": [
       "<Figure size 720x648 with 1 Axes>"
      ]
     },
     "metadata": {
      "needs_background": "light"
     },
     "output_type": "display_data"
    }
   ],
   "source": [
    "plt.figure(figsize=(10,9))\n",
    "plt.scatter(testing_plot[:,0], testing_plot[:,1], alpha = 0.1, c = y_test.ravel())\n",
    "contours = plt.contour(x_grid,y_grid,prob_contour)\n",
    "plt.title('Probability Contours')\n",
    "plt.clabel(contours, inline = True );"
   ]
  },
  {
   "cell_type": "code",
   "execution_count": null,
   "id": "e81b4ac7",
   "metadata": {
    "papermill": {
     "duration": 0.048552,
     "end_time": "2021-12-19T20:10:12.516729",
     "exception": false,
     "start_time": "2021-12-19T20:10:12.468177",
     "status": "completed"
    },
    "tags": []
   },
   "outputs": [],
   "source": []
  }
 ],
 "metadata": {
  "kernelspec": {
   "display_name": "Python 3",
   "language": "python",
   "name": "python3"
  },
  "language_info": {
   "codemirror_mode": {
    "name": "ipython",
    "version": 3
   },
   "file_extension": ".py",
   "mimetype": "text/x-python",
   "name": "python",
   "nbconvert_exporter": "python",
   "pygments_lexer": "ipython3",
   "version": "3.6.15"
  },
  "papermill": {
   "default_parameters": {},
   "duration": 99.252294,
   "end_time": "2021-12-19T20:10:12.973964",
   "environment_variables": {},
   "exception": null,
   "input_path": "2020-08-11-part2.ipynb",
   "output_path": "2020-08-11-part2.ipynb",
   "parameters": {},
   "start_time": "2021-12-19T20:08:33.721670",
   "version": "2.3.3"
  }
 },
 "nbformat": 4,
 "nbformat_minor": 5
}