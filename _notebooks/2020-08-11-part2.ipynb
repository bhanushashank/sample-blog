{
 "cells": [
  {
   "cell_type": "markdown",
   "id": "98380cd3",
   "metadata": {
    "papermill": {
     "duration": 0.029203,
     "end_time": "2022-09-05T00:48:16.153859",
     "exception": false,
     "start_time": "2022-09-05T00:48:16.124656",
     "status": "completed"
    },
    "tags": []
   },
   "source": [
    "# Distinguish Your Own Digits (DYOD)"
   ]
  },
  {
   "cell_type": "markdown",
   "id": "ef31240d",
   "metadata": {
    "papermill": {
     "duration": 0.024282,
     "end_time": "2022-09-05T00:48:16.202934",
     "exception": false,
     "start_time": "2022-09-05T00:48:16.178652",
     "status": "completed"
    },
    "tags": []
   },
   "source": [
    "You are going to write a classifier that distinguishes between the number 3 and number 8."
   ]
  },
  {
   "cell_type": "code",
   "execution_count": 1,
   "id": "b15c8646",
   "metadata": {
    "execution": {
     "iopub.execute_input": "2022-09-05T00:48:16.261633Z",
     "iopub.status.busy": "2022-09-05T00:48:16.261034Z",
     "iopub.status.idle": "2022-09-05T00:48:16.272171Z",
     "shell.execute_reply": "2022-09-05T00:48:16.271593Z"
    },
    "papermill": {
     "duration": 0.045271,
     "end_time": "2022-09-05T00:48:16.272296",
     "exception": false,
     "start_time": "2022-09-05T00:48:16.227025",
     "status": "completed"
    },
    "tags": []
   },
   "outputs": [],
   "source": [
    "%load_ext autoreload\n",
    "%autoreload 2"
   ]
  },
  {
   "cell_type": "code",
   "execution_count": 2,
   "id": "22ef38dc",
   "metadata": {
    "execution": {
     "iopub.execute_input": "2022-09-05T00:48:16.325634Z",
     "iopub.status.busy": "2022-09-05T00:48:16.325050Z",
     "iopub.status.idle": "2022-09-05T00:48:16.861620Z",
     "shell.execute_reply": "2022-09-05T00:48:16.861146Z"
    },
    "papermill": {
     "duration": 0.564855,
     "end_time": "2022-09-05T00:48:16.861735",
     "exception": false,
     "start_time": "2022-09-05T00:48:16.296880",
     "status": "completed"
    },
    "tags": []
   },
   "outputs": [],
   "source": [
    "%matplotlib inline\n",
    "import numpy as np\n",
    "import matplotlib.pyplot as plt\n",
    "import pandas as pd"
   ]
  },
  {
   "cell_type": "markdown",
   "id": "ba036198",
   "metadata": {
    "papermill": {
     "duration": 0.026416,
     "end_time": "2022-09-05T00:48:16.912325",
     "exception": false,
     "start_time": "2022-09-05T00:48:16.885909",
     "status": "completed"
    },
    "tags": []
   },
   "source": [
    "From the command line run `pip install mnist`. This is a library that will help you bring down the mnist dataset. If you run this from a notebook, you need to put  `!pip install mnist` in a cell by itself."
   ]
  },
  {
   "cell_type": "code",
   "execution_count": 3,
   "id": "bb6ad8a1",
   "metadata": {
    "execution": {
     "iopub.execute_input": "2022-09-05T00:48:16.967907Z",
     "iopub.status.busy": "2022-09-05T00:48:16.966413Z",
     "iopub.status.idle": "2022-09-05T00:48:18.726844Z",
     "shell.execute_reply": "2022-09-05T00:48:18.725963Z"
    },
    "papermill": {
     "duration": 1.790178,
     "end_time": "2022-09-05T00:48:18.726967",
     "exception": false,
     "start_time": "2022-09-05T00:48:16.936789",
     "status": "completed"
    },
    "tags": []
   },
   "outputs": [
    {
     "name": "stdout",
     "output_type": "stream",
     "text": [
      "Collecting mnist\r\n"
     ]
    },
    {
     "name": "stdout",
     "output_type": "stream",
     "text": [
      "  Downloading mnist-0.2.2-py2.py3-none-any.whl (3.5 kB)\r\n",
      "Requirement already satisfied: numpy in /opt/hostedtoolcache/Python/3.6.15/x64/lib/python3.6/site-packages (from mnist) (1.19.5)\r\n"
     ]
    },
    {
     "name": "stdout",
     "output_type": "stream",
     "text": [
      "Installing collected packages: mnist\r\n"
     ]
    },
    {
     "name": "stdout",
     "output_type": "stream",
     "text": [
      "Successfully installed mnist-0.2.2\r\n"
     ]
    }
   ],
   "source": [
    "!pip install mnist"
   ]
  },
  {
   "cell_type": "markdown",
   "id": "69df9c9a",
   "metadata": {
    "papermill": {
     "duration": 0.026173,
     "end_time": "2022-09-05T00:48:18.778604",
     "exception": false,
     "start_time": "2022-09-05T00:48:18.752431",
     "status": "completed"
    },
    "tags": []
   },
   "source": [
    "## Preparing the Data"
   ]
  },
  {
   "cell_type": "code",
   "execution_count": 4,
   "id": "7f69d806",
   "metadata": {
    "execution": {
     "iopub.execute_input": "2022-09-05T00:48:18.833591Z",
     "iopub.status.busy": "2022-09-05T00:48:18.833038Z",
     "iopub.status.idle": "2022-09-05T00:48:18.847295Z",
     "shell.execute_reply": "2022-09-05T00:48:18.846826Z"
    },
    "papermill": {
     "duration": 0.043648,
     "end_time": "2022-09-05T00:48:18.847402",
     "exception": false,
     "start_time": "2022-09-05T00:48:18.803754",
     "status": "completed"
    },
    "tags": []
   },
   "outputs": [],
   "source": [
    "import mnist"
   ]
  },
  {
   "cell_type": "code",
   "execution_count": 5,
   "id": "a411e44f",
   "metadata": {
    "execution": {
     "iopub.execute_input": "2022-09-05T00:48:18.901845Z",
     "iopub.status.busy": "2022-09-05T00:48:18.901286Z",
     "iopub.status.idle": "2022-09-05T00:48:20.970986Z",
     "shell.execute_reply": "2022-09-05T00:48:20.969963Z"
    },
    "papermill": {
     "duration": 2.098323,
     "end_time": "2022-09-05T00:48:20.971113",
     "exception": false,
     "start_time": "2022-09-05T00:48:18.872790",
     "status": "completed"
    },
    "tags": []
   },
   "outputs": [],
   "source": [
    "train_images = mnist.train_images()\n",
    "train_labels = mnist.train_labels()"
   ]
  },
  {
   "cell_type": "code",
   "execution_count": 6,
   "id": "dceab3a5",
   "metadata": {
    "execution": {
     "iopub.execute_input": "2022-09-05T00:48:21.029361Z",
     "iopub.status.busy": "2022-09-05T00:48:21.026919Z",
     "iopub.status.idle": "2022-09-05T00:48:21.041335Z",
     "shell.execute_reply": "2022-09-05T00:48:21.040870Z"
    },
    "papermill": {
     "duration": 0.044781,
     "end_time": "2022-09-05T00:48:21.041443",
     "exception": false,
     "start_time": "2022-09-05T00:48:20.996662",
     "status": "completed"
    },
    "tags": []
   },
   "outputs": [
    {
     "data": {
      "text/plain": [
       "((60000, 28, 28), (60000,))"
      ]
     },
     "execution_count": 6,
     "metadata": {},
     "output_type": "execute_result"
    }
   ],
   "source": [
    "train_images.shape, train_labels.shape"
   ]
  },
  {
   "cell_type": "code",
   "execution_count": 7,
   "id": "f50dc2bb",
   "metadata": {
    "execution": {
     "iopub.execute_input": "2022-09-05T00:48:21.096384Z",
     "iopub.status.busy": "2022-09-05T00:48:21.095821Z",
     "iopub.status.idle": "2022-09-05T00:48:22.174262Z",
     "shell.execute_reply": "2022-09-05T00:48:22.173760Z"
    },
    "papermill": {
     "duration": 1.107383,
     "end_time": "2022-09-05T00:48:22.174376",
     "exception": false,
     "start_time": "2022-09-05T00:48:21.066993",
     "status": "completed"
    },
    "tags": []
   },
   "outputs": [],
   "source": [
    "test_images = mnist.test_images()\n",
    "test_labels = mnist.test_labels()"
   ]
  },
  {
   "cell_type": "code",
   "execution_count": 8,
   "id": "fc38cf1b",
   "metadata": {
    "execution": {
     "iopub.execute_input": "2022-09-05T00:48:22.231049Z",
     "iopub.status.busy": "2022-09-05T00:48:22.230457Z",
     "iopub.status.idle": "2022-09-05T00:48:22.243158Z",
     "shell.execute_reply": "2022-09-05T00:48:22.242583Z"
    },
    "papermill": {
     "duration": 0.042885,
     "end_time": "2022-09-05T00:48:22.243264",
     "exception": false,
     "start_time": "2022-09-05T00:48:22.200379",
     "status": "completed"
    },
    "tags": []
   },
   "outputs": [
    {
     "data": {
      "text/plain": [
       "((10000, 28, 28), (10000,))"
      ]
     },
     "execution_count": 8,
     "metadata": {},
     "output_type": "execute_result"
    }
   ],
   "source": [
    "test_images.shape, test_labels.shape"
   ]
  },
  {
   "cell_type": "code",
   "execution_count": 9,
   "id": "f9ed8fe0",
   "metadata": {
    "execution": {
     "iopub.execute_input": "2022-09-05T00:48:22.299010Z",
     "iopub.status.busy": "2022-09-05T00:48:22.298436Z",
     "iopub.status.idle": "2022-09-05T00:48:22.437301Z",
     "shell.execute_reply": "2022-09-05T00:48:22.437731Z"
    },
    "papermill": {
     "duration": 0.168676,
     "end_time": "2022-09-05T00:48:22.437857",
     "exception": false,
     "start_time": "2022-09-05T00:48:22.269181",
     "status": "completed"
    },
    "tags": []
   },
   "outputs": [
    {
     "name": "stdout",
     "output_type": "stream",
     "text": [
      "2\n"
     ]
    },
    {
     "data": {
      "text/plain": [
       "<matplotlib.image.AxesImage at 0x7fb5bbf93c50>"
      ]
     },
     "execution_count": 9,
     "metadata": {},
     "output_type": "execute_result"
    },
    {
     "data": {
      "image/png": "[encoded data removed]",
      "text/plain": [
       "<Figure size 432x288 with 1 Axes>"
      ]
     },
     "metadata": {
      "needs_background": "light"
     },
     "output_type": "display_data"
    }
   ],
   "source": [
    "image_index = 7776 # You may select anything up to 60,000\n",
    "print(train_labels[image_index]) \n",
    "plt.imshow(train_images[image_index], cmap='Greys')"
   ]
  },
  {
   "cell_type": "markdown",
   "id": "a8d2388d",
   "metadata": {
    "papermill": {
     "duration": 0.027539,
     "end_time": "2022-09-05T00:48:22.492203",
     "exception": false,
     "start_time": "2022-09-05T00:48:22.464664",
     "status": "completed"
    },
    "tags": []
   },
   "source": [
    "## Filter data to get 3 and 8 out"
   ]
  },
  {
   "cell_type": "code",
   "execution_count": 10,
   "id": "776f7fc7",
   "metadata": {
    "execution": {
     "iopub.execute_input": "2022-09-05T00:48:22.550265Z",
     "iopub.status.busy": "2022-09-05T00:48:22.549694Z",
     "iopub.status.idle": "2022-09-05T00:48:22.566282Z",
     "shell.execute_reply": "2022-09-05T00:48:22.565837Z"
    },
    "papermill": {
     "duration": 0.047131,
     "end_time": "2022-09-05T00:48:22.566385",
     "exception": false,
     "start_time": "2022-09-05T00:48:22.519254",
     "status": "completed"
    },
    "tags": []
   },
   "outputs": [],
   "source": [
    "train_filter = np.where((train_labels == 3 ) | (train_labels == 8))\n",
    "test_filter = np.where((test_labels == 3) | (test_labels == 8))\n",
    "X_train, y_train = train_images[train_filter], train_labels[train_filter]\n",
    "X_test, y_test = test_images[test_filter], test_labels[test_filter]"
   ]
  },
  {
   "cell_type": "markdown",
   "id": "948f0b7e",
   "metadata": {
    "papermill": {
     "duration": 0.02677,
     "end_time": "2022-09-05T00:48:22.619960",
     "exception": false,
     "start_time": "2022-09-05T00:48:22.593190",
     "status": "completed"
    },
    "tags": []
   },
   "source": [
    "We normalize the pizel values in the 0 to 1 range"
   ]
  },
  {
   "cell_type": "code",
   "execution_count": 11,
   "id": "ee4c2166",
   "metadata": {
    "execution": {
     "iopub.execute_input": "2022-09-05T00:48:22.677201Z",
     "iopub.status.busy": "2022-09-05T00:48:22.676656Z",
     "iopub.status.idle": "2022-09-05T00:48:22.717745Z",
     "shell.execute_reply": "2022-09-05T00:48:22.718167Z"
    },
    "papermill": {
     "duration": 0.071636,
     "end_time": "2022-09-05T00:48:22.718301",
     "exception": false,
     "start_time": "2022-09-05T00:48:22.646665",
     "status": "completed"
    },
    "tags": []
   },
   "outputs": [],
   "source": [
    "X_train = X_train/255.\n",
    "X_test = X_test/255."
   ]
  },
  {
   "cell_type": "markdown",
   "id": "ddcf4fab",
   "metadata": {
    "papermill": {
     "duration": 0.027106,
     "end_time": "2022-09-05T00:48:22.772385",
     "exception": false,
     "start_time": "2022-09-05T00:48:22.745279",
     "status": "completed"
    },
    "tags": []
   },
   "source": [
    "And setup the labels as 1 (when the digit is 3) and 0 (when the digit is 8)"
   ]
  },
  {
   "cell_type": "code",
   "execution_count": 12,
   "id": "7dc908f2",
   "metadata": {
    "execution": {
     "iopub.execute_input": "2022-09-05T00:48:22.830192Z",
     "iopub.status.busy": "2022-09-05T00:48:22.829627Z",
     "iopub.status.idle": "2022-09-05T00:48:22.841628Z",
     "shell.execute_reply": "2022-09-05T00:48:22.841153Z"
    },
    "papermill": {
     "duration": 0.042353,
     "end_time": "2022-09-05T00:48:22.841736",
     "exception": false,
     "start_time": "2022-09-05T00:48:22.799383",
     "status": "completed"
    },
    "tags": []
   },
   "outputs": [],
   "source": [
    "y_train = 1*(y_train==3)\n",
    "y_test = 1*(y_test==3)"
   ]
  },
  {
   "cell_type": "code",
   "execution_count": 13,
   "id": "01e4e969",
   "metadata": {
    "execution": {
     "iopub.execute_input": "2022-09-05T00:48:22.900181Z",
     "iopub.status.busy": "2022-09-05T00:48:22.899629Z",
     "iopub.status.idle": "2022-09-05T00:48:22.912699Z",
     "shell.execute_reply": "2022-09-05T00:48:22.912142Z"
    },
    "papermill": {
     "duration": 0.044015,
     "end_time": "2022-09-05T00:48:22.912852",
     "exception": false,
     "start_time": "2022-09-05T00:48:22.868837",
     "status": "completed"
    },
    "tags": []
   },
   "outputs": [
    {
     "data": {
      "text/plain": [
       "((11982, 28, 28), (1984, 28, 28))"
      ]
     },
     "execution_count": 13,
     "metadata": {},
     "output_type": "execute_result"
    }
   ],
   "source": [
    "X_train.shape, X_test.shape"
   ]
  },
  {
   "cell_type": "markdown",
   "id": "5ccf3f85",
   "metadata": {
    "papermill": {
     "duration": 0.027175,
     "end_time": "2022-09-05T00:48:22.967371",
     "exception": false,
     "start_time": "2022-09-05T00:48:22.940196",
     "status": "completed"
    },
    "tags": []
   },
   "source": [
    "We reshape the data to flatten the image pixels into a set of features or co-variates:"
   ]
  },
  {
   "cell_type": "code",
   "execution_count": 14,
   "id": "5286a4a3",
   "metadata": {
    "execution": {
     "iopub.execute_input": "2022-09-05T00:48:23.025822Z",
     "iopub.status.busy": "2022-09-05T00:48:23.025270Z",
     "iopub.status.idle": "2022-09-05T00:48:23.038815Z",
     "shell.execute_reply": "2022-09-05T00:48:23.038331Z"
    },
    "papermill": {
     "duration": 0.044151,
     "end_time": "2022-09-05T00:48:23.038923",
     "exception": false,
     "start_time": "2022-09-05T00:48:22.994772",
     "status": "completed"
    },
    "tags": []
   },
   "outputs": [
    {
     "data": {
      "text/plain": [
       "((11982, 784), (1984, 784))"
      ]
     },
     "execution_count": 14,
     "metadata": {},
     "output_type": "execute_result"
    }
   ],
   "source": [
    "X_train = X_train.reshape(X_train.shape[0], -1)\n",
    "X_test = X_test.reshape(X_test.shape[0], -1)\n",
    "X_train.shape, X_test.shape"
   ]
  },
  {
   "cell_type": "code",
   "execution_count": 15,
   "id": "73c5f88a",
   "metadata": {
    "execution": {
     "iopub.execute_input": "2022-09-05T00:48:23.098766Z",
     "iopub.status.busy": "2022-09-05T00:48:23.098165Z",
     "iopub.status.idle": "2022-09-05T00:48:23.116590Z",
     "shell.execute_reply": "2022-09-05T00:48:23.116135Z"
    },
    "papermill": {
     "duration": 0.05016,
     "end_time": "2022-09-05T00:48:23.116703",
     "exception": false,
     "start_time": "2022-09-05T00:48:23.066543",
     "status": "completed"
    },
    "tags": []
   },
   "outputs": [],
   "source": [
    "#Impoting functions from 'Kudzu'\n",
    "from kudzu.model import Model\n",
    "from kudzu.train import Learner\n",
    "from kudzu.optim import GD\n",
    "from kudzu.data import Data, Sampler,Dataloader\n",
    "\n",
    "from kudzu.callbacks import AccCallback\n",
    "from kudzu.callbacks import ClfCallback\n",
    "\n",
    "from kudzu.loss import MSE\n",
    "\n",
    "from kudzu.layer import Sigmoid,Relu\n",
    "from kudzu.layer import Affine"
   ]
  },
  {
   "cell_type": "markdown",
   "id": "bc01172a",
   "metadata": {
    "papermill": {
     "duration": 0.027519,
     "end_time": "2022-09-05T00:48:23.171839",
     "exception": false,
     "start_time": "2022-09-05T00:48:23.144320",
     "status": "completed"
    },
    "tags": []
   },
   "source": [
    "### Let us create a `Config` class, to store important parameters. \n",
    "This class essentially plays the role of a dictionary."
   ]
  },
  {
   "cell_type": "code",
   "execution_count": 16,
   "id": "978281aa",
   "metadata": {
    "execution": {
     "iopub.execute_input": "2022-09-05T00:48:23.230728Z",
     "iopub.status.busy": "2022-09-05T00:48:23.230146Z",
     "iopub.status.idle": "2022-09-05T00:48:23.241787Z",
     "shell.execute_reply": "2022-09-05T00:48:23.242194Z"
    },
    "papermill": {
     "duration": 0.043038,
     "end_time": "2022-09-05T00:48:23.242320",
     "exception": false,
     "start_time": "2022-09-05T00:48:23.199282",
     "status": "completed"
    },
    "tags": []
   },
   "outputs": [],
   "source": [
    "class Config:\n",
    "    pass\n",
    "config = Config()\n",
    "config.lr = 0.001\n",
    "config.num_epochs = 250\n",
    "config.bs = 50"
   ]
  },
  {
   "cell_type": "markdown",
   "id": "1385fa59",
   "metadata": {
    "papermill": {
     "duration": 0.027317,
     "end_time": "2022-09-05T00:48:23.297201",
     "exception": false,
     "start_time": "2022-09-05T00:48:23.269884",
     "status": "completed"
    },
    "tags": []
   },
   "source": [
    "### Running Models with the Training data\n",
    "Details about the network layers:\n",
    "- A first affine layer has 784 inputs and does 100 affine transforms. These are followed by a Relu\n",
    "- A second affine layer has 100 inputs from the 100 activations of the past layer, and does 100 affine transforms. These are followed by a Relu\n",
    "- A third affine layer has 100 activations and does 2 affine transformations to create an embedding for visualization. There is no non-linearity here.\n",
    "- A final \"logistic regression\" which has an affine transform from 2 inputs to 1 output, which is squeezed through a sigmoid.\n"
   ]
  },
  {
   "cell_type": "code",
   "execution_count": 17,
   "id": "2b9c66db",
   "metadata": {
    "execution": {
     "iopub.execute_input": "2022-09-05T00:48:23.356574Z",
     "iopub.status.busy": "2022-09-05T00:48:23.356007Z",
     "iopub.status.idle": "2022-09-05T00:48:23.367316Z",
     "shell.execute_reply": "2022-09-05T00:48:23.367748Z"
    },
    "papermill": {
     "duration": 0.043239,
     "end_time": "2022-09-05T00:48:23.367872",
     "exception": false,
     "start_time": "2022-09-05T00:48:23.324633",
     "status": "completed"
    },
    "tags": []
   },
   "outputs": [],
   "source": [
    "data = Data(X_train, y_train.reshape(-1,1))\n",
    "sampler = Sampler(data, config.bs, shuffle=True)\n",
    "\n",
    "dl = Dataloader(data, sampler)\n",
    "\n",
    "opt = GD(config.lr)\n",
    "loss = MSE()"
   ]
  },
  {
   "cell_type": "code",
   "execution_count": 18,
   "id": "b275e4c2",
   "metadata": {
    "execution": {
     "iopub.execute_input": "2022-09-05T00:48:23.426781Z",
     "iopub.status.busy": "2022-09-05T00:48:23.426195Z",
     "iopub.status.idle": "2022-09-05T00:48:23.438414Z",
     "shell.execute_reply": "2022-09-05T00:48:23.437977Z"
    },
    "papermill": {
     "duration": 0.043124,
     "end_time": "2022-09-05T00:48:23.438541",
     "exception": false,
     "start_time": "2022-09-05T00:48:23.395417",
     "status": "completed"
    },
    "tags": []
   },
   "outputs": [],
   "source": [
    "training_data_x = X_train\n",
    "testing_data_x = X_test\n",
    "training_data_y = y_train.reshape(-1,1)\n",
    "testing_data_y = y_test.reshape(-1,1)"
   ]
  },
  {
   "cell_type": "code",
   "execution_count": 19,
   "id": "76951160",
   "metadata": {
    "execution": {
     "iopub.execute_input": "2022-09-05T00:48:23.498404Z",
     "iopub.status.busy": "2022-09-05T00:48:23.497843Z",
     "iopub.status.idle": "2022-09-05T00:48:23.514248Z",
     "shell.execute_reply": "2022-09-05T00:48:23.513796Z"
    },
    "papermill": {
     "duration": 0.048468,
     "end_time": "2022-09-05T00:48:23.514352",
     "exception": false,
     "start_time": "2022-09-05T00:48:23.465884",
     "status": "completed"
    },
    "tags": []
   },
   "outputs": [
    {
     "name": "stdout",
     "output_type": "stream",
     "text": [
      "xavier\n",
      "xavier\n",
      "xavier\n",
      "xavier\n",
      "xavier\n"
     ]
    }
   ],
   "source": [
    "layers = [Affine(\"first\", 784, 100), Relu(\"first\"), Affine(\"second\", 100, 100), Relu(\"second\"), Affine(\"third\", 100, 2), Affine(\"last\", 2, 1), Sigmoid(\"last\")]\n",
    "model_nn = Model(layers)\n",
    "model_lr = Model([Affine(\"logits\", 784, 1), Sigmoid(\"sigmoid\")])"
   ]
  },
  {
   "cell_type": "code",
   "execution_count": 20,
   "id": "6eede77a",
   "metadata": {
    "execution": {
     "iopub.execute_input": "2022-09-05T00:48:23.574781Z",
     "iopub.status.busy": "2022-09-05T00:48:23.574196Z",
     "iopub.status.idle": "2022-09-05T00:48:23.585927Z",
     "shell.execute_reply": "2022-09-05T00:48:23.585476Z"
    },
    "papermill": {
     "duration": 0.04382,
     "end_time": "2022-09-05T00:48:23.586030",
     "exception": false,
     "start_time": "2022-09-05T00:48:23.542210",
     "status": "completed"
    },
    "tags": []
   },
   "outputs": [],
   "source": [
    "nn_learner = Learner(loss, model_nn, opt, config.num_epochs)\n",
    "acc_nn = ClfCallback(nn_learner, config.bs, training_data_x , testing_data_x, training_data_y, testing_data_y)\n",
    "nn_learner.set_callbacks([acc_nn])"
   ]
  },
  {
   "cell_type": "code",
   "execution_count": 21,
   "id": "877b6cc7",
   "metadata": {
    "execution": {
     "iopub.execute_input": "2022-09-05T00:48:23.645033Z",
     "iopub.status.busy": "2022-09-05T00:48:23.644409Z",
     "iopub.status.idle": "2022-09-05T00:48:23.656337Z",
     "shell.execute_reply": "2022-09-05T00:48:23.655887Z"
    },
    "papermill": {
     "duration": 0.042738,
     "end_time": "2022-09-05T00:48:23.656437",
     "exception": false,
     "start_time": "2022-09-05T00:48:23.613699",
     "status": "completed"
    },
    "tags": []
   },
   "outputs": [],
   "source": [
    "lr_learner = Learner(loss, model_lr, opt, config.num_epochs)\n",
    "acc_lr = ClfCallback(lr_learner, config.bs, training_data_x , testing_data_x, training_data_y, testing_data_y)\n",
    "lr_learner.set_callbacks([acc_lr])"
   ]
  },
  {
   "cell_type": "code",
   "execution_count": 22,
   "id": "d9b133c3",
   "metadata": {
    "execution": {
     "iopub.execute_input": "2022-09-05T00:48:23.715050Z",
     "iopub.status.busy": "2022-09-05T00:48:23.714472Z",
     "iopub.status.idle": "2022-09-05T00:51:20.666522Z",
     "shell.execute_reply": "2022-09-05T00:51:20.667000Z"
    },
    "papermill": {
     "duration": 176.983084,
     "end_time": "2022-09-05T00:51:20.667131",
     "exception": false,
     "start_time": "2022-09-05T00:48:23.684047",
     "status": "completed"
    },
    "tags": []
   },
   "outputs": [
    {
     "name": "stdout",
     "output_type": "stream",
     "text": [
      "Epoch 0, Loss 0.2507\n",
      "Training Accuracy: 0.4997, Testing Accuracy: 0.5055\n",
      "\n"
     ]
    },
    {
     "name": "stdout",
     "output_type": "stream",
     "text": [
      "Epoch 10, Loss 0.2438\n",
      "Training Accuracy: 0.7403, Testing Accuracy: 0.7686\n",
      "\n"
     ]
    },
    {
     "name": "stdout",
     "output_type": "stream",
     "text": [
      "Epoch 20, Loss 0.2175\n",
      "Training Accuracy: 0.8761, Testing Accuracy: 0.8936\n",
      "\n"
     ]
    },
    {
     "name": "stdout",
     "output_type": "stream",
     "text": [
      "Epoch 30, Loss 0.1264\n",
      "Training Accuracy: 0.9064, Testing Accuracy: 0.9143\n",
      "\n"
     ]
    },
    {
     "name": "stdout",
     "output_type": "stream",
     "text": [
      "Epoch 40, Loss 0.0711\n",
      "Training Accuracy: 0.9283, Testing Accuracy: 0.9350\n",
      "\n"
     ]
    },
    {
     "name": "stdout",
     "output_type": "stream",
     "text": [
      "Epoch 50, Loss 0.0528\n",
      "Training Accuracy: 0.9406, Testing Accuracy: 0.9546\n",
      "\n"
     ]
    },
    {
     "name": "stdout",
     "output_type": "stream",
     "text": [
      "Epoch 60, Loss 0.0441\n",
      "Training Accuracy: 0.9501, Testing Accuracy: 0.9622\n",
      "\n"
     ]
    },
    {
     "name": "stdout",
     "output_type": "stream",
     "text": [
      "Epoch 70, Loss 0.0391\n",
      "Training Accuracy: 0.9553, Testing Accuracy: 0.9682\n",
      "\n"
     ]
    },
    {
     "name": "stdout",
     "output_type": "stream",
     "text": [
      "Epoch 80, Loss 0.0357\n",
      "Training Accuracy: 0.9589, Testing Accuracy: 0.9688\n",
      "\n"
     ]
    },
    {
     "name": "stdout",
     "output_type": "stream",
     "text": [
      "Epoch 90, Loss 0.0333\n",
      "Training Accuracy: 0.9609, Testing Accuracy: 0.9708\n",
      "\n"
     ]
    },
    {
     "name": "stdout",
     "output_type": "stream",
     "text": [
      "Epoch 100, Loss 0.0314\n",
      "Training Accuracy: 0.9625, Testing Accuracy: 0.9728\n",
      "\n"
     ]
    },
    {
     "name": "stdout",
     "output_type": "stream",
     "text": [
      "Epoch 110, Loss 0.0299\n",
      "Training Accuracy: 0.9646, Testing Accuracy: 0.9728\n",
      "\n"
     ]
    },
    {
     "name": "stdout",
     "output_type": "stream",
     "text": [
      "Epoch 120, Loss 0.0287\n",
      "Training Accuracy: 0.9664, Testing Accuracy: 0.9723\n",
      "\n"
     ]
    },
    {
     "name": "stdout",
     "output_type": "stream",
     "text": [
      "Epoch 130, Loss 0.0277\n",
      "Training Accuracy: 0.9680, Testing Accuracy: 0.9728\n",
      "\n"
     ]
    },
    {
     "name": "stdout",
     "output_type": "stream",
     "text": [
      "Epoch 140, Loss 0.0267\n",
      "Training Accuracy: 0.9690, Testing Accuracy: 0.9718\n",
      "\n"
     ]
    },
    {
     "name": "stdout",
     "output_type": "stream",
     "text": [
      "Epoch 150, Loss 0.0259\n",
      "Training Accuracy: 0.9695, Testing Accuracy: 0.9713\n",
      "\n"
     ]
    },
    {
     "name": "stdout",
     "output_type": "stream",
     "text": [
      "Epoch 160, Loss 0.0252\n",
      "Training Accuracy: 0.9700, Testing Accuracy: 0.9718\n",
      "\n"
     ]
    },
    {
     "name": "stdout",
     "output_type": "stream",
     "text": [
      "Epoch 170, Loss 0.0245\n",
      "Training Accuracy: 0.9705, Testing Accuracy: 0.9728\n",
      "\n"
     ]
    },
    {
     "name": "stdout",
     "output_type": "stream",
     "text": [
      "Epoch 180, Loss 0.0239\n",
      "Training Accuracy: 0.9720, Testing Accuracy: 0.9738\n",
      "\n"
     ]
    },
    {
     "name": "stdout",
     "output_type": "stream",
     "text": [
      "Epoch 190, Loss 0.0234\n",
      "Training Accuracy: 0.9731, Testing Accuracy: 0.9738\n",
      "\n"
     ]
    },
    {
     "name": "stdout",
     "output_type": "stream",
     "text": [
      "Epoch 200, Loss 0.0229\n",
      "Training Accuracy: 0.9739, Testing Accuracy: 0.9743\n",
      "\n"
     ]
    },
    {
     "name": "stdout",
     "output_type": "stream",
     "text": [
      "Epoch 210, Loss 0.0224\n",
      "Training Accuracy: 0.9742, Testing Accuracy: 0.9738\n",
      "\n"
     ]
    },
    {
     "name": "stdout",
     "output_type": "stream",
     "text": [
      "Epoch 220, Loss 0.0219\n",
      "Training Accuracy: 0.9746, Testing Accuracy: 0.9743\n",
      "\n"
     ]
    },
    {
     "name": "stdout",
     "output_type": "stream",
     "text": [
      "Epoch 230, Loss 0.0215\n",
      "Training Accuracy: 0.9750, Testing Accuracy: 0.9738\n",
      "\n"
     ]
    },
    {
     "name": "stdout",
     "output_type": "stream",
     "text": [
      "Epoch 240, Loss 0.0211\n",
      "Training Accuracy: 0.9756, Testing Accuracy: 0.9748\n",
      "\n"
     ]
    },
    {
     "data": {
      "text/plain": [
       "0.0022323180991355835"
      ]
     },
     "execution_count": 22,
     "metadata": {},
     "output_type": "execute_result"
    }
   ],
   "source": [
    "nn_learner.train_loop(dl)"
   ]
  },
  {
   "cell_type": "code",
   "execution_count": 23,
   "id": "e0163366",
   "metadata": {
    "execution": {
     "iopub.execute_input": "2022-09-05T00:51:20.740388Z",
     "iopub.status.busy": "2022-09-05T00:51:20.739825Z",
     "iopub.status.idle": "2022-09-05T00:51:33.117961Z",
     "shell.execute_reply": "2022-09-05T00:51:33.117499Z"
    },
    "papermill": {
     "duration": 12.415902,
     "end_time": "2022-09-05T00:51:33.118076",
     "exception": false,
     "start_time": "2022-09-05T00:51:20.702174",
     "status": "completed"
    },
    "tags": []
   },
   "outputs": [
    {
     "name": "stdout",
     "output_type": "stream",
     "text": [
      "Epoch 0, Loss 0.2488\n",
      "Training Accuracy: 0.6607, Testing Accuracy: 0.6623\n",
      "\n"
     ]
    },
    {
     "name": "stdout",
     "output_type": "stream",
     "text": [
      "Epoch 10, Loss 0.1056\n",
      "Training Accuracy: 0.9030, Testing Accuracy: 0.9128\n",
      "\n"
     ]
    },
    {
     "name": "stdout",
     "output_type": "stream",
     "text": [
      "Epoch 20, Loss 0.0806\n",
      "Training Accuracy: 0.9241, Testing Accuracy: 0.9380\n",
      "\n"
     ]
    },
    {
     "name": "stdout",
     "output_type": "stream",
     "text": [
      "Epoch 30, Loss 0.0692\n",
      "Training Accuracy: 0.9330, Testing Accuracy: 0.9456\n",
      "\n"
     ]
    },
    {
     "name": "stdout",
     "output_type": "stream",
     "text": [
      "Epoch 40, Loss 0.0623\n",
      "Training Accuracy: 0.9385, Testing Accuracy: 0.9501\n",
      "\n"
     ]
    },
    {
     "name": "stdout",
     "output_type": "stream",
     "text": [
      "Epoch 50, Loss 0.0577\n",
      "Training Accuracy: 0.9422, Testing Accuracy: 0.9551\n",
      "\n"
     ]
    },
    {
     "name": "stdout",
     "output_type": "stream",
     "text": [
      "Epoch 60, Loss 0.0543\n",
      "Training Accuracy: 0.9450, Testing Accuracy: 0.9561\n",
      "\n"
     ]
    },
    {
     "name": "stdout",
     "output_type": "stream",
     "text": [
      "Epoch 70, Loss 0.0516\n",
      "Training Accuracy: 0.9470, Testing Accuracy: 0.9572\n",
      "\n"
     ]
    },
    {
     "name": "stdout",
     "output_type": "stream",
     "text": [
      "Epoch 80, Loss 0.0496\n",
      "Training Accuracy: 0.9491, Testing Accuracy: 0.9582\n",
      "\n"
     ]
    },
    {
     "name": "stdout",
     "output_type": "stream",
     "text": [
      "Epoch 90, Loss 0.0478\n",
      "Training Accuracy: 0.9504, Testing Accuracy: 0.9597\n",
      "\n"
     ]
    },
    {
     "name": "stdout",
     "output_type": "stream",
     "text": [
      "Epoch 100, Loss 0.0464\n",
      "Training Accuracy: 0.9517, Testing Accuracy: 0.9607\n",
      "\n"
     ]
    },
    {
     "name": "stdout",
     "output_type": "stream",
     "text": [
      "Epoch 110, Loss 0.0451\n",
      "Training Accuracy: 0.9530, Testing Accuracy: 0.9617\n",
      "\n"
     ]
    },
    {
     "name": "stdout",
     "output_type": "stream",
     "text": [
      "Epoch 120, Loss 0.0441\n",
      "Training Accuracy: 0.9540, Testing Accuracy: 0.9637\n",
      "\n"
     ]
    },
    {
     "name": "stdout",
     "output_type": "stream",
     "text": [
      "Epoch 130, Loss 0.0431\n",
      "Training Accuracy: 0.9547, Testing Accuracy: 0.9632\n",
      "\n"
     ]
    },
    {
     "name": "stdout",
     "output_type": "stream",
     "text": [
      "Epoch 140, Loss 0.0423\n",
      "Training Accuracy: 0.9553, Testing Accuracy: 0.9647\n",
      "\n"
     ]
    },
    {
     "name": "stdout",
     "output_type": "stream",
     "text": [
      "Epoch 150, Loss 0.0415\n",
      "Training Accuracy: 0.9561, Testing Accuracy: 0.9647\n",
      "\n"
     ]
    },
    {
     "name": "stdout",
     "output_type": "stream",
     "text": [
      "Epoch 160, Loss 0.0409\n",
      "Training Accuracy: 0.9569, Testing Accuracy: 0.9652\n",
      "\n"
     ]
    },
    {
     "name": "stdout",
     "output_type": "stream",
     "text": [
      "Epoch 170, Loss 0.0402\n",
      "Training Accuracy: 0.9574, Testing Accuracy: 0.9667\n",
      "\n"
     ]
    },
    {
     "name": "stdout",
     "output_type": "stream",
     "text": [
      "Epoch 180, Loss 0.0397\n",
      "Training Accuracy: 0.9577, Testing Accuracy: 0.9667\n",
      "\n"
     ]
    },
    {
     "name": "stdout",
     "output_type": "stream",
     "text": [
      "Epoch 190, Loss 0.0391\n",
      "Training Accuracy: 0.9587, Testing Accuracy: 0.9672\n",
      "\n"
     ]
    },
    {
     "name": "stdout",
     "output_type": "stream",
     "text": [
      "Epoch 200, Loss 0.0387\n",
      "Training Accuracy: 0.9589, Testing Accuracy: 0.9672\n",
      "\n"
     ]
    },
    {
     "name": "stdout",
     "output_type": "stream",
     "text": [
      "Epoch 210, Loss 0.0382\n",
      "Training Accuracy: 0.9594, Testing Accuracy: 0.9677\n",
      "\n"
     ]
    },
    {
     "name": "stdout",
     "output_type": "stream",
     "text": [
      "Epoch 220, Loss 0.0378\n",
      "Training Accuracy: 0.9595, Testing Accuracy: 0.9672\n",
      "\n"
     ]
    },
    {
     "name": "stdout",
     "output_type": "stream",
     "text": [
      "Epoch 230, Loss 0.0374\n",
      "Training Accuracy: 0.9599, Testing Accuracy: 0.9672\n",
      "\n"
     ]
    },
    {
     "name": "stdout",
     "output_type": "stream",
     "text": [
      "Epoch 240, Loss 0.037\n",
      "Training Accuracy: 0.9599, Testing Accuracy: 0.9672\n",
      "\n"
     ]
    },
    {
     "data": {
      "text/plain": [
       "0.03117807506980054"
      ]
     },
     "execution_count": 23,
     "metadata": {},
     "output_type": "execute_result"
    }
   ],
   "source": [
    "lr_learner.train_loop(dl)"
   ]
  },
  {
   "cell_type": "code",
   "execution_count": 24,
   "id": "ca410940",
   "metadata": {
    "execution": {
     "iopub.execute_input": "2022-09-05T00:51:33.212608Z",
     "iopub.status.busy": "2022-09-05T00:51:33.211327Z",
     "iopub.status.idle": "2022-09-05T00:51:33.433135Z",
     "shell.execute_reply": "2022-09-05T00:51:33.433561Z"
    },
    "papermill": {
     "duration": 0.272775,
     "end_time": "2022-09-05T00:51:33.433696",
     "exception": false,
     "start_time": "2022-09-05T00:51:33.160921",
     "status": "completed"
    },
    "tags": []
   },
   "outputs": [
    {
     "data": {
      "text/plain": [
       "<matplotlib.legend.Legend at 0x7fb5bbb012e8>"
      ]
     },
     "execution_count": 24,
     "metadata": {},
     "output_type": "execute_result"
    },
    {
     "data": {
      "image/png": "[encoded data removed]",
      "text/plain": [
       "<Figure size 1080x720 with 1 Axes>"
      ]
     },
     "metadata": {
      "needs_background": "light"
     },
     "output_type": "display_data"
    }
   ],
   "source": [
    "#comparing the results of NN and LR\n",
    "plt.figure(figsize=(15,10))\n",
    "\n",
    "# Neural Network plots\n",
    "plt.plot(acc_nn.accuracies, 'r-', label = \"Training Accuracies - NN\")\n",
    "plt.plot(acc_nn.test_accuracies, 'g-', label = \"Testing Accuracies - NN\")\n",
    "\n",
    "# Logistic Regression plots\n",
    "plt.plot(acc_lr.accuracies, 'k-', label = \"Training Accuracies - LR\")\n",
    "plt.plot(acc_lr.test_accuracies, 'b-', label = \"Testing Accuracies - LR\")\n",
    "plt.legend()"
   ]
  },
  {
   "cell_type": "markdown",
   "id": "80dfb35c",
   "metadata": {
    "papermill": {
     "duration": 0.04267,
     "end_time": "2022-09-05T00:51:33.519346",
     "exception": false,
     "start_time": "2022-09-05T00:51:33.476676",
     "status": "completed"
    },
    "tags": []
   },
   "source": [
    "#### Plotting the outputs of this layer of the NN.\n"
   ]
  },
  {
   "cell_type": "code",
   "execution_count": 25,
   "id": "45eb2ff5",
   "metadata": {
    "execution": {
     "iopub.execute_input": "2022-09-05T00:51:33.608776Z",
     "iopub.status.busy": "2022-09-05T00:51:33.608222Z",
     "iopub.status.idle": "2022-09-05T00:51:33.643817Z",
     "shell.execute_reply": "2022-09-05T00:51:33.644599Z"
    },
    "papermill": {
     "duration": 0.082362,
     "end_time": "2022-09-05T00:51:33.644739",
     "exception": false,
     "start_time": "2022-09-05T00:51:33.562377",
     "status": "completed"
    },
    "tags": []
   },
   "outputs": [],
   "source": [
    "new_model = Model(layers[:-2])\n",
    "testing_plot = new_model(testing_data_x)"
   ]
  },
  {
   "cell_type": "code",
   "execution_count": 26,
   "id": "4c0a5485",
   "metadata": {
    "execution": {
     "iopub.execute_input": "2022-09-05T00:51:33.738145Z",
     "iopub.status.busy": "2022-09-05T00:51:33.737614Z",
     "iopub.status.idle": "2022-09-05T00:51:33.925560Z",
     "shell.execute_reply": "2022-09-05T00:51:33.925104Z"
    },
    "papermill": {
     "duration": 0.237593,
     "end_time": "2022-09-05T00:51:33.925673",
     "exception": false,
     "start_time": "2022-09-05T00:51:33.688080",
     "status": "completed"
    },
    "tags": []
   },
   "outputs": [
    {
     "data": {
      "text/plain": [
       "Text(0.5, 1.0, 'Outputs')"
      ]
     },
     "execution_count": 26,
     "metadata": {},
     "output_type": "execute_result"
    },
    {
     "data": {
      "image/png": "[encoded data removed]",
      "text/plain": [
       "<Figure size 576x504 with 1 Axes>"
      ]
     },
     "metadata": {
      "needs_background": "light"
     },
     "output_type": "display_data"
    }
   ],
   "source": [
    "# Plotting the scatter plot of points and color coding by class\n",
    "plt.figure(figsize=(8,7))\n",
    "plt.scatter(testing_plot[:,0], testing_plot[:,1], alpha = 0.1, c = y_test.ravel());\n",
    "plt.title('Outputs')"
   ]
  },
  {
   "cell_type": "markdown",
   "id": "a74fcf8f",
   "metadata": {
    "papermill": {
     "duration": 0.04469,
     "end_time": "2022-09-05T00:51:34.040100",
     "exception": false,
     "start_time": "2022-09-05T00:51:33.995410",
     "status": "completed"
    },
    "tags": []
   },
   "source": [
    "Probability contours"
   ]
  },
  {
   "cell_type": "code",
   "execution_count": 27,
   "id": "d0afc8e3",
   "metadata": {
    "execution": {
     "iopub.execute_input": "2022-09-05T00:51:34.133432Z",
     "iopub.status.busy": "2022-09-05T00:51:34.132878Z",
     "iopub.status.idle": "2022-09-05T00:51:34.144381Z",
     "shell.execute_reply": "2022-09-05T00:51:34.143939Z"
    },
    "papermill": {
     "duration": 0.05949,
     "end_time": "2022-09-05T00:51:34.144482",
     "exception": false,
     "start_time": "2022-09-05T00:51:34.084992",
     "status": "completed"
    },
    "tags": []
   },
   "outputs": [],
   "source": [
    "model_prob = Model(layers[-2:]) "
   ]
  },
  {
   "cell_type": "code",
   "execution_count": 28,
   "id": "9b96e238",
   "metadata": {
    "execution": {
     "iopub.execute_input": "2022-09-05T00:51:34.238931Z",
     "iopub.status.busy": "2022-09-05T00:51:34.238323Z",
     "iopub.status.idle": "2022-09-05T00:51:34.251266Z",
     "shell.execute_reply": "2022-09-05T00:51:34.251690Z"
    },
    "papermill": {
     "duration": 0.062314,
     "end_time": "2022-09-05T00:51:34.251817",
     "exception": false,
     "start_time": "2022-09-05T00:51:34.189503",
     "status": "completed"
    },
    "tags": []
   },
   "outputs": [],
   "source": [
    "#creating the x and y ranges according to the above generated plot.\n",
    "x_range = np.linspace(-4, 1, 100) \n",
    "y_range = np.linspace(-6, 6, 100) \n",
    "x_grid, y_grid = np.meshgrid(x_range, y_range) # x_grid and y_grig are of size 100 X 100\n",
    "\n",
    "# converting x_grid and y_grid to continuous arrays\n",
    "x_gridflat = np.ravel(x_grid)\n",
    "y_gridflat = np.ravel(y_grid)\n",
    "\n",
    "# The last layer of the current model takes two columns as input. Hence transpose of np.vstack() is required.\n",
    "X = np.vstack((x_gridflat, y_gridflat)).T\n",
    "\n",
    "prob_contour = model_prob(X).reshape(100,100) "
   ]
  },
  {
   "cell_type": "code",
   "execution_count": 29,
   "id": "da72499a",
   "metadata": {
    "execution": {
     "iopub.execute_input": "2022-09-05T00:51:34.345708Z",
     "iopub.status.busy": "2022-09-05T00:51:34.345155Z",
     "iopub.status.idle": "2022-09-05T00:51:34.589528Z",
     "shell.execute_reply": "2022-09-05T00:51:34.589967Z"
    },
    "papermill": {
     "duration": 0.293338,
     "end_time": "2022-09-05T00:51:34.590097",
     "exception": false,
     "start_time": "2022-09-05T00:51:34.296759",
     "status": "completed"
    },
    "tags": []
   },
   "outputs": [
    {
     "data": {
      "image/png": "[encoded data removed]",
      "text/plain": [
       "<Figure size 720x648 with 1 Axes>"
      ]
     },
     "metadata": {
      "needs_background": "light"
     },
     "output_type": "display_data"
    }
   ],
   "source": [
    "plt.figure(figsize=(10,9))\n",
    "plt.scatter(testing_plot[:,0], testing_plot[:,1], alpha = 0.1, c = y_test.ravel())\n",
    "contours = plt.contour(x_grid,y_grid,prob_contour)\n",
    "plt.title('Probability Contours')\n",
    "plt.clabel(contours, inline = True );"
   ]
  },
  {
   "cell_type": "code",
   "execution_count": null,
   "id": "e81b4ac7",
   "metadata": {
    "papermill": {
     "duration": 0.047298,
     "end_time": "2022-09-05T00:51:34.685052",
     "exception": false,
     "start_time": "2022-09-05T00:51:34.637754",
     "status": "completed"
    },
    "tags": []
   },
   "outputs": [],
   "source": []
  }
 ],
 "metadata": {
  "kernelspec": {
   "display_name": "Python 3",
   "language": "python",
   "name": "python3"
  },
  "language_info": {
   "codemirror_mode": {
    "name": "ipython",
    "version": 3
   },
   "file_extension": ".py",
   "mimetype": "text/x-python",
   "name": "python",
   "nbconvert_exporter": "python",
   "pygments_lexer": "ipython3",
   "version": "3.6.15"
  },
  "papermill": {
   "default_parameters": {},
   "duration": 199.855988,
   "end_time": "2022-09-05T00:51:35.049676",
   "environment_variables": {},
   "exception": null,
   "input_path": "2020-08-11-part2.ipynb",
   "output_path": "2020-08-11-part2.ipynb",
   "parameters": {},
   "start_time": "2022-09-05T00:48:15.193688",
   "version": "2.3.3"
  }
 },
 "nbformat": 4,
 "nbformat_minor": 5
}