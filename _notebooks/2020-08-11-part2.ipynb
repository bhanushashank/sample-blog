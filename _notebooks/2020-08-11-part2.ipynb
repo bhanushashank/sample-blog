{
 "cells": [
  {
   "cell_type": "markdown",
   "id": "98380cd3",
   "metadata": {
    "papermill": {
     "duration": 0.030298,
     "end_time": "2022-06-05T10:09:08.237152",
     "exception": false,
     "start_time": "2022-06-05T10:09:08.206854",
     "status": "completed"
    },
    "tags": []
   },
   "source": [
    "# Distinguish Your Own Digits (DYOD)"
   ]
  },
  {
   "cell_type": "markdown",
   "id": "ef31240d",
   "metadata": {
    "papermill": {
     "duration": 0.023809,
     "end_time": "2022-06-05T10:09:08.285571",
     "exception": false,
     "start_time": "2022-06-05T10:09:08.261762",
     "status": "completed"
    },
    "tags": []
   },
   "source": [
    "You are going to write a classifier that distinguishes between the number 3 and number 8."
   ]
  },
  {
   "cell_type": "code",
   "execution_count": 1,
   "id": "b15c8646",
   "metadata": {
    "execution": {
     "iopub.execute_input": "2022-06-05T10:09:08.346224Z",
     "iopub.status.busy": "2022-06-05T10:09:08.345579Z",
     "iopub.status.idle": "2022-06-05T10:09:08.357677Z",
     "shell.execute_reply": "2022-06-05T10:09:08.357156Z"
    },
    "papermill": {
     "duration": 0.048241,
     "end_time": "2022-06-05T10:09:08.357814",
     "exception": false,
     "start_time": "2022-06-05T10:09:08.309573",
     "status": "completed"
    },
    "tags": []
   },
   "outputs": [],
   "source": [
    "%load_ext autoreload\n",
    "%autoreload 2"
   ]
  },
  {
   "cell_type": "code",
   "execution_count": 2,
   "id": "22ef38dc",
   "metadata": {
    "execution": {
     "iopub.execute_input": "2022-06-05T10:09:08.411756Z",
     "iopub.status.busy": "2022-06-05T10:09:08.411077Z",
     "iopub.status.idle": "2022-06-05T10:09:09.057503Z",
     "shell.execute_reply": "2022-06-05T10:09:09.056844Z"
    },
    "papermill": {
     "duration": 0.675742,
     "end_time": "2022-06-05T10:09:09.057690",
     "exception": false,
     "start_time": "2022-06-05T10:09:08.381948",
     "status": "completed"
    },
    "tags": []
   },
   "outputs": [],
   "source": [
    "%matplotlib inline\n",
    "import numpy as np\n",
    "import matplotlib.pyplot as plt\n",
    "import pandas as pd"
   ]
  },
  {
   "cell_type": "markdown",
   "id": "ba036198",
   "metadata": {
    "papermill": {
     "duration": 0.024258,
     "end_time": "2022-06-05T10:09:09.105987",
     "exception": false,
     "start_time": "2022-06-05T10:09:09.081729",
     "status": "completed"
    },
    "tags": []
   },
   "source": [
    "From the command line run `pip install mnist`. This is a library that will help you bring down the mnist dataset. If you run this from a notebook, you need to put  `!pip install mnist` in a cell by itself."
   ]
  },
  {
   "cell_type": "code",
   "execution_count": 3,
   "id": "bb6ad8a1",
   "metadata": {
    "execution": {
     "iopub.execute_input": "2022-06-05T10:09:09.163549Z",
     "iopub.status.busy": "2022-06-05T10:09:09.162856Z",
     "iopub.status.idle": "2022-06-05T10:09:11.073859Z",
     "shell.execute_reply": "2022-06-05T10:09:11.074416Z"
    },
    "papermill": {
     "duration": 1.944324,
     "end_time": "2022-06-05T10:09:11.074598",
     "exception": false,
     "start_time": "2022-06-05T10:09:09.130274",
     "status": "completed"
    },
    "tags": []
   },
   "outputs": [
    {
     "name": "stdout",
     "output_type": "stream",
     "text": [
      "Collecting mnist\r\n"
     ]
    },
    {
     "name": "stdout",
     "output_type": "stream",
     "text": [
      "  Downloading mnist-0.2.2-py2.py3-none-any.whl (3.5 kB)\r\n",
      "Requirement already satisfied: numpy in /opt/hostedtoolcache/Python/3.6.15/x64/lib/python3.6/site-packages (from mnist) (1.19.5)\r\n"
     ]
    },
    {
     "name": "stdout",
     "output_type": "stream",
     "text": [
      "Installing collected packages: mnist\r\n"
     ]
    },
    {
     "name": "stdout",
     "output_type": "stream",
     "text": [
      "Successfully installed mnist-0.2.2\r\n"
     ]
    }
   ],
   "source": [
    "!pip install mnist"
   ]
  },
  {
   "cell_type": "markdown",
   "id": "69df9c9a",
   "metadata": {
    "papermill": {
     "duration": 0.025409,
     "end_time": "2022-06-05T10:09:11.126041",
     "exception": false,
     "start_time": "2022-06-05T10:09:11.100632",
     "status": "completed"
    },
    "tags": []
   },
   "source": [
    "## Preparing the Data"
   ]
  },
  {
   "cell_type": "code",
   "execution_count": 4,
   "id": "7f69d806",
   "metadata": {
    "execution": {
     "iopub.execute_input": "2022-06-05T10:09:11.185889Z",
     "iopub.status.busy": "2022-06-05T10:09:11.185200Z",
     "iopub.status.idle": "2022-06-05T10:09:11.201512Z",
     "shell.execute_reply": "2022-06-05T10:09:11.201012Z"
    },
    "papermill": {
     "duration": 0.050365,
     "end_time": "2022-06-05T10:09:11.201654",
     "exception": false,
     "start_time": "2022-06-05T10:09:11.151289",
     "status": "completed"
    },
    "tags": []
   },
   "outputs": [],
   "source": [
    "import mnist"
   ]
  },
  {
   "cell_type": "code",
   "execution_count": 5,
   "id": "a411e44f",
   "metadata": {
    "execution": {
     "iopub.execute_input": "2022-06-05T10:09:11.258609Z",
     "iopub.status.busy": "2022-06-05T10:09:11.257957Z",
     "iopub.status.idle": "2022-06-05T10:09:11.848481Z",
     "shell.execute_reply": "2022-06-05T10:09:11.847793Z"
    },
    "papermill": {
     "duration": 0.621669,
     "end_time": "2022-06-05T10:09:11.848654",
     "exception": false,
     "start_time": "2022-06-05T10:09:11.226985",
     "status": "completed"
    },
    "tags": []
   },
   "outputs": [],
   "source": [
    "train_images = mnist.train_images()\n",
    "train_labels = mnist.train_labels()"
   ]
  },
  {
   "cell_type": "code",
   "execution_count": 6,
   "id": "dceab3a5",
   "metadata": {
    "execution": {
     "iopub.execute_input": "2022-06-05T10:09:11.904894Z",
     "iopub.status.busy": "2022-06-05T10:09:11.904233Z",
     "iopub.status.idle": "2022-06-05T10:09:11.921631Z",
     "shell.execute_reply": "2022-06-05T10:09:11.921106Z"
    },
    "papermill": {
     "duration": 0.047209,
     "end_time": "2022-06-05T10:09:11.921773",
     "exception": false,
     "start_time": "2022-06-05T10:09:11.874564",
     "status": "completed"
    },
    "tags": []
   },
   "outputs": [
    {
     "data": {
      "text/plain": [
       "((60000, 28, 28), (60000,))"
      ]
     },
     "execution_count": 6,
     "metadata": {},
     "output_type": "execute_result"
    }
   ],
   "source": [
    "train_images.shape, train_labels.shape"
   ]
  },
  {
   "cell_type": "code",
   "execution_count": 7,
   "id": "f50dc2bb",
   "metadata": {
    "execution": {
     "iopub.execute_input": "2022-06-05T10:09:11.991672Z",
     "iopub.status.busy": "2022-06-05T10:09:11.988165Z",
     "iopub.status.idle": "2022-06-05T10:09:12.198737Z",
     "shell.execute_reply": "2022-06-05T10:09:12.198099Z"
    },
    "papermill": {
     "duration": 0.251771,
     "end_time": "2022-06-05T10:09:12.198875",
     "exception": false,
     "start_time": "2022-06-05T10:09:11.947104",
     "status": "completed"
    },
    "tags": []
   },
   "outputs": [],
   "source": [
    "test_images = mnist.test_images()\n",
    "test_labels = mnist.test_labels()"
   ]
  },
  {
   "cell_type": "code",
   "execution_count": 8,
   "id": "fc38cf1b",
   "metadata": {
    "execution": {
     "iopub.execute_input": "2022-06-05T10:09:12.255360Z",
     "iopub.status.busy": "2022-06-05T10:09:12.254676Z",
     "iopub.status.idle": "2022-06-05T10:09:12.269771Z",
     "shell.execute_reply": "2022-06-05T10:09:12.270234Z"
    },
    "papermill": {
     "duration": 0.045692,
     "end_time": "2022-06-05T10:09:12.270388",
     "exception": false,
     "start_time": "2022-06-05T10:09:12.224696",
     "status": "completed"
    },
    "tags": []
   },
   "outputs": [
    {
     "data": {
      "text/plain": [
       "((10000, 28, 28), (10000,))"
      ]
     },
     "execution_count": 8,
     "metadata": {},
     "output_type": "execute_result"
    }
   ],
   "source": [
    "test_images.shape, test_labels.shape"
   ]
  },
  {
   "cell_type": "code",
   "execution_count": 9,
   "id": "f9ed8fe0",
   "metadata": {
    "execution": {
     "iopub.execute_input": "2022-06-05T10:09:12.336667Z",
     "iopub.status.busy": "2022-06-05T10:09:12.335867Z",
     "iopub.status.idle": "2022-06-05T10:09:12.483195Z",
     "shell.execute_reply": "2022-06-05T10:09:12.482632Z"
    },
    "papermill": {
     "duration": 0.187439,
     "end_time": "2022-06-05T10:09:12.483334",
     "exception": false,
     "start_time": "2022-06-05T10:09:12.295895",
     "status": "completed"
    },
    "tags": []
   },
   "outputs": [
    {
     "name": "stdout",
     "output_type": "stream",
     "text": [
      "2\n"
     ]
    },
    {
     "data": {
      "text/plain": [
       "<matplotlib.image.AxesImage at 0x7fb36092b358>"
      ]
     },
     "execution_count": 9,
     "metadata": {},
     "output_type": "execute_result"
    },
    {
     "data": {
      "image/png": "[encoded data removed]",
      "text/plain": [
       "<Figure size 432x288 with 1 Axes>"
      ]
     },
     "metadata": {
      "needs_background": "light"
     },
     "output_type": "display_data"
    }
   ],
   "source": [
    "image_index = 7776 # You may select anything up to 60,000\n",
    "print(train_labels[image_index]) \n",
    "plt.imshow(train_images[image_index], cmap='Greys')"
   ]
  },
  {
   "cell_type": "markdown",
   "id": "a8d2388d",
   "metadata": {
    "papermill": {
     "duration": 0.028937,
     "end_time": "2022-06-05T10:09:12.539441",
     "exception": false,
     "start_time": "2022-06-05T10:09:12.510504",
     "status": "completed"
    },
    "tags": []
   },
   "source": [
    "## Filter data to get 3 and 8 out"
   ]
  },
  {
   "cell_type": "code",
   "execution_count": 10,
   "id": "776f7fc7",
   "metadata": {
    "execution": {
     "iopub.execute_input": "2022-06-05T10:09:12.598948Z",
     "iopub.status.busy": "2022-06-05T10:09:12.598264Z",
     "iopub.status.idle": "2022-06-05T10:09:12.619271Z",
     "shell.execute_reply": "2022-06-05T10:09:12.618732Z"
    },
    "papermill": {
     "duration": 0.05303,
     "end_time": "2022-06-05T10:09:12.619413",
     "exception": false,
     "start_time": "2022-06-05T10:09:12.566383",
     "status": "completed"
    },
    "tags": []
   },
   "outputs": [],
   "source": [
    "train_filter = np.where((train_labels == 3 ) | (train_labels == 8))\n",
    "test_filter = np.where((test_labels == 3) | (test_labels == 8))\n",
    "X_train, y_train = train_images[train_filter], train_labels[train_filter]\n",
    "X_test, y_test = test_images[test_filter], test_labels[test_filter]"
   ]
  },
  {
   "cell_type": "markdown",
   "id": "948f0b7e",
   "metadata": {
    "papermill": {
     "duration": 0.028857,
     "end_time": "2022-06-05T10:09:12.676497",
     "exception": false,
     "start_time": "2022-06-05T10:09:12.647640",
     "status": "completed"
    },
    "tags": []
   },
   "source": [
    "We normalize the pizel values in the 0 to 1 range"
   ]
  },
  {
   "cell_type": "code",
   "execution_count": 11,
   "id": "ee4c2166",
   "metadata": {
    "execution": {
     "iopub.execute_input": "2022-06-05T10:09:12.737089Z",
     "iopub.status.busy": "2022-06-05T10:09:12.736327Z",
     "iopub.status.idle": "2022-06-05T10:09:12.789198Z",
     "shell.execute_reply": "2022-06-05T10:09:12.788526Z"
    },
    "papermill": {
     "duration": 0.086053,
     "end_time": "2022-06-05T10:09:12.789362",
     "exception": false,
     "start_time": "2022-06-05T10:09:12.703309",
     "status": "completed"
    },
    "tags": []
   },
   "outputs": [],
   "source": [
    "X_train = X_train/255.\n",
    "X_test = X_test/255."
   ]
  },
  {
   "cell_type": "markdown",
   "id": "ddcf4fab",
   "metadata": {
    "papermill": {
     "duration": 0.026767,
     "end_time": "2022-06-05T10:09:12.843181",
     "exception": false,
     "start_time": "2022-06-05T10:09:12.816414",
     "status": "completed"
    },
    "tags": []
   },
   "source": [
    "And setup the labels as 1 (when the digit is 3) and 0 (when the digit is 8)"
   ]
  },
  {
   "cell_type": "code",
   "execution_count": 12,
   "id": "7dc908f2",
   "metadata": {
    "execution": {
     "iopub.execute_input": "2022-06-05T10:09:12.902685Z",
     "iopub.status.busy": "2022-06-05T10:09:12.902031Z",
     "iopub.status.idle": "2022-06-05T10:09:12.915835Z",
     "shell.execute_reply": "2022-06-05T10:09:12.916369Z"
    },
    "papermill": {
     "duration": 0.046606,
     "end_time": "2022-06-05T10:09:12.916544",
     "exception": false,
     "start_time": "2022-06-05T10:09:12.869938",
     "status": "completed"
    },
    "tags": []
   },
   "outputs": [],
   "source": [
    "y_train = 1*(y_train==3)\n",
    "y_test = 1*(y_test==3)"
   ]
  },
  {
   "cell_type": "code",
   "execution_count": 13,
   "id": "01e4e969",
   "metadata": {
    "execution": {
     "iopub.execute_input": "2022-06-05T10:09:12.975915Z",
     "iopub.status.busy": "2022-06-05T10:09:12.975237Z",
     "iopub.status.idle": "2022-06-05T10:09:12.990210Z",
     "shell.execute_reply": "2022-06-05T10:09:12.989691Z"
    },
    "papermill": {
     "duration": 0.04695,
     "end_time": "2022-06-05T10:09:12.990343",
     "exception": false,
     "start_time": "2022-06-05T10:09:12.943393",
     "status": "completed"
    },
    "tags": []
   },
   "outputs": [
    {
     "data": {
      "text/plain": [
       "((11982, 28, 28), (1984, 28, 28))"
      ]
     },
     "execution_count": 13,
     "metadata": {},
     "output_type": "execute_result"
    }
   ],
   "source": [
    "X_train.shape, X_test.shape"
   ]
  },
  {
   "cell_type": "markdown",
   "id": "5ccf3f85",
   "metadata": {
    "papermill": {
     "duration": 0.027319,
     "end_time": "2022-06-05T10:09:13.044614",
     "exception": false,
     "start_time": "2022-06-05T10:09:13.017295",
     "status": "completed"
    },
    "tags": []
   },
   "source": [
    "We reshape the data to flatten the image pixels into a set of features or co-variates:"
   ]
  },
  {
   "cell_type": "code",
   "execution_count": 14,
   "id": "5286a4a3",
   "metadata": {
    "execution": {
     "iopub.execute_input": "2022-06-05T10:09:13.105017Z",
     "iopub.status.busy": "2022-06-05T10:09:13.104340Z",
     "iopub.status.idle": "2022-06-05T10:09:13.120479Z",
     "shell.execute_reply": "2022-06-05T10:09:13.119896Z"
    },
    "papermill": {
     "duration": 0.048728,
     "end_time": "2022-06-05T10:09:13.120623",
     "exception": false,
     "start_time": "2022-06-05T10:09:13.071895",
     "status": "completed"
    },
    "tags": []
   },
   "outputs": [
    {
     "data": {
      "text/plain": [
       "((11982, 784), (1984, 784))"
      ]
     },
     "execution_count": 14,
     "metadata": {},
     "output_type": "execute_result"
    }
   ],
   "source": [
    "X_train = X_train.reshape(X_train.shape[0], -1)\n",
    "X_test = X_test.reshape(X_test.shape[0], -1)\n",
    "X_train.shape, X_test.shape"
   ]
  },
  {
   "cell_type": "code",
   "execution_count": 15,
   "id": "73c5f88a",
   "metadata": {
    "execution": {
     "iopub.execute_input": "2022-06-05T10:09:13.183974Z",
     "iopub.status.busy": "2022-06-05T10:09:13.183165Z",
     "iopub.status.idle": "2022-06-05T10:09:13.203075Z",
     "shell.execute_reply": "2022-06-05T10:09:13.202472Z"
    },
    "papermill": {
     "duration": 0.055125,
     "end_time": "2022-06-05T10:09:13.203213",
     "exception": false,
     "start_time": "2022-06-05T10:09:13.148088",
     "status": "completed"
    },
    "tags": []
   },
   "outputs": [],
   "source": [
    "#Impoting functions from 'Kudzu'\n",
    "from kudzu.model import Model\n",
    "from kudzu.train import Learner\n",
    "from kudzu.optim import GD\n",
    "from kudzu.data import Data, Sampler,Dataloader\n",
    "\n",
    "from kudzu.callbacks import AccCallback\n",
    "from kudzu.callbacks import ClfCallback\n",
    "\n",
    "from kudzu.loss import MSE\n",
    "\n",
    "from kudzu.layer import Sigmoid,Relu\n",
    "from kudzu.layer import Affine"
   ]
  },
  {
   "cell_type": "markdown",
   "id": "bc01172a",
   "metadata": {
    "papermill": {
     "duration": 0.028152,
     "end_time": "2022-06-05T10:09:13.258915",
     "exception": false,
     "start_time": "2022-06-05T10:09:13.230763",
     "status": "completed"
    },
    "tags": []
   },
   "source": [
    "### Let us create a `Config` class, to store important parameters. \n",
    "This class essentially plays the role of a dictionary."
   ]
  },
  {
   "cell_type": "code",
   "execution_count": 16,
   "id": "978281aa",
   "metadata": {
    "execution": {
     "iopub.execute_input": "2022-06-05T10:09:13.324801Z",
     "iopub.status.busy": "2022-06-05T10:09:13.324050Z",
     "iopub.status.idle": "2022-06-05T10:09:13.334337Z",
     "shell.execute_reply": "2022-06-05T10:09:13.333822Z"
    },
    "papermill": {
     "duration": 0.048206,
     "end_time": "2022-06-05T10:09:13.334482",
     "exception": false,
     "start_time": "2022-06-05T10:09:13.286276",
     "status": "completed"
    },
    "tags": []
   },
   "outputs": [],
   "source": [
    "class Config:\n",
    "    pass\n",
    "config = Config()\n",
    "config.lr = 0.001\n",
    "config.num_epochs = 250\n",
    "config.bs = 50"
   ]
  },
  {
   "cell_type": "markdown",
   "id": "1385fa59",
   "metadata": {
    "papermill": {
     "duration": 0.027344,
     "end_time": "2022-06-05T10:09:13.389277",
     "exception": false,
     "start_time": "2022-06-05T10:09:13.361933",
     "status": "completed"
    },
    "tags": []
   },
   "source": [
    "### Running Models with the Training data\n",
    "Details about the network layers:\n",
    "- A first affine layer has 784 inputs and does 100 affine transforms. These are followed by a Relu\n",
    "- A second affine layer has 100 inputs from the 100 activations of the past layer, and does 100 affine transforms. These are followed by a Relu\n",
    "- A third affine layer has 100 activations and does 2 affine transformations to create an embedding for visualization. There is no non-linearity here.\n",
    "- A final \"logistic regression\" which has an affine transform from 2 inputs to 1 output, which is squeezed through a sigmoid.\n"
   ]
  },
  {
   "cell_type": "code",
   "execution_count": 17,
   "id": "2b9c66db",
   "metadata": {
    "execution": {
     "iopub.execute_input": "2022-06-05T10:09:13.458096Z",
     "iopub.status.busy": "2022-06-05T10:09:13.457380Z",
     "iopub.status.idle": "2022-06-05T10:09:13.466525Z",
     "shell.execute_reply": "2022-06-05T10:09:13.465987Z"
    },
    "papermill": {
     "duration": 0.049715,
     "end_time": "2022-06-05T10:09:13.466673",
     "exception": false,
     "start_time": "2022-06-05T10:09:13.416958",
     "status": "completed"
    },
    "tags": []
   },
   "outputs": [],
   "source": [
    "data = Data(X_train, y_train.reshape(-1,1))\n",
    "sampler = Sampler(data, config.bs, shuffle=True)\n",
    "\n",
    "dl = Dataloader(data, sampler)\n",
    "\n",
    "opt = GD(config.lr)\n",
    "loss = MSE()"
   ]
  },
  {
   "cell_type": "code",
   "execution_count": 18,
   "id": "b275e4c2",
   "metadata": {
    "execution": {
     "iopub.execute_input": "2022-06-05T10:09:13.526512Z",
     "iopub.status.busy": "2022-06-05T10:09:13.525871Z",
     "iopub.status.idle": "2022-06-05T10:09:13.539896Z",
     "shell.execute_reply": "2022-06-05T10:09:13.539366Z"
    },
    "papermill": {
     "duration": 0.046026,
     "end_time": "2022-06-05T10:09:13.540073",
     "exception": false,
     "start_time": "2022-06-05T10:09:13.494047",
     "status": "completed"
    },
    "tags": []
   },
   "outputs": [],
   "source": [
    "training_data_x = X_train\n",
    "testing_data_x = X_test\n",
    "training_data_y = y_train.reshape(-1,1)\n",
    "testing_data_y = y_test.reshape(-1,1)"
   ]
  },
  {
   "cell_type": "code",
   "execution_count": 19,
   "id": "76951160",
   "metadata": {
    "execution": {
     "iopub.execute_input": "2022-06-05T10:09:13.610046Z",
     "iopub.status.busy": "2022-06-05T10:09:13.606015Z",
     "iopub.status.idle": "2022-06-05T10:09:13.620477Z",
     "shell.execute_reply": "2022-06-05T10:09:13.620930Z"
    },
    "papermill": {
     "duration": 0.053911,
     "end_time": "2022-06-05T10:09:13.621099",
     "exception": false,
     "start_time": "2022-06-05T10:09:13.567188",
     "status": "completed"
    },
    "tags": []
   },
   "outputs": [
    {
     "name": "stdout",
     "output_type": "stream",
     "text": [
      "xavier\n",
      "xavier\n",
      "xavier\n",
      "xavier\n",
      "xavier\n"
     ]
    }
   ],
   "source": [
    "layers = [Affine(\"first\", 784, 100), Relu(\"first\"), Affine(\"second\", 100, 100), Relu(\"second\"), Affine(\"third\", 100, 2), Affine(\"last\", 2, 1), Sigmoid(\"last\")]\n",
    "model_nn = Model(layers)\n",
    "model_lr = Model([Affine(\"logits\", 784, 1), Sigmoid(\"sigmoid\")])"
   ]
  },
  {
   "cell_type": "code",
   "execution_count": 20,
   "id": "6eede77a",
   "metadata": {
    "execution": {
     "iopub.execute_input": "2022-06-05T10:09:13.696860Z",
     "iopub.status.busy": "2022-06-05T10:09:13.693049Z",
     "iopub.status.idle": "2022-06-05T10:09:13.699374Z",
     "shell.execute_reply": "2022-06-05T10:09:13.699835Z"
    },
    "papermill": {
     "duration": 0.051303,
     "end_time": "2022-06-05T10:09:13.700046",
     "exception": false,
     "start_time": "2022-06-05T10:09:13.648743",
     "status": "completed"
    },
    "tags": []
   },
   "outputs": [],
   "source": [
    "nn_learner = Learner(loss, model_nn, opt, config.num_epochs)\n",
    "acc_nn = ClfCallback(nn_learner, config.bs, training_data_x , testing_data_x, training_data_y, testing_data_y)\n",
    "nn_learner.set_callbacks([acc_nn])"
   ]
  },
  {
   "cell_type": "code",
   "execution_count": 21,
   "id": "877b6cc7",
   "metadata": {
    "execution": {
     "iopub.execute_input": "2022-06-05T10:09:13.761994Z",
     "iopub.status.busy": "2022-06-05T10:09:13.761273Z",
     "iopub.status.idle": "2022-06-05T10:09:13.774214Z",
     "shell.execute_reply": "2022-06-05T10:09:13.773692Z"
    },
    "papermill": {
     "duration": 0.046776,
     "end_time": "2022-06-05T10:09:13.774360",
     "exception": false,
     "start_time": "2022-06-05T10:09:13.727584",
     "status": "completed"
    },
    "tags": []
   },
   "outputs": [],
   "source": [
    "lr_learner = Learner(loss, model_lr, opt, config.num_epochs)\n",
    "acc_lr = ClfCallback(lr_learner, config.bs, training_data_x , testing_data_x, training_data_y, testing_data_y)\n",
    "lr_learner.set_callbacks([acc_lr])"
   ]
  },
  {
   "cell_type": "code",
   "execution_count": 22,
   "id": "d9b133c3",
   "metadata": {
    "execution": {
     "iopub.execute_input": "2022-06-05T10:09:13.835392Z",
     "iopub.status.busy": "2022-06-05T10:09:13.834732Z",
     "iopub.status.idle": "2022-06-05T10:10:40.515438Z",
     "shell.execute_reply": "2022-06-05T10:10:40.516449Z"
    },
    "papermill": {
     "duration": 86.714676,
     "end_time": "2022-06-05T10:10:40.516622",
     "exception": false,
     "start_time": "2022-06-05T10:09:13.801946",
     "status": "completed"
    },
    "tags": []
   },
   "outputs": [
    {
     "name": "stdout",
     "output_type": "stream",
     "text": [
      "Epoch 0, Loss 0.239\n",
      "Training Accuracy: 0.7001, Testing Accuracy: 0.6935\n",
      "\n"
     ]
    },
    {
     "name": "stdout",
     "output_type": "stream",
     "text": [
      "Epoch 10, Loss 0.0746\n",
      "Training Accuracy: 0.9256, Testing Accuracy: 0.9345\n",
      "\n"
     ]
    },
    {
     "name": "stdout",
     "output_type": "stream",
     "text": [
      "Epoch 20, Loss 0.048\n",
      "Training Accuracy: 0.9504, Testing Accuracy: 0.9541\n",
      "\n"
     ]
    },
    {
     "name": "stdout",
     "output_type": "stream",
     "text": [
      "Epoch 30, Loss 0.0387\n",
      "Training Accuracy: 0.9580, Testing Accuracy: 0.9597\n",
      "\n"
     ]
    },
    {
     "name": "stdout",
     "output_type": "stream",
     "text": [
      "Epoch 40, Loss 0.034\n",
      "Training Accuracy: 0.9627, Testing Accuracy: 0.9622\n",
      "\n"
     ]
    },
    {
     "name": "stdout",
     "output_type": "stream",
     "text": [
      "Epoch 50, Loss 0.031\n",
      "Training Accuracy: 0.9662, Testing Accuracy: 0.9642\n",
      "\n"
     ]
    },
    {
     "name": "stdout",
     "output_type": "stream",
     "text": [
      "Epoch 60, Loss 0.0289\n",
      "Training Accuracy: 0.9687, Testing Accuracy: 0.9667\n",
      "\n"
     ]
    },
    {
     "name": "stdout",
     "output_type": "stream",
     "text": [
      "Epoch 70, Loss 0.0273\n",
      "Training Accuracy: 0.9704, Testing Accuracy: 0.9677\n",
      "\n"
     ]
    },
    {
     "name": "stdout",
     "output_type": "stream",
     "text": [
      "Epoch 80, Loss 0.026\n",
      "Training Accuracy: 0.9715, Testing Accuracy: 0.9682\n",
      "\n"
     ]
    },
    {
     "name": "stdout",
     "output_type": "stream",
     "text": [
      "Epoch 90, Loss 0.0249\n",
      "Training Accuracy: 0.9727, Testing Accuracy: 0.9672\n",
      "\n"
     ]
    },
    {
     "name": "stdout",
     "output_type": "stream",
     "text": [
      "Epoch 100, Loss 0.024\n",
      "Training Accuracy: 0.9730, Testing Accuracy: 0.9698\n",
      "\n"
     ]
    },
    {
     "name": "stdout",
     "output_type": "stream",
     "text": [
      "Epoch 110, Loss 0.0232\n",
      "Training Accuracy: 0.9737, Testing Accuracy: 0.9718\n",
      "\n"
     ]
    },
    {
     "name": "stdout",
     "output_type": "stream",
     "text": [
      "Epoch 120, Loss 0.0225\n",
      "Training Accuracy: 0.9742, Testing Accuracy: 0.9723\n",
      "\n"
     ]
    },
    {
     "name": "stdout",
     "output_type": "stream",
     "text": [
      "Epoch 130, Loss 0.0218\n",
      "Training Accuracy: 0.9752, Testing Accuracy: 0.9728\n",
      "\n"
     ]
    },
    {
     "name": "stdout",
     "output_type": "stream",
     "text": [
      "Epoch 140, Loss 0.0212\n",
      "Training Accuracy: 0.9764, Testing Accuracy: 0.9728\n",
      "\n"
     ]
    },
    {
     "name": "stdout",
     "output_type": "stream",
     "text": [
      "Epoch 150, Loss 0.0206\n",
      "Training Accuracy: 0.9769, Testing Accuracy: 0.9728\n",
      "\n"
     ]
    },
    {
     "name": "stdout",
     "output_type": "stream",
     "text": [
      "Epoch 160, Loss 0.0201\n",
      "Training Accuracy: 0.9777, Testing Accuracy: 0.9728\n",
      "\n"
     ]
    },
    {
     "name": "stdout",
     "output_type": "stream",
     "text": [
      "Epoch 170, Loss 0.0196\n",
      "Training Accuracy: 0.9783, Testing Accuracy: 0.9733\n",
      "\n"
     ]
    },
    {
     "name": "stdout",
     "output_type": "stream",
     "text": [
      "Epoch 180, Loss 0.0191\n",
      "Training Accuracy: 0.9788, Testing Accuracy: 0.9738\n",
      "\n"
     ]
    },
    {
     "name": "stdout",
     "output_type": "stream",
     "text": [
      "Epoch 190, Loss 0.0187\n",
      "Training Accuracy: 0.9796, Testing Accuracy: 0.9733\n",
      "\n"
     ]
    },
    {
     "name": "stdout",
     "output_type": "stream",
     "text": [
      "Epoch 200, Loss 0.0183\n",
      "Training Accuracy: 0.9801, Testing Accuracy: 0.9733\n",
      "\n"
     ]
    },
    {
     "name": "stdout",
     "output_type": "stream",
     "text": [
      "Epoch 210, Loss 0.0179\n",
      "Training Accuracy: 0.9806, Testing Accuracy: 0.9743\n",
      "\n"
     ]
    },
    {
     "name": "stdout",
     "output_type": "stream",
     "text": [
      "Epoch 220, Loss 0.0175\n",
      "Training Accuracy: 0.9814, Testing Accuracy: 0.9738\n",
      "\n"
     ]
    },
    {
     "name": "stdout",
     "output_type": "stream",
     "text": [
      "Epoch 230, Loss 0.0171\n",
      "Training Accuracy: 0.9822, Testing Accuracy: 0.9738\n",
      "\n"
     ]
    },
    {
     "name": "stdout",
     "output_type": "stream",
     "text": [
      "Epoch 240, Loss 0.0167\n",
      "Training Accuracy: 0.9828, Testing Accuracy: 0.9743\n",
      "\n"
     ]
    },
    {
     "data": {
      "text/plain": [
       "0.07953256840222343"
      ]
     },
     "execution_count": 22,
     "metadata": {},
     "output_type": "execute_result"
    }
   ],
   "source": [
    "nn_learner.train_loop(dl)"
   ]
  },
  {
   "cell_type": "code",
   "execution_count": 23,
   "id": "e0163366",
   "metadata": {
    "execution": {
     "iopub.execute_input": "2022-06-05T10:10:40.597931Z",
     "iopub.status.busy": "2022-06-05T10:10:40.597272Z",
     "iopub.status.idle": "2022-06-05T10:10:55.496864Z",
     "shell.execute_reply": "2022-06-05T10:10:55.497708Z"
    },
    "papermill": {
     "duration": 14.945926,
     "end_time": "2022-06-05T10:10:55.497867",
     "exception": false,
     "start_time": "2022-06-05T10:10:40.551941",
     "status": "completed"
    },
    "tags": []
   },
   "outputs": [
    {
     "name": "stdout",
     "output_type": "stream",
     "text": [
      "Epoch 0, Loss 0.2352\n",
      "Training Accuracy: 0.7177, Testing Accuracy: 0.7470\n",
      "\n"
     ]
    },
    {
     "name": "stdout",
     "output_type": "stream",
     "text": [
      "Epoch 10, Loss 0.1023\n",
      "Training Accuracy: 0.9102, Testing Accuracy: 0.9183\n",
      "\n"
     ]
    },
    {
     "name": "stdout",
     "output_type": "stream",
     "text": [
      "Epoch 20, Loss 0.0789\n",
      "Training Accuracy: 0.9288, Testing Accuracy: 0.9380\n",
      "\n"
     ]
    },
    {
     "name": "stdout",
     "output_type": "stream",
     "text": [
      "Epoch 30, Loss 0.0681\n",
      "Training Accuracy: 0.9363, Testing Accuracy: 0.9466\n",
      "\n"
     ]
    },
    {
     "name": "stdout",
     "output_type": "stream",
     "text": [
      "Epoch 40, Loss 0.0616\n",
      "Training Accuracy: 0.9410, Testing Accuracy: 0.9511\n",
      "\n"
     ]
    },
    {
     "name": "stdout",
     "output_type": "stream",
     "text": [
      "Epoch 50, Loss 0.0571\n",
      "Training Accuracy: 0.9451, Testing Accuracy: 0.9546\n",
      "\n"
     ]
    },
    {
     "name": "stdout",
     "output_type": "stream",
     "text": [
      "Epoch 60, Loss 0.0538\n",
      "Training Accuracy: 0.9472, Testing Accuracy: 0.9567\n",
      "\n"
     ]
    },
    {
     "name": "stdout",
     "output_type": "stream",
     "text": [
      "Epoch 70, Loss 0.0512\n",
      "Training Accuracy: 0.9492, Testing Accuracy: 0.9577\n",
      "\n"
     ]
    },
    {
     "name": "stdout",
     "output_type": "stream",
     "text": [
      "Epoch 80, Loss 0.0492\n",
      "Training Accuracy: 0.9504, Testing Accuracy: 0.9602\n",
      "\n"
     ]
    },
    {
     "name": "stdout",
     "output_type": "stream",
     "text": [
      "Epoch 90, Loss 0.0475\n",
      "Training Accuracy: 0.9521, Testing Accuracy: 0.9602\n",
      "\n"
     ]
    },
    {
     "name": "stdout",
     "output_type": "stream",
     "text": [
      "Epoch 100, Loss 0.0461\n",
      "Training Accuracy: 0.9528, Testing Accuracy: 0.9607\n",
      "\n"
     ]
    },
    {
     "name": "stdout",
     "output_type": "stream",
     "text": [
      "Epoch 110, Loss 0.0449\n",
      "Training Accuracy: 0.9534, Testing Accuracy: 0.9617\n",
      "\n"
     ]
    },
    {
     "name": "stdout",
     "output_type": "stream",
     "text": [
      "Epoch 120, Loss 0.0438\n",
      "Training Accuracy: 0.9541, Testing Accuracy: 0.9617\n",
      "\n"
     ]
    },
    {
     "name": "stdout",
     "output_type": "stream",
     "text": [
      "Epoch 130, Loss 0.0429\n",
      "Training Accuracy: 0.9548, Testing Accuracy: 0.9622\n",
      "\n"
     ]
    },
    {
     "name": "stdout",
     "output_type": "stream",
     "text": [
      "Epoch 140, Loss 0.042\n",
      "Training Accuracy: 0.9554, Testing Accuracy: 0.9627\n",
      "\n"
     ]
    },
    {
     "name": "stdout",
     "output_type": "stream",
     "text": [
      "Epoch 150, Loss 0.0413\n",
      "Training Accuracy: 0.9563, Testing Accuracy: 0.9627\n",
      "\n"
     ]
    },
    {
     "name": "stdout",
     "output_type": "stream",
     "text": [
      "Epoch 160, Loss 0.0406\n",
      "Training Accuracy: 0.9564, Testing Accuracy: 0.9627\n",
      "\n"
     ]
    },
    {
     "name": "stdout",
     "output_type": "stream",
     "text": [
      "Epoch 170, Loss 0.04\n",
      "Training Accuracy: 0.9570, Testing Accuracy: 0.9627\n",
      "\n"
     ]
    },
    {
     "name": "stdout",
     "output_type": "stream",
     "text": [
      "Epoch 180, Loss 0.0394\n",
      "Training Accuracy: 0.9574, Testing Accuracy: 0.9632\n",
      "\n"
     ]
    },
    {
     "name": "stdout",
     "output_type": "stream",
     "text": [
      "Epoch 190, Loss 0.0389\n",
      "Training Accuracy: 0.9579, Testing Accuracy: 0.9637\n",
      "\n"
     ]
    },
    {
     "name": "stdout",
     "output_type": "stream",
     "text": [
      "Epoch 200, Loss 0.0384\n",
      "Training Accuracy: 0.9583, Testing Accuracy: 0.9642\n",
      "\n"
     ]
    },
    {
     "name": "stdout",
     "output_type": "stream",
     "text": [
      "Epoch 210, Loss 0.038\n",
      "Training Accuracy: 0.9590, Testing Accuracy: 0.9642\n",
      "\n"
     ]
    },
    {
     "name": "stdout",
     "output_type": "stream",
     "text": [
      "Epoch 220, Loss 0.0376\n",
      "Training Accuracy: 0.9594, Testing Accuracy: 0.9647\n",
      "\n"
     ]
    },
    {
     "name": "stdout",
     "output_type": "stream",
     "text": [
      "Epoch 230, Loss 0.0372\n",
      "Training Accuracy: 0.9596, Testing Accuracy: 0.9647\n",
      "\n"
     ]
    },
    {
     "name": "stdout",
     "output_type": "stream",
     "text": [
      "Epoch 240, Loss 0.0368\n",
      "Training Accuracy: 0.9600, Testing Accuracy: 0.9647\n",
      "\n"
     ]
    },
    {
     "data": {
      "text/plain": [
       "0.04484820130698061"
      ]
     },
     "execution_count": 23,
     "metadata": {},
     "output_type": "execute_result"
    }
   ],
   "source": [
    "lr_learner.train_loop(dl)"
   ]
  },
  {
   "cell_type": "code",
   "execution_count": 24,
   "id": "ca410940",
   "metadata": {
    "execution": {
     "iopub.execute_input": "2022-06-05T10:10:55.593748Z",
     "iopub.status.busy": "2022-06-05T10:10:55.593104Z",
     "iopub.status.idle": "2022-06-05T10:10:55.832040Z",
     "shell.execute_reply": "2022-06-05T10:10:55.832624Z"
    },
    "papermill": {
     "duration": 0.293974,
     "end_time": "2022-06-05T10:10:55.832792",
     "exception": false,
     "start_time": "2022-06-05T10:10:55.538818",
     "status": "completed"
    },
    "tags": []
   },
   "outputs": [
    {
     "data": {
      "text/plain": [
       "<matplotlib.legend.Legend at 0x7fb36048c978>"
      ]
     },
     "execution_count": 24,
     "metadata": {},
     "output_type": "execute_result"
    },
    {
     "data": {
      "image/png": "[encoded data removed]",
      "text/plain": [
       "<Figure size 1080x720 with 1 Axes>"
      ]
     },
     "metadata": {
      "needs_background": "light"
     },
     "output_type": "display_data"
    }
   ],
   "source": [
    "#comparing the results of NN and LR\n",
    "plt.figure(figsize=(15,10))\n",
    "\n",
    "# Neural Network plots\n",
    "plt.plot(acc_nn.accuracies, 'r-', label = \"Training Accuracies - NN\")\n",
    "plt.plot(acc_nn.test_accuracies, 'g-', label = \"Testing Accuracies - NN\")\n",
    "\n",
    "# Logistic Regression plots\n",
    "plt.plot(acc_lr.accuracies, 'k-', label = \"Training Accuracies - LR\")\n",
    "plt.plot(acc_lr.test_accuracies, 'b-', label = \"Testing Accuracies - LR\")\n",
    "plt.legend()"
   ]
  },
  {
   "cell_type": "markdown",
   "id": "80dfb35c",
   "metadata": {
    "papermill": {
     "duration": 0.042915,
     "end_time": "2022-06-05T10:10:55.918506",
     "exception": false,
     "start_time": "2022-06-05T10:10:55.875591",
     "status": "completed"
    },
    "tags": []
   },
   "source": [
    "#### Plotting the outputs of this layer of the NN.\n"
   ]
  },
  {
   "cell_type": "code",
   "execution_count": 25,
   "id": "45eb2ff5",
   "metadata": {
    "execution": {
     "iopub.execute_input": "2022-06-05T10:10:56.019758Z",
     "iopub.status.busy": "2022-06-05T10:10:56.018972Z",
     "iopub.status.idle": "2022-06-05T10:10:56.040863Z",
     "shell.execute_reply": "2022-06-05T10:10:56.040240Z"
    },
    "papermill": {
     "duration": 0.075283,
     "end_time": "2022-06-05T10:10:56.041013",
     "exception": false,
     "start_time": "2022-06-05T10:10:55.965730",
     "status": "completed"
    },
    "tags": []
   },
   "outputs": [],
   "source": [
    "new_model = Model(layers[:-2])\n",
    "testing_plot = new_model(testing_data_x)"
   ]
  },
  {
   "cell_type": "code",
   "execution_count": 26,
   "id": "4c0a5485",
   "metadata": {
    "execution": {
     "iopub.execute_input": "2022-06-05T10:10:56.130797Z",
     "iopub.status.busy": "2022-06-05T10:10:56.130197Z",
     "iopub.status.idle": "2022-06-05T10:10:56.334540Z",
     "shell.execute_reply": "2022-06-05T10:10:56.335002Z"
    },
    "papermill": {
     "duration": 0.251718,
     "end_time": "2022-06-05T10:10:56.335153",
     "exception": false,
     "start_time": "2022-06-05T10:10:56.083435",
     "status": "completed"
    },
    "tags": []
   },
   "outputs": [
    {
     "data": {
      "text/plain": [
       "Text(0.5, 1.0, 'Outputs')"
      ]
     },
     "execution_count": 26,
     "metadata": {},
     "output_type": "execute_result"
    },
    {
     "data": {
      "image/png": "[encoded data removed]",
      "text/plain": [
       "<Figure size 576x504 with 1 Axes>"
      ]
     },
     "metadata": {
      "needs_background": "light"
     },
     "output_type": "display_data"
    }
   ],
   "source": [
    "# Plotting the scatter plot of points and color coding by class\n",
    "plt.figure(figsize=(8,7))\n",
    "plt.scatter(testing_plot[:,0], testing_plot[:,1], alpha = 0.1, c = y_test.ravel());\n",
    "plt.title('Outputs')"
   ]
  },
  {
   "cell_type": "markdown",
   "id": "a74fcf8f",
   "metadata": {
    "papermill": {
     "duration": 0.044179,
     "end_time": "2022-06-05T10:10:56.423141",
     "exception": false,
     "start_time": "2022-06-05T10:10:56.378962",
     "status": "completed"
    },
    "tags": []
   },
   "source": [
    "Probability contours"
   ]
  },
  {
   "cell_type": "code",
   "execution_count": 27,
   "id": "d0afc8e3",
   "metadata": {
    "execution": {
     "iopub.execute_input": "2022-06-05T10:10:56.557006Z",
     "iopub.status.busy": "2022-06-05T10:10:56.552834Z",
     "iopub.status.idle": "2022-06-05T10:10:56.564906Z",
     "shell.execute_reply": "2022-06-05T10:10:56.564382Z"
    },
    "papermill": {
     "duration": 0.06137,
     "end_time": "2022-06-05T10:10:56.565024",
     "exception": false,
     "start_time": "2022-06-05T10:10:56.503654",
     "status": "completed"
    },
    "tags": []
   },
   "outputs": [],
   "source": [
    "model_prob = Model(layers[-2:]) "
   ]
  },
  {
   "cell_type": "code",
   "execution_count": 28,
   "id": "9b96e238",
   "metadata": {
    "execution": {
     "iopub.execute_input": "2022-06-05T10:10:56.664489Z",
     "iopub.status.busy": "2022-06-05T10:10:56.663783Z",
     "iopub.status.idle": "2022-06-05T10:10:56.675215Z",
     "shell.execute_reply": "2022-06-05T10:10:56.675642Z"
    },
    "papermill": {
     "duration": 0.066009,
     "end_time": "2022-06-05T10:10:56.675791",
     "exception": false,
     "start_time": "2022-06-05T10:10:56.609782",
     "status": "completed"
    },
    "tags": []
   },
   "outputs": [],
   "source": [
    "#creating the x and y ranges according to the above generated plot.\n",
    "x_range = np.linspace(-4, 1, 100) \n",
    "y_range = np.linspace(-6, 6, 100) \n",
    "x_grid, y_grid = np.meshgrid(x_range, y_range) # x_grid and y_grig are of size 100 X 100\n",
    "\n",
    "# converting x_grid and y_grid to continuous arrays\n",
    "x_gridflat = np.ravel(x_grid)\n",
    "y_gridflat = np.ravel(y_grid)\n",
    "\n",
    "# The last layer of the current model takes two columns as input. Hence transpose of np.vstack() is required.\n",
    "X = np.vstack((x_gridflat, y_gridflat)).T\n",
    "\n",
    "prob_contour = model_prob(X).reshape(100,100) "
   ]
  },
  {
   "cell_type": "code",
   "execution_count": 29,
   "id": "da72499a",
   "metadata": {
    "execution": {
     "iopub.execute_input": "2022-06-05T10:10:56.774336Z",
     "iopub.status.busy": "2022-06-05T10:10:56.773665Z",
     "iopub.status.idle": "2022-06-05T10:10:57.031260Z",
     "shell.execute_reply": "2022-06-05T10:10:57.031743Z"
    },
    "papermill": {
     "duration": 0.307317,
     "end_time": "2022-06-05T10:10:57.031909",
     "exception": false,
     "start_time": "2022-06-05T10:10:56.724592",
     "status": "completed"
    },
    "tags": []
   },
   "outputs": [
    {
     "data": {
      "image/png": "[encoded data removed]",
      "text/plain": [
       "<Figure size 720x648 with 1 Axes>"
      ]
     },
     "metadata": {
      "needs_background": "light"
     },
     "output_type": "display_data"
    }
   ],
   "source": [
    "plt.figure(figsize=(10,9))\n",
    "plt.scatter(testing_plot[:,0], testing_plot[:,1], alpha = 0.1, c = y_test.ravel())\n",
    "contours = plt.contour(x_grid,y_grid,prob_contour)\n",
    "plt.title('Probability Contours')\n",
    "plt.clabel(contours, inline = True );"
   ]
  },
  {
   "cell_type": "code",
   "execution_count": null,
   "id": "e81b4ac7",
   "metadata": {
    "papermill": {
     "duration": 0.047352,
     "end_time": "2022-06-05T10:10:57.128525",
     "exception": false,
     "start_time": "2022-06-05T10:10:57.081173",
     "status": "completed"
    },
    "tags": []
   },
   "outputs": [],
   "source": []
  }
 ],
 "metadata": {
  "kernelspec": {
   "display_name": "Python 3",
   "language": "python",
   "name": "python3"
  },
  "language_info": {
   "codemirror_mode": {
    "name": "ipython",
    "version": 3
   },
   "file_extension": ".py",
   "mimetype": "text/x-python",
   "name": "python",
   "nbconvert_exporter": "python",
   "pygments_lexer": "ipython3",
   "version": "3.6.15"
  },
  "papermill": {
   "default_parameters": {},
   "duration": 110.775915,
   "end_time": "2022-06-05T10:10:57.696959",
   "environment_variables": {},
   "exception": null,
   "input_path": "2020-08-11-part2.ipynb",
   "output_path": "2020-08-11-part2.ipynb",
   "parameters": {},
   "start_time": "2022-06-05T10:09:06.921044",
   "version": "2.3.3"
  }
 },
 "nbformat": 4,
 "nbformat_minor": 5
}