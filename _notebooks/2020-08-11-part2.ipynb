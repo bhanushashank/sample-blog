{
 "cells": [
  {
   "cell_type": "markdown",
   "id": "98380cd3",
   "metadata": {
    "papermill": {
     "duration": 0.030817,
     "end_time": "2022-07-30T00:36:50.985497",
     "exception": false,
     "start_time": "2022-07-30T00:36:50.954680",
     "status": "completed"
    },
    "tags": []
   },
   "source": [
    "# Distinguish Your Own Digits (DYOD)"
   ]
  },
  {
   "cell_type": "markdown",
   "id": "ef31240d",
   "metadata": {
    "papermill": {
     "duration": 0.026353,
     "end_time": "2022-07-30T00:36:51.038918",
     "exception": false,
     "start_time": "2022-07-30T00:36:51.012565",
     "status": "completed"
    },
    "tags": []
   },
   "source": [
    "You are going to write a classifier that distinguishes between the number 3 and number 8."
   ]
  },
  {
   "cell_type": "code",
   "execution_count": 1,
   "id": "b15c8646",
   "metadata": {
    "execution": {
     "iopub.execute_input": "2022-07-30T00:36:51.102082Z",
     "iopub.status.busy": "2022-07-30T00:36:51.101475Z",
     "iopub.status.idle": "2022-07-30T00:36:51.112847Z",
     "shell.execute_reply": "2022-07-30T00:36:51.112232Z"
    },
    "papermill": {
     "duration": 0.048711,
     "end_time": "2022-07-30T00:36:51.112974",
     "exception": false,
     "start_time": "2022-07-30T00:36:51.064263",
     "status": "completed"
    },
    "tags": []
   },
   "outputs": [],
   "source": [
    "%load_ext autoreload\n",
    "%autoreload 2"
   ]
  },
  {
   "cell_type": "code",
   "execution_count": 2,
   "id": "22ef38dc",
   "metadata": {
    "execution": {
     "iopub.execute_input": "2022-07-30T00:36:51.169990Z",
     "iopub.status.busy": "2022-07-30T00:36:51.169466Z",
     "iopub.status.idle": "2022-07-30T00:36:51.694967Z",
     "shell.execute_reply": "2022-07-30T00:36:51.693972Z"
    },
    "papermill": {
     "duration": 0.556792,
     "end_time": "2022-07-30T00:36:51.695097",
     "exception": false,
     "start_time": "2022-07-30T00:36:51.138305",
     "status": "completed"
    },
    "tags": []
   },
   "outputs": [],
   "source": [
    "%matplotlib inline\n",
    "import numpy as np\n",
    "import matplotlib.pyplot as plt\n",
    "import pandas as pd"
   ]
  },
  {
   "cell_type": "markdown",
   "id": "ba036198",
   "metadata": {
    "papermill": {
     "duration": 0.026309,
     "end_time": "2022-07-30T00:36:51.746609",
     "exception": false,
     "start_time": "2022-07-30T00:36:51.720300",
     "status": "completed"
    },
    "tags": []
   },
   "source": [
    "From the command line run `pip install mnist`. This is a library that will help you bring down the mnist dataset. If you run this from a notebook, you need to put  `!pip install mnist` in a cell by itself."
   ]
  },
  {
   "cell_type": "code",
   "execution_count": 3,
   "id": "bb6ad8a1",
   "metadata": {
    "execution": {
     "iopub.execute_input": "2022-07-30T00:36:51.802885Z",
     "iopub.status.busy": "2022-07-30T00:36:51.799472Z",
     "iopub.status.idle": "2022-07-30T00:36:53.459456Z",
     "shell.execute_reply": "2022-07-30T00:36:53.458978Z"
    },
    "papermill": {
     "duration": 1.688338,
     "end_time": "2022-07-30T00:36:53.459570",
     "exception": false,
     "start_time": "2022-07-30T00:36:51.771232",
     "status": "completed"
    },
    "tags": []
   },
   "outputs": [
    {
     "name": "stdout",
     "output_type": "stream",
     "text": [
      "Collecting mnist\r\n"
     ]
    },
    {
     "name": "stdout",
     "output_type": "stream",
     "text": [
      "  Downloading mnist-0.2.2-py2.py3-none-any.whl (3.5 kB)\r\n"
     ]
    },
    {
     "name": "stdout",
     "output_type": "stream",
     "text": [
      "Requirement already satisfied: numpy in /opt/hostedtoolcache/Python/3.6.15/x64/lib/python3.6/site-packages (from mnist) (1.19.5)\r\n"
     ]
    },
    {
     "name": "stdout",
     "output_type": "stream",
     "text": [
      "Installing collected packages: mnist\r\n"
     ]
    },
    {
     "name": "stdout",
     "output_type": "stream",
     "text": [
      "Successfully installed mnist-0.2.2\r\n"
     ]
    }
   ],
   "source": [
    "!pip install mnist"
   ]
  },
  {
   "cell_type": "markdown",
   "id": "69df9c9a",
   "metadata": {
    "papermill": {
     "duration": 0.026461,
     "end_time": "2022-07-30T00:36:53.512370",
     "exception": false,
     "start_time": "2022-07-30T00:36:53.485909",
     "status": "completed"
    },
    "tags": []
   },
   "source": [
    "## Preparing the Data"
   ]
  },
  {
   "cell_type": "code",
   "execution_count": 4,
   "id": "7f69d806",
   "metadata": {
    "execution": {
     "iopub.execute_input": "2022-07-30T00:36:53.569104Z",
     "iopub.status.busy": "2022-07-30T00:36:53.568538Z",
     "iopub.status.idle": "2022-07-30T00:36:53.583294Z",
     "shell.execute_reply": "2022-07-30T00:36:53.582768Z"
    },
    "papermill": {
     "duration": 0.044985,
     "end_time": "2022-07-30T00:36:53.583404",
     "exception": false,
     "start_time": "2022-07-30T00:36:53.538419",
     "status": "completed"
    },
    "tags": []
   },
   "outputs": [],
   "source": [
    "import mnist"
   ]
  },
  {
   "cell_type": "code",
   "execution_count": 5,
   "id": "a411e44f",
   "metadata": {
    "execution": {
     "iopub.execute_input": "2022-07-30T00:36:53.638980Z",
     "iopub.status.busy": "2022-07-30T00:36:53.638426Z",
     "iopub.status.idle": "2022-07-30T00:36:54.234261Z",
     "shell.execute_reply": "2022-07-30T00:36:54.233730Z"
    },
    "papermill": {
     "duration": 0.624898,
     "end_time": "2022-07-30T00:36:54.234375",
     "exception": false,
     "start_time": "2022-07-30T00:36:53.609477",
     "status": "completed"
    },
    "tags": []
   },
   "outputs": [],
   "source": [
    "train_images = mnist.train_images()\n",
    "train_labels = mnist.train_labels()"
   ]
  },
  {
   "cell_type": "code",
   "execution_count": 6,
   "id": "dceab3a5",
   "metadata": {
    "execution": {
     "iopub.execute_input": "2022-07-30T00:36:54.291122Z",
     "iopub.status.busy": "2022-07-30T00:36:54.290569Z",
     "iopub.status.idle": "2022-07-30T00:36:54.304779Z",
     "shell.execute_reply": "2022-07-30T00:36:54.305222Z"
    },
    "papermill": {
     "duration": 0.044694,
     "end_time": "2022-07-30T00:36:54.305338",
     "exception": false,
     "start_time": "2022-07-30T00:36:54.260644",
     "status": "completed"
    },
    "tags": []
   },
   "outputs": [
    {
     "data": {
      "text/plain": [
       "((60000, 28, 28), (60000,))"
      ]
     },
     "execution_count": 6,
     "metadata": {},
     "output_type": "execute_result"
    }
   ],
   "source": [
    "train_images.shape, train_labels.shape"
   ]
  },
  {
   "cell_type": "code",
   "execution_count": 7,
   "id": "f50dc2bb",
   "metadata": {
    "execution": {
     "iopub.execute_input": "2022-07-30T00:36:54.361325Z",
     "iopub.status.busy": "2022-07-30T00:36:54.360765Z",
     "iopub.status.idle": "2022-07-30T00:36:54.573580Z",
     "shell.execute_reply": "2022-07-30T00:36:54.573075Z"
    },
    "papermill": {
     "duration": 0.241987,
     "end_time": "2022-07-30T00:36:54.573690",
     "exception": false,
     "start_time": "2022-07-30T00:36:54.331703",
     "status": "completed"
    },
    "tags": []
   },
   "outputs": [],
   "source": [
    "test_images = mnist.test_images()\n",
    "test_labels = mnist.test_labels()"
   ]
  },
  {
   "cell_type": "code",
   "execution_count": 8,
   "id": "fc38cf1b",
   "metadata": {
    "execution": {
     "iopub.execute_input": "2022-07-30T00:36:54.631046Z",
     "iopub.status.busy": "2022-07-30T00:36:54.630457Z",
     "iopub.status.idle": "2022-07-30T00:36:54.644546Z",
     "shell.execute_reply": "2022-07-30T00:36:54.644959Z"
    },
    "papermill": {
     "duration": 0.044541,
     "end_time": "2022-07-30T00:36:54.645075",
     "exception": false,
     "start_time": "2022-07-30T00:36:54.600534",
     "status": "completed"
    },
    "tags": []
   },
   "outputs": [
    {
     "data": {
      "text/plain": [
       "((10000, 28, 28), (10000,))"
      ]
     },
     "execution_count": 8,
     "metadata": {},
     "output_type": "execute_result"
    }
   ],
   "source": [
    "test_images.shape, test_labels.shape"
   ]
  },
  {
   "cell_type": "code",
   "execution_count": 9,
   "id": "f9ed8fe0",
   "metadata": {
    "execution": {
     "iopub.execute_input": "2022-07-30T00:36:54.702511Z",
     "iopub.status.busy": "2022-07-30T00:36:54.701865Z",
     "iopub.status.idle": "2022-07-30T00:36:54.840170Z",
     "shell.execute_reply": "2022-07-30T00:36:54.839494Z"
    },
    "papermill": {
     "duration": 0.168502,
     "end_time": "2022-07-30T00:36:54.840280",
     "exception": false,
     "start_time": "2022-07-30T00:36:54.671778",
     "status": "completed"
    },
    "tags": []
   },
   "outputs": [
    {
     "name": "stdout",
     "output_type": "stream",
     "text": [
      "2\n"
     ]
    },
    {
     "data": {
      "text/plain": [
       "<matplotlib.image.AxesImage at 0x7f6a848c0470>"
      ]
     },
     "execution_count": 9,
     "metadata": {},
     "output_type": "execute_result"
    },
    {
     "data": {
      "image/png": "[encoded data removed]",
      "text/plain": [
       "<Figure size 432x288 with 1 Axes>"
      ]
     },
     "metadata": {
      "needs_background": "light"
     },
     "output_type": "display_data"
    }
   ],
   "source": [
    "image_index = 7776 # You may select anything up to 60,000\n",
    "print(train_labels[image_index]) \n",
    "plt.imshow(train_images[image_index], cmap='Greys')"
   ]
  },
  {
   "cell_type": "markdown",
   "id": "a8d2388d",
   "metadata": {
    "papermill": {
     "duration": 0.027774,
     "end_time": "2022-07-30T00:36:54.896385",
     "exception": false,
     "start_time": "2022-07-30T00:36:54.868611",
     "status": "completed"
    },
    "tags": []
   },
   "source": [
    "## Filter data to get 3 and 8 out"
   ]
  },
  {
   "cell_type": "code",
   "execution_count": 10,
   "id": "776f7fc7",
   "metadata": {
    "execution": {
     "iopub.execute_input": "2022-07-30T00:36:54.956434Z",
     "iopub.status.busy": "2022-07-30T00:36:54.955861Z",
     "iopub.status.idle": "2022-07-30T00:36:54.973907Z",
     "shell.execute_reply": "2022-07-30T00:36:54.973437Z"
    },
    "papermill": {
     "duration": 0.049815,
     "end_time": "2022-07-30T00:36:54.974011",
     "exception": false,
     "start_time": "2022-07-30T00:36:54.924196",
     "status": "completed"
    },
    "tags": []
   },
   "outputs": [],
   "source": [
    "train_filter = np.where((train_labels == 3 ) | (train_labels == 8))\n",
    "test_filter = np.where((test_labels == 3) | (test_labels == 8))\n",
    "X_train, y_train = train_images[train_filter], train_labels[train_filter]\n",
    "X_test, y_test = test_images[test_filter], test_labels[test_filter]"
   ]
  },
  {
   "cell_type": "markdown",
   "id": "948f0b7e",
   "metadata": {
    "papermill": {
     "duration": 0.027465,
     "end_time": "2022-07-30T00:36:55.029479",
     "exception": false,
     "start_time": "2022-07-30T00:36:55.002014",
     "status": "completed"
    },
    "tags": []
   },
   "source": [
    "We normalize the pizel values in the 0 to 1 range"
   ]
  },
  {
   "cell_type": "code",
   "execution_count": 11,
   "id": "ee4c2166",
   "metadata": {
    "execution": {
     "iopub.execute_input": "2022-07-30T00:36:55.088548Z",
     "iopub.status.busy": "2022-07-30T00:36:55.087909Z",
     "iopub.status.idle": "2022-07-30T00:36:55.129258Z",
     "shell.execute_reply": "2022-07-30T00:36:55.128742Z"
    },
    "papermill": {
     "duration": 0.071977,
     "end_time": "2022-07-30T00:36:55.129370",
     "exception": false,
     "start_time": "2022-07-30T00:36:55.057393",
     "status": "completed"
    },
    "tags": []
   },
   "outputs": [],
   "source": [
    "X_train = X_train/255.\n",
    "X_test = X_test/255."
   ]
  },
  {
   "cell_type": "markdown",
   "id": "ddcf4fab",
   "metadata": {
    "papermill": {
     "duration": 0.030232,
     "end_time": "2022-07-30T00:36:55.191211",
     "exception": false,
     "start_time": "2022-07-30T00:36:55.160979",
     "status": "completed"
    },
    "tags": []
   },
   "source": [
    "And setup the labels as 1 (when the digit is 3) and 0 (when the digit is 8)"
   ]
  },
  {
   "cell_type": "code",
   "execution_count": 12,
   "id": "7dc908f2",
   "metadata": {
    "execution": {
     "iopub.execute_input": "2022-07-30T00:36:55.251804Z",
     "iopub.status.busy": "2022-07-30T00:36:55.251255Z",
     "iopub.status.idle": "2022-07-30T00:36:55.262943Z",
     "shell.execute_reply": "2022-07-30T00:36:55.262475Z"
    },
    "papermill": {
     "duration": 0.043421,
     "end_time": "2022-07-30T00:36:55.263044",
     "exception": false,
     "start_time": "2022-07-30T00:36:55.219623",
     "status": "completed"
    },
    "tags": []
   },
   "outputs": [],
   "source": [
    "y_train = 1*(y_train==3)\n",
    "y_test = 1*(y_test==3)"
   ]
  },
  {
   "cell_type": "code",
   "execution_count": 13,
   "id": "01e4e969",
   "metadata": {
    "execution": {
     "iopub.execute_input": "2022-07-30T00:36:55.322295Z",
     "iopub.status.busy": "2022-07-30T00:36:55.321703Z",
     "iopub.status.idle": "2022-07-30T00:36:55.334943Z",
     "shell.execute_reply": "2022-07-30T00:36:55.334390Z"
    },
    "papermill": {
     "duration": 0.043803,
     "end_time": "2022-07-30T00:36:55.335044",
     "exception": false,
     "start_time": "2022-07-30T00:36:55.291241",
     "status": "completed"
    },
    "tags": []
   },
   "outputs": [
    {
     "data": {
      "text/plain": [
       "((11982, 28, 28), (1984, 28, 28))"
      ]
     },
     "execution_count": 13,
     "metadata": {},
     "output_type": "execute_result"
    }
   ],
   "source": [
    "X_train.shape, X_test.shape"
   ]
  },
  {
   "cell_type": "markdown",
   "id": "5ccf3f85",
   "metadata": {
    "papermill": {
     "duration": 0.028504,
     "end_time": "2022-07-30T00:36:55.391512",
     "exception": false,
     "start_time": "2022-07-30T00:36:55.363008",
     "status": "completed"
    },
    "tags": []
   },
   "source": [
    "We reshape the data to flatten the image pixels into a set of features or co-variates:"
   ]
  },
  {
   "cell_type": "code",
   "execution_count": 14,
   "id": "5286a4a3",
   "metadata": {
    "execution": {
     "iopub.execute_input": "2022-07-30T00:36:55.452172Z",
     "iopub.status.busy": "2022-07-30T00:36:55.451607Z",
     "iopub.status.idle": "2022-07-30T00:36:55.465453Z",
     "shell.execute_reply": "2022-07-30T00:36:55.465001Z"
    },
    "papermill": {
     "duration": 0.046145,
     "end_time": "2022-07-30T00:36:55.465554",
     "exception": false,
     "start_time": "2022-07-30T00:36:55.419409",
     "status": "completed"
    },
    "tags": []
   },
   "outputs": [
    {
     "data": {
      "text/plain": [
       "((11982, 784), (1984, 784))"
      ]
     },
     "execution_count": 14,
     "metadata": {},
     "output_type": "execute_result"
    }
   ],
   "source": [
    "X_train = X_train.reshape(X_train.shape[0], -1)\n",
    "X_test = X_test.reshape(X_test.shape[0], -1)\n",
    "X_train.shape, X_test.shape"
   ]
  },
  {
   "cell_type": "code",
   "execution_count": 15,
   "id": "73c5f88a",
   "metadata": {
    "execution": {
     "iopub.execute_input": "2022-07-30T00:36:55.529574Z",
     "iopub.status.busy": "2022-07-30T00:36:55.529005Z",
     "iopub.status.idle": "2022-07-30T00:36:55.547693Z",
     "shell.execute_reply": "2022-07-30T00:36:55.547230Z"
    },
    "papermill": {
     "duration": 0.054313,
     "end_time": "2022-07-30T00:36:55.547795",
     "exception": false,
     "start_time": "2022-07-30T00:36:55.493482",
     "status": "completed"
    },
    "tags": []
   },
   "outputs": [],
   "source": [
    "#Impoting functions from 'Kudzu'\n",
    "from kudzu.model import Model\n",
    "from kudzu.train import Learner\n",
    "from kudzu.optim import GD\n",
    "from kudzu.data import Data, Sampler,Dataloader\n",
    "\n",
    "from kudzu.callbacks import AccCallback\n",
    "from kudzu.callbacks import ClfCallback\n",
    "\n",
    "from kudzu.loss import MSE\n",
    "\n",
    "from kudzu.layer import Sigmoid,Relu\n",
    "from kudzu.layer import Affine"
   ]
  },
  {
   "cell_type": "markdown",
   "id": "bc01172a",
   "metadata": {
    "papermill": {
     "duration": 0.02814,
     "end_time": "2022-07-30T00:36:55.604341",
     "exception": false,
     "start_time": "2022-07-30T00:36:55.576201",
     "status": "completed"
    },
    "tags": []
   },
   "source": [
    "### Let us create a `Config` class, to store important parameters. \n",
    "This class essentially plays the role of a dictionary."
   ]
  },
  {
   "cell_type": "code",
   "execution_count": 16,
   "id": "978281aa",
   "metadata": {
    "execution": {
     "iopub.execute_input": "2022-07-30T00:36:55.664780Z",
     "iopub.status.busy": "2022-07-30T00:36:55.664222Z",
     "iopub.status.idle": "2022-07-30T00:36:55.676341Z",
     "shell.execute_reply": "2022-07-30T00:36:55.675892Z"
    },
    "papermill": {
     "duration": 0.043772,
     "end_time": "2022-07-30T00:36:55.676439",
     "exception": false,
     "start_time": "2022-07-30T00:36:55.632667",
     "status": "completed"
    },
    "tags": []
   },
   "outputs": [],
   "source": [
    "class Config:\n",
    "    pass\n",
    "config = Config()\n",
    "config.lr = 0.001\n",
    "config.num_epochs = 250\n",
    "config.bs = 50"
   ]
  },
  {
   "cell_type": "markdown",
   "id": "1385fa59",
   "metadata": {
    "papermill": {
     "duration": 0.028398,
     "end_time": "2022-07-30T00:36:55.733317",
     "exception": false,
     "start_time": "2022-07-30T00:36:55.704919",
     "status": "completed"
    },
    "tags": []
   },
   "source": [
    "### Running Models with the Training data\n",
    "Details about the network layers:\n",
    "- A first affine layer has 784 inputs and does 100 affine transforms. These are followed by a Relu\n",
    "- A second affine layer has 100 inputs from the 100 activations of the past layer, and does 100 affine transforms. These are followed by a Relu\n",
    "- A third affine layer has 100 activations and does 2 affine transformations to create an embedding for visualization. There is no non-linearity here.\n",
    "- A final \"logistic regression\" which has an affine transform from 2 inputs to 1 output, which is squeezed through a sigmoid.\n"
   ]
  },
  {
   "cell_type": "code",
   "execution_count": 17,
   "id": "2b9c66db",
   "metadata": {
    "execution": {
     "iopub.execute_input": "2022-07-30T00:36:55.793479Z",
     "iopub.status.busy": "2022-07-30T00:36:55.792918Z",
     "iopub.status.idle": "2022-07-30T00:36:55.805589Z",
     "shell.execute_reply": "2022-07-30T00:36:55.805139Z"
    },
    "papermill": {
     "duration": 0.044044,
     "end_time": "2022-07-30T00:36:55.805689",
     "exception": false,
     "start_time": "2022-07-30T00:36:55.761645",
     "status": "completed"
    },
    "tags": []
   },
   "outputs": [],
   "source": [
    "data = Data(X_train, y_train.reshape(-1,1))\n",
    "sampler = Sampler(data, config.bs, shuffle=True)\n",
    "\n",
    "dl = Dataloader(data, sampler)\n",
    "\n",
    "opt = GD(config.lr)\n",
    "loss = MSE()"
   ]
  },
  {
   "cell_type": "code",
   "execution_count": 18,
   "id": "b275e4c2",
   "metadata": {
    "execution": {
     "iopub.execute_input": "2022-07-30T00:36:55.867590Z",
     "iopub.status.busy": "2022-07-30T00:36:55.867043Z",
     "iopub.status.idle": "2022-07-30T00:36:55.878679Z",
     "shell.execute_reply": "2022-07-30T00:36:55.879199Z"
    },
    "papermill": {
     "duration": 0.044749,
     "end_time": "2022-07-30T00:36:55.879315",
     "exception": false,
     "start_time": "2022-07-30T00:36:55.834566",
     "status": "completed"
    },
    "tags": []
   },
   "outputs": [],
   "source": [
    "training_data_x = X_train\n",
    "testing_data_x = X_test\n",
    "training_data_y = y_train.reshape(-1,1)\n",
    "testing_data_y = y_test.reshape(-1,1)"
   ]
  },
  {
   "cell_type": "code",
   "execution_count": 19,
   "id": "76951160",
   "metadata": {
    "execution": {
     "iopub.execute_input": "2022-07-30T00:36:55.940077Z",
     "iopub.status.busy": "2022-07-30T00:36:55.939510Z",
     "iopub.status.idle": "2022-07-30T00:36:55.955928Z",
     "shell.execute_reply": "2022-07-30T00:36:55.955475Z"
    },
    "papermill": {
     "duration": 0.048666,
     "end_time": "2022-07-30T00:36:55.956033",
     "exception": false,
     "start_time": "2022-07-30T00:36:55.907367",
     "status": "completed"
    },
    "tags": []
   },
   "outputs": [
    {
     "name": "stdout",
     "output_type": "stream",
     "text": [
      "xavier\n",
      "xavier\n",
      "xavier\n",
      "xavier\n",
      "xavier\n"
     ]
    }
   ],
   "source": [
    "layers = [Affine(\"first\", 784, 100), Relu(\"first\"), Affine(\"second\", 100, 100), Relu(\"second\"), Affine(\"third\", 100, 2), Affine(\"last\", 2, 1), Sigmoid(\"last\")]\n",
    "model_nn = Model(layers)\n",
    "model_lr = Model([Affine(\"logits\", 784, 1), Sigmoid(\"sigmoid\")])"
   ]
  },
  {
   "cell_type": "code",
   "execution_count": 20,
   "id": "6eede77a",
   "metadata": {
    "execution": {
     "iopub.execute_input": "2022-07-30T00:36:56.016994Z",
     "iopub.status.busy": "2022-07-30T00:36:56.016437Z",
     "iopub.status.idle": "2022-07-30T00:36:56.029742Z",
     "shell.execute_reply": "2022-07-30T00:36:56.029284Z"
    },
    "papermill": {
     "duration": 0.045109,
     "end_time": "2022-07-30T00:36:56.029841",
     "exception": false,
     "start_time": "2022-07-30T00:36:55.984732",
     "status": "completed"
    },
    "tags": []
   },
   "outputs": [],
   "source": [
    "nn_learner = Learner(loss, model_nn, opt, config.num_epochs)\n",
    "acc_nn = ClfCallback(nn_learner, config.bs, training_data_x , testing_data_x, training_data_y, testing_data_y)\n",
    "nn_learner.set_callbacks([acc_nn])"
   ]
  },
  {
   "cell_type": "code",
   "execution_count": 21,
   "id": "877b6cc7",
   "metadata": {
    "execution": {
     "iopub.execute_input": "2022-07-30T00:36:56.091216Z",
     "iopub.status.busy": "2022-07-30T00:36:56.090667Z",
     "iopub.status.idle": "2022-07-30T00:36:56.103114Z",
     "shell.execute_reply": "2022-07-30T00:36:56.103559Z"
    },
    "papermill": {
     "duration": 0.045248,
     "end_time": "2022-07-30T00:36:56.103676",
     "exception": false,
     "start_time": "2022-07-30T00:36:56.058428",
     "status": "completed"
    },
    "tags": []
   },
   "outputs": [],
   "source": [
    "lr_learner = Learner(loss, model_lr, opt, config.num_epochs)\n",
    "acc_lr = ClfCallback(lr_learner, config.bs, training_data_x , testing_data_x, training_data_y, testing_data_y)\n",
    "lr_learner.set_callbacks([acc_lr])"
   ]
  },
  {
   "cell_type": "code",
   "execution_count": 22,
   "id": "d9b133c3",
   "metadata": {
    "execution": {
     "iopub.execute_input": "2022-07-30T00:36:56.164317Z",
     "iopub.status.busy": "2022-07-30T00:36:56.163764Z",
     "iopub.status.idle": "2022-07-30T00:39:57.736167Z",
     "shell.execute_reply": "2022-07-30T00:39:57.737050Z"
    },
    "papermill": {
     "duration": 181.605041,
     "end_time": "2022-07-30T00:39:57.737187",
     "exception": false,
     "start_time": "2022-07-30T00:36:56.132146",
     "status": "completed"
    },
    "tags": []
   },
   "outputs": [
    {
     "name": "stdout",
     "output_type": "stream",
     "text": [
      "Epoch 0, Loss 0.2519\n",
      "Training Accuracy: 0.5044, Testing Accuracy: 0.5055\n",
      "\n"
     ]
    },
    {
     "name": "stdout",
     "output_type": "stream",
     "text": [
      "Epoch 10, Loss 0.2317\n",
      "Training Accuracy: 0.7475, Testing Accuracy: 0.7429\n",
      "\n"
     ]
    },
    {
     "name": "stdout",
     "output_type": "stream",
     "text": [
      "Epoch 20, Loss 0.163\n",
      "Training Accuracy: 0.8852, Testing Accuracy: 0.8901\n",
      "\n"
     ]
    },
    {
     "name": "stdout",
     "output_type": "stream",
     "text": [
      "Epoch 30, Loss 0.084\n",
      "Training Accuracy: 0.9184, Testing Accuracy: 0.9239\n",
      "\n"
     ]
    },
    {
     "name": "stdout",
     "output_type": "stream",
     "text": [
      "Epoch 40, Loss 0.0573\n",
      "Training Accuracy: 0.9365, Testing Accuracy: 0.9461\n",
      "\n"
     ]
    },
    {
     "name": "stdout",
     "output_type": "stream",
     "text": [
      "Epoch 50, Loss 0.0458\n",
      "Training Accuracy: 0.9483, Testing Accuracy: 0.9582\n",
      "\n"
     ]
    },
    {
     "name": "stdout",
     "output_type": "stream",
     "text": [
      "Epoch 60, Loss 0.0398\n",
      "Training Accuracy: 0.9535, Testing Accuracy: 0.9607\n",
      "\n"
     ]
    },
    {
     "name": "stdout",
     "output_type": "stream",
     "text": [
      "Epoch 70, Loss 0.0361\n",
      "Training Accuracy: 0.9581, Testing Accuracy: 0.9637\n",
      "\n"
     ]
    },
    {
     "name": "stdout",
     "output_type": "stream",
     "text": [
      "Epoch 80, Loss 0.0336\n",
      "Training Accuracy: 0.9600, Testing Accuracy: 0.9652\n",
      "\n"
     ]
    },
    {
     "name": "stdout",
     "output_type": "stream",
     "text": [
      "Epoch 90, Loss 0.0317\n",
      "Training Accuracy: 0.9613, Testing Accuracy: 0.9662\n",
      "\n"
     ]
    },
    {
     "name": "stdout",
     "output_type": "stream",
     "text": [
      "Epoch 100, Loss 0.0303\n",
      "Training Accuracy: 0.9630, Testing Accuracy: 0.9672\n",
      "\n"
     ]
    },
    {
     "name": "stdout",
     "output_type": "stream",
     "text": [
      "Epoch 110, Loss 0.0291\n",
      "Training Accuracy: 0.9647, Testing Accuracy: 0.9672\n",
      "\n"
     ]
    },
    {
     "name": "stdout",
     "output_type": "stream",
     "text": [
      "Epoch 120, Loss 0.028\n",
      "Training Accuracy: 0.9666, Testing Accuracy: 0.9677\n",
      "\n"
     ]
    },
    {
     "name": "stdout",
     "output_type": "stream",
     "text": [
      "Epoch 130, Loss 0.0271\n",
      "Training Accuracy: 0.9676, Testing Accuracy: 0.9688\n",
      "\n"
     ]
    },
    {
     "name": "stdout",
     "output_type": "stream",
     "text": [
      "Epoch 140, Loss 0.0263\n",
      "Training Accuracy: 0.9686, Testing Accuracy: 0.9693\n",
      "\n"
     ]
    },
    {
     "name": "stdout",
     "output_type": "stream",
     "text": [
      "Epoch 150, Loss 0.0256\n",
      "Training Accuracy: 0.9696, Testing Accuracy: 0.9698\n",
      "\n"
     ]
    },
    {
     "name": "stdout",
     "output_type": "stream",
     "text": [
      "Epoch 160, Loss 0.025\n",
      "Training Accuracy: 0.9705, Testing Accuracy: 0.9693\n",
      "\n"
     ]
    },
    {
     "name": "stdout",
     "output_type": "stream",
     "text": [
      "Epoch 170, Loss 0.0244\n",
      "Training Accuracy: 0.9714, Testing Accuracy: 0.9693\n",
      "\n"
     ]
    },
    {
     "name": "stdout",
     "output_type": "stream",
     "text": [
      "Epoch 180, Loss 0.0238\n",
      "Training Accuracy: 0.9722, Testing Accuracy: 0.9698\n",
      "\n"
     ]
    },
    {
     "name": "stdout",
     "output_type": "stream",
     "text": [
      "Epoch 190, Loss 0.0233\n",
      "Training Accuracy: 0.9739, Testing Accuracy: 0.9698\n",
      "\n"
     ]
    },
    {
     "name": "stdout",
     "output_type": "stream",
     "text": [
      "Epoch 200, Loss 0.0228\n",
      "Training Accuracy: 0.9740, Testing Accuracy: 0.9698\n",
      "\n"
     ]
    },
    {
     "name": "stdout",
     "output_type": "stream",
     "text": [
      "Epoch 210, Loss 0.0223\n",
      "Training Accuracy: 0.9744, Testing Accuracy: 0.9703\n",
      "\n"
     ]
    },
    {
     "name": "stdout",
     "output_type": "stream",
     "text": [
      "Epoch 220, Loss 0.0219\n",
      "Training Accuracy: 0.9748, Testing Accuracy: 0.9713\n",
      "\n"
     ]
    },
    {
     "name": "stdout",
     "output_type": "stream",
     "text": [
      "Epoch 230, Loss 0.0215\n",
      "Training Accuracy: 0.9750, Testing Accuracy: 0.9713\n",
      "\n"
     ]
    },
    {
     "name": "stdout",
     "output_type": "stream",
     "text": [
      "Epoch 240, Loss 0.0211\n",
      "Training Accuracy: 0.9757, Testing Accuracy: 0.9708\n",
      "\n"
     ]
    },
    {
     "data": {
      "text/plain": [
       "0.005940118248005676"
      ]
     },
     "execution_count": 22,
     "metadata": {},
     "output_type": "execute_result"
    }
   ],
   "source": [
    "nn_learner.train_loop(dl)"
   ]
  },
  {
   "cell_type": "code",
   "execution_count": 23,
   "id": "e0163366",
   "metadata": {
    "execution": {
     "iopub.execute_input": "2022-07-30T00:39:57.819909Z",
     "iopub.status.busy": "2022-07-30T00:39:57.819357Z",
     "iopub.status.idle": "2022-07-30T00:40:10.501992Z",
     "shell.execute_reply": "2022-07-30T00:40:10.502805Z"
    },
    "papermill": {
     "duration": 12.728192,
     "end_time": "2022-07-30T00:40:10.502938",
     "exception": false,
     "start_time": "2022-07-30T00:39:57.774746",
     "status": "completed"
    },
    "tags": []
   },
   "outputs": [
    {
     "name": "stdout",
     "output_type": "stream",
     "text": [
      "Epoch 0, Loss 0.2524\n",
      "Training Accuracy: 0.6548, Testing Accuracy: 0.6608\n",
      "\n"
     ]
    },
    {
     "name": "stdout",
     "output_type": "stream",
     "text": [
      "Epoch 10, Loss 0.1019\n",
      "Training Accuracy: 0.9136, Testing Accuracy: 0.9204\n",
      "\n"
     ]
    },
    {
     "name": "stdout",
     "output_type": "stream",
     "text": [
      "Epoch 20, Loss 0.0782\n",
      "Training Accuracy: 0.9297, Testing Accuracy: 0.9420\n",
      "\n"
     ]
    },
    {
     "name": "stdout",
     "output_type": "stream",
     "text": [
      "Epoch 30, Loss 0.0673\n",
      "Training Accuracy: 0.9386, Testing Accuracy: 0.9516\n",
      "\n"
     ]
    },
    {
     "name": "stdout",
     "output_type": "stream",
     "text": [
      "Epoch 40, Loss 0.0608\n",
      "Training Accuracy: 0.9437, Testing Accuracy: 0.9551\n",
      "\n"
     ]
    },
    {
     "name": "stdout",
     "output_type": "stream",
     "text": [
      "Epoch 50, Loss 0.0564\n",
      "Training Accuracy: 0.9463, Testing Accuracy: 0.9556\n",
      "\n"
     ]
    },
    {
     "name": "stdout",
     "output_type": "stream",
     "text": [
      "Epoch 60, Loss 0.0532\n",
      "Training Accuracy: 0.9489, Testing Accuracy: 0.9577\n",
      "\n"
     ]
    },
    {
     "name": "stdout",
     "output_type": "stream",
     "text": [
      "Epoch 70, Loss 0.0506\n",
      "Training Accuracy: 0.9505, Testing Accuracy: 0.9582\n",
      "\n"
     ]
    },
    {
     "name": "stdout",
     "output_type": "stream",
     "text": [
      "Epoch 80, Loss 0.0486\n",
      "Training Accuracy: 0.9516, Testing Accuracy: 0.9597\n",
      "\n"
     ]
    },
    {
     "name": "stdout",
     "output_type": "stream",
     "text": [
      "Epoch 90, Loss 0.047\n",
      "Training Accuracy: 0.9523, Testing Accuracy: 0.9607\n",
      "\n"
     ]
    },
    {
     "name": "stdout",
     "output_type": "stream",
     "text": [
      "Epoch 100, Loss 0.0456\n",
      "Training Accuracy: 0.9538, Testing Accuracy: 0.9612\n",
      "\n"
     ]
    },
    {
     "name": "stdout",
     "output_type": "stream",
     "text": [
      "Epoch 110, Loss 0.0444\n",
      "Training Accuracy: 0.9553, Testing Accuracy: 0.9622\n",
      "\n"
     ]
    },
    {
     "name": "stdout",
     "output_type": "stream",
     "text": [
      "Epoch 120, Loss 0.0433\n",
      "Training Accuracy: 0.9562, Testing Accuracy: 0.9622\n",
      "\n"
     ]
    },
    {
     "name": "stdout",
     "output_type": "stream",
     "text": [
      "Epoch 130, Loss 0.0424\n",
      "Training Accuracy: 0.9566, Testing Accuracy: 0.9627\n",
      "\n"
     ]
    },
    {
     "name": "stdout",
     "output_type": "stream",
     "text": [
      "Epoch 140, Loss 0.0416\n",
      "Training Accuracy: 0.9576, Testing Accuracy: 0.9632\n",
      "\n"
     ]
    },
    {
     "name": "stdout",
     "output_type": "stream",
     "text": [
      "Epoch 150, Loss 0.0409\n",
      "Training Accuracy: 0.9581, Testing Accuracy: 0.9632\n",
      "\n"
     ]
    },
    {
     "name": "stdout",
     "output_type": "stream",
     "text": [
      "Epoch 160, Loss 0.0402\n",
      "Training Accuracy: 0.9588, Testing Accuracy: 0.9637\n",
      "\n"
     ]
    },
    {
     "name": "stdout",
     "output_type": "stream",
     "text": [
      "Epoch 170, Loss 0.0396\n",
      "Training Accuracy: 0.9590, Testing Accuracy: 0.9657\n",
      "\n"
     ]
    },
    {
     "name": "stdout",
     "output_type": "stream",
     "text": [
      "Epoch 180, Loss 0.0391\n",
      "Training Accuracy: 0.9597, Testing Accuracy: 0.9657\n",
      "\n"
     ]
    },
    {
     "name": "stdout",
     "output_type": "stream",
     "text": [
      "Epoch 190, Loss 0.0386\n",
      "Training Accuracy: 0.9602, Testing Accuracy: 0.9662\n",
      "\n"
     ]
    },
    {
     "name": "stdout",
     "output_type": "stream",
     "text": [
      "Epoch 200, Loss 0.0381\n",
      "Training Accuracy: 0.9607, Testing Accuracy: 0.9662\n",
      "\n"
     ]
    },
    {
     "name": "stdout",
     "output_type": "stream",
     "text": [
      "Epoch 210, Loss 0.0377\n",
      "Training Accuracy: 0.9611, Testing Accuracy: 0.9662\n",
      "\n"
     ]
    },
    {
     "name": "stdout",
     "output_type": "stream",
     "text": [
      "Epoch 220, Loss 0.0373\n",
      "Training Accuracy: 0.9614, Testing Accuracy: 0.9657\n",
      "\n"
     ]
    },
    {
     "name": "stdout",
     "output_type": "stream",
     "text": [
      "Epoch 230, Loss 0.0369\n",
      "Training Accuracy: 0.9616, Testing Accuracy: 0.9667\n",
      "\n"
     ]
    },
    {
     "name": "stdout",
     "output_type": "stream",
     "text": [
      "Epoch 240, Loss 0.0365\n",
      "Training Accuracy: 0.9620, Testing Accuracy: 0.9667\n",
      "\n"
     ]
    },
    {
     "data": {
      "text/plain": [
       "0.03247406198526519"
      ]
     },
     "execution_count": 23,
     "metadata": {},
     "output_type": "execute_result"
    }
   ],
   "source": [
    "lr_learner.train_loop(dl)"
   ]
  },
  {
   "cell_type": "code",
   "execution_count": 24,
   "id": "ca410940",
   "metadata": {
    "execution": {
     "iopub.execute_input": "2022-07-30T00:40:10.594174Z",
     "iopub.status.busy": "2022-07-30T00:40:10.593557Z",
     "iopub.status.idle": "2022-07-30T00:40:10.826961Z",
     "shell.execute_reply": "2022-07-30T00:40:10.827386Z"
    },
    "papermill": {
     "duration": 0.281805,
     "end_time": "2022-07-30T00:40:10.827515",
     "exception": false,
     "start_time": "2022-07-30T00:40:10.545710",
     "status": "completed"
    },
    "tags": []
   },
   "outputs": [
    {
     "data": {
      "text/plain": [
       "<matplotlib.legend.Legend at 0x7f6a84420ac8>"
      ]
     },
     "execution_count": 24,
     "metadata": {},
     "output_type": "execute_result"
    },
    {
     "data": {
      "image/png": "[encoded data removed]",
      "text/plain": [
       "<Figure size 1080x720 with 1 Axes>"
      ]
     },
     "metadata": {
      "needs_background": "light"
     },
     "output_type": "display_data"
    }
   ],
   "source": [
    "#comparing the results of NN and LR\n",
    "plt.figure(figsize=(15,10))\n",
    "\n",
    "# Neural Network plots\n",
    "plt.plot(acc_nn.accuracies, 'r-', label = \"Training Accuracies - NN\")\n",
    "plt.plot(acc_nn.test_accuracies, 'g-', label = \"Testing Accuracies - NN\")\n",
    "\n",
    "# Logistic Regression plots\n",
    "plt.plot(acc_lr.accuracies, 'k-', label = \"Training Accuracies - LR\")\n",
    "plt.plot(acc_lr.test_accuracies, 'b-', label = \"Testing Accuracies - LR\")\n",
    "plt.legend()"
   ]
  },
  {
   "cell_type": "markdown",
   "id": "80dfb35c",
   "metadata": {
    "papermill": {
     "duration": 0.043726,
     "end_time": "2022-07-30T00:40:10.915430",
     "exception": false,
     "start_time": "2022-07-30T00:40:10.871704",
     "status": "completed"
    },
    "tags": []
   },
   "source": [
    "#### Plotting the outputs of this layer of the NN.\n"
   ]
  },
  {
   "cell_type": "code",
   "execution_count": 25,
   "id": "45eb2ff5",
   "metadata": {
    "execution": {
     "iopub.execute_input": "2022-07-30T00:40:11.010265Z",
     "iopub.status.busy": "2022-07-30T00:40:11.007973Z",
     "iopub.status.idle": "2022-07-30T00:40:11.045549Z",
     "shell.execute_reply": "2022-07-30T00:40:11.045077Z"
    },
    "papermill": {
     "duration": 0.086298,
     "end_time": "2022-07-30T00:40:11.045659",
     "exception": false,
     "start_time": "2022-07-30T00:40:10.959361",
     "status": "completed"
    },
    "tags": []
   },
   "outputs": [],
   "source": [
    "new_model = Model(layers[:-2])\n",
    "testing_plot = new_model(testing_data_x)"
   ]
  },
  {
   "cell_type": "code",
   "execution_count": 26,
   "id": "4c0a5485",
   "metadata": {
    "execution": {
     "iopub.execute_input": "2022-07-30T00:40:11.139320Z",
     "iopub.status.busy": "2022-07-30T00:40:11.138749Z",
     "iopub.status.idle": "2022-07-30T00:40:11.353121Z",
     "shell.execute_reply": "2022-07-30T00:40:11.352568Z"
    },
    "papermill": {
     "duration": 0.263255,
     "end_time": "2022-07-30T00:40:11.353230",
     "exception": false,
     "start_time": "2022-07-30T00:40:11.089975",
     "status": "completed"
    },
    "tags": []
   },
   "outputs": [
    {
     "data": {
      "text/plain": [
       "Text(0.5, 1.0, 'Outputs')"
      ]
     },
     "execution_count": 26,
     "metadata": {},
     "output_type": "execute_result"
    },
    {
     "data": {
      "image/png": "[encoded data removed]",
      "text/plain": [
       "<Figure size 576x504 with 1 Axes>"
      ]
     },
     "metadata": {
      "needs_background": "light"
     },
     "output_type": "display_data"
    }
   ],
   "source": [
    "# Plotting the scatter plot of points and color coding by class\n",
    "plt.figure(figsize=(8,7))\n",
    "plt.scatter(testing_plot[:,0], testing_plot[:,1], alpha = 0.1, c = y_test.ravel());\n",
    "plt.title('Outputs')"
   ]
  },
  {
   "cell_type": "markdown",
   "id": "a74fcf8f",
   "metadata": {
    "papermill": {
     "duration": 0.04652,
     "end_time": "2022-07-30T00:40:11.469975",
     "exception": false,
     "start_time": "2022-07-30T00:40:11.423455",
     "status": "completed"
    },
    "tags": []
   },
   "source": [
    "Probability contours"
   ]
  },
  {
   "cell_type": "code",
   "execution_count": 27,
   "id": "d0afc8e3",
   "metadata": {
    "execution": {
     "iopub.execute_input": "2022-07-30T00:40:11.571500Z",
     "iopub.status.busy": "2022-07-30T00:40:11.568243Z",
     "iopub.status.idle": "2022-07-30T00:40:11.580125Z",
     "shell.execute_reply": "2022-07-30T00:40:11.580563Z"
    },
    "papermill": {
     "duration": 0.064015,
     "end_time": "2022-07-30T00:40:11.580681",
     "exception": false,
     "start_time": "2022-07-30T00:40:11.516666",
     "status": "completed"
    },
    "tags": []
   },
   "outputs": [],
   "source": [
    "model_prob = Model(layers[-2:]) "
   ]
  },
  {
   "cell_type": "code",
   "execution_count": 28,
   "id": "9b96e238",
   "metadata": {
    "execution": {
     "iopub.execute_input": "2022-07-30T00:40:11.678013Z",
     "iopub.status.busy": "2022-07-30T00:40:11.677441Z",
     "iopub.status.idle": "2022-07-30T00:40:11.690839Z",
     "shell.execute_reply": "2022-07-30T00:40:11.691261Z"
    },
    "papermill": {
     "duration": 0.064135,
     "end_time": "2022-07-30T00:40:11.691385",
     "exception": false,
     "start_time": "2022-07-30T00:40:11.627250",
     "status": "completed"
    },
    "tags": []
   },
   "outputs": [],
   "source": [
    "#creating the x and y ranges according to the above generated plot.\n",
    "x_range = np.linspace(-4, 1, 100) \n",
    "y_range = np.linspace(-6, 6, 100) \n",
    "x_grid, y_grid = np.meshgrid(x_range, y_range) # x_grid and y_grig are of size 100 X 100\n",
    "\n",
    "# converting x_grid and y_grid to continuous arrays\n",
    "x_gridflat = np.ravel(x_grid)\n",
    "y_gridflat = np.ravel(y_grid)\n",
    "\n",
    "# The last layer of the current model takes two columns as input. Hence transpose of np.vstack() is required.\n",
    "X = np.vstack((x_gridflat, y_gridflat)).T\n",
    "\n",
    "prob_contour = model_prob(X).reshape(100,100) "
   ]
  },
  {
   "cell_type": "code",
   "execution_count": 29,
   "id": "da72499a",
   "metadata": {
    "execution": {
     "iopub.execute_input": "2022-07-30T00:40:11.789705Z",
     "iopub.status.busy": "2022-07-30T00:40:11.789145Z",
     "iopub.status.idle": "2022-07-30T00:40:12.039609Z",
     "shell.execute_reply": "2022-07-30T00:40:12.039135Z"
    },
    "papermill": {
     "duration": 0.301228,
     "end_time": "2022-07-30T00:40:12.039720",
     "exception": false,
     "start_time": "2022-07-30T00:40:11.738492",
     "status": "completed"
    },
    "tags": []
   },
   "outputs": [
    {
     "data": {
      "image/png": "[encoded data removed]",
      "text/plain": [
       "<Figure size 720x648 with 1 Axes>"
      ]
     },
     "metadata": {
      "needs_background": "light"
     },
     "output_type": "display_data"
    }
   ],
   "source": [
    "plt.figure(figsize=(10,9))\n",
    "plt.scatter(testing_plot[:,0], testing_plot[:,1], alpha = 0.1, c = y_test.ravel())\n",
    "contours = plt.contour(x_grid,y_grid,prob_contour)\n",
    "plt.title('Probability Contours')\n",
    "plt.clabel(contours, inline = True );"
   ]
  },
  {
   "cell_type": "code",
   "execution_count": null,
   "id": "e81b4ac7",
   "metadata": {
    "papermill": {
     "duration": 0.048452,
     "end_time": "2022-07-30T00:40:12.137428",
     "exception": false,
     "start_time": "2022-07-30T00:40:12.088976",
     "status": "completed"
    },
    "tags": []
   },
   "outputs": [],
   "source": []
  }
 ],
 "metadata": {
  "kernelspec": {
   "display_name": "Python 3",
   "language": "python",
   "name": "python3"
  },
  "language_info": {
   "codemirror_mode": {
    "name": "ipython",
    "version": 3
   },
   "file_extension": ".py",
   "mimetype": "text/x-python",
   "name": "python",
   "nbconvert_exporter": "python",
   "pygments_lexer": "ipython3",
   "version": "3.6.15"
  },
  "papermill": {
   "default_parameters": {},
   "duration": 202.497928,
   "end_time": "2022-07-30T00:40:12.503394",
   "environment_variables": {},
   "exception": null,
   "input_path": "2020-08-11-part2.ipynb",
   "output_path": "2020-08-11-part2.ipynb",
   "parameters": {},
   "start_time": "2022-07-30T00:36:50.005466",
   "version": "2.3.3"
  }
 },
 "nbformat": 4,
 "nbformat_minor": 5
}