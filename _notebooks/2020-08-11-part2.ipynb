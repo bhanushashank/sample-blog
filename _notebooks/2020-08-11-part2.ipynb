{
 "cells": [
  {
   "cell_type": "markdown",
   "id": "98380cd3",
   "metadata": {
    "papermill": {
     "duration": 0.02601,
     "end_time": "2022-02-11T00:24:22.116008",
     "exception": false,
     "start_time": "2022-02-11T00:24:22.089998",
     "status": "completed"
    },
    "tags": []
   },
   "source": [
    "# Distinguish Your Own Digits (DYOD)"
   ]
  },
  {
   "cell_type": "markdown",
   "id": "ef31240d",
   "metadata": {
    "papermill": {
     "duration": 0.023124,
     "end_time": "2022-02-11T00:24:22.161205",
     "exception": false,
     "start_time": "2022-02-11T00:24:22.138081",
     "status": "completed"
    },
    "tags": []
   },
   "source": [
    "You are going to write a classifier that distinguishes between the number 3 and number 8."
   ]
  },
  {
   "cell_type": "code",
   "execution_count": 1,
   "id": "b15c8646",
   "metadata": {
    "execution": {
     "iopub.execute_input": "2022-02-11T00:24:22.214259Z",
     "iopub.status.busy": "2022-02-11T00:24:22.213772Z",
     "iopub.status.idle": "2022-02-11T00:24:22.223228Z",
     "shell.execute_reply": "2022-02-11T00:24:22.223677Z"
    },
    "papermill": {
     "duration": 0.041227,
     "end_time": "2022-02-11T00:24:22.223819",
     "exception": false,
     "start_time": "2022-02-11T00:24:22.182592",
     "status": "completed"
    },
    "tags": []
   },
   "outputs": [],
   "source": [
    "%load_ext autoreload\n",
    "%autoreload 2"
   ]
  },
  {
   "cell_type": "code",
   "execution_count": 2,
   "id": "22ef38dc",
   "metadata": {
    "execution": {
     "iopub.execute_input": "2022-02-11T00:24:22.271041Z",
     "iopub.status.busy": "2022-02-11T00:24:22.270569Z",
     "iopub.status.idle": "2022-02-11T00:24:22.852667Z",
     "shell.execute_reply": "2022-02-11T00:24:22.852150Z"
    },
    "papermill": {
     "duration": 0.607419,
     "end_time": "2022-02-11T00:24:22.852807",
     "exception": false,
     "start_time": "2022-02-11T00:24:22.245388",
     "status": "completed"
    },
    "tags": []
   },
   "outputs": [],
   "source": [
    "%matplotlib inline\n",
    "import numpy as np\n",
    "import matplotlib.pyplot as plt\n",
    "import pandas as pd"
   ]
  },
  {
   "cell_type": "markdown",
   "id": "ba036198",
   "metadata": {
    "papermill": {
     "duration": 0.021448,
     "end_time": "2022-02-11T00:24:22.897285",
     "exception": false,
     "start_time": "2022-02-11T00:24:22.875837",
     "status": "completed"
    },
    "tags": []
   },
   "source": [
    "From the command line run `pip install mnist`. This is a library that will help you bring down the mnist dataset. If you run this from a notebook, you need to put  `!pip install mnist` in a cell by itself."
   ]
  },
  {
   "cell_type": "code",
   "execution_count": 3,
   "id": "bb6ad8a1",
   "metadata": {
    "execution": {
     "iopub.execute_input": "2022-02-11T00:24:22.951441Z",
     "iopub.status.busy": "2022-02-11T00:24:22.950965Z",
     "iopub.status.idle": "2022-02-11T00:24:24.687787Z",
     "shell.execute_reply": "2022-02-11T00:24:24.687340Z"
    },
    "papermill": {
     "duration": 1.768989,
     "end_time": "2022-02-11T00:24:24.687900",
     "exception": false,
     "start_time": "2022-02-11T00:24:22.918911",
     "status": "completed"
    },
    "tags": []
   },
   "outputs": [
    {
     "name": "stdout",
     "output_type": "stream",
     "text": [
      "Collecting mnist\r\n"
     ]
    },
    {
     "name": "stdout",
     "output_type": "stream",
     "text": [
      "  Downloading mnist-0.2.2-py2.py3-none-any.whl (3.5 kB)\r\n",
      "Requirement already satisfied: numpy in /opt/hostedtoolcache/Python/3.6.15/x64/lib/python3.6/site-packages (from mnist) (1.19.5)\r\n"
     ]
    },
    {
     "name": "stdout",
     "output_type": "stream",
     "text": [
      "Installing collected packages: mnist\r\n"
     ]
    },
    {
     "name": "stdout",
     "output_type": "stream",
     "text": [
      "Successfully installed mnist-0.2.2\r\n"
     ]
    }
   ],
   "source": [
    "!pip install mnist"
   ]
  },
  {
   "cell_type": "markdown",
   "id": "69df9c9a",
   "metadata": {
    "papermill": {
     "duration": 0.022706,
     "end_time": "2022-02-11T00:24:24.733150",
     "exception": false,
     "start_time": "2022-02-11T00:24:24.710444",
     "status": "completed"
    },
    "tags": []
   },
   "source": [
    "## Preparing the Data"
   ]
  },
  {
   "cell_type": "code",
   "execution_count": 4,
   "id": "7f69d806",
   "metadata": {
    "execution": {
     "iopub.execute_input": "2022-02-11T00:24:24.790292Z",
     "iopub.status.busy": "2022-02-11T00:24:24.789799Z",
     "iopub.status.idle": "2022-02-11T00:24:24.797061Z",
     "shell.execute_reply": "2022-02-11T00:24:24.796662Z"
    },
    "papermill": {
     "duration": 0.041711,
     "end_time": "2022-02-11T00:24:24.797170",
     "exception": false,
     "start_time": "2022-02-11T00:24:24.755459",
     "status": "completed"
    },
    "tags": []
   },
   "outputs": [],
   "source": [
    "import mnist"
   ]
  },
  {
   "cell_type": "code",
   "execution_count": 5,
   "id": "a411e44f",
   "metadata": {
    "execution": {
     "iopub.execute_input": "2022-02-11T00:24:24.858328Z",
     "iopub.status.busy": "2022-02-11T00:24:24.857842Z",
     "iopub.status.idle": "2022-02-11T00:24:25.514749Z",
     "shell.execute_reply": "2022-02-11T00:24:25.514228Z"
    },
    "papermill": {
     "duration": 0.694628,
     "end_time": "2022-02-11T00:24:25.514886",
     "exception": false,
     "start_time": "2022-02-11T00:24:24.820258",
     "status": "completed"
    },
    "tags": []
   },
   "outputs": [],
   "source": [
    "train_images = mnist.train_images()\n",
    "train_labels = mnist.train_labels()"
   ]
  },
  {
   "cell_type": "code",
   "execution_count": 6,
   "id": "dceab3a5",
   "metadata": {
    "execution": {
     "iopub.execute_input": "2022-02-11T00:24:25.574778Z",
     "iopub.status.busy": "2022-02-11T00:24:25.573886Z",
     "iopub.status.idle": "2022-02-11T00:24:25.582040Z",
     "shell.execute_reply": "2022-02-11T00:24:25.581638Z"
    },
    "papermill": {
     "duration": 0.04406,
     "end_time": "2022-02-11T00:24:25.582142",
     "exception": false,
     "start_time": "2022-02-11T00:24:25.538082",
     "status": "completed"
    },
    "tags": []
   },
   "outputs": [
    {
     "data": {
      "text/plain": [
       "((60000, 28, 28), (60000,))"
      ]
     },
     "execution_count": 6,
     "metadata": {},
     "output_type": "execute_result"
    }
   ],
   "source": [
    "train_images.shape, train_labels.shape"
   ]
  },
  {
   "cell_type": "code",
   "execution_count": 7,
   "id": "f50dc2bb",
   "metadata": {
    "execution": {
     "iopub.execute_input": "2022-02-11T00:24:25.641888Z",
     "iopub.status.busy": "2022-02-11T00:24:25.641396Z",
     "iopub.status.idle": "2022-02-11T00:24:25.848193Z",
     "shell.execute_reply": "2022-02-11T00:24:25.848670Z"
    },
    "papermill": {
     "duration": 0.243763,
     "end_time": "2022-02-11T00:24:25.848838",
     "exception": false,
     "start_time": "2022-02-11T00:24:25.605075",
     "status": "completed"
    },
    "tags": []
   },
   "outputs": [],
   "source": [
    "test_images = mnist.test_images()\n",
    "test_labels = mnist.test_labels()"
   ]
  },
  {
   "cell_type": "code",
   "execution_count": 8,
   "id": "fc38cf1b",
   "metadata": {
    "execution": {
     "iopub.execute_input": "2022-02-11T00:24:25.910646Z",
     "iopub.status.busy": "2022-02-11T00:24:25.905064Z",
     "iopub.status.idle": "2022-02-11T00:24:25.915170Z",
     "shell.execute_reply": "2022-02-11T00:24:25.914774Z"
    },
    "papermill": {
     "duration": 0.042503,
     "end_time": "2022-02-11T00:24:25.915273",
     "exception": false,
     "start_time": "2022-02-11T00:24:25.872770",
     "status": "completed"
    },
    "tags": []
   },
   "outputs": [
    {
     "data": {
      "text/plain": [
       "((10000, 28, 28), (10000,))"
      ]
     },
     "execution_count": 8,
     "metadata": {},
     "output_type": "execute_result"
    }
   ],
   "source": [
    "test_images.shape, test_labels.shape"
   ]
  },
  {
   "cell_type": "code",
   "execution_count": 9,
   "id": "f9ed8fe0",
   "metadata": {
    "execution": {
     "iopub.execute_input": "2022-02-11T00:24:25.978444Z",
     "iopub.status.busy": "2022-02-11T00:24:25.977932Z",
     "iopub.status.idle": "2022-02-11T00:24:26.108891Z",
     "shell.execute_reply": "2022-02-11T00:24:26.109666Z"
    },
    "papermill": {
     "duration": 0.171817,
     "end_time": "2022-02-11T00:24:26.109812",
     "exception": false,
     "start_time": "2022-02-11T00:24:25.937995",
     "status": "completed"
    },
    "tags": []
   },
   "outputs": [
    {
     "name": "stdout",
     "output_type": "stream",
     "text": [
      "2\n"
     ]
    },
    {
     "data": {
      "text/plain": [
       "<matplotlib.image.AxesImage at 0x7f7d480d8f28>"
      ]
     },
     "execution_count": 9,
     "metadata": {},
     "output_type": "execute_result"
    },
    {
     "data": {
      "image/png": "[encoded data removed]",
      "text/plain": [
       "<Figure size 432x288 with 1 Axes>"
      ]
     },
     "metadata": {
      "needs_background": "light"
     },
     "output_type": "display_data"
    }
   ],
   "source": [
    "image_index = 7776 # You may select anything up to 60,000\n",
    "print(train_labels[image_index]) \n",
    "plt.imshow(train_images[image_index], cmap='Greys')"
   ]
  },
  {
   "cell_type": "markdown",
   "id": "a8d2388d",
   "metadata": {
    "papermill": {
     "duration": 0.02679,
     "end_time": "2022-02-11T00:24:26.163491",
     "exception": false,
     "start_time": "2022-02-11T00:24:26.136701",
     "status": "completed"
    },
    "tags": []
   },
   "source": [
    "## Filter data to get 3 and 8 out"
   ]
  },
  {
   "cell_type": "code",
   "execution_count": 10,
   "id": "776f7fc7",
   "metadata": {
    "execution": {
     "iopub.execute_input": "2022-02-11T00:24:26.225747Z",
     "iopub.status.busy": "2022-02-11T00:24:26.220971Z",
     "iopub.status.idle": "2022-02-11T00:24:26.237585Z",
     "shell.execute_reply": "2022-02-11T00:24:26.237153Z"
    },
    "papermill": {
     "duration": 0.047398,
     "end_time": "2022-02-11T00:24:26.237703",
     "exception": false,
     "start_time": "2022-02-11T00:24:26.190305",
     "status": "completed"
    },
    "tags": []
   },
   "outputs": [],
   "source": [
    "train_filter = np.where((train_labels == 3 ) | (train_labels == 8))\n",
    "test_filter = np.where((test_labels == 3) | (test_labels == 8))\n",
    "X_train, y_train = train_images[train_filter], train_labels[train_filter]\n",
    "X_test, y_test = test_images[test_filter], test_labels[test_filter]"
   ]
  },
  {
   "cell_type": "markdown",
   "id": "948f0b7e",
   "metadata": {
    "papermill": {
     "duration": 0.027155,
     "end_time": "2022-02-11T00:24:26.291727",
     "exception": false,
     "start_time": "2022-02-11T00:24:26.264572",
     "status": "completed"
    },
    "tags": []
   },
   "source": [
    "We normalize the pizel values in the 0 to 1 range"
   ]
  },
  {
   "cell_type": "code",
   "execution_count": 11,
   "id": "ee4c2166",
   "metadata": {
    "execution": {
     "iopub.execute_input": "2022-02-11T00:24:26.354269Z",
     "iopub.status.busy": "2022-02-11T00:24:26.353772Z",
     "iopub.status.idle": "2022-02-11T00:24:26.395970Z",
     "shell.execute_reply": "2022-02-11T00:24:26.396389Z"
    },
    "papermill": {
     "duration": 0.078139,
     "end_time": "2022-02-11T00:24:26.396524",
     "exception": false,
     "start_time": "2022-02-11T00:24:26.318385",
     "status": "completed"
    },
    "tags": []
   },
   "outputs": [],
   "source": [
    "X_train = X_train/255.\n",
    "X_test = X_test/255."
   ]
  },
  {
   "cell_type": "markdown",
   "id": "ddcf4fab",
   "metadata": {
    "papermill": {
     "duration": 0.02472,
     "end_time": "2022-02-11T00:24:26.445238",
     "exception": false,
     "start_time": "2022-02-11T00:24:26.420518",
     "status": "completed"
    },
    "tags": []
   },
   "source": [
    "And setup the labels as 1 (when the digit is 3) and 0 (when the digit is 8)"
   ]
  },
  {
   "cell_type": "code",
   "execution_count": 12,
   "id": "7dc908f2",
   "metadata": {
    "execution": {
     "iopub.execute_input": "2022-02-11T00:24:26.508713Z",
     "iopub.status.busy": "2022-02-11T00:24:26.502390Z",
     "iopub.status.idle": "2022-02-11T00:24:26.510979Z",
     "shell.execute_reply": "2022-02-11T00:24:26.511365Z"
    },
    "papermill": {
     "duration": 0.041912,
     "end_time": "2022-02-11T00:24:26.511489",
     "exception": false,
     "start_time": "2022-02-11T00:24:26.469577",
     "status": "completed"
    },
    "tags": []
   },
   "outputs": [],
   "source": [
    "y_train = 1*(y_train==3)\n",
    "y_test = 1*(y_test==3)"
   ]
  },
  {
   "cell_type": "code",
   "execution_count": 13,
   "id": "01e4e969",
   "metadata": {
    "execution": {
     "iopub.execute_input": "2022-02-11T00:24:26.573081Z",
     "iopub.status.busy": "2022-02-11T00:24:26.563197Z",
     "iopub.status.idle": "2022-02-11T00:24:26.578912Z",
     "shell.execute_reply": "2022-02-11T00:24:26.578323Z"
    },
    "papermill": {
     "duration": 0.043788,
     "end_time": "2022-02-11T00:24:26.579021",
     "exception": false,
     "start_time": "2022-02-11T00:24:26.535233",
     "status": "completed"
    },
    "tags": []
   },
   "outputs": [
    {
     "data": {
      "text/plain": [
       "((11982, 28, 28), (1984, 28, 28))"
      ]
     },
     "execution_count": 13,
     "metadata": {},
     "output_type": "execute_result"
    }
   ],
   "source": [
    "X_train.shape, X_test.shape"
   ]
  },
  {
   "cell_type": "markdown",
   "id": "5ccf3f85",
   "metadata": {
    "papermill": {
     "duration": 0.023956,
     "end_time": "2022-02-11T00:24:26.626973",
     "exception": false,
     "start_time": "2022-02-11T00:24:26.603017",
     "status": "completed"
    },
    "tags": []
   },
   "source": [
    "We reshape the data to flatten the image pixels into a set of features or co-variates:"
   ]
  },
  {
   "cell_type": "code",
   "execution_count": 14,
   "id": "5286a4a3",
   "metadata": {
    "execution": {
     "iopub.execute_input": "2022-02-11T00:24:26.690262Z",
     "iopub.status.busy": "2022-02-11T00:24:26.689771Z",
     "iopub.status.idle": "2022-02-11T00:24:26.697900Z",
     "shell.execute_reply": "2022-02-11T00:24:26.697509Z"
    },
    "papermill": {
     "duration": 0.046945,
     "end_time": "2022-02-11T00:24:26.698000",
     "exception": false,
     "start_time": "2022-02-11T00:24:26.651055",
     "status": "completed"
    },
    "tags": []
   },
   "outputs": [
    {
     "data": {
      "text/plain": [
       "((11982, 784), (1984, 784))"
      ]
     },
     "execution_count": 14,
     "metadata": {},
     "output_type": "execute_result"
    }
   ],
   "source": [
    "X_train = X_train.reshape(X_train.shape[0], -1)\n",
    "X_test = X_test.reshape(X_test.shape[0], -1)\n",
    "X_train.shape, X_test.shape"
   ]
  },
  {
   "cell_type": "code",
   "execution_count": 15,
   "id": "73c5f88a",
   "metadata": {
    "execution": {
     "iopub.execute_input": "2022-02-11T00:24:26.762591Z",
     "iopub.status.busy": "2022-02-11T00:24:26.761780Z",
     "iopub.status.idle": "2022-02-11T00:24:26.772437Z",
     "shell.execute_reply": "2022-02-11T00:24:26.773147Z"
    },
    "papermill": {
     "duration": 0.051216,
     "end_time": "2022-02-11T00:24:26.773295",
     "exception": false,
     "start_time": "2022-02-11T00:24:26.722079",
     "status": "completed"
    },
    "tags": []
   },
   "outputs": [],
   "source": [
    "#Impoting functions from 'Kudzu'\n",
    "from kudzu.model import Model\n",
    "from kudzu.train import Learner\n",
    "from kudzu.optim import GD\n",
    "from kudzu.data import Data, Sampler,Dataloader\n",
    "\n",
    "from kudzu.callbacks import AccCallback\n",
    "from kudzu.callbacks import ClfCallback\n",
    "\n",
    "from kudzu.loss import MSE\n",
    "\n",
    "from kudzu.layer import Sigmoid,Relu\n",
    "from kudzu.layer import Affine"
   ]
  },
  {
   "cell_type": "markdown",
   "id": "bc01172a",
   "metadata": {
    "papermill": {
     "duration": 0.027223,
     "end_time": "2022-02-11T00:24:26.827960",
     "exception": false,
     "start_time": "2022-02-11T00:24:26.800737",
     "status": "completed"
    },
    "tags": []
   },
   "source": [
    "### Let us create a `Config` class, to store important parameters. \n",
    "This class essentially plays the role of a dictionary."
   ]
  },
  {
   "cell_type": "code",
   "execution_count": 16,
   "id": "978281aa",
   "metadata": {
    "execution": {
     "iopub.execute_input": "2022-02-11T00:24:26.894519Z",
     "iopub.status.busy": "2022-02-11T00:24:26.893672Z",
     "iopub.status.idle": "2022-02-11T00:24:26.901765Z",
     "shell.execute_reply": "2022-02-11T00:24:26.901339Z"
    },
    "papermill": {
     "duration": 0.046592,
     "end_time": "2022-02-11T00:24:26.901883",
     "exception": false,
     "start_time": "2022-02-11T00:24:26.855291",
     "status": "completed"
    },
    "tags": []
   },
   "outputs": [],
   "source": [
    "class Config:\n",
    "    pass\n",
    "config = Config()\n",
    "config.lr = 0.001\n",
    "config.num_epochs = 250\n",
    "config.bs = 50"
   ]
  },
  {
   "cell_type": "markdown",
   "id": "1385fa59",
   "metadata": {
    "papermill": {
     "duration": 0.02739,
     "end_time": "2022-02-11T00:24:26.956901",
     "exception": false,
     "start_time": "2022-02-11T00:24:26.929511",
     "status": "completed"
    },
    "tags": []
   },
   "source": [
    "### Running Models with the Training data\n",
    "Details about the network layers:\n",
    "- A first affine layer has 784 inputs and does 100 affine transforms. These are followed by a Relu\n",
    "- A second affine layer has 100 inputs from the 100 activations of the past layer, and does 100 affine transforms. These are followed by a Relu\n",
    "- A third affine layer has 100 activations and does 2 affine transformations to create an embedding for visualization. There is no non-linearity here.\n",
    "- A final \"logistic regression\" which has an affine transform from 2 inputs to 1 output, which is squeezed through a sigmoid.\n"
   ]
  },
  {
   "cell_type": "code",
   "execution_count": 17,
   "id": "2b9c66db",
   "metadata": {
    "execution": {
     "iopub.execute_input": "2022-02-11T00:24:27.015848Z",
     "iopub.status.busy": "2022-02-11T00:24:27.015331Z",
     "iopub.status.idle": "2022-02-11T00:24:27.026737Z",
     "shell.execute_reply": "2022-02-11T00:24:27.026317Z"
    },
    "papermill": {
     "duration": 0.042507,
     "end_time": "2022-02-11T00:24:27.026850",
     "exception": false,
     "start_time": "2022-02-11T00:24:26.984343",
     "status": "completed"
    },
    "tags": []
   },
   "outputs": [],
   "source": [
    "data = Data(X_train, y_train.reshape(-1,1))\n",
    "sampler = Sampler(data, config.bs, shuffle=True)\n",
    "\n",
    "dl = Dataloader(data, sampler)\n",
    "\n",
    "opt = GD(config.lr)\n",
    "loss = MSE()"
   ]
  },
  {
   "cell_type": "code",
   "execution_count": 18,
   "id": "b275e4c2",
   "metadata": {
    "execution": {
     "iopub.execute_input": "2022-02-11T00:24:27.088535Z",
     "iopub.status.busy": "2022-02-11T00:24:27.087998Z",
     "iopub.status.idle": "2022-02-11T00:24:27.097230Z",
     "shell.execute_reply": "2022-02-11T00:24:27.097628Z"
    },
    "papermill": {
     "duration": 0.043312,
     "end_time": "2022-02-11T00:24:27.097767",
     "exception": false,
     "start_time": "2022-02-11T00:24:27.054455",
     "status": "completed"
    },
    "tags": []
   },
   "outputs": [],
   "source": [
    "training_data_x = X_train\n",
    "testing_data_x = X_test\n",
    "training_data_y = y_train.reshape(-1,1)\n",
    "testing_data_y = y_test.reshape(-1,1)"
   ]
  },
  {
   "cell_type": "code",
   "execution_count": 19,
   "id": "76951160",
   "metadata": {
    "execution": {
     "iopub.execute_input": "2022-02-11T00:24:27.156853Z",
     "iopub.status.busy": "2022-02-11T00:24:27.156336Z",
     "iopub.status.idle": "2022-02-11T00:24:27.171378Z",
     "shell.execute_reply": "2022-02-11T00:24:27.170943Z"
    },
    "papermill": {
     "duration": 0.046383,
     "end_time": "2022-02-11T00:24:27.171491",
     "exception": false,
     "start_time": "2022-02-11T00:24:27.125108",
     "status": "completed"
    },
    "tags": []
   },
   "outputs": [
    {
     "name": "stdout",
     "output_type": "stream",
     "text": [
      "xavier\n",
      "xavier\n",
      "xavier\n",
      "xavier\n",
      "xavier\n"
     ]
    }
   ],
   "source": [
    "layers = [Affine(\"first\", 784, 100), Relu(\"first\"), Affine(\"second\", 100, 100), Relu(\"second\"), Affine(\"third\", 100, 2), Affine(\"last\", 2, 1), Sigmoid(\"last\")]\n",
    "model_nn = Model(layers)\n",
    "model_lr = Model([Affine(\"logits\", 784, 1), Sigmoid(\"sigmoid\")])"
   ]
  },
  {
   "cell_type": "code",
   "execution_count": 20,
   "id": "6eede77a",
   "metadata": {
    "execution": {
     "iopub.execute_input": "2022-02-11T00:24:27.231179Z",
     "iopub.status.busy": "2022-02-11T00:24:27.230655Z",
     "iopub.status.idle": "2022-02-11T00:24:27.241368Z",
     "shell.execute_reply": "2022-02-11T00:24:27.240896Z"
    },
    "papermill": {
     "duration": 0.042261,
     "end_time": "2022-02-11T00:24:27.241482",
     "exception": false,
     "start_time": "2022-02-11T00:24:27.199221",
     "status": "completed"
    },
    "tags": []
   },
   "outputs": [],
   "source": [
    "nn_learner = Learner(loss, model_nn, opt, config.num_epochs)\n",
    "acc_nn = ClfCallback(nn_learner, config.bs, training_data_x , testing_data_x, training_data_y, testing_data_y)\n",
    "nn_learner.set_callbacks([acc_nn])"
   ]
  },
  {
   "cell_type": "code",
   "execution_count": 21,
   "id": "877b6cc7",
   "metadata": {
    "execution": {
     "iopub.execute_input": "2022-02-11T00:24:27.302074Z",
     "iopub.status.busy": "2022-02-11T00:24:27.301557Z",
     "iopub.status.idle": "2022-02-11T00:24:27.312309Z",
     "shell.execute_reply": "2022-02-11T00:24:27.311868Z"
    },
    "papermill": {
     "duration": 0.043435,
     "end_time": "2022-02-11T00:24:27.312421",
     "exception": false,
     "start_time": "2022-02-11T00:24:27.268986",
     "status": "completed"
    },
    "tags": []
   },
   "outputs": [],
   "source": [
    "lr_learner = Learner(loss, model_lr, opt, config.num_epochs)\n",
    "acc_lr = ClfCallback(lr_learner, config.bs, training_data_x , testing_data_x, training_data_y, testing_data_y)\n",
    "lr_learner.set_callbacks([acc_lr])"
   ]
  },
  {
   "cell_type": "code",
   "execution_count": 22,
   "id": "d9b133c3",
   "metadata": {
    "execution": {
     "iopub.execute_input": "2022-02-11T00:24:27.371585Z",
     "iopub.status.busy": "2022-02-11T00:24:27.371072Z",
     "iopub.status.idle": "2022-02-11T00:25:41.673365Z",
     "shell.execute_reply": "2022-02-11T00:25:41.674045Z"
    },
    "papermill": {
     "duration": 74.333981,
     "end_time": "2022-02-11T00:25:41.674196",
     "exception": false,
     "start_time": "2022-02-11T00:24:27.340215",
     "status": "completed"
    },
    "tags": []
   },
   "outputs": [
    {
     "name": "stdout",
     "output_type": "stream",
     "text": [
      "Epoch 0, Loss 0.2421\n",
      "Training Accuracy: 0.6243, Testing Accuracy: 0.6210\n",
      "\n"
     ]
    },
    {
     "name": "stdout",
     "output_type": "stream",
     "text": [
      "Epoch 10, Loss 0.1092\n",
      "Training Accuracy: 0.9047, Testing Accuracy: 0.9068\n",
      "\n"
     ]
    },
    {
     "name": "stdout",
     "output_type": "stream",
     "text": [
      "Epoch 20, Loss 0.0616\n",
      "Training Accuracy: 0.9367, Testing Accuracy: 0.9425\n",
      "\n"
     ]
    },
    {
     "name": "stdout",
     "output_type": "stream",
     "text": [
      "Epoch 30, Loss 0.0462\n",
      "Training Accuracy: 0.9498, Testing Accuracy: 0.9597\n",
      "\n"
     ]
    },
    {
     "name": "stdout",
     "output_type": "stream",
     "text": [
      "Epoch 40, Loss 0.0391\n",
      "Training Accuracy: 0.9556, Testing Accuracy: 0.9672\n",
      "\n"
     ]
    },
    {
     "name": "stdout",
     "output_type": "stream",
     "text": [
      "Epoch 50, Loss 0.035\n",
      "Training Accuracy: 0.9592, Testing Accuracy: 0.9688\n",
      "\n"
     ]
    },
    {
     "name": "stdout",
     "output_type": "stream",
     "text": [
      "Epoch 60, Loss 0.0323\n",
      "Training Accuracy: 0.9637, Testing Accuracy: 0.9682\n",
      "\n"
     ]
    },
    {
     "name": "stdout",
     "output_type": "stream",
     "text": [
      "Epoch 70, Loss 0.0303\n",
      "Training Accuracy: 0.9659, Testing Accuracy: 0.9682\n",
      "\n"
     ]
    },
    {
     "name": "stdout",
     "output_type": "stream",
     "text": [
      "Epoch 80, Loss 0.0288\n",
      "Training Accuracy: 0.9674, Testing Accuracy: 0.9688\n",
      "\n"
     ]
    },
    {
     "name": "stdout",
     "output_type": "stream",
     "text": [
      "Epoch 90, Loss 0.0276\n",
      "Training Accuracy: 0.9686, Testing Accuracy: 0.9693\n",
      "\n"
     ]
    },
    {
     "name": "stdout",
     "output_type": "stream",
     "text": [
      "Epoch 100, Loss 0.0265\n",
      "Training Accuracy: 0.9693, Testing Accuracy: 0.9682\n",
      "\n"
     ]
    },
    {
     "name": "stdout",
     "output_type": "stream",
     "text": [
      "Epoch 110, Loss 0.0256\n",
      "Training Accuracy: 0.9706, Testing Accuracy: 0.9693\n",
      "\n"
     ]
    },
    {
     "name": "stdout",
     "output_type": "stream",
     "text": [
      "Epoch 120, Loss 0.0248\n",
      "Training Accuracy: 0.9715, Testing Accuracy: 0.9693\n",
      "\n"
     ]
    },
    {
     "name": "stdout",
     "output_type": "stream",
     "text": [
      "Epoch 130, Loss 0.0241\n",
      "Training Accuracy: 0.9719, Testing Accuracy: 0.9698\n",
      "\n"
     ]
    },
    {
     "name": "stdout",
     "output_type": "stream",
     "text": [
      "Epoch 140, Loss 0.0235\n",
      "Training Accuracy: 0.9729, Testing Accuracy: 0.9703\n",
      "\n"
     ]
    },
    {
     "name": "stdout",
     "output_type": "stream",
     "text": [
      "Epoch 150, Loss 0.0229\n",
      "Training Accuracy: 0.9734, Testing Accuracy: 0.9708\n",
      "\n"
     ]
    },
    {
     "name": "stdout",
     "output_type": "stream",
     "text": [
      "Epoch 160, Loss 0.0223\n",
      "Training Accuracy: 0.9746, Testing Accuracy: 0.9713\n",
      "\n"
     ]
    },
    {
     "name": "stdout",
     "output_type": "stream",
     "text": [
      "Epoch 170, Loss 0.0218\n",
      "Training Accuracy: 0.9755, Testing Accuracy: 0.9713\n",
      "\n"
     ]
    },
    {
     "name": "stdout",
     "output_type": "stream",
     "text": [
      "Epoch 180, Loss 0.0214\n",
      "Training Accuracy: 0.9760, Testing Accuracy: 0.9718\n",
      "\n"
     ]
    },
    {
     "name": "stdout",
     "output_type": "stream",
     "text": [
      "Epoch 190, Loss 0.0209\n",
      "Training Accuracy: 0.9767, Testing Accuracy: 0.9723\n",
      "\n"
     ]
    },
    {
     "name": "stdout",
     "output_type": "stream",
     "text": [
      "Epoch 200, Loss 0.0205\n",
      "Training Accuracy: 0.9774, Testing Accuracy: 0.9723\n",
      "\n"
     ]
    },
    {
     "name": "stdout",
     "output_type": "stream",
     "text": [
      "Epoch 210, Loss 0.0201\n",
      "Training Accuracy: 0.9776, Testing Accuracy: 0.9723\n",
      "\n"
     ]
    },
    {
     "name": "stdout",
     "output_type": "stream",
     "text": [
      "Epoch 220, Loss 0.0197\n",
      "Training Accuracy: 0.9781, Testing Accuracy: 0.9723\n",
      "\n"
     ]
    },
    {
     "name": "stdout",
     "output_type": "stream",
     "text": [
      "Epoch 230, Loss 0.0193\n",
      "Training Accuracy: 0.9786, Testing Accuracy: 0.9728\n",
      "\n"
     ]
    },
    {
     "name": "stdout",
     "output_type": "stream",
     "text": [
      "Epoch 240, Loss 0.019\n",
      "Training Accuracy: 0.9789, Testing Accuracy: 0.9733\n",
      "\n"
     ]
    },
    {
     "data": {
      "text/plain": [
       "0.005276327643439693"
      ]
     },
     "execution_count": 22,
     "metadata": {},
     "output_type": "execute_result"
    }
   ],
   "source": [
    "nn_learner.train_loop(dl)"
   ]
  },
  {
   "cell_type": "code",
   "execution_count": 23,
   "id": "e0163366",
   "metadata": {
    "execution": {
     "iopub.execute_input": "2022-02-11T00:25:41.746355Z",
     "iopub.status.busy": "2022-02-11T00:25:41.745876Z",
     "iopub.status.idle": "2022-02-11T00:25:54.804792Z",
     "shell.execute_reply": "2022-02-11T00:25:54.805470Z"
    },
    "papermill": {
     "duration": 13.100231,
     "end_time": "2022-02-11T00:25:54.805609",
     "exception": false,
     "start_time": "2022-02-11T00:25:41.705378",
     "status": "completed"
    },
    "tags": []
   },
   "outputs": [
    {
     "name": "stdout",
     "output_type": "stream",
     "text": [
      "Epoch 0, Loss 0.1984\n",
      "Training Accuracy: 0.8195, Testing Accuracy: 0.8180\n",
      "\n"
     ]
    },
    {
     "name": "stdout",
     "output_type": "stream",
     "text": [
      "Epoch 10, Loss 0.0986\n",
      "Training Accuracy: 0.9128, Testing Accuracy: 0.9244\n",
      "\n"
     ]
    },
    {
     "name": "stdout",
     "output_type": "stream",
     "text": [
      "Epoch 20, Loss 0.0775\n",
      "Training Accuracy: 0.9278, Testing Accuracy: 0.9405\n",
      "\n"
     ]
    },
    {
     "name": "stdout",
     "output_type": "stream",
     "text": [
      "Epoch 30, Loss 0.0673\n",
      "Training Accuracy: 0.9351, Testing Accuracy: 0.9471\n",
      "\n"
     ]
    },
    {
     "name": "stdout",
     "output_type": "stream",
     "text": [
      "Epoch 40, Loss 0.0611\n",
      "Training Accuracy: 0.9405, Testing Accuracy: 0.9496\n",
      "\n"
     ]
    },
    {
     "name": "stdout",
     "output_type": "stream",
     "text": [
      "Epoch 50, Loss 0.0568\n",
      "Training Accuracy: 0.9441, Testing Accuracy: 0.9546\n",
      "\n"
     ]
    },
    {
     "name": "stdout",
     "output_type": "stream",
     "text": [
      "Epoch 60, Loss 0.0536\n",
      "Training Accuracy: 0.9469, Testing Accuracy: 0.9572\n",
      "\n"
     ]
    },
    {
     "name": "stdout",
     "output_type": "stream",
     "text": [
      "Epoch 70, Loss 0.0512\n",
      "Training Accuracy: 0.9490, Testing Accuracy: 0.9561\n",
      "\n"
     ]
    },
    {
     "name": "stdout",
     "output_type": "stream",
     "text": [
      "Epoch 80, Loss 0.0492\n",
      "Training Accuracy: 0.9502, Testing Accuracy: 0.9592\n",
      "\n"
     ]
    },
    {
     "name": "stdout",
     "output_type": "stream",
     "text": [
      "Epoch 90, Loss 0.0475\n",
      "Training Accuracy: 0.9516, Testing Accuracy: 0.9602\n",
      "\n"
     ]
    },
    {
     "name": "stdout",
     "output_type": "stream",
     "text": [
      "Epoch 100, Loss 0.0462\n",
      "Training Accuracy: 0.9520, Testing Accuracy: 0.9617\n",
      "\n"
     ]
    },
    {
     "name": "stdout",
     "output_type": "stream",
     "text": [
      "Epoch 110, Loss 0.045\n",
      "Training Accuracy: 0.9536, Testing Accuracy: 0.9622\n",
      "\n"
     ]
    },
    {
     "name": "stdout",
     "output_type": "stream",
     "text": [
      "Epoch 120, Loss 0.0439\n",
      "Training Accuracy: 0.9548, Testing Accuracy: 0.9632\n",
      "\n"
     ]
    },
    {
     "name": "stdout",
     "output_type": "stream",
     "text": [
      "Epoch 130, Loss 0.043\n",
      "Training Accuracy: 0.9562, Testing Accuracy: 0.9642\n",
      "\n"
     ]
    },
    {
     "name": "stdout",
     "output_type": "stream",
     "text": [
      "Epoch 140, Loss 0.0422\n",
      "Training Accuracy: 0.9566, Testing Accuracy: 0.9647\n",
      "\n"
     ]
    },
    {
     "name": "stdout",
     "output_type": "stream",
     "text": [
      "Epoch 150, Loss 0.0414\n",
      "Training Accuracy: 0.9574, Testing Accuracy: 0.9647\n",
      "\n"
     ]
    },
    {
     "name": "stdout",
     "output_type": "stream",
     "text": [
      "Epoch 160, Loss 0.0408\n",
      "Training Accuracy: 0.9580, Testing Accuracy: 0.9652\n",
      "\n"
     ]
    },
    {
     "name": "stdout",
     "output_type": "stream",
     "text": [
      "Epoch 170, Loss 0.0402\n",
      "Training Accuracy: 0.9584, Testing Accuracy: 0.9652\n",
      "\n"
     ]
    },
    {
     "name": "stdout",
     "output_type": "stream",
     "text": [
      "Epoch 180, Loss 0.0396\n",
      "Training Accuracy: 0.9587, Testing Accuracy: 0.9657\n",
      "\n"
     ]
    },
    {
     "name": "stdout",
     "output_type": "stream",
     "text": [
      "Epoch 190, Loss 0.0391\n",
      "Training Accuracy: 0.9592, Testing Accuracy: 0.9657\n",
      "\n"
     ]
    },
    {
     "name": "stdout",
     "output_type": "stream",
     "text": [
      "Epoch 200, Loss 0.0386\n",
      "Training Accuracy: 0.9596, Testing Accuracy: 0.9662\n",
      "\n"
     ]
    },
    {
     "name": "stdout",
     "output_type": "stream",
     "text": [
      "Epoch 210, Loss 0.0382\n",
      "Training Accuracy: 0.9598, Testing Accuracy: 0.9662\n",
      "\n"
     ]
    },
    {
     "name": "stdout",
     "output_type": "stream",
     "text": [
      "Epoch 220, Loss 0.0378\n",
      "Training Accuracy: 0.9600, Testing Accuracy: 0.9667\n",
      "\n"
     ]
    },
    {
     "name": "stdout",
     "output_type": "stream",
     "text": [
      "Epoch 230, Loss 0.0374\n",
      "Training Accuracy: 0.9606, Testing Accuracy: 0.9672\n",
      "\n"
     ]
    },
    {
     "name": "stdout",
     "output_type": "stream",
     "text": [
      "Epoch 240, Loss 0.037\n",
      "Training Accuracy: 0.9609, Testing Accuracy: 0.9672\n",
      "\n"
     ]
    },
    {
     "data": {
      "text/plain": [
       "0.10613797414530293"
      ]
     },
     "execution_count": 23,
     "metadata": {},
     "output_type": "execute_result"
    }
   ],
   "source": [
    "lr_learner.train_loop(dl)"
   ]
  },
  {
   "cell_type": "code",
   "execution_count": 24,
   "id": "ca410940",
   "metadata": {
    "execution": {
     "iopub.execute_input": "2022-02-11T00:25:54.894348Z",
     "iopub.status.busy": "2022-02-11T00:25:54.893860Z",
     "iopub.status.idle": "2022-02-11T00:25:55.094542Z",
     "shell.execute_reply": "2022-02-11T00:25:55.094112Z"
    },
    "papermill": {
     "duration": 0.252007,
     "end_time": "2022-02-11T00:25:55.094663",
     "exception": false,
     "start_time": "2022-02-11T00:25:54.842656",
     "status": "completed"
    },
    "tags": []
   },
   "outputs": [
    {
     "data": {
      "text/plain": [
       "<matplotlib.legend.Legend at 0x7f7d47c466a0>"
      ]
     },
     "execution_count": 24,
     "metadata": {},
     "output_type": "execute_result"
    },
    {
     "data": {
      "image/png": "[encoded data removed]",
      "text/plain": [
       "<Figure size 1080x720 with 1 Axes>"
      ]
     },
     "metadata": {
      "needs_background": "light"
     },
     "output_type": "display_data"
    }
   ],
   "source": [
    "#comparing the results of NN and LR\n",
    "plt.figure(figsize=(15,10))\n",
    "\n",
    "# Neural Network plots\n",
    "plt.plot(acc_nn.accuracies, 'r-', label = \"Training Accuracies - NN\")\n",
    "plt.plot(acc_nn.test_accuracies, 'g-', label = \"Testing Accuracies - NN\")\n",
    "\n",
    "# Logistic Regression plots\n",
    "plt.plot(acc_lr.accuracies, 'k-', label = \"Training Accuracies - LR\")\n",
    "plt.plot(acc_lr.test_accuracies, 'b-', label = \"Testing Accuracies - LR\")\n",
    "plt.legend()"
   ]
  },
  {
   "cell_type": "markdown",
   "id": "80dfb35c",
   "metadata": {
    "papermill": {
     "duration": 0.042778,
     "end_time": "2022-02-11T00:25:55.180620",
     "exception": false,
     "start_time": "2022-02-11T00:25:55.137842",
     "status": "completed"
    },
    "tags": []
   },
   "source": [
    "#### Plotting the outputs of this layer of the NN.\n"
   ]
  },
  {
   "cell_type": "code",
   "execution_count": 25,
   "id": "45eb2ff5",
   "metadata": {
    "execution": {
     "iopub.execute_input": "2022-02-11T00:25:55.274138Z",
     "iopub.status.busy": "2022-02-11T00:25:55.273599Z",
     "iopub.status.idle": "2022-02-11T00:25:55.290583Z",
     "shell.execute_reply": "2022-02-11T00:25:55.291020Z"
    },
    "papermill": {
     "duration": 0.067236,
     "end_time": "2022-02-11T00:25:55.291159",
     "exception": false,
     "start_time": "2022-02-11T00:25:55.223923",
     "status": "completed"
    },
    "tags": []
   },
   "outputs": [],
   "source": [
    "new_model = Model(layers[:-2])\n",
    "testing_plot = new_model(testing_data_x)"
   ]
  },
  {
   "cell_type": "code",
   "execution_count": 26,
   "id": "4c0a5485",
   "metadata": {
    "execution": {
     "iopub.execute_input": "2022-02-11T00:25:55.385377Z",
     "iopub.status.busy": "2022-02-11T00:25:55.384795Z",
     "iopub.status.idle": "2022-02-11T00:25:55.559624Z",
     "shell.execute_reply": "2022-02-11T00:25:55.559213Z"
    },
    "papermill": {
     "duration": 0.223604,
     "end_time": "2022-02-11T00:25:55.559735",
     "exception": false,
     "start_time": "2022-02-11T00:25:55.336131",
     "status": "completed"
    },
    "tags": []
   },
   "outputs": [
    {
     "data": {
      "text/plain": [
       "Text(0.5, 1.0, 'Outputs')"
      ]
     },
     "execution_count": 26,
     "metadata": {},
     "output_type": "execute_result"
    },
    {
     "data": {
      "image/png": "[encoded data removed]",
      "text/plain": [
       "<Figure size 576x504 with 1 Axes>"
      ]
     },
     "metadata": {
      "needs_background": "light"
     },
     "output_type": "display_data"
    }
   ],
   "source": [
    "# Plotting the scatter plot of points and color coding by class\n",
    "plt.figure(figsize=(8,7))\n",
    "plt.scatter(testing_plot[:,0], testing_plot[:,1], alpha = 0.1, c = y_test.ravel());\n",
    "plt.title('Outputs')"
   ]
  },
  {
   "cell_type": "markdown",
   "id": "a74fcf8f",
   "metadata": {
    "papermill": {
     "duration": 0.039548,
     "end_time": "2022-02-11T00:25:55.639095",
     "exception": false,
     "start_time": "2022-02-11T00:25:55.599547",
     "status": "completed"
    },
    "tags": []
   },
   "source": [
    "Probability contours"
   ]
  },
  {
   "cell_type": "code",
   "execution_count": 27,
   "id": "d0afc8e3",
   "metadata": {
    "execution": {
     "iopub.execute_input": "2022-02-11T00:25:55.726314Z",
     "iopub.status.busy": "2022-02-11T00:25:55.725769Z",
     "iopub.status.idle": "2022-02-11T00:25:55.732483Z",
     "shell.execute_reply": "2022-02-11T00:25:55.731973Z"
    },
    "papermill": {
     "duration": 0.053841,
     "end_time": "2022-02-11T00:25:55.732595",
     "exception": false,
     "start_time": "2022-02-11T00:25:55.678754",
     "status": "completed"
    },
    "tags": []
   },
   "outputs": [],
   "source": [
    "model_prob = Model(layers[-2:]) "
   ]
  },
  {
   "cell_type": "code",
   "execution_count": 28,
   "id": "9b96e238",
   "metadata": {
    "execution": {
     "iopub.execute_input": "2022-02-11T00:25:55.855322Z",
     "iopub.status.busy": "2022-02-11T00:25:55.854783Z",
     "iopub.status.idle": "2022-02-11T00:25:55.867835Z",
     "shell.execute_reply": "2022-02-11T00:25:55.868221Z"
    },
    "papermill": {
     "duration": 0.0647,
     "end_time": "2022-02-11T00:25:55.868361",
     "exception": false,
     "start_time": "2022-02-11T00:25:55.803661",
     "status": "completed"
    },
    "tags": []
   },
   "outputs": [],
   "source": [
    "#creating the x and y ranges according to the above generated plot.\n",
    "x_range = np.linspace(-4, 1, 100) \n",
    "y_range = np.linspace(-6, 6, 100) \n",
    "x_grid, y_grid = np.meshgrid(x_range, y_range) # x_grid and y_grig are of size 100 X 100\n",
    "\n",
    "# converting x_grid and y_grid to continuous arrays\n",
    "x_gridflat = np.ravel(x_grid)\n",
    "y_gridflat = np.ravel(y_grid)\n",
    "\n",
    "# The last layer of the current model takes two columns as input. Hence transpose of np.vstack() is required.\n",
    "X = np.vstack((x_gridflat, y_gridflat)).T\n",
    "\n",
    "prob_contour = model_prob(X).reshape(100,100) "
   ]
  },
  {
   "cell_type": "code",
   "execution_count": 29,
   "id": "da72499a",
   "metadata": {
    "execution": {
     "iopub.execute_input": "2022-02-11T00:25:55.966522Z",
     "iopub.status.busy": "2022-02-11T00:25:55.965997Z",
     "iopub.status.idle": "2022-02-11T00:25:56.182826Z",
     "shell.execute_reply": "2022-02-11T00:25:56.182388Z"
    },
    "papermill": {
     "duration": 0.269247,
     "end_time": "2022-02-11T00:25:56.182948",
     "exception": false,
     "start_time": "2022-02-11T00:25:55.913701",
     "status": "completed"
    },
    "tags": []
   },
   "outputs": [
    {
     "data": {
      "image/png": "[encoded data removed]",
      "text/plain": [
       "<Figure size 720x648 with 1 Axes>"
      ]
     },
     "metadata": {
      "needs_background": "light"
     },
     "output_type": "display_data"
    }
   ],
   "source": [
    "plt.figure(figsize=(10,9))\n",
    "plt.scatter(testing_plot[:,0], testing_plot[:,1], alpha = 0.1, c = y_test.ravel())\n",
    "contours = plt.contour(x_grid,y_grid,prob_contour)\n",
    "plt.title('Probability Contours')\n",
    "plt.clabel(contours, inline = True );"
   ]
  },
  {
   "cell_type": "code",
   "execution_count": null,
   "id": "e81b4ac7",
   "metadata": {
    "papermill": {
     "duration": 0.047969,
     "end_time": "2022-02-11T00:25:56.278809",
     "exception": false,
     "start_time": "2022-02-11T00:25:56.230840",
     "status": "completed"
    },
    "tags": []
   },
   "outputs": [],
   "source": []
  }
 ],
 "metadata": {
  "kernelspec": {
   "display_name": "Python 3",
   "language": "python",
   "name": "python3"
  },
  "language_info": {
   "codemirror_mode": {
    "name": "ipython",
    "version": 3
   },
   "file_extension": ".py",
   "mimetype": "text/x-python",
   "name": "python",
   "nbconvert_exporter": "python",
   "pygments_lexer": "ipython3",
   "version": "3.6.15"
  },
  "papermill": {
   "default_parameters": {},
   "duration": 95.770846,
   "end_time": "2022-02-11T00:25:56.745397",
   "environment_variables": {},
   "exception": null,
   "input_path": "2020-08-11-part2.ipynb",
   "output_path": "2020-08-11-part2.ipynb",
   "parameters": {},
   "start_time": "2022-02-11T00:24:20.974551",
   "version": "2.3.3"
  }
 },
 "nbformat": 4,
 "nbformat_minor": 5
}