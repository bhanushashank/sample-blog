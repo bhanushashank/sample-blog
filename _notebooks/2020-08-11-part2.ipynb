{
 "cells": [
  {
   "cell_type": "markdown",
   "id": "98380cd3",
   "metadata": {
    "papermill": {
     "duration": 0.029923,
     "end_time": "2022-07-21T00:41:54.646266",
     "exception": false,
     "start_time": "2022-07-21T00:41:54.616343",
     "status": "completed"
    },
    "tags": []
   },
   "source": [
    "# Distinguish Your Own Digits (DYOD)"
   ]
  },
  {
   "cell_type": "markdown",
   "id": "ef31240d",
   "metadata": {
    "papermill": {
     "duration": 0.024454,
     "end_time": "2022-07-21T00:41:54.696123",
     "exception": false,
     "start_time": "2022-07-21T00:41:54.671669",
     "status": "completed"
    },
    "tags": []
   },
   "source": [
    "You are going to write a classifier that distinguishes between the number 3 and number 8."
   ]
  },
  {
   "cell_type": "code",
   "execution_count": 1,
   "id": "b15c8646",
   "metadata": {
    "execution": {
     "iopub.execute_input": "2022-07-21T00:41:54.755827Z",
     "iopub.status.busy": "2022-07-21T00:41:54.755181Z",
     "iopub.status.idle": "2022-07-21T00:41:54.767788Z",
     "shell.execute_reply": "2022-07-21T00:41:54.767289Z"
    },
    "papermill": {
     "duration": 0.047677,
     "end_time": "2022-07-21T00:41:54.767935",
     "exception": false,
     "start_time": "2022-07-21T00:41:54.720258",
     "status": "completed"
    },
    "tags": []
   },
   "outputs": [],
   "source": [
    "%load_ext autoreload\n",
    "%autoreload 2"
   ]
  },
  {
   "cell_type": "code",
   "execution_count": 2,
   "id": "22ef38dc",
   "metadata": {
    "execution": {
     "iopub.execute_input": "2022-07-21T00:41:54.821929Z",
     "iopub.status.busy": "2022-07-21T00:41:54.821300Z",
     "iopub.status.idle": "2022-07-21T00:41:55.391832Z",
     "shell.execute_reply": "2022-07-21T00:41:55.391264Z"
    },
    "papermill": {
     "duration": 0.599812,
     "end_time": "2022-07-21T00:41:55.391965",
     "exception": false,
     "start_time": "2022-07-21T00:41:54.792153",
     "status": "completed"
    },
    "tags": []
   },
   "outputs": [],
   "source": [
    "%matplotlib inline\n",
    "import numpy as np\n",
    "import matplotlib.pyplot as plt\n",
    "import pandas as pd"
   ]
  },
  {
   "cell_type": "markdown",
   "id": "ba036198",
   "metadata": {
    "papermill": {
     "duration": 0.02484,
     "end_time": "2022-07-21T00:41:55.440676",
     "exception": false,
     "start_time": "2022-07-21T00:41:55.415836",
     "status": "completed"
    },
    "tags": []
   },
   "source": [
    "From the command line run `pip install mnist`. This is a library that will help you bring down the mnist dataset. If you run this from a notebook, you need to put  `!pip install mnist` in a cell by itself."
   ]
  },
  {
   "cell_type": "code",
   "execution_count": 3,
   "id": "bb6ad8a1",
   "metadata": {
    "execution": {
     "iopub.execute_input": "2022-07-21T00:41:55.493917Z",
     "iopub.status.busy": "2022-07-21T00:41:55.493276Z",
     "iopub.status.idle": "2022-07-21T00:41:57.221254Z",
     "shell.execute_reply": "2022-07-21T00:41:57.221944Z"
    },
    "papermill": {
     "duration": 1.757302,
     "end_time": "2022-07-21T00:41:57.222121",
     "exception": false,
     "start_time": "2022-07-21T00:41:55.464819",
     "status": "completed"
    },
    "tags": []
   },
   "outputs": [
    {
     "name": "stdout",
     "output_type": "stream",
     "text": [
      "Collecting mnist\r\n"
     ]
    },
    {
     "name": "stdout",
     "output_type": "stream",
     "text": [
      "  Downloading mnist-0.2.2-py2.py3-none-any.whl (3.5 kB)\r\n",
      "Requirement already satisfied: numpy in /opt/hostedtoolcache/Python/3.6.15/x64/lib/python3.6/site-packages (from mnist) (1.19.5)\r\n"
     ]
    },
    {
     "name": "stdout",
     "output_type": "stream",
     "text": [
      "Installing collected packages: mnist\r\n"
     ]
    },
    {
     "name": "stdout",
     "output_type": "stream",
     "text": [
      "Successfully installed mnist-0.2.2\r\n"
     ]
    }
   ],
   "source": [
    "!pip install mnist"
   ]
  },
  {
   "cell_type": "markdown",
   "id": "69df9c9a",
   "metadata": {
    "papermill": {
     "duration": 0.025813,
     "end_time": "2022-07-21T00:41:57.273597",
     "exception": false,
     "start_time": "2022-07-21T00:41:57.247784",
     "status": "completed"
    },
    "tags": []
   },
   "source": [
    "## Preparing the Data"
   ]
  },
  {
   "cell_type": "code",
   "execution_count": 4,
   "id": "7f69d806",
   "metadata": {
    "execution": {
     "iopub.execute_input": "2022-07-21T00:41:57.335423Z",
     "iopub.status.busy": "2022-07-21T00:41:57.328026Z",
     "iopub.status.idle": "2022-07-21T00:41:57.345107Z",
     "shell.execute_reply": "2022-07-21T00:41:57.344611Z"
    },
    "papermill": {
     "duration": 0.046712,
     "end_time": "2022-07-21T00:41:57.345264",
     "exception": false,
     "start_time": "2022-07-21T00:41:57.298552",
     "status": "completed"
    },
    "tags": []
   },
   "outputs": [],
   "source": [
    "import mnist"
   ]
  },
  {
   "cell_type": "code",
   "execution_count": 5,
   "id": "a411e44f",
   "metadata": {
    "execution": {
     "iopub.execute_input": "2022-07-21T00:41:57.400970Z",
     "iopub.status.busy": "2022-07-21T00:41:57.400363Z",
     "iopub.status.idle": "2022-07-21T00:41:58.003060Z",
     "shell.execute_reply": "2022-07-21T00:41:58.002501Z"
    },
    "papermill": {
     "duration": 0.632519,
     "end_time": "2022-07-21T00:41:58.003191",
     "exception": false,
     "start_time": "2022-07-21T00:41:57.370672",
     "status": "completed"
    },
    "tags": []
   },
   "outputs": [],
   "source": [
    "train_images = mnist.train_images()\n",
    "train_labels = mnist.train_labels()"
   ]
  },
  {
   "cell_type": "code",
   "execution_count": 6,
   "id": "dceab3a5",
   "metadata": {
    "execution": {
     "iopub.execute_input": "2022-07-21T00:41:58.057362Z",
     "iopub.status.busy": "2022-07-21T00:41:58.056695Z",
     "iopub.status.idle": "2022-07-21T00:41:58.074657Z",
     "shell.execute_reply": "2022-07-21T00:41:58.075171Z"
    },
    "papermill": {
     "duration": 0.046827,
     "end_time": "2022-07-21T00:41:58.075322",
     "exception": false,
     "start_time": "2022-07-21T00:41:58.028495",
     "status": "completed"
    },
    "tags": []
   },
   "outputs": [
    {
     "data": {
      "text/plain": [
       "((60000, 28, 28), (60000,))"
      ]
     },
     "execution_count": 6,
     "metadata": {},
     "output_type": "execute_result"
    }
   ],
   "source": [
    "train_images.shape, train_labels.shape"
   ]
  },
  {
   "cell_type": "code",
   "execution_count": 7,
   "id": "f50dc2bb",
   "metadata": {
    "execution": {
     "iopub.execute_input": "2022-07-21T00:41:58.131346Z",
     "iopub.status.busy": "2022-07-21T00:41:58.130698Z",
     "iopub.status.idle": "2022-07-21T00:41:58.274336Z",
     "shell.execute_reply": "2022-07-21T00:41:58.275245Z"
    },
    "papermill": {
     "duration": 0.174625,
     "end_time": "2022-07-21T00:41:58.275407",
     "exception": false,
     "start_time": "2022-07-21T00:41:58.100782",
     "status": "completed"
    },
    "tags": []
   },
   "outputs": [],
   "source": [
    "test_images = mnist.test_images()\n",
    "test_labels = mnist.test_labels()"
   ]
  },
  {
   "cell_type": "code",
   "execution_count": 8,
   "id": "fc38cf1b",
   "metadata": {
    "execution": {
     "iopub.execute_input": "2022-07-21T00:41:58.331599Z",
     "iopub.status.busy": "2022-07-21T00:41:58.330992Z",
     "iopub.status.idle": "2022-07-21T00:41:58.346903Z",
     "shell.execute_reply": "2022-07-21T00:41:58.346404Z"
    },
    "papermill": {
     "duration": 0.046061,
     "end_time": "2022-07-21T00:41:58.347028",
     "exception": false,
     "start_time": "2022-07-21T00:41:58.300967",
     "status": "completed"
    },
    "tags": []
   },
   "outputs": [
    {
     "data": {
      "text/plain": [
       "((10000, 28, 28), (10000,))"
      ]
     },
     "execution_count": 8,
     "metadata": {},
     "output_type": "execute_result"
    }
   ],
   "source": [
    "test_images.shape, test_labels.shape"
   ]
  },
  {
   "cell_type": "code",
   "execution_count": 9,
   "id": "f9ed8fe0",
   "metadata": {
    "execution": {
     "iopub.execute_input": "2022-07-21T00:41:58.407710Z",
     "iopub.status.busy": "2022-07-21T00:41:58.407090Z",
     "iopub.status.idle": "2022-07-21T00:41:58.556094Z",
     "shell.execute_reply": "2022-07-21T00:41:58.555573Z"
    },
    "papermill": {
     "duration": 0.179434,
     "end_time": "2022-07-21T00:41:58.556230",
     "exception": false,
     "start_time": "2022-07-21T00:41:58.376796",
     "status": "completed"
    },
    "tags": []
   },
   "outputs": [
    {
     "name": "stdout",
     "output_type": "stream",
     "text": [
      "2\n"
     ]
    },
    {
     "data": {
      "text/plain": [
       "<matplotlib.image.AxesImage at 0x7f280e7fc4a8>"
      ]
     },
     "execution_count": 9,
     "metadata": {},
     "output_type": "execute_result"
    },
    {
     "data": {
      "image/png": "[encoded data removed]",
      "text/plain": [
       "<Figure size 432x288 with 1 Axes>"
      ]
     },
     "metadata": {
      "needs_background": "light"
     },
     "output_type": "display_data"
    }
   ],
   "source": [
    "image_index = 7776 # You may select anything up to 60,000\n",
    "print(train_labels[image_index]) \n",
    "plt.imshow(train_images[image_index], cmap='Greys')"
   ]
  },
  {
   "cell_type": "markdown",
   "id": "a8d2388d",
   "metadata": {
    "papermill": {
     "duration": 0.027017,
     "end_time": "2022-07-21T00:41:58.610227",
     "exception": false,
     "start_time": "2022-07-21T00:41:58.583210",
     "status": "completed"
    },
    "tags": []
   },
   "source": [
    "## Filter data to get 3 and 8 out"
   ]
  },
  {
   "cell_type": "code",
   "execution_count": 10,
   "id": "776f7fc7",
   "metadata": {
    "execution": {
     "iopub.execute_input": "2022-07-21T00:41:58.669270Z",
     "iopub.status.busy": "2022-07-21T00:41:58.668586Z",
     "iopub.status.idle": "2022-07-21T00:41:58.689273Z",
     "shell.execute_reply": "2022-07-21T00:41:58.689818Z"
    },
    "papermill": {
     "duration": 0.052896,
     "end_time": "2022-07-21T00:41:58.689973",
     "exception": false,
     "start_time": "2022-07-21T00:41:58.637077",
     "status": "completed"
    },
    "tags": []
   },
   "outputs": [],
   "source": [
    "train_filter = np.where((train_labels == 3 ) | (train_labels == 8))\n",
    "test_filter = np.where((test_labels == 3) | (test_labels == 8))\n",
    "X_train, y_train = train_images[train_filter], train_labels[train_filter]\n",
    "X_test, y_test = test_images[test_filter], test_labels[test_filter]"
   ]
  },
  {
   "cell_type": "markdown",
   "id": "948f0b7e",
   "metadata": {
    "papermill": {
     "duration": 0.02662,
     "end_time": "2022-07-21T00:41:58.743597",
     "exception": false,
     "start_time": "2022-07-21T00:41:58.716977",
     "status": "completed"
    },
    "tags": []
   },
   "source": [
    "We normalize the pizel values in the 0 to 1 range"
   ]
  },
  {
   "cell_type": "code",
   "execution_count": 11,
   "id": "ee4c2166",
   "metadata": {
    "execution": {
     "iopub.execute_input": "2022-07-21T00:41:58.808230Z",
     "iopub.status.busy": "2022-07-21T00:41:58.807586Z",
     "iopub.status.idle": "2022-07-21T00:41:58.857596Z",
     "shell.execute_reply": "2022-07-21T00:41:58.858108Z"
    },
    "papermill": {
     "duration": 0.08802,
     "end_time": "2022-07-21T00:41:58.858265",
     "exception": false,
     "start_time": "2022-07-21T00:41:58.770245",
     "status": "completed"
    },
    "tags": []
   },
   "outputs": [],
   "source": [
    "X_train = X_train/255.\n",
    "X_test = X_test/255."
   ]
  },
  {
   "cell_type": "markdown",
   "id": "ddcf4fab",
   "metadata": {
    "papermill": {
     "duration": 0.027727,
     "end_time": "2022-07-21T00:41:58.913653",
     "exception": false,
     "start_time": "2022-07-21T00:41:58.885926",
     "status": "completed"
    },
    "tags": []
   },
   "source": [
    "And setup the labels as 1 (when the digit is 3) and 0 (when the digit is 8)"
   ]
  },
  {
   "cell_type": "code",
   "execution_count": 12,
   "id": "7dc908f2",
   "metadata": {
    "execution": {
     "iopub.execute_input": "2022-07-21T00:41:58.976487Z",
     "iopub.status.busy": "2022-07-21T00:41:58.975858Z",
     "iopub.status.idle": "2022-07-21T00:41:58.989886Z",
     "shell.execute_reply": "2022-07-21T00:41:58.989350Z"
    },
    "papermill": {
     "duration": 0.04977,
     "end_time": "2022-07-21T00:41:58.990021",
     "exception": false,
     "start_time": "2022-07-21T00:41:58.940251",
     "status": "completed"
    },
    "tags": []
   },
   "outputs": [],
   "source": [
    "y_train = 1*(y_train==3)\n",
    "y_test = 1*(y_test==3)"
   ]
  },
  {
   "cell_type": "code",
   "execution_count": 13,
   "id": "01e4e969",
   "metadata": {
    "execution": {
     "iopub.execute_input": "2022-07-21T00:41:59.054699Z",
     "iopub.status.busy": "2022-07-21T00:41:59.054034Z",
     "iopub.status.idle": "2022-07-21T00:41:59.064769Z",
     "shell.execute_reply": "2022-07-21T00:41:59.064285Z"
    },
    "papermill": {
     "duration": 0.047835,
     "end_time": "2022-07-21T00:41:59.064901",
     "exception": false,
     "start_time": "2022-07-21T00:41:59.017066",
     "status": "completed"
    },
    "tags": []
   },
   "outputs": [
    {
     "data": {
      "text/plain": [
       "((11982, 28, 28), (1984, 28, 28))"
      ]
     },
     "execution_count": 13,
     "metadata": {},
     "output_type": "execute_result"
    }
   ],
   "source": [
    "X_train.shape, X_test.shape"
   ]
  },
  {
   "cell_type": "markdown",
   "id": "5ccf3f85",
   "metadata": {
    "papermill": {
     "duration": 0.027303,
     "end_time": "2022-07-21T00:41:59.119330",
     "exception": false,
     "start_time": "2022-07-21T00:41:59.092027",
     "status": "completed"
    },
    "tags": []
   },
   "source": [
    "We reshape the data to flatten the image pixels into a set of features or co-variates:"
   ]
  },
  {
   "cell_type": "code",
   "execution_count": 14,
   "id": "5286a4a3",
   "metadata": {
    "execution": {
     "iopub.execute_input": "2022-07-21T00:41:59.181249Z",
     "iopub.status.busy": "2022-07-21T00:41:59.180562Z",
     "iopub.status.idle": "2022-07-21T00:41:59.197197Z",
     "shell.execute_reply": "2022-07-21T00:41:59.197905Z"
    },
    "papermill": {
     "duration": 0.051438,
     "end_time": "2022-07-21T00:41:59.198067",
     "exception": false,
     "start_time": "2022-07-21T00:41:59.146629",
     "status": "completed"
    },
    "tags": []
   },
   "outputs": [
    {
     "data": {
      "text/plain": [
       "((11982, 784), (1984, 784))"
      ]
     },
     "execution_count": 14,
     "metadata": {},
     "output_type": "execute_result"
    }
   ],
   "source": [
    "X_train = X_train.reshape(X_train.shape[0], -1)\n",
    "X_test = X_test.reshape(X_test.shape[0], -1)\n",
    "X_train.shape, X_test.shape"
   ]
  },
  {
   "cell_type": "code",
   "execution_count": 15,
   "id": "73c5f88a",
   "metadata": {
    "execution": {
     "iopub.execute_input": "2022-07-21T00:41:59.261519Z",
     "iopub.status.busy": "2022-07-21T00:41:59.260848Z",
     "iopub.status.idle": "2022-07-21T00:41:59.280586Z",
     "shell.execute_reply": "2022-07-21T00:41:59.280081Z"
    },
    "papermill": {
     "duration": 0.055226,
     "end_time": "2022-07-21T00:41:59.280717",
     "exception": false,
     "start_time": "2022-07-21T00:41:59.225491",
     "status": "completed"
    },
    "tags": []
   },
   "outputs": [],
   "source": [
    "#Impoting functions from 'Kudzu'\n",
    "from kudzu.model import Model\n",
    "from kudzu.train import Learner\n",
    "from kudzu.optim import GD\n",
    "from kudzu.data import Data, Sampler,Dataloader\n",
    "\n",
    "from kudzu.callbacks import AccCallback\n",
    "from kudzu.callbacks import ClfCallback\n",
    "\n",
    "from kudzu.loss import MSE\n",
    "\n",
    "from kudzu.layer import Sigmoid,Relu\n",
    "from kudzu.layer import Affine"
   ]
  },
  {
   "cell_type": "markdown",
   "id": "bc01172a",
   "metadata": {
    "papermill": {
     "duration": 0.027213,
     "end_time": "2022-07-21T00:41:59.335483",
     "exception": false,
     "start_time": "2022-07-21T00:41:59.308270",
     "status": "completed"
    },
    "tags": []
   },
   "source": [
    "### Let us create a `Config` class, to store important parameters. \n",
    "This class essentially plays the role of a dictionary."
   ]
  },
  {
   "cell_type": "code",
   "execution_count": 16,
   "id": "978281aa",
   "metadata": {
    "execution": {
     "iopub.execute_input": "2022-07-21T00:41:59.394592Z",
     "iopub.status.busy": "2022-07-21T00:41:59.393972Z",
     "iopub.status.idle": "2022-07-21T00:41:59.409533Z",
     "shell.execute_reply": "2022-07-21T00:41:59.409011Z"
    },
    "papermill": {
     "duration": 0.046888,
     "end_time": "2022-07-21T00:41:59.409662",
     "exception": false,
     "start_time": "2022-07-21T00:41:59.362774",
     "status": "completed"
    },
    "tags": []
   },
   "outputs": [],
   "source": [
    "class Config:\n",
    "    pass\n",
    "config = Config()\n",
    "config.lr = 0.001\n",
    "config.num_epochs = 250\n",
    "config.bs = 50"
   ]
  },
  {
   "cell_type": "markdown",
   "id": "1385fa59",
   "metadata": {
    "papermill": {
     "duration": 0.02721,
     "end_time": "2022-07-21T00:41:59.464467",
     "exception": false,
     "start_time": "2022-07-21T00:41:59.437257",
     "status": "completed"
    },
    "tags": []
   },
   "source": [
    "### Running Models with the Training data\n",
    "Details about the network layers:\n",
    "- A first affine layer has 784 inputs and does 100 affine transforms. These are followed by a Relu\n",
    "- A second affine layer has 100 inputs from the 100 activations of the past layer, and does 100 affine transforms. These are followed by a Relu\n",
    "- A third affine layer has 100 activations and does 2 affine transformations to create an embedding for visualization. There is no non-linearity here.\n",
    "- A final \"logistic regression\" which has an affine transform from 2 inputs to 1 output, which is squeezed through a sigmoid.\n"
   ]
  },
  {
   "cell_type": "code",
   "execution_count": 17,
   "id": "2b9c66db",
   "metadata": {
    "execution": {
     "iopub.execute_input": "2022-07-21T00:41:59.524363Z",
     "iopub.status.busy": "2022-07-21T00:41:59.523749Z",
     "iopub.status.idle": "2022-07-21T00:41:59.538940Z",
     "shell.execute_reply": "2022-07-21T00:41:59.538455Z"
    },
    "papermill": {
     "duration": 0.046702,
     "end_time": "2022-07-21T00:41:59.539070",
     "exception": false,
     "start_time": "2022-07-21T00:41:59.492368",
     "status": "completed"
    },
    "tags": []
   },
   "outputs": [],
   "source": [
    "data = Data(X_train, y_train.reshape(-1,1))\n",
    "sampler = Sampler(data, config.bs, shuffle=True)\n",
    "\n",
    "dl = Dataloader(data, sampler)\n",
    "\n",
    "opt = GD(config.lr)\n",
    "loss = MSE()"
   ]
  },
  {
   "cell_type": "code",
   "execution_count": 18,
   "id": "b275e4c2",
   "metadata": {
    "execution": {
     "iopub.execute_input": "2022-07-21T00:41:59.599285Z",
     "iopub.status.busy": "2022-07-21T00:41:59.598670Z",
     "iopub.status.idle": "2022-07-21T00:41:59.613204Z",
     "shell.execute_reply": "2022-07-21T00:41:59.612712Z"
    },
    "papermill": {
     "duration": 0.046815,
     "end_time": "2022-07-21T00:41:59.613333",
     "exception": false,
     "start_time": "2022-07-21T00:41:59.566518",
     "status": "completed"
    },
    "tags": []
   },
   "outputs": [],
   "source": [
    "training_data_x = X_train\n",
    "testing_data_x = X_test\n",
    "training_data_y = y_train.reshape(-1,1)\n",
    "testing_data_y = y_test.reshape(-1,1)"
   ]
  },
  {
   "cell_type": "code",
   "execution_count": 19,
   "id": "76951160",
   "metadata": {
    "execution": {
     "iopub.execute_input": "2022-07-21T00:41:59.677989Z",
     "iopub.status.busy": "2022-07-21T00:41:59.677247Z",
     "iopub.status.idle": "2022-07-21T00:41:59.694899Z",
     "shell.execute_reply": "2022-07-21T00:41:59.694402Z"
    },
    "papermill": {
     "duration": 0.054586,
     "end_time": "2022-07-21T00:41:59.695022",
     "exception": false,
     "start_time": "2022-07-21T00:41:59.640436",
     "status": "completed"
    },
    "tags": []
   },
   "outputs": [
    {
     "name": "stdout",
     "output_type": "stream",
     "text": [
      "xavier\n",
      "xavier\n",
      "xavier\n",
      "xavier\n",
      "xavier\n"
     ]
    }
   ],
   "source": [
    "layers = [Affine(\"first\", 784, 100), Relu(\"first\"), Affine(\"second\", 100, 100), Relu(\"second\"), Affine(\"third\", 100, 2), Affine(\"last\", 2, 1), Sigmoid(\"last\")]\n",
    "model_nn = Model(layers)\n",
    "model_lr = Model([Affine(\"logits\", 784, 1), Sigmoid(\"sigmoid\")])"
   ]
  },
  {
   "cell_type": "code",
   "execution_count": 20,
   "id": "6eede77a",
   "metadata": {
    "execution": {
     "iopub.execute_input": "2022-07-21T00:41:59.758566Z",
     "iopub.status.busy": "2022-07-21T00:41:59.757941Z",
     "iopub.status.idle": "2022-07-21T00:41:59.771627Z",
     "shell.execute_reply": "2022-07-21T00:41:59.771108Z"
    },
    "papermill": {
     "duration": 0.048884,
     "end_time": "2022-07-21T00:41:59.771753",
     "exception": false,
     "start_time": "2022-07-21T00:41:59.722869",
     "status": "completed"
    },
    "tags": []
   },
   "outputs": [],
   "source": [
    "nn_learner = Learner(loss, model_nn, opt, config.num_epochs)\n",
    "acc_nn = ClfCallback(nn_learner, config.bs, training_data_x , testing_data_x, training_data_y, testing_data_y)\n",
    "nn_learner.set_callbacks([acc_nn])"
   ]
  },
  {
   "cell_type": "code",
   "execution_count": 21,
   "id": "877b6cc7",
   "metadata": {
    "execution": {
     "iopub.execute_input": "2022-07-21T00:41:59.832295Z",
     "iopub.status.busy": "2022-07-21T00:41:59.831676Z",
     "iopub.status.idle": "2022-07-21T00:41:59.845448Z",
     "shell.execute_reply": "2022-07-21T00:41:59.845918Z"
    },
    "papermill": {
     "duration": 0.046485,
     "end_time": "2022-07-21T00:41:59.846070",
     "exception": false,
     "start_time": "2022-07-21T00:41:59.799585",
     "status": "completed"
    },
    "tags": []
   },
   "outputs": [],
   "source": [
    "lr_learner = Learner(loss, model_lr, opt, config.num_epochs)\n",
    "acc_lr = ClfCallback(lr_learner, config.bs, training_data_x , testing_data_x, training_data_y, testing_data_y)\n",
    "lr_learner.set_callbacks([acc_lr])"
   ]
  },
  {
   "cell_type": "code",
   "execution_count": 22,
   "id": "d9b133c3",
   "metadata": {
    "execution": {
     "iopub.execute_input": "2022-07-21T00:41:59.906560Z",
     "iopub.status.busy": "2022-07-21T00:41:59.905938Z",
     "iopub.status.idle": "2022-07-21T00:43:17.234305Z",
     "shell.execute_reply": "2022-07-21T00:43:17.235169Z"
    },
    "papermill": {
     "duration": 77.361537,
     "end_time": "2022-07-21T00:43:17.235317",
     "exception": false,
     "start_time": "2022-07-21T00:41:59.873780",
     "status": "completed"
    },
    "tags": []
   },
   "outputs": [
    {
     "name": "stdout",
     "output_type": "stream",
     "text": [
      "Epoch 0, Loss 0.2431\n",
      "Training Accuracy: 0.6722, Testing Accuracy: 0.7016\n",
      "\n"
     ]
    },
    {
     "name": "stdout",
     "output_type": "stream",
     "text": [
      "Epoch 10, Loss 0.1034\n",
      "Training Accuracy: 0.9115, Testing Accuracy: 0.9199\n",
      "\n"
     ]
    },
    {
     "name": "stdout",
     "output_type": "stream",
     "text": [
      "Epoch 20, Loss 0.0581\n",
      "Training Accuracy: 0.9433, Testing Accuracy: 0.9516\n",
      "\n"
     ]
    },
    {
     "name": "stdout",
     "output_type": "stream",
     "text": [
      "Epoch 30, Loss 0.0441\n",
      "Training Accuracy: 0.9548, Testing Accuracy: 0.9612\n",
      "\n"
     ]
    },
    {
     "name": "stdout",
     "output_type": "stream",
     "text": [
      "Epoch 40, Loss 0.0378\n",
      "Training Accuracy: 0.9592, Testing Accuracy: 0.9652\n",
      "\n"
     ]
    },
    {
     "name": "stdout",
     "output_type": "stream",
     "text": [
      "Epoch 50, Loss 0.0342\n",
      "Training Accuracy: 0.9615, Testing Accuracy: 0.9693\n",
      "\n"
     ]
    },
    {
     "name": "stdout",
     "output_type": "stream",
     "text": [
      "Epoch 60, Loss 0.0319\n",
      "Training Accuracy: 0.9637, Testing Accuracy: 0.9693\n",
      "\n"
     ]
    },
    {
     "name": "stdout",
     "output_type": "stream",
     "text": [
      "Epoch 70, Loss 0.0301\n",
      "Training Accuracy: 0.9649, Testing Accuracy: 0.9693\n",
      "\n"
     ]
    },
    {
     "name": "stdout",
     "output_type": "stream",
     "text": [
      "Epoch 80, Loss 0.0288\n",
      "Training Accuracy: 0.9664, Testing Accuracy: 0.9693\n",
      "\n"
     ]
    },
    {
     "name": "stdout",
     "output_type": "stream",
     "text": [
      "Epoch 90, Loss 0.0277\n",
      "Training Accuracy: 0.9681, Testing Accuracy: 0.9698\n",
      "\n"
     ]
    },
    {
     "name": "stdout",
     "output_type": "stream",
     "text": [
      "Epoch 100, Loss 0.0267\n",
      "Training Accuracy: 0.9695, Testing Accuracy: 0.9688\n",
      "\n"
     ]
    },
    {
     "name": "stdout",
     "output_type": "stream",
     "text": [
      "Epoch 110, Loss 0.0259\n",
      "Training Accuracy: 0.9701, Testing Accuracy: 0.9693\n",
      "\n"
     ]
    },
    {
     "name": "stdout",
     "output_type": "stream",
     "text": [
      "Epoch 120, Loss 0.0252\n",
      "Training Accuracy: 0.9711, Testing Accuracy: 0.9698\n",
      "\n"
     ]
    },
    {
     "name": "stdout",
     "output_type": "stream",
     "text": [
      "Epoch 130, Loss 0.0245\n",
      "Training Accuracy: 0.9722, Testing Accuracy: 0.9708\n",
      "\n"
     ]
    },
    {
     "name": "stdout",
     "output_type": "stream",
     "text": [
      "Epoch 140, Loss 0.024\n",
      "Training Accuracy: 0.9733, Testing Accuracy: 0.9718\n",
      "\n"
     ]
    },
    {
     "name": "stdout",
     "output_type": "stream",
     "text": [
      "Epoch 150, Loss 0.0234\n",
      "Training Accuracy: 0.9739, Testing Accuracy: 0.9713\n",
      "\n"
     ]
    },
    {
     "name": "stdout",
     "output_type": "stream",
     "text": [
      "Epoch 160, Loss 0.0229\n",
      "Training Accuracy: 0.9743, Testing Accuracy: 0.9713\n",
      "\n"
     ]
    },
    {
     "name": "stdout",
     "output_type": "stream",
     "text": [
      "Epoch 170, Loss 0.0225\n",
      "Training Accuracy: 0.9745, Testing Accuracy: 0.9713\n",
      "\n"
     ]
    },
    {
     "name": "stdout",
     "output_type": "stream",
     "text": [
      "Epoch 180, Loss 0.022\n",
      "Training Accuracy: 0.9750, Testing Accuracy: 0.9718\n",
      "\n"
     ]
    },
    {
     "name": "stdout",
     "output_type": "stream",
     "text": [
      "Epoch 190, Loss 0.0216\n",
      "Training Accuracy: 0.9760, Testing Accuracy: 0.9723\n",
      "\n"
     ]
    },
    {
     "name": "stdout",
     "output_type": "stream",
     "text": [
      "Epoch 200, Loss 0.0212\n",
      "Training Accuracy: 0.9763, Testing Accuracy: 0.9733\n",
      "\n"
     ]
    },
    {
     "name": "stdout",
     "output_type": "stream",
     "text": [
      "Epoch 210, Loss 0.0209\n",
      "Training Accuracy: 0.9769, Testing Accuracy: 0.9733\n",
      "\n"
     ]
    },
    {
     "name": "stdout",
     "output_type": "stream",
     "text": [
      "Epoch 220, Loss 0.0205\n",
      "Training Accuracy: 0.9773, Testing Accuracy: 0.9733\n",
      "\n"
     ]
    },
    {
     "name": "stdout",
     "output_type": "stream",
     "text": [
      "Epoch 230, Loss 0.0202\n",
      "Training Accuracy: 0.9781, Testing Accuracy: 0.9733\n",
      "\n"
     ]
    },
    {
     "name": "stdout",
     "output_type": "stream",
     "text": [
      "Epoch 240, Loss 0.0199\n",
      "Training Accuracy: 0.9783, Testing Accuracy: 0.9733\n",
      "\n"
     ]
    },
    {
     "data": {
      "text/plain": [
       "0.0006373156141906192"
      ]
     },
     "execution_count": 22,
     "metadata": {},
     "output_type": "execute_result"
    }
   ],
   "source": [
    "nn_learner.train_loop(dl)"
   ]
  },
  {
   "cell_type": "code",
   "execution_count": 23,
   "id": "e0163366",
   "metadata": {
    "execution": {
     "iopub.execute_input": "2022-07-21T00:43:17.322865Z",
     "iopub.status.busy": "2022-07-21T00:43:17.322223Z",
     "iopub.status.idle": "2022-07-21T00:43:30.862273Z",
     "shell.execute_reply": "2022-07-21T00:43:30.863146Z"
    },
    "papermill": {
     "duration": 13.591716,
     "end_time": "2022-07-21T00:43:30.863300",
     "exception": false,
     "start_time": "2022-07-21T00:43:17.271584",
     "status": "completed"
    },
    "tags": []
   },
   "outputs": [
    {
     "name": "stdout",
     "output_type": "stream",
     "text": [
      "Epoch 0, Loss 0.2211\n",
      "Training Accuracy: 0.7715, Testing Accuracy: 0.7878\n",
      "\n"
     ]
    },
    {
     "name": "stdout",
     "output_type": "stream",
     "text": [
      "Epoch 10, Loss 0.1001\n",
      "Training Accuracy: 0.9115, Testing Accuracy: 0.9214\n",
      "\n"
     ]
    },
    {
     "name": "stdout",
     "output_type": "stream",
     "text": [
      "Epoch 20, Loss 0.078\n",
      "Training Accuracy: 0.9301, Testing Accuracy: 0.9380\n",
      "\n"
     ]
    },
    {
     "name": "stdout",
     "output_type": "stream",
     "text": [
      "Epoch 30, Loss 0.0675\n",
      "Training Accuracy: 0.9376, Testing Accuracy: 0.9471\n",
      "\n"
     ]
    },
    {
     "name": "stdout",
     "output_type": "stream",
     "text": [
      "Epoch 40, Loss 0.061\n",
      "Training Accuracy: 0.9427, Testing Accuracy: 0.9501\n",
      "\n"
     ]
    },
    {
     "name": "stdout",
     "output_type": "stream",
     "text": [
      "Epoch 50, Loss 0.0566\n",
      "Training Accuracy: 0.9464, Testing Accuracy: 0.9531\n",
      "\n"
     ]
    },
    {
     "name": "stdout",
     "output_type": "stream",
     "text": [
      "Epoch 60, Loss 0.0534\n",
      "Training Accuracy: 0.9482, Testing Accuracy: 0.9567\n",
      "\n"
     ]
    },
    {
     "name": "stdout",
     "output_type": "stream",
     "text": [
      "Epoch 70, Loss 0.0509\n",
      "Training Accuracy: 0.9498, Testing Accuracy: 0.9597\n",
      "\n"
     ]
    },
    {
     "name": "stdout",
     "output_type": "stream",
     "text": [
      "Epoch 80, Loss 0.0488\n",
      "Training Accuracy: 0.9514, Testing Accuracy: 0.9612\n",
      "\n"
     ]
    },
    {
     "name": "stdout",
     "output_type": "stream",
     "text": [
      "Epoch 90, Loss 0.0472\n",
      "Training Accuracy: 0.9523, Testing Accuracy: 0.9617\n",
      "\n"
     ]
    },
    {
     "name": "stdout",
     "output_type": "stream",
     "text": [
      "Epoch 100, Loss 0.0458\n",
      "Training Accuracy: 0.9534, Testing Accuracy: 0.9627\n",
      "\n"
     ]
    },
    {
     "name": "stdout",
     "output_type": "stream",
     "text": [
      "Epoch 110, Loss 0.0446\n",
      "Training Accuracy: 0.9543, Testing Accuracy: 0.9642\n",
      "\n"
     ]
    },
    {
     "name": "stdout",
     "output_type": "stream",
     "text": [
      "Epoch 120, Loss 0.0436\n",
      "Training Accuracy: 0.9554, Testing Accuracy: 0.9647\n",
      "\n"
     ]
    },
    {
     "name": "stdout",
     "output_type": "stream",
     "text": [
      "Epoch 130, Loss 0.0426\n",
      "Training Accuracy: 0.9562, Testing Accuracy: 0.9637\n",
      "\n"
     ]
    },
    {
     "name": "stdout",
     "output_type": "stream",
     "text": [
      "Epoch 140, Loss 0.0418\n",
      "Training Accuracy: 0.9569, Testing Accuracy: 0.9657\n",
      "\n"
     ]
    },
    {
     "name": "stdout",
     "output_type": "stream",
     "text": [
      "Epoch 150, Loss 0.0411\n",
      "Training Accuracy: 0.9572, Testing Accuracy: 0.9662\n",
      "\n"
     ]
    },
    {
     "name": "stdout",
     "output_type": "stream",
     "text": [
      "Epoch 160, Loss 0.0404\n",
      "Training Accuracy: 0.9574, Testing Accuracy: 0.9667\n",
      "\n"
     ]
    },
    {
     "name": "stdout",
     "output_type": "stream",
     "text": [
      "Epoch 170, Loss 0.0398\n",
      "Training Accuracy: 0.9577, Testing Accuracy: 0.9667\n",
      "\n"
     ]
    },
    {
     "name": "stdout",
     "output_type": "stream",
     "text": [
      "Epoch 180, Loss 0.0393\n",
      "Training Accuracy: 0.9584, Testing Accuracy: 0.9667\n",
      "\n"
     ]
    },
    {
     "name": "stdout",
     "output_type": "stream",
     "text": [
      "Epoch 190, Loss 0.0388\n",
      "Training Accuracy: 0.9592, Testing Accuracy: 0.9667\n",
      "\n"
     ]
    },
    {
     "name": "stdout",
     "output_type": "stream",
     "text": [
      "Epoch 200, Loss 0.0383\n",
      "Training Accuracy: 0.9594, Testing Accuracy: 0.9657\n",
      "\n"
     ]
    },
    {
     "name": "stdout",
     "output_type": "stream",
     "text": [
      "Epoch 210, Loss 0.0379\n",
      "Training Accuracy: 0.9599, Testing Accuracy: 0.9662\n",
      "\n"
     ]
    },
    {
     "name": "stdout",
     "output_type": "stream",
     "text": [
      "Epoch 220, Loss 0.0375\n",
      "Training Accuracy: 0.9602, Testing Accuracy: 0.9662\n",
      "\n"
     ]
    },
    {
     "name": "stdout",
     "output_type": "stream",
     "text": [
      "Epoch 230, Loss 0.0371\n",
      "Training Accuracy: 0.9604, Testing Accuracy: 0.9667\n",
      "\n"
     ]
    },
    {
     "name": "stdout",
     "output_type": "stream",
     "text": [
      "Epoch 240, Loss 0.0368\n",
      "Training Accuracy: 0.9605, Testing Accuracy: 0.9672\n",
      "\n"
     ]
    },
    {
     "data": {
      "text/plain": [
       "0.016917910678251998"
      ]
     },
     "execution_count": 23,
     "metadata": {},
     "output_type": "execute_result"
    }
   ],
   "source": [
    "lr_learner.train_loop(dl)"
   ]
  },
  {
   "cell_type": "code",
   "execution_count": 24,
   "id": "ca410940",
   "metadata": {
    "execution": {
     "iopub.execute_input": "2022-07-21T00:43:30.958891Z",
     "iopub.status.busy": "2022-07-21T00:43:30.958249Z",
     "iopub.status.idle": "2022-07-21T00:43:31.191984Z",
     "shell.execute_reply": "2022-07-21T00:43:31.191474Z"
    },
    "papermill": {
     "duration": 0.287301,
     "end_time": "2022-07-21T00:43:31.192112",
     "exception": false,
     "start_time": "2022-07-21T00:43:30.904811",
     "status": "completed"
    },
    "tags": []
   },
   "outputs": [
    {
     "data": {
      "text/plain": [
       "<matplotlib.legend.Legend at 0x7f280e35bb38>"
      ]
     },
     "execution_count": 24,
     "metadata": {},
     "output_type": "execute_result"
    },
    {
     "data": {
      "image/png": "[encoded data removed]",
      "text/plain": [
       "<Figure size 1080x720 with 1 Axes>"
      ]
     },
     "metadata": {
      "needs_background": "light"
     },
     "output_type": "display_data"
    }
   ],
   "source": [
    "#comparing the results of NN and LR\n",
    "plt.figure(figsize=(15,10))\n",
    "\n",
    "# Neural Network plots\n",
    "plt.plot(acc_nn.accuracies, 'r-', label = \"Training Accuracies - NN\")\n",
    "plt.plot(acc_nn.test_accuracies, 'g-', label = \"Testing Accuracies - NN\")\n",
    "\n",
    "# Logistic Regression plots\n",
    "plt.plot(acc_lr.accuracies, 'k-', label = \"Training Accuracies - LR\")\n",
    "plt.plot(acc_lr.test_accuracies, 'b-', label = \"Testing Accuracies - LR\")\n",
    "plt.legend()"
   ]
  },
  {
   "cell_type": "markdown",
   "id": "80dfb35c",
   "metadata": {
    "papermill": {
     "duration": 0.042156,
     "end_time": "2022-07-21T00:43:31.276981",
     "exception": false,
     "start_time": "2022-07-21T00:43:31.234825",
     "status": "completed"
    },
    "tags": []
   },
   "source": [
    "#### Plotting the outputs of this layer of the NN.\n"
   ]
  },
  {
   "cell_type": "code",
   "execution_count": 25,
   "id": "45eb2ff5",
   "metadata": {
    "execution": {
     "iopub.execute_input": "2022-07-21T00:43:31.367216Z",
     "iopub.status.busy": "2022-07-21T00:43:31.366598Z",
     "iopub.status.idle": "2022-07-21T00:43:31.388587Z",
     "shell.execute_reply": "2022-07-21T00:43:31.388048Z"
    },
    "papermill": {
     "duration": 0.069059,
     "end_time": "2022-07-21T00:43:31.388711",
     "exception": false,
     "start_time": "2022-07-21T00:43:31.319652",
     "status": "completed"
    },
    "tags": []
   },
   "outputs": [],
   "source": [
    "new_model = Model(layers[:-2])\n",
    "testing_plot = new_model(testing_data_x)"
   ]
  },
  {
   "cell_type": "code",
   "execution_count": 26,
   "id": "4c0a5485",
   "metadata": {
    "execution": {
     "iopub.execute_input": "2022-07-21T00:43:31.478345Z",
     "iopub.status.busy": "2022-07-21T00:43:31.477725Z",
     "iopub.status.idle": "2022-07-21T00:43:31.701859Z",
     "shell.execute_reply": "2022-07-21T00:43:31.702325Z"
    },
    "papermill": {
     "duration": 0.27131,
     "end_time": "2022-07-21T00:43:31.702470",
     "exception": false,
     "start_time": "2022-07-21T00:43:31.431160",
     "status": "completed"
    },
    "tags": []
   },
   "outputs": [
    {
     "data": {
      "text/plain": [
       "Text(0.5, 1.0, 'Outputs')"
      ]
     },
     "execution_count": 26,
     "metadata": {},
     "output_type": "execute_result"
    },
    {
     "data": {
      "image/png": "[encoded data removed]",
      "text/plain": [
       "<Figure size 576x504 with 1 Axes>"
      ]
     },
     "metadata": {
      "needs_background": "light"
     },
     "output_type": "display_data"
    }
   ],
   "source": [
    "# Plotting the scatter plot of points and color coding by class\n",
    "plt.figure(figsize=(8,7))\n",
    "plt.scatter(testing_plot[:,0], testing_plot[:,1], alpha = 0.1, c = y_test.ravel());\n",
    "plt.title('Outputs')"
   ]
  },
  {
   "cell_type": "markdown",
   "id": "a74fcf8f",
   "metadata": {
    "papermill": {
     "duration": 0.044523,
     "end_time": "2022-07-21T00:43:31.792059",
     "exception": false,
     "start_time": "2022-07-21T00:43:31.747536",
     "status": "completed"
    },
    "tags": []
   },
   "source": [
    "Probability contours"
   ]
  },
  {
   "cell_type": "code",
   "execution_count": 27,
   "id": "d0afc8e3",
   "metadata": {
    "execution": {
     "iopub.execute_input": "2022-07-21T00:43:31.917460Z",
     "iopub.status.busy": "2022-07-21T00:43:31.916715Z",
     "iopub.status.idle": "2022-07-21T00:43:31.929946Z",
     "shell.execute_reply": "2022-07-21T00:43:31.930406Z"
    },
    "papermill": {
     "duration": 0.091155,
     "end_time": "2022-07-21T00:43:31.930559",
     "exception": false,
     "start_time": "2022-07-21T00:43:31.839404",
     "status": "completed"
    },
    "tags": []
   },
   "outputs": [],
   "source": [
    "model_prob = Model(layers[-2:]) "
   ]
  },
  {
   "cell_type": "code",
   "execution_count": 28,
   "id": "9b96e238",
   "metadata": {
    "execution": {
     "iopub.execute_input": "2022-07-21T00:43:32.027642Z",
     "iopub.status.busy": "2022-07-21T00:43:32.027018Z",
     "iopub.status.idle": "2022-07-21T00:43:32.042003Z",
     "shell.execute_reply": "2022-07-21T00:43:32.042449Z"
    },
    "papermill": {
     "duration": 0.065335,
     "end_time": "2022-07-21T00:43:32.042600",
     "exception": false,
     "start_time": "2022-07-21T00:43:31.977265",
     "status": "completed"
    },
    "tags": []
   },
   "outputs": [],
   "source": [
    "#creating the x and y ranges according to the above generated plot.\n",
    "x_range = np.linspace(-4, 1, 100) \n",
    "y_range = np.linspace(-6, 6, 100) \n",
    "x_grid, y_grid = np.meshgrid(x_range, y_range) # x_grid and y_grig are of size 100 X 100\n",
    "\n",
    "# converting x_grid and y_grid to continuous arrays\n",
    "x_gridflat = np.ravel(x_grid)\n",
    "y_gridflat = np.ravel(y_grid)\n",
    "\n",
    "# The last layer of the current model takes two columns as input. Hence transpose of np.vstack() is required.\n",
    "X = np.vstack((x_gridflat, y_gridflat)).T\n",
    "\n",
    "prob_contour = model_prob(X).reshape(100,100) "
   ]
  },
  {
   "cell_type": "code",
   "execution_count": 29,
   "id": "da72499a",
   "metadata": {
    "execution": {
     "iopub.execute_input": "2022-07-21T00:43:32.164729Z",
     "iopub.status.busy": "2022-07-21T00:43:32.150072Z",
     "iopub.status.idle": "2022-07-21T00:43:32.420335Z",
     "shell.execute_reply": "2022-07-21T00:43:32.419855Z"
    },
    "papermill": {
     "duration": 0.331711,
     "end_time": "2022-07-21T00:43:32.420463",
     "exception": false,
     "start_time": "2022-07-21T00:43:32.088752",
     "status": "completed"
    },
    "tags": []
   },
   "outputs": [
    {
     "data": {
      "image/png": "[encoded data removed]",
      "text/plain": [
       "<Figure size 720x648 with 1 Axes>"
      ]
     },
     "metadata": {
      "needs_background": "light"
     },
     "output_type": "display_data"
    }
   ],
   "source": [
    "plt.figure(figsize=(10,9))\n",
    "plt.scatter(testing_plot[:,0], testing_plot[:,1], alpha = 0.1, c = y_test.ravel())\n",
    "contours = plt.contour(x_grid,y_grid,prob_contour)\n",
    "plt.title('Probability Contours')\n",
    "plt.clabel(contours, inline = True );"
   ]
  },
  {
   "cell_type": "code",
   "execution_count": null,
   "id": "e81b4ac7",
   "metadata": {
    "papermill": {
     "duration": 0.047847,
     "end_time": "2022-07-21T00:43:32.516553",
     "exception": false,
     "start_time": "2022-07-21T00:43:32.468706",
     "status": "completed"
    },
    "tags": []
   },
   "outputs": [],
   "source": []
  }
 ],
 "metadata": {
  "kernelspec": {
   "display_name": "Python 3",
   "language": "python",
   "name": "python3"
  },
  "language_info": {
   "codemirror_mode": {
    "name": "ipython",
    "version": 3
   },
   "file_extension": ".py",
   "mimetype": "text/x-python",
   "name": "python",
   "nbconvert_exporter": "python",
   "pygments_lexer": "ipython3",
   "version": "3.6.15"
  },
  "papermill": {
   "default_parameters": {},
   "duration": 99.632424,
   "end_time": "2022-07-21T00:43:32.984739",
   "environment_variables": {},
   "exception": null,
   "input_path": "2020-08-11-part2.ipynb",
   "output_path": "2020-08-11-part2.ipynb",
   "parameters": {},
   "start_time": "2022-07-21T00:41:53.352315",
   "version": "2.3.3"
  }
 },
 "nbformat": 4,
 "nbformat_minor": 5
}