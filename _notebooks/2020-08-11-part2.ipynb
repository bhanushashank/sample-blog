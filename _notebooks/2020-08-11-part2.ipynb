{
 "cells": [
  {
   "cell_type": "markdown",
   "id": "98380cd3",
   "metadata": {
    "papermill": {
     "duration": 0.036024,
     "end_time": "2021-11-07T00:23:12.447322",
     "exception": false,
     "start_time": "2021-11-07T00:23:12.411298",
     "status": "completed"
    },
    "tags": []
   },
   "source": [
    "# Distinguish Your Own Digits (DYOD)"
   ]
  },
  {
   "cell_type": "markdown",
   "id": "ef31240d",
   "metadata": {
    "papermill": {
     "duration": 0.030883,
     "end_time": "2021-11-07T00:23:12.511396",
     "exception": false,
     "start_time": "2021-11-07T00:23:12.480513",
     "status": "completed"
    },
    "tags": []
   },
   "source": [
    "You are going to write a classifier that distinguishes between the number 3 and number 8."
   ]
  },
  {
   "cell_type": "code",
   "execution_count": 1,
   "id": "b15c8646",
   "metadata": {
    "execution": {
     "iopub.execute_input": "2021-11-07T00:23:12.588933Z",
     "iopub.status.busy": "2021-11-07T00:23:12.588215Z",
     "iopub.status.idle": "2021-11-07T00:23:12.600831Z",
     "shell.execute_reply": "2021-11-07T00:23:12.600234Z"
    },
    "papermill": {
     "duration": 0.058798,
     "end_time": "2021-11-07T00:23:12.601011",
     "exception": false,
     "start_time": "2021-11-07T00:23:12.542213",
     "status": "completed"
    },
    "tags": []
   },
   "outputs": [],
   "source": [
    "%load_ext autoreload\n",
    "%autoreload 2"
   ]
  },
  {
   "cell_type": "code",
   "execution_count": 2,
   "id": "22ef38dc",
   "metadata": {
    "execution": {
     "iopub.execute_input": "2021-11-07T00:23:12.678841Z",
     "iopub.status.busy": "2021-11-07T00:23:12.678159Z",
     "iopub.status.idle": "2021-11-07T00:23:13.362283Z",
     "shell.execute_reply": "2021-11-07T00:23:13.361716Z"
    },
    "papermill": {
     "duration": 0.729128,
     "end_time": "2021-11-07T00:23:13.362451",
     "exception": false,
     "start_time": "2021-11-07T00:23:12.633323",
     "status": "completed"
    },
    "tags": []
   },
   "outputs": [],
   "source": [
    "%matplotlib inline\n",
    "import numpy as np\n",
    "import matplotlib.pyplot as plt\n",
    "import pandas as pd"
   ]
  },
  {
   "cell_type": "markdown",
   "id": "ba036198",
   "metadata": {
    "papermill": {
     "duration": 0.029453,
     "end_time": "2021-11-07T00:23:13.422887",
     "exception": false,
     "start_time": "2021-11-07T00:23:13.393434",
     "status": "completed"
    },
    "tags": []
   },
   "source": [
    "From the command line run `pip install mnist`. This is a library that will help you bring down the mnist dataset. If you run this from a notebook, you need to put  `!pip install mnist` in a cell by itself."
   ]
  },
  {
   "cell_type": "code",
   "execution_count": 3,
   "id": "bb6ad8a1",
   "metadata": {
    "execution": {
     "iopub.execute_input": "2021-11-07T00:23:13.492722Z",
     "iopub.status.busy": "2021-11-07T00:23:13.492069Z",
     "iopub.status.idle": "2021-11-07T00:23:15.610099Z",
     "shell.execute_reply": "2021-11-07T00:23:15.609505Z"
    },
    "papermill": {
     "duration": 2.156663,
     "end_time": "2021-11-07T00:23:15.610251",
     "exception": false,
     "start_time": "2021-11-07T00:23:13.453588",
     "status": "completed"
    },
    "tags": []
   },
   "outputs": [
    {
     "name": "stdout",
     "output_type": "stream",
     "text": [
      "Collecting mnist\r\n"
     ]
    },
    {
     "name": "stdout",
     "output_type": "stream",
     "text": [
      "  Downloading mnist-0.2.2-py2.py3-none-any.whl (3.5 kB)\r\n",
      "Requirement already satisfied: numpy in /opt/hostedtoolcache/Python/3.6.15/x64/lib/python3.6/site-packages (from mnist) (1.19.5)\r\n"
     ]
    },
    {
     "name": "stdout",
     "output_type": "stream",
     "text": [
      "Installing collected packages: mnist\r\n"
     ]
    },
    {
     "name": "stdout",
     "output_type": "stream",
     "text": [
      "Successfully installed mnist-0.2.2\r\n"
     ]
    }
   ],
   "source": [
    "!pip install mnist"
   ]
  },
  {
   "cell_type": "markdown",
   "id": "69df9c9a",
   "metadata": {
    "papermill": {
     "duration": 0.032427,
     "end_time": "2021-11-07T00:23:15.675763",
     "exception": false,
     "start_time": "2021-11-07T00:23:15.643336",
     "status": "completed"
    },
    "tags": []
   },
   "source": [
    "## Preparing the Data"
   ]
  },
  {
   "cell_type": "code",
   "execution_count": 4,
   "id": "7f69d806",
   "metadata": {
    "execution": {
     "iopub.execute_input": "2021-11-07T00:23:15.752443Z",
     "iopub.status.busy": "2021-11-07T00:23:15.751766Z",
     "iopub.status.idle": "2021-11-07T00:23:15.766876Z",
     "shell.execute_reply": "2021-11-07T00:23:15.767462Z"
    },
    "papermill": {
     "duration": 0.05804,
     "end_time": "2021-11-07T00:23:15.767679",
     "exception": false,
     "start_time": "2021-11-07T00:23:15.709639",
     "status": "completed"
    },
    "tags": []
   },
   "outputs": [],
   "source": [
    "import mnist"
   ]
  },
  {
   "cell_type": "code",
   "execution_count": 5,
   "id": "a411e44f",
   "metadata": {
    "execution": {
     "iopub.execute_input": "2021-11-07T00:23:15.840534Z",
     "iopub.status.busy": "2021-11-07T00:23:15.839859Z",
     "iopub.status.idle": "2021-11-07T00:23:16.632076Z",
     "shell.execute_reply": "2021-11-07T00:23:16.631367Z"
    },
    "papermill": {
     "duration": 0.830782,
     "end_time": "2021-11-07T00:23:16.632256",
     "exception": false,
     "start_time": "2021-11-07T00:23:15.801474",
     "status": "completed"
    },
    "tags": []
   },
   "outputs": [],
   "source": [
    "train_images = mnist.train_images()\n",
    "train_labels = mnist.train_labels()"
   ]
  },
  {
   "cell_type": "code",
   "execution_count": 6,
   "id": "dceab3a5",
   "metadata": {
    "execution": {
     "iopub.execute_input": "2021-11-07T00:23:16.706736Z",
     "iopub.status.busy": "2021-11-07T00:23:16.706067Z",
     "iopub.status.idle": "2021-11-07T00:23:16.722868Z",
     "shell.execute_reply": "2021-11-07T00:23:16.722301Z"
    },
    "papermill": {
     "duration": 0.056479,
     "end_time": "2021-11-07T00:23:16.723036",
     "exception": false,
     "start_time": "2021-11-07T00:23:16.666557",
     "status": "completed"
    },
    "tags": []
   },
   "outputs": [
    {
     "data": {
      "text/plain": [
       "((60000, 28, 28), (60000,))"
      ]
     },
     "execution_count": 6,
     "metadata": {},
     "output_type": "execute_result"
    }
   ],
   "source": [
    "train_images.shape, train_labels.shape"
   ]
  },
  {
   "cell_type": "code",
   "execution_count": 7,
   "id": "f50dc2bb",
   "metadata": {
    "execution": {
     "iopub.execute_input": "2021-11-07T00:23:16.792827Z",
     "iopub.status.busy": "2021-11-07T00:23:16.792169Z",
     "iopub.status.idle": "2021-11-07T00:23:17.037809Z",
     "shell.execute_reply": "2021-11-07T00:23:17.037200Z"
    },
    "papermill": {
     "duration": 0.283083,
     "end_time": "2021-11-07T00:23:17.037970",
     "exception": false,
     "start_time": "2021-11-07T00:23:16.754887",
     "status": "completed"
    },
    "tags": []
   },
   "outputs": [],
   "source": [
    "test_images = mnist.test_images()\n",
    "test_labels = mnist.test_labels()"
   ]
  },
  {
   "cell_type": "code",
   "execution_count": 8,
   "id": "fc38cf1b",
   "metadata": {
    "execution": {
     "iopub.execute_input": "2021-11-07T00:23:17.113205Z",
     "iopub.status.busy": "2021-11-07T00:23:17.112543Z",
     "iopub.status.idle": "2021-11-07T00:23:17.127956Z",
     "shell.execute_reply": "2021-11-07T00:23:17.127252Z"
    },
    "papermill": {
     "duration": 0.056338,
     "end_time": "2021-11-07T00:23:17.128101",
     "exception": false,
     "start_time": "2021-11-07T00:23:17.071763",
     "status": "completed"
    },
    "tags": []
   },
   "outputs": [
    {
     "data": {
      "text/plain": [
       "((10000, 28, 28), (10000,))"
      ]
     },
     "execution_count": 8,
     "metadata": {},
     "output_type": "execute_result"
    }
   ],
   "source": [
    "test_images.shape, test_labels.shape"
   ]
  },
  {
   "cell_type": "code",
   "execution_count": 9,
   "id": "f9ed8fe0",
   "metadata": {
    "execution": {
     "iopub.execute_input": "2021-11-07T00:23:17.210759Z",
     "iopub.status.busy": "2021-11-07T00:23:17.210082Z",
     "iopub.status.idle": "2021-11-07T00:23:17.403198Z",
     "shell.execute_reply": "2021-11-07T00:23:17.403751Z"
    },
    "papermill": {
     "duration": 0.238035,
     "end_time": "2021-11-07T00:23:17.403928",
     "exception": false,
     "start_time": "2021-11-07T00:23:17.165893",
     "status": "completed"
    },
    "tags": []
   },
   "outputs": [
    {
     "name": "stdout",
     "output_type": "stream",
     "text": [
      "2\n"
     ]
    },
    {
     "data": {
      "text/plain": [
       "<matplotlib.image.AxesImage at 0x7f9bcaef60b8>"
      ]
     },
     "execution_count": 9,
     "metadata": {},
     "output_type": "execute_result"
    },
    {
     "data": {
      "image/png": "[encoded data removed]",
      "text/plain": [
       "<Figure size 432x288 with 1 Axes>"
      ]
     },
     "metadata": {
      "needs_background": "light"
     },
     "output_type": "display_data"
    }
   ],
   "source": [
    "image_index = 7776 # You may select anything up to 60,000\n",
    "print(train_labels[image_index]) \n",
    "plt.imshow(train_images[image_index], cmap='Greys')"
   ]
  },
  {
   "cell_type": "markdown",
   "id": "a8d2388d",
   "metadata": {
    "papermill": {
     "duration": 0.034412,
     "end_time": "2021-11-07T00:23:17.473122",
     "exception": false,
     "start_time": "2021-11-07T00:23:17.438710",
     "status": "completed"
    },
    "tags": []
   },
   "source": [
    "## Filter data to get 3 and 8 out"
   ]
  },
  {
   "cell_type": "code",
   "execution_count": 10,
   "id": "776f7fc7",
   "metadata": {
    "execution": {
     "iopub.execute_input": "2021-11-07T00:23:17.549253Z",
     "iopub.status.busy": "2021-11-07T00:23:17.548569Z",
     "iopub.status.idle": "2021-11-07T00:23:17.570289Z",
     "shell.execute_reply": "2021-11-07T00:23:17.569689Z"
    },
    "papermill": {
     "duration": 0.063241,
     "end_time": "2021-11-07T00:23:17.570458",
     "exception": false,
     "start_time": "2021-11-07T00:23:17.507217",
     "status": "completed"
    },
    "tags": []
   },
   "outputs": [],
   "source": [
    "train_filter = np.where((train_labels == 3 ) | (train_labels == 8))\n",
    "test_filter = np.where((test_labels == 3) | (test_labels == 8))\n",
    "X_train, y_train = train_images[train_filter], train_labels[train_filter]\n",
    "X_test, y_test = test_images[test_filter], test_labels[test_filter]"
   ]
  },
  {
   "cell_type": "markdown",
   "id": "948f0b7e",
   "metadata": {
    "papermill": {
     "duration": 0.034329,
     "end_time": "2021-11-07T00:23:17.639047",
     "exception": false,
     "start_time": "2021-11-07T00:23:17.604718",
     "status": "completed"
    },
    "tags": []
   },
   "source": [
    "We normalize the pizel values in the 0 to 1 range"
   ]
  },
  {
   "cell_type": "code",
   "execution_count": 11,
   "id": "ee4c2166",
   "metadata": {
    "execution": {
     "iopub.execute_input": "2021-11-07T00:23:17.717013Z",
     "iopub.status.busy": "2021-11-07T00:23:17.716329Z",
     "iopub.status.idle": "2021-11-07T00:23:17.778768Z",
     "shell.execute_reply": "2021-11-07T00:23:17.779300Z"
    },
    "papermill": {
     "duration": 0.103153,
     "end_time": "2021-11-07T00:23:17.779485",
     "exception": false,
     "start_time": "2021-11-07T00:23:17.676332",
     "status": "completed"
    },
    "tags": []
   },
   "outputs": [],
   "source": [
    "X_train = X_train/255.\n",
    "X_test = X_test/255."
   ]
  },
  {
   "cell_type": "markdown",
   "id": "ddcf4fab",
   "metadata": {
    "papermill": {
     "duration": 0.035643,
     "end_time": "2021-11-07T00:23:17.850219",
     "exception": false,
     "start_time": "2021-11-07T00:23:17.814576",
     "status": "completed"
    },
    "tags": []
   },
   "source": [
    "And setup the labels as 1 (when the digit is 3) and 0 (when the digit is 8)"
   ]
  },
  {
   "cell_type": "code",
   "execution_count": 12,
   "id": "7dc908f2",
   "metadata": {
    "execution": {
     "iopub.execute_input": "2021-11-07T00:23:17.932827Z",
     "iopub.status.busy": "2021-11-07T00:23:17.932105Z",
     "iopub.status.idle": "2021-11-07T00:23:17.944693Z",
     "shell.execute_reply": "2021-11-07T00:23:17.945252Z"
    },
    "papermill": {
     "duration": 0.056036,
     "end_time": "2021-11-07T00:23:17.945655",
     "exception": false,
     "start_time": "2021-11-07T00:23:17.889619",
     "status": "completed"
    },
    "tags": []
   },
   "outputs": [],
   "source": [
    "y_train = 1*(y_train==3)\n",
    "y_test = 1*(y_test==3)"
   ]
  },
  {
   "cell_type": "code",
   "execution_count": 13,
   "id": "01e4e969",
   "metadata": {
    "execution": {
     "iopub.execute_input": "2021-11-07T00:23:18.022258Z",
     "iopub.status.busy": "2021-11-07T00:23:18.021603Z",
     "iopub.status.idle": "2021-11-07T00:23:18.038118Z",
     "shell.execute_reply": "2021-11-07T00:23:18.038747Z"
    },
    "papermill": {
     "duration": 0.055565,
     "end_time": "2021-11-07T00:23:18.038915",
     "exception": false,
     "start_time": "2021-11-07T00:23:17.983350",
     "status": "completed"
    },
    "tags": []
   },
   "outputs": [
    {
     "data": {
      "text/plain": [
       "((11982, 28, 28), (1984, 28, 28))"
      ]
     },
     "execution_count": 13,
     "metadata": {},
     "output_type": "execute_result"
    }
   ],
   "source": [
    "X_train.shape, X_test.shape"
   ]
  },
  {
   "cell_type": "markdown",
   "id": "5ccf3f85",
   "metadata": {
    "papermill": {
     "duration": 0.034587,
     "end_time": "2021-11-07T00:23:18.108103",
     "exception": false,
     "start_time": "2021-11-07T00:23:18.073516",
     "status": "completed"
    },
    "tags": []
   },
   "source": [
    "We reshape the data to flatten the image pixels into a set of features or co-variates:"
   ]
  },
  {
   "cell_type": "code",
   "execution_count": 14,
   "id": "5286a4a3",
   "metadata": {
    "execution": {
     "iopub.execute_input": "2021-11-07T00:23:18.189339Z",
     "iopub.status.busy": "2021-11-07T00:23:18.188628Z",
     "iopub.status.idle": "2021-11-07T00:23:18.202452Z",
     "shell.execute_reply": "2021-11-07T00:23:18.201887Z"
    },
    "papermill": {
     "duration": 0.05895,
     "end_time": "2021-11-07T00:23:18.202593",
     "exception": false,
     "start_time": "2021-11-07T00:23:18.143643",
     "status": "completed"
    },
    "tags": []
   },
   "outputs": [
    {
     "data": {
      "text/plain": [
       "((11982, 784), (1984, 784))"
      ]
     },
     "execution_count": 14,
     "metadata": {},
     "output_type": "execute_result"
    }
   ],
   "source": [
    "X_train = X_train.reshape(X_train.shape[0], -1)\n",
    "X_test = X_test.reshape(X_test.shape[0], -1)\n",
    "X_train.shape, X_test.shape"
   ]
  },
  {
   "cell_type": "code",
   "execution_count": 15,
   "id": "73c5f88a",
   "metadata": {
    "execution": {
     "iopub.execute_input": "2021-11-07T00:23:18.280545Z",
     "iopub.status.busy": "2021-11-07T00:23:18.279869Z",
     "iopub.status.idle": "2021-11-07T00:23:18.300934Z",
     "shell.execute_reply": "2021-11-07T00:23:18.301519Z"
    },
    "papermill": {
     "duration": 0.063307,
     "end_time": "2021-11-07T00:23:18.301694",
     "exception": false,
     "start_time": "2021-11-07T00:23:18.238387",
     "status": "completed"
    },
    "tags": []
   },
   "outputs": [],
   "source": [
    "#Impoting functions from 'Kudzu'\n",
    "from kudzu.model import Model\n",
    "from kudzu.train import Learner\n",
    "from kudzu.optim import GD\n",
    "from kudzu.data import Data, Sampler,Dataloader\n",
    "\n",
    "from kudzu.callbacks import AccCallback\n",
    "from kudzu.callbacks import ClfCallback\n",
    "\n",
    "from kudzu.loss import MSE\n",
    "\n",
    "from kudzu.layer import Sigmoid,Relu\n",
    "from kudzu.layer import Affine"
   ]
  },
  {
   "cell_type": "markdown",
   "id": "bc01172a",
   "metadata": {
    "papermill": {
     "duration": 0.033656,
     "end_time": "2021-11-07T00:23:18.379034",
     "exception": false,
     "start_time": "2021-11-07T00:23:18.345378",
     "status": "completed"
    },
    "tags": []
   },
   "source": [
    "### Let us create a `Config` class, to store important parameters. \n",
    "This class essentially plays the role of a dictionary."
   ]
  },
  {
   "cell_type": "code",
   "execution_count": 16,
   "id": "978281aa",
   "metadata": {
    "execution": {
     "iopub.execute_input": "2021-11-07T00:23:18.451635Z",
     "iopub.status.busy": "2021-11-07T00:23:18.450973Z",
     "iopub.status.idle": "2021-11-07T00:23:18.465923Z",
     "shell.execute_reply": "2021-11-07T00:23:18.466539Z"
    },
    "papermill": {
     "duration": 0.053271,
     "end_time": "2021-11-07T00:23:18.466705",
     "exception": false,
     "start_time": "2021-11-07T00:23:18.413434",
     "status": "completed"
    },
    "tags": []
   },
   "outputs": [],
   "source": [
    "class Config:\n",
    "    pass\n",
    "config = Config()\n",
    "config.lr = 0.001\n",
    "config.num_epochs = 250\n",
    "config.bs = 50"
   ]
  },
  {
   "cell_type": "markdown",
   "id": "1385fa59",
   "metadata": {
    "papermill": {
     "duration": 0.036794,
     "end_time": "2021-11-07T00:23:18.537666",
     "exception": false,
     "start_time": "2021-11-07T00:23:18.500872",
     "status": "completed"
    },
    "tags": []
   },
   "source": [
    "### Running Models with the Training data\n",
    "Details about the network layers:\n",
    "- A first affine layer has 784 inputs and does 100 affine transforms. These are followed by a Relu\n",
    "- A second affine layer has 100 inputs from the 100 activations of the past layer, and does 100 affine transforms. These are followed by a Relu\n",
    "- A third affine layer has 100 activations and does 2 affine transformations to create an embedding for visualization. There is no non-linearity here.\n",
    "- A final \"logistic regression\" which has an affine transform from 2 inputs to 1 output, which is squeezed through a sigmoid.\n"
   ]
  },
  {
   "cell_type": "code",
   "execution_count": 17,
   "id": "2b9c66db",
   "metadata": {
    "execution": {
     "iopub.execute_input": "2021-11-07T00:23:18.613608Z",
     "iopub.status.busy": "2021-11-07T00:23:18.612905Z",
     "iopub.status.idle": "2021-11-07T00:23:18.626627Z",
     "shell.execute_reply": "2021-11-07T00:23:18.627281Z"
    },
    "papermill": {
     "duration": 0.053602,
     "end_time": "2021-11-07T00:23:18.627461",
     "exception": false,
     "start_time": "2021-11-07T00:23:18.573859",
     "status": "completed"
    },
    "tags": []
   },
   "outputs": [],
   "source": [
    "data = Data(X_train, y_train.reshape(-1,1))\n",
    "sampler = Sampler(data, config.bs, shuffle=True)\n",
    "\n",
    "dl = Dataloader(data, sampler)\n",
    "\n",
    "opt = GD(config.lr)\n",
    "loss = MSE()"
   ]
  },
  {
   "cell_type": "code",
   "execution_count": 18,
   "id": "b275e4c2",
   "metadata": {
    "execution": {
     "iopub.execute_input": "2021-11-07T00:23:18.719375Z",
     "iopub.status.busy": "2021-11-07T00:23:18.718717Z",
     "iopub.status.idle": "2021-11-07T00:23:18.732251Z",
     "shell.execute_reply": "2021-11-07T00:23:18.732940Z"
    },
    "papermill": {
     "duration": 0.067783,
     "end_time": "2021-11-07T00:23:18.733097",
     "exception": false,
     "start_time": "2021-11-07T00:23:18.665314",
     "status": "completed"
    },
    "tags": []
   },
   "outputs": [],
   "source": [
    "training_data_x = X_train\n",
    "testing_data_x = X_test\n",
    "training_data_y = y_train.reshape(-1,1)\n",
    "testing_data_y = y_test.reshape(-1,1)"
   ]
  },
  {
   "cell_type": "code",
   "execution_count": 19,
   "id": "76951160",
   "metadata": {
    "execution": {
     "iopub.execute_input": "2021-11-07T00:23:18.813653Z",
     "iopub.status.busy": "2021-11-07T00:23:18.812948Z",
     "iopub.status.idle": "2021-11-07T00:23:18.831924Z",
     "shell.execute_reply": "2021-11-07T00:23:18.831367Z"
    },
    "papermill": {
     "duration": 0.064121,
     "end_time": "2021-11-07T00:23:18.832059",
     "exception": false,
     "start_time": "2021-11-07T00:23:18.767938",
     "status": "completed"
    },
    "tags": []
   },
   "outputs": [
    {
     "name": "stdout",
     "output_type": "stream",
     "text": [
      "xavier\n",
      "xavier\n",
      "xavier\n",
      "xavier\n",
      "xavier\n"
     ]
    }
   ],
   "source": [
    "layers = [Affine(\"first\", 784, 100), Relu(\"first\"), Affine(\"second\", 100, 100), Relu(\"second\"), Affine(\"third\", 100, 2), Affine(\"last\", 2, 1), Sigmoid(\"last\")]\n",
    "model_nn = Model(layers)\n",
    "model_lr = Model([Affine(\"logits\", 784, 1), Sigmoid(\"sigmoid\")])"
   ]
  },
  {
   "cell_type": "code",
   "execution_count": 20,
   "id": "6eede77a",
   "metadata": {
    "execution": {
     "iopub.execute_input": "2021-11-07T00:23:18.923172Z",
     "iopub.status.busy": "2021-11-07T00:23:18.922518Z",
     "iopub.status.idle": "2021-11-07T00:23:18.937897Z",
     "shell.execute_reply": "2021-11-07T00:23:18.938547Z"
    },
    "papermill": {
     "duration": 0.05803,
     "end_time": "2021-11-07T00:23:18.938722",
     "exception": false,
     "start_time": "2021-11-07T00:23:18.880692",
     "status": "completed"
    },
    "tags": []
   },
   "outputs": [],
   "source": [
    "nn_learner = Learner(loss, model_nn, opt, config.num_epochs)\n",
    "acc_nn = ClfCallback(nn_learner, config.bs, training_data_x , testing_data_x, training_data_y, testing_data_y)\n",
    "nn_learner.set_callbacks([acc_nn])"
   ]
  },
  {
   "cell_type": "code",
   "execution_count": 21,
   "id": "877b6cc7",
   "metadata": {
    "execution": {
     "iopub.execute_input": "2021-11-07T00:23:19.012813Z",
     "iopub.status.busy": "2021-11-07T00:23:19.012156Z",
     "iopub.status.idle": "2021-11-07T00:23:19.026830Z",
     "shell.execute_reply": "2021-11-07T00:23:19.026287Z"
    },
    "papermill": {
     "duration": 0.053638,
     "end_time": "2021-11-07T00:23:19.027169",
     "exception": false,
     "start_time": "2021-11-07T00:23:18.973531",
     "status": "completed"
    },
    "tags": []
   },
   "outputs": [],
   "source": [
    "lr_learner = Learner(loss, model_lr, opt, config.num_epochs)\n",
    "acc_lr = ClfCallback(lr_learner, config.bs, training_data_x , testing_data_x, training_data_y, testing_data_y)\n",
    "lr_learner.set_callbacks([acc_lr])"
   ]
  },
  {
   "cell_type": "code",
   "execution_count": 22,
   "id": "d9b133c3",
   "metadata": {
    "execution": {
     "iopub.execute_input": "2021-11-07T00:23:19.107646Z",
     "iopub.status.busy": "2021-11-07T00:23:19.106983Z",
     "iopub.status.idle": "2021-11-07T00:25:31.938118Z",
     "shell.execute_reply": "2021-11-07T00:25:31.939514Z"
    },
    "papermill": {
     "duration": 132.877159,
     "end_time": "2021-11-07T00:25:31.939688",
     "exception": false,
     "start_time": "2021-11-07T00:23:19.062529",
     "status": "completed"
    },
    "tags": []
   },
   "outputs": [
    {
     "name": "stdout",
     "output_type": "stream",
     "text": [
      "Epoch 0, Loss 0.2443\n",
      "Training Accuracy: 0.6664, Testing Accuracy: 0.6678\n",
      "\n"
     ]
    },
    {
     "name": "stdout",
     "output_type": "stream",
     "text": [
      "Epoch 10, Loss 0.1082\n",
      "Training Accuracy: 0.9099, Testing Accuracy: 0.9239\n",
      "\n"
     ]
    },
    {
     "name": "stdout",
     "output_type": "stream",
     "text": [
      "Epoch 20, Loss 0.0623\n",
      "Training Accuracy: 0.9352, Testing Accuracy: 0.9491\n",
      "\n"
     ]
    },
    {
     "name": "stdout",
     "output_type": "stream",
     "text": [
      "Epoch 30, Loss 0.0481\n",
      "Training Accuracy: 0.9482, Testing Accuracy: 0.9592\n",
      "\n"
     ]
    },
    {
     "name": "stdout",
     "output_type": "stream",
     "text": [
      "Epoch 40, Loss 0.0413\n",
      "Training Accuracy: 0.9528, Testing Accuracy: 0.9622\n",
      "\n"
     ]
    },
    {
     "name": "stdout",
     "output_type": "stream",
     "text": [
      "Epoch 50, Loss 0.0373\n",
      "Training Accuracy: 0.9563, Testing Accuracy: 0.9627\n",
      "\n"
     ]
    },
    {
     "name": "stdout",
     "output_type": "stream",
     "text": [
      "Epoch 60, Loss 0.0346\n",
      "Training Accuracy: 0.9594, Testing Accuracy: 0.9642\n",
      "\n"
     ]
    },
    {
     "name": "stdout",
     "output_type": "stream",
     "text": [
      "Epoch 70, Loss 0.0325\n",
      "Training Accuracy: 0.9616, Testing Accuracy: 0.9667\n",
      "\n"
     ]
    },
    {
     "name": "stdout",
     "output_type": "stream",
     "text": [
      "Epoch 80, Loss 0.0308\n",
      "Training Accuracy: 0.9639, Testing Accuracy: 0.9672\n",
      "\n"
     ]
    },
    {
     "name": "stdout",
     "output_type": "stream",
     "text": [
      "Epoch 90, Loss 0.0294\n",
      "Training Accuracy: 0.9657, Testing Accuracy: 0.9677\n",
      "\n"
     ]
    },
    {
     "name": "stdout",
     "output_type": "stream",
     "text": [
      "Epoch 100, Loss 0.0283\n",
      "Training Accuracy: 0.9668, Testing Accuracy: 0.9682\n",
      "\n"
     ]
    },
    {
     "name": "stdout",
     "output_type": "stream",
     "text": [
      "Epoch 110, Loss 0.0272\n",
      "Training Accuracy: 0.9681, Testing Accuracy: 0.9693\n",
      "\n"
     ]
    },
    {
     "name": "stdout",
     "output_type": "stream",
     "text": [
      "Epoch 120, Loss 0.0264\n",
      "Training Accuracy: 0.9694, Testing Accuracy: 0.9693\n",
      "\n"
     ]
    },
    {
     "name": "stdout",
     "output_type": "stream",
     "text": [
      "Epoch 130, Loss 0.0255\n",
      "Training Accuracy: 0.9706, Testing Accuracy: 0.9688\n",
      "\n"
     ]
    },
    {
     "name": "stdout",
     "output_type": "stream",
     "text": [
      "Epoch 140, Loss 0.0248\n",
      "Training Accuracy: 0.9710, Testing Accuracy: 0.9688\n",
      "\n"
     ]
    },
    {
     "name": "stdout",
     "output_type": "stream",
     "text": [
      "Epoch 150, Loss 0.0241\n",
      "Training Accuracy: 0.9720, Testing Accuracy: 0.9703\n",
      "\n"
     ]
    },
    {
     "name": "stdout",
     "output_type": "stream",
     "text": [
      "Epoch 160, Loss 0.0235\n",
      "Training Accuracy: 0.9730, Testing Accuracy: 0.9703\n",
      "\n"
     ]
    },
    {
     "name": "stdout",
     "output_type": "stream",
     "text": [
      "Epoch 170, Loss 0.0229\n",
      "Training Accuracy: 0.9740, Testing Accuracy: 0.9713\n",
      "\n"
     ]
    },
    {
     "name": "stdout",
     "output_type": "stream",
     "text": [
      "Epoch 180, Loss 0.0223\n",
      "Training Accuracy: 0.9743, Testing Accuracy: 0.9713\n",
      "\n"
     ]
    },
    {
     "name": "stdout",
     "output_type": "stream",
     "text": [
      "Epoch 190, Loss 0.0218\n",
      "Training Accuracy: 0.9749, Testing Accuracy: 0.9713\n",
      "\n"
     ]
    },
    {
     "name": "stdout",
     "output_type": "stream",
     "text": [
      "Epoch 200, Loss 0.0213\n",
      "Training Accuracy: 0.9754, Testing Accuracy: 0.9718\n",
      "\n"
     ]
    },
    {
     "name": "stdout",
     "output_type": "stream",
     "text": [
      "Epoch 210, Loss 0.0208\n",
      "Training Accuracy: 0.9760, Testing Accuracy: 0.9713\n",
      "\n"
     ]
    },
    {
     "name": "stdout",
     "output_type": "stream",
     "text": [
      "Epoch 220, Loss 0.0204\n",
      "Training Accuracy: 0.9767, Testing Accuracy: 0.9713\n",
      "\n"
     ]
    },
    {
     "name": "stdout",
     "output_type": "stream",
     "text": [
      "Epoch 230, Loss 0.0199\n",
      "Training Accuracy: 0.9773, Testing Accuracy: 0.9728\n",
      "\n"
     ]
    },
    {
     "name": "stdout",
     "output_type": "stream",
     "text": [
      "Epoch 240, Loss 0.0195\n",
      "Training Accuracy: 0.9778, Testing Accuracy: 0.9728\n",
      "\n"
     ]
    },
    {
     "data": {
      "text/plain": [
       "0.0067779009264034885"
      ]
     },
     "execution_count": 22,
     "metadata": {},
     "output_type": "execute_result"
    }
   ],
   "source": [
    "nn_learner.train_loop(dl)"
   ]
  },
  {
   "cell_type": "code",
   "execution_count": 23,
   "id": "e0163366",
   "metadata": {
    "execution": {
     "iopub.execute_input": "2021-11-07T00:25:32.046314Z",
     "iopub.status.busy": "2021-11-07T00:25:32.045531Z",
     "iopub.status.idle": "2021-11-07T00:25:51.355917Z",
     "shell.execute_reply": "2021-11-07T00:25:51.356551Z"
    },
    "papermill": {
     "duration": 19.366076,
     "end_time": "2021-11-07T00:25:51.356725",
     "exception": false,
     "start_time": "2021-11-07T00:25:31.990649",
     "status": "completed"
    },
    "tags": []
   },
   "outputs": [
    {
     "name": "stdout",
     "output_type": "stream",
     "text": [
      "Epoch 0, Loss 0.224\n",
      "Training Accuracy: 0.6890, Testing Accuracy: 0.7117\n",
      "\n"
     ]
    },
    {
     "name": "stdout",
     "output_type": "stream",
     "text": [
      "Epoch 10, Loss 0.104\n",
      "Training Accuracy: 0.9029, Testing Accuracy: 0.9168\n",
      "\n"
     ]
    },
    {
     "name": "stdout",
     "output_type": "stream",
     "text": [
      "Epoch 20, Loss 0.0796\n",
      "Training Accuracy: 0.9256, Testing Accuracy: 0.9390\n",
      "\n"
     ]
    },
    {
     "name": "stdout",
     "output_type": "stream",
     "text": [
      "Epoch 30, Loss 0.0684\n",
      "Training Accuracy: 0.9352, Testing Accuracy: 0.9461\n",
      "\n"
     ]
    },
    {
     "name": "stdout",
     "output_type": "stream",
     "text": [
      "Epoch 40, Loss 0.0618\n",
      "Training Accuracy: 0.9404, Testing Accuracy: 0.9521\n",
      "\n"
     ]
    },
    {
     "name": "stdout",
     "output_type": "stream",
     "text": [
      "Epoch 50, Loss 0.0573\n",
      "Training Accuracy: 0.9438, Testing Accuracy: 0.9551\n",
      "\n"
     ]
    },
    {
     "name": "stdout",
     "output_type": "stream",
     "text": [
      "Epoch 60, Loss 0.054\n",
      "Training Accuracy: 0.9458, Testing Accuracy: 0.9556\n",
      "\n"
     ]
    },
    {
     "name": "stdout",
     "output_type": "stream",
     "text": [
      "Epoch 70, Loss 0.0515\n",
      "Training Accuracy: 0.9478, Testing Accuracy: 0.9582\n",
      "\n"
     ]
    },
    {
     "name": "stdout",
     "output_type": "stream",
     "text": [
      "Epoch 80, Loss 0.0494\n",
      "Training Accuracy: 0.9494, Testing Accuracy: 0.9582\n",
      "\n"
     ]
    },
    {
     "name": "stdout",
     "output_type": "stream",
     "text": [
      "Epoch 90, Loss 0.0478\n",
      "Training Accuracy: 0.9511, Testing Accuracy: 0.9607\n",
      "\n"
     ]
    },
    {
     "name": "stdout",
     "output_type": "stream",
     "text": [
      "Epoch 100, Loss 0.0463\n",
      "Training Accuracy: 0.9531, Testing Accuracy: 0.9617\n",
      "\n"
     ]
    },
    {
     "name": "stdout",
     "output_type": "stream",
     "text": [
      "Epoch 110, Loss 0.0451\n",
      "Training Accuracy: 0.9539, Testing Accuracy: 0.9612\n",
      "\n"
     ]
    },
    {
     "name": "stdout",
     "output_type": "stream",
     "text": [
      "Epoch 120, Loss 0.0441\n",
      "Training Accuracy: 0.9548, Testing Accuracy: 0.9622\n",
      "\n"
     ]
    },
    {
     "name": "stdout",
     "output_type": "stream",
     "text": [
      "Epoch 130, Loss 0.0431\n",
      "Training Accuracy: 0.9556, Testing Accuracy: 0.9622\n",
      "\n"
     ]
    },
    {
     "name": "stdout",
     "output_type": "stream",
     "text": [
      "Epoch 140, Loss 0.0423\n",
      "Training Accuracy: 0.9564, Testing Accuracy: 0.9632\n",
      "\n"
     ]
    },
    {
     "name": "stdout",
     "output_type": "stream",
     "text": [
      "Epoch 150, Loss 0.0415\n",
      "Training Accuracy: 0.9569, Testing Accuracy: 0.9637\n",
      "\n"
     ]
    },
    {
     "name": "stdout",
     "output_type": "stream",
     "text": [
      "Epoch 160, Loss 0.0409\n",
      "Training Accuracy: 0.9573, Testing Accuracy: 0.9642\n",
      "\n"
     ]
    },
    {
     "name": "stdout",
     "output_type": "stream",
     "text": [
      "Epoch 170, Loss 0.0402\n",
      "Training Accuracy: 0.9580, Testing Accuracy: 0.9637\n",
      "\n"
     ]
    },
    {
     "name": "stdout",
     "output_type": "stream",
     "text": [
      "Epoch 180, Loss 0.0397\n",
      "Training Accuracy: 0.9584, Testing Accuracy: 0.9637\n",
      "\n"
     ]
    },
    {
     "name": "stdout",
     "output_type": "stream",
     "text": [
      "Epoch 190, Loss 0.0391\n",
      "Training Accuracy: 0.9586, Testing Accuracy: 0.9637\n",
      "\n"
     ]
    },
    {
     "name": "stdout",
     "output_type": "stream",
     "text": [
      "Epoch 200, Loss 0.0387\n",
      "Training Accuracy: 0.9591, Testing Accuracy: 0.9632\n",
      "\n"
     ]
    },
    {
     "name": "stdout",
     "output_type": "stream",
     "text": [
      "Epoch 210, Loss 0.0382\n",
      "Training Accuracy: 0.9592, Testing Accuracy: 0.9637\n",
      "\n"
     ]
    },
    {
     "name": "stdout",
     "output_type": "stream",
     "text": [
      "Epoch 220, Loss 0.0378\n",
      "Training Accuracy: 0.9594, Testing Accuracy: 0.9642\n",
      "\n"
     ]
    },
    {
     "name": "stdout",
     "output_type": "stream",
     "text": [
      "Epoch 230, Loss 0.0374\n",
      "Training Accuracy: 0.9599, Testing Accuracy: 0.9652\n",
      "\n"
     ]
    },
    {
     "name": "stdout",
     "output_type": "stream",
     "text": [
      "Epoch 240, Loss 0.037\n",
      "Training Accuracy: 0.9600, Testing Accuracy: 0.9662\n",
      "\n"
     ]
    },
    {
     "data": {
      "text/plain": [
       "0.021824234802359288"
      ]
     },
     "execution_count": 23,
     "metadata": {},
     "output_type": "execute_result"
    }
   ],
   "source": [
    "lr_learner.train_loop(dl)"
   ]
  },
  {
   "cell_type": "code",
   "execution_count": 24,
   "id": "ca410940",
   "metadata": {
    "execution": {
     "iopub.execute_input": "2021-11-07T00:25:51.476697Z",
     "iopub.status.busy": "2021-11-07T00:25:51.473631Z",
     "iopub.status.idle": "2021-11-07T00:25:51.785084Z",
     "shell.execute_reply": "2021-11-07T00:25:51.785664Z"
    },
    "papermill": {
     "duration": 0.375993,
     "end_time": "2021-11-07T00:25:51.785838",
     "exception": false,
     "start_time": "2021-11-07T00:25:51.409845",
     "status": "completed"
    },
    "tags": []
   },
   "outputs": [
    {
     "data": {
      "text/plain": [
       "<matplotlib.legend.Legend at 0x7f9bcaa5b828>"
      ]
     },
     "execution_count": 24,
     "metadata": {},
     "output_type": "execute_result"
    },
    {
     "data": {
      "image/png": "[encoded data removed]",
      "text/plain": [
       "<Figure size 1080x720 with 1 Axes>"
      ]
     },
     "metadata": {
      "needs_background": "light"
     },
     "output_type": "display_data"
    }
   ],
   "source": [
    "#comparing the results of NN and LR\n",
    "plt.figure(figsize=(15,10))\n",
    "\n",
    "# Neural Network plots\n",
    "plt.plot(acc_nn.accuracies, 'r-', label = \"Training Accuracies - NN\")\n",
    "plt.plot(acc_nn.test_accuracies, 'g-', label = \"Testing Accuracies - NN\")\n",
    "\n",
    "# Logistic Regression plots\n",
    "plt.plot(acc_lr.accuracies, 'k-', label = \"Training Accuracies - LR\")\n",
    "plt.plot(acc_lr.test_accuracies, 'b-', label = \"Testing Accuracies - LR\")\n",
    "plt.legend()"
   ]
  },
  {
   "cell_type": "markdown",
   "id": "80dfb35c",
   "metadata": {
    "papermill": {
     "duration": 0.056754,
     "end_time": "2021-11-07T00:25:51.903258",
     "exception": false,
     "start_time": "2021-11-07T00:25:51.846504",
     "status": "completed"
    },
    "tags": []
   },
   "source": [
    "#### Plotting the outputs of this layer of the NN.\n"
   ]
  },
  {
   "cell_type": "code",
   "execution_count": 25,
   "id": "45eb2ff5",
   "metadata": {
    "execution": {
     "iopub.execute_input": "2021-11-07T00:25:52.027381Z",
     "iopub.status.busy": "2021-11-07T00:25:52.023151Z",
     "iopub.status.idle": "2021-11-07T00:25:52.049572Z",
     "shell.execute_reply": "2021-11-07T00:25:52.048937Z"
    },
    "papermill": {
     "duration": 0.091513,
     "end_time": "2021-11-07T00:25:52.049709",
     "exception": false,
     "start_time": "2021-11-07T00:25:51.958196",
     "status": "completed"
    },
    "tags": []
   },
   "outputs": [],
   "source": [
    "new_model = Model(layers[:-2])\n",
    "testing_plot = new_model(testing_data_x)"
   ]
  },
  {
   "cell_type": "code",
   "execution_count": 26,
   "id": "4c0a5485",
   "metadata": {
    "execution": {
     "iopub.execute_input": "2021-11-07T00:25:52.177302Z",
     "iopub.status.busy": "2021-11-07T00:25:52.176294Z",
     "iopub.status.idle": "2021-11-07T00:25:52.424689Z",
     "shell.execute_reply": "2021-11-07T00:25:52.425330Z"
    },
    "papermill": {
     "duration": 0.320233,
     "end_time": "2021-11-07T00:25:52.425588",
     "exception": false,
     "start_time": "2021-11-07T00:25:52.105355",
     "status": "completed"
    },
    "tags": []
   },
   "outputs": [
    {
     "data": {
      "text/plain": [
       "Text(0.5, 1.0, 'Outputs')"
      ]
     },
     "execution_count": 26,
     "metadata": {},
     "output_type": "execute_result"
    },
    {
     "data": {
      "image/png": "[encoded data removed]",
      "text/plain": [
       "<Figure size 576x504 with 1 Axes>"
      ]
     },
     "metadata": {
      "needs_background": "light"
     },
     "output_type": "display_data"
    }
   ],
   "source": [
    "# Plotting the scatter plot of points and color coding by class\n",
    "plt.figure(figsize=(8,7))\n",
    "plt.scatter(testing_plot[:,0], testing_plot[:,1], alpha = 0.1, c = y_test.ravel());\n",
    "plt.title('Outputs')"
   ]
  },
  {
   "cell_type": "markdown",
   "id": "a74fcf8f",
   "metadata": {
    "papermill": {
     "duration": 0.05845,
     "end_time": "2021-11-07T00:25:52.542515",
     "exception": false,
     "start_time": "2021-11-07T00:25:52.484065",
     "status": "completed"
    },
    "tags": []
   },
   "source": [
    "Probability contours"
   ]
  },
  {
   "cell_type": "code",
   "execution_count": 27,
   "id": "d0afc8e3",
   "metadata": {
    "execution": {
     "iopub.execute_input": "2021-11-07T00:25:52.660500Z",
     "iopub.status.busy": "2021-11-07T00:25:52.659340Z",
     "iopub.status.idle": "2021-11-07T00:25:52.673604Z",
     "shell.execute_reply": "2021-11-07T00:25:52.673004Z"
    },
    "papermill": {
     "duration": 0.074902,
     "end_time": "2021-11-07T00:25:52.673761",
     "exception": false,
     "start_time": "2021-11-07T00:25:52.598859",
     "status": "completed"
    },
    "tags": []
   },
   "outputs": [],
   "source": [
    "model_prob = Model(layers[-2:]) "
   ]
  },
  {
   "cell_type": "code",
   "execution_count": 28,
   "id": "9b96e238",
   "metadata": {
    "execution": {
     "iopub.execute_input": "2021-11-07T00:25:52.846135Z",
     "iopub.status.busy": "2021-11-07T00:25:52.838196Z",
     "iopub.status.idle": "2021-11-07T00:25:52.852187Z",
     "shell.execute_reply": "2021-11-07T00:25:52.853412Z"
    },
    "papermill": {
     "duration": 0.083686,
     "end_time": "2021-11-07T00:25:52.853603",
     "exception": false,
     "start_time": "2021-11-07T00:25:52.769917",
     "status": "completed"
    },
    "tags": []
   },
   "outputs": [],
   "source": [
    "#creating the x and y ranges according to the above generated plot.\n",
    "x_range = np.linspace(-4, 1, 100) \n",
    "y_range = np.linspace(-6, 6, 100) \n",
    "x_grid, y_grid = np.meshgrid(x_range, y_range) # x_grid and y_grig are of size 100 X 100\n",
    "\n",
    "# converting x_grid and y_grid to continuous arrays\n",
    "x_gridflat = np.ravel(x_grid)\n",
    "y_gridflat = np.ravel(y_grid)\n",
    "\n",
    "# The last layer of the current model takes two columns as input. Hence transpose of np.vstack() is required.\n",
    "X = np.vstack((x_gridflat, y_gridflat)).T\n",
    "\n",
    "prob_contour = model_prob(X).reshape(100,100) "
   ]
  },
  {
   "cell_type": "code",
   "execution_count": 29,
   "id": "da72499a",
   "metadata": {
    "execution": {
     "iopub.execute_input": "2021-11-07T00:25:52.990579Z",
     "iopub.status.busy": "2021-11-07T00:25:52.984884Z",
     "iopub.status.idle": "2021-11-07T00:25:53.322019Z",
     "shell.execute_reply": "2021-11-07T00:25:53.322561Z"
    },
    "papermill": {
     "duration": 0.409897,
     "end_time": "2021-11-07T00:25:53.322757",
     "exception": false,
     "start_time": "2021-11-07T00:25:52.912860",
     "status": "completed"
    },
    "tags": []
   },
   "outputs": [
    {
     "data": {
      "image/png": "[encoded data removed]",
      "text/plain": [
       "<Figure size 720x648 with 1 Axes>"
      ]
     },
     "metadata": {
      "needs_background": "light"
     },
     "output_type": "display_data"
    }
   ],
   "source": [
    "plt.figure(figsize=(10,9))\n",
    "plt.scatter(testing_plot[:,0], testing_plot[:,1], alpha = 0.1, c = y_test.ravel())\n",
    "contours = plt.contour(x_grid,y_grid,prob_contour)\n",
    "plt.title('Probability Contours')\n",
    "plt.clabel(contours, inline = True );"
   ]
  },
  {
   "cell_type": "code",
   "execution_count": null,
   "id": "e81b4ac7",
   "metadata": {
    "papermill": {
     "duration": 0.060124,
     "end_time": "2021-11-07T00:25:53.441449",
     "exception": false,
     "start_time": "2021-11-07T00:25:53.381325",
     "status": "completed"
    },
    "tags": []
   },
   "outputs": [],
   "source": []
  }
 ],
 "metadata": {
  "kernelspec": {
   "display_name": "Python 3",
   "language": "python",
   "name": "python3"
  },
  "language_info": {
   "codemirror_mode": {
    "name": "ipython",
    "version": 3
   },
   "file_extension": ".py",
   "mimetype": "text/x-python",
   "name": "python",
   "nbconvert_exporter": "python",
   "pygments_lexer": "ipython3",
   "version": "3.6.15"
  },
  "papermill": {
   "default_parameters": {},
   "duration": 162.949521,
   "end_time": "2021-11-07T00:25:53.913577",
   "environment_variables": {},
   "exception": null,
   "input_path": "2020-08-11-part2.ipynb",
   "output_path": "2020-08-11-part2.ipynb",
   "parameters": {},
   "start_time": "2021-11-07T00:23:10.964056",
   "version": "2.3.3"
  }
 },
 "nbformat": 4,
 "nbformat_minor": 5
}