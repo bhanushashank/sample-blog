{
 "cells": [
  {
   "cell_type": "markdown",
   "id": "98380cd3",
   "metadata": {
    "papermill": {
     "duration": 0.034743,
     "end_time": "2021-10-27T20:08:16.778430",
     "exception": false,
     "start_time": "2021-10-27T20:08:16.743687",
     "status": "completed"
    },
    "tags": []
   },
   "source": [
    "# Distinguish Your Own Digits (DYOD)"
   ]
  },
  {
   "cell_type": "markdown",
   "id": "ef31240d",
   "metadata": {
    "papermill": {
     "duration": 0.029597,
     "end_time": "2021-10-27T20:08:16.838578",
     "exception": false,
     "start_time": "2021-10-27T20:08:16.808981",
     "status": "completed"
    },
    "tags": []
   },
   "source": [
    "You are going to write a classifier that distinguishes between the number 3 and number 8."
   ]
  },
  {
   "cell_type": "code",
   "execution_count": 1,
   "id": "b15c8646",
   "metadata": {
    "execution": {
     "iopub.execute_input": "2021-10-27T20:08:16.909034Z",
     "iopub.status.busy": "2021-10-27T20:08:16.908292Z",
     "iopub.status.idle": "2021-10-27T20:08:16.925155Z",
     "shell.execute_reply": "2021-10-27T20:08:16.924651Z"
    },
    "papermill": {
     "duration": 0.055271,
     "end_time": "2021-10-27T20:08:16.925287",
     "exception": false,
     "start_time": "2021-10-27T20:08:16.870016",
     "status": "completed"
    },
    "tags": []
   },
   "outputs": [],
   "source": [
    "%load_ext autoreload\n",
    "%autoreload 2"
   ]
  },
  {
   "cell_type": "code",
   "execution_count": 2,
   "id": "22ef38dc",
   "metadata": {
    "execution": {
     "iopub.execute_input": "2021-10-27T20:08:16.990018Z",
     "iopub.status.busy": "2021-10-27T20:08:16.989190Z",
     "iopub.status.idle": "2021-10-27T20:08:17.682720Z",
     "shell.execute_reply": "2021-10-27T20:08:17.682050Z"
    },
    "papermill": {
     "duration": 0.726728,
     "end_time": "2021-10-27T20:08:17.682856",
     "exception": false,
     "start_time": "2021-10-27T20:08:16.956128",
     "status": "completed"
    },
    "tags": []
   },
   "outputs": [],
   "source": [
    "%matplotlib inline\n",
    "import numpy as np\n",
    "import matplotlib.pyplot as plt\n",
    "import pandas as pd"
   ]
  },
  {
   "cell_type": "markdown",
   "id": "ba036198",
   "metadata": {
    "papermill": {
     "duration": 0.030659,
     "end_time": "2021-10-27T20:08:17.745451",
     "exception": false,
     "start_time": "2021-10-27T20:08:17.714792",
     "status": "completed"
    },
    "tags": []
   },
   "source": [
    "From the command line run `pip install mnist`. This is a library that will help you bring down the mnist dataset. If you run this from a notebook, you need to put  `!pip install mnist` in a cell by itself."
   ]
  },
  {
   "cell_type": "code",
   "execution_count": 3,
   "id": "bb6ad8a1",
   "metadata": {
    "execution": {
     "iopub.execute_input": "2021-10-27T20:08:17.810258Z",
     "iopub.status.busy": "2021-10-27T20:08:17.809642Z",
     "iopub.status.idle": "2021-10-27T20:08:19.758548Z",
     "shell.execute_reply": "2021-10-27T20:08:19.757500Z"
    },
    "papermill": {
     "duration": 1.982651,
     "end_time": "2021-10-27T20:08:19.758683",
     "exception": false,
     "start_time": "2021-10-27T20:08:17.776032",
     "status": "completed"
    },
    "tags": []
   },
   "outputs": [
    {
     "name": "stdout",
     "output_type": "stream",
     "text": [
      "Collecting mnist\r\n",
      "  Downloading mnist-0.2.2-py2.py3-none-any.whl (3.5 kB)\r\n",
      "Requirement already satisfied: numpy in /opt/hostedtoolcache/Python/3.6.15/x64/lib/python3.6/site-packages (from mnist) (1.19.5)\r\n"
     ]
    },
    {
     "name": "stdout",
     "output_type": "stream",
     "text": [
      "Installing collected packages: mnist\r\n"
     ]
    },
    {
     "name": "stdout",
     "output_type": "stream",
     "text": [
      "Successfully installed mnist-0.2.2\r\n"
     ]
    },
    {
     "name": "stdout",
     "output_type": "stream",
     "text": [
      "\u001b[33mWARNING: You are using pip version 21.3; however, version 21.3.1 is available.\r\n",
      "You should consider upgrading via the '/opt/hostedtoolcache/Python/3.6.15/x64/bin/python -m pip install --upgrade pip' command.\u001b[0m\r\n"
     ]
    }
   ],
   "source": [
    "!pip install mnist"
   ]
  },
  {
   "cell_type": "markdown",
   "id": "69df9c9a",
   "metadata": {
    "papermill": {
     "duration": 0.031515,
     "end_time": "2021-10-27T20:08:19.821348",
     "exception": false,
     "start_time": "2021-10-27T20:08:19.789833",
     "status": "completed"
    },
    "tags": []
   },
   "source": [
    "## Preparing the Data"
   ]
  },
  {
   "cell_type": "code",
   "execution_count": 4,
   "id": "7f69d806",
   "metadata": {
    "execution": {
     "iopub.execute_input": "2021-10-27T20:08:19.891427Z",
     "iopub.status.busy": "2021-10-27T20:08:19.890780Z",
     "iopub.status.idle": "2021-10-27T20:08:19.906871Z",
     "shell.execute_reply": "2021-10-27T20:08:19.907539Z"
    },
    "papermill": {
     "duration": 0.053783,
     "end_time": "2021-10-27T20:08:19.907756",
     "exception": false,
     "start_time": "2021-10-27T20:08:19.853973",
     "status": "completed"
    },
    "tags": []
   },
   "outputs": [],
   "source": [
    "import mnist"
   ]
  },
  {
   "cell_type": "code",
   "execution_count": 5,
   "id": "a411e44f",
   "metadata": {
    "execution": {
     "iopub.execute_input": "2021-10-27T20:08:19.975832Z",
     "iopub.status.busy": "2021-10-27T20:08:19.975092Z",
     "iopub.status.idle": "2021-10-27T20:08:20.709606Z",
     "shell.execute_reply": "2021-10-27T20:08:20.709038Z"
    },
    "papermill": {
     "duration": 0.769826,
     "end_time": "2021-10-27T20:08:20.709784",
     "exception": false,
     "start_time": "2021-10-27T20:08:19.939958",
     "status": "completed"
    },
    "tags": []
   },
   "outputs": [],
   "source": [
    "train_images = mnist.train_images()\n",
    "train_labels = mnist.train_labels()"
   ]
  },
  {
   "cell_type": "code",
   "execution_count": 6,
   "id": "dceab3a5",
   "metadata": {
    "execution": {
     "iopub.execute_input": "2021-10-27T20:08:20.781727Z",
     "iopub.status.busy": "2021-10-27T20:08:20.781113Z",
     "iopub.status.idle": "2021-10-27T20:08:20.796911Z",
     "shell.execute_reply": "2021-10-27T20:08:20.796341Z"
    },
    "papermill": {
     "duration": 0.054616,
     "end_time": "2021-10-27T20:08:20.797033",
     "exception": false,
     "start_time": "2021-10-27T20:08:20.742417",
     "status": "completed"
    },
    "tags": []
   },
   "outputs": [
    {
     "data": {
      "text/plain": [
       "((60000, 28, 28), (60000,))"
      ]
     },
     "execution_count": 6,
     "metadata": {},
     "output_type": "execute_result"
    }
   ],
   "source": [
    "train_images.shape, train_labels.shape"
   ]
  },
  {
   "cell_type": "code",
   "execution_count": 7,
   "id": "f50dc2bb",
   "metadata": {
    "execution": {
     "iopub.execute_input": "2021-10-27T20:08:20.869001Z",
     "iopub.status.busy": "2021-10-27T20:08:20.868298Z",
     "iopub.status.idle": "2021-10-27T20:08:21.009003Z",
     "shell.execute_reply": "2021-10-27T20:08:21.009507Z"
    },
    "papermill": {
     "duration": 0.179528,
     "end_time": "2021-10-27T20:08:21.009674",
     "exception": false,
     "start_time": "2021-10-27T20:08:20.830146",
     "status": "completed"
    },
    "tags": []
   },
   "outputs": [],
   "source": [
    "test_images = mnist.test_images()\n",
    "test_labels = mnist.test_labels()"
   ]
  },
  {
   "cell_type": "code",
   "execution_count": 8,
   "id": "fc38cf1b",
   "metadata": {
    "execution": {
     "iopub.execute_input": "2021-10-27T20:08:21.080065Z",
     "iopub.status.busy": "2021-10-27T20:08:21.079369Z",
     "iopub.status.idle": "2021-10-27T20:08:21.093614Z",
     "shell.execute_reply": "2021-10-27T20:08:21.093091Z"
    },
    "papermill": {
     "duration": 0.05229,
     "end_time": "2021-10-27T20:08:21.093738",
     "exception": false,
     "start_time": "2021-10-27T20:08:21.041448",
     "status": "completed"
    },
    "tags": []
   },
   "outputs": [
    {
     "data": {
      "text/plain": [
       "((10000, 28, 28), (10000,))"
      ]
     },
     "execution_count": 8,
     "metadata": {},
     "output_type": "execute_result"
    }
   ],
   "source": [
    "test_images.shape, test_labels.shape"
   ]
  },
  {
   "cell_type": "code",
   "execution_count": 9,
   "id": "f9ed8fe0",
   "metadata": {
    "execution": {
     "iopub.execute_input": "2021-10-27T20:08:21.164032Z",
     "iopub.status.busy": "2021-10-27T20:08:21.163178Z",
     "iopub.status.idle": "2021-10-27T20:08:21.360108Z",
     "shell.execute_reply": "2021-10-27T20:08:21.359425Z"
    },
    "papermill": {
     "duration": 0.235081,
     "end_time": "2021-10-27T20:08:21.360288",
     "exception": false,
     "start_time": "2021-10-27T20:08:21.125207",
     "status": "completed"
    },
    "tags": []
   },
   "outputs": [
    {
     "name": "stdout",
     "output_type": "stream",
     "text": [
      "2\n"
     ]
    },
    {
     "data": {
      "text/plain": [
       "<matplotlib.image.AxesImage at 0x7fcbda093160>"
      ]
     },
     "execution_count": 9,
     "metadata": {},
     "output_type": "execute_result"
    },
    {
     "data": {
      "image/png": "[encoded data removed]",
      "text/plain": [
       "<Figure size 432x288 with 1 Axes>"
      ]
     },
     "metadata": {
      "needs_background": "light"
     },
     "output_type": "display_data"
    }
   ],
   "source": [
    "image_index = 7776 # You may select anything up to 60,000\n",
    "print(train_labels[image_index]) \n",
    "plt.imshow(train_images[image_index], cmap='Greys')"
   ]
  },
  {
   "cell_type": "markdown",
   "id": "a8d2388d",
   "metadata": {
    "papermill": {
     "duration": 0.033758,
     "end_time": "2021-10-27T20:08:21.429083",
     "exception": false,
     "start_time": "2021-10-27T20:08:21.395325",
     "status": "completed"
    },
    "tags": []
   },
   "source": [
    "## Filter data to get 3 and 8 out"
   ]
  },
  {
   "cell_type": "code",
   "execution_count": 10,
   "id": "776f7fc7",
   "metadata": {
    "execution": {
     "iopub.execute_input": "2021-10-27T20:08:21.505112Z",
     "iopub.status.busy": "2021-10-27T20:08:21.500982Z",
     "iopub.status.idle": "2021-10-27T20:08:21.522072Z",
     "shell.execute_reply": "2021-10-27T20:08:21.522569Z"
    },
    "papermill": {
     "duration": 0.059719,
     "end_time": "2021-10-27T20:08:21.522714",
     "exception": false,
     "start_time": "2021-10-27T20:08:21.462995",
     "status": "completed"
    },
    "tags": []
   },
   "outputs": [],
   "source": [
    "train_filter = np.where((train_labels == 3 ) | (train_labels == 8))\n",
    "test_filter = np.where((test_labels == 3) | (test_labels == 8))\n",
    "X_train, y_train = train_images[train_filter], train_labels[train_filter]\n",
    "X_test, y_test = test_images[test_filter], test_labels[test_filter]"
   ]
  },
  {
   "cell_type": "markdown",
   "id": "948f0b7e",
   "metadata": {
    "papermill": {
     "duration": 0.033253,
     "end_time": "2021-10-27T20:08:21.589970",
     "exception": false,
     "start_time": "2021-10-27T20:08:21.556717",
     "status": "completed"
    },
    "tags": []
   },
   "source": [
    "We normalize the pizel values in the 0 to 1 range"
   ]
  },
  {
   "cell_type": "code",
   "execution_count": 11,
   "id": "ee4c2166",
   "metadata": {
    "execution": {
     "iopub.execute_input": "2021-10-27T20:08:21.672663Z",
     "iopub.status.busy": "2021-10-27T20:08:21.665706Z",
     "iopub.status.idle": "2021-10-27T20:08:21.728837Z",
     "shell.execute_reply": "2021-10-27T20:08:21.729650Z"
    },
    "papermill": {
     "duration": 0.107141,
     "end_time": "2021-10-27T20:08:21.729808",
     "exception": false,
     "start_time": "2021-10-27T20:08:21.622667",
     "status": "completed"
    },
    "tags": []
   },
   "outputs": [],
   "source": [
    "X_train = X_train/255.\n",
    "X_test = X_test/255."
   ]
  },
  {
   "cell_type": "markdown",
   "id": "ddcf4fab",
   "metadata": {
    "papermill": {
     "duration": 0.032961,
     "end_time": "2021-10-27T20:08:21.797309",
     "exception": false,
     "start_time": "2021-10-27T20:08:21.764348",
     "status": "completed"
    },
    "tags": []
   },
   "source": [
    "And setup the labels as 1 (when the digit is 3) and 0 (when the digit is 8)"
   ]
  },
  {
   "cell_type": "code",
   "execution_count": 12,
   "id": "7dc908f2",
   "metadata": {
    "execution": {
     "iopub.execute_input": "2021-10-27T20:08:21.869219Z",
     "iopub.status.busy": "2021-10-27T20:08:21.868205Z",
     "iopub.status.idle": "2021-10-27T20:08:21.882359Z",
     "shell.execute_reply": "2021-10-27T20:08:21.881739Z"
    },
    "papermill": {
     "duration": 0.052555,
     "end_time": "2021-10-27T20:08:21.882517",
     "exception": false,
     "start_time": "2021-10-27T20:08:21.829962",
     "status": "completed"
    },
    "tags": []
   },
   "outputs": [],
   "source": [
    "y_train = 1*(y_train==3)\n",
    "y_test = 1*(y_test==3)"
   ]
  },
  {
   "cell_type": "code",
   "execution_count": 13,
   "id": "01e4e969",
   "metadata": {
    "execution": {
     "iopub.execute_input": "2021-10-27T20:08:21.957455Z",
     "iopub.status.busy": "2021-10-27T20:08:21.956682Z",
     "iopub.status.idle": "2021-10-27T20:08:21.970558Z",
     "shell.execute_reply": "2021-10-27T20:08:21.969958Z"
    },
    "papermill": {
     "duration": 0.053858,
     "end_time": "2021-10-27T20:08:21.970683",
     "exception": false,
     "start_time": "2021-10-27T20:08:21.916825",
     "status": "completed"
    },
    "tags": []
   },
   "outputs": [
    {
     "data": {
      "text/plain": [
       "((11982, 28, 28), (1984, 28, 28))"
      ]
     },
     "execution_count": 13,
     "metadata": {},
     "output_type": "execute_result"
    }
   ],
   "source": [
    "X_train.shape, X_test.shape"
   ]
  },
  {
   "cell_type": "markdown",
   "id": "5ccf3f85",
   "metadata": {
    "papermill": {
     "duration": 0.031666,
     "end_time": "2021-10-27T20:08:22.035253",
     "exception": false,
     "start_time": "2021-10-27T20:08:22.003587",
     "status": "completed"
    },
    "tags": []
   },
   "source": [
    "We reshape the data to flatten the image pixels into a set of features or co-variates:"
   ]
  },
  {
   "cell_type": "code",
   "execution_count": 14,
   "id": "5286a4a3",
   "metadata": {
    "execution": {
     "iopub.execute_input": "2021-10-27T20:08:22.110671Z",
     "iopub.status.busy": "2021-10-27T20:08:22.110045Z",
     "iopub.status.idle": "2021-10-27T20:08:22.126507Z",
     "shell.execute_reply": "2021-10-27T20:08:22.127266Z"
    },
    "papermill": {
     "duration": 0.055853,
     "end_time": "2021-10-27T20:08:22.127432",
     "exception": false,
     "start_time": "2021-10-27T20:08:22.071579",
     "status": "completed"
    },
    "tags": []
   },
   "outputs": [
    {
     "data": {
      "text/plain": [
       "((11982, 784), (1984, 784))"
      ]
     },
     "execution_count": 14,
     "metadata": {},
     "output_type": "execute_result"
    }
   ],
   "source": [
    "X_train = X_train.reshape(X_train.shape[0], -1)\n",
    "X_test = X_test.reshape(X_test.shape[0], -1)\n",
    "X_train.shape, X_test.shape"
   ]
  },
  {
   "cell_type": "code",
   "execution_count": 15,
   "id": "73c5f88a",
   "metadata": {
    "execution": {
     "iopub.execute_input": "2021-10-27T20:08:22.208205Z",
     "iopub.status.busy": "2021-10-27T20:08:22.207457Z",
     "iopub.status.idle": "2021-10-27T20:08:22.229250Z",
     "shell.execute_reply": "2021-10-27T20:08:22.229821Z"
    },
    "papermill": {
     "duration": 0.065375,
     "end_time": "2021-10-27T20:08:22.229983",
     "exception": false,
     "start_time": "2021-10-27T20:08:22.164608",
     "status": "completed"
    },
    "tags": []
   },
   "outputs": [],
   "source": [
    "#Impoting functions from 'Kudzu'\n",
    "from kudzu.model import Model\n",
    "from kudzu.train import Learner\n",
    "from kudzu.optim import GD\n",
    "from kudzu.data import Data, Sampler,Dataloader\n",
    "\n",
    "from kudzu.callbacks import AccCallback\n",
    "from kudzu.callbacks import ClfCallback\n",
    "\n",
    "from kudzu.loss import MSE\n",
    "\n",
    "from kudzu.layer import Sigmoid,Relu\n",
    "from kudzu.layer import Affine"
   ]
  },
  {
   "cell_type": "markdown",
   "id": "bc01172a",
   "metadata": {
    "papermill": {
     "duration": 0.033437,
     "end_time": "2021-10-27T20:08:22.300400",
     "exception": false,
     "start_time": "2021-10-27T20:08:22.266963",
     "status": "completed"
    },
    "tags": []
   },
   "source": [
    "### Let us create a `Config` class, to store important parameters. \n",
    "This class essentially plays the role of a dictionary."
   ]
  },
  {
   "cell_type": "code",
   "execution_count": 16,
   "id": "978281aa",
   "metadata": {
    "execution": {
     "iopub.execute_input": "2021-10-27T20:08:22.372670Z",
     "iopub.status.busy": "2021-10-27T20:08:22.371760Z",
     "iopub.status.idle": "2021-10-27T20:08:22.387010Z",
     "shell.execute_reply": "2021-10-27T20:08:22.386296Z"
    },
    "papermill": {
     "duration": 0.053183,
     "end_time": "2021-10-27T20:08:22.387153",
     "exception": false,
     "start_time": "2021-10-27T20:08:22.333970",
     "status": "completed"
    },
    "tags": []
   },
   "outputs": [],
   "source": [
    "class Config:\n",
    "    pass\n",
    "config = Config()\n",
    "config.lr = 0.001\n",
    "config.num_epochs = 250\n",
    "config.bs = 50"
   ]
  },
  {
   "cell_type": "markdown",
   "id": "1385fa59",
   "metadata": {
    "papermill": {
     "duration": 0.033783,
     "end_time": "2021-10-27T20:08:22.456402",
     "exception": false,
     "start_time": "2021-10-27T20:08:22.422619",
     "status": "completed"
    },
    "tags": []
   },
   "source": [
    "### Running Models with the Training data\n",
    "Details about the network layers:\n",
    "- A first affine layer has 784 inputs and does 100 affine transforms. These are followed by a Relu\n",
    "- A second affine layer has 100 inputs from the 100 activations of the past layer, and does 100 affine transforms. These are followed by a Relu\n",
    "- A third affine layer has 100 activations and does 2 affine transformations to create an embedding for visualization. There is no non-linearity here.\n",
    "- A final \"logistic regression\" which has an affine transform from 2 inputs to 1 output, which is squeezed through a sigmoid.\n"
   ]
  },
  {
   "cell_type": "code",
   "execution_count": 17,
   "id": "2b9c66db",
   "metadata": {
    "execution": {
     "iopub.execute_input": "2021-10-27T20:08:22.535143Z",
     "iopub.status.busy": "2021-10-27T20:08:22.534521Z",
     "iopub.status.idle": "2021-10-27T20:08:22.545775Z",
     "shell.execute_reply": "2021-10-27T20:08:22.545236Z"
    },
    "papermill": {
     "duration": 0.056295,
     "end_time": "2021-10-27T20:08:22.545898",
     "exception": false,
     "start_time": "2021-10-27T20:08:22.489603",
     "status": "completed"
    },
    "tags": []
   },
   "outputs": [],
   "source": [
    "data = Data(X_train, y_train.reshape(-1,1))\n",
    "sampler = Sampler(data, config.bs, shuffle=True)\n",
    "\n",
    "dl = Dataloader(data, sampler)\n",
    "\n",
    "opt = GD(config.lr)\n",
    "loss = MSE()"
   ]
  },
  {
   "cell_type": "code",
   "execution_count": 18,
   "id": "b275e4c2",
   "metadata": {
    "execution": {
     "iopub.execute_input": "2021-10-27T20:08:22.628461Z",
     "iopub.status.busy": "2021-10-27T20:08:22.617614Z",
     "iopub.status.idle": "2021-10-27T20:08:22.635267Z",
     "shell.execute_reply": "2021-10-27T20:08:22.635855Z"
    },
    "papermill": {
     "duration": 0.055957,
     "end_time": "2021-10-27T20:08:22.635994",
     "exception": false,
     "start_time": "2021-10-27T20:08:22.580037",
     "status": "completed"
    },
    "tags": []
   },
   "outputs": [],
   "source": [
    "training_data_x = X_train\n",
    "testing_data_x = X_test\n",
    "training_data_y = y_train.reshape(-1,1)\n",
    "testing_data_y = y_test.reshape(-1,1)"
   ]
  },
  {
   "cell_type": "code",
   "execution_count": 19,
   "id": "76951160",
   "metadata": {
    "execution": {
     "iopub.execute_input": "2021-10-27T20:08:22.717415Z",
     "iopub.status.busy": "2021-10-27T20:08:22.716781Z",
     "iopub.status.idle": "2021-10-27T20:08:22.730692Z",
     "shell.execute_reply": "2021-10-27T20:08:22.731185Z"
    },
    "papermill": {
     "duration": 0.060299,
     "end_time": "2021-10-27T20:08:22.731327",
     "exception": false,
     "start_time": "2021-10-27T20:08:22.671028",
     "status": "completed"
    },
    "tags": []
   },
   "outputs": [
    {
     "name": "stdout",
     "output_type": "stream",
     "text": [
      "xavier\n",
      "xavier\n",
      "xavier\n",
      "xavier\n",
      "xavier\n"
     ]
    }
   ],
   "source": [
    "layers = [Affine(\"first\", 784, 100), Relu(\"first\"), Affine(\"second\", 100, 100), Relu(\"second\"), Affine(\"third\", 100, 2), Affine(\"last\", 2, 1), Sigmoid(\"last\")]\n",
    "model_nn = Model(layers)\n",
    "model_lr = Model([Affine(\"logits\", 784, 1), Sigmoid(\"sigmoid\")])"
   ]
  },
  {
   "cell_type": "code",
   "execution_count": 20,
   "id": "6eede77a",
   "metadata": {
    "execution": {
     "iopub.execute_input": "2021-10-27T20:08:22.810450Z",
     "iopub.status.busy": "2021-10-27T20:08:22.809807Z",
     "iopub.status.idle": "2021-10-27T20:08:22.821020Z",
     "shell.execute_reply": "2021-10-27T20:08:22.821532Z"
    },
    "papermill": {
     "duration": 0.056154,
     "end_time": "2021-10-27T20:08:22.821676",
     "exception": false,
     "start_time": "2021-10-27T20:08:22.765522",
     "status": "completed"
    },
    "tags": []
   },
   "outputs": [],
   "source": [
    "nn_learner = Learner(loss, model_nn, opt, config.num_epochs)\n",
    "acc_nn = ClfCallback(nn_learner, config.bs, training_data_x , testing_data_x, training_data_y, testing_data_y)\n",
    "nn_learner.set_callbacks([acc_nn])"
   ]
  },
  {
   "cell_type": "code",
   "execution_count": 21,
   "id": "877b6cc7",
   "metadata": {
    "execution": {
     "iopub.execute_input": "2021-10-27T20:08:22.895850Z",
     "iopub.status.busy": "2021-10-27T20:08:22.895155Z",
     "iopub.status.idle": "2021-10-27T20:08:22.909107Z",
     "shell.execute_reply": "2021-10-27T20:08:22.907910Z"
    },
    "papermill": {
     "duration": 0.053236,
     "end_time": "2021-10-27T20:08:22.909251",
     "exception": false,
     "start_time": "2021-10-27T20:08:22.856015",
     "status": "completed"
    },
    "tags": []
   },
   "outputs": [],
   "source": [
    "lr_learner = Learner(loss, model_lr, opt, config.num_epochs)\n",
    "acc_lr = ClfCallback(lr_learner, config.bs, training_data_x , testing_data_x, training_data_y, testing_data_y)\n",
    "lr_learner.set_callbacks([acc_lr])"
   ]
  },
  {
   "cell_type": "code",
   "execution_count": 22,
   "id": "d9b133c3",
   "metadata": {
    "execution": {
     "iopub.execute_input": "2021-10-27T20:08:22.987428Z",
     "iopub.status.busy": "2021-10-27T20:08:22.986747Z",
     "iopub.status.idle": "2021-10-27T20:10:44.923394Z",
     "shell.execute_reply": "2021-10-27T20:10:44.924338Z"
    },
    "papermill": {
     "duration": 141.978993,
     "end_time": "2021-10-27T20:10:44.924503",
     "exception": false,
     "start_time": "2021-10-27T20:08:22.945510",
     "status": "completed"
    },
    "tags": []
   },
   "outputs": [
    {
     "name": "stdout",
     "output_type": "stream",
     "text": [
      "Epoch 0, Loss 0.2143\n",
      "Training Accuracy: 0.8168, Testing Accuracy: 0.8438\n",
      "\n"
     ]
    },
    {
     "name": "stdout",
     "output_type": "stream",
     "text": [
      "Epoch 10, Loss 0.0669\n",
      "Training Accuracy: 0.9331, Testing Accuracy: 0.9405\n",
      "\n"
     ]
    },
    {
     "name": "stdout",
     "output_type": "stream",
     "text": [
      "Epoch 20, Loss 0.0466\n",
      "Training Accuracy: 0.9499, Testing Accuracy: 0.9561\n",
      "\n"
     ]
    },
    {
     "name": "stdout",
     "output_type": "stream",
     "text": [
      "Epoch 30, Loss 0.0387\n",
      "Training Accuracy: 0.9579, Testing Accuracy: 0.9617\n",
      "\n"
     ]
    },
    {
     "name": "stdout",
     "output_type": "stream",
     "text": [
      "Epoch 40, Loss 0.0345\n",
      "Training Accuracy: 0.9619, Testing Accuracy: 0.9622\n",
      "\n"
     ]
    },
    {
     "name": "stdout",
     "output_type": "stream",
     "text": [
      "Epoch 50, Loss 0.0318\n",
      "Training Accuracy: 0.9647, Testing Accuracy: 0.9647\n",
      "\n"
     ]
    },
    {
     "name": "stdout",
     "output_type": "stream",
     "text": [
      "Epoch 60, Loss 0.0298\n",
      "Training Accuracy: 0.9664, Testing Accuracy: 0.9652\n",
      "\n"
     ]
    },
    {
     "name": "stdout",
     "output_type": "stream",
     "text": [
      "Epoch 70, Loss 0.0283\n",
      "Training Accuracy: 0.9675, Testing Accuracy: 0.9667\n",
      "\n"
     ]
    },
    {
     "name": "stdout",
     "output_type": "stream",
     "text": [
      "Epoch 80, Loss 0.027\n",
      "Training Accuracy: 0.9687, Testing Accuracy: 0.9682\n",
      "\n"
     ]
    },
    {
     "name": "stdout",
     "output_type": "stream",
     "text": [
      "Epoch 90, Loss 0.026\n",
      "Training Accuracy: 0.9697, Testing Accuracy: 0.9688\n",
      "\n"
     ]
    },
    {
     "name": "stdout",
     "output_type": "stream",
     "text": [
      "Epoch 100, Loss 0.0251\n",
      "Training Accuracy: 0.9709, Testing Accuracy: 0.9688\n",
      "\n"
     ]
    },
    {
     "name": "stdout",
     "output_type": "stream",
     "text": [
      "Epoch 110, Loss 0.0244\n",
      "Training Accuracy: 0.9718, Testing Accuracy: 0.9693\n",
      "\n"
     ]
    },
    {
     "name": "stdout",
     "output_type": "stream",
     "text": [
      "Epoch 120, Loss 0.0237\n",
      "Training Accuracy: 0.9723, Testing Accuracy: 0.9688\n",
      "\n"
     ]
    },
    {
     "name": "stdout",
     "output_type": "stream",
     "text": [
      "Epoch 130, Loss 0.023\n",
      "Training Accuracy: 0.9729, Testing Accuracy: 0.9703\n",
      "\n"
     ]
    },
    {
     "name": "stdout",
     "output_type": "stream",
     "text": [
      "Epoch 140, Loss 0.0224\n",
      "Training Accuracy: 0.9733, Testing Accuracy: 0.9703\n",
      "\n"
     ]
    },
    {
     "name": "stdout",
     "output_type": "stream",
     "text": [
      "Epoch 150, Loss 0.0219\n",
      "Training Accuracy: 0.9735, Testing Accuracy: 0.9713\n",
      "\n"
     ]
    },
    {
     "name": "stdout",
     "output_type": "stream",
     "text": [
      "Epoch 160, Loss 0.0214\n",
      "Training Accuracy: 0.9745, Testing Accuracy: 0.9713\n",
      "\n"
     ]
    },
    {
     "name": "stdout",
     "output_type": "stream",
     "text": [
      "Epoch 170, Loss 0.0209\n",
      "Training Accuracy: 0.9759, Testing Accuracy: 0.9728\n",
      "\n"
     ]
    },
    {
     "name": "stdout",
     "output_type": "stream",
     "text": [
      "Epoch 180, Loss 0.0204\n",
      "Training Accuracy: 0.9765, Testing Accuracy: 0.9738\n",
      "\n"
     ]
    },
    {
     "name": "stdout",
     "output_type": "stream",
     "text": [
      "Epoch 190, Loss 0.02\n",
      "Training Accuracy: 0.9770, Testing Accuracy: 0.9738\n",
      "\n"
     ]
    },
    {
     "name": "stdout",
     "output_type": "stream",
     "text": [
      "Epoch 200, Loss 0.0196\n",
      "Training Accuracy: 0.9775, Testing Accuracy: 0.9738\n",
      "\n"
     ]
    },
    {
     "name": "stdout",
     "output_type": "stream",
     "text": [
      "Epoch 210, Loss 0.0192\n",
      "Training Accuracy: 0.9786, Testing Accuracy: 0.9753\n",
      "\n"
     ]
    },
    {
     "name": "stdout",
     "output_type": "stream",
     "text": [
      "Epoch 220, Loss 0.0188\n",
      "Training Accuracy: 0.9791, Testing Accuracy: 0.9748\n",
      "\n"
     ]
    },
    {
     "name": "stdout",
     "output_type": "stream",
     "text": [
      "Epoch 230, Loss 0.0184\n",
      "Training Accuracy: 0.9798, Testing Accuracy: 0.9748\n",
      "\n"
     ]
    },
    {
     "name": "stdout",
     "output_type": "stream",
     "text": [
      "Epoch 240, Loss 0.018\n",
      "Training Accuracy: 0.9806, Testing Accuracy: 0.9748\n",
      "\n"
     ]
    },
    {
     "data": {
      "text/plain": [
       "0.03411968936495856"
      ]
     },
     "execution_count": 22,
     "metadata": {},
     "output_type": "execute_result"
    }
   ],
   "source": [
    "nn_learner.train_loop(dl)"
   ]
  },
  {
   "cell_type": "code",
   "execution_count": 23,
   "id": "e0163366",
   "metadata": {
    "execution": {
     "iopub.execute_input": "2021-10-27T20:10:45.025532Z",
     "iopub.status.busy": "2021-10-27T20:10:45.024822Z",
     "iopub.status.idle": "2021-10-27T20:11:05.595537Z",
     "shell.execute_reply": "2021-10-27T20:11:05.596541Z"
    },
    "papermill": {
     "duration": 20.625688,
     "end_time": "2021-10-27T20:11:05.596743",
     "exception": false,
     "start_time": "2021-10-27T20:10:44.971055",
     "status": "completed"
    },
    "tags": []
   },
   "outputs": [
    {
     "name": "stdout",
     "output_type": "stream",
     "text": [
      "Epoch 0, Loss 0.2355\n",
      "Training Accuracy: 0.7359, Testing Accuracy: 0.7414\n",
      "\n"
     ]
    },
    {
     "name": "stdout",
     "output_type": "stream",
     "text": [
      "Epoch 10, Loss 0.1018\n",
      "Training Accuracy: 0.9126, Testing Accuracy: 0.9199\n",
      "\n"
     ]
    },
    {
     "name": "stdout",
     "output_type": "stream",
     "text": [
      "Epoch 20, Loss 0.0789\n",
      "Training Accuracy: 0.9254, Testing Accuracy: 0.9360\n",
      "\n"
     ]
    },
    {
     "name": "stdout",
     "output_type": "stream",
     "text": [
      "Epoch 30, Loss 0.0683\n",
      "Training Accuracy: 0.9353, Testing Accuracy: 0.9466\n",
      "\n"
     ]
    },
    {
     "name": "stdout",
     "output_type": "stream",
     "text": [
      "Epoch 40, Loss 0.0618\n",
      "Training Accuracy: 0.9413, Testing Accuracy: 0.9521\n",
      "\n"
     ]
    },
    {
     "name": "stdout",
     "output_type": "stream",
     "text": [
      "Epoch 50, Loss 0.0573\n",
      "Training Accuracy: 0.9441, Testing Accuracy: 0.9572\n",
      "\n"
     ]
    },
    {
     "name": "stdout",
     "output_type": "stream",
     "text": [
      "Epoch 60, Loss 0.054\n",
      "Training Accuracy: 0.9463, Testing Accuracy: 0.9592\n",
      "\n"
     ]
    },
    {
     "name": "stdout",
     "output_type": "stream",
     "text": [
      "Epoch 70, Loss 0.0515\n",
      "Training Accuracy: 0.9477, Testing Accuracy: 0.9607\n",
      "\n"
     ]
    },
    {
     "name": "stdout",
     "output_type": "stream",
     "text": [
      "Epoch 80, Loss 0.0495\n",
      "Training Accuracy: 0.9496, Testing Accuracy: 0.9627\n",
      "\n"
     ]
    },
    {
     "name": "stdout",
     "output_type": "stream",
     "text": [
      "Epoch 90, Loss 0.0478\n",
      "Training Accuracy: 0.9508, Testing Accuracy: 0.9632\n",
      "\n"
     ]
    },
    {
     "name": "stdout",
     "output_type": "stream",
     "text": [
      "Epoch 100, Loss 0.0464\n",
      "Training Accuracy: 0.9521, Testing Accuracy: 0.9642\n",
      "\n"
     ]
    },
    {
     "name": "stdout",
     "output_type": "stream",
     "text": [
      "Epoch 110, Loss 0.0451\n",
      "Training Accuracy: 0.9533, Testing Accuracy: 0.9652\n",
      "\n"
     ]
    },
    {
     "name": "stdout",
     "output_type": "stream",
     "text": [
      "Epoch 120, Loss 0.0441\n",
      "Training Accuracy: 0.9542, Testing Accuracy: 0.9652\n",
      "\n"
     ]
    },
    {
     "name": "stdout",
     "output_type": "stream",
     "text": [
      "Epoch 130, Loss 0.0431\n",
      "Training Accuracy: 0.9545, Testing Accuracy: 0.9647\n",
      "\n"
     ]
    },
    {
     "name": "stdout",
     "output_type": "stream",
     "text": [
      "Epoch 140, Loss 0.0423\n",
      "Training Accuracy: 0.9550, Testing Accuracy: 0.9662\n",
      "\n"
     ]
    },
    {
     "name": "stdout",
     "output_type": "stream",
     "text": [
      "Epoch 150, Loss 0.0415\n",
      "Training Accuracy: 0.9555, Testing Accuracy: 0.9672\n",
      "\n"
     ]
    },
    {
     "name": "stdout",
     "output_type": "stream",
     "text": [
      "Epoch 160, Loss 0.0409\n",
      "Training Accuracy: 0.9557, Testing Accuracy: 0.9682\n",
      "\n"
     ]
    },
    {
     "name": "stdout",
     "output_type": "stream",
     "text": [
      "Epoch 170, Loss 0.0402\n",
      "Training Accuracy: 0.9563, Testing Accuracy: 0.9682\n",
      "\n"
     ]
    },
    {
     "name": "stdout",
     "output_type": "stream",
     "text": [
      "Epoch 180, Loss 0.0397\n",
      "Training Accuracy: 0.9566, Testing Accuracy: 0.9688\n",
      "\n"
     ]
    },
    {
     "name": "stdout",
     "output_type": "stream",
     "text": [
      "Epoch 190, Loss 0.0392\n",
      "Training Accuracy: 0.9571, Testing Accuracy: 0.9693\n",
      "\n"
     ]
    },
    {
     "name": "stdout",
     "output_type": "stream",
     "text": [
      "Epoch 200, Loss 0.0387\n",
      "Training Accuracy: 0.9574, Testing Accuracy: 0.9693\n",
      "\n"
     ]
    },
    {
     "name": "stdout",
     "output_type": "stream",
     "text": [
      "Epoch 210, Loss 0.0382\n",
      "Training Accuracy: 0.9579, Testing Accuracy: 0.9693\n",
      "\n"
     ]
    },
    {
     "name": "stdout",
     "output_type": "stream",
     "text": [
      "Epoch 220, Loss 0.0378\n",
      "Training Accuracy: 0.9584, Testing Accuracy: 0.9693\n",
      "\n"
     ]
    },
    {
     "name": "stdout",
     "output_type": "stream",
     "text": [
      "Epoch 230, Loss 0.0374\n",
      "Training Accuracy: 0.9586, Testing Accuracy: 0.9693\n",
      "\n"
     ]
    },
    {
     "name": "stdout",
     "output_type": "stream",
     "text": [
      "Epoch 240, Loss 0.0371\n",
      "Training Accuracy: 0.9589, Testing Accuracy: 0.9693\n",
      "\n"
     ]
    },
    {
     "data": {
      "text/plain": [
       "0.03705388236928569"
      ]
     },
     "execution_count": 23,
     "metadata": {},
     "output_type": "execute_result"
    }
   ],
   "source": [
    "lr_learner.train_loop(dl)"
   ]
  },
  {
   "cell_type": "code",
   "execution_count": 24,
   "id": "ca410940",
   "metadata": {
    "execution": {
     "iopub.execute_input": "2021-10-27T20:11:05.713122Z",
     "iopub.status.busy": "2021-10-27T20:11:05.712404Z",
     "iopub.status.idle": "2021-10-27T20:11:06.025177Z",
     "shell.execute_reply": "2021-10-27T20:11:06.025794Z"
    },
    "papermill": {
     "duration": 0.374014,
     "end_time": "2021-10-27T20:11:06.025965",
     "exception": false,
     "start_time": "2021-10-27T20:11:05.651951",
     "status": "completed"
    },
    "tags": []
   },
   "outputs": [
    {
     "data": {
      "text/plain": [
       "<matplotlib.legend.Legend at 0x7fcbd9c77940>"
      ]
     },
     "execution_count": 24,
     "metadata": {},
     "output_type": "execute_result"
    },
    {
     "data": {
      "image/png": "[encoded data removed]",
      "text/plain": [
       "<Figure size 1080x720 with 1 Axes>"
      ]
     },
     "metadata": {
      "needs_background": "light"
     },
     "output_type": "display_data"
    }
   ],
   "source": [
    "#comparing the results of NN and LR\n",
    "plt.figure(figsize=(15,10))\n",
    "\n",
    "# Neural Network plots\n",
    "plt.plot(acc_nn.accuracies, 'r-', label = \"Training Accuracies - NN\")\n",
    "plt.plot(acc_nn.test_accuracies, 'g-', label = \"Testing Accuracies - NN\")\n",
    "\n",
    "# Logistic Regression plots\n",
    "plt.plot(acc_lr.accuracies, 'k-', label = \"Training Accuracies - LR\")\n",
    "plt.plot(acc_lr.test_accuracies, 'b-', label = \"Testing Accuracies - LR\")\n",
    "plt.legend()"
   ]
  },
  {
   "cell_type": "markdown",
   "id": "80dfb35c",
   "metadata": {
    "papermill": {
     "duration": 0.056207,
     "end_time": "2021-10-27T20:11:06.139263",
     "exception": false,
     "start_time": "2021-10-27T20:11:06.083056",
     "status": "completed"
    },
    "tags": []
   },
   "source": [
    "#### Plotting the outputs of this layer of the NN.\n"
   ]
  },
  {
   "cell_type": "code",
   "execution_count": 25,
   "id": "45eb2ff5",
   "metadata": {
    "execution": {
     "iopub.execute_input": "2021-10-27T20:11:06.268767Z",
     "iopub.status.busy": "2021-10-27T20:11:06.268068Z",
     "iopub.status.idle": "2021-10-27T20:11:06.295096Z",
     "shell.execute_reply": "2021-10-27T20:11:06.296070Z"
    },
    "papermill": {
     "duration": 0.093566,
     "end_time": "2021-10-27T20:11:06.296251",
     "exception": false,
     "start_time": "2021-10-27T20:11:06.202685",
     "status": "completed"
    },
    "tags": []
   },
   "outputs": [],
   "source": [
    "new_model = Model(layers[:-2])\n",
    "testing_plot = new_model(testing_data_x)"
   ]
  },
  {
   "cell_type": "code",
   "execution_count": 26,
   "id": "4c0a5485",
   "metadata": {
    "execution": {
     "iopub.execute_input": "2021-10-27T20:11:06.417545Z",
     "iopub.status.busy": "2021-10-27T20:11:06.416832Z",
     "iopub.status.idle": "2021-10-27T20:11:06.666271Z",
     "shell.execute_reply": "2021-10-27T20:11:06.665700Z"
    },
    "papermill": {
     "duration": 0.312022,
     "end_time": "2021-10-27T20:11:06.666411",
     "exception": false,
     "start_time": "2021-10-27T20:11:06.354389",
     "status": "completed"
    },
    "tags": []
   },
   "outputs": [
    {
     "data": {
      "text/plain": [
       "Text(0.5, 1.0, 'Outputs')"
      ]
     },
     "execution_count": 26,
     "metadata": {},
     "output_type": "execute_result"
    },
    {
     "data": {
      "image/png": "[encoded data removed]",
      "text/plain": [
       "<Figure size 576x504 with 1 Axes>"
      ]
     },
     "metadata": {
      "needs_background": "light"
     },
     "output_type": "display_data"
    }
   ],
   "source": [
    "# Plotting the scatter plot of points and color coding by class\n",
    "plt.figure(figsize=(8,7))\n",
    "plt.scatter(testing_plot[:,0], testing_plot[:,1], alpha = 0.1, c = y_test.ravel());\n",
    "plt.title('Outputs')"
   ]
  },
  {
   "cell_type": "markdown",
   "id": "a74fcf8f",
   "metadata": {
    "papermill": {
     "duration": 0.058068,
     "end_time": "2021-10-27T20:11:06.781851",
     "exception": false,
     "start_time": "2021-10-27T20:11:06.723783",
     "status": "completed"
    },
    "tags": []
   },
   "source": [
    "Probability contours"
   ]
  },
  {
   "cell_type": "code",
   "execution_count": 27,
   "id": "d0afc8e3",
   "metadata": {
    "execution": {
     "iopub.execute_input": "2021-10-27T20:11:06.909204Z",
     "iopub.status.busy": "2021-10-27T20:11:06.908575Z",
     "iopub.status.idle": "2021-10-27T20:11:06.916702Z",
     "shell.execute_reply": "2021-10-27T20:11:06.915915Z"
    },
    "papermill": {
     "duration": 0.07801,
     "end_time": "2021-10-27T20:11:06.916825",
     "exception": false,
     "start_time": "2021-10-27T20:11:06.838815",
     "status": "completed"
    },
    "tags": []
   },
   "outputs": [],
   "source": [
    "model_prob = Model(layers[-2:]) "
   ]
  },
  {
   "cell_type": "code",
   "execution_count": 28,
   "id": "9b96e238",
   "metadata": {
    "execution": {
     "iopub.execute_input": "2021-10-27T20:11:07.066857Z",
     "iopub.status.busy": "2021-10-27T20:11:07.064984Z",
     "iopub.status.idle": "2021-10-27T20:11:07.082422Z",
     "shell.execute_reply": "2021-10-27T20:11:07.082934Z"
    },
    "papermill": {
     "duration": 0.108267,
     "end_time": "2021-10-27T20:11:07.083076",
     "exception": false,
     "start_time": "2021-10-27T20:11:06.974809",
     "status": "completed"
    },
    "tags": []
   },
   "outputs": [],
   "source": [
    "#creating the x and y ranges according to the above generated plot.\n",
    "x_range = np.linspace(-4, 1, 100) \n",
    "y_range = np.linspace(-6, 6, 100) \n",
    "x_grid, y_grid = np.meshgrid(x_range, y_range) # x_grid and y_grig are of size 100 X 100\n",
    "\n",
    "# converting x_grid and y_grid to continuous arrays\n",
    "x_gridflat = np.ravel(x_grid)\n",
    "y_gridflat = np.ravel(y_grid)\n",
    "\n",
    "# The last layer of the current model takes two columns as input. Hence transpose of np.vstack() is required.\n",
    "X = np.vstack((x_gridflat, y_gridflat)).T\n",
    "\n",
    "prob_contour = model_prob(X).reshape(100,100) "
   ]
  },
  {
   "cell_type": "code",
   "execution_count": 29,
   "id": "da72499a",
   "metadata": {
    "execution": {
     "iopub.execute_input": "2021-10-27T20:11:07.210870Z",
     "iopub.status.busy": "2021-10-27T20:11:07.210113Z",
     "iopub.status.idle": "2021-10-27T20:11:07.526831Z",
     "shell.execute_reply": "2021-10-27T20:11:07.527334Z"
    },
    "papermill": {
     "duration": 0.380245,
     "end_time": "2021-10-27T20:11:07.527491",
     "exception": false,
     "start_time": "2021-10-27T20:11:07.147246",
     "status": "completed"
    },
    "tags": []
   },
   "outputs": [
    {
     "data": {
      "image/png": "[encoded data removed]",
      "text/plain": [
       "<Figure size 720x648 with 1 Axes>"
      ]
     },
     "metadata": {
      "needs_background": "light"
     },
     "output_type": "display_data"
    }
   ],
   "source": [
    "plt.figure(figsize=(10,9))\n",
    "plt.scatter(testing_plot[:,0], testing_plot[:,1], alpha = 0.1, c = y_test.ravel())\n",
    "contours = plt.contour(x_grid,y_grid,prob_contour)\n",
    "plt.title('Probability Contours')\n",
    "plt.clabel(contours, inline = True );"
   ]
  },
  {
   "cell_type": "code",
   "execution_count": null,
   "id": "e81b4ac7",
   "metadata": {
    "papermill": {
     "duration": 0.057497,
     "end_time": "2021-10-27T20:11:07.643996",
     "exception": false,
     "start_time": "2021-10-27T20:11:07.586499",
     "status": "completed"
    },
    "tags": []
   },
   "outputs": [],
   "source": []
  }
 ],
 "metadata": {
  "kernelspec": {
   "display_name": "Python 3",
   "language": "python",
   "name": "python3"
  },
  "language_info": {
   "codemirror_mode": {
    "name": "ipython",
    "version": 3
   },
   "file_extension": ".py",
   "mimetype": "text/x-python",
   "name": "python",
   "nbconvert_exporter": "python",
   "pygments_lexer": "ipython3",
   "version": "3.6.15"
  },
  "papermill": {
   "default_parameters": {},
   "duration": 172.523105,
   "end_time": "2021-10-27T20:11:08.113007",
   "environment_variables": {},
   "exception": null,
   "input_path": "2020-08-11-part2.ipynb",
   "output_path": "2020-08-11-part2.ipynb",
   "parameters": {},
   "start_time": "2021-10-27T20:08:15.589902",
   "version": "2.3.3"
  }
 },
 "nbformat": 4,
 "nbformat_minor": 5
}