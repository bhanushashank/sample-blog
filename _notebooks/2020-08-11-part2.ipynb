{
 "cells": [
  {
   "cell_type": "markdown",
   "id": "98380cd3",
   "metadata": {
    "papermill": {
     "duration": 0.030264,
     "end_time": "2022-09-07T00:45:41.755871",
     "exception": false,
     "start_time": "2022-09-07T00:45:41.725607",
     "status": "completed"
    },
    "tags": []
   },
   "source": [
    "# Distinguish Your Own Digits (DYOD)"
   ]
  },
  {
   "cell_type": "markdown",
   "id": "ef31240d",
   "metadata": {
    "papermill": {
     "duration": 0.023684,
     "end_time": "2022-09-07T00:45:41.804063",
     "exception": false,
     "start_time": "2022-09-07T00:45:41.780379",
     "status": "completed"
    },
    "tags": []
   },
   "source": [
    "You are going to write a classifier that distinguishes between the number 3 and number 8."
   ]
  },
  {
   "cell_type": "code",
   "execution_count": 1,
   "id": "b15c8646",
   "metadata": {
    "execution": {
     "iopub.execute_input": "2022-09-07T00:45:41.862077Z",
     "iopub.status.busy": "2022-09-07T00:45:41.861481Z",
     "iopub.status.idle": "2022-09-07T00:45:41.872479Z",
     "shell.execute_reply": "2022-09-07T00:45:41.871990Z"
    },
    "papermill": {
     "duration": 0.044933,
     "end_time": "2022-09-07T00:45:41.872600",
     "exception": false,
     "start_time": "2022-09-07T00:45:41.827667",
     "status": "completed"
    },
    "tags": []
   },
   "outputs": [],
   "source": [
    "%load_ext autoreload\n",
    "%autoreload 2"
   ]
  },
  {
   "cell_type": "code",
   "execution_count": 2,
   "id": "22ef38dc",
   "metadata": {
    "execution": {
     "iopub.execute_input": "2022-09-07T00:45:41.923904Z",
     "iopub.status.busy": "2022-09-07T00:45:41.923308Z",
     "iopub.status.idle": "2022-09-07T00:45:42.454763Z",
     "shell.execute_reply": "2022-09-07T00:45:42.454161Z"
    },
    "papermill": {
     "duration": 0.558571,
     "end_time": "2022-09-07T00:45:42.454899",
     "exception": false,
     "start_time": "2022-09-07T00:45:41.896328",
     "status": "completed"
    },
    "tags": []
   },
   "outputs": [],
   "source": [
    "%matplotlib inline\n",
    "import numpy as np\n",
    "import matplotlib.pyplot as plt\n",
    "import pandas as pd"
   ]
  },
  {
   "cell_type": "markdown",
   "id": "ba036198",
   "metadata": {
    "papermill": {
     "duration": 0.023799,
     "end_time": "2022-09-07T00:45:42.502588",
     "exception": false,
     "start_time": "2022-09-07T00:45:42.478789",
     "status": "completed"
    },
    "tags": []
   },
   "source": [
    "From the command line run `pip install mnist`. This is a library that will help you bring down the mnist dataset. If you run this from a notebook, you need to put  `!pip install mnist` in a cell by itself."
   ]
  },
  {
   "cell_type": "code",
   "execution_count": 3,
   "id": "bb6ad8a1",
   "metadata": {
    "execution": {
     "iopub.execute_input": "2022-09-07T00:45:42.553877Z",
     "iopub.status.busy": "2022-09-07T00:45:42.553302Z",
     "iopub.status.idle": "2022-09-07T00:45:44.117685Z",
     "shell.execute_reply": "2022-09-07T00:45:44.118250Z"
    },
    "papermill": {
     "duration": 1.592044,
     "end_time": "2022-09-07T00:45:44.118417",
     "exception": false,
     "start_time": "2022-09-07T00:45:42.526373",
     "status": "completed"
    },
    "tags": []
   },
   "outputs": [
    {
     "name": "stdout",
     "output_type": "stream",
     "text": [
      "Collecting mnist\r\n"
     ]
    },
    {
     "name": "stdout",
     "output_type": "stream",
     "text": [
      "  Downloading mnist-0.2.2-py2.py3-none-any.whl (3.5 kB)\r\n",
      "Requirement already satisfied: numpy in /opt/hostedtoolcache/Python/3.6.15/x64/lib/python3.6/site-packages (from mnist) (1.19.5)\r\n"
     ]
    },
    {
     "name": "stdout",
     "output_type": "stream",
     "text": [
      "Installing collected packages: mnist\r\n"
     ]
    },
    {
     "name": "stdout",
     "output_type": "stream",
     "text": [
      "Successfully installed mnist-0.2.2\r\n"
     ]
    }
   ],
   "source": [
    "!pip install mnist"
   ]
  },
  {
   "cell_type": "markdown",
   "id": "69df9c9a",
   "metadata": {
    "papermill": {
     "duration": 0.024849,
     "end_time": "2022-09-07T00:45:44.168822",
     "exception": false,
     "start_time": "2022-09-07T00:45:44.143973",
     "status": "completed"
    },
    "tags": []
   },
   "source": [
    "## Preparing the Data"
   ]
  },
  {
   "cell_type": "code",
   "execution_count": 4,
   "id": "7f69d806",
   "metadata": {
    "execution": {
     "iopub.execute_input": "2022-09-07T00:45:44.222315Z",
     "iopub.status.busy": "2022-09-07T00:45:44.221737Z",
     "iopub.status.idle": "2022-09-07T00:45:44.236252Z",
     "shell.execute_reply": "2022-09-07T00:45:44.235687Z"
    },
    "papermill": {
     "duration": 0.042756,
     "end_time": "2022-09-07T00:45:44.236356",
     "exception": false,
     "start_time": "2022-09-07T00:45:44.193600",
     "status": "completed"
    },
    "tags": []
   },
   "outputs": [],
   "source": [
    "import mnist"
   ]
  },
  {
   "cell_type": "code",
   "execution_count": 5,
   "id": "a411e44f",
   "metadata": {
    "execution": {
     "iopub.execute_input": "2022-09-07T00:45:44.289296Z",
     "iopub.status.busy": "2022-09-07T00:45:44.288731Z",
     "iopub.status.idle": "2022-09-07T00:45:44.881577Z",
     "shell.execute_reply": "2022-09-07T00:45:44.882080Z"
    },
    "papermill": {
     "duration": 0.620962,
     "end_time": "2022-09-07T00:45:44.882232",
     "exception": false,
     "start_time": "2022-09-07T00:45:44.261270",
     "status": "completed"
    },
    "tags": []
   },
   "outputs": [],
   "source": [
    "train_images = mnist.train_images()\n",
    "train_labels = mnist.train_labels()"
   ]
  },
  {
   "cell_type": "code",
   "execution_count": 6,
   "id": "dceab3a5",
   "metadata": {
    "execution": {
     "iopub.execute_input": "2022-09-07T00:45:44.936239Z",
     "iopub.status.busy": "2022-09-07T00:45:44.935629Z",
     "iopub.status.idle": "2022-09-07T00:45:44.951687Z",
     "shell.execute_reply": "2022-09-07T00:45:44.951178Z"
    },
    "papermill": {
     "duration": 0.044419,
     "end_time": "2022-09-07T00:45:44.951808",
     "exception": false,
     "start_time": "2022-09-07T00:45:44.907389",
     "status": "completed"
    },
    "tags": []
   },
   "outputs": [
    {
     "data": {
      "text/plain": [
       "((60000, 28, 28), (60000,))"
      ]
     },
     "execution_count": 6,
     "metadata": {},
     "output_type": "execute_result"
    }
   ],
   "source": [
    "train_images.shape, train_labels.shape"
   ]
  },
  {
   "cell_type": "code",
   "execution_count": 7,
   "id": "f50dc2bb",
   "metadata": {
    "execution": {
     "iopub.execute_input": "2022-09-07T00:45:45.005683Z",
     "iopub.status.busy": "2022-09-07T00:45:45.005116Z",
     "iopub.status.idle": "2022-09-07T00:45:45.165736Z",
     "shell.execute_reply": "2022-09-07T00:45:45.165185Z"
    },
    "papermill": {
     "duration": 0.188859,
     "end_time": "2022-09-07T00:45:45.165863",
     "exception": false,
     "start_time": "2022-09-07T00:45:44.977004",
     "status": "completed"
    },
    "tags": []
   },
   "outputs": [],
   "source": [
    "test_images = mnist.test_images()\n",
    "test_labels = mnist.test_labels()"
   ]
  },
  {
   "cell_type": "code",
   "execution_count": 8,
   "id": "fc38cf1b",
   "metadata": {
    "execution": {
     "iopub.execute_input": "2022-09-07T00:45:45.220949Z",
     "iopub.status.busy": "2022-09-07T00:45:45.220375Z",
     "iopub.status.idle": "2022-09-07T00:45:45.234287Z",
     "shell.execute_reply": "2022-09-07T00:45:45.234826Z"
    },
    "papermill": {
     "duration": 0.04357,
     "end_time": "2022-09-07T00:45:45.234956",
     "exception": false,
     "start_time": "2022-09-07T00:45:45.191386",
     "status": "completed"
    },
    "tags": []
   },
   "outputs": [
    {
     "data": {
      "text/plain": [
       "((10000, 28, 28), (10000,))"
      ]
     },
     "execution_count": 8,
     "metadata": {},
     "output_type": "execute_result"
    }
   ],
   "source": [
    "test_images.shape, test_labels.shape"
   ]
  },
  {
   "cell_type": "code",
   "execution_count": 9,
   "id": "f9ed8fe0",
   "metadata": {
    "execution": {
     "iopub.execute_input": "2022-09-07T00:45:45.289282Z",
     "iopub.status.busy": "2022-09-07T00:45:45.288709Z",
     "iopub.status.idle": "2022-09-07T00:45:45.425878Z",
     "shell.execute_reply": "2022-09-07T00:45:45.426388Z"
    },
    "papermill": {
     "duration": 0.166332,
     "end_time": "2022-09-07T00:45:45.426544",
     "exception": false,
     "start_time": "2022-09-07T00:45:45.260212",
     "status": "completed"
    },
    "tags": []
   },
   "outputs": [
    {
     "name": "stdout",
     "output_type": "stream",
     "text": [
      "2\n"
     ]
    },
    {
     "data": {
      "text/plain": [
       "<matplotlib.image.AxesImage at 0x7fbe2f792cc0>"
      ]
     },
     "execution_count": 9,
     "metadata": {},
     "output_type": "execute_result"
    },
    {
     "data": {
      "image/png": "[encoded data removed]",
      "text/plain": [
       "<Figure size 432x288 with 1 Axes>"
      ]
     },
     "metadata": {
      "needs_background": "light"
     },
     "output_type": "display_data"
    }
   ],
   "source": [
    "image_index = 7776 # You may select anything up to 60,000\n",
    "print(train_labels[image_index]) \n",
    "plt.imshow(train_images[image_index], cmap='Greys')"
   ]
  },
  {
   "cell_type": "markdown",
   "id": "a8d2388d",
   "metadata": {
    "papermill": {
     "duration": 0.026374,
     "end_time": "2022-09-07T00:45:45.479722",
     "exception": false,
     "start_time": "2022-09-07T00:45:45.453348",
     "status": "completed"
    },
    "tags": []
   },
   "source": [
    "## Filter data to get 3 and 8 out"
   ]
  },
  {
   "cell_type": "code",
   "execution_count": 10,
   "id": "776f7fc7",
   "metadata": {
    "execution": {
     "iopub.execute_input": "2022-09-07T00:45:45.536878Z",
     "iopub.status.busy": "2022-09-07T00:45:45.536285Z",
     "iopub.status.idle": "2022-09-07T00:45:45.554805Z",
     "shell.execute_reply": "2022-09-07T00:45:45.554318Z"
    },
    "papermill": {
     "duration": 0.048853,
     "end_time": "2022-09-07T00:45:45.554916",
     "exception": false,
     "start_time": "2022-09-07T00:45:45.506063",
     "status": "completed"
    },
    "tags": []
   },
   "outputs": [],
   "source": [
    "train_filter = np.where((train_labels == 3 ) | (train_labels == 8))\n",
    "test_filter = np.where((test_labels == 3) | (test_labels == 8))\n",
    "X_train, y_train = train_images[train_filter], train_labels[train_filter]\n",
    "X_test, y_test = test_images[test_filter], test_labels[test_filter]"
   ]
  },
  {
   "cell_type": "markdown",
   "id": "948f0b7e",
   "metadata": {
    "papermill": {
     "duration": 0.026256,
     "end_time": "2022-09-07T00:45:45.607773",
     "exception": false,
     "start_time": "2022-09-07T00:45:45.581517",
     "status": "completed"
    },
    "tags": []
   },
   "source": [
    "We normalize the pizel values in the 0 to 1 range"
   ]
  },
  {
   "cell_type": "code",
   "execution_count": 11,
   "id": "ee4c2166",
   "metadata": {
    "execution": {
     "iopub.execute_input": "2022-09-07T00:45:45.664092Z",
     "iopub.status.busy": "2022-09-07T00:45:45.663515Z",
     "iopub.status.idle": "2022-09-07T00:45:45.712525Z",
     "shell.execute_reply": "2022-09-07T00:45:45.711940Z"
    },
    "papermill": {
     "duration": 0.078751,
     "end_time": "2022-09-07T00:45:45.712667",
     "exception": false,
     "start_time": "2022-09-07T00:45:45.633916",
     "status": "completed"
    },
    "tags": []
   },
   "outputs": [],
   "source": [
    "X_train = X_train/255.\n",
    "X_test = X_test/255."
   ]
  },
  {
   "cell_type": "markdown",
   "id": "ddcf4fab",
   "metadata": {
    "papermill": {
     "duration": 0.026678,
     "end_time": "2022-09-07T00:45:45.766274",
     "exception": false,
     "start_time": "2022-09-07T00:45:45.739596",
     "status": "completed"
    },
    "tags": []
   },
   "source": [
    "And setup the labels as 1 (when the digit is 3) and 0 (when the digit is 8)"
   ]
  },
  {
   "cell_type": "code",
   "execution_count": 12,
   "id": "7dc908f2",
   "metadata": {
    "execution": {
     "iopub.execute_input": "2022-09-07T00:45:45.823721Z",
     "iopub.status.busy": "2022-09-07T00:45:45.823103Z",
     "iopub.status.idle": "2022-09-07T00:45:45.835758Z",
     "shell.execute_reply": "2022-09-07T00:45:45.835252Z"
    },
    "papermill": {
     "duration": 0.042886,
     "end_time": "2022-09-07T00:45:45.835867",
     "exception": false,
     "start_time": "2022-09-07T00:45:45.792981",
     "status": "completed"
    },
    "tags": []
   },
   "outputs": [],
   "source": [
    "y_train = 1*(y_train==3)\n",
    "y_test = 1*(y_test==3)"
   ]
  },
  {
   "cell_type": "code",
   "execution_count": 13,
   "id": "01e4e969",
   "metadata": {
    "execution": {
     "iopub.execute_input": "2022-09-07T00:45:45.892128Z",
     "iopub.status.busy": "2022-09-07T00:45:45.891548Z",
     "iopub.status.idle": "2022-09-07T00:45:45.905682Z",
     "shell.execute_reply": "2022-09-07T00:45:45.905217Z"
    },
    "papermill": {
     "duration": 0.043389,
     "end_time": "2022-09-07T00:45:45.905788",
     "exception": false,
     "start_time": "2022-09-07T00:45:45.862399",
     "status": "completed"
    },
    "tags": []
   },
   "outputs": [
    {
     "data": {
      "text/plain": [
       "((11982, 28, 28), (1984, 28, 28))"
      ]
     },
     "execution_count": 13,
     "metadata": {},
     "output_type": "execute_result"
    }
   ],
   "source": [
    "X_train.shape, X_test.shape"
   ]
  },
  {
   "cell_type": "markdown",
   "id": "5ccf3f85",
   "metadata": {
    "papermill": {
     "duration": 0.026536,
     "end_time": "2022-09-07T00:45:45.958925",
     "exception": false,
     "start_time": "2022-09-07T00:45:45.932389",
     "status": "completed"
    },
    "tags": []
   },
   "source": [
    "We reshape the data to flatten the image pixels into a set of features or co-variates:"
   ]
  },
  {
   "cell_type": "code",
   "execution_count": 14,
   "id": "5286a4a3",
   "metadata": {
    "execution": {
     "iopub.execute_input": "2022-09-07T00:45:46.016872Z",
     "iopub.status.busy": "2022-09-07T00:45:46.016284Z",
     "iopub.status.idle": "2022-09-07T00:45:46.031141Z",
     "shell.execute_reply": "2022-09-07T00:45:46.030661Z"
    },
    "papermill": {
     "duration": 0.045504,
     "end_time": "2022-09-07T00:45:46.031252",
     "exception": false,
     "start_time": "2022-09-07T00:45:45.985748",
     "status": "completed"
    },
    "tags": []
   },
   "outputs": [
    {
     "data": {
      "text/plain": [
       "((11982, 784), (1984, 784))"
      ]
     },
     "execution_count": 14,
     "metadata": {},
     "output_type": "execute_result"
    }
   ],
   "source": [
    "X_train = X_train.reshape(X_train.shape[0], -1)\n",
    "X_test = X_test.reshape(X_test.shape[0], -1)\n",
    "X_train.shape, X_test.shape"
   ]
  },
  {
   "cell_type": "code",
   "execution_count": 15,
   "id": "73c5f88a",
   "metadata": {
    "execution": {
     "iopub.execute_input": "2022-09-07T00:45:46.096768Z",
     "iopub.status.busy": "2022-09-07T00:45:46.096175Z",
     "iopub.status.idle": "2022-09-07T00:45:46.111043Z",
     "shell.execute_reply": "2022-09-07T00:45:46.111543Z"
    },
    "papermill": {
     "duration": 0.053311,
     "end_time": "2022-09-07T00:45:46.111687",
     "exception": false,
     "start_time": "2022-09-07T00:45:46.058376",
     "status": "completed"
    },
    "tags": []
   },
   "outputs": [],
   "source": [
    "#Impoting functions from 'Kudzu'\n",
    "from kudzu.model import Model\n",
    "from kudzu.train import Learner\n",
    "from kudzu.optim import GD\n",
    "from kudzu.data import Data, Sampler,Dataloader\n",
    "\n",
    "from kudzu.callbacks import AccCallback\n",
    "from kudzu.callbacks import ClfCallback\n",
    "\n",
    "from kudzu.loss import MSE\n",
    "\n",
    "from kudzu.layer import Sigmoid,Relu\n",
    "from kudzu.layer import Affine"
   ]
  },
  {
   "cell_type": "markdown",
   "id": "bc01172a",
   "metadata": {
    "papermill": {
     "duration": 0.027032,
     "end_time": "2022-09-07T00:45:46.165754",
     "exception": false,
     "start_time": "2022-09-07T00:45:46.138722",
     "status": "completed"
    },
    "tags": []
   },
   "source": [
    "### Let us create a `Config` class, to store important parameters. \n",
    "This class essentially plays the role of a dictionary."
   ]
  },
  {
   "cell_type": "code",
   "execution_count": 16,
   "id": "978281aa",
   "metadata": {
    "execution": {
     "iopub.execute_input": "2022-09-07T00:45:46.228177Z",
     "iopub.status.busy": "2022-09-07T00:45:46.223670Z",
     "iopub.status.idle": "2022-09-07T00:45:46.237417Z",
     "shell.execute_reply": "2022-09-07T00:45:46.237893Z"
    },
    "papermill": {
     "duration": 0.045216,
     "end_time": "2022-09-07T00:45:46.238025",
     "exception": false,
     "start_time": "2022-09-07T00:45:46.192809",
     "status": "completed"
    },
    "tags": []
   },
   "outputs": [],
   "source": [
    "class Config:\n",
    "    pass\n",
    "config = Config()\n",
    "config.lr = 0.001\n",
    "config.num_epochs = 250\n",
    "config.bs = 50"
   ]
  },
  {
   "cell_type": "markdown",
   "id": "1385fa59",
   "metadata": {
    "papermill": {
     "duration": 0.026852,
     "end_time": "2022-09-07T00:45:46.291855",
     "exception": false,
     "start_time": "2022-09-07T00:45:46.265003",
     "status": "completed"
    },
    "tags": []
   },
   "source": [
    "### Running Models with the Training data\n",
    "Details about the network layers:\n",
    "- A first affine layer has 784 inputs and does 100 affine transforms. These are followed by a Relu\n",
    "- A second affine layer has 100 inputs from the 100 activations of the past layer, and does 100 affine transforms. These are followed by a Relu\n",
    "- A third affine layer has 100 activations and does 2 affine transformations to create an embedding for visualization. There is no non-linearity here.\n",
    "- A final \"logistic regression\" which has an affine transform from 2 inputs to 1 output, which is squeezed through a sigmoid.\n"
   ]
  },
  {
   "cell_type": "code",
   "execution_count": 17,
   "id": "2b9c66db",
   "metadata": {
    "execution": {
     "iopub.execute_input": "2022-09-07T00:45:46.360168Z",
     "iopub.status.busy": "2022-09-07T00:45:46.355811Z",
     "iopub.status.idle": "2022-09-07T00:45:46.364853Z",
     "shell.execute_reply": "2022-09-07T00:45:46.365304Z"
    },
    "papermill": {
     "duration": 0.046589,
     "end_time": "2022-09-07T00:45:46.365440",
     "exception": false,
     "start_time": "2022-09-07T00:45:46.318851",
     "status": "completed"
    },
    "tags": []
   },
   "outputs": [],
   "source": [
    "data = Data(X_train, y_train.reshape(-1,1))\n",
    "sampler = Sampler(data, config.bs, shuffle=True)\n",
    "\n",
    "dl = Dataloader(data, sampler)\n",
    "\n",
    "opt = GD(config.lr)\n",
    "loss = MSE()"
   ]
  },
  {
   "cell_type": "code",
   "execution_count": 18,
   "id": "b275e4c2",
   "metadata": {
    "execution": {
     "iopub.execute_input": "2022-09-07T00:45:46.428077Z",
     "iopub.status.busy": "2022-09-07T00:45:46.423201Z",
     "iopub.status.idle": "2022-09-07T00:45:46.435807Z",
     "shell.execute_reply": "2022-09-07T00:45:46.435324Z"
    },
    "papermill": {
     "duration": 0.042942,
     "end_time": "2022-09-07T00:45:46.435914",
     "exception": false,
     "start_time": "2022-09-07T00:45:46.392972",
     "status": "completed"
    },
    "tags": []
   },
   "outputs": [],
   "source": [
    "training_data_x = X_train\n",
    "testing_data_x = X_test\n",
    "training_data_y = y_train.reshape(-1,1)\n",
    "testing_data_y = y_test.reshape(-1,1)"
   ]
  },
  {
   "cell_type": "code",
   "execution_count": 19,
   "id": "76951160",
   "metadata": {
    "execution": {
     "iopub.execute_input": "2022-09-07T00:45:46.493464Z",
     "iopub.status.busy": "2022-09-07T00:45:46.492889Z",
     "iopub.status.idle": "2022-09-07T00:45:46.509564Z",
     "shell.execute_reply": "2022-09-07T00:45:46.508996Z"
    },
    "papermill": {
     "duration": 0.047039,
     "end_time": "2022-09-07T00:45:46.509667",
     "exception": false,
     "start_time": "2022-09-07T00:45:46.462628",
     "status": "completed"
    },
    "tags": []
   },
   "outputs": [
    {
     "name": "stdout",
     "output_type": "stream",
     "text": [
      "xavier\n",
      "xavier\n",
      "xavier\n",
      "xavier\n",
      "xavier\n"
     ]
    }
   ],
   "source": [
    "layers = [Affine(\"first\", 784, 100), Relu(\"first\"), Affine(\"second\", 100, 100), Relu(\"second\"), Affine(\"third\", 100, 2), Affine(\"last\", 2, 1), Sigmoid(\"last\")]\n",
    "model_nn = Model(layers)\n",
    "model_lr = Model([Affine(\"logits\", 784, 1), Sigmoid(\"sigmoid\")])"
   ]
  },
  {
   "cell_type": "code",
   "execution_count": 20,
   "id": "6eede77a",
   "metadata": {
    "execution": {
     "iopub.execute_input": "2022-09-07T00:45:46.582034Z",
     "iopub.status.busy": "2022-09-07T00:45:46.575005Z",
     "iopub.status.idle": "2022-09-07T00:45:46.585663Z",
     "shell.execute_reply": "2022-09-07T00:45:46.584893Z"
    },
    "papermill": {
     "duration": 0.049019,
     "end_time": "2022-09-07T00:45:46.585773",
     "exception": false,
     "start_time": "2022-09-07T00:45:46.536754",
     "status": "completed"
    },
    "tags": []
   },
   "outputs": [],
   "source": [
    "nn_learner = Learner(loss, model_nn, opt, config.num_epochs)\n",
    "acc_nn = ClfCallback(nn_learner, config.bs, training_data_x , testing_data_x, training_data_y, testing_data_y)\n",
    "nn_learner.set_callbacks([acc_nn])"
   ]
  },
  {
   "cell_type": "code",
   "execution_count": 21,
   "id": "877b6cc7",
   "metadata": {
    "execution": {
     "iopub.execute_input": "2022-09-07T00:45:46.643989Z",
     "iopub.status.busy": "2022-09-07T00:45:46.643078Z",
     "iopub.status.idle": "2022-09-07T00:45:46.654572Z",
     "shell.execute_reply": "2022-09-07T00:45:46.655015Z"
    },
    "papermill": {
     "duration": 0.042213,
     "end_time": "2022-09-07T00:45:46.655127",
     "exception": false,
     "start_time": "2022-09-07T00:45:46.612914",
     "status": "completed"
    },
    "tags": []
   },
   "outputs": [],
   "source": [
    "lr_learner = Learner(loss, model_lr, opt, config.num_epochs)\n",
    "acc_lr = ClfCallback(lr_learner, config.bs, training_data_x , testing_data_x, training_data_y, testing_data_y)\n",
    "lr_learner.set_callbacks([acc_lr])"
   ]
  },
  {
   "cell_type": "code",
   "execution_count": 22,
   "id": "d9b133c3",
   "metadata": {
    "execution": {
     "iopub.execute_input": "2022-09-07T00:45:46.725020Z",
     "iopub.status.busy": "2022-09-07T00:45:46.724065Z",
     "iopub.status.idle": "2022-09-07T00:47:02.119892Z",
     "shell.execute_reply": "2022-09-07T00:47:02.120793Z"
    },
    "papermill": {
     "duration": 75.438667,
     "end_time": "2022-09-07T00:47:02.120947",
     "exception": false,
     "start_time": "2022-09-07T00:45:46.682280",
     "status": "completed"
    },
    "tags": []
   },
   "outputs": [
    {
     "name": "stdout",
     "output_type": "stream",
     "text": [
      "Epoch 0, Loss 0.2448\n",
      "Training Accuracy: 0.6951, Testing Accuracy: 0.7036\n",
      "\n"
     ]
    },
    {
     "name": "stdout",
     "output_type": "stream",
     "text": [
      "Epoch 10, Loss 0.0695\n",
      "Training Accuracy: 0.9345, Testing Accuracy: 0.9410\n",
      "\n"
     ]
    },
    {
     "name": "stdout",
     "output_type": "stream",
     "text": [
      "Epoch 20, Loss 0.0472\n",
      "Training Accuracy: 0.9497, Testing Accuracy: 0.9567\n",
      "\n"
     ]
    },
    {
     "name": "stdout",
     "output_type": "stream",
     "text": [
      "Epoch 30, Loss 0.0389\n",
      "Training Accuracy: 0.9581, Testing Accuracy: 0.9602\n",
      "\n"
     ]
    },
    {
     "name": "stdout",
     "output_type": "stream",
     "text": [
      "Epoch 40, Loss 0.0346\n",
      "Training Accuracy: 0.9621, Testing Accuracy: 0.9647\n",
      "\n"
     ]
    },
    {
     "name": "stdout",
     "output_type": "stream",
     "text": [
      "Epoch 50, Loss 0.0317\n",
      "Training Accuracy: 0.9649, Testing Accuracy: 0.9672\n",
      "\n"
     ]
    },
    {
     "name": "stdout",
     "output_type": "stream",
     "text": [
      "Epoch 60, Loss 0.0297\n",
      "Training Accuracy: 0.9670, Testing Accuracy: 0.9682\n",
      "\n"
     ]
    },
    {
     "name": "stdout",
     "output_type": "stream",
     "text": [
      "Epoch 70, Loss 0.0281\n",
      "Training Accuracy: 0.9683, Testing Accuracy: 0.9688\n",
      "\n"
     ]
    },
    {
     "name": "stdout",
     "output_type": "stream",
     "text": [
      "Epoch 80, Loss 0.0268\n",
      "Training Accuracy: 0.9695, Testing Accuracy: 0.9688\n",
      "\n"
     ]
    },
    {
     "name": "stdout",
     "output_type": "stream",
     "text": [
      "Epoch 90, Loss 0.0257\n",
      "Training Accuracy: 0.9709, Testing Accuracy: 0.9693\n",
      "\n"
     ]
    },
    {
     "name": "stdout",
     "output_type": "stream",
     "text": [
      "Epoch 100, Loss 0.0248\n",
      "Training Accuracy: 0.9721, Testing Accuracy: 0.9708\n",
      "\n"
     ]
    },
    {
     "name": "stdout",
     "output_type": "stream",
     "text": [
      "Epoch 110, Loss 0.0239\n",
      "Training Accuracy: 0.9733, Testing Accuracy: 0.9718\n",
      "\n"
     ]
    },
    {
     "name": "stdout",
     "output_type": "stream",
     "text": [
      "Epoch 120, Loss 0.0232\n",
      "Training Accuracy: 0.9745, Testing Accuracy: 0.9713\n",
      "\n"
     ]
    },
    {
     "name": "stdout",
     "output_type": "stream",
     "text": [
      "Epoch 130, Loss 0.0225\n",
      "Training Accuracy: 0.9755, Testing Accuracy: 0.9713\n",
      "\n"
     ]
    },
    {
     "name": "stdout",
     "output_type": "stream",
     "text": [
      "Epoch 140, Loss 0.0218\n",
      "Training Accuracy: 0.9764, Testing Accuracy: 0.9708\n",
      "\n"
     ]
    },
    {
     "name": "stdout",
     "output_type": "stream",
     "text": [
      "Epoch 150, Loss 0.0212\n",
      "Training Accuracy: 0.9770, Testing Accuracy: 0.9718\n",
      "\n"
     ]
    },
    {
     "name": "stdout",
     "output_type": "stream",
     "text": [
      "Epoch 160, Loss 0.0207\n",
      "Training Accuracy: 0.9775, Testing Accuracy: 0.9733\n",
      "\n"
     ]
    },
    {
     "name": "stdout",
     "output_type": "stream",
     "text": [
      "Epoch 170, Loss 0.0202\n",
      "Training Accuracy: 0.9781, Testing Accuracy: 0.9728\n",
      "\n"
     ]
    },
    {
     "name": "stdout",
     "output_type": "stream",
     "text": [
      "Epoch 180, Loss 0.0197\n",
      "Training Accuracy: 0.9785, Testing Accuracy: 0.9728\n",
      "\n"
     ]
    },
    {
     "name": "stdout",
     "output_type": "stream",
     "text": [
      "Epoch 190, Loss 0.0192\n",
      "Training Accuracy: 0.9791, Testing Accuracy: 0.9743\n",
      "\n"
     ]
    },
    {
     "name": "stdout",
     "output_type": "stream",
     "text": [
      "Epoch 200, Loss 0.0187\n",
      "Training Accuracy: 0.9797, Testing Accuracy: 0.9748\n",
      "\n"
     ]
    },
    {
     "name": "stdout",
     "output_type": "stream",
     "text": [
      "Epoch 210, Loss 0.0183\n",
      "Training Accuracy: 0.9804, Testing Accuracy: 0.9748\n",
      "\n"
     ]
    },
    {
     "name": "stdout",
     "output_type": "stream",
     "text": [
      "Epoch 220, Loss 0.0179\n",
      "Training Accuracy: 0.9806, Testing Accuracy: 0.9758\n",
      "\n"
     ]
    },
    {
     "name": "stdout",
     "output_type": "stream",
     "text": [
      "Epoch 230, Loss 0.0175\n",
      "Training Accuracy: 0.9811, Testing Accuracy: 0.9758\n",
      "\n"
     ]
    },
    {
     "name": "stdout",
     "output_type": "stream",
     "text": [
      "Epoch 240, Loss 0.0171\n",
      "Training Accuracy: 0.9817, Testing Accuracy: 0.9758\n",
      "\n"
     ]
    },
    {
     "data": {
      "text/plain": [
       "0.010852094229855513"
      ]
     },
     "execution_count": 22,
     "metadata": {},
     "output_type": "execute_result"
    }
   ],
   "source": [
    "nn_learner.train_loop(dl)"
   ]
  },
  {
   "cell_type": "code",
   "execution_count": 23,
   "id": "e0163366",
   "metadata": {
    "execution": {
     "iopub.execute_input": "2022-09-07T00:47:02.203487Z",
     "iopub.status.busy": "2022-09-07T00:47:02.202862Z",
     "iopub.status.idle": "2022-09-07T00:47:15.807359Z",
     "shell.execute_reply": "2022-09-07T00:47:15.808195Z"
    },
    "papermill": {
     "duration": 13.652352,
     "end_time": "2022-09-07T00:47:15.808348",
     "exception": false,
     "start_time": "2022-09-07T00:47:02.155996",
     "status": "completed"
    },
    "tags": []
   },
   "outputs": [
    {
     "name": "stdout",
     "output_type": "stream",
     "text": [
      "Epoch 0, Loss 0.2287\n",
      "Training Accuracy: 0.7371, Testing Accuracy: 0.7490\n",
      "\n"
     ]
    },
    {
     "name": "stdout",
     "output_type": "stream",
     "text": [
      "Epoch 10, Loss 0.1002\n",
      "Training Accuracy: 0.9142, Testing Accuracy: 0.9249\n",
      "\n"
     ]
    },
    {
     "name": "stdout",
     "output_type": "stream",
     "text": [
      "Epoch 20, Loss 0.0779\n",
      "Training Accuracy: 0.9278, Testing Accuracy: 0.9370\n",
      "\n"
     ]
    },
    {
     "name": "stdout",
     "output_type": "stream",
     "text": [
      "Epoch 30, Loss 0.0675\n",
      "Training Accuracy: 0.9358, Testing Accuracy: 0.9430\n",
      "\n"
     ]
    },
    {
     "name": "stdout",
     "output_type": "stream",
     "text": [
      "Epoch 40, Loss 0.0612\n",
      "Training Accuracy: 0.9413, Testing Accuracy: 0.9476\n",
      "\n"
     ]
    },
    {
     "name": "stdout",
     "output_type": "stream",
     "text": [
      "Epoch 50, Loss 0.0569\n",
      "Training Accuracy: 0.9436, Testing Accuracy: 0.9511\n",
      "\n"
     ]
    },
    {
     "name": "stdout",
     "output_type": "stream",
     "text": [
      "Epoch 60, Loss 0.0538\n",
      "Training Accuracy: 0.9463, Testing Accuracy: 0.9546\n",
      "\n"
     ]
    },
    {
     "name": "stdout",
     "output_type": "stream",
     "text": [
      "Epoch 70, Loss 0.0513\n",
      "Training Accuracy: 0.9483, Testing Accuracy: 0.9561\n",
      "\n"
     ]
    },
    {
     "name": "stdout",
     "output_type": "stream",
     "text": [
      "Epoch 80, Loss 0.0493\n",
      "Training Accuracy: 0.9500, Testing Accuracy: 0.9572\n",
      "\n"
     ]
    },
    {
     "name": "stdout",
     "output_type": "stream",
     "text": [
      "Epoch 90, Loss 0.0476\n",
      "Training Accuracy: 0.9510, Testing Accuracy: 0.9577\n",
      "\n"
     ]
    },
    {
     "name": "stdout",
     "output_type": "stream",
     "text": [
      "Epoch 100, Loss 0.0462\n",
      "Training Accuracy: 0.9523, Testing Accuracy: 0.9612\n",
      "\n"
     ]
    },
    {
     "name": "stdout",
     "output_type": "stream",
     "text": [
      "Epoch 110, Loss 0.045\n",
      "Training Accuracy: 0.9534, Testing Accuracy: 0.9622\n",
      "\n"
     ]
    },
    {
     "name": "stdout",
     "output_type": "stream",
     "text": [
      "Epoch 120, Loss 0.044\n",
      "Training Accuracy: 0.9541, Testing Accuracy: 0.9647\n",
      "\n"
     ]
    },
    {
     "name": "stdout",
     "output_type": "stream",
     "text": [
      "Epoch 130, Loss 0.0431\n",
      "Training Accuracy: 0.9548, Testing Accuracy: 0.9652\n",
      "\n"
     ]
    },
    {
     "name": "stdout",
     "output_type": "stream",
     "text": [
      "Epoch 140, Loss 0.0422\n",
      "Training Accuracy: 0.9556, Testing Accuracy: 0.9652\n",
      "\n"
     ]
    },
    {
     "name": "stdout",
     "output_type": "stream",
     "text": [
      "Epoch 150, Loss 0.0415\n",
      "Training Accuracy: 0.9563, Testing Accuracy: 0.9652\n",
      "\n"
     ]
    },
    {
     "name": "stdout",
     "output_type": "stream",
     "text": [
      "Epoch 160, Loss 0.0408\n",
      "Training Accuracy: 0.9572, Testing Accuracy: 0.9652\n",
      "\n"
     ]
    },
    {
     "name": "stdout",
     "output_type": "stream",
     "text": [
      "Epoch 170, Loss 0.0402\n",
      "Training Accuracy: 0.9574, Testing Accuracy: 0.9652\n",
      "\n"
     ]
    },
    {
     "name": "stdout",
     "output_type": "stream",
     "text": [
      "Epoch 180, Loss 0.0397\n",
      "Training Accuracy: 0.9583, Testing Accuracy: 0.9652\n",
      "\n"
     ]
    },
    {
     "name": "stdout",
     "output_type": "stream",
     "text": [
      "Epoch 190, Loss 0.0391\n",
      "Training Accuracy: 0.9586, Testing Accuracy: 0.9652\n",
      "\n"
     ]
    },
    {
     "name": "stdout",
     "output_type": "stream",
     "text": [
      "Epoch 200, Loss 0.0387\n",
      "Training Accuracy: 0.9589, Testing Accuracy: 0.9657\n",
      "\n"
     ]
    },
    {
     "name": "stdout",
     "output_type": "stream",
     "text": [
      "Epoch 210, Loss 0.0382\n",
      "Training Accuracy: 0.9592, Testing Accuracy: 0.9657\n",
      "\n"
     ]
    },
    {
     "name": "stdout",
     "output_type": "stream",
     "text": [
      "Epoch 220, Loss 0.0378\n",
      "Training Accuracy: 0.9596, Testing Accuracy: 0.9657\n",
      "\n"
     ]
    },
    {
     "name": "stdout",
     "output_type": "stream",
     "text": [
      "Epoch 230, Loss 0.0374\n",
      "Training Accuracy: 0.9603, Testing Accuracy: 0.9657\n",
      "\n"
     ]
    },
    {
     "name": "stdout",
     "output_type": "stream",
     "text": [
      "Epoch 240, Loss 0.0371\n",
      "Training Accuracy: 0.9604, Testing Accuracy: 0.9662\n",
      "\n"
     ]
    },
    {
     "data": {
      "text/plain": [
       "0.06762819751567076"
      ]
     },
     "execution_count": 23,
     "metadata": {},
     "output_type": "execute_result"
    }
   ],
   "source": [
    "lr_learner.train_loop(dl)"
   ]
  },
  {
   "cell_type": "code",
   "execution_count": 24,
   "id": "ca410940",
   "metadata": {
    "execution": {
     "iopub.execute_input": "2022-09-07T00:47:15.901559Z",
     "iopub.status.busy": "2022-09-07T00:47:15.900935Z",
     "iopub.status.idle": "2022-09-07T00:47:16.129529Z",
     "shell.execute_reply": "2022-09-07T00:47:16.128599Z"
    },
    "papermill": {
     "duration": 0.279179,
     "end_time": "2022-09-07T00:47:16.129675",
     "exception": false,
     "start_time": "2022-09-07T00:47:15.850496",
     "status": "completed"
    },
    "tags": []
   },
   "outputs": [
    {
     "data": {
      "text/plain": [
       "<matplotlib.legend.Legend at 0x7fbe2f2edd30>"
      ]
     },
     "execution_count": 24,
     "metadata": {},
     "output_type": "execute_result"
    },
    {
     "data": {
      "image/png": "[encoded data removed]",
      "text/plain": [
       "<Figure size 1080x720 with 1 Axes>"
      ]
     },
     "metadata": {
      "needs_background": "light"
     },
     "output_type": "display_data"
    }
   ],
   "source": [
    "#comparing the results of NN and LR\n",
    "plt.figure(figsize=(15,10))\n",
    "\n",
    "# Neural Network plots\n",
    "plt.plot(acc_nn.accuracies, 'r-', label = \"Training Accuracies - NN\")\n",
    "plt.plot(acc_nn.test_accuracies, 'g-', label = \"Testing Accuracies - NN\")\n",
    "\n",
    "# Logistic Regression plots\n",
    "plt.plot(acc_lr.accuracies, 'k-', label = \"Training Accuracies - LR\")\n",
    "plt.plot(acc_lr.test_accuracies, 'b-', label = \"Testing Accuracies - LR\")\n",
    "plt.legend()"
   ]
  },
  {
   "cell_type": "markdown",
   "id": "80dfb35c",
   "metadata": {
    "papermill": {
     "duration": 0.043599,
     "end_time": "2022-09-07T00:47:16.222808",
     "exception": false,
     "start_time": "2022-09-07T00:47:16.179209",
     "status": "completed"
    },
    "tags": []
   },
   "source": [
    "#### Plotting the outputs of this layer of the NN.\n"
   ]
  },
  {
   "cell_type": "code",
   "execution_count": 25,
   "id": "45eb2ff5",
   "metadata": {
    "execution": {
     "iopub.execute_input": "2022-09-07T00:47:16.311717Z",
     "iopub.status.busy": "2022-09-07T00:47:16.311085Z",
     "iopub.status.idle": "2022-09-07T00:47:16.332084Z",
     "shell.execute_reply": "2022-09-07T00:47:16.331573Z"
    },
    "papermill": {
     "duration": 0.06734,
     "end_time": "2022-09-07T00:47:16.332203",
     "exception": false,
     "start_time": "2022-09-07T00:47:16.264863",
     "status": "completed"
    },
    "tags": []
   },
   "outputs": [],
   "source": [
    "new_model = Model(layers[:-2])\n",
    "testing_plot = new_model(testing_data_x)"
   ]
  },
  {
   "cell_type": "code",
   "execution_count": 26,
   "id": "4c0a5485",
   "metadata": {
    "execution": {
     "iopub.execute_input": "2022-09-07T00:47:16.422192Z",
     "iopub.status.busy": "2022-09-07T00:47:16.421573Z",
     "iopub.status.idle": "2022-09-07T00:47:16.610315Z",
     "shell.execute_reply": "2022-09-07T00:47:16.609530Z"
    },
    "papermill": {
     "duration": 0.235543,
     "end_time": "2022-09-07T00:47:16.610446",
     "exception": false,
     "start_time": "2022-09-07T00:47:16.374903",
     "status": "completed"
    },
    "tags": []
   },
   "outputs": [
    {
     "data": {
      "text/plain": [
       "Text(0.5, 1.0, 'Outputs')"
      ]
     },
     "execution_count": 26,
     "metadata": {},
     "output_type": "execute_result"
    },
    {
     "data": {
      "image/png": "[encoded data removed]",
      "text/plain": [
       "<Figure size 576x504 with 1 Axes>"
      ]
     },
     "metadata": {
      "needs_background": "light"
     },
     "output_type": "display_data"
    }
   ],
   "source": [
    "# Plotting the scatter plot of points and color coding by class\n",
    "plt.figure(figsize=(8,7))\n",
    "plt.scatter(testing_plot[:,0], testing_plot[:,1], alpha = 0.1, c = y_test.ravel());\n",
    "plt.title('Outputs')"
   ]
  },
  {
   "cell_type": "markdown",
   "id": "a74fcf8f",
   "metadata": {
    "papermill": {
     "duration": 0.044683,
     "end_time": "2022-09-07T00:47:16.699630",
     "exception": false,
     "start_time": "2022-09-07T00:47:16.654947",
     "status": "completed"
    },
    "tags": []
   },
   "source": [
    "Probability contours"
   ]
  },
  {
   "cell_type": "code",
   "execution_count": 27,
   "id": "d0afc8e3",
   "metadata": {
    "execution": {
     "iopub.execute_input": "2022-09-07T00:47:16.840802Z",
     "iopub.status.busy": "2022-09-07T00:47:16.840189Z",
     "iopub.status.idle": "2022-09-07T00:47:16.844742Z",
     "shell.execute_reply": "2022-09-07T00:47:16.843985Z"
    },
    "papermill": {
     "duration": 0.100849,
     "end_time": "2022-09-07T00:47:16.844860",
     "exception": false,
     "start_time": "2022-09-07T00:47:16.744011",
     "status": "completed"
    },
    "tags": []
   },
   "outputs": [],
   "source": [
    "model_prob = Model(layers[-2:]) "
   ]
  },
  {
   "cell_type": "code",
   "execution_count": 28,
   "id": "9b96e238",
   "metadata": {
    "execution": {
     "iopub.execute_input": "2022-09-07T00:47:16.944474Z",
     "iopub.status.busy": "2022-09-07T00:47:16.940458Z",
     "iopub.status.idle": "2022-09-07T00:47:16.958383Z",
     "shell.execute_reply": "2022-09-07T00:47:16.958841Z"
    },
    "papermill": {
     "duration": 0.069734,
     "end_time": "2022-09-07T00:47:16.958985",
     "exception": false,
     "start_time": "2022-09-07T00:47:16.889251",
     "status": "completed"
    },
    "tags": []
   },
   "outputs": [],
   "source": [
    "#creating the x and y ranges according to the above generated plot.\n",
    "x_range = np.linspace(-4, 1, 100) \n",
    "y_range = np.linspace(-6, 6, 100) \n",
    "x_grid, y_grid = np.meshgrid(x_range, y_range) # x_grid and y_grig are of size 100 X 100\n",
    "\n",
    "# converting x_grid and y_grid to continuous arrays\n",
    "x_gridflat = np.ravel(x_grid)\n",
    "y_gridflat = np.ravel(y_grid)\n",
    "\n",
    "# The last layer of the current model takes two columns as input. Hence transpose of np.vstack() is required.\n",
    "X = np.vstack((x_gridflat, y_gridflat)).T\n",
    "\n",
    "prob_contour = model_prob(X).reshape(100,100) "
   ]
  },
  {
   "cell_type": "code",
   "execution_count": 29,
   "id": "da72499a",
   "metadata": {
    "execution": {
     "iopub.execute_input": "2022-09-07T00:47:17.065014Z",
     "iopub.status.busy": "2022-09-07T00:47:17.064400Z",
     "iopub.status.idle": "2022-09-07T00:47:17.298674Z",
     "shell.execute_reply": "2022-09-07T00:47:17.298174Z"
    },
    "papermill": {
     "duration": 0.294847,
     "end_time": "2022-09-07T00:47:17.298801",
     "exception": false,
     "start_time": "2022-09-07T00:47:17.003954",
     "status": "completed"
    },
    "tags": []
   },
   "outputs": [
    {
     "data": {
      "image/png": "[encoded data removed]",
      "text/plain": [
       "<Figure size 720x648 with 1 Axes>"
      ]
     },
     "metadata": {
      "needs_background": "light"
     },
     "output_type": "display_data"
    }
   ],
   "source": [
    "plt.figure(figsize=(10,9))\n",
    "plt.scatter(testing_plot[:,0], testing_plot[:,1], alpha = 0.1, c = y_test.ravel())\n",
    "contours = plt.contour(x_grid,y_grid,prob_contour)\n",
    "plt.title('Probability Contours')\n",
    "plt.clabel(contours, inline = True );"
   ]
  },
  {
   "cell_type": "code",
   "execution_count": null,
   "id": "e81b4ac7",
   "metadata": {
    "papermill": {
     "duration": 0.047459,
     "end_time": "2022-09-07T00:47:17.394232",
     "exception": false,
     "start_time": "2022-09-07T00:47:17.346773",
     "status": "completed"
    },
    "tags": []
   },
   "outputs": [],
   "source": []
  }
 ],
 "metadata": {
  "kernelspec": {
   "display_name": "Python 3",
   "language": "python",
   "name": "python3"
  },
  "language_info": {
   "codemirror_mode": {
    "name": "ipython",
    "version": 3
   },
   "file_extension": ".py",
   "mimetype": "text/x-python",
   "name": "python",
   "nbconvert_exporter": "python",
   "pygments_lexer": "ipython3",
   "version": "3.6.15"
  },
  "papermill": {
   "default_parameters": {},
   "duration": 97.08501,
   "end_time": "2022-09-07T00:47:17.861738",
   "environment_variables": {},
   "exception": null,
   "input_path": "2020-08-11-part2.ipynb",
   "output_path": "2020-08-11-part2.ipynb",
   "parameters": {},
   "start_time": "2022-09-07T00:45:40.776728",
   "version": "2.3.3"
  }
 },
 "nbformat": 4,
 "nbformat_minor": 5
}