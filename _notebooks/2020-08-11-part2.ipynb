{
 "cells": [
  {
   "cell_type": "markdown",
   "id": "98380cd3",
   "metadata": {
    "papermill": {
     "duration": 0.029194,
     "end_time": "2022-02-07T20:06:36.157707",
     "exception": false,
     "start_time": "2022-02-07T20:06:36.128513",
     "status": "completed"
    },
    "tags": []
   },
   "source": [
    "# Distinguish Your Own Digits (DYOD)"
   ]
  },
  {
   "cell_type": "markdown",
   "id": "ef31240d",
   "metadata": {
    "papermill": {
     "duration": 0.025994,
     "end_time": "2022-02-07T20:06:36.208898",
     "exception": false,
     "start_time": "2022-02-07T20:06:36.182904",
     "status": "completed"
    },
    "tags": []
   },
   "source": [
    "You are going to write a classifier that distinguishes between the number 3 and number 8."
   ]
  },
  {
   "cell_type": "code",
   "execution_count": 1,
   "id": "b15c8646",
   "metadata": {
    "execution": {
     "iopub.execute_input": "2022-02-07T20:06:36.269662Z",
     "iopub.status.busy": "2022-02-07T20:06:36.269061Z",
     "iopub.status.idle": "2022-02-07T20:06:36.279602Z",
     "shell.execute_reply": "2022-02-07T20:06:36.280312Z"
    },
    "papermill": {
     "duration": 0.047284,
     "end_time": "2022-02-07T20:06:36.280501",
     "exception": false,
     "start_time": "2022-02-07T20:06:36.233217",
     "status": "completed"
    },
    "tags": []
   },
   "outputs": [],
   "source": [
    "%load_ext autoreload\n",
    "%autoreload 2"
   ]
  },
  {
   "cell_type": "code",
   "execution_count": 2,
   "id": "22ef38dc",
   "metadata": {
    "execution": {
     "iopub.execute_input": "2022-02-07T20:06:36.336223Z",
     "iopub.status.busy": "2022-02-07T20:06:36.335692Z",
     "iopub.status.idle": "2022-02-07T20:06:36.929917Z",
     "shell.execute_reply": "2022-02-07T20:06:36.930355Z"
    },
    "papermill": {
     "duration": 0.625526,
     "end_time": "2022-02-07T20:06:36.930510",
     "exception": false,
     "start_time": "2022-02-07T20:06:36.304984",
     "status": "completed"
    },
    "tags": []
   },
   "outputs": [],
   "source": [
    "%matplotlib inline\n",
    "import numpy as np\n",
    "import matplotlib.pyplot as plt\n",
    "import pandas as pd"
   ]
  },
  {
   "cell_type": "markdown",
   "id": "ba036198",
   "metadata": {
    "papermill": {
     "duration": 0.024193,
     "end_time": "2022-02-07T20:06:36.978893",
     "exception": false,
     "start_time": "2022-02-07T20:06:36.954700",
     "status": "completed"
    },
    "tags": []
   },
   "source": [
    "From the command line run `pip install mnist`. This is a library that will help you bring down the mnist dataset. If you run this from a notebook, you need to put  `!pip install mnist` in a cell by itself."
   ]
  },
  {
   "cell_type": "code",
   "execution_count": 3,
   "id": "bb6ad8a1",
   "metadata": {
    "execution": {
     "iopub.execute_input": "2022-02-07T20:06:37.031664Z",
     "iopub.status.busy": "2022-02-07T20:06:37.031151Z",
     "iopub.status.idle": "2022-02-07T20:06:38.733026Z",
     "shell.execute_reply": "2022-02-07T20:06:38.732511Z"
    },
    "papermill": {
     "duration": 1.729959,
     "end_time": "2022-02-07T20:06:38.733154",
     "exception": false,
     "start_time": "2022-02-07T20:06:37.003195",
     "status": "completed"
    },
    "tags": []
   },
   "outputs": [
    {
     "name": "stdout",
     "output_type": "stream",
     "text": [
      "Collecting mnist\r\n"
     ]
    },
    {
     "name": "stdout",
     "output_type": "stream",
     "text": [
      "  Downloading mnist-0.2.2-py2.py3-none-any.whl (3.5 kB)\r\n",
      "Requirement already satisfied: numpy in /opt/hostedtoolcache/Python/3.6.15/x64/lib/python3.6/site-packages (from mnist) (1.19.5)\r\n"
     ]
    },
    {
     "name": "stdout",
     "output_type": "stream",
     "text": [
      "Installing collected packages: mnist\r\n"
     ]
    },
    {
     "name": "stdout",
     "output_type": "stream",
     "text": [
      "Successfully installed mnist-0.2.2\r\n"
     ]
    }
   ],
   "source": [
    "!pip install mnist"
   ]
  },
  {
   "cell_type": "markdown",
   "id": "69df9c9a",
   "metadata": {
    "papermill": {
     "duration": 0.025397,
     "end_time": "2022-02-07T20:06:38.784158",
     "exception": false,
     "start_time": "2022-02-07T20:06:38.758761",
     "status": "completed"
    },
    "tags": []
   },
   "source": [
    "## Preparing the Data"
   ]
  },
  {
   "cell_type": "code",
   "execution_count": 4,
   "id": "7f69d806",
   "metadata": {
    "execution": {
     "iopub.execute_input": "2022-02-07T20:06:38.839307Z",
     "iopub.status.busy": "2022-02-07T20:06:38.838772Z",
     "iopub.status.idle": "2022-02-07T20:06:38.854465Z",
     "shell.execute_reply": "2022-02-07T20:06:38.854005Z"
    },
    "papermill": {
     "duration": 0.045024,
     "end_time": "2022-02-07T20:06:38.854583",
     "exception": false,
     "start_time": "2022-02-07T20:06:38.809559",
     "status": "completed"
    },
    "tags": []
   },
   "outputs": [],
   "source": [
    "import mnist"
   ]
  },
  {
   "cell_type": "code",
   "execution_count": 5,
   "id": "a411e44f",
   "metadata": {
    "execution": {
     "iopub.execute_input": "2022-02-07T20:06:38.914461Z",
     "iopub.status.busy": "2022-02-07T20:06:38.913931Z",
     "iopub.status.idle": "2022-02-07T20:06:39.469773Z",
     "shell.execute_reply": "2022-02-07T20:06:39.469174Z"
    },
    "papermill": {
     "duration": 0.590078,
     "end_time": "2022-02-07T20:06:39.469919",
     "exception": false,
     "start_time": "2022-02-07T20:06:38.879841",
     "status": "completed"
    },
    "tags": []
   },
   "outputs": [],
   "source": [
    "train_images = mnist.train_images()\n",
    "train_labels = mnist.train_labels()"
   ]
  },
  {
   "cell_type": "code",
   "execution_count": 6,
   "id": "dceab3a5",
   "metadata": {
    "execution": {
     "iopub.execute_input": "2022-02-07T20:06:39.530206Z",
     "iopub.status.busy": "2022-02-07T20:06:39.529656Z",
     "iopub.status.idle": "2022-02-07T20:06:39.542212Z",
     "shell.execute_reply": "2022-02-07T20:06:39.541756Z"
    },
    "papermill": {
     "duration": 0.04551,
     "end_time": "2022-02-07T20:06:39.542332",
     "exception": false,
     "start_time": "2022-02-07T20:06:39.496822",
     "status": "completed"
    },
    "tags": []
   },
   "outputs": [
    {
     "data": {
      "text/plain": [
       "((60000, 28, 28), (60000,))"
      ]
     },
     "execution_count": 6,
     "metadata": {},
     "output_type": "execute_result"
    }
   ],
   "source": [
    "train_images.shape, train_labels.shape"
   ]
  },
  {
   "cell_type": "code",
   "execution_count": 7,
   "id": "f50dc2bb",
   "metadata": {
    "execution": {
     "iopub.execute_input": "2022-02-07T20:06:39.603383Z",
     "iopub.status.busy": "2022-02-07T20:06:39.602847Z",
     "iopub.status.idle": "2022-02-07T20:06:39.716658Z",
     "shell.execute_reply": "2022-02-07T20:06:39.716084Z"
    },
    "papermill": {
     "duration": 0.148871,
     "end_time": "2022-02-07T20:06:39.716800",
     "exception": false,
     "start_time": "2022-02-07T20:06:39.567929",
     "status": "completed"
    },
    "tags": []
   },
   "outputs": [],
   "source": [
    "test_images = mnist.test_images()\n",
    "test_labels = mnist.test_labels()"
   ]
  },
  {
   "cell_type": "code",
   "execution_count": 8,
   "id": "fc38cf1b",
   "metadata": {
    "execution": {
     "iopub.execute_input": "2022-02-07T20:06:39.778929Z",
     "iopub.status.busy": "2022-02-07T20:06:39.778382Z",
     "iopub.status.idle": "2022-02-07T20:06:39.787529Z",
     "shell.execute_reply": "2022-02-07T20:06:39.787086Z"
    },
    "papermill": {
     "duration": 0.044672,
     "end_time": "2022-02-07T20:06:39.787646",
     "exception": false,
     "start_time": "2022-02-07T20:06:39.742974",
     "status": "completed"
    },
    "tags": []
   },
   "outputs": [
    {
     "data": {
      "text/plain": [
       "((10000, 28, 28), (10000,))"
      ]
     },
     "execution_count": 8,
     "metadata": {},
     "output_type": "execute_result"
    }
   ],
   "source": [
    "test_images.shape, test_labels.shape"
   ]
  },
  {
   "cell_type": "code",
   "execution_count": 9,
   "id": "f9ed8fe0",
   "metadata": {
    "execution": {
     "iopub.execute_input": "2022-02-07T20:06:39.851951Z",
     "iopub.status.busy": "2022-02-07T20:06:39.851384Z",
     "iopub.status.idle": "2022-02-07T20:06:39.987125Z",
     "shell.execute_reply": "2022-02-07T20:06:39.987843Z"
    },
    "papermill": {
     "duration": 0.174647,
     "end_time": "2022-02-07T20:06:39.987999",
     "exception": false,
     "start_time": "2022-02-07T20:06:39.813352",
     "status": "completed"
    },
    "tags": []
   },
   "outputs": [
    {
     "name": "stdout",
     "output_type": "stream",
     "text": [
      "2\n"
     ]
    },
    {
     "data": {
      "text/plain": [
       "<matplotlib.image.AxesImage at 0x7fb979e5ae80>"
      ]
     },
     "execution_count": 9,
     "metadata": {},
     "output_type": "execute_result"
    },
    {
     "data": {
      "image/png": "[encoded data removed]",
      "text/plain": [
       "<Figure size 432x288 with 1 Axes>"
      ]
     },
     "metadata": {
      "needs_background": "light"
     },
     "output_type": "display_data"
    }
   ],
   "source": [
    "image_index = 7776 # You may select anything up to 60,000\n",
    "print(train_labels[image_index]) \n",
    "plt.imshow(train_images[image_index], cmap='Greys')"
   ]
  },
  {
   "cell_type": "markdown",
   "id": "a8d2388d",
   "metadata": {
    "papermill": {
     "duration": 0.026829,
     "end_time": "2022-02-07T20:06:40.041845",
     "exception": false,
     "start_time": "2022-02-07T20:06:40.015016",
     "status": "completed"
    },
    "tags": []
   },
   "source": [
    "## Filter data to get 3 and 8 out"
   ]
  },
  {
   "cell_type": "code",
   "execution_count": 10,
   "id": "776f7fc7",
   "metadata": {
    "execution": {
     "iopub.execute_input": "2022-02-07T20:06:40.100324Z",
     "iopub.status.busy": "2022-02-07T20:06:40.099233Z",
     "iopub.status.idle": "2022-02-07T20:06:40.118580Z",
     "shell.execute_reply": "2022-02-07T20:06:40.118097Z"
    },
    "papermill": {
     "duration": 0.05009,
     "end_time": "2022-02-07T20:06:40.118708",
     "exception": false,
     "start_time": "2022-02-07T20:06:40.068618",
     "status": "completed"
    },
    "tags": []
   },
   "outputs": [],
   "source": [
    "train_filter = np.where((train_labels == 3 ) | (train_labels == 8))\n",
    "test_filter = np.where((test_labels == 3) | (test_labels == 8))\n",
    "X_train, y_train = train_images[train_filter], train_labels[train_filter]\n",
    "X_test, y_test = test_images[test_filter], test_labels[test_filter]"
   ]
  },
  {
   "cell_type": "markdown",
   "id": "948f0b7e",
   "metadata": {
    "papermill": {
     "duration": 0.026994,
     "end_time": "2022-02-07T20:06:40.172863",
     "exception": false,
     "start_time": "2022-02-07T20:06:40.145869",
     "status": "completed"
    },
    "tags": []
   },
   "source": [
    "We normalize the pizel values in the 0 to 1 range"
   ]
  },
  {
   "cell_type": "code",
   "execution_count": 11,
   "id": "ee4c2166",
   "metadata": {
    "execution": {
     "iopub.execute_input": "2022-02-07T20:06:40.230536Z",
     "iopub.status.busy": "2022-02-07T20:06:40.230002Z",
     "iopub.status.idle": "2022-02-07T20:06:40.277607Z",
     "shell.execute_reply": "2022-02-07T20:06:40.277038Z"
    },
    "papermill": {
     "duration": 0.078309,
     "end_time": "2022-02-07T20:06:40.277754",
     "exception": false,
     "start_time": "2022-02-07T20:06:40.199445",
     "status": "completed"
    },
    "tags": []
   },
   "outputs": [],
   "source": [
    "X_train = X_train/255.\n",
    "X_test = X_test/255."
   ]
  },
  {
   "cell_type": "markdown",
   "id": "ddcf4fab",
   "metadata": {
    "papermill": {
     "duration": 0.026968,
     "end_time": "2022-02-07T20:06:40.332017",
     "exception": false,
     "start_time": "2022-02-07T20:06:40.305049",
     "status": "completed"
    },
    "tags": []
   },
   "source": [
    "And setup the labels as 1 (when the digit is 3) and 0 (when the digit is 8)"
   ]
  },
  {
   "cell_type": "code",
   "execution_count": 12,
   "id": "7dc908f2",
   "metadata": {
    "execution": {
     "iopub.execute_input": "2022-02-07T20:06:40.392864Z",
     "iopub.status.busy": "2022-02-07T20:06:40.392324Z",
     "iopub.status.idle": "2022-02-07T20:06:40.402423Z",
     "shell.execute_reply": "2022-02-07T20:06:40.402841Z"
    },
    "papermill": {
     "duration": 0.044235,
     "end_time": "2022-02-07T20:06:40.402983",
     "exception": false,
     "start_time": "2022-02-07T20:06:40.358748",
     "status": "completed"
    },
    "tags": []
   },
   "outputs": [],
   "source": [
    "y_train = 1*(y_train==3)\n",
    "y_test = 1*(y_test==3)"
   ]
  },
  {
   "cell_type": "code",
   "execution_count": 13,
   "id": "01e4e969",
   "metadata": {
    "execution": {
     "iopub.execute_input": "2022-02-07T20:06:40.468483Z",
     "iopub.status.busy": "2022-02-07T20:06:40.467953Z",
     "iopub.status.idle": "2022-02-07T20:06:40.475938Z",
     "shell.execute_reply": "2022-02-07T20:06:40.476342Z"
    },
    "papermill": {
     "duration": 0.046571,
     "end_time": "2022-02-07T20:06:40.476471",
     "exception": false,
     "start_time": "2022-02-07T20:06:40.429900",
     "status": "completed"
    },
    "tags": []
   },
   "outputs": [
    {
     "data": {
      "text/plain": [
       "((11982, 28, 28), (1984, 28, 28))"
      ]
     },
     "execution_count": 13,
     "metadata": {},
     "output_type": "execute_result"
    }
   ],
   "source": [
    "X_train.shape, X_test.shape"
   ]
  },
  {
   "cell_type": "markdown",
   "id": "5ccf3f85",
   "metadata": {
    "papermill": {
     "duration": 0.026695,
     "end_time": "2022-02-07T20:06:40.530329",
     "exception": false,
     "start_time": "2022-02-07T20:06:40.503634",
     "status": "completed"
    },
    "tags": []
   },
   "source": [
    "We reshape the data to flatten the image pixels into a set of features or co-variates:"
   ]
  },
  {
   "cell_type": "code",
   "execution_count": 14,
   "id": "5286a4a3",
   "metadata": {
    "execution": {
     "iopub.execute_input": "2022-02-07T20:06:40.598032Z",
     "iopub.status.busy": "2022-02-07T20:06:40.594849Z",
     "iopub.status.idle": "2022-02-07T20:06:40.606265Z",
     "shell.execute_reply": "2022-02-07T20:06:40.605850Z"
    },
    "papermill": {
     "duration": 0.049254,
     "end_time": "2022-02-07T20:06:40.606381",
     "exception": false,
     "start_time": "2022-02-07T20:06:40.557127",
     "status": "completed"
    },
    "tags": []
   },
   "outputs": [
    {
     "data": {
      "text/plain": [
       "((11982, 784), (1984, 784))"
      ]
     },
     "execution_count": 14,
     "metadata": {},
     "output_type": "execute_result"
    }
   ],
   "source": [
    "X_train = X_train.reshape(X_train.shape[0], -1)\n",
    "X_test = X_test.reshape(X_test.shape[0], -1)\n",
    "X_train.shape, X_test.shape"
   ]
  },
  {
   "cell_type": "code",
   "execution_count": 15,
   "id": "73c5f88a",
   "metadata": {
    "execution": {
     "iopub.execute_input": "2022-02-07T20:06:40.667169Z",
     "iopub.status.busy": "2022-02-07T20:06:40.666636Z",
     "iopub.status.idle": "2022-02-07T20:06:40.683684Z",
     "shell.execute_reply": "2022-02-07T20:06:40.683275Z"
    },
    "papermill": {
     "duration": 0.050177,
     "end_time": "2022-02-07T20:06:40.683792",
     "exception": false,
     "start_time": "2022-02-07T20:06:40.633615",
     "status": "completed"
    },
    "tags": []
   },
   "outputs": [],
   "source": [
    "#Impoting functions from 'Kudzu'\n",
    "from kudzu.model import Model\n",
    "from kudzu.train import Learner\n",
    "from kudzu.optim import GD\n",
    "from kudzu.data import Data, Sampler,Dataloader\n",
    "\n",
    "from kudzu.callbacks import AccCallback\n",
    "from kudzu.callbacks import ClfCallback\n",
    "\n",
    "from kudzu.loss import MSE\n",
    "\n",
    "from kudzu.layer import Sigmoid,Relu\n",
    "from kudzu.layer import Affine"
   ]
  },
  {
   "cell_type": "markdown",
   "id": "bc01172a",
   "metadata": {
    "papermill": {
     "duration": 0.026899,
     "end_time": "2022-02-07T20:06:40.737843",
     "exception": false,
     "start_time": "2022-02-07T20:06:40.710944",
     "status": "completed"
    },
    "tags": []
   },
   "source": [
    "### Let us create a `Config` class, to store important parameters. \n",
    "This class essentially plays the role of a dictionary."
   ]
  },
  {
   "cell_type": "code",
   "execution_count": 16,
   "id": "978281aa",
   "metadata": {
    "execution": {
     "iopub.execute_input": "2022-02-07T20:06:40.809810Z",
     "iopub.status.busy": "2022-02-07T20:06:40.806282Z",
     "iopub.status.idle": "2022-02-07T20:06:40.812207Z",
     "shell.execute_reply": "2022-02-07T20:06:40.811763Z"
    },
    "papermill": {
     "duration": 0.047465,
     "end_time": "2022-02-07T20:06:40.812321",
     "exception": false,
     "start_time": "2022-02-07T20:06:40.764856",
     "status": "completed"
    },
    "tags": []
   },
   "outputs": [],
   "source": [
    "class Config:\n",
    "    pass\n",
    "config = Config()\n",
    "config.lr = 0.001\n",
    "config.num_epochs = 250\n",
    "config.bs = 50"
   ]
  },
  {
   "cell_type": "markdown",
   "id": "1385fa59",
   "metadata": {
    "papermill": {
     "duration": 0.027047,
     "end_time": "2022-02-07T20:06:40.866561",
     "exception": false,
     "start_time": "2022-02-07T20:06:40.839514",
     "status": "completed"
    },
    "tags": []
   },
   "source": [
    "### Running Models with the Training data\n",
    "Details about the network layers:\n",
    "- A first affine layer has 784 inputs and does 100 affine transforms. These are followed by a Relu\n",
    "- A second affine layer has 100 inputs from the 100 activations of the past layer, and does 100 affine transforms. These are followed by a Relu\n",
    "- A third affine layer has 100 activations and does 2 affine transformations to create an embedding for visualization. There is no non-linearity here.\n",
    "- A final \"logistic regression\" which has an affine transform from 2 inputs to 1 output, which is squeezed through a sigmoid.\n"
   ]
  },
  {
   "cell_type": "code",
   "execution_count": 17,
   "id": "2b9c66db",
   "metadata": {
    "execution": {
     "iopub.execute_input": "2022-02-07T20:06:40.929984Z",
     "iopub.status.busy": "2022-02-07T20:06:40.928830Z",
     "iopub.status.idle": "2022-02-07T20:06:40.939189Z",
     "shell.execute_reply": "2022-02-07T20:06:40.938780Z"
    },
    "papermill": {
     "duration": 0.045658,
     "end_time": "2022-02-07T20:06:40.939298",
     "exception": false,
     "start_time": "2022-02-07T20:06:40.893640",
     "status": "completed"
    },
    "tags": []
   },
   "outputs": [],
   "source": [
    "data = Data(X_train, y_train.reshape(-1,1))\n",
    "sampler = Sampler(data, config.bs, shuffle=True)\n",
    "\n",
    "dl = Dataloader(data, sampler)\n",
    "\n",
    "opt = GD(config.lr)\n",
    "loss = MSE()"
   ]
  },
  {
   "cell_type": "code",
   "execution_count": 18,
   "id": "b275e4c2",
   "metadata": {
    "execution": {
     "iopub.execute_input": "2022-02-07T20:06:41.002776Z",
     "iopub.status.busy": "2022-02-07T20:06:41.002234Z",
     "iopub.status.idle": "2022-02-07T20:06:41.011654Z",
     "shell.execute_reply": "2022-02-07T20:06:41.011228Z"
    },
    "papermill": {
     "duration": 0.045405,
     "end_time": "2022-02-07T20:06:41.011772",
     "exception": false,
     "start_time": "2022-02-07T20:06:40.966367",
     "status": "completed"
    },
    "tags": []
   },
   "outputs": [],
   "source": [
    "training_data_x = X_train\n",
    "testing_data_x = X_test\n",
    "training_data_y = y_train.reshape(-1,1)\n",
    "testing_data_y = y_test.reshape(-1,1)"
   ]
  },
  {
   "cell_type": "code",
   "execution_count": 19,
   "id": "76951160",
   "metadata": {
    "execution": {
     "iopub.execute_input": "2022-02-07T20:06:41.075891Z",
     "iopub.status.busy": "2022-02-07T20:06:41.075357Z",
     "iopub.status.idle": "2022-02-07T20:06:41.088760Z",
     "shell.execute_reply": "2022-02-07T20:06:41.088336Z"
    },
    "papermill": {
     "duration": 0.04984,
     "end_time": "2022-02-07T20:06:41.088879",
     "exception": false,
     "start_time": "2022-02-07T20:06:41.039039",
     "status": "completed"
    },
    "tags": []
   },
   "outputs": [
    {
     "name": "stdout",
     "output_type": "stream",
     "text": [
      "xavier\n",
      "xavier\n",
      "xavier\n",
      "xavier\n",
      "xavier\n"
     ]
    }
   ],
   "source": [
    "layers = [Affine(\"first\", 784, 100), Relu(\"first\"), Affine(\"second\", 100, 100), Relu(\"second\"), Affine(\"third\", 100, 2), Affine(\"last\", 2, 1), Sigmoid(\"last\")]\n",
    "model_nn = Model(layers)\n",
    "model_lr = Model([Affine(\"logits\", 784, 1), Sigmoid(\"sigmoid\")])"
   ]
  },
  {
   "cell_type": "code",
   "execution_count": 20,
   "id": "6eede77a",
   "metadata": {
    "execution": {
     "iopub.execute_input": "2022-02-07T20:06:41.151077Z",
     "iopub.status.busy": "2022-02-07T20:06:41.150534Z",
     "iopub.status.idle": "2022-02-07T20:06:41.161495Z",
     "shell.execute_reply": "2022-02-07T20:06:41.161937Z"
    },
    "papermill": {
     "duration": 0.045259,
     "end_time": "2022-02-07T20:06:41.162073",
     "exception": false,
     "start_time": "2022-02-07T20:06:41.116814",
     "status": "completed"
    },
    "tags": []
   },
   "outputs": [],
   "source": [
    "nn_learner = Learner(loss, model_nn, opt, config.num_epochs)\n",
    "acc_nn = ClfCallback(nn_learner, config.bs, training_data_x , testing_data_x, training_data_y, testing_data_y)\n",
    "nn_learner.set_callbacks([acc_nn])"
   ]
  },
  {
   "cell_type": "code",
   "execution_count": 21,
   "id": "877b6cc7",
   "metadata": {
    "execution": {
     "iopub.execute_input": "2022-02-07T20:06:41.221301Z",
     "iopub.status.busy": "2022-02-07T20:06:41.220765Z",
     "iopub.status.idle": "2022-02-07T20:06:41.233665Z",
     "shell.execute_reply": "2022-02-07T20:06:41.233245Z"
    },
    "papermill": {
     "duration": 0.044224,
     "end_time": "2022-02-07T20:06:41.233777",
     "exception": false,
     "start_time": "2022-02-07T20:06:41.189553",
     "status": "completed"
    },
    "tags": []
   },
   "outputs": [],
   "source": [
    "lr_learner = Learner(loss, model_lr, opt, config.num_epochs)\n",
    "acc_lr = ClfCallback(lr_learner, config.bs, training_data_x , testing_data_x, training_data_y, testing_data_y)\n",
    "lr_learner.set_callbacks([acc_lr])"
   ]
  },
  {
   "cell_type": "code",
   "execution_count": 22,
   "id": "d9b133c3",
   "metadata": {
    "execution": {
     "iopub.execute_input": "2022-02-07T20:06:41.291982Z",
     "iopub.status.busy": "2022-02-07T20:06:41.291480Z",
     "iopub.status.idle": "2022-02-07T20:07:56.123361Z",
     "shell.execute_reply": "2022-02-07T20:07:56.124102Z"
    },
    "papermill": {
     "duration": 74.86303,
     "end_time": "2022-02-07T20:07:56.124254",
     "exception": false,
     "start_time": "2022-02-07T20:06:41.261224",
     "status": "completed"
    },
    "tags": []
   },
   "outputs": [
    {
     "name": "stdout",
     "output_type": "stream",
     "text": [
      "Epoch 0, Loss 0.2638\n",
      "Training Accuracy: 0.4989, Testing Accuracy: 0.5015\n",
      "\n"
     ]
    },
    {
     "name": "stdout",
     "output_type": "stream",
     "text": [
      "Epoch 10, Loss 0.1261\n",
      "Training Accuracy: 0.8918, Testing Accuracy: 0.9047\n",
      "\n"
     ]
    },
    {
     "name": "stdout",
     "output_type": "stream",
     "text": [
      "Epoch 20, Loss 0.0687\n",
      "Training Accuracy: 0.9295, Testing Accuracy: 0.9395\n",
      "\n"
     ]
    },
    {
     "name": "stdout",
     "output_type": "stream",
     "text": [
      "Epoch 30, Loss 0.0504\n",
      "Training Accuracy: 0.9464, Testing Accuracy: 0.9526\n",
      "\n"
     ]
    },
    {
     "name": "stdout",
     "output_type": "stream",
     "text": [
      "Epoch 40, Loss 0.0419\n",
      "Training Accuracy: 0.9538, Testing Accuracy: 0.9632\n",
      "\n"
     ]
    },
    {
     "name": "stdout",
     "output_type": "stream",
     "text": [
      "Epoch 50, Loss 0.0371\n",
      "Training Accuracy: 0.9594, Testing Accuracy: 0.9672\n",
      "\n"
     ]
    },
    {
     "name": "stdout",
     "output_type": "stream",
     "text": [
      "Epoch 60, Loss 0.0339\n",
      "Training Accuracy: 0.9629, Testing Accuracy: 0.9693\n",
      "\n"
     ]
    },
    {
     "name": "stdout",
     "output_type": "stream",
     "text": [
      "Epoch 70, Loss 0.0316\n",
      "Training Accuracy: 0.9647, Testing Accuracy: 0.9713\n",
      "\n"
     ]
    },
    {
     "name": "stdout",
     "output_type": "stream",
     "text": [
      "Epoch 80, Loss 0.0299\n",
      "Training Accuracy: 0.9658, Testing Accuracy: 0.9718\n",
      "\n"
     ]
    },
    {
     "name": "stdout",
     "output_type": "stream",
     "text": [
      "Epoch 90, Loss 0.0285\n",
      "Training Accuracy: 0.9673, Testing Accuracy: 0.9718\n",
      "\n"
     ]
    },
    {
     "name": "stdout",
     "output_type": "stream",
     "text": [
      "Epoch 100, Loss 0.0274\n",
      "Training Accuracy: 0.9685, Testing Accuracy: 0.9723\n",
      "\n"
     ]
    },
    {
     "name": "stdout",
     "output_type": "stream",
     "text": [
      "Epoch 110, Loss 0.0264\n",
      "Training Accuracy: 0.9696, Testing Accuracy: 0.9733\n",
      "\n"
     ]
    },
    {
     "name": "stdout",
     "output_type": "stream",
     "text": [
      "Epoch 120, Loss 0.0256\n",
      "Training Accuracy: 0.9706, Testing Accuracy: 0.9733\n",
      "\n"
     ]
    },
    {
     "name": "stdout",
     "output_type": "stream",
     "text": [
      "Epoch 130, Loss 0.0248\n",
      "Training Accuracy: 0.9715, Testing Accuracy: 0.9733\n",
      "\n"
     ]
    },
    {
     "name": "stdout",
     "output_type": "stream",
     "text": [
      "Epoch 140, Loss 0.0242\n",
      "Training Accuracy: 0.9725, Testing Accuracy: 0.9733\n",
      "\n"
     ]
    },
    {
     "name": "stdout",
     "output_type": "stream",
     "text": [
      "Epoch 150, Loss 0.0236\n",
      "Training Accuracy: 0.9731, Testing Accuracy: 0.9738\n",
      "\n"
     ]
    },
    {
     "name": "stdout",
     "output_type": "stream",
     "text": [
      "Epoch 160, Loss 0.023\n",
      "Training Accuracy: 0.9740, Testing Accuracy: 0.9743\n",
      "\n"
     ]
    },
    {
     "name": "stdout",
     "output_type": "stream",
     "text": [
      "Epoch 170, Loss 0.0225\n",
      "Training Accuracy: 0.9745, Testing Accuracy: 0.9748\n",
      "\n"
     ]
    },
    {
     "name": "stdout",
     "output_type": "stream",
     "text": [
      "Epoch 180, Loss 0.022\n",
      "Training Accuracy: 0.9753, Testing Accuracy: 0.9753\n",
      "\n"
     ]
    },
    {
     "name": "stdout",
     "output_type": "stream",
     "text": [
      "Epoch 190, Loss 0.0216\n",
      "Training Accuracy: 0.9758, Testing Accuracy: 0.9753\n",
      "\n"
     ]
    },
    {
     "name": "stdout",
     "output_type": "stream",
     "text": [
      "Epoch 200, Loss 0.0212\n",
      "Training Accuracy: 0.9765, Testing Accuracy: 0.9753\n",
      "\n"
     ]
    },
    {
     "name": "stdout",
     "output_type": "stream",
     "text": [
      "Epoch 210, Loss 0.0208\n",
      "Training Accuracy: 0.9766, Testing Accuracy: 0.9753\n",
      "\n"
     ]
    },
    {
     "name": "stdout",
     "output_type": "stream",
     "text": [
      "Epoch 220, Loss 0.0204\n",
      "Training Accuracy: 0.9774, Testing Accuracy: 0.9758\n",
      "\n"
     ]
    },
    {
     "name": "stdout",
     "output_type": "stream",
     "text": [
      "Epoch 230, Loss 0.02\n",
      "Training Accuracy: 0.9775, Testing Accuracy: 0.9763\n",
      "\n"
     ]
    },
    {
     "name": "stdout",
     "output_type": "stream",
     "text": [
      "Epoch 240, Loss 0.0197\n",
      "Training Accuracy: 0.9779, Testing Accuracy: 0.9758\n",
      "\n"
     ]
    },
    {
     "data": {
      "text/plain": [
       "0.027721211731646427"
      ]
     },
     "execution_count": 22,
     "metadata": {},
     "output_type": "execute_result"
    }
   ],
   "source": [
    "nn_learner.train_loop(dl)"
   ]
  },
  {
   "cell_type": "code",
   "execution_count": 23,
   "id": "e0163366",
   "metadata": {
    "execution": {
     "iopub.execute_input": "2022-02-07T20:07:56.202861Z",
     "iopub.status.busy": "2022-02-07T20:07:56.202347Z",
     "iopub.status.idle": "2022-02-07T20:08:09.492631Z",
     "shell.execute_reply": "2022-02-07T20:08:09.493427Z"
    },
    "papermill": {
     "duration": 13.33409,
     "end_time": "2022-02-07T20:08:09.493590",
     "exception": false,
     "start_time": "2022-02-07T20:07:56.159500",
     "status": "completed"
    },
    "tags": []
   },
   "outputs": [
    {
     "name": "stdout",
     "output_type": "stream",
     "text": [
      "Epoch 0, Loss 0.2378\n",
      "Training Accuracy: 0.7084, Testing Accuracy: 0.7369\n",
      "\n"
     ]
    },
    {
     "name": "stdout",
     "output_type": "stream",
     "text": [
      "Epoch 10, Loss 0.1049\n",
      "Training Accuracy: 0.9062, Testing Accuracy: 0.9244\n",
      "\n"
     ]
    },
    {
     "name": "stdout",
     "output_type": "stream",
     "text": [
      "Epoch 20, Loss 0.0803\n",
      "Training Accuracy: 0.9266, Testing Accuracy: 0.9370\n",
      "\n"
     ]
    },
    {
     "name": "stdout",
     "output_type": "stream",
     "text": [
      "Epoch 30, Loss 0.0689\n",
      "Training Accuracy: 0.9366, Testing Accuracy: 0.9486\n",
      "\n"
     ]
    },
    {
     "name": "stdout",
     "output_type": "stream",
     "text": [
      "Epoch 40, Loss 0.0621\n",
      "Training Accuracy: 0.9402, Testing Accuracy: 0.9546\n",
      "\n"
     ]
    },
    {
     "name": "stdout",
     "output_type": "stream",
     "text": [
      "Epoch 50, Loss 0.0575\n",
      "Training Accuracy: 0.9442, Testing Accuracy: 0.9577\n",
      "\n"
     ]
    },
    {
     "name": "stdout",
     "output_type": "stream",
     "text": [
      "Epoch 60, Loss 0.0541\n",
      "Training Accuracy: 0.9465, Testing Accuracy: 0.9582\n",
      "\n"
     ]
    },
    {
     "name": "stdout",
     "output_type": "stream",
     "text": [
      "Epoch 70, Loss 0.0515\n",
      "Training Accuracy: 0.9478, Testing Accuracy: 0.9607\n",
      "\n"
     ]
    },
    {
     "name": "stdout",
     "output_type": "stream",
     "text": [
      "Epoch 80, Loss 0.0494\n",
      "Training Accuracy: 0.9497, Testing Accuracy: 0.9607\n",
      "\n"
     ]
    },
    {
     "name": "stdout",
     "output_type": "stream",
     "text": [
      "Epoch 90, Loss 0.0477\n",
      "Training Accuracy: 0.9520, Testing Accuracy: 0.9612\n",
      "\n"
     ]
    },
    {
     "name": "stdout",
     "output_type": "stream",
     "text": [
      "Epoch 100, Loss 0.0463\n",
      "Training Accuracy: 0.9533, Testing Accuracy: 0.9627\n",
      "\n"
     ]
    },
    {
     "name": "stdout",
     "output_type": "stream",
     "text": [
      "Epoch 110, Loss 0.0451\n",
      "Training Accuracy: 0.9541, Testing Accuracy: 0.9637\n",
      "\n"
     ]
    },
    {
     "name": "stdout",
     "output_type": "stream",
     "text": [
      "Epoch 120, Loss 0.044\n",
      "Training Accuracy: 0.9545, Testing Accuracy: 0.9637\n",
      "\n"
     ]
    },
    {
     "name": "stdout",
     "output_type": "stream",
     "text": [
      "Epoch 130, Loss 0.0431\n",
      "Training Accuracy: 0.9548, Testing Accuracy: 0.9652\n",
      "\n"
     ]
    },
    {
     "name": "stdout",
     "output_type": "stream",
     "text": [
      "Epoch 140, Loss 0.0422\n",
      "Training Accuracy: 0.9554, Testing Accuracy: 0.9657\n",
      "\n"
     ]
    },
    {
     "name": "stdout",
     "output_type": "stream",
     "text": [
      "Epoch 150, Loss 0.0415\n",
      "Training Accuracy: 0.9561, Testing Accuracy: 0.9657\n",
      "\n"
     ]
    },
    {
     "name": "stdout",
     "output_type": "stream",
     "text": [
      "Epoch 160, Loss 0.0408\n",
      "Training Accuracy: 0.9566, Testing Accuracy: 0.9662\n",
      "\n"
     ]
    },
    {
     "name": "stdout",
     "output_type": "stream",
     "text": [
      "Epoch 170, Loss 0.0402\n",
      "Training Accuracy: 0.9570, Testing Accuracy: 0.9672\n",
      "\n"
     ]
    },
    {
     "name": "stdout",
     "output_type": "stream",
     "text": [
      "Epoch 180, Loss 0.0396\n",
      "Training Accuracy: 0.9573, Testing Accuracy: 0.9672\n",
      "\n"
     ]
    },
    {
     "name": "stdout",
     "output_type": "stream",
     "text": [
      "Epoch 190, Loss 0.0391\n",
      "Training Accuracy: 0.9574, Testing Accuracy: 0.9672\n",
      "\n"
     ]
    },
    {
     "name": "stdout",
     "output_type": "stream",
     "text": [
      "Epoch 200, Loss 0.0386\n",
      "Training Accuracy: 0.9575, Testing Accuracy: 0.9667\n",
      "\n"
     ]
    },
    {
     "name": "stdout",
     "output_type": "stream",
     "text": [
      "Epoch 210, Loss 0.0382\n",
      "Training Accuracy: 0.9580, Testing Accuracy: 0.9667\n",
      "\n"
     ]
    },
    {
     "name": "stdout",
     "output_type": "stream",
     "text": [
      "Epoch 220, Loss 0.0378\n",
      "Training Accuracy: 0.9585, Testing Accuracy: 0.9672\n",
      "\n"
     ]
    },
    {
     "name": "stdout",
     "output_type": "stream",
     "text": [
      "Epoch 230, Loss 0.0374\n",
      "Training Accuracy: 0.9591, Testing Accuracy: 0.9672\n",
      "\n"
     ]
    },
    {
     "name": "stdout",
     "output_type": "stream",
     "text": [
      "Epoch 240, Loss 0.037\n",
      "Training Accuracy: 0.9595, Testing Accuracy: 0.9667\n",
      "\n"
     ]
    },
    {
     "data": {
      "text/plain": [
       "0.023742192246866765"
      ]
     },
     "execution_count": 23,
     "metadata": {},
     "output_type": "execute_result"
    }
   ],
   "source": [
    "lr_learner.train_loop(dl)"
   ]
  },
  {
   "cell_type": "code",
   "execution_count": 24,
   "id": "ca410940",
   "metadata": {
    "execution": {
     "iopub.execute_input": "2022-02-07T20:08:09.590571Z",
     "iopub.status.busy": "2022-02-07T20:08:09.590034Z",
     "iopub.status.idle": "2022-02-07T20:08:09.811044Z",
     "shell.execute_reply": "2022-02-07T20:08:09.811462Z"
    },
    "papermill": {
     "duration": 0.275762,
     "end_time": "2022-02-07T20:08:09.811604",
     "exception": false,
     "start_time": "2022-02-07T20:08:09.535842",
     "status": "completed"
    },
    "tags": []
   },
   "outputs": [
    {
     "data": {
      "text/plain": [
       "<matplotlib.legend.Legend at 0x7fb979a48630>"
      ]
     },
     "execution_count": 24,
     "metadata": {},
     "output_type": "execute_result"
    },
    {
     "data": {
      "image/png": "[encoded data removed]",
      "text/plain": [
       "<Figure size 1080x720 with 1 Axes>"
      ]
     },
     "metadata": {
      "needs_background": "light"
     },
     "output_type": "display_data"
    }
   ],
   "source": [
    "#comparing the results of NN and LR\n",
    "plt.figure(figsize=(15,10))\n",
    "\n",
    "# Neural Network plots\n",
    "plt.plot(acc_nn.accuracies, 'r-', label = \"Training Accuracies - NN\")\n",
    "plt.plot(acc_nn.test_accuracies, 'g-', label = \"Testing Accuracies - NN\")\n",
    "\n",
    "# Logistic Regression plots\n",
    "plt.plot(acc_lr.accuracies, 'k-', label = \"Training Accuracies - LR\")\n",
    "plt.plot(acc_lr.test_accuracies, 'b-', label = \"Testing Accuracies - LR\")\n",
    "plt.legend()"
   ]
  },
  {
   "cell_type": "markdown",
   "id": "80dfb35c",
   "metadata": {
    "papermill": {
     "duration": 0.042233,
     "end_time": "2022-02-07T20:08:09.896374",
     "exception": false,
     "start_time": "2022-02-07T20:08:09.854141",
     "status": "completed"
    },
    "tags": []
   },
   "source": [
    "#### Plotting the outputs of this layer of the NN.\n"
   ]
  },
  {
   "cell_type": "code",
   "execution_count": 25,
   "id": "45eb2ff5",
   "metadata": {
    "execution": {
     "iopub.execute_input": "2022-02-07T20:08:09.994390Z",
     "iopub.status.busy": "2022-02-07T20:08:09.993839Z",
     "iopub.status.idle": "2022-02-07T20:08:10.009609Z",
     "shell.execute_reply": "2022-02-07T20:08:10.010289Z"
    },
    "papermill": {
     "duration": 0.071912,
     "end_time": "2022-02-07T20:08:10.010430",
     "exception": false,
     "start_time": "2022-02-07T20:08:09.938518",
     "status": "completed"
    },
    "tags": []
   },
   "outputs": [],
   "source": [
    "new_model = Model(layers[:-2])\n",
    "testing_plot = new_model(testing_data_x)"
   ]
  },
  {
   "cell_type": "code",
   "execution_count": 26,
   "id": "4c0a5485",
   "metadata": {
    "execution": {
     "iopub.execute_input": "2022-02-07T20:08:10.110998Z",
     "iopub.status.busy": "2022-02-07T20:08:10.110470Z",
     "iopub.status.idle": "2022-02-07T20:08:10.311259Z",
     "shell.execute_reply": "2022-02-07T20:08:10.310802Z"
    },
    "papermill": {
     "duration": 0.25721,
     "end_time": "2022-02-07T20:08:10.311381",
     "exception": false,
     "start_time": "2022-02-07T20:08:10.054171",
     "status": "completed"
    },
    "tags": []
   },
   "outputs": [
    {
     "data": {
      "text/plain": [
       "Text(0.5, 1.0, 'Outputs')"
      ]
     },
     "execution_count": 26,
     "metadata": {},
     "output_type": "execute_result"
    },
    {
     "data": {
      "image/png": "[encoded data removed]",
      "text/plain": [
       "<Figure size 576x504 with 1 Axes>"
      ]
     },
     "metadata": {
      "needs_background": "light"
     },
     "output_type": "display_data"
    }
   ],
   "source": [
    "# Plotting the scatter plot of points and color coding by class\n",
    "plt.figure(figsize=(8,7))\n",
    "plt.scatter(testing_plot[:,0], testing_plot[:,1], alpha = 0.1, c = y_test.ravel());\n",
    "plt.title('Outputs')"
   ]
  },
  {
   "cell_type": "markdown",
   "id": "a74fcf8f",
   "metadata": {
    "papermill": {
     "duration": 0.044656,
     "end_time": "2022-02-07T20:08:10.400914",
     "exception": false,
     "start_time": "2022-02-07T20:08:10.356258",
     "status": "completed"
    },
    "tags": []
   },
   "source": [
    "Probability contours"
   ]
  },
  {
   "cell_type": "code",
   "execution_count": 27,
   "id": "d0afc8e3",
   "metadata": {
    "execution": {
     "iopub.execute_input": "2022-02-07T20:08:10.497275Z",
     "iopub.status.busy": "2022-02-07T20:08:10.495517Z",
     "iopub.status.idle": "2022-02-07T20:08:10.506984Z",
     "shell.execute_reply": "2022-02-07T20:08:10.506540Z"
    },
    "papermill": {
     "duration": 0.061505,
     "end_time": "2022-02-07T20:08:10.507101",
     "exception": false,
     "start_time": "2022-02-07T20:08:10.445596",
     "status": "completed"
    },
    "tags": []
   },
   "outputs": [],
   "source": [
    "model_prob = Model(layers[-2:]) "
   ]
  },
  {
   "cell_type": "code",
   "execution_count": 28,
   "id": "9b96e238",
   "metadata": {
    "execution": {
     "iopub.execute_input": "2022-02-07T20:08:10.639899Z",
     "iopub.status.busy": "2022-02-07T20:08:10.639028Z",
     "iopub.status.idle": "2022-02-07T20:08:10.646229Z",
     "shell.execute_reply": "2022-02-07T20:08:10.645813Z"
    },
    "papermill": {
     "duration": 0.066716,
     "end_time": "2022-02-07T20:08:10.646344",
     "exception": false,
     "start_time": "2022-02-07T20:08:10.579628",
     "status": "completed"
    },
    "tags": []
   },
   "outputs": [],
   "source": [
    "#creating the x and y ranges according to the above generated plot.\n",
    "x_range = np.linspace(-4, 1, 100) \n",
    "y_range = np.linspace(-6, 6, 100) \n",
    "x_grid, y_grid = np.meshgrid(x_range, y_range) # x_grid and y_grig are of size 100 X 100\n",
    "\n",
    "# converting x_grid and y_grid to continuous arrays\n",
    "x_gridflat = np.ravel(x_grid)\n",
    "y_gridflat = np.ravel(y_grid)\n",
    "\n",
    "# The last layer of the current model takes two columns as input. Hence transpose of np.vstack() is required.\n",
    "X = np.vstack((x_gridflat, y_gridflat)).T\n",
    "\n",
    "prob_contour = model_prob(X).reshape(100,100) "
   ]
  },
  {
   "cell_type": "code",
   "execution_count": 29,
   "id": "da72499a",
   "metadata": {
    "execution": {
     "iopub.execute_input": "2022-02-07T20:08:10.750572Z",
     "iopub.status.busy": "2022-02-07T20:08:10.750057Z",
     "iopub.status.idle": "2022-02-07T20:08:10.982585Z",
     "shell.execute_reply": "2022-02-07T20:08:10.982118Z"
    },
    "papermill": {
     "duration": 0.29122,
     "end_time": "2022-02-07T20:08:10.982707",
     "exception": false,
     "start_time": "2022-02-07T20:08:10.691487",
     "status": "completed"
    },
    "tags": []
   },
   "outputs": [
    {
     "data": {
      "image/png": "[encoded data removed]",
      "text/plain": [
       "<Figure size 720x648 with 1 Axes>"
      ]
     },
     "metadata": {
      "needs_background": "light"
     },
     "output_type": "display_data"
    }
   ],
   "source": [
    "plt.figure(figsize=(10,9))\n",
    "plt.scatter(testing_plot[:,0], testing_plot[:,1], alpha = 0.1, c = y_test.ravel())\n",
    "contours = plt.contour(x_grid,y_grid,prob_contour)\n",
    "plt.title('Probability Contours')\n",
    "plt.clabel(contours, inline = True );"
   ]
  },
  {
   "cell_type": "code",
   "execution_count": null,
   "id": "e81b4ac7",
   "metadata": {
    "papermill": {
     "duration": 0.046735,
     "end_time": "2022-02-07T20:08:11.076747",
     "exception": false,
     "start_time": "2022-02-07T20:08:11.030012",
     "status": "completed"
    },
    "tags": []
   },
   "outputs": [],
   "source": []
  }
 ],
 "metadata": {
  "kernelspec": {
   "display_name": "Python 3",
   "language": "python",
   "name": "python3"
  },
  "language_info": {
   "codemirror_mode": {
    "name": "ipython",
    "version": 3
   },
   "file_extension": ".py",
   "mimetype": "text/x-python",
   "name": "python",
   "nbconvert_exporter": "python",
   "pygments_lexer": "ipython3",
   "version": "3.6.15"
  },
  "papermill": {
   "default_parameters": {},
   "duration": 96.355927,
   "end_time": "2022-02-07T20:08:11.543218",
   "environment_variables": {},
   "exception": null,
   "input_path": "2020-08-11-part2.ipynb",
   "output_path": "2020-08-11-part2.ipynb",
   "parameters": {},
   "start_time": "2022-02-07T20:06:35.187291",
   "version": "2.3.3"
  }
 },
 "nbformat": 4,
 "nbformat_minor": 5
}