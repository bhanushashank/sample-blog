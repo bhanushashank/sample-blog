{
 "cells": [
  {
   "cell_type": "markdown",
   "id": "98380cd3",
   "metadata": {
    "papermill": {
     "duration": 0.03269,
     "end_time": "2022-09-27T00:53:30.596310",
     "exception": false,
     "start_time": "2022-09-27T00:53:30.563620",
     "status": "completed"
    },
    "tags": []
   },
   "source": [
    "# Distinguish Your Own Digits (DYOD)"
   ]
  },
  {
   "cell_type": "markdown",
   "id": "ef31240d",
   "metadata": {
    "papermill": {
     "duration": 0.026797,
     "end_time": "2022-09-27T00:53:30.650794",
     "exception": false,
     "start_time": "2022-09-27T00:53:30.623997",
     "status": "completed"
    },
    "tags": []
   },
   "source": [
    "You are going to write a classifier that distinguishes between the number 3 and number 8."
   ]
  },
  {
   "cell_type": "code",
   "execution_count": 1,
   "id": "b15c8646",
   "metadata": {
    "execution": {
     "iopub.execute_input": "2022-09-27T00:53:30.716650Z",
     "iopub.status.busy": "2022-09-27T00:53:30.715961Z",
     "iopub.status.idle": "2022-09-27T00:53:30.728741Z",
     "shell.execute_reply": "2022-09-27T00:53:30.728165Z"
    },
    "papermill": {
     "duration": 0.051081,
     "end_time": "2022-09-27T00:53:30.728913",
     "exception": false,
     "start_time": "2022-09-27T00:53:30.677832",
     "status": "completed"
    },
    "tags": []
   },
   "outputs": [],
   "source": [
    "%load_ext autoreload\n",
    "%autoreload 2"
   ]
  },
  {
   "cell_type": "code",
   "execution_count": 2,
   "id": "22ef38dc",
   "metadata": {
    "execution": {
     "iopub.execute_input": "2022-09-27T00:53:30.787784Z",
     "iopub.status.busy": "2022-09-27T00:53:30.787094Z",
     "iopub.status.idle": "2022-09-27T00:53:31.394151Z",
     "shell.execute_reply": "2022-09-27T00:53:31.393252Z"
    },
    "papermill": {
     "duration": 0.638605,
     "end_time": "2022-09-27T00:53:31.394356",
     "exception": false,
     "start_time": "2022-09-27T00:53:30.755751",
     "status": "completed"
    },
    "tags": []
   },
   "outputs": [],
   "source": [
    "%matplotlib inline\n",
    "import numpy as np\n",
    "import matplotlib.pyplot as plt\n",
    "import pandas as pd"
   ]
  },
  {
   "cell_type": "markdown",
   "id": "ba036198",
   "metadata": {
    "papermill": {
     "duration": 0.026783,
     "end_time": "2022-09-27T00:53:31.448839",
     "exception": false,
     "start_time": "2022-09-27T00:53:31.422056",
     "status": "completed"
    },
    "tags": []
   },
   "source": [
    "From the command line run `pip install mnist`. This is a library that will help you bring down the mnist dataset. If you run this from a notebook, you need to put  `!pip install mnist` in a cell by itself."
   ]
  },
  {
   "cell_type": "code",
   "execution_count": 3,
   "id": "bb6ad8a1",
   "metadata": {
    "execution": {
     "iopub.execute_input": "2022-09-27T00:53:31.506447Z",
     "iopub.status.busy": "2022-09-27T00:53:31.505763Z",
     "iopub.status.idle": "2022-09-27T00:53:33.312107Z",
     "shell.execute_reply": "2022-09-27T00:53:33.311480Z"
    },
    "papermill": {
     "duration": 1.837471,
     "end_time": "2022-09-27T00:53:33.312236",
     "exception": false,
     "start_time": "2022-09-27T00:53:31.474765",
     "status": "completed"
    },
    "tags": []
   },
   "outputs": [
    {
     "name": "stdout",
     "output_type": "stream",
     "text": [
      "Collecting mnist\r\n"
     ]
    },
    {
     "name": "stdout",
     "output_type": "stream",
     "text": [
      "  Downloading mnist-0.2.2-py2.py3-none-any.whl (3.5 kB)\r\n",
      "Requirement already satisfied: numpy in /opt/hostedtoolcache/Python/3.6.15/x64/lib/python3.6/site-packages (from mnist) (1.19.5)\r\n"
     ]
    },
    {
     "name": "stdout",
     "output_type": "stream",
     "text": [
      "Installing collected packages: mnist\r\n"
     ]
    },
    {
     "name": "stdout",
     "output_type": "stream",
     "text": [
      "Successfully installed mnist-0.2.2\r\n"
     ]
    }
   ],
   "source": [
    "!pip install mnist"
   ]
  },
  {
   "cell_type": "markdown",
   "id": "69df9c9a",
   "metadata": {
    "papermill": {
     "duration": 0.027017,
     "end_time": "2022-09-27T00:53:33.366952",
     "exception": false,
     "start_time": "2022-09-27T00:53:33.339935",
     "status": "completed"
    },
    "tags": []
   },
   "source": [
    "## Preparing the Data"
   ]
  },
  {
   "cell_type": "code",
   "execution_count": 4,
   "id": "7f69d806",
   "metadata": {
    "execution": {
     "iopub.execute_input": "2022-09-27T00:53:33.425084Z",
     "iopub.status.busy": "2022-09-27T00:53:33.424396Z",
     "iopub.status.idle": "2022-09-27T00:53:33.440728Z",
     "shell.execute_reply": "2022-09-27T00:53:33.440224Z"
    },
    "papermill": {
     "duration": 0.047406,
     "end_time": "2022-09-27T00:53:33.440862",
     "exception": false,
     "start_time": "2022-09-27T00:53:33.393456",
     "status": "completed"
    },
    "tags": []
   },
   "outputs": [],
   "source": [
    "import mnist"
   ]
  },
  {
   "cell_type": "code",
   "execution_count": 5,
   "id": "a411e44f",
   "metadata": {
    "execution": {
     "iopub.execute_input": "2022-09-27T00:53:33.499252Z",
     "iopub.status.busy": "2022-09-27T00:53:33.498642Z",
     "iopub.status.idle": "2022-09-27T00:53:34.049413Z",
     "shell.execute_reply": "2022-09-27T00:53:34.048797Z"
    },
    "papermill": {
     "duration": 0.581836,
     "end_time": "2022-09-27T00:53:34.049547",
     "exception": false,
     "start_time": "2022-09-27T00:53:33.467711",
     "status": "completed"
    },
    "tags": []
   },
   "outputs": [],
   "source": [
    "train_images = mnist.train_images()\n",
    "train_labels = mnist.train_labels()"
   ]
  },
  {
   "cell_type": "code",
   "execution_count": 6,
   "id": "dceab3a5",
   "metadata": {
    "execution": {
     "iopub.execute_input": "2022-09-27T00:53:34.119348Z",
     "iopub.status.busy": "2022-09-27T00:53:34.115228Z",
     "iopub.status.idle": "2022-09-27T00:53:34.130568Z",
     "shell.execute_reply": "2022-09-27T00:53:34.130015Z"
    },
    "papermill": {
     "duration": 0.053378,
     "end_time": "2022-09-27T00:53:34.130690",
     "exception": false,
     "start_time": "2022-09-27T00:53:34.077312",
     "status": "completed"
    },
    "tags": []
   },
   "outputs": [
    {
     "data": {
      "text/plain": [
       "((60000, 28, 28), (60000,))"
      ]
     },
     "execution_count": 6,
     "metadata": {},
     "output_type": "execute_result"
    }
   ],
   "source": [
    "train_images.shape, train_labels.shape"
   ]
  },
  {
   "cell_type": "code",
   "execution_count": 7,
   "id": "f50dc2bb",
   "metadata": {
    "execution": {
     "iopub.execute_input": "2022-09-27T00:53:34.189647Z",
     "iopub.status.busy": "2022-09-27T00:53:34.189029Z",
     "iopub.status.idle": "2022-09-27T00:53:34.316532Z",
     "shell.execute_reply": "2022-09-27T00:53:34.315783Z"
    },
    "papermill": {
     "duration": 0.15917,
     "end_time": "2022-09-27T00:53:34.316672",
     "exception": false,
     "start_time": "2022-09-27T00:53:34.157502",
     "status": "completed"
    },
    "tags": []
   },
   "outputs": [],
   "source": [
    "test_images = mnist.test_images()\n",
    "test_labels = mnist.test_labels()"
   ]
  },
  {
   "cell_type": "code",
   "execution_count": 8,
   "id": "fc38cf1b",
   "metadata": {
    "execution": {
     "iopub.execute_input": "2022-09-27T00:53:34.378472Z",
     "iopub.status.busy": "2022-09-27T00:53:34.377811Z",
     "iopub.status.idle": "2022-09-27T00:53:34.391618Z",
     "shell.execute_reply": "2022-09-27T00:53:34.392161Z"
    },
    "papermill": {
     "duration": 0.047672,
     "end_time": "2022-09-27T00:53:34.392296",
     "exception": false,
     "start_time": "2022-09-27T00:53:34.344624",
     "status": "completed"
    },
    "tags": []
   },
   "outputs": [
    {
     "data": {
      "text/plain": [
       "((10000, 28, 28), (10000,))"
      ]
     },
     "execution_count": 8,
     "metadata": {},
     "output_type": "execute_result"
    }
   ],
   "source": [
    "test_images.shape, test_labels.shape"
   ]
  },
  {
   "cell_type": "code",
   "execution_count": 9,
   "id": "f9ed8fe0",
   "metadata": {
    "execution": {
     "iopub.execute_input": "2022-09-27T00:53:34.452015Z",
     "iopub.status.busy": "2022-09-27T00:53:34.451407Z",
     "iopub.status.idle": "2022-09-27T00:53:34.606276Z",
     "shell.execute_reply": "2022-09-27T00:53:34.605783Z"
    },
    "papermill": {
     "duration": 0.186797,
     "end_time": "2022-09-27T00:53:34.606404",
     "exception": false,
     "start_time": "2022-09-27T00:53:34.419607",
     "status": "completed"
    },
    "tags": []
   },
   "outputs": [
    {
     "name": "stdout",
     "output_type": "stream",
     "text": [
      "2\n"
     ]
    },
    {
     "data": {
      "text/plain": [
       "<matplotlib.image.AxesImage at 0x7f4c10260f60>"
      ]
     },
     "execution_count": 9,
     "metadata": {},
     "output_type": "execute_result"
    },
    {
     "data": {
      "image/png": "[encoded data removed]",
      "text/plain": [
       "<Figure size 432x288 with 1 Axes>"
      ]
     },
     "metadata": {
      "needs_background": "light"
     },
     "output_type": "display_data"
    }
   ],
   "source": [
    "image_index = 7776 # You may select anything up to 60,000\n",
    "print(train_labels[image_index]) \n",
    "plt.imshow(train_images[image_index], cmap='Greys')"
   ]
  },
  {
   "cell_type": "markdown",
   "id": "a8d2388d",
   "metadata": {
    "papermill": {
     "duration": 0.028779,
     "end_time": "2022-09-27T00:53:34.664164",
     "exception": false,
     "start_time": "2022-09-27T00:53:34.635385",
     "status": "completed"
    },
    "tags": []
   },
   "source": [
    "## Filter data to get 3 and 8 out"
   ]
  },
  {
   "cell_type": "code",
   "execution_count": 10,
   "id": "776f7fc7",
   "metadata": {
    "execution": {
     "iopub.execute_input": "2022-09-27T00:53:34.730643Z",
     "iopub.status.busy": "2022-09-27T00:53:34.730013Z",
     "iopub.status.idle": "2022-09-27T00:53:34.749055Z",
     "shell.execute_reply": "2022-09-27T00:53:34.748388Z"
    },
    "papermill": {
     "duration": 0.056654,
     "end_time": "2022-09-27T00:53:34.749197",
     "exception": false,
     "start_time": "2022-09-27T00:53:34.692543",
     "status": "completed"
    },
    "tags": []
   },
   "outputs": [],
   "source": [
    "train_filter = np.where((train_labels == 3 ) | (train_labels == 8))\n",
    "test_filter = np.where((test_labels == 3) | (test_labels == 8))\n",
    "X_train, y_train = train_images[train_filter], train_labels[train_filter]\n",
    "X_test, y_test = test_images[test_filter], test_labels[test_filter]"
   ]
  },
  {
   "cell_type": "markdown",
   "id": "948f0b7e",
   "metadata": {
    "papermill": {
     "duration": 0.028461,
     "end_time": "2022-09-27T00:53:34.807145",
     "exception": false,
     "start_time": "2022-09-27T00:53:34.778684",
     "status": "completed"
    },
    "tags": []
   },
   "source": [
    "We normalize the pizel values in the 0 to 1 range"
   ]
  },
  {
   "cell_type": "code",
   "execution_count": 11,
   "id": "ee4c2166",
   "metadata": {
    "execution": {
     "iopub.execute_input": "2022-09-27T00:53:34.870303Z",
     "iopub.status.busy": "2022-09-27T00:53:34.869642Z",
     "iopub.status.idle": "2022-09-27T00:53:34.925380Z",
     "shell.execute_reply": "2022-09-27T00:53:34.924829Z"
    },
    "papermill": {
     "duration": 0.089822,
     "end_time": "2022-09-27T00:53:34.925503",
     "exception": false,
     "start_time": "2022-09-27T00:53:34.835681",
     "status": "completed"
    },
    "tags": []
   },
   "outputs": [],
   "source": [
    "X_train = X_train/255.\n",
    "X_test = X_test/255."
   ]
  },
  {
   "cell_type": "markdown",
   "id": "ddcf4fab",
   "metadata": {
    "papermill": {
     "duration": 0.028997,
     "end_time": "2022-09-27T00:53:34.984101",
     "exception": false,
     "start_time": "2022-09-27T00:53:34.955104",
     "status": "completed"
    },
    "tags": []
   },
   "source": [
    "And setup the labels as 1 (when the digit is 3) and 0 (when the digit is 8)"
   ]
  },
  {
   "cell_type": "code",
   "execution_count": 12,
   "id": "7dc908f2",
   "metadata": {
    "execution": {
     "iopub.execute_input": "2022-09-27T00:53:35.046692Z",
     "iopub.status.busy": "2022-09-27T00:53:35.045898Z",
     "iopub.status.idle": "2022-09-27T00:53:35.059634Z",
     "shell.execute_reply": "2022-09-27T00:53:35.060267Z"
    },
    "papermill": {
     "duration": 0.047078,
     "end_time": "2022-09-27T00:53:35.060410",
     "exception": false,
     "start_time": "2022-09-27T00:53:35.013332",
     "status": "completed"
    },
    "tags": []
   },
   "outputs": [],
   "source": [
    "y_train = 1*(y_train==3)\n",
    "y_test = 1*(y_test==3)"
   ]
  },
  {
   "cell_type": "code",
   "execution_count": 13,
   "id": "01e4e969",
   "metadata": {
    "execution": {
     "iopub.execute_input": "2022-09-27T00:53:35.123029Z",
     "iopub.status.busy": "2022-09-27T00:53:35.122421Z",
     "iopub.status.idle": "2022-09-27T00:53:35.138238Z",
     "shell.execute_reply": "2022-09-27T00:53:35.137734Z"
    },
    "papermill": {
     "duration": 0.049122,
     "end_time": "2022-09-27T00:53:35.138352",
     "exception": false,
     "start_time": "2022-09-27T00:53:35.089230",
     "status": "completed"
    },
    "tags": []
   },
   "outputs": [
    {
     "data": {
      "text/plain": [
       "((11982, 28, 28), (1984, 28, 28))"
      ]
     },
     "execution_count": 13,
     "metadata": {},
     "output_type": "execute_result"
    }
   ],
   "source": [
    "X_train.shape, X_test.shape"
   ]
  },
  {
   "cell_type": "markdown",
   "id": "5ccf3f85",
   "metadata": {
    "papermill": {
     "duration": 0.028753,
     "end_time": "2022-09-27T00:53:35.196415",
     "exception": false,
     "start_time": "2022-09-27T00:53:35.167662",
     "status": "completed"
    },
    "tags": []
   },
   "source": [
    "We reshape the data to flatten the image pixels into a set of features or co-variates:"
   ]
  },
  {
   "cell_type": "code",
   "execution_count": 14,
   "id": "5286a4a3",
   "metadata": {
    "execution": {
     "iopub.execute_input": "2022-09-27T00:53:35.259970Z",
     "iopub.status.busy": "2022-09-27T00:53:35.259299Z",
     "iopub.status.idle": "2022-09-27T00:53:35.274690Z",
     "shell.execute_reply": "2022-09-27T00:53:35.274144Z"
    },
    "papermill": {
     "duration": 0.048838,
     "end_time": "2022-09-27T00:53:35.274811",
     "exception": false,
     "start_time": "2022-09-27T00:53:35.225973",
     "status": "completed"
    },
    "tags": []
   },
   "outputs": [
    {
     "data": {
      "text/plain": [
       "((11982, 784), (1984, 784))"
      ]
     },
     "execution_count": 14,
     "metadata": {},
     "output_type": "execute_result"
    }
   ],
   "source": [
    "X_train = X_train.reshape(X_train.shape[0], -1)\n",
    "X_test = X_test.reshape(X_test.shape[0], -1)\n",
    "X_train.shape, X_test.shape"
   ]
  },
  {
   "cell_type": "code",
   "execution_count": 15,
   "id": "73c5f88a",
   "metadata": {
    "execution": {
     "iopub.execute_input": "2022-09-27T00:53:35.339499Z",
     "iopub.status.busy": "2022-09-27T00:53:35.338814Z",
     "iopub.status.idle": "2022-09-27T00:53:35.359544Z",
     "shell.execute_reply": "2022-09-27T00:53:35.359039Z"
    },
    "papermill": {
     "duration": 0.055336,
     "end_time": "2022-09-27T00:53:35.359680",
     "exception": false,
     "start_time": "2022-09-27T00:53:35.304344",
     "status": "completed"
    },
    "tags": []
   },
   "outputs": [],
   "source": [
    "#Impoting functions from 'Kudzu'\n",
    "from kudzu.model import Model\n",
    "from kudzu.train import Learner\n",
    "from kudzu.optim import GD\n",
    "from kudzu.data import Data, Sampler,Dataloader\n",
    "\n",
    "from kudzu.callbacks import AccCallback\n",
    "from kudzu.callbacks import ClfCallback\n",
    "\n",
    "from kudzu.loss import MSE\n",
    "\n",
    "from kudzu.layer import Sigmoid,Relu\n",
    "from kudzu.layer import Affine"
   ]
  },
  {
   "cell_type": "markdown",
   "id": "bc01172a",
   "metadata": {
    "papermill": {
     "duration": 0.030126,
     "end_time": "2022-09-27T00:53:35.419640",
     "exception": false,
     "start_time": "2022-09-27T00:53:35.389514",
     "status": "completed"
    },
    "tags": []
   },
   "source": [
    "### Let us create a `Config` class, to store important parameters. \n",
    "This class essentially plays the role of a dictionary."
   ]
  },
  {
   "cell_type": "code",
   "execution_count": 16,
   "id": "978281aa",
   "metadata": {
    "execution": {
     "iopub.execute_input": "2022-09-27T00:53:35.484787Z",
     "iopub.status.busy": "2022-09-27T00:53:35.484066Z",
     "iopub.status.idle": "2022-09-27T00:53:35.497206Z",
     "shell.execute_reply": "2022-09-27T00:53:35.496648Z"
    },
    "papermill": {
     "duration": 0.047831,
     "end_time": "2022-09-27T00:53:35.497324",
     "exception": false,
     "start_time": "2022-09-27T00:53:35.449493",
     "status": "completed"
    },
    "tags": []
   },
   "outputs": [],
   "source": [
    "class Config:\n",
    "    pass\n",
    "config = Config()\n",
    "config.lr = 0.001\n",
    "config.num_epochs = 250\n",
    "config.bs = 50"
   ]
  },
  {
   "cell_type": "markdown",
   "id": "1385fa59",
   "metadata": {
    "papermill": {
     "duration": 0.029354,
     "end_time": "2022-09-27T00:53:35.557035",
     "exception": false,
     "start_time": "2022-09-27T00:53:35.527681",
     "status": "completed"
    },
    "tags": []
   },
   "source": [
    "### Running Models with the Training data\n",
    "Details about the network layers:\n",
    "- A first affine layer has 784 inputs and does 100 affine transforms. These are followed by a Relu\n",
    "- A second affine layer has 100 inputs from the 100 activations of the past layer, and does 100 affine transforms. These are followed by a Relu\n",
    "- A third affine layer has 100 activations and does 2 affine transformations to create an embedding for visualization. There is no non-linearity here.\n",
    "- A final \"logistic regression\" which has an affine transform from 2 inputs to 1 output, which is squeezed through a sigmoid.\n"
   ]
  },
  {
   "cell_type": "code",
   "execution_count": 17,
   "id": "2b9c66db",
   "metadata": {
    "execution": {
     "iopub.execute_input": "2022-09-27T00:53:35.623881Z",
     "iopub.status.busy": "2022-09-27T00:53:35.623210Z",
     "iopub.status.idle": "2022-09-27T00:53:35.635630Z",
     "shell.execute_reply": "2022-09-27T00:53:35.636133Z"
    },
    "papermill": {
     "duration": 0.050487,
     "end_time": "2022-09-27T00:53:35.636267",
     "exception": false,
     "start_time": "2022-09-27T00:53:35.585780",
     "status": "completed"
    },
    "tags": []
   },
   "outputs": [],
   "source": [
    "data = Data(X_train, y_train.reshape(-1,1))\n",
    "sampler = Sampler(data, config.bs, shuffle=True)\n",
    "\n",
    "dl = Dataloader(data, sampler)\n",
    "\n",
    "opt = GD(config.lr)\n",
    "loss = MSE()"
   ]
  },
  {
   "cell_type": "code",
   "execution_count": 18,
   "id": "b275e4c2",
   "metadata": {
    "execution": {
     "iopub.execute_input": "2022-09-27T00:53:35.698683Z",
     "iopub.status.busy": "2022-09-27T00:53:35.697528Z",
     "iopub.status.idle": "2022-09-27T00:53:35.714137Z",
     "shell.execute_reply": "2022-09-27T00:53:35.713637Z"
    },
    "papermill": {
     "duration": 0.049553,
     "end_time": "2022-09-27T00:53:35.714248",
     "exception": false,
     "start_time": "2022-09-27T00:53:35.664695",
     "status": "completed"
    },
    "tags": []
   },
   "outputs": [],
   "source": [
    "training_data_x = X_train\n",
    "testing_data_x = X_test\n",
    "training_data_y = y_train.reshape(-1,1)\n",
    "testing_data_y = y_test.reshape(-1,1)"
   ]
  },
  {
   "cell_type": "code",
   "execution_count": 19,
   "id": "76951160",
   "metadata": {
    "execution": {
     "iopub.execute_input": "2022-09-27T00:53:35.780610Z",
     "iopub.status.busy": "2022-09-27T00:53:35.779944Z",
     "iopub.status.idle": "2022-09-27T00:53:35.798242Z",
     "shell.execute_reply": "2022-09-27T00:53:35.797600Z"
    },
    "papermill": {
     "duration": 0.054777,
     "end_time": "2022-09-27T00:53:35.798359",
     "exception": false,
     "start_time": "2022-09-27T00:53:35.743582",
     "status": "completed"
    },
    "tags": []
   },
   "outputs": [
    {
     "name": "stdout",
     "output_type": "stream",
     "text": [
      "xavier\n",
      "xavier\n",
      "xavier\n",
      "xavier\n",
      "xavier\n"
     ]
    }
   ],
   "source": [
    "layers = [Affine(\"first\", 784, 100), Relu(\"first\"), Affine(\"second\", 100, 100), Relu(\"second\"), Affine(\"third\", 100, 2), Affine(\"last\", 2, 1), Sigmoid(\"last\")]\n",
    "model_nn = Model(layers)\n",
    "model_lr = Model([Affine(\"logits\", 784, 1), Sigmoid(\"sigmoid\")])"
   ]
  },
  {
   "cell_type": "code",
   "execution_count": 20,
   "id": "6eede77a",
   "metadata": {
    "execution": {
     "iopub.execute_input": "2022-09-27T00:53:35.868116Z",
     "iopub.status.busy": "2022-09-27T00:53:35.867496Z",
     "iopub.status.idle": "2022-09-27T00:53:35.877278Z",
     "shell.execute_reply": "2022-09-27T00:53:35.876653Z"
    },
    "papermill": {
     "duration": 0.049173,
     "end_time": "2022-09-27T00:53:35.877397",
     "exception": false,
     "start_time": "2022-09-27T00:53:35.828224",
     "status": "completed"
    },
    "tags": []
   },
   "outputs": [],
   "source": [
    "nn_learner = Learner(loss, model_nn, opt, config.num_epochs)\n",
    "acc_nn = ClfCallback(nn_learner, config.bs, training_data_x , testing_data_x, training_data_y, testing_data_y)\n",
    "nn_learner.set_callbacks([acc_nn])"
   ]
  },
  {
   "cell_type": "code",
   "execution_count": 21,
   "id": "877b6cc7",
   "metadata": {
    "execution": {
     "iopub.execute_input": "2022-09-27T00:53:35.943070Z",
     "iopub.status.busy": "2022-09-27T00:53:35.942409Z",
     "iopub.status.idle": "2022-09-27T00:53:35.957953Z",
     "shell.execute_reply": "2022-09-27T00:53:35.957457Z"
    },
    "papermill": {
     "duration": 0.051074,
     "end_time": "2022-09-27T00:53:35.958063",
     "exception": false,
     "start_time": "2022-09-27T00:53:35.906989",
     "status": "completed"
    },
    "tags": []
   },
   "outputs": [],
   "source": [
    "lr_learner = Learner(loss, model_lr, opt, config.num_epochs)\n",
    "acc_lr = ClfCallback(lr_learner, config.bs, training_data_x , testing_data_x, training_data_y, testing_data_y)\n",
    "lr_learner.set_callbacks([acc_lr])"
   ]
  },
  {
   "cell_type": "code",
   "execution_count": 22,
   "id": "d9b133c3",
   "metadata": {
    "execution": {
     "iopub.execute_input": "2022-09-27T00:53:36.022477Z",
     "iopub.status.busy": "2022-09-27T00:53:36.021429Z",
     "iopub.status.idle": "2022-09-27T00:55:03.022904Z",
     "shell.execute_reply": "2022-09-27T00:55:03.023873Z"
    },
    "papermill": {
     "duration": 87.036554,
     "end_time": "2022-09-27T00:55:03.024039",
     "exception": false,
     "start_time": "2022-09-27T00:53:35.987485",
     "status": "completed"
    },
    "tags": []
   },
   "outputs": [
    {
     "name": "stdout",
     "output_type": "stream",
     "text": [
      "Epoch 0, Loss 0.2474\n",
      "Training Accuracy: 0.5519, Testing Accuracy: 0.5423\n",
      "\n"
     ]
    },
    {
     "name": "stdout",
     "output_type": "stream",
     "text": [
      "Epoch 10, Loss 0.1258\n",
      "Training Accuracy: 0.9084, Testing Accuracy: 0.9229\n",
      "\n"
     ]
    },
    {
     "name": "stdout",
     "output_type": "stream",
     "text": [
      "Epoch 20, Loss 0.067\n",
      "Training Accuracy: 0.9350, Testing Accuracy: 0.9461\n",
      "\n"
     ]
    },
    {
     "name": "stdout",
     "output_type": "stream",
     "text": [
      "Epoch 30, Loss 0.0496\n",
      "Training Accuracy: 0.9475, Testing Accuracy: 0.9572\n",
      "\n"
     ]
    },
    {
     "name": "stdout",
     "output_type": "stream",
     "text": [
      "Epoch 40, Loss 0.0417\n",
      "Training Accuracy: 0.9549, Testing Accuracy: 0.9592\n",
      "\n"
     ]
    },
    {
     "name": "stdout",
     "output_type": "stream",
     "text": [
      "Epoch 50, Loss 0.0372\n",
      "Training Accuracy: 0.9577, Testing Accuracy: 0.9627\n",
      "\n"
     ]
    },
    {
     "name": "stdout",
     "output_type": "stream",
     "text": [
      "Epoch 60, Loss 0.0343\n",
      "Training Accuracy: 0.9609, Testing Accuracy: 0.9642\n",
      "\n"
     ]
    },
    {
     "name": "stdout",
     "output_type": "stream",
     "text": [
      "Epoch 70, Loss 0.0321\n",
      "Training Accuracy: 0.9634, Testing Accuracy: 0.9662\n",
      "\n"
     ]
    },
    {
     "name": "stdout",
     "output_type": "stream",
     "text": [
      "Epoch 80, Loss 0.0305\n",
      "Training Accuracy: 0.9650, Testing Accuracy: 0.9677\n",
      "\n"
     ]
    },
    {
     "name": "stdout",
     "output_type": "stream",
     "text": [
      "Epoch 90, Loss 0.0292\n",
      "Training Accuracy: 0.9669, Testing Accuracy: 0.9682\n",
      "\n"
     ]
    },
    {
     "name": "stdout",
     "output_type": "stream",
     "text": [
      "Epoch 100, Loss 0.0281\n",
      "Training Accuracy: 0.9683, Testing Accuracy: 0.9688\n",
      "\n"
     ]
    },
    {
     "name": "stdout",
     "output_type": "stream",
     "text": [
      "Epoch 110, Loss 0.0271\n",
      "Training Accuracy: 0.9690, Testing Accuracy: 0.9693\n",
      "\n"
     ]
    },
    {
     "name": "stdout",
     "output_type": "stream",
     "text": [
      "Epoch 120, Loss 0.0263\n",
      "Training Accuracy: 0.9695, Testing Accuracy: 0.9703\n",
      "\n"
     ]
    },
    {
     "name": "stdout",
     "output_type": "stream",
     "text": [
      "Epoch 130, Loss 0.0256\n",
      "Training Accuracy: 0.9705, Testing Accuracy: 0.9713\n",
      "\n"
     ]
    },
    {
     "name": "stdout",
     "output_type": "stream",
     "text": [
      "Epoch 140, Loss 0.0249\n",
      "Training Accuracy: 0.9710, Testing Accuracy: 0.9708\n",
      "\n"
     ]
    },
    {
     "name": "stdout",
     "output_type": "stream",
     "text": [
      "Epoch 150, Loss 0.0243\n",
      "Training Accuracy: 0.9715, Testing Accuracy: 0.9708\n",
      "\n"
     ]
    },
    {
     "name": "stdout",
     "output_type": "stream",
     "text": [
      "Epoch 160, Loss 0.0238\n",
      "Training Accuracy: 0.9730, Testing Accuracy: 0.9713\n",
      "\n"
     ]
    },
    {
     "name": "stdout",
     "output_type": "stream",
     "text": [
      "Epoch 170, Loss 0.0233\n",
      "Training Accuracy: 0.9735, Testing Accuracy: 0.9713\n",
      "\n"
     ]
    },
    {
     "name": "stdout",
     "output_type": "stream",
     "text": [
      "Epoch 180, Loss 0.0228\n",
      "Training Accuracy: 0.9738, Testing Accuracy: 0.9718\n",
      "\n"
     ]
    },
    {
     "name": "stdout",
     "output_type": "stream",
     "text": [
      "Epoch 190, Loss 0.0224\n",
      "Training Accuracy: 0.9741, Testing Accuracy: 0.9723\n",
      "\n"
     ]
    },
    {
     "name": "stdout",
     "output_type": "stream",
     "text": [
      "Epoch 200, Loss 0.022\n",
      "Training Accuracy: 0.9751, Testing Accuracy: 0.9718\n",
      "\n"
     ]
    },
    {
     "name": "stdout",
     "output_type": "stream",
     "text": [
      "Epoch 210, Loss 0.0216\n",
      "Training Accuracy: 0.9753, Testing Accuracy: 0.9718\n",
      "\n"
     ]
    },
    {
     "name": "stdout",
     "output_type": "stream",
     "text": [
      "Epoch 220, Loss 0.0212\n",
      "Training Accuracy: 0.9755, Testing Accuracy: 0.9728\n",
      "\n"
     ]
    },
    {
     "name": "stdout",
     "output_type": "stream",
     "text": [
      "Epoch 230, Loss 0.0209\n",
      "Training Accuracy: 0.9760, Testing Accuracy: 0.9743\n",
      "\n"
     ]
    },
    {
     "name": "stdout",
     "output_type": "stream",
     "text": [
      "Epoch 240, Loss 0.0205\n",
      "Training Accuracy: 0.9765, Testing Accuracy: 0.9748\n",
      "\n"
     ]
    },
    {
     "data": {
      "text/plain": [
       "0.019078718029737474"
      ]
     },
     "execution_count": 22,
     "metadata": {},
     "output_type": "execute_result"
    }
   ],
   "source": [
    "nn_learner.train_loop(dl)"
   ]
  },
  {
   "cell_type": "code",
   "execution_count": 23,
   "id": "e0163366",
   "metadata": {
    "execution": {
     "iopub.execute_input": "2022-09-27T00:55:03.113592Z",
     "iopub.status.busy": "2022-09-27T00:55:03.112870Z",
     "iopub.status.idle": "2022-09-27T00:55:18.661956Z",
     "shell.execute_reply": "2022-09-27T00:55:18.662507Z"
    },
    "papermill": {
     "duration": 15.597683,
     "end_time": "2022-09-27T00:55:18.662661",
     "exception": false,
     "start_time": "2022-09-27T00:55:03.064978",
     "status": "completed"
    },
    "tags": []
   },
   "outputs": [
    {
     "name": "stdout",
     "output_type": "stream",
     "text": [
      "Epoch 0, Loss 0.2386\n",
      "Training Accuracy: 0.6693, Testing Accuracy: 0.6588\n",
      "\n"
     ]
    },
    {
     "name": "stdout",
     "output_type": "stream",
     "text": [
      "Epoch 10, Loss 0.1087\n",
      "Training Accuracy: 0.8928, Testing Accuracy: 0.9083\n",
      "\n"
     ]
    },
    {
     "name": "stdout",
     "output_type": "stream",
     "text": [
      "Epoch 20, Loss 0.0824\n",
      "Training Accuracy: 0.9195, Testing Accuracy: 0.9309\n",
      "\n"
     ]
    },
    {
     "name": "stdout",
     "output_type": "stream",
     "text": [
      "Epoch 30, Loss 0.0701\n",
      "Training Accuracy: 0.9322, Testing Accuracy: 0.9435\n",
      "\n"
     ]
    },
    {
     "name": "stdout",
     "output_type": "stream",
     "text": [
      "Epoch 40, Loss 0.0629\n",
      "Training Accuracy: 0.9401, Testing Accuracy: 0.9516\n",
      "\n"
     ]
    },
    {
     "name": "stdout",
     "output_type": "stream",
     "text": [
      "Epoch 50, Loss 0.058\n",
      "Training Accuracy: 0.9436, Testing Accuracy: 0.9541\n",
      "\n"
     ]
    },
    {
     "name": "stdout",
     "output_type": "stream",
     "text": [
      "Epoch 60, Loss 0.0544\n",
      "Training Accuracy: 0.9466, Testing Accuracy: 0.9567\n",
      "\n"
     ]
    },
    {
     "name": "stdout",
     "output_type": "stream",
     "text": [
      "Epoch 70, Loss 0.0517\n",
      "Training Accuracy: 0.9479, Testing Accuracy: 0.9577\n",
      "\n"
     ]
    },
    {
     "name": "stdout",
     "output_type": "stream",
     "text": [
      "Epoch 80, Loss 0.0495\n",
      "Training Accuracy: 0.9498, Testing Accuracy: 0.9577\n",
      "\n"
     ]
    },
    {
     "name": "stdout",
     "output_type": "stream",
     "text": [
      "Epoch 90, Loss 0.0478\n",
      "Training Accuracy: 0.9513, Testing Accuracy: 0.9587\n",
      "\n"
     ]
    },
    {
     "name": "stdout",
     "output_type": "stream",
     "text": [
      "Epoch 100, Loss 0.0463\n",
      "Training Accuracy: 0.9528, Testing Accuracy: 0.9597\n",
      "\n"
     ]
    },
    {
     "name": "stdout",
     "output_type": "stream",
     "text": [
      "Epoch 110, Loss 0.045\n",
      "Training Accuracy: 0.9540, Testing Accuracy: 0.9602\n",
      "\n"
     ]
    },
    {
     "name": "stdout",
     "output_type": "stream",
     "text": [
      "Epoch 120, Loss 0.0439\n",
      "Training Accuracy: 0.9553, Testing Accuracy: 0.9622\n",
      "\n"
     ]
    },
    {
     "name": "stdout",
     "output_type": "stream",
     "text": [
      "Epoch 130, Loss 0.043\n",
      "Training Accuracy: 0.9562, Testing Accuracy: 0.9632\n",
      "\n"
     ]
    },
    {
     "name": "stdout",
     "output_type": "stream",
     "text": [
      "Epoch 140, Loss 0.0421\n",
      "Training Accuracy: 0.9570, Testing Accuracy: 0.9637\n",
      "\n"
     ]
    },
    {
     "name": "stdout",
     "output_type": "stream",
     "text": [
      "Epoch 150, Loss 0.0414\n",
      "Training Accuracy: 0.9579, Testing Accuracy: 0.9647\n",
      "\n"
     ]
    },
    {
     "name": "stdout",
     "output_type": "stream",
     "text": [
      "Epoch 160, Loss 0.0407\n",
      "Training Accuracy: 0.9583, Testing Accuracy: 0.9657\n",
      "\n"
     ]
    },
    {
     "name": "stdout",
     "output_type": "stream",
     "text": [
      "Epoch 170, Loss 0.04\n",
      "Training Accuracy: 0.9585, Testing Accuracy: 0.9652\n",
      "\n"
     ]
    },
    {
     "name": "stdout",
     "output_type": "stream",
     "text": [
      "Epoch 180, Loss 0.0395\n",
      "Training Accuracy: 0.9591, Testing Accuracy: 0.9652\n",
      "\n"
     ]
    },
    {
     "name": "stdout",
     "output_type": "stream",
     "text": [
      "Epoch 190, Loss 0.0389\n",
      "Training Accuracy: 0.9595, Testing Accuracy: 0.9657\n",
      "\n"
     ]
    },
    {
     "name": "stdout",
     "output_type": "stream",
     "text": [
      "Epoch 200, Loss 0.0384\n",
      "Training Accuracy: 0.9600, Testing Accuracy: 0.9657\n",
      "\n"
     ]
    },
    {
     "name": "stdout",
     "output_type": "stream",
     "text": [
      "Epoch 210, Loss 0.038\n",
      "Training Accuracy: 0.9600, Testing Accuracy: 0.9657\n",
      "\n"
     ]
    },
    {
     "name": "stdout",
     "output_type": "stream",
     "text": [
      "Epoch 220, Loss 0.0376\n",
      "Training Accuracy: 0.9601, Testing Accuracy: 0.9657\n",
      "\n"
     ]
    },
    {
     "name": "stdout",
     "output_type": "stream",
     "text": [
      "Epoch 230, Loss 0.0372\n",
      "Training Accuracy: 0.9604, Testing Accuracy: 0.9657\n",
      "\n"
     ]
    },
    {
     "name": "stdout",
     "output_type": "stream",
     "text": [
      "Epoch 240, Loss 0.0368\n",
      "Training Accuracy: 0.9607, Testing Accuracy: 0.9662\n",
      "\n"
     ]
    },
    {
     "data": {
      "text/plain": [
       "0.014352500797519412"
      ]
     },
     "execution_count": 23,
     "metadata": {},
     "output_type": "execute_result"
    }
   ],
   "source": [
    "lr_learner.train_loop(dl)"
   ]
  },
  {
   "cell_type": "code",
   "execution_count": 24,
   "id": "ca410940",
   "metadata": {
    "execution": {
     "iopub.execute_input": "2022-09-27T00:55:18.763001Z",
     "iopub.status.busy": "2022-09-27T00:55:18.760185Z",
     "iopub.status.idle": "2022-09-27T00:55:19.012382Z",
     "shell.execute_reply": "2022-09-27T00:55:19.012931Z"
    },
    "papermill": {
     "duration": 0.304153,
     "end_time": "2022-09-27T00:55:19.013094",
     "exception": false,
     "start_time": "2022-09-27T00:55:18.708941",
     "status": "completed"
    },
    "tags": []
   },
   "outputs": [
    {
     "data": {
      "text/plain": [
       "<matplotlib.legend.Legend at 0x7f4bdea70358>"
      ]
     },
     "execution_count": 24,
     "metadata": {},
     "output_type": "execute_result"
    },
    {
     "data": {
      "image/png": "[encoded data removed]",
      "text/plain": [
       "<Figure size 1080x720 with 1 Axes>"
      ]
     },
     "metadata": {
      "needs_background": "light"
     },
     "output_type": "display_data"
    }
   ],
   "source": [
    "#comparing the results of NN and LR\n",
    "plt.figure(figsize=(15,10))\n",
    "\n",
    "# Neural Network plots\n",
    "plt.plot(acc_nn.accuracies, 'r-', label = \"Training Accuracies - NN\")\n",
    "plt.plot(acc_nn.test_accuracies, 'g-', label = \"Testing Accuracies - NN\")\n",
    "\n",
    "# Logistic Regression plots\n",
    "plt.plot(acc_lr.accuracies, 'k-', label = \"Training Accuracies - LR\")\n",
    "plt.plot(acc_lr.test_accuracies, 'b-', label = \"Testing Accuracies - LR\")\n",
    "plt.legend()"
   ]
  },
  {
   "cell_type": "markdown",
   "id": "80dfb35c",
   "metadata": {
    "papermill": {
     "duration": 0.047258,
     "end_time": "2022-09-27T00:55:19.108513",
     "exception": false,
     "start_time": "2022-09-27T00:55:19.061255",
     "status": "completed"
    },
    "tags": []
   },
   "source": [
    "#### Plotting the outputs of this layer of the NN.\n"
   ]
  },
  {
   "cell_type": "code",
   "execution_count": 25,
   "id": "45eb2ff5",
   "metadata": {
    "execution": {
     "iopub.execute_input": "2022-09-27T00:55:19.212393Z",
     "iopub.status.busy": "2022-09-27T00:55:19.210292Z",
     "iopub.status.idle": "2022-09-27T00:55:19.232691Z",
     "shell.execute_reply": "2022-09-27T00:55:19.232079Z"
    },
    "papermill": {
     "duration": 0.076978,
     "end_time": "2022-09-27T00:55:19.232859",
     "exception": false,
     "start_time": "2022-09-27T00:55:19.155881",
     "status": "completed"
    },
    "tags": []
   },
   "outputs": [],
   "source": [
    "new_model = Model(layers[:-2])\n",
    "testing_plot = new_model(testing_data_x)"
   ]
  },
  {
   "cell_type": "code",
   "execution_count": 26,
   "id": "4c0a5485",
   "metadata": {
    "execution": {
     "iopub.execute_input": "2022-09-27T00:55:19.334741Z",
     "iopub.status.busy": "2022-09-27T00:55:19.334072Z",
     "iopub.status.idle": "2022-09-27T00:55:19.575846Z",
     "shell.execute_reply": "2022-09-27T00:55:19.575248Z"
    },
    "papermill": {
     "duration": 0.294452,
     "end_time": "2022-09-27T00:55:19.575978",
     "exception": false,
     "start_time": "2022-09-27T00:55:19.281526",
     "status": "completed"
    },
    "tags": []
   },
   "outputs": [
    {
     "data": {
      "text/plain": [
       "Text(0.5, 1.0, 'Outputs')"
      ]
     },
     "execution_count": 26,
     "metadata": {},
     "output_type": "execute_result"
    },
    {
     "data": {
      "image/png": "[encoded data removed]",
      "text/plain": [
       "<Figure size 576x504 with 1 Axes>"
      ]
     },
     "metadata": {
      "needs_background": "light"
     },
     "output_type": "display_data"
    }
   ],
   "source": [
    "# Plotting the scatter plot of points and color coding by class\n",
    "plt.figure(figsize=(8,7))\n",
    "plt.scatter(testing_plot[:,0], testing_plot[:,1], alpha = 0.1, c = y_test.ravel());\n",
    "plt.title('Outputs')"
   ]
  },
  {
   "cell_type": "markdown",
   "id": "a74fcf8f",
   "metadata": {
    "papermill": {
     "duration": 0.050651,
     "end_time": "2022-09-27T00:55:19.677288",
     "exception": false,
     "start_time": "2022-09-27T00:55:19.626637",
     "status": "completed"
    },
    "tags": []
   },
   "source": [
    "Probability contours"
   ]
  },
  {
   "cell_type": "code",
   "execution_count": 27,
   "id": "d0afc8e3",
   "metadata": {
    "execution": {
     "iopub.execute_input": "2022-09-27T00:55:19.815873Z",
     "iopub.status.busy": "2022-09-27T00:55:19.815193Z",
     "iopub.status.idle": "2022-09-27T00:55:19.829026Z",
     "shell.execute_reply": "2022-09-27T00:55:19.828452Z"
    },
    "papermill": {
     "duration": 0.069812,
     "end_time": "2022-09-27T00:55:19.829155",
     "exception": false,
     "start_time": "2022-09-27T00:55:19.759343",
     "status": "completed"
    },
    "tags": []
   },
   "outputs": [],
   "source": [
    "model_prob = Model(layers[-2:]) "
   ]
  },
  {
   "cell_type": "code",
   "execution_count": 28,
   "id": "9b96e238",
   "metadata": {
    "execution": {
     "iopub.execute_input": "2022-09-27T00:55:19.937347Z",
     "iopub.status.busy": "2022-09-27T00:55:19.936601Z",
     "iopub.status.idle": "2022-09-27T00:55:19.950131Z",
     "shell.execute_reply": "2022-09-27T00:55:19.950627Z"
    },
    "papermill": {
     "duration": 0.072076,
     "end_time": "2022-09-27T00:55:19.950782",
     "exception": false,
     "start_time": "2022-09-27T00:55:19.878706",
     "status": "completed"
    },
    "tags": []
   },
   "outputs": [],
   "source": [
    "#creating the x and y ranges according to the above generated plot.\n",
    "x_range = np.linspace(-4, 1, 100) \n",
    "y_range = np.linspace(-6, 6, 100) \n",
    "x_grid, y_grid = np.meshgrid(x_range, y_range) # x_grid and y_grig are of size 100 X 100\n",
    "\n",
    "# converting x_grid and y_grid to continuous arrays\n",
    "x_gridflat = np.ravel(x_grid)\n",
    "y_gridflat = np.ravel(y_grid)\n",
    "\n",
    "# The last layer of the current model takes two columns as input. Hence transpose of np.vstack() is required.\n",
    "X = np.vstack((x_gridflat, y_gridflat)).T\n",
    "\n",
    "prob_contour = model_prob(X).reshape(100,100) "
   ]
  },
  {
   "cell_type": "code",
   "execution_count": 29,
   "id": "da72499a",
   "metadata": {
    "execution": {
     "iopub.execute_input": "2022-09-27T00:55:20.066577Z",
     "iopub.status.busy": "2022-09-27T00:55:20.065895Z",
     "iopub.status.idle": "2022-09-27T00:55:20.357210Z",
     "shell.execute_reply": "2022-09-27T00:55:20.357734Z"
    },
    "papermill": {
     "duration": 0.356937,
     "end_time": "2022-09-27T00:55:20.357877",
     "exception": false,
     "start_time": "2022-09-27T00:55:20.000940",
     "status": "completed"
    },
    "tags": []
   },
   "outputs": [
    {
     "data": {
      "image/png": "[encoded data removed]",
      "text/plain": [
       "<Figure size 720x648 with 1 Axes>"
      ]
     },
     "metadata": {
      "needs_background": "light"
     },
     "output_type": "display_data"
    }
   ],
   "source": [
    "plt.figure(figsize=(10,9))\n",
    "plt.scatter(testing_plot[:,0], testing_plot[:,1], alpha = 0.1, c = y_test.ravel())\n",
    "contours = plt.contour(x_grid,y_grid,prob_contour)\n",
    "plt.title('Probability Contours')\n",
    "plt.clabel(contours, inline = True );"
   ]
  },
  {
   "cell_type": "code",
   "execution_count": null,
   "id": "e81b4ac7",
   "metadata": {
    "papermill": {
     "duration": 0.052189,
     "end_time": "2022-09-27T00:55:20.462528",
     "exception": false,
     "start_time": "2022-09-27T00:55:20.410339",
     "status": "completed"
    },
    "tags": []
   },
   "outputs": [],
   "source": []
  }
 ],
 "metadata": {
  "kernelspec": {
   "display_name": "Python 3",
   "language": "python",
   "name": "python3"
  },
  "language_info": {
   "codemirror_mode": {
    "name": "ipython",
    "version": 3
   },
   "file_extension": ".py",
   "mimetype": "text/x-python",
   "name": "python",
   "nbconvert_exporter": "python",
   "pygments_lexer": "ipython3",
   "version": "3.6.15"
  },
  "papermill": {
   "default_parameters": {},
   "duration": 111.658619,
   "end_time": "2022-09-27T00:55:20.935646",
   "environment_variables": {},
   "exception": null,
   "input_path": "2020-08-11-part2.ipynb",
   "output_path": "2020-08-11-part2.ipynb",
   "parameters": {},
   "start_time": "2022-09-27T00:53:29.277027",
   "version": "2.3.3"
  }
 },
 "nbformat": 4,
 "nbformat_minor": 5
}