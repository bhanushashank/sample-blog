{
 "cells": [
  {
   "cell_type": "markdown",
   "id": "98380cd3",
   "metadata": {
    "papermill": {
     "duration": 0.038076,
     "end_time": "2021-11-22T20:09:20.162615",
     "exception": false,
     "start_time": "2021-11-22T20:09:20.124539",
     "status": "completed"
    },
    "tags": []
   },
   "source": [
    "# Distinguish Your Own Digits (DYOD)"
   ]
  },
  {
   "cell_type": "markdown",
   "id": "ef31240d",
   "metadata": {
    "papermill": {
     "duration": 0.032722,
     "end_time": "2021-11-22T20:09:20.227799",
     "exception": false,
     "start_time": "2021-11-22T20:09:20.195077",
     "status": "completed"
    },
    "tags": []
   },
   "source": [
    "You are going to write a classifier that distinguishes between the number 3 and number 8."
   ]
  },
  {
   "cell_type": "code",
   "execution_count": 1,
   "id": "b15c8646",
   "metadata": {
    "execution": {
     "iopub.execute_input": "2021-11-22T20:09:20.308546Z",
     "iopub.status.busy": "2021-11-22T20:09:20.307694Z",
     "iopub.status.idle": "2021-11-22T20:09:20.319565Z",
     "shell.execute_reply": "2021-11-22T20:09:20.318976Z"
    },
    "papermill": {
     "duration": 0.057975,
     "end_time": "2021-11-22T20:09:20.319734",
     "exception": false,
     "start_time": "2021-11-22T20:09:20.261759",
     "status": "completed"
    },
    "tags": []
   },
   "outputs": [],
   "source": [
    "%load_ext autoreload\n",
    "%autoreload 2"
   ]
  },
  {
   "cell_type": "code",
   "execution_count": 2,
   "id": "22ef38dc",
   "metadata": {
    "execution": {
     "iopub.execute_input": "2021-11-22T20:09:20.389528Z",
     "iopub.status.busy": "2021-11-22T20:09:20.388836Z",
     "iopub.status.idle": "2021-11-22T20:09:21.109243Z",
     "shell.execute_reply": "2021-11-22T20:09:21.108568Z"
    },
    "papermill": {
     "duration": 0.757802,
     "end_time": "2021-11-22T20:09:21.109403",
     "exception": false,
     "start_time": "2021-11-22T20:09:20.351601",
     "status": "completed"
    },
    "tags": []
   },
   "outputs": [],
   "source": [
    "%matplotlib inline\n",
    "import numpy as np\n",
    "import matplotlib.pyplot as plt\n",
    "import pandas as pd"
   ]
  },
  {
   "cell_type": "markdown",
   "id": "ba036198",
   "metadata": {
    "papermill": {
     "duration": 0.030958,
     "end_time": "2021-11-22T20:09:21.171334",
     "exception": false,
     "start_time": "2021-11-22T20:09:21.140376",
     "status": "completed"
    },
    "tags": []
   },
   "source": [
    "From the command line run `pip install mnist`. This is a library that will help you bring down the mnist dataset. If you run this from a notebook, you need to put  `!pip install mnist` in a cell by itself."
   ]
  },
  {
   "cell_type": "code",
   "execution_count": 3,
   "id": "bb6ad8a1",
   "metadata": {
    "execution": {
     "iopub.execute_input": "2021-11-22T20:09:21.242185Z",
     "iopub.status.busy": "2021-11-22T20:09:21.241505Z",
     "iopub.status.idle": "2021-11-22T20:09:24.098317Z",
     "shell.execute_reply": "2021-11-22T20:09:24.097714Z"
    },
    "papermill": {
     "duration": 2.896359,
     "end_time": "2021-11-22T20:09:24.098477",
     "exception": false,
     "start_time": "2021-11-22T20:09:21.202118",
     "status": "completed"
    },
    "tags": []
   },
   "outputs": [
    {
     "name": "stdout",
     "output_type": "stream",
     "text": [
      "Collecting mnist\r\n"
     ]
    },
    {
     "name": "stdout",
     "output_type": "stream",
     "text": [
      "  Downloading mnist-0.2.2-py2.py3-none-any.whl (3.5 kB)\r\n",
      "Requirement already satisfied: numpy in /opt/hostedtoolcache/Python/3.6.15/x64/lib/python3.6/site-packages (from mnist) (1.19.5)\r\n"
     ]
    },
    {
     "name": "stdout",
     "output_type": "stream",
     "text": [
      "Installing collected packages: mnist\r\n"
     ]
    },
    {
     "name": "stdout",
     "output_type": "stream",
     "text": [
      "Successfully installed mnist-0.2.2\r\n"
     ]
    }
   ],
   "source": [
    "!pip install mnist"
   ]
  },
  {
   "cell_type": "markdown",
   "id": "69df9c9a",
   "metadata": {
    "papermill": {
     "duration": 0.037617,
     "end_time": "2021-11-22T20:09:24.169713",
     "exception": false,
     "start_time": "2021-11-22T20:09:24.132096",
     "status": "completed"
    },
    "tags": []
   },
   "source": [
    "## Preparing the Data"
   ]
  },
  {
   "cell_type": "code",
   "execution_count": 4,
   "id": "7f69d806",
   "metadata": {
    "execution": {
     "iopub.execute_input": "2021-11-22T20:09:24.241285Z",
     "iopub.status.busy": "2021-11-22T20:09:24.240577Z",
     "iopub.status.idle": "2021-11-22T20:09:24.256162Z",
     "shell.execute_reply": "2021-11-22T20:09:24.255594Z"
    },
    "papermill": {
     "duration": 0.05392,
     "end_time": "2021-11-22T20:09:24.256308",
     "exception": false,
     "start_time": "2021-11-22T20:09:24.202388",
     "status": "completed"
    },
    "tags": []
   },
   "outputs": [],
   "source": [
    "import mnist"
   ]
  },
  {
   "cell_type": "code",
   "execution_count": 5,
   "id": "a411e44f",
   "metadata": {
    "execution": {
     "iopub.execute_input": "2021-11-22T20:09:24.329402Z",
     "iopub.status.busy": "2021-11-22T20:09:24.328725Z",
     "iopub.status.idle": "2021-11-22T20:09:25.072815Z",
     "shell.execute_reply": "2021-11-22T20:09:25.073351Z"
    },
    "papermill": {
     "duration": 0.78448,
     "end_time": "2021-11-22T20:09:25.073532",
     "exception": false,
     "start_time": "2021-11-22T20:09:24.289052",
     "status": "completed"
    },
    "tags": []
   },
   "outputs": [],
   "source": [
    "train_images = mnist.train_images()\n",
    "train_labels = mnist.train_labels()"
   ]
  },
  {
   "cell_type": "code",
   "execution_count": 6,
   "id": "dceab3a5",
   "metadata": {
    "execution": {
     "iopub.execute_input": "2021-11-22T20:09:25.153562Z",
     "iopub.status.busy": "2021-11-22T20:09:25.151674Z",
     "iopub.status.idle": "2021-11-22T20:09:25.163975Z",
     "shell.execute_reply": "2021-11-22T20:09:25.164518Z"
    },
    "papermill": {
     "duration": 0.058803,
     "end_time": "2021-11-22T20:09:25.164720",
     "exception": false,
     "start_time": "2021-11-22T20:09:25.105917",
     "status": "completed"
    },
    "tags": []
   },
   "outputs": [
    {
     "data": {
      "text/plain": [
       "((60000, 28, 28), (60000,))"
      ]
     },
     "execution_count": 6,
     "metadata": {},
     "output_type": "execute_result"
    }
   ],
   "source": [
    "train_images.shape, train_labels.shape"
   ]
  },
  {
   "cell_type": "code",
   "execution_count": 7,
   "id": "f50dc2bb",
   "metadata": {
    "execution": {
     "iopub.execute_input": "2021-11-22T20:09:25.251513Z",
     "iopub.status.busy": "2021-11-22T20:09:25.249765Z",
     "iopub.status.idle": "2021-11-22T20:09:25.504155Z",
     "shell.execute_reply": "2021-11-22T20:09:25.503535Z"
    },
    "papermill": {
     "duration": 0.307301,
     "end_time": "2021-11-22T20:09:25.504331",
     "exception": false,
     "start_time": "2021-11-22T20:09:25.197030",
     "status": "completed"
    },
    "tags": []
   },
   "outputs": [],
   "source": [
    "test_images = mnist.test_images()\n",
    "test_labels = mnist.test_labels()"
   ]
  },
  {
   "cell_type": "code",
   "execution_count": 8,
   "id": "fc38cf1b",
   "metadata": {
    "execution": {
     "iopub.execute_input": "2021-11-22T20:09:25.583019Z",
     "iopub.status.busy": "2021-11-22T20:09:25.582337Z",
     "iopub.status.idle": "2021-11-22T20:09:25.593562Z",
     "shell.execute_reply": "2021-11-22T20:09:25.593046Z"
    },
    "papermill": {
     "duration": 0.054238,
     "end_time": "2021-11-22T20:09:25.593686",
     "exception": false,
     "start_time": "2021-11-22T20:09:25.539448",
     "status": "completed"
    },
    "tags": []
   },
   "outputs": [
    {
     "data": {
      "text/plain": [
       "((10000, 28, 28), (10000,))"
      ]
     },
     "execution_count": 8,
     "metadata": {},
     "output_type": "execute_result"
    }
   ],
   "source": [
    "test_images.shape, test_labels.shape"
   ]
  },
  {
   "cell_type": "code",
   "execution_count": 9,
   "id": "f9ed8fe0",
   "metadata": {
    "execution": {
     "iopub.execute_input": "2021-11-22T20:09:25.697651Z",
     "iopub.status.busy": "2021-11-22T20:09:25.677562Z",
     "iopub.status.idle": "2021-11-22T20:09:25.853753Z",
     "shell.execute_reply": "2021-11-22T20:09:25.853193Z"
    },
    "papermill": {
     "duration": 0.226782,
     "end_time": "2021-11-22T20:09:25.853945",
     "exception": false,
     "start_time": "2021-11-22T20:09:25.627163",
     "status": "completed"
    },
    "tags": []
   },
   "outputs": [
    {
     "name": "stdout",
     "output_type": "stream",
     "text": [
      "2\n"
     ]
    },
    {
     "data": {
      "text/plain": [
       "<matplotlib.image.AxesImage at 0x7f07b5df0278>"
      ]
     },
     "execution_count": 9,
     "metadata": {},
     "output_type": "execute_result"
    },
    {
     "data": {
      "image/png": "[encoded data removed]",
      "text/plain": [
       "<Figure size 432x288 with 1 Axes>"
      ]
     },
     "metadata": {
      "needs_background": "light"
     },
     "output_type": "display_data"
    }
   ],
   "source": [
    "image_index = 7776 # You may select anything up to 60,000\n",
    "print(train_labels[image_index]) \n",
    "plt.imshow(train_images[image_index], cmap='Greys')"
   ]
  },
  {
   "cell_type": "markdown",
   "id": "a8d2388d",
   "metadata": {
    "papermill": {
     "duration": 0.034682,
     "end_time": "2021-11-22T20:09:25.924137",
     "exception": false,
     "start_time": "2021-11-22T20:09:25.889455",
     "status": "completed"
    },
    "tags": []
   },
   "source": [
    "## Filter data to get 3 and 8 out"
   ]
  },
  {
   "cell_type": "code",
   "execution_count": 10,
   "id": "776f7fc7",
   "metadata": {
    "execution": {
     "iopub.execute_input": "2021-11-22T20:09:26.002998Z",
     "iopub.status.busy": "2021-11-22T20:09:25.997338Z",
     "iopub.status.idle": "2021-11-22T20:09:26.021808Z",
     "shell.execute_reply": "2021-11-22T20:09:26.021053Z"
    },
    "papermill": {
     "duration": 0.06351,
     "end_time": "2021-11-22T20:09:26.021973",
     "exception": false,
     "start_time": "2021-11-22T20:09:25.958463",
     "status": "completed"
    },
    "tags": []
   },
   "outputs": [],
   "source": [
    "train_filter = np.where((train_labels == 3 ) | (train_labels == 8))\n",
    "test_filter = np.where((test_labels == 3) | (test_labels == 8))\n",
    "X_train, y_train = train_images[train_filter], train_labels[train_filter]\n",
    "X_test, y_test = test_images[test_filter], test_labels[test_filter]"
   ]
  },
  {
   "cell_type": "markdown",
   "id": "948f0b7e",
   "metadata": {
    "papermill": {
     "duration": 0.035339,
     "end_time": "2021-11-22T20:09:26.092293",
     "exception": false,
     "start_time": "2021-11-22T20:09:26.056954",
     "status": "completed"
    },
    "tags": []
   },
   "source": [
    "We normalize the pizel values in the 0 to 1 range"
   ]
  },
  {
   "cell_type": "code",
   "execution_count": 11,
   "id": "ee4c2166",
   "metadata": {
    "execution": {
     "iopub.execute_input": "2021-11-22T20:09:26.174560Z",
     "iopub.status.busy": "2021-11-22T20:09:26.173542Z",
     "iopub.status.idle": "2021-11-22T20:09:26.235955Z",
     "shell.execute_reply": "2021-11-22T20:09:26.235306Z"
    },
    "papermill": {
     "duration": 0.105388,
     "end_time": "2021-11-22T20:09:26.236110",
     "exception": false,
     "start_time": "2021-11-22T20:09:26.130722",
     "status": "completed"
    },
    "tags": []
   },
   "outputs": [],
   "source": [
    "X_train = X_train/255.\n",
    "X_test = X_test/255."
   ]
  },
  {
   "cell_type": "markdown",
   "id": "ddcf4fab",
   "metadata": {
    "papermill": {
     "duration": 0.03425,
     "end_time": "2021-11-22T20:09:26.305078",
     "exception": false,
     "start_time": "2021-11-22T20:09:26.270828",
     "status": "completed"
    },
    "tags": []
   },
   "source": [
    "And setup the labels as 1 (when the digit is 3) and 0 (when the digit is 8)"
   ]
  },
  {
   "cell_type": "code",
   "execution_count": 12,
   "id": "7dc908f2",
   "metadata": {
    "execution": {
     "iopub.execute_input": "2021-11-22T20:09:26.385786Z",
     "iopub.status.busy": "2021-11-22T20:09:26.385080Z",
     "iopub.status.idle": "2021-11-22T20:09:26.398216Z",
     "shell.execute_reply": "2021-11-22T20:09:26.397626Z"
    },
    "papermill": {
     "duration": 0.053787,
     "end_time": "2021-11-22T20:09:26.398361",
     "exception": false,
     "start_time": "2021-11-22T20:09:26.344574",
     "status": "completed"
    },
    "tags": []
   },
   "outputs": [],
   "source": [
    "y_train = 1*(y_train==3)\n",
    "y_test = 1*(y_test==3)"
   ]
  },
  {
   "cell_type": "code",
   "execution_count": 13,
   "id": "01e4e969",
   "metadata": {
    "execution": {
     "iopub.execute_input": "2021-11-22T20:09:26.476943Z",
     "iopub.status.busy": "2021-11-22T20:09:26.476223Z",
     "iopub.status.idle": "2021-11-22T20:09:26.489049Z",
     "shell.execute_reply": "2021-11-22T20:09:26.489614Z"
    },
    "papermill": {
     "duration": 0.056686,
     "end_time": "2021-11-22T20:09:26.489772",
     "exception": false,
     "start_time": "2021-11-22T20:09:26.433086",
     "status": "completed"
    },
    "tags": []
   },
   "outputs": [
    {
     "data": {
      "text/plain": [
       "((11982, 28, 28), (1984, 28, 28))"
      ]
     },
     "execution_count": 13,
     "metadata": {},
     "output_type": "execute_result"
    }
   ],
   "source": [
    "X_train.shape, X_test.shape"
   ]
  },
  {
   "cell_type": "markdown",
   "id": "5ccf3f85",
   "metadata": {
    "papermill": {
     "duration": 0.035496,
     "end_time": "2021-11-22T20:09:26.560195",
     "exception": false,
     "start_time": "2021-11-22T20:09:26.524699",
     "status": "completed"
    },
    "tags": []
   },
   "source": [
    "We reshape the data to flatten the image pixels into a set of features or co-variates:"
   ]
  },
  {
   "cell_type": "code",
   "execution_count": 14,
   "id": "5286a4a3",
   "metadata": {
    "execution": {
     "iopub.execute_input": "2021-11-22T20:09:26.639795Z",
     "iopub.status.busy": "2021-11-22T20:09:26.639120Z",
     "iopub.status.idle": "2021-11-22T20:09:26.653730Z",
     "shell.execute_reply": "2021-11-22T20:09:26.653186Z"
    },
    "papermill": {
     "duration": 0.056895,
     "end_time": "2021-11-22T20:09:26.653873",
     "exception": false,
     "start_time": "2021-11-22T20:09:26.596978",
     "status": "completed"
    },
    "tags": []
   },
   "outputs": [
    {
     "data": {
      "text/plain": [
       "((11982, 784), (1984, 784))"
      ]
     },
     "execution_count": 14,
     "metadata": {},
     "output_type": "execute_result"
    }
   ],
   "source": [
    "X_train = X_train.reshape(X_train.shape[0], -1)\n",
    "X_test = X_test.reshape(X_test.shape[0], -1)\n",
    "X_train.shape, X_test.shape"
   ]
  },
  {
   "cell_type": "code",
   "execution_count": 15,
   "id": "73c5f88a",
   "metadata": {
    "execution": {
     "iopub.execute_input": "2021-11-22T20:09:26.751715Z",
     "iopub.status.busy": "2021-11-22T20:09:26.743602Z",
     "iopub.status.idle": "2021-11-22T20:09:26.763438Z",
     "shell.execute_reply": "2021-11-22T20:09:26.762818Z"
    },
    "papermill": {
     "duration": 0.066314,
     "end_time": "2021-11-22T20:09:26.763599",
     "exception": false,
     "start_time": "2021-11-22T20:09:26.697285",
     "status": "completed"
    },
    "tags": []
   },
   "outputs": [],
   "source": [
    "#Impoting functions from 'Kudzu'\n",
    "from kudzu.model import Model\n",
    "from kudzu.train import Learner\n",
    "from kudzu.optim import GD\n",
    "from kudzu.data import Data, Sampler,Dataloader\n",
    "\n",
    "from kudzu.callbacks import AccCallback\n",
    "from kudzu.callbacks import ClfCallback\n",
    "\n",
    "from kudzu.loss import MSE\n",
    "\n",
    "from kudzu.layer import Sigmoid,Relu\n",
    "from kudzu.layer import Affine"
   ]
  },
  {
   "cell_type": "markdown",
   "id": "bc01172a",
   "metadata": {
    "papermill": {
     "duration": 0.036258,
     "end_time": "2021-11-22T20:09:26.835215",
     "exception": false,
     "start_time": "2021-11-22T20:09:26.798957",
     "status": "completed"
    },
    "tags": []
   },
   "source": [
    "### Let us create a `Config` class, to store important parameters. \n",
    "This class essentially plays the role of a dictionary."
   ]
  },
  {
   "cell_type": "code",
   "execution_count": 16,
   "id": "978281aa",
   "metadata": {
    "execution": {
     "iopub.execute_input": "2021-11-22T20:09:26.912831Z",
     "iopub.status.busy": "2021-11-22T20:09:26.912042Z",
     "iopub.status.idle": "2021-11-22T20:09:26.925255Z",
     "shell.execute_reply": "2021-11-22T20:09:26.925785Z"
    },
    "papermill": {
     "duration": 0.054524,
     "end_time": "2021-11-22T20:09:26.925973",
     "exception": false,
     "start_time": "2021-11-22T20:09:26.871449",
     "status": "completed"
    },
    "tags": []
   },
   "outputs": [],
   "source": [
    "class Config:\n",
    "    pass\n",
    "config = Config()\n",
    "config.lr = 0.001\n",
    "config.num_epochs = 250\n",
    "config.bs = 50"
   ]
  },
  {
   "cell_type": "markdown",
   "id": "1385fa59",
   "metadata": {
    "papermill": {
     "duration": 0.034973,
     "end_time": "2021-11-22T20:09:26.996380",
     "exception": false,
     "start_time": "2021-11-22T20:09:26.961407",
     "status": "completed"
    },
    "tags": []
   },
   "source": [
    "### Running Models with the Training data\n",
    "Details about the network layers:\n",
    "- A first affine layer has 784 inputs and does 100 affine transforms. These are followed by a Relu\n",
    "- A second affine layer has 100 inputs from the 100 activations of the past layer, and does 100 affine transforms. These are followed by a Relu\n",
    "- A third affine layer has 100 activations and does 2 affine transformations to create an embedding for visualization. There is no non-linearity here.\n",
    "- A final \"logistic regression\" which has an affine transform from 2 inputs to 1 output, which is squeezed through a sigmoid.\n"
   ]
  },
  {
   "cell_type": "code",
   "execution_count": 17,
   "id": "2b9c66db",
   "metadata": {
    "execution": {
     "iopub.execute_input": "2021-11-22T20:09:27.086726Z",
     "iopub.status.busy": "2021-11-22T20:09:27.082153Z",
     "iopub.status.idle": "2021-11-22T20:09:27.089081Z",
     "shell.execute_reply": "2021-11-22T20:09:27.089618Z"
    },
    "papermill": {
     "duration": 0.057217,
     "end_time": "2021-11-22T20:09:27.089768",
     "exception": false,
     "start_time": "2021-11-22T20:09:27.032551",
     "status": "completed"
    },
    "tags": []
   },
   "outputs": [],
   "source": [
    "data = Data(X_train, y_train.reshape(-1,1))\n",
    "sampler = Sampler(data, config.bs, shuffle=True)\n",
    "\n",
    "dl = Dataloader(data, sampler)\n",
    "\n",
    "opt = GD(config.lr)\n",
    "loss = MSE()"
   ]
  },
  {
   "cell_type": "code",
   "execution_count": 18,
   "id": "b275e4c2",
   "metadata": {
    "execution": {
     "iopub.execute_input": "2021-11-22T20:09:27.165839Z",
     "iopub.status.busy": "2021-11-22T20:09:27.163168Z",
     "iopub.status.idle": "2021-11-22T20:09:27.179777Z",
     "shell.execute_reply": "2021-11-22T20:09:27.179210Z"
    },
    "papermill": {
     "duration": 0.055321,
     "end_time": "2021-11-22T20:09:27.179936",
     "exception": false,
     "start_time": "2021-11-22T20:09:27.124615",
     "status": "completed"
    },
    "tags": []
   },
   "outputs": [],
   "source": [
    "training_data_x = X_train\n",
    "testing_data_x = X_test\n",
    "training_data_y = y_train.reshape(-1,1)\n",
    "testing_data_y = y_test.reshape(-1,1)"
   ]
  },
  {
   "cell_type": "code",
   "execution_count": 19,
   "id": "76951160",
   "metadata": {
    "execution": {
     "iopub.execute_input": "2021-11-22T20:09:27.260547Z",
     "iopub.status.busy": "2021-11-22T20:09:27.259865Z",
     "iopub.status.idle": "2021-11-22T20:09:27.277569Z",
     "shell.execute_reply": "2021-11-22T20:09:27.276915Z"
    },
    "papermill": {
     "duration": 0.060698,
     "end_time": "2021-11-22T20:09:27.277700",
     "exception": false,
     "start_time": "2021-11-22T20:09:27.217002",
     "status": "completed"
    },
    "tags": []
   },
   "outputs": [
    {
     "name": "stdout",
     "output_type": "stream",
     "text": [
      "xavier\n",
      "xavier\n",
      "xavier\n",
      "xavier\n",
      "xavier\n"
     ]
    }
   ],
   "source": [
    "layers = [Affine(\"first\", 784, 100), Relu(\"first\"), Affine(\"second\", 100, 100), Relu(\"second\"), Affine(\"third\", 100, 2), Affine(\"last\", 2, 1), Sigmoid(\"last\")]\n",
    "model_nn = Model(layers)\n",
    "model_lr = Model([Affine(\"logits\", 784, 1), Sigmoid(\"sigmoid\")])"
   ]
  },
  {
   "cell_type": "code",
   "execution_count": 20,
   "id": "6eede77a",
   "metadata": {
    "execution": {
     "iopub.execute_input": "2021-11-22T20:09:27.354712Z",
     "iopub.status.busy": "2021-11-22T20:09:27.354034Z",
     "iopub.status.idle": "2021-11-22T20:09:27.366635Z",
     "shell.execute_reply": "2021-11-22T20:09:27.366056Z"
    },
    "papermill": {
     "duration": 0.053113,
     "end_time": "2021-11-22T20:09:27.366764",
     "exception": false,
     "start_time": "2021-11-22T20:09:27.313651",
     "status": "completed"
    },
    "tags": []
   },
   "outputs": [],
   "source": [
    "nn_learner = Learner(loss, model_nn, opt, config.num_epochs)\n",
    "acc_nn = ClfCallback(nn_learner, config.bs, training_data_x , testing_data_x, training_data_y, testing_data_y)\n",
    "nn_learner.set_callbacks([acc_nn])"
   ]
  },
  {
   "cell_type": "code",
   "execution_count": 21,
   "id": "877b6cc7",
   "metadata": {
    "execution": {
     "iopub.execute_input": "2021-11-22T20:09:27.442074Z",
     "iopub.status.busy": "2021-11-22T20:09:27.441352Z",
     "iopub.status.idle": "2021-11-22T20:09:27.455092Z",
     "shell.execute_reply": "2021-11-22T20:09:27.454568Z"
    },
    "papermill": {
     "duration": 0.053226,
     "end_time": "2021-11-22T20:09:27.455209",
     "exception": false,
     "start_time": "2021-11-22T20:09:27.401983",
     "status": "completed"
    },
    "tags": []
   },
   "outputs": [],
   "source": [
    "lr_learner = Learner(loss, model_lr, opt, config.num_epochs)\n",
    "acc_lr = ClfCallback(lr_learner, config.bs, training_data_x , testing_data_x, training_data_y, testing_data_y)\n",
    "lr_learner.set_callbacks([acc_lr])"
   ]
  },
  {
   "cell_type": "code",
   "execution_count": 22,
   "id": "d9b133c3",
   "metadata": {
    "execution": {
     "iopub.execute_input": "2021-11-22T20:09:27.537402Z",
     "iopub.status.busy": "2021-11-22T20:09:27.536734Z",
     "iopub.status.idle": "2021-11-22T20:11:34.957429Z",
     "shell.execute_reply": "2021-11-22T20:11:34.958515Z"
    },
    "papermill": {
     "duration": 127.469388,
     "end_time": "2021-11-22T20:11:34.958696",
     "exception": false,
     "start_time": "2021-11-22T20:09:27.489308",
     "status": "completed"
    },
    "tags": []
   },
   "outputs": [
    {
     "name": "stdout",
     "output_type": "stream",
     "text": [
      "Epoch 0, Loss 0.2621\n",
      "Training Accuracy: 0.5508, Testing Accuracy: 0.5625\n",
      "\n"
     ]
    },
    {
     "name": "stdout",
     "output_type": "stream",
     "text": [
      "Epoch 10, Loss 0.1019\n",
      "Training Accuracy: 0.9034, Testing Accuracy: 0.9163\n",
      "\n"
     ]
    },
    {
     "name": "stdout",
     "output_type": "stream",
     "text": [
      "Epoch 20, Loss 0.0613\n",
      "Training Accuracy: 0.9346, Testing Accuracy: 0.9461\n",
      "\n"
     ]
    },
    {
     "name": "stdout",
     "output_type": "stream",
     "text": [
      "Epoch 30, Loss 0.0471\n",
      "Training Accuracy: 0.9474, Testing Accuracy: 0.9582\n",
      "\n"
     ]
    },
    {
     "name": "stdout",
     "output_type": "stream",
     "text": [
      "Epoch 40, Loss 0.0402\n",
      "Training Accuracy: 0.9555, Testing Accuracy: 0.9647\n",
      "\n"
     ]
    },
    {
     "name": "stdout",
     "output_type": "stream",
     "text": [
      "Epoch 50, Loss 0.036\n",
      "Training Accuracy: 0.9586, Testing Accuracy: 0.9672\n",
      "\n"
     ]
    },
    {
     "name": "stdout",
     "output_type": "stream",
     "text": [
      "Epoch 60, Loss 0.0332\n",
      "Training Accuracy: 0.9629, Testing Accuracy: 0.9688\n",
      "\n"
     ]
    },
    {
     "name": "stdout",
     "output_type": "stream",
     "text": [
      "Epoch 70, Loss 0.0311\n",
      "Training Accuracy: 0.9650, Testing Accuracy: 0.9698\n",
      "\n"
     ]
    },
    {
     "name": "stdout",
     "output_type": "stream",
     "text": [
      "Epoch 80, Loss 0.0295\n",
      "Training Accuracy: 0.9668, Testing Accuracy: 0.9698\n",
      "\n"
     ]
    },
    {
     "name": "stdout",
     "output_type": "stream",
     "text": [
      "Epoch 90, Loss 0.0282\n",
      "Training Accuracy: 0.9685, Testing Accuracy: 0.9703\n",
      "\n"
     ]
    },
    {
     "name": "stdout",
     "output_type": "stream",
     "text": [
      "Epoch 100, Loss 0.0271\n",
      "Training Accuracy: 0.9696, Testing Accuracy: 0.9713\n",
      "\n"
     ]
    },
    {
     "name": "stdout",
     "output_type": "stream",
     "text": [
      "Epoch 110, Loss 0.0261\n",
      "Training Accuracy: 0.9703, Testing Accuracy: 0.9708\n",
      "\n"
     ]
    },
    {
     "name": "stdout",
     "output_type": "stream",
     "text": [
      "Epoch 120, Loss 0.0253\n",
      "Training Accuracy: 0.9708, Testing Accuracy: 0.9708\n",
      "\n"
     ]
    },
    {
     "name": "stdout",
     "output_type": "stream",
     "text": [
      "Epoch 130, Loss 0.0246\n",
      "Training Accuracy: 0.9718, Testing Accuracy: 0.9713\n",
      "\n"
     ]
    },
    {
     "name": "stdout",
     "output_type": "stream",
     "text": [
      "Epoch 140, Loss 0.0239\n",
      "Training Accuracy: 0.9724, Testing Accuracy: 0.9713\n",
      "\n"
     ]
    },
    {
     "name": "stdout",
     "output_type": "stream",
     "text": [
      "Epoch 150, Loss 0.0233\n",
      "Training Accuracy: 0.9730, Testing Accuracy: 0.9713\n",
      "\n"
     ]
    },
    {
     "name": "stdout",
     "output_type": "stream",
     "text": [
      "Epoch 160, Loss 0.0227\n",
      "Training Accuracy: 0.9736, Testing Accuracy: 0.9723\n",
      "\n"
     ]
    },
    {
     "name": "stdout",
     "output_type": "stream",
     "text": [
      "Epoch 170, Loss 0.0222\n",
      "Training Accuracy: 0.9749, Testing Accuracy: 0.9738\n",
      "\n"
     ]
    },
    {
     "name": "stdout",
     "output_type": "stream",
     "text": [
      "Epoch 180, Loss 0.0217\n",
      "Training Accuracy: 0.9754, Testing Accuracy: 0.9738\n",
      "\n"
     ]
    },
    {
     "name": "stdout",
     "output_type": "stream",
     "text": [
      "Epoch 190, Loss 0.0213\n",
      "Training Accuracy: 0.9762, Testing Accuracy: 0.9738\n",
      "\n"
     ]
    },
    {
     "name": "stdout",
     "output_type": "stream",
     "text": [
      "Epoch 200, Loss 0.0209\n",
      "Training Accuracy: 0.9764, Testing Accuracy: 0.9738\n",
      "\n"
     ]
    },
    {
     "name": "stdout",
     "output_type": "stream",
     "text": [
      "Epoch 210, Loss 0.0204\n",
      "Training Accuracy: 0.9770, Testing Accuracy: 0.9743\n",
      "\n"
     ]
    },
    {
     "name": "stdout",
     "output_type": "stream",
     "text": [
      "Epoch 220, Loss 0.0201\n",
      "Training Accuracy: 0.9770, Testing Accuracy: 0.9743\n",
      "\n"
     ]
    },
    {
     "name": "stdout",
     "output_type": "stream",
     "text": [
      "Epoch 230, Loss 0.0197\n",
      "Training Accuracy: 0.9777, Testing Accuracy: 0.9743\n",
      "\n"
     ]
    },
    {
     "name": "stdout",
     "output_type": "stream",
     "text": [
      "Epoch 240, Loss 0.0193\n",
      "Training Accuracy: 0.9781, Testing Accuracy: 0.9743\n",
      "\n"
     ]
    },
    {
     "data": {
      "text/plain": [
       "0.0007595915957389172"
      ]
     },
     "execution_count": 22,
     "metadata": {},
     "output_type": "execute_result"
    }
   ],
   "source": [
    "nn_learner.train_loop(dl)"
   ]
  },
  {
   "cell_type": "code",
   "execution_count": 23,
   "id": "e0163366",
   "metadata": {
    "execution": {
     "iopub.execute_input": "2021-11-22T20:11:35.062385Z",
     "iopub.status.busy": "2021-11-22T20:11:35.061693Z",
     "iopub.status.idle": "2021-11-22T20:11:53.854037Z",
     "shell.execute_reply": "2021-11-22T20:11:53.854974Z"
    },
    "papermill": {
     "duration": 18.852358,
     "end_time": "2021-11-22T20:11:53.855144",
     "exception": false,
     "start_time": "2021-11-22T20:11:35.002786",
     "status": "completed"
    },
    "tags": []
   },
   "outputs": [
    {
     "name": "stdout",
     "output_type": "stream",
     "text": [
      "Epoch 0, Loss 0.2042\n",
      "Training Accuracy: 0.8078, Testing Accuracy: 0.8382\n",
      "\n"
     ]
    },
    {
     "name": "stdout",
     "output_type": "stream",
     "text": [
      "Epoch 10, Loss 0.0979\n",
      "Training Accuracy: 0.9148, Testing Accuracy: 0.9299\n",
      "\n"
     ]
    },
    {
     "name": "stdout",
     "output_type": "stream",
     "text": [
      "Epoch 20, Loss 0.0773\n",
      "Training Accuracy: 0.9288, Testing Accuracy: 0.9415\n",
      "\n"
     ]
    },
    {
     "name": "stdout",
     "output_type": "stream",
     "text": [
      "Epoch 30, Loss 0.0672\n",
      "Training Accuracy: 0.9359, Testing Accuracy: 0.9471\n",
      "\n"
     ]
    },
    {
     "name": "stdout",
     "output_type": "stream",
     "text": [
      "Epoch 40, Loss 0.061\n",
      "Training Accuracy: 0.9408, Testing Accuracy: 0.9526\n",
      "\n"
     ]
    },
    {
     "name": "stdout",
     "output_type": "stream",
     "text": [
      "Epoch 50, Loss 0.0567\n",
      "Training Accuracy: 0.9450, Testing Accuracy: 0.9567\n",
      "\n"
     ]
    },
    {
     "name": "stdout",
     "output_type": "stream",
     "text": [
      "Epoch 60, Loss 0.0535\n",
      "Training Accuracy: 0.9477, Testing Accuracy: 0.9577\n",
      "\n"
     ]
    },
    {
     "name": "stdout",
     "output_type": "stream",
     "text": [
      "Epoch 70, Loss 0.051\n",
      "Training Accuracy: 0.9490, Testing Accuracy: 0.9587\n",
      "\n"
     ]
    },
    {
     "name": "stdout",
     "output_type": "stream",
     "text": [
      "Epoch 80, Loss 0.049\n",
      "Training Accuracy: 0.9508, Testing Accuracy: 0.9607\n",
      "\n"
     ]
    },
    {
     "name": "stdout",
     "output_type": "stream",
     "text": [
      "Epoch 90, Loss 0.0474\n",
      "Training Accuracy: 0.9528, Testing Accuracy: 0.9607\n",
      "\n"
     ]
    },
    {
     "name": "stdout",
     "output_type": "stream",
     "text": [
      "Epoch 100, Loss 0.046\n",
      "Training Accuracy: 0.9543, Testing Accuracy: 0.9612\n",
      "\n"
     ]
    },
    {
     "name": "stdout",
     "output_type": "stream",
     "text": [
      "Epoch 110, Loss 0.0448\n",
      "Training Accuracy: 0.9555, Testing Accuracy: 0.9617\n",
      "\n"
     ]
    },
    {
     "name": "stdout",
     "output_type": "stream",
     "text": [
      "Epoch 120, Loss 0.0437\n",
      "Training Accuracy: 0.9561, Testing Accuracy: 0.9632\n",
      "\n"
     ]
    },
    {
     "name": "stdout",
     "output_type": "stream",
     "text": [
      "Epoch 130, Loss 0.0428\n",
      "Training Accuracy: 0.9574, Testing Accuracy: 0.9642\n",
      "\n"
     ]
    },
    {
     "name": "stdout",
     "output_type": "stream",
     "text": [
      "Epoch 140, Loss 0.042\n",
      "Training Accuracy: 0.9579, Testing Accuracy: 0.9647\n",
      "\n"
     ]
    },
    {
     "name": "stdout",
     "output_type": "stream",
     "text": [
      "Epoch 150, Loss 0.0412\n",
      "Training Accuracy: 0.9581, Testing Accuracy: 0.9662\n",
      "\n"
     ]
    },
    {
     "name": "stdout",
     "output_type": "stream",
     "text": [
      "Epoch 160, Loss 0.0406\n",
      "Training Accuracy: 0.9585, Testing Accuracy: 0.9667\n",
      "\n"
     ]
    },
    {
     "name": "stdout",
     "output_type": "stream",
     "text": [
      "Epoch 170, Loss 0.04\n",
      "Training Accuracy: 0.9593, Testing Accuracy: 0.9677\n",
      "\n"
     ]
    },
    {
     "name": "stdout",
     "output_type": "stream",
     "text": [
      "Epoch 180, Loss 0.0394\n",
      "Training Accuracy: 0.9598, Testing Accuracy: 0.9677\n",
      "\n"
     ]
    },
    {
     "name": "stdout",
     "output_type": "stream",
     "text": [
      "Epoch 190, Loss 0.0389\n",
      "Training Accuracy: 0.9601, Testing Accuracy: 0.9677\n",
      "\n"
     ]
    },
    {
     "name": "stdout",
     "output_type": "stream",
     "text": [
      "Epoch 200, Loss 0.0384\n",
      "Training Accuracy: 0.9604, Testing Accuracy: 0.9688\n",
      "\n"
     ]
    },
    {
     "name": "stdout",
     "output_type": "stream",
     "text": [
      "Epoch 210, Loss 0.038\n",
      "Training Accuracy: 0.9604, Testing Accuracy: 0.9688\n",
      "\n"
     ]
    },
    {
     "name": "stdout",
     "output_type": "stream",
     "text": [
      "Epoch 220, Loss 0.0376\n",
      "Training Accuracy: 0.9607, Testing Accuracy: 0.9693\n",
      "\n"
     ]
    },
    {
     "name": "stdout",
     "output_type": "stream",
     "text": [
      "Epoch 230, Loss 0.0372\n",
      "Training Accuracy: 0.9613, Testing Accuracy: 0.9693\n",
      "\n"
     ]
    },
    {
     "name": "stdout",
     "output_type": "stream",
     "text": [
      "Epoch 240, Loss 0.0368\n",
      "Training Accuracy: 0.9614, Testing Accuracy: 0.9693\n",
      "\n"
     ]
    },
    {
     "data": {
      "text/plain": [
       "0.017055793919950143"
      ]
     },
     "execution_count": 23,
     "metadata": {},
     "output_type": "execute_result"
    }
   ],
   "source": [
    "lr_learner.train_loop(dl)"
   ]
  },
  {
   "cell_type": "code",
   "execution_count": 24,
   "id": "ca410940",
   "metadata": {
    "execution": {
     "iopub.execute_input": "2021-11-22T20:11:53.985308Z",
     "iopub.status.busy": "2021-11-22T20:11:53.984580Z",
     "iopub.status.idle": "2021-11-22T20:11:54.278464Z",
     "shell.execute_reply": "2021-11-22T20:11:54.277867Z"
    },
    "papermill": {
     "duration": 0.35369,
     "end_time": "2021-11-22T20:11:54.278612",
     "exception": false,
     "start_time": "2021-11-22T20:11:53.924922",
     "status": "completed"
    },
    "tags": []
   },
   "outputs": [
    {
     "data": {
      "text/plain": [
       "<matplotlib.legend.Legend at 0x7f07b5951908>"
      ]
     },
     "execution_count": 24,
     "metadata": {},
     "output_type": "execute_result"
    },
    {
     "data": {
      "image/png": "[encoded data removed]",
      "text/plain": [
       "<Figure size 1080x720 with 1 Axes>"
      ]
     },
     "metadata": {
      "needs_background": "light"
     },
     "output_type": "display_data"
    }
   ],
   "source": [
    "#comparing the results of NN and LR\n",
    "plt.figure(figsize=(15,10))\n",
    "\n",
    "# Neural Network plots\n",
    "plt.plot(acc_nn.accuracies, 'r-', label = \"Training Accuracies - NN\")\n",
    "plt.plot(acc_nn.test_accuracies, 'g-', label = \"Testing Accuracies - NN\")\n",
    "\n",
    "# Logistic Regression plots\n",
    "plt.plot(acc_lr.accuracies, 'k-', label = \"Training Accuracies - LR\")\n",
    "plt.plot(acc_lr.test_accuracies, 'b-', label = \"Testing Accuracies - LR\")\n",
    "plt.legend()"
   ]
  },
  {
   "cell_type": "markdown",
   "id": "80dfb35c",
   "metadata": {
    "papermill": {
     "duration": 0.057202,
     "end_time": "2021-11-22T20:11:54.397544",
     "exception": false,
     "start_time": "2021-11-22T20:11:54.340342",
     "status": "completed"
    },
    "tags": []
   },
   "source": [
    "#### Plotting the outputs of this layer of the NN.\n"
   ]
  },
  {
   "cell_type": "code",
   "execution_count": 25,
   "id": "45eb2ff5",
   "metadata": {
    "execution": {
     "iopub.execute_input": "2021-11-22T20:11:54.514064Z",
     "iopub.status.busy": "2021-11-22T20:11:54.513369Z",
     "iopub.status.idle": "2021-11-22T20:11:54.538997Z",
     "shell.execute_reply": "2021-11-22T20:11:54.538398Z"
    },
    "papermill": {
     "duration": 0.086171,
     "end_time": "2021-11-22T20:11:54.539151",
     "exception": false,
     "start_time": "2021-11-22T20:11:54.452980",
     "status": "completed"
    },
    "tags": []
   },
   "outputs": [],
   "source": [
    "new_model = Model(layers[:-2])\n",
    "testing_plot = new_model(testing_data_x)"
   ]
  },
  {
   "cell_type": "code",
   "execution_count": 26,
   "id": "4c0a5485",
   "metadata": {
    "execution": {
     "iopub.execute_input": "2021-11-22T20:11:54.658072Z",
     "iopub.status.busy": "2021-11-22T20:11:54.657390Z",
     "iopub.status.idle": "2021-11-22T20:11:54.920406Z",
     "shell.execute_reply": "2021-11-22T20:11:54.921040Z"
    },
    "papermill": {
     "duration": 0.3258,
     "end_time": "2021-11-22T20:11:54.921221",
     "exception": false,
     "start_time": "2021-11-22T20:11:54.595421",
     "status": "completed"
    },
    "tags": []
   },
   "outputs": [
    {
     "data": {
      "text/plain": [
       "Text(0.5, 1.0, 'Outputs')"
      ]
     },
     "execution_count": 26,
     "metadata": {},
     "output_type": "execute_result"
    },
    {
     "data": {
      "image/png": "[encoded data removed]",
      "text/plain": [
       "<Figure size 576x504 with 1 Axes>"
      ]
     },
     "metadata": {
      "needs_background": "light"
     },
     "output_type": "display_data"
    }
   ],
   "source": [
    "# Plotting the scatter plot of points and color coding by class\n",
    "plt.figure(figsize=(8,7))\n",
    "plt.scatter(testing_plot[:,0], testing_plot[:,1], alpha = 0.1, c = y_test.ravel());\n",
    "plt.title('Outputs')"
   ]
  },
  {
   "cell_type": "markdown",
   "id": "a74fcf8f",
   "metadata": {
    "papermill": {
     "duration": 0.059014,
     "end_time": "2021-11-22T20:11:55.060745",
     "exception": false,
     "start_time": "2021-11-22T20:11:55.001731",
     "status": "completed"
    },
    "tags": []
   },
   "source": [
    "Probability contours"
   ]
  },
  {
   "cell_type": "code",
   "execution_count": 27,
   "id": "d0afc8e3",
   "metadata": {
    "execution": {
     "iopub.execute_input": "2021-11-22T20:11:55.246213Z",
     "iopub.status.busy": "2021-11-22T20:11:55.242057Z",
     "iopub.status.idle": "2021-11-22T20:11:55.258113Z",
     "shell.execute_reply": "2021-11-22T20:11:55.258631Z"
    },
    "papermill": {
     "duration": 0.101537,
     "end_time": "2021-11-22T20:11:55.258807",
     "exception": false,
     "start_time": "2021-11-22T20:11:55.157270",
     "status": "completed"
    },
    "tags": []
   },
   "outputs": [],
   "source": [
    "model_prob = Model(layers[-2:]) "
   ]
  },
  {
   "cell_type": "code",
   "execution_count": 28,
   "id": "9b96e238",
   "metadata": {
    "execution": {
     "iopub.execute_input": "2021-11-22T20:11:55.394785Z",
     "iopub.status.busy": "2021-11-22T20:11:55.394009Z",
     "iopub.status.idle": "2021-11-22T20:11:55.410252Z",
     "shell.execute_reply": "2021-11-22T20:11:55.410803Z"
    },
    "papermill": {
     "duration": 0.093054,
     "end_time": "2021-11-22T20:11:55.410966",
     "exception": false,
     "start_time": "2021-11-22T20:11:55.317912",
     "status": "completed"
    },
    "tags": []
   },
   "outputs": [],
   "source": [
    "#creating the x and y ranges according to the above generated plot.\n",
    "x_range = np.linspace(-4, 1, 100) \n",
    "y_range = np.linspace(-6, 6, 100) \n",
    "x_grid, y_grid = np.meshgrid(x_range, y_range) # x_grid and y_grig are of size 100 X 100\n",
    "\n",
    "# converting x_grid and y_grid to continuous arrays\n",
    "x_gridflat = np.ravel(x_grid)\n",
    "y_gridflat = np.ravel(y_grid)\n",
    "\n",
    "# The last layer of the current model takes two columns as input. Hence transpose of np.vstack() is required.\n",
    "X = np.vstack((x_gridflat, y_gridflat)).T\n",
    "\n",
    "prob_contour = model_prob(X).reshape(100,100) "
   ]
  },
  {
   "cell_type": "code",
   "execution_count": 29,
   "id": "da72499a",
   "metadata": {
    "execution": {
     "iopub.execute_input": "2021-11-22T20:11:55.545846Z",
     "iopub.status.busy": "2021-11-22T20:11:55.545159Z",
     "iopub.status.idle": "2021-11-22T20:11:55.873642Z",
     "shell.execute_reply": "2021-11-22T20:11:55.874368Z"
    },
    "papermill": {
     "duration": 0.401339,
     "end_time": "2021-11-22T20:11:55.874955",
     "exception": false,
     "start_time": "2021-11-22T20:11:55.473616",
     "status": "completed"
    },
    "tags": []
   },
   "outputs": [
    {
     "data": {
      "image/png": "[encoded data removed]",
      "text/plain": [
       "<Figure size 720x648 with 1 Axes>"
      ]
     },
     "metadata": {
      "needs_background": "light"
     },
     "output_type": "display_data"
    }
   ],
   "source": [
    "plt.figure(figsize=(10,9))\n",
    "plt.scatter(testing_plot[:,0], testing_plot[:,1], alpha = 0.1, c = y_test.ravel())\n",
    "contours = plt.contour(x_grid,y_grid,prob_contour)\n",
    "plt.title('Probability Contours')\n",
    "plt.clabel(contours, inline = True );"
   ]
  },
  {
   "cell_type": "code",
   "execution_count": null,
   "id": "e81b4ac7",
   "metadata": {
    "papermill": {
     "duration": 0.060154,
     "end_time": "2021-11-22T20:11:55.996500",
     "exception": false,
     "start_time": "2021-11-22T20:11:55.936346",
     "status": "completed"
    },
    "tags": []
   },
   "outputs": [],
   "source": []
  }
 ],
 "metadata": {
  "kernelspec": {
   "display_name": "Python 3",
   "language": "python",
   "name": "python3"
  },
  "language_info": {
   "codemirror_mode": {
    "name": "ipython",
    "version": 3
   },
   "file_extension": ".py",
   "mimetype": "text/x-python",
   "name": "python",
   "nbconvert_exporter": "python",
   "pygments_lexer": "ipython3",
   "version": "3.6.15"
  },
  "papermill": {
   "default_parameters": {},
   "duration": 157.688006,
   "end_time": "2021-11-22T20:11:56.466173",
   "environment_variables": {},
   "exception": null,
   "input_path": "2020-08-11-part2.ipynb",
   "output_path": "2020-08-11-part2.ipynb",
   "parameters": {},
   "start_time": "2021-11-22T20:09:18.778167",
   "version": "2.3.3"
  }
 },
 "nbformat": 4,
 "nbformat_minor": 5
}