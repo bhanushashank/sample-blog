{
 "cells": [
  {
   "cell_type": "markdown",
   "id": "98380cd3",
   "metadata": {
    "papermill": {
     "duration": 0.02907,
     "end_time": "2021-10-22T00:24:35.185659",
     "exception": false,
     "start_time": "2021-10-22T00:24:35.156589",
     "status": "completed"
    },
    "tags": []
   },
   "source": [
    "# Distinguish Your Own Digits (DYOD)"
   ]
  },
  {
   "cell_type": "markdown",
   "id": "ef31240d",
   "metadata": {
    "papermill": {
     "duration": 0.023835,
     "end_time": "2021-10-22T00:24:35.234479",
     "exception": false,
     "start_time": "2021-10-22T00:24:35.210644",
     "status": "completed"
    },
    "tags": []
   },
   "source": [
    "You are going to write a classifier that distinguishes between the number 3 and number 8."
   ]
  },
  {
   "cell_type": "code",
   "execution_count": 1,
   "id": "b15c8646",
   "metadata": {
    "execution": {
     "iopub.execute_input": "2021-10-22T00:24:35.295568Z",
     "iopub.status.busy": "2021-10-22T00:24:35.295024Z",
     "iopub.status.idle": "2021-10-22T00:24:35.305060Z",
     "shell.execute_reply": "2021-10-22T00:24:35.304625Z"
    },
    "papermill": {
     "duration": 0.045237,
     "end_time": "2021-10-22T00:24:35.305193",
     "exception": false,
     "start_time": "2021-10-22T00:24:35.259956",
     "status": "completed"
    },
    "tags": []
   },
   "outputs": [],
   "source": [
    "%load_ext autoreload\n",
    "%autoreload 2"
   ]
  },
  {
   "cell_type": "code",
   "execution_count": 2,
   "id": "22ef38dc",
   "metadata": {
    "execution": {
     "iopub.execute_input": "2021-10-22T00:24:35.357469Z",
     "iopub.status.busy": "2021-10-22T00:24:35.356920Z",
     "iopub.status.idle": "2021-10-22T00:24:35.831535Z",
     "shell.execute_reply": "2021-10-22T00:24:35.831046Z"
    },
    "papermill": {
     "duration": 0.502199,
     "end_time": "2021-10-22T00:24:35.831668",
     "exception": false,
     "start_time": "2021-10-22T00:24:35.329469",
     "status": "completed"
    },
    "tags": []
   },
   "outputs": [],
   "source": [
    "%matplotlib inline\n",
    "import numpy as np\n",
    "import matplotlib.pyplot as plt\n",
    "import pandas as pd"
   ]
  },
  {
   "cell_type": "markdown",
   "id": "ba036198",
   "metadata": {
    "papermill": {
     "duration": 0.023973,
     "end_time": "2021-10-22T00:24:35.879897",
     "exception": false,
     "start_time": "2021-10-22T00:24:35.855924",
     "status": "completed"
    },
    "tags": []
   },
   "source": [
    "From the command line run `pip install mnist`. This is a library that will help you bring down the mnist dataset. If you run this from a notebook, you need to put  `!pip install mnist` in a cell by itself."
   ]
  },
  {
   "cell_type": "code",
   "execution_count": 3,
   "id": "bb6ad8a1",
   "metadata": {
    "execution": {
     "iopub.execute_input": "2021-10-22T00:24:35.932590Z",
     "iopub.status.busy": "2021-10-22T00:24:35.932081Z",
     "iopub.status.idle": "2021-10-22T00:24:38.431240Z",
     "shell.execute_reply": "2021-10-22T00:24:38.430727Z"
    },
    "papermill": {
     "duration": 2.527193,
     "end_time": "2021-10-22T00:24:38.431369",
     "exception": false,
     "start_time": "2021-10-22T00:24:35.904176",
     "status": "completed"
    },
    "tags": []
   },
   "outputs": [
    {
     "name": "stdout",
     "output_type": "stream",
     "text": [
      "Collecting mnist\r\n"
     ]
    },
    {
     "name": "stdout",
     "output_type": "stream",
     "text": [
      "  Downloading mnist-0.2.2-py2.py3-none-any.whl (3.5 kB)\r\n",
      "Requirement already satisfied: numpy in /opt/hostedtoolcache/Python/3.6.15/x64/lib/python3.6/site-packages (from mnist) (1.19.5)\r\n"
     ]
    },
    {
     "name": "stdout",
     "output_type": "stream",
     "text": [
      "Installing collected packages: mnist\r\n"
     ]
    },
    {
     "name": "stdout",
     "output_type": "stream",
     "text": [
      "Successfully installed mnist-0.2.2\r\n"
     ]
    }
   ],
   "source": [
    "!pip install mnist"
   ]
  },
  {
   "cell_type": "markdown",
   "id": "69df9c9a",
   "metadata": {
    "papermill": {
     "duration": 0.025163,
     "end_time": "2021-10-22T00:24:38.481985",
     "exception": false,
     "start_time": "2021-10-22T00:24:38.456822",
     "status": "completed"
    },
    "tags": []
   },
   "source": [
    "## Preparing the Data"
   ]
  },
  {
   "cell_type": "code",
   "execution_count": 4,
   "id": "7f69d806",
   "metadata": {
    "execution": {
     "iopub.execute_input": "2021-10-22T00:24:38.543066Z",
     "iopub.status.busy": "2021-10-22T00:24:38.542537Z",
     "iopub.status.idle": "2021-10-22T00:24:38.554080Z",
     "shell.execute_reply": "2021-10-22T00:24:38.553614Z"
    },
    "papermill": {
     "duration": 0.047078,
     "end_time": "2021-10-22T00:24:38.554197",
     "exception": false,
     "start_time": "2021-10-22T00:24:38.507119",
     "status": "completed"
    },
    "tags": []
   },
   "outputs": [],
   "source": [
    "import mnist"
   ]
  },
  {
   "cell_type": "code",
   "execution_count": 5,
   "id": "a411e44f",
   "metadata": {
    "execution": {
     "iopub.execute_input": "2021-10-22T00:24:38.618089Z",
     "iopub.status.busy": "2021-10-22T00:24:38.614588Z",
     "iopub.status.idle": "2021-10-22T00:24:39.135932Z",
     "shell.execute_reply": "2021-10-22T00:24:39.135442Z"
    },
    "papermill": {
     "duration": 0.556299,
     "end_time": "2021-10-22T00:24:39.136058",
     "exception": false,
     "start_time": "2021-10-22T00:24:38.579759",
     "status": "completed"
    },
    "tags": []
   },
   "outputs": [],
   "source": [
    "train_images = mnist.train_images()\n",
    "train_labels = mnist.train_labels()"
   ]
  },
  {
   "cell_type": "code",
   "execution_count": 6,
   "id": "dceab3a5",
   "metadata": {
    "execution": {
     "iopub.execute_input": "2021-10-22T00:24:39.190724Z",
     "iopub.status.busy": "2021-10-22T00:24:39.190202Z",
     "iopub.status.idle": "2021-10-22T00:24:39.204408Z",
     "shell.execute_reply": "2021-10-22T00:24:39.204842Z"
    },
    "papermill": {
     "duration": 0.04359,
     "end_time": "2021-10-22T00:24:39.204978",
     "exception": false,
     "start_time": "2021-10-22T00:24:39.161388",
     "status": "completed"
    },
    "tags": []
   },
   "outputs": [
    {
     "data": {
      "text/plain": [
       "((60000, 28, 28), (60000,))"
      ]
     },
     "execution_count": 6,
     "metadata": {},
     "output_type": "execute_result"
    }
   ],
   "source": [
    "train_images.shape, train_labels.shape"
   ]
  },
  {
   "cell_type": "code",
   "execution_count": 7,
   "id": "f50dc2bb",
   "metadata": {
    "execution": {
     "iopub.execute_input": "2021-10-22T00:24:39.259403Z",
     "iopub.status.busy": "2021-10-22T00:24:39.258895Z",
     "iopub.status.idle": "2021-10-22T00:24:39.404730Z",
     "shell.execute_reply": "2021-10-22T00:24:39.404191Z"
    },
    "papermill": {
     "duration": 0.174543,
     "end_time": "2021-10-22T00:24:39.404875",
     "exception": false,
     "start_time": "2021-10-22T00:24:39.230332",
     "status": "completed"
    },
    "tags": []
   },
   "outputs": [],
   "source": [
    "test_images = mnist.test_images()\n",
    "test_labels = mnist.test_labels()"
   ]
  },
  {
   "cell_type": "code",
   "execution_count": 8,
   "id": "fc38cf1b",
   "metadata": {
    "execution": {
     "iopub.execute_input": "2021-10-22T00:24:39.461239Z",
     "iopub.status.busy": "2021-10-22T00:24:39.460688Z",
     "iopub.status.idle": "2021-10-22T00:24:39.473465Z",
     "shell.execute_reply": "2021-10-22T00:24:39.472986Z"
    },
    "papermill": {
     "duration": 0.042001,
     "end_time": "2021-10-22T00:24:39.473588",
     "exception": false,
     "start_time": "2021-10-22T00:24:39.431587",
     "status": "completed"
    },
    "tags": []
   },
   "outputs": [
    {
     "data": {
      "text/plain": [
       "((10000, 28, 28), (10000,))"
      ]
     },
     "execution_count": 8,
     "metadata": {},
     "output_type": "execute_result"
    }
   ],
   "source": [
    "test_images.shape, test_labels.shape"
   ]
  },
  {
   "cell_type": "code",
   "execution_count": 9,
   "id": "f9ed8fe0",
   "metadata": {
    "execution": {
     "iopub.execute_input": "2021-10-22T00:24:39.538559Z",
     "iopub.status.busy": "2021-10-22T00:24:39.538037Z",
     "iopub.status.idle": "2021-10-22T00:24:39.659853Z",
     "shell.execute_reply": "2021-10-22T00:24:39.660214Z"
    },
    "papermill": {
     "duration": 0.161201,
     "end_time": "2021-10-22T00:24:39.660357",
     "exception": false,
     "start_time": "2021-10-22T00:24:39.499156",
     "status": "completed"
    },
    "tags": []
   },
   "outputs": [
    {
     "name": "stdout",
     "output_type": "stream",
     "text": [
      "2\n"
     ]
    },
    {
     "data": {
      "text/plain": [
       "<matplotlib.image.AxesImage at 0x7fdad7327080>"
      ]
     },
     "execution_count": 9,
     "metadata": {},
     "output_type": "execute_result"
    },
    {
     "data": {
      "image/png": "[encoded data removed]",
      "text/plain": [
       "<Figure size 432x288 with 1 Axes>"
      ]
     },
     "metadata": {
      "needs_background": "light"
     },
     "output_type": "display_data"
    }
   ],
   "source": [
    "image_index = 7776 # You may select anything up to 60,000\n",
    "print(train_labels[image_index]) \n",
    "plt.imshow(train_images[image_index], cmap='Greys')"
   ]
  },
  {
   "cell_type": "markdown",
   "id": "a8d2388d",
   "metadata": {
    "papermill": {
     "duration": 0.024033,
     "end_time": "2021-10-22T00:24:39.708439",
     "exception": false,
     "start_time": "2021-10-22T00:24:39.684406",
     "status": "completed"
    },
    "tags": []
   },
   "source": [
    "## Filter data to get 3 and 8 out"
   ]
  },
  {
   "cell_type": "code",
   "execution_count": 10,
   "id": "776f7fc7",
   "metadata": {
    "execution": {
     "iopub.execute_input": "2021-10-22T00:24:39.778057Z",
     "iopub.status.busy": "2021-10-22T00:24:39.770451Z",
     "iopub.status.idle": "2021-10-22T00:24:39.783185Z",
     "shell.execute_reply": "2021-10-22T00:24:39.782780Z"
    },
    "papermill": {
     "duration": 0.050064,
     "end_time": "2021-10-22T00:24:39.783295",
     "exception": false,
     "start_time": "2021-10-22T00:24:39.733231",
     "status": "completed"
    },
    "tags": []
   },
   "outputs": [],
   "source": [
    "train_filter = np.where((train_labels == 3 ) | (train_labels == 8))\n",
    "test_filter = np.where((test_labels == 3) | (test_labels == 8))\n",
    "X_train, y_train = train_images[train_filter], train_labels[train_filter]\n",
    "X_test, y_test = test_images[test_filter], test_labels[test_filter]"
   ]
  },
  {
   "cell_type": "markdown",
   "id": "948f0b7e",
   "metadata": {
    "papermill": {
     "duration": 0.02351,
     "end_time": "2021-10-22T00:24:39.831190",
     "exception": false,
     "start_time": "2021-10-22T00:24:39.807680",
     "status": "completed"
    },
    "tags": []
   },
   "source": [
    "We normalize the pizel values in the 0 to 1 range"
   ]
  },
  {
   "cell_type": "code",
   "execution_count": 11,
   "id": "ee4c2166",
   "metadata": {
    "execution": {
     "iopub.execute_input": "2021-10-22T00:24:39.882187Z",
     "iopub.status.busy": "2021-10-22T00:24:39.881718Z",
     "iopub.status.idle": "2021-10-22T00:24:39.929913Z",
     "shell.execute_reply": "2021-10-22T00:24:39.929305Z"
    },
    "papermill": {
     "duration": 0.075178,
     "end_time": "2021-10-22T00:24:39.930060",
     "exception": false,
     "start_time": "2021-10-22T00:24:39.854882",
     "status": "completed"
    },
    "tags": []
   },
   "outputs": [],
   "source": [
    "X_train = X_train/255.\n",
    "X_test = X_test/255."
   ]
  },
  {
   "cell_type": "markdown",
   "id": "ddcf4fab",
   "metadata": {
    "papermill": {
     "duration": 0.023547,
     "end_time": "2021-10-22T00:24:39.977466",
     "exception": false,
     "start_time": "2021-10-22T00:24:39.953919",
     "status": "completed"
    },
    "tags": []
   },
   "source": [
    "And setup the labels as 1 (when the digit is 3) and 0 (when the digit is 8)"
   ]
  },
  {
   "cell_type": "code",
   "execution_count": 12,
   "id": "7dc908f2",
   "metadata": {
    "execution": {
     "iopub.execute_input": "2021-10-22T00:24:40.033733Z",
     "iopub.status.busy": "2021-10-22T00:24:40.033141Z",
     "iopub.status.idle": "2021-10-22T00:24:40.042390Z",
     "shell.execute_reply": "2021-10-22T00:24:40.041983Z"
    },
    "papermill": {
     "duration": 0.04167,
     "end_time": "2021-10-22T00:24:40.042498",
     "exception": false,
     "start_time": "2021-10-22T00:24:40.000828",
     "status": "completed"
    },
    "tags": []
   },
   "outputs": [],
   "source": [
    "y_train = 1*(y_train==3)\n",
    "y_test = 1*(y_test==3)"
   ]
  },
  {
   "cell_type": "code",
   "execution_count": 13,
   "id": "01e4e969",
   "metadata": {
    "execution": {
     "iopub.execute_input": "2021-10-22T00:24:40.093276Z",
     "iopub.status.busy": "2021-10-22T00:24:40.092777Z",
     "iopub.status.idle": "2021-10-22T00:24:40.106047Z",
     "shell.execute_reply": "2021-10-22T00:24:40.105655Z"
    },
    "papermill": {
     "duration": 0.039877,
     "end_time": "2021-10-22T00:24:40.106150",
     "exception": false,
     "start_time": "2021-10-22T00:24:40.066273",
     "status": "completed"
    },
    "tags": []
   },
   "outputs": [
    {
     "data": {
      "text/plain": [
       "((11982, 28, 28), (1984, 28, 28))"
      ]
     },
     "execution_count": 13,
     "metadata": {},
     "output_type": "execute_result"
    }
   ],
   "source": [
    "X_train.shape, X_test.shape"
   ]
  },
  {
   "cell_type": "markdown",
   "id": "5ccf3f85",
   "metadata": {
    "papermill": {
     "duration": 0.023594,
     "end_time": "2021-10-22T00:24:40.153411",
     "exception": false,
     "start_time": "2021-10-22T00:24:40.129817",
     "status": "completed"
    },
    "tags": []
   },
   "source": [
    "We reshape the data to flatten the image pixels into a set of features or co-variates:"
   ]
  },
  {
   "cell_type": "code",
   "execution_count": 14,
   "id": "5286a4a3",
   "metadata": {
    "execution": {
     "iopub.execute_input": "2021-10-22T00:24:40.220275Z",
     "iopub.status.busy": "2021-10-22T00:24:40.218285Z",
     "iopub.status.idle": "2021-10-22T00:24:40.223308Z",
     "shell.execute_reply": "2021-10-22T00:24:40.222908Z"
    },
    "papermill": {
     "duration": 0.046317,
     "end_time": "2021-10-22T00:24:40.223411",
     "exception": false,
     "start_time": "2021-10-22T00:24:40.177094",
     "status": "completed"
    },
    "tags": []
   },
   "outputs": [
    {
     "data": {
      "text/plain": [
       "((11982, 784), (1984, 784))"
      ]
     },
     "execution_count": 14,
     "metadata": {},
     "output_type": "execute_result"
    }
   ],
   "source": [
    "X_train = X_train.reshape(X_train.shape[0], -1)\n",
    "X_test = X_test.reshape(X_test.shape[0], -1)\n",
    "X_train.shape, X_test.shape"
   ]
  },
  {
   "cell_type": "code",
   "execution_count": 15,
   "id": "73c5f88a",
   "metadata": {
    "execution": {
     "iopub.execute_input": "2021-10-22T00:24:40.288620Z",
     "iopub.status.busy": "2021-10-22T00:24:40.282490Z",
     "iopub.status.idle": "2021-10-22T00:24:40.297591Z",
     "shell.execute_reply": "2021-10-22T00:24:40.297170Z"
    },
    "papermill": {
     "duration": 0.050426,
     "end_time": "2021-10-22T00:24:40.297698",
     "exception": false,
     "start_time": "2021-10-22T00:24:40.247272",
     "status": "completed"
    },
    "tags": []
   },
   "outputs": [],
   "source": [
    "#Impoting functions from 'Kudzu'\n",
    "from kudzu.model import Model\n",
    "from kudzu.train import Learner\n",
    "from kudzu.optim import GD\n",
    "from kudzu.data import Data, Sampler,Dataloader\n",
    "\n",
    "from kudzu.callbacks import AccCallback\n",
    "from kudzu.callbacks import ClfCallback\n",
    "\n",
    "from kudzu.loss import MSE\n",
    "\n",
    "from kudzu.layer import Sigmoid,Relu\n",
    "from kudzu.layer import Affine"
   ]
  },
  {
   "cell_type": "markdown",
   "id": "bc01172a",
   "metadata": {
    "papermill": {
     "duration": 0.023778,
     "end_time": "2021-10-22T00:24:40.345582",
     "exception": false,
     "start_time": "2021-10-22T00:24:40.321804",
     "status": "completed"
    },
    "tags": []
   },
   "source": [
    "### Let us create a `Config` class, to store important parameters. \n",
    "This class essentially plays the role of a dictionary."
   ]
  },
  {
   "cell_type": "code",
   "execution_count": 16,
   "id": "978281aa",
   "metadata": {
    "execution": {
     "iopub.execute_input": "2021-10-22T00:24:40.398816Z",
     "iopub.status.busy": "2021-10-22T00:24:40.398349Z",
     "iopub.status.idle": "2021-10-22T00:24:40.410939Z",
     "shell.execute_reply": "2021-10-22T00:24:40.410566Z"
    },
    "papermill": {
     "duration": 0.040223,
     "end_time": "2021-10-22T00:24:40.411045",
     "exception": false,
     "start_time": "2021-10-22T00:24:40.370822",
     "status": "completed"
    },
    "tags": []
   },
   "outputs": [],
   "source": [
    "class Config:\n",
    "    pass\n",
    "config = Config()\n",
    "config.lr = 0.001\n",
    "config.num_epochs = 250\n",
    "config.bs = 50"
   ]
  },
  {
   "cell_type": "markdown",
   "id": "1385fa59",
   "metadata": {
    "papermill": {
     "duration": 0.023718,
     "end_time": "2021-10-22T00:24:40.458771",
     "exception": false,
     "start_time": "2021-10-22T00:24:40.435053",
     "status": "completed"
    },
    "tags": []
   },
   "source": [
    "### Running Models with the Training data\n",
    "Details about the network layers:\n",
    "- A first affine layer has 784 inputs and does 100 affine transforms. These are followed by a Relu\n",
    "- A second affine layer has 100 inputs from the 100 activations of the past layer, and does 100 affine transforms. These are followed by a Relu\n",
    "- A third affine layer has 100 activations and does 2 affine transformations to create an embedding for visualization. There is no non-linearity here.\n",
    "- A final \"logistic regression\" which has an affine transform from 2 inputs to 1 output, which is squeezed through a sigmoid.\n"
   ]
  },
  {
   "cell_type": "code",
   "execution_count": 17,
   "id": "2b9c66db",
   "metadata": {
    "execution": {
     "iopub.execute_input": "2021-10-22T00:24:40.510123Z",
     "iopub.status.busy": "2021-10-22T00:24:40.509658Z",
     "iopub.status.idle": "2021-10-22T00:24:40.522109Z",
     "shell.execute_reply": "2021-10-22T00:24:40.522501Z"
    },
    "papermill": {
     "duration": 0.040159,
     "end_time": "2021-10-22T00:24:40.522625",
     "exception": false,
     "start_time": "2021-10-22T00:24:40.482466",
     "status": "completed"
    },
    "tags": []
   },
   "outputs": [],
   "source": [
    "data = Data(X_train, y_train.reshape(-1,1))\n",
    "sampler = Sampler(data, config.bs, shuffle=True)\n",
    "\n",
    "dl = Dataloader(data, sampler)\n",
    "\n",
    "opt = GD(config.lr)\n",
    "loss = MSE()"
   ]
  },
  {
   "cell_type": "code",
   "execution_count": 18,
   "id": "b275e4c2",
   "metadata": {
    "execution": {
     "iopub.execute_input": "2021-10-22T00:24:40.574035Z",
     "iopub.status.busy": "2021-10-22T00:24:40.573566Z",
     "iopub.status.idle": "2021-10-22T00:24:40.585761Z",
     "shell.execute_reply": "2021-10-22T00:24:40.585375Z"
    },
    "papermill": {
     "duration": 0.039291,
     "end_time": "2021-10-22T00:24:40.585872",
     "exception": false,
     "start_time": "2021-10-22T00:24:40.546581",
     "status": "completed"
    },
    "tags": []
   },
   "outputs": [],
   "source": [
    "training_data_x = X_train\n",
    "testing_data_x = X_test\n",
    "training_data_y = y_train.reshape(-1,1)\n",
    "testing_data_y = y_test.reshape(-1,1)"
   ]
  },
  {
   "cell_type": "code",
   "execution_count": 19,
   "id": "76951160",
   "metadata": {
    "execution": {
     "iopub.execute_input": "2021-10-22T00:24:40.636189Z",
     "iopub.status.busy": "2021-10-22T00:24:40.635560Z",
     "iopub.status.idle": "2021-10-22T00:24:40.652958Z",
     "shell.execute_reply": "2021-10-22T00:24:40.652582Z"
    },
    "papermill": {
     "duration": 0.04344,
     "end_time": "2021-10-22T00:24:40.653066",
     "exception": false,
     "start_time": "2021-10-22T00:24:40.609626",
     "status": "completed"
    },
    "tags": []
   },
   "outputs": [
    {
     "name": "stdout",
     "output_type": "stream",
     "text": [
      "xavier\n",
      "xavier\n",
      "xavier\n",
      "xavier\n",
      "xavier\n"
     ]
    }
   ],
   "source": [
    "layers = [Affine(\"first\", 784, 100), Relu(\"first\"), Affine(\"second\", 100, 100), Relu(\"second\"), Affine(\"third\", 100, 2), Affine(\"last\", 2, 1), Sigmoid(\"last\")]\n",
    "model_nn = Model(layers)\n",
    "model_lr = Model([Affine(\"logits\", 784, 1), Sigmoid(\"sigmoid\")])"
   ]
  },
  {
   "cell_type": "code",
   "execution_count": 20,
   "id": "6eede77a",
   "metadata": {
    "execution": {
     "iopub.execute_input": "2021-10-22T00:24:40.719868Z",
     "iopub.status.busy": "2021-10-22T00:24:40.719372Z",
     "iopub.status.idle": "2021-10-22T00:24:40.724203Z",
     "shell.execute_reply": "2021-10-22T00:24:40.723808Z"
    },
    "papermill": {
     "duration": 0.046824,
     "end_time": "2021-10-22T00:24:40.724310",
     "exception": false,
     "start_time": "2021-10-22T00:24:40.677486",
     "status": "completed"
    },
    "tags": []
   },
   "outputs": [],
   "source": [
    "nn_learner = Learner(loss, model_nn, opt, config.num_epochs)\n",
    "acc_nn = ClfCallback(nn_learner, config.bs, training_data_x , testing_data_x, training_data_y, testing_data_y)\n",
    "nn_learner.set_callbacks([acc_nn])"
   ]
  },
  {
   "cell_type": "code",
   "execution_count": 21,
   "id": "877b6cc7",
   "metadata": {
    "execution": {
     "iopub.execute_input": "2021-10-22T00:24:40.782229Z",
     "iopub.status.busy": "2021-10-22T00:24:40.776345Z",
     "iopub.status.idle": "2021-10-22T00:24:40.790909Z",
     "shell.execute_reply": "2021-10-22T00:24:40.790528Z"
    },
    "papermill": {
     "duration": 0.042581,
     "end_time": "2021-10-22T00:24:40.791020",
     "exception": false,
     "start_time": "2021-10-22T00:24:40.748439",
     "status": "completed"
    },
    "tags": []
   },
   "outputs": [],
   "source": [
    "lr_learner = Learner(loss, model_lr, opt, config.num_epochs)\n",
    "acc_lr = ClfCallback(lr_learner, config.bs, training_data_x , testing_data_x, training_data_y, testing_data_y)\n",
    "lr_learner.set_callbacks([acc_lr])"
   ]
  },
  {
   "cell_type": "code",
   "execution_count": 22,
   "id": "d9b133c3",
   "metadata": {
    "execution": {
     "iopub.execute_input": "2021-10-22T00:24:40.842674Z",
     "iopub.status.busy": "2021-10-22T00:24:40.842221Z",
     "iopub.status.idle": "2021-10-22T00:26:05.401278Z",
     "shell.execute_reply": "2021-10-22T00:26:05.401979Z"
    },
    "papermill": {
     "duration": 84.586879,
     "end_time": "2021-10-22T00:26:05.402124",
     "exception": false,
     "start_time": "2021-10-22T00:24:40.815245",
     "status": "completed"
    },
    "tags": []
   },
   "outputs": [
    {
     "name": "stdout",
     "output_type": "stream",
     "text": [
      "Epoch 0, Loss 0.2325\n",
      "Training Accuracy: 0.7143, Testing Accuracy: 0.7228\n",
      "\n"
     ]
    },
    {
     "name": "stdout",
     "output_type": "stream",
     "text": [
      "Epoch 10, Loss 0.0902\n",
      "Training Accuracy: 0.9111, Testing Accuracy: 0.9214\n",
      "\n"
     ]
    },
    {
     "name": "stdout",
     "output_type": "stream",
     "text": [
      "Epoch 20, Loss 0.0581\n",
      "Training Accuracy: 0.9372, Testing Accuracy: 0.9496\n",
      "\n"
     ]
    },
    {
     "name": "stdout",
     "output_type": "stream",
     "text": [
      "Epoch 30, Loss 0.046\n",
      "Training Accuracy: 0.9471, Testing Accuracy: 0.9587\n",
      "\n"
     ]
    },
    {
     "name": "stdout",
     "output_type": "stream",
     "text": [
      "Epoch 40, Loss 0.0397\n",
      "Training Accuracy: 0.9538, Testing Accuracy: 0.9652\n",
      "\n"
     ]
    },
    {
     "name": "stdout",
     "output_type": "stream",
     "text": [
      "Epoch 50, Loss 0.0358\n",
      "Training Accuracy: 0.9584, Testing Accuracy: 0.9667\n",
      "\n"
     ]
    },
    {
     "name": "stdout",
     "output_type": "stream",
     "text": [
      "Epoch 60, Loss 0.033\n",
      "Training Accuracy: 0.9610, Testing Accuracy: 0.9667\n",
      "\n"
     ]
    },
    {
     "name": "stdout",
     "output_type": "stream",
     "text": [
      "Epoch 70, Loss 0.031\n",
      "Training Accuracy: 0.9636, Testing Accuracy: 0.9698\n",
      "\n"
     ]
    },
    {
     "name": "stdout",
     "output_type": "stream",
     "text": [
      "Epoch 80, Loss 0.0293\n",
      "Training Accuracy: 0.9655, Testing Accuracy: 0.9713\n",
      "\n"
     ]
    },
    {
     "name": "stdout",
     "output_type": "stream",
     "text": [
      "Epoch 90, Loss 0.0279\n",
      "Training Accuracy: 0.9673, Testing Accuracy: 0.9723\n",
      "\n"
     ]
    },
    {
     "name": "stdout",
     "output_type": "stream",
     "text": [
      "Epoch 100, Loss 0.0268\n",
      "Training Accuracy: 0.9692, Testing Accuracy: 0.9728\n",
      "\n"
     ]
    },
    {
     "name": "stdout",
     "output_type": "stream",
     "text": [
      "Epoch 110, Loss 0.0258\n",
      "Training Accuracy: 0.9708, Testing Accuracy: 0.9728\n",
      "\n"
     ]
    },
    {
     "name": "stdout",
     "output_type": "stream",
     "text": [
      "Epoch 120, Loss 0.0249\n",
      "Training Accuracy: 0.9721, Testing Accuracy: 0.9733\n",
      "\n"
     ]
    },
    {
     "name": "stdout",
     "output_type": "stream",
     "text": [
      "Epoch 130, Loss 0.0241\n",
      "Training Accuracy: 0.9730, Testing Accuracy: 0.9743\n",
      "\n"
     ]
    },
    {
     "name": "stdout",
     "output_type": "stream",
     "text": [
      "Epoch 140, Loss 0.0233\n",
      "Training Accuracy: 0.9740, Testing Accuracy: 0.9743\n",
      "\n"
     ]
    },
    {
     "name": "stdout",
     "output_type": "stream",
     "text": [
      "Epoch 150, Loss 0.0226\n",
      "Training Accuracy: 0.9750, Testing Accuracy: 0.9738\n",
      "\n"
     ]
    },
    {
     "name": "stdout",
     "output_type": "stream",
     "text": [
      "Epoch 160, Loss 0.0219\n",
      "Training Accuracy: 0.9755, Testing Accuracy: 0.9738\n",
      "\n"
     ]
    },
    {
     "name": "stdout",
     "output_type": "stream",
     "text": [
      "Epoch 170, Loss 0.0213\n",
      "Training Accuracy: 0.9765, Testing Accuracy: 0.9738\n",
      "\n"
     ]
    },
    {
     "name": "stdout",
     "output_type": "stream",
     "text": [
      "Epoch 180, Loss 0.0207\n",
      "Training Accuracy: 0.9772, Testing Accuracy: 0.9738\n",
      "\n"
     ]
    },
    {
     "name": "stdout",
     "output_type": "stream",
     "text": [
      "Epoch 190, Loss 0.0202\n",
      "Training Accuracy: 0.9778, Testing Accuracy: 0.9743\n",
      "\n"
     ]
    },
    {
     "name": "stdout",
     "output_type": "stream",
     "text": [
      "Epoch 200, Loss 0.0196\n",
      "Training Accuracy: 0.9790, Testing Accuracy: 0.9733\n",
      "\n"
     ]
    },
    {
     "name": "stdout",
     "output_type": "stream",
     "text": [
      "Epoch 210, Loss 0.0191\n",
      "Training Accuracy: 0.9792, Testing Accuracy: 0.9748\n",
      "\n"
     ]
    },
    {
     "name": "stdout",
     "output_type": "stream",
     "text": [
      "Epoch 220, Loss 0.0186\n",
      "Training Accuracy: 0.9799, Testing Accuracy: 0.9748\n",
      "\n"
     ]
    },
    {
     "name": "stdout",
     "output_type": "stream",
     "text": [
      "Epoch 230, Loss 0.0182\n",
      "Training Accuracy: 0.9804, Testing Accuracy: 0.9753\n",
      "\n"
     ]
    },
    {
     "name": "stdout",
     "output_type": "stream",
     "text": [
      "Epoch 240, Loss 0.0178\n",
      "Training Accuracy: 0.9812, Testing Accuracy: 0.9743\n",
      "\n"
     ]
    },
    {
     "data": {
      "text/plain": [
       "0.016746859229353355"
      ]
     },
     "execution_count": 22,
     "metadata": {},
     "output_type": "execute_result"
    }
   ],
   "source": [
    "nn_learner.train_loop(dl)"
   ]
  },
  {
   "cell_type": "code",
   "execution_count": 23,
   "id": "e0163366",
   "metadata": {
    "execution": {
     "iopub.execute_input": "2021-10-22T00:26:05.475378Z",
     "iopub.status.busy": "2021-10-22T00:26:05.474904Z",
     "iopub.status.idle": "2021-10-22T00:26:20.637576Z",
     "shell.execute_reply": "2021-10-22T00:26:20.638245Z"
    },
    "papermill": {
     "duration": 15.205274,
     "end_time": "2021-10-22T00:26:20.638386",
     "exception": false,
     "start_time": "2021-10-22T00:26:05.433112",
     "status": "completed"
    },
    "tags": []
   },
   "outputs": [
    {
     "name": "stdout",
     "output_type": "stream",
     "text": [
      "Epoch 0, Loss 0.2428\n",
      "Training Accuracy: 0.6743, Testing Accuracy: 0.6971\n",
      "\n"
     ]
    },
    {
     "name": "stdout",
     "output_type": "stream",
     "text": [
      "Epoch 10, Loss 0.1057\n",
      "Training Accuracy: 0.9044, Testing Accuracy: 0.9173\n",
      "\n"
     ]
    },
    {
     "name": "stdout",
     "output_type": "stream",
     "text": [
      "Epoch 20, Loss 0.0805\n",
      "Training Accuracy: 0.9269, Testing Accuracy: 0.9456\n",
      "\n"
     ]
    },
    {
     "name": "stdout",
     "output_type": "stream",
     "text": [
      "Epoch 30, Loss 0.0689\n",
      "Training Accuracy: 0.9353, Testing Accuracy: 0.9501\n",
      "\n"
     ]
    },
    {
     "name": "stdout",
     "output_type": "stream",
     "text": [
      "Epoch 40, Loss 0.062\n",
      "Training Accuracy: 0.9429, Testing Accuracy: 0.9521\n",
      "\n"
     ]
    },
    {
     "name": "stdout",
     "output_type": "stream",
     "text": [
      "Epoch 50, Loss 0.0574\n",
      "Training Accuracy: 0.9463, Testing Accuracy: 0.9541\n",
      "\n"
     ]
    },
    {
     "name": "stdout",
     "output_type": "stream",
     "text": [
      "Epoch 60, Loss 0.054\n",
      "Training Accuracy: 0.9493, Testing Accuracy: 0.9577\n",
      "\n"
     ]
    },
    {
     "name": "stdout",
     "output_type": "stream",
     "text": [
      "Epoch 70, Loss 0.0514\n",
      "Training Accuracy: 0.9505, Testing Accuracy: 0.9617\n",
      "\n"
     ]
    },
    {
     "name": "stdout",
     "output_type": "stream",
     "text": [
      "Epoch 80, Loss 0.0494\n",
      "Training Accuracy: 0.9525, Testing Accuracy: 0.9617\n",
      "\n"
     ]
    },
    {
     "name": "stdout",
     "output_type": "stream",
     "text": [
      "Epoch 90, Loss 0.0477\n",
      "Training Accuracy: 0.9534, Testing Accuracy: 0.9617\n",
      "\n"
     ]
    },
    {
     "name": "stdout",
     "output_type": "stream",
     "text": [
      "Epoch 100, Loss 0.0462\n",
      "Training Accuracy: 0.9546, Testing Accuracy: 0.9637\n",
      "\n"
     ]
    },
    {
     "name": "stdout",
     "output_type": "stream",
     "text": [
      "Epoch 110, Loss 0.045\n",
      "Training Accuracy: 0.9554, Testing Accuracy: 0.9642\n",
      "\n"
     ]
    },
    {
     "name": "stdout",
     "output_type": "stream",
     "text": [
      "Epoch 120, Loss 0.044\n",
      "Training Accuracy: 0.9560, Testing Accuracy: 0.9647\n",
      "\n"
     ]
    },
    {
     "name": "stdout",
     "output_type": "stream",
     "text": [
      "Epoch 130, Loss 0.043\n",
      "Training Accuracy: 0.9565, Testing Accuracy: 0.9657\n",
      "\n"
     ]
    },
    {
     "name": "stdout",
     "output_type": "stream",
     "text": [
      "Epoch 140, Loss 0.0422\n",
      "Training Accuracy: 0.9570, Testing Accuracy: 0.9662\n",
      "\n"
     ]
    },
    {
     "name": "stdout",
     "output_type": "stream",
     "text": [
      "Epoch 150, Loss 0.0414\n",
      "Training Accuracy: 0.9574, Testing Accuracy: 0.9667\n",
      "\n"
     ]
    },
    {
     "name": "stdout",
     "output_type": "stream",
     "text": [
      "Epoch 160, Loss 0.0408\n",
      "Training Accuracy: 0.9577, Testing Accuracy: 0.9667\n",
      "\n"
     ]
    },
    {
     "name": "stdout",
     "output_type": "stream",
     "text": [
      "Epoch 170, Loss 0.0402\n",
      "Training Accuracy: 0.9581, Testing Accuracy: 0.9672\n",
      "\n"
     ]
    },
    {
     "name": "stdout",
     "output_type": "stream",
     "text": [
      "Epoch 180, Loss 0.0396\n",
      "Training Accuracy: 0.9583, Testing Accuracy: 0.9672\n",
      "\n"
     ]
    },
    {
     "name": "stdout",
     "output_type": "stream",
     "text": [
      "Epoch 190, Loss 0.0391\n",
      "Training Accuracy: 0.9589, Testing Accuracy: 0.9677\n",
      "\n"
     ]
    },
    {
     "name": "stdout",
     "output_type": "stream",
     "text": [
      "Epoch 200, Loss 0.0386\n",
      "Training Accuracy: 0.9593, Testing Accuracy: 0.9672\n",
      "\n"
     ]
    },
    {
     "name": "stdout",
     "output_type": "stream",
     "text": [
      "Epoch 210, Loss 0.0382\n",
      "Training Accuracy: 0.9594, Testing Accuracy: 0.9677\n",
      "\n"
     ]
    },
    {
     "name": "stdout",
     "output_type": "stream",
     "text": [
      "Epoch 220, Loss 0.0378\n",
      "Training Accuracy: 0.9600, Testing Accuracy: 0.9688\n",
      "\n"
     ]
    },
    {
     "name": "stdout",
     "output_type": "stream",
     "text": [
      "Epoch 230, Loss 0.0374\n",
      "Training Accuracy: 0.9604, Testing Accuracy: 0.9688\n",
      "\n"
     ]
    },
    {
     "name": "stdout",
     "output_type": "stream",
     "text": [
      "Epoch 240, Loss 0.037\n",
      "Training Accuracy: 0.9608, Testing Accuracy: 0.9688\n",
      "\n"
     ]
    },
    {
     "data": {
      "text/plain": [
       "0.03791500502534781"
      ]
     },
     "execution_count": 23,
     "metadata": {},
     "output_type": "execute_result"
    }
   ],
   "source": [
    "lr_learner.train_loop(dl)"
   ]
  },
  {
   "cell_type": "code",
   "execution_count": 24,
   "id": "ca410940",
   "metadata": {
    "execution": {
     "iopub.execute_input": "2021-10-22T00:26:20.726532Z",
     "iopub.status.busy": "2021-10-22T00:26:20.726042Z",
     "iopub.status.idle": "2021-10-22T00:26:20.928116Z",
     "shell.execute_reply": "2021-10-22T00:26:20.927597Z"
    },
    "papermill": {
     "duration": 0.253236,
     "end_time": "2021-10-22T00:26:20.928246",
     "exception": false,
     "start_time": "2021-10-22T00:26:20.675010",
     "status": "completed"
    },
    "tags": []
   },
   "outputs": [
    {
     "data": {
      "text/plain": [
       "<matplotlib.legend.Legend at 0x7fdad6e8c828>"
      ]
     },
     "execution_count": 24,
     "metadata": {},
     "output_type": "execute_result"
    },
    {
     "data": {
      "image/png": "[encoded data removed]",
      "text/plain": [
       "<Figure size 1080x720 with 1 Axes>"
      ]
     },
     "metadata": {
      "needs_background": "light"
     },
     "output_type": "display_data"
    }
   ],
   "source": [
    "#comparing the results of NN and LR\n",
    "plt.figure(figsize=(15,10))\n",
    "\n",
    "# Neural Network plots\n",
    "plt.plot(acc_nn.accuracies, 'r-', label = \"Training Accuracies - NN\")\n",
    "plt.plot(acc_nn.test_accuracies, 'g-', label = \"Testing Accuracies - NN\")\n",
    "\n",
    "# Logistic Regression plots\n",
    "plt.plot(acc_lr.accuracies, 'k-', label = \"Training Accuracies - LR\")\n",
    "plt.plot(acc_lr.test_accuracies, 'b-', label = \"Testing Accuracies - LR\")\n",
    "plt.legend()"
   ]
  },
  {
   "cell_type": "markdown",
   "id": "80dfb35c",
   "metadata": {
    "papermill": {
     "duration": 0.042489,
     "end_time": "2021-10-22T00:26:21.013801",
     "exception": false,
     "start_time": "2021-10-22T00:26:20.971312",
     "status": "completed"
    },
    "tags": []
   },
   "source": [
    "#### Plotting the outputs of this layer of the NN.\n"
   ]
  },
  {
   "cell_type": "code",
   "execution_count": 25,
   "id": "45eb2ff5",
   "metadata": {
    "execution": {
     "iopub.execute_input": "2021-10-22T00:26:21.104870Z",
     "iopub.status.busy": "2021-10-22T00:26:21.103444Z",
     "iopub.status.idle": "2021-10-22T00:26:21.123121Z",
     "shell.execute_reply": "2021-10-22T00:26:21.123829Z"
    },
    "papermill": {
     "duration": 0.067793,
     "end_time": "2021-10-22T00:26:21.123978",
     "exception": false,
     "start_time": "2021-10-22T00:26:21.056185",
     "status": "completed"
    },
    "tags": []
   },
   "outputs": [],
   "source": [
    "new_model = Model(layers[:-2])\n",
    "testing_plot = new_model(testing_data_x)"
   ]
  },
  {
   "cell_type": "code",
   "execution_count": 26,
   "id": "4c0a5485",
   "metadata": {
    "execution": {
     "iopub.execute_input": "2021-10-22T00:26:21.210547Z",
     "iopub.status.busy": "2021-10-22T00:26:21.210052Z",
     "iopub.status.idle": "2021-10-22T00:26:21.375951Z",
     "shell.execute_reply": "2021-10-22T00:26:21.376407Z"
    },
    "papermill": {
     "duration": 0.2141,
     "end_time": "2021-10-22T00:26:21.376570",
     "exception": false,
     "start_time": "2021-10-22T00:26:21.162470",
     "status": "completed"
    },
    "tags": []
   },
   "outputs": [
    {
     "data": {
      "text/plain": [
       "Text(0.5, 1.0, 'Outputs')"
      ]
     },
     "execution_count": 26,
     "metadata": {},
     "output_type": "execute_result"
    },
    {
     "data": {
      "image/png": "[encoded data removed]",
      "text/plain": [
       "<Figure size 576x504 with 1 Axes>"
      ]
     },
     "metadata": {
      "needs_background": "light"
     },
     "output_type": "display_data"
    }
   ],
   "source": [
    "# Plotting the scatter plot of points and color coding by class\n",
    "plt.figure(figsize=(8,7))\n",
    "plt.scatter(testing_plot[:,0], testing_plot[:,1], alpha = 0.1, c = y_test.ravel());\n",
    "plt.title('Outputs')"
   ]
  },
  {
   "cell_type": "markdown",
   "id": "a74fcf8f",
   "metadata": {
    "papermill": {
     "duration": 0.044938,
     "end_time": "2021-10-22T00:26:21.467260",
     "exception": false,
     "start_time": "2021-10-22T00:26:21.422322",
     "status": "completed"
    },
    "tags": []
   },
   "source": [
    "Probability contours"
   ]
  },
  {
   "cell_type": "code",
   "execution_count": 27,
   "id": "d0afc8e3",
   "metadata": {
    "execution": {
     "iopub.execute_input": "2021-10-22T00:26:21.566434Z",
     "iopub.status.busy": "2021-10-22T00:26:21.565111Z",
     "iopub.status.idle": "2021-10-22T00:26:21.574010Z",
     "shell.execute_reply": "2021-10-22T00:26:21.573552Z"
    },
    "papermill": {
     "duration": 0.062492,
     "end_time": "2021-10-22T00:26:21.574134",
     "exception": false,
     "start_time": "2021-10-22T00:26:21.511642",
     "status": "completed"
    },
    "tags": []
   },
   "outputs": [],
   "source": [
    "model_prob = Model(layers[-2:]) "
   ]
  },
  {
   "cell_type": "code",
   "execution_count": 28,
   "id": "9b96e238",
   "metadata": {
    "execution": {
     "iopub.execute_input": "2021-10-22T00:26:21.700604Z",
     "iopub.status.busy": "2021-10-22T00:26:21.700064Z",
     "iopub.status.idle": "2021-10-22T00:26:21.714572Z",
     "shell.execute_reply": "2021-10-22T00:26:21.714958Z"
    },
    "papermill": {
     "duration": 0.064054,
     "end_time": "2021-10-22T00:26:21.715101",
     "exception": false,
     "start_time": "2021-10-22T00:26:21.651047",
     "status": "completed"
    },
    "tags": []
   },
   "outputs": [],
   "source": [
    "#creating the x and y ranges according to the above generated plot.\n",
    "x_range = np.linspace(-4, 1, 100) \n",
    "y_range = np.linspace(-6, 6, 100) \n",
    "x_grid, y_grid = np.meshgrid(x_range, y_range) # x_grid and y_grig are of size 100 X 100\n",
    "\n",
    "# converting x_grid and y_grid to continuous arrays\n",
    "x_gridflat = np.ravel(x_grid)\n",
    "y_gridflat = np.ravel(y_grid)\n",
    "\n",
    "# The last layer of the current model takes two columns as input. Hence transpose of np.vstack() is required.\n",
    "X = np.vstack((x_gridflat, y_gridflat)).T\n",
    "\n",
    "prob_contour = model_prob(X).reshape(100,100) "
   ]
  },
  {
   "cell_type": "code",
   "execution_count": 29,
   "id": "da72499a",
   "metadata": {
    "execution": {
     "iopub.execute_input": "2021-10-22T00:26:21.817013Z",
     "iopub.status.busy": "2021-10-22T00:26:21.816404Z",
     "iopub.status.idle": "2021-10-22T00:26:22.037342Z",
     "shell.execute_reply": "2021-10-22T00:26:22.036895Z"
    },
    "papermill": {
     "duration": 0.27059,
     "end_time": "2021-10-22T00:26:22.037460",
     "exception": false,
     "start_time": "2021-10-22T00:26:21.766870",
     "status": "completed"
    },
    "tags": []
   },
   "outputs": [
    {
     "data": {
      "image/png": "[encoded data removed]",
      "text/plain": [
       "<Figure size 720x648 with 1 Axes>"
      ]
     },
     "metadata": {
      "needs_background": "light"
     },
     "output_type": "display_data"
    }
   ],
   "source": [
    "plt.figure(figsize=(10,9))\n",
    "plt.scatter(testing_plot[:,0], testing_plot[:,1], alpha = 0.1, c = y_test.ravel())\n",
    "contours = plt.contour(x_grid,y_grid,prob_contour)\n",
    "plt.title('Probability Contours')\n",
    "plt.clabel(contours, inline = True );"
   ]
  },
  {
   "cell_type": "code",
   "execution_count": null,
   "id": "e81b4ac7",
   "metadata": {
    "papermill": {
     "duration": 0.041862,
     "end_time": "2021-10-22T00:26:22.121515",
     "exception": false,
     "start_time": "2021-10-22T00:26:22.079653",
     "status": "completed"
    },
    "tags": []
   },
   "outputs": [],
   "source": []
  }
 ],
 "metadata": {
  "kernelspec": {
   "display_name": "Python 3",
   "language": "python",
   "name": "python3"
  },
  "language_info": {
   "codemirror_mode": {
    "name": "ipython",
    "version": 3
   },
   "file_extension": ".py",
   "mimetype": "text/x-python",
   "name": "python",
   "nbconvert_exporter": "python",
   "pygments_lexer": "ipython3",
   "version": "3.6.15"
  },
  "papermill": {
   "default_parameters": {},
   "duration": 108.425218,
   "end_time": "2021-10-22T00:26:22.571361",
   "environment_variables": {},
   "exception": null,
   "input_path": "2020-08-11-part2.ipynb",
   "output_path": "2020-08-11-part2.ipynb",
   "parameters": {},
   "start_time": "2021-10-22T00:24:34.146143",
   "version": "2.3.3"
  }
 },
 "nbformat": 4,
 "nbformat_minor": 5
}