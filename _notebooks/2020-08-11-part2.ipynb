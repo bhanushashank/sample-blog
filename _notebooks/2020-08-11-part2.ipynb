{
 "cells": [
  {
   "cell_type": "markdown",
   "id": "98380cd3",
   "metadata": {
    "papermill": {
     "duration": 0.033504,
     "end_time": "2021-10-10T00:22:15.354316",
     "exception": false,
     "start_time": "2021-10-10T00:22:15.320812",
     "status": "completed"
    },
    "tags": []
   },
   "source": [
    "# Distinguish Your Own Digits (DYOD)"
   ]
  },
  {
   "cell_type": "markdown",
   "id": "ef31240d",
   "metadata": {
    "papermill": {
     "duration": 0.029353,
     "end_time": "2021-10-10T00:22:15.421600",
     "exception": false,
     "start_time": "2021-10-10T00:22:15.392247",
     "status": "completed"
    },
    "tags": []
   },
   "source": [
    "You are going to write a classifier that distinguishes between the number 3 and number 8."
   ]
  },
  {
   "cell_type": "code",
   "execution_count": 1,
   "id": "b15c8646",
   "metadata": {
    "execution": {
     "iopub.execute_input": "2021-10-10T00:22:15.501902Z",
     "iopub.status.busy": "2021-10-10T00:22:15.501180Z",
     "iopub.status.idle": "2021-10-10T00:22:15.512810Z",
     "shell.execute_reply": "2021-10-10T00:22:15.512138Z"
    },
    "papermill": {
     "duration": 0.057052,
     "end_time": "2021-10-10T00:22:15.512969",
     "exception": false,
     "start_time": "2021-10-10T00:22:15.455917",
     "status": "completed"
    },
    "tags": []
   },
   "outputs": [],
   "source": [
    "%load_ext autoreload\n",
    "%autoreload 2"
   ]
  },
  {
   "cell_type": "code",
   "execution_count": 2,
   "id": "22ef38dc",
   "metadata": {
    "execution": {
     "iopub.execute_input": "2021-10-10T00:22:15.581020Z",
     "iopub.status.busy": "2021-10-10T00:22:15.580353Z",
     "iopub.status.idle": "2021-10-10T00:22:16.209713Z",
     "shell.execute_reply": "2021-10-10T00:22:16.210306Z"
    },
    "papermill": {
     "duration": 0.666744,
     "end_time": "2021-10-10T00:22:16.210643",
     "exception": false,
     "start_time": "2021-10-10T00:22:15.543899",
     "status": "completed"
    },
    "tags": []
   },
   "outputs": [],
   "source": [
    "%matplotlib inline\n",
    "import numpy as np\n",
    "import matplotlib.pyplot as plt\n",
    "import pandas as pd"
   ]
  },
  {
   "cell_type": "markdown",
   "id": "ba036198",
   "metadata": {
    "papermill": {
     "duration": 0.029063,
     "end_time": "2021-10-10T00:22:16.269458",
     "exception": false,
     "start_time": "2021-10-10T00:22:16.240395",
     "status": "completed"
    },
    "tags": []
   },
   "source": [
    "From the command line run `pip install mnist`. This is a library that will help you bring down the mnist dataset. If you run this from a notebook, you need to put  `!pip install mnist` in a cell by itself."
   ]
  },
  {
   "cell_type": "code",
   "execution_count": 3,
   "id": "bb6ad8a1",
   "metadata": {
    "execution": {
     "iopub.execute_input": "2021-10-10T00:22:16.334923Z",
     "iopub.status.busy": "2021-10-10T00:22:16.334259Z",
     "iopub.status.idle": "2021-10-10T00:22:18.278925Z",
     "shell.execute_reply": "2021-10-10T00:22:18.279451Z"
    },
    "papermill": {
     "duration": 1.98102,
     "end_time": "2021-10-10T00:22:18.279616",
     "exception": false,
     "start_time": "2021-10-10T00:22:16.298596",
     "status": "completed"
    },
    "tags": []
   },
   "outputs": [
    {
     "name": "stdout",
     "output_type": "stream",
     "text": [
      "Collecting mnist\r\n"
     ]
    },
    {
     "name": "stdout",
     "output_type": "stream",
     "text": [
      "  Downloading mnist-0.2.2-py2.py3-none-any.whl (3.5 kB)\r\n",
      "Requirement already satisfied: numpy in /opt/hostedtoolcache/Python/3.6.15/x64/lib/python3.6/site-packages (from mnist) (1.19.5)\r\n"
     ]
    },
    {
     "name": "stdout",
     "output_type": "stream",
     "text": [
      "Installing collected packages: mnist\r\n"
     ]
    },
    {
     "name": "stdout",
     "output_type": "stream",
     "text": [
      "Successfully installed mnist-0.2.2\r\n"
     ]
    }
   ],
   "source": [
    "!pip install mnist"
   ]
  },
  {
   "cell_type": "markdown",
   "id": "69df9c9a",
   "metadata": {
    "papermill": {
     "duration": 0.032944,
     "end_time": "2021-10-10T00:22:18.343335",
     "exception": false,
     "start_time": "2021-10-10T00:22:18.310391",
     "status": "completed"
    },
    "tags": []
   },
   "source": [
    "## Preparing the Data"
   ]
  },
  {
   "cell_type": "code",
   "execution_count": 4,
   "id": "7f69d806",
   "metadata": {
    "execution": {
     "iopub.execute_input": "2021-10-10T00:22:18.412953Z",
     "iopub.status.busy": "2021-10-10T00:22:18.412319Z",
     "iopub.status.idle": "2021-10-10T00:22:18.427813Z",
     "shell.execute_reply": "2021-10-10T00:22:18.428372Z"
    },
    "papermill": {
     "duration": 0.053818,
     "end_time": "2021-10-10T00:22:18.428531",
     "exception": false,
     "start_time": "2021-10-10T00:22:18.374713",
     "status": "completed"
    },
    "tags": []
   },
   "outputs": [],
   "source": [
    "import mnist"
   ]
  },
  {
   "cell_type": "code",
   "execution_count": 5,
   "id": "a411e44f",
   "metadata": {
    "execution": {
     "iopub.execute_input": "2021-10-10T00:22:18.495475Z",
     "iopub.status.busy": "2021-10-10T00:22:18.494858Z",
     "iopub.status.idle": "2021-10-10T00:22:19.053824Z",
     "shell.execute_reply": "2021-10-10T00:22:19.054484Z"
    },
    "papermill": {
     "duration": 0.595907,
     "end_time": "2021-10-10T00:22:19.054715",
     "exception": false,
     "start_time": "2021-10-10T00:22:18.458808",
     "status": "completed"
    },
    "tags": []
   },
   "outputs": [],
   "source": [
    "train_images = mnist.train_images()\n",
    "train_labels = mnist.train_labels()"
   ]
  },
  {
   "cell_type": "code",
   "execution_count": 6,
   "id": "dceab3a5",
   "metadata": {
    "execution": {
     "iopub.execute_input": "2021-10-10T00:22:19.126474Z",
     "iopub.status.busy": "2021-10-10T00:22:19.125825Z",
     "iopub.status.idle": "2021-10-10T00:22:19.141110Z",
     "shell.execute_reply": "2021-10-10T00:22:19.141688Z"
    },
    "papermill": {
     "duration": 0.052378,
     "end_time": "2021-10-10T00:22:19.141844",
     "exception": false,
     "start_time": "2021-10-10T00:22:19.089466",
     "status": "completed"
    },
    "tags": []
   },
   "outputs": [
    {
     "data": {
      "text/plain": [
       "((60000, 28, 28), (60000,))"
      ]
     },
     "execution_count": 6,
     "metadata": {},
     "output_type": "execute_result"
    }
   ],
   "source": [
    "train_images.shape, train_labels.shape"
   ]
  },
  {
   "cell_type": "code",
   "execution_count": 7,
   "id": "f50dc2bb",
   "metadata": {
    "execution": {
     "iopub.execute_input": "2021-10-10T00:22:19.208775Z",
     "iopub.status.busy": "2021-10-10T00:22:19.208155Z",
     "iopub.status.idle": "2021-10-10T00:22:19.369304Z",
     "shell.execute_reply": "2021-10-10T00:22:19.368718Z"
    },
    "papermill": {
     "duration": 0.196532,
     "end_time": "2021-10-10T00:22:19.369501",
     "exception": false,
     "start_time": "2021-10-10T00:22:19.172969",
     "status": "completed"
    },
    "tags": []
   },
   "outputs": [],
   "source": [
    "test_images = mnist.test_images()\n",
    "test_labels = mnist.test_labels()"
   ]
  },
  {
   "cell_type": "code",
   "execution_count": 8,
   "id": "fc38cf1b",
   "metadata": {
    "execution": {
     "iopub.execute_input": "2021-10-10T00:22:19.439723Z",
     "iopub.status.busy": "2021-10-10T00:22:19.438993Z",
     "iopub.status.idle": "2021-10-10T00:22:19.455834Z",
     "shell.execute_reply": "2021-10-10T00:22:19.454902Z"
    },
    "papermill": {
     "duration": 0.052404,
     "end_time": "2021-10-10T00:22:19.455962",
     "exception": false,
     "start_time": "2021-10-10T00:22:19.403558",
     "status": "completed"
    },
    "tags": []
   },
   "outputs": [
    {
     "data": {
      "text/plain": [
       "((10000, 28, 28), (10000,))"
      ]
     },
     "execution_count": 8,
     "metadata": {},
     "output_type": "execute_result"
    }
   ],
   "source": [
    "test_images.shape, test_labels.shape"
   ]
  },
  {
   "cell_type": "code",
   "execution_count": 9,
   "id": "f9ed8fe0",
   "metadata": {
    "execution": {
     "iopub.execute_input": "2021-10-10T00:22:19.525278Z",
     "iopub.status.busy": "2021-10-10T00:22:19.522978Z",
     "iopub.status.idle": "2021-10-10T00:22:19.717958Z",
     "shell.execute_reply": "2021-10-10T00:22:19.717421Z"
    },
    "papermill": {
     "duration": 0.231209,
     "end_time": "2021-10-10T00:22:19.718123",
     "exception": false,
     "start_time": "2021-10-10T00:22:19.486914",
     "status": "completed"
    },
    "tags": []
   },
   "outputs": [
    {
     "name": "stdout",
     "output_type": "stream",
     "text": [
      "2\n"
     ]
    },
    {
     "data": {
      "text/plain": [
       "<matplotlib.image.AxesImage at 0x7faba271b828>"
      ]
     },
     "execution_count": 9,
     "metadata": {},
     "output_type": "execute_result"
    },
    {
     "data": {
      "image/png": "[encoded data removed]",
      "text/plain": [
       "<Figure size 432x288 with 1 Axes>"
      ]
     },
     "metadata": {
      "needs_background": "light"
     },
     "output_type": "display_data"
    }
   ],
   "source": [
    "image_index = 7776 # You may select anything up to 60,000\n",
    "print(train_labels[image_index]) \n",
    "plt.imshow(train_images[image_index], cmap='Greys')"
   ]
  },
  {
   "cell_type": "markdown",
   "id": "a8d2388d",
   "metadata": {
    "papermill": {
     "duration": 0.032506,
     "end_time": "2021-10-10T00:22:19.783831",
     "exception": false,
     "start_time": "2021-10-10T00:22:19.751325",
     "status": "completed"
    },
    "tags": []
   },
   "source": [
    "## Filter data to get 3 and 8 out"
   ]
  },
  {
   "cell_type": "code",
   "execution_count": 10,
   "id": "776f7fc7",
   "metadata": {
    "execution": {
     "iopub.execute_input": "2021-10-10T00:22:19.862938Z",
     "iopub.status.busy": "2021-10-10T00:22:19.855025Z",
     "iopub.status.idle": "2021-10-10T00:22:19.877161Z",
     "shell.execute_reply": "2021-10-10T00:22:19.876540Z"
    },
    "papermill": {
     "duration": 0.060529,
     "end_time": "2021-10-10T00:22:19.877292",
     "exception": false,
     "start_time": "2021-10-10T00:22:19.816763",
     "status": "completed"
    },
    "tags": []
   },
   "outputs": [],
   "source": [
    "train_filter = np.where((train_labels == 3 ) | (train_labels == 8))\n",
    "test_filter = np.where((test_labels == 3) | (test_labels == 8))\n",
    "X_train, y_train = train_images[train_filter], train_labels[train_filter]\n",
    "X_test, y_test = test_images[test_filter], test_labels[test_filter]"
   ]
  },
  {
   "cell_type": "markdown",
   "id": "948f0b7e",
   "metadata": {
    "papermill": {
     "duration": 0.03311,
     "end_time": "2021-10-10T00:22:19.943860",
     "exception": false,
     "start_time": "2021-10-10T00:22:19.910750",
     "status": "completed"
    },
    "tags": []
   },
   "source": [
    "We normalize the pizel values in the 0 to 1 range"
   ]
  },
  {
   "cell_type": "code",
   "execution_count": 11,
   "id": "ee4c2166",
   "metadata": {
    "execution": {
     "iopub.execute_input": "2021-10-10T00:22:20.016557Z",
     "iopub.status.busy": "2021-10-10T00:22:20.015851Z",
     "iopub.status.idle": "2021-10-10T00:22:20.078703Z",
     "shell.execute_reply": "2021-10-10T00:22:20.079219Z"
    },
    "papermill": {
     "duration": 0.102222,
     "end_time": "2021-10-10T00:22:20.079401",
     "exception": false,
     "start_time": "2021-10-10T00:22:19.977179",
     "status": "completed"
    },
    "tags": []
   },
   "outputs": [],
   "source": [
    "X_train = X_train/255.\n",
    "X_test = X_test/255."
   ]
  },
  {
   "cell_type": "markdown",
   "id": "ddcf4fab",
   "metadata": {
    "papermill": {
     "duration": 0.032455,
     "end_time": "2021-10-10T00:22:20.144418",
     "exception": false,
     "start_time": "2021-10-10T00:22:20.111963",
     "status": "completed"
    },
    "tags": []
   },
   "source": [
    "And setup the labels as 1 (when the digit is 3) and 0 (when the digit is 8)"
   ]
  },
  {
   "cell_type": "code",
   "execution_count": 12,
   "id": "7dc908f2",
   "metadata": {
    "execution": {
     "iopub.execute_input": "2021-10-10T00:22:20.209803Z",
     "iopub.status.busy": "2021-10-10T00:22:20.209192Z",
     "iopub.status.idle": "2021-10-10T00:22:20.223038Z",
     "shell.execute_reply": "2021-10-10T00:22:20.222449Z"
    },
    "papermill": {
     "duration": 0.047089,
     "end_time": "2021-10-10T00:22:20.223163",
     "exception": false,
     "start_time": "2021-10-10T00:22:20.176074",
     "status": "completed"
    },
    "tags": []
   },
   "outputs": [],
   "source": [
    "y_train = 1*(y_train==3)\n",
    "y_test = 1*(y_test==3)"
   ]
  },
  {
   "cell_type": "code",
   "execution_count": 13,
   "id": "01e4e969",
   "metadata": {
    "execution": {
     "iopub.execute_input": "2021-10-10T00:22:20.287781Z",
     "iopub.status.busy": "2021-10-10T00:22:20.287096Z",
     "iopub.status.idle": "2021-10-10T00:22:20.300648Z",
     "shell.execute_reply": "2021-10-10T00:22:20.301234Z"
    },
    "papermill": {
     "duration": 0.047348,
     "end_time": "2021-10-10T00:22:20.301400",
     "exception": false,
     "start_time": "2021-10-10T00:22:20.254052",
     "status": "completed"
    },
    "tags": []
   },
   "outputs": [
    {
     "data": {
      "text/plain": [
       "((11982, 28, 28), (1984, 28, 28))"
      ]
     },
     "execution_count": 13,
     "metadata": {},
     "output_type": "execute_result"
    }
   ],
   "source": [
    "X_train.shape, X_test.shape"
   ]
  },
  {
   "cell_type": "markdown",
   "id": "5ccf3f85",
   "metadata": {
    "papermill": {
     "duration": 0.031657,
     "end_time": "2021-10-10T00:22:20.365197",
     "exception": false,
     "start_time": "2021-10-10T00:22:20.333540",
     "status": "completed"
    },
    "tags": []
   },
   "source": [
    "We reshape the data to flatten the image pixels into a set of features or co-variates:"
   ]
  },
  {
   "cell_type": "code",
   "execution_count": 14,
   "id": "5286a4a3",
   "metadata": {
    "execution": {
     "iopub.execute_input": "2021-10-10T00:22:20.439605Z",
     "iopub.status.busy": "2021-10-10T00:22:20.438964Z",
     "iopub.status.idle": "2021-10-10T00:22:20.451491Z",
     "shell.execute_reply": "2021-10-10T00:22:20.451970Z"
    },
    "papermill": {
     "duration": 0.05437,
     "end_time": "2021-10-10T00:22:20.452155",
     "exception": false,
     "start_time": "2021-10-10T00:22:20.397785",
     "status": "completed"
    },
    "tags": []
   },
   "outputs": [
    {
     "data": {
      "text/plain": [
       "((11982, 784), (1984, 784))"
      ]
     },
     "execution_count": 14,
     "metadata": {},
     "output_type": "execute_result"
    }
   ],
   "source": [
    "X_train = X_train.reshape(X_train.shape[0], -1)\n",
    "X_test = X_test.reshape(X_test.shape[0], -1)\n",
    "X_train.shape, X_test.shape"
   ]
  },
  {
   "cell_type": "code",
   "execution_count": 15,
   "id": "73c5f88a",
   "metadata": {
    "execution": {
     "iopub.execute_input": "2021-10-10T00:22:20.519751Z",
     "iopub.status.busy": "2021-10-10T00:22:20.519086Z",
     "iopub.status.idle": "2021-10-10T00:22:20.538343Z",
     "shell.execute_reply": "2021-10-10T00:22:20.538983Z"
    },
    "papermill": {
     "duration": 0.054839,
     "end_time": "2021-10-10T00:22:20.539098",
     "exception": false,
     "start_time": "2021-10-10T00:22:20.484259",
     "status": "completed"
    },
    "tags": []
   },
   "outputs": [],
   "source": [
    "#Impoting functions from 'Kudzu'\n",
    "from kudzu.model import Model\n",
    "from kudzu.train import Learner\n",
    "from kudzu.optim import GD\n",
    "from kudzu.data import Data, Sampler,Dataloader\n",
    "\n",
    "from kudzu.callbacks import AccCallback\n",
    "from kudzu.callbacks import ClfCallback\n",
    "\n",
    "from kudzu.loss import MSE\n",
    "\n",
    "from kudzu.layer import Sigmoid,Relu\n",
    "from kudzu.layer import Affine"
   ]
  },
  {
   "cell_type": "markdown",
   "id": "bc01172a",
   "metadata": {
    "papermill": {
     "duration": 0.034371,
     "end_time": "2021-10-10T00:22:20.605977",
     "exception": false,
     "start_time": "2021-10-10T00:22:20.571606",
     "status": "completed"
    },
    "tags": []
   },
   "source": [
    "### Let us create a `Config` class, to store important parameters. \n",
    "This class essentially plays the role of a dictionary."
   ]
  },
  {
   "cell_type": "code",
   "execution_count": 16,
   "id": "978281aa",
   "metadata": {
    "execution": {
     "iopub.execute_input": "2021-10-10T00:22:20.676955Z",
     "iopub.status.busy": "2021-10-10T00:22:20.676163Z",
     "iopub.status.idle": "2021-10-10T00:22:20.691006Z",
     "shell.execute_reply": "2021-10-10T00:22:20.692269Z"
    },
    "papermill": {
     "duration": 0.055569,
     "end_time": "2021-10-10T00:22:20.695882",
     "exception": false,
     "start_time": "2021-10-10T00:22:20.640313",
     "status": "completed"
    },
    "tags": []
   },
   "outputs": [],
   "source": [
    "class Config:\n",
    "    pass\n",
    "config = Config()\n",
    "config.lr = 0.001\n",
    "config.num_epochs = 250\n",
    "config.bs = 50"
   ]
  },
  {
   "cell_type": "markdown",
   "id": "1385fa59",
   "metadata": {
    "papermill": {
     "duration": 0.035354,
     "end_time": "2021-10-10T00:22:20.765040",
     "exception": false,
     "start_time": "2021-10-10T00:22:20.729686",
     "status": "completed"
    },
    "tags": []
   },
   "source": [
    "### Running Models with the Training data\n",
    "Details about the network layers:\n",
    "- A first affine layer has 784 inputs and does 100 affine transforms. These are followed by a Relu\n",
    "- A second affine layer has 100 inputs from the 100 activations of the past layer, and does 100 affine transforms. These are followed by a Relu\n",
    "- A third affine layer has 100 activations and does 2 affine transformations to create an embedding for visualization. There is no non-linearity here.\n",
    "- A final \"logistic regression\" which has an affine transform from 2 inputs to 1 output, which is squeezed through a sigmoid.\n"
   ]
  },
  {
   "cell_type": "code",
   "execution_count": 17,
   "id": "2b9c66db",
   "metadata": {
    "execution": {
     "iopub.execute_input": "2021-10-10T00:22:20.838518Z",
     "iopub.status.busy": "2021-10-10T00:22:20.837875Z",
     "iopub.status.idle": "2021-10-10T00:22:20.851125Z",
     "shell.execute_reply": "2021-10-10T00:22:20.851635Z"
    },
    "papermill": {
     "duration": 0.052543,
     "end_time": "2021-10-10T00:22:20.851790",
     "exception": false,
     "start_time": "2021-10-10T00:22:20.799247",
     "status": "completed"
    },
    "tags": []
   },
   "outputs": [],
   "source": [
    "data = Data(X_train, y_train.reshape(-1,1))\n",
    "sampler = Sampler(data, config.bs, shuffle=True)\n",
    "\n",
    "dl = Dataloader(data, sampler)\n",
    "\n",
    "opt = GD(config.lr)\n",
    "loss = MSE()"
   ]
  },
  {
   "cell_type": "code",
   "execution_count": 18,
   "id": "b275e4c2",
   "metadata": {
    "execution": {
     "iopub.execute_input": "2021-10-10T00:22:20.926219Z",
     "iopub.status.busy": "2021-10-10T00:22:20.925513Z",
     "iopub.status.idle": "2021-10-10T00:22:20.938241Z",
     "shell.execute_reply": "2021-10-10T00:22:20.938884Z"
    },
    "papermill": {
     "duration": 0.052648,
     "end_time": "2021-10-10T00:22:20.939030",
     "exception": false,
     "start_time": "2021-10-10T00:22:20.886382",
     "status": "completed"
    },
    "tags": []
   },
   "outputs": [],
   "source": [
    "training_data_x = X_train\n",
    "testing_data_x = X_test\n",
    "training_data_y = y_train.reshape(-1,1)\n",
    "testing_data_y = y_test.reshape(-1,1)"
   ]
  },
  {
   "cell_type": "code",
   "execution_count": 19,
   "id": "76951160",
   "metadata": {
    "execution": {
     "iopub.execute_input": "2021-10-10T00:22:21.012594Z",
     "iopub.status.busy": "2021-10-10T00:22:21.011874Z",
     "iopub.status.idle": "2021-10-10T00:22:21.032202Z",
     "shell.execute_reply": "2021-10-10T00:22:21.031550Z"
    },
    "papermill": {
     "duration": 0.059854,
     "end_time": "2021-10-10T00:22:21.032375",
     "exception": false,
     "start_time": "2021-10-10T00:22:20.972521",
     "status": "completed"
    },
    "tags": []
   },
   "outputs": [
    {
     "name": "stdout",
     "output_type": "stream",
     "text": [
      "xavier\n",
      "xavier\n",
      "xavier\n",
      "xavier\n",
      "xavier\n"
     ]
    }
   ],
   "source": [
    "layers = [Affine(\"first\", 784, 100), Relu(\"first\"), Affine(\"second\", 100, 100), Relu(\"second\"), Affine(\"third\", 100, 2), Affine(\"last\", 2, 1), Sigmoid(\"last\")]\n",
    "model_nn = Model(layers)\n",
    "model_lr = Model([Affine(\"logits\", 784, 1), Sigmoid(\"sigmoid\")])"
   ]
  },
  {
   "cell_type": "code",
   "execution_count": 20,
   "id": "6eede77a",
   "metadata": {
    "execution": {
     "iopub.execute_input": "2021-10-10T00:22:21.113815Z",
     "iopub.status.busy": "2021-10-10T00:22:21.113157Z",
     "iopub.status.idle": "2021-10-10T00:22:21.128551Z",
     "shell.execute_reply": "2021-10-10T00:22:21.127939Z"
    },
    "papermill": {
     "duration": 0.054305,
     "end_time": "2021-10-10T00:22:21.128683",
     "exception": false,
     "start_time": "2021-10-10T00:22:21.074378",
     "status": "completed"
    },
    "tags": []
   },
   "outputs": [],
   "source": [
    "nn_learner = Learner(loss, model_nn, opt, config.num_epochs)\n",
    "acc_nn = ClfCallback(nn_learner, config.bs, training_data_x , testing_data_x, training_data_y, testing_data_y)\n",
    "nn_learner.set_callbacks([acc_nn])"
   ]
  },
  {
   "cell_type": "code",
   "execution_count": 21,
   "id": "877b6cc7",
   "metadata": {
    "execution": {
     "iopub.execute_input": "2021-10-10T00:22:21.206134Z",
     "iopub.status.busy": "2021-10-10T00:22:21.205504Z",
     "iopub.status.idle": "2021-10-10T00:22:21.219122Z",
     "shell.execute_reply": "2021-10-10T00:22:21.218594Z"
    },
    "papermill": {
     "duration": 0.055689,
     "end_time": "2021-10-10T00:22:21.219254",
     "exception": false,
     "start_time": "2021-10-10T00:22:21.163565",
     "status": "completed"
    },
    "tags": []
   },
   "outputs": [],
   "source": [
    "lr_learner = Learner(loss, model_lr, opt, config.num_epochs)\n",
    "acc_lr = ClfCallback(lr_learner, config.bs, training_data_x , testing_data_x, training_data_y, testing_data_y)\n",
    "lr_learner.set_callbacks([acc_lr])"
   ]
  },
  {
   "cell_type": "code",
   "execution_count": 22,
   "id": "d9b133c3",
   "metadata": {
    "execution": {
     "iopub.execute_input": "2021-10-10T00:22:21.294462Z",
     "iopub.status.busy": "2021-10-10T00:22:21.293832Z",
     "iopub.status.idle": "2021-10-10T00:24:40.286496Z",
     "shell.execute_reply": "2021-10-10T00:24:40.287301Z"
    },
    "papermill": {
     "duration": 139.031535,
     "end_time": "2021-10-10T00:24:40.287455",
     "exception": false,
     "start_time": "2021-10-10T00:22:21.255920",
     "status": "completed"
    },
    "tags": []
   },
   "outputs": [
    {
     "name": "stdout",
     "output_type": "stream",
     "text": [
      "Epoch 0, Loss 0.2222\n",
      "Training Accuracy: 0.7982, Testing Accuracy: 0.7858\n",
      "\n"
     ]
    },
    {
     "name": "stdout",
     "output_type": "stream",
     "text": [
      "Epoch 10, Loss 0.0831\n",
      "Training Accuracy: 0.9238, Testing Accuracy: 0.9325\n",
      "\n"
     ]
    },
    {
     "name": "stdout",
     "output_type": "stream",
     "text": [
      "Epoch 20, Loss 0.0538\n",
      "Training Accuracy: 0.9460, Testing Accuracy: 0.9486\n",
      "\n"
     ]
    },
    {
     "name": "stdout",
     "output_type": "stream",
     "text": [
      "Epoch 30, Loss 0.0432\n",
      "Training Accuracy: 0.9532, Testing Accuracy: 0.9587\n",
      "\n"
     ]
    },
    {
     "name": "stdout",
     "output_type": "stream",
     "text": [
      "Epoch 40, Loss 0.0378\n",
      "Training Accuracy: 0.9586, Testing Accuracy: 0.9637\n",
      "\n"
     ]
    },
    {
     "name": "stdout",
     "output_type": "stream",
     "text": [
      "Epoch 50, Loss 0.0344\n",
      "Training Accuracy: 0.9614, Testing Accuracy: 0.9657\n",
      "\n"
     ]
    },
    {
     "name": "stdout",
     "output_type": "stream",
     "text": [
      "Epoch 60, Loss 0.032\n",
      "Training Accuracy: 0.9638, Testing Accuracy: 0.9662\n",
      "\n"
     ]
    },
    {
     "name": "stdout",
     "output_type": "stream",
     "text": [
      "Epoch 70, Loss 0.0302\n",
      "Training Accuracy: 0.9664, Testing Accuracy: 0.9682\n",
      "\n"
     ]
    },
    {
     "name": "stdout",
     "output_type": "stream",
     "text": [
      "Epoch 80, Loss 0.0288\n",
      "Training Accuracy: 0.9675, Testing Accuracy: 0.9682\n",
      "\n"
     ]
    },
    {
     "name": "stdout",
     "output_type": "stream",
     "text": [
      "Epoch 90, Loss 0.0276\n",
      "Training Accuracy: 0.9681, Testing Accuracy: 0.9693\n",
      "\n"
     ]
    },
    {
     "name": "stdout",
     "output_type": "stream",
     "text": [
      "Epoch 100, Loss 0.0266\n",
      "Training Accuracy: 0.9690, Testing Accuracy: 0.9703\n",
      "\n"
     ]
    },
    {
     "name": "stdout",
     "output_type": "stream",
     "text": [
      "Epoch 110, Loss 0.0258\n",
      "Training Accuracy: 0.9699, Testing Accuracy: 0.9713\n",
      "\n"
     ]
    },
    {
     "name": "stdout",
     "output_type": "stream",
     "text": [
      "Epoch 120, Loss 0.025\n",
      "Training Accuracy: 0.9707, Testing Accuracy: 0.9718\n",
      "\n"
     ]
    },
    {
     "name": "stdout",
     "output_type": "stream",
     "text": [
      "Epoch 130, Loss 0.0244\n",
      "Training Accuracy: 0.9718, Testing Accuracy: 0.9718\n",
      "\n"
     ]
    },
    {
     "name": "stdout",
     "output_type": "stream",
     "text": [
      "Epoch 140, Loss 0.0238\n",
      "Training Accuracy: 0.9724, Testing Accuracy: 0.9723\n",
      "\n"
     ]
    },
    {
     "name": "stdout",
     "output_type": "stream",
     "text": [
      "Epoch 150, Loss 0.0232\n",
      "Training Accuracy: 0.9730, Testing Accuracy: 0.9728\n",
      "\n"
     ]
    },
    {
     "name": "stdout",
     "output_type": "stream",
     "text": [
      "Epoch 160, Loss 0.0227\n",
      "Training Accuracy: 0.9736, Testing Accuracy: 0.9728\n",
      "\n"
     ]
    },
    {
     "name": "stdout",
     "output_type": "stream",
     "text": [
      "Epoch 170, Loss 0.0223\n",
      "Training Accuracy: 0.9746, Testing Accuracy: 0.9738\n",
      "\n"
     ]
    },
    {
     "name": "stdout",
     "output_type": "stream",
     "text": [
      "Epoch 180, Loss 0.0218\n",
      "Training Accuracy: 0.9752, Testing Accuracy: 0.9753\n",
      "\n"
     ]
    },
    {
     "name": "stdout",
     "output_type": "stream",
     "text": [
      "Epoch 190, Loss 0.0214\n",
      "Training Accuracy: 0.9755, Testing Accuracy: 0.9748\n",
      "\n"
     ]
    },
    {
     "name": "stdout",
     "output_type": "stream",
     "text": [
      "Epoch 200, Loss 0.021\n",
      "Training Accuracy: 0.9764, Testing Accuracy: 0.9753\n",
      "\n"
     ]
    },
    {
     "name": "stdout",
     "output_type": "stream",
     "text": [
      "Epoch 210, Loss 0.0206\n",
      "Training Accuracy: 0.9765, Testing Accuracy: 0.9753\n",
      "\n"
     ]
    },
    {
     "name": "stdout",
     "output_type": "stream",
     "text": [
      "Epoch 220, Loss 0.0202\n",
      "Training Accuracy: 0.9770, Testing Accuracy: 0.9753\n",
      "\n"
     ]
    },
    {
     "name": "stdout",
     "output_type": "stream",
     "text": [
      "Epoch 230, Loss 0.0199\n",
      "Training Accuracy: 0.9774, Testing Accuracy: 0.9763\n",
      "\n"
     ]
    },
    {
     "name": "stdout",
     "output_type": "stream",
     "text": [
      "Epoch 240, Loss 0.0196\n",
      "Training Accuracy: 0.9780, Testing Accuracy: 0.9763\n",
      "\n"
     ]
    },
    {
     "data": {
      "text/plain": [
       "0.06336765193005749"
      ]
     },
     "execution_count": 22,
     "metadata": {},
     "output_type": "execute_result"
    }
   ],
   "source": [
    "nn_learner.train_loop(dl)"
   ]
  },
  {
   "cell_type": "code",
   "execution_count": 23,
   "id": "e0163366",
   "metadata": {
    "execution": {
     "iopub.execute_input": "2021-10-10T00:24:40.412589Z",
     "iopub.status.busy": "2021-10-10T00:24:40.411867Z",
     "iopub.status.idle": "2021-10-10T00:25:00.146084Z",
     "shell.execute_reply": "2021-10-10T00:25:00.147090Z"
    },
    "papermill": {
     "duration": 19.819887,
     "end_time": "2021-10-10T00:25:00.147274",
     "exception": false,
     "start_time": "2021-10-10T00:24:40.327387",
     "status": "completed"
    },
    "tags": []
   },
   "outputs": [
    {
     "name": "stdout",
     "output_type": "stream",
     "text": [
      "Epoch 0, Loss 0.2406\n",
      "Training Accuracy: 0.6894, Testing Accuracy: 0.7051\n",
      "\n"
     ]
    },
    {
     "name": "stdout",
     "output_type": "stream",
     "text": [
      "Epoch 10, Loss 0.1046\n",
      "Training Accuracy: 0.9054, Testing Accuracy: 0.9254\n",
      "\n"
     ]
    },
    {
     "name": "stdout",
     "output_type": "stream",
     "text": [
      "Epoch 20, Loss 0.0805\n",
      "Training Accuracy: 0.9252, Testing Accuracy: 0.9395\n",
      "\n"
     ]
    },
    {
     "name": "stdout",
     "output_type": "stream",
     "text": [
      "Epoch 30, Loss 0.0692\n",
      "Training Accuracy: 0.9341, Testing Accuracy: 0.9486\n",
      "\n"
     ]
    },
    {
     "name": "stdout",
     "output_type": "stream",
     "text": [
      "Epoch 40, Loss 0.0624\n",
      "Training Accuracy: 0.9398, Testing Accuracy: 0.9526\n",
      "\n"
     ]
    },
    {
     "name": "stdout",
     "output_type": "stream",
     "text": [
      "Epoch 50, Loss 0.0577\n",
      "Training Accuracy: 0.9431, Testing Accuracy: 0.9567\n",
      "\n"
     ]
    },
    {
     "name": "stdout",
     "output_type": "stream",
     "text": [
      "Epoch 60, Loss 0.0543\n",
      "Training Accuracy: 0.9458, Testing Accuracy: 0.9607\n",
      "\n"
     ]
    },
    {
     "name": "stdout",
     "output_type": "stream",
     "text": [
      "Epoch 70, Loss 0.0517\n",
      "Training Accuracy: 0.9488, Testing Accuracy: 0.9627\n",
      "\n"
     ]
    },
    {
     "name": "stdout",
     "output_type": "stream",
     "text": [
      "Epoch 80, Loss 0.0496\n",
      "Training Accuracy: 0.9508, Testing Accuracy: 0.9632\n",
      "\n"
     ]
    },
    {
     "name": "stdout",
     "output_type": "stream",
     "text": [
      "Epoch 90, Loss 0.0478\n",
      "Training Accuracy: 0.9518, Testing Accuracy: 0.9652\n",
      "\n"
     ]
    },
    {
     "name": "stdout",
     "output_type": "stream",
     "text": [
      "Epoch 100, Loss 0.0464\n",
      "Training Accuracy: 0.9524, Testing Accuracy: 0.9657\n",
      "\n"
     ]
    },
    {
     "name": "stdout",
     "output_type": "stream",
     "text": [
      "Epoch 110, Loss 0.0451\n",
      "Training Accuracy: 0.9529, Testing Accuracy: 0.9662\n",
      "\n"
     ]
    },
    {
     "name": "stdout",
     "output_type": "stream",
     "text": [
      "Epoch 120, Loss 0.044\n",
      "Training Accuracy: 0.9540, Testing Accuracy: 0.9672\n",
      "\n"
     ]
    },
    {
     "name": "stdout",
     "output_type": "stream",
     "text": [
      "Epoch 130, Loss 0.0431\n",
      "Training Accuracy: 0.9553, Testing Accuracy: 0.9667\n",
      "\n"
     ]
    },
    {
     "name": "stdout",
     "output_type": "stream",
     "text": [
      "Epoch 140, Loss 0.0422\n",
      "Training Accuracy: 0.9555, Testing Accuracy: 0.9667\n",
      "\n"
     ]
    },
    {
     "name": "stdout",
     "output_type": "stream",
     "text": [
      "Epoch 150, Loss 0.0415\n",
      "Training Accuracy: 0.9561, Testing Accuracy: 0.9667\n",
      "\n"
     ]
    },
    {
     "name": "stdout",
     "output_type": "stream",
     "text": [
      "Epoch 160, Loss 0.0408\n",
      "Training Accuracy: 0.9567, Testing Accuracy: 0.9672\n",
      "\n"
     ]
    },
    {
     "name": "stdout",
     "output_type": "stream",
     "text": [
      "Epoch 170, Loss 0.0402\n",
      "Training Accuracy: 0.9574, Testing Accuracy: 0.9677\n",
      "\n"
     ]
    },
    {
     "name": "stdout",
     "output_type": "stream",
     "text": [
      "Epoch 180, Loss 0.0396\n",
      "Training Accuracy: 0.9579, Testing Accuracy: 0.9672\n",
      "\n"
     ]
    },
    {
     "name": "stdout",
     "output_type": "stream",
     "text": [
      "Epoch 190, Loss 0.0391\n",
      "Training Accuracy: 0.9585, Testing Accuracy: 0.9672\n",
      "\n"
     ]
    },
    {
     "name": "stdout",
     "output_type": "stream",
     "text": [
      "Epoch 200, Loss 0.0386\n",
      "Training Accuracy: 0.9585, Testing Accuracy: 0.9677\n",
      "\n"
     ]
    },
    {
     "name": "stdout",
     "output_type": "stream",
     "text": [
      "Epoch 210, Loss 0.0381\n",
      "Training Accuracy: 0.9591, Testing Accuracy: 0.9677\n",
      "\n"
     ]
    },
    {
     "name": "stdout",
     "output_type": "stream",
     "text": [
      "Epoch 220, Loss 0.0377\n",
      "Training Accuracy: 0.9592, Testing Accuracy: 0.9677\n",
      "\n"
     ]
    },
    {
     "name": "stdout",
     "output_type": "stream",
     "text": [
      "Epoch 230, Loss 0.0373\n",
      "Training Accuracy: 0.9594, Testing Accuracy: 0.9677\n",
      "\n"
     ]
    },
    {
     "name": "stdout",
     "output_type": "stream",
     "text": [
      "Epoch 240, Loss 0.037\n",
      "Training Accuracy: 0.9599, Testing Accuracy: 0.9667\n",
      "\n"
     ]
    },
    {
     "data": {
      "text/plain": [
       "0.027667729926642293"
      ]
     },
     "execution_count": 23,
     "metadata": {},
     "output_type": "execute_result"
    }
   ],
   "source": [
    "lr_learner.train_loop(dl)"
   ]
  },
  {
   "cell_type": "code",
   "execution_count": 24,
   "id": "ca410940",
   "metadata": {
    "execution": {
     "iopub.execute_input": "2021-10-10T00:25:00.265442Z",
     "iopub.status.busy": "2021-10-10T00:25:00.264831Z",
     "iopub.status.idle": "2021-10-10T00:25:00.549764Z",
     "shell.execute_reply": "2021-10-10T00:25:00.548891Z"
    },
    "papermill": {
     "duration": 0.350136,
     "end_time": "2021-10-10T00:25:00.549919",
     "exception": false,
     "start_time": "2021-10-10T00:25:00.199783",
     "status": "completed"
    },
    "tags": []
   },
   "outputs": [
    {
     "data": {
      "text/plain": [
       "<matplotlib.legend.Legend at 0x7faba227d908>"
      ]
     },
     "execution_count": 24,
     "metadata": {},
     "output_type": "execute_result"
    },
    {
     "data": {
      "image/png": "[encoded data removed]",
      "text/plain": [
       "<Figure size 1080x720 with 1 Axes>"
      ]
     },
     "metadata": {
      "needs_background": "light"
     },
     "output_type": "display_data"
    }
   ],
   "source": [
    "#comparing the results of NN and LR\n",
    "plt.figure(figsize=(15,10))\n",
    "\n",
    "# Neural Network plots\n",
    "plt.plot(acc_nn.accuracies, 'r-', label = \"Training Accuracies - NN\")\n",
    "plt.plot(acc_nn.test_accuracies, 'g-', label = \"Testing Accuracies - NN\")\n",
    "\n",
    "# Logistic Regression plots\n",
    "plt.plot(acc_lr.accuracies, 'k-', label = \"Training Accuracies - LR\")\n",
    "plt.plot(acc_lr.test_accuracies, 'b-', label = \"Testing Accuracies - LR\")\n",
    "plt.legend()"
   ]
  },
  {
   "cell_type": "markdown",
   "id": "80dfb35c",
   "metadata": {
    "papermill": {
     "duration": 0.049868,
     "end_time": "2021-10-10T00:25:00.648787",
     "exception": false,
     "start_time": "2021-10-10T00:25:00.598919",
     "status": "completed"
    },
    "tags": []
   },
   "source": [
    "#### Plotting the outputs of this layer of the NN.\n"
   ]
  },
  {
   "cell_type": "code",
   "execution_count": 25,
   "id": "45eb2ff5",
   "metadata": {
    "execution": {
     "iopub.execute_input": "2021-10-10T00:25:00.753174Z",
     "iopub.status.busy": "2021-10-10T00:25:00.752534Z",
     "iopub.status.idle": "2021-10-10T00:25:00.779159Z",
     "shell.execute_reply": "2021-10-10T00:25:00.779700Z"
    },
    "papermill": {
     "duration": 0.079977,
     "end_time": "2021-10-10T00:25:00.779859",
     "exception": false,
     "start_time": "2021-10-10T00:25:00.699882",
     "status": "completed"
    },
    "tags": []
   },
   "outputs": [],
   "source": [
    "new_model = Model(layers[:-2])\n",
    "testing_plot = new_model(testing_data_x)"
   ]
  },
  {
   "cell_type": "code",
   "execution_count": 26,
   "id": "4c0a5485",
   "metadata": {
    "execution": {
     "iopub.execute_input": "2021-10-10T00:25:00.889458Z",
     "iopub.status.busy": "2021-10-10T00:25:00.888146Z",
     "iopub.status.idle": "2021-10-10T00:25:01.125769Z",
     "shell.execute_reply": "2021-10-10T00:25:01.126240Z"
    },
    "papermill": {
     "duration": 0.294952,
     "end_time": "2021-10-10T00:25:01.126366",
     "exception": false,
     "start_time": "2021-10-10T00:25:00.831414",
     "status": "completed"
    },
    "tags": []
   },
   "outputs": [
    {
     "data": {
      "text/plain": [
       "Text(0.5, 1.0, 'Outputs')"
      ]
     },
     "execution_count": 26,
     "metadata": {},
     "output_type": "execute_result"
    },
    {
     "data": {
      "image/png": "[encoded data removed]",
      "text/plain": [
       "<Figure size 576x504 with 1 Axes>"
      ]
     },
     "metadata": {
      "needs_background": "light"
     },
     "output_type": "display_data"
    }
   ],
   "source": [
    "# Plotting the scatter plot of points and color coding by class\n",
    "plt.figure(figsize=(8,7))\n",
    "plt.scatter(testing_plot[:,0], testing_plot[:,1], alpha = 0.1, c = y_test.ravel());\n",
    "plt.title('Outputs')"
   ]
  },
  {
   "cell_type": "markdown",
   "id": "a74fcf8f",
   "metadata": {
    "papermill": {
     "duration": 0.051111,
     "end_time": "2021-10-10T00:25:01.224296",
     "exception": false,
     "start_time": "2021-10-10T00:25:01.173185",
     "status": "completed"
    },
    "tags": []
   },
   "source": [
    "Probability contours"
   ]
  },
  {
   "cell_type": "code",
   "execution_count": 27,
   "id": "d0afc8e3",
   "metadata": {
    "execution": {
     "iopub.execute_input": "2021-10-10T00:25:01.365408Z",
     "iopub.status.busy": "2021-10-10T00:25:01.364810Z",
     "iopub.status.idle": "2021-10-10T00:25:01.374784Z",
     "shell.execute_reply": "2021-10-10T00:25:01.375266Z"
    },
    "papermill": {
     "duration": 0.096566,
     "end_time": "2021-10-10T00:25:01.375420",
     "exception": false,
     "start_time": "2021-10-10T00:25:01.278854",
     "status": "completed"
    },
    "tags": []
   },
   "outputs": [],
   "source": [
    "model_prob = Model(layers[-2:]) "
   ]
  },
  {
   "cell_type": "code",
   "execution_count": 28,
   "id": "9b96e238",
   "metadata": {
    "execution": {
     "iopub.execute_input": "2021-10-10T00:25:01.482670Z",
     "iopub.status.busy": "2021-10-10T00:25:01.481059Z",
     "iopub.status.idle": "2021-10-10T00:25:01.499232Z",
     "shell.execute_reply": "2021-10-10T00:25:01.498604Z"
    },
    "papermill": {
     "duration": 0.072457,
     "end_time": "2021-10-10T00:25:01.499347",
     "exception": false,
     "start_time": "2021-10-10T00:25:01.426890",
     "status": "completed"
    },
    "tags": []
   },
   "outputs": [],
   "source": [
    "#creating the x and y ranges according to the above generated plot.\n",
    "x_range = np.linspace(-4, 1, 100) \n",
    "y_range = np.linspace(-6, 6, 100) \n",
    "x_grid, y_grid = np.meshgrid(x_range, y_range) # x_grid and y_grig are of size 100 X 100\n",
    "\n",
    "# converting x_grid and y_grid to continuous arrays\n",
    "x_gridflat = np.ravel(x_grid)\n",
    "y_gridflat = np.ravel(y_grid)\n",
    "\n",
    "# The last layer of the current model takes two columns as input. Hence transpose of np.vstack() is required.\n",
    "X = np.vstack((x_gridflat, y_gridflat)).T\n",
    "\n",
    "prob_contour = model_prob(X).reshape(100,100) "
   ]
  },
  {
   "cell_type": "code",
   "execution_count": 29,
   "id": "da72499a",
   "metadata": {
    "execution": {
     "iopub.execute_input": "2021-10-10T00:25:01.618964Z",
     "iopub.status.busy": "2021-10-10T00:25:01.618172Z",
     "iopub.status.idle": "2021-10-10T00:25:01.937361Z",
     "shell.execute_reply": "2021-10-10T00:25:01.936717Z"
    },
    "papermill": {
     "duration": 0.380096,
     "end_time": "2021-10-10T00:25:01.937484",
     "exception": false,
     "start_time": "2021-10-10T00:25:01.557388",
     "status": "completed"
    },
    "tags": []
   },
   "outputs": [
    {
     "data": {
      "image/png": "[encoded data removed]",
      "text/plain": [
       "<Figure size 720x648 with 1 Axes>"
      ]
     },
     "metadata": {
      "needs_background": "light"
     },
     "output_type": "display_data"
    }
   ],
   "source": [
    "plt.figure(figsize=(10,9))\n",
    "plt.scatter(testing_plot[:,0], testing_plot[:,1], alpha = 0.1, c = y_test.ravel())\n",
    "contours = plt.contour(x_grid,y_grid,prob_contour)\n",
    "plt.title('Probability Contours')\n",
    "plt.clabel(contours, inline = True );"
   ]
  },
  {
   "cell_type": "code",
   "execution_count": null,
   "id": "e81b4ac7",
   "metadata": {
    "papermill": {
     "duration": 0.049754,
     "end_time": "2021-10-10T00:25:02.037433",
     "exception": false,
     "start_time": "2021-10-10T00:25:01.987679",
     "status": "completed"
    },
    "tags": []
   },
   "outputs": [],
   "source": []
  }
 ],
 "metadata": {
  "kernelspec": {
   "display_name": "Python 3",
   "language": "python",
   "name": "python3"
  },
  "language_info": {
   "codemirror_mode": {
    "name": "ipython",
    "version": 3
   },
   "file_extension": ".py",
   "mimetype": "text/x-python",
   "name": "python",
   "nbconvert_exporter": "python",
   "pygments_lexer": "ipython3",
   "version": "3.6.15"
  },
  "papermill": {
   "default_parameters": {},
   "duration": 168.191747,
   "end_time": "2021-10-10T00:25:02.396261",
   "environment_variables": {},
   "exception": null,
   "input_path": "2020-08-11-part2.ipynb",
   "output_path": "2020-08-11-part2.ipynb",
   "parameters": {},
   "start_time": "2021-10-10T00:22:14.204514",
   "version": "2.3.3"
  }
 },
 "nbformat": 4,
 "nbformat_minor": 5
}