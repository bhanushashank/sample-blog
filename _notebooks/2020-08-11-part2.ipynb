{
 "cells": [
  {
   "cell_type": "markdown",
   "id": "98380cd3",
   "metadata": {
    "papermill": {
     "duration": 0.038768,
     "end_time": "2022-10-14T01:03:08.898923",
     "exception": false,
     "start_time": "2022-10-14T01:03:08.860155",
     "status": "completed"
    },
    "tags": []
   },
   "source": [
    "# Distinguish Your Own Digits (DYOD)"
   ]
  },
  {
   "cell_type": "markdown",
   "id": "ef31240d",
   "metadata": {
    "papermill": {
     "duration": 0.036168,
     "end_time": "2022-10-14T01:03:08.967406",
     "exception": false,
     "start_time": "2022-10-14T01:03:08.931238",
     "status": "completed"
    },
    "tags": []
   },
   "source": [
    "You are going to write a classifier that distinguishes between the number 3 and number 8."
   ]
  },
  {
   "cell_type": "code",
   "execution_count": 1,
   "id": "b15c8646",
   "metadata": {
    "execution": {
     "iopub.execute_input": "2022-10-14T01:03:09.046808Z",
     "iopub.status.busy": "2022-10-14T01:03:09.046005Z",
     "iopub.status.idle": "2022-10-14T01:03:09.056857Z",
     "shell.execute_reply": "2022-10-14T01:03:09.057655Z"
    },
    "papermill": {
     "duration": 0.058542,
     "end_time": "2022-10-14T01:03:09.057868",
     "exception": false,
     "start_time": "2022-10-14T01:03:08.999326",
     "status": "completed"
    },
    "tags": []
   },
   "outputs": [],
   "source": [
    "%load_ext autoreload\n",
    "%autoreload 2"
   ]
  },
  {
   "cell_type": "code",
   "execution_count": 2,
   "id": "22ef38dc",
   "metadata": {
    "execution": {
     "iopub.execute_input": "2022-10-14T01:03:09.130871Z",
     "iopub.status.busy": "2022-10-14T01:03:09.130012Z",
     "iopub.status.idle": "2022-10-14T01:03:09.869298Z",
     "shell.execute_reply": "2022-10-14T01:03:09.868581Z"
    },
    "papermill": {
     "duration": 0.777702,
     "end_time": "2022-10-14T01:03:09.869542",
     "exception": false,
     "start_time": "2022-10-14T01:03:09.091840",
     "status": "completed"
    },
    "tags": []
   },
   "outputs": [],
   "source": [
    "%matplotlib inline\n",
    "import numpy as np\n",
    "import matplotlib.pyplot as plt\n",
    "import pandas as pd"
   ]
  },
  {
   "cell_type": "markdown",
   "id": "ba036198",
   "metadata": {
    "papermill": {
     "duration": 0.035535,
     "end_time": "2022-10-14T01:03:09.938413",
     "exception": false,
     "start_time": "2022-10-14T01:03:09.902878",
     "status": "completed"
    },
    "tags": []
   },
   "source": [
    "From the command line run `pip install mnist`. This is a library that will help you bring down the mnist dataset. If you run this from a notebook, you need to put  `!pip install mnist` in a cell by itself."
   ]
  },
  {
   "cell_type": "code",
   "execution_count": 3,
   "id": "bb6ad8a1",
   "metadata": {
    "execution": {
     "iopub.execute_input": "2022-10-14T01:03:10.018597Z",
     "iopub.status.busy": "2022-10-14T01:03:10.017835Z",
     "iopub.status.idle": "2022-10-14T01:03:12.427186Z",
     "shell.execute_reply": "2022-10-14T01:03:12.426119Z"
    },
    "papermill": {
     "duration": 2.44813,
     "end_time": "2022-10-14T01:03:12.427344",
     "exception": false,
     "start_time": "2022-10-14T01:03:09.979214",
     "status": "completed"
    },
    "tags": []
   },
   "outputs": [
    {
     "name": "stdout",
     "output_type": "stream",
     "text": [
      "Collecting mnist\r\n"
     ]
    },
    {
     "name": "stdout",
     "output_type": "stream",
     "text": [
      "  Downloading mnist-0.2.2-py2.py3-none-any.whl (3.5 kB)\r\n",
      "Requirement already satisfied: numpy in /opt/hostedtoolcache/Python/3.6.15/x64/lib/python3.6/site-packages (from mnist) (1.19.5)\r\n"
     ]
    },
    {
     "name": "stdout",
     "output_type": "stream",
     "text": [
      "Installing collected packages: mnist\r\n"
     ]
    },
    {
     "name": "stdout",
     "output_type": "stream",
     "text": [
      "Successfully installed mnist-0.2.2\r\n"
     ]
    }
   ],
   "source": [
    "!pip install mnist"
   ]
  },
  {
   "cell_type": "markdown",
   "id": "69df9c9a",
   "metadata": {
    "papermill": {
     "duration": 0.035201,
     "end_time": "2022-10-14T01:03:12.502611",
     "exception": false,
     "start_time": "2022-10-14T01:03:12.467410",
     "status": "completed"
    },
    "tags": []
   },
   "source": [
    "## Preparing the Data"
   ]
  },
  {
   "cell_type": "code",
   "execution_count": 4,
   "id": "7f69d806",
   "metadata": {
    "execution": {
     "iopub.execute_input": "2022-10-14T01:03:12.584295Z",
     "iopub.status.busy": "2022-10-14T01:03:12.583532Z",
     "iopub.status.idle": "2022-10-14T01:03:12.600464Z",
     "shell.execute_reply": "2022-10-14T01:03:12.599740Z"
    },
    "papermill": {
     "duration": 0.065072,
     "end_time": "2022-10-14T01:03:12.600618",
     "exception": false,
     "start_time": "2022-10-14T01:03:12.535546",
     "status": "completed"
    },
    "tags": []
   },
   "outputs": [],
   "source": [
    "import mnist"
   ]
  },
  {
   "cell_type": "code",
   "execution_count": 5,
   "id": "a411e44f",
   "metadata": {
    "execution": {
     "iopub.execute_input": "2022-10-14T01:03:12.680945Z",
     "iopub.status.busy": "2022-10-14T01:03:12.680200Z",
     "iopub.status.idle": "2022-10-14T01:03:13.307483Z",
     "shell.execute_reply": "2022-10-14T01:03:13.308074Z"
    },
    "papermill": {
     "duration": 0.673526,
     "end_time": "2022-10-14T01:03:13.308339",
     "exception": false,
     "start_time": "2022-10-14T01:03:12.634813",
     "status": "completed"
    },
    "tags": []
   },
   "outputs": [],
   "source": [
    "train_images = mnist.train_images()\n",
    "train_labels = mnist.train_labels()"
   ]
  },
  {
   "cell_type": "code",
   "execution_count": 6,
   "id": "dceab3a5",
   "metadata": {
    "execution": {
     "iopub.execute_input": "2022-10-14T01:03:13.387915Z",
     "iopub.status.busy": "2022-10-14T01:03:13.387144Z",
     "iopub.status.idle": "2022-10-14T01:03:13.406066Z",
     "shell.execute_reply": "2022-10-14T01:03:13.405432Z"
    },
    "papermill": {
     "duration": 0.059097,
     "end_time": "2022-10-14T01:03:13.406284",
     "exception": false,
     "start_time": "2022-10-14T01:03:13.347187",
     "status": "completed"
    },
    "tags": []
   },
   "outputs": [
    {
     "data": {
      "text/plain": [
       "((60000, 28, 28), (60000,))"
      ]
     },
     "execution_count": 6,
     "metadata": {},
     "output_type": "execute_result"
    }
   ],
   "source": [
    "train_images.shape, train_labels.shape"
   ]
  },
  {
   "cell_type": "code",
   "execution_count": 7,
   "id": "f50dc2bb",
   "metadata": {
    "execution": {
     "iopub.execute_input": "2022-10-14T01:03:13.481828Z",
     "iopub.status.busy": "2022-10-14T01:03:13.481077Z",
     "iopub.status.idle": "2022-10-14T01:03:13.613479Z",
     "shell.execute_reply": "2022-10-14T01:03:13.612649Z"
    },
    "papermill": {
     "duration": 0.173738,
     "end_time": "2022-10-14T01:03:13.613632",
     "exception": false,
     "start_time": "2022-10-14T01:03:13.439894",
     "status": "completed"
    },
    "tags": []
   },
   "outputs": [],
   "source": [
    "test_images = mnist.test_images()\n",
    "test_labels = mnist.test_labels()"
   ]
  },
  {
   "cell_type": "code",
   "execution_count": 8,
   "id": "fc38cf1b",
   "metadata": {
    "execution": {
     "iopub.execute_input": "2022-10-14T01:03:13.686269Z",
     "iopub.status.busy": "2022-10-14T01:03:13.685516Z",
     "iopub.status.idle": "2022-10-14T01:03:13.702230Z",
     "shell.execute_reply": "2022-10-14T01:03:13.702831Z"
    },
    "papermill": {
     "duration": 0.055268,
     "end_time": "2022-10-14T01:03:13.703003",
     "exception": false,
     "start_time": "2022-10-14T01:03:13.647735",
     "status": "completed"
    },
    "tags": []
   },
   "outputs": [
    {
     "data": {
      "text/plain": [
       "((10000, 28, 28), (10000,))"
      ]
     },
     "execution_count": 8,
     "metadata": {},
     "output_type": "execute_result"
    }
   ],
   "source": [
    "test_images.shape, test_labels.shape"
   ]
  },
  {
   "cell_type": "code",
   "execution_count": 9,
   "id": "f9ed8fe0",
   "metadata": {
    "execution": {
     "iopub.execute_input": "2022-10-14T01:03:13.777940Z",
     "iopub.status.busy": "2022-10-14T01:03:13.777094Z",
     "iopub.status.idle": "2022-10-14T01:03:13.979960Z",
     "shell.execute_reply": "2022-10-14T01:03:13.980677Z"
    },
    "papermill": {
     "duration": 0.24436,
     "end_time": "2022-10-14T01:03:13.980869",
     "exception": false,
     "start_time": "2022-10-14T01:03:13.736509",
     "status": "completed"
    },
    "tags": []
   },
   "outputs": [
    {
     "name": "stdout",
     "output_type": "stream",
     "text": [
      "2\n"
     ]
    },
    {
     "data": {
      "text/plain": [
       "<matplotlib.image.AxesImage at 0x7fd136363cc0>"
      ]
     },
     "execution_count": 9,
     "metadata": {},
     "output_type": "execute_result"
    },
    {
     "data": {
      "image/png": "[encoded data removed]",
      "text/plain": [
       "<Figure size 432x288 with 1 Axes>"
      ]
     },
     "metadata": {
      "needs_background": "light"
     },
     "output_type": "display_data"
    }
   ],
   "source": [
    "image_index = 7776 # You may select anything up to 60,000\n",
    "print(train_labels[image_index]) \n",
    "plt.imshow(train_images[image_index], cmap='Greys')"
   ]
  },
  {
   "cell_type": "markdown",
   "id": "a8d2388d",
   "metadata": {
    "papermill": {
     "duration": 0.036728,
     "end_time": "2022-10-14T01:03:14.054052",
     "exception": false,
     "start_time": "2022-10-14T01:03:14.017324",
     "status": "completed"
    },
    "tags": []
   },
   "source": [
    "## Filter data to get 3 and 8 out"
   ]
  },
  {
   "cell_type": "code",
   "execution_count": 10,
   "id": "776f7fc7",
   "metadata": {
    "execution": {
     "iopub.execute_input": "2022-10-14T01:03:14.133888Z",
     "iopub.status.busy": "2022-10-14T01:03:14.132797Z",
     "iopub.status.idle": "2022-10-14T01:03:14.156727Z",
     "shell.execute_reply": "2022-10-14T01:03:14.155994Z"
    },
    "papermill": {
     "duration": 0.067238,
     "end_time": "2022-10-14T01:03:14.156894",
     "exception": false,
     "start_time": "2022-10-14T01:03:14.089656",
     "status": "completed"
    },
    "tags": []
   },
   "outputs": [],
   "source": [
    "train_filter = np.where((train_labels == 3 ) | (train_labels == 8))\n",
    "test_filter = np.where((test_labels == 3) | (test_labels == 8))\n",
    "X_train, y_train = train_images[train_filter], train_labels[train_filter]\n",
    "X_test, y_test = test_images[test_filter], test_labels[test_filter]"
   ]
  },
  {
   "cell_type": "markdown",
   "id": "948f0b7e",
   "metadata": {
    "papermill": {
     "duration": 0.03623,
     "end_time": "2022-10-14T01:03:14.227816",
     "exception": false,
     "start_time": "2022-10-14T01:03:14.191586",
     "status": "completed"
    },
    "tags": []
   },
   "source": [
    "We normalize the pizel values in the 0 to 1 range"
   ]
  },
  {
   "cell_type": "code",
   "execution_count": 11,
   "id": "ee4c2166",
   "metadata": {
    "execution": {
     "iopub.execute_input": "2022-10-14T01:03:14.310726Z",
     "iopub.status.busy": "2022-10-14T01:03:14.306208Z",
     "iopub.status.idle": "2022-10-14T01:03:14.375511Z",
     "shell.execute_reply": "2022-10-14T01:03:14.374643Z"
    },
    "papermill": {
     "duration": 0.108749,
     "end_time": "2022-10-14T01:03:14.375738",
     "exception": false,
     "start_time": "2022-10-14T01:03:14.266989",
     "status": "completed"
    },
    "tags": []
   },
   "outputs": [],
   "source": [
    "X_train = X_train/255.\n",
    "X_test = X_test/255."
   ]
  },
  {
   "cell_type": "markdown",
   "id": "ddcf4fab",
   "metadata": {
    "papermill": {
     "duration": 0.041103,
     "end_time": "2022-10-14T01:03:14.454816",
     "exception": false,
     "start_time": "2022-10-14T01:03:14.413713",
     "status": "completed"
    },
    "tags": []
   },
   "source": [
    "And setup the labels as 1 (when the digit is 3) and 0 (when the digit is 8)"
   ]
  },
  {
   "cell_type": "code",
   "execution_count": 12,
   "id": "7dc908f2",
   "metadata": {
    "execution": {
     "iopub.execute_input": "2022-10-14T01:03:14.533390Z",
     "iopub.status.busy": "2022-10-14T01:03:14.532583Z",
     "iopub.status.idle": "2022-10-14T01:03:14.548086Z",
     "shell.execute_reply": "2022-10-14T01:03:14.548666Z"
    },
    "papermill": {
     "duration": 0.05771,
     "end_time": "2022-10-14T01:03:14.548856",
     "exception": false,
     "start_time": "2022-10-14T01:03:14.491146",
     "status": "completed"
    },
    "tags": []
   },
   "outputs": [],
   "source": [
    "y_train = 1*(y_train==3)\n",
    "y_test = 1*(y_test==3)"
   ]
  },
  {
   "cell_type": "code",
   "execution_count": 13,
   "id": "01e4e969",
   "metadata": {
    "execution": {
     "iopub.execute_input": "2022-10-14T01:03:14.632319Z",
     "iopub.status.busy": "2022-10-14T01:03:14.631317Z",
     "iopub.status.idle": "2022-10-14T01:03:14.649869Z",
     "shell.execute_reply": "2022-10-14T01:03:14.650904Z"
    },
    "papermill": {
     "duration": 0.064448,
     "end_time": "2022-10-14T01:03:14.651085",
     "exception": false,
     "start_time": "2022-10-14T01:03:14.586637",
     "status": "completed"
    },
    "tags": []
   },
   "outputs": [
    {
     "data": {
      "text/plain": [
       "((11982, 28, 28), (1984, 28, 28))"
      ]
     },
     "execution_count": 13,
     "metadata": {},
     "output_type": "execute_result"
    }
   ],
   "source": [
    "X_train.shape, X_test.shape"
   ]
  },
  {
   "cell_type": "markdown",
   "id": "5ccf3f85",
   "metadata": {
    "papermill": {
     "duration": 0.034479,
     "end_time": "2022-10-14T01:03:14.721649",
     "exception": false,
     "start_time": "2022-10-14T01:03:14.687170",
     "status": "completed"
    },
    "tags": []
   },
   "source": [
    "We reshape the data to flatten the image pixels into a set of features or co-variates:"
   ]
  },
  {
   "cell_type": "code",
   "execution_count": 14,
   "id": "5286a4a3",
   "metadata": {
    "execution": {
     "iopub.execute_input": "2022-10-14T01:03:14.798032Z",
     "iopub.status.busy": "2022-10-14T01:03:14.797100Z",
     "iopub.status.idle": "2022-10-14T01:03:14.815897Z",
     "shell.execute_reply": "2022-10-14T01:03:14.815230Z"
    },
    "papermill": {
     "duration": 0.058989,
     "end_time": "2022-10-14T01:03:14.816052",
     "exception": false,
     "start_time": "2022-10-14T01:03:14.757063",
     "status": "completed"
    },
    "tags": []
   },
   "outputs": [
    {
     "data": {
      "text/plain": [
       "((11982, 784), (1984, 784))"
      ]
     },
     "execution_count": 14,
     "metadata": {},
     "output_type": "execute_result"
    }
   ],
   "source": [
    "X_train = X_train.reshape(X_train.shape[0], -1)\n",
    "X_test = X_test.reshape(X_test.shape[0], -1)\n",
    "X_train.shape, X_test.shape"
   ]
  },
  {
   "cell_type": "code",
   "execution_count": 15,
   "id": "73c5f88a",
   "metadata": {
    "execution": {
     "iopub.execute_input": "2022-10-14T01:03:14.899910Z",
     "iopub.status.busy": "2022-10-14T01:03:14.899130Z",
     "iopub.status.idle": "2022-10-14T01:03:14.924376Z",
     "shell.execute_reply": "2022-10-14T01:03:14.925034Z"
    },
    "papermill": {
     "duration": 0.071076,
     "end_time": "2022-10-14T01:03:14.925384",
     "exception": false,
     "start_time": "2022-10-14T01:03:14.854308",
     "status": "completed"
    },
    "tags": []
   },
   "outputs": [],
   "source": [
    "#Impoting functions from 'Kudzu'\n",
    "from kudzu.model import Model\n",
    "from kudzu.train import Learner\n",
    "from kudzu.optim import GD\n",
    "from kudzu.data import Data, Sampler,Dataloader\n",
    "\n",
    "from kudzu.callbacks import AccCallback\n",
    "from kudzu.callbacks import ClfCallback\n",
    "\n",
    "from kudzu.loss import MSE\n",
    "\n",
    "from kudzu.layer import Sigmoid,Relu\n",
    "from kudzu.layer import Affine"
   ]
  },
  {
   "cell_type": "markdown",
   "id": "bc01172a",
   "metadata": {
    "papermill": {
     "duration": 0.038519,
     "end_time": "2022-10-14T01:03:15.009147",
     "exception": false,
     "start_time": "2022-10-14T01:03:14.970628",
     "status": "completed"
    },
    "tags": []
   },
   "source": [
    "### Let us create a `Config` class, to store important parameters. \n",
    "This class essentially plays the role of a dictionary."
   ]
  },
  {
   "cell_type": "code",
   "execution_count": 16,
   "id": "978281aa",
   "metadata": {
    "execution": {
     "iopub.execute_input": "2022-10-14T01:03:15.091117Z",
     "iopub.status.busy": "2022-10-14T01:03:15.090256Z",
     "iopub.status.idle": "2022-10-14T01:03:15.105569Z",
     "shell.execute_reply": "2022-10-14T01:03:15.104889Z"
    },
    "papermill": {
     "duration": 0.057434,
     "end_time": "2022-10-14T01:03:15.105715",
     "exception": false,
     "start_time": "2022-10-14T01:03:15.048281",
     "status": "completed"
    },
    "tags": []
   },
   "outputs": [],
   "source": [
    "class Config:\n",
    "    pass\n",
    "config = Config()\n",
    "config.lr = 0.001\n",
    "config.num_epochs = 250\n",
    "config.bs = 50"
   ]
  },
  {
   "cell_type": "markdown",
   "id": "1385fa59",
   "metadata": {
    "papermill": {
     "duration": 0.036323,
     "end_time": "2022-10-14T01:03:15.177403",
     "exception": false,
     "start_time": "2022-10-14T01:03:15.141080",
     "status": "completed"
    },
    "tags": []
   },
   "source": [
    "### Running Models with the Training data\n",
    "Details about the network layers:\n",
    "- A first affine layer has 784 inputs and does 100 affine transforms. These are followed by a Relu\n",
    "- A second affine layer has 100 inputs from the 100 activations of the past layer, and does 100 affine transforms. These are followed by a Relu\n",
    "- A third affine layer has 100 activations and does 2 affine transformations to create an embedding for visualization. There is no non-linearity here.\n",
    "- A final \"logistic regression\" which has an affine transform from 2 inputs to 1 output, which is squeezed through a sigmoid.\n"
   ]
  },
  {
   "cell_type": "code",
   "execution_count": 17,
   "id": "2b9c66db",
   "metadata": {
    "execution": {
     "iopub.execute_input": "2022-10-14T01:03:15.258670Z",
     "iopub.status.busy": "2022-10-14T01:03:15.257910Z",
     "iopub.status.idle": "2022-10-14T01:03:15.271436Z",
     "shell.execute_reply": "2022-10-14T01:03:15.272070Z"
    },
    "papermill": {
     "duration": 0.058379,
     "end_time": "2022-10-14T01:03:15.272356",
     "exception": false,
     "start_time": "2022-10-14T01:03:15.213977",
     "status": "completed"
    },
    "tags": []
   },
   "outputs": [],
   "source": [
    "data = Data(X_train, y_train.reshape(-1,1))\n",
    "sampler = Sampler(data, config.bs, shuffle=True)\n",
    "\n",
    "dl = Dataloader(data, sampler)\n",
    "\n",
    "opt = GD(config.lr)\n",
    "loss = MSE()"
   ]
  },
  {
   "cell_type": "code",
   "execution_count": 18,
   "id": "b275e4c2",
   "metadata": {
    "execution": {
     "iopub.execute_input": "2022-10-14T01:03:15.349965Z",
     "iopub.status.busy": "2022-10-14T01:03:15.349164Z",
     "iopub.status.idle": "2022-10-14T01:03:15.367922Z",
     "shell.execute_reply": "2022-10-14T01:03:15.367266Z"
    },
    "papermill": {
     "duration": 0.058905,
     "end_time": "2022-10-14T01:03:15.368081",
     "exception": false,
     "start_time": "2022-10-14T01:03:15.309176",
     "status": "completed"
    },
    "tags": []
   },
   "outputs": [],
   "source": [
    "training_data_x = X_train\n",
    "testing_data_x = X_test\n",
    "training_data_y = y_train.reshape(-1,1)\n",
    "testing_data_y = y_test.reshape(-1,1)"
   ]
  },
  {
   "cell_type": "code",
   "execution_count": 19,
   "id": "76951160",
   "metadata": {
    "execution": {
     "iopub.execute_input": "2022-10-14T01:03:15.450515Z",
     "iopub.status.busy": "2022-10-14T01:03:15.449725Z",
     "iopub.status.idle": "2022-10-14T01:03:15.471019Z",
     "shell.execute_reply": "2022-10-14T01:03:15.470279Z"
    },
    "papermill": {
     "duration": 0.063569,
     "end_time": "2022-10-14T01:03:15.471166",
     "exception": false,
     "start_time": "2022-10-14T01:03:15.407597",
     "status": "completed"
    },
    "tags": []
   },
   "outputs": [
    {
     "name": "stdout",
     "output_type": "stream",
     "text": [
      "xavier\n",
      "xavier\n",
      "xavier\n",
      "xavier\n",
      "xavier\n"
     ]
    }
   ],
   "source": [
    "layers = [Affine(\"first\", 784, 100), Relu(\"first\"), Affine(\"second\", 100, 100), Relu(\"second\"), Affine(\"third\", 100, 2), Affine(\"last\", 2, 1), Sigmoid(\"last\")]\n",
    "model_nn = Model(layers)\n",
    "model_lr = Model([Affine(\"logits\", 784, 1), Sigmoid(\"sigmoid\")])"
   ]
  },
  {
   "cell_type": "code",
   "execution_count": 20,
   "id": "6eede77a",
   "metadata": {
    "execution": {
     "iopub.execute_input": "2022-10-14T01:03:15.549620Z",
     "iopub.status.busy": "2022-10-14T01:03:15.548814Z",
     "iopub.status.idle": "2022-10-14T01:03:15.563960Z",
     "shell.execute_reply": "2022-10-14T01:03:15.564989Z"
    },
    "papermill": {
     "duration": 0.058122,
     "end_time": "2022-10-14T01:03:15.565319",
     "exception": false,
     "start_time": "2022-10-14T01:03:15.507197",
     "status": "completed"
    },
    "tags": []
   },
   "outputs": [],
   "source": [
    "nn_learner = Learner(loss, model_nn, opt, config.num_epochs)\n",
    "acc_nn = ClfCallback(nn_learner, config.bs, training_data_x , testing_data_x, training_data_y, testing_data_y)\n",
    "nn_learner.set_callbacks([acc_nn])"
   ]
  },
  {
   "cell_type": "code",
   "execution_count": 21,
   "id": "877b6cc7",
   "metadata": {
    "execution": {
     "iopub.execute_input": "2022-10-14T01:03:15.652526Z",
     "iopub.status.busy": "2022-10-14T01:03:15.651759Z",
     "iopub.status.idle": "2022-10-14T01:03:15.668461Z",
     "shell.execute_reply": "2022-10-14T01:03:15.669121Z"
    },
    "papermill": {
     "duration": 0.061612,
     "end_time": "2022-10-14T01:03:15.669295",
     "exception": false,
     "start_time": "2022-10-14T01:03:15.607683",
     "status": "completed"
    },
    "tags": []
   },
   "outputs": [],
   "source": [
    "lr_learner = Learner(loss, model_lr, opt, config.num_epochs)\n",
    "acc_lr = ClfCallback(lr_learner, config.bs, training_data_x , testing_data_x, training_data_y, testing_data_y)\n",
    "lr_learner.set_callbacks([acc_lr])"
   ]
  },
  {
   "cell_type": "code",
   "execution_count": 22,
   "id": "d9b133c3",
   "metadata": {
    "execution": {
     "iopub.execute_input": "2022-10-14T01:03:15.747911Z",
     "iopub.status.busy": "2022-10-14T01:03:15.747169Z",
     "iopub.status.idle": "2022-10-14T01:05:36.191415Z",
     "shell.execute_reply": "2022-10-14T01:05:36.192598Z"
    },
    "papermill": {
     "duration": 140.486047,
     "end_time": "2022-10-14T01:05:36.192783",
     "exception": false,
     "start_time": "2022-10-14T01:03:15.706736",
     "status": "completed"
    },
    "tags": []
   },
   "outputs": [
    {
     "name": "stdout",
     "output_type": "stream",
     "text": [
      "Epoch 0, Loss 0.2464\n",
      "Training Accuracy: 0.7041, Testing Accuracy: 0.7203\n",
      "\n"
     ]
    },
    {
     "name": "stdout",
     "output_type": "stream",
     "text": [
      "Epoch 10, Loss 0.0669\n",
      "Training Accuracy: 0.9358, Testing Accuracy: 0.9486\n",
      "\n"
     ]
    },
    {
     "name": "stdout",
     "output_type": "stream",
     "text": [
      "Epoch 20, Loss 0.0454\n",
      "Training Accuracy: 0.9506, Testing Accuracy: 0.9612\n",
      "\n"
     ]
    },
    {
     "name": "stdout",
     "output_type": "stream",
     "text": [
      "Epoch 30, Loss 0.0374\n",
      "Training Accuracy: 0.9584, Testing Accuracy: 0.9672\n",
      "\n"
     ]
    },
    {
     "name": "stdout",
     "output_type": "stream",
     "text": [
      "Epoch 40, Loss 0.0331\n",
      "Training Accuracy: 0.9641, Testing Accuracy: 0.9693\n",
      "\n"
     ]
    },
    {
     "name": "stdout",
     "output_type": "stream",
     "text": [
      "Epoch 50, Loss 0.0303\n",
      "Training Accuracy: 0.9661, Testing Accuracy: 0.9733\n",
      "\n"
     ]
    },
    {
     "name": "stdout",
     "output_type": "stream",
     "text": [
      "Epoch 60, Loss 0.0283\n",
      "Training Accuracy: 0.9685, Testing Accuracy: 0.9733\n",
      "\n"
     ]
    },
    {
     "name": "stdout",
     "output_type": "stream",
     "text": [
      "Epoch 70, Loss 0.0267\n",
      "Training Accuracy: 0.9699, Testing Accuracy: 0.9728\n",
      "\n"
     ]
    },
    {
     "name": "stdout",
     "output_type": "stream",
     "text": [
      "Epoch 80, Loss 0.0255\n",
      "Training Accuracy: 0.9712, Testing Accuracy: 0.9743\n",
      "\n"
     ]
    },
    {
     "name": "stdout",
     "output_type": "stream",
     "text": [
      "Epoch 90, Loss 0.0244\n",
      "Training Accuracy: 0.9718, Testing Accuracy: 0.9748\n",
      "\n"
     ]
    },
    {
     "name": "stdout",
     "output_type": "stream",
     "text": [
      "Epoch 100, Loss 0.0235\n",
      "Training Accuracy: 0.9730, Testing Accuracy: 0.9748\n",
      "\n"
     ]
    },
    {
     "name": "stdout",
     "output_type": "stream",
     "text": [
      "Epoch 110, Loss 0.0228\n",
      "Training Accuracy: 0.9745, Testing Accuracy: 0.9758\n",
      "\n"
     ]
    },
    {
     "name": "stdout",
     "output_type": "stream",
     "text": [
      "Epoch 120, Loss 0.0221\n",
      "Training Accuracy: 0.9754, Testing Accuracy: 0.9778\n",
      "\n"
     ]
    },
    {
     "name": "stdout",
     "output_type": "stream",
     "text": [
      "Epoch 130, Loss 0.0214\n",
      "Training Accuracy: 0.9762, Testing Accuracy: 0.9778\n",
      "\n"
     ]
    },
    {
     "name": "stdout",
     "output_type": "stream",
     "text": [
      "Epoch 140, Loss 0.0209\n",
      "Training Accuracy: 0.9772, Testing Accuracy: 0.9773\n",
      "\n"
     ]
    },
    {
     "name": "stdout",
     "output_type": "stream",
     "text": [
      "Epoch 150, Loss 0.0203\n",
      "Training Accuracy: 0.9781, Testing Accuracy: 0.9768\n",
      "\n"
     ]
    },
    {
     "name": "stdout",
     "output_type": "stream",
     "text": [
      "Epoch 160, Loss 0.0198\n",
      "Training Accuracy: 0.9791, Testing Accuracy: 0.9753\n",
      "\n"
     ]
    },
    {
     "name": "stdout",
     "output_type": "stream",
     "text": [
      "Epoch 170, Loss 0.0194\n",
      "Training Accuracy: 0.9796, Testing Accuracy: 0.9753\n",
      "\n"
     ]
    },
    {
     "name": "stdout",
     "output_type": "stream",
     "text": [
      "Epoch 180, Loss 0.0189\n",
      "Training Accuracy: 0.9799, Testing Accuracy: 0.9758\n",
      "\n"
     ]
    },
    {
     "name": "stdout",
     "output_type": "stream",
     "text": [
      "Epoch 190, Loss 0.0185\n",
      "Training Accuracy: 0.9804, Testing Accuracy: 0.9758\n",
      "\n"
     ]
    },
    {
     "name": "stdout",
     "output_type": "stream",
     "text": [
      "Epoch 200, Loss 0.0181\n",
      "Training Accuracy: 0.9808, Testing Accuracy: 0.9758\n",
      "\n"
     ]
    },
    {
     "name": "stdout",
     "output_type": "stream",
     "text": [
      "Epoch 210, Loss 0.0177\n",
      "Training Accuracy: 0.9815, Testing Accuracy: 0.9763\n",
      "\n"
     ]
    },
    {
     "name": "stdout",
     "output_type": "stream",
     "text": [
      "Epoch 220, Loss 0.0174\n",
      "Training Accuracy: 0.9817, Testing Accuracy: 0.9768\n",
      "\n"
     ]
    },
    {
     "name": "stdout",
     "output_type": "stream",
     "text": [
      "Epoch 230, Loss 0.017\n",
      "Training Accuracy: 0.9821, Testing Accuracy: 0.9768\n",
      "\n"
     ]
    },
    {
     "name": "stdout",
     "output_type": "stream",
     "text": [
      "Epoch 240, Loss 0.0167\n",
      "Training Accuracy: 0.9826, Testing Accuracy: 0.9773\n",
      "\n"
     ]
    },
    {
     "data": {
      "text/plain": [
       "0.00034322382533086244"
      ]
     },
     "execution_count": 22,
     "metadata": {},
     "output_type": "execute_result"
    }
   ],
   "source": [
    "nn_learner.train_loop(dl)"
   ]
  },
  {
   "cell_type": "code",
   "execution_count": 23,
   "id": "e0163366",
   "metadata": {
    "execution": {
     "iopub.execute_input": "2022-10-14T01:05:36.301761Z",
     "iopub.status.busy": "2022-10-14T01:05:36.300801Z",
     "iopub.status.idle": "2022-10-14T01:05:57.981010Z",
     "shell.execute_reply": "2022-10-14T01:05:57.979297Z"
    },
    "papermill": {
     "duration": 21.739014,
     "end_time": "2022-10-14T01:05:57.981174",
     "exception": false,
     "start_time": "2022-10-14T01:05:36.242160",
     "status": "completed"
    },
    "tags": []
   },
   "outputs": [
    {
     "name": "stdout",
     "output_type": "stream",
     "text": [
      "Epoch 0, Loss 0.2218\n",
      "Training Accuracy: 0.7570, Testing Accuracy: 0.7702\n",
      "\n"
     ]
    },
    {
     "name": "stdout",
     "output_type": "stream",
     "text": [
      "Epoch 10, Loss 0.101\n",
      "Training Accuracy: 0.9110, Testing Accuracy: 0.9189\n",
      "\n"
     ]
    },
    {
     "name": "stdout",
     "output_type": "stream",
     "text": [
      "Epoch 20, Loss 0.0783\n",
      "Training Accuracy: 0.9282, Testing Accuracy: 0.9400\n",
      "\n"
     ]
    },
    {
     "name": "stdout",
     "output_type": "stream",
     "text": [
      "Epoch 30, Loss 0.0677\n",
      "Training Accuracy: 0.9362, Testing Accuracy: 0.9466\n",
      "\n"
     ]
    },
    {
     "name": "stdout",
     "output_type": "stream",
     "text": [
      "Epoch 40, Loss 0.0613\n",
      "Training Accuracy: 0.9417, Testing Accuracy: 0.9501\n",
      "\n"
     ]
    },
    {
     "name": "stdout",
     "output_type": "stream",
     "text": [
      "Epoch 50, Loss 0.0569\n",
      "Training Accuracy: 0.9454, Testing Accuracy: 0.9536\n",
      "\n"
     ]
    },
    {
     "name": "stdout",
     "output_type": "stream",
     "text": [
      "Epoch 60, Loss 0.0536\n",
      "Training Accuracy: 0.9478, Testing Accuracy: 0.9561\n",
      "\n"
     ]
    },
    {
     "name": "stdout",
     "output_type": "stream",
     "text": [
      "Epoch 70, Loss 0.0511\n",
      "Training Accuracy: 0.9500, Testing Accuracy: 0.9582\n",
      "\n"
     ]
    },
    {
     "name": "stdout",
     "output_type": "stream",
     "text": [
      "Epoch 80, Loss 0.0491\n",
      "Training Accuracy: 0.9514, Testing Accuracy: 0.9592\n",
      "\n"
     ]
    },
    {
     "name": "stdout",
     "output_type": "stream",
     "text": [
      "Epoch 90, Loss 0.0474\n",
      "Training Accuracy: 0.9522, Testing Accuracy: 0.9602\n",
      "\n"
     ]
    },
    {
     "name": "stdout",
     "output_type": "stream",
     "text": [
      "Epoch 100, Loss 0.046\n",
      "Training Accuracy: 0.9532, Testing Accuracy: 0.9627\n",
      "\n"
     ]
    },
    {
     "name": "stdout",
     "output_type": "stream",
     "text": [
      "Epoch 110, Loss 0.0448\n",
      "Training Accuracy: 0.9543, Testing Accuracy: 0.9637\n",
      "\n"
     ]
    },
    {
     "name": "stdout",
     "output_type": "stream",
     "text": [
      "Epoch 120, Loss 0.0438\n",
      "Training Accuracy: 0.9547, Testing Accuracy: 0.9642\n",
      "\n"
     ]
    },
    {
     "name": "stdout",
     "output_type": "stream",
     "text": [
      "Epoch 130, Loss 0.0429\n",
      "Training Accuracy: 0.9554, Testing Accuracy: 0.9642\n",
      "\n"
     ]
    },
    {
     "name": "stdout",
     "output_type": "stream",
     "text": [
      "Epoch 140, Loss 0.042\n",
      "Training Accuracy: 0.9561, Testing Accuracy: 0.9657\n",
      "\n"
     ]
    },
    {
     "name": "stdout",
     "output_type": "stream",
     "text": [
      "Epoch 150, Loss 0.0413\n",
      "Training Accuracy: 0.9564, Testing Accuracy: 0.9667\n",
      "\n"
     ]
    },
    {
     "name": "stdout",
     "output_type": "stream",
     "text": [
      "Epoch 160, Loss 0.0406\n",
      "Training Accuracy: 0.9567, Testing Accuracy: 0.9672\n",
      "\n"
     ]
    },
    {
     "name": "stdout",
     "output_type": "stream",
     "text": [
      "Epoch 170, Loss 0.04\n",
      "Training Accuracy: 0.9579, Testing Accuracy: 0.9672\n",
      "\n"
     ]
    },
    {
     "name": "stdout",
     "output_type": "stream",
     "text": [
      "Epoch 180, Loss 0.0395\n",
      "Training Accuracy: 0.9579, Testing Accuracy: 0.9667\n",
      "\n"
     ]
    },
    {
     "name": "stdout",
     "output_type": "stream",
     "text": [
      "Epoch 190, Loss 0.039\n",
      "Training Accuracy: 0.9583, Testing Accuracy: 0.9667\n",
      "\n"
     ]
    },
    {
     "name": "stdout",
     "output_type": "stream",
     "text": [
      "Epoch 200, Loss 0.0385\n",
      "Training Accuracy: 0.9588, Testing Accuracy: 0.9667\n",
      "\n"
     ]
    },
    {
     "name": "stdout",
     "output_type": "stream",
     "text": [
      "Epoch 210, Loss 0.038\n",
      "Training Accuracy: 0.9592, Testing Accuracy: 0.9672\n",
      "\n"
     ]
    },
    {
     "name": "stdout",
     "output_type": "stream",
     "text": [
      "Epoch 220, Loss 0.0376\n",
      "Training Accuracy: 0.9599, Testing Accuracy: 0.9672\n",
      "\n"
     ]
    },
    {
     "name": "stdout",
     "output_type": "stream",
     "text": [
      "Epoch 230, Loss 0.0373\n",
      "Training Accuracy: 0.9602, Testing Accuracy: 0.9672\n",
      "\n"
     ]
    },
    {
     "name": "stdout",
     "output_type": "stream",
     "text": [
      "Epoch 240, Loss 0.0369\n",
      "Training Accuracy: 0.9603, Testing Accuracy: 0.9677\n",
      "\n"
     ]
    },
    {
     "data": {
      "text/plain": [
       "0.07670783981274736"
      ]
     },
     "execution_count": 23,
     "metadata": {},
     "output_type": "execute_result"
    }
   ],
   "source": [
    "lr_learner.train_loop(dl)"
   ]
  },
  {
   "cell_type": "code",
   "execution_count": 24,
   "id": "ca410940",
   "metadata": {
    "execution": {
     "iopub.execute_input": "2022-10-14T01:05:58.098772Z",
     "iopub.status.busy": "2022-10-14T01:05:58.098002Z",
     "iopub.status.idle": "2022-10-14T01:05:58.436231Z",
     "shell.execute_reply": "2022-10-14T01:05:58.436825Z"
    },
    "papermill": {
     "duration": 0.399562,
     "end_time": "2022-10-14T01:05:58.437031",
     "exception": false,
     "start_time": "2022-10-14T01:05:58.037469",
     "status": "completed"
    },
    "tags": []
   },
   "outputs": [
    {
     "data": {
      "text/plain": [
       "<matplotlib.legend.Legend at 0x7fd135ed44e0>"
      ]
     },
     "execution_count": 24,
     "metadata": {},
     "output_type": "execute_result"
    },
    {
     "data": {
      "image/png": "[encoded data removed]",
      "text/plain": [
       "<Figure size 1080x720 with 1 Axes>"
      ]
     },
     "metadata": {
      "needs_background": "light"
     },
     "output_type": "display_data"
    }
   ],
   "source": [
    "#comparing the results of NN and LR\n",
    "plt.figure(figsize=(15,10))\n",
    "\n",
    "# Neural Network plots\n",
    "plt.plot(acc_nn.accuracies, 'r-', label = \"Training Accuracies - NN\")\n",
    "plt.plot(acc_nn.test_accuracies, 'g-', label = \"Testing Accuracies - NN\")\n",
    "\n",
    "# Logistic Regression plots\n",
    "plt.plot(acc_lr.accuracies, 'k-', label = \"Training Accuracies - LR\")\n",
    "plt.plot(acc_lr.test_accuracies, 'b-', label = \"Testing Accuracies - LR\")\n",
    "plt.legend()"
   ]
  },
  {
   "cell_type": "markdown",
   "id": "80dfb35c",
   "metadata": {
    "papermill": {
     "duration": 0.059208,
     "end_time": "2022-10-14T01:05:58.553788",
     "exception": false,
     "start_time": "2022-10-14T01:05:58.494580",
     "status": "completed"
    },
    "tags": []
   },
   "source": [
    "#### Plotting the outputs of this layer of the NN.\n"
   ]
  },
  {
   "cell_type": "code",
   "execution_count": 25,
   "id": "45eb2ff5",
   "metadata": {
    "execution": {
     "iopub.execute_input": "2022-10-14T01:05:58.680834Z",
     "iopub.status.busy": "2022-10-14T01:05:58.680012Z",
     "iopub.status.idle": "2022-10-14T01:05:58.709641Z",
     "shell.execute_reply": "2022-10-14T01:05:58.710392Z"
    },
    "papermill": {
     "duration": 0.099307,
     "end_time": "2022-10-14T01:05:58.710732",
     "exception": false,
     "start_time": "2022-10-14T01:05:58.611425",
     "status": "completed"
    },
    "tags": []
   },
   "outputs": [],
   "source": [
    "new_model = Model(layers[:-2])\n",
    "testing_plot = new_model(testing_data_x)"
   ]
  },
  {
   "cell_type": "code",
   "execution_count": 26,
   "id": "4c0a5485",
   "metadata": {
    "execution": {
     "iopub.execute_input": "2022-10-14T01:05:58.828492Z",
     "iopub.status.busy": "2022-10-14T01:05:58.827639Z",
     "iopub.status.idle": "2022-10-14T01:05:59.102311Z",
     "shell.execute_reply": "2022-10-14T01:05:59.103044Z"
    },
    "papermill": {
     "duration": 0.33583,
     "end_time": "2022-10-14T01:05:59.103219",
     "exception": false,
     "start_time": "2022-10-14T01:05:58.767389",
     "status": "completed"
    },
    "tags": []
   },
   "outputs": [
    {
     "data": {
      "text/plain": [
       "Text(0.5, 1.0, 'Outputs')"
      ]
     },
     "execution_count": 26,
     "metadata": {},
     "output_type": "execute_result"
    },
    {
     "data": {
      "image/png": "[encoded data removed]",
      "text/plain": [
       "<Figure size 576x504 with 1 Axes>"
      ]
     },
     "metadata": {
      "needs_background": "light"
     },
     "output_type": "display_data"
    }
   ],
   "source": [
    "# Plotting the scatter plot of points and color coding by class\n",
    "plt.figure(figsize=(8,7))\n",
    "plt.scatter(testing_plot[:,0], testing_plot[:,1], alpha = 0.1, c = y_test.ravel());\n",
    "plt.title('Outputs')"
   ]
  },
  {
   "cell_type": "markdown",
   "id": "a74fcf8f",
   "metadata": {
    "papermill": {
     "duration": 0.094278,
     "end_time": "2022-10-14T01:05:59.258384",
     "exception": false,
     "start_time": "2022-10-14T01:05:59.164106",
     "status": "completed"
    },
    "tags": []
   },
   "source": [
    "Probability contours"
   ]
  },
  {
   "cell_type": "code",
   "execution_count": 27,
   "id": "d0afc8e3",
   "metadata": {
    "execution": {
     "iopub.execute_input": "2022-10-14T01:05:59.387128Z",
     "iopub.status.busy": "2022-10-14T01:05:59.386367Z",
     "iopub.status.idle": "2022-10-14T01:05:59.401307Z",
     "shell.execute_reply": "2022-10-14T01:05:59.400611Z"
    },
    "papermill": {
     "duration": 0.080628,
     "end_time": "2022-10-14T01:05:59.401464",
     "exception": false,
     "start_time": "2022-10-14T01:05:59.320836",
     "status": "completed"
    },
    "tags": []
   },
   "outputs": [],
   "source": [
    "model_prob = Model(layers[-2:]) "
   ]
  },
  {
   "cell_type": "code",
   "execution_count": 28,
   "id": "9b96e238",
   "metadata": {
    "execution": {
     "iopub.execute_input": "2022-10-14T01:05:59.527532Z",
     "iopub.status.busy": "2022-10-14T01:05:59.526752Z",
     "iopub.status.idle": "2022-10-14T01:05:59.542818Z",
     "shell.execute_reply": "2022-10-14T01:05:59.543396Z"
    },
    "papermill": {
     "duration": 0.08269,
     "end_time": "2022-10-14T01:05:59.543580",
     "exception": false,
     "start_time": "2022-10-14T01:05:59.460890",
     "status": "completed"
    },
    "tags": []
   },
   "outputs": [],
   "source": [
    "#creating the x and y ranges according to the above generated plot.\n",
    "x_range = np.linspace(-4, 1, 100) \n",
    "y_range = np.linspace(-6, 6, 100) \n",
    "x_grid, y_grid = np.meshgrid(x_range, y_range) # x_grid and y_grig are of size 100 X 100\n",
    "\n",
    "# converting x_grid and y_grid to continuous arrays\n",
    "x_gridflat = np.ravel(x_grid)\n",
    "y_gridflat = np.ravel(y_grid)\n",
    "\n",
    "# The last layer of the current model takes two columns as input. Hence transpose of np.vstack() is required.\n",
    "X = np.vstack((x_gridflat, y_gridflat)).T\n",
    "\n",
    "prob_contour = model_prob(X).reshape(100,100) "
   ]
  },
  {
   "cell_type": "code",
   "execution_count": 29,
   "id": "da72499a",
   "metadata": {
    "execution": {
     "iopub.execute_input": "2022-10-14T01:05:59.671537Z",
     "iopub.status.busy": "2022-10-14T01:05:59.670764Z",
     "iopub.status.idle": "2022-10-14T01:05:59.992371Z",
     "shell.execute_reply": "2022-10-14T01:05:59.991722Z"
    },
    "papermill": {
     "duration": 0.389719,
     "end_time": "2022-10-14T01:05:59.992525",
     "exception": false,
     "start_time": "2022-10-14T01:05:59.602806",
     "status": "completed"
    },
    "tags": []
   },
   "outputs": [
    {
     "data": {
      "image/png": "[encoded data removed]",
      "text/plain": [
       "<Figure size 720x648 with 1 Axes>"
      ]
     },
     "metadata": {
      "needs_background": "light"
     },
     "output_type": "display_data"
    }
   ],
   "source": [
    "plt.figure(figsize=(10,9))\n",
    "plt.scatter(testing_plot[:,0], testing_plot[:,1], alpha = 0.1, c = y_test.ravel())\n",
    "contours = plt.contour(x_grid,y_grid,prob_contour)\n",
    "plt.title('Probability Contours')\n",
    "plt.clabel(contours, inline = True );"
   ]
  },
  {
   "cell_type": "code",
   "execution_count": null,
   "id": "e81b4ac7",
   "metadata": {
    "papermill": {
     "duration": 0.064181,
     "end_time": "2022-10-14T01:06:00.118776",
     "exception": false,
     "start_time": "2022-10-14T01:06:00.054595",
     "status": "completed"
    },
    "tags": []
   },
   "outputs": [],
   "source": []
  }
 ],
 "metadata": {
  "kernelspec": {
   "display_name": "Python 3",
   "language": "python",
   "name": "python3"
  },
  "language_info": {
   "codemirror_mode": {
    "name": "ipython",
    "version": 3
   },
   "file_extension": ".py",
   "mimetype": "text/x-python",
   "name": "python",
   "nbconvert_exporter": "python",
   "pygments_lexer": "ipython3",
   "version": "3.6.15"
  },
  "papermill": {
   "default_parameters": {},
   "duration": 173.082559,
   "end_time": "2022-10-14T01:06:00.703860",
   "environment_variables": {},
   "exception": null,
   "input_path": "2020-08-11-part2.ipynb",
   "output_path": "2020-08-11-part2.ipynb",
   "parameters": {},
   "start_time": "2022-10-14T01:03:07.621301",
   "version": "2.3.3"
  }
 },
 "nbformat": 4,
 "nbformat_minor": 5
}