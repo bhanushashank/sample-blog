{
 "cells": [
  {
   "cell_type": "markdown",
   "id": "98380cd3",
   "metadata": {
    "papermill": {
     "duration": 0.030697,
     "end_time": "2022-03-28T10:10:10.969435",
     "exception": false,
     "start_time": "2022-03-28T10:10:10.938738",
     "status": "completed"
    },
    "tags": []
   },
   "source": [
    "# Distinguish Your Own Digits (DYOD)"
   ]
  },
  {
   "cell_type": "markdown",
   "id": "ef31240d",
   "metadata": {
    "papermill": {
     "duration": 0.027306,
     "end_time": "2022-03-28T10:10:11.022444",
     "exception": false,
     "start_time": "2022-03-28T10:10:10.995138",
     "status": "completed"
    },
    "tags": []
   },
   "source": [
    "You are going to write a classifier that distinguishes between the number 3 and number 8."
   ]
  },
  {
   "cell_type": "code",
   "execution_count": 1,
   "id": "b15c8646",
   "metadata": {
    "execution": {
     "iopub.execute_input": "2022-03-28T10:10:11.083869Z",
     "iopub.status.busy": "2022-03-28T10:10:11.083265Z",
     "iopub.status.idle": "2022-03-28T10:10:11.094399Z",
     "shell.execute_reply": "2022-03-28T10:10:11.093899Z"
    },
    "papermill": {
     "duration": 0.047651,
     "end_time": "2022-03-28T10:10:11.094546",
     "exception": false,
     "start_time": "2022-03-28T10:10:11.046895",
     "status": "completed"
    },
    "tags": []
   },
   "outputs": [],
   "source": [
    "%load_ext autoreload\n",
    "%autoreload 2"
   ]
  },
  {
   "cell_type": "code",
   "execution_count": 2,
   "id": "22ef38dc",
   "metadata": {
    "execution": {
     "iopub.execute_input": "2022-03-28T10:10:11.147860Z",
     "iopub.status.busy": "2022-03-28T10:10:11.147249Z",
     "iopub.status.idle": "2022-03-28T10:10:11.817124Z",
     "shell.execute_reply": "2022-03-28T10:10:11.815561Z"
    },
    "papermill": {
     "duration": 0.698023,
     "end_time": "2022-03-28T10:10:11.817286",
     "exception": false,
     "start_time": "2022-03-28T10:10:11.119263",
     "status": "completed"
    },
    "tags": []
   },
   "outputs": [],
   "source": [
    "%matplotlib inline\n",
    "import numpy as np\n",
    "import matplotlib.pyplot as plt\n",
    "import pandas as pd"
   ]
  },
  {
   "cell_type": "markdown",
   "id": "ba036198",
   "metadata": {
    "papermill": {
     "duration": 0.024506,
     "end_time": "2022-03-28T10:10:11.867107",
     "exception": false,
     "start_time": "2022-03-28T10:10:11.842601",
     "status": "completed"
    },
    "tags": []
   },
   "source": [
    "From the command line run `pip install mnist`. This is a library that will help you bring down the mnist dataset. If you run this from a notebook, you need to put  `!pip install mnist` in a cell by itself."
   ]
  },
  {
   "cell_type": "code",
   "execution_count": 3,
   "id": "bb6ad8a1",
   "metadata": {
    "execution": {
     "iopub.execute_input": "2022-03-28T10:10:11.924494Z",
     "iopub.status.busy": "2022-03-28T10:10:11.923091Z",
     "iopub.status.idle": "2022-03-28T10:10:13.746724Z",
     "shell.execute_reply": "2022-03-28T10:10:13.747288Z"
    },
    "papermill": {
     "duration": 1.855569,
     "end_time": "2022-03-28T10:10:13.747450",
     "exception": false,
     "start_time": "2022-03-28T10:10:11.891881",
     "status": "completed"
    },
    "tags": []
   },
   "outputs": [
    {
     "name": "stdout",
     "output_type": "stream",
     "text": [
      "Collecting mnist\r\n"
     ]
    },
    {
     "name": "stdout",
     "output_type": "stream",
     "text": [
      "  Downloading mnist-0.2.2-py2.py3-none-any.whl (3.5 kB)\r\n"
     ]
    },
    {
     "name": "stdout",
     "output_type": "stream",
     "text": [
      "Requirement already satisfied: numpy in /opt/hostedtoolcache/Python/3.6.15/x64/lib/python3.6/site-packages (from mnist) (1.19.5)\r\n"
     ]
    },
    {
     "name": "stdout",
     "output_type": "stream",
     "text": [
      "Installing collected packages: mnist\r\n",
      "Successfully installed mnist-0.2.2\r\n"
     ]
    }
   ],
   "source": [
    "!pip install mnist"
   ]
  },
  {
   "cell_type": "markdown",
   "id": "69df9c9a",
   "metadata": {
    "papermill": {
     "duration": 0.026929,
     "end_time": "2022-03-28T10:10:13.802211",
     "exception": false,
     "start_time": "2022-03-28T10:10:13.775282",
     "status": "completed"
    },
    "tags": []
   },
   "source": [
    "## Preparing the Data"
   ]
  },
  {
   "cell_type": "code",
   "execution_count": 4,
   "id": "7f69d806",
   "metadata": {
    "execution": {
     "iopub.execute_input": "2022-03-28T10:10:13.862713Z",
     "iopub.status.busy": "2022-03-28T10:10:13.862085Z",
     "iopub.status.idle": "2022-03-28T10:10:13.877888Z",
     "shell.execute_reply": "2022-03-28T10:10:13.878403Z"
    },
    "papermill": {
     "duration": 0.046301,
     "end_time": "2022-03-28T10:10:13.878547",
     "exception": false,
     "start_time": "2022-03-28T10:10:13.832246",
     "status": "completed"
    },
    "tags": []
   },
   "outputs": [],
   "source": [
    "import mnist"
   ]
  },
  {
   "cell_type": "code",
   "execution_count": 5,
   "id": "a411e44f",
   "metadata": {
    "execution": {
     "iopub.execute_input": "2022-03-28T10:10:13.942177Z",
     "iopub.status.busy": "2022-03-28T10:10:13.941618Z",
     "iopub.status.idle": "2022-03-28T10:10:14.513068Z",
     "shell.execute_reply": "2022-03-28T10:10:14.511787Z"
    },
    "papermill": {
     "duration": 0.607038,
     "end_time": "2022-03-28T10:10:14.513207",
     "exception": false,
     "start_time": "2022-03-28T10:10:13.906169",
     "status": "completed"
    },
    "tags": []
   },
   "outputs": [],
   "source": [
    "train_images = mnist.train_images()\n",
    "train_labels = mnist.train_labels()"
   ]
  },
  {
   "cell_type": "code",
   "execution_count": 6,
   "id": "dceab3a5",
   "metadata": {
    "execution": {
     "iopub.execute_input": "2022-03-28T10:10:14.575824Z",
     "iopub.status.busy": "2022-03-28T10:10:14.571559Z",
     "iopub.status.idle": "2022-03-28T10:10:14.586778Z",
     "shell.execute_reply": "2022-03-28T10:10:14.586326Z"
    },
    "papermill": {
     "duration": 0.04614,
     "end_time": "2022-03-28T10:10:14.586895",
     "exception": false,
     "start_time": "2022-03-28T10:10:14.540755",
     "status": "completed"
    },
    "tags": []
   },
   "outputs": [
    {
     "data": {
      "text/plain": [
       "((60000, 28, 28), (60000,))"
      ]
     },
     "execution_count": 6,
     "metadata": {},
     "output_type": "execute_result"
    }
   ],
   "source": [
    "train_images.shape, train_labels.shape"
   ]
  },
  {
   "cell_type": "code",
   "execution_count": 7,
   "id": "f50dc2bb",
   "metadata": {
    "execution": {
     "iopub.execute_input": "2022-03-28T10:10:14.651201Z",
     "iopub.status.busy": "2022-03-28T10:10:14.650586Z",
     "iopub.status.idle": "2022-03-28T10:10:14.774594Z",
     "shell.execute_reply": "2022-03-28T10:10:14.773791Z"
    },
    "papermill": {
     "duration": 0.160742,
     "end_time": "2022-03-28T10:10:14.774790",
     "exception": false,
     "start_time": "2022-03-28T10:10:14.614048",
     "status": "completed"
    },
    "tags": []
   },
   "outputs": [],
   "source": [
    "test_images = mnist.test_images()\n",
    "test_labels = mnist.test_labels()"
   ]
  },
  {
   "cell_type": "code",
   "execution_count": 8,
   "id": "fc38cf1b",
   "metadata": {
    "execution": {
     "iopub.execute_input": "2022-03-28T10:10:14.838586Z",
     "iopub.status.busy": "2022-03-28T10:10:14.838023Z",
     "iopub.status.idle": "2022-03-28T10:10:14.851953Z",
     "shell.execute_reply": "2022-03-28T10:10:14.851442Z"
    },
    "papermill": {
     "duration": 0.049294,
     "end_time": "2022-03-28T10:10:14.852078",
     "exception": false,
     "start_time": "2022-03-28T10:10:14.802784",
     "status": "completed"
    },
    "tags": []
   },
   "outputs": [
    {
     "data": {
      "text/plain": [
       "((10000, 28, 28), (10000,))"
      ]
     },
     "execution_count": 8,
     "metadata": {},
     "output_type": "execute_result"
    }
   ],
   "source": [
    "test_images.shape, test_labels.shape"
   ]
  },
  {
   "cell_type": "code",
   "execution_count": 9,
   "id": "f9ed8fe0",
   "metadata": {
    "execution": {
     "iopub.execute_input": "2022-03-28T10:10:14.909924Z",
     "iopub.status.busy": "2022-03-28T10:10:14.909316Z",
     "iopub.status.idle": "2022-03-28T10:10:15.064526Z",
     "shell.execute_reply": "2022-03-28T10:10:15.064013Z"
    },
    "papermill": {
     "duration": 0.186159,
     "end_time": "2022-03-28T10:10:15.064661",
     "exception": false,
     "start_time": "2022-03-28T10:10:14.878502",
     "status": "completed"
    },
    "tags": []
   },
   "outputs": [
    {
     "name": "stdout",
     "output_type": "stream",
     "text": [
      "2\n"
     ]
    },
    {
     "data": {
      "text/plain": [
       "<matplotlib.image.AxesImage at 0x7f1e02a78588>"
      ]
     },
     "execution_count": 9,
     "metadata": {},
     "output_type": "execute_result"
    },
    {
     "data": {
      "image/png": "[encoded data removed]",
      "text/plain": [
       "<Figure size 432x288 with 1 Axes>"
      ]
     },
     "metadata": {
      "needs_background": "light"
     },
     "output_type": "display_data"
    }
   ],
   "source": [
    "image_index = 7776 # You may select anything up to 60,000\n",
    "print(train_labels[image_index]) \n",
    "plt.imshow(train_images[image_index], cmap='Greys')"
   ]
  },
  {
   "cell_type": "markdown",
   "id": "a8d2388d",
   "metadata": {
    "papermill": {
     "duration": 0.028829,
     "end_time": "2022-03-28T10:10:15.122121",
     "exception": false,
     "start_time": "2022-03-28T10:10:15.093292",
     "status": "completed"
    },
    "tags": []
   },
   "source": [
    "## Filter data to get 3 and 8 out"
   ]
  },
  {
   "cell_type": "code",
   "execution_count": 10,
   "id": "776f7fc7",
   "metadata": {
    "execution": {
     "iopub.execute_input": "2022-03-28T10:10:15.184462Z",
     "iopub.status.busy": "2022-03-28T10:10:15.183856Z",
     "iopub.status.idle": "2022-03-28T10:10:15.206113Z",
     "shell.execute_reply": "2022-03-28T10:10:15.204406Z"
    },
    "papermill": {
     "duration": 0.054596,
     "end_time": "2022-03-28T10:10:15.206244",
     "exception": false,
     "start_time": "2022-03-28T10:10:15.151648",
     "status": "completed"
    },
    "tags": []
   },
   "outputs": [],
   "source": [
    "train_filter = np.where((train_labels == 3 ) | (train_labels == 8))\n",
    "test_filter = np.where((test_labels == 3) | (test_labels == 8))\n",
    "X_train, y_train = train_images[train_filter], train_labels[train_filter]\n",
    "X_test, y_test = test_images[test_filter], test_labels[test_filter]"
   ]
  },
  {
   "cell_type": "markdown",
   "id": "948f0b7e",
   "metadata": {
    "papermill": {
     "duration": 0.028975,
     "end_time": "2022-03-28T10:10:15.263454",
     "exception": false,
     "start_time": "2022-03-28T10:10:15.234479",
     "status": "completed"
    },
    "tags": []
   },
   "source": [
    "We normalize the pizel values in the 0 to 1 range"
   ]
  },
  {
   "cell_type": "code",
   "execution_count": 11,
   "id": "ee4c2166",
   "metadata": {
    "execution": {
     "iopub.execute_input": "2022-03-28T10:10:15.326836Z",
     "iopub.status.busy": "2022-03-28T10:10:15.325762Z",
     "iopub.status.idle": "2022-03-28T10:10:15.377474Z",
     "shell.execute_reply": "2022-03-28T10:10:15.376661Z"
    },
    "papermill": {
     "duration": 0.085244,
     "end_time": "2022-03-28T10:10:15.377660",
     "exception": false,
     "start_time": "2022-03-28T10:10:15.292416",
     "status": "completed"
    },
    "tags": []
   },
   "outputs": [],
   "source": [
    "X_train = X_train/255.\n",
    "X_test = X_test/255."
   ]
  },
  {
   "cell_type": "markdown",
   "id": "ddcf4fab",
   "metadata": {
    "papermill": {
     "duration": 0.032668,
     "end_time": "2022-03-28T10:10:15.440976",
     "exception": false,
     "start_time": "2022-03-28T10:10:15.408308",
     "status": "completed"
    },
    "tags": []
   },
   "source": [
    "And setup the labels as 1 (when the digit is 3) and 0 (when the digit is 8)"
   ]
  },
  {
   "cell_type": "code",
   "execution_count": 12,
   "id": "7dc908f2",
   "metadata": {
    "execution": {
     "iopub.execute_input": "2022-03-28T10:10:15.501693Z",
     "iopub.status.busy": "2022-03-28T10:10:15.501080Z",
     "iopub.status.idle": "2022-03-28T10:10:15.516425Z",
     "shell.execute_reply": "2022-03-28T10:10:15.515961Z"
    },
    "papermill": {
     "duration": 0.046973,
     "end_time": "2022-03-28T10:10:15.516549",
     "exception": false,
     "start_time": "2022-03-28T10:10:15.469576",
     "status": "completed"
    },
    "tags": []
   },
   "outputs": [],
   "source": [
    "y_train = 1*(y_train==3)\n",
    "y_test = 1*(y_test==3)"
   ]
  },
  {
   "cell_type": "code",
   "execution_count": 13,
   "id": "01e4e969",
   "metadata": {
    "execution": {
     "iopub.execute_input": "2022-03-28T10:10:15.580896Z",
     "iopub.status.busy": "2022-03-28T10:10:15.580334Z",
     "iopub.status.idle": "2022-03-28T10:10:15.598811Z",
     "shell.execute_reply": "2022-03-28T10:10:15.598356Z"
    },
    "papermill": {
     "duration": 0.050575,
     "end_time": "2022-03-28T10:10:15.598954",
     "exception": false,
     "start_time": "2022-03-28T10:10:15.548379",
     "status": "completed"
    },
    "tags": []
   },
   "outputs": [
    {
     "data": {
      "text/plain": [
       "((11982, 28, 28), (1984, 28, 28))"
      ]
     },
     "execution_count": 13,
     "metadata": {},
     "output_type": "execute_result"
    }
   ],
   "source": [
    "X_train.shape, X_test.shape"
   ]
  },
  {
   "cell_type": "markdown",
   "id": "5ccf3f85",
   "metadata": {
    "papermill": {
     "duration": 0.02847,
     "end_time": "2022-03-28T10:10:15.660736",
     "exception": false,
     "start_time": "2022-03-28T10:10:15.632266",
     "status": "completed"
    },
    "tags": []
   },
   "source": [
    "We reshape the data to flatten the image pixels into a set of features or co-variates:"
   ]
  },
  {
   "cell_type": "code",
   "execution_count": 14,
   "id": "5286a4a3",
   "metadata": {
    "execution": {
     "iopub.execute_input": "2022-03-28T10:10:15.722624Z",
     "iopub.status.busy": "2022-03-28T10:10:15.721595Z",
     "iopub.status.idle": "2022-03-28T10:10:15.740271Z",
     "shell.execute_reply": "2022-03-28T10:10:15.739813Z"
    },
    "papermill": {
     "duration": 0.051771,
     "end_time": "2022-03-28T10:10:15.740392",
     "exception": false,
     "start_time": "2022-03-28T10:10:15.688621",
     "status": "completed"
    },
    "tags": []
   },
   "outputs": [
    {
     "data": {
      "text/plain": [
       "((11982, 784), (1984, 784))"
      ]
     },
     "execution_count": 14,
     "metadata": {},
     "output_type": "execute_result"
    }
   ],
   "source": [
    "X_train = X_train.reshape(X_train.shape[0], -1)\n",
    "X_test = X_test.reshape(X_test.shape[0], -1)\n",
    "X_train.shape, X_test.shape"
   ]
  },
  {
   "cell_type": "code",
   "execution_count": 15,
   "id": "73c5f88a",
   "metadata": {
    "execution": {
     "iopub.execute_input": "2022-03-28T10:10:15.802327Z",
     "iopub.status.busy": "2022-03-28T10:10:15.801755Z",
     "iopub.status.idle": "2022-03-28T10:10:15.822190Z",
     "shell.execute_reply": "2022-03-28T10:10:15.821725Z"
    },
    "papermill": {
     "duration": 0.053797,
     "end_time": "2022-03-28T10:10:15.822314",
     "exception": false,
     "start_time": "2022-03-28T10:10:15.768517",
     "status": "completed"
    },
    "tags": []
   },
   "outputs": [],
   "source": [
    "#Impoting functions from 'Kudzu'\n",
    "from kudzu.model import Model\n",
    "from kudzu.train import Learner\n",
    "from kudzu.optim import GD\n",
    "from kudzu.data import Data, Sampler,Dataloader\n",
    "\n",
    "from kudzu.callbacks import AccCallback\n",
    "from kudzu.callbacks import ClfCallback\n",
    "\n",
    "from kudzu.loss import MSE\n",
    "\n",
    "from kudzu.layer import Sigmoid,Relu\n",
    "from kudzu.layer import Affine"
   ]
  },
  {
   "cell_type": "markdown",
   "id": "bc01172a",
   "metadata": {
    "papermill": {
     "duration": 0.028999,
     "end_time": "2022-03-28T10:10:15.885534",
     "exception": false,
     "start_time": "2022-03-28T10:10:15.856535",
     "status": "completed"
    },
    "tags": []
   },
   "source": [
    "### Let us create a `Config` class, to store important parameters. \n",
    "This class essentially plays the role of a dictionary."
   ]
  },
  {
   "cell_type": "code",
   "execution_count": 16,
   "id": "978281aa",
   "metadata": {
    "execution": {
     "iopub.execute_input": "2022-03-28T10:10:15.953255Z",
     "iopub.status.busy": "2022-03-28T10:10:15.952631Z",
     "iopub.status.idle": "2022-03-28T10:10:15.965822Z",
     "shell.execute_reply": "2022-03-28T10:10:15.965323Z"
    },
    "papermill": {
     "duration": 0.051344,
     "end_time": "2022-03-28T10:10:15.965939",
     "exception": false,
     "start_time": "2022-03-28T10:10:15.914595",
     "status": "completed"
    },
    "tags": []
   },
   "outputs": [],
   "source": [
    "class Config:\n",
    "    pass\n",
    "config = Config()\n",
    "config.lr = 0.001\n",
    "config.num_epochs = 250\n",
    "config.bs = 50"
   ]
  },
  {
   "cell_type": "markdown",
   "id": "1385fa59",
   "metadata": {
    "papermill": {
     "duration": 0.035403,
     "end_time": "2022-03-28T10:10:16.031127",
     "exception": false,
     "start_time": "2022-03-28T10:10:15.995724",
     "status": "completed"
    },
    "tags": []
   },
   "source": [
    "### Running Models with the Training data\n",
    "Details about the network layers:\n",
    "- A first affine layer has 784 inputs and does 100 affine transforms. These are followed by a Relu\n",
    "- A second affine layer has 100 inputs from the 100 activations of the past layer, and does 100 affine transforms. These are followed by a Relu\n",
    "- A third affine layer has 100 activations and does 2 affine transformations to create an embedding for visualization. There is no non-linearity here.\n",
    "- A final \"logistic regression\" which has an affine transform from 2 inputs to 1 output, which is squeezed through a sigmoid.\n"
   ]
  },
  {
   "cell_type": "code",
   "execution_count": 17,
   "id": "2b9c66db",
   "metadata": {
    "execution": {
     "iopub.execute_input": "2022-03-28T10:10:16.100297Z",
     "iopub.status.busy": "2022-03-28T10:10:16.098489Z",
     "iopub.status.idle": "2022-03-28T10:10:16.113736Z",
     "shell.execute_reply": "2022-03-28T10:10:16.113234Z"
    },
    "papermill": {
     "duration": 0.052027,
     "end_time": "2022-03-28T10:10:16.113866",
     "exception": false,
     "start_time": "2022-03-28T10:10:16.061839",
     "status": "completed"
    },
    "tags": []
   },
   "outputs": [],
   "source": [
    "data = Data(X_train, y_train.reshape(-1,1))\n",
    "sampler = Sampler(data, config.bs, shuffle=True)\n",
    "\n",
    "dl = Dataloader(data, sampler)\n",
    "\n",
    "opt = GD(config.lr)\n",
    "loss = MSE()"
   ]
  },
  {
   "cell_type": "code",
   "execution_count": 18,
   "id": "b275e4c2",
   "metadata": {
    "execution": {
     "iopub.execute_input": "2022-03-28T10:10:16.181783Z",
     "iopub.status.busy": "2022-03-28T10:10:16.181168Z",
     "iopub.status.idle": "2022-03-28T10:10:16.196239Z",
     "shell.execute_reply": "2022-03-28T10:10:16.195709Z"
    },
    "papermill": {
     "duration": 0.049845,
     "end_time": "2022-03-28T10:10:16.196384",
     "exception": false,
     "start_time": "2022-03-28T10:10:16.146539",
     "status": "completed"
    },
    "tags": []
   },
   "outputs": [],
   "source": [
    "training_data_x = X_train\n",
    "testing_data_x = X_test\n",
    "training_data_y = y_train.reshape(-1,1)\n",
    "testing_data_y = y_test.reshape(-1,1)"
   ]
  },
  {
   "cell_type": "code",
   "execution_count": 19,
   "id": "76951160",
   "metadata": {
    "execution": {
     "iopub.execute_input": "2022-03-28T10:10:16.261648Z",
     "iopub.status.busy": "2022-03-28T10:10:16.261052Z",
     "iopub.status.idle": "2022-03-28T10:10:16.279370Z",
     "shell.execute_reply": "2022-03-28T10:10:16.278865Z"
    },
    "papermill": {
     "duration": 0.052519,
     "end_time": "2022-03-28T10:10:16.279487",
     "exception": false,
     "start_time": "2022-03-28T10:10:16.226968",
     "status": "completed"
    },
    "tags": []
   },
   "outputs": [
    {
     "name": "stdout",
     "output_type": "stream",
     "text": [
      "xavier\n",
      "xavier\n",
      "xavier\n",
      "xavier\n",
      "xavier\n"
     ]
    }
   ],
   "source": [
    "layers = [Affine(\"first\", 784, 100), Relu(\"first\"), Affine(\"second\", 100, 100), Relu(\"second\"), Affine(\"third\", 100, 2), Affine(\"last\", 2, 1), Sigmoid(\"last\")]\n",
    "model_nn = Model(layers)\n",
    "model_lr = Model([Affine(\"logits\", 784, 1), Sigmoid(\"sigmoid\")])"
   ]
  },
  {
   "cell_type": "code",
   "execution_count": 20,
   "id": "6eede77a",
   "metadata": {
    "execution": {
     "iopub.execute_input": "2022-03-28T10:10:16.344591Z",
     "iopub.status.busy": "2022-03-28T10:10:16.343945Z",
     "iopub.status.idle": "2022-03-28T10:10:16.356627Z",
     "shell.execute_reply": "2022-03-28T10:10:16.357106Z"
    },
    "papermill": {
     "duration": 0.048828,
     "end_time": "2022-03-28T10:10:16.357246",
     "exception": false,
     "start_time": "2022-03-28T10:10:16.308418",
     "status": "completed"
    },
    "tags": []
   },
   "outputs": [],
   "source": [
    "nn_learner = Learner(loss, model_nn, opt, config.num_epochs)\n",
    "acc_nn = ClfCallback(nn_learner, config.bs, training_data_x , testing_data_x, training_data_y, testing_data_y)\n",
    "nn_learner.set_callbacks([acc_nn])"
   ]
  },
  {
   "cell_type": "code",
   "execution_count": 21,
   "id": "877b6cc7",
   "metadata": {
    "execution": {
     "iopub.execute_input": "2022-03-28T10:10:16.419559Z",
     "iopub.status.busy": "2022-03-28T10:10:16.418542Z",
     "iopub.status.idle": "2022-03-28T10:10:16.433613Z",
     "shell.execute_reply": "2022-03-28T10:10:16.433149Z"
    },
    "papermill": {
     "duration": 0.04751,
     "end_time": "2022-03-28T10:10:16.433737",
     "exception": false,
     "start_time": "2022-03-28T10:10:16.386227",
     "status": "completed"
    },
    "tags": []
   },
   "outputs": [],
   "source": [
    "lr_learner = Learner(loss, model_lr, opt, config.num_epochs)\n",
    "acc_lr = ClfCallback(lr_learner, config.bs, training_data_x , testing_data_x, training_data_y, testing_data_y)\n",
    "lr_learner.set_callbacks([acc_lr])"
   ]
  },
  {
   "cell_type": "code",
   "execution_count": 22,
   "id": "d9b133c3",
   "metadata": {
    "execution": {
     "iopub.execute_input": "2022-03-28T10:10:16.498287Z",
     "iopub.status.busy": "2022-03-28T10:10:16.497728Z",
     "iopub.status.idle": "2022-03-28T10:11:40.760425Z",
     "shell.execute_reply": "2022-03-28T10:11:40.761292Z"
    },
    "papermill": {
     "duration": 84.298102,
     "end_time": "2022-03-28T10:11:40.761459",
     "exception": false,
     "start_time": "2022-03-28T10:10:16.463357",
     "status": "completed"
    },
    "tags": []
   },
   "outputs": [
    {
     "name": "stdout",
     "output_type": "stream",
     "text": [
      "Epoch 0, Loss 0.2627\n",
      "Training Accuracy: 0.4412, Testing Accuracy: 0.4501\n",
      "\n"
     ]
    },
    {
     "name": "stdout",
     "output_type": "stream",
     "text": [
      "Epoch 10, Loss 0.15\n",
      "Training Accuracy: 0.9026, Testing Accuracy: 0.9093\n",
      "\n"
     ]
    },
    {
     "name": "stdout",
     "output_type": "stream",
     "text": [
      "Epoch 20, Loss 0.0731\n",
      "Training Accuracy: 0.9296, Testing Accuracy: 0.9390\n",
      "\n"
     ]
    },
    {
     "name": "stdout",
     "output_type": "stream",
     "text": [
      "Epoch 30, Loss 0.0523\n",
      "Training Accuracy: 0.9431, Testing Accuracy: 0.9521\n",
      "\n"
     ]
    },
    {
     "name": "stdout",
     "output_type": "stream",
     "text": [
      "Epoch 40, Loss 0.0433\n",
      "Training Accuracy: 0.9508, Testing Accuracy: 0.9617\n",
      "\n"
     ]
    },
    {
     "name": "stdout",
     "output_type": "stream",
     "text": [
      "Epoch 50, Loss 0.0382\n",
      "Training Accuracy: 0.9572, Testing Accuracy: 0.9667\n",
      "\n"
     ]
    },
    {
     "name": "stdout",
     "output_type": "stream",
     "text": [
      "Epoch 60, Loss 0.0349\n",
      "Training Accuracy: 0.9604, Testing Accuracy: 0.9677\n",
      "\n"
     ]
    },
    {
     "name": "stdout",
     "output_type": "stream",
     "text": [
      "Epoch 70, Loss 0.0325\n",
      "Training Accuracy: 0.9629, Testing Accuracy: 0.9688\n",
      "\n"
     ]
    },
    {
     "name": "stdout",
     "output_type": "stream",
     "text": [
      "Epoch 80, Loss 0.0307\n",
      "Training Accuracy: 0.9646, Testing Accuracy: 0.9693\n",
      "\n"
     ]
    },
    {
     "name": "stdout",
     "output_type": "stream",
     "text": [
      "Epoch 90, Loss 0.0293\n",
      "Training Accuracy: 0.9662, Testing Accuracy: 0.9703\n",
      "\n"
     ]
    },
    {
     "name": "stdout",
     "output_type": "stream",
     "text": [
      "Epoch 100, Loss 0.0281\n",
      "Training Accuracy: 0.9673, Testing Accuracy: 0.9708\n",
      "\n"
     ]
    },
    {
     "name": "stdout",
     "output_type": "stream",
     "text": [
      "Epoch 110, Loss 0.027\n",
      "Training Accuracy: 0.9683, Testing Accuracy: 0.9713\n",
      "\n"
     ]
    },
    {
     "name": "stdout",
     "output_type": "stream",
     "text": [
      "Epoch 120, Loss 0.0262\n",
      "Training Accuracy: 0.9692, Testing Accuracy: 0.9728\n",
      "\n"
     ]
    },
    {
     "name": "stdout",
     "output_type": "stream",
     "text": [
      "Epoch 130, Loss 0.0254\n",
      "Training Accuracy: 0.9700, Testing Accuracy: 0.9728\n",
      "\n"
     ]
    },
    {
     "name": "stdout",
     "output_type": "stream",
     "text": [
      "Epoch 140, Loss 0.0246\n",
      "Training Accuracy: 0.9708, Testing Accuracy: 0.9733\n",
      "\n"
     ]
    },
    {
     "name": "stdout",
     "output_type": "stream",
     "text": [
      "Epoch 150, Loss 0.024\n",
      "Training Accuracy: 0.9715, Testing Accuracy: 0.9723\n",
      "\n"
     ]
    },
    {
     "name": "stdout",
     "output_type": "stream",
     "text": [
      "Epoch 160, Loss 0.0234\n",
      "Training Accuracy: 0.9730, Testing Accuracy: 0.9723\n",
      "\n"
     ]
    },
    {
     "name": "stdout",
     "output_type": "stream",
     "text": [
      "Epoch 170, Loss 0.0228\n",
      "Training Accuracy: 0.9735, Testing Accuracy: 0.9733\n",
      "\n"
     ]
    },
    {
     "name": "stdout",
     "output_type": "stream",
     "text": [
      "Epoch 180, Loss 0.0222\n",
      "Training Accuracy: 0.9741, Testing Accuracy: 0.9738\n",
      "\n"
     ]
    },
    {
     "name": "stdout",
     "output_type": "stream",
     "text": [
      "Epoch 190, Loss 0.0217\n",
      "Training Accuracy: 0.9747, Testing Accuracy: 0.9743\n",
      "\n"
     ]
    },
    {
     "name": "stdout",
     "output_type": "stream",
     "text": [
      "Epoch 200, Loss 0.0212\n",
      "Training Accuracy: 0.9755, Testing Accuracy: 0.9743\n",
      "\n"
     ]
    },
    {
     "name": "stdout",
     "output_type": "stream",
     "text": [
      "Epoch 210, Loss 0.0207\n",
      "Training Accuracy: 0.9763, Testing Accuracy: 0.9743\n",
      "\n"
     ]
    },
    {
     "name": "stdout",
     "output_type": "stream",
     "text": [
      "Epoch 220, Loss 0.0203\n",
      "Training Accuracy: 0.9769, Testing Accuracy: 0.9743\n",
      "\n"
     ]
    },
    {
     "name": "stdout",
     "output_type": "stream",
     "text": [
      "Epoch 230, Loss 0.0199\n",
      "Training Accuracy: 0.9771, Testing Accuracy: 0.9743\n",
      "\n"
     ]
    },
    {
     "name": "stdout",
     "output_type": "stream",
     "text": [
      "Epoch 240, Loss 0.0195\n",
      "Training Accuracy: 0.9781, Testing Accuracy: 0.9743\n",
      "\n"
     ]
    },
    {
     "data": {
      "text/plain": [
       "0.006303410404031983"
      ]
     },
     "execution_count": 22,
     "metadata": {},
     "output_type": "execute_result"
    }
   ],
   "source": [
    "nn_learner.train_loop(dl)"
   ]
  },
  {
   "cell_type": "code",
   "execution_count": 23,
   "id": "e0163366",
   "metadata": {
    "execution": {
     "iopub.execute_input": "2022-03-28T10:11:40.852573Z",
     "iopub.status.busy": "2022-03-28T10:11:40.851947Z",
     "iopub.status.idle": "2022-03-28T10:11:55.940435Z",
     "shell.execute_reply": "2022-03-28T10:11:55.941250Z"
    },
    "papermill": {
     "duration": 15.140513,
     "end_time": "2022-03-28T10:11:55.941390",
     "exception": false,
     "start_time": "2022-03-28T10:11:40.800877",
     "status": "completed"
    },
    "tags": []
   },
   "outputs": [
    {
     "name": "stdout",
     "output_type": "stream",
     "text": [
      "Epoch 0, Loss 0.2446\n",
      "Training Accuracy: 0.6813, Testing Accuracy: 0.6729\n",
      "\n"
     ]
    },
    {
     "name": "stdout",
     "output_type": "stream",
     "text": [
      "Epoch 10, Loss 0.1028\n",
      "Training Accuracy: 0.9089, Testing Accuracy: 0.9153\n",
      "\n"
     ]
    },
    {
     "name": "stdout",
     "output_type": "stream",
     "text": [
      "Epoch 20, Loss 0.0787\n",
      "Training Accuracy: 0.9291, Testing Accuracy: 0.9390\n",
      "\n"
     ]
    },
    {
     "name": "stdout",
     "output_type": "stream",
     "text": [
      "Epoch 30, Loss 0.0677\n",
      "Training Accuracy: 0.9378, Testing Accuracy: 0.9456\n",
      "\n"
     ]
    },
    {
     "name": "stdout",
     "output_type": "stream",
     "text": [
      "Epoch 40, Loss 0.0611\n",
      "Training Accuracy: 0.9432, Testing Accuracy: 0.9526\n",
      "\n"
     ]
    },
    {
     "name": "stdout",
     "output_type": "stream",
     "text": [
      "Epoch 50, Loss 0.0566\n",
      "Training Accuracy: 0.9466, Testing Accuracy: 0.9551\n",
      "\n"
     ]
    },
    {
     "name": "stdout",
     "output_type": "stream",
     "text": [
      "Epoch 60, Loss 0.0533\n",
      "Training Accuracy: 0.9488, Testing Accuracy: 0.9572\n",
      "\n"
     ]
    },
    {
     "name": "stdout",
     "output_type": "stream",
     "text": [
      "Epoch 70, Loss 0.0508\n",
      "Training Accuracy: 0.9502, Testing Accuracy: 0.9582\n",
      "\n"
     ]
    },
    {
     "name": "stdout",
     "output_type": "stream",
     "text": [
      "Epoch 80, Loss 0.0488\n",
      "Training Accuracy: 0.9518, Testing Accuracy: 0.9597\n",
      "\n"
     ]
    },
    {
     "name": "stdout",
     "output_type": "stream",
     "text": [
      "Epoch 90, Loss 0.0472\n",
      "Training Accuracy: 0.9523, Testing Accuracy: 0.9602\n",
      "\n"
     ]
    },
    {
     "name": "stdout",
     "output_type": "stream",
     "text": [
      "Epoch 100, Loss 0.0458\n",
      "Training Accuracy: 0.9534, Testing Accuracy: 0.9622\n",
      "\n"
     ]
    },
    {
     "name": "stdout",
     "output_type": "stream",
     "text": [
      "Epoch 110, Loss 0.0446\n",
      "Training Accuracy: 0.9543, Testing Accuracy: 0.9632\n",
      "\n"
     ]
    },
    {
     "name": "stdout",
     "output_type": "stream",
     "text": [
      "Epoch 120, Loss 0.0436\n",
      "Training Accuracy: 0.9549, Testing Accuracy: 0.9642\n",
      "\n"
     ]
    },
    {
     "name": "stdout",
     "output_type": "stream",
     "text": [
      "Epoch 130, Loss 0.0427\n",
      "Training Accuracy: 0.9555, Testing Accuracy: 0.9667\n",
      "\n"
     ]
    },
    {
     "name": "stdout",
     "output_type": "stream",
     "text": [
      "Epoch 140, Loss 0.0419\n",
      "Training Accuracy: 0.9559, Testing Accuracy: 0.9677\n",
      "\n"
     ]
    },
    {
     "name": "stdout",
     "output_type": "stream",
     "text": [
      "Epoch 150, Loss 0.0412\n",
      "Training Accuracy: 0.9567, Testing Accuracy: 0.9672\n",
      "\n"
     ]
    },
    {
     "name": "stdout",
     "output_type": "stream",
     "text": [
      "Epoch 160, Loss 0.0405\n",
      "Training Accuracy: 0.9572, Testing Accuracy: 0.9677\n",
      "\n"
     ]
    },
    {
     "name": "stdout",
     "output_type": "stream",
     "text": [
      "Epoch 170, Loss 0.0399\n",
      "Training Accuracy: 0.9581, Testing Accuracy: 0.9672\n",
      "\n"
     ]
    },
    {
     "name": "stdout",
     "output_type": "stream",
     "text": [
      "Epoch 180, Loss 0.0394\n",
      "Training Accuracy: 0.9585, Testing Accuracy: 0.9672\n",
      "\n"
     ]
    },
    {
     "name": "stdout",
     "output_type": "stream",
     "text": [
      "Epoch 190, Loss 0.0389\n",
      "Training Accuracy: 0.9591, Testing Accuracy: 0.9672\n",
      "\n"
     ]
    },
    {
     "name": "stdout",
     "output_type": "stream",
     "text": [
      "Epoch 200, Loss 0.0384\n",
      "Training Accuracy: 0.9594, Testing Accuracy: 0.9672\n",
      "\n"
     ]
    },
    {
     "name": "stdout",
     "output_type": "stream",
     "text": [
      "Epoch 210, Loss 0.038\n",
      "Training Accuracy: 0.9594, Testing Accuracy: 0.9677\n",
      "\n"
     ]
    },
    {
     "name": "stdout",
     "output_type": "stream",
     "text": [
      "Epoch 220, Loss 0.0376\n",
      "Training Accuracy: 0.9596, Testing Accuracy: 0.9677\n",
      "\n"
     ]
    },
    {
     "name": "stdout",
     "output_type": "stream",
     "text": [
      "Epoch 230, Loss 0.0372\n",
      "Training Accuracy: 0.9601, Testing Accuracy: 0.9677\n",
      "\n"
     ]
    },
    {
     "name": "stdout",
     "output_type": "stream",
     "text": [
      "Epoch 240, Loss 0.0369\n",
      "Training Accuracy: 0.9602, Testing Accuracy: 0.9688\n",
      "\n"
     ]
    },
    {
     "data": {
      "text/plain": [
       "0.03665330889524479"
      ]
     },
     "execution_count": 23,
     "metadata": {},
     "output_type": "execute_result"
    }
   ],
   "source": [
    "lr_learner.train_loop(dl)"
   ]
  },
  {
   "cell_type": "code",
   "execution_count": 24,
   "id": "ca410940",
   "metadata": {
    "execution": {
     "iopub.execute_input": "2022-03-28T10:11:56.036920Z",
     "iopub.status.busy": "2022-03-28T10:11:56.036330Z",
     "iopub.status.idle": "2022-03-28T10:11:56.285859Z",
     "shell.execute_reply": "2022-03-28T10:11:56.286319Z"
    },
    "papermill": {
     "duration": 0.301585,
     "end_time": "2022-03-28T10:11:56.286471",
     "exception": false,
     "start_time": "2022-03-28T10:11:55.984886",
     "status": "completed"
    },
    "tags": []
   },
   "outputs": [
    {
     "data": {
      "text/plain": [
       "<matplotlib.legend.Legend at 0x7f1e02655cf8>"
      ]
     },
     "execution_count": 24,
     "metadata": {},
     "output_type": "execute_result"
    },
    {
     "data": {
      "image/png": "[encoded data removed]",
      "text/plain": [
       "<Figure size 1080x720 with 1 Axes>"
      ]
     },
     "metadata": {
      "needs_background": "light"
     },
     "output_type": "display_data"
    }
   ],
   "source": [
    "#comparing the results of NN and LR\n",
    "plt.figure(figsize=(15,10))\n",
    "\n",
    "# Neural Network plots\n",
    "plt.plot(acc_nn.accuracies, 'r-', label = \"Training Accuracies - NN\")\n",
    "plt.plot(acc_nn.test_accuracies, 'g-', label = \"Testing Accuracies - NN\")\n",
    "\n",
    "# Logistic Regression plots\n",
    "plt.plot(acc_lr.accuracies, 'k-', label = \"Training Accuracies - LR\")\n",
    "plt.plot(acc_lr.test_accuracies, 'b-', label = \"Testing Accuracies - LR\")\n",
    "plt.legend()"
   ]
  },
  {
   "cell_type": "markdown",
   "id": "80dfb35c",
   "metadata": {
    "papermill": {
     "duration": 0.045711,
     "end_time": "2022-03-28T10:11:56.376227",
     "exception": false,
     "start_time": "2022-03-28T10:11:56.330516",
     "status": "completed"
    },
    "tags": []
   },
   "source": [
    "#### Plotting the outputs of this layer of the NN.\n"
   ]
  },
  {
   "cell_type": "code",
   "execution_count": 25,
   "id": "45eb2ff5",
   "metadata": {
    "execution": {
     "iopub.execute_input": "2022-03-28T10:11:56.470899Z",
     "iopub.status.busy": "2022-03-28T10:11:56.469346Z",
     "iopub.status.idle": "2022-03-28T10:11:56.489765Z",
     "shell.execute_reply": "2022-03-28T10:11:56.490235Z"
    },
    "papermill": {
     "duration": 0.070534,
     "end_time": "2022-03-28T10:11:56.490380",
     "exception": false,
     "start_time": "2022-03-28T10:11:56.419846",
     "status": "completed"
    },
    "tags": []
   },
   "outputs": [],
   "source": [
    "new_model = Model(layers[:-2])\n",
    "testing_plot = new_model(testing_data_x)"
   ]
  },
  {
   "cell_type": "code",
   "execution_count": 26,
   "id": "4c0a5485",
   "metadata": {
    "execution": {
     "iopub.execute_input": "2022-03-28T10:11:56.584197Z",
     "iopub.status.busy": "2022-03-28T10:11:56.583620Z",
     "iopub.status.idle": "2022-03-28T10:11:56.804267Z",
     "shell.execute_reply": "2022-03-28T10:11:56.804715Z"
    },
    "papermill": {
     "duration": 0.270079,
     "end_time": "2022-03-28T10:11:56.804860",
     "exception": false,
     "start_time": "2022-03-28T10:11:56.534781",
     "status": "completed"
    },
    "tags": []
   },
   "outputs": [
    {
     "data": {
      "text/plain": [
       "Text(0.5, 1.0, 'Outputs')"
      ]
     },
     "execution_count": 26,
     "metadata": {},
     "output_type": "execute_result"
    },
    {
     "data": {
      "image/png": "[encoded data removed]",
      "text/plain": [
       "<Figure size 576x504 with 1 Axes>"
      ]
     },
     "metadata": {
      "needs_background": "light"
     },
     "output_type": "display_data"
    }
   ],
   "source": [
    "# Plotting the scatter plot of points and color coding by class\n",
    "plt.figure(figsize=(8,7))\n",
    "plt.scatter(testing_plot[:,0], testing_plot[:,1], alpha = 0.1, c = y_test.ravel());\n",
    "plt.title('Outputs')"
   ]
  },
  {
   "cell_type": "markdown",
   "id": "a74fcf8f",
   "metadata": {
    "papermill": {
     "duration": 0.049397,
     "end_time": "2022-03-28T10:11:56.904742",
     "exception": false,
     "start_time": "2022-03-28T10:11:56.855345",
     "status": "completed"
    },
    "tags": []
   },
   "source": [
    "Probability contours"
   ]
  },
  {
   "cell_type": "code",
   "execution_count": 27,
   "id": "d0afc8e3",
   "metadata": {
    "execution": {
     "iopub.execute_input": "2022-03-28T10:11:57.035426Z",
     "iopub.status.busy": "2022-03-28T10:11:57.034786Z",
     "iopub.status.idle": "2022-03-28T10:11:57.047846Z",
     "shell.execute_reply": "2022-03-28T10:11:57.048305Z"
    },
    "papermill": {
     "duration": 0.094719,
     "end_time": "2022-03-28T10:11:57.048446",
     "exception": false,
     "start_time": "2022-03-28T10:11:56.953727",
     "status": "completed"
    },
    "tags": []
   },
   "outputs": [],
   "source": [
    "model_prob = Model(layers[-2:]) "
   ]
  },
  {
   "cell_type": "code",
   "execution_count": 28,
   "id": "9b96e238",
   "metadata": {
    "execution": {
     "iopub.execute_input": "2022-03-28T10:11:57.152046Z",
     "iopub.status.busy": "2022-03-28T10:11:57.150901Z",
     "iopub.status.idle": "2022-03-28T10:11:57.167288Z",
     "shell.execute_reply": "2022-03-28T10:11:57.167748Z"
    },
    "papermill": {
     "duration": 0.069194,
     "end_time": "2022-03-28T10:11:57.167902",
     "exception": false,
     "start_time": "2022-03-28T10:11:57.098708",
     "status": "completed"
    },
    "tags": []
   },
   "outputs": [],
   "source": [
    "#creating the x and y ranges according to the above generated plot.\n",
    "x_range = np.linspace(-4, 1, 100) \n",
    "y_range = np.linspace(-6, 6, 100) \n",
    "x_grid, y_grid = np.meshgrid(x_range, y_range) # x_grid and y_grig are of size 100 X 100\n",
    "\n",
    "# converting x_grid and y_grid to continuous arrays\n",
    "x_gridflat = np.ravel(x_grid)\n",
    "y_gridflat = np.ravel(y_grid)\n",
    "\n",
    "# The last layer of the current model takes two columns as input. Hence transpose of np.vstack() is required.\n",
    "X = np.vstack((x_gridflat, y_gridflat)).T\n",
    "\n",
    "prob_contour = model_prob(X).reshape(100,100) "
   ]
  },
  {
   "cell_type": "code",
   "execution_count": 29,
   "id": "da72499a",
   "metadata": {
    "execution": {
     "iopub.execute_input": "2022-03-28T10:11:57.269468Z",
     "iopub.status.busy": "2022-03-28T10:11:57.268890Z",
     "iopub.status.idle": "2022-03-28T10:11:57.546756Z",
     "shell.execute_reply": "2022-03-28T10:11:57.545666Z"
    },
    "papermill": {
     "duration": 0.33083,
     "end_time": "2022-03-28T10:11:57.546886",
     "exception": false,
     "start_time": "2022-03-28T10:11:57.216056",
     "status": "completed"
    },
    "tags": []
   },
   "outputs": [
    {
     "data": {
      "image/png": "[encoded data removed]",
      "text/plain": [
       "<Figure size 720x648 with 1 Axes>"
      ]
     },
     "metadata": {
      "needs_background": "light"
     },
     "output_type": "display_data"
    }
   ],
   "source": [
    "plt.figure(figsize=(10,9))\n",
    "plt.scatter(testing_plot[:,0], testing_plot[:,1], alpha = 0.1, c = y_test.ravel())\n",
    "contours = plt.contour(x_grid,y_grid,prob_contour)\n",
    "plt.title('Probability Contours')\n",
    "plt.clabel(contours, inline = True );"
   ]
  },
  {
   "cell_type": "code",
   "execution_count": null,
   "id": "e81b4ac7",
   "metadata": {
    "papermill": {
     "duration": 0.050572,
     "end_time": "2022-03-28T10:11:57.646789",
     "exception": false,
     "start_time": "2022-03-28T10:11:57.596217",
     "status": "completed"
    },
    "tags": []
   },
   "outputs": [],
   "source": []
  }
 ],
 "metadata": {
  "kernelspec": {
   "display_name": "Python 3",
   "language": "python",
   "name": "python3"
  },
  "language_info": {
   "codemirror_mode": {
    "name": "ipython",
    "version": 3
   },
   "file_extension": ".py",
   "mimetype": "text/x-python",
   "name": "python",
   "nbconvert_exporter": "python",
   "pygments_lexer": "ipython3",
   "version": "3.6.15"
  },
  "papermill": {
   "default_parameters": {},
   "duration": 108.319281,
   "end_time": "2022-03-28T10:11:58.117853",
   "environment_variables": {},
   "exception": null,
   "input_path": "2020-08-11-part2.ipynb",
   "output_path": "2020-08-11-part2.ipynb",
   "parameters": {},
   "start_time": "2022-03-28T10:10:09.798572",
   "version": "2.3.3"
  }
 },
 "nbformat": 4,
 "nbformat_minor": 5
}