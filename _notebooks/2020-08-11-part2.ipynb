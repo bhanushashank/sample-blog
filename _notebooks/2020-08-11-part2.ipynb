{
 "cells": [
  {
   "cell_type": "markdown",
   "id": "98380cd3",
   "metadata": {
    "papermill": {
     "duration": 0.028949,
     "end_time": "2022-04-05T00:32:28.825920",
     "exception": false,
     "start_time": "2022-04-05T00:32:28.796971",
     "status": "completed"
    },
    "tags": []
   },
   "source": [
    "# Distinguish Your Own Digits (DYOD)"
   ]
  },
  {
   "cell_type": "markdown",
   "id": "ef31240d",
   "metadata": {
    "papermill": {
     "duration": 0.025116,
     "end_time": "2022-04-05T00:32:28.875504",
     "exception": false,
     "start_time": "2022-04-05T00:32:28.850388",
     "status": "completed"
    },
    "tags": []
   },
   "source": [
    "You are going to write a classifier that distinguishes between the number 3 and number 8."
   ]
  },
  {
   "cell_type": "code",
   "execution_count": 1,
   "id": "b15c8646",
   "metadata": {
    "execution": {
     "iopub.execute_input": "2022-04-05T00:32:28.933034Z",
     "iopub.status.busy": "2022-04-05T00:32:28.932503Z",
     "iopub.status.idle": "2022-04-05T00:32:28.942512Z",
     "shell.execute_reply": "2022-04-05T00:32:28.942902Z"
    },
    "papermill": {
     "duration": 0.044093,
     "end_time": "2022-04-05T00:32:28.943057",
     "exception": false,
     "start_time": "2022-04-05T00:32:28.898964",
     "status": "completed"
    },
    "tags": []
   },
   "outputs": [],
   "source": [
    "%load_ext autoreload\n",
    "%autoreload 2"
   ]
  },
  {
   "cell_type": "code",
   "execution_count": 2,
   "id": "22ef38dc",
   "metadata": {
    "execution": {
     "iopub.execute_input": "2022-04-05T00:32:29.004791Z",
     "iopub.status.busy": "2022-04-05T00:32:29.000263Z",
     "iopub.status.idle": "2022-04-05T00:32:29.589489Z",
     "shell.execute_reply": "2022-04-05T00:32:29.589975Z"
    },
    "papermill": {
     "duration": 0.623338,
     "end_time": "2022-04-05T00:32:29.590150",
     "exception": false,
     "start_time": "2022-04-05T00:32:28.966812",
     "status": "completed"
    },
    "tags": []
   },
   "outputs": [],
   "source": [
    "%matplotlib inline\n",
    "import numpy as np\n",
    "import matplotlib.pyplot as plt\n",
    "import pandas as pd"
   ]
  },
  {
   "cell_type": "markdown",
   "id": "ba036198",
   "metadata": {
    "papermill": {
     "duration": 0.023776,
     "end_time": "2022-04-05T00:32:29.638769",
     "exception": false,
     "start_time": "2022-04-05T00:32:29.614993",
     "status": "completed"
    },
    "tags": []
   },
   "source": [
    "From the command line run `pip install mnist`. This is a library that will help you bring down the mnist dataset. If you run this from a notebook, you need to put  `!pip install mnist` in a cell by itself."
   ]
  },
  {
   "cell_type": "code",
   "execution_count": 3,
   "id": "bb6ad8a1",
   "metadata": {
    "execution": {
     "iopub.execute_input": "2022-04-05T00:32:29.708796Z",
     "iopub.status.busy": "2022-04-05T00:32:29.708259Z",
     "iopub.status.idle": "2022-04-05T00:32:31.444059Z",
     "shell.execute_reply": "2022-04-05T00:32:31.442751Z"
    },
    "papermill": {
     "duration": 1.781745,
     "end_time": "2022-04-05T00:32:31.444221",
     "exception": false,
     "start_time": "2022-04-05T00:32:29.662476",
     "status": "completed"
    },
    "tags": []
   },
   "outputs": [
    {
     "name": "stdout",
     "output_type": "stream",
     "text": [
      "Collecting mnist\r\n"
     ]
    },
    {
     "name": "stdout",
     "output_type": "stream",
     "text": [
      "  Downloading mnist-0.2.2-py2.py3-none-any.whl (3.5 kB)\r\n",
      "Requirement already satisfied: numpy in /opt/hostedtoolcache/Python/3.6.15/x64/lib/python3.6/site-packages (from mnist) (1.19.5)\r\n"
     ]
    },
    {
     "name": "stdout",
     "output_type": "stream",
     "text": [
      "Installing collected packages: mnist\r\n"
     ]
    },
    {
     "name": "stdout",
     "output_type": "stream",
     "text": [
      "Successfully installed mnist-0.2.2\r\n"
     ]
    }
   ],
   "source": [
    "!pip install mnist"
   ]
  },
  {
   "cell_type": "markdown",
   "id": "69df9c9a",
   "metadata": {
    "papermill": {
     "duration": 0.025256,
     "end_time": "2022-04-05T00:32:31.494968",
     "exception": false,
     "start_time": "2022-04-05T00:32:31.469712",
     "status": "completed"
    },
    "tags": []
   },
   "source": [
    "## Preparing the Data"
   ]
  },
  {
   "cell_type": "code",
   "execution_count": 4,
   "id": "7f69d806",
   "metadata": {
    "execution": {
     "iopub.execute_input": "2022-04-05T00:32:31.548741Z",
     "iopub.status.busy": "2022-04-05T00:32:31.548231Z",
     "iopub.status.idle": "2022-04-05T00:32:31.562753Z",
     "shell.execute_reply": "2022-04-05T00:32:31.562322Z"
    },
    "papermill": {
     "duration": 0.043267,
     "end_time": "2022-04-05T00:32:31.562857",
     "exception": false,
     "start_time": "2022-04-05T00:32:31.519590",
     "status": "completed"
    },
    "tags": []
   },
   "outputs": [],
   "source": [
    "import mnist"
   ]
  },
  {
   "cell_type": "code",
   "execution_count": 5,
   "id": "a411e44f",
   "metadata": {
    "execution": {
     "iopub.execute_input": "2022-04-05T00:32:31.615877Z",
     "iopub.status.busy": "2022-04-05T00:32:31.615331Z",
     "iopub.status.idle": "2022-04-05T00:32:32.177563Z",
     "shell.execute_reply": "2022-04-05T00:32:32.178018Z"
    },
    "papermill": {
     "duration": 0.590537,
     "end_time": "2022-04-05T00:32:32.178168",
     "exception": false,
     "start_time": "2022-04-05T00:32:31.587631",
     "status": "completed"
    },
    "tags": []
   },
   "outputs": [],
   "source": [
    "train_images = mnist.train_images()\n",
    "train_labels = mnist.train_labels()"
   ]
  },
  {
   "cell_type": "code",
   "execution_count": 6,
   "id": "dceab3a5",
   "metadata": {
    "execution": {
     "iopub.execute_input": "2022-04-05T00:32:32.232394Z",
     "iopub.status.busy": "2022-04-05T00:32:32.231869Z",
     "iopub.status.idle": "2022-04-05T00:32:32.247268Z",
     "shell.execute_reply": "2022-04-05T00:32:32.246855Z"
    },
    "papermill": {
     "duration": 0.043727,
     "end_time": "2022-04-05T00:32:32.247383",
     "exception": false,
     "start_time": "2022-04-05T00:32:32.203656",
     "status": "completed"
    },
    "tags": []
   },
   "outputs": [
    {
     "data": {
      "text/plain": [
       "((60000, 28, 28), (60000,))"
      ]
     },
     "execution_count": 6,
     "metadata": {},
     "output_type": "execute_result"
    }
   ],
   "source": [
    "train_images.shape, train_labels.shape"
   ]
  },
  {
   "cell_type": "code",
   "execution_count": 7,
   "id": "f50dc2bb",
   "metadata": {
    "execution": {
     "iopub.execute_input": "2022-04-05T00:32:32.300877Z",
     "iopub.status.busy": "2022-04-05T00:32:32.300381Z",
     "iopub.status.idle": "2022-04-05T00:32:32.458376Z",
     "shell.execute_reply": "2022-04-05T00:32:32.457808Z"
    },
    "papermill": {
     "duration": 0.186093,
     "end_time": "2022-04-05T00:32:32.458514",
     "exception": false,
     "start_time": "2022-04-05T00:32:32.272421",
     "status": "completed"
    },
    "tags": []
   },
   "outputs": [],
   "source": [
    "test_images = mnist.test_images()\n",
    "test_labels = mnist.test_labels()"
   ]
  },
  {
   "cell_type": "code",
   "execution_count": 8,
   "id": "fc38cf1b",
   "metadata": {
    "execution": {
     "iopub.execute_input": "2022-04-05T00:32:32.514417Z",
     "iopub.status.busy": "2022-04-05T00:32:32.513904Z",
     "iopub.status.idle": "2022-04-05T00:32:32.526810Z",
     "shell.execute_reply": "2022-04-05T00:32:32.526400Z"
    },
    "papermill": {
     "duration": 0.042505,
     "end_time": "2022-04-05T00:32:32.526926",
     "exception": false,
     "start_time": "2022-04-05T00:32:32.484421",
     "status": "completed"
    },
    "tags": []
   },
   "outputs": [
    {
     "data": {
      "text/plain": [
       "((10000, 28, 28), (10000,))"
      ]
     },
     "execution_count": 8,
     "metadata": {},
     "output_type": "execute_result"
    }
   ],
   "source": [
    "test_images.shape, test_labels.shape"
   ]
  },
  {
   "cell_type": "code",
   "execution_count": 9,
   "id": "f9ed8fe0",
   "metadata": {
    "execution": {
     "iopub.execute_input": "2022-04-05T00:32:32.592835Z",
     "iopub.status.busy": "2022-04-05T00:32:32.588309Z",
     "iopub.status.idle": "2022-04-05T00:32:32.722595Z",
     "shell.execute_reply": "2022-04-05T00:32:32.722160Z"
    },
    "papermill": {
     "duration": 0.170232,
     "end_time": "2022-04-05T00:32:32.722724",
     "exception": false,
     "start_time": "2022-04-05T00:32:32.552492",
     "status": "completed"
    },
    "tags": []
   },
   "outputs": [
    {
     "name": "stdout",
     "output_type": "stream",
     "text": [
      "2\n"
     ]
    },
    {
     "data": {
      "text/plain": [
       "<matplotlib.image.AxesImage at 0x7f2432423518>"
      ]
     },
     "execution_count": 9,
     "metadata": {},
     "output_type": "execute_result"
    },
    {
     "data": {
      "image/png": "[encoded data removed]",
      "text/plain": [
       "<Figure size 432x288 with 1 Axes>"
      ]
     },
     "metadata": {
      "needs_background": "light"
     },
     "output_type": "display_data"
    }
   ],
   "source": [
    "image_index = 7776 # You may select anything up to 60,000\n",
    "print(train_labels[image_index]) \n",
    "plt.imshow(train_images[image_index], cmap='Greys')"
   ]
  },
  {
   "cell_type": "markdown",
   "id": "a8d2388d",
   "metadata": {
    "papermill": {
     "duration": 0.026392,
     "end_time": "2022-04-05T00:32:32.776020",
     "exception": false,
     "start_time": "2022-04-05T00:32:32.749628",
     "status": "completed"
    },
    "tags": []
   },
   "source": [
    "## Filter data to get 3 and 8 out"
   ]
  },
  {
   "cell_type": "code",
   "execution_count": 10,
   "id": "776f7fc7",
   "metadata": {
    "execution": {
     "iopub.execute_input": "2022-04-05T00:32:32.833171Z",
     "iopub.status.busy": "2022-04-05T00:32:32.832643Z",
     "iopub.status.idle": "2022-04-05T00:32:32.852758Z",
     "shell.execute_reply": "2022-04-05T00:32:32.852280Z"
    },
    "papermill": {
     "duration": 0.050478,
     "end_time": "2022-04-05T00:32:32.852890",
     "exception": false,
     "start_time": "2022-04-05T00:32:32.802412",
     "status": "completed"
    },
    "tags": []
   },
   "outputs": [],
   "source": [
    "train_filter = np.where((train_labels == 3 ) | (train_labels == 8))\n",
    "test_filter = np.where((test_labels == 3) | (test_labels == 8))\n",
    "X_train, y_train = train_images[train_filter], train_labels[train_filter]\n",
    "X_test, y_test = test_images[test_filter], test_labels[test_filter]"
   ]
  },
  {
   "cell_type": "markdown",
   "id": "948f0b7e",
   "metadata": {
    "papermill": {
     "duration": 0.026161,
     "end_time": "2022-04-05T00:32:32.906315",
     "exception": false,
     "start_time": "2022-04-05T00:32:32.880154",
     "status": "completed"
    },
    "tags": []
   },
   "source": [
    "We normalize the pizel values in the 0 to 1 range"
   ]
  },
  {
   "cell_type": "code",
   "execution_count": 11,
   "id": "ee4c2166",
   "metadata": {
    "execution": {
     "iopub.execute_input": "2022-04-05T00:32:32.964766Z",
     "iopub.status.busy": "2022-04-05T00:32:32.964248Z",
     "iopub.status.idle": "2022-04-05T00:32:33.011475Z",
     "shell.execute_reply": "2022-04-05T00:32:33.011017Z"
    },
    "papermill": {
     "duration": 0.079049,
     "end_time": "2022-04-05T00:32:33.011636",
     "exception": false,
     "start_time": "2022-04-05T00:32:32.932587",
     "status": "completed"
    },
    "tags": []
   },
   "outputs": [],
   "source": [
    "X_train = X_train/255.\n",
    "X_test = X_test/255."
   ]
  },
  {
   "cell_type": "markdown",
   "id": "ddcf4fab",
   "metadata": {
    "papermill": {
     "duration": 0.026652,
     "end_time": "2022-04-05T00:32:33.065216",
     "exception": false,
     "start_time": "2022-04-05T00:32:33.038564",
     "status": "completed"
    },
    "tags": []
   },
   "source": [
    "And setup the labels as 1 (when the digit is 3) and 0 (when the digit is 8)"
   ]
  },
  {
   "cell_type": "code",
   "execution_count": 12,
   "id": "7dc908f2",
   "metadata": {
    "execution": {
     "iopub.execute_input": "2022-04-05T00:32:33.135695Z",
     "iopub.status.busy": "2022-04-05T00:32:33.132697Z",
     "iopub.status.idle": "2022-04-05T00:32:33.138041Z",
     "shell.execute_reply": "2022-04-05T00:32:33.137597Z"
    },
    "papermill": {
     "duration": 0.046412,
     "end_time": "2022-04-05T00:32:33.138156",
     "exception": false,
     "start_time": "2022-04-05T00:32:33.091744",
     "status": "completed"
    },
    "tags": []
   },
   "outputs": [],
   "source": [
    "y_train = 1*(y_train==3)\n",
    "y_test = 1*(y_test==3)"
   ]
  },
  {
   "cell_type": "code",
   "execution_count": 13,
   "id": "01e4e969",
   "metadata": {
    "execution": {
     "iopub.execute_input": "2022-04-05T00:32:33.208697Z",
     "iopub.status.busy": "2022-04-05T00:32:33.204991Z",
     "iopub.status.idle": "2022-04-05T00:32:33.213586Z",
     "shell.execute_reply": "2022-04-05T00:32:33.213170Z"
    },
    "papermill": {
     "duration": 0.048662,
     "end_time": "2022-04-05T00:32:33.213706",
     "exception": false,
     "start_time": "2022-04-05T00:32:33.165044",
     "status": "completed"
    },
    "tags": []
   },
   "outputs": [
    {
     "data": {
      "text/plain": [
       "((11982, 28, 28), (1984, 28, 28))"
      ]
     },
     "execution_count": 13,
     "metadata": {},
     "output_type": "execute_result"
    }
   ],
   "source": [
    "X_train.shape, X_test.shape"
   ]
  },
  {
   "cell_type": "markdown",
   "id": "5ccf3f85",
   "metadata": {
    "papermill": {
     "duration": 0.026666,
     "end_time": "2022-04-05T00:32:33.267146",
     "exception": false,
     "start_time": "2022-04-05T00:32:33.240480",
     "status": "completed"
    },
    "tags": []
   },
   "source": [
    "We reshape the data to flatten the image pixels into a set of features or co-variates:"
   ]
  },
  {
   "cell_type": "code",
   "execution_count": 14,
   "id": "5286a4a3",
   "metadata": {
    "execution": {
     "iopub.execute_input": "2022-04-05T00:32:33.327337Z",
     "iopub.status.busy": "2022-04-05T00:32:33.326828Z",
     "iopub.status.idle": "2022-04-05T00:32:33.338677Z",
     "shell.execute_reply": "2022-04-05T00:32:33.339083Z"
    },
    "papermill": {
     "duration": 0.045251,
     "end_time": "2022-04-05T00:32:33.339218",
     "exception": false,
     "start_time": "2022-04-05T00:32:33.293967",
     "status": "completed"
    },
    "tags": []
   },
   "outputs": [
    {
     "data": {
      "text/plain": [
       "((11982, 784), (1984, 784))"
      ]
     },
     "execution_count": 14,
     "metadata": {},
     "output_type": "execute_result"
    }
   ],
   "source": [
    "X_train = X_train.reshape(X_train.shape[0], -1)\n",
    "X_test = X_test.reshape(X_test.shape[0], -1)\n",
    "X_train.shape, X_test.shape"
   ]
  },
  {
   "cell_type": "code",
   "execution_count": 15,
   "id": "73c5f88a",
   "metadata": {
    "execution": {
     "iopub.execute_input": "2022-04-05T00:32:33.397104Z",
     "iopub.status.busy": "2022-04-05T00:32:33.396595Z",
     "iopub.status.idle": "2022-04-05T00:32:33.415282Z",
     "shell.execute_reply": "2022-04-05T00:32:33.414868Z"
    },
    "papermill": {
     "duration": 0.049334,
     "end_time": "2022-04-05T00:32:33.415399",
     "exception": false,
     "start_time": "2022-04-05T00:32:33.366065",
     "status": "completed"
    },
    "tags": []
   },
   "outputs": [],
   "source": [
    "#Impoting functions from 'Kudzu'\n",
    "from kudzu.model import Model\n",
    "from kudzu.train import Learner\n",
    "from kudzu.optim import GD\n",
    "from kudzu.data import Data, Sampler,Dataloader\n",
    "\n",
    "from kudzu.callbacks import AccCallback\n",
    "from kudzu.callbacks import ClfCallback\n",
    "\n",
    "from kudzu.loss import MSE\n",
    "\n",
    "from kudzu.layer import Sigmoid,Relu\n",
    "from kudzu.layer import Affine"
   ]
  },
  {
   "cell_type": "markdown",
   "id": "bc01172a",
   "metadata": {
    "papermill": {
     "duration": 0.027021,
     "end_time": "2022-04-05T00:32:33.469615",
     "exception": false,
     "start_time": "2022-04-05T00:32:33.442594",
     "status": "completed"
    },
    "tags": []
   },
   "source": [
    "### Let us create a `Config` class, to store important parameters. \n",
    "This class essentially plays the role of a dictionary."
   ]
  },
  {
   "cell_type": "code",
   "execution_count": 16,
   "id": "978281aa",
   "metadata": {
    "execution": {
     "iopub.execute_input": "2022-04-05T00:32:33.543697Z",
     "iopub.status.busy": "2022-04-05T00:32:33.543131Z",
     "iopub.status.idle": "2022-04-05T00:32:33.545576Z",
     "shell.execute_reply": "2022-04-05T00:32:33.545115Z"
    },
    "papermill": {
     "duration": 0.04923,
     "end_time": "2022-04-05T00:32:33.545690",
     "exception": false,
     "start_time": "2022-04-05T00:32:33.496460",
     "status": "completed"
    },
    "tags": []
   },
   "outputs": [],
   "source": [
    "class Config:\n",
    "    pass\n",
    "config = Config()\n",
    "config.lr = 0.001\n",
    "config.num_epochs = 250\n",
    "config.bs = 50"
   ]
  },
  {
   "cell_type": "markdown",
   "id": "1385fa59",
   "metadata": {
    "papermill": {
     "duration": 0.027039,
     "end_time": "2022-04-05T00:32:33.599870",
     "exception": false,
     "start_time": "2022-04-05T00:32:33.572831",
     "status": "completed"
    },
    "tags": []
   },
   "source": [
    "### Running Models with the Training data\n",
    "Details about the network layers:\n",
    "- A first affine layer has 784 inputs and does 100 affine transforms. These are followed by a Relu\n",
    "- A second affine layer has 100 inputs from the 100 activations of the past layer, and does 100 affine transforms. These are followed by a Relu\n",
    "- A third affine layer has 100 activations and does 2 affine transformations to create an embedding for visualization. There is no non-linearity here.\n",
    "- A final \"logistic regression\" which has an affine transform from 2 inputs to 1 output, which is squeezed through a sigmoid.\n"
   ]
  },
  {
   "cell_type": "code",
   "execution_count": 17,
   "id": "2b9c66db",
   "metadata": {
    "execution": {
     "iopub.execute_input": "2022-04-05T00:32:33.673640Z",
     "iopub.status.busy": "2022-04-05T00:32:33.672195Z",
     "iopub.status.idle": "2022-04-05T00:32:33.675929Z",
     "shell.execute_reply": "2022-04-05T00:32:33.675451Z"
    },
    "papermill": {
     "duration": 0.049143,
     "end_time": "2022-04-05T00:32:33.676047",
     "exception": false,
     "start_time": "2022-04-05T00:32:33.626904",
     "status": "completed"
    },
    "tags": []
   },
   "outputs": [],
   "source": [
    "data = Data(X_train, y_train.reshape(-1,1))\n",
    "sampler = Sampler(data, config.bs, shuffle=True)\n",
    "\n",
    "dl = Dataloader(data, sampler)\n",
    "\n",
    "opt = GD(config.lr)\n",
    "loss = MSE()"
   ]
  },
  {
   "cell_type": "code",
   "execution_count": 18,
   "id": "b275e4c2",
   "metadata": {
    "execution": {
     "iopub.execute_input": "2022-04-05T00:32:33.746804Z",
     "iopub.status.busy": "2022-04-05T00:32:33.746281Z",
     "iopub.status.idle": "2022-04-05T00:32:33.751776Z",
     "shell.execute_reply": "2022-04-05T00:32:33.751337Z"
    },
    "papermill": {
     "duration": 0.04871,
     "end_time": "2022-04-05T00:32:33.751895",
     "exception": false,
     "start_time": "2022-04-05T00:32:33.703185",
     "status": "completed"
    },
    "tags": []
   },
   "outputs": [],
   "source": [
    "training_data_x = X_train\n",
    "testing_data_x = X_test\n",
    "training_data_y = y_train.reshape(-1,1)\n",
    "testing_data_y = y_test.reshape(-1,1)"
   ]
  },
  {
   "cell_type": "code",
   "execution_count": 19,
   "id": "76951160",
   "metadata": {
    "execution": {
     "iopub.execute_input": "2022-04-05T00:32:33.820739Z",
     "iopub.status.busy": "2022-04-05T00:32:33.820224Z",
     "iopub.status.idle": "2022-04-05T00:32:33.831384Z",
     "shell.execute_reply": "2022-04-05T00:32:33.831789Z"
    },
    "papermill": {
     "duration": 0.053172,
     "end_time": "2022-04-05T00:32:33.831925",
     "exception": false,
     "start_time": "2022-04-05T00:32:33.778753",
     "status": "completed"
    },
    "tags": []
   },
   "outputs": [
    {
     "name": "stdout",
     "output_type": "stream",
     "text": [
      "xavier\n",
      "xavier\n",
      "xavier\n",
      "xavier\n",
      "xavier\n"
     ]
    }
   ],
   "source": [
    "layers = [Affine(\"first\", 784, 100), Relu(\"first\"), Affine(\"second\", 100, 100), Relu(\"second\"), Affine(\"third\", 100, 2), Affine(\"last\", 2, 1), Sigmoid(\"last\")]\n",
    "model_nn = Model(layers)\n",
    "model_lr = Model([Affine(\"logits\", 784, 1), Sigmoid(\"sigmoid\")])"
   ]
  },
  {
   "cell_type": "code",
   "execution_count": 20,
   "id": "6eede77a",
   "metadata": {
    "execution": {
     "iopub.execute_input": "2022-04-05T00:32:33.896167Z",
     "iopub.status.busy": "2022-04-05T00:32:33.889109Z",
     "iopub.status.idle": "2022-04-05T00:32:33.903367Z",
     "shell.execute_reply": "2022-04-05T00:32:33.902865Z"
    },
    "papermill": {
     "duration": 0.044411,
     "end_time": "2022-04-05T00:32:33.903473",
     "exception": false,
     "start_time": "2022-04-05T00:32:33.859062",
     "status": "completed"
    },
    "tags": []
   },
   "outputs": [],
   "source": [
    "nn_learner = Learner(loss, model_nn, opt, config.num_epochs)\n",
    "acc_nn = ClfCallback(nn_learner, config.bs, training_data_x , testing_data_x, training_data_y, testing_data_y)\n",
    "nn_learner.set_callbacks([acc_nn])"
   ]
  },
  {
   "cell_type": "code",
   "execution_count": 21,
   "id": "877b6cc7",
   "metadata": {
    "execution": {
     "iopub.execute_input": "2022-04-05T00:32:33.972169Z",
     "iopub.status.busy": "2022-04-05T00:32:33.964217Z",
     "iopub.status.idle": "2022-04-05T00:32:33.974369Z",
     "shell.execute_reply": "2022-04-05T00:32:33.973930Z"
    },
    "papermill": {
     "duration": 0.043862,
     "end_time": "2022-04-05T00:32:33.974476",
     "exception": false,
     "start_time": "2022-04-05T00:32:33.930614",
     "status": "completed"
    },
    "tags": []
   },
   "outputs": [],
   "source": [
    "lr_learner = Learner(loss, model_lr, opt, config.num_epochs)\n",
    "acc_lr = ClfCallback(lr_learner, config.bs, training_data_x , testing_data_x, training_data_y, testing_data_y)\n",
    "lr_learner.set_callbacks([acc_lr])"
   ]
  },
  {
   "cell_type": "code",
   "execution_count": 22,
   "id": "d9b133c3",
   "metadata": {
    "execution": {
     "iopub.execute_input": "2022-04-05T00:32:34.032085Z",
     "iopub.status.busy": "2022-04-05T00:32:34.031571Z",
     "iopub.status.idle": "2022-04-05T00:33:49.807065Z",
     "shell.execute_reply": "2022-04-05T00:33:49.807823Z"
    },
    "papermill": {
     "duration": 75.806267,
     "end_time": "2022-04-05T00:33:49.807985",
     "exception": false,
     "start_time": "2022-04-05T00:32:34.001718",
     "status": "completed"
    },
    "tags": []
   },
   "outputs": [
    {
     "name": "stdout",
     "output_type": "stream",
     "text": [
      "Epoch 0, Loss 0.2524\n",
      "Training Accuracy: 0.4977, Testing Accuracy: 0.4894\n",
      "\n"
     ]
    },
    {
     "name": "stdout",
     "output_type": "stream",
     "text": [
      "Epoch 10, Loss 0.1616\n",
      "Training Accuracy: 0.8722, Testing Accuracy: 0.8876\n",
      "\n"
     ]
    },
    {
     "name": "stdout",
     "output_type": "stream",
     "text": [
      "Epoch 20, Loss 0.0818\n",
      "Training Accuracy: 0.9188, Testing Accuracy: 0.9299\n",
      "\n"
     ]
    },
    {
     "name": "stdout",
     "output_type": "stream",
     "text": [
      "Epoch 30, Loss 0.0552\n",
      "Training Accuracy: 0.9424, Testing Accuracy: 0.9491\n",
      "\n"
     ]
    },
    {
     "name": "stdout",
     "output_type": "stream",
     "text": [
      "Epoch 40, Loss 0.0444\n",
      "Training Accuracy: 0.9524, Testing Accuracy: 0.9612\n",
      "\n"
     ]
    },
    {
     "name": "stdout",
     "output_type": "stream",
     "text": [
      "Epoch 50, Loss 0.0389\n",
      "Training Accuracy: 0.9573, Testing Accuracy: 0.9662\n",
      "\n"
     ]
    },
    {
     "name": "stdout",
     "output_type": "stream",
     "text": [
      "Epoch 60, Loss 0.0355\n",
      "Training Accuracy: 0.9608, Testing Accuracy: 0.9677\n",
      "\n"
     ]
    },
    {
     "name": "stdout",
     "output_type": "stream",
     "text": [
      "Epoch 70, Loss 0.0331\n",
      "Training Accuracy: 0.9629, Testing Accuracy: 0.9677\n",
      "\n"
     ]
    },
    {
     "name": "stdout",
     "output_type": "stream",
     "text": [
      "Epoch 80, Loss 0.0312\n",
      "Training Accuracy: 0.9648, Testing Accuracy: 0.9693\n",
      "\n"
     ]
    },
    {
     "name": "stdout",
     "output_type": "stream",
     "text": [
      "Epoch 90, Loss 0.0298\n",
      "Training Accuracy: 0.9661, Testing Accuracy: 0.9693\n",
      "\n"
     ]
    },
    {
     "name": "stdout",
     "output_type": "stream",
     "text": [
      "Epoch 100, Loss 0.0285\n",
      "Training Accuracy: 0.9675, Testing Accuracy: 0.9703\n",
      "\n"
     ]
    },
    {
     "name": "stdout",
     "output_type": "stream",
     "text": [
      "Epoch 110, Loss 0.0275\n",
      "Training Accuracy: 0.9686, Testing Accuracy: 0.9698\n",
      "\n"
     ]
    },
    {
     "name": "stdout",
     "output_type": "stream",
     "text": [
      "Epoch 120, Loss 0.0266\n",
      "Training Accuracy: 0.9698, Testing Accuracy: 0.9708\n",
      "\n"
     ]
    },
    {
     "name": "stdout",
     "output_type": "stream",
     "text": [
      "Epoch 130, Loss 0.0258\n",
      "Training Accuracy: 0.9706, Testing Accuracy: 0.9703\n",
      "\n"
     ]
    },
    {
     "name": "stdout",
     "output_type": "stream",
     "text": [
      "Epoch 140, Loss 0.025\n",
      "Training Accuracy: 0.9712, Testing Accuracy: 0.9703\n",
      "\n"
     ]
    },
    {
     "name": "stdout",
     "output_type": "stream",
     "text": [
      "Epoch 150, Loss 0.0243\n",
      "Training Accuracy: 0.9716, Testing Accuracy: 0.9713\n",
      "\n"
     ]
    },
    {
     "name": "stdout",
     "output_type": "stream",
     "text": [
      "Epoch 160, Loss 0.0237\n",
      "Training Accuracy: 0.9722, Testing Accuracy: 0.9708\n",
      "\n"
     ]
    },
    {
     "name": "stdout",
     "output_type": "stream",
     "text": [
      "Epoch 170, Loss 0.0231\n",
      "Training Accuracy: 0.9730, Testing Accuracy: 0.9723\n",
      "\n"
     ]
    },
    {
     "name": "stdout",
     "output_type": "stream",
     "text": [
      "Epoch 180, Loss 0.0225\n",
      "Training Accuracy: 0.9739, Testing Accuracy: 0.9733\n",
      "\n"
     ]
    },
    {
     "name": "stdout",
     "output_type": "stream",
     "text": [
      "Epoch 190, Loss 0.022\n",
      "Training Accuracy: 0.9749, Testing Accuracy: 0.9733\n",
      "\n"
     ]
    },
    {
     "name": "stdout",
     "output_type": "stream",
     "text": [
      "Epoch 200, Loss 0.0215\n",
      "Training Accuracy: 0.9753, Testing Accuracy: 0.9738\n",
      "\n"
     ]
    },
    {
     "name": "stdout",
     "output_type": "stream",
     "text": [
      "Epoch 210, Loss 0.021\n",
      "Training Accuracy: 0.9758, Testing Accuracy: 0.9743\n",
      "\n"
     ]
    },
    {
     "name": "stdout",
     "output_type": "stream",
     "text": [
      "Epoch 220, Loss 0.0205\n",
      "Training Accuracy: 0.9768, Testing Accuracy: 0.9743\n",
      "\n"
     ]
    },
    {
     "name": "stdout",
     "output_type": "stream",
     "text": [
      "Epoch 230, Loss 0.0201\n",
      "Training Accuracy: 0.9776, Testing Accuracy: 0.9743\n",
      "\n"
     ]
    },
    {
     "name": "stdout",
     "output_type": "stream",
     "text": [
      "Epoch 240, Loss 0.0196\n",
      "Training Accuracy: 0.9780, Testing Accuracy: 0.9748\n",
      "\n"
     ]
    },
    {
     "data": {
      "text/plain": [
       "0.002050198930067545"
      ]
     },
     "execution_count": 22,
     "metadata": {},
     "output_type": "execute_result"
    }
   ],
   "source": [
    "nn_learner.train_loop(dl)"
   ]
  },
  {
   "cell_type": "code",
   "execution_count": 23,
   "id": "e0163366",
   "metadata": {
    "execution": {
     "iopub.execute_input": "2022-04-05T00:33:49.888838Z",
     "iopub.status.busy": "2022-04-05T00:33:49.888308Z",
     "iopub.status.idle": "2022-04-05T00:34:03.791243Z",
     "shell.execute_reply": "2022-04-05T00:34:03.792054Z"
    },
    "papermill": {
     "duration": 13.949635,
     "end_time": "2022-04-05T00:34:03.792218",
     "exception": false,
     "start_time": "2022-04-05T00:33:49.842583",
     "status": "completed"
    },
    "tags": []
   },
   "outputs": [
    {
     "name": "stdout",
     "output_type": "stream",
     "text": [
      "Epoch 0, Loss 0.2458\n",
      "Training Accuracy: 0.6921, Testing Accuracy: 0.7031\n",
      "\n"
     ]
    },
    {
     "name": "stdout",
     "output_type": "stream",
     "text": [
      "Epoch 10, Loss 0.1001\n",
      "Training Accuracy: 0.9171, Testing Accuracy: 0.9294\n",
      "\n"
     ]
    },
    {
     "name": "stdout",
     "output_type": "stream",
     "text": [
      "Epoch 20, Loss 0.0774\n",
      "Training Accuracy: 0.9312, Testing Accuracy: 0.9395\n",
      "\n"
     ]
    },
    {
     "name": "stdout",
     "output_type": "stream",
     "text": [
      "Epoch 30, Loss 0.067\n",
      "Training Accuracy: 0.9372, Testing Accuracy: 0.9491\n",
      "\n"
     ]
    },
    {
     "name": "stdout",
     "output_type": "stream",
     "text": [
      "Epoch 40, Loss 0.0607\n",
      "Training Accuracy: 0.9418, Testing Accuracy: 0.9526\n",
      "\n"
     ]
    },
    {
     "name": "stdout",
     "output_type": "stream",
     "text": [
      "Epoch 50, Loss 0.0563\n",
      "Training Accuracy: 0.9460, Testing Accuracy: 0.9546\n",
      "\n"
     ]
    },
    {
     "name": "stdout",
     "output_type": "stream",
     "text": [
      "Epoch 60, Loss 0.0531\n",
      "Training Accuracy: 0.9480, Testing Accuracy: 0.9572\n",
      "\n"
     ]
    },
    {
     "name": "stdout",
     "output_type": "stream",
     "text": [
      "Epoch 70, Loss 0.0507\n",
      "Training Accuracy: 0.9494, Testing Accuracy: 0.9592\n",
      "\n"
     ]
    },
    {
     "name": "stdout",
     "output_type": "stream",
     "text": [
      "Epoch 80, Loss 0.0487\n",
      "Training Accuracy: 0.9511, Testing Accuracy: 0.9602\n",
      "\n"
     ]
    },
    {
     "name": "stdout",
     "output_type": "stream",
     "text": [
      "Epoch 90, Loss 0.047\n",
      "Training Accuracy: 0.9523, Testing Accuracy: 0.9612\n",
      "\n"
     ]
    },
    {
     "name": "stdout",
     "output_type": "stream",
     "text": [
      "Epoch 100, Loss 0.0457\n",
      "Training Accuracy: 0.9527, Testing Accuracy: 0.9622\n",
      "\n"
     ]
    },
    {
     "name": "stdout",
     "output_type": "stream",
     "text": [
      "Epoch 110, Loss 0.0445\n",
      "Training Accuracy: 0.9543, Testing Accuracy: 0.9637\n",
      "\n"
     ]
    },
    {
     "name": "stdout",
     "output_type": "stream",
     "text": [
      "Epoch 120, Loss 0.0434\n",
      "Training Accuracy: 0.9556, Testing Accuracy: 0.9637\n",
      "\n"
     ]
    },
    {
     "name": "stdout",
     "output_type": "stream",
     "text": [
      "Epoch 130, Loss 0.0425\n",
      "Training Accuracy: 0.9564, Testing Accuracy: 0.9632\n",
      "\n"
     ]
    },
    {
     "name": "stdout",
     "output_type": "stream",
     "text": [
      "Epoch 140, Loss 0.0417\n",
      "Training Accuracy: 0.9572, Testing Accuracy: 0.9637\n",
      "\n"
     ]
    },
    {
     "name": "stdout",
     "output_type": "stream",
     "text": [
      "Epoch 150, Loss 0.041\n",
      "Training Accuracy: 0.9579, Testing Accuracy: 0.9632\n",
      "\n"
     ]
    },
    {
     "name": "stdout",
     "output_type": "stream",
     "text": [
      "Epoch 160, Loss 0.0403\n",
      "Training Accuracy: 0.9584, Testing Accuracy: 0.9637\n",
      "\n"
     ]
    },
    {
     "name": "stdout",
     "output_type": "stream",
     "text": [
      "Epoch 170, Loss 0.0397\n",
      "Training Accuracy: 0.9589, Testing Accuracy: 0.9637\n",
      "\n"
     ]
    },
    {
     "name": "stdout",
     "output_type": "stream",
     "text": [
      "Epoch 180, Loss 0.0392\n",
      "Training Accuracy: 0.9592, Testing Accuracy: 0.9637\n",
      "\n"
     ]
    },
    {
     "name": "stdout",
     "output_type": "stream",
     "text": [
      "Epoch 190, Loss 0.0387\n",
      "Training Accuracy: 0.9596, Testing Accuracy: 0.9642\n",
      "\n"
     ]
    },
    {
     "name": "stdout",
     "output_type": "stream",
     "text": [
      "Epoch 200, Loss 0.0382\n",
      "Training Accuracy: 0.9598, Testing Accuracy: 0.9647\n",
      "\n"
     ]
    },
    {
     "name": "stdout",
     "output_type": "stream",
     "text": [
      "Epoch 210, Loss 0.0378\n",
      "Training Accuracy: 0.9603, Testing Accuracy: 0.9652\n",
      "\n"
     ]
    },
    {
     "name": "stdout",
     "output_type": "stream",
     "text": [
      "Epoch 220, Loss 0.0374\n",
      "Training Accuracy: 0.9605, Testing Accuracy: 0.9652\n",
      "\n"
     ]
    },
    {
     "name": "stdout",
     "output_type": "stream",
     "text": [
      "Epoch 230, Loss 0.037\n",
      "Training Accuracy: 0.9608, Testing Accuracy: 0.9652\n",
      "\n"
     ]
    },
    {
     "name": "stdout",
     "output_type": "stream",
     "text": [
      "Epoch 240, Loss 0.0367\n",
      "Training Accuracy: 0.9608, Testing Accuracy: 0.9652\n",
      "\n"
     ]
    },
    {
     "data": {
      "text/plain": [
       "0.028882990475144046"
      ]
     },
     "execution_count": 23,
     "metadata": {},
     "output_type": "execute_result"
    }
   ],
   "source": [
    "lr_learner.train_loop(dl)"
   ]
  },
  {
   "cell_type": "code",
   "execution_count": 24,
   "id": "ca410940",
   "metadata": {
    "execution": {
     "iopub.execute_input": "2022-04-05T00:34:03.883911Z",
     "iopub.status.busy": "2022-04-05T00:34:03.883339Z",
     "iopub.status.idle": "2022-04-05T00:34:04.108157Z",
     "shell.execute_reply": "2022-04-05T00:34:04.108808Z"
    },
    "papermill": {
     "duration": 0.274944,
     "end_time": "2022-04-05T00:34:04.108967",
     "exception": false,
     "start_time": "2022-04-05T00:34:03.834023",
     "status": "completed"
    },
    "tags": []
   },
   "outputs": [
    {
     "data": {
      "text/plain": [
       "<matplotlib.legend.Legend at 0x7f2432001be0>"
      ]
     },
     "execution_count": 24,
     "metadata": {},
     "output_type": "execute_result"
    },
    {
     "data": {
      "image/png": "[encoded data removed]",
      "text/plain": [
       "<Figure size 1080x720 with 1 Axes>"
      ]
     },
     "metadata": {
      "needs_background": "light"
     },
     "output_type": "display_data"
    }
   ],
   "source": [
    "#comparing the results of NN and LR\n",
    "plt.figure(figsize=(15,10))\n",
    "\n",
    "# Neural Network plots\n",
    "plt.plot(acc_nn.accuracies, 'r-', label = \"Training Accuracies - NN\")\n",
    "plt.plot(acc_nn.test_accuracies, 'g-', label = \"Testing Accuracies - NN\")\n",
    "\n",
    "# Logistic Regression plots\n",
    "plt.plot(acc_lr.accuracies, 'k-', label = \"Training Accuracies - LR\")\n",
    "plt.plot(acc_lr.test_accuracies, 'b-', label = \"Testing Accuracies - LR\")\n",
    "plt.legend()"
   ]
  },
  {
   "cell_type": "markdown",
   "id": "80dfb35c",
   "metadata": {
    "papermill": {
     "duration": 0.042014,
     "end_time": "2022-04-05T00:34:04.193376",
     "exception": false,
     "start_time": "2022-04-05T00:34:04.151362",
     "status": "completed"
    },
    "tags": []
   },
   "source": [
    "#### Plotting the outputs of this layer of the NN.\n"
   ]
  },
  {
   "cell_type": "code",
   "execution_count": 25,
   "id": "45eb2ff5",
   "metadata": {
    "execution": {
     "iopub.execute_input": "2022-04-05T00:34:04.281886Z",
     "iopub.status.busy": "2022-04-05T00:34:04.281346Z",
     "iopub.status.idle": "2022-04-05T00:34:04.302593Z",
     "shell.execute_reply": "2022-04-05T00:34:04.302143Z"
    },
    "papermill": {
     "duration": 0.067103,
     "end_time": "2022-04-05T00:34:04.302708",
     "exception": false,
     "start_time": "2022-04-05T00:34:04.235605",
     "status": "completed"
    },
    "tags": []
   },
   "outputs": [],
   "source": [
    "new_model = Model(layers[:-2])\n",
    "testing_plot = new_model(testing_data_x)"
   ]
  },
  {
   "cell_type": "code",
   "execution_count": 26,
   "id": "4c0a5485",
   "metadata": {
    "execution": {
     "iopub.execute_input": "2022-04-05T00:34:04.394332Z",
     "iopub.status.busy": "2022-04-05T00:34:04.393799Z",
     "iopub.status.idle": "2022-04-05T00:34:04.581898Z",
     "shell.execute_reply": "2022-04-05T00:34:04.582347Z"
    },
    "papermill": {
     "duration": 0.235088,
     "end_time": "2022-04-05T00:34:04.582492",
     "exception": false,
     "start_time": "2022-04-05T00:34:04.347404",
     "status": "completed"
    },
    "tags": []
   },
   "outputs": [
    {
     "data": {
      "text/plain": [
       "Text(0.5, 1.0, 'Outputs')"
      ]
     },
     "execution_count": 26,
     "metadata": {},
     "output_type": "execute_result"
    },
    {
     "data": {
      "image/png": "[encoded data removed]",
      "text/plain": [
       "<Figure size 576x504 with 1 Axes>"
      ]
     },
     "metadata": {
      "needs_background": "light"
     },
     "output_type": "display_data"
    }
   ],
   "source": [
    "# Plotting the scatter plot of points and color coding by class\n",
    "plt.figure(figsize=(8,7))\n",
    "plt.scatter(testing_plot[:,0], testing_plot[:,1], alpha = 0.1, c = y_test.ravel());\n",
    "plt.title('Outputs')"
   ]
  },
  {
   "cell_type": "markdown",
   "id": "a74fcf8f",
   "metadata": {
    "papermill": {
     "duration": 0.043956,
     "end_time": "2022-04-05T00:34:04.671158",
     "exception": false,
     "start_time": "2022-04-05T00:34:04.627202",
     "status": "completed"
    },
    "tags": []
   },
   "source": [
    "Probability contours"
   ]
  },
  {
   "cell_type": "code",
   "execution_count": 27,
   "id": "d0afc8e3",
   "metadata": {
    "execution": {
     "iopub.execute_input": "2022-04-05T00:34:04.763159Z",
     "iopub.status.busy": "2022-04-05T00:34:04.762638Z",
     "iopub.status.idle": "2022-04-05T00:34:04.775102Z",
     "shell.execute_reply": "2022-04-05T00:34:04.774586Z"
    },
    "papermill": {
     "duration": 0.059964,
     "end_time": "2022-04-05T00:34:04.775216",
     "exception": false,
     "start_time": "2022-04-05T00:34:04.715252",
     "status": "completed"
    },
    "tags": []
   },
   "outputs": [],
   "source": [
    "model_prob = Model(layers[-2:]) "
   ]
  },
  {
   "cell_type": "code",
   "execution_count": 28,
   "id": "9b96e238",
   "metadata": {
    "execution": {
     "iopub.execute_input": "2022-04-05T00:34:04.900846Z",
     "iopub.status.busy": "2022-04-05T00:34:04.900307Z",
     "iopub.status.idle": "2022-04-05T00:34:04.913665Z",
     "shell.execute_reply": "2022-04-05T00:34:04.914049Z"
    },
    "papermill": {
     "duration": 0.064894,
     "end_time": "2022-04-05T00:34:04.914183",
     "exception": false,
     "start_time": "2022-04-05T00:34:04.849289",
     "status": "completed"
    },
    "tags": []
   },
   "outputs": [],
   "source": [
    "#creating the x and y ranges according to the above generated plot.\n",
    "x_range = np.linspace(-4, 1, 100) \n",
    "y_range = np.linspace(-6, 6, 100) \n",
    "x_grid, y_grid = np.meshgrid(x_range, y_range) # x_grid and y_grig are of size 100 X 100\n",
    "\n",
    "# converting x_grid and y_grid to continuous arrays\n",
    "x_gridflat = np.ravel(x_grid)\n",
    "y_gridflat = np.ravel(y_grid)\n",
    "\n",
    "# The last layer of the current model takes two columns as input. Hence transpose of np.vstack() is required.\n",
    "X = np.vstack((x_gridflat, y_gridflat)).T\n",
    "\n",
    "prob_contour = model_prob(X).reshape(100,100) "
   ]
  },
  {
   "cell_type": "code",
   "execution_count": 29,
   "id": "da72499a",
   "metadata": {
    "execution": {
     "iopub.execute_input": "2022-04-05T00:34:05.006074Z",
     "iopub.status.busy": "2022-04-05T00:34:05.005568Z",
     "iopub.status.idle": "2022-04-05T00:34:05.244666Z",
     "shell.execute_reply": "2022-04-05T00:34:05.245079Z"
    },
    "papermill": {
     "duration": 0.286644,
     "end_time": "2022-04-05T00:34:05.245223",
     "exception": false,
     "start_time": "2022-04-05T00:34:04.958579",
     "status": "completed"
    },
    "tags": []
   },
   "outputs": [
    {
     "data": {
      "image/png": "[encoded data removed]",
      "text/plain": [
       "<Figure size 720x648 with 1 Axes>"
      ]
     },
     "metadata": {
      "needs_background": "light"
     },
     "output_type": "display_data"
    }
   ],
   "source": [
    "plt.figure(figsize=(10,9))\n",
    "plt.scatter(testing_plot[:,0], testing_plot[:,1], alpha = 0.1, c = y_test.ravel())\n",
    "contours = plt.contour(x_grid,y_grid,prob_contour)\n",
    "plt.title('Probability Contours')\n",
    "plt.clabel(contours, inline = True );"
   ]
  },
  {
   "cell_type": "code",
   "execution_count": null,
   "id": "e81b4ac7",
   "metadata": {
    "papermill": {
     "duration": 0.047106,
     "end_time": "2022-04-05T00:34:05.339406",
     "exception": false,
     "start_time": "2022-04-05T00:34:05.292300",
     "status": "completed"
    },
    "tags": []
   },
   "outputs": [],
   "source": []
  }
 ],
 "metadata": {
  "kernelspec": {
   "display_name": "Python 3",
   "language": "python",
   "name": "python3"
  },
  "language_info": {
   "codemirror_mode": {
    "name": "ipython",
    "version": 3
   },
   "file_extension": ".py",
   "mimetype": "text/x-python",
   "name": "python",
   "nbconvert_exporter": "python",
   "pygments_lexer": "ipython3",
   "version": "3.6.15"
  },
  "papermill": {
   "default_parameters": {},
   "duration": 97.93664,
   "end_time": "2022-04-05T00:34:05.805106",
   "environment_variables": {},
   "exception": null,
   "input_path": "2020-08-11-part2.ipynb",
   "output_path": "2020-08-11-part2.ipynb",
   "parameters": {},
   "start_time": "2022-04-05T00:32:27.868466",
   "version": "2.3.3"
  }
 },
 "nbformat": 4,
 "nbformat_minor": 5
}