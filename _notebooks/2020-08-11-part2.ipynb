{
 "cells": [
  {
   "cell_type": "markdown",
   "id": "98380cd3",
   "metadata": {
    "papermill": {
     "duration": 0.036553,
     "end_time": "2022-08-05T10:10:57.365618",
     "exception": false,
     "start_time": "2022-08-05T10:10:57.329065",
     "status": "completed"
    },
    "tags": []
   },
   "source": [
    "# Distinguish Your Own Digits (DYOD)"
   ]
  },
  {
   "cell_type": "markdown",
   "id": "ef31240d",
   "metadata": {
    "papermill": {
     "duration": 0.03026,
     "end_time": "2022-08-05T10:10:57.426084",
     "exception": false,
     "start_time": "2022-08-05T10:10:57.395824",
     "status": "completed"
    },
    "tags": []
   },
   "source": [
    "You are going to write a classifier that distinguishes between the number 3 and number 8."
   ]
  },
  {
   "cell_type": "code",
   "execution_count": 1,
   "id": "b15c8646",
   "metadata": {
    "execution": {
     "iopub.execute_input": "2022-08-05T10:10:57.494451Z",
     "iopub.status.busy": "2022-08-05T10:10:57.493731Z",
     "iopub.status.idle": "2022-08-05T10:10:57.507396Z",
     "shell.execute_reply": "2022-08-05T10:10:57.506762Z"
    },
    "papermill": {
     "duration": 0.052333,
     "end_time": "2022-08-05T10:10:57.507546",
     "exception": false,
     "start_time": "2022-08-05T10:10:57.455213",
     "status": "completed"
    },
    "tags": []
   },
   "outputs": [],
   "source": [
    "%load_ext autoreload\n",
    "%autoreload 2"
   ]
  },
  {
   "cell_type": "code",
   "execution_count": 2,
   "id": "22ef38dc",
   "metadata": {
    "execution": {
     "iopub.execute_input": "2022-08-05T10:10:57.593854Z",
     "iopub.status.busy": "2022-08-05T10:10:57.591862Z",
     "iopub.status.idle": "2022-08-05T10:10:58.192406Z",
     "shell.execute_reply": "2022-08-05T10:10:58.191831Z"
    },
    "papermill": {
     "duration": 0.646064,
     "end_time": "2022-08-05T10:10:58.192540",
     "exception": false,
     "start_time": "2022-08-05T10:10:57.546476",
     "status": "completed"
    },
    "tags": []
   },
   "outputs": [],
   "source": [
    "%matplotlib inline\n",
    "import numpy as np\n",
    "import matplotlib.pyplot as plt\n",
    "import pandas as pd"
   ]
  },
  {
   "cell_type": "markdown",
   "id": "ba036198",
   "metadata": {
    "papermill": {
     "duration": 0.02883,
     "end_time": "2022-08-05T10:10:58.249784",
     "exception": false,
     "start_time": "2022-08-05T10:10:58.220954",
     "status": "completed"
    },
    "tags": []
   },
   "source": [
    "From the command line run `pip install mnist`. This is a library that will help you bring down the mnist dataset. If you run this from a notebook, you need to put  `!pip install mnist` in a cell by itself."
   ]
  },
  {
   "cell_type": "code",
   "execution_count": 3,
   "id": "bb6ad8a1",
   "metadata": {
    "execution": {
     "iopub.execute_input": "2022-08-05T10:10:58.309958Z",
     "iopub.status.busy": "2022-08-05T10:10:58.309242Z",
     "iopub.status.idle": "2022-08-05T10:11:00.122230Z",
     "shell.execute_reply": "2022-08-05T10:11:00.122947Z"
    },
    "papermill": {
     "duration": 1.845366,
     "end_time": "2022-08-05T10:11:00.123102",
     "exception": false,
     "start_time": "2022-08-05T10:10:58.277736",
     "status": "completed"
    },
    "tags": []
   },
   "outputs": [
    {
     "name": "stdout",
     "output_type": "stream",
     "text": [
      "Collecting mnist\r\n"
     ]
    },
    {
     "name": "stdout",
     "output_type": "stream",
     "text": [
      "  Downloading mnist-0.2.2-py2.py3-none-any.whl (3.5 kB)\r\n",
      "Requirement already satisfied: numpy in /opt/hostedtoolcache/Python/3.6.15/x64/lib/python3.6/site-packages (from mnist) (1.19.5)\r\n"
     ]
    },
    {
     "name": "stdout",
     "output_type": "stream",
     "text": [
      "Installing collected packages: mnist\r\n"
     ]
    },
    {
     "name": "stdout",
     "output_type": "stream",
     "text": [
      "Successfully installed mnist-0.2.2\r\n"
     ]
    }
   ],
   "source": [
    "!pip install mnist"
   ]
  },
  {
   "cell_type": "markdown",
   "id": "69df9c9a",
   "metadata": {
    "papermill": {
     "duration": 0.027854,
     "end_time": "2022-08-05T10:11:00.178684",
     "exception": false,
     "start_time": "2022-08-05T10:11:00.150830",
     "status": "completed"
    },
    "tags": []
   },
   "source": [
    "## Preparing the Data"
   ]
  },
  {
   "cell_type": "code",
   "execution_count": 4,
   "id": "7f69d806",
   "metadata": {
    "execution": {
     "iopub.execute_input": "2022-08-05T10:11:00.251380Z",
     "iopub.status.busy": "2022-08-05T10:11:00.247912Z",
     "iopub.status.idle": "2022-08-05T10:11:00.258995Z",
     "shell.execute_reply": "2022-08-05T10:11:00.258454Z"
    },
    "papermill": {
     "duration": 0.051212,
     "end_time": "2022-08-05T10:11:00.259112",
     "exception": false,
     "start_time": "2022-08-05T10:11:00.207900",
     "status": "completed"
    },
    "tags": []
   },
   "outputs": [],
   "source": [
    "import mnist"
   ]
  },
  {
   "cell_type": "code",
   "execution_count": 5,
   "id": "a411e44f",
   "metadata": {
    "execution": {
     "iopub.execute_input": "2022-08-05T10:11:00.317958Z",
     "iopub.status.busy": "2022-08-05T10:11:00.317212Z",
     "iopub.status.idle": "2022-08-05T10:11:00.879226Z",
     "shell.execute_reply": "2022-08-05T10:11:00.879757Z"
    },
    "papermill": {
     "duration": 0.593256,
     "end_time": "2022-08-05T10:11:00.879907",
     "exception": false,
     "start_time": "2022-08-05T10:11:00.286651",
     "status": "completed"
    },
    "tags": []
   },
   "outputs": [],
   "source": [
    "train_images = mnist.train_images()\n",
    "train_labels = mnist.train_labels()"
   ]
  },
  {
   "cell_type": "code",
   "execution_count": 6,
   "id": "dceab3a5",
   "metadata": {
    "execution": {
     "iopub.execute_input": "2022-08-05T10:11:00.939619Z",
     "iopub.status.busy": "2022-08-05T10:11:00.938919Z",
     "iopub.status.idle": "2022-08-05T10:11:00.954911Z",
     "shell.execute_reply": "2022-08-05T10:11:00.956130Z"
    },
    "papermill": {
     "duration": 0.048875,
     "end_time": "2022-08-05T10:11:00.956306",
     "exception": false,
     "start_time": "2022-08-05T10:11:00.907431",
     "status": "completed"
    },
    "tags": []
   },
   "outputs": [
    {
     "data": {
      "text/plain": [
       "((60000, 28, 28), (60000,))"
      ]
     },
     "execution_count": 6,
     "metadata": {},
     "output_type": "execute_result"
    }
   ],
   "source": [
    "train_images.shape, train_labels.shape"
   ]
  },
  {
   "cell_type": "code",
   "execution_count": 7,
   "id": "f50dc2bb",
   "metadata": {
    "execution": {
     "iopub.execute_input": "2022-08-05T10:11:01.018684Z",
     "iopub.status.busy": "2022-08-05T10:11:01.018028Z",
     "iopub.status.idle": "2022-08-05T10:11:01.141717Z",
     "shell.execute_reply": "2022-08-05T10:11:01.142226Z"
    },
    "papermill": {
     "duration": 0.157536,
     "end_time": "2022-08-05T10:11:01.142384",
     "exception": false,
     "start_time": "2022-08-05T10:11:00.984848",
     "status": "completed"
    },
    "tags": []
   },
   "outputs": [],
   "source": [
    "test_images = mnist.test_images()\n",
    "test_labels = mnist.test_labels()"
   ]
  },
  {
   "cell_type": "code",
   "execution_count": 8,
   "id": "fc38cf1b",
   "metadata": {
    "execution": {
     "iopub.execute_input": "2022-08-05T10:11:01.204168Z",
     "iopub.status.busy": "2022-08-05T10:11:01.203514Z",
     "iopub.status.idle": "2022-08-05T10:11:01.217591Z",
     "shell.execute_reply": "2022-08-05T10:11:01.218473Z"
    },
    "papermill": {
     "duration": 0.046965,
     "end_time": "2022-08-05T10:11:01.218619",
     "exception": false,
     "start_time": "2022-08-05T10:11:01.171654",
     "status": "completed"
    },
    "tags": []
   },
   "outputs": [
    {
     "data": {
      "text/plain": [
       "((10000, 28, 28), (10000,))"
      ]
     },
     "execution_count": 8,
     "metadata": {},
     "output_type": "execute_result"
    }
   ],
   "source": [
    "test_images.shape, test_labels.shape"
   ]
  },
  {
   "cell_type": "code",
   "execution_count": 9,
   "id": "f9ed8fe0",
   "metadata": {
    "execution": {
     "iopub.execute_input": "2022-08-05T10:11:01.278109Z",
     "iopub.status.busy": "2022-08-05T10:11:01.277258Z",
     "iopub.status.idle": "2022-08-05T10:11:01.445884Z",
     "shell.execute_reply": "2022-08-05T10:11:01.446402Z"
    },
    "papermill": {
     "duration": 0.200221,
     "end_time": "2022-08-05T10:11:01.446555",
     "exception": false,
     "start_time": "2022-08-05T10:11:01.246334",
     "status": "completed"
    },
    "tags": []
   },
   "outputs": [
    {
     "name": "stdout",
     "output_type": "stream",
     "text": [
      "2\n"
     ]
    },
    {
     "data": {
      "text/plain": [
       "<matplotlib.image.AxesImage at 0x7fcea87e3518>"
      ]
     },
     "execution_count": 9,
     "metadata": {},
     "output_type": "execute_result"
    },
    {
     "data": {
      "image/png": "[encoded data removed]",
      "text/plain": [
       "<Figure size 432x288 with 1 Axes>"
      ]
     },
     "metadata": {
      "needs_background": "light"
     },
     "output_type": "display_data"
    }
   ],
   "source": [
    "image_index = 7776 # You may select anything up to 60,000\n",
    "print(train_labels[image_index]) \n",
    "plt.imshow(train_images[image_index], cmap='Greys')"
   ]
  },
  {
   "cell_type": "markdown",
   "id": "a8d2388d",
   "metadata": {
    "papermill": {
     "duration": 0.030534,
     "end_time": "2022-08-05T10:11:01.506603",
     "exception": false,
     "start_time": "2022-08-05T10:11:01.476069",
     "status": "completed"
    },
    "tags": []
   },
   "source": [
    "## Filter data to get 3 and 8 out"
   ]
  },
  {
   "cell_type": "code",
   "execution_count": 10,
   "id": "776f7fc7",
   "metadata": {
    "execution": {
     "iopub.execute_input": "2022-08-05T10:11:01.569649Z",
     "iopub.status.busy": "2022-08-05T10:11:01.568811Z",
     "iopub.status.idle": "2022-08-05T10:11:01.589439Z",
     "shell.execute_reply": "2022-08-05T10:11:01.588874Z"
    },
    "papermill": {
     "duration": 0.053737,
     "end_time": "2022-08-05T10:11:01.589566",
     "exception": false,
     "start_time": "2022-08-05T10:11:01.535829",
     "status": "completed"
    },
    "tags": []
   },
   "outputs": [],
   "source": [
    "train_filter = np.where((train_labels == 3 ) | (train_labels == 8))\n",
    "test_filter = np.where((test_labels == 3) | (test_labels == 8))\n",
    "X_train, y_train = train_images[train_filter], train_labels[train_filter]\n",
    "X_test, y_test = test_images[test_filter], test_labels[test_filter]"
   ]
  },
  {
   "cell_type": "markdown",
   "id": "948f0b7e",
   "metadata": {
    "papermill": {
     "duration": 0.03402,
     "end_time": "2022-08-05T10:11:01.655164",
     "exception": false,
     "start_time": "2022-08-05T10:11:01.621144",
     "status": "completed"
    },
    "tags": []
   },
   "source": [
    "We normalize the pizel values in the 0 to 1 range"
   ]
  },
  {
   "cell_type": "code",
   "execution_count": 11,
   "id": "ee4c2166",
   "metadata": {
    "execution": {
     "iopub.execute_input": "2022-08-05T10:11:01.725909Z",
     "iopub.status.busy": "2022-08-05T10:11:01.725224Z",
     "iopub.status.idle": "2022-08-05T10:11:01.784870Z",
     "shell.execute_reply": "2022-08-05T10:11:01.784285Z"
    },
    "papermill": {
     "duration": 0.096769,
     "end_time": "2022-08-05T10:11:01.785009",
     "exception": false,
     "start_time": "2022-08-05T10:11:01.688240",
     "status": "completed"
    },
    "tags": []
   },
   "outputs": [],
   "source": [
    "X_train = X_train/255.\n",
    "X_test = X_test/255."
   ]
  },
  {
   "cell_type": "markdown",
   "id": "ddcf4fab",
   "metadata": {
    "papermill": {
     "duration": 0.031318,
     "end_time": "2022-08-05T10:11:01.849056",
     "exception": false,
     "start_time": "2022-08-05T10:11:01.817738",
     "status": "completed"
    },
    "tags": []
   },
   "source": [
    "And setup the labels as 1 (when the digit is 3) and 0 (when the digit is 8)"
   ]
  },
  {
   "cell_type": "code",
   "execution_count": 12,
   "id": "7dc908f2",
   "metadata": {
    "execution": {
     "iopub.execute_input": "2022-08-05T10:11:01.919508Z",
     "iopub.status.busy": "2022-08-05T10:11:01.918799Z",
     "iopub.status.idle": "2022-08-05T10:11:01.929863Z",
     "shell.execute_reply": "2022-08-05T10:11:01.930389Z"
    },
    "papermill": {
     "duration": 0.049887,
     "end_time": "2022-08-05T10:11:01.930537",
     "exception": false,
     "start_time": "2022-08-05T10:11:01.880650",
     "status": "completed"
    },
    "tags": []
   },
   "outputs": [],
   "source": [
    "y_train = 1*(y_train==3)\n",
    "y_test = 1*(y_test==3)"
   ]
  },
  {
   "cell_type": "code",
   "execution_count": 13,
   "id": "01e4e969",
   "metadata": {
    "execution": {
     "iopub.execute_input": "2022-08-05T10:11:01.999675Z",
     "iopub.status.busy": "2022-08-05T10:11:01.998983Z",
     "iopub.status.idle": "2022-08-05T10:11:02.012088Z",
     "shell.execute_reply": "2022-08-05T10:11:02.012750Z"
    },
    "papermill": {
     "duration": 0.049816,
     "end_time": "2022-08-05T10:11:02.012880",
     "exception": false,
     "start_time": "2022-08-05T10:11:01.963064",
     "status": "completed"
    },
    "tags": []
   },
   "outputs": [
    {
     "data": {
      "text/plain": [
       "((11982, 28, 28), (1984, 28, 28))"
      ]
     },
     "execution_count": 13,
     "metadata": {},
     "output_type": "execute_result"
    }
   ],
   "source": [
    "X_train.shape, X_test.shape"
   ]
  },
  {
   "cell_type": "markdown",
   "id": "5ccf3f85",
   "metadata": {
    "papermill": {
     "duration": 0.03028,
     "end_time": "2022-08-05T10:11:02.072617",
     "exception": false,
     "start_time": "2022-08-05T10:11:02.042337",
     "status": "completed"
    },
    "tags": []
   },
   "source": [
    "We reshape the data to flatten the image pixels into a set of features or co-variates:"
   ]
  },
  {
   "cell_type": "code",
   "execution_count": 14,
   "id": "5286a4a3",
   "metadata": {
    "execution": {
     "iopub.execute_input": "2022-08-05T10:11:02.137765Z",
     "iopub.status.busy": "2022-08-05T10:11:02.137101Z",
     "iopub.status.idle": "2022-08-05T10:11:02.152262Z",
     "shell.execute_reply": "2022-08-05T10:11:02.151683Z"
    },
    "papermill": {
     "duration": 0.049417,
     "end_time": "2022-08-05T10:11:02.152380",
     "exception": false,
     "start_time": "2022-08-05T10:11:02.102963",
     "status": "completed"
    },
    "tags": []
   },
   "outputs": [
    {
     "data": {
      "text/plain": [
       "((11982, 784), (1984, 784))"
      ]
     },
     "execution_count": 14,
     "metadata": {},
     "output_type": "execute_result"
    }
   ],
   "source": [
    "X_train = X_train.reshape(X_train.shape[0], -1)\n",
    "X_test = X_test.reshape(X_test.shape[0], -1)\n",
    "X_train.shape, X_test.shape"
   ]
  },
  {
   "cell_type": "code",
   "execution_count": 15,
   "id": "73c5f88a",
   "metadata": {
    "execution": {
     "iopub.execute_input": "2022-08-05T10:11:02.217096Z",
     "iopub.status.busy": "2022-08-05T10:11:02.216409Z",
     "iopub.status.idle": "2022-08-05T10:11:02.234988Z",
     "shell.execute_reply": "2022-08-05T10:11:02.234449Z"
    },
    "papermill": {
     "duration": 0.052863,
     "end_time": "2022-08-05T10:11:02.235098",
     "exception": false,
     "start_time": "2022-08-05T10:11:02.182235",
     "status": "completed"
    },
    "tags": []
   },
   "outputs": [],
   "source": [
    "#Impoting functions from 'Kudzu'\n",
    "from kudzu.model import Model\n",
    "from kudzu.train import Learner\n",
    "from kudzu.optim import GD\n",
    "from kudzu.data import Data, Sampler,Dataloader\n",
    "\n",
    "from kudzu.callbacks import AccCallback\n",
    "from kudzu.callbacks import ClfCallback\n",
    "\n",
    "from kudzu.loss import MSE\n",
    "\n",
    "from kudzu.layer import Sigmoid,Relu\n",
    "from kudzu.layer import Affine"
   ]
  },
  {
   "cell_type": "markdown",
   "id": "bc01172a",
   "metadata": {
    "papermill": {
     "duration": 0.030296,
     "end_time": "2022-08-05T10:11:02.295277",
     "exception": false,
     "start_time": "2022-08-05T10:11:02.264981",
     "status": "completed"
    },
    "tags": []
   },
   "source": [
    "### Let us create a `Config` class, to store important parameters. \n",
    "This class essentially plays the role of a dictionary."
   ]
  },
  {
   "cell_type": "code",
   "execution_count": 16,
   "id": "978281aa",
   "metadata": {
    "execution": {
     "iopub.execute_input": "2022-08-05T10:11:02.360335Z",
     "iopub.status.busy": "2022-08-05T10:11:02.359641Z",
     "iopub.status.idle": "2022-08-05T10:11:02.372088Z",
     "shell.execute_reply": "2022-08-05T10:11:02.371546Z"
    },
    "papermill": {
     "duration": 0.04732,
     "end_time": "2022-08-05T10:11:02.372228",
     "exception": false,
     "start_time": "2022-08-05T10:11:02.324908",
     "status": "completed"
    },
    "tags": []
   },
   "outputs": [],
   "source": [
    "class Config:\n",
    "    pass\n",
    "config = Config()\n",
    "config.lr = 0.001\n",
    "config.num_epochs = 250\n",
    "config.bs = 50"
   ]
  },
  {
   "cell_type": "markdown",
   "id": "1385fa59",
   "metadata": {
    "papermill": {
     "duration": 0.031181,
     "end_time": "2022-08-05T10:11:02.433704",
     "exception": false,
     "start_time": "2022-08-05T10:11:02.402523",
     "status": "completed"
    },
    "tags": []
   },
   "source": [
    "### Running Models with the Training data\n",
    "Details about the network layers:\n",
    "- A first affine layer has 784 inputs and does 100 affine transforms. These are followed by a Relu\n",
    "- A second affine layer has 100 inputs from the 100 activations of the past layer, and does 100 affine transforms. These are followed by a Relu\n",
    "- A third affine layer has 100 activations and does 2 affine transformations to create an embedding for visualization. There is no non-linearity here.\n",
    "- A final \"logistic regression\" which has an affine transform from 2 inputs to 1 output, which is squeezed through a sigmoid.\n"
   ]
  },
  {
   "cell_type": "code",
   "execution_count": 17,
   "id": "2b9c66db",
   "metadata": {
    "execution": {
     "iopub.execute_input": "2022-08-05T10:11:02.497536Z",
     "iopub.status.busy": "2022-08-05T10:11:02.496860Z",
     "iopub.status.idle": "2022-08-05T10:11:02.511018Z",
     "shell.execute_reply": "2022-08-05T10:11:02.510307Z"
    },
    "papermill": {
     "duration": 0.047334,
     "end_time": "2022-08-05T10:11:02.511133",
     "exception": false,
     "start_time": "2022-08-05T10:11:02.463799",
     "status": "completed"
    },
    "tags": []
   },
   "outputs": [],
   "source": [
    "data = Data(X_train, y_train.reshape(-1,1))\n",
    "sampler = Sampler(data, config.bs, shuffle=True)\n",
    "\n",
    "dl = Dataloader(data, sampler)\n",
    "\n",
    "opt = GD(config.lr)\n",
    "loss = MSE()"
   ]
  },
  {
   "cell_type": "code",
   "execution_count": 18,
   "id": "b275e4c2",
   "metadata": {
    "execution": {
     "iopub.execute_input": "2022-08-05T10:11:02.577585Z",
     "iopub.status.busy": "2022-08-05T10:11:02.576934Z",
     "iopub.status.idle": "2022-08-05T10:11:02.587254Z",
     "shell.execute_reply": "2022-08-05T10:11:02.587792Z"
    },
    "papermill": {
     "duration": 0.046739,
     "end_time": "2022-08-05T10:11:02.587916",
     "exception": false,
     "start_time": "2022-08-05T10:11:02.541177",
     "status": "completed"
    },
    "tags": []
   },
   "outputs": [],
   "source": [
    "training_data_x = X_train\n",
    "testing_data_x = X_test\n",
    "training_data_y = y_train.reshape(-1,1)\n",
    "testing_data_y = y_test.reshape(-1,1)"
   ]
  },
  {
   "cell_type": "code",
   "execution_count": 19,
   "id": "76951160",
   "metadata": {
    "execution": {
     "iopub.execute_input": "2022-08-05T10:11:02.653448Z",
     "iopub.status.busy": "2022-08-05T10:11:02.652791Z",
     "iopub.status.idle": "2022-08-05T10:11:02.667993Z",
     "shell.execute_reply": "2022-08-05T10:11:02.668638Z"
    },
    "papermill": {
     "duration": 0.05188,
     "end_time": "2022-08-05T10:11:02.668759",
     "exception": false,
     "start_time": "2022-08-05T10:11:02.616879",
     "status": "completed"
    },
    "tags": []
   },
   "outputs": [
    {
     "name": "stdout",
     "output_type": "stream",
     "text": [
      "xavier\n",
      "xavier\n",
      "xavier\n",
      "xavier\n",
      "xavier\n"
     ]
    }
   ],
   "source": [
    "layers = [Affine(\"first\", 784, 100), Relu(\"first\"), Affine(\"second\", 100, 100), Relu(\"second\"), Affine(\"third\", 100, 2), Affine(\"last\", 2, 1), Sigmoid(\"last\")]\n",
    "model_nn = Model(layers)\n",
    "model_lr = Model([Affine(\"logits\", 784, 1), Sigmoid(\"sigmoid\")])"
   ]
  },
  {
   "cell_type": "code",
   "execution_count": 20,
   "id": "6eede77a",
   "metadata": {
    "execution": {
     "iopub.execute_input": "2022-08-05T10:11:02.733707Z",
     "iopub.status.busy": "2022-08-05T10:11:02.733028Z",
     "iopub.status.idle": "2022-08-05T10:11:02.744761Z",
     "shell.execute_reply": "2022-08-05T10:11:02.745383Z"
    },
    "papermill": {
     "duration": 0.047096,
     "end_time": "2022-08-05T10:11:02.745507",
     "exception": false,
     "start_time": "2022-08-05T10:11:02.698411",
     "status": "completed"
    },
    "tags": []
   },
   "outputs": [],
   "source": [
    "nn_learner = Learner(loss, model_nn, opt, config.num_epochs)\n",
    "acc_nn = ClfCallback(nn_learner, config.bs, training_data_x , testing_data_x, training_data_y, testing_data_y)\n",
    "nn_learner.set_callbacks([acc_nn])"
   ]
  },
  {
   "cell_type": "code",
   "execution_count": 21,
   "id": "877b6cc7",
   "metadata": {
    "execution": {
     "iopub.execute_input": "2022-08-05T10:11:02.809334Z",
     "iopub.status.busy": "2022-08-05T10:11:02.808587Z",
     "iopub.status.idle": "2022-08-05T10:11:02.820955Z",
     "shell.execute_reply": "2022-08-05T10:11:02.820422Z"
    },
    "papermill": {
     "duration": 0.046305,
     "end_time": "2022-08-05T10:11:02.821065",
     "exception": false,
     "start_time": "2022-08-05T10:11:02.774760",
     "status": "completed"
    },
    "tags": []
   },
   "outputs": [],
   "source": [
    "lr_learner = Learner(loss, model_lr, opt, config.num_epochs)\n",
    "acc_lr = ClfCallback(lr_learner, config.bs, training_data_x , testing_data_x, training_data_y, testing_data_y)\n",
    "lr_learner.set_callbacks([acc_lr])"
   ]
  },
  {
   "cell_type": "code",
   "execution_count": 22,
   "id": "d9b133c3",
   "metadata": {
    "execution": {
     "iopub.execute_input": "2022-08-05T10:11:02.884495Z",
     "iopub.status.busy": "2022-08-05T10:11:02.883724Z",
     "iopub.status.idle": "2022-08-05T10:13:06.127026Z",
     "shell.execute_reply": "2022-08-05T10:13:06.127902Z"
    },
    "papermill": {
     "duration": 123.277267,
     "end_time": "2022-08-05T10:13:06.128051",
     "exception": false,
     "start_time": "2022-08-05T10:11:02.850784",
     "status": "completed"
    },
    "tags": []
   },
   "outputs": [
    {
     "name": "stdout",
     "output_type": "stream",
     "text": [
      "Epoch 0, Loss 0.1873\n",
      "Training Accuracy: 0.8319, Testing Accuracy: 0.8417\n",
      "\n"
     ]
    },
    {
     "name": "stdout",
     "output_type": "stream",
     "text": [
      "Epoch 10, Loss 0.0515\n",
      "Training Accuracy: 0.9439, Testing Accuracy: 0.9536\n",
      "\n"
     ]
    },
    {
     "name": "stdout",
     "output_type": "stream",
     "text": [
      "Epoch 20, Loss 0.0383\n",
      "Training Accuracy: 0.9558, Testing Accuracy: 0.9647\n",
      "\n"
     ]
    },
    {
     "name": "stdout",
     "output_type": "stream",
     "text": [
      "Epoch 30, Loss 0.0325\n",
      "Training Accuracy: 0.9619, Testing Accuracy: 0.9693\n",
      "\n"
     ]
    },
    {
     "name": "stdout",
     "output_type": "stream",
     "text": [
      "Epoch 40, Loss 0.029\n",
      "Training Accuracy: 0.9667, Testing Accuracy: 0.9728\n",
      "\n"
     ]
    },
    {
     "name": "stdout",
     "output_type": "stream",
     "text": [
      "Epoch 50, Loss 0.0266\n",
      "Training Accuracy: 0.9691, Testing Accuracy: 0.9728\n",
      "\n"
     ]
    },
    {
     "name": "stdout",
     "output_type": "stream",
     "text": [
      "Epoch 60, Loss 0.0247\n",
      "Training Accuracy: 0.9716, Testing Accuracy: 0.9738\n",
      "\n"
     ]
    },
    {
     "name": "stdout",
     "output_type": "stream",
     "text": [
      "Epoch 70, Loss 0.0233\n",
      "Training Accuracy: 0.9730, Testing Accuracy: 0.9743\n",
      "\n"
     ]
    },
    {
     "name": "stdout",
     "output_type": "stream",
     "text": [
      "Epoch 80, Loss 0.022\n",
      "Training Accuracy: 0.9741, Testing Accuracy: 0.9748\n",
      "\n"
     ]
    },
    {
     "name": "stdout",
     "output_type": "stream",
     "text": [
      "Epoch 90, Loss 0.021\n",
      "Training Accuracy: 0.9767, Testing Accuracy: 0.9748\n",
      "\n"
     ]
    },
    {
     "name": "stdout",
     "output_type": "stream",
     "text": [
      "Epoch 100, Loss 0.0201\n",
      "Training Accuracy: 0.9778, Testing Accuracy: 0.9748\n",
      "\n"
     ]
    },
    {
     "name": "stdout",
     "output_type": "stream",
     "text": [
      "Epoch 110, Loss 0.0192\n",
      "Training Accuracy: 0.9787, Testing Accuracy: 0.9753\n",
      "\n"
     ]
    },
    {
     "name": "stdout",
     "output_type": "stream",
     "text": [
      "Epoch 120, Loss 0.0185\n",
      "Training Accuracy: 0.9791, Testing Accuracy: 0.9763\n",
      "\n"
     ]
    },
    {
     "name": "stdout",
     "output_type": "stream",
     "text": [
      "Epoch 130, Loss 0.0178\n",
      "Training Accuracy: 0.9804, Testing Accuracy: 0.9773\n",
      "\n"
     ]
    },
    {
     "name": "stdout",
     "output_type": "stream",
     "text": [
      "Epoch 140, Loss 0.0171\n",
      "Training Accuracy: 0.9813, Testing Accuracy: 0.9778\n",
      "\n"
     ]
    },
    {
     "name": "stdout",
     "output_type": "stream",
     "text": [
      "Epoch 150, Loss 0.0165\n",
      "Training Accuracy: 0.9818, Testing Accuracy: 0.9778\n",
      "\n"
     ]
    },
    {
     "name": "stdout",
     "output_type": "stream",
     "text": [
      "Epoch 160, Loss 0.0159\n",
      "Training Accuracy: 0.9830, Testing Accuracy: 0.9783\n",
      "\n"
     ]
    },
    {
     "name": "stdout",
     "output_type": "stream",
     "text": [
      "Epoch 170, Loss 0.0153\n",
      "Training Accuracy: 0.9839, Testing Accuracy: 0.9788\n",
      "\n"
     ]
    },
    {
     "name": "stdout",
     "output_type": "stream",
     "text": [
      "Epoch 180, Loss 0.0148\n",
      "Training Accuracy: 0.9845, Testing Accuracy: 0.9798\n",
      "\n"
     ]
    },
    {
     "name": "stdout",
     "output_type": "stream",
     "text": [
      "Epoch 190, Loss 0.0142\n",
      "Training Accuracy: 0.9849, Testing Accuracy: 0.9808\n",
      "\n"
     ]
    },
    {
     "name": "stdout",
     "output_type": "stream",
     "text": [
      "Epoch 200, Loss 0.0138\n",
      "Training Accuracy: 0.9852, Testing Accuracy: 0.9814\n",
      "\n"
     ]
    },
    {
     "name": "stdout",
     "output_type": "stream",
     "text": [
      "Epoch 210, Loss 0.0133\n",
      "Training Accuracy: 0.9859, Testing Accuracy: 0.9814\n",
      "\n"
     ]
    },
    {
     "name": "stdout",
     "output_type": "stream",
     "text": [
      "Epoch 220, Loss 0.0128\n",
      "Training Accuracy: 0.9869, Testing Accuracy: 0.9824\n",
      "\n"
     ]
    },
    {
     "name": "stdout",
     "output_type": "stream",
     "text": [
      "Epoch 230, Loss 0.0124\n",
      "Training Accuracy: 0.9874, Testing Accuracy: 0.9824\n",
      "\n"
     ]
    },
    {
     "name": "stdout",
     "output_type": "stream",
     "text": [
      "Epoch 240, Loss 0.0119\n",
      "Training Accuracy: 0.9878, Testing Accuracy: 0.9824\n",
      "\n"
     ]
    },
    {
     "data": {
      "text/plain": [
       "0.03565447693537666"
      ]
     },
     "execution_count": 22,
     "metadata": {},
     "output_type": "execute_result"
    }
   ],
   "source": [
    "nn_learner.train_loop(dl)"
   ]
  },
  {
   "cell_type": "code",
   "execution_count": 23,
   "id": "e0163366",
   "metadata": {
    "execution": {
     "iopub.execute_input": "2022-08-05T10:13:06.218387Z",
     "iopub.status.busy": "2022-08-05T10:13:06.217699Z",
     "iopub.status.idle": "2022-08-05T10:13:24.670121Z",
     "shell.execute_reply": "2022-08-05T10:13:24.671442Z"
    },
    "papermill": {
     "duration": 18.503856,
     "end_time": "2022-08-05T10:13:24.671603",
     "exception": false,
     "start_time": "2022-08-05T10:13:06.167747",
     "status": "completed"
    },
    "tags": []
   },
   "outputs": [
    {
     "name": "stdout",
     "output_type": "stream",
     "text": [
      "Epoch 0, Loss 0.2418\n",
      "Training Accuracy: 0.6917, Testing Accuracy: 0.6835\n",
      "\n"
     ]
    },
    {
     "name": "stdout",
     "output_type": "stream",
     "text": [
      "Epoch 10, Loss 0.1038\n",
      "Training Accuracy: 0.9102, Testing Accuracy: 0.9173\n",
      "\n"
     ]
    },
    {
     "name": "stdout",
     "output_type": "stream",
     "text": [
      "Epoch 20, Loss 0.079\n",
      "Training Accuracy: 0.9301, Testing Accuracy: 0.9385\n",
      "\n"
     ]
    },
    {
     "name": "stdout",
     "output_type": "stream",
     "text": [
      "Epoch 30, Loss 0.0678\n",
      "Training Accuracy: 0.9390, Testing Accuracy: 0.9481\n",
      "\n"
     ]
    },
    {
     "name": "stdout",
     "output_type": "stream",
     "text": [
      "Epoch 40, Loss 0.0611\n",
      "Training Accuracy: 0.9438, Testing Accuracy: 0.9491\n",
      "\n"
     ]
    },
    {
     "name": "stdout",
     "output_type": "stream",
     "text": [
      "Epoch 50, Loss 0.0567\n",
      "Training Accuracy: 0.9463, Testing Accuracy: 0.9516\n",
      "\n"
     ]
    },
    {
     "name": "stdout",
     "output_type": "stream",
     "text": [
      "Epoch 60, Loss 0.0534\n",
      "Training Accuracy: 0.9481, Testing Accuracy: 0.9526\n",
      "\n"
     ]
    },
    {
     "name": "stdout",
     "output_type": "stream",
     "text": [
      "Epoch 70, Loss 0.0509\n",
      "Training Accuracy: 0.9503, Testing Accuracy: 0.9546\n",
      "\n"
     ]
    },
    {
     "name": "stdout",
     "output_type": "stream",
     "text": [
      "Epoch 80, Loss 0.0489\n",
      "Training Accuracy: 0.9514, Testing Accuracy: 0.9577\n",
      "\n"
     ]
    },
    {
     "name": "stdout",
     "output_type": "stream",
     "text": [
      "Epoch 90, Loss 0.0473\n",
      "Training Accuracy: 0.9527, Testing Accuracy: 0.9612\n",
      "\n"
     ]
    },
    {
     "name": "stdout",
     "output_type": "stream",
     "text": [
      "Epoch 100, Loss 0.0459\n",
      "Training Accuracy: 0.9537, Testing Accuracy: 0.9617\n",
      "\n"
     ]
    },
    {
     "name": "stdout",
     "output_type": "stream",
     "text": [
      "Epoch 110, Loss 0.0447\n",
      "Training Accuracy: 0.9543, Testing Accuracy: 0.9622\n",
      "\n"
     ]
    },
    {
     "name": "stdout",
     "output_type": "stream",
     "text": [
      "Epoch 120, Loss 0.0437\n",
      "Training Accuracy: 0.9548, Testing Accuracy: 0.9637\n",
      "\n"
     ]
    },
    {
     "name": "stdout",
     "output_type": "stream",
     "text": [
      "Epoch 130, Loss 0.0428\n",
      "Training Accuracy: 0.9555, Testing Accuracy: 0.9637\n",
      "\n"
     ]
    },
    {
     "name": "stdout",
     "output_type": "stream",
     "text": [
      "Epoch 140, Loss 0.042\n",
      "Training Accuracy: 0.9559, Testing Accuracy: 0.9637\n",
      "\n"
     ]
    },
    {
     "name": "stdout",
     "output_type": "stream",
     "text": [
      "Epoch 150, Loss 0.0413\n",
      "Training Accuracy: 0.9568, Testing Accuracy: 0.9647\n",
      "\n"
     ]
    },
    {
     "name": "stdout",
     "output_type": "stream",
     "text": [
      "Epoch 160, Loss 0.0406\n",
      "Training Accuracy: 0.9575, Testing Accuracy: 0.9657\n",
      "\n"
     ]
    },
    {
     "name": "stdout",
     "output_type": "stream",
     "text": [
      "Epoch 170, Loss 0.04\n",
      "Training Accuracy: 0.9579, Testing Accuracy: 0.9662\n",
      "\n"
     ]
    },
    {
     "name": "stdout",
     "output_type": "stream",
     "text": [
      "Epoch 180, Loss 0.0395\n",
      "Training Accuracy: 0.9580, Testing Accuracy: 0.9662\n",
      "\n"
     ]
    },
    {
     "name": "stdout",
     "output_type": "stream",
     "text": [
      "Epoch 190, Loss 0.039\n",
      "Training Accuracy: 0.9588, Testing Accuracy: 0.9662\n",
      "\n"
     ]
    },
    {
     "name": "stdout",
     "output_type": "stream",
     "text": [
      "Epoch 200, Loss 0.0385\n",
      "Training Accuracy: 0.9593, Testing Accuracy: 0.9657\n",
      "\n"
     ]
    },
    {
     "name": "stdout",
     "output_type": "stream",
     "text": [
      "Epoch 210, Loss 0.0381\n",
      "Training Accuracy: 0.9598, Testing Accuracy: 0.9662\n",
      "\n"
     ]
    },
    {
     "name": "stdout",
     "output_type": "stream",
     "text": [
      "Epoch 220, Loss 0.0377\n",
      "Training Accuracy: 0.9604, Testing Accuracy: 0.9662\n",
      "\n"
     ]
    },
    {
     "name": "stdout",
     "output_type": "stream",
     "text": [
      "Epoch 230, Loss 0.0373\n",
      "Training Accuracy: 0.9608, Testing Accuracy: 0.9657\n",
      "\n"
     ]
    },
    {
     "name": "stdout",
     "output_type": "stream",
     "text": [
      "Epoch 240, Loss 0.0369\n",
      "Training Accuracy: 0.9613, Testing Accuracy: 0.9657\n",
      "\n"
     ]
    },
    {
     "data": {
      "text/plain": [
       "0.015448466354355012"
      ]
     },
     "execution_count": 23,
     "metadata": {},
     "output_type": "execute_result"
    }
   ],
   "source": [
    "lr_learner.train_loop(dl)"
   ]
  },
  {
   "cell_type": "code",
   "execution_count": 24,
   "id": "ca410940",
   "metadata": {
    "execution": {
     "iopub.execute_input": "2022-08-05T10:13:24.799401Z",
     "iopub.status.busy": "2022-08-05T10:13:24.798637Z",
     "iopub.status.idle": "2022-08-05T10:13:25.096100Z",
     "shell.execute_reply": "2022-08-05T10:13:25.095571Z"
    },
    "papermill": {
     "duration": 0.372898,
     "end_time": "2022-08-05T10:13:25.096255",
     "exception": false,
     "start_time": "2022-08-05T10:13:24.723357",
     "status": "completed"
    },
    "tags": []
   },
   "outputs": [
    {
     "data": {
      "text/plain": [
       "<matplotlib.legend.Legend at 0x7fcea8342ba8>"
      ]
     },
     "execution_count": 24,
     "metadata": {},
     "output_type": "execute_result"
    },
    {
     "data": {
      "image/png": "[encoded data removed]",
      "text/plain": [
       "<Figure size 1080x720 with 1 Axes>"
      ]
     },
     "metadata": {
      "needs_background": "light"
     },
     "output_type": "display_data"
    }
   ],
   "source": [
    "#comparing the results of NN and LR\n",
    "plt.figure(figsize=(15,10))\n",
    "\n",
    "# Neural Network plots\n",
    "plt.plot(acc_nn.accuracies, 'r-', label = \"Training Accuracies - NN\")\n",
    "plt.plot(acc_nn.test_accuracies, 'g-', label = \"Testing Accuracies - NN\")\n",
    "\n",
    "# Logistic Regression plots\n",
    "plt.plot(acc_lr.accuracies, 'k-', label = \"Training Accuracies - LR\")\n",
    "plt.plot(acc_lr.test_accuracies, 'b-', label = \"Testing Accuracies - LR\")\n",
    "plt.legend()"
   ]
  },
  {
   "cell_type": "markdown",
   "id": "80dfb35c",
   "metadata": {
    "papermill": {
     "duration": 0.046055,
     "end_time": "2022-08-05T10:13:25.188832",
     "exception": false,
     "start_time": "2022-08-05T10:13:25.142777",
     "status": "completed"
    },
    "tags": []
   },
   "source": [
    "#### Plotting the outputs of this layer of the NN.\n"
   ]
  },
  {
   "cell_type": "code",
   "execution_count": 25,
   "id": "45eb2ff5",
   "metadata": {
    "execution": {
     "iopub.execute_input": "2022-08-05T10:13:25.291338Z",
     "iopub.status.busy": "2022-08-05T10:13:25.290592Z",
     "iopub.status.idle": "2022-08-05T10:13:25.315276Z",
     "shell.execute_reply": "2022-08-05T10:13:25.315860Z"
    },
    "papermill": {
     "duration": 0.080054,
     "end_time": "2022-08-05T10:13:25.316028",
     "exception": false,
     "start_time": "2022-08-05T10:13:25.235974",
     "status": "completed"
    },
    "tags": []
   },
   "outputs": [],
   "source": [
    "new_model = Model(layers[:-2])\n",
    "testing_plot = new_model(testing_data_x)"
   ]
  },
  {
   "cell_type": "code",
   "execution_count": 26,
   "id": "4c0a5485",
   "metadata": {
    "execution": {
     "iopub.execute_input": "2022-08-05T10:13:25.425399Z",
     "iopub.status.busy": "2022-08-05T10:13:25.424585Z",
     "iopub.status.idle": "2022-08-05T10:13:25.683907Z",
     "shell.execute_reply": "2022-08-05T10:13:25.683144Z"
    },
    "papermill": {
     "duration": 0.315807,
     "end_time": "2022-08-05T10:13:25.684043",
     "exception": false,
     "start_time": "2022-08-05T10:13:25.368236",
     "status": "completed"
    },
    "tags": []
   },
   "outputs": [
    {
     "data": {
      "text/plain": [
       "Text(0.5, 1.0, 'Outputs')"
      ]
     },
     "execution_count": 26,
     "metadata": {},
     "output_type": "execute_result"
    },
    {
     "data": {
      "image/png": "[encoded data removed]",
      "text/plain": [
       "<Figure size 576x504 with 1 Axes>"
      ]
     },
     "metadata": {
      "needs_background": "light"
     },
     "output_type": "display_data"
    }
   ],
   "source": [
    "# Plotting the scatter plot of points and color coding by class\n",
    "plt.figure(figsize=(8,7))\n",
    "plt.scatter(testing_plot[:,0], testing_plot[:,1], alpha = 0.1, c = y_test.ravel());\n",
    "plt.title('Outputs')"
   ]
  },
  {
   "cell_type": "markdown",
   "id": "a74fcf8f",
   "metadata": {
    "papermill": {
     "duration": 0.077224,
     "end_time": "2022-08-05T10:13:25.816147",
     "exception": false,
     "start_time": "2022-08-05T10:13:25.738923",
     "status": "completed"
    },
    "tags": []
   },
   "source": [
    "Probability contours"
   ]
  },
  {
   "cell_type": "code",
   "execution_count": 27,
   "id": "d0afc8e3",
   "metadata": {
    "execution": {
     "iopub.execute_input": "2022-08-05T10:13:25.926036Z",
     "iopub.status.busy": "2022-08-05T10:13:25.925271Z",
     "iopub.status.idle": "2022-08-05T10:13:25.940293Z",
     "shell.execute_reply": "2022-08-05T10:13:25.939638Z"
    },
    "papermill": {
     "duration": 0.072812,
     "end_time": "2022-08-05T10:13:25.940421",
     "exception": false,
     "start_time": "2022-08-05T10:13:25.867609",
     "status": "completed"
    },
    "tags": []
   },
   "outputs": [],
   "source": [
    "model_prob = Model(layers[-2:]) "
   ]
  },
  {
   "cell_type": "code",
   "execution_count": 28,
   "id": "9b96e238",
   "metadata": {
    "execution": {
     "iopub.execute_input": "2022-08-05T10:13:26.052634Z",
     "iopub.status.busy": "2022-08-05T10:13:26.051880Z",
     "iopub.status.idle": "2022-08-05T10:13:26.068994Z",
     "shell.execute_reply": "2022-08-05T10:13:26.069516Z"
    },
    "papermill": {
     "duration": 0.073316,
     "end_time": "2022-08-05T10:13:26.069656",
     "exception": false,
     "start_time": "2022-08-05T10:13:25.996340",
     "status": "completed"
    },
    "tags": []
   },
   "outputs": [],
   "source": [
    "#creating the x and y ranges according to the above generated plot.\n",
    "x_range = np.linspace(-4, 1, 100) \n",
    "y_range = np.linspace(-6, 6, 100) \n",
    "x_grid, y_grid = np.meshgrid(x_range, y_range) # x_grid and y_grig are of size 100 X 100\n",
    "\n",
    "# converting x_grid and y_grid to continuous arrays\n",
    "x_gridflat = np.ravel(x_grid)\n",
    "y_gridflat = np.ravel(y_grid)\n",
    "\n",
    "# The last layer of the current model takes two columns as input. Hence transpose of np.vstack() is required.\n",
    "X = np.vstack((x_gridflat, y_gridflat)).T\n",
    "\n",
    "prob_contour = model_prob(X).reshape(100,100) "
   ]
  },
  {
   "cell_type": "code",
   "execution_count": 29,
   "id": "da72499a",
   "metadata": {
    "execution": {
     "iopub.execute_input": "2022-08-05T10:13:26.180411Z",
     "iopub.status.busy": "2022-08-05T10:13:26.179680Z",
     "iopub.status.idle": "2022-08-05T10:13:26.475986Z",
     "shell.execute_reply": "2022-08-05T10:13:26.475375Z"
    },
    "papermill": {
     "duration": 0.353864,
     "end_time": "2022-08-05T10:13:26.476119",
     "exception": false,
     "start_time": "2022-08-05T10:13:26.122255",
     "status": "completed"
    },
    "tags": []
   },
   "outputs": [
    {
     "data": {
      "image/png": "[encoded data removed]",
      "text/plain": [
       "<Figure size 720x648 with 1 Axes>"
      ]
     },
     "metadata": {
      "needs_background": "light"
     },
     "output_type": "display_data"
    }
   ],
   "source": [
    "plt.figure(figsize=(10,9))\n",
    "plt.scatter(testing_plot[:,0], testing_plot[:,1], alpha = 0.1, c = y_test.ravel())\n",
    "contours = plt.contour(x_grid,y_grid,prob_contour)\n",
    "plt.title('Probability Contours')\n",
    "plt.clabel(contours, inline = True );"
   ]
  },
  {
   "cell_type": "code",
   "execution_count": null,
   "id": "e81b4ac7",
   "metadata": {
    "papermill": {
     "duration": 0.051324,
     "end_time": "2022-08-05T10:13:26.582274",
     "exception": false,
     "start_time": "2022-08-05T10:13:26.530950",
     "status": "completed"
    },
    "tags": []
   },
   "outputs": [],
   "source": []
  }
 ],
 "metadata": {
  "kernelspec": {
   "display_name": "Python 3",
   "language": "python",
   "name": "python3"
  },
  "language_info": {
   "codemirror_mode": {
    "name": "ipython",
    "version": 3
   },
   "file_extension": ".py",
   "mimetype": "text/x-python",
   "name": "python",
   "nbconvert_exporter": "python",
   "pygments_lexer": "ipython3",
   "version": "3.6.15"
  },
  "papermill": {
   "default_parameters": {},
   "duration": 151.009221,
   "end_time": "2022-08-05T10:13:27.054243",
   "environment_variables": {},
   "exception": null,
   "input_path": "2020-08-11-part2.ipynb",
   "output_path": "2020-08-11-part2.ipynb",
   "parameters": {},
   "start_time": "2022-08-05T10:10:56.045022",
   "version": "2.3.3"
  }
 },
 "nbformat": 4,
 "nbformat_minor": 5
}