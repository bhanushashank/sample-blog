{
 "cells": [
  {
   "cell_type": "markdown",
   "id": "98380cd3",
   "metadata": {
    "papermill": {
     "duration": 0.028629,
     "end_time": "2021-12-04T10:07:27.377610",
     "exception": false,
     "start_time": "2021-12-04T10:07:27.348981",
     "status": "completed"
    },
    "tags": []
   },
   "source": [
    "# Distinguish Your Own Digits (DYOD)"
   ]
  },
  {
   "cell_type": "markdown",
   "id": "ef31240d",
   "metadata": {
    "papermill": {
     "duration": 0.024044,
     "end_time": "2021-12-04T10:07:27.426450",
     "exception": false,
     "start_time": "2021-12-04T10:07:27.402406",
     "status": "completed"
    },
    "tags": []
   },
   "source": [
    "You are going to write a classifier that distinguishes between the number 3 and number 8."
   ]
  },
  {
   "cell_type": "code",
   "execution_count": 1,
   "id": "b15c8646",
   "metadata": {
    "execution": {
     "iopub.execute_input": "2021-12-04T10:07:27.486325Z",
     "iopub.status.busy": "2021-12-04T10:07:27.485788Z",
     "iopub.status.idle": "2021-12-04T10:07:27.495421Z",
     "shell.execute_reply": "2021-12-04T10:07:27.495928Z"
    },
    "papermill": {
     "duration": 0.045538,
     "end_time": "2021-12-04T10:07:27.496084",
     "exception": false,
     "start_time": "2021-12-04T10:07:27.450546",
     "status": "completed"
    },
    "tags": []
   },
   "outputs": [],
   "source": [
    "%load_ext autoreload\n",
    "%autoreload 2"
   ]
  },
  {
   "cell_type": "code",
   "execution_count": 2,
   "id": "22ef38dc",
   "metadata": {
    "execution": {
     "iopub.execute_input": "2021-12-04T10:07:27.560443Z",
     "iopub.status.busy": "2021-12-04T10:07:27.557897Z",
     "iopub.status.idle": "2021-12-04T10:07:28.148478Z",
     "shell.execute_reply": "2021-12-04T10:07:28.147907Z"
    },
    "papermill": {
     "duration": 0.628277,
     "end_time": "2021-12-04T10:07:28.148612",
     "exception": false,
     "start_time": "2021-12-04T10:07:27.520335",
     "status": "completed"
    },
    "tags": []
   },
   "outputs": [],
   "source": [
    "%matplotlib inline\n",
    "import numpy as np\n",
    "import matplotlib.pyplot as plt\n",
    "import pandas as pd"
   ]
  },
  {
   "cell_type": "markdown",
   "id": "ba036198",
   "metadata": {
    "papermill": {
     "duration": 0.0243,
     "end_time": "2021-12-04T10:07:28.197350",
     "exception": false,
     "start_time": "2021-12-04T10:07:28.173050",
     "status": "completed"
    },
    "tags": []
   },
   "source": [
    "From the command line run `pip install mnist`. This is a library that will help you bring down the mnist dataset. If you run this from a notebook, you need to put  `!pip install mnist` in a cell by itself."
   ]
  },
  {
   "cell_type": "code",
   "execution_count": 3,
   "id": "bb6ad8a1",
   "metadata": {
    "execution": {
     "iopub.execute_input": "2021-12-04T10:07:28.255231Z",
     "iopub.status.busy": "2021-12-04T10:07:28.254683Z",
     "iopub.status.idle": "2021-12-04T10:07:29.880716Z",
     "shell.execute_reply": "2021-12-04T10:07:29.881240Z"
    },
    "papermill": {
     "duration": 1.659722,
     "end_time": "2021-12-04T10:07:29.881403",
     "exception": false,
     "start_time": "2021-12-04T10:07:28.221681",
     "status": "completed"
    },
    "tags": []
   },
   "outputs": [
    {
     "name": "stdout",
     "output_type": "stream",
     "text": [
      "Collecting mnist\r\n"
     ]
    },
    {
     "name": "stdout",
     "output_type": "stream",
     "text": [
      "  Downloading mnist-0.2.2-py2.py3-none-any.whl (3.5 kB)\r\n",
      "Requirement already satisfied: numpy in /opt/hostedtoolcache/Python/3.6.15/x64/lib/python3.6/site-packages (from mnist) (1.19.5)\r\n"
     ]
    },
    {
     "name": "stdout",
     "output_type": "stream",
     "text": [
      "Installing collected packages: mnist\r\n",
      "Successfully installed mnist-0.2.2\r\n"
     ]
    }
   ],
   "source": [
    "!pip install mnist"
   ]
  },
  {
   "cell_type": "markdown",
   "id": "69df9c9a",
   "metadata": {
    "papermill": {
     "duration": 0.027491,
     "end_time": "2021-12-04T10:07:29.934271",
     "exception": false,
     "start_time": "2021-12-04T10:07:29.906780",
     "status": "completed"
    },
    "tags": []
   },
   "source": [
    "## Preparing the Data"
   ]
  },
  {
   "cell_type": "code",
   "execution_count": 4,
   "id": "7f69d806",
   "metadata": {
    "execution": {
     "iopub.execute_input": "2021-12-04T10:07:29.988049Z",
     "iopub.status.busy": "2021-12-04T10:07:29.987488Z",
     "iopub.status.idle": "2021-12-04T10:07:30.002502Z",
     "shell.execute_reply": "2021-12-04T10:07:30.002888Z"
    },
    "papermill": {
     "duration": 0.043857,
     "end_time": "2021-12-04T10:07:30.003020",
     "exception": false,
     "start_time": "2021-12-04T10:07:29.959163",
     "status": "completed"
    },
    "tags": []
   },
   "outputs": [],
   "source": [
    "import mnist"
   ]
  },
  {
   "cell_type": "code",
   "execution_count": 5,
   "id": "a411e44f",
   "metadata": {
    "execution": {
     "iopub.execute_input": "2021-12-04T10:07:30.056721Z",
     "iopub.status.busy": "2021-12-04T10:07:30.056200Z",
     "iopub.status.idle": "2021-12-04T10:07:30.552552Z",
     "shell.execute_reply": "2021-12-04T10:07:30.551329Z"
    },
    "papermill": {
     "duration": 0.5246,
     "end_time": "2021-12-04T10:07:30.552705",
     "exception": false,
     "start_time": "2021-12-04T10:07:30.028105",
     "status": "completed"
    },
    "tags": []
   },
   "outputs": [],
   "source": [
    "train_images = mnist.train_images()\n",
    "train_labels = mnist.train_labels()"
   ]
  },
  {
   "cell_type": "code",
   "execution_count": 6,
   "id": "dceab3a5",
   "metadata": {
    "execution": {
     "iopub.execute_input": "2021-12-04T10:07:30.608855Z",
     "iopub.status.busy": "2021-12-04T10:07:30.606451Z",
     "iopub.status.idle": "2021-12-04T10:07:30.620568Z",
     "shell.execute_reply": "2021-12-04T10:07:30.620954Z"
    },
    "papermill": {
     "duration": 0.042806,
     "end_time": "2021-12-04T10:07:30.621091",
     "exception": false,
     "start_time": "2021-12-04T10:07:30.578285",
     "status": "completed"
    },
    "tags": []
   },
   "outputs": [
    {
     "data": {
      "text/plain": [
       "((60000, 28, 28), (60000,))"
      ]
     },
     "execution_count": 6,
     "metadata": {},
     "output_type": "execute_result"
    }
   ],
   "source": [
    "train_images.shape, train_labels.shape"
   ]
  },
  {
   "cell_type": "code",
   "execution_count": 7,
   "id": "f50dc2bb",
   "metadata": {
    "execution": {
     "iopub.execute_input": "2021-12-04T10:07:30.675681Z",
     "iopub.status.busy": "2021-12-04T10:07:30.675161Z",
     "iopub.status.idle": "2021-12-04T10:07:30.790194Z",
     "shell.execute_reply": "2021-12-04T10:07:30.789716Z"
    },
    "papermill": {
     "duration": 0.143887,
     "end_time": "2021-12-04T10:07:30.790326",
     "exception": false,
     "start_time": "2021-12-04T10:07:30.646439",
     "status": "completed"
    },
    "tags": []
   },
   "outputs": [],
   "source": [
    "test_images = mnist.test_images()\n",
    "test_labels = mnist.test_labels()"
   ]
  },
  {
   "cell_type": "code",
   "execution_count": 8,
   "id": "fc38cf1b",
   "metadata": {
    "execution": {
     "iopub.execute_input": "2021-12-04T10:07:30.857185Z",
     "iopub.status.busy": "2021-12-04T10:07:30.856645Z",
     "iopub.status.idle": "2021-12-04T10:07:30.865361Z",
     "shell.execute_reply": "2021-12-04T10:07:30.864948Z"
    },
    "papermill": {
     "duration": 0.049451,
     "end_time": "2021-12-04T10:07:30.865480",
     "exception": false,
     "start_time": "2021-12-04T10:07:30.816029",
     "status": "completed"
    },
    "tags": []
   },
   "outputs": [
    {
     "data": {
      "text/plain": [
       "((10000, 28, 28), (10000,))"
      ]
     },
     "execution_count": 8,
     "metadata": {},
     "output_type": "execute_result"
    }
   ],
   "source": [
    "test_images.shape, test_labels.shape"
   ]
  },
  {
   "cell_type": "code",
   "execution_count": 9,
   "id": "f9ed8fe0",
   "metadata": {
    "execution": {
     "iopub.execute_input": "2021-12-04T10:07:30.922884Z",
     "iopub.status.busy": "2021-12-04T10:07:30.922331Z",
     "iopub.status.idle": "2021-12-04T10:07:31.061161Z",
     "shell.execute_reply": "2021-12-04T10:07:31.060640Z"
    },
    "papermill": {
     "duration": 0.170211,
     "end_time": "2021-12-04T10:07:31.061304",
     "exception": false,
     "start_time": "2021-12-04T10:07:30.891093",
     "status": "completed"
    },
    "tags": []
   },
   "outputs": [
    {
     "name": "stdout",
     "output_type": "stream",
     "text": [
      "2\n"
     ]
    },
    {
     "data": {
      "text/plain": [
       "<matplotlib.image.AxesImage at 0x7feacafa0518>"
      ]
     },
     "execution_count": 9,
     "metadata": {},
     "output_type": "execute_result"
    },
    {
     "data": {
      "image/png": "[encoded data removed]",
      "text/plain": [
       "<Figure size 432x288 with 1 Axes>"
      ]
     },
     "metadata": {
      "needs_background": "light"
     },
     "output_type": "display_data"
    }
   ],
   "source": [
    "image_index = 7776 # You may select anything up to 60,000\n",
    "print(train_labels[image_index]) \n",
    "plt.imshow(train_images[image_index], cmap='Greys')"
   ]
  },
  {
   "cell_type": "markdown",
   "id": "a8d2388d",
   "metadata": {
    "papermill": {
     "duration": 0.027385,
     "end_time": "2021-12-04T10:07:31.117101",
     "exception": false,
     "start_time": "2021-12-04T10:07:31.089716",
     "status": "completed"
    },
    "tags": []
   },
   "source": [
    "## Filter data to get 3 and 8 out"
   ]
  },
  {
   "cell_type": "code",
   "execution_count": 10,
   "id": "776f7fc7",
   "metadata": {
    "execution": {
     "iopub.execute_input": "2021-12-04T10:07:31.176087Z",
     "iopub.status.busy": "2021-12-04T10:07:31.175086Z",
     "iopub.status.idle": "2021-12-04T10:07:31.195614Z",
     "shell.execute_reply": "2021-12-04T10:07:31.195139Z"
    },
    "papermill": {
     "duration": 0.051498,
     "end_time": "2021-12-04T10:07:31.195761",
     "exception": false,
     "start_time": "2021-12-04T10:07:31.144263",
     "status": "completed"
    },
    "tags": []
   },
   "outputs": [],
   "source": [
    "train_filter = np.where((train_labels == 3 ) | (train_labels == 8))\n",
    "test_filter = np.where((test_labels == 3) | (test_labels == 8))\n",
    "X_train, y_train = train_images[train_filter], train_labels[train_filter]\n",
    "X_test, y_test = test_images[test_filter], test_labels[test_filter]"
   ]
  },
  {
   "cell_type": "markdown",
   "id": "948f0b7e",
   "metadata": {
    "papermill": {
     "duration": 0.026667,
     "end_time": "2021-12-04T10:07:31.249312",
     "exception": false,
     "start_time": "2021-12-04T10:07:31.222645",
     "status": "completed"
    },
    "tags": []
   },
   "source": [
    "We normalize the pizel values in the 0 to 1 range"
   ]
  },
  {
   "cell_type": "code",
   "execution_count": 11,
   "id": "ee4c2166",
   "metadata": {
    "execution": {
     "iopub.execute_input": "2021-12-04T10:07:31.321517Z",
     "iopub.status.busy": "2021-12-04T10:07:31.320977Z",
     "iopub.status.idle": "2021-12-04T10:07:31.359882Z",
     "shell.execute_reply": "2021-12-04T10:07:31.360384Z"
    },
    "papermill": {
     "duration": 0.084506,
     "end_time": "2021-12-04T10:07:31.360560",
     "exception": false,
     "start_time": "2021-12-04T10:07:31.276054",
     "status": "completed"
    },
    "tags": []
   },
   "outputs": [],
   "source": [
    "X_train = X_train/255.\n",
    "X_test = X_test/255."
   ]
  },
  {
   "cell_type": "markdown",
   "id": "ddcf4fab",
   "metadata": {
    "papermill": {
     "duration": 0.027182,
     "end_time": "2021-12-04T10:07:31.416149",
     "exception": false,
     "start_time": "2021-12-04T10:07:31.388967",
     "status": "completed"
    },
    "tags": []
   },
   "source": [
    "And setup the labels as 1 (when the digit is 3) and 0 (when the digit is 8)"
   ]
  },
  {
   "cell_type": "code",
   "execution_count": 12,
   "id": "7dc908f2",
   "metadata": {
    "execution": {
     "iopub.execute_input": "2021-12-04T10:07:31.474418Z",
     "iopub.status.busy": "2021-12-04T10:07:31.473887Z",
     "iopub.status.idle": "2021-12-04T10:07:31.485711Z",
     "shell.execute_reply": "2021-12-04T10:07:31.485289Z"
    },
    "papermill": {
     "duration": 0.043057,
     "end_time": "2021-12-04T10:07:31.485831",
     "exception": false,
     "start_time": "2021-12-04T10:07:31.442774",
     "status": "completed"
    },
    "tags": []
   },
   "outputs": [],
   "source": [
    "y_train = 1*(y_train==3)\n",
    "y_test = 1*(y_test==3)"
   ]
  },
  {
   "cell_type": "code",
   "execution_count": 13,
   "id": "01e4e969",
   "metadata": {
    "execution": {
     "iopub.execute_input": "2021-12-04T10:07:31.547541Z",
     "iopub.status.busy": "2021-12-04T10:07:31.547026Z",
     "iopub.status.idle": "2021-12-04T10:07:31.556897Z",
     "shell.execute_reply": "2021-12-04T10:07:31.556480Z"
    },
    "papermill": {
     "duration": 0.044424,
     "end_time": "2021-12-04T10:07:31.557009",
     "exception": false,
     "start_time": "2021-12-04T10:07:31.512585",
     "status": "completed"
    },
    "tags": []
   },
   "outputs": [
    {
     "data": {
      "text/plain": [
       "((11982, 28, 28), (1984, 28, 28))"
      ]
     },
     "execution_count": 13,
     "metadata": {},
     "output_type": "execute_result"
    }
   ],
   "source": [
    "X_train.shape, X_test.shape"
   ]
  },
  {
   "cell_type": "markdown",
   "id": "5ccf3f85",
   "metadata": {
    "papermill": {
     "duration": 0.026954,
     "end_time": "2021-12-04T10:07:31.610932",
     "exception": false,
     "start_time": "2021-12-04T10:07:31.583978",
     "status": "completed"
    },
    "tags": []
   },
   "source": [
    "We reshape the data to flatten the image pixels into a set of features or co-variates:"
   ]
  },
  {
   "cell_type": "code",
   "execution_count": 14,
   "id": "5286a4a3",
   "metadata": {
    "execution": {
     "iopub.execute_input": "2021-12-04T10:07:31.668568Z",
     "iopub.status.busy": "2021-12-04T10:07:31.668028Z",
     "iopub.status.idle": "2021-12-04T10:07:31.682210Z",
     "shell.execute_reply": "2021-12-04T10:07:31.681778Z"
    },
    "papermill": {
     "duration": 0.044438,
     "end_time": "2021-12-04T10:07:31.682321",
     "exception": false,
     "start_time": "2021-12-04T10:07:31.637883",
     "status": "completed"
    },
    "tags": []
   },
   "outputs": [
    {
     "data": {
      "text/plain": [
       "((11982, 784), (1984, 784))"
      ]
     },
     "execution_count": 14,
     "metadata": {},
     "output_type": "execute_result"
    }
   ],
   "source": [
    "X_train = X_train.reshape(X_train.shape[0], -1)\n",
    "X_test = X_test.reshape(X_test.shape[0], -1)\n",
    "X_train.shape, X_test.shape"
   ]
  },
  {
   "cell_type": "code",
   "execution_count": 15,
   "id": "73c5f88a",
   "metadata": {
    "execution": {
     "iopub.execute_input": "2021-12-04T10:07:31.745017Z",
     "iopub.status.busy": "2021-12-04T10:07:31.744491Z",
     "iopub.status.idle": "2021-12-04T10:07:31.760773Z",
     "shell.execute_reply": "2021-12-04T10:07:31.760338Z"
    },
    "papermill": {
     "duration": 0.051264,
     "end_time": "2021-12-04T10:07:31.760890",
     "exception": false,
     "start_time": "2021-12-04T10:07:31.709626",
     "status": "completed"
    },
    "tags": []
   },
   "outputs": [],
   "source": [
    "#Impoting functions from 'Kudzu'\n",
    "from kudzu.model import Model\n",
    "from kudzu.train import Learner\n",
    "from kudzu.optim import GD\n",
    "from kudzu.data import Data, Sampler,Dataloader\n",
    "\n",
    "from kudzu.callbacks import AccCallback\n",
    "from kudzu.callbacks import ClfCallback\n",
    "\n",
    "from kudzu.loss import MSE\n",
    "\n",
    "from kudzu.layer import Sigmoid,Relu\n",
    "from kudzu.layer import Affine"
   ]
  },
  {
   "cell_type": "markdown",
   "id": "bc01172a",
   "metadata": {
    "papermill": {
     "duration": 0.027463,
     "end_time": "2021-12-04T10:07:31.815531",
     "exception": false,
     "start_time": "2021-12-04T10:07:31.788068",
     "status": "completed"
    },
    "tags": []
   },
   "source": [
    "### Let us create a `Config` class, to store important parameters. \n",
    "This class essentially plays the role of a dictionary."
   ]
  },
  {
   "cell_type": "code",
   "execution_count": 16,
   "id": "978281aa",
   "metadata": {
    "execution": {
     "iopub.execute_input": "2021-12-04T10:07:31.882915Z",
     "iopub.status.busy": "2021-12-04T10:07:31.882364Z",
     "iopub.status.idle": "2021-12-04T10:07:31.889248Z",
     "shell.execute_reply": "2021-12-04T10:07:31.888832Z"
    },
    "papermill": {
     "duration": 0.04691,
     "end_time": "2021-12-04T10:07:31.889370",
     "exception": false,
     "start_time": "2021-12-04T10:07:31.842460",
     "status": "completed"
    },
    "tags": []
   },
   "outputs": [],
   "source": [
    "class Config:\n",
    "    pass\n",
    "config = Config()\n",
    "config.lr = 0.001\n",
    "config.num_epochs = 250\n",
    "config.bs = 50"
   ]
  },
  {
   "cell_type": "markdown",
   "id": "1385fa59",
   "metadata": {
    "papermill": {
     "duration": 0.027707,
     "end_time": "2021-12-04T10:07:31.944397",
     "exception": false,
     "start_time": "2021-12-04T10:07:31.916690",
     "status": "completed"
    },
    "tags": []
   },
   "source": [
    "### Running Models with the Training data\n",
    "Details about the network layers:\n",
    "- A first affine layer has 784 inputs and does 100 affine transforms. These are followed by a Relu\n",
    "- A second affine layer has 100 inputs from the 100 activations of the past layer, and does 100 affine transforms. These are followed by a Relu\n",
    "- A third affine layer has 100 activations and does 2 affine transformations to create an embedding for visualization. There is no non-linearity here.\n",
    "- A final \"logistic regression\" which has an affine transform from 2 inputs to 1 output, which is squeezed through a sigmoid.\n"
   ]
  },
  {
   "cell_type": "code",
   "execution_count": 17,
   "id": "2b9c66db",
   "metadata": {
    "execution": {
     "iopub.execute_input": "2021-12-04T10:07:32.003550Z",
     "iopub.status.busy": "2021-12-04T10:07:32.002668Z",
     "iopub.status.idle": "2021-12-04T10:07:32.016655Z",
     "shell.execute_reply": "2021-12-04T10:07:32.016235Z"
    },
    "papermill": {
     "duration": 0.045234,
     "end_time": "2021-12-04T10:07:32.016773",
     "exception": false,
     "start_time": "2021-12-04T10:07:31.971539",
     "status": "completed"
    },
    "tags": []
   },
   "outputs": [],
   "source": [
    "data = Data(X_train, y_train.reshape(-1,1))\n",
    "sampler = Sampler(data, config.bs, shuffle=True)\n",
    "\n",
    "dl = Dataloader(data, sampler)\n",
    "\n",
    "opt = GD(config.lr)\n",
    "loss = MSE()"
   ]
  },
  {
   "cell_type": "code",
   "execution_count": 18,
   "id": "b275e4c2",
   "metadata": {
    "execution": {
     "iopub.execute_input": "2021-12-04T10:07:32.077025Z",
     "iopub.status.busy": "2021-12-04T10:07:32.076510Z",
     "iopub.status.idle": "2021-12-04T10:07:32.087813Z",
     "shell.execute_reply": "2021-12-04T10:07:32.088232Z"
    },
    "papermill": {
     "duration": 0.044241,
     "end_time": "2021-12-04T10:07:32.088368",
     "exception": false,
     "start_time": "2021-12-04T10:07:32.044127",
     "status": "completed"
    },
    "tags": []
   },
   "outputs": [],
   "source": [
    "training_data_x = X_train\n",
    "testing_data_x = X_test\n",
    "training_data_y = y_train.reshape(-1,1)\n",
    "testing_data_y = y_test.reshape(-1,1)"
   ]
  },
  {
   "cell_type": "code",
   "execution_count": 19,
   "id": "76951160",
   "metadata": {
    "execution": {
     "iopub.execute_input": "2021-12-04T10:07:32.146785Z",
     "iopub.status.busy": "2021-12-04T10:07:32.146265Z",
     "iopub.status.idle": "2021-12-04T10:07:32.166217Z",
     "shell.execute_reply": "2021-12-04T10:07:32.165802Z"
    },
    "papermill": {
     "duration": 0.050883,
     "end_time": "2021-12-04T10:07:32.166332",
     "exception": false,
     "start_time": "2021-12-04T10:07:32.115449",
     "status": "completed"
    },
    "tags": []
   },
   "outputs": [
    {
     "name": "stdout",
     "output_type": "stream",
     "text": [
      "xavier\n",
      "xavier\n",
      "xavier\n",
      "xavier\n",
      "xavier\n"
     ]
    }
   ],
   "source": [
    "layers = [Affine(\"first\", 784, 100), Relu(\"first\"), Affine(\"second\", 100, 100), Relu(\"second\"), Affine(\"third\", 100, 2), Affine(\"last\", 2, 1), Sigmoid(\"last\")]\n",
    "model_nn = Model(layers)\n",
    "model_lr = Model([Affine(\"logits\", 784, 1), Sigmoid(\"sigmoid\")])"
   ]
  },
  {
   "cell_type": "code",
   "execution_count": 20,
   "id": "6eede77a",
   "metadata": {
    "execution": {
     "iopub.execute_input": "2021-12-04T10:07:32.232791Z",
     "iopub.status.busy": "2021-12-04T10:07:32.232232Z",
     "iopub.status.idle": "2021-12-04T10:07:32.241035Z",
     "shell.execute_reply": "2021-12-04T10:07:32.240616Z"
    },
    "papermill": {
     "duration": 0.04713,
     "end_time": "2021-12-04T10:07:32.241159",
     "exception": false,
     "start_time": "2021-12-04T10:07:32.194029",
     "status": "completed"
    },
    "tags": []
   },
   "outputs": [],
   "source": [
    "nn_learner = Learner(loss, model_nn, opt, config.num_epochs)\n",
    "acc_nn = ClfCallback(nn_learner, config.bs, training_data_x , testing_data_x, training_data_y, testing_data_y)\n",
    "nn_learner.set_callbacks([acc_nn])"
   ]
  },
  {
   "cell_type": "code",
   "execution_count": 21,
   "id": "877b6cc7",
   "metadata": {
    "execution": {
     "iopub.execute_input": "2021-12-04T10:07:32.300454Z",
     "iopub.status.busy": "2021-12-04T10:07:32.299931Z",
     "iopub.status.idle": "2021-12-04T10:07:32.312282Z",
     "shell.execute_reply": "2021-12-04T10:07:32.312672Z"
    },
    "papermill": {
     "duration": 0.044014,
     "end_time": "2021-12-04T10:07:32.312807",
     "exception": false,
     "start_time": "2021-12-04T10:07:32.268793",
     "status": "completed"
    },
    "tags": []
   },
   "outputs": [],
   "source": [
    "lr_learner = Learner(loss, model_lr, opt, config.num_epochs)\n",
    "acc_lr = ClfCallback(lr_learner, config.bs, training_data_x , testing_data_x, training_data_y, testing_data_y)\n",
    "lr_learner.set_callbacks([acc_lr])"
   ]
  },
  {
   "cell_type": "code",
   "execution_count": 22,
   "id": "d9b133c3",
   "metadata": {
    "execution": {
     "iopub.execute_input": "2021-12-04T10:07:32.381247Z",
     "iopub.status.busy": "2021-12-04T10:07:32.380726Z",
     "iopub.status.idle": "2021-12-04T10:08:49.285547Z",
     "shell.execute_reply": "2021-12-04T10:08:49.286304Z"
    },
    "papermill": {
     "duration": 76.946116,
     "end_time": "2021-12-04T10:08:49.286458",
     "exception": false,
     "start_time": "2021-12-04T10:07:32.340342",
     "status": "completed"
    },
    "tags": []
   },
   "outputs": [
    {
     "name": "stdout",
     "output_type": "stream",
     "text": [
      "Epoch 0, Loss 0.2515\n",
      "Training Accuracy: 0.5275, Testing Accuracy: 0.5439\n",
      "\n"
     ]
    },
    {
     "name": "stdout",
     "output_type": "stream",
     "text": [
      "Epoch 10, Loss 0.1637\n",
      "Training Accuracy: 0.8779, Testing Accuracy: 0.8921\n",
      "\n"
     ]
    },
    {
     "name": "stdout",
     "output_type": "stream",
     "text": [
      "Epoch 20, Loss 0.0841\n",
      "Training Accuracy: 0.9180, Testing Accuracy: 0.9320\n",
      "\n"
     ]
    },
    {
     "name": "stdout",
     "output_type": "stream",
     "text": [
      "Epoch 30, Loss 0.057\n",
      "Training Accuracy: 0.9389, Testing Accuracy: 0.9496\n",
      "\n"
     ]
    },
    {
     "name": "stdout",
     "output_type": "stream",
     "text": [
      "Epoch 40, Loss 0.0454\n",
      "Training Accuracy: 0.9504, Testing Accuracy: 0.9622\n",
      "\n"
     ]
    },
    {
     "name": "stdout",
     "output_type": "stream",
     "text": [
      "Epoch 50, Loss 0.0394\n",
      "Training Accuracy: 0.9545, Testing Accuracy: 0.9672\n",
      "\n"
     ]
    },
    {
     "name": "stdout",
     "output_type": "stream",
     "text": [
      "Epoch 60, Loss 0.0357\n",
      "Training Accuracy: 0.9586, Testing Accuracy: 0.9672\n",
      "\n"
     ]
    },
    {
     "name": "stdout",
     "output_type": "stream",
     "text": [
      "Epoch 70, Loss 0.0332\n",
      "Training Accuracy: 0.9612, Testing Accuracy: 0.9682\n",
      "\n"
     ]
    },
    {
     "name": "stdout",
     "output_type": "stream",
     "text": [
      "Epoch 80, Loss 0.0313\n",
      "Training Accuracy: 0.9634, Testing Accuracy: 0.9698\n",
      "\n"
     ]
    },
    {
     "name": "stdout",
     "output_type": "stream",
     "text": [
      "Epoch 90, Loss 0.0298\n",
      "Training Accuracy: 0.9646, Testing Accuracy: 0.9693\n",
      "\n"
     ]
    },
    {
     "name": "stdout",
     "output_type": "stream",
     "text": [
      "Epoch 100, Loss 0.0286\n",
      "Training Accuracy: 0.9661, Testing Accuracy: 0.9703\n",
      "\n"
     ]
    },
    {
     "name": "stdout",
     "output_type": "stream",
     "text": [
      "Epoch 110, Loss 0.0276\n",
      "Training Accuracy: 0.9673, Testing Accuracy: 0.9698\n",
      "\n"
     ]
    },
    {
     "name": "stdout",
     "output_type": "stream",
     "text": [
      "Epoch 120, Loss 0.0266\n",
      "Training Accuracy: 0.9685, Testing Accuracy: 0.9703\n",
      "\n"
     ]
    },
    {
     "name": "stdout",
     "output_type": "stream",
     "text": [
      "Epoch 130, Loss 0.0258\n",
      "Training Accuracy: 0.9697, Testing Accuracy: 0.9703\n",
      "\n"
     ]
    },
    {
     "name": "stdout",
     "output_type": "stream",
     "text": [
      "Epoch 140, Loss 0.0251\n",
      "Training Accuracy: 0.9714, Testing Accuracy: 0.9703\n",
      "\n"
     ]
    },
    {
     "name": "stdout",
     "output_type": "stream",
     "text": [
      "Epoch 150, Loss 0.0245\n",
      "Training Accuracy: 0.9720, Testing Accuracy: 0.9703\n",
      "\n"
     ]
    },
    {
     "name": "stdout",
     "output_type": "stream",
     "text": [
      "Epoch 160, Loss 0.0239\n",
      "Training Accuracy: 0.9725, Testing Accuracy: 0.9698\n",
      "\n"
     ]
    },
    {
     "name": "stdout",
     "output_type": "stream",
     "text": [
      "Epoch 170, Loss 0.0233\n",
      "Training Accuracy: 0.9730, Testing Accuracy: 0.9708\n",
      "\n"
     ]
    },
    {
     "name": "stdout",
     "output_type": "stream",
     "text": [
      "Epoch 180, Loss 0.0228\n",
      "Training Accuracy: 0.9735, Testing Accuracy: 0.9708\n",
      "\n"
     ]
    },
    {
     "name": "stdout",
     "output_type": "stream",
     "text": [
      "Epoch 190, Loss 0.0223\n",
      "Training Accuracy: 0.9740, Testing Accuracy: 0.9718\n",
      "\n"
     ]
    },
    {
     "name": "stdout",
     "output_type": "stream",
     "text": [
      "Epoch 200, Loss 0.0219\n",
      "Training Accuracy: 0.9746, Testing Accuracy: 0.9723\n",
      "\n"
     ]
    },
    {
     "name": "stdout",
     "output_type": "stream",
     "text": [
      "Epoch 210, Loss 0.0215\n",
      "Training Accuracy: 0.9751, Testing Accuracy: 0.9728\n",
      "\n"
     ]
    },
    {
     "name": "stdout",
     "output_type": "stream",
     "text": [
      "Epoch 220, Loss 0.0211\n",
      "Training Accuracy: 0.9759, Testing Accuracy: 0.9728\n",
      "\n"
     ]
    },
    {
     "name": "stdout",
     "output_type": "stream",
     "text": [
      "Epoch 230, Loss 0.0207\n",
      "Training Accuracy: 0.9765, Testing Accuracy: 0.9738\n",
      "\n"
     ]
    },
    {
     "name": "stdout",
     "output_type": "stream",
     "text": [
      "Epoch 240, Loss 0.0203\n",
      "Training Accuracy: 0.9774, Testing Accuracy: 0.9748\n",
      "\n"
     ]
    },
    {
     "data": {
      "text/plain": [
       "0.015491202832781634"
      ]
     },
     "execution_count": 22,
     "metadata": {},
     "output_type": "execute_result"
    }
   ],
   "source": [
    "nn_learner.train_loop(dl)"
   ]
  },
  {
   "cell_type": "code",
   "execution_count": 23,
   "id": "e0163366",
   "metadata": {
    "execution": {
     "iopub.execute_input": "2021-12-04T10:08:49.364925Z",
     "iopub.status.busy": "2021-12-04T10:08:49.364383Z",
     "iopub.status.idle": "2021-12-04T10:09:03.608857Z",
     "shell.execute_reply": "2021-12-04T10:09:03.609626Z"
    },
    "papermill": {
     "duration": 14.28864,
     "end_time": "2021-12-04T10:09:03.609789",
     "exception": false,
     "start_time": "2021-12-04T10:08:49.321149",
     "status": "completed"
    },
    "tags": []
   },
   "outputs": [
    {
     "name": "stdout",
     "output_type": "stream",
     "text": [
      "Epoch 0, Loss 0.2686\n",
      "Training Accuracy: 0.5662, Testing Accuracy: 0.5428\n",
      "\n"
     ]
    },
    {
     "name": "stdout",
     "output_type": "stream",
     "text": [
      "Epoch 10, Loss 0.1113\n",
      "Training Accuracy: 0.8909, Testing Accuracy: 0.8997\n",
      "\n"
     ]
    },
    {
     "name": "stdout",
     "output_type": "stream",
     "text": [
      "Epoch 20, Loss 0.083\n",
      "Training Accuracy: 0.9215, Testing Accuracy: 0.9309\n",
      "\n"
     ]
    },
    {
     "name": "stdout",
     "output_type": "stream",
     "text": [
      "Epoch 30, Loss 0.0704\n",
      "Training Accuracy: 0.9326, Testing Accuracy: 0.9451\n",
      "\n"
     ]
    },
    {
     "name": "stdout",
     "output_type": "stream",
     "text": [
      "Epoch 40, Loss 0.0631\n",
      "Training Accuracy: 0.9387, Testing Accuracy: 0.9496\n",
      "\n"
     ]
    },
    {
     "name": "stdout",
     "output_type": "stream",
     "text": [
      "Epoch 50, Loss 0.0582\n",
      "Training Accuracy: 0.9422, Testing Accuracy: 0.9551\n",
      "\n"
     ]
    },
    {
     "name": "stdout",
     "output_type": "stream",
     "text": [
      "Epoch 60, Loss 0.0546\n",
      "Training Accuracy: 0.9464, Testing Accuracy: 0.9556\n",
      "\n"
     ]
    },
    {
     "name": "stdout",
     "output_type": "stream",
     "text": [
      "Epoch 70, Loss 0.0519\n",
      "Training Accuracy: 0.9485, Testing Accuracy: 0.9582\n",
      "\n"
     ]
    },
    {
     "name": "stdout",
     "output_type": "stream",
     "text": [
      "Epoch 80, Loss 0.0497\n",
      "Training Accuracy: 0.9502, Testing Accuracy: 0.9587\n",
      "\n"
     ]
    },
    {
     "name": "stdout",
     "output_type": "stream",
     "text": [
      "Epoch 90, Loss 0.0479\n",
      "Training Accuracy: 0.9517, Testing Accuracy: 0.9597\n",
      "\n"
     ]
    },
    {
     "name": "stdout",
     "output_type": "stream",
     "text": [
      "Epoch 100, Loss 0.0465\n",
      "Training Accuracy: 0.9527, Testing Accuracy: 0.9607\n",
      "\n"
     ]
    },
    {
     "name": "stdout",
     "output_type": "stream",
     "text": [
      "Epoch 110, Loss 0.0452\n",
      "Training Accuracy: 0.9542, Testing Accuracy: 0.9617\n",
      "\n"
     ]
    },
    {
     "name": "stdout",
     "output_type": "stream",
     "text": [
      "Epoch 120, Loss 0.0441\n",
      "Training Accuracy: 0.9550, Testing Accuracy: 0.9617\n",
      "\n"
     ]
    },
    {
     "name": "stdout",
     "output_type": "stream",
     "text": [
      "Epoch 130, Loss 0.0431\n",
      "Training Accuracy: 0.9559, Testing Accuracy: 0.9617\n",
      "\n"
     ]
    },
    {
     "name": "stdout",
     "output_type": "stream",
     "text": [
      "Epoch 140, Loss 0.0423\n",
      "Training Accuracy: 0.9564, Testing Accuracy: 0.9622\n",
      "\n"
     ]
    },
    {
     "name": "stdout",
     "output_type": "stream",
     "text": [
      "Epoch 150, Loss 0.0415\n",
      "Training Accuracy: 0.9570, Testing Accuracy: 0.9632\n",
      "\n"
     ]
    },
    {
     "name": "stdout",
     "output_type": "stream",
     "text": [
      "Epoch 160, Loss 0.0408\n",
      "Training Accuracy: 0.9578, Testing Accuracy: 0.9632\n",
      "\n"
     ]
    },
    {
     "name": "stdout",
     "output_type": "stream",
     "text": [
      "Epoch 170, Loss 0.0402\n",
      "Training Accuracy: 0.9580, Testing Accuracy: 0.9642\n",
      "\n"
     ]
    },
    {
     "name": "stdout",
     "output_type": "stream",
     "text": [
      "Epoch 180, Loss 0.0396\n",
      "Training Accuracy: 0.9583, Testing Accuracy: 0.9637\n",
      "\n"
     ]
    },
    {
     "name": "stdout",
     "output_type": "stream",
     "text": [
      "Epoch 190, Loss 0.0391\n",
      "Training Accuracy: 0.9589, Testing Accuracy: 0.9637\n",
      "\n"
     ]
    },
    {
     "name": "stdout",
     "output_type": "stream",
     "text": [
      "Epoch 200, Loss 0.0386\n",
      "Training Accuracy: 0.9597, Testing Accuracy: 0.9642\n",
      "\n"
     ]
    },
    {
     "name": "stdout",
     "output_type": "stream",
     "text": [
      "Epoch 210, Loss 0.0382\n",
      "Training Accuracy: 0.9602, Testing Accuracy: 0.9647\n",
      "\n"
     ]
    },
    {
     "name": "stdout",
     "output_type": "stream",
     "text": [
      "Epoch 220, Loss 0.0378\n",
      "Training Accuracy: 0.9607, Testing Accuracy: 0.9652\n",
      "\n"
     ]
    },
    {
     "name": "stdout",
     "output_type": "stream",
     "text": [
      "Epoch 230, Loss 0.0374\n",
      "Training Accuracy: 0.9609, Testing Accuracy: 0.9657\n",
      "\n"
     ]
    },
    {
     "name": "stdout",
     "output_type": "stream",
     "text": [
      "Epoch 240, Loss 0.037\n",
      "Training Accuracy: 0.9610, Testing Accuracy: 0.9667\n",
      "\n"
     ]
    },
    {
     "data": {
      "text/plain": [
       "0.05016642479576877"
      ]
     },
     "execution_count": 23,
     "metadata": {},
     "output_type": "execute_result"
    }
   ],
   "source": [
    "lr_learner.train_loop(dl)"
   ]
  },
  {
   "cell_type": "code",
   "execution_count": 24,
   "id": "ca410940",
   "metadata": {
    "execution": {
     "iopub.execute_input": "2021-12-04T10:09:03.709051Z",
     "iopub.status.busy": "2021-12-04T10:09:03.708491Z",
     "iopub.status.idle": "2021-12-04T10:09:03.922206Z",
     "shell.execute_reply": "2021-12-04T10:09:03.922640Z"
    },
    "papermill": {
     "duration": 0.269893,
     "end_time": "2021-12-04T10:09:03.922783",
     "exception": false,
     "start_time": "2021-12-04T10:09:03.652890",
     "status": "completed"
    },
    "tags": []
   },
   "outputs": [
    {
     "data": {
      "text/plain": [
       "<matplotlib.legend.Legend at 0x7feacab7cc50>"
      ]
     },
     "execution_count": 24,
     "metadata": {},
     "output_type": "execute_result"
    },
    {
     "data": {
      "image/png": "[encoded data removed]",
      "text/plain": [
       "<Figure size 1080x720 with 1 Axes>"
      ]
     },
     "metadata": {
      "needs_background": "light"
     },
     "output_type": "display_data"
    }
   ],
   "source": [
    "#comparing the results of NN and LR\n",
    "plt.figure(figsize=(15,10))\n",
    "\n",
    "# Neural Network plots\n",
    "plt.plot(acc_nn.accuracies, 'r-', label = \"Training Accuracies - NN\")\n",
    "plt.plot(acc_nn.test_accuracies, 'g-', label = \"Testing Accuracies - NN\")\n",
    "\n",
    "# Logistic Regression plots\n",
    "plt.plot(acc_lr.accuracies, 'k-', label = \"Training Accuracies - LR\")\n",
    "plt.plot(acc_lr.test_accuracies, 'b-', label = \"Testing Accuracies - LR\")\n",
    "plt.legend()"
   ]
  },
  {
   "cell_type": "markdown",
   "id": "80dfb35c",
   "metadata": {
    "papermill": {
     "duration": 0.042416,
     "end_time": "2021-12-04T10:09:04.007865",
     "exception": false,
     "start_time": "2021-12-04T10:09:03.965449",
     "status": "completed"
    },
    "tags": []
   },
   "source": [
    "#### Plotting the outputs of this layer of the NN.\n"
   ]
  },
  {
   "cell_type": "code",
   "execution_count": 25,
   "id": "45eb2ff5",
   "metadata": {
    "execution": {
     "iopub.execute_input": "2021-12-04T10:09:04.097635Z",
     "iopub.status.busy": "2021-12-04T10:09:04.097082Z",
     "iopub.status.idle": "2021-12-04T10:09:04.117613Z",
     "shell.execute_reply": "2021-12-04T10:09:04.118057Z"
    },
    "papermill": {
     "duration": 0.067928,
     "end_time": "2021-12-04T10:09:04.118205",
     "exception": false,
     "start_time": "2021-12-04T10:09:04.050277",
     "status": "completed"
    },
    "tags": []
   },
   "outputs": [],
   "source": [
    "new_model = Model(layers[:-2])\n",
    "testing_plot = new_model(testing_data_x)"
   ]
  },
  {
   "cell_type": "code",
   "execution_count": 26,
   "id": "4c0a5485",
   "metadata": {
    "execution": {
     "iopub.execute_input": "2021-12-04T10:09:04.253006Z",
     "iopub.status.busy": "2021-12-04T10:09:04.252456Z",
     "iopub.status.idle": "2021-12-04T10:09:04.474268Z",
     "shell.execute_reply": "2021-12-04T10:09:04.474663Z"
    },
    "papermill": {
     "duration": 0.312874,
     "end_time": "2021-12-04T10:09:04.474812",
     "exception": false,
     "start_time": "2021-12-04T10:09:04.161938",
     "status": "completed"
    },
    "tags": []
   },
   "outputs": [
    {
     "data": {
      "text/plain": [
       "Text(0.5, 1.0, 'Outputs')"
      ]
     },
     "execution_count": 26,
     "metadata": {},
     "output_type": "execute_result"
    },
    {
     "data": {
      "image/png": "[encoded data removed]",
      "text/plain": [
       "<Figure size 576x504 with 1 Axes>"
      ]
     },
     "metadata": {
      "needs_background": "light"
     },
     "output_type": "display_data"
    }
   ],
   "source": [
    "# Plotting the scatter plot of points and color coding by class\n",
    "plt.figure(figsize=(8,7))\n",
    "plt.scatter(testing_plot[:,0], testing_plot[:,1], alpha = 0.1, c = y_test.ravel());\n",
    "plt.title('Outputs')"
   ]
  },
  {
   "cell_type": "markdown",
   "id": "a74fcf8f",
   "metadata": {
    "papermill": {
     "duration": 0.045885,
     "end_time": "2021-12-04T10:09:04.566780",
     "exception": false,
     "start_time": "2021-12-04T10:09:04.520895",
     "status": "completed"
    },
    "tags": []
   },
   "source": [
    "Probability contours"
   ]
  },
  {
   "cell_type": "code",
   "execution_count": 27,
   "id": "d0afc8e3",
   "metadata": {
    "execution": {
     "iopub.execute_input": "2021-12-04T10:09:04.664391Z",
     "iopub.status.busy": "2021-12-04T10:09:04.663827Z",
     "iopub.status.idle": "2021-12-04T10:09:04.675402Z",
     "shell.execute_reply": "2021-12-04T10:09:04.674978Z"
    },
    "papermill": {
     "duration": 0.062529,
     "end_time": "2021-12-04T10:09:04.675525",
     "exception": false,
     "start_time": "2021-12-04T10:09:04.612996",
     "status": "completed"
    },
    "tags": []
   },
   "outputs": [],
   "source": [
    "model_prob = Model(layers[-2:]) "
   ]
  },
  {
   "cell_type": "code",
   "execution_count": 28,
   "id": "9b96e238",
   "metadata": {
    "execution": {
     "iopub.execute_input": "2021-12-04T10:09:04.781291Z",
     "iopub.status.busy": "2021-12-04T10:09:04.780724Z",
     "iopub.status.idle": "2021-12-04T10:09:04.790788Z",
     "shell.execute_reply": "2021-12-04T10:09:04.791191Z"
    },
    "papermill": {
     "duration": 0.069571,
     "end_time": "2021-12-04T10:09:04.791338",
     "exception": false,
     "start_time": "2021-12-04T10:09:04.721767",
     "status": "completed"
    },
    "tags": []
   },
   "outputs": [],
   "source": [
    "#creating the x and y ranges according to the above generated plot.\n",
    "x_range = np.linspace(-4, 1, 100) \n",
    "y_range = np.linspace(-6, 6, 100) \n",
    "x_grid, y_grid = np.meshgrid(x_range, y_range) # x_grid and y_grig are of size 100 X 100\n",
    "\n",
    "# converting x_grid and y_grid to continuous arrays\n",
    "x_gridflat = np.ravel(x_grid)\n",
    "y_gridflat = np.ravel(y_grid)\n",
    "\n",
    "# The last layer of the current model takes two columns as input. Hence transpose of np.vstack() is required.\n",
    "X = np.vstack((x_gridflat, y_gridflat)).T\n",
    "\n",
    "prob_contour = model_prob(X).reshape(100,100) "
   ]
  },
  {
   "cell_type": "code",
   "execution_count": 29,
   "id": "da72499a",
   "metadata": {
    "execution": {
     "iopub.execute_input": "2021-12-04T10:09:04.918727Z",
     "iopub.status.busy": "2021-12-04T10:09:04.912938Z",
     "iopub.status.idle": "2021-12-04T10:09:05.137335Z",
     "shell.execute_reply": "2021-12-04T10:09:05.136842Z"
    },
    "papermill": {
     "duration": 0.299173,
     "end_time": "2021-12-04T10:09:05.137474",
     "exception": false,
     "start_time": "2021-12-04T10:09:04.838301",
     "status": "completed"
    },
    "tags": []
   },
   "outputs": [
    {
     "data": {
      "image/png": "[encoded data removed]",
      "text/plain": [
       "<Figure size 720x648 with 1 Axes>"
      ]
     },
     "metadata": {
      "needs_background": "light"
     },
     "output_type": "display_data"
    }
   ],
   "source": [
    "plt.figure(figsize=(10,9))\n",
    "plt.scatter(testing_plot[:,0], testing_plot[:,1], alpha = 0.1, c = y_test.ravel())\n",
    "contours = plt.contour(x_grid,y_grid,prob_contour)\n",
    "plt.title('Probability Contours')\n",
    "plt.clabel(contours, inline = True );"
   ]
  },
  {
   "cell_type": "code",
   "execution_count": null,
   "id": "e81b4ac7",
   "metadata": {
    "papermill": {
     "duration": 0.048149,
     "end_time": "2021-12-04T10:09:05.266092",
     "exception": false,
     "start_time": "2021-12-04T10:09:05.217943",
     "status": "completed"
    },
    "tags": []
   },
   "outputs": [],
   "source": []
  }
 ],
 "metadata": {
  "kernelspec": {
   "display_name": "Python 3",
   "language": "python",
   "name": "python3"
  },
  "language_info": {
   "codemirror_mode": {
    "name": "ipython",
    "version": 3
   },
   "file_extension": ".py",
   "mimetype": "text/x-python",
   "name": "python",
   "nbconvert_exporter": "python",
   "pygments_lexer": "ipython3",
   "version": "3.6.15"
  },
  "papermill": {
   "default_parameters": {},
   "duration": 99.30835,
   "end_time": "2021-12-04T10:09:05.722875",
   "environment_variables": {},
   "exception": null,
   "input_path": "2020-08-11-part2.ipynb",
   "output_path": "2020-08-11-part2.ipynb",
   "parameters": {},
   "start_time": "2021-12-04T10:07:26.414525",
   "version": "2.3.3"
  }
 },
 "nbformat": 4,
 "nbformat_minor": 5
}