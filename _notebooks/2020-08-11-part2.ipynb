{
 "cells": [
  {
   "cell_type": "markdown",
   "id": "98380cd3",
   "metadata": {
    "papermill": {
     "duration": 0.028292,
     "end_time": "2022-04-07T10:09:36.582460",
     "exception": false,
     "start_time": "2022-04-07T10:09:36.554168",
     "status": "completed"
    },
    "tags": []
   },
   "source": [
    "# Distinguish Your Own Digits (DYOD)"
   ]
  },
  {
   "cell_type": "markdown",
   "id": "ef31240d",
   "metadata": {
    "papermill": {
     "duration": 0.025482,
     "end_time": "2022-04-07T10:09:36.633026",
     "exception": false,
     "start_time": "2022-04-07T10:09:36.607544",
     "status": "completed"
    },
    "tags": []
   },
   "source": [
    "You are going to write a classifier that distinguishes between the number 3 and number 8."
   ]
  },
  {
   "cell_type": "code",
   "execution_count": 1,
   "id": "b15c8646",
   "metadata": {
    "execution": {
     "iopub.execute_input": "2022-04-07T10:09:36.691716Z",
     "iopub.status.busy": "2022-04-07T10:09:36.691203Z",
     "iopub.status.idle": "2022-04-07T10:09:36.701304Z",
     "shell.execute_reply": "2022-04-07T10:09:36.700893Z"
    },
    "papermill": {
     "duration": 0.043905,
     "end_time": "2022-04-07T10:09:36.701423",
     "exception": false,
     "start_time": "2022-04-07T10:09:36.657518",
     "status": "completed"
    },
    "tags": []
   },
   "outputs": [],
   "source": [
    "%load_ext autoreload\n",
    "%autoreload 2"
   ]
  },
  {
   "cell_type": "code",
   "execution_count": 2,
   "id": "22ef38dc",
   "metadata": {
    "execution": {
     "iopub.execute_input": "2022-04-07T10:09:36.754176Z",
     "iopub.status.busy": "2022-04-07T10:09:36.753686Z",
     "iopub.status.idle": "2022-04-07T10:09:37.310788Z",
     "shell.execute_reply": "2022-04-07T10:09:37.310342Z"
    },
    "papermill": {
     "duration": 0.585034,
     "end_time": "2022-04-07T10:09:37.310905",
     "exception": false,
     "start_time": "2022-04-07T10:09:36.725871",
     "status": "completed"
    },
    "tags": []
   },
   "outputs": [],
   "source": [
    "%matplotlib inline\n",
    "import numpy as np\n",
    "import matplotlib.pyplot as plt\n",
    "import pandas as pd"
   ]
  },
  {
   "cell_type": "markdown",
   "id": "ba036198",
   "metadata": {
    "papermill": {
     "duration": 0.024479,
     "end_time": "2022-04-07T10:09:37.359900",
     "exception": false,
     "start_time": "2022-04-07T10:09:37.335421",
     "status": "completed"
    },
    "tags": []
   },
   "source": [
    "From the command line run `pip install mnist`. This is a library that will help you bring down the mnist dataset. If you run this from a notebook, you need to put  `!pip install mnist` in a cell by itself."
   ]
  },
  {
   "cell_type": "code",
   "execution_count": 3,
   "id": "bb6ad8a1",
   "metadata": {
    "execution": {
     "iopub.execute_input": "2022-04-07T10:09:37.412975Z",
     "iopub.status.busy": "2022-04-07T10:09:37.412481Z",
     "iopub.status.idle": "2022-04-07T10:09:39.035815Z",
     "shell.execute_reply": "2022-04-07T10:09:39.035372Z"
    },
    "papermill": {
     "duration": 1.651284,
     "end_time": "2022-04-07T10:09:39.035929",
     "exception": false,
     "start_time": "2022-04-07T10:09:37.384645",
     "status": "completed"
    },
    "tags": []
   },
   "outputs": [
    {
     "name": "stdout",
     "output_type": "stream",
     "text": [
      "Collecting mnist\r\n"
     ]
    },
    {
     "name": "stdout",
     "output_type": "stream",
     "text": [
      "  Downloading mnist-0.2.2-py2.py3-none-any.whl (3.5 kB)\r\n",
      "Requirement already satisfied: numpy in /opt/hostedtoolcache/Python/3.6.15/x64/lib/python3.6/site-packages (from mnist) (1.19.5)\r\n"
     ]
    },
    {
     "name": "stdout",
     "output_type": "stream",
     "text": [
      "Installing collected packages: mnist\r\n"
     ]
    },
    {
     "name": "stdout",
     "output_type": "stream",
     "text": [
      "Successfully installed mnist-0.2.2\r\n"
     ]
    }
   ],
   "source": [
    "!pip install mnist"
   ]
  },
  {
   "cell_type": "markdown",
   "id": "69df9c9a",
   "metadata": {
    "papermill": {
     "duration": 0.025925,
     "end_time": "2022-04-07T10:09:39.087831",
     "exception": false,
     "start_time": "2022-04-07T10:09:39.061906",
     "status": "completed"
    },
    "tags": []
   },
   "source": [
    "## Preparing the Data"
   ]
  },
  {
   "cell_type": "code",
   "execution_count": 4,
   "id": "7f69d806",
   "metadata": {
    "execution": {
     "iopub.execute_input": "2022-04-07T10:09:39.142508Z",
     "iopub.status.busy": "2022-04-07T10:09:39.142014Z",
     "iopub.status.idle": "2022-04-07T10:09:39.155071Z",
     "shell.execute_reply": "2022-04-07T10:09:39.155527Z"
    },
    "papermill": {
     "duration": 0.042241,
     "end_time": "2022-04-07T10:09:39.155644",
     "exception": false,
     "start_time": "2022-04-07T10:09:39.113403",
     "status": "completed"
    },
    "tags": []
   },
   "outputs": [],
   "source": [
    "import mnist"
   ]
  },
  {
   "cell_type": "code",
   "execution_count": 5,
   "id": "a411e44f",
   "metadata": {
    "execution": {
     "iopub.execute_input": "2022-04-07T10:09:39.210561Z",
     "iopub.status.busy": "2022-04-07T10:09:39.210081Z",
     "iopub.status.idle": "2022-04-07T10:09:39.719379Z",
     "shell.execute_reply": "2022-04-07T10:09:39.718907Z"
    },
    "papermill": {
     "duration": 0.53827,
     "end_time": "2022-04-07T10:09:39.719505",
     "exception": false,
     "start_time": "2022-04-07T10:09:39.181235",
     "status": "completed"
    },
    "tags": []
   },
   "outputs": [],
   "source": [
    "train_images = mnist.train_images()\n",
    "train_labels = mnist.train_labels()"
   ]
  },
  {
   "cell_type": "code",
   "execution_count": 6,
   "id": "dceab3a5",
   "metadata": {
    "execution": {
     "iopub.execute_input": "2022-04-07T10:09:39.774730Z",
     "iopub.status.busy": "2022-04-07T10:09:39.774221Z",
     "iopub.status.idle": "2022-04-07T10:09:39.787855Z",
     "shell.execute_reply": "2022-04-07T10:09:39.787437Z"
    },
    "papermill": {
     "duration": 0.042369,
     "end_time": "2022-04-07T10:09:39.787954",
     "exception": false,
     "start_time": "2022-04-07T10:09:39.745585",
     "status": "completed"
    },
    "tags": []
   },
   "outputs": [
    {
     "data": {
      "text/plain": [
       "((60000, 28, 28), (60000,))"
      ]
     },
     "execution_count": 6,
     "metadata": {},
     "output_type": "execute_result"
    }
   ],
   "source": [
    "train_images.shape, train_labels.shape"
   ]
  },
  {
   "cell_type": "code",
   "execution_count": 7,
   "id": "f50dc2bb",
   "metadata": {
    "execution": {
     "iopub.execute_input": "2022-04-07T10:09:39.843707Z",
     "iopub.status.busy": "2022-04-07T10:09:39.843208Z",
     "iopub.status.idle": "2022-04-07T10:09:39.992007Z",
     "shell.execute_reply": "2022-04-07T10:09:39.991561Z"
    },
    "papermill": {
     "duration": 0.178055,
     "end_time": "2022-04-07T10:09:39.992123",
     "exception": false,
     "start_time": "2022-04-07T10:09:39.814068",
     "status": "completed"
    },
    "tags": []
   },
   "outputs": [],
   "source": [
    "test_images = mnist.test_images()\n",
    "test_labels = mnist.test_labels()"
   ]
  },
  {
   "cell_type": "code",
   "execution_count": 8,
   "id": "fc38cf1b",
   "metadata": {
    "execution": {
     "iopub.execute_input": "2022-04-07T10:09:40.047780Z",
     "iopub.status.busy": "2022-04-07T10:09:40.047279Z",
     "iopub.status.idle": "2022-04-07T10:09:40.059691Z",
     "shell.execute_reply": "2022-04-07T10:09:40.059292Z"
    },
    "papermill": {
     "duration": 0.041452,
     "end_time": "2022-04-07T10:09:40.059795",
     "exception": false,
     "start_time": "2022-04-07T10:09:40.018343",
     "status": "completed"
    },
    "tags": []
   },
   "outputs": [
    {
     "data": {
      "text/plain": [
       "((10000, 28, 28), (10000,))"
      ]
     },
     "execution_count": 8,
     "metadata": {},
     "output_type": "execute_result"
    }
   ],
   "source": [
    "test_images.shape, test_labels.shape"
   ]
  },
  {
   "cell_type": "code",
   "execution_count": 9,
   "id": "f9ed8fe0",
   "metadata": {
    "execution": {
     "iopub.execute_input": "2022-04-07T10:09:40.116021Z",
     "iopub.status.busy": "2022-04-07T10:09:40.115513Z",
     "iopub.status.idle": "2022-04-07T10:09:40.247252Z",
     "shell.execute_reply": "2022-04-07T10:09:40.247666Z"
    },
    "papermill": {
     "duration": 0.16172,
     "end_time": "2022-04-07T10:09:40.247794",
     "exception": false,
     "start_time": "2022-04-07T10:09:40.086074",
     "status": "completed"
    },
    "tags": []
   },
   "outputs": [
    {
     "name": "stdout",
     "output_type": "stream",
     "text": [
      "2\n"
     ]
    },
    {
     "data": {
      "text/plain": [
       "<matplotlib.image.AxesImage at 0x7f81d1bcf4e0>"
      ]
     },
     "execution_count": 9,
     "metadata": {},
     "output_type": "execute_result"
    },
    {
     "data": {
      "image/png": "[encoded data removed]",
      "text/plain": [
       "<Figure size 432x288 with 1 Axes>"
      ]
     },
     "metadata": {
      "needs_background": "light"
     },
     "output_type": "display_data"
    }
   ],
   "source": [
    "image_index = 7776 # You may select anything up to 60,000\n",
    "print(train_labels[image_index]) \n",
    "plt.imshow(train_images[image_index], cmap='Greys')"
   ]
  },
  {
   "cell_type": "markdown",
   "id": "a8d2388d",
   "metadata": {
    "papermill": {
     "duration": 0.02745,
     "end_time": "2022-04-07T10:09:40.302600",
     "exception": false,
     "start_time": "2022-04-07T10:09:40.275150",
     "status": "completed"
    },
    "tags": []
   },
   "source": [
    "## Filter data to get 3 and 8 out"
   ]
  },
  {
   "cell_type": "code",
   "execution_count": 10,
   "id": "776f7fc7",
   "metadata": {
    "execution": {
     "iopub.execute_input": "2022-04-07T10:09:40.361034Z",
     "iopub.status.busy": "2022-04-07T10:09:40.360527Z",
     "iopub.status.idle": "2022-04-07T10:09:40.376933Z",
     "shell.execute_reply": "2022-04-07T10:09:40.377350Z"
    },
    "papermill": {
     "duration": 0.047617,
     "end_time": "2022-04-07T10:09:40.377478",
     "exception": false,
     "start_time": "2022-04-07T10:09:40.329861",
     "status": "completed"
    },
    "tags": []
   },
   "outputs": [],
   "source": [
    "train_filter = np.where((train_labels == 3 ) | (train_labels == 8))\n",
    "test_filter = np.where((test_labels == 3) | (test_labels == 8))\n",
    "X_train, y_train = train_images[train_filter], train_labels[train_filter]\n",
    "X_test, y_test = test_images[test_filter], test_labels[test_filter]"
   ]
  },
  {
   "cell_type": "markdown",
   "id": "948f0b7e",
   "metadata": {
    "papermill": {
     "duration": 0.02735,
     "end_time": "2022-04-07T10:09:40.432387",
     "exception": false,
     "start_time": "2022-04-07T10:09:40.405037",
     "status": "completed"
    },
    "tags": []
   },
   "source": [
    "We normalize the pizel values in the 0 to 1 range"
   ]
  },
  {
   "cell_type": "code",
   "execution_count": 11,
   "id": "ee4c2166",
   "metadata": {
    "execution": {
     "iopub.execute_input": "2022-04-07T10:09:40.490271Z",
     "iopub.status.busy": "2022-04-07T10:09:40.489773Z",
     "iopub.status.idle": "2022-04-07T10:09:40.529570Z",
     "shell.execute_reply": "2022-04-07T10:09:40.529152Z"
    },
    "papermill": {
     "duration": 0.070054,
     "end_time": "2022-04-07T10:09:40.529682",
     "exception": false,
     "start_time": "2022-04-07T10:09:40.459628",
     "status": "completed"
    },
    "tags": []
   },
   "outputs": [],
   "source": [
    "X_train = X_train/255.\n",
    "X_test = X_test/255."
   ]
  },
  {
   "cell_type": "markdown",
   "id": "ddcf4fab",
   "metadata": {
    "papermill": {
     "duration": 0.02714,
     "end_time": "2022-04-07T10:09:40.584256",
     "exception": false,
     "start_time": "2022-04-07T10:09:40.557116",
     "status": "completed"
    },
    "tags": []
   },
   "source": [
    "And setup the labels as 1 (when the digit is 3) and 0 (when the digit is 8)"
   ]
  },
  {
   "cell_type": "code",
   "execution_count": 12,
   "id": "7dc908f2",
   "metadata": {
    "execution": {
     "iopub.execute_input": "2022-04-07T10:09:40.641846Z",
     "iopub.status.busy": "2022-04-07T10:09:40.641361Z",
     "iopub.status.idle": "2022-04-07T10:09:40.652346Z",
     "shell.execute_reply": "2022-04-07T10:09:40.652771Z"
    },
    "papermill": {
     "duration": 0.041333,
     "end_time": "2022-04-07T10:09:40.652889",
     "exception": false,
     "start_time": "2022-04-07T10:09:40.611556",
     "status": "completed"
    },
    "tags": []
   },
   "outputs": [],
   "source": [
    "y_train = 1*(y_train==3)\n",
    "y_test = 1*(y_test==3)"
   ]
  },
  {
   "cell_type": "code",
   "execution_count": 13,
   "id": "01e4e969",
   "metadata": {
    "execution": {
     "iopub.execute_input": "2022-04-07T10:09:40.710205Z",
     "iopub.status.busy": "2022-04-07T10:09:40.709723Z",
     "iopub.status.idle": "2022-04-07T10:09:40.721822Z",
     "shell.execute_reply": "2022-04-07T10:09:40.722193Z"
    },
    "papermill": {
     "duration": 0.042172,
     "end_time": "2022-04-07T10:09:40.722311",
     "exception": false,
     "start_time": "2022-04-07T10:09:40.680139",
     "status": "completed"
    },
    "tags": []
   },
   "outputs": [
    {
     "data": {
      "text/plain": [
       "((11982, 28, 28), (1984, 28, 28))"
      ]
     },
     "execution_count": 13,
     "metadata": {},
     "output_type": "execute_result"
    }
   ],
   "source": [
    "X_train.shape, X_test.shape"
   ]
  },
  {
   "cell_type": "markdown",
   "id": "5ccf3f85",
   "metadata": {
    "papermill": {
     "duration": 0.02731,
     "end_time": "2022-04-07T10:09:40.777018",
     "exception": false,
     "start_time": "2022-04-07T10:09:40.749708",
     "status": "completed"
    },
    "tags": []
   },
   "source": [
    "We reshape the data to flatten the image pixels into a set of features or co-variates:"
   ]
  },
  {
   "cell_type": "code",
   "execution_count": 14,
   "id": "5286a4a3",
   "metadata": {
    "execution": {
     "iopub.execute_input": "2022-04-07T10:09:40.835533Z",
     "iopub.status.busy": "2022-04-07T10:09:40.835007Z",
     "iopub.status.idle": "2022-04-07T10:09:40.847557Z",
     "shell.execute_reply": "2022-04-07T10:09:40.847953Z"
    },
    "papermill": {
     "duration": 0.043543,
     "end_time": "2022-04-07T10:09:40.848070",
     "exception": false,
     "start_time": "2022-04-07T10:09:40.804527",
     "status": "completed"
    },
    "tags": []
   },
   "outputs": [
    {
     "data": {
      "text/plain": [
       "((11982, 784), (1984, 784))"
      ]
     },
     "execution_count": 14,
     "metadata": {},
     "output_type": "execute_result"
    }
   ],
   "source": [
    "X_train = X_train.reshape(X_train.shape[0], -1)\n",
    "X_test = X_test.reshape(X_test.shape[0], -1)\n",
    "X_train.shape, X_test.shape"
   ]
  },
  {
   "cell_type": "code",
   "execution_count": 15,
   "id": "73c5f88a",
   "metadata": {
    "execution": {
     "iopub.execute_input": "2022-04-07T10:09:40.907287Z",
     "iopub.status.busy": "2022-04-07T10:09:40.906765Z",
     "iopub.status.idle": "2022-04-07T10:09:40.924159Z",
     "shell.execute_reply": "2022-04-07T10:09:40.923757Z"
    },
    "papermill": {
     "duration": 0.048418,
     "end_time": "2022-04-07T10:09:40.924260",
     "exception": false,
     "start_time": "2022-04-07T10:09:40.875842",
     "status": "completed"
    },
    "tags": []
   },
   "outputs": [],
   "source": [
    "#Impoting functions from 'Kudzu'\n",
    "from kudzu.model import Model\n",
    "from kudzu.train import Learner\n",
    "from kudzu.optim import GD\n",
    "from kudzu.data import Data, Sampler,Dataloader\n",
    "\n",
    "from kudzu.callbacks import AccCallback\n",
    "from kudzu.callbacks import ClfCallback\n",
    "\n",
    "from kudzu.loss import MSE\n",
    "\n",
    "from kudzu.layer import Sigmoid,Relu\n",
    "from kudzu.layer import Affine"
   ]
  },
  {
   "cell_type": "markdown",
   "id": "bc01172a",
   "metadata": {
    "papermill": {
     "duration": 0.027685,
     "end_time": "2022-04-07T10:09:40.979791",
     "exception": false,
     "start_time": "2022-04-07T10:09:40.952106",
     "status": "completed"
    },
    "tags": []
   },
   "source": [
    "### Let us create a `Config` class, to store important parameters. \n",
    "This class essentially plays the role of a dictionary."
   ]
  },
  {
   "cell_type": "code",
   "execution_count": 16,
   "id": "978281aa",
   "metadata": {
    "execution": {
     "iopub.execute_input": "2022-04-07T10:09:41.038801Z",
     "iopub.status.busy": "2022-04-07T10:09:41.038304Z",
     "iopub.status.idle": "2022-04-07T10:09:41.049640Z",
     "shell.execute_reply": "2022-04-07T10:09:41.049228Z"
    },
    "papermill": {
     "duration": 0.042361,
     "end_time": "2022-04-07T10:09:41.049739",
     "exception": false,
     "start_time": "2022-04-07T10:09:41.007378",
     "status": "completed"
    },
    "tags": []
   },
   "outputs": [],
   "source": [
    "class Config:\n",
    "    pass\n",
    "config = Config()\n",
    "config.lr = 0.001\n",
    "config.num_epochs = 250\n",
    "config.bs = 50"
   ]
  },
  {
   "cell_type": "markdown",
   "id": "1385fa59",
   "metadata": {
    "papermill": {
     "duration": 0.0277,
     "end_time": "2022-04-07T10:09:41.105144",
     "exception": false,
     "start_time": "2022-04-07T10:09:41.077444",
     "status": "completed"
    },
    "tags": []
   },
   "source": [
    "### Running Models with the Training data\n",
    "Details about the network layers:\n",
    "- A first affine layer has 784 inputs and does 100 affine transforms. These are followed by a Relu\n",
    "- A second affine layer has 100 inputs from the 100 activations of the past layer, and does 100 affine transforms. These are followed by a Relu\n",
    "- A third affine layer has 100 activations and does 2 affine transformations to create an embedding for visualization. There is no non-linearity here.\n",
    "- A final \"logistic regression\" which has an affine transform from 2 inputs to 1 output, which is squeezed through a sigmoid.\n"
   ]
  },
  {
   "cell_type": "code",
   "execution_count": 17,
   "id": "2b9c66db",
   "metadata": {
    "execution": {
     "iopub.execute_input": "2022-04-07T10:09:41.164433Z",
     "iopub.status.busy": "2022-04-07T10:09:41.163943Z",
     "iopub.status.idle": "2022-04-07T10:09:41.175829Z",
     "shell.execute_reply": "2022-04-07T10:09:41.175422Z"
    },
    "papermill": {
     "duration": 0.04291,
     "end_time": "2022-04-07T10:09:41.175934",
     "exception": false,
     "start_time": "2022-04-07T10:09:41.133024",
     "status": "completed"
    },
    "tags": []
   },
   "outputs": [],
   "source": [
    "data = Data(X_train, y_train.reshape(-1,1))\n",
    "sampler = Sampler(data, config.bs, shuffle=True)\n",
    "\n",
    "dl = Dataloader(data, sampler)\n",
    "\n",
    "opt = GD(config.lr)\n",
    "loss = MSE()"
   ]
  },
  {
   "cell_type": "code",
   "execution_count": 18,
   "id": "b275e4c2",
   "metadata": {
    "execution": {
     "iopub.execute_input": "2022-04-07T10:09:41.235177Z",
     "iopub.status.busy": "2022-04-07T10:09:41.234651Z",
     "iopub.status.idle": "2022-04-07T10:09:41.245907Z",
     "shell.execute_reply": "2022-04-07T10:09:41.246309Z"
    },
    "papermill": {
     "duration": 0.042499,
     "end_time": "2022-04-07T10:09:41.246425",
     "exception": false,
     "start_time": "2022-04-07T10:09:41.203926",
     "status": "completed"
    },
    "tags": []
   },
   "outputs": [],
   "source": [
    "training_data_x = X_train\n",
    "testing_data_x = X_test\n",
    "training_data_y = y_train.reshape(-1,1)\n",
    "testing_data_y = y_test.reshape(-1,1)"
   ]
  },
  {
   "cell_type": "code",
   "execution_count": 19,
   "id": "76951160",
   "metadata": {
    "execution": {
     "iopub.execute_input": "2022-04-07T10:09:41.305776Z",
     "iopub.status.busy": "2022-04-07T10:09:41.305278Z",
     "iopub.status.idle": "2022-04-07T10:09:41.320066Z",
     "shell.execute_reply": "2022-04-07T10:09:41.320444Z"
    },
    "papermill": {
     "duration": 0.046452,
     "end_time": "2022-04-07T10:09:41.320563",
     "exception": false,
     "start_time": "2022-04-07T10:09:41.274111",
     "status": "completed"
    },
    "tags": []
   },
   "outputs": [
    {
     "name": "stdout",
     "output_type": "stream",
     "text": [
      "xavier\n",
      "xavier\n",
      "xavier\n",
      "xavier\n",
      "xavier\n"
     ]
    }
   ],
   "source": [
    "layers = [Affine(\"first\", 784, 100), Relu(\"first\"), Affine(\"second\", 100, 100), Relu(\"second\"), Affine(\"third\", 100, 2), Affine(\"last\", 2, 1), Sigmoid(\"last\")]\n",
    "model_nn = Model(layers)\n",
    "model_lr = Model([Affine(\"logits\", 784, 1), Sigmoid(\"sigmoid\")])"
   ]
  },
  {
   "cell_type": "code",
   "execution_count": 20,
   "id": "6eede77a",
   "metadata": {
    "execution": {
     "iopub.execute_input": "2022-04-07T10:09:41.380183Z",
     "iopub.status.busy": "2022-04-07T10:09:41.379686Z",
     "iopub.status.idle": "2022-04-07T10:09:41.391416Z",
     "shell.execute_reply": "2022-04-07T10:09:41.391004Z"
    },
    "papermill": {
     "duration": 0.042914,
     "end_time": "2022-04-07T10:09:41.391519",
     "exception": false,
     "start_time": "2022-04-07T10:09:41.348605",
     "status": "completed"
    },
    "tags": []
   },
   "outputs": [],
   "source": [
    "nn_learner = Learner(loss, model_nn, opt, config.num_epochs)\n",
    "acc_nn = ClfCallback(nn_learner, config.bs, training_data_x , testing_data_x, training_data_y, testing_data_y)\n",
    "nn_learner.set_callbacks([acc_nn])"
   ]
  },
  {
   "cell_type": "code",
   "execution_count": 21,
   "id": "877b6cc7",
   "metadata": {
    "execution": {
     "iopub.execute_input": "2022-04-07T10:09:41.451010Z",
     "iopub.status.busy": "2022-04-07T10:09:41.450514Z",
     "iopub.status.idle": "2022-04-07T10:09:41.461975Z",
     "shell.execute_reply": "2022-04-07T10:09:41.461580Z"
    },
    "papermill": {
     "duration": 0.042491,
     "end_time": "2022-04-07T10:09:41.462074",
     "exception": false,
     "start_time": "2022-04-07T10:09:41.419583",
     "status": "completed"
    },
    "tags": []
   },
   "outputs": [],
   "source": [
    "lr_learner = Learner(loss, model_lr, opt, config.num_epochs)\n",
    "acc_lr = ClfCallback(lr_learner, config.bs, training_data_x , testing_data_x, training_data_y, testing_data_y)\n",
    "lr_learner.set_callbacks([acc_lr])"
   ]
  },
  {
   "cell_type": "code",
   "execution_count": 22,
   "id": "d9b133c3",
   "metadata": {
    "execution": {
     "iopub.execute_input": "2022-04-07T10:09:41.521296Z",
     "iopub.status.busy": "2022-04-07T10:09:41.520803Z",
     "iopub.status.idle": "2022-04-07T10:12:37.907823Z",
     "shell.execute_reply": "2022-04-07T10:12:37.908252Z"
    },
    "papermill": {
     "duration": 176.418271,
     "end_time": "2022-04-07T10:12:37.908378",
     "exception": false,
     "start_time": "2022-04-07T10:09:41.490107",
     "status": "completed"
    },
    "tags": []
   },
   "outputs": [
    {
     "name": "stdout",
     "output_type": "stream",
     "text": [
      "Epoch 0, Loss 0.2537\n",
      "Training Accuracy: 0.5832, Testing Accuracy: 0.5680\n",
      "\n"
     ]
    },
    {
     "name": "stdout",
     "output_type": "stream",
     "text": [
      "Epoch 10, Loss 0.1028\n",
      "Training Accuracy: 0.9014, Testing Accuracy: 0.9042\n",
      "\n"
     ]
    },
    {
     "name": "stdout",
     "output_type": "stream",
     "text": [
      "Epoch 20, Loss 0.0611\n",
      "Training Accuracy: 0.9341, Testing Accuracy: 0.9435\n",
      "\n"
     ]
    },
    {
     "name": "stdout",
     "output_type": "stream",
     "text": [
      "Epoch 30, Loss 0.0472\n",
      "Training Accuracy: 0.9470, Testing Accuracy: 0.9561\n",
      "\n"
     ]
    },
    {
     "name": "stdout",
     "output_type": "stream",
     "text": [
      "Epoch 40, Loss 0.0403\n",
      "Training Accuracy: 0.9533, Testing Accuracy: 0.9632\n",
      "\n"
     ]
    },
    {
     "name": "stdout",
     "output_type": "stream",
     "text": [
      "Epoch 50, Loss 0.0361\n",
      "Training Accuracy: 0.9571, Testing Accuracy: 0.9657\n",
      "\n"
     ]
    },
    {
     "name": "stdout",
     "output_type": "stream",
     "text": [
      "Epoch 60, Loss 0.0331\n",
      "Training Accuracy: 0.9603, Testing Accuracy: 0.9662\n",
      "\n"
     ]
    },
    {
     "name": "stdout",
     "output_type": "stream",
     "text": [
      "Epoch 70, Loss 0.031\n",
      "Training Accuracy: 0.9634, Testing Accuracy: 0.9682\n",
      "\n"
     ]
    },
    {
     "name": "stdout",
     "output_type": "stream",
     "text": [
      "Epoch 80, Loss 0.0293\n",
      "Training Accuracy: 0.9657, Testing Accuracy: 0.9688\n",
      "\n"
     ]
    },
    {
     "name": "stdout",
     "output_type": "stream",
     "text": [
      "Epoch 90, Loss 0.0279\n",
      "Training Accuracy: 0.9673, Testing Accuracy: 0.9693\n",
      "\n"
     ]
    },
    {
     "name": "stdout",
     "output_type": "stream",
     "text": [
      "Epoch 100, Loss 0.0267\n",
      "Training Accuracy: 0.9686, Testing Accuracy: 0.9698\n",
      "\n"
     ]
    },
    {
     "name": "stdout",
     "output_type": "stream",
     "text": [
      "Epoch 110, Loss 0.0257\n",
      "Training Accuracy: 0.9701, Testing Accuracy: 0.9698\n",
      "\n"
     ]
    },
    {
     "name": "stdout",
     "output_type": "stream",
     "text": [
      "Epoch 120, Loss 0.0248\n",
      "Training Accuracy: 0.9712, Testing Accuracy: 0.9708\n",
      "\n"
     ]
    },
    {
     "name": "stdout",
     "output_type": "stream",
     "text": [
      "Epoch 130, Loss 0.024\n",
      "Training Accuracy: 0.9726, Testing Accuracy: 0.9718\n",
      "\n"
     ]
    },
    {
     "name": "stdout",
     "output_type": "stream",
     "text": [
      "Epoch 140, Loss 0.0233\n",
      "Training Accuracy: 0.9742, Testing Accuracy: 0.9723\n",
      "\n"
     ]
    },
    {
     "name": "stdout",
     "output_type": "stream",
     "text": [
      "Epoch 150, Loss 0.0226\n",
      "Training Accuracy: 0.9752, Testing Accuracy: 0.9723\n",
      "\n"
     ]
    },
    {
     "name": "stdout",
     "output_type": "stream",
     "text": [
      "Epoch 160, Loss 0.022\n",
      "Training Accuracy: 0.9756, Testing Accuracy: 0.9723\n",
      "\n"
     ]
    },
    {
     "name": "stdout",
     "output_type": "stream",
     "text": [
      "Epoch 170, Loss 0.0215\n",
      "Training Accuracy: 0.9761, Testing Accuracy: 0.9738\n",
      "\n"
     ]
    },
    {
     "name": "stdout",
     "output_type": "stream",
     "text": [
      "Epoch 180, Loss 0.0209\n",
      "Training Accuracy: 0.9768, Testing Accuracy: 0.9738\n",
      "\n"
     ]
    },
    {
     "name": "stdout",
     "output_type": "stream",
     "text": [
      "Epoch 190, Loss 0.0204\n",
      "Training Accuracy: 0.9770, Testing Accuracy: 0.9743\n",
      "\n"
     ]
    },
    {
     "name": "stdout",
     "output_type": "stream",
     "text": [
      "Epoch 200, Loss 0.0199\n",
      "Training Accuracy: 0.9776, Testing Accuracy: 0.9743\n",
      "\n"
     ]
    },
    {
     "name": "stdout",
     "output_type": "stream",
     "text": [
      "Epoch 210, Loss 0.0195\n",
      "Training Accuracy: 0.9781, Testing Accuracy: 0.9743\n",
      "\n"
     ]
    },
    {
     "name": "stdout",
     "output_type": "stream",
     "text": [
      "Epoch 220, Loss 0.019\n",
      "Training Accuracy: 0.9790, Testing Accuracy: 0.9743\n",
      "\n"
     ]
    },
    {
     "name": "stdout",
     "output_type": "stream",
     "text": [
      "Epoch 230, Loss 0.0186\n",
      "Training Accuracy: 0.9799, Testing Accuracy: 0.9738\n",
      "\n"
     ]
    },
    {
     "name": "stdout",
     "output_type": "stream",
     "text": [
      "Epoch 240, Loss 0.0182\n",
      "Training Accuracy: 0.9807, Testing Accuracy: 0.9743\n",
      "\n"
     ]
    },
    {
     "data": {
      "text/plain": [
       "0.01385898496118059"
      ]
     },
     "execution_count": 22,
     "metadata": {},
     "output_type": "execute_result"
    }
   ],
   "source": [
    "nn_learner.train_loop(dl)"
   ]
  },
  {
   "cell_type": "code",
   "execution_count": 23,
   "id": "e0163366",
   "metadata": {
    "execution": {
     "iopub.execute_input": "2022-04-07T10:12:37.982597Z",
     "iopub.status.busy": "2022-04-07T10:12:37.982103Z",
     "iopub.status.idle": "2022-04-07T10:12:50.487356Z",
     "shell.execute_reply": "2022-04-07T10:12:50.488010Z"
    },
    "papermill": {
     "duration": 12.544339,
     "end_time": "2022-04-07T10:12:50.488145",
     "exception": false,
     "start_time": "2022-04-07T10:12:37.943806",
     "status": "completed"
    },
    "tags": []
   },
   "outputs": [
    {
     "name": "stdout",
     "output_type": "stream",
     "text": [
      "Epoch 0, Loss 0.2554\n",
      "Training Accuracy: 0.6341, Testing Accuracy: 0.6361\n",
      "\n"
     ]
    },
    {
     "name": "stdout",
     "output_type": "stream",
     "text": [
      "Epoch 10, Loss 0.1041\n",
      "Training Accuracy: 0.9100, Testing Accuracy: 0.9173\n",
      "\n"
     ]
    },
    {
     "name": "stdout",
     "output_type": "stream",
     "text": [
      "Epoch 20, Loss 0.0795\n",
      "Training Accuracy: 0.9297, Testing Accuracy: 0.9385\n",
      "\n"
     ]
    },
    {
     "name": "stdout",
     "output_type": "stream",
     "text": [
      "Epoch 30, Loss 0.0683\n",
      "Training Accuracy: 0.9365, Testing Accuracy: 0.9496\n",
      "\n"
     ]
    },
    {
     "name": "stdout",
     "output_type": "stream",
     "text": [
      "Epoch 40, Loss 0.0617\n",
      "Training Accuracy: 0.9412, Testing Accuracy: 0.9567\n",
      "\n"
     ]
    },
    {
     "name": "stdout",
     "output_type": "stream",
     "text": [
      "Epoch 50, Loss 0.0572\n",
      "Training Accuracy: 0.9442, Testing Accuracy: 0.9561\n",
      "\n"
     ]
    },
    {
     "name": "stdout",
     "output_type": "stream",
     "text": [
      "Epoch 60, Loss 0.0539\n",
      "Training Accuracy: 0.9465, Testing Accuracy: 0.9567\n",
      "\n"
     ]
    },
    {
     "name": "stdout",
     "output_type": "stream",
     "text": [
      "Epoch 70, Loss 0.0513\n",
      "Training Accuracy: 0.9486, Testing Accuracy: 0.9582\n",
      "\n"
     ]
    },
    {
     "name": "stdout",
     "output_type": "stream",
     "text": [
      "Epoch 80, Loss 0.0492\n",
      "Training Accuracy: 0.9498, Testing Accuracy: 0.9582\n",
      "\n"
     ]
    },
    {
     "name": "stdout",
     "output_type": "stream",
     "text": [
      "Epoch 90, Loss 0.0476\n",
      "Training Accuracy: 0.9514, Testing Accuracy: 0.9602\n",
      "\n"
     ]
    },
    {
     "name": "stdout",
     "output_type": "stream",
     "text": [
      "Epoch 100, Loss 0.0461\n",
      "Training Accuracy: 0.9522, Testing Accuracy: 0.9622\n",
      "\n"
     ]
    },
    {
     "name": "stdout",
     "output_type": "stream",
     "text": [
      "Epoch 110, Loss 0.0449\n",
      "Training Accuracy: 0.9533, Testing Accuracy: 0.9632\n",
      "\n"
     ]
    },
    {
     "name": "stdout",
     "output_type": "stream",
     "text": [
      "Epoch 120, Loss 0.0438\n",
      "Training Accuracy: 0.9538, Testing Accuracy: 0.9637\n",
      "\n"
     ]
    },
    {
     "name": "stdout",
     "output_type": "stream",
     "text": [
      "Epoch 130, Loss 0.0429\n",
      "Training Accuracy: 0.9545, Testing Accuracy: 0.9647\n",
      "\n"
     ]
    },
    {
     "name": "stdout",
     "output_type": "stream",
     "text": [
      "Epoch 140, Loss 0.0421\n",
      "Training Accuracy: 0.9553, Testing Accuracy: 0.9642\n",
      "\n"
     ]
    },
    {
     "name": "stdout",
     "output_type": "stream",
     "text": [
      "Epoch 150, Loss 0.0413\n",
      "Training Accuracy: 0.9563, Testing Accuracy: 0.9652\n",
      "\n"
     ]
    },
    {
     "name": "stdout",
     "output_type": "stream",
     "text": [
      "Epoch 160, Loss 0.0407\n",
      "Training Accuracy: 0.9571, Testing Accuracy: 0.9652\n",
      "\n"
     ]
    },
    {
     "name": "stdout",
     "output_type": "stream",
     "text": [
      "Epoch 170, Loss 0.04\n",
      "Training Accuracy: 0.9573, Testing Accuracy: 0.9657\n",
      "\n"
     ]
    },
    {
     "name": "stdout",
     "output_type": "stream",
     "text": [
      "Epoch 180, Loss 0.0395\n",
      "Training Accuracy: 0.9577, Testing Accuracy: 0.9657\n",
      "\n"
     ]
    },
    {
     "name": "stdout",
     "output_type": "stream",
     "text": [
      "Epoch 190, Loss 0.039\n",
      "Training Accuracy: 0.9584, Testing Accuracy: 0.9657\n",
      "\n"
     ]
    },
    {
     "name": "stdout",
     "output_type": "stream",
     "text": [
      "Epoch 200, Loss 0.0385\n",
      "Training Accuracy: 0.9585, Testing Accuracy: 0.9657\n",
      "\n"
     ]
    },
    {
     "name": "stdout",
     "output_type": "stream",
     "text": [
      "Epoch 210, Loss 0.038\n",
      "Training Accuracy: 0.9591, Testing Accuracy: 0.9652\n",
      "\n"
     ]
    },
    {
     "name": "stdout",
     "output_type": "stream",
     "text": [
      "Epoch 220, Loss 0.0376\n",
      "Training Accuracy: 0.9594, Testing Accuracy: 0.9647\n",
      "\n"
     ]
    },
    {
     "name": "stdout",
     "output_type": "stream",
     "text": [
      "Epoch 230, Loss 0.0372\n",
      "Training Accuracy: 0.9599, Testing Accuracy: 0.9652\n",
      "\n"
     ]
    },
    {
     "name": "stdout",
     "output_type": "stream",
     "text": [
      "Epoch 240, Loss 0.0369\n",
      "Training Accuracy: 0.9602, Testing Accuracy: 0.9652\n",
      "\n"
     ]
    },
    {
     "data": {
      "text/plain": [
       "0.04020402511290427"
      ]
     },
     "execution_count": 23,
     "metadata": {},
     "output_type": "execute_result"
    }
   ],
   "source": [
    "lr_learner.train_loop(dl)"
   ]
  },
  {
   "cell_type": "code",
   "execution_count": 24,
   "id": "ca410940",
   "metadata": {
    "execution": {
     "iopub.execute_input": "2022-04-07T10:12:50.583983Z",
     "iopub.status.busy": "2022-04-07T10:12:50.581210Z",
     "iopub.status.idle": "2022-04-07T10:12:50.805300Z",
     "shell.execute_reply": "2022-04-07T10:12:50.804850Z"
    },
    "papermill": {
     "duration": 0.274492,
     "end_time": "2022-04-07T10:12:50.805411",
     "exception": false,
     "start_time": "2022-04-07T10:12:50.530919",
     "status": "completed"
    },
    "tags": []
   },
   "outputs": [
    {
     "data": {
      "text/plain": [
       "<matplotlib.legend.Legend at 0x7f81d17adc50>"
      ]
     },
     "execution_count": 24,
     "metadata": {},
     "output_type": "execute_result"
    },
    {
     "data": {
      "image/png": "[encoded data removed]",
      "text/plain": [
       "<Figure size 1080x720 with 1 Axes>"
      ]
     },
     "metadata": {
      "needs_background": "light"
     },
     "output_type": "display_data"
    }
   ],
   "source": [
    "#comparing the results of NN and LR\n",
    "plt.figure(figsize=(15,10))\n",
    "\n",
    "# Neural Network plots\n",
    "plt.plot(acc_nn.accuracies, 'r-', label = \"Training Accuracies - NN\")\n",
    "plt.plot(acc_nn.test_accuracies, 'g-', label = \"Testing Accuracies - NN\")\n",
    "\n",
    "# Logistic Regression plots\n",
    "plt.plot(acc_lr.accuracies, 'k-', label = \"Training Accuracies - LR\")\n",
    "plt.plot(acc_lr.test_accuracies, 'b-', label = \"Testing Accuracies - LR\")\n",
    "plt.legend()"
   ]
  },
  {
   "cell_type": "markdown",
   "id": "80dfb35c",
   "metadata": {
    "papermill": {
     "duration": 0.043509,
     "end_time": "2022-04-07T10:12:50.892592",
     "exception": false,
     "start_time": "2022-04-07T10:12:50.849083",
     "status": "completed"
    },
    "tags": []
   },
   "source": [
    "#### Plotting the outputs of this layer of the NN.\n"
   ]
  },
  {
   "cell_type": "code",
   "execution_count": 25,
   "id": "45eb2ff5",
   "metadata": {
    "execution": {
     "iopub.execute_input": "2022-04-07T10:12:50.983223Z",
     "iopub.status.busy": "2022-04-07T10:12:50.982698Z",
     "iopub.status.idle": "2022-04-07T10:12:51.018053Z",
     "shell.execute_reply": "2022-04-07T10:12:51.018656Z"
    },
    "papermill": {
     "duration": 0.082801,
     "end_time": "2022-04-07T10:12:51.018782",
     "exception": false,
     "start_time": "2022-04-07T10:12:50.935981",
     "status": "completed"
    },
    "tags": []
   },
   "outputs": [],
   "source": [
    "new_model = Model(layers[:-2])\n",
    "testing_plot = new_model(testing_data_x)"
   ]
  },
  {
   "cell_type": "code",
   "execution_count": 26,
   "id": "4c0a5485",
   "metadata": {
    "execution": {
     "iopub.execute_input": "2022-04-07T10:12:51.111076Z",
     "iopub.status.busy": "2022-04-07T10:12:51.110569Z",
     "iopub.status.idle": "2022-04-07T10:12:51.285763Z",
     "shell.execute_reply": "2022-04-07T10:12:51.285340Z"
    },
    "papermill": {
     "duration": 0.223217,
     "end_time": "2022-04-07T10:12:51.285877",
     "exception": false,
     "start_time": "2022-04-07T10:12:51.062660",
     "status": "completed"
    },
    "tags": []
   },
   "outputs": [
    {
     "data": {
      "text/plain": [
       "Text(0.5, 1.0, 'Outputs')"
      ]
     },
     "execution_count": 26,
     "metadata": {},
     "output_type": "execute_result"
    },
    {
     "data": {
      "image/png": "[encoded data removed]",
      "text/plain": [
       "<Figure size 576x504 with 1 Axes>"
      ]
     },
     "metadata": {
      "needs_background": "light"
     },
     "output_type": "display_data"
    }
   ],
   "source": [
    "# Plotting the scatter plot of points and color coding by class\n",
    "plt.figure(figsize=(8,7))\n",
    "plt.scatter(testing_plot[:,0], testing_plot[:,1], alpha = 0.1, c = y_test.ravel());\n",
    "plt.title('Outputs')"
   ]
  },
  {
   "cell_type": "markdown",
   "id": "a74fcf8f",
   "metadata": {
    "papermill": {
     "duration": 0.065854,
     "end_time": "2022-04-07T10:12:51.396901",
     "exception": false,
     "start_time": "2022-04-07T10:12:51.331047",
     "status": "completed"
    },
    "tags": []
   },
   "source": [
    "Probability contours"
   ]
  },
  {
   "cell_type": "code",
   "execution_count": 27,
   "id": "d0afc8e3",
   "metadata": {
    "execution": {
     "iopub.execute_input": "2022-04-07T10:12:51.495443Z",
     "iopub.status.busy": "2022-04-07T10:12:51.491701Z",
     "iopub.status.idle": "2022-04-07T10:12:51.503606Z",
     "shell.execute_reply": "2022-04-07T10:12:51.503981Z"
    },
    "papermill": {
     "duration": 0.061893,
     "end_time": "2022-04-07T10:12:51.504103",
     "exception": false,
     "start_time": "2022-04-07T10:12:51.442210",
     "status": "completed"
    },
    "tags": []
   },
   "outputs": [],
   "source": [
    "model_prob = Model(layers[-2:]) "
   ]
  },
  {
   "cell_type": "code",
   "execution_count": 28,
   "id": "9b96e238",
   "metadata": {
    "execution": {
     "iopub.execute_input": "2022-04-07T10:12:51.601141Z",
     "iopub.status.busy": "2022-04-07T10:12:51.599361Z",
     "iopub.status.idle": "2022-04-07T10:12:51.613795Z",
     "shell.execute_reply": "2022-04-07T10:12:51.614163Z"
    },
    "papermill": {
     "duration": 0.065039,
     "end_time": "2022-04-07T10:12:51.614286",
     "exception": false,
     "start_time": "2022-04-07T10:12:51.549247",
     "status": "completed"
    },
    "tags": []
   },
   "outputs": [],
   "source": [
    "#creating the x and y ranges according to the above generated plot.\n",
    "x_range = np.linspace(-4, 1, 100) \n",
    "y_range = np.linspace(-6, 6, 100) \n",
    "x_grid, y_grid = np.meshgrid(x_range, y_range) # x_grid and y_grig are of size 100 X 100\n",
    "\n",
    "# converting x_grid and y_grid to continuous arrays\n",
    "x_gridflat = np.ravel(x_grid)\n",
    "y_gridflat = np.ravel(y_grid)\n",
    "\n",
    "# The last layer of the current model takes two columns as input. Hence transpose of np.vstack() is required.\n",
    "X = np.vstack((x_gridflat, y_gridflat)).T\n",
    "\n",
    "prob_contour = model_prob(X).reshape(100,100) "
   ]
  },
  {
   "cell_type": "code",
   "execution_count": 29,
   "id": "da72499a",
   "metadata": {
    "execution": {
     "iopub.execute_input": "2022-04-07T10:12:51.709484Z",
     "iopub.status.busy": "2022-04-07T10:12:51.708981Z",
     "iopub.status.idle": "2022-04-07T10:12:51.944926Z",
     "shell.execute_reply": "2022-04-07T10:12:51.944503Z"
    },
    "papermill": {
     "duration": 0.28511,
     "end_time": "2022-04-07T10:12:51.945038",
     "exception": false,
     "start_time": "2022-04-07T10:12:51.659928",
     "status": "completed"
    },
    "tags": []
   },
   "outputs": [
    {
     "data": {
      "image/png": "[encoded data removed]",
      "text/plain": [
       "<Figure size 720x648 with 1 Axes>"
      ]
     },
     "metadata": {
      "needs_background": "light"
     },
     "output_type": "display_data"
    }
   ],
   "source": [
    "plt.figure(figsize=(10,9))\n",
    "plt.scatter(testing_plot[:,0], testing_plot[:,1], alpha = 0.1, c = y_test.ravel())\n",
    "contours = plt.contour(x_grid,y_grid,prob_contour)\n",
    "plt.title('Probability Contours')\n",
    "plt.clabel(contours, inline = True );"
   ]
  },
  {
   "cell_type": "code",
   "execution_count": null,
   "id": "e81b4ac7",
   "metadata": {
    "papermill": {
     "duration": 0.047794,
     "end_time": "2022-04-07T10:12:52.041376",
     "exception": false,
     "start_time": "2022-04-07T10:12:51.993582",
     "status": "completed"
    },
    "tags": []
   },
   "outputs": [],
   "source": []
  }
 ],
 "metadata": {
  "kernelspec": {
   "display_name": "Python 3",
   "language": "python",
   "name": "python3"
  },
  "language_info": {
   "codemirror_mode": {
    "name": "ipython",
    "version": 3
   },
   "file_extension": ".py",
   "mimetype": "text/x-python",
   "name": "python",
   "nbconvert_exporter": "python",
   "pygments_lexer": "ipython3",
   "version": "3.6.15"
  },
  "papermill": {
   "default_parameters": {},
   "duration": 196.76547,
   "end_time": "2022-04-07T10:12:52.406523",
   "environment_variables": {},
   "exception": null,
   "input_path": "2020-08-11-part2.ipynb",
   "output_path": "2020-08-11-part2.ipynb",
   "parameters": {},
   "start_time": "2022-04-07T10:09:35.641053",
   "version": "2.3.3"
  }
 },
 "nbformat": 4,
 "nbformat_minor": 5
}