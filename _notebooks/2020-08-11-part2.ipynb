{
 "cells": [
  {
   "cell_type": "markdown",
   "id": "98380cd3",
   "metadata": {
    "papermill": {
     "duration": 0.03471,
     "end_time": "2022-01-23T00:23:42.096359",
     "exception": false,
     "start_time": "2022-01-23T00:23:42.061649",
     "status": "completed"
    },
    "tags": []
   },
   "source": [
    "# Distinguish Your Own Digits (DYOD)"
   ]
  },
  {
   "cell_type": "markdown",
   "id": "ef31240d",
   "metadata": {
    "papermill": {
     "duration": 0.027558,
     "end_time": "2022-01-23T00:23:42.153957",
     "exception": false,
     "start_time": "2022-01-23T00:23:42.126399",
     "status": "completed"
    },
    "tags": []
   },
   "source": [
    "You are going to write a classifier that distinguishes between the number 3 and number 8."
   ]
  },
  {
   "cell_type": "code",
   "execution_count": 1,
   "id": "b15c8646",
   "metadata": {
    "execution": {
     "iopub.execute_input": "2022-01-23T00:23:42.221768Z",
     "iopub.status.busy": "2022-01-23T00:23:42.221114Z",
     "iopub.status.idle": "2022-01-23T00:23:42.232641Z",
     "shell.execute_reply": "2022-01-23T00:23:42.233253Z"
    },
    "papermill": {
     "duration": 0.05203,
     "end_time": "2022-01-23T00:23:42.233404",
     "exception": false,
     "start_time": "2022-01-23T00:23:42.181374",
     "status": "completed"
    },
    "tags": []
   },
   "outputs": [],
   "source": [
    "%load_ext autoreload\n",
    "%autoreload 2"
   ]
  },
  {
   "cell_type": "code",
   "execution_count": 2,
   "id": "22ef38dc",
   "metadata": {
    "execution": {
     "iopub.execute_input": "2022-01-23T00:23:42.297825Z",
     "iopub.status.busy": "2022-01-23T00:23:42.297138Z",
     "iopub.status.idle": "2022-01-23T00:23:42.974672Z",
     "shell.execute_reply": "2022-01-23T00:23:42.974009Z"
    },
    "papermill": {
     "duration": 0.713774,
     "end_time": "2022-01-23T00:23:42.974806",
     "exception": false,
     "start_time": "2022-01-23T00:23:42.261032",
     "status": "completed"
    },
    "tags": []
   },
   "outputs": [],
   "source": [
    "%matplotlib inline\n",
    "import numpy as np\n",
    "import matplotlib.pyplot as plt\n",
    "import pandas as pd"
   ]
  },
  {
   "cell_type": "markdown",
   "id": "ba036198",
   "metadata": {
    "papermill": {
     "duration": 0.02873,
     "end_time": "2022-01-23T00:23:43.033097",
     "exception": false,
     "start_time": "2022-01-23T00:23:43.004367",
     "status": "completed"
    },
    "tags": []
   },
   "source": [
    "From the command line run `pip install mnist`. This is a library that will help you bring down the mnist dataset. If you run this from a notebook, you need to put  `!pip install mnist` in a cell by itself."
   ]
  },
  {
   "cell_type": "code",
   "execution_count": 3,
   "id": "bb6ad8a1",
   "metadata": {
    "execution": {
     "iopub.execute_input": "2022-01-23T00:23:43.094840Z",
     "iopub.status.busy": "2022-01-23T00:23:43.094112Z",
     "iopub.status.idle": "2022-01-23T00:23:45.862884Z",
     "shell.execute_reply": "2022-01-23T00:23:45.861430Z"
    },
    "papermill": {
     "duration": 2.801853,
     "end_time": "2022-01-23T00:23:45.863047",
     "exception": false,
     "start_time": "2022-01-23T00:23:43.061194",
     "status": "completed"
    },
    "tags": []
   },
   "outputs": [
    {
     "name": "stdout",
     "output_type": "stream",
     "text": [
      "Collecting mnist\r\n"
     ]
    },
    {
     "name": "stdout",
     "output_type": "stream",
     "text": [
      "  Downloading mnist-0.2.2-py2.py3-none-any.whl (3.5 kB)\r\n",
      "Requirement already satisfied: numpy in /opt/hostedtoolcache/Python/3.6.15/x64/lib/python3.6/site-packages (from mnist) (1.19.5)\r\n"
     ]
    },
    {
     "name": "stdout",
     "output_type": "stream",
     "text": [
      "Installing collected packages: mnist\r\n"
     ]
    },
    {
     "name": "stdout",
     "output_type": "stream",
     "text": [
      "Successfully installed mnist-0.2.2\r\n"
     ]
    }
   ],
   "source": [
    "!pip install mnist"
   ]
  },
  {
   "cell_type": "markdown",
   "id": "69df9c9a",
   "metadata": {
    "papermill": {
     "duration": 0.04292,
     "end_time": "2022-01-23T00:23:45.941134",
     "exception": false,
     "start_time": "2022-01-23T00:23:45.898214",
     "status": "completed"
    },
    "tags": []
   },
   "source": [
    "## Preparing the Data"
   ]
  },
  {
   "cell_type": "code",
   "execution_count": 4,
   "id": "7f69d806",
   "metadata": {
    "execution": {
     "iopub.execute_input": "2022-01-23T00:23:46.013414Z",
     "iopub.status.busy": "2022-01-23T00:23:46.011632Z",
     "iopub.status.idle": "2022-01-23T00:23:46.027021Z",
     "shell.execute_reply": "2022-01-23T00:23:46.027546Z"
    },
    "papermill": {
     "duration": 0.055074,
     "end_time": "2022-01-23T00:23:46.027690",
     "exception": false,
     "start_time": "2022-01-23T00:23:45.972616",
     "status": "completed"
    },
    "tags": []
   },
   "outputs": [],
   "source": [
    "import mnist"
   ]
  },
  {
   "cell_type": "code",
   "execution_count": 5,
   "id": "a411e44f",
   "metadata": {
    "execution": {
     "iopub.execute_input": "2022-01-23T00:23:46.097120Z",
     "iopub.status.busy": "2022-01-23T00:23:46.094718Z",
     "iopub.status.idle": "2022-01-23T00:23:46.635525Z",
     "shell.execute_reply": "2022-01-23T00:23:46.634906Z"
    },
    "papermill": {
     "duration": 0.578064,
     "end_time": "2022-01-23T00:23:46.635702",
     "exception": false,
     "start_time": "2022-01-23T00:23:46.057638",
     "status": "completed"
    },
    "tags": []
   },
   "outputs": [],
   "source": [
    "train_images = mnist.train_images()\n",
    "train_labels = mnist.train_labels()"
   ]
  },
  {
   "cell_type": "code",
   "execution_count": 6,
   "id": "dceab3a5",
   "metadata": {
    "execution": {
     "iopub.execute_input": "2022-01-23T00:23:46.701534Z",
     "iopub.status.busy": "2022-01-23T00:23:46.700695Z",
     "iopub.status.idle": "2022-01-23T00:23:46.715930Z",
     "shell.execute_reply": "2022-01-23T00:23:46.716545Z"
    },
    "papermill": {
     "duration": 0.050308,
     "end_time": "2022-01-23T00:23:46.716676",
     "exception": false,
     "start_time": "2022-01-23T00:23:46.666368",
     "status": "completed"
    },
    "tags": []
   },
   "outputs": [
    {
     "data": {
      "text/plain": [
       "((60000, 28, 28), (60000,))"
      ]
     },
     "execution_count": 6,
     "metadata": {},
     "output_type": "execute_result"
    }
   ],
   "source": [
    "train_images.shape, train_labels.shape"
   ]
  },
  {
   "cell_type": "code",
   "execution_count": 7,
   "id": "f50dc2bb",
   "metadata": {
    "execution": {
     "iopub.execute_input": "2022-01-23T00:23:46.781278Z",
     "iopub.status.busy": "2022-01-23T00:23:46.780656Z",
     "iopub.status.idle": "2022-01-23T00:23:46.902721Z",
     "shell.execute_reply": "2022-01-23T00:23:46.901994Z"
    },
    "papermill": {
     "duration": 0.15588,
     "end_time": "2022-01-23T00:23:46.902913",
     "exception": false,
     "start_time": "2022-01-23T00:23:46.747033",
     "status": "completed"
    },
    "tags": []
   },
   "outputs": [],
   "source": [
    "test_images = mnist.test_images()\n",
    "test_labels = mnist.test_labels()"
   ]
  },
  {
   "cell_type": "code",
   "execution_count": 8,
   "id": "fc38cf1b",
   "metadata": {
    "execution": {
     "iopub.execute_input": "2022-01-23T00:23:46.997687Z",
     "iopub.status.busy": "2022-01-23T00:23:46.997053Z",
     "iopub.status.idle": "2022-01-23T00:23:47.010943Z",
     "shell.execute_reply": "2022-01-23T00:23:47.011464Z"
    },
    "papermill": {
     "duration": 0.056649,
     "end_time": "2022-01-23T00:23:47.011597",
     "exception": false,
     "start_time": "2022-01-23T00:23:46.954948",
     "status": "completed"
    },
    "tags": []
   },
   "outputs": [
    {
     "data": {
      "text/plain": [
       "((10000, 28, 28), (10000,))"
      ]
     },
     "execution_count": 8,
     "metadata": {},
     "output_type": "execute_result"
    }
   ],
   "source": [
    "test_images.shape, test_labels.shape"
   ]
  },
  {
   "cell_type": "code",
   "execution_count": 9,
   "id": "f9ed8fe0",
   "metadata": {
    "execution": {
     "iopub.execute_input": "2022-01-23T00:23:47.087819Z",
     "iopub.status.busy": "2022-01-23T00:23:47.086515Z",
     "iopub.status.idle": "2022-01-23T00:23:47.275289Z",
     "shell.execute_reply": "2022-01-23T00:23:47.275814Z"
    },
    "papermill": {
     "duration": 0.231175,
     "end_time": "2022-01-23T00:23:47.276017",
     "exception": false,
     "start_time": "2022-01-23T00:23:47.044842",
     "status": "completed"
    },
    "tags": []
   },
   "outputs": [
    {
     "name": "stdout",
     "output_type": "stream",
     "text": [
      "2\n"
     ]
    },
    {
     "data": {
      "text/plain": [
       "<matplotlib.image.AxesImage at 0x7f733d560a20>"
      ]
     },
     "execution_count": 9,
     "metadata": {},
     "output_type": "execute_result"
    },
    {
     "data": {
      "image/png": "[encoded data removed]",
      "text/plain": [
       "<Figure size 432x288 with 1 Axes>"
      ]
     },
     "metadata": {
      "needs_background": "light"
     },
     "output_type": "display_data"
    }
   ],
   "source": [
    "image_index = 7776 # You may select anything up to 60,000\n",
    "print(train_labels[image_index]) \n",
    "plt.imshow(train_images[image_index], cmap='Greys')"
   ]
  },
  {
   "cell_type": "markdown",
   "id": "a8d2388d",
   "metadata": {
    "papermill": {
     "duration": 0.030729,
     "end_time": "2022-01-23T00:23:47.341152",
     "exception": false,
     "start_time": "2022-01-23T00:23:47.310423",
     "status": "completed"
    },
    "tags": []
   },
   "source": [
    "## Filter data to get 3 and 8 out"
   ]
  },
  {
   "cell_type": "code",
   "execution_count": 10,
   "id": "776f7fc7",
   "metadata": {
    "execution": {
     "iopub.execute_input": "2022-01-23T00:23:47.411472Z",
     "iopub.status.busy": "2022-01-23T00:23:47.410814Z",
     "iopub.status.idle": "2022-01-23T00:23:47.427374Z",
     "shell.execute_reply": "2022-01-23T00:23:47.427905Z"
    },
    "papermill": {
     "duration": 0.055543,
     "end_time": "2022-01-23T00:23:47.428088",
     "exception": false,
     "start_time": "2022-01-23T00:23:47.372545",
     "status": "completed"
    },
    "tags": []
   },
   "outputs": [],
   "source": [
    "train_filter = np.where((train_labels == 3 ) | (train_labels == 8))\n",
    "test_filter = np.where((test_labels == 3) | (test_labels == 8))\n",
    "X_train, y_train = train_images[train_filter], train_labels[train_filter]\n",
    "X_test, y_test = test_images[test_filter], test_labels[test_filter]"
   ]
  },
  {
   "cell_type": "markdown",
   "id": "948f0b7e",
   "metadata": {
    "papermill": {
     "duration": 0.031421,
     "end_time": "2022-01-23T00:23:47.492545",
     "exception": false,
     "start_time": "2022-01-23T00:23:47.461124",
     "status": "completed"
    },
    "tags": []
   },
   "source": [
    "We normalize the pizel values in the 0 to 1 range"
   ]
  },
  {
   "cell_type": "code",
   "execution_count": 11,
   "id": "ee4c2166",
   "metadata": {
    "execution": {
     "iopub.execute_input": "2022-01-23T00:23:47.559783Z",
     "iopub.status.busy": "2022-01-23T00:23:47.559138Z",
     "iopub.status.idle": "2022-01-23T00:23:47.618841Z",
     "shell.execute_reply": "2022-01-23T00:23:47.618277Z"
    },
    "papermill": {
     "duration": 0.094938,
     "end_time": "2022-01-23T00:23:47.618998",
     "exception": false,
     "start_time": "2022-01-23T00:23:47.524060",
     "status": "completed"
    },
    "tags": []
   },
   "outputs": [],
   "source": [
    "X_train = X_train/255.\n",
    "X_test = X_test/255."
   ]
  },
  {
   "cell_type": "markdown",
   "id": "ddcf4fab",
   "metadata": {
    "papermill": {
     "duration": 0.036864,
     "end_time": "2022-01-23T00:23:47.693769",
     "exception": false,
     "start_time": "2022-01-23T00:23:47.656905",
     "status": "completed"
    },
    "tags": []
   },
   "source": [
    "And setup the labels as 1 (when the digit is 3) and 0 (when the digit is 8)"
   ]
  },
  {
   "cell_type": "code",
   "execution_count": 12,
   "id": "7dc908f2",
   "metadata": {
    "execution": {
     "iopub.execute_input": "2022-01-23T00:23:47.766847Z",
     "iopub.status.busy": "2022-01-23T00:23:47.766166Z",
     "iopub.status.idle": "2022-01-23T00:23:47.779273Z",
     "shell.execute_reply": "2022-01-23T00:23:47.779830Z"
    },
    "papermill": {
     "duration": 0.052157,
     "end_time": "2022-01-23T00:23:47.780023",
     "exception": false,
     "start_time": "2022-01-23T00:23:47.727866",
     "status": "completed"
    },
    "tags": []
   },
   "outputs": [],
   "source": [
    "y_train = 1*(y_train==3)\n",
    "y_test = 1*(y_test==3)"
   ]
  },
  {
   "cell_type": "code",
   "execution_count": 13,
   "id": "01e4e969",
   "metadata": {
    "execution": {
     "iopub.execute_input": "2022-01-23T00:23:47.850712Z",
     "iopub.status.busy": "2022-01-23T00:23:47.850038Z",
     "iopub.status.idle": "2022-01-23T00:23:47.863331Z",
     "shell.execute_reply": "2022-01-23T00:23:47.863861Z"
    },
    "papermill": {
     "duration": 0.050041,
     "end_time": "2022-01-23T00:23:47.863991",
     "exception": false,
     "start_time": "2022-01-23T00:23:47.813950",
     "status": "completed"
    },
    "tags": []
   },
   "outputs": [
    {
     "data": {
      "text/plain": [
       "((11982, 28, 28), (1984, 28, 28))"
      ]
     },
     "execution_count": 13,
     "metadata": {},
     "output_type": "execute_result"
    }
   ],
   "source": [
    "X_train.shape, X_test.shape"
   ]
  },
  {
   "cell_type": "markdown",
   "id": "5ccf3f85",
   "metadata": {
    "papermill": {
     "duration": 0.032675,
     "end_time": "2022-01-23T00:23:47.929000",
     "exception": false,
     "start_time": "2022-01-23T00:23:47.896325",
     "status": "completed"
    },
    "tags": []
   },
   "source": [
    "We reshape the data to flatten the image pixels into a set of features or co-variates:"
   ]
  },
  {
   "cell_type": "code",
   "execution_count": 14,
   "id": "5286a4a3",
   "metadata": {
    "execution": {
     "iopub.execute_input": "2022-01-23T00:23:48.001225Z",
     "iopub.status.busy": "2022-01-23T00:23:48.000531Z",
     "iopub.status.idle": "2022-01-23T00:23:48.016759Z",
     "shell.execute_reply": "2022-01-23T00:23:48.016045Z"
    },
    "papermill": {
     "duration": 0.053706,
     "end_time": "2022-01-23T00:23:48.016903",
     "exception": false,
     "start_time": "2022-01-23T00:23:47.963197",
     "status": "completed"
    },
    "tags": []
   },
   "outputs": [
    {
     "data": {
      "text/plain": [
       "((11982, 784), (1984, 784))"
      ]
     },
     "execution_count": 14,
     "metadata": {},
     "output_type": "execute_result"
    }
   ],
   "source": [
    "X_train = X_train.reshape(X_train.shape[0], -1)\n",
    "X_test = X_test.reshape(X_test.shape[0], -1)\n",
    "X_train.shape, X_test.shape"
   ]
  },
  {
   "cell_type": "code",
   "execution_count": 15,
   "id": "73c5f88a",
   "metadata": {
    "execution": {
     "iopub.execute_input": "2022-01-23T00:23:48.091166Z",
     "iopub.status.busy": "2022-01-23T00:23:48.090416Z",
     "iopub.status.idle": "2022-01-23T00:23:48.117981Z",
     "shell.execute_reply": "2022-01-23T00:23:48.117327Z"
    },
    "papermill": {
     "duration": 0.066181,
     "end_time": "2022-01-23T00:23:48.118101",
     "exception": false,
     "start_time": "2022-01-23T00:23:48.051920",
     "status": "completed"
    },
    "tags": []
   },
   "outputs": [],
   "source": [
    "#Impoting functions from 'Kudzu'\n",
    "from kudzu.model import Model\n",
    "from kudzu.train import Learner\n",
    "from kudzu.optim import GD\n",
    "from kudzu.data import Data, Sampler,Dataloader\n",
    "\n",
    "from kudzu.callbacks import AccCallback\n",
    "from kudzu.callbacks import ClfCallback\n",
    "\n",
    "from kudzu.loss import MSE\n",
    "\n",
    "from kudzu.layer import Sigmoid,Relu\n",
    "from kudzu.layer import Affine"
   ]
  },
  {
   "cell_type": "markdown",
   "id": "bc01172a",
   "metadata": {
    "papermill": {
     "duration": 0.032454,
     "end_time": "2022-01-23T00:23:48.182841",
     "exception": false,
     "start_time": "2022-01-23T00:23:48.150387",
     "status": "completed"
    },
    "tags": []
   },
   "source": [
    "### Let us create a `Config` class, to store important parameters. \n",
    "This class essentially plays the role of a dictionary."
   ]
  },
  {
   "cell_type": "code",
   "execution_count": 16,
   "id": "978281aa",
   "metadata": {
    "execution": {
     "iopub.execute_input": "2022-01-23T00:23:48.262507Z",
     "iopub.status.busy": "2022-01-23T00:23:48.261752Z",
     "iopub.status.idle": "2022-01-23T00:23:48.275346Z",
     "shell.execute_reply": "2022-01-23T00:23:48.274733Z"
    },
    "papermill": {
     "duration": 0.053495,
     "end_time": "2022-01-23T00:23:48.275471",
     "exception": false,
     "start_time": "2022-01-23T00:23:48.221976",
     "status": "completed"
    },
    "tags": []
   },
   "outputs": [],
   "source": [
    "class Config:\n",
    "    pass\n",
    "config = Config()\n",
    "config.lr = 0.001\n",
    "config.num_epochs = 250\n",
    "config.bs = 50"
   ]
  },
  {
   "cell_type": "markdown",
   "id": "1385fa59",
   "metadata": {
    "papermill": {
     "duration": 0.03263,
     "end_time": "2022-01-23T00:23:48.343731",
     "exception": false,
     "start_time": "2022-01-23T00:23:48.311101",
     "status": "completed"
    },
    "tags": []
   },
   "source": [
    "### Running Models with the Training data\n",
    "Details about the network layers:\n",
    "- A first affine layer has 784 inputs and does 100 affine transforms. These are followed by a Relu\n",
    "- A second affine layer has 100 inputs from the 100 activations of the past layer, and does 100 affine transforms. These are followed by a Relu\n",
    "- A third affine layer has 100 activations and does 2 affine transformations to create an embedding for visualization. There is no non-linearity here.\n",
    "- A final \"logistic regression\" which has an affine transform from 2 inputs to 1 output, which is squeezed through a sigmoid.\n"
   ]
  },
  {
   "cell_type": "code",
   "execution_count": 17,
   "id": "2b9c66db",
   "metadata": {
    "execution": {
     "iopub.execute_input": "2022-01-23T00:23:48.414836Z",
     "iopub.status.busy": "2022-01-23T00:23:48.414202Z",
     "iopub.status.idle": "2022-01-23T00:23:48.426812Z",
     "shell.execute_reply": "2022-01-23T00:23:48.427333Z"
    },
    "papermill": {
     "duration": 0.051878,
     "end_time": "2022-01-23T00:23:48.427467",
     "exception": false,
     "start_time": "2022-01-23T00:23:48.375589",
     "status": "completed"
    },
    "tags": []
   },
   "outputs": [],
   "source": [
    "data = Data(X_train, y_train.reshape(-1,1))\n",
    "sampler = Sampler(data, config.bs, shuffle=True)\n",
    "\n",
    "dl = Dataloader(data, sampler)\n",
    "\n",
    "opt = GD(config.lr)\n",
    "loss = MSE()"
   ]
  },
  {
   "cell_type": "code",
   "execution_count": 18,
   "id": "b275e4c2",
   "metadata": {
    "execution": {
     "iopub.execute_input": "2022-01-23T00:23:48.498431Z",
     "iopub.status.busy": "2022-01-23T00:23:48.497697Z",
     "iopub.status.idle": "2022-01-23T00:23:48.511496Z",
     "shell.execute_reply": "2022-01-23T00:23:48.514082Z"
    },
    "papermill": {
     "duration": 0.055015,
     "end_time": "2022-01-23T00:23:48.514219",
     "exception": false,
     "start_time": "2022-01-23T00:23:48.459204",
     "status": "completed"
    },
    "tags": []
   },
   "outputs": [],
   "source": [
    "training_data_x = X_train\n",
    "testing_data_x = X_test\n",
    "training_data_y = y_train.reshape(-1,1)\n",
    "testing_data_y = y_test.reshape(-1,1)"
   ]
  },
  {
   "cell_type": "code",
   "execution_count": 19,
   "id": "76951160",
   "metadata": {
    "execution": {
     "iopub.execute_input": "2022-01-23T00:23:48.585847Z",
     "iopub.status.busy": "2022-01-23T00:23:48.585226Z",
     "iopub.status.idle": "2022-01-23T00:23:48.603233Z",
     "shell.execute_reply": "2022-01-23T00:23:48.602461Z"
    },
    "papermill": {
     "duration": 0.055078,
     "end_time": "2022-01-23T00:23:48.603350",
     "exception": false,
     "start_time": "2022-01-23T00:23:48.548272",
     "status": "completed"
    },
    "tags": []
   },
   "outputs": [
    {
     "name": "stdout",
     "output_type": "stream",
     "text": [
      "xavier\n",
      "xavier\n",
      "xavier\n",
      "xavier\n",
      "xavier\n"
     ]
    }
   ],
   "source": [
    "layers = [Affine(\"first\", 784, 100), Relu(\"first\"), Affine(\"second\", 100, 100), Relu(\"second\"), Affine(\"third\", 100, 2), Affine(\"last\", 2, 1), Sigmoid(\"last\")]\n",
    "model_nn = Model(layers)\n",
    "model_lr = Model([Affine(\"logits\", 784, 1), Sigmoid(\"sigmoid\")])"
   ]
  },
  {
   "cell_type": "code",
   "execution_count": 20,
   "id": "6eede77a",
   "metadata": {
    "execution": {
     "iopub.execute_input": "2022-01-23T00:23:48.674100Z",
     "iopub.status.busy": "2022-01-23T00:23:48.673435Z",
     "iopub.status.idle": "2022-01-23T00:23:48.687005Z",
     "shell.execute_reply": "2022-01-23T00:23:48.686377Z"
    },
    "papermill": {
     "duration": 0.051135,
     "end_time": "2022-01-23T00:23:48.687127",
     "exception": false,
     "start_time": "2022-01-23T00:23:48.635992",
     "status": "completed"
    },
    "tags": []
   },
   "outputs": [],
   "source": [
    "nn_learner = Learner(loss, model_nn, opt, config.num_epochs)\n",
    "acc_nn = ClfCallback(nn_learner, config.bs, training_data_x , testing_data_x, training_data_y, testing_data_y)\n",
    "nn_learner.set_callbacks([acc_nn])"
   ]
  },
  {
   "cell_type": "code",
   "execution_count": 21,
   "id": "877b6cc7",
   "metadata": {
    "execution": {
     "iopub.execute_input": "2022-01-23T00:23:48.756166Z",
     "iopub.status.busy": "2022-01-23T00:23:48.755463Z",
     "iopub.status.idle": "2022-01-23T00:23:48.767144Z",
     "shell.execute_reply": "2022-01-23T00:23:48.767717Z"
    },
    "papermill": {
     "duration": 0.048079,
     "end_time": "2022-01-23T00:23:48.767841",
     "exception": false,
     "start_time": "2022-01-23T00:23:48.719762",
     "status": "completed"
    },
    "tags": []
   },
   "outputs": [],
   "source": [
    "lr_learner = Learner(loss, model_lr, opt, config.num_epochs)\n",
    "acc_lr = ClfCallback(lr_learner, config.bs, training_data_x , testing_data_x, training_data_y, testing_data_y)\n",
    "lr_learner.set_callbacks([acc_lr])"
   ]
  },
  {
   "cell_type": "code",
   "execution_count": 22,
   "id": "d9b133c3",
   "metadata": {
    "execution": {
     "iopub.execute_input": "2022-01-23T00:23:48.851839Z",
     "iopub.status.busy": "2022-01-23T00:23:48.851164Z",
     "iopub.status.idle": "2022-01-23T00:26:10.582803Z",
     "shell.execute_reply": "2022-01-23T00:26:10.583799Z"
    },
    "papermill": {
     "duration": 141.783402,
     "end_time": "2022-01-23T00:26:10.583976",
     "exception": false,
     "start_time": "2022-01-23T00:23:48.800574",
     "status": "completed"
    },
    "tags": []
   },
   "outputs": [
    {
     "name": "stdout",
     "output_type": "stream",
     "text": [
      "Epoch 0, Loss 0.2457\n",
      "Training Accuracy: 0.6501, Testing Accuracy: 0.6552\n",
      "\n"
     ]
    },
    {
     "name": "stdout",
     "output_type": "stream",
     "text": [
      "Epoch 10, Loss 0.0988\n",
      "Training Accuracy: 0.9037, Testing Accuracy: 0.9103\n",
      "\n"
     ]
    },
    {
     "name": "stdout",
     "output_type": "stream",
     "text": [
      "Epoch 20, Loss 0.0601\n",
      "Training Accuracy: 0.9367, Testing Accuracy: 0.9456\n",
      "\n"
     ]
    },
    {
     "name": "stdout",
     "output_type": "stream",
     "text": [
      "Epoch 30, Loss 0.0459\n",
      "Training Accuracy: 0.9486, Testing Accuracy: 0.9572\n",
      "\n"
     ]
    },
    {
     "name": "stdout",
     "output_type": "stream",
     "text": [
      "Epoch 40, Loss 0.039\n",
      "Training Accuracy: 0.9555, Testing Accuracy: 0.9627\n",
      "\n"
     ]
    },
    {
     "name": "stdout",
     "output_type": "stream",
     "text": [
      "Epoch 50, Loss 0.035\n",
      "Training Accuracy: 0.9595, Testing Accuracy: 0.9667\n",
      "\n"
     ]
    },
    {
     "name": "stdout",
     "output_type": "stream",
     "text": [
      "Epoch 60, Loss 0.0323\n",
      "Training Accuracy: 0.9628, Testing Accuracy: 0.9672\n",
      "\n"
     ]
    },
    {
     "name": "stdout",
     "output_type": "stream",
     "text": [
      "Epoch 70, Loss 0.0303\n",
      "Training Accuracy: 0.9654, Testing Accuracy: 0.9677\n",
      "\n"
     ]
    },
    {
     "name": "stdout",
     "output_type": "stream",
     "text": [
      "Epoch 80, Loss 0.0288\n",
      "Training Accuracy: 0.9672, Testing Accuracy: 0.9693\n",
      "\n"
     ]
    },
    {
     "name": "stdout",
     "output_type": "stream",
     "text": [
      "Epoch 90, Loss 0.0275\n",
      "Training Accuracy: 0.9683, Testing Accuracy: 0.9677\n",
      "\n"
     ]
    },
    {
     "name": "stdout",
     "output_type": "stream",
     "text": [
      "Epoch 100, Loss 0.0264\n",
      "Training Accuracy: 0.9695, Testing Accuracy: 0.9677\n",
      "\n"
     ]
    },
    {
     "name": "stdout",
     "output_type": "stream",
     "text": [
      "Epoch 110, Loss 0.0255\n",
      "Training Accuracy: 0.9705, Testing Accuracy: 0.9693\n",
      "\n"
     ]
    },
    {
     "name": "stdout",
     "output_type": "stream",
     "text": [
      "Epoch 120, Loss 0.0247\n",
      "Training Accuracy: 0.9717, Testing Accuracy: 0.9693\n",
      "\n"
     ]
    },
    {
     "name": "stdout",
     "output_type": "stream",
     "text": [
      "Epoch 130, Loss 0.024\n",
      "Training Accuracy: 0.9730, Testing Accuracy: 0.9698\n",
      "\n"
     ]
    },
    {
     "name": "stdout",
     "output_type": "stream",
     "text": [
      "Epoch 140, Loss 0.0233\n",
      "Training Accuracy: 0.9735, Testing Accuracy: 0.9693\n",
      "\n"
     ]
    },
    {
     "name": "stdout",
     "output_type": "stream",
     "text": [
      "Epoch 150, Loss 0.0227\n",
      "Training Accuracy: 0.9739, Testing Accuracy: 0.9693\n",
      "\n"
     ]
    },
    {
     "name": "stdout",
     "output_type": "stream",
     "text": [
      "Epoch 160, Loss 0.0221\n",
      "Training Accuracy: 0.9745, Testing Accuracy: 0.9708\n",
      "\n"
     ]
    },
    {
     "name": "stdout",
     "output_type": "stream",
     "text": [
      "Epoch 170, Loss 0.0216\n",
      "Training Accuracy: 0.9752, Testing Accuracy: 0.9713\n",
      "\n"
     ]
    },
    {
     "name": "stdout",
     "output_type": "stream",
     "text": [
      "Epoch 180, Loss 0.0211\n",
      "Training Accuracy: 0.9758, Testing Accuracy: 0.9723\n",
      "\n"
     ]
    },
    {
     "name": "stdout",
     "output_type": "stream",
     "text": [
      "Epoch 190, Loss 0.0207\n",
      "Training Accuracy: 0.9761, Testing Accuracy: 0.9723\n",
      "\n"
     ]
    },
    {
     "name": "stdout",
     "output_type": "stream",
     "text": [
      "Epoch 200, Loss 0.0202\n",
      "Training Accuracy: 0.9770, Testing Accuracy: 0.9718\n",
      "\n"
     ]
    },
    {
     "name": "stdout",
     "output_type": "stream",
     "text": [
      "Epoch 210, Loss 0.0198\n",
      "Training Accuracy: 0.9776, Testing Accuracy: 0.9728\n",
      "\n"
     ]
    },
    {
     "name": "stdout",
     "output_type": "stream",
     "text": [
      "Epoch 220, Loss 0.0194\n",
      "Training Accuracy: 0.9779, Testing Accuracy: 0.9738\n",
      "\n"
     ]
    },
    {
     "name": "stdout",
     "output_type": "stream",
     "text": [
      "Epoch 230, Loss 0.019\n",
      "Training Accuracy: 0.9785, Testing Accuracy: 0.9743\n",
      "\n"
     ]
    },
    {
     "name": "stdout",
     "output_type": "stream",
     "text": [
      "Epoch 240, Loss 0.0186\n",
      "Training Accuracy: 0.9791, Testing Accuracy: 0.9743\n",
      "\n"
     ]
    },
    {
     "data": {
      "text/plain": [
       "0.0015906074667595292"
      ]
     },
     "execution_count": 22,
     "metadata": {},
     "output_type": "execute_result"
    }
   ],
   "source": [
    "nn_learner.train_loop(dl)"
   ]
  },
  {
   "cell_type": "code",
   "execution_count": 23,
   "id": "e0163366",
   "metadata": {
    "execution": {
     "iopub.execute_input": "2022-01-23T00:26:10.689678Z",
     "iopub.status.busy": "2022-01-23T00:26:10.688983Z",
     "iopub.status.idle": "2022-01-23T00:26:30.648960Z",
     "shell.execute_reply": "2022-01-23T00:26:30.649781Z"
    },
    "papermill": {
     "duration": 20.017316,
     "end_time": "2022-01-23T00:26:30.649957",
     "exception": false,
     "start_time": "2022-01-23T00:26:10.632641",
     "status": "completed"
    },
    "tags": []
   },
   "outputs": [
    {
     "name": "stdout",
     "output_type": "stream",
     "text": [
      "Epoch 0, Loss 0.2504\n",
      "Training Accuracy: 0.6512, Testing Accuracy: 0.6436\n",
      "\n"
     ]
    },
    {
     "name": "stdout",
     "output_type": "stream",
     "text": [
      "Epoch 10, Loss 0.1029\n",
      "Training Accuracy: 0.9127, Testing Accuracy: 0.9178\n",
      "\n"
     ]
    },
    {
     "name": "stdout",
     "output_type": "stream",
     "text": [
      "Epoch 20, Loss 0.0786\n",
      "Training Accuracy: 0.9294, Testing Accuracy: 0.9385\n",
      "\n"
     ]
    },
    {
     "name": "stdout",
     "output_type": "stream",
     "text": [
      "Epoch 30, Loss 0.0676\n",
      "Training Accuracy: 0.9376, Testing Accuracy: 0.9441\n",
      "\n"
     ]
    },
    {
     "name": "stdout",
     "output_type": "stream",
     "text": [
      "Epoch 40, Loss 0.0611\n",
      "Training Accuracy: 0.9432, Testing Accuracy: 0.9466\n",
      "\n"
     ]
    },
    {
     "name": "stdout",
     "output_type": "stream",
     "text": [
      "Epoch 50, Loss 0.0567\n",
      "Training Accuracy: 0.9462, Testing Accuracy: 0.9496\n",
      "\n"
     ]
    },
    {
     "name": "stdout",
     "output_type": "stream",
     "text": [
      "Epoch 60, Loss 0.0534\n",
      "Training Accuracy: 0.9483, Testing Accuracy: 0.9516\n",
      "\n"
     ]
    },
    {
     "name": "stdout",
     "output_type": "stream",
     "text": [
      "Epoch 70, Loss 0.0509\n",
      "Training Accuracy: 0.9503, Testing Accuracy: 0.9536\n",
      "\n"
     ]
    },
    {
     "name": "stdout",
     "output_type": "stream",
     "text": [
      "Epoch 80, Loss 0.0489\n",
      "Training Accuracy: 0.9515, Testing Accuracy: 0.9556\n",
      "\n"
     ]
    },
    {
     "name": "stdout",
     "output_type": "stream",
     "text": [
      "Epoch 90, Loss 0.0472\n",
      "Training Accuracy: 0.9526, Testing Accuracy: 0.9572\n",
      "\n"
     ]
    },
    {
     "name": "stdout",
     "output_type": "stream",
     "text": [
      "Epoch 100, Loss 0.0459\n",
      "Training Accuracy: 0.9535, Testing Accuracy: 0.9587\n",
      "\n"
     ]
    },
    {
     "name": "stdout",
     "output_type": "stream",
     "text": [
      "Epoch 110, Loss 0.0447\n",
      "Training Accuracy: 0.9552, Testing Accuracy: 0.9597\n",
      "\n"
     ]
    },
    {
     "name": "stdout",
     "output_type": "stream",
     "text": [
      "Epoch 120, Loss 0.0436\n",
      "Training Accuracy: 0.9560, Testing Accuracy: 0.9617\n",
      "\n"
     ]
    },
    {
     "name": "stdout",
     "output_type": "stream",
     "text": [
      "Epoch 130, Loss 0.0427\n",
      "Training Accuracy: 0.9571, Testing Accuracy: 0.9622\n",
      "\n"
     ]
    },
    {
     "name": "stdout",
     "output_type": "stream",
     "text": [
      "Epoch 140, Loss 0.0419\n",
      "Training Accuracy: 0.9576, Testing Accuracy: 0.9632\n",
      "\n"
     ]
    },
    {
     "name": "stdout",
     "output_type": "stream",
     "text": [
      "Epoch 150, Loss 0.0412\n",
      "Training Accuracy: 0.9581, Testing Accuracy: 0.9637\n",
      "\n"
     ]
    },
    {
     "name": "stdout",
     "output_type": "stream",
     "text": [
      "Epoch 160, Loss 0.0405\n",
      "Training Accuracy: 0.9584, Testing Accuracy: 0.9642\n",
      "\n"
     ]
    },
    {
     "name": "stdout",
     "output_type": "stream",
     "text": [
      "Epoch 170, Loss 0.0399\n",
      "Training Accuracy: 0.9592, Testing Accuracy: 0.9647\n",
      "\n"
     ]
    },
    {
     "name": "stdout",
     "output_type": "stream",
     "text": [
      "Epoch 180, Loss 0.0393\n",
      "Training Accuracy: 0.9594, Testing Accuracy: 0.9647\n",
      "\n"
     ]
    },
    {
     "name": "stdout",
     "output_type": "stream",
     "text": [
      "Epoch 190, Loss 0.0388\n",
      "Training Accuracy: 0.9595, Testing Accuracy: 0.9647\n",
      "\n"
     ]
    },
    {
     "name": "stdout",
     "output_type": "stream",
     "text": [
      "Epoch 200, Loss 0.0384\n",
      "Training Accuracy: 0.9599, Testing Accuracy: 0.9647\n",
      "\n"
     ]
    },
    {
     "name": "stdout",
     "output_type": "stream",
     "text": [
      "Epoch 210, Loss 0.0379\n",
      "Training Accuracy: 0.9603, Testing Accuracy: 0.9647\n",
      "\n"
     ]
    },
    {
     "name": "stdout",
     "output_type": "stream",
     "text": [
      "Epoch 220, Loss 0.0375\n",
      "Training Accuracy: 0.9605, Testing Accuracy: 0.9647\n",
      "\n"
     ]
    },
    {
     "name": "stdout",
     "output_type": "stream",
     "text": [
      "Epoch 230, Loss 0.0371\n",
      "Training Accuracy: 0.9607, Testing Accuracy: 0.9647\n",
      "\n"
     ]
    },
    {
     "name": "stdout",
     "output_type": "stream",
     "text": [
      "Epoch 240, Loss 0.0368\n",
      "Training Accuracy: 0.9610, Testing Accuracy: 0.9642\n",
      "\n"
     ]
    },
    {
     "data": {
      "text/plain": [
       "0.05534406774190343"
      ]
     },
     "execution_count": 23,
     "metadata": {},
     "output_type": "execute_result"
    }
   ],
   "source": [
    "lr_learner.train_loop(dl)"
   ]
  },
  {
   "cell_type": "code",
   "execution_count": 24,
   "id": "ca410940",
   "metadata": {
    "execution": {
     "iopub.execute_input": "2022-01-23T00:26:30.761128Z",
     "iopub.status.busy": "2022-01-23T00:26:30.760454Z",
     "iopub.status.idle": "2022-01-23T00:26:31.071838Z",
     "shell.execute_reply": "2022-01-23T00:26:31.072486Z"
    },
    "papermill": {
     "duration": 0.371073,
     "end_time": "2022-01-23T00:26:31.072696",
     "exception": false,
     "start_time": "2022-01-23T00:26:30.701623",
     "status": "completed"
    },
    "tags": []
   },
   "outputs": [
    {
     "data": {
      "text/plain": [
       "<matplotlib.legend.Legend at 0x7f733090fef0>"
      ]
     },
     "execution_count": 24,
     "metadata": {},
     "output_type": "execute_result"
    },
    {
     "data": {
      "image/png": "[encoded data removed]",
      "text/plain": [
       "<Figure size 1080x720 with 1 Axes>"
      ]
     },
     "metadata": {
      "needs_background": "light"
     },
     "output_type": "display_data"
    }
   ],
   "source": [
    "#comparing the results of NN and LR\n",
    "plt.figure(figsize=(15,10))\n",
    "\n",
    "# Neural Network plots\n",
    "plt.plot(acc_nn.accuracies, 'r-', label = \"Training Accuracies - NN\")\n",
    "plt.plot(acc_nn.test_accuracies, 'g-', label = \"Testing Accuracies - NN\")\n",
    "\n",
    "# Logistic Regression plots\n",
    "plt.plot(acc_lr.accuracies, 'k-', label = \"Training Accuracies - LR\")\n",
    "plt.plot(acc_lr.test_accuracies, 'b-', label = \"Testing Accuracies - LR\")\n",
    "plt.legend()"
   ]
  },
  {
   "cell_type": "markdown",
   "id": "80dfb35c",
   "metadata": {
    "papermill": {
     "duration": 0.049728,
     "end_time": "2022-01-23T00:26:31.177957",
     "exception": false,
     "start_time": "2022-01-23T00:26:31.128229",
     "status": "completed"
    },
    "tags": []
   },
   "source": [
    "#### Plotting the outputs of this layer of the NN.\n"
   ]
  },
  {
   "cell_type": "code",
   "execution_count": 25,
   "id": "45eb2ff5",
   "metadata": {
    "execution": {
     "iopub.execute_input": "2022-01-23T00:26:31.281638Z",
     "iopub.status.busy": "2022-01-23T00:26:31.280937Z",
     "iopub.status.idle": "2022-01-23T00:26:31.308986Z",
     "shell.execute_reply": "2022-01-23T00:26:31.309760Z"
    },
    "papermill": {
     "duration": 0.080931,
     "end_time": "2022-01-23T00:26:31.309928",
     "exception": false,
     "start_time": "2022-01-23T00:26:31.228997",
     "status": "completed"
    },
    "tags": []
   },
   "outputs": [],
   "source": [
    "new_model = Model(layers[:-2])\n",
    "testing_plot = new_model(testing_data_x)"
   ]
  },
  {
   "cell_type": "code",
   "execution_count": 26,
   "id": "4c0a5485",
   "metadata": {
    "execution": {
     "iopub.execute_input": "2022-01-23T00:26:31.423804Z",
     "iopub.status.busy": "2022-01-23T00:26:31.423203Z",
     "iopub.status.idle": "2022-01-23T00:26:31.659051Z",
     "shell.execute_reply": "2022-01-23T00:26:31.659527Z"
    },
    "papermill": {
     "duration": 0.296321,
     "end_time": "2022-01-23T00:26:31.659689",
     "exception": false,
     "start_time": "2022-01-23T00:26:31.363368",
     "status": "completed"
    },
    "tags": []
   },
   "outputs": [
    {
     "data": {
      "text/plain": [
       "Text(0.5, 1.0, 'Outputs')"
      ]
     },
     "execution_count": 26,
     "metadata": {},
     "output_type": "execute_result"
    },
    {
     "data": {
      "image/png": "[encoded data removed]",
      "text/plain": [
       "<Figure size 576x504 with 1 Axes>"
      ]
     },
     "metadata": {
      "needs_background": "light"
     },
     "output_type": "display_data"
    }
   ],
   "source": [
    "# Plotting the scatter plot of points and color coding by class\n",
    "plt.figure(figsize=(8,7))\n",
    "plt.scatter(testing_plot[:,0], testing_plot[:,1], alpha = 0.1, c = y_test.ravel());\n",
    "plt.title('Outputs')"
   ]
  },
  {
   "cell_type": "markdown",
   "id": "a74fcf8f",
   "metadata": {
    "papermill": {
     "duration": 0.053141,
     "end_time": "2022-01-23T00:26:31.767163",
     "exception": false,
     "start_time": "2022-01-23T00:26:31.714022",
     "status": "completed"
    },
    "tags": []
   },
   "source": [
    "Probability contours"
   ]
  },
  {
   "cell_type": "code",
   "execution_count": 27,
   "id": "d0afc8e3",
   "metadata": {
    "execution": {
     "iopub.execute_input": "2022-01-23T00:26:31.904198Z",
     "iopub.status.busy": "2022-01-23T00:26:31.900285Z",
     "iopub.status.idle": "2022-01-23T00:26:31.914320Z",
     "shell.execute_reply": "2022-01-23T00:26:31.913072Z"
    },
    "papermill": {
     "duration": 0.095117,
     "end_time": "2022-01-23T00:26:31.914460",
     "exception": false,
     "start_time": "2022-01-23T00:26:31.819343",
     "status": "completed"
    },
    "tags": []
   },
   "outputs": [],
   "source": [
    "model_prob = Model(layers[-2:]) "
   ]
  },
  {
   "cell_type": "code",
   "execution_count": 28,
   "id": "9b96e238",
   "metadata": {
    "execution": {
     "iopub.execute_input": "2022-01-23T00:26:32.034253Z",
     "iopub.status.busy": "2022-01-23T00:26:32.033208Z",
     "iopub.status.idle": "2022-01-23T00:26:32.051346Z",
     "shell.execute_reply": "2022-01-23T00:26:32.050659Z"
    },
    "papermill": {
     "duration": 0.080315,
     "end_time": "2022-01-23T00:26:32.051511",
     "exception": false,
     "start_time": "2022-01-23T00:26:31.971196",
     "status": "completed"
    },
    "tags": []
   },
   "outputs": [],
   "source": [
    "#creating the x and y ranges according to the above generated plot.\n",
    "x_range = np.linspace(-4, 1, 100) \n",
    "y_range = np.linspace(-6, 6, 100) \n",
    "x_grid, y_grid = np.meshgrid(x_range, y_range) # x_grid and y_grig are of size 100 X 100\n",
    "\n",
    "# converting x_grid and y_grid to continuous arrays\n",
    "x_gridflat = np.ravel(x_grid)\n",
    "y_gridflat = np.ravel(y_grid)\n",
    "\n",
    "# The last layer of the current model takes two columns as input. Hence transpose of np.vstack() is required.\n",
    "X = np.vstack((x_gridflat, y_gridflat)).T\n",
    "\n",
    "prob_contour = model_prob(X).reshape(100,100) "
   ]
  },
  {
   "cell_type": "code",
   "execution_count": 29,
   "id": "da72499a",
   "metadata": {
    "execution": {
     "iopub.execute_input": "2022-01-23T00:26:32.189394Z",
     "iopub.status.busy": "2022-01-23T00:26:32.188672Z",
     "iopub.status.idle": "2022-01-23T00:26:32.506899Z",
     "shell.execute_reply": "2022-01-23T00:26:32.507454Z"
    },
    "papermill": {
     "duration": 0.396869,
     "end_time": "2022-01-23T00:26:32.507929",
     "exception": false,
     "start_time": "2022-01-23T00:26:32.111060",
     "status": "completed"
    },
    "tags": []
   },
   "outputs": [
    {
     "data": {
      "image/png": "[encoded data removed]",
      "text/plain": [
       "<Figure size 720x648 with 1 Axes>"
      ]
     },
     "metadata": {
      "needs_background": "light"
     },
     "output_type": "display_data"
    }
   ],
   "source": [
    "plt.figure(figsize=(10,9))\n",
    "plt.scatter(testing_plot[:,0], testing_plot[:,1], alpha = 0.1, c = y_test.ravel())\n",
    "contours = plt.contour(x_grid,y_grid,prob_contour)\n",
    "plt.title('Probability Contours')\n",
    "plt.clabel(contours, inline = True );"
   ]
  },
  {
   "cell_type": "code",
   "execution_count": null,
   "id": "e81b4ac7",
   "metadata": {
    "papermill": {
     "duration": 0.057434,
     "end_time": "2022-01-23T00:26:32.625824",
     "exception": false,
     "start_time": "2022-01-23T00:26:32.568390",
     "status": "completed"
    },
    "tags": []
   },
   "outputs": [],
   "source": []
  }
 ],
 "metadata": {
  "kernelspec": {
   "display_name": "Python 3",
   "language": "python",
   "name": "python3"
  },
  "language_info": {
   "codemirror_mode": {
    "name": "ipython",
    "version": 3
   },
   "file_extension": ".py",
   "mimetype": "text/x-python",
   "name": "python",
   "nbconvert_exporter": "python",
   "pygments_lexer": "ipython3",
   "version": "3.6.15"
  },
  "papermill": {
   "default_parameters": {},
   "duration": 172.246088,
   "end_time": "2022-01-23T00:26:33.003732",
   "environment_variables": {},
   "exception": null,
   "input_path": "2020-08-11-part2.ipynb",
   "output_path": "2020-08-11-part2.ipynb",
   "parameters": {},
   "start_time": "2022-01-23T00:23:40.757644",
   "version": "2.3.3"
  }
 },
 "nbformat": 4,
 "nbformat_minor": 5
}