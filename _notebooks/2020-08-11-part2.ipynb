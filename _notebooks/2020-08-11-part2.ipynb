{
 "cells": [
  {
   "cell_type": "markdown",
   "id": "98380cd3",
   "metadata": {
    "papermill": {
     "duration": 0.02947,
     "end_time": "2022-06-22T10:10:26.471449",
     "exception": false,
     "start_time": "2022-06-22T10:10:26.441979",
     "status": "completed"
    },
    "tags": []
   },
   "source": [
    "# Distinguish Your Own Digits (DYOD)"
   ]
  },
  {
   "cell_type": "markdown",
   "id": "ef31240d",
   "metadata": {
    "papermill": {
     "duration": 0.024024,
     "end_time": "2022-06-22T10:10:26.522892",
     "exception": false,
     "start_time": "2022-06-22T10:10:26.498868",
     "status": "completed"
    },
    "tags": []
   },
   "source": [
    "You are going to write a classifier that distinguishes between the number 3 and number 8."
   ]
  },
  {
   "cell_type": "code",
   "execution_count": 1,
   "id": "b15c8646",
   "metadata": {
    "execution": {
     "iopub.execute_input": "2022-06-22T10:10:26.580773Z",
     "iopub.status.busy": "2022-06-22T10:10:26.580181Z",
     "iopub.status.idle": "2022-06-22T10:10:26.590922Z",
     "shell.execute_reply": "2022-06-22T10:10:26.590466Z"
    },
    "papermill": {
     "duration": 0.044282,
     "end_time": "2022-06-22T10:10:26.591034",
     "exception": false,
     "start_time": "2022-06-22T10:10:26.546752",
     "status": "completed"
    },
    "tags": []
   },
   "outputs": [],
   "source": [
    "%load_ext autoreload\n",
    "%autoreload 2"
   ]
  },
  {
   "cell_type": "code",
   "execution_count": 2,
   "id": "22ef38dc",
   "metadata": {
    "execution": {
     "iopub.execute_input": "2022-06-22T10:10:26.642933Z",
     "iopub.status.busy": "2022-06-22T10:10:26.642386Z",
     "iopub.status.idle": "2022-06-22T10:10:27.152690Z",
     "shell.execute_reply": "2022-06-22T10:10:27.152156Z"
    },
    "papermill": {
     "duration": 0.537751,
     "end_time": "2022-06-22T10:10:27.152814",
     "exception": false,
     "start_time": "2022-06-22T10:10:26.615063",
     "status": "completed"
    },
    "tags": []
   },
   "outputs": [],
   "source": [
    "%matplotlib inline\n",
    "import numpy as np\n",
    "import matplotlib.pyplot as plt\n",
    "import pandas as pd"
   ]
  },
  {
   "cell_type": "markdown",
   "id": "ba036198",
   "metadata": {
    "papermill": {
     "duration": 0.024119,
     "end_time": "2022-06-22T10:10:27.200885",
     "exception": false,
     "start_time": "2022-06-22T10:10:27.176766",
     "status": "completed"
    },
    "tags": []
   },
   "source": [
    "From the command line run `pip install mnist`. This is a library that will help you bring down the mnist dataset. If you run this from a notebook, you need to put  `!pip install mnist` in a cell by itself."
   ]
  },
  {
   "cell_type": "code",
   "execution_count": 3,
   "id": "bb6ad8a1",
   "metadata": {
    "execution": {
     "iopub.execute_input": "2022-06-22T10:10:27.253240Z",
     "iopub.status.busy": "2022-06-22T10:10:27.252679Z",
     "iopub.status.idle": "2022-06-22T10:10:28.961029Z",
     "shell.execute_reply": "2022-06-22T10:10:28.960008Z"
    },
    "papermill": {
     "duration": 1.735796,
     "end_time": "2022-06-22T10:10:28.961152",
     "exception": false,
     "start_time": "2022-06-22T10:10:27.225356",
     "status": "completed"
    },
    "tags": []
   },
   "outputs": [
    {
     "name": "stdout",
     "output_type": "stream",
     "text": [
      "Collecting mnist\r\n"
     ]
    },
    {
     "name": "stdout",
     "output_type": "stream",
     "text": [
      "  Downloading mnist-0.2.2-py2.py3-none-any.whl (3.5 kB)\r\n",
      "Requirement already satisfied: numpy in /opt/hostedtoolcache/Python/3.6.15/x64/lib/python3.6/site-packages (from mnist) (1.19.5)\r\n"
     ]
    },
    {
     "name": "stdout",
     "output_type": "stream",
     "text": [
      "Installing collected packages: mnist\r\n"
     ]
    },
    {
     "name": "stdout",
     "output_type": "stream",
     "text": [
      "Successfully installed mnist-0.2.2\r\n"
     ]
    }
   ],
   "source": [
    "!pip install mnist"
   ]
  },
  {
   "cell_type": "markdown",
   "id": "69df9c9a",
   "metadata": {
    "papermill": {
     "duration": 0.025443,
     "end_time": "2022-06-22T10:10:29.011795",
     "exception": false,
     "start_time": "2022-06-22T10:10:28.986352",
     "status": "completed"
    },
    "tags": []
   },
   "source": [
    "## Preparing the Data"
   ]
  },
  {
   "cell_type": "code",
   "execution_count": 4,
   "id": "7f69d806",
   "metadata": {
    "execution": {
     "iopub.execute_input": "2022-06-22T10:10:29.065884Z",
     "iopub.status.busy": "2022-06-22T10:10:29.065320Z",
     "iopub.status.idle": "2022-06-22T10:10:29.079519Z",
     "shell.execute_reply": "2022-06-22T10:10:29.079058Z"
    },
    "papermill": {
     "duration": 0.042771,
     "end_time": "2022-06-22T10:10:29.079626",
     "exception": false,
     "start_time": "2022-06-22T10:10:29.036855",
     "status": "completed"
    },
    "tags": []
   },
   "outputs": [],
   "source": [
    "import mnist"
   ]
  },
  {
   "cell_type": "code",
   "execution_count": 5,
   "id": "a411e44f",
   "metadata": {
    "execution": {
     "iopub.execute_input": "2022-06-22T10:10:29.133962Z",
     "iopub.status.busy": "2022-06-22T10:10:29.133407Z",
     "iopub.status.idle": "2022-06-22T10:10:29.655645Z",
     "shell.execute_reply": "2022-06-22T10:10:29.655150Z"
    },
    "papermill": {
     "duration": 0.550979,
     "end_time": "2022-06-22T10:10:29.655756",
     "exception": false,
     "start_time": "2022-06-22T10:10:29.104777",
     "status": "completed"
    },
    "tags": []
   },
   "outputs": [],
   "source": [
    "train_images = mnist.train_images()\n",
    "train_labels = mnist.train_labels()"
   ]
  },
  {
   "cell_type": "code",
   "execution_count": 6,
   "id": "dceab3a5",
   "metadata": {
    "execution": {
     "iopub.execute_input": "2022-06-22T10:10:29.710040Z",
     "iopub.status.busy": "2022-06-22T10:10:29.709473Z",
     "iopub.status.idle": "2022-06-22T10:10:29.725296Z",
     "shell.execute_reply": "2022-06-22T10:10:29.724859Z"
    },
    "papermill": {
     "duration": 0.044444,
     "end_time": "2022-06-22T10:10:29.725399",
     "exception": false,
     "start_time": "2022-06-22T10:10:29.680955",
     "status": "completed"
    },
    "tags": []
   },
   "outputs": [
    {
     "data": {
      "text/plain": [
       "((60000, 28, 28), (60000,))"
      ]
     },
     "execution_count": 6,
     "metadata": {},
     "output_type": "execute_result"
    }
   ],
   "source": [
    "train_images.shape, train_labels.shape"
   ]
  },
  {
   "cell_type": "code",
   "execution_count": 7,
   "id": "f50dc2bb",
   "metadata": {
    "execution": {
     "iopub.execute_input": "2022-06-22T10:10:29.779247Z",
     "iopub.status.busy": "2022-06-22T10:10:29.778697Z",
     "iopub.status.idle": "2022-06-22T10:10:29.956584Z",
     "shell.execute_reply": "2022-06-22T10:10:29.956067Z"
    },
    "papermill": {
     "duration": 0.206078,
     "end_time": "2022-06-22T10:10:29.956697",
     "exception": false,
     "start_time": "2022-06-22T10:10:29.750619",
     "status": "completed"
    },
    "tags": []
   },
   "outputs": [],
   "source": [
    "test_images = mnist.test_images()\n",
    "test_labels = mnist.test_labels()"
   ]
  },
  {
   "cell_type": "code",
   "execution_count": 8,
   "id": "fc38cf1b",
   "metadata": {
    "execution": {
     "iopub.execute_input": "2022-06-22T10:10:30.011418Z",
     "iopub.status.busy": "2022-06-22T10:10:30.010869Z",
     "iopub.status.idle": "2022-06-22T10:10:30.023534Z",
     "shell.execute_reply": "2022-06-22T10:10:30.022993Z"
    },
    "papermill": {
     "duration": 0.041413,
     "end_time": "2022-06-22T10:10:30.023634",
     "exception": false,
     "start_time": "2022-06-22T10:10:29.982221",
     "status": "completed"
    },
    "tags": []
   },
   "outputs": [
    {
     "data": {
      "text/plain": [
       "((10000, 28, 28), (10000,))"
      ]
     },
     "execution_count": 8,
     "metadata": {},
     "output_type": "execute_result"
    }
   ],
   "source": [
    "test_images.shape, test_labels.shape"
   ]
  },
  {
   "cell_type": "code",
   "execution_count": 9,
   "id": "f9ed8fe0",
   "metadata": {
    "execution": {
     "iopub.execute_input": "2022-06-22T10:10:30.078473Z",
     "iopub.status.busy": "2022-06-22T10:10:30.077923Z",
     "iopub.status.idle": "2022-06-22T10:10:30.210883Z",
     "shell.execute_reply": "2022-06-22T10:10:30.211312Z"
    },
    "papermill": {
     "duration": 0.162163,
     "end_time": "2022-06-22T10:10:30.211436",
     "exception": false,
     "start_time": "2022-06-22T10:10:30.049273",
     "status": "completed"
    },
    "tags": []
   },
   "outputs": [
    {
     "name": "stdout",
     "output_type": "stream",
     "text": [
      "2\n"
     ]
    },
    {
     "data": {
      "text/plain": [
       "<matplotlib.image.AxesImage at 0x7f30faf5d390>"
      ]
     },
     "execution_count": 9,
     "metadata": {},
     "output_type": "execute_result"
    },
    {
     "data": {
      "image/png": "[encoded data removed]",
      "text/plain": [
       "<Figure size 432x288 with 1 Axes>"
      ]
     },
     "metadata": {
      "needs_background": "light"
     },
     "output_type": "display_data"
    }
   ],
   "source": [
    "image_index = 7776 # You may select anything up to 60,000\n",
    "print(train_labels[image_index]) \n",
    "plt.imshow(train_images[image_index], cmap='Greys')"
   ]
  },
  {
   "cell_type": "markdown",
   "id": "a8d2388d",
   "metadata": {
    "papermill": {
     "duration": 0.026509,
     "end_time": "2022-06-22T10:10:30.265034",
     "exception": false,
     "start_time": "2022-06-22T10:10:30.238525",
     "status": "completed"
    },
    "tags": []
   },
   "source": [
    "## Filter data to get 3 and 8 out"
   ]
  },
  {
   "cell_type": "code",
   "execution_count": 10,
   "id": "776f7fc7",
   "metadata": {
    "execution": {
     "iopub.execute_input": "2022-06-22T10:10:30.322077Z",
     "iopub.status.busy": "2022-06-22T10:10:30.321520Z",
     "iopub.status.idle": "2022-06-22T10:10:30.338121Z",
     "shell.execute_reply": "2022-06-22T10:10:30.337670Z"
    },
    "papermill": {
     "duration": 0.046616,
     "end_time": "2022-06-22T10:10:30.338222",
     "exception": false,
     "start_time": "2022-06-22T10:10:30.291606",
     "status": "completed"
    },
    "tags": []
   },
   "outputs": [],
   "source": [
    "train_filter = np.where((train_labels == 3 ) | (train_labels == 8))\n",
    "test_filter = np.where((test_labels == 3) | (test_labels == 8))\n",
    "X_train, y_train = train_images[train_filter], train_labels[train_filter]\n",
    "X_test, y_test = test_images[test_filter], test_labels[test_filter]"
   ]
  },
  {
   "cell_type": "markdown",
   "id": "948f0b7e",
   "metadata": {
    "papermill": {
     "duration": 0.026367,
     "end_time": "2022-06-22T10:10:30.391196",
     "exception": false,
     "start_time": "2022-06-22T10:10:30.364829",
     "status": "completed"
    },
    "tags": []
   },
   "source": [
    "We normalize the pizel values in the 0 to 1 range"
   ]
  },
  {
   "cell_type": "code",
   "execution_count": 11,
   "id": "ee4c2166",
   "metadata": {
    "execution": {
     "iopub.execute_input": "2022-06-22T10:10:30.448313Z",
     "iopub.status.busy": "2022-06-22T10:10:30.447767Z",
     "iopub.status.idle": "2022-06-22T10:10:30.487545Z",
     "shell.execute_reply": "2022-06-22T10:10:30.487062Z"
    },
    "papermill": {
     "duration": 0.070061,
     "end_time": "2022-06-22T10:10:30.487653",
     "exception": false,
     "start_time": "2022-06-22T10:10:30.417592",
     "status": "completed"
    },
    "tags": []
   },
   "outputs": [],
   "source": [
    "X_train = X_train/255.\n",
    "X_test = X_test/255."
   ]
  },
  {
   "cell_type": "markdown",
   "id": "ddcf4fab",
   "metadata": {
    "papermill": {
     "duration": 0.02654,
     "end_time": "2022-06-22T10:10:30.541049",
     "exception": false,
     "start_time": "2022-06-22T10:10:30.514509",
     "status": "completed"
    },
    "tags": []
   },
   "source": [
    "And setup the labels as 1 (when the digit is 3) and 0 (when the digit is 8)"
   ]
  },
  {
   "cell_type": "code",
   "execution_count": 12,
   "id": "7dc908f2",
   "metadata": {
    "execution": {
     "iopub.execute_input": "2022-06-22T10:10:30.597502Z",
     "iopub.status.busy": "2022-06-22T10:10:30.596942Z",
     "iopub.status.idle": "2022-06-22T10:10:30.608115Z",
     "shell.execute_reply": "2022-06-22T10:10:30.608533Z"
    },
    "papermill": {
     "duration": 0.041127,
     "end_time": "2022-06-22T10:10:30.608672",
     "exception": false,
     "start_time": "2022-06-22T10:10:30.567545",
     "status": "completed"
    },
    "tags": []
   },
   "outputs": [],
   "source": [
    "y_train = 1*(y_train==3)\n",
    "y_test = 1*(y_test==3)"
   ]
  },
  {
   "cell_type": "code",
   "execution_count": 13,
   "id": "01e4e969",
   "metadata": {
    "execution": {
     "iopub.execute_input": "2022-06-22T10:10:30.664827Z",
     "iopub.status.busy": "2022-06-22T10:10:30.664252Z",
     "iopub.status.idle": "2022-06-22T10:10:30.677043Z",
     "shell.execute_reply": "2022-06-22T10:10:30.677472Z"
    },
    "papermill": {
     "duration": 0.042357,
     "end_time": "2022-06-22T10:10:30.677589",
     "exception": false,
     "start_time": "2022-06-22T10:10:30.635232",
     "status": "completed"
    },
    "tags": []
   },
   "outputs": [
    {
     "data": {
      "text/plain": [
       "((11982, 28, 28), (1984, 28, 28))"
      ]
     },
     "execution_count": 13,
     "metadata": {},
     "output_type": "execute_result"
    }
   ],
   "source": [
    "X_train.shape, X_test.shape"
   ]
  },
  {
   "cell_type": "markdown",
   "id": "5ccf3f85",
   "metadata": {
    "papermill": {
     "duration": 0.026706,
     "end_time": "2022-06-22T10:10:30.730859",
     "exception": false,
     "start_time": "2022-06-22T10:10:30.704153",
     "status": "completed"
    },
    "tags": []
   },
   "source": [
    "We reshape the data to flatten the image pixels into a set of features or co-variates:"
   ]
  },
  {
   "cell_type": "code",
   "execution_count": 14,
   "id": "5286a4a3",
   "metadata": {
    "execution": {
     "iopub.execute_input": "2022-06-22T10:10:30.788256Z",
     "iopub.status.busy": "2022-06-22T10:10:30.787719Z",
     "iopub.status.idle": "2022-06-22T10:10:30.800819Z",
     "shell.execute_reply": "2022-06-22T10:10:30.800356Z"
    },
    "papermill": {
     "duration": 0.043291,
     "end_time": "2022-06-22T10:10:30.800917",
     "exception": false,
     "start_time": "2022-06-22T10:10:30.757626",
     "status": "completed"
    },
    "tags": []
   },
   "outputs": [
    {
     "data": {
      "text/plain": [
       "((11982, 784), (1984, 784))"
      ]
     },
     "execution_count": 14,
     "metadata": {},
     "output_type": "execute_result"
    }
   ],
   "source": [
    "X_train = X_train.reshape(X_train.shape[0], -1)\n",
    "X_test = X_test.reshape(X_test.shape[0], -1)\n",
    "X_train.shape, X_test.shape"
   ]
  },
  {
   "cell_type": "code",
   "execution_count": 15,
   "id": "73c5f88a",
   "metadata": {
    "execution": {
     "iopub.execute_input": "2022-06-22T10:10:30.858858Z",
     "iopub.status.busy": "2022-06-22T10:10:30.858310Z",
     "iopub.status.idle": "2022-06-22T10:10:30.875703Z",
     "shell.execute_reply": "2022-06-22T10:10:30.876122Z"
    },
    "papermill": {
     "duration": 0.048232,
     "end_time": "2022-06-22T10:10:30.876234",
     "exception": false,
     "start_time": "2022-06-22T10:10:30.828002",
     "status": "completed"
    },
    "tags": []
   },
   "outputs": [],
   "source": [
    "#Impoting functions from 'Kudzu'\n",
    "from kudzu.model import Model\n",
    "from kudzu.train import Learner\n",
    "from kudzu.optim import GD\n",
    "from kudzu.data import Data, Sampler,Dataloader\n",
    "\n",
    "from kudzu.callbacks import AccCallback\n",
    "from kudzu.callbacks import ClfCallback\n",
    "\n",
    "from kudzu.loss import MSE\n",
    "\n",
    "from kudzu.layer import Sigmoid,Relu\n",
    "from kudzu.layer import Affine"
   ]
  },
  {
   "cell_type": "markdown",
   "id": "bc01172a",
   "metadata": {
    "papermill": {
     "duration": 0.026868,
     "end_time": "2022-06-22T10:10:30.930155",
     "exception": false,
     "start_time": "2022-06-22T10:10:30.903287",
     "status": "completed"
    },
    "tags": []
   },
   "source": [
    "### Let us create a `Config` class, to store important parameters. \n",
    "This class essentially plays the role of a dictionary."
   ]
  },
  {
   "cell_type": "code",
   "execution_count": 16,
   "id": "978281aa",
   "metadata": {
    "execution": {
     "iopub.execute_input": "2022-06-22T10:10:30.987924Z",
     "iopub.status.busy": "2022-06-22T10:10:30.987380Z",
     "iopub.status.idle": "2022-06-22T10:10:30.999051Z",
     "shell.execute_reply": "2022-06-22T10:10:30.998513Z"
    },
    "papermill": {
     "duration": 0.042005,
     "end_time": "2022-06-22T10:10:30.999148",
     "exception": false,
     "start_time": "2022-06-22T10:10:30.957143",
     "status": "completed"
    },
    "tags": []
   },
   "outputs": [],
   "source": [
    "class Config:\n",
    "    pass\n",
    "config = Config()\n",
    "config.lr = 0.001\n",
    "config.num_epochs = 250\n",
    "config.bs = 50"
   ]
  },
  {
   "cell_type": "markdown",
   "id": "1385fa59",
   "metadata": {
    "papermill": {
     "duration": 0.026741,
     "end_time": "2022-06-22T10:10:31.052969",
     "exception": false,
     "start_time": "2022-06-22T10:10:31.026228",
     "status": "completed"
    },
    "tags": []
   },
   "source": [
    "### Running Models with the Training data\n",
    "Details about the network layers:\n",
    "- A first affine layer has 784 inputs and does 100 affine transforms. These are followed by a Relu\n",
    "- A second affine layer has 100 inputs from the 100 activations of the past layer, and does 100 affine transforms. These are followed by a Relu\n",
    "- A third affine layer has 100 activations and does 2 affine transformations to create an embedding for visualization. There is no non-linearity here.\n",
    "- A final \"logistic regression\" which has an affine transform from 2 inputs to 1 output, which is squeezed through a sigmoid.\n"
   ]
  },
  {
   "cell_type": "code",
   "execution_count": 17,
   "id": "2b9c66db",
   "metadata": {
    "execution": {
     "iopub.execute_input": "2022-06-22T10:10:31.111085Z",
     "iopub.status.busy": "2022-06-22T10:10:31.110520Z",
     "iopub.status.idle": "2022-06-22T10:10:31.122690Z",
     "shell.execute_reply": "2022-06-22T10:10:31.122249Z"
    },
    "papermill": {
     "duration": 0.042815,
     "end_time": "2022-06-22T10:10:31.122788",
     "exception": false,
     "start_time": "2022-06-22T10:10:31.079973",
     "status": "completed"
    },
    "tags": []
   },
   "outputs": [],
   "source": [
    "data = Data(X_train, y_train.reshape(-1,1))\n",
    "sampler = Sampler(data, config.bs, shuffle=True)\n",
    "\n",
    "dl = Dataloader(data, sampler)\n",
    "\n",
    "opt = GD(config.lr)\n",
    "loss = MSE()"
   ]
  },
  {
   "cell_type": "code",
   "execution_count": 18,
   "id": "b275e4c2",
   "metadata": {
    "execution": {
     "iopub.execute_input": "2022-06-22T10:10:31.181001Z",
     "iopub.status.busy": "2022-06-22T10:10:31.180413Z",
     "iopub.status.idle": "2022-06-22T10:10:31.191951Z",
     "shell.execute_reply": "2022-06-22T10:10:31.191512Z"
    },
    "papermill": {
     "duration": 0.042176,
     "end_time": "2022-06-22T10:10:31.192047",
     "exception": false,
     "start_time": "2022-06-22T10:10:31.149871",
     "status": "completed"
    },
    "tags": []
   },
   "outputs": [],
   "source": [
    "training_data_x = X_train\n",
    "testing_data_x = X_test\n",
    "training_data_y = y_train.reshape(-1,1)\n",
    "testing_data_y = y_test.reshape(-1,1)"
   ]
  },
  {
   "cell_type": "code",
   "execution_count": 19,
   "id": "76951160",
   "metadata": {
    "execution": {
     "iopub.execute_input": "2022-06-22T10:10:31.250373Z",
     "iopub.status.busy": "2022-06-22T10:10:31.249817Z",
     "iopub.status.idle": "2022-06-22T10:10:31.265356Z",
     "shell.execute_reply": "2022-06-22T10:10:31.265814Z"
    },
    "papermill": {
     "duration": 0.046844,
     "end_time": "2022-06-22T10:10:31.265927",
     "exception": false,
     "start_time": "2022-06-22T10:10:31.219083",
     "status": "completed"
    },
    "tags": []
   },
   "outputs": [
    {
     "name": "stdout",
     "output_type": "stream",
     "text": [
      "xavier\n",
      "xavier\n",
      "xavier\n",
      "xavier\n",
      "xavier\n"
     ]
    }
   ],
   "source": [
    "layers = [Affine(\"first\", 784, 100), Relu(\"first\"), Affine(\"second\", 100, 100), Relu(\"second\"), Affine(\"third\", 100, 2), Affine(\"last\", 2, 1), Sigmoid(\"last\")]\n",
    "model_nn = Model(layers)\n",
    "model_lr = Model([Affine(\"logits\", 784, 1), Sigmoid(\"sigmoid\")])"
   ]
  },
  {
   "cell_type": "code",
   "execution_count": 20,
   "id": "6eede77a",
   "metadata": {
    "execution": {
     "iopub.execute_input": "2022-06-22T10:10:31.325063Z",
     "iopub.status.busy": "2022-06-22T10:10:31.324472Z",
     "iopub.status.idle": "2022-06-22T10:10:31.336239Z",
     "shell.execute_reply": "2022-06-22T10:10:31.335782Z"
    },
    "papermill": {
     "duration": 0.04294,
     "end_time": "2022-06-22T10:10:31.336340",
     "exception": false,
     "start_time": "2022-06-22T10:10:31.293400",
     "status": "completed"
    },
    "tags": []
   },
   "outputs": [],
   "source": [
    "nn_learner = Learner(loss, model_nn, opt, config.num_epochs)\n",
    "acc_nn = ClfCallback(nn_learner, config.bs, training_data_x , testing_data_x, training_data_y, testing_data_y)\n",
    "nn_learner.set_callbacks([acc_nn])"
   ]
  },
  {
   "cell_type": "code",
   "execution_count": 21,
   "id": "877b6cc7",
   "metadata": {
    "execution": {
     "iopub.execute_input": "2022-06-22T10:10:31.394508Z",
     "iopub.status.busy": "2022-06-22T10:10:31.393938Z",
     "iopub.status.idle": "2022-06-22T10:10:31.406579Z",
     "shell.execute_reply": "2022-06-22T10:10:31.407015Z"
    },
    "papermill": {
     "duration": 0.043449,
     "end_time": "2022-06-22T10:10:31.407130",
     "exception": false,
     "start_time": "2022-06-22T10:10:31.363681",
     "status": "completed"
    },
    "tags": []
   },
   "outputs": [],
   "source": [
    "lr_learner = Learner(loss, model_lr, opt, config.num_epochs)\n",
    "acc_lr = ClfCallback(lr_learner, config.bs, training_data_x , testing_data_x, training_data_y, testing_data_y)\n",
    "lr_learner.set_callbacks([acc_lr])"
   ]
  },
  {
   "cell_type": "code",
   "execution_count": 22,
   "id": "d9b133c3",
   "metadata": {
    "execution": {
     "iopub.execute_input": "2022-06-22T10:10:31.465366Z",
     "iopub.status.busy": "2022-06-22T10:10:31.464805Z",
     "iopub.status.idle": "2022-06-22T10:13:26.757114Z",
     "shell.execute_reply": "2022-06-22T10:13:26.757589Z"
    },
    "papermill": {
     "duration": 175.323147,
     "end_time": "2022-06-22T10:13:26.757714",
     "exception": false,
     "start_time": "2022-06-22T10:10:31.434567",
     "status": "completed"
    },
    "tags": []
   },
   "outputs": [
    {
     "name": "stdout",
     "output_type": "stream",
     "text": [
      "Epoch 0, Loss 0.2513\n",
      "Training Accuracy: 0.5936, Testing Accuracy: 0.5383\n",
      "\n"
     ]
    },
    {
     "name": "stdout",
     "output_type": "stream",
     "text": [
      "Epoch 10, Loss 0.0994\n",
      "Training Accuracy: 0.9181, Testing Accuracy: 0.9279\n",
      "\n"
     ]
    },
    {
     "name": "stdout",
     "output_type": "stream",
     "text": [
      "Epoch 20, Loss 0.0584\n",
      "Training Accuracy: 0.9407, Testing Accuracy: 0.9511\n",
      "\n"
     ]
    },
    {
     "name": "stdout",
     "output_type": "stream",
     "text": [
      "Epoch 30, Loss 0.0452\n",
      "Training Accuracy: 0.9508, Testing Accuracy: 0.9612\n",
      "\n"
     ]
    },
    {
     "name": "stdout",
     "output_type": "stream",
     "text": [
      "Epoch 40, Loss 0.0389\n",
      "Training Accuracy: 0.9555, Testing Accuracy: 0.9672\n",
      "\n"
     ]
    },
    {
     "name": "stdout",
     "output_type": "stream",
     "text": [
      "Epoch 50, Loss 0.0352\n",
      "Training Accuracy: 0.9589, Testing Accuracy: 0.9672\n",
      "\n"
     ]
    },
    {
     "name": "stdout",
     "output_type": "stream",
     "text": [
      "Epoch 60, Loss 0.0327\n",
      "Training Accuracy: 0.9627, Testing Accuracy: 0.9693\n",
      "\n"
     ]
    },
    {
     "name": "stdout",
     "output_type": "stream",
     "text": [
      "Epoch 70, Loss 0.0308\n",
      "Training Accuracy: 0.9643, Testing Accuracy: 0.9677\n",
      "\n"
     ]
    },
    {
     "name": "stdout",
     "output_type": "stream",
     "text": [
      "Epoch 80, Loss 0.0294\n",
      "Training Accuracy: 0.9657, Testing Accuracy: 0.9688\n",
      "\n"
     ]
    },
    {
     "name": "stdout",
     "output_type": "stream",
     "text": [
      "Epoch 90, Loss 0.0282\n",
      "Training Accuracy: 0.9675, Testing Accuracy: 0.9682\n",
      "\n"
     ]
    },
    {
     "name": "stdout",
     "output_type": "stream",
     "text": [
      "Epoch 100, Loss 0.0272\n",
      "Training Accuracy: 0.9685, Testing Accuracy: 0.9688\n",
      "\n"
     ]
    },
    {
     "name": "stdout",
     "output_type": "stream",
     "text": [
      "Epoch 110, Loss 0.0263\n",
      "Training Accuracy: 0.9695, Testing Accuracy: 0.9682\n",
      "\n"
     ]
    },
    {
     "name": "stdout",
     "output_type": "stream",
     "text": [
      "Epoch 120, Loss 0.0256\n",
      "Training Accuracy: 0.9704, Testing Accuracy: 0.9688\n",
      "\n"
     ]
    },
    {
     "name": "stdout",
     "output_type": "stream",
     "text": [
      "Epoch 130, Loss 0.0249\n",
      "Training Accuracy: 0.9716, Testing Accuracy: 0.9703\n",
      "\n"
     ]
    },
    {
     "name": "stdout",
     "output_type": "stream",
     "text": [
      "Epoch 140, Loss 0.0243\n",
      "Training Accuracy: 0.9727, Testing Accuracy: 0.9693\n",
      "\n"
     ]
    },
    {
     "name": "stdout",
     "output_type": "stream",
     "text": [
      "Epoch 150, Loss 0.0238\n",
      "Training Accuracy: 0.9733, Testing Accuracy: 0.9698\n",
      "\n"
     ]
    },
    {
     "name": "stdout",
     "output_type": "stream",
     "text": [
      "Epoch 160, Loss 0.0233\n",
      "Training Accuracy: 0.9735, Testing Accuracy: 0.9703\n",
      "\n"
     ]
    },
    {
     "name": "stdout",
     "output_type": "stream",
     "text": [
      "Epoch 170, Loss 0.0228\n",
      "Training Accuracy: 0.9737, Testing Accuracy: 0.9713\n",
      "\n"
     ]
    },
    {
     "name": "stdout",
     "output_type": "stream",
     "text": [
      "Epoch 180, Loss 0.0224\n",
      "Training Accuracy: 0.9740, Testing Accuracy: 0.9708\n",
      "\n"
     ]
    },
    {
     "name": "stdout",
     "output_type": "stream",
     "text": [
      "Epoch 190, Loss 0.022\n",
      "Training Accuracy: 0.9744, Testing Accuracy: 0.9708\n",
      "\n"
     ]
    },
    {
     "name": "stdout",
     "output_type": "stream",
     "text": [
      "Epoch 200, Loss 0.0216\n",
      "Training Accuracy: 0.9750, Testing Accuracy: 0.9708\n",
      "\n"
     ]
    },
    {
     "name": "stdout",
     "output_type": "stream",
     "text": [
      "Epoch 210, Loss 0.0212\n",
      "Training Accuracy: 0.9760, Testing Accuracy: 0.9703\n",
      "\n"
     ]
    },
    {
     "name": "stdout",
     "output_type": "stream",
     "text": [
      "Epoch 220, Loss 0.0208\n",
      "Training Accuracy: 0.9763, Testing Accuracy: 0.9703\n",
      "\n"
     ]
    },
    {
     "name": "stdout",
     "output_type": "stream",
     "text": [
      "Epoch 230, Loss 0.0205\n",
      "Training Accuracy: 0.9765, Testing Accuracy: 0.9703\n",
      "\n"
     ]
    },
    {
     "name": "stdout",
     "output_type": "stream",
     "text": [
      "Epoch 240, Loss 0.0202\n",
      "Training Accuracy: 0.9770, Testing Accuracy: 0.9718\n",
      "\n"
     ]
    },
    {
     "data": {
      "text/plain": [
       "0.022682739569589917"
      ]
     },
     "execution_count": 22,
     "metadata": {},
     "output_type": "execute_result"
    }
   ],
   "source": [
    "nn_learner.train_loop(dl)"
   ]
  },
  {
   "cell_type": "code",
   "execution_count": 23,
   "id": "e0163366",
   "metadata": {
    "execution": {
     "iopub.execute_input": "2022-06-22T10:13:26.829713Z",
     "iopub.status.busy": "2022-06-22T10:13:26.829151Z",
     "iopub.status.idle": "2022-06-22T10:13:39.045801Z",
     "shell.execute_reply": "2022-06-22T10:13:39.046260Z"
    },
    "papermill": {
     "duration": 12.254384,
     "end_time": "2022-06-22T10:13:39.046392",
     "exception": false,
     "start_time": "2022-06-22T10:13:26.792008",
     "status": "completed"
    },
    "tags": []
   },
   "outputs": [
    {
     "name": "stdout",
     "output_type": "stream",
     "text": [
      "Epoch 0, Loss 0.2291\n",
      "Training Accuracy: 0.7380, Testing Accuracy: 0.7308\n",
      "\n"
     ]
    },
    {
     "name": "stdout",
     "output_type": "stream",
     "text": [
      "Epoch 10, Loss 0.1\n",
      "Training Accuracy: 0.9133, Testing Accuracy: 0.9274\n",
      "\n"
     ]
    },
    {
     "name": "stdout",
     "output_type": "stream",
     "text": [
      "Epoch 20, Loss 0.078\n",
      "Training Accuracy: 0.9271, Testing Accuracy: 0.9380\n",
      "\n"
     ]
    },
    {
     "name": "stdout",
     "output_type": "stream",
     "text": [
      "Epoch 30, Loss 0.0677\n",
      "Training Accuracy: 0.9346, Testing Accuracy: 0.9481\n",
      "\n"
     ]
    },
    {
     "name": "stdout",
     "output_type": "stream",
     "text": [
      "Epoch 40, Loss 0.0614\n",
      "Training Accuracy: 0.9402, Testing Accuracy: 0.9521\n",
      "\n"
     ]
    },
    {
     "name": "stdout",
     "output_type": "stream",
     "text": [
      "Epoch 50, Loss 0.0571\n",
      "Training Accuracy: 0.9442, Testing Accuracy: 0.9541\n",
      "\n"
     ]
    },
    {
     "name": "stdout",
     "output_type": "stream",
     "text": [
      "Epoch 60, Loss 0.0539\n",
      "Training Accuracy: 0.9459, Testing Accuracy: 0.9556\n",
      "\n"
     ]
    },
    {
     "name": "stdout",
     "output_type": "stream",
     "text": [
      "Epoch 70, Loss 0.0514\n",
      "Training Accuracy: 0.9474, Testing Accuracy: 0.9561\n",
      "\n"
     ]
    },
    {
     "name": "stdout",
     "output_type": "stream",
     "text": [
      "Epoch 80, Loss 0.0493\n",
      "Training Accuracy: 0.9491, Testing Accuracy: 0.9577\n",
      "\n"
     ]
    },
    {
     "name": "stdout",
     "output_type": "stream",
     "text": [
      "Epoch 90, Loss 0.0476\n",
      "Training Accuracy: 0.9504, Testing Accuracy: 0.9597\n",
      "\n"
     ]
    },
    {
     "name": "stdout",
     "output_type": "stream",
     "text": [
      "Epoch 100, Loss 0.0462\n",
      "Training Accuracy: 0.9523, Testing Accuracy: 0.9617\n",
      "\n"
     ]
    },
    {
     "name": "stdout",
     "output_type": "stream",
     "text": [
      "Epoch 110, Loss 0.045\n",
      "Training Accuracy: 0.9531, Testing Accuracy: 0.9622\n",
      "\n"
     ]
    },
    {
     "name": "stdout",
     "output_type": "stream",
     "text": [
      "Epoch 120, Loss 0.0439\n",
      "Training Accuracy: 0.9539, Testing Accuracy: 0.9627\n",
      "\n"
     ]
    },
    {
     "name": "stdout",
     "output_type": "stream",
     "text": [
      "Epoch 130, Loss 0.043\n",
      "Training Accuracy: 0.9547, Testing Accuracy: 0.9637\n",
      "\n"
     ]
    },
    {
     "name": "stdout",
     "output_type": "stream",
     "text": [
      "Epoch 140, Loss 0.0422\n",
      "Training Accuracy: 0.9553, Testing Accuracy: 0.9642\n",
      "\n"
     ]
    },
    {
     "name": "stdout",
     "output_type": "stream",
     "text": [
      "Epoch 150, Loss 0.0414\n",
      "Training Accuracy: 0.9557, Testing Accuracy: 0.9642\n",
      "\n"
     ]
    },
    {
     "name": "stdout",
     "output_type": "stream",
     "text": [
      "Epoch 160, Loss 0.0407\n",
      "Training Accuracy: 0.9565, Testing Accuracy: 0.9642\n",
      "\n"
     ]
    },
    {
     "name": "stdout",
     "output_type": "stream",
     "text": [
      "Epoch 170, Loss 0.0401\n",
      "Training Accuracy: 0.9573, Testing Accuracy: 0.9642\n",
      "\n"
     ]
    },
    {
     "name": "stdout",
     "output_type": "stream",
     "text": [
      "Epoch 180, Loss 0.0395\n",
      "Training Accuracy: 0.9581, Testing Accuracy: 0.9657\n",
      "\n"
     ]
    },
    {
     "name": "stdout",
     "output_type": "stream",
     "text": [
      "Epoch 190, Loss 0.039\n",
      "Training Accuracy: 0.9585, Testing Accuracy: 0.9657\n",
      "\n"
     ]
    },
    {
     "name": "stdout",
     "output_type": "stream",
     "text": [
      "Epoch 200, Loss 0.0385\n",
      "Training Accuracy: 0.9588, Testing Accuracy: 0.9662\n",
      "\n"
     ]
    },
    {
     "name": "stdout",
     "output_type": "stream",
     "text": [
      "Epoch 210, Loss 0.0381\n",
      "Training Accuracy: 0.9589, Testing Accuracy: 0.9667\n",
      "\n"
     ]
    },
    {
     "name": "stdout",
     "output_type": "stream",
     "text": [
      "Epoch 220, Loss 0.0377\n",
      "Training Accuracy: 0.9596, Testing Accuracy: 0.9667\n",
      "\n"
     ]
    },
    {
     "name": "stdout",
     "output_type": "stream",
     "text": [
      "Epoch 230, Loss 0.0373\n",
      "Training Accuracy: 0.9602, Testing Accuracy: 0.9667\n",
      "\n"
     ]
    },
    {
     "name": "stdout",
     "output_type": "stream",
     "text": [
      "Epoch 240, Loss 0.0369\n",
      "Training Accuracy: 0.9603, Testing Accuracy: 0.9662\n",
      "\n"
     ]
    },
    {
     "data": {
      "text/plain": [
       "0.05523800189205564"
      ]
     },
     "execution_count": 23,
     "metadata": {},
     "output_type": "execute_result"
    }
   ],
   "source": [
    "lr_learner.train_loop(dl)"
   ]
  },
  {
   "cell_type": "code",
   "execution_count": 24,
   "id": "ca410940",
   "metadata": {
    "execution": {
     "iopub.execute_input": "2022-06-22T10:13:39.133720Z",
     "iopub.status.busy": "2022-06-22T10:13:39.133140Z",
     "iopub.status.idle": "2022-06-22T10:13:39.349470Z",
     "shell.execute_reply": "2022-06-22T10:13:39.349918Z"
    },
    "papermill": {
     "duration": 0.262022,
     "end_time": "2022-06-22T10:13:39.350046",
     "exception": false,
     "start_time": "2022-06-22T10:13:39.088024",
     "status": "completed"
    },
    "tags": []
   },
   "outputs": [
    {
     "data": {
      "text/plain": [
       "<matplotlib.legend.Legend at 0x7f30faabba58>"
      ]
     },
     "execution_count": 24,
     "metadata": {},
     "output_type": "execute_result"
    },
    {
     "data": {
      "image/png": "[encoded data removed]",
      "text/plain": [
       "<Figure size 1080x720 with 1 Axes>"
      ]
     },
     "metadata": {
      "needs_background": "light"
     },
     "output_type": "display_data"
    }
   ],
   "source": [
    "#comparing the results of NN and LR\n",
    "plt.figure(figsize=(15,10))\n",
    "\n",
    "# Neural Network plots\n",
    "plt.plot(acc_nn.accuracies, 'r-', label = \"Training Accuracies - NN\")\n",
    "plt.plot(acc_nn.test_accuracies, 'g-', label = \"Testing Accuracies - NN\")\n",
    "\n",
    "# Logistic Regression plots\n",
    "plt.plot(acc_lr.accuracies, 'k-', label = \"Training Accuracies - LR\")\n",
    "plt.plot(acc_lr.test_accuracies, 'b-', label = \"Testing Accuracies - LR\")\n",
    "plt.legend()"
   ]
  },
  {
   "cell_type": "markdown",
   "id": "80dfb35c",
   "metadata": {
    "papermill": {
     "duration": 0.042326,
     "end_time": "2022-06-22T10:13:39.435651",
     "exception": false,
     "start_time": "2022-06-22T10:13:39.393325",
     "status": "completed"
    },
    "tags": []
   },
   "source": [
    "#### Plotting the outputs of this layer of the NN.\n"
   ]
  },
  {
   "cell_type": "code",
   "execution_count": 25,
   "id": "45eb2ff5",
   "metadata": {
    "execution": {
     "iopub.execute_input": "2022-06-22T10:13:39.523582Z",
     "iopub.status.busy": "2022-06-22T10:13:39.523025Z",
     "iopub.status.idle": "2022-06-22T10:13:39.558798Z",
     "shell.execute_reply": "2022-06-22T10:13:39.559263Z"
    },
    "papermill": {
     "duration": 0.081539,
     "end_time": "2022-06-22T10:13:39.559389",
     "exception": false,
     "start_time": "2022-06-22T10:13:39.477850",
     "status": "completed"
    },
    "tags": []
   },
   "outputs": [],
   "source": [
    "new_model = Model(layers[:-2])\n",
    "testing_plot = new_model(testing_data_x)"
   ]
  },
  {
   "cell_type": "code",
   "execution_count": 26,
   "id": "4c0a5485",
   "metadata": {
    "execution": {
     "iopub.execute_input": "2022-06-22T10:13:39.653211Z",
     "iopub.status.busy": "2022-06-22T10:13:39.652657Z",
     "iopub.status.idle": "2022-06-22T10:13:39.887166Z",
     "shell.execute_reply": "2022-06-22T10:13:39.887596Z"
    },
    "papermill": {
     "duration": 0.285503,
     "end_time": "2022-06-22T10:13:39.887721",
     "exception": false,
     "start_time": "2022-06-22T10:13:39.602218",
     "status": "completed"
    },
    "tags": []
   },
   "outputs": [
    {
     "data": {
      "text/plain": [
       "Text(0.5, 1.0, 'Outputs')"
      ]
     },
     "execution_count": 26,
     "metadata": {},
     "output_type": "execute_result"
    },
    {
     "data": {
      "image/png": "[encoded data removed]",
      "text/plain": [
       "<Figure size 576x504 with 1 Axes>"
      ]
     },
     "metadata": {
      "needs_background": "light"
     },
     "output_type": "display_data"
    }
   ],
   "source": [
    "# Plotting the scatter plot of points and color coding by class\n",
    "plt.figure(figsize=(8,7))\n",
    "plt.scatter(testing_plot[:,0], testing_plot[:,1], alpha = 0.1, c = y_test.ravel());\n",
    "plt.title('Outputs')"
   ]
  },
  {
   "cell_type": "markdown",
   "id": "a74fcf8f",
   "metadata": {
    "papermill": {
     "duration": 0.046085,
     "end_time": "2022-06-22T10:13:40.001290",
     "exception": false,
     "start_time": "2022-06-22T10:13:39.955205",
     "status": "completed"
    },
    "tags": []
   },
   "source": [
    "Probability contours"
   ]
  },
  {
   "cell_type": "code",
   "execution_count": 27,
   "id": "d0afc8e3",
   "metadata": {
    "execution": {
     "iopub.execute_input": "2022-06-22T10:13:40.097001Z",
     "iopub.status.busy": "2022-06-22T10:13:40.096421Z",
     "iopub.status.idle": "2022-06-22T10:13:40.107597Z",
     "shell.execute_reply": "2022-06-22T10:13:40.108035Z"
    },
    "papermill": {
     "duration": 0.060948,
     "end_time": "2022-06-22T10:13:40.108150",
     "exception": false,
     "start_time": "2022-06-22T10:13:40.047202",
     "status": "completed"
    },
    "tags": []
   },
   "outputs": [],
   "source": [
    "model_prob = Model(layers[-2:]) "
   ]
  },
  {
   "cell_type": "code",
   "execution_count": 28,
   "id": "9b96e238",
   "metadata": {
    "execution": {
     "iopub.execute_input": "2022-06-22T10:13:40.208725Z",
     "iopub.status.busy": "2022-06-22T10:13:40.205771Z",
     "iopub.status.idle": "2022-06-22T10:13:40.220754Z",
     "shell.execute_reply": "2022-06-22T10:13:40.221153Z"
    },
    "papermill": {
     "duration": 0.067136,
     "end_time": "2022-06-22T10:13:40.221276",
     "exception": false,
     "start_time": "2022-06-22T10:13:40.154140",
     "status": "completed"
    },
    "tags": []
   },
   "outputs": [],
   "source": [
    "#creating the x and y ranges according to the above generated plot.\n",
    "x_range = np.linspace(-4, 1, 100) \n",
    "y_range = np.linspace(-6, 6, 100) \n",
    "x_grid, y_grid = np.meshgrid(x_range, y_range) # x_grid and y_grig are of size 100 X 100\n",
    "\n",
    "# converting x_grid and y_grid to continuous arrays\n",
    "x_gridflat = np.ravel(x_grid)\n",
    "y_gridflat = np.ravel(y_grid)\n",
    "\n",
    "# The last layer of the current model takes two columns as input. Hence transpose of np.vstack() is required.\n",
    "X = np.vstack((x_gridflat, y_gridflat)).T\n",
    "\n",
    "prob_contour = model_prob(X).reshape(100,100) "
   ]
  },
  {
   "cell_type": "code",
   "execution_count": 29,
   "id": "da72499a",
   "metadata": {
    "execution": {
     "iopub.execute_input": "2022-06-22T10:13:40.324491Z",
     "iopub.status.busy": "2022-06-22T10:13:40.323055Z",
     "iopub.status.idle": "2022-06-22T10:13:40.568869Z",
     "shell.execute_reply": "2022-06-22T10:13:40.569580Z"
    },
    "papermill": {
     "duration": 0.297557,
     "end_time": "2022-06-22T10:13:40.569712",
     "exception": false,
     "start_time": "2022-06-22T10:13:40.272155",
     "status": "completed"
    },
    "tags": []
   },
   "outputs": [
    {
     "data": {
      "image/png": "[encoded data removed]",
      "text/plain": [
       "<Figure size 720x648 with 1 Axes>"
      ]
     },
     "metadata": {
      "needs_background": "light"
     },
     "output_type": "display_data"
    }
   ],
   "source": [
    "plt.figure(figsize=(10,9))\n",
    "plt.scatter(testing_plot[:,0], testing_plot[:,1], alpha = 0.1, c = y_test.ravel())\n",
    "contours = plt.contour(x_grid,y_grid,prob_contour)\n",
    "plt.title('Probability Contours')\n",
    "plt.clabel(contours, inline = True );"
   ]
  },
  {
   "cell_type": "code",
   "execution_count": null,
   "id": "e81b4ac7",
   "metadata": {
    "papermill": {
     "duration": 0.048194,
     "end_time": "2022-06-22T10:13:40.666535",
     "exception": false,
     "start_time": "2022-06-22T10:13:40.618341",
     "status": "completed"
    },
    "tags": []
   },
   "outputs": [],
   "source": []
  }
 ],
 "metadata": {
  "kernelspec": {
   "display_name": "Python 3",
   "language": "python",
   "name": "python3"
  },
  "language_info": {
   "codemirror_mode": {
    "name": "ipython",
    "version": 3
   },
   "file_extension": ".py",
   "mimetype": "text/x-python",
   "name": "python",
   "nbconvert_exporter": "python",
   "pygments_lexer": "ipython3",
   "version": "3.6.15"
  },
  "papermill": {
   "default_parameters": {},
   "duration": 195.518069,
   "end_time": "2022-06-22T10:13:41.033397",
   "environment_variables": {},
   "exception": null,
   "input_path": "2020-08-11-part2.ipynb",
   "output_path": "2020-08-11-part2.ipynb",
   "parameters": {},
   "start_time": "2022-06-22T10:10:25.515328",
   "version": "2.3.3"
  }
 },
 "nbformat": 4,
 "nbformat_minor": 5
}