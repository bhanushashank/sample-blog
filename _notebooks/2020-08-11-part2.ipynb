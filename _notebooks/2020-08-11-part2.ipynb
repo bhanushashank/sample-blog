{
 "cells": [
  {
   "cell_type": "markdown",
   "id": "98380cd3",
   "metadata": {
    "papermill": {
     "duration": 0.028642,
     "end_time": "2022-05-09T00:38:03.194585",
     "exception": false,
     "start_time": "2022-05-09T00:38:03.165943",
     "status": "completed"
    },
    "tags": []
   },
   "source": [
    "# Distinguish Your Own Digits (DYOD)"
   ]
  },
  {
   "cell_type": "markdown",
   "id": "ef31240d",
   "metadata": {
    "papermill": {
     "duration": 0.025849,
     "end_time": "2022-05-09T00:38:03.245908",
     "exception": false,
     "start_time": "2022-05-09T00:38:03.220059",
     "status": "completed"
    },
    "tags": []
   },
   "source": [
    "You are going to write a classifier that distinguishes between the number 3 and number 8."
   ]
  },
  {
   "cell_type": "code",
   "execution_count": 1,
   "id": "b15c8646",
   "metadata": {
    "execution": {
     "iopub.execute_input": "2022-05-09T00:38:03.305267Z",
     "iopub.status.busy": "2022-05-09T00:38:03.304757Z",
     "iopub.status.idle": "2022-05-09T00:38:03.314433Z",
     "shell.execute_reply": "2022-05-09T00:38:03.314835Z"
    },
    "papermill": {
     "duration": 0.044301,
     "end_time": "2022-05-09T00:38:03.314964",
     "exception": false,
     "start_time": "2022-05-09T00:38:03.270663",
     "status": "completed"
    },
    "tags": []
   },
   "outputs": [],
   "source": [
    "%load_ext autoreload\n",
    "%autoreload 2"
   ]
  },
  {
   "cell_type": "code",
   "execution_count": 2,
   "id": "22ef38dc",
   "metadata": {
    "execution": {
     "iopub.execute_input": "2022-05-09T00:38:03.368069Z",
     "iopub.status.busy": "2022-05-09T00:38:03.367576Z",
     "iopub.status.idle": "2022-05-09T00:38:03.872997Z",
     "shell.execute_reply": "2022-05-09T00:38:03.872547Z"
    },
    "papermill": {
     "duration": 0.533383,
     "end_time": "2022-05-09T00:38:03.873110",
     "exception": false,
     "start_time": "2022-05-09T00:38:03.339727",
     "status": "completed"
    },
    "tags": []
   },
   "outputs": [],
   "source": [
    "%matplotlib inline\n",
    "import numpy as np\n",
    "import matplotlib.pyplot as plt\n",
    "import pandas as pd"
   ]
  },
  {
   "cell_type": "markdown",
   "id": "ba036198",
   "metadata": {
    "papermill": {
     "duration": 0.024844,
     "end_time": "2022-05-09T00:38:03.922832",
     "exception": false,
     "start_time": "2022-05-09T00:38:03.897988",
     "status": "completed"
    },
    "tags": []
   },
   "source": [
    "From the command line run `pip install mnist`. This is a library that will help you bring down the mnist dataset. If you run this from a notebook, you need to put  `!pip install mnist` in a cell by itself."
   ]
  },
  {
   "cell_type": "code",
   "execution_count": 3,
   "id": "bb6ad8a1",
   "metadata": {
    "execution": {
     "iopub.execute_input": "2022-05-09T00:38:04.007243Z",
     "iopub.status.busy": "2022-05-09T00:38:04.003273Z",
     "iopub.status.idle": "2022-05-09T00:38:06.067603Z",
     "shell.execute_reply": "2022-05-09T00:38:06.068051Z"
    },
    "papermill": {
     "duration": 2.120424,
     "end_time": "2022-05-09T00:38:06.068181",
     "exception": false,
     "start_time": "2022-05-09T00:38:03.947757",
     "status": "completed"
    },
    "tags": []
   },
   "outputs": [
    {
     "name": "stdout",
     "output_type": "stream",
     "text": [
      "Collecting mnist\r\n"
     ]
    },
    {
     "name": "stdout",
     "output_type": "stream",
     "text": [
      "  Downloading mnist-0.2.2-py2.py3-none-any.whl (3.5 kB)\r\n",
      "Requirement already satisfied: numpy in /opt/hostedtoolcache/Python/3.6.15/x64/lib/python3.6/site-packages (from mnist) (1.19.5)\r\n"
     ]
    },
    {
     "name": "stdout",
     "output_type": "stream",
     "text": [
      "Installing collected packages: mnist\r\n"
     ]
    },
    {
     "name": "stdout",
     "output_type": "stream",
     "text": [
      "Successfully installed mnist-0.2.2\r\n"
     ]
    }
   ],
   "source": [
    "!pip install mnist"
   ]
  },
  {
   "cell_type": "markdown",
   "id": "69df9c9a",
   "metadata": {
    "papermill": {
     "duration": 0.0259,
     "end_time": "2022-05-09T00:38:06.120231",
     "exception": false,
     "start_time": "2022-05-09T00:38:06.094331",
     "status": "completed"
    },
    "tags": []
   },
   "source": [
    "## Preparing the Data"
   ]
  },
  {
   "cell_type": "code",
   "execution_count": 4,
   "id": "7f69d806",
   "metadata": {
    "execution": {
     "iopub.execute_input": "2022-05-09T00:38:06.175288Z",
     "iopub.status.busy": "2022-05-09T00:38:06.174798Z",
     "iopub.status.idle": "2022-05-09T00:38:06.188482Z",
     "shell.execute_reply": "2022-05-09T00:38:06.188073Z"
    },
    "papermill": {
     "duration": 0.04249,
     "end_time": "2022-05-09T00:38:06.188586",
     "exception": false,
     "start_time": "2022-05-09T00:38:06.146096",
     "status": "completed"
    },
    "tags": []
   },
   "outputs": [],
   "source": [
    "import mnist"
   ]
  },
  {
   "cell_type": "code",
   "execution_count": 5,
   "id": "a411e44f",
   "metadata": {
    "execution": {
     "iopub.execute_input": "2022-05-09T00:38:06.244114Z",
     "iopub.status.busy": "2022-05-09T00:38:06.243617Z",
     "iopub.status.idle": "2022-05-09T00:38:07.097335Z",
     "shell.execute_reply": "2022-05-09T00:38:07.097742Z"
    },
    "papermill": {
     "duration": 0.883252,
     "end_time": "2022-05-09T00:38:07.097877",
     "exception": false,
     "start_time": "2022-05-09T00:38:06.214625",
     "status": "completed"
    },
    "tags": []
   },
   "outputs": [],
   "source": [
    "train_images = mnist.train_images()\n",
    "train_labels = mnist.train_labels()"
   ]
  },
  {
   "cell_type": "code",
   "execution_count": 6,
   "id": "dceab3a5",
   "metadata": {
    "execution": {
     "iopub.execute_input": "2022-05-09T00:38:07.153183Z",
     "iopub.status.busy": "2022-05-09T00:38:07.152679Z",
     "iopub.status.idle": "2022-05-09T00:38:07.166233Z",
     "shell.execute_reply": "2022-05-09T00:38:07.165806Z"
    },
    "papermill": {
     "duration": 0.042331,
     "end_time": "2022-05-09T00:38:07.166347",
     "exception": false,
     "start_time": "2022-05-09T00:38:07.124016",
     "status": "completed"
    },
    "tags": []
   },
   "outputs": [
    {
     "data": {
      "text/plain": [
       "((60000, 28, 28), (60000,))"
      ]
     },
     "execution_count": 6,
     "metadata": {},
     "output_type": "execute_result"
    }
   ],
   "source": [
    "train_images.shape, train_labels.shape"
   ]
  },
  {
   "cell_type": "code",
   "execution_count": 7,
   "id": "f50dc2bb",
   "metadata": {
    "execution": {
     "iopub.execute_input": "2022-05-09T00:38:07.221973Z",
     "iopub.status.busy": "2022-05-09T00:38:07.221475Z",
     "iopub.status.idle": "2022-05-09T00:38:07.616371Z",
     "shell.execute_reply": "2022-05-09T00:38:07.615373Z"
    },
    "papermill": {
     "duration": 0.424073,
     "end_time": "2022-05-09T00:38:07.616492",
     "exception": false,
     "start_time": "2022-05-09T00:38:07.192419",
     "status": "completed"
    },
    "tags": []
   },
   "outputs": [],
   "source": [
    "test_images = mnist.test_images()\n",
    "test_labels = mnist.test_labels()"
   ]
  },
  {
   "cell_type": "code",
   "execution_count": 8,
   "id": "fc38cf1b",
   "metadata": {
    "execution": {
     "iopub.execute_input": "2022-05-09T00:38:07.672892Z",
     "iopub.status.busy": "2022-05-09T00:38:07.672066Z",
     "iopub.status.idle": "2022-05-09T00:38:07.684445Z",
     "shell.execute_reply": "2022-05-09T00:38:07.684038Z"
    },
    "papermill": {
     "duration": 0.041583,
     "end_time": "2022-05-09T00:38:07.684548",
     "exception": false,
     "start_time": "2022-05-09T00:38:07.642965",
     "status": "completed"
    },
    "tags": []
   },
   "outputs": [
    {
     "data": {
      "text/plain": [
       "((10000, 28, 28), (10000,))"
      ]
     },
     "execution_count": 8,
     "metadata": {},
     "output_type": "execute_result"
    }
   ],
   "source": [
    "test_images.shape, test_labels.shape"
   ]
  },
  {
   "cell_type": "code",
   "execution_count": 9,
   "id": "f9ed8fe0",
   "metadata": {
    "execution": {
     "iopub.execute_input": "2022-05-09T00:38:07.741317Z",
     "iopub.status.busy": "2022-05-09T00:38:07.740821Z",
     "iopub.status.idle": "2022-05-09T00:38:07.871878Z",
     "shell.execute_reply": "2022-05-09T00:38:07.872283Z"
    },
    "papermill": {
     "duration": 0.161229,
     "end_time": "2022-05-09T00:38:07.872406",
     "exception": false,
     "start_time": "2022-05-09T00:38:07.711177",
     "status": "completed"
    },
    "tags": []
   },
   "outputs": [
    {
     "name": "stdout",
     "output_type": "stream",
     "text": [
      "2\n"
     ]
    },
    {
     "data": {
      "text/plain": [
       "<matplotlib.image.AxesImage at 0x7fa4a5d66390>"
      ]
     },
     "execution_count": 9,
     "metadata": {},
     "output_type": "execute_result"
    },
    {
     "data": {
      "image/png": "[encoded data removed]",
      "text/plain": [
       "<Figure size 432x288 with 1 Axes>"
      ]
     },
     "metadata": {
      "needs_background": "light"
     },
     "output_type": "display_data"
    }
   ],
   "source": [
    "image_index = 7776 # You may select anything up to 60,000\n",
    "print(train_labels[image_index]) \n",
    "plt.imshow(train_images[image_index], cmap='Greys')"
   ]
  },
  {
   "cell_type": "markdown",
   "id": "a8d2388d",
   "metadata": {
    "papermill": {
     "duration": 0.027746,
     "end_time": "2022-05-09T00:38:07.927977",
     "exception": false,
     "start_time": "2022-05-09T00:38:07.900231",
     "status": "completed"
    },
    "tags": []
   },
   "source": [
    "## Filter data to get 3 and 8 out"
   ]
  },
  {
   "cell_type": "code",
   "execution_count": 10,
   "id": "776f7fc7",
   "metadata": {
    "execution": {
     "iopub.execute_input": "2022-05-09T00:38:07.987174Z",
     "iopub.status.busy": "2022-05-09T00:38:07.986672Z",
     "iopub.status.idle": "2022-05-09T00:38:08.002263Z",
     "shell.execute_reply": "2022-05-09T00:38:08.002743Z"
    },
    "papermill": {
     "duration": 0.047301,
     "end_time": "2022-05-09T00:38:08.002859",
     "exception": false,
     "start_time": "2022-05-09T00:38:07.955558",
     "status": "completed"
    },
    "tags": []
   },
   "outputs": [],
   "source": [
    "train_filter = np.where((train_labels == 3 ) | (train_labels == 8))\n",
    "test_filter = np.where((test_labels == 3) | (test_labels == 8))\n",
    "X_train, y_train = train_images[train_filter], train_labels[train_filter]\n",
    "X_test, y_test = test_images[test_filter], test_labels[test_filter]"
   ]
  },
  {
   "cell_type": "markdown",
   "id": "948f0b7e",
   "metadata": {
    "papermill": {
     "duration": 0.027391,
     "end_time": "2022-05-09T00:38:08.057896",
     "exception": false,
     "start_time": "2022-05-09T00:38:08.030505",
     "status": "completed"
    },
    "tags": []
   },
   "source": [
    "We normalize the pizel values in the 0 to 1 range"
   ]
  },
  {
   "cell_type": "code",
   "execution_count": 11,
   "id": "ee4c2166",
   "metadata": {
    "execution": {
     "iopub.execute_input": "2022-05-09T00:38:08.115699Z",
     "iopub.status.busy": "2022-05-09T00:38:08.115212Z",
     "iopub.status.idle": "2022-05-09T00:38:08.156685Z",
     "shell.execute_reply": "2022-05-09T00:38:08.157078Z"
    },
    "papermill": {
     "duration": 0.07193,
     "end_time": "2022-05-09T00:38:08.157206",
     "exception": false,
     "start_time": "2022-05-09T00:38:08.085276",
     "status": "completed"
    },
    "tags": []
   },
   "outputs": [],
   "source": [
    "X_train = X_train/255.\n",
    "X_test = X_test/255."
   ]
  },
  {
   "cell_type": "markdown",
   "id": "ddcf4fab",
   "metadata": {
    "papermill": {
     "duration": 0.02759,
     "end_time": "2022-05-09T00:38:08.212609",
     "exception": false,
     "start_time": "2022-05-09T00:38:08.185019",
     "status": "completed"
    },
    "tags": []
   },
   "source": [
    "And setup the labels as 1 (when the digit is 3) and 0 (when the digit is 8)"
   ]
  },
  {
   "cell_type": "code",
   "execution_count": 12,
   "id": "7dc908f2",
   "metadata": {
    "execution": {
     "iopub.execute_input": "2022-05-09T00:38:08.270929Z",
     "iopub.status.busy": "2022-05-09T00:38:08.270422Z",
     "iopub.status.idle": "2022-05-09T00:38:08.281772Z",
     "shell.execute_reply": "2022-05-09T00:38:08.281372Z"
    },
    "papermill": {
     "duration": 0.041743,
     "end_time": "2022-05-09T00:38:08.281873",
     "exception": false,
     "start_time": "2022-05-09T00:38:08.240130",
     "status": "completed"
    },
    "tags": []
   },
   "outputs": [],
   "source": [
    "y_train = 1*(y_train==3)\n",
    "y_test = 1*(y_test==3)"
   ]
  },
  {
   "cell_type": "code",
   "execution_count": 13,
   "id": "01e4e969",
   "metadata": {
    "execution": {
     "iopub.execute_input": "2022-05-09T00:38:08.339988Z",
     "iopub.status.busy": "2022-05-09T00:38:08.339489Z",
     "iopub.status.idle": "2022-05-09T00:38:08.351882Z",
     "shell.execute_reply": "2022-05-09T00:38:08.351485Z"
    },
    "papermill": {
     "duration": 0.042569,
     "end_time": "2022-05-09T00:38:08.351982",
     "exception": false,
     "start_time": "2022-05-09T00:38:08.309413",
     "status": "completed"
    },
    "tags": []
   },
   "outputs": [
    {
     "data": {
      "text/plain": [
       "((11982, 28, 28), (1984, 28, 28))"
      ]
     },
     "execution_count": 13,
     "metadata": {},
     "output_type": "execute_result"
    }
   ],
   "source": [
    "X_train.shape, X_test.shape"
   ]
  },
  {
   "cell_type": "markdown",
   "id": "5ccf3f85",
   "metadata": {
    "papermill": {
     "duration": 0.027716,
     "end_time": "2022-05-09T00:38:08.407389",
     "exception": false,
     "start_time": "2022-05-09T00:38:08.379673",
     "status": "completed"
    },
    "tags": []
   },
   "source": [
    "We reshape the data to flatten the image pixels into a set of features or co-variates:"
   ]
  },
  {
   "cell_type": "code",
   "execution_count": 14,
   "id": "5286a4a3",
   "metadata": {
    "execution": {
     "iopub.execute_input": "2022-05-09T00:38:08.466585Z",
     "iopub.status.busy": "2022-05-09T00:38:08.466058Z",
     "iopub.status.idle": "2022-05-09T00:38:08.478575Z",
     "shell.execute_reply": "2022-05-09T00:38:08.478974Z"
    },
    "papermill": {
     "duration": 0.043803,
     "end_time": "2022-05-09T00:38:08.479090",
     "exception": false,
     "start_time": "2022-05-09T00:38:08.435287",
     "status": "completed"
    },
    "tags": []
   },
   "outputs": [
    {
     "data": {
      "text/plain": [
       "((11982, 784), (1984, 784))"
      ]
     },
     "execution_count": 14,
     "metadata": {},
     "output_type": "execute_result"
    }
   ],
   "source": [
    "X_train = X_train.reshape(X_train.shape[0], -1)\n",
    "X_test = X_test.reshape(X_test.shape[0], -1)\n",
    "X_train.shape, X_test.shape"
   ]
  },
  {
   "cell_type": "code",
   "execution_count": 15,
   "id": "73c5f88a",
   "metadata": {
    "execution": {
     "iopub.execute_input": "2022-05-09T00:38:08.539272Z",
     "iopub.status.busy": "2022-05-09T00:38:08.538781Z",
     "iopub.status.idle": "2022-05-09T00:38:08.556425Z",
     "shell.execute_reply": "2022-05-09T00:38:08.556035Z"
    },
    "papermill": {
     "duration": 0.049359,
     "end_time": "2022-05-09T00:38:08.556525",
     "exception": false,
     "start_time": "2022-05-09T00:38:08.507166",
     "status": "completed"
    },
    "tags": []
   },
   "outputs": [],
   "source": [
    "#Impoting functions from 'Kudzu'\n",
    "from kudzu.model import Model\n",
    "from kudzu.train import Learner\n",
    "from kudzu.optim import GD\n",
    "from kudzu.data import Data, Sampler,Dataloader\n",
    "\n",
    "from kudzu.callbacks import AccCallback\n",
    "from kudzu.callbacks import ClfCallback\n",
    "\n",
    "from kudzu.loss import MSE\n",
    "\n",
    "from kudzu.layer import Sigmoid,Relu\n",
    "from kudzu.layer import Affine"
   ]
  },
  {
   "cell_type": "markdown",
   "id": "bc01172a",
   "metadata": {
    "papermill": {
     "duration": 0.028103,
     "end_time": "2022-05-09T00:38:08.612929",
     "exception": false,
     "start_time": "2022-05-09T00:38:08.584826",
     "status": "completed"
    },
    "tags": []
   },
   "source": [
    "### Let us create a `Config` class, to store important parameters. \n",
    "This class essentially plays the role of a dictionary."
   ]
  },
  {
   "cell_type": "code",
   "execution_count": 16,
   "id": "978281aa",
   "metadata": {
    "execution": {
     "iopub.execute_input": "2022-05-09T00:38:08.672695Z",
     "iopub.status.busy": "2022-05-09T00:38:08.672198Z",
     "iopub.status.idle": "2022-05-09T00:38:08.683835Z",
     "shell.execute_reply": "2022-05-09T00:38:08.683443Z"
    },
    "papermill": {
     "duration": 0.042937,
     "end_time": "2022-05-09T00:38:08.683934",
     "exception": false,
     "start_time": "2022-05-09T00:38:08.640997",
     "status": "completed"
    },
    "tags": []
   },
   "outputs": [],
   "source": [
    "class Config:\n",
    "    pass\n",
    "config = Config()\n",
    "config.lr = 0.001\n",
    "config.num_epochs = 250\n",
    "config.bs = 50"
   ]
  },
  {
   "cell_type": "markdown",
   "id": "1385fa59",
   "metadata": {
    "papermill": {
     "duration": 0.028076,
     "end_time": "2022-05-09T00:38:08.740144",
     "exception": false,
     "start_time": "2022-05-09T00:38:08.712068",
     "status": "completed"
    },
    "tags": []
   },
   "source": [
    "### Running Models with the Training data\n",
    "Details about the network layers:\n",
    "- A first affine layer has 784 inputs and does 100 affine transforms. These are followed by a Relu\n",
    "- A second affine layer has 100 inputs from the 100 activations of the past layer, and does 100 affine transforms. These are followed by a Relu\n",
    "- A third affine layer has 100 activations and does 2 affine transformations to create an embedding for visualization. There is no non-linearity here.\n",
    "- A final \"logistic regression\" which has an affine transform from 2 inputs to 1 output, which is squeezed through a sigmoid.\n"
   ]
  },
  {
   "cell_type": "code",
   "execution_count": 17,
   "id": "2b9c66db",
   "metadata": {
    "execution": {
     "iopub.execute_input": "2022-05-09T00:38:08.800170Z",
     "iopub.status.busy": "2022-05-09T00:38:08.799665Z",
     "iopub.status.idle": "2022-05-09T00:38:08.811538Z",
     "shell.execute_reply": "2022-05-09T00:38:08.811141Z"
    },
    "papermill": {
     "duration": 0.043257,
     "end_time": "2022-05-09T00:38:08.811638",
     "exception": false,
     "start_time": "2022-05-09T00:38:08.768381",
     "status": "completed"
    },
    "tags": []
   },
   "outputs": [],
   "source": [
    "data = Data(X_train, y_train.reshape(-1,1))\n",
    "sampler = Sampler(data, config.bs, shuffle=True)\n",
    "\n",
    "dl = Dataloader(data, sampler)\n",
    "\n",
    "opt = GD(config.lr)\n",
    "loss = MSE()"
   ]
  },
  {
   "cell_type": "code",
   "execution_count": 18,
   "id": "b275e4c2",
   "metadata": {
    "execution": {
     "iopub.execute_input": "2022-05-09T00:38:08.871050Z",
     "iopub.status.busy": "2022-05-09T00:38:08.870538Z",
     "iopub.status.idle": "2022-05-09T00:38:08.881450Z",
     "shell.execute_reply": "2022-05-09T00:38:08.881820Z"
    },
    "papermill": {
     "duration": 0.04216,
     "end_time": "2022-05-09T00:38:08.881934",
     "exception": false,
     "start_time": "2022-05-09T00:38:08.839774",
     "status": "completed"
    },
    "tags": []
   },
   "outputs": [],
   "source": [
    "training_data_x = X_train\n",
    "testing_data_x = X_test\n",
    "training_data_y = y_train.reshape(-1,1)\n",
    "testing_data_y = y_test.reshape(-1,1)"
   ]
  },
  {
   "cell_type": "code",
   "execution_count": 19,
   "id": "76951160",
   "metadata": {
    "execution": {
     "iopub.execute_input": "2022-05-09T00:38:08.941800Z",
     "iopub.status.busy": "2022-05-09T00:38:08.941284Z",
     "iopub.status.idle": "2022-05-09T00:38:08.958260Z",
     "shell.execute_reply": "2022-05-09T00:38:08.957586Z"
    },
    "papermill": {
     "duration": 0.048474,
     "end_time": "2022-05-09T00:38:08.958379",
     "exception": false,
     "start_time": "2022-05-09T00:38:08.909905",
     "status": "completed"
    },
    "tags": []
   },
   "outputs": [
    {
     "name": "stdout",
     "output_type": "stream",
     "text": [
      "xavier\n",
      "xavier\n",
      "xavier\n",
      "xavier\n",
      "xavier\n"
     ]
    }
   ],
   "source": [
    "layers = [Affine(\"first\", 784, 100), Relu(\"first\"), Affine(\"second\", 100, 100), Relu(\"second\"), Affine(\"third\", 100, 2), Affine(\"last\", 2, 1), Sigmoid(\"last\")]\n",
    "model_nn = Model(layers)\n",
    "model_lr = Model([Affine(\"logits\", 784, 1), Sigmoid(\"sigmoid\")])"
   ]
  },
  {
   "cell_type": "code",
   "execution_count": 20,
   "id": "6eede77a",
   "metadata": {
    "execution": {
     "iopub.execute_input": "2022-05-09T00:38:09.019086Z",
     "iopub.status.busy": "2022-05-09T00:38:09.018568Z",
     "iopub.status.idle": "2022-05-09T00:38:09.031311Z",
     "shell.execute_reply": "2022-05-09T00:38:09.030875Z"
    },
    "papermill": {
     "duration": 0.044376,
     "end_time": "2022-05-09T00:38:09.031410",
     "exception": false,
     "start_time": "2022-05-09T00:38:08.987034",
     "status": "completed"
    },
    "tags": []
   },
   "outputs": [],
   "source": [
    "nn_learner = Learner(loss, model_nn, opt, config.num_epochs)\n",
    "acc_nn = ClfCallback(nn_learner, config.bs, training_data_x , testing_data_x, training_data_y, testing_data_y)\n",
    "nn_learner.set_callbacks([acc_nn])"
   ]
  },
  {
   "cell_type": "code",
   "execution_count": 21,
   "id": "877b6cc7",
   "metadata": {
    "execution": {
     "iopub.execute_input": "2022-05-09T00:38:09.092411Z",
     "iopub.status.busy": "2022-05-09T00:38:09.091909Z",
     "iopub.status.idle": "2022-05-09T00:38:09.104787Z",
     "shell.execute_reply": "2022-05-09T00:38:09.103904Z"
    },
    "papermill": {
     "duration": 0.044751,
     "end_time": "2022-05-09T00:38:09.104890",
     "exception": false,
     "start_time": "2022-05-09T00:38:09.060139",
     "status": "completed"
    },
    "tags": []
   },
   "outputs": [],
   "source": [
    "lr_learner = Learner(loss, model_lr, opt, config.num_epochs)\n",
    "acc_lr = ClfCallback(lr_learner, config.bs, training_data_x , testing_data_x, training_data_y, testing_data_y)\n",
    "lr_learner.set_callbacks([acc_lr])"
   ]
  },
  {
   "cell_type": "code",
   "execution_count": 22,
   "id": "d9b133c3",
   "metadata": {
    "execution": {
     "iopub.execute_input": "2022-05-09T00:38:09.167401Z",
     "iopub.status.busy": "2022-05-09T00:38:09.166909Z",
     "iopub.status.idle": "2022-05-09T00:41:05.911749Z",
     "shell.execute_reply": "2022-05-09T00:41:05.912176Z"
    },
    "papermill": {
     "duration": 176.778878,
     "end_time": "2022-05-09T00:41:05.912301",
     "exception": false,
     "start_time": "2022-05-09T00:38:09.133423",
     "status": "completed"
    },
    "tags": []
   },
   "outputs": [
    {
     "name": "stdout",
     "output_type": "stream",
     "text": [
      "Epoch 0, Loss 0.2449\n",
      "Training Accuracy: 0.6442, Testing Accuracy: 0.6305\n",
      "\n"
     ]
    },
    {
     "name": "stdout",
     "output_type": "stream",
     "text": [
      "Epoch 10, Loss 0.1127\n",
      "Training Accuracy: 0.8976, Testing Accuracy: 0.9098\n",
      "\n"
     ]
    },
    {
     "name": "stdout",
     "output_type": "stream",
     "text": [
      "Epoch 20, Loss 0.0655\n",
      "Training Accuracy: 0.9316, Testing Accuracy: 0.9476\n",
      "\n"
     ]
    },
    {
     "name": "stdout",
     "output_type": "stream",
     "text": [
      "Epoch 30, Loss 0.049\n",
      "Training Accuracy: 0.9473, Testing Accuracy: 0.9587\n",
      "\n"
     ]
    },
    {
     "name": "stdout",
     "output_type": "stream",
     "text": [
      "Epoch 40, Loss 0.0411\n",
      "Training Accuracy: 0.9545, Testing Accuracy: 0.9637\n",
      "\n"
     ]
    },
    {
     "name": "stdout",
     "output_type": "stream",
     "text": [
      "Epoch 50, Loss 0.0364\n",
      "Training Accuracy: 0.9596, Testing Accuracy: 0.9647\n",
      "\n"
     ]
    },
    {
     "name": "stdout",
     "output_type": "stream",
     "text": [
      "Epoch 60, Loss 0.0333\n",
      "Training Accuracy: 0.9617, Testing Accuracy: 0.9667\n",
      "\n"
     ]
    },
    {
     "name": "stdout",
     "output_type": "stream",
     "text": [
      "Epoch 70, Loss 0.031\n",
      "Training Accuracy: 0.9642, Testing Accuracy: 0.9682\n",
      "\n"
     ]
    },
    {
     "name": "stdout",
     "output_type": "stream",
     "text": [
      "Epoch 80, Loss 0.0292\n",
      "Training Accuracy: 0.9664, Testing Accuracy: 0.9693\n",
      "\n"
     ]
    },
    {
     "name": "stdout",
     "output_type": "stream",
     "text": [
      "Epoch 90, Loss 0.0277\n",
      "Training Accuracy: 0.9683, Testing Accuracy: 0.9693\n",
      "\n"
     ]
    },
    {
     "name": "stdout",
     "output_type": "stream",
     "text": [
      "Epoch 100, Loss 0.0265\n",
      "Training Accuracy: 0.9695, Testing Accuracy: 0.9693\n",
      "\n"
     ]
    },
    {
     "name": "stdout",
     "output_type": "stream",
     "text": [
      "Epoch 110, Loss 0.0255\n",
      "Training Accuracy: 0.9713, Testing Accuracy: 0.9693\n",
      "\n"
     ]
    },
    {
     "name": "stdout",
     "output_type": "stream",
     "text": [
      "Epoch 120, Loss 0.0246\n",
      "Training Accuracy: 0.9725, Testing Accuracy: 0.9703\n",
      "\n"
     ]
    },
    {
     "name": "stdout",
     "output_type": "stream",
     "text": [
      "Epoch 130, Loss 0.0238\n",
      "Training Accuracy: 0.9740, Testing Accuracy: 0.9708\n",
      "\n"
     ]
    },
    {
     "name": "stdout",
     "output_type": "stream",
     "text": [
      "Epoch 140, Loss 0.0231\n",
      "Training Accuracy: 0.9745, Testing Accuracy: 0.9718\n",
      "\n"
     ]
    },
    {
     "name": "stdout",
     "output_type": "stream",
     "text": [
      "Epoch 150, Loss 0.0225\n",
      "Training Accuracy: 0.9752, Testing Accuracy: 0.9713\n",
      "\n"
     ]
    },
    {
     "name": "stdout",
     "output_type": "stream",
     "text": [
      "Epoch 160, Loss 0.0219\n",
      "Training Accuracy: 0.9760, Testing Accuracy: 0.9708\n",
      "\n"
     ]
    },
    {
     "name": "stdout",
     "output_type": "stream",
     "text": [
      "Epoch 170, Loss 0.0213\n",
      "Training Accuracy: 0.9766, Testing Accuracy: 0.9708\n",
      "\n"
     ]
    },
    {
     "name": "stdout",
     "output_type": "stream",
     "text": [
      "Epoch 180, Loss 0.0208\n",
      "Training Accuracy: 0.9770, Testing Accuracy: 0.9703\n",
      "\n"
     ]
    },
    {
     "name": "stdout",
     "output_type": "stream",
     "text": [
      "Epoch 190, Loss 0.0204\n",
      "Training Accuracy: 0.9775, Testing Accuracy: 0.9708\n",
      "\n"
     ]
    },
    {
     "name": "stdout",
     "output_type": "stream",
     "text": [
      "Epoch 200, Loss 0.0199\n",
      "Training Accuracy: 0.9781, Testing Accuracy: 0.9708\n",
      "\n"
     ]
    },
    {
     "name": "stdout",
     "output_type": "stream",
     "text": [
      "Epoch 210, Loss 0.0195\n",
      "Training Accuracy: 0.9786, Testing Accuracy: 0.9718\n",
      "\n"
     ]
    },
    {
     "name": "stdout",
     "output_type": "stream",
     "text": [
      "Epoch 220, Loss 0.0191\n",
      "Training Accuracy: 0.9790, Testing Accuracy: 0.9723\n",
      "\n"
     ]
    },
    {
     "name": "stdout",
     "output_type": "stream",
     "text": [
      "Epoch 230, Loss 0.0187\n",
      "Training Accuracy: 0.9796, Testing Accuracy: 0.9723\n",
      "\n"
     ]
    },
    {
     "name": "stdout",
     "output_type": "stream",
     "text": [
      "Epoch 240, Loss 0.0183\n",
      "Training Accuracy: 0.9798, Testing Accuracy: 0.9738\n",
      "\n"
     ]
    },
    {
     "data": {
      "text/plain": [
       "0.030432135911749356"
      ]
     },
     "execution_count": 22,
     "metadata": {},
     "output_type": "execute_result"
    }
   ],
   "source": [
    "nn_learner.train_loop(dl)"
   ]
  },
  {
   "cell_type": "code",
   "execution_count": 23,
   "id": "e0163366",
   "metadata": {
    "execution": {
     "iopub.execute_input": "2022-05-09T00:41:05.987347Z",
     "iopub.status.busy": "2022-05-09T00:41:05.986808Z",
     "iopub.status.idle": "2022-05-09T00:41:18.225716Z",
     "shell.execute_reply": "2022-05-09T00:41:18.226114Z"
    },
    "papermill": {
     "duration": 12.278116,
     "end_time": "2022-05-09T00:41:18.226241",
     "exception": false,
     "start_time": "2022-05-09T00:41:05.948125",
     "status": "completed"
    },
    "tags": []
   },
   "outputs": [
    {
     "name": "stdout",
     "output_type": "stream",
     "text": [
      "Epoch 0, Loss 0.2517\n",
      "Training Accuracy: 0.6304, Testing Accuracy: 0.6426\n",
      "\n"
     ]
    },
    {
     "name": "stdout",
     "output_type": "stream",
     "text": [
      "Epoch 10, Loss 0.1019\n",
      "Training Accuracy: 0.9159, Testing Accuracy: 0.9244\n",
      "\n"
     ]
    },
    {
     "name": "stdout",
     "output_type": "stream",
     "text": [
      "Epoch 20, Loss 0.0782\n",
      "Training Accuracy: 0.9310, Testing Accuracy: 0.9360\n",
      "\n"
     ]
    },
    {
     "name": "stdout",
     "output_type": "stream",
     "text": [
      "Epoch 30, Loss 0.0675\n",
      "Training Accuracy: 0.9390, Testing Accuracy: 0.9425\n",
      "\n"
     ]
    },
    {
     "name": "stdout",
     "output_type": "stream",
     "text": [
      "Epoch 40, Loss 0.061\n",
      "Training Accuracy: 0.9431, Testing Accuracy: 0.9481\n",
      "\n"
     ]
    },
    {
     "name": "stdout",
     "output_type": "stream",
     "text": [
      "Epoch 50, Loss 0.0566\n",
      "Training Accuracy: 0.9464, Testing Accuracy: 0.9521\n",
      "\n"
     ]
    },
    {
     "name": "stdout",
     "output_type": "stream",
     "text": [
      "Epoch 60, Loss 0.0534\n",
      "Training Accuracy: 0.9486, Testing Accuracy: 0.9556\n",
      "\n"
     ]
    },
    {
     "name": "stdout",
     "output_type": "stream",
     "text": [
      "Epoch 70, Loss 0.0509\n",
      "Training Accuracy: 0.9493, Testing Accuracy: 0.9592\n",
      "\n"
     ]
    },
    {
     "name": "stdout",
     "output_type": "stream",
     "text": [
      "Epoch 80, Loss 0.0489\n",
      "Training Accuracy: 0.9503, Testing Accuracy: 0.9612\n",
      "\n"
     ]
    },
    {
     "name": "stdout",
     "output_type": "stream",
     "text": [
      "Epoch 90, Loss 0.0473\n",
      "Training Accuracy: 0.9523, Testing Accuracy: 0.9607\n",
      "\n"
     ]
    },
    {
     "name": "stdout",
     "output_type": "stream",
     "text": [
      "Epoch 100, Loss 0.0459\n",
      "Training Accuracy: 0.9528, Testing Accuracy: 0.9612\n",
      "\n"
     ]
    },
    {
     "name": "stdout",
     "output_type": "stream",
     "text": [
      "Epoch 110, Loss 0.0447\n",
      "Training Accuracy: 0.9532, Testing Accuracy: 0.9627\n",
      "\n"
     ]
    },
    {
     "name": "stdout",
     "output_type": "stream",
     "text": [
      "Epoch 120, Loss 0.0436\n",
      "Training Accuracy: 0.9541, Testing Accuracy: 0.9632\n",
      "\n"
     ]
    },
    {
     "name": "stdout",
     "output_type": "stream",
     "text": [
      "Epoch 130, Loss 0.0427\n",
      "Training Accuracy: 0.9551, Testing Accuracy: 0.9642\n",
      "\n"
     ]
    },
    {
     "name": "stdout",
     "output_type": "stream",
     "text": [
      "Epoch 140, Loss 0.0419\n",
      "Training Accuracy: 0.9559, Testing Accuracy: 0.9642\n",
      "\n"
     ]
    },
    {
     "name": "stdout",
     "output_type": "stream",
     "text": [
      "Epoch 150, Loss 0.0412\n",
      "Training Accuracy: 0.9566, Testing Accuracy: 0.9652\n",
      "\n"
     ]
    },
    {
     "name": "stdout",
     "output_type": "stream",
     "text": [
      "Epoch 160, Loss 0.0405\n",
      "Training Accuracy: 0.9573, Testing Accuracy: 0.9652\n",
      "\n"
     ]
    },
    {
     "name": "stdout",
     "output_type": "stream",
     "text": [
      "Epoch 170, Loss 0.0399\n",
      "Training Accuracy: 0.9579, Testing Accuracy: 0.9662\n",
      "\n"
     ]
    },
    {
     "name": "stdout",
     "output_type": "stream",
     "text": [
      "Epoch 180, Loss 0.0393\n",
      "Training Accuracy: 0.9581, Testing Accuracy: 0.9667\n",
      "\n"
     ]
    },
    {
     "name": "stdout",
     "output_type": "stream",
     "text": [
      "Epoch 190, Loss 0.0388\n",
      "Training Accuracy: 0.9587, Testing Accuracy: 0.9667\n",
      "\n"
     ]
    },
    {
     "name": "stdout",
     "output_type": "stream",
     "text": [
      "Epoch 200, Loss 0.0384\n",
      "Training Accuracy: 0.9590, Testing Accuracy: 0.9667\n",
      "\n"
     ]
    },
    {
     "name": "stdout",
     "output_type": "stream",
     "text": [
      "Epoch 210, Loss 0.0379\n",
      "Training Accuracy: 0.9594, Testing Accuracy: 0.9667\n",
      "\n"
     ]
    },
    {
     "name": "stdout",
     "output_type": "stream",
     "text": [
      "Epoch 220, Loss 0.0375\n",
      "Training Accuracy: 0.9599, Testing Accuracy: 0.9677\n",
      "\n"
     ]
    },
    {
     "name": "stdout",
     "output_type": "stream",
     "text": [
      "Epoch 230, Loss 0.0371\n",
      "Training Accuracy: 0.9599, Testing Accuracy: 0.9688\n",
      "\n"
     ]
    },
    {
     "name": "stdout",
     "output_type": "stream",
     "text": [
      "Epoch 240, Loss 0.0368\n",
      "Training Accuracy: 0.9604, Testing Accuracy: 0.9688\n",
      "\n"
     ]
    },
    {
     "data": {
      "text/plain": [
       "0.047417272008736036"
      ]
     },
     "execution_count": 23,
     "metadata": {},
     "output_type": "execute_result"
    }
   ],
   "source": [
    "lr_learner.train_loop(dl)"
   ]
  },
  {
   "cell_type": "code",
   "execution_count": 24,
   "id": "ca410940",
   "metadata": {
    "execution": {
     "iopub.execute_input": "2022-05-09T00:41:18.316135Z",
     "iopub.status.busy": "2022-05-09T00:41:18.315614Z",
     "iopub.status.idle": "2022-05-09T00:41:18.551181Z",
     "shell.execute_reply": "2022-05-09T00:41:18.550742Z"
    },
    "papermill": {
     "duration": 0.281831,
     "end_time": "2022-05-09T00:41:18.551289",
     "exception": false,
     "start_time": "2022-05-09T00:41:18.269458",
     "status": "completed"
    },
    "tags": []
   },
   "outputs": [
    {
     "data": {
      "text/plain": [
       "<matplotlib.legend.Legend at 0x7fa4a5946b38>"
      ]
     },
     "execution_count": 24,
     "metadata": {},
     "output_type": "execute_result"
    },
    {
     "data": {
      "image/png": "[encoded data removed]",
      "text/plain": [
       "<Figure size 1080x720 with 1 Axes>"
      ]
     },
     "metadata": {
      "needs_background": "light"
     },
     "output_type": "display_data"
    }
   ],
   "source": [
    "#comparing the results of NN and LR\n",
    "plt.figure(figsize=(15,10))\n",
    "\n",
    "# Neural Network plots\n",
    "plt.plot(acc_nn.accuracies, 'r-', label = \"Training Accuracies - NN\")\n",
    "plt.plot(acc_nn.test_accuracies, 'g-', label = \"Testing Accuracies - NN\")\n",
    "\n",
    "# Logistic Regression plots\n",
    "plt.plot(acc_lr.accuracies, 'k-', label = \"Training Accuracies - LR\")\n",
    "plt.plot(acc_lr.test_accuracies, 'b-', label = \"Testing Accuracies - LR\")\n",
    "plt.legend()"
   ]
  },
  {
   "cell_type": "markdown",
   "id": "80dfb35c",
   "metadata": {
    "papermill": {
     "duration": 0.043791,
     "end_time": "2022-05-09T00:41:18.639622",
     "exception": false,
     "start_time": "2022-05-09T00:41:18.595831",
     "status": "completed"
    },
    "tags": []
   },
   "source": [
    "#### Plotting the outputs of this layer of the NN.\n"
   ]
  },
  {
   "cell_type": "code",
   "execution_count": 25,
   "id": "45eb2ff5",
   "metadata": {
    "execution": {
     "iopub.execute_input": "2022-05-09T00:41:18.731030Z",
     "iopub.status.busy": "2022-05-09T00:41:18.730518Z",
     "iopub.status.idle": "2022-05-09T00:41:18.765767Z",
     "shell.execute_reply": "2022-05-09T00:41:18.766488Z"
    },
    "papermill": {
     "duration": 0.083068,
     "end_time": "2022-05-09T00:41:18.766629",
     "exception": false,
     "start_time": "2022-05-09T00:41:18.683561",
     "status": "completed"
    },
    "tags": []
   },
   "outputs": [],
   "source": [
    "new_model = Model(layers[:-2])\n",
    "testing_plot = new_model(testing_data_x)"
   ]
  },
  {
   "cell_type": "code",
   "execution_count": 26,
   "id": "4c0a5485",
   "metadata": {
    "execution": {
     "iopub.execute_input": "2022-05-09T00:41:18.860344Z",
     "iopub.status.busy": "2022-05-09T00:41:18.859838Z",
     "iopub.status.idle": "2022-05-09T00:41:19.053186Z",
     "shell.execute_reply": "2022-05-09T00:41:19.052397Z"
    },
    "papermill": {
     "duration": 0.241699,
     "end_time": "2022-05-09T00:41:19.053306",
     "exception": false,
     "start_time": "2022-05-09T00:41:18.811607",
     "status": "completed"
    },
    "tags": []
   },
   "outputs": [
    {
     "data": {
      "text/plain": [
       "Text(0.5, 1.0, 'Outputs')"
      ]
     },
     "execution_count": 26,
     "metadata": {},
     "output_type": "execute_result"
    },
    {
     "data": {
      "image/png": "[encoded data removed]",
      "text/plain": [
       "<Figure size 576x504 with 1 Axes>"
      ]
     },
     "metadata": {
      "needs_background": "light"
     },
     "output_type": "display_data"
    }
   ],
   "source": [
    "# Plotting the scatter plot of points and color coding by class\n",
    "plt.figure(figsize=(8,7))\n",
    "plt.scatter(testing_plot[:,0], testing_plot[:,1], alpha = 0.1, c = y_test.ravel());\n",
    "plt.title('Outputs')"
   ]
  },
  {
   "cell_type": "markdown",
   "id": "a74fcf8f",
   "metadata": {
    "papermill": {
     "duration": 0.067087,
     "end_time": "2022-05-09T00:41:19.166753",
     "exception": false,
     "start_time": "2022-05-09T00:41:19.099666",
     "status": "completed"
    },
    "tags": []
   },
   "source": [
    "Probability contours"
   ]
  },
  {
   "cell_type": "code",
   "execution_count": 27,
   "id": "d0afc8e3",
   "metadata": {
    "execution": {
     "iopub.execute_input": "2022-05-09T00:41:19.262684Z",
     "iopub.status.busy": "2022-05-09T00:41:19.262157Z",
     "iopub.status.idle": "2022-05-09T00:41:19.273283Z",
     "shell.execute_reply": "2022-05-09T00:41:19.272881Z"
    },
    "papermill": {
     "duration": 0.060435,
     "end_time": "2022-05-09T00:41:19.273387",
     "exception": false,
     "start_time": "2022-05-09T00:41:19.212952",
     "status": "completed"
    },
    "tags": []
   },
   "outputs": [],
   "source": [
    "model_prob = Model(layers[-2:]) "
   ]
  },
  {
   "cell_type": "code",
   "execution_count": 28,
   "id": "9b96e238",
   "metadata": {
    "execution": {
     "iopub.execute_input": "2022-05-09T00:41:19.369738Z",
     "iopub.status.busy": "2022-05-09T00:41:19.369235Z",
     "iopub.status.idle": "2022-05-09T00:41:19.382031Z",
     "shell.execute_reply": "2022-05-09T00:41:19.382669Z"
    },
    "papermill": {
     "duration": 0.06331,
     "end_time": "2022-05-09T00:41:19.382789",
     "exception": false,
     "start_time": "2022-05-09T00:41:19.319479",
     "status": "completed"
    },
    "tags": []
   },
   "outputs": [],
   "source": [
    "#creating the x and y ranges according to the above generated plot.\n",
    "x_range = np.linspace(-4, 1, 100) \n",
    "y_range = np.linspace(-6, 6, 100) \n",
    "x_grid, y_grid = np.meshgrid(x_range, y_range) # x_grid and y_grig are of size 100 X 100\n",
    "\n",
    "# converting x_grid and y_grid to continuous arrays\n",
    "x_gridflat = np.ravel(x_grid)\n",
    "y_gridflat = np.ravel(y_grid)\n",
    "\n",
    "# The last layer of the current model takes two columns as input. Hence transpose of np.vstack() is required.\n",
    "X = np.vstack((x_gridflat, y_gridflat)).T\n",
    "\n",
    "prob_contour = model_prob(X).reshape(100,100) "
   ]
  },
  {
   "cell_type": "code",
   "execution_count": 29,
   "id": "da72499a",
   "metadata": {
    "execution": {
     "iopub.execute_input": "2022-05-09T00:41:19.482963Z",
     "iopub.status.busy": "2022-05-09T00:41:19.480593Z",
     "iopub.status.idle": "2022-05-09T00:41:19.735440Z",
     "shell.execute_reply": "2022-05-09T00:41:19.734999Z"
    },
    "papermill": {
     "duration": 0.305799,
     "end_time": "2022-05-09T00:41:19.735545",
     "exception": false,
     "start_time": "2022-05-09T00:41:19.429746",
     "status": "completed"
    },
    "tags": []
   },
   "outputs": [
    {
     "data": {
      "image/png": "[encoded data removed]",
      "text/plain": [
       "<Figure size 720x648 with 1 Axes>"
      ]
     },
     "metadata": {
      "needs_background": "light"
     },
     "output_type": "display_data"
    }
   ],
   "source": [
    "plt.figure(figsize=(10,9))\n",
    "plt.scatter(testing_plot[:,0], testing_plot[:,1], alpha = 0.1, c = y_test.ravel())\n",
    "contours = plt.contour(x_grid,y_grid,prob_contour)\n",
    "plt.title('Probability Contours')\n",
    "plt.clabel(contours, inline = True );"
   ]
  },
  {
   "cell_type": "code",
   "execution_count": null,
   "id": "e81b4ac7",
   "metadata": {
    "papermill": {
     "duration": 0.048348,
     "end_time": "2022-05-09T00:41:19.832800",
     "exception": false,
     "start_time": "2022-05-09T00:41:19.784452",
     "status": "completed"
    },
    "tags": []
   },
   "outputs": [],
   "source": []
  }
 ],
 "metadata": {
  "kernelspec": {
   "display_name": "Python 3",
   "language": "python",
   "name": "python3"
  },
  "language_info": {
   "codemirror_mode": {
    "name": "ipython",
    "version": 3
   },
   "file_extension": ".py",
   "mimetype": "text/x-python",
   "name": "python",
   "nbconvert_exporter": "python",
   "pygments_lexer": "ipython3",
   "version": "3.6.15"
  },
  "papermill": {
   "default_parameters": {},
   "duration": 197.942136,
   "end_time": "2022-05-09T00:41:20.198145",
   "environment_variables": {},
   "exception": null,
   "input_path": "2020-08-11-part2.ipynb",
   "output_path": "2020-08-11-part2.ipynb",
   "parameters": {},
   "start_time": "2022-05-09T00:38:02.256009",
   "version": "2.3.3"
  }
 },
 "nbformat": 4,
 "nbformat_minor": 5
}