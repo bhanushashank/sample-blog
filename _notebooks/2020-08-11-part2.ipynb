{
 "cells": [
  {
   "cell_type": "markdown",
   "id": "98380cd3",
   "metadata": {
    "papermill": {
     "duration": 0.028823,
     "end_time": "2022-02-25T20:09:31.111789",
     "exception": false,
     "start_time": "2022-02-25T20:09:31.082966",
     "status": "completed"
    },
    "tags": []
   },
   "source": [
    "# Distinguish Your Own Digits (DYOD)"
   ]
  },
  {
   "cell_type": "markdown",
   "id": "ef31240d",
   "metadata": {
    "papermill": {
     "duration": 0.025628,
     "end_time": "2022-02-25T20:09:31.162057",
     "exception": false,
     "start_time": "2022-02-25T20:09:31.136429",
     "status": "completed"
    },
    "tags": []
   },
   "source": [
    "You are going to write a classifier that distinguishes between the number 3 and number 8."
   ]
  },
  {
   "cell_type": "code",
   "execution_count": 1,
   "id": "b15c8646",
   "metadata": {
    "execution": {
     "iopub.execute_input": "2022-02-25T20:09:31.221298Z",
     "iopub.status.busy": "2022-02-25T20:09:31.220760Z",
     "iopub.status.idle": "2022-02-25T20:09:31.230817Z",
     "shell.execute_reply": "2022-02-25T20:09:31.231313Z"
    },
    "papermill": {
     "duration": 0.045453,
     "end_time": "2022-02-25T20:09:31.231474",
     "exception": false,
     "start_time": "2022-02-25T20:09:31.186021",
     "status": "completed"
    },
    "tags": []
   },
   "outputs": [],
   "source": [
    "%load_ext autoreload\n",
    "%autoreload 2"
   ]
  },
  {
   "cell_type": "code",
   "execution_count": 2,
   "id": "22ef38dc",
   "metadata": {
    "execution": {
     "iopub.execute_input": "2022-02-25T20:09:31.283957Z",
     "iopub.status.busy": "2022-02-25T20:09:31.282468Z",
     "iopub.status.idle": "2022-02-25T20:09:31.890915Z",
     "shell.execute_reply": "2022-02-25T20:09:31.890382Z"
    },
    "papermill": {
     "duration": 0.635304,
     "end_time": "2022-02-25T20:09:31.891062",
     "exception": false,
     "start_time": "2022-02-25T20:09:31.255758",
     "status": "completed"
    },
    "tags": []
   },
   "outputs": [],
   "source": [
    "%matplotlib inline\n",
    "import numpy as np\n",
    "import matplotlib.pyplot as plt\n",
    "import pandas as pd"
   ]
  },
  {
   "cell_type": "markdown",
   "id": "ba036198",
   "metadata": {
    "papermill": {
     "duration": 0.023993,
     "end_time": "2022-02-25T20:09:31.939889",
     "exception": false,
     "start_time": "2022-02-25T20:09:31.915896",
     "status": "completed"
    },
    "tags": []
   },
   "source": [
    "From the command line run `pip install mnist`. This is a library that will help you bring down the mnist dataset. If you run this from a notebook, you need to put  `!pip install mnist` in a cell by itself."
   ]
  },
  {
   "cell_type": "code",
   "execution_count": 3,
   "id": "bb6ad8a1",
   "metadata": {
    "execution": {
     "iopub.execute_input": "2022-02-25T20:09:31.995084Z",
     "iopub.status.busy": "2022-02-25T20:09:31.994558Z",
     "iopub.status.idle": "2022-02-25T20:09:33.852202Z",
     "shell.execute_reply": "2022-02-25T20:09:33.851353Z"
    },
    "papermill": {
     "duration": 1.888394,
     "end_time": "2022-02-25T20:09:33.852344",
     "exception": false,
     "start_time": "2022-02-25T20:09:31.963950",
     "status": "completed"
    },
    "tags": []
   },
   "outputs": [
    {
     "name": "stdout",
     "output_type": "stream",
     "text": [
      "Collecting mnist\r\n"
     ]
    },
    {
     "name": "stdout",
     "output_type": "stream",
     "text": [
      "  Downloading mnist-0.2.2-py2.py3-none-any.whl (3.5 kB)\r\n",
      "Requirement already satisfied: numpy in /opt/hostedtoolcache/Python/3.6.15/x64/lib/python3.6/site-packages (from mnist) (1.19.5)\r\n"
     ]
    },
    {
     "name": "stdout",
     "output_type": "stream",
     "text": [
      "Installing collected packages: mnist\r\n"
     ]
    },
    {
     "name": "stdout",
     "output_type": "stream",
     "text": [
      "Successfully installed mnist-0.2.2\r\n"
     ]
    }
   ],
   "source": [
    "!pip install mnist"
   ]
  },
  {
   "cell_type": "markdown",
   "id": "69df9c9a",
   "metadata": {
    "papermill": {
     "duration": 0.025161,
     "end_time": "2022-02-25T20:09:33.903042",
     "exception": false,
     "start_time": "2022-02-25T20:09:33.877881",
     "status": "completed"
    },
    "tags": []
   },
   "source": [
    "## Preparing the Data"
   ]
  },
  {
   "cell_type": "code",
   "execution_count": 4,
   "id": "7f69d806",
   "metadata": {
    "execution": {
     "iopub.execute_input": "2022-02-25T20:09:33.966491Z",
     "iopub.status.busy": "2022-02-25T20:09:33.962215Z",
     "iopub.status.idle": "2022-02-25T20:09:33.973706Z",
     "shell.execute_reply": "2022-02-25T20:09:33.973262Z"
    },
    "papermill": {
     "duration": 0.045725,
     "end_time": "2022-02-25T20:09:33.973843",
     "exception": false,
     "start_time": "2022-02-25T20:09:33.928118",
     "status": "completed"
    },
    "tags": []
   },
   "outputs": [],
   "source": [
    "import mnist"
   ]
  },
  {
   "cell_type": "code",
   "execution_count": 5,
   "id": "a411e44f",
   "metadata": {
    "execution": {
     "iopub.execute_input": "2022-02-25T20:09:34.047277Z",
     "iopub.status.busy": "2022-02-25T20:09:34.042816Z",
     "iopub.status.idle": "2022-02-25T20:09:34.764502Z",
     "shell.execute_reply": "2022-02-25T20:09:34.763940Z"
    },
    "papermill": {
     "duration": 0.765564,
     "end_time": "2022-02-25T20:09:34.764636",
     "exception": false,
     "start_time": "2022-02-25T20:09:33.999072",
     "status": "completed"
    },
    "tags": []
   },
   "outputs": [],
   "source": [
    "train_images = mnist.train_images()\n",
    "train_labels = mnist.train_labels()"
   ]
  },
  {
   "cell_type": "code",
   "execution_count": 6,
   "id": "dceab3a5",
   "metadata": {
    "execution": {
     "iopub.execute_input": "2022-02-25T20:09:34.822475Z",
     "iopub.status.busy": "2022-02-25T20:09:34.819181Z",
     "iopub.status.idle": "2022-02-25T20:09:34.833774Z",
     "shell.execute_reply": "2022-02-25T20:09:34.833074Z"
    },
    "papermill": {
     "duration": 0.043455,
     "end_time": "2022-02-25T20:09:34.833896",
     "exception": false,
     "start_time": "2022-02-25T20:09:34.790441",
     "status": "completed"
    },
    "tags": []
   },
   "outputs": [
    {
     "data": {
      "text/plain": [
       "((60000, 28, 28), (60000,))"
      ]
     },
     "execution_count": 6,
     "metadata": {},
     "output_type": "execute_result"
    }
   ],
   "source": [
    "train_images.shape, train_labels.shape"
   ]
  },
  {
   "cell_type": "code",
   "execution_count": 7,
   "id": "f50dc2bb",
   "metadata": {
    "execution": {
     "iopub.execute_input": "2022-02-25T20:09:34.889346Z",
     "iopub.status.busy": "2022-02-25T20:09:34.888837Z",
     "iopub.status.idle": "2022-02-25T20:09:35.097938Z",
     "shell.execute_reply": "2022-02-25T20:09:35.098405Z"
    },
    "papermill": {
     "duration": 0.238933,
     "end_time": "2022-02-25T20:09:35.098554",
     "exception": false,
     "start_time": "2022-02-25T20:09:34.859621",
     "status": "completed"
    },
    "tags": []
   },
   "outputs": [],
   "source": [
    "test_images = mnist.test_images()\n",
    "test_labels = mnist.test_labels()"
   ]
  },
  {
   "cell_type": "code",
   "execution_count": 8,
   "id": "fc38cf1b",
   "metadata": {
    "execution": {
     "iopub.execute_input": "2022-02-25T20:09:35.159213Z",
     "iopub.status.busy": "2022-02-25T20:09:35.158653Z",
     "iopub.status.idle": "2022-02-25T20:09:35.170507Z",
     "shell.execute_reply": "2022-02-25T20:09:35.170053Z"
    },
    "papermill": {
     "duration": 0.046222,
     "end_time": "2022-02-25T20:09:35.170630",
     "exception": false,
     "start_time": "2022-02-25T20:09:35.124408",
     "status": "completed"
    },
    "tags": []
   },
   "outputs": [
    {
     "data": {
      "text/plain": [
       "((10000, 28, 28), (10000,))"
      ]
     },
     "execution_count": 8,
     "metadata": {},
     "output_type": "execute_result"
    }
   ],
   "source": [
    "test_images.shape, test_labels.shape"
   ]
  },
  {
   "cell_type": "code",
   "execution_count": 9,
   "id": "f9ed8fe0",
   "metadata": {
    "execution": {
     "iopub.execute_input": "2022-02-25T20:09:35.231106Z",
     "iopub.status.busy": "2022-02-25T20:09:35.230583Z",
     "iopub.status.idle": "2022-02-25T20:09:35.371125Z",
     "shell.execute_reply": "2022-02-25T20:09:35.370293Z"
    },
    "papermill": {
     "duration": 0.174522,
     "end_time": "2022-02-25T20:09:35.371259",
     "exception": false,
     "start_time": "2022-02-25T20:09:35.196737",
     "status": "completed"
    },
    "tags": []
   },
   "outputs": [
    {
     "name": "stdout",
     "output_type": "stream",
     "text": [
      "2\n"
     ]
    },
    {
     "data": {
      "text/plain": [
       "<matplotlib.image.AxesImage at 0x7f16c63d84e0>"
      ]
     },
     "execution_count": 9,
     "metadata": {},
     "output_type": "execute_result"
    },
    {
     "data": {
      "image/png": "[encoded data removed]",
      "text/plain": [
       "<Figure size 432x288 with 1 Axes>"
      ]
     },
     "metadata": {
      "needs_background": "light"
     },
     "output_type": "display_data"
    }
   ],
   "source": [
    "image_index = 7776 # You may select anything up to 60,000\n",
    "print(train_labels[image_index]) \n",
    "plt.imshow(train_images[image_index], cmap='Greys')"
   ]
  },
  {
   "cell_type": "markdown",
   "id": "a8d2388d",
   "metadata": {
    "papermill": {
     "duration": 0.027381,
     "end_time": "2022-02-25T20:09:35.425791",
     "exception": false,
     "start_time": "2022-02-25T20:09:35.398410",
     "status": "completed"
    },
    "tags": []
   },
   "source": [
    "## Filter data to get 3 and 8 out"
   ]
  },
  {
   "cell_type": "code",
   "execution_count": 10,
   "id": "776f7fc7",
   "metadata": {
    "execution": {
     "iopub.execute_input": "2022-02-25T20:09:35.484951Z",
     "iopub.status.busy": "2022-02-25T20:09:35.483922Z",
     "iopub.status.idle": "2022-02-25T20:09:35.502518Z",
     "shell.execute_reply": "2022-02-25T20:09:35.502929Z"
    },
    "papermill": {
     "duration": 0.050342,
     "end_time": "2022-02-25T20:09:35.503079",
     "exception": false,
     "start_time": "2022-02-25T20:09:35.452737",
     "status": "completed"
    },
    "tags": []
   },
   "outputs": [],
   "source": [
    "train_filter = np.where((train_labels == 3 ) | (train_labels == 8))\n",
    "test_filter = np.where((test_labels == 3) | (test_labels == 8))\n",
    "X_train, y_train = train_images[train_filter], train_labels[train_filter]\n",
    "X_test, y_test = test_images[test_filter], test_labels[test_filter]"
   ]
  },
  {
   "cell_type": "markdown",
   "id": "948f0b7e",
   "metadata": {
    "papermill": {
     "duration": 0.027557,
     "end_time": "2022-02-25T20:09:35.558068",
     "exception": false,
     "start_time": "2022-02-25T20:09:35.530511",
     "status": "completed"
    },
    "tags": []
   },
   "source": [
    "We normalize the pizel values in the 0 to 1 range"
   ]
  },
  {
   "cell_type": "code",
   "execution_count": 11,
   "id": "ee4c2166",
   "metadata": {
    "execution": {
     "iopub.execute_input": "2022-02-25T20:09:35.628530Z",
     "iopub.status.busy": "2022-02-25T20:09:35.615220Z",
     "iopub.status.idle": "2022-02-25T20:09:35.667275Z",
     "shell.execute_reply": "2022-02-25T20:09:35.666792Z"
    },
    "papermill": {
     "duration": 0.082334,
     "end_time": "2022-02-25T20:09:35.667404",
     "exception": false,
     "start_time": "2022-02-25T20:09:35.585070",
     "status": "completed"
    },
    "tags": []
   },
   "outputs": [],
   "source": [
    "X_train = X_train/255.\n",
    "X_test = X_test/255."
   ]
  },
  {
   "cell_type": "markdown",
   "id": "ddcf4fab",
   "metadata": {
    "papermill": {
     "duration": 0.027113,
     "end_time": "2022-02-25T20:09:35.721755",
     "exception": false,
     "start_time": "2022-02-25T20:09:35.694642",
     "status": "completed"
    },
    "tags": []
   },
   "source": [
    "And setup the labels as 1 (when the digit is 3) and 0 (when the digit is 8)"
   ]
  },
  {
   "cell_type": "code",
   "execution_count": 12,
   "id": "7dc908f2",
   "metadata": {
    "execution": {
     "iopub.execute_input": "2022-02-25T20:09:35.779644Z",
     "iopub.status.busy": "2022-02-25T20:09:35.779123Z",
     "iopub.status.idle": "2022-02-25T20:09:35.791207Z",
     "shell.execute_reply": "2022-02-25T20:09:35.790760Z"
    },
    "papermill": {
     "duration": 0.042452,
     "end_time": "2022-02-25T20:09:35.791322",
     "exception": false,
     "start_time": "2022-02-25T20:09:35.748870",
     "status": "completed"
    },
    "tags": []
   },
   "outputs": [],
   "source": [
    "y_train = 1*(y_train==3)\n",
    "y_test = 1*(y_test==3)"
   ]
  },
  {
   "cell_type": "code",
   "execution_count": 13,
   "id": "01e4e969",
   "metadata": {
    "execution": {
     "iopub.execute_input": "2022-02-25T20:09:35.850037Z",
     "iopub.status.busy": "2022-02-25T20:09:35.849497Z",
     "iopub.status.idle": "2022-02-25T20:09:35.862815Z",
     "shell.execute_reply": "2022-02-25T20:09:35.862363Z"
    },
    "papermill": {
     "duration": 0.044626,
     "end_time": "2022-02-25T20:09:35.862934",
     "exception": false,
     "start_time": "2022-02-25T20:09:35.818308",
     "status": "completed"
    },
    "tags": []
   },
   "outputs": [
    {
     "data": {
      "text/plain": [
       "((11982, 28, 28), (1984, 28, 28))"
      ]
     },
     "execution_count": 13,
     "metadata": {},
     "output_type": "execute_result"
    }
   ],
   "source": [
    "X_train.shape, X_test.shape"
   ]
  },
  {
   "cell_type": "markdown",
   "id": "5ccf3f85",
   "metadata": {
    "papermill": {
     "duration": 0.026981,
     "end_time": "2022-02-25T20:09:35.917143",
     "exception": false,
     "start_time": "2022-02-25T20:09:35.890162",
     "status": "completed"
    },
    "tags": []
   },
   "source": [
    "We reshape the data to flatten the image pixels into a set of features or co-variates:"
   ]
  },
  {
   "cell_type": "code",
   "execution_count": 14,
   "id": "5286a4a3",
   "metadata": {
    "execution": {
     "iopub.execute_input": "2022-02-25T20:09:35.987536Z",
     "iopub.status.busy": "2022-02-25T20:09:35.982537Z",
     "iopub.status.idle": "2022-02-25T20:09:35.993470Z",
     "shell.execute_reply": "2022-02-25T20:09:35.993878Z"
    },
    "papermill": {
     "duration": 0.049753,
     "end_time": "2022-02-25T20:09:35.994022",
     "exception": false,
     "start_time": "2022-02-25T20:09:35.944269",
     "status": "completed"
    },
    "tags": []
   },
   "outputs": [
    {
     "data": {
      "text/plain": [
       "((11982, 784), (1984, 784))"
      ]
     },
     "execution_count": 14,
     "metadata": {},
     "output_type": "execute_result"
    }
   ],
   "source": [
    "X_train = X_train.reshape(X_train.shape[0], -1)\n",
    "X_test = X_test.reshape(X_test.shape[0], -1)\n",
    "X_train.shape, X_test.shape"
   ]
  },
  {
   "cell_type": "code",
   "execution_count": 15,
   "id": "73c5f88a",
   "metadata": {
    "execution": {
     "iopub.execute_input": "2022-02-25T20:09:36.058374Z",
     "iopub.status.busy": "2022-02-25T20:09:36.053338Z",
     "iopub.status.idle": "2022-02-25T20:09:36.073009Z",
     "shell.execute_reply": "2022-02-25T20:09:36.072573Z"
    },
    "papermill": {
     "duration": 0.051546,
     "end_time": "2022-02-25T20:09:36.073132",
     "exception": false,
     "start_time": "2022-02-25T20:09:36.021586",
     "status": "completed"
    },
    "tags": []
   },
   "outputs": [],
   "source": [
    "#Impoting functions from 'Kudzu'\n",
    "from kudzu.model import Model\n",
    "from kudzu.train import Learner\n",
    "from kudzu.optim import GD\n",
    "from kudzu.data import Data, Sampler,Dataloader\n",
    "\n",
    "from kudzu.callbacks import AccCallback\n",
    "from kudzu.callbacks import ClfCallback\n",
    "\n",
    "from kudzu.loss import MSE\n",
    "\n",
    "from kudzu.layer import Sigmoid,Relu\n",
    "from kudzu.layer import Affine"
   ]
  },
  {
   "cell_type": "markdown",
   "id": "bc01172a",
   "metadata": {
    "papermill": {
     "duration": 0.027285,
     "end_time": "2022-02-25T20:09:36.128033",
     "exception": false,
     "start_time": "2022-02-25T20:09:36.100748",
     "status": "completed"
    },
    "tags": []
   },
   "source": [
    "### Let us create a `Config` class, to store important parameters. \n",
    "This class essentially plays the role of a dictionary."
   ]
  },
  {
   "cell_type": "code",
   "execution_count": 16,
   "id": "978281aa",
   "metadata": {
    "execution": {
     "iopub.execute_input": "2022-02-25T20:09:36.191092Z",
     "iopub.status.busy": "2022-02-25T20:09:36.190565Z",
     "iopub.status.idle": "2022-02-25T20:09:36.199634Z",
     "shell.execute_reply": "2022-02-25T20:09:36.200024Z"
    },
    "papermill": {
     "duration": 0.044791,
     "end_time": "2022-02-25T20:09:36.200161",
     "exception": false,
     "start_time": "2022-02-25T20:09:36.155370",
     "status": "completed"
    },
    "tags": []
   },
   "outputs": [],
   "source": [
    "class Config:\n",
    "    pass\n",
    "config = Config()\n",
    "config.lr = 0.001\n",
    "config.num_epochs = 250\n",
    "config.bs = 50"
   ]
  },
  {
   "cell_type": "markdown",
   "id": "1385fa59",
   "metadata": {
    "papermill": {
     "duration": 0.02742,
     "end_time": "2022-02-25T20:09:36.254975",
     "exception": false,
     "start_time": "2022-02-25T20:09:36.227555",
     "status": "completed"
    },
    "tags": []
   },
   "source": [
    "### Running Models with the Training data\n",
    "Details about the network layers:\n",
    "- A first affine layer has 784 inputs and does 100 affine transforms. These are followed by a Relu\n",
    "- A second affine layer has 100 inputs from the 100 activations of the past layer, and does 100 affine transforms. These are followed by a Relu\n",
    "- A third affine layer has 100 activations and does 2 affine transformations to create an embedding for visualization. There is no non-linearity here.\n",
    "- A final \"logistic regression\" which has an affine transform from 2 inputs to 1 output, which is squeezed through a sigmoid.\n"
   ]
  },
  {
   "cell_type": "code",
   "execution_count": 17,
   "id": "2b9c66db",
   "metadata": {
    "execution": {
     "iopub.execute_input": "2022-02-25T20:09:36.314059Z",
     "iopub.status.busy": "2022-02-25T20:09:36.313502Z",
     "iopub.status.idle": "2022-02-25T20:09:36.326614Z",
     "shell.execute_reply": "2022-02-25T20:09:36.326194Z"
    },
    "papermill": {
     "duration": 0.044184,
     "end_time": "2022-02-25T20:09:36.326730",
     "exception": false,
     "start_time": "2022-02-25T20:09:36.282546",
     "status": "completed"
    },
    "tags": []
   },
   "outputs": [],
   "source": [
    "data = Data(X_train, y_train.reshape(-1,1))\n",
    "sampler = Sampler(data, config.bs, shuffle=True)\n",
    "\n",
    "dl = Dataloader(data, sampler)\n",
    "\n",
    "opt = GD(config.lr)\n",
    "loss = MSE()"
   ]
  },
  {
   "cell_type": "code",
   "execution_count": 18,
   "id": "b275e4c2",
   "metadata": {
    "execution": {
     "iopub.execute_input": "2022-02-25T20:09:36.385431Z",
     "iopub.status.busy": "2022-02-25T20:09:36.384906Z",
     "iopub.status.idle": "2022-02-25T20:09:36.397644Z",
     "shell.execute_reply": "2022-02-25T20:09:36.397225Z"
    },
    "papermill": {
     "duration": 0.04362,
     "end_time": "2022-02-25T20:09:36.397779",
     "exception": false,
     "start_time": "2022-02-25T20:09:36.354159",
     "status": "completed"
    },
    "tags": []
   },
   "outputs": [],
   "source": [
    "training_data_x = X_train\n",
    "testing_data_x = X_test\n",
    "training_data_y = y_train.reshape(-1,1)\n",
    "testing_data_y = y_test.reshape(-1,1)"
   ]
  },
  {
   "cell_type": "code",
   "execution_count": 19,
   "id": "76951160",
   "metadata": {
    "execution": {
     "iopub.execute_input": "2022-02-25T20:09:36.462315Z",
     "iopub.status.busy": "2022-02-25T20:09:36.461707Z",
     "iopub.status.idle": "2022-02-25T20:09:36.474644Z",
     "shell.execute_reply": "2022-02-25T20:09:36.475032Z"
    },
    "papermill": {
     "duration": 0.050163,
     "end_time": "2022-02-25T20:09:36.475176",
     "exception": false,
     "start_time": "2022-02-25T20:09:36.425013",
     "status": "completed"
    },
    "tags": []
   },
   "outputs": [
    {
     "name": "stdout",
     "output_type": "stream",
     "text": [
      "xavier\n",
      "xavier\n",
      "xavier\n",
      "xavier\n",
      "xavier\n"
     ]
    }
   ],
   "source": [
    "layers = [Affine(\"first\", 784, 100), Relu(\"first\"), Affine(\"second\", 100, 100), Relu(\"second\"), Affine(\"third\", 100, 2), Affine(\"last\", 2, 1), Sigmoid(\"last\")]\n",
    "model_nn = Model(layers)\n",
    "model_lr = Model([Affine(\"logits\", 784, 1), Sigmoid(\"sigmoid\")])"
   ]
  },
  {
   "cell_type": "code",
   "execution_count": 20,
   "id": "6eede77a",
   "metadata": {
    "execution": {
     "iopub.execute_input": "2022-02-25T20:09:36.539059Z",
     "iopub.status.busy": "2022-02-25T20:09:36.538532Z",
     "iopub.status.idle": "2022-02-25T20:09:36.547612Z",
     "shell.execute_reply": "2022-02-25T20:09:36.547197Z"
    },
    "papermill": {
     "duration": 0.0448,
     "end_time": "2022-02-25T20:09:36.547725",
     "exception": false,
     "start_time": "2022-02-25T20:09:36.502925",
     "status": "completed"
    },
    "tags": []
   },
   "outputs": [],
   "source": [
    "nn_learner = Learner(loss, model_nn, opt, config.num_epochs)\n",
    "acc_nn = ClfCallback(nn_learner, config.bs, training_data_x , testing_data_x, training_data_y, testing_data_y)\n",
    "nn_learner.set_callbacks([acc_nn])"
   ]
  },
  {
   "cell_type": "code",
   "execution_count": 21,
   "id": "877b6cc7",
   "metadata": {
    "execution": {
     "iopub.execute_input": "2022-02-25T20:09:36.612979Z",
     "iopub.status.busy": "2022-02-25T20:09:36.612455Z",
     "iopub.status.idle": "2022-02-25T20:09:36.621892Z",
     "shell.execute_reply": "2022-02-25T20:09:36.621449Z"
    },
    "papermill": {
     "duration": 0.046464,
     "end_time": "2022-02-25T20:09:36.622013",
     "exception": false,
     "start_time": "2022-02-25T20:09:36.575549",
     "status": "completed"
    },
    "tags": []
   },
   "outputs": [],
   "source": [
    "lr_learner = Learner(loss, model_lr, opt, config.num_epochs)\n",
    "acc_lr = ClfCallback(lr_learner, config.bs, training_data_x , testing_data_x, training_data_y, testing_data_y)\n",
    "lr_learner.set_callbacks([acc_lr])"
   ]
  },
  {
   "cell_type": "code",
   "execution_count": 22,
   "id": "d9b133c3",
   "metadata": {
    "execution": {
     "iopub.execute_input": "2022-02-25T20:09:36.689020Z",
     "iopub.status.busy": "2022-02-25T20:09:36.688498Z",
     "iopub.status.idle": "2022-02-25T20:10:56.822574Z",
     "shell.execute_reply": "2022-02-25T20:10:56.823345Z"
    },
    "papermill": {
     "duration": 80.173843,
     "end_time": "2022-02-25T20:10:56.823504",
     "exception": false,
     "start_time": "2022-02-25T20:09:36.649661",
     "status": "completed"
    },
    "tags": []
   },
   "outputs": [
    {
     "name": "stdout",
     "output_type": "stream",
     "text": [
      "Epoch 0, Loss 0.2292\n",
      "Training Accuracy: 0.7663, Testing Accuracy: 0.7888\n",
      "\n"
     ]
    },
    {
     "name": "stdout",
     "output_type": "stream",
     "text": [
      "Epoch 10, Loss 0.0674\n",
      "Training Accuracy: 0.9312, Testing Accuracy: 0.9441\n",
      "\n"
     ]
    },
    {
     "name": "stdout",
     "output_type": "stream",
     "text": [
      "Epoch 20, Loss 0.0461\n",
      "Training Accuracy: 0.9494, Testing Accuracy: 0.9607\n",
      "\n"
     ]
    },
    {
     "name": "stdout",
     "output_type": "stream",
     "text": [
      "Epoch 30, Loss 0.0377\n",
      "Training Accuracy: 0.9579, Testing Accuracy: 0.9703\n",
      "\n"
     ]
    },
    {
     "name": "stdout",
     "output_type": "stream",
     "text": [
      "Epoch 40, Loss 0.0331\n",
      "Training Accuracy: 0.9629, Testing Accuracy: 0.9728\n",
      "\n"
     ]
    },
    {
     "name": "stdout",
     "output_type": "stream",
     "text": [
      "Epoch 50, Loss 0.03\n",
      "Training Accuracy: 0.9673, Testing Accuracy: 0.9738\n",
      "\n"
     ]
    },
    {
     "name": "stdout",
     "output_type": "stream",
     "text": [
      "Epoch 60, Loss 0.0278\n",
      "Training Accuracy: 0.9695, Testing Accuracy: 0.9738\n",
      "\n"
     ]
    },
    {
     "name": "stdout",
     "output_type": "stream",
     "text": [
      "Epoch 70, Loss 0.0261\n",
      "Training Accuracy: 0.9712, Testing Accuracy: 0.9733\n",
      "\n"
     ]
    },
    {
     "name": "stdout",
     "output_type": "stream",
     "text": [
      "Epoch 80, Loss 0.0248\n",
      "Training Accuracy: 0.9734, Testing Accuracy: 0.9728\n",
      "\n"
     ]
    },
    {
     "name": "stdout",
     "output_type": "stream",
     "text": [
      "Epoch 90, Loss 0.0236\n",
      "Training Accuracy: 0.9745, Testing Accuracy: 0.9743\n",
      "\n"
     ]
    },
    {
     "name": "stdout",
     "output_type": "stream",
     "text": [
      "Epoch 100, Loss 0.0226\n",
      "Training Accuracy: 0.9754, Testing Accuracy: 0.9753\n",
      "\n"
     ]
    },
    {
     "name": "stdout",
     "output_type": "stream",
     "text": [
      "Epoch 110, Loss 0.0218\n",
      "Training Accuracy: 0.9765, Testing Accuracy: 0.9748\n",
      "\n"
     ]
    },
    {
     "name": "stdout",
     "output_type": "stream",
     "text": [
      "Epoch 120, Loss 0.021\n",
      "Training Accuracy: 0.9767, Testing Accuracy: 0.9743\n",
      "\n"
     ]
    },
    {
     "name": "stdout",
     "output_type": "stream",
     "text": [
      "Epoch 130, Loss 0.0203\n",
      "Training Accuracy: 0.9776, Testing Accuracy: 0.9758\n",
      "\n"
     ]
    },
    {
     "name": "stdout",
     "output_type": "stream",
     "text": [
      "Epoch 140, Loss 0.0196\n",
      "Training Accuracy: 0.9786, Testing Accuracy: 0.9763\n",
      "\n"
     ]
    },
    {
     "name": "stdout",
     "output_type": "stream",
     "text": [
      "Epoch 150, Loss 0.019\n",
      "Training Accuracy: 0.9793, Testing Accuracy: 0.9763\n",
      "\n"
     ]
    },
    {
     "name": "stdout",
     "output_type": "stream",
     "text": [
      "Epoch 160, Loss 0.0185\n",
      "Training Accuracy: 0.9801, Testing Accuracy: 0.9763\n",
      "\n"
     ]
    },
    {
     "name": "stdout",
     "output_type": "stream",
     "text": [
      "Epoch 170, Loss 0.018\n",
      "Training Accuracy: 0.9802, Testing Accuracy: 0.9763\n",
      "\n"
     ]
    },
    {
     "name": "stdout",
     "output_type": "stream",
     "text": [
      "Epoch 180, Loss 0.0175\n",
      "Training Accuracy: 0.9810, Testing Accuracy: 0.9773\n",
      "\n"
     ]
    },
    {
     "name": "stdout",
     "output_type": "stream",
     "text": [
      "Epoch 190, Loss 0.017\n",
      "Training Accuracy: 0.9813, Testing Accuracy: 0.9778\n",
      "\n"
     ]
    },
    {
     "name": "stdout",
     "output_type": "stream",
     "text": [
      "Epoch 200, Loss 0.0166\n",
      "Training Accuracy: 0.9815, Testing Accuracy: 0.9783\n",
      "\n"
     ]
    },
    {
     "name": "stdout",
     "output_type": "stream",
     "text": [
      "Epoch 210, Loss 0.0162\n",
      "Training Accuracy: 0.9820, Testing Accuracy: 0.9783\n",
      "\n"
     ]
    },
    {
     "name": "stdout",
     "output_type": "stream",
     "text": [
      "Epoch 220, Loss 0.0158\n",
      "Training Accuracy: 0.9828, Testing Accuracy: 0.9783\n",
      "\n"
     ]
    },
    {
     "name": "stdout",
     "output_type": "stream",
     "text": [
      "Epoch 230, Loss 0.0155\n",
      "Training Accuracy: 0.9831, Testing Accuracy: 0.9783\n",
      "\n"
     ]
    },
    {
     "name": "stdout",
     "output_type": "stream",
     "text": [
      "Epoch 240, Loss 0.0151\n",
      "Training Accuracy: 0.9834, Testing Accuracy: 0.9783\n",
      "\n"
     ]
    },
    {
     "data": {
      "text/plain": [
       "0.034329683577869086"
      ]
     },
     "execution_count": 22,
     "metadata": {},
     "output_type": "execute_result"
    }
   ],
   "source": [
    "nn_learner.train_loop(dl)"
   ]
  },
  {
   "cell_type": "code",
   "execution_count": 23,
   "id": "e0163366",
   "metadata": {
    "execution": {
     "iopub.execute_input": "2022-02-25T20:10:56.903241Z",
     "iopub.status.busy": "2022-02-25T20:10:56.902695Z",
     "iopub.status.idle": "2022-02-25T20:11:11.214040Z",
     "shell.execute_reply": "2022-02-25T20:11:11.214790Z"
    },
    "papermill": {
     "duration": 14.356116,
     "end_time": "2022-02-25T20:11:11.214945",
     "exception": false,
     "start_time": "2022-02-25T20:10:56.858829",
     "status": "completed"
    },
    "tags": []
   },
   "outputs": [
    {
     "name": "stdout",
     "output_type": "stream",
     "text": [
      "Epoch 0, Loss 0.2407\n",
      "Training Accuracy: 0.6660, Testing Accuracy: 0.6658\n",
      "\n"
     ]
    },
    {
     "name": "stdout",
     "output_type": "stream",
     "text": [
      "Epoch 10, Loss 0.1032\n",
      "Training Accuracy: 0.9079, Testing Accuracy: 0.9178\n",
      "\n"
     ]
    },
    {
     "name": "stdout",
     "output_type": "stream",
     "text": [
      "Epoch 20, Loss 0.079\n",
      "Training Accuracy: 0.9274, Testing Accuracy: 0.9410\n",
      "\n"
     ]
    },
    {
     "name": "stdout",
     "output_type": "stream",
     "text": [
      "Epoch 30, Loss 0.0679\n",
      "Training Accuracy: 0.9356, Testing Accuracy: 0.9491\n",
      "\n"
     ]
    },
    {
     "name": "stdout",
     "output_type": "stream",
     "text": [
      "Epoch 40, Loss 0.0612\n",
      "Training Accuracy: 0.9419, Testing Accuracy: 0.9536\n",
      "\n"
     ]
    },
    {
     "name": "stdout",
     "output_type": "stream",
     "text": [
      "Epoch 50, Loss 0.0567\n",
      "Training Accuracy: 0.9457, Testing Accuracy: 0.9551\n",
      "\n"
     ]
    },
    {
     "name": "stdout",
     "output_type": "stream",
     "text": [
      "Epoch 60, Loss 0.0534\n",
      "Training Accuracy: 0.9490, Testing Accuracy: 0.9567\n",
      "\n"
     ]
    },
    {
     "name": "stdout",
     "output_type": "stream",
     "text": [
      "Epoch 70, Loss 0.0508\n",
      "Training Accuracy: 0.9510, Testing Accuracy: 0.9587\n",
      "\n"
     ]
    },
    {
     "name": "stdout",
     "output_type": "stream",
     "text": [
      "Epoch 80, Loss 0.0488\n",
      "Training Accuracy: 0.9525, Testing Accuracy: 0.9592\n",
      "\n"
     ]
    },
    {
     "name": "stdout",
     "output_type": "stream",
     "text": [
      "Epoch 90, Loss 0.0471\n",
      "Training Accuracy: 0.9535, Testing Accuracy: 0.9617\n",
      "\n"
     ]
    },
    {
     "name": "stdout",
     "output_type": "stream",
     "text": [
      "Epoch 100, Loss 0.0457\n",
      "Training Accuracy: 0.9539, Testing Accuracy: 0.9622\n",
      "\n"
     ]
    },
    {
     "name": "stdout",
     "output_type": "stream",
     "text": [
      "Epoch 110, Loss 0.0445\n",
      "Training Accuracy: 0.9546, Testing Accuracy: 0.9627\n",
      "\n"
     ]
    },
    {
     "name": "stdout",
     "output_type": "stream",
     "text": [
      "Epoch 120, Loss 0.0435\n",
      "Training Accuracy: 0.9556, Testing Accuracy: 0.9642\n",
      "\n"
     ]
    },
    {
     "name": "stdout",
     "output_type": "stream",
     "text": [
      "Epoch 130, Loss 0.0426\n",
      "Training Accuracy: 0.9564, Testing Accuracy: 0.9647\n",
      "\n"
     ]
    },
    {
     "name": "stdout",
     "output_type": "stream",
     "text": [
      "Epoch 140, Loss 0.0418\n",
      "Training Accuracy: 0.9571, Testing Accuracy: 0.9652\n",
      "\n"
     ]
    },
    {
     "name": "stdout",
     "output_type": "stream",
     "text": [
      "Epoch 150, Loss 0.041\n",
      "Training Accuracy: 0.9574, Testing Accuracy: 0.9652\n",
      "\n"
     ]
    },
    {
     "name": "stdout",
     "output_type": "stream",
     "text": [
      "Epoch 160, Loss 0.0404\n",
      "Training Accuracy: 0.9582, Testing Accuracy: 0.9652\n",
      "\n"
     ]
    },
    {
     "name": "stdout",
     "output_type": "stream",
     "text": [
      "Epoch 170, Loss 0.0398\n",
      "Training Accuracy: 0.9587, Testing Accuracy: 0.9652\n",
      "\n"
     ]
    },
    {
     "name": "stdout",
     "output_type": "stream",
     "text": [
      "Epoch 180, Loss 0.0392\n",
      "Training Accuracy: 0.9592, Testing Accuracy: 0.9652\n",
      "\n"
     ]
    },
    {
     "name": "stdout",
     "output_type": "stream",
     "text": [
      "Epoch 190, Loss 0.0387\n",
      "Training Accuracy: 0.9592, Testing Accuracy: 0.9662\n",
      "\n"
     ]
    },
    {
     "name": "stdout",
     "output_type": "stream",
     "text": [
      "Epoch 200, Loss 0.0383\n",
      "Training Accuracy: 0.9595, Testing Accuracy: 0.9662\n",
      "\n"
     ]
    },
    {
     "name": "stdout",
     "output_type": "stream",
     "text": [
      "Epoch 210, Loss 0.0378\n",
      "Training Accuracy: 0.9601, Testing Accuracy: 0.9657\n",
      "\n"
     ]
    },
    {
     "name": "stdout",
     "output_type": "stream",
     "text": [
      "Epoch 220, Loss 0.0374\n",
      "Training Accuracy: 0.9604, Testing Accuracy: 0.9657\n",
      "\n"
     ]
    },
    {
     "name": "stdout",
     "output_type": "stream",
     "text": [
      "Epoch 230, Loss 0.037\n",
      "Training Accuracy: 0.9604, Testing Accuracy: 0.9652\n",
      "\n"
     ]
    },
    {
     "name": "stdout",
     "output_type": "stream",
     "text": [
      "Epoch 240, Loss 0.0367\n",
      "Training Accuracy: 0.9606, Testing Accuracy: 0.9652\n",
      "\n"
     ]
    },
    {
     "data": {
      "text/plain": [
       "0.043102470371869865"
      ]
     },
     "execution_count": 23,
     "metadata": {},
     "output_type": "execute_result"
    }
   ],
   "source": [
    "lr_learner.train_loop(dl)"
   ]
  },
  {
   "cell_type": "code",
   "execution_count": 24,
   "id": "ca410940",
   "metadata": {
    "execution": {
     "iopub.execute_input": "2022-02-25T20:11:11.307741Z",
     "iopub.status.busy": "2022-02-25T20:11:11.307193Z",
     "iopub.status.idle": "2022-02-25T20:11:11.539610Z",
     "shell.execute_reply": "2022-02-25T20:11:11.539156Z"
    },
    "papermill": {
     "duration": 0.282371,
     "end_time": "2022-02-25T20:11:11.539735",
     "exception": false,
     "start_time": "2022-02-25T20:11:11.257364",
     "status": "completed"
    },
    "tags": []
   },
   "outputs": [
    {
     "data": {
      "text/plain": [
       "<matplotlib.legend.Legend at 0x7f16c5fb6c50>"
      ]
     },
     "execution_count": 24,
     "metadata": {},
     "output_type": "execute_result"
    },
    {
     "data": {
      "image/png": "[encoded data removed]",
      "text/plain": [
       "<Figure size 1080x720 with 1 Axes>"
      ]
     },
     "metadata": {
      "needs_background": "light"
     },
     "output_type": "display_data"
    }
   ],
   "source": [
    "#comparing the results of NN and LR\n",
    "plt.figure(figsize=(15,10))\n",
    "\n",
    "# Neural Network plots\n",
    "plt.plot(acc_nn.accuracies, 'r-', label = \"Training Accuracies - NN\")\n",
    "plt.plot(acc_nn.test_accuracies, 'g-', label = \"Testing Accuracies - NN\")\n",
    "\n",
    "# Logistic Regression plots\n",
    "plt.plot(acc_lr.accuracies, 'k-', label = \"Training Accuracies - LR\")\n",
    "plt.plot(acc_lr.test_accuracies, 'b-', label = \"Testing Accuracies - LR\")\n",
    "plt.legend()"
   ]
  },
  {
   "cell_type": "markdown",
   "id": "80dfb35c",
   "metadata": {
    "papermill": {
     "duration": 0.042526,
     "end_time": "2022-02-25T20:11:11.625402",
     "exception": false,
     "start_time": "2022-02-25T20:11:11.582876",
     "status": "completed"
    },
    "tags": []
   },
   "source": [
    "#### Plotting the outputs of this layer of the NN.\n"
   ]
  },
  {
   "cell_type": "code",
   "execution_count": 25,
   "id": "45eb2ff5",
   "metadata": {
    "execution": {
     "iopub.execute_input": "2022-02-25T20:11:11.717011Z",
     "iopub.status.busy": "2022-02-25T20:11:11.716366Z",
     "iopub.status.idle": "2022-02-25T20:11:11.737825Z",
     "shell.execute_reply": "2022-02-25T20:11:11.737314Z"
    },
    "papermill": {
     "duration": 0.069966,
     "end_time": "2022-02-25T20:11:11.737957",
     "exception": false,
     "start_time": "2022-02-25T20:11:11.667991",
     "status": "completed"
    },
    "tags": []
   },
   "outputs": [],
   "source": [
    "new_model = Model(layers[:-2])\n",
    "testing_plot = new_model(testing_data_x)"
   ]
  },
  {
   "cell_type": "code",
   "execution_count": 26,
   "id": "4c0a5485",
   "metadata": {
    "execution": {
     "iopub.execute_input": "2022-02-25T20:11:11.838634Z",
     "iopub.status.busy": "2022-02-25T20:11:11.838090Z",
     "iopub.status.idle": "2022-02-25T20:11:12.011465Z",
     "shell.execute_reply": "2022-02-25T20:11:12.011897Z"
    },
    "papermill": {
     "duration": 0.230036,
     "end_time": "2022-02-25T20:11:12.012044",
     "exception": false,
     "start_time": "2022-02-25T20:11:11.782008",
     "status": "completed"
    },
    "tags": []
   },
   "outputs": [
    {
     "data": {
      "text/plain": [
       "Text(0.5, 1.0, 'Outputs')"
      ]
     },
     "execution_count": 26,
     "metadata": {},
     "output_type": "execute_result"
    },
    {
     "data": {
      "image/png": "[encoded data removed]",
      "text/plain": [
       "<Figure size 576x504 with 1 Axes>"
      ]
     },
     "metadata": {
      "needs_background": "light"
     },
     "output_type": "display_data"
    }
   ],
   "source": [
    "# Plotting the scatter plot of points and color coding by class\n",
    "plt.figure(figsize=(8,7))\n",
    "plt.scatter(testing_plot[:,0], testing_plot[:,1], alpha = 0.1, c = y_test.ravel());\n",
    "plt.title('Outputs')"
   ]
  },
  {
   "cell_type": "markdown",
   "id": "a74fcf8f",
   "metadata": {
    "papermill": {
     "duration": 0.044435,
     "end_time": "2022-02-25T20:11:12.101163",
     "exception": false,
     "start_time": "2022-02-25T20:11:12.056728",
     "status": "completed"
    },
    "tags": []
   },
   "source": [
    "Probability contours"
   ]
  },
  {
   "cell_type": "code",
   "execution_count": 27,
   "id": "d0afc8e3",
   "metadata": {
    "execution": {
     "iopub.execute_input": "2022-02-25T20:11:12.196762Z",
     "iopub.status.busy": "2022-02-25T20:11:12.195415Z",
     "iopub.status.idle": "2022-02-25T20:11:12.207291Z",
     "shell.execute_reply": "2022-02-25T20:11:12.206841Z"
    },
    "papermill": {
     "duration": 0.061436,
     "end_time": "2022-02-25T20:11:12.207412",
     "exception": false,
     "start_time": "2022-02-25T20:11:12.145976",
     "status": "completed"
    },
    "tags": []
   },
   "outputs": [],
   "source": [
    "model_prob = Model(layers[-2:]) "
   ]
  },
  {
   "cell_type": "code",
   "execution_count": 28,
   "id": "9b96e238",
   "metadata": {
    "execution": {
     "iopub.execute_input": "2022-02-25T20:11:12.334572Z",
     "iopub.status.busy": "2022-02-25T20:11:12.333824Z",
     "iopub.status.idle": "2022-02-25T20:11:12.347582Z",
     "shell.execute_reply": "2022-02-25T20:11:12.347965Z"
    },
    "papermill": {
     "duration": 0.063488,
     "end_time": "2022-02-25T20:11:12.348103",
     "exception": false,
     "start_time": "2022-02-25T20:11:12.284615",
     "status": "completed"
    },
    "tags": []
   },
   "outputs": [],
   "source": [
    "#creating the x and y ranges according to the above generated plot.\n",
    "x_range = np.linspace(-4, 1, 100) \n",
    "y_range = np.linspace(-6, 6, 100) \n",
    "x_grid, y_grid = np.meshgrid(x_range, y_range) # x_grid and y_grig are of size 100 X 100\n",
    "\n",
    "# converting x_grid and y_grid to continuous arrays\n",
    "x_gridflat = np.ravel(x_grid)\n",
    "y_gridflat = np.ravel(y_grid)\n",
    "\n",
    "# The last layer of the current model takes two columns as input. Hence transpose of np.vstack() is required.\n",
    "X = np.vstack((x_gridflat, y_gridflat)).T\n",
    "\n",
    "prob_contour = model_prob(X).reshape(100,100) "
   ]
  },
  {
   "cell_type": "code",
   "execution_count": 29,
   "id": "da72499a",
   "metadata": {
    "execution": {
     "iopub.execute_input": "2022-02-25T20:11:12.444800Z",
     "iopub.status.busy": "2022-02-25T20:11:12.443011Z",
     "iopub.status.idle": "2022-02-25T20:11:12.683621Z",
     "shell.execute_reply": "2022-02-25T20:11:12.683121Z"
    },
    "papermill": {
     "duration": 0.290703,
     "end_time": "2022-02-25T20:11:12.683758",
     "exception": false,
     "start_time": "2022-02-25T20:11:12.393055",
     "status": "completed"
    },
    "tags": []
   },
   "outputs": [
    {
     "data": {
      "image/png": "[encoded data removed]",
      "text/plain": [
       "<Figure size 720x648 with 1 Axes>"
      ]
     },
     "metadata": {
      "needs_background": "light"
     },
     "output_type": "display_data"
    }
   ],
   "source": [
    "plt.figure(figsize=(10,9))\n",
    "plt.scatter(testing_plot[:,0], testing_plot[:,1], alpha = 0.1, c = y_test.ravel())\n",
    "contours = plt.contour(x_grid,y_grid,prob_contour)\n",
    "plt.title('Probability Contours')\n",
    "plt.clabel(contours, inline = True );"
   ]
  },
  {
   "cell_type": "code",
   "execution_count": null,
   "id": "e81b4ac7",
   "metadata": {
    "papermill": {
     "duration": 0.047858,
     "end_time": "2022-02-25T20:11:12.780862",
     "exception": false,
     "start_time": "2022-02-25T20:11:12.733004",
     "status": "completed"
    },
    "tags": []
   },
   "outputs": [],
   "source": []
  }
 ],
 "metadata": {
  "kernelspec": {
   "display_name": "Python 3",
   "language": "python",
   "name": "python3"
  },
  "language_info": {
   "codemirror_mode": {
    "name": "ipython",
    "version": 3
   },
   "file_extension": ".py",
   "mimetype": "text/x-python",
   "name": "python",
   "nbconvert_exporter": "python",
   "pygments_lexer": "ipython3",
   "version": "3.6.15"
  },
  "papermill": {
   "default_parameters": {},
   "duration": 103.115312,
   "end_time": "2022-02-25T20:11:13.247868",
   "environment_variables": {},
   "exception": null,
   "input_path": "2020-08-11-part2.ipynb",
   "output_path": "2020-08-11-part2.ipynb",
   "parameters": {},
   "start_time": "2022-02-25T20:09:30.132556",
   "version": "2.3.3"
  }
 },
 "nbformat": 4,
 "nbformat_minor": 5
}