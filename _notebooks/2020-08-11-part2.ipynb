{
 "cells": [
  {
   "cell_type": "markdown",
   "id": "98380cd3",
   "metadata": {
    "papermill": {
     "duration": 0.028741,
     "end_time": "2022-01-05T00:25:46.546284",
     "exception": false,
     "start_time": "2022-01-05T00:25:46.517543",
     "status": "completed"
    },
    "tags": []
   },
   "source": [
    "# Distinguish Your Own Digits (DYOD)"
   ]
  },
  {
   "cell_type": "markdown",
   "id": "ef31240d",
   "metadata": {
    "papermill": {
     "duration": 0.023849,
     "end_time": "2022-01-05T00:25:46.594719",
     "exception": false,
     "start_time": "2022-01-05T00:25:46.570870",
     "status": "completed"
    },
    "tags": []
   },
   "source": [
    "You are going to write a classifier that distinguishes between the number 3 and number 8."
   ]
  },
  {
   "cell_type": "code",
   "execution_count": 1,
   "id": "b15c8646",
   "metadata": {
    "execution": {
     "iopub.execute_input": "2022-01-05T00:25:46.654352Z",
     "iopub.status.busy": "2022-01-05T00:25:46.653800Z",
     "iopub.status.idle": "2022-01-05T00:25:46.664420Z",
     "shell.execute_reply": "2022-01-05T00:25:46.663989Z"
    },
    "papermill": {
     "duration": 0.045987,
     "end_time": "2022-01-05T00:25:46.664557",
     "exception": false,
     "start_time": "2022-01-05T00:25:46.618570",
     "status": "completed"
    },
    "tags": []
   },
   "outputs": [],
   "source": [
    "%load_ext autoreload\n",
    "%autoreload 2"
   ]
  },
  {
   "cell_type": "code",
   "execution_count": 2,
   "id": "22ef38dc",
   "metadata": {
    "execution": {
     "iopub.execute_input": "2022-01-05T00:25:46.716878Z",
     "iopub.status.busy": "2022-01-05T00:25:46.716345Z",
     "iopub.status.idle": "2022-01-05T00:25:47.328787Z",
     "shell.execute_reply": "2022-01-05T00:25:47.327639Z"
    },
    "papermill": {
     "duration": 0.64036,
     "end_time": "2022-01-05T00:25:47.328934",
     "exception": false,
     "start_time": "2022-01-05T00:25:46.688574",
     "status": "completed"
    },
    "tags": []
   },
   "outputs": [],
   "source": [
    "%matplotlib inline\n",
    "import numpy as np\n",
    "import matplotlib.pyplot as plt\n",
    "import pandas as pd"
   ]
  },
  {
   "cell_type": "markdown",
   "id": "ba036198",
   "metadata": {
    "papermill": {
     "duration": 0.024162,
     "end_time": "2022-01-05T00:25:47.377290",
     "exception": false,
     "start_time": "2022-01-05T00:25:47.353128",
     "status": "completed"
    },
    "tags": []
   },
   "source": [
    "From the command line run `pip install mnist`. This is a library that will help you bring down the mnist dataset. If you run this from a notebook, you need to put  `!pip install mnist` in a cell by itself."
   ]
  },
  {
   "cell_type": "code",
   "execution_count": 3,
   "id": "bb6ad8a1",
   "metadata": {
    "execution": {
     "iopub.execute_input": "2022-01-05T00:25:47.434371Z",
     "iopub.status.busy": "2022-01-05T00:25:47.429662Z",
     "iopub.status.idle": "2022-01-05T00:25:49.098396Z",
     "shell.execute_reply": "2022-01-05T00:25:49.097443Z"
    },
    "papermill": {
     "duration": 1.696954,
     "end_time": "2022-01-05T00:25:49.098544",
     "exception": false,
     "start_time": "2022-01-05T00:25:47.401590",
     "status": "completed"
    },
    "tags": []
   },
   "outputs": [
    {
     "name": "stdout",
     "output_type": "stream",
     "text": [
      "Collecting mnist\r\n"
     ]
    },
    {
     "name": "stdout",
     "output_type": "stream",
     "text": [
      "  Downloading mnist-0.2.2-py2.py3-none-any.whl (3.5 kB)\r\n",
      "Requirement already satisfied: numpy in /opt/hostedtoolcache/Python/3.6.15/x64/lib/python3.6/site-packages (from mnist) (1.19.5)\r\n"
     ]
    },
    {
     "name": "stdout",
     "output_type": "stream",
     "text": [
      "Installing collected packages: mnist\r\n"
     ]
    },
    {
     "name": "stdout",
     "output_type": "stream",
     "text": [
      "Successfully installed mnist-0.2.2\r\n"
     ]
    }
   ],
   "source": [
    "!pip install mnist"
   ]
  },
  {
   "cell_type": "markdown",
   "id": "69df9c9a",
   "metadata": {
    "papermill": {
     "duration": 0.022182,
     "end_time": "2022-01-05T00:25:49.144071",
     "exception": false,
     "start_time": "2022-01-05T00:25:49.121889",
     "status": "completed"
    },
    "tags": []
   },
   "source": [
    "## Preparing the Data"
   ]
  },
  {
   "cell_type": "code",
   "execution_count": 4,
   "id": "7f69d806",
   "metadata": {
    "execution": {
     "iopub.execute_input": "2022-01-05T00:25:49.199370Z",
     "iopub.status.busy": "2022-01-05T00:25:49.196741Z",
     "iopub.status.idle": "2022-01-05T00:25:49.209528Z",
     "shell.execute_reply": "2022-01-05T00:25:49.209892Z"
    },
    "papermill": {
     "duration": 0.043866,
     "end_time": "2022-01-05T00:25:49.210033",
     "exception": false,
     "start_time": "2022-01-05T00:25:49.166167",
     "status": "completed"
    },
    "tags": []
   },
   "outputs": [],
   "source": [
    "import mnist"
   ]
  },
  {
   "cell_type": "code",
   "execution_count": 5,
   "id": "a411e44f",
   "metadata": {
    "execution": {
     "iopub.execute_input": "2022-01-05T00:25:49.262479Z",
     "iopub.status.busy": "2022-01-05T00:25:49.261977Z",
     "iopub.status.idle": "2022-01-05T00:25:49.790958Z",
     "shell.execute_reply": "2022-01-05T00:25:49.790381Z"
    },
    "papermill": {
     "duration": 0.558538,
     "end_time": "2022-01-05T00:25:49.791103",
     "exception": false,
     "start_time": "2022-01-05T00:25:49.232565",
     "status": "completed"
    },
    "tags": []
   },
   "outputs": [],
   "source": [
    "train_images = mnist.train_images()\n",
    "train_labels = mnist.train_labels()"
   ]
  },
  {
   "cell_type": "code",
   "execution_count": 6,
   "id": "dceab3a5",
   "metadata": {
    "execution": {
     "iopub.execute_input": "2022-01-05T00:25:49.853021Z",
     "iopub.status.busy": "2022-01-05T00:25:49.852477Z",
     "iopub.status.idle": "2022-01-05T00:25:49.863004Z",
     "shell.execute_reply": "2022-01-05T00:25:49.863419Z"
    },
    "papermill": {
     "duration": 0.04681,
     "end_time": "2022-01-05T00:25:49.863567",
     "exception": false,
     "start_time": "2022-01-05T00:25:49.816757",
     "status": "completed"
    },
    "tags": []
   },
   "outputs": [
    {
     "data": {
      "text/plain": [
       "((60000, 28, 28), (60000,))"
      ]
     },
     "execution_count": 6,
     "metadata": {},
     "output_type": "execute_result"
    }
   ],
   "source": [
    "train_images.shape, train_labels.shape"
   ]
  },
  {
   "cell_type": "code",
   "execution_count": 7,
   "id": "f50dc2bb",
   "metadata": {
    "execution": {
     "iopub.execute_input": "2022-01-05T00:25:49.918088Z",
     "iopub.status.busy": "2022-01-05T00:25:49.917552Z",
     "iopub.status.idle": "2022-01-05T00:25:50.091181Z",
     "shell.execute_reply": "2022-01-05T00:25:50.090675Z"
    },
    "papermill": {
     "duration": 0.202458,
     "end_time": "2022-01-05T00:25:50.091322",
     "exception": false,
     "start_time": "2022-01-05T00:25:49.888864",
     "status": "completed"
    },
    "tags": []
   },
   "outputs": [],
   "source": [
    "test_images = mnist.test_images()\n",
    "test_labels = mnist.test_labels()"
   ]
  },
  {
   "cell_type": "code",
   "execution_count": 8,
   "id": "fc38cf1b",
   "metadata": {
    "execution": {
     "iopub.execute_input": "2022-01-05T00:25:50.145675Z",
     "iopub.status.busy": "2022-01-05T00:25:50.145128Z",
     "iopub.status.idle": "2022-01-05T00:25:50.156532Z",
     "shell.execute_reply": "2022-01-05T00:25:50.156986Z"
    },
    "papermill": {
     "duration": 0.041856,
     "end_time": "2022-01-05T00:25:50.157124",
     "exception": false,
     "start_time": "2022-01-05T00:25:50.115268",
     "status": "completed"
    },
    "tags": []
   },
   "outputs": [
    {
     "data": {
      "text/plain": [
       "((10000, 28, 28), (10000,))"
      ]
     },
     "execution_count": 8,
     "metadata": {},
     "output_type": "execute_result"
    }
   ],
   "source": [
    "test_images.shape, test_labels.shape"
   ]
  },
  {
   "cell_type": "code",
   "execution_count": 9,
   "id": "f9ed8fe0",
   "metadata": {
    "execution": {
     "iopub.execute_input": "2022-01-05T00:25:50.218966Z",
     "iopub.status.busy": "2022-01-05T00:25:50.210335Z",
     "iopub.status.idle": "2022-01-05T00:25:50.337256Z",
     "shell.execute_reply": "2022-01-05T00:25:50.336839Z"
    },
    "papermill": {
     "duration": 0.157567,
     "end_time": "2022-01-05T00:25:50.337379",
     "exception": false,
     "start_time": "2022-01-05T00:25:50.179812",
     "status": "completed"
    },
    "tags": []
   },
   "outputs": [
    {
     "name": "stdout",
     "output_type": "stream",
     "text": [
      "2\n"
     ]
    },
    {
     "data": {
      "text/plain": [
       "<matplotlib.image.AxesImage at 0x7f75525bc470>"
      ]
     },
     "execution_count": 9,
     "metadata": {},
     "output_type": "execute_result"
    },
    {
     "data": {
      "image/png": "[encoded data removed]",
      "text/plain": [
       "<Figure size 432x288 with 1 Axes>"
      ]
     },
     "metadata": {
      "needs_background": "light"
     },
     "output_type": "display_data"
    }
   ],
   "source": [
    "image_index = 7776 # You may select anything up to 60,000\n",
    "print(train_labels[image_index]) \n",
    "plt.imshow(train_images[image_index], cmap='Greys')"
   ]
  },
  {
   "cell_type": "markdown",
   "id": "a8d2388d",
   "metadata": {
    "papermill": {
     "duration": 0.023941,
     "end_time": "2022-01-05T00:25:50.384990",
     "exception": false,
     "start_time": "2022-01-05T00:25:50.361049",
     "status": "completed"
    },
    "tags": []
   },
   "source": [
    "## Filter data to get 3 and 8 out"
   ]
  },
  {
   "cell_type": "code",
   "execution_count": 10,
   "id": "776f7fc7",
   "metadata": {
    "execution": {
     "iopub.execute_input": "2022-01-05T00:25:50.437228Z",
     "iopub.status.busy": "2022-01-05T00:25:50.436665Z",
     "iopub.status.idle": "2022-01-05T00:25:50.453729Z",
     "shell.execute_reply": "2022-01-05T00:25:50.453164Z"
    },
    "papermill": {
     "duration": 0.045528,
     "end_time": "2022-01-05T00:25:50.453867",
     "exception": false,
     "start_time": "2022-01-05T00:25:50.408339",
     "status": "completed"
    },
    "tags": []
   },
   "outputs": [],
   "source": [
    "train_filter = np.where((train_labels == 3 ) | (train_labels == 8))\n",
    "test_filter = np.where((test_labels == 3) | (test_labels == 8))\n",
    "X_train, y_train = train_images[train_filter], train_labels[train_filter]\n",
    "X_test, y_test = test_images[test_filter], test_labels[test_filter]"
   ]
  },
  {
   "cell_type": "markdown",
   "id": "948f0b7e",
   "metadata": {
    "papermill": {
     "duration": 0.02659,
     "end_time": "2022-01-05T00:25:50.508488",
     "exception": false,
     "start_time": "2022-01-05T00:25:50.481898",
     "status": "completed"
    },
    "tags": []
   },
   "source": [
    "We normalize the pizel values in the 0 to 1 range"
   ]
  },
  {
   "cell_type": "code",
   "execution_count": 11,
   "id": "ee4c2166",
   "metadata": {
    "execution": {
     "iopub.execute_input": "2022-01-05T00:25:50.568924Z",
     "iopub.status.busy": "2022-01-05T00:25:50.568387Z",
     "iopub.status.idle": "2022-01-05T00:25:50.615471Z",
     "shell.execute_reply": "2022-01-05T00:25:50.614996Z"
    },
    "papermill": {
     "duration": 0.080407,
     "end_time": "2022-01-05T00:25:50.615602",
     "exception": false,
     "start_time": "2022-01-05T00:25:50.535195",
     "status": "completed"
    },
    "tags": []
   },
   "outputs": [],
   "source": [
    "X_train = X_train/255.\n",
    "X_test = X_test/255."
   ]
  },
  {
   "cell_type": "markdown",
   "id": "ddcf4fab",
   "metadata": {
    "papermill": {
     "duration": 0.023385,
     "end_time": "2022-01-05T00:25:50.662759",
     "exception": false,
     "start_time": "2022-01-05T00:25:50.639374",
     "status": "completed"
    },
    "tags": []
   },
   "source": [
    "And setup the labels as 1 (when the digit is 3) and 0 (when the digit is 8)"
   ]
  },
  {
   "cell_type": "code",
   "execution_count": 12,
   "id": "7dc908f2",
   "metadata": {
    "execution": {
     "iopub.execute_input": "2022-01-05T00:25:50.714764Z",
     "iopub.status.busy": "2022-01-05T00:25:50.714276Z",
     "iopub.status.idle": "2022-01-05T00:25:50.726246Z",
     "shell.execute_reply": "2022-01-05T00:25:50.725863Z"
    },
    "papermill": {
     "duration": 0.040305,
     "end_time": "2022-01-05T00:25:50.726360",
     "exception": false,
     "start_time": "2022-01-05T00:25:50.686055",
     "status": "completed"
    },
    "tags": []
   },
   "outputs": [],
   "source": [
    "y_train = 1*(y_train==3)\n",
    "y_test = 1*(y_test==3)"
   ]
  },
  {
   "cell_type": "code",
   "execution_count": 13,
   "id": "01e4e969",
   "metadata": {
    "execution": {
     "iopub.execute_input": "2022-01-05T00:25:50.779897Z",
     "iopub.status.busy": "2022-01-05T00:25:50.779428Z",
     "iopub.status.idle": "2022-01-05T00:25:50.791704Z",
     "shell.execute_reply": "2022-01-05T00:25:50.791326Z"
    },
    "papermill": {
     "duration": 0.042037,
     "end_time": "2022-01-05T00:25:50.791816",
     "exception": false,
     "start_time": "2022-01-05T00:25:50.749779",
     "status": "completed"
    },
    "tags": []
   },
   "outputs": [
    {
     "data": {
      "text/plain": [
       "((11982, 28, 28), (1984, 28, 28))"
      ]
     },
     "execution_count": 13,
     "metadata": {},
     "output_type": "execute_result"
    }
   ],
   "source": [
    "X_train.shape, X_test.shape"
   ]
  },
  {
   "cell_type": "markdown",
   "id": "5ccf3f85",
   "metadata": {
    "papermill": {
     "duration": 0.023594,
     "end_time": "2022-01-05T00:25:50.838970",
     "exception": false,
     "start_time": "2022-01-05T00:25:50.815376",
     "status": "completed"
    },
    "tags": []
   },
   "source": [
    "We reshape the data to flatten the image pixels into a set of features or co-variates:"
   ]
  },
  {
   "cell_type": "code",
   "execution_count": 14,
   "id": "5286a4a3",
   "metadata": {
    "execution": {
     "iopub.execute_input": "2022-01-05T00:25:50.891207Z",
     "iopub.status.busy": "2022-01-05T00:25:50.890732Z",
     "iopub.status.idle": "2022-01-05T00:25:50.904481Z",
     "shell.execute_reply": "2022-01-05T00:25:50.904873Z"
    },
    "papermill": {
     "duration": 0.041639,
     "end_time": "2022-01-05T00:25:50.905009",
     "exception": false,
     "start_time": "2022-01-05T00:25:50.863370",
     "status": "completed"
    },
    "tags": []
   },
   "outputs": [
    {
     "data": {
      "text/plain": [
       "((11982, 784), (1984, 784))"
      ]
     },
     "execution_count": 14,
     "metadata": {},
     "output_type": "execute_result"
    }
   ],
   "source": [
    "X_train = X_train.reshape(X_train.shape[0], -1)\n",
    "X_test = X_test.reshape(X_test.shape[0], -1)\n",
    "X_train.shape, X_test.shape"
   ]
  },
  {
   "cell_type": "code",
   "execution_count": 15,
   "id": "73c5f88a",
   "metadata": {
    "execution": {
     "iopub.execute_input": "2022-01-05T00:25:50.957386Z",
     "iopub.status.busy": "2022-01-05T00:25:50.956889Z",
     "iopub.status.idle": "2022-01-05T00:25:50.976555Z",
     "shell.execute_reply": "2022-01-05T00:25:50.976921Z"
    },
    "papermill": {
     "duration": 0.048179,
     "end_time": "2022-01-05T00:25:50.977067",
     "exception": false,
     "start_time": "2022-01-05T00:25:50.928888",
     "status": "completed"
    },
    "tags": []
   },
   "outputs": [],
   "source": [
    "#Impoting functions from 'Kudzu'\n",
    "from kudzu.model import Model\n",
    "from kudzu.train import Learner\n",
    "from kudzu.optim import GD\n",
    "from kudzu.data import Data, Sampler,Dataloader\n",
    "\n",
    "from kudzu.callbacks import AccCallback\n",
    "from kudzu.callbacks import ClfCallback\n",
    "\n",
    "from kudzu.loss import MSE\n",
    "\n",
    "from kudzu.layer import Sigmoid,Relu\n",
    "from kudzu.layer import Affine"
   ]
  },
  {
   "cell_type": "markdown",
   "id": "bc01172a",
   "metadata": {
    "papermill": {
     "duration": 0.02384,
     "end_time": "2022-01-05T00:25:51.025078",
     "exception": false,
     "start_time": "2022-01-05T00:25:51.001238",
     "status": "completed"
    },
    "tags": []
   },
   "source": [
    "### Let us create a `Config` class, to store important parameters. \n",
    "This class essentially plays the role of a dictionary."
   ]
  },
  {
   "cell_type": "code",
   "execution_count": 16,
   "id": "978281aa",
   "metadata": {
    "execution": {
     "iopub.execute_input": "2022-01-05T00:25:51.077072Z",
     "iopub.status.busy": "2022-01-05T00:25:51.076588Z",
     "iopub.status.idle": "2022-01-05T00:25:51.089561Z",
     "shell.execute_reply": "2022-01-05T00:25:51.089101Z"
    },
    "papermill": {
     "duration": 0.040774,
     "end_time": "2022-01-05T00:25:51.089695",
     "exception": false,
     "start_time": "2022-01-05T00:25:51.048921",
     "status": "completed"
    },
    "tags": []
   },
   "outputs": [],
   "source": [
    "class Config:\n",
    "    pass\n",
    "config = Config()\n",
    "config.lr = 0.001\n",
    "config.num_epochs = 250\n",
    "config.bs = 50"
   ]
  },
  {
   "cell_type": "markdown",
   "id": "1385fa59",
   "metadata": {
    "papermill": {
     "duration": 0.026961,
     "end_time": "2022-01-05T00:25:51.143994",
     "exception": false,
     "start_time": "2022-01-05T00:25:51.117033",
     "status": "completed"
    },
    "tags": []
   },
   "source": [
    "### Running Models with the Training data\n",
    "Details about the network layers:\n",
    "- A first affine layer has 784 inputs and does 100 affine transforms. These are followed by a Relu\n",
    "- A second affine layer has 100 inputs from the 100 activations of the past layer, and does 100 affine transforms. These are followed by a Relu\n",
    "- A third affine layer has 100 activations and does 2 affine transformations to create an embedding for visualization. There is no non-linearity here.\n",
    "- A final \"logistic regression\" which has an affine transform from 2 inputs to 1 output, which is squeezed through a sigmoid.\n"
   ]
  },
  {
   "cell_type": "code",
   "execution_count": 17,
   "id": "2b9c66db",
   "metadata": {
    "execution": {
     "iopub.execute_input": "2022-01-05T00:25:51.209061Z",
     "iopub.status.busy": "2022-01-05T00:25:51.208420Z",
     "iopub.status.idle": "2022-01-05T00:25:51.218022Z",
     "shell.execute_reply": "2022-01-05T00:25:51.217481Z"
    },
    "papermill": {
     "duration": 0.047108,
     "end_time": "2022-01-05T00:25:51.218173",
     "exception": false,
     "start_time": "2022-01-05T00:25:51.171065",
     "status": "completed"
    },
    "tags": []
   },
   "outputs": [],
   "source": [
    "data = Data(X_train, y_train.reshape(-1,1))\n",
    "sampler = Sampler(data, config.bs, shuffle=True)\n",
    "\n",
    "dl = Dataloader(data, sampler)\n",
    "\n",
    "opt = GD(config.lr)\n",
    "loss = MSE()"
   ]
  },
  {
   "cell_type": "code",
   "execution_count": 18,
   "id": "b275e4c2",
   "metadata": {
    "execution": {
     "iopub.execute_input": "2022-01-05T00:25:51.286409Z",
     "iopub.status.busy": "2022-01-05T00:25:51.282313Z",
     "iopub.status.idle": "2022-01-05T00:25:51.291437Z",
     "shell.execute_reply": "2022-01-05T00:25:51.290992Z"
    },
    "papermill": {
     "duration": 0.046011,
     "end_time": "2022-01-05T00:25:51.291554",
     "exception": false,
     "start_time": "2022-01-05T00:25:51.245543",
     "status": "completed"
    },
    "tags": []
   },
   "outputs": [],
   "source": [
    "training_data_x = X_train\n",
    "testing_data_x = X_test\n",
    "training_data_y = y_train.reshape(-1,1)\n",
    "testing_data_y = y_test.reshape(-1,1)"
   ]
  },
  {
   "cell_type": "code",
   "execution_count": 19,
   "id": "76951160",
   "metadata": {
    "execution": {
     "iopub.execute_input": "2022-01-05T00:25:51.359154Z",
     "iopub.status.busy": "2022-01-05T00:25:51.349638Z",
     "iopub.status.idle": "2022-01-05T00:25:51.368216Z",
     "shell.execute_reply": "2022-01-05T00:25:51.367769Z"
    },
    "papermill": {
     "duration": 0.049841,
     "end_time": "2022-01-05T00:25:51.368342",
     "exception": false,
     "start_time": "2022-01-05T00:25:51.318501",
     "status": "completed"
    },
    "tags": []
   },
   "outputs": [
    {
     "name": "stdout",
     "output_type": "stream",
     "text": [
      "xavier\n",
      "xavier\n",
      "xavier\n",
      "xavier\n",
      "xavier\n"
     ]
    }
   ],
   "source": [
    "layers = [Affine(\"first\", 784, 100), Relu(\"first\"), Affine(\"second\", 100, 100), Relu(\"second\"), Affine(\"third\", 100, 2), Affine(\"last\", 2, 1), Sigmoid(\"last\")]\n",
    "model_nn = Model(layers)\n",
    "model_lr = Model([Affine(\"logits\", 784, 1), Sigmoid(\"sigmoid\")])"
   ]
  },
  {
   "cell_type": "code",
   "execution_count": 20,
   "id": "6eede77a",
   "metadata": {
    "execution": {
     "iopub.execute_input": "2022-01-05T00:25:51.431464Z",
     "iopub.status.busy": "2022-01-05T00:25:51.430832Z",
     "iopub.status.idle": "2022-01-05T00:25:51.443198Z",
     "shell.execute_reply": "2022-01-05T00:25:51.442736Z"
    },
    "papermill": {
     "duration": 0.047236,
     "end_time": "2022-01-05T00:25:51.443321",
     "exception": false,
     "start_time": "2022-01-05T00:25:51.396085",
     "status": "completed"
    },
    "tags": []
   },
   "outputs": [],
   "source": [
    "nn_learner = Learner(loss, model_nn, opt, config.num_epochs)\n",
    "acc_nn = ClfCallback(nn_learner, config.bs, training_data_x , testing_data_x, training_data_y, testing_data_y)\n",
    "nn_learner.set_callbacks([acc_nn])"
   ]
  },
  {
   "cell_type": "code",
   "execution_count": 21,
   "id": "877b6cc7",
   "metadata": {
    "execution": {
     "iopub.execute_input": "2022-01-05T00:25:51.516664Z",
     "iopub.status.busy": "2022-01-05T00:25:51.506385Z",
     "iopub.status.idle": "2022-01-05T00:25:51.519371Z",
     "shell.execute_reply": "2022-01-05T00:25:51.519756Z"
    },
    "papermill": {
     "duration": 0.04894,
     "end_time": "2022-01-05T00:25:51.519902",
     "exception": false,
     "start_time": "2022-01-05T00:25:51.470962",
     "status": "completed"
    },
    "tags": []
   },
   "outputs": [],
   "source": [
    "lr_learner = Learner(loss, model_lr, opt, config.num_epochs)\n",
    "acc_lr = ClfCallback(lr_learner, config.bs, training_data_x , testing_data_x, training_data_y, testing_data_y)\n",
    "lr_learner.set_callbacks([acc_lr])"
   ]
  },
  {
   "cell_type": "code",
   "execution_count": 22,
   "id": "d9b133c3",
   "metadata": {
    "execution": {
     "iopub.execute_input": "2022-01-05T00:25:51.587501Z",
     "iopub.status.busy": "2022-01-05T00:25:51.578032Z",
     "iopub.status.idle": "2022-01-05T00:27:13.444070Z",
     "shell.execute_reply": "2022-01-05T00:27:13.444793Z"
    },
    "papermill": {
     "duration": 81.897623,
     "end_time": "2022-01-05T00:27:13.444935",
     "exception": false,
     "start_time": "2022-01-05T00:25:51.547312",
     "status": "completed"
    },
    "tags": []
   },
   "outputs": [
    {
     "name": "stdout",
     "output_type": "stream",
     "text": [
      "Epoch 0, Loss 0.2002\n",
      "Training Accuracy: 0.8249, Testing Accuracy: 0.8216\n",
      "\n"
     ]
    },
    {
     "name": "stdout",
     "output_type": "stream",
     "text": [
      "Epoch 10, Loss 0.0562\n",
      "Training Accuracy: 0.9424, Testing Accuracy: 0.9471\n",
      "\n"
     ]
    },
    {
     "name": "stdout",
     "output_type": "stream",
     "text": [
      "Epoch 20, Loss 0.0401\n",
      "Training Accuracy: 0.9568, Testing Accuracy: 0.9622\n",
      "\n"
     ]
    },
    {
     "name": "stdout",
     "output_type": "stream",
     "text": [
      "Epoch 30, Loss 0.0338\n",
      "Training Accuracy: 0.9631, Testing Accuracy: 0.9693\n",
      "\n"
     ]
    },
    {
     "name": "stdout",
     "output_type": "stream",
     "text": [
      "Epoch 40, Loss 0.0303\n",
      "Training Accuracy: 0.9665, Testing Accuracy: 0.9703\n",
      "\n"
     ]
    },
    {
     "name": "stdout",
     "output_type": "stream",
     "text": [
      "Epoch 50, Loss 0.028\n",
      "Training Accuracy: 0.9690, Testing Accuracy: 0.9713\n",
      "\n"
     ]
    },
    {
     "name": "stdout",
     "output_type": "stream",
     "text": [
      "Epoch 60, Loss 0.0263\n",
      "Training Accuracy: 0.9705, Testing Accuracy: 0.9753\n",
      "\n"
     ]
    },
    {
     "name": "stdout",
     "output_type": "stream",
     "text": [
      "Epoch 70, Loss 0.025\n",
      "Training Accuracy: 0.9715, Testing Accuracy: 0.9748\n",
      "\n"
     ]
    },
    {
     "name": "stdout",
     "output_type": "stream",
     "text": [
      "Epoch 80, Loss 0.0239\n",
      "Training Accuracy: 0.9725, Testing Accuracy: 0.9753\n",
      "\n"
     ]
    },
    {
     "name": "stdout",
     "output_type": "stream",
     "text": [
      "Epoch 90, Loss 0.023\n",
      "Training Accuracy: 0.9740, Testing Accuracy: 0.9758\n",
      "\n"
     ]
    },
    {
     "name": "stdout",
     "output_type": "stream",
     "text": [
      "Epoch 100, Loss 0.0221\n",
      "Training Accuracy: 0.9755, Testing Accuracy: 0.9758\n",
      "\n"
     ]
    },
    {
     "name": "stdout",
     "output_type": "stream",
     "text": [
      "Epoch 110, Loss 0.0214\n",
      "Training Accuracy: 0.9766, Testing Accuracy: 0.9763\n",
      "\n"
     ]
    },
    {
     "name": "stdout",
     "output_type": "stream",
     "text": [
      "Epoch 120, Loss 0.0207\n",
      "Training Accuracy: 0.9772, Testing Accuracy: 0.9763\n",
      "\n"
     ]
    },
    {
     "name": "stdout",
     "output_type": "stream",
     "text": [
      "Epoch 130, Loss 0.0201\n",
      "Training Accuracy: 0.9777, Testing Accuracy: 0.9783\n",
      "\n"
     ]
    },
    {
     "name": "stdout",
     "output_type": "stream",
     "text": [
      "Epoch 140, Loss 0.0195\n",
      "Training Accuracy: 0.9780, Testing Accuracy: 0.9778\n",
      "\n"
     ]
    },
    {
     "name": "stdout",
     "output_type": "stream",
     "text": [
      "Epoch 150, Loss 0.019\n",
      "Training Accuracy: 0.9790, Testing Accuracy: 0.9783\n",
      "\n"
     ]
    },
    {
     "name": "stdout",
     "output_type": "stream",
     "text": [
      "Epoch 160, Loss 0.0185\n",
      "Training Accuracy: 0.9794, Testing Accuracy: 0.9788\n",
      "\n"
     ]
    },
    {
     "name": "stdout",
     "output_type": "stream",
     "text": [
      "Epoch 170, Loss 0.0179\n",
      "Training Accuracy: 0.9798, Testing Accuracy: 0.9793\n",
      "\n"
     ]
    },
    {
     "name": "stdout",
     "output_type": "stream",
     "text": [
      "Epoch 180, Loss 0.0174\n",
      "Training Accuracy: 0.9807, Testing Accuracy: 0.9793\n",
      "\n"
     ]
    },
    {
     "name": "stdout",
     "output_type": "stream",
     "text": [
      "Epoch 190, Loss 0.017\n",
      "Training Accuracy: 0.9813, Testing Accuracy: 0.9793\n",
      "\n"
     ]
    },
    {
     "name": "stdout",
     "output_type": "stream",
     "text": [
      "Epoch 200, Loss 0.0165\n",
      "Training Accuracy: 0.9823, Testing Accuracy: 0.9793\n",
      "\n"
     ]
    },
    {
     "name": "stdout",
     "output_type": "stream",
     "text": [
      "Epoch 210, Loss 0.016\n",
      "Training Accuracy: 0.9826, Testing Accuracy: 0.9798\n",
      "\n"
     ]
    },
    {
     "name": "stdout",
     "output_type": "stream",
     "text": [
      "Epoch 220, Loss 0.0156\n",
      "Training Accuracy: 0.9836, Testing Accuracy: 0.9798\n",
      "\n"
     ]
    },
    {
     "name": "stdout",
     "output_type": "stream",
     "text": [
      "Epoch 230, Loss 0.0151\n",
      "Training Accuracy: 0.9838, Testing Accuracy: 0.9798\n",
      "\n"
     ]
    },
    {
     "name": "stdout",
     "output_type": "stream",
     "text": [
      "Epoch 240, Loss 0.0147\n",
      "Training Accuracy: 0.9844, Testing Accuracy: 0.9798\n",
      "\n"
     ]
    },
    {
     "data": {
      "text/plain": [
       "0.00308516353492013"
      ]
     },
     "execution_count": 22,
     "metadata": {},
     "output_type": "execute_result"
    }
   ],
   "source": [
    "nn_learner.train_loop(dl)"
   ]
  },
  {
   "cell_type": "code",
   "execution_count": 23,
   "id": "e0163366",
   "metadata": {
    "execution": {
     "iopub.execute_input": "2022-01-05T00:27:13.518958Z",
     "iopub.status.busy": "2022-01-05T00:27:13.518418Z",
     "iopub.status.idle": "2022-01-05T00:27:28.670457Z",
     "shell.execute_reply": "2022-01-05T00:27:28.671171Z"
    },
    "papermill": {
     "duration": 15.195438,
     "end_time": "2022-01-05T00:27:28.671323",
     "exception": false,
     "start_time": "2022-01-05T00:27:13.475885",
     "status": "completed"
    },
    "tags": []
   },
   "outputs": [
    {
     "name": "stdout",
     "output_type": "stream",
     "text": [
      "Epoch 0, Loss 0.2485\n",
      "Training Accuracy: 0.6779, Testing Accuracy: 0.6946\n",
      "\n"
     ]
    },
    {
     "name": "stdout",
     "output_type": "stream",
     "text": [
      "Epoch 10, Loss 0.1032\n",
      "Training Accuracy: 0.9055, Testing Accuracy: 0.9209\n",
      "\n"
     ]
    },
    {
     "name": "stdout",
     "output_type": "stream",
     "text": [
      "Epoch 20, Loss 0.0796\n",
      "Training Accuracy: 0.9236, Testing Accuracy: 0.9400\n",
      "\n"
     ]
    },
    {
     "name": "stdout",
     "output_type": "stream",
     "text": [
      "Epoch 30, Loss 0.0687\n",
      "Training Accuracy: 0.9327, Testing Accuracy: 0.9446\n",
      "\n"
     ]
    },
    {
     "name": "stdout",
     "output_type": "stream",
     "text": [
      "Epoch 40, Loss 0.0621\n",
      "Training Accuracy: 0.9392, Testing Accuracy: 0.9491\n",
      "\n"
     ]
    },
    {
     "name": "stdout",
     "output_type": "stream",
     "text": [
      "Epoch 50, Loss 0.0576\n",
      "Training Accuracy: 0.9425, Testing Accuracy: 0.9531\n",
      "\n"
     ]
    },
    {
     "name": "stdout",
     "output_type": "stream",
     "text": [
      "Epoch 60, Loss 0.0543\n",
      "Training Accuracy: 0.9454, Testing Accuracy: 0.9546\n",
      "\n"
     ]
    },
    {
     "name": "stdout",
     "output_type": "stream",
     "text": [
      "Epoch 70, Loss 0.0517\n",
      "Training Accuracy: 0.9476, Testing Accuracy: 0.9572\n",
      "\n"
     ]
    },
    {
     "name": "stdout",
     "output_type": "stream",
     "text": [
      "Epoch 80, Loss 0.0496\n",
      "Training Accuracy: 0.9487, Testing Accuracy: 0.9592\n",
      "\n"
     ]
    },
    {
     "name": "stdout",
     "output_type": "stream",
     "text": [
      "Epoch 90, Loss 0.0479\n",
      "Training Accuracy: 0.9503, Testing Accuracy: 0.9597\n",
      "\n"
     ]
    },
    {
     "name": "stdout",
     "output_type": "stream",
     "text": [
      "Epoch 100, Loss 0.0464\n",
      "Training Accuracy: 0.9521, Testing Accuracy: 0.9612\n",
      "\n"
     ]
    },
    {
     "name": "stdout",
     "output_type": "stream",
     "text": [
      "Epoch 110, Loss 0.0452\n",
      "Training Accuracy: 0.9536, Testing Accuracy: 0.9632\n",
      "\n"
     ]
    },
    {
     "name": "stdout",
     "output_type": "stream",
     "text": [
      "Epoch 120, Loss 0.0441\n",
      "Training Accuracy: 0.9541, Testing Accuracy: 0.9632\n",
      "\n"
     ]
    },
    {
     "name": "stdout",
     "output_type": "stream",
     "text": [
      "Epoch 130, Loss 0.0432\n",
      "Training Accuracy: 0.9547, Testing Accuracy: 0.9637\n",
      "\n"
     ]
    },
    {
     "name": "stdout",
     "output_type": "stream",
     "text": [
      "Epoch 140, Loss 0.0423\n",
      "Training Accuracy: 0.9550, Testing Accuracy: 0.9637\n",
      "\n"
     ]
    },
    {
     "name": "stdout",
     "output_type": "stream",
     "text": [
      "Epoch 150, Loss 0.0416\n",
      "Training Accuracy: 0.9555, Testing Accuracy: 0.9632\n",
      "\n"
     ]
    },
    {
     "name": "stdout",
     "output_type": "stream",
     "text": [
      "Epoch 160, Loss 0.0409\n",
      "Training Accuracy: 0.9559, Testing Accuracy: 0.9637\n",
      "\n"
     ]
    },
    {
     "name": "stdout",
     "output_type": "stream",
     "text": [
      "Epoch 170, Loss 0.0403\n",
      "Training Accuracy: 0.9564, Testing Accuracy: 0.9637\n",
      "\n"
     ]
    },
    {
     "name": "stdout",
     "output_type": "stream",
     "text": [
      "Epoch 180, Loss 0.0397\n",
      "Training Accuracy: 0.9569, Testing Accuracy: 0.9642\n",
      "\n"
     ]
    },
    {
     "name": "stdout",
     "output_type": "stream",
     "text": [
      "Epoch 190, Loss 0.0392\n",
      "Training Accuracy: 0.9573, Testing Accuracy: 0.9642\n",
      "\n"
     ]
    },
    {
     "name": "stdout",
     "output_type": "stream",
     "text": [
      "Epoch 200, Loss 0.0387\n",
      "Training Accuracy: 0.9579, Testing Accuracy: 0.9647\n",
      "\n"
     ]
    },
    {
     "name": "stdout",
     "output_type": "stream",
     "text": [
      "Epoch 210, Loss 0.0382\n",
      "Training Accuracy: 0.9581, Testing Accuracy: 0.9652\n",
      "\n"
     ]
    },
    {
     "name": "stdout",
     "output_type": "stream",
     "text": [
      "Epoch 220, Loss 0.0378\n",
      "Training Accuracy: 0.9585, Testing Accuracy: 0.9652\n",
      "\n"
     ]
    },
    {
     "name": "stdout",
     "output_type": "stream",
     "text": [
      "Epoch 230, Loss 0.0374\n",
      "Training Accuracy: 0.9589, Testing Accuracy: 0.9652\n",
      "\n"
     ]
    },
    {
     "name": "stdout",
     "output_type": "stream",
     "text": [
      "Epoch 240, Loss 0.0371\n",
      "Training Accuracy: 0.9591, Testing Accuracy: 0.9657\n",
      "\n"
     ]
    },
    {
     "data": {
      "text/plain": [
       "0.04109770796643116"
      ]
     },
     "execution_count": 23,
     "metadata": {},
     "output_type": "execute_result"
    }
   ],
   "source": [
    "lr_learner.train_loop(dl)"
   ]
  },
  {
   "cell_type": "code",
   "execution_count": 24,
   "id": "ca410940",
   "metadata": {
    "execution": {
     "iopub.execute_input": "2022-01-05T00:27:28.754895Z",
     "iopub.status.busy": "2022-01-05T00:27:28.754405Z",
     "iopub.status.idle": "2022-01-05T00:27:28.970397Z",
     "shell.execute_reply": "2022-01-05T00:27:28.969972Z"
    },
    "papermill": {
     "duration": 0.26212,
     "end_time": "2022-01-05T00:27:28.970526",
     "exception": false,
     "start_time": "2022-01-05T00:27:28.708406",
     "status": "completed"
    },
    "tags": []
   },
   "outputs": [
    {
     "data": {
      "text/plain": [
       "<matplotlib.legend.Legend at 0x7f7544d91b38>"
      ]
     },
     "execution_count": 24,
     "metadata": {},
     "output_type": "execute_result"
    },
    {
     "data": {
      "image/png": "[encoded data removed]",
      "text/plain": [
       "<Figure size 1080x720 with 1 Axes>"
      ]
     },
     "metadata": {
      "needs_background": "light"
     },
     "output_type": "display_data"
    }
   ],
   "source": [
    "#comparing the results of NN and LR\n",
    "plt.figure(figsize=(15,10))\n",
    "\n",
    "# Neural Network plots\n",
    "plt.plot(acc_nn.accuracies, 'r-', label = \"Training Accuracies - NN\")\n",
    "plt.plot(acc_nn.test_accuracies, 'g-', label = \"Testing Accuracies - NN\")\n",
    "\n",
    "# Logistic Regression plots\n",
    "plt.plot(acc_lr.accuracies, 'k-', label = \"Training Accuracies - LR\")\n",
    "plt.plot(acc_lr.test_accuracies, 'b-', label = \"Testing Accuracies - LR\")\n",
    "plt.legend()"
   ]
  },
  {
   "cell_type": "markdown",
   "id": "80dfb35c",
   "metadata": {
    "papermill": {
     "duration": 0.042062,
     "end_time": "2022-01-05T00:27:29.055462",
     "exception": false,
     "start_time": "2022-01-05T00:27:29.013400",
     "status": "completed"
    },
    "tags": []
   },
   "source": [
    "#### Plotting the outputs of this layer of the NN.\n"
   ]
  },
  {
   "cell_type": "code",
   "execution_count": 25,
   "id": "45eb2ff5",
   "metadata": {
    "execution": {
     "iopub.execute_input": "2022-01-05T00:27:29.150645Z",
     "iopub.status.busy": "2022-01-05T00:27:29.150057Z",
     "iopub.status.idle": "2022-01-05T00:27:29.167791Z",
     "shell.execute_reply": "2022-01-05T00:27:29.168200Z"
    },
    "papermill": {
     "duration": 0.070598,
     "end_time": "2022-01-05T00:27:29.168351",
     "exception": false,
     "start_time": "2022-01-05T00:27:29.097753",
     "status": "completed"
    },
    "tags": []
   },
   "outputs": [],
   "source": [
    "new_model = Model(layers[:-2])\n",
    "testing_plot = new_model(testing_data_x)"
   ]
  },
  {
   "cell_type": "code",
   "execution_count": 26,
   "id": "4c0a5485",
   "metadata": {
    "execution": {
     "iopub.execute_input": "2022-01-05T00:27:29.259045Z",
     "iopub.status.busy": "2022-01-05T00:27:29.258515Z",
     "iopub.status.idle": "2022-01-05T00:27:29.464467Z",
     "shell.execute_reply": "2022-01-05T00:27:29.464034Z"
    },
    "papermill": {
     "duration": 0.253545,
     "end_time": "2022-01-05T00:27:29.464588",
     "exception": false,
     "start_time": "2022-01-05T00:27:29.211043",
     "status": "completed"
    },
    "tags": []
   },
   "outputs": [
    {
     "data": {
      "text/plain": [
       "Text(0.5, 1.0, 'Outputs')"
      ]
     },
     "execution_count": 26,
     "metadata": {},
     "output_type": "execute_result"
    },
    {
     "data": {
      "image/png": "[encoded data removed]",
      "text/plain": [
       "<Figure size 576x504 with 1 Axes>"
      ]
     },
     "metadata": {
      "needs_background": "light"
     },
     "output_type": "display_data"
    }
   ],
   "source": [
    "# Plotting the scatter plot of points and color coding by class\n",
    "plt.figure(figsize=(8,7))\n",
    "plt.scatter(testing_plot[:,0], testing_plot[:,1], alpha = 0.1, c = y_test.ravel());\n",
    "plt.title('Outputs')"
   ]
  },
  {
   "cell_type": "markdown",
   "id": "a74fcf8f",
   "metadata": {
    "papermill": {
     "duration": 0.04473,
     "end_time": "2022-01-05T00:27:29.554305",
     "exception": false,
     "start_time": "2022-01-05T00:27:29.509575",
     "status": "completed"
    },
    "tags": []
   },
   "source": [
    "Probability contours"
   ]
  },
  {
   "cell_type": "code",
   "execution_count": 27,
   "id": "d0afc8e3",
   "metadata": {
    "execution": {
     "iopub.execute_input": "2022-01-05T00:27:29.651796Z",
     "iopub.status.busy": "2022-01-05T00:27:29.651237Z",
     "iopub.status.idle": "2022-01-05T00:27:29.661060Z",
     "shell.execute_reply": "2022-01-05T00:27:29.661495Z"
    },
    "papermill": {
     "duration": 0.062188,
     "end_time": "2022-01-05T00:27:29.661636",
     "exception": false,
     "start_time": "2022-01-05T00:27:29.599448",
     "status": "completed"
    },
    "tags": []
   },
   "outputs": [],
   "source": [
    "model_prob = Model(layers[-2:]) "
   ]
  },
  {
   "cell_type": "code",
   "execution_count": 28,
   "id": "9b96e238",
   "metadata": {
    "execution": {
     "iopub.execute_input": "2022-01-05T00:27:29.790799Z",
     "iopub.status.busy": "2022-01-05T00:27:29.790189Z",
     "iopub.status.idle": "2022-01-05T00:27:29.805175Z",
     "shell.execute_reply": "2022-01-05T00:27:29.805589Z"
    },
    "papermill": {
     "duration": 0.099429,
     "end_time": "2022-01-05T00:27:29.805735",
     "exception": false,
     "start_time": "2022-01-05T00:27:29.706306",
     "status": "completed"
    },
    "tags": []
   },
   "outputs": [],
   "source": [
    "#creating the x and y ranges according to the above generated plot.\n",
    "x_range = np.linspace(-4, 1, 100) \n",
    "y_range = np.linspace(-6, 6, 100) \n",
    "x_grid, y_grid = np.meshgrid(x_range, y_range) # x_grid and y_grig are of size 100 X 100\n",
    "\n",
    "# converting x_grid and y_grid to continuous arrays\n",
    "x_gridflat = np.ravel(x_grid)\n",
    "y_gridflat = np.ravel(y_grid)\n",
    "\n",
    "# The last layer of the current model takes two columns as input. Hence transpose of np.vstack() is required.\n",
    "X = np.vstack((x_gridflat, y_gridflat)).T\n",
    "\n",
    "prob_contour = model_prob(X).reshape(100,100) "
   ]
  },
  {
   "cell_type": "code",
   "execution_count": 29,
   "id": "da72499a",
   "metadata": {
    "execution": {
     "iopub.execute_input": "2022-01-05T00:27:29.900657Z",
     "iopub.status.busy": "2022-01-05T00:27:29.900121Z",
     "iopub.status.idle": "2022-01-05T00:27:30.146659Z",
     "shell.execute_reply": "2022-01-05T00:27:30.146159Z"
    },
    "papermill": {
     "duration": 0.295906,
     "end_time": "2022-01-05T00:27:30.146787",
     "exception": false,
     "start_time": "2022-01-05T00:27:29.850881",
     "status": "completed"
    },
    "tags": []
   },
   "outputs": [
    {
     "data": {
      "image/png": "[encoded data removed]",
      "text/plain": [
       "<Figure size 720x648 with 1 Axes>"
      ]
     },
     "metadata": {
      "needs_background": "light"
     },
     "output_type": "display_data"
    }
   ],
   "source": [
    "plt.figure(figsize=(10,9))\n",
    "plt.scatter(testing_plot[:,0], testing_plot[:,1], alpha = 0.1, c = y_test.ravel())\n",
    "contours = plt.contour(x_grid,y_grid,prob_contour)\n",
    "plt.title('Probability Contours')\n",
    "plt.clabel(contours, inline = True );"
   ]
  },
  {
   "cell_type": "code",
   "execution_count": null,
   "id": "e81b4ac7",
   "metadata": {
    "papermill": {
     "duration": 0.047703,
     "end_time": "2022-01-05T00:27:30.243051",
     "exception": false,
     "start_time": "2022-01-05T00:27:30.195348",
     "status": "completed"
    },
    "tags": []
   },
   "outputs": [],
   "source": []
  }
 ],
 "metadata": {
  "kernelspec": {
   "display_name": "Python 3",
   "language": "python",
   "name": "python3"
  },
  "language_info": {
   "codemirror_mode": {
    "name": "ipython",
    "version": 3
   },
   "file_extension": ".py",
   "mimetype": "text/x-python",
   "name": "python",
   "nbconvert_exporter": "python",
   "pygments_lexer": "ipython3",
   "version": "3.6.15"
  },
  "papermill": {
   "default_parameters": {},
   "duration": 105.132426,
   "end_time": "2022-01-05T00:27:30.700115",
   "environment_variables": {},
   "exception": null,
   "input_path": "2020-08-11-part2.ipynb",
   "output_path": "2020-08-11-part2.ipynb",
   "parameters": {},
   "start_time": "2022-01-05T00:25:45.567689",
   "version": "2.3.3"
  }
 },
 "nbformat": 4,
 "nbformat_minor": 5
}