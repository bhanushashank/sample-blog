{
 "cells": [
  {
   "cell_type": "markdown",
   "id": "98380cd3",
   "metadata": {
    "papermill": {
     "duration": 0.039894,
     "end_time": "2022-09-20T00:47:49.391252",
     "exception": false,
     "start_time": "2022-09-20T00:47:49.351358",
     "status": "completed"
    },
    "tags": []
   },
   "source": [
    "# Distinguish Your Own Digits (DYOD)"
   ]
  },
  {
   "cell_type": "markdown",
   "id": "ef31240d",
   "metadata": {
    "papermill": {
     "duration": 0.032989,
     "end_time": "2022-09-20T00:47:49.458810",
     "exception": false,
     "start_time": "2022-09-20T00:47:49.425821",
     "status": "completed"
    },
    "tags": []
   },
   "source": [
    "You are going to write a classifier that distinguishes between the number 3 and number 8."
   ]
  },
  {
   "cell_type": "code",
   "execution_count": 1,
   "id": "b15c8646",
   "metadata": {
    "execution": {
     "iopub.execute_input": "2022-09-20T00:47:49.537901Z",
     "iopub.status.busy": "2022-09-20T00:47:49.536964Z",
     "iopub.status.idle": "2022-09-20T00:47:49.552514Z",
     "shell.execute_reply": "2022-09-20T00:47:49.551715Z"
    },
    "papermill": {
     "duration": 0.061252,
     "end_time": "2022-09-20T00:47:49.552776",
     "exception": false,
     "start_time": "2022-09-20T00:47:49.491524",
     "status": "completed"
    },
    "tags": []
   },
   "outputs": [],
   "source": [
    "%load_ext autoreload\n",
    "%autoreload 2"
   ]
  },
  {
   "cell_type": "code",
   "execution_count": 2,
   "id": "22ef38dc",
   "metadata": {
    "execution": {
     "iopub.execute_input": "2022-09-20T00:47:49.624372Z",
     "iopub.status.busy": "2022-09-20T00:47:49.623467Z",
     "iopub.status.idle": "2022-09-20T00:47:50.327405Z",
     "shell.execute_reply": "2022-09-20T00:47:50.326646Z"
    },
    "papermill": {
     "duration": 0.742384,
     "end_time": "2022-09-20T00:47:50.327560",
     "exception": false,
     "start_time": "2022-09-20T00:47:49.585176",
     "status": "completed"
    },
    "tags": []
   },
   "outputs": [],
   "source": [
    "%matplotlib inline\n",
    "import numpy as np\n",
    "import matplotlib.pyplot as plt\n",
    "import pandas as pd"
   ]
  },
  {
   "cell_type": "markdown",
   "id": "ba036198",
   "metadata": {
    "papermill": {
     "duration": 0.031494,
     "end_time": "2022-09-20T00:47:50.391573",
     "exception": false,
     "start_time": "2022-09-20T00:47:50.360079",
     "status": "completed"
    },
    "tags": []
   },
   "source": [
    "From the command line run `pip install mnist`. This is a library that will help you bring down the mnist dataset. If you run this from a notebook, you need to put  `!pip install mnist` in a cell by itself."
   ]
  },
  {
   "cell_type": "code",
   "execution_count": 3,
   "id": "bb6ad8a1",
   "metadata": {
    "execution": {
     "iopub.execute_input": "2022-09-20T00:47:50.460455Z",
     "iopub.status.busy": "2022-09-20T00:47:50.459674Z",
     "iopub.status.idle": "2022-09-20T00:47:52.621803Z",
     "shell.execute_reply": "2022-09-20T00:47:52.620168Z"
    },
    "papermill": {
     "duration": 2.20036,
     "end_time": "2022-09-20T00:47:52.621953",
     "exception": false,
     "start_time": "2022-09-20T00:47:50.421593",
     "status": "completed"
    },
    "tags": []
   },
   "outputs": [
    {
     "name": "stdout",
     "output_type": "stream",
     "text": [
      "Collecting mnist\r\n"
     ]
    },
    {
     "name": "stdout",
     "output_type": "stream",
     "text": [
      "  Downloading mnist-0.2.2-py2.py3-none-any.whl (3.5 kB)\r\n",
      "Requirement already satisfied: numpy in /opt/hostedtoolcache/Python/3.6.15/x64/lib/python3.6/site-packages (from mnist) (1.19.5)\r\n"
     ]
    },
    {
     "name": "stdout",
     "output_type": "stream",
     "text": [
      "Installing collected packages: mnist\r\n"
     ]
    },
    {
     "name": "stdout",
     "output_type": "stream",
     "text": [
      "Successfully installed mnist-0.2.2\r\n"
     ]
    }
   ],
   "source": [
    "!pip install mnist"
   ]
  },
  {
   "cell_type": "markdown",
   "id": "69df9c9a",
   "metadata": {
    "papermill": {
     "duration": 0.032929,
     "end_time": "2022-09-20T00:47:52.689334",
     "exception": false,
     "start_time": "2022-09-20T00:47:52.656405",
     "status": "completed"
    },
    "tags": []
   },
   "source": [
    "## Preparing the Data"
   ]
  },
  {
   "cell_type": "code",
   "execution_count": 4,
   "id": "7f69d806",
   "metadata": {
    "execution": {
     "iopub.execute_input": "2022-09-20T00:47:52.762637Z",
     "iopub.status.busy": "2022-09-20T00:47:52.758622Z",
     "iopub.status.idle": "2022-09-20T00:47:52.779447Z",
     "shell.execute_reply": "2022-09-20T00:47:52.778646Z"
    },
    "papermill": {
     "duration": 0.057693,
     "end_time": "2022-09-20T00:47:52.779588",
     "exception": false,
     "start_time": "2022-09-20T00:47:52.721895",
     "status": "completed"
    },
    "tags": []
   },
   "outputs": [],
   "source": [
    "import mnist"
   ]
  },
  {
   "cell_type": "code",
   "execution_count": 5,
   "id": "a411e44f",
   "metadata": {
    "execution": {
     "iopub.execute_input": "2022-09-20T00:47:52.861437Z",
     "iopub.status.busy": "2022-09-20T00:47:52.860656Z",
     "iopub.status.idle": "2022-09-20T00:47:53.446546Z",
     "shell.execute_reply": "2022-09-20T00:47:53.445870Z"
    },
    "papermill": {
     "duration": 0.631224,
     "end_time": "2022-09-20T00:47:53.446692",
     "exception": false,
     "start_time": "2022-09-20T00:47:52.815468",
     "status": "completed"
    },
    "tags": []
   },
   "outputs": [],
   "source": [
    "train_images = mnist.train_images()\n",
    "train_labels = mnist.train_labels()"
   ]
  },
  {
   "cell_type": "code",
   "execution_count": 6,
   "id": "dceab3a5",
   "metadata": {
    "execution": {
     "iopub.execute_input": "2022-09-20T00:47:53.521276Z",
     "iopub.status.busy": "2022-09-20T00:47:53.520451Z",
     "iopub.status.idle": "2022-09-20T00:47:53.540212Z",
     "shell.execute_reply": "2022-09-20T00:47:53.539403Z"
    },
    "papermill": {
     "duration": 0.060294,
     "end_time": "2022-09-20T00:47:53.540349",
     "exception": false,
     "start_time": "2022-09-20T00:47:53.480055",
     "status": "completed"
    },
    "tags": []
   },
   "outputs": [
    {
     "data": {
      "text/plain": [
       "((60000, 28, 28), (60000,))"
      ]
     },
     "execution_count": 6,
     "metadata": {},
     "output_type": "execute_result"
    }
   ],
   "source": [
    "train_images.shape, train_labels.shape"
   ]
  },
  {
   "cell_type": "code",
   "execution_count": 7,
   "id": "f50dc2bb",
   "metadata": {
    "execution": {
     "iopub.execute_input": "2022-09-20T00:47:53.616228Z",
     "iopub.status.busy": "2022-09-20T00:47:53.615506Z",
     "iopub.status.idle": "2022-09-20T00:47:53.738985Z",
     "shell.execute_reply": "2022-09-20T00:47:53.738302Z"
    },
    "papermill": {
     "duration": 0.163701,
     "end_time": "2022-09-20T00:47:53.739206",
     "exception": false,
     "start_time": "2022-09-20T00:47:53.575505",
     "status": "completed"
    },
    "tags": []
   },
   "outputs": [],
   "source": [
    "test_images = mnist.test_images()\n",
    "test_labels = mnist.test_labels()"
   ]
  },
  {
   "cell_type": "code",
   "execution_count": 8,
   "id": "fc38cf1b",
   "metadata": {
    "execution": {
     "iopub.execute_input": "2022-09-20T00:47:53.819789Z",
     "iopub.status.busy": "2022-09-20T00:47:53.818905Z",
     "iopub.status.idle": "2022-09-20T00:47:53.835992Z",
     "shell.execute_reply": "2022-09-20T00:47:53.836992Z"
    },
    "papermill": {
     "duration": 0.064666,
     "end_time": "2022-09-20T00:47:53.837165",
     "exception": false,
     "start_time": "2022-09-20T00:47:53.772499",
     "status": "completed"
    },
    "tags": []
   },
   "outputs": [
    {
     "data": {
      "text/plain": [
       "((10000, 28, 28), (10000,))"
      ]
     },
     "execution_count": 8,
     "metadata": {},
     "output_type": "execute_result"
    }
   ],
   "source": [
    "test_images.shape, test_labels.shape"
   ]
  },
  {
   "cell_type": "code",
   "execution_count": 9,
   "id": "f9ed8fe0",
   "metadata": {
    "execution": {
     "iopub.execute_input": "2022-09-20T00:47:53.910006Z",
     "iopub.status.busy": "2022-09-20T00:47:53.909210Z",
     "iopub.status.idle": "2022-09-20T00:47:54.113206Z",
     "shell.execute_reply": "2022-09-20T00:47:54.114197Z"
    },
    "papermill": {
     "duration": 0.24371,
     "end_time": "2022-09-20T00:47:54.114367",
     "exception": false,
     "start_time": "2022-09-20T00:47:53.870657",
     "status": "completed"
    },
    "tags": []
   },
   "outputs": [
    {
     "name": "stdout",
     "output_type": "stream",
     "text": [
      "2\n"
     ]
    },
    {
     "data": {
      "text/plain": [
       "<matplotlib.image.AxesImage at 0x7fb98ec26c18>"
      ]
     },
     "execution_count": 9,
     "metadata": {},
     "output_type": "execute_result"
    },
    {
     "data": {
      "image/png": "[encoded data removed]",
      "text/plain": [
       "<Figure size 432x288 with 1 Axes>"
      ]
     },
     "metadata": {
      "needs_background": "light"
     },
     "output_type": "display_data"
    }
   ],
   "source": [
    "image_index = 7776 # You may select anything up to 60,000\n",
    "print(train_labels[image_index]) \n",
    "plt.imshow(train_images[image_index], cmap='Greys')"
   ]
  },
  {
   "cell_type": "markdown",
   "id": "a8d2388d",
   "metadata": {
    "papermill": {
     "duration": 0.034135,
     "end_time": "2022-09-20T00:47:54.183815",
     "exception": false,
     "start_time": "2022-09-20T00:47:54.149680",
     "status": "completed"
    },
    "tags": []
   },
   "source": [
    "## Filter data to get 3 and 8 out"
   ]
  },
  {
   "cell_type": "code",
   "execution_count": 10,
   "id": "776f7fc7",
   "metadata": {
    "execution": {
     "iopub.execute_input": "2022-09-20T00:47:54.262175Z",
     "iopub.status.busy": "2022-09-20T00:47:54.261415Z",
     "iopub.status.idle": "2022-09-20T00:47:54.292765Z",
     "shell.execute_reply": "2022-09-20T00:47:54.293302Z"
    },
    "papermill": {
     "duration": 0.072944,
     "end_time": "2022-09-20T00:47:54.293476",
     "exception": false,
     "start_time": "2022-09-20T00:47:54.220532",
     "status": "completed"
    },
    "tags": []
   },
   "outputs": [],
   "source": [
    "train_filter = np.where((train_labels == 3 ) | (train_labels == 8))\n",
    "test_filter = np.where((test_labels == 3) | (test_labels == 8))\n",
    "X_train, y_train = train_images[train_filter], train_labels[train_filter]\n",
    "X_test, y_test = test_images[test_filter], test_labels[test_filter]"
   ]
  },
  {
   "cell_type": "markdown",
   "id": "948f0b7e",
   "metadata": {
    "papermill": {
     "duration": 0.034814,
     "end_time": "2022-09-20T00:47:54.362924",
     "exception": false,
     "start_time": "2022-09-20T00:47:54.328110",
     "status": "completed"
    },
    "tags": []
   },
   "source": [
    "We normalize the pizel values in the 0 to 1 range"
   ]
  },
  {
   "cell_type": "code",
   "execution_count": 11,
   "id": "ee4c2166",
   "metadata": {
    "execution": {
     "iopub.execute_input": "2022-09-20T00:47:54.437209Z",
     "iopub.status.busy": "2022-09-20T00:47:54.436458Z",
     "iopub.status.idle": "2022-09-20T00:47:54.503836Z",
     "shell.execute_reply": "2022-09-20T00:47:54.503013Z"
    },
    "papermill": {
     "duration": 0.105686,
     "end_time": "2022-09-20T00:47:54.504066",
     "exception": false,
     "start_time": "2022-09-20T00:47:54.398380",
     "status": "completed"
    },
    "tags": []
   },
   "outputs": [],
   "source": [
    "X_train = X_train/255.\n",
    "X_test = X_test/255."
   ]
  },
  {
   "cell_type": "markdown",
   "id": "ddcf4fab",
   "metadata": {
    "papermill": {
     "duration": 0.035723,
     "end_time": "2022-09-20T00:47:54.576542",
     "exception": false,
     "start_time": "2022-09-20T00:47:54.540819",
     "status": "completed"
    },
    "tags": []
   },
   "source": [
    "And setup the labels as 1 (when the digit is 3) and 0 (when the digit is 8)"
   ]
  },
  {
   "cell_type": "code",
   "execution_count": 12,
   "id": "7dc908f2",
   "metadata": {
    "execution": {
     "iopub.execute_input": "2022-09-20T00:47:54.653188Z",
     "iopub.status.busy": "2022-09-20T00:47:54.652442Z",
     "iopub.status.idle": "2022-09-20T00:47:54.671326Z",
     "shell.execute_reply": "2022-09-20T00:47:54.670677Z"
    },
    "papermill": {
     "duration": 0.059375,
     "end_time": "2022-09-20T00:47:54.671491",
     "exception": false,
     "start_time": "2022-09-20T00:47:54.612116",
     "status": "completed"
    },
    "tags": []
   },
   "outputs": [],
   "source": [
    "y_train = 1*(y_train==3)\n",
    "y_test = 1*(y_test==3)"
   ]
  },
  {
   "cell_type": "code",
   "execution_count": 13,
   "id": "01e4e969",
   "metadata": {
    "execution": {
     "iopub.execute_input": "2022-09-20T00:47:54.755499Z",
     "iopub.status.busy": "2022-09-20T00:47:54.754678Z",
     "iopub.status.idle": "2022-09-20T00:47:54.773409Z",
     "shell.execute_reply": "2022-09-20T00:47:54.772705Z"
    },
    "papermill": {
     "duration": 0.060013,
     "end_time": "2022-09-20T00:47:54.773611",
     "exception": false,
     "start_time": "2022-09-20T00:47:54.713598",
     "status": "completed"
    },
    "tags": []
   },
   "outputs": [
    {
     "data": {
      "text/plain": [
       "((11982, 28, 28), (1984, 28, 28))"
      ]
     },
     "execution_count": 13,
     "metadata": {},
     "output_type": "execute_result"
    }
   ],
   "source": [
    "X_train.shape, X_test.shape"
   ]
  },
  {
   "cell_type": "markdown",
   "id": "5ccf3f85",
   "metadata": {
    "papermill": {
     "duration": 0.036672,
     "end_time": "2022-09-20T00:47:54.847556",
     "exception": false,
     "start_time": "2022-09-20T00:47:54.810884",
     "status": "completed"
    },
    "tags": []
   },
   "source": [
    "We reshape the data to flatten the image pixels into a set of features or co-variates:"
   ]
  },
  {
   "cell_type": "code",
   "execution_count": 14,
   "id": "5286a4a3",
   "metadata": {
    "execution": {
     "iopub.execute_input": "2022-09-20T00:47:54.928390Z",
     "iopub.status.busy": "2022-09-20T00:47:54.927672Z",
     "iopub.status.idle": "2022-09-20T00:47:54.942361Z",
     "shell.execute_reply": "2022-09-20T00:47:54.942976Z"
    },
    "papermill": {
     "duration": 0.059855,
     "end_time": "2022-09-20T00:47:54.943148",
     "exception": false,
     "start_time": "2022-09-20T00:47:54.883293",
     "status": "completed"
    },
    "tags": []
   },
   "outputs": [
    {
     "data": {
      "text/plain": [
       "((11982, 784), (1984, 784))"
      ]
     },
     "execution_count": 14,
     "metadata": {},
     "output_type": "execute_result"
    }
   ],
   "source": [
    "X_train = X_train.reshape(X_train.shape[0], -1)\n",
    "X_test = X_test.reshape(X_test.shape[0], -1)\n",
    "X_train.shape, X_test.shape"
   ]
  },
  {
   "cell_type": "code",
   "execution_count": 15,
   "id": "73c5f88a",
   "metadata": {
    "execution": {
     "iopub.execute_input": "2022-09-20T00:47:55.027449Z",
     "iopub.status.busy": "2022-09-20T00:47:55.026728Z",
     "iopub.status.idle": "2022-09-20T00:47:55.051556Z",
     "shell.execute_reply": "2022-09-20T00:47:55.052259Z"
    },
    "papermill": {
     "duration": 0.073996,
     "end_time": "2022-09-20T00:47:55.052430",
     "exception": false,
     "start_time": "2022-09-20T00:47:54.978434",
     "status": "completed"
    },
    "tags": []
   },
   "outputs": [],
   "source": [
    "#Impoting functions from 'Kudzu'\n",
    "from kudzu.model import Model\n",
    "from kudzu.train import Learner\n",
    "from kudzu.optim import GD\n",
    "from kudzu.data import Data, Sampler,Dataloader\n",
    "\n",
    "from kudzu.callbacks import AccCallback\n",
    "from kudzu.callbacks import ClfCallback\n",
    "\n",
    "from kudzu.loss import MSE\n",
    "\n",
    "from kudzu.layer import Sigmoid,Relu\n",
    "from kudzu.layer import Affine"
   ]
  },
  {
   "cell_type": "markdown",
   "id": "bc01172a",
   "metadata": {
    "papermill": {
     "duration": 0.035524,
     "end_time": "2022-09-20T00:47:55.124506",
     "exception": false,
     "start_time": "2022-09-20T00:47:55.088982",
     "status": "completed"
    },
    "tags": []
   },
   "source": [
    "### Let us create a `Config` class, to store important parameters. \n",
    "This class essentially plays the role of a dictionary."
   ]
  },
  {
   "cell_type": "code",
   "execution_count": 16,
   "id": "978281aa",
   "metadata": {
    "execution": {
     "iopub.execute_input": "2022-09-20T00:47:55.201874Z",
     "iopub.status.busy": "2022-09-20T00:47:55.201097Z",
     "iopub.status.idle": "2022-09-20T00:47:55.217812Z",
     "shell.execute_reply": "2022-09-20T00:47:55.217161Z"
    },
    "papermill": {
     "duration": 0.056755,
     "end_time": "2022-09-20T00:47:55.217951",
     "exception": false,
     "start_time": "2022-09-20T00:47:55.161196",
     "status": "completed"
    },
    "tags": []
   },
   "outputs": [],
   "source": [
    "class Config:\n",
    "    pass\n",
    "config = Config()\n",
    "config.lr = 0.001\n",
    "config.num_epochs = 250\n",
    "config.bs = 50"
   ]
  },
  {
   "cell_type": "markdown",
   "id": "1385fa59",
   "metadata": {
    "papermill": {
     "duration": 0.035981,
     "end_time": "2022-09-20T00:47:55.290569",
     "exception": false,
     "start_time": "2022-09-20T00:47:55.254588",
     "status": "completed"
    },
    "tags": []
   },
   "source": [
    "### Running Models with the Training data\n",
    "Details about the network layers:\n",
    "- A first affine layer has 784 inputs and does 100 affine transforms. These are followed by a Relu\n",
    "- A second affine layer has 100 inputs from the 100 activations of the past layer, and does 100 affine transforms. These are followed by a Relu\n",
    "- A third affine layer has 100 activations and does 2 affine transformations to create an embedding for visualization. There is no non-linearity here.\n",
    "- A final \"logistic regression\" which has an affine transform from 2 inputs to 1 output, which is squeezed through a sigmoid.\n"
   ]
  },
  {
   "cell_type": "code",
   "execution_count": 17,
   "id": "2b9c66db",
   "metadata": {
    "execution": {
     "iopub.execute_input": "2022-09-20T00:47:55.369085Z",
     "iopub.status.busy": "2022-09-20T00:47:55.368268Z",
     "iopub.status.idle": "2022-09-20T00:47:55.387359Z",
     "shell.execute_reply": "2022-09-20T00:47:55.386698Z"
    },
    "papermill": {
     "duration": 0.061145,
     "end_time": "2022-09-20T00:47:55.387533",
     "exception": false,
     "start_time": "2022-09-20T00:47:55.326388",
     "status": "completed"
    },
    "tags": []
   },
   "outputs": [],
   "source": [
    "data = Data(X_train, y_train.reshape(-1,1))\n",
    "sampler = Sampler(data, config.bs, shuffle=True)\n",
    "\n",
    "dl = Dataloader(data, sampler)\n",
    "\n",
    "opt = GD(config.lr)\n",
    "loss = MSE()"
   ]
  },
  {
   "cell_type": "code",
   "execution_count": 18,
   "id": "b275e4c2",
   "metadata": {
    "execution": {
     "iopub.execute_input": "2022-09-20T00:47:55.471094Z",
     "iopub.status.busy": "2022-09-20T00:47:55.470329Z",
     "iopub.status.idle": "2022-09-20T00:47:55.486636Z",
     "shell.execute_reply": "2022-09-20T00:47:55.487209Z"
    },
    "papermill": {
     "duration": 0.060891,
     "end_time": "2022-09-20T00:47:55.487375",
     "exception": false,
     "start_time": "2022-09-20T00:47:55.426484",
     "status": "completed"
    },
    "tags": []
   },
   "outputs": [],
   "source": [
    "training_data_x = X_train\n",
    "testing_data_x = X_test\n",
    "training_data_y = y_train.reshape(-1,1)\n",
    "testing_data_y = y_test.reshape(-1,1)"
   ]
  },
  {
   "cell_type": "code",
   "execution_count": 19,
   "id": "76951160",
   "metadata": {
    "execution": {
     "iopub.execute_input": "2022-09-20T00:47:55.568524Z",
     "iopub.status.busy": "2022-09-20T00:47:55.567709Z",
     "iopub.status.idle": "2022-09-20T00:47:55.589395Z",
     "shell.execute_reply": "2022-09-20T00:47:55.588609Z"
    },
    "papermill": {
     "duration": 0.065477,
     "end_time": "2022-09-20T00:47:55.589543",
     "exception": false,
     "start_time": "2022-09-20T00:47:55.524066",
     "status": "completed"
    },
    "tags": []
   },
   "outputs": [
    {
     "name": "stdout",
     "output_type": "stream",
     "text": [
      "xavier\n",
      "xavier\n",
      "xavier\n",
      "xavier\n",
      "xavier\n"
     ]
    }
   ],
   "source": [
    "layers = [Affine(\"first\", 784, 100), Relu(\"first\"), Affine(\"second\", 100, 100), Relu(\"second\"), Affine(\"third\", 100, 2), Affine(\"last\", 2, 1), Sigmoid(\"last\")]\n",
    "model_nn = Model(layers)\n",
    "model_lr = Model([Affine(\"logits\", 784, 1), Sigmoid(\"sigmoid\")])"
   ]
  },
  {
   "cell_type": "code",
   "execution_count": 20,
   "id": "6eede77a",
   "metadata": {
    "execution": {
     "iopub.execute_input": "2022-09-20T00:47:55.668085Z",
     "iopub.status.busy": "2022-09-20T00:47:55.667315Z",
     "iopub.status.idle": "2022-09-20T00:47:55.685486Z",
     "shell.execute_reply": "2022-09-20T00:47:55.686129Z"
    },
    "papermill": {
     "duration": 0.060442,
     "end_time": "2022-09-20T00:47:55.686301",
     "exception": false,
     "start_time": "2022-09-20T00:47:55.625859",
     "status": "completed"
    },
    "tags": []
   },
   "outputs": [],
   "source": [
    "nn_learner = Learner(loss, model_nn, opt, config.num_epochs)\n",
    "acc_nn = ClfCallback(nn_learner, config.bs, training_data_x , testing_data_x, training_data_y, testing_data_y)\n",
    "nn_learner.set_callbacks([acc_nn])"
   ]
  },
  {
   "cell_type": "code",
   "execution_count": 21,
   "id": "877b6cc7",
   "metadata": {
    "execution": {
     "iopub.execute_input": "2022-09-20T00:47:55.766683Z",
     "iopub.status.busy": "2022-09-20T00:47:55.765891Z",
     "iopub.status.idle": "2022-09-20T00:47:55.782933Z",
     "shell.execute_reply": "2022-09-20T00:47:55.782161Z"
    },
    "papermill": {
     "duration": 0.059825,
     "end_time": "2022-09-20T00:47:55.783081",
     "exception": false,
     "start_time": "2022-09-20T00:47:55.723256",
     "status": "completed"
    },
    "tags": []
   },
   "outputs": [],
   "source": [
    "lr_learner = Learner(loss, model_lr, opt, config.num_epochs)\n",
    "acc_lr = ClfCallback(lr_learner, config.bs, training_data_x , testing_data_x, training_data_y, testing_data_y)\n",
    "lr_learner.set_callbacks([acc_lr])"
   ]
  },
  {
   "cell_type": "code",
   "execution_count": 22,
   "id": "d9b133c3",
   "metadata": {
    "execution": {
     "iopub.execute_input": "2022-09-20T00:47:55.862227Z",
     "iopub.status.busy": "2022-09-20T00:47:55.861413Z",
     "iopub.status.idle": "2022-09-20T00:50:24.663605Z",
     "shell.execute_reply": "2022-09-20T00:50:24.664941Z"
    },
    "papermill": {
     "duration": 148.844995,
     "end_time": "2022-09-20T00:50:24.665150",
     "exception": false,
     "start_time": "2022-09-20T00:47:55.820155",
     "status": "completed"
    },
    "tags": []
   },
   "outputs": [
    {
     "name": "stdout",
     "output_type": "stream",
     "text": [
      "Epoch 0, Loss 0.2496\n",
      "Training Accuracy: 0.4875, Testing Accuracy: 0.4914\n",
      "\n"
     ]
    },
    {
     "name": "stdout",
     "output_type": "stream",
     "text": [
      "Epoch 10, Loss 0.2471\n",
      "Training Accuracy: 0.6479, Testing Accuracy: 0.6497\n",
      "\n"
     ]
    },
    {
     "name": "stdout",
     "output_type": "stream",
     "text": [
      "Epoch 20, Loss 0.236\n",
      "Training Accuracy: 0.8157, Testing Accuracy: 0.8362\n",
      "\n"
     ]
    },
    {
     "name": "stdout",
     "output_type": "stream",
     "text": [
      "Epoch 30, Loss 0.1743\n",
      "Training Accuracy: 0.8903, Testing Accuracy: 0.9032\n",
      "\n"
     ]
    },
    {
     "name": "stdout",
     "output_type": "stream",
     "text": [
      "Epoch 40, Loss 0.0871\n",
      "Training Accuracy: 0.9166, Testing Accuracy: 0.9249\n",
      "\n"
     ]
    },
    {
     "name": "stdout",
     "output_type": "stream",
     "text": [
      "Epoch 50, Loss 0.059\n",
      "Training Accuracy: 0.9362, Testing Accuracy: 0.9435\n",
      "\n"
     ]
    },
    {
     "name": "stdout",
     "output_type": "stream",
     "text": [
      "Epoch 60, Loss 0.0469\n",
      "Training Accuracy: 0.9477, Testing Accuracy: 0.9551\n",
      "\n"
     ]
    },
    {
     "name": "stdout",
     "output_type": "stream",
     "text": [
      "Epoch 70, Loss 0.0404\n",
      "Training Accuracy: 0.9534, Testing Accuracy: 0.9597\n",
      "\n"
     ]
    },
    {
     "name": "stdout",
     "output_type": "stream",
     "text": [
      "Epoch 80, Loss 0.0364\n",
      "Training Accuracy: 0.9588, Testing Accuracy: 0.9652\n",
      "\n"
     ]
    },
    {
     "name": "stdout",
     "output_type": "stream",
     "text": [
      "Epoch 90, Loss 0.0336\n",
      "Training Accuracy: 0.9611, Testing Accuracy: 0.9672\n",
      "\n"
     ]
    },
    {
     "name": "stdout",
     "output_type": "stream",
     "text": [
      "Epoch 100, Loss 0.0316\n",
      "Training Accuracy: 0.9625, Testing Accuracy: 0.9682\n",
      "\n"
     ]
    },
    {
     "name": "stdout",
     "output_type": "stream",
     "text": [
      "Epoch 110, Loss 0.03\n",
      "Training Accuracy: 0.9645, Testing Accuracy: 0.9682\n",
      "\n"
     ]
    },
    {
     "name": "stdout",
     "output_type": "stream",
     "text": [
      "Epoch 120, Loss 0.0287\n",
      "Training Accuracy: 0.9659, Testing Accuracy: 0.9677\n",
      "\n"
     ]
    },
    {
     "name": "stdout",
     "output_type": "stream",
     "text": [
      "Epoch 130, Loss 0.0276\n",
      "Training Accuracy: 0.9673, Testing Accuracy: 0.9688\n",
      "\n"
     ]
    },
    {
     "name": "stdout",
     "output_type": "stream",
     "text": [
      "Epoch 140, Loss 0.0267\n",
      "Training Accuracy: 0.9686, Testing Accuracy: 0.9698\n",
      "\n"
     ]
    },
    {
     "name": "stdout",
     "output_type": "stream",
     "text": [
      "Epoch 150, Loss 0.0258\n",
      "Training Accuracy: 0.9700, Testing Accuracy: 0.9698\n",
      "\n"
     ]
    },
    {
     "name": "stdout",
     "output_type": "stream",
     "text": [
      "Epoch 160, Loss 0.0251\n",
      "Training Accuracy: 0.9708, Testing Accuracy: 0.9713\n",
      "\n"
     ]
    },
    {
     "name": "stdout",
     "output_type": "stream",
     "text": [
      "Epoch 170, Loss 0.0244\n",
      "Training Accuracy: 0.9714, Testing Accuracy: 0.9713\n",
      "\n"
     ]
    },
    {
     "name": "stdout",
     "output_type": "stream",
     "text": [
      "Epoch 180, Loss 0.0238\n",
      "Training Accuracy: 0.9721, Testing Accuracy: 0.9713\n",
      "\n"
     ]
    },
    {
     "name": "stdout",
     "output_type": "stream",
     "text": [
      "Epoch 190, Loss 0.0232\n",
      "Training Accuracy: 0.9728, Testing Accuracy: 0.9708\n",
      "\n"
     ]
    },
    {
     "name": "stdout",
     "output_type": "stream",
     "text": [
      "Epoch 200, Loss 0.0227\n",
      "Training Accuracy: 0.9732, Testing Accuracy: 0.9718\n",
      "\n"
     ]
    },
    {
     "name": "stdout",
     "output_type": "stream",
     "text": [
      "Epoch 210, Loss 0.0222\n",
      "Training Accuracy: 0.9738, Testing Accuracy: 0.9708\n",
      "\n"
     ]
    },
    {
     "name": "stdout",
     "output_type": "stream",
     "text": [
      "Epoch 220, Loss 0.0218\n",
      "Training Accuracy: 0.9745, Testing Accuracy: 0.9698\n",
      "\n"
     ]
    },
    {
     "name": "stdout",
     "output_type": "stream",
     "text": [
      "Epoch 230, Loss 0.0213\n",
      "Training Accuracy: 0.9751, Testing Accuracy: 0.9703\n",
      "\n"
     ]
    },
    {
     "name": "stdout",
     "output_type": "stream",
     "text": [
      "Epoch 240, Loss 0.0209\n",
      "Training Accuracy: 0.9754, Testing Accuracy: 0.9703\n",
      "\n"
     ]
    },
    {
     "data": {
      "text/plain": [
       "0.01116995470805084"
      ]
     },
     "execution_count": 22,
     "metadata": {},
     "output_type": "execute_result"
    }
   ],
   "source": [
    "nn_learner.train_loop(dl)"
   ]
  },
  {
   "cell_type": "code",
   "execution_count": 23,
   "id": "e0163366",
   "metadata": {
    "execution": {
     "iopub.execute_input": "2022-09-20T00:50:24.767845Z",
     "iopub.status.busy": "2022-09-20T00:50:24.767052Z",
     "iopub.status.idle": "2022-09-20T00:50:45.819971Z",
     "shell.execute_reply": "2022-09-20T00:50:45.819359Z"
    },
    "papermill": {
     "duration": 21.109151,
     "end_time": "2022-09-20T00:50:45.820131",
     "exception": false,
     "start_time": "2022-09-20T00:50:24.710980",
     "status": "completed"
    },
    "tags": []
   },
   "outputs": [
    {
     "name": "stdout",
     "output_type": "stream",
     "text": [
      "Epoch 0, Loss 0.2148\n",
      "Training Accuracy: 0.7513, Testing Accuracy: 0.7606\n",
      "\n"
     ]
    },
    {
     "name": "stdout",
     "output_type": "stream",
     "text": [
      "Epoch 10, Loss 0.1036\n",
      "Training Accuracy: 0.9059, Testing Accuracy: 0.9204\n",
      "\n"
     ]
    },
    {
     "name": "stdout",
     "output_type": "stream",
     "text": [
      "Epoch 20, Loss 0.0804\n",
      "Training Accuracy: 0.9244, Testing Accuracy: 0.9380\n",
      "\n"
     ]
    },
    {
     "name": "stdout",
     "output_type": "stream",
     "text": [
      "Epoch 30, Loss 0.0693\n",
      "Training Accuracy: 0.9331, Testing Accuracy: 0.9461\n",
      "\n"
     ]
    },
    {
     "name": "stdout",
     "output_type": "stream",
     "text": [
      "Epoch 40, Loss 0.0626\n",
      "Training Accuracy: 0.9390, Testing Accuracy: 0.9501\n",
      "\n"
     ]
    },
    {
     "name": "stdout",
     "output_type": "stream",
     "text": [
      "Epoch 50, Loss 0.058\n",
      "Training Accuracy: 0.9425, Testing Accuracy: 0.9516\n",
      "\n"
     ]
    },
    {
     "name": "stdout",
     "output_type": "stream",
     "text": [
      "Epoch 60, Loss 0.0546\n",
      "Training Accuracy: 0.9450, Testing Accuracy: 0.9526\n",
      "\n"
     ]
    },
    {
     "name": "stdout",
     "output_type": "stream",
     "text": [
      "Epoch 70, Loss 0.052\n",
      "Training Accuracy: 0.9478, Testing Accuracy: 0.9561\n",
      "\n"
     ]
    },
    {
     "name": "stdout",
     "output_type": "stream",
     "text": [
      "Epoch 80, Loss 0.0499\n",
      "Training Accuracy: 0.9490, Testing Accuracy: 0.9582\n",
      "\n"
     ]
    },
    {
     "name": "stdout",
     "output_type": "stream",
     "text": [
      "Epoch 90, Loss 0.0482\n",
      "Training Accuracy: 0.9503, Testing Accuracy: 0.9592\n",
      "\n"
     ]
    },
    {
     "name": "stdout",
     "output_type": "stream",
     "text": [
      "Epoch 100, Loss 0.0467\n",
      "Training Accuracy: 0.9513, Testing Accuracy: 0.9592\n",
      "\n"
     ]
    },
    {
     "name": "stdout",
     "output_type": "stream",
     "text": [
      "Epoch 110, Loss 0.0455\n",
      "Training Accuracy: 0.9522, Testing Accuracy: 0.9607\n",
      "\n"
     ]
    },
    {
     "name": "stdout",
     "output_type": "stream",
     "text": [
      "Epoch 120, Loss 0.0444\n",
      "Training Accuracy: 0.9531, Testing Accuracy: 0.9617\n",
      "\n"
     ]
    },
    {
     "name": "stdout",
     "output_type": "stream",
     "text": [
      "Epoch 130, Loss 0.0434\n",
      "Training Accuracy: 0.9549, Testing Accuracy: 0.9617\n",
      "\n"
     ]
    },
    {
     "name": "stdout",
     "output_type": "stream",
     "text": [
      "Epoch 140, Loss 0.0426\n",
      "Training Accuracy: 0.9558, Testing Accuracy: 0.9622\n",
      "\n"
     ]
    },
    {
     "name": "stdout",
     "output_type": "stream",
     "text": [
      "Epoch 150, Loss 0.0418\n",
      "Training Accuracy: 0.9561, Testing Accuracy: 0.9632\n",
      "\n"
     ]
    },
    {
     "name": "stdout",
     "output_type": "stream",
     "text": [
      "Epoch 160, Loss 0.0411\n",
      "Training Accuracy: 0.9567, Testing Accuracy: 0.9632\n",
      "\n"
     ]
    },
    {
     "name": "stdout",
     "output_type": "stream",
     "text": [
      "Epoch 170, Loss 0.0405\n",
      "Training Accuracy: 0.9574, Testing Accuracy: 0.9642\n",
      "\n"
     ]
    },
    {
     "name": "stdout",
     "output_type": "stream",
     "text": [
      "Epoch 180, Loss 0.0399\n",
      "Training Accuracy: 0.9579, Testing Accuracy: 0.9647\n",
      "\n"
     ]
    },
    {
     "name": "stdout",
     "output_type": "stream",
     "text": [
      "Epoch 190, Loss 0.0394\n",
      "Training Accuracy: 0.9583, Testing Accuracy: 0.9647\n",
      "\n"
     ]
    },
    {
     "name": "stdout",
     "output_type": "stream",
     "text": [
      "Epoch 200, Loss 0.0389\n",
      "Training Accuracy: 0.9584, Testing Accuracy: 0.9652\n",
      "\n"
     ]
    },
    {
     "name": "stdout",
     "output_type": "stream",
     "text": [
      "Epoch 210, Loss 0.0384\n",
      "Training Accuracy: 0.9587, Testing Accuracy: 0.9652\n",
      "\n"
     ]
    },
    {
     "name": "stdout",
     "output_type": "stream",
     "text": [
      "Epoch 220, Loss 0.038\n",
      "Training Accuracy: 0.9589, Testing Accuracy: 0.9657\n",
      "\n"
     ]
    },
    {
     "name": "stdout",
     "output_type": "stream",
     "text": [
      "Epoch 230, Loss 0.0376\n",
      "Training Accuracy: 0.9591, Testing Accuracy: 0.9667\n",
      "\n"
     ]
    },
    {
     "name": "stdout",
     "output_type": "stream",
     "text": [
      "Epoch 240, Loss 0.0372\n",
      "Training Accuracy: 0.9594, Testing Accuracy: 0.9672\n",
      "\n"
     ]
    },
    {
     "data": {
      "text/plain": [
       "0.0119046765485127"
      ]
     },
     "execution_count": 23,
     "metadata": {},
     "output_type": "execute_result"
    }
   ],
   "source": [
    "lr_learner.train_loop(dl)"
   ]
  },
  {
   "cell_type": "code",
   "execution_count": 24,
   "id": "ca410940",
   "metadata": {
    "execution": {
     "iopub.execute_input": "2022-09-20T00:50:45.946105Z",
     "iopub.status.busy": "2022-09-20T00:50:45.945265Z",
     "iopub.status.idle": "2022-09-20T00:50:46.282231Z",
     "shell.execute_reply": "2022-09-20T00:50:46.281565Z"
    },
    "papermill": {
     "duration": 0.401577,
     "end_time": "2022-09-20T00:50:46.282391",
     "exception": false,
     "start_time": "2022-09-20T00:50:45.880814",
     "status": "completed"
    },
    "tags": []
   },
   "outputs": [
    {
     "data": {
      "text/plain": [
       "<matplotlib.legend.Legend at 0x7fb98e782fd0>"
      ]
     },
     "execution_count": 24,
     "metadata": {},
     "output_type": "execute_result"
    },
    {
     "data": {
      "image/png": "[encoded data removed]",
      "text/plain": [
       "<Figure size 1080x720 with 1 Axes>"
      ]
     },
     "metadata": {
      "needs_background": "light"
     },
     "output_type": "display_data"
    }
   ],
   "source": [
    "#comparing the results of NN and LR\n",
    "plt.figure(figsize=(15,10))\n",
    "\n",
    "# Neural Network plots\n",
    "plt.plot(acc_nn.accuracies, 'r-', label = \"Training Accuracies - NN\")\n",
    "plt.plot(acc_nn.test_accuracies, 'g-', label = \"Testing Accuracies - NN\")\n",
    "\n",
    "# Logistic Regression plots\n",
    "plt.plot(acc_lr.accuracies, 'k-', label = \"Training Accuracies - LR\")\n",
    "plt.plot(acc_lr.test_accuracies, 'b-', label = \"Testing Accuracies - LR\")\n",
    "plt.legend()"
   ]
  },
  {
   "cell_type": "markdown",
   "id": "80dfb35c",
   "metadata": {
    "papermill": {
     "duration": 0.062743,
     "end_time": "2022-09-20T00:50:46.404558",
     "exception": false,
     "start_time": "2022-09-20T00:50:46.341815",
     "status": "completed"
    },
    "tags": []
   },
   "source": [
    "#### Plotting the outputs of this layer of the NN.\n"
   ]
  },
  {
   "cell_type": "code",
   "execution_count": 25,
   "id": "45eb2ff5",
   "metadata": {
    "execution": {
     "iopub.execute_input": "2022-09-20T00:50:46.531153Z",
     "iopub.status.busy": "2022-09-20T00:50:46.530324Z",
     "iopub.status.idle": "2022-09-20T00:50:46.562253Z",
     "shell.execute_reply": "2022-09-20T00:50:46.561513Z"
    },
    "papermill": {
     "duration": 0.097955,
     "end_time": "2022-09-20T00:50:46.562400",
     "exception": false,
     "start_time": "2022-09-20T00:50:46.464445",
     "status": "completed"
    },
    "tags": []
   },
   "outputs": [],
   "source": [
    "new_model = Model(layers[:-2])\n",
    "testing_plot = new_model(testing_data_x)"
   ]
  },
  {
   "cell_type": "code",
   "execution_count": 26,
   "id": "4c0a5485",
   "metadata": {
    "execution": {
     "iopub.execute_input": "2022-09-20T00:50:46.685722Z",
     "iopub.status.busy": "2022-09-20T00:50:46.684982Z",
     "iopub.status.idle": "2022-09-20T00:50:46.978899Z",
     "shell.execute_reply": "2022-09-20T00:50:46.978246Z"
    },
    "papermill": {
     "duration": 0.358994,
     "end_time": "2022-09-20T00:50:46.979049",
     "exception": false,
     "start_time": "2022-09-20T00:50:46.620055",
     "status": "completed"
    },
    "tags": []
   },
   "outputs": [
    {
     "data": {
      "text/plain": [
       "Text(0.5, 1.0, 'Outputs')"
      ]
     },
     "execution_count": 26,
     "metadata": {},
     "output_type": "execute_result"
    },
    {
     "data": {
      "image/png": "[encoded data removed]",
      "text/plain": [
       "<Figure size 576x504 with 1 Axes>"
      ]
     },
     "metadata": {
      "needs_background": "light"
     },
     "output_type": "display_data"
    }
   ],
   "source": [
    "# Plotting the scatter plot of points and color coding by class\n",
    "plt.figure(figsize=(8,7))\n",
    "plt.scatter(testing_plot[:,0], testing_plot[:,1], alpha = 0.1, c = y_test.ravel());\n",
    "plt.title('Outputs')"
   ]
  },
  {
   "cell_type": "markdown",
   "id": "a74fcf8f",
   "metadata": {
    "papermill": {
     "duration": 0.09836,
     "end_time": "2022-09-20T00:50:47.140178",
     "exception": false,
     "start_time": "2022-09-20T00:50:47.041818",
     "status": "completed"
    },
    "tags": []
   },
   "source": [
    "Probability contours"
   ]
  },
  {
   "cell_type": "code",
   "execution_count": 27,
   "id": "d0afc8e3",
   "metadata": {
    "execution": {
     "iopub.execute_input": "2022-09-20T00:50:47.265869Z",
     "iopub.status.busy": "2022-09-20T00:50:47.264972Z",
     "iopub.status.idle": "2022-09-20T00:50:47.289071Z",
     "shell.execute_reply": "2022-09-20T00:50:47.287575Z"
    },
    "papermill": {
     "duration": 0.088514,
     "end_time": "2022-09-20T00:50:47.289561",
     "exception": false,
     "start_time": "2022-09-20T00:50:47.201047",
     "status": "completed"
    },
    "tags": []
   },
   "outputs": [],
   "source": [
    "model_prob = Model(layers[-2:]) "
   ]
  },
  {
   "cell_type": "code",
   "execution_count": 28,
   "id": "9b96e238",
   "metadata": {
    "execution": {
     "iopub.execute_input": "2022-09-20T00:50:47.433783Z",
     "iopub.status.busy": "2022-09-20T00:50:47.432916Z",
     "iopub.status.idle": "2022-09-20T00:50:47.450788Z",
     "shell.execute_reply": "2022-09-20T00:50:47.451368Z"
    },
    "papermill": {
     "duration": 0.088207,
     "end_time": "2022-09-20T00:50:47.451554",
     "exception": false,
     "start_time": "2022-09-20T00:50:47.363347",
     "status": "completed"
    },
    "tags": []
   },
   "outputs": [],
   "source": [
    "#creating the x and y ranges according to the above generated plot.\n",
    "x_range = np.linspace(-4, 1, 100) \n",
    "y_range = np.linspace(-6, 6, 100) \n",
    "x_grid, y_grid = np.meshgrid(x_range, y_range) # x_grid and y_grig are of size 100 X 100\n",
    "\n",
    "# converting x_grid and y_grid to continuous arrays\n",
    "x_gridflat = np.ravel(x_grid)\n",
    "y_gridflat = np.ravel(y_grid)\n",
    "\n",
    "# The last layer of the current model takes two columns as input. Hence transpose of np.vstack() is required.\n",
    "X = np.vstack((x_gridflat, y_gridflat)).T\n",
    "\n",
    "prob_contour = model_prob(X).reshape(100,100) "
   ]
  },
  {
   "cell_type": "code",
   "execution_count": 29,
   "id": "da72499a",
   "metadata": {
    "execution": {
     "iopub.execute_input": "2022-09-20T00:50:47.578831Z",
     "iopub.status.busy": "2022-09-20T00:50:47.577925Z",
     "iopub.status.idle": "2022-09-20T00:50:47.940062Z",
     "shell.execute_reply": "2022-09-20T00:50:47.941114Z"
    },
    "papermill": {
     "duration": 0.428794,
     "end_time": "2022-09-20T00:50:47.941353",
     "exception": false,
     "start_time": "2022-09-20T00:50:47.512559",
     "status": "completed"
    },
    "tags": []
   },
   "outputs": [
    {
     "data": {
      "image/png": "[encoded data removed]",
      "text/plain": [
       "<Figure size 720x648 with 1 Axes>"
      ]
     },
     "metadata": {
      "needs_background": "light"
     },
     "output_type": "display_data"
    }
   ],
   "source": [
    "plt.figure(figsize=(10,9))\n",
    "plt.scatter(testing_plot[:,0], testing_plot[:,1], alpha = 0.1, c = y_test.ravel())\n",
    "contours = plt.contour(x_grid,y_grid,prob_contour)\n",
    "plt.title('Probability Contours')\n",
    "plt.clabel(contours, inline = True );"
   ]
  },
  {
   "cell_type": "code",
   "execution_count": null,
   "id": "e81b4ac7",
   "metadata": {
    "papermill": {
     "duration": 0.063593,
     "end_time": "2022-09-20T00:50:48.069049",
     "exception": false,
     "start_time": "2022-09-20T00:50:48.005456",
     "status": "completed"
    },
    "tags": []
   },
   "outputs": [],
   "source": []
  }
 ],
 "metadata": {
  "kernelspec": {
   "display_name": "Python 3",
   "language": "python",
   "name": "python3"
  },
  "language_info": {
   "codemirror_mode": {
    "name": "ipython",
    "version": 3
   },
   "file_extension": ".py",
   "mimetype": "text/x-python",
   "name": "python",
   "nbconvert_exporter": "python",
   "pygments_lexer": "ipython3",
   "version": "3.6.15"
  },
  "papermill": {
   "default_parameters": {},
   "duration": 180.550619,
   "end_time": "2022-09-20T00:50:48.660457",
   "environment_variables": {},
   "exception": null,
   "input_path": "2020-08-11-part2.ipynb",
   "output_path": "2020-08-11-part2.ipynb",
   "parameters": {},
   "start_time": "2022-09-20T00:47:48.109838",
   "version": "2.3.3"
  }
 },
 "nbformat": 4,
 "nbformat_minor": 5
}