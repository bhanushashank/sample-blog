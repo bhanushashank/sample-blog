{
 "cells": [
  {
   "cell_type": "markdown",
   "id": "98380cd3",
   "metadata": {
    "papermill": {
     "duration": 0.028732,
     "end_time": "2022-02-14T20:07:51.506192",
     "exception": false,
     "start_time": "2022-02-14T20:07:51.477460",
     "status": "completed"
    },
    "tags": []
   },
   "source": [
    "# Distinguish Your Own Digits (DYOD)"
   ]
  },
  {
   "cell_type": "markdown",
   "id": "ef31240d",
   "metadata": {
    "papermill": {
     "duration": 0.025729,
     "end_time": "2022-02-14T20:07:51.557210",
     "exception": false,
     "start_time": "2022-02-14T20:07:51.531481",
     "status": "completed"
    },
    "tags": []
   },
   "source": [
    "You are going to write a classifier that distinguishes between the number 3 and number 8."
   ]
  },
  {
   "cell_type": "code",
   "execution_count": 1,
   "id": "b15c8646",
   "metadata": {
    "execution": {
     "iopub.execute_input": "2022-02-14T20:07:51.616106Z",
     "iopub.status.busy": "2022-02-14T20:07:51.615593Z",
     "iopub.status.idle": "2022-02-14T20:07:51.625332Z",
     "shell.execute_reply": "2022-02-14T20:07:51.626017Z"
    },
    "papermill": {
     "duration": 0.044335,
     "end_time": "2022-02-14T20:07:51.626167",
     "exception": false,
     "start_time": "2022-02-14T20:07:51.581832",
     "status": "completed"
    },
    "tags": []
   },
   "outputs": [],
   "source": [
    "%load_ext autoreload\n",
    "%autoreload 2"
   ]
  },
  {
   "cell_type": "code",
   "execution_count": 2,
   "id": "22ef38dc",
   "metadata": {
    "execution": {
     "iopub.execute_input": "2022-02-14T20:07:51.680390Z",
     "iopub.status.busy": "2022-02-14T20:07:51.679889Z",
     "iopub.status.idle": "2022-02-14T20:07:52.224155Z",
     "shell.execute_reply": "2022-02-14T20:07:52.223704Z"
    },
    "papermill": {
     "duration": 0.573407,
     "end_time": "2022-02-14T20:07:52.224270",
     "exception": false,
     "start_time": "2022-02-14T20:07:51.650863",
     "status": "completed"
    },
    "tags": []
   },
   "outputs": [],
   "source": [
    "%matplotlib inline\n",
    "import numpy as np\n",
    "import matplotlib.pyplot as plt\n",
    "import pandas as pd"
   ]
  },
  {
   "cell_type": "markdown",
   "id": "ba036198",
   "metadata": {
    "papermill": {
     "duration": 0.024772,
     "end_time": "2022-02-14T20:07:52.274052",
     "exception": false,
     "start_time": "2022-02-14T20:07:52.249280",
     "status": "completed"
    },
    "tags": []
   },
   "source": [
    "From the command line run `pip install mnist`. This is a library that will help you bring down the mnist dataset. If you run this from a notebook, you need to put  `!pip install mnist` in a cell by itself."
   ]
  },
  {
   "cell_type": "code",
   "execution_count": 3,
   "id": "bb6ad8a1",
   "metadata": {
    "execution": {
     "iopub.execute_input": "2022-02-14T20:07:52.327807Z",
     "iopub.status.busy": "2022-02-14T20:07:52.327306Z",
     "iopub.status.idle": "2022-02-14T20:07:54.070237Z",
     "shell.execute_reply": "2022-02-14T20:07:54.069370Z"
    },
    "papermill": {
     "duration": 1.771464,
     "end_time": "2022-02-14T20:07:54.070356",
     "exception": false,
     "start_time": "2022-02-14T20:07:52.298892",
     "status": "completed"
    },
    "tags": []
   },
   "outputs": [
    {
     "name": "stdout",
     "output_type": "stream",
     "text": [
      "Collecting mnist\r\n"
     ]
    },
    {
     "name": "stdout",
     "output_type": "stream",
     "text": [
      "  Downloading mnist-0.2.2-py2.py3-none-any.whl (3.5 kB)\r\n",
      "Requirement already satisfied: numpy in /opt/hostedtoolcache/Python/3.6.15/x64/lib/python3.6/site-packages (from mnist) (1.19.5)\r\n"
     ]
    },
    {
     "name": "stdout",
     "output_type": "stream",
     "text": [
      "Installing collected packages: mnist\r\n",
      "Successfully installed mnist-0.2.2\r\n"
     ]
    }
   ],
   "source": [
    "!pip install mnist"
   ]
  },
  {
   "cell_type": "markdown",
   "id": "69df9c9a",
   "metadata": {
    "papermill": {
     "duration": 0.025604,
     "end_time": "2022-02-14T20:07:54.121900",
     "exception": false,
     "start_time": "2022-02-14T20:07:54.096296",
     "status": "completed"
    },
    "tags": []
   },
   "source": [
    "## Preparing the Data"
   ]
  },
  {
   "cell_type": "code",
   "execution_count": 4,
   "id": "7f69d806",
   "metadata": {
    "execution": {
     "iopub.execute_input": "2022-02-14T20:07:54.176468Z",
     "iopub.status.busy": "2022-02-14T20:07:54.175971Z",
     "iopub.status.idle": "2022-02-14T20:07:54.188986Z",
     "shell.execute_reply": "2022-02-14T20:07:54.188598Z"
    },
    "papermill": {
     "duration": 0.041694,
     "end_time": "2022-02-14T20:07:54.189090",
     "exception": false,
     "start_time": "2022-02-14T20:07:54.147396",
     "status": "completed"
    },
    "tags": []
   },
   "outputs": [],
   "source": [
    "import mnist"
   ]
  },
  {
   "cell_type": "code",
   "execution_count": 5,
   "id": "a411e44f",
   "metadata": {
    "execution": {
     "iopub.execute_input": "2022-02-14T20:07:54.243818Z",
     "iopub.status.busy": "2022-02-14T20:07:54.243328Z",
     "iopub.status.idle": "2022-02-14T20:07:54.855865Z",
     "shell.execute_reply": "2022-02-14T20:07:54.855428Z"
    },
    "papermill": {
     "duration": 0.641149,
     "end_time": "2022-02-14T20:07:54.855980",
     "exception": false,
     "start_time": "2022-02-14T20:07:54.214831",
     "status": "completed"
    },
    "tags": []
   },
   "outputs": [],
   "source": [
    "train_images = mnist.train_images()\n",
    "train_labels = mnist.train_labels()"
   ]
  },
  {
   "cell_type": "code",
   "execution_count": 6,
   "id": "dceab3a5",
   "metadata": {
    "execution": {
     "iopub.execute_input": "2022-02-14T20:07:54.910836Z",
     "iopub.status.busy": "2022-02-14T20:07:54.910350Z",
     "iopub.status.idle": "2022-02-14T20:07:54.923910Z",
     "shell.execute_reply": "2022-02-14T20:07:54.923512Z"
    },
    "papermill": {
     "duration": 0.042182,
     "end_time": "2022-02-14T20:07:54.924013",
     "exception": false,
     "start_time": "2022-02-14T20:07:54.881831",
     "status": "completed"
    },
    "tags": []
   },
   "outputs": [
    {
     "data": {
      "text/plain": [
       "((60000, 28, 28), (60000,))"
      ]
     },
     "execution_count": 6,
     "metadata": {},
     "output_type": "execute_result"
    }
   ],
   "source": [
    "train_images.shape, train_labels.shape"
   ]
  },
  {
   "cell_type": "code",
   "execution_count": 7,
   "id": "f50dc2bb",
   "metadata": {
    "execution": {
     "iopub.execute_input": "2022-02-14T20:07:54.978560Z",
     "iopub.status.busy": "2022-02-14T20:07:54.978081Z",
     "iopub.status.idle": "2022-02-14T20:07:55.208442Z",
     "shell.execute_reply": "2022-02-14T20:07:55.208006Z"
    },
    "papermill": {
     "duration": 0.258802,
     "end_time": "2022-02-14T20:07:55.208557",
     "exception": false,
     "start_time": "2022-02-14T20:07:54.949755",
     "status": "completed"
    },
    "tags": []
   },
   "outputs": [],
   "source": [
    "test_images = mnist.test_images()\n",
    "test_labels = mnist.test_labels()"
   ]
  },
  {
   "cell_type": "code",
   "execution_count": 8,
   "id": "fc38cf1b",
   "metadata": {
    "execution": {
     "iopub.execute_input": "2022-02-14T20:07:55.264240Z",
     "iopub.status.busy": "2022-02-14T20:07:55.263753Z",
     "iopub.status.idle": "2022-02-14T20:07:55.275503Z",
     "shell.execute_reply": "2022-02-14T20:07:55.275079Z"
    },
    "papermill": {
     "duration": 0.040938,
     "end_time": "2022-02-14T20:07:55.275611",
     "exception": false,
     "start_time": "2022-02-14T20:07:55.234673",
     "status": "completed"
    },
    "tags": []
   },
   "outputs": [
    {
     "data": {
      "text/plain": [
       "((10000, 28, 28), (10000,))"
      ]
     },
     "execution_count": 8,
     "metadata": {},
     "output_type": "execute_result"
    }
   ],
   "source": [
    "test_images.shape, test_labels.shape"
   ]
  },
  {
   "cell_type": "code",
   "execution_count": 9,
   "id": "f9ed8fe0",
   "metadata": {
    "execution": {
     "iopub.execute_input": "2022-02-14T20:07:55.331664Z",
     "iopub.status.busy": "2022-02-14T20:07:55.331144Z",
     "iopub.status.idle": "2022-02-14T20:07:55.460957Z",
     "shell.execute_reply": "2022-02-14T20:07:55.461370Z"
    },
    "papermill": {
     "duration": 0.159886,
     "end_time": "2022-02-14T20:07:55.461500",
     "exception": false,
     "start_time": "2022-02-14T20:07:55.301614",
     "status": "completed"
    },
    "tags": []
   },
   "outputs": [
    {
     "name": "stdout",
     "output_type": "stream",
     "text": [
      "2\n"
     ]
    },
    {
     "data": {
      "text/plain": [
       "<matplotlib.image.AxesImage at 0x7f4f218cf518>"
      ]
     },
     "execution_count": 9,
     "metadata": {},
     "output_type": "execute_result"
    },
    {
     "data": {
      "image/png": "[encoded data removed]",
      "text/plain": [
       "<Figure size 432x288 with 1 Axes>"
      ]
     },
     "metadata": {
      "needs_background": "light"
     },
     "output_type": "display_data"
    }
   ],
   "source": [
    "image_index = 7776 # You may select anything up to 60,000\n",
    "print(train_labels[image_index]) \n",
    "plt.imshow(train_images[image_index], cmap='Greys')"
   ]
  },
  {
   "cell_type": "markdown",
   "id": "a8d2388d",
   "metadata": {
    "papermill": {
     "duration": 0.027512,
     "end_time": "2022-02-14T20:07:55.516451",
     "exception": false,
     "start_time": "2022-02-14T20:07:55.488939",
     "status": "completed"
    },
    "tags": []
   },
   "source": [
    "## Filter data to get 3 and 8 out"
   ]
  },
  {
   "cell_type": "code",
   "execution_count": 10,
   "id": "776f7fc7",
   "metadata": {
    "execution": {
     "iopub.execute_input": "2022-02-14T20:07:55.574834Z",
     "iopub.status.busy": "2022-02-14T20:07:55.574324Z",
     "iopub.status.idle": "2022-02-14T20:07:55.589844Z",
     "shell.execute_reply": "2022-02-14T20:07:55.589456Z"
    },
    "papermill": {
     "duration": 0.046272,
     "end_time": "2022-02-14T20:07:55.589948",
     "exception": false,
     "start_time": "2022-02-14T20:07:55.543676",
     "status": "completed"
    },
    "tags": []
   },
   "outputs": [],
   "source": [
    "train_filter = np.where((train_labels == 3 ) | (train_labels == 8))\n",
    "test_filter = np.where((test_labels == 3) | (test_labels == 8))\n",
    "X_train, y_train = train_images[train_filter], train_labels[train_filter]\n",
    "X_test, y_test = test_images[test_filter], test_labels[test_filter]"
   ]
  },
  {
   "cell_type": "markdown",
   "id": "948f0b7e",
   "metadata": {
    "papermill": {
     "duration": 0.027165,
     "end_time": "2022-02-14T20:07:55.644471",
     "exception": false,
     "start_time": "2022-02-14T20:07:55.617306",
     "status": "completed"
    },
    "tags": []
   },
   "source": [
    "We normalize the pizel values in the 0 to 1 range"
   ]
  },
  {
   "cell_type": "code",
   "execution_count": 11,
   "id": "ee4c2166",
   "metadata": {
    "execution": {
     "iopub.execute_input": "2022-02-14T20:07:55.702205Z",
     "iopub.status.busy": "2022-02-14T20:07:55.701719Z",
     "iopub.status.idle": "2022-02-14T20:07:55.740479Z",
     "shell.execute_reply": "2022-02-14T20:07:55.740068Z"
    },
    "papermill": {
     "duration": 0.068809,
     "end_time": "2022-02-14T20:07:55.740591",
     "exception": false,
     "start_time": "2022-02-14T20:07:55.671782",
     "status": "completed"
    },
    "tags": []
   },
   "outputs": [],
   "source": [
    "X_train = X_train/255.\n",
    "X_test = X_test/255."
   ]
  },
  {
   "cell_type": "markdown",
   "id": "ddcf4fab",
   "metadata": {
    "papermill": {
     "duration": 0.027231,
     "end_time": "2022-02-14T20:07:55.795408",
     "exception": false,
     "start_time": "2022-02-14T20:07:55.768177",
     "status": "completed"
    },
    "tags": []
   },
   "source": [
    "And setup the labels as 1 (when the digit is 3) and 0 (when the digit is 8)"
   ]
  },
  {
   "cell_type": "code",
   "execution_count": 12,
   "id": "7dc908f2",
   "metadata": {
    "execution": {
     "iopub.execute_input": "2022-02-14T20:07:55.854184Z",
     "iopub.status.busy": "2022-02-14T20:07:55.853703Z",
     "iopub.status.idle": "2022-02-14T20:07:55.865192Z",
     "shell.execute_reply": "2022-02-14T20:07:55.864792Z"
    },
    "papermill": {
     "duration": 0.042628,
     "end_time": "2022-02-14T20:07:55.865293",
     "exception": false,
     "start_time": "2022-02-14T20:07:55.822665",
     "status": "completed"
    },
    "tags": []
   },
   "outputs": [],
   "source": [
    "y_train = 1*(y_train==3)\n",
    "y_test = 1*(y_test==3)"
   ]
  },
  {
   "cell_type": "code",
   "execution_count": 13,
   "id": "01e4e969",
   "metadata": {
    "execution": {
     "iopub.execute_input": "2022-02-14T20:07:55.922975Z",
     "iopub.status.busy": "2022-02-14T20:07:55.922478Z",
     "iopub.status.idle": "2022-02-14T20:07:55.935584Z",
     "shell.execute_reply": "2022-02-14T20:07:55.935171Z"
    },
    "papermill": {
     "duration": 0.043077,
     "end_time": "2022-02-14T20:07:55.935686",
     "exception": false,
     "start_time": "2022-02-14T20:07:55.892609",
     "status": "completed"
    },
    "tags": []
   },
   "outputs": [
    {
     "data": {
      "text/plain": [
       "((11982, 28, 28), (1984, 28, 28))"
      ]
     },
     "execution_count": 13,
     "metadata": {},
     "output_type": "execute_result"
    }
   ],
   "source": [
    "X_train.shape, X_test.shape"
   ]
  },
  {
   "cell_type": "markdown",
   "id": "5ccf3f85",
   "metadata": {
    "papermill": {
     "duration": 0.027364,
     "end_time": "2022-02-14T20:07:55.990392",
     "exception": false,
     "start_time": "2022-02-14T20:07:55.963028",
     "status": "completed"
    },
    "tags": []
   },
   "source": [
    "We reshape the data to flatten the image pixels into a set of features or co-variates:"
   ]
  },
  {
   "cell_type": "code",
   "execution_count": 14,
   "id": "5286a4a3",
   "metadata": {
    "execution": {
     "iopub.execute_input": "2022-02-14T20:07:56.049179Z",
     "iopub.status.busy": "2022-02-14T20:07:56.048687Z",
     "iopub.status.idle": "2022-02-14T20:07:56.061559Z",
     "shell.execute_reply": "2022-02-14T20:07:56.061165Z"
    },
    "papermill": {
     "duration": 0.043707,
     "end_time": "2022-02-14T20:07:56.061663",
     "exception": false,
     "start_time": "2022-02-14T20:07:56.017956",
     "status": "completed"
    },
    "tags": []
   },
   "outputs": [
    {
     "data": {
      "text/plain": [
       "((11982, 784), (1984, 784))"
      ]
     },
     "execution_count": 14,
     "metadata": {},
     "output_type": "execute_result"
    }
   ],
   "source": [
    "X_train = X_train.reshape(X_train.shape[0], -1)\n",
    "X_test = X_test.reshape(X_test.shape[0], -1)\n",
    "X_train.shape, X_test.shape"
   ]
  },
  {
   "cell_type": "code",
   "execution_count": 15,
   "id": "73c5f88a",
   "metadata": {
    "execution": {
     "iopub.execute_input": "2022-02-14T20:07:56.121436Z",
     "iopub.status.busy": "2022-02-14T20:07:56.120782Z",
     "iopub.status.idle": "2022-02-14T20:07:56.137760Z",
     "shell.execute_reply": "2022-02-14T20:07:56.138131Z"
    },
    "papermill": {
     "duration": 0.048756,
     "end_time": "2022-02-14T20:07:56.138252",
     "exception": false,
     "start_time": "2022-02-14T20:07:56.089496",
     "status": "completed"
    },
    "tags": []
   },
   "outputs": [],
   "source": [
    "#Impoting functions from 'Kudzu'\n",
    "from kudzu.model import Model\n",
    "from kudzu.train import Learner\n",
    "from kudzu.optim import GD\n",
    "from kudzu.data import Data, Sampler,Dataloader\n",
    "\n",
    "from kudzu.callbacks import AccCallback\n",
    "from kudzu.callbacks import ClfCallback\n",
    "\n",
    "from kudzu.loss import MSE\n",
    "\n",
    "from kudzu.layer import Sigmoid,Relu\n",
    "from kudzu.layer import Affine"
   ]
  },
  {
   "cell_type": "markdown",
   "id": "bc01172a",
   "metadata": {
    "papermill": {
     "duration": 0.027666,
     "end_time": "2022-02-14T20:07:56.193728",
     "exception": false,
     "start_time": "2022-02-14T20:07:56.166062",
     "status": "completed"
    },
    "tags": []
   },
   "source": [
    "### Let us create a `Config` class, to store important parameters. \n",
    "This class essentially plays the role of a dictionary."
   ]
  },
  {
   "cell_type": "code",
   "execution_count": 16,
   "id": "978281aa",
   "metadata": {
    "execution": {
     "iopub.execute_input": "2022-02-14T20:07:56.253038Z",
     "iopub.status.busy": "2022-02-14T20:07:56.252549Z",
     "iopub.status.idle": "2022-02-14T20:07:56.263799Z",
     "shell.execute_reply": "2022-02-14T20:07:56.263407Z"
    },
    "papermill": {
     "duration": 0.042424,
     "end_time": "2022-02-14T20:07:56.263904",
     "exception": false,
     "start_time": "2022-02-14T20:07:56.221480",
     "status": "completed"
    },
    "tags": []
   },
   "outputs": [],
   "source": [
    "class Config:\n",
    "    pass\n",
    "config = Config()\n",
    "config.lr = 0.001\n",
    "config.num_epochs = 250\n",
    "config.bs = 50"
   ]
  },
  {
   "cell_type": "markdown",
   "id": "1385fa59",
   "metadata": {
    "papermill": {
     "duration": 0.027638,
     "end_time": "2022-02-14T20:07:56.319399",
     "exception": false,
     "start_time": "2022-02-14T20:07:56.291761",
     "status": "completed"
    },
    "tags": []
   },
   "source": [
    "### Running Models with the Training data\n",
    "Details about the network layers:\n",
    "- A first affine layer has 784 inputs and does 100 affine transforms. These are followed by a Relu\n",
    "- A second affine layer has 100 inputs from the 100 activations of the past layer, and does 100 affine transforms. These are followed by a Relu\n",
    "- A third affine layer has 100 activations and does 2 affine transformations to create an embedding for visualization. There is no non-linearity here.\n",
    "- A final \"logistic regression\" which has an affine transform from 2 inputs to 1 output, which is squeezed through a sigmoid.\n"
   ]
  },
  {
   "cell_type": "code",
   "execution_count": 17,
   "id": "2b9c66db",
   "metadata": {
    "execution": {
     "iopub.execute_input": "2022-02-14T20:07:56.379189Z",
     "iopub.status.busy": "2022-02-14T20:07:56.378689Z",
     "iopub.status.idle": "2022-02-14T20:07:56.390158Z",
     "shell.execute_reply": "2022-02-14T20:07:56.389738Z"
    },
    "papermill": {
     "duration": 0.043019,
     "end_time": "2022-02-14T20:07:56.390259",
     "exception": false,
     "start_time": "2022-02-14T20:07:56.347240",
     "status": "completed"
    },
    "tags": []
   },
   "outputs": [],
   "source": [
    "data = Data(X_train, y_train.reshape(-1,1))\n",
    "sampler = Sampler(data, config.bs, shuffle=True)\n",
    "\n",
    "dl = Dataloader(data, sampler)\n",
    "\n",
    "opt = GD(config.lr)\n",
    "loss = MSE()"
   ]
  },
  {
   "cell_type": "code",
   "execution_count": 18,
   "id": "b275e4c2",
   "metadata": {
    "execution": {
     "iopub.execute_input": "2022-02-14T20:07:56.449519Z",
     "iopub.status.busy": "2022-02-14T20:07:56.448999Z",
     "iopub.status.idle": "2022-02-14T20:07:56.459833Z",
     "shell.execute_reply": "2022-02-14T20:07:56.460198Z"
    },
    "papermill": {
     "duration": 0.042218,
     "end_time": "2022-02-14T20:07:56.460320",
     "exception": false,
     "start_time": "2022-02-14T20:07:56.418102",
     "status": "completed"
    },
    "tags": []
   },
   "outputs": [],
   "source": [
    "training_data_x = X_train\n",
    "testing_data_x = X_test\n",
    "training_data_y = y_train.reshape(-1,1)\n",
    "testing_data_y = y_test.reshape(-1,1)"
   ]
  },
  {
   "cell_type": "code",
   "execution_count": 19,
   "id": "76951160",
   "metadata": {
    "execution": {
     "iopub.execute_input": "2022-02-14T20:07:56.520396Z",
     "iopub.status.busy": "2022-02-14T20:07:56.519653Z",
     "iopub.status.idle": "2022-02-14T20:07:56.535685Z",
     "shell.execute_reply": "2022-02-14T20:07:56.535267Z"
    },
    "papermill": {
     "duration": 0.0475,
     "end_time": "2022-02-14T20:07:56.535789",
     "exception": false,
     "start_time": "2022-02-14T20:07:56.488289",
     "status": "completed"
    },
    "tags": []
   },
   "outputs": [
    {
     "name": "stdout",
     "output_type": "stream",
     "text": [
      "xavier\n",
      "xavier\n",
      "xavier\n",
      "xavier\n",
      "xavier\n"
     ]
    }
   ],
   "source": [
    "layers = [Affine(\"first\", 784, 100), Relu(\"first\"), Affine(\"second\", 100, 100), Relu(\"second\"), Affine(\"third\", 100, 2), Affine(\"last\", 2, 1), Sigmoid(\"last\")]\n",
    "model_nn = Model(layers)\n",
    "model_lr = Model([Affine(\"logits\", 784, 1), Sigmoid(\"sigmoid\")])"
   ]
  },
  {
   "cell_type": "code",
   "execution_count": 20,
   "id": "6eede77a",
   "metadata": {
    "execution": {
     "iopub.execute_input": "2022-02-14T20:07:56.595839Z",
     "iopub.status.busy": "2022-02-14T20:07:56.595333Z",
     "iopub.status.idle": "2022-02-14T20:07:56.606113Z",
     "shell.execute_reply": "2022-02-14T20:07:56.606475Z"
    },
    "papermill": {
     "duration": 0.042747,
     "end_time": "2022-02-14T20:07:56.606595",
     "exception": false,
     "start_time": "2022-02-14T20:07:56.563848",
     "status": "completed"
    },
    "tags": []
   },
   "outputs": [],
   "source": [
    "nn_learner = Learner(loss, model_nn, opt, config.num_epochs)\n",
    "acc_nn = ClfCallback(nn_learner, config.bs, training_data_x , testing_data_x, training_data_y, testing_data_y)\n",
    "nn_learner.set_callbacks([acc_nn])"
   ]
  },
  {
   "cell_type": "code",
   "execution_count": 21,
   "id": "877b6cc7",
   "metadata": {
    "execution": {
     "iopub.execute_input": "2022-02-14T20:07:56.666572Z",
     "iopub.status.busy": "2022-02-14T20:07:56.666068Z",
     "iopub.status.idle": "2022-02-14T20:07:56.676699Z",
     "shell.execute_reply": "2022-02-14T20:07:56.677093Z"
    },
    "papermill": {
     "duration": 0.042518,
     "end_time": "2022-02-14T20:07:56.677211",
     "exception": false,
     "start_time": "2022-02-14T20:07:56.634693",
     "status": "completed"
    },
    "tags": []
   },
   "outputs": [],
   "source": [
    "lr_learner = Learner(loss, model_lr, opt, config.num_epochs)\n",
    "acc_lr = ClfCallback(lr_learner, config.bs, training_data_x , testing_data_x, training_data_y, testing_data_y)\n",
    "lr_learner.set_callbacks([acc_lr])"
   ]
  },
  {
   "cell_type": "code",
   "execution_count": 22,
   "id": "d9b133c3",
   "metadata": {
    "execution": {
     "iopub.execute_input": "2022-02-14T20:07:56.736557Z",
     "iopub.status.busy": "2022-02-14T20:07:56.736073Z",
     "iopub.status.idle": "2022-02-14T20:10:51.922663Z",
     "shell.execute_reply": "2022-02-14T20:10:51.923077Z"
    },
    "papermill": {
     "duration": 175.217805,
     "end_time": "2022-02-14T20:10:51.923228",
     "exception": false,
     "start_time": "2022-02-14T20:07:56.705423",
     "status": "completed"
    },
    "tags": []
   },
   "outputs": [
    {
     "name": "stdout",
     "output_type": "stream",
     "text": [
      "Epoch 0, Loss 0.2308\n",
      "Training Accuracy: 0.7628, Testing Accuracy: 0.7576\n",
      "\n"
     ]
    },
    {
     "name": "stdout",
     "output_type": "stream",
     "text": [
      "Epoch 10, Loss 0.074\n",
      "Training Accuracy: 0.9340, Testing Accuracy: 0.9390\n",
      "\n"
     ]
    },
    {
     "name": "stdout",
     "output_type": "stream",
     "text": [
      "Epoch 20, Loss 0.0481\n",
      "Training Accuracy: 0.9523, Testing Accuracy: 0.9572\n",
      "\n"
     ]
    },
    {
     "name": "stdout",
     "output_type": "stream",
     "text": [
      "Epoch 30, Loss 0.0392\n",
      "Training Accuracy: 0.9584, Testing Accuracy: 0.9627\n",
      "\n"
     ]
    },
    {
     "name": "stdout",
     "output_type": "stream",
     "text": [
      "Epoch 40, Loss 0.0346\n",
      "Training Accuracy: 0.9619, Testing Accuracy: 0.9677\n",
      "\n"
     ]
    },
    {
     "name": "stdout",
     "output_type": "stream",
     "text": [
      "Epoch 50, Loss 0.0317\n",
      "Training Accuracy: 0.9643, Testing Accuracy: 0.9688\n",
      "\n"
     ]
    },
    {
     "name": "stdout",
     "output_type": "stream",
     "text": [
      "Epoch 60, Loss 0.0297\n",
      "Training Accuracy: 0.9665, Testing Accuracy: 0.9693\n",
      "\n"
     ]
    },
    {
     "name": "stdout",
     "output_type": "stream",
     "text": [
      "Epoch 70, Loss 0.0281\n",
      "Training Accuracy: 0.9675, Testing Accuracy: 0.9703\n",
      "\n"
     ]
    },
    {
     "name": "stdout",
     "output_type": "stream",
     "text": [
      "Epoch 80, Loss 0.0269\n",
      "Training Accuracy: 0.9692, Testing Accuracy: 0.9728\n",
      "\n"
     ]
    },
    {
     "name": "stdout",
     "output_type": "stream",
     "text": [
      "Epoch 90, Loss 0.0258\n",
      "Training Accuracy: 0.9702, Testing Accuracy: 0.9728\n",
      "\n"
     ]
    },
    {
     "name": "stdout",
     "output_type": "stream",
     "text": [
      "Epoch 100, Loss 0.0249\n",
      "Training Accuracy: 0.9715, Testing Accuracy: 0.9733\n",
      "\n"
     ]
    },
    {
     "name": "stdout",
     "output_type": "stream",
     "text": [
      "Epoch 110, Loss 0.024\n",
      "Training Accuracy: 0.9723, Testing Accuracy: 0.9738\n",
      "\n"
     ]
    },
    {
     "name": "stdout",
     "output_type": "stream",
     "text": [
      "Epoch 120, Loss 0.0233\n",
      "Training Accuracy: 0.9730, Testing Accuracy: 0.9738\n",
      "\n"
     ]
    },
    {
     "name": "stdout",
     "output_type": "stream",
     "text": [
      "Epoch 130, Loss 0.0226\n",
      "Training Accuracy: 0.9739, Testing Accuracy: 0.9748\n",
      "\n"
     ]
    },
    {
     "name": "stdout",
     "output_type": "stream",
     "text": [
      "Epoch 140, Loss 0.022\n",
      "Training Accuracy: 0.9750, Testing Accuracy: 0.9743\n",
      "\n"
     ]
    },
    {
     "name": "stdout",
     "output_type": "stream",
     "text": [
      "Epoch 150, Loss 0.0215\n",
      "Training Accuracy: 0.9755, Testing Accuracy: 0.9748\n",
      "\n"
     ]
    },
    {
     "name": "stdout",
     "output_type": "stream",
     "text": [
      "Epoch 160, Loss 0.0209\n",
      "Training Accuracy: 0.9762, Testing Accuracy: 0.9748\n",
      "\n"
     ]
    },
    {
     "name": "stdout",
     "output_type": "stream",
     "text": [
      "Epoch 170, Loss 0.0204\n",
      "Training Accuracy: 0.9766, Testing Accuracy: 0.9743\n",
      "\n"
     ]
    },
    {
     "name": "stdout",
     "output_type": "stream",
     "text": [
      "Epoch 180, Loss 0.02\n",
      "Training Accuracy: 0.9771, Testing Accuracy: 0.9753\n",
      "\n"
     ]
    },
    {
     "name": "stdout",
     "output_type": "stream",
     "text": [
      "Epoch 190, Loss 0.0195\n",
      "Training Accuracy: 0.9778, Testing Accuracy: 0.9753\n",
      "\n"
     ]
    },
    {
     "name": "stdout",
     "output_type": "stream",
     "text": [
      "Epoch 200, Loss 0.0191\n",
      "Training Accuracy: 0.9782, Testing Accuracy: 0.9753\n",
      "\n"
     ]
    },
    {
     "name": "stdout",
     "output_type": "stream",
     "text": [
      "Epoch 210, Loss 0.0187\n",
      "Training Accuracy: 0.9791, Testing Accuracy: 0.9743\n",
      "\n"
     ]
    },
    {
     "name": "stdout",
     "output_type": "stream",
     "text": [
      "Epoch 220, Loss 0.0183\n",
      "Training Accuracy: 0.9791, Testing Accuracy: 0.9743\n",
      "\n"
     ]
    },
    {
     "name": "stdout",
     "output_type": "stream",
     "text": [
      "Epoch 230, Loss 0.0179\n",
      "Training Accuracy: 0.9796, Testing Accuracy: 0.9748\n",
      "\n"
     ]
    },
    {
     "name": "stdout",
     "output_type": "stream",
     "text": [
      "Epoch 240, Loss 0.0176\n",
      "Training Accuracy: 0.9801, Testing Accuracy: 0.9743\n",
      "\n"
     ]
    },
    {
     "data": {
      "text/plain": [
       "0.005205493223627025"
      ]
     },
     "execution_count": 22,
     "metadata": {},
     "output_type": "execute_result"
    }
   ],
   "source": [
    "nn_learner.train_loop(dl)"
   ]
  },
  {
   "cell_type": "code",
   "execution_count": 23,
   "id": "e0163366",
   "metadata": {
    "execution": {
     "iopub.execute_input": "2022-02-14T20:10:52.000306Z",
     "iopub.status.busy": "2022-02-14T20:10:51.999810Z",
     "iopub.status.idle": "2022-02-14T20:11:04.343440Z",
     "shell.execute_reply": "2022-02-14T20:11:04.343842Z"
    },
    "papermill": {
     "duration": 12.384885,
     "end_time": "2022-02-14T20:11:04.343973",
     "exception": false,
     "start_time": "2022-02-14T20:10:51.959088",
     "status": "completed"
    },
    "tags": []
   },
   "outputs": [
    {
     "name": "stdout",
     "output_type": "stream",
     "text": [
      "Epoch 0, Loss 0.2422\n",
      "Training Accuracy: 0.6723, Testing Accuracy: 0.7132\n",
      "\n"
     ]
    },
    {
     "name": "stdout",
     "output_type": "stream",
     "text": [
      "Epoch 10, Loss 0.1015\n",
      "Training Accuracy: 0.9140, Testing Accuracy: 0.9209\n",
      "\n"
     ]
    },
    {
     "name": "stdout",
     "output_type": "stream",
     "text": [
      "Epoch 20, Loss 0.0784\n",
      "Training Accuracy: 0.9296, Testing Accuracy: 0.9395\n",
      "\n"
     ]
    },
    {
     "name": "stdout",
     "output_type": "stream",
     "text": [
      "Epoch 30, Loss 0.0678\n",
      "Training Accuracy: 0.9367, Testing Accuracy: 0.9461\n",
      "\n"
     ]
    },
    {
     "name": "stdout",
     "output_type": "stream",
     "text": [
      "Epoch 40, Loss 0.0614\n",
      "Training Accuracy: 0.9404, Testing Accuracy: 0.9511\n",
      "\n"
     ]
    },
    {
     "name": "stdout",
     "output_type": "stream",
     "text": [
      "Epoch 50, Loss 0.057\n",
      "Training Accuracy: 0.9440, Testing Accuracy: 0.9531\n",
      "\n"
     ]
    },
    {
     "name": "stdout",
     "output_type": "stream",
     "text": [
      "Epoch 60, Loss 0.0538\n",
      "Training Accuracy: 0.9460, Testing Accuracy: 0.9541\n",
      "\n"
     ]
    },
    {
     "name": "stdout",
     "output_type": "stream",
     "text": [
      "Epoch 70, Loss 0.0512\n",
      "Training Accuracy: 0.9485, Testing Accuracy: 0.9551\n",
      "\n"
     ]
    },
    {
     "name": "stdout",
     "output_type": "stream",
     "text": [
      "Epoch 80, Loss 0.0492\n",
      "Training Accuracy: 0.9502, Testing Accuracy: 0.9567\n",
      "\n"
     ]
    },
    {
     "name": "stdout",
     "output_type": "stream",
     "text": [
      "Epoch 90, Loss 0.0476\n",
      "Training Accuracy: 0.9518, Testing Accuracy: 0.9577\n",
      "\n"
     ]
    },
    {
     "name": "stdout",
     "output_type": "stream",
     "text": [
      "Epoch 100, Loss 0.0461\n",
      "Training Accuracy: 0.9528, Testing Accuracy: 0.9587\n",
      "\n"
     ]
    },
    {
     "name": "stdout",
     "output_type": "stream",
     "text": [
      "Epoch 110, Loss 0.0449\n",
      "Training Accuracy: 0.9532, Testing Accuracy: 0.9597\n",
      "\n"
     ]
    },
    {
     "name": "stdout",
     "output_type": "stream",
     "text": [
      "Epoch 120, Loss 0.0439\n",
      "Training Accuracy: 0.9546, Testing Accuracy: 0.9607\n",
      "\n"
     ]
    },
    {
     "name": "stdout",
     "output_type": "stream",
     "text": [
      "Epoch 130, Loss 0.0429\n",
      "Training Accuracy: 0.9553, Testing Accuracy: 0.9622\n",
      "\n"
     ]
    },
    {
     "name": "stdout",
     "output_type": "stream",
     "text": [
      "Epoch 140, Loss 0.0421\n",
      "Training Accuracy: 0.9564, Testing Accuracy: 0.9627\n",
      "\n"
     ]
    },
    {
     "name": "stdout",
     "output_type": "stream",
     "text": [
      "Epoch 150, Loss 0.0414\n",
      "Training Accuracy: 0.9570, Testing Accuracy: 0.9632\n",
      "\n"
     ]
    },
    {
     "name": "stdout",
     "output_type": "stream",
     "text": [
      "Epoch 160, Loss 0.0407\n",
      "Training Accuracy: 0.9573, Testing Accuracy: 0.9642\n",
      "\n"
     ]
    },
    {
     "name": "stdout",
     "output_type": "stream",
     "text": [
      "Epoch 170, Loss 0.0401\n",
      "Training Accuracy: 0.9579, Testing Accuracy: 0.9647\n",
      "\n"
     ]
    },
    {
     "name": "stdout",
     "output_type": "stream",
     "text": [
      "Epoch 180, Loss 0.0395\n",
      "Training Accuracy: 0.9586, Testing Accuracy: 0.9657\n",
      "\n"
     ]
    },
    {
     "name": "stdout",
     "output_type": "stream",
     "text": [
      "Epoch 190, Loss 0.039\n",
      "Training Accuracy: 0.9592, Testing Accuracy: 0.9657\n",
      "\n"
     ]
    },
    {
     "name": "stdout",
     "output_type": "stream",
     "text": [
      "Epoch 200, Loss 0.0385\n",
      "Training Accuracy: 0.9598, Testing Accuracy: 0.9657\n",
      "\n"
     ]
    },
    {
     "name": "stdout",
     "output_type": "stream",
     "text": [
      "Epoch 210, Loss 0.0381\n",
      "Training Accuracy: 0.9600, Testing Accuracy: 0.9672\n",
      "\n"
     ]
    },
    {
     "name": "stdout",
     "output_type": "stream",
     "text": [
      "Epoch 220, Loss 0.0377\n",
      "Training Accuracy: 0.9602, Testing Accuracy: 0.9672\n",
      "\n"
     ]
    },
    {
     "name": "stdout",
     "output_type": "stream",
     "text": [
      "Epoch 230, Loss 0.0373\n",
      "Training Accuracy: 0.9606, Testing Accuracy: 0.9682\n",
      "\n"
     ]
    },
    {
     "name": "stdout",
     "output_type": "stream",
     "text": [
      "Epoch 240, Loss 0.0369\n",
      "Training Accuracy: 0.9608, Testing Accuracy: 0.9688\n",
      "\n"
     ]
    },
    {
     "data": {
      "text/plain": [
       "0.04254146759398364"
      ]
     },
     "execution_count": 23,
     "metadata": {},
     "output_type": "execute_result"
    }
   ],
   "source": [
    "lr_learner.train_loop(dl)"
   ]
  },
  {
   "cell_type": "code",
   "execution_count": 24,
   "id": "ca410940",
   "metadata": {
    "execution": {
     "iopub.execute_input": "2022-02-14T20:11:04.435509Z",
     "iopub.status.busy": "2022-02-14T20:11:04.434974Z",
     "iopub.status.idle": "2022-02-14T20:11:04.667051Z",
     "shell.execute_reply": "2022-02-14T20:11:04.666625Z"
    },
    "papermill": {
     "duration": 0.280619,
     "end_time": "2022-02-14T20:11:04.667165",
     "exception": false,
     "start_time": "2022-02-14T20:11:04.386546",
     "status": "completed"
    },
    "tags": []
   },
   "outputs": [
    {
     "data": {
      "text/plain": [
       "<matplotlib.legend.Legend at 0x7f4f214aacf8>"
      ]
     },
     "execution_count": 24,
     "metadata": {},
     "output_type": "execute_result"
    },
    {
     "data": {
      "image/png": "[encoded data removed]",
      "text/plain": [
       "<Figure size 1080x720 with 1 Axes>"
      ]
     },
     "metadata": {
      "needs_background": "light"
     },
     "output_type": "display_data"
    }
   ],
   "source": [
    "#comparing the results of NN and LR\n",
    "plt.figure(figsize=(15,10))\n",
    "\n",
    "# Neural Network plots\n",
    "plt.plot(acc_nn.accuracies, 'r-', label = \"Training Accuracies - NN\")\n",
    "plt.plot(acc_nn.test_accuracies, 'g-', label = \"Testing Accuracies - NN\")\n",
    "\n",
    "# Logistic Regression plots\n",
    "plt.plot(acc_lr.accuracies, 'k-', label = \"Training Accuracies - LR\")\n",
    "plt.plot(acc_lr.test_accuracies, 'b-', label = \"Testing Accuracies - LR\")\n",
    "plt.legend()"
   ]
  },
  {
   "cell_type": "markdown",
   "id": "80dfb35c",
   "metadata": {
    "papermill": {
     "duration": 0.043505,
     "end_time": "2022-02-14T20:11:04.754417",
     "exception": false,
     "start_time": "2022-02-14T20:11:04.710912",
     "status": "completed"
    },
    "tags": []
   },
   "source": [
    "#### Plotting the outputs of this layer of the NN.\n"
   ]
  },
  {
   "cell_type": "code",
   "execution_count": 25,
   "id": "45eb2ff5",
   "metadata": {
    "execution": {
     "iopub.execute_input": "2022-02-14T20:11:04.844611Z",
     "iopub.status.busy": "2022-02-14T20:11:04.844115Z",
     "iopub.status.idle": "2022-02-14T20:11:04.879798Z",
     "shell.execute_reply": "2022-02-14T20:11:04.880539Z"
    },
    "papermill": {
     "duration": 0.082889,
     "end_time": "2022-02-14T20:11:04.880670",
     "exception": false,
     "start_time": "2022-02-14T20:11:04.797781",
     "status": "completed"
    },
    "tags": []
   },
   "outputs": [],
   "source": [
    "new_model = Model(layers[:-2])\n",
    "testing_plot = new_model(testing_data_x)"
   ]
  },
  {
   "cell_type": "code",
   "execution_count": 26,
   "id": "4c0a5485",
   "metadata": {
    "execution": {
     "iopub.execute_input": "2022-02-14T20:11:04.978365Z",
     "iopub.status.busy": "2022-02-14T20:11:04.976141Z",
     "iopub.status.idle": "2022-02-14T20:11:05.160706Z",
     "shell.execute_reply": "2022-02-14T20:11:05.160273Z"
    },
    "papermill": {
     "duration": 0.235655,
     "end_time": "2022-02-14T20:11:05.160819",
     "exception": false,
     "start_time": "2022-02-14T20:11:04.925164",
     "status": "completed"
    },
    "tags": []
   },
   "outputs": [
    {
     "data": {
      "text/plain": [
       "Text(0.5, 1.0, 'Outputs')"
      ]
     },
     "execution_count": 26,
     "metadata": {},
     "output_type": "execute_result"
    },
    {
     "data": {
      "image/png": "[encoded data removed]",
      "text/plain": [
       "<Figure size 576x504 with 1 Axes>"
      ]
     },
     "metadata": {
      "needs_background": "light"
     },
     "output_type": "display_data"
    }
   ],
   "source": [
    "# Plotting the scatter plot of points and color coding by class\n",
    "plt.figure(figsize=(8,7))\n",
    "plt.scatter(testing_plot[:,0], testing_plot[:,1], alpha = 0.1, c = y_test.ravel());\n",
    "plt.title('Outputs')"
   ]
  },
  {
   "cell_type": "markdown",
   "id": "a74fcf8f",
   "metadata": {
    "papermill": {
     "duration": 0.04552,
     "end_time": "2022-02-14T20:11:05.252143",
     "exception": false,
     "start_time": "2022-02-14T20:11:05.206623",
     "status": "completed"
    },
    "tags": []
   },
   "source": [
    "Probability contours"
   ]
  },
  {
   "cell_type": "code",
   "execution_count": 27,
   "id": "d0afc8e3",
   "metadata": {
    "execution": {
     "iopub.execute_input": "2022-02-14T20:11:05.347096Z",
     "iopub.status.busy": "2022-02-14T20:11:05.346584Z",
     "iopub.status.idle": "2022-02-14T20:11:05.357625Z",
     "shell.execute_reply": "2022-02-14T20:11:05.357218Z"
    },
    "papermill": {
     "duration": 0.059839,
     "end_time": "2022-02-14T20:11:05.357732",
     "exception": false,
     "start_time": "2022-02-14T20:11:05.297893",
     "status": "completed"
    },
    "tags": []
   },
   "outputs": [],
   "source": [
    "model_prob = Model(layers[-2:]) "
   ]
  },
  {
   "cell_type": "code",
   "execution_count": 28,
   "id": "9b96e238",
   "metadata": {
    "execution": {
     "iopub.execute_input": "2022-02-14T20:11:05.473654Z",
     "iopub.status.busy": "2022-02-14T20:11:05.473162Z",
     "iopub.status.idle": "2022-02-14T20:11:05.487405Z",
     "shell.execute_reply": "2022-02-14T20:11:05.486983Z"
    },
    "papermill": {
     "duration": 0.063723,
     "end_time": "2022-02-14T20:11:05.487511",
     "exception": false,
     "start_time": "2022-02-14T20:11:05.423788",
     "status": "completed"
    },
    "tags": []
   },
   "outputs": [],
   "source": [
    "#creating the x and y ranges according to the above generated plot.\n",
    "x_range = np.linspace(-4, 1, 100) \n",
    "y_range = np.linspace(-6, 6, 100) \n",
    "x_grid, y_grid = np.meshgrid(x_range, y_range) # x_grid and y_grig are of size 100 X 100\n",
    "\n",
    "# converting x_grid and y_grid to continuous arrays\n",
    "x_gridflat = np.ravel(x_grid)\n",
    "y_gridflat = np.ravel(y_grid)\n",
    "\n",
    "# The last layer of the current model takes two columns as input. Hence transpose of np.vstack() is required.\n",
    "X = np.vstack((x_gridflat, y_gridflat)).T\n",
    "\n",
    "prob_contour = model_prob(X).reshape(100,100) "
   ]
  },
  {
   "cell_type": "code",
   "execution_count": 29,
   "id": "da72499a",
   "metadata": {
    "execution": {
     "iopub.execute_input": "2022-02-14T20:11:05.583052Z",
     "iopub.status.busy": "2022-02-14T20:11:05.582565Z",
     "iopub.status.idle": "2022-02-14T20:11:05.817894Z",
     "shell.execute_reply": "2022-02-14T20:11:05.818307Z"
    },
    "papermill": {
     "duration": 0.28515,
     "end_time": "2022-02-14T20:11:05.818434",
     "exception": false,
     "start_time": "2022-02-14T20:11:05.533284",
     "status": "completed"
    },
    "tags": []
   },
   "outputs": [
    {
     "data": {
      "image/png": "[encoded data removed]",
      "text/plain": [
       "<Figure size 720x648 with 1 Axes>"
      ]
     },
     "metadata": {
      "needs_background": "light"
     },
     "output_type": "display_data"
    }
   ],
   "source": [
    "plt.figure(figsize=(10,9))\n",
    "plt.scatter(testing_plot[:,0], testing_plot[:,1], alpha = 0.1, c = y_test.ravel())\n",
    "contours = plt.contour(x_grid,y_grid,prob_contour)\n",
    "plt.title('Probability Contours')\n",
    "plt.clabel(contours, inline = True );"
   ]
  },
  {
   "cell_type": "code",
   "execution_count": null,
   "id": "e81b4ac7",
   "metadata": {
    "papermill": {
     "duration": 0.048337,
     "end_time": "2022-02-14T20:11:05.915690",
     "exception": false,
     "start_time": "2022-02-14T20:11:05.867353",
     "status": "completed"
    },
    "tags": []
   },
   "outputs": [],
   "source": []
  }
 ],
 "metadata": {
  "kernelspec": {
   "display_name": "Python 3",
   "language": "python",
   "name": "python3"
  },
  "language_info": {
   "codemirror_mode": {
    "name": "ipython",
    "version": 3
   },
   "file_extension": ".py",
   "mimetype": "text/x-python",
   "name": "python",
   "nbconvert_exporter": "python",
   "pygments_lexer": "ipython3",
   "version": "3.6.15"
  },
  "papermill": {
   "default_parameters": {},
   "duration": 195.712614,
   "end_time": "2022-02-14T20:11:06.281024",
   "environment_variables": {},
   "exception": null,
   "input_path": "2020-08-11-part2.ipynb",
   "output_path": "2020-08-11-part2.ipynb",
   "parameters": {},
   "start_time": "2022-02-14T20:07:50.568410",
   "version": "2.3.3"
  }
 },
 "nbformat": 4,
 "nbformat_minor": 5
}