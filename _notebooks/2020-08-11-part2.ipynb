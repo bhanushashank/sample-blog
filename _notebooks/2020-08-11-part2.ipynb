{
 "cells": [
  {
   "cell_type": "markdown",
   "id": "98380cd3",
   "metadata": {
    "papermill": {
     "duration": 0.035998,
     "end_time": "2022-07-01T00:42:00.115473",
     "exception": false,
     "start_time": "2022-07-01T00:42:00.079475",
     "status": "completed"
    },
    "tags": []
   },
   "source": [
    "# Distinguish Your Own Digits (DYOD)"
   ]
  },
  {
   "cell_type": "markdown",
   "id": "ef31240d",
   "metadata": {
    "papermill": {
     "duration": 0.028063,
     "end_time": "2022-07-01T00:42:00.172345",
     "exception": false,
     "start_time": "2022-07-01T00:42:00.144282",
     "status": "completed"
    },
    "tags": []
   },
   "source": [
    "You are going to write a classifier that distinguishes between the number 3 and number 8."
   ]
  },
  {
   "cell_type": "code",
   "execution_count": 1,
   "id": "b15c8646",
   "metadata": {
    "execution": {
     "iopub.execute_input": "2022-07-01T00:42:00.242259Z",
     "iopub.status.busy": "2022-07-01T00:42:00.241534Z",
     "iopub.status.idle": "2022-07-01T00:42:00.254559Z",
     "shell.execute_reply": "2022-07-01T00:42:00.253830Z"
    },
    "papermill": {
     "duration": 0.054064,
     "end_time": "2022-07-01T00:42:00.254714",
     "exception": false,
     "start_time": "2022-07-01T00:42:00.200650",
     "status": "completed"
    },
    "tags": []
   },
   "outputs": [],
   "source": [
    "%load_ext autoreload\n",
    "%autoreload 2"
   ]
  },
  {
   "cell_type": "code",
   "execution_count": 2,
   "id": "22ef38dc",
   "metadata": {
    "execution": {
     "iopub.execute_input": "2022-07-01T00:42:00.316654Z",
     "iopub.status.busy": "2022-07-01T00:42:00.315950Z",
     "iopub.status.idle": "2022-07-01T00:42:00.956265Z",
     "shell.execute_reply": "2022-07-01T00:42:00.955592Z"
    },
    "papermill": {
     "duration": 0.673831,
     "end_time": "2022-07-01T00:42:00.956413",
     "exception": false,
     "start_time": "2022-07-01T00:42:00.282582",
     "status": "completed"
    },
    "tags": []
   },
   "outputs": [],
   "source": [
    "%matplotlib inline\n",
    "import numpy as np\n",
    "import matplotlib.pyplot as plt\n",
    "import pandas as pd"
   ]
  },
  {
   "cell_type": "markdown",
   "id": "ba036198",
   "metadata": {
    "papermill": {
     "duration": 0.028346,
     "end_time": "2022-07-01T00:42:01.015954",
     "exception": false,
     "start_time": "2022-07-01T00:42:00.987608",
     "status": "completed"
    },
    "tags": []
   },
   "source": [
    "From the command line run `pip install mnist`. This is a library that will help you bring down the mnist dataset. If you run this from a notebook, you need to put  `!pip install mnist` in a cell by itself."
   ]
  },
  {
   "cell_type": "code",
   "execution_count": 3,
   "id": "bb6ad8a1",
   "metadata": {
    "execution": {
     "iopub.execute_input": "2022-07-01T00:42:01.076943Z",
     "iopub.status.busy": "2022-07-01T00:42:01.076233Z",
     "iopub.status.idle": "2022-07-01T00:42:03.080033Z",
     "shell.execute_reply": "2022-07-01T00:42:03.079045Z"
    },
    "papermill": {
     "duration": 2.036337,
     "end_time": "2022-07-01T00:42:03.080183",
     "exception": false,
     "start_time": "2022-07-01T00:42:01.043846",
     "status": "completed"
    },
    "tags": []
   },
   "outputs": [
    {
     "name": "stdout",
     "output_type": "stream",
     "text": [
      "Collecting mnist\r\n"
     ]
    },
    {
     "name": "stdout",
     "output_type": "stream",
     "text": [
      "  Downloading mnist-0.2.2-py2.py3-none-any.whl (3.5 kB)\r\n",
      "Requirement already satisfied: numpy in /opt/hostedtoolcache/Python/3.6.15/x64/lib/python3.6/site-packages (from mnist) (1.19.5)\r\n"
     ]
    },
    {
     "name": "stdout",
     "output_type": "stream",
     "text": [
      "Installing collected packages: mnist\r\n"
     ]
    },
    {
     "name": "stdout",
     "output_type": "stream",
     "text": [
      "Successfully installed mnist-0.2.2\r\n"
     ]
    }
   ],
   "source": [
    "!pip install mnist"
   ]
  },
  {
   "cell_type": "markdown",
   "id": "69df9c9a",
   "metadata": {
    "papermill": {
     "duration": 0.030104,
     "end_time": "2022-07-01T00:42:03.139917",
     "exception": false,
     "start_time": "2022-07-01T00:42:03.109813",
     "status": "completed"
    },
    "tags": []
   },
   "source": [
    "## Preparing the Data"
   ]
  },
  {
   "cell_type": "code",
   "execution_count": 4,
   "id": "7f69d806",
   "metadata": {
    "execution": {
     "iopub.execute_input": "2022-07-01T00:42:03.207067Z",
     "iopub.status.busy": "2022-07-01T00:42:03.206309Z",
     "iopub.status.idle": "2022-07-01T00:42:03.222773Z",
     "shell.execute_reply": "2022-07-01T00:42:03.222149Z"
    },
    "papermill": {
     "duration": 0.054035,
     "end_time": "2022-07-01T00:42:03.222917",
     "exception": false,
     "start_time": "2022-07-01T00:42:03.168882",
     "status": "completed"
    },
    "tags": []
   },
   "outputs": [],
   "source": [
    "import mnist"
   ]
  },
  {
   "cell_type": "code",
   "execution_count": 5,
   "id": "a411e44f",
   "metadata": {
    "execution": {
     "iopub.execute_input": "2022-07-01T00:42:03.288638Z",
     "iopub.status.busy": "2022-07-01T00:42:03.287939Z",
     "iopub.status.idle": "2022-07-01T00:42:03.860109Z",
     "shell.execute_reply": "2022-07-01T00:42:03.859502Z"
    },
    "papermill": {
     "duration": 0.608147,
     "end_time": "2022-07-01T00:42:03.860257",
     "exception": false,
     "start_time": "2022-07-01T00:42:03.252110",
     "status": "completed"
    },
    "tags": []
   },
   "outputs": [],
   "source": [
    "train_images = mnist.train_images()\n",
    "train_labels = mnist.train_labels()"
   ]
  },
  {
   "cell_type": "code",
   "execution_count": 6,
   "id": "dceab3a5",
   "metadata": {
    "execution": {
     "iopub.execute_input": "2022-07-01T00:42:03.923881Z",
     "iopub.status.busy": "2022-07-01T00:42:03.923175Z",
     "iopub.status.idle": "2022-07-01T00:42:03.940434Z",
     "shell.execute_reply": "2022-07-01T00:42:03.939852Z"
    },
    "papermill": {
     "duration": 0.051101,
     "end_time": "2022-07-01T00:42:03.940572",
     "exception": false,
     "start_time": "2022-07-01T00:42:03.889471",
     "status": "completed"
    },
    "tags": []
   },
   "outputs": [
    {
     "data": {
      "text/plain": [
       "((60000, 28, 28), (60000,))"
      ]
     },
     "execution_count": 6,
     "metadata": {},
     "output_type": "execute_result"
    }
   ],
   "source": [
    "train_images.shape, train_labels.shape"
   ]
  },
  {
   "cell_type": "code",
   "execution_count": 7,
   "id": "f50dc2bb",
   "metadata": {
    "execution": {
     "iopub.execute_input": "2022-07-01T00:42:04.006196Z",
     "iopub.status.busy": "2022-07-01T00:42:04.005479Z",
     "iopub.status.idle": "2022-07-01T00:42:04.148534Z",
     "shell.execute_reply": "2022-07-01T00:42:04.147628Z"
    },
    "papermill": {
     "duration": 0.178625,
     "end_time": "2022-07-01T00:42:04.148721",
     "exception": false,
     "start_time": "2022-07-01T00:42:03.970096",
     "status": "completed"
    },
    "tags": []
   },
   "outputs": [],
   "source": [
    "test_images = mnist.test_images()\n",
    "test_labels = mnist.test_labels()"
   ]
  },
  {
   "cell_type": "code",
   "execution_count": 8,
   "id": "fc38cf1b",
   "metadata": {
    "execution": {
     "iopub.execute_input": "2022-07-01T00:42:04.213690Z",
     "iopub.status.busy": "2022-07-01T00:42:04.212957Z",
     "iopub.status.idle": "2022-07-01T00:42:04.228808Z",
     "shell.execute_reply": "2022-07-01T00:42:04.228229Z"
    },
    "papermill": {
     "duration": 0.049144,
     "end_time": "2022-07-01T00:42:04.228940",
     "exception": false,
     "start_time": "2022-07-01T00:42:04.179796",
     "status": "completed"
    },
    "tags": []
   },
   "outputs": [
    {
     "data": {
      "text/plain": [
       "((10000, 28, 28), (10000,))"
      ]
     },
     "execution_count": 8,
     "metadata": {},
     "output_type": "execute_result"
    }
   ],
   "source": [
    "test_images.shape, test_labels.shape"
   ]
  },
  {
   "cell_type": "code",
   "execution_count": 9,
   "id": "f9ed8fe0",
   "metadata": {
    "execution": {
     "iopub.execute_input": "2022-07-01T00:42:04.304334Z",
     "iopub.status.busy": "2022-07-01T00:42:04.303587Z",
     "iopub.status.idle": "2022-07-01T00:42:04.469932Z",
     "shell.execute_reply": "2022-07-01T00:42:04.469336Z"
    },
    "papermill": {
     "duration": 0.203541,
     "end_time": "2022-07-01T00:42:04.470073",
     "exception": false,
     "start_time": "2022-07-01T00:42:04.266532",
     "status": "completed"
    },
    "tags": []
   },
   "outputs": [
    {
     "name": "stdout",
     "output_type": "stream",
     "text": [
      "2\n"
     ]
    },
    {
     "data": {
      "text/plain": [
       "<matplotlib.image.AxesImage at 0x7fe011d6a4e0>"
      ]
     },
     "execution_count": 9,
     "metadata": {},
     "output_type": "execute_result"
    },
    {
     "data": {
      "image/png": "[encoded data removed]",
      "text/plain": [
       "<Figure size 432x288 with 1 Axes>"
      ]
     },
     "metadata": {
      "needs_background": "light"
     },
     "output_type": "display_data"
    }
   ],
   "source": [
    "image_index = 7776 # You may select anything up to 60,000\n",
    "print(train_labels[image_index]) \n",
    "plt.imshow(train_images[image_index], cmap='Greys')"
   ]
  },
  {
   "cell_type": "markdown",
   "id": "a8d2388d",
   "metadata": {
    "papermill": {
     "duration": 0.031296,
     "end_time": "2022-07-01T00:42:04.532900",
     "exception": false,
     "start_time": "2022-07-01T00:42:04.501604",
     "status": "completed"
    },
    "tags": []
   },
   "source": [
    "## Filter data to get 3 and 8 out"
   ]
  },
  {
   "cell_type": "code",
   "execution_count": 10,
   "id": "776f7fc7",
   "metadata": {
    "execution": {
     "iopub.execute_input": "2022-07-01T00:42:04.603572Z",
     "iopub.status.busy": "2022-07-01T00:42:04.600294Z",
     "iopub.status.idle": "2022-07-01T00:42:04.620906Z",
     "shell.execute_reply": "2022-07-01T00:42:04.620162Z"
    },
    "papermill": {
     "duration": 0.057089,
     "end_time": "2022-07-01T00:42:04.621051",
     "exception": false,
     "start_time": "2022-07-01T00:42:04.563962",
     "status": "completed"
    },
    "tags": []
   },
   "outputs": [],
   "source": [
    "train_filter = np.where((train_labels == 3 ) | (train_labels == 8))\n",
    "test_filter = np.where((test_labels == 3) | (test_labels == 8))\n",
    "X_train, y_train = train_images[train_filter], train_labels[train_filter]\n",
    "X_test, y_test = test_images[test_filter], test_labels[test_filter]"
   ]
  },
  {
   "cell_type": "markdown",
   "id": "948f0b7e",
   "metadata": {
    "papermill": {
     "duration": 0.030996,
     "end_time": "2022-07-01T00:42:04.683432",
     "exception": false,
     "start_time": "2022-07-01T00:42:04.652436",
     "status": "completed"
    },
    "tags": []
   },
   "source": [
    "We normalize the pizel values in the 0 to 1 range"
   ]
  },
  {
   "cell_type": "code",
   "execution_count": 11,
   "id": "ee4c2166",
   "metadata": {
    "execution": {
     "iopub.execute_input": "2022-07-01T00:42:04.751501Z",
     "iopub.status.busy": "2022-07-01T00:42:04.750106Z",
     "iopub.status.idle": "2022-07-01T00:42:04.806386Z",
     "shell.execute_reply": "2022-07-01T00:42:04.805755Z"
    },
    "papermill": {
     "duration": 0.09181,
     "end_time": "2022-07-01T00:42:04.806559",
     "exception": false,
     "start_time": "2022-07-01T00:42:04.714749",
     "status": "completed"
    },
    "tags": []
   },
   "outputs": [],
   "source": [
    "X_train = X_train/255.\n",
    "X_test = X_test/255."
   ]
  },
  {
   "cell_type": "markdown",
   "id": "ddcf4fab",
   "metadata": {
    "papermill": {
     "duration": 0.031792,
     "end_time": "2022-07-01T00:42:04.872432",
     "exception": false,
     "start_time": "2022-07-01T00:42:04.840640",
     "status": "completed"
    },
    "tags": []
   },
   "source": [
    "And setup the labels as 1 (when the digit is 3) and 0 (when the digit is 8)"
   ]
  },
  {
   "cell_type": "code",
   "execution_count": 12,
   "id": "7dc908f2",
   "metadata": {
    "execution": {
     "iopub.execute_input": "2022-07-01T00:42:04.942142Z",
     "iopub.status.busy": "2022-07-01T00:42:04.941276Z",
     "iopub.status.idle": "2022-07-01T00:42:04.955616Z",
     "shell.execute_reply": "2022-07-01T00:42:04.955016Z"
    },
    "papermill": {
     "duration": 0.051827,
     "end_time": "2022-07-01T00:42:04.955752",
     "exception": false,
     "start_time": "2022-07-01T00:42:04.903925",
     "status": "completed"
    },
    "tags": []
   },
   "outputs": [],
   "source": [
    "y_train = 1*(y_train==3)\n",
    "y_test = 1*(y_test==3)"
   ]
  },
  {
   "cell_type": "code",
   "execution_count": 13,
   "id": "01e4e969",
   "metadata": {
    "execution": {
     "iopub.execute_input": "2022-07-01T00:42:05.023682Z",
     "iopub.status.busy": "2022-07-01T00:42:05.022972Z",
     "iopub.status.idle": "2022-07-01T00:42:05.039273Z",
     "shell.execute_reply": "2022-07-01T00:42:05.038573Z"
    },
    "papermill": {
     "duration": 0.05249,
     "end_time": "2022-07-01T00:42:05.039409",
     "exception": false,
     "start_time": "2022-07-01T00:42:04.986919",
     "status": "completed"
    },
    "tags": []
   },
   "outputs": [
    {
     "data": {
      "text/plain": [
       "((11982, 28, 28), (1984, 28, 28))"
      ]
     },
     "execution_count": 13,
     "metadata": {},
     "output_type": "execute_result"
    }
   ],
   "source": [
    "X_train.shape, X_test.shape"
   ]
  },
  {
   "cell_type": "markdown",
   "id": "5ccf3f85",
   "metadata": {
    "papermill": {
     "duration": 0.031369,
     "end_time": "2022-07-01T00:42:05.102341",
     "exception": false,
     "start_time": "2022-07-01T00:42:05.070972",
     "status": "completed"
    },
    "tags": []
   },
   "source": [
    "We reshape the data to flatten the image pixels into a set of features or co-variates:"
   ]
  },
  {
   "cell_type": "code",
   "execution_count": 14,
   "id": "5286a4a3",
   "metadata": {
    "execution": {
     "iopub.execute_input": "2022-07-01T00:42:05.171283Z",
     "iopub.status.busy": "2022-07-01T00:42:05.170559Z",
     "iopub.status.idle": "2022-07-01T00:42:05.189047Z",
     "shell.execute_reply": "2022-07-01T00:42:05.188351Z"
    },
    "papermill": {
     "duration": 0.055226,
     "end_time": "2022-07-01T00:42:05.189183",
     "exception": false,
     "start_time": "2022-07-01T00:42:05.133957",
     "status": "completed"
    },
    "tags": []
   },
   "outputs": [
    {
     "data": {
      "text/plain": [
       "((11982, 784), (1984, 784))"
      ]
     },
     "execution_count": 14,
     "metadata": {},
     "output_type": "execute_result"
    }
   ],
   "source": [
    "X_train = X_train.reshape(X_train.shape[0], -1)\n",
    "X_test = X_test.reshape(X_test.shape[0], -1)\n",
    "X_train.shape, X_test.shape"
   ]
  },
  {
   "cell_type": "code",
   "execution_count": 15,
   "id": "73c5f88a",
   "metadata": {
    "execution": {
     "iopub.execute_input": "2022-07-01T00:42:05.258782Z",
     "iopub.status.busy": "2022-07-01T00:42:05.258018Z",
     "iopub.status.idle": "2022-07-01T00:42:05.283224Z",
     "shell.execute_reply": "2022-07-01T00:42:05.282275Z"
    },
    "papermill": {
     "duration": 0.062688,
     "end_time": "2022-07-01T00:42:05.283434",
     "exception": false,
     "start_time": "2022-07-01T00:42:05.220746",
     "status": "completed"
    },
    "tags": []
   },
   "outputs": [],
   "source": [
    "#Impoting functions from 'Kudzu'\n",
    "from kudzu.model import Model\n",
    "from kudzu.train import Learner\n",
    "from kudzu.optim import GD\n",
    "from kudzu.data import Data, Sampler,Dataloader\n",
    "\n",
    "from kudzu.callbacks import AccCallback\n",
    "from kudzu.callbacks import ClfCallback\n",
    "\n",
    "from kudzu.loss import MSE\n",
    "\n",
    "from kudzu.layer import Sigmoid,Relu\n",
    "from kudzu.layer import Affine"
   ]
  },
  {
   "cell_type": "markdown",
   "id": "bc01172a",
   "metadata": {
    "papermill": {
     "duration": 0.032174,
     "end_time": "2022-07-01T00:42:05.349192",
     "exception": false,
     "start_time": "2022-07-01T00:42:05.317018",
     "status": "completed"
    },
    "tags": []
   },
   "source": [
    "### Let us create a `Config` class, to store important parameters. \n",
    "This class essentially plays the role of a dictionary."
   ]
  },
  {
   "cell_type": "code",
   "execution_count": 16,
   "id": "978281aa",
   "metadata": {
    "execution": {
     "iopub.execute_input": "2022-07-01T00:42:05.430150Z",
     "iopub.status.busy": "2022-07-01T00:42:05.429438Z",
     "iopub.status.idle": "2022-07-01T00:42:05.444311Z",
     "shell.execute_reply": "2022-07-01T00:42:05.443693Z"
    },
    "papermill": {
     "duration": 0.063101,
     "end_time": "2022-07-01T00:42:05.444451",
     "exception": false,
     "start_time": "2022-07-01T00:42:05.381350",
     "status": "completed"
    },
    "tags": []
   },
   "outputs": [],
   "source": [
    "class Config:\n",
    "    pass\n",
    "config = Config()\n",
    "config.lr = 0.001\n",
    "config.num_epochs = 250\n",
    "config.bs = 50"
   ]
  },
  {
   "cell_type": "markdown",
   "id": "1385fa59",
   "metadata": {
    "papermill": {
     "duration": 0.04673,
     "end_time": "2022-07-01T00:42:05.523949",
     "exception": false,
     "start_time": "2022-07-01T00:42:05.477219",
     "status": "completed"
    },
    "tags": []
   },
   "source": [
    "### Running Models with the Training data\n",
    "Details about the network layers:\n",
    "- A first affine layer has 784 inputs and does 100 affine transforms. These are followed by a Relu\n",
    "- A second affine layer has 100 inputs from the 100 activations of the past layer, and does 100 affine transforms. These are followed by a Relu\n",
    "- A third affine layer has 100 activations and does 2 affine transformations to create an embedding for visualization. There is no non-linearity here.\n",
    "- A final \"logistic regression\" which has an affine transform from 2 inputs to 1 output, which is squeezed through a sigmoid.\n"
   ]
  },
  {
   "cell_type": "code",
   "execution_count": 17,
   "id": "2b9c66db",
   "metadata": {
    "execution": {
     "iopub.execute_input": "2022-07-01T00:42:05.595448Z",
     "iopub.status.busy": "2022-07-01T00:42:05.594373Z",
     "iopub.status.idle": "2022-07-01T00:42:05.609813Z",
     "shell.execute_reply": "2022-07-01T00:42:05.609105Z"
    },
    "papermill": {
     "duration": 0.053771,
     "end_time": "2022-07-01T00:42:05.609953",
     "exception": false,
     "start_time": "2022-07-01T00:42:05.556182",
     "status": "completed"
    },
    "tags": []
   },
   "outputs": [],
   "source": [
    "data = Data(X_train, y_train.reshape(-1,1))\n",
    "sampler = Sampler(data, config.bs, shuffle=True)\n",
    "\n",
    "dl = Dataloader(data, sampler)\n",
    "\n",
    "opt = GD(config.lr)\n",
    "loss = MSE()"
   ]
  },
  {
   "cell_type": "code",
   "execution_count": 18,
   "id": "b275e4c2",
   "metadata": {
    "execution": {
     "iopub.execute_input": "2022-07-01T00:42:05.681480Z",
     "iopub.status.busy": "2022-07-01T00:42:05.680765Z",
     "iopub.status.idle": "2022-07-01T00:42:05.695774Z",
     "shell.execute_reply": "2022-07-01T00:42:05.694847Z"
    },
    "papermill": {
     "duration": 0.053534,
     "end_time": "2022-07-01T00:42:05.695924",
     "exception": false,
     "start_time": "2022-07-01T00:42:05.642390",
     "status": "completed"
    },
    "tags": []
   },
   "outputs": [],
   "source": [
    "training_data_x = X_train\n",
    "testing_data_x = X_test\n",
    "training_data_y = y_train.reshape(-1,1)\n",
    "testing_data_y = y_test.reshape(-1,1)"
   ]
  },
  {
   "cell_type": "code",
   "execution_count": 19,
   "id": "76951160",
   "metadata": {
    "execution": {
     "iopub.execute_input": "2022-07-01T00:42:05.772681Z",
     "iopub.status.busy": "2022-07-01T00:42:05.771971Z",
     "iopub.status.idle": "2022-07-01T00:42:05.792565Z",
     "shell.execute_reply": "2022-07-01T00:42:05.793460Z"
    },
    "papermill": {
     "duration": 0.060384,
     "end_time": "2022-07-01T00:42:05.793622",
     "exception": false,
     "start_time": "2022-07-01T00:42:05.733238",
     "status": "completed"
    },
    "tags": []
   },
   "outputs": [
    {
     "name": "stdout",
     "output_type": "stream",
     "text": [
      "xavier\n",
      "xavier\n",
      "xavier\n",
      "xavier\n",
      "xavier\n"
     ]
    }
   ],
   "source": [
    "layers = [Affine(\"first\", 784, 100), Relu(\"first\"), Affine(\"second\", 100, 100), Relu(\"second\"), Affine(\"third\", 100, 2), Affine(\"last\", 2, 1), Sigmoid(\"last\")]\n",
    "model_nn = Model(layers)\n",
    "model_lr = Model([Affine(\"logits\", 784, 1), Sigmoid(\"sigmoid\")])"
   ]
  },
  {
   "cell_type": "code",
   "execution_count": 20,
   "id": "6eede77a",
   "metadata": {
    "execution": {
     "iopub.execute_input": "2022-07-01T00:42:05.866337Z",
     "iopub.status.busy": "2022-07-01T00:42:05.865634Z",
     "iopub.status.idle": "2022-07-01T00:42:05.880296Z",
     "shell.execute_reply": "2022-07-01T00:42:05.879603Z"
    },
    "papermill": {
     "duration": 0.053799,
     "end_time": "2022-07-01T00:42:05.880432",
     "exception": false,
     "start_time": "2022-07-01T00:42:05.826633",
     "status": "completed"
    },
    "tags": []
   },
   "outputs": [],
   "source": [
    "nn_learner = Learner(loss, model_nn, opt, config.num_epochs)\n",
    "acc_nn = ClfCallback(nn_learner, config.bs, training_data_x , testing_data_x, training_data_y, testing_data_y)\n",
    "nn_learner.set_callbacks([acc_nn])"
   ]
  },
  {
   "cell_type": "code",
   "execution_count": 21,
   "id": "877b6cc7",
   "metadata": {
    "execution": {
     "iopub.execute_input": "2022-07-01T00:42:05.951748Z",
     "iopub.status.busy": "2022-07-01T00:42:05.951036Z",
     "iopub.status.idle": "2022-07-01T00:42:05.968672Z",
     "shell.execute_reply": "2022-07-01T00:42:05.967910Z"
    },
    "papermill": {
     "duration": 0.055827,
     "end_time": "2022-07-01T00:42:05.968818",
     "exception": false,
     "start_time": "2022-07-01T00:42:05.912991",
     "status": "completed"
    },
    "tags": []
   },
   "outputs": [],
   "source": [
    "lr_learner = Learner(loss, model_lr, opt, config.num_epochs)\n",
    "acc_lr = ClfCallback(lr_learner, config.bs, training_data_x , testing_data_x, training_data_y, testing_data_y)\n",
    "lr_learner.set_callbacks([acc_lr])"
   ]
  },
  {
   "cell_type": "code",
   "execution_count": 22,
   "id": "d9b133c3",
   "metadata": {
    "execution": {
     "iopub.execute_input": "2022-07-01T00:42:06.040721Z",
     "iopub.status.busy": "2022-07-01T00:42:06.039989Z",
     "iopub.status.idle": "2022-07-01T00:43:34.916901Z",
     "shell.execute_reply": "2022-07-01T00:43:34.917898Z"
    },
    "papermill": {
     "duration": 88.916319,
     "end_time": "2022-07-01T00:43:34.918079",
     "exception": false,
     "start_time": "2022-07-01T00:42:06.001760",
     "status": "completed"
    },
    "tags": []
   },
   "outputs": [
    {
     "name": "stdout",
     "output_type": "stream",
     "text": [
      "Epoch 0, Loss 0.2373\n",
      "Training Accuracy: 0.7994, Testing Accuracy: 0.8105\n",
      "\n"
     ]
    },
    {
     "name": "stdout",
     "output_type": "stream",
     "text": [
      "Epoch 10, Loss 0.0551\n",
      "Training Accuracy: 0.9402, Testing Accuracy: 0.9476\n",
      "\n"
     ]
    },
    {
     "name": "stdout",
     "output_type": "stream",
     "text": [
      "Epoch 20, Loss 0.04\n",
      "Training Accuracy: 0.9553, Testing Accuracy: 0.9582\n",
      "\n"
     ]
    },
    {
     "name": "stdout",
     "output_type": "stream",
     "text": [
      "Epoch 30, Loss 0.0338\n",
      "Training Accuracy: 0.9616, Testing Accuracy: 0.9627\n",
      "\n"
     ]
    },
    {
     "name": "stdout",
     "output_type": "stream",
     "text": [
      "Epoch 40, Loss 0.0302\n",
      "Training Accuracy: 0.9658, Testing Accuracy: 0.9662\n",
      "\n"
     ]
    },
    {
     "name": "stdout",
     "output_type": "stream",
     "text": [
      "Epoch 50, Loss 0.0278\n",
      "Training Accuracy: 0.9691, Testing Accuracy: 0.9677\n",
      "\n"
     ]
    },
    {
     "name": "stdout",
     "output_type": "stream",
     "text": [
      "Epoch 60, Loss 0.026\n",
      "Training Accuracy: 0.9715, Testing Accuracy: 0.9672\n",
      "\n"
     ]
    },
    {
     "name": "stdout",
     "output_type": "stream",
     "text": [
      "Epoch 70, Loss 0.0246\n",
      "Training Accuracy: 0.9725, Testing Accuracy: 0.9677\n",
      "\n"
     ]
    },
    {
     "name": "stdout",
     "output_type": "stream",
     "text": [
      "Epoch 80, Loss 0.0234\n",
      "Training Accuracy: 0.9739, Testing Accuracy: 0.9682\n",
      "\n"
     ]
    },
    {
     "name": "stdout",
     "output_type": "stream",
     "text": [
      "Epoch 90, Loss 0.0223\n",
      "Training Accuracy: 0.9745, Testing Accuracy: 0.9698\n",
      "\n"
     ]
    },
    {
     "name": "stdout",
     "output_type": "stream",
     "text": [
      "Epoch 100, Loss 0.0214\n",
      "Training Accuracy: 0.9760, Testing Accuracy: 0.9682\n",
      "\n"
     ]
    },
    {
     "name": "stdout",
     "output_type": "stream",
     "text": [
      "Epoch 110, Loss 0.0206\n",
      "Training Accuracy: 0.9764, Testing Accuracy: 0.9703\n",
      "\n"
     ]
    },
    {
     "name": "stdout",
     "output_type": "stream",
     "text": [
      "Epoch 120, Loss 0.0199\n",
      "Training Accuracy: 0.9774, Testing Accuracy: 0.9703\n",
      "\n"
     ]
    },
    {
     "name": "stdout",
     "output_type": "stream",
     "text": [
      "Epoch 130, Loss 0.0192\n",
      "Training Accuracy: 0.9786, Testing Accuracy: 0.9713\n",
      "\n"
     ]
    },
    {
     "name": "stdout",
     "output_type": "stream",
     "text": [
      "Epoch 140, Loss 0.0185\n",
      "Training Accuracy: 0.9793, Testing Accuracy: 0.9718\n",
      "\n"
     ]
    },
    {
     "name": "stdout",
     "output_type": "stream",
     "text": [
      "Epoch 150, Loss 0.018\n",
      "Training Accuracy: 0.9801, Testing Accuracy: 0.9733\n",
      "\n"
     ]
    },
    {
     "name": "stdout",
     "output_type": "stream",
     "text": [
      "Epoch 160, Loss 0.0174\n",
      "Training Accuracy: 0.9808, Testing Accuracy: 0.9733\n",
      "\n"
     ]
    },
    {
     "name": "stdout",
     "output_type": "stream",
     "text": [
      "Epoch 170, Loss 0.0169\n",
      "Training Accuracy: 0.9821, Testing Accuracy: 0.9738\n",
      "\n"
     ]
    },
    {
     "name": "stdout",
     "output_type": "stream",
     "text": [
      "Epoch 180, Loss 0.0164\n",
      "Training Accuracy: 0.9825, Testing Accuracy: 0.9748\n",
      "\n"
     ]
    },
    {
     "name": "stdout",
     "output_type": "stream",
     "text": [
      "Epoch 190, Loss 0.016\n",
      "Training Accuracy: 0.9831, Testing Accuracy: 0.9743\n",
      "\n"
     ]
    },
    {
     "name": "stdout",
     "output_type": "stream",
     "text": [
      "Epoch 200, Loss 0.0156\n",
      "Training Accuracy: 0.9839, Testing Accuracy: 0.9748\n",
      "\n"
     ]
    },
    {
     "name": "stdout",
     "output_type": "stream",
     "text": [
      "Epoch 210, Loss 0.0152\n",
      "Training Accuracy: 0.9844, Testing Accuracy: 0.9753\n",
      "\n"
     ]
    },
    {
     "name": "stdout",
     "output_type": "stream",
     "text": [
      "Epoch 220, Loss 0.0148\n",
      "Training Accuracy: 0.9846, Testing Accuracy: 0.9768\n",
      "\n"
     ]
    },
    {
     "name": "stdout",
     "output_type": "stream",
     "text": [
      "Epoch 230, Loss 0.0144\n",
      "Training Accuracy: 0.9851, Testing Accuracy: 0.9778\n",
      "\n"
     ]
    },
    {
     "name": "stdout",
     "output_type": "stream",
     "text": [
      "Epoch 240, Loss 0.0141\n",
      "Training Accuracy: 0.9856, Testing Accuracy: 0.9788\n",
      "\n"
     ]
    },
    {
     "data": {
      "text/plain": [
       "0.01602481928585008"
      ]
     },
     "execution_count": 22,
     "metadata": {},
     "output_type": "execute_result"
    }
   ],
   "source": [
    "nn_learner.train_loop(dl)"
   ]
  },
  {
   "cell_type": "code",
   "execution_count": 23,
   "id": "e0163366",
   "metadata": {
    "execution": {
     "iopub.execute_input": "2022-07-01T00:43:35.012078Z",
     "iopub.status.busy": "2022-07-01T00:43:35.011368Z",
     "iopub.status.idle": "2022-07-01T00:43:50.868484Z",
     "shell.execute_reply": "2022-07-01T00:43:50.869467Z"
    },
    "papermill": {
     "duration": 15.910894,
     "end_time": "2022-07-01T00:43:50.869643",
     "exception": false,
     "start_time": "2022-07-01T00:43:34.958749",
     "status": "completed"
    },
    "tags": []
   },
   "outputs": [
    {
     "name": "stdout",
     "output_type": "stream",
     "text": [
      "Epoch 0, Loss 0.2467\n",
      "Training Accuracy: 0.6895, Testing Accuracy: 0.6784\n",
      "\n"
     ]
    },
    {
     "name": "stdout",
     "output_type": "stream",
     "text": [
      "Epoch 10, Loss 0.0998\n",
      "Training Accuracy: 0.9180, Testing Accuracy: 0.9259\n",
      "\n"
     ]
    },
    {
     "name": "stdout",
     "output_type": "stream",
     "text": [
      "Epoch 20, Loss 0.0768\n",
      "Training Accuracy: 0.9326, Testing Accuracy: 0.9420\n",
      "\n"
     ]
    },
    {
     "name": "stdout",
     "output_type": "stream",
     "text": [
      "Epoch 30, Loss 0.0663\n",
      "Training Accuracy: 0.9396, Testing Accuracy: 0.9491\n",
      "\n"
     ]
    },
    {
     "name": "stdout",
     "output_type": "stream",
     "text": [
      "Epoch 40, Loss 0.06\n",
      "Training Accuracy: 0.9445, Testing Accuracy: 0.9521\n",
      "\n"
     ]
    },
    {
     "name": "stdout",
     "output_type": "stream",
     "text": [
      "Epoch 50, Loss 0.0557\n",
      "Training Accuracy: 0.9477, Testing Accuracy: 0.9582\n",
      "\n"
     ]
    },
    {
     "name": "stdout",
     "output_type": "stream",
     "text": [
      "Epoch 60, Loss 0.0525\n",
      "Training Accuracy: 0.9498, Testing Accuracy: 0.9607\n",
      "\n"
     ]
    },
    {
     "name": "stdout",
     "output_type": "stream",
     "text": [
      "Epoch 70, Loss 0.0501\n",
      "Training Accuracy: 0.9513, Testing Accuracy: 0.9627\n",
      "\n"
     ]
    },
    {
     "name": "stdout",
     "output_type": "stream",
     "text": [
      "Epoch 80, Loss 0.0482\n",
      "Training Accuracy: 0.9528, Testing Accuracy: 0.9652\n",
      "\n"
     ]
    },
    {
     "name": "stdout",
     "output_type": "stream",
     "text": [
      "Epoch 90, Loss 0.0465\n",
      "Training Accuracy: 0.9533, Testing Accuracy: 0.9652\n",
      "\n"
     ]
    },
    {
     "name": "stdout",
     "output_type": "stream",
     "text": [
      "Epoch 100, Loss 0.0452\n",
      "Training Accuracy: 0.9543, Testing Accuracy: 0.9667\n",
      "\n"
     ]
    },
    {
     "name": "stdout",
     "output_type": "stream",
     "text": [
      "Epoch 110, Loss 0.044\n",
      "Training Accuracy: 0.9553, Testing Accuracy: 0.9677\n",
      "\n"
     ]
    },
    {
     "name": "stdout",
     "output_type": "stream",
     "text": [
      "Epoch 120, Loss 0.043\n",
      "Training Accuracy: 0.9561, Testing Accuracy: 0.9682\n",
      "\n"
     ]
    },
    {
     "name": "stdout",
     "output_type": "stream",
     "text": [
      "Epoch 130, Loss 0.0421\n",
      "Training Accuracy: 0.9571, Testing Accuracy: 0.9682\n",
      "\n"
     ]
    },
    {
     "name": "stdout",
     "output_type": "stream",
     "text": [
      "Epoch 140, Loss 0.0413\n",
      "Training Accuracy: 0.9575, Testing Accuracy: 0.9682\n",
      "\n"
     ]
    },
    {
     "name": "stdout",
     "output_type": "stream",
     "text": [
      "Epoch 150, Loss 0.0406\n",
      "Training Accuracy: 0.9582, Testing Accuracy: 0.9693\n",
      "\n"
     ]
    },
    {
     "name": "stdout",
     "output_type": "stream",
     "text": [
      "Epoch 160, Loss 0.04\n",
      "Training Accuracy: 0.9588, Testing Accuracy: 0.9688\n",
      "\n"
     ]
    },
    {
     "name": "stdout",
     "output_type": "stream",
     "text": [
      "Epoch 170, Loss 0.0394\n",
      "Training Accuracy: 0.9589, Testing Accuracy: 0.9698\n",
      "\n"
     ]
    },
    {
     "name": "stdout",
     "output_type": "stream",
     "text": [
      "Epoch 180, Loss 0.0389\n",
      "Training Accuracy: 0.9594, Testing Accuracy: 0.9693\n",
      "\n"
     ]
    },
    {
     "name": "stdout",
     "output_type": "stream",
     "text": [
      "Epoch 190, Loss 0.0384\n",
      "Training Accuracy: 0.9597, Testing Accuracy: 0.9688\n",
      "\n"
     ]
    },
    {
     "name": "stdout",
     "output_type": "stream",
     "text": [
      "Epoch 200, Loss 0.0379\n",
      "Training Accuracy: 0.9604, Testing Accuracy: 0.9688\n",
      "\n"
     ]
    },
    {
     "name": "stdout",
     "output_type": "stream",
     "text": [
      "Epoch 210, Loss 0.0375\n",
      "Training Accuracy: 0.9611, Testing Accuracy: 0.9682\n",
      "\n"
     ]
    },
    {
     "name": "stdout",
     "output_type": "stream",
     "text": [
      "Epoch 220, Loss 0.0371\n",
      "Training Accuracy: 0.9614, Testing Accuracy: 0.9688\n",
      "\n"
     ]
    },
    {
     "name": "stdout",
     "output_type": "stream",
     "text": [
      "Epoch 230, Loss 0.0367\n",
      "Training Accuracy: 0.9614, Testing Accuracy: 0.9693\n",
      "\n"
     ]
    },
    {
     "name": "stdout",
     "output_type": "stream",
     "text": [
      "Epoch 240, Loss 0.0364\n",
      "Training Accuracy: 0.9616, Testing Accuracy: 0.9693\n",
      "\n"
     ]
    },
    {
     "data": {
      "text/plain": [
       "0.019694388651284332"
      ]
     },
     "execution_count": 23,
     "metadata": {},
     "output_type": "execute_result"
    }
   ],
   "source": [
    "lr_learner.train_loop(dl)"
   ]
  },
  {
   "cell_type": "code",
   "execution_count": 24,
   "id": "ca410940",
   "metadata": {
    "execution": {
     "iopub.execute_input": "2022-07-01T00:43:50.977053Z",
     "iopub.status.busy": "2022-07-01T00:43:50.976324Z",
     "iopub.status.idle": "2022-07-01T00:43:51.257236Z",
     "shell.execute_reply": "2022-07-01T00:43:51.256624Z"
    },
    "papermill": {
     "duration": 0.339312,
     "end_time": "2022-07-01T00:43:51.257381",
     "exception": false,
     "start_time": "2022-07-01T00:43:50.918069",
     "status": "completed"
    },
    "tags": []
   },
   "outputs": [
    {
     "data": {
      "text/plain": [
       "<matplotlib.legend.Legend at 0x7fe0118cdac8>"
      ]
     },
     "execution_count": 24,
     "metadata": {},
     "output_type": "execute_result"
    },
    {
     "data": {
      "image/png": "[encoded data removed]",
      "text/plain": [
       "<Figure size 1080x720 with 1 Axes>"
      ]
     },
     "metadata": {
      "needs_background": "light"
     },
     "output_type": "display_data"
    }
   ],
   "source": [
    "#comparing the results of NN and LR\n",
    "plt.figure(figsize=(15,10))\n",
    "\n",
    "# Neural Network plots\n",
    "plt.plot(acc_nn.accuracies, 'r-', label = \"Training Accuracies - NN\")\n",
    "plt.plot(acc_nn.test_accuracies, 'g-', label = \"Testing Accuracies - NN\")\n",
    "\n",
    "# Logistic Regression plots\n",
    "plt.plot(acc_lr.accuracies, 'k-', label = \"Training Accuracies - LR\")\n",
    "plt.plot(acc_lr.test_accuracies, 'b-', label = \"Testing Accuracies - LR\")\n",
    "plt.legend()"
   ]
  },
  {
   "cell_type": "markdown",
   "id": "80dfb35c",
   "metadata": {
    "papermill": {
     "duration": 0.049261,
     "end_time": "2022-07-01T00:43:51.356665",
     "exception": false,
     "start_time": "2022-07-01T00:43:51.307404",
     "status": "completed"
    },
    "tags": []
   },
   "source": [
    "#### Plotting the outputs of this layer of the NN.\n"
   ]
  },
  {
   "cell_type": "code",
   "execution_count": 25,
   "id": "45eb2ff5",
   "metadata": {
    "execution": {
     "iopub.execute_input": "2022-07-01T00:43:51.462873Z",
     "iopub.status.busy": "2022-07-01T00:43:51.461102Z",
     "iopub.status.idle": "2022-07-01T00:43:51.487425Z",
     "shell.execute_reply": "2022-07-01T00:43:51.488008Z"
    },
    "papermill": {
     "duration": 0.082003,
     "end_time": "2022-07-01T00:43:51.488181",
     "exception": false,
     "start_time": "2022-07-01T00:43:51.406178",
     "status": "completed"
    },
    "tags": []
   },
   "outputs": [],
   "source": [
    "new_model = Model(layers[:-2])\n",
    "testing_plot = new_model(testing_data_x)"
   ]
  },
  {
   "cell_type": "code",
   "execution_count": 26,
   "id": "4c0a5485",
   "metadata": {
    "execution": {
     "iopub.execute_input": "2022-07-01T00:43:51.594815Z",
     "iopub.status.busy": "2022-07-01T00:43:51.593995Z",
     "iopub.status.idle": "2022-07-01T00:43:51.863335Z",
     "shell.execute_reply": "2022-07-01T00:43:51.863882Z"
    },
    "papermill": {
     "duration": 0.324785,
     "end_time": "2022-07-01T00:43:51.864048",
     "exception": false,
     "start_time": "2022-07-01T00:43:51.539263",
     "status": "completed"
    },
    "tags": []
   },
   "outputs": [
    {
     "data": {
      "text/plain": [
       "Text(0.5, 1.0, 'Outputs')"
      ]
     },
     "execution_count": 26,
     "metadata": {},
     "output_type": "execute_result"
    },
    {
     "data": {
      "image/png": "[encoded data removed]",
      "text/plain": [
       "<Figure size 576x504 with 1 Axes>"
      ]
     },
     "metadata": {
      "needs_background": "light"
     },
     "output_type": "display_data"
    }
   ],
   "source": [
    "# Plotting the scatter plot of points and color coding by class\n",
    "plt.figure(figsize=(8,7))\n",
    "plt.scatter(testing_plot[:,0], testing_plot[:,1], alpha = 0.1, c = y_test.ravel());\n",
    "plt.title('Outputs')"
   ]
  },
  {
   "cell_type": "markdown",
   "id": "a74fcf8f",
   "metadata": {
    "papermill": {
     "duration": 0.053773,
     "end_time": "2022-07-01T00:43:51.971411",
     "exception": false,
     "start_time": "2022-07-01T00:43:51.917638",
     "status": "completed"
    },
    "tags": []
   },
   "source": [
    "Probability contours"
   ]
  },
  {
   "cell_type": "code",
   "execution_count": 27,
   "id": "d0afc8e3",
   "metadata": {
    "execution": {
     "iopub.execute_input": "2022-07-01T00:43:52.113800Z",
     "iopub.status.busy": "2022-07-01T00:43:52.113089Z",
     "iopub.status.idle": "2022-07-01T00:43:52.127530Z",
     "shell.execute_reply": "2022-07-01T00:43:52.126820Z"
    },
    "papermill": {
     "duration": 0.072965,
     "end_time": "2022-07-01T00:43:52.127665",
     "exception": false,
     "start_time": "2022-07-01T00:43:52.054700",
     "status": "completed"
    },
    "tags": []
   },
   "outputs": [],
   "source": [
    "model_prob = Model(layers[-2:]) "
   ]
  },
  {
   "cell_type": "code",
   "execution_count": 28,
   "id": "9b96e238",
   "metadata": {
    "execution": {
     "iopub.execute_input": "2022-07-01T00:43:52.241433Z",
     "iopub.status.busy": "2022-07-01T00:43:52.240702Z",
     "iopub.status.idle": "2022-07-01T00:43:52.256732Z",
     "shell.execute_reply": "2022-07-01T00:43:52.257249Z"
    },
    "papermill": {
     "duration": 0.076171,
     "end_time": "2022-07-01T00:43:52.257409",
     "exception": false,
     "start_time": "2022-07-01T00:43:52.181238",
     "status": "completed"
    },
    "tags": []
   },
   "outputs": [],
   "source": [
    "#creating the x and y ranges according to the above generated plot.\n",
    "x_range = np.linspace(-4, 1, 100) \n",
    "y_range = np.linspace(-6, 6, 100) \n",
    "x_grid, y_grid = np.meshgrid(x_range, y_range) # x_grid and y_grig are of size 100 X 100\n",
    "\n",
    "# converting x_grid and y_grid to continuous arrays\n",
    "x_gridflat = np.ravel(x_grid)\n",
    "y_gridflat = np.ravel(y_grid)\n",
    "\n",
    "# The last layer of the current model takes two columns as input. Hence transpose of np.vstack() is required.\n",
    "X = np.vstack((x_gridflat, y_gridflat)).T\n",
    "\n",
    "prob_contour = model_prob(X).reshape(100,100) "
   ]
  },
  {
   "cell_type": "code",
   "execution_count": 29,
   "id": "da72499a",
   "metadata": {
    "execution": {
     "iopub.execute_input": "2022-07-01T00:43:52.369953Z",
     "iopub.status.busy": "2022-07-01T00:43:52.369250Z",
     "iopub.status.idle": "2022-07-01T00:43:52.658255Z",
     "shell.execute_reply": "2022-07-01T00:43:52.657655Z"
    },
    "papermill": {
     "duration": 0.347127,
     "end_time": "2022-07-01T00:43:52.658396",
     "exception": false,
     "start_time": "2022-07-01T00:43:52.311269",
     "status": "completed"
    },
    "tags": []
   },
   "outputs": [
    {
     "data": {
      "image/png": "[encoded data removed]",
      "text/plain": [
       "<Figure size 720x648 with 1 Axes>"
      ]
     },
     "metadata": {
      "needs_background": "light"
     },
     "output_type": "display_data"
    }
   ],
   "source": [
    "plt.figure(figsize=(10,9))\n",
    "plt.scatter(testing_plot[:,0], testing_plot[:,1], alpha = 0.1, c = y_test.ravel())\n",
    "contours = plt.contour(x_grid,y_grid,prob_contour)\n",
    "plt.title('Probability Contours')\n",
    "plt.clabel(contours, inline = True );"
   ]
  },
  {
   "cell_type": "code",
   "execution_count": null,
   "id": "e81b4ac7",
   "metadata": {
    "papermill": {
     "duration": 0.056291,
     "end_time": "2022-07-01T00:43:52.771644",
     "exception": false,
     "start_time": "2022-07-01T00:43:52.715353",
     "status": "completed"
    },
    "tags": []
   },
   "outputs": [],
   "source": []
  }
 ],
 "metadata": {
  "kernelspec": {
   "display_name": "Python 3",
   "language": "python",
   "name": "python3"
  },
  "language_info": {
   "codemirror_mode": {
    "name": "ipython",
    "version": 3
   },
   "file_extension": ".py",
   "mimetype": "text/x-python",
   "name": "python",
   "nbconvert_exporter": "python",
   "pygments_lexer": "ipython3",
   "version": "3.6.15"
  },
  "papermill": {
   "default_parameters": {},
   "duration": 114.478595,
   "end_time": "2022-07-01T00:43:53.248811",
   "environment_variables": {},
   "exception": null,
   "input_path": "2020-08-11-part2.ipynb",
   "output_path": "2020-08-11-part2.ipynb",
   "parameters": {},
   "start_time": "2022-07-01T00:41:58.770216",
   "version": "2.3.3"
  }
 },
 "nbformat": 4,
 "nbformat_minor": 5
}