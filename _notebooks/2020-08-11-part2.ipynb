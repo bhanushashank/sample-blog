{
 "cells": [
  {
   "cell_type": "markdown",
   "id": "98380cd3",
   "metadata": {
    "papermill": {
     "duration": 0.029396,
     "end_time": "2022-08-21T20:10:13.295555",
     "exception": false,
     "start_time": "2022-08-21T20:10:13.266159",
     "status": "completed"
    },
    "tags": []
   },
   "source": [
    "# Distinguish Your Own Digits (DYOD)"
   ]
  },
  {
   "cell_type": "markdown",
   "id": "ef31240d",
   "metadata": {
    "papermill": {
     "duration": 0.024564,
     "end_time": "2022-08-21T20:10:13.345012",
     "exception": false,
     "start_time": "2022-08-21T20:10:13.320448",
     "status": "completed"
    },
    "tags": []
   },
   "source": [
    "You are going to write a classifier that distinguishes between the number 3 and number 8."
   ]
  },
  {
   "cell_type": "code",
   "execution_count": 1,
   "id": "b15c8646",
   "metadata": {
    "execution": {
     "iopub.execute_input": "2022-08-21T20:10:13.403625Z",
     "iopub.status.busy": "2022-08-21T20:10:13.403054Z",
     "iopub.status.idle": "2022-08-21T20:10:13.414282Z",
     "shell.execute_reply": "2022-08-21T20:10:13.413796Z"
    },
    "papermill": {
     "duration": 0.045151,
     "end_time": "2022-08-21T20:10:13.414402",
     "exception": false,
     "start_time": "2022-08-21T20:10:13.369251",
     "status": "completed"
    },
    "tags": []
   },
   "outputs": [],
   "source": [
    "%load_ext autoreload\n",
    "%autoreload 2"
   ]
  },
  {
   "cell_type": "code",
   "execution_count": 2,
   "id": "22ef38dc",
   "metadata": {
    "execution": {
     "iopub.execute_input": "2022-08-21T20:10:13.467663Z",
     "iopub.status.busy": "2022-08-21T20:10:13.467084Z",
     "iopub.status.idle": "2022-08-21T20:10:13.994774Z",
     "shell.execute_reply": "2022-08-21T20:10:13.993798Z"
    },
    "papermill": {
     "duration": 0.555963,
     "end_time": "2022-08-21T20:10:13.994902",
     "exception": false,
     "start_time": "2022-08-21T20:10:13.438939",
     "status": "completed"
    },
    "tags": []
   },
   "outputs": [],
   "source": [
    "%matplotlib inline\n",
    "import numpy as np\n",
    "import matplotlib.pyplot as plt\n",
    "import pandas as pd"
   ]
  },
  {
   "cell_type": "markdown",
   "id": "ba036198",
   "metadata": {
    "papermill": {
     "duration": 0.024205,
     "end_time": "2022-08-21T20:10:14.043510",
     "exception": false,
     "start_time": "2022-08-21T20:10:14.019305",
     "status": "completed"
    },
    "tags": []
   },
   "source": [
    "From the command line run `pip install mnist`. This is a library that will help you bring down the mnist dataset. If you run this from a notebook, you need to put  `!pip install mnist` in a cell by itself."
   ]
  },
  {
   "cell_type": "code",
   "execution_count": 3,
   "id": "bb6ad8a1",
   "metadata": {
    "execution": {
     "iopub.execute_input": "2022-08-21T20:10:14.101915Z",
     "iopub.status.busy": "2022-08-21T20:10:14.095664Z",
     "iopub.status.idle": "2022-08-21T20:10:15.674821Z",
     "shell.execute_reply": "2022-08-21T20:10:15.675272Z"
    },
    "papermill": {
     "duration": 1.607457,
     "end_time": "2022-08-21T20:10:15.675411",
     "exception": false,
     "start_time": "2022-08-21T20:10:14.067954",
     "status": "completed"
    },
    "tags": []
   },
   "outputs": [
    {
     "name": "stdout",
     "output_type": "stream",
     "text": [
      "Collecting mnist\r\n"
     ]
    },
    {
     "name": "stdout",
     "output_type": "stream",
     "text": [
      "  Downloading mnist-0.2.2-py2.py3-none-any.whl (3.5 kB)\r\n",
      "Requirement already satisfied: numpy in /opt/hostedtoolcache/Python/3.6.15/x64/lib/python3.6/site-packages (from mnist) (1.19.5)\r\n"
     ]
    },
    {
     "name": "stdout",
     "output_type": "stream",
     "text": [
      "Installing collected packages: mnist\r\n"
     ]
    },
    {
     "name": "stdout",
     "output_type": "stream",
     "text": [
      "Successfully installed mnist-0.2.2\r\n"
     ]
    }
   ],
   "source": [
    "!pip install mnist"
   ]
  },
  {
   "cell_type": "markdown",
   "id": "69df9c9a",
   "metadata": {
    "papermill": {
     "duration": 0.025853,
     "end_time": "2022-08-21T20:10:15.726962",
     "exception": false,
     "start_time": "2022-08-21T20:10:15.701109",
     "status": "completed"
    },
    "tags": []
   },
   "source": [
    "## Preparing the Data"
   ]
  },
  {
   "cell_type": "code",
   "execution_count": 4,
   "id": "7f69d806",
   "metadata": {
    "execution": {
     "iopub.execute_input": "2022-08-21T20:10:15.781905Z",
     "iopub.status.busy": "2022-08-21T20:10:15.781328Z",
     "iopub.status.idle": "2022-08-21T20:10:15.796093Z",
     "shell.execute_reply": "2022-08-21T20:10:15.795647Z"
    },
    "papermill": {
     "duration": 0.043928,
     "end_time": "2022-08-21T20:10:15.796204",
     "exception": false,
     "start_time": "2022-08-21T20:10:15.752276",
     "status": "completed"
    },
    "tags": []
   },
   "outputs": [],
   "source": [
    "import mnist"
   ]
  },
  {
   "cell_type": "code",
   "execution_count": 5,
   "id": "a411e44f",
   "metadata": {
    "execution": {
     "iopub.execute_input": "2022-08-21T20:10:15.850982Z",
     "iopub.status.busy": "2022-08-21T20:10:15.850414Z",
     "iopub.status.idle": "2022-08-21T20:10:16.419111Z",
     "shell.execute_reply": "2022-08-21T20:10:16.418624Z"
    },
    "papermill": {
     "duration": 0.597451,
     "end_time": "2022-08-21T20:10:16.419229",
     "exception": false,
     "start_time": "2022-08-21T20:10:15.821778",
     "status": "completed"
    },
    "tags": []
   },
   "outputs": [],
   "source": [
    "train_images = mnist.train_images()\n",
    "train_labels = mnist.train_labels()"
   ]
  },
  {
   "cell_type": "code",
   "execution_count": 6,
   "id": "dceab3a5",
   "metadata": {
    "execution": {
     "iopub.execute_input": "2022-08-21T20:10:16.474117Z",
     "iopub.status.busy": "2022-08-21T20:10:16.473547Z",
     "iopub.status.idle": "2022-08-21T20:10:16.487956Z",
     "shell.execute_reply": "2022-08-21T20:10:16.487407Z"
    },
    "papermill": {
     "duration": 0.043289,
     "end_time": "2022-08-21T20:10:16.488062",
     "exception": false,
     "start_time": "2022-08-21T20:10:16.444773",
     "status": "completed"
    },
    "tags": []
   },
   "outputs": [
    {
     "data": {
      "text/plain": [
       "((60000, 28, 28), (60000,))"
      ]
     },
     "execution_count": 6,
     "metadata": {},
     "output_type": "execute_result"
    }
   ],
   "source": [
    "train_images.shape, train_labels.shape"
   ]
  },
  {
   "cell_type": "code",
   "execution_count": 7,
   "id": "f50dc2bb",
   "metadata": {
    "execution": {
     "iopub.execute_input": "2022-08-21T20:10:16.543512Z",
     "iopub.status.busy": "2022-08-21T20:10:16.542948Z",
     "iopub.status.idle": "2022-08-21T20:10:16.768918Z",
     "shell.execute_reply": "2022-08-21T20:10:16.768349Z"
    },
    "papermill": {
     "duration": 0.255124,
     "end_time": "2022-08-21T20:10:16.769047",
     "exception": false,
     "start_time": "2022-08-21T20:10:16.513923",
     "status": "completed"
    },
    "tags": []
   },
   "outputs": [],
   "source": [
    "test_images = mnist.test_images()\n",
    "test_labels = mnist.test_labels()"
   ]
  },
  {
   "cell_type": "code",
   "execution_count": 8,
   "id": "fc38cf1b",
   "metadata": {
    "execution": {
     "iopub.execute_input": "2022-08-21T20:10:16.824952Z",
     "iopub.status.busy": "2022-08-21T20:10:16.824360Z",
     "iopub.status.idle": "2022-08-21T20:10:16.838295Z",
     "shell.execute_reply": "2022-08-21T20:10:16.837828Z"
    },
    "papermill": {
     "duration": 0.04318,
     "end_time": "2022-08-21T20:10:16.838400",
     "exception": false,
     "start_time": "2022-08-21T20:10:16.795220",
     "status": "completed"
    },
    "tags": []
   },
   "outputs": [
    {
     "data": {
      "text/plain": [
       "((10000, 28, 28), (10000,))"
      ]
     },
     "execution_count": 8,
     "metadata": {},
     "output_type": "execute_result"
    }
   ],
   "source": [
    "test_images.shape, test_labels.shape"
   ]
  },
  {
   "cell_type": "code",
   "execution_count": 9,
   "id": "f9ed8fe0",
   "metadata": {
    "execution": {
     "iopub.execute_input": "2022-08-21T20:10:16.895666Z",
     "iopub.status.busy": "2022-08-21T20:10:16.895098Z",
     "iopub.status.idle": "2022-08-21T20:10:17.029706Z",
     "shell.execute_reply": "2022-08-21T20:10:17.029254Z"
    },
    "papermill": {
     "duration": 0.165389,
     "end_time": "2022-08-21T20:10:17.029818",
     "exception": false,
     "start_time": "2022-08-21T20:10:16.864429",
     "status": "completed"
    },
    "tags": []
   },
   "outputs": [
    {
     "name": "stdout",
     "output_type": "stream",
     "text": [
      "2\n"
     ]
    },
    {
     "data": {
      "text/plain": [
       "<matplotlib.image.AxesImage at 0x7ff70eef7978>"
      ]
     },
     "execution_count": 9,
     "metadata": {},
     "output_type": "execute_result"
    },
    {
     "data": {
      "image/png": "[encoded data removed]",
      "text/plain": [
       "<Figure size 432x288 with 1 Axes>"
      ]
     },
     "metadata": {
      "needs_background": "light"
     },
     "output_type": "display_data"
    }
   ],
   "source": [
    "image_index = 7776 # You may select anything up to 60,000\n",
    "print(train_labels[image_index]) \n",
    "plt.imshow(train_images[image_index], cmap='Greys')"
   ]
  },
  {
   "cell_type": "markdown",
   "id": "a8d2388d",
   "metadata": {
    "papermill": {
     "duration": 0.026945,
     "end_time": "2022-08-21T20:10:17.083933",
     "exception": false,
     "start_time": "2022-08-21T20:10:17.056988",
     "status": "completed"
    },
    "tags": []
   },
   "source": [
    "## Filter data to get 3 and 8 out"
   ]
  },
  {
   "cell_type": "code",
   "execution_count": 10,
   "id": "776f7fc7",
   "metadata": {
    "execution": {
     "iopub.execute_input": "2022-08-21T20:10:17.143380Z",
     "iopub.status.busy": "2022-08-21T20:10:17.142782Z",
     "iopub.status.idle": "2022-08-21T20:10:17.158702Z",
     "shell.execute_reply": "2022-08-21T20:10:17.159167Z"
    },
    "papermill": {
     "duration": 0.048341,
     "end_time": "2022-08-21T20:10:17.159297",
     "exception": false,
     "start_time": "2022-08-21T20:10:17.110956",
     "status": "completed"
    },
    "tags": []
   },
   "outputs": [],
   "source": [
    "train_filter = np.where((train_labels == 3 ) | (train_labels == 8))\n",
    "test_filter = np.where((test_labels == 3) | (test_labels == 8))\n",
    "X_train, y_train = train_images[train_filter], train_labels[train_filter]\n",
    "X_test, y_test = test_images[test_filter], test_labels[test_filter]"
   ]
  },
  {
   "cell_type": "markdown",
   "id": "948f0b7e",
   "metadata": {
    "papermill": {
     "duration": 0.026866,
     "end_time": "2022-08-21T20:10:17.213324",
     "exception": false,
     "start_time": "2022-08-21T20:10:17.186458",
     "status": "completed"
    },
    "tags": []
   },
   "source": [
    "We normalize the pizel values in the 0 to 1 range"
   ]
  },
  {
   "cell_type": "code",
   "execution_count": 11,
   "id": "ee4c2166",
   "metadata": {
    "execution": {
     "iopub.execute_input": "2022-08-21T20:10:17.270509Z",
     "iopub.status.busy": "2022-08-21T20:10:17.269934Z",
     "iopub.status.idle": "2022-08-21T20:10:17.310118Z",
     "shell.execute_reply": "2022-08-21T20:10:17.309642Z"
    },
    "papermill": {
     "duration": 0.070073,
     "end_time": "2022-08-21T20:10:17.310227",
     "exception": false,
     "start_time": "2022-08-21T20:10:17.240154",
     "status": "completed"
    },
    "tags": []
   },
   "outputs": [],
   "source": [
    "X_train = X_train/255.\n",
    "X_test = X_test/255."
   ]
  },
  {
   "cell_type": "markdown",
   "id": "ddcf4fab",
   "metadata": {
    "papermill": {
     "duration": 0.026804,
     "end_time": "2022-08-21T20:10:17.364257",
     "exception": false,
     "start_time": "2022-08-21T20:10:17.337453",
     "status": "completed"
    },
    "tags": []
   },
   "source": [
    "And setup the labels as 1 (when the digit is 3) and 0 (when the digit is 8)"
   ]
  },
  {
   "cell_type": "code",
   "execution_count": 12,
   "id": "7dc908f2",
   "metadata": {
    "execution": {
     "iopub.execute_input": "2022-08-21T20:10:17.422243Z",
     "iopub.status.busy": "2022-08-21T20:10:17.421647Z",
     "iopub.status.idle": "2022-08-21T20:10:17.433712Z",
     "shell.execute_reply": "2022-08-21T20:10:17.433242Z"
    },
    "papermill": {
     "duration": 0.04254,
     "end_time": "2022-08-21T20:10:17.433819",
     "exception": false,
     "start_time": "2022-08-21T20:10:17.391279",
     "status": "completed"
    },
    "tags": []
   },
   "outputs": [],
   "source": [
    "y_train = 1*(y_train==3)\n",
    "y_test = 1*(y_test==3)"
   ]
  },
  {
   "cell_type": "code",
   "execution_count": 13,
   "id": "01e4e969",
   "metadata": {
    "execution": {
     "iopub.execute_input": "2022-08-21T20:10:17.492001Z",
     "iopub.status.busy": "2022-08-21T20:10:17.491444Z",
     "iopub.status.idle": "2022-08-21T20:10:17.504749Z",
     "shell.execute_reply": "2022-08-21T20:10:17.504197Z"
    },
    "papermill": {
     "duration": 0.043776,
     "end_time": "2022-08-21T20:10:17.504856",
     "exception": false,
     "start_time": "2022-08-21T20:10:17.461080",
     "status": "completed"
    },
    "tags": []
   },
   "outputs": [
    {
     "data": {
      "text/plain": [
       "((11982, 28, 28), (1984, 28, 28))"
      ]
     },
     "execution_count": 13,
     "metadata": {},
     "output_type": "execute_result"
    }
   ],
   "source": [
    "X_train.shape, X_test.shape"
   ]
  },
  {
   "cell_type": "markdown",
   "id": "5ccf3f85",
   "metadata": {
    "papermill": {
     "duration": 0.027043,
     "end_time": "2022-08-21T20:10:17.559083",
     "exception": false,
     "start_time": "2022-08-21T20:10:17.532040",
     "status": "completed"
    },
    "tags": []
   },
   "source": [
    "We reshape the data to flatten the image pixels into a set of features or co-variates:"
   ]
  },
  {
   "cell_type": "code",
   "execution_count": 14,
   "id": "5286a4a3",
   "metadata": {
    "execution": {
     "iopub.execute_input": "2022-08-21T20:10:17.618482Z",
     "iopub.status.busy": "2022-08-21T20:10:17.617919Z",
     "iopub.status.idle": "2022-08-21T20:10:17.631480Z",
     "shell.execute_reply": "2022-08-21T20:10:17.631898Z"
    },
    "papermill": {
     "duration": 0.045628,
     "end_time": "2022-08-21T20:10:17.632029",
     "exception": false,
     "start_time": "2022-08-21T20:10:17.586401",
     "status": "completed"
    },
    "tags": []
   },
   "outputs": [
    {
     "data": {
      "text/plain": [
       "((11982, 784), (1984, 784))"
      ]
     },
     "execution_count": 14,
     "metadata": {},
     "output_type": "execute_result"
    }
   ],
   "source": [
    "X_train = X_train.reshape(X_train.shape[0], -1)\n",
    "X_test = X_test.reshape(X_test.shape[0], -1)\n",
    "X_train.shape, X_test.shape"
   ]
  },
  {
   "cell_type": "code",
   "execution_count": 15,
   "id": "73c5f88a",
   "metadata": {
    "execution": {
     "iopub.execute_input": "2022-08-21T20:10:17.691673Z",
     "iopub.status.busy": "2022-08-21T20:10:17.691056Z",
     "iopub.status.idle": "2022-08-21T20:10:17.711035Z",
     "shell.execute_reply": "2022-08-21T20:10:17.710518Z"
    },
    "papermill": {
     "duration": 0.051546,
     "end_time": "2022-08-21T20:10:17.711143",
     "exception": false,
     "start_time": "2022-08-21T20:10:17.659597",
     "status": "completed"
    },
    "tags": []
   },
   "outputs": [],
   "source": [
    "#Impoting functions from 'Kudzu'\n",
    "from kudzu.model import Model\n",
    "from kudzu.train import Learner\n",
    "from kudzu.optim import GD\n",
    "from kudzu.data import Data, Sampler,Dataloader\n",
    "\n",
    "from kudzu.callbacks import AccCallback\n",
    "from kudzu.callbacks import ClfCallback\n",
    "\n",
    "from kudzu.loss import MSE\n",
    "\n",
    "from kudzu.layer import Sigmoid,Relu\n",
    "from kudzu.layer import Affine"
   ]
  },
  {
   "cell_type": "markdown",
   "id": "bc01172a",
   "metadata": {
    "papermill": {
     "duration": 0.027348,
     "end_time": "2022-08-21T20:10:17.766275",
     "exception": false,
     "start_time": "2022-08-21T20:10:17.738927",
     "status": "completed"
    },
    "tags": []
   },
   "source": [
    "### Let us create a `Config` class, to store important parameters. \n",
    "This class essentially plays the role of a dictionary."
   ]
  },
  {
   "cell_type": "code",
   "execution_count": 16,
   "id": "978281aa",
   "metadata": {
    "execution": {
     "iopub.execute_input": "2022-08-21T20:10:17.825279Z",
     "iopub.status.busy": "2022-08-21T20:10:17.824669Z",
     "iopub.status.idle": "2022-08-21T20:10:17.837088Z",
     "shell.execute_reply": "2022-08-21T20:10:17.837565Z"
    },
    "papermill": {
     "duration": 0.043985,
     "end_time": "2022-08-21T20:10:17.837693",
     "exception": false,
     "start_time": "2022-08-21T20:10:17.793708",
     "status": "completed"
    },
    "tags": []
   },
   "outputs": [],
   "source": [
    "class Config:\n",
    "    pass\n",
    "config = Config()\n",
    "config.lr = 0.001\n",
    "config.num_epochs = 250\n",
    "config.bs = 50"
   ]
  },
  {
   "cell_type": "markdown",
   "id": "1385fa59",
   "metadata": {
    "papermill": {
     "duration": 0.027523,
     "end_time": "2022-08-21T20:10:17.892820",
     "exception": false,
     "start_time": "2022-08-21T20:10:17.865297",
     "status": "completed"
    },
    "tags": []
   },
   "source": [
    "### Running Models with the Training data\n",
    "Details about the network layers:\n",
    "- A first affine layer has 784 inputs and does 100 affine transforms. These are followed by a Relu\n",
    "- A second affine layer has 100 inputs from the 100 activations of the past layer, and does 100 affine transforms. These are followed by a Relu\n",
    "- A third affine layer has 100 activations and does 2 affine transformations to create an embedding for visualization. There is no non-linearity here.\n",
    "- A final \"logistic regression\" which has an affine transform from 2 inputs to 1 output, which is squeezed through a sigmoid.\n"
   ]
  },
  {
   "cell_type": "code",
   "execution_count": 17,
   "id": "2b9c66db",
   "metadata": {
    "execution": {
     "iopub.execute_input": "2022-08-21T20:10:17.951965Z",
     "iopub.status.busy": "2022-08-21T20:10:17.951409Z",
     "iopub.status.idle": "2022-08-21T20:10:17.963734Z",
     "shell.execute_reply": "2022-08-21T20:10:17.963182Z"
    },
    "papermill": {
     "duration": 0.04358,
     "end_time": "2022-08-21T20:10:17.963843",
     "exception": false,
     "start_time": "2022-08-21T20:10:17.920263",
     "status": "completed"
    },
    "tags": []
   },
   "outputs": [],
   "source": [
    "data = Data(X_train, y_train.reshape(-1,1))\n",
    "sampler = Sampler(data, config.bs, shuffle=True)\n",
    "\n",
    "dl = Dataloader(data, sampler)\n",
    "\n",
    "opt = GD(config.lr)\n",
    "loss = MSE()"
   ]
  },
  {
   "cell_type": "code",
   "execution_count": 18,
   "id": "b275e4c2",
   "metadata": {
    "execution": {
     "iopub.execute_input": "2022-08-21T20:10:18.023019Z",
     "iopub.status.busy": "2022-08-21T20:10:18.022450Z",
     "iopub.status.idle": "2022-08-21T20:10:18.034669Z",
     "shell.execute_reply": "2022-08-21T20:10:18.034212Z"
    },
    "papermill": {
     "duration": 0.043315,
     "end_time": "2022-08-21T20:10:18.034775",
     "exception": false,
     "start_time": "2022-08-21T20:10:17.991460",
     "status": "completed"
    },
    "tags": []
   },
   "outputs": [],
   "source": [
    "training_data_x = X_train\n",
    "testing_data_x = X_test\n",
    "training_data_y = y_train.reshape(-1,1)\n",
    "testing_data_y = y_test.reshape(-1,1)"
   ]
  },
  {
   "cell_type": "code",
   "execution_count": 19,
   "id": "76951160",
   "metadata": {
    "execution": {
     "iopub.execute_input": "2022-08-21T20:10:18.094253Z",
     "iopub.status.busy": "2022-08-21T20:10:18.093696Z",
     "iopub.status.idle": "2022-08-21T20:10:18.110034Z",
     "shell.execute_reply": "2022-08-21T20:10:18.110503Z"
    },
    "papermill": {
     "duration": 0.048264,
     "end_time": "2022-08-21T20:10:18.110627",
     "exception": false,
     "start_time": "2022-08-21T20:10:18.062363",
     "status": "completed"
    },
    "tags": []
   },
   "outputs": [
    {
     "name": "stdout",
     "output_type": "stream",
     "text": [
      "xavier\n",
      "xavier\n",
      "xavier\n",
      "xavier\n",
      "xavier\n"
     ]
    }
   ],
   "source": [
    "layers = [Affine(\"first\", 784, 100), Relu(\"first\"), Affine(\"second\", 100, 100), Relu(\"second\"), Affine(\"third\", 100, 2), Affine(\"last\", 2, 1), Sigmoid(\"last\")]\n",
    "model_nn = Model(layers)\n",
    "model_lr = Model([Affine(\"logits\", 784, 1), Sigmoid(\"sigmoid\")])"
   ]
  },
  {
   "cell_type": "code",
   "execution_count": 20,
   "id": "6eede77a",
   "metadata": {
    "execution": {
     "iopub.execute_input": "2022-08-21T20:10:18.170953Z",
     "iopub.status.busy": "2022-08-21T20:10:18.170366Z",
     "iopub.status.idle": "2022-08-21T20:10:18.184310Z",
     "shell.execute_reply": "2022-08-21T20:10:18.183552Z"
    },
    "papermill": {
     "duration": 0.045887,
     "end_time": "2022-08-21T20:10:18.184426",
     "exception": false,
     "start_time": "2022-08-21T20:10:18.138539",
     "status": "completed"
    },
    "tags": []
   },
   "outputs": [],
   "source": [
    "nn_learner = Learner(loss, model_nn, opt, config.num_epochs)\n",
    "acc_nn = ClfCallback(nn_learner, config.bs, training_data_x , testing_data_x, training_data_y, testing_data_y)\n",
    "nn_learner.set_callbacks([acc_nn])"
   ]
  },
  {
   "cell_type": "code",
   "execution_count": 21,
   "id": "877b6cc7",
   "metadata": {
    "execution": {
     "iopub.execute_input": "2022-08-21T20:10:18.246589Z",
     "iopub.status.busy": "2022-08-21T20:10:18.245197Z",
     "iopub.status.idle": "2022-08-21T20:10:18.256669Z",
     "shell.execute_reply": "2022-08-21T20:10:18.256209Z"
    },
    "papermill": {
     "duration": 0.044573,
     "end_time": "2022-08-21T20:10:18.256796",
     "exception": false,
     "start_time": "2022-08-21T20:10:18.212223",
     "status": "completed"
    },
    "tags": []
   },
   "outputs": [],
   "source": [
    "lr_learner = Learner(loss, model_lr, opt, config.num_epochs)\n",
    "acc_lr = ClfCallback(lr_learner, config.bs, training_data_x , testing_data_x, training_data_y, testing_data_y)\n",
    "lr_learner.set_callbacks([acc_lr])"
   ]
  },
  {
   "cell_type": "code",
   "execution_count": 22,
   "id": "d9b133c3",
   "metadata": {
    "execution": {
     "iopub.execute_input": "2022-08-21T20:10:18.316840Z",
     "iopub.status.busy": "2022-08-21T20:10:18.315792Z",
     "iopub.status.idle": "2022-08-21T20:13:16.409585Z",
     "shell.execute_reply": "2022-08-21T20:13:16.410049Z"
    },
    "papermill": {
     "duration": 178.125464,
     "end_time": "2022-08-21T20:13:16.410179",
     "exception": false,
     "start_time": "2022-08-21T20:10:18.284715",
     "status": "completed"
    },
    "tags": []
   },
   "outputs": [
    {
     "name": "stdout",
     "output_type": "stream",
     "text": [
      "Epoch 0, Loss 0.1783\n",
      "Training Accuracy: 0.8665, Testing Accuracy: 0.8901\n",
      "\n"
     ]
    },
    {
     "name": "stdout",
     "output_type": "stream",
     "text": [
      "Epoch 10, Loss 0.0484\n",
      "Training Accuracy: 0.9487, Testing Accuracy: 0.9556\n",
      "\n"
     ]
    },
    {
     "name": "stdout",
     "output_type": "stream",
     "text": [
      "Epoch 20, Loss 0.037\n",
      "Training Accuracy: 0.9580, Testing Accuracy: 0.9627\n",
      "\n"
     ]
    },
    {
     "name": "stdout",
     "output_type": "stream",
     "text": [
      "Epoch 30, Loss 0.032\n",
      "Training Accuracy: 0.9642, Testing Accuracy: 0.9662\n",
      "\n"
     ]
    },
    {
     "name": "stdout",
     "output_type": "stream",
     "text": [
      "Epoch 40, Loss 0.029\n",
      "Training Accuracy: 0.9670, Testing Accuracy: 0.9667\n",
      "\n"
     ]
    },
    {
     "name": "stdout",
     "output_type": "stream",
     "text": [
      "Epoch 50, Loss 0.0268\n",
      "Training Accuracy: 0.9700, Testing Accuracy: 0.9682\n",
      "\n"
     ]
    },
    {
     "name": "stdout",
     "output_type": "stream",
     "text": [
      "Epoch 60, Loss 0.0252\n",
      "Training Accuracy: 0.9721, Testing Accuracy: 0.9698\n",
      "\n"
     ]
    },
    {
     "name": "stdout",
     "output_type": "stream",
     "text": [
      "Epoch 70, Loss 0.0239\n",
      "Training Accuracy: 0.9738, Testing Accuracy: 0.9698\n",
      "\n"
     ]
    },
    {
     "name": "stdout",
     "output_type": "stream",
     "text": [
      "Epoch 80, Loss 0.0228\n",
      "Training Accuracy: 0.9752, Testing Accuracy: 0.9718\n",
      "\n"
     ]
    },
    {
     "name": "stdout",
     "output_type": "stream",
     "text": [
      "Epoch 90, Loss 0.0218\n",
      "Training Accuracy: 0.9765, Testing Accuracy: 0.9723\n",
      "\n"
     ]
    },
    {
     "name": "stdout",
     "output_type": "stream",
     "text": [
      "Epoch 100, Loss 0.0209\n",
      "Training Accuracy: 0.9776, Testing Accuracy: 0.9723\n",
      "\n"
     ]
    },
    {
     "name": "stdout",
     "output_type": "stream",
     "text": [
      "Epoch 110, Loss 0.0201\n",
      "Training Accuracy: 0.9785, Testing Accuracy: 0.9728\n",
      "\n"
     ]
    },
    {
     "name": "stdout",
     "output_type": "stream",
     "text": [
      "Epoch 120, Loss 0.0194\n",
      "Training Accuracy: 0.9790, Testing Accuracy: 0.9728\n",
      "\n"
     ]
    },
    {
     "name": "stdout",
     "output_type": "stream",
     "text": [
      "Epoch 130, Loss 0.0187\n",
      "Training Accuracy: 0.9799, Testing Accuracy: 0.9728\n",
      "\n"
     ]
    },
    {
     "name": "stdout",
     "output_type": "stream",
     "text": [
      "Epoch 140, Loss 0.0181\n",
      "Training Accuracy: 0.9810, Testing Accuracy: 0.9738\n",
      "\n"
     ]
    },
    {
     "name": "stdout",
     "output_type": "stream",
     "text": [
      "Epoch 150, Loss 0.0174\n",
      "Training Accuracy: 0.9817, Testing Accuracy: 0.9748\n",
      "\n"
     ]
    },
    {
     "name": "stdout",
     "output_type": "stream",
     "text": [
      "Epoch 160, Loss 0.0169\n",
      "Training Accuracy: 0.9821, Testing Accuracy: 0.9753\n",
      "\n"
     ]
    },
    {
     "name": "stdout",
     "output_type": "stream",
     "text": [
      "Epoch 170, Loss 0.0163\n",
      "Training Accuracy: 0.9826, Testing Accuracy: 0.9753\n",
      "\n"
     ]
    },
    {
     "name": "stdout",
     "output_type": "stream",
     "text": [
      "Epoch 180, Loss 0.0158\n",
      "Training Accuracy: 0.9836, Testing Accuracy: 0.9763\n",
      "\n"
     ]
    },
    {
     "name": "stdout",
     "output_type": "stream",
     "text": [
      "Epoch 190, Loss 0.0153\n",
      "Training Accuracy: 0.9841, Testing Accuracy: 0.9768\n",
      "\n"
     ]
    },
    {
     "name": "stdout",
     "output_type": "stream",
     "text": [
      "Epoch 200, Loss 0.0147\n",
      "Training Accuracy: 0.9851, Testing Accuracy: 0.9773\n",
      "\n"
     ]
    },
    {
     "name": "stdout",
     "output_type": "stream",
     "text": [
      "Epoch 210, Loss 0.0143\n",
      "Training Accuracy: 0.9855, Testing Accuracy: 0.9773\n",
      "\n"
     ]
    },
    {
     "name": "stdout",
     "output_type": "stream",
     "text": [
      "Epoch 220, Loss 0.0138\n",
      "Training Accuracy: 0.9864, Testing Accuracy: 0.9788\n",
      "\n"
     ]
    },
    {
     "name": "stdout",
     "output_type": "stream",
     "text": [
      "Epoch 230, Loss 0.0134\n",
      "Training Accuracy: 0.9867, Testing Accuracy: 0.9788\n",
      "\n"
     ]
    },
    {
     "name": "stdout",
     "output_type": "stream",
     "text": [
      "Epoch 240, Loss 0.013\n",
      "Training Accuracy: 0.9871, Testing Accuracy: 0.9788\n",
      "\n"
     ]
    },
    {
     "data": {
      "text/plain": [
       "0.009548105508558656"
      ]
     },
     "execution_count": 22,
     "metadata": {},
     "output_type": "execute_result"
    }
   ],
   "source": [
    "nn_learner.train_loop(dl)"
   ]
  },
  {
   "cell_type": "code",
   "execution_count": 23,
   "id": "e0163366",
   "metadata": {
    "execution": {
     "iopub.execute_input": "2022-08-21T20:13:16.485835Z",
     "iopub.status.busy": "2022-08-21T20:13:16.484312Z",
     "iopub.status.idle": "2022-08-21T20:13:28.826161Z",
     "shell.execute_reply": "2022-08-21T20:13:28.826603Z"
    },
    "papermill": {
     "duration": 12.38189,
     "end_time": "2022-08-21T20:13:28.826734",
     "exception": false,
     "start_time": "2022-08-21T20:13:16.444844",
     "status": "completed"
    },
    "tags": []
   },
   "outputs": [
    {
     "name": "stdout",
     "output_type": "stream",
     "text": [
      "Epoch 0, Loss 0.2258\n",
      "Training Accuracy: 0.7720, Testing Accuracy: 0.7878\n",
      "\n"
     ]
    },
    {
     "name": "stdout",
     "output_type": "stream",
     "text": [
      "Epoch 10, Loss 0.0983\n",
      "Training Accuracy: 0.9185, Testing Accuracy: 0.9294\n",
      "\n"
     ]
    },
    {
     "name": "stdout",
     "output_type": "stream",
     "text": [
      "Epoch 20, Loss 0.0768\n",
      "Training Accuracy: 0.9308, Testing Accuracy: 0.9390\n",
      "\n"
     ]
    },
    {
     "name": "stdout",
     "output_type": "stream",
     "text": [
      "Epoch 30, Loss 0.0668\n",
      "Training Accuracy: 0.9373, Testing Accuracy: 0.9471\n",
      "\n"
     ]
    },
    {
     "name": "stdout",
     "output_type": "stream",
     "text": [
      "Epoch 40, Loss 0.0607\n",
      "Training Accuracy: 0.9416, Testing Accuracy: 0.9521\n",
      "\n"
     ]
    },
    {
     "name": "stdout",
     "output_type": "stream",
     "text": [
      "Epoch 50, Loss 0.0564\n",
      "Training Accuracy: 0.9454, Testing Accuracy: 0.9546\n",
      "\n"
     ]
    },
    {
     "name": "stdout",
     "output_type": "stream",
     "text": [
      "Epoch 60, Loss 0.0533\n",
      "Training Accuracy: 0.9473, Testing Accuracy: 0.9567\n",
      "\n"
     ]
    },
    {
     "name": "stdout",
     "output_type": "stream",
     "text": [
      "Epoch 70, Loss 0.0508\n",
      "Training Accuracy: 0.9497, Testing Accuracy: 0.9582\n",
      "\n"
     ]
    },
    {
     "name": "stdout",
     "output_type": "stream",
     "text": [
      "Epoch 80, Loss 0.0489\n",
      "Training Accuracy: 0.9508, Testing Accuracy: 0.9602\n",
      "\n"
     ]
    },
    {
     "name": "stdout",
     "output_type": "stream",
     "text": [
      "Epoch 90, Loss 0.0472\n",
      "Training Accuracy: 0.9528, Testing Accuracy: 0.9607\n",
      "\n"
     ]
    },
    {
     "name": "stdout",
     "output_type": "stream",
     "text": [
      "Epoch 100, Loss 0.0459\n",
      "Training Accuracy: 0.9533, Testing Accuracy: 0.9622\n",
      "\n"
     ]
    },
    {
     "name": "stdout",
     "output_type": "stream",
     "text": [
      "Epoch 110, Loss 0.0447\n",
      "Training Accuracy: 0.9538, Testing Accuracy: 0.9632\n",
      "\n"
     ]
    },
    {
     "name": "stdout",
     "output_type": "stream",
     "text": [
      "Epoch 120, Loss 0.0436\n",
      "Training Accuracy: 0.9542, Testing Accuracy: 0.9647\n",
      "\n"
     ]
    },
    {
     "name": "stdout",
     "output_type": "stream",
     "text": [
      "Epoch 130, Loss 0.0427\n",
      "Training Accuracy: 0.9550, Testing Accuracy: 0.9652\n",
      "\n"
     ]
    },
    {
     "name": "stdout",
     "output_type": "stream",
     "text": [
      "Epoch 140, Loss 0.0419\n",
      "Training Accuracy: 0.9556, Testing Accuracy: 0.9652\n",
      "\n"
     ]
    },
    {
     "name": "stdout",
     "output_type": "stream",
     "text": [
      "Epoch 150, Loss 0.0412\n",
      "Training Accuracy: 0.9560, Testing Accuracy: 0.9652\n",
      "\n"
     ]
    },
    {
     "name": "stdout",
     "output_type": "stream",
     "text": [
      "Epoch 160, Loss 0.0405\n",
      "Training Accuracy: 0.9565, Testing Accuracy: 0.9652\n",
      "\n"
     ]
    },
    {
     "name": "stdout",
     "output_type": "stream",
     "text": [
      "Epoch 170, Loss 0.0399\n",
      "Training Accuracy: 0.9568, Testing Accuracy: 0.9657\n",
      "\n"
     ]
    },
    {
     "name": "stdout",
     "output_type": "stream",
     "text": [
      "Epoch 180, Loss 0.0394\n",
      "Training Accuracy: 0.9574, Testing Accuracy: 0.9662\n",
      "\n"
     ]
    },
    {
     "name": "stdout",
     "output_type": "stream",
     "text": [
      "Epoch 190, Loss 0.0389\n",
      "Training Accuracy: 0.9582, Testing Accuracy: 0.9662\n",
      "\n"
     ]
    },
    {
     "name": "stdout",
     "output_type": "stream",
     "text": [
      "Epoch 200, Loss 0.0384\n",
      "Training Accuracy: 0.9587, Testing Accuracy: 0.9662\n",
      "\n"
     ]
    },
    {
     "name": "stdout",
     "output_type": "stream",
     "text": [
      "Epoch 210, Loss 0.0379\n",
      "Training Accuracy: 0.9594, Testing Accuracy: 0.9662\n",
      "\n"
     ]
    },
    {
     "name": "stdout",
     "output_type": "stream",
     "text": [
      "Epoch 220, Loss 0.0375\n",
      "Training Accuracy: 0.9597, Testing Accuracy: 0.9667\n",
      "\n"
     ]
    },
    {
     "name": "stdout",
     "output_type": "stream",
     "text": [
      "Epoch 230, Loss 0.0371\n",
      "Training Accuracy: 0.9602, Testing Accuracy: 0.9672\n",
      "\n"
     ]
    },
    {
     "name": "stdout",
     "output_type": "stream",
     "text": [
      "Epoch 240, Loss 0.0368\n",
      "Training Accuracy: 0.9604, Testing Accuracy: 0.9672\n",
      "\n"
     ]
    },
    {
     "data": {
      "text/plain": [
       "0.022914247328205024"
      ]
     },
     "execution_count": 23,
     "metadata": {},
     "output_type": "execute_result"
    }
   ],
   "source": [
    "lr_learner.train_loop(dl)"
   ]
  },
  {
   "cell_type": "code",
   "execution_count": 24,
   "id": "ca410940",
   "metadata": {
    "execution": {
     "iopub.execute_input": "2022-08-21T20:13:28.917644Z",
     "iopub.status.busy": "2022-08-21T20:13:28.917031Z",
     "iopub.status.idle": "2022-08-21T20:13:29.135618Z",
     "shell.execute_reply": "2022-08-21T20:13:29.136062Z"
    },
    "papermill": {
     "duration": 0.268048,
     "end_time": "2022-08-21T20:13:29.136202",
     "exception": false,
     "start_time": "2022-08-21T20:13:28.868154",
     "status": "completed"
    },
    "tags": []
   },
   "outputs": [
    {
     "data": {
      "text/plain": [
       "<matplotlib.legend.Legend at 0x7ff70ea57dd8>"
      ]
     },
     "execution_count": 24,
     "metadata": {},
     "output_type": "execute_result"
    },
    {
     "data": {
      "image/png": "[encoded data removed]",
      "text/plain": [
       "<Figure size 1080x720 with 1 Axes>"
      ]
     },
     "metadata": {
      "needs_background": "light"
     },
     "output_type": "display_data"
    }
   ],
   "source": [
    "#comparing the results of NN and LR\n",
    "plt.figure(figsize=(15,10))\n",
    "\n",
    "# Neural Network plots\n",
    "plt.plot(acc_nn.accuracies, 'r-', label = \"Training Accuracies - NN\")\n",
    "plt.plot(acc_nn.test_accuracies, 'g-', label = \"Testing Accuracies - NN\")\n",
    "\n",
    "# Logistic Regression plots\n",
    "plt.plot(acc_lr.accuracies, 'k-', label = \"Training Accuracies - LR\")\n",
    "plt.plot(acc_lr.test_accuracies, 'b-', label = \"Testing Accuracies - LR\")\n",
    "plt.legend()"
   ]
  },
  {
   "cell_type": "markdown",
   "id": "80dfb35c",
   "metadata": {
    "papermill": {
     "duration": 0.042825,
     "end_time": "2022-08-21T20:13:29.221827",
     "exception": false,
     "start_time": "2022-08-21T20:13:29.179002",
     "status": "completed"
    },
    "tags": []
   },
   "source": [
    "#### Plotting the outputs of this layer of the NN.\n"
   ]
  },
  {
   "cell_type": "code",
   "execution_count": 25,
   "id": "45eb2ff5",
   "metadata": {
    "execution": {
     "iopub.execute_input": "2022-08-21T20:13:29.312251Z",
     "iopub.status.busy": "2022-08-21T20:13:29.311115Z",
     "iopub.status.idle": "2022-08-21T20:13:29.346618Z",
     "shell.execute_reply": "2022-08-21T20:13:29.347325Z"
    },
    "papermill": {
     "duration": 0.082887,
     "end_time": "2022-08-21T20:13:29.347461",
     "exception": false,
     "start_time": "2022-08-21T20:13:29.264574",
     "status": "completed"
    },
    "tags": []
   },
   "outputs": [],
   "source": [
    "new_model = Model(layers[:-2])\n",
    "testing_plot = new_model(testing_data_x)"
   ]
  },
  {
   "cell_type": "code",
   "execution_count": 26,
   "id": "4c0a5485",
   "metadata": {
    "execution": {
     "iopub.execute_input": "2022-08-21T20:13:29.441299Z",
     "iopub.status.busy": "2022-08-21T20:13:29.440504Z",
     "iopub.status.idle": "2022-08-21T20:13:29.637481Z",
     "shell.execute_reply": "2022-08-21T20:13:29.637941Z"
    },
    "papermill": {
     "duration": 0.247012,
     "end_time": "2022-08-21T20:13:29.638075",
     "exception": false,
     "start_time": "2022-08-21T20:13:29.391063",
     "status": "completed"
    },
    "tags": []
   },
   "outputs": [
    {
     "data": {
      "text/plain": [
       "Text(0.5, 1.0, 'Outputs')"
      ]
     },
     "execution_count": 26,
     "metadata": {},
     "output_type": "execute_result"
    },
    {
     "data": {
      "image/png": "[encoded data removed]",
      "text/plain": [
       "<Figure size 576x504 with 1 Axes>"
      ]
     },
     "metadata": {
      "needs_background": "light"
     },
     "output_type": "display_data"
    }
   ],
   "source": [
    "# Plotting the scatter plot of points and color coding by class\n",
    "plt.figure(figsize=(8,7))\n",
    "plt.scatter(testing_plot[:,0], testing_plot[:,1], alpha = 0.1, c = y_test.ravel());\n",
    "plt.title('Outputs')"
   ]
  },
  {
   "cell_type": "markdown",
   "id": "a74fcf8f",
   "metadata": {
    "papermill": {
     "duration": 0.045509,
     "end_time": "2022-08-21T20:13:29.754398",
     "exception": false,
     "start_time": "2022-08-21T20:13:29.708889",
     "status": "completed"
    },
    "tags": []
   },
   "source": [
    "Probability contours"
   ]
  },
  {
   "cell_type": "code",
   "execution_count": 27,
   "id": "d0afc8e3",
   "metadata": {
    "execution": {
     "iopub.execute_input": "2022-08-21T20:13:29.851267Z",
     "iopub.status.busy": "2022-08-21T20:13:29.849713Z",
     "iopub.status.idle": "2022-08-21T20:13:29.861342Z",
     "shell.execute_reply": "2022-08-21T20:13:29.860869Z"
    },
    "papermill": {
     "duration": 0.061882,
     "end_time": "2022-08-21T20:13:29.861453",
     "exception": false,
     "start_time": "2022-08-21T20:13:29.799571",
     "status": "completed"
    },
    "tags": []
   },
   "outputs": [],
   "source": [
    "model_prob = Model(layers[-2:]) "
   ]
  },
  {
   "cell_type": "code",
   "execution_count": 28,
   "id": "9b96e238",
   "metadata": {
    "execution": {
     "iopub.execute_input": "2022-08-21T20:13:29.956957Z",
     "iopub.status.busy": "2022-08-21T20:13:29.956363Z",
     "iopub.status.idle": "2022-08-21T20:13:29.969331Z",
     "shell.execute_reply": "2022-08-21T20:13:29.969779Z"
    },
    "papermill": {
     "duration": 0.06319,
     "end_time": "2022-08-21T20:13:29.969918",
     "exception": false,
     "start_time": "2022-08-21T20:13:29.906728",
     "status": "completed"
    },
    "tags": []
   },
   "outputs": [],
   "source": [
    "#creating the x and y ranges according to the above generated plot.\n",
    "x_range = np.linspace(-4, 1, 100) \n",
    "y_range = np.linspace(-6, 6, 100) \n",
    "x_grid, y_grid = np.meshgrid(x_range, y_range) # x_grid and y_grig are of size 100 X 100\n",
    "\n",
    "# converting x_grid and y_grid to continuous arrays\n",
    "x_gridflat = np.ravel(x_grid)\n",
    "y_gridflat = np.ravel(y_grid)\n",
    "\n",
    "# The last layer of the current model takes two columns as input. Hence transpose of np.vstack() is required.\n",
    "X = np.vstack((x_gridflat, y_gridflat)).T\n",
    "\n",
    "prob_contour = model_prob(X).reshape(100,100) "
   ]
  },
  {
   "cell_type": "code",
   "execution_count": 29,
   "id": "da72499a",
   "metadata": {
    "execution": {
     "iopub.execute_input": "2022-08-21T20:13:30.067283Z",
     "iopub.status.busy": "2022-08-21T20:13:30.065957Z",
     "iopub.status.idle": "2022-08-21T20:13:30.303395Z",
     "shell.execute_reply": "2022-08-21T20:13:30.303849Z"
    },
    "papermill": {
     "duration": 0.288361,
     "end_time": "2022-08-21T20:13:30.303984",
     "exception": false,
     "start_time": "2022-08-21T20:13:30.015623",
     "status": "completed"
    },
    "tags": []
   },
   "outputs": [
    {
     "data": {
      "image/png": "[encoded data removed]",
      "text/plain": [
       "<Figure size 720x648 with 1 Axes>"
      ]
     },
     "metadata": {
      "needs_background": "light"
     },
     "output_type": "display_data"
    }
   ],
   "source": [
    "plt.figure(figsize=(10,9))\n",
    "plt.scatter(testing_plot[:,0], testing_plot[:,1], alpha = 0.1, c = y_test.ravel())\n",
    "contours = plt.contour(x_grid,y_grid,prob_contour)\n",
    "plt.title('Probability Contours')\n",
    "plt.clabel(contours, inline = True );"
   ]
  },
  {
   "cell_type": "code",
   "execution_count": null,
   "id": "e81b4ac7",
   "metadata": {
    "papermill": {
     "duration": 0.047867,
     "end_time": "2022-08-21T20:13:30.400066",
     "exception": false,
     "start_time": "2022-08-21T20:13:30.352199",
     "status": "completed"
    },
    "tags": []
   },
   "outputs": [],
   "source": []
  }
 ],
 "metadata": {
  "kernelspec": {
   "display_name": "Python 3",
   "language": "python",
   "name": "python3"
  },
  "language_info": {
   "codemirror_mode": {
    "name": "ipython",
    "version": 3
   },
   "file_extension": ".py",
   "mimetype": "text/x-python",
   "name": "python",
   "nbconvert_exporter": "python",
   "pygments_lexer": "ipython3",
   "version": "3.6.15"
  },
  "papermill": {
   "default_parameters": {},
   "duration": 198.541633,
   "end_time": "2022-08-21T20:13:30.865813",
   "environment_variables": {},
   "exception": null,
   "input_path": "2020-08-11-part2.ipynb",
   "output_path": "2020-08-11-part2.ipynb",
   "parameters": {},
   "start_time": "2022-08-21T20:10:12.324180",
   "version": "2.3.3"
  }
 },
 "nbformat": 4,
 "nbformat_minor": 5
}