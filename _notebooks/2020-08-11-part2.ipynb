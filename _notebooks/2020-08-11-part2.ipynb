{
 "cells": [
  {
   "cell_type": "markdown",
   "id": "98380cd3",
   "metadata": {
    "papermill": {
     "duration": 0.038066,
     "end_time": "2022-05-26T20:12:05.336871",
     "exception": false,
     "start_time": "2022-05-26T20:12:05.298805",
     "status": "completed"
    },
    "tags": []
   },
   "source": [
    "# Distinguish Your Own Digits (DYOD)"
   ]
  },
  {
   "cell_type": "markdown",
   "id": "ef31240d",
   "metadata": {
    "papermill": {
     "duration": 0.031629,
     "end_time": "2022-05-26T20:12:05.401867",
     "exception": false,
     "start_time": "2022-05-26T20:12:05.370238",
     "status": "completed"
    },
    "tags": []
   },
   "source": [
    "You are going to write a classifier that distinguishes between the number 3 and number 8."
   ]
  },
  {
   "cell_type": "code",
   "execution_count": 1,
   "id": "b15c8646",
   "metadata": {
    "execution": {
     "iopub.execute_input": "2022-05-26T20:12:05.476293Z",
     "iopub.status.busy": "2022-05-26T20:12:05.475495Z",
     "iopub.status.idle": "2022-05-26T20:12:05.490287Z",
     "shell.execute_reply": "2022-05-26T20:12:05.489614Z"
    },
    "papermill": {
     "duration": 0.057025,
     "end_time": "2022-05-26T20:12:05.490454",
     "exception": false,
     "start_time": "2022-05-26T20:12:05.433429",
     "status": "completed"
    },
    "tags": []
   },
   "outputs": [],
   "source": [
    "%load_ext autoreload\n",
    "%autoreload 2"
   ]
  },
  {
   "cell_type": "code",
   "execution_count": 2,
   "id": "22ef38dc",
   "metadata": {
    "execution": {
     "iopub.execute_input": "2022-05-26T20:12:05.555530Z",
     "iopub.status.busy": "2022-05-26T20:12:05.554754Z",
     "iopub.status.idle": "2022-05-26T20:12:06.240167Z",
     "shell.execute_reply": "2022-05-26T20:12:06.238811Z"
    },
    "papermill": {
     "duration": 0.719355,
     "end_time": "2022-05-26T20:12:06.240329",
     "exception": false,
     "start_time": "2022-05-26T20:12:05.520974",
     "status": "completed"
    },
    "tags": []
   },
   "outputs": [],
   "source": [
    "%matplotlib inline\n",
    "import numpy as np\n",
    "import matplotlib.pyplot as plt\n",
    "import pandas as pd"
   ]
  },
  {
   "cell_type": "markdown",
   "id": "ba036198",
   "metadata": {
    "papermill": {
     "duration": 0.032235,
     "end_time": "2022-05-26T20:12:06.311368",
     "exception": false,
     "start_time": "2022-05-26T20:12:06.279133",
     "status": "completed"
    },
    "tags": []
   },
   "source": [
    "From the command line run `pip install mnist`. This is a library that will help you bring down the mnist dataset. If you run this from a notebook, you need to put  `!pip install mnist` in a cell by itself."
   ]
  },
  {
   "cell_type": "code",
   "execution_count": 3,
   "id": "bb6ad8a1",
   "metadata": {
    "execution": {
     "iopub.execute_input": "2022-05-26T20:12:06.394042Z",
     "iopub.status.busy": "2022-05-26T20:12:06.391189Z",
     "iopub.status.idle": "2022-05-26T20:12:08.549545Z",
     "shell.execute_reply": "2022-05-26T20:12:08.550119Z"
    },
    "papermill": {
     "duration": 2.199085,
     "end_time": "2022-05-26T20:12:08.550296",
     "exception": false,
     "start_time": "2022-05-26T20:12:06.351211",
     "status": "completed"
    },
    "tags": []
   },
   "outputs": [
    {
     "name": "stdout",
     "output_type": "stream",
     "text": [
      "Collecting mnist\r\n"
     ]
    },
    {
     "name": "stdout",
     "output_type": "stream",
     "text": [
      "  Downloading mnist-0.2.2-py2.py3-none-any.whl (3.5 kB)\r\n",
      "Requirement already satisfied: numpy in /opt/hostedtoolcache/Python/3.6.15/x64/lib/python3.6/site-packages (from mnist) (1.19.5)\r\n"
     ]
    },
    {
     "name": "stdout",
     "output_type": "stream",
     "text": [
      "Installing collected packages: mnist\r\n"
     ]
    },
    {
     "name": "stdout",
     "output_type": "stream",
     "text": [
      "Successfully installed mnist-0.2.2\r\n"
     ]
    }
   ],
   "source": [
    "!pip install mnist"
   ]
  },
  {
   "cell_type": "markdown",
   "id": "69df9c9a",
   "metadata": {
    "papermill": {
     "duration": 0.031229,
     "end_time": "2022-05-26T20:12:08.615326",
     "exception": false,
     "start_time": "2022-05-26T20:12:08.584097",
     "status": "completed"
    },
    "tags": []
   },
   "source": [
    "## Preparing the Data"
   ]
  },
  {
   "cell_type": "code",
   "execution_count": 4,
   "id": "7f69d806",
   "metadata": {
    "execution": {
     "iopub.execute_input": "2022-05-26T20:12:08.693757Z",
     "iopub.status.busy": "2022-05-26T20:12:08.693013Z",
     "iopub.status.idle": "2022-05-26T20:12:08.712434Z",
     "shell.execute_reply": "2022-05-26T20:12:08.711789Z"
    },
    "papermill": {
     "duration": 0.055032,
     "end_time": "2022-05-26T20:12:08.712584",
     "exception": false,
     "start_time": "2022-05-26T20:12:08.657552",
     "status": "completed"
    },
    "tags": []
   },
   "outputs": [],
   "source": [
    "import mnist"
   ]
  },
  {
   "cell_type": "code",
   "execution_count": 5,
   "id": "a411e44f",
   "metadata": {
    "execution": {
     "iopub.execute_input": "2022-05-26T20:12:08.779709Z",
     "iopub.status.busy": "2022-05-26T20:12:08.778962Z",
     "iopub.status.idle": "2022-05-26T20:12:09.412051Z",
     "shell.execute_reply": "2022-05-26T20:12:09.412656Z"
    },
    "papermill": {
     "duration": 0.669239,
     "end_time": "2022-05-26T20:12:09.412838",
     "exception": false,
     "start_time": "2022-05-26T20:12:08.743599",
     "status": "completed"
    },
    "tags": []
   },
   "outputs": [],
   "source": [
    "train_images = mnist.train_images()\n",
    "train_labels = mnist.train_labels()"
   ]
  },
  {
   "cell_type": "code",
   "execution_count": 6,
   "id": "dceab3a5",
   "metadata": {
    "execution": {
     "iopub.execute_input": "2022-05-26T20:12:09.491148Z",
     "iopub.status.busy": "2022-05-26T20:12:09.490003Z",
     "iopub.status.idle": "2022-05-26T20:12:09.499556Z",
     "shell.execute_reply": "2022-05-26T20:12:09.500346Z"
    },
    "papermill": {
     "duration": 0.054784,
     "end_time": "2022-05-26T20:12:09.500519",
     "exception": false,
     "start_time": "2022-05-26T20:12:09.445735",
     "status": "completed"
    },
    "tags": []
   },
   "outputs": [
    {
     "data": {
      "text/plain": [
       "((60000, 28, 28), (60000,))"
      ]
     },
     "execution_count": 6,
     "metadata": {},
     "output_type": "execute_result"
    }
   ],
   "source": [
    "train_images.shape, train_labels.shape"
   ]
  },
  {
   "cell_type": "code",
   "execution_count": 7,
   "id": "f50dc2bb",
   "metadata": {
    "execution": {
     "iopub.execute_input": "2022-05-26T20:12:09.569000Z",
     "iopub.status.busy": "2022-05-26T20:12:09.568257Z",
     "iopub.status.idle": "2022-05-26T20:12:09.795816Z",
     "shell.execute_reply": "2022-05-26T20:12:09.795160Z"
    },
    "papermill": {
     "duration": 0.263753,
     "end_time": "2022-05-26T20:12:09.795964",
     "exception": false,
     "start_time": "2022-05-26T20:12:09.532211",
     "status": "completed"
    },
    "tags": []
   },
   "outputs": [],
   "source": [
    "test_images = mnist.test_images()\n",
    "test_labels = mnist.test_labels()"
   ]
  },
  {
   "cell_type": "code",
   "execution_count": 8,
   "id": "fc38cf1b",
   "metadata": {
    "execution": {
     "iopub.execute_input": "2022-05-26T20:12:09.871287Z",
     "iopub.status.busy": "2022-05-26T20:12:09.867947Z",
     "iopub.status.idle": "2022-05-26T20:12:09.881651Z",
     "shell.execute_reply": "2022-05-26T20:12:09.881029Z"
    },
    "papermill": {
     "duration": 0.054498,
     "end_time": "2022-05-26T20:12:09.881788",
     "exception": false,
     "start_time": "2022-05-26T20:12:09.827290",
     "status": "completed"
    },
    "tags": []
   },
   "outputs": [
    {
     "data": {
      "text/plain": [
       "((10000, 28, 28), (10000,))"
      ]
     },
     "execution_count": 8,
     "metadata": {},
     "output_type": "execute_result"
    }
   ],
   "source": [
    "test_images.shape, test_labels.shape"
   ]
  },
  {
   "cell_type": "code",
   "execution_count": 9,
   "id": "f9ed8fe0",
   "metadata": {
    "execution": {
     "iopub.execute_input": "2022-05-26T20:12:09.950223Z",
     "iopub.status.busy": "2022-05-26T20:12:09.949481Z",
     "iopub.status.idle": "2022-05-26T20:12:10.147220Z",
     "shell.execute_reply": "2022-05-26T20:12:10.146552Z"
    },
    "papermill": {
     "duration": 0.234279,
     "end_time": "2022-05-26T20:12:10.147368",
     "exception": false,
     "start_time": "2022-05-26T20:12:09.913089",
     "status": "completed"
    },
    "tags": []
   },
   "outputs": [
    {
     "name": "stdout",
     "output_type": "stream",
     "text": [
      "2\n"
     ]
    },
    {
     "data": {
      "text/plain": [
       "<matplotlib.image.AxesImage at 0x7fb73f18ce80>"
      ]
     },
     "execution_count": 9,
     "metadata": {},
     "output_type": "execute_result"
    },
    {
     "data": {
      "image/png": "[encoded data removed]",
      "text/plain": [
       "<Figure size 432x288 with 1 Axes>"
      ]
     },
     "metadata": {
      "needs_background": "light"
     },
     "output_type": "display_data"
    }
   ],
   "source": [
    "image_index = 7776 # You may select anything up to 60,000\n",
    "print(train_labels[image_index]) \n",
    "plt.imshow(train_images[image_index], cmap='Greys')"
   ]
  },
  {
   "cell_type": "markdown",
   "id": "a8d2388d",
   "metadata": {
    "papermill": {
     "duration": 0.03293,
     "end_time": "2022-05-26T20:12:10.214818",
     "exception": false,
     "start_time": "2022-05-26T20:12:10.181888",
     "status": "completed"
    },
    "tags": []
   },
   "source": [
    "## Filter data to get 3 and 8 out"
   ]
  },
  {
   "cell_type": "code",
   "execution_count": 10,
   "id": "776f7fc7",
   "metadata": {
    "execution": {
     "iopub.execute_input": "2022-05-26T20:12:10.292315Z",
     "iopub.status.busy": "2022-05-26T20:12:10.287486Z",
     "iopub.status.idle": "2022-05-26T20:12:10.309455Z",
     "shell.execute_reply": "2022-05-26T20:12:10.308665Z"
    },
    "papermill": {
     "duration": 0.060875,
     "end_time": "2022-05-26T20:12:10.309607",
     "exception": false,
     "start_time": "2022-05-26T20:12:10.248732",
     "status": "completed"
    },
    "tags": []
   },
   "outputs": [],
   "source": [
    "train_filter = np.where((train_labels == 3 ) | (train_labels == 8))\n",
    "test_filter = np.where((test_labels == 3) | (test_labels == 8))\n",
    "X_train, y_train = train_images[train_filter], train_labels[train_filter]\n",
    "X_test, y_test = test_images[test_filter], test_labels[test_filter]"
   ]
  },
  {
   "cell_type": "markdown",
   "id": "948f0b7e",
   "metadata": {
    "papermill": {
     "duration": 0.034523,
     "end_time": "2022-05-26T20:12:10.378185",
     "exception": false,
     "start_time": "2022-05-26T20:12:10.343662",
     "status": "completed"
    },
    "tags": []
   },
   "source": [
    "We normalize the pizel values in the 0 to 1 range"
   ]
  },
  {
   "cell_type": "code",
   "execution_count": 11,
   "id": "ee4c2166",
   "metadata": {
    "execution": {
     "iopub.execute_input": "2022-05-26T20:12:10.476693Z",
     "iopub.status.busy": "2022-05-26T20:12:10.474371Z",
     "iopub.status.idle": "2022-05-26T20:12:10.545684Z",
     "shell.execute_reply": "2022-05-26T20:12:10.544973Z"
    },
    "papermill": {
     "duration": 0.125106,
     "end_time": "2022-05-26T20:12:10.545837",
     "exception": false,
     "start_time": "2022-05-26T20:12:10.420731",
     "status": "completed"
    },
    "tags": []
   },
   "outputs": [],
   "source": [
    "X_train = X_train/255.\n",
    "X_test = X_test/255."
   ]
  },
  {
   "cell_type": "markdown",
   "id": "ddcf4fab",
   "metadata": {
    "papermill": {
     "duration": 0.036979,
     "end_time": "2022-05-26T20:12:10.617675",
     "exception": false,
     "start_time": "2022-05-26T20:12:10.580696",
     "status": "completed"
    },
    "tags": []
   },
   "source": [
    "And setup the labels as 1 (when the digit is 3) and 0 (when the digit is 8)"
   ]
  },
  {
   "cell_type": "code",
   "execution_count": 12,
   "id": "7dc908f2",
   "metadata": {
    "execution": {
     "iopub.execute_input": "2022-05-26T20:12:10.704293Z",
     "iopub.status.busy": "2022-05-26T20:12:10.695701Z",
     "iopub.status.idle": "2022-05-26T20:12:10.709421Z",
     "shell.execute_reply": "2022-05-26T20:12:10.708827Z"
    },
    "papermill": {
     "duration": 0.057689,
     "end_time": "2022-05-26T20:12:10.709556",
     "exception": false,
     "start_time": "2022-05-26T20:12:10.651867",
     "status": "completed"
    },
    "tags": []
   },
   "outputs": [],
   "source": [
    "y_train = 1*(y_train==3)\n",
    "y_test = 1*(y_test==3)"
   ]
  },
  {
   "cell_type": "code",
   "execution_count": 13,
   "id": "01e4e969",
   "metadata": {
    "execution": {
     "iopub.execute_input": "2022-05-26T20:12:10.783830Z",
     "iopub.status.busy": "2022-05-26T20:12:10.783114Z",
     "iopub.status.idle": "2022-05-26T20:12:10.797652Z",
     "shell.execute_reply": "2022-05-26T20:12:10.797017Z"
    },
    "papermill": {
     "duration": 0.055176,
     "end_time": "2022-05-26T20:12:10.797815",
     "exception": false,
     "start_time": "2022-05-26T20:12:10.742639",
     "status": "completed"
    },
    "tags": []
   },
   "outputs": [
    {
     "data": {
      "text/plain": [
       "((11982, 28, 28), (1984, 28, 28))"
      ]
     },
     "execution_count": 13,
     "metadata": {},
     "output_type": "execute_result"
    }
   ],
   "source": [
    "X_train.shape, X_test.shape"
   ]
  },
  {
   "cell_type": "markdown",
   "id": "5ccf3f85",
   "metadata": {
    "papermill": {
     "duration": 0.033487,
     "end_time": "2022-05-26T20:12:10.866712",
     "exception": false,
     "start_time": "2022-05-26T20:12:10.833225",
     "status": "completed"
    },
    "tags": []
   },
   "source": [
    "We reshape the data to flatten the image pixels into a set of features or co-variates:"
   ]
  },
  {
   "cell_type": "code",
   "execution_count": 14,
   "id": "5286a4a3",
   "metadata": {
    "execution": {
     "iopub.execute_input": "2022-05-26T20:12:10.939814Z",
     "iopub.status.busy": "2022-05-26T20:12:10.939080Z",
     "iopub.status.idle": "2022-05-26T20:12:10.958654Z",
     "shell.execute_reply": "2022-05-26T20:12:10.959391Z"
    },
    "papermill": {
     "duration": 0.059653,
     "end_time": "2022-05-26T20:12:10.959556",
     "exception": false,
     "start_time": "2022-05-26T20:12:10.899903",
     "status": "completed"
    },
    "tags": []
   },
   "outputs": [
    {
     "data": {
      "text/plain": [
       "((11982, 784), (1984, 784))"
      ]
     },
     "execution_count": 14,
     "metadata": {},
     "output_type": "execute_result"
    }
   ],
   "source": [
    "X_train = X_train.reshape(X_train.shape[0], -1)\n",
    "X_test = X_test.reshape(X_test.shape[0], -1)\n",
    "X_train.shape, X_test.shape"
   ]
  },
  {
   "cell_type": "code",
   "execution_count": 15,
   "id": "73c5f88a",
   "metadata": {
    "execution": {
     "iopub.execute_input": "2022-05-26T20:12:11.040288Z",
     "iopub.status.busy": "2022-05-26T20:12:11.039531Z",
     "iopub.status.idle": "2022-05-26T20:12:11.062316Z",
     "shell.execute_reply": "2022-05-26T20:12:11.061690Z"
    },
    "papermill": {
     "duration": 0.064269,
     "end_time": "2022-05-26T20:12:11.062469",
     "exception": false,
     "start_time": "2022-05-26T20:12:10.998200",
     "status": "completed"
    },
    "tags": []
   },
   "outputs": [],
   "source": [
    "#Impoting functions from 'Kudzu'\n",
    "from kudzu.model import Model\n",
    "from kudzu.train import Learner\n",
    "from kudzu.optim import GD\n",
    "from kudzu.data import Data, Sampler,Dataloader\n",
    "\n",
    "from kudzu.callbacks import AccCallback\n",
    "from kudzu.callbacks import ClfCallback\n",
    "\n",
    "from kudzu.loss import MSE\n",
    "\n",
    "from kudzu.layer import Sigmoid,Relu\n",
    "from kudzu.layer import Affine"
   ]
  },
  {
   "cell_type": "markdown",
   "id": "bc01172a",
   "metadata": {
    "papermill": {
     "duration": 0.036987,
     "end_time": "2022-05-26T20:12:11.133720",
     "exception": false,
     "start_time": "2022-05-26T20:12:11.096733",
     "status": "completed"
    },
    "tags": []
   },
   "source": [
    "### Let us create a `Config` class, to store important parameters. \n",
    "This class essentially plays the role of a dictionary."
   ]
  },
  {
   "cell_type": "code",
   "execution_count": 16,
   "id": "978281aa",
   "metadata": {
    "execution": {
     "iopub.execute_input": "2022-05-26T20:12:11.210216Z",
     "iopub.status.busy": "2022-05-26T20:12:11.209446Z",
     "iopub.status.idle": "2022-05-26T20:12:11.224032Z",
     "shell.execute_reply": "2022-05-26T20:12:11.224971Z"
    },
    "papermill": {
     "duration": 0.057235,
     "end_time": "2022-05-26T20:12:11.225157",
     "exception": false,
     "start_time": "2022-05-26T20:12:11.167922",
     "status": "completed"
    },
    "tags": []
   },
   "outputs": [],
   "source": [
    "class Config:\n",
    "    pass\n",
    "config = Config()\n",
    "config.lr = 0.001\n",
    "config.num_epochs = 250\n",
    "config.bs = 50"
   ]
  },
  {
   "cell_type": "markdown",
   "id": "1385fa59",
   "metadata": {
    "papermill": {
     "duration": 0.034563,
     "end_time": "2022-05-26T20:12:11.294186",
     "exception": false,
     "start_time": "2022-05-26T20:12:11.259623",
     "status": "completed"
    },
    "tags": []
   },
   "source": [
    "### Running Models with the Training data\n",
    "Details about the network layers:\n",
    "- A first affine layer has 784 inputs and does 100 affine transforms. These are followed by a Relu\n",
    "- A second affine layer has 100 inputs from the 100 activations of the past layer, and does 100 affine transforms. These are followed by a Relu\n",
    "- A third affine layer has 100 activations and does 2 affine transformations to create an embedding for visualization. There is no non-linearity here.\n",
    "- A final \"logistic regression\" which has an affine transform from 2 inputs to 1 output, which is squeezed through a sigmoid.\n"
   ]
  },
  {
   "cell_type": "code",
   "execution_count": 17,
   "id": "2b9c66db",
   "metadata": {
    "execution": {
     "iopub.execute_input": "2022-05-26T20:12:11.376507Z",
     "iopub.status.busy": "2022-05-26T20:12:11.375656Z",
     "iopub.status.idle": "2022-05-26T20:12:11.386735Z",
     "shell.execute_reply": "2022-05-26T20:12:11.385770Z"
    },
    "papermill": {
     "duration": 0.057318,
     "end_time": "2022-05-26T20:12:11.386912",
     "exception": false,
     "start_time": "2022-05-26T20:12:11.329594",
     "status": "completed"
    },
    "tags": []
   },
   "outputs": [],
   "source": [
    "data = Data(X_train, y_train.reshape(-1,1))\n",
    "sampler = Sampler(data, config.bs, shuffle=True)\n",
    "\n",
    "dl = Dataloader(data, sampler)\n",
    "\n",
    "opt = GD(config.lr)\n",
    "loss = MSE()"
   ]
  },
  {
   "cell_type": "code",
   "execution_count": 18,
   "id": "b275e4c2",
   "metadata": {
    "execution": {
     "iopub.execute_input": "2022-05-26T20:12:11.459962Z",
     "iopub.status.busy": "2022-05-26T20:12:11.459212Z",
     "iopub.status.idle": "2022-05-26T20:12:11.474975Z",
     "shell.execute_reply": "2022-05-26T20:12:11.474314Z"
    },
    "papermill": {
     "duration": 0.052947,
     "end_time": "2022-05-26T20:12:11.475122",
     "exception": false,
     "start_time": "2022-05-26T20:12:11.422175",
     "status": "completed"
    },
    "tags": []
   },
   "outputs": [],
   "source": [
    "training_data_x = X_train\n",
    "testing_data_x = X_test\n",
    "training_data_y = y_train.reshape(-1,1)\n",
    "testing_data_y = y_test.reshape(-1,1)"
   ]
  },
  {
   "cell_type": "code",
   "execution_count": 19,
   "id": "76951160",
   "metadata": {
    "execution": {
     "iopub.execute_input": "2022-05-26T20:12:11.548495Z",
     "iopub.status.busy": "2022-05-26T20:12:11.547743Z",
     "iopub.status.idle": "2022-05-26T20:12:11.567159Z",
     "shell.execute_reply": "2022-05-26T20:12:11.566515Z"
    },
    "papermill": {
     "duration": 0.057541,
     "end_time": "2022-05-26T20:12:11.567302",
     "exception": false,
     "start_time": "2022-05-26T20:12:11.509761",
     "status": "completed"
    },
    "tags": []
   },
   "outputs": [
    {
     "name": "stdout",
     "output_type": "stream",
     "text": [
      "xavier\n",
      "xavier\n",
      "xavier\n",
      "xavier\n",
      "xavier\n"
     ]
    }
   ],
   "source": [
    "layers = [Affine(\"first\", 784, 100), Relu(\"first\"), Affine(\"second\", 100, 100), Relu(\"second\"), Affine(\"third\", 100, 2), Affine(\"last\", 2, 1), Sigmoid(\"last\")]\n",
    "model_nn = Model(layers)\n",
    "model_lr = Model([Affine(\"logits\", 784, 1), Sigmoid(\"sigmoid\")])"
   ]
  },
  {
   "cell_type": "code",
   "execution_count": 20,
   "id": "6eede77a",
   "metadata": {
    "execution": {
     "iopub.execute_input": "2022-05-26T20:12:11.644658Z",
     "iopub.status.busy": "2022-05-26T20:12:11.643925Z",
     "iopub.status.idle": "2022-05-26T20:12:11.656151Z",
     "shell.execute_reply": "2022-05-26T20:12:11.656769Z"
    },
    "papermill": {
     "duration": 0.054974,
     "end_time": "2022-05-26T20:12:11.656929",
     "exception": false,
     "start_time": "2022-05-26T20:12:11.601955",
     "status": "completed"
    },
    "tags": []
   },
   "outputs": [],
   "source": [
    "nn_learner = Learner(loss, model_nn, opt, config.num_epochs)\n",
    "acc_nn = ClfCallback(nn_learner, config.bs, training_data_x , testing_data_x, training_data_y, testing_data_y)\n",
    "nn_learner.set_callbacks([acc_nn])"
   ]
  },
  {
   "cell_type": "code",
   "execution_count": 21,
   "id": "877b6cc7",
   "metadata": {
    "execution": {
     "iopub.execute_input": "2022-05-26T20:12:11.728792Z",
     "iopub.status.busy": "2022-05-26T20:12:11.728050Z",
     "iopub.status.idle": "2022-05-26T20:12:11.747272Z",
     "shell.execute_reply": "2022-05-26T20:12:11.746588Z"
    },
    "papermill": {
     "duration": 0.056577,
     "end_time": "2022-05-26T20:12:11.747422",
     "exception": false,
     "start_time": "2022-05-26T20:12:11.690845",
     "status": "completed"
    },
    "tags": []
   },
   "outputs": [],
   "source": [
    "lr_learner = Learner(loss, model_lr, opt, config.num_epochs)\n",
    "acc_lr = ClfCallback(lr_learner, config.bs, training_data_x , testing_data_x, training_data_y, testing_data_y)\n",
    "lr_learner.set_callbacks([acc_lr])"
   ]
  },
  {
   "cell_type": "code",
   "execution_count": 22,
   "id": "d9b133c3",
   "metadata": {
    "execution": {
     "iopub.execute_input": "2022-05-26T20:12:11.824183Z",
     "iopub.status.busy": "2022-05-26T20:12:11.823437Z",
     "iopub.status.idle": "2022-05-26T20:14:17.645319Z",
     "shell.execute_reply": "2022-05-26T20:14:17.646416Z"
    },
    "papermill": {
     "duration": 125.864556,
     "end_time": "2022-05-26T20:14:17.646586",
     "exception": false,
     "start_time": "2022-05-26T20:12:11.782030",
     "status": "completed"
    },
    "tags": []
   },
   "outputs": [
    {
     "name": "stdout",
     "output_type": "stream",
     "text": [
      "Epoch 0, Loss 0.244\n",
      "Training Accuracy: 0.6370, Testing Accuracy: 0.6134\n",
      "\n"
     ]
    },
    {
     "name": "stdout",
     "output_type": "stream",
     "text": [
      "Epoch 10, Loss 0.1192\n",
      "Training Accuracy: 0.9062, Testing Accuracy: 0.9103\n",
      "\n"
     ]
    },
    {
     "name": "stdout",
     "output_type": "stream",
     "text": [
      "Epoch 20, Loss 0.0642\n",
      "Training Accuracy: 0.9374, Testing Accuracy: 0.9405\n",
      "\n"
     ]
    },
    {
     "name": "stdout",
     "output_type": "stream",
     "text": [
      "Epoch 30, Loss 0.0479\n",
      "Training Accuracy: 0.9503, Testing Accuracy: 0.9577\n",
      "\n"
     ]
    },
    {
     "name": "stdout",
     "output_type": "stream",
     "text": [
      "Epoch 40, Loss 0.0407\n",
      "Training Accuracy: 0.9545, Testing Accuracy: 0.9637\n",
      "\n"
     ]
    },
    {
     "name": "stdout",
     "output_type": "stream",
     "text": [
      "Epoch 50, Loss 0.0367\n",
      "Training Accuracy: 0.9584, Testing Accuracy: 0.9688\n",
      "\n"
     ]
    },
    {
     "name": "stdout",
     "output_type": "stream",
     "text": [
      "Epoch 60, Loss 0.0339\n",
      "Training Accuracy: 0.9608, Testing Accuracy: 0.9708\n",
      "\n"
     ]
    },
    {
     "name": "stdout",
     "output_type": "stream",
     "text": [
      "Epoch 70, Loss 0.0319\n",
      "Training Accuracy: 0.9633, Testing Accuracy: 0.9718\n",
      "\n"
     ]
    },
    {
     "name": "stdout",
     "output_type": "stream",
     "text": [
      "Epoch 80, Loss 0.0303\n",
      "Training Accuracy: 0.9647, Testing Accuracy: 0.9723\n",
      "\n"
     ]
    },
    {
     "name": "stdout",
     "output_type": "stream",
     "text": [
      "Epoch 90, Loss 0.0289\n",
      "Training Accuracy: 0.9661, Testing Accuracy: 0.9738\n",
      "\n"
     ]
    },
    {
     "name": "stdout",
     "output_type": "stream",
     "text": [
      "Epoch 100, Loss 0.0278\n",
      "Training Accuracy: 0.9675, Testing Accuracy: 0.9733\n",
      "\n"
     ]
    },
    {
     "name": "stdout",
     "output_type": "stream",
     "text": [
      "Epoch 110, Loss 0.0267\n",
      "Training Accuracy: 0.9692, Testing Accuracy: 0.9733\n",
      "\n"
     ]
    },
    {
     "name": "stdout",
     "output_type": "stream",
     "text": [
      "Epoch 120, Loss 0.0258\n",
      "Training Accuracy: 0.9701, Testing Accuracy: 0.9738\n",
      "\n"
     ]
    },
    {
     "name": "stdout",
     "output_type": "stream",
     "text": [
      "Epoch 130, Loss 0.025\n",
      "Training Accuracy: 0.9715, Testing Accuracy: 0.9738\n",
      "\n"
     ]
    },
    {
     "name": "stdout",
     "output_type": "stream",
     "text": [
      "Epoch 140, Loss 0.0243\n",
      "Training Accuracy: 0.9723, Testing Accuracy: 0.9733\n",
      "\n"
     ]
    },
    {
     "name": "stdout",
     "output_type": "stream",
     "text": [
      "Epoch 150, Loss 0.0236\n",
      "Training Accuracy: 0.9730, Testing Accuracy: 0.9733\n",
      "\n"
     ]
    },
    {
     "name": "stdout",
     "output_type": "stream",
     "text": [
      "Epoch 160, Loss 0.023\n",
      "Training Accuracy: 0.9736, Testing Accuracy: 0.9728\n",
      "\n"
     ]
    },
    {
     "name": "stdout",
     "output_type": "stream",
     "text": [
      "Epoch 170, Loss 0.0224\n",
      "Training Accuracy: 0.9745, Testing Accuracy: 0.9728\n",
      "\n"
     ]
    },
    {
     "name": "stdout",
     "output_type": "stream",
     "text": [
      "Epoch 180, Loss 0.0218\n",
      "Training Accuracy: 0.9755, Testing Accuracy: 0.9728\n",
      "\n"
     ]
    },
    {
     "name": "stdout",
     "output_type": "stream",
     "text": [
      "Epoch 190, Loss 0.0213\n",
      "Training Accuracy: 0.9757, Testing Accuracy: 0.9733\n",
      "\n"
     ]
    },
    {
     "name": "stdout",
     "output_type": "stream",
     "text": [
      "Epoch 200, Loss 0.0208\n",
      "Training Accuracy: 0.9765, Testing Accuracy: 0.9733\n",
      "\n"
     ]
    },
    {
     "name": "stdout",
     "output_type": "stream",
     "text": [
      "Epoch 210, Loss 0.0203\n",
      "Training Accuracy: 0.9769, Testing Accuracy: 0.9748\n",
      "\n"
     ]
    },
    {
     "name": "stdout",
     "output_type": "stream",
     "text": [
      "Epoch 220, Loss 0.0198\n",
      "Training Accuracy: 0.9778, Testing Accuracy: 0.9748\n",
      "\n"
     ]
    },
    {
     "name": "stdout",
     "output_type": "stream",
     "text": [
      "Epoch 230, Loss 0.0194\n",
      "Training Accuracy: 0.9784, Testing Accuracy: 0.9748\n",
      "\n"
     ]
    },
    {
     "name": "stdout",
     "output_type": "stream",
     "text": [
      "Epoch 240, Loss 0.019\n",
      "Training Accuracy: 0.9791, Testing Accuracy: 0.9748\n",
      "\n"
     ]
    },
    {
     "data": {
      "text/plain": [
       "0.006907625475263825"
      ]
     },
     "execution_count": 22,
     "metadata": {},
     "output_type": "execute_result"
    }
   ],
   "source": [
    "nn_learner.train_loop(dl)"
   ]
  },
  {
   "cell_type": "code",
   "execution_count": 23,
   "id": "e0163366",
   "metadata": {
    "execution": {
     "iopub.execute_input": "2022-05-26T20:14:17.747572Z",
     "iopub.status.busy": "2022-05-26T20:14:17.746790Z",
     "iopub.status.idle": "2022-05-26T20:14:35.533399Z",
     "shell.execute_reply": "2022-05-26T20:14:35.534408Z"
    },
    "papermill": {
     "duration": 17.842729,
     "end_time": "2022-05-26T20:14:35.534570",
     "exception": false,
     "start_time": "2022-05-26T20:14:17.691841",
     "status": "completed"
    },
    "tags": []
   },
   "outputs": [
    {
     "name": "stdout",
     "output_type": "stream",
     "text": [
      "Epoch 0, Loss 0.2332\n",
      "Training Accuracy: 0.6971, Testing Accuracy: 0.7082\n",
      "\n"
     ]
    },
    {
     "name": "stdout",
     "output_type": "stream",
     "text": [
      "Epoch 10, Loss 0.1073\n",
      "Training Accuracy: 0.8987, Testing Accuracy: 0.9123\n",
      "\n"
     ]
    },
    {
     "name": "stdout",
     "output_type": "stream",
     "text": [
      "Epoch 20, Loss 0.0818\n",
      "Training Accuracy: 0.9234, Testing Accuracy: 0.9380\n",
      "\n"
     ]
    },
    {
     "name": "stdout",
     "output_type": "stream",
     "text": [
      "Epoch 30, Loss 0.07\n",
      "Training Accuracy: 0.9323, Testing Accuracy: 0.9486\n",
      "\n"
     ]
    },
    {
     "name": "stdout",
     "output_type": "stream",
     "text": [
      "Epoch 40, Loss 0.0628\n",
      "Training Accuracy: 0.9393, Testing Accuracy: 0.9546\n",
      "\n"
     ]
    },
    {
     "name": "stdout",
     "output_type": "stream",
     "text": [
      "Epoch 50, Loss 0.058\n",
      "Training Accuracy: 0.9437, Testing Accuracy: 0.9582\n",
      "\n"
     ]
    },
    {
     "name": "stdout",
     "output_type": "stream",
     "text": [
      "Epoch 60, Loss 0.0545\n",
      "Training Accuracy: 0.9463, Testing Accuracy: 0.9572\n",
      "\n"
     ]
    },
    {
     "name": "stdout",
     "output_type": "stream",
     "text": [
      "Epoch 70, Loss 0.0517\n",
      "Training Accuracy: 0.9483, Testing Accuracy: 0.9597\n",
      "\n"
     ]
    },
    {
     "name": "stdout",
     "output_type": "stream",
     "text": [
      "Epoch 80, Loss 0.0496\n",
      "Training Accuracy: 0.9500, Testing Accuracy: 0.9617\n",
      "\n"
     ]
    },
    {
     "name": "stdout",
     "output_type": "stream",
     "text": [
      "Epoch 90, Loss 0.0478\n",
      "Training Accuracy: 0.9518, Testing Accuracy: 0.9637\n",
      "\n"
     ]
    },
    {
     "name": "stdout",
     "output_type": "stream",
     "text": [
      "Epoch 100, Loss 0.0463\n",
      "Training Accuracy: 0.9531, Testing Accuracy: 0.9637\n",
      "\n"
     ]
    },
    {
     "name": "stdout",
     "output_type": "stream",
     "text": [
      "Epoch 110, Loss 0.045\n",
      "Training Accuracy: 0.9540, Testing Accuracy: 0.9647\n",
      "\n"
     ]
    },
    {
     "name": "stdout",
     "output_type": "stream",
     "text": [
      "Epoch 120, Loss 0.0439\n",
      "Training Accuracy: 0.9553, Testing Accuracy: 0.9667\n",
      "\n"
     ]
    },
    {
     "name": "stdout",
     "output_type": "stream",
     "text": [
      "Epoch 130, Loss 0.043\n",
      "Training Accuracy: 0.9565, Testing Accuracy: 0.9667\n",
      "\n"
     ]
    },
    {
     "name": "stdout",
     "output_type": "stream",
     "text": [
      "Epoch 140, Loss 0.0421\n",
      "Training Accuracy: 0.9574, Testing Accuracy: 0.9672\n",
      "\n"
     ]
    },
    {
     "name": "stdout",
     "output_type": "stream",
     "text": [
      "Epoch 150, Loss 0.0413\n",
      "Training Accuracy: 0.9579, Testing Accuracy: 0.9672\n",
      "\n"
     ]
    },
    {
     "name": "stdout",
     "output_type": "stream",
     "text": [
      "Epoch 160, Loss 0.0406\n",
      "Training Accuracy: 0.9580, Testing Accuracy: 0.9667\n",
      "\n"
     ]
    },
    {
     "name": "stdout",
     "output_type": "stream",
     "text": [
      "Epoch 170, Loss 0.04\n",
      "Training Accuracy: 0.9589, Testing Accuracy: 0.9677\n",
      "\n"
     ]
    },
    {
     "name": "stdout",
     "output_type": "stream",
     "text": [
      "Epoch 180, Loss 0.0394\n",
      "Training Accuracy: 0.9592, Testing Accuracy: 0.9677\n",
      "\n"
     ]
    },
    {
     "name": "stdout",
     "output_type": "stream",
     "text": [
      "Epoch 190, Loss 0.0389\n",
      "Training Accuracy: 0.9594, Testing Accuracy: 0.9677\n",
      "\n"
     ]
    },
    {
     "name": "stdout",
     "output_type": "stream",
     "text": [
      "Epoch 200, Loss 0.0384\n",
      "Training Accuracy: 0.9598, Testing Accuracy: 0.9682\n",
      "\n"
     ]
    },
    {
     "name": "stdout",
     "output_type": "stream",
     "text": [
      "Epoch 210, Loss 0.038\n",
      "Training Accuracy: 0.9601, Testing Accuracy: 0.9682\n",
      "\n"
     ]
    },
    {
     "name": "stdout",
     "output_type": "stream",
     "text": [
      "Epoch 220, Loss 0.0376\n",
      "Training Accuracy: 0.9604, Testing Accuracy: 0.9682\n",
      "\n"
     ]
    },
    {
     "name": "stdout",
     "output_type": "stream",
     "text": [
      "Epoch 230, Loss 0.0372\n",
      "Training Accuracy: 0.9608, Testing Accuracy: 0.9677\n",
      "\n"
     ]
    },
    {
     "name": "stdout",
     "output_type": "stream",
     "text": [
      "Epoch 240, Loss 0.0368\n",
      "Training Accuracy: 0.9613, Testing Accuracy: 0.9677\n",
      "\n"
     ]
    },
    {
     "data": {
      "text/plain": [
       "0.05894863820391008"
      ]
     },
     "execution_count": 23,
     "metadata": {},
     "output_type": "execute_result"
    }
   ],
   "source": [
    "lr_learner.train_loop(dl)"
   ]
  },
  {
   "cell_type": "code",
   "execution_count": 24,
   "id": "ca410940",
   "metadata": {
    "execution": {
     "iopub.execute_input": "2022-05-26T20:14:35.641550Z",
     "iopub.status.busy": "2022-05-26T20:14:35.640770Z",
     "iopub.status.idle": "2022-05-26T20:14:35.959834Z",
     "shell.execute_reply": "2022-05-26T20:14:35.960423Z"
    },
    "papermill": {
     "duration": 0.374565,
     "end_time": "2022-05-26T20:14:35.960591",
     "exception": false,
     "start_time": "2022-05-26T20:14:35.586026",
     "status": "completed"
    },
    "tags": []
   },
   "outputs": [
    {
     "data": {
      "text/plain": [
       "<matplotlib.legend.Legend at 0x7fb73ecfc630>"
      ]
     },
     "execution_count": 24,
     "metadata": {},
     "output_type": "execute_result"
    },
    {
     "data": {
      "image/png": "[encoded data removed]",
      "text/plain": [
       "<Figure size 1080x720 with 1 Axes>"
      ]
     },
     "metadata": {
      "needs_background": "light"
     },
     "output_type": "display_data"
    }
   ],
   "source": [
    "#comparing the results of NN and LR\n",
    "plt.figure(figsize=(15,10))\n",
    "\n",
    "# Neural Network plots\n",
    "plt.plot(acc_nn.accuracies, 'r-', label = \"Training Accuracies - NN\")\n",
    "plt.plot(acc_nn.test_accuracies, 'g-', label = \"Testing Accuracies - NN\")\n",
    "\n",
    "# Logistic Regression plots\n",
    "plt.plot(acc_lr.accuracies, 'k-', label = \"Training Accuracies - LR\")\n",
    "plt.plot(acc_lr.test_accuracies, 'b-', label = \"Testing Accuracies - LR\")\n",
    "plt.legend()"
   ]
  },
  {
   "cell_type": "markdown",
   "id": "80dfb35c",
   "metadata": {
    "papermill": {
     "duration": 0.054088,
     "end_time": "2022-05-26T20:14:36.070967",
     "exception": false,
     "start_time": "2022-05-26T20:14:36.016879",
     "status": "completed"
    },
    "tags": []
   },
   "source": [
    "#### Plotting the outputs of this layer of the NN.\n"
   ]
  },
  {
   "cell_type": "code",
   "execution_count": 25,
   "id": "45eb2ff5",
   "metadata": {
    "execution": {
     "iopub.execute_input": "2022-05-26T20:14:36.178948Z",
     "iopub.status.busy": "2022-05-26T20:14:36.178152Z",
     "iopub.status.idle": "2022-05-26T20:14:36.210533Z",
     "shell.execute_reply": "2022-05-26T20:14:36.211229Z"
    },
    "papermill": {
     "duration": 0.088707,
     "end_time": "2022-05-26T20:14:36.211406",
     "exception": false,
     "start_time": "2022-05-26T20:14:36.122699",
     "status": "completed"
    },
    "tags": []
   },
   "outputs": [],
   "source": [
    "new_model = Model(layers[:-2])\n",
    "testing_plot = new_model(testing_data_x)"
   ]
  },
  {
   "cell_type": "code",
   "execution_count": 26,
   "id": "4c0a5485",
   "metadata": {
    "execution": {
     "iopub.execute_input": "2022-05-26T20:14:36.322922Z",
     "iopub.status.busy": "2022-05-26T20:14:36.322146Z",
     "iopub.status.idle": "2022-05-26T20:14:36.572885Z",
     "shell.execute_reply": "2022-05-26T20:14:36.572266Z"
    },
    "papermill": {
     "duration": 0.308796,
     "end_time": "2022-05-26T20:14:36.573028",
     "exception": false,
     "start_time": "2022-05-26T20:14:36.264232",
     "status": "completed"
    },
    "tags": []
   },
   "outputs": [
    {
     "data": {
      "text/plain": [
       "Text(0.5, 1.0, 'Outputs')"
      ]
     },
     "execution_count": 26,
     "metadata": {},
     "output_type": "execute_result"
    },
    {
     "data": {
      "image/png": "[encoded data removed]",
      "text/plain": [
       "<Figure size 576x504 with 1 Axes>"
      ]
     },
     "metadata": {
      "needs_background": "light"
     },
     "output_type": "display_data"
    }
   ],
   "source": [
    "# Plotting the scatter plot of points and color coding by class\n",
    "plt.figure(figsize=(8,7))\n",
    "plt.scatter(testing_plot[:,0], testing_plot[:,1], alpha = 0.1, c = y_test.ravel());\n",
    "plt.title('Outputs')"
   ]
  },
  {
   "cell_type": "markdown",
   "id": "a74fcf8f",
   "metadata": {
    "papermill": {
     "duration": 0.084136,
     "end_time": "2022-05-26T20:14:36.709933",
     "exception": false,
     "start_time": "2022-05-26T20:14:36.625797",
     "status": "completed"
    },
    "tags": []
   },
   "source": [
    "Probability contours"
   ]
  },
  {
   "cell_type": "code",
   "execution_count": 27,
   "id": "d0afc8e3",
   "metadata": {
    "execution": {
     "iopub.execute_input": "2022-05-26T20:14:36.824727Z",
     "iopub.status.busy": "2022-05-26T20:14:36.823878Z",
     "iopub.status.idle": "2022-05-26T20:14:36.837058Z",
     "shell.execute_reply": "2022-05-26T20:14:36.836483Z"
    },
    "papermill": {
     "duration": 0.071792,
     "end_time": "2022-05-26T20:14:36.837185",
     "exception": false,
     "start_time": "2022-05-26T20:14:36.765393",
     "status": "completed"
    },
    "tags": []
   },
   "outputs": [],
   "source": [
    "model_prob = Model(layers[-2:]) "
   ]
  },
  {
   "cell_type": "code",
   "execution_count": 28,
   "id": "9b96e238",
   "metadata": {
    "execution": {
     "iopub.execute_input": "2022-05-26T20:14:36.953811Z",
     "iopub.status.busy": "2022-05-26T20:14:36.953070Z",
     "iopub.status.idle": "2022-05-26T20:14:36.969685Z",
     "shell.execute_reply": "2022-05-26T20:14:36.968419Z"
    },
    "papermill": {
     "duration": 0.078599,
     "end_time": "2022-05-26T20:14:36.969825",
     "exception": false,
     "start_time": "2022-05-26T20:14:36.891226",
     "status": "completed"
    },
    "tags": []
   },
   "outputs": [],
   "source": [
    "#creating the x and y ranges according to the above generated plot.\n",
    "x_range = np.linspace(-4, 1, 100) \n",
    "y_range = np.linspace(-6, 6, 100) \n",
    "x_grid, y_grid = np.meshgrid(x_range, y_range) # x_grid and y_grig are of size 100 X 100\n",
    "\n",
    "# converting x_grid and y_grid to continuous arrays\n",
    "x_gridflat = np.ravel(x_grid)\n",
    "y_gridflat = np.ravel(y_grid)\n",
    "\n",
    "# The last layer of the current model takes two columns as input. Hence transpose of np.vstack() is required.\n",
    "X = np.vstack((x_gridflat, y_gridflat)).T\n",
    "\n",
    "prob_contour = model_prob(X).reshape(100,100) "
   ]
  },
  {
   "cell_type": "code",
   "execution_count": 29,
   "id": "da72499a",
   "metadata": {
    "execution": {
     "iopub.execute_input": "2022-05-26T20:14:37.085759Z",
     "iopub.status.busy": "2022-05-26T20:14:37.085023Z",
     "iopub.status.idle": "2022-05-26T20:14:37.399375Z",
     "shell.execute_reply": "2022-05-26T20:14:37.398594Z"
    },
    "papermill": {
     "duration": 0.373465,
     "end_time": "2022-05-26T20:14:37.399522",
     "exception": false,
     "start_time": "2022-05-26T20:14:37.026057",
     "status": "completed"
    },
    "tags": []
   },
   "outputs": [
    {
     "data": {
      "image/png": "[encoded data removed]",
      "text/plain": [
       "<Figure size 720x648 with 1 Axes>"
      ]
     },
     "metadata": {
      "needs_background": "light"
     },
     "output_type": "display_data"
    }
   ],
   "source": [
    "plt.figure(figsize=(10,9))\n",
    "plt.scatter(testing_plot[:,0], testing_plot[:,1], alpha = 0.1, c = y_test.ravel())\n",
    "contours = plt.contour(x_grid,y_grid,prob_contour)\n",
    "plt.title('Probability Contours')\n",
    "plt.clabel(contours, inline = True );"
   ]
  },
  {
   "cell_type": "code",
   "execution_count": null,
   "id": "e81b4ac7",
   "metadata": {
    "papermill": {
     "duration": 0.061693,
     "end_time": "2022-05-26T20:14:37.517322",
     "exception": false,
     "start_time": "2022-05-26T20:14:37.455629",
     "status": "completed"
    },
    "tags": []
   },
   "outputs": [],
   "source": []
  }
 ],
 "metadata": {
  "kernelspec": {
   "display_name": "Python 3",
   "language": "python",
   "name": "python3"
  },
  "language_info": {
   "codemirror_mode": {
    "name": "ipython",
    "version": 3
   },
   "file_extension": ".py",
   "mimetype": "text/x-python",
   "name": "python",
   "nbconvert_exporter": "python",
   "pygments_lexer": "ipython3",
   "version": "3.6.15"
  },
  "papermill": {
   "default_parameters": {},
   "duration": 154.020358,
   "end_time": "2022-05-26T20:14:37.994791",
   "environment_variables": {},
   "exception": null,
   "input_path": "2020-08-11-part2.ipynb",
   "output_path": "2020-08-11-part2.ipynb",
   "parameters": {},
   "start_time": "2022-05-26T20:12:03.974433",
   "version": "2.3.3"
  }
 },
 "nbformat": 4,
 "nbformat_minor": 5
}