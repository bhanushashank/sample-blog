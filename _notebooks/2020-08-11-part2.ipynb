{
 "cells": [
  {
   "cell_type": "markdown",
   "id": "98380cd3",
   "metadata": {
    "papermill": {
     "duration": 0.032302,
     "end_time": "2021-11-10T00:22:25.517472",
     "exception": false,
     "start_time": "2021-11-10T00:22:25.485170",
     "status": "completed"
    },
    "tags": []
   },
   "source": [
    "# Distinguish Your Own Digits (DYOD)"
   ]
  },
  {
   "cell_type": "markdown",
   "id": "ef31240d",
   "metadata": {
    "papermill": {
     "duration": 0.032179,
     "end_time": "2021-11-10T00:22:25.579216",
     "exception": false,
     "start_time": "2021-11-10T00:22:25.547037",
     "status": "completed"
    },
    "tags": []
   },
   "source": [
    "You are going to write a classifier that distinguishes between the number 3 and number 8."
   ]
  },
  {
   "cell_type": "code",
   "execution_count": 1,
   "id": "b15c8646",
   "metadata": {
    "execution": {
     "iopub.execute_input": "2021-11-10T00:22:25.649309Z",
     "iopub.status.busy": "2021-11-10T00:22:25.648714Z",
     "iopub.status.idle": "2021-11-10T00:22:25.660905Z",
     "shell.execute_reply": "2021-11-10T00:22:25.660193Z"
    },
    "papermill": {
     "duration": 0.053463,
     "end_time": "2021-11-10T00:22:25.661101",
     "exception": false,
     "start_time": "2021-11-10T00:22:25.607638",
     "status": "completed"
    },
    "tags": []
   },
   "outputs": [],
   "source": [
    "%load_ext autoreload\n",
    "%autoreload 2"
   ]
  },
  {
   "cell_type": "code",
   "execution_count": 2,
   "id": "22ef38dc",
   "metadata": {
    "execution": {
     "iopub.execute_input": "2021-11-10T00:22:25.724375Z",
     "iopub.status.busy": "2021-11-10T00:22:25.723668Z",
     "iopub.status.idle": "2021-11-10T00:22:26.350633Z",
     "shell.execute_reply": "2021-11-10T00:22:26.350061Z"
    },
    "papermill": {
     "duration": 0.659619,
     "end_time": "2021-11-10T00:22:26.350780",
     "exception": false,
     "start_time": "2021-11-10T00:22:25.691161",
     "status": "completed"
    },
    "tags": []
   },
   "outputs": [],
   "source": [
    "%matplotlib inline\n",
    "import numpy as np\n",
    "import matplotlib.pyplot as plt\n",
    "import pandas as pd"
   ]
  },
  {
   "cell_type": "markdown",
   "id": "ba036198",
   "metadata": {
    "papermill": {
     "duration": 0.030769,
     "end_time": "2021-11-10T00:22:26.411870",
     "exception": false,
     "start_time": "2021-11-10T00:22:26.381101",
     "status": "completed"
    },
    "tags": []
   },
   "source": [
    "From the command line run `pip install mnist`. This is a library that will help you bring down the mnist dataset. If you run this from a notebook, you need to put  `!pip install mnist` in a cell by itself."
   ]
  },
  {
   "cell_type": "code",
   "execution_count": 3,
   "id": "bb6ad8a1",
   "metadata": {
    "execution": {
     "iopub.execute_input": "2021-11-10T00:22:26.476529Z",
     "iopub.status.busy": "2021-11-10T00:22:26.475870Z",
     "iopub.status.idle": "2021-11-10T00:22:28.448649Z",
     "shell.execute_reply": "2021-11-10T00:22:28.448033Z"
    },
    "papermill": {
     "duration": 2.008212,
     "end_time": "2021-11-10T00:22:28.448800",
     "exception": false,
     "start_time": "2021-11-10T00:22:26.440588",
     "status": "completed"
    },
    "tags": []
   },
   "outputs": [
    {
     "name": "stdout",
     "output_type": "stream",
     "text": [
      "Collecting mnist\r\n"
     ]
    },
    {
     "name": "stdout",
     "output_type": "stream",
     "text": [
      "  Downloading mnist-0.2.2-py2.py3-none-any.whl (3.5 kB)\r\n",
      "Requirement already satisfied: numpy in /opt/hostedtoolcache/Python/3.6.15/x64/lib/python3.6/site-packages (from mnist) (1.19.5)\r\n"
     ]
    },
    {
     "name": "stdout",
     "output_type": "stream",
     "text": [
      "Installing collected packages: mnist\r\n"
     ]
    },
    {
     "name": "stdout",
     "output_type": "stream",
     "text": [
      "Successfully installed mnist-0.2.2\r\n"
     ]
    }
   ],
   "source": [
    "!pip install mnist"
   ]
  },
  {
   "cell_type": "markdown",
   "id": "69df9c9a",
   "metadata": {
    "papermill": {
     "duration": 0.031697,
     "end_time": "2021-11-10T00:22:28.510508",
     "exception": false,
     "start_time": "2021-11-10T00:22:28.478811",
     "status": "completed"
    },
    "tags": []
   },
   "source": [
    "## Preparing the Data"
   ]
  },
  {
   "cell_type": "code",
   "execution_count": 4,
   "id": "7f69d806",
   "metadata": {
    "execution": {
     "iopub.execute_input": "2021-11-10T00:22:28.574494Z",
     "iopub.status.busy": "2021-11-10T00:22:28.573883Z",
     "iopub.status.idle": "2021-11-10T00:22:28.588369Z",
     "shell.execute_reply": "2021-11-10T00:22:28.588991Z"
    },
    "papermill": {
     "duration": 0.048229,
     "end_time": "2021-11-10T00:22:28.589122",
     "exception": false,
     "start_time": "2021-11-10T00:22:28.540893",
     "status": "completed"
    },
    "tags": []
   },
   "outputs": [],
   "source": [
    "import mnist"
   ]
  },
  {
   "cell_type": "code",
   "execution_count": 5,
   "id": "a411e44f",
   "metadata": {
    "execution": {
     "iopub.execute_input": "2021-11-10T00:22:28.653424Z",
     "iopub.status.busy": "2021-11-10T00:22:28.652799Z",
     "iopub.status.idle": "2021-11-10T00:22:29.251180Z",
     "shell.execute_reply": "2021-11-10T00:22:29.250573Z"
    },
    "papermill": {
     "duration": 0.631463,
     "end_time": "2021-11-10T00:22:29.251320",
     "exception": false,
     "start_time": "2021-11-10T00:22:28.619857",
     "status": "completed"
    },
    "tags": []
   },
   "outputs": [],
   "source": [
    "train_images = mnist.train_images()\n",
    "train_labels = mnist.train_labels()"
   ]
  },
  {
   "cell_type": "code",
   "execution_count": 6,
   "id": "dceab3a5",
   "metadata": {
    "execution": {
     "iopub.execute_input": "2021-11-10T00:22:29.314735Z",
     "iopub.status.busy": "2021-11-10T00:22:29.314130Z",
     "iopub.status.idle": "2021-11-10T00:22:29.331372Z",
     "shell.execute_reply": "2021-11-10T00:22:29.332029Z"
    },
    "papermill": {
     "duration": 0.050835,
     "end_time": "2021-11-10T00:22:29.332209",
     "exception": false,
     "start_time": "2021-11-10T00:22:29.281374",
     "status": "completed"
    },
    "tags": []
   },
   "outputs": [
    {
     "data": {
      "text/plain": [
       "((60000, 28, 28), (60000,))"
      ]
     },
     "execution_count": 6,
     "metadata": {},
     "output_type": "execute_result"
    }
   ],
   "source": [
    "train_images.shape, train_labels.shape"
   ]
  },
  {
   "cell_type": "code",
   "execution_count": 7,
   "id": "f50dc2bb",
   "metadata": {
    "execution": {
     "iopub.execute_input": "2021-11-10T00:22:29.395356Z",
     "iopub.status.busy": "2021-11-10T00:22:29.394599Z",
     "iopub.status.idle": "2021-11-10T00:22:29.557649Z",
     "shell.execute_reply": "2021-11-10T00:22:29.557100Z"
    },
    "papermill": {
     "duration": 0.196279,
     "end_time": "2021-11-10T00:22:29.557789",
     "exception": false,
     "start_time": "2021-11-10T00:22:29.361510",
     "status": "completed"
    },
    "tags": []
   },
   "outputs": [],
   "source": [
    "test_images = mnist.test_images()\n",
    "test_labels = mnist.test_labels()"
   ]
  },
  {
   "cell_type": "code",
   "execution_count": 8,
   "id": "fc38cf1b",
   "metadata": {
    "execution": {
     "iopub.execute_input": "2021-11-10T00:22:29.626407Z",
     "iopub.status.busy": "2021-11-10T00:22:29.625690Z",
     "iopub.status.idle": "2021-11-10T00:22:29.637411Z",
     "shell.execute_reply": "2021-11-10T00:22:29.636871Z"
    },
    "papermill": {
     "duration": 0.049354,
     "end_time": "2021-11-10T00:22:29.637536",
     "exception": false,
     "start_time": "2021-11-10T00:22:29.588182",
     "status": "completed"
    },
    "tags": []
   },
   "outputs": [
    {
     "data": {
      "text/plain": [
       "((10000, 28, 28), (10000,))"
      ]
     },
     "execution_count": 8,
     "metadata": {},
     "output_type": "execute_result"
    }
   ],
   "source": [
    "test_images.shape, test_labels.shape"
   ]
  },
  {
   "cell_type": "code",
   "execution_count": 9,
   "id": "f9ed8fe0",
   "metadata": {
    "execution": {
     "iopub.execute_input": "2021-11-10T00:22:29.706350Z",
     "iopub.status.busy": "2021-11-10T00:22:29.705634Z",
     "iopub.status.idle": "2021-11-10T00:22:29.894834Z",
     "shell.execute_reply": "2021-11-10T00:22:29.894317Z"
    },
    "papermill": {
     "duration": 0.226048,
     "end_time": "2021-11-10T00:22:29.895037",
     "exception": false,
     "start_time": "2021-11-10T00:22:29.668989",
     "status": "completed"
    },
    "tags": []
   },
   "outputs": [
    {
     "name": "stdout",
     "output_type": "stream",
     "text": [
      "2\n"
     ]
    },
    {
     "data": {
      "text/plain": [
       "<matplotlib.image.AxesImage at 0x7f33f0772080>"
      ]
     },
     "execution_count": 9,
     "metadata": {},
     "output_type": "execute_result"
    },
    {
     "data": {
      "image/png": "[encoded data removed]",
      "text/plain": [
       "<Figure size 432x288 with 1 Axes>"
      ]
     },
     "metadata": {
      "needs_background": "light"
     },
     "output_type": "display_data"
    }
   ],
   "source": [
    "image_index = 7776 # You may select anything up to 60,000\n",
    "print(train_labels[image_index]) \n",
    "plt.imshow(train_images[image_index], cmap='Greys')"
   ]
  },
  {
   "cell_type": "markdown",
   "id": "a8d2388d",
   "metadata": {
    "papermill": {
     "duration": 0.033136,
     "end_time": "2021-11-10T00:22:29.962576",
     "exception": false,
     "start_time": "2021-11-10T00:22:29.929440",
     "status": "completed"
    },
    "tags": []
   },
   "source": [
    "## Filter data to get 3 and 8 out"
   ]
  },
  {
   "cell_type": "code",
   "execution_count": 10,
   "id": "776f7fc7",
   "metadata": {
    "execution": {
     "iopub.execute_input": "2021-11-10T00:22:30.036839Z",
     "iopub.status.busy": "2021-11-10T00:22:30.034142Z",
     "iopub.status.idle": "2021-11-10T00:22:30.055104Z",
     "shell.execute_reply": "2021-11-10T00:22:30.054564Z"
    },
    "papermill": {
     "duration": 0.060274,
     "end_time": "2021-11-10T00:22:30.055252",
     "exception": false,
     "start_time": "2021-11-10T00:22:29.994978",
     "status": "completed"
    },
    "tags": []
   },
   "outputs": [],
   "source": [
    "train_filter = np.where((train_labels == 3 ) | (train_labels == 8))\n",
    "test_filter = np.where((test_labels == 3) | (test_labels == 8))\n",
    "X_train, y_train = train_images[train_filter], train_labels[train_filter]\n",
    "X_test, y_test = test_images[test_filter], test_labels[test_filter]"
   ]
  },
  {
   "cell_type": "markdown",
   "id": "948f0b7e",
   "metadata": {
    "papermill": {
     "duration": 0.031542,
     "end_time": "2021-11-10T00:22:30.121988",
     "exception": false,
     "start_time": "2021-11-10T00:22:30.090446",
     "status": "completed"
    },
    "tags": []
   },
   "source": [
    "We normalize the pizel values in the 0 to 1 range"
   ]
  },
  {
   "cell_type": "code",
   "execution_count": 11,
   "id": "ee4c2166",
   "metadata": {
    "execution": {
     "iopub.execute_input": "2021-11-10T00:22:30.193570Z",
     "iopub.status.busy": "2021-11-10T00:22:30.193003Z",
     "iopub.status.idle": "2021-11-10T00:22:30.257147Z",
     "shell.execute_reply": "2021-11-10T00:22:30.256449Z"
    },
    "papermill": {
     "duration": 0.10244,
     "end_time": "2021-11-10T00:22:30.257286",
     "exception": false,
     "start_time": "2021-11-10T00:22:30.154846",
     "status": "completed"
    },
    "tags": []
   },
   "outputs": [],
   "source": [
    "X_train = X_train/255.\n",
    "X_test = X_test/255."
   ]
  },
  {
   "cell_type": "markdown",
   "id": "ddcf4fab",
   "metadata": {
    "papermill": {
     "duration": 0.031185,
     "end_time": "2021-11-10T00:22:30.322004",
     "exception": false,
     "start_time": "2021-11-10T00:22:30.290819",
     "status": "completed"
    },
    "tags": []
   },
   "source": [
    "And setup the labels as 1 (when the digit is 3) and 0 (when the digit is 8)"
   ]
  },
  {
   "cell_type": "code",
   "execution_count": 12,
   "id": "7dc908f2",
   "metadata": {
    "execution": {
     "iopub.execute_input": "2021-11-10T00:22:30.392700Z",
     "iopub.status.busy": "2021-11-10T00:22:30.391955Z",
     "iopub.status.idle": "2021-11-10T00:22:30.405410Z",
     "shell.execute_reply": "2021-11-10T00:22:30.405911Z"
    },
    "papermill": {
     "duration": 0.050596,
     "end_time": "2021-11-10T00:22:30.406043",
     "exception": false,
     "start_time": "2021-11-10T00:22:30.355447",
     "status": "completed"
    },
    "tags": []
   },
   "outputs": [],
   "source": [
    "y_train = 1*(y_train==3)\n",
    "y_test = 1*(y_test==3)"
   ]
  },
  {
   "cell_type": "code",
   "execution_count": 13,
   "id": "01e4e969",
   "metadata": {
    "execution": {
     "iopub.execute_input": "2021-11-10T00:22:30.481042Z",
     "iopub.status.busy": "2021-11-10T00:22:30.480123Z",
     "iopub.status.idle": "2021-11-10T00:22:30.492817Z",
     "shell.execute_reply": "2021-11-10T00:22:30.493289Z"
    },
    "papermill": {
     "duration": 0.052557,
     "end_time": "2021-11-10T00:22:30.493437",
     "exception": false,
     "start_time": "2021-11-10T00:22:30.440880",
     "status": "completed"
    },
    "tags": []
   },
   "outputs": [
    {
     "data": {
      "text/plain": [
       "((11982, 28, 28), (1984, 28, 28))"
      ]
     },
     "execution_count": 13,
     "metadata": {},
     "output_type": "execute_result"
    }
   ],
   "source": [
    "X_train.shape, X_test.shape"
   ]
  },
  {
   "cell_type": "markdown",
   "id": "5ccf3f85",
   "metadata": {
    "papermill": {
     "duration": 0.032642,
     "end_time": "2021-11-10T00:22:30.557501",
     "exception": false,
     "start_time": "2021-11-10T00:22:30.524859",
     "status": "completed"
    },
    "tags": []
   },
   "source": [
    "We reshape the data to flatten the image pixels into a set of features or co-variates:"
   ]
  },
  {
   "cell_type": "code",
   "execution_count": 14,
   "id": "5286a4a3",
   "metadata": {
    "execution": {
     "iopub.execute_input": "2021-11-10T00:22:30.625619Z",
     "iopub.status.busy": "2021-11-10T00:22:30.625033Z",
     "iopub.status.idle": "2021-11-10T00:22:30.639905Z",
     "shell.execute_reply": "2021-11-10T00:22:30.639380Z"
    },
    "papermill": {
     "duration": 0.051215,
     "end_time": "2021-11-10T00:22:30.640023",
     "exception": false,
     "start_time": "2021-11-10T00:22:30.588808",
     "status": "completed"
    },
    "tags": []
   },
   "outputs": [
    {
     "data": {
      "text/plain": [
       "((11982, 784), (1984, 784))"
      ]
     },
     "execution_count": 14,
     "metadata": {},
     "output_type": "execute_result"
    }
   ],
   "source": [
    "X_train = X_train.reshape(X_train.shape[0], -1)\n",
    "X_test = X_test.reshape(X_test.shape[0], -1)\n",
    "X_train.shape, X_test.shape"
   ]
  },
  {
   "cell_type": "code",
   "execution_count": 15,
   "id": "73c5f88a",
   "metadata": {
    "execution": {
     "iopub.execute_input": "2021-11-10T00:22:30.723586Z",
     "iopub.status.busy": "2021-11-10T00:22:30.715855Z",
     "iopub.status.idle": "2021-11-10T00:22:30.733283Z",
     "shell.execute_reply": "2021-11-10T00:22:30.733785Z"
    },
    "papermill": {
     "duration": 0.060589,
     "end_time": "2021-11-10T00:22:30.733930",
     "exception": false,
     "start_time": "2021-11-10T00:22:30.673341",
     "status": "completed"
    },
    "tags": []
   },
   "outputs": [],
   "source": [
    "#Impoting functions from 'Kudzu'\n",
    "from kudzu.model import Model\n",
    "from kudzu.train import Learner\n",
    "from kudzu.optim import GD\n",
    "from kudzu.data import Data, Sampler,Dataloader\n",
    "\n",
    "from kudzu.callbacks import AccCallback\n",
    "from kudzu.callbacks import ClfCallback\n",
    "\n",
    "from kudzu.loss import MSE\n",
    "\n",
    "from kudzu.layer import Sigmoid,Relu\n",
    "from kudzu.layer import Affine"
   ]
  },
  {
   "cell_type": "markdown",
   "id": "bc01172a",
   "metadata": {
    "papermill": {
     "duration": 0.032198,
     "end_time": "2021-11-10T00:22:30.799158",
     "exception": false,
     "start_time": "2021-11-10T00:22:30.766960",
     "status": "completed"
    },
    "tags": []
   },
   "source": [
    "### Let us create a `Config` class, to store important parameters. \n",
    "This class essentially plays the role of a dictionary."
   ]
  },
  {
   "cell_type": "code",
   "execution_count": 16,
   "id": "978281aa",
   "metadata": {
    "execution": {
     "iopub.execute_input": "2021-11-10T00:22:30.870851Z",
     "iopub.status.busy": "2021-11-10T00:22:30.870180Z",
     "iopub.status.idle": "2021-11-10T00:22:30.884120Z",
     "shell.execute_reply": "2021-11-10T00:22:30.883365Z"
    },
    "papermill": {
     "duration": 0.052594,
     "end_time": "2021-11-10T00:22:30.884271",
     "exception": false,
     "start_time": "2021-11-10T00:22:30.831677",
     "status": "completed"
    },
    "tags": []
   },
   "outputs": [],
   "source": [
    "class Config:\n",
    "    pass\n",
    "config = Config()\n",
    "config.lr = 0.001\n",
    "config.num_epochs = 250\n",
    "config.bs = 50"
   ]
  },
  {
   "cell_type": "markdown",
   "id": "1385fa59",
   "metadata": {
    "papermill": {
     "duration": 0.03286,
     "end_time": "2021-11-10T00:22:30.951657",
     "exception": false,
     "start_time": "2021-11-10T00:22:30.918797",
     "status": "completed"
    },
    "tags": []
   },
   "source": [
    "### Running Models with the Training data\n",
    "Details about the network layers:\n",
    "- A first affine layer has 784 inputs and does 100 affine transforms. These are followed by a Relu\n",
    "- A second affine layer has 100 inputs from the 100 activations of the past layer, and does 100 affine transforms. These are followed by a Relu\n",
    "- A third affine layer has 100 activations and does 2 affine transformations to create an embedding for visualization. There is no non-linearity here.\n",
    "- A final \"logistic regression\" which has an affine transform from 2 inputs to 1 output, which is squeezed through a sigmoid.\n"
   ]
  },
  {
   "cell_type": "code",
   "execution_count": 17,
   "id": "2b9c66db",
   "metadata": {
    "execution": {
     "iopub.execute_input": "2021-11-10T00:22:31.020573Z",
     "iopub.status.busy": "2021-11-10T00:22:31.019941Z",
     "iopub.status.idle": "2021-11-10T00:22:31.033515Z",
     "shell.execute_reply": "2021-11-10T00:22:31.033013Z"
    },
    "papermill": {
     "duration": 0.049842,
     "end_time": "2021-11-10T00:22:31.033629",
     "exception": false,
     "start_time": "2021-11-10T00:22:30.983787",
     "status": "completed"
    },
    "tags": []
   },
   "outputs": [],
   "source": [
    "data = Data(X_train, y_train.reshape(-1,1))\n",
    "sampler = Sampler(data, config.bs, shuffle=True)\n",
    "\n",
    "dl = Dataloader(data, sampler)\n",
    "\n",
    "opt = GD(config.lr)\n",
    "loss = MSE()"
   ]
  },
  {
   "cell_type": "code",
   "execution_count": 18,
   "id": "b275e4c2",
   "metadata": {
    "execution": {
     "iopub.execute_input": "2021-11-10T00:22:31.106159Z",
     "iopub.status.busy": "2021-11-10T00:22:31.105442Z",
     "iopub.status.idle": "2021-11-10T00:22:31.118145Z",
     "shell.execute_reply": "2021-11-10T00:22:31.118912Z"
    },
    "papermill": {
     "duration": 0.050819,
     "end_time": "2021-11-10T00:22:31.119144",
     "exception": false,
     "start_time": "2021-11-10T00:22:31.068325",
     "status": "completed"
    },
    "tags": []
   },
   "outputs": [],
   "source": [
    "training_data_x = X_train\n",
    "testing_data_x = X_test\n",
    "training_data_y = y_train.reshape(-1,1)\n",
    "testing_data_y = y_test.reshape(-1,1)"
   ]
  },
  {
   "cell_type": "code",
   "execution_count": 19,
   "id": "76951160",
   "metadata": {
    "execution": {
     "iopub.execute_input": "2021-11-10T00:22:31.188140Z",
     "iopub.status.busy": "2021-11-10T00:22:31.187405Z",
     "iopub.status.idle": "2021-11-10T00:22:31.205893Z",
     "shell.execute_reply": "2021-11-10T00:22:31.205325Z"
    },
    "papermill": {
     "duration": 0.054716,
     "end_time": "2021-11-10T00:22:31.206012",
     "exception": false,
     "start_time": "2021-11-10T00:22:31.151296",
     "status": "completed"
    },
    "tags": []
   },
   "outputs": [
    {
     "name": "stdout",
     "output_type": "stream",
     "text": [
      "xavier\n",
      "xavier\n",
      "xavier\n",
      "xavier\n",
      "xavier\n"
     ]
    }
   ],
   "source": [
    "layers = [Affine(\"first\", 784, 100), Relu(\"first\"), Affine(\"second\", 100, 100), Relu(\"second\"), Affine(\"third\", 100, 2), Affine(\"last\", 2, 1), Sigmoid(\"last\")]\n",
    "model_nn = Model(layers)\n",
    "model_lr = Model([Affine(\"logits\", 784, 1), Sigmoid(\"sigmoid\")])"
   ]
  },
  {
   "cell_type": "code",
   "execution_count": 20,
   "id": "6eede77a",
   "metadata": {
    "execution": {
     "iopub.execute_input": "2021-11-10T00:22:31.280068Z",
     "iopub.status.busy": "2021-11-10T00:22:31.279355Z",
     "iopub.status.idle": "2021-11-10T00:22:31.292477Z",
     "shell.execute_reply": "2021-11-10T00:22:31.292990Z"
    },
    "papermill": {
     "duration": 0.054021,
     "end_time": "2021-11-10T00:22:31.293145",
     "exception": false,
     "start_time": "2021-11-10T00:22:31.239124",
     "status": "completed"
    },
    "tags": []
   },
   "outputs": [],
   "source": [
    "nn_learner = Learner(loss, model_nn, opt, config.num_epochs)\n",
    "acc_nn = ClfCallback(nn_learner, config.bs, training_data_x , testing_data_x, training_data_y, testing_data_y)\n",
    "nn_learner.set_callbacks([acc_nn])"
   ]
  },
  {
   "cell_type": "code",
   "execution_count": 21,
   "id": "877b6cc7",
   "metadata": {
    "execution": {
     "iopub.execute_input": "2021-11-10T00:22:31.365827Z",
     "iopub.status.busy": "2021-11-10T00:22:31.365151Z",
     "iopub.status.idle": "2021-11-10T00:22:31.378241Z",
     "shell.execute_reply": "2021-11-10T00:22:31.377721Z"
    },
    "papermill": {
     "duration": 0.050727,
     "end_time": "2021-11-10T00:22:31.378365",
     "exception": false,
     "start_time": "2021-11-10T00:22:31.327638",
     "status": "completed"
    },
    "tags": []
   },
   "outputs": [],
   "source": [
    "lr_learner = Learner(loss, model_lr, opt, config.num_epochs)\n",
    "acc_lr = ClfCallback(lr_learner, config.bs, training_data_x , testing_data_x, training_data_y, testing_data_y)\n",
    "lr_learner.set_callbacks([acc_lr])"
   ]
  },
  {
   "cell_type": "code",
   "execution_count": 22,
   "id": "d9b133c3",
   "metadata": {
    "execution": {
     "iopub.execute_input": "2021-11-10T00:22:31.448976Z",
     "iopub.status.busy": "2021-11-10T00:22:31.448333Z",
     "iopub.status.idle": "2021-11-10T00:24:55.467298Z",
     "shell.execute_reply": "2021-11-10T00:24:55.466399Z"
    },
    "papermill": {
     "duration": 144.056071,
     "end_time": "2021-11-10T00:24:55.467448",
     "exception": false,
     "start_time": "2021-11-10T00:22:31.411377",
     "status": "completed"
    },
    "tags": []
   },
   "outputs": [
    {
     "name": "stdout",
     "output_type": "stream",
     "text": [
      "Epoch 0, Loss 0.2438\n",
      "Training Accuracy: 0.6678, Testing Accuracy: 0.6704\n",
      "\n"
     ]
    },
    {
     "name": "stdout",
     "output_type": "stream",
     "text": [
      "Epoch 10, Loss 0.0818\n",
      "Training Accuracy: 0.9197, Testing Accuracy: 0.9315\n",
      "\n"
     ]
    },
    {
     "name": "stdout",
     "output_type": "stream",
     "text": [
      "Epoch 20, Loss 0.0524\n",
      "Training Accuracy: 0.9445, Testing Accuracy: 0.9501\n",
      "\n"
     ]
    },
    {
     "name": "stdout",
     "output_type": "stream",
     "text": [
      "Epoch 30, Loss 0.0422\n",
      "Training Accuracy: 0.9532, Testing Accuracy: 0.9567\n",
      "\n"
     ]
    },
    {
     "name": "stdout",
     "output_type": "stream",
     "text": [
      "Epoch 40, Loss 0.0371\n",
      "Training Accuracy: 0.9579, Testing Accuracy: 0.9617\n",
      "\n"
     ]
    },
    {
     "name": "stdout",
     "output_type": "stream",
     "text": [
      "Epoch 50, Loss 0.0338\n",
      "Training Accuracy: 0.9613, Testing Accuracy: 0.9637\n",
      "\n"
     ]
    },
    {
     "name": "stdout",
     "output_type": "stream",
     "text": [
      "Epoch 60, Loss 0.0315\n",
      "Training Accuracy: 0.9634, Testing Accuracy: 0.9652\n",
      "\n"
     ]
    },
    {
     "name": "stdout",
     "output_type": "stream",
     "text": [
      "Epoch 70, Loss 0.0298\n",
      "Training Accuracy: 0.9657, Testing Accuracy: 0.9652\n",
      "\n"
     ]
    },
    {
     "name": "stdout",
     "output_type": "stream",
     "text": [
      "Epoch 80, Loss 0.0284\n",
      "Training Accuracy: 0.9673, Testing Accuracy: 0.9662\n",
      "\n"
     ]
    },
    {
     "name": "stdout",
     "output_type": "stream",
     "text": [
      "Epoch 90, Loss 0.0273\n",
      "Training Accuracy: 0.9681, Testing Accuracy: 0.9662\n",
      "\n"
     ]
    },
    {
     "name": "stdout",
     "output_type": "stream",
     "text": [
      "Epoch 100, Loss 0.0263\n",
      "Training Accuracy: 0.9692, Testing Accuracy: 0.9667\n",
      "\n"
     ]
    },
    {
     "name": "stdout",
     "output_type": "stream",
     "text": [
      "Epoch 110, Loss 0.0254\n",
      "Training Accuracy: 0.9701, Testing Accuracy: 0.9667\n",
      "\n"
     ]
    },
    {
     "name": "stdout",
     "output_type": "stream",
     "text": [
      "Epoch 120, Loss 0.0246\n",
      "Training Accuracy: 0.9719, Testing Accuracy: 0.9667\n",
      "\n"
     ]
    },
    {
     "name": "stdout",
     "output_type": "stream",
     "text": [
      "Epoch 130, Loss 0.0239\n",
      "Training Accuracy: 0.9724, Testing Accuracy: 0.9672\n",
      "\n"
     ]
    },
    {
     "name": "stdout",
     "output_type": "stream",
     "text": [
      "Epoch 140, Loss 0.0233\n",
      "Training Accuracy: 0.9733, Testing Accuracy: 0.9682\n",
      "\n"
     ]
    },
    {
     "name": "stdout",
     "output_type": "stream",
     "text": [
      "Epoch 150, Loss 0.0227\n",
      "Training Accuracy: 0.9736, Testing Accuracy: 0.9693\n",
      "\n"
     ]
    },
    {
     "name": "stdout",
     "output_type": "stream",
     "text": [
      "Epoch 160, Loss 0.0222\n",
      "Training Accuracy: 0.9743, Testing Accuracy: 0.9693\n",
      "\n"
     ]
    },
    {
     "name": "stdout",
     "output_type": "stream",
     "text": [
      "Epoch 170, Loss 0.0216\n",
      "Training Accuracy: 0.9750, Testing Accuracy: 0.9698\n",
      "\n"
     ]
    },
    {
     "name": "stdout",
     "output_type": "stream",
     "text": [
      "Epoch 180, Loss 0.0212\n",
      "Training Accuracy: 0.9755, Testing Accuracy: 0.9693\n",
      "\n"
     ]
    },
    {
     "name": "stdout",
     "output_type": "stream",
     "text": [
      "Epoch 190, Loss 0.0207\n",
      "Training Accuracy: 0.9764, Testing Accuracy: 0.9698\n",
      "\n"
     ]
    },
    {
     "name": "stdout",
     "output_type": "stream",
     "text": [
      "Epoch 200, Loss 0.0203\n",
      "Training Accuracy: 0.9771, Testing Accuracy: 0.9708\n",
      "\n"
     ]
    },
    {
     "name": "stdout",
     "output_type": "stream",
     "text": [
      "Epoch 210, Loss 0.0199\n",
      "Training Accuracy: 0.9781, Testing Accuracy: 0.9703\n",
      "\n"
     ]
    },
    {
     "name": "stdout",
     "output_type": "stream",
     "text": [
      "Epoch 220, Loss 0.0195\n",
      "Training Accuracy: 0.9784, Testing Accuracy: 0.9708\n",
      "\n"
     ]
    },
    {
     "name": "stdout",
     "output_type": "stream",
     "text": [
      "Epoch 230, Loss 0.0191\n",
      "Training Accuracy: 0.9795, Testing Accuracy: 0.9703\n",
      "\n"
     ]
    },
    {
     "name": "stdout",
     "output_type": "stream",
     "text": [
      "Epoch 240, Loss 0.0187\n",
      "Training Accuracy: 0.9796, Testing Accuracy: 0.9708\n",
      "\n"
     ]
    },
    {
     "data": {
      "text/plain": [
       "0.009825043415035921"
      ]
     },
     "execution_count": 22,
     "metadata": {},
     "output_type": "execute_result"
    }
   ],
   "source": [
    "nn_learner.train_loop(dl)"
   ]
  },
  {
   "cell_type": "code",
   "execution_count": 23,
   "id": "e0163366",
   "metadata": {
    "execution": {
     "iopub.execute_input": "2021-11-10T00:24:55.570672Z",
     "iopub.status.busy": "2021-11-10T00:24:55.569943Z",
     "iopub.status.idle": "2021-11-10T00:25:15.993595Z",
     "shell.execute_reply": "2021-11-10T00:25:15.994451Z"
    },
    "papermill": {
     "duration": 20.481017,
     "end_time": "2021-11-10T00:25:15.994653",
     "exception": false,
     "start_time": "2021-11-10T00:24:55.513636",
     "status": "completed"
    },
    "tags": []
   },
   "outputs": [
    {
     "name": "stdout",
     "output_type": "stream",
     "text": [
      "Epoch 0, Loss 0.2582\n",
      "Training Accuracy: 0.6025, Testing Accuracy: 0.6240\n",
      "\n"
     ]
    },
    {
     "name": "stdout",
     "output_type": "stream",
     "text": [
      "Epoch 10, Loss 0.1055\n",
      "Training Accuracy: 0.9004, Testing Accuracy: 0.9098\n",
      "\n"
     ]
    },
    {
     "name": "stdout",
     "output_type": "stream",
     "text": [
      "Epoch 20, Loss 0.0806\n",
      "Training Accuracy: 0.9242, Testing Accuracy: 0.9325\n",
      "\n"
     ]
    },
    {
     "name": "stdout",
     "output_type": "stream",
     "text": [
      "Epoch 30, Loss 0.0692\n",
      "Training Accuracy: 0.9340, Testing Accuracy: 0.9430\n",
      "\n"
     ]
    },
    {
     "name": "stdout",
     "output_type": "stream",
     "text": [
      "Epoch 40, Loss 0.0623\n",
      "Training Accuracy: 0.9402, Testing Accuracy: 0.9501\n",
      "\n"
     ]
    },
    {
     "name": "stdout",
     "output_type": "stream",
     "text": [
      "Epoch 50, Loss 0.0577\n",
      "Training Accuracy: 0.9438, Testing Accuracy: 0.9561\n",
      "\n"
     ]
    },
    {
     "name": "stdout",
     "output_type": "stream",
     "text": [
      "Epoch 60, Loss 0.0543\n",
      "Training Accuracy: 0.9459, Testing Accuracy: 0.9587\n",
      "\n"
     ]
    },
    {
     "name": "stdout",
     "output_type": "stream",
     "text": [
      "Epoch 70, Loss 0.0517\n",
      "Training Accuracy: 0.9484, Testing Accuracy: 0.9602\n",
      "\n"
     ]
    },
    {
     "name": "stdout",
     "output_type": "stream",
     "text": [
      "Epoch 80, Loss 0.0496\n",
      "Training Accuracy: 0.9498, Testing Accuracy: 0.9607\n",
      "\n"
     ]
    },
    {
     "name": "stdout",
     "output_type": "stream",
     "text": [
      "Epoch 90, Loss 0.0479\n",
      "Training Accuracy: 0.9510, Testing Accuracy: 0.9612\n",
      "\n"
     ]
    },
    {
     "name": "stdout",
     "output_type": "stream",
     "text": [
      "Epoch 100, Loss 0.0464\n",
      "Training Accuracy: 0.9526, Testing Accuracy: 0.9622\n",
      "\n"
     ]
    },
    {
     "name": "stdout",
     "output_type": "stream",
     "text": [
      "Epoch 110, Loss 0.0452\n",
      "Training Accuracy: 0.9539, Testing Accuracy: 0.9632\n",
      "\n"
     ]
    },
    {
     "name": "stdout",
     "output_type": "stream",
     "text": [
      "Epoch 120, Loss 0.0441\n",
      "Training Accuracy: 0.9550, Testing Accuracy: 0.9637\n",
      "\n"
     ]
    },
    {
     "name": "stdout",
     "output_type": "stream",
     "text": [
      "Epoch 130, Loss 0.0432\n",
      "Training Accuracy: 0.9560, Testing Accuracy: 0.9637\n",
      "\n"
     ]
    },
    {
     "name": "stdout",
     "output_type": "stream",
     "text": [
      "Epoch 140, Loss 0.0423\n",
      "Training Accuracy: 0.9566, Testing Accuracy: 0.9642\n",
      "\n"
     ]
    },
    {
     "name": "stdout",
     "output_type": "stream",
     "text": [
      "Epoch 150, Loss 0.0416\n",
      "Training Accuracy: 0.9572, Testing Accuracy: 0.9647\n",
      "\n"
     ]
    },
    {
     "name": "stdout",
     "output_type": "stream",
     "text": [
      "Epoch 160, Loss 0.0409\n",
      "Training Accuracy: 0.9580, Testing Accuracy: 0.9652\n",
      "\n"
     ]
    },
    {
     "name": "stdout",
     "output_type": "stream",
     "text": [
      "Epoch 170, Loss 0.0403\n",
      "Training Accuracy: 0.9584, Testing Accuracy: 0.9652\n",
      "\n"
     ]
    },
    {
     "name": "stdout",
     "output_type": "stream",
     "text": [
      "Epoch 180, Loss 0.0397\n",
      "Training Accuracy: 0.9587, Testing Accuracy: 0.9657\n",
      "\n"
     ]
    },
    {
     "name": "stdout",
     "output_type": "stream",
     "text": [
      "Epoch 190, Loss 0.0392\n",
      "Training Accuracy: 0.9589, Testing Accuracy: 0.9657\n",
      "\n"
     ]
    },
    {
     "name": "stdout",
     "output_type": "stream",
     "text": [
      "Epoch 200, Loss 0.0387\n",
      "Training Accuracy: 0.9593, Testing Accuracy: 0.9657\n",
      "\n"
     ]
    },
    {
     "name": "stdout",
     "output_type": "stream",
     "text": [
      "Epoch 210, Loss 0.0382\n",
      "Training Accuracy: 0.9596, Testing Accuracy: 0.9657\n",
      "\n"
     ]
    },
    {
     "name": "stdout",
     "output_type": "stream",
     "text": [
      "Epoch 220, Loss 0.0378\n",
      "Training Accuracy: 0.9599, Testing Accuracy: 0.9657\n",
      "\n"
     ]
    },
    {
     "name": "stdout",
     "output_type": "stream",
     "text": [
      "Epoch 230, Loss 0.0374\n",
      "Training Accuracy: 0.9599, Testing Accuracy: 0.9672\n",
      "\n"
     ]
    },
    {
     "name": "stdout",
     "output_type": "stream",
     "text": [
      "Epoch 240, Loss 0.0371\n",
      "Training Accuracy: 0.9599, Testing Accuracy: 0.9672\n",
      "\n"
     ]
    },
    {
     "data": {
      "text/plain": [
       "0.12508037147398834"
      ]
     },
     "execution_count": 23,
     "metadata": {},
     "output_type": "execute_result"
    }
   ],
   "source": [
    "lr_learner.train_loop(dl)"
   ]
  },
  {
   "cell_type": "code",
   "execution_count": 24,
   "id": "ca410940",
   "metadata": {
    "execution": {
     "iopub.execute_input": "2021-11-10T00:25:16.116989Z",
     "iopub.status.busy": "2021-11-10T00:25:16.116383Z",
     "iopub.status.idle": "2021-11-10T00:25:16.430834Z",
     "shell.execute_reply": "2021-11-10T00:25:16.431360Z"
    },
    "papermill": {
     "duration": 0.382823,
     "end_time": "2021-11-10T00:25:16.431575",
     "exception": false,
     "start_time": "2021-11-10T00:25:16.048752",
     "status": "completed"
    },
    "tags": []
   },
   "outputs": [
    {
     "data": {
      "text/plain": [
       "<matplotlib.legend.Legend at 0x7f33f02d1748>"
      ]
     },
     "execution_count": 24,
     "metadata": {},
     "output_type": "execute_result"
    },
    {
     "data": {
      "image/png": "[encoded data removed]",
      "text/plain": [
       "<Figure size 1080x720 with 1 Axes>"
      ]
     },
     "metadata": {
      "needs_background": "light"
     },
     "output_type": "display_data"
    }
   ],
   "source": [
    "#comparing the results of NN and LR\n",
    "plt.figure(figsize=(15,10))\n",
    "\n",
    "# Neural Network plots\n",
    "plt.plot(acc_nn.accuracies, 'r-', label = \"Training Accuracies - NN\")\n",
    "plt.plot(acc_nn.test_accuracies, 'g-', label = \"Testing Accuracies - NN\")\n",
    "\n",
    "# Logistic Regression plots\n",
    "plt.plot(acc_lr.accuracies, 'k-', label = \"Training Accuracies - LR\")\n",
    "plt.plot(acc_lr.test_accuracies, 'b-', label = \"Testing Accuracies - LR\")\n",
    "plt.legend()"
   ]
  },
  {
   "cell_type": "markdown",
   "id": "80dfb35c",
   "metadata": {
    "papermill": {
     "duration": 0.048965,
     "end_time": "2021-11-10T00:25:16.531021",
     "exception": false,
     "start_time": "2021-11-10T00:25:16.482056",
     "status": "completed"
    },
    "tags": []
   },
   "source": [
    "#### Plotting the outputs of this layer of the NN.\n"
   ]
  },
  {
   "cell_type": "code",
   "execution_count": 25,
   "id": "45eb2ff5",
   "metadata": {
    "execution": {
     "iopub.execute_input": "2021-11-10T00:25:16.637987Z",
     "iopub.status.busy": "2021-11-10T00:25:16.636193Z",
     "iopub.status.idle": "2021-11-10T00:25:16.664738Z",
     "shell.execute_reply": "2021-11-10T00:25:16.665260Z"
    },
    "papermill": {
     "duration": 0.084101,
     "end_time": "2021-11-10T00:25:16.665444",
     "exception": false,
     "start_time": "2021-11-10T00:25:16.581343",
     "status": "completed"
    },
    "tags": []
   },
   "outputs": [],
   "source": [
    "new_model = Model(layers[:-2])\n",
    "testing_plot = new_model(testing_data_x)"
   ]
  },
  {
   "cell_type": "code",
   "execution_count": 26,
   "id": "4c0a5485",
   "metadata": {
    "execution": {
     "iopub.execute_input": "2021-11-10T00:25:16.773391Z",
     "iopub.status.busy": "2021-11-10T00:25:16.772754Z",
     "iopub.status.idle": "2021-11-10T00:25:17.034409Z",
     "shell.execute_reply": "2021-11-10T00:25:17.034883Z"
    },
    "papermill": {
     "duration": 0.317309,
     "end_time": "2021-11-10T00:25:17.035053",
     "exception": false,
     "start_time": "2021-11-10T00:25:16.717744",
     "status": "completed"
    },
    "tags": []
   },
   "outputs": [
    {
     "data": {
      "text/plain": [
       "Text(0.5, 1.0, 'Outputs')"
      ]
     },
     "execution_count": 26,
     "metadata": {},
     "output_type": "execute_result"
    },
    {
     "data": {
      "image/png": "[encoded data removed]",
      "text/plain": [
       "<Figure size 576x504 with 1 Axes>"
      ]
     },
     "metadata": {
      "needs_background": "light"
     },
     "output_type": "display_data"
    }
   ],
   "source": [
    "# Plotting the scatter plot of points and color coding by class\n",
    "plt.figure(figsize=(8,7))\n",
    "plt.scatter(testing_plot[:,0], testing_plot[:,1], alpha = 0.1, c = y_test.ravel());\n",
    "plt.title('Outputs')"
   ]
  },
  {
   "cell_type": "markdown",
   "id": "a74fcf8f",
   "metadata": {
    "papermill": {
     "duration": 0.051169,
     "end_time": "2021-11-10T00:25:17.140748",
     "exception": false,
     "start_time": "2021-11-10T00:25:17.089579",
     "status": "completed"
    },
    "tags": []
   },
   "source": [
    "Probability contours"
   ]
  },
  {
   "cell_type": "code",
   "execution_count": 27,
   "id": "d0afc8e3",
   "metadata": {
    "execution": {
     "iopub.execute_input": "2021-11-10T00:25:17.269999Z",
     "iopub.status.busy": "2021-11-10T00:25:17.269298Z",
     "iopub.status.idle": "2021-11-10T00:25:17.283241Z",
     "shell.execute_reply": "2021-11-10T00:25:17.283862Z"
    },
    "papermill": {
     "duration": 0.070613,
     "end_time": "2021-11-10T00:25:17.283991",
     "exception": false,
     "start_time": "2021-11-10T00:25:17.213378",
     "status": "completed"
    },
    "tags": []
   },
   "outputs": [],
   "source": [
    "model_prob = Model(layers[-2:]) "
   ]
  },
  {
   "cell_type": "code",
   "execution_count": 28,
   "id": "9b96e238",
   "metadata": {
    "execution": {
     "iopub.execute_input": "2021-11-10T00:25:17.395834Z",
     "iopub.status.busy": "2021-11-10T00:25:17.395142Z",
     "iopub.status.idle": "2021-11-10T00:25:17.411035Z",
     "shell.execute_reply": "2021-11-10T00:25:17.411655Z"
    },
    "papermill": {
     "duration": 0.074235,
     "end_time": "2021-11-10T00:25:17.411789",
     "exception": false,
     "start_time": "2021-11-10T00:25:17.337554",
     "status": "completed"
    },
    "tags": []
   },
   "outputs": [],
   "source": [
    "#creating the x and y ranges according to the above generated plot.\n",
    "x_range = np.linspace(-4, 1, 100) \n",
    "y_range = np.linspace(-6, 6, 100) \n",
    "x_grid, y_grid = np.meshgrid(x_range, y_range) # x_grid and y_grig are of size 100 X 100\n",
    "\n",
    "# converting x_grid and y_grid to continuous arrays\n",
    "x_gridflat = np.ravel(x_grid)\n",
    "y_gridflat = np.ravel(y_grid)\n",
    "\n",
    "# The last layer of the current model takes two columns as input. Hence transpose of np.vstack() is required.\n",
    "X = np.vstack((x_gridflat, y_gridflat)).T\n",
    "\n",
    "prob_contour = model_prob(X).reshape(100,100) "
   ]
  },
  {
   "cell_type": "code",
   "execution_count": 29,
   "id": "da72499a",
   "metadata": {
    "execution": {
     "iopub.execute_input": "2021-11-10T00:25:17.525733Z",
     "iopub.status.busy": "2021-11-10T00:25:17.525063Z",
     "iopub.status.idle": "2021-11-10T00:25:17.850245Z",
     "shell.execute_reply": "2021-11-10T00:25:17.850873Z"
    },
    "papermill": {
     "duration": 0.384486,
     "end_time": "2021-11-10T00:25:17.851077",
     "exception": false,
     "start_time": "2021-11-10T00:25:17.466591",
     "status": "completed"
    },
    "tags": []
   },
   "outputs": [
    {
     "data": {
      "image/png": "[encoded data removed]",
      "text/plain": [
       "<Figure size 720x648 with 1 Axes>"
      ]
     },
     "metadata": {
      "needs_background": "light"
     },
     "output_type": "display_data"
    }
   ],
   "source": [
    "plt.figure(figsize=(10,9))\n",
    "plt.scatter(testing_plot[:,0], testing_plot[:,1], alpha = 0.1, c = y_test.ravel())\n",
    "contours = plt.contour(x_grid,y_grid,prob_contour)\n",
    "plt.title('Probability Contours')\n",
    "plt.clabel(contours, inline = True );"
   ]
  },
  {
   "cell_type": "code",
   "execution_count": null,
   "id": "e81b4ac7",
   "metadata": {
    "papermill": {
     "duration": 0.053876,
     "end_time": "2021-11-10T00:25:17.962272",
     "exception": false,
     "start_time": "2021-11-10T00:25:17.908396",
     "status": "completed"
    },
    "tags": []
   },
   "outputs": [],
   "source": []
  }
 ],
 "metadata": {
  "kernelspec": {
   "display_name": "Python 3",
   "language": "python",
   "name": "python3"
  },
  "language_info": {
   "codemirror_mode": {
    "name": "ipython",
    "version": 3
   },
   "file_extension": ".py",
   "mimetype": "text/x-python",
   "name": "python",
   "nbconvert_exporter": "python",
   "pygments_lexer": "ipython3",
   "version": "3.6.15"
  },
  "papermill": {
   "default_parameters": {},
   "duration": 174.0509,
   "end_time": "2021-11-10T00:25:18.430157",
   "environment_variables": {},
   "exception": null,
   "input_path": "2020-08-11-part2.ipynb",
   "output_path": "2020-08-11-part2.ipynb",
   "parameters": {},
   "start_time": "2021-11-10T00:22:24.379257",
   "version": "2.3.3"
  }
 },
 "nbformat": 4,
 "nbformat_minor": 5
}