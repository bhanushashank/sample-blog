{
 "cells": [
  {
   "cell_type": "markdown",
   "id": "98380cd3",
   "metadata": {
    "papermill": {
     "duration": 0.030789,
     "end_time": "2022-10-26T00:45:03.282995",
     "exception": false,
     "start_time": "2022-10-26T00:45:03.252206",
     "status": "completed"
    },
    "tags": []
   },
   "source": [
    "# Distinguish Your Own Digits (DYOD)"
   ]
  },
  {
   "cell_type": "markdown",
   "id": "ef31240d",
   "metadata": {
    "papermill": {
     "duration": 0.024439,
     "end_time": "2022-10-26T00:45:03.338115",
     "exception": false,
     "start_time": "2022-10-26T00:45:03.313676",
     "status": "completed"
    },
    "tags": []
   },
   "source": [
    "You are going to write a classifier that distinguishes between the number 3 and number 8."
   ]
  },
  {
   "cell_type": "code",
   "execution_count": 1,
   "id": "b15c8646",
   "metadata": {
    "execution": {
     "iopub.execute_input": "2022-10-26T00:45:03.398844Z",
     "iopub.status.busy": "2022-10-26T00:45:03.398189Z",
     "iopub.status.idle": "2022-10-26T00:45:03.411615Z",
     "shell.execute_reply": "2022-10-26T00:45:03.411082Z"
    },
    "papermill": {
     "duration": 0.049455,
     "end_time": "2022-10-26T00:45:03.411755",
     "exception": false,
     "start_time": "2022-10-26T00:45:03.362300",
     "status": "completed"
    },
    "tags": []
   },
   "outputs": [],
   "source": [
    "%load_ext autoreload\n",
    "%autoreload 2"
   ]
  },
  {
   "cell_type": "code",
   "execution_count": 2,
   "id": "22ef38dc",
   "metadata": {
    "execution": {
     "iopub.execute_input": "2022-10-26T00:45:03.483499Z",
     "iopub.status.busy": "2022-10-26T00:45:03.474387Z",
     "iopub.status.idle": "2022-10-26T00:45:04.039849Z",
     "shell.execute_reply": "2022-10-26T00:45:04.040695Z"
    },
    "papermill": {
     "duration": 0.604711,
     "end_time": "2022-10-26T00:45:04.040859",
     "exception": false,
     "start_time": "2022-10-26T00:45:03.436148",
     "status": "completed"
    },
    "tags": []
   },
   "outputs": [],
   "source": [
    "%matplotlib inline\n",
    "import numpy as np\n",
    "import matplotlib.pyplot as plt\n",
    "import pandas as pd"
   ]
  },
  {
   "cell_type": "markdown",
   "id": "ba036198",
   "metadata": {
    "papermill": {
     "duration": 0.024279,
     "end_time": "2022-10-26T00:45:04.089604",
     "exception": false,
     "start_time": "2022-10-26T00:45:04.065325",
     "status": "completed"
    },
    "tags": []
   },
   "source": [
    "From the command line run `pip install mnist`. This is a library that will help you bring down the mnist dataset. If you run this from a notebook, you need to put  `!pip install mnist` in a cell by itself."
   ]
  },
  {
   "cell_type": "code",
   "execution_count": 3,
   "id": "bb6ad8a1",
   "metadata": {
    "execution": {
     "iopub.execute_input": "2022-10-26T00:45:04.146341Z",
     "iopub.status.busy": "2022-10-26T00:45:04.143891Z",
     "iopub.status.idle": "2022-10-26T00:45:05.751845Z",
     "shell.execute_reply": "2022-10-26T00:45:05.750343Z"
    },
    "papermill": {
     "duration": 1.638345,
     "end_time": "2022-10-26T00:45:05.751998",
     "exception": false,
     "start_time": "2022-10-26T00:45:04.113653",
     "status": "completed"
    },
    "tags": []
   },
   "outputs": [
    {
     "name": "stdout",
     "output_type": "stream",
     "text": [
      "Collecting mnist\r\n",
      "  Downloading mnist-0.2.2-py2.py3-none-any.whl (3.5 kB)\r\n",
      "Requirement already satisfied: numpy in /opt/hostedtoolcache/Python/3.6.15/x64/lib/python3.6/site-packages (from mnist) (1.19.5)\r\n"
     ]
    },
    {
     "name": "stdout",
     "output_type": "stream",
     "text": [
      "Installing collected packages: mnist\r\n"
     ]
    },
    {
     "name": "stdout",
     "output_type": "stream",
     "text": [
      "Successfully installed mnist-0.2.2\r\n"
     ]
    }
   ],
   "source": [
    "!pip install mnist"
   ]
  },
  {
   "cell_type": "markdown",
   "id": "69df9c9a",
   "metadata": {
    "papermill": {
     "duration": 0.025002,
     "end_time": "2022-10-26T00:45:05.803256",
     "exception": false,
     "start_time": "2022-10-26T00:45:05.778254",
     "status": "completed"
    },
    "tags": []
   },
   "source": [
    "## Preparing the Data"
   ]
  },
  {
   "cell_type": "code",
   "execution_count": 4,
   "id": "7f69d806",
   "metadata": {
    "execution": {
     "iopub.execute_input": "2022-10-26T00:45:05.857931Z",
     "iopub.status.busy": "2022-10-26T00:45:05.857264Z",
     "iopub.status.idle": "2022-10-26T00:45:05.873286Z",
     "shell.execute_reply": "2022-10-26T00:45:05.872776Z"
    },
    "papermill": {
     "duration": 0.045279,
     "end_time": "2022-10-26T00:45:05.873408",
     "exception": false,
     "start_time": "2022-10-26T00:45:05.828129",
     "status": "completed"
    },
    "tags": []
   },
   "outputs": [],
   "source": [
    "import mnist"
   ]
  },
  {
   "cell_type": "code",
   "execution_count": 5,
   "id": "a411e44f",
   "metadata": {
    "execution": {
     "iopub.execute_input": "2022-10-26T00:45:05.944920Z",
     "iopub.status.busy": "2022-10-26T00:45:05.944298Z",
     "iopub.status.idle": "2022-10-26T00:45:06.520578Z",
     "shell.execute_reply": "2022-10-26T00:45:06.519620Z"
    },
    "papermill": {
     "duration": 0.622204,
     "end_time": "2022-10-26T00:45:06.520723",
     "exception": false,
     "start_time": "2022-10-26T00:45:05.898519",
     "status": "completed"
    },
    "tags": []
   },
   "outputs": [],
   "source": [
    "train_images = mnist.train_images()\n",
    "train_labels = mnist.train_labels()"
   ]
  },
  {
   "cell_type": "code",
   "execution_count": 6,
   "id": "dceab3a5",
   "metadata": {
    "execution": {
     "iopub.execute_input": "2022-10-26T00:45:06.587308Z",
     "iopub.status.busy": "2022-10-26T00:45:06.576424Z",
     "iopub.status.idle": "2022-10-26T00:45:06.595672Z",
     "shell.execute_reply": "2022-10-26T00:45:06.596129Z"
    },
    "papermill": {
     "duration": 0.050102,
     "end_time": "2022-10-26T00:45:06.596271",
     "exception": false,
     "start_time": "2022-10-26T00:45:06.546169",
     "status": "completed"
    },
    "tags": []
   },
   "outputs": [
    {
     "data": {
      "text/plain": [
       "((60000, 28, 28), (60000,))"
      ]
     },
     "execution_count": 6,
     "metadata": {},
     "output_type": "execute_result"
    }
   ],
   "source": [
    "train_images.shape, train_labels.shape"
   ]
  },
  {
   "cell_type": "code",
   "execution_count": 7,
   "id": "f50dc2bb",
   "metadata": {
    "execution": {
     "iopub.execute_input": "2022-10-26T00:45:06.651280Z",
     "iopub.status.busy": "2022-10-26T00:45:06.650694Z",
     "iopub.status.idle": "2022-10-26T00:45:06.777070Z",
     "shell.execute_reply": "2022-10-26T00:45:06.776451Z"
    },
    "papermill": {
     "duration": 0.155655,
     "end_time": "2022-10-26T00:45:06.777211",
     "exception": false,
     "start_time": "2022-10-26T00:45:06.621556",
     "status": "completed"
    },
    "tags": []
   },
   "outputs": [],
   "source": [
    "test_images = mnist.test_images()\n",
    "test_labels = mnist.test_labels()"
   ]
  },
  {
   "cell_type": "code",
   "execution_count": 8,
   "id": "fc38cf1b",
   "metadata": {
    "execution": {
     "iopub.execute_input": "2022-10-26T00:45:06.833189Z",
     "iopub.status.busy": "2022-10-26T00:45:06.832596Z",
     "iopub.status.idle": "2022-10-26T00:45:06.846940Z",
     "shell.execute_reply": "2022-10-26T00:45:06.847368Z"
    },
    "papermill": {
     "duration": 0.043916,
     "end_time": "2022-10-26T00:45:06.847509",
     "exception": false,
     "start_time": "2022-10-26T00:45:06.803593",
     "status": "completed"
    },
    "tags": []
   },
   "outputs": [
    {
     "data": {
      "text/plain": [
       "((10000, 28, 28), (10000,))"
      ]
     },
     "execution_count": 8,
     "metadata": {},
     "output_type": "execute_result"
    }
   ],
   "source": [
    "test_images.shape, test_labels.shape"
   ]
  },
  {
   "cell_type": "code",
   "execution_count": 9,
   "id": "f9ed8fe0",
   "metadata": {
    "execution": {
     "iopub.execute_input": "2022-10-26T00:45:06.907854Z",
     "iopub.status.busy": "2022-10-26T00:45:06.906645Z",
     "iopub.status.idle": "2022-10-26T00:45:07.045691Z",
     "shell.execute_reply": "2022-10-26T00:45:07.046166Z"
    },
    "papermill": {
     "duration": 0.173362,
     "end_time": "2022-10-26T00:45:07.046311",
     "exception": false,
     "start_time": "2022-10-26T00:45:06.872949",
     "status": "completed"
    },
    "tags": []
   },
   "outputs": [
    {
     "name": "stdout",
     "output_type": "stream",
     "text": [
      "2\n"
     ]
    },
    {
     "data": {
      "text/plain": [
       "<matplotlib.image.AxesImage at 0x7fb16f86acf8>"
      ]
     },
     "execution_count": 9,
     "metadata": {},
     "output_type": "execute_result"
    },
    {
     "data": {
      "image/png": "[encoded data removed]",
      "text/plain": [
       "<Figure size 432x288 with 1 Axes>"
      ]
     },
     "metadata": {
      "needs_background": "light"
     },
     "output_type": "display_data"
    }
   ],
   "source": [
    "image_index = 7776 # You may select anything up to 60,000\n",
    "print(train_labels[image_index]) \n",
    "plt.imshow(train_images[image_index], cmap='Greys')"
   ]
  },
  {
   "cell_type": "markdown",
   "id": "a8d2388d",
   "metadata": {
    "papermill": {
     "duration": 0.026712,
     "end_time": "2022-10-26T00:45:07.099824",
     "exception": false,
     "start_time": "2022-10-26T00:45:07.073112",
     "status": "completed"
    },
    "tags": []
   },
   "source": [
    "## Filter data to get 3 and 8 out"
   ]
  },
  {
   "cell_type": "code",
   "execution_count": 10,
   "id": "776f7fc7",
   "metadata": {
    "execution": {
     "iopub.execute_input": "2022-10-26T00:45:07.158925Z",
     "iopub.status.busy": "2022-10-26T00:45:07.158260Z",
     "iopub.status.idle": "2022-10-26T00:45:07.179036Z",
     "shell.execute_reply": "2022-10-26T00:45:07.178504Z"
    },
    "papermill": {
     "duration": 0.052552,
     "end_time": "2022-10-26T00:45:07.179172",
     "exception": false,
     "start_time": "2022-10-26T00:45:07.126620",
     "status": "completed"
    },
    "tags": []
   },
   "outputs": [],
   "source": [
    "train_filter = np.where((train_labels == 3 ) | (train_labels == 8))\n",
    "test_filter = np.where((test_labels == 3) | (test_labels == 8))\n",
    "X_train, y_train = train_images[train_filter], train_labels[train_filter]\n",
    "X_test, y_test = test_images[test_filter], test_labels[test_filter]"
   ]
  },
  {
   "cell_type": "markdown",
   "id": "948f0b7e",
   "metadata": {
    "papermill": {
     "duration": 0.026269,
     "end_time": "2022-10-26T00:45:07.232065",
     "exception": false,
     "start_time": "2022-10-26T00:45:07.205796",
     "status": "completed"
    },
    "tags": []
   },
   "source": [
    "We normalize the pizel values in the 0 to 1 range"
   ]
  },
  {
   "cell_type": "code",
   "execution_count": 11,
   "id": "ee4c2166",
   "metadata": {
    "execution": {
     "iopub.execute_input": "2022-10-26T00:45:07.290055Z",
     "iopub.status.busy": "2022-10-26T00:45:07.289393Z",
     "iopub.status.idle": "2022-10-26T00:45:07.338728Z",
     "shell.execute_reply": "2022-10-26T00:45:07.338110Z"
    },
    "papermill": {
     "duration": 0.080229,
     "end_time": "2022-10-26T00:45:07.338872",
     "exception": false,
     "start_time": "2022-10-26T00:45:07.258643",
     "status": "completed"
    },
    "tags": []
   },
   "outputs": [],
   "source": [
    "X_train = X_train/255.\n",
    "X_test = X_test/255."
   ]
  },
  {
   "cell_type": "markdown",
   "id": "ddcf4fab",
   "metadata": {
    "papermill": {
     "duration": 0.026794,
     "end_time": "2022-10-26T00:45:07.392663",
     "exception": false,
     "start_time": "2022-10-26T00:45:07.365869",
     "status": "completed"
    },
    "tags": []
   },
   "source": [
    "And setup the labels as 1 (when the digit is 3) and 0 (when the digit is 8)"
   ]
  },
  {
   "cell_type": "code",
   "execution_count": 12,
   "id": "7dc908f2",
   "metadata": {
    "execution": {
     "iopub.execute_input": "2022-10-26T00:45:07.454512Z",
     "iopub.status.busy": "2022-10-26T00:45:07.453893Z",
     "iopub.status.idle": "2022-10-26T00:45:07.463928Z",
     "shell.execute_reply": "2022-10-26T00:45:07.463434Z"
    },
    "papermill": {
     "duration": 0.044632,
     "end_time": "2022-10-26T00:45:07.464044",
     "exception": false,
     "start_time": "2022-10-26T00:45:07.419412",
     "status": "completed"
    },
    "tags": []
   },
   "outputs": [],
   "source": [
    "y_train = 1*(y_train==3)\n",
    "y_test = 1*(y_test==3)"
   ]
  },
  {
   "cell_type": "code",
   "execution_count": 13,
   "id": "01e4e969",
   "metadata": {
    "execution": {
     "iopub.execute_input": "2022-10-26T00:45:07.521832Z",
     "iopub.status.busy": "2022-10-26T00:45:07.521209Z",
     "iopub.status.idle": "2022-10-26T00:45:07.534945Z",
     "shell.execute_reply": "2022-10-26T00:45:07.534358Z"
    },
    "papermill": {
     "duration": 0.044249,
     "end_time": "2022-10-26T00:45:07.535069",
     "exception": false,
     "start_time": "2022-10-26T00:45:07.490820",
     "status": "completed"
    },
    "tags": []
   },
   "outputs": [
    {
     "data": {
      "text/plain": [
       "((11982, 28, 28), (1984, 28, 28))"
      ]
     },
     "execution_count": 13,
     "metadata": {},
     "output_type": "execute_result"
    }
   ],
   "source": [
    "X_train.shape, X_test.shape"
   ]
  },
  {
   "cell_type": "markdown",
   "id": "5ccf3f85",
   "metadata": {
    "papermill": {
     "duration": 0.026858,
     "end_time": "2022-10-26T00:45:07.588905",
     "exception": false,
     "start_time": "2022-10-26T00:45:07.562047",
     "status": "completed"
    },
    "tags": []
   },
   "source": [
    "We reshape the data to flatten the image pixels into a set of features or co-variates:"
   ]
  },
  {
   "cell_type": "code",
   "execution_count": 14,
   "id": "5286a4a3",
   "metadata": {
    "execution": {
     "iopub.execute_input": "2022-10-26T00:45:07.660480Z",
     "iopub.status.busy": "2022-10-26T00:45:07.659848Z",
     "iopub.status.idle": "2022-10-26T00:45:07.662954Z",
     "shell.execute_reply": "2022-10-26T00:45:07.663413Z"
    },
    "papermill": {
     "duration": 0.047601,
     "end_time": "2022-10-26T00:45:07.663556",
     "exception": false,
     "start_time": "2022-10-26T00:45:07.615955",
     "status": "completed"
    },
    "tags": []
   },
   "outputs": [
    {
     "data": {
      "text/plain": [
       "((11982, 784), (1984, 784))"
      ]
     },
     "execution_count": 14,
     "metadata": {},
     "output_type": "execute_result"
    }
   ],
   "source": [
    "X_train = X_train.reshape(X_train.shape[0], -1)\n",
    "X_test = X_test.reshape(X_test.shape[0], -1)\n",
    "X_train.shape, X_test.shape"
   ]
  },
  {
   "cell_type": "code",
   "execution_count": 15,
   "id": "73c5f88a",
   "metadata": {
    "execution": {
     "iopub.execute_input": "2022-10-26T00:45:07.726303Z",
     "iopub.status.busy": "2022-10-26T00:45:07.721855Z",
     "iopub.status.idle": "2022-10-26T00:45:07.741586Z",
     "shell.execute_reply": "2022-10-26T00:45:07.741088Z"
    },
    "papermill": {
     "duration": 0.051112,
     "end_time": "2022-10-26T00:45:07.741712",
     "exception": false,
     "start_time": "2022-10-26T00:45:07.690600",
     "status": "completed"
    },
    "tags": []
   },
   "outputs": [],
   "source": [
    "#Impoting functions from 'Kudzu'\n",
    "from kudzu.model import Model\n",
    "from kudzu.train import Learner\n",
    "from kudzu.optim import GD\n",
    "from kudzu.data import Data, Sampler,Dataloader\n",
    "\n",
    "from kudzu.callbacks import AccCallback\n",
    "from kudzu.callbacks import ClfCallback\n",
    "\n",
    "from kudzu.loss import MSE\n",
    "\n",
    "from kudzu.layer import Sigmoid,Relu\n",
    "from kudzu.layer import Affine"
   ]
  },
  {
   "cell_type": "markdown",
   "id": "bc01172a",
   "metadata": {
    "papermill": {
     "duration": 0.026832,
     "end_time": "2022-10-26T00:45:07.795648",
     "exception": false,
     "start_time": "2022-10-26T00:45:07.768816",
     "status": "completed"
    },
    "tags": []
   },
   "source": [
    "### Let us create a `Config` class, to store important parameters. \n",
    "This class essentially plays the role of a dictionary."
   ]
  },
  {
   "cell_type": "code",
   "execution_count": 16,
   "id": "978281aa",
   "metadata": {
    "execution": {
     "iopub.execute_input": "2022-10-26T00:45:07.860065Z",
     "iopub.status.busy": "2022-10-26T00:45:07.859433Z",
     "iopub.status.idle": "2022-10-26T00:45:07.869551Z",
     "shell.execute_reply": "2022-10-26T00:45:07.870279Z"
    },
    "papermill": {
     "duration": 0.048062,
     "end_time": "2022-10-26T00:45:07.870425",
     "exception": false,
     "start_time": "2022-10-26T00:45:07.822363",
     "status": "completed"
    },
    "tags": []
   },
   "outputs": [],
   "source": [
    "class Config:\n",
    "    pass\n",
    "config = Config()\n",
    "config.lr = 0.001\n",
    "config.num_epochs = 250\n",
    "config.bs = 50"
   ]
  },
  {
   "cell_type": "markdown",
   "id": "1385fa59",
   "metadata": {
    "papermill": {
     "duration": 0.026781,
     "end_time": "2022-10-26T00:45:07.924284",
     "exception": false,
     "start_time": "2022-10-26T00:45:07.897503",
     "status": "completed"
    },
    "tags": []
   },
   "source": [
    "### Running Models with the Training data\n",
    "Details about the network layers:\n",
    "- A first affine layer has 784 inputs and does 100 affine transforms. These are followed by a Relu\n",
    "- A second affine layer has 100 inputs from the 100 activations of the past layer, and does 100 affine transforms. These are followed by a Relu\n",
    "- A third affine layer has 100 activations and does 2 affine transformations to create an embedding for visualization. There is no non-linearity here.\n",
    "- A final \"logistic regression\" which has an affine transform from 2 inputs to 1 output, which is squeezed through a sigmoid.\n"
   ]
  },
  {
   "cell_type": "code",
   "execution_count": 17,
   "id": "2b9c66db",
   "metadata": {
    "execution": {
     "iopub.execute_input": "2022-10-26T00:45:07.983015Z",
     "iopub.status.busy": "2022-10-26T00:45:07.982413Z",
     "iopub.status.idle": "2022-10-26T00:45:07.994080Z",
     "shell.execute_reply": "2022-10-26T00:45:07.994531Z"
    },
    "papermill": {
     "duration": 0.043664,
     "end_time": "2022-10-26T00:45:07.994663",
     "exception": false,
     "start_time": "2022-10-26T00:45:07.950999",
     "status": "completed"
    },
    "tags": []
   },
   "outputs": [],
   "source": [
    "data = Data(X_train, y_train.reshape(-1,1))\n",
    "sampler = Sampler(data, config.bs, shuffle=True)\n",
    "\n",
    "dl = Dataloader(data, sampler)\n",
    "\n",
    "opt = GD(config.lr)\n",
    "loss = MSE()"
   ]
  },
  {
   "cell_type": "code",
   "execution_count": 18,
   "id": "b275e4c2",
   "metadata": {
    "execution": {
     "iopub.execute_input": "2022-10-26T00:45:08.062406Z",
     "iopub.status.busy": "2022-10-26T00:45:08.052588Z",
     "iopub.status.idle": "2022-10-26T00:45:08.069168Z",
     "shell.execute_reply": "2022-10-26T00:45:08.068362Z"
    },
    "papermill": {
     "duration": 0.047499,
     "end_time": "2022-10-26T00:45:08.069291",
     "exception": false,
     "start_time": "2022-10-26T00:45:08.021792",
     "status": "completed"
    },
    "tags": []
   },
   "outputs": [],
   "source": [
    "training_data_x = X_train\n",
    "testing_data_x = X_test\n",
    "training_data_y = y_train.reshape(-1,1)\n",
    "testing_data_y = y_test.reshape(-1,1)"
   ]
  },
  {
   "cell_type": "code",
   "execution_count": 19,
   "id": "76951160",
   "metadata": {
    "execution": {
     "iopub.execute_input": "2022-10-26T00:45:08.138543Z",
     "iopub.status.busy": "2022-10-26T00:45:08.127460Z",
     "iopub.status.idle": "2022-10-26T00:45:08.149424Z",
     "shell.execute_reply": "2022-10-26T00:45:08.149905Z"
    },
    "papermill": {
     "duration": 0.053867,
     "end_time": "2022-10-26T00:45:08.150046",
     "exception": false,
     "start_time": "2022-10-26T00:45:08.096179",
     "status": "completed"
    },
    "tags": []
   },
   "outputs": [
    {
     "name": "stdout",
     "output_type": "stream",
     "text": [
      "xavier\n",
      "xavier\n",
      "xavier\n",
      "xavier\n",
      "xavier\n"
     ]
    }
   ],
   "source": [
    "layers = [Affine(\"first\", 784, 100), Relu(\"first\"), Affine(\"second\", 100, 100), Relu(\"second\"), Affine(\"third\", 100, 2), Affine(\"last\", 2, 1), Sigmoid(\"last\")]\n",
    "model_nn = Model(layers)\n",
    "model_lr = Model([Affine(\"logits\", 784, 1), Sigmoid(\"sigmoid\")])"
   ]
  },
  {
   "cell_type": "code",
   "execution_count": 20,
   "id": "6eede77a",
   "metadata": {
    "execution": {
     "iopub.execute_input": "2022-10-26T00:45:08.210945Z",
     "iopub.status.busy": "2022-10-26T00:45:08.210365Z",
     "iopub.status.idle": "2022-10-26T00:45:08.221833Z",
     "shell.execute_reply": "2022-10-26T00:45:08.222267Z"
    },
    "papermill": {
     "duration": 0.045013,
     "end_time": "2022-10-26T00:45:08.222404",
     "exception": false,
     "start_time": "2022-10-26T00:45:08.177391",
     "status": "completed"
    },
    "tags": []
   },
   "outputs": [],
   "source": [
    "nn_learner = Learner(loss, model_nn, opt, config.num_epochs)\n",
    "acc_nn = ClfCallback(nn_learner, config.bs, training_data_x , testing_data_x, training_data_y, testing_data_y)\n",
    "nn_learner.set_callbacks([acc_nn])"
   ]
  },
  {
   "cell_type": "code",
   "execution_count": 21,
   "id": "877b6cc7",
   "metadata": {
    "execution": {
     "iopub.execute_input": "2022-10-26T00:45:08.296753Z",
     "iopub.status.busy": "2022-10-26T00:45:08.296140Z",
     "iopub.status.idle": "2022-10-26T00:45:08.299899Z",
     "shell.execute_reply": "2022-10-26T00:45:08.300349Z"
    },
    "papermill": {
     "duration": 0.050995,
     "end_time": "2022-10-26T00:45:08.300485",
     "exception": false,
     "start_time": "2022-10-26T00:45:08.249490",
     "status": "completed"
    },
    "tags": []
   },
   "outputs": [],
   "source": [
    "lr_learner = Learner(loss, model_lr, opt, config.num_epochs)\n",
    "acc_lr = ClfCallback(lr_learner, config.bs, training_data_x , testing_data_x, training_data_y, testing_data_y)\n",
    "lr_learner.set_callbacks([acc_lr])"
   ]
  },
  {
   "cell_type": "code",
   "execution_count": 22,
   "id": "d9b133c3",
   "metadata": {
    "execution": {
     "iopub.execute_input": "2022-10-26T00:45:08.363259Z",
     "iopub.status.busy": "2022-10-26T00:45:08.357945Z",
     "iopub.status.idle": "2022-10-26T00:46:26.990417Z",
     "shell.execute_reply": "2022-10-26T00:46:26.991217Z"
    },
    "papermill": {
     "duration": 78.663724,
     "end_time": "2022-10-26T00:46:26.991377",
     "exception": false,
     "start_time": "2022-10-26T00:45:08.327653",
     "status": "completed"
    },
    "tags": []
   },
   "outputs": [
    {
     "name": "stdout",
     "output_type": "stream",
     "text": [
      "Epoch 0, Loss 0.2429\n",
      "Training Accuracy: 0.6589, Testing Accuracy: 0.6371\n",
      "\n"
     ]
    },
    {
     "name": "stdout",
     "output_type": "stream",
     "text": [
      "Epoch 10, Loss 0.1428\n",
      "Training Accuracy: 0.8904, Testing Accuracy: 0.9007\n",
      "\n"
     ]
    },
    {
     "name": "stdout",
     "output_type": "stream",
     "text": [
      "Epoch 20, Loss 0.0739\n",
      "Training Accuracy: 0.9292, Testing Accuracy: 0.9325\n",
      "\n"
     ]
    },
    {
     "name": "stdout",
     "output_type": "stream",
     "text": [
      "Epoch 30, Loss 0.052\n",
      "Training Accuracy: 0.9455, Testing Accuracy: 0.9511\n",
      "\n"
     ]
    },
    {
     "name": "stdout",
     "output_type": "stream",
     "text": [
      "Epoch 40, Loss 0.0428\n",
      "Training Accuracy: 0.9530, Testing Accuracy: 0.9582\n",
      "\n"
     ]
    },
    {
     "name": "stdout",
     "output_type": "stream",
     "text": [
      "Epoch 50, Loss 0.0377\n",
      "Training Accuracy: 0.9576, Testing Accuracy: 0.9642\n",
      "\n"
     ]
    },
    {
     "name": "stdout",
     "output_type": "stream",
     "text": [
      "Epoch 60, Loss 0.0343\n",
      "Training Accuracy: 0.9603, Testing Accuracy: 0.9657\n",
      "\n"
     ]
    },
    {
     "name": "stdout",
     "output_type": "stream",
     "text": [
      "Epoch 70, Loss 0.0319\n",
      "Training Accuracy: 0.9634, Testing Accuracy: 0.9672\n",
      "\n"
     ]
    },
    {
     "name": "stdout",
     "output_type": "stream",
     "text": [
      "Epoch 80, Loss 0.0301\n",
      "Training Accuracy: 0.9649, Testing Accuracy: 0.9708\n",
      "\n"
     ]
    },
    {
     "name": "stdout",
     "output_type": "stream",
     "text": [
      "Epoch 90, Loss 0.0285\n",
      "Training Accuracy: 0.9661, Testing Accuracy: 0.9698\n",
      "\n"
     ]
    },
    {
     "name": "stdout",
     "output_type": "stream",
     "text": [
      "Epoch 100, Loss 0.0272\n",
      "Training Accuracy: 0.9677, Testing Accuracy: 0.9703\n",
      "\n"
     ]
    },
    {
     "name": "stdout",
     "output_type": "stream",
     "text": [
      "Epoch 110, Loss 0.0261\n",
      "Training Accuracy: 0.9689, Testing Accuracy: 0.9708\n",
      "\n"
     ]
    },
    {
     "name": "stdout",
     "output_type": "stream",
     "text": [
      "Epoch 120, Loss 0.0252\n",
      "Training Accuracy: 0.9698, Testing Accuracy: 0.9698\n",
      "\n"
     ]
    },
    {
     "name": "stdout",
     "output_type": "stream",
     "text": [
      "Epoch 130, Loss 0.0243\n",
      "Training Accuracy: 0.9710, Testing Accuracy: 0.9718\n",
      "\n"
     ]
    },
    {
     "name": "stdout",
     "output_type": "stream",
     "text": [
      "Epoch 140, Loss 0.0235\n",
      "Training Accuracy: 0.9716, Testing Accuracy: 0.9733\n",
      "\n"
     ]
    },
    {
     "name": "stdout",
     "output_type": "stream",
     "text": [
      "Epoch 150, Loss 0.0228\n",
      "Training Accuracy: 0.9727, Testing Accuracy: 0.9733\n",
      "\n"
     ]
    },
    {
     "name": "stdout",
     "output_type": "stream",
     "text": [
      "Epoch 160, Loss 0.0221\n",
      "Training Accuracy: 0.9735, Testing Accuracy: 0.9738\n",
      "\n"
     ]
    },
    {
     "name": "stdout",
     "output_type": "stream",
     "text": [
      "Epoch 170, Loss 0.0215\n",
      "Training Accuracy: 0.9743, Testing Accuracy: 0.9738\n",
      "\n"
     ]
    },
    {
     "name": "stdout",
     "output_type": "stream",
     "text": [
      "Epoch 180, Loss 0.0209\n",
      "Training Accuracy: 0.9749, Testing Accuracy: 0.9743\n",
      "\n"
     ]
    },
    {
     "name": "stdout",
     "output_type": "stream",
     "text": [
      "Epoch 190, Loss 0.0203\n",
      "Training Accuracy: 0.9755, Testing Accuracy: 0.9753\n",
      "\n"
     ]
    },
    {
     "name": "stdout",
     "output_type": "stream",
     "text": [
      "Epoch 200, Loss 0.0198\n",
      "Training Accuracy: 0.9766, Testing Accuracy: 0.9758\n",
      "\n"
     ]
    },
    {
     "name": "stdout",
     "output_type": "stream",
     "text": [
      "Epoch 210, Loss 0.0193\n",
      "Training Accuracy: 0.9774, Testing Accuracy: 0.9758\n",
      "\n"
     ]
    },
    {
     "name": "stdout",
     "output_type": "stream",
     "text": [
      "Epoch 220, Loss 0.0188\n",
      "Training Accuracy: 0.9782, Testing Accuracy: 0.9758\n",
      "\n"
     ]
    },
    {
     "name": "stdout",
     "output_type": "stream",
     "text": [
      "Epoch 230, Loss 0.0184\n",
      "Training Accuracy: 0.9787, Testing Accuracy: 0.9758\n",
      "\n"
     ]
    },
    {
     "name": "stdout",
     "output_type": "stream",
     "text": [
      "Epoch 240, Loss 0.018\n",
      "Training Accuracy: 0.9791, Testing Accuracy: 0.9758\n",
      "\n"
     ]
    },
    {
     "data": {
      "text/plain": [
       "0.022849142595978887"
      ]
     },
     "execution_count": 22,
     "metadata": {},
     "output_type": "execute_result"
    }
   ],
   "source": [
    "nn_learner.train_loop(dl)"
   ]
  },
  {
   "cell_type": "code",
   "execution_count": 23,
   "id": "e0163366",
   "metadata": {
    "execution": {
     "iopub.execute_input": "2022-10-26T00:46:27.086961Z",
     "iopub.status.busy": "2022-10-26T00:46:27.086364Z",
     "iopub.status.idle": "2022-10-26T00:46:41.134530Z",
     "shell.execute_reply": "2022-10-26T00:46:41.135376Z"
    },
    "papermill": {
     "duration": 14.10933,
     "end_time": "2022-10-26T00:46:41.135524",
     "exception": false,
     "start_time": "2022-10-26T00:46:27.026194",
     "status": "completed"
    },
    "tags": []
   },
   "outputs": [
    {
     "name": "stdout",
     "output_type": "stream",
     "text": [
      "Epoch 0, Loss 0.2532\n",
      "Training Accuracy: 0.6427, Testing Accuracy: 0.6220\n",
      "\n"
     ]
    },
    {
     "name": "stdout",
     "output_type": "stream",
     "text": [
      "Epoch 10, Loss 0.1008\n",
      "Training Accuracy: 0.9175, Testing Accuracy: 0.9294\n",
      "\n"
     ]
    },
    {
     "name": "stdout",
     "output_type": "stream",
     "text": [
      "Epoch 20, Loss 0.0776\n",
      "Training Accuracy: 0.9309, Testing Accuracy: 0.9451\n",
      "\n"
     ]
    },
    {
     "name": "stdout",
     "output_type": "stream",
     "text": [
      "Epoch 30, Loss 0.0671\n",
      "Training Accuracy: 0.9376, Testing Accuracy: 0.9521\n",
      "\n"
     ]
    },
    {
     "name": "stdout",
     "output_type": "stream",
     "text": [
      "Epoch 40, Loss 0.0607\n",
      "Training Accuracy: 0.9417, Testing Accuracy: 0.9561\n",
      "\n"
     ]
    },
    {
     "name": "stdout",
     "output_type": "stream",
     "text": [
      "Epoch 50, Loss 0.0564\n",
      "Training Accuracy: 0.9455, Testing Accuracy: 0.9577\n",
      "\n"
     ]
    },
    {
     "name": "stdout",
     "output_type": "stream",
     "text": [
      "Epoch 60, Loss 0.0532\n",
      "Training Accuracy: 0.9482, Testing Accuracy: 0.9587\n",
      "\n"
     ]
    },
    {
     "name": "stdout",
     "output_type": "stream",
     "text": [
      "Epoch 70, Loss 0.0507\n",
      "Training Accuracy: 0.9503, Testing Accuracy: 0.9612\n",
      "\n"
     ]
    },
    {
     "name": "stdout",
     "output_type": "stream",
     "text": [
      "Epoch 80, Loss 0.0487\n",
      "Training Accuracy: 0.9516, Testing Accuracy: 0.9607\n",
      "\n"
     ]
    },
    {
     "name": "stdout",
     "output_type": "stream",
     "text": [
      "Epoch 90, Loss 0.0471\n",
      "Training Accuracy: 0.9529, Testing Accuracy: 0.9632\n",
      "\n"
     ]
    },
    {
     "name": "stdout",
     "output_type": "stream",
     "text": [
      "Epoch 100, Loss 0.0457\n",
      "Training Accuracy: 0.9543, Testing Accuracy: 0.9632\n",
      "\n"
     ]
    },
    {
     "name": "stdout",
     "output_type": "stream",
     "text": [
      "Epoch 110, Loss 0.0445\n",
      "Training Accuracy: 0.9546, Testing Accuracy: 0.9632\n",
      "\n"
     ]
    },
    {
     "name": "stdout",
     "output_type": "stream",
     "text": [
      "Epoch 120, Loss 0.0434\n",
      "Training Accuracy: 0.9553, Testing Accuracy: 0.9637\n",
      "\n"
     ]
    },
    {
     "name": "stdout",
     "output_type": "stream",
     "text": [
      "Epoch 130, Loss 0.0425\n",
      "Training Accuracy: 0.9559, Testing Accuracy: 0.9647\n",
      "\n"
     ]
    },
    {
     "name": "stdout",
     "output_type": "stream",
     "text": [
      "Epoch 140, Loss 0.0417\n",
      "Training Accuracy: 0.9561, Testing Accuracy: 0.9657\n",
      "\n"
     ]
    },
    {
     "name": "stdout",
     "output_type": "stream",
     "text": [
      "Epoch 150, Loss 0.041\n",
      "Training Accuracy: 0.9567, Testing Accuracy: 0.9667\n",
      "\n"
     ]
    },
    {
     "name": "stdout",
     "output_type": "stream",
     "text": [
      "Epoch 160, Loss 0.0403\n",
      "Training Accuracy: 0.9573, Testing Accuracy: 0.9682\n",
      "\n"
     ]
    },
    {
     "name": "stdout",
     "output_type": "stream",
     "text": [
      "Epoch 170, Loss 0.0397\n",
      "Training Accuracy: 0.9580, Testing Accuracy: 0.9682\n",
      "\n"
     ]
    },
    {
     "name": "stdout",
     "output_type": "stream",
     "text": [
      "Epoch 180, Loss 0.0392\n",
      "Training Accuracy: 0.9587, Testing Accuracy: 0.9688\n",
      "\n"
     ]
    },
    {
     "name": "stdout",
     "output_type": "stream",
     "text": [
      "Epoch 190, Loss 0.0387\n",
      "Training Accuracy: 0.9589, Testing Accuracy: 0.9688\n",
      "\n"
     ]
    },
    {
     "name": "stdout",
     "output_type": "stream",
     "text": [
      "Epoch 200, Loss 0.0382\n",
      "Training Accuracy: 0.9594, Testing Accuracy: 0.9688\n",
      "\n"
     ]
    },
    {
     "name": "stdout",
     "output_type": "stream",
     "text": [
      "Epoch 210, Loss 0.0378\n",
      "Training Accuracy: 0.9596, Testing Accuracy: 0.9688\n",
      "\n"
     ]
    },
    {
     "name": "stdout",
     "output_type": "stream",
     "text": [
      "Epoch 220, Loss 0.0374\n",
      "Training Accuracy: 0.9596, Testing Accuracy: 0.9688\n",
      "\n"
     ]
    },
    {
     "name": "stdout",
     "output_type": "stream",
     "text": [
      "Epoch 230, Loss 0.037\n",
      "Training Accuracy: 0.9599, Testing Accuracy: 0.9693\n",
      "\n"
     ]
    },
    {
     "name": "stdout",
     "output_type": "stream",
     "text": [
      "Epoch 240, Loss 0.0366\n",
      "Training Accuracy: 0.9602, Testing Accuracy: 0.9693\n",
      "\n"
     ]
    },
    {
     "data": {
      "text/plain": [
       "0.06291250030544093"
      ]
     },
     "execution_count": 23,
     "metadata": {},
     "output_type": "execute_result"
    }
   ],
   "source": [
    "lr_learner.train_loop(dl)"
   ]
  },
  {
   "cell_type": "code",
   "execution_count": 24,
   "id": "ca410940",
   "metadata": {
    "execution": {
     "iopub.execute_input": "2022-10-26T00:46:41.227723Z",
     "iopub.status.busy": "2022-10-26T00:46:41.227111Z",
     "iopub.status.idle": "2022-10-26T00:46:41.460346Z",
     "shell.execute_reply": "2022-10-26T00:46:41.460813Z"
    },
    "papermill": {
     "duration": 0.283792,
     "end_time": "2022-10-26T00:46:41.460958",
     "exception": false,
     "start_time": "2022-10-26T00:46:41.177166",
     "status": "completed"
    },
    "tags": []
   },
   "outputs": [
    {
     "data": {
      "text/plain": [
       "<matplotlib.legend.Legend at 0x7fb16f3d7390>"
      ]
     },
     "execution_count": 24,
     "metadata": {},
     "output_type": "execute_result"
    },
    {
     "data": {
      "image/png": "[encoded data removed]",
      "text/plain": [
       "<Figure size 1080x720 with 1 Axes>"
      ]
     },
     "metadata": {
      "needs_background": "light"
     },
     "output_type": "display_data"
    }
   ],
   "source": [
    "#comparing the results of NN and LR\n",
    "plt.figure(figsize=(15,10))\n",
    "\n",
    "# Neural Network plots\n",
    "plt.plot(acc_nn.accuracies, 'r-', label = \"Training Accuracies - NN\")\n",
    "plt.plot(acc_nn.test_accuracies, 'g-', label = \"Testing Accuracies - NN\")\n",
    "\n",
    "# Logistic Regression plots\n",
    "plt.plot(acc_lr.accuracies, 'k-', label = \"Training Accuracies - LR\")\n",
    "plt.plot(acc_lr.test_accuracies, 'b-', label = \"Testing Accuracies - LR\")\n",
    "plt.legend()"
   ]
  },
  {
   "cell_type": "markdown",
   "id": "80dfb35c",
   "metadata": {
    "papermill": {
     "duration": 0.041973,
     "end_time": "2022-10-26T00:46:41.545398",
     "exception": false,
     "start_time": "2022-10-26T00:46:41.503425",
     "status": "completed"
    },
    "tags": []
   },
   "source": [
    "#### Plotting the outputs of this layer of the NN.\n"
   ]
  },
  {
   "cell_type": "code",
   "execution_count": 25,
   "id": "45eb2ff5",
   "metadata": {
    "execution": {
     "iopub.execute_input": "2022-10-26T00:46:41.646160Z",
     "iopub.status.busy": "2022-10-26T00:46:41.642665Z",
     "iopub.status.idle": "2022-10-26T00:46:41.660018Z",
     "shell.execute_reply": "2022-10-26T00:46:41.659195Z"
    },
    "papermill": {
     "duration": 0.072647,
     "end_time": "2022-10-26T00:46:41.660148",
     "exception": false,
     "start_time": "2022-10-26T00:46:41.587501",
     "status": "completed"
    },
    "tags": []
   },
   "outputs": [],
   "source": [
    "new_model = Model(layers[:-2])\n",
    "testing_plot = new_model(testing_data_x)"
   ]
  },
  {
   "cell_type": "code",
   "execution_count": 26,
   "id": "4c0a5485",
   "metadata": {
    "execution": {
     "iopub.execute_input": "2022-10-26T00:46:41.755010Z",
     "iopub.status.busy": "2022-10-26T00:46:41.754402Z",
     "iopub.status.idle": "2022-10-26T00:46:41.944661Z",
     "shell.execute_reply": "2022-10-26T00:46:41.944139Z"
    },
    "papermill": {
     "duration": 0.242055,
     "end_time": "2022-10-26T00:46:41.944787",
     "exception": false,
     "start_time": "2022-10-26T00:46:41.702732",
     "status": "completed"
    },
    "tags": []
   },
   "outputs": [
    {
     "data": {
      "text/plain": [
       "Text(0.5, 1.0, 'Outputs')"
      ]
     },
     "execution_count": 26,
     "metadata": {},
     "output_type": "execute_result"
    },
    {
     "data": {
      "image/png": "[encoded data removed]",
      "text/plain": [
       "<Figure size 576x504 with 1 Axes>"
      ]
     },
     "metadata": {
      "needs_background": "light"
     },
     "output_type": "display_data"
    }
   ],
   "source": [
    "# Plotting the scatter plot of points and color coding by class\n",
    "plt.figure(figsize=(8,7))\n",
    "plt.scatter(testing_plot[:,0], testing_plot[:,1], alpha = 0.1, c = y_test.ravel());\n",
    "plt.title('Outputs')"
   ]
  },
  {
   "cell_type": "markdown",
   "id": "a74fcf8f",
   "metadata": {
    "papermill": {
     "duration": 0.044228,
     "end_time": "2022-10-26T00:46:42.033370",
     "exception": false,
     "start_time": "2022-10-26T00:46:41.989142",
     "status": "completed"
    },
    "tags": []
   },
   "source": [
    "Probability contours"
   ]
  },
  {
   "cell_type": "code",
   "execution_count": 27,
   "id": "d0afc8e3",
   "metadata": {
    "execution": {
     "iopub.execute_input": "2022-10-26T00:46:42.126566Z",
     "iopub.status.busy": "2022-10-26T00:46:42.125979Z",
     "iopub.status.idle": "2022-10-26T00:46:42.138525Z",
     "shell.execute_reply": "2022-10-26T00:46:42.138037Z"
    },
    "papermill": {
     "duration": 0.060994,
     "end_time": "2022-10-26T00:46:42.138642",
     "exception": false,
     "start_time": "2022-10-26T00:46:42.077648",
     "status": "completed"
    },
    "tags": []
   },
   "outputs": [],
   "source": [
    "model_prob = Model(layers[-2:]) "
   ]
  },
  {
   "cell_type": "code",
   "execution_count": 28,
   "id": "9b96e238",
   "metadata": {
    "execution": {
     "iopub.execute_input": "2022-10-26T00:46:42.246634Z",
     "iopub.status.busy": "2022-10-26T00:46:42.242630Z",
     "iopub.status.idle": "2022-10-26T00:46:42.254293Z",
     "shell.execute_reply": "2022-10-26T00:46:42.253708Z"
    },
    "papermill": {
     "duration": 0.07154,
     "end_time": "2022-10-26T00:46:42.254410",
     "exception": false,
     "start_time": "2022-10-26T00:46:42.182870",
     "status": "completed"
    },
    "tags": []
   },
   "outputs": [],
   "source": [
    "#creating the x and y ranges according to the above generated plot.\n",
    "x_range = np.linspace(-4, 1, 100) \n",
    "y_range = np.linspace(-6, 6, 100) \n",
    "x_grid, y_grid = np.meshgrid(x_range, y_range) # x_grid and y_grig are of size 100 X 100\n",
    "\n",
    "# converting x_grid and y_grid to continuous arrays\n",
    "x_gridflat = np.ravel(x_grid)\n",
    "y_gridflat = np.ravel(y_grid)\n",
    "\n",
    "# The last layer of the current model takes two columns as input. Hence transpose of np.vstack() is required.\n",
    "X = np.vstack((x_gridflat, y_gridflat)).T\n",
    "\n",
    "prob_contour = model_prob(X).reshape(100,100) "
   ]
  },
  {
   "cell_type": "code",
   "execution_count": 29,
   "id": "da72499a",
   "metadata": {
    "execution": {
     "iopub.execute_input": "2022-10-26T00:46:42.385079Z",
     "iopub.status.busy": "2022-10-26T00:46:42.384494Z",
     "iopub.status.idle": "2022-10-26T00:46:42.628400Z",
     "shell.execute_reply": "2022-10-26T00:46:42.628853Z"
    },
    "papermill": {
     "duration": 0.293352,
     "end_time": "2022-10-26T00:46:42.628998",
     "exception": false,
     "start_time": "2022-10-26T00:46:42.335646",
     "status": "completed"
    },
    "tags": []
   },
   "outputs": [
    {
     "data": {
      "image/png": "[encoded data removed]",
      "text/plain": [
       "<Figure size 720x648 with 1 Axes>"
      ]
     },
     "metadata": {
      "needs_background": "light"
     },
     "output_type": "display_data"
    }
   ],
   "source": [
    "plt.figure(figsize=(10,9))\n",
    "plt.scatter(testing_plot[:,0], testing_plot[:,1], alpha = 0.1, c = y_test.ravel())\n",
    "contours = plt.contour(x_grid,y_grid,prob_contour)\n",
    "plt.title('Probability Contours')\n",
    "plt.clabel(contours, inline = True );"
   ]
  },
  {
   "cell_type": "code",
   "execution_count": null,
   "id": "e81b4ac7",
   "metadata": {
    "papermill": {
     "duration": 0.046989,
     "end_time": "2022-10-26T00:46:42.723590",
     "exception": false,
     "start_time": "2022-10-26T00:46:42.676601",
     "status": "completed"
    },
    "tags": []
   },
   "outputs": [],
   "source": []
  }
 ],
 "metadata": {
  "kernelspec": {
   "display_name": "Python 3",
   "language": "python",
   "name": "python3"
  },
  "language_info": {
   "codemirror_mode": {
    "name": "ipython",
    "version": 3
   },
   "file_extension": ".py",
   "mimetype": "text/x-python",
   "name": "python",
   "nbconvert_exporter": "python",
   "pygments_lexer": "ipython3",
   "version": "3.6.15"
  },
  "papermill": {
   "default_parameters": {},
   "duration": 101.105139,
   "end_time": "2022-10-26T00:46:43.190894",
   "environment_variables": {},
   "exception": null,
   "input_path": "2020-08-11-part2.ipynb",
   "output_path": "2020-08-11-part2.ipynb",
   "parameters": {},
   "start_time": "2022-10-26T00:45:02.085755",
   "version": "2.3.3"
  }
 },
 "nbformat": 4,
 "nbformat_minor": 5
}