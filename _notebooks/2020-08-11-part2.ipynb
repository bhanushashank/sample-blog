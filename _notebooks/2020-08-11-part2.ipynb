{
 "cells": [
  {
   "cell_type": "markdown",
   "id": "98380cd3",
   "metadata": {
    "papermill": {
     "duration": 0.028821,
     "end_time": "2021-10-11T20:07:07.111149",
     "exception": false,
     "start_time": "2021-10-11T20:07:07.082328",
     "status": "completed"
    },
    "tags": []
   },
   "source": [
    "# Distinguish Your Own Digits (DYOD)"
   ]
  },
  {
   "cell_type": "markdown",
   "id": "ef31240d",
   "metadata": {
    "papermill": {
     "duration": 0.021653,
     "end_time": "2021-10-11T20:07:07.157263",
     "exception": false,
     "start_time": "2021-10-11T20:07:07.135610",
     "status": "completed"
    },
    "tags": []
   },
   "source": [
    "You are going to write a classifier that distinguishes between the number 3 and number 8."
   ]
  },
  {
   "cell_type": "code",
   "execution_count": 1,
   "id": "b15c8646",
   "metadata": {
    "execution": {
     "iopub.execute_input": "2021-10-11T20:07:07.218846Z",
     "iopub.status.busy": "2021-10-11T20:07:07.215793Z",
     "iopub.status.idle": "2021-10-11T20:07:07.229188Z",
     "shell.execute_reply": "2021-10-11T20:07:07.228671Z"
    },
    "papermill": {
     "duration": 0.046943,
     "end_time": "2021-10-11T20:07:07.229325",
     "exception": false,
     "start_time": "2021-10-11T20:07:07.182382",
     "status": "completed"
    },
    "tags": []
   },
   "outputs": [],
   "source": [
    "%load_ext autoreload\n",
    "%autoreload 2"
   ]
  },
  {
   "cell_type": "code",
   "execution_count": 2,
   "id": "22ef38dc",
   "metadata": {
    "execution": {
     "iopub.execute_input": "2021-10-11T20:07:07.280775Z",
     "iopub.status.busy": "2021-10-11T20:07:07.279870Z",
     "iopub.status.idle": "2021-10-11T20:07:07.769515Z",
     "shell.execute_reply": "2021-10-11T20:07:07.768890Z"
    },
    "papermill": {
     "duration": 0.517842,
     "end_time": "2021-10-11T20:07:07.769706",
     "exception": false,
     "start_time": "2021-10-11T20:07:07.251864",
     "status": "completed"
    },
    "tags": []
   },
   "outputs": [],
   "source": [
    "%matplotlib inline\n",
    "import numpy as np\n",
    "import matplotlib.pyplot as plt\n",
    "import pandas as pd"
   ]
  },
  {
   "cell_type": "markdown",
   "id": "ba036198",
   "metadata": {
    "papermill": {
     "duration": 0.021618,
     "end_time": "2021-10-11T20:07:07.813982",
     "exception": false,
     "start_time": "2021-10-11T20:07:07.792364",
     "status": "completed"
    },
    "tags": []
   },
   "source": [
    "From the command line run `pip install mnist`. This is a library that will help you bring down the mnist dataset. If you run this from a notebook, you need to put  `!pip install mnist` in a cell by itself."
   ]
  },
  {
   "cell_type": "code",
   "execution_count": 3,
   "id": "bb6ad8a1",
   "metadata": {
    "execution": {
     "iopub.execute_input": "2021-10-11T20:07:07.866495Z",
     "iopub.status.busy": "2021-10-11T20:07:07.865904Z",
     "iopub.status.idle": "2021-10-11T20:07:09.467083Z",
     "shell.execute_reply": "2021-10-11T20:07:09.467574Z"
    },
    "papermill": {
     "duration": 1.630236,
     "end_time": "2021-10-11T20:07:09.467729",
     "exception": false,
     "start_time": "2021-10-11T20:07:07.837493",
     "status": "completed"
    },
    "tags": []
   },
   "outputs": [
    {
     "name": "stdout",
     "output_type": "stream",
     "text": [
      "Collecting mnist\r\n",
      "  Downloading mnist-0.2.2-py2.py3-none-any.whl (3.5 kB)\r\n",
      "Requirement already satisfied: numpy in /opt/hostedtoolcache/Python/3.6.15/x64/lib/python3.6/site-packages (from mnist) (1.19.5)\r\n"
     ]
    },
    {
     "name": "stdout",
     "output_type": "stream",
     "text": [
      "Installing collected packages: mnist\r\n",
      "Successfully installed mnist-0.2.2\r\n"
     ]
    },
    {
     "name": "stdout",
     "output_type": "stream",
     "text": [
      "\u001b[33mWARNING: You are using pip version 21.2.4; however, version 21.3 is available.\r\n",
      "You should consider upgrading via the '/opt/hostedtoolcache/Python/3.6.15/x64/bin/python -m pip install --upgrade pip' command.\u001b[0m\r\n"
     ]
    }
   ],
   "source": [
    "!pip install mnist"
   ]
  },
  {
   "cell_type": "markdown",
   "id": "69df9c9a",
   "metadata": {
    "papermill": {
     "duration": 0.026011,
     "end_time": "2021-10-11T20:07:09.521289",
     "exception": false,
     "start_time": "2021-10-11T20:07:09.495278",
     "status": "completed"
    },
    "tags": []
   },
   "source": [
    "## Preparing the Data"
   ]
  },
  {
   "cell_type": "code",
   "execution_count": 4,
   "id": "7f69d806",
   "metadata": {
    "execution": {
     "iopub.execute_input": "2021-10-11T20:07:09.576361Z",
     "iopub.status.busy": "2021-10-11T20:07:09.575761Z",
     "iopub.status.idle": "2021-10-11T20:07:09.591838Z",
     "shell.execute_reply": "2021-10-11T20:07:09.591234Z"
    },
    "papermill": {
     "duration": 0.046158,
     "end_time": "2021-10-11T20:07:09.591978",
     "exception": false,
     "start_time": "2021-10-11T20:07:09.545820",
     "status": "completed"
    },
    "tags": []
   },
   "outputs": [],
   "source": [
    "import mnist"
   ]
  },
  {
   "cell_type": "code",
   "execution_count": 5,
   "id": "a411e44f",
   "metadata": {
    "execution": {
     "iopub.execute_input": "2021-10-11T20:07:09.649409Z",
     "iopub.status.busy": "2021-10-11T20:07:09.648846Z",
     "iopub.status.idle": "2021-10-11T20:07:10.235474Z",
     "shell.execute_reply": "2021-10-11T20:07:10.234823Z"
    },
    "papermill": {
     "duration": 0.615834,
     "end_time": "2021-10-11T20:07:10.235627",
     "exception": false,
     "start_time": "2021-10-11T20:07:09.619793",
     "status": "completed"
    },
    "tags": []
   },
   "outputs": [],
   "source": [
    "train_images = mnist.train_images()\n",
    "train_labels = mnist.train_labels()"
   ]
  },
  {
   "cell_type": "code",
   "execution_count": 6,
   "id": "dceab3a5",
   "metadata": {
    "execution": {
     "iopub.execute_input": "2021-10-11T20:07:10.292371Z",
     "iopub.status.busy": "2021-10-11T20:07:10.291872Z",
     "iopub.status.idle": "2021-10-11T20:07:10.307021Z",
     "shell.execute_reply": "2021-10-11T20:07:10.306661Z"
    },
    "papermill": {
     "duration": 0.044762,
     "end_time": "2021-10-11T20:07:10.307113",
     "exception": false,
     "start_time": "2021-10-11T20:07:10.262351",
     "status": "completed"
    },
    "tags": []
   },
   "outputs": [
    {
     "data": {
      "text/plain": [
       "((60000, 28, 28), (60000,))"
      ]
     },
     "execution_count": 6,
     "metadata": {},
     "output_type": "execute_result"
    }
   ],
   "source": [
    "train_images.shape, train_labels.shape"
   ]
  },
  {
   "cell_type": "code",
   "execution_count": 7,
   "id": "f50dc2bb",
   "metadata": {
    "execution": {
     "iopub.execute_input": "2021-10-11T20:07:10.357319Z",
     "iopub.status.busy": "2021-10-11T20:07:10.356783Z",
     "iopub.status.idle": "2021-10-11T20:07:10.508679Z",
     "shell.execute_reply": "2021-10-11T20:07:10.508036Z"
    },
    "papermill": {
     "duration": 0.179072,
     "end_time": "2021-10-11T20:07:10.508842",
     "exception": false,
     "start_time": "2021-10-11T20:07:10.329770",
     "status": "completed"
    },
    "tags": []
   },
   "outputs": [],
   "source": [
    "test_images = mnist.test_images()\n",
    "test_labels = mnist.test_labels()"
   ]
  },
  {
   "cell_type": "code",
   "execution_count": 8,
   "id": "fc38cf1b",
   "metadata": {
    "execution": {
     "iopub.execute_input": "2021-10-11T20:07:10.561636Z",
     "iopub.status.busy": "2021-10-11T20:07:10.561108Z",
     "iopub.status.idle": "2021-10-11T20:07:10.575178Z",
     "shell.execute_reply": "2021-10-11T20:07:10.574686Z"
    },
    "papermill": {
     "duration": 0.040339,
     "end_time": "2021-10-11T20:07:10.575294",
     "exception": false,
     "start_time": "2021-10-11T20:07:10.534955",
     "status": "completed"
    },
    "tags": []
   },
   "outputs": [
    {
     "data": {
      "text/plain": [
       "((10000, 28, 28), (10000,))"
      ]
     },
     "execution_count": 8,
     "metadata": {},
     "output_type": "execute_result"
    }
   ],
   "source": [
    "test_images.shape, test_labels.shape"
   ]
  },
  {
   "cell_type": "code",
   "execution_count": 9,
   "id": "f9ed8fe0",
   "metadata": {
    "execution": {
     "iopub.execute_input": "2021-10-11T20:07:10.626854Z",
     "iopub.status.busy": "2021-10-11T20:07:10.626339Z",
     "iopub.status.idle": "2021-10-11T20:07:10.755650Z",
     "shell.execute_reply": "2021-10-11T20:07:10.756251Z"
    },
    "papermill": {
     "duration": 0.15664,
     "end_time": "2021-10-11T20:07:10.756414",
     "exception": false,
     "start_time": "2021-10-11T20:07:10.599774",
     "status": "completed"
    },
    "tags": []
   },
   "outputs": [
    {
     "name": "stdout",
     "output_type": "stream",
     "text": [
      "2\n"
     ]
    },
    {
     "data": {
      "text/plain": [
       "<matplotlib.image.AxesImage at 0x7f6715e817f0>"
      ]
     },
     "execution_count": 9,
     "metadata": {},
     "output_type": "execute_result"
    },
    {
     "data": {
      "image/png": "[encoded data removed]",
      "text/plain": [
       "<Figure size 432x288 with 1 Axes>"
      ]
     },
     "metadata": {
      "needs_background": "light"
     },
     "output_type": "display_data"
    }
   ],
   "source": [
    "image_index = 7776 # You may select anything up to 60,000\n",
    "print(train_labels[image_index]) \n",
    "plt.imshow(train_images[image_index], cmap='Greys')"
   ]
  },
  {
   "cell_type": "markdown",
   "id": "a8d2388d",
   "metadata": {
    "papermill": {
     "duration": 0.023491,
     "end_time": "2021-10-11T20:07:10.803087",
     "exception": false,
     "start_time": "2021-10-11T20:07:10.779596",
     "status": "completed"
    },
    "tags": []
   },
   "source": [
    "## Filter data to get 3 and 8 out"
   ]
  },
  {
   "cell_type": "code",
   "execution_count": 10,
   "id": "776f7fc7",
   "metadata": {
    "execution": {
     "iopub.execute_input": "2021-10-11T20:07:10.855589Z",
     "iopub.status.busy": "2021-10-11T20:07:10.854987Z",
     "iopub.status.idle": "2021-10-11T20:07:10.873312Z",
     "shell.execute_reply": "2021-10-11T20:07:10.872889Z"
    },
    "papermill": {
     "duration": 0.046724,
     "end_time": "2021-10-11T20:07:10.873421",
     "exception": false,
     "start_time": "2021-10-11T20:07:10.826697",
     "status": "completed"
    },
    "tags": []
   },
   "outputs": [],
   "source": [
    "train_filter = np.where((train_labels == 3 ) | (train_labels == 8))\n",
    "test_filter = np.where((test_labels == 3) | (test_labels == 8))\n",
    "X_train, y_train = train_images[train_filter], train_labels[train_filter]\n",
    "X_test, y_test = test_images[test_filter], test_labels[test_filter]"
   ]
  },
  {
   "cell_type": "markdown",
   "id": "948f0b7e",
   "metadata": {
    "papermill": {
     "duration": 0.024669,
     "end_time": "2021-10-11T20:07:10.923685",
     "exception": false,
     "start_time": "2021-10-11T20:07:10.899016",
     "status": "completed"
    },
    "tags": []
   },
   "source": [
    "We normalize the pizel values in the 0 to 1 range"
   ]
  },
  {
   "cell_type": "code",
   "execution_count": 11,
   "id": "ee4c2166",
   "metadata": {
    "execution": {
     "iopub.execute_input": "2021-10-11T20:07:10.976363Z",
     "iopub.status.busy": "2021-10-11T20:07:10.975815Z",
     "iopub.status.idle": "2021-10-11T20:07:11.025538Z",
     "shell.execute_reply": "2021-10-11T20:07:11.024940Z"
    },
    "papermill": {
     "duration": 0.077384,
     "end_time": "2021-10-11T20:07:11.025698",
     "exception": false,
     "start_time": "2021-10-11T20:07:10.948314",
     "status": "completed"
    },
    "tags": []
   },
   "outputs": [],
   "source": [
    "X_train = X_train/255.\n",
    "X_test = X_test/255."
   ]
  },
  {
   "cell_type": "markdown",
   "id": "ddcf4fab",
   "metadata": {
    "papermill": {
     "duration": 0.026011,
     "end_time": "2021-10-11T20:07:11.079440",
     "exception": false,
     "start_time": "2021-10-11T20:07:11.053429",
     "status": "completed"
    },
    "tags": []
   },
   "source": [
    "And setup the labels as 1 (when the digit is 3) and 0 (when the digit is 8)"
   ]
  },
  {
   "cell_type": "code",
   "execution_count": 12,
   "id": "7dc908f2",
   "metadata": {
    "execution": {
     "iopub.execute_input": "2021-10-11T20:07:11.134685Z",
     "iopub.status.busy": "2021-10-11T20:07:11.134109Z",
     "iopub.status.idle": "2021-10-11T20:07:11.148767Z",
     "shell.execute_reply": "2021-10-11T20:07:11.148264Z"
    },
    "papermill": {
     "duration": 0.043354,
     "end_time": "2021-10-11T20:07:11.148875",
     "exception": false,
     "start_time": "2021-10-11T20:07:11.105521",
     "status": "completed"
    },
    "tags": []
   },
   "outputs": [],
   "source": [
    "y_train = 1*(y_train==3)\n",
    "y_test = 1*(y_test==3)"
   ]
  },
  {
   "cell_type": "code",
   "execution_count": 13,
   "id": "01e4e969",
   "metadata": {
    "execution": {
     "iopub.execute_input": "2021-10-11T20:07:11.202652Z",
     "iopub.status.busy": "2021-10-11T20:07:11.202064Z",
     "iopub.status.idle": "2021-10-11T20:07:11.214707Z",
     "shell.execute_reply": "2021-10-11T20:07:11.215122Z"
    },
    "papermill": {
     "duration": 0.041859,
     "end_time": "2021-10-11T20:07:11.215245",
     "exception": false,
     "start_time": "2021-10-11T20:07:11.173386",
     "status": "completed"
    },
    "tags": []
   },
   "outputs": [
    {
     "data": {
      "text/plain": [
       "((11982, 28, 28), (1984, 28, 28))"
      ]
     },
     "execution_count": 13,
     "metadata": {},
     "output_type": "execute_result"
    }
   ],
   "source": [
    "X_train.shape, X_test.shape"
   ]
  },
  {
   "cell_type": "markdown",
   "id": "5ccf3f85",
   "metadata": {
    "papermill": {
     "duration": 0.026102,
     "end_time": "2021-10-11T20:07:11.266531",
     "exception": false,
     "start_time": "2021-10-11T20:07:11.240429",
     "status": "completed"
    },
    "tags": []
   },
   "source": [
    "We reshape the data to flatten the image pixels into a set of features or co-variates:"
   ]
  },
  {
   "cell_type": "code",
   "execution_count": 14,
   "id": "5286a4a3",
   "metadata": {
    "execution": {
     "iopub.execute_input": "2021-10-11T20:07:11.323023Z",
     "iopub.status.busy": "2021-10-11T20:07:11.322594Z",
     "iopub.status.idle": "2021-10-11T20:07:11.334716Z",
     "shell.execute_reply": "2021-10-11T20:07:11.335157Z"
    },
    "papermill": {
     "duration": 0.041486,
     "end_time": "2021-10-11T20:07:11.335276",
     "exception": false,
     "start_time": "2021-10-11T20:07:11.293790",
     "status": "completed"
    },
    "tags": []
   },
   "outputs": [
    {
     "data": {
      "text/plain": [
       "((11982, 784), (1984, 784))"
      ]
     },
     "execution_count": 14,
     "metadata": {},
     "output_type": "execute_result"
    }
   ],
   "source": [
    "X_train = X_train.reshape(X_train.shape[0], -1)\n",
    "X_test = X_test.reshape(X_test.shape[0], -1)\n",
    "X_train.shape, X_test.shape"
   ]
  },
  {
   "cell_type": "code",
   "execution_count": 15,
   "id": "73c5f88a",
   "metadata": {
    "execution": {
     "iopub.execute_input": "2021-10-11T20:07:11.390443Z",
     "iopub.status.busy": "2021-10-11T20:07:11.389861Z",
     "iopub.status.idle": "2021-10-11T20:07:11.407730Z",
     "shell.execute_reply": "2021-10-11T20:07:11.407267Z"
    },
    "papermill": {
     "duration": 0.047694,
     "end_time": "2021-10-11T20:07:11.407833",
     "exception": false,
     "start_time": "2021-10-11T20:07:11.360139",
     "status": "completed"
    },
    "tags": []
   },
   "outputs": [],
   "source": [
    "#Impoting functions from 'Kudzu'\n",
    "from kudzu.model import Model\n",
    "from kudzu.train import Learner\n",
    "from kudzu.optim import GD\n",
    "from kudzu.data import Data, Sampler,Dataloader\n",
    "\n",
    "from kudzu.callbacks import AccCallback\n",
    "from kudzu.callbacks import ClfCallback\n",
    "\n",
    "from kudzu.loss import MSE\n",
    "\n",
    "from kudzu.layer import Sigmoid,Relu\n",
    "from kudzu.layer import Affine"
   ]
  },
  {
   "cell_type": "markdown",
   "id": "bc01172a",
   "metadata": {
    "papermill": {
     "duration": 0.02406,
     "end_time": "2021-10-11T20:07:11.456527",
     "exception": false,
     "start_time": "2021-10-11T20:07:11.432467",
     "status": "completed"
    },
    "tags": []
   },
   "source": [
    "### Let us create a `Config` class, to store important parameters. \n",
    "This class essentially plays the role of a dictionary."
   ]
  },
  {
   "cell_type": "code",
   "execution_count": 16,
   "id": "978281aa",
   "metadata": {
    "execution": {
     "iopub.execute_input": "2021-10-11T20:07:11.507687Z",
     "iopub.status.busy": "2021-10-11T20:07:11.507202Z",
     "iopub.status.idle": "2021-10-11T20:07:11.517897Z",
     "shell.execute_reply": "2021-10-11T20:07:11.518302Z"
    },
    "papermill": {
     "duration": 0.038932,
     "end_time": "2021-10-11T20:07:11.518419",
     "exception": false,
     "start_time": "2021-10-11T20:07:11.479487",
     "status": "completed"
    },
    "tags": []
   },
   "outputs": [],
   "source": [
    "class Config:\n",
    "    pass\n",
    "config = Config()\n",
    "config.lr = 0.001\n",
    "config.num_epochs = 250\n",
    "config.bs = 50"
   ]
  },
  {
   "cell_type": "markdown",
   "id": "1385fa59",
   "metadata": {
    "papermill": {
     "duration": 0.024194,
     "end_time": "2021-10-11T20:07:11.565900",
     "exception": false,
     "start_time": "2021-10-11T20:07:11.541706",
     "status": "completed"
    },
    "tags": []
   },
   "source": [
    "### Running Models with the Training data\n",
    "Details about the network layers:\n",
    "- A first affine layer has 784 inputs and does 100 affine transforms. These are followed by a Relu\n",
    "- A second affine layer has 100 inputs from the 100 activations of the past layer, and does 100 affine transforms. These are followed by a Relu\n",
    "- A third affine layer has 100 activations and does 2 affine transformations to create an embedding for visualization. There is no non-linearity here.\n",
    "- A final \"logistic regression\" which has an affine transform from 2 inputs to 1 output, which is squeezed through a sigmoid.\n"
   ]
  },
  {
   "cell_type": "code",
   "execution_count": 17,
   "id": "2b9c66db",
   "metadata": {
    "execution": {
     "iopub.execute_input": "2021-10-11T20:07:11.619210Z",
     "iopub.status.busy": "2021-10-11T20:07:11.618705Z",
     "iopub.status.idle": "2021-10-11T20:07:11.628803Z",
     "shell.execute_reply": "2021-10-11T20:07:11.629199Z"
    },
    "papermill": {
     "duration": 0.039947,
     "end_time": "2021-10-11T20:07:11.629291",
     "exception": false,
     "start_time": "2021-10-11T20:07:11.589344",
     "status": "completed"
    },
    "tags": []
   },
   "outputs": [],
   "source": [
    "data = Data(X_train, y_train.reshape(-1,1))\n",
    "sampler = Sampler(data, config.bs, shuffle=True)\n",
    "\n",
    "dl = Dataloader(data, sampler)\n",
    "\n",
    "opt = GD(config.lr)\n",
    "loss = MSE()"
   ]
  },
  {
   "cell_type": "code",
   "execution_count": 18,
   "id": "b275e4c2",
   "metadata": {
    "execution": {
     "iopub.execute_input": "2021-10-11T20:07:11.679493Z",
     "iopub.status.busy": "2021-10-11T20:07:11.679070Z",
     "iopub.status.idle": "2021-10-11T20:07:11.689094Z",
     "shell.execute_reply": "2021-10-11T20:07:11.688732Z"
    },
    "papermill": {
     "duration": 0.037266,
     "end_time": "2021-10-11T20:07:11.689189",
     "exception": false,
     "start_time": "2021-10-11T20:07:11.651923",
     "status": "completed"
    },
    "tags": []
   },
   "outputs": [],
   "source": [
    "training_data_x = X_train\n",
    "testing_data_x = X_test\n",
    "training_data_y = y_train.reshape(-1,1)\n",
    "testing_data_y = y_test.reshape(-1,1)"
   ]
  },
  {
   "cell_type": "code",
   "execution_count": 19,
   "id": "76951160",
   "metadata": {
    "execution": {
     "iopub.execute_input": "2021-10-11T20:07:11.744971Z",
     "iopub.status.busy": "2021-10-11T20:07:11.744385Z",
     "iopub.status.idle": "2021-10-11T20:07:11.760569Z",
     "shell.execute_reply": "2021-10-11T20:07:11.760133Z"
    },
    "papermill": {
     "duration": 0.045855,
     "end_time": "2021-10-11T20:07:11.760697",
     "exception": false,
     "start_time": "2021-10-11T20:07:11.714842",
     "status": "completed"
    },
    "tags": []
   },
   "outputs": [
    {
     "name": "stdout",
     "output_type": "stream",
     "text": [
      "xavier\n",
      "xavier\n",
      "xavier\n",
      "xavier\n",
      "xavier\n"
     ]
    }
   ],
   "source": [
    "layers = [Affine(\"first\", 784, 100), Relu(\"first\"), Affine(\"second\", 100, 100), Relu(\"second\"), Affine(\"third\", 100, 2), Affine(\"last\", 2, 1), Sigmoid(\"last\")]\n",
    "model_nn = Model(layers)\n",
    "model_lr = Model([Affine(\"logits\", 784, 1), Sigmoid(\"sigmoid\")])"
   ]
  },
  {
   "cell_type": "code",
   "execution_count": 20,
   "id": "6eede77a",
   "metadata": {
    "execution": {
     "iopub.execute_input": "2021-10-11T20:07:11.812353Z",
     "iopub.status.busy": "2021-10-11T20:07:11.811937Z",
     "iopub.status.idle": "2021-10-11T20:07:11.824848Z",
     "shell.execute_reply": "2021-10-11T20:07:11.824351Z"
    },
    "papermill": {
     "duration": 0.040198,
     "end_time": "2021-10-11T20:07:11.824974",
     "exception": false,
     "start_time": "2021-10-11T20:07:11.784776",
     "status": "completed"
    },
    "tags": []
   },
   "outputs": [],
   "source": [
    "nn_learner = Learner(loss, model_nn, opt, config.num_epochs)\n",
    "acc_nn = ClfCallback(nn_learner, config.bs, training_data_x , testing_data_x, training_data_y, testing_data_y)\n",
    "nn_learner.set_callbacks([acc_nn])"
   ]
  },
  {
   "cell_type": "code",
   "execution_count": 21,
   "id": "877b6cc7",
   "metadata": {
    "execution": {
     "iopub.execute_input": "2021-10-11T20:07:11.879306Z",
     "iopub.status.busy": "2021-10-11T20:07:11.878889Z",
     "iopub.status.idle": "2021-10-11T20:07:11.890004Z",
     "shell.execute_reply": "2021-10-11T20:07:11.889620Z"
    },
    "papermill": {
     "duration": 0.04159,
     "end_time": "2021-10-11T20:07:11.890098",
     "exception": false,
     "start_time": "2021-10-11T20:07:11.848508",
     "status": "completed"
    },
    "tags": []
   },
   "outputs": [],
   "source": [
    "lr_learner = Learner(loss, model_lr, opt, config.num_epochs)\n",
    "acc_lr = ClfCallback(lr_learner, config.bs, training_data_x , testing_data_x, training_data_y, testing_data_y)\n",
    "lr_learner.set_callbacks([acc_lr])"
   ]
  },
  {
   "cell_type": "code",
   "execution_count": 22,
   "id": "d9b133c3",
   "metadata": {
    "execution": {
     "iopub.execute_input": "2021-10-11T20:07:11.941735Z",
     "iopub.status.busy": "2021-10-11T20:07:11.941323Z",
     "iopub.status.idle": "2021-10-11T20:08:32.301398Z",
     "shell.execute_reply": "2021-10-11T20:08:32.302195Z"
    },
    "papermill": {
     "duration": 80.387853,
     "end_time": "2021-10-11T20:08:32.302349",
     "exception": false,
     "start_time": "2021-10-11T20:07:11.914496",
     "status": "completed"
    },
    "tags": []
   },
   "outputs": [
    {
     "name": "stdout",
     "output_type": "stream",
     "text": [
      "Epoch 0, Loss 0.2152\n",
      "Training Accuracy: 0.7792, Testing Accuracy: 0.8034\n",
      "\n"
     ]
    },
    {
     "name": "stdout",
     "output_type": "stream",
     "text": [
      "Epoch 10, Loss 0.0786\n",
      "Training Accuracy: 0.9238, Testing Accuracy: 0.9335\n",
      "\n"
     ]
    },
    {
     "name": "stdout",
     "output_type": "stream",
     "text": [
      "Epoch 20, Loss 0.0519\n",
      "Training Accuracy: 0.9457, Testing Accuracy: 0.9546\n",
      "\n"
     ]
    },
    {
     "name": "stdout",
     "output_type": "stream",
     "text": [
      "Epoch 30, Loss 0.042\n",
      "Training Accuracy: 0.9539, Testing Accuracy: 0.9622\n",
      "\n"
     ]
    },
    {
     "name": "stdout",
     "output_type": "stream",
     "text": [
      "Epoch 40, Loss 0.0369\n",
      "Training Accuracy: 0.9593, Testing Accuracy: 0.9647\n",
      "\n"
     ]
    },
    {
     "name": "stdout",
     "output_type": "stream",
     "text": [
      "Epoch 50, Loss 0.0336\n",
      "Training Accuracy: 0.9625, Testing Accuracy: 0.9657\n",
      "\n"
     ]
    },
    {
     "name": "stdout",
     "output_type": "stream",
     "text": [
      "Epoch 60, Loss 0.0313\n",
      "Training Accuracy: 0.9640, Testing Accuracy: 0.9672\n",
      "\n"
     ]
    },
    {
     "name": "stdout",
     "output_type": "stream",
     "text": [
      "Epoch 70, Loss 0.0296\n",
      "Training Accuracy: 0.9658, Testing Accuracy: 0.9688\n",
      "\n"
     ]
    },
    {
     "name": "stdout",
     "output_type": "stream",
     "text": [
      "Epoch 80, Loss 0.0282\n",
      "Training Accuracy: 0.9665, Testing Accuracy: 0.9718\n",
      "\n"
     ]
    },
    {
     "name": "stdout",
     "output_type": "stream",
     "text": [
      "Epoch 90, Loss 0.027\n",
      "Training Accuracy: 0.9685, Testing Accuracy: 0.9728\n",
      "\n"
     ]
    },
    {
     "name": "stdout",
     "output_type": "stream",
     "text": [
      "Epoch 100, Loss 0.026\n",
      "Training Accuracy: 0.9700, Testing Accuracy: 0.9733\n",
      "\n"
     ]
    },
    {
     "name": "stdout",
     "output_type": "stream",
     "text": [
      "Epoch 110, Loss 0.0251\n",
      "Training Accuracy: 0.9711, Testing Accuracy: 0.9733\n",
      "\n"
     ]
    },
    {
     "name": "stdout",
     "output_type": "stream",
     "text": [
      "Epoch 120, Loss 0.0243\n",
      "Training Accuracy: 0.9720, Testing Accuracy: 0.9738\n",
      "\n"
     ]
    },
    {
     "name": "stdout",
     "output_type": "stream",
     "text": [
      "Epoch 130, Loss 0.0236\n",
      "Training Accuracy: 0.9725, Testing Accuracy: 0.9733\n",
      "\n"
     ]
    },
    {
     "name": "stdout",
     "output_type": "stream",
     "text": [
      "Epoch 140, Loss 0.023\n",
      "Training Accuracy: 0.9735, Testing Accuracy: 0.9733\n",
      "\n"
     ]
    },
    {
     "name": "stdout",
     "output_type": "stream",
     "text": [
      "Epoch 150, Loss 0.0224\n",
      "Training Accuracy: 0.9741, Testing Accuracy: 0.9733\n",
      "\n"
     ]
    },
    {
     "name": "stdout",
     "output_type": "stream",
     "text": [
      "Epoch 160, Loss 0.0218\n",
      "Training Accuracy: 0.9743, Testing Accuracy: 0.9738\n",
      "\n"
     ]
    },
    {
     "name": "stdout",
     "output_type": "stream",
     "text": [
      "Epoch 170, Loss 0.0213\n",
      "Training Accuracy: 0.9754, Testing Accuracy: 0.9748\n",
      "\n"
     ]
    },
    {
     "name": "stdout",
     "output_type": "stream",
     "text": [
      "Epoch 180, Loss 0.0209\n",
      "Training Accuracy: 0.9760, Testing Accuracy: 0.9743\n",
      "\n"
     ]
    },
    {
     "name": "stdout",
     "output_type": "stream",
     "text": [
      "Epoch 190, Loss 0.0204\n",
      "Training Accuracy: 0.9769, Testing Accuracy: 0.9743\n",
      "\n"
     ]
    },
    {
     "name": "stdout",
     "output_type": "stream",
     "text": [
      "Epoch 200, Loss 0.02\n",
      "Training Accuracy: 0.9776, Testing Accuracy: 0.9743\n",
      "\n"
     ]
    },
    {
     "name": "stdout",
     "output_type": "stream",
     "text": [
      "Epoch 210, Loss 0.0196\n",
      "Training Accuracy: 0.9782, Testing Accuracy: 0.9743\n",
      "\n"
     ]
    },
    {
     "name": "stdout",
     "output_type": "stream",
     "text": [
      "Epoch 220, Loss 0.0192\n",
      "Training Accuracy: 0.9788, Testing Accuracy: 0.9748\n",
      "\n"
     ]
    },
    {
     "name": "stdout",
     "output_type": "stream",
     "text": [
      "Epoch 230, Loss 0.0188\n",
      "Training Accuracy: 0.9793, Testing Accuracy: 0.9758\n",
      "\n"
     ]
    },
    {
     "name": "stdout",
     "output_type": "stream",
     "text": [
      "Epoch 240, Loss 0.0184\n",
      "Training Accuracy: 0.9796, Testing Accuracy: 0.9758\n",
      "\n"
     ]
    },
    {
     "data": {
      "text/plain": [
       "0.01989297079856315"
      ]
     },
     "execution_count": 22,
     "metadata": {},
     "output_type": "execute_result"
    }
   ],
   "source": [
    "nn_learner.train_loop(dl)"
   ]
  },
  {
   "cell_type": "code",
   "execution_count": 23,
   "id": "e0163366",
   "metadata": {
    "execution": {
     "iopub.execute_input": "2021-10-11T20:08:32.377041Z",
     "iopub.status.busy": "2021-10-11T20:08:32.376533Z",
     "iopub.status.idle": "2021-10-11T20:08:46.323966Z",
     "shell.execute_reply": "2021-10-11T20:08:46.324478Z"
    },
    "papermill": {
     "duration": 13.988278,
     "end_time": "2021-10-11T20:08:46.324653",
     "exception": false,
     "start_time": "2021-10-11T20:08:32.336375",
     "status": "completed"
    },
    "tags": []
   },
   "outputs": [
    {
     "name": "stdout",
     "output_type": "stream",
     "text": [
      "Epoch 0, Loss 0.2382\n",
      "Training Accuracy: 0.7171, Testing Accuracy: 0.7369\n",
      "\n"
     ]
    },
    {
     "name": "stdout",
     "output_type": "stream",
     "text": [
      "Epoch 10, Loss 0.1008\n",
      "Training Accuracy: 0.9171, Testing Accuracy: 0.9249\n",
      "\n"
     ]
    },
    {
     "name": "stdout",
     "output_type": "stream",
     "text": [
      "Epoch 20, Loss 0.0782\n",
      "Training Accuracy: 0.9313, Testing Accuracy: 0.9405\n",
      "\n"
     ]
    },
    {
     "name": "stdout",
     "output_type": "stream",
     "text": [
      "Epoch 30, Loss 0.0676\n",
      "Training Accuracy: 0.9394, Testing Accuracy: 0.9476\n",
      "\n"
     ]
    },
    {
     "name": "stdout",
     "output_type": "stream",
     "text": [
      "Epoch 40, Loss 0.0612\n",
      "Training Accuracy: 0.9426, Testing Accuracy: 0.9546\n",
      "\n"
     ]
    },
    {
     "name": "stdout",
     "output_type": "stream",
     "text": [
      "Epoch 50, Loss 0.0568\n",
      "Training Accuracy: 0.9458, Testing Accuracy: 0.9567\n",
      "\n"
     ]
    },
    {
     "name": "stdout",
     "output_type": "stream",
     "text": [
      "Epoch 60, Loss 0.0536\n",
      "Training Accuracy: 0.9488, Testing Accuracy: 0.9551\n",
      "\n"
     ]
    },
    {
     "name": "stdout",
     "output_type": "stream",
     "text": [
      "Epoch 70, Loss 0.051\n",
      "Training Accuracy: 0.9497, Testing Accuracy: 0.9556\n",
      "\n"
     ]
    },
    {
     "name": "stdout",
     "output_type": "stream",
     "text": [
      "Epoch 80, Loss 0.049\n",
      "Training Accuracy: 0.9518, Testing Accuracy: 0.9587\n",
      "\n"
     ]
    },
    {
     "name": "stdout",
     "output_type": "stream",
     "text": [
      "Epoch 90, Loss 0.0474\n",
      "Training Accuracy: 0.9527, Testing Accuracy: 0.9607\n",
      "\n"
     ]
    },
    {
     "name": "stdout",
     "output_type": "stream",
     "text": [
      "Epoch 100, Loss 0.046\n",
      "Training Accuracy: 0.9533, Testing Accuracy: 0.9612\n",
      "\n"
     ]
    },
    {
     "name": "stdout",
     "output_type": "stream",
     "text": [
      "Epoch 110, Loss 0.0448\n",
      "Training Accuracy: 0.9544, Testing Accuracy: 0.9622\n",
      "\n"
     ]
    },
    {
     "name": "stdout",
     "output_type": "stream",
     "text": [
      "Epoch 120, Loss 0.0437\n",
      "Training Accuracy: 0.9553, Testing Accuracy: 0.9632\n",
      "\n"
     ]
    },
    {
     "name": "stdout",
     "output_type": "stream",
     "text": [
      "Epoch 130, Loss 0.0428\n",
      "Training Accuracy: 0.9562, Testing Accuracy: 0.9637\n",
      "\n"
     ]
    },
    {
     "name": "stdout",
     "output_type": "stream",
     "text": [
      "Epoch 140, Loss 0.042\n",
      "Training Accuracy: 0.9569, Testing Accuracy: 0.9652\n",
      "\n"
     ]
    },
    {
     "name": "stdout",
     "output_type": "stream",
     "text": [
      "Epoch 150, Loss 0.0412\n",
      "Training Accuracy: 0.9574, Testing Accuracy: 0.9662\n",
      "\n"
     ]
    },
    {
     "name": "stdout",
     "output_type": "stream",
     "text": [
      "Epoch 160, Loss 0.0406\n",
      "Training Accuracy: 0.9579, Testing Accuracy: 0.9667\n",
      "\n"
     ]
    },
    {
     "name": "stdout",
     "output_type": "stream",
     "text": [
      "Epoch 170, Loss 0.04\n",
      "Training Accuracy: 0.9580, Testing Accuracy: 0.9667\n",
      "\n"
     ]
    },
    {
     "name": "stdout",
     "output_type": "stream",
     "text": [
      "Epoch 180, Loss 0.0394\n",
      "Training Accuracy: 0.9584, Testing Accuracy: 0.9672\n",
      "\n"
     ]
    },
    {
     "name": "stdout",
     "output_type": "stream",
     "text": [
      "Epoch 190, Loss 0.0389\n",
      "Training Accuracy: 0.9591, Testing Accuracy: 0.9677\n",
      "\n"
     ]
    },
    {
     "name": "stdout",
     "output_type": "stream",
     "text": [
      "Epoch 200, Loss 0.0384\n",
      "Training Accuracy: 0.9598, Testing Accuracy: 0.9682\n",
      "\n"
     ]
    },
    {
     "name": "stdout",
     "output_type": "stream",
     "text": [
      "Epoch 210, Loss 0.038\n",
      "Training Accuracy: 0.9602, Testing Accuracy: 0.9698\n",
      "\n"
     ]
    },
    {
     "name": "stdout",
     "output_type": "stream",
     "text": [
      "Epoch 220, Loss 0.0376\n",
      "Training Accuracy: 0.9602, Testing Accuracy: 0.9698\n",
      "\n"
     ]
    },
    {
     "name": "stdout",
     "output_type": "stream",
     "text": [
      "Epoch 230, Loss 0.0372\n",
      "Training Accuracy: 0.9605, Testing Accuracy: 0.9698\n",
      "\n"
     ]
    },
    {
     "name": "stdout",
     "output_type": "stream",
     "text": [
      "Epoch 240, Loss 0.0368\n",
      "Training Accuracy: 0.9608, Testing Accuracy: 0.9698\n",
      "\n"
     ]
    },
    {
     "data": {
      "text/plain": [
       "0.03368371505969703"
      ]
     },
     "execution_count": 23,
     "metadata": {},
     "output_type": "execute_result"
    }
   ],
   "source": [
    "lr_learner.train_loop(dl)"
   ]
  },
  {
   "cell_type": "code",
   "execution_count": 24,
   "id": "ca410940",
   "metadata": {
    "execution": {
     "iopub.execute_input": "2021-10-11T20:08:46.421950Z",
     "iopub.status.busy": "2021-10-11T20:08:46.421346Z",
     "iopub.status.idle": "2021-10-11T20:08:46.639735Z",
     "shell.execute_reply": "2021-10-11T20:08:46.639273Z"
    },
    "papermill": {
     "duration": 0.273664,
     "end_time": "2021-10-11T20:08:46.639873",
     "exception": false,
     "start_time": "2021-10-11T20:08:46.366209",
     "status": "completed"
    },
    "tags": []
   },
   "outputs": [
    {
     "data": {
      "text/plain": [
       "<matplotlib.legend.Legend at 0x7f67159e38d0>"
      ]
     },
     "execution_count": 24,
     "metadata": {},
     "output_type": "execute_result"
    },
    {
     "data": {
      "image/png": "[encoded data removed]",
      "text/plain": [
       "<Figure size 1080x720 with 1 Axes>"
      ]
     },
     "metadata": {
      "needs_background": "light"
     },
     "output_type": "display_data"
    }
   ],
   "source": [
    "#comparing the results of NN and LR\n",
    "plt.figure(figsize=(15,10))\n",
    "\n",
    "# Neural Network plots\n",
    "plt.plot(acc_nn.accuracies, 'r-', label = \"Training Accuracies - NN\")\n",
    "plt.plot(acc_nn.test_accuracies, 'g-', label = \"Testing Accuracies - NN\")\n",
    "\n",
    "# Logistic Regression plots\n",
    "plt.plot(acc_lr.accuracies, 'k-', label = \"Training Accuracies - LR\")\n",
    "plt.plot(acc_lr.test_accuracies, 'b-', label = \"Testing Accuracies - LR\")\n",
    "plt.legend()"
   ]
  },
  {
   "cell_type": "markdown",
   "id": "80dfb35c",
   "metadata": {
    "papermill": {
     "duration": 0.043167,
     "end_time": "2021-10-11T20:08:46.726134",
     "exception": false,
     "start_time": "2021-10-11T20:08:46.682967",
     "status": "completed"
    },
    "tags": []
   },
   "source": [
    "#### Plotting the outputs of this layer of the NN.\n"
   ]
  },
  {
   "cell_type": "code",
   "execution_count": 25,
   "id": "45eb2ff5",
   "metadata": {
    "execution": {
     "iopub.execute_input": "2021-10-11T20:08:46.819189Z",
     "iopub.status.busy": "2021-10-11T20:08:46.818624Z",
     "iopub.status.idle": "2021-10-11T20:08:46.839012Z",
     "shell.execute_reply": "2021-10-11T20:08:46.839483Z"
    },
    "papermill": {
     "duration": 0.070028,
     "end_time": "2021-10-11T20:08:46.839622",
     "exception": false,
     "start_time": "2021-10-11T20:08:46.769594",
     "status": "completed"
    },
    "tags": []
   },
   "outputs": [],
   "source": [
    "new_model = Model(layers[:-2])\n",
    "testing_plot = new_model(testing_data_x)"
   ]
  },
  {
   "cell_type": "code",
   "execution_count": 26,
   "id": "4c0a5485",
   "metadata": {
    "execution": {
     "iopub.execute_input": "2021-10-11T20:08:46.943757Z",
     "iopub.status.busy": "2021-10-11T20:08:46.943200Z",
     "iopub.status.idle": "2021-10-11T20:08:47.163992Z",
     "shell.execute_reply": "2021-10-11T20:08:47.163494Z"
    },
    "papermill": {
     "duration": 0.270653,
     "end_time": "2021-10-11T20:08:47.164118",
     "exception": false,
     "start_time": "2021-10-11T20:08:46.893465",
     "status": "completed"
    },
    "tags": []
   },
   "outputs": [
    {
     "data": {
      "text/plain": [
       "Text(0.5, 1.0, 'Outputs')"
      ]
     },
     "execution_count": 26,
     "metadata": {},
     "output_type": "execute_result"
    },
    {
     "data": {
      "image/png": "[encoded data removed]",
      "text/plain": [
       "<Figure size 576x504 with 1 Axes>"
      ]
     },
     "metadata": {
      "needs_background": "light"
     },
     "output_type": "display_data"
    }
   ],
   "source": [
    "# Plotting the scatter plot of points and color coding by class\n",
    "plt.figure(figsize=(8,7))\n",
    "plt.scatter(testing_plot[:,0], testing_plot[:,1], alpha = 0.1, c = y_test.ravel());\n",
    "plt.title('Outputs')"
   ]
  },
  {
   "cell_type": "markdown",
   "id": "a74fcf8f",
   "metadata": {
    "papermill": {
     "duration": 0.044575,
     "end_time": "2021-10-11T20:08:47.252225",
     "exception": false,
     "start_time": "2021-10-11T20:08:47.207650",
     "status": "completed"
    },
    "tags": []
   },
   "source": [
    "Probability contours"
   ]
  },
  {
   "cell_type": "code",
   "execution_count": 27,
   "id": "d0afc8e3",
   "metadata": {
    "execution": {
     "iopub.execute_input": "2021-10-11T20:08:47.350224Z",
     "iopub.status.busy": "2021-10-11T20:08:47.349536Z",
     "iopub.status.idle": "2021-10-11T20:08:47.359948Z",
     "shell.execute_reply": "2021-10-11T20:08:47.359491Z"
    },
    "papermill": {
     "duration": 0.062341,
     "end_time": "2021-10-11T20:08:47.360070",
     "exception": false,
     "start_time": "2021-10-11T20:08:47.297729",
     "status": "completed"
    },
    "tags": []
   },
   "outputs": [],
   "source": [
    "model_prob = Model(layers[-2:]) "
   ]
  },
  {
   "cell_type": "code",
   "execution_count": 28,
   "id": "9b96e238",
   "metadata": {
    "execution": {
     "iopub.execute_input": "2021-10-11T20:08:47.465495Z",
     "iopub.status.busy": "2021-10-11T20:08:47.464158Z",
     "iopub.status.idle": "2021-10-11T20:08:47.478891Z",
     "shell.execute_reply": "2021-10-11T20:08:47.479303Z"
    },
    "papermill": {
     "duration": 0.06979,
     "end_time": "2021-10-11T20:08:47.479443",
     "exception": false,
     "start_time": "2021-10-11T20:08:47.409653",
     "status": "completed"
    },
    "tags": []
   },
   "outputs": [],
   "source": [
    "#creating the x and y ranges according to the above generated plot.\n",
    "x_range = np.linspace(-4, 1, 100) \n",
    "y_range = np.linspace(-6, 6, 100) \n",
    "x_grid, y_grid = np.meshgrid(x_range, y_range) # x_grid and y_grig are of size 100 X 100\n",
    "\n",
    "# converting x_grid and y_grid to continuous arrays\n",
    "x_gridflat = np.ravel(x_grid)\n",
    "y_gridflat = np.ravel(y_grid)\n",
    "\n",
    "# The last layer of the current model takes two columns as input. Hence transpose of np.vstack() is required.\n",
    "X = np.vstack((x_gridflat, y_gridflat)).T\n",
    "\n",
    "prob_contour = model_prob(X).reshape(100,100) "
   ]
  },
  {
   "cell_type": "code",
   "execution_count": 29,
   "id": "da72499a",
   "metadata": {
    "execution": {
     "iopub.execute_input": "2021-10-11T20:08:47.593798Z",
     "iopub.status.busy": "2021-10-11T20:08:47.593265Z",
     "iopub.status.idle": "2021-10-11T20:08:47.834195Z",
     "shell.execute_reply": "2021-10-11T20:08:47.834659Z"
    },
    "papermill": {
     "duration": 0.301521,
     "end_time": "2021-10-11T20:08:47.834806",
     "exception": false,
     "start_time": "2021-10-11T20:08:47.533285",
     "status": "completed"
    },
    "tags": []
   },
   "outputs": [
    {
     "data": {
      "image/png": "[encoded data removed]",
      "text/plain": [
       "<Figure size 720x648 with 1 Axes>"
      ]
     },
     "metadata": {
      "needs_background": "light"
     },
     "output_type": "display_data"
    }
   ],
   "source": [
    "plt.figure(figsize=(10,9))\n",
    "plt.scatter(testing_plot[:,0], testing_plot[:,1], alpha = 0.1, c = y_test.ravel())\n",
    "contours = plt.contour(x_grid,y_grid,prob_contour)\n",
    "plt.title('Probability Contours')\n",
    "plt.clabel(contours, inline = True );"
   ]
  },
  {
   "cell_type": "code",
   "execution_count": null,
   "id": "e81b4ac7",
   "metadata": {
    "papermill": {
     "duration": 0.042398,
     "end_time": "2021-10-11T20:08:47.950337",
     "exception": false,
     "start_time": "2021-10-11T20:08:47.907939",
     "status": "completed"
    },
    "tags": []
   },
   "outputs": [],
   "source": []
  }
 ],
 "metadata": {
  "kernelspec": {
   "display_name": "Python 3",
   "language": "python",
   "name": "python3"
  },
  "language_info": {
   "codemirror_mode": {
    "name": "ipython",
    "version": 3
   },
   "file_extension": ".py",
   "mimetype": "text/x-python",
   "name": "python",
   "nbconvert_exporter": "python",
   "pygments_lexer": "ipython3",
   "version": "3.6.15"
  },
  "papermill": {
   "default_parameters": {},
   "duration": 102.248435,
   "end_time": "2021-10-11T20:08:48.302723",
   "environment_variables": {},
   "exception": null,
   "input_path": "2020-08-11-part2.ipynb",
   "output_path": "2020-08-11-part2.ipynb",
   "parameters": {},
   "start_time": "2021-10-11T20:07:06.054288",
   "version": "2.3.3"
  }
 },
 "nbformat": 4,
 "nbformat_minor": 5
}