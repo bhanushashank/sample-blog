{
 "cells": [
  {
   "cell_type": "markdown",
   "id": "98380cd3",
   "metadata": {
    "papermill": {
     "duration": 0.033453,
     "end_time": "2022-10-09T10:11:33.708835",
     "exception": false,
     "start_time": "2022-10-09T10:11:33.675382",
     "status": "completed"
    },
    "tags": []
   },
   "source": [
    "# Distinguish Your Own Digits (DYOD)"
   ]
  },
  {
   "cell_type": "markdown",
   "id": "ef31240d",
   "metadata": {
    "papermill": {
     "duration": 0.026737,
     "end_time": "2022-10-09T10:11:33.762317",
     "exception": false,
     "start_time": "2022-10-09T10:11:33.735580",
     "status": "completed"
    },
    "tags": []
   },
   "source": [
    "You are going to write a classifier that distinguishes between the number 3 and number 8."
   ]
  },
  {
   "cell_type": "code",
   "execution_count": 1,
   "id": "b15c8646",
   "metadata": {
    "execution": {
     "iopub.execute_input": "2022-10-09T10:11:33.829531Z",
     "iopub.status.busy": "2022-10-09T10:11:33.828832Z",
     "iopub.status.idle": "2022-10-09T10:11:33.841630Z",
     "shell.execute_reply": "2022-10-09T10:11:33.841039Z"
    },
    "papermill": {
     "duration": 0.052969,
     "end_time": "2022-10-09T10:11:33.841773",
     "exception": false,
     "start_time": "2022-10-09T10:11:33.788804",
     "status": "completed"
    },
    "tags": []
   },
   "outputs": [],
   "source": [
    "%load_ext autoreload\n",
    "%autoreload 2"
   ]
  },
  {
   "cell_type": "code",
   "execution_count": 2,
   "id": "22ef38dc",
   "metadata": {
    "execution": {
     "iopub.execute_input": "2022-10-09T10:11:33.900070Z",
     "iopub.status.busy": "2022-10-09T10:11:33.899378Z",
     "iopub.status.idle": "2022-10-09T10:11:34.516236Z",
     "shell.execute_reply": "2022-10-09T10:11:34.517102Z"
    },
    "papermill": {
     "duration": 0.648869,
     "end_time": "2022-10-09T10:11:34.517277",
     "exception": false,
     "start_time": "2022-10-09T10:11:33.868408",
     "status": "completed"
    },
    "tags": []
   },
   "outputs": [],
   "source": [
    "%matplotlib inline\n",
    "import numpy as np\n",
    "import matplotlib.pyplot as plt\n",
    "import pandas as pd"
   ]
  },
  {
   "cell_type": "markdown",
   "id": "ba036198",
   "metadata": {
    "papermill": {
     "duration": 0.026229,
     "end_time": "2022-10-09T10:11:34.569696",
     "exception": false,
     "start_time": "2022-10-09T10:11:34.543467",
     "status": "completed"
    },
    "tags": []
   },
   "source": [
    "From the command line run `pip install mnist`. This is a library that will help you bring down the mnist dataset. If you run this from a notebook, you need to put  `!pip install mnist` in a cell by itself."
   ]
  },
  {
   "cell_type": "code",
   "execution_count": 3,
   "id": "bb6ad8a1",
   "metadata": {
    "execution": {
     "iopub.execute_input": "2022-10-09T10:11:34.626190Z",
     "iopub.status.busy": "2022-10-09T10:11:34.625469Z",
     "iopub.status.idle": "2022-10-09T10:11:36.424670Z",
     "shell.execute_reply": "2022-10-09T10:11:36.425332Z"
    },
    "papermill": {
     "duration": 1.83046,
     "end_time": "2022-10-09T10:11:36.425498",
     "exception": false,
     "start_time": "2022-10-09T10:11:34.595038",
     "status": "completed"
    },
    "tags": []
   },
   "outputs": [
    {
     "name": "stdout",
     "output_type": "stream",
     "text": [
      "Collecting mnist\r\n"
     ]
    },
    {
     "name": "stdout",
     "output_type": "stream",
     "text": [
      "  Downloading mnist-0.2.2-py2.py3-none-any.whl (3.5 kB)\r\n",
      "Requirement already satisfied: numpy in /opt/hostedtoolcache/Python/3.6.15/x64/lib/python3.6/site-packages (from mnist) (1.19.5)\r\n"
     ]
    },
    {
     "name": "stdout",
     "output_type": "stream",
     "text": [
      "Installing collected packages: mnist\r\n",
      "Successfully installed mnist-0.2.2\r\n"
     ]
    }
   ],
   "source": [
    "!pip install mnist"
   ]
  },
  {
   "cell_type": "markdown",
   "id": "69df9c9a",
   "metadata": {
    "papermill": {
     "duration": 0.028201,
     "end_time": "2022-10-09T10:11:36.481934",
     "exception": false,
     "start_time": "2022-10-09T10:11:36.453733",
     "status": "completed"
    },
    "tags": []
   },
   "source": [
    "## Preparing the Data"
   ]
  },
  {
   "cell_type": "code",
   "execution_count": 4,
   "id": "7f69d806",
   "metadata": {
    "execution": {
     "iopub.execute_input": "2022-10-09T10:11:36.557866Z",
     "iopub.status.busy": "2022-10-09T10:11:36.552316Z",
     "iopub.status.idle": "2022-10-09T10:11:36.564122Z",
     "shell.execute_reply": "2022-10-09T10:11:36.565201Z"
    },
    "papermill": {
     "duration": 0.055671,
     "end_time": "2022-10-09T10:11:36.565369",
     "exception": false,
     "start_time": "2022-10-09T10:11:36.509698",
     "status": "completed"
    },
    "tags": []
   },
   "outputs": [],
   "source": [
    "import mnist"
   ]
  },
  {
   "cell_type": "code",
   "execution_count": 5,
   "id": "a411e44f",
   "metadata": {
    "execution": {
     "iopub.execute_input": "2022-10-09T10:11:36.635805Z",
     "iopub.status.busy": "2022-10-09T10:11:36.628707Z",
     "iopub.status.idle": "2022-10-09T10:11:37.209936Z",
     "shell.execute_reply": "2022-10-09T10:11:37.209340Z"
    },
    "papermill": {
     "duration": 0.61666,
     "end_time": "2022-10-09T10:11:37.210104",
     "exception": false,
     "start_time": "2022-10-09T10:11:36.593444",
     "status": "completed"
    },
    "tags": []
   },
   "outputs": [],
   "source": [
    "train_images = mnist.train_images()\n",
    "train_labels = mnist.train_labels()"
   ]
  },
  {
   "cell_type": "code",
   "execution_count": 6,
   "id": "dceab3a5",
   "metadata": {
    "execution": {
     "iopub.execute_input": "2022-10-09T10:11:37.274642Z",
     "iopub.status.busy": "2022-10-09T10:11:37.273916Z",
     "iopub.status.idle": "2022-10-09T10:11:37.293163Z",
     "shell.execute_reply": "2022-10-09T10:11:37.292430Z"
    },
    "papermill": {
     "duration": 0.054194,
     "end_time": "2022-10-09T10:11:37.293306",
     "exception": false,
     "start_time": "2022-10-09T10:11:37.239112",
     "status": "completed"
    },
    "tags": []
   },
   "outputs": [
    {
     "data": {
      "text/plain": [
       "((60000, 28, 28), (60000,))"
      ]
     },
     "execution_count": 6,
     "metadata": {},
     "output_type": "execute_result"
    }
   ],
   "source": [
    "train_images.shape, train_labels.shape"
   ]
  },
  {
   "cell_type": "code",
   "execution_count": 7,
   "id": "f50dc2bb",
   "metadata": {
    "execution": {
     "iopub.execute_input": "2022-10-09T10:11:37.358860Z",
     "iopub.status.busy": "2022-10-09T10:11:37.358173Z",
     "iopub.status.idle": "2022-10-09T10:11:37.487974Z",
     "shell.execute_reply": "2022-10-09T10:11:37.487164Z"
    },
    "papermill": {
     "duration": 0.166367,
     "end_time": "2022-10-09T10:11:37.488152",
     "exception": false,
     "start_time": "2022-10-09T10:11:37.321785",
     "status": "completed"
    },
    "tags": []
   },
   "outputs": [],
   "source": [
    "test_images = mnist.test_images()\n",
    "test_labels = mnist.test_labels()"
   ]
  },
  {
   "cell_type": "code",
   "execution_count": 8,
   "id": "fc38cf1b",
   "metadata": {
    "execution": {
     "iopub.execute_input": "2022-10-09T10:11:37.550476Z",
     "iopub.status.busy": "2022-10-09T10:11:37.549746Z",
     "iopub.status.idle": "2022-10-09T10:11:37.565969Z",
     "shell.execute_reply": "2022-10-09T10:11:37.565408Z"
    },
    "papermill": {
     "duration": 0.049379,
     "end_time": "2022-10-09T10:11:37.566129",
     "exception": false,
     "start_time": "2022-10-09T10:11:37.516750",
     "status": "completed"
    },
    "tags": []
   },
   "outputs": [
    {
     "data": {
      "text/plain": [
       "((10000, 28, 28), (10000,))"
      ]
     },
     "execution_count": 8,
     "metadata": {},
     "output_type": "execute_result"
    }
   ],
   "source": [
    "test_images.shape, test_labels.shape"
   ]
  },
  {
   "cell_type": "code",
   "execution_count": 9,
   "id": "f9ed8fe0",
   "metadata": {
    "execution": {
     "iopub.execute_input": "2022-10-09T10:11:37.631302Z",
     "iopub.status.busy": "2022-10-09T10:11:37.630591Z",
     "iopub.status.idle": "2022-10-09T10:11:37.797344Z",
     "shell.execute_reply": "2022-10-09T10:11:37.796734Z"
    },
    "papermill": {
     "duration": 0.202844,
     "end_time": "2022-10-09T10:11:37.797483",
     "exception": false,
     "start_time": "2022-10-09T10:11:37.594639",
     "status": "completed"
    },
    "tags": []
   },
   "outputs": [
    {
     "name": "stdout",
     "output_type": "stream",
     "text": [
      "2\n"
     ]
    },
    {
     "data": {
      "text/plain": [
       "<matplotlib.image.AxesImage at 0x7fbc2af59cf8>"
      ]
     },
     "execution_count": 9,
     "metadata": {},
     "output_type": "execute_result"
    },
    {
     "data": {
      "image/png": "[encoded data removed]",
      "text/plain": [
       "<Figure size 432x288 with 1 Axes>"
      ]
     },
     "metadata": {
      "needs_background": "light"
     },
     "output_type": "display_data"
    }
   ],
   "source": [
    "image_index = 7776 # You may select anything up to 60,000\n",
    "print(train_labels[image_index]) \n",
    "plt.imshow(train_images[image_index], cmap='Greys')"
   ]
  },
  {
   "cell_type": "markdown",
   "id": "a8d2388d",
   "metadata": {
    "papermill": {
     "duration": 0.030081,
     "end_time": "2022-10-09T10:11:37.858131",
     "exception": false,
     "start_time": "2022-10-09T10:11:37.828050",
     "status": "completed"
    },
    "tags": []
   },
   "source": [
    "## Filter data to get 3 and 8 out"
   ]
  },
  {
   "cell_type": "code",
   "execution_count": 10,
   "id": "776f7fc7",
   "metadata": {
    "execution": {
     "iopub.execute_input": "2022-10-09T10:11:37.927033Z",
     "iopub.status.busy": "2022-10-09T10:11:37.924561Z",
     "iopub.status.idle": "2022-10-09T10:11:37.943449Z",
     "shell.execute_reply": "2022-10-09T10:11:37.942871Z"
    },
    "papermill": {
     "duration": 0.055844,
     "end_time": "2022-10-09T10:11:37.943585",
     "exception": false,
     "start_time": "2022-10-09T10:11:37.887741",
     "status": "completed"
    },
    "tags": []
   },
   "outputs": [],
   "source": [
    "train_filter = np.where((train_labels == 3 ) | (train_labels == 8))\n",
    "test_filter = np.where((test_labels == 3) | (test_labels == 8))\n",
    "X_train, y_train = train_images[train_filter], train_labels[train_filter]\n",
    "X_test, y_test = test_images[test_filter], test_labels[test_filter]"
   ]
  },
  {
   "cell_type": "markdown",
   "id": "948f0b7e",
   "metadata": {
    "papermill": {
     "duration": 0.029538,
     "end_time": "2022-10-09T10:11:38.002953",
     "exception": false,
     "start_time": "2022-10-09T10:11:37.973415",
     "status": "completed"
    },
    "tags": []
   },
   "source": [
    "We normalize the pizel values in the 0 to 1 range"
   ]
  },
  {
   "cell_type": "code",
   "execution_count": 11,
   "id": "ee4c2166",
   "metadata": {
    "execution": {
     "iopub.execute_input": "2022-10-09T10:11:38.067747Z",
     "iopub.status.busy": "2022-10-09T10:11:38.067053Z",
     "iopub.status.idle": "2022-10-09T10:11:38.122580Z",
     "shell.execute_reply": "2022-10-09T10:11:38.121921Z"
    },
    "papermill": {
     "duration": 0.090202,
     "end_time": "2022-10-09T10:11:38.122719",
     "exception": false,
     "start_time": "2022-10-09T10:11:38.032517",
     "status": "completed"
    },
    "tags": []
   },
   "outputs": [],
   "source": [
    "X_train = X_train/255.\n",
    "X_test = X_test/255."
   ]
  },
  {
   "cell_type": "markdown",
   "id": "ddcf4fab",
   "metadata": {
    "papermill": {
     "duration": 0.029617,
     "end_time": "2022-10-09T10:11:38.182424",
     "exception": false,
     "start_time": "2022-10-09T10:11:38.152807",
     "status": "completed"
    },
    "tags": []
   },
   "source": [
    "And setup the labels as 1 (when the digit is 3) and 0 (when the digit is 8)"
   ]
  },
  {
   "cell_type": "code",
   "execution_count": 12,
   "id": "7dc908f2",
   "metadata": {
    "execution": {
     "iopub.execute_input": "2022-10-09T10:11:38.253736Z",
     "iopub.status.busy": "2022-10-09T10:11:38.253028Z",
     "iopub.status.idle": "2022-10-09T10:11:38.266121Z",
     "shell.execute_reply": "2022-10-09T10:11:38.265521Z"
    },
    "papermill": {
     "duration": 0.054059,
     "end_time": "2022-10-09T10:11:38.266261",
     "exception": false,
     "start_time": "2022-10-09T10:11:38.212202",
     "status": "completed"
    },
    "tags": []
   },
   "outputs": [],
   "source": [
    "y_train = 1*(y_train==3)\n",
    "y_test = 1*(y_test==3)"
   ]
  },
  {
   "cell_type": "code",
   "execution_count": 13,
   "id": "01e4e969",
   "metadata": {
    "execution": {
     "iopub.execute_input": "2022-10-09T10:11:38.330200Z",
     "iopub.status.busy": "2022-10-09T10:11:38.329494Z",
     "iopub.status.idle": "2022-10-09T10:11:38.345724Z",
     "shell.execute_reply": "2022-10-09T10:11:38.345166Z"
    },
    "papermill": {
     "duration": 0.049614,
     "end_time": "2022-10-09T10:11:38.345858",
     "exception": false,
     "start_time": "2022-10-09T10:11:38.296244",
     "status": "completed"
    },
    "tags": []
   },
   "outputs": [
    {
     "data": {
      "text/plain": [
       "((11982, 28, 28), (1984, 28, 28))"
      ]
     },
     "execution_count": 13,
     "metadata": {},
     "output_type": "execute_result"
    }
   ],
   "source": [
    "X_train.shape, X_test.shape"
   ]
  },
  {
   "cell_type": "markdown",
   "id": "5ccf3f85",
   "metadata": {
    "papermill": {
     "duration": 0.02997,
     "end_time": "2022-10-09T10:11:38.405809",
     "exception": false,
     "start_time": "2022-10-09T10:11:38.375839",
     "status": "completed"
    },
    "tags": []
   },
   "source": [
    "We reshape the data to flatten the image pixels into a set of features or co-variates:"
   ]
  },
  {
   "cell_type": "code",
   "execution_count": 14,
   "id": "5286a4a3",
   "metadata": {
    "execution": {
     "iopub.execute_input": "2022-10-09T10:11:38.470387Z",
     "iopub.status.busy": "2022-10-09T10:11:38.469677Z",
     "iopub.status.idle": "2022-10-09T10:11:38.485456Z",
     "shell.execute_reply": "2022-10-09T10:11:38.485977Z"
    },
    "papermill": {
     "duration": 0.050205,
     "end_time": "2022-10-09T10:11:38.486162",
     "exception": false,
     "start_time": "2022-10-09T10:11:38.435957",
     "status": "completed"
    },
    "tags": []
   },
   "outputs": [
    {
     "data": {
      "text/plain": [
       "((11982, 784), (1984, 784))"
      ]
     },
     "execution_count": 14,
     "metadata": {},
     "output_type": "execute_result"
    }
   ],
   "source": [
    "X_train = X_train.reshape(X_train.shape[0], -1)\n",
    "X_test = X_test.reshape(X_test.shape[0], -1)\n",
    "X_train.shape, X_test.shape"
   ]
  },
  {
   "cell_type": "code",
   "execution_count": 15,
   "id": "73c5f88a",
   "metadata": {
    "execution": {
     "iopub.execute_input": "2022-10-09T10:11:38.552043Z",
     "iopub.status.busy": "2022-10-09T10:11:38.551354Z",
     "iopub.status.idle": "2022-10-09T10:11:38.573411Z",
     "shell.execute_reply": "2022-10-09T10:11:38.572825Z"
    },
    "papermill": {
     "duration": 0.057037,
     "end_time": "2022-10-09T10:11:38.573544",
     "exception": false,
     "start_time": "2022-10-09T10:11:38.516507",
     "status": "completed"
    },
    "tags": []
   },
   "outputs": [],
   "source": [
    "#Impoting functions from 'Kudzu'\n",
    "from kudzu.model import Model\n",
    "from kudzu.train import Learner\n",
    "from kudzu.optim import GD\n",
    "from kudzu.data import Data, Sampler,Dataloader\n",
    "\n",
    "from kudzu.callbacks import AccCallback\n",
    "from kudzu.callbacks import ClfCallback\n",
    "\n",
    "from kudzu.loss import MSE\n",
    "\n",
    "from kudzu.layer import Sigmoid,Relu\n",
    "from kudzu.layer import Affine"
   ]
  },
  {
   "cell_type": "markdown",
   "id": "bc01172a",
   "metadata": {
    "papermill": {
     "duration": 0.030015,
     "end_time": "2022-10-09T10:11:38.633851",
     "exception": false,
     "start_time": "2022-10-09T10:11:38.603836",
     "status": "completed"
    },
    "tags": []
   },
   "source": [
    "### Let us create a `Config` class, to store important parameters. \n",
    "This class essentially plays the role of a dictionary."
   ]
  },
  {
   "cell_type": "code",
   "execution_count": 16,
   "id": "978281aa",
   "metadata": {
    "execution": {
     "iopub.execute_input": "2022-10-09T10:11:38.699649Z",
     "iopub.status.busy": "2022-10-09T10:11:38.698961Z",
     "iopub.status.idle": "2022-10-09T10:11:38.713375Z",
     "shell.execute_reply": "2022-10-09T10:11:38.712703Z"
    },
    "papermill": {
     "duration": 0.049558,
     "end_time": "2022-10-09T10:11:38.713508",
     "exception": false,
     "start_time": "2022-10-09T10:11:38.663950",
     "status": "completed"
    },
    "tags": []
   },
   "outputs": [],
   "source": [
    "class Config:\n",
    "    pass\n",
    "config = Config()\n",
    "config.lr = 0.001\n",
    "config.num_epochs = 250\n",
    "config.bs = 50"
   ]
  },
  {
   "cell_type": "markdown",
   "id": "1385fa59",
   "metadata": {
    "papermill": {
     "duration": 0.030095,
     "end_time": "2022-10-09T10:11:38.774049",
     "exception": false,
     "start_time": "2022-10-09T10:11:38.743954",
     "status": "completed"
    },
    "tags": []
   },
   "source": [
    "### Running Models with the Training data\n",
    "Details about the network layers:\n",
    "- A first affine layer has 784 inputs and does 100 affine transforms. These are followed by a Relu\n",
    "- A second affine layer has 100 inputs from the 100 activations of the past layer, and does 100 affine transforms. These are followed by a Relu\n",
    "- A third affine layer has 100 activations and does 2 affine transformations to create an embedding for visualization. There is no non-linearity here.\n",
    "- A final \"logistic regression\" which has an affine transform from 2 inputs to 1 output, which is squeezed through a sigmoid.\n"
   ]
  },
  {
   "cell_type": "code",
   "execution_count": 17,
   "id": "2b9c66db",
   "metadata": {
    "execution": {
     "iopub.execute_input": "2022-10-09T10:11:38.839257Z",
     "iopub.status.busy": "2022-10-09T10:11:38.838563Z",
     "iopub.status.idle": "2022-10-09T10:11:38.854284Z",
     "shell.execute_reply": "2022-10-09T10:11:38.854831Z"
    },
    "papermill": {
     "duration": 0.050765,
     "end_time": "2022-10-09T10:11:38.854990",
     "exception": false,
     "start_time": "2022-10-09T10:11:38.804225",
     "status": "completed"
    },
    "tags": []
   },
   "outputs": [],
   "source": [
    "data = Data(X_train, y_train.reshape(-1,1))\n",
    "sampler = Sampler(data, config.bs, shuffle=True)\n",
    "\n",
    "dl = Dataloader(data, sampler)\n",
    "\n",
    "opt = GD(config.lr)\n",
    "loss = MSE()"
   ]
  },
  {
   "cell_type": "code",
   "execution_count": 18,
   "id": "b275e4c2",
   "metadata": {
    "execution": {
     "iopub.execute_input": "2022-10-09T10:11:38.923086Z",
     "iopub.status.busy": "2022-10-09T10:11:38.922347Z",
     "iopub.status.idle": "2022-10-09T10:11:38.935507Z",
     "shell.execute_reply": "2022-10-09T10:11:38.934944Z"
    },
    "papermill": {
     "duration": 0.050284,
     "end_time": "2022-10-09T10:11:38.935642",
     "exception": false,
     "start_time": "2022-10-09T10:11:38.885358",
     "status": "completed"
    },
    "tags": []
   },
   "outputs": [],
   "source": [
    "training_data_x = X_train\n",
    "testing_data_x = X_test\n",
    "training_data_y = y_train.reshape(-1,1)\n",
    "testing_data_y = y_test.reshape(-1,1)"
   ]
  },
  {
   "cell_type": "code",
   "execution_count": 19,
   "id": "76951160",
   "metadata": {
    "execution": {
     "iopub.execute_input": "2022-10-09T10:11:39.001318Z",
     "iopub.status.busy": "2022-10-09T10:11:39.000633Z",
     "iopub.status.idle": "2022-10-09T10:11:39.019379Z",
     "shell.execute_reply": "2022-10-09T10:11:39.019944Z"
    },
    "papermill": {
     "duration": 0.054301,
     "end_time": "2022-10-09T10:11:39.020095",
     "exception": false,
     "start_time": "2022-10-09T10:11:38.965794",
     "status": "completed"
    },
    "tags": []
   },
   "outputs": [
    {
     "name": "stdout",
     "output_type": "stream",
     "text": [
      "xavier\n",
      "xavier\n",
      "xavier\n",
      "xavier\n",
      "xavier\n"
     ]
    }
   ],
   "source": [
    "layers = [Affine(\"first\", 784, 100), Relu(\"first\"), Affine(\"second\", 100, 100), Relu(\"second\"), Affine(\"third\", 100, 2), Affine(\"last\", 2, 1), Sigmoid(\"last\")]\n",
    "model_nn = Model(layers)\n",
    "model_lr = Model([Affine(\"logits\", 784, 1), Sigmoid(\"sigmoid\")])"
   ]
  },
  {
   "cell_type": "code",
   "execution_count": 20,
   "id": "6eede77a",
   "metadata": {
    "execution": {
     "iopub.execute_input": "2022-10-09T10:11:39.086447Z",
     "iopub.status.busy": "2022-10-09T10:11:39.085722Z",
     "iopub.status.idle": "2022-10-09T10:11:39.100688Z",
     "shell.execute_reply": "2022-10-09T10:11:39.100108Z"
    },
    "papermill": {
     "duration": 0.049815,
     "end_time": "2022-10-09T10:11:39.100820",
     "exception": false,
     "start_time": "2022-10-09T10:11:39.051005",
     "status": "completed"
    },
    "tags": []
   },
   "outputs": [],
   "source": [
    "nn_learner = Learner(loss, model_nn, opt, config.num_epochs)\n",
    "acc_nn = ClfCallback(nn_learner, config.bs, training_data_x , testing_data_x, training_data_y, testing_data_y)\n",
    "nn_learner.set_callbacks([acc_nn])"
   ]
  },
  {
   "cell_type": "code",
   "execution_count": 21,
   "id": "877b6cc7",
   "metadata": {
    "execution": {
     "iopub.execute_input": "2022-10-09T10:11:39.167049Z",
     "iopub.status.busy": "2022-10-09T10:11:39.166360Z",
     "iopub.status.idle": "2022-10-09T10:11:39.181590Z",
     "shell.execute_reply": "2022-10-09T10:11:39.182120Z"
    },
    "papermill": {
     "duration": 0.050669,
     "end_time": "2022-10-09T10:11:39.182284",
     "exception": false,
     "start_time": "2022-10-09T10:11:39.131615",
     "status": "completed"
    },
    "tags": []
   },
   "outputs": [],
   "source": [
    "lr_learner = Learner(loss, model_lr, opt, config.num_epochs)\n",
    "acc_lr = ClfCallback(lr_learner, config.bs, training_data_x , testing_data_x, training_data_y, testing_data_y)\n",
    "lr_learner.set_callbacks([acc_lr])"
   ]
  },
  {
   "cell_type": "code",
   "execution_count": 22,
   "id": "d9b133c3",
   "metadata": {
    "execution": {
     "iopub.execute_input": "2022-10-09T10:11:39.247845Z",
     "iopub.status.busy": "2022-10-09T10:11:39.247170Z",
     "iopub.status.idle": "2022-10-09T10:13:06.910650Z",
     "shell.execute_reply": "2022-10-09T10:13:06.911663Z"
    },
    "papermill": {
     "duration": 87.698762,
     "end_time": "2022-10-09T10:13:06.911833",
     "exception": false,
     "start_time": "2022-10-09T10:11:39.213071",
     "status": "completed"
    },
    "tags": []
   },
   "outputs": [
    {
     "name": "stdout",
     "output_type": "stream",
     "text": [
      "Epoch 0, Loss 0.2475\n",
      "Training Accuracy: 0.5748, Testing Accuracy: 0.6018\n",
      "\n"
     ]
    },
    {
     "name": "stdout",
     "output_type": "stream",
     "text": [
      "Epoch 10, Loss 0.1993\n",
      "Training Accuracy: 0.8877, Testing Accuracy: 0.9022\n",
      "\n"
     ]
    },
    {
     "name": "stdout",
     "output_type": "stream",
     "text": [
      "Epoch 20, Loss 0.1032\n",
      "Training Accuracy: 0.9163, Testing Accuracy: 0.9254\n",
      "\n"
     ]
    },
    {
     "name": "stdout",
     "output_type": "stream",
     "text": [
      "Epoch 30, Loss 0.0638\n",
      "Training Accuracy: 0.9321, Testing Accuracy: 0.9466\n",
      "\n"
     ]
    },
    {
     "name": "stdout",
     "output_type": "stream",
     "text": [
      "Epoch 40, Loss 0.0498\n",
      "Training Accuracy: 0.9440, Testing Accuracy: 0.9597\n",
      "\n"
     ]
    },
    {
     "name": "stdout",
     "output_type": "stream",
     "text": [
      "Epoch 50, Loss 0.0427\n",
      "Training Accuracy: 0.9519, Testing Accuracy: 0.9657\n",
      "\n"
     ]
    },
    {
     "name": "stdout",
     "output_type": "stream",
     "text": [
      "Epoch 60, Loss 0.0385\n",
      "Training Accuracy: 0.9565, Testing Accuracy: 0.9688\n",
      "\n"
     ]
    },
    {
     "name": "stdout",
     "output_type": "stream",
     "text": [
      "Epoch 70, Loss 0.0356\n",
      "Training Accuracy: 0.9591, Testing Accuracy: 0.9677\n",
      "\n"
     ]
    },
    {
     "name": "stdout",
     "output_type": "stream",
     "text": [
      "Epoch 80, Loss 0.0334\n",
      "Training Accuracy: 0.9615, Testing Accuracy: 0.9688\n",
      "\n"
     ]
    },
    {
     "name": "stdout",
     "output_type": "stream",
     "text": [
      "Epoch 90, Loss 0.0317\n",
      "Training Accuracy: 0.9632, Testing Accuracy: 0.9698\n",
      "\n"
     ]
    },
    {
     "name": "stdout",
     "output_type": "stream",
     "text": [
      "Epoch 100, Loss 0.0304\n",
      "Training Accuracy: 0.9649, Testing Accuracy: 0.9688\n",
      "\n"
     ]
    },
    {
     "name": "stdout",
     "output_type": "stream",
     "text": [
      "Epoch 110, Loss 0.0293\n",
      "Training Accuracy: 0.9664, Testing Accuracy: 0.9703\n",
      "\n"
     ]
    },
    {
     "name": "stdout",
     "output_type": "stream",
     "text": [
      "Epoch 120, Loss 0.0284\n",
      "Training Accuracy: 0.9674, Testing Accuracy: 0.9682\n",
      "\n"
     ]
    },
    {
     "name": "stdout",
     "output_type": "stream",
     "text": [
      "Epoch 130, Loss 0.0275\n",
      "Training Accuracy: 0.9682, Testing Accuracy: 0.9677\n",
      "\n"
     ]
    },
    {
     "name": "stdout",
     "output_type": "stream",
     "text": [
      "Epoch 140, Loss 0.0268\n",
      "Training Accuracy: 0.9695, Testing Accuracy: 0.9682\n",
      "\n"
     ]
    },
    {
     "name": "stdout",
     "output_type": "stream",
     "text": [
      "Epoch 150, Loss 0.0261\n",
      "Training Accuracy: 0.9703, Testing Accuracy: 0.9682\n",
      "\n"
     ]
    },
    {
     "name": "stdout",
     "output_type": "stream",
     "text": [
      "Epoch 160, Loss 0.0256\n",
      "Training Accuracy: 0.9707, Testing Accuracy: 0.9677\n",
      "\n"
     ]
    },
    {
     "name": "stdout",
     "output_type": "stream",
     "text": [
      "Epoch 170, Loss 0.025\n",
      "Training Accuracy: 0.9712, Testing Accuracy: 0.9677\n",
      "\n"
     ]
    },
    {
     "name": "stdout",
     "output_type": "stream",
     "text": [
      "Epoch 180, Loss 0.0245\n",
      "Training Accuracy: 0.9720, Testing Accuracy: 0.9682\n",
      "\n"
     ]
    },
    {
     "name": "stdout",
     "output_type": "stream",
     "text": [
      "Epoch 190, Loss 0.024\n",
      "Training Accuracy: 0.9727, Testing Accuracy: 0.9688\n",
      "\n"
     ]
    },
    {
     "name": "stdout",
     "output_type": "stream",
     "text": [
      "Epoch 200, Loss 0.0236\n",
      "Training Accuracy: 0.9732, Testing Accuracy: 0.9708\n",
      "\n"
     ]
    },
    {
     "name": "stdout",
     "output_type": "stream",
     "text": [
      "Epoch 210, Loss 0.0232\n",
      "Training Accuracy: 0.9740, Testing Accuracy: 0.9703\n",
      "\n"
     ]
    },
    {
     "name": "stdout",
     "output_type": "stream",
     "text": [
      "Epoch 220, Loss 0.0228\n",
      "Training Accuracy: 0.9746, Testing Accuracy: 0.9718\n",
      "\n"
     ]
    },
    {
     "name": "stdout",
     "output_type": "stream",
     "text": [
      "Epoch 230, Loss 0.0224\n",
      "Training Accuracy: 0.9750, Testing Accuracy: 0.9718\n",
      "\n"
     ]
    },
    {
     "name": "stdout",
     "output_type": "stream",
     "text": [
      "Epoch 240, Loss 0.0221\n",
      "Training Accuracy: 0.9755, Testing Accuracy: 0.9718\n",
      "\n"
     ]
    },
    {
     "data": {
      "text/plain": [
       "0.031833150143682785"
      ]
     },
     "execution_count": 22,
     "metadata": {},
     "output_type": "execute_result"
    }
   ],
   "source": [
    "nn_learner.train_loop(dl)"
   ]
  },
  {
   "cell_type": "code",
   "execution_count": 23,
   "id": "e0163366",
   "metadata": {
    "execution": {
     "iopub.execute_input": "2022-10-09T10:13:07.003044Z",
     "iopub.status.busy": "2022-10-09T10:13:07.002376Z",
     "iopub.status.idle": "2022-10-09T10:13:22.705392Z",
     "shell.execute_reply": "2022-10-09T10:13:22.706383Z"
    },
    "papermill": {
     "duration": 15.755127,
     "end_time": "2022-10-09T10:13:22.706551",
     "exception": false,
     "start_time": "2022-10-09T10:13:06.951424",
     "status": "completed"
    },
    "tags": []
   },
   "outputs": [
    {
     "name": "stdout",
     "output_type": "stream",
     "text": [
      "Epoch 0, Loss 0.2647\n",
      "Training Accuracy: 0.5976, Testing Accuracy: 0.6245\n",
      "\n"
     ]
    },
    {
     "name": "stdout",
     "output_type": "stream",
     "text": [
      "Epoch 10, Loss 0.1025\n",
      "Training Accuracy: 0.9142, Testing Accuracy: 0.9204\n",
      "\n"
     ]
    },
    {
     "name": "stdout",
     "output_type": "stream",
     "text": [
      "Epoch 20, Loss 0.0784\n",
      "Training Accuracy: 0.9298, Testing Accuracy: 0.9385\n",
      "\n"
     ]
    },
    {
     "name": "stdout",
     "output_type": "stream",
     "text": [
      "Epoch 30, Loss 0.0676\n",
      "Training Accuracy: 0.9367, Testing Accuracy: 0.9461\n",
      "\n"
     ]
    },
    {
     "name": "stdout",
     "output_type": "stream",
     "text": [
      "Epoch 40, Loss 0.0611\n",
      "Training Accuracy: 0.9417, Testing Accuracy: 0.9521\n",
      "\n"
     ]
    },
    {
     "name": "stdout",
     "output_type": "stream",
     "text": [
      "Epoch 50, Loss 0.0567\n",
      "Training Accuracy: 0.9452, Testing Accuracy: 0.9551\n",
      "\n"
     ]
    },
    {
     "name": "stdout",
     "output_type": "stream",
     "text": [
      "Epoch 60, Loss 0.0535\n",
      "Training Accuracy: 0.9478, Testing Accuracy: 0.9577\n",
      "\n"
     ]
    },
    {
     "name": "stdout",
     "output_type": "stream",
     "text": [
      "Epoch 70, Loss 0.051\n",
      "Training Accuracy: 0.9490, Testing Accuracy: 0.9592\n",
      "\n"
     ]
    },
    {
     "name": "stdout",
     "output_type": "stream",
     "text": [
      "Epoch 80, Loss 0.049\n",
      "Training Accuracy: 0.9513, Testing Accuracy: 0.9602\n",
      "\n"
     ]
    },
    {
     "name": "stdout",
     "output_type": "stream",
     "text": [
      "Epoch 90, Loss 0.0473\n",
      "Training Accuracy: 0.9527, Testing Accuracy: 0.9607\n",
      "\n"
     ]
    },
    {
     "name": "stdout",
     "output_type": "stream",
     "text": [
      "Epoch 100, Loss 0.0459\n",
      "Training Accuracy: 0.9532, Testing Accuracy: 0.9622\n",
      "\n"
     ]
    },
    {
     "name": "stdout",
     "output_type": "stream",
     "text": [
      "Epoch 110, Loss 0.0447\n",
      "Training Accuracy: 0.9544, Testing Accuracy: 0.9617\n",
      "\n"
     ]
    },
    {
     "name": "stdout",
     "output_type": "stream",
     "text": [
      "Epoch 120, Loss 0.0436\n",
      "Training Accuracy: 0.9552, Testing Accuracy: 0.9627\n",
      "\n"
     ]
    },
    {
     "name": "stdout",
     "output_type": "stream",
     "text": [
      "Epoch 130, Loss 0.0427\n",
      "Training Accuracy: 0.9559, Testing Accuracy: 0.9627\n",
      "\n"
     ]
    },
    {
     "name": "stdout",
     "output_type": "stream",
     "text": [
      "Epoch 140, Loss 0.0419\n",
      "Training Accuracy: 0.9569, Testing Accuracy: 0.9627\n",
      "\n"
     ]
    },
    {
     "name": "stdout",
     "output_type": "stream",
     "text": [
      "Epoch 150, Loss 0.0412\n",
      "Training Accuracy: 0.9576, Testing Accuracy: 0.9637\n",
      "\n"
     ]
    },
    {
     "name": "stdout",
     "output_type": "stream",
     "text": [
      "Epoch 160, Loss 0.0405\n",
      "Training Accuracy: 0.9584, Testing Accuracy: 0.9642\n",
      "\n"
     ]
    },
    {
     "name": "stdout",
     "output_type": "stream",
     "text": [
      "Epoch 170, Loss 0.0399\n",
      "Training Accuracy: 0.9594, Testing Accuracy: 0.9642\n",
      "\n"
     ]
    },
    {
     "name": "stdout",
     "output_type": "stream",
     "text": [
      "Epoch 180, Loss 0.0393\n",
      "Training Accuracy: 0.9598, Testing Accuracy: 0.9642\n",
      "\n"
     ]
    },
    {
     "name": "stdout",
     "output_type": "stream",
     "text": [
      "Epoch 190, Loss 0.0388\n",
      "Training Accuracy: 0.9601, Testing Accuracy: 0.9642\n",
      "\n"
     ]
    },
    {
     "name": "stdout",
     "output_type": "stream",
     "text": [
      "Epoch 200, Loss 0.0383\n",
      "Training Accuracy: 0.9604, Testing Accuracy: 0.9642\n",
      "\n"
     ]
    },
    {
     "name": "stdout",
     "output_type": "stream",
     "text": [
      "Epoch 210, Loss 0.0379\n",
      "Training Accuracy: 0.9608, Testing Accuracy: 0.9632\n",
      "\n"
     ]
    },
    {
     "name": "stdout",
     "output_type": "stream",
     "text": [
      "Epoch 220, Loss 0.0375\n",
      "Training Accuracy: 0.9613, Testing Accuracy: 0.9632\n",
      "\n"
     ]
    },
    {
     "name": "stdout",
     "output_type": "stream",
     "text": [
      "Epoch 230, Loss 0.0371\n",
      "Training Accuracy: 0.9619, Testing Accuracy: 0.9637\n",
      "\n"
     ]
    },
    {
     "name": "stdout",
     "output_type": "stream",
     "text": [
      "Epoch 240, Loss 0.0367\n",
      "Training Accuracy: 0.9622, Testing Accuracy: 0.9637\n",
      "\n"
     ]
    },
    {
     "data": {
      "text/plain": [
       "0.05466739435236587"
      ]
     },
     "execution_count": 23,
     "metadata": {},
     "output_type": "execute_result"
    }
   ],
   "source": [
    "lr_learner.train_loop(dl)"
   ]
  },
  {
   "cell_type": "code",
   "execution_count": 24,
   "id": "ca410940",
   "metadata": {
    "execution": {
     "iopub.execute_input": "2022-10-09T10:13:22.806952Z",
     "iopub.status.busy": "2022-10-09T10:13:22.806247Z",
     "iopub.status.idle": "2022-10-09T10:13:23.082206Z",
     "shell.execute_reply": "2022-10-09T10:13:23.081286Z"
    },
    "papermill": {
     "duration": 0.329815,
     "end_time": "2022-10-09T10:13:23.082356",
     "exception": false,
     "start_time": "2022-10-09T10:13:22.752541",
     "status": "completed"
    },
    "tags": []
   },
   "outputs": [
    {
     "data": {
      "text/plain": [
       "<matplotlib.legend.Legend at 0x7fbc1e31c320>"
      ]
     },
     "execution_count": 24,
     "metadata": {},
     "output_type": "execute_result"
    },
    {
     "data": {
      "image/png": "[encoded data removed]",
      "text/plain": [
       "<Figure size 1080x720 with 1 Axes>"
      ]
     },
     "metadata": {
      "needs_background": "light"
     },
     "output_type": "display_data"
    }
   ],
   "source": [
    "#comparing the results of NN and LR\n",
    "plt.figure(figsize=(15,10))\n",
    "\n",
    "# Neural Network plots\n",
    "plt.plot(acc_nn.accuracies, 'r-', label = \"Training Accuracies - NN\")\n",
    "plt.plot(acc_nn.test_accuracies, 'g-', label = \"Testing Accuracies - NN\")\n",
    "\n",
    "# Logistic Regression plots\n",
    "plt.plot(acc_lr.accuracies, 'k-', label = \"Training Accuracies - LR\")\n",
    "plt.plot(acc_lr.test_accuracies, 'b-', label = \"Testing Accuracies - LR\")\n",
    "plt.legend()"
   ]
  },
  {
   "cell_type": "markdown",
   "id": "80dfb35c",
   "metadata": {
    "papermill": {
     "duration": 0.04704,
     "end_time": "2022-10-09T10:13:23.177102",
     "exception": false,
     "start_time": "2022-10-09T10:13:23.130062",
     "status": "completed"
    },
    "tags": []
   },
   "source": [
    "#### Plotting the outputs of this layer of the NN.\n"
   ]
  },
  {
   "cell_type": "code",
   "execution_count": 25,
   "id": "45eb2ff5",
   "metadata": {
    "execution": {
     "iopub.execute_input": "2022-10-09T10:13:23.277895Z",
     "iopub.status.busy": "2022-10-09T10:13:23.276688Z",
     "iopub.status.idle": "2022-10-09T10:13:23.299987Z",
     "shell.execute_reply": "2022-10-09T10:13:23.299385Z"
    },
    "papermill": {
     "duration": 0.076783,
     "end_time": "2022-10-09T10:13:23.300523",
     "exception": false,
     "start_time": "2022-10-09T10:13:23.223740",
     "status": "completed"
    },
    "tags": []
   },
   "outputs": [],
   "source": [
    "new_model = Model(layers[:-2])\n",
    "testing_plot = new_model(testing_data_x)"
   ]
  },
  {
   "cell_type": "code",
   "execution_count": 26,
   "id": "4c0a5485",
   "metadata": {
    "execution": {
     "iopub.execute_input": "2022-10-09T10:13:23.408885Z",
     "iopub.status.busy": "2022-10-09T10:13:23.408239Z",
     "iopub.status.idle": "2022-10-09T10:13:23.653728Z",
     "shell.execute_reply": "2022-10-09T10:13:23.653185Z"
    },
    "papermill": {
     "duration": 0.303195,
     "end_time": "2022-10-09T10:13:23.653861",
     "exception": false,
     "start_time": "2022-10-09T10:13:23.350666",
     "status": "completed"
    },
    "tags": []
   },
   "outputs": [
    {
     "data": {
      "text/plain": [
       "Text(0.5, 1.0, 'Outputs')"
      ]
     },
     "execution_count": 26,
     "metadata": {},
     "output_type": "execute_result"
    },
    {
     "data": {
      "image/png": "[encoded data removed]",
      "text/plain": [
       "<Figure size 576x504 with 1 Axes>"
      ]
     },
     "metadata": {
      "needs_background": "light"
     },
     "output_type": "display_data"
    }
   ],
   "source": [
    "# Plotting the scatter plot of points and color coding by class\n",
    "plt.figure(figsize=(8,7))\n",
    "plt.scatter(testing_plot[:,0], testing_plot[:,1], alpha = 0.1, c = y_test.ravel());\n",
    "plt.title('Outputs')"
   ]
  },
  {
   "cell_type": "markdown",
   "id": "a74fcf8f",
   "metadata": {
    "papermill": {
     "duration": 0.049205,
     "end_time": "2022-10-09T10:13:23.753388",
     "exception": false,
     "start_time": "2022-10-09T10:13:23.704183",
     "status": "completed"
    },
    "tags": []
   },
   "source": [
    "Probability contours"
   ]
  },
  {
   "cell_type": "code",
   "execution_count": 27,
   "id": "d0afc8e3",
   "metadata": {
    "execution": {
     "iopub.execute_input": "2022-10-09T10:13:23.856691Z",
     "iopub.status.busy": "2022-10-09T10:13:23.856003Z",
     "iopub.status.idle": "2022-10-09T10:13:23.870042Z",
     "shell.execute_reply": "2022-10-09T10:13:23.870556Z"
    },
    "papermill": {
     "duration": 0.06789,
     "end_time": "2022-10-09T10:13:23.870715",
     "exception": false,
     "start_time": "2022-10-09T10:13:23.802825",
     "status": "completed"
    },
    "tags": []
   },
   "outputs": [],
   "source": [
    "model_prob = Model(layers[-2:]) "
   ]
  },
  {
   "cell_type": "code",
   "execution_count": 28,
   "id": "9b96e238",
   "metadata": {
    "execution": {
     "iopub.execute_input": "2022-10-09T10:13:24.006833Z",
     "iopub.status.busy": "2022-10-09T10:13:24.006134Z",
     "iopub.status.idle": "2022-10-09T10:13:24.021657Z",
     "shell.execute_reply": "2022-10-09T10:13:24.022182Z"
    },
    "papermill": {
     "duration": 0.102168,
     "end_time": "2022-10-09T10:13:24.022353",
     "exception": false,
     "start_time": "2022-10-09T10:13:23.920185",
     "status": "completed"
    },
    "tags": []
   },
   "outputs": [],
   "source": [
    "#creating the x and y ranges according to the above generated plot.\n",
    "x_range = np.linspace(-4, 1, 100) \n",
    "y_range = np.linspace(-6, 6, 100) \n",
    "x_grid, y_grid = np.meshgrid(x_range, y_range) # x_grid and y_grig are of size 100 X 100\n",
    "\n",
    "# converting x_grid and y_grid to continuous arrays\n",
    "x_gridflat = np.ravel(x_grid)\n",
    "y_gridflat = np.ravel(y_grid)\n",
    "\n",
    "# The last layer of the current model takes two columns as input. Hence transpose of np.vstack() is required.\n",
    "X = np.vstack((x_gridflat, y_gridflat)).T\n",
    "\n",
    "prob_contour = model_prob(X).reshape(100,100) "
   ]
  },
  {
   "cell_type": "code",
   "execution_count": 29,
   "id": "da72499a",
   "metadata": {
    "execution": {
     "iopub.execute_input": "2022-10-09T10:13:24.129276Z",
     "iopub.status.busy": "2022-10-09T10:13:24.128588Z",
     "iopub.status.idle": "2022-10-09T10:13:24.433458Z",
     "shell.execute_reply": "2022-10-09T10:13:24.433959Z"
    },
    "papermill": {
     "duration": 0.361597,
     "end_time": "2022-10-09T10:13:24.434147",
     "exception": false,
     "start_time": "2022-10-09T10:13:24.072550",
     "status": "completed"
    },
    "tags": []
   },
   "outputs": [
    {
     "data": {
      "image/png": "[encoded data removed]",
      "text/plain": [
       "<Figure size 720x648 with 1 Axes>"
      ]
     },
     "metadata": {
      "needs_background": "light"
     },
     "output_type": "display_data"
    }
   ],
   "source": [
    "plt.figure(figsize=(10,9))\n",
    "plt.scatter(testing_plot[:,0], testing_plot[:,1], alpha = 0.1, c = y_test.ravel())\n",
    "contours = plt.contour(x_grid,y_grid,prob_contour)\n",
    "plt.title('Probability Contours')\n",
    "plt.clabel(contours, inline = True );"
   ]
  },
  {
   "cell_type": "code",
   "execution_count": null,
   "id": "e81b4ac7",
   "metadata": {
    "papermill": {
     "duration": 0.052636,
     "end_time": "2022-10-09T10:13:24.538908",
     "exception": false,
     "start_time": "2022-10-09T10:13:24.486272",
     "status": "completed"
    },
    "tags": []
   },
   "outputs": [],
   "source": []
  }
 ],
 "metadata": {
  "kernelspec": {
   "display_name": "Python 3",
   "language": "python",
   "name": "python3"
  },
  "language_info": {
   "codemirror_mode": {
    "name": "ipython",
    "version": 3
   },
   "file_extension": ".py",
   "mimetype": "text/x-python",
   "name": "python",
   "nbconvert_exporter": "python",
   "pygments_lexer": "ipython3",
   "version": "3.6.15"
  },
  "papermill": {
   "default_parameters": {},
   "duration": 112.635193,
   "end_time": "2022-10-09T10:13:25.012049",
   "environment_variables": {},
   "exception": null,
   "input_path": "2020-08-11-part2.ipynb",
   "output_path": "2020-08-11-part2.ipynb",
   "parameters": {},
   "start_time": "2022-10-09T10:11:32.376856",
   "version": "2.3.3"
  }
 },
 "nbformat": 4,
 "nbformat_minor": 5
}