{
 "cells": [
  {
   "cell_type": "markdown",
   "id": "98380cd3",
   "metadata": {
    "papermill": {
     "duration": 0.029184,
     "end_time": "2022-09-26T20:11:44.623799",
     "exception": false,
     "start_time": "2022-09-26T20:11:44.594615",
     "status": "completed"
    },
    "tags": []
   },
   "source": [
    "# Distinguish Your Own Digits (DYOD)"
   ]
  },
  {
   "cell_type": "markdown",
   "id": "ef31240d",
   "metadata": {
    "papermill": {
     "duration": 0.023732,
     "end_time": "2022-09-26T20:11:44.672270",
     "exception": false,
     "start_time": "2022-09-26T20:11:44.648538",
     "status": "completed"
    },
    "tags": []
   },
   "source": [
    "You are going to write a classifier that distinguishes between the number 3 and number 8."
   ]
  },
  {
   "cell_type": "code",
   "execution_count": 1,
   "id": "b15c8646",
   "metadata": {
    "execution": {
     "iopub.execute_input": "2022-09-26T20:11:44.731263Z",
     "iopub.status.busy": "2022-09-26T20:11:44.730670Z",
     "iopub.status.idle": "2022-09-26T20:11:44.741765Z",
     "shell.execute_reply": "2022-09-26T20:11:44.741281Z"
    },
    "papermill": {
     "duration": 0.045562,
     "end_time": "2022-09-26T20:11:44.741886",
     "exception": false,
     "start_time": "2022-09-26T20:11:44.696324",
     "status": "completed"
    },
    "tags": []
   },
   "outputs": [],
   "source": [
    "%load_ext autoreload\n",
    "%autoreload 2"
   ]
  },
  {
   "cell_type": "code",
   "execution_count": 2,
   "id": "22ef38dc",
   "metadata": {
    "execution": {
     "iopub.execute_input": "2022-09-26T20:11:44.793482Z",
     "iopub.status.busy": "2022-09-26T20:11:44.792885Z",
     "iopub.status.idle": "2022-09-26T20:11:45.313431Z",
     "shell.execute_reply": "2022-09-26T20:11:45.312401Z"
    },
    "papermill": {
     "duration": 0.547879,
     "end_time": "2022-09-26T20:11:45.313578",
     "exception": false,
     "start_time": "2022-09-26T20:11:44.765699",
     "status": "completed"
    },
    "tags": []
   },
   "outputs": [],
   "source": [
    "%matplotlib inline\n",
    "import numpy as np\n",
    "import matplotlib.pyplot as plt\n",
    "import pandas as pd"
   ]
  },
  {
   "cell_type": "markdown",
   "id": "ba036198",
   "metadata": {
    "papermill": {
     "duration": 0.023873,
     "end_time": "2022-09-26T20:11:45.362083",
     "exception": false,
     "start_time": "2022-09-26T20:11:45.338210",
     "status": "completed"
    },
    "tags": []
   },
   "source": [
    "From the command line run `pip install mnist`. This is a library that will help you bring down the mnist dataset. If you run this from a notebook, you need to put  `!pip install mnist` in a cell by itself."
   ]
  },
  {
   "cell_type": "code",
   "execution_count": 3,
   "id": "bb6ad8a1",
   "metadata": {
    "execution": {
     "iopub.execute_input": "2022-09-26T20:11:45.413635Z",
     "iopub.status.busy": "2022-09-26T20:11:45.413041Z",
     "iopub.status.idle": "2022-09-26T20:11:47.004478Z",
     "shell.execute_reply": "2022-09-26T20:11:47.003323Z"
    },
    "papermill": {
     "duration": 1.618704,
     "end_time": "2022-09-26T20:11:47.004632",
     "exception": false,
     "start_time": "2022-09-26T20:11:45.385928",
     "status": "completed"
    },
    "tags": []
   },
   "outputs": [
    {
     "name": "stdout",
     "output_type": "stream",
     "text": [
      "Collecting mnist\r\n"
     ]
    },
    {
     "name": "stdout",
     "output_type": "stream",
     "text": [
      "  Downloading mnist-0.2.2-py2.py3-none-any.whl (3.5 kB)\r\n",
      "Requirement already satisfied: numpy in /opt/hostedtoolcache/Python/3.6.15/x64/lib/python3.6/site-packages (from mnist) (1.19.5)\r\n"
     ]
    },
    {
     "name": "stdout",
     "output_type": "stream",
     "text": [
      "Installing collected packages: mnist\r\n",
      "Successfully installed mnist-0.2.2\r\n"
     ]
    }
   ],
   "source": [
    "!pip install mnist"
   ]
  },
  {
   "cell_type": "markdown",
   "id": "69df9c9a",
   "metadata": {
    "papermill": {
     "duration": 0.024597,
     "end_time": "2022-09-26T20:11:47.054187",
     "exception": false,
     "start_time": "2022-09-26T20:11:47.029590",
     "status": "completed"
    },
    "tags": []
   },
   "source": [
    "## Preparing the Data"
   ]
  },
  {
   "cell_type": "code",
   "execution_count": 4,
   "id": "7f69d806",
   "metadata": {
    "execution": {
     "iopub.execute_input": "2022-09-26T20:11:47.107354Z",
     "iopub.status.busy": "2022-09-26T20:11:47.106775Z",
     "iopub.status.idle": "2022-09-26T20:11:47.122021Z",
     "shell.execute_reply": "2022-09-26T20:11:47.121546Z"
    },
    "papermill": {
     "duration": 0.043406,
     "end_time": "2022-09-26T20:11:47.122130",
     "exception": false,
     "start_time": "2022-09-26T20:11:47.078724",
     "status": "completed"
    },
    "tags": []
   },
   "outputs": [],
   "source": [
    "import mnist"
   ]
  },
  {
   "cell_type": "code",
   "execution_count": 5,
   "id": "a411e44f",
   "metadata": {
    "execution": {
     "iopub.execute_input": "2022-09-26T20:11:47.176713Z",
     "iopub.status.busy": "2022-09-26T20:11:47.176096Z",
     "iopub.status.idle": "2022-09-26T20:11:47.746244Z",
     "shell.execute_reply": "2022-09-26T20:11:47.745739Z"
    },
    "papermill": {
     "duration": 0.599567,
     "end_time": "2022-09-26T20:11:47.746371",
     "exception": false,
     "start_time": "2022-09-26T20:11:47.146804",
     "status": "completed"
    },
    "tags": []
   },
   "outputs": [],
   "source": [
    "train_images = mnist.train_images()\n",
    "train_labels = mnist.train_labels()"
   ]
  },
  {
   "cell_type": "code",
   "execution_count": 6,
   "id": "dceab3a5",
   "metadata": {
    "execution": {
     "iopub.execute_input": "2022-09-26T20:11:47.809188Z",
     "iopub.status.busy": "2022-09-26T20:11:47.806534Z",
     "iopub.status.idle": "2022-09-26T20:11:47.818730Z",
     "shell.execute_reply": "2022-09-26T20:11:47.817966Z"
    },
    "papermill": {
     "duration": 0.047499,
     "end_time": "2022-09-26T20:11:47.818839",
     "exception": false,
     "start_time": "2022-09-26T20:11:47.771340",
     "status": "completed"
    },
    "tags": []
   },
   "outputs": [
    {
     "data": {
      "text/plain": [
       "((60000, 28, 28), (60000,))"
      ]
     },
     "execution_count": 6,
     "metadata": {},
     "output_type": "execute_result"
    }
   ],
   "source": [
    "train_images.shape, train_labels.shape"
   ]
  },
  {
   "cell_type": "code",
   "execution_count": 7,
   "id": "f50dc2bb",
   "metadata": {
    "execution": {
     "iopub.execute_input": "2022-09-26T20:11:47.872000Z",
     "iopub.status.busy": "2022-09-26T20:11:47.871424Z",
     "iopub.status.idle": "2022-09-26T20:11:48.037657Z",
     "shell.execute_reply": "2022-09-26T20:11:48.036949Z"
    },
    "papermill": {
     "duration": 0.194053,
     "end_time": "2022-09-26T20:11:48.037793",
     "exception": false,
     "start_time": "2022-09-26T20:11:47.843740",
     "status": "completed"
    },
    "tags": []
   },
   "outputs": [],
   "source": [
    "test_images = mnist.test_images()\n",
    "test_labels = mnist.test_labels()"
   ]
  },
  {
   "cell_type": "code",
   "execution_count": 8,
   "id": "fc38cf1b",
   "metadata": {
    "execution": {
     "iopub.execute_input": "2022-09-26T20:11:48.093970Z",
     "iopub.status.busy": "2022-09-26T20:11:48.093377Z",
     "iopub.status.idle": "2022-09-26T20:11:48.105758Z",
     "shell.execute_reply": "2022-09-26T20:11:48.105284Z"
    },
    "papermill": {
     "duration": 0.042698,
     "end_time": "2022-09-26T20:11:48.105866",
     "exception": false,
     "start_time": "2022-09-26T20:11:48.063168",
     "status": "completed"
    },
    "tags": []
   },
   "outputs": [
    {
     "data": {
      "text/plain": [
       "((10000, 28, 28), (10000,))"
      ]
     },
     "execution_count": 8,
     "metadata": {},
     "output_type": "execute_result"
    }
   ],
   "source": [
    "test_images.shape, test_labels.shape"
   ]
  },
  {
   "cell_type": "code",
   "execution_count": 9,
   "id": "f9ed8fe0",
   "metadata": {
    "execution": {
     "iopub.execute_input": "2022-09-26T20:11:48.159794Z",
     "iopub.status.busy": "2022-09-26T20:11:48.159219Z",
     "iopub.status.idle": "2022-09-26T20:11:48.297155Z",
     "shell.execute_reply": "2022-09-26T20:11:48.296604Z"
    },
    "papermill": {
     "duration": 0.166359,
     "end_time": "2022-09-26T20:11:48.297292",
     "exception": false,
     "start_time": "2022-09-26T20:11:48.130933",
     "status": "completed"
    },
    "tags": []
   },
   "outputs": [
    {
     "name": "stdout",
     "output_type": "stream",
     "text": [
      "2\n"
     ]
    },
    {
     "data": {
      "text/plain": [
       "<matplotlib.image.AxesImage at 0x7f1a00b97cf8>"
      ]
     },
     "execution_count": 9,
     "metadata": {},
     "output_type": "execute_result"
    },
    {
     "data": {
      "image/png": "[encoded data removed]",
      "text/plain": [
       "<Figure size 432x288 with 1 Axes>"
      ]
     },
     "metadata": {
      "needs_background": "light"
     },
     "output_type": "display_data"
    }
   ],
   "source": [
    "image_index = 7776 # You may select anything up to 60,000\n",
    "print(train_labels[image_index]) \n",
    "plt.imshow(train_images[image_index], cmap='Greys')"
   ]
  },
  {
   "cell_type": "markdown",
   "id": "a8d2388d",
   "metadata": {
    "papermill": {
     "duration": 0.026591,
     "end_time": "2022-09-26T20:11:48.351531",
     "exception": false,
     "start_time": "2022-09-26T20:11:48.324940",
     "status": "completed"
    },
    "tags": []
   },
   "source": [
    "## Filter data to get 3 and 8 out"
   ]
  },
  {
   "cell_type": "code",
   "execution_count": 10,
   "id": "776f7fc7",
   "metadata": {
    "execution": {
     "iopub.execute_input": "2022-09-26T20:11:48.408626Z",
     "iopub.status.busy": "2022-09-26T20:11:48.408006Z",
     "iopub.status.idle": "2022-09-26T20:11:48.425439Z",
     "shell.execute_reply": "2022-09-26T20:11:48.425916Z"
    },
    "papermill": {
     "duration": 0.048155,
     "end_time": "2022-09-26T20:11:48.426042",
     "exception": false,
     "start_time": "2022-09-26T20:11:48.377887",
     "status": "completed"
    },
    "tags": []
   },
   "outputs": [],
   "source": [
    "train_filter = np.where((train_labels == 3 ) | (train_labels == 8))\n",
    "test_filter = np.where((test_labels == 3) | (test_labels == 8))\n",
    "X_train, y_train = train_images[train_filter], train_labels[train_filter]\n",
    "X_test, y_test = test_images[test_filter], test_labels[test_filter]"
   ]
  },
  {
   "cell_type": "markdown",
   "id": "948f0b7e",
   "metadata": {
    "papermill": {
     "duration": 0.02627,
     "end_time": "2022-09-26T20:11:48.478707",
     "exception": false,
     "start_time": "2022-09-26T20:11:48.452437",
     "status": "completed"
    },
    "tags": []
   },
   "source": [
    "We normalize the pizel values in the 0 to 1 range"
   ]
  },
  {
   "cell_type": "code",
   "execution_count": 11,
   "id": "ee4c2166",
   "metadata": {
    "execution": {
     "iopub.execute_input": "2022-09-26T20:11:48.549416Z",
     "iopub.status.busy": "2022-09-26T20:11:48.545451Z",
     "iopub.status.idle": "2022-09-26T20:11:48.586241Z",
     "shell.execute_reply": "2022-09-26T20:11:48.585709Z"
    },
    "papermill": {
     "duration": 0.081232,
     "end_time": "2022-09-26T20:11:48.586360",
     "exception": false,
     "start_time": "2022-09-26T20:11:48.505128",
     "status": "completed"
    },
    "tags": []
   },
   "outputs": [],
   "source": [
    "X_train = X_train/255.\n",
    "X_test = X_test/255."
   ]
  },
  {
   "cell_type": "markdown",
   "id": "ddcf4fab",
   "metadata": {
    "papermill": {
     "duration": 0.02639,
     "end_time": "2022-09-26T20:11:48.639517",
     "exception": false,
     "start_time": "2022-09-26T20:11:48.613127",
     "status": "completed"
    },
    "tags": []
   },
   "source": [
    "And setup the labels as 1 (when the digit is 3) and 0 (when the digit is 8)"
   ]
  },
  {
   "cell_type": "code",
   "execution_count": 12,
   "id": "7dc908f2",
   "metadata": {
    "execution": {
     "iopub.execute_input": "2022-09-26T20:11:48.696037Z",
     "iopub.status.busy": "2022-09-26T20:11:48.695454Z",
     "iopub.status.idle": "2022-09-26T20:11:48.707846Z",
     "shell.execute_reply": "2022-09-26T20:11:48.707373Z"
    },
    "papermill": {
     "duration": 0.042126,
     "end_time": "2022-09-26T20:11:48.707954",
     "exception": false,
     "start_time": "2022-09-26T20:11:48.665828",
     "status": "completed"
    },
    "tags": []
   },
   "outputs": [],
   "source": [
    "y_train = 1*(y_train==3)\n",
    "y_test = 1*(y_test==3)"
   ]
  },
  {
   "cell_type": "code",
   "execution_count": 13,
   "id": "01e4e969",
   "metadata": {
    "execution": {
     "iopub.execute_input": "2022-09-26T20:11:48.764927Z",
     "iopub.status.busy": "2022-09-26T20:11:48.764307Z",
     "iopub.status.idle": "2022-09-26T20:11:48.777706Z",
     "shell.execute_reply": "2022-09-26T20:11:48.778180Z"
    },
    "papermill": {
     "duration": 0.043848,
     "end_time": "2022-09-26T20:11:48.778300",
     "exception": false,
     "start_time": "2022-09-26T20:11:48.734452",
     "status": "completed"
    },
    "tags": []
   },
   "outputs": [
    {
     "data": {
      "text/plain": [
       "((11982, 28, 28), (1984, 28, 28))"
      ]
     },
     "execution_count": 13,
     "metadata": {},
     "output_type": "execute_result"
    }
   ],
   "source": [
    "X_train.shape, X_test.shape"
   ]
  },
  {
   "cell_type": "markdown",
   "id": "5ccf3f85",
   "metadata": {
    "papermill": {
     "duration": 0.026527,
     "end_time": "2022-09-26T20:11:48.831341",
     "exception": false,
     "start_time": "2022-09-26T20:11:48.804814",
     "status": "completed"
    },
    "tags": []
   },
   "source": [
    "We reshape the data to flatten the image pixels into a set of features or co-variates:"
   ]
  },
  {
   "cell_type": "code",
   "execution_count": 14,
   "id": "5286a4a3",
   "metadata": {
    "execution": {
     "iopub.execute_input": "2022-09-26T20:11:48.888737Z",
     "iopub.status.busy": "2022-09-26T20:11:48.888123Z",
     "iopub.status.idle": "2022-09-26T20:11:48.902149Z",
     "shell.execute_reply": "2022-09-26T20:11:48.901579Z"
    },
    "papermill": {
     "duration": 0.04423,
     "end_time": "2022-09-26T20:11:48.902258",
     "exception": false,
     "start_time": "2022-09-26T20:11:48.858028",
     "status": "completed"
    },
    "tags": []
   },
   "outputs": [
    {
     "data": {
      "text/plain": [
       "((11982, 784), (1984, 784))"
      ]
     },
     "execution_count": 14,
     "metadata": {},
     "output_type": "execute_result"
    }
   ],
   "source": [
    "X_train = X_train.reshape(X_train.shape[0], -1)\n",
    "X_test = X_test.reshape(X_test.shape[0], -1)\n",
    "X_train.shape, X_test.shape"
   ]
  },
  {
   "cell_type": "code",
   "execution_count": 15,
   "id": "73c5f88a",
   "metadata": {
    "execution": {
     "iopub.execute_input": "2022-09-26T20:11:48.960614Z",
     "iopub.status.busy": "2022-09-26T20:11:48.960000Z",
     "iopub.status.idle": "2022-09-26T20:11:48.978582Z",
     "shell.execute_reply": "2022-09-26T20:11:48.978109Z"
    },
    "papermill": {
     "duration": 0.049684,
     "end_time": "2022-09-26T20:11:48.978690",
     "exception": false,
     "start_time": "2022-09-26T20:11:48.929006",
     "status": "completed"
    },
    "tags": []
   },
   "outputs": [],
   "source": [
    "#Impoting functions from 'Kudzu'\n",
    "from kudzu.model import Model\n",
    "from kudzu.train import Learner\n",
    "from kudzu.optim import GD\n",
    "from kudzu.data import Data, Sampler,Dataloader\n",
    "\n",
    "from kudzu.callbacks import AccCallback\n",
    "from kudzu.callbacks import ClfCallback\n",
    "\n",
    "from kudzu.loss import MSE\n",
    "\n",
    "from kudzu.layer import Sigmoid,Relu\n",
    "from kudzu.layer import Affine"
   ]
  },
  {
   "cell_type": "markdown",
   "id": "bc01172a",
   "metadata": {
    "papermill": {
     "duration": 0.027089,
     "end_time": "2022-09-26T20:11:49.032649",
     "exception": false,
     "start_time": "2022-09-26T20:11:49.005560",
     "status": "completed"
    },
    "tags": []
   },
   "source": [
    "### Let us create a `Config` class, to store important parameters. \n",
    "This class essentially plays the role of a dictionary."
   ]
  },
  {
   "cell_type": "code",
   "execution_count": 16,
   "id": "978281aa",
   "metadata": {
    "execution": {
     "iopub.execute_input": "2022-09-26T20:11:49.092967Z",
     "iopub.status.busy": "2022-09-26T20:11:49.092340Z",
     "iopub.status.idle": "2022-09-26T20:11:49.104879Z",
     "shell.execute_reply": "2022-09-26T20:11:49.104373Z"
    },
    "papermill": {
     "duration": 0.044788,
     "end_time": "2022-09-26T20:11:49.104989",
     "exception": false,
     "start_time": "2022-09-26T20:11:49.060201",
     "status": "completed"
    },
    "tags": []
   },
   "outputs": [],
   "source": [
    "class Config:\n",
    "    pass\n",
    "config = Config()\n",
    "config.lr = 0.001\n",
    "config.num_epochs = 250\n",
    "config.bs = 50"
   ]
  },
  {
   "cell_type": "markdown",
   "id": "1385fa59",
   "metadata": {
    "papermill": {
     "duration": 0.026698,
     "end_time": "2022-09-26T20:11:49.158486",
     "exception": false,
     "start_time": "2022-09-26T20:11:49.131788",
     "status": "completed"
    },
    "tags": []
   },
   "source": [
    "### Running Models with the Training data\n",
    "Details about the network layers:\n",
    "- A first affine layer has 784 inputs and does 100 affine transforms. These are followed by a Relu\n",
    "- A second affine layer has 100 inputs from the 100 activations of the past layer, and does 100 affine transforms. These are followed by a Relu\n",
    "- A third affine layer has 100 activations and does 2 affine transformations to create an embedding for visualization. There is no non-linearity here.\n",
    "- A final \"logistic regression\" which has an affine transform from 2 inputs to 1 output, which is squeezed through a sigmoid.\n"
   ]
  },
  {
   "cell_type": "code",
   "execution_count": 17,
   "id": "2b9c66db",
   "metadata": {
    "execution": {
     "iopub.execute_input": "2022-09-26T20:11:49.216999Z",
     "iopub.status.busy": "2022-09-26T20:11:49.216381Z",
     "iopub.status.idle": "2022-09-26T20:11:49.228042Z",
     "shell.execute_reply": "2022-09-26T20:11:49.227476Z"
    },
    "papermill": {
     "duration": 0.042946,
     "end_time": "2022-09-26T20:11:49.228149",
     "exception": false,
     "start_time": "2022-09-26T20:11:49.185203",
     "status": "completed"
    },
    "tags": []
   },
   "outputs": [],
   "source": [
    "data = Data(X_train, y_train.reshape(-1,1))\n",
    "sampler = Sampler(data, config.bs, shuffle=True)\n",
    "\n",
    "dl = Dataloader(data, sampler)\n",
    "\n",
    "opt = GD(config.lr)\n",
    "loss = MSE()"
   ]
  },
  {
   "cell_type": "code",
   "execution_count": 18,
   "id": "b275e4c2",
   "metadata": {
    "execution": {
     "iopub.execute_input": "2022-09-26T20:11:49.297982Z",
     "iopub.status.busy": "2022-09-26T20:11:49.297400Z",
     "iopub.status.idle": "2022-09-26T20:11:49.302947Z",
     "shell.execute_reply": "2022-09-26T20:11:49.303394Z"
    },
    "papermill": {
     "duration": 0.048526,
     "end_time": "2022-09-26T20:11:49.303518",
     "exception": false,
     "start_time": "2022-09-26T20:11:49.254992",
     "status": "completed"
    },
    "tags": []
   },
   "outputs": [],
   "source": [
    "training_data_x = X_train\n",
    "testing_data_x = X_test\n",
    "training_data_y = y_train.reshape(-1,1)\n",
    "testing_data_y = y_test.reshape(-1,1)"
   ]
  },
  {
   "cell_type": "code",
   "execution_count": 19,
   "id": "76951160",
   "metadata": {
    "execution": {
     "iopub.execute_input": "2022-09-26T20:11:49.373282Z",
     "iopub.status.busy": "2022-09-26T20:11:49.365239Z",
     "iopub.status.idle": "2022-09-26T20:11:49.379633Z",
     "shell.execute_reply": "2022-09-26T20:11:49.379164Z"
    },
    "papermill": {
     "duration": 0.049537,
     "end_time": "2022-09-26T20:11:49.379740",
     "exception": false,
     "start_time": "2022-09-26T20:11:49.330203",
     "status": "completed"
    },
    "tags": []
   },
   "outputs": [
    {
     "name": "stdout",
     "output_type": "stream",
     "text": [
      "xavier\n",
      "xavier\n",
      "xavier\n",
      "xavier\n",
      "xavier\n"
     ]
    }
   ],
   "source": [
    "layers = [Affine(\"first\", 784, 100), Relu(\"first\"), Affine(\"second\", 100, 100), Relu(\"second\"), Affine(\"third\", 100, 2), Affine(\"last\", 2, 1), Sigmoid(\"last\")]\n",
    "model_nn = Model(layers)\n",
    "model_lr = Model([Affine(\"logits\", 784, 1), Sigmoid(\"sigmoid\")])"
   ]
  },
  {
   "cell_type": "code",
   "execution_count": 20,
   "id": "6eede77a",
   "metadata": {
    "execution": {
     "iopub.execute_input": "2022-09-26T20:11:49.440125Z",
     "iopub.status.busy": "2022-09-26T20:11:49.439539Z",
     "iopub.status.idle": "2022-09-26T20:11:49.451569Z",
     "shell.execute_reply": "2022-09-26T20:11:49.451097Z"
    },
    "papermill": {
     "duration": 0.044705,
     "end_time": "2022-09-26T20:11:49.451676",
     "exception": false,
     "start_time": "2022-09-26T20:11:49.406971",
     "status": "completed"
    },
    "tags": []
   },
   "outputs": [],
   "source": [
    "nn_learner = Learner(loss, model_nn, opt, config.num_epochs)\n",
    "acc_nn = ClfCallback(nn_learner, config.bs, training_data_x , testing_data_x, training_data_y, testing_data_y)\n",
    "nn_learner.set_callbacks([acc_nn])"
   ]
  },
  {
   "cell_type": "code",
   "execution_count": 21,
   "id": "877b6cc7",
   "metadata": {
    "execution": {
     "iopub.execute_input": "2022-09-26T20:11:49.509323Z",
     "iopub.status.busy": "2022-09-26T20:11:49.508744Z",
     "iopub.status.idle": "2022-09-26T20:11:49.520903Z",
     "shell.execute_reply": "2022-09-26T20:11:49.520405Z"
    },
    "papermill": {
     "duration": 0.042408,
     "end_time": "2022-09-26T20:11:49.521010",
     "exception": false,
     "start_time": "2022-09-26T20:11:49.478602",
     "status": "completed"
    },
    "tags": []
   },
   "outputs": [],
   "source": [
    "lr_learner = Learner(loss, model_lr, opt, config.num_epochs)\n",
    "acc_lr = ClfCallback(lr_learner, config.bs, training_data_x , testing_data_x, training_data_y, testing_data_y)\n",
    "lr_learner.set_callbacks([acc_lr])"
   ]
  },
  {
   "cell_type": "code",
   "execution_count": 22,
   "id": "d9b133c3",
   "metadata": {
    "execution": {
     "iopub.execute_input": "2022-09-26T20:11:49.580777Z",
     "iopub.status.busy": "2022-09-26T20:11:49.580169Z",
     "iopub.status.idle": "2022-09-26T20:13:02.935973Z",
     "shell.execute_reply": "2022-09-26T20:13:02.937241Z"
    },
    "papermill": {
     "duration": 73.387089,
     "end_time": "2022-09-26T20:13:02.937444",
     "exception": false,
     "start_time": "2022-09-26T20:11:49.550355",
     "status": "completed"
    },
    "tags": []
   },
   "outputs": [
    {
     "name": "stdout",
     "output_type": "stream",
     "text": [
      "Epoch 0, Loss 0.2474\n",
      "Training Accuracy: 0.6299, Testing Accuracy: 0.6300\n",
      "\n"
     ]
    },
    {
     "name": "stdout",
     "output_type": "stream",
     "text": [
      "Epoch 10, Loss 0.1469\n",
      "Training Accuracy: 0.8906, Testing Accuracy: 0.9032\n",
      "\n"
     ]
    },
    {
     "name": "stdout",
     "output_type": "stream",
     "text": [
      "Epoch 20, Loss 0.077\n",
      "Training Accuracy: 0.9209, Testing Accuracy: 0.9330\n",
      "\n"
     ]
    },
    {
     "name": "stdout",
     "output_type": "stream",
     "text": [
      "Epoch 30, Loss 0.0557\n",
      "Training Accuracy: 0.9392, Testing Accuracy: 0.9491\n",
      "\n"
     ]
    },
    {
     "name": "stdout",
     "output_type": "stream",
     "text": [
      "Epoch 40, Loss 0.0457\n",
      "Training Accuracy: 0.9488, Testing Accuracy: 0.9567\n",
      "\n"
     ]
    },
    {
     "name": "stdout",
     "output_type": "stream",
     "text": [
      "Epoch 50, Loss 0.04\n",
      "Training Accuracy: 0.9533, Testing Accuracy: 0.9617\n",
      "\n"
     ]
    },
    {
     "name": "stdout",
     "output_type": "stream",
     "text": [
      "Epoch 60, Loss 0.0364\n",
      "Training Accuracy: 0.9576, Testing Accuracy: 0.9637\n",
      "\n"
     ]
    },
    {
     "name": "stdout",
     "output_type": "stream",
     "text": [
      "Epoch 70, Loss 0.0338\n",
      "Training Accuracy: 0.9608, Testing Accuracy: 0.9642\n",
      "\n"
     ]
    },
    {
     "name": "stdout",
     "output_type": "stream",
     "text": [
      "Epoch 80, Loss 0.0318\n",
      "Training Accuracy: 0.9630, Testing Accuracy: 0.9657\n",
      "\n"
     ]
    },
    {
     "name": "stdout",
     "output_type": "stream",
     "text": [
      "Epoch 90, Loss 0.0302\n",
      "Training Accuracy: 0.9654, Testing Accuracy: 0.9662\n",
      "\n"
     ]
    },
    {
     "name": "stdout",
     "output_type": "stream",
     "text": [
      "Epoch 100, Loss 0.0289\n",
      "Training Accuracy: 0.9673, Testing Accuracy: 0.9677\n",
      "\n"
     ]
    },
    {
     "name": "stdout",
     "output_type": "stream",
     "text": [
      "Epoch 110, Loss 0.0278\n",
      "Training Accuracy: 0.9685, Testing Accuracy: 0.9667\n",
      "\n"
     ]
    },
    {
     "name": "stdout",
     "output_type": "stream",
     "text": [
      "Epoch 120, Loss 0.0268\n",
      "Training Accuracy: 0.9695, Testing Accuracy: 0.9667\n",
      "\n"
     ]
    },
    {
     "name": "stdout",
     "output_type": "stream",
     "text": [
      "Epoch 130, Loss 0.0259\n",
      "Training Accuracy: 0.9705, Testing Accuracy: 0.9672\n",
      "\n"
     ]
    },
    {
     "name": "stdout",
     "output_type": "stream",
     "text": [
      "Epoch 140, Loss 0.0251\n",
      "Training Accuracy: 0.9715, Testing Accuracy: 0.9688\n",
      "\n"
     ]
    },
    {
     "name": "stdout",
     "output_type": "stream",
     "text": [
      "Epoch 150, Loss 0.0244\n",
      "Training Accuracy: 0.9722, Testing Accuracy: 0.9698\n",
      "\n"
     ]
    },
    {
     "name": "stdout",
     "output_type": "stream",
     "text": [
      "Epoch 160, Loss 0.0238\n",
      "Training Accuracy: 0.9730, Testing Accuracy: 0.9703\n",
      "\n"
     ]
    },
    {
     "name": "stdout",
     "output_type": "stream",
     "text": [
      "Epoch 170, Loss 0.0232\n",
      "Training Accuracy: 0.9738, Testing Accuracy: 0.9703\n",
      "\n"
     ]
    },
    {
     "name": "stdout",
     "output_type": "stream",
     "text": [
      "Epoch 180, Loss 0.0227\n",
      "Training Accuracy: 0.9748, Testing Accuracy: 0.9708\n",
      "\n"
     ]
    },
    {
     "name": "stdout",
     "output_type": "stream",
     "text": [
      "Epoch 190, Loss 0.0222\n",
      "Training Accuracy: 0.9754, Testing Accuracy: 0.9708\n",
      "\n"
     ]
    },
    {
     "name": "stdout",
     "output_type": "stream",
     "text": [
      "Epoch 200, Loss 0.0217\n",
      "Training Accuracy: 0.9760, Testing Accuracy: 0.9708\n",
      "\n"
     ]
    },
    {
     "name": "stdout",
     "output_type": "stream",
     "text": [
      "Epoch 210, Loss 0.0212\n",
      "Training Accuracy: 0.9765, Testing Accuracy: 0.9708\n",
      "\n"
     ]
    },
    {
     "name": "stdout",
     "output_type": "stream",
     "text": [
      "Epoch 220, Loss 0.0208\n",
      "Training Accuracy: 0.9770, Testing Accuracy: 0.9718\n",
      "\n"
     ]
    },
    {
     "name": "stdout",
     "output_type": "stream",
     "text": [
      "Epoch 230, Loss 0.0204\n",
      "Training Accuracy: 0.9773, Testing Accuracy: 0.9728\n",
      "\n"
     ]
    },
    {
     "name": "stdout",
     "output_type": "stream",
     "text": [
      "Epoch 240, Loss 0.02\n",
      "Training Accuracy: 0.9778, Testing Accuracy: 0.9728\n",
      "\n"
     ]
    },
    {
     "data": {
      "text/plain": [
       "0.0007395432288514654"
      ]
     },
     "execution_count": 22,
     "metadata": {},
     "output_type": "execute_result"
    }
   ],
   "source": [
    "nn_learner.train_loop(dl)"
   ]
  },
  {
   "cell_type": "code",
   "execution_count": 23,
   "id": "e0163366",
   "metadata": {
    "execution": {
     "iopub.execute_input": "2022-09-26T20:13:03.010094Z",
     "iopub.status.busy": "2022-09-26T20:13:03.009511Z",
     "iopub.status.idle": "2022-09-26T20:13:16.230824Z",
     "shell.execute_reply": "2022-09-26T20:13:16.231662Z"
    },
    "papermill": {
     "duration": 13.260008,
     "end_time": "2022-09-26T20:13:16.231812",
     "exception": false,
     "start_time": "2022-09-26T20:13:02.971804",
     "status": "completed"
    },
    "tags": []
   },
   "outputs": [
    {
     "name": "stdout",
     "output_type": "stream",
     "text": [
      "Epoch 0, Loss 0.2581\n",
      "Training Accuracy: 0.5945, Testing Accuracy: 0.6215\n",
      "\n"
     ]
    },
    {
     "name": "stdout",
     "output_type": "stream",
     "text": [
      "Epoch 10, Loss 0.1048\n",
      "Training Accuracy: 0.9074, Testing Accuracy: 0.9143\n",
      "\n"
     ]
    },
    {
     "name": "stdout",
     "output_type": "stream",
     "text": [
      "Epoch 20, Loss 0.0792\n",
      "Training Accuracy: 0.9293, Testing Accuracy: 0.9385\n",
      "\n"
     ]
    },
    {
     "name": "stdout",
     "output_type": "stream",
     "text": [
      "Epoch 30, Loss 0.0677\n",
      "Training Accuracy: 0.9385, Testing Accuracy: 0.9481\n",
      "\n"
     ]
    },
    {
     "name": "stdout",
     "output_type": "stream",
     "text": [
      "Epoch 40, Loss 0.0609\n",
      "Training Accuracy: 0.9431, Testing Accuracy: 0.9536\n",
      "\n"
     ]
    },
    {
     "name": "stdout",
     "output_type": "stream",
     "text": [
      "Epoch 50, Loss 0.0563\n",
      "Training Accuracy: 0.9468, Testing Accuracy: 0.9572\n",
      "\n"
     ]
    },
    {
     "name": "stdout",
     "output_type": "stream",
     "text": [
      "Epoch 60, Loss 0.053\n",
      "Training Accuracy: 0.9495, Testing Accuracy: 0.9592\n",
      "\n"
     ]
    },
    {
     "name": "stdout",
     "output_type": "stream",
     "text": [
      "Epoch 70, Loss 0.0505\n",
      "Training Accuracy: 0.9509, Testing Accuracy: 0.9597\n",
      "\n"
     ]
    },
    {
     "name": "stdout",
     "output_type": "stream",
     "text": [
      "Epoch 80, Loss 0.0485\n",
      "Training Accuracy: 0.9521, Testing Accuracy: 0.9612\n",
      "\n"
     ]
    },
    {
     "name": "stdout",
     "output_type": "stream",
     "text": [
      "Epoch 90, Loss 0.0468\n",
      "Training Accuracy: 0.9535, Testing Accuracy: 0.9617\n",
      "\n"
     ]
    },
    {
     "name": "stdout",
     "output_type": "stream",
     "text": [
      "Epoch 100, Loss 0.0454\n",
      "Training Accuracy: 0.9546, Testing Accuracy: 0.9617\n",
      "\n"
     ]
    },
    {
     "name": "stdout",
     "output_type": "stream",
     "text": [
      "Epoch 110, Loss 0.0442\n",
      "Training Accuracy: 0.9550, Testing Accuracy: 0.9627\n",
      "\n"
     ]
    },
    {
     "name": "stdout",
     "output_type": "stream",
     "text": [
      "Epoch 120, Loss 0.0432\n",
      "Training Accuracy: 0.9562, Testing Accuracy: 0.9627\n",
      "\n"
     ]
    },
    {
     "name": "stdout",
     "output_type": "stream",
     "text": [
      "Epoch 130, Loss 0.0423\n",
      "Training Accuracy: 0.9568, Testing Accuracy: 0.9627\n",
      "\n"
     ]
    },
    {
     "name": "stdout",
     "output_type": "stream",
     "text": [
      "Epoch 140, Loss 0.0415\n",
      "Training Accuracy: 0.9575, Testing Accuracy: 0.9637\n",
      "\n"
     ]
    },
    {
     "name": "stdout",
     "output_type": "stream",
     "text": [
      "Epoch 150, Loss 0.0408\n",
      "Training Accuracy: 0.9579, Testing Accuracy: 0.9637\n",
      "\n"
     ]
    },
    {
     "name": "stdout",
     "output_type": "stream",
     "text": [
      "Epoch 160, Loss 0.0401\n",
      "Training Accuracy: 0.9584, Testing Accuracy: 0.9637\n",
      "\n"
     ]
    },
    {
     "name": "stdout",
     "output_type": "stream",
     "text": [
      "Epoch 170, Loss 0.0395\n",
      "Training Accuracy: 0.9593, Testing Accuracy: 0.9642\n",
      "\n"
     ]
    },
    {
     "name": "stdout",
     "output_type": "stream",
     "text": [
      "Epoch 180, Loss 0.039\n",
      "Training Accuracy: 0.9594, Testing Accuracy: 0.9652\n",
      "\n"
     ]
    },
    {
     "name": "stdout",
     "output_type": "stream",
     "text": [
      "Epoch 190, Loss 0.0385\n",
      "Training Accuracy: 0.9596, Testing Accuracy: 0.9647\n",
      "\n"
     ]
    },
    {
     "name": "stdout",
     "output_type": "stream",
     "text": [
      "Epoch 200, Loss 0.0381\n",
      "Training Accuracy: 0.9601, Testing Accuracy: 0.9662\n",
      "\n"
     ]
    },
    {
     "name": "stdout",
     "output_type": "stream",
     "text": [
      "Epoch 210, Loss 0.0376\n",
      "Training Accuracy: 0.9604, Testing Accuracy: 0.9662\n",
      "\n"
     ]
    },
    {
     "name": "stdout",
     "output_type": "stream",
     "text": [
      "Epoch 220, Loss 0.0372\n",
      "Training Accuracy: 0.9610, Testing Accuracy: 0.9667\n",
      "\n"
     ]
    },
    {
     "name": "stdout",
     "output_type": "stream",
     "text": [
      "Epoch 230, Loss 0.0369\n",
      "Training Accuracy: 0.9614, Testing Accuracy: 0.9667\n",
      "\n"
     ]
    },
    {
     "name": "stdout",
     "output_type": "stream",
     "text": [
      "Epoch 240, Loss 0.0365\n",
      "Training Accuracy: 0.9619, Testing Accuracy: 0.9667\n",
      "\n"
     ]
    },
    {
     "data": {
      "text/plain": [
       "0.030935279026354876"
      ]
     },
     "execution_count": 23,
     "metadata": {},
     "output_type": "execute_result"
    }
   ],
   "source": [
    "lr_learner.train_loop(dl)"
   ]
  },
  {
   "cell_type": "code",
   "execution_count": 24,
   "id": "ca410940",
   "metadata": {
    "execution": {
     "iopub.execute_input": "2022-09-26T20:13:16.322438Z",
     "iopub.status.busy": "2022-09-26T20:13:16.321845Z",
     "iopub.status.idle": "2022-09-26T20:13:16.555416Z",
     "shell.execute_reply": "2022-09-26T20:13:16.556216Z"
    },
    "papermill": {
     "duration": 0.283356,
     "end_time": "2022-09-26T20:13:16.556364",
     "exception": false,
     "start_time": "2022-09-26T20:13:16.273008",
     "status": "completed"
    },
    "tags": []
   },
   "outputs": [
    {
     "data": {
      "text/plain": [
       "<matplotlib.legend.Legend at 0x7f1a00706320>"
      ]
     },
     "execution_count": 24,
     "metadata": {},
     "output_type": "execute_result"
    },
    {
     "data": {
      "image/png": "[encoded data removed]",
      "text/plain": [
       "<Figure size 1080x720 with 1 Axes>"
      ]
     },
     "metadata": {
      "needs_background": "light"
     },
     "output_type": "display_data"
    }
   ],
   "source": [
    "#comparing the results of NN and LR\n",
    "plt.figure(figsize=(15,10))\n",
    "\n",
    "# Neural Network plots\n",
    "plt.plot(acc_nn.accuracies, 'r-', label = \"Training Accuracies - NN\")\n",
    "plt.plot(acc_nn.test_accuracies, 'g-', label = \"Testing Accuracies - NN\")\n",
    "\n",
    "# Logistic Regression plots\n",
    "plt.plot(acc_lr.accuracies, 'k-', label = \"Training Accuracies - LR\")\n",
    "plt.plot(acc_lr.test_accuracies, 'b-', label = \"Testing Accuracies - LR\")\n",
    "plt.legend()"
   ]
  },
  {
   "cell_type": "markdown",
   "id": "80dfb35c",
   "metadata": {
    "papermill": {
     "duration": 0.041804,
     "end_time": "2022-09-26T20:13:16.640264",
     "exception": false,
     "start_time": "2022-09-26T20:13:16.598460",
     "status": "completed"
    },
    "tags": []
   },
   "source": [
    "#### Plotting the outputs of this layer of the NN.\n"
   ]
  },
  {
   "cell_type": "code",
   "execution_count": 25,
   "id": "45eb2ff5",
   "metadata": {
    "execution": {
     "iopub.execute_input": "2022-09-26T20:13:16.732029Z",
     "iopub.status.busy": "2022-09-26T20:13:16.729709Z",
     "iopub.status.idle": "2022-09-26T20:13:16.749876Z",
     "shell.execute_reply": "2022-09-26T20:13:16.750326Z"
    },
    "papermill": {
     "duration": 0.068045,
     "end_time": "2022-09-26T20:13:16.750456",
     "exception": false,
     "start_time": "2022-09-26T20:13:16.682411",
     "status": "completed"
    },
    "tags": []
   },
   "outputs": [],
   "source": [
    "new_model = Model(layers[:-2])\n",
    "testing_plot = new_model(testing_data_x)"
   ]
  },
  {
   "cell_type": "code",
   "execution_count": 26,
   "id": "4c0a5485",
   "metadata": {
    "execution": {
     "iopub.execute_input": "2022-09-26T20:13:16.845367Z",
     "iopub.status.busy": "2022-09-26T20:13:16.842103Z",
     "iopub.status.idle": "2022-09-26T20:13:17.035700Z",
     "shell.execute_reply": "2022-09-26T20:13:17.035235Z"
    },
    "papermill": {
     "duration": 0.241109,
     "end_time": "2022-09-26T20:13:17.035822",
     "exception": false,
     "start_time": "2022-09-26T20:13:16.794713",
     "status": "completed"
    },
    "tags": []
   },
   "outputs": [
    {
     "data": {
      "text/plain": [
       "Text(0.5, 1.0, 'Outputs')"
      ]
     },
     "execution_count": 26,
     "metadata": {},
     "output_type": "execute_result"
    },
    {
     "data": {
      "image/png": "[encoded data removed]",
      "text/plain": [
       "<Figure size 576x504 with 1 Axes>"
      ]
     },
     "metadata": {
      "needs_background": "light"
     },
     "output_type": "display_data"
    }
   ],
   "source": [
    "# Plotting the scatter plot of points and color coding by class\n",
    "plt.figure(figsize=(8,7))\n",
    "plt.scatter(testing_plot[:,0], testing_plot[:,1], alpha = 0.1, c = y_test.ravel());\n",
    "plt.title('Outputs')"
   ]
  },
  {
   "cell_type": "markdown",
   "id": "a74fcf8f",
   "metadata": {
    "papermill": {
     "duration": 0.043983,
     "end_time": "2022-09-26T20:13:17.123979",
     "exception": false,
     "start_time": "2022-09-26T20:13:17.079996",
     "status": "completed"
    },
    "tags": []
   },
   "source": [
    "Probability contours"
   ]
  },
  {
   "cell_type": "code",
   "execution_count": 27,
   "id": "d0afc8e3",
   "metadata": {
    "execution": {
     "iopub.execute_input": "2022-09-26T20:13:17.218009Z",
     "iopub.status.busy": "2022-09-26T20:13:17.217314Z",
     "iopub.status.idle": "2022-09-26T20:13:17.227239Z",
     "shell.execute_reply": "2022-09-26T20:13:17.227665Z"
    },
    "papermill": {
     "duration": 0.059818,
     "end_time": "2022-09-26T20:13:17.227798",
     "exception": false,
     "start_time": "2022-09-26T20:13:17.167980",
     "status": "completed"
    },
    "tags": []
   },
   "outputs": [],
   "source": [
    "model_prob = Model(layers[-2:]) "
   ]
  },
  {
   "cell_type": "code",
   "execution_count": 28,
   "id": "9b96e238",
   "metadata": {
    "execution": {
     "iopub.execute_input": "2022-09-26T20:13:17.321399Z",
     "iopub.status.busy": "2022-09-26T20:13:17.320792Z",
     "iopub.status.idle": "2022-09-26T20:13:17.335614Z",
     "shell.execute_reply": "2022-09-26T20:13:17.336040Z"
    },
    "papermill": {
     "duration": 0.064201,
     "end_time": "2022-09-26T20:13:17.336171",
     "exception": false,
     "start_time": "2022-09-26T20:13:17.271970",
     "status": "completed"
    },
    "tags": []
   },
   "outputs": [],
   "source": [
    "#creating the x and y ranges according to the above generated plot.\n",
    "x_range = np.linspace(-4, 1, 100) \n",
    "y_range = np.linspace(-6, 6, 100) \n",
    "x_grid, y_grid = np.meshgrid(x_range, y_range) # x_grid and y_grig are of size 100 X 100\n",
    "\n",
    "# converting x_grid and y_grid to continuous arrays\n",
    "x_gridflat = np.ravel(x_grid)\n",
    "y_gridflat = np.ravel(y_grid)\n",
    "\n",
    "# The last layer of the current model takes two columns as input. Hence transpose of np.vstack() is required.\n",
    "X = np.vstack((x_gridflat, y_gridflat)).T\n",
    "\n",
    "prob_contour = model_prob(X).reshape(100,100) "
   ]
  },
  {
   "cell_type": "code",
   "execution_count": 29,
   "id": "da72499a",
   "metadata": {
    "execution": {
     "iopub.execute_input": "2022-09-26T20:13:17.461327Z",
     "iopub.status.busy": "2022-09-26T20:13:17.460653Z",
     "iopub.status.idle": "2022-09-26T20:13:17.703537Z",
     "shell.execute_reply": "2022-09-26T20:13:17.703073Z"
    },
    "papermill": {
     "duration": 0.291128,
     "end_time": "2022-09-26T20:13:17.703700",
     "exception": false,
     "start_time": "2022-09-26T20:13:17.412572",
     "status": "completed"
    },
    "tags": []
   },
   "outputs": [
    {
     "data": {
      "image/png": "[encoded data removed]",
      "text/plain": [
       "<Figure size 720x648 with 1 Axes>"
      ]
     },
     "metadata": {
      "needs_background": "light"
     },
     "output_type": "display_data"
    }
   ],
   "source": [
    "plt.figure(figsize=(10,9))\n",
    "plt.scatter(testing_plot[:,0], testing_plot[:,1], alpha = 0.1, c = y_test.ravel())\n",
    "contours = plt.contour(x_grid,y_grid,prob_contour)\n",
    "plt.title('Probability Contours')\n",
    "plt.clabel(contours, inline = True );"
   ]
  },
  {
   "cell_type": "code",
   "execution_count": null,
   "id": "e81b4ac7",
   "metadata": {
    "papermill": {
     "duration": 0.046718,
     "end_time": "2022-09-26T20:13:17.798554",
     "exception": false,
     "start_time": "2022-09-26T20:13:17.751836",
     "status": "completed"
    },
    "tags": []
   },
   "outputs": [],
   "source": []
  }
 ],
 "metadata": {
  "kernelspec": {
   "display_name": "Python 3",
   "language": "python",
   "name": "python3"
  },
  "language_info": {
   "codemirror_mode": {
    "name": "ipython",
    "version": 3
   },
   "file_extension": ".py",
   "mimetype": "text/x-python",
   "name": "python",
   "nbconvert_exporter": "python",
   "pygments_lexer": "ipython3",
   "version": "3.6.15"
  },
  "papermill": {
   "default_parameters": {},
   "duration": 94.607964,
   "end_time": "2022-09-26T20:13:18.265443",
   "environment_variables": {},
   "exception": null,
   "input_path": "2020-08-11-part2.ipynb",
   "output_path": "2020-08-11-part2.ipynb",
   "parameters": {},
   "start_time": "2022-09-26T20:11:43.657479",
   "version": "2.3.3"
  }
 },
 "nbformat": 4,
 "nbformat_minor": 5
}