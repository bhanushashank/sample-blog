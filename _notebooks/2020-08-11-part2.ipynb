{
 "cells": [
  {
   "cell_type": "markdown",
   "id": "98380cd3",
   "metadata": {
    "papermill": {
     "duration": 0.030427,
     "end_time": "2022-08-13T00:37:07.914132",
     "exception": false,
     "start_time": "2022-08-13T00:37:07.883705",
     "status": "completed"
    },
    "tags": []
   },
   "source": [
    "# Distinguish Your Own Digits (DYOD)"
   ]
  },
  {
   "cell_type": "markdown",
   "id": "ef31240d",
   "metadata": {
    "papermill": {
     "duration": 0.024146,
     "end_time": "2022-08-13T00:37:07.964794",
     "exception": false,
     "start_time": "2022-08-13T00:37:07.940648",
     "status": "completed"
    },
    "tags": []
   },
   "source": [
    "You are going to write a classifier that distinguishes between the number 3 and number 8."
   ]
  },
  {
   "cell_type": "code",
   "execution_count": 1,
   "id": "b15c8646",
   "metadata": {
    "execution": {
     "iopub.execute_input": "2022-08-13T00:37:08.016012Z",
     "iopub.status.busy": "2022-08-13T00:37:08.015399Z",
     "iopub.status.idle": "2022-08-13T00:37:08.033949Z",
     "shell.execute_reply": "2022-08-13T00:37:08.033440Z"
    },
    "papermill": {
     "duration": 0.045409,
     "end_time": "2022-08-13T00:37:08.034077",
     "exception": false,
     "start_time": "2022-08-13T00:37:07.988668",
     "status": "completed"
    },
    "tags": []
   },
   "outputs": [],
   "source": [
    "%load_ext autoreload\n",
    "%autoreload 2"
   ]
  },
  {
   "cell_type": "code",
   "execution_count": 2,
   "id": "22ef38dc",
   "metadata": {
    "execution": {
     "iopub.execute_input": "2022-08-13T00:37:08.085620Z",
     "iopub.status.busy": "2022-08-13T00:37:08.085038Z",
     "iopub.status.idle": "2022-08-13T00:37:08.626612Z",
     "shell.execute_reply": "2022-08-13T00:37:08.627189Z"
    },
    "papermill": {
     "duration": 0.569491,
     "end_time": "2022-08-13T00:37:08.627363",
     "exception": false,
     "start_time": "2022-08-13T00:37:08.057872",
     "status": "completed"
    },
    "tags": []
   },
   "outputs": [],
   "source": [
    "%matplotlib inline\n",
    "import numpy as np\n",
    "import matplotlib.pyplot as plt\n",
    "import pandas as pd"
   ]
  },
  {
   "cell_type": "markdown",
   "id": "ba036198",
   "metadata": {
    "papermill": {
     "duration": 0.023994,
     "end_time": "2022-08-13T00:37:08.676710",
     "exception": false,
     "start_time": "2022-08-13T00:37:08.652716",
     "status": "completed"
    },
    "tags": []
   },
   "source": [
    "From the command line run `pip install mnist`. This is a library that will help you bring down the mnist dataset. If you run this from a notebook, you need to put  `!pip install mnist` in a cell by itself."
   ]
  },
  {
   "cell_type": "code",
   "execution_count": 3,
   "id": "bb6ad8a1",
   "metadata": {
    "execution": {
     "iopub.execute_input": "2022-08-13T00:37:08.740646Z",
     "iopub.status.busy": "2022-08-13T00:37:08.731357Z",
     "iopub.status.idle": "2022-08-13T00:37:10.320527Z",
     "shell.execute_reply": "2022-08-13T00:37:10.321029Z"
    },
    "papermill": {
     "duration": 1.620561,
     "end_time": "2022-08-13T00:37:10.321180",
     "exception": false,
     "start_time": "2022-08-13T00:37:08.700619",
     "status": "completed"
    },
    "tags": []
   },
   "outputs": [
    {
     "name": "stdout",
     "output_type": "stream",
     "text": [
      "Collecting mnist\r\n",
      "  Downloading mnist-0.2.2-py2.py3-none-any.whl (3.5 kB)\r\n",
      "Requirement already satisfied: numpy in /opt/hostedtoolcache/Python/3.6.15/x64/lib/python3.6/site-packages (from mnist) (1.19.5)\r\n"
     ]
    },
    {
     "name": "stdout",
     "output_type": "stream",
     "text": [
      "Installing collected packages: mnist\r\n"
     ]
    },
    {
     "name": "stdout",
     "output_type": "stream",
     "text": [
      "Successfully installed mnist-0.2.2\r\n"
     ]
    }
   ],
   "source": [
    "!pip install mnist"
   ]
  },
  {
   "cell_type": "markdown",
   "id": "69df9c9a",
   "metadata": {
    "papermill": {
     "duration": 0.02517,
     "end_time": "2022-08-13T00:37:10.371500",
     "exception": false,
     "start_time": "2022-08-13T00:37:10.346330",
     "status": "completed"
    },
    "tags": []
   },
   "source": [
    "## Preparing the Data"
   ]
  },
  {
   "cell_type": "code",
   "execution_count": 4,
   "id": "7f69d806",
   "metadata": {
    "execution": {
     "iopub.execute_input": "2022-08-13T00:37:10.427988Z",
     "iopub.status.busy": "2022-08-13T00:37:10.427375Z",
     "iopub.status.idle": "2022-08-13T00:37:10.442984Z",
     "shell.execute_reply": "2022-08-13T00:37:10.442481Z"
    },
    "papermill": {
     "duration": 0.046402,
     "end_time": "2022-08-13T00:37:10.443103",
     "exception": false,
     "start_time": "2022-08-13T00:37:10.396701",
     "status": "completed"
    },
    "tags": []
   },
   "outputs": [],
   "source": [
    "import mnist"
   ]
  },
  {
   "cell_type": "code",
   "execution_count": 5,
   "id": "a411e44f",
   "metadata": {
    "execution": {
     "iopub.execute_input": "2022-08-13T00:37:10.507794Z",
     "iopub.status.busy": "2022-08-13T00:37:10.505369Z",
     "iopub.status.idle": "2022-08-13T00:37:11.047153Z",
     "shell.execute_reply": "2022-08-13T00:37:11.047707Z"
    },
    "papermill": {
     "duration": 0.58001,
     "end_time": "2022-08-13T00:37:11.047877",
     "exception": false,
     "start_time": "2022-08-13T00:37:10.467867",
     "status": "completed"
    },
    "tags": []
   },
   "outputs": [],
   "source": [
    "train_images = mnist.train_images()\n",
    "train_labels = mnist.train_labels()"
   ]
  },
  {
   "cell_type": "code",
   "execution_count": 6,
   "id": "dceab3a5",
   "metadata": {
    "execution": {
     "iopub.execute_input": "2022-08-13T00:37:11.102977Z",
     "iopub.status.busy": "2022-08-13T00:37:11.102348Z",
     "iopub.status.idle": "2022-08-13T00:37:11.116964Z",
     "shell.execute_reply": "2022-08-13T00:37:11.117507Z"
    },
    "papermill": {
     "duration": 0.044312,
     "end_time": "2022-08-13T00:37:11.117648",
     "exception": false,
     "start_time": "2022-08-13T00:37:11.073336",
     "status": "completed"
    },
    "tags": []
   },
   "outputs": [
    {
     "data": {
      "text/plain": [
       "((60000, 28, 28), (60000,))"
      ]
     },
     "execution_count": 6,
     "metadata": {},
     "output_type": "execute_result"
    }
   ],
   "source": [
    "train_images.shape, train_labels.shape"
   ]
  },
  {
   "cell_type": "code",
   "execution_count": 7,
   "id": "f50dc2bb",
   "metadata": {
    "execution": {
     "iopub.execute_input": "2022-08-13T00:37:11.185606Z",
     "iopub.status.busy": "2022-08-13T00:37:11.182949Z",
     "iopub.status.idle": "2022-08-13T00:37:11.314041Z",
     "shell.execute_reply": "2022-08-13T00:37:11.313423Z"
    },
    "papermill": {
     "duration": 0.171598,
     "end_time": "2022-08-13T00:37:11.314177",
     "exception": false,
     "start_time": "2022-08-13T00:37:11.142579",
     "status": "completed"
    },
    "tags": []
   },
   "outputs": [],
   "source": [
    "test_images = mnist.test_images()\n",
    "test_labels = mnist.test_labels()"
   ]
  },
  {
   "cell_type": "code",
   "execution_count": 8,
   "id": "fc38cf1b",
   "metadata": {
    "execution": {
     "iopub.execute_input": "2022-08-13T00:37:11.370087Z",
     "iopub.status.busy": "2022-08-13T00:37:11.369488Z",
     "iopub.status.idle": "2022-08-13T00:37:11.384078Z",
     "shell.execute_reply": "2022-08-13T00:37:11.383504Z"
    },
    "papermill": {
     "duration": 0.04381,
     "end_time": "2022-08-13T00:37:11.384195",
     "exception": false,
     "start_time": "2022-08-13T00:37:11.340385",
     "status": "completed"
    },
    "tags": []
   },
   "outputs": [
    {
     "data": {
      "text/plain": [
       "((10000, 28, 28), (10000,))"
      ]
     },
     "execution_count": 8,
     "metadata": {},
     "output_type": "execute_result"
    }
   ],
   "source": [
    "test_images.shape, test_labels.shape"
   ]
  },
  {
   "cell_type": "code",
   "execution_count": 9,
   "id": "f9ed8fe0",
   "metadata": {
    "execution": {
     "iopub.execute_input": "2022-08-13T00:37:11.443526Z",
     "iopub.status.busy": "2022-08-13T00:37:11.442848Z",
     "iopub.status.idle": "2022-08-13T00:37:11.581583Z",
     "shell.execute_reply": "2022-08-13T00:37:11.582037Z"
    },
    "papermill": {
     "duration": 0.172711,
     "end_time": "2022-08-13T00:37:11.582178",
     "exception": false,
     "start_time": "2022-08-13T00:37:11.409467",
     "status": "completed"
    },
    "tags": []
   },
   "outputs": [
    {
     "name": "stdout",
     "output_type": "stream",
     "text": [
      "2\n"
     ]
    },
    {
     "data": {
      "text/plain": [
       "<matplotlib.image.AxesImage at 0x7f43abd33550>"
      ]
     },
     "execution_count": 9,
     "metadata": {},
     "output_type": "execute_result"
    },
    {
     "data": {
      "image/png": "[encoded data removed]",
      "text/plain": [
       "<Figure size 432x288 with 1 Axes>"
      ]
     },
     "metadata": {
      "needs_background": "light"
     },
     "output_type": "display_data"
    }
   ],
   "source": [
    "image_index = 7776 # You may select anything up to 60,000\n",
    "print(train_labels[image_index]) \n",
    "plt.imshow(train_images[image_index], cmap='Greys')"
   ]
  },
  {
   "cell_type": "markdown",
   "id": "a8d2388d",
   "metadata": {
    "papermill": {
     "duration": 0.026894,
     "end_time": "2022-08-13T00:37:11.635793",
     "exception": false,
     "start_time": "2022-08-13T00:37:11.608899",
     "status": "completed"
    },
    "tags": []
   },
   "source": [
    "## Filter data to get 3 and 8 out"
   ]
  },
  {
   "cell_type": "code",
   "execution_count": 10,
   "id": "776f7fc7",
   "metadata": {
    "execution": {
     "iopub.execute_input": "2022-08-13T00:37:11.693738Z",
     "iopub.status.busy": "2022-08-13T00:37:11.693131Z",
     "iopub.status.idle": "2022-08-13T00:37:11.712805Z",
     "shell.execute_reply": "2022-08-13T00:37:11.712315Z"
    },
    "papermill": {
     "duration": 0.050772,
     "end_time": "2022-08-13T00:37:11.712922",
     "exception": false,
     "start_time": "2022-08-13T00:37:11.662150",
     "status": "completed"
    },
    "tags": []
   },
   "outputs": [],
   "source": [
    "train_filter = np.where((train_labels == 3 ) | (train_labels == 8))\n",
    "test_filter = np.where((test_labels == 3) | (test_labels == 8))\n",
    "X_train, y_train = train_images[train_filter], train_labels[train_filter]\n",
    "X_test, y_test = test_images[test_filter], test_labels[test_filter]"
   ]
  },
  {
   "cell_type": "markdown",
   "id": "948f0b7e",
   "metadata": {
    "papermill": {
     "duration": 0.026856,
     "end_time": "2022-08-13T00:37:11.766414",
     "exception": false,
     "start_time": "2022-08-13T00:37:11.739558",
     "status": "completed"
    },
    "tags": []
   },
   "source": [
    "We normalize the pizel values in the 0 to 1 range"
   ]
  },
  {
   "cell_type": "code",
   "execution_count": 11,
   "id": "ee4c2166",
   "metadata": {
    "execution": {
     "iopub.execute_input": "2022-08-13T00:37:11.825831Z",
     "iopub.status.busy": "2022-08-13T00:37:11.825213Z",
     "iopub.status.idle": "2022-08-13T00:37:11.873560Z",
     "shell.execute_reply": "2022-08-13T00:37:11.872948Z"
    },
    "papermill": {
     "duration": 0.079485,
     "end_time": "2022-08-13T00:37:11.873703",
     "exception": false,
     "start_time": "2022-08-13T00:37:11.794218",
     "status": "completed"
    },
    "tags": []
   },
   "outputs": [],
   "source": [
    "X_train = X_train/255.\n",
    "X_test = X_test/255."
   ]
  },
  {
   "cell_type": "markdown",
   "id": "ddcf4fab",
   "metadata": {
    "papermill": {
     "duration": 0.026739,
     "end_time": "2022-08-13T00:37:11.927514",
     "exception": false,
     "start_time": "2022-08-13T00:37:11.900775",
     "status": "completed"
    },
    "tags": []
   },
   "source": [
    "And setup the labels as 1 (when the digit is 3) and 0 (when the digit is 8)"
   ]
  },
  {
   "cell_type": "code",
   "execution_count": 12,
   "id": "7dc908f2",
   "metadata": {
    "execution": {
     "iopub.execute_input": "2022-08-13T00:37:11.984967Z",
     "iopub.status.busy": "2022-08-13T00:37:11.984373Z",
     "iopub.status.idle": "2022-08-13T00:37:11.997339Z",
     "shell.execute_reply": "2022-08-13T00:37:11.996863Z"
    },
    "papermill": {
     "duration": 0.043384,
     "end_time": "2022-08-13T00:37:11.997456",
     "exception": false,
     "start_time": "2022-08-13T00:37:11.954072",
     "status": "completed"
    },
    "tags": []
   },
   "outputs": [],
   "source": [
    "y_train = 1*(y_train==3)\n",
    "y_test = 1*(y_test==3)"
   ]
  },
  {
   "cell_type": "code",
   "execution_count": 13,
   "id": "01e4e969",
   "metadata": {
    "execution": {
     "iopub.execute_input": "2022-08-13T00:37:12.054831Z",
     "iopub.status.busy": "2022-08-13T00:37:12.054249Z",
     "iopub.status.idle": "2022-08-13T00:37:12.068245Z",
     "shell.execute_reply": "2022-08-13T00:37:12.068702Z"
    },
    "papermill": {
     "duration": 0.044609,
     "end_time": "2022-08-13T00:37:12.068841",
     "exception": false,
     "start_time": "2022-08-13T00:37:12.024232",
     "status": "completed"
    },
    "tags": []
   },
   "outputs": [
    {
     "data": {
      "text/plain": [
       "((11982, 28, 28), (1984, 28, 28))"
      ]
     },
     "execution_count": 13,
     "metadata": {},
     "output_type": "execute_result"
    }
   ],
   "source": [
    "X_train.shape, X_test.shape"
   ]
  },
  {
   "cell_type": "markdown",
   "id": "5ccf3f85",
   "metadata": {
    "papermill": {
     "duration": 0.026497,
     "end_time": "2022-08-13T00:37:12.121873",
     "exception": false,
     "start_time": "2022-08-13T00:37:12.095376",
     "status": "completed"
    },
    "tags": []
   },
   "source": [
    "We reshape the data to flatten the image pixels into a set of features or co-variates:"
   ]
  },
  {
   "cell_type": "code",
   "execution_count": 14,
   "id": "5286a4a3",
   "metadata": {
    "execution": {
     "iopub.execute_input": "2022-08-13T00:37:12.179677Z",
     "iopub.status.busy": "2022-08-13T00:37:12.179064Z",
     "iopub.status.idle": "2022-08-13T00:37:12.192824Z",
     "shell.execute_reply": "2022-08-13T00:37:12.193378Z"
    },
    "papermill": {
     "duration": 0.044972,
     "end_time": "2022-08-13T00:37:12.193517",
     "exception": false,
     "start_time": "2022-08-13T00:37:12.148545",
     "status": "completed"
    },
    "tags": []
   },
   "outputs": [
    {
     "data": {
      "text/plain": [
       "((11982, 784), (1984, 784))"
      ]
     },
     "execution_count": 14,
     "metadata": {},
     "output_type": "execute_result"
    }
   ],
   "source": [
    "X_train = X_train.reshape(X_train.shape[0], -1)\n",
    "X_test = X_test.reshape(X_test.shape[0], -1)\n",
    "X_train.shape, X_test.shape"
   ]
  },
  {
   "cell_type": "code",
   "execution_count": 15,
   "id": "73c5f88a",
   "metadata": {
    "execution": {
     "iopub.execute_input": "2022-08-13T00:37:12.264884Z",
     "iopub.status.busy": "2022-08-13T00:37:12.259850Z",
     "iopub.status.idle": "2022-08-13T00:37:12.274159Z",
     "shell.execute_reply": "2022-08-13T00:37:12.274607Z"
    },
    "papermill": {
     "duration": 0.054201,
     "end_time": "2022-08-13T00:37:12.274744",
     "exception": false,
     "start_time": "2022-08-13T00:37:12.220543",
     "status": "completed"
    },
    "tags": []
   },
   "outputs": [],
   "source": [
    "#Impoting functions from 'Kudzu'\n",
    "from kudzu.model import Model\n",
    "from kudzu.train import Learner\n",
    "from kudzu.optim import GD\n",
    "from kudzu.data import Data, Sampler,Dataloader\n",
    "\n",
    "from kudzu.callbacks import AccCallback\n",
    "from kudzu.callbacks import ClfCallback\n",
    "\n",
    "from kudzu.loss import MSE\n",
    "\n",
    "from kudzu.layer import Sigmoid,Relu\n",
    "from kudzu.layer import Affine"
   ]
  },
  {
   "cell_type": "markdown",
   "id": "bc01172a",
   "metadata": {
    "papermill": {
     "duration": 0.02817,
     "end_time": "2022-08-13T00:37:12.330044",
     "exception": false,
     "start_time": "2022-08-13T00:37:12.301874",
     "status": "completed"
    },
    "tags": []
   },
   "source": [
    "### Let us create a `Config` class, to store important parameters. \n",
    "This class essentially plays the role of a dictionary."
   ]
  },
  {
   "cell_type": "code",
   "execution_count": 16,
   "id": "978281aa",
   "metadata": {
    "execution": {
     "iopub.execute_input": "2022-08-13T00:37:12.390101Z",
     "iopub.status.busy": "2022-08-13T00:37:12.389506Z",
     "iopub.status.idle": "2022-08-13T00:37:12.401900Z",
     "shell.execute_reply": "2022-08-13T00:37:12.401416Z"
    },
    "papermill": {
     "duration": 0.045124,
     "end_time": "2022-08-13T00:37:12.402011",
     "exception": false,
     "start_time": "2022-08-13T00:37:12.356887",
     "status": "completed"
    },
    "tags": []
   },
   "outputs": [],
   "source": [
    "class Config:\n",
    "    pass\n",
    "config = Config()\n",
    "config.lr = 0.001\n",
    "config.num_epochs = 250\n",
    "config.bs = 50"
   ]
  },
  {
   "cell_type": "markdown",
   "id": "1385fa59",
   "metadata": {
    "papermill": {
     "duration": 0.02692,
     "end_time": "2022-08-13T00:37:12.456047",
     "exception": false,
     "start_time": "2022-08-13T00:37:12.429127",
     "status": "completed"
    },
    "tags": []
   },
   "source": [
    "### Running Models with the Training data\n",
    "Details about the network layers:\n",
    "- A first affine layer has 784 inputs and does 100 affine transforms. These are followed by a Relu\n",
    "- A second affine layer has 100 inputs from the 100 activations of the past layer, and does 100 affine transforms. These are followed by a Relu\n",
    "- A third affine layer has 100 activations and does 2 affine transformations to create an embedding for visualization. There is no non-linearity here.\n",
    "- A final \"logistic regression\" which has an affine transform from 2 inputs to 1 output, which is squeezed through a sigmoid.\n"
   ]
  },
  {
   "cell_type": "code",
   "execution_count": 17,
   "id": "2b9c66db",
   "metadata": {
    "execution": {
     "iopub.execute_input": "2022-08-13T00:37:12.524068Z",
     "iopub.status.busy": "2022-08-13T00:37:12.519908Z",
     "iopub.status.idle": "2022-08-13T00:37:12.529655Z",
     "shell.execute_reply": "2022-08-13T00:37:12.529084Z"
    },
    "papermill": {
     "duration": 0.046877,
     "end_time": "2022-08-13T00:37:12.529775",
     "exception": false,
     "start_time": "2022-08-13T00:37:12.482898",
     "status": "completed"
    },
    "tags": []
   },
   "outputs": [],
   "source": [
    "data = Data(X_train, y_train.reshape(-1,1))\n",
    "sampler = Sampler(data, config.bs, shuffle=True)\n",
    "\n",
    "dl = Dataloader(data, sampler)\n",
    "\n",
    "opt = GD(config.lr)\n",
    "loss = MSE()"
   ]
  },
  {
   "cell_type": "code",
   "execution_count": 18,
   "id": "b275e4c2",
   "metadata": {
    "execution": {
     "iopub.execute_input": "2022-08-13T00:37:12.593390Z",
     "iopub.status.busy": "2022-08-13T00:37:12.587508Z",
     "iopub.status.idle": "2022-08-13T00:37:12.600430Z",
     "shell.execute_reply": "2022-08-13T00:37:12.600879Z"
    },
    "papermill": {
     "duration": 0.044241,
     "end_time": "2022-08-13T00:37:12.601012",
     "exception": false,
     "start_time": "2022-08-13T00:37:12.556771",
     "status": "completed"
    },
    "tags": []
   },
   "outputs": [],
   "source": [
    "training_data_x = X_train\n",
    "testing_data_x = X_test\n",
    "training_data_y = y_train.reshape(-1,1)\n",
    "testing_data_y = y_test.reshape(-1,1)"
   ]
  },
  {
   "cell_type": "code",
   "execution_count": 19,
   "id": "76951160",
   "metadata": {
    "execution": {
     "iopub.execute_input": "2022-08-13T00:37:12.671862Z",
     "iopub.status.busy": "2022-08-13T00:37:12.664016Z",
     "iopub.status.idle": "2022-08-13T00:37:12.677987Z",
     "shell.execute_reply": "2022-08-13T00:37:12.678468Z"
    },
    "papermill": {
     "duration": 0.050785,
     "end_time": "2022-08-13T00:37:12.678612",
     "exception": false,
     "start_time": "2022-08-13T00:37:12.627827",
     "status": "completed"
    },
    "tags": []
   },
   "outputs": [
    {
     "name": "stdout",
     "output_type": "stream",
     "text": [
      "xavier\n",
      "xavier\n",
      "xavier\n",
      "xavier\n",
      "xavier\n"
     ]
    }
   ],
   "source": [
    "layers = [Affine(\"first\", 784, 100), Relu(\"first\"), Affine(\"second\", 100, 100), Relu(\"second\"), Affine(\"third\", 100, 2), Affine(\"last\", 2, 1), Sigmoid(\"last\")]\n",
    "model_nn = Model(layers)\n",
    "model_lr = Model([Affine(\"logits\", 784, 1), Sigmoid(\"sigmoid\")])"
   ]
  },
  {
   "cell_type": "code",
   "execution_count": 20,
   "id": "6eede77a",
   "metadata": {
    "execution": {
     "iopub.execute_input": "2022-08-13T00:37:12.737701Z",
     "iopub.status.busy": "2022-08-13T00:37:12.737099Z",
     "iopub.status.idle": "2022-08-13T00:37:12.750292Z",
     "shell.execute_reply": "2022-08-13T00:37:12.749814Z"
    },
    "papermill": {
     "duration": 0.044466,
     "end_time": "2022-08-13T00:37:12.750406",
     "exception": false,
     "start_time": "2022-08-13T00:37:12.705940",
     "status": "completed"
    },
    "tags": []
   },
   "outputs": [],
   "source": [
    "nn_learner = Learner(loss, model_nn, opt, config.num_epochs)\n",
    "acc_nn = ClfCallback(nn_learner, config.bs, training_data_x , testing_data_x, training_data_y, testing_data_y)\n",
    "nn_learner.set_callbacks([acc_nn])"
   ]
  },
  {
   "cell_type": "code",
   "execution_count": 21,
   "id": "877b6cc7",
   "metadata": {
    "execution": {
     "iopub.execute_input": "2022-08-13T00:37:12.809093Z",
     "iopub.status.busy": "2022-08-13T00:37:12.808503Z",
     "iopub.status.idle": "2022-08-13T00:37:12.821618Z",
     "shell.execute_reply": "2022-08-13T00:37:12.821141Z"
    },
    "papermill": {
     "duration": 0.044145,
     "end_time": "2022-08-13T00:37:12.821732",
     "exception": false,
     "start_time": "2022-08-13T00:37:12.777587",
     "status": "completed"
    },
    "tags": []
   },
   "outputs": [],
   "source": [
    "lr_learner = Learner(loss, model_lr, opt, config.num_epochs)\n",
    "acc_lr = ClfCallback(lr_learner, config.bs, training_data_x , testing_data_x, training_data_y, testing_data_y)\n",
    "lr_learner.set_callbacks([acc_lr])"
   ]
  },
  {
   "cell_type": "code",
   "execution_count": 22,
   "id": "d9b133c3",
   "metadata": {
    "execution": {
     "iopub.execute_input": "2022-08-13T00:37:12.880211Z",
     "iopub.status.busy": "2022-08-13T00:37:12.879632Z",
     "iopub.status.idle": "2022-08-13T00:38:29.529715Z",
     "shell.execute_reply": "2022-08-13T00:38:29.530603Z"
    },
    "papermill": {
     "duration": 76.681804,
     "end_time": "2022-08-13T00:38:29.530759",
     "exception": false,
     "start_time": "2022-08-13T00:37:12.848955",
     "status": "completed"
    },
    "tags": []
   },
   "outputs": [
    {
     "name": "stdout",
     "output_type": "stream",
     "text": [
      "Epoch 0, Loss 0.1957\n",
      "Training Accuracy: 0.8214, Testing Accuracy: 0.8432\n",
      "\n"
     ]
    },
    {
     "name": "stdout",
     "output_type": "stream",
     "text": [
      "Epoch 10, Loss 0.0659\n",
      "Training Accuracy: 0.9328, Testing Accuracy: 0.9456\n",
      "\n"
     ]
    },
    {
     "name": "stdout",
     "output_type": "stream",
     "text": [
      "Epoch 20, Loss 0.0451\n",
      "Training Accuracy: 0.9518, Testing Accuracy: 0.9607\n",
      "\n"
     ]
    },
    {
     "name": "stdout",
     "output_type": "stream",
     "text": [
      "Epoch 30, Loss 0.037\n",
      "Training Accuracy: 0.9605, Testing Accuracy: 0.9677\n",
      "\n"
     ]
    },
    {
     "name": "stdout",
     "output_type": "stream",
     "text": [
      "Epoch 40, Loss 0.0327\n",
      "Training Accuracy: 0.9644, Testing Accuracy: 0.9708\n",
      "\n"
     ]
    },
    {
     "name": "stdout",
     "output_type": "stream",
     "text": [
      "Epoch 50, Loss 0.03\n",
      "Training Accuracy: 0.9675, Testing Accuracy: 0.9713\n",
      "\n"
     ]
    },
    {
     "name": "stdout",
     "output_type": "stream",
     "text": [
      "Epoch 60, Loss 0.028\n",
      "Training Accuracy: 0.9695, Testing Accuracy: 0.9718\n",
      "\n"
     ]
    },
    {
     "name": "stdout",
     "output_type": "stream",
     "text": [
      "Epoch 70, Loss 0.0265\n",
      "Training Accuracy: 0.9704, Testing Accuracy: 0.9728\n",
      "\n"
     ]
    },
    {
     "name": "stdout",
     "output_type": "stream",
     "text": [
      "Epoch 80, Loss 0.0253\n",
      "Training Accuracy: 0.9716, Testing Accuracy: 0.9733\n",
      "\n"
     ]
    },
    {
     "name": "stdout",
     "output_type": "stream",
     "text": [
      "Epoch 90, Loss 0.0243\n",
      "Training Accuracy: 0.9724, Testing Accuracy: 0.9733\n",
      "\n"
     ]
    },
    {
     "name": "stdout",
     "output_type": "stream",
     "text": [
      "Epoch 100, Loss 0.0234\n",
      "Training Accuracy: 0.9736, Testing Accuracy: 0.9728\n",
      "\n"
     ]
    },
    {
     "name": "stdout",
     "output_type": "stream",
     "text": [
      "Epoch 110, Loss 0.0227\n",
      "Training Accuracy: 0.9741, Testing Accuracy: 0.9728\n",
      "\n"
     ]
    },
    {
     "name": "stdout",
     "output_type": "stream",
     "text": [
      "Epoch 120, Loss 0.022\n",
      "Training Accuracy: 0.9752, Testing Accuracy: 0.9738\n",
      "\n"
     ]
    },
    {
     "name": "stdout",
     "output_type": "stream",
     "text": [
      "Epoch 130, Loss 0.0214\n",
      "Training Accuracy: 0.9760, Testing Accuracy: 0.9738\n",
      "\n"
     ]
    },
    {
     "name": "stdout",
     "output_type": "stream",
     "text": [
      "Epoch 140, Loss 0.0208\n",
      "Training Accuracy: 0.9766, Testing Accuracy: 0.9748\n",
      "\n"
     ]
    },
    {
     "name": "stdout",
     "output_type": "stream",
     "text": [
      "Epoch 150, Loss 0.0202\n",
      "Training Accuracy: 0.9770, Testing Accuracy: 0.9743\n",
      "\n"
     ]
    },
    {
     "name": "stdout",
     "output_type": "stream",
     "text": [
      "Epoch 160, Loss 0.0197\n",
      "Training Accuracy: 0.9774, Testing Accuracy: 0.9748\n",
      "\n"
     ]
    },
    {
     "name": "stdout",
     "output_type": "stream",
     "text": [
      "Epoch 170, Loss 0.0192\n",
      "Training Accuracy: 0.9783, Testing Accuracy: 0.9748\n",
      "\n"
     ]
    },
    {
     "name": "stdout",
     "output_type": "stream",
     "text": [
      "Epoch 180, Loss 0.0188\n",
      "Training Accuracy: 0.9788, Testing Accuracy: 0.9748\n",
      "\n"
     ]
    },
    {
     "name": "stdout",
     "output_type": "stream",
     "text": [
      "Epoch 190, Loss 0.0183\n",
      "Training Accuracy: 0.9796, Testing Accuracy: 0.9748\n",
      "\n"
     ]
    },
    {
     "name": "stdout",
     "output_type": "stream",
     "text": [
      "Epoch 200, Loss 0.0179\n",
      "Training Accuracy: 0.9802, Testing Accuracy: 0.9743\n",
      "\n"
     ]
    },
    {
     "name": "stdout",
     "output_type": "stream",
     "text": [
      "Epoch 210, Loss 0.0175\n",
      "Training Accuracy: 0.9806, Testing Accuracy: 0.9748\n",
      "\n"
     ]
    },
    {
     "name": "stdout",
     "output_type": "stream",
     "text": [
      "Epoch 220, Loss 0.0171\n",
      "Training Accuracy: 0.9809, Testing Accuracy: 0.9753\n",
      "\n"
     ]
    },
    {
     "name": "stdout",
     "output_type": "stream",
     "text": [
      "Epoch 230, Loss 0.0167\n",
      "Training Accuracy: 0.9821, Testing Accuracy: 0.9748\n",
      "\n"
     ]
    },
    {
     "name": "stdout",
     "output_type": "stream",
     "text": [
      "Epoch 240, Loss 0.0163\n",
      "Training Accuracy: 0.9827, Testing Accuracy: 0.9758\n",
      "\n"
     ]
    },
    {
     "data": {
      "text/plain": [
       "0.0044021271910699294"
      ]
     },
     "execution_count": 22,
     "metadata": {},
     "output_type": "execute_result"
    }
   ],
   "source": [
    "nn_learner.train_loop(dl)"
   ]
  },
  {
   "cell_type": "code",
   "execution_count": 23,
   "id": "e0163366",
   "metadata": {
    "execution": {
     "iopub.execute_input": "2022-08-13T00:38:29.608848Z",
     "iopub.status.busy": "2022-08-13T00:38:29.608258Z",
     "iopub.status.idle": "2022-08-13T00:38:43.532514Z",
     "shell.execute_reply": "2022-08-13T00:38:43.533346Z"
    },
    "papermill": {
     "duration": 13.968028,
     "end_time": "2022-08-13T00:38:43.533497",
     "exception": false,
     "start_time": "2022-08-13T00:38:29.565469",
     "status": "completed"
    },
    "tags": []
   },
   "outputs": [
    {
     "name": "stdout",
     "output_type": "stream",
     "text": [
      "Epoch 0, Loss 0.2518\n",
      "Training Accuracy: 0.6699, Testing Accuracy: 0.6593\n",
      "\n"
     ]
    },
    {
     "name": "stdout",
     "output_type": "stream",
     "text": [
      "Epoch 10, Loss 0.1005\n",
      "Training Accuracy: 0.9160, Testing Accuracy: 0.9239\n",
      "\n"
     ]
    },
    {
     "name": "stdout",
     "output_type": "stream",
     "text": [
      "Epoch 20, Loss 0.0777\n",
      "Training Accuracy: 0.9301, Testing Accuracy: 0.9420\n",
      "\n"
     ]
    },
    {
     "name": "stdout",
     "output_type": "stream",
     "text": [
      "Epoch 30, Loss 0.0672\n",
      "Training Accuracy: 0.9391, Testing Accuracy: 0.9506\n",
      "\n"
     ]
    },
    {
     "name": "stdout",
     "output_type": "stream",
     "text": [
      "Epoch 40, Loss 0.0609\n",
      "Training Accuracy: 0.9435, Testing Accuracy: 0.9521\n",
      "\n"
     ]
    },
    {
     "name": "stdout",
     "output_type": "stream",
     "text": [
      "Epoch 50, Loss 0.0566\n",
      "Training Accuracy: 0.9456, Testing Accuracy: 0.9561\n",
      "\n"
     ]
    },
    {
     "name": "stdout",
     "output_type": "stream",
     "text": [
      "Epoch 60, Loss 0.0534\n",
      "Training Accuracy: 0.9474, Testing Accuracy: 0.9587\n",
      "\n"
     ]
    },
    {
     "name": "stdout",
     "output_type": "stream",
     "text": [
      "Epoch 70, Loss 0.0509\n",
      "Training Accuracy: 0.9493, Testing Accuracy: 0.9592\n",
      "\n"
     ]
    },
    {
     "name": "stdout",
     "output_type": "stream",
     "text": [
      "Epoch 80, Loss 0.0489\n",
      "Training Accuracy: 0.9506, Testing Accuracy: 0.9612\n",
      "\n"
     ]
    },
    {
     "name": "stdout",
     "output_type": "stream",
     "text": [
      "Epoch 90, Loss 0.0473\n",
      "Training Accuracy: 0.9518, Testing Accuracy: 0.9622\n",
      "\n"
     ]
    },
    {
     "name": "stdout",
     "output_type": "stream",
     "text": [
      "Epoch 100, Loss 0.0459\n",
      "Training Accuracy: 0.9525, Testing Accuracy: 0.9632\n",
      "\n"
     ]
    },
    {
     "name": "stdout",
     "output_type": "stream",
     "text": [
      "Epoch 110, Loss 0.0447\n",
      "Training Accuracy: 0.9533, Testing Accuracy: 0.9632\n",
      "\n"
     ]
    },
    {
     "name": "stdout",
     "output_type": "stream",
     "text": [
      "Epoch 120, Loss 0.0437\n",
      "Training Accuracy: 0.9543, Testing Accuracy: 0.9647\n",
      "\n"
     ]
    },
    {
     "name": "stdout",
     "output_type": "stream",
     "text": [
      "Epoch 130, Loss 0.0427\n",
      "Training Accuracy: 0.9550, Testing Accuracy: 0.9652\n",
      "\n"
     ]
    },
    {
     "name": "stdout",
     "output_type": "stream",
     "text": [
      "Epoch 140, Loss 0.0419\n",
      "Training Accuracy: 0.9556, Testing Accuracy: 0.9647\n",
      "\n"
     ]
    },
    {
     "name": "stdout",
     "output_type": "stream",
     "text": [
      "Epoch 150, Loss 0.0412\n",
      "Training Accuracy: 0.9561, Testing Accuracy: 0.9647\n",
      "\n"
     ]
    },
    {
     "name": "stdout",
     "output_type": "stream",
     "text": [
      "Epoch 160, Loss 0.0405\n",
      "Training Accuracy: 0.9568, Testing Accuracy: 0.9647\n",
      "\n"
     ]
    },
    {
     "name": "stdout",
     "output_type": "stream",
     "text": [
      "Epoch 170, Loss 0.0399\n",
      "Training Accuracy: 0.9572, Testing Accuracy: 0.9642\n",
      "\n"
     ]
    },
    {
     "name": "stdout",
     "output_type": "stream",
     "text": [
      "Epoch 180, Loss 0.0394\n",
      "Training Accuracy: 0.9578, Testing Accuracy: 0.9647\n",
      "\n"
     ]
    },
    {
     "name": "stdout",
     "output_type": "stream",
     "text": [
      "Epoch 190, Loss 0.0389\n",
      "Training Accuracy: 0.9584, Testing Accuracy: 0.9647\n",
      "\n"
     ]
    },
    {
     "name": "stdout",
     "output_type": "stream",
     "text": [
      "Epoch 200, Loss 0.0384\n",
      "Training Accuracy: 0.9588, Testing Accuracy: 0.9652\n",
      "\n"
     ]
    },
    {
     "name": "stdout",
     "output_type": "stream",
     "text": [
      "Epoch 210, Loss 0.0379\n",
      "Training Accuracy: 0.9593, Testing Accuracy: 0.9657\n",
      "\n"
     ]
    },
    {
     "name": "stdout",
     "output_type": "stream",
     "text": [
      "Epoch 220, Loss 0.0375\n",
      "Training Accuracy: 0.9596, Testing Accuracy: 0.9652\n",
      "\n"
     ]
    },
    {
     "name": "stdout",
     "output_type": "stream",
     "text": [
      "Epoch 230, Loss 0.0372\n",
      "Training Accuracy: 0.9600, Testing Accuracy: 0.9652\n",
      "\n"
     ]
    },
    {
     "name": "stdout",
     "output_type": "stream",
     "text": [
      "Epoch 240, Loss 0.0368\n",
      "Training Accuracy: 0.9604, Testing Accuracy: 0.9652\n",
      "\n"
     ]
    },
    {
     "data": {
      "text/plain": [
       "0.02005205126085858"
      ]
     },
     "execution_count": 23,
     "metadata": {},
     "output_type": "execute_result"
    }
   ],
   "source": [
    "lr_learner.train_loop(dl)"
   ]
  },
  {
   "cell_type": "code",
   "execution_count": 24,
   "id": "ca410940",
   "metadata": {
    "execution": {
     "iopub.execute_input": "2022-08-13T00:38:43.624757Z",
     "iopub.status.busy": "2022-08-13T00:38:43.624130Z",
     "iopub.status.idle": "2022-08-13T00:38:43.853837Z",
     "shell.execute_reply": "2022-08-13T00:38:43.854297Z"
    },
    "papermill": {
     "duration": 0.279704,
     "end_time": "2022-08-13T00:38:43.854444",
     "exception": false,
     "start_time": "2022-08-13T00:38:43.574740",
     "status": "completed"
    },
    "tags": []
   },
   "outputs": [
    {
     "data": {
      "text/plain": [
       "<matplotlib.legend.Legend at 0x7f43ab891cf8>"
      ]
     },
     "execution_count": 24,
     "metadata": {},
     "output_type": "execute_result"
    },
    {
     "data": {
      "image/png": "[encoded data removed]",
      "text/plain": [
       "<Figure size 1080x720 with 1 Axes>"
      ]
     },
     "metadata": {
      "needs_background": "light"
     },
     "output_type": "display_data"
    }
   ],
   "source": [
    "#comparing the results of NN and LR\n",
    "plt.figure(figsize=(15,10))\n",
    "\n",
    "# Neural Network plots\n",
    "plt.plot(acc_nn.accuracies, 'r-', label = \"Training Accuracies - NN\")\n",
    "plt.plot(acc_nn.test_accuracies, 'g-', label = \"Testing Accuracies - NN\")\n",
    "\n",
    "# Logistic Regression plots\n",
    "plt.plot(acc_lr.accuracies, 'k-', label = \"Training Accuracies - LR\")\n",
    "plt.plot(acc_lr.test_accuracies, 'b-', label = \"Testing Accuracies - LR\")\n",
    "plt.legend()"
   ]
  },
  {
   "cell_type": "markdown",
   "id": "80dfb35c",
   "metadata": {
    "papermill": {
     "duration": 0.042283,
     "end_time": "2022-08-13T00:38:43.942321",
     "exception": false,
     "start_time": "2022-08-13T00:38:43.900038",
     "status": "completed"
    },
    "tags": []
   },
   "source": [
    "#### Plotting the outputs of this layer of the NN.\n"
   ]
  },
  {
   "cell_type": "code",
   "execution_count": 25,
   "id": "45eb2ff5",
   "metadata": {
    "execution": {
     "iopub.execute_input": "2022-08-13T00:38:44.030471Z",
     "iopub.status.busy": "2022-08-13T00:38:44.029863Z",
     "iopub.status.idle": "2022-08-13T00:38:44.050596Z",
     "shell.execute_reply": "2022-08-13T00:38:44.051181Z"
    },
    "papermill": {
     "duration": 0.067066,
     "end_time": "2022-08-13T00:38:44.051328",
     "exception": false,
     "start_time": "2022-08-13T00:38:43.984262",
     "status": "completed"
    },
    "tags": []
   },
   "outputs": [],
   "source": [
    "new_model = Model(layers[:-2])\n",
    "testing_plot = new_model(testing_data_x)"
   ]
  },
  {
   "cell_type": "code",
   "execution_count": 26,
   "id": "4c0a5485",
   "metadata": {
    "execution": {
     "iopub.execute_input": "2022-08-13T00:38:44.140550Z",
     "iopub.status.busy": "2022-08-13T00:38:44.139963Z",
     "iopub.status.idle": "2022-08-13T00:38:44.325802Z",
     "shell.execute_reply": "2022-08-13T00:38:44.326239Z"
    },
    "papermill": {
     "duration": 0.232336,
     "end_time": "2022-08-13T00:38:44.326395",
     "exception": false,
     "start_time": "2022-08-13T00:38:44.094059",
     "status": "completed"
    },
    "tags": []
   },
   "outputs": [
    {
     "data": {
      "text/plain": [
       "Text(0.5, 1.0, 'Outputs')"
      ]
     },
     "execution_count": 26,
     "metadata": {},
     "output_type": "execute_result"
    },
    {
     "data": {
      "image/png": "[encoded data removed]",
      "text/plain": [
       "<Figure size 576x504 with 1 Axes>"
      ]
     },
     "metadata": {
      "needs_background": "light"
     },
     "output_type": "display_data"
    }
   ],
   "source": [
    "# Plotting the scatter plot of points and color coding by class\n",
    "plt.figure(figsize=(8,7))\n",
    "plt.scatter(testing_plot[:,0], testing_plot[:,1], alpha = 0.1, c = y_test.ravel());\n",
    "plt.title('Outputs')"
   ]
  },
  {
   "cell_type": "markdown",
   "id": "a74fcf8f",
   "metadata": {
    "papermill": {
     "duration": 0.044338,
     "end_time": "2022-08-13T00:38:44.415308",
     "exception": false,
     "start_time": "2022-08-13T00:38:44.370970",
     "status": "completed"
    },
    "tags": []
   },
   "source": [
    "Probability contours"
   ]
  },
  {
   "cell_type": "code",
   "execution_count": 27,
   "id": "d0afc8e3",
   "metadata": {
    "execution": {
     "iopub.execute_input": "2022-08-13T00:38:44.507794Z",
     "iopub.status.busy": "2022-08-13T00:38:44.507190Z",
     "iopub.status.idle": "2022-08-13T00:38:44.520278Z",
     "shell.execute_reply": "2022-08-13T00:38:44.519804Z"
    },
    "papermill": {
     "duration": 0.060918,
     "end_time": "2022-08-13T00:38:44.520389",
     "exception": false,
     "start_time": "2022-08-13T00:38:44.459471",
     "status": "completed"
    },
    "tags": []
   },
   "outputs": [],
   "source": [
    "model_prob = Model(layers[-2:]) "
   ]
  },
  {
   "cell_type": "code",
   "execution_count": 28,
   "id": "9b96e238",
   "metadata": {
    "execution": {
     "iopub.execute_input": "2022-08-13T00:38:44.614061Z",
     "iopub.status.busy": "2022-08-13T00:38:44.613464Z",
     "iopub.status.idle": "2022-08-13T00:38:44.626807Z",
     "shell.execute_reply": "2022-08-13T00:38:44.627268Z"
    },
    "papermill": {
     "duration": 0.062945,
     "end_time": "2022-08-13T00:38:44.627408",
     "exception": false,
     "start_time": "2022-08-13T00:38:44.564463",
     "status": "completed"
    },
    "tags": []
   },
   "outputs": [],
   "source": [
    "#creating the x and y ranges according to the above generated plot.\n",
    "x_range = np.linspace(-4, 1, 100) \n",
    "y_range = np.linspace(-6, 6, 100) \n",
    "x_grid, y_grid = np.meshgrid(x_range, y_range) # x_grid and y_grig are of size 100 X 100\n",
    "\n",
    "# converting x_grid and y_grid to continuous arrays\n",
    "x_gridflat = np.ravel(x_grid)\n",
    "y_gridflat = np.ravel(y_grid)\n",
    "\n",
    "# The last layer of the current model takes two columns as input. Hence transpose of np.vstack() is required.\n",
    "X = np.vstack((x_gridflat, y_gridflat)).T\n",
    "\n",
    "prob_contour = model_prob(X).reshape(100,100) "
   ]
  },
  {
   "cell_type": "code",
   "execution_count": 29,
   "id": "da72499a",
   "metadata": {
    "execution": {
     "iopub.execute_input": "2022-08-13T00:38:44.756328Z",
     "iopub.status.busy": "2022-08-13T00:38:44.755714Z",
     "iopub.status.idle": "2022-08-13T00:38:44.998557Z",
     "shell.execute_reply": "2022-08-13T00:38:44.997430Z"
    },
    "papermill": {
     "duration": 0.294319,
     "end_time": "2022-08-13T00:38:44.998689",
     "exception": false,
     "start_time": "2022-08-13T00:38:44.704370",
     "status": "completed"
    },
    "tags": []
   },
   "outputs": [
    {
     "data": {
      "image/png": "[encoded data removed]",
      "text/plain": [
       "<Figure size 720x648 with 1 Axes>"
      ]
     },
     "metadata": {
      "needs_background": "light"
     },
     "output_type": "display_data"
    }
   ],
   "source": [
    "plt.figure(figsize=(10,9))\n",
    "plt.scatter(testing_plot[:,0], testing_plot[:,1], alpha = 0.1, c = y_test.ravel())\n",
    "contours = plt.contour(x_grid,y_grid,prob_contour)\n",
    "plt.title('Probability Contours')\n",
    "plt.clabel(contours, inline = True );"
   ]
  },
  {
   "cell_type": "code",
   "execution_count": null,
   "id": "e81b4ac7",
   "metadata": {
    "papermill": {
     "duration": 0.047716,
     "end_time": "2022-08-13T00:38:45.094057",
     "exception": false,
     "start_time": "2022-08-13T00:38:45.046341",
     "status": "completed"
    },
    "tags": []
   },
   "outputs": [],
   "source": []
  }
 ],
 "metadata": {
  "kernelspec": {
   "display_name": "Python 3",
   "language": "python",
   "name": "python3"
  },
  "language_info": {
   "codemirror_mode": {
    "name": "ipython",
    "version": 3
   },
   "file_extension": ".py",
   "mimetype": "text/x-python",
   "name": "python",
   "nbconvert_exporter": "python",
   "pygments_lexer": "ipython3",
   "version": "3.6.15"
  },
  "papermill": {
   "default_parameters": {},
   "duration": 98.826833,
   "end_time": "2022-08-13T00:38:45.562908",
   "environment_variables": {},
   "exception": null,
   "input_path": "2020-08-11-part2.ipynb",
   "output_path": "2020-08-11-part2.ipynb",
   "parameters": {},
   "start_time": "2022-08-13T00:37:06.736075",
   "version": "2.3.3"
  }
 },
 "nbformat": 4,
 "nbformat_minor": 5
}