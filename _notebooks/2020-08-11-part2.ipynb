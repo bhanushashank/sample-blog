{
 "cells": [
  {
   "cell_type": "markdown",
   "id": "98380cd3",
   "metadata": {
    "papermill": {
     "duration": 0.027964,
     "end_time": "2021-09-02T20:06:42.449295",
     "exception": false,
     "start_time": "2021-09-02T20:06:42.421331",
     "status": "completed"
    },
    "tags": []
   },
   "source": [
    "# Distinguish Your Own Digits (DYOD)"
   ]
  },
  {
   "cell_type": "markdown",
   "id": "ef31240d",
   "metadata": {
    "papermill": {
     "duration": 0.023835,
     "end_time": "2021-09-02T20:06:42.497551",
     "exception": false,
     "start_time": "2021-09-02T20:06:42.473716",
     "status": "completed"
    },
    "tags": []
   },
   "source": [
    "You are going to write a classifier that distinguishes between the number 3 and number 8."
   ]
  },
  {
   "cell_type": "code",
   "execution_count": 1,
   "id": "b15c8646",
   "metadata": {
    "execution": {
     "iopub.execute_input": "2021-09-02T20:06:42.554693Z",
     "iopub.status.busy": "2021-09-02T20:06:42.554178Z",
     "iopub.status.idle": "2021-09-02T20:06:42.564147Z",
     "shell.execute_reply": "2021-09-02T20:06:42.563711Z"
    },
    "papermill": {
     "duration": 0.043199,
     "end_time": "2021-09-02T20:06:42.564265",
     "exception": false,
     "start_time": "2021-09-02T20:06:42.521066",
     "status": "completed"
    },
    "tags": []
   },
   "outputs": [],
   "source": [
    "%load_ext autoreload\n",
    "%autoreload 2"
   ]
  },
  {
   "cell_type": "code",
   "execution_count": 2,
   "id": "22ef38dc",
   "metadata": {
    "execution": {
     "iopub.execute_input": "2021-09-02T20:06:42.627292Z",
     "iopub.status.busy": "2021-09-02T20:06:42.626766Z",
     "iopub.status.idle": "2021-09-02T20:06:43.132755Z",
     "shell.execute_reply": "2021-09-02T20:06:43.132238Z"
    },
    "papermill": {
     "duration": 0.544717,
     "end_time": "2021-09-02T20:06:43.132910",
     "exception": false,
     "start_time": "2021-09-02T20:06:42.588193",
     "status": "completed"
    },
    "tags": []
   },
   "outputs": [],
   "source": [
    "%matplotlib inline\n",
    "import numpy as np\n",
    "import matplotlib.pyplot as plt\n",
    "import pandas as pd"
   ]
  },
  {
   "cell_type": "markdown",
   "id": "ba036198",
   "metadata": {
    "papermill": {
     "duration": 0.025208,
     "end_time": "2021-09-02T20:06:43.182607",
     "exception": false,
     "start_time": "2021-09-02T20:06:43.157399",
     "status": "completed"
    },
    "tags": []
   },
   "source": [
    "From the command line run `pip install mnist`. This is a library that will help you bring down the mnist dataset. If you run this from a notebook, you need to put  `!pip install mnist` in a cell by itself."
   ]
  },
  {
   "cell_type": "code",
   "execution_count": 3,
   "id": "bb6ad8a1",
   "metadata": {
    "execution": {
     "iopub.execute_input": "2021-09-02T20:06:43.240925Z",
     "iopub.status.busy": "2021-09-02T20:06:43.240408Z",
     "iopub.status.idle": "2021-09-02T20:06:44.909666Z",
     "shell.execute_reply": "2021-09-02T20:06:44.909092Z"
    },
    "papermill": {
     "duration": 1.70334,
     "end_time": "2021-09-02T20:06:44.909807",
     "exception": false,
     "start_time": "2021-09-02T20:06:43.206467",
     "status": "completed"
    },
    "tags": []
   },
   "outputs": [
    {
     "name": "stdout",
     "output_type": "stream",
     "text": [
      "Collecting mnist\r\n"
     ]
    },
    {
     "name": "stdout",
     "output_type": "stream",
     "text": [
      "  Downloading mnist-0.2.2-py2.py3-none-any.whl (3.5 kB)\r\n",
      "Requirement already satisfied: numpy in /opt/hostedtoolcache/Python/3.6.14/x64/lib/python3.6/site-packages (from mnist) (1.19.5)\r\n"
     ]
    },
    {
     "name": "stdout",
     "output_type": "stream",
     "text": [
      "Installing collected packages: mnist\r\n"
     ]
    },
    {
     "name": "stdout",
     "output_type": "stream",
     "text": [
      "Successfully installed mnist-0.2.2\r\n"
     ]
    }
   ],
   "source": [
    "!pip install mnist"
   ]
  },
  {
   "cell_type": "markdown",
   "id": "69df9c9a",
   "metadata": {
    "papermill": {
     "duration": 0.024827,
     "end_time": "2021-09-02T20:06:44.960270",
     "exception": false,
     "start_time": "2021-09-02T20:06:44.935443",
     "status": "completed"
    },
    "tags": []
   },
   "source": [
    "## Preparing the Data"
   ]
  },
  {
   "cell_type": "code",
   "execution_count": 4,
   "id": "7f69d806",
   "metadata": {
    "execution": {
     "iopub.execute_input": "2021-09-02T20:06:45.028233Z",
     "iopub.status.busy": "2021-09-02T20:06:45.027164Z",
     "iopub.status.idle": "2021-09-02T20:06:45.030544Z",
     "shell.execute_reply": "2021-09-02T20:06:45.030101Z"
    },
    "papermill": {
     "duration": 0.045674,
     "end_time": "2021-09-02T20:06:45.030657",
     "exception": false,
     "start_time": "2021-09-02T20:06:44.984983",
     "status": "completed"
    },
    "tags": []
   },
   "outputs": [],
   "source": [
    "import mnist"
   ]
  },
  {
   "cell_type": "code",
   "execution_count": 5,
   "id": "a411e44f",
   "metadata": {
    "execution": {
     "iopub.execute_input": "2021-09-02T20:06:45.093373Z",
     "iopub.status.busy": "2021-09-02T20:06:45.084344Z",
     "iopub.status.idle": "2021-09-02T20:06:45.640359Z",
     "shell.execute_reply": "2021-09-02T20:06:45.639840Z"
    },
    "papermill": {
     "duration": 0.584532,
     "end_time": "2021-09-02T20:06:45.640505",
     "exception": false,
     "start_time": "2021-09-02T20:06:45.055973",
     "status": "completed"
    },
    "tags": []
   },
   "outputs": [],
   "source": [
    "train_images = mnist.train_images()\n",
    "train_labels = mnist.train_labels()"
   ]
  },
  {
   "cell_type": "code",
   "execution_count": 6,
   "id": "dceab3a5",
   "metadata": {
    "execution": {
     "iopub.execute_input": "2021-09-02T20:06:45.702247Z",
     "iopub.status.busy": "2021-09-02T20:06:45.701658Z",
     "iopub.status.idle": "2021-09-02T20:06:45.712614Z",
     "shell.execute_reply": "2021-09-02T20:06:45.712183Z"
    },
    "papermill": {
     "duration": 0.046381,
     "end_time": "2021-09-02T20:06:45.712727",
     "exception": false,
     "start_time": "2021-09-02T20:06:45.666346",
     "status": "completed"
    },
    "tags": []
   },
   "outputs": [
    {
     "data": {
      "text/plain": [
       "((60000, 28, 28), (60000,))"
      ]
     },
     "execution_count": 6,
     "metadata": {},
     "output_type": "execute_result"
    }
   ],
   "source": [
    "train_images.shape, train_labels.shape"
   ]
  },
  {
   "cell_type": "code",
   "execution_count": 7,
   "id": "f50dc2bb",
   "metadata": {
    "execution": {
     "iopub.execute_input": "2021-09-02T20:06:45.767127Z",
     "iopub.status.busy": "2021-09-02T20:06:45.766618Z",
     "iopub.status.idle": "2021-09-02T20:06:45.950867Z",
     "shell.execute_reply": "2021-09-02T20:06:45.950354Z"
    },
    "papermill": {
     "duration": 0.212758,
     "end_time": "2021-09-02T20:06:45.951007",
     "exception": false,
     "start_time": "2021-09-02T20:06:45.738249",
     "status": "completed"
    },
    "tags": []
   },
   "outputs": [],
   "source": [
    "test_images = mnist.test_images()\n",
    "test_labels = mnist.test_labels()"
   ]
  },
  {
   "cell_type": "code",
   "execution_count": 8,
   "id": "fc38cf1b",
   "metadata": {
    "execution": {
     "iopub.execute_input": "2021-09-02T20:06:46.012009Z",
     "iopub.status.busy": "2021-09-02T20:06:46.011499Z",
     "iopub.status.idle": "2021-09-02T20:06:46.020580Z",
     "shell.execute_reply": "2021-09-02T20:06:46.020154Z"
    },
    "papermill": {
     "duration": 0.043455,
     "end_time": "2021-09-02T20:06:46.020691",
     "exception": false,
     "start_time": "2021-09-02T20:06:45.977236",
     "status": "completed"
    },
    "tags": []
   },
   "outputs": [
    {
     "data": {
      "text/plain": [
       "((10000, 28, 28), (10000,))"
      ]
     },
     "execution_count": 8,
     "metadata": {},
     "output_type": "execute_result"
    }
   ],
   "source": [
    "test_images.shape, test_labels.shape"
   ]
  },
  {
   "cell_type": "code",
   "execution_count": 9,
   "id": "f9ed8fe0",
   "metadata": {
    "execution": {
     "iopub.execute_input": "2021-09-02T20:06:46.075369Z",
     "iopub.status.busy": "2021-09-02T20:06:46.074856Z",
     "iopub.status.idle": "2021-09-02T20:06:46.223095Z",
     "shell.execute_reply": "2021-09-02T20:06:46.223493Z"
    },
    "papermill": {
     "duration": 0.177509,
     "end_time": "2021-09-02T20:06:46.223638",
     "exception": false,
     "start_time": "2021-09-02T20:06:46.046129",
     "status": "completed"
    },
    "tags": []
   },
   "outputs": [
    {
     "name": "stdout",
     "output_type": "stream",
     "text": [
      "2\n"
     ]
    },
    {
     "data": {
      "text/plain": [
       "<matplotlib.image.AxesImage at 0x7fda8a7b4d68>"
      ]
     },
     "execution_count": 9,
     "metadata": {},
     "output_type": "execute_result"
    },
    {
     "data": {
      "image/png": "[encoded data removed]",
      "text/plain": [
       "<Figure size 432x288 with 1 Axes>"
      ]
     },
     "metadata": {
      "needs_background": "light"
     },
     "output_type": "display_data"
    }
   ],
   "source": [
    "image_index = 7776 # You may select anything up to 60,000\n",
    "print(train_labels[image_index]) \n",
    "plt.imshow(train_images[image_index], cmap='Greys')"
   ]
  },
  {
   "cell_type": "markdown",
   "id": "a8d2388d",
   "metadata": {
    "papermill": {
     "duration": 0.026722,
     "end_time": "2021-09-02T20:06:46.279013",
     "exception": false,
     "start_time": "2021-09-02T20:06:46.252291",
     "status": "completed"
    },
    "tags": []
   },
   "source": [
    "## Filter data to get 3 and 8 out"
   ]
  },
  {
   "cell_type": "code",
   "execution_count": 10,
   "id": "776f7fc7",
   "metadata": {
    "execution": {
     "iopub.execute_input": "2021-09-02T20:06:46.336928Z",
     "iopub.status.busy": "2021-09-02T20:06:46.336382Z",
     "iopub.status.idle": "2021-09-02T20:06:46.352199Z",
     "shell.execute_reply": "2021-09-02T20:06:46.351789Z"
    },
    "papermill": {
     "duration": 0.047091,
     "end_time": "2021-09-02T20:06:46.352312",
     "exception": false,
     "start_time": "2021-09-02T20:06:46.305221",
     "status": "completed"
    },
    "tags": []
   },
   "outputs": [],
   "source": [
    "train_filter = np.where((train_labels == 3 ) | (train_labels == 8))\n",
    "test_filter = np.where((test_labels == 3) | (test_labels == 8))\n",
    "X_train, y_train = train_images[train_filter], train_labels[train_filter]\n",
    "X_test, y_test = test_images[test_filter], test_labels[test_filter]"
   ]
  },
  {
   "cell_type": "markdown",
   "id": "948f0b7e",
   "metadata": {
    "papermill": {
     "duration": 0.026213,
     "end_time": "2021-09-02T20:06:46.404976",
     "exception": false,
     "start_time": "2021-09-02T20:06:46.378763",
     "status": "completed"
    },
    "tags": []
   },
   "source": [
    "We normalize the pizel values in the 0 to 1 range"
   ]
  },
  {
   "cell_type": "code",
   "execution_count": 11,
   "id": "ee4c2166",
   "metadata": {
    "execution": {
     "iopub.execute_input": "2021-09-02T20:06:46.475703Z",
     "iopub.status.busy": "2021-09-02T20:06:46.475164Z",
     "iopub.status.idle": "2021-09-02T20:06:46.514478Z",
     "shell.execute_reply": "2021-09-02T20:06:46.514040Z"
    },
    "papermill": {
     "duration": 0.083305,
     "end_time": "2021-09-02T20:06:46.514600",
     "exception": false,
     "start_time": "2021-09-02T20:06:46.431295",
     "status": "completed"
    },
    "tags": []
   },
   "outputs": [],
   "source": [
    "X_train = X_train/255.\n",
    "X_test = X_test/255."
   ]
  },
  {
   "cell_type": "markdown",
   "id": "ddcf4fab",
   "metadata": {
    "papermill": {
     "duration": 0.026439,
     "end_time": "2021-09-02T20:06:46.567803",
     "exception": false,
     "start_time": "2021-09-02T20:06:46.541364",
     "status": "completed"
    },
    "tags": []
   },
   "source": [
    "And setup the labels as 1 (when the digit is 3) and 0 (when the digit is 8)"
   ]
  },
  {
   "cell_type": "code",
   "execution_count": 12,
   "id": "7dc908f2",
   "metadata": {
    "execution": {
     "iopub.execute_input": "2021-09-02T20:06:46.631686Z",
     "iopub.status.busy": "2021-09-02T20:06:46.629301Z",
     "iopub.status.idle": "2021-09-02T20:06:46.638685Z",
     "shell.execute_reply": "2021-09-02T20:06:46.638260Z"
    },
    "papermill": {
     "duration": 0.044659,
     "end_time": "2021-09-02T20:06:46.638805",
     "exception": false,
     "start_time": "2021-09-02T20:06:46.594146",
     "status": "completed"
    },
    "tags": []
   },
   "outputs": [],
   "source": [
    "y_train = 1*(y_train==3)\n",
    "y_test = 1*(y_test==3)"
   ]
  },
  {
   "cell_type": "code",
   "execution_count": 13,
   "id": "01e4e969",
   "metadata": {
    "execution": {
     "iopub.execute_input": "2021-09-02T20:06:46.697144Z",
     "iopub.status.busy": "2021-09-02T20:06:46.696596Z",
     "iopub.status.idle": "2021-09-02T20:06:46.708931Z",
     "shell.execute_reply": "2021-09-02T20:06:46.708508Z"
    },
    "papermill": {
     "duration": 0.043773,
     "end_time": "2021-09-02T20:06:46.709035",
     "exception": false,
     "start_time": "2021-09-02T20:06:46.665262",
     "status": "completed"
    },
    "tags": []
   },
   "outputs": [
    {
     "data": {
      "text/plain": [
       "((11982, 28, 28), (1984, 28, 28))"
      ]
     },
     "execution_count": 13,
     "metadata": {},
     "output_type": "execute_result"
    }
   ],
   "source": [
    "X_train.shape, X_test.shape"
   ]
  },
  {
   "cell_type": "markdown",
   "id": "5ccf3f85",
   "metadata": {
    "papermill": {
     "duration": 0.026778,
     "end_time": "2021-09-02T20:06:46.762471",
     "exception": false,
     "start_time": "2021-09-02T20:06:46.735693",
     "status": "completed"
    },
    "tags": []
   },
   "source": [
    "We reshape the data to flatten the image pixels into a set of features or co-variates:"
   ]
  },
  {
   "cell_type": "code",
   "execution_count": 14,
   "id": "5286a4a3",
   "metadata": {
    "execution": {
     "iopub.execute_input": "2021-09-02T20:06:46.820672Z",
     "iopub.status.busy": "2021-09-02T20:06:46.820140Z",
     "iopub.status.idle": "2021-09-02T20:06:46.832688Z",
     "shell.execute_reply": "2021-09-02T20:06:46.833090Z"
    },
    "papermill": {
     "duration": 0.043955,
     "end_time": "2021-09-02T20:06:46.833220",
     "exception": false,
     "start_time": "2021-09-02T20:06:46.789265",
     "status": "completed"
    },
    "tags": []
   },
   "outputs": [
    {
     "data": {
      "text/plain": [
       "((11982, 784), (1984, 784))"
      ]
     },
     "execution_count": 14,
     "metadata": {},
     "output_type": "execute_result"
    }
   ],
   "source": [
    "X_train = X_train.reshape(X_train.shape[0], -1)\n",
    "X_test = X_test.reshape(X_test.shape[0], -1)\n",
    "X_train.shape, X_test.shape"
   ]
  },
  {
   "cell_type": "code",
   "execution_count": 15,
   "id": "73c5f88a",
   "metadata": {
    "execution": {
     "iopub.execute_input": "2021-09-02T20:06:46.893664Z",
     "iopub.status.busy": "2021-09-02T20:06:46.891858Z",
     "iopub.status.idle": "2021-09-02T20:06:46.910218Z",
     "shell.execute_reply": "2021-09-02T20:06:46.909783Z"
    },
    "papermill": {
     "duration": 0.049766,
     "end_time": "2021-09-02T20:06:46.910330",
     "exception": false,
     "start_time": "2021-09-02T20:06:46.860564",
     "status": "completed"
    },
    "tags": []
   },
   "outputs": [],
   "source": [
    "#Impoting functions from 'Kudzu'\n",
    "from kudzu.model import Model\n",
    "from kudzu.train import Learner\n",
    "from kudzu.optim import GD\n",
    "from kudzu.data import Data, Sampler,Dataloader\n",
    "\n",
    "from kudzu.callbacks import AccCallback\n",
    "from kudzu.callbacks import ClfCallback\n",
    "\n",
    "from kudzu.loss import MSE\n",
    "\n",
    "from kudzu.layer import Sigmoid,Relu\n",
    "from kudzu.layer import Affine"
   ]
  },
  {
   "cell_type": "markdown",
   "id": "bc01172a",
   "metadata": {
    "papermill": {
     "duration": 0.026844,
     "end_time": "2021-09-02T20:06:46.964265",
     "exception": false,
     "start_time": "2021-09-02T20:06:46.937421",
     "status": "completed"
    },
    "tags": []
   },
   "source": [
    "### Let us create a `Config` class, to store important parameters. \n",
    "This class essentially plays the role of a dictionary."
   ]
  },
  {
   "cell_type": "code",
   "execution_count": 16,
   "id": "978281aa",
   "metadata": {
    "execution": {
     "iopub.execute_input": "2021-09-02T20:06:47.034043Z",
     "iopub.status.busy": "2021-09-02T20:06:47.030209Z",
     "iopub.status.idle": "2021-09-02T20:06:47.036329Z",
     "shell.execute_reply": "2021-09-02T20:06:47.035903Z"
    },
    "papermill": {
     "duration": 0.045365,
     "end_time": "2021-09-02T20:06:47.036442",
     "exception": false,
     "start_time": "2021-09-02T20:06:46.991077",
     "status": "completed"
    },
    "tags": []
   },
   "outputs": [],
   "source": [
    "class Config:\n",
    "    pass\n",
    "config = Config()\n",
    "config.lr = 0.001\n",
    "config.num_epochs = 250\n",
    "config.bs = 50"
   ]
  },
  {
   "cell_type": "markdown",
   "id": "1385fa59",
   "metadata": {
    "papermill": {
     "duration": 0.027035,
     "end_time": "2021-09-02T20:06:47.090495",
     "exception": false,
     "start_time": "2021-09-02T20:06:47.063460",
     "status": "completed"
    },
    "tags": []
   },
   "source": [
    "### Running Models with the Training data\n",
    "Details about the network layers:\n",
    "- A first affine layer has 784 inputs and does 100 affine transforms. These are followed by a Relu\n",
    "- A second affine layer has 100 inputs from the 100 activations of the past layer, and does 100 affine transforms. These are followed by a Relu\n",
    "- A third affine layer has 100 activations and does 2 affine transformations to create an embedding for visualization. There is no non-linearity here.\n",
    "- A final \"logistic regression\" which has an affine transform from 2 inputs to 1 output, which is squeezed through a sigmoid.\n"
   ]
  },
  {
   "cell_type": "code",
   "execution_count": 17,
   "id": "2b9c66db",
   "metadata": {
    "execution": {
     "iopub.execute_input": "2021-09-02T20:06:47.159837Z",
     "iopub.status.busy": "2021-09-02T20:06:47.159320Z",
     "iopub.status.idle": "2021-09-02T20:06:47.164062Z",
     "shell.execute_reply": "2021-09-02T20:06:47.163636Z"
    },
    "papermill": {
     "duration": 0.046705,
     "end_time": "2021-09-02T20:06:47.164168",
     "exception": false,
     "start_time": "2021-09-02T20:06:47.117463",
     "status": "completed"
    },
    "tags": []
   },
   "outputs": [],
   "source": [
    "data = Data(X_train, y_train.reshape(-1,1))\n",
    "sampler = Sampler(data, config.bs, shuffle=True)\n",
    "\n",
    "dl = Dataloader(data, sampler)\n",
    "\n",
    "opt = GD(config.lr)\n",
    "loss = MSE()"
   ]
  },
  {
   "cell_type": "code",
   "execution_count": 18,
   "id": "b275e4c2",
   "metadata": {
    "execution": {
     "iopub.execute_input": "2021-09-02T20:06:47.222689Z",
     "iopub.status.busy": "2021-09-02T20:06:47.222176Z",
     "iopub.status.idle": "2021-09-02T20:06:47.233304Z",
     "shell.execute_reply": "2021-09-02T20:06:47.232882Z"
    },
    "papermill": {
     "duration": 0.042128,
     "end_time": "2021-09-02T20:06:47.233407",
     "exception": false,
     "start_time": "2021-09-02T20:06:47.191279",
     "status": "completed"
    },
    "tags": []
   },
   "outputs": [],
   "source": [
    "training_data_x = X_train\n",
    "testing_data_x = X_test\n",
    "training_data_y = y_train.reshape(-1,1)\n",
    "testing_data_y = y_test.reshape(-1,1)"
   ]
  },
  {
   "cell_type": "code",
   "execution_count": 19,
   "id": "76951160",
   "metadata": {
    "execution": {
     "iopub.execute_input": "2021-09-02T20:06:47.306612Z",
     "iopub.status.busy": "2021-09-02T20:06:47.302235Z",
     "iopub.status.idle": "2021-09-02T20:06:47.309290Z",
     "shell.execute_reply": "2021-09-02T20:06:47.308833Z"
    },
    "papermill": {
     "duration": 0.048987,
     "end_time": "2021-09-02T20:06:47.309399",
     "exception": false,
     "start_time": "2021-09-02T20:06:47.260412",
     "status": "completed"
    },
    "tags": []
   },
   "outputs": [
    {
     "name": "stdout",
     "output_type": "stream",
     "text": [
      "xavier\n",
      "xavier\n",
      "xavier\n",
      "xavier\n",
      "xavier\n"
     ]
    }
   ],
   "source": [
    "layers = [Affine(\"first\", 784, 100), Relu(\"first\"), Affine(\"second\", 100, 100), Relu(\"second\"), Affine(\"third\", 100, 2), Affine(\"last\", 2, 1), Sigmoid(\"last\")]\n",
    "model_nn = Model(layers)\n",
    "model_lr = Model([Affine(\"logits\", 784, 1), Sigmoid(\"sigmoid\")])"
   ]
  },
  {
   "cell_type": "code",
   "execution_count": 20,
   "id": "6eede77a",
   "metadata": {
    "execution": {
     "iopub.execute_input": "2021-09-02T20:06:47.382970Z",
     "iopub.status.busy": "2021-09-02T20:06:47.382441Z",
     "iopub.status.idle": "2021-09-02T20:06:47.385620Z",
     "shell.execute_reply": "2021-09-02T20:06:47.386032Z"
    },
    "papermill": {
     "duration": 0.04934,
     "end_time": "2021-09-02T20:06:47.386167",
     "exception": false,
     "start_time": "2021-09-02T20:06:47.336827",
     "status": "completed"
    },
    "tags": []
   },
   "outputs": [],
   "source": [
    "nn_learner = Learner(loss, model_nn, opt, config.num_epochs)\n",
    "acc_nn = ClfCallback(nn_learner, config.bs, training_data_x , testing_data_x, training_data_y, testing_data_y)\n",
    "nn_learner.set_callbacks([acc_nn])"
   ]
  },
  {
   "cell_type": "code",
   "execution_count": 21,
   "id": "877b6cc7",
   "metadata": {
    "execution": {
     "iopub.execute_input": "2021-09-02T20:06:47.446715Z",
     "iopub.status.busy": "2021-09-02T20:06:47.446203Z",
     "iopub.status.idle": "2021-09-02T20:06:47.456307Z",
     "shell.execute_reply": "2021-09-02T20:06:47.456688Z"
    },
    "papermill": {
     "duration": 0.043301,
     "end_time": "2021-09-02T20:06:47.456817",
     "exception": false,
     "start_time": "2021-09-02T20:06:47.413516",
     "status": "completed"
    },
    "tags": []
   },
   "outputs": [],
   "source": [
    "lr_learner = Learner(loss, model_lr, opt, config.num_epochs)\n",
    "acc_lr = ClfCallback(lr_learner, config.bs, training_data_x , testing_data_x, training_data_y, testing_data_y)\n",
    "lr_learner.set_callbacks([acc_lr])"
   ]
  },
  {
   "cell_type": "code",
   "execution_count": 22,
   "id": "d9b133c3",
   "metadata": {
    "execution": {
     "iopub.execute_input": "2021-09-02T20:06:47.514282Z",
     "iopub.status.busy": "2021-09-02T20:06:47.513781Z",
     "iopub.status.idle": "2021-09-02T20:08:06.533027Z",
     "shell.execute_reply": "2021-09-02T20:08:06.533804Z"
    },
    "papermill": {
     "duration": 79.049877,
     "end_time": "2021-09-02T20:08:06.533957",
     "exception": false,
     "start_time": "2021-09-02T20:06:47.484080",
     "status": "completed"
    },
    "tags": []
   },
   "outputs": [
    {
     "name": "stdout",
     "output_type": "stream",
     "text": [
      "Epoch 0, Loss 0.2481\n",
      "Training Accuracy: 0.5251, Testing Accuracy: 0.5222\n",
      "\n"
     ]
    },
    {
     "name": "stdout",
     "output_type": "stream",
     "text": [
      "Epoch 10, Loss 0.1867\n",
      "Training Accuracy: 0.8771, Testing Accuracy: 0.8931\n",
      "\n"
     ]
    },
    {
     "name": "stdout",
     "output_type": "stream",
     "text": [
      "Epoch 20, Loss 0.0948\n",
      "Training Accuracy: 0.9151, Testing Accuracy: 0.9234\n",
      "\n"
     ]
    },
    {
     "name": "stdout",
     "output_type": "stream",
     "text": [
      "Epoch 30, Loss 0.0615\n",
      "Training Accuracy: 0.9368, Testing Accuracy: 0.9456\n",
      "\n"
     ]
    },
    {
     "name": "stdout",
     "output_type": "stream",
     "text": [
      "Epoch 40, Loss 0.0486\n",
      "Training Accuracy: 0.9464, Testing Accuracy: 0.9546\n",
      "\n"
     ]
    },
    {
     "name": "stdout",
     "output_type": "stream",
     "text": [
      "Epoch 50, Loss 0.0419\n",
      "Training Accuracy: 0.9523, Testing Accuracy: 0.9592\n",
      "\n"
     ]
    },
    {
     "name": "stdout",
     "output_type": "stream",
     "text": [
      "Epoch 60, Loss 0.0379\n",
      "Training Accuracy: 0.9571, Testing Accuracy: 0.9652\n",
      "\n"
     ]
    },
    {
     "name": "stdout",
     "output_type": "stream",
     "text": [
      "Epoch 70, Loss 0.0351\n",
      "Training Accuracy: 0.9598, Testing Accuracy: 0.9667\n",
      "\n"
     ]
    },
    {
     "name": "stdout",
     "output_type": "stream",
     "text": [
      "Epoch 80, Loss 0.033\n",
      "Training Accuracy: 0.9622, Testing Accuracy: 0.9682\n",
      "\n"
     ]
    },
    {
     "name": "stdout",
     "output_type": "stream",
     "text": [
      "Epoch 90, Loss 0.0314\n",
      "Training Accuracy: 0.9641, Testing Accuracy: 0.9693\n",
      "\n"
     ]
    },
    {
     "name": "stdout",
     "output_type": "stream",
     "text": [
      "Epoch 100, Loss 0.03\n",
      "Training Accuracy: 0.9654, Testing Accuracy: 0.9713\n",
      "\n"
     ]
    },
    {
     "name": "stdout",
     "output_type": "stream",
     "text": [
      "Epoch 110, Loss 0.0289\n",
      "Training Accuracy: 0.9661, Testing Accuracy: 0.9713\n",
      "\n"
     ]
    },
    {
     "name": "stdout",
     "output_type": "stream",
     "text": [
      "Epoch 120, Loss 0.0279\n",
      "Training Accuracy: 0.9673, Testing Accuracy: 0.9713\n",
      "\n"
     ]
    },
    {
     "name": "stdout",
     "output_type": "stream",
     "text": [
      "Epoch 130, Loss 0.027\n",
      "Training Accuracy: 0.9689, Testing Accuracy: 0.9718\n",
      "\n"
     ]
    },
    {
     "name": "stdout",
     "output_type": "stream",
     "text": [
      "Epoch 140, Loss 0.0262\n",
      "Training Accuracy: 0.9695, Testing Accuracy: 0.9718\n",
      "\n"
     ]
    },
    {
     "name": "stdout",
     "output_type": "stream",
     "text": [
      "Epoch 150, Loss 0.0256\n",
      "Training Accuracy: 0.9704, Testing Accuracy: 0.9708\n",
      "\n"
     ]
    },
    {
     "name": "stdout",
     "output_type": "stream",
     "text": [
      "Epoch 160, Loss 0.0249\n",
      "Training Accuracy: 0.9706, Testing Accuracy: 0.9718\n",
      "\n"
     ]
    },
    {
     "name": "stdout",
     "output_type": "stream",
     "text": [
      "Epoch 170, Loss 0.0243\n",
      "Training Accuracy: 0.9711, Testing Accuracy: 0.9713\n",
      "\n"
     ]
    },
    {
     "name": "stdout",
     "output_type": "stream",
     "text": [
      "Epoch 180, Loss 0.0238\n",
      "Training Accuracy: 0.9714, Testing Accuracy: 0.9713\n",
      "\n"
     ]
    },
    {
     "name": "stdout",
     "output_type": "stream",
     "text": [
      "Epoch 190, Loss 0.0233\n",
      "Training Accuracy: 0.9725, Testing Accuracy: 0.9713\n",
      "\n"
     ]
    },
    {
     "name": "stdout",
     "output_type": "stream",
     "text": [
      "Epoch 200, Loss 0.0228\n",
      "Training Accuracy: 0.9730, Testing Accuracy: 0.9708\n",
      "\n"
     ]
    },
    {
     "name": "stdout",
     "output_type": "stream",
     "text": [
      "Epoch 210, Loss 0.0224\n",
      "Training Accuracy: 0.9738, Testing Accuracy: 0.9713\n",
      "\n"
     ]
    },
    {
     "name": "stdout",
     "output_type": "stream",
     "text": [
      "Epoch 220, Loss 0.0219\n",
      "Training Accuracy: 0.9746, Testing Accuracy: 0.9713\n",
      "\n"
     ]
    },
    {
     "name": "stdout",
     "output_type": "stream",
     "text": [
      "Epoch 230, Loss 0.0215\n",
      "Training Accuracy: 0.9753, Testing Accuracy: 0.9718\n",
      "\n"
     ]
    },
    {
     "name": "stdout",
     "output_type": "stream",
     "text": [
      "Epoch 240, Loss 0.0211\n",
      "Training Accuracy: 0.9755, Testing Accuracy: 0.9713\n",
      "\n"
     ]
    },
    {
     "data": {
      "text/plain": [
       "0.006273845956756346"
      ]
     },
     "execution_count": 22,
     "metadata": {},
     "output_type": "execute_result"
    }
   ],
   "source": [
    "nn_learner.train_loop(dl)"
   ]
  },
  {
   "cell_type": "code",
   "execution_count": 23,
   "id": "e0163366",
   "metadata": {
    "execution": {
     "iopub.execute_input": "2021-09-02T20:08:06.616183Z",
     "iopub.status.busy": "2021-09-02T20:08:06.615645Z",
     "iopub.status.idle": "2021-09-02T20:08:21.047668Z",
     "shell.execute_reply": "2021-09-02T20:08:21.048398Z"
    },
    "papermill": {
     "duration": 14.479943,
     "end_time": "2021-09-02T20:08:21.048547",
     "exception": false,
     "start_time": "2021-09-02T20:08:06.568604",
     "status": "completed"
    },
    "tags": []
   },
   "outputs": [
    {
     "name": "stdout",
     "output_type": "stream",
     "text": [
      "Epoch 0, Loss 0.2498\n",
      "Training Accuracy: 0.6415, Testing Accuracy: 0.6310\n",
      "\n"
     ]
    },
    {
     "name": "stdout",
     "output_type": "stream",
     "text": [
      "Epoch 10, Loss 0.1037\n",
      "Training Accuracy: 0.9106, Testing Accuracy: 0.9269\n",
      "\n"
     ]
    },
    {
     "name": "stdout",
     "output_type": "stream",
     "text": [
      "Epoch 20, Loss 0.0789\n",
      "Training Accuracy: 0.9296, Testing Accuracy: 0.9466\n",
      "\n"
     ]
    },
    {
     "name": "stdout",
     "output_type": "stream",
     "text": [
      "Epoch 30, Loss 0.0679\n",
      "Training Accuracy: 0.9377, Testing Accuracy: 0.9511\n",
      "\n"
     ]
    },
    {
     "name": "stdout",
     "output_type": "stream",
     "text": [
      "Epoch 40, Loss 0.0613\n",
      "Training Accuracy: 0.9422, Testing Accuracy: 0.9526\n",
      "\n"
     ]
    },
    {
     "name": "stdout",
     "output_type": "stream",
     "text": [
      "Epoch 50, Loss 0.0569\n",
      "Training Accuracy: 0.9454, Testing Accuracy: 0.9541\n",
      "\n"
     ]
    },
    {
     "name": "stdout",
     "output_type": "stream",
     "text": [
      "Epoch 60, Loss 0.0536\n",
      "Training Accuracy: 0.9475, Testing Accuracy: 0.9561\n",
      "\n"
     ]
    },
    {
     "name": "stdout",
     "output_type": "stream",
     "text": [
      "Epoch 70, Loss 0.0511\n",
      "Training Accuracy: 0.9499, Testing Accuracy: 0.9567\n",
      "\n"
     ]
    },
    {
     "name": "stdout",
     "output_type": "stream",
     "text": [
      "Epoch 80, Loss 0.0491\n",
      "Training Accuracy: 0.9510, Testing Accuracy: 0.9577\n",
      "\n"
     ]
    },
    {
     "name": "stdout",
     "output_type": "stream",
     "text": [
      "Epoch 90, Loss 0.0474\n",
      "Training Accuracy: 0.9527, Testing Accuracy: 0.9597\n",
      "\n"
     ]
    },
    {
     "name": "stdout",
     "output_type": "stream",
     "text": [
      "Epoch 100, Loss 0.046\n",
      "Training Accuracy: 0.9539, Testing Accuracy: 0.9607\n",
      "\n"
     ]
    },
    {
     "name": "stdout",
     "output_type": "stream",
     "text": [
      "Epoch 110, Loss 0.0448\n",
      "Training Accuracy: 0.9548, Testing Accuracy: 0.9612\n",
      "\n"
     ]
    },
    {
     "name": "stdout",
     "output_type": "stream",
     "text": [
      "Epoch 120, Loss 0.0438\n",
      "Training Accuracy: 0.9557, Testing Accuracy: 0.9637\n",
      "\n"
     ]
    },
    {
     "name": "stdout",
     "output_type": "stream",
     "text": [
      "Epoch 130, Loss 0.0429\n",
      "Training Accuracy: 0.9564, Testing Accuracy: 0.9642\n",
      "\n"
     ]
    },
    {
     "name": "stdout",
     "output_type": "stream",
     "text": [
      "Epoch 140, Loss 0.042\n",
      "Training Accuracy: 0.9569, Testing Accuracy: 0.9652\n",
      "\n"
     ]
    },
    {
     "name": "stdout",
     "output_type": "stream",
     "text": [
      "Epoch 150, Loss 0.0413\n",
      "Training Accuracy: 0.9574, Testing Accuracy: 0.9652\n",
      "\n"
     ]
    },
    {
     "name": "stdout",
     "output_type": "stream",
     "text": [
      "Epoch 160, Loss 0.0406\n",
      "Training Accuracy: 0.9582, Testing Accuracy: 0.9657\n",
      "\n"
     ]
    },
    {
     "name": "stdout",
     "output_type": "stream",
     "text": [
      "Epoch 170, Loss 0.04\n",
      "Training Accuracy: 0.9588, Testing Accuracy: 0.9662\n",
      "\n"
     ]
    },
    {
     "name": "stdout",
     "output_type": "stream",
     "text": [
      "Epoch 180, Loss 0.0395\n",
      "Training Accuracy: 0.9589, Testing Accuracy: 0.9667\n",
      "\n"
     ]
    },
    {
     "name": "stdout",
     "output_type": "stream",
     "text": [
      "Epoch 190, Loss 0.039\n",
      "Training Accuracy: 0.9594, Testing Accuracy: 0.9667\n",
      "\n"
     ]
    },
    {
     "name": "stdout",
     "output_type": "stream",
     "text": [
      "Epoch 200, Loss 0.0385\n",
      "Training Accuracy: 0.9597, Testing Accuracy: 0.9667\n",
      "\n"
     ]
    },
    {
     "name": "stdout",
     "output_type": "stream",
     "text": [
      "Epoch 210, Loss 0.0381\n",
      "Training Accuracy: 0.9600, Testing Accuracy: 0.9667\n",
      "\n"
     ]
    },
    {
     "name": "stdout",
     "output_type": "stream",
     "text": [
      "Epoch 220, Loss 0.0377\n",
      "Training Accuracy: 0.9605, Testing Accuracy: 0.9677\n",
      "\n"
     ]
    },
    {
     "name": "stdout",
     "output_type": "stream",
     "text": [
      "Epoch 230, Loss 0.0373\n",
      "Training Accuracy: 0.9609, Testing Accuracy: 0.9682\n",
      "\n"
     ]
    },
    {
     "name": "stdout",
     "output_type": "stream",
     "text": [
      "Epoch 240, Loss 0.0369\n",
      "Training Accuracy: 0.9611, Testing Accuracy: 0.9682\n",
      "\n"
     ]
    },
    {
     "data": {
      "text/plain": [
       "0.057278633645934204"
      ]
     },
     "execution_count": 23,
     "metadata": {},
     "output_type": "execute_result"
    }
   ],
   "source": [
    "lr_learner.train_loop(dl)"
   ]
  },
  {
   "cell_type": "code",
   "execution_count": 24,
   "id": "ca410940",
   "metadata": {
    "execution": {
     "iopub.execute_input": "2021-09-02T20:08:21.139367Z",
     "iopub.status.busy": "2021-09-02T20:08:21.138836Z",
     "iopub.status.idle": "2021-09-02T20:08:21.360488Z",
     "shell.execute_reply": "2021-09-02T20:08:21.360060Z"
    },
    "papermill": {
     "duration": 0.270657,
     "end_time": "2021-09-02T20:08:21.360612",
     "exception": false,
     "start_time": "2021-09-02T20:08:21.089955",
     "status": "completed"
    },
    "tags": []
   },
   "outputs": [
    {
     "data": {
      "text/plain": [
       "<matplotlib.legend.Legend at 0x7fda7d007e48>"
      ]
     },
     "execution_count": 24,
     "metadata": {},
     "output_type": "execute_result"
    },
    {
     "data": {
      "image/png": "[encoded data removed]",
      "text/plain": [
       "<Figure size 1080x720 with 1 Axes>"
      ]
     },
     "metadata": {
      "needs_background": "light"
     },
     "output_type": "display_data"
    }
   ],
   "source": [
    "#comparing the results of NN and LR\n",
    "plt.figure(figsize=(15,10))\n",
    "\n",
    "# Neural Network plots\n",
    "plt.plot(acc_nn.accuracies, 'r-', label = \"Training Accuracies - NN\")\n",
    "plt.plot(acc_nn.test_accuracies, 'g-', label = \"Testing Accuracies - NN\")\n",
    "\n",
    "# Logistic Regression plots\n",
    "plt.plot(acc_lr.accuracies, 'k-', label = \"Training Accuracies - LR\")\n",
    "plt.plot(acc_lr.test_accuracies, 'b-', label = \"Testing Accuracies - LR\")\n",
    "plt.legend()"
   ]
  },
  {
   "cell_type": "markdown",
   "id": "80dfb35c",
   "metadata": {
    "papermill": {
     "duration": 0.042243,
     "end_time": "2021-09-02T20:08:21.445615",
     "exception": false,
     "start_time": "2021-09-02T20:08:21.403372",
     "status": "completed"
    },
    "tags": []
   },
   "source": [
    "#### Plotting the outputs of this layer of the NN.\n"
   ]
  },
  {
   "cell_type": "code",
   "execution_count": 25,
   "id": "45eb2ff5",
   "metadata": {
    "execution": {
     "iopub.execute_input": "2021-09-02T20:08:21.546190Z",
     "iopub.status.busy": "2021-09-02T20:08:21.540862Z",
     "iopub.status.idle": "2021-09-02T20:08:21.557827Z",
     "shell.execute_reply": "2021-09-02T20:08:21.558225Z"
    },
    "papermill": {
     "duration": 0.070481,
     "end_time": "2021-09-02T20:08:21.558374",
     "exception": false,
     "start_time": "2021-09-02T20:08:21.487893",
     "status": "completed"
    },
    "tags": []
   },
   "outputs": [],
   "source": [
    "new_model = Model(layers[:-2])\n",
    "testing_plot = new_model(testing_data_x)"
   ]
  },
  {
   "cell_type": "code",
   "execution_count": 26,
   "id": "4c0a5485",
   "metadata": {
    "execution": {
     "iopub.execute_input": "2021-09-02T20:08:21.658191Z",
     "iopub.status.busy": "2021-09-02T20:08:21.657450Z",
     "iopub.status.idle": "2021-09-02T20:08:21.846272Z",
     "shell.execute_reply": "2021-09-02T20:08:21.845839Z"
    },
    "papermill": {
     "duration": 0.236738,
     "end_time": "2021-09-02T20:08:21.846396",
     "exception": false,
     "start_time": "2021-09-02T20:08:21.609658",
     "status": "completed"
    },
    "tags": []
   },
   "outputs": [
    {
     "data": {
      "text/plain": [
       "Text(0.5, 1.0, 'Outputs')"
      ]
     },
     "execution_count": 26,
     "metadata": {},
     "output_type": "execute_result"
    },
    {
     "data": {
      "image/png": "[encoded data removed]",
      "text/plain": [
       "<Figure size 576x504 with 1 Axes>"
      ]
     },
     "metadata": {
      "needs_background": "light"
     },
     "output_type": "display_data"
    }
   ],
   "source": [
    "# Plotting the scatter plot of points and color coding by class\n",
    "plt.figure(figsize=(8,7))\n",
    "plt.scatter(testing_plot[:,0], testing_plot[:,1], alpha = 0.1, c = y_test.ravel());\n",
    "plt.title('Outputs')"
   ]
  },
  {
   "cell_type": "markdown",
   "id": "a74fcf8f",
   "metadata": {
    "papermill": {
     "duration": 0.043976,
     "end_time": "2021-09-02T20:08:21.934466",
     "exception": false,
     "start_time": "2021-09-02T20:08:21.890490",
     "status": "completed"
    },
    "tags": []
   },
   "source": [
    "Probability contours"
   ]
  },
  {
   "cell_type": "code",
   "execution_count": 27,
   "id": "d0afc8e3",
   "metadata": {
    "execution": {
     "iopub.execute_input": "2021-09-02T20:08:22.041552Z",
     "iopub.status.busy": "2021-09-02T20:08:22.040983Z",
     "iopub.status.idle": "2021-09-02T20:08:22.044546Z",
     "shell.execute_reply": "2021-09-02T20:08:22.044116Z"
    },
    "papermill": {
     "duration": 0.066132,
     "end_time": "2021-09-02T20:08:22.044658",
     "exception": false,
     "start_time": "2021-09-02T20:08:21.978526",
     "status": "completed"
    },
    "tags": []
   },
   "outputs": [],
   "source": [
    "model_prob = Model(layers[-2:]) "
   ]
  },
  {
   "cell_type": "code",
   "execution_count": 28,
   "id": "9b96e238",
   "metadata": {
    "execution": {
     "iopub.execute_input": "2021-09-02T20:08:22.141393Z",
     "iopub.status.busy": "2021-09-02T20:08:22.140869Z",
     "iopub.status.idle": "2021-09-02T20:08:22.153286Z",
     "shell.execute_reply": "2021-09-02T20:08:22.152880Z"
    },
    "papermill": {
     "duration": 0.064686,
     "end_time": "2021-09-02T20:08:22.153403",
     "exception": false,
     "start_time": "2021-09-02T20:08:22.088717",
     "status": "completed"
    },
    "tags": []
   },
   "outputs": [],
   "source": [
    "#creating the x and y ranges according to the above generated plot.\n",
    "x_range = np.linspace(-4, 1, 100) \n",
    "y_range = np.linspace(-6, 6, 100) \n",
    "x_grid, y_grid = np.meshgrid(x_range, y_range) # x_grid and y_grig are of size 100 X 100\n",
    "\n",
    "# converting x_grid and y_grid to continuous arrays\n",
    "x_gridflat = np.ravel(x_grid)\n",
    "y_gridflat = np.ravel(y_grid)\n",
    "\n",
    "# The last layer of the current model takes two columns as input. Hence transpose of np.vstack() is required.\n",
    "X = np.vstack((x_gridflat, y_gridflat)).T\n",
    "\n",
    "prob_contour = model_prob(X).reshape(100,100) "
   ]
  },
  {
   "cell_type": "code",
   "execution_count": 29,
   "id": "da72499a",
   "metadata": {
    "execution": {
     "iopub.execute_input": "2021-09-02T20:08:22.284853Z",
     "iopub.status.busy": "2021-09-02T20:08:22.284339Z",
     "iopub.status.idle": "2021-09-02T20:08:22.523818Z",
     "shell.execute_reply": "2021-09-02T20:08:22.524285Z"
    },
    "papermill": {
     "duration": 0.320295,
     "end_time": "2021-09-02T20:08:22.524442",
     "exception": false,
     "start_time": "2021-09-02T20:08:22.204147",
     "status": "completed"
    },
    "tags": []
   },
   "outputs": [
    {
     "data": {
      "image/png": "[encoded data removed]",
      "text/plain": [
       "<Figure size 720x648 with 1 Axes>"
      ]
     },
     "metadata": {
      "needs_background": "light"
     },
     "output_type": "display_data"
    }
   ],
   "source": [
    "plt.figure(figsize=(10,9))\n",
    "plt.scatter(testing_plot[:,0], testing_plot[:,1], alpha = 0.1, c = y_test.ravel())\n",
    "contours = plt.contour(x_grid,y_grid,prob_contour)\n",
    "plt.title('Probability Contours')\n",
    "plt.clabel(contours, inline = True );"
   ]
  },
  {
   "cell_type": "code",
   "execution_count": null,
   "id": "e81b4ac7",
   "metadata": {
    "papermill": {
     "duration": 0.046319,
     "end_time": "2021-09-02T20:08:22.618014",
     "exception": false,
     "start_time": "2021-09-02T20:08:22.571695",
     "status": "completed"
    },
    "tags": []
   },
   "outputs": [],
   "source": []
  }
 ],
 "metadata": {
  "kernelspec": {
   "display_name": "Python 3",
   "language": "python",
   "name": "python3"
  },
  "language_info": {
   "codemirror_mode": {
    "name": "ipython",
    "version": 3
   },
   "file_extension": ".py",
   "mimetype": "text/x-python",
   "name": "python",
   "nbconvert_exporter": "python",
   "pygments_lexer": "ipython3",
   "version": "3.6.14"
  },
  "papermill": {
   "default_parameters": {},
   "duration": 101.678846,
   "end_time": "2021-09-02T20:08:23.072575",
   "environment_variables": {},
   "exception": null,
   "input_path": "2020-08-11-part2.ipynb",
   "output_path": "2020-08-11-part2.ipynb",
   "parameters": {},
   "start_time": "2021-09-02T20:06:41.393729",
   "version": "2.3.3"
  }
 },
 "nbformat": 4,
 "nbformat_minor": 5
}