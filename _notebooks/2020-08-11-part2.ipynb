{
 "cells": [
  {
   "cell_type": "markdown",
   "id": "98380cd3",
   "metadata": {
    "papermill": {
     "duration": 0.03554,
     "end_time": "2022-09-21T20:20:38.591121",
     "exception": false,
     "start_time": "2022-09-21T20:20:38.555581",
     "status": "completed"
    },
    "tags": []
   },
   "source": [
    "# Distinguish Your Own Digits (DYOD)"
   ]
  },
  {
   "cell_type": "markdown",
   "id": "ef31240d",
   "metadata": {
    "papermill": {
     "duration": 0.026084,
     "end_time": "2022-09-21T20:20:38.645031",
     "exception": false,
     "start_time": "2022-09-21T20:20:38.618947",
     "status": "completed"
    },
    "tags": []
   },
   "source": [
    "You are going to write a classifier that distinguishes between the number 3 and number 8."
   ]
  },
  {
   "cell_type": "code",
   "execution_count": 1,
   "id": "b15c8646",
   "metadata": {
    "execution": {
     "iopub.execute_input": "2022-09-21T20:20:38.711148Z",
     "iopub.status.busy": "2022-09-21T20:20:38.710434Z",
     "iopub.status.idle": "2022-09-21T20:20:38.724638Z",
     "shell.execute_reply": "2022-09-21T20:20:38.724096Z"
    },
    "papermill": {
     "duration": 0.054041,
     "end_time": "2022-09-21T20:20:38.724773",
     "exception": false,
     "start_time": "2022-09-21T20:20:38.670732",
     "status": "completed"
    },
    "tags": []
   },
   "outputs": [],
   "source": [
    "%load_ext autoreload\n",
    "%autoreload 2"
   ]
  },
  {
   "cell_type": "code",
   "execution_count": 2,
   "id": "22ef38dc",
   "metadata": {
    "execution": {
     "iopub.execute_input": "2022-09-21T20:20:38.783226Z",
     "iopub.status.busy": "2022-09-21T20:20:38.782547Z",
     "iopub.status.idle": "2022-09-21T20:20:39.388303Z",
     "shell.execute_reply": "2022-09-21T20:20:39.387714Z"
    },
    "papermill": {
     "duration": 0.637468,
     "end_time": "2022-09-21T20:20:39.388436",
     "exception": false,
     "start_time": "2022-09-21T20:20:38.750968",
     "status": "completed"
    },
    "tags": []
   },
   "outputs": [],
   "source": [
    "%matplotlib inline\n",
    "import numpy as np\n",
    "import matplotlib.pyplot as plt\n",
    "import pandas as pd"
   ]
  },
  {
   "cell_type": "markdown",
   "id": "ba036198",
   "metadata": {
    "papermill": {
     "duration": 0.027377,
     "end_time": "2022-09-21T20:20:39.442538",
     "exception": false,
     "start_time": "2022-09-21T20:20:39.415161",
     "status": "completed"
    },
    "tags": []
   },
   "source": [
    "From the command line run `pip install mnist`. This is a library that will help you bring down the mnist dataset. If you run this from a notebook, you need to put  `!pip install mnist` in a cell by itself."
   ]
  },
  {
   "cell_type": "code",
   "execution_count": 3,
   "id": "bb6ad8a1",
   "metadata": {
    "execution": {
     "iopub.execute_input": "2022-09-21T20:20:39.505279Z",
     "iopub.status.busy": "2022-09-21T20:20:39.504547Z",
     "iopub.status.idle": "2022-09-21T20:20:41.328888Z",
     "shell.execute_reply": "2022-09-21T20:20:41.327176Z"
    },
    "papermill": {
     "duration": 1.860299,
     "end_time": "2022-09-21T20:20:41.329132",
     "exception": false,
     "start_time": "2022-09-21T20:20:39.468833",
     "status": "completed"
    },
    "tags": []
   },
   "outputs": [
    {
     "name": "stdout",
     "output_type": "stream",
     "text": [
      "Collecting mnist\r\n"
     ]
    },
    {
     "name": "stdout",
     "output_type": "stream",
     "text": [
      "  Downloading mnist-0.2.2-py2.py3-none-any.whl (3.5 kB)\r\n",
      "Requirement already satisfied: numpy in /opt/hostedtoolcache/Python/3.6.15/x64/lib/python3.6/site-packages (from mnist) (1.19.5)\r\n"
     ]
    },
    {
     "name": "stdout",
     "output_type": "stream",
     "text": [
      "Installing collected packages: mnist\r\n",
      "Successfully installed mnist-0.2.2\r\n"
     ]
    }
   ],
   "source": [
    "!pip install mnist"
   ]
  },
  {
   "cell_type": "markdown",
   "id": "69df9c9a",
   "metadata": {
    "papermill": {
     "duration": 0.027553,
     "end_time": "2022-09-21T20:20:41.383733",
     "exception": false,
     "start_time": "2022-09-21T20:20:41.356180",
     "status": "completed"
    },
    "tags": []
   },
   "source": [
    "## Preparing the Data"
   ]
  },
  {
   "cell_type": "code",
   "execution_count": 4,
   "id": "7f69d806",
   "metadata": {
    "execution": {
     "iopub.execute_input": "2022-09-21T20:20:41.442883Z",
     "iopub.status.busy": "2022-09-21T20:20:41.442201Z",
     "iopub.status.idle": "2022-09-21T20:20:41.459369Z",
     "shell.execute_reply": "2022-09-21T20:20:41.458679Z"
    },
    "papermill": {
     "duration": 0.049129,
     "end_time": "2022-09-21T20:20:41.459500",
     "exception": false,
     "start_time": "2022-09-21T20:20:41.410371",
     "status": "completed"
    },
    "tags": []
   },
   "outputs": [],
   "source": [
    "import mnist"
   ]
  },
  {
   "cell_type": "code",
   "execution_count": 5,
   "id": "a411e44f",
   "metadata": {
    "execution": {
     "iopub.execute_input": "2022-09-21T20:20:41.517745Z",
     "iopub.status.busy": "2022-09-21T20:20:41.517038Z",
     "iopub.status.idle": "2022-09-21T20:20:42.223235Z",
     "shell.execute_reply": "2022-09-21T20:20:42.222646Z"
    },
    "papermill": {
     "duration": 0.737041,
     "end_time": "2022-09-21T20:20:42.223365",
     "exception": false,
     "start_time": "2022-09-21T20:20:41.486324",
     "status": "completed"
    },
    "tags": []
   },
   "outputs": [],
   "source": [
    "train_images = mnist.train_images()\n",
    "train_labels = mnist.train_labels()"
   ]
  },
  {
   "cell_type": "code",
   "execution_count": 6,
   "id": "dceab3a5",
   "metadata": {
    "execution": {
     "iopub.execute_input": "2022-09-21T20:20:42.281971Z",
     "iopub.status.busy": "2022-09-21T20:20:42.281286Z",
     "iopub.status.idle": "2022-09-21T20:20:42.297856Z",
     "shell.execute_reply": "2022-09-21T20:20:42.297189Z"
    },
    "papermill": {
     "duration": 0.047934,
     "end_time": "2022-09-21T20:20:42.297975",
     "exception": false,
     "start_time": "2022-09-21T20:20:42.250041",
     "status": "completed"
    },
    "tags": []
   },
   "outputs": [
    {
     "data": {
      "text/plain": [
       "((60000, 28, 28), (60000,))"
      ]
     },
     "execution_count": 6,
     "metadata": {},
     "output_type": "execute_result"
    }
   ],
   "source": [
    "train_images.shape, train_labels.shape"
   ]
  },
  {
   "cell_type": "code",
   "execution_count": 7,
   "id": "f50dc2bb",
   "metadata": {
    "execution": {
     "iopub.execute_input": "2022-09-21T20:20:42.361887Z",
     "iopub.status.busy": "2022-09-21T20:20:42.361205Z",
     "iopub.status.idle": "2022-09-21T20:20:42.646928Z",
     "shell.execute_reply": "2022-09-21T20:20:42.645072Z"
    },
    "papermill": {
     "duration": 0.322182,
     "end_time": "2022-09-21T20:20:42.647116",
     "exception": false,
     "start_time": "2022-09-21T20:20:42.324934",
     "status": "completed"
    },
    "tags": []
   },
   "outputs": [],
   "source": [
    "test_images = mnist.test_images()\n",
    "test_labels = mnist.test_labels()"
   ]
  },
  {
   "cell_type": "code",
   "execution_count": 8,
   "id": "fc38cf1b",
   "metadata": {
    "execution": {
     "iopub.execute_input": "2022-09-21T20:20:42.706307Z",
     "iopub.status.busy": "2022-09-21T20:20:42.705643Z",
     "iopub.status.idle": "2022-09-21T20:20:42.720753Z",
     "shell.execute_reply": "2022-09-21T20:20:42.720265Z"
    },
    "papermill": {
     "duration": 0.046687,
     "end_time": "2022-09-21T20:20:42.720873",
     "exception": false,
     "start_time": "2022-09-21T20:20:42.674186",
     "status": "completed"
    },
    "tags": []
   },
   "outputs": [
    {
     "data": {
      "text/plain": [
       "((10000, 28, 28), (10000,))"
      ]
     },
     "execution_count": 8,
     "metadata": {},
     "output_type": "execute_result"
    }
   ],
   "source": [
    "test_images.shape, test_labels.shape"
   ]
  },
  {
   "cell_type": "code",
   "execution_count": 9,
   "id": "f9ed8fe0",
   "metadata": {
    "execution": {
     "iopub.execute_input": "2022-09-21T20:20:42.780589Z",
     "iopub.status.busy": "2022-09-21T20:20:42.779949Z",
     "iopub.status.idle": "2022-09-21T20:20:42.933691Z",
     "shell.execute_reply": "2022-09-21T20:20:42.933068Z"
    },
    "papermill": {
     "duration": 0.185962,
     "end_time": "2022-09-21T20:20:42.933838",
     "exception": false,
     "start_time": "2022-09-21T20:20:42.747876",
     "status": "completed"
    },
    "tags": []
   },
   "outputs": [
    {
     "name": "stdout",
     "output_type": "stream",
     "text": [
      "2\n"
     ]
    },
    {
     "data": {
      "text/plain": [
       "<matplotlib.image.AxesImage at 0x7f9dd7365c88>"
      ]
     },
     "execution_count": 9,
     "metadata": {},
     "output_type": "execute_result"
    },
    {
     "data": {
      "image/png": "[encoded data removed]",
      "text/plain": [
       "<Figure size 432x288 with 1 Axes>"
      ]
     },
     "metadata": {
      "needs_background": "light"
     },
     "output_type": "display_data"
    }
   ],
   "source": [
    "image_index = 7776 # You may select anything up to 60,000\n",
    "print(train_labels[image_index]) \n",
    "plt.imshow(train_images[image_index], cmap='Greys')"
   ]
  },
  {
   "cell_type": "markdown",
   "id": "a8d2388d",
   "metadata": {
    "papermill": {
     "duration": 0.027962,
     "end_time": "2022-09-21T20:20:42.990684",
     "exception": false,
     "start_time": "2022-09-21T20:20:42.962722",
     "status": "completed"
    },
    "tags": []
   },
   "source": [
    "## Filter data to get 3 and 8 out"
   ]
  },
  {
   "cell_type": "code",
   "execution_count": 10,
   "id": "776f7fc7",
   "metadata": {
    "execution": {
     "iopub.execute_input": "2022-09-21T20:20:43.055009Z",
     "iopub.status.busy": "2022-09-21T20:20:43.054312Z",
     "iopub.status.idle": "2022-09-21T20:20:43.074008Z",
     "shell.execute_reply": "2022-09-21T20:20:43.074575Z"
    },
    "papermill": {
     "duration": 0.055928,
     "end_time": "2022-09-21T20:20:43.074727",
     "exception": false,
     "start_time": "2022-09-21T20:20:43.018799",
     "status": "completed"
    },
    "tags": []
   },
   "outputs": [],
   "source": [
    "train_filter = np.where((train_labels == 3 ) | (train_labels == 8))\n",
    "test_filter = np.where((test_labels == 3) | (test_labels == 8))\n",
    "X_train, y_train = train_images[train_filter], train_labels[train_filter]\n",
    "X_test, y_test = test_images[test_filter], test_labels[test_filter]"
   ]
  },
  {
   "cell_type": "markdown",
   "id": "948f0b7e",
   "metadata": {
    "papermill": {
     "duration": 0.029218,
     "end_time": "2022-09-21T20:20:43.133404",
     "exception": false,
     "start_time": "2022-09-21T20:20:43.104186",
     "status": "completed"
    },
    "tags": []
   },
   "source": [
    "We normalize the pizel values in the 0 to 1 range"
   ]
  },
  {
   "cell_type": "code",
   "execution_count": 11,
   "id": "ee4c2166",
   "metadata": {
    "execution": {
     "iopub.execute_input": "2022-09-21T20:20:43.195192Z",
     "iopub.status.busy": "2022-09-21T20:20:43.194498Z",
     "iopub.status.idle": "2022-09-21T20:20:43.249038Z",
     "shell.execute_reply": "2022-09-21T20:20:43.248232Z"
    },
    "papermill": {
     "duration": 0.08735,
     "end_time": "2022-09-21T20:20:43.249213",
     "exception": false,
     "start_time": "2022-09-21T20:20:43.161863",
     "status": "completed"
    },
    "tags": []
   },
   "outputs": [],
   "source": [
    "X_train = X_train/255.\n",
    "X_test = X_test/255."
   ]
  },
  {
   "cell_type": "markdown",
   "id": "ddcf4fab",
   "metadata": {
    "papermill": {
     "duration": 0.028215,
     "end_time": "2022-09-21T20:20:43.307995",
     "exception": false,
     "start_time": "2022-09-21T20:20:43.279780",
     "status": "completed"
    },
    "tags": []
   },
   "source": [
    "And setup the labels as 1 (when the digit is 3) and 0 (when the digit is 8)"
   ]
  },
  {
   "cell_type": "code",
   "execution_count": 12,
   "id": "7dc908f2",
   "metadata": {
    "execution": {
     "iopub.execute_input": "2022-09-21T20:20:43.369585Z",
     "iopub.status.busy": "2022-09-21T20:20:43.368870Z",
     "iopub.status.idle": "2022-09-21T20:20:43.382580Z",
     "shell.execute_reply": "2022-09-21T20:20:43.382018Z"
    },
    "papermill": {
     "duration": 0.04673,
     "end_time": "2022-09-21T20:20:43.382709",
     "exception": false,
     "start_time": "2022-09-21T20:20:43.335979",
     "status": "completed"
    },
    "tags": []
   },
   "outputs": [],
   "source": [
    "y_train = 1*(y_train==3)\n",
    "y_test = 1*(y_test==3)"
   ]
  },
  {
   "cell_type": "code",
   "execution_count": 13,
   "id": "01e4e969",
   "metadata": {
    "execution": {
     "iopub.execute_input": "2022-09-21T20:20:43.449630Z",
     "iopub.status.busy": "2022-09-21T20:20:43.448942Z",
     "iopub.status.idle": "2022-09-21T20:20:43.463262Z",
     "shell.execute_reply": "2022-09-21T20:20:43.462737Z"
    },
    "papermill": {
     "duration": 0.0524,
     "end_time": "2022-09-21T20:20:43.463384",
     "exception": false,
     "start_time": "2022-09-21T20:20:43.410984",
     "status": "completed"
    },
    "tags": []
   },
   "outputs": [
    {
     "data": {
      "text/plain": [
       "((11982, 28, 28), (1984, 28, 28))"
      ]
     },
     "execution_count": 13,
     "metadata": {},
     "output_type": "execute_result"
    }
   ],
   "source": [
    "X_train.shape, X_test.shape"
   ]
  },
  {
   "cell_type": "markdown",
   "id": "5ccf3f85",
   "metadata": {
    "papermill": {
     "duration": 0.028346,
     "end_time": "2022-09-21T20:20:43.520140",
     "exception": false,
     "start_time": "2022-09-21T20:20:43.491794",
     "status": "completed"
    },
    "tags": []
   },
   "source": [
    "We reshape the data to flatten the image pixels into a set of features or co-variates:"
   ]
  },
  {
   "cell_type": "code",
   "execution_count": 14,
   "id": "5286a4a3",
   "metadata": {
    "execution": {
     "iopub.execute_input": "2022-09-21T20:20:43.582757Z",
     "iopub.status.busy": "2022-09-21T20:20:43.582118Z",
     "iopub.status.idle": "2022-09-21T20:20:43.597102Z",
     "shell.execute_reply": "2022-09-21T20:20:43.597662Z"
    },
    "papermill": {
     "duration": 0.048891,
     "end_time": "2022-09-21T20:20:43.597811",
     "exception": false,
     "start_time": "2022-09-21T20:20:43.548920",
     "status": "completed"
    },
    "tags": []
   },
   "outputs": [
    {
     "data": {
      "text/plain": [
       "((11982, 784), (1984, 784))"
      ]
     },
     "execution_count": 14,
     "metadata": {},
     "output_type": "execute_result"
    }
   ],
   "source": [
    "X_train = X_train.reshape(X_train.shape[0], -1)\n",
    "X_test = X_test.reshape(X_test.shape[0], -1)\n",
    "X_train.shape, X_test.shape"
   ]
  },
  {
   "cell_type": "code",
   "execution_count": 15,
   "id": "73c5f88a",
   "metadata": {
    "execution": {
     "iopub.execute_input": "2022-09-21T20:20:43.661492Z",
     "iopub.status.busy": "2022-09-21T20:20:43.660811Z",
     "iopub.status.idle": "2022-09-21T20:20:43.683134Z",
     "shell.execute_reply": "2022-09-21T20:20:43.683664Z"
    },
    "papermill": {
     "duration": 0.057029,
     "end_time": "2022-09-21T20:20:43.683811",
     "exception": false,
     "start_time": "2022-09-21T20:20:43.626782",
     "status": "completed"
    },
    "tags": []
   },
   "outputs": [],
   "source": [
    "#Impoting functions from 'Kudzu'\n",
    "from kudzu.model import Model\n",
    "from kudzu.train import Learner\n",
    "from kudzu.optim import GD\n",
    "from kudzu.data import Data, Sampler,Dataloader\n",
    "\n",
    "from kudzu.callbacks import AccCallback\n",
    "from kudzu.callbacks import ClfCallback\n",
    "\n",
    "from kudzu.loss import MSE\n",
    "\n",
    "from kudzu.layer import Sigmoid,Relu\n",
    "from kudzu.layer import Affine"
   ]
  },
  {
   "cell_type": "markdown",
   "id": "bc01172a",
   "metadata": {
    "papermill": {
     "duration": 0.028393,
     "end_time": "2022-09-21T20:20:43.741512",
     "exception": false,
     "start_time": "2022-09-21T20:20:43.713119",
     "status": "completed"
    },
    "tags": []
   },
   "source": [
    "### Let us create a `Config` class, to store important parameters. \n",
    "This class essentially plays the role of a dictionary."
   ]
  },
  {
   "cell_type": "code",
   "execution_count": 16,
   "id": "978281aa",
   "metadata": {
    "execution": {
     "iopub.execute_input": "2022-09-21T20:20:43.803984Z",
     "iopub.status.busy": "2022-09-21T20:20:43.803297Z",
     "iopub.status.idle": "2022-09-21T20:20:43.818092Z",
     "shell.execute_reply": "2022-09-21T20:20:43.817569Z"
    },
    "papermill": {
     "duration": 0.048192,
     "end_time": "2022-09-21T20:20:43.818210",
     "exception": false,
     "start_time": "2022-09-21T20:20:43.770018",
     "status": "completed"
    },
    "tags": []
   },
   "outputs": [],
   "source": [
    "class Config:\n",
    "    pass\n",
    "config = Config()\n",
    "config.lr = 0.001\n",
    "config.num_epochs = 250\n",
    "config.bs = 50"
   ]
  },
  {
   "cell_type": "markdown",
   "id": "1385fa59",
   "metadata": {
    "papermill": {
     "duration": 0.028796,
     "end_time": "2022-09-21T20:20:43.875320",
     "exception": false,
     "start_time": "2022-09-21T20:20:43.846524",
     "status": "completed"
    },
    "tags": []
   },
   "source": [
    "### Running Models with the Training data\n",
    "Details about the network layers:\n",
    "- A first affine layer has 784 inputs and does 100 affine transforms. These are followed by a Relu\n",
    "- A second affine layer has 100 inputs from the 100 activations of the past layer, and does 100 affine transforms. These are followed by a Relu\n",
    "- A third affine layer has 100 activations and does 2 affine transformations to create an embedding for visualization. There is no non-linearity here.\n",
    "- A final \"logistic regression\" which has an affine transform from 2 inputs to 1 output, which is squeezed through a sigmoid.\n"
   ]
  },
  {
   "cell_type": "code",
   "execution_count": 17,
   "id": "2b9c66db",
   "metadata": {
    "execution": {
     "iopub.execute_input": "2022-09-21T20:20:43.939412Z",
     "iopub.status.busy": "2022-09-21T20:20:43.938730Z",
     "iopub.status.idle": "2022-09-21T20:20:43.955380Z",
     "shell.execute_reply": "2022-09-21T20:20:43.954312Z"
    },
    "papermill": {
     "duration": 0.050597,
     "end_time": "2022-09-21T20:20:43.955580",
     "exception": false,
     "start_time": "2022-09-21T20:20:43.904983",
     "status": "completed"
    },
    "tags": []
   },
   "outputs": [],
   "source": [
    "data = Data(X_train, y_train.reshape(-1,1))\n",
    "sampler = Sampler(data, config.bs, shuffle=True)\n",
    "\n",
    "dl = Dataloader(data, sampler)\n",
    "\n",
    "opt = GD(config.lr)\n",
    "loss = MSE()"
   ]
  },
  {
   "cell_type": "code",
   "execution_count": 18,
   "id": "b275e4c2",
   "metadata": {
    "execution": {
     "iopub.execute_input": "2022-09-21T20:20:44.020062Z",
     "iopub.status.busy": "2022-09-21T20:20:44.019422Z",
     "iopub.status.idle": "2022-09-21T20:20:44.034384Z",
     "shell.execute_reply": "2022-09-21T20:20:44.034908Z"
    },
    "papermill": {
     "duration": 0.049054,
     "end_time": "2022-09-21T20:20:44.035058",
     "exception": false,
     "start_time": "2022-09-21T20:20:43.986004",
     "status": "completed"
    },
    "tags": []
   },
   "outputs": [],
   "source": [
    "training_data_x = X_train\n",
    "testing_data_x = X_test\n",
    "training_data_y = y_train.reshape(-1,1)\n",
    "testing_data_y = y_test.reshape(-1,1)"
   ]
  },
  {
   "cell_type": "code",
   "execution_count": 19,
   "id": "76951160",
   "metadata": {
    "execution": {
     "iopub.execute_input": "2022-09-21T20:20:44.098679Z",
     "iopub.status.busy": "2022-09-21T20:20:44.097972Z",
     "iopub.status.idle": "2022-09-21T20:20:44.115686Z",
     "shell.execute_reply": "2022-09-21T20:20:44.116247Z"
    },
    "papermill": {
     "duration": 0.052423,
     "end_time": "2022-09-21T20:20:44.116393",
     "exception": false,
     "start_time": "2022-09-21T20:20:44.063970",
     "status": "completed"
    },
    "tags": []
   },
   "outputs": [
    {
     "name": "stdout",
     "output_type": "stream",
     "text": [
      "xavier\n",
      "xavier\n",
      "xavier\n",
      "xavier\n",
      "xavier\n"
     ]
    }
   ],
   "source": [
    "layers = [Affine(\"first\", 784, 100), Relu(\"first\"), Affine(\"second\", 100, 100), Relu(\"second\"), Affine(\"third\", 100, 2), Affine(\"last\", 2, 1), Sigmoid(\"last\")]\n",
    "model_nn = Model(layers)\n",
    "model_lr = Model([Affine(\"logits\", 784, 1), Sigmoid(\"sigmoid\")])"
   ]
  },
  {
   "cell_type": "code",
   "execution_count": 20,
   "id": "6eede77a",
   "metadata": {
    "execution": {
     "iopub.execute_input": "2022-09-21T20:20:44.179970Z",
     "iopub.status.busy": "2022-09-21T20:20:44.179275Z",
     "iopub.status.idle": "2022-09-21T20:20:44.193432Z",
     "shell.execute_reply": "2022-09-21T20:20:44.194050Z"
    },
    "papermill": {
     "duration": 0.049027,
     "end_time": "2022-09-21T20:20:44.194187",
     "exception": false,
     "start_time": "2022-09-21T20:20:44.145160",
     "status": "completed"
    },
    "tags": []
   },
   "outputs": [],
   "source": [
    "nn_learner = Learner(loss, model_nn, opt, config.num_epochs)\n",
    "acc_nn = ClfCallback(nn_learner, config.bs, training_data_x , testing_data_x, training_data_y, testing_data_y)\n",
    "nn_learner.set_callbacks([acc_nn])"
   ]
  },
  {
   "cell_type": "code",
   "execution_count": 21,
   "id": "877b6cc7",
   "metadata": {
    "execution": {
     "iopub.execute_input": "2022-09-21T20:20:44.257874Z",
     "iopub.status.busy": "2022-09-21T20:20:44.257155Z",
     "iopub.status.idle": "2022-09-21T20:20:44.271848Z",
     "shell.execute_reply": "2022-09-21T20:20:44.271225Z"
    },
    "papermill": {
     "duration": 0.048342,
     "end_time": "2022-09-21T20:20:44.271965",
     "exception": false,
     "start_time": "2022-09-21T20:20:44.223623",
     "status": "completed"
    },
    "tags": []
   },
   "outputs": [],
   "source": [
    "lr_learner = Learner(loss, model_lr, opt, config.num_epochs)\n",
    "acc_lr = ClfCallback(lr_learner, config.bs, training_data_x , testing_data_x, training_data_y, testing_data_y)\n",
    "lr_learner.set_callbacks([acc_lr])"
   ]
  },
  {
   "cell_type": "code",
   "execution_count": 22,
   "id": "d9b133c3",
   "metadata": {
    "execution": {
     "iopub.execute_input": "2022-09-21T20:20:44.334221Z",
     "iopub.status.busy": "2022-09-21T20:20:44.333589Z",
     "iopub.status.idle": "2022-09-21T20:22:10.212928Z",
     "shell.execute_reply": "2022-09-21T20:22:10.213535Z"
    },
    "papermill": {
     "duration": 85.912669,
     "end_time": "2022-09-21T20:22:10.213705",
     "exception": false,
     "start_time": "2022-09-21T20:20:44.301036",
     "status": "completed"
    },
    "tags": []
   },
   "outputs": [
    {
     "name": "stdout",
     "output_type": "stream",
     "text": [
      "Epoch 0, Loss 0.2545\n",
      "Training Accuracy: 0.6266, Testing Accuracy: 0.6406\n",
      "\n"
     ]
    },
    {
     "name": "stdout",
     "output_type": "stream",
     "text": [
      "Epoch 10, Loss 0.0817\n",
      "Training Accuracy: 0.9194, Testing Accuracy: 0.9350\n",
      "\n"
     ]
    },
    {
     "name": "stdout",
     "output_type": "stream",
     "text": [
      "Epoch 20, Loss 0.0525\n",
      "Training Accuracy: 0.9442, Testing Accuracy: 0.9587\n",
      "\n"
     ]
    },
    {
     "name": "stdout",
     "output_type": "stream",
     "text": [
      "Epoch 30, Loss 0.042\n",
      "Training Accuracy: 0.9545, Testing Accuracy: 0.9627\n",
      "\n"
     ]
    },
    {
     "name": "stdout",
     "output_type": "stream",
     "text": [
      "Epoch 40, Loss 0.0367\n",
      "Training Accuracy: 0.9593, Testing Accuracy: 0.9662\n",
      "\n"
     ]
    },
    {
     "name": "stdout",
     "output_type": "stream",
     "text": [
      "Epoch 50, Loss 0.0333\n",
      "Training Accuracy: 0.9626, Testing Accuracy: 0.9672\n",
      "\n"
     ]
    },
    {
     "name": "stdout",
     "output_type": "stream",
     "text": [
      "Epoch 60, Loss 0.0309\n",
      "Training Accuracy: 0.9647, Testing Accuracy: 0.9698\n",
      "\n"
     ]
    },
    {
     "name": "stdout",
     "output_type": "stream",
     "text": [
      "Epoch 70, Loss 0.0291\n",
      "Training Accuracy: 0.9671, Testing Accuracy: 0.9713\n",
      "\n"
     ]
    },
    {
     "name": "stdout",
     "output_type": "stream",
     "text": [
      "Epoch 80, Loss 0.0276\n",
      "Training Accuracy: 0.9684, Testing Accuracy: 0.9723\n",
      "\n"
     ]
    },
    {
     "name": "stdout",
     "output_type": "stream",
     "text": [
      "Epoch 90, Loss 0.0263\n",
      "Training Accuracy: 0.9700, Testing Accuracy: 0.9728\n",
      "\n"
     ]
    },
    {
     "name": "stdout",
     "output_type": "stream",
     "text": [
      "Epoch 100, Loss 0.0253\n",
      "Training Accuracy: 0.9713, Testing Accuracy: 0.9738\n",
      "\n"
     ]
    },
    {
     "name": "stdout",
     "output_type": "stream",
     "text": [
      "Epoch 110, Loss 0.0243\n",
      "Training Accuracy: 0.9726, Testing Accuracy: 0.9743\n",
      "\n"
     ]
    },
    {
     "name": "stdout",
     "output_type": "stream",
     "text": [
      "Epoch 120, Loss 0.0235\n",
      "Training Accuracy: 0.9742, Testing Accuracy: 0.9743\n",
      "\n"
     ]
    },
    {
     "name": "stdout",
     "output_type": "stream",
     "text": [
      "Epoch 130, Loss 0.0228\n",
      "Training Accuracy: 0.9749, Testing Accuracy: 0.9758\n",
      "\n"
     ]
    },
    {
     "name": "stdout",
     "output_type": "stream",
     "text": [
      "Epoch 140, Loss 0.0221\n",
      "Training Accuracy: 0.9758, Testing Accuracy: 0.9753\n",
      "\n"
     ]
    },
    {
     "name": "stdout",
     "output_type": "stream",
     "text": [
      "Epoch 150, Loss 0.0214\n",
      "Training Accuracy: 0.9767, Testing Accuracy: 0.9753\n",
      "\n"
     ]
    },
    {
     "name": "stdout",
     "output_type": "stream",
     "text": [
      "Epoch 160, Loss 0.0208\n",
      "Training Accuracy: 0.9773, Testing Accuracy: 0.9753\n",
      "\n"
     ]
    },
    {
     "name": "stdout",
     "output_type": "stream",
     "text": [
      "Epoch 170, Loss 0.0203\n",
      "Training Accuracy: 0.9781, Testing Accuracy: 0.9748\n",
      "\n"
     ]
    },
    {
     "name": "stdout",
     "output_type": "stream",
     "text": [
      "Epoch 180, Loss 0.0197\n",
      "Training Accuracy: 0.9790, Testing Accuracy: 0.9743\n",
      "\n"
     ]
    },
    {
     "name": "stdout",
     "output_type": "stream",
     "text": [
      "Epoch 190, Loss 0.0193\n",
      "Training Accuracy: 0.9792, Testing Accuracy: 0.9753\n",
      "\n"
     ]
    },
    {
     "name": "stdout",
     "output_type": "stream",
     "text": [
      "Epoch 200, Loss 0.0188\n",
      "Training Accuracy: 0.9801, Testing Accuracy: 0.9748\n",
      "\n"
     ]
    },
    {
     "name": "stdout",
     "output_type": "stream",
     "text": [
      "Epoch 210, Loss 0.0184\n",
      "Training Accuracy: 0.9806, Testing Accuracy: 0.9743\n",
      "\n"
     ]
    },
    {
     "name": "stdout",
     "output_type": "stream",
     "text": [
      "Epoch 220, Loss 0.0179\n",
      "Training Accuracy: 0.9810, Testing Accuracy: 0.9753\n",
      "\n"
     ]
    },
    {
     "name": "stdout",
     "output_type": "stream",
     "text": [
      "Epoch 230, Loss 0.0176\n",
      "Training Accuracy: 0.9813, Testing Accuracy: 0.9753\n",
      "\n"
     ]
    },
    {
     "name": "stdout",
     "output_type": "stream",
     "text": [
      "Epoch 240, Loss 0.0172\n",
      "Training Accuracy: 0.9817, Testing Accuracy: 0.9753\n",
      "\n"
     ]
    },
    {
     "data": {
      "text/plain": [
       "0.03506390130451049"
      ]
     },
     "execution_count": 22,
     "metadata": {},
     "output_type": "execute_result"
    }
   ],
   "source": [
    "nn_learner.train_loop(dl)"
   ]
  },
  {
   "cell_type": "code",
   "execution_count": 23,
   "id": "e0163366",
   "metadata": {
    "execution": {
     "iopub.execute_input": "2022-09-21T20:22:10.303367Z",
     "iopub.status.busy": "2022-09-21T20:22:10.302679Z",
     "iopub.status.idle": "2022-09-21T20:22:25.556634Z",
     "shell.execute_reply": "2022-09-21T20:22:25.557632Z"
    },
    "papermill": {
     "duration": 15.304655,
     "end_time": "2022-09-21T20:22:25.557799",
     "exception": false,
     "start_time": "2022-09-21T20:22:10.253144",
     "status": "completed"
    },
    "tags": []
   },
   "outputs": [
    {
     "name": "stdout",
     "output_type": "stream",
     "text": [
      "Epoch 0, Loss 0.2599\n",
      "Training Accuracy: 0.6300, Testing Accuracy: 0.6074\n",
      "\n"
     ]
    },
    {
     "name": "stdout",
     "output_type": "stream",
     "text": [
      "Epoch 10, Loss 0.1063\n",
      "Training Accuracy: 0.9043, Testing Accuracy: 0.9168\n",
      "\n"
     ]
    },
    {
     "name": "stdout",
     "output_type": "stream",
     "text": [
      "Epoch 20, Loss 0.0804\n",
      "Training Accuracy: 0.9261, Testing Accuracy: 0.9360\n",
      "\n"
     ]
    },
    {
     "name": "stdout",
     "output_type": "stream",
     "text": [
      "Epoch 30, Loss 0.0689\n",
      "Training Accuracy: 0.9359, Testing Accuracy: 0.9415\n",
      "\n"
     ]
    },
    {
     "name": "stdout",
     "output_type": "stream",
     "text": [
      "Epoch 40, Loss 0.0621\n",
      "Training Accuracy: 0.9403, Testing Accuracy: 0.9486\n",
      "\n"
     ]
    },
    {
     "name": "stdout",
     "output_type": "stream",
     "text": [
      "Epoch 50, Loss 0.0575\n",
      "Training Accuracy: 0.9442, Testing Accuracy: 0.9546\n",
      "\n"
     ]
    },
    {
     "name": "stdout",
     "output_type": "stream",
     "text": [
      "Epoch 60, Loss 0.0541\n",
      "Training Accuracy: 0.9466, Testing Accuracy: 0.9577\n",
      "\n"
     ]
    },
    {
     "name": "stdout",
     "output_type": "stream",
     "text": [
      "Epoch 70, Loss 0.0514\n",
      "Training Accuracy: 0.9480, Testing Accuracy: 0.9587\n",
      "\n"
     ]
    },
    {
     "name": "stdout",
     "output_type": "stream",
     "text": [
      "Epoch 80, Loss 0.0493\n",
      "Training Accuracy: 0.9501, Testing Accuracy: 0.9602\n",
      "\n"
     ]
    },
    {
     "name": "stdout",
     "output_type": "stream",
     "text": [
      "Epoch 90, Loss 0.0476\n",
      "Training Accuracy: 0.9517, Testing Accuracy: 0.9607\n",
      "\n"
     ]
    },
    {
     "name": "stdout",
     "output_type": "stream",
     "text": [
      "Epoch 100, Loss 0.0462\n",
      "Training Accuracy: 0.9531, Testing Accuracy: 0.9622\n",
      "\n"
     ]
    },
    {
     "name": "stdout",
     "output_type": "stream",
     "text": [
      "Epoch 110, Loss 0.0449\n",
      "Training Accuracy: 0.9538, Testing Accuracy: 0.9622\n",
      "\n"
     ]
    },
    {
     "name": "stdout",
     "output_type": "stream",
     "text": [
      "Epoch 120, Loss 0.0438\n",
      "Training Accuracy: 0.9546, Testing Accuracy: 0.9622\n",
      "\n"
     ]
    },
    {
     "name": "stdout",
     "output_type": "stream",
     "text": [
      "Epoch 130, Loss 0.0429\n",
      "Training Accuracy: 0.9553, Testing Accuracy: 0.9632\n",
      "\n"
     ]
    },
    {
     "name": "stdout",
     "output_type": "stream",
     "text": [
      "Epoch 140, Loss 0.042\n",
      "Training Accuracy: 0.9560, Testing Accuracy: 0.9642\n",
      "\n"
     ]
    },
    {
     "name": "stdout",
     "output_type": "stream",
     "text": [
      "Epoch 150, Loss 0.0413\n",
      "Training Accuracy: 0.9571, Testing Accuracy: 0.9652\n",
      "\n"
     ]
    },
    {
     "name": "stdout",
     "output_type": "stream",
     "text": [
      "Epoch 160, Loss 0.0406\n",
      "Training Accuracy: 0.9579, Testing Accuracy: 0.9652\n",
      "\n"
     ]
    },
    {
     "name": "stdout",
     "output_type": "stream",
     "text": [
      "Epoch 170, Loss 0.04\n",
      "Training Accuracy: 0.9582, Testing Accuracy: 0.9652\n",
      "\n"
     ]
    },
    {
     "name": "stdout",
     "output_type": "stream",
     "text": [
      "Epoch 180, Loss 0.0394\n",
      "Training Accuracy: 0.9588, Testing Accuracy: 0.9657\n",
      "\n"
     ]
    },
    {
     "name": "stdout",
     "output_type": "stream",
     "text": [
      "Epoch 190, Loss 0.0389\n",
      "Training Accuracy: 0.9596, Testing Accuracy: 0.9657\n",
      "\n"
     ]
    },
    {
     "name": "stdout",
     "output_type": "stream",
     "text": [
      "Epoch 200, Loss 0.0384\n",
      "Training Accuracy: 0.9604, Testing Accuracy: 0.9657\n",
      "\n"
     ]
    },
    {
     "name": "stdout",
     "output_type": "stream",
     "text": [
      "Epoch 210, Loss 0.0379\n",
      "Training Accuracy: 0.9609, Testing Accuracy: 0.9657\n",
      "\n"
     ]
    },
    {
     "name": "stdout",
     "output_type": "stream",
     "text": [
      "Epoch 220, Loss 0.0375\n",
      "Training Accuracy: 0.9613, Testing Accuracy: 0.9662\n",
      "\n"
     ]
    },
    {
     "name": "stdout",
     "output_type": "stream",
     "text": [
      "Epoch 230, Loss 0.0371\n",
      "Training Accuracy: 0.9616, Testing Accuracy: 0.9672\n",
      "\n"
     ]
    },
    {
     "name": "stdout",
     "output_type": "stream",
     "text": [
      "Epoch 240, Loss 0.0368\n",
      "Training Accuracy: 0.9618, Testing Accuracy: 0.9672\n",
      "\n"
     ]
    },
    {
     "data": {
      "text/plain": [
       "0.02966910184304828"
      ]
     },
     "execution_count": 23,
     "metadata": {},
     "output_type": "execute_result"
    }
   ],
   "source": [
    "lr_learner.train_loop(dl)"
   ]
  },
  {
   "cell_type": "code",
   "execution_count": 24,
   "id": "ca410940",
   "metadata": {
    "execution": {
     "iopub.execute_input": "2022-09-21T20:22:25.656357Z",
     "iopub.status.busy": "2022-09-21T20:22:25.655661Z",
     "iopub.status.idle": "2022-09-21T20:22:25.931499Z",
     "shell.execute_reply": "2022-09-21T20:22:25.932004Z"
    },
    "papermill": {
     "duration": 0.329725,
     "end_time": "2022-09-21T20:22:25.932165",
     "exception": false,
     "start_time": "2022-09-21T20:22:25.602440",
     "status": "completed"
    },
    "tags": []
   },
   "outputs": [
    {
     "data": {
      "text/plain": [
       "<matplotlib.legend.Legend at 0x7f9dd6ed42b0>"
      ]
     },
     "execution_count": 24,
     "metadata": {},
     "output_type": "execute_result"
    },
    {
     "data": {
      "image/png": "[encoded data removed]",
      "text/plain": [
       "<Figure size 1080x720 with 1 Axes>"
      ]
     },
     "metadata": {
      "needs_background": "light"
     },
     "output_type": "display_data"
    }
   ],
   "source": [
    "#comparing the results of NN and LR\n",
    "plt.figure(figsize=(15,10))\n",
    "\n",
    "# Neural Network plots\n",
    "plt.plot(acc_nn.accuracies, 'r-', label = \"Training Accuracies - NN\")\n",
    "plt.plot(acc_nn.test_accuracies, 'g-', label = \"Testing Accuracies - NN\")\n",
    "\n",
    "# Logistic Regression plots\n",
    "plt.plot(acc_lr.accuracies, 'k-', label = \"Training Accuracies - LR\")\n",
    "plt.plot(acc_lr.test_accuracies, 'b-', label = \"Testing Accuracies - LR\")\n",
    "plt.legend()"
   ]
  },
  {
   "cell_type": "markdown",
   "id": "80dfb35c",
   "metadata": {
    "papermill": {
     "duration": 0.04607,
     "end_time": "2022-09-21T20:22:26.025701",
     "exception": false,
     "start_time": "2022-09-21T20:22:25.979631",
     "status": "completed"
    },
    "tags": []
   },
   "source": [
    "#### Plotting the outputs of this layer of the NN.\n"
   ]
  },
  {
   "cell_type": "code",
   "execution_count": 25,
   "id": "45eb2ff5",
   "metadata": {
    "execution": {
     "iopub.execute_input": "2022-09-21T20:22:26.123741Z",
     "iopub.status.busy": "2022-09-21T20:22:26.122996Z",
     "iopub.status.idle": "2022-09-21T20:22:26.149166Z",
     "shell.execute_reply": "2022-09-21T20:22:26.150296Z"
    },
    "papermill": {
     "duration": 0.078598,
     "end_time": "2022-09-21T20:22:26.150525",
     "exception": false,
     "start_time": "2022-09-21T20:22:26.071927",
     "status": "completed"
    },
    "tags": []
   },
   "outputs": [],
   "source": [
    "new_model = Model(layers[:-2])\n",
    "testing_plot = new_model(testing_data_x)"
   ]
  },
  {
   "cell_type": "code",
   "execution_count": 26,
   "id": "4c0a5485",
   "metadata": {
    "execution": {
     "iopub.execute_input": "2022-09-21T20:22:26.257477Z",
     "iopub.status.busy": "2022-09-21T20:22:26.256764Z",
     "iopub.status.idle": "2022-09-21T20:22:26.475562Z",
     "shell.execute_reply": "2022-09-21T20:22:26.474371Z"
    },
    "papermill": {
     "duration": 0.274104,
     "end_time": "2022-09-21T20:22:26.475720",
     "exception": false,
     "start_time": "2022-09-21T20:22:26.201616",
     "status": "completed"
    },
    "tags": []
   },
   "outputs": [
    {
     "data": {
      "text/plain": [
       "Text(0.5, 1.0, 'Outputs')"
      ]
     },
     "execution_count": 26,
     "metadata": {},
     "output_type": "execute_result"
    },
    {
     "data": {
      "image/png": "[encoded data removed]",
      "text/plain": [
       "<Figure size 576x504 with 1 Axes>"
      ]
     },
     "metadata": {
      "needs_background": "light"
     },
     "output_type": "display_data"
    }
   ],
   "source": [
    "# Plotting the scatter plot of points and color coding by class\n",
    "plt.figure(figsize=(8,7))\n",
    "plt.scatter(testing_plot[:,0], testing_plot[:,1], alpha = 0.1, c = y_test.ravel());\n",
    "plt.title('Outputs')"
   ]
  },
  {
   "cell_type": "markdown",
   "id": "a74fcf8f",
   "metadata": {
    "papermill": {
     "duration": 0.049208,
     "end_time": "2022-09-21T20:22:26.575222",
     "exception": false,
     "start_time": "2022-09-21T20:22:26.526014",
     "status": "completed"
    },
    "tags": []
   },
   "source": [
    "Probability contours"
   ]
  },
  {
   "cell_type": "code",
   "execution_count": 27,
   "id": "d0afc8e3",
   "metadata": {
    "execution": {
     "iopub.execute_input": "2022-09-21T20:22:26.679322Z",
     "iopub.status.busy": "2022-09-21T20:22:26.678628Z",
     "iopub.status.idle": "2022-09-21T20:22:26.692758Z",
     "shell.execute_reply": "2022-09-21T20:22:26.692197Z"
    },
    "papermill": {
     "duration": 0.068606,
     "end_time": "2022-09-21T20:22:26.692888",
     "exception": false,
     "start_time": "2022-09-21T20:22:26.624282",
     "status": "completed"
    },
    "tags": []
   },
   "outputs": [],
   "source": [
    "model_prob = Model(layers[-2:]) "
   ]
  },
  {
   "cell_type": "code",
   "execution_count": 28,
   "id": "9b96e238",
   "metadata": {
    "execution": {
     "iopub.execute_input": "2022-09-21T20:22:26.830182Z",
     "iopub.status.busy": "2022-09-21T20:22:26.829490Z",
     "iopub.status.idle": "2022-09-21T20:22:26.844979Z",
     "shell.execute_reply": "2022-09-21T20:22:26.845529Z"
    },
    "papermill": {
     "duration": 0.102894,
     "end_time": "2022-09-21T20:22:26.845683",
     "exception": false,
     "start_time": "2022-09-21T20:22:26.742789",
     "status": "completed"
    },
    "tags": []
   },
   "outputs": [],
   "source": [
    "#creating the x and y ranges according to the above generated plot.\n",
    "x_range = np.linspace(-4, 1, 100) \n",
    "y_range = np.linspace(-6, 6, 100) \n",
    "x_grid, y_grid = np.meshgrid(x_range, y_range) # x_grid and y_grig are of size 100 X 100\n",
    "\n",
    "# converting x_grid and y_grid to continuous arrays\n",
    "x_gridflat = np.ravel(x_grid)\n",
    "y_gridflat = np.ravel(y_grid)\n",
    "\n",
    "# The last layer of the current model takes two columns as input. Hence transpose of np.vstack() is required.\n",
    "X = np.vstack((x_gridflat, y_gridflat)).T\n",
    "\n",
    "prob_contour = model_prob(X).reshape(100,100) "
   ]
  },
  {
   "cell_type": "code",
   "execution_count": 29,
   "id": "da72499a",
   "metadata": {
    "execution": {
     "iopub.execute_input": "2022-09-21T20:22:26.963167Z",
     "iopub.status.busy": "2022-09-21T20:22:26.962474Z",
     "iopub.status.idle": "2022-09-21T20:22:27.234538Z",
     "shell.execute_reply": "2022-09-21T20:22:27.235045Z"
    },
    "papermill": {
     "duration": 0.33834,
     "end_time": "2022-09-21T20:22:27.235195",
     "exception": false,
     "start_time": "2022-09-21T20:22:26.896855",
     "status": "completed"
    },
    "tags": []
   },
   "outputs": [
    {
     "data": {
      "image/png": "[encoded data removed]",
      "text/plain": [
       "<Figure size 720x648 with 1 Axes>"
      ]
     },
     "metadata": {
      "needs_background": "light"
     },
     "output_type": "display_data"
    }
   ],
   "source": [
    "plt.figure(figsize=(10,9))\n",
    "plt.scatter(testing_plot[:,0], testing_plot[:,1], alpha = 0.1, c = y_test.ravel())\n",
    "contours = plt.contour(x_grid,y_grid,prob_contour)\n",
    "plt.title('Probability Contours')\n",
    "plt.clabel(contours, inline = True );"
   ]
  },
  {
   "cell_type": "code",
   "execution_count": null,
   "id": "e81b4ac7",
   "metadata": {
    "papermill": {
     "duration": 0.052773,
     "end_time": "2022-09-21T20:22:27.342439",
     "exception": false,
     "start_time": "2022-09-21T20:22:27.289666",
     "status": "completed"
    },
    "tags": []
   },
   "outputs": [],
   "source": []
  }
 ],
 "metadata": {
  "kernelspec": {
   "display_name": "Python 3",
   "language": "python",
   "name": "python3"
  },
  "language_info": {
   "codemirror_mode": {
    "name": "ipython",
    "version": 3
   },
   "file_extension": ".py",
   "mimetype": "text/x-python",
   "name": "python",
   "nbconvert_exporter": "python",
   "pygments_lexer": "ipython3",
   "version": "3.6.15"
  },
  "papermill": {
   "default_parameters": {},
   "duration": 110.552863,
   "end_time": "2022-09-21T20:22:27.816126",
   "environment_variables": {},
   "exception": null,
   "input_path": "2020-08-11-part2.ipynb",
   "output_path": "2020-08-11-part2.ipynb",
   "parameters": {},
   "start_time": "2022-09-21T20:20:37.263263",
   "version": "2.3.3"
  }
 },
 "nbformat": 4,
 "nbformat_minor": 5
}