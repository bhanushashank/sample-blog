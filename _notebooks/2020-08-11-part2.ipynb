{
 "cells": [
  {
   "cell_type": "markdown",
   "id": "98380cd3",
   "metadata": {
    "papermill": {
     "duration": 0.029888,
     "end_time": "2022-05-20T10:10:59.734616",
     "exception": false,
     "start_time": "2022-05-20T10:10:59.704728",
     "status": "completed"
    },
    "tags": []
   },
   "source": [
    "# Distinguish Your Own Digits (DYOD)"
   ]
  },
  {
   "cell_type": "markdown",
   "id": "ef31240d",
   "metadata": {
    "papermill": {
     "duration": 0.023975,
     "end_time": "2022-05-20T10:10:59.783293",
     "exception": false,
     "start_time": "2022-05-20T10:10:59.759318",
     "status": "completed"
    },
    "tags": []
   },
   "source": [
    "You are going to write a classifier that distinguishes between the number 3 and number 8."
   ]
  },
  {
   "cell_type": "code",
   "execution_count": 1,
   "id": "b15c8646",
   "metadata": {
    "execution": {
     "iopub.execute_input": "2022-05-20T10:10:59.841829Z",
     "iopub.status.busy": "2022-05-20T10:10:59.841229Z",
     "iopub.status.idle": "2022-05-20T10:10:59.852384Z",
     "shell.execute_reply": "2022-05-20T10:10:59.851873Z"
    },
    "papermill": {
     "duration": 0.045175,
     "end_time": "2022-05-20T10:10:59.852517",
     "exception": false,
     "start_time": "2022-05-20T10:10:59.807342",
     "status": "completed"
    },
    "tags": []
   },
   "outputs": [],
   "source": [
    "%load_ext autoreload\n",
    "%autoreload 2"
   ]
  },
  {
   "cell_type": "code",
   "execution_count": 2,
   "id": "22ef38dc",
   "metadata": {
    "execution": {
     "iopub.execute_input": "2022-05-20T10:10:59.905041Z",
     "iopub.status.busy": "2022-05-20T10:10:59.904456Z",
     "iopub.status.idle": "2022-05-20T10:11:00.449677Z",
     "shell.execute_reply": "2022-05-20T10:11:00.450231Z"
    },
    "papermill": {
     "duration": 0.573824,
     "end_time": "2022-05-20T10:11:00.450409",
     "exception": false,
     "start_time": "2022-05-20T10:10:59.876585",
     "status": "completed"
    },
    "tags": []
   },
   "outputs": [],
   "source": [
    "%matplotlib inline\n",
    "import numpy as np\n",
    "import matplotlib.pyplot as plt\n",
    "import pandas as pd"
   ]
  },
  {
   "cell_type": "markdown",
   "id": "ba036198",
   "metadata": {
    "papermill": {
     "duration": 0.024076,
     "end_time": "2022-05-20T10:11:00.498609",
     "exception": false,
     "start_time": "2022-05-20T10:11:00.474533",
     "status": "completed"
    },
    "tags": []
   },
   "source": [
    "From the command line run `pip install mnist`. This is a library that will help you bring down the mnist dataset. If you run this from a notebook, you need to put  `!pip install mnist` in a cell by itself."
   ]
  },
  {
   "cell_type": "code",
   "execution_count": 3,
   "id": "bb6ad8a1",
   "metadata": {
    "execution": {
     "iopub.execute_input": "2022-05-20T10:11:00.554187Z",
     "iopub.status.busy": "2022-05-20T10:11:00.553607Z",
     "iopub.status.idle": "2022-05-20T10:11:02.316621Z",
     "shell.execute_reply": "2022-05-20T10:11:02.316007Z"
    },
    "papermill": {
     "duration": 1.794161,
     "end_time": "2022-05-20T10:11:02.316763",
     "exception": false,
     "start_time": "2022-05-20T10:11:00.522602",
     "status": "completed"
    },
    "tags": []
   },
   "outputs": [
    {
     "name": "stdout",
     "output_type": "stream",
     "text": [
      "Collecting mnist\r\n"
     ]
    },
    {
     "name": "stdout",
     "output_type": "stream",
     "text": [
      "  Downloading mnist-0.2.2-py2.py3-none-any.whl (3.5 kB)\r\n",
      "Requirement already satisfied: numpy in /opt/hostedtoolcache/Python/3.6.15/x64/lib/python3.6/site-packages (from mnist) (1.19.5)\r\n"
     ]
    },
    {
     "name": "stdout",
     "output_type": "stream",
     "text": [
      "Installing collected packages: mnist\r\n"
     ]
    },
    {
     "name": "stdout",
     "output_type": "stream",
     "text": [
      "Successfully installed mnist-0.2.2\r\n"
     ]
    }
   ],
   "source": [
    "!pip install mnist"
   ]
  },
  {
   "cell_type": "markdown",
   "id": "69df9c9a",
   "metadata": {
    "papermill": {
     "duration": 0.025157,
     "end_time": "2022-05-20T10:11:02.367511",
     "exception": false,
     "start_time": "2022-05-20T10:11:02.342354",
     "status": "completed"
    },
    "tags": []
   },
   "source": [
    "## Preparing the Data"
   ]
  },
  {
   "cell_type": "code",
   "execution_count": 4,
   "id": "7f69d806",
   "metadata": {
    "execution": {
     "iopub.execute_input": "2022-05-20T10:11:02.422454Z",
     "iopub.status.busy": "2022-05-20T10:11:02.421514Z",
     "iopub.status.idle": "2022-05-20T10:11:02.436420Z",
     "shell.execute_reply": "2022-05-20T10:11:02.435941Z"
    },
    "papermill": {
     "duration": 0.043948,
     "end_time": "2022-05-20T10:11:02.436538",
     "exception": false,
     "start_time": "2022-05-20T10:11:02.392590",
     "status": "completed"
    },
    "tags": []
   },
   "outputs": [],
   "source": [
    "import mnist"
   ]
  },
  {
   "cell_type": "code",
   "execution_count": 5,
   "id": "a411e44f",
   "metadata": {
    "execution": {
     "iopub.execute_input": "2022-05-20T10:11:02.502829Z",
     "iopub.status.busy": "2022-05-20T10:11:02.501133Z",
     "iopub.status.idle": "2022-05-20T10:11:03.161299Z",
     "shell.execute_reply": "2022-05-20T10:11:03.160687Z"
    },
    "papermill": {
     "duration": 0.6997,
     "end_time": "2022-05-20T10:11:03.161441",
     "exception": false,
     "start_time": "2022-05-20T10:11:02.461741",
     "status": "completed"
    },
    "tags": []
   },
   "outputs": [],
   "source": [
    "train_images = mnist.train_images()\n",
    "train_labels = mnist.train_labels()"
   ]
  },
  {
   "cell_type": "code",
   "execution_count": 6,
   "id": "dceab3a5",
   "metadata": {
    "execution": {
     "iopub.execute_input": "2022-05-20T10:11:03.216579Z",
     "iopub.status.busy": "2022-05-20T10:11:03.215557Z",
     "iopub.status.idle": "2022-05-20T10:11:03.231209Z",
     "shell.execute_reply": "2022-05-20T10:11:03.231681Z"
    },
    "papermill": {
     "duration": 0.044843,
     "end_time": "2022-05-20T10:11:03.231821",
     "exception": false,
     "start_time": "2022-05-20T10:11:03.186978",
     "status": "completed"
    },
    "tags": []
   },
   "outputs": [
    {
     "data": {
      "text/plain": [
       "((60000, 28, 28), (60000,))"
      ]
     },
     "execution_count": 6,
     "metadata": {},
     "output_type": "execute_result"
    }
   ],
   "source": [
    "train_images.shape, train_labels.shape"
   ]
  },
  {
   "cell_type": "code",
   "execution_count": 7,
   "id": "f50dc2bb",
   "metadata": {
    "execution": {
     "iopub.execute_input": "2022-05-20T10:11:03.286702Z",
     "iopub.status.busy": "2022-05-20T10:11:03.286115Z",
     "iopub.status.idle": "2022-05-20T10:11:03.462738Z",
     "shell.execute_reply": "2022-05-20T10:11:03.461733Z"
    },
    "papermill": {
     "duration": 0.205866,
     "end_time": "2022-05-20T10:11:03.462896",
     "exception": false,
     "start_time": "2022-05-20T10:11:03.257030",
     "status": "completed"
    },
    "tags": []
   },
   "outputs": [],
   "source": [
    "test_images = mnist.test_images()\n",
    "test_labels = mnist.test_labels()"
   ]
  },
  {
   "cell_type": "code",
   "execution_count": 8,
   "id": "fc38cf1b",
   "metadata": {
    "execution": {
     "iopub.execute_input": "2022-05-20T10:11:03.523058Z",
     "iopub.status.busy": "2022-05-20T10:11:03.521511Z",
     "iopub.status.idle": "2022-05-20T10:11:03.533534Z",
     "shell.execute_reply": "2022-05-20T10:11:03.533050Z"
    },
    "papermill": {
     "duration": 0.044465,
     "end_time": "2022-05-20T10:11:03.533649",
     "exception": false,
     "start_time": "2022-05-20T10:11:03.489184",
     "status": "completed"
    },
    "tags": []
   },
   "outputs": [
    {
     "data": {
      "text/plain": [
       "((10000, 28, 28), (10000,))"
      ]
     },
     "execution_count": 8,
     "metadata": {},
     "output_type": "execute_result"
    }
   ],
   "source": [
    "test_images.shape, test_labels.shape"
   ]
  },
  {
   "cell_type": "code",
   "execution_count": 9,
   "id": "f9ed8fe0",
   "metadata": {
    "execution": {
     "iopub.execute_input": "2022-05-20T10:11:03.588426Z",
     "iopub.status.busy": "2022-05-20T10:11:03.587850Z",
     "iopub.status.idle": "2022-05-20T10:11:03.725135Z",
     "shell.execute_reply": "2022-05-20T10:11:03.725585Z"
    },
    "papermill": {
     "duration": 0.166507,
     "end_time": "2022-05-20T10:11:03.725730",
     "exception": false,
     "start_time": "2022-05-20T10:11:03.559223",
     "status": "completed"
    },
    "tags": []
   },
   "outputs": [
    {
     "name": "stdout",
     "output_type": "stream",
     "text": [
      "2\n"
     ]
    },
    {
     "data": {
      "text/plain": [
       "<matplotlib.image.AxesImage at 0x7fae0fa20e10>"
      ]
     },
     "execution_count": 9,
     "metadata": {},
     "output_type": "execute_result"
    },
    {
     "data": {
      "image/png": "[encoded data removed]",
      "text/plain": [
       "<Figure size 432x288 with 1 Axes>"
      ]
     },
     "metadata": {
      "needs_background": "light"
     },
     "output_type": "display_data"
    }
   ],
   "source": [
    "image_index = 7776 # You may select anything up to 60,000\n",
    "print(train_labels[image_index]) \n",
    "plt.imshow(train_images[image_index], cmap='Greys')"
   ]
  },
  {
   "cell_type": "markdown",
   "id": "a8d2388d",
   "metadata": {
    "papermill": {
     "duration": 0.026693,
     "end_time": "2022-05-20T10:11:03.779083",
     "exception": false,
     "start_time": "2022-05-20T10:11:03.752390",
     "status": "completed"
    },
    "tags": []
   },
   "source": [
    "## Filter data to get 3 and 8 out"
   ]
  },
  {
   "cell_type": "code",
   "execution_count": 10,
   "id": "776f7fc7",
   "metadata": {
    "execution": {
     "iopub.execute_input": "2022-05-20T10:11:03.841123Z",
     "iopub.status.busy": "2022-05-20T10:11:03.840522Z",
     "iopub.status.idle": "2022-05-20T10:11:03.857048Z",
     "shell.execute_reply": "2022-05-20T10:11:03.856519Z"
    },
    "papermill": {
     "duration": 0.051763,
     "end_time": "2022-05-20T10:11:03.857180",
     "exception": false,
     "start_time": "2022-05-20T10:11:03.805417",
     "status": "completed"
    },
    "tags": []
   },
   "outputs": [],
   "source": [
    "train_filter = np.where((train_labels == 3 ) | (train_labels == 8))\n",
    "test_filter = np.where((test_labels == 3) | (test_labels == 8))\n",
    "X_train, y_train = train_images[train_filter], train_labels[train_filter]\n",
    "X_test, y_test = test_images[test_filter], test_labels[test_filter]"
   ]
  },
  {
   "cell_type": "markdown",
   "id": "948f0b7e",
   "metadata": {
    "papermill": {
     "duration": 0.026307,
     "end_time": "2022-05-20T10:11:03.910698",
     "exception": false,
     "start_time": "2022-05-20T10:11:03.884391",
     "status": "completed"
    },
    "tags": []
   },
   "source": [
    "We normalize the pizel values in the 0 to 1 range"
   ]
  },
  {
   "cell_type": "code",
   "execution_count": 11,
   "id": "ee4c2166",
   "metadata": {
    "execution": {
     "iopub.execute_input": "2022-05-20T10:11:03.967539Z",
     "iopub.status.busy": "2022-05-20T10:11:03.966964Z",
     "iopub.status.idle": "2022-05-20T10:11:04.014895Z",
     "shell.execute_reply": "2022-05-20T10:11:04.014338Z"
    },
    "papermill": {
     "duration": 0.077985,
     "end_time": "2022-05-20T10:11:04.015039",
     "exception": false,
     "start_time": "2022-05-20T10:11:03.937054",
     "status": "completed"
    },
    "tags": []
   },
   "outputs": [],
   "source": [
    "X_train = X_train/255.\n",
    "X_test = X_test/255."
   ]
  },
  {
   "cell_type": "markdown",
   "id": "ddcf4fab",
   "metadata": {
    "papermill": {
     "duration": 0.027084,
     "end_time": "2022-05-20T10:11:04.069052",
     "exception": false,
     "start_time": "2022-05-20T10:11:04.041968",
     "status": "completed"
    },
    "tags": []
   },
   "source": [
    "And setup the labels as 1 (when the digit is 3) and 0 (when the digit is 8)"
   ]
  },
  {
   "cell_type": "code",
   "execution_count": 12,
   "id": "7dc908f2",
   "metadata": {
    "execution": {
     "iopub.execute_input": "2022-05-20T10:11:04.129032Z",
     "iopub.status.busy": "2022-05-20T10:11:04.128451Z",
     "iopub.status.idle": "2022-05-20T10:11:04.139195Z",
     "shell.execute_reply": "2022-05-20T10:11:04.138720Z"
    },
    "papermill": {
     "duration": 0.043632,
     "end_time": "2022-05-20T10:11:04.139308",
     "exception": false,
     "start_time": "2022-05-20T10:11:04.095676",
     "status": "completed"
    },
    "tags": []
   },
   "outputs": [],
   "source": [
    "y_train = 1*(y_train==3)\n",
    "y_test = 1*(y_test==3)"
   ]
  },
  {
   "cell_type": "code",
   "execution_count": 13,
   "id": "01e4e969",
   "metadata": {
    "execution": {
     "iopub.execute_input": "2022-05-20T10:11:04.195958Z",
     "iopub.status.busy": "2022-05-20T10:11:04.195357Z",
     "iopub.status.idle": "2022-05-20T10:11:04.209502Z",
     "shell.execute_reply": "2022-05-20T10:11:04.209036Z"
    },
    "papermill": {
     "duration": 0.043453,
     "end_time": "2022-05-20T10:11:04.209614",
     "exception": false,
     "start_time": "2022-05-20T10:11:04.166161",
     "status": "completed"
    },
    "tags": []
   },
   "outputs": [
    {
     "data": {
      "text/plain": [
       "((11982, 28, 28), (1984, 28, 28))"
      ]
     },
     "execution_count": 13,
     "metadata": {},
     "output_type": "execute_result"
    }
   ],
   "source": [
    "X_train.shape, X_test.shape"
   ]
  },
  {
   "cell_type": "markdown",
   "id": "5ccf3f85",
   "metadata": {
    "papermill": {
     "duration": 0.026542,
     "end_time": "2022-05-20T10:11:04.262729",
     "exception": false,
     "start_time": "2022-05-20T10:11:04.236187",
     "status": "completed"
    },
    "tags": []
   },
   "source": [
    "We reshape the data to flatten the image pixels into a set of features or co-variates:"
   ]
  },
  {
   "cell_type": "code",
   "execution_count": 14,
   "id": "5286a4a3",
   "metadata": {
    "execution": {
     "iopub.execute_input": "2022-05-20T10:11:04.321134Z",
     "iopub.status.busy": "2022-05-20T10:11:04.320539Z",
     "iopub.status.idle": "2022-05-20T10:11:04.333783Z",
     "shell.execute_reply": "2022-05-20T10:11:04.334228Z"
    },
    "papermill": {
     "duration": 0.044984,
     "end_time": "2022-05-20T10:11:04.334359",
     "exception": false,
     "start_time": "2022-05-20T10:11:04.289375",
     "status": "completed"
    },
    "tags": []
   },
   "outputs": [
    {
     "data": {
      "text/plain": [
       "((11982, 784), (1984, 784))"
      ]
     },
     "execution_count": 14,
     "metadata": {},
     "output_type": "execute_result"
    }
   ],
   "source": [
    "X_train = X_train.reshape(X_train.shape[0], -1)\n",
    "X_test = X_test.reshape(X_test.shape[0], -1)\n",
    "X_train.shape, X_test.shape"
   ]
  },
  {
   "cell_type": "code",
   "execution_count": 15,
   "id": "73c5f88a",
   "metadata": {
    "execution": {
     "iopub.execute_input": "2022-05-20T10:11:04.392354Z",
     "iopub.status.busy": "2022-05-20T10:11:04.391768Z",
     "iopub.status.idle": "2022-05-20T10:11:04.410767Z",
     "shell.execute_reply": "2022-05-20T10:11:04.410300Z"
    },
    "papermill": {
     "duration": 0.049645,
     "end_time": "2022-05-20T10:11:04.410882",
     "exception": false,
     "start_time": "2022-05-20T10:11:04.361237",
     "status": "completed"
    },
    "tags": []
   },
   "outputs": [],
   "source": [
    "#Impoting functions from 'Kudzu'\n",
    "from kudzu.model import Model\n",
    "from kudzu.train import Learner\n",
    "from kudzu.optim import GD\n",
    "from kudzu.data import Data, Sampler,Dataloader\n",
    "\n",
    "from kudzu.callbacks import AccCallback\n",
    "from kudzu.callbacks import ClfCallback\n",
    "\n",
    "from kudzu.loss import MSE\n",
    "\n",
    "from kudzu.layer import Sigmoid,Relu\n",
    "from kudzu.layer import Affine"
   ]
  },
  {
   "cell_type": "markdown",
   "id": "bc01172a",
   "metadata": {
    "papermill": {
     "duration": 0.026782,
     "end_time": "2022-05-20T10:11:04.464678",
     "exception": false,
     "start_time": "2022-05-20T10:11:04.437896",
     "status": "completed"
    },
    "tags": []
   },
   "source": [
    "### Let us create a `Config` class, to store important parameters. \n",
    "This class essentially plays the role of a dictionary."
   ]
  },
  {
   "cell_type": "code",
   "execution_count": 16,
   "id": "978281aa",
   "metadata": {
    "execution": {
     "iopub.execute_input": "2022-05-20T10:11:04.536703Z",
     "iopub.status.busy": "2022-05-20T10:11:04.532815Z",
     "iopub.status.idle": "2022-05-20T10:11:04.539724Z",
     "shell.execute_reply": "2022-05-20T10:11:04.540178Z"
    },
    "papermill": {
     "duration": 0.048855,
     "end_time": "2022-05-20T10:11:04.540306",
     "exception": false,
     "start_time": "2022-05-20T10:11:04.491451",
     "status": "completed"
    },
    "tags": []
   },
   "outputs": [],
   "source": [
    "class Config:\n",
    "    pass\n",
    "config = Config()\n",
    "config.lr = 0.001\n",
    "config.num_epochs = 250\n",
    "config.bs = 50"
   ]
  },
  {
   "cell_type": "markdown",
   "id": "1385fa59",
   "metadata": {
    "papermill": {
     "duration": 0.026808,
     "end_time": "2022-05-20T10:11:04.593992",
     "exception": false,
     "start_time": "2022-05-20T10:11:04.567184",
     "status": "completed"
    },
    "tags": []
   },
   "source": [
    "### Running Models with the Training data\n",
    "Details about the network layers:\n",
    "- A first affine layer has 784 inputs and does 100 affine transforms. These are followed by a Relu\n",
    "- A second affine layer has 100 inputs from the 100 activations of the past layer, and does 100 affine transforms. These are followed by a Relu\n",
    "- A third affine layer has 100 activations and does 2 affine transformations to create an embedding for visualization. There is no non-linearity here.\n",
    "- A final \"logistic regression\" which has an affine transform from 2 inputs to 1 output, which is squeezed through a sigmoid.\n"
   ]
  },
  {
   "cell_type": "code",
   "execution_count": 17,
   "id": "2b9c66db",
   "metadata": {
    "execution": {
     "iopub.execute_input": "2022-05-20T10:11:04.663929Z",
     "iopub.status.busy": "2022-05-20T10:11:04.651927Z",
     "iopub.status.idle": "2022-05-20T10:11:04.666076Z",
     "shell.execute_reply": "2022-05-20T10:11:04.666494Z"
    },
    "papermill": {
     "duration": 0.045585,
     "end_time": "2022-05-20T10:11:04.666626",
     "exception": false,
     "start_time": "2022-05-20T10:11:04.621041",
     "status": "completed"
    },
    "tags": []
   },
   "outputs": [],
   "source": [
    "data = Data(X_train, y_train.reshape(-1,1))\n",
    "sampler = Sampler(data, config.bs, shuffle=True)\n",
    "\n",
    "dl = Dataloader(data, sampler)\n",
    "\n",
    "opt = GD(config.lr)\n",
    "loss = MSE()"
   ]
  },
  {
   "cell_type": "code",
   "execution_count": 18,
   "id": "b275e4c2",
   "metadata": {
    "execution": {
     "iopub.execute_input": "2022-05-20T10:11:04.728432Z",
     "iopub.status.busy": "2022-05-20T10:11:04.723376Z",
     "iopub.status.idle": "2022-05-20T10:11:04.737492Z",
     "shell.execute_reply": "2022-05-20T10:11:04.737943Z"
    },
    "papermill": {
     "duration": 0.044586,
     "end_time": "2022-05-20T10:11:04.738066",
     "exception": false,
     "start_time": "2022-05-20T10:11:04.693480",
     "status": "completed"
    },
    "tags": []
   },
   "outputs": [],
   "source": [
    "training_data_x = X_train\n",
    "testing_data_x = X_test\n",
    "training_data_y = y_train.reshape(-1,1)\n",
    "testing_data_y = y_test.reshape(-1,1)"
   ]
  },
  {
   "cell_type": "code",
   "execution_count": 19,
   "id": "76951160",
   "metadata": {
    "execution": {
     "iopub.execute_input": "2022-05-20T10:11:04.804912Z",
     "iopub.status.busy": "2022-05-20T10:11:04.794955Z",
     "iopub.status.idle": "2022-05-20T10:11:04.816101Z",
     "shell.execute_reply": "2022-05-20T10:11:04.816547Z"
    },
    "papermill": {
     "duration": 0.051853,
     "end_time": "2022-05-20T10:11:04.816672",
     "exception": false,
     "start_time": "2022-05-20T10:11:04.764819",
     "status": "completed"
    },
    "tags": []
   },
   "outputs": [
    {
     "name": "stdout",
     "output_type": "stream",
     "text": [
      "xavier\n",
      "xavier\n",
      "xavier\n",
      "xavier\n",
      "xavier\n"
     ]
    }
   ],
   "source": [
    "layers = [Affine(\"first\", 784, 100), Relu(\"first\"), Affine(\"second\", 100, 100), Relu(\"second\"), Affine(\"third\", 100, 2), Affine(\"last\", 2, 1), Sigmoid(\"last\")]\n",
    "model_nn = Model(layers)\n",
    "model_lr = Model([Affine(\"logits\", 784, 1), Sigmoid(\"sigmoid\")])"
   ]
  },
  {
   "cell_type": "code",
   "execution_count": 20,
   "id": "6eede77a",
   "metadata": {
    "execution": {
     "iopub.execute_input": "2022-05-20T10:11:04.888636Z",
     "iopub.status.busy": "2022-05-20T10:11:04.874343Z",
     "iopub.status.idle": "2022-05-20T10:11:04.890841Z",
     "shell.execute_reply": "2022-05-20T10:11:04.891281Z"
    },
    "papermill": {
     "duration": 0.047478,
     "end_time": "2022-05-20T10:11:04.891403",
     "exception": false,
     "start_time": "2022-05-20T10:11:04.843925",
     "status": "completed"
    },
    "tags": []
   },
   "outputs": [],
   "source": [
    "nn_learner = Learner(loss, model_nn, opt, config.num_epochs)\n",
    "acc_nn = ClfCallback(nn_learner, config.bs, training_data_x , testing_data_x, training_data_y, testing_data_y)\n",
    "nn_learner.set_callbacks([acc_nn])"
   ]
  },
  {
   "cell_type": "code",
   "execution_count": 21,
   "id": "877b6cc7",
   "metadata": {
    "execution": {
     "iopub.execute_input": "2022-05-20T10:11:04.952359Z",
     "iopub.status.busy": "2022-05-20T10:11:04.948798Z",
     "iopub.status.idle": "2022-05-20T10:11:04.961258Z",
     "shell.execute_reply": "2022-05-20T10:11:04.960790Z"
    },
    "papermill": {
     "duration": 0.0428,
     "end_time": "2022-05-20T10:11:04.961365",
     "exception": false,
     "start_time": "2022-05-20T10:11:04.918565",
     "status": "completed"
    },
    "tags": []
   },
   "outputs": [],
   "source": [
    "lr_learner = Learner(loss, model_lr, opt, config.num_epochs)\n",
    "acc_lr = ClfCallback(lr_learner, config.bs, training_data_x , testing_data_x, training_data_y, testing_data_y)\n",
    "lr_learner.set_callbacks([acc_lr])"
   ]
  },
  {
   "cell_type": "code",
   "execution_count": 22,
   "id": "d9b133c3",
   "metadata": {
    "execution": {
     "iopub.execute_input": "2022-05-20T10:11:05.018932Z",
     "iopub.status.busy": "2022-05-20T10:11:05.018375Z",
     "iopub.status.idle": "2022-05-20T10:12:19.859759Z",
     "shell.execute_reply": "2022-05-20T10:12:19.860638Z"
    },
    "papermill": {
     "duration": 74.872208,
     "end_time": "2022-05-20T10:12:19.860796",
     "exception": false,
     "start_time": "2022-05-20T10:11:04.988588",
     "status": "completed"
    },
    "tags": []
   },
   "outputs": [
    {
     "name": "stdout",
     "output_type": "stream",
     "text": [
      "Epoch 0, Loss 0.2438\n",
      "Training Accuracy: 0.5329, Testing Accuracy: 0.5363\n",
      "\n"
     ]
    },
    {
     "name": "stdout",
     "output_type": "stream",
     "text": [
      "Epoch 10, Loss 0.1301\n",
      "Training Accuracy: 0.8867, Testing Accuracy: 0.8967\n",
      "\n"
     ]
    },
    {
     "name": "stdout",
     "output_type": "stream",
     "text": [
      "Epoch 20, Loss 0.0737\n",
      "Training Accuracy: 0.9215, Testing Accuracy: 0.9320\n",
      "\n"
     ]
    },
    {
     "name": "stdout",
     "output_type": "stream",
     "text": [
      "Epoch 30, Loss 0.0539\n",
      "Training Accuracy: 0.9417, Testing Accuracy: 0.9526\n",
      "\n"
     ]
    },
    {
     "name": "stdout",
     "output_type": "stream",
     "text": [
      "Epoch 40, Loss 0.0445\n",
      "Training Accuracy: 0.9497, Testing Accuracy: 0.9597\n",
      "\n"
     ]
    },
    {
     "name": "stdout",
     "output_type": "stream",
     "text": [
      "Epoch 50, Loss 0.0392\n",
      "Training Accuracy: 0.9554, Testing Accuracy: 0.9617\n",
      "\n"
     ]
    },
    {
     "name": "stdout",
     "output_type": "stream",
     "text": [
      "Epoch 60, Loss 0.0357\n",
      "Training Accuracy: 0.9587, Testing Accuracy: 0.9657\n",
      "\n"
     ]
    },
    {
     "name": "stdout",
     "output_type": "stream",
     "text": [
      "Epoch 70, Loss 0.0332\n",
      "Training Accuracy: 0.9614, Testing Accuracy: 0.9688\n",
      "\n"
     ]
    },
    {
     "name": "stdout",
     "output_type": "stream",
     "text": [
      "Epoch 80, Loss 0.0313\n",
      "Training Accuracy: 0.9631, Testing Accuracy: 0.9708\n",
      "\n"
     ]
    },
    {
     "name": "stdout",
     "output_type": "stream",
     "text": [
      "Epoch 90, Loss 0.0298\n",
      "Training Accuracy: 0.9643, Testing Accuracy: 0.9713\n",
      "\n"
     ]
    },
    {
     "name": "stdout",
     "output_type": "stream",
     "text": [
      "Epoch 100, Loss 0.0286\n",
      "Training Accuracy: 0.9657, Testing Accuracy: 0.9718\n",
      "\n"
     ]
    },
    {
     "name": "stdout",
     "output_type": "stream",
     "text": [
      "Epoch 110, Loss 0.0275\n",
      "Training Accuracy: 0.9673, Testing Accuracy: 0.9723\n",
      "\n"
     ]
    },
    {
     "name": "stdout",
     "output_type": "stream",
     "text": [
      "Epoch 120, Loss 0.0265\n",
      "Training Accuracy: 0.9684, Testing Accuracy: 0.9718\n",
      "\n"
     ]
    },
    {
     "name": "stdout",
     "output_type": "stream",
     "text": [
      "Epoch 130, Loss 0.0257\n",
      "Training Accuracy: 0.9699, Testing Accuracy: 0.9713\n",
      "\n"
     ]
    },
    {
     "name": "stdout",
     "output_type": "stream",
     "text": [
      "Epoch 140, Loss 0.025\n",
      "Training Accuracy: 0.9710, Testing Accuracy: 0.9713\n",
      "\n"
     ]
    },
    {
     "name": "stdout",
     "output_type": "stream",
     "text": [
      "Epoch 150, Loss 0.0243\n",
      "Training Accuracy: 0.9716, Testing Accuracy: 0.9718\n",
      "\n"
     ]
    },
    {
     "name": "stdout",
     "output_type": "stream",
     "text": [
      "Epoch 160, Loss 0.0237\n",
      "Training Accuracy: 0.9725, Testing Accuracy: 0.9718\n",
      "\n"
     ]
    },
    {
     "name": "stdout",
     "output_type": "stream",
     "text": [
      "Epoch 170, Loss 0.0231\n",
      "Training Accuracy: 0.9730, Testing Accuracy: 0.9718\n",
      "\n"
     ]
    },
    {
     "name": "stdout",
     "output_type": "stream",
     "text": [
      "Epoch 180, Loss 0.0225\n",
      "Training Accuracy: 0.9742, Testing Accuracy: 0.9718\n",
      "\n"
     ]
    },
    {
     "name": "stdout",
     "output_type": "stream",
     "text": [
      "Epoch 190, Loss 0.022\n",
      "Training Accuracy: 0.9748, Testing Accuracy: 0.9718\n",
      "\n"
     ]
    },
    {
     "name": "stdout",
     "output_type": "stream",
     "text": [
      "Epoch 200, Loss 0.0215\n",
      "Training Accuracy: 0.9751, Testing Accuracy: 0.9728\n",
      "\n"
     ]
    },
    {
     "name": "stdout",
     "output_type": "stream",
     "text": [
      "Epoch 210, Loss 0.021\n",
      "Training Accuracy: 0.9762, Testing Accuracy: 0.9723\n",
      "\n"
     ]
    },
    {
     "name": "stdout",
     "output_type": "stream",
     "text": [
      "Epoch 220, Loss 0.0206\n",
      "Training Accuracy: 0.9770, Testing Accuracy: 0.9728\n",
      "\n"
     ]
    },
    {
     "name": "stdout",
     "output_type": "stream",
     "text": [
      "Epoch 230, Loss 0.0202\n",
      "Training Accuracy: 0.9775, Testing Accuracy: 0.9728\n",
      "\n"
     ]
    },
    {
     "name": "stdout",
     "output_type": "stream",
     "text": [
      "Epoch 240, Loss 0.0197\n",
      "Training Accuracy: 0.9777, Testing Accuracy: 0.9728\n",
      "\n"
     ]
    },
    {
     "data": {
      "text/plain": [
       "0.04374724782440205"
      ]
     },
     "execution_count": 22,
     "metadata": {},
     "output_type": "execute_result"
    }
   ],
   "source": [
    "nn_learner.train_loop(dl)"
   ]
  },
  {
   "cell_type": "code",
   "execution_count": 23,
   "id": "e0163366",
   "metadata": {
    "execution": {
     "iopub.execute_input": "2022-05-20T10:12:19.947958Z",
     "iopub.status.busy": "2022-05-20T10:12:19.947338Z",
     "iopub.status.idle": "2022-05-20T10:12:33.678996Z",
     "shell.execute_reply": "2022-05-20T10:12:33.679892Z"
    },
    "papermill": {
     "duration": 13.780167,
     "end_time": "2022-05-20T10:12:33.680050",
     "exception": false,
     "start_time": "2022-05-20T10:12:19.899883",
     "status": "completed"
    },
    "tags": []
   },
   "outputs": [
    {
     "name": "stdout",
     "output_type": "stream",
     "text": [
      "Epoch 0, Loss 0.2496\n",
      "Training Accuracy: 0.6648, Testing Accuracy: 0.6421\n",
      "\n"
     ]
    },
    {
     "name": "stdout",
     "output_type": "stream",
     "text": [
      "Epoch 10, Loss 0.1022\n",
      "Training Accuracy: 0.9147, Testing Accuracy: 0.9214\n",
      "\n"
     ]
    },
    {
     "name": "stdout",
     "output_type": "stream",
     "text": [
      "Epoch 20, Loss 0.0784\n",
      "Training Accuracy: 0.9301, Testing Accuracy: 0.9395\n",
      "\n"
     ]
    },
    {
     "name": "stdout",
     "output_type": "stream",
     "text": [
      "Epoch 30, Loss 0.0676\n",
      "Training Accuracy: 0.9391, Testing Accuracy: 0.9496\n",
      "\n"
     ]
    },
    {
     "name": "stdout",
     "output_type": "stream",
     "text": [
      "Epoch 40, Loss 0.0611\n",
      "Training Accuracy: 0.9432, Testing Accuracy: 0.9536\n",
      "\n"
     ]
    },
    {
     "name": "stdout",
     "output_type": "stream",
     "text": [
      "Epoch 50, Loss 0.0567\n",
      "Training Accuracy: 0.9459, Testing Accuracy: 0.9556\n",
      "\n"
     ]
    },
    {
     "name": "stdout",
     "output_type": "stream",
     "text": [
      "Epoch 60, Loss 0.0534\n",
      "Training Accuracy: 0.9487, Testing Accuracy: 0.9572\n",
      "\n"
     ]
    },
    {
     "name": "stdout",
     "output_type": "stream",
     "text": [
      "Epoch 70, Loss 0.0509\n",
      "Training Accuracy: 0.9500, Testing Accuracy: 0.9592\n",
      "\n"
     ]
    },
    {
     "name": "stdout",
     "output_type": "stream",
     "text": [
      "Epoch 80, Loss 0.0489\n",
      "Training Accuracy: 0.9515, Testing Accuracy: 0.9607\n",
      "\n"
     ]
    },
    {
     "name": "stdout",
     "output_type": "stream",
     "text": [
      "Epoch 90, Loss 0.0473\n",
      "Training Accuracy: 0.9527, Testing Accuracy: 0.9622\n",
      "\n"
     ]
    },
    {
     "name": "stdout",
     "output_type": "stream",
     "text": [
      "Epoch 100, Loss 0.0459\n",
      "Training Accuracy: 0.9543, Testing Accuracy: 0.9632\n",
      "\n"
     ]
    },
    {
     "name": "stdout",
     "output_type": "stream",
     "text": [
      "Epoch 110, Loss 0.0447\n",
      "Training Accuracy: 0.9551, Testing Accuracy: 0.9637\n",
      "\n"
     ]
    },
    {
     "name": "stdout",
     "output_type": "stream",
     "text": [
      "Epoch 120, Loss 0.0436\n",
      "Training Accuracy: 0.9559, Testing Accuracy: 0.9657\n",
      "\n"
     ]
    },
    {
     "name": "stdout",
     "output_type": "stream",
     "text": [
      "Epoch 130, Loss 0.0427\n",
      "Training Accuracy: 0.9563, Testing Accuracy: 0.9657\n",
      "\n"
     ]
    },
    {
     "name": "stdout",
     "output_type": "stream",
     "text": [
      "Epoch 140, Loss 0.0419\n",
      "Training Accuracy: 0.9562, Testing Accuracy: 0.9667\n",
      "\n"
     ]
    },
    {
     "name": "stdout",
     "output_type": "stream",
     "text": [
      "Epoch 150, Loss 0.0412\n",
      "Training Accuracy: 0.9568, Testing Accuracy: 0.9667\n",
      "\n"
     ]
    },
    {
     "name": "stdout",
     "output_type": "stream",
     "text": [
      "Epoch 160, Loss 0.0405\n",
      "Training Accuracy: 0.9570, Testing Accuracy: 0.9677\n",
      "\n"
     ]
    },
    {
     "name": "stdout",
     "output_type": "stream",
     "text": [
      "Epoch 170, Loss 0.0399\n",
      "Training Accuracy: 0.9575, Testing Accuracy: 0.9677\n",
      "\n"
     ]
    },
    {
     "name": "stdout",
     "output_type": "stream",
     "text": [
      "Epoch 180, Loss 0.0394\n",
      "Training Accuracy: 0.9582, Testing Accuracy: 0.9677\n",
      "\n"
     ]
    },
    {
     "name": "stdout",
     "output_type": "stream",
     "text": [
      "Epoch 190, Loss 0.0389\n",
      "Training Accuracy: 0.9587, Testing Accuracy: 0.9677\n",
      "\n"
     ]
    },
    {
     "name": "stdout",
     "output_type": "stream",
     "text": [
      "Epoch 200, Loss 0.0384\n",
      "Training Accuracy: 0.9595, Testing Accuracy: 0.9677\n",
      "\n"
     ]
    },
    {
     "name": "stdout",
     "output_type": "stream",
     "text": [
      "Epoch 210, Loss 0.038\n",
      "Training Accuracy: 0.9598, Testing Accuracy: 0.9672\n",
      "\n"
     ]
    },
    {
     "name": "stdout",
     "output_type": "stream",
     "text": [
      "Epoch 220, Loss 0.0376\n",
      "Training Accuracy: 0.9599, Testing Accuracy: 0.9662\n",
      "\n"
     ]
    },
    {
     "name": "stdout",
     "output_type": "stream",
     "text": [
      "Epoch 230, Loss 0.0372\n",
      "Training Accuracy: 0.9603, Testing Accuracy: 0.9662\n",
      "\n"
     ]
    },
    {
     "name": "stdout",
     "output_type": "stream",
     "text": [
      "Epoch 240, Loss 0.0368\n",
      "Training Accuracy: 0.9604, Testing Accuracy: 0.9662\n",
      "\n"
     ]
    },
    {
     "data": {
      "text/plain": [
       "0.027525883425648743"
      ]
     },
     "execution_count": 23,
     "metadata": {},
     "output_type": "execute_result"
    }
   ],
   "source": [
    "lr_learner.train_loop(dl)"
   ]
  },
  {
   "cell_type": "code",
   "execution_count": 24,
   "id": "ca410940",
   "metadata": {
    "execution": {
     "iopub.execute_input": "2022-05-20T10:12:33.776867Z",
     "iopub.status.busy": "2022-05-20T10:12:33.776288Z",
     "iopub.status.idle": "2022-05-20T10:12:33.989929Z",
     "shell.execute_reply": "2022-05-20T10:12:33.989057Z"
    },
    "papermill": {
     "duration": 0.267496,
     "end_time": "2022-05-20T10:12:33.990069",
     "exception": false,
     "start_time": "2022-05-20T10:12:33.722573",
     "status": "completed"
    },
    "tags": []
   },
   "outputs": [
    {
     "data": {
      "text/plain": [
       "<matplotlib.legend.Legend at 0x7fae0f5914e0>"
      ]
     },
     "execution_count": 24,
     "metadata": {},
     "output_type": "execute_result"
    },
    {
     "data": {
      "image/png": "[encoded data removed]",
      "text/plain": [
       "<Figure size 1080x720 with 1 Axes>"
      ]
     },
     "metadata": {
      "needs_background": "light"
     },
     "output_type": "display_data"
    }
   ],
   "source": [
    "#comparing the results of NN and LR\n",
    "plt.figure(figsize=(15,10))\n",
    "\n",
    "# Neural Network plots\n",
    "plt.plot(acc_nn.accuracies, 'r-', label = \"Training Accuracies - NN\")\n",
    "plt.plot(acc_nn.test_accuracies, 'g-', label = \"Testing Accuracies - NN\")\n",
    "\n",
    "# Logistic Regression plots\n",
    "plt.plot(acc_lr.accuracies, 'k-', label = \"Training Accuracies - LR\")\n",
    "plt.plot(acc_lr.test_accuracies, 'b-', label = \"Testing Accuracies - LR\")\n",
    "plt.legend()"
   ]
  },
  {
   "cell_type": "markdown",
   "id": "80dfb35c",
   "metadata": {
    "papermill": {
     "duration": 0.042091,
     "end_time": "2022-05-20T10:12:34.075910",
     "exception": false,
     "start_time": "2022-05-20T10:12:34.033819",
     "status": "completed"
    },
    "tags": []
   },
   "source": [
    "#### Plotting the outputs of this layer of the NN.\n"
   ]
  },
  {
   "cell_type": "code",
   "execution_count": 25,
   "id": "45eb2ff5",
   "metadata": {
    "execution": {
     "iopub.execute_input": "2022-05-20T10:12:34.164289Z",
     "iopub.status.busy": "2022-05-20T10:12:34.163689Z",
     "iopub.status.idle": "2022-05-20T10:12:34.184172Z",
     "shell.execute_reply": "2022-05-20T10:12:34.184927Z"
    },
    "papermill": {
     "duration": 0.066648,
     "end_time": "2022-05-20T10:12:34.185073",
     "exception": false,
     "start_time": "2022-05-20T10:12:34.118425",
     "status": "completed"
    },
    "tags": []
   },
   "outputs": [],
   "source": [
    "new_model = Model(layers[:-2])\n",
    "testing_plot = new_model(testing_data_x)"
   ]
  },
  {
   "cell_type": "code",
   "execution_count": 26,
   "id": "4c0a5485",
   "metadata": {
    "execution": {
     "iopub.execute_input": "2022-05-20T10:12:34.284967Z",
     "iopub.status.busy": "2022-05-20T10:12:34.284408Z",
     "iopub.status.idle": "2022-05-20T10:12:34.480682Z",
     "shell.execute_reply": "2022-05-20T10:12:34.480209Z"
    },
    "papermill": {
     "duration": 0.253027,
     "end_time": "2022-05-20T10:12:34.480797",
     "exception": false,
     "start_time": "2022-05-20T10:12:34.227770",
     "status": "completed"
    },
    "tags": []
   },
   "outputs": [
    {
     "data": {
      "text/plain": [
       "Text(0.5, 1.0, 'Outputs')"
      ]
     },
     "execution_count": 26,
     "metadata": {},
     "output_type": "execute_result"
    },
    {
     "data": {
      "image/png": "[encoded data removed]",
      "text/plain": [
       "<Figure size 576x504 with 1 Axes>"
      ]
     },
     "metadata": {
      "needs_background": "light"
     },
     "output_type": "display_data"
    }
   ],
   "source": [
    "# Plotting the scatter plot of points and color coding by class\n",
    "plt.figure(figsize=(8,7))\n",
    "plt.scatter(testing_plot[:,0], testing_plot[:,1], alpha = 0.1, c = y_test.ravel());\n",
    "plt.title('Outputs')"
   ]
  },
  {
   "cell_type": "markdown",
   "id": "a74fcf8f",
   "metadata": {
    "papermill": {
     "duration": 0.044026,
     "end_time": "2022-05-20T10:12:34.569196",
     "exception": false,
     "start_time": "2022-05-20T10:12:34.525170",
     "status": "completed"
    },
    "tags": []
   },
   "source": [
    "Probability contours"
   ]
  },
  {
   "cell_type": "code",
   "execution_count": 27,
   "id": "d0afc8e3",
   "metadata": {
    "execution": {
     "iopub.execute_input": "2022-05-20T10:12:34.689625Z",
     "iopub.status.busy": "2022-05-20T10:12:34.689060Z",
     "iopub.status.idle": "2022-05-20T10:12:34.701210Z",
     "shell.execute_reply": "2022-05-20T10:12:34.701743Z"
    },
    "papermill": {
     "duration": 0.088456,
     "end_time": "2022-05-20T10:12:34.701865",
     "exception": false,
     "start_time": "2022-05-20T10:12:34.613409",
     "status": "completed"
    },
    "tags": []
   },
   "outputs": [],
   "source": [
    "model_prob = Model(layers[-2:]) "
   ]
  },
  {
   "cell_type": "code",
   "execution_count": 28,
   "id": "9b96e238",
   "metadata": {
    "execution": {
     "iopub.execute_input": "2022-05-20T10:12:34.794642Z",
     "iopub.status.busy": "2022-05-20T10:12:34.794077Z",
     "iopub.status.idle": "2022-05-20T10:12:34.808317Z",
     "shell.execute_reply": "2022-05-20T10:12:34.808744Z"
    },
    "papermill": {
     "duration": 0.0628,
     "end_time": "2022-05-20T10:12:34.808868",
     "exception": false,
     "start_time": "2022-05-20T10:12:34.746068",
     "status": "completed"
    },
    "tags": []
   },
   "outputs": [],
   "source": [
    "#creating the x and y ranges according to the above generated plot.\n",
    "x_range = np.linspace(-4, 1, 100) \n",
    "y_range = np.linspace(-6, 6, 100) \n",
    "x_grid, y_grid = np.meshgrid(x_range, y_range) # x_grid and y_grig are of size 100 X 100\n",
    "\n",
    "# converting x_grid and y_grid to continuous arrays\n",
    "x_gridflat = np.ravel(x_grid)\n",
    "y_gridflat = np.ravel(y_grid)\n",
    "\n",
    "# The last layer of the current model takes two columns as input. Hence transpose of np.vstack() is required.\n",
    "X = np.vstack((x_gridflat, y_gridflat)).T\n",
    "\n",
    "prob_contour = model_prob(X).reshape(100,100) "
   ]
  },
  {
   "cell_type": "code",
   "execution_count": 29,
   "id": "da72499a",
   "metadata": {
    "execution": {
     "iopub.execute_input": "2022-05-20T10:12:34.909599Z",
     "iopub.status.busy": "2022-05-20T10:12:34.909029Z",
     "iopub.status.idle": "2022-05-20T10:12:35.146336Z",
     "shell.execute_reply": "2022-05-20T10:12:35.146788Z"
    },
    "papermill": {
     "duration": 0.293056,
     "end_time": "2022-05-20T10:12:35.146931",
     "exception": false,
     "start_time": "2022-05-20T10:12:34.853875",
     "status": "completed"
    },
    "tags": []
   },
   "outputs": [
    {
     "data": {
      "image/png": "[encoded data removed]",
      "text/plain": [
       "<Figure size 720x648 with 1 Axes>"
      ]
     },
     "metadata": {
      "needs_background": "light"
     },
     "output_type": "display_data"
    }
   ],
   "source": [
    "plt.figure(figsize=(10,9))\n",
    "plt.scatter(testing_plot[:,0], testing_plot[:,1], alpha = 0.1, c = y_test.ravel())\n",
    "contours = plt.contour(x_grid,y_grid,prob_contour)\n",
    "plt.title('Probability Contours')\n",
    "plt.clabel(contours, inline = True );"
   ]
  },
  {
   "cell_type": "code",
   "execution_count": null,
   "id": "e81b4ac7",
   "metadata": {
    "papermill": {
     "duration": 0.046876,
     "end_time": "2022-05-20T10:12:35.241598",
     "exception": false,
     "start_time": "2022-05-20T10:12:35.194722",
     "status": "completed"
    },
    "tags": []
   },
   "outputs": [],
   "source": []
  }
 ],
 "metadata": {
  "kernelspec": {
   "display_name": "Python 3",
   "language": "python",
   "name": "python3"
  },
  "language_info": {
   "codemirror_mode": {
    "name": "ipython",
    "version": 3
   },
   "file_extension": ".py",
   "mimetype": "text/x-python",
   "name": "python",
   "nbconvert_exporter": "python",
   "pygments_lexer": "ipython3",
   "version": "3.6.15"
  },
  "papermill": {
   "default_parameters": {},
   "duration": 96.948414,
   "end_time": "2022-05-20T10:12:35.707543",
   "environment_variables": {},
   "exception": null,
   "input_path": "2020-08-11-part2.ipynb",
   "output_path": "2020-08-11-part2.ipynb",
   "parameters": {},
   "start_time": "2022-05-20T10:10:58.759129",
   "version": "2.3.3"
  }
 },
 "nbformat": 4,
 "nbformat_minor": 5
}