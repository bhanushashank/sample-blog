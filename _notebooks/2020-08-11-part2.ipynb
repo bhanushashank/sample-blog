{
 "cells": [
  {
   "cell_type": "markdown",
   "id": "98380cd3",
   "metadata": {
    "papermill": {
     "duration": 0.029888,
     "end_time": "2022-11-22T20:10:11.586513",
     "exception": false,
     "start_time": "2022-11-22T20:10:11.556625",
     "status": "completed"
    },
    "tags": []
   },
   "source": [
    "# Distinguish Your Own Digits (DYOD)"
   ]
  },
  {
   "cell_type": "markdown",
   "id": "ef31240d",
   "metadata": {
    "papermill": {
     "duration": 0.023642,
     "end_time": "2022-11-22T20:10:11.634323",
     "exception": false,
     "start_time": "2022-11-22T20:10:11.610681",
     "status": "completed"
    },
    "tags": []
   },
   "source": [
    "You are going to write a classifier that distinguishes between the number 3 and number 8."
   ]
  },
  {
   "cell_type": "code",
   "execution_count": 1,
   "id": "b15c8646",
   "metadata": {
    "execution": {
     "iopub.execute_input": "2022-11-22T20:10:11.692203Z",
     "iopub.status.busy": "2022-11-22T20:10:11.691609Z",
     "iopub.status.idle": "2022-11-22T20:10:11.703506Z",
     "shell.execute_reply": "2022-11-22T20:10:11.703016Z"
    },
    "papermill": {
     "duration": 0.045708,
     "end_time": "2022-11-22T20:10:11.703633",
     "exception": false,
     "start_time": "2022-11-22T20:10:11.657925",
     "status": "completed"
    },
    "tags": []
   },
   "outputs": [],
   "source": [
    "%load_ext autoreload\n",
    "%autoreload 2"
   ]
  },
  {
   "cell_type": "code",
   "execution_count": 2,
   "id": "22ef38dc",
   "metadata": {
    "execution": {
     "iopub.execute_input": "2022-11-22T20:10:11.755238Z",
     "iopub.status.busy": "2022-11-22T20:10:11.754652Z",
     "iopub.status.idle": "2022-11-22T20:10:12.294681Z",
     "shell.execute_reply": "2022-11-22T20:10:12.294093Z"
    },
    "papermill": {
     "duration": 0.567345,
     "end_time": "2022-11-22T20:10:12.294824",
     "exception": false,
     "start_time": "2022-11-22T20:10:11.727479",
     "status": "completed"
    },
    "tags": []
   },
   "outputs": [],
   "source": [
    "%matplotlib inline\n",
    "import numpy as np\n",
    "import matplotlib.pyplot as plt\n",
    "import pandas as pd"
   ]
  },
  {
   "cell_type": "markdown",
   "id": "ba036198",
   "metadata": {
    "papermill": {
     "duration": 0.023727,
     "end_time": "2022-11-22T20:10:12.342451",
     "exception": false,
     "start_time": "2022-11-22T20:10:12.318724",
     "status": "completed"
    },
    "tags": []
   },
   "source": [
    "From the command line run `pip install mnist`. This is a library that will help you bring down the mnist dataset. If you run this from a notebook, you need to put  `!pip install mnist` in a cell by itself."
   ]
  },
  {
   "cell_type": "code",
   "execution_count": 3,
   "id": "bb6ad8a1",
   "metadata": {
    "execution": {
     "iopub.execute_input": "2022-11-22T20:10:12.394458Z",
     "iopub.status.busy": "2022-11-22T20:10:12.393848Z",
     "iopub.status.idle": "2022-11-22T20:10:13.996332Z",
     "shell.execute_reply": "2022-11-22T20:10:13.995771Z"
    },
    "papermill": {
     "duration": 1.63025,
     "end_time": "2022-11-22T20:10:13.996457",
     "exception": false,
     "start_time": "2022-11-22T20:10:12.366207",
     "status": "completed"
    },
    "tags": []
   },
   "outputs": [
    {
     "name": "stdout",
     "output_type": "stream",
     "text": [
      "Collecting mnist\r\n"
     ]
    },
    {
     "name": "stdout",
     "output_type": "stream",
     "text": [
      "  Downloading mnist-0.2.2-py2.py3-none-any.whl (3.5 kB)\r\n",
      "Requirement already satisfied: numpy in /opt/hostedtoolcache/Python/3.6.15/x64/lib/python3.6/site-packages (from mnist) (1.19.5)\r\n"
     ]
    },
    {
     "name": "stdout",
     "output_type": "stream",
     "text": [
      "Installing collected packages: mnist\r\n",
      "Successfully installed mnist-0.2.2\r\n"
     ]
    }
   ],
   "source": [
    "!pip install mnist"
   ]
  },
  {
   "cell_type": "markdown",
   "id": "69df9c9a",
   "metadata": {
    "papermill": {
     "duration": 0.025258,
     "end_time": "2022-11-22T20:10:14.046512",
     "exception": false,
     "start_time": "2022-11-22T20:10:14.021254",
     "status": "completed"
    },
    "tags": []
   },
   "source": [
    "## Preparing the Data"
   ]
  },
  {
   "cell_type": "code",
   "execution_count": 4,
   "id": "7f69d806",
   "metadata": {
    "execution": {
     "iopub.execute_input": "2022-11-22T20:10:14.114646Z",
     "iopub.status.busy": "2022-11-22T20:10:14.111576Z",
     "iopub.status.idle": "2022-11-22T20:10:14.119329Z",
     "shell.execute_reply": "2022-11-22T20:10:14.118585Z"
    },
    "papermill": {
     "duration": 0.0485,
     "end_time": "2022-11-22T20:10:14.119440",
     "exception": false,
     "start_time": "2022-11-22T20:10:14.070940",
     "status": "completed"
    },
    "tags": []
   },
   "outputs": [],
   "source": [
    "import mnist"
   ]
  },
  {
   "cell_type": "code",
   "execution_count": 5,
   "id": "a411e44f",
   "metadata": {
    "execution": {
     "iopub.execute_input": "2022-11-22T20:10:14.180432Z",
     "iopub.status.busy": "2022-11-22T20:10:14.174291Z",
     "iopub.status.idle": "2022-11-22T20:10:14.753537Z",
     "shell.execute_reply": "2022-11-22T20:10:14.752898Z"
    },
    "papermill": {
     "duration": 0.609886,
     "end_time": "2022-11-22T20:10:14.753688",
     "exception": false,
     "start_time": "2022-11-22T20:10:14.143802",
     "status": "completed"
    },
    "tags": []
   },
   "outputs": [],
   "source": [
    "train_images = mnist.train_images()\n",
    "train_labels = mnist.train_labels()"
   ]
  },
  {
   "cell_type": "code",
   "execution_count": 6,
   "id": "dceab3a5",
   "metadata": {
    "execution": {
     "iopub.execute_input": "2022-11-22T20:10:14.806773Z",
     "iopub.status.busy": "2022-11-22T20:10:14.806180Z",
     "iopub.status.idle": "2022-11-22T20:10:14.821996Z",
     "shell.execute_reply": "2022-11-22T20:10:14.822554Z"
    },
    "papermill": {
     "duration": 0.044098,
     "end_time": "2022-11-22T20:10:14.822684",
     "exception": false,
     "start_time": "2022-11-22T20:10:14.778586",
     "status": "completed"
    },
    "tags": []
   },
   "outputs": [
    {
     "data": {
      "text/plain": [
       "((60000, 28, 28), (60000,))"
      ]
     },
     "execution_count": 6,
     "metadata": {},
     "output_type": "execute_result"
    }
   ],
   "source": [
    "train_images.shape, train_labels.shape"
   ]
  },
  {
   "cell_type": "code",
   "execution_count": 7,
   "id": "f50dc2bb",
   "metadata": {
    "execution": {
     "iopub.execute_input": "2022-11-22T20:10:14.875356Z",
     "iopub.status.busy": "2022-11-22T20:10:14.874782Z",
     "iopub.status.idle": "2022-11-22T20:10:15.070104Z",
     "shell.execute_reply": "2022-11-22T20:10:15.069465Z"
    },
    "papermill": {
     "duration": 0.222994,
     "end_time": "2022-11-22T20:10:15.070240",
     "exception": false,
     "start_time": "2022-11-22T20:10:14.847246",
     "status": "completed"
    },
    "tags": []
   },
   "outputs": [],
   "source": [
    "test_images = mnist.test_images()\n",
    "test_labels = mnist.test_labels()"
   ]
  },
  {
   "cell_type": "code",
   "execution_count": 8,
   "id": "fc38cf1b",
   "metadata": {
    "execution": {
     "iopub.execute_input": "2022-11-22T20:10:15.125272Z",
     "iopub.status.busy": "2022-11-22T20:10:15.124688Z",
     "iopub.status.idle": "2022-11-22T20:10:15.138246Z",
     "shell.execute_reply": "2022-11-22T20:10:15.138721Z"
    },
    "papermill": {
     "duration": 0.043252,
     "end_time": "2022-11-22T20:10:15.138851",
     "exception": false,
     "start_time": "2022-11-22T20:10:15.095599",
     "status": "completed"
    },
    "tags": []
   },
   "outputs": [
    {
     "data": {
      "text/plain": [
       "((10000, 28, 28), (10000,))"
      ]
     },
     "execution_count": 8,
     "metadata": {},
     "output_type": "execute_result"
    }
   ],
   "source": [
    "test_images.shape, test_labels.shape"
   ]
  },
  {
   "cell_type": "code",
   "execution_count": 9,
   "id": "f9ed8fe0",
   "metadata": {
    "execution": {
     "iopub.execute_input": "2022-11-22T20:10:15.196997Z",
     "iopub.status.busy": "2022-11-22T20:10:15.196389Z",
     "iopub.status.idle": "2022-11-22T20:10:15.335750Z",
     "shell.execute_reply": "2022-11-22T20:10:15.335269Z"
    },
    "papermill": {
     "duration": 0.17208,
     "end_time": "2022-11-22T20:10:15.335881",
     "exception": false,
     "start_time": "2022-11-22T20:10:15.163801",
     "status": "completed"
    },
    "tags": []
   },
   "outputs": [
    {
     "name": "stdout",
     "output_type": "stream",
     "text": [
      "2\n"
     ]
    },
    {
     "data": {
      "text/plain": [
       "<matplotlib.image.AxesImage at 0x7f286811c320>"
      ]
     },
     "execution_count": 9,
     "metadata": {},
     "output_type": "execute_result"
    },
    {
     "data": {
      "image/png": "[encoded data removed]",
      "text/plain": [
       "<Figure size 432x288 with 1 Axes>"
      ]
     },
     "metadata": {
      "needs_background": "light"
     },
     "output_type": "display_data"
    }
   ],
   "source": [
    "image_index = 7776 # You may select anything up to 60,000\n",
    "print(train_labels[image_index]) \n",
    "plt.imshow(train_images[image_index], cmap='Greys')"
   ]
  },
  {
   "cell_type": "markdown",
   "id": "a8d2388d",
   "metadata": {
    "papermill": {
     "duration": 0.026499,
     "end_time": "2022-11-22T20:10:15.388701",
     "exception": false,
     "start_time": "2022-11-22T20:10:15.362202",
     "status": "completed"
    },
    "tags": []
   },
   "source": [
    "## Filter data to get 3 and 8 out"
   ]
  },
  {
   "cell_type": "code",
   "execution_count": 10,
   "id": "776f7fc7",
   "metadata": {
    "execution": {
     "iopub.execute_input": "2022-11-22T20:10:15.445354Z",
     "iopub.status.busy": "2022-11-22T20:10:15.444751Z",
     "iopub.status.idle": "2022-11-22T20:10:15.461458Z",
     "shell.execute_reply": "2022-11-22T20:10:15.461976Z"
    },
    "papermill": {
     "duration": 0.047431,
     "end_time": "2022-11-22T20:10:15.462115",
     "exception": false,
     "start_time": "2022-11-22T20:10:15.414684",
     "status": "completed"
    },
    "tags": []
   },
   "outputs": [],
   "source": [
    "train_filter = np.where((train_labels == 3 ) | (train_labels == 8))\n",
    "test_filter = np.where((test_labels == 3) | (test_labels == 8))\n",
    "X_train, y_train = train_images[train_filter], train_labels[train_filter]\n",
    "X_test, y_test = test_images[test_filter], test_labels[test_filter]"
   ]
  },
  {
   "cell_type": "markdown",
   "id": "948f0b7e",
   "metadata": {
    "papermill": {
     "duration": 0.025885,
     "end_time": "2022-11-22T20:10:15.514196",
     "exception": false,
     "start_time": "2022-11-22T20:10:15.488311",
     "status": "completed"
    },
    "tags": []
   },
   "source": [
    "We normalize the pizel values in the 0 to 1 range"
   ]
  },
  {
   "cell_type": "code",
   "execution_count": 11,
   "id": "ee4c2166",
   "metadata": {
    "execution": {
     "iopub.execute_input": "2022-11-22T20:10:15.570268Z",
     "iopub.status.busy": "2022-11-22T20:10:15.569662Z",
     "iopub.status.idle": "2022-11-22T20:10:15.616062Z",
     "shell.execute_reply": "2022-11-22T20:10:15.615485Z"
    },
    "papermill": {
     "duration": 0.076024,
     "end_time": "2022-11-22T20:10:15.616197",
     "exception": false,
     "start_time": "2022-11-22T20:10:15.540173",
     "status": "completed"
    },
    "tags": []
   },
   "outputs": [],
   "source": [
    "X_train = X_train/255.\n",
    "X_test = X_test/255."
   ]
  },
  {
   "cell_type": "markdown",
   "id": "ddcf4fab",
   "metadata": {
    "papermill": {
     "duration": 0.02621,
     "end_time": "2022-11-22T20:10:15.669072",
     "exception": false,
     "start_time": "2022-11-22T20:10:15.642862",
     "status": "completed"
    },
    "tags": []
   },
   "source": [
    "And setup the labels as 1 (when the digit is 3) and 0 (when the digit is 8)"
   ]
  },
  {
   "cell_type": "code",
   "execution_count": 12,
   "id": "7dc908f2",
   "metadata": {
    "execution": {
     "iopub.execute_input": "2022-11-22T20:10:15.725388Z",
     "iopub.status.busy": "2022-11-22T20:10:15.724803Z",
     "iopub.status.idle": "2022-11-22T20:10:15.738432Z",
     "shell.execute_reply": "2022-11-22T20:10:15.737949Z"
    },
    "papermill": {
     "duration": 0.043402,
     "end_time": "2022-11-22T20:10:15.738542",
     "exception": false,
     "start_time": "2022-11-22T20:10:15.695140",
     "status": "completed"
    },
    "tags": []
   },
   "outputs": [],
   "source": [
    "y_train = 1*(y_train==3)\n",
    "y_test = 1*(y_test==3)"
   ]
  },
  {
   "cell_type": "code",
   "execution_count": 13,
   "id": "01e4e969",
   "metadata": {
    "execution": {
     "iopub.execute_input": "2022-11-22T20:10:15.794619Z",
     "iopub.status.busy": "2022-11-22T20:10:15.794028Z",
     "iopub.status.idle": "2022-11-22T20:10:15.808599Z",
     "shell.execute_reply": "2022-11-22T20:10:15.808113Z"
    },
    "papermill": {
     "duration": 0.044045,
     "end_time": "2022-11-22T20:10:15.808710",
     "exception": false,
     "start_time": "2022-11-22T20:10:15.764665",
     "status": "completed"
    },
    "tags": []
   },
   "outputs": [
    {
     "data": {
      "text/plain": [
       "((11982, 28, 28), (1984, 28, 28))"
      ]
     },
     "execution_count": 13,
     "metadata": {},
     "output_type": "execute_result"
    }
   ],
   "source": [
    "X_train.shape, X_test.shape"
   ]
  },
  {
   "cell_type": "markdown",
   "id": "5ccf3f85",
   "metadata": {
    "papermill": {
     "duration": 0.026175,
     "end_time": "2022-11-22T20:10:15.864658",
     "exception": false,
     "start_time": "2022-11-22T20:10:15.838483",
     "status": "completed"
    },
    "tags": []
   },
   "source": [
    "We reshape the data to flatten the image pixels into a set of features or co-variates:"
   ]
  },
  {
   "cell_type": "code",
   "execution_count": 14,
   "id": "5286a4a3",
   "metadata": {
    "execution": {
     "iopub.execute_input": "2022-11-22T20:10:15.935663Z",
     "iopub.status.busy": "2022-11-22T20:10:15.935077Z",
     "iopub.status.idle": "2022-11-22T20:10:15.938616Z",
     "shell.execute_reply": "2022-11-22T20:10:15.938146Z"
    },
    "papermill": {
     "duration": 0.047779,
     "end_time": "2022-11-22T20:10:15.938720",
     "exception": false,
     "start_time": "2022-11-22T20:10:15.890941",
     "status": "completed"
    },
    "tags": []
   },
   "outputs": [
    {
     "data": {
      "text/plain": [
       "((11982, 784), (1984, 784))"
      ]
     },
     "execution_count": 14,
     "metadata": {},
     "output_type": "execute_result"
    }
   ],
   "source": [
    "X_train = X_train.reshape(X_train.shape[0], -1)\n",
    "X_test = X_test.reshape(X_test.shape[0], -1)\n",
    "X_train.shape, X_test.shape"
   ]
  },
  {
   "cell_type": "code",
   "execution_count": 15,
   "id": "73c5f88a",
   "metadata": {
    "execution": {
     "iopub.execute_input": "2022-11-22T20:10:15.995761Z",
     "iopub.status.busy": "2022-11-22T20:10:15.995184Z",
     "iopub.status.idle": "2022-11-22T20:10:16.015447Z",
     "shell.execute_reply": "2022-11-22T20:10:16.014803Z"
    },
    "papermill": {
     "duration": 0.050509,
     "end_time": "2022-11-22T20:10:16.015563",
     "exception": false,
     "start_time": "2022-11-22T20:10:15.965054",
     "status": "completed"
    },
    "tags": []
   },
   "outputs": [],
   "source": [
    "#Impoting functions from 'Kudzu'\n",
    "from kudzu.model import Model\n",
    "from kudzu.train import Learner\n",
    "from kudzu.optim import GD\n",
    "from kudzu.data import Data, Sampler,Dataloader\n",
    "\n",
    "from kudzu.callbacks import AccCallback\n",
    "from kudzu.callbacks import ClfCallback\n",
    "\n",
    "from kudzu.loss import MSE\n",
    "\n",
    "from kudzu.layer import Sigmoid,Relu\n",
    "from kudzu.layer import Affine"
   ]
  },
  {
   "cell_type": "markdown",
   "id": "bc01172a",
   "metadata": {
    "papermill": {
     "duration": 0.026521,
     "end_time": "2022-11-22T20:10:16.069347",
     "exception": false,
     "start_time": "2022-11-22T20:10:16.042826",
     "status": "completed"
    },
    "tags": []
   },
   "source": [
    "### Let us create a `Config` class, to store important parameters. \n",
    "This class essentially plays the role of a dictionary."
   ]
  },
  {
   "cell_type": "code",
   "execution_count": 16,
   "id": "978281aa",
   "metadata": {
    "execution": {
     "iopub.execute_input": "2022-11-22T20:10:16.125975Z",
     "iopub.status.busy": "2022-11-22T20:10:16.125355Z",
     "iopub.status.idle": "2022-11-22T20:10:16.138700Z",
     "shell.execute_reply": "2022-11-22T20:10:16.138231Z"
    },
    "papermill": {
     "duration": 0.043146,
     "end_time": "2022-11-22T20:10:16.138802",
     "exception": false,
     "start_time": "2022-11-22T20:10:16.095656",
     "status": "completed"
    },
    "tags": []
   },
   "outputs": [],
   "source": [
    "class Config:\n",
    "    pass\n",
    "config = Config()\n",
    "config.lr = 0.001\n",
    "config.num_epochs = 250\n",
    "config.bs = 50"
   ]
  },
  {
   "cell_type": "markdown",
   "id": "1385fa59",
   "metadata": {
    "papermill": {
     "duration": 0.026683,
     "end_time": "2022-11-22T20:10:16.191930",
     "exception": false,
     "start_time": "2022-11-22T20:10:16.165247",
     "status": "completed"
    },
    "tags": []
   },
   "source": [
    "### Running Models with the Training data\n",
    "Details about the network layers:\n",
    "- A first affine layer has 784 inputs and does 100 affine transforms. These are followed by a Relu\n",
    "- A second affine layer has 100 inputs from the 100 activations of the past layer, and does 100 affine transforms. These are followed by a Relu\n",
    "- A third affine layer has 100 activations and does 2 affine transformations to create an embedding for visualization. There is no non-linearity here.\n",
    "- A final \"logistic regression\" which has an affine transform from 2 inputs to 1 output, which is squeezed through a sigmoid.\n"
   ]
  },
  {
   "cell_type": "code",
   "execution_count": 17,
   "id": "2b9c66db",
   "metadata": {
    "execution": {
     "iopub.execute_input": "2022-11-22T20:10:16.252483Z",
     "iopub.status.busy": "2022-11-22T20:10:16.251905Z",
     "iopub.status.idle": "2022-11-22T20:10:16.262798Z",
     "shell.execute_reply": "2022-11-22T20:10:16.263335Z"
    },
    "papermill": {
     "duration": 0.045122,
     "end_time": "2022-11-22T20:10:16.263454",
     "exception": false,
     "start_time": "2022-11-22T20:10:16.218332",
     "status": "completed"
    },
    "tags": []
   },
   "outputs": [],
   "source": [
    "data = Data(X_train, y_train.reshape(-1,1))\n",
    "sampler = Sampler(data, config.bs, shuffle=True)\n",
    "\n",
    "dl = Dataloader(data, sampler)\n",
    "\n",
    "opt = GD(config.lr)\n",
    "loss = MSE()"
   ]
  },
  {
   "cell_type": "code",
   "execution_count": 18,
   "id": "b275e4c2",
   "metadata": {
    "execution": {
     "iopub.execute_input": "2022-11-22T20:10:16.320091Z",
     "iopub.status.busy": "2022-11-22T20:10:16.319510Z",
     "iopub.status.idle": "2022-11-22T20:10:16.332569Z",
     "shell.execute_reply": "2022-11-22T20:10:16.332007Z"
    },
    "papermill": {
     "duration": 0.042749,
     "end_time": "2022-11-22T20:10:16.332675",
     "exception": false,
     "start_time": "2022-11-22T20:10:16.289926",
     "status": "completed"
    },
    "tags": []
   },
   "outputs": [],
   "source": [
    "training_data_x = X_train\n",
    "testing_data_x = X_test\n",
    "training_data_y = y_train.reshape(-1,1)\n",
    "testing_data_y = y_test.reshape(-1,1)"
   ]
  },
  {
   "cell_type": "code",
   "execution_count": 19,
   "id": "76951160",
   "metadata": {
    "execution": {
     "iopub.execute_input": "2022-11-22T20:10:16.389609Z",
     "iopub.status.busy": "2022-11-22T20:10:16.389013Z",
     "iopub.status.idle": "2022-11-22T20:10:16.406598Z",
     "shell.execute_reply": "2022-11-22T20:10:16.406127Z"
    },
    "papermill": {
     "duration": 0.047764,
     "end_time": "2022-11-22T20:10:16.406700",
     "exception": false,
     "start_time": "2022-11-22T20:10:16.358936",
     "status": "completed"
    },
    "tags": []
   },
   "outputs": [
    {
     "name": "stdout",
     "output_type": "stream",
     "text": [
      "xavier\n",
      "xavier\n",
      "xavier\n",
      "xavier\n",
      "xavier\n"
     ]
    }
   ],
   "source": [
    "layers = [Affine(\"first\", 784, 100), Relu(\"first\"), Affine(\"second\", 100, 100), Relu(\"second\"), Affine(\"third\", 100, 2), Affine(\"last\", 2, 1), Sigmoid(\"last\")]\n",
    "model_nn = Model(layers)\n",
    "model_lr = Model([Affine(\"logits\", 784, 1), Sigmoid(\"sigmoid\")])"
   ]
  },
  {
   "cell_type": "code",
   "execution_count": 20,
   "id": "6eede77a",
   "metadata": {
    "execution": {
     "iopub.execute_input": "2022-11-22T20:10:16.468812Z",
     "iopub.status.busy": "2022-11-22T20:10:16.468233Z",
     "iopub.status.idle": "2022-11-22T20:10:16.478181Z",
     "shell.execute_reply": "2022-11-22T20:10:16.477608Z"
    },
    "papermill": {
     "duration": 0.044835,
     "end_time": "2022-11-22T20:10:16.478283",
     "exception": false,
     "start_time": "2022-11-22T20:10:16.433448",
     "status": "completed"
    },
    "tags": []
   },
   "outputs": [],
   "source": [
    "nn_learner = Learner(loss, model_nn, opt, config.num_epochs)\n",
    "acc_nn = ClfCallback(nn_learner, config.bs, training_data_x , testing_data_x, training_data_y, testing_data_y)\n",
    "nn_learner.set_callbacks([acc_nn])"
   ]
  },
  {
   "cell_type": "code",
   "execution_count": 21,
   "id": "877b6cc7",
   "metadata": {
    "execution": {
     "iopub.execute_input": "2022-11-22T20:10:16.538856Z",
     "iopub.status.busy": "2022-11-22T20:10:16.538293Z",
     "iopub.status.idle": "2022-11-22T20:10:16.548920Z",
     "shell.execute_reply": "2022-11-22T20:10:16.548359Z"
    },
    "papermill": {
     "duration": 0.043953,
     "end_time": "2022-11-22T20:10:16.549021",
     "exception": false,
     "start_time": "2022-11-22T20:10:16.505068",
     "status": "completed"
    },
    "tags": []
   },
   "outputs": [],
   "source": [
    "lr_learner = Learner(loss, model_lr, opt, config.num_epochs)\n",
    "acc_lr = ClfCallback(lr_learner, config.bs, training_data_x , testing_data_x, training_data_y, testing_data_y)\n",
    "lr_learner.set_callbacks([acc_lr])"
   ]
  },
  {
   "cell_type": "code",
   "execution_count": 22,
   "id": "d9b133c3",
   "metadata": {
    "execution": {
     "iopub.execute_input": "2022-11-22T20:10:16.605873Z",
     "iopub.status.busy": "2022-11-22T20:10:16.605264Z",
     "iopub.status.idle": "2022-11-22T20:11:32.961662Z",
     "shell.execute_reply": "2022-11-22T20:11:32.962508Z"
    },
    "papermill": {
     "duration": 76.386788,
     "end_time": "2022-11-22T20:11:32.962658",
     "exception": false,
     "start_time": "2022-11-22T20:10:16.575870",
     "status": "completed"
    },
    "tags": []
   },
   "outputs": [
    {
     "name": "stdout",
     "output_type": "stream",
     "text": [
      "Epoch 0, Loss 0.2195\n",
      "Training Accuracy: 0.7890, Testing Accuracy: 0.7888\n",
      "\n"
     ]
    },
    {
     "name": "stdout",
     "output_type": "stream",
     "text": [
      "Epoch 10, Loss 0.0745\n",
      "Training Accuracy: 0.9283, Testing Accuracy: 0.9385\n",
      "\n"
     ]
    },
    {
     "name": "stdout",
     "output_type": "stream",
     "text": [
      "Epoch 20, Loss 0.0493\n",
      "Training Accuracy: 0.9482, Testing Accuracy: 0.9561\n",
      "\n"
     ]
    },
    {
     "name": "stdout",
     "output_type": "stream",
     "text": [
      "Epoch 30, Loss 0.0403\n",
      "Training Accuracy: 0.9564, Testing Accuracy: 0.9637\n",
      "\n"
     ]
    },
    {
     "name": "stdout",
     "output_type": "stream",
     "text": [
      "Epoch 40, Loss 0.0357\n",
      "Training Accuracy: 0.9605, Testing Accuracy: 0.9677\n",
      "\n"
     ]
    },
    {
     "name": "stdout",
     "output_type": "stream",
     "text": [
      "Epoch 50, Loss 0.0327\n",
      "Training Accuracy: 0.9632, Testing Accuracy: 0.9682\n",
      "\n"
     ]
    },
    {
     "name": "stdout",
     "output_type": "stream",
     "text": [
      "Epoch 60, Loss 0.0307\n",
      "Training Accuracy: 0.9652, Testing Accuracy: 0.9672\n",
      "\n"
     ]
    },
    {
     "name": "stdout",
     "output_type": "stream",
     "text": [
      "Epoch 70, Loss 0.0291\n",
      "Training Accuracy: 0.9668, Testing Accuracy: 0.9677\n",
      "\n"
     ]
    },
    {
     "name": "stdout",
     "output_type": "stream",
     "text": [
      "Epoch 80, Loss 0.0278\n",
      "Training Accuracy: 0.9680, Testing Accuracy: 0.9672\n",
      "\n"
     ]
    },
    {
     "name": "stdout",
     "output_type": "stream",
     "text": [
      "Epoch 90, Loss 0.0268\n",
      "Training Accuracy: 0.9696, Testing Accuracy: 0.9693\n",
      "\n"
     ]
    },
    {
     "name": "stdout",
     "output_type": "stream",
     "text": [
      "Epoch 100, Loss 0.0259\n",
      "Training Accuracy: 0.9704, Testing Accuracy: 0.9698\n",
      "\n"
     ]
    },
    {
     "name": "stdout",
     "output_type": "stream",
     "text": [
      "Epoch 110, Loss 0.0251\n",
      "Training Accuracy: 0.9712, Testing Accuracy: 0.9703\n",
      "\n"
     ]
    },
    {
     "name": "stdout",
     "output_type": "stream",
     "text": [
      "Epoch 120, Loss 0.0244\n",
      "Training Accuracy: 0.9719, Testing Accuracy: 0.9688\n",
      "\n"
     ]
    },
    {
     "name": "stdout",
     "output_type": "stream",
     "text": [
      "Epoch 130, Loss 0.0237\n",
      "Training Accuracy: 0.9730, Testing Accuracy: 0.9693\n",
      "\n"
     ]
    },
    {
     "name": "stdout",
     "output_type": "stream",
     "text": [
      "Epoch 140, Loss 0.0231\n",
      "Training Accuracy: 0.9738, Testing Accuracy: 0.9698\n",
      "\n"
     ]
    },
    {
     "name": "stdout",
     "output_type": "stream",
     "text": [
      "Epoch 150, Loss 0.0226\n",
      "Training Accuracy: 0.9744, Testing Accuracy: 0.9708\n",
      "\n"
     ]
    },
    {
     "name": "stdout",
     "output_type": "stream",
     "text": [
      "Epoch 160, Loss 0.0221\n",
      "Training Accuracy: 0.9751, Testing Accuracy: 0.9708\n",
      "\n"
     ]
    },
    {
     "name": "stdout",
     "output_type": "stream",
     "text": [
      "Epoch 170, Loss 0.0216\n",
      "Training Accuracy: 0.9753, Testing Accuracy: 0.9713\n",
      "\n"
     ]
    },
    {
     "name": "stdout",
     "output_type": "stream",
     "text": [
      "Epoch 180, Loss 0.0212\n",
      "Training Accuracy: 0.9758, Testing Accuracy: 0.9713\n",
      "\n"
     ]
    },
    {
     "name": "stdout",
     "output_type": "stream",
     "text": [
      "Epoch 190, Loss 0.0208\n",
      "Training Accuracy: 0.9765, Testing Accuracy: 0.9713\n",
      "\n"
     ]
    },
    {
     "name": "stdout",
     "output_type": "stream",
     "text": [
      "Epoch 200, Loss 0.0203\n",
      "Training Accuracy: 0.9771, Testing Accuracy: 0.9723\n",
      "\n"
     ]
    },
    {
     "name": "stdout",
     "output_type": "stream",
     "text": [
      "Epoch 210, Loss 0.02\n",
      "Training Accuracy: 0.9775, Testing Accuracy: 0.9723\n",
      "\n"
     ]
    },
    {
     "name": "stdout",
     "output_type": "stream",
     "text": [
      "Epoch 220, Loss 0.0196\n",
      "Training Accuracy: 0.9781, Testing Accuracy: 0.9728\n",
      "\n"
     ]
    },
    {
     "name": "stdout",
     "output_type": "stream",
     "text": [
      "Epoch 230, Loss 0.0192\n",
      "Training Accuracy: 0.9783, Testing Accuracy: 0.9738\n",
      "\n"
     ]
    },
    {
     "name": "stdout",
     "output_type": "stream",
     "text": [
      "Epoch 240, Loss 0.0189\n",
      "Training Accuracy: 0.9790, Testing Accuracy: 0.9733\n",
      "\n"
     ]
    },
    {
     "data": {
      "text/plain": [
       "0.008236252554386007"
      ]
     },
     "execution_count": 22,
     "metadata": {},
     "output_type": "execute_result"
    }
   ],
   "source": [
    "nn_learner.train_loop(dl)"
   ]
  },
  {
   "cell_type": "code",
   "execution_count": 23,
   "id": "e0163366",
   "metadata": {
    "execution": {
     "iopub.execute_input": "2022-11-22T20:11:33.043020Z",
     "iopub.status.busy": "2022-11-22T20:11:33.042442Z",
     "iopub.status.idle": "2022-11-22T20:11:46.821820Z",
     "shell.execute_reply": "2022-11-22T20:11:46.822680Z"
    },
    "papermill": {
     "duration": 13.825888,
     "end_time": "2022-11-22T20:11:46.822840",
     "exception": false,
     "start_time": "2022-11-22T20:11:32.996952",
     "status": "completed"
    },
    "tags": []
   },
   "outputs": [
    {
     "name": "stdout",
     "output_type": "stream",
     "text": [
      "Epoch 0, Loss 0.2279\n",
      "Training Accuracy: 0.7420, Testing Accuracy: 0.7581\n",
      "\n"
     ]
    },
    {
     "name": "stdout",
     "output_type": "stream",
     "text": [
      "Epoch 10, Loss 0.1031\n",
      "Training Accuracy: 0.9074, Testing Accuracy: 0.9189\n",
      "\n"
     ]
    },
    {
     "name": "stdout",
     "output_type": "stream",
     "text": [
      "Epoch 20, Loss 0.0796\n",
      "Training Accuracy: 0.9265, Testing Accuracy: 0.9410\n",
      "\n"
     ]
    },
    {
     "name": "stdout",
     "output_type": "stream",
     "text": [
      "Epoch 30, Loss 0.0685\n",
      "Training Accuracy: 0.9359, Testing Accuracy: 0.9491\n",
      "\n"
     ]
    },
    {
     "name": "stdout",
     "output_type": "stream",
     "text": [
      "Epoch 40, Loss 0.0619\n",
      "Training Accuracy: 0.9416, Testing Accuracy: 0.9531\n",
      "\n"
     ]
    },
    {
     "name": "stdout",
     "output_type": "stream",
     "text": [
      "Epoch 50, Loss 0.0573\n",
      "Training Accuracy: 0.9449, Testing Accuracy: 0.9546\n",
      "\n"
     ]
    },
    {
     "name": "stdout",
     "output_type": "stream",
     "text": [
      "Epoch 60, Loss 0.054\n",
      "Training Accuracy: 0.9468, Testing Accuracy: 0.9577\n",
      "\n"
     ]
    },
    {
     "name": "stdout",
     "output_type": "stream",
     "text": [
      "Epoch 70, Loss 0.0514\n",
      "Training Accuracy: 0.9483, Testing Accuracy: 0.9587\n",
      "\n"
     ]
    },
    {
     "name": "stdout",
     "output_type": "stream",
     "text": [
      "Epoch 80, Loss 0.0494\n",
      "Training Accuracy: 0.9500, Testing Accuracy: 0.9592\n",
      "\n"
     ]
    },
    {
     "name": "stdout",
     "output_type": "stream",
     "text": [
      "Epoch 90, Loss 0.0477\n",
      "Training Accuracy: 0.9509, Testing Accuracy: 0.9602\n",
      "\n"
     ]
    },
    {
     "name": "stdout",
     "output_type": "stream",
     "text": [
      "Epoch 100, Loss 0.0462\n",
      "Training Accuracy: 0.9519, Testing Accuracy: 0.9612\n",
      "\n"
     ]
    },
    {
     "name": "stdout",
     "output_type": "stream",
     "text": [
      "Epoch 110, Loss 0.045\n",
      "Training Accuracy: 0.9528, Testing Accuracy: 0.9627\n",
      "\n"
     ]
    },
    {
     "name": "stdout",
     "output_type": "stream",
     "text": [
      "Epoch 120, Loss 0.044\n",
      "Training Accuracy: 0.9539, Testing Accuracy: 0.9627\n",
      "\n"
     ]
    },
    {
     "name": "stdout",
     "output_type": "stream",
     "text": [
      "Epoch 130, Loss 0.043\n",
      "Training Accuracy: 0.9548, Testing Accuracy: 0.9632\n",
      "\n"
     ]
    },
    {
     "name": "stdout",
     "output_type": "stream",
     "text": [
      "Epoch 140, Loss 0.0422\n",
      "Training Accuracy: 0.9558, Testing Accuracy: 0.9642\n",
      "\n"
     ]
    },
    {
     "name": "stdout",
     "output_type": "stream",
     "text": [
      "Epoch 150, Loss 0.0415\n",
      "Training Accuracy: 0.9566, Testing Accuracy: 0.9647\n",
      "\n"
     ]
    },
    {
     "name": "stdout",
     "output_type": "stream",
     "text": [
      "Epoch 160, Loss 0.0408\n",
      "Training Accuracy: 0.9570, Testing Accuracy: 0.9652\n",
      "\n"
     ]
    },
    {
     "name": "stdout",
     "output_type": "stream",
     "text": [
      "Epoch 170, Loss 0.0402\n",
      "Training Accuracy: 0.9579, Testing Accuracy: 0.9652\n",
      "\n"
     ]
    },
    {
     "name": "stdout",
     "output_type": "stream",
     "text": [
      "Epoch 180, Loss 0.0396\n",
      "Training Accuracy: 0.9583, Testing Accuracy: 0.9652\n",
      "\n"
     ]
    },
    {
     "name": "stdout",
     "output_type": "stream",
     "text": [
      "Epoch 190, Loss 0.0391\n",
      "Training Accuracy: 0.9586, Testing Accuracy: 0.9652\n",
      "\n"
     ]
    },
    {
     "name": "stdout",
     "output_type": "stream",
     "text": [
      "Epoch 200, Loss 0.0386\n",
      "Training Accuracy: 0.9589, Testing Accuracy: 0.9662\n",
      "\n"
     ]
    },
    {
     "name": "stdout",
     "output_type": "stream",
     "text": [
      "Epoch 210, Loss 0.0382\n",
      "Training Accuracy: 0.9594, Testing Accuracy: 0.9667\n",
      "\n"
     ]
    },
    {
     "name": "stdout",
     "output_type": "stream",
     "text": [
      "Epoch 220, Loss 0.0378\n",
      "Training Accuracy: 0.9598, Testing Accuracy: 0.9667\n",
      "\n"
     ]
    },
    {
     "name": "stdout",
     "output_type": "stream",
     "text": [
      "Epoch 230, Loss 0.0374\n",
      "Training Accuracy: 0.9599, Testing Accuracy: 0.9667\n",
      "\n"
     ]
    },
    {
     "name": "stdout",
     "output_type": "stream",
     "text": [
      "Epoch 240, Loss 0.037\n",
      "Training Accuracy: 0.9604, Testing Accuracy: 0.9672\n",
      "\n"
     ]
    },
    {
     "data": {
      "text/plain": [
       "0.04869862633139"
      ]
     },
     "execution_count": 23,
     "metadata": {},
     "output_type": "execute_result"
    }
   ],
   "source": [
    "lr_learner.train_loop(dl)"
   ]
  },
  {
   "cell_type": "code",
   "execution_count": 24,
   "id": "ca410940",
   "metadata": {
    "execution": {
     "iopub.execute_input": "2022-11-22T20:11:46.915280Z",
     "iopub.status.busy": "2022-11-22T20:11:46.914667Z",
     "iopub.status.idle": "2022-11-22T20:11:47.143230Z",
     "shell.execute_reply": "2022-11-22T20:11:47.142419Z"
    },
    "papermill": {
     "duration": 0.279274,
     "end_time": "2022-11-22T20:11:47.143365",
     "exception": false,
     "start_time": "2022-11-22T20:11:46.864091",
     "status": "completed"
    },
    "tags": []
   },
   "outputs": [
    {
     "data": {
      "text/plain": [
       "<matplotlib.legend.Legend at 0x7f285b4df358>"
      ]
     },
     "execution_count": 24,
     "metadata": {},
     "output_type": "execute_result"
    },
    {
     "data": {
      "image/png": "[encoded data removed]",
      "text/plain": [
       "<Figure size 1080x720 with 1 Axes>"
      ]
     },
     "metadata": {
      "needs_background": "light"
     },
     "output_type": "display_data"
    }
   ],
   "source": [
    "#comparing the results of NN and LR\n",
    "plt.figure(figsize=(15,10))\n",
    "\n",
    "# Neural Network plots\n",
    "plt.plot(acc_nn.accuracies, 'r-', label = \"Training Accuracies - NN\")\n",
    "plt.plot(acc_nn.test_accuracies, 'g-', label = \"Testing Accuracies - NN\")\n",
    "\n",
    "# Logistic Regression plots\n",
    "plt.plot(acc_lr.accuracies, 'k-', label = \"Training Accuracies - LR\")\n",
    "plt.plot(acc_lr.test_accuracies, 'b-', label = \"Testing Accuracies - LR\")\n",
    "plt.legend()"
   ]
  },
  {
   "cell_type": "markdown",
   "id": "80dfb35c",
   "metadata": {
    "papermill": {
     "duration": 0.041712,
     "end_time": "2022-11-22T20:11:47.227697",
     "exception": false,
     "start_time": "2022-11-22T20:11:47.185985",
     "status": "completed"
    },
    "tags": []
   },
   "source": [
    "#### Plotting the outputs of this layer of the NN.\n"
   ]
  },
  {
   "cell_type": "code",
   "execution_count": 25,
   "id": "45eb2ff5",
   "metadata": {
    "execution": {
     "iopub.execute_input": "2022-11-22T20:11:47.327671Z",
     "iopub.status.busy": "2022-11-22T20:11:47.326554Z",
     "iopub.status.idle": "2022-11-22T20:11:47.341740Z",
     "shell.execute_reply": "2022-11-22T20:11:47.341213Z"
    },
    "papermill": {
     "duration": 0.072335,
     "end_time": "2022-11-22T20:11:47.341863",
     "exception": false,
     "start_time": "2022-11-22T20:11:47.269528",
     "status": "completed"
    },
    "tags": []
   },
   "outputs": [],
   "source": [
    "new_model = Model(layers[:-2])\n",
    "testing_plot = new_model(testing_data_x)"
   ]
  },
  {
   "cell_type": "code",
   "execution_count": 26,
   "id": "4c0a5485",
   "metadata": {
    "execution": {
     "iopub.execute_input": "2022-11-22T20:11:47.441653Z",
     "iopub.status.busy": "2022-11-22T20:11:47.431921Z",
     "iopub.status.idle": "2022-11-22T20:11:47.616319Z",
     "shell.execute_reply": "2022-11-22T20:11:47.617102Z"
    },
    "papermill": {
     "duration": 0.23261,
     "end_time": "2022-11-22T20:11:47.617259",
     "exception": false,
     "start_time": "2022-11-22T20:11:47.384649",
     "status": "completed"
    },
    "tags": []
   },
   "outputs": [
    {
     "data": {
      "text/plain": [
       "Text(0.5, 1.0, 'Outputs')"
      ]
     },
     "execution_count": 26,
     "metadata": {},
     "output_type": "execute_result"
    },
    {
     "data": {
      "image/png": "[encoded data removed]",
      "text/plain": [
       "<Figure size 576x504 with 1 Axes>"
      ]
     },
     "metadata": {
      "needs_background": "light"
     },
     "output_type": "display_data"
    }
   ],
   "source": [
    "# Plotting the scatter plot of points and color coding by class\n",
    "plt.figure(figsize=(8,7))\n",
    "plt.scatter(testing_plot[:,0], testing_plot[:,1], alpha = 0.1, c = y_test.ravel());\n",
    "plt.title('Outputs')"
   ]
  },
  {
   "cell_type": "markdown",
   "id": "a74fcf8f",
   "metadata": {
    "papermill": {
     "duration": 0.04344,
     "end_time": "2022-11-22T20:11:47.704551",
     "exception": false,
     "start_time": "2022-11-22T20:11:47.661111",
     "status": "completed"
    },
    "tags": []
   },
   "source": [
    "Probability contours"
   ]
  },
  {
   "cell_type": "code",
   "execution_count": 27,
   "id": "d0afc8e3",
   "metadata": {
    "execution": {
     "iopub.execute_input": "2022-11-22T20:11:47.805523Z",
     "iopub.status.busy": "2022-11-22T20:11:47.804608Z",
     "iopub.status.idle": "2022-11-22T20:11:47.811428Z",
     "shell.execute_reply": "2022-11-22T20:11:47.811874Z"
    },
    "papermill": {
     "duration": 0.063742,
     "end_time": "2022-11-22T20:11:47.812002",
     "exception": false,
     "start_time": "2022-11-22T20:11:47.748260",
     "status": "completed"
    },
    "tags": []
   },
   "outputs": [],
   "source": [
    "model_prob = Model(layers[-2:]) "
   ]
  },
  {
   "cell_type": "code",
   "execution_count": 28,
   "id": "9b96e238",
   "metadata": {
    "execution": {
     "iopub.execute_input": "2022-11-22T20:11:47.907385Z",
     "iopub.status.busy": "2022-11-22T20:11:47.906390Z",
     "iopub.status.idle": "2022-11-22T20:11:47.920699Z",
     "shell.execute_reply": "2022-11-22T20:11:47.920139Z"
    },
    "papermill": {
     "duration": 0.065336,
     "end_time": "2022-11-22T20:11:47.920807",
     "exception": false,
     "start_time": "2022-11-22T20:11:47.855471",
     "status": "completed"
    },
    "tags": []
   },
   "outputs": [],
   "source": [
    "#creating the x and y ranges according to the above generated plot.\n",
    "x_range = np.linspace(-4, 1, 100) \n",
    "y_range = np.linspace(-6, 6, 100) \n",
    "x_grid, y_grid = np.meshgrid(x_range, y_range) # x_grid and y_grig are of size 100 X 100\n",
    "\n",
    "# converting x_grid and y_grid to continuous arrays\n",
    "x_gridflat = np.ravel(x_grid)\n",
    "y_gridflat = np.ravel(y_grid)\n",
    "\n",
    "# The last layer of the current model takes two columns as input. Hence transpose of np.vstack() is required.\n",
    "X = np.vstack((x_gridflat, y_gridflat)).T\n",
    "\n",
    "prob_contour = model_prob(X).reshape(100,100) "
   ]
  },
  {
   "cell_type": "code",
   "execution_count": 29,
   "id": "da72499a",
   "metadata": {
    "execution": {
     "iopub.execute_input": "2022-11-22T20:11:48.063327Z",
     "iopub.status.busy": "2022-11-22T20:11:48.062393Z",
     "iopub.status.idle": "2022-11-22T20:11:48.298830Z",
     "shell.execute_reply": "2022-11-22T20:11:48.299347Z"
    },
    "papermill": {
     "duration": 0.296275,
     "end_time": "2022-11-22T20:11:48.299502",
     "exception": false,
     "start_time": "2022-11-22T20:11:48.003227",
     "status": "completed"
    },
    "tags": []
   },
   "outputs": [
    {
     "data": {
      "image/png": "[encoded data removed]",
      "text/plain": [
       "<Figure size 720x648 with 1 Axes>"
      ]
     },
     "metadata": {
      "needs_background": "light"
     },
     "output_type": "display_data"
    }
   ],
   "source": [
    "plt.figure(figsize=(10,9))\n",
    "plt.scatter(testing_plot[:,0], testing_plot[:,1], alpha = 0.1, c = y_test.ravel())\n",
    "contours = plt.contour(x_grid,y_grid,prob_contour)\n",
    "plt.title('Probability Contours')\n",
    "plt.clabel(contours, inline = True );"
   ]
  },
  {
   "cell_type": "code",
   "execution_count": null,
   "id": "e81b4ac7",
   "metadata": {
    "papermill": {
     "duration": 0.046172,
     "end_time": "2022-11-22T20:11:48.392827",
     "exception": false,
     "start_time": "2022-11-22T20:11:48.346655",
     "status": "completed"
    },
    "tags": []
   },
   "outputs": [],
   "source": []
  }
 ],
 "metadata": {
  "kernelspec": {
   "display_name": "Python 3",
   "language": "python",
   "name": "python3"
  },
  "language_info": {
   "codemirror_mode": {
    "name": "ipython",
    "version": 3
   },
   "file_extension": ".py",
   "mimetype": "text/x-python",
   "name": "python",
   "nbconvert_exporter": "python",
   "pygments_lexer": "ipython3",
   "version": "3.6.15"
  },
  "papermill": {
   "default_parameters": {},
   "duration": 98.241566,
   "end_time": "2022-11-22T20:11:48.858032",
   "environment_variables": {},
   "exception": null,
   "input_path": "2020-08-11-part2.ipynb",
   "output_path": "2020-08-11-part2.ipynb",
   "parameters": {},
   "start_time": "2022-11-22T20:10:10.616466",
   "version": "2.3.3"
  }
 },
 "nbformat": 4,
 "nbformat_minor": 5
}