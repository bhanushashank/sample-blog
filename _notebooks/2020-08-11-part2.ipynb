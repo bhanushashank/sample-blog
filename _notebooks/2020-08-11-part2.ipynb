{
 "cells": [
  {
   "cell_type": "markdown",
   "id": "98380cd3",
   "metadata": {
    "papermill": {
     "duration": 0.038285,
     "end_time": "2022-02-05T20:07:47.910504",
     "exception": false,
     "start_time": "2022-02-05T20:07:47.872219",
     "status": "completed"
    },
    "tags": []
   },
   "source": [
    "# Distinguish Your Own Digits (DYOD)"
   ]
  },
  {
   "cell_type": "markdown",
   "id": "ef31240d",
   "metadata": {
    "papermill": {
     "duration": 0.026516,
     "end_time": "2022-02-05T20:07:47.964724",
     "exception": false,
     "start_time": "2022-02-05T20:07:47.938208",
     "status": "completed"
    },
    "tags": []
   },
   "source": [
    "You are going to write a classifier that distinguishes between the number 3 and number 8."
   ]
  },
  {
   "cell_type": "code",
   "execution_count": 1,
   "id": "b15c8646",
   "metadata": {
    "execution": {
     "iopub.execute_input": "2022-02-05T20:07:48.031113Z",
     "iopub.status.busy": "2022-02-05T20:07:48.030499Z",
     "iopub.status.idle": "2022-02-05T20:07:48.042076Z",
     "shell.execute_reply": "2022-02-05T20:07:48.041554Z"
    },
    "papermill": {
     "duration": 0.05091,
     "end_time": "2022-02-05T20:07:48.042215",
     "exception": false,
     "start_time": "2022-02-05T20:07:47.991305",
     "status": "completed"
    },
    "tags": []
   },
   "outputs": [],
   "source": [
    "%load_ext autoreload\n",
    "%autoreload 2"
   ]
  },
  {
   "cell_type": "code",
   "execution_count": 2,
   "id": "22ef38dc",
   "metadata": {
    "execution": {
     "iopub.execute_input": "2022-02-05T20:07:48.101992Z",
     "iopub.status.busy": "2022-02-05T20:07:48.101391Z",
     "iopub.status.idle": "2022-02-05T20:07:48.761332Z",
     "shell.execute_reply": "2022-02-05T20:07:48.760349Z"
    },
    "papermill": {
     "duration": 0.692263,
     "end_time": "2022-02-05T20:07:48.761486",
     "exception": false,
     "start_time": "2022-02-05T20:07:48.069223",
     "status": "completed"
    },
    "tags": []
   },
   "outputs": [],
   "source": [
    "%matplotlib inline\n",
    "import numpy as np\n",
    "import matplotlib.pyplot as plt\n",
    "import pandas as pd"
   ]
  },
  {
   "cell_type": "markdown",
   "id": "ba036198",
   "metadata": {
    "papermill": {
     "duration": 0.027364,
     "end_time": "2022-02-05T20:07:48.816078",
     "exception": false,
     "start_time": "2022-02-05T20:07:48.788714",
     "status": "completed"
    },
    "tags": []
   },
   "source": [
    "From the command line run `pip install mnist`. This is a library that will help you bring down the mnist dataset. If you run this from a notebook, you need to put  `!pip install mnist` in a cell by itself."
   ]
  },
  {
   "cell_type": "code",
   "execution_count": 3,
   "id": "bb6ad8a1",
   "metadata": {
    "execution": {
     "iopub.execute_input": "2022-02-05T20:07:48.876108Z",
     "iopub.status.busy": "2022-02-05T20:07:48.875507Z",
     "iopub.status.idle": "2022-02-05T20:07:50.898889Z",
     "shell.execute_reply": "2022-02-05T20:07:50.898350Z"
    },
    "papermill": {
     "duration": 2.056245,
     "end_time": "2022-02-05T20:07:50.899023",
     "exception": false,
     "start_time": "2022-02-05T20:07:48.842778",
     "status": "completed"
    },
    "tags": []
   },
   "outputs": [
    {
     "name": "stdout",
     "output_type": "stream",
     "text": [
      "Collecting mnist\r\n"
     ]
    },
    {
     "name": "stdout",
     "output_type": "stream",
     "text": [
      "  Downloading mnist-0.2.2-py2.py3-none-any.whl (3.5 kB)\r\n",
      "Requirement already satisfied: numpy in /opt/hostedtoolcache/Python/3.6.15/x64/lib/python3.6/site-packages (from mnist) (1.19.5)\r\n"
     ]
    },
    {
     "name": "stdout",
     "output_type": "stream",
     "text": [
      "Installing collected packages: mnist\r\n",
      "Successfully installed mnist-0.2.2\r\n"
     ]
    }
   ],
   "source": [
    "!pip install mnist"
   ]
  },
  {
   "cell_type": "markdown",
   "id": "69df9c9a",
   "metadata": {
    "papermill": {
     "duration": 0.027597,
     "end_time": "2022-02-05T20:07:50.954773",
     "exception": false,
     "start_time": "2022-02-05T20:07:50.927176",
     "status": "completed"
    },
    "tags": []
   },
   "source": [
    "## Preparing the Data"
   ]
  },
  {
   "cell_type": "code",
   "execution_count": 4,
   "id": "7f69d806",
   "metadata": {
    "execution": {
     "iopub.execute_input": "2022-02-05T20:07:51.020818Z",
     "iopub.status.busy": "2022-02-05T20:07:51.014562Z",
     "iopub.status.idle": "2022-02-05T20:07:51.032803Z",
     "shell.execute_reply": "2022-02-05T20:07:51.032295Z"
    },
    "papermill": {
     "duration": 0.050623,
     "end_time": "2022-02-05T20:07:51.032930",
     "exception": false,
     "start_time": "2022-02-05T20:07:50.982307",
     "status": "completed"
    },
    "tags": []
   },
   "outputs": [],
   "source": [
    "import mnist"
   ]
  },
  {
   "cell_type": "code",
   "execution_count": 5,
   "id": "a411e44f",
   "metadata": {
    "execution": {
     "iopub.execute_input": "2022-02-05T20:07:51.093484Z",
     "iopub.status.busy": "2022-02-05T20:07:51.092886Z",
     "iopub.status.idle": "2022-02-05T20:07:51.709775Z",
     "shell.execute_reply": "2022-02-05T20:07:51.709209Z"
    },
    "papermill": {
     "duration": 0.649507,
     "end_time": "2022-02-05T20:07:51.709924",
     "exception": false,
     "start_time": "2022-02-05T20:07:51.060417",
     "status": "completed"
    },
    "tags": []
   },
   "outputs": [],
   "source": [
    "train_images = mnist.train_images()\n",
    "train_labels = mnist.train_labels()"
   ]
  },
  {
   "cell_type": "code",
   "execution_count": 6,
   "id": "dceab3a5",
   "metadata": {
    "execution": {
     "iopub.execute_input": "2022-02-05T20:07:51.770391Z",
     "iopub.status.busy": "2022-02-05T20:07:51.769823Z",
     "iopub.status.idle": "2022-02-05T20:07:51.785694Z",
     "shell.execute_reply": "2022-02-05T20:07:51.785229Z"
    },
    "papermill": {
     "duration": 0.047577,
     "end_time": "2022-02-05T20:07:51.785816",
     "exception": false,
     "start_time": "2022-02-05T20:07:51.738239",
     "status": "completed"
    },
    "tags": []
   },
   "outputs": [
    {
     "data": {
      "text/plain": [
       "((60000, 28, 28), (60000,))"
      ]
     },
     "execution_count": 6,
     "metadata": {},
     "output_type": "execute_result"
    }
   ],
   "source": [
    "train_images.shape, train_labels.shape"
   ]
  },
  {
   "cell_type": "code",
   "execution_count": 7,
   "id": "f50dc2bb",
   "metadata": {
    "execution": {
     "iopub.execute_input": "2022-02-05T20:07:51.845353Z",
     "iopub.status.busy": "2022-02-05T20:07:51.844767Z",
     "iopub.status.idle": "2022-02-05T20:07:52.062229Z",
     "shell.execute_reply": "2022-02-05T20:07:52.061699Z"
    },
    "papermill": {
     "duration": 0.248838,
     "end_time": "2022-02-05T20:07:52.062376",
     "exception": false,
     "start_time": "2022-02-05T20:07:51.813538",
     "status": "completed"
    },
    "tags": []
   },
   "outputs": [],
   "source": [
    "test_images = mnist.test_images()\n",
    "test_labels = mnist.test_labels()"
   ]
  },
  {
   "cell_type": "code",
   "execution_count": 8,
   "id": "fc38cf1b",
   "metadata": {
    "execution": {
     "iopub.execute_input": "2022-02-05T20:07:52.124222Z",
     "iopub.status.busy": "2022-02-05T20:07:52.123083Z",
     "iopub.status.idle": "2022-02-05T20:07:52.138943Z",
     "shell.execute_reply": "2022-02-05T20:07:52.139443Z"
    },
    "papermill": {
     "duration": 0.048637,
     "end_time": "2022-02-05T20:07:52.139586",
     "exception": false,
     "start_time": "2022-02-05T20:07:52.090949",
     "status": "completed"
    },
    "tags": []
   },
   "outputs": [
    {
     "data": {
      "text/plain": [
       "((10000, 28, 28), (10000,))"
      ]
     },
     "execution_count": 8,
     "metadata": {},
     "output_type": "execute_result"
    }
   ],
   "source": [
    "test_images.shape, test_labels.shape"
   ]
  },
  {
   "cell_type": "code",
   "execution_count": 9,
   "id": "f9ed8fe0",
   "metadata": {
    "execution": {
     "iopub.execute_input": "2022-02-05T20:07:52.202510Z",
     "iopub.status.busy": "2022-02-05T20:07:52.201478Z",
     "iopub.status.idle": "2022-02-05T20:07:52.358472Z",
     "shell.execute_reply": "2022-02-05T20:07:52.359043Z"
    },
    "papermill": {
     "duration": 0.19107,
     "end_time": "2022-02-05T20:07:52.359216",
     "exception": false,
     "start_time": "2022-02-05T20:07:52.168146",
     "status": "completed"
    },
    "tags": []
   },
   "outputs": [
    {
     "name": "stdout",
     "output_type": "stream",
     "text": [
      "2\n"
     ]
    },
    {
     "data": {
      "text/plain": [
       "<matplotlib.image.AxesImage at 0x7f4c08764cc0>"
      ]
     },
     "execution_count": 9,
     "metadata": {},
     "output_type": "execute_result"
    },
    {
     "data": {
      "image/png": "[encoded data removed]",
      "text/plain": [
       "<Figure size 432x288 with 1 Axes>"
      ]
     },
     "metadata": {
      "needs_background": "light"
     },
     "output_type": "display_data"
    }
   ],
   "source": [
    "image_index = 7776 # You may select anything up to 60,000\n",
    "print(train_labels[image_index]) \n",
    "plt.imshow(train_images[image_index], cmap='Greys')"
   ]
  },
  {
   "cell_type": "markdown",
   "id": "a8d2388d",
   "metadata": {
    "papermill": {
     "duration": 0.029419,
     "end_time": "2022-02-05T20:07:52.419154",
     "exception": false,
     "start_time": "2022-02-05T20:07:52.389735",
     "status": "completed"
    },
    "tags": []
   },
   "source": [
    "## Filter data to get 3 and 8 out"
   ]
  },
  {
   "cell_type": "code",
   "execution_count": 10,
   "id": "776f7fc7",
   "metadata": {
    "execution": {
     "iopub.execute_input": "2022-02-05T20:07:52.485387Z",
     "iopub.status.busy": "2022-02-05T20:07:52.484780Z",
     "iopub.status.idle": "2022-02-05T20:07:52.505203Z",
     "shell.execute_reply": "2022-02-05T20:07:52.505759Z"
    },
    "papermill": {
     "duration": 0.057182,
     "end_time": "2022-02-05T20:07:52.505932",
     "exception": false,
     "start_time": "2022-02-05T20:07:52.448750",
     "status": "completed"
    },
    "tags": []
   },
   "outputs": [],
   "source": [
    "train_filter = np.where((train_labels == 3 ) | (train_labels == 8))\n",
    "test_filter = np.where((test_labels == 3) | (test_labels == 8))\n",
    "X_train, y_train = train_images[train_filter], train_labels[train_filter]\n",
    "X_test, y_test = test_images[test_filter], test_labels[test_filter]"
   ]
  },
  {
   "cell_type": "markdown",
   "id": "948f0b7e",
   "metadata": {
    "papermill": {
     "duration": 0.030644,
     "end_time": "2022-02-05T20:07:52.566095",
     "exception": false,
     "start_time": "2022-02-05T20:07:52.535451",
     "status": "completed"
    },
    "tags": []
   },
   "source": [
    "We normalize the pizel values in the 0 to 1 range"
   ]
  },
  {
   "cell_type": "code",
   "execution_count": 11,
   "id": "ee4c2166",
   "metadata": {
    "execution": {
     "iopub.execute_input": "2022-02-05T20:07:52.629489Z",
     "iopub.status.busy": "2022-02-05T20:07:52.628619Z",
     "iopub.status.idle": "2022-02-05T20:07:52.681825Z",
     "shell.execute_reply": "2022-02-05T20:07:52.681261Z"
    },
    "papermill": {
     "duration": 0.086509,
     "end_time": "2022-02-05T20:07:52.681956",
     "exception": false,
     "start_time": "2022-02-05T20:07:52.595447",
     "status": "completed"
    },
    "tags": []
   },
   "outputs": [],
   "source": [
    "X_train = X_train/255.\n",
    "X_test = X_test/255."
   ]
  },
  {
   "cell_type": "markdown",
   "id": "ddcf4fab",
   "metadata": {
    "papermill": {
     "duration": 0.029505,
     "end_time": "2022-02-05T20:07:52.741157",
     "exception": false,
     "start_time": "2022-02-05T20:07:52.711652",
     "status": "completed"
    },
    "tags": []
   },
   "source": [
    "And setup the labels as 1 (when the digit is 3) and 0 (when the digit is 8)"
   ]
  },
  {
   "cell_type": "code",
   "execution_count": 12,
   "id": "7dc908f2",
   "metadata": {
    "execution": {
     "iopub.execute_input": "2022-02-05T20:07:52.804514Z",
     "iopub.status.busy": "2022-02-05T20:07:52.803931Z",
     "iopub.status.idle": "2022-02-05T20:07:52.817447Z",
     "shell.execute_reply": "2022-02-05T20:07:52.816939Z"
    },
    "papermill": {
     "duration": 0.047077,
     "end_time": "2022-02-05T20:07:52.817576",
     "exception": false,
     "start_time": "2022-02-05T20:07:52.770499",
     "status": "completed"
    },
    "tags": []
   },
   "outputs": [],
   "source": [
    "y_train = 1*(y_train==3)\n",
    "y_test = 1*(y_test==3)"
   ]
  },
  {
   "cell_type": "code",
   "execution_count": 13,
   "id": "01e4e969",
   "metadata": {
    "execution": {
     "iopub.execute_input": "2022-02-05T20:07:52.881702Z",
     "iopub.status.busy": "2022-02-05T20:07:52.881101Z",
     "iopub.status.idle": "2022-02-05T20:07:52.897292Z",
     "shell.execute_reply": "2022-02-05T20:07:52.896787Z"
    },
    "papermill": {
     "duration": 0.050484,
     "end_time": "2022-02-05T20:07:52.897412",
     "exception": false,
     "start_time": "2022-02-05T20:07:52.846928",
     "status": "completed"
    },
    "tags": []
   },
   "outputs": [
    {
     "data": {
      "text/plain": [
       "((11982, 28, 28), (1984, 28, 28))"
      ]
     },
     "execution_count": 13,
     "metadata": {},
     "output_type": "execute_result"
    }
   ],
   "source": [
    "X_train.shape, X_test.shape"
   ]
  },
  {
   "cell_type": "markdown",
   "id": "5ccf3f85",
   "metadata": {
    "papermill": {
     "duration": 0.029172,
     "end_time": "2022-02-05T20:07:52.956039",
     "exception": false,
     "start_time": "2022-02-05T20:07:52.926867",
     "status": "completed"
    },
    "tags": []
   },
   "source": [
    "We reshape the data to flatten the image pixels into a set of features or co-variates:"
   ]
  },
  {
   "cell_type": "code",
   "execution_count": 14,
   "id": "5286a4a3",
   "metadata": {
    "execution": {
     "iopub.execute_input": "2022-02-05T20:07:53.019853Z",
     "iopub.status.busy": "2022-02-05T20:07:53.019259Z",
     "iopub.status.idle": "2022-02-05T20:07:53.035583Z",
     "shell.execute_reply": "2022-02-05T20:07:53.036026Z"
    },
    "papermill": {
     "duration": 0.050526,
     "end_time": "2022-02-05T20:07:53.036167",
     "exception": false,
     "start_time": "2022-02-05T20:07:52.985641",
     "status": "completed"
    },
    "tags": []
   },
   "outputs": [
    {
     "data": {
      "text/plain": [
       "((11982, 784), (1984, 784))"
      ]
     },
     "execution_count": 14,
     "metadata": {},
     "output_type": "execute_result"
    }
   ],
   "source": [
    "X_train = X_train.reshape(X_train.shape[0], -1)\n",
    "X_test = X_test.reshape(X_test.shape[0], -1)\n",
    "X_train.shape, X_test.shape"
   ]
  },
  {
   "cell_type": "code",
   "execution_count": 15,
   "id": "73c5f88a",
   "metadata": {
    "execution": {
     "iopub.execute_input": "2022-02-05T20:07:53.105912Z",
     "iopub.status.busy": "2022-02-05T20:07:53.105309Z",
     "iopub.status.idle": "2022-02-05T20:07:53.125856Z",
     "shell.execute_reply": "2022-02-05T20:07:53.125200Z"
    },
    "papermill": {
     "duration": 0.060111,
     "end_time": "2022-02-05T20:07:53.126023",
     "exception": false,
     "start_time": "2022-02-05T20:07:53.065912",
     "status": "completed"
    },
    "tags": []
   },
   "outputs": [],
   "source": [
    "#Impoting functions from 'Kudzu'\n",
    "from kudzu.model import Model\n",
    "from kudzu.train import Learner\n",
    "from kudzu.optim import GD\n",
    "from kudzu.data import Data, Sampler,Dataloader\n",
    "\n",
    "from kudzu.callbacks import AccCallback\n",
    "from kudzu.callbacks import ClfCallback\n",
    "\n",
    "from kudzu.loss import MSE\n",
    "\n",
    "from kudzu.layer import Sigmoid,Relu\n",
    "from kudzu.layer import Affine"
   ]
  },
  {
   "cell_type": "markdown",
   "id": "bc01172a",
   "metadata": {
    "papermill": {
     "duration": 0.029859,
     "end_time": "2022-02-05T20:07:53.186217",
     "exception": false,
     "start_time": "2022-02-05T20:07:53.156358",
     "status": "completed"
    },
    "tags": []
   },
   "source": [
    "### Let us create a `Config` class, to store important parameters. \n",
    "This class essentially plays the role of a dictionary."
   ]
  },
  {
   "cell_type": "code",
   "execution_count": 16,
   "id": "978281aa",
   "metadata": {
    "execution": {
     "iopub.execute_input": "2022-02-05T20:07:53.251533Z",
     "iopub.status.busy": "2022-02-05T20:07:53.250938Z",
     "iopub.status.idle": "2022-02-05T20:07:53.264559Z",
     "shell.execute_reply": "2022-02-05T20:07:53.264087Z"
    },
    "papermill": {
     "duration": 0.048517,
     "end_time": "2022-02-05T20:07:53.264708",
     "exception": false,
     "start_time": "2022-02-05T20:07:53.216191",
     "status": "completed"
    },
    "tags": []
   },
   "outputs": [],
   "source": [
    "class Config:\n",
    "    pass\n",
    "config = Config()\n",
    "config.lr = 0.001\n",
    "config.num_epochs = 250\n",
    "config.bs = 50"
   ]
  },
  {
   "cell_type": "markdown",
   "id": "1385fa59",
   "metadata": {
    "papermill": {
     "duration": 0.029789,
     "end_time": "2022-02-05T20:07:53.324173",
     "exception": false,
     "start_time": "2022-02-05T20:07:53.294384",
     "status": "completed"
    },
    "tags": []
   },
   "source": [
    "### Running Models with the Training data\n",
    "Details about the network layers:\n",
    "- A first affine layer has 784 inputs and does 100 affine transforms. These are followed by a Relu\n",
    "- A second affine layer has 100 inputs from the 100 activations of the past layer, and does 100 affine transforms. These are followed by a Relu\n",
    "- A third affine layer has 100 activations and does 2 affine transformations to create an embedding for visualization. There is no non-linearity here.\n",
    "- A final \"logistic regression\" which has an affine transform from 2 inputs to 1 output, which is squeezed through a sigmoid.\n"
   ]
  },
  {
   "cell_type": "code",
   "execution_count": 17,
   "id": "2b9c66db",
   "metadata": {
    "execution": {
     "iopub.execute_input": "2022-02-05T20:07:53.389487Z",
     "iopub.status.busy": "2022-02-05T20:07:53.388881Z",
     "iopub.status.idle": "2022-02-05T20:07:53.403848Z",
     "shell.execute_reply": "2022-02-05T20:07:53.403319Z"
    },
    "papermill": {
     "duration": 0.049862,
     "end_time": "2022-02-05T20:07:53.403976",
     "exception": false,
     "start_time": "2022-02-05T20:07:53.354114",
     "status": "completed"
    },
    "tags": []
   },
   "outputs": [],
   "source": [
    "data = Data(X_train, y_train.reshape(-1,1))\n",
    "sampler = Sampler(data, config.bs, shuffle=True)\n",
    "\n",
    "dl = Dataloader(data, sampler)\n",
    "\n",
    "opt = GD(config.lr)\n",
    "loss = MSE()"
   ]
  },
  {
   "cell_type": "code",
   "execution_count": 18,
   "id": "b275e4c2",
   "metadata": {
    "execution": {
     "iopub.execute_input": "2022-02-05T20:07:53.469706Z",
     "iopub.status.busy": "2022-02-05T20:07:53.469108Z",
     "iopub.status.idle": "2022-02-05T20:07:53.484276Z",
     "shell.execute_reply": "2022-02-05T20:07:53.483774Z"
    },
    "papermill": {
     "duration": 0.050198,
     "end_time": "2022-02-05T20:07:53.484399",
     "exception": false,
     "start_time": "2022-02-05T20:07:53.434201",
     "status": "completed"
    },
    "tags": []
   },
   "outputs": [],
   "source": [
    "training_data_x = X_train\n",
    "testing_data_x = X_test\n",
    "training_data_y = y_train.reshape(-1,1)\n",
    "testing_data_y = y_test.reshape(-1,1)"
   ]
  },
  {
   "cell_type": "code",
   "execution_count": 19,
   "id": "76951160",
   "metadata": {
    "execution": {
     "iopub.execute_input": "2022-02-05T20:07:53.550733Z",
     "iopub.status.busy": "2022-02-05T20:07:53.550133Z",
     "iopub.status.idle": "2022-02-05T20:07:53.570215Z",
     "shell.execute_reply": "2022-02-05T20:07:53.569671Z"
    },
    "papermill": {
     "duration": 0.056001,
     "end_time": "2022-02-05T20:07:53.570347",
     "exception": false,
     "start_time": "2022-02-05T20:07:53.514346",
     "status": "completed"
    },
    "tags": []
   },
   "outputs": [
    {
     "name": "stdout",
     "output_type": "stream",
     "text": [
      "xavier\n",
      "xavier\n",
      "xavier\n",
      "xavier\n",
      "xavier\n"
     ]
    }
   ],
   "source": [
    "layers = [Affine(\"first\", 784, 100), Relu(\"first\"), Affine(\"second\", 100, 100), Relu(\"second\"), Affine(\"third\", 100, 2), Affine(\"last\", 2, 1), Sigmoid(\"last\")]\n",
    "model_nn = Model(layers)\n",
    "model_lr = Model([Affine(\"logits\", 784, 1), Sigmoid(\"sigmoid\")])"
   ]
  },
  {
   "cell_type": "code",
   "execution_count": 20,
   "id": "6eede77a",
   "metadata": {
    "execution": {
     "iopub.execute_input": "2022-02-05T20:07:53.637000Z",
     "iopub.status.busy": "2022-02-05T20:07:53.636340Z",
     "iopub.status.idle": "2022-02-05T20:07:53.649401Z",
     "shell.execute_reply": "2022-02-05T20:07:53.648907Z"
    },
    "papermill": {
     "duration": 0.048229,
     "end_time": "2022-02-05T20:07:53.649527",
     "exception": false,
     "start_time": "2022-02-05T20:07:53.601298",
     "status": "completed"
    },
    "tags": []
   },
   "outputs": [],
   "source": [
    "nn_learner = Learner(loss, model_nn, opt, config.num_epochs)\n",
    "acc_nn = ClfCallback(nn_learner, config.bs, training_data_x , testing_data_x, training_data_y, testing_data_y)\n",
    "nn_learner.set_callbacks([acc_nn])"
   ]
  },
  {
   "cell_type": "code",
   "execution_count": 21,
   "id": "877b6cc7",
   "metadata": {
    "execution": {
     "iopub.execute_input": "2022-02-05T20:07:53.715805Z",
     "iopub.status.busy": "2022-02-05T20:07:53.715223Z",
     "iopub.status.idle": "2022-02-05T20:07:53.728942Z",
     "shell.execute_reply": "2022-02-05T20:07:53.729455Z"
    },
    "papermill": {
     "duration": 0.049601,
     "end_time": "2022-02-05T20:07:53.729602",
     "exception": false,
     "start_time": "2022-02-05T20:07:53.680001",
     "status": "completed"
    },
    "tags": []
   },
   "outputs": [],
   "source": [
    "lr_learner = Learner(loss, model_lr, opt, config.num_epochs)\n",
    "acc_lr = ClfCallback(lr_learner, config.bs, training_data_x , testing_data_x, training_data_y, testing_data_y)\n",
    "lr_learner.set_callbacks([acc_lr])"
   ]
  },
  {
   "cell_type": "code",
   "execution_count": 22,
   "id": "d9b133c3",
   "metadata": {
    "execution": {
     "iopub.execute_input": "2022-02-05T20:07:53.798065Z",
     "iopub.status.busy": "2022-02-05T20:07:53.797484Z",
     "iopub.status.idle": "2022-02-05T20:09:20.644037Z",
     "shell.execute_reply": "2022-02-05T20:09:20.644603Z"
    },
    "papermill": {
     "duration": 86.884802,
     "end_time": "2022-02-05T20:09:20.644794",
     "exception": false,
     "start_time": "2022-02-05T20:07:53.759992",
     "status": "completed"
    },
    "tags": []
   },
   "outputs": [
    {
     "name": "stdout",
     "output_type": "stream",
     "text": [
      "Epoch 0, Loss 0.2621\n",
      "Training Accuracy: 0.5120, Testing Accuracy: 0.5232\n",
      "\n"
     ]
    },
    {
     "name": "stdout",
     "output_type": "stream",
     "text": [
      "Epoch 10, Loss 0.1137\n",
      "Training Accuracy: 0.8943, Testing Accuracy: 0.9073\n",
      "\n"
     ]
    },
    {
     "name": "stdout",
     "output_type": "stream",
     "text": [
      "Epoch 20, Loss 0.0667\n",
      "Training Accuracy: 0.9281, Testing Accuracy: 0.9420\n",
      "\n"
     ]
    },
    {
     "name": "stdout",
     "output_type": "stream",
     "text": [
      "Epoch 30, Loss 0.0506\n",
      "Training Accuracy: 0.9446, Testing Accuracy: 0.9561\n",
      "\n"
     ]
    },
    {
     "name": "stdout",
     "output_type": "stream",
     "text": [
      "Epoch 40, Loss 0.0426\n",
      "Training Accuracy: 0.9526, Testing Accuracy: 0.9637\n",
      "\n"
     ]
    },
    {
     "name": "stdout",
     "output_type": "stream",
     "text": [
      "Epoch 50, Loss 0.0378\n",
      "Training Accuracy: 0.9575, Testing Accuracy: 0.9662\n",
      "\n"
     ]
    },
    {
     "name": "stdout",
     "output_type": "stream",
     "text": [
      "Epoch 60, Loss 0.0346\n",
      "Training Accuracy: 0.9600, Testing Accuracy: 0.9672\n",
      "\n"
     ]
    },
    {
     "name": "stdout",
     "output_type": "stream",
     "text": [
      "Epoch 70, Loss 0.0322\n",
      "Training Accuracy: 0.9619, Testing Accuracy: 0.9693\n",
      "\n"
     ]
    },
    {
     "name": "stdout",
     "output_type": "stream",
     "text": [
      "Epoch 80, Loss 0.0304\n",
      "Training Accuracy: 0.9640, Testing Accuracy: 0.9708\n",
      "\n"
     ]
    },
    {
     "name": "stdout",
     "output_type": "stream",
     "text": [
      "Epoch 90, Loss 0.0289\n",
      "Training Accuracy: 0.9660, Testing Accuracy: 0.9713\n",
      "\n"
     ]
    },
    {
     "name": "stdout",
     "output_type": "stream",
     "text": [
      "Epoch 100, Loss 0.0277\n",
      "Training Accuracy: 0.9683, Testing Accuracy: 0.9723\n",
      "\n"
     ]
    },
    {
     "name": "stdout",
     "output_type": "stream",
     "text": [
      "Epoch 110, Loss 0.0266\n",
      "Training Accuracy: 0.9694, Testing Accuracy: 0.9728\n",
      "\n"
     ]
    },
    {
     "name": "stdout",
     "output_type": "stream",
     "text": [
      "Epoch 120, Loss 0.0257\n",
      "Training Accuracy: 0.9708, Testing Accuracy: 0.9728\n",
      "\n"
     ]
    },
    {
     "name": "stdout",
     "output_type": "stream",
     "text": [
      "Epoch 130, Loss 0.0249\n",
      "Training Accuracy: 0.9716, Testing Accuracy: 0.9733\n",
      "\n"
     ]
    },
    {
     "name": "stdout",
     "output_type": "stream",
     "text": [
      "Epoch 140, Loss 0.0242\n",
      "Training Accuracy: 0.9726, Testing Accuracy: 0.9743\n",
      "\n"
     ]
    },
    {
     "name": "stdout",
     "output_type": "stream",
     "text": [
      "Epoch 150, Loss 0.0236\n",
      "Training Accuracy: 0.9733, Testing Accuracy: 0.9738\n",
      "\n"
     ]
    },
    {
     "name": "stdout",
     "output_type": "stream",
     "text": [
      "Epoch 160, Loss 0.023\n",
      "Training Accuracy: 0.9737, Testing Accuracy: 0.9733\n",
      "\n"
     ]
    },
    {
     "name": "stdout",
     "output_type": "stream",
     "text": [
      "Epoch 170, Loss 0.0224\n",
      "Training Accuracy: 0.9744, Testing Accuracy: 0.9738\n",
      "\n"
     ]
    },
    {
     "name": "stdout",
     "output_type": "stream",
     "text": [
      "Epoch 180, Loss 0.0219\n",
      "Training Accuracy: 0.9750, Testing Accuracy: 0.9738\n",
      "\n"
     ]
    },
    {
     "name": "stdout",
     "output_type": "stream",
     "text": [
      "Epoch 190, Loss 0.0214\n",
      "Training Accuracy: 0.9760, Testing Accuracy: 0.9738\n",
      "\n"
     ]
    },
    {
     "name": "stdout",
     "output_type": "stream",
     "text": [
      "Epoch 200, Loss 0.0209\n",
      "Training Accuracy: 0.9765, Testing Accuracy: 0.9738\n",
      "\n"
     ]
    },
    {
     "name": "stdout",
     "output_type": "stream",
     "text": [
      "Epoch 210, Loss 0.0205\n",
      "Training Accuracy: 0.9772, Testing Accuracy: 0.9738\n",
      "\n"
     ]
    },
    {
     "name": "stdout",
     "output_type": "stream",
     "text": [
      "Epoch 220, Loss 0.0201\n",
      "Training Accuracy: 0.9779, Testing Accuracy: 0.9743\n",
      "\n"
     ]
    },
    {
     "name": "stdout",
     "output_type": "stream",
     "text": [
      "Epoch 230, Loss 0.0196\n",
      "Training Accuracy: 0.9785, Testing Accuracy: 0.9743\n",
      "\n"
     ]
    },
    {
     "name": "stdout",
     "output_type": "stream",
     "text": [
      "Epoch 240, Loss 0.0192\n",
      "Training Accuracy: 0.9790, Testing Accuracy: 0.9748\n",
      "\n"
     ]
    },
    {
     "data": {
      "text/plain": [
       "0.01053538922183084"
      ]
     },
     "execution_count": 22,
     "metadata": {},
     "output_type": "execute_result"
    }
   ],
   "source": [
    "nn_learner.train_loop(dl)"
   ]
  },
  {
   "cell_type": "code",
   "execution_count": 23,
   "id": "e0163366",
   "metadata": {
    "execution": {
     "iopub.execute_input": "2022-02-05T20:09:20.730254Z",
     "iopub.status.busy": "2022-02-05T20:09:20.729660Z",
     "iopub.status.idle": "2022-02-05T20:09:36.086581Z",
     "shell.execute_reply": "2022-02-05T20:09:36.087428Z"
    },
    "papermill": {
     "duration": 15.404519,
     "end_time": "2022-02-05T20:09:36.087600",
     "exception": false,
     "start_time": "2022-02-05T20:09:20.683081",
     "status": "completed"
    },
    "tags": []
   },
   "outputs": [
    {
     "name": "stdout",
     "output_type": "stream",
     "text": [
      "Epoch 0, Loss 0.2706\n",
      "Training Accuracy: 0.5573, Testing Accuracy: 0.5297\n",
      "\n"
     ]
    },
    {
     "name": "stdout",
     "output_type": "stream",
     "text": [
      "Epoch 10, Loss 0.1076\n",
      "Training Accuracy: 0.9021, Testing Accuracy: 0.9108\n",
      "\n"
     ]
    },
    {
     "name": "stdout",
     "output_type": "stream",
     "text": [
      "Epoch 20, Loss 0.0809\n",
      "Training Accuracy: 0.9277, Testing Accuracy: 0.9370\n",
      "\n"
     ]
    },
    {
     "name": "stdout",
     "output_type": "stream",
     "text": [
      "Epoch 30, Loss 0.069\n",
      "Training Accuracy: 0.9377, Testing Accuracy: 0.9456\n",
      "\n"
     ]
    },
    {
     "name": "stdout",
     "output_type": "stream",
     "text": [
      "Epoch 40, Loss 0.062\n",
      "Training Accuracy: 0.9422, Testing Accuracy: 0.9486\n",
      "\n"
     ]
    },
    {
     "name": "stdout",
     "output_type": "stream",
     "text": [
      "Epoch 50, Loss 0.0573\n",
      "Training Accuracy: 0.9459, Testing Accuracy: 0.9531\n",
      "\n"
     ]
    },
    {
     "name": "stdout",
     "output_type": "stream",
     "text": [
      "Epoch 60, Loss 0.0539\n",
      "Training Accuracy: 0.9483, Testing Accuracy: 0.9561\n",
      "\n"
     ]
    },
    {
     "name": "stdout",
     "output_type": "stream",
     "text": [
      "Epoch 70, Loss 0.0513\n",
      "Training Accuracy: 0.9501, Testing Accuracy: 0.9607\n",
      "\n"
     ]
    },
    {
     "name": "stdout",
     "output_type": "stream",
     "text": [
      "Epoch 80, Loss 0.0492\n",
      "Training Accuracy: 0.9509, Testing Accuracy: 0.9607\n",
      "\n"
     ]
    },
    {
     "name": "stdout",
     "output_type": "stream",
     "text": [
      "Epoch 90, Loss 0.0475\n",
      "Training Accuracy: 0.9523, Testing Accuracy: 0.9617\n",
      "\n"
     ]
    },
    {
     "name": "stdout",
     "output_type": "stream",
     "text": [
      "Epoch 100, Loss 0.046\n",
      "Training Accuracy: 0.9534, Testing Accuracy: 0.9642\n",
      "\n"
     ]
    },
    {
     "name": "stdout",
     "output_type": "stream",
     "text": [
      "Epoch 110, Loss 0.0448\n",
      "Training Accuracy: 0.9544, Testing Accuracy: 0.9652\n",
      "\n"
     ]
    },
    {
     "name": "stdout",
     "output_type": "stream",
     "text": [
      "Epoch 120, Loss 0.0437\n",
      "Training Accuracy: 0.9558, Testing Accuracy: 0.9672\n",
      "\n"
     ]
    },
    {
     "name": "stdout",
     "output_type": "stream",
     "text": [
      "Epoch 130, Loss 0.0428\n",
      "Training Accuracy: 0.9563, Testing Accuracy: 0.9672\n",
      "\n"
     ]
    },
    {
     "name": "stdout",
     "output_type": "stream",
     "text": [
      "Epoch 140, Loss 0.0419\n",
      "Training Accuracy: 0.9570, Testing Accuracy: 0.9688\n",
      "\n"
     ]
    },
    {
     "name": "stdout",
     "output_type": "stream",
     "text": [
      "Epoch 150, Loss 0.0412\n",
      "Training Accuracy: 0.9579, Testing Accuracy: 0.9688\n",
      "\n"
     ]
    },
    {
     "name": "stdout",
     "output_type": "stream",
     "text": [
      "Epoch 160, Loss 0.0405\n",
      "Training Accuracy: 0.9585, Testing Accuracy: 0.9688\n",
      "\n"
     ]
    },
    {
     "name": "stdout",
     "output_type": "stream",
     "text": [
      "Epoch 170, Loss 0.0399\n",
      "Training Accuracy: 0.9589, Testing Accuracy: 0.9703\n",
      "\n"
     ]
    },
    {
     "name": "stdout",
     "output_type": "stream",
     "text": [
      "Epoch 180, Loss 0.0393\n",
      "Training Accuracy: 0.9593, Testing Accuracy: 0.9703\n",
      "\n"
     ]
    },
    {
     "name": "stdout",
     "output_type": "stream",
     "text": [
      "Epoch 190, Loss 0.0388\n",
      "Training Accuracy: 0.9597, Testing Accuracy: 0.9703\n",
      "\n"
     ]
    },
    {
     "name": "stdout",
     "output_type": "stream",
     "text": [
      "Epoch 200, Loss 0.0383\n",
      "Training Accuracy: 0.9602, Testing Accuracy: 0.9703\n",
      "\n"
     ]
    },
    {
     "name": "stdout",
     "output_type": "stream",
     "text": [
      "Epoch 210, Loss 0.0379\n",
      "Training Accuracy: 0.9604, Testing Accuracy: 0.9703\n",
      "\n"
     ]
    },
    {
     "name": "stdout",
     "output_type": "stream",
     "text": [
      "Epoch 220, Loss 0.0375\n",
      "Training Accuracy: 0.9608, Testing Accuracy: 0.9703\n",
      "\n"
     ]
    },
    {
     "name": "stdout",
     "output_type": "stream",
     "text": [
      "Epoch 230, Loss 0.0371\n",
      "Training Accuracy: 0.9609, Testing Accuracy: 0.9703\n",
      "\n"
     ]
    },
    {
     "name": "stdout",
     "output_type": "stream",
     "text": [
      "Epoch 240, Loss 0.0367\n",
      "Training Accuracy: 0.9610, Testing Accuracy: 0.9698\n",
      "\n"
     ]
    },
    {
     "data": {
      "text/plain": [
       "0.03936637628728454"
      ]
     },
     "execution_count": 23,
     "metadata": {},
     "output_type": "execute_result"
    }
   ],
   "source": [
    "lr_learner.train_loop(dl)"
   ]
  },
  {
   "cell_type": "code",
   "execution_count": 24,
   "id": "ca410940",
   "metadata": {
    "execution": {
     "iopub.execute_input": "2022-02-05T20:09:36.194231Z",
     "iopub.status.busy": "2022-02-05T20:09:36.193629Z",
     "iopub.status.idle": "2022-02-05T20:09:36.458580Z",
     "shell.execute_reply": "2022-02-05T20:09:36.457935Z"
    },
    "papermill": {
     "duration": 0.324891,
     "end_time": "2022-02-05T20:09:36.458724",
     "exception": false,
     "start_time": "2022-02-05T20:09:36.133833",
     "status": "completed"
    },
    "tags": []
   },
   "outputs": [
    {
     "data": {
      "text/plain": [
       "<matplotlib.legend.Legend at 0x7f4c082d13c8>"
      ]
     },
     "execution_count": 24,
     "metadata": {},
     "output_type": "execute_result"
    },
    {
     "data": {
      "image/png": "[encoded data removed]",
      "text/plain": [
       "<Figure size 1080x720 with 1 Axes>"
      ]
     },
     "metadata": {
      "needs_background": "light"
     },
     "output_type": "display_data"
    }
   ],
   "source": [
    "#comparing the results of NN and LR\n",
    "plt.figure(figsize=(15,10))\n",
    "\n",
    "# Neural Network plots\n",
    "plt.plot(acc_nn.accuracies, 'r-', label = \"Training Accuracies - NN\")\n",
    "plt.plot(acc_nn.test_accuracies, 'g-', label = \"Testing Accuracies - NN\")\n",
    "\n",
    "# Logistic Regression plots\n",
    "plt.plot(acc_lr.accuracies, 'k-', label = \"Training Accuracies - LR\")\n",
    "plt.plot(acc_lr.test_accuracies, 'b-', label = \"Testing Accuracies - LR\")\n",
    "plt.legend()"
   ]
  },
  {
   "cell_type": "markdown",
   "id": "80dfb35c",
   "metadata": {
    "papermill": {
     "duration": 0.051277,
     "end_time": "2022-02-05T20:09:36.562461",
     "exception": false,
     "start_time": "2022-02-05T20:09:36.511184",
     "status": "completed"
    },
    "tags": []
   },
   "source": [
    "#### Plotting the outputs of this layer of the NN.\n"
   ]
  },
  {
   "cell_type": "code",
   "execution_count": 25,
   "id": "45eb2ff5",
   "metadata": {
    "execution": {
     "iopub.execute_input": "2022-02-05T20:09:36.666730Z",
     "iopub.status.busy": "2022-02-05T20:09:36.666116Z",
     "iopub.status.idle": "2022-02-05T20:09:36.687656Z",
     "shell.execute_reply": "2022-02-05T20:09:36.688139Z"
    },
    "papermill": {
     "duration": 0.077411,
     "end_time": "2022-02-05T20:09:36.688292",
     "exception": false,
     "start_time": "2022-02-05T20:09:36.610881",
     "status": "completed"
    },
    "tags": []
   },
   "outputs": [],
   "source": [
    "new_model = Model(layers[:-2])\n",
    "testing_plot = new_model(testing_data_x)"
   ]
  },
  {
   "cell_type": "code",
   "execution_count": 26,
   "id": "4c0a5485",
   "metadata": {
    "execution": {
     "iopub.execute_input": "2022-02-05T20:09:36.790300Z",
     "iopub.status.busy": "2022-02-05T20:09:36.788123Z",
     "iopub.status.idle": "2022-02-05T20:09:37.047650Z",
     "shell.execute_reply": "2022-02-05T20:09:37.048143Z"
    },
    "papermill": {
     "duration": 0.312718,
     "end_time": "2022-02-05T20:09:37.048300",
     "exception": false,
     "start_time": "2022-02-05T20:09:36.735582",
     "status": "completed"
    },
    "tags": []
   },
   "outputs": [
    {
     "data": {
      "text/plain": [
       "Text(0.5, 1.0, 'Outputs')"
      ]
     },
     "execution_count": 26,
     "metadata": {},
     "output_type": "execute_result"
    },
    {
     "data": {
      "image/png": "[encoded data removed]",
      "text/plain": [
       "<Figure size 576x504 with 1 Axes>"
      ]
     },
     "metadata": {
      "needs_background": "light"
     },
     "output_type": "display_data"
    }
   ],
   "source": [
    "# Plotting the scatter plot of points and color coding by class\n",
    "plt.figure(figsize=(8,7))\n",
    "plt.scatter(testing_plot[:,0], testing_plot[:,1], alpha = 0.1, c = y_test.ravel());\n",
    "plt.title('Outputs')"
   ]
  },
  {
   "cell_type": "markdown",
   "id": "a74fcf8f",
   "metadata": {
    "papermill": {
     "duration": 0.050474,
     "end_time": "2022-02-05T20:09:37.149782",
     "exception": false,
     "start_time": "2022-02-05T20:09:37.099308",
     "status": "completed"
    },
    "tags": []
   },
   "source": [
    "Probability contours"
   ]
  },
  {
   "cell_type": "code",
   "execution_count": 27,
   "id": "d0afc8e3",
   "metadata": {
    "execution": {
     "iopub.execute_input": "2022-02-05T20:09:37.257204Z",
     "iopub.status.busy": "2022-02-05T20:09:37.256541Z",
     "iopub.status.idle": "2022-02-05T20:09:37.270471Z",
     "shell.execute_reply": "2022-02-05T20:09:37.269931Z"
    },
    "papermill": {
     "duration": 0.070012,
     "end_time": "2022-02-05T20:09:37.270594",
     "exception": false,
     "start_time": "2022-02-05T20:09:37.200582",
     "status": "completed"
    },
    "tags": []
   },
   "outputs": [],
   "source": [
    "model_prob = Model(layers[-2:]) "
   ]
  },
  {
   "cell_type": "code",
   "execution_count": 28,
   "id": "9b96e238",
   "metadata": {
    "execution": {
     "iopub.execute_input": "2022-02-05T20:09:37.381081Z",
     "iopub.status.busy": "2022-02-05T20:09:37.379655Z",
     "iopub.status.idle": "2022-02-05T20:09:37.395241Z",
     "shell.execute_reply": "2022-02-05T20:09:37.395685Z"
    },
    "papermill": {
     "duration": 0.074416,
     "end_time": "2022-02-05T20:09:37.395838",
     "exception": false,
     "start_time": "2022-02-05T20:09:37.321422",
     "status": "completed"
    },
    "tags": []
   },
   "outputs": [],
   "source": [
    "#creating the x and y ranges according to the above generated plot.\n",
    "x_range = np.linspace(-4, 1, 100) \n",
    "y_range = np.linspace(-6, 6, 100) \n",
    "x_grid, y_grid = np.meshgrid(x_range, y_range) # x_grid and y_grig are of size 100 X 100\n",
    "\n",
    "# converting x_grid and y_grid to continuous arrays\n",
    "x_gridflat = np.ravel(x_grid)\n",
    "y_gridflat = np.ravel(y_grid)\n",
    "\n",
    "# The last layer of the current model takes two columns as input. Hence transpose of np.vstack() is required.\n",
    "X = np.vstack((x_gridflat, y_gridflat)).T\n",
    "\n",
    "prob_contour = model_prob(X).reshape(100,100) "
   ]
  },
  {
   "cell_type": "code",
   "execution_count": 29,
   "id": "da72499a",
   "metadata": {
    "execution": {
     "iopub.execute_input": "2022-02-05T20:09:37.531667Z",
     "iopub.status.busy": "2022-02-05T20:09:37.531074Z",
     "iopub.status.idle": "2022-02-05T20:09:37.824508Z",
     "shell.execute_reply": "2022-02-05T20:09:37.823558Z"
    },
    "papermill": {
     "duration": 0.377646,
     "end_time": "2022-02-05T20:09:37.824675",
     "exception": false,
     "start_time": "2022-02-05T20:09:37.447029",
     "status": "completed"
    },
    "tags": []
   },
   "outputs": [
    {
     "data": {
      "image/png": "[encoded data removed]",
      "text/plain": [
       "<Figure size 720x648 with 1 Axes>"
      ]
     },
     "metadata": {
      "needs_background": "light"
     },
     "output_type": "display_data"
    }
   ],
   "source": [
    "plt.figure(figsize=(10,9))\n",
    "plt.scatter(testing_plot[:,0], testing_plot[:,1], alpha = 0.1, c = y_test.ravel())\n",
    "contours = plt.contour(x_grid,y_grid,prob_contour)\n",
    "plt.title('Probability Contours')\n",
    "plt.clabel(contours, inline = True );"
   ]
  },
  {
   "cell_type": "code",
   "execution_count": null,
   "id": "e81b4ac7",
   "metadata": {
    "papermill": {
     "duration": 0.053254,
     "end_time": "2022-02-05T20:09:37.931800",
     "exception": false,
     "start_time": "2022-02-05T20:09:37.878546",
     "status": "completed"
    },
    "tags": []
   },
   "outputs": [],
   "source": []
  }
 ],
 "metadata": {
  "kernelspec": {
   "display_name": "Python 3",
   "language": "python",
   "name": "python3"
  },
  "language_info": {
   "codemirror_mode": {
    "name": "ipython",
    "version": 3
   },
   "file_extension": ".py",
   "mimetype": "text/x-python",
   "name": "python",
   "nbconvert_exporter": "python",
   "pygments_lexer": "ipython3",
   "version": "3.6.15"
  },
  "papermill": {
   "default_parameters": {},
   "duration": 111.817383,
   "end_time": "2022-02-05T20:09:38.404636",
   "environment_variables": {},
   "exception": null,
   "input_path": "2020-08-11-part2.ipynb",
   "output_path": "2020-08-11-part2.ipynb",
   "parameters": {},
   "start_time": "2022-02-05T20:07:46.587253",
   "version": "2.3.3"
  }
 },
 "nbformat": 4,
 "nbformat_minor": 5
}