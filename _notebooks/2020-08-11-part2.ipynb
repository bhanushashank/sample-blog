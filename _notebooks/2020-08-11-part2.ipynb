{
 "cells": [
  {
   "cell_type": "markdown",
   "id": "98380cd3",
   "metadata": {
    "papermill": {
     "duration": 0.027801,
     "end_time": "2021-12-10T10:08:21.267586",
     "exception": false,
     "start_time": "2021-12-10T10:08:21.239785",
     "status": "completed"
    },
    "tags": []
   },
   "source": [
    "# Distinguish Your Own Digits (DYOD)"
   ]
  },
  {
   "cell_type": "markdown",
   "id": "ef31240d",
   "metadata": {
    "papermill": {
     "duration": 0.023824,
     "end_time": "2021-12-10T10:08:21.315865",
     "exception": false,
     "start_time": "2021-12-10T10:08:21.292041",
     "status": "completed"
    },
    "tags": []
   },
   "source": [
    "You are going to write a classifier that distinguishes between the number 3 and number 8."
   ]
  },
  {
   "cell_type": "code",
   "execution_count": 1,
   "id": "b15c8646",
   "metadata": {
    "execution": {
     "iopub.execute_input": "2021-12-10T10:08:21.374919Z",
     "iopub.status.busy": "2021-12-10T10:08:21.374391Z",
     "iopub.status.idle": "2021-12-10T10:08:21.384791Z",
     "shell.execute_reply": "2021-12-10T10:08:21.384362Z"
    },
    "papermill": {
     "duration": 0.045277,
     "end_time": "2021-12-10T10:08:21.384915",
     "exception": false,
     "start_time": "2021-12-10T10:08:21.339638",
     "status": "completed"
    },
    "tags": []
   },
   "outputs": [],
   "source": [
    "%load_ext autoreload\n",
    "%autoreload 2"
   ]
  },
  {
   "cell_type": "code",
   "execution_count": 2,
   "id": "22ef38dc",
   "metadata": {
    "execution": {
     "iopub.execute_input": "2021-12-10T10:08:21.448532Z",
     "iopub.status.busy": "2021-12-10T10:08:21.445351Z",
     "iopub.status.idle": "2021-12-10T10:08:22.006456Z",
     "shell.execute_reply": "2021-12-10T10:08:22.006944Z"
    },
    "papermill": {
     "duration": 0.598132,
     "end_time": "2021-12-10T10:08:22.007114",
     "exception": false,
     "start_time": "2021-12-10T10:08:21.408982",
     "status": "completed"
    },
    "tags": []
   },
   "outputs": [],
   "source": [
    "%matplotlib inline\n",
    "import numpy as np\n",
    "import matplotlib.pyplot as plt\n",
    "import pandas as pd"
   ]
  },
  {
   "cell_type": "markdown",
   "id": "ba036198",
   "metadata": {
    "papermill": {
     "duration": 0.023889,
     "end_time": "2021-12-10T10:08:22.055858",
     "exception": false,
     "start_time": "2021-12-10T10:08:22.031969",
     "status": "completed"
    },
    "tags": []
   },
   "source": [
    "From the command line run `pip install mnist`. This is a library that will help you bring down the mnist dataset. If you run this from a notebook, you need to put  `!pip install mnist` in a cell by itself."
   ]
  },
  {
   "cell_type": "code",
   "execution_count": 3,
   "id": "bb6ad8a1",
   "metadata": {
    "execution": {
     "iopub.execute_input": "2021-12-10T10:08:22.109398Z",
     "iopub.status.busy": "2021-12-10T10:08:22.108872Z",
     "iopub.status.idle": "2021-12-10T10:08:23.761652Z",
     "shell.execute_reply": "2021-12-10T10:08:23.760665Z"
    },
    "papermill": {
     "duration": 1.682144,
     "end_time": "2021-12-10T10:08:23.761804",
     "exception": false,
     "start_time": "2021-12-10T10:08:22.079660",
     "status": "completed"
    },
    "tags": []
   },
   "outputs": [
    {
     "name": "stdout",
     "output_type": "stream",
     "text": [
      "Collecting mnist\r\n"
     ]
    },
    {
     "name": "stdout",
     "output_type": "stream",
     "text": [
      "  Downloading mnist-0.2.2-py2.py3-none-any.whl (3.5 kB)\r\n",
      "Requirement already satisfied: numpy in /opt/hostedtoolcache/Python/3.6.15/x64/lib/python3.6/site-packages (from mnist) (1.19.5)\r\n"
     ]
    },
    {
     "name": "stdout",
     "output_type": "stream",
     "text": [
      "Installing collected packages: mnist\r\n"
     ]
    },
    {
     "name": "stdout",
     "output_type": "stream",
     "text": [
      "Successfully installed mnist-0.2.2\r\n"
     ]
    }
   ],
   "source": [
    "!pip install mnist"
   ]
  },
  {
   "cell_type": "markdown",
   "id": "69df9c9a",
   "metadata": {
    "papermill": {
     "duration": 0.025074,
     "end_time": "2021-12-10T10:08:23.812337",
     "exception": false,
     "start_time": "2021-12-10T10:08:23.787263",
     "status": "completed"
    },
    "tags": []
   },
   "source": [
    "## Preparing the Data"
   ]
  },
  {
   "cell_type": "code",
   "execution_count": 4,
   "id": "7f69d806",
   "metadata": {
    "execution": {
     "iopub.execute_input": "2021-12-10T10:08:23.866515Z",
     "iopub.status.busy": "2021-12-10T10:08:23.865910Z",
     "iopub.status.idle": "2021-12-10T10:08:23.879541Z",
     "shell.execute_reply": "2021-12-10T10:08:23.879955Z"
    },
    "papermill": {
     "duration": 0.042826,
     "end_time": "2021-12-10T10:08:23.880093",
     "exception": false,
     "start_time": "2021-12-10T10:08:23.837267",
     "status": "completed"
    },
    "tags": []
   },
   "outputs": [],
   "source": [
    "import mnist"
   ]
  },
  {
   "cell_type": "code",
   "execution_count": 5,
   "id": "a411e44f",
   "metadata": {
    "execution": {
     "iopub.execute_input": "2021-12-10T10:08:23.933533Z",
     "iopub.status.busy": "2021-12-10T10:08:23.933023Z",
     "iopub.status.idle": "2021-12-10T10:08:24.482899Z",
     "shell.execute_reply": "2021-12-10T10:08:24.482366Z"
    },
    "papermill": {
     "duration": 0.577842,
     "end_time": "2021-12-10T10:08:24.483043",
     "exception": false,
     "start_time": "2021-12-10T10:08:23.905201",
     "status": "completed"
    },
    "tags": []
   },
   "outputs": [],
   "source": [
    "train_images = mnist.train_images()\n",
    "train_labels = mnist.train_labels()"
   ]
  },
  {
   "cell_type": "code",
   "execution_count": 6,
   "id": "dceab3a5",
   "metadata": {
    "execution": {
     "iopub.execute_input": "2021-12-10T10:08:24.538005Z",
     "iopub.status.busy": "2021-12-10T10:08:24.537491Z",
     "iopub.status.idle": "2021-12-10T10:08:24.551951Z",
     "shell.execute_reply": "2021-12-10T10:08:24.551517Z"
    },
    "papermill": {
     "duration": 0.042876,
     "end_time": "2021-12-10T10:08:24.552062",
     "exception": false,
     "start_time": "2021-12-10T10:08:24.509186",
     "status": "completed"
    },
    "tags": []
   },
   "outputs": [
    {
     "data": {
      "text/plain": [
       "((60000, 28, 28), (60000,))"
      ]
     },
     "execution_count": 6,
     "metadata": {},
     "output_type": "execute_result"
    }
   ],
   "source": [
    "train_images.shape, train_labels.shape"
   ]
  },
  {
   "cell_type": "code",
   "execution_count": 7,
   "id": "f50dc2bb",
   "metadata": {
    "execution": {
     "iopub.execute_input": "2021-12-10T10:08:24.616644Z",
     "iopub.status.busy": "2021-12-10T10:08:24.611392Z",
     "iopub.status.idle": "2021-12-10T10:08:24.743928Z",
     "shell.execute_reply": "2021-12-10T10:08:24.743416Z"
    },
    "papermill": {
     "duration": 0.166941,
     "end_time": "2021-12-10T10:08:24.744053",
     "exception": false,
     "start_time": "2021-12-10T10:08:24.577112",
     "status": "completed"
    },
    "tags": []
   },
   "outputs": [],
   "source": [
    "test_images = mnist.test_images()\n",
    "test_labels = mnist.test_labels()"
   ]
  },
  {
   "cell_type": "code",
   "execution_count": 8,
   "id": "fc38cf1b",
   "metadata": {
    "execution": {
     "iopub.execute_input": "2021-12-10T10:08:24.805000Z",
     "iopub.status.busy": "2021-12-10T10:08:24.797446Z",
     "iopub.status.idle": "2021-12-10T10:08:24.811229Z",
     "shell.execute_reply": "2021-12-10T10:08:24.810565Z"
    },
    "papermill": {
     "duration": 0.041856,
     "end_time": "2021-12-10T10:08:24.811338",
     "exception": false,
     "start_time": "2021-12-10T10:08:24.769482",
     "status": "completed"
    },
    "tags": []
   },
   "outputs": [
    {
     "data": {
      "text/plain": [
       "((10000, 28, 28), (10000,))"
      ]
     },
     "execution_count": 8,
     "metadata": {},
     "output_type": "execute_result"
    }
   ],
   "source": [
    "test_images.shape, test_labels.shape"
   ]
  },
  {
   "cell_type": "code",
   "execution_count": 9,
   "id": "f9ed8fe0",
   "metadata": {
    "execution": {
     "iopub.execute_input": "2021-12-10T10:08:24.865437Z",
     "iopub.status.busy": "2021-12-10T10:08:24.864935Z",
     "iopub.status.idle": "2021-12-10T10:08:25.000114Z",
     "shell.execute_reply": "2021-12-10T10:08:25.000583Z"
    },
    "papermill": {
     "duration": 0.163849,
     "end_time": "2021-12-10T10:08:25.000728",
     "exception": false,
     "start_time": "2021-12-10T10:08:24.836879",
     "status": "completed"
    },
    "tags": []
   },
   "outputs": [
    {
     "name": "stdout",
     "output_type": "stream",
     "text": [
      "2\n"
     ]
    },
    {
     "data": {
      "text/plain": [
       "<matplotlib.image.AxesImage at 0x7f1b04c61a90>"
      ]
     },
     "execution_count": 9,
     "metadata": {},
     "output_type": "execute_result"
    },
    {
     "data": {
      "image/png": "[encoded data removed]",
      "text/plain": [
       "<Figure size 432x288 with 1 Axes>"
      ]
     },
     "metadata": {
      "needs_background": "light"
     },
     "output_type": "display_data"
    }
   ],
   "source": [
    "image_index = 7776 # You may select anything up to 60,000\n",
    "print(train_labels[image_index]) \n",
    "plt.imshow(train_images[image_index], cmap='Greys')"
   ]
  },
  {
   "cell_type": "markdown",
   "id": "a8d2388d",
   "metadata": {
    "papermill": {
     "duration": 0.026621,
     "end_time": "2021-12-10T10:08:25.054775",
     "exception": false,
     "start_time": "2021-12-10T10:08:25.028154",
     "status": "completed"
    },
    "tags": []
   },
   "source": [
    "## Filter data to get 3 and 8 out"
   ]
  },
  {
   "cell_type": "code",
   "execution_count": 10,
   "id": "776f7fc7",
   "metadata": {
    "execution": {
     "iopub.execute_input": "2021-12-10T10:08:25.112895Z",
     "iopub.status.busy": "2021-12-10T10:08:25.112377Z",
     "iopub.status.idle": "2021-12-10T10:08:25.127458Z",
     "shell.execute_reply": "2021-12-10T10:08:25.127054Z"
    },
    "papermill": {
     "duration": 0.046345,
     "end_time": "2021-12-10T10:08:25.127562",
     "exception": false,
     "start_time": "2021-12-10T10:08:25.081217",
     "status": "completed"
    },
    "tags": []
   },
   "outputs": [],
   "source": [
    "train_filter = np.where((train_labels == 3 ) | (train_labels == 8))\n",
    "test_filter = np.where((test_labels == 3) | (test_labels == 8))\n",
    "X_train, y_train = train_images[train_filter], train_labels[train_filter]\n",
    "X_test, y_test = test_images[test_filter], test_labels[test_filter]"
   ]
  },
  {
   "cell_type": "markdown",
   "id": "948f0b7e",
   "metadata": {
    "papermill": {
     "duration": 0.02674,
     "end_time": "2021-12-10T10:08:25.180782",
     "exception": false,
     "start_time": "2021-12-10T10:08:25.154042",
     "status": "completed"
    },
    "tags": []
   },
   "source": [
    "We normalize the pizel values in the 0 to 1 range"
   ]
  },
  {
   "cell_type": "code",
   "execution_count": 11,
   "id": "ee4c2166",
   "metadata": {
    "execution": {
     "iopub.execute_input": "2021-12-10T10:08:25.248376Z",
     "iopub.status.busy": "2021-12-10T10:08:25.241863Z",
     "iopub.status.idle": "2021-12-10T10:08:25.288710Z",
     "shell.execute_reply": "2021-12-10T10:08:25.288227Z"
    },
    "papermill": {
     "duration": 0.081592,
     "end_time": "2021-12-10T10:08:25.288843",
     "exception": false,
     "start_time": "2021-12-10T10:08:25.207251",
     "status": "completed"
    },
    "tags": []
   },
   "outputs": [],
   "source": [
    "X_train = X_train/255.\n",
    "X_test = X_test/255."
   ]
  },
  {
   "cell_type": "markdown",
   "id": "ddcf4fab",
   "metadata": {
    "papermill": {
     "duration": 0.0272,
     "end_time": "2021-12-10T10:08:25.343169",
     "exception": false,
     "start_time": "2021-12-10T10:08:25.315969",
     "status": "completed"
    },
    "tags": []
   },
   "source": [
    "And setup the labels as 1 (when the digit is 3) and 0 (when the digit is 8)"
   ]
  },
  {
   "cell_type": "code",
   "execution_count": 12,
   "id": "7dc908f2",
   "metadata": {
    "execution": {
     "iopub.execute_input": "2021-12-10T10:08:25.404943Z",
     "iopub.status.busy": "2021-12-10T10:08:25.404407Z",
     "iopub.status.idle": "2021-12-10T10:08:25.412685Z",
     "shell.execute_reply": "2021-12-10T10:08:25.413088Z"
    },
    "papermill": {
     "duration": 0.043591,
     "end_time": "2021-12-10T10:08:25.413213",
     "exception": false,
     "start_time": "2021-12-10T10:08:25.369622",
     "status": "completed"
    },
    "tags": []
   },
   "outputs": [],
   "source": [
    "y_train = 1*(y_train==3)\n",
    "y_test = 1*(y_test==3)"
   ]
  },
  {
   "cell_type": "code",
   "execution_count": 13,
   "id": "01e4e969",
   "metadata": {
    "execution": {
     "iopub.execute_input": "2021-12-10T10:08:25.475158Z",
     "iopub.status.busy": "2021-12-10T10:08:25.474649Z",
     "iopub.status.idle": "2021-12-10T10:08:25.484629Z",
     "shell.execute_reply": "2021-12-10T10:08:25.484224Z"
    },
    "papermill": {
     "duration": 0.045052,
     "end_time": "2021-12-10T10:08:25.484736",
     "exception": false,
     "start_time": "2021-12-10T10:08:25.439684",
     "status": "completed"
    },
    "tags": []
   },
   "outputs": [
    {
     "data": {
      "text/plain": [
       "((11982, 28, 28), (1984, 28, 28))"
      ]
     },
     "execution_count": 13,
     "metadata": {},
     "output_type": "execute_result"
    }
   ],
   "source": [
    "X_train.shape, X_test.shape"
   ]
  },
  {
   "cell_type": "markdown",
   "id": "5ccf3f85",
   "metadata": {
    "papermill": {
     "duration": 0.026664,
     "end_time": "2021-12-10T10:08:25.538108",
     "exception": false,
     "start_time": "2021-12-10T10:08:25.511444",
     "status": "completed"
    },
    "tags": []
   },
   "source": [
    "We reshape the data to flatten the image pixels into a set of features or co-variates:"
   ]
  },
  {
   "cell_type": "code",
   "execution_count": 14,
   "id": "5286a4a3",
   "metadata": {
    "execution": {
     "iopub.execute_input": "2021-12-10T10:08:25.595947Z",
     "iopub.status.busy": "2021-12-10T10:08:25.595393Z",
     "iopub.status.idle": "2021-12-10T10:08:25.607530Z",
     "shell.execute_reply": "2021-12-10T10:08:25.607108Z"
    },
    "papermill": {
     "duration": 0.042672,
     "end_time": "2021-12-10T10:08:25.607630",
     "exception": false,
     "start_time": "2021-12-10T10:08:25.564958",
     "status": "completed"
    },
    "tags": []
   },
   "outputs": [
    {
     "data": {
      "text/plain": [
       "((11982, 784), (1984, 784))"
      ]
     },
     "execution_count": 14,
     "metadata": {},
     "output_type": "execute_result"
    }
   ],
   "source": [
    "X_train = X_train.reshape(X_train.shape[0], -1)\n",
    "X_test = X_test.reshape(X_test.shape[0], -1)\n",
    "X_train.shape, X_test.shape"
   ]
  },
  {
   "cell_type": "code",
   "execution_count": 15,
   "id": "73c5f88a",
   "metadata": {
    "execution": {
     "iopub.execute_input": "2021-12-10T10:08:25.667800Z",
     "iopub.status.busy": "2021-12-10T10:08:25.667188Z",
     "iopub.status.idle": "2021-12-10T10:08:25.684301Z",
     "shell.execute_reply": "2021-12-10T10:08:25.684754Z"
    },
    "papermill": {
     "duration": 0.050222,
     "end_time": "2021-12-10T10:08:25.684866",
     "exception": false,
     "start_time": "2021-12-10T10:08:25.634644",
     "status": "completed"
    },
    "tags": []
   },
   "outputs": [],
   "source": [
    "#Impoting functions from 'Kudzu'\n",
    "from kudzu.model import Model\n",
    "from kudzu.train import Learner\n",
    "from kudzu.optim import GD\n",
    "from kudzu.data import Data, Sampler,Dataloader\n",
    "\n",
    "from kudzu.callbacks import AccCallback\n",
    "from kudzu.callbacks import ClfCallback\n",
    "\n",
    "from kudzu.loss import MSE\n",
    "\n",
    "from kudzu.layer import Sigmoid,Relu\n",
    "from kudzu.layer import Affine"
   ]
  },
  {
   "cell_type": "markdown",
   "id": "bc01172a",
   "metadata": {
    "papermill": {
     "duration": 0.026805,
     "end_time": "2021-12-10T10:08:25.738700",
     "exception": false,
     "start_time": "2021-12-10T10:08:25.711895",
     "status": "completed"
    },
    "tags": []
   },
   "source": [
    "### Let us create a `Config` class, to store important parameters. \n",
    "This class essentially plays the role of a dictionary."
   ]
  },
  {
   "cell_type": "code",
   "execution_count": 16,
   "id": "978281aa",
   "metadata": {
    "execution": {
     "iopub.execute_input": "2021-12-10T10:08:25.799832Z",
     "iopub.status.busy": "2021-12-10T10:08:25.799298Z",
     "iopub.status.idle": "2021-12-10T10:08:25.807481Z",
     "shell.execute_reply": "2021-12-10T10:08:25.807942Z"
    },
    "papermill": {
     "duration": 0.042537,
     "end_time": "2021-12-10T10:08:25.808059",
     "exception": false,
     "start_time": "2021-12-10T10:08:25.765522",
     "status": "completed"
    },
    "tags": []
   },
   "outputs": [],
   "source": [
    "class Config:\n",
    "    pass\n",
    "config = Config()\n",
    "config.lr = 0.001\n",
    "config.num_epochs = 250\n",
    "config.bs = 50"
   ]
  },
  {
   "cell_type": "markdown",
   "id": "1385fa59",
   "metadata": {
    "papermill": {
     "duration": 0.026975,
     "end_time": "2021-12-10T10:08:25.862099",
     "exception": false,
     "start_time": "2021-12-10T10:08:25.835124",
     "status": "completed"
    },
    "tags": []
   },
   "source": [
    "### Running Models with the Training data\n",
    "Details about the network layers:\n",
    "- A first affine layer has 784 inputs and does 100 affine transforms. These are followed by a Relu\n",
    "- A second affine layer has 100 inputs from the 100 activations of the past layer, and does 100 affine transforms. These are followed by a Relu\n",
    "- A third affine layer has 100 activations and does 2 affine transformations to create an embedding for visualization. There is no non-linearity here.\n",
    "- A final \"logistic regression\" which has an affine transform from 2 inputs to 1 output, which is squeezed through a sigmoid.\n"
   ]
  },
  {
   "cell_type": "code",
   "execution_count": 17,
   "id": "2b9c66db",
   "metadata": {
    "execution": {
     "iopub.execute_input": "2021-12-10T10:08:25.924428Z",
     "iopub.status.busy": "2021-12-10T10:08:25.920852Z",
     "iopub.status.idle": "2021-12-10T10:08:25.931711Z",
     "shell.execute_reply": "2021-12-10T10:08:25.931266Z"
    },
    "papermill": {
     "duration": 0.04275,
     "end_time": "2021-12-10T10:08:25.931817",
     "exception": false,
     "start_time": "2021-12-10T10:08:25.889067",
     "status": "completed"
    },
    "tags": []
   },
   "outputs": [],
   "source": [
    "data = Data(X_train, y_train.reshape(-1,1))\n",
    "sampler = Sampler(data, config.bs, shuffle=True)\n",
    "\n",
    "dl = Dataloader(data, sampler)\n",
    "\n",
    "opt = GD(config.lr)\n",
    "loss = MSE()"
   ]
  },
  {
   "cell_type": "code",
   "execution_count": 18,
   "id": "b275e4c2",
   "metadata": {
    "execution": {
     "iopub.execute_input": "2021-12-10T10:08:25.992123Z",
     "iopub.status.busy": "2021-12-10T10:08:25.991585Z",
     "iopub.status.idle": "2021-12-10T10:08:26.000928Z",
     "shell.execute_reply": "2021-12-10T10:08:26.001306Z"
    },
    "papermill": {
     "duration": 0.042555,
     "end_time": "2021-12-10T10:08:26.001420",
     "exception": false,
     "start_time": "2021-12-10T10:08:25.958865",
     "status": "completed"
    },
    "tags": []
   },
   "outputs": [],
   "source": [
    "training_data_x = X_train\n",
    "testing_data_x = X_test\n",
    "training_data_y = y_train.reshape(-1,1)\n",
    "testing_data_y = y_test.reshape(-1,1)"
   ]
  },
  {
   "cell_type": "code",
   "execution_count": 19,
   "id": "76951160",
   "metadata": {
    "execution": {
     "iopub.execute_input": "2021-12-10T10:08:26.059505Z",
     "iopub.status.busy": "2021-12-10T10:08:26.058993Z",
     "iopub.status.idle": "2021-12-10T10:08:26.073930Z",
     "shell.execute_reply": "2021-12-10T10:08:26.073477Z"
    },
    "papermill": {
     "duration": 0.045695,
     "end_time": "2021-12-10T10:08:26.074030",
     "exception": false,
     "start_time": "2021-12-10T10:08:26.028335",
     "status": "completed"
    },
    "tags": []
   },
   "outputs": [
    {
     "name": "stdout",
     "output_type": "stream",
     "text": [
      "xavier\n",
      "xavier\n",
      "xavier\n",
      "xavier\n",
      "xavier\n"
     ]
    }
   ],
   "source": [
    "layers = [Affine(\"first\", 784, 100), Relu(\"first\"), Affine(\"second\", 100, 100), Relu(\"second\"), Affine(\"third\", 100, 2), Affine(\"last\", 2, 1), Sigmoid(\"last\")]\n",
    "model_nn = Model(layers)\n",
    "model_lr = Model([Affine(\"logits\", 784, 1), Sigmoid(\"sigmoid\")])"
   ]
  },
  {
   "cell_type": "code",
   "execution_count": 20,
   "id": "6eede77a",
   "metadata": {
    "execution": {
     "iopub.execute_input": "2021-12-10T10:08:26.132655Z",
     "iopub.status.busy": "2021-12-10T10:08:26.132064Z",
     "iopub.status.idle": "2021-12-10T10:08:26.142974Z",
     "shell.execute_reply": "2021-12-10T10:08:26.142563Z"
    },
    "papermill": {
     "duration": 0.041095,
     "end_time": "2021-12-10T10:08:26.143074",
     "exception": false,
     "start_time": "2021-12-10T10:08:26.101979",
     "status": "completed"
    },
    "tags": []
   },
   "outputs": [],
   "source": [
    "nn_learner = Learner(loss, model_nn, opt, config.num_epochs)\n",
    "acc_nn = ClfCallback(nn_learner, config.bs, training_data_x , testing_data_x, training_data_y, testing_data_y)\n",
    "nn_learner.set_callbacks([acc_nn])"
   ]
  },
  {
   "cell_type": "code",
   "execution_count": 21,
   "id": "877b6cc7",
   "metadata": {
    "execution": {
     "iopub.execute_input": "2021-12-10T10:08:26.201316Z",
     "iopub.status.busy": "2021-12-10T10:08:26.200692Z",
     "iopub.status.idle": "2021-12-10T10:08:26.210892Z",
     "shell.execute_reply": "2021-12-10T10:08:26.211272Z"
    },
    "papermill": {
     "duration": 0.041017,
     "end_time": "2021-12-10T10:08:26.211386",
     "exception": false,
     "start_time": "2021-12-10T10:08:26.170369",
     "status": "completed"
    },
    "tags": []
   },
   "outputs": [],
   "source": [
    "lr_learner = Learner(loss, model_lr, opt, config.num_epochs)\n",
    "acc_lr = ClfCallback(lr_learner, config.bs, training_data_x , testing_data_x, training_data_y, testing_data_y)\n",
    "lr_learner.set_callbacks([acc_lr])"
   ]
  },
  {
   "cell_type": "code",
   "execution_count": 22,
   "id": "d9b133c3",
   "metadata": {
    "execution": {
     "iopub.execute_input": "2021-12-10T10:08:26.268951Z",
     "iopub.status.busy": "2021-12-10T10:08:26.268456Z",
     "iopub.status.idle": "2021-12-10T10:09:41.326807Z",
     "shell.execute_reply": "2021-12-10T10:09:41.327561Z"
    },
    "papermill": {
     "duration": 75.089036,
     "end_time": "2021-12-10T10:09:41.327736",
     "exception": false,
     "start_time": "2021-12-10T10:08:26.238700",
     "status": "completed"
    },
    "tags": []
   },
   "outputs": [
    {
     "name": "stdout",
     "output_type": "stream",
     "text": [
      "Epoch 0, Loss 0.198\n",
      "Training Accuracy: 0.8372, Testing Accuracy: 0.8639\n",
      "\n"
     ]
    },
    {
     "name": "stdout",
     "output_type": "stream",
     "text": [
      "Epoch 10, Loss 0.0557\n",
      "Training Accuracy: 0.9448, Testing Accuracy: 0.9541\n",
      "\n"
     ]
    },
    {
     "name": "stdout",
     "output_type": "stream",
     "text": [
      "Epoch 20, Loss 0.0403\n",
      "Training Accuracy: 0.9562, Testing Accuracy: 0.9607\n",
      "\n"
     ]
    },
    {
     "name": "stdout",
     "output_type": "stream",
     "text": [
      "Epoch 30, Loss 0.0343\n",
      "Training Accuracy: 0.9613, Testing Accuracy: 0.9677\n",
      "\n"
     ]
    },
    {
     "name": "stdout",
     "output_type": "stream",
     "text": [
      "Epoch 40, Loss 0.0309\n",
      "Training Accuracy: 0.9650, Testing Accuracy: 0.9677\n",
      "\n"
     ]
    },
    {
     "name": "stdout",
     "output_type": "stream",
     "text": [
      "Epoch 50, Loss 0.0287\n",
      "Training Accuracy: 0.9675, Testing Accuracy: 0.9693\n",
      "\n"
     ]
    },
    {
     "name": "stdout",
     "output_type": "stream",
     "text": [
      "Epoch 60, Loss 0.0271\n",
      "Training Accuracy: 0.9686, Testing Accuracy: 0.9713\n",
      "\n"
     ]
    },
    {
     "name": "stdout",
     "output_type": "stream",
     "text": [
      "Epoch 70, Loss 0.0258\n",
      "Training Accuracy: 0.9699, Testing Accuracy: 0.9723\n",
      "\n"
     ]
    },
    {
     "name": "stdout",
     "output_type": "stream",
     "text": [
      "Epoch 80, Loss 0.0247\n",
      "Training Accuracy: 0.9714, Testing Accuracy: 0.9728\n",
      "\n"
     ]
    },
    {
     "name": "stdout",
     "output_type": "stream",
     "text": [
      "Epoch 90, Loss 0.0238\n",
      "Training Accuracy: 0.9721, Testing Accuracy: 0.9728\n",
      "\n"
     ]
    },
    {
     "name": "stdout",
     "output_type": "stream",
     "text": [
      "Epoch 100, Loss 0.023\n",
      "Training Accuracy: 0.9726, Testing Accuracy: 0.9738\n",
      "\n"
     ]
    },
    {
     "name": "stdout",
     "output_type": "stream",
     "text": [
      "Epoch 110, Loss 0.0223\n",
      "Training Accuracy: 0.9742, Testing Accuracy: 0.9738\n",
      "\n"
     ]
    },
    {
     "name": "stdout",
     "output_type": "stream",
     "text": [
      "Epoch 120, Loss 0.0217\n",
      "Training Accuracy: 0.9754, Testing Accuracy: 0.9738\n",
      "\n"
     ]
    },
    {
     "name": "stdout",
     "output_type": "stream",
     "text": [
      "Epoch 130, Loss 0.0211\n",
      "Training Accuracy: 0.9763, Testing Accuracy: 0.9733\n",
      "\n"
     ]
    },
    {
     "name": "stdout",
     "output_type": "stream",
     "text": [
      "Epoch 140, Loss 0.0205\n",
      "Training Accuracy: 0.9770, Testing Accuracy: 0.9733\n",
      "\n"
     ]
    },
    {
     "name": "stdout",
     "output_type": "stream",
     "text": [
      "Epoch 150, Loss 0.02\n",
      "Training Accuracy: 0.9778, Testing Accuracy: 0.9733\n",
      "\n"
     ]
    },
    {
     "name": "stdout",
     "output_type": "stream",
     "text": [
      "Epoch 160, Loss 0.0194\n",
      "Training Accuracy: 0.9781, Testing Accuracy: 0.9733\n",
      "\n"
     ]
    },
    {
     "name": "stdout",
     "output_type": "stream",
     "text": [
      "Epoch 170, Loss 0.0189\n",
      "Training Accuracy: 0.9787, Testing Accuracy: 0.9738\n",
      "\n"
     ]
    },
    {
     "name": "stdout",
     "output_type": "stream",
     "text": [
      "Epoch 180, Loss 0.0184\n",
      "Training Accuracy: 0.9791, Testing Accuracy: 0.9743\n",
      "\n"
     ]
    },
    {
     "name": "stdout",
     "output_type": "stream",
     "text": [
      "Epoch 190, Loss 0.018\n",
      "Training Accuracy: 0.9794, Testing Accuracy: 0.9738\n",
      "\n"
     ]
    },
    {
     "name": "stdout",
     "output_type": "stream",
     "text": [
      "Epoch 200, Loss 0.0175\n",
      "Training Accuracy: 0.9802, Testing Accuracy: 0.9743\n",
      "\n"
     ]
    },
    {
     "name": "stdout",
     "output_type": "stream",
     "text": [
      "Epoch 210, Loss 0.0171\n",
      "Training Accuracy: 0.9807, Testing Accuracy: 0.9753\n",
      "\n"
     ]
    },
    {
     "name": "stdout",
     "output_type": "stream",
     "text": [
      "Epoch 220, Loss 0.0167\n",
      "Training Accuracy: 0.9814, Testing Accuracy: 0.9763\n",
      "\n"
     ]
    },
    {
     "name": "stdout",
     "output_type": "stream",
     "text": [
      "Epoch 230, Loss 0.0163\n",
      "Training Accuracy: 0.9818, Testing Accuracy: 0.9758\n",
      "\n"
     ]
    },
    {
     "name": "stdout",
     "output_type": "stream",
     "text": [
      "Epoch 240, Loss 0.0159\n",
      "Training Accuracy: 0.9821, Testing Accuracy: 0.9773\n",
      "\n"
     ]
    },
    {
     "data": {
      "text/plain": [
       "0.004528209965384801"
      ]
     },
     "execution_count": 22,
     "metadata": {},
     "output_type": "execute_result"
    }
   ],
   "source": [
    "nn_learner.train_loop(dl)"
   ]
  },
  {
   "cell_type": "code",
   "execution_count": 23,
   "id": "e0163366",
   "metadata": {
    "execution": {
     "iopub.execute_input": "2021-12-10T10:09:41.413016Z",
     "iopub.status.busy": "2021-12-10T10:09:41.412505Z",
     "iopub.status.idle": "2021-12-10T10:09:54.903963Z",
     "shell.execute_reply": "2021-12-10T10:09:54.904731Z"
    },
    "papermill": {
     "duration": 13.537404,
     "end_time": "2021-12-10T10:09:54.904891",
     "exception": false,
     "start_time": "2021-12-10T10:09:41.367487",
     "status": "completed"
    },
    "tags": []
   },
   "outputs": [
    {
     "name": "stdout",
     "output_type": "stream",
     "text": [
      "Epoch 0, Loss 0.2354\n",
      "Training Accuracy: 0.7011, Testing Accuracy: 0.6935\n",
      "\n"
     ]
    },
    {
     "name": "stdout",
     "output_type": "stream",
     "text": [
      "Epoch 10, Loss 0.1013\n",
      "Training Accuracy: 0.9135, Testing Accuracy: 0.9189\n",
      "\n"
     ]
    },
    {
     "name": "stdout",
     "output_type": "stream",
     "text": [
      "Epoch 20, Loss 0.0778\n",
      "Training Accuracy: 0.9306, Testing Accuracy: 0.9350\n",
      "\n"
     ]
    },
    {
     "name": "stdout",
     "output_type": "stream",
     "text": [
      "Epoch 30, Loss 0.0671\n",
      "Training Accuracy: 0.9378, Testing Accuracy: 0.9466\n",
      "\n"
     ]
    },
    {
     "name": "stdout",
     "output_type": "stream",
     "text": [
      "Epoch 40, Loss 0.0607\n",
      "Training Accuracy: 0.9421, Testing Accuracy: 0.9536\n",
      "\n"
     ]
    },
    {
     "name": "stdout",
     "output_type": "stream",
     "text": [
      "Epoch 50, Loss 0.0564\n",
      "Training Accuracy: 0.9456, Testing Accuracy: 0.9577\n",
      "\n"
     ]
    },
    {
     "name": "stdout",
     "output_type": "stream",
     "text": [
      "Epoch 60, Loss 0.0533\n",
      "Training Accuracy: 0.9478, Testing Accuracy: 0.9597\n",
      "\n"
     ]
    },
    {
     "name": "stdout",
     "output_type": "stream",
     "text": [
      "Epoch 70, Loss 0.0509\n",
      "Training Accuracy: 0.9491, Testing Accuracy: 0.9622\n",
      "\n"
     ]
    },
    {
     "name": "stdout",
     "output_type": "stream",
     "text": [
      "Epoch 80, Loss 0.0489\n",
      "Training Accuracy: 0.9503, Testing Accuracy: 0.9632\n",
      "\n"
     ]
    },
    {
     "name": "stdout",
     "output_type": "stream",
     "text": [
      "Epoch 90, Loss 0.0473\n",
      "Training Accuracy: 0.9517, Testing Accuracy: 0.9652\n",
      "\n"
     ]
    },
    {
     "name": "stdout",
     "output_type": "stream",
     "text": [
      "Epoch 100, Loss 0.0459\n",
      "Training Accuracy: 0.9531, Testing Accuracy: 0.9662\n",
      "\n"
     ]
    },
    {
     "name": "stdout",
     "output_type": "stream",
     "text": [
      "Epoch 110, Loss 0.0448\n",
      "Training Accuracy: 0.9543, Testing Accuracy: 0.9662\n",
      "\n"
     ]
    },
    {
     "name": "stdout",
     "output_type": "stream",
     "text": [
      "Epoch 120, Loss 0.0437\n",
      "Training Accuracy: 0.9551, Testing Accuracy: 0.9662\n",
      "\n"
     ]
    },
    {
     "name": "stdout",
     "output_type": "stream",
     "text": [
      "Epoch 130, Loss 0.0428\n",
      "Training Accuracy: 0.9556, Testing Accuracy: 0.9657\n",
      "\n"
     ]
    },
    {
     "name": "stdout",
     "output_type": "stream",
     "text": [
      "Epoch 140, Loss 0.042\n",
      "Training Accuracy: 0.9567, Testing Accuracy: 0.9662\n",
      "\n"
     ]
    },
    {
     "name": "stdout",
     "output_type": "stream",
     "text": [
      "Epoch 150, Loss 0.0413\n",
      "Training Accuracy: 0.9569, Testing Accuracy: 0.9667\n",
      "\n"
     ]
    },
    {
     "name": "stdout",
     "output_type": "stream",
     "text": [
      "Epoch 160, Loss 0.0407\n",
      "Training Accuracy: 0.9574, Testing Accuracy: 0.9667\n",
      "\n"
     ]
    },
    {
     "name": "stdout",
     "output_type": "stream",
     "text": [
      "Epoch 170, Loss 0.0401\n",
      "Training Accuracy: 0.9579, Testing Accuracy: 0.9672\n",
      "\n"
     ]
    },
    {
     "name": "stdout",
     "output_type": "stream",
     "text": [
      "Epoch 180, Loss 0.0395\n",
      "Training Accuracy: 0.9584, Testing Accuracy: 0.9672\n",
      "\n"
     ]
    },
    {
     "name": "stdout",
     "output_type": "stream",
     "text": [
      "Epoch 190, Loss 0.039\n",
      "Training Accuracy: 0.9587, Testing Accuracy: 0.9672\n",
      "\n"
     ]
    },
    {
     "name": "stdout",
     "output_type": "stream",
     "text": [
      "Epoch 200, Loss 0.0385\n",
      "Training Accuracy: 0.9589, Testing Accuracy: 0.9677\n",
      "\n"
     ]
    },
    {
     "name": "stdout",
     "output_type": "stream",
     "text": [
      "Epoch 210, Loss 0.0381\n",
      "Training Accuracy: 0.9592, Testing Accuracy: 0.9677\n",
      "\n"
     ]
    },
    {
     "name": "stdout",
     "output_type": "stream",
     "text": [
      "Epoch 220, Loss 0.0377\n",
      "Training Accuracy: 0.9596, Testing Accuracy: 0.9682\n",
      "\n"
     ]
    },
    {
     "name": "stdout",
     "output_type": "stream",
     "text": [
      "Epoch 230, Loss 0.0373\n",
      "Training Accuracy: 0.9599, Testing Accuracy: 0.9677\n",
      "\n"
     ]
    },
    {
     "name": "stdout",
     "output_type": "stream",
     "text": [
      "Epoch 240, Loss 0.037\n",
      "Training Accuracy: 0.9599, Testing Accuracy: 0.9682\n",
      "\n"
     ]
    },
    {
     "data": {
      "text/plain": [
       "0.01568467309914104"
      ]
     },
     "execution_count": 23,
     "metadata": {},
     "output_type": "execute_result"
    }
   ],
   "source": [
    "lr_learner.train_loop(dl)"
   ]
  },
  {
   "cell_type": "code",
   "execution_count": 24,
   "id": "ca410940",
   "metadata": {
    "execution": {
     "iopub.execute_input": "2021-12-10T10:09:54.996810Z",
     "iopub.status.busy": "2021-12-10T10:09:54.996290Z",
     "iopub.status.idle": "2021-12-10T10:09:55.218661Z",
     "shell.execute_reply": "2021-12-10T10:09:55.218177Z"
    },
    "papermill": {
     "duration": 0.271977,
     "end_time": "2021-12-10T10:09:55.218796",
     "exception": false,
     "start_time": "2021-12-10T10:09:54.946819",
     "status": "completed"
    },
    "tags": []
   },
   "outputs": [
    {
     "data": {
      "text/plain": [
       "<matplotlib.legend.Legend at 0x7f1af74bfc50>"
      ]
     },
     "execution_count": 24,
     "metadata": {},
     "output_type": "execute_result"
    },
    {
     "data": {
      "image/png": "[encoded data removed]",
      "text/plain": [
       "<Figure size 1080x720 with 1 Axes>"
      ]
     },
     "metadata": {
      "needs_background": "light"
     },
     "output_type": "display_data"
    }
   ],
   "source": [
    "#comparing the results of NN and LR\n",
    "plt.figure(figsize=(15,10))\n",
    "\n",
    "# Neural Network plots\n",
    "plt.plot(acc_nn.accuracies, 'r-', label = \"Training Accuracies - NN\")\n",
    "plt.plot(acc_nn.test_accuracies, 'g-', label = \"Testing Accuracies - NN\")\n",
    "\n",
    "# Logistic Regression plots\n",
    "plt.plot(acc_lr.accuracies, 'k-', label = \"Training Accuracies - LR\")\n",
    "plt.plot(acc_lr.test_accuracies, 'b-', label = \"Testing Accuracies - LR\")\n",
    "plt.legend()"
   ]
  },
  {
   "cell_type": "markdown",
   "id": "80dfb35c",
   "metadata": {
    "papermill": {
     "duration": 0.04226,
     "end_time": "2021-12-10T10:09:55.304628",
     "exception": false,
     "start_time": "2021-12-10T10:09:55.262368",
     "status": "completed"
    },
    "tags": []
   },
   "source": [
    "#### Plotting the outputs of this layer of the NN.\n"
   ]
  },
  {
   "cell_type": "code",
   "execution_count": 25,
   "id": "45eb2ff5",
   "metadata": {
    "execution": {
     "iopub.execute_input": "2021-12-10T10:09:55.396922Z",
     "iopub.status.busy": "2021-12-10T10:09:55.396396Z",
     "iopub.status.idle": "2021-12-10T10:09:55.413760Z",
     "shell.execute_reply": "2021-12-10T10:09:55.414176Z"
    },
    "papermill": {
     "duration": 0.067352,
     "end_time": "2021-12-10T10:09:55.414303",
     "exception": false,
     "start_time": "2021-12-10T10:09:55.346951",
     "status": "completed"
    },
    "tags": []
   },
   "outputs": [],
   "source": [
    "new_model = Model(layers[:-2])\n",
    "testing_plot = new_model(testing_data_x)"
   ]
  },
  {
   "cell_type": "code",
   "execution_count": 26,
   "id": "4c0a5485",
   "metadata": {
    "execution": {
     "iopub.execute_input": "2021-12-10T10:09:55.505869Z",
     "iopub.status.busy": "2021-12-10T10:09:55.504575Z",
     "iopub.status.idle": "2021-12-10T10:09:55.725839Z",
     "shell.execute_reply": "2021-12-10T10:09:55.725412Z"
    },
    "papermill": {
     "duration": 0.268102,
     "end_time": "2021-12-10T10:09:55.725965",
     "exception": false,
     "start_time": "2021-12-10T10:09:55.457863",
     "status": "completed"
    },
    "tags": []
   },
   "outputs": [
    {
     "data": {
      "text/plain": [
       "Text(0.5, 1.0, 'Outputs')"
      ]
     },
     "execution_count": 26,
     "metadata": {},
     "output_type": "execute_result"
    },
    {
     "data": {
      "image/png": "[encoded data removed]",
      "text/plain": [
       "<Figure size 576x504 with 1 Axes>"
      ]
     },
     "metadata": {
      "needs_background": "light"
     },
     "output_type": "display_data"
    }
   ],
   "source": [
    "# Plotting the scatter plot of points and color coding by class\n",
    "plt.figure(figsize=(8,7))\n",
    "plt.scatter(testing_plot[:,0], testing_plot[:,1], alpha = 0.1, c = y_test.ravel());\n",
    "plt.title('Outputs')"
   ]
  },
  {
   "cell_type": "markdown",
   "id": "a74fcf8f",
   "metadata": {
    "papermill": {
     "duration": 0.045736,
     "end_time": "2021-12-10T10:09:55.817598",
     "exception": false,
     "start_time": "2021-12-10T10:09:55.771862",
     "status": "completed"
    },
    "tags": []
   },
   "source": [
    "Probability contours"
   ]
  },
  {
   "cell_type": "code",
   "execution_count": 27,
   "id": "d0afc8e3",
   "metadata": {
    "execution": {
     "iopub.execute_input": "2021-12-10T10:09:55.916132Z",
     "iopub.status.busy": "2021-12-10T10:09:55.914662Z",
     "iopub.status.idle": "2021-12-10T10:09:55.925868Z",
     "shell.execute_reply": "2021-12-10T10:09:55.925432Z"
    },
    "papermill": {
     "duration": 0.062332,
     "end_time": "2021-12-10T10:09:55.925976",
     "exception": false,
     "start_time": "2021-12-10T10:09:55.863644",
     "status": "completed"
    },
    "tags": []
   },
   "outputs": [],
   "source": [
    "model_prob = Model(layers[-2:]) "
   ]
  },
  {
   "cell_type": "code",
   "execution_count": 28,
   "id": "9b96e238",
   "metadata": {
    "execution": {
     "iopub.execute_input": "2021-12-10T10:09:56.049666Z",
     "iopub.status.busy": "2021-12-10T10:09:56.049152Z",
     "iopub.status.idle": "2021-12-10T10:09:56.061741Z",
     "shell.execute_reply": "2021-12-10T10:09:56.062132Z"
    },
    "papermill": {
     "duration": 0.090422,
     "end_time": "2021-12-10T10:09:56.062258",
     "exception": false,
     "start_time": "2021-12-10T10:09:55.971836",
     "status": "completed"
    },
    "tags": []
   },
   "outputs": [],
   "source": [
    "#creating the x and y ranges according to the above generated plot.\n",
    "x_range = np.linspace(-4, 1, 100) \n",
    "y_range = np.linspace(-6, 6, 100) \n",
    "x_grid, y_grid = np.meshgrid(x_range, y_range) # x_grid and y_grig are of size 100 X 100\n",
    "\n",
    "# converting x_grid and y_grid to continuous arrays\n",
    "x_gridflat = np.ravel(x_grid)\n",
    "y_gridflat = np.ravel(y_grid)\n",
    "\n",
    "# The last layer of the current model takes two columns as input. Hence transpose of np.vstack() is required.\n",
    "X = np.vstack((x_gridflat, y_gridflat)).T\n",
    "\n",
    "prob_contour = model_prob(X).reshape(100,100) "
   ]
  },
  {
   "cell_type": "code",
   "execution_count": 29,
   "id": "da72499a",
   "metadata": {
    "execution": {
     "iopub.execute_input": "2021-12-10T10:09:56.163416Z",
     "iopub.status.busy": "2021-12-10T10:09:56.162906Z",
     "iopub.status.idle": "2021-12-10T10:09:56.389482Z",
     "shell.execute_reply": "2021-12-10T10:09:56.389925Z"
    },
    "papermill": {
     "duration": 0.281814,
     "end_time": "2021-12-10T10:09:56.390074",
     "exception": false,
     "start_time": "2021-12-10T10:09:56.108260",
     "status": "completed"
    },
    "tags": []
   },
   "outputs": [
    {
     "data": {
      "image/png": "[encoded data removed]",
      "text/plain": [
       "<Figure size 720x648 with 1 Axes>"
      ]
     },
     "metadata": {
      "needs_background": "light"
     },
     "output_type": "display_data"
    }
   ],
   "source": [
    "plt.figure(figsize=(10,9))\n",
    "plt.scatter(testing_plot[:,0], testing_plot[:,1], alpha = 0.1, c = y_test.ravel())\n",
    "contours = plt.contour(x_grid,y_grid,prob_contour)\n",
    "plt.title('Probability Contours')\n",
    "plt.clabel(contours, inline = True );"
   ]
  },
  {
   "cell_type": "code",
   "execution_count": null,
   "id": "e81b4ac7",
   "metadata": {
    "papermill": {
     "duration": 0.051485,
     "end_time": "2021-12-10T10:09:56.490244",
     "exception": false,
     "start_time": "2021-12-10T10:09:56.438759",
     "status": "completed"
    },
    "tags": []
   },
   "outputs": [],
   "source": []
  }
 ],
 "metadata": {
  "kernelspec": {
   "display_name": "Python 3",
   "language": "python",
   "name": "python3"
  },
  "language_info": {
   "codemirror_mode": {
    "name": "ipython",
    "version": 3
   },
   "file_extension": ".py",
   "mimetype": "text/x-python",
   "name": "python",
   "nbconvert_exporter": "python",
   "pygments_lexer": "ipython3",
   "version": "3.6.15"
  },
  "papermill": {
   "default_parameters": {},
   "duration": 96.621777,
   "end_time": "2021-12-10T10:09:56.945683",
   "environment_variables": {},
   "exception": null,
   "input_path": "2020-08-11-part2.ipynb",
   "output_path": "2020-08-11-part2.ipynb",
   "parameters": {},
   "start_time": "2021-12-10T10:08:20.323906",
   "version": "2.3.3"
  }
 },
 "nbformat": 4,
 "nbformat_minor": 5
}