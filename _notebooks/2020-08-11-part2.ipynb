{
 "cells": [
  {
   "cell_type": "markdown",
   "id": "98380cd3",
   "metadata": {
    "papermill": {
     "duration": 0.035852,
     "end_time": "2022-05-29T20:10:54.718197",
     "exception": false,
     "start_time": "2022-05-29T20:10:54.682345",
     "status": "completed"
    },
    "tags": []
   },
   "source": [
    "# Distinguish Your Own Digits (DYOD)"
   ]
  },
  {
   "cell_type": "markdown",
   "id": "ef31240d",
   "metadata": {
    "papermill": {
     "duration": 0.024877,
     "end_time": "2022-05-29T20:10:54.769759",
     "exception": false,
     "start_time": "2022-05-29T20:10:54.744882",
     "status": "completed"
    },
    "tags": []
   },
   "source": [
    "You are going to write a classifier that distinguishes between the number 3 and number 8."
   ]
  },
  {
   "cell_type": "code",
   "execution_count": 1,
   "id": "b15c8646",
   "metadata": {
    "execution": {
     "iopub.execute_input": "2022-05-29T20:10:54.836476Z",
     "iopub.status.busy": "2022-05-29T20:10:54.835790Z",
     "iopub.status.idle": "2022-05-29T20:10:54.848059Z",
     "shell.execute_reply": "2022-05-29T20:10:54.847591Z"
    },
    "papermill": {
     "duration": 0.052663,
     "end_time": "2022-05-29T20:10:54.848177",
     "exception": false,
     "start_time": "2022-05-29T20:10:54.795514",
     "status": "completed"
    },
    "tags": []
   },
   "outputs": [],
   "source": [
    "%load_ext autoreload\n",
    "%autoreload 2"
   ]
  },
  {
   "cell_type": "code",
   "execution_count": 2,
   "id": "22ef38dc",
   "metadata": {
    "execution": {
     "iopub.execute_input": "2022-05-29T20:10:54.900378Z",
     "iopub.status.busy": "2022-05-29T20:10:54.899692Z",
     "iopub.status.idle": "2022-05-29T20:10:55.488778Z",
     "shell.execute_reply": "2022-05-29T20:10:55.489541Z"
    },
    "papermill": {
     "duration": 0.61782,
     "end_time": "2022-05-29T20:10:55.489757",
     "exception": false,
     "start_time": "2022-05-29T20:10:54.871937",
     "status": "completed"
    },
    "tags": []
   },
   "outputs": [],
   "source": [
    "%matplotlib inline\n",
    "import numpy as np\n",
    "import matplotlib.pyplot as plt\n",
    "import pandas as pd"
   ]
  },
  {
   "cell_type": "markdown",
   "id": "ba036198",
   "metadata": {
    "papermill": {
     "duration": 0.024556,
     "end_time": "2022-05-29T20:10:55.539494",
     "exception": false,
     "start_time": "2022-05-29T20:10:55.514938",
     "status": "completed"
    },
    "tags": []
   },
   "source": [
    "From the command line run `pip install mnist`. This is a library that will help you bring down the mnist dataset. If you run this from a notebook, you need to put  `!pip install mnist` in a cell by itself."
   ]
  },
  {
   "cell_type": "code",
   "execution_count": 3,
   "id": "bb6ad8a1",
   "metadata": {
    "execution": {
     "iopub.execute_input": "2022-05-29T20:10:55.593897Z",
     "iopub.status.busy": "2022-05-29T20:10:55.593238Z",
     "iopub.status.idle": "2022-05-29T20:10:57.411426Z",
     "shell.execute_reply": "2022-05-29T20:10:57.410389Z"
    },
    "papermill": {
     "duration": 1.84833,
     "end_time": "2022-05-29T20:10:57.411573",
     "exception": false,
     "start_time": "2022-05-29T20:10:55.563243",
     "status": "completed"
    },
    "tags": []
   },
   "outputs": [
    {
     "name": "stdout",
     "output_type": "stream",
     "text": [
      "Collecting mnist\r\n",
      "  Downloading mnist-0.2.2-py2.py3-none-any.whl (3.5 kB)\r\n"
     ]
    },
    {
     "name": "stdout",
     "output_type": "stream",
     "text": [
      "Requirement already satisfied: numpy in /opt/hostedtoolcache/Python/3.6.15/x64/lib/python3.6/site-packages (from mnist) (1.19.5)\r\n"
     ]
    },
    {
     "name": "stdout",
     "output_type": "stream",
     "text": [
      "Installing collected packages: mnist\r\n"
     ]
    },
    {
     "name": "stdout",
     "output_type": "stream",
     "text": [
      "Successfully installed mnist-0.2.2\r\n"
     ]
    }
   ],
   "source": [
    "!pip install mnist"
   ]
  },
  {
   "cell_type": "markdown",
   "id": "69df9c9a",
   "metadata": {
    "papermill": {
     "duration": 0.025254,
     "end_time": "2022-05-29T20:10:57.464300",
     "exception": false,
     "start_time": "2022-05-29T20:10:57.439046",
     "status": "completed"
    },
    "tags": []
   },
   "source": [
    "## Preparing the Data"
   ]
  },
  {
   "cell_type": "code",
   "execution_count": 4,
   "id": "7f69d806",
   "metadata": {
    "execution": {
     "iopub.execute_input": "2022-05-29T20:10:57.521895Z",
     "iopub.status.busy": "2022-05-29T20:10:57.521161Z",
     "iopub.status.idle": "2022-05-29T20:10:57.537723Z",
     "shell.execute_reply": "2022-05-29T20:10:57.537045Z"
    },
    "papermill": {
     "duration": 0.046893,
     "end_time": "2022-05-29T20:10:57.537858",
     "exception": false,
     "start_time": "2022-05-29T20:10:57.490965",
     "status": "completed"
    },
    "tags": []
   },
   "outputs": [],
   "source": [
    "import mnist"
   ]
  },
  {
   "cell_type": "code",
   "execution_count": 5,
   "id": "a411e44f",
   "metadata": {
    "execution": {
     "iopub.execute_input": "2022-05-29T20:10:57.595939Z",
     "iopub.status.busy": "2022-05-29T20:10:57.595338Z",
     "iopub.status.idle": "2022-05-29T20:10:58.165261Z",
     "shell.execute_reply": "2022-05-29T20:10:58.163971Z"
    },
    "papermill": {
     "duration": 0.599774,
     "end_time": "2022-05-29T20:10:58.165415",
     "exception": false,
     "start_time": "2022-05-29T20:10:57.565641",
     "status": "completed"
    },
    "tags": []
   },
   "outputs": [],
   "source": [
    "train_images = mnist.train_images()\n",
    "train_labels = mnist.train_labels()"
   ]
  },
  {
   "cell_type": "code",
   "execution_count": 6,
   "id": "dceab3a5",
   "metadata": {
    "execution": {
     "iopub.execute_input": "2022-05-29T20:10:58.222586Z",
     "iopub.status.busy": "2022-05-29T20:10:58.221618Z",
     "iopub.status.idle": "2022-05-29T20:10:58.237927Z",
     "shell.execute_reply": "2022-05-29T20:10:58.237390Z"
    },
    "papermill": {
     "duration": 0.047271,
     "end_time": "2022-05-29T20:10:58.238047",
     "exception": false,
     "start_time": "2022-05-29T20:10:58.190776",
     "status": "completed"
    },
    "tags": []
   },
   "outputs": [
    {
     "data": {
      "text/plain": [
       "((60000, 28, 28), (60000,))"
      ]
     },
     "execution_count": 6,
     "metadata": {},
     "output_type": "execute_result"
    }
   ],
   "source": [
    "train_images.shape, train_labels.shape"
   ]
  },
  {
   "cell_type": "code",
   "execution_count": 7,
   "id": "f50dc2bb",
   "metadata": {
    "execution": {
     "iopub.execute_input": "2022-05-29T20:10:58.296083Z",
     "iopub.status.busy": "2022-05-29T20:10:58.295443Z",
     "iopub.status.idle": "2022-05-29T20:10:58.450227Z",
     "shell.execute_reply": "2022-05-29T20:10:58.449531Z"
    },
    "papermill": {
     "duration": 0.185496,
     "end_time": "2022-05-29T20:10:58.450390",
     "exception": false,
     "start_time": "2022-05-29T20:10:58.264894",
     "status": "completed"
    },
    "tags": []
   },
   "outputs": [],
   "source": [
    "test_images = mnist.test_images()\n",
    "test_labels = mnist.test_labels()"
   ]
  },
  {
   "cell_type": "code",
   "execution_count": 8,
   "id": "fc38cf1b",
   "metadata": {
    "execution": {
     "iopub.execute_input": "2022-05-29T20:10:58.514382Z",
     "iopub.status.busy": "2022-05-29T20:10:58.513695Z",
     "iopub.status.idle": "2022-05-29T20:10:58.527720Z",
     "shell.execute_reply": "2022-05-29T20:10:58.528333Z"
    },
    "papermill": {
     "duration": 0.04862,
     "end_time": "2022-05-29T20:10:58.528471",
     "exception": false,
     "start_time": "2022-05-29T20:10:58.479851",
     "status": "completed"
    },
    "tags": []
   },
   "outputs": [
    {
     "data": {
      "text/plain": [
       "((10000, 28, 28), (10000,))"
      ]
     },
     "execution_count": 8,
     "metadata": {},
     "output_type": "execute_result"
    }
   ],
   "source": [
    "test_images.shape, test_labels.shape"
   ]
  },
  {
   "cell_type": "code",
   "execution_count": 9,
   "id": "f9ed8fe0",
   "metadata": {
    "execution": {
     "iopub.execute_input": "2022-05-29T20:10:58.586865Z",
     "iopub.status.busy": "2022-05-29T20:10:58.586196Z",
     "iopub.status.idle": "2022-05-29T20:10:58.735194Z",
     "shell.execute_reply": "2022-05-29T20:10:58.736091Z"
    },
    "papermill": {
     "duration": 0.181461,
     "end_time": "2022-05-29T20:10:58.736297",
     "exception": false,
     "start_time": "2022-05-29T20:10:58.554836",
     "status": "completed"
    },
    "tags": []
   },
   "outputs": [
    {
     "name": "stdout",
     "output_type": "stream",
     "text": [
      "2\n"
     ]
    },
    {
     "data": {
      "text/plain": [
       "<matplotlib.image.AxesImage at 0x7f239141fda0>"
      ]
     },
     "execution_count": 9,
     "metadata": {},
     "output_type": "execute_result"
    },
    {
     "data": {
      "image/png": "[encoded data removed]",
      "text/plain": [
       "<Figure size 432x288 with 1 Axes>"
      ]
     },
     "metadata": {
      "needs_background": "light"
     },
     "output_type": "display_data"
    }
   ],
   "source": [
    "image_index = 7776 # You may select anything up to 60,000\n",
    "print(train_labels[image_index]) \n",
    "plt.imshow(train_images[image_index], cmap='Greys')"
   ]
  },
  {
   "cell_type": "markdown",
   "id": "a8d2388d",
   "metadata": {
    "papermill": {
     "duration": 0.029715,
     "end_time": "2022-05-29T20:10:58.796635",
     "exception": false,
     "start_time": "2022-05-29T20:10:58.766920",
     "status": "completed"
    },
    "tags": []
   },
   "source": [
    "## Filter data to get 3 and 8 out"
   ]
  },
  {
   "cell_type": "code",
   "execution_count": 10,
   "id": "776f7fc7",
   "metadata": {
    "execution": {
     "iopub.execute_input": "2022-05-29T20:10:58.873547Z",
     "iopub.status.busy": "2022-05-29T20:10:58.866315Z",
     "iopub.status.idle": "2022-05-29T20:10:58.885580Z",
     "shell.execute_reply": "2022-05-29T20:10:58.885028Z"
    },
    "papermill": {
     "duration": 0.059217,
     "end_time": "2022-05-29T20:10:58.885712",
     "exception": false,
     "start_time": "2022-05-29T20:10:58.826495",
     "status": "completed"
    },
    "tags": []
   },
   "outputs": [],
   "source": [
    "train_filter = np.where((train_labels == 3 ) | (train_labels == 8))\n",
    "test_filter = np.where((test_labels == 3) | (test_labels == 8))\n",
    "X_train, y_train = train_images[train_filter], train_labels[train_filter]\n",
    "X_test, y_test = test_images[test_filter], test_labels[test_filter]"
   ]
  },
  {
   "cell_type": "markdown",
   "id": "948f0b7e",
   "metadata": {
    "papermill": {
     "duration": 0.027587,
     "end_time": "2022-05-29T20:10:58.941675",
     "exception": false,
     "start_time": "2022-05-29T20:10:58.914088",
     "status": "completed"
    },
    "tags": []
   },
   "source": [
    "We normalize the pizel values in the 0 to 1 range"
   ]
  },
  {
   "cell_type": "code",
   "execution_count": 11,
   "id": "ee4c2166",
   "metadata": {
    "execution": {
     "iopub.execute_input": "2022-05-29T20:10:59.001103Z",
     "iopub.status.busy": "2022-05-29T20:10:59.000417Z",
     "iopub.status.idle": "2022-05-29T20:10:59.055584Z",
     "shell.execute_reply": "2022-05-29T20:10:59.054593Z"
    },
    "papermill": {
     "duration": 0.086824,
     "end_time": "2022-05-29T20:10:59.055796",
     "exception": false,
     "start_time": "2022-05-29T20:10:58.968972",
     "status": "completed"
    },
    "tags": []
   },
   "outputs": [],
   "source": [
    "X_train = X_train/255.\n",
    "X_test = X_test/255."
   ]
  },
  {
   "cell_type": "markdown",
   "id": "ddcf4fab",
   "metadata": {
    "papermill": {
     "duration": 0.028272,
     "end_time": "2022-05-29T20:10:59.112676",
     "exception": false,
     "start_time": "2022-05-29T20:10:59.084404",
     "status": "completed"
    },
    "tags": []
   },
   "source": [
    "And setup the labels as 1 (when the digit is 3) and 0 (when the digit is 8)"
   ]
  },
  {
   "cell_type": "code",
   "execution_count": 12,
   "id": "7dc908f2",
   "metadata": {
    "execution": {
     "iopub.execute_input": "2022-05-29T20:10:59.174704Z",
     "iopub.status.busy": "2022-05-29T20:10:59.174044Z",
     "iopub.status.idle": "2022-05-29T20:10:59.189498Z",
     "shell.execute_reply": "2022-05-29T20:10:59.188919Z"
    },
    "papermill": {
     "duration": 0.048349,
     "end_time": "2022-05-29T20:10:59.189629",
     "exception": false,
     "start_time": "2022-05-29T20:10:59.141280",
     "status": "completed"
    },
    "tags": []
   },
   "outputs": [],
   "source": [
    "y_train = 1*(y_train==3)\n",
    "y_test = 1*(y_test==3)"
   ]
  },
  {
   "cell_type": "code",
   "execution_count": 13,
   "id": "01e4e969",
   "metadata": {
    "execution": {
     "iopub.execute_input": "2022-05-29T20:10:59.250216Z",
     "iopub.status.busy": "2022-05-29T20:10:59.249585Z",
     "iopub.status.idle": "2022-05-29T20:10:59.264296Z",
     "shell.execute_reply": "2022-05-29T20:10:59.263627Z"
    },
    "papermill": {
     "duration": 0.046577,
     "end_time": "2022-05-29T20:10:59.264418",
     "exception": false,
     "start_time": "2022-05-29T20:10:59.217841",
     "status": "completed"
    },
    "tags": []
   },
   "outputs": [
    {
     "data": {
      "text/plain": [
       "((11982, 28, 28), (1984, 28, 28))"
      ]
     },
     "execution_count": 13,
     "metadata": {},
     "output_type": "execute_result"
    }
   ],
   "source": [
    "X_train.shape, X_test.shape"
   ]
  },
  {
   "cell_type": "markdown",
   "id": "5ccf3f85",
   "metadata": {
    "papermill": {
     "duration": 0.028888,
     "end_time": "2022-05-29T20:10:59.322146",
     "exception": false,
     "start_time": "2022-05-29T20:10:59.293258",
     "status": "completed"
    },
    "tags": []
   },
   "source": [
    "We reshape the data to flatten the image pixels into a set of features or co-variates:"
   ]
  },
  {
   "cell_type": "code",
   "execution_count": 14,
   "id": "5286a4a3",
   "metadata": {
    "execution": {
     "iopub.execute_input": "2022-05-29T20:10:59.389013Z",
     "iopub.status.busy": "2022-05-29T20:10:59.388340Z",
     "iopub.status.idle": "2022-05-29T20:10:59.403581Z",
     "shell.execute_reply": "2022-05-29T20:10:59.404140Z"
    },
    "papermill": {
     "duration": 0.053435,
     "end_time": "2022-05-29T20:10:59.404290",
     "exception": false,
     "start_time": "2022-05-29T20:10:59.350855",
     "status": "completed"
    },
    "tags": []
   },
   "outputs": [
    {
     "data": {
      "text/plain": [
       "((11982, 784), (1984, 784))"
      ]
     },
     "execution_count": 14,
     "metadata": {},
     "output_type": "execute_result"
    }
   ],
   "source": [
    "X_train = X_train.reshape(X_train.shape[0], -1)\n",
    "X_test = X_test.reshape(X_test.shape[0], -1)\n",
    "X_train.shape, X_test.shape"
   ]
  },
  {
   "cell_type": "code",
   "execution_count": 15,
   "id": "73c5f88a",
   "metadata": {
    "execution": {
     "iopub.execute_input": "2022-05-29T20:10:59.473046Z",
     "iopub.status.busy": "2022-05-29T20:10:59.472408Z",
     "iopub.status.idle": "2022-05-29T20:10:59.493206Z",
     "shell.execute_reply": "2022-05-29T20:10:59.492681Z"
    },
    "papermill": {
     "duration": 0.059843,
     "end_time": "2022-05-29T20:10:59.493343",
     "exception": false,
     "start_time": "2022-05-29T20:10:59.433500",
     "status": "completed"
    },
    "tags": []
   },
   "outputs": [],
   "source": [
    "#Impoting functions from 'Kudzu'\n",
    "from kudzu.model import Model\n",
    "from kudzu.train import Learner\n",
    "from kudzu.optim import GD\n",
    "from kudzu.data import Data, Sampler,Dataloader\n",
    "\n",
    "from kudzu.callbacks import AccCallback\n",
    "from kudzu.callbacks import ClfCallback\n",
    "\n",
    "from kudzu.loss import MSE\n",
    "\n",
    "from kudzu.layer import Sigmoid,Relu\n",
    "from kudzu.layer import Affine"
   ]
  },
  {
   "cell_type": "markdown",
   "id": "bc01172a",
   "metadata": {
    "papermill": {
     "duration": 0.03291,
     "end_time": "2022-05-29T20:10:59.556054",
     "exception": false,
     "start_time": "2022-05-29T20:10:59.523144",
     "status": "completed"
    },
    "tags": []
   },
   "source": [
    "### Let us create a `Config` class, to store important parameters. \n",
    "This class essentially plays the role of a dictionary."
   ]
  },
  {
   "cell_type": "code",
   "execution_count": 16,
   "id": "978281aa",
   "metadata": {
    "execution": {
     "iopub.execute_input": "2022-05-29T20:10:59.623591Z",
     "iopub.status.busy": "2022-05-29T20:10:59.622882Z",
     "iopub.status.idle": "2022-05-29T20:10:59.637164Z",
     "shell.execute_reply": "2022-05-29T20:10:59.636620Z"
    },
    "papermill": {
     "duration": 0.048241,
     "end_time": "2022-05-29T20:10:59.637296",
     "exception": false,
     "start_time": "2022-05-29T20:10:59.589055",
     "status": "completed"
    },
    "tags": []
   },
   "outputs": [],
   "source": [
    "class Config:\n",
    "    pass\n",
    "config = Config()\n",
    "config.lr = 0.001\n",
    "config.num_epochs = 250\n",
    "config.bs = 50"
   ]
  },
  {
   "cell_type": "markdown",
   "id": "1385fa59",
   "metadata": {
    "papermill": {
     "duration": 0.028781,
     "end_time": "2022-05-29T20:10:59.695585",
     "exception": false,
     "start_time": "2022-05-29T20:10:59.666804",
     "status": "completed"
    },
    "tags": []
   },
   "source": [
    "### Running Models with the Training data\n",
    "Details about the network layers:\n",
    "- A first affine layer has 784 inputs and does 100 affine transforms. These are followed by a Relu\n",
    "- A second affine layer has 100 inputs from the 100 activations of the past layer, and does 100 affine transforms. These are followed by a Relu\n",
    "- A third affine layer has 100 activations and does 2 affine transformations to create an embedding for visualization. There is no non-linearity here.\n",
    "- A final \"logistic regression\" which has an affine transform from 2 inputs to 1 output, which is squeezed through a sigmoid.\n"
   ]
  },
  {
   "cell_type": "code",
   "execution_count": 17,
   "id": "2b9c66db",
   "metadata": {
    "execution": {
     "iopub.execute_input": "2022-05-29T20:10:59.759985Z",
     "iopub.status.busy": "2022-05-29T20:10:59.759259Z",
     "iopub.status.idle": "2022-05-29T20:10:59.772570Z",
     "shell.execute_reply": "2022-05-29T20:10:59.773064Z"
    },
    "papermill": {
     "duration": 0.04916,
     "end_time": "2022-05-29T20:10:59.773203",
     "exception": false,
     "start_time": "2022-05-29T20:10:59.724043",
     "status": "completed"
    },
    "tags": []
   },
   "outputs": [],
   "source": [
    "data = Data(X_train, y_train.reshape(-1,1))\n",
    "sampler = Sampler(data, config.bs, shuffle=True)\n",
    "\n",
    "dl = Dataloader(data, sampler)\n",
    "\n",
    "opt = GD(config.lr)\n",
    "loss = MSE()"
   ]
  },
  {
   "cell_type": "code",
   "execution_count": 18,
   "id": "b275e4c2",
   "metadata": {
    "execution": {
     "iopub.execute_input": "2022-05-29T20:10:59.838047Z",
     "iopub.status.busy": "2022-05-29T20:10:59.837357Z",
     "iopub.status.idle": "2022-05-29T20:10:59.851136Z",
     "shell.execute_reply": "2022-05-29T20:10:59.851624Z"
    },
    "papermill": {
     "duration": 0.049564,
     "end_time": "2022-05-29T20:10:59.851783",
     "exception": false,
     "start_time": "2022-05-29T20:10:59.802219",
     "status": "completed"
    },
    "tags": []
   },
   "outputs": [],
   "source": [
    "training_data_x = X_train\n",
    "testing_data_x = X_test\n",
    "training_data_y = y_train.reshape(-1,1)\n",
    "testing_data_y = y_test.reshape(-1,1)"
   ]
  },
  {
   "cell_type": "code",
   "execution_count": 19,
   "id": "76951160",
   "metadata": {
    "execution": {
     "iopub.execute_input": "2022-05-29T20:10:59.916680Z",
     "iopub.status.busy": "2022-05-29T20:10:59.916001Z",
     "iopub.status.idle": "2022-05-29T20:10:59.936013Z",
     "shell.execute_reply": "2022-05-29T20:10:59.935350Z"
    },
    "papermill": {
     "duration": 0.055241,
     "end_time": "2022-05-29T20:10:59.936143",
     "exception": false,
     "start_time": "2022-05-29T20:10:59.880902",
     "status": "completed"
    },
    "tags": []
   },
   "outputs": [
    {
     "name": "stdout",
     "output_type": "stream",
     "text": [
      "xavier\n",
      "xavier\n",
      "xavier\n",
      "xavier\n",
      "xavier\n"
     ]
    }
   ],
   "source": [
    "layers = [Affine(\"first\", 784, 100), Relu(\"first\"), Affine(\"second\", 100, 100), Relu(\"second\"), Affine(\"third\", 100, 2), Affine(\"last\", 2, 1), Sigmoid(\"last\")]\n",
    "model_nn = Model(layers)\n",
    "model_lr = Model([Affine(\"logits\", 784, 1), Sigmoid(\"sigmoid\")])"
   ]
  },
  {
   "cell_type": "code",
   "execution_count": 20,
   "id": "6eede77a",
   "metadata": {
    "execution": {
     "iopub.execute_input": "2022-05-29T20:11:00.002929Z",
     "iopub.status.busy": "2022-05-29T20:11:00.002114Z",
     "iopub.status.idle": "2022-05-29T20:11:00.017193Z",
     "shell.execute_reply": "2022-05-29T20:11:00.016642Z"
    },
    "papermill": {
     "duration": 0.050404,
     "end_time": "2022-05-29T20:11:00.017318",
     "exception": false,
     "start_time": "2022-05-29T20:10:59.966914",
     "status": "completed"
    },
    "tags": []
   },
   "outputs": [],
   "source": [
    "nn_learner = Learner(loss, model_nn, opt, config.num_epochs)\n",
    "acc_nn = ClfCallback(nn_learner, config.bs, training_data_x , testing_data_x, training_data_y, testing_data_y)\n",
    "nn_learner.set_callbacks([acc_nn])"
   ]
  },
  {
   "cell_type": "code",
   "execution_count": 21,
   "id": "877b6cc7",
   "metadata": {
    "execution": {
     "iopub.execute_input": "2022-05-29T20:11:00.081201Z",
     "iopub.status.busy": "2022-05-29T20:11:00.080530Z",
     "iopub.status.idle": "2022-05-29T20:11:00.094598Z",
     "shell.execute_reply": "2022-05-29T20:11:00.094051Z"
    },
    "papermill": {
     "duration": 0.047669,
     "end_time": "2022-05-29T20:11:00.094719",
     "exception": false,
     "start_time": "2022-05-29T20:11:00.047050",
     "status": "completed"
    },
    "tags": []
   },
   "outputs": [],
   "source": [
    "lr_learner = Learner(loss, model_lr, opt, config.num_epochs)\n",
    "acc_lr = ClfCallback(lr_learner, config.bs, training_data_x , testing_data_x, training_data_y, testing_data_y)\n",
    "lr_learner.set_callbacks([acc_lr])"
   ]
  },
  {
   "cell_type": "code",
   "execution_count": 22,
   "id": "d9b133c3",
   "metadata": {
    "execution": {
     "iopub.execute_input": "2022-05-29T20:11:00.156623Z",
     "iopub.status.busy": "2022-05-29T20:11:00.155967Z",
     "iopub.status.idle": "2022-05-29T20:12:24.713893Z",
     "shell.execute_reply": "2022-05-29T20:12:24.714755Z"
    },
    "papermill": {
     "duration": 84.591643,
     "end_time": "2022-05-29T20:12:24.714910",
     "exception": false,
     "start_time": "2022-05-29T20:11:00.123267",
     "status": "completed"
    },
    "tags": []
   },
   "outputs": [
    {
     "name": "stdout",
     "output_type": "stream",
     "text": [
      "Epoch 0, Loss 0.2469\n",
      "Training Accuracy: 0.5874, Testing Accuracy: 0.5887\n",
      "\n"
     ]
    },
    {
     "name": "stdout",
     "output_type": "stream",
     "text": [
      "Epoch 10, Loss 0.0996\n",
      "Training Accuracy: 0.9195, Testing Accuracy: 0.9330\n",
      "\n"
     ]
    },
    {
     "name": "stdout",
     "output_type": "stream",
     "text": [
      "Epoch 20, Loss 0.0585\n",
      "Training Accuracy: 0.9413, Testing Accuracy: 0.9526\n",
      "\n"
     ]
    },
    {
     "name": "stdout",
     "output_type": "stream",
     "text": [
      "Epoch 30, Loss 0.0457\n",
      "Training Accuracy: 0.9512, Testing Accuracy: 0.9567\n",
      "\n"
     ]
    },
    {
     "name": "stdout",
     "output_type": "stream",
     "text": [
      "Epoch 40, Loss 0.0394\n",
      "Training Accuracy: 0.9562, Testing Accuracy: 0.9627\n",
      "\n"
     ]
    },
    {
     "name": "stdout",
     "output_type": "stream",
     "text": [
      "Epoch 50, Loss 0.0355\n",
      "Training Accuracy: 0.9599, Testing Accuracy: 0.9632\n",
      "\n"
     ]
    },
    {
     "name": "stdout",
     "output_type": "stream",
     "text": [
      "Epoch 60, Loss 0.0328\n",
      "Training Accuracy: 0.9620, Testing Accuracy: 0.9637\n",
      "\n"
     ]
    },
    {
     "name": "stdout",
     "output_type": "stream",
     "text": [
      "Epoch 70, Loss 0.0308\n",
      "Training Accuracy: 0.9647, Testing Accuracy: 0.9657\n",
      "\n"
     ]
    },
    {
     "name": "stdout",
     "output_type": "stream",
     "text": [
      "Epoch 80, Loss 0.0293\n",
      "Training Accuracy: 0.9667, Testing Accuracy: 0.9672\n",
      "\n"
     ]
    },
    {
     "name": "stdout",
     "output_type": "stream",
     "text": [
      "Epoch 90, Loss 0.028\n",
      "Training Accuracy: 0.9685, Testing Accuracy: 0.9693\n",
      "\n"
     ]
    },
    {
     "name": "stdout",
     "output_type": "stream",
     "text": [
      "Epoch 100, Loss 0.0269\n",
      "Training Accuracy: 0.9700, Testing Accuracy: 0.9693\n",
      "\n"
     ]
    },
    {
     "name": "stdout",
     "output_type": "stream",
     "text": [
      "Epoch 110, Loss 0.0259\n",
      "Training Accuracy: 0.9710, Testing Accuracy: 0.9698\n",
      "\n"
     ]
    },
    {
     "name": "stdout",
     "output_type": "stream",
     "text": [
      "Epoch 120, Loss 0.0251\n",
      "Training Accuracy: 0.9720, Testing Accuracy: 0.9703\n",
      "\n"
     ]
    },
    {
     "name": "stdout",
     "output_type": "stream",
     "text": [
      "Epoch 130, Loss 0.0243\n",
      "Training Accuracy: 0.9728, Testing Accuracy: 0.9708\n",
      "\n"
     ]
    },
    {
     "name": "stdout",
     "output_type": "stream",
     "text": [
      "Epoch 140, Loss 0.0237\n",
      "Training Accuracy: 0.9740, Testing Accuracy: 0.9698\n",
      "\n"
     ]
    },
    {
     "name": "stdout",
     "output_type": "stream",
     "text": [
      "Epoch 150, Loss 0.023\n",
      "Training Accuracy: 0.9744, Testing Accuracy: 0.9703\n",
      "\n"
     ]
    },
    {
     "name": "stdout",
     "output_type": "stream",
     "text": [
      "Epoch 160, Loss 0.0224\n",
      "Training Accuracy: 0.9750, Testing Accuracy: 0.9708\n",
      "\n"
     ]
    },
    {
     "name": "stdout",
     "output_type": "stream",
     "text": [
      "Epoch 170, Loss 0.0219\n",
      "Training Accuracy: 0.9758, Testing Accuracy: 0.9708\n",
      "\n"
     ]
    },
    {
     "name": "stdout",
     "output_type": "stream",
     "text": [
      "Epoch 180, Loss 0.0214\n",
      "Training Accuracy: 0.9768, Testing Accuracy: 0.9708\n",
      "\n"
     ]
    },
    {
     "name": "stdout",
     "output_type": "stream",
     "text": [
      "Epoch 190, Loss 0.0209\n",
      "Training Accuracy: 0.9773, Testing Accuracy: 0.9703\n",
      "\n"
     ]
    },
    {
     "name": "stdout",
     "output_type": "stream",
     "text": [
      "Epoch 200, Loss 0.0204\n",
      "Training Accuracy: 0.9777, Testing Accuracy: 0.9703\n",
      "\n"
     ]
    },
    {
     "name": "stdout",
     "output_type": "stream",
     "text": [
      "Epoch 210, Loss 0.02\n",
      "Training Accuracy: 0.9783, Testing Accuracy: 0.9708\n",
      "\n"
     ]
    },
    {
     "name": "stdout",
     "output_type": "stream",
     "text": [
      "Epoch 220, Loss 0.0196\n",
      "Training Accuracy: 0.9786, Testing Accuracy: 0.9708\n",
      "\n"
     ]
    },
    {
     "name": "stdout",
     "output_type": "stream",
     "text": [
      "Epoch 230, Loss 0.0192\n",
      "Training Accuracy: 0.9788, Testing Accuracy: 0.9718\n",
      "\n"
     ]
    },
    {
     "name": "stdout",
     "output_type": "stream",
     "text": [
      "Epoch 240, Loss 0.0188\n",
      "Training Accuracy: 0.9793, Testing Accuracy: 0.9723\n",
      "\n"
     ]
    },
    {
     "data": {
      "text/plain": [
       "0.04969483679300505"
      ]
     },
     "execution_count": 22,
     "metadata": {},
     "output_type": "execute_result"
    }
   ],
   "source": [
    "nn_learner.train_loop(dl)"
   ]
  },
  {
   "cell_type": "code",
   "execution_count": 23,
   "id": "e0163366",
   "metadata": {
    "execution": {
     "iopub.execute_input": "2022-05-29T20:12:24.802109Z",
     "iopub.status.busy": "2022-05-29T20:12:24.801533Z",
     "iopub.status.idle": "2022-05-29T20:12:39.683697Z",
     "shell.execute_reply": "2022-05-29T20:12:39.684660Z"
    },
    "papermill": {
     "duration": 14.93265,
     "end_time": "2022-05-29T20:12:39.684837",
     "exception": false,
     "start_time": "2022-05-29T20:12:24.752187",
     "status": "completed"
    },
    "tags": []
   },
   "outputs": [
    {
     "name": "stdout",
     "output_type": "stream",
     "text": [
      "Epoch 0, Loss 0.2151\n",
      "Training Accuracy: 0.7427, Testing Accuracy: 0.7566\n",
      "\n"
     ]
    },
    {
     "name": "stdout",
     "output_type": "stream",
     "text": [
      "Epoch 10, Loss 0.1033\n",
      "Training Accuracy: 0.9022, Testing Accuracy: 0.9133\n",
      "\n"
     ]
    },
    {
     "name": "stdout",
     "output_type": "stream",
     "text": [
      "Epoch 20, Loss 0.0805\n",
      "Training Accuracy: 0.9224, Testing Accuracy: 0.9330\n",
      "\n"
     ]
    },
    {
     "name": "stdout",
     "output_type": "stream",
     "text": [
      "Epoch 30, Loss 0.0695\n",
      "Training Accuracy: 0.9329, Testing Accuracy: 0.9446\n",
      "\n"
     ]
    },
    {
     "name": "stdout",
     "output_type": "stream",
     "text": [
      "Epoch 40, Loss 0.0627\n",
      "Training Accuracy: 0.9387, Testing Accuracy: 0.9511\n",
      "\n"
     ]
    },
    {
     "name": "stdout",
     "output_type": "stream",
     "text": [
      "Epoch 50, Loss 0.0581\n",
      "Training Accuracy: 0.9421, Testing Accuracy: 0.9546\n",
      "\n"
     ]
    },
    {
     "name": "stdout",
     "output_type": "stream",
     "text": [
      "Epoch 60, Loss 0.0547\n",
      "Training Accuracy: 0.9449, Testing Accuracy: 0.9546\n",
      "\n"
     ]
    },
    {
     "name": "stdout",
     "output_type": "stream",
     "text": [
      "Epoch 70, Loss 0.052\n",
      "Training Accuracy: 0.9478, Testing Accuracy: 0.9567\n",
      "\n"
     ]
    },
    {
     "name": "stdout",
     "output_type": "stream",
     "text": [
      "Epoch 80, Loss 0.0499\n",
      "Training Accuracy: 0.9503, Testing Accuracy: 0.9597\n",
      "\n"
     ]
    },
    {
     "name": "stdout",
     "output_type": "stream",
     "text": [
      "Epoch 90, Loss 0.0482\n",
      "Training Accuracy: 0.9520, Testing Accuracy: 0.9617\n",
      "\n"
     ]
    },
    {
     "name": "stdout",
     "output_type": "stream",
     "text": [
      "Epoch 100, Loss 0.0467\n",
      "Training Accuracy: 0.9537, Testing Accuracy: 0.9622\n",
      "\n"
     ]
    },
    {
     "name": "stdout",
     "output_type": "stream",
     "text": [
      "Epoch 110, Loss 0.0455\n",
      "Training Accuracy: 0.9545, Testing Accuracy: 0.9622\n",
      "\n"
     ]
    },
    {
     "name": "stdout",
     "output_type": "stream",
     "text": [
      "Epoch 120, Loss 0.0444\n",
      "Training Accuracy: 0.9553, Testing Accuracy: 0.9647\n",
      "\n"
     ]
    },
    {
     "name": "stdout",
     "output_type": "stream",
     "text": [
      "Epoch 130, Loss 0.0434\n",
      "Training Accuracy: 0.9560, Testing Accuracy: 0.9647\n",
      "\n"
     ]
    },
    {
     "name": "stdout",
     "output_type": "stream",
     "text": [
      "Epoch 140, Loss 0.0425\n",
      "Training Accuracy: 0.9564, Testing Accuracy: 0.9642\n",
      "\n"
     ]
    },
    {
     "name": "stdout",
     "output_type": "stream",
     "text": [
      "Epoch 150, Loss 0.0418\n",
      "Training Accuracy: 0.9575, Testing Accuracy: 0.9657\n",
      "\n"
     ]
    },
    {
     "name": "stdout",
     "output_type": "stream",
     "text": [
      "Epoch 160, Loss 0.0411\n",
      "Training Accuracy: 0.9577, Testing Accuracy: 0.9657\n",
      "\n"
     ]
    },
    {
     "name": "stdout",
     "output_type": "stream",
     "text": [
      "Epoch 170, Loss 0.0405\n",
      "Training Accuracy: 0.9581, Testing Accuracy: 0.9657\n",
      "\n"
     ]
    },
    {
     "name": "stdout",
     "output_type": "stream",
     "text": [
      "Epoch 180, Loss 0.0399\n",
      "Training Accuracy: 0.9587, Testing Accuracy: 0.9662\n",
      "\n"
     ]
    },
    {
     "name": "stdout",
     "output_type": "stream",
     "text": [
      "Epoch 190, Loss 0.0393\n",
      "Training Accuracy: 0.9588, Testing Accuracy: 0.9667\n",
      "\n"
     ]
    },
    {
     "name": "stdout",
     "output_type": "stream",
     "text": [
      "Epoch 200, Loss 0.0389\n",
      "Training Accuracy: 0.9590, Testing Accuracy: 0.9667\n",
      "\n"
     ]
    },
    {
     "name": "stdout",
     "output_type": "stream",
     "text": [
      "Epoch 210, Loss 0.0384\n",
      "Training Accuracy: 0.9590, Testing Accuracy: 0.9662\n",
      "\n"
     ]
    },
    {
     "name": "stdout",
     "output_type": "stream",
     "text": [
      "Epoch 220, Loss 0.038\n",
      "Training Accuracy: 0.9594, Testing Accuracy: 0.9662\n",
      "\n"
     ]
    },
    {
     "name": "stdout",
     "output_type": "stream",
     "text": [
      "Epoch 230, Loss 0.0376\n",
      "Training Accuracy: 0.9596, Testing Accuracy: 0.9662\n",
      "\n"
     ]
    },
    {
     "name": "stdout",
     "output_type": "stream",
     "text": [
      "Epoch 240, Loss 0.0372\n",
      "Training Accuracy: 0.9599, Testing Accuracy: 0.9667\n",
      "\n"
     ]
    },
    {
     "data": {
      "text/plain": [
       "0.00974571750409393"
      ]
     },
     "execution_count": 23,
     "metadata": {},
     "output_type": "execute_result"
    }
   ],
   "source": [
    "lr_learner.train_loop(dl)"
   ]
  },
  {
   "cell_type": "code",
   "execution_count": 24,
   "id": "ca410940",
   "metadata": {
    "execution": {
     "iopub.execute_input": "2022-05-29T20:12:39.786993Z",
     "iopub.status.busy": "2022-05-29T20:12:39.786359Z",
     "iopub.status.idle": "2022-05-29T20:12:40.034538Z",
     "shell.execute_reply": "2022-05-29T20:12:40.034001Z"
    },
    "papermill": {
     "duration": 0.305117,
     "end_time": "2022-05-29T20:12:40.034664",
     "exception": false,
     "start_time": "2022-05-29T20:12:39.729547",
     "status": "completed"
    },
    "tags": []
   },
   "outputs": [
    {
     "data": {
      "text/plain": [
       "<matplotlib.legend.Legend at 0x7f238e2514a8>"
      ]
     },
     "execution_count": 24,
     "metadata": {},
     "output_type": "execute_result"
    },
    {
     "data": {
      "image/png": "[encoded data removed]",
      "text/plain": [
       "<Figure size 1080x720 with 1 Axes>"
      ]
     },
     "metadata": {
      "needs_background": "light"
     },
     "output_type": "display_data"
    }
   ],
   "source": [
    "#comparing the results of NN and LR\n",
    "plt.figure(figsize=(15,10))\n",
    "\n",
    "# Neural Network plots\n",
    "plt.plot(acc_nn.accuracies, 'r-', label = \"Training Accuracies - NN\")\n",
    "plt.plot(acc_nn.test_accuracies, 'g-', label = \"Testing Accuracies - NN\")\n",
    "\n",
    "# Logistic Regression plots\n",
    "plt.plot(acc_lr.accuracies, 'k-', label = \"Training Accuracies - LR\")\n",
    "plt.plot(acc_lr.test_accuracies, 'b-', label = \"Testing Accuracies - LR\")\n",
    "plt.legend()"
   ]
  },
  {
   "cell_type": "markdown",
   "id": "80dfb35c",
   "metadata": {
    "papermill": {
     "duration": 0.041081,
     "end_time": "2022-05-29T20:12:40.121572",
     "exception": false,
     "start_time": "2022-05-29T20:12:40.080491",
     "status": "completed"
    },
    "tags": []
   },
   "source": [
    "#### Plotting the outputs of this layer of the NN.\n"
   ]
  },
  {
   "cell_type": "code",
   "execution_count": 25,
   "id": "45eb2ff5",
   "metadata": {
    "execution": {
     "iopub.execute_input": "2022-05-29T20:12:40.214648Z",
     "iopub.status.busy": "2022-05-29T20:12:40.213940Z",
     "iopub.status.idle": "2022-05-29T20:12:40.234582Z",
     "shell.execute_reply": "2022-05-29T20:12:40.235434Z"
    },
    "papermill": {
     "duration": 0.070934,
     "end_time": "2022-05-29T20:12:40.235582",
     "exception": false,
     "start_time": "2022-05-29T20:12:40.164648",
     "status": "completed"
    },
    "tags": []
   },
   "outputs": [],
   "source": [
    "new_model = Model(layers[:-2])\n",
    "testing_plot = new_model(testing_data_x)"
   ]
  },
  {
   "cell_type": "code",
   "execution_count": 26,
   "id": "4c0a5485",
   "metadata": {
    "execution": {
     "iopub.execute_input": "2022-05-29T20:12:40.332137Z",
     "iopub.status.busy": "2022-05-29T20:12:40.331101Z",
     "iopub.status.idle": "2022-05-29T20:12:40.549018Z",
     "shell.execute_reply": "2022-05-29T20:12:40.548488Z"
    },
    "papermill": {
     "duration": 0.267693,
     "end_time": "2022-05-29T20:12:40.549146",
     "exception": false,
     "start_time": "2022-05-29T20:12:40.281453",
     "status": "completed"
    },
    "tags": []
   },
   "outputs": [
    {
     "data": {
      "text/plain": [
       "Text(0.5, 1.0, 'Outputs')"
      ]
     },
     "execution_count": 26,
     "metadata": {},
     "output_type": "execute_result"
    },
    {
     "data": {
      "image/png": "[encoded data removed]",
      "text/plain": [
       "<Figure size 576x504 with 1 Axes>"
      ]
     },
     "metadata": {
      "needs_background": "light"
     },
     "output_type": "display_data"
    }
   ],
   "source": [
    "# Plotting the scatter plot of points and color coding by class\n",
    "plt.figure(figsize=(8,7))\n",
    "plt.scatter(testing_plot[:,0], testing_plot[:,1], alpha = 0.1, c = y_test.ravel());\n",
    "plt.title('Outputs')"
   ]
  },
  {
   "cell_type": "markdown",
   "id": "a74fcf8f",
   "metadata": {
    "papermill": {
     "duration": 0.045357,
     "end_time": "2022-05-29T20:12:40.639558",
     "exception": false,
     "start_time": "2022-05-29T20:12:40.594201",
     "status": "completed"
    },
    "tags": []
   },
   "source": [
    "Probability contours"
   ]
  },
  {
   "cell_type": "code",
   "execution_count": 27,
   "id": "d0afc8e3",
   "metadata": {
    "execution": {
     "iopub.execute_input": "2022-05-29T20:12:40.765554Z",
     "iopub.status.busy": "2022-05-29T20:12:40.764890Z",
     "iopub.status.idle": "2022-05-29T20:12:40.779731Z",
     "shell.execute_reply": "2022-05-29T20:12:40.779185Z"
    },
    "papermill": {
     "duration": 0.066233,
     "end_time": "2022-05-29T20:12:40.779848",
     "exception": false,
     "start_time": "2022-05-29T20:12:40.713615",
     "status": "completed"
    },
    "tags": []
   },
   "outputs": [],
   "source": [
    "model_prob = Model(layers[-2:]) "
   ]
  },
  {
   "cell_type": "code",
   "execution_count": 28,
   "id": "9b96e238",
   "metadata": {
    "execution": {
     "iopub.execute_input": "2022-05-29T20:12:40.880147Z",
     "iopub.status.busy": "2022-05-29T20:12:40.879466Z",
     "iopub.status.idle": "2022-05-29T20:12:40.897782Z",
     "shell.execute_reply": "2022-05-29T20:12:40.898281Z"
    },
    "papermill": {
     "duration": 0.073744,
     "end_time": "2022-05-29T20:12:40.898432",
     "exception": false,
     "start_time": "2022-05-29T20:12:40.824688",
     "status": "completed"
    },
    "tags": []
   },
   "outputs": [],
   "source": [
    "#creating the x and y ranges according to the above generated plot.\n",
    "x_range = np.linspace(-4, 1, 100) \n",
    "y_range = np.linspace(-6, 6, 100) \n",
    "x_grid, y_grid = np.meshgrid(x_range, y_range) # x_grid and y_grig are of size 100 X 100\n",
    "\n",
    "# converting x_grid and y_grid to continuous arrays\n",
    "x_gridflat = np.ravel(x_grid)\n",
    "y_gridflat = np.ravel(y_grid)\n",
    "\n",
    "# The last layer of the current model takes two columns as input. Hence transpose of np.vstack() is required.\n",
    "X = np.vstack((x_gridflat, y_gridflat)).T\n",
    "\n",
    "prob_contour = model_prob(X).reshape(100,100) "
   ]
  },
  {
   "cell_type": "code",
   "execution_count": 29,
   "id": "da72499a",
   "metadata": {
    "execution": {
     "iopub.execute_input": "2022-05-29T20:12:41.010883Z",
     "iopub.status.busy": "2022-05-29T20:12:41.010199Z",
     "iopub.status.idle": "2022-05-29T20:12:41.283097Z",
     "shell.execute_reply": "2022-05-29T20:12:41.283596Z"
    },
    "papermill": {
     "duration": 0.332804,
     "end_time": "2022-05-29T20:12:41.283746",
     "exception": false,
     "start_time": "2022-05-29T20:12:40.950942",
     "status": "completed"
    },
    "tags": []
   },
   "outputs": [
    {
     "data": {
      "image/png": "[encoded data removed]",
      "text/plain": [
       "<Figure size 720x648 with 1 Axes>"
      ]
     },
     "metadata": {
      "needs_background": "light"
     },
     "output_type": "display_data"
    }
   ],
   "source": [
    "plt.figure(figsize=(10,9))\n",
    "plt.scatter(testing_plot[:,0], testing_plot[:,1], alpha = 0.1, c = y_test.ravel())\n",
    "contours = plt.contour(x_grid,y_grid,prob_contour)\n",
    "plt.title('Probability Contours')\n",
    "plt.clabel(contours, inline = True );"
   ]
  },
  {
   "cell_type": "code",
   "execution_count": null,
   "id": "e81b4ac7",
   "metadata": {
    "papermill": {
     "duration": 0.050591,
     "end_time": "2022-05-29T20:12:41.384330",
     "exception": false,
     "start_time": "2022-05-29T20:12:41.333739",
     "status": "completed"
    },
    "tags": []
   },
   "outputs": [],
   "source": []
  }
 ],
 "metadata": {
  "kernelspec": {
   "display_name": "Python 3",
   "language": "python",
   "name": "python3"
  },
  "language_info": {
   "codemirror_mode": {
    "name": "ipython",
    "version": 3
   },
   "file_extension": ".py",
   "mimetype": "text/x-python",
   "name": "python",
   "nbconvert_exporter": "python",
   "pygments_lexer": "ipython3",
   "version": "3.6.15"
  },
  "papermill": {
   "default_parameters": {},
   "duration": 108.463218,
   "end_time": "2022-05-29T20:12:41.857880",
   "environment_variables": {},
   "exception": null,
   "input_path": "2020-08-11-part2.ipynb",
   "output_path": "2020-08-11-part2.ipynb",
   "parameters": {},
   "start_time": "2022-05-29T20:10:53.394662",
   "version": "2.3.3"
  }
 },
 "nbformat": 4,
 "nbformat_minor": 5
}