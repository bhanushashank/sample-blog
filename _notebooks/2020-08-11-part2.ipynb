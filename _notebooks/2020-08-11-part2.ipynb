{
 "cells": [
  {
   "cell_type": "markdown",
   "id": "98380cd3",
   "metadata": {
    "papermill": {
     "duration": 0.029253,
     "end_time": "2022-10-05T20:11:24.342060",
     "exception": false,
     "start_time": "2022-10-05T20:11:24.312807",
     "status": "completed"
    },
    "tags": []
   },
   "source": [
    "# Distinguish Your Own Digits (DYOD)"
   ]
  },
  {
   "cell_type": "markdown",
   "id": "ef31240d",
   "metadata": {
    "papermill": {
     "duration": 0.024462,
     "end_time": "2022-10-05T20:11:24.391708",
     "exception": false,
     "start_time": "2022-10-05T20:11:24.367246",
     "status": "completed"
    },
    "tags": []
   },
   "source": [
    "You are going to write a classifier that distinguishes between the number 3 and number 8."
   ]
  },
  {
   "cell_type": "code",
   "execution_count": 1,
   "id": "b15c8646",
   "metadata": {
    "execution": {
     "iopub.execute_input": "2022-10-05T20:11:24.450888Z",
     "iopub.status.busy": "2022-10-05T20:11:24.450311Z",
     "iopub.status.idle": "2022-10-05T20:11:24.460383Z",
     "shell.execute_reply": "2022-10-05T20:11:24.460840Z"
    },
    "papermill": {
     "duration": 0.044913,
     "end_time": "2022-10-05T20:11:24.460976",
     "exception": false,
     "start_time": "2022-10-05T20:11:24.416063",
     "status": "completed"
    },
    "tags": []
   },
   "outputs": [],
   "source": [
    "%load_ext autoreload\n",
    "%autoreload 2"
   ]
  },
  {
   "cell_type": "code",
   "execution_count": 2,
   "id": "22ef38dc",
   "metadata": {
    "execution": {
     "iopub.execute_input": "2022-10-05T20:11:24.514706Z",
     "iopub.status.busy": "2022-10-05T20:11:24.514110Z",
     "iopub.status.idle": "2022-10-05T20:11:25.030880Z",
     "shell.execute_reply": "2022-10-05T20:11:25.030366Z"
    },
    "papermill": {
     "duration": 0.545244,
     "end_time": "2022-10-05T20:11:25.030992",
     "exception": false,
     "start_time": "2022-10-05T20:11:24.485748",
     "status": "completed"
    },
    "tags": []
   },
   "outputs": [],
   "source": [
    "%matplotlib inline\n",
    "import numpy as np\n",
    "import matplotlib.pyplot as plt\n",
    "import pandas as pd"
   ]
  },
  {
   "cell_type": "markdown",
   "id": "ba036198",
   "metadata": {
    "papermill": {
     "duration": 0.02457,
     "end_time": "2022-10-05T20:11:25.080219",
     "exception": false,
     "start_time": "2022-10-05T20:11:25.055649",
     "status": "completed"
    },
    "tags": []
   },
   "source": [
    "From the command line run `pip install mnist`. This is a library that will help you bring down the mnist dataset. If you run this from a notebook, you need to put  `!pip install mnist` in a cell by itself."
   ]
  },
  {
   "cell_type": "code",
   "execution_count": 3,
   "id": "bb6ad8a1",
   "metadata": {
    "execution": {
     "iopub.execute_input": "2022-10-05T20:11:25.133441Z",
     "iopub.status.busy": "2022-10-05T20:11:25.132888Z",
     "iopub.status.idle": "2022-10-05T20:11:26.846492Z",
     "shell.execute_reply": "2022-10-05T20:11:26.845978Z"
    },
    "papermill": {
     "duration": 1.741786,
     "end_time": "2022-10-05T20:11:26.846605",
     "exception": false,
     "start_time": "2022-10-05T20:11:25.104819",
     "status": "completed"
    },
    "tags": []
   },
   "outputs": [
    {
     "name": "stdout",
     "output_type": "stream",
     "text": [
      "Collecting mnist\r\n"
     ]
    },
    {
     "name": "stdout",
     "output_type": "stream",
     "text": [
      "  Downloading mnist-0.2.2-py2.py3-none-any.whl (3.5 kB)\r\n"
     ]
    },
    {
     "name": "stdout",
     "output_type": "stream",
     "text": [
      "Requirement already satisfied: numpy in /opt/hostedtoolcache/Python/3.6.15/x64/lib/python3.6/site-packages (from mnist) (1.19.5)\r\n"
     ]
    },
    {
     "name": "stdout",
     "output_type": "stream",
     "text": [
      "Installing collected packages: mnist\r\n"
     ]
    },
    {
     "name": "stdout",
     "output_type": "stream",
     "text": [
      "Successfully installed mnist-0.2.2\r\n"
     ]
    }
   ],
   "source": [
    "!pip install mnist"
   ]
  },
  {
   "cell_type": "markdown",
   "id": "69df9c9a",
   "metadata": {
    "papermill": {
     "duration": 0.026207,
     "end_time": "2022-10-05T20:11:26.899207",
     "exception": false,
     "start_time": "2022-10-05T20:11:26.873000",
     "status": "completed"
    },
    "tags": []
   },
   "source": [
    "## Preparing the Data"
   ]
  },
  {
   "cell_type": "code",
   "execution_count": 4,
   "id": "7f69d806",
   "metadata": {
    "execution": {
     "iopub.execute_input": "2022-10-05T20:11:26.955092Z",
     "iopub.status.busy": "2022-10-05T20:11:26.954532Z",
     "iopub.status.idle": "2022-10-05T20:11:26.968609Z",
     "shell.execute_reply": "2022-10-05T20:11:26.968141Z"
    },
    "papermill": {
     "duration": 0.043327,
     "end_time": "2022-10-05T20:11:26.968711",
     "exception": false,
     "start_time": "2022-10-05T20:11:26.925384",
     "status": "completed"
    },
    "tags": []
   },
   "outputs": [],
   "source": [
    "import mnist"
   ]
  },
  {
   "cell_type": "code",
   "execution_count": 5,
   "id": "a411e44f",
   "metadata": {
    "execution": {
     "iopub.execute_input": "2022-10-05T20:11:27.024253Z",
     "iopub.status.busy": "2022-10-05T20:11:27.023685Z",
     "iopub.status.idle": "2022-10-05T20:11:27.730295Z",
     "shell.execute_reply": "2022-10-05T20:11:27.729687Z"
    },
    "papermill": {
     "duration": 0.735814,
     "end_time": "2022-10-05T20:11:27.730405",
     "exception": false,
     "start_time": "2022-10-05T20:11:26.994591",
     "status": "completed"
    },
    "tags": []
   },
   "outputs": [],
   "source": [
    "train_images = mnist.train_images()\n",
    "train_labels = mnist.train_labels()"
   ]
  },
  {
   "cell_type": "code",
   "execution_count": 6,
   "id": "dceab3a5",
   "metadata": {
    "execution": {
     "iopub.execute_input": "2022-10-05T20:11:27.786117Z",
     "iopub.status.busy": "2022-10-05T20:11:27.785557Z",
     "iopub.status.idle": "2022-10-05T20:11:27.799987Z",
     "shell.execute_reply": "2022-10-05T20:11:27.799517Z"
    },
    "papermill": {
     "duration": 0.043513,
     "end_time": "2022-10-05T20:11:27.800092",
     "exception": false,
     "start_time": "2022-10-05T20:11:27.756579",
     "status": "completed"
    },
    "tags": []
   },
   "outputs": [
    {
     "data": {
      "text/plain": [
       "((60000, 28, 28), (60000,))"
      ]
     },
     "execution_count": 6,
     "metadata": {},
     "output_type": "execute_result"
    }
   ],
   "source": [
    "train_images.shape, train_labels.shape"
   ]
  },
  {
   "cell_type": "code",
   "execution_count": 7,
   "id": "f50dc2bb",
   "metadata": {
    "execution": {
     "iopub.execute_input": "2022-10-05T20:11:27.855954Z",
     "iopub.status.busy": "2022-10-05T20:11:27.855379Z",
     "iopub.status.idle": "2022-10-05T20:11:28.089734Z",
     "shell.execute_reply": "2022-10-05T20:11:28.089213Z"
    },
    "papermill": {
     "duration": 0.263509,
     "end_time": "2022-10-05T20:11:28.089847",
     "exception": false,
     "start_time": "2022-10-05T20:11:27.826338",
     "status": "completed"
    },
    "tags": []
   },
   "outputs": [],
   "source": [
    "test_images = mnist.test_images()\n",
    "test_labels = mnist.test_labels()"
   ]
  },
  {
   "cell_type": "code",
   "execution_count": 8,
   "id": "fc38cf1b",
   "metadata": {
    "execution": {
     "iopub.execute_input": "2022-10-05T20:11:28.146351Z",
     "iopub.status.busy": "2022-10-05T20:11:28.145802Z",
     "iopub.status.idle": "2022-10-05T20:11:28.158862Z",
     "shell.execute_reply": "2022-10-05T20:11:28.158406Z"
    },
    "papermill": {
     "duration": 0.042439,
     "end_time": "2022-10-05T20:11:28.158964",
     "exception": false,
     "start_time": "2022-10-05T20:11:28.116525",
     "status": "completed"
    },
    "tags": []
   },
   "outputs": [
    {
     "data": {
      "text/plain": [
       "((10000, 28, 28), (10000,))"
      ]
     },
     "execution_count": 8,
     "metadata": {},
     "output_type": "execute_result"
    }
   ],
   "source": [
    "test_images.shape, test_labels.shape"
   ]
  },
  {
   "cell_type": "code",
   "execution_count": 9,
   "id": "f9ed8fe0",
   "metadata": {
    "execution": {
     "iopub.execute_input": "2022-10-05T20:11:28.215839Z",
     "iopub.status.busy": "2022-10-05T20:11:28.215245Z",
     "iopub.status.idle": "2022-10-05T20:11:28.349020Z",
     "shell.execute_reply": "2022-10-05T20:11:28.349473Z"
    },
    "papermill": {
     "duration": 0.164057,
     "end_time": "2022-10-05T20:11:28.349604",
     "exception": false,
     "start_time": "2022-10-05T20:11:28.185547",
     "status": "completed"
    },
    "tags": []
   },
   "outputs": [
    {
     "name": "stdout",
     "output_type": "stream",
     "text": [
      "2\n"
     ]
    },
    {
     "data": {
      "text/plain": [
       "<matplotlib.image.AxesImage at 0x7f6114ac2c88>"
      ]
     },
     "execution_count": 9,
     "metadata": {},
     "output_type": "execute_result"
    },
    {
     "data": {
      "image/png": "[encoded data removed]",
      "text/plain": [
       "<Figure size 432x288 with 1 Axes>"
      ]
     },
     "metadata": {
      "needs_background": "light"
     },
     "output_type": "display_data"
    }
   ],
   "source": [
    "image_index = 7776 # You may select anything up to 60,000\n",
    "print(train_labels[image_index]) \n",
    "plt.imshow(train_images[image_index], cmap='Greys')"
   ]
  },
  {
   "cell_type": "markdown",
   "id": "a8d2388d",
   "metadata": {
    "papermill": {
     "duration": 0.027894,
     "end_time": "2022-10-05T20:11:28.405414",
     "exception": false,
     "start_time": "2022-10-05T20:11:28.377520",
     "status": "completed"
    },
    "tags": []
   },
   "source": [
    "## Filter data to get 3 and 8 out"
   ]
  },
  {
   "cell_type": "code",
   "execution_count": 10,
   "id": "776f7fc7",
   "metadata": {
    "execution": {
     "iopub.execute_input": "2022-10-05T20:11:28.465208Z",
     "iopub.status.busy": "2022-10-05T20:11:28.464636Z",
     "iopub.status.idle": "2022-10-05T20:11:28.479438Z",
     "shell.execute_reply": "2022-10-05T20:11:28.478883Z"
    },
    "papermill": {
     "duration": 0.046374,
     "end_time": "2022-10-05T20:11:28.479541",
     "exception": false,
     "start_time": "2022-10-05T20:11:28.433167",
     "status": "completed"
    },
    "tags": []
   },
   "outputs": [],
   "source": [
    "train_filter = np.where((train_labels == 3 ) | (train_labels == 8))\n",
    "test_filter = np.where((test_labels == 3) | (test_labels == 8))\n",
    "X_train, y_train = train_images[train_filter], train_labels[train_filter]\n",
    "X_test, y_test = test_images[test_filter], test_labels[test_filter]"
   ]
  },
  {
   "cell_type": "markdown",
   "id": "948f0b7e",
   "metadata": {
    "papermill": {
     "duration": 0.027512,
     "end_time": "2022-10-05T20:11:28.534737",
     "exception": false,
     "start_time": "2022-10-05T20:11:28.507225",
     "status": "completed"
    },
    "tags": []
   },
   "source": [
    "We normalize the pizel values in the 0 to 1 range"
   ]
  },
  {
   "cell_type": "code",
   "execution_count": 11,
   "id": "ee4c2166",
   "metadata": {
    "execution": {
     "iopub.execute_input": "2022-10-05T20:11:28.593815Z",
     "iopub.status.busy": "2022-10-05T20:11:28.593249Z",
     "iopub.status.idle": "2022-10-05T20:11:28.630908Z",
     "shell.execute_reply": "2022-10-05T20:11:28.630425Z"
    },
    "papermill": {
     "duration": 0.068697,
     "end_time": "2022-10-05T20:11:28.631017",
     "exception": false,
     "start_time": "2022-10-05T20:11:28.562320",
     "status": "completed"
    },
    "tags": []
   },
   "outputs": [],
   "source": [
    "X_train = X_train/255.\n",
    "X_test = X_test/255."
   ]
  },
  {
   "cell_type": "markdown",
   "id": "ddcf4fab",
   "metadata": {
    "papermill": {
     "duration": 0.028006,
     "end_time": "2022-10-05T20:11:28.686789",
     "exception": false,
     "start_time": "2022-10-05T20:11:28.658783",
     "status": "completed"
    },
    "tags": []
   },
   "source": [
    "And setup the labels as 1 (when the digit is 3) and 0 (when the digit is 8)"
   ]
  },
  {
   "cell_type": "code",
   "execution_count": 12,
   "id": "7dc908f2",
   "metadata": {
    "execution": {
     "iopub.execute_input": "2022-10-05T20:11:28.746053Z",
     "iopub.status.busy": "2022-10-05T20:11:28.745486Z",
     "iopub.status.idle": "2022-10-05T20:11:28.756927Z",
     "shell.execute_reply": "2022-10-05T20:11:28.757366Z"
    },
    "papermill": {
     "duration": 0.042929,
     "end_time": "2022-10-05T20:11:28.757484",
     "exception": false,
     "start_time": "2022-10-05T20:11:28.714555",
     "status": "completed"
    },
    "tags": []
   },
   "outputs": [],
   "source": [
    "y_train = 1*(y_train==3)\n",
    "y_test = 1*(y_test==3)"
   ]
  },
  {
   "cell_type": "code",
   "execution_count": 13,
   "id": "01e4e969",
   "metadata": {
    "execution": {
     "iopub.execute_input": "2022-10-05T20:11:28.816486Z",
     "iopub.status.busy": "2022-10-05T20:11:28.815904Z",
     "iopub.status.idle": "2022-10-05T20:11:28.829002Z",
     "shell.execute_reply": "2022-10-05T20:11:28.828547Z"
    },
    "papermill": {
     "duration": 0.043803,
     "end_time": "2022-10-05T20:11:28.829104",
     "exception": false,
     "start_time": "2022-10-05T20:11:28.785301",
     "status": "completed"
    },
    "tags": []
   },
   "outputs": [
    {
     "data": {
      "text/plain": [
       "((11982, 28, 28), (1984, 28, 28))"
      ]
     },
     "execution_count": 13,
     "metadata": {},
     "output_type": "execute_result"
    }
   ],
   "source": [
    "X_train.shape, X_test.shape"
   ]
  },
  {
   "cell_type": "markdown",
   "id": "5ccf3f85",
   "metadata": {
    "papermill": {
     "duration": 0.027888,
     "end_time": "2022-10-05T20:11:28.884978",
     "exception": false,
     "start_time": "2022-10-05T20:11:28.857090",
     "status": "completed"
    },
    "tags": []
   },
   "source": [
    "We reshape the data to flatten the image pixels into a set of features or co-variates:"
   ]
  },
  {
   "cell_type": "code",
   "execution_count": 14,
   "id": "5286a4a3",
   "metadata": {
    "execution": {
     "iopub.execute_input": "2022-10-05T20:11:28.945158Z",
     "iopub.status.busy": "2022-10-05T20:11:28.944586Z",
     "iopub.status.idle": "2022-10-05T20:11:28.957336Z",
     "shell.execute_reply": "2022-10-05T20:11:28.957775Z"
    },
    "papermill": {
     "duration": 0.044697,
     "end_time": "2022-10-05T20:11:28.957893",
     "exception": false,
     "start_time": "2022-10-05T20:11:28.913196",
     "status": "completed"
    },
    "tags": []
   },
   "outputs": [
    {
     "data": {
      "text/plain": [
       "((11982, 784), (1984, 784))"
      ]
     },
     "execution_count": 14,
     "metadata": {},
     "output_type": "execute_result"
    }
   ],
   "source": [
    "X_train = X_train.reshape(X_train.shape[0], -1)\n",
    "X_test = X_test.reshape(X_test.shape[0], -1)\n",
    "X_train.shape, X_test.shape"
   ]
  },
  {
   "cell_type": "code",
   "execution_count": 15,
   "id": "73c5f88a",
   "metadata": {
    "execution": {
     "iopub.execute_input": "2022-10-05T20:11:29.018474Z",
     "iopub.status.busy": "2022-10-05T20:11:29.017887Z",
     "iopub.status.idle": "2022-10-05T20:11:29.035477Z",
     "shell.execute_reply": "2022-10-05T20:11:29.035905Z"
    },
    "papermill": {
     "duration": 0.050083,
     "end_time": "2022-10-05T20:11:29.036030",
     "exception": false,
     "start_time": "2022-10-05T20:11:28.985947",
     "status": "completed"
    },
    "tags": []
   },
   "outputs": [],
   "source": [
    "#Impoting functions from 'Kudzu'\n",
    "from kudzu.model import Model\n",
    "from kudzu.train import Learner\n",
    "from kudzu.optim import GD\n",
    "from kudzu.data import Data, Sampler,Dataloader\n",
    "\n",
    "from kudzu.callbacks import AccCallback\n",
    "from kudzu.callbacks import ClfCallback\n",
    "\n",
    "from kudzu.loss import MSE\n",
    "\n",
    "from kudzu.layer import Sigmoid,Relu\n",
    "from kudzu.layer import Affine"
   ]
  },
  {
   "cell_type": "markdown",
   "id": "bc01172a",
   "metadata": {
    "papermill": {
     "duration": 0.028244,
     "end_time": "2022-10-05T20:11:29.092666",
     "exception": false,
     "start_time": "2022-10-05T20:11:29.064422",
     "status": "completed"
    },
    "tags": []
   },
   "source": [
    "### Let us create a `Config` class, to store important parameters. \n",
    "This class essentially plays the role of a dictionary."
   ]
  },
  {
   "cell_type": "code",
   "execution_count": 16,
   "id": "978281aa",
   "metadata": {
    "execution": {
     "iopub.execute_input": "2022-10-05T20:11:29.152804Z",
     "iopub.status.busy": "2022-10-05T20:11:29.152238Z",
     "iopub.status.idle": "2022-10-05T20:11:29.164102Z",
     "shell.execute_reply": "2022-10-05T20:11:29.164514Z"
    },
    "papermill": {
     "duration": 0.043806,
     "end_time": "2022-10-05T20:11:29.164639",
     "exception": false,
     "start_time": "2022-10-05T20:11:29.120833",
     "status": "completed"
    },
    "tags": []
   },
   "outputs": [],
   "source": [
    "class Config:\n",
    "    pass\n",
    "config = Config()\n",
    "config.lr = 0.001\n",
    "config.num_epochs = 250\n",
    "config.bs = 50"
   ]
  },
  {
   "cell_type": "markdown",
   "id": "1385fa59",
   "metadata": {
    "papermill": {
     "duration": 0.028149,
     "end_time": "2022-10-05T20:11:29.221233",
     "exception": false,
     "start_time": "2022-10-05T20:11:29.193084",
     "status": "completed"
    },
    "tags": []
   },
   "source": [
    "### Running Models with the Training data\n",
    "Details about the network layers:\n",
    "- A first affine layer has 784 inputs and does 100 affine transforms. These are followed by a Relu\n",
    "- A second affine layer has 100 inputs from the 100 activations of the past layer, and does 100 affine transforms. These are followed by a Relu\n",
    "- A third affine layer has 100 activations and does 2 affine transformations to create an embedding for visualization. There is no non-linearity here.\n",
    "- A final \"logistic regression\" which has an affine transform from 2 inputs to 1 output, which is squeezed through a sigmoid.\n"
   ]
  },
  {
   "cell_type": "code",
   "execution_count": 17,
   "id": "2b9c66db",
   "metadata": {
    "execution": {
     "iopub.execute_input": "2022-10-05T20:11:29.281976Z",
     "iopub.status.busy": "2022-10-05T20:11:29.281400Z",
     "iopub.status.idle": "2022-10-05T20:11:29.293516Z",
     "shell.execute_reply": "2022-10-05T20:11:29.293056Z"
    },
    "papermill": {
     "duration": 0.044133,
     "end_time": "2022-10-05T20:11:29.293616",
     "exception": false,
     "start_time": "2022-10-05T20:11:29.249483",
     "status": "completed"
    },
    "tags": []
   },
   "outputs": [],
   "source": [
    "data = Data(X_train, y_train.reshape(-1,1))\n",
    "sampler = Sampler(data, config.bs, shuffle=True)\n",
    "\n",
    "dl = Dataloader(data, sampler)\n",
    "\n",
    "opt = GD(config.lr)\n",
    "loss = MSE()"
   ]
  },
  {
   "cell_type": "code",
   "execution_count": 18,
   "id": "b275e4c2",
   "metadata": {
    "execution": {
     "iopub.execute_input": "2022-10-05T20:11:29.354033Z",
     "iopub.status.busy": "2022-10-05T20:11:29.353450Z",
     "iopub.status.idle": "2022-10-05T20:11:29.365231Z",
     "shell.execute_reply": "2022-10-05T20:11:29.364776Z"
    },
    "papermill": {
     "duration": 0.043546,
     "end_time": "2022-10-05T20:11:29.365331",
     "exception": false,
     "start_time": "2022-10-05T20:11:29.321785",
     "status": "completed"
    },
    "tags": []
   },
   "outputs": [],
   "source": [
    "training_data_x = X_train\n",
    "testing_data_x = X_test\n",
    "training_data_y = y_train.reshape(-1,1)\n",
    "testing_data_y = y_test.reshape(-1,1)"
   ]
  },
  {
   "cell_type": "code",
   "execution_count": 19,
   "id": "76951160",
   "metadata": {
    "execution": {
     "iopub.execute_input": "2022-10-05T20:11:29.426289Z",
     "iopub.status.busy": "2022-10-05T20:11:29.425711Z",
     "iopub.status.idle": "2022-10-05T20:11:29.442603Z",
     "shell.execute_reply": "2022-10-05T20:11:29.442152Z"
    },
    "papermill": {
     "duration": 0.04937,
     "end_time": "2022-10-05T20:11:29.442711",
     "exception": false,
     "start_time": "2022-10-05T20:11:29.393341",
     "status": "completed"
    },
    "tags": []
   },
   "outputs": [
    {
     "name": "stdout",
     "output_type": "stream",
     "text": [
      "xavier\n",
      "xavier\n",
      "xavier\n",
      "xavier\n",
      "xavier\n"
     ]
    }
   ],
   "source": [
    "layers = [Affine(\"first\", 784, 100), Relu(\"first\"), Affine(\"second\", 100, 100), Relu(\"second\"), Affine(\"third\", 100, 2), Affine(\"last\", 2, 1), Sigmoid(\"last\")]\n",
    "model_nn = Model(layers)\n",
    "model_lr = Model([Affine(\"logits\", 784, 1), Sigmoid(\"sigmoid\")])"
   ]
  },
  {
   "cell_type": "code",
   "execution_count": 20,
   "id": "6eede77a",
   "metadata": {
    "execution": {
     "iopub.execute_input": "2022-10-05T20:11:29.506574Z",
     "iopub.status.busy": "2022-10-05T20:11:29.504463Z",
     "iopub.status.idle": "2022-10-05T20:11:29.516371Z",
     "shell.execute_reply": "2022-10-05T20:11:29.515908Z"
    },
    "papermill": {
     "duration": 0.04516,
     "end_time": "2022-10-05T20:11:29.516471",
     "exception": false,
     "start_time": "2022-10-05T20:11:29.471311",
     "status": "completed"
    },
    "tags": []
   },
   "outputs": [],
   "source": [
    "nn_learner = Learner(loss, model_nn, opt, config.num_epochs)\n",
    "acc_nn = ClfCallback(nn_learner, config.bs, training_data_x , testing_data_x, training_data_y, testing_data_y)\n",
    "nn_learner.set_callbacks([acc_nn])"
   ]
  },
  {
   "cell_type": "code",
   "execution_count": 21,
   "id": "877b6cc7",
   "metadata": {
    "execution": {
     "iopub.execute_input": "2022-10-05T20:11:29.577437Z",
     "iopub.status.busy": "2022-10-05T20:11:29.576871Z",
     "iopub.status.idle": "2022-10-05T20:11:29.590026Z",
     "shell.execute_reply": "2022-10-05T20:11:29.589556Z"
    },
    "papermill": {
     "duration": 0.045143,
     "end_time": "2022-10-05T20:11:29.590130",
     "exception": false,
     "start_time": "2022-10-05T20:11:29.544987",
     "status": "completed"
    },
    "tags": []
   },
   "outputs": [],
   "source": [
    "lr_learner = Learner(loss, model_lr, opt, config.num_epochs)\n",
    "acc_lr = ClfCallback(lr_learner, config.bs, training_data_x , testing_data_x, training_data_y, testing_data_y)\n",
    "lr_learner.set_callbacks([acc_lr])"
   ]
  },
  {
   "cell_type": "code",
   "execution_count": 22,
   "id": "d9b133c3",
   "metadata": {
    "execution": {
     "iopub.execute_input": "2022-10-05T20:11:29.650865Z",
     "iopub.status.busy": "2022-10-05T20:11:29.650253Z",
     "iopub.status.idle": "2022-10-05T20:14:27.044733Z",
     "shell.execute_reply": "2022-10-05T20:14:27.045192Z"
    },
    "papermill": {
     "duration": 177.42654,
     "end_time": "2022-10-05T20:14:27.045321",
     "exception": false,
     "start_time": "2022-10-05T20:11:29.618781",
     "status": "completed"
    },
    "tags": []
   },
   "outputs": [
    {
     "name": "stdout",
     "output_type": "stream",
     "text": [
      "Epoch 0, Loss 0.2081\n",
      "Training Accuracy: 0.7970, Testing Accuracy: 0.8246\n",
      "\n"
     ]
    },
    {
     "name": "stdout",
     "output_type": "stream",
     "text": [
      "Epoch 10, Loss 0.0704\n",
      "Training Accuracy: 0.9251, Testing Accuracy: 0.9370\n",
      "\n"
     ]
    },
    {
     "name": "stdout",
     "output_type": "stream",
     "text": [
      "Epoch 20, Loss 0.0487\n",
      "Training Accuracy: 0.9460, Testing Accuracy: 0.9572\n",
      "\n"
     ]
    },
    {
     "name": "stdout",
     "output_type": "stream",
     "text": [
      "Epoch 30, Loss 0.0405\n",
      "Training Accuracy: 0.9523, Testing Accuracy: 0.9652\n",
      "\n"
     ]
    },
    {
     "name": "stdout",
     "output_type": "stream",
     "text": [
      "Epoch 40, Loss 0.0359\n",
      "Training Accuracy: 0.9589, Testing Accuracy: 0.9677\n",
      "\n"
     ]
    },
    {
     "name": "stdout",
     "output_type": "stream",
     "text": [
      "Epoch 50, Loss 0.0328\n",
      "Training Accuracy: 0.9615, Testing Accuracy: 0.9708\n",
      "\n"
     ]
    },
    {
     "name": "stdout",
     "output_type": "stream",
     "text": [
      "Epoch 60, Loss 0.0306\n",
      "Training Accuracy: 0.9638, Testing Accuracy: 0.9723\n",
      "\n"
     ]
    },
    {
     "name": "stdout",
     "output_type": "stream",
     "text": [
      "Epoch 70, Loss 0.0289\n",
      "Training Accuracy: 0.9657, Testing Accuracy: 0.9723\n",
      "\n"
     ]
    },
    {
     "name": "stdout",
     "output_type": "stream",
     "text": [
      "Epoch 80, Loss 0.0274\n",
      "Training Accuracy: 0.9676, Testing Accuracy: 0.9733\n",
      "\n"
     ]
    },
    {
     "name": "stdout",
     "output_type": "stream",
     "text": [
      "Epoch 90, Loss 0.0262\n",
      "Training Accuracy: 0.9690, Testing Accuracy: 0.9718\n",
      "\n"
     ]
    },
    {
     "name": "stdout",
     "output_type": "stream",
     "text": [
      "Epoch 100, Loss 0.0251\n",
      "Training Accuracy: 0.9702, Testing Accuracy: 0.9738\n",
      "\n"
     ]
    },
    {
     "name": "stdout",
     "output_type": "stream",
     "text": [
      "Epoch 110, Loss 0.0242\n",
      "Training Accuracy: 0.9720, Testing Accuracy: 0.9748\n",
      "\n"
     ]
    },
    {
     "name": "stdout",
     "output_type": "stream",
     "text": [
      "Epoch 120, Loss 0.0234\n",
      "Training Accuracy: 0.9735, Testing Accuracy: 0.9743\n",
      "\n"
     ]
    },
    {
     "name": "stdout",
     "output_type": "stream",
     "text": [
      "Epoch 130, Loss 0.0226\n",
      "Training Accuracy: 0.9748, Testing Accuracy: 0.9753\n",
      "\n"
     ]
    },
    {
     "name": "stdout",
     "output_type": "stream",
     "text": [
      "Epoch 140, Loss 0.0219\n",
      "Training Accuracy: 0.9752, Testing Accuracy: 0.9748\n",
      "\n"
     ]
    },
    {
     "name": "stdout",
     "output_type": "stream",
     "text": [
      "Epoch 150, Loss 0.0213\n",
      "Training Accuracy: 0.9755, Testing Accuracy: 0.9763\n",
      "\n"
     ]
    },
    {
     "name": "stdout",
     "output_type": "stream",
     "text": [
      "Epoch 160, Loss 0.0207\n",
      "Training Accuracy: 0.9762, Testing Accuracy: 0.9768\n",
      "\n"
     ]
    },
    {
     "name": "stdout",
     "output_type": "stream",
     "text": [
      "Epoch 170, Loss 0.0201\n",
      "Training Accuracy: 0.9768, Testing Accuracy: 0.9773\n",
      "\n"
     ]
    },
    {
     "name": "stdout",
     "output_type": "stream",
     "text": [
      "Epoch 180, Loss 0.0196\n",
      "Training Accuracy: 0.9775, Testing Accuracy: 0.9773\n",
      "\n"
     ]
    },
    {
     "name": "stdout",
     "output_type": "stream",
     "text": [
      "Epoch 190, Loss 0.019\n",
      "Training Accuracy: 0.9782, Testing Accuracy: 0.9773\n",
      "\n"
     ]
    },
    {
     "name": "stdout",
     "output_type": "stream",
     "text": [
      "Epoch 200, Loss 0.0185\n",
      "Training Accuracy: 0.9788, Testing Accuracy: 0.9783\n",
      "\n"
     ]
    },
    {
     "name": "stdout",
     "output_type": "stream",
     "text": [
      "Epoch 210, Loss 0.018\n",
      "Training Accuracy: 0.9793, Testing Accuracy: 0.9788\n",
      "\n"
     ]
    },
    {
     "name": "stdout",
     "output_type": "stream",
     "text": [
      "Epoch 220, Loss 0.0176\n",
      "Training Accuracy: 0.9801, Testing Accuracy: 0.9783\n",
      "\n"
     ]
    },
    {
     "name": "stdout",
     "output_type": "stream",
     "text": [
      "Epoch 230, Loss 0.0171\n",
      "Training Accuracy: 0.9804, Testing Accuracy: 0.9788\n",
      "\n"
     ]
    },
    {
     "name": "stdout",
     "output_type": "stream",
     "text": [
      "Epoch 240, Loss 0.0167\n",
      "Training Accuracy: 0.9811, Testing Accuracy: 0.9788\n",
      "\n"
     ]
    },
    {
     "data": {
      "text/plain": [
       "0.034053237067536817"
      ]
     },
     "execution_count": 22,
     "metadata": {},
     "output_type": "execute_result"
    }
   ],
   "source": [
    "nn_learner.train_loop(dl)"
   ]
  },
  {
   "cell_type": "code",
   "execution_count": 23,
   "id": "e0163366",
   "metadata": {
    "execution": {
     "iopub.execute_input": "2022-10-05T20:14:27.120863Z",
     "iopub.status.busy": "2022-10-05T20:14:27.120297Z",
     "iopub.status.idle": "2022-10-05T20:14:39.499177Z",
     "shell.execute_reply": "2022-10-05T20:14:39.499951Z"
    },
    "papermill": {
     "duration": 12.418667,
     "end_time": "2022-10-05T20:14:39.500088",
     "exception": false,
     "start_time": "2022-10-05T20:14:27.081421",
     "status": "completed"
    },
    "tags": []
   },
   "outputs": [
    {
     "name": "stdout",
     "output_type": "stream",
     "text": [
      "Epoch 0, Loss 0.227\n",
      "Training Accuracy: 0.7432, Testing Accuracy: 0.7319\n",
      "\n"
     ]
    },
    {
     "name": "stdout",
     "output_type": "stream",
     "text": [
      "Epoch 10, Loss 0.1011\n",
      "Training Accuracy: 0.9130, Testing Accuracy: 0.9173\n",
      "\n"
     ]
    },
    {
     "name": "stdout",
     "output_type": "stream",
     "text": [
      "Epoch 20, Loss 0.0786\n",
      "Training Accuracy: 0.9284, Testing Accuracy: 0.9400\n",
      "\n"
     ]
    },
    {
     "name": "stdout",
     "output_type": "stream",
     "text": [
      "Epoch 30, Loss 0.0679\n",
      "Training Accuracy: 0.9365, Testing Accuracy: 0.9461\n",
      "\n"
     ]
    },
    {
     "name": "stdout",
     "output_type": "stream",
     "text": [
      "Epoch 40, Loss 0.0614\n",
      "Training Accuracy: 0.9417, Testing Accuracy: 0.9501\n",
      "\n"
     ]
    },
    {
     "name": "stdout",
     "output_type": "stream",
     "text": [
      "Epoch 50, Loss 0.0569\n",
      "Training Accuracy: 0.9454, Testing Accuracy: 0.9536\n",
      "\n"
     ]
    },
    {
     "name": "stdout",
     "output_type": "stream",
     "text": [
      "Epoch 60, Loss 0.0536\n",
      "Training Accuracy: 0.9473, Testing Accuracy: 0.9551\n",
      "\n"
     ]
    },
    {
     "name": "stdout",
     "output_type": "stream",
     "text": [
      "Epoch 70, Loss 0.0511\n",
      "Training Accuracy: 0.9487, Testing Accuracy: 0.9567\n",
      "\n"
     ]
    },
    {
     "name": "stdout",
     "output_type": "stream",
     "text": [
      "Epoch 80, Loss 0.0491\n",
      "Training Accuracy: 0.9503, Testing Accuracy: 0.9582\n",
      "\n"
     ]
    },
    {
     "name": "stdout",
     "output_type": "stream",
     "text": [
      "Epoch 90, Loss 0.0474\n",
      "Training Accuracy: 0.9519, Testing Accuracy: 0.9582\n",
      "\n"
     ]
    },
    {
     "name": "stdout",
     "output_type": "stream",
     "text": [
      "Epoch 100, Loss 0.046\n",
      "Training Accuracy: 0.9529, Testing Accuracy: 0.9592\n",
      "\n"
     ]
    },
    {
     "name": "stdout",
     "output_type": "stream",
     "text": [
      "Epoch 110, Loss 0.0448\n",
      "Training Accuracy: 0.9540, Testing Accuracy: 0.9612\n",
      "\n"
     ]
    },
    {
     "name": "stdout",
     "output_type": "stream",
     "text": [
      "Epoch 120, Loss 0.0438\n",
      "Training Accuracy: 0.9550, Testing Accuracy: 0.9617\n",
      "\n"
     ]
    },
    {
     "name": "stdout",
     "output_type": "stream",
     "text": [
      "Epoch 130, Loss 0.0428\n",
      "Training Accuracy: 0.9553, Testing Accuracy: 0.9622\n",
      "\n"
     ]
    },
    {
     "name": "stdout",
     "output_type": "stream",
     "text": [
      "Epoch 140, Loss 0.042\n",
      "Training Accuracy: 0.9559, Testing Accuracy: 0.9632\n",
      "\n"
     ]
    },
    {
     "name": "stdout",
     "output_type": "stream",
     "text": [
      "Epoch 150, Loss 0.0413\n",
      "Training Accuracy: 0.9564, Testing Accuracy: 0.9637\n",
      "\n"
     ]
    },
    {
     "name": "stdout",
     "output_type": "stream",
     "text": [
      "Epoch 160, Loss 0.0406\n",
      "Training Accuracy: 0.9572, Testing Accuracy: 0.9637\n",
      "\n"
     ]
    },
    {
     "name": "stdout",
     "output_type": "stream",
     "text": [
      "Epoch 170, Loss 0.04\n",
      "Training Accuracy: 0.9577, Testing Accuracy: 0.9637\n",
      "\n"
     ]
    },
    {
     "name": "stdout",
     "output_type": "stream",
     "text": [
      "Epoch 180, Loss 0.0394\n",
      "Training Accuracy: 0.9579, Testing Accuracy: 0.9642\n",
      "\n"
     ]
    },
    {
     "name": "stdout",
     "output_type": "stream",
     "text": [
      "Epoch 190, Loss 0.0389\n",
      "Training Accuracy: 0.9584, Testing Accuracy: 0.9647\n",
      "\n"
     ]
    },
    {
     "name": "stdout",
     "output_type": "stream",
     "text": [
      "Epoch 200, Loss 0.0384\n",
      "Training Accuracy: 0.9589, Testing Accuracy: 0.9647\n",
      "\n"
     ]
    },
    {
     "name": "stdout",
     "output_type": "stream",
     "text": [
      "Epoch 210, Loss 0.038\n",
      "Training Accuracy: 0.9589, Testing Accuracy: 0.9642\n",
      "\n"
     ]
    },
    {
     "name": "stdout",
     "output_type": "stream",
     "text": [
      "Epoch 220, Loss 0.0376\n",
      "Training Accuracy: 0.9592, Testing Accuracy: 0.9642\n",
      "\n"
     ]
    },
    {
     "name": "stdout",
     "output_type": "stream",
     "text": [
      "Epoch 230, Loss 0.0372\n",
      "Training Accuracy: 0.9597, Testing Accuracy: 0.9642\n",
      "\n"
     ]
    },
    {
     "name": "stdout",
     "output_type": "stream",
     "text": [
      "Epoch 240, Loss 0.0369\n",
      "Training Accuracy: 0.9602, Testing Accuracy: 0.9642\n",
      "\n"
     ]
    },
    {
     "data": {
      "text/plain": [
       "0.021209477075058644"
      ]
     },
     "execution_count": 23,
     "metadata": {},
     "output_type": "execute_result"
    }
   ],
   "source": [
    "lr_learner.train_loop(dl)"
   ]
  },
  {
   "cell_type": "code",
   "execution_count": 24,
   "id": "ca410940",
   "metadata": {
    "execution": {
     "iopub.execute_input": "2022-10-05T20:14:39.593061Z",
     "iopub.status.busy": "2022-10-05T20:14:39.592478Z",
     "iopub.status.idle": "2022-10-05T20:14:39.817327Z",
     "shell.execute_reply": "2022-10-05T20:14:39.816839Z"
    },
    "papermill": {
     "duration": 0.274102,
     "end_time": "2022-10-05T20:14:39.817436",
     "exception": false,
     "start_time": "2022-10-05T20:14:39.543334",
     "status": "completed"
    },
    "tags": []
   },
   "outputs": [
    {
     "data": {
      "text/plain": [
       "<matplotlib.legend.Legend at 0x7f6107e82358>"
      ]
     },
     "execution_count": 24,
     "metadata": {},
     "output_type": "execute_result"
    },
    {
     "data": {
      "image/png": "[encoded data removed]",
      "text/plain": [
       "<Figure size 1080x720 with 1 Axes>"
      ]
     },
     "metadata": {
      "needs_background": "light"
     },
     "output_type": "display_data"
    }
   ],
   "source": [
    "#comparing the results of NN and LR\n",
    "plt.figure(figsize=(15,10))\n",
    "\n",
    "# Neural Network plots\n",
    "plt.plot(acc_nn.accuracies, 'r-', label = \"Training Accuracies - NN\")\n",
    "plt.plot(acc_nn.test_accuracies, 'g-', label = \"Testing Accuracies - NN\")\n",
    "\n",
    "# Logistic Regression plots\n",
    "plt.plot(acc_lr.accuracies, 'k-', label = \"Training Accuracies - LR\")\n",
    "plt.plot(acc_lr.test_accuracies, 'b-', label = \"Testing Accuracies - LR\")\n",
    "plt.legend()"
   ]
  },
  {
   "cell_type": "markdown",
   "id": "80dfb35c",
   "metadata": {
    "papermill": {
     "duration": 0.043949,
     "end_time": "2022-10-05T20:14:39.905824",
     "exception": false,
     "start_time": "2022-10-05T20:14:39.861875",
     "status": "completed"
    },
    "tags": []
   },
   "source": [
    "#### Plotting the outputs of this layer of the NN.\n"
   ]
  },
  {
   "cell_type": "code",
   "execution_count": 25,
   "id": "45eb2ff5",
   "metadata": {
    "execution": {
     "iopub.execute_input": "2022-10-05T20:14:40.000440Z",
     "iopub.status.busy": "2022-10-05T20:14:39.998964Z",
     "iopub.status.idle": "2022-10-05T20:14:40.035155Z",
     "shell.execute_reply": "2022-10-05T20:14:40.034366Z"
    },
    "papermill": {
     "duration": 0.085153,
     "end_time": "2022-10-05T20:14:40.035271",
     "exception": false,
     "start_time": "2022-10-05T20:14:39.950118",
     "status": "completed"
    },
    "tags": []
   },
   "outputs": [],
   "source": [
    "new_model = Model(layers[:-2])\n",
    "testing_plot = new_model(testing_data_x)"
   ]
  },
  {
   "cell_type": "code",
   "execution_count": 26,
   "id": "4c0a5485",
   "metadata": {
    "execution": {
     "iopub.execute_input": "2022-10-05T20:14:40.131245Z",
     "iopub.status.busy": "2022-10-05T20:14:40.128750Z",
     "iopub.status.idle": "2022-10-05T20:14:40.349605Z",
     "shell.execute_reply": "2022-10-05T20:14:40.350045Z"
    },
    "papermill": {
     "duration": 0.270135,
     "end_time": "2022-10-05T20:14:40.350184",
     "exception": false,
     "start_time": "2022-10-05T20:14:40.080049",
     "status": "completed"
    },
    "tags": []
   },
   "outputs": [
    {
     "data": {
      "text/plain": [
       "Text(0.5, 1.0, 'Outputs')"
      ]
     },
     "execution_count": 26,
     "metadata": {},
     "output_type": "execute_result"
    },
    {
     "data": {
      "image/png": "[encoded data removed]",
      "text/plain": [
       "<Figure size 576x504 with 1 Axes>"
      ]
     },
     "metadata": {
      "needs_background": "light"
     },
     "output_type": "display_data"
    }
   ],
   "source": [
    "# Plotting the scatter plot of points and color coding by class\n",
    "plt.figure(figsize=(8,7))\n",
    "plt.scatter(testing_plot[:,0], testing_plot[:,1], alpha = 0.1, c = y_test.ravel());\n",
    "plt.title('Outputs')"
   ]
  },
  {
   "cell_type": "markdown",
   "id": "a74fcf8f",
   "metadata": {
    "papermill": {
     "duration": 0.047087,
     "end_time": "2022-10-05T20:14:40.465807",
     "exception": false,
     "start_time": "2022-10-05T20:14:40.418720",
     "status": "completed"
    },
    "tags": []
   },
   "source": [
    "Probability contours"
   ]
  },
  {
   "cell_type": "code",
   "execution_count": 27,
   "id": "d0afc8e3",
   "metadata": {
    "execution": {
     "iopub.execute_input": "2022-10-05T20:14:40.566523Z",
     "iopub.status.busy": "2022-10-05T20:14:40.564474Z",
     "iopub.status.idle": "2022-10-05T20:14:40.576397Z",
     "shell.execute_reply": "2022-10-05T20:14:40.575930Z"
    },
    "papermill": {
     "duration": 0.06373,
     "end_time": "2022-10-05T20:14:40.576499",
     "exception": false,
     "start_time": "2022-10-05T20:14:40.512769",
     "status": "completed"
    },
    "tags": []
   },
   "outputs": [],
   "source": [
    "model_prob = Model(layers[-2:]) "
   ]
  },
  {
   "cell_type": "code",
   "execution_count": 28,
   "id": "9b96e238",
   "metadata": {
    "execution": {
     "iopub.execute_input": "2022-10-05T20:14:40.674611Z",
     "iopub.status.busy": "2022-10-05T20:14:40.674048Z",
     "iopub.status.idle": "2022-10-05T20:14:40.687089Z",
     "shell.execute_reply": "2022-10-05T20:14:40.687589Z"
    },
    "papermill": {
     "duration": 0.064304,
     "end_time": "2022-10-05T20:14:40.687744",
     "exception": false,
     "start_time": "2022-10-05T20:14:40.623440",
     "status": "completed"
    },
    "tags": []
   },
   "outputs": [],
   "source": [
    "#creating the x and y ranges according to the above generated plot.\n",
    "x_range = np.linspace(-4, 1, 100) \n",
    "y_range = np.linspace(-6, 6, 100) \n",
    "x_grid, y_grid = np.meshgrid(x_range, y_range) # x_grid and y_grig are of size 100 X 100\n",
    "\n",
    "# converting x_grid and y_grid to continuous arrays\n",
    "x_gridflat = np.ravel(x_grid)\n",
    "y_gridflat = np.ravel(y_grid)\n",
    "\n",
    "# The last layer of the current model takes two columns as input. Hence transpose of np.vstack() is required.\n",
    "X = np.vstack((x_gridflat, y_gridflat)).T\n",
    "\n",
    "prob_contour = model_prob(X).reshape(100,100) "
   ]
  },
  {
   "cell_type": "code",
   "execution_count": 29,
   "id": "da72499a",
   "metadata": {
    "execution": {
     "iopub.execute_input": "2022-10-05T20:14:40.787438Z",
     "iopub.status.busy": "2022-10-05T20:14:40.786865Z",
     "iopub.status.idle": "2022-10-05T20:14:41.034152Z",
     "shell.execute_reply": "2022-10-05T20:14:41.034597Z"
    },
    "papermill": {
     "duration": 0.298686,
     "end_time": "2022-10-05T20:14:41.034724",
     "exception": false,
     "start_time": "2022-10-05T20:14:40.736038",
     "status": "completed"
    },
    "tags": []
   },
   "outputs": [
    {
     "data": {
      "image/png": "[encoded data removed]",
      "text/plain": [
       "<Figure size 720x648 with 1 Axes>"
      ]
     },
     "metadata": {
      "needs_background": "light"
     },
     "output_type": "display_data"
    }
   ],
   "source": [
    "plt.figure(figsize=(10,9))\n",
    "plt.scatter(testing_plot[:,0], testing_plot[:,1], alpha = 0.1, c = y_test.ravel())\n",
    "contours = plt.contour(x_grid,y_grid,prob_contour)\n",
    "plt.title('Probability Contours')\n",
    "plt.clabel(contours, inline = True );"
   ]
  },
  {
   "cell_type": "code",
   "execution_count": null,
   "id": "e81b4ac7",
   "metadata": {
    "papermill": {
     "duration": 0.048891,
     "end_time": "2022-10-05T20:14:41.133226",
     "exception": false,
     "start_time": "2022-10-05T20:14:41.084335",
     "status": "completed"
    },
    "tags": []
   },
   "outputs": [],
   "source": []
  }
 ],
 "metadata": {
  "kernelspec": {
   "display_name": "Python 3",
   "language": "python",
   "name": "python3"
  },
  "language_info": {
   "codemirror_mode": {
    "name": "ipython",
    "version": 3
   },
   "file_extension": ".py",
   "mimetype": "text/x-python",
   "name": "python",
   "nbconvert_exporter": "python",
   "pygments_lexer": "ipython3",
   "version": "3.6.15"
  },
  "papermill": {
   "default_parameters": {},
   "duration": 198.114582,
   "end_time": "2022-10-05T20:14:41.499775",
   "environment_variables": {},
   "exception": null,
   "input_path": "2020-08-11-part2.ipynb",
   "output_path": "2020-08-11-part2.ipynb",
   "parameters": {},
   "start_time": "2022-10-05T20:11:23.385193",
   "version": "2.3.3"
  }
 },
 "nbformat": 4,
 "nbformat_minor": 5
}