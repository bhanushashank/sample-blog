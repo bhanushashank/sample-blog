{
 "cells": [
  {
   "cell_type": "markdown",
   "id": "98380cd3",
   "metadata": {
    "papermill": {
     "duration": 0.034932,
     "end_time": "2021-10-15T10:07:08.733917",
     "exception": false,
     "start_time": "2021-10-15T10:07:08.698985",
     "status": "completed"
    },
    "tags": []
   },
   "source": [
    "# Distinguish Your Own Digits (DYOD)"
   ]
  },
  {
   "cell_type": "markdown",
   "id": "ef31240d",
   "metadata": {
    "papermill": {
     "duration": 0.037835,
     "end_time": "2021-10-15T10:07:08.802543",
     "exception": false,
     "start_time": "2021-10-15T10:07:08.764708",
     "status": "completed"
    },
    "tags": []
   },
   "source": [
    "You are going to write a classifier that distinguishes between the number 3 and number 8."
   ]
  },
  {
   "cell_type": "code",
   "execution_count": 1,
   "id": "b15c8646",
   "metadata": {
    "execution": {
     "iopub.execute_input": "2021-10-15T10:07:08.881559Z",
     "iopub.status.busy": "2021-10-15T10:07:08.880780Z",
     "iopub.status.idle": "2021-10-15T10:07:08.894627Z",
     "shell.execute_reply": "2021-10-15T10:07:08.894045Z"
    },
    "papermill": {
     "duration": 0.061769,
     "end_time": "2021-10-15T10:07:08.894795",
     "exception": false,
     "start_time": "2021-10-15T10:07:08.833026",
     "status": "completed"
    },
    "tags": []
   },
   "outputs": [],
   "source": [
    "%load_ext autoreload\n",
    "%autoreload 2"
   ]
  },
  {
   "cell_type": "code",
   "execution_count": 2,
   "id": "22ef38dc",
   "metadata": {
    "execution": {
     "iopub.execute_input": "2021-10-15T10:07:08.963945Z",
     "iopub.status.busy": "2021-10-15T10:07:08.963273Z",
     "iopub.status.idle": "2021-10-15T10:07:09.615728Z",
     "shell.execute_reply": "2021-10-15T10:07:09.615144Z"
    },
    "papermill": {
     "duration": 0.689448,
     "end_time": "2021-10-15T10:07:09.615882",
     "exception": false,
     "start_time": "2021-10-15T10:07:08.926434",
     "status": "completed"
    },
    "tags": []
   },
   "outputs": [],
   "source": [
    "%matplotlib inline\n",
    "import numpy as np\n",
    "import matplotlib.pyplot as plt\n",
    "import pandas as pd"
   ]
  },
  {
   "cell_type": "markdown",
   "id": "ba036198",
   "metadata": {
    "papermill": {
     "duration": 0.032546,
     "end_time": "2021-10-15T10:07:09.678884",
     "exception": false,
     "start_time": "2021-10-15T10:07:09.646338",
     "status": "completed"
    },
    "tags": []
   },
   "source": [
    "From the command line run `pip install mnist`. This is a library that will help you bring down the mnist dataset. If you run this from a notebook, you need to put  `!pip install mnist` in a cell by itself."
   ]
  },
  {
   "cell_type": "code",
   "execution_count": 3,
   "id": "bb6ad8a1",
   "metadata": {
    "execution": {
     "iopub.execute_input": "2021-10-15T10:07:09.747812Z",
     "iopub.status.busy": "2021-10-15T10:07:09.747040Z",
     "iopub.status.idle": "2021-10-15T10:07:11.846558Z",
     "shell.execute_reply": "2021-10-15T10:07:11.845952Z"
    },
    "papermill": {
     "duration": 2.137966,
     "end_time": "2021-10-15T10:07:11.846708",
     "exception": false,
     "start_time": "2021-10-15T10:07:09.708742",
     "status": "completed"
    },
    "tags": []
   },
   "outputs": [
    {
     "name": "stdout",
     "output_type": "stream",
     "text": [
      "Collecting mnist\r\n"
     ]
    },
    {
     "name": "stdout",
     "output_type": "stream",
     "text": [
      "  Downloading mnist-0.2.2-py2.py3-none-any.whl (3.5 kB)\r\n"
     ]
    },
    {
     "name": "stdout",
     "output_type": "stream",
     "text": [
      "Requirement already satisfied: numpy in /opt/hostedtoolcache/Python/3.6.15/x64/lib/python3.6/site-packages (from mnist) (1.19.5)\r\n"
     ]
    },
    {
     "name": "stdout",
     "output_type": "stream",
     "text": [
      "Installing collected packages: mnist\r\n"
     ]
    },
    {
     "name": "stdout",
     "output_type": "stream",
     "text": [
      "Successfully installed mnist-0.2.2\r\n"
     ]
    },
    {
     "name": "stdout",
     "output_type": "stream",
     "text": [
      "\u001b[33mWARNING: You are using pip version 21.2.4; however, version 21.3 is available.\r\n",
      "You should consider upgrading via the '/opt/hostedtoolcache/Python/3.6.15/x64/bin/python -m pip install --upgrade pip' command.\u001b[0m\r\n"
     ]
    }
   ],
   "source": [
    "!pip install mnist"
   ]
  },
  {
   "cell_type": "markdown",
   "id": "69df9c9a",
   "metadata": {
    "papermill": {
     "duration": 0.033874,
     "end_time": "2021-10-15T10:07:11.915015",
     "exception": false,
     "start_time": "2021-10-15T10:07:11.881141",
     "status": "completed"
    },
    "tags": []
   },
   "source": [
    "## Preparing the Data"
   ]
  },
  {
   "cell_type": "code",
   "execution_count": 4,
   "id": "7f69d806",
   "metadata": {
    "execution": {
     "iopub.execute_input": "2021-10-15T10:07:11.985028Z",
     "iopub.status.busy": "2021-10-15T10:07:11.984369Z",
     "iopub.status.idle": "2021-10-15T10:07:12.003020Z",
     "shell.execute_reply": "2021-10-15T10:07:12.002328Z"
    },
    "papermill": {
     "duration": 0.054878,
     "end_time": "2021-10-15T10:07:12.003168",
     "exception": false,
     "start_time": "2021-10-15T10:07:11.948290",
     "status": "completed"
    },
    "tags": []
   },
   "outputs": [],
   "source": [
    "import mnist"
   ]
  },
  {
   "cell_type": "code",
   "execution_count": 5,
   "id": "a411e44f",
   "metadata": {
    "execution": {
     "iopub.execute_input": "2021-10-15T10:07:12.075129Z",
     "iopub.status.busy": "2021-10-15T10:07:12.074404Z",
     "iopub.status.idle": "2021-10-15T10:07:12.638306Z",
     "shell.execute_reply": "2021-10-15T10:07:12.637690Z"
    },
    "papermill": {
     "duration": 0.601967,
     "end_time": "2021-10-15T10:07:12.638454",
     "exception": false,
     "start_time": "2021-10-15T10:07:12.036487",
     "status": "completed"
    },
    "tags": []
   },
   "outputs": [],
   "source": [
    "train_images = mnist.train_images()\n",
    "train_labels = mnist.train_labels()"
   ]
  },
  {
   "cell_type": "code",
   "execution_count": 6,
   "id": "dceab3a5",
   "metadata": {
    "execution": {
     "iopub.execute_input": "2021-10-15T10:07:12.718638Z",
     "iopub.status.busy": "2021-10-15T10:07:12.717591Z",
     "iopub.status.idle": "2021-10-15T10:07:12.731836Z",
     "shell.execute_reply": "2021-10-15T10:07:12.731299Z"
    },
    "papermill": {
     "duration": 0.060247,
     "end_time": "2021-10-15T10:07:12.731976",
     "exception": false,
     "start_time": "2021-10-15T10:07:12.671729",
     "status": "completed"
    },
    "tags": []
   },
   "outputs": [
    {
     "data": {
      "text/plain": [
       "((60000, 28, 28), (60000,))"
      ]
     },
     "execution_count": 6,
     "metadata": {},
     "output_type": "execute_result"
    }
   ],
   "source": [
    "train_images.shape, train_labels.shape"
   ]
  },
  {
   "cell_type": "code",
   "execution_count": 7,
   "id": "f50dc2bb",
   "metadata": {
    "execution": {
     "iopub.execute_input": "2021-10-15T10:07:12.821236Z",
     "iopub.status.busy": "2021-10-15T10:07:12.818686Z",
     "iopub.status.idle": "2021-10-15T10:07:12.975975Z",
     "shell.execute_reply": "2021-10-15T10:07:12.974774Z"
    },
    "papermill": {
     "duration": 0.20893,
     "end_time": "2021-10-15T10:07:12.976128",
     "exception": false,
     "start_time": "2021-10-15T10:07:12.767198",
     "status": "completed"
    },
    "tags": []
   },
   "outputs": [],
   "source": [
    "test_images = mnist.test_images()\n",
    "test_labels = mnist.test_labels()"
   ]
  },
  {
   "cell_type": "code",
   "execution_count": 8,
   "id": "fc38cf1b",
   "metadata": {
    "execution": {
     "iopub.execute_input": "2021-10-15T10:07:13.050203Z",
     "iopub.status.busy": "2021-10-15T10:07:13.048985Z",
     "iopub.status.idle": "2021-10-15T10:07:13.063288Z",
     "shell.execute_reply": "2021-10-15T10:07:13.062715Z"
    },
    "papermill": {
     "duration": 0.052955,
     "end_time": "2021-10-15T10:07:13.063427",
     "exception": false,
     "start_time": "2021-10-15T10:07:13.010472",
     "status": "completed"
    },
    "tags": []
   },
   "outputs": [
    {
     "data": {
      "text/plain": [
       "((10000, 28, 28), (10000,))"
      ]
     },
     "execution_count": 8,
     "metadata": {},
     "output_type": "execute_result"
    }
   ],
   "source": [
    "test_images.shape, test_labels.shape"
   ]
  },
  {
   "cell_type": "code",
   "execution_count": 9,
   "id": "f9ed8fe0",
   "metadata": {
    "execution": {
     "iopub.execute_input": "2021-10-15T10:07:13.137034Z",
     "iopub.status.busy": "2021-10-15T10:07:13.136372Z",
     "iopub.status.idle": "2021-10-15T10:07:13.321470Z",
     "shell.execute_reply": "2021-10-15T10:07:13.319483Z"
    },
    "papermill": {
     "duration": 0.224714,
     "end_time": "2021-10-15T10:07:13.321623",
     "exception": false,
     "start_time": "2021-10-15T10:07:13.096909",
     "status": "completed"
    },
    "tags": []
   },
   "outputs": [
    {
     "name": "stdout",
     "output_type": "stream",
     "text": [
      "2\n"
     ]
    },
    {
     "data": {
      "text/plain": [
       "<matplotlib.image.AxesImage at 0x7fae69f429b0>"
      ]
     },
     "execution_count": 9,
     "metadata": {},
     "output_type": "execute_result"
    },
    {
     "data": {
      "image/png": "[encoded data removed]",
      "text/plain": [
       "<Figure size 432x288 with 1 Axes>"
      ]
     },
     "metadata": {
      "needs_background": "light"
     },
     "output_type": "display_data"
    }
   ],
   "source": [
    "image_index = 7776 # You may select anything up to 60,000\n",
    "print(train_labels[image_index]) \n",
    "plt.imshow(train_images[image_index], cmap='Greys')"
   ]
  },
  {
   "cell_type": "markdown",
   "id": "a8d2388d",
   "metadata": {
    "papermill": {
     "duration": 0.036129,
     "end_time": "2021-10-15T10:07:13.393259",
     "exception": false,
     "start_time": "2021-10-15T10:07:13.357130",
     "status": "completed"
    },
    "tags": []
   },
   "source": [
    "## Filter data to get 3 and 8 out"
   ]
  },
  {
   "cell_type": "code",
   "execution_count": 10,
   "id": "776f7fc7",
   "metadata": {
    "execution": {
     "iopub.execute_input": "2021-10-15T10:07:13.478548Z",
     "iopub.status.busy": "2021-10-15T10:07:13.470012Z",
     "iopub.status.idle": "2021-10-15T10:07:13.490303Z",
     "shell.execute_reply": "2021-10-15T10:07:13.489703Z"
    },
    "papermill": {
     "duration": 0.061633,
     "end_time": "2021-10-15T10:07:13.490457",
     "exception": false,
     "start_time": "2021-10-15T10:07:13.428824",
     "status": "completed"
    },
    "tags": []
   },
   "outputs": [],
   "source": [
    "train_filter = np.where((train_labels == 3 ) | (train_labels == 8))\n",
    "test_filter = np.where((test_labels == 3) | (test_labels == 8))\n",
    "X_train, y_train = train_images[train_filter], train_labels[train_filter]\n",
    "X_test, y_test = test_images[test_filter], test_labels[test_filter]"
   ]
  },
  {
   "cell_type": "markdown",
   "id": "948f0b7e",
   "metadata": {
    "papermill": {
     "duration": 0.036046,
     "end_time": "2021-10-15T10:07:13.562422",
     "exception": false,
     "start_time": "2021-10-15T10:07:13.526376",
     "status": "completed"
    },
    "tags": []
   },
   "source": [
    "We normalize the pizel values in the 0 to 1 range"
   ]
  },
  {
   "cell_type": "code",
   "execution_count": 11,
   "id": "ee4c2166",
   "metadata": {
    "execution": {
     "iopub.execute_input": "2021-10-15T10:07:13.650631Z",
     "iopub.status.busy": "2021-10-15T10:07:13.645446Z",
     "iopub.status.idle": "2021-10-15T10:07:13.704497Z",
     "shell.execute_reply": "2021-10-15T10:07:13.703767Z"
    },
    "papermill": {
     "duration": 0.108158,
     "end_time": "2021-10-15T10:07:13.704650",
     "exception": false,
     "start_time": "2021-10-15T10:07:13.596492",
     "status": "completed"
    },
    "tags": []
   },
   "outputs": [],
   "source": [
    "X_train = X_train/255.\n",
    "X_test = X_test/255."
   ]
  },
  {
   "cell_type": "markdown",
   "id": "ddcf4fab",
   "metadata": {
    "papermill": {
     "duration": 0.034704,
     "end_time": "2021-10-15T10:07:13.774144",
     "exception": false,
     "start_time": "2021-10-15T10:07:13.739440",
     "status": "completed"
    },
    "tags": []
   },
   "source": [
    "And setup the labels as 1 (when the digit is 3) and 0 (when the digit is 8)"
   ]
  },
  {
   "cell_type": "code",
   "execution_count": 12,
   "id": "7dc908f2",
   "metadata": {
    "execution": {
     "iopub.execute_input": "2021-10-15T10:07:13.865223Z",
     "iopub.status.busy": "2021-10-15T10:07:13.860657Z",
     "iopub.status.idle": "2021-10-15T10:07:13.867404Z",
     "shell.execute_reply": "2021-10-15T10:07:13.867915Z"
    },
    "papermill": {
     "duration": 0.058319,
     "end_time": "2021-10-15T10:07:13.868072",
     "exception": false,
     "start_time": "2021-10-15T10:07:13.809753",
     "status": "completed"
    },
    "tags": []
   },
   "outputs": [],
   "source": [
    "y_train = 1*(y_train==3)\n",
    "y_test = 1*(y_test==3)"
   ]
  },
  {
   "cell_type": "code",
   "execution_count": 13,
   "id": "01e4e969",
   "metadata": {
    "execution": {
     "iopub.execute_input": "2021-10-15T10:07:13.958575Z",
     "iopub.status.busy": "2021-10-15T10:07:13.957225Z",
     "iopub.status.idle": "2021-10-15T10:07:13.965726Z",
     "shell.execute_reply": "2021-10-15T10:07:13.966247Z"
    },
    "papermill": {
     "duration": 0.064568,
     "end_time": "2021-10-15T10:07:13.966407",
     "exception": false,
     "start_time": "2021-10-15T10:07:13.901839",
     "status": "completed"
    },
    "tags": []
   },
   "outputs": [
    {
     "data": {
      "text/plain": [
       "((11982, 28, 28), (1984, 28, 28))"
      ]
     },
     "execution_count": 13,
     "metadata": {},
     "output_type": "execute_result"
    }
   ],
   "source": [
    "X_train.shape, X_test.shape"
   ]
  },
  {
   "cell_type": "markdown",
   "id": "5ccf3f85",
   "metadata": {
    "papermill": {
     "duration": 0.036212,
     "end_time": "2021-10-15T10:07:14.037127",
     "exception": false,
     "start_time": "2021-10-15T10:07:14.000915",
     "status": "completed"
    },
    "tags": []
   },
   "source": [
    "We reshape the data to flatten the image pixels into a set of features or co-variates:"
   ]
  },
  {
   "cell_type": "code",
   "execution_count": 14,
   "id": "5286a4a3",
   "metadata": {
    "execution": {
     "iopub.execute_input": "2021-10-15T10:07:14.124718Z",
     "iopub.status.busy": "2021-10-15T10:07:14.115254Z",
     "iopub.status.idle": "2021-10-15T10:07:14.134350Z",
     "shell.execute_reply": "2021-10-15T10:07:14.133757Z"
    },
    "papermill": {
     "duration": 0.060388,
     "end_time": "2021-10-15T10:07:14.134501",
     "exception": false,
     "start_time": "2021-10-15T10:07:14.074113",
     "status": "completed"
    },
    "tags": []
   },
   "outputs": [
    {
     "data": {
      "text/plain": [
       "((11982, 784), (1984, 784))"
      ]
     },
     "execution_count": 14,
     "metadata": {},
     "output_type": "execute_result"
    }
   ],
   "source": [
    "X_train = X_train.reshape(X_train.shape[0], -1)\n",
    "X_test = X_test.reshape(X_test.shape[0], -1)\n",
    "X_train.shape, X_test.shape"
   ]
  },
  {
   "cell_type": "code",
   "execution_count": 15,
   "id": "73c5f88a",
   "metadata": {
    "execution": {
     "iopub.execute_input": "2021-10-15T10:07:14.216452Z",
     "iopub.status.busy": "2021-10-15T10:07:14.215772Z",
     "iopub.status.idle": "2021-10-15T10:07:14.235388Z",
     "shell.execute_reply": "2021-10-15T10:07:14.234813Z"
    },
    "papermill": {
     "duration": 0.064254,
     "end_time": "2021-10-15T10:07:14.235541",
     "exception": false,
     "start_time": "2021-10-15T10:07:14.171287",
     "status": "completed"
    },
    "tags": []
   },
   "outputs": [],
   "source": [
    "#Impoting functions from 'Kudzu'\n",
    "from kudzu.model import Model\n",
    "from kudzu.train import Learner\n",
    "from kudzu.optim import GD\n",
    "from kudzu.data import Data, Sampler,Dataloader\n",
    "\n",
    "from kudzu.callbacks import AccCallback\n",
    "from kudzu.callbacks import ClfCallback\n",
    "\n",
    "from kudzu.loss import MSE\n",
    "\n",
    "from kudzu.layer import Sigmoid,Relu\n",
    "from kudzu.layer import Affine"
   ]
  },
  {
   "cell_type": "markdown",
   "id": "bc01172a",
   "metadata": {
    "papermill": {
     "duration": 0.03785,
     "end_time": "2021-10-15T10:07:14.309000",
     "exception": false,
     "start_time": "2021-10-15T10:07:14.271150",
     "status": "completed"
    },
    "tags": []
   },
   "source": [
    "### Let us create a `Config` class, to store important parameters. \n",
    "This class essentially plays the role of a dictionary."
   ]
  },
  {
   "cell_type": "code",
   "execution_count": 16,
   "id": "978281aa",
   "metadata": {
    "execution": {
     "iopub.execute_input": "2021-10-15T10:07:14.387670Z",
     "iopub.status.busy": "2021-10-15T10:07:14.386997Z",
     "iopub.status.idle": "2021-10-15T10:07:14.399334Z",
     "shell.execute_reply": "2021-10-15T10:07:14.398758Z"
    },
    "papermill": {
     "duration": 0.053198,
     "end_time": "2021-10-15T10:07:14.399476",
     "exception": false,
     "start_time": "2021-10-15T10:07:14.346278",
     "status": "completed"
    },
    "tags": []
   },
   "outputs": [],
   "source": [
    "class Config:\n",
    "    pass\n",
    "config = Config()\n",
    "config.lr = 0.001\n",
    "config.num_epochs = 250\n",
    "config.bs = 50"
   ]
  },
  {
   "cell_type": "markdown",
   "id": "1385fa59",
   "metadata": {
    "papermill": {
     "duration": 0.035485,
     "end_time": "2021-10-15T10:07:14.472031",
     "exception": false,
     "start_time": "2021-10-15T10:07:14.436546",
     "status": "completed"
    },
    "tags": []
   },
   "source": [
    "### Running Models with the Training data\n",
    "Details about the network layers:\n",
    "- A first affine layer has 784 inputs and does 100 affine transforms. These are followed by a Relu\n",
    "- A second affine layer has 100 inputs from the 100 activations of the past layer, and does 100 affine transforms. These are followed by a Relu\n",
    "- A third affine layer has 100 activations and does 2 affine transformations to create an embedding for visualization. There is no non-linearity here.\n",
    "- A final \"logistic regression\" which has an affine transform from 2 inputs to 1 output, which is squeezed through a sigmoid.\n"
   ]
  },
  {
   "cell_type": "code",
   "execution_count": 17,
   "id": "2b9c66db",
   "metadata": {
    "execution": {
     "iopub.execute_input": "2021-10-15T10:07:14.564914Z",
     "iopub.status.busy": "2021-10-15T10:07:14.560536Z",
     "iopub.status.idle": "2021-10-15T10:07:14.568315Z",
     "shell.execute_reply": "2021-10-15T10:07:14.568854Z"
    },
    "papermill": {
     "duration": 0.059804,
     "end_time": "2021-10-15T10:07:14.569013",
     "exception": false,
     "start_time": "2021-10-15T10:07:14.509209",
     "status": "completed"
    },
    "tags": []
   },
   "outputs": [],
   "source": [
    "data = Data(X_train, y_train.reshape(-1,1))\n",
    "sampler = Sampler(data, config.bs, shuffle=True)\n",
    "\n",
    "dl = Dataloader(data, sampler)\n",
    "\n",
    "opt = GD(config.lr)\n",
    "loss = MSE()"
   ]
  },
  {
   "cell_type": "code",
   "execution_count": 18,
   "id": "b275e4c2",
   "metadata": {
    "execution": {
     "iopub.execute_input": "2021-10-15T10:07:14.653360Z",
     "iopub.status.busy": "2021-10-15T10:07:14.648355Z",
     "iopub.status.idle": "2021-10-15T10:07:14.665806Z",
     "shell.execute_reply": "2021-10-15T10:07:14.666323Z"
    },
    "papermill": {
     "duration": 0.060958,
     "end_time": "2021-10-15T10:07:14.666491",
     "exception": false,
     "start_time": "2021-10-15T10:07:14.605533",
     "status": "completed"
    },
    "tags": []
   },
   "outputs": [],
   "source": [
    "training_data_x = X_train\n",
    "testing_data_x = X_test\n",
    "training_data_y = y_train.reshape(-1,1)\n",
    "testing_data_y = y_test.reshape(-1,1)"
   ]
  },
  {
   "cell_type": "code",
   "execution_count": 19,
   "id": "76951160",
   "metadata": {
    "execution": {
     "iopub.execute_input": "2021-10-15T10:07:14.750377Z",
     "iopub.status.busy": "2021-10-15T10:07:14.749680Z",
     "iopub.status.idle": "2021-10-15T10:07:14.766060Z",
     "shell.execute_reply": "2021-10-15T10:07:14.765468Z"
    },
    "papermill": {
     "duration": 0.063893,
     "end_time": "2021-10-15T10:07:14.766205",
     "exception": false,
     "start_time": "2021-10-15T10:07:14.702312",
     "status": "completed"
    },
    "tags": []
   },
   "outputs": [
    {
     "name": "stdout",
     "output_type": "stream",
     "text": [
      "xavier\n",
      "xavier\n",
      "xavier\n",
      "xavier\n",
      "xavier\n"
     ]
    }
   ],
   "source": [
    "layers = [Affine(\"first\", 784, 100), Relu(\"first\"), Affine(\"second\", 100, 100), Relu(\"second\"), Affine(\"third\", 100, 2), Affine(\"last\", 2, 1), Sigmoid(\"last\")]\n",
    "model_nn = Model(layers)\n",
    "model_lr = Model([Affine(\"logits\", 784, 1), Sigmoid(\"sigmoid\")])"
   ]
  },
  {
   "cell_type": "code",
   "execution_count": 20,
   "id": "6eede77a",
   "metadata": {
    "execution": {
     "iopub.execute_input": "2021-10-15T10:07:14.846281Z",
     "iopub.status.busy": "2021-10-15T10:07:14.845579Z",
     "iopub.status.idle": "2021-10-15T10:07:14.859459Z",
     "shell.execute_reply": "2021-10-15T10:07:14.858894Z"
    },
    "papermill": {
     "duration": 0.056489,
     "end_time": "2021-10-15T10:07:14.859597",
     "exception": false,
     "start_time": "2021-10-15T10:07:14.803108",
     "status": "completed"
    },
    "tags": []
   },
   "outputs": [],
   "source": [
    "nn_learner = Learner(loss, model_nn, opt, config.num_epochs)\n",
    "acc_nn = ClfCallback(nn_learner, config.bs, training_data_x , testing_data_x, training_data_y, testing_data_y)\n",
    "nn_learner.set_callbacks([acc_nn])"
   ]
  },
  {
   "cell_type": "code",
   "execution_count": 21,
   "id": "877b6cc7",
   "metadata": {
    "execution": {
     "iopub.execute_input": "2021-10-15T10:07:14.938664Z",
     "iopub.status.busy": "2021-10-15T10:07:14.937999Z",
     "iopub.status.idle": "2021-10-15T10:07:14.950575Z",
     "shell.execute_reply": "2021-10-15T10:07:14.950004Z"
    },
    "papermill": {
     "duration": 0.056022,
     "end_time": "2021-10-15T10:07:14.950724",
     "exception": false,
     "start_time": "2021-10-15T10:07:14.894702",
     "status": "completed"
    },
    "tags": []
   },
   "outputs": [],
   "source": [
    "lr_learner = Learner(loss, model_lr, opt, config.num_epochs)\n",
    "acc_lr = ClfCallback(lr_learner, config.bs, training_data_x , testing_data_x, training_data_y, testing_data_y)\n",
    "lr_learner.set_callbacks([acc_lr])"
   ]
  },
  {
   "cell_type": "code",
   "execution_count": 22,
   "id": "d9b133c3",
   "metadata": {
    "execution": {
     "iopub.execute_input": "2021-10-15T10:07:15.029346Z",
     "iopub.status.busy": "2021-10-15T10:07:15.028699Z",
     "iopub.status.idle": "2021-10-15T10:09:25.823265Z",
     "shell.execute_reply": "2021-10-15T10:09:25.824136Z"
    },
    "papermill": {
     "duration": 130.837194,
     "end_time": "2021-10-15T10:09:25.824307",
     "exception": false,
     "start_time": "2021-10-15T10:07:14.987113",
     "status": "completed"
    },
    "tags": []
   },
   "outputs": [
    {
     "name": "stdout",
     "output_type": "stream",
     "text": [
      "Epoch 0, Loss 0.2324\n",
      "Training Accuracy: 0.7719, Testing Accuracy: 0.7989\n",
      "\n"
     ]
    },
    {
     "name": "stdout",
     "output_type": "stream",
     "text": [
      "Epoch 10, Loss 0.06\n",
      "Training Accuracy: 0.9377, Testing Accuracy: 0.9546\n",
      "\n"
     ]
    },
    {
     "name": "stdout",
     "output_type": "stream",
     "text": [
      "Epoch 20, Loss 0.0421\n",
      "Training Accuracy: 0.9543, Testing Accuracy: 0.9657\n",
      "\n"
     ]
    },
    {
     "name": "stdout",
     "output_type": "stream",
     "text": [
      "Epoch 30, Loss 0.0352\n",
      "Training Accuracy: 0.9609, Testing Accuracy: 0.9703\n",
      "\n"
     ]
    },
    {
     "name": "stdout",
     "output_type": "stream",
     "text": [
      "Epoch 40, Loss 0.0313\n",
      "Training Accuracy: 0.9653, Testing Accuracy: 0.9728\n",
      "\n"
     ]
    },
    {
     "name": "stdout",
     "output_type": "stream",
     "text": [
      "Epoch 50, Loss 0.0288\n",
      "Training Accuracy: 0.9676, Testing Accuracy: 0.9753\n",
      "\n"
     ]
    },
    {
     "name": "stdout",
     "output_type": "stream",
     "text": [
      "Epoch 60, Loss 0.0269\n",
      "Training Accuracy: 0.9700, Testing Accuracy: 0.9753\n",
      "\n"
     ]
    },
    {
     "name": "stdout",
     "output_type": "stream",
     "text": [
      "Epoch 70, Loss 0.0254\n",
      "Training Accuracy: 0.9720, Testing Accuracy: 0.9738\n",
      "\n"
     ]
    },
    {
     "name": "stdout",
     "output_type": "stream",
     "text": [
      "Epoch 80, Loss 0.0242\n",
      "Training Accuracy: 0.9733, Testing Accuracy: 0.9743\n",
      "\n"
     ]
    },
    {
     "name": "stdout",
     "output_type": "stream",
     "text": [
      "Epoch 90, Loss 0.0232\n",
      "Training Accuracy: 0.9744, Testing Accuracy: 0.9748\n",
      "\n"
     ]
    },
    {
     "name": "stdout",
     "output_type": "stream",
     "text": [
      "Epoch 100, Loss 0.0223\n",
      "Training Accuracy: 0.9752, Testing Accuracy: 0.9758\n",
      "\n"
     ]
    },
    {
     "name": "stdout",
     "output_type": "stream",
     "text": [
      "Epoch 110, Loss 0.0215\n",
      "Training Accuracy: 0.9757, Testing Accuracy: 0.9768\n",
      "\n"
     ]
    },
    {
     "name": "stdout",
     "output_type": "stream",
     "text": [
      "Epoch 120, Loss 0.0208\n",
      "Training Accuracy: 0.9770, Testing Accuracy: 0.9778\n",
      "\n"
     ]
    },
    {
     "name": "stdout",
     "output_type": "stream",
     "text": [
      "Epoch 130, Loss 0.0201\n",
      "Training Accuracy: 0.9774, Testing Accuracy: 0.9793\n",
      "\n"
     ]
    },
    {
     "name": "stdout",
     "output_type": "stream",
     "text": [
      "Epoch 140, Loss 0.0195\n",
      "Training Accuracy: 0.9782, Testing Accuracy: 0.9803\n",
      "\n"
     ]
    },
    {
     "name": "stdout",
     "output_type": "stream",
     "text": [
      "Epoch 150, Loss 0.019\n",
      "Training Accuracy: 0.9790, Testing Accuracy: 0.9798\n",
      "\n"
     ]
    },
    {
     "name": "stdout",
     "output_type": "stream",
     "text": [
      "Epoch 160, Loss 0.0185\n",
      "Training Accuracy: 0.9799, Testing Accuracy: 0.9803\n",
      "\n"
     ]
    },
    {
     "name": "stdout",
     "output_type": "stream",
     "text": [
      "Epoch 170, Loss 0.018\n",
      "Training Accuracy: 0.9802, Testing Accuracy: 0.9803\n",
      "\n"
     ]
    },
    {
     "name": "stdout",
     "output_type": "stream",
     "text": [
      "Epoch 180, Loss 0.0175\n",
      "Training Accuracy: 0.9810, Testing Accuracy: 0.9803\n",
      "\n"
     ]
    },
    {
     "name": "stdout",
     "output_type": "stream",
     "text": [
      "Epoch 190, Loss 0.0171\n",
      "Training Accuracy: 0.9815, Testing Accuracy: 0.9803\n",
      "\n"
     ]
    },
    {
     "name": "stdout",
     "output_type": "stream",
     "text": [
      "Epoch 200, Loss 0.0167\n",
      "Training Accuracy: 0.9819, Testing Accuracy: 0.9814\n",
      "\n"
     ]
    },
    {
     "name": "stdout",
     "output_type": "stream",
     "text": [
      "Epoch 210, Loss 0.0163\n",
      "Training Accuracy: 0.9821, Testing Accuracy: 0.9808\n",
      "\n"
     ]
    },
    {
     "name": "stdout",
     "output_type": "stream",
     "text": [
      "Epoch 220, Loss 0.0159\n",
      "Training Accuracy: 0.9828, Testing Accuracy: 0.9808\n",
      "\n"
     ]
    },
    {
     "name": "stdout",
     "output_type": "stream",
     "text": [
      "Epoch 230, Loss 0.0155\n",
      "Training Accuracy: 0.9835, Testing Accuracy: 0.9814\n",
      "\n"
     ]
    },
    {
     "name": "stdout",
     "output_type": "stream",
     "text": [
      "Epoch 240, Loss 0.0151\n",
      "Training Accuracy: 0.9838, Testing Accuracy: 0.9814\n",
      "\n"
     ]
    },
    {
     "data": {
      "text/plain": [
       "0.002985655268285181"
      ]
     },
     "execution_count": 22,
     "metadata": {},
     "output_type": "execute_result"
    }
   ],
   "source": [
    "nn_learner.train_loop(dl)"
   ]
  },
  {
   "cell_type": "code",
   "execution_count": 23,
   "id": "e0163366",
   "metadata": {
    "execution": {
     "iopub.execute_input": "2021-10-15T10:09:25.935724Z",
     "iopub.status.busy": "2021-10-15T10:09:25.935035Z",
     "iopub.status.idle": "2021-10-15T10:09:45.294235Z",
     "shell.execute_reply": "2021-10-15T10:09:45.295104Z"
    },
    "papermill": {
     "duration": 19.426975,
     "end_time": "2021-10-15T10:09:45.295271",
     "exception": false,
     "start_time": "2021-10-15T10:09:25.868296",
     "status": "completed"
    },
    "tags": []
   },
   "outputs": [
    {
     "name": "stdout",
     "output_type": "stream",
     "text": [
      "Epoch 0, Loss 0.2287\n",
      "Training Accuracy: 0.7041, Testing Accuracy: 0.7147\n",
      "\n"
     ]
    },
    {
     "name": "stdout",
     "output_type": "stream",
     "text": [
      "Epoch 10, Loss 0.1065\n",
      "Training Accuracy: 0.8983, Testing Accuracy: 0.9133\n",
      "\n"
     ]
    },
    {
     "name": "stdout",
     "output_type": "stream",
     "text": [
      "Epoch 20, Loss 0.0813\n",
      "Training Accuracy: 0.9244, Testing Accuracy: 0.9365\n",
      "\n"
     ]
    },
    {
     "name": "stdout",
     "output_type": "stream",
     "text": [
      "Epoch 30, Loss 0.0695\n",
      "Training Accuracy: 0.9348, Testing Accuracy: 0.9456\n",
      "\n"
     ]
    },
    {
     "name": "stdout",
     "output_type": "stream",
     "text": [
      "Epoch 40, Loss 0.0624\n",
      "Training Accuracy: 0.9399, Testing Accuracy: 0.9521\n",
      "\n"
     ]
    },
    {
     "name": "stdout",
     "output_type": "stream",
     "text": [
      "Epoch 50, Loss 0.0577\n",
      "Training Accuracy: 0.9437, Testing Accuracy: 0.9572\n",
      "\n"
     ]
    },
    {
     "name": "stdout",
     "output_type": "stream",
     "text": [
      "Epoch 60, Loss 0.0542\n",
      "Training Accuracy: 0.9470, Testing Accuracy: 0.9582\n",
      "\n"
     ]
    },
    {
     "name": "stdout",
     "output_type": "stream",
     "text": [
      "Epoch 70, Loss 0.0516\n",
      "Training Accuracy: 0.9488, Testing Accuracy: 0.9602\n",
      "\n"
     ]
    },
    {
     "name": "stdout",
     "output_type": "stream",
     "text": [
      "Epoch 80, Loss 0.0495\n",
      "Training Accuracy: 0.9505, Testing Accuracy: 0.9622\n",
      "\n"
     ]
    },
    {
     "name": "stdout",
     "output_type": "stream",
     "text": [
      "Epoch 90, Loss 0.0477\n",
      "Training Accuracy: 0.9517, Testing Accuracy: 0.9632\n",
      "\n"
     ]
    },
    {
     "name": "stdout",
     "output_type": "stream",
     "text": [
      "Epoch 100, Loss 0.0463\n",
      "Training Accuracy: 0.9527, Testing Accuracy: 0.9632\n",
      "\n"
     ]
    },
    {
     "name": "stdout",
     "output_type": "stream",
     "text": [
      "Epoch 110, Loss 0.045\n",
      "Training Accuracy: 0.9539, Testing Accuracy: 0.9637\n",
      "\n"
     ]
    },
    {
     "name": "stdout",
     "output_type": "stream",
     "text": [
      "Epoch 120, Loss 0.0439\n",
      "Training Accuracy: 0.9544, Testing Accuracy: 0.9647\n",
      "\n"
     ]
    },
    {
     "name": "stdout",
     "output_type": "stream",
     "text": [
      "Epoch 130, Loss 0.043\n",
      "Training Accuracy: 0.9554, Testing Accuracy: 0.9652\n",
      "\n"
     ]
    },
    {
     "name": "stdout",
     "output_type": "stream",
     "text": [
      "Epoch 140, Loss 0.0421\n",
      "Training Accuracy: 0.9562, Testing Accuracy: 0.9652\n",
      "\n"
     ]
    },
    {
     "name": "stdout",
     "output_type": "stream",
     "text": [
      "Epoch 150, Loss 0.0414\n",
      "Training Accuracy: 0.9568, Testing Accuracy: 0.9657\n",
      "\n"
     ]
    },
    {
     "name": "stdout",
     "output_type": "stream",
     "text": [
      "Epoch 160, Loss 0.0407\n",
      "Training Accuracy: 0.9577, Testing Accuracy: 0.9657\n",
      "\n"
     ]
    },
    {
     "name": "stdout",
     "output_type": "stream",
     "text": [
      "Epoch 170, Loss 0.0401\n",
      "Training Accuracy: 0.9582, Testing Accuracy: 0.9657\n",
      "\n"
     ]
    },
    {
     "name": "stdout",
     "output_type": "stream",
     "text": [
      "Epoch 180, Loss 0.0395\n",
      "Training Accuracy: 0.9587, Testing Accuracy: 0.9657\n",
      "\n"
     ]
    },
    {
     "name": "stdout",
     "output_type": "stream",
     "text": [
      "Epoch 190, Loss 0.039\n",
      "Training Accuracy: 0.9592, Testing Accuracy: 0.9662\n",
      "\n"
     ]
    },
    {
     "name": "stdout",
     "output_type": "stream",
     "text": [
      "Epoch 200, Loss 0.0385\n",
      "Training Accuracy: 0.9594, Testing Accuracy: 0.9662\n",
      "\n"
     ]
    },
    {
     "name": "stdout",
     "output_type": "stream",
     "text": [
      "Epoch 210, Loss 0.0381\n",
      "Training Accuracy: 0.9599, Testing Accuracy: 0.9662\n",
      "\n"
     ]
    },
    {
     "name": "stdout",
     "output_type": "stream",
     "text": [
      "Epoch 220, Loss 0.0376\n",
      "Training Accuracy: 0.9600, Testing Accuracy: 0.9662\n",
      "\n"
     ]
    },
    {
     "name": "stdout",
     "output_type": "stream",
     "text": [
      "Epoch 230, Loss 0.0373\n",
      "Training Accuracy: 0.9603, Testing Accuracy: 0.9662\n",
      "\n"
     ]
    },
    {
     "name": "stdout",
     "output_type": "stream",
     "text": [
      "Epoch 240, Loss 0.0369\n",
      "Training Accuracy: 0.9609, Testing Accuracy: 0.9662\n",
      "\n"
     ]
    },
    {
     "data": {
      "text/plain": [
       "0.0513348555561349"
      ]
     },
     "execution_count": 23,
     "metadata": {},
     "output_type": "execute_result"
    }
   ],
   "source": [
    "lr_learner.train_loop(dl)"
   ]
  },
  {
   "cell_type": "code",
   "execution_count": 24,
   "id": "ca410940",
   "metadata": {
    "execution": {
     "iopub.execute_input": "2021-10-15T10:09:45.409105Z",
     "iopub.status.busy": "2021-10-15T10:09:45.408435Z",
     "iopub.status.idle": "2021-10-15T10:09:45.714254Z",
     "shell.execute_reply": "2021-10-15T10:09:45.713643Z"
    },
    "papermill": {
     "duration": 0.364434,
     "end_time": "2021-10-15T10:09:45.714403",
     "exception": false,
     "start_time": "2021-10-15T10:09:45.349969",
     "status": "completed"
    },
    "tags": []
   },
   "outputs": [
    {
     "data": {
      "text/plain": [
       "<matplotlib.legend.Legend at 0x7fae69aa4e80>"
      ]
     },
     "execution_count": 24,
     "metadata": {},
     "output_type": "execute_result"
    },
    {
     "data": {
      "image/png": "[encoded data removed]",
      "text/plain": [
       "<Figure size 1080x720 with 1 Axes>"
      ]
     },
     "metadata": {
      "needs_background": "light"
     },
     "output_type": "display_data"
    }
   ],
   "source": [
    "#comparing the results of NN and LR\n",
    "plt.figure(figsize=(15,10))\n",
    "\n",
    "# Neural Network plots\n",
    "plt.plot(acc_nn.accuracies, 'r-', label = \"Training Accuracies - NN\")\n",
    "plt.plot(acc_nn.test_accuracies, 'g-', label = \"Testing Accuracies - NN\")\n",
    "\n",
    "# Logistic Regression plots\n",
    "plt.plot(acc_lr.accuracies, 'k-', label = \"Training Accuracies - LR\")\n",
    "plt.plot(acc_lr.test_accuracies, 'b-', label = \"Testing Accuracies - LR\")\n",
    "plt.legend()"
   ]
  },
  {
   "cell_type": "markdown",
   "id": "80dfb35c",
   "metadata": {
    "papermill": {
     "duration": 0.055909,
     "end_time": "2021-10-15T10:09:45.825394",
     "exception": false,
     "start_time": "2021-10-15T10:09:45.769485",
     "status": "completed"
    },
    "tags": []
   },
   "source": [
    "#### Plotting the outputs of this layer of the NN.\n"
   ]
  },
  {
   "cell_type": "code",
   "execution_count": 25,
   "id": "45eb2ff5",
   "metadata": {
    "execution": {
     "iopub.execute_input": "2021-10-15T10:09:45.963122Z",
     "iopub.status.busy": "2021-10-15T10:09:45.962162Z",
     "iopub.status.idle": "2021-10-15T10:09:45.975380Z",
     "shell.execute_reply": "2021-10-15T10:09:45.975927Z"
    },
    "papermill": {
     "duration": 0.09617,
     "end_time": "2021-10-15T10:09:45.976098",
     "exception": false,
     "start_time": "2021-10-15T10:09:45.879928",
     "status": "completed"
    },
    "tags": []
   },
   "outputs": [],
   "source": [
    "new_model = Model(layers[:-2])\n",
    "testing_plot = new_model(testing_data_x)"
   ]
  },
  {
   "cell_type": "code",
   "execution_count": 26,
   "id": "4c0a5485",
   "metadata": {
    "execution": {
     "iopub.execute_input": "2021-10-15T10:09:46.103095Z",
     "iopub.status.busy": "2021-10-15T10:09:46.102430Z",
     "iopub.status.idle": "2021-10-15T10:09:46.361520Z",
     "shell.execute_reply": "2021-10-15T10:09:46.362061Z"
    },
    "papermill": {
     "duration": 0.326473,
     "end_time": "2021-10-15T10:09:46.362234",
     "exception": false,
     "start_time": "2021-10-15T10:09:46.035761",
     "status": "completed"
    },
    "tags": []
   },
   "outputs": [
    {
     "data": {
      "text/plain": [
       "Text(0.5, 1.0, 'Outputs')"
      ]
     },
     "execution_count": 26,
     "metadata": {},
     "output_type": "execute_result"
    },
    {
     "data": {
      "image/png": "[encoded data removed]",
      "text/plain": [
       "<Figure size 576x504 with 1 Axes>"
      ]
     },
     "metadata": {
      "needs_background": "light"
     },
     "output_type": "display_data"
    }
   ],
   "source": [
    "# Plotting the scatter plot of points and color coding by class\n",
    "plt.figure(figsize=(8,7))\n",
    "plt.scatter(testing_plot[:,0], testing_plot[:,1], alpha = 0.1, c = y_test.ravel());\n",
    "plt.title('Outputs')"
   ]
  },
  {
   "cell_type": "markdown",
   "id": "a74fcf8f",
   "metadata": {
    "papermill": {
     "duration": 0.06147,
     "end_time": "2021-10-15T10:09:46.481017",
     "exception": false,
     "start_time": "2021-10-15T10:09:46.419547",
     "status": "completed"
    },
    "tags": []
   },
   "source": [
    "Probability contours"
   ]
  },
  {
   "cell_type": "code",
   "execution_count": 27,
   "id": "d0afc8e3",
   "metadata": {
    "execution": {
     "iopub.execute_input": "2021-10-15T10:09:46.631406Z",
     "iopub.status.busy": "2021-10-15T10:09:46.630640Z",
     "iopub.status.idle": "2021-10-15T10:09:46.644511Z",
     "shell.execute_reply": "2021-10-15T10:09:46.643826Z"
    },
    "papermill": {
     "duration": 0.104007,
     "end_time": "2021-10-15T10:09:46.644661",
     "exception": false,
     "start_time": "2021-10-15T10:09:46.540654",
     "status": "completed"
    },
    "tags": []
   },
   "outputs": [],
   "source": [
    "model_prob = Model(layers[-2:]) "
   ]
  },
  {
   "cell_type": "code",
   "execution_count": 28,
   "id": "9b96e238",
   "metadata": {
    "execution": {
     "iopub.execute_input": "2021-10-15T10:09:46.784600Z",
     "iopub.status.busy": "2021-10-15T10:09:46.774591Z",
     "iopub.status.idle": "2021-10-15T10:09:46.785812Z",
     "shell.execute_reply": "2021-10-15T10:09:46.785172Z"
    },
    "papermill": {
     "duration": 0.083354,
     "end_time": "2021-10-15T10:09:46.785950",
     "exception": false,
     "start_time": "2021-10-15T10:09:46.702596",
     "status": "completed"
    },
    "tags": []
   },
   "outputs": [],
   "source": [
    "#creating the x and y ranges according to the above generated plot.\n",
    "x_range = np.linspace(-4, 1, 100) \n",
    "y_range = np.linspace(-6, 6, 100) \n",
    "x_grid, y_grid = np.meshgrid(x_range, y_range) # x_grid and y_grig are of size 100 X 100\n",
    "\n",
    "# converting x_grid and y_grid to continuous arrays\n",
    "x_gridflat = np.ravel(x_grid)\n",
    "y_gridflat = np.ravel(y_grid)\n",
    "\n",
    "# The last layer of the current model takes two columns as input. Hence transpose of np.vstack() is required.\n",
    "X = np.vstack((x_gridflat, y_gridflat)).T\n",
    "\n",
    "prob_contour = model_prob(X).reshape(100,100) "
   ]
  },
  {
   "cell_type": "code",
   "execution_count": 29,
   "id": "da72499a",
   "metadata": {
    "execution": {
     "iopub.execute_input": "2021-10-15T10:09:46.918284Z",
     "iopub.status.busy": "2021-10-15T10:09:46.917577Z",
     "iopub.status.idle": "2021-10-15T10:09:47.225556Z",
     "shell.execute_reply": "2021-10-15T10:09:47.224604Z"
    },
    "papermill": {
     "duration": 0.375051,
     "end_time": "2021-10-15T10:09:47.225739",
     "exception": false,
     "start_time": "2021-10-15T10:09:46.850688",
     "status": "completed"
    },
    "tags": []
   },
   "outputs": [
    {
     "data": {
      "image/png": "[encoded data removed]",
      "text/plain": [
       "<Figure size 720x648 with 1 Axes>"
      ]
     },
     "metadata": {
      "needs_background": "light"
     },
     "output_type": "display_data"
    }
   ],
   "source": [
    "plt.figure(figsize=(10,9))\n",
    "plt.scatter(testing_plot[:,0], testing_plot[:,1], alpha = 0.1, c = y_test.ravel())\n",
    "contours = plt.contour(x_grid,y_grid,prob_contour)\n",
    "plt.title('Probability Contours')\n",
    "plt.clabel(contours, inline = True );"
   ]
  },
  {
   "cell_type": "code",
   "execution_count": null,
   "id": "e81b4ac7",
   "metadata": {
    "papermill": {
     "duration": 0.060239,
     "end_time": "2021-10-15T10:09:47.349611",
     "exception": false,
     "start_time": "2021-10-15T10:09:47.289372",
     "status": "completed"
    },
    "tags": []
   },
   "outputs": [],
   "source": []
  }
 ],
 "metadata": {
  "kernelspec": {
   "display_name": "Python 3",
   "language": "python",
   "name": "python3"
  },
  "language_info": {
   "codemirror_mode": {
    "name": "ipython",
    "version": 3
   },
   "file_extension": ".py",
   "mimetype": "text/x-python",
   "name": "python",
   "nbconvert_exporter": "python",
   "pygments_lexer": "ipython3",
   "version": "3.6.15"
  },
  "papermill": {
   "default_parameters": {},
   "duration": 160.490453,
   "end_time": "2021-10-15T10:09:47.820151",
   "environment_variables": {},
   "exception": null,
   "input_path": "2020-08-11-part2.ipynb",
   "output_path": "2020-08-11-part2.ipynb",
   "parameters": {},
   "start_time": "2021-10-15T10:07:07.329698",
   "version": "2.3.3"
  }
 },
 "nbformat": 4,
 "nbformat_minor": 5
}