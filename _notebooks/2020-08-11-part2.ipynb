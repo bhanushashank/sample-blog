{
 "cells": [
  {
   "cell_type": "markdown",
   "id": "98380cd3",
   "metadata": {
    "papermill": {
     "duration": 0.033287,
     "end_time": "2021-09-15T00:20:07.706428",
     "exception": false,
     "start_time": "2021-09-15T00:20:07.673141",
     "status": "completed"
    },
    "tags": []
   },
   "source": [
    "# Distinguish Your Own Digits (DYOD)"
   ]
  },
  {
   "cell_type": "markdown",
   "id": "ef31240d",
   "metadata": {
    "papermill": {
     "duration": 0.025479,
     "end_time": "2021-09-15T00:20:07.757893",
     "exception": false,
     "start_time": "2021-09-15T00:20:07.732414",
     "status": "completed"
    },
    "tags": []
   },
   "source": [
    "You are going to write a classifier that distinguishes between the number 3 and number 8."
   ]
  },
  {
   "cell_type": "code",
   "execution_count": 1,
   "id": "b15c8646",
   "metadata": {
    "execution": {
     "iopub.execute_input": "2021-09-15T00:20:07.820208Z",
     "iopub.status.busy": "2021-09-15T00:20:07.819644Z",
     "iopub.status.idle": "2021-09-15T00:20:07.830334Z",
     "shell.execute_reply": "2021-09-15T00:20:07.829863Z"
    },
    "papermill": {
     "duration": 0.048374,
     "end_time": "2021-09-15T00:20:07.830459",
     "exception": false,
     "start_time": "2021-09-15T00:20:07.782085",
     "status": "completed"
    },
    "tags": []
   },
   "outputs": [],
   "source": [
    "%load_ext autoreload\n",
    "%autoreload 2"
   ]
  },
  {
   "cell_type": "code",
   "execution_count": 2,
   "id": "22ef38dc",
   "metadata": {
    "execution": {
     "iopub.execute_input": "2021-09-15T00:20:07.884547Z",
     "iopub.status.busy": "2021-09-15T00:20:07.883964Z",
     "iopub.status.idle": "2021-09-15T00:20:08.424189Z",
     "shell.execute_reply": "2021-09-15T00:20:08.423653Z"
    },
    "papermill": {
     "duration": 0.56874,
     "end_time": "2021-09-15T00:20:08.424325",
     "exception": false,
     "start_time": "2021-09-15T00:20:07.855585",
     "status": "completed"
    },
    "tags": []
   },
   "outputs": [],
   "source": [
    "%matplotlib inline\n",
    "import numpy as np\n",
    "import matplotlib.pyplot as plt\n",
    "import pandas as pd"
   ]
  },
  {
   "cell_type": "markdown",
   "id": "ba036198",
   "metadata": {
    "papermill": {
     "duration": 0.026622,
     "end_time": "2021-09-15T00:20:08.476885",
     "exception": false,
     "start_time": "2021-09-15T00:20:08.450263",
     "status": "completed"
    },
    "tags": []
   },
   "source": [
    "From the command line run `pip install mnist`. This is a library that will help you bring down the mnist dataset. If you run this from a notebook, you need to put  `!pip install mnist` in a cell by itself."
   ]
  },
  {
   "cell_type": "code",
   "execution_count": 3,
   "id": "bb6ad8a1",
   "metadata": {
    "execution": {
     "iopub.execute_input": "2021-09-15T00:20:08.531704Z",
     "iopub.status.busy": "2021-09-15T00:20:08.530994Z",
     "iopub.status.idle": "2021-09-15T00:20:10.266084Z",
     "shell.execute_reply": "2021-09-15T00:20:10.266899Z"
    },
    "papermill": {
     "duration": 1.765178,
     "end_time": "2021-09-15T00:20:10.267145",
     "exception": false,
     "start_time": "2021-09-15T00:20:08.501967",
     "status": "completed"
    },
    "tags": []
   },
   "outputs": [
    {
     "name": "stdout",
     "output_type": "stream",
     "text": [
      "Collecting mnist\r\n",
      "  Downloading mnist-0.2.2-py2.py3-none-any.whl (3.5 kB)\r\n",
      "Requirement already satisfied: numpy in /opt/hostedtoolcache/Python/3.6.14/x64/lib/python3.6/site-packages (from mnist) (1.19.5)\r\n"
     ]
    },
    {
     "name": "stdout",
     "output_type": "stream",
     "text": [
      "Installing collected packages: mnist\r\n"
     ]
    },
    {
     "name": "stdout",
     "output_type": "stream",
     "text": [
      "Successfully installed mnist-0.2.2\r\n"
     ]
    }
   ],
   "source": [
    "!pip install mnist"
   ]
  },
  {
   "cell_type": "markdown",
   "id": "69df9c9a",
   "metadata": {
    "papermill": {
     "duration": 0.026957,
     "end_time": "2021-09-15T00:20:10.321465",
     "exception": false,
     "start_time": "2021-09-15T00:20:10.294508",
     "status": "completed"
    },
    "tags": []
   },
   "source": [
    "## Preparing the Data"
   ]
  },
  {
   "cell_type": "code",
   "execution_count": 4,
   "id": "7f69d806",
   "metadata": {
    "execution": {
     "iopub.execute_input": "2021-09-15T00:20:10.378462Z",
     "iopub.status.busy": "2021-09-15T00:20:10.377407Z",
     "iopub.status.idle": "2021-09-15T00:20:10.394611Z",
     "shell.execute_reply": "2021-09-15T00:20:10.393607Z"
    },
    "papermill": {
     "duration": 0.047351,
     "end_time": "2021-09-15T00:20:10.394728",
     "exception": false,
     "start_time": "2021-09-15T00:20:10.347377",
     "status": "completed"
    },
    "tags": []
   },
   "outputs": [],
   "source": [
    "import mnist"
   ]
  },
  {
   "cell_type": "code",
   "execution_count": 5,
   "id": "a411e44f",
   "metadata": {
    "execution": {
     "iopub.execute_input": "2021-09-15T00:20:10.452251Z",
     "iopub.status.busy": "2021-09-15T00:20:10.450999Z",
     "iopub.status.idle": "2021-09-15T00:20:11.024984Z",
     "shell.execute_reply": "2021-09-15T00:20:11.024291Z"
    },
    "papermill": {
     "duration": 0.604421,
     "end_time": "2021-09-15T00:20:11.025144",
     "exception": false,
     "start_time": "2021-09-15T00:20:10.420723",
     "status": "completed"
    },
    "tags": []
   },
   "outputs": [],
   "source": [
    "train_images = mnist.train_images()\n",
    "train_labels = mnist.train_labels()"
   ]
  },
  {
   "cell_type": "code",
   "execution_count": 6,
   "id": "dceab3a5",
   "metadata": {
    "execution": {
     "iopub.execute_input": "2021-09-15T00:20:11.082405Z",
     "iopub.status.busy": "2021-09-15T00:20:11.081821Z",
     "iopub.status.idle": "2021-09-15T00:20:11.099142Z",
     "shell.execute_reply": "2021-09-15T00:20:11.099579Z"
    },
    "papermill": {
     "duration": 0.048302,
     "end_time": "2021-09-15T00:20:11.099721",
     "exception": false,
     "start_time": "2021-09-15T00:20:11.051419",
     "status": "completed"
    },
    "tags": []
   },
   "outputs": [
    {
     "data": {
      "text/plain": [
       "((60000, 28, 28), (60000,))"
      ]
     },
     "execution_count": 6,
     "metadata": {},
     "output_type": "execute_result"
    }
   ],
   "source": [
    "train_images.shape, train_labels.shape"
   ]
  },
  {
   "cell_type": "code",
   "execution_count": 7,
   "id": "f50dc2bb",
   "metadata": {
    "execution": {
     "iopub.execute_input": "2021-09-15T00:20:11.157909Z",
     "iopub.status.busy": "2021-09-15T00:20:11.156998Z",
     "iopub.status.idle": "2021-09-15T00:20:11.320338Z",
     "shell.execute_reply": "2021-09-15T00:20:11.319012Z"
    },
    "papermill": {
     "duration": 0.194467,
     "end_time": "2021-09-15T00:20:11.320471",
     "exception": false,
     "start_time": "2021-09-15T00:20:11.126004",
     "status": "completed"
    },
    "tags": []
   },
   "outputs": [],
   "source": [
    "test_images = mnist.test_images()\n",
    "test_labels = mnist.test_labels()"
   ]
  },
  {
   "cell_type": "code",
   "execution_count": 8,
   "id": "fc38cf1b",
   "metadata": {
    "execution": {
     "iopub.execute_input": "2021-09-15T00:20:11.376204Z",
     "iopub.status.busy": "2021-09-15T00:20:11.375609Z",
     "iopub.status.idle": "2021-09-15T00:20:11.391123Z",
     "shell.execute_reply": "2021-09-15T00:20:11.390689Z"
    },
    "papermill": {
     "duration": 0.044715,
     "end_time": "2021-09-15T00:20:11.391260",
     "exception": false,
     "start_time": "2021-09-15T00:20:11.346545",
     "status": "completed"
    },
    "tags": []
   },
   "outputs": [
    {
     "data": {
      "text/plain": [
       "((10000, 28, 28), (10000,))"
      ]
     },
     "execution_count": 8,
     "metadata": {},
     "output_type": "execute_result"
    }
   ],
   "source": [
    "test_images.shape, test_labels.shape"
   ]
  },
  {
   "cell_type": "code",
   "execution_count": 9,
   "id": "f9ed8fe0",
   "metadata": {
    "execution": {
     "iopub.execute_input": "2021-09-15T00:20:11.448552Z",
     "iopub.status.busy": "2021-09-15T00:20:11.447996Z",
     "iopub.status.idle": "2021-09-15T00:20:11.596356Z",
     "shell.execute_reply": "2021-09-15T00:20:11.596873Z"
    },
    "papermill": {
     "duration": 0.179198,
     "end_time": "2021-09-15T00:20:11.597027",
     "exception": false,
     "start_time": "2021-09-15T00:20:11.417829",
     "status": "completed"
    },
    "tags": []
   },
   "outputs": [
    {
     "name": "stdout",
     "output_type": "stream",
     "text": [
      "2\n"
     ]
    },
    {
     "data": {
      "text/plain": [
       "<matplotlib.image.AxesImage at 0x7f1cf9d57e80>"
      ]
     },
     "execution_count": 9,
     "metadata": {},
     "output_type": "execute_result"
    },
    {
     "data": {
      "image/png": "[encoded data removed]",
      "text/plain": [
       "<Figure size 432x288 with 1 Axes>"
      ]
     },
     "metadata": {
      "needs_background": "light"
     },
     "output_type": "display_data"
    }
   ],
   "source": [
    "image_index = 7776 # You may select anything up to 60,000\n",
    "print(train_labels[image_index]) \n",
    "plt.imshow(train_images[image_index], cmap='Greys')"
   ]
  },
  {
   "cell_type": "markdown",
   "id": "a8d2388d",
   "metadata": {
    "papermill": {
     "duration": 0.027349,
     "end_time": "2021-09-15T00:20:11.652212",
     "exception": false,
     "start_time": "2021-09-15T00:20:11.624863",
     "status": "completed"
    },
    "tags": []
   },
   "source": [
    "## Filter data to get 3 and 8 out"
   ]
  },
  {
   "cell_type": "code",
   "execution_count": 10,
   "id": "776f7fc7",
   "metadata": {
    "execution": {
     "iopub.execute_input": "2021-09-15T00:20:11.710759Z",
     "iopub.status.busy": "2021-09-15T00:20:11.709681Z",
     "iopub.status.idle": "2021-09-15T00:20:11.729295Z",
     "shell.execute_reply": "2021-09-15T00:20:11.729780Z"
    },
    "papermill": {
     "duration": 0.05141,
     "end_time": "2021-09-15T00:20:11.729921",
     "exception": false,
     "start_time": "2021-09-15T00:20:11.678511",
     "status": "completed"
    },
    "tags": []
   },
   "outputs": [],
   "source": [
    "train_filter = np.where((train_labels == 3 ) | (train_labels == 8))\n",
    "test_filter = np.where((test_labels == 3) | (test_labels == 8))\n",
    "X_train, y_train = train_images[train_filter], train_labels[train_filter]\n",
    "X_test, y_test = test_images[test_filter], test_labels[test_filter]"
   ]
  },
  {
   "cell_type": "markdown",
   "id": "948f0b7e",
   "metadata": {
    "papermill": {
     "duration": 0.027644,
     "end_time": "2021-09-15T00:20:11.785252",
     "exception": false,
     "start_time": "2021-09-15T00:20:11.757608",
     "status": "completed"
    },
    "tags": []
   },
   "source": [
    "We normalize the pizel values in the 0 to 1 range"
   ]
  },
  {
   "cell_type": "code",
   "execution_count": 11,
   "id": "ee4c2166",
   "metadata": {
    "execution": {
     "iopub.execute_input": "2021-09-15T00:20:11.845979Z",
     "iopub.status.busy": "2021-09-15T00:20:11.845430Z",
     "iopub.status.idle": "2021-09-15T00:20:11.898299Z",
     "shell.execute_reply": "2021-09-15T00:20:11.897630Z"
    },
    "papermill": {
     "duration": 0.084963,
     "end_time": "2021-09-15T00:20:11.898469",
     "exception": false,
     "start_time": "2021-09-15T00:20:11.813506",
     "status": "completed"
    },
    "tags": []
   },
   "outputs": [],
   "source": [
    "X_train = X_train/255.\n",
    "X_test = X_test/255."
   ]
  },
  {
   "cell_type": "markdown",
   "id": "ddcf4fab",
   "metadata": {
    "papermill": {
     "duration": 0.027385,
     "end_time": "2021-09-15T00:20:11.957501",
     "exception": false,
     "start_time": "2021-09-15T00:20:11.930116",
     "status": "completed"
    },
    "tags": []
   },
   "source": [
    "And setup the labels as 1 (when the digit is 3) and 0 (when the digit is 8)"
   ]
  },
  {
   "cell_type": "code",
   "execution_count": 12,
   "id": "7dc908f2",
   "metadata": {
    "execution": {
     "iopub.execute_input": "2021-09-15T00:20:12.019984Z",
     "iopub.status.busy": "2021-09-15T00:20:12.015628Z",
     "iopub.status.idle": "2021-09-15T00:20:12.028123Z",
     "shell.execute_reply": "2021-09-15T00:20:12.028600Z"
    },
    "papermill": {
     "duration": 0.044358,
     "end_time": "2021-09-15T00:20:12.028735",
     "exception": false,
     "start_time": "2021-09-15T00:20:11.984377",
     "status": "completed"
    },
    "tags": []
   },
   "outputs": [],
   "source": [
    "y_train = 1*(y_train==3)\n",
    "y_test = 1*(y_test==3)"
   ]
  },
  {
   "cell_type": "code",
   "execution_count": 13,
   "id": "01e4e969",
   "metadata": {
    "execution": {
     "iopub.execute_input": "2021-09-15T00:20:12.090916Z",
     "iopub.status.busy": "2021-09-15T00:20:12.090370Z",
     "iopub.status.idle": "2021-09-15T00:20:12.103921Z",
     "shell.execute_reply": "2021-09-15T00:20:12.103442Z"
    },
    "papermill": {
     "duration": 0.046371,
     "end_time": "2021-09-15T00:20:12.104043",
     "exception": false,
     "start_time": "2021-09-15T00:20:12.057672",
     "status": "completed"
    },
    "tags": []
   },
   "outputs": [
    {
     "data": {
      "text/plain": [
       "((11982, 28, 28), (1984, 28, 28))"
      ]
     },
     "execution_count": 13,
     "metadata": {},
     "output_type": "execute_result"
    }
   ],
   "source": [
    "X_train.shape, X_test.shape"
   ]
  },
  {
   "cell_type": "markdown",
   "id": "5ccf3f85",
   "metadata": {
    "papermill": {
     "duration": 0.027372,
     "end_time": "2021-09-15T00:20:12.159789",
     "exception": false,
     "start_time": "2021-09-15T00:20:12.132417",
     "status": "completed"
    },
    "tags": []
   },
   "source": [
    "We reshape the data to flatten the image pixels into a set of features or co-variates:"
   ]
  },
  {
   "cell_type": "code",
   "execution_count": 14,
   "id": "5286a4a3",
   "metadata": {
    "execution": {
     "iopub.execute_input": "2021-09-15T00:20:12.218113Z",
     "iopub.status.busy": "2021-09-15T00:20:12.217574Z",
     "iopub.status.idle": "2021-09-15T00:20:12.233821Z",
     "shell.execute_reply": "2021-09-15T00:20:12.233349Z"
    },
    "papermill": {
     "duration": 0.047932,
     "end_time": "2021-09-15T00:20:12.233950",
     "exception": false,
     "start_time": "2021-09-15T00:20:12.186018",
     "status": "completed"
    },
    "tags": []
   },
   "outputs": [
    {
     "data": {
      "text/plain": [
       "((11982, 784), (1984, 784))"
      ]
     },
     "execution_count": 14,
     "metadata": {},
     "output_type": "execute_result"
    }
   ],
   "source": [
    "X_train = X_train.reshape(X_train.shape[0], -1)\n",
    "X_test = X_test.reshape(X_test.shape[0], -1)\n",
    "X_train.shape, X_test.shape"
   ]
  },
  {
   "cell_type": "code",
   "execution_count": 15,
   "id": "73c5f88a",
   "metadata": {
    "execution": {
     "iopub.execute_input": "2021-09-15T00:20:12.291906Z",
     "iopub.status.busy": "2021-09-15T00:20:12.291318Z",
     "iopub.status.idle": "2021-09-15T00:20:12.310729Z",
     "shell.execute_reply": "2021-09-15T00:20:12.310296Z"
    },
    "papermill": {
     "duration": 0.049653,
     "end_time": "2021-09-15T00:20:12.310841",
     "exception": false,
     "start_time": "2021-09-15T00:20:12.261188",
     "status": "completed"
    },
    "tags": []
   },
   "outputs": [],
   "source": [
    "#Impoting functions from 'Kudzu'\n",
    "from kudzu.model import Model\n",
    "from kudzu.train import Learner\n",
    "from kudzu.optim import GD\n",
    "from kudzu.data import Data, Sampler,Dataloader\n",
    "\n",
    "from kudzu.callbacks import AccCallback\n",
    "from kudzu.callbacks import ClfCallback\n",
    "\n",
    "from kudzu.loss import MSE\n",
    "\n",
    "from kudzu.layer import Sigmoid,Relu\n",
    "from kudzu.layer import Affine"
   ]
  },
  {
   "cell_type": "markdown",
   "id": "bc01172a",
   "metadata": {
    "papermill": {
     "duration": 0.029855,
     "end_time": "2021-09-15T00:20:12.368669",
     "exception": false,
     "start_time": "2021-09-15T00:20:12.338814",
     "status": "completed"
    },
    "tags": []
   },
   "source": [
    "### Let us create a `Config` class, to store important parameters. \n",
    "This class essentially plays the role of a dictionary."
   ]
  },
  {
   "cell_type": "code",
   "execution_count": 16,
   "id": "978281aa",
   "metadata": {
    "execution": {
     "iopub.execute_input": "2021-09-15T00:20:12.433514Z",
     "iopub.status.busy": "2021-09-15T00:20:12.432921Z",
     "iopub.status.idle": "2021-09-15T00:20:12.445820Z",
     "shell.execute_reply": "2021-09-15T00:20:12.445382Z"
    },
    "papermill": {
     "duration": 0.04765,
     "end_time": "2021-09-15T00:20:12.445933",
     "exception": false,
     "start_time": "2021-09-15T00:20:12.398283",
     "status": "completed"
    },
    "tags": []
   },
   "outputs": [],
   "source": [
    "class Config:\n",
    "    pass\n",
    "config = Config()\n",
    "config.lr = 0.001\n",
    "config.num_epochs = 250\n",
    "config.bs = 50"
   ]
  },
  {
   "cell_type": "markdown",
   "id": "1385fa59",
   "metadata": {
    "papermill": {
     "duration": 0.028217,
     "end_time": "2021-09-15T00:20:12.502659",
     "exception": false,
     "start_time": "2021-09-15T00:20:12.474442",
     "status": "completed"
    },
    "tags": []
   },
   "source": [
    "### Running Models with the Training data\n",
    "Details about the network layers:\n",
    "- A first affine layer has 784 inputs and does 100 affine transforms. These are followed by a Relu\n",
    "- A second affine layer has 100 inputs from the 100 activations of the past layer, and does 100 affine transforms. These are followed by a Relu\n",
    "- A third affine layer has 100 activations and does 2 affine transformations to create an embedding for visualization. There is no non-linearity here.\n",
    "- A final \"logistic regression\" which has an affine transform from 2 inputs to 1 output, which is squeezed through a sigmoid.\n"
   ]
  },
  {
   "cell_type": "code",
   "execution_count": 17,
   "id": "2b9c66db",
   "metadata": {
    "execution": {
     "iopub.execute_input": "2021-09-15T00:20:12.566645Z",
     "iopub.status.busy": "2021-09-15T00:20:12.566098Z",
     "iopub.status.idle": "2021-09-15T00:20:12.577754Z",
     "shell.execute_reply": "2021-09-15T00:20:12.577294Z"
    },
    "papermill": {
     "duration": 0.046839,
     "end_time": "2021-09-15T00:20:12.577865",
     "exception": false,
     "start_time": "2021-09-15T00:20:12.531026",
     "status": "completed"
    },
    "tags": []
   },
   "outputs": [],
   "source": [
    "data = Data(X_train, y_train.reshape(-1,1))\n",
    "sampler = Sampler(data, config.bs, shuffle=True)\n",
    "\n",
    "dl = Dataloader(data, sampler)\n",
    "\n",
    "opt = GD(config.lr)\n",
    "loss = MSE()"
   ]
  },
  {
   "cell_type": "code",
   "execution_count": 18,
   "id": "b275e4c2",
   "metadata": {
    "execution": {
     "iopub.execute_input": "2021-09-15T00:20:12.637416Z",
     "iopub.status.busy": "2021-09-15T00:20:12.636839Z",
     "iopub.status.idle": "2021-09-15T00:20:12.649809Z",
     "shell.execute_reply": "2021-09-15T00:20:12.649220Z"
    },
    "papermill": {
     "duration": 0.045519,
     "end_time": "2021-09-15T00:20:12.649931",
     "exception": false,
     "start_time": "2021-09-15T00:20:12.604412",
     "status": "completed"
    },
    "tags": []
   },
   "outputs": [],
   "source": [
    "training_data_x = X_train\n",
    "testing_data_x = X_test\n",
    "training_data_y = y_train.reshape(-1,1)\n",
    "testing_data_y = y_test.reshape(-1,1)"
   ]
  },
  {
   "cell_type": "code",
   "execution_count": 19,
   "id": "76951160",
   "metadata": {
    "execution": {
     "iopub.execute_input": "2021-09-15T00:20:12.717833Z",
     "iopub.status.busy": "2021-09-15T00:20:12.717228Z",
     "iopub.status.idle": "2021-09-15T00:20:12.732580Z",
     "shell.execute_reply": "2021-09-15T00:20:12.732070Z"
    },
    "papermill": {
     "duration": 0.054887,
     "end_time": "2021-09-15T00:20:12.732704",
     "exception": false,
     "start_time": "2021-09-15T00:20:12.677817",
     "status": "completed"
    },
    "tags": []
   },
   "outputs": [
    {
     "name": "stdout",
     "output_type": "stream",
     "text": [
      "xavier\n",
      "xavier\n",
      "xavier\n",
      "xavier\n",
      "xavier\n"
     ]
    }
   ],
   "source": [
    "layers = [Affine(\"first\", 784, 100), Relu(\"first\"), Affine(\"second\", 100, 100), Relu(\"second\"), Affine(\"third\", 100, 2), Affine(\"last\", 2, 1), Sigmoid(\"last\")]\n",
    "model_nn = Model(layers)\n",
    "model_lr = Model([Affine(\"logits\", 784, 1), Sigmoid(\"sigmoid\")])"
   ]
  },
  {
   "cell_type": "code",
   "execution_count": 20,
   "id": "6eede77a",
   "metadata": {
    "execution": {
     "iopub.execute_input": "2021-09-15T00:20:12.795861Z",
     "iopub.status.busy": "2021-09-15T00:20:12.795267Z",
     "iopub.status.idle": "2021-09-15T00:20:12.808220Z",
     "shell.execute_reply": "2021-09-15T00:20:12.807780Z"
    },
    "papermill": {
     "duration": 0.046112,
     "end_time": "2021-09-15T00:20:12.808339",
     "exception": false,
     "start_time": "2021-09-15T00:20:12.762227",
     "status": "completed"
    },
    "tags": []
   },
   "outputs": [],
   "source": [
    "nn_learner = Learner(loss, model_nn, opt, config.num_epochs)\n",
    "acc_nn = ClfCallback(nn_learner, config.bs, training_data_x , testing_data_x, training_data_y, testing_data_y)\n",
    "nn_learner.set_callbacks([acc_nn])"
   ]
  },
  {
   "cell_type": "code",
   "execution_count": 21,
   "id": "877b6cc7",
   "metadata": {
    "execution": {
     "iopub.execute_input": "2021-09-15T00:20:12.870806Z",
     "iopub.status.busy": "2021-09-15T00:20:12.870229Z",
     "iopub.status.idle": "2021-09-15T00:20:12.882764Z",
     "shell.execute_reply": "2021-09-15T00:20:12.883300Z"
    },
    "papermill": {
     "duration": 0.045983,
     "end_time": "2021-09-15T00:20:12.883446",
     "exception": false,
     "start_time": "2021-09-15T00:20:12.837463",
     "status": "completed"
    },
    "tags": []
   },
   "outputs": [],
   "source": [
    "lr_learner = Learner(loss, model_lr, opt, config.num_epochs)\n",
    "acc_lr = ClfCallback(lr_learner, config.bs, training_data_x , testing_data_x, training_data_y, testing_data_y)\n",
    "lr_learner.set_callbacks([acc_lr])"
   ]
  },
  {
   "cell_type": "code",
   "execution_count": 22,
   "id": "d9b133c3",
   "metadata": {
    "execution": {
     "iopub.execute_input": "2021-09-15T00:20:12.946334Z",
     "iopub.status.busy": "2021-09-15T00:20:12.945728Z",
     "iopub.status.idle": "2021-09-15T00:21:36.052446Z",
     "shell.execute_reply": "2021-09-15T00:21:36.053270Z"
    },
    "papermill": {
     "duration": 83.140789,
     "end_time": "2021-09-15T00:21:36.053426",
     "exception": false,
     "start_time": "2021-09-15T00:20:12.912637",
     "status": "completed"
    },
    "tags": []
   },
   "outputs": [
    {
     "name": "stdout",
     "output_type": "stream",
     "text": [
      "Epoch 0, Loss 0.2155\n",
      "Training Accuracy: 0.8107, Testing Accuracy: 0.8306\n",
      "\n"
     ]
    },
    {
     "name": "stdout",
     "output_type": "stream",
     "text": [
      "Epoch 10, Loss 0.0781\n",
      "Training Accuracy: 0.9266, Testing Accuracy: 0.9325\n",
      "\n"
     ]
    },
    {
     "name": "stdout",
     "output_type": "stream",
     "text": [
      "Epoch 20, Loss 0.0514\n",
      "Training Accuracy: 0.9452, Testing Accuracy: 0.9551\n",
      "\n"
     ]
    },
    {
     "name": "stdout",
     "output_type": "stream",
     "text": [
      "Epoch 30, Loss 0.0421\n",
      "Training Accuracy: 0.9517, Testing Accuracy: 0.9612\n",
      "\n"
     ]
    },
    {
     "name": "stdout",
     "output_type": "stream",
     "text": [
      "Epoch 40, Loss 0.0372\n",
      "Training Accuracy: 0.9559, Testing Accuracy: 0.9652\n",
      "\n"
     ]
    },
    {
     "name": "stdout",
     "output_type": "stream",
     "text": [
      "Epoch 50, Loss 0.034\n",
      "Training Accuracy: 0.9604, Testing Accuracy: 0.9647\n",
      "\n"
     ]
    },
    {
     "name": "stdout",
     "output_type": "stream",
     "text": [
      "Epoch 60, Loss 0.0317\n",
      "Training Accuracy: 0.9622, Testing Accuracy: 0.9677\n",
      "\n"
     ]
    },
    {
     "name": "stdout",
     "output_type": "stream",
     "text": [
      "Epoch 70, Loss 0.0301\n",
      "Training Accuracy: 0.9643, Testing Accuracy: 0.9672\n",
      "\n"
     ]
    },
    {
     "name": "stdout",
     "output_type": "stream",
     "text": [
      "Epoch 80, Loss 0.0287\n",
      "Training Accuracy: 0.9663, Testing Accuracy: 0.9688\n",
      "\n"
     ]
    },
    {
     "name": "stdout",
     "output_type": "stream",
     "text": [
      "Epoch 90, Loss 0.0276\n",
      "Training Accuracy: 0.9678, Testing Accuracy: 0.9682\n",
      "\n"
     ]
    },
    {
     "name": "stdout",
     "output_type": "stream",
     "text": [
      "Epoch 100, Loss 0.0267\n",
      "Training Accuracy: 0.9691, Testing Accuracy: 0.9698\n",
      "\n"
     ]
    },
    {
     "name": "stdout",
     "output_type": "stream",
     "text": [
      "Epoch 110, Loss 0.0258\n",
      "Training Accuracy: 0.9699, Testing Accuracy: 0.9698\n",
      "\n"
     ]
    },
    {
     "name": "stdout",
     "output_type": "stream",
     "text": [
      "Epoch 120, Loss 0.0251\n",
      "Training Accuracy: 0.9707, Testing Accuracy: 0.9688\n",
      "\n"
     ]
    },
    {
     "name": "stdout",
     "output_type": "stream",
     "text": [
      "Epoch 130, Loss 0.0244\n",
      "Training Accuracy: 0.9714, Testing Accuracy: 0.9698\n",
      "\n"
     ]
    },
    {
     "name": "stdout",
     "output_type": "stream",
     "text": [
      "Epoch 140, Loss 0.0238\n",
      "Training Accuracy: 0.9719, Testing Accuracy: 0.9698\n",
      "\n"
     ]
    },
    {
     "name": "stdout",
     "output_type": "stream",
     "text": [
      "Epoch 150, Loss 0.0233\n",
      "Training Accuracy: 0.9727, Testing Accuracy: 0.9703\n",
      "\n"
     ]
    },
    {
     "name": "stdout",
     "output_type": "stream",
     "text": [
      "Epoch 160, Loss 0.0228\n",
      "Training Accuracy: 0.9740, Testing Accuracy: 0.9703\n",
      "\n"
     ]
    },
    {
     "name": "stdout",
     "output_type": "stream",
     "text": [
      "Epoch 170, Loss 0.0223\n",
      "Training Accuracy: 0.9744, Testing Accuracy: 0.9708\n",
      "\n"
     ]
    },
    {
     "name": "stdout",
     "output_type": "stream",
     "text": [
      "Epoch 180, Loss 0.0218\n",
      "Training Accuracy: 0.9752, Testing Accuracy: 0.9718\n",
      "\n"
     ]
    },
    {
     "name": "stdout",
     "output_type": "stream",
     "text": [
      "Epoch 190, Loss 0.0213\n",
      "Training Accuracy: 0.9757, Testing Accuracy: 0.9723\n",
      "\n"
     ]
    },
    {
     "name": "stdout",
     "output_type": "stream",
     "text": [
      "Epoch 200, Loss 0.0209\n",
      "Training Accuracy: 0.9765, Testing Accuracy: 0.9723\n",
      "\n"
     ]
    },
    {
     "name": "stdout",
     "output_type": "stream",
     "text": [
      "Epoch 210, Loss 0.0205\n",
      "Training Accuracy: 0.9769, Testing Accuracy: 0.9723\n",
      "\n"
     ]
    },
    {
     "name": "stdout",
     "output_type": "stream",
     "text": [
      "Epoch 220, Loss 0.0201\n",
      "Training Accuracy: 0.9776, Testing Accuracy: 0.9728\n",
      "\n"
     ]
    },
    {
     "name": "stdout",
     "output_type": "stream",
     "text": [
      "Epoch 230, Loss 0.0197\n",
      "Training Accuracy: 0.9781, Testing Accuracy: 0.9728\n",
      "\n"
     ]
    },
    {
     "name": "stdout",
     "output_type": "stream",
     "text": [
      "Epoch 240, Loss 0.0194\n",
      "Training Accuracy: 0.9788, Testing Accuracy: 0.9728\n",
      "\n"
     ]
    },
    {
     "data": {
      "text/plain": [
       "0.030105708762780417"
      ]
     },
     "execution_count": 22,
     "metadata": {},
     "output_type": "execute_result"
    }
   ],
   "source": [
    "nn_learner.train_loop(dl)"
   ]
  },
  {
   "cell_type": "code",
   "execution_count": 23,
   "id": "e0163366",
   "metadata": {
    "execution": {
     "iopub.execute_input": "2021-09-15T00:21:36.140760Z",
     "iopub.status.busy": "2021-09-15T00:21:36.140162Z",
     "iopub.status.idle": "2021-09-15T00:21:50.958973Z",
     "shell.execute_reply": "2021-09-15T00:21:50.959796Z"
    },
    "papermill": {
     "duration": 14.868581,
     "end_time": "2021-09-15T00:21:50.959951",
     "exception": false,
     "start_time": "2021-09-15T00:21:36.091370",
     "status": "completed"
    },
    "tags": []
   },
   "outputs": [
    {
     "name": "stdout",
     "output_type": "stream",
     "text": [
      "Epoch 0, Loss 0.2386\n",
      "Training Accuracy: 0.6833, Testing Accuracy: 0.6739\n",
      "\n"
     ]
    },
    {
     "name": "stdout",
     "output_type": "stream",
     "text": [
      "Epoch 10, Loss 0.1037\n",
      "Training Accuracy: 0.9069, Testing Accuracy: 0.9173\n",
      "\n"
     ]
    },
    {
     "name": "stdout",
     "output_type": "stream",
     "text": [
      "Epoch 20, Loss 0.0792\n",
      "Training Accuracy: 0.9280, Testing Accuracy: 0.9400\n",
      "\n"
     ]
    },
    {
     "name": "stdout",
     "output_type": "stream",
     "text": [
      "Epoch 30, Loss 0.068\n",
      "Training Accuracy: 0.9355, Testing Accuracy: 0.9446\n",
      "\n"
     ]
    },
    {
     "name": "stdout",
     "output_type": "stream",
     "text": [
      "Epoch 40, Loss 0.0614\n",
      "Training Accuracy: 0.9424, Testing Accuracy: 0.9491\n",
      "\n"
     ]
    },
    {
     "name": "stdout",
     "output_type": "stream",
     "text": [
      "Epoch 50, Loss 0.0568\n",
      "Training Accuracy: 0.9465, Testing Accuracy: 0.9541\n",
      "\n"
     ]
    },
    {
     "name": "stdout",
     "output_type": "stream",
     "text": [
      "Epoch 60, Loss 0.0535\n",
      "Training Accuracy: 0.9485, Testing Accuracy: 0.9556\n",
      "\n"
     ]
    },
    {
     "name": "stdout",
     "output_type": "stream",
     "text": [
      "Epoch 70, Loss 0.051\n",
      "Training Accuracy: 0.9501, Testing Accuracy: 0.9577\n",
      "\n"
     ]
    },
    {
     "name": "stdout",
     "output_type": "stream",
     "text": [
      "Epoch 80, Loss 0.0489\n",
      "Training Accuracy: 0.9517, Testing Accuracy: 0.9602\n",
      "\n"
     ]
    },
    {
     "name": "stdout",
     "output_type": "stream",
     "text": [
      "Epoch 90, Loss 0.0473\n",
      "Training Accuracy: 0.9529, Testing Accuracy: 0.9612\n",
      "\n"
     ]
    },
    {
     "name": "stdout",
     "output_type": "stream",
     "text": [
      "Epoch 100, Loss 0.0458\n",
      "Training Accuracy: 0.9538, Testing Accuracy: 0.9622\n",
      "\n"
     ]
    },
    {
     "name": "stdout",
     "output_type": "stream",
     "text": [
      "Epoch 110, Loss 0.0446\n",
      "Training Accuracy: 0.9547, Testing Accuracy: 0.9627\n",
      "\n"
     ]
    },
    {
     "name": "stdout",
     "output_type": "stream",
     "text": [
      "Epoch 120, Loss 0.0436\n",
      "Training Accuracy: 0.9555, Testing Accuracy: 0.9632\n",
      "\n"
     ]
    },
    {
     "name": "stdout",
     "output_type": "stream",
     "text": [
      "Epoch 130, Loss 0.0427\n",
      "Training Accuracy: 0.9558, Testing Accuracy: 0.9642\n",
      "\n"
     ]
    },
    {
     "name": "stdout",
     "output_type": "stream",
     "text": [
      "Epoch 140, Loss 0.0418\n",
      "Training Accuracy: 0.9560, Testing Accuracy: 0.9647\n",
      "\n"
     ]
    },
    {
     "name": "stdout",
     "output_type": "stream",
     "text": [
      "Epoch 150, Loss 0.0411\n",
      "Training Accuracy: 0.9567, Testing Accuracy: 0.9662\n",
      "\n"
     ]
    },
    {
     "name": "stdout",
     "output_type": "stream",
     "text": [
      "Epoch 160, Loss 0.0404\n",
      "Training Accuracy: 0.9572, Testing Accuracy: 0.9662\n",
      "\n"
     ]
    },
    {
     "name": "stdout",
     "output_type": "stream",
     "text": [
      "Epoch 170, Loss 0.0398\n",
      "Training Accuracy: 0.9580, Testing Accuracy: 0.9662\n",
      "\n"
     ]
    },
    {
     "name": "stdout",
     "output_type": "stream",
     "text": [
      "Epoch 180, Loss 0.0393\n",
      "Training Accuracy: 0.9589, Testing Accuracy: 0.9667\n",
      "\n"
     ]
    },
    {
     "name": "stdout",
     "output_type": "stream",
     "text": [
      "Epoch 190, Loss 0.0388\n",
      "Training Accuracy: 0.9594, Testing Accuracy: 0.9677\n",
      "\n"
     ]
    },
    {
     "name": "stdout",
     "output_type": "stream",
     "text": [
      "Epoch 200, Loss 0.0383\n",
      "Training Accuracy: 0.9598, Testing Accuracy: 0.9677\n",
      "\n"
     ]
    },
    {
     "name": "stdout",
     "output_type": "stream",
     "text": [
      "Epoch 210, Loss 0.0379\n",
      "Training Accuracy: 0.9596, Testing Accuracy: 0.9688\n",
      "\n"
     ]
    },
    {
     "name": "stdout",
     "output_type": "stream",
     "text": [
      "Epoch 220, Loss 0.0375\n",
      "Training Accuracy: 0.9599, Testing Accuracy: 0.9688\n",
      "\n"
     ]
    },
    {
     "name": "stdout",
     "output_type": "stream",
     "text": [
      "Epoch 230, Loss 0.0371\n",
      "Training Accuracy: 0.9601, Testing Accuracy: 0.9693\n",
      "\n"
     ]
    },
    {
     "name": "stdout",
     "output_type": "stream",
     "text": [
      "Epoch 240, Loss 0.0367\n",
      "Training Accuracy: 0.9604, Testing Accuracy: 0.9688\n",
      "\n"
     ]
    },
    {
     "data": {
      "text/plain": [
       "0.06417366319591859"
      ]
     },
     "execution_count": 23,
     "metadata": {},
     "output_type": "execute_result"
    }
   ],
   "source": [
    "lr_learner.train_loop(dl)"
   ]
  },
  {
   "cell_type": "code",
   "execution_count": 24,
   "id": "ca410940",
   "metadata": {
    "execution": {
     "iopub.execute_input": "2021-09-15T00:21:51.064687Z",
     "iopub.status.busy": "2021-09-15T00:21:51.064126Z",
     "iopub.status.idle": "2021-09-15T00:21:51.302132Z",
     "shell.execute_reply": "2021-09-15T00:21:51.302566Z"
    },
    "papermill": {
     "duration": 0.29747,
     "end_time": "2021-09-15T00:21:51.302692",
     "exception": false,
     "start_time": "2021-09-15T00:21:51.005222",
     "status": "completed"
    },
    "tags": []
   },
   "outputs": [
    {
     "data": {
      "text/plain": [
       "<matplotlib.legend.Legend at 0x7f1cf9936f98>"
      ]
     },
     "execution_count": 24,
     "metadata": {},
     "output_type": "execute_result"
    },
    {
     "data": {
      "image/png": "[encoded data removed]",
      "text/plain": [
       "<Figure size 1080x720 with 1 Axes>"
      ]
     },
     "metadata": {
      "needs_background": "light"
     },
     "output_type": "display_data"
    }
   ],
   "source": [
    "#comparing the results of NN and LR\n",
    "plt.figure(figsize=(15,10))\n",
    "\n",
    "# Neural Network plots\n",
    "plt.plot(acc_nn.accuracies, 'r-', label = \"Training Accuracies - NN\")\n",
    "plt.plot(acc_nn.test_accuracies, 'g-', label = \"Testing Accuracies - NN\")\n",
    "\n",
    "# Logistic Regression plots\n",
    "plt.plot(acc_lr.accuracies, 'k-', label = \"Training Accuracies - LR\")\n",
    "plt.plot(acc_lr.test_accuracies, 'b-', label = \"Testing Accuracies - LR\")\n",
    "plt.legend()"
   ]
  },
  {
   "cell_type": "markdown",
   "id": "80dfb35c",
   "metadata": {
    "papermill": {
     "duration": 0.0453,
     "end_time": "2021-09-15T00:21:51.393694",
     "exception": false,
     "start_time": "2021-09-15T00:21:51.348394",
     "status": "completed"
    },
    "tags": []
   },
   "source": [
    "#### Plotting the outputs of this layer of the NN.\n"
   ]
  },
  {
   "cell_type": "code",
   "execution_count": 25,
   "id": "45eb2ff5",
   "metadata": {
    "execution": {
     "iopub.execute_input": "2021-09-15T00:21:51.488571Z",
     "iopub.status.busy": "2021-09-15T00:21:51.488008Z",
     "iopub.status.idle": "2021-09-15T00:21:51.511309Z",
     "shell.execute_reply": "2021-09-15T00:21:51.511801Z"
    },
    "papermill": {
     "duration": 0.073225,
     "end_time": "2021-09-15T00:21:51.511937",
     "exception": false,
     "start_time": "2021-09-15T00:21:51.438712",
     "status": "completed"
    },
    "tags": []
   },
   "outputs": [],
   "source": [
    "new_model = Model(layers[:-2])\n",
    "testing_plot = new_model(testing_data_x)"
   ]
  },
  {
   "cell_type": "code",
   "execution_count": 26,
   "id": "4c0a5485",
   "metadata": {
    "execution": {
     "iopub.execute_input": "2021-09-15T00:21:51.609788Z",
     "iopub.status.busy": "2021-09-15T00:21:51.609198Z",
     "iopub.status.idle": "2021-09-15T00:21:51.833529Z",
     "shell.execute_reply": "2021-09-15T00:21:51.833074Z"
    },
    "papermill": {
     "duration": 0.271948,
     "end_time": "2021-09-15T00:21:51.833652",
     "exception": false,
     "start_time": "2021-09-15T00:21:51.561704",
     "status": "completed"
    },
    "tags": []
   },
   "outputs": [
    {
     "data": {
      "text/plain": [
       "Text(0.5, 1.0, 'Outputs')"
      ]
     },
     "execution_count": 26,
     "metadata": {},
     "output_type": "execute_result"
    },
    {
     "data": {
      "image/png": "[encoded data removed]",
      "text/plain": [
       "<Figure size 576x504 with 1 Axes>"
      ]
     },
     "metadata": {
      "needs_background": "light"
     },
     "output_type": "display_data"
    }
   ],
   "source": [
    "# Plotting the scatter plot of points and color coding by class\n",
    "plt.figure(figsize=(8,7))\n",
    "plt.scatter(testing_plot[:,0], testing_plot[:,1], alpha = 0.1, c = y_test.ravel());\n",
    "plt.title('Outputs')"
   ]
  },
  {
   "cell_type": "markdown",
   "id": "a74fcf8f",
   "metadata": {
    "papermill": {
     "duration": 0.046143,
     "end_time": "2021-09-15T00:21:51.926646",
     "exception": false,
     "start_time": "2021-09-15T00:21:51.880503",
     "status": "completed"
    },
    "tags": []
   },
   "source": [
    "Probability contours"
   ]
  },
  {
   "cell_type": "code",
   "execution_count": 27,
   "id": "d0afc8e3",
   "metadata": {
    "execution": {
     "iopub.execute_input": "2021-09-15T00:21:52.036375Z",
     "iopub.status.busy": "2021-09-15T00:21:52.035802Z",
     "iopub.status.idle": "2021-09-15T00:21:52.039729Z",
     "shell.execute_reply": "2021-09-15T00:21:52.039282Z"
    },
    "papermill": {
     "duration": 0.064246,
     "end_time": "2021-09-15T00:21:52.039845",
     "exception": false,
     "start_time": "2021-09-15T00:21:51.975599",
     "status": "completed"
    },
    "tags": []
   },
   "outputs": [],
   "source": [
    "model_prob = Model(layers[-2:]) "
   ]
  },
  {
   "cell_type": "code",
   "execution_count": 28,
   "id": "9b96e238",
   "metadata": {
    "execution": {
     "iopub.execute_input": "2021-09-15T00:21:52.145837Z",
     "iopub.status.busy": "2021-09-15T00:21:52.144596Z",
     "iopub.status.idle": "2021-09-15T00:21:52.159403Z",
     "shell.execute_reply": "2021-09-15T00:21:52.159817Z"
    },
    "papermill": {
     "duration": 0.071619,
     "end_time": "2021-09-15T00:21:52.159955",
     "exception": false,
     "start_time": "2021-09-15T00:21:52.088336",
     "status": "completed"
    },
    "tags": []
   },
   "outputs": [],
   "source": [
    "#creating the x and y ranges according to the above generated plot.\n",
    "x_range = np.linspace(-4, 1, 100) \n",
    "y_range = np.linspace(-6, 6, 100) \n",
    "x_grid, y_grid = np.meshgrid(x_range, y_range) # x_grid and y_grig are of size 100 X 100\n",
    "\n",
    "# converting x_grid and y_grid to continuous arrays\n",
    "x_gridflat = np.ravel(x_grid)\n",
    "y_gridflat = np.ravel(y_grid)\n",
    "\n",
    "# The last layer of the current model takes two columns as input. Hence transpose of np.vstack() is required.\n",
    "X = np.vstack((x_gridflat, y_gridflat)).T\n",
    "\n",
    "prob_contour = model_prob(X).reshape(100,100) "
   ]
  },
  {
   "cell_type": "code",
   "execution_count": 29,
   "id": "da72499a",
   "metadata": {
    "execution": {
     "iopub.execute_input": "2021-09-15T00:21:52.272558Z",
     "iopub.status.busy": "2021-09-15T00:21:52.271986Z",
     "iopub.status.idle": "2021-09-15T00:21:52.548359Z",
     "shell.execute_reply": "2021-09-15T00:21:52.547275Z"
    },
    "papermill": {
     "duration": 0.335007,
     "end_time": "2021-09-15T00:21:52.548492",
     "exception": false,
     "start_time": "2021-09-15T00:21:52.213485",
     "status": "completed"
    },
    "tags": []
   },
   "outputs": [
    {
     "data": {
      "image/png": "[encoded data removed]",
      "text/plain": [
       "<Figure size 720x648 with 1 Axes>"
      ]
     },
     "metadata": {
      "needs_background": "light"
     },
     "output_type": "display_data"
    }
   ],
   "source": [
    "plt.figure(figsize=(10,9))\n",
    "plt.scatter(testing_plot[:,0], testing_plot[:,1], alpha = 0.1, c = y_test.ravel())\n",
    "contours = plt.contour(x_grid,y_grid,prob_contour)\n",
    "plt.title('Probability Contours')\n",
    "plt.clabel(contours, inline = True );"
   ]
  },
  {
   "cell_type": "code",
   "execution_count": null,
   "id": "e81b4ac7",
   "metadata": {
    "papermill": {
     "duration": 0.078424,
     "end_time": "2021-09-15T00:21:52.677976",
     "exception": false,
     "start_time": "2021-09-15T00:21:52.599552",
     "status": "completed"
    },
    "tags": []
   },
   "outputs": [],
   "source": []
  }
 ],
 "metadata": {
  "kernelspec": {
   "display_name": "Python 3",
   "language": "python",
   "name": "python3"
  },
  "language_info": {
   "codemirror_mode": {
    "name": "ipython",
    "version": 3
   },
   "file_extension": ".py",
   "mimetype": "text/x-python",
   "name": "python",
   "nbconvert_exporter": "python",
   "pygments_lexer": "ipython3",
   "version": "3.6.14"
  },
  "papermill": {
   "default_parameters": {},
   "duration": 106.516977,
   "end_time": "2021-09-15T00:21:53.140965",
   "environment_variables": {},
   "exception": null,
   "input_path": "2020-08-11-part2.ipynb",
   "output_path": "2020-08-11-part2.ipynb",
   "parameters": {},
   "start_time": "2021-09-15T00:20:06.623988",
   "version": "2.3.3"
  }
 },
 "nbformat": 4,
 "nbformat_minor": 5
}