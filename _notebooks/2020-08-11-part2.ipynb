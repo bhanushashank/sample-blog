{
 "cells": [
  {
   "cell_type": "markdown",
   "id": "98380cd3",
   "metadata": {
    "papermill": {
     "duration": 0.031782,
     "end_time": "2021-09-28T10:15:35.874347",
     "exception": false,
     "start_time": "2021-09-28T10:15:35.842565",
     "status": "completed"
    },
    "tags": []
   },
   "source": [
    "# Distinguish Your Own Digits (DYOD)"
   ]
  },
  {
   "cell_type": "markdown",
   "id": "ef31240d",
   "metadata": {
    "papermill": {
     "duration": 0.026942,
     "end_time": "2021-09-28T10:15:35.929108",
     "exception": false,
     "start_time": "2021-09-28T10:15:35.902166",
     "status": "completed"
    },
    "tags": []
   },
   "source": [
    "You are going to write a classifier that distinguishes between the number 3 and number 8."
   ]
  },
  {
   "cell_type": "code",
   "execution_count": 1,
   "id": "b15c8646",
   "metadata": {
    "execution": {
     "iopub.execute_input": "2021-09-28T10:15:35.996475Z",
     "iopub.status.busy": "2021-09-28T10:15:35.995794Z",
     "iopub.status.idle": "2021-09-28T10:15:36.007983Z",
     "shell.execute_reply": "2021-09-28T10:15:36.007466Z"
    },
    "papermill": {
     "duration": 0.052026,
     "end_time": "2021-09-28T10:15:36.008147",
     "exception": false,
     "start_time": "2021-09-28T10:15:35.956121",
     "status": "completed"
    },
    "tags": []
   },
   "outputs": [],
   "source": [
    "%load_ext autoreload\n",
    "%autoreload 2"
   ]
  },
  {
   "cell_type": "code",
   "execution_count": 2,
   "id": "22ef38dc",
   "metadata": {
    "execution": {
     "iopub.execute_input": "2021-09-28T10:15:36.067704Z",
     "iopub.status.busy": "2021-09-28T10:15:36.067100Z",
     "iopub.status.idle": "2021-09-28T10:15:36.690728Z",
     "shell.execute_reply": "2021-09-28T10:15:36.690178Z"
    },
    "papermill": {
     "duration": 0.655413,
     "end_time": "2021-09-28T10:15:36.690875",
     "exception": false,
     "start_time": "2021-09-28T10:15:36.035462",
     "status": "completed"
    },
    "tags": []
   },
   "outputs": [],
   "source": [
    "%matplotlib inline\n",
    "import numpy as np\n",
    "import matplotlib.pyplot as plt\n",
    "import pandas as pd"
   ]
  },
  {
   "cell_type": "markdown",
   "id": "ba036198",
   "metadata": {
    "papermill": {
     "duration": 0.027649,
     "end_time": "2021-09-28T10:15:36.746358",
     "exception": false,
     "start_time": "2021-09-28T10:15:36.718709",
     "status": "completed"
    },
    "tags": []
   },
   "source": [
    "From the command line run `pip install mnist`. This is a library that will help you bring down the mnist dataset. If you run this from a notebook, you need to put  `!pip install mnist` in a cell by itself."
   ]
  },
  {
   "cell_type": "code",
   "execution_count": 3,
   "id": "bb6ad8a1",
   "metadata": {
    "execution": {
     "iopub.execute_input": "2021-09-28T10:15:36.806345Z",
     "iopub.status.busy": "2021-09-28T10:15:36.805700Z",
     "iopub.status.idle": "2021-09-28T10:15:38.738007Z",
     "shell.execute_reply": "2021-09-28T10:15:38.738550Z"
    },
    "papermill": {
     "duration": 1.965232,
     "end_time": "2021-09-28T10:15:38.738714",
     "exception": false,
     "start_time": "2021-09-28T10:15:36.773482",
     "status": "completed"
    },
    "tags": []
   },
   "outputs": [
    {
     "name": "stdout",
     "output_type": "stream",
     "text": [
      "Collecting mnist\r\n"
     ]
    },
    {
     "name": "stdout",
     "output_type": "stream",
     "text": [
      "  Downloading mnist-0.2.2-py2.py3-none-any.whl (3.5 kB)\r\n",
      "Requirement already satisfied: numpy in /opt/hostedtoolcache/Python/3.6.15/x64/lib/python3.6/site-packages (from mnist) (1.19.5)\r\n"
     ]
    },
    {
     "name": "stdout",
     "output_type": "stream",
     "text": [
      "Installing collected packages: mnist\r\n"
     ]
    },
    {
     "name": "stdout",
     "output_type": "stream",
     "text": [
      "Successfully installed mnist-0.2.2\r\n"
     ]
    }
   ],
   "source": [
    "!pip install mnist"
   ]
  },
  {
   "cell_type": "markdown",
   "id": "69df9c9a",
   "metadata": {
    "papermill": {
     "duration": 0.028473,
     "end_time": "2021-09-28T10:15:38.796546",
     "exception": false,
     "start_time": "2021-09-28T10:15:38.768073",
     "status": "completed"
    },
    "tags": []
   },
   "source": [
    "## Preparing the Data"
   ]
  },
  {
   "cell_type": "code",
   "execution_count": 4,
   "id": "7f69d806",
   "metadata": {
    "execution": {
     "iopub.execute_input": "2021-09-28T10:15:38.858131Z",
     "iopub.status.busy": "2021-09-28T10:15:38.857515Z",
     "iopub.status.idle": "2021-09-28T10:15:38.873758Z",
     "shell.execute_reply": "2021-09-28T10:15:38.873247Z"
    },
    "papermill": {
     "duration": 0.048793,
     "end_time": "2021-09-28T10:15:38.873896",
     "exception": false,
     "start_time": "2021-09-28T10:15:38.825103",
     "status": "completed"
    },
    "tags": []
   },
   "outputs": [],
   "source": [
    "import mnist"
   ]
  },
  {
   "cell_type": "code",
   "execution_count": 5,
   "id": "a411e44f",
   "metadata": {
    "execution": {
     "iopub.execute_input": "2021-09-28T10:15:38.934786Z",
     "iopub.status.busy": "2021-09-28T10:15:38.934162Z",
     "iopub.status.idle": "2021-09-28T10:15:39.569208Z",
     "shell.execute_reply": "2021-09-28T10:15:39.569954Z"
    },
    "papermill": {
     "duration": 0.668194,
     "end_time": "2021-09-28T10:15:39.570117",
     "exception": false,
     "start_time": "2021-09-28T10:15:38.901923",
     "status": "completed"
    },
    "tags": []
   },
   "outputs": [],
   "source": [
    "train_images = mnist.train_images()\n",
    "train_labels = mnist.train_labels()"
   ]
  },
  {
   "cell_type": "code",
   "execution_count": 6,
   "id": "dceab3a5",
   "metadata": {
    "execution": {
     "iopub.execute_input": "2021-09-28T10:15:39.632758Z",
     "iopub.status.busy": "2021-09-28T10:15:39.632072Z",
     "iopub.status.idle": "2021-09-28T10:15:39.649733Z",
     "shell.execute_reply": "2021-09-28T10:15:39.650214Z"
    },
    "papermill": {
     "duration": 0.051463,
     "end_time": "2021-09-28T10:15:39.650368",
     "exception": false,
     "start_time": "2021-09-28T10:15:39.598905",
     "status": "completed"
    },
    "tags": []
   },
   "outputs": [
    {
     "data": {
      "text/plain": [
       "((60000, 28, 28), (60000,))"
      ]
     },
     "execution_count": 6,
     "metadata": {},
     "output_type": "execute_result"
    }
   ],
   "source": [
    "train_images.shape, train_labels.shape"
   ]
  },
  {
   "cell_type": "code",
   "execution_count": 7,
   "id": "f50dc2bb",
   "metadata": {
    "execution": {
     "iopub.execute_input": "2021-09-28T10:15:39.713033Z",
     "iopub.status.busy": "2021-09-28T10:15:39.712345Z",
     "iopub.status.idle": "2021-09-28T10:15:39.885680Z",
     "shell.execute_reply": "2021-09-28T10:15:39.885110Z"
    },
    "papermill": {
     "duration": 0.206906,
     "end_time": "2021-09-28T10:15:39.885925",
     "exception": false,
     "start_time": "2021-09-28T10:15:39.679019",
     "status": "completed"
    },
    "tags": []
   },
   "outputs": [],
   "source": [
    "test_images = mnist.test_images()\n",
    "test_labels = mnist.test_labels()"
   ]
  },
  {
   "cell_type": "code",
   "execution_count": 8,
   "id": "fc38cf1b",
   "metadata": {
    "execution": {
     "iopub.execute_input": "2021-09-28T10:15:39.952946Z",
     "iopub.status.busy": "2021-09-28T10:15:39.951824Z",
     "iopub.status.idle": "2021-09-28T10:15:39.965921Z",
     "shell.execute_reply": "2021-09-28T10:15:39.965315Z"
    },
    "papermill": {
     "duration": 0.050085,
     "end_time": "2021-09-28T10:15:39.966055",
     "exception": false,
     "start_time": "2021-09-28T10:15:39.915970",
     "status": "completed"
    },
    "tags": []
   },
   "outputs": [
    {
     "data": {
      "text/plain": [
       "((10000, 28, 28), (10000,))"
      ]
     },
     "execution_count": 8,
     "metadata": {},
     "output_type": "execute_result"
    }
   ],
   "source": [
    "test_images.shape, test_labels.shape"
   ]
  },
  {
   "cell_type": "code",
   "execution_count": 9,
   "id": "f9ed8fe0",
   "metadata": {
    "execution": {
     "iopub.execute_input": "2021-09-28T10:15:40.029936Z",
     "iopub.status.busy": "2021-09-28T10:15:40.029330Z",
     "iopub.status.idle": "2021-09-28T10:15:40.208353Z",
     "shell.execute_reply": "2021-09-28T10:15:40.208874Z"
    },
    "papermill": {
     "duration": 0.213844,
     "end_time": "2021-09-28T10:15:40.209034",
     "exception": false,
     "start_time": "2021-09-28T10:15:39.995190",
     "status": "completed"
    },
    "tags": []
   },
   "outputs": [
    {
     "name": "stdout",
     "output_type": "stream",
     "text": [
      "2\n"
     ]
    },
    {
     "data": {
      "text/plain": [
       "<matplotlib.image.AxesImage at 0x7f73c673e898>"
      ]
     },
     "execution_count": 9,
     "metadata": {},
     "output_type": "execute_result"
    },
    {
     "data": {
      "image/png": "[encoded data removed]",
      "text/plain": [
       "<Figure size 432x288 with 1 Axes>"
      ]
     },
     "metadata": {
      "needs_background": "light"
     },
     "output_type": "display_data"
    }
   ],
   "source": [
    "image_index = 7776 # You may select anything up to 60,000\n",
    "print(train_labels[image_index]) \n",
    "plt.imshow(train_images[image_index], cmap='Greys')"
   ]
  },
  {
   "cell_type": "markdown",
   "id": "a8d2388d",
   "metadata": {
    "papermill": {
     "duration": 0.030825,
     "end_time": "2021-09-28T10:15:40.270233",
     "exception": false,
     "start_time": "2021-09-28T10:15:40.239408",
     "status": "completed"
    },
    "tags": []
   },
   "source": [
    "## Filter data to get 3 and 8 out"
   ]
  },
  {
   "cell_type": "code",
   "execution_count": 10,
   "id": "776f7fc7",
   "metadata": {
    "execution": {
     "iopub.execute_input": "2021-09-28T10:15:40.337711Z",
     "iopub.status.busy": "2021-09-28T10:15:40.337068Z",
     "iopub.status.idle": "2021-09-28T10:15:40.360035Z",
     "shell.execute_reply": "2021-09-28T10:15:40.359335Z"
    },
    "papermill": {
     "duration": 0.059598,
     "end_time": "2021-09-28T10:15:40.360217",
     "exception": false,
     "start_time": "2021-09-28T10:15:40.300619",
     "status": "completed"
    },
    "tags": []
   },
   "outputs": [],
   "source": [
    "train_filter = np.where((train_labels == 3 ) | (train_labels == 8))\n",
    "test_filter = np.where((test_labels == 3) | (test_labels == 8))\n",
    "X_train, y_train = train_images[train_filter], train_labels[train_filter]\n",
    "X_test, y_test = test_images[test_filter], test_labels[test_filter]"
   ]
  },
  {
   "cell_type": "markdown",
   "id": "948f0b7e",
   "metadata": {
    "papermill": {
     "duration": 0.030226,
     "end_time": "2021-09-28T10:15:40.421161",
     "exception": false,
     "start_time": "2021-09-28T10:15:40.390935",
     "status": "completed"
    },
    "tags": []
   },
   "source": [
    "We normalize the pizel values in the 0 to 1 range"
   ]
  },
  {
   "cell_type": "code",
   "execution_count": 11,
   "id": "ee4c2166",
   "metadata": {
    "execution": {
     "iopub.execute_input": "2021-09-28T10:15:40.487963Z",
     "iopub.status.busy": "2021-09-28T10:15:40.487332Z",
     "iopub.status.idle": "2021-09-28T10:15:40.548660Z",
     "shell.execute_reply": "2021-09-28T10:15:40.547688Z"
    },
    "papermill": {
     "duration": 0.09751,
     "end_time": "2021-09-28T10:15:40.548904",
     "exception": false,
     "start_time": "2021-09-28T10:15:40.451394",
     "status": "completed"
    },
    "tags": []
   },
   "outputs": [],
   "source": [
    "X_train = X_train/255.\n",
    "X_test = X_test/255."
   ]
  },
  {
   "cell_type": "markdown",
   "id": "ddcf4fab",
   "metadata": {
    "papermill": {
     "duration": 0.030114,
     "end_time": "2021-09-28T10:15:40.611572",
     "exception": false,
     "start_time": "2021-09-28T10:15:40.581458",
     "status": "completed"
    },
    "tags": []
   },
   "source": [
    "And setup the labels as 1 (when the digit is 3) and 0 (when the digit is 8)"
   ]
  },
  {
   "cell_type": "code",
   "execution_count": 12,
   "id": "7dc908f2",
   "metadata": {
    "execution": {
     "iopub.execute_input": "2021-09-28T10:15:40.677064Z",
     "iopub.status.busy": "2021-09-28T10:15:40.676427Z",
     "iopub.status.idle": "2021-09-28T10:15:40.690346Z",
     "shell.execute_reply": "2021-09-28T10:15:40.689817Z"
    },
    "papermill": {
     "duration": 0.048561,
     "end_time": "2021-09-28T10:15:40.690481",
     "exception": false,
     "start_time": "2021-09-28T10:15:40.641920",
     "status": "completed"
    },
    "tags": []
   },
   "outputs": [],
   "source": [
    "y_train = 1*(y_train==3)\n",
    "y_test = 1*(y_test==3)"
   ]
  },
  {
   "cell_type": "code",
   "execution_count": 13,
   "id": "01e4e969",
   "metadata": {
    "execution": {
     "iopub.execute_input": "2021-09-28T10:15:40.755950Z",
     "iopub.status.busy": "2021-09-28T10:15:40.755344Z",
     "iopub.status.idle": "2021-09-28T10:15:40.771624Z",
     "shell.execute_reply": "2021-09-28T10:15:40.771129Z"
    },
    "papermill": {
     "duration": 0.050945,
     "end_time": "2021-09-28T10:15:40.771752",
     "exception": false,
     "start_time": "2021-09-28T10:15:40.720807",
     "status": "completed"
    },
    "tags": []
   },
   "outputs": [
    {
     "data": {
      "text/plain": [
       "((11982, 28, 28), (1984, 28, 28))"
      ]
     },
     "execution_count": 13,
     "metadata": {},
     "output_type": "execute_result"
    }
   ],
   "source": [
    "X_train.shape, X_test.shape"
   ]
  },
  {
   "cell_type": "markdown",
   "id": "5ccf3f85",
   "metadata": {
    "papermill": {
     "duration": 0.033147,
     "end_time": "2021-09-28T10:15:40.835103",
     "exception": false,
     "start_time": "2021-09-28T10:15:40.801956",
     "status": "completed"
    },
    "tags": []
   },
   "source": [
    "We reshape the data to flatten the image pixels into a set of features or co-variates:"
   ]
  },
  {
   "cell_type": "code",
   "execution_count": 14,
   "id": "5286a4a3",
   "metadata": {
    "execution": {
     "iopub.execute_input": "2021-09-28T10:15:40.900830Z",
     "iopub.status.busy": "2021-09-28T10:15:40.900179Z",
     "iopub.status.idle": "2021-09-28T10:15:40.916979Z",
     "shell.execute_reply": "2021-09-28T10:15:40.916457Z"
    },
    "papermill": {
     "duration": 0.051024,
     "end_time": "2021-09-28T10:15:40.917111",
     "exception": false,
     "start_time": "2021-09-28T10:15:40.866087",
     "status": "completed"
    },
    "tags": []
   },
   "outputs": [
    {
     "data": {
      "text/plain": [
       "((11982, 784), (1984, 784))"
      ]
     },
     "execution_count": 14,
     "metadata": {},
     "output_type": "execute_result"
    }
   ],
   "source": [
    "X_train = X_train.reshape(X_train.shape[0], -1)\n",
    "X_test = X_test.reshape(X_test.shape[0], -1)\n",
    "X_train.shape, X_test.shape"
   ]
  },
  {
   "cell_type": "code",
   "execution_count": 15,
   "id": "73c5f88a",
   "metadata": {
    "execution": {
     "iopub.execute_input": "2021-09-28T10:15:40.983801Z",
     "iopub.status.busy": "2021-09-28T10:15:40.983177Z",
     "iopub.status.idle": "2021-09-28T10:15:41.003967Z",
     "shell.execute_reply": "2021-09-28T10:15:41.004652Z"
    },
    "papermill": {
     "duration": 0.057165,
     "end_time": "2021-09-28T10:15:41.004868",
     "exception": false,
     "start_time": "2021-09-28T10:15:40.947703",
     "status": "completed"
    },
    "tags": []
   },
   "outputs": [],
   "source": [
    "#Impoting functions from 'Kudzu'\n",
    "from kudzu.model import Model\n",
    "from kudzu.train import Learner\n",
    "from kudzu.optim import GD\n",
    "from kudzu.data import Data, Sampler,Dataloader\n",
    "\n",
    "from kudzu.callbacks import AccCallback\n",
    "from kudzu.callbacks import ClfCallback\n",
    "\n",
    "from kudzu.loss import MSE\n",
    "\n",
    "from kudzu.layer import Sigmoid,Relu\n",
    "from kudzu.layer import Affine"
   ]
  },
  {
   "cell_type": "markdown",
   "id": "bc01172a",
   "metadata": {
    "papermill": {
     "duration": 0.031327,
     "end_time": "2021-09-28T10:15:41.068708",
     "exception": false,
     "start_time": "2021-09-28T10:15:41.037381",
     "status": "completed"
    },
    "tags": []
   },
   "source": [
    "### Let us create a `Config` class, to store important parameters. \n",
    "This class essentially plays the role of a dictionary."
   ]
  },
  {
   "cell_type": "code",
   "execution_count": 16,
   "id": "978281aa",
   "metadata": {
    "execution": {
     "iopub.execute_input": "2021-09-28T10:15:41.135219Z",
     "iopub.status.busy": "2021-09-28T10:15:41.134610Z",
     "iopub.status.idle": "2021-09-28T10:15:41.148636Z",
     "shell.execute_reply": "2021-09-28T10:15:41.148095Z"
    },
    "papermill": {
     "duration": 0.049133,
     "end_time": "2021-09-28T10:15:41.148780",
     "exception": false,
     "start_time": "2021-09-28T10:15:41.099647",
     "status": "completed"
    },
    "tags": []
   },
   "outputs": [],
   "source": [
    "class Config:\n",
    "    pass\n",
    "config = Config()\n",
    "config.lr = 0.001\n",
    "config.num_epochs = 250\n",
    "config.bs = 50"
   ]
  },
  {
   "cell_type": "markdown",
   "id": "1385fa59",
   "metadata": {
    "papermill": {
     "duration": 0.030614,
     "end_time": "2021-09-28T10:15:41.210398",
     "exception": false,
     "start_time": "2021-09-28T10:15:41.179784",
     "status": "completed"
    },
    "tags": []
   },
   "source": [
    "### Running Models with the Training data\n",
    "Details about the network layers:\n",
    "- A first affine layer has 784 inputs and does 100 affine transforms. These are followed by a Relu\n",
    "- A second affine layer has 100 inputs from the 100 activations of the past layer, and does 100 affine transforms. These are followed by a Relu\n",
    "- A third affine layer has 100 activations and does 2 affine transformations to create an embedding for visualization. There is no non-linearity here.\n",
    "- A final \"logistic regression\" which has an affine transform from 2 inputs to 1 output, which is squeezed through a sigmoid.\n"
   ]
  },
  {
   "cell_type": "code",
   "execution_count": 17,
   "id": "2b9c66db",
   "metadata": {
    "execution": {
     "iopub.execute_input": "2021-09-28T10:15:41.277666Z",
     "iopub.status.busy": "2021-09-28T10:15:41.277065Z",
     "iopub.status.idle": "2021-09-28T10:15:41.291253Z",
     "shell.execute_reply": "2021-09-28T10:15:41.290719Z"
    },
    "papermill": {
     "duration": 0.050196,
     "end_time": "2021-09-28T10:15:41.291388",
     "exception": false,
     "start_time": "2021-09-28T10:15:41.241192",
     "status": "completed"
    },
    "tags": []
   },
   "outputs": [],
   "source": [
    "data = Data(X_train, y_train.reshape(-1,1))\n",
    "sampler = Sampler(data, config.bs, shuffle=True)\n",
    "\n",
    "dl = Dataloader(data, sampler)\n",
    "\n",
    "opt = GD(config.lr)\n",
    "loss = MSE()"
   ]
  },
  {
   "cell_type": "code",
   "execution_count": 18,
   "id": "b275e4c2",
   "metadata": {
    "execution": {
     "iopub.execute_input": "2021-09-28T10:15:41.357703Z",
     "iopub.status.busy": "2021-09-28T10:15:41.357082Z",
     "iopub.status.idle": "2021-09-28T10:15:41.370540Z",
     "shell.execute_reply": "2021-09-28T10:15:41.371030Z"
    },
    "papermill": {
     "duration": 0.048665,
     "end_time": "2021-09-28T10:15:41.371190",
     "exception": false,
     "start_time": "2021-09-28T10:15:41.322525",
     "status": "completed"
    },
    "tags": []
   },
   "outputs": [],
   "source": [
    "training_data_x = X_train\n",
    "testing_data_x = X_test\n",
    "training_data_y = y_train.reshape(-1,1)\n",
    "testing_data_y = y_test.reshape(-1,1)"
   ]
  },
  {
   "cell_type": "code",
   "execution_count": 19,
   "id": "76951160",
   "metadata": {
    "execution": {
     "iopub.execute_input": "2021-09-28T10:15:41.438411Z",
     "iopub.status.busy": "2021-09-28T10:15:41.437780Z",
     "iopub.status.idle": "2021-09-28T10:15:41.455791Z",
     "shell.execute_reply": "2021-09-28T10:15:41.455298Z"
    },
    "papermill": {
     "duration": 0.054026,
     "end_time": "2021-09-28T10:15:41.455932",
     "exception": false,
     "start_time": "2021-09-28T10:15:41.401906",
     "status": "completed"
    },
    "tags": []
   },
   "outputs": [
    {
     "name": "stdout",
     "output_type": "stream",
     "text": [
      "xavier\n",
      "xavier\n",
      "xavier\n",
      "xavier\n",
      "xavier\n"
     ]
    }
   ],
   "source": [
    "layers = [Affine(\"first\", 784, 100), Relu(\"first\"), Affine(\"second\", 100, 100), Relu(\"second\"), Affine(\"third\", 100, 2), Affine(\"last\", 2, 1), Sigmoid(\"last\")]\n",
    "model_nn = Model(layers)\n",
    "model_lr = Model([Affine(\"logits\", 784, 1), Sigmoid(\"sigmoid\")])"
   ]
  },
  {
   "cell_type": "code",
   "execution_count": 20,
   "id": "6eede77a",
   "metadata": {
    "execution": {
     "iopub.execute_input": "2021-09-28T10:15:41.524550Z",
     "iopub.status.busy": "2021-09-28T10:15:41.523896Z",
     "iopub.status.idle": "2021-09-28T10:15:41.540042Z",
     "shell.execute_reply": "2021-09-28T10:15:41.539544Z"
    },
    "papermill": {
     "duration": 0.052948,
     "end_time": "2021-09-28T10:15:41.540178",
     "exception": false,
     "start_time": "2021-09-28T10:15:41.487230",
     "status": "completed"
    },
    "tags": []
   },
   "outputs": [],
   "source": [
    "nn_learner = Learner(loss, model_nn, opt, config.num_epochs)\n",
    "acc_nn = ClfCallback(nn_learner, config.bs, training_data_x , testing_data_x, training_data_y, testing_data_y)\n",
    "nn_learner.set_callbacks([acc_nn])"
   ]
  },
  {
   "cell_type": "code",
   "execution_count": 21,
   "id": "877b6cc7",
   "metadata": {
    "execution": {
     "iopub.execute_input": "2021-09-28T10:15:41.607586Z",
     "iopub.status.busy": "2021-09-28T10:15:41.606978Z",
     "iopub.status.idle": "2021-09-28T10:15:41.623192Z",
     "shell.execute_reply": "2021-09-28T10:15:41.622686Z"
    },
    "papermill": {
     "duration": 0.052005,
     "end_time": "2021-09-28T10:15:41.623329",
     "exception": false,
     "start_time": "2021-09-28T10:15:41.571324",
     "status": "completed"
    },
    "tags": []
   },
   "outputs": [],
   "source": [
    "lr_learner = Learner(loss, model_lr, opt, config.num_epochs)\n",
    "acc_lr = ClfCallback(lr_learner, config.bs, training_data_x , testing_data_x, training_data_y, testing_data_y)\n",
    "lr_learner.set_callbacks([acc_lr])"
   ]
  },
  {
   "cell_type": "code",
   "execution_count": 22,
   "id": "d9b133c3",
   "metadata": {
    "execution": {
     "iopub.execute_input": "2021-09-28T10:15:41.691623Z",
     "iopub.status.busy": "2021-09-28T10:15:41.691013Z",
     "iopub.status.idle": "2021-09-28T10:17:12.631380Z",
     "shell.execute_reply": "2021-09-28T10:17:12.630374Z"
    },
    "papermill": {
     "duration": 90.976802,
     "end_time": "2021-09-28T10:17:12.631532",
     "exception": false,
     "start_time": "2021-09-28T10:15:41.654730",
     "status": "completed"
    },
    "tags": []
   },
   "outputs": [
    {
     "name": "stdout",
     "output_type": "stream",
     "text": [
      "Epoch 0, Loss 0.2489\n",
      "Training Accuracy: 0.6271, Testing Accuracy: 0.6376\n",
      "\n"
     ]
    },
    {
     "name": "stdout",
     "output_type": "stream",
     "text": [
      "Epoch 10, Loss 0.0934\n",
      "Training Accuracy: 0.9160, Testing Accuracy: 0.9274\n",
      "\n"
     ]
    },
    {
     "name": "stdout",
     "output_type": "stream",
     "text": [
      "Epoch 20, Loss 0.0553\n",
      "Training Accuracy: 0.9432, Testing Accuracy: 0.9556\n",
      "\n"
     ]
    },
    {
     "name": "stdout",
     "output_type": "stream",
     "text": [
      "Epoch 30, Loss 0.0434\n",
      "Training Accuracy: 0.9530, Testing Accuracy: 0.9677\n",
      "\n"
     ]
    },
    {
     "name": "stdout",
     "output_type": "stream",
     "text": [
      "Epoch 40, Loss 0.0377\n",
      "Training Accuracy: 0.9588, Testing Accuracy: 0.9682\n",
      "\n"
     ]
    },
    {
     "name": "stdout",
     "output_type": "stream",
     "text": [
      "Epoch 50, Loss 0.0342\n",
      "Training Accuracy: 0.9617, Testing Accuracy: 0.9713\n",
      "\n"
     ]
    },
    {
     "name": "stdout",
     "output_type": "stream",
     "text": [
      "Epoch 60, Loss 0.0318\n",
      "Training Accuracy: 0.9641, Testing Accuracy: 0.9728\n",
      "\n"
     ]
    },
    {
     "name": "stdout",
     "output_type": "stream",
     "text": [
      "Epoch 70, Loss 0.03\n",
      "Training Accuracy: 0.9653, Testing Accuracy: 0.9728\n",
      "\n"
     ]
    },
    {
     "name": "stdout",
     "output_type": "stream",
     "text": [
      "Epoch 80, Loss 0.0285\n",
      "Training Accuracy: 0.9665, Testing Accuracy: 0.9733\n",
      "\n"
     ]
    },
    {
     "name": "stdout",
     "output_type": "stream",
     "text": [
      "Epoch 90, Loss 0.0273\n",
      "Training Accuracy: 0.9677, Testing Accuracy: 0.9728\n",
      "\n"
     ]
    },
    {
     "name": "stdout",
     "output_type": "stream",
     "text": [
      "Epoch 100, Loss 0.0263\n",
      "Training Accuracy: 0.9691, Testing Accuracy: 0.9718\n",
      "\n"
     ]
    },
    {
     "name": "stdout",
     "output_type": "stream",
     "text": [
      "Epoch 110, Loss 0.0254\n",
      "Training Accuracy: 0.9707, Testing Accuracy: 0.9723\n",
      "\n"
     ]
    },
    {
     "name": "stdout",
     "output_type": "stream",
     "text": [
      "Epoch 120, Loss 0.0246\n",
      "Training Accuracy: 0.9712, Testing Accuracy: 0.9718\n",
      "\n"
     ]
    },
    {
     "name": "stdout",
     "output_type": "stream",
     "text": [
      "Epoch 130, Loss 0.0239\n",
      "Training Accuracy: 0.9715, Testing Accuracy: 0.9723\n",
      "\n"
     ]
    },
    {
     "name": "stdout",
     "output_type": "stream",
     "text": [
      "Epoch 140, Loss 0.0232\n",
      "Training Accuracy: 0.9720, Testing Accuracy: 0.9723\n",
      "\n"
     ]
    },
    {
     "name": "stdout",
     "output_type": "stream",
     "text": [
      "Epoch 150, Loss 0.0226\n",
      "Training Accuracy: 0.9726, Testing Accuracy: 0.9728\n",
      "\n"
     ]
    },
    {
     "name": "stdout",
     "output_type": "stream",
     "text": [
      "Epoch 160, Loss 0.022\n",
      "Training Accuracy: 0.9734, Testing Accuracy: 0.9733\n",
      "\n"
     ]
    },
    {
     "name": "stdout",
     "output_type": "stream",
     "text": [
      "Epoch 170, Loss 0.0214\n",
      "Training Accuracy: 0.9744, Testing Accuracy: 0.9743\n",
      "\n"
     ]
    },
    {
     "name": "stdout",
     "output_type": "stream",
     "text": [
      "Epoch 180, Loss 0.0209\n",
      "Training Accuracy: 0.9754, Testing Accuracy: 0.9743\n",
      "\n"
     ]
    },
    {
     "name": "stdout",
     "output_type": "stream",
     "text": [
      "Epoch 190, Loss 0.0204\n",
      "Training Accuracy: 0.9760, Testing Accuracy: 0.9738\n",
      "\n"
     ]
    },
    {
     "name": "stdout",
     "output_type": "stream",
     "text": [
      "Epoch 200, Loss 0.02\n",
      "Training Accuracy: 0.9765, Testing Accuracy: 0.9738\n",
      "\n"
     ]
    },
    {
     "name": "stdout",
     "output_type": "stream",
     "text": [
      "Epoch 210, Loss 0.0195\n",
      "Training Accuracy: 0.9771, Testing Accuracy: 0.9738\n",
      "\n"
     ]
    },
    {
     "name": "stdout",
     "output_type": "stream",
     "text": [
      "Epoch 220, Loss 0.0191\n",
      "Training Accuracy: 0.9780, Testing Accuracy: 0.9748\n",
      "\n"
     ]
    },
    {
     "name": "stdout",
     "output_type": "stream",
     "text": [
      "Epoch 230, Loss 0.0187\n",
      "Training Accuracy: 0.9785, Testing Accuracy: 0.9743\n",
      "\n"
     ]
    },
    {
     "name": "stdout",
     "output_type": "stream",
     "text": [
      "Epoch 240, Loss 0.0183\n",
      "Training Accuracy: 0.9788, Testing Accuracy: 0.9743\n",
      "\n"
     ]
    },
    {
     "data": {
      "text/plain": [
       "0.004017548737610135"
      ]
     },
     "execution_count": 22,
     "metadata": {},
     "output_type": "execute_result"
    }
   ],
   "source": [
    "nn_learner.train_loop(dl)"
   ]
  },
  {
   "cell_type": "code",
   "execution_count": 23,
   "id": "e0163366",
   "metadata": {
    "execution": {
     "iopub.execute_input": "2021-09-28T10:17:12.771247Z",
     "iopub.status.busy": "2021-09-28T10:17:12.769663Z",
     "iopub.status.idle": "2021-09-28T10:17:28.825212Z",
     "shell.execute_reply": "2021-09-28T10:17:28.825700Z"
    },
    "papermill": {
     "duration": 16.120544,
     "end_time": "2021-09-28T10:17:28.825862",
     "exception": false,
     "start_time": "2021-09-28T10:17:12.705318",
     "status": "completed"
    },
    "tags": []
   },
   "outputs": [
    {
     "name": "stdout",
     "output_type": "stream",
     "text": [
      "Epoch 0, Loss 0.2163\n",
      "Training Accuracy: 0.7557, Testing Accuracy: 0.7475\n",
      "\n"
     ]
    },
    {
     "name": "stdout",
     "output_type": "stream",
     "text": [
      "Epoch 10, Loss 0.1014\n",
      "Training Accuracy: 0.9094, Testing Accuracy: 0.9264\n",
      "\n"
     ]
    },
    {
     "name": "stdout",
     "output_type": "stream",
     "text": [
      "Epoch 20, Loss 0.0791\n",
      "Training Accuracy: 0.9259, Testing Accuracy: 0.9390\n",
      "\n"
     ]
    },
    {
     "name": "stdout",
     "output_type": "stream",
     "text": [
      "Epoch 30, Loss 0.0685\n",
      "Training Accuracy: 0.9342, Testing Accuracy: 0.9471\n",
      "\n"
     ]
    },
    {
     "name": "stdout",
     "output_type": "stream",
     "text": [
      "Epoch 40, Loss 0.062\n",
      "Training Accuracy: 0.9394, Testing Accuracy: 0.9516\n",
      "\n"
     ]
    },
    {
     "name": "stdout",
     "output_type": "stream",
     "text": [
      "Epoch 50, Loss 0.0576\n",
      "Training Accuracy: 0.9446, Testing Accuracy: 0.9556\n",
      "\n"
     ]
    },
    {
     "name": "stdout",
     "output_type": "stream",
     "text": [
      "Epoch 60, Loss 0.0543\n",
      "Training Accuracy: 0.9472, Testing Accuracy: 0.9582\n",
      "\n"
     ]
    },
    {
     "name": "stdout",
     "output_type": "stream",
     "text": [
      "Epoch 70, Loss 0.0517\n",
      "Training Accuracy: 0.9492, Testing Accuracy: 0.9602\n",
      "\n"
     ]
    },
    {
     "name": "stdout",
     "output_type": "stream",
     "text": [
      "Epoch 80, Loss 0.0497\n",
      "Training Accuracy: 0.9508, Testing Accuracy: 0.9612\n",
      "\n"
     ]
    },
    {
     "name": "stdout",
     "output_type": "stream",
     "text": [
      "Epoch 90, Loss 0.048\n",
      "Training Accuracy: 0.9521, Testing Accuracy: 0.9602\n",
      "\n"
     ]
    },
    {
     "name": "stdout",
     "output_type": "stream",
     "text": [
      "Epoch 100, Loss 0.0465\n",
      "Training Accuracy: 0.9528, Testing Accuracy: 0.9597\n",
      "\n"
     ]
    },
    {
     "name": "stdout",
     "output_type": "stream",
     "text": [
      "Epoch 110, Loss 0.0453\n",
      "Training Accuracy: 0.9536, Testing Accuracy: 0.9602\n",
      "\n"
     ]
    },
    {
     "name": "stdout",
     "output_type": "stream",
     "text": [
      "Epoch 120, Loss 0.0442\n",
      "Training Accuracy: 0.9548, Testing Accuracy: 0.9612\n",
      "\n"
     ]
    },
    {
     "name": "stdout",
     "output_type": "stream",
     "text": [
      "Epoch 130, Loss 0.0433\n",
      "Training Accuracy: 0.9555, Testing Accuracy: 0.9612\n",
      "\n"
     ]
    },
    {
     "name": "stdout",
     "output_type": "stream",
     "text": [
      "Epoch 140, Loss 0.0424\n",
      "Training Accuracy: 0.9560, Testing Accuracy: 0.9612\n",
      "\n"
     ]
    },
    {
     "name": "stdout",
     "output_type": "stream",
     "text": [
      "Epoch 150, Loss 0.0417\n",
      "Training Accuracy: 0.9564, Testing Accuracy: 0.9627\n",
      "\n"
     ]
    },
    {
     "name": "stdout",
     "output_type": "stream",
     "text": [
      "Epoch 160, Loss 0.041\n",
      "Training Accuracy: 0.9573, Testing Accuracy: 0.9622\n",
      "\n"
     ]
    },
    {
     "name": "stdout",
     "output_type": "stream",
     "text": [
      "Epoch 170, Loss 0.0404\n",
      "Training Accuracy: 0.9576, Testing Accuracy: 0.9627\n",
      "\n"
     ]
    },
    {
     "name": "stdout",
     "output_type": "stream",
     "text": [
      "Epoch 180, Loss 0.0398\n",
      "Training Accuracy: 0.9579, Testing Accuracy: 0.9627\n",
      "\n"
     ]
    },
    {
     "name": "stdout",
     "output_type": "stream",
     "text": [
      "Epoch 190, Loss 0.0393\n",
      "Training Accuracy: 0.9580, Testing Accuracy: 0.9632\n",
      "\n"
     ]
    },
    {
     "name": "stdout",
     "output_type": "stream",
     "text": [
      "Epoch 200, Loss 0.0388\n",
      "Training Accuracy: 0.9585, Testing Accuracy: 0.9627\n",
      "\n"
     ]
    },
    {
     "name": "stdout",
     "output_type": "stream",
     "text": [
      "Epoch 210, Loss 0.0383\n",
      "Training Accuracy: 0.9587, Testing Accuracy: 0.9627\n",
      "\n"
     ]
    },
    {
     "name": "stdout",
     "output_type": "stream",
     "text": [
      "Epoch 220, Loss 0.0379\n",
      "Training Accuracy: 0.9594, Testing Accuracy: 0.9627\n",
      "\n"
     ]
    },
    {
     "name": "stdout",
     "output_type": "stream",
     "text": [
      "Epoch 230, Loss 0.0375\n",
      "Training Accuracy: 0.9598, Testing Accuracy: 0.9632\n",
      "\n"
     ]
    },
    {
     "name": "stdout",
     "output_type": "stream",
     "text": [
      "Epoch 240, Loss 0.0371\n",
      "Training Accuracy: 0.9599, Testing Accuracy: 0.9632\n",
      "\n"
     ]
    },
    {
     "data": {
      "text/plain": [
       "0.048470424589840036"
      ]
     },
     "execution_count": 23,
     "metadata": {},
     "output_type": "execute_result"
    }
   ],
   "source": [
    "lr_learner.train_loop(dl)"
   ]
  },
  {
   "cell_type": "code",
   "execution_count": 24,
   "id": "ca410940",
   "metadata": {
    "execution": {
     "iopub.execute_input": "2021-09-28T10:17:28.926002Z",
     "iopub.status.busy": "2021-09-28T10:17:28.925363Z",
     "iopub.status.idle": "2021-09-28T10:17:29.199189Z",
     "shell.execute_reply": "2021-09-28T10:17:29.198645Z"
    },
    "papermill": {
     "duration": 0.325963,
     "end_time": "2021-09-28T10:17:29.199331",
     "exception": false,
     "start_time": "2021-09-28T10:17:28.873368",
     "status": "completed"
    },
    "tags": []
   },
   "outputs": [
    {
     "data": {
      "text/plain": [
       "<matplotlib.legend.Legend at 0x7f73c62a19e8>"
      ]
     },
     "execution_count": 24,
     "metadata": {},
     "output_type": "execute_result"
    },
    {
     "data": {
      "image/png": "[encoded data removed]",
      "text/plain": [
       "<Figure size 1080x720 with 1 Axes>"
      ]
     },
     "metadata": {
      "needs_background": "light"
     },
     "output_type": "display_data"
    }
   ],
   "source": [
    "#comparing the results of NN and LR\n",
    "plt.figure(figsize=(15,10))\n",
    "\n",
    "# Neural Network plots\n",
    "plt.plot(acc_nn.accuracies, 'r-', label = \"Training Accuracies - NN\")\n",
    "plt.plot(acc_nn.test_accuracies, 'g-', label = \"Testing Accuracies - NN\")\n",
    "\n",
    "# Logistic Regression plots\n",
    "plt.plot(acc_lr.accuracies, 'k-', label = \"Training Accuracies - LR\")\n",
    "plt.plot(acc_lr.test_accuracies, 'b-', label = \"Testing Accuracies - LR\")\n",
    "plt.legend()"
   ]
  },
  {
   "cell_type": "markdown",
   "id": "80dfb35c",
   "metadata": {
    "papermill": {
     "duration": 0.047853,
     "end_time": "2021-09-28T10:17:29.295757",
     "exception": false,
     "start_time": "2021-09-28T10:17:29.247904",
     "status": "completed"
    },
    "tags": []
   },
   "source": [
    "#### Plotting the outputs of this layer of the NN.\n"
   ]
  },
  {
   "cell_type": "code",
   "execution_count": 25,
   "id": "45eb2ff5",
   "metadata": {
    "execution": {
     "iopub.execute_input": "2021-09-28T10:17:29.405501Z",
     "iopub.status.busy": "2021-09-28T10:17:29.396832Z",
     "iopub.status.idle": "2021-09-28T10:17:29.420564Z",
     "shell.execute_reply": "2021-09-28T10:17:29.421185Z"
    },
    "papermill": {
     "duration": 0.077651,
     "end_time": "2021-09-28T10:17:29.421345",
     "exception": false,
     "start_time": "2021-09-28T10:17:29.343694",
     "status": "completed"
    },
    "tags": []
   },
   "outputs": [],
   "source": [
    "new_model = Model(layers[:-2])\n",
    "testing_plot = new_model(testing_data_x)"
   ]
  },
  {
   "cell_type": "code",
   "execution_count": 26,
   "id": "4c0a5485",
   "metadata": {
    "execution": {
     "iopub.execute_input": "2021-09-28T10:17:29.537928Z",
     "iopub.status.busy": "2021-09-28T10:17:29.537271Z",
     "iopub.status.idle": "2021-09-28T10:17:29.795687Z",
     "shell.execute_reply": "2021-09-28T10:17:29.796151Z"
    },
    "papermill": {
     "duration": 0.318321,
     "end_time": "2021-09-28T10:17:29.796317",
     "exception": false,
     "start_time": "2021-09-28T10:17:29.477996",
     "status": "completed"
    },
    "tags": []
   },
   "outputs": [
    {
     "data": {
      "text/plain": [
       "Text(0.5, 1.0, 'Outputs')"
      ]
     },
     "execution_count": 26,
     "metadata": {},
     "output_type": "execute_result"
    },
    {
     "data": {
      "image/png": "[encoded data removed]",
      "text/plain": [
       "<Figure size 576x504 with 1 Axes>"
      ]
     },
     "metadata": {
      "needs_background": "light"
     },
     "output_type": "display_data"
    }
   ],
   "source": [
    "# Plotting the scatter plot of points and color coding by class\n",
    "plt.figure(figsize=(8,7))\n",
    "plt.scatter(testing_plot[:,0], testing_plot[:,1], alpha = 0.1, c = y_test.ravel());\n",
    "plt.title('Outputs')"
   ]
  },
  {
   "cell_type": "markdown",
   "id": "a74fcf8f",
   "metadata": {
    "papermill": {
     "duration": 0.051066,
     "end_time": "2021-09-28T10:17:29.898808",
     "exception": false,
     "start_time": "2021-09-28T10:17:29.847742",
     "status": "completed"
    },
    "tags": []
   },
   "source": [
    "Probability contours"
   ]
  },
  {
   "cell_type": "code",
   "execution_count": 27,
   "id": "d0afc8e3",
   "metadata": {
    "execution": {
     "iopub.execute_input": "2021-09-28T10:17:30.010238Z",
     "iopub.status.busy": "2021-09-28T10:17:30.009477Z",
     "iopub.status.idle": "2021-09-28T10:17:30.018518Z",
     "shell.execute_reply": "2021-09-28T10:17:30.017899Z"
    },
    "papermill": {
     "duration": 0.068788,
     "end_time": "2021-09-28T10:17:30.018655",
     "exception": false,
     "start_time": "2021-09-28T10:17:29.949867",
     "status": "completed"
    },
    "tags": []
   },
   "outputs": [],
   "source": [
    "model_prob = Model(layers[-2:]) "
   ]
  },
  {
   "cell_type": "code",
   "execution_count": 28,
   "id": "9b96e238",
   "metadata": {
    "execution": {
     "iopub.execute_input": "2021-09-28T10:17:30.161089Z",
     "iopub.status.busy": "2021-09-28T10:17:30.160463Z",
     "iopub.status.idle": "2021-09-28T10:17:30.178287Z",
     "shell.execute_reply": "2021-09-28T10:17:30.178737Z"
    },
    "papermill": {
     "duration": 0.075918,
     "end_time": "2021-09-28T10:17:30.178897",
     "exception": false,
     "start_time": "2021-09-28T10:17:30.102979",
     "status": "completed"
    },
    "tags": []
   },
   "outputs": [],
   "source": [
    "#creating the x and y ranges according to the above generated plot.\n",
    "x_range = np.linspace(-4, 1, 100) \n",
    "y_range = np.linspace(-6, 6, 100) \n",
    "x_grid, y_grid = np.meshgrid(x_range, y_range) # x_grid and y_grig are of size 100 X 100\n",
    "\n",
    "# converting x_grid and y_grid to continuous arrays\n",
    "x_gridflat = np.ravel(x_grid)\n",
    "y_gridflat = np.ravel(y_grid)\n",
    "\n",
    "# The last layer of the current model takes two columns as input. Hence transpose of np.vstack() is required.\n",
    "X = np.vstack((x_gridflat, y_gridflat)).T\n",
    "\n",
    "prob_contour = model_prob(X).reshape(100,100) "
   ]
  },
  {
   "cell_type": "code",
   "execution_count": 29,
   "id": "da72499a",
   "metadata": {
    "execution": {
     "iopub.execute_input": "2021-09-28T10:17:30.301896Z",
     "iopub.status.busy": "2021-09-28T10:17:30.301245Z",
     "iopub.status.idle": "2021-09-28T10:17:30.592843Z",
     "shell.execute_reply": "2021-09-28T10:17:30.592268Z"
    },
    "papermill": {
     "duration": 0.356111,
     "end_time": "2021-09-28T10:17:30.592983",
     "exception": false,
     "start_time": "2021-09-28T10:17:30.236872",
     "status": "completed"
    },
    "tags": []
   },
   "outputs": [
    {
     "data": {
      "image/png": "[encoded data removed]",
      "text/plain": [
       "<Figure size 720x648 with 1 Axes>"
      ]
     },
     "metadata": {
      "needs_background": "light"
     },
     "output_type": "display_data"
    }
   ],
   "source": [
    "plt.figure(figsize=(10,9))\n",
    "plt.scatter(testing_plot[:,0], testing_plot[:,1], alpha = 0.1, c = y_test.ravel())\n",
    "contours = plt.contour(x_grid,y_grid,prob_contour)\n",
    "plt.title('Probability Contours')\n",
    "plt.clabel(contours, inline = True );"
   ]
  },
  {
   "cell_type": "code",
   "execution_count": null,
   "id": "e81b4ac7",
   "metadata": {
    "papermill": {
     "duration": 0.055002,
     "end_time": "2021-09-28T10:17:30.703279",
     "exception": false,
     "start_time": "2021-09-28T10:17:30.648277",
     "status": "completed"
    },
    "tags": []
   },
   "outputs": [],
   "source": []
  }
 ],
 "metadata": {
  "kernelspec": {
   "display_name": "Python 3",
   "language": "python",
   "name": "python3"
  },
  "language_info": {
   "codemirror_mode": {
    "name": "ipython",
    "version": 3
   },
   "file_extension": ".py",
   "mimetype": "text/x-python",
   "name": "python",
   "nbconvert_exporter": "python",
   "pygments_lexer": "ipython3",
   "version": "3.6.15"
  },
  "papermill": {
   "default_parameters": {},
   "duration": 116.426319,
   "end_time": "2021-09-28T10:17:31.170005",
   "environment_variables": {},
   "exception": null,
   "input_path": "2020-08-11-part2.ipynb",
   "output_path": "2020-08-11-part2.ipynb",
   "parameters": {},
   "start_time": "2021-09-28T10:15:34.743686",
   "version": "2.3.3"
  }
 },
 "nbformat": 4,
 "nbformat_minor": 5
}