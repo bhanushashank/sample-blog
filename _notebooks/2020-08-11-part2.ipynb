{
 "cells": [
  {
   "cell_type": "markdown",
   "id": "98380cd3",
   "metadata": {
    "papermill": {
     "duration": 0.029313,
     "end_time": "2022-08-20T10:09:28.361016",
     "exception": false,
     "start_time": "2022-08-20T10:09:28.331703",
     "status": "completed"
    },
    "tags": []
   },
   "source": [
    "# Distinguish Your Own Digits (DYOD)"
   ]
  },
  {
   "cell_type": "markdown",
   "id": "ef31240d",
   "metadata": {
    "papermill": {
     "duration": 0.023764,
     "end_time": "2022-08-20T10:09:28.409121",
     "exception": false,
     "start_time": "2022-08-20T10:09:28.385357",
     "status": "completed"
    },
    "tags": []
   },
   "source": [
    "You are going to write a classifier that distinguishes between the number 3 and number 8."
   ]
  },
  {
   "cell_type": "code",
   "execution_count": 1,
   "id": "b15c8646",
   "metadata": {
    "execution": {
     "iopub.execute_input": "2022-08-20T10:09:28.467464Z",
     "iopub.status.busy": "2022-08-20T10:09:28.464559Z",
     "iopub.status.idle": "2022-08-20T10:09:28.478010Z",
     "shell.execute_reply": "2022-08-20T10:09:28.478556Z"
    },
    "papermill": {
     "duration": 0.04573,
     "end_time": "2022-08-20T10:09:28.478712",
     "exception": false,
     "start_time": "2022-08-20T10:09:28.432982",
     "status": "completed"
    },
    "tags": []
   },
   "outputs": [],
   "source": [
    "%load_ext autoreload\n",
    "%autoreload 2"
   ]
  },
  {
   "cell_type": "code",
   "execution_count": 2,
   "id": "22ef38dc",
   "metadata": {
    "execution": {
     "iopub.execute_input": "2022-08-20T10:09:28.529972Z",
     "iopub.status.busy": "2022-08-20T10:09:28.529405Z",
     "iopub.status.idle": "2022-08-20T10:09:29.062228Z",
     "shell.execute_reply": "2022-08-20T10:09:29.061656Z"
    },
    "papermill": {
     "duration": 0.559921,
     "end_time": "2022-08-20T10:09:29.062372",
     "exception": false,
     "start_time": "2022-08-20T10:09:28.502451",
     "status": "completed"
    },
    "tags": []
   },
   "outputs": [],
   "source": [
    "%matplotlib inline\n",
    "import numpy as np\n",
    "import matplotlib.pyplot as plt\n",
    "import pandas as pd"
   ]
  },
  {
   "cell_type": "markdown",
   "id": "ba036198",
   "metadata": {
    "papermill": {
     "duration": 0.023643,
     "end_time": "2022-08-20T10:09:29.110362",
     "exception": false,
     "start_time": "2022-08-20T10:09:29.086719",
     "status": "completed"
    },
    "tags": []
   },
   "source": [
    "From the command line run `pip install mnist`. This is a library that will help you bring down the mnist dataset. If you run this from a notebook, you need to put  `!pip install mnist` in a cell by itself."
   ]
  },
  {
   "cell_type": "code",
   "execution_count": 3,
   "id": "bb6ad8a1",
   "metadata": {
    "execution": {
     "iopub.execute_input": "2022-08-20T10:09:29.172777Z",
     "iopub.status.busy": "2022-08-20T10:09:29.167999Z",
     "iopub.status.idle": "2022-08-20T10:09:30.704033Z",
     "shell.execute_reply": "2022-08-20T10:09:30.703169Z"
    },
    "papermill": {
     "duration": 1.569956,
     "end_time": "2022-08-20T10:09:30.704175",
     "exception": false,
     "start_time": "2022-08-20T10:09:29.134219",
     "status": "completed"
    },
    "tags": []
   },
   "outputs": [
    {
     "name": "stdout",
     "output_type": "stream",
     "text": [
      "Collecting mnist\r\n",
      "  Downloading mnist-0.2.2-py2.py3-none-any.whl (3.5 kB)\r\n"
     ]
    },
    {
     "name": "stdout",
     "output_type": "stream",
     "text": [
      "Requirement already satisfied: numpy in /opt/hostedtoolcache/Python/3.6.15/x64/lib/python3.6/site-packages (from mnist) (1.19.5)\r\n"
     ]
    },
    {
     "name": "stdout",
     "output_type": "stream",
     "text": [
      "Installing collected packages: mnist\r\n"
     ]
    },
    {
     "name": "stdout",
     "output_type": "stream",
     "text": [
      "Successfully installed mnist-0.2.2\r\n"
     ]
    }
   ],
   "source": [
    "!pip install mnist"
   ]
  },
  {
   "cell_type": "markdown",
   "id": "69df9c9a",
   "metadata": {
    "papermill": {
     "duration": 0.024756,
     "end_time": "2022-08-20T10:09:30.754350",
     "exception": false,
     "start_time": "2022-08-20T10:09:30.729594",
     "status": "completed"
    },
    "tags": []
   },
   "source": [
    "## Preparing the Data"
   ]
  },
  {
   "cell_type": "code",
   "execution_count": 4,
   "id": "7f69d806",
   "metadata": {
    "execution": {
     "iopub.execute_input": "2022-08-20T10:09:30.817125Z",
     "iopub.status.busy": "2022-08-20T10:09:30.816511Z",
     "iopub.status.idle": "2022-08-20T10:09:30.825601Z",
     "shell.execute_reply": "2022-08-20T10:09:30.825032Z"
    },
    "papermill": {
     "duration": 0.046746,
     "end_time": "2022-08-20T10:09:30.825711",
     "exception": false,
     "start_time": "2022-08-20T10:09:30.778965",
     "status": "completed"
    },
    "tags": []
   },
   "outputs": [],
   "source": [
    "import mnist"
   ]
  },
  {
   "cell_type": "code",
   "execution_count": 5,
   "id": "a411e44f",
   "metadata": {
    "execution": {
     "iopub.execute_input": "2022-08-20T10:09:30.884246Z",
     "iopub.status.busy": "2022-08-20T10:09:30.883573Z",
     "iopub.status.idle": "2022-08-20T10:09:31.384544Z",
     "shell.execute_reply": "2022-08-20T10:09:31.383847Z"
    },
    "papermill": {
     "duration": 0.534238,
     "end_time": "2022-08-20T10:09:31.384671",
     "exception": false,
     "start_time": "2022-08-20T10:09:30.850433",
     "status": "completed"
    },
    "tags": []
   },
   "outputs": [],
   "source": [
    "train_images = mnist.train_images()\n",
    "train_labels = mnist.train_labels()"
   ]
  },
  {
   "cell_type": "code",
   "execution_count": 6,
   "id": "dceab3a5",
   "metadata": {
    "execution": {
     "iopub.execute_input": "2022-08-20T10:09:31.449557Z",
     "iopub.status.busy": "2022-08-20T10:09:31.448968Z",
     "iopub.status.idle": "2022-08-20T10:09:31.458593Z",
     "shell.execute_reply": "2022-08-20T10:09:31.458123Z"
    },
    "papermill": {
     "duration": 0.049039,
     "end_time": "2022-08-20T10:09:31.458707",
     "exception": false,
     "start_time": "2022-08-20T10:09:31.409668",
     "status": "completed"
    },
    "tags": []
   },
   "outputs": [
    {
     "data": {
      "text/plain": [
       "((60000, 28, 28), (60000,))"
      ]
     },
     "execution_count": 6,
     "metadata": {},
     "output_type": "execute_result"
    }
   ],
   "source": [
    "train_images.shape, train_labels.shape"
   ]
  },
  {
   "cell_type": "code",
   "execution_count": 7,
   "id": "f50dc2bb",
   "metadata": {
    "execution": {
     "iopub.execute_input": "2022-08-20T10:09:31.512199Z",
     "iopub.status.busy": "2022-08-20T10:09:31.511623Z",
     "iopub.status.idle": "2022-08-20T10:09:31.620120Z",
     "shell.execute_reply": "2022-08-20T10:09:31.619468Z"
    },
    "papermill": {
     "duration": 0.136417,
     "end_time": "2022-08-20T10:09:31.620263",
     "exception": false,
     "start_time": "2022-08-20T10:09:31.483846",
     "status": "completed"
    },
    "tags": []
   },
   "outputs": [],
   "source": [
    "test_images = mnist.test_images()\n",
    "test_labels = mnist.test_labels()"
   ]
  },
  {
   "cell_type": "code",
   "execution_count": 8,
   "id": "fc38cf1b",
   "metadata": {
    "execution": {
     "iopub.execute_input": "2022-08-20T10:09:31.677467Z",
     "iopub.status.busy": "2022-08-20T10:09:31.676878Z",
     "iopub.status.idle": "2022-08-20T10:09:31.689378Z",
     "shell.execute_reply": "2022-08-20T10:09:31.689787Z"
    },
    "papermill": {
     "duration": 0.043189,
     "end_time": "2022-08-20T10:09:31.689918",
     "exception": false,
     "start_time": "2022-08-20T10:09:31.646729",
     "status": "completed"
    },
    "tags": []
   },
   "outputs": [
    {
     "data": {
      "text/plain": [
       "((10000, 28, 28), (10000,))"
      ]
     },
     "execution_count": 8,
     "metadata": {},
     "output_type": "execute_result"
    }
   ],
   "source": [
    "test_images.shape, test_labels.shape"
   ]
  },
  {
   "cell_type": "code",
   "execution_count": 9,
   "id": "f9ed8fe0",
   "metadata": {
    "execution": {
     "iopub.execute_input": "2022-08-20T10:09:31.744519Z",
     "iopub.status.busy": "2022-08-20T10:09:31.743949Z",
     "iopub.status.idle": "2022-08-20T10:09:31.882593Z",
     "shell.execute_reply": "2022-08-20T10:09:31.883026Z"
    },
    "papermill": {
     "duration": 0.168021,
     "end_time": "2022-08-20T10:09:31.883177",
     "exception": false,
     "start_time": "2022-08-20T10:09:31.715156",
     "status": "completed"
    },
    "tags": []
   },
   "outputs": [
    {
     "name": "stdout",
     "output_type": "stream",
     "text": [
      "2\n"
     ]
    },
    {
     "data": {
      "text/plain": [
       "<matplotlib.image.AxesImage at 0x7fcd238959b0>"
      ]
     },
     "execution_count": 9,
     "metadata": {},
     "output_type": "execute_result"
    },
    {
     "data": {
      "image/png": "[encoded data removed]",
      "text/plain": [
       "<Figure size 432x288 with 1 Axes>"
      ]
     },
     "metadata": {
      "needs_background": "light"
     },
     "output_type": "display_data"
    }
   ],
   "source": [
    "image_index = 7776 # You may select anything up to 60,000\n",
    "print(train_labels[image_index]) \n",
    "plt.imshow(train_images[image_index], cmap='Greys')"
   ]
  },
  {
   "cell_type": "markdown",
   "id": "a8d2388d",
   "metadata": {
    "papermill": {
     "duration": 0.026711,
     "end_time": "2022-08-20T10:09:31.936457",
     "exception": false,
     "start_time": "2022-08-20T10:09:31.909746",
     "status": "completed"
    },
    "tags": []
   },
   "source": [
    "## Filter data to get 3 and 8 out"
   ]
  },
  {
   "cell_type": "code",
   "execution_count": 10,
   "id": "776f7fc7",
   "metadata": {
    "execution": {
     "iopub.execute_input": "2022-08-20T10:09:31.997078Z",
     "iopub.status.busy": "2022-08-20T10:09:31.996483Z",
     "iopub.status.idle": "2022-08-20T10:09:32.013698Z",
     "shell.execute_reply": "2022-08-20T10:09:32.013208Z"
    },
    "papermill": {
     "duration": 0.050782,
     "end_time": "2022-08-20T10:09:32.013816",
     "exception": false,
     "start_time": "2022-08-20T10:09:31.963034",
     "status": "completed"
    },
    "tags": []
   },
   "outputs": [],
   "source": [
    "train_filter = np.where((train_labels == 3 ) | (train_labels == 8))\n",
    "test_filter = np.where((test_labels == 3) | (test_labels == 8))\n",
    "X_train, y_train = train_images[train_filter], train_labels[train_filter]\n",
    "X_test, y_test = test_images[test_filter], test_labels[test_filter]"
   ]
  },
  {
   "cell_type": "markdown",
   "id": "948f0b7e",
   "metadata": {
    "papermill": {
     "duration": 0.026422,
     "end_time": "2022-08-20T10:09:32.066968",
     "exception": false,
     "start_time": "2022-08-20T10:09:32.040546",
     "status": "completed"
    },
    "tags": []
   },
   "source": [
    "We normalize the pizel values in the 0 to 1 range"
   ]
  },
  {
   "cell_type": "code",
   "execution_count": 11,
   "id": "ee4c2166",
   "metadata": {
    "execution": {
     "iopub.execute_input": "2022-08-20T10:09:32.129483Z",
     "iopub.status.busy": "2022-08-20T10:09:32.128900Z",
     "iopub.status.idle": "2022-08-20T10:09:32.174048Z",
     "shell.execute_reply": "2022-08-20T10:09:32.173463Z"
    },
    "papermill": {
     "duration": 0.080859,
     "end_time": "2022-08-20T10:09:32.174184",
     "exception": false,
     "start_time": "2022-08-20T10:09:32.093325",
     "status": "completed"
    },
    "tags": []
   },
   "outputs": [],
   "source": [
    "X_train = X_train/255.\n",
    "X_test = X_test/255."
   ]
  },
  {
   "cell_type": "markdown",
   "id": "ddcf4fab",
   "metadata": {
    "papermill": {
     "duration": 0.027144,
     "end_time": "2022-08-20T10:09:32.228454",
     "exception": false,
     "start_time": "2022-08-20T10:09:32.201310",
     "status": "completed"
    },
    "tags": []
   },
   "source": [
    "And setup the labels as 1 (when the digit is 3) and 0 (when the digit is 8)"
   ]
  },
  {
   "cell_type": "code",
   "execution_count": 12,
   "id": "7dc908f2",
   "metadata": {
    "execution": {
     "iopub.execute_input": "2022-08-20T10:09:32.285099Z",
     "iopub.status.busy": "2022-08-20T10:09:32.284521Z",
     "iopub.status.idle": "2022-08-20T10:09:32.298277Z",
     "shell.execute_reply": "2022-08-20T10:09:32.297804Z"
    },
    "papermill": {
     "duration": 0.04369,
     "end_time": "2022-08-20T10:09:32.298390",
     "exception": false,
     "start_time": "2022-08-20T10:09:32.254700",
     "status": "completed"
    },
    "tags": []
   },
   "outputs": [],
   "source": [
    "y_train = 1*(y_train==3)\n",
    "y_test = 1*(y_test==3)"
   ]
  },
  {
   "cell_type": "code",
   "execution_count": 13,
   "id": "01e4e969",
   "metadata": {
    "execution": {
     "iopub.execute_input": "2022-08-20T10:09:32.355442Z",
     "iopub.status.busy": "2022-08-20T10:09:32.354872Z",
     "iopub.status.idle": "2022-08-20T10:09:32.368734Z",
     "shell.execute_reply": "2022-08-20T10:09:32.369201Z"
    },
    "papermill": {
     "duration": 0.04452,
     "end_time": "2022-08-20T10:09:32.369325",
     "exception": false,
     "start_time": "2022-08-20T10:09:32.324805",
     "status": "completed"
    },
    "tags": []
   },
   "outputs": [
    {
     "data": {
      "text/plain": [
       "((11982, 28, 28), (1984, 28, 28))"
      ]
     },
     "execution_count": 13,
     "metadata": {},
     "output_type": "execute_result"
    }
   ],
   "source": [
    "X_train.shape, X_test.shape"
   ]
  },
  {
   "cell_type": "markdown",
   "id": "5ccf3f85",
   "metadata": {
    "papermill": {
     "duration": 0.026485,
     "end_time": "2022-08-20T10:09:32.422354",
     "exception": false,
     "start_time": "2022-08-20T10:09:32.395869",
     "status": "completed"
    },
    "tags": []
   },
   "source": [
    "We reshape the data to flatten the image pixels into a set of features or co-variates:"
   ]
  },
  {
   "cell_type": "code",
   "execution_count": 14,
   "id": "5286a4a3",
   "metadata": {
    "execution": {
     "iopub.execute_input": "2022-08-20T10:09:32.479784Z",
     "iopub.status.busy": "2022-08-20T10:09:32.479181Z",
     "iopub.status.idle": "2022-08-20T10:09:32.493878Z",
     "shell.execute_reply": "2022-08-20T10:09:32.494318Z"
    },
    "papermill": {
     "duration": 0.045458,
     "end_time": "2022-08-20T10:09:32.494452",
     "exception": false,
     "start_time": "2022-08-20T10:09:32.448994",
     "status": "completed"
    },
    "tags": []
   },
   "outputs": [
    {
     "data": {
      "text/plain": [
       "((11982, 784), (1984, 784))"
      ]
     },
     "execution_count": 14,
     "metadata": {},
     "output_type": "execute_result"
    }
   ],
   "source": [
    "X_train = X_train.reshape(X_train.shape[0], -1)\n",
    "X_test = X_test.reshape(X_test.shape[0], -1)\n",
    "X_train.shape, X_test.shape"
   ]
  },
  {
   "cell_type": "code",
   "execution_count": 15,
   "id": "73c5f88a",
   "metadata": {
    "execution": {
     "iopub.execute_input": "2022-08-20T10:09:32.552381Z",
     "iopub.status.busy": "2022-08-20T10:09:32.551795Z",
     "iopub.status.idle": "2022-08-20T10:09:32.571051Z",
     "shell.execute_reply": "2022-08-20T10:09:32.571494Z"
    },
    "papermill": {
     "duration": 0.050294,
     "end_time": "2022-08-20T10:09:32.571637",
     "exception": false,
     "start_time": "2022-08-20T10:09:32.521343",
     "status": "completed"
    },
    "tags": []
   },
   "outputs": [],
   "source": [
    "#Impoting functions from 'Kudzu'\n",
    "from kudzu.model import Model\n",
    "from kudzu.train import Learner\n",
    "from kudzu.optim import GD\n",
    "from kudzu.data import Data, Sampler,Dataloader\n",
    "\n",
    "from kudzu.callbacks import AccCallback\n",
    "from kudzu.callbacks import ClfCallback\n",
    "\n",
    "from kudzu.loss import MSE\n",
    "\n",
    "from kudzu.layer import Sigmoid,Relu\n",
    "from kudzu.layer import Affine"
   ]
  },
  {
   "cell_type": "markdown",
   "id": "bc01172a",
   "metadata": {
    "papermill": {
     "duration": 0.027083,
     "end_time": "2022-08-20T10:09:32.626037",
     "exception": false,
     "start_time": "2022-08-20T10:09:32.598954",
     "status": "completed"
    },
    "tags": []
   },
   "source": [
    "### Let us create a `Config` class, to store important parameters. \n",
    "This class essentially plays the role of a dictionary."
   ]
  },
  {
   "cell_type": "code",
   "execution_count": 16,
   "id": "978281aa",
   "metadata": {
    "execution": {
     "iopub.execute_input": "2022-08-20T10:09:32.685255Z",
     "iopub.status.busy": "2022-08-20T10:09:32.684668Z",
     "iopub.status.idle": "2022-08-20T10:09:32.697416Z",
     "shell.execute_reply": "2022-08-20T10:09:32.697865Z"
    },
    "papermill": {
     "duration": 0.04494,
     "end_time": "2022-08-20T10:09:32.698005",
     "exception": false,
     "start_time": "2022-08-20T10:09:32.653065",
     "status": "completed"
    },
    "tags": []
   },
   "outputs": [],
   "source": [
    "class Config:\n",
    "    pass\n",
    "config = Config()\n",
    "config.lr = 0.001\n",
    "config.num_epochs = 250\n",
    "config.bs = 50"
   ]
  },
  {
   "cell_type": "markdown",
   "id": "1385fa59",
   "metadata": {
    "papermill": {
     "duration": 0.026676,
     "end_time": "2022-08-20T10:09:32.751602",
     "exception": false,
     "start_time": "2022-08-20T10:09:32.724926",
     "status": "completed"
    },
    "tags": []
   },
   "source": [
    "### Running Models with the Training data\n",
    "Details about the network layers:\n",
    "- A first affine layer has 784 inputs and does 100 affine transforms. These are followed by a Relu\n",
    "- A second affine layer has 100 inputs from the 100 activations of the past layer, and does 100 affine transforms. These are followed by a Relu\n",
    "- A third affine layer has 100 activations and does 2 affine transformations to create an embedding for visualization. There is no non-linearity here.\n",
    "- A final \"logistic regression\" which has an affine transform from 2 inputs to 1 output, which is squeezed through a sigmoid.\n"
   ]
  },
  {
   "cell_type": "code",
   "execution_count": 17,
   "id": "2b9c66db",
   "metadata": {
    "execution": {
     "iopub.execute_input": "2022-08-20T10:09:32.809607Z",
     "iopub.status.busy": "2022-08-20T10:09:32.808218Z",
     "iopub.status.idle": "2022-08-20T10:09:32.822583Z",
     "shell.execute_reply": "2022-08-20T10:09:32.822103Z"
    },
    "papermill": {
     "duration": 0.044337,
     "end_time": "2022-08-20T10:09:32.822694",
     "exception": false,
     "start_time": "2022-08-20T10:09:32.778357",
     "status": "completed"
    },
    "tags": []
   },
   "outputs": [],
   "source": [
    "data = Data(X_train, y_train.reshape(-1,1))\n",
    "sampler = Sampler(data, config.bs, shuffle=True)\n",
    "\n",
    "dl = Dataloader(data, sampler)\n",
    "\n",
    "opt = GD(config.lr)\n",
    "loss = MSE()"
   ]
  },
  {
   "cell_type": "code",
   "execution_count": 18,
   "id": "b275e4c2",
   "metadata": {
    "execution": {
     "iopub.execute_input": "2022-08-20T10:09:32.884887Z",
     "iopub.status.busy": "2022-08-20T10:09:32.884305Z",
     "iopub.status.idle": "2022-08-20T10:09:32.893815Z",
     "shell.execute_reply": "2022-08-20T10:09:32.894286Z"
    },
    "papermill": {
     "duration": 0.044686,
     "end_time": "2022-08-20T10:09:32.894411",
     "exception": false,
     "start_time": "2022-08-20T10:09:32.849725",
     "status": "completed"
    },
    "tags": []
   },
   "outputs": [],
   "source": [
    "training_data_x = X_train\n",
    "testing_data_x = X_test\n",
    "training_data_y = y_train.reshape(-1,1)\n",
    "testing_data_y = y_test.reshape(-1,1)"
   ]
  },
  {
   "cell_type": "code",
   "execution_count": 19,
   "id": "76951160",
   "metadata": {
    "execution": {
     "iopub.execute_input": "2022-08-20T10:09:32.952932Z",
     "iopub.status.busy": "2022-08-20T10:09:32.952342Z",
     "iopub.status.idle": "2022-08-20T10:09:32.969067Z",
     "shell.execute_reply": "2022-08-20T10:09:32.968502Z"
    },
    "papermill": {
     "duration": 0.04806,
     "end_time": "2022-08-20T10:09:32.969176",
     "exception": false,
     "start_time": "2022-08-20T10:09:32.921116",
     "status": "completed"
    },
    "tags": []
   },
   "outputs": [
    {
     "name": "stdout",
     "output_type": "stream",
     "text": [
      "xavier\n",
      "xavier\n",
      "xavier\n",
      "xavier\n",
      "xavier\n"
     ]
    }
   ],
   "source": [
    "layers = [Affine(\"first\", 784, 100), Relu(\"first\"), Affine(\"second\", 100, 100), Relu(\"second\"), Affine(\"third\", 100, 2), Affine(\"last\", 2, 1), Sigmoid(\"last\")]\n",
    "model_nn = Model(layers)\n",
    "model_lr = Model([Affine(\"logits\", 784, 1), Sigmoid(\"sigmoid\")])"
   ]
  },
  {
   "cell_type": "code",
   "execution_count": 20,
   "id": "6eede77a",
   "metadata": {
    "execution": {
     "iopub.execute_input": "2022-08-20T10:09:33.027442Z",
     "iopub.status.busy": "2022-08-20T10:09:33.026872Z",
     "iopub.status.idle": "2022-08-20T10:09:33.040577Z",
     "shell.execute_reply": "2022-08-20T10:09:33.040104Z"
    },
    "papermill": {
     "duration": 0.044254,
     "end_time": "2022-08-20T10:09:33.040684",
     "exception": false,
     "start_time": "2022-08-20T10:09:32.996430",
     "status": "completed"
    },
    "tags": []
   },
   "outputs": [],
   "source": [
    "nn_learner = Learner(loss, model_nn, opt, config.num_epochs)\n",
    "acc_nn = ClfCallback(nn_learner, config.bs, training_data_x , testing_data_x, training_data_y, testing_data_y)\n",
    "nn_learner.set_callbacks([acc_nn])"
   ]
  },
  {
   "cell_type": "code",
   "execution_count": 21,
   "id": "877b6cc7",
   "metadata": {
    "execution": {
     "iopub.execute_input": "2022-08-20T10:09:33.099880Z",
     "iopub.status.busy": "2022-08-20T10:09:33.099281Z",
     "iopub.status.idle": "2022-08-20T10:09:33.112214Z",
     "shell.execute_reply": "2022-08-20T10:09:33.112680Z"
    },
    "papermill": {
     "duration": 0.044903,
     "end_time": "2022-08-20T10:09:33.112808",
     "exception": false,
     "start_time": "2022-08-20T10:09:33.067905",
     "status": "completed"
    },
    "tags": []
   },
   "outputs": [],
   "source": [
    "lr_learner = Learner(loss, model_lr, opt, config.num_epochs)\n",
    "acc_lr = ClfCallback(lr_learner, config.bs, training_data_x , testing_data_x, training_data_y, testing_data_y)\n",
    "lr_learner.set_callbacks([acc_lr])"
   ]
  },
  {
   "cell_type": "code",
   "execution_count": 22,
   "id": "d9b133c3",
   "metadata": {
    "execution": {
     "iopub.execute_input": "2022-08-20T10:09:33.170797Z",
     "iopub.status.busy": "2022-08-20T10:09:33.170232Z",
     "iopub.status.idle": "2022-08-20T10:10:48.462553Z",
     "shell.execute_reply": "2022-08-20T10:10:48.463109Z"
    },
    "papermill": {
     "duration": 75.323289,
     "end_time": "2022-08-20T10:10:48.463254",
     "exception": false,
     "start_time": "2022-08-20T10:09:33.139965",
     "status": "completed"
    },
    "tags": []
   },
   "outputs": [
    {
     "name": "stdout",
     "output_type": "stream",
     "text": [
      "Epoch 0, Loss 0.2441\n",
      "Training Accuracy: 0.7044, Testing Accuracy: 0.7359\n",
      "\n"
     ]
    },
    {
     "name": "stdout",
     "output_type": "stream",
     "text": [
      "Epoch 10, Loss 0.07\n",
      "Training Accuracy: 0.9306, Testing Accuracy: 0.9400\n",
      "\n"
     ]
    },
    {
     "name": "stdout",
     "output_type": "stream",
     "text": [
      "Epoch 20, Loss 0.0464\n",
      "Training Accuracy: 0.9492, Testing Accuracy: 0.9602\n",
      "\n"
     ]
    },
    {
     "name": "stdout",
     "output_type": "stream",
     "text": [
      "Epoch 30, Loss 0.0378\n",
      "Training Accuracy: 0.9577, Testing Accuracy: 0.9627\n",
      "\n"
     ]
    },
    {
     "name": "stdout",
     "output_type": "stream",
     "text": [
      "Epoch 40, Loss 0.0332\n",
      "Training Accuracy: 0.9629, Testing Accuracy: 0.9647\n",
      "\n"
     ]
    },
    {
     "name": "stdout",
     "output_type": "stream",
     "text": [
      "Epoch 50, Loss 0.0302\n",
      "Training Accuracy: 0.9664, Testing Accuracy: 0.9688\n",
      "\n"
     ]
    },
    {
     "name": "stdout",
     "output_type": "stream",
     "text": [
      "Epoch 60, Loss 0.0281\n",
      "Training Accuracy: 0.9685, Testing Accuracy: 0.9688\n",
      "\n"
     ]
    },
    {
     "name": "stdout",
     "output_type": "stream",
     "text": [
      "Epoch 70, Loss 0.0265\n",
      "Training Accuracy: 0.9703, Testing Accuracy: 0.9703\n",
      "\n"
     ]
    },
    {
     "name": "stdout",
     "output_type": "stream",
     "text": [
      "Epoch 80, Loss 0.0252\n",
      "Training Accuracy: 0.9720, Testing Accuracy: 0.9708\n",
      "\n"
     ]
    },
    {
     "name": "stdout",
     "output_type": "stream",
     "text": [
      "Epoch 90, Loss 0.0241\n",
      "Training Accuracy: 0.9725, Testing Accuracy: 0.9708\n",
      "\n"
     ]
    },
    {
     "name": "stdout",
     "output_type": "stream",
     "text": [
      "Epoch 100, Loss 0.0232\n",
      "Training Accuracy: 0.9738, Testing Accuracy: 0.9718\n",
      "\n"
     ]
    },
    {
     "name": "stdout",
     "output_type": "stream",
     "text": [
      "Epoch 110, Loss 0.0224\n",
      "Training Accuracy: 0.9750, Testing Accuracy: 0.9748\n",
      "\n"
     ]
    },
    {
     "name": "stdout",
     "output_type": "stream",
     "text": [
      "Epoch 120, Loss 0.0216\n",
      "Training Accuracy: 0.9763, Testing Accuracy: 0.9748\n",
      "\n"
     ]
    },
    {
     "name": "stdout",
     "output_type": "stream",
     "text": [
      "Epoch 130, Loss 0.021\n",
      "Training Accuracy: 0.9773, Testing Accuracy: 0.9748\n",
      "\n"
     ]
    },
    {
     "name": "stdout",
     "output_type": "stream",
     "text": [
      "Epoch 140, Loss 0.0204\n",
      "Training Accuracy: 0.9781, Testing Accuracy: 0.9758\n",
      "\n"
     ]
    },
    {
     "name": "stdout",
     "output_type": "stream",
     "text": [
      "Epoch 150, Loss 0.0198\n",
      "Training Accuracy: 0.9786, Testing Accuracy: 0.9758\n",
      "\n"
     ]
    },
    {
     "name": "stdout",
     "output_type": "stream",
     "text": [
      "Epoch 160, Loss 0.0193\n",
      "Training Accuracy: 0.9788, Testing Accuracy: 0.9758\n",
      "\n"
     ]
    },
    {
     "name": "stdout",
     "output_type": "stream",
     "text": [
      "Epoch 170, Loss 0.0188\n",
      "Training Accuracy: 0.9800, Testing Accuracy: 0.9758\n",
      "\n"
     ]
    },
    {
     "name": "stdout",
     "output_type": "stream",
     "text": [
      "Epoch 180, Loss 0.0184\n",
      "Training Accuracy: 0.9805, Testing Accuracy: 0.9763\n",
      "\n"
     ]
    },
    {
     "name": "stdout",
     "output_type": "stream",
     "text": [
      "Epoch 190, Loss 0.018\n",
      "Training Accuracy: 0.9809, Testing Accuracy: 0.9758\n",
      "\n"
     ]
    },
    {
     "name": "stdout",
     "output_type": "stream",
     "text": [
      "Epoch 200, Loss 0.0176\n",
      "Training Accuracy: 0.9813, Testing Accuracy: 0.9763\n",
      "\n"
     ]
    },
    {
     "name": "stdout",
     "output_type": "stream",
     "text": [
      "Epoch 210, Loss 0.0172\n",
      "Training Accuracy: 0.9816, Testing Accuracy: 0.9783\n",
      "\n"
     ]
    },
    {
     "name": "stdout",
     "output_type": "stream",
     "text": [
      "Epoch 220, Loss 0.0168\n",
      "Training Accuracy: 0.9821, Testing Accuracy: 0.9788\n",
      "\n"
     ]
    },
    {
     "name": "stdout",
     "output_type": "stream",
     "text": [
      "Epoch 230, Loss 0.0164\n",
      "Training Accuracy: 0.9828, Testing Accuracy: 0.9783\n",
      "\n"
     ]
    },
    {
     "name": "stdout",
     "output_type": "stream",
     "text": [
      "Epoch 240, Loss 0.0161\n",
      "Training Accuracy: 0.9831, Testing Accuracy: 0.9793\n",
      "\n"
     ]
    },
    {
     "data": {
      "text/plain": [
       "0.0011443037820450547"
      ]
     },
     "execution_count": 22,
     "metadata": {},
     "output_type": "execute_result"
    }
   ],
   "source": [
    "nn_learner.train_loop(dl)"
   ]
  },
  {
   "cell_type": "code",
   "execution_count": 23,
   "id": "e0163366",
   "metadata": {
    "execution": {
     "iopub.execute_input": "2022-08-20T10:10:48.541240Z",
     "iopub.status.busy": "2022-08-20T10:10:48.540669Z",
     "iopub.status.idle": "2022-08-20T10:11:02.070109Z",
     "shell.execute_reply": "2022-08-20T10:11:02.070963Z"
    },
    "papermill": {
     "duration": 13.572698,
     "end_time": "2022-08-20T10:11:02.071117",
     "exception": false,
     "start_time": "2022-08-20T10:10:48.498419",
     "status": "completed"
    },
    "tags": []
   },
   "outputs": [
    {
     "name": "stdout",
     "output_type": "stream",
     "text": [
      "Epoch 0, Loss 0.2501\n",
      "Training Accuracy: 0.6491, Testing Accuracy: 0.6305\n",
      "\n"
     ]
    },
    {
     "name": "stdout",
     "output_type": "stream",
     "text": [
      "Epoch 10, Loss 0.1056\n",
      "Training Accuracy: 0.8996, Testing Accuracy: 0.9143\n",
      "\n"
     ]
    },
    {
     "name": "stdout",
     "output_type": "stream",
     "text": [
      "Epoch 20, Loss 0.081\n",
      "Training Accuracy: 0.9220, Testing Accuracy: 0.9360\n",
      "\n"
     ]
    },
    {
     "name": "stdout",
     "output_type": "stream",
     "text": [
      "Epoch 30, Loss 0.0698\n",
      "Training Accuracy: 0.9326, Testing Accuracy: 0.9430\n",
      "\n"
     ]
    },
    {
     "name": "stdout",
     "output_type": "stream",
     "text": [
      "Epoch 40, Loss 0.063\n",
      "Training Accuracy: 0.9382, Testing Accuracy: 0.9451\n",
      "\n"
     ]
    },
    {
     "name": "stdout",
     "output_type": "stream",
     "text": [
      "Epoch 50, Loss 0.0583\n",
      "Training Accuracy: 0.9421, Testing Accuracy: 0.9506\n",
      "\n"
     ]
    },
    {
     "name": "stdout",
     "output_type": "stream",
     "text": [
      "Epoch 60, Loss 0.0549\n",
      "Training Accuracy: 0.9444, Testing Accuracy: 0.9556\n",
      "\n"
     ]
    },
    {
     "name": "stdout",
     "output_type": "stream",
     "text": [
      "Epoch 70, Loss 0.0523\n",
      "Training Accuracy: 0.9467, Testing Accuracy: 0.9607\n",
      "\n"
     ]
    },
    {
     "name": "stdout",
     "output_type": "stream",
     "text": [
      "Epoch 80, Loss 0.0502\n",
      "Training Accuracy: 0.9479, Testing Accuracy: 0.9612\n",
      "\n"
     ]
    },
    {
     "name": "stdout",
     "output_type": "stream",
     "text": [
      "Epoch 90, Loss 0.0484\n",
      "Training Accuracy: 0.9487, Testing Accuracy: 0.9617\n",
      "\n"
     ]
    },
    {
     "name": "stdout",
     "output_type": "stream",
     "text": [
      "Epoch 100, Loss 0.047\n",
      "Training Accuracy: 0.9493, Testing Accuracy: 0.9612\n",
      "\n"
     ]
    },
    {
     "name": "stdout",
     "output_type": "stream",
     "text": [
      "Epoch 110, Loss 0.0457\n",
      "Training Accuracy: 0.9503, Testing Accuracy: 0.9622\n",
      "\n"
     ]
    },
    {
     "name": "stdout",
     "output_type": "stream",
     "text": [
      "Epoch 120, Loss 0.0446\n",
      "Training Accuracy: 0.9516, Testing Accuracy: 0.9632\n",
      "\n"
     ]
    },
    {
     "name": "stdout",
     "output_type": "stream",
     "text": [
      "Epoch 130, Loss 0.0436\n",
      "Training Accuracy: 0.9523, Testing Accuracy: 0.9632\n",
      "\n"
     ]
    },
    {
     "name": "stdout",
     "output_type": "stream",
     "text": [
      "Epoch 140, Loss 0.0428\n",
      "Training Accuracy: 0.9531, Testing Accuracy: 0.9632\n",
      "\n"
     ]
    },
    {
     "name": "stdout",
     "output_type": "stream",
     "text": [
      "Epoch 150, Loss 0.042\n",
      "Training Accuracy: 0.9539, Testing Accuracy: 0.9637\n",
      "\n"
     ]
    },
    {
     "name": "stdout",
     "output_type": "stream",
     "text": [
      "Epoch 160, Loss 0.0413\n",
      "Training Accuracy: 0.9545, Testing Accuracy: 0.9632\n",
      "\n"
     ]
    },
    {
     "name": "stdout",
     "output_type": "stream",
     "text": [
      "Epoch 170, Loss 0.0407\n",
      "Training Accuracy: 0.9550, Testing Accuracy: 0.9642\n",
      "\n"
     ]
    },
    {
     "name": "stdout",
     "output_type": "stream",
     "text": [
      "Epoch 180, Loss 0.0401\n",
      "Training Accuracy: 0.9555, Testing Accuracy: 0.9647\n",
      "\n"
     ]
    },
    {
     "name": "stdout",
     "output_type": "stream",
     "text": [
      "Epoch 190, Loss 0.0396\n",
      "Training Accuracy: 0.9563, Testing Accuracy: 0.9647\n",
      "\n"
     ]
    },
    {
     "name": "stdout",
     "output_type": "stream",
     "text": [
      "Epoch 200, Loss 0.0391\n",
      "Training Accuracy: 0.9568, Testing Accuracy: 0.9647\n",
      "\n"
     ]
    },
    {
     "name": "stdout",
     "output_type": "stream",
     "text": [
      "Epoch 210, Loss 0.0386\n",
      "Training Accuracy: 0.9578, Testing Accuracy: 0.9647\n",
      "\n"
     ]
    },
    {
     "name": "stdout",
     "output_type": "stream",
     "text": [
      "Epoch 220, Loss 0.0382\n",
      "Training Accuracy: 0.9584, Testing Accuracy: 0.9657\n",
      "\n"
     ]
    },
    {
     "name": "stdout",
     "output_type": "stream",
     "text": [
      "Epoch 230, Loss 0.0378\n",
      "Training Accuracy: 0.9591, Testing Accuracy: 0.9657\n",
      "\n"
     ]
    },
    {
     "name": "stdout",
     "output_type": "stream",
     "text": [
      "Epoch 240, Loss 0.0374\n",
      "Training Accuracy: 0.9598, Testing Accuracy: 0.9657\n",
      "\n"
     ]
    },
    {
     "data": {
      "text/plain": [
       "0.0193978031721739"
      ]
     },
     "execution_count": 23,
     "metadata": {},
     "output_type": "execute_result"
    }
   ],
   "source": [
    "lr_learner.train_loop(dl)"
   ]
  },
  {
   "cell_type": "code",
   "execution_count": 24,
   "id": "ca410940",
   "metadata": {
    "execution": {
     "iopub.execute_input": "2022-08-20T10:11:02.169105Z",
     "iopub.status.busy": "2022-08-20T10:11:02.168506Z",
     "iopub.status.idle": "2022-08-20T10:11:02.395455Z",
     "shell.execute_reply": "2022-08-20T10:11:02.395950Z"
    },
    "papermill": {
     "duration": 0.28325,
     "end_time": "2022-08-20T10:11:02.396098",
     "exception": false,
     "start_time": "2022-08-20T10:11:02.112848",
     "status": "completed"
    },
    "tags": []
   },
   "outputs": [
    {
     "data": {
      "text/plain": [
       "<matplotlib.legend.Legend at 0x7fcd233f6f98>"
      ]
     },
     "execution_count": 24,
     "metadata": {},
     "output_type": "execute_result"
    },
    {
     "data": {
      "image/png": "[encoded data removed]",
      "text/plain": [
       "<Figure size 1080x720 with 1 Axes>"
      ]
     },
     "metadata": {
      "needs_background": "light"
     },
     "output_type": "display_data"
    }
   ],
   "source": [
    "#comparing the results of NN and LR\n",
    "plt.figure(figsize=(15,10))\n",
    "\n",
    "# Neural Network plots\n",
    "plt.plot(acc_nn.accuracies, 'r-', label = \"Training Accuracies - NN\")\n",
    "plt.plot(acc_nn.test_accuracies, 'g-', label = \"Testing Accuracies - NN\")\n",
    "\n",
    "# Logistic Regression plots\n",
    "plt.plot(acc_lr.accuracies, 'k-', label = \"Training Accuracies - LR\")\n",
    "plt.plot(acc_lr.test_accuracies, 'b-', label = \"Testing Accuracies - LR\")\n",
    "plt.legend()"
   ]
  },
  {
   "cell_type": "markdown",
   "id": "80dfb35c",
   "metadata": {
    "papermill": {
     "duration": 0.042059,
     "end_time": "2022-08-20T10:11:02.480499",
     "exception": false,
     "start_time": "2022-08-20T10:11:02.438440",
     "status": "completed"
    },
    "tags": []
   },
   "source": [
    "#### Plotting the outputs of this layer of the NN.\n"
   ]
  },
  {
   "cell_type": "code",
   "execution_count": 25,
   "id": "45eb2ff5",
   "metadata": {
    "execution": {
     "iopub.execute_input": "2022-08-20T10:11:02.568877Z",
     "iopub.status.busy": "2022-08-20T10:11:02.568286Z",
     "iopub.status.idle": "2022-08-20T10:11:02.589769Z",
     "shell.execute_reply": "2022-08-20T10:11:02.589282Z"
    },
    "papermill": {
     "duration": 0.067518,
     "end_time": "2022-08-20T10:11:02.589891",
     "exception": false,
     "start_time": "2022-08-20T10:11:02.522373",
     "status": "completed"
    },
    "tags": []
   },
   "outputs": [],
   "source": [
    "new_model = Model(layers[:-2])\n",
    "testing_plot = new_model(testing_data_x)"
   ]
  },
  {
   "cell_type": "code",
   "execution_count": 26,
   "id": "4c0a5485",
   "metadata": {
    "execution": {
     "iopub.execute_input": "2022-08-20T10:11:02.688901Z",
     "iopub.status.busy": "2022-08-20T10:11:02.688322Z",
     "iopub.status.idle": "2022-08-20T10:11:02.883219Z",
     "shell.execute_reply": "2022-08-20T10:11:02.882314Z"
    },
    "papermill": {
     "duration": 0.250225,
     "end_time": "2022-08-20T10:11:02.883357",
     "exception": false,
     "start_time": "2022-08-20T10:11:02.633132",
     "status": "completed"
    },
    "tags": []
   },
   "outputs": [
    {
     "data": {
      "text/plain": [
       "Text(0.5, 1.0, 'Outputs')"
      ]
     },
     "execution_count": 26,
     "metadata": {},
     "output_type": "execute_result"
    },
    {
     "data": {
      "image/png": "[encoded data removed]",
      "text/plain": [
       "<Figure size 576x504 with 1 Axes>"
      ]
     },
     "metadata": {
      "needs_background": "light"
     },
     "output_type": "display_data"
    }
   ],
   "source": [
    "# Plotting the scatter plot of points and color coding by class\n",
    "plt.figure(figsize=(8,7))\n",
    "plt.scatter(testing_plot[:,0], testing_plot[:,1], alpha = 0.1, c = y_test.ravel());\n",
    "plt.title('Outputs')"
   ]
  },
  {
   "cell_type": "markdown",
   "id": "a74fcf8f",
   "metadata": {
    "papermill": {
     "duration": 0.044879,
     "end_time": "2022-08-20T10:11:02.973542",
     "exception": false,
     "start_time": "2022-08-20T10:11:02.928663",
     "status": "completed"
    },
    "tags": []
   },
   "source": [
    "Probability contours"
   ]
  },
  {
   "cell_type": "code",
   "execution_count": 27,
   "id": "d0afc8e3",
   "metadata": {
    "execution": {
     "iopub.execute_input": "2022-08-20T10:11:03.098731Z",
     "iopub.status.busy": "2022-08-20T10:11:03.097971Z",
     "iopub.status.idle": "2022-08-20T10:11:03.109061Z",
     "shell.execute_reply": "2022-08-20T10:11:03.109561Z"
    },
    "papermill": {
     "duration": 0.091226,
     "end_time": "2022-08-20T10:11:03.109699",
     "exception": false,
     "start_time": "2022-08-20T10:11:03.018473",
     "status": "completed"
    },
    "tags": []
   },
   "outputs": [],
   "source": [
    "model_prob = Model(layers[-2:]) "
   ]
  },
  {
   "cell_type": "code",
   "execution_count": 28,
   "id": "9b96e238",
   "metadata": {
    "execution": {
     "iopub.execute_input": "2022-08-20T10:11:03.207657Z",
     "iopub.status.busy": "2022-08-20T10:11:03.207039Z",
     "iopub.status.idle": "2022-08-20T10:11:03.219126Z",
     "shell.execute_reply": "2022-08-20T10:11:03.219550Z"
    },
    "papermill": {
     "duration": 0.064537,
     "end_time": "2022-08-20T10:11:03.219720",
     "exception": false,
     "start_time": "2022-08-20T10:11:03.155183",
     "status": "completed"
    },
    "tags": []
   },
   "outputs": [],
   "source": [
    "#creating the x and y ranges according to the above generated plot.\n",
    "x_range = np.linspace(-4, 1, 100) \n",
    "y_range = np.linspace(-6, 6, 100) \n",
    "x_grid, y_grid = np.meshgrid(x_range, y_range) # x_grid and y_grig are of size 100 X 100\n",
    "\n",
    "# converting x_grid and y_grid to continuous arrays\n",
    "x_gridflat = np.ravel(x_grid)\n",
    "y_gridflat = np.ravel(y_grid)\n",
    "\n",
    "# The last layer of the current model takes two columns as input. Hence transpose of np.vstack() is required.\n",
    "X = np.vstack((x_gridflat, y_gridflat)).T\n",
    "\n",
    "prob_contour = model_prob(X).reshape(100,100) "
   ]
  },
  {
   "cell_type": "code",
   "execution_count": 29,
   "id": "da72499a",
   "metadata": {
    "execution": {
     "iopub.execute_input": "2022-08-20T10:11:03.325127Z",
     "iopub.status.busy": "2022-08-20T10:11:03.324535Z",
     "iopub.status.idle": "2022-08-20T10:11:03.558077Z",
     "shell.execute_reply": "2022-08-20T10:11:03.556967Z"
    },
    "papermill": {
     "duration": 0.293617,
     "end_time": "2022-08-20T10:11:03.558203",
     "exception": false,
     "start_time": "2022-08-20T10:11:03.264586",
     "status": "completed"
    },
    "tags": []
   },
   "outputs": [
    {
     "data": {
      "image/png": "[encoded data removed]",
      "text/plain": [
       "<Figure size 720x648 with 1 Axes>"
      ]
     },
     "metadata": {
      "needs_background": "light"
     },
     "output_type": "display_data"
    }
   ],
   "source": [
    "plt.figure(figsize=(10,9))\n",
    "plt.scatter(testing_plot[:,0], testing_plot[:,1], alpha = 0.1, c = y_test.ravel())\n",
    "contours = plt.contour(x_grid,y_grid,prob_contour)\n",
    "plt.title('Probability Contours')\n",
    "plt.clabel(contours, inline = True );"
   ]
  },
  {
   "cell_type": "code",
   "execution_count": null,
   "id": "e81b4ac7",
   "metadata": {
    "papermill": {
     "duration": 0.047313,
     "end_time": "2022-08-20T10:11:03.653634",
     "exception": false,
     "start_time": "2022-08-20T10:11:03.606321",
     "status": "completed"
    },
    "tags": []
   },
   "outputs": [],
   "source": []
  }
 ],
 "metadata": {
  "kernelspec": {
   "display_name": "Python 3",
   "language": "python",
   "name": "python3"
  },
  "language_info": {
   "codemirror_mode": {
    "name": "ipython",
    "version": 3
   },
   "file_extension": ".py",
   "mimetype": "text/x-python",
   "name": "python",
   "nbconvert_exporter": "python",
   "pygments_lexer": "ipython3",
   "version": "3.6.15"
  },
  "papermill": {
   "default_parameters": {},
   "duration": 96.732923,
   "end_time": "2022-08-20T10:11:04.120065",
   "environment_variables": {},
   "exception": null,
   "input_path": "2020-08-11-part2.ipynb",
   "output_path": "2020-08-11-part2.ipynb",
   "parameters": {},
   "start_time": "2022-08-20T10:09:27.387142",
   "version": "2.3.3"
  }
 },
 "nbformat": 4,
 "nbformat_minor": 5
}