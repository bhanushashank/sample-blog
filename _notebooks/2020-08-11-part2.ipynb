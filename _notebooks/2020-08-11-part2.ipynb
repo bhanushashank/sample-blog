{
 "cells": [
  {
   "cell_type": "markdown",
   "id": "98380cd3",
   "metadata": {
    "papermill": {
     "duration": 0.028379,
     "end_time": "2022-04-05T20:14:39.641831",
     "exception": false,
     "start_time": "2022-04-05T20:14:39.613452",
     "status": "completed"
    },
    "tags": []
   },
   "source": [
    "# Distinguish Your Own Digits (DYOD)"
   ]
  },
  {
   "cell_type": "markdown",
   "id": "ef31240d",
   "metadata": {
    "papermill": {
     "duration": 0.02541,
     "end_time": "2022-04-05T20:14:39.692254",
     "exception": false,
     "start_time": "2022-04-05T20:14:39.666844",
     "status": "completed"
    },
    "tags": []
   },
   "source": [
    "You are going to write a classifier that distinguishes between the number 3 and number 8."
   ]
  },
  {
   "cell_type": "code",
   "execution_count": 1,
   "id": "b15c8646",
   "metadata": {
    "execution": {
     "iopub.execute_input": "2022-04-05T20:14:39.750653Z",
     "iopub.status.busy": "2022-04-05T20:14:39.750128Z",
     "iopub.status.idle": "2022-04-05T20:14:39.759839Z",
     "shell.execute_reply": "2022-04-05T20:14:39.760271Z"
    },
    "papermill": {
     "duration": 0.04389,
     "end_time": "2022-04-05T20:14:39.760407",
     "exception": false,
     "start_time": "2022-04-05T20:14:39.716517",
     "status": "completed"
    },
    "tags": []
   },
   "outputs": [],
   "source": [
    "%load_ext autoreload\n",
    "%autoreload 2"
   ]
  },
  {
   "cell_type": "code",
   "execution_count": 2,
   "id": "22ef38dc",
   "metadata": {
    "execution": {
     "iopub.execute_input": "2022-04-05T20:14:39.812932Z",
     "iopub.status.busy": "2022-04-05T20:14:39.812448Z",
     "iopub.status.idle": "2022-04-05T20:14:40.370118Z",
     "shell.execute_reply": "2022-04-05T20:14:40.369674Z"
    },
    "papermill": {
     "duration": 0.58539,
     "end_time": "2022-04-05T20:14:40.370231",
     "exception": false,
     "start_time": "2022-04-05T20:14:39.784841",
     "status": "completed"
    },
    "tags": []
   },
   "outputs": [],
   "source": [
    "%matplotlib inline\n",
    "import numpy as np\n",
    "import matplotlib.pyplot as plt\n",
    "import pandas as pd"
   ]
  },
  {
   "cell_type": "markdown",
   "id": "ba036198",
   "metadata": {
    "papermill": {
     "duration": 0.024482,
     "end_time": "2022-04-05T20:14:40.419183",
     "exception": false,
     "start_time": "2022-04-05T20:14:40.394701",
     "status": "completed"
    },
    "tags": []
   },
   "source": [
    "From the command line run `pip install mnist`. This is a library that will help you bring down the mnist dataset. If you run this from a notebook, you need to put  `!pip install mnist` in a cell by itself."
   ]
  },
  {
   "cell_type": "code",
   "execution_count": 3,
   "id": "bb6ad8a1",
   "metadata": {
    "execution": {
     "iopub.execute_input": "2022-04-05T20:14:40.472429Z",
     "iopub.status.busy": "2022-04-05T20:14:40.471923Z",
     "iopub.status.idle": "2022-04-05T20:14:42.168055Z",
     "shell.execute_reply": "2022-04-05T20:14:42.167597Z"
    },
    "papermill": {
     "duration": 1.724548,
     "end_time": "2022-04-05T20:14:42.168169",
     "exception": false,
     "start_time": "2022-04-05T20:14:40.443621",
     "status": "completed"
    },
    "tags": []
   },
   "outputs": [
    {
     "name": "stdout",
     "output_type": "stream",
     "text": [
      "Collecting mnist\r\n"
     ]
    },
    {
     "name": "stdout",
     "output_type": "stream",
     "text": [
      "  Downloading mnist-0.2.2-py2.py3-none-any.whl (3.5 kB)\r\n",
      "Requirement already satisfied: numpy in /opt/hostedtoolcache/Python/3.6.15/x64/lib/python3.6/site-packages (from mnist) (1.19.5)\r\n"
     ]
    },
    {
     "name": "stdout",
     "output_type": "stream",
     "text": [
      "Installing collected packages: mnist\r\n",
      "Successfully installed mnist-0.2.2\r\n"
     ]
    }
   ],
   "source": [
    "!pip install mnist"
   ]
  },
  {
   "cell_type": "markdown",
   "id": "69df9c9a",
   "metadata": {
    "papermill": {
     "duration": 0.025374,
     "end_time": "2022-04-05T20:14:42.219049",
     "exception": false,
     "start_time": "2022-04-05T20:14:42.193675",
     "status": "completed"
    },
    "tags": []
   },
   "source": [
    "## Preparing the Data"
   ]
  },
  {
   "cell_type": "code",
   "execution_count": 4,
   "id": "7f69d806",
   "metadata": {
    "execution": {
     "iopub.execute_input": "2022-04-05T20:14:42.273011Z",
     "iopub.status.busy": "2022-04-05T20:14:42.272516Z",
     "iopub.status.idle": "2022-04-05T20:14:42.286621Z",
     "shell.execute_reply": "2022-04-05T20:14:42.286209Z"
    },
    "papermill": {
     "duration": 0.042434,
     "end_time": "2022-04-05T20:14:42.286727",
     "exception": false,
     "start_time": "2022-04-05T20:14:42.244293",
     "status": "completed"
    },
    "tags": []
   },
   "outputs": [],
   "source": [
    "import mnist"
   ]
  },
  {
   "cell_type": "code",
   "execution_count": 5,
   "id": "a411e44f",
   "metadata": {
    "execution": {
     "iopub.execute_input": "2022-04-05T20:14:42.340868Z",
     "iopub.status.busy": "2022-04-05T20:14:42.340374Z",
     "iopub.status.idle": "2022-04-05T20:14:43.028978Z",
     "shell.execute_reply": "2022-04-05T20:14:43.028542Z"
    },
    "papermill": {
     "duration": 0.716874,
     "end_time": "2022-04-05T20:14:43.029091",
     "exception": false,
     "start_time": "2022-04-05T20:14:42.312217",
     "status": "completed"
    },
    "tags": []
   },
   "outputs": [],
   "source": [
    "train_images = mnist.train_images()\n",
    "train_labels = mnist.train_labels()"
   ]
  },
  {
   "cell_type": "code",
   "execution_count": 6,
   "id": "dceab3a5",
   "metadata": {
    "execution": {
     "iopub.execute_input": "2022-04-05T20:14:43.084572Z",
     "iopub.status.busy": "2022-04-05T20:14:43.084002Z",
     "iopub.status.idle": "2022-04-05T20:14:43.096831Z",
     "shell.execute_reply": "2022-04-05T20:14:43.097248Z"
    },
    "papermill": {
     "duration": 0.042838,
     "end_time": "2022-04-05T20:14:43.097370",
     "exception": false,
     "start_time": "2022-04-05T20:14:43.054532",
     "status": "completed"
    },
    "tags": []
   },
   "outputs": [
    {
     "data": {
      "text/plain": [
       "((60000, 28, 28), (60000,))"
      ]
     },
     "execution_count": 6,
     "metadata": {},
     "output_type": "execute_result"
    }
   ],
   "source": [
    "train_images.shape, train_labels.shape"
   ]
  },
  {
   "cell_type": "code",
   "execution_count": 7,
   "id": "f50dc2bb",
   "metadata": {
    "execution": {
     "iopub.execute_input": "2022-04-05T20:14:43.152197Z",
     "iopub.status.busy": "2022-04-05T20:14:43.151673Z",
     "iopub.status.idle": "2022-04-05T20:14:43.493653Z",
     "shell.execute_reply": "2022-04-05T20:14:43.493212Z"
    },
    "papermill": {
     "duration": 0.370731,
     "end_time": "2022-04-05T20:14:43.493766",
     "exception": false,
     "start_time": "2022-04-05T20:14:43.123035",
     "status": "completed"
    },
    "tags": []
   },
   "outputs": [],
   "source": [
    "test_images = mnist.test_images()\n",
    "test_labels = mnist.test_labels()"
   ]
  },
  {
   "cell_type": "code",
   "execution_count": 8,
   "id": "fc38cf1b",
   "metadata": {
    "execution": {
     "iopub.execute_input": "2022-04-05T20:14:43.548690Z",
     "iopub.status.busy": "2022-04-05T20:14:43.548196Z",
     "iopub.status.idle": "2022-04-05T20:14:43.560152Z",
     "shell.execute_reply": "2022-04-05T20:14:43.560543Z"
    },
    "papermill": {
     "duration": 0.04093,
     "end_time": "2022-04-05T20:14:43.560658",
     "exception": false,
     "start_time": "2022-04-05T20:14:43.519728",
     "status": "completed"
    },
    "tags": []
   },
   "outputs": [
    {
     "data": {
      "text/plain": [
       "((10000, 28, 28), (10000,))"
      ]
     },
     "execution_count": 8,
     "metadata": {},
     "output_type": "execute_result"
    }
   ],
   "source": [
    "test_images.shape, test_labels.shape"
   ]
  },
  {
   "cell_type": "code",
   "execution_count": 9,
   "id": "f9ed8fe0",
   "metadata": {
    "execution": {
     "iopub.execute_input": "2022-04-05T20:14:43.615371Z",
     "iopub.status.busy": "2022-04-05T20:14:43.614882Z",
     "iopub.status.idle": "2022-04-05T20:14:43.746821Z",
     "shell.execute_reply": "2022-04-05T20:14:43.747234Z"
    },
    "papermill": {
     "duration": 0.160922,
     "end_time": "2022-04-05T20:14:43.747358",
     "exception": false,
     "start_time": "2022-04-05T20:14:43.586436",
     "status": "completed"
    },
    "tags": []
   },
   "outputs": [
    {
     "name": "stdout",
     "output_type": "stream",
     "text": [
      "2\n"
     ]
    },
    {
     "data": {
      "text/plain": [
       "<matplotlib.image.AxesImage at 0x7f7287b0b4a8>"
      ]
     },
     "execution_count": 9,
     "metadata": {},
     "output_type": "execute_result"
    },
    {
     "data": {
      "image/png": "[encoded data removed]",
      "text/plain": [
       "<Figure size 432x288 with 1 Axes>"
      ]
     },
     "metadata": {
      "needs_background": "light"
     },
     "output_type": "display_data"
    }
   ],
   "source": [
    "image_index = 7776 # You may select anything up to 60,000\n",
    "print(train_labels[image_index]) \n",
    "plt.imshow(train_images[image_index], cmap='Greys')"
   ]
  },
  {
   "cell_type": "markdown",
   "id": "a8d2388d",
   "metadata": {
    "papermill": {
     "duration": 0.026986,
     "end_time": "2022-04-05T20:14:43.801521",
     "exception": false,
     "start_time": "2022-04-05T20:14:43.774535",
     "status": "completed"
    },
    "tags": []
   },
   "source": [
    "## Filter data to get 3 and 8 out"
   ]
  },
  {
   "cell_type": "code",
   "execution_count": 10,
   "id": "776f7fc7",
   "metadata": {
    "execution": {
     "iopub.execute_input": "2022-04-05T20:14:43.858912Z",
     "iopub.status.busy": "2022-04-05T20:14:43.858406Z",
     "iopub.status.idle": "2022-04-05T20:14:43.873831Z",
     "shell.execute_reply": "2022-04-05T20:14:43.874250Z"
    },
    "papermill": {
     "duration": 0.045993,
     "end_time": "2022-04-05T20:14:43.874366",
     "exception": false,
     "start_time": "2022-04-05T20:14:43.828373",
     "status": "completed"
    },
    "tags": []
   },
   "outputs": [],
   "source": [
    "train_filter = np.where((train_labels == 3 ) | (train_labels == 8))\n",
    "test_filter = np.where((test_labels == 3) | (test_labels == 8))\n",
    "X_train, y_train = train_images[train_filter], train_labels[train_filter]\n",
    "X_test, y_test = test_images[test_filter], test_labels[test_filter]"
   ]
  },
  {
   "cell_type": "markdown",
   "id": "948f0b7e",
   "metadata": {
    "papermill": {
     "duration": 0.026899,
     "end_time": "2022-04-05T20:14:43.928313",
     "exception": false,
     "start_time": "2022-04-05T20:14:43.901414",
     "status": "completed"
    },
    "tags": []
   },
   "source": [
    "We normalize the pizel values in the 0 to 1 range"
   ]
  },
  {
   "cell_type": "code",
   "execution_count": 11,
   "id": "ee4c2166",
   "metadata": {
    "execution": {
     "iopub.execute_input": "2022-04-05T20:14:43.985534Z",
     "iopub.status.busy": "2022-04-05T20:14:43.985036Z",
     "iopub.status.idle": "2022-04-05T20:14:44.023245Z",
     "shell.execute_reply": "2022-04-05T20:14:44.023628Z"
    },
    "papermill": {
     "duration": 0.068662,
     "end_time": "2022-04-05T20:14:44.023757",
     "exception": false,
     "start_time": "2022-04-05T20:14:43.955095",
     "status": "completed"
    },
    "tags": []
   },
   "outputs": [],
   "source": [
    "X_train = X_train/255.\n",
    "X_test = X_test/255."
   ]
  },
  {
   "cell_type": "markdown",
   "id": "ddcf4fab",
   "metadata": {
    "papermill": {
     "duration": 0.026909,
     "end_time": "2022-04-05T20:14:44.077861",
     "exception": false,
     "start_time": "2022-04-05T20:14:44.050952",
     "status": "completed"
    },
    "tags": []
   },
   "source": [
    "And setup the labels as 1 (when the digit is 3) and 0 (when the digit is 8)"
   ]
  },
  {
   "cell_type": "code",
   "execution_count": 12,
   "id": "7dc908f2",
   "metadata": {
    "execution": {
     "iopub.execute_input": "2022-04-05T20:14:44.134935Z",
     "iopub.status.busy": "2022-04-05T20:14:44.134446Z",
     "iopub.status.idle": "2022-04-05T20:14:44.145071Z",
     "shell.execute_reply": "2022-04-05T20:14:44.145475Z"
    },
    "papermill": {
     "duration": 0.040939,
     "end_time": "2022-04-05T20:14:44.145588",
     "exception": false,
     "start_time": "2022-04-05T20:14:44.104649",
     "status": "completed"
    },
    "tags": []
   },
   "outputs": [],
   "source": [
    "y_train = 1*(y_train==3)\n",
    "y_test = 1*(y_test==3)"
   ]
  },
  {
   "cell_type": "code",
   "execution_count": 13,
   "id": "01e4e969",
   "metadata": {
    "execution": {
     "iopub.execute_input": "2022-04-05T20:14:44.202773Z",
     "iopub.status.busy": "2022-04-05T20:14:44.202285Z",
     "iopub.status.idle": "2022-04-05T20:14:44.214344Z",
     "shell.execute_reply": "2022-04-05T20:14:44.214713Z"
    },
    "papermill": {
     "duration": 0.042274,
     "end_time": "2022-04-05T20:14:44.214831",
     "exception": false,
     "start_time": "2022-04-05T20:14:44.172557",
     "status": "completed"
    },
    "tags": []
   },
   "outputs": [
    {
     "data": {
      "text/plain": [
       "((11982, 28, 28), (1984, 28, 28))"
      ]
     },
     "execution_count": 13,
     "metadata": {},
     "output_type": "execute_result"
    }
   ],
   "source": [
    "X_train.shape, X_test.shape"
   ]
  },
  {
   "cell_type": "markdown",
   "id": "5ccf3f85",
   "metadata": {
    "papermill": {
     "duration": 0.026964,
     "end_time": "2022-04-05T20:14:44.268861",
     "exception": false,
     "start_time": "2022-04-05T20:14:44.241897",
     "status": "completed"
    },
    "tags": []
   },
   "source": [
    "We reshape the data to flatten the image pixels into a set of features or co-variates:"
   ]
  },
  {
   "cell_type": "code",
   "execution_count": 14,
   "id": "5286a4a3",
   "metadata": {
    "execution": {
     "iopub.execute_input": "2022-04-05T20:14:44.326622Z",
     "iopub.status.busy": "2022-04-05T20:14:44.326134Z",
     "iopub.status.idle": "2022-04-05T20:14:44.339033Z",
     "shell.execute_reply": "2022-04-05T20:14:44.338624Z"
    },
    "papermill": {
     "duration": 0.043075,
     "end_time": "2022-04-05T20:14:44.339131",
     "exception": false,
     "start_time": "2022-04-05T20:14:44.296056",
     "status": "completed"
    },
    "tags": []
   },
   "outputs": [
    {
     "data": {
      "text/plain": [
       "((11982, 784), (1984, 784))"
      ]
     },
     "execution_count": 14,
     "metadata": {},
     "output_type": "execute_result"
    }
   ],
   "source": [
    "X_train = X_train.reshape(X_train.shape[0], -1)\n",
    "X_test = X_test.reshape(X_test.shape[0], -1)\n",
    "X_train.shape, X_test.shape"
   ]
  },
  {
   "cell_type": "code",
   "execution_count": 15,
   "id": "73c5f88a",
   "metadata": {
    "execution": {
     "iopub.execute_input": "2022-04-05T20:14:44.397997Z",
     "iopub.status.busy": "2022-04-05T20:14:44.397497Z",
     "iopub.status.idle": "2022-04-05T20:14:44.416240Z",
     "shell.execute_reply": "2022-04-05T20:14:44.415754Z"
    },
    "papermill": {
     "duration": 0.049749,
     "end_time": "2022-04-05T20:14:44.416344",
     "exception": false,
     "start_time": "2022-04-05T20:14:44.366595",
     "status": "completed"
    },
    "tags": []
   },
   "outputs": [],
   "source": [
    "#Impoting functions from 'Kudzu'\n",
    "from kudzu.model import Model\n",
    "from kudzu.train import Learner\n",
    "from kudzu.optim import GD\n",
    "from kudzu.data import Data, Sampler,Dataloader\n",
    "\n",
    "from kudzu.callbacks import AccCallback\n",
    "from kudzu.callbacks import ClfCallback\n",
    "\n",
    "from kudzu.loss import MSE\n",
    "\n",
    "from kudzu.layer import Sigmoid,Relu\n",
    "from kudzu.layer import Affine"
   ]
  },
  {
   "cell_type": "markdown",
   "id": "bc01172a",
   "metadata": {
    "papermill": {
     "duration": 0.027453,
     "end_time": "2022-04-05T20:14:44.471343",
     "exception": false,
     "start_time": "2022-04-05T20:14:44.443890",
     "status": "completed"
    },
    "tags": []
   },
   "source": [
    "### Let us create a `Config` class, to store important parameters. \n",
    "This class essentially plays the role of a dictionary."
   ]
  },
  {
   "cell_type": "code",
   "execution_count": 16,
   "id": "978281aa",
   "metadata": {
    "execution": {
     "iopub.execute_input": "2022-04-05T20:14:44.529967Z",
     "iopub.status.busy": "2022-04-05T20:14:44.529469Z",
     "iopub.status.idle": "2022-04-05T20:14:44.541025Z",
     "shell.execute_reply": "2022-04-05T20:14:44.540626Z"
    },
    "papermill": {
     "duration": 0.042324,
     "end_time": "2022-04-05T20:14:44.541126",
     "exception": false,
     "start_time": "2022-04-05T20:14:44.498802",
     "status": "completed"
    },
    "tags": []
   },
   "outputs": [],
   "source": [
    "class Config:\n",
    "    pass\n",
    "config = Config()\n",
    "config.lr = 0.001\n",
    "config.num_epochs = 250\n",
    "config.bs = 50"
   ]
  },
  {
   "cell_type": "markdown",
   "id": "1385fa59",
   "metadata": {
    "papermill": {
     "duration": 0.02731,
     "end_time": "2022-04-05T20:14:44.595829",
     "exception": false,
     "start_time": "2022-04-05T20:14:44.568519",
     "status": "completed"
    },
    "tags": []
   },
   "source": [
    "### Running Models with the Training data\n",
    "Details about the network layers:\n",
    "- A first affine layer has 784 inputs and does 100 affine transforms. These are followed by a Relu\n",
    "- A second affine layer has 100 inputs from the 100 activations of the past layer, and does 100 affine transforms. These are followed by a Relu\n",
    "- A third affine layer has 100 activations and does 2 affine transformations to create an embedding for visualization. There is no non-linearity here.\n",
    "- A final \"logistic regression\" which has an affine transform from 2 inputs to 1 output, which is squeezed through a sigmoid.\n"
   ]
  },
  {
   "cell_type": "code",
   "execution_count": 17,
   "id": "2b9c66db",
   "metadata": {
    "execution": {
     "iopub.execute_input": "2022-04-05T20:14:44.654484Z",
     "iopub.status.busy": "2022-04-05T20:14:44.653989Z",
     "iopub.status.idle": "2022-04-05T20:14:44.665593Z",
     "shell.execute_reply": "2022-04-05T20:14:44.665180Z"
    },
    "papermill": {
     "duration": 0.042356,
     "end_time": "2022-04-05T20:14:44.665697",
     "exception": false,
     "start_time": "2022-04-05T20:14:44.623341",
     "status": "completed"
    },
    "tags": []
   },
   "outputs": [],
   "source": [
    "data = Data(X_train, y_train.reshape(-1,1))\n",
    "sampler = Sampler(data, config.bs, shuffle=True)\n",
    "\n",
    "dl = Dataloader(data, sampler)\n",
    "\n",
    "opt = GD(config.lr)\n",
    "loss = MSE()"
   ]
  },
  {
   "cell_type": "code",
   "execution_count": 18,
   "id": "b275e4c2",
   "metadata": {
    "execution": {
     "iopub.execute_input": "2022-04-05T20:14:44.724104Z",
     "iopub.status.busy": "2022-04-05T20:14:44.723587Z",
     "iopub.status.idle": "2022-04-05T20:14:44.734669Z",
     "shell.execute_reply": "2022-04-05T20:14:44.735044Z"
    },
    "papermill": {
     "duration": 0.041897,
     "end_time": "2022-04-05T20:14:44.735161",
     "exception": false,
     "start_time": "2022-04-05T20:14:44.693264",
     "status": "completed"
    },
    "tags": []
   },
   "outputs": [],
   "source": [
    "training_data_x = X_train\n",
    "testing_data_x = X_test\n",
    "training_data_y = y_train.reshape(-1,1)\n",
    "testing_data_y = y_test.reshape(-1,1)"
   ]
  },
  {
   "cell_type": "code",
   "execution_count": 19,
   "id": "76951160",
   "metadata": {
    "execution": {
     "iopub.execute_input": "2022-04-05T20:14:44.793979Z",
     "iopub.status.busy": "2022-04-05T20:14:44.793475Z",
     "iopub.status.idle": "2022-04-05T20:14:44.809083Z",
     "shell.execute_reply": "2022-04-05T20:14:44.808670Z"
    },
    "papermill": {
     "duration": 0.046332,
     "end_time": "2022-04-05T20:14:44.809178",
     "exception": false,
     "start_time": "2022-04-05T20:14:44.762846",
     "status": "completed"
    },
    "tags": []
   },
   "outputs": [
    {
     "name": "stdout",
     "output_type": "stream",
     "text": [
      "xavier\n",
      "xavier\n",
      "xavier\n",
      "xavier\n",
      "xavier\n"
     ]
    }
   ],
   "source": [
    "layers = [Affine(\"first\", 784, 100), Relu(\"first\"), Affine(\"second\", 100, 100), Relu(\"second\"), Affine(\"third\", 100, 2), Affine(\"last\", 2, 1), Sigmoid(\"last\")]\n",
    "model_nn = Model(layers)\n",
    "model_lr = Model([Affine(\"logits\", 784, 1), Sigmoid(\"sigmoid\")])"
   ]
  },
  {
   "cell_type": "code",
   "execution_count": 20,
   "id": "6eede77a",
   "metadata": {
    "execution": {
     "iopub.execute_input": "2022-04-05T20:14:44.867806Z",
     "iopub.status.busy": "2022-04-05T20:14:44.867318Z",
     "iopub.status.idle": "2022-04-05T20:14:44.878552Z",
     "shell.execute_reply": "2022-04-05T20:14:44.878155Z"
    },
    "papermill": {
     "duration": 0.041784,
     "end_time": "2022-04-05T20:14:44.878652",
     "exception": false,
     "start_time": "2022-04-05T20:14:44.836868",
     "status": "completed"
    },
    "tags": []
   },
   "outputs": [],
   "source": [
    "nn_learner = Learner(loss, model_nn, opt, config.num_epochs)\n",
    "acc_nn = ClfCallback(nn_learner, config.bs, training_data_x , testing_data_x, training_data_y, testing_data_y)\n",
    "nn_learner.set_callbacks([acc_nn])"
   ]
  },
  {
   "cell_type": "code",
   "execution_count": 21,
   "id": "877b6cc7",
   "metadata": {
    "execution": {
     "iopub.execute_input": "2022-04-05T20:14:44.937313Z",
     "iopub.status.busy": "2022-04-05T20:14:44.936830Z",
     "iopub.status.idle": "2022-04-05T20:14:44.948370Z",
     "shell.execute_reply": "2022-04-05T20:14:44.947963Z"
    },
    "papermill": {
     "duration": 0.042071,
     "end_time": "2022-04-05T20:14:44.948472",
     "exception": false,
     "start_time": "2022-04-05T20:14:44.906401",
     "status": "completed"
    },
    "tags": []
   },
   "outputs": [],
   "source": [
    "lr_learner = Learner(loss, model_lr, opt, config.num_epochs)\n",
    "acc_lr = ClfCallback(lr_learner, config.bs, training_data_x , testing_data_x, training_data_y, testing_data_y)\n",
    "lr_learner.set_callbacks([acc_lr])"
   ]
  },
  {
   "cell_type": "code",
   "execution_count": 22,
   "id": "d9b133c3",
   "metadata": {
    "execution": {
     "iopub.execute_input": "2022-04-05T20:14:45.006984Z",
     "iopub.status.busy": "2022-04-05T20:14:45.006489Z",
     "iopub.status.idle": "2022-04-05T20:17:40.364892Z",
     "shell.execute_reply": "2022-04-05T20:17:40.365314Z"
    },
    "papermill": {
     "duration": 175.389336,
     "end_time": "2022-04-05T20:17:40.365445",
     "exception": false,
     "start_time": "2022-04-05T20:14:44.976109",
     "status": "completed"
    },
    "tags": []
   },
   "outputs": [
    {
     "name": "stdout",
     "output_type": "stream",
     "text": [
      "Epoch 0, Loss 0.2511\n",
      "Training Accuracy: 0.5155, Testing Accuracy: 0.5192\n",
      "\n"
     ]
    },
    {
     "name": "stdout",
     "output_type": "stream",
     "text": [
      "Epoch 10, Loss 0.1638\n",
      "Training Accuracy: 0.8916, Testing Accuracy: 0.9057\n",
      "\n"
     ]
    },
    {
     "name": "stdout",
     "output_type": "stream",
     "text": [
      "Epoch 20, Loss 0.0809\n",
      "Training Accuracy: 0.9240, Testing Accuracy: 0.9345\n",
      "\n"
     ]
    },
    {
     "name": "stdout",
     "output_type": "stream",
     "text": [
      "Epoch 30, Loss 0.0558\n",
      "Training Accuracy: 0.9398, Testing Accuracy: 0.9456\n",
      "\n"
     ]
    },
    {
     "name": "stdout",
     "output_type": "stream",
     "text": [
      "Epoch 40, Loss 0.0456\n",
      "Training Accuracy: 0.9488, Testing Accuracy: 0.9577\n",
      "\n"
     ]
    },
    {
     "name": "stdout",
     "output_type": "stream",
     "text": [
      "Epoch 50, Loss 0.0401\n",
      "Training Accuracy: 0.9533, Testing Accuracy: 0.9622\n",
      "\n"
     ]
    },
    {
     "name": "stdout",
     "output_type": "stream",
     "text": [
      "Epoch 60, Loss 0.0366\n",
      "Training Accuracy: 0.9567, Testing Accuracy: 0.9642\n",
      "\n"
     ]
    },
    {
     "name": "stdout",
     "output_type": "stream",
     "text": [
      "Epoch 70, Loss 0.0341\n",
      "Training Accuracy: 0.9598, Testing Accuracy: 0.9662\n",
      "\n"
     ]
    },
    {
     "name": "stdout",
     "output_type": "stream",
     "text": [
      "Epoch 80, Loss 0.0322\n",
      "Training Accuracy: 0.9623, Testing Accuracy: 0.9662\n",
      "\n"
     ]
    },
    {
     "name": "stdout",
     "output_type": "stream",
     "text": [
      "Epoch 90, Loss 0.0307\n",
      "Training Accuracy: 0.9638, Testing Accuracy: 0.9667\n",
      "\n"
     ]
    },
    {
     "name": "stdout",
     "output_type": "stream",
     "text": [
      "Epoch 100, Loss 0.0294\n",
      "Training Accuracy: 0.9658, Testing Accuracy: 0.9672\n",
      "\n"
     ]
    },
    {
     "name": "stdout",
     "output_type": "stream",
     "text": [
      "Epoch 110, Loss 0.0283\n",
      "Training Accuracy: 0.9664, Testing Accuracy: 0.9703\n",
      "\n"
     ]
    },
    {
     "name": "stdout",
     "output_type": "stream",
     "text": [
      "Epoch 120, Loss 0.0274\n",
      "Training Accuracy: 0.9675, Testing Accuracy: 0.9698\n",
      "\n"
     ]
    },
    {
     "name": "stdout",
     "output_type": "stream",
     "text": [
      "Epoch 130, Loss 0.0265\n",
      "Training Accuracy: 0.9685, Testing Accuracy: 0.9708\n",
      "\n"
     ]
    },
    {
     "name": "stdout",
     "output_type": "stream",
     "text": [
      "Epoch 140, Loss 0.0258\n",
      "Training Accuracy: 0.9697, Testing Accuracy: 0.9703\n",
      "\n"
     ]
    },
    {
     "name": "stdout",
     "output_type": "stream",
     "text": [
      "Epoch 150, Loss 0.0251\n",
      "Training Accuracy: 0.9706, Testing Accuracy: 0.9698\n",
      "\n"
     ]
    },
    {
     "name": "stdout",
     "output_type": "stream",
     "text": [
      "Epoch 160, Loss 0.0245\n",
      "Training Accuracy: 0.9712, Testing Accuracy: 0.9703\n",
      "\n"
     ]
    },
    {
     "name": "stdout",
     "output_type": "stream",
     "text": [
      "Epoch 170, Loss 0.0239\n",
      "Training Accuracy: 0.9717, Testing Accuracy: 0.9703\n",
      "\n"
     ]
    },
    {
     "name": "stdout",
     "output_type": "stream",
     "text": [
      "Epoch 180, Loss 0.0234\n",
      "Training Accuracy: 0.9724, Testing Accuracy: 0.9703\n",
      "\n"
     ]
    },
    {
     "name": "stdout",
     "output_type": "stream",
     "text": [
      "Epoch 190, Loss 0.0229\n",
      "Training Accuracy: 0.9727, Testing Accuracy: 0.9703\n",
      "\n"
     ]
    },
    {
     "name": "stdout",
     "output_type": "stream",
     "text": [
      "Epoch 200, Loss 0.0224\n",
      "Training Accuracy: 0.9732, Testing Accuracy: 0.9708\n",
      "\n"
     ]
    },
    {
     "name": "stdout",
     "output_type": "stream",
     "text": [
      "Epoch 210, Loss 0.022\n",
      "Training Accuracy: 0.9742, Testing Accuracy: 0.9703\n",
      "\n"
     ]
    },
    {
     "name": "stdout",
     "output_type": "stream",
     "text": [
      "Epoch 220, Loss 0.0216\n",
      "Training Accuracy: 0.9748, Testing Accuracy: 0.9708\n",
      "\n"
     ]
    },
    {
     "name": "stdout",
     "output_type": "stream",
     "text": [
      "Epoch 230, Loss 0.0212\n",
      "Training Accuracy: 0.9753, Testing Accuracy: 0.9718\n",
      "\n"
     ]
    },
    {
     "name": "stdout",
     "output_type": "stream",
     "text": [
      "Epoch 240, Loss 0.0208\n",
      "Training Accuracy: 0.9757, Testing Accuracy: 0.9723\n",
      "\n"
     ]
    },
    {
     "data": {
      "text/plain": [
       "0.020572812009429127"
      ]
     },
     "execution_count": 22,
     "metadata": {},
     "output_type": "execute_result"
    }
   ],
   "source": [
    "nn_learner.train_loop(dl)"
   ]
  },
  {
   "cell_type": "code",
   "execution_count": 23,
   "id": "e0163366",
   "metadata": {
    "execution": {
     "iopub.execute_input": "2022-04-05T20:17:40.441566Z",
     "iopub.status.busy": "2022-04-05T20:17:40.440534Z",
     "iopub.status.idle": "2022-04-05T20:17:52.725990Z",
     "shell.execute_reply": "2022-04-05T20:17:52.726625Z"
    },
    "papermill": {
     "duration": 12.325569,
     "end_time": "2022-04-05T20:17:52.726760",
     "exception": false,
     "start_time": "2022-04-05T20:17:40.401191",
     "status": "completed"
    },
    "tags": []
   },
   "outputs": [
    {
     "name": "stdout",
     "output_type": "stream",
     "text": [
      "Epoch 0, Loss 0.2465\n",
      "Training Accuracy: 0.6438, Testing Accuracy: 0.6603\n",
      "\n"
     ]
    },
    {
     "name": "stdout",
     "output_type": "stream",
     "text": [
      "Epoch 10, Loss 0.1045\n",
      "Training Accuracy: 0.9022, Testing Accuracy: 0.9123\n",
      "\n"
     ]
    },
    {
     "name": "stdout",
     "output_type": "stream",
     "text": [
      "Epoch 20, Loss 0.0807\n",
      "Training Accuracy: 0.9220, Testing Accuracy: 0.9320\n",
      "\n"
     ]
    },
    {
     "name": "stdout",
     "output_type": "stream",
     "text": [
      "Epoch 30, Loss 0.0696\n",
      "Training Accuracy: 0.9311, Testing Accuracy: 0.9405\n",
      "\n"
     ]
    },
    {
     "name": "stdout",
     "output_type": "stream",
     "text": [
      "Epoch 40, Loss 0.0627\n",
      "Training Accuracy: 0.9361, Testing Accuracy: 0.9466\n",
      "\n"
     ]
    },
    {
     "name": "stdout",
     "output_type": "stream",
     "text": [
      "Epoch 50, Loss 0.0581\n",
      "Training Accuracy: 0.9390, Testing Accuracy: 0.9496\n",
      "\n"
     ]
    },
    {
     "name": "stdout",
     "output_type": "stream",
     "text": [
      "Epoch 60, Loss 0.0546\n",
      "Training Accuracy: 0.9430, Testing Accuracy: 0.9551\n",
      "\n"
     ]
    },
    {
     "name": "stdout",
     "output_type": "stream",
     "text": [
      "Epoch 70, Loss 0.0519\n",
      "Training Accuracy: 0.9462, Testing Accuracy: 0.9582\n",
      "\n"
     ]
    },
    {
     "name": "stdout",
     "output_type": "stream",
     "text": [
      "Epoch 80, Loss 0.0498\n",
      "Training Accuracy: 0.9481, Testing Accuracy: 0.9607\n",
      "\n"
     ]
    },
    {
     "name": "stdout",
     "output_type": "stream",
     "text": [
      "Epoch 90, Loss 0.048\n",
      "Training Accuracy: 0.9503, Testing Accuracy: 0.9612\n",
      "\n"
     ]
    },
    {
     "name": "stdout",
     "output_type": "stream",
     "text": [
      "Epoch 100, Loss 0.0465\n",
      "Training Accuracy: 0.9522, Testing Accuracy: 0.9627\n",
      "\n"
     ]
    },
    {
     "name": "stdout",
     "output_type": "stream",
     "text": [
      "Epoch 110, Loss 0.0452\n",
      "Training Accuracy: 0.9532, Testing Accuracy: 0.9627\n",
      "\n"
     ]
    },
    {
     "name": "stdout",
     "output_type": "stream",
     "text": [
      "Epoch 120, Loss 0.0441\n",
      "Training Accuracy: 0.9546, Testing Accuracy: 0.9637\n",
      "\n"
     ]
    },
    {
     "name": "stdout",
     "output_type": "stream",
     "text": [
      "Epoch 130, Loss 0.0431\n",
      "Training Accuracy: 0.9550, Testing Accuracy: 0.9637\n",
      "\n"
     ]
    },
    {
     "name": "stdout",
     "output_type": "stream",
     "text": [
      "Epoch 140, Loss 0.0423\n",
      "Training Accuracy: 0.9559, Testing Accuracy: 0.9647\n",
      "\n"
     ]
    },
    {
     "name": "stdout",
     "output_type": "stream",
     "text": [
      "Epoch 150, Loss 0.0415\n",
      "Training Accuracy: 0.9569, Testing Accuracy: 0.9652\n",
      "\n"
     ]
    },
    {
     "name": "stdout",
     "output_type": "stream",
     "text": [
      "Epoch 160, Loss 0.0408\n",
      "Training Accuracy: 0.9574, Testing Accuracy: 0.9647\n",
      "\n"
     ]
    },
    {
     "name": "stdout",
     "output_type": "stream",
     "text": [
      "Epoch 170, Loss 0.0402\n",
      "Training Accuracy: 0.9578, Testing Accuracy: 0.9657\n",
      "\n"
     ]
    },
    {
     "name": "stdout",
     "output_type": "stream",
     "text": [
      "Epoch 180, Loss 0.0396\n",
      "Training Accuracy: 0.9582, Testing Accuracy: 0.9657\n",
      "\n"
     ]
    },
    {
     "name": "stdout",
     "output_type": "stream",
     "text": [
      "Epoch 190, Loss 0.039\n",
      "Training Accuracy: 0.9586, Testing Accuracy: 0.9662\n",
      "\n"
     ]
    },
    {
     "name": "stdout",
     "output_type": "stream",
     "text": [
      "Epoch 200, Loss 0.0386\n",
      "Training Accuracy: 0.9589, Testing Accuracy: 0.9667\n",
      "\n"
     ]
    },
    {
     "name": "stdout",
     "output_type": "stream",
     "text": [
      "Epoch 210, Loss 0.0381\n",
      "Training Accuracy: 0.9594, Testing Accuracy: 0.9672\n",
      "\n"
     ]
    },
    {
     "name": "stdout",
     "output_type": "stream",
     "text": [
      "Epoch 220, Loss 0.0377\n",
      "Training Accuracy: 0.9599, Testing Accuracy: 0.9677\n",
      "\n"
     ]
    },
    {
     "name": "stdout",
     "output_type": "stream",
     "text": [
      "Epoch 230, Loss 0.0373\n",
      "Training Accuracy: 0.9606, Testing Accuracy: 0.9677\n",
      "\n"
     ]
    },
    {
     "name": "stdout",
     "output_type": "stream",
     "text": [
      "Epoch 240, Loss 0.0369\n",
      "Training Accuracy: 0.9608, Testing Accuracy: 0.9677\n",
      "\n"
     ]
    },
    {
     "data": {
      "text/plain": [
       "0.02066411184079662"
      ]
     },
     "execution_count": 23,
     "metadata": {},
     "output_type": "execute_result"
    }
   ],
   "source": [
    "lr_learner.train_loop(dl)"
   ]
  },
  {
   "cell_type": "code",
   "execution_count": 24,
   "id": "ca410940",
   "metadata": {
    "execution": {
     "iopub.execute_input": "2022-04-05T20:17:52.820382Z",
     "iopub.status.busy": "2022-04-05T20:17:52.819151Z",
     "iopub.status.idle": "2022-04-05T20:17:53.041744Z",
     "shell.execute_reply": "2022-04-05T20:17:53.041316Z"
    },
    "papermill": {
     "duration": 0.272274,
     "end_time": "2022-04-05T20:17:53.041859",
     "exception": false,
     "start_time": "2022-04-05T20:17:52.769585",
     "status": "completed"
    },
    "tags": []
   },
   "outputs": [
    {
     "data": {
      "text/plain": [
       "<matplotlib.legend.Legend at 0x7f72876e9c88>"
      ]
     },
     "execution_count": 24,
     "metadata": {},
     "output_type": "execute_result"
    },
    {
     "data": {
      "image/png": "[encoded data removed]",
      "text/plain": [
       "<Figure size 1080x720 with 1 Axes>"
      ]
     },
     "metadata": {
      "needs_background": "light"
     },
     "output_type": "display_data"
    }
   ],
   "source": [
    "#comparing the results of NN and LR\n",
    "plt.figure(figsize=(15,10))\n",
    "\n",
    "# Neural Network plots\n",
    "plt.plot(acc_nn.accuracies, 'r-', label = \"Training Accuracies - NN\")\n",
    "plt.plot(acc_nn.test_accuracies, 'g-', label = \"Testing Accuracies - NN\")\n",
    "\n",
    "# Logistic Regression plots\n",
    "plt.plot(acc_lr.accuracies, 'k-', label = \"Training Accuracies - LR\")\n",
    "plt.plot(acc_lr.test_accuracies, 'b-', label = \"Testing Accuracies - LR\")\n",
    "plt.legend()"
   ]
  },
  {
   "cell_type": "markdown",
   "id": "80dfb35c",
   "metadata": {
    "papermill": {
     "duration": 0.04292,
     "end_time": "2022-04-05T20:17:53.128418",
     "exception": false,
     "start_time": "2022-04-05T20:17:53.085498",
     "status": "completed"
    },
    "tags": []
   },
   "source": [
    "#### Plotting the outputs of this layer of the NN.\n"
   ]
  },
  {
   "cell_type": "code",
   "execution_count": 25,
   "id": "45eb2ff5",
   "metadata": {
    "execution": {
     "iopub.execute_input": "2022-04-05T20:17:53.217972Z",
     "iopub.status.busy": "2022-04-05T20:17:53.217460Z",
     "iopub.status.idle": "2022-04-05T20:17:53.252191Z",
     "shell.execute_reply": "2022-04-05T20:17:53.252590Z"
    },
    "papermill": {
     "duration": 0.081442,
     "end_time": "2022-04-05T20:17:53.252721",
     "exception": false,
     "start_time": "2022-04-05T20:17:53.171279",
     "status": "completed"
    },
    "tags": []
   },
   "outputs": [],
   "source": [
    "new_model = Model(layers[:-2])\n",
    "testing_plot = new_model(testing_data_x)"
   ]
  },
  {
   "cell_type": "code",
   "execution_count": 26,
   "id": "4c0a5485",
   "metadata": {
    "execution": {
     "iopub.execute_input": "2022-04-05T20:17:53.346893Z",
     "iopub.status.busy": "2022-04-05T20:17:53.346253Z",
     "iopub.status.idle": "2022-04-05T20:17:53.545017Z",
     "shell.execute_reply": "2022-04-05T20:17:53.545414Z"
    },
    "papermill": {
     "duration": 0.249327,
     "end_time": "2022-04-05T20:17:53.545540",
     "exception": false,
     "start_time": "2022-04-05T20:17:53.296213",
     "status": "completed"
    },
    "tags": []
   },
   "outputs": [
    {
     "data": {
      "text/plain": [
       "Text(0.5, 1.0, 'Outputs')"
      ]
     },
     "execution_count": 26,
     "metadata": {},
     "output_type": "execute_result"
    },
    {
     "data": {
      "image/png": "[encoded data removed]",
      "text/plain": [
       "<Figure size 576x504 with 1 Axes>"
      ]
     },
     "metadata": {
      "needs_background": "light"
     },
     "output_type": "display_data"
    }
   ],
   "source": [
    "# Plotting the scatter plot of points and color coding by class\n",
    "plt.figure(figsize=(8,7))\n",
    "plt.scatter(testing_plot[:,0], testing_plot[:,1], alpha = 0.1, c = y_test.ravel());\n",
    "plt.title('Outputs')"
   ]
  },
  {
   "cell_type": "markdown",
   "id": "a74fcf8f",
   "metadata": {
    "papermill": {
     "duration": 0.04519,
     "end_time": "2022-04-05T20:17:53.635983",
     "exception": false,
     "start_time": "2022-04-05T20:17:53.590793",
     "status": "completed"
    },
    "tags": []
   },
   "source": [
    "Probability contours"
   ]
  },
  {
   "cell_type": "code",
   "execution_count": 27,
   "id": "d0afc8e3",
   "metadata": {
    "execution": {
     "iopub.execute_input": "2022-04-05T20:17:53.740574Z",
     "iopub.status.busy": "2022-04-05T20:17:53.739210Z",
     "iopub.status.idle": "2022-04-05T20:17:53.743837Z",
     "shell.execute_reply": "2022-04-05T20:17:53.744402Z"
    },
    "papermill": {
     "duration": 0.06319,
     "end_time": "2022-04-05T20:17:53.744537",
     "exception": false,
     "start_time": "2022-04-05T20:17:53.681347",
     "status": "completed"
    },
    "tags": []
   },
   "outputs": [],
   "source": [
    "model_prob = Model(layers[-2:]) "
   ]
  },
  {
   "cell_type": "code",
   "execution_count": 28,
   "id": "9b96e238",
   "metadata": {
    "execution": {
     "iopub.execute_input": "2022-04-05T20:17:53.861070Z",
     "iopub.status.busy": "2022-04-05T20:17:53.860567Z",
     "iopub.status.idle": "2022-04-05T20:17:53.872813Z",
     "shell.execute_reply": "2022-04-05T20:17:53.873212Z"
    },
    "papermill": {
     "duration": 0.06185,
     "end_time": "2022-04-05T20:17:53.873337",
     "exception": false,
     "start_time": "2022-04-05T20:17:53.811487",
     "status": "completed"
    },
    "tags": []
   },
   "outputs": [],
   "source": [
    "#creating the x and y ranges according to the above generated plot.\n",
    "x_range = np.linspace(-4, 1, 100) \n",
    "y_range = np.linspace(-6, 6, 100) \n",
    "x_grid, y_grid = np.meshgrid(x_range, y_range) # x_grid and y_grig are of size 100 X 100\n",
    "\n",
    "# converting x_grid and y_grid to continuous arrays\n",
    "x_gridflat = np.ravel(x_grid)\n",
    "y_gridflat = np.ravel(y_grid)\n",
    "\n",
    "# The last layer of the current model takes two columns as input. Hence transpose of np.vstack() is required.\n",
    "X = np.vstack((x_gridflat, y_gridflat)).T\n",
    "\n",
    "prob_contour = model_prob(X).reshape(100,100) "
   ]
  },
  {
   "cell_type": "code",
   "execution_count": 29,
   "id": "da72499a",
   "metadata": {
    "execution": {
     "iopub.execute_input": "2022-04-05T20:17:53.968430Z",
     "iopub.status.busy": "2022-04-05T20:17:53.967955Z",
     "iopub.status.idle": "2022-04-05T20:17:54.218609Z",
     "shell.execute_reply": "2022-04-05T20:17:54.218176Z"
    },
    "papermill": {
     "duration": 0.299618,
     "end_time": "2022-04-05T20:17:54.218720",
     "exception": false,
     "start_time": "2022-04-05T20:17:53.919102",
     "status": "completed"
    },
    "tags": []
   },
   "outputs": [
    {
     "data": {
      "image/png": "[encoded data removed]",
      "text/plain": [
       "<Figure size 720x648 with 1 Axes>"
      ]
     },
     "metadata": {
      "needs_background": "light"
     },
     "output_type": "display_data"
    }
   ],
   "source": [
    "plt.figure(figsize=(10,9))\n",
    "plt.scatter(testing_plot[:,0], testing_plot[:,1], alpha = 0.1, c = y_test.ravel())\n",
    "contours = plt.contour(x_grid,y_grid,prob_contour)\n",
    "plt.title('Probability Contours')\n",
    "plt.clabel(contours, inline = True );"
   ]
  },
  {
   "cell_type": "code",
   "execution_count": null,
   "id": "e81b4ac7",
   "metadata": {
    "papermill": {
     "duration": 0.048292,
     "end_time": "2022-04-05T20:17:54.315410",
     "exception": false,
     "start_time": "2022-04-05T20:17:54.267118",
     "status": "completed"
    },
    "tags": []
   },
   "outputs": [],
   "source": []
  }
 ],
 "metadata": {
  "kernelspec": {
   "display_name": "Python 3",
   "language": "python",
   "name": "python3"
  },
  "language_info": {
   "codemirror_mode": {
    "name": "ipython",
    "version": 3
   },
   "file_extension": ".py",
   "mimetype": "text/x-python",
   "name": "python",
   "nbconvert_exporter": "python",
   "pygments_lexer": "ipython3",
   "version": "3.6.15"
  },
  "papermill": {
   "default_parameters": {},
   "duration": 195.97886,
   "end_time": "2022-04-05T20:17:54.680125",
   "environment_variables": {},
   "exception": null,
   "input_path": "2020-08-11-part2.ipynb",
   "output_path": "2020-08-11-part2.ipynb",
   "parameters": {},
   "start_time": "2022-04-05T20:14:38.701265",
   "version": "2.3.3"
  }
 },
 "nbformat": 4,
 "nbformat_minor": 5
}