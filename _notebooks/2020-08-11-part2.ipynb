{
 "cells": [
  {
   "cell_type": "markdown",
   "id": "98380cd3",
   "metadata": {
    "papermill": {
     "duration": 0.028087,
     "end_time": "2021-12-08T10:08:44.073915",
     "exception": false,
     "start_time": "2021-12-08T10:08:44.045828",
     "status": "completed"
    },
    "tags": []
   },
   "source": [
    "# Distinguish Your Own Digits (DYOD)"
   ]
  },
  {
   "cell_type": "markdown",
   "id": "ef31240d",
   "metadata": {
    "papermill": {
     "duration": 0.02419,
     "end_time": "2021-12-08T10:08:44.122773",
     "exception": false,
     "start_time": "2021-12-08T10:08:44.098583",
     "status": "completed"
    },
    "tags": []
   },
   "source": [
    "You are going to write a classifier that distinguishes between the number 3 and number 8."
   ]
  },
  {
   "cell_type": "code",
   "execution_count": 1,
   "id": "b15c8646",
   "metadata": {
    "execution": {
     "iopub.execute_input": "2021-12-08T10:08:44.182880Z",
     "iopub.status.busy": "2021-12-08T10:08:44.182317Z",
     "iopub.status.idle": "2021-12-08T10:08:44.192540Z",
     "shell.execute_reply": "2021-12-08T10:08:44.192104Z"
    },
    "papermill": {
     "duration": 0.046194,
     "end_time": "2021-12-08T10:08:44.192681",
     "exception": false,
     "start_time": "2021-12-08T10:08:44.146487",
     "status": "completed"
    },
    "tags": []
   },
   "outputs": [],
   "source": [
    "%load_ext autoreload\n",
    "%autoreload 2"
   ]
  },
  {
   "cell_type": "code",
   "execution_count": 2,
   "id": "22ef38dc",
   "metadata": {
    "execution": {
     "iopub.execute_input": "2021-12-08T10:08:44.245599Z",
     "iopub.status.busy": "2021-12-08T10:08:44.245075Z",
     "iopub.status.idle": "2021-12-08T10:08:44.847570Z",
     "shell.execute_reply": "2021-12-08T10:08:44.846997Z"
    },
    "papermill": {
     "duration": 0.631034,
     "end_time": "2021-12-08T10:08:44.847723",
     "exception": false,
     "start_time": "2021-12-08T10:08:44.216689",
     "status": "completed"
    },
    "tags": []
   },
   "outputs": [],
   "source": [
    "%matplotlib inline\n",
    "import numpy as np\n",
    "import matplotlib.pyplot as plt\n",
    "import pandas as pd"
   ]
  },
  {
   "cell_type": "markdown",
   "id": "ba036198",
   "metadata": {
    "papermill": {
     "duration": 0.024041,
     "end_time": "2021-12-08T10:08:44.896246",
     "exception": false,
     "start_time": "2021-12-08T10:08:44.872205",
     "status": "completed"
    },
    "tags": []
   },
   "source": [
    "From the command line run `pip install mnist`. This is a library that will help you bring down the mnist dataset. If you run this from a notebook, you need to put  `!pip install mnist` in a cell by itself."
   ]
  },
  {
   "cell_type": "code",
   "execution_count": 3,
   "id": "bb6ad8a1",
   "metadata": {
    "execution": {
     "iopub.execute_input": "2021-12-08T10:08:44.949471Z",
     "iopub.status.busy": "2021-12-08T10:08:44.948933Z",
     "iopub.status.idle": "2021-12-08T10:08:46.671407Z",
     "shell.execute_reply": "2021-12-08T10:08:46.670812Z"
    },
    "papermill": {
     "duration": 1.751128,
     "end_time": "2021-12-08T10:08:46.671550",
     "exception": false,
     "start_time": "2021-12-08T10:08:44.920422",
     "status": "completed"
    },
    "tags": []
   },
   "outputs": [
    {
     "name": "stdout",
     "output_type": "stream",
     "text": [
      "Collecting mnist\r\n"
     ]
    },
    {
     "name": "stdout",
     "output_type": "stream",
     "text": [
      "  Downloading mnist-0.2.2-py2.py3-none-any.whl (3.5 kB)\r\n",
      "Requirement already satisfied: numpy in /opt/hostedtoolcache/Python/3.6.15/x64/lib/python3.6/site-packages (from mnist) (1.19.5)\r\n"
     ]
    },
    {
     "name": "stdout",
     "output_type": "stream",
     "text": [
      "Installing collected packages: mnist\r\n"
     ]
    },
    {
     "name": "stdout",
     "output_type": "stream",
     "text": [
      "Successfully installed mnist-0.2.2\r\n"
     ]
    }
   ],
   "source": [
    "!pip install mnist"
   ]
  },
  {
   "cell_type": "markdown",
   "id": "69df9c9a",
   "metadata": {
    "papermill": {
     "duration": 0.025294,
     "end_time": "2021-12-08T10:08:46.722580",
     "exception": false,
     "start_time": "2021-12-08T10:08:46.697286",
     "status": "completed"
    },
    "tags": []
   },
   "source": [
    "## Preparing the Data"
   ]
  },
  {
   "cell_type": "code",
   "execution_count": 4,
   "id": "7f69d806",
   "metadata": {
    "execution": {
     "iopub.execute_input": "2021-12-08T10:08:46.778085Z",
     "iopub.status.busy": "2021-12-08T10:08:46.777556Z",
     "iopub.status.idle": "2021-12-08T10:08:46.791528Z",
     "shell.execute_reply": "2021-12-08T10:08:46.791059Z"
    },
    "papermill": {
     "duration": 0.043842,
     "end_time": "2021-12-08T10:08:46.791649",
     "exception": false,
     "start_time": "2021-12-08T10:08:46.747807",
     "status": "completed"
    },
    "tags": []
   },
   "outputs": [],
   "source": [
    "import mnist"
   ]
  },
  {
   "cell_type": "code",
   "execution_count": 5,
   "id": "a411e44f",
   "metadata": {
    "execution": {
     "iopub.execute_input": "2021-12-08T10:08:46.845880Z",
     "iopub.status.busy": "2021-12-08T10:08:46.845363Z",
     "iopub.status.idle": "2021-12-08T10:08:47.379923Z",
     "shell.execute_reply": "2021-12-08T10:08:47.379368Z"
    },
    "papermill": {
     "duration": 0.563118,
     "end_time": "2021-12-08T10:08:47.380072",
     "exception": false,
     "start_time": "2021-12-08T10:08:46.816954",
     "status": "completed"
    },
    "tags": []
   },
   "outputs": [],
   "source": [
    "train_images = mnist.train_images()\n",
    "train_labels = mnist.train_labels()"
   ]
  },
  {
   "cell_type": "code",
   "execution_count": 6,
   "id": "dceab3a5",
   "metadata": {
    "execution": {
     "iopub.execute_input": "2021-12-08T10:08:47.446485Z",
     "iopub.status.busy": "2021-12-08T10:08:47.445564Z",
     "iopub.status.idle": "2021-12-08T10:08:47.455136Z",
     "shell.execute_reply": "2021-12-08T10:08:47.455553Z"
    },
    "papermill": {
     "duration": 0.048656,
     "end_time": "2021-12-08T10:08:47.455706",
     "exception": false,
     "start_time": "2021-12-08T10:08:47.407050",
     "status": "completed"
    },
    "tags": []
   },
   "outputs": [
    {
     "data": {
      "text/plain": [
       "((60000, 28, 28), (60000,))"
      ]
     },
     "execution_count": 6,
     "metadata": {},
     "output_type": "execute_result"
    }
   ],
   "source": [
    "train_images.shape, train_labels.shape"
   ]
  },
  {
   "cell_type": "code",
   "execution_count": 7,
   "id": "f50dc2bb",
   "metadata": {
    "execution": {
     "iopub.execute_input": "2021-12-08T10:08:47.518426Z",
     "iopub.status.busy": "2021-12-08T10:08:47.517910Z",
     "iopub.status.idle": "2021-12-08T10:08:47.693388Z",
     "shell.execute_reply": "2021-12-08T10:08:47.692867Z"
    },
    "papermill": {
     "duration": 0.212653,
     "end_time": "2021-12-08T10:08:47.693534",
     "exception": false,
     "start_time": "2021-12-08T10:08:47.480881",
     "status": "completed"
    },
    "tags": []
   },
   "outputs": [],
   "source": [
    "test_images = mnist.test_images()\n",
    "test_labels = mnist.test_labels()"
   ]
  },
  {
   "cell_type": "code",
   "execution_count": 8,
   "id": "fc38cf1b",
   "metadata": {
    "execution": {
     "iopub.execute_input": "2021-12-08T10:08:47.748041Z",
     "iopub.status.busy": "2021-12-08T10:08:47.747517Z",
     "iopub.status.idle": "2021-12-08T10:08:47.761541Z",
     "shell.execute_reply": "2021-12-08T10:08:47.761107Z"
    },
    "papermill": {
     "duration": 0.042575,
     "end_time": "2021-12-08T10:08:47.761654",
     "exception": false,
     "start_time": "2021-12-08T10:08:47.719079",
     "status": "completed"
    },
    "tags": []
   },
   "outputs": [
    {
     "data": {
      "text/plain": [
       "((10000, 28, 28), (10000,))"
      ]
     },
     "execution_count": 8,
     "metadata": {},
     "output_type": "execute_result"
    }
   ],
   "source": [
    "test_images.shape, test_labels.shape"
   ]
  },
  {
   "cell_type": "code",
   "execution_count": 9,
   "id": "f9ed8fe0",
   "metadata": {
    "execution": {
     "iopub.execute_input": "2021-12-08T10:08:47.816297Z",
     "iopub.status.busy": "2021-12-08T10:08:47.815784Z",
     "iopub.status.idle": "2021-12-08T10:08:47.956801Z",
     "shell.execute_reply": "2021-12-08T10:08:47.957271Z"
    },
    "papermill": {
     "duration": 0.170401,
     "end_time": "2021-12-08T10:08:47.957428",
     "exception": false,
     "start_time": "2021-12-08T10:08:47.787027",
     "status": "completed"
    },
    "tags": []
   },
   "outputs": [
    {
     "name": "stdout",
     "output_type": "stream",
     "text": [
      "2\n"
     ]
    },
    {
     "data": {
      "text/plain": [
       "<matplotlib.image.AxesImage at 0x7f76a5cfa470>"
      ]
     },
     "execution_count": 9,
     "metadata": {},
     "output_type": "execute_result"
    },
    {
     "data": {
      "image/png": "[encoded data removed]",
      "text/plain": [
       "<Figure size 432x288 with 1 Axes>"
      ]
     },
     "metadata": {
      "needs_background": "light"
     },
     "output_type": "display_data"
    }
   ],
   "source": [
    "image_index = 7776 # You may select anything up to 60,000\n",
    "print(train_labels[image_index]) \n",
    "plt.imshow(train_images[image_index], cmap='Greys')"
   ]
  },
  {
   "cell_type": "markdown",
   "id": "a8d2388d",
   "metadata": {
    "papermill": {
     "duration": 0.026867,
     "end_time": "2021-12-08T10:08:48.011401",
     "exception": false,
     "start_time": "2021-12-08T10:08:47.984534",
     "status": "completed"
    },
    "tags": []
   },
   "source": [
    "## Filter data to get 3 and 8 out"
   ]
  },
  {
   "cell_type": "code",
   "execution_count": 10,
   "id": "776f7fc7",
   "metadata": {
    "execution": {
     "iopub.execute_input": "2021-12-08T10:08:48.072427Z",
     "iopub.status.busy": "2021-12-08T10:08:48.071874Z",
     "iopub.status.idle": "2021-12-08T10:08:48.089054Z",
     "shell.execute_reply": "2021-12-08T10:08:48.088622Z"
    },
    "papermill": {
     "duration": 0.050991,
     "end_time": "2021-12-08T10:08:48.089180",
     "exception": false,
     "start_time": "2021-12-08T10:08:48.038189",
     "status": "completed"
    },
    "tags": []
   },
   "outputs": [],
   "source": [
    "train_filter = np.where((train_labels == 3 ) | (train_labels == 8))\n",
    "test_filter = np.where((test_labels == 3) | (test_labels == 8))\n",
    "X_train, y_train = train_images[train_filter], train_labels[train_filter]\n",
    "X_test, y_test = test_images[test_filter], test_labels[test_filter]"
   ]
  },
  {
   "cell_type": "markdown",
   "id": "948f0b7e",
   "metadata": {
    "papermill": {
     "duration": 0.026575,
     "end_time": "2021-12-08T10:08:48.142476",
     "exception": false,
     "start_time": "2021-12-08T10:08:48.115901",
     "status": "completed"
    },
    "tags": []
   },
   "source": [
    "We normalize the pizel values in the 0 to 1 range"
   ]
  },
  {
   "cell_type": "code",
   "execution_count": 11,
   "id": "ee4c2166",
   "metadata": {
    "execution": {
     "iopub.execute_input": "2021-12-08T10:08:48.200651Z",
     "iopub.status.busy": "2021-12-08T10:08:48.200130Z",
     "iopub.status.idle": "2021-12-08T10:08:48.247951Z",
     "shell.execute_reply": "2021-12-08T10:08:48.247428Z"
    },
    "papermill": {
     "duration": 0.078859,
     "end_time": "2021-12-08T10:08:48.248094",
     "exception": false,
     "start_time": "2021-12-08T10:08:48.169235",
     "status": "completed"
    },
    "tags": []
   },
   "outputs": [],
   "source": [
    "X_train = X_train/255.\n",
    "X_test = X_test/255."
   ]
  },
  {
   "cell_type": "markdown",
   "id": "ddcf4fab",
   "metadata": {
    "papermill": {
     "duration": 0.026681,
     "end_time": "2021-12-08T10:08:48.302466",
     "exception": false,
     "start_time": "2021-12-08T10:08:48.275785",
     "status": "completed"
    },
    "tags": []
   },
   "source": [
    "And setup the labels as 1 (when the digit is 3) and 0 (when the digit is 8)"
   ]
  },
  {
   "cell_type": "code",
   "execution_count": 12,
   "id": "7dc908f2",
   "metadata": {
    "execution": {
     "iopub.execute_input": "2021-12-08T10:08:48.360656Z",
     "iopub.status.busy": "2021-12-08T10:08:48.360129Z",
     "iopub.status.idle": "2021-12-08T10:08:48.371305Z",
     "shell.execute_reply": "2021-12-08T10:08:48.371729Z"
    },
    "papermill": {
     "duration": 0.042817,
     "end_time": "2021-12-08T10:08:48.371866",
     "exception": false,
     "start_time": "2021-12-08T10:08:48.329049",
     "status": "completed"
    },
    "tags": []
   },
   "outputs": [],
   "source": [
    "y_train = 1*(y_train==3)\n",
    "y_test = 1*(y_test==3)"
   ]
  },
  {
   "cell_type": "code",
   "execution_count": 13,
   "id": "01e4e969",
   "metadata": {
    "execution": {
     "iopub.execute_input": "2021-12-08T10:08:48.444453Z",
     "iopub.status.busy": "2021-12-08T10:08:48.443932Z",
     "iopub.status.idle": "2021-12-08T10:08:48.447117Z",
     "shell.execute_reply": "2021-12-08T10:08:48.446706Z"
    },
    "papermill": {
     "duration": 0.048867,
     "end_time": "2021-12-08T10:08:48.447255",
     "exception": false,
     "start_time": "2021-12-08T10:08:48.398388",
     "status": "completed"
    },
    "tags": []
   },
   "outputs": [
    {
     "data": {
      "text/plain": [
       "((11982, 28, 28), (1984, 28, 28))"
      ]
     },
     "execution_count": 13,
     "metadata": {},
     "output_type": "execute_result"
    }
   ],
   "source": [
    "X_train.shape, X_test.shape"
   ]
  },
  {
   "cell_type": "markdown",
   "id": "5ccf3f85",
   "metadata": {
    "papermill": {
     "duration": 0.026527,
     "end_time": "2021-12-08T10:08:48.500556",
     "exception": false,
     "start_time": "2021-12-08T10:08:48.474029",
     "status": "completed"
    },
    "tags": []
   },
   "source": [
    "We reshape the data to flatten the image pixels into a set of features or co-variates:"
   ]
  },
  {
   "cell_type": "code",
   "execution_count": 14,
   "id": "5286a4a3",
   "metadata": {
    "execution": {
     "iopub.execute_input": "2021-12-08T10:08:48.568841Z",
     "iopub.status.busy": "2021-12-08T10:08:48.568305Z",
     "iopub.status.idle": "2021-12-08T10:08:48.575170Z",
     "shell.execute_reply": "2021-12-08T10:08:48.575588Z"
    },
    "papermill": {
     "duration": 0.048342,
     "end_time": "2021-12-08T10:08:48.575731",
     "exception": false,
     "start_time": "2021-12-08T10:08:48.527389",
     "status": "completed"
    },
    "tags": []
   },
   "outputs": [
    {
     "data": {
      "text/plain": [
       "((11982, 784), (1984, 784))"
      ]
     },
     "execution_count": 14,
     "metadata": {},
     "output_type": "execute_result"
    }
   ],
   "source": [
    "X_train = X_train.reshape(X_train.shape[0], -1)\n",
    "X_test = X_test.reshape(X_test.shape[0], -1)\n",
    "X_train.shape, X_test.shape"
   ]
  },
  {
   "cell_type": "code",
   "execution_count": 15,
   "id": "73c5f88a",
   "metadata": {
    "execution": {
     "iopub.execute_input": "2021-12-08T10:08:48.639367Z",
     "iopub.status.busy": "2021-12-08T10:08:48.634996Z",
     "iopub.status.idle": "2021-12-08T10:08:48.654032Z",
     "shell.execute_reply": "2021-12-08T10:08:48.654418Z"
    },
    "papermill": {
     "duration": 0.051814,
     "end_time": "2021-12-08T10:08:48.654559",
     "exception": false,
     "start_time": "2021-12-08T10:08:48.602745",
     "status": "completed"
    },
    "tags": []
   },
   "outputs": [],
   "source": [
    "#Impoting functions from 'Kudzu'\n",
    "from kudzu.model import Model\n",
    "from kudzu.train import Learner\n",
    "from kudzu.optim import GD\n",
    "from kudzu.data import Data, Sampler,Dataloader\n",
    "\n",
    "from kudzu.callbacks import AccCallback\n",
    "from kudzu.callbacks import ClfCallback\n",
    "\n",
    "from kudzu.loss import MSE\n",
    "\n",
    "from kudzu.layer import Sigmoid,Relu\n",
    "from kudzu.layer import Affine"
   ]
  },
  {
   "cell_type": "markdown",
   "id": "bc01172a",
   "metadata": {
    "papermill": {
     "duration": 0.027026,
     "end_time": "2021-12-08T10:08:48.708735",
     "exception": false,
     "start_time": "2021-12-08T10:08:48.681709",
     "status": "completed"
    },
    "tags": []
   },
   "source": [
    "### Let us create a `Config` class, to store important parameters. \n",
    "This class essentially plays the role of a dictionary."
   ]
  },
  {
   "cell_type": "code",
   "execution_count": 16,
   "id": "978281aa",
   "metadata": {
    "execution": {
     "iopub.execute_input": "2021-12-08T10:08:48.767071Z",
     "iopub.status.busy": "2021-12-08T10:08:48.766546Z",
     "iopub.status.idle": "2021-12-08T10:08:48.787989Z",
     "shell.execute_reply": "2021-12-08T10:08:48.788494Z"
    },
    "papermill": {
     "duration": 0.052988,
     "end_time": "2021-12-08T10:08:48.788649",
     "exception": false,
     "start_time": "2021-12-08T10:08:48.735661",
     "status": "completed"
    },
    "tags": []
   },
   "outputs": [],
   "source": [
    "class Config:\n",
    "    pass\n",
    "config = Config()\n",
    "config.lr = 0.001\n",
    "config.num_epochs = 250\n",
    "config.bs = 50"
   ]
  },
  {
   "cell_type": "markdown",
   "id": "1385fa59",
   "metadata": {
    "papermill": {
     "duration": 0.027027,
     "end_time": "2021-12-08T10:08:48.843865",
     "exception": false,
     "start_time": "2021-12-08T10:08:48.816838",
     "status": "completed"
    },
    "tags": []
   },
   "source": [
    "### Running Models with the Training data\n",
    "Details about the network layers:\n",
    "- A first affine layer has 784 inputs and does 100 affine transforms. These are followed by a Relu\n",
    "- A second affine layer has 100 inputs from the 100 activations of the past layer, and does 100 affine transforms. These are followed by a Relu\n",
    "- A third affine layer has 100 activations and does 2 affine transformations to create an embedding for visualization. There is no non-linearity here.\n",
    "- A final \"logistic regression\" which has an affine transform from 2 inputs to 1 output, which is squeezed through a sigmoid.\n"
   ]
  },
  {
   "cell_type": "code",
   "execution_count": 17,
   "id": "2b9c66db",
   "metadata": {
    "execution": {
     "iopub.execute_input": "2021-12-08T10:08:48.902584Z",
     "iopub.status.busy": "2021-12-08T10:08:48.902061Z",
     "iopub.status.idle": "2021-12-08T10:08:48.917514Z",
     "shell.execute_reply": "2021-12-08T10:08:48.916465Z"
    },
    "papermill": {
     "duration": 0.046744,
     "end_time": "2021-12-08T10:08:48.917633",
     "exception": false,
     "start_time": "2021-12-08T10:08:48.870889",
     "status": "completed"
    },
    "tags": []
   },
   "outputs": [],
   "source": [
    "data = Data(X_train, y_train.reshape(-1,1))\n",
    "sampler = Sampler(data, config.bs, shuffle=True)\n",
    "\n",
    "dl = Dataloader(data, sampler)\n",
    "\n",
    "opt = GD(config.lr)\n",
    "loss = MSE()"
   ]
  },
  {
   "cell_type": "code",
   "execution_count": 18,
   "id": "b275e4c2",
   "metadata": {
    "execution": {
     "iopub.execute_input": "2021-12-08T10:08:48.988897Z",
     "iopub.status.busy": "2021-12-08T10:08:48.988370Z",
     "iopub.status.idle": "2021-12-08T10:08:48.994038Z",
     "shell.execute_reply": "2021-12-08T10:08:48.993627Z"
    },
    "papermill": {
     "duration": 0.049473,
     "end_time": "2021-12-08T10:08:48.994153",
     "exception": false,
     "start_time": "2021-12-08T10:08:48.944680",
     "status": "completed"
    },
    "tags": []
   },
   "outputs": [],
   "source": [
    "training_data_x = X_train\n",
    "testing_data_x = X_test\n",
    "training_data_y = y_train.reshape(-1,1)\n",
    "testing_data_y = y_test.reshape(-1,1)"
   ]
  },
  {
   "cell_type": "code",
   "execution_count": 19,
   "id": "76951160",
   "metadata": {
    "execution": {
     "iopub.execute_input": "2021-12-08T10:08:49.064139Z",
     "iopub.status.busy": "2021-12-08T10:08:49.059142Z",
     "iopub.status.idle": "2021-12-08T10:08:49.073380Z",
     "shell.execute_reply": "2021-12-08T10:08:49.073793Z"
    },
    "papermill": {
     "duration": 0.052792,
     "end_time": "2021-12-08T10:08:49.073933",
     "exception": false,
     "start_time": "2021-12-08T10:08:49.021141",
     "status": "completed"
    },
    "tags": []
   },
   "outputs": [
    {
     "name": "stdout",
     "output_type": "stream",
     "text": [
      "xavier\n",
      "xavier\n",
      "xavier\n",
      "xavier\n",
      "xavier\n"
     ]
    }
   ],
   "source": [
    "layers = [Affine(\"first\", 784, 100), Relu(\"first\"), Affine(\"second\", 100, 100), Relu(\"second\"), Affine(\"third\", 100, 2), Affine(\"last\", 2, 1), Sigmoid(\"last\")]\n",
    "model_nn = Model(layers)\n",
    "model_lr = Model([Affine(\"logits\", 784, 1), Sigmoid(\"sigmoid\")])"
   ]
  },
  {
   "cell_type": "code",
   "execution_count": 20,
   "id": "6eede77a",
   "metadata": {
    "execution": {
     "iopub.execute_input": "2021-12-08T10:08:49.144073Z",
     "iopub.status.busy": "2021-12-08T10:08:49.135042Z",
     "iopub.status.idle": "2021-12-08T10:08:49.149838Z",
     "shell.execute_reply": "2021-12-08T10:08:49.149369Z"
    },
    "papermill": {
     "duration": 0.048327,
     "end_time": "2021-12-08T10:08:49.149957",
     "exception": false,
     "start_time": "2021-12-08T10:08:49.101630",
     "status": "completed"
    },
    "tags": []
   },
   "outputs": [],
   "source": [
    "nn_learner = Learner(loss, model_nn, opt, config.num_epochs)\n",
    "acc_nn = ClfCallback(nn_learner, config.bs, training_data_x , testing_data_x, training_data_y, testing_data_y)\n",
    "nn_learner.set_callbacks([acc_nn])"
   ]
  },
  {
   "cell_type": "code",
   "execution_count": 21,
   "id": "877b6cc7",
   "metadata": {
    "execution": {
     "iopub.execute_input": "2021-12-08T10:08:49.216745Z",
     "iopub.status.busy": "2021-12-08T10:08:49.216187Z",
     "iopub.status.idle": "2021-12-08T10:08:49.223565Z",
     "shell.execute_reply": "2021-12-08T10:08:49.223096Z"
    },
    "papermill": {
     "duration": 0.046208,
     "end_time": "2021-12-08T10:08:49.223701",
     "exception": false,
     "start_time": "2021-12-08T10:08:49.177493",
     "status": "completed"
    },
    "tags": []
   },
   "outputs": [],
   "source": [
    "lr_learner = Learner(loss, model_lr, opt, config.num_epochs)\n",
    "acc_lr = ClfCallback(lr_learner, config.bs, training_data_x , testing_data_x, training_data_y, testing_data_y)\n",
    "lr_learner.set_callbacks([acc_lr])"
   ]
  },
  {
   "cell_type": "code",
   "execution_count": 22,
   "id": "d9b133c3",
   "metadata": {
    "execution": {
     "iopub.execute_input": "2021-12-08T10:08:49.284449Z",
     "iopub.status.busy": "2021-12-08T10:08:49.283940Z",
     "iopub.status.idle": "2021-12-08T10:10:07.066549Z",
     "shell.execute_reply": "2021-12-08T10:10:07.067360Z"
    },
    "papermill": {
     "duration": 77.816124,
     "end_time": "2021-12-08T10:10:07.067529",
     "exception": false,
     "start_time": "2021-12-08T10:08:49.251405",
     "status": "completed"
    },
    "tags": []
   },
   "outputs": [
    {
     "name": "stdout",
     "output_type": "stream",
     "text": [
      "Epoch 0, Loss 0.2196\n",
      "Training Accuracy: 0.7832, Testing Accuracy: 0.8125\n",
      "\n"
     ]
    },
    {
     "name": "stdout",
     "output_type": "stream",
     "text": [
      "Epoch 10, Loss 0.0588\n",
      "Training Accuracy: 0.9427, Testing Accuracy: 0.9526\n",
      "\n"
     ]
    },
    {
     "name": "stdout",
     "output_type": "stream",
     "text": [
      "Epoch 20, Loss 0.0413\n",
      "Training Accuracy: 0.9561, Testing Accuracy: 0.9652\n",
      "\n"
     ]
    },
    {
     "name": "stdout",
     "output_type": "stream",
     "text": [
      "Epoch 30, Loss 0.0349\n",
      "Training Accuracy: 0.9618, Testing Accuracy: 0.9652\n",
      "\n"
     ]
    },
    {
     "name": "stdout",
     "output_type": "stream",
     "text": [
      "Epoch 40, Loss 0.0314\n",
      "Training Accuracy: 0.9652, Testing Accuracy: 0.9662\n",
      "\n"
     ]
    },
    {
     "name": "stdout",
     "output_type": "stream",
     "text": [
      "Epoch 50, Loss 0.0291\n",
      "Training Accuracy: 0.9670, Testing Accuracy: 0.9682\n",
      "\n"
     ]
    },
    {
     "name": "stdout",
     "output_type": "stream",
     "text": [
      "Epoch 60, Loss 0.0274\n",
      "Training Accuracy: 0.9693, Testing Accuracy: 0.9708\n",
      "\n"
     ]
    },
    {
     "name": "stdout",
     "output_type": "stream",
     "text": [
      "Epoch 70, Loss 0.0261\n",
      "Training Accuracy: 0.9705, Testing Accuracy: 0.9723\n",
      "\n"
     ]
    },
    {
     "name": "stdout",
     "output_type": "stream",
     "text": [
      "Epoch 80, Loss 0.025\n",
      "Training Accuracy: 0.9716, Testing Accuracy: 0.9723\n",
      "\n"
     ]
    },
    {
     "name": "stdout",
     "output_type": "stream",
     "text": [
      "Epoch 90, Loss 0.024\n",
      "Training Accuracy: 0.9725, Testing Accuracy: 0.9733\n",
      "\n"
     ]
    },
    {
     "name": "stdout",
     "output_type": "stream",
     "text": [
      "Epoch 100, Loss 0.0232\n",
      "Training Accuracy: 0.9733, Testing Accuracy: 0.9728\n",
      "\n"
     ]
    },
    {
     "name": "stdout",
     "output_type": "stream",
     "text": [
      "Epoch 110, Loss 0.0225\n",
      "Training Accuracy: 0.9748, Testing Accuracy: 0.9733\n",
      "\n"
     ]
    },
    {
     "name": "stdout",
     "output_type": "stream",
     "text": [
      "Epoch 120, Loss 0.0218\n",
      "Training Accuracy: 0.9754, Testing Accuracy: 0.9738\n",
      "\n"
     ]
    },
    {
     "name": "stdout",
     "output_type": "stream",
     "text": [
      "Epoch 130, Loss 0.0212\n",
      "Training Accuracy: 0.9764, Testing Accuracy: 0.9748\n",
      "\n"
     ]
    },
    {
     "name": "stdout",
     "output_type": "stream",
     "text": [
      "Epoch 140, Loss 0.0206\n",
      "Training Accuracy: 0.9771, Testing Accuracy: 0.9748\n",
      "\n"
     ]
    },
    {
     "name": "stdout",
     "output_type": "stream",
     "text": [
      "Epoch 150, Loss 0.0201\n",
      "Training Accuracy: 0.9780, Testing Accuracy: 0.9753\n",
      "\n"
     ]
    },
    {
     "name": "stdout",
     "output_type": "stream",
     "text": [
      "Epoch 160, Loss 0.0196\n",
      "Training Accuracy: 0.9786, Testing Accuracy: 0.9743\n",
      "\n"
     ]
    },
    {
     "name": "stdout",
     "output_type": "stream",
     "text": [
      "Epoch 170, Loss 0.0191\n",
      "Training Accuracy: 0.9791, Testing Accuracy: 0.9753\n",
      "\n"
     ]
    },
    {
     "name": "stdout",
     "output_type": "stream",
     "text": [
      "Epoch 180, Loss 0.0186\n",
      "Training Accuracy: 0.9800, Testing Accuracy: 0.9758\n",
      "\n"
     ]
    },
    {
     "name": "stdout",
     "output_type": "stream",
     "text": [
      "Epoch 190, Loss 0.0181\n",
      "Training Accuracy: 0.9804, Testing Accuracy: 0.9758\n",
      "\n"
     ]
    },
    {
     "name": "stdout",
     "output_type": "stream",
     "text": [
      "Epoch 200, Loss 0.0177\n",
      "Training Accuracy: 0.9807, Testing Accuracy: 0.9758\n",
      "\n"
     ]
    },
    {
     "name": "stdout",
     "output_type": "stream",
     "text": [
      "Epoch 210, Loss 0.0173\n",
      "Training Accuracy: 0.9812, Testing Accuracy: 0.9758\n",
      "\n"
     ]
    },
    {
     "name": "stdout",
     "output_type": "stream",
     "text": [
      "Epoch 220, Loss 0.0168\n",
      "Training Accuracy: 0.9816, Testing Accuracy: 0.9763\n",
      "\n"
     ]
    },
    {
     "name": "stdout",
     "output_type": "stream",
     "text": [
      "Epoch 230, Loss 0.0164\n",
      "Training Accuracy: 0.9824, Testing Accuracy: 0.9773\n",
      "\n"
     ]
    },
    {
     "name": "stdout",
     "output_type": "stream",
     "text": [
      "Epoch 240, Loss 0.016\n",
      "Training Accuracy: 0.9830, Testing Accuracy: 0.9768\n",
      "\n"
     ]
    },
    {
     "data": {
      "text/plain": [
       "0.010531749781035799"
      ]
     },
     "execution_count": 22,
     "metadata": {},
     "output_type": "execute_result"
    }
   ],
   "source": [
    "nn_learner.train_loop(dl)"
   ]
  },
  {
   "cell_type": "code",
   "execution_count": 23,
   "id": "e0163366",
   "metadata": {
    "execution": {
     "iopub.execute_input": "2021-12-08T10:10:07.150400Z",
     "iopub.status.busy": "2021-12-08T10:10:07.149863Z",
     "iopub.status.idle": "2021-12-08T10:10:21.174253Z",
     "shell.execute_reply": "2021-12-08T10:10:21.175006Z"
    },
    "papermill": {
     "duration": 14.072354,
     "end_time": "2021-12-08T10:10:21.175168",
     "exception": false,
     "start_time": "2021-12-08T10:10:07.102814",
     "status": "completed"
    },
    "tags": []
   },
   "outputs": [
    {
     "name": "stdout",
     "output_type": "stream",
     "text": [
      "Epoch 0, Loss 0.2166\n",
      "Training Accuracy: 0.7981, Testing Accuracy: 0.8286\n",
      "\n"
     ]
    },
    {
     "name": "stdout",
     "output_type": "stream",
     "text": [
      "Epoch 10, Loss 0.0962\n",
      "Training Accuracy: 0.9226, Testing Accuracy: 0.9410\n",
      "\n"
     ]
    },
    {
     "name": "stdout",
     "output_type": "stream",
     "text": [
      "Epoch 20, Loss 0.0762\n",
      "Training Accuracy: 0.9330, Testing Accuracy: 0.9486\n",
      "\n"
     ]
    },
    {
     "name": "stdout",
     "output_type": "stream",
     "text": [
      "Epoch 30, Loss 0.0666\n",
      "Training Accuracy: 0.9380, Testing Accuracy: 0.9546\n",
      "\n"
     ]
    },
    {
     "name": "stdout",
     "output_type": "stream",
     "text": [
      "Epoch 40, Loss 0.0606\n",
      "Training Accuracy: 0.9420, Testing Accuracy: 0.9567\n",
      "\n"
     ]
    },
    {
     "name": "stdout",
     "output_type": "stream",
     "text": [
      "Epoch 50, Loss 0.0564\n",
      "Training Accuracy: 0.9443, Testing Accuracy: 0.9582\n",
      "\n"
     ]
    },
    {
     "name": "stdout",
     "output_type": "stream",
     "text": [
      "Epoch 60, Loss 0.0533\n",
      "Training Accuracy: 0.9473, Testing Accuracy: 0.9582\n",
      "\n"
     ]
    },
    {
     "name": "stdout",
     "output_type": "stream",
     "text": [
      "Epoch 70, Loss 0.0509\n",
      "Training Accuracy: 0.9485, Testing Accuracy: 0.9592\n",
      "\n"
     ]
    },
    {
     "name": "stdout",
     "output_type": "stream",
     "text": [
      "Epoch 80, Loss 0.0489\n",
      "Training Accuracy: 0.9505, Testing Accuracy: 0.9617\n",
      "\n"
     ]
    },
    {
     "name": "stdout",
     "output_type": "stream",
     "text": [
      "Epoch 90, Loss 0.0473\n",
      "Training Accuracy: 0.9525, Testing Accuracy: 0.9632\n",
      "\n"
     ]
    },
    {
     "name": "stdout",
     "output_type": "stream",
     "text": [
      "Epoch 100, Loss 0.0459\n",
      "Training Accuracy: 0.9536, Testing Accuracy: 0.9632\n",
      "\n"
     ]
    },
    {
     "name": "stdout",
     "output_type": "stream",
     "text": [
      "Epoch 110, Loss 0.0447\n",
      "Training Accuracy: 0.9541, Testing Accuracy: 0.9642\n",
      "\n"
     ]
    },
    {
     "name": "stdout",
     "output_type": "stream",
     "text": [
      "Epoch 120, Loss 0.0437\n",
      "Training Accuracy: 0.9549, Testing Accuracy: 0.9642\n",
      "\n"
     ]
    },
    {
     "name": "stdout",
     "output_type": "stream",
     "text": [
      "Epoch 130, Loss 0.0427\n",
      "Training Accuracy: 0.9560, Testing Accuracy: 0.9647\n",
      "\n"
     ]
    },
    {
     "name": "stdout",
     "output_type": "stream",
     "text": [
      "Epoch 140, Loss 0.0419\n",
      "Training Accuracy: 0.9570, Testing Accuracy: 0.9652\n",
      "\n"
     ]
    },
    {
     "name": "stdout",
     "output_type": "stream",
     "text": [
      "Epoch 150, Loss 0.0412\n",
      "Training Accuracy: 0.9572, Testing Accuracy: 0.9652\n",
      "\n"
     ]
    },
    {
     "name": "stdout",
     "output_type": "stream",
     "text": [
      "Epoch 160, Loss 0.0405\n",
      "Training Accuracy: 0.9579, Testing Accuracy: 0.9667\n",
      "\n"
     ]
    },
    {
     "name": "stdout",
     "output_type": "stream",
     "text": [
      "Epoch 170, Loss 0.0399\n",
      "Training Accuracy: 0.9584, Testing Accuracy: 0.9682\n",
      "\n"
     ]
    },
    {
     "name": "stdout",
     "output_type": "stream",
     "text": [
      "Epoch 180, Loss 0.0393\n",
      "Training Accuracy: 0.9589, Testing Accuracy: 0.9688\n",
      "\n"
     ]
    },
    {
     "name": "stdout",
     "output_type": "stream",
     "text": [
      "Epoch 190, Loss 0.0388\n",
      "Training Accuracy: 0.9593, Testing Accuracy: 0.9682\n",
      "\n"
     ]
    },
    {
     "name": "stdout",
     "output_type": "stream",
     "text": [
      "Epoch 200, Loss 0.0383\n",
      "Training Accuracy: 0.9597, Testing Accuracy: 0.9682\n",
      "\n"
     ]
    },
    {
     "name": "stdout",
     "output_type": "stream",
     "text": [
      "Epoch 210, Loss 0.0379\n",
      "Training Accuracy: 0.9598, Testing Accuracy: 0.9677\n",
      "\n"
     ]
    },
    {
     "name": "stdout",
     "output_type": "stream",
     "text": [
      "Epoch 220, Loss 0.0375\n",
      "Training Accuracy: 0.9604, Testing Accuracy: 0.9682\n",
      "\n"
     ]
    },
    {
     "name": "stdout",
     "output_type": "stream",
     "text": [
      "Epoch 230, Loss 0.0371\n",
      "Training Accuracy: 0.9606, Testing Accuracy: 0.9677\n",
      "\n"
     ]
    },
    {
     "name": "stdout",
     "output_type": "stream",
     "text": [
      "Epoch 240, Loss 0.0367\n",
      "Training Accuracy: 0.9607, Testing Accuracy: 0.9682\n",
      "\n"
     ]
    },
    {
     "data": {
      "text/plain": [
       "0.03136268514417522"
      ]
     },
     "execution_count": 23,
     "metadata": {},
     "output_type": "execute_result"
    }
   ],
   "source": [
    "lr_learner.train_loop(dl)"
   ]
  },
  {
   "cell_type": "code",
   "execution_count": 24,
   "id": "ca410940",
   "metadata": {
    "execution": {
     "iopub.execute_input": "2021-12-08T10:10:21.268477Z",
     "iopub.status.busy": "2021-12-08T10:10:21.267938Z",
     "iopub.status.idle": "2021-12-08T10:10:21.510652Z",
     "shell.execute_reply": "2021-12-08T10:10:21.509776Z"
    },
    "papermill": {
     "duration": 0.293985,
     "end_time": "2021-12-08T10:10:21.510799",
     "exception": false,
     "start_time": "2021-12-08T10:10:21.216814",
     "status": "completed"
    },
    "tags": []
   },
   "outputs": [
    {
     "data": {
      "text/plain": [
       "<matplotlib.legend.Legend at 0x7f76a58d6ba8>"
      ]
     },
     "execution_count": 24,
     "metadata": {},
     "output_type": "execute_result"
    },
    {
     "data": {
      "image/png": "[encoded data removed]",
      "text/plain": [
       "<Figure size 1080x720 with 1 Axes>"
      ]
     },
     "metadata": {
      "needs_background": "light"
     },
     "output_type": "display_data"
    }
   ],
   "source": [
    "#comparing the results of NN and LR\n",
    "plt.figure(figsize=(15,10))\n",
    "\n",
    "# Neural Network plots\n",
    "plt.plot(acc_nn.accuracies, 'r-', label = \"Training Accuracies - NN\")\n",
    "plt.plot(acc_nn.test_accuracies, 'g-', label = \"Testing Accuracies - NN\")\n",
    "\n",
    "# Logistic Regression plots\n",
    "plt.plot(acc_lr.accuracies, 'k-', label = \"Training Accuracies - LR\")\n",
    "plt.plot(acc_lr.test_accuracies, 'b-', label = \"Testing Accuracies - LR\")\n",
    "plt.legend()"
   ]
  },
  {
   "cell_type": "markdown",
   "id": "80dfb35c",
   "metadata": {
    "papermill": {
     "duration": 0.042378,
     "end_time": "2021-12-08T10:10:21.596352",
     "exception": false,
     "start_time": "2021-12-08T10:10:21.553974",
     "status": "completed"
    },
    "tags": []
   },
   "source": [
    "#### Plotting the outputs of this layer of the NN.\n"
   ]
  },
  {
   "cell_type": "code",
   "execution_count": 25,
   "id": "45eb2ff5",
   "metadata": {
    "execution": {
     "iopub.execute_input": "2021-12-08T10:10:21.691168Z",
     "iopub.status.busy": "2021-12-08T10:10:21.689518Z",
     "iopub.status.idle": "2021-12-08T10:10:21.708506Z",
     "shell.execute_reply": "2021-12-08T10:10:21.708944Z"
    },
    "papermill": {
     "duration": 0.068463,
     "end_time": "2021-12-08T10:10:21.709090",
     "exception": false,
     "start_time": "2021-12-08T10:10:21.640627",
     "status": "completed"
    },
    "tags": []
   },
   "outputs": [],
   "source": [
    "new_model = Model(layers[:-2])\n",
    "testing_plot = new_model(testing_data_x)"
   ]
  },
  {
   "cell_type": "code",
   "execution_count": 26,
   "id": "4c0a5485",
   "metadata": {
    "execution": {
     "iopub.execute_input": "2021-12-08T10:10:21.804208Z",
     "iopub.status.busy": "2021-12-08T10:10:21.800433Z",
     "iopub.status.idle": "2021-12-08T10:10:22.033062Z",
     "shell.execute_reply": "2021-12-08T10:10:22.033495Z"
    },
    "papermill": {
     "duration": 0.281648,
     "end_time": "2021-12-08T10:10:22.033647",
     "exception": false,
     "start_time": "2021-12-08T10:10:21.751999",
     "status": "completed"
    },
    "tags": []
   },
   "outputs": [
    {
     "data": {
      "text/plain": [
       "Text(0.5, 1.0, 'Outputs')"
      ]
     },
     "execution_count": 26,
     "metadata": {},
     "output_type": "execute_result"
    },
    {
     "data": {
      "image/png": "[encoded data removed]",
      "text/plain": [
       "<Figure size 576x504 with 1 Axes>"
      ]
     },
     "metadata": {
      "needs_background": "light"
     },
     "output_type": "display_data"
    }
   ],
   "source": [
    "# Plotting the scatter plot of points and color coding by class\n",
    "plt.figure(figsize=(8,7))\n",
    "plt.scatter(testing_plot[:,0], testing_plot[:,1], alpha = 0.1, c = y_test.ravel());\n",
    "plt.title('Outputs')"
   ]
  },
  {
   "cell_type": "markdown",
   "id": "a74fcf8f",
   "metadata": {
    "papermill": {
     "duration": 0.045586,
     "end_time": "2021-12-08T10:10:22.125240",
     "exception": false,
     "start_time": "2021-12-08T10:10:22.079654",
     "status": "completed"
    },
    "tags": []
   },
   "source": [
    "Probability contours"
   ]
  },
  {
   "cell_type": "code",
   "execution_count": 27,
   "id": "d0afc8e3",
   "metadata": {
    "execution": {
     "iopub.execute_input": "2021-12-08T10:10:22.232985Z",
     "iopub.status.busy": "2021-12-08T10:10:22.232175Z",
     "iopub.status.idle": "2021-12-08T10:10:22.236764Z",
     "shell.execute_reply": "2021-12-08T10:10:22.237176Z"
    },
    "papermill": {
     "duration": 0.066373,
     "end_time": "2021-12-08T10:10:22.237315",
     "exception": false,
     "start_time": "2021-12-08T10:10:22.170942",
     "status": "completed"
    },
    "tags": []
   },
   "outputs": [],
   "source": [
    "model_prob = Model(layers[-2:]) "
   ]
  },
  {
   "cell_type": "code",
   "execution_count": 28,
   "id": "9b96e238",
   "metadata": {
    "execution": {
     "iopub.execute_input": "2021-12-08T10:10:22.375991Z",
     "iopub.status.busy": "2021-12-08T10:10:22.374942Z",
     "iopub.status.idle": "2021-12-08T10:10:22.381276Z",
     "shell.execute_reply": "2021-12-08T10:10:22.381757Z"
    },
    "papermill": {
     "duration": 0.098647,
     "end_time": "2021-12-08T10:10:22.381884",
     "exception": false,
     "start_time": "2021-12-08T10:10:22.283237",
     "status": "completed"
    },
    "tags": []
   },
   "outputs": [],
   "source": [
    "#creating the x and y ranges according to the above generated plot.\n",
    "x_range = np.linspace(-4, 1, 100) \n",
    "y_range = np.linspace(-6, 6, 100) \n",
    "x_grid, y_grid = np.meshgrid(x_range, y_range) # x_grid and y_grig are of size 100 X 100\n",
    "\n",
    "# converting x_grid and y_grid to continuous arrays\n",
    "x_gridflat = np.ravel(x_grid)\n",
    "y_gridflat = np.ravel(y_grid)\n",
    "\n",
    "# The last layer of the current model takes two columns as input. Hence transpose of np.vstack() is required.\n",
    "X = np.vstack((x_gridflat, y_gridflat)).T\n",
    "\n",
    "prob_contour = model_prob(X).reshape(100,100) "
   ]
  },
  {
   "cell_type": "code",
   "execution_count": 29,
   "id": "da72499a",
   "metadata": {
    "execution": {
     "iopub.execute_input": "2021-12-08T10:10:22.477868Z",
     "iopub.status.busy": "2021-12-08T10:10:22.477350Z",
     "iopub.status.idle": "2021-12-08T10:10:22.718614Z",
     "shell.execute_reply": "2021-12-08T10:10:22.717734Z"
    },
    "papermill": {
     "duration": 0.291151,
     "end_time": "2021-12-08T10:10:22.718761",
     "exception": false,
     "start_time": "2021-12-08T10:10:22.427610",
     "status": "completed"
    },
    "tags": []
   },
   "outputs": [
    {
     "data": {
      "image/png": "[encoded data removed]",
      "text/plain": [
       "<Figure size 720x648 with 1 Axes>"
      ]
     },
     "metadata": {
      "needs_background": "light"
     },
     "output_type": "display_data"
    }
   ],
   "source": [
    "plt.figure(figsize=(10,9))\n",
    "plt.scatter(testing_plot[:,0], testing_plot[:,1], alpha = 0.1, c = y_test.ravel())\n",
    "contours = plt.contour(x_grid,y_grid,prob_contour)\n",
    "plt.title('Probability Contours')\n",
    "plt.clabel(contours, inline = True );"
   ]
  },
  {
   "cell_type": "code",
   "execution_count": null,
   "id": "e81b4ac7",
   "metadata": {
    "papermill": {
     "duration": 0.048221,
     "end_time": "2021-12-08T10:10:22.816496",
     "exception": false,
     "start_time": "2021-12-08T10:10:22.768275",
     "status": "completed"
    },
    "tags": []
   },
   "outputs": [],
   "source": []
  }
 ],
 "metadata": {
  "kernelspec": {
   "display_name": "Python 3",
   "language": "python",
   "name": "python3"
  },
  "language_info": {
   "codemirror_mode": {
    "name": "ipython",
    "version": 3
   },
   "file_extension": ".py",
   "mimetype": "text/x-python",
   "name": "python",
   "nbconvert_exporter": "python",
   "pygments_lexer": "ipython3",
   "version": "3.6.15"
  },
  "papermill": {
   "default_parameters": {},
   "duration": 100.169254,
   "end_time": "2021-12-08T10:10:23.273760",
   "environment_variables": {},
   "exception": null,
   "input_path": "2020-08-11-part2.ipynb",
   "output_path": "2020-08-11-part2.ipynb",
   "parameters": {},
   "start_time": "2021-12-08T10:08:43.104506",
   "version": "2.3.3"
  }
 },
 "nbformat": 4,
 "nbformat_minor": 5
}