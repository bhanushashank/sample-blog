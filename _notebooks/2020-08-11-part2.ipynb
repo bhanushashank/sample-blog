{
 "cells": [
  {
   "cell_type": "markdown",
   "id": "98380cd3",
   "metadata": {
    "papermill": {
     "duration": 0.030724,
     "end_time": "2022-10-10T20:12:30.297570",
     "exception": false,
     "start_time": "2022-10-10T20:12:30.266846",
     "status": "completed"
    },
    "tags": []
   },
   "source": [
    "# Distinguish Your Own Digits (DYOD)"
   ]
  },
  {
   "cell_type": "markdown",
   "id": "ef31240d",
   "metadata": {
    "papermill": {
     "duration": 0.024249,
     "end_time": "2022-10-10T20:12:30.346588",
     "exception": false,
     "start_time": "2022-10-10T20:12:30.322339",
     "status": "completed"
    },
    "tags": []
   },
   "source": [
    "You are going to write a classifier that distinguishes between the number 3 and number 8."
   ]
  },
  {
   "cell_type": "code",
   "execution_count": 1,
   "id": "b15c8646",
   "metadata": {
    "execution": {
     "iopub.execute_input": "2022-10-10T20:12:30.405382Z",
     "iopub.status.busy": "2022-10-10T20:12:30.404743Z",
     "iopub.status.idle": "2022-10-10T20:12:30.416123Z",
     "shell.execute_reply": "2022-10-10T20:12:30.415632Z"
    },
    "papermill": {
     "duration": 0.045702,
     "end_time": "2022-10-10T20:12:30.416265",
     "exception": false,
     "start_time": "2022-10-10T20:12:30.370563",
     "status": "completed"
    },
    "tags": []
   },
   "outputs": [],
   "source": [
    "%load_ext autoreload\n",
    "%autoreload 2"
   ]
  },
  {
   "cell_type": "code",
   "execution_count": 2,
   "id": "22ef38dc",
   "metadata": {
    "execution": {
     "iopub.execute_input": "2022-10-10T20:12:30.470520Z",
     "iopub.status.busy": "2022-10-10T20:12:30.469903Z",
     "iopub.status.idle": "2022-10-10T20:12:31.031033Z",
     "shell.execute_reply": "2022-10-10T20:12:31.030140Z"
    },
    "papermill": {
     "duration": 0.590595,
     "end_time": "2022-10-10T20:12:31.031168",
     "exception": false,
     "start_time": "2022-10-10T20:12:30.440573",
     "status": "completed"
    },
    "tags": []
   },
   "outputs": [],
   "source": [
    "%matplotlib inline\n",
    "import numpy as np\n",
    "import matplotlib.pyplot as plt\n",
    "import pandas as pd"
   ]
  },
  {
   "cell_type": "markdown",
   "id": "ba036198",
   "metadata": {
    "papermill": {
     "duration": 0.024146,
     "end_time": "2022-10-10T20:12:31.079367",
     "exception": false,
     "start_time": "2022-10-10T20:12:31.055221",
     "status": "completed"
    },
    "tags": []
   },
   "source": [
    "From the command line run `pip install mnist`. This is a library that will help you bring down the mnist dataset. If you run this from a notebook, you need to put  `!pip install mnist` in a cell by itself."
   ]
  },
  {
   "cell_type": "code",
   "execution_count": 3,
   "id": "bb6ad8a1",
   "metadata": {
    "execution": {
     "iopub.execute_input": "2022-10-10T20:12:31.141637Z",
     "iopub.status.busy": "2022-10-10T20:12:31.139021Z",
     "iopub.status.idle": "2022-10-10T20:12:32.836242Z",
     "shell.execute_reply": "2022-10-10T20:12:32.835682Z"
    },
    "papermill": {
     "duration": 1.732809,
     "end_time": "2022-10-10T20:12:32.836366",
     "exception": false,
     "start_time": "2022-10-10T20:12:31.103557",
     "status": "completed"
    },
    "tags": []
   },
   "outputs": [
    {
     "name": "stdout",
     "output_type": "stream",
     "text": [
      "Collecting mnist\r\n"
     ]
    },
    {
     "name": "stdout",
     "output_type": "stream",
     "text": [
      "  Downloading mnist-0.2.2-py2.py3-none-any.whl (3.5 kB)\r\n",
      "Requirement already satisfied: numpy in /opt/hostedtoolcache/Python/3.6.15/x64/lib/python3.6/site-packages (from mnist) (1.19.5)\r\n"
     ]
    },
    {
     "name": "stdout",
     "output_type": "stream",
     "text": [
      "Installing collected packages: mnist\r\n"
     ]
    },
    {
     "name": "stdout",
     "output_type": "stream",
     "text": [
      "Successfully installed mnist-0.2.2\r\n"
     ]
    }
   ],
   "source": [
    "!pip install mnist"
   ]
  },
  {
   "cell_type": "markdown",
   "id": "69df9c9a",
   "metadata": {
    "papermill": {
     "duration": 0.025081,
     "end_time": "2022-10-10T20:12:32.886935",
     "exception": false,
     "start_time": "2022-10-10T20:12:32.861854",
     "status": "completed"
    },
    "tags": []
   },
   "source": [
    "## Preparing the Data"
   ]
  },
  {
   "cell_type": "code",
   "execution_count": 4,
   "id": "7f69d806",
   "metadata": {
    "execution": {
     "iopub.execute_input": "2022-10-10T20:12:32.946244Z",
     "iopub.status.busy": "2022-10-10T20:12:32.945638Z",
     "iopub.status.idle": "2022-10-10T20:12:32.957924Z",
     "shell.execute_reply": "2022-10-10T20:12:32.957439Z"
    },
    "papermill": {
     "duration": 0.046171,
     "end_time": "2022-10-10T20:12:32.958043",
     "exception": false,
     "start_time": "2022-10-10T20:12:32.911872",
     "status": "completed"
    },
    "tags": []
   },
   "outputs": [],
   "source": [
    "import mnist"
   ]
  },
  {
   "cell_type": "code",
   "execution_count": 5,
   "id": "a411e44f",
   "metadata": {
    "execution": {
     "iopub.execute_input": "2022-10-10T20:12:33.012709Z",
     "iopub.status.busy": "2022-10-10T20:12:33.012100Z",
     "iopub.status.idle": "2022-10-10T20:12:33.692503Z",
     "shell.execute_reply": "2022-10-10T20:12:33.691972Z"
    },
    "papermill": {
     "duration": 0.709313,
     "end_time": "2022-10-10T20:12:33.692653",
     "exception": false,
     "start_time": "2022-10-10T20:12:32.983340",
     "status": "completed"
    },
    "tags": []
   },
   "outputs": [],
   "source": [
    "train_images = mnist.train_images()\n",
    "train_labels = mnist.train_labels()"
   ]
  },
  {
   "cell_type": "code",
   "execution_count": 6,
   "id": "dceab3a5",
   "metadata": {
    "execution": {
     "iopub.execute_input": "2022-10-10T20:12:33.748034Z",
     "iopub.status.busy": "2022-10-10T20:12:33.747391Z",
     "iopub.status.idle": "2022-10-10T20:12:33.763040Z",
     "shell.execute_reply": "2022-10-10T20:12:33.762552Z"
    },
    "papermill": {
     "duration": 0.044993,
     "end_time": "2022-10-10T20:12:33.763154",
     "exception": false,
     "start_time": "2022-10-10T20:12:33.718161",
     "status": "completed"
    },
    "tags": []
   },
   "outputs": [
    {
     "data": {
      "text/plain": [
       "((60000, 28, 28), (60000,))"
      ]
     },
     "execution_count": 6,
     "metadata": {},
     "output_type": "execute_result"
    }
   ],
   "source": [
    "train_images.shape, train_labels.shape"
   ]
  },
  {
   "cell_type": "code",
   "execution_count": 7,
   "id": "f50dc2bb",
   "metadata": {
    "execution": {
     "iopub.execute_input": "2022-10-10T20:12:33.818722Z",
     "iopub.status.busy": "2022-10-10T20:12:33.818123Z",
     "iopub.status.idle": "2022-10-10T20:12:34.186901Z",
     "shell.execute_reply": "2022-10-10T20:12:34.186276Z"
    },
    "papermill": {
     "duration": 0.398092,
     "end_time": "2022-10-10T20:12:34.187042",
     "exception": false,
     "start_time": "2022-10-10T20:12:33.788950",
     "status": "completed"
    },
    "tags": []
   },
   "outputs": [],
   "source": [
    "test_images = mnist.test_images()\n",
    "test_labels = mnist.test_labels()"
   ]
  },
  {
   "cell_type": "code",
   "execution_count": 8,
   "id": "fc38cf1b",
   "metadata": {
    "execution": {
     "iopub.execute_input": "2022-10-10T20:12:34.242875Z",
     "iopub.status.busy": "2022-10-10T20:12:34.242280Z",
     "iopub.status.idle": "2022-10-10T20:12:34.256021Z",
     "shell.execute_reply": "2022-10-10T20:12:34.256478Z"
    },
    "papermill": {
     "duration": 0.043426,
     "end_time": "2022-10-10T20:12:34.256636",
     "exception": false,
     "start_time": "2022-10-10T20:12:34.213210",
     "status": "completed"
    },
    "tags": []
   },
   "outputs": [
    {
     "data": {
      "text/plain": [
       "((10000, 28, 28), (10000,))"
      ]
     },
     "execution_count": 8,
     "metadata": {},
     "output_type": "execute_result"
    }
   ],
   "source": [
    "test_images.shape, test_labels.shape"
   ]
  },
  {
   "cell_type": "code",
   "execution_count": 9,
   "id": "f9ed8fe0",
   "metadata": {
    "execution": {
     "iopub.execute_input": "2022-10-10T20:12:34.313369Z",
     "iopub.status.busy": "2022-10-10T20:12:34.312750Z",
     "iopub.status.idle": "2022-10-10T20:12:34.453432Z",
     "shell.execute_reply": "2022-10-10T20:12:34.452864Z"
    },
    "papermill": {
     "duration": 0.171324,
     "end_time": "2022-10-10T20:12:34.453576",
     "exception": false,
     "start_time": "2022-10-10T20:12:34.282252",
     "status": "completed"
    },
    "tags": []
   },
   "outputs": [
    {
     "name": "stdout",
     "output_type": "stream",
     "text": [
      "2\n"
     ]
    },
    {
     "data": {
      "text/plain": [
       "<matplotlib.image.AxesImage at 0x7f04de145d68>"
      ]
     },
     "execution_count": 9,
     "metadata": {},
     "output_type": "execute_result"
    },
    {
     "data": {
      "image/png": "[encoded data removed]",
      "text/plain": [
       "<Figure size 432x288 with 1 Axes>"
      ]
     },
     "metadata": {
      "needs_background": "light"
     },
     "output_type": "display_data"
    }
   ],
   "source": [
    "image_index = 7776 # You may select anything up to 60,000\n",
    "print(train_labels[image_index]) \n",
    "plt.imshow(train_images[image_index], cmap='Greys')"
   ]
  },
  {
   "cell_type": "markdown",
   "id": "a8d2388d",
   "metadata": {
    "papermill": {
     "duration": 0.027327,
     "end_time": "2022-10-10T20:12:34.508076",
     "exception": false,
     "start_time": "2022-10-10T20:12:34.480749",
     "status": "completed"
    },
    "tags": []
   },
   "source": [
    "## Filter data to get 3 and 8 out"
   ]
  },
  {
   "cell_type": "code",
   "execution_count": 10,
   "id": "776f7fc7",
   "metadata": {
    "execution": {
     "iopub.execute_input": "2022-10-10T20:12:34.566627Z",
     "iopub.status.busy": "2022-10-10T20:12:34.565999Z",
     "iopub.status.idle": "2022-10-10T20:12:34.585673Z",
     "shell.execute_reply": "2022-10-10T20:12:34.586149Z"
    },
    "papermill": {
     "duration": 0.051493,
     "end_time": "2022-10-10T20:12:34.586289",
     "exception": false,
     "start_time": "2022-10-10T20:12:34.534796",
     "status": "completed"
    },
    "tags": []
   },
   "outputs": [],
   "source": [
    "train_filter = np.where((train_labels == 3 ) | (train_labels == 8))\n",
    "test_filter = np.where((test_labels == 3) | (test_labels == 8))\n",
    "X_train, y_train = train_images[train_filter], train_labels[train_filter]\n",
    "X_test, y_test = test_images[test_filter], test_labels[test_filter]"
   ]
  },
  {
   "cell_type": "markdown",
   "id": "948f0b7e",
   "metadata": {
    "papermill": {
     "duration": 0.027051,
     "end_time": "2022-10-10T20:12:34.640519",
     "exception": false,
     "start_time": "2022-10-10T20:12:34.613468",
     "status": "completed"
    },
    "tags": []
   },
   "source": [
    "We normalize the pizel values in the 0 to 1 range"
   ]
  },
  {
   "cell_type": "code",
   "execution_count": 11,
   "id": "ee4c2166",
   "metadata": {
    "execution": {
     "iopub.execute_input": "2022-10-10T20:12:34.705128Z",
     "iopub.status.busy": "2022-10-10T20:12:34.703821Z",
     "iopub.status.idle": "2022-10-10T20:12:34.750720Z",
     "shell.execute_reply": "2022-10-10T20:12:34.750158Z"
    },
    "papermill": {
     "duration": 0.081493,
     "end_time": "2022-10-10T20:12:34.750856",
     "exception": false,
     "start_time": "2022-10-10T20:12:34.669363",
     "status": "completed"
    },
    "tags": []
   },
   "outputs": [],
   "source": [
    "X_train = X_train/255.\n",
    "X_test = X_test/255."
   ]
  },
  {
   "cell_type": "markdown",
   "id": "ddcf4fab",
   "metadata": {
    "papermill": {
     "duration": 0.027244,
     "end_time": "2022-10-10T20:12:34.805573",
     "exception": false,
     "start_time": "2022-10-10T20:12:34.778329",
     "status": "completed"
    },
    "tags": []
   },
   "source": [
    "And setup the labels as 1 (when the digit is 3) and 0 (when the digit is 8)"
   ]
  },
  {
   "cell_type": "code",
   "execution_count": 12,
   "id": "7dc908f2",
   "metadata": {
    "execution": {
     "iopub.execute_input": "2022-10-10T20:12:34.864969Z",
     "iopub.status.busy": "2022-10-10T20:12:34.864353Z",
     "iopub.status.idle": "2022-10-10T20:12:34.875691Z",
     "shell.execute_reply": "2022-10-10T20:12:34.876119Z"
    },
    "papermill": {
     "duration": 0.044035,
     "end_time": "2022-10-10T20:12:34.876255",
     "exception": false,
     "start_time": "2022-10-10T20:12:34.832220",
     "status": "completed"
    },
    "tags": []
   },
   "outputs": [],
   "source": [
    "y_train = 1*(y_train==3)\n",
    "y_test = 1*(y_test==3)"
   ]
  },
  {
   "cell_type": "code",
   "execution_count": 13,
   "id": "01e4e969",
   "metadata": {
    "execution": {
     "iopub.execute_input": "2022-10-10T20:12:34.934483Z",
     "iopub.status.busy": "2022-10-10T20:12:34.933884Z",
     "iopub.status.idle": "2022-10-10T20:12:34.947576Z",
     "shell.execute_reply": "2022-10-10T20:12:34.948058Z"
    },
    "papermill": {
     "duration": 0.045022,
     "end_time": "2022-10-10T20:12:34.948191",
     "exception": false,
     "start_time": "2022-10-10T20:12:34.903169",
     "status": "completed"
    },
    "tags": []
   },
   "outputs": [
    {
     "data": {
      "text/plain": [
       "((11982, 28, 28), (1984, 28, 28))"
      ]
     },
     "execution_count": 13,
     "metadata": {},
     "output_type": "execute_result"
    }
   ],
   "source": [
    "X_train.shape, X_test.shape"
   ]
  },
  {
   "cell_type": "markdown",
   "id": "5ccf3f85",
   "metadata": {
    "papermill": {
     "duration": 0.026763,
     "end_time": "2022-10-10T20:12:35.001770",
     "exception": false,
     "start_time": "2022-10-10T20:12:34.975007",
     "status": "completed"
    },
    "tags": []
   },
   "source": [
    "We reshape the data to flatten the image pixels into a set of features or co-variates:"
   ]
  },
  {
   "cell_type": "code",
   "execution_count": 14,
   "id": "5286a4a3",
   "metadata": {
    "execution": {
     "iopub.execute_input": "2022-10-10T20:12:35.074281Z",
     "iopub.status.busy": "2022-10-10T20:12:35.073653Z",
     "iopub.status.idle": "2022-10-10T20:12:35.083217Z",
     "shell.execute_reply": "2022-10-10T20:12:35.082731Z"
    },
    "papermill": {
     "duration": 0.052835,
     "end_time": "2022-10-10T20:12:35.083337",
     "exception": false,
     "start_time": "2022-10-10T20:12:35.030502",
     "status": "completed"
    },
    "tags": []
   },
   "outputs": [
    {
     "data": {
      "text/plain": [
       "((11982, 784), (1984, 784))"
      ]
     },
     "execution_count": 14,
     "metadata": {},
     "output_type": "execute_result"
    }
   ],
   "source": [
    "X_train = X_train.reshape(X_train.shape[0], -1)\n",
    "X_test = X_test.reshape(X_test.shape[0], -1)\n",
    "X_train.shape, X_test.shape"
   ]
  },
  {
   "cell_type": "code",
   "execution_count": 15,
   "id": "73c5f88a",
   "metadata": {
    "execution": {
     "iopub.execute_input": "2022-10-10T20:12:35.161501Z",
     "iopub.status.busy": "2022-10-10T20:12:35.153586Z",
     "iopub.status.idle": "2022-10-10T20:12:35.166178Z",
     "shell.execute_reply": "2022-10-10T20:12:35.165683Z"
    },
    "papermill": {
     "duration": 0.055619,
     "end_time": "2022-10-10T20:12:35.166296",
     "exception": false,
     "start_time": "2022-10-10T20:12:35.110677",
     "status": "completed"
    },
    "tags": []
   },
   "outputs": [],
   "source": [
    "#Impoting functions from 'Kudzu'\n",
    "from kudzu.model import Model\n",
    "from kudzu.train import Learner\n",
    "from kudzu.optim import GD\n",
    "from kudzu.data import Data, Sampler,Dataloader\n",
    "\n",
    "from kudzu.callbacks import AccCallback\n",
    "from kudzu.callbacks import ClfCallback\n",
    "\n",
    "from kudzu.loss import MSE\n",
    "\n",
    "from kudzu.layer import Sigmoid,Relu\n",
    "from kudzu.layer import Affine"
   ]
  },
  {
   "cell_type": "markdown",
   "id": "bc01172a",
   "metadata": {
    "papermill": {
     "duration": 0.027425,
     "end_time": "2022-10-10T20:12:35.221077",
     "exception": false,
     "start_time": "2022-10-10T20:12:35.193652",
     "status": "completed"
    },
    "tags": []
   },
   "source": [
    "### Let us create a `Config` class, to store important parameters. \n",
    "This class essentially plays the role of a dictionary."
   ]
  },
  {
   "cell_type": "code",
   "execution_count": 16,
   "id": "978281aa",
   "metadata": {
    "execution": {
     "iopub.execute_input": "2022-10-10T20:12:35.280525Z",
     "iopub.status.busy": "2022-10-10T20:12:35.279921Z",
     "iopub.status.idle": "2022-10-10T20:12:35.293261Z",
     "shell.execute_reply": "2022-10-10T20:12:35.292762Z"
    },
    "papermill": {
     "duration": 0.044321,
     "end_time": "2022-10-10T20:12:35.293379",
     "exception": false,
     "start_time": "2022-10-10T20:12:35.249058",
     "status": "completed"
    },
    "tags": []
   },
   "outputs": [],
   "source": [
    "class Config:\n",
    "    pass\n",
    "config = Config()\n",
    "config.lr = 0.001\n",
    "config.num_epochs = 250\n",
    "config.bs = 50"
   ]
  },
  {
   "cell_type": "markdown",
   "id": "1385fa59",
   "metadata": {
    "papermill": {
     "duration": 0.028129,
     "end_time": "2022-10-10T20:12:35.348667",
     "exception": false,
     "start_time": "2022-10-10T20:12:35.320538",
     "status": "completed"
    },
    "tags": []
   },
   "source": [
    "### Running Models with the Training data\n",
    "Details about the network layers:\n",
    "- A first affine layer has 784 inputs and does 100 affine transforms. These are followed by a Relu\n",
    "- A second affine layer has 100 inputs from the 100 activations of the past layer, and does 100 affine transforms. These are followed by a Relu\n",
    "- A third affine layer has 100 activations and does 2 affine transformations to create an embedding for visualization. There is no non-linearity here.\n",
    "- A final \"logistic regression\" which has an affine transform from 2 inputs to 1 output, which is squeezed through a sigmoid.\n"
   ]
  },
  {
   "cell_type": "code",
   "execution_count": 17,
   "id": "2b9c66db",
   "metadata": {
    "execution": {
     "iopub.execute_input": "2022-10-10T20:12:35.415661Z",
     "iopub.status.busy": "2022-10-10T20:12:35.415046Z",
     "iopub.status.idle": "2022-10-10T20:12:35.422131Z",
     "shell.execute_reply": "2022-10-10T20:12:35.422604Z"
    },
    "papermill": {
     "duration": 0.04685,
     "end_time": "2022-10-10T20:12:35.422740",
     "exception": false,
     "start_time": "2022-10-10T20:12:35.375890",
     "status": "completed"
    },
    "tags": []
   },
   "outputs": [],
   "source": [
    "data = Data(X_train, y_train.reshape(-1,1))\n",
    "sampler = Sampler(data, config.bs, shuffle=True)\n",
    "\n",
    "dl = Dataloader(data, sampler)\n",
    "\n",
    "opt = GD(config.lr)\n",
    "loss = MSE()"
   ]
  },
  {
   "cell_type": "code",
   "execution_count": 18,
   "id": "b275e4c2",
   "metadata": {
    "execution": {
     "iopub.execute_input": "2022-10-10T20:12:35.481568Z",
     "iopub.status.busy": "2022-10-10T20:12:35.480950Z",
     "iopub.status.idle": "2022-10-10T20:12:35.493994Z",
     "shell.execute_reply": "2022-10-10T20:12:35.494448Z"
    },
    "papermill": {
     "duration": 0.04468,
     "end_time": "2022-10-10T20:12:35.494583",
     "exception": false,
     "start_time": "2022-10-10T20:12:35.449903",
     "status": "completed"
    },
    "tags": []
   },
   "outputs": [],
   "source": [
    "training_data_x = X_train\n",
    "testing_data_x = X_test\n",
    "training_data_y = y_train.reshape(-1,1)\n",
    "testing_data_y = y_test.reshape(-1,1)"
   ]
  },
  {
   "cell_type": "code",
   "execution_count": 19,
   "id": "76951160",
   "metadata": {
    "execution": {
     "iopub.execute_input": "2022-10-10T20:12:35.562462Z",
     "iopub.status.busy": "2022-10-10T20:12:35.561830Z",
     "iopub.status.idle": "2022-10-10T20:12:35.573234Z",
     "shell.execute_reply": "2022-10-10T20:12:35.573718Z"
    },
    "papermill": {
     "duration": 0.051758,
     "end_time": "2022-10-10T20:12:35.573857",
     "exception": false,
     "start_time": "2022-10-10T20:12:35.522099",
     "status": "completed"
    },
    "tags": []
   },
   "outputs": [
    {
     "name": "stdout",
     "output_type": "stream",
     "text": [
      "xavier\n",
      "xavier\n",
      "xavier\n",
      "xavier\n",
      "xavier\n"
     ]
    }
   ],
   "source": [
    "layers = [Affine(\"first\", 784, 100), Relu(\"first\"), Affine(\"second\", 100, 100), Relu(\"second\"), Affine(\"third\", 100, 2), Affine(\"last\", 2, 1), Sigmoid(\"last\")]\n",
    "model_nn = Model(layers)\n",
    "model_lr = Model([Affine(\"logits\", 784, 1), Sigmoid(\"sigmoid\")])"
   ]
  },
  {
   "cell_type": "code",
   "execution_count": 20,
   "id": "6eede77a",
   "metadata": {
    "execution": {
     "iopub.execute_input": "2022-10-10T20:12:35.648670Z",
     "iopub.status.busy": "2022-10-10T20:12:35.646066Z",
     "iopub.status.idle": "2022-10-10T20:12:35.650930Z",
     "shell.execute_reply": "2022-10-10T20:12:35.651361Z"
    },
    "papermill": {
     "duration": 0.049964,
     "end_time": "2022-10-10T20:12:35.651504",
     "exception": false,
     "start_time": "2022-10-10T20:12:35.601540",
     "status": "completed"
    },
    "tags": []
   },
   "outputs": [],
   "source": [
    "nn_learner = Learner(loss, model_nn, opt, config.num_epochs)\n",
    "acc_nn = ClfCallback(nn_learner, config.bs, training_data_x , testing_data_x, training_data_y, testing_data_y)\n",
    "nn_learner.set_callbacks([acc_nn])"
   ]
  },
  {
   "cell_type": "code",
   "execution_count": 21,
   "id": "877b6cc7",
   "metadata": {
    "execution": {
     "iopub.execute_input": "2022-10-10T20:12:35.711201Z",
     "iopub.status.busy": "2022-10-10T20:12:35.710606Z",
     "iopub.status.idle": "2022-10-10T20:12:35.723598Z",
     "shell.execute_reply": "2022-10-10T20:12:35.723098Z"
    },
    "papermill": {
     "duration": 0.044666,
     "end_time": "2022-10-10T20:12:35.723719",
     "exception": false,
     "start_time": "2022-10-10T20:12:35.679053",
     "status": "completed"
    },
    "tags": []
   },
   "outputs": [],
   "source": [
    "lr_learner = Learner(loss, model_lr, opt, config.num_epochs)\n",
    "acc_lr = ClfCallback(lr_learner, config.bs, training_data_x , testing_data_x, training_data_y, testing_data_y)\n",
    "lr_learner.set_callbacks([acc_lr])"
   ]
  },
  {
   "cell_type": "code",
   "execution_count": 22,
   "id": "d9b133c3",
   "metadata": {
    "execution": {
     "iopub.execute_input": "2022-10-10T20:12:35.783435Z",
     "iopub.status.busy": "2022-10-10T20:12:35.782836Z",
     "iopub.status.idle": "2022-10-10T20:13:52.624728Z",
     "shell.execute_reply": "2022-10-10T20:13:52.625572Z"
    },
    "papermill": {
     "duration": 76.874228,
     "end_time": "2022-10-10T20:13:52.625718",
     "exception": false,
     "start_time": "2022-10-10T20:12:35.751490",
     "status": "completed"
    },
    "tags": []
   },
   "outputs": [
    {
     "name": "stdout",
     "output_type": "stream",
     "text": [
      "Epoch 0, Loss 0.2397\n",
      "Training Accuracy: 0.7145, Testing Accuracy: 0.7344\n",
      "\n"
     ]
    },
    {
     "name": "stdout",
     "output_type": "stream",
     "text": [
      "Epoch 10, Loss 0.1388\n",
      "Training Accuracy: 0.8960, Testing Accuracy: 0.9037\n",
      "\n"
     ]
    },
    {
     "name": "stdout",
     "output_type": "stream",
     "text": [
      "Epoch 20, Loss 0.0747\n",
      "Training Accuracy: 0.9254, Testing Accuracy: 0.9360\n",
      "\n"
     ]
    },
    {
     "name": "stdout",
     "output_type": "stream",
     "text": [
      "Epoch 30, Loss 0.0534\n",
      "Training Accuracy: 0.9433, Testing Accuracy: 0.9531\n",
      "\n"
     ]
    },
    {
     "name": "stdout",
     "output_type": "stream",
     "text": [
      "Epoch 40, Loss 0.0439\n",
      "Training Accuracy: 0.9514, Testing Accuracy: 0.9597\n",
      "\n"
     ]
    },
    {
     "name": "stdout",
     "output_type": "stream",
     "text": [
      "Epoch 50, Loss 0.0387\n",
      "Training Accuracy: 0.9558, Testing Accuracy: 0.9627\n",
      "\n"
     ]
    },
    {
     "name": "stdout",
     "output_type": "stream",
     "text": [
      "Epoch 60, Loss 0.0355\n",
      "Training Accuracy: 0.9598, Testing Accuracy: 0.9642\n",
      "\n"
     ]
    },
    {
     "name": "stdout",
     "output_type": "stream",
     "text": [
      "Epoch 70, Loss 0.0331\n",
      "Training Accuracy: 0.9624, Testing Accuracy: 0.9667\n",
      "\n"
     ]
    },
    {
     "name": "stdout",
     "output_type": "stream",
     "text": [
      "Epoch 80, Loss 0.0314\n",
      "Training Accuracy: 0.9644, Testing Accuracy: 0.9682\n",
      "\n"
     ]
    },
    {
     "name": "stdout",
     "output_type": "stream",
     "text": [
      "Epoch 90, Loss 0.03\n",
      "Training Accuracy: 0.9655, Testing Accuracy: 0.9682\n",
      "\n"
     ]
    },
    {
     "name": "stdout",
     "output_type": "stream",
     "text": [
      "Epoch 100, Loss 0.0288\n",
      "Training Accuracy: 0.9663, Testing Accuracy: 0.9688\n",
      "\n"
     ]
    },
    {
     "name": "stdout",
     "output_type": "stream",
     "text": [
      "Epoch 110, Loss 0.0279\n",
      "Training Accuracy: 0.9671, Testing Accuracy: 0.9693\n",
      "\n"
     ]
    },
    {
     "name": "stdout",
     "output_type": "stream",
     "text": [
      "Epoch 120, Loss 0.027\n",
      "Training Accuracy: 0.9680, Testing Accuracy: 0.9693\n",
      "\n"
     ]
    },
    {
     "name": "stdout",
     "output_type": "stream",
     "text": [
      "Epoch 130, Loss 0.0263\n",
      "Training Accuracy: 0.9685, Testing Accuracy: 0.9688\n",
      "\n"
     ]
    },
    {
     "name": "stdout",
     "output_type": "stream",
     "text": [
      "Epoch 140, Loss 0.0256\n",
      "Training Accuracy: 0.9695, Testing Accuracy: 0.9688\n",
      "\n"
     ]
    },
    {
     "name": "stdout",
     "output_type": "stream",
     "text": [
      "Epoch 150, Loss 0.025\n",
      "Training Accuracy: 0.9702, Testing Accuracy: 0.9688\n",
      "\n"
     ]
    },
    {
     "name": "stdout",
     "output_type": "stream",
     "text": [
      "Epoch 160, Loss 0.0244\n",
      "Training Accuracy: 0.9709, Testing Accuracy: 0.9693\n",
      "\n"
     ]
    },
    {
     "name": "stdout",
     "output_type": "stream",
     "text": [
      "Epoch 170, Loss 0.0239\n",
      "Training Accuracy: 0.9721, Testing Accuracy: 0.9703\n",
      "\n"
     ]
    },
    {
     "name": "stdout",
     "output_type": "stream",
     "text": [
      "Epoch 180, Loss 0.0234\n",
      "Training Accuracy: 0.9729, Testing Accuracy: 0.9708\n",
      "\n"
     ]
    },
    {
     "name": "stdout",
     "output_type": "stream",
     "text": [
      "Epoch 190, Loss 0.0229\n",
      "Training Accuracy: 0.9738, Testing Accuracy: 0.9718\n",
      "\n"
     ]
    },
    {
     "name": "stdout",
     "output_type": "stream",
     "text": [
      "Epoch 200, Loss 0.0225\n",
      "Training Accuracy: 0.9741, Testing Accuracy: 0.9723\n",
      "\n"
     ]
    },
    {
     "name": "stdout",
     "output_type": "stream",
     "text": [
      "Epoch 210, Loss 0.022\n",
      "Training Accuracy: 0.9748, Testing Accuracy: 0.9728\n",
      "\n"
     ]
    },
    {
     "name": "stdout",
     "output_type": "stream",
     "text": [
      "Epoch 220, Loss 0.0216\n",
      "Training Accuracy: 0.9754, Testing Accuracy: 0.9738\n",
      "\n"
     ]
    },
    {
     "name": "stdout",
     "output_type": "stream",
     "text": [
      "Epoch 230, Loss 0.0212\n",
      "Training Accuracy: 0.9761, Testing Accuracy: 0.9738\n",
      "\n"
     ]
    },
    {
     "name": "stdout",
     "output_type": "stream",
     "text": [
      "Epoch 240, Loss 0.0209\n",
      "Training Accuracy: 0.9765, Testing Accuracy: 0.9743\n",
      "\n"
     ]
    },
    {
     "data": {
      "text/plain": [
       "0.031118208434488932"
      ]
     },
     "execution_count": 22,
     "metadata": {},
     "output_type": "execute_result"
    }
   ],
   "source": [
    "nn_learner.train_loop(dl)"
   ]
  },
  {
   "cell_type": "code",
   "execution_count": 23,
   "id": "e0163366",
   "metadata": {
    "execution": {
     "iopub.execute_input": "2022-10-10T20:13:52.710050Z",
     "iopub.status.busy": "2022-10-10T20:13:52.709426Z",
     "iopub.status.idle": "2022-10-10T20:14:06.917951Z",
     "shell.execute_reply": "2022-10-10T20:14:06.918864Z"
    },
    "papermill": {
     "duration": 14.254437,
     "end_time": "2022-10-10T20:14:06.919014",
     "exception": false,
     "start_time": "2022-10-10T20:13:52.664577",
     "status": "completed"
    },
    "tags": []
   },
   "outputs": [
    {
     "name": "stdout",
     "output_type": "stream",
     "text": [
      "Epoch 0, Loss 0.1978\n",
      "Training Accuracy: 0.8262, Testing Accuracy: 0.8382\n",
      "\n"
     ]
    },
    {
     "name": "stdout",
     "output_type": "stream",
     "text": [
      "Epoch 10, Loss 0.0972\n",
      "Training Accuracy: 0.9159, Testing Accuracy: 0.9259\n",
      "\n"
     ]
    },
    {
     "name": "stdout",
     "output_type": "stream",
     "text": [
      "Epoch 20, Loss 0.0767\n",
      "Training Accuracy: 0.9305, Testing Accuracy: 0.9430\n",
      "\n"
     ]
    },
    {
     "name": "stdout",
     "output_type": "stream",
     "text": [
      "Epoch 30, Loss 0.0666\n",
      "Training Accuracy: 0.9384, Testing Accuracy: 0.9501\n",
      "\n"
     ]
    },
    {
     "name": "stdout",
     "output_type": "stream",
     "text": [
      "Epoch 40, Loss 0.0605\n",
      "Training Accuracy: 0.9430, Testing Accuracy: 0.9531\n",
      "\n"
     ]
    },
    {
     "name": "stdout",
     "output_type": "stream",
     "text": [
      "Epoch 50, Loss 0.0562\n",
      "Training Accuracy: 0.9473, Testing Accuracy: 0.9536\n",
      "\n"
     ]
    },
    {
     "name": "stdout",
     "output_type": "stream",
     "text": [
      "Epoch 60, Loss 0.0531\n",
      "Training Accuracy: 0.9503, Testing Accuracy: 0.9556\n",
      "\n"
     ]
    },
    {
     "name": "stdout",
     "output_type": "stream",
     "text": [
      "Epoch 70, Loss 0.0506\n",
      "Training Accuracy: 0.9521, Testing Accuracy: 0.9556\n",
      "\n"
     ]
    },
    {
     "name": "stdout",
     "output_type": "stream",
     "text": [
      "Epoch 80, Loss 0.0487\n",
      "Training Accuracy: 0.9523, Testing Accuracy: 0.9577\n",
      "\n"
     ]
    },
    {
     "name": "stdout",
     "output_type": "stream",
     "text": [
      "Epoch 90, Loss 0.0471\n",
      "Training Accuracy: 0.9532, Testing Accuracy: 0.9597\n",
      "\n"
     ]
    },
    {
     "name": "stdout",
     "output_type": "stream",
     "text": [
      "Epoch 100, Loss 0.0457\n",
      "Training Accuracy: 0.9547, Testing Accuracy: 0.9602\n",
      "\n"
     ]
    },
    {
     "name": "stdout",
     "output_type": "stream",
     "text": [
      "Epoch 110, Loss 0.0445\n",
      "Training Accuracy: 0.9553, Testing Accuracy: 0.9627\n",
      "\n"
     ]
    },
    {
     "name": "stdout",
     "output_type": "stream",
     "text": [
      "Epoch 120, Loss 0.0435\n",
      "Training Accuracy: 0.9561, Testing Accuracy: 0.9637\n",
      "\n"
     ]
    },
    {
     "name": "stdout",
     "output_type": "stream",
     "text": [
      "Epoch 130, Loss 0.0426\n",
      "Training Accuracy: 0.9565, Testing Accuracy: 0.9642\n",
      "\n"
     ]
    },
    {
     "name": "stdout",
     "output_type": "stream",
     "text": [
      "Epoch 140, Loss 0.0418\n",
      "Training Accuracy: 0.9573, Testing Accuracy: 0.9637\n",
      "\n"
     ]
    },
    {
     "name": "stdout",
     "output_type": "stream",
     "text": [
      "Epoch 150, Loss 0.0411\n",
      "Training Accuracy: 0.9580, Testing Accuracy: 0.9637\n",
      "\n"
     ]
    },
    {
     "name": "stdout",
     "output_type": "stream",
     "text": [
      "Epoch 160, Loss 0.0404\n",
      "Training Accuracy: 0.9583, Testing Accuracy: 0.9642\n",
      "\n"
     ]
    },
    {
     "name": "stdout",
     "output_type": "stream",
     "text": [
      "Epoch 170, Loss 0.0399\n",
      "Training Accuracy: 0.9584, Testing Accuracy: 0.9647\n",
      "\n"
     ]
    },
    {
     "name": "stdout",
     "output_type": "stream",
     "text": [
      "Epoch 180, Loss 0.0393\n",
      "Training Accuracy: 0.9589, Testing Accuracy: 0.9652\n",
      "\n"
     ]
    },
    {
     "name": "stdout",
     "output_type": "stream",
     "text": [
      "Epoch 190, Loss 0.0388\n",
      "Training Accuracy: 0.9593, Testing Accuracy: 0.9652\n",
      "\n"
     ]
    },
    {
     "name": "stdout",
     "output_type": "stream",
     "text": [
      "Epoch 200, Loss 0.0383\n",
      "Training Accuracy: 0.9598, Testing Accuracy: 0.9652\n",
      "\n"
     ]
    },
    {
     "name": "stdout",
     "output_type": "stream",
     "text": [
      "Epoch 210, Loss 0.0379\n",
      "Training Accuracy: 0.9599, Testing Accuracy: 0.9647\n",
      "\n"
     ]
    },
    {
     "name": "stdout",
     "output_type": "stream",
     "text": [
      "Epoch 220, Loss 0.0375\n",
      "Training Accuracy: 0.9606, Testing Accuracy: 0.9657\n",
      "\n"
     ]
    },
    {
     "name": "stdout",
     "output_type": "stream",
     "text": [
      "Epoch 230, Loss 0.0371\n",
      "Training Accuracy: 0.9610, Testing Accuracy: 0.9662\n",
      "\n"
     ]
    },
    {
     "name": "stdout",
     "output_type": "stream",
     "text": [
      "Epoch 240, Loss 0.0368\n",
      "Training Accuracy: 0.9615, Testing Accuracy: 0.9662\n",
      "\n"
     ]
    },
    {
     "data": {
      "text/plain": [
       "0.06095054948181065"
      ]
     },
     "execution_count": 23,
     "metadata": {},
     "output_type": "execute_result"
    }
   ],
   "source": [
    "lr_learner.train_loop(dl)"
   ]
  },
  {
   "cell_type": "code",
   "execution_count": 24,
   "id": "ca410940",
   "metadata": {
    "execution": {
     "iopub.execute_input": "2022-10-10T20:14:07.016164Z",
     "iopub.status.busy": "2022-10-10T20:14:07.015517Z",
     "iopub.status.idle": "2022-10-10T20:14:07.233102Z",
     "shell.execute_reply": "2022-10-10T20:14:07.233558Z"
    },
    "papermill": {
     "duration": 0.272539,
     "end_time": "2022-10-10T20:14:07.233699",
     "exception": false,
     "start_time": "2022-10-10T20:14:06.961160",
     "status": "completed"
    },
    "tags": []
   },
   "outputs": [
    {
     "data": {
      "text/plain": [
       "<matplotlib.legend.Legend at 0x7f04ddcb3550>"
      ]
     },
     "execution_count": 24,
     "metadata": {},
     "output_type": "execute_result"
    },
    {
     "data": {
      "image/png": "[encoded data removed]",
      "text/plain": [
       "<Figure size 1080x720 with 1 Axes>"
      ]
     },
     "metadata": {
      "needs_background": "light"
     },
     "output_type": "display_data"
    }
   ],
   "source": [
    "#comparing the results of NN and LR\n",
    "plt.figure(figsize=(15,10))\n",
    "\n",
    "# Neural Network plots\n",
    "plt.plot(acc_nn.accuracies, 'r-', label = \"Training Accuracies - NN\")\n",
    "plt.plot(acc_nn.test_accuracies, 'g-', label = \"Testing Accuracies - NN\")\n",
    "\n",
    "# Logistic Regression plots\n",
    "plt.plot(acc_lr.accuracies, 'k-', label = \"Training Accuracies - LR\")\n",
    "plt.plot(acc_lr.test_accuracies, 'b-', label = \"Testing Accuracies - LR\")\n",
    "plt.legend()"
   ]
  },
  {
   "cell_type": "markdown",
   "id": "80dfb35c",
   "metadata": {
    "papermill": {
     "duration": 0.042237,
     "end_time": "2022-10-10T20:14:07.318714",
     "exception": false,
     "start_time": "2022-10-10T20:14:07.276477",
     "status": "completed"
    },
    "tags": []
   },
   "source": [
    "#### Plotting the outputs of this layer of the NN.\n"
   ]
  },
  {
   "cell_type": "code",
   "execution_count": 25,
   "id": "45eb2ff5",
   "metadata": {
    "execution": {
     "iopub.execute_input": "2022-10-10T20:14:07.408280Z",
     "iopub.status.busy": "2022-10-10T20:14:07.407673Z",
     "iopub.status.idle": "2022-10-10T20:14:07.429559Z",
     "shell.execute_reply": "2022-10-10T20:14:07.428546Z"
    },
    "papermill": {
     "duration": 0.068513,
     "end_time": "2022-10-10T20:14:07.429687",
     "exception": false,
     "start_time": "2022-10-10T20:14:07.361174",
     "status": "completed"
    },
    "tags": []
   },
   "outputs": [],
   "source": [
    "new_model = Model(layers[:-2])\n",
    "testing_plot = new_model(testing_data_x)"
   ]
  },
  {
   "cell_type": "code",
   "execution_count": 26,
   "id": "4c0a5485",
   "metadata": {
    "execution": {
     "iopub.execute_input": "2022-10-10T20:14:07.522821Z",
     "iopub.status.busy": "2022-10-10T20:14:07.520473Z",
     "iopub.status.idle": "2022-10-10T20:14:07.723446Z",
     "shell.execute_reply": "2022-10-10T20:14:07.722941Z"
    },
    "papermill": {
     "duration": 0.250617,
     "end_time": "2022-10-10T20:14:07.723565",
     "exception": false,
     "start_time": "2022-10-10T20:14:07.472948",
     "status": "completed"
    },
    "tags": []
   },
   "outputs": [
    {
     "data": {
      "text/plain": [
       "Text(0.5, 1.0, 'Outputs')"
      ]
     },
     "execution_count": 26,
     "metadata": {},
     "output_type": "execute_result"
    },
    {
     "data": {
      "image/png": "[encoded data removed]",
      "text/plain": [
       "<Figure size 576x504 with 1 Axes>"
      ]
     },
     "metadata": {
      "needs_background": "light"
     },
     "output_type": "display_data"
    }
   ],
   "source": [
    "# Plotting the scatter plot of points and color coding by class\n",
    "plt.figure(figsize=(8,7))\n",
    "plt.scatter(testing_plot[:,0], testing_plot[:,1], alpha = 0.1, c = y_test.ravel());\n",
    "plt.title('Outputs')"
   ]
  },
  {
   "cell_type": "markdown",
   "id": "a74fcf8f",
   "metadata": {
    "papermill": {
     "duration": 0.045322,
     "end_time": "2022-10-10T20:14:07.814048",
     "exception": false,
     "start_time": "2022-10-10T20:14:07.768726",
     "status": "completed"
    },
    "tags": []
   },
   "source": [
    "Probability contours"
   ]
  },
  {
   "cell_type": "code",
   "execution_count": 27,
   "id": "d0afc8e3",
   "metadata": {
    "execution": {
     "iopub.execute_input": "2022-10-10T20:14:07.954501Z",
     "iopub.status.busy": "2022-10-10T20:14:07.949518Z",
     "iopub.status.idle": "2022-10-10T20:14:07.956814Z",
     "shell.execute_reply": "2022-10-10T20:14:07.957273Z"
    },
    "papermill": {
     "duration": 0.098187,
     "end_time": "2022-10-10T20:14:07.957404",
     "exception": false,
     "start_time": "2022-10-10T20:14:07.859217",
     "status": "completed"
    },
    "tags": []
   },
   "outputs": [],
   "source": [
    "model_prob = Model(layers[-2:]) "
   ]
  },
  {
   "cell_type": "code",
   "execution_count": 28,
   "id": "9b96e238",
   "metadata": {
    "execution": {
     "iopub.execute_input": "2022-10-10T20:14:08.060627Z",
     "iopub.status.busy": "2022-10-10T20:14:08.059963Z",
     "iopub.status.idle": "2022-10-10T20:14:08.070087Z",
     "shell.execute_reply": "2022-10-10T20:14:08.070648Z"
    },
    "papermill": {
     "duration": 0.0682,
     "end_time": "2022-10-10T20:14:08.070787",
     "exception": false,
     "start_time": "2022-10-10T20:14:08.002587",
     "status": "completed"
    },
    "tags": []
   },
   "outputs": [],
   "source": [
    "#creating the x and y ranges according to the above generated plot.\n",
    "x_range = np.linspace(-4, 1, 100) \n",
    "y_range = np.linspace(-6, 6, 100) \n",
    "x_grid, y_grid = np.meshgrid(x_range, y_range) # x_grid and y_grig are of size 100 X 100\n",
    "\n",
    "# converting x_grid and y_grid to continuous arrays\n",
    "x_gridflat = np.ravel(x_grid)\n",
    "y_gridflat = np.ravel(y_grid)\n",
    "\n",
    "# The last layer of the current model takes two columns as input. Hence transpose of np.vstack() is required.\n",
    "X = np.vstack((x_gridflat, y_gridflat)).T\n",
    "\n",
    "prob_contour = model_prob(X).reshape(100,100) "
   ]
  },
  {
   "cell_type": "code",
   "execution_count": 29,
   "id": "da72499a",
   "metadata": {
    "execution": {
     "iopub.execute_input": "2022-10-10T20:14:08.170358Z",
     "iopub.status.busy": "2022-10-10T20:14:08.169760Z",
     "iopub.status.idle": "2022-10-10T20:14:08.423378Z",
     "shell.execute_reply": "2022-10-10T20:14:08.423912Z"
    },
    "papermill": {
     "duration": 0.307851,
     "end_time": "2022-10-10T20:14:08.424049",
     "exception": false,
     "start_time": "2022-10-10T20:14:08.116198",
     "status": "completed"
    },
    "tags": []
   },
   "outputs": [
    {
     "data": {
      "image/png": "[encoded data removed]",
      "text/plain": [
       "<Figure size 720x648 with 1 Axes>"
      ]
     },
     "metadata": {
      "needs_background": "light"
     },
     "output_type": "display_data"
    }
   ],
   "source": [
    "plt.figure(figsize=(10,9))\n",
    "plt.scatter(testing_plot[:,0], testing_plot[:,1], alpha = 0.1, c = y_test.ravel())\n",
    "contours = plt.contour(x_grid,y_grid,prob_contour)\n",
    "plt.title('Probability Contours')\n",
    "plt.clabel(contours, inline = True );"
   ]
  },
  {
   "cell_type": "code",
   "execution_count": null,
   "id": "e81b4ac7",
   "metadata": {
    "papermill": {
     "duration": 0.048471,
     "end_time": "2022-10-10T20:14:08.521299",
     "exception": false,
     "start_time": "2022-10-10T20:14:08.472828",
     "status": "completed"
    },
    "tags": []
   },
   "outputs": [],
   "source": []
  }
 ],
 "metadata": {
  "kernelspec": {
   "display_name": "Python 3",
   "language": "python",
   "name": "python3"
  },
  "language_info": {
   "codemirror_mode": {
    "name": "ipython",
    "version": 3
   },
   "file_extension": ".py",
   "mimetype": "text/x-python",
   "name": "python",
   "nbconvert_exporter": "python",
   "pygments_lexer": "ipython3",
   "version": "3.6.15"
  },
  "papermill": {
   "default_parameters": {},
   "duration": 99.765696,
   "end_time": "2022-10-10T20:14:08.988744",
   "environment_variables": {},
   "exception": null,
   "input_path": "2020-08-11-part2.ipynb",
   "output_path": "2020-08-11-part2.ipynb",
   "parameters": {},
   "start_time": "2022-10-10T20:12:29.223048",
   "version": "2.3.3"
  }
 },
 "nbformat": 4,
 "nbformat_minor": 5
}