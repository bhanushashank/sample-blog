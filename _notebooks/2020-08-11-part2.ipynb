{
 "cells": [
  {
   "cell_type": "markdown",
   "id": "98380cd3",
   "metadata": {
    "papermill": {
     "duration": 0.02485,
     "end_time": "2022-03-25T20:09:48.016556",
     "exception": false,
     "start_time": "2022-03-25T20:09:47.991706",
     "status": "completed"
    },
    "tags": []
   },
   "source": [
    "# Distinguish Your Own Digits (DYOD)"
   ]
  },
  {
   "cell_type": "markdown",
   "id": "ef31240d",
   "metadata": {
    "papermill": {
     "duration": 0.022311,
     "end_time": "2022-03-25T20:09:48.060394",
     "exception": false,
     "start_time": "2022-03-25T20:09:48.038083",
     "status": "completed"
    },
    "tags": []
   },
   "source": [
    "You are going to write a classifier that distinguishes between the number 3 and number 8."
   ]
  },
  {
   "cell_type": "code",
   "execution_count": 1,
   "id": "b15c8646",
   "metadata": {
    "execution": {
     "iopub.execute_input": "2022-03-25T20:09:48.111976Z",
     "iopub.status.busy": "2022-03-25T20:09:48.111507Z",
     "iopub.status.idle": "2022-03-25T20:09:48.120460Z",
     "shell.execute_reply": "2022-03-25T20:09:48.120801Z"
    },
    "papermill": {
     "duration": 0.039682,
     "end_time": "2022-03-25T20:09:48.120939",
     "exception": false,
     "start_time": "2022-03-25T20:09:48.081257",
     "status": "completed"
    },
    "tags": []
   },
   "outputs": [],
   "source": [
    "%load_ext autoreload\n",
    "%autoreload 2"
   ]
  },
  {
   "cell_type": "code",
   "execution_count": 2,
   "id": "22ef38dc",
   "metadata": {
    "execution": {
     "iopub.execute_input": "2022-03-25T20:09:48.169759Z",
     "iopub.status.busy": "2022-03-25T20:09:48.169302Z",
     "iopub.status.idle": "2022-03-25T20:09:48.682507Z",
     "shell.execute_reply": "2022-03-25T20:09:48.681994Z"
    },
    "papermill": {
     "duration": 0.54064,
     "end_time": "2022-03-25T20:09:48.682648",
     "exception": false,
     "start_time": "2022-03-25T20:09:48.142008",
     "status": "completed"
    },
    "tags": []
   },
   "outputs": [],
   "source": [
    "%matplotlib inline\n",
    "import numpy as np\n",
    "import matplotlib.pyplot as plt\n",
    "import pandas as pd"
   ]
  },
  {
   "cell_type": "markdown",
   "id": "ba036198",
   "metadata": {
    "papermill": {
     "duration": 0.021075,
     "end_time": "2022-03-25T20:09:48.725775",
     "exception": false,
     "start_time": "2022-03-25T20:09:48.704700",
     "status": "completed"
    },
    "tags": []
   },
   "source": [
    "From the command line run `pip install mnist`. This is a library that will help you bring down the mnist dataset. If you run this from a notebook, you need to put  `!pip install mnist` in a cell by itself."
   ]
  },
  {
   "cell_type": "code",
   "execution_count": 3,
   "id": "bb6ad8a1",
   "metadata": {
    "execution": {
     "iopub.execute_input": "2022-03-25T20:09:48.786916Z",
     "iopub.status.busy": "2022-03-25T20:09:48.781764Z",
     "iopub.status.idle": "2022-03-25T20:09:50.336721Z",
     "shell.execute_reply": "2022-03-25T20:09:50.336179Z"
    },
    "papermill": {
     "duration": 1.590111,
     "end_time": "2022-03-25T20:09:50.336857",
     "exception": false,
     "start_time": "2022-03-25T20:09:48.746746",
     "status": "completed"
    },
    "tags": []
   },
   "outputs": [
    {
     "name": "stdout",
     "output_type": "stream",
     "text": [
      "Collecting mnist\r\n"
     ]
    },
    {
     "name": "stdout",
     "output_type": "stream",
     "text": [
      "  Downloading mnist-0.2.2-py2.py3-none-any.whl (3.5 kB)\r\n",
      "Requirement already satisfied: numpy in /opt/hostedtoolcache/Python/3.6.15/x64/lib/python3.6/site-packages (from mnist) (1.19.5)\r\n"
     ]
    },
    {
     "name": "stdout",
     "output_type": "stream",
     "text": [
      "Installing collected packages: mnist\r\n",
      "Successfully installed mnist-0.2.2\r\n"
     ]
    }
   ],
   "source": [
    "!pip install mnist"
   ]
  },
  {
   "cell_type": "markdown",
   "id": "69df9c9a",
   "metadata": {
    "papermill": {
     "duration": 0.021886,
     "end_time": "2022-03-25T20:09:50.380890",
     "exception": false,
     "start_time": "2022-03-25T20:09:50.359004",
     "status": "completed"
    },
    "tags": []
   },
   "source": [
    "## Preparing the Data"
   ]
  },
  {
   "cell_type": "code",
   "execution_count": 4,
   "id": "7f69d806",
   "metadata": {
    "execution": {
     "iopub.execute_input": "2022-03-25T20:09:50.428363Z",
     "iopub.status.busy": "2022-03-25T20:09:50.427878Z",
     "iopub.status.idle": "2022-03-25T20:09:50.443115Z",
     "shell.execute_reply": "2022-03-25T20:09:50.442743Z"
    },
    "papermill": {
     "duration": 0.040586,
     "end_time": "2022-03-25T20:09:50.443224",
     "exception": false,
     "start_time": "2022-03-25T20:09:50.402638",
     "status": "completed"
    },
    "tags": []
   },
   "outputs": [],
   "source": [
    "import mnist"
   ]
  },
  {
   "cell_type": "code",
   "execution_count": 5,
   "id": "a411e44f",
   "metadata": {
    "execution": {
     "iopub.execute_input": "2022-03-25T20:09:50.490576Z",
     "iopub.status.busy": "2022-03-25T20:09:50.490108Z",
     "iopub.status.idle": "2022-03-25T20:09:51.231326Z",
     "shell.execute_reply": "2022-03-25T20:09:51.230780Z"
    },
    "papermill": {
     "duration": 0.766193,
     "end_time": "2022-03-25T20:09:51.231462",
     "exception": false,
     "start_time": "2022-03-25T20:09:50.465269",
     "status": "completed"
    },
    "tags": []
   },
   "outputs": [],
   "source": [
    "train_images = mnist.train_images()\n",
    "train_labels = mnist.train_labels()"
   ]
  },
  {
   "cell_type": "code",
   "execution_count": 6,
   "id": "dceab3a5",
   "metadata": {
    "execution": {
     "iopub.execute_input": "2022-03-25T20:09:51.279606Z",
     "iopub.status.busy": "2022-03-25T20:09:51.279140Z",
     "iopub.status.idle": "2022-03-25T20:09:51.292749Z",
     "shell.execute_reply": "2022-03-25T20:09:51.292360Z"
    },
    "papermill": {
     "duration": 0.038769,
     "end_time": "2022-03-25T20:09:51.292854",
     "exception": false,
     "start_time": "2022-03-25T20:09:51.254085",
     "status": "completed"
    },
    "tags": []
   },
   "outputs": [
    {
     "data": {
      "text/plain": [
       "((60000, 28, 28), (60000,))"
      ]
     },
     "execution_count": 6,
     "metadata": {},
     "output_type": "execute_result"
    }
   ],
   "source": [
    "train_images.shape, train_labels.shape"
   ]
  },
  {
   "cell_type": "code",
   "execution_count": 7,
   "id": "f50dc2bb",
   "metadata": {
    "execution": {
     "iopub.execute_input": "2022-03-25T20:09:51.347346Z",
     "iopub.status.busy": "2022-03-25T20:09:51.346891Z",
     "iopub.status.idle": "2022-03-25T20:09:51.710256Z",
     "shell.execute_reply": "2022-03-25T20:09:51.709829Z"
    },
    "papermill": {
     "duration": 0.395464,
     "end_time": "2022-03-25T20:09:51.710379",
     "exception": false,
     "start_time": "2022-03-25T20:09:51.314915",
     "status": "completed"
    },
    "tags": []
   },
   "outputs": [],
   "source": [
    "test_images = mnist.test_images()\n",
    "test_labels = mnist.test_labels()"
   ]
  },
  {
   "cell_type": "code",
   "execution_count": 8,
   "id": "fc38cf1b",
   "metadata": {
    "execution": {
     "iopub.execute_input": "2022-03-25T20:09:51.765984Z",
     "iopub.status.busy": "2022-03-25T20:09:51.758272Z",
     "iopub.status.idle": "2022-03-25T20:09:51.773693Z",
     "shell.execute_reply": "2022-03-25T20:09:51.772732Z"
    },
    "papermill": {
     "duration": 0.040764,
     "end_time": "2022-03-25T20:09:51.773827",
     "exception": false,
     "start_time": "2022-03-25T20:09:51.733063",
     "status": "completed"
    },
    "tags": []
   },
   "outputs": [
    {
     "data": {
      "text/plain": [
       "((10000, 28, 28), (10000,))"
      ]
     },
     "execution_count": 8,
     "metadata": {},
     "output_type": "execute_result"
    }
   ],
   "source": [
    "test_images.shape, test_labels.shape"
   ]
  },
  {
   "cell_type": "code",
   "execution_count": 9,
   "id": "f9ed8fe0",
   "metadata": {
    "execution": {
     "iopub.execute_input": "2022-03-25T20:09:51.832177Z",
     "iopub.status.busy": "2022-03-25T20:09:51.831660Z",
     "iopub.status.idle": "2022-03-25T20:09:51.957552Z",
     "shell.execute_reply": "2022-03-25T20:09:51.957148Z"
    },
    "papermill": {
     "duration": 0.154488,
     "end_time": "2022-03-25T20:09:51.957666",
     "exception": false,
     "start_time": "2022-03-25T20:09:51.803178",
     "status": "completed"
    },
    "tags": []
   },
   "outputs": [
    {
     "name": "stdout",
     "output_type": "stream",
     "text": [
      "2\n"
     ]
    },
    {
     "data": {
      "text/plain": [
       "<matplotlib.image.AxesImage at 0x7f357d620550>"
      ]
     },
     "execution_count": 9,
     "metadata": {},
     "output_type": "execute_result"
    },
    {
     "data": {
      "image/png": "[encoded data removed]",
      "text/plain": [
       "<Figure size 432x288 with 1 Axes>"
      ]
     },
     "metadata": {
      "needs_background": "light"
     },
     "output_type": "display_data"
    }
   ],
   "source": [
    "image_index = 7776 # You may select anything up to 60,000\n",
    "print(train_labels[image_index]) \n",
    "plt.imshow(train_images[image_index], cmap='Greys')"
   ]
  },
  {
   "cell_type": "markdown",
   "id": "a8d2388d",
   "metadata": {
    "papermill": {
     "duration": 0.023472,
     "end_time": "2022-03-25T20:09:52.004574",
     "exception": false,
     "start_time": "2022-03-25T20:09:51.981102",
     "status": "completed"
    },
    "tags": []
   },
   "source": [
    "## Filter data to get 3 and 8 out"
   ]
  },
  {
   "cell_type": "code",
   "execution_count": 10,
   "id": "776f7fc7",
   "metadata": {
    "execution": {
     "iopub.execute_input": "2022-03-25T20:09:52.070561Z",
     "iopub.status.busy": "2022-03-25T20:09:52.070052Z",
     "iopub.status.idle": "2022-03-25T20:09:52.075918Z",
     "shell.execute_reply": "2022-03-25T20:09:52.076261Z"
    },
    "papermill": {
     "duration": 0.048538,
     "end_time": "2022-03-25T20:09:52.076391",
     "exception": false,
     "start_time": "2022-03-25T20:09:52.027853",
     "status": "completed"
    },
    "tags": []
   },
   "outputs": [],
   "source": [
    "train_filter = np.where((train_labels == 3 ) | (train_labels == 8))\n",
    "test_filter = np.where((test_labels == 3) | (test_labels == 8))\n",
    "X_train, y_train = train_images[train_filter], train_labels[train_filter]\n",
    "X_test, y_test = test_images[test_filter], test_labels[test_filter]"
   ]
  },
  {
   "cell_type": "markdown",
   "id": "948f0b7e",
   "metadata": {
    "papermill": {
     "duration": 0.023158,
     "end_time": "2022-03-25T20:09:52.122968",
     "exception": false,
     "start_time": "2022-03-25T20:09:52.099810",
     "status": "completed"
    },
    "tags": []
   },
   "source": [
    "We normalize the pizel values in the 0 to 1 range"
   ]
  },
  {
   "cell_type": "code",
   "execution_count": 11,
   "id": "ee4c2166",
   "metadata": {
    "execution": {
     "iopub.execute_input": "2022-03-25T20:09:52.185857Z",
     "iopub.status.busy": "2022-03-25T20:09:52.185369Z",
     "iopub.status.idle": "2022-03-25T20:09:52.220752Z",
     "shell.execute_reply": "2022-03-25T20:09:52.221248Z"
    },
    "papermill": {
     "duration": 0.075391,
     "end_time": "2022-03-25T20:09:52.221423",
     "exception": false,
     "start_time": "2022-03-25T20:09:52.146032",
     "status": "completed"
    },
    "tags": []
   },
   "outputs": [],
   "source": [
    "X_train = X_train/255.\n",
    "X_test = X_test/255."
   ]
  },
  {
   "cell_type": "markdown",
   "id": "ddcf4fab",
   "metadata": {
    "papermill": {
     "duration": 0.023303,
     "end_time": "2022-03-25T20:09:52.268479",
     "exception": false,
     "start_time": "2022-03-25T20:09:52.245176",
     "status": "completed"
    },
    "tags": []
   },
   "source": [
    "And setup the labels as 1 (when the digit is 3) and 0 (when the digit is 8)"
   ]
  },
  {
   "cell_type": "code",
   "execution_count": 12,
   "id": "7dc908f2",
   "metadata": {
    "execution": {
     "iopub.execute_input": "2022-03-25T20:09:52.318556Z",
     "iopub.status.busy": "2022-03-25T20:09:52.318083Z",
     "iopub.status.idle": "2022-03-25T20:09:52.330334Z",
     "shell.execute_reply": "2022-03-25T20:09:52.329955Z"
    },
    "papermill": {
     "duration": 0.038717,
     "end_time": "2022-03-25T20:09:52.330443",
     "exception": false,
     "start_time": "2022-03-25T20:09:52.291726",
     "status": "completed"
    },
    "tags": []
   },
   "outputs": [],
   "source": [
    "y_train = 1*(y_train==3)\n",
    "y_test = 1*(y_test==3)"
   ]
  },
  {
   "cell_type": "code",
   "execution_count": 13,
   "id": "01e4e969",
   "metadata": {
    "execution": {
     "iopub.execute_input": "2022-03-25T20:09:52.393585Z",
     "iopub.status.busy": "2022-03-25T20:09:52.390655Z",
     "iopub.status.idle": "2022-03-25T20:09:52.397148Z",
     "shell.execute_reply": "2022-03-25T20:09:52.397495Z"
    },
    "papermill": {
     "duration": 0.04387,
     "end_time": "2022-03-25T20:09:52.397627",
     "exception": false,
     "start_time": "2022-03-25T20:09:52.353757",
     "status": "completed"
    },
    "tags": []
   },
   "outputs": [
    {
     "data": {
      "text/plain": [
       "((11982, 28, 28), (1984, 28, 28))"
      ]
     },
     "execution_count": 13,
     "metadata": {},
     "output_type": "execute_result"
    }
   ],
   "source": [
    "X_train.shape, X_test.shape"
   ]
  },
  {
   "cell_type": "markdown",
   "id": "5ccf3f85",
   "metadata": {
    "papermill": {
     "duration": 0.023523,
     "end_time": "2022-03-25T20:09:52.444758",
     "exception": false,
     "start_time": "2022-03-25T20:09:52.421235",
     "status": "completed"
    },
    "tags": []
   },
   "source": [
    "We reshape the data to flatten the image pixels into a set of features or co-variates:"
   ]
  },
  {
   "cell_type": "code",
   "execution_count": 14,
   "id": "5286a4a3",
   "metadata": {
    "execution": {
     "iopub.execute_input": "2022-03-25T20:09:52.495888Z",
     "iopub.status.busy": "2022-03-25T20:09:52.495429Z",
     "iopub.status.idle": "2022-03-25T20:09:52.507628Z",
     "shell.execute_reply": "2022-03-25T20:09:52.507237Z"
    },
    "papermill": {
     "duration": 0.039357,
     "end_time": "2022-03-25T20:09:52.507735",
     "exception": false,
     "start_time": "2022-03-25T20:09:52.468378",
     "status": "completed"
    },
    "tags": []
   },
   "outputs": [
    {
     "data": {
      "text/plain": [
       "((11982, 784), (1984, 784))"
      ]
     },
     "execution_count": 14,
     "metadata": {},
     "output_type": "execute_result"
    }
   ],
   "source": [
    "X_train = X_train.reshape(X_train.shape[0], -1)\n",
    "X_test = X_test.reshape(X_test.shape[0], -1)\n",
    "X_train.shape, X_test.shape"
   ]
  },
  {
   "cell_type": "code",
   "execution_count": 15,
   "id": "73c5f88a",
   "metadata": {
    "execution": {
     "iopub.execute_input": "2022-03-25T20:09:52.559684Z",
     "iopub.status.busy": "2022-03-25T20:09:52.559203Z",
     "iopub.status.idle": "2022-03-25T20:09:52.576043Z",
     "shell.execute_reply": "2022-03-25T20:09:52.576422Z"
    },
    "papermill": {
     "duration": 0.045051,
     "end_time": "2022-03-25T20:09:52.576546",
     "exception": false,
     "start_time": "2022-03-25T20:09:52.531495",
     "status": "completed"
    },
    "tags": []
   },
   "outputs": [],
   "source": [
    "#Impoting functions from 'Kudzu'\n",
    "from kudzu.model import Model\n",
    "from kudzu.train import Learner\n",
    "from kudzu.optim import GD\n",
    "from kudzu.data import Data, Sampler,Dataloader\n",
    "\n",
    "from kudzu.callbacks import AccCallback\n",
    "from kudzu.callbacks import ClfCallback\n",
    "\n",
    "from kudzu.loss import MSE\n",
    "\n",
    "from kudzu.layer import Sigmoid,Relu\n",
    "from kudzu.layer import Affine"
   ]
  },
  {
   "cell_type": "markdown",
   "id": "bc01172a",
   "metadata": {
    "papermill": {
     "duration": 0.023645,
     "end_time": "2022-03-25T20:09:52.623997",
     "exception": false,
     "start_time": "2022-03-25T20:09:52.600352",
     "status": "completed"
    },
    "tags": []
   },
   "source": [
    "### Let us create a `Config` class, to store important parameters. \n",
    "This class essentially plays the role of a dictionary."
   ]
  },
  {
   "cell_type": "code",
   "execution_count": 16,
   "id": "978281aa",
   "metadata": {
    "execution": {
     "iopub.execute_input": "2022-03-25T20:09:52.675078Z",
     "iopub.status.busy": "2022-03-25T20:09:52.674602Z",
     "iopub.status.idle": "2022-03-25T20:09:52.686485Z",
     "shell.execute_reply": "2022-03-25T20:09:52.686115Z"
    },
    "papermill": {
     "duration": 0.039044,
     "end_time": "2022-03-25T20:09:52.686592",
     "exception": false,
     "start_time": "2022-03-25T20:09:52.647548",
     "status": "completed"
    },
    "tags": []
   },
   "outputs": [],
   "source": [
    "class Config:\n",
    "    pass\n",
    "config = Config()\n",
    "config.lr = 0.001\n",
    "config.num_epochs = 250\n",
    "config.bs = 50"
   ]
  },
  {
   "cell_type": "markdown",
   "id": "1385fa59",
   "metadata": {
    "papermill": {
     "duration": 0.023749,
     "end_time": "2022-03-25T20:09:52.734106",
     "exception": false,
     "start_time": "2022-03-25T20:09:52.710357",
     "status": "completed"
    },
    "tags": []
   },
   "source": [
    "### Running Models with the Training data\n",
    "Details about the network layers:\n",
    "- A first affine layer has 784 inputs and does 100 affine transforms. These are followed by a Relu\n",
    "- A second affine layer has 100 inputs from the 100 activations of the past layer, and does 100 affine transforms. These are followed by a Relu\n",
    "- A third affine layer has 100 activations and does 2 affine transformations to create an embedding for visualization. There is no non-linearity here.\n",
    "- A final \"logistic regression\" which has an affine transform from 2 inputs to 1 output, which is squeezed through a sigmoid.\n"
   ]
  },
  {
   "cell_type": "code",
   "execution_count": 17,
   "id": "2b9c66db",
   "metadata": {
    "execution": {
     "iopub.execute_input": "2022-03-25T20:09:52.799917Z",
     "iopub.status.busy": "2022-03-25T20:09:52.797909Z",
     "iopub.status.idle": "2022-03-25T20:09:52.802282Z",
     "shell.execute_reply": "2022-03-25T20:09:52.801634Z"
    },
    "papermill": {
     "duration": 0.044485,
     "end_time": "2022-03-25T20:09:52.802392",
     "exception": false,
     "start_time": "2022-03-25T20:09:52.757907",
     "status": "completed"
    },
    "tags": []
   },
   "outputs": [],
   "source": [
    "data = Data(X_train, y_train.reshape(-1,1))\n",
    "sampler = Sampler(data, config.bs, shuffle=True)\n",
    "\n",
    "dl = Dataloader(data, sampler)\n",
    "\n",
    "opt = GD(config.lr)\n",
    "loss = MSE()"
   ]
  },
  {
   "cell_type": "code",
   "execution_count": 18,
   "id": "b275e4c2",
   "metadata": {
    "execution": {
     "iopub.execute_input": "2022-03-25T20:09:52.852895Z",
     "iopub.status.busy": "2022-03-25T20:09:52.852449Z",
     "iopub.status.idle": "2022-03-25T20:09:52.862990Z",
     "shell.execute_reply": "2022-03-25T20:09:52.862605Z"
    },
    "papermill": {
     "duration": 0.036987,
     "end_time": "2022-03-25T20:09:52.863090",
     "exception": false,
     "start_time": "2022-03-25T20:09:52.826103",
     "status": "completed"
    },
    "tags": []
   },
   "outputs": [],
   "source": [
    "training_data_x = X_train\n",
    "testing_data_x = X_test\n",
    "training_data_y = y_train.reshape(-1,1)\n",
    "testing_data_y = y_test.reshape(-1,1)"
   ]
  },
  {
   "cell_type": "code",
   "execution_count": 19,
   "id": "76951160",
   "metadata": {
    "execution": {
     "iopub.execute_input": "2022-03-25T20:09:52.929855Z",
     "iopub.status.busy": "2022-03-25T20:09:52.925835Z",
     "iopub.status.idle": "2022-03-25T20:09:52.934404Z",
     "shell.execute_reply": "2022-03-25T20:09:52.934043Z"
    },
    "papermill": {
     "duration": 0.047831,
     "end_time": "2022-03-25T20:09:52.934510",
     "exception": false,
     "start_time": "2022-03-25T20:09:52.886679",
     "status": "completed"
    },
    "tags": []
   },
   "outputs": [
    {
     "name": "stdout",
     "output_type": "stream",
     "text": [
      "xavier\n",
      "xavier\n",
      "xavier\n",
      "xavier\n",
      "xavier\n"
     ]
    }
   ],
   "source": [
    "layers = [Affine(\"first\", 784, 100), Relu(\"first\"), Affine(\"second\", 100, 100), Relu(\"second\"), Affine(\"third\", 100, 2), Affine(\"last\", 2, 1), Sigmoid(\"last\")]\n",
    "model_nn = Model(layers)\n",
    "model_lr = Model([Affine(\"logits\", 784, 1), Sigmoid(\"sigmoid\")])"
   ]
  },
  {
   "cell_type": "code",
   "execution_count": 20,
   "id": "6eede77a",
   "metadata": {
    "execution": {
     "iopub.execute_input": "2022-03-25T20:09:52.998322Z",
     "iopub.status.busy": "2022-03-25T20:09:52.997819Z",
     "iopub.status.idle": "2022-03-25T20:09:53.000027Z",
     "shell.execute_reply": "2022-03-25T20:09:52.999655Z"
    },
    "papermill": {
     "duration": 0.041581,
     "end_time": "2022-03-25T20:09:53.000132",
     "exception": false,
     "start_time": "2022-03-25T20:09:52.958551",
     "status": "completed"
    },
    "tags": []
   },
   "outputs": [],
   "source": [
    "nn_learner = Learner(loss, model_nn, opt, config.num_epochs)\n",
    "acc_nn = ClfCallback(nn_learner, config.bs, training_data_x , testing_data_x, training_data_y, testing_data_y)\n",
    "nn_learner.set_callbacks([acc_nn])"
   ]
  },
  {
   "cell_type": "code",
   "execution_count": 21,
   "id": "877b6cc7",
   "metadata": {
    "execution": {
     "iopub.execute_input": "2022-03-25T20:09:53.066676Z",
     "iopub.status.busy": "2022-03-25T20:09:53.066182Z",
     "iopub.status.idle": "2022-03-25T20:09:53.069575Z",
     "shell.execute_reply": "2022-03-25T20:09:53.069174Z"
    },
    "papermill": {
     "duration": 0.045517,
     "end_time": "2022-03-25T20:09:53.069682",
     "exception": false,
     "start_time": "2022-03-25T20:09:53.024165",
     "status": "completed"
    },
    "tags": []
   },
   "outputs": [],
   "source": [
    "lr_learner = Learner(loss, model_lr, opt, config.num_epochs)\n",
    "acc_lr = ClfCallback(lr_learner, config.bs, training_data_x , testing_data_x, training_data_y, testing_data_y)\n",
    "lr_learner.set_callbacks([acc_lr])"
   ]
  },
  {
   "cell_type": "code",
   "execution_count": 22,
   "id": "d9b133c3",
   "metadata": {
    "execution": {
     "iopub.execute_input": "2022-03-25T20:09:53.129691Z",
     "iopub.status.busy": "2022-03-25T20:09:53.125769Z",
     "iopub.status.idle": "2022-03-25T20:11:06.176140Z",
     "shell.execute_reply": "2022-03-25T20:11:06.176806Z"
    },
    "papermill": {
     "duration": 73.083097,
     "end_time": "2022-03-25T20:11:06.176946",
     "exception": false,
     "start_time": "2022-03-25T20:09:53.093849",
     "status": "completed"
    },
    "tags": []
   },
   "outputs": [
    {
     "name": "stdout",
     "output_type": "stream",
     "text": [
      "Epoch 0, Loss 0.2503\n",
      "Training Accuracy: 0.5503, Testing Accuracy: 0.5328\n",
      "\n"
     ]
    },
    {
     "name": "stdout",
     "output_type": "stream",
     "text": [
      "Epoch 10, Loss 0.1853\n",
      "Training Accuracy: 0.8840, Testing Accuracy: 0.8921\n",
      "\n"
     ]
    },
    {
     "name": "stdout",
     "output_type": "stream",
     "text": [
      "Epoch 20, Loss 0.0934\n",
      "Training Accuracy: 0.9158, Testing Accuracy: 0.9194\n",
      "\n"
     ]
    },
    {
     "name": "stdout",
     "output_type": "stream",
     "text": [
      "Epoch 30, Loss 0.0612\n",
      "Training Accuracy: 0.9348, Testing Accuracy: 0.9435\n",
      "\n"
     ]
    },
    {
     "name": "stdout",
     "output_type": "stream",
     "text": [
      "Epoch 40, Loss 0.0483\n",
      "Training Accuracy: 0.9449, Testing Accuracy: 0.9551\n",
      "\n"
     ]
    },
    {
     "name": "stdout",
     "output_type": "stream",
     "text": [
      "Epoch 50, Loss 0.0415\n",
      "Training Accuracy: 0.9518, Testing Accuracy: 0.9602\n",
      "\n"
     ]
    },
    {
     "name": "stdout",
     "output_type": "stream",
     "text": [
      "Epoch 60, Loss 0.0374\n",
      "Training Accuracy: 0.9559, Testing Accuracy: 0.9632\n",
      "\n"
     ]
    },
    {
     "name": "stdout",
     "output_type": "stream",
     "text": [
      "Epoch 70, Loss 0.0346\n",
      "Training Accuracy: 0.9581, Testing Accuracy: 0.9652\n",
      "\n"
     ]
    },
    {
     "name": "stdout",
     "output_type": "stream",
     "text": [
      "Epoch 80, Loss 0.0326\n",
      "Training Accuracy: 0.9609, Testing Accuracy: 0.9662\n",
      "\n"
     ]
    },
    {
     "name": "stdout",
     "output_type": "stream",
     "text": [
      "Epoch 90, Loss 0.031\n",
      "Training Accuracy: 0.9625, Testing Accuracy: 0.9677\n",
      "\n"
     ]
    },
    {
     "name": "stdout",
     "output_type": "stream",
     "text": [
      "Epoch 100, Loss 0.0297\n",
      "Training Accuracy: 0.9649, Testing Accuracy: 0.9698\n",
      "\n"
     ]
    },
    {
     "name": "stdout",
     "output_type": "stream",
     "text": [
      "Epoch 110, Loss 0.0286\n",
      "Training Accuracy: 0.9659, Testing Accuracy: 0.9708\n",
      "\n"
     ]
    },
    {
     "name": "stdout",
     "output_type": "stream",
     "text": [
      "Epoch 120, Loss 0.0277\n",
      "Training Accuracy: 0.9675, Testing Accuracy: 0.9708\n",
      "\n"
     ]
    },
    {
     "name": "stdout",
     "output_type": "stream",
     "text": [
      "Epoch 130, Loss 0.0269\n",
      "Training Accuracy: 0.9685, Testing Accuracy: 0.9713\n",
      "\n"
     ]
    },
    {
     "name": "stdout",
     "output_type": "stream",
     "text": [
      "Epoch 140, Loss 0.0261\n",
      "Training Accuracy: 0.9691, Testing Accuracy: 0.9723\n",
      "\n"
     ]
    },
    {
     "name": "stdout",
     "output_type": "stream",
     "text": [
      "Epoch 150, Loss 0.0255\n",
      "Training Accuracy: 0.9703, Testing Accuracy: 0.9723\n",
      "\n"
     ]
    },
    {
     "name": "stdout",
     "output_type": "stream",
     "text": [
      "Epoch 160, Loss 0.0248\n",
      "Training Accuracy: 0.9714, Testing Accuracy: 0.9728\n",
      "\n"
     ]
    },
    {
     "name": "stdout",
     "output_type": "stream",
     "text": [
      "Epoch 170, Loss 0.0242\n",
      "Training Accuracy: 0.9716, Testing Accuracy: 0.9718\n",
      "\n"
     ]
    },
    {
     "name": "stdout",
     "output_type": "stream",
     "text": [
      "Epoch 180, Loss 0.0237\n",
      "Training Accuracy: 0.9722, Testing Accuracy: 0.9718\n",
      "\n"
     ]
    },
    {
     "name": "stdout",
     "output_type": "stream",
     "text": [
      "Epoch 190, Loss 0.0232\n",
      "Training Accuracy: 0.9725, Testing Accuracy: 0.9723\n",
      "\n"
     ]
    },
    {
     "name": "stdout",
     "output_type": "stream",
     "text": [
      "Epoch 200, Loss 0.0227\n",
      "Training Accuracy: 0.9736, Testing Accuracy: 0.9723\n",
      "\n"
     ]
    },
    {
     "name": "stdout",
     "output_type": "stream",
     "text": [
      "Epoch 210, Loss 0.0222\n",
      "Training Accuracy: 0.9740, Testing Accuracy: 0.9728\n",
      "\n"
     ]
    },
    {
     "name": "stdout",
     "output_type": "stream",
     "text": [
      "Epoch 220, Loss 0.0218\n",
      "Training Accuracy: 0.9745, Testing Accuracy: 0.9723\n",
      "\n"
     ]
    },
    {
     "name": "stdout",
     "output_type": "stream",
     "text": [
      "Epoch 230, Loss 0.0214\n",
      "Training Accuracy: 0.9748, Testing Accuracy: 0.9723\n",
      "\n"
     ]
    },
    {
     "name": "stdout",
     "output_type": "stream",
     "text": [
      "Epoch 240, Loss 0.021\n",
      "Training Accuracy: 0.9756, Testing Accuracy: 0.9728\n",
      "\n"
     ]
    },
    {
     "data": {
      "text/plain": [
       "0.00067000926381839"
      ]
     },
     "execution_count": 22,
     "metadata": {},
     "output_type": "execute_result"
    }
   ],
   "source": [
    "nn_learner.train_loop(dl)"
   ]
  },
  {
   "cell_type": "code",
   "execution_count": 23,
   "id": "e0163366",
   "metadata": {
    "execution": {
     "iopub.execute_input": "2022-03-25T20:11:06.246742Z",
     "iopub.status.busy": "2022-03-25T20:11:06.246273Z",
     "iopub.status.idle": "2022-03-25T20:11:19.429234Z",
     "shell.execute_reply": "2022-03-25T20:11:19.429880Z"
    },
    "papermill": {
     "duration": 13.22206,
     "end_time": "2022-03-25T20:11:19.430017",
     "exception": false,
     "start_time": "2022-03-25T20:11:06.207957",
     "status": "completed"
    },
    "tags": []
   },
   "outputs": [
    {
     "name": "stdout",
     "output_type": "stream",
     "text": [
      "Epoch 0, Loss 0.2325\n",
      "Training Accuracy: 0.7437, Testing Accuracy: 0.7429\n",
      "\n"
     ]
    },
    {
     "name": "stdout",
     "output_type": "stream",
     "text": [
      "Epoch 10, Loss 0.1004\n",
      "Training Accuracy: 0.9195, Testing Accuracy: 0.9304\n",
      "\n"
     ]
    },
    {
     "name": "stdout",
     "output_type": "stream",
     "text": [
      "Epoch 20, Loss 0.0773\n",
      "Training Accuracy: 0.9346, Testing Accuracy: 0.9441\n",
      "\n"
     ]
    },
    {
     "name": "stdout",
     "output_type": "stream",
     "text": [
      "Epoch 30, Loss 0.0666\n",
      "Training Accuracy: 0.9412, Testing Accuracy: 0.9516\n",
      "\n"
     ]
    },
    {
     "name": "stdout",
     "output_type": "stream",
     "text": [
      "Epoch 40, Loss 0.0602\n",
      "Training Accuracy: 0.9455, Testing Accuracy: 0.9556\n",
      "\n"
     ]
    },
    {
     "name": "stdout",
     "output_type": "stream",
     "text": [
      "Epoch 50, Loss 0.0559\n",
      "Training Accuracy: 0.9469, Testing Accuracy: 0.9577\n",
      "\n"
     ]
    },
    {
     "name": "stdout",
     "output_type": "stream",
     "text": [
      "Epoch 60, Loss 0.0527\n",
      "Training Accuracy: 0.9486, Testing Accuracy: 0.9587\n",
      "\n"
     ]
    },
    {
     "name": "stdout",
     "output_type": "stream",
     "text": [
      "Epoch 70, Loss 0.0503\n",
      "Training Accuracy: 0.9503, Testing Accuracy: 0.9602\n",
      "\n"
     ]
    },
    {
     "name": "stdout",
     "output_type": "stream",
     "text": [
      "Epoch 80, Loss 0.0483\n",
      "Training Accuracy: 0.9521, Testing Accuracy: 0.9602\n",
      "\n"
     ]
    },
    {
     "name": "stdout",
     "output_type": "stream",
     "text": [
      "Epoch 90, Loss 0.0467\n",
      "Training Accuracy: 0.9539, Testing Accuracy: 0.9622\n",
      "\n"
     ]
    },
    {
     "name": "stdout",
     "output_type": "stream",
     "text": [
      "Epoch 100, Loss 0.0454\n",
      "Training Accuracy: 0.9544, Testing Accuracy: 0.9637\n",
      "\n"
     ]
    },
    {
     "name": "stdout",
     "output_type": "stream",
     "text": [
      "Epoch 110, Loss 0.0442\n",
      "Training Accuracy: 0.9549, Testing Accuracy: 0.9647\n",
      "\n"
     ]
    },
    {
     "name": "stdout",
     "output_type": "stream",
     "text": [
      "Epoch 120, Loss 0.0432\n",
      "Training Accuracy: 0.9559, Testing Accuracy: 0.9647\n",
      "\n"
     ]
    },
    {
     "name": "stdout",
     "output_type": "stream",
     "text": [
      "Epoch 130, Loss 0.0423\n",
      "Training Accuracy: 0.9563, Testing Accuracy: 0.9657\n",
      "\n"
     ]
    },
    {
     "name": "stdout",
     "output_type": "stream",
     "text": [
      "Epoch 140, Loss 0.0415\n",
      "Training Accuracy: 0.9571, Testing Accuracy: 0.9662\n",
      "\n"
     ]
    },
    {
     "name": "stdout",
     "output_type": "stream",
     "text": [
      "Epoch 150, Loss 0.0408\n",
      "Training Accuracy: 0.9577, Testing Accuracy: 0.9662\n",
      "\n"
     ]
    },
    {
     "name": "stdout",
     "output_type": "stream",
     "text": [
      "Epoch 160, Loss 0.0402\n",
      "Training Accuracy: 0.9583, Testing Accuracy: 0.9667\n",
      "\n"
     ]
    },
    {
     "name": "stdout",
     "output_type": "stream",
     "text": [
      "Epoch 170, Loss 0.0396\n",
      "Training Accuracy: 0.9585, Testing Accuracy: 0.9667\n",
      "\n"
     ]
    },
    {
     "name": "stdout",
     "output_type": "stream",
     "text": [
      "Epoch 180, Loss 0.0391\n",
      "Training Accuracy: 0.9587, Testing Accuracy: 0.9672\n",
      "\n"
     ]
    },
    {
     "name": "stdout",
     "output_type": "stream",
     "text": [
      "Epoch 190, Loss 0.0386\n",
      "Training Accuracy: 0.9594, Testing Accuracy: 0.9672\n",
      "\n"
     ]
    },
    {
     "name": "stdout",
     "output_type": "stream",
     "text": [
      "Epoch 200, Loss 0.0381\n",
      "Training Accuracy: 0.9594, Testing Accuracy: 0.9667\n",
      "\n"
     ]
    },
    {
     "name": "stdout",
     "output_type": "stream",
     "text": [
      "Epoch 210, Loss 0.0377\n",
      "Training Accuracy: 0.9605, Testing Accuracy: 0.9667\n",
      "\n"
     ]
    },
    {
     "name": "stdout",
     "output_type": "stream",
     "text": [
      "Epoch 220, Loss 0.0373\n",
      "Training Accuracy: 0.9610, Testing Accuracy: 0.9672\n",
      "\n"
     ]
    },
    {
     "name": "stdout",
     "output_type": "stream",
     "text": [
      "Epoch 230, Loss 0.0369\n",
      "Training Accuracy: 0.9610, Testing Accuracy: 0.9672\n",
      "\n"
     ]
    },
    {
     "name": "stdout",
     "output_type": "stream",
     "text": [
      "Epoch 240, Loss 0.0366\n",
      "Training Accuracy: 0.9611, Testing Accuracy: 0.9667\n",
      "\n"
     ]
    },
    {
     "data": {
      "text/plain": [
       "0.022854249646864354"
      ]
     },
     "execution_count": 23,
     "metadata": {},
     "output_type": "execute_result"
    }
   ],
   "source": [
    "lr_learner.train_loop(dl)"
   ]
  },
  {
   "cell_type": "code",
   "execution_count": 24,
   "id": "ca410940",
   "metadata": {
    "execution": {
     "iopub.execute_input": "2022-03-25T20:11:19.510631Z",
     "iopub.status.busy": "2022-03-25T20:11:19.510165Z",
     "iopub.status.idle": "2022-03-25T20:11:19.702448Z",
     "shell.execute_reply": "2022-03-25T20:11:19.702061Z"
    },
    "papermill": {
     "duration": 0.2363,
     "end_time": "2022-03-25T20:11:19.702561",
     "exception": false,
     "start_time": "2022-03-25T20:11:19.466261",
     "status": "completed"
    },
    "tags": []
   },
   "outputs": [
    {
     "data": {
      "text/plain": [
       "<matplotlib.legend.Legend at 0x7f357d1fccf8>"
      ]
     },
     "execution_count": 24,
     "metadata": {},
     "output_type": "execute_result"
    },
    {
     "data": {
      "image/png": "[encoded data removed]",
      "text/plain": [
       "<Figure size 1080x720 with 1 Axes>"
      ]
     },
     "metadata": {
      "needs_background": "light"
     },
     "output_type": "display_data"
    }
   ],
   "source": [
    "#comparing the results of NN and LR\n",
    "plt.figure(figsize=(15,10))\n",
    "\n",
    "# Neural Network plots\n",
    "plt.plot(acc_nn.accuracies, 'r-', label = \"Training Accuracies - NN\")\n",
    "plt.plot(acc_nn.test_accuracies, 'g-', label = \"Testing Accuracies - NN\")\n",
    "\n",
    "# Logistic Regression plots\n",
    "plt.plot(acc_lr.accuracies, 'k-', label = \"Training Accuracies - LR\")\n",
    "plt.plot(acc_lr.test_accuracies, 'b-', label = \"Testing Accuracies - LR\")\n",
    "plt.legend()"
   ]
  },
  {
   "cell_type": "markdown",
   "id": "80dfb35c",
   "metadata": {
    "papermill": {
     "duration": 0.037001,
     "end_time": "2022-03-25T20:11:19.777455",
     "exception": false,
     "start_time": "2022-03-25T20:11:19.740454",
     "status": "completed"
    },
    "tags": []
   },
   "source": [
    "#### Plotting the outputs of this layer of the NN.\n"
   ]
  },
  {
   "cell_type": "code",
   "execution_count": 25,
   "id": "45eb2ff5",
   "metadata": {
    "execution": {
     "iopub.execute_input": "2022-03-25T20:11:19.854843Z",
     "iopub.status.busy": "2022-03-25T20:11:19.854365Z",
     "iopub.status.idle": "2022-03-25T20:11:19.873616Z",
     "shell.execute_reply": "2022-03-25T20:11:19.873997Z"
    },
    "papermill": {
     "duration": 0.059689,
     "end_time": "2022-03-25T20:11:19.874124",
     "exception": false,
     "start_time": "2022-03-25T20:11:19.814435",
     "status": "completed"
    },
    "tags": []
   },
   "outputs": [],
   "source": [
    "new_model = Model(layers[:-2])\n",
    "testing_plot = new_model(testing_data_x)"
   ]
  },
  {
   "cell_type": "code",
   "execution_count": 26,
   "id": "4c0a5485",
   "metadata": {
    "execution": {
     "iopub.execute_input": "2022-03-25T20:11:19.955640Z",
     "iopub.status.busy": "2022-03-25T20:11:19.955158Z",
     "iopub.status.idle": "2022-03-25T20:11:20.126358Z",
     "shell.execute_reply": "2022-03-25T20:11:20.126828Z"
    },
    "papermill": {
     "duration": 0.215397,
     "end_time": "2022-03-25T20:11:20.126977",
     "exception": false,
     "start_time": "2022-03-25T20:11:19.911580",
     "status": "completed"
    },
    "tags": []
   },
   "outputs": [
    {
     "data": {
      "text/plain": [
       "Text(0.5, 1.0, 'Outputs')"
      ]
     },
     "execution_count": 26,
     "metadata": {},
     "output_type": "execute_result"
    },
    {
     "data": {
      "image/png": "[encoded data removed]",
      "text/plain": [
       "<Figure size 576x504 with 1 Axes>"
      ]
     },
     "metadata": {
      "needs_background": "light"
     },
     "output_type": "display_data"
    }
   ],
   "source": [
    "# Plotting the scatter plot of points and color coding by class\n",
    "plt.figure(figsize=(8,7))\n",
    "plt.scatter(testing_plot[:,0], testing_plot[:,1], alpha = 0.1, c = y_test.ravel());\n",
    "plt.title('Outputs')"
   ]
  },
  {
   "cell_type": "markdown",
   "id": "a74fcf8f",
   "metadata": {
    "papermill": {
     "duration": 0.039151,
     "end_time": "2022-03-25T20:11:20.205565",
     "exception": false,
     "start_time": "2022-03-25T20:11:20.166414",
     "status": "completed"
    },
    "tags": []
   },
   "source": [
    "Probability contours"
   ]
  },
  {
   "cell_type": "code",
   "execution_count": 27,
   "id": "d0afc8e3",
   "metadata": {
    "execution": {
     "iopub.execute_input": "2022-03-25T20:11:20.288235Z",
     "iopub.status.busy": "2022-03-25T20:11:20.287727Z",
     "iopub.status.idle": "2022-03-25T20:11:20.298882Z",
     "shell.execute_reply": "2022-03-25T20:11:20.298513Z"
    },
    "papermill": {
     "duration": 0.053802,
     "end_time": "2022-03-25T20:11:20.298992",
     "exception": false,
     "start_time": "2022-03-25T20:11:20.245190",
     "status": "completed"
    },
    "tags": []
   },
   "outputs": [],
   "source": [
    "model_prob = Model(layers[-2:]) "
   ]
  },
  {
   "cell_type": "code",
   "execution_count": 28,
   "id": "9b96e238",
   "metadata": {
    "execution": {
     "iopub.execute_input": "2022-03-25T20:11:20.386348Z",
     "iopub.status.busy": "2022-03-25T20:11:20.385861Z",
     "iopub.status.idle": "2022-03-25T20:11:20.395907Z",
     "shell.execute_reply": "2022-03-25T20:11:20.396615Z"
    },
    "papermill": {
     "duration": 0.058498,
     "end_time": "2022-03-25T20:11:20.396751",
     "exception": false,
     "start_time": "2022-03-25T20:11:20.338253",
     "status": "completed"
    },
    "tags": []
   },
   "outputs": [],
   "source": [
    "#creating the x and y ranges according to the above generated plot.\n",
    "x_range = np.linspace(-4, 1, 100) \n",
    "y_range = np.linspace(-6, 6, 100) \n",
    "x_grid, y_grid = np.meshgrid(x_range, y_range) # x_grid and y_grig are of size 100 X 100\n",
    "\n",
    "# converting x_grid and y_grid to continuous arrays\n",
    "x_gridflat = np.ravel(x_grid)\n",
    "y_gridflat = np.ravel(y_grid)\n",
    "\n",
    "# The last layer of the current model takes two columns as input. Hence transpose of np.vstack() is required.\n",
    "X = np.vstack((x_gridflat, y_gridflat)).T\n",
    "\n",
    "prob_contour = model_prob(X).reshape(100,100) "
   ]
  },
  {
   "cell_type": "code",
   "execution_count": 29,
   "id": "da72499a",
   "metadata": {
    "execution": {
     "iopub.execute_input": "2022-03-25T20:11:20.514817Z",
     "iopub.status.busy": "2022-03-25T20:11:20.509181Z",
     "iopub.status.idle": "2022-03-25T20:11:20.730255Z",
     "shell.execute_reply": "2022-03-25T20:11:20.730624Z"
    },
    "papermill": {
     "duration": 0.293565,
     "end_time": "2022-03-25T20:11:20.730755",
     "exception": false,
     "start_time": "2022-03-25T20:11:20.437190",
     "status": "completed"
    },
    "tags": []
   },
   "outputs": [
    {
     "data": {
      "image/png": "[encoded data removed]",
      "text/plain": [
       "<Figure size 720x648 with 1 Axes>"
      ]
     },
     "metadata": {
      "needs_background": "light"
     },
     "output_type": "display_data"
    }
   ],
   "source": [
    "plt.figure(figsize=(10,9))\n",
    "plt.scatter(testing_plot[:,0], testing_plot[:,1], alpha = 0.1, c = y_test.ravel())\n",
    "contours = plt.contour(x_grid,y_grid,prob_contour)\n",
    "plt.title('Probability Contours')\n",
    "plt.clabel(contours, inline = True );"
   ]
  },
  {
   "cell_type": "code",
   "execution_count": null,
   "id": "e81b4ac7",
   "metadata": {
    "papermill": {
     "duration": 0.041663,
     "end_time": "2022-03-25T20:11:20.814342",
     "exception": false,
     "start_time": "2022-03-25T20:11:20.772679",
     "status": "completed"
    },
    "tags": []
   },
   "outputs": [],
   "source": []
  }
 ],
 "metadata": {
  "kernelspec": {
   "display_name": "Python 3",
   "language": "python",
   "name": "python3"
  },
  "language_info": {
   "codemirror_mode": {
    "name": "ipython",
    "version": 3
   },
   "file_extension": ".py",
   "mimetype": "text/x-python",
   "name": "python",
   "nbconvert_exporter": "python",
   "pygments_lexer": "ipython3",
   "version": "3.6.15"
  },
  "papermill": {
   "default_parameters": {},
   "duration": 94.369335,
   "end_time": "2022-03-25T20:11:21.274709",
   "environment_variables": {},
   "exception": null,
   "input_path": "2020-08-11-part2.ipynb",
   "output_path": "2020-08-11-part2.ipynb",
   "parameters": {},
   "start_time": "2022-03-25T20:09:46.905374",
   "version": "2.3.3"
  }
 },
 "nbformat": 4,
 "nbformat_minor": 5
}