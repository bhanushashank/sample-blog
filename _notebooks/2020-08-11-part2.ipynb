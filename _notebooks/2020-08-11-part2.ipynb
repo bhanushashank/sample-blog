{
 "cells": [
  {
   "cell_type": "markdown",
   "id": "98380cd3",
   "metadata": {
    "papermill": {
     "duration": 0.031714,
     "end_time": "2022-10-04T20:12:54.870890",
     "exception": false,
     "start_time": "2022-10-04T20:12:54.839176",
     "status": "completed"
    },
    "tags": []
   },
   "source": [
    "# Distinguish Your Own Digits (DYOD)"
   ]
  },
  {
   "cell_type": "markdown",
   "id": "ef31240d",
   "metadata": {
    "papermill": {
     "duration": 0.025476,
     "end_time": "2022-10-04T20:12:54.921631",
     "exception": false,
     "start_time": "2022-10-04T20:12:54.896155",
     "status": "completed"
    },
    "tags": []
   },
   "source": [
    "You are going to write a classifier that distinguishes between the number 3 and number 8."
   ]
  },
  {
   "cell_type": "code",
   "execution_count": 1,
   "id": "b15c8646",
   "metadata": {
    "execution": {
     "iopub.execute_input": "2022-10-04T20:12:54.983252Z",
     "iopub.status.busy": "2022-10-04T20:12:54.982543Z",
     "iopub.status.idle": "2022-10-04T20:12:54.994682Z",
     "shell.execute_reply": "2022-10-04T20:12:54.993988Z"
    },
    "papermill": {
     "duration": 0.048865,
     "end_time": "2022-10-04T20:12:54.994819",
     "exception": false,
     "start_time": "2022-10-04T20:12:54.945954",
     "status": "completed"
    },
    "tags": []
   },
   "outputs": [],
   "source": [
    "%load_ext autoreload\n",
    "%autoreload 2"
   ]
  },
  {
   "cell_type": "code",
   "execution_count": 2,
   "id": "22ef38dc",
   "metadata": {
    "execution": {
     "iopub.execute_input": "2022-10-04T20:12:55.053082Z",
     "iopub.status.busy": "2022-10-04T20:12:55.052387Z",
     "iopub.status.idle": "2022-10-04T20:12:55.622560Z",
     "shell.execute_reply": "2022-10-04T20:12:55.621528Z"
    },
    "papermill": {
     "duration": 0.602364,
     "end_time": "2022-10-04T20:12:55.622788",
     "exception": false,
     "start_time": "2022-10-04T20:12:55.020424",
     "status": "completed"
    },
    "tags": []
   },
   "outputs": [],
   "source": [
    "%matplotlib inline\n",
    "import numpy as np\n",
    "import matplotlib.pyplot as plt\n",
    "import pandas as pd"
   ]
  },
  {
   "cell_type": "markdown",
   "id": "ba036198",
   "metadata": {
    "papermill": {
     "duration": 0.027069,
     "end_time": "2022-10-04T20:12:55.677765",
     "exception": false,
     "start_time": "2022-10-04T20:12:55.650696",
     "status": "completed"
    },
    "tags": []
   },
   "source": [
    "From the command line run `pip install mnist`. This is a library that will help you bring down the mnist dataset. If you run this from a notebook, you need to put  `!pip install mnist` in a cell by itself."
   ]
  },
  {
   "cell_type": "code",
   "execution_count": 3,
   "id": "bb6ad8a1",
   "metadata": {
    "execution": {
     "iopub.execute_input": "2022-10-04T20:12:55.732700Z",
     "iopub.status.busy": "2022-10-04T20:12:55.731203Z",
     "iopub.status.idle": "2022-10-04T20:12:57.474360Z",
     "shell.execute_reply": "2022-10-04T20:12:57.472912Z"
    },
    "papermill": {
     "duration": 1.771661,
     "end_time": "2022-10-04T20:12:57.474505",
     "exception": false,
     "start_time": "2022-10-04T20:12:55.702844",
     "status": "completed"
    },
    "tags": []
   },
   "outputs": [
    {
     "name": "stdout",
     "output_type": "stream",
     "text": [
      "Collecting mnist\r\n"
     ]
    },
    {
     "name": "stdout",
     "output_type": "stream",
     "text": [
      "  Downloading mnist-0.2.2-py2.py3-none-any.whl (3.5 kB)\r\n",
      "Requirement already satisfied: numpy in /opt/hostedtoolcache/Python/3.6.15/x64/lib/python3.6/site-packages (from mnist) (1.19.5)\r\n"
     ]
    },
    {
     "name": "stdout",
     "output_type": "stream",
     "text": [
      "Installing collected packages: mnist\r\n",
      "Successfully installed mnist-0.2.2\r\n"
     ]
    }
   ],
   "source": [
    "!pip install mnist"
   ]
  },
  {
   "cell_type": "markdown",
   "id": "69df9c9a",
   "metadata": {
    "papermill": {
     "duration": 0.026244,
     "end_time": "2022-10-04T20:12:57.527166",
     "exception": false,
     "start_time": "2022-10-04T20:12:57.500922",
     "status": "completed"
    },
    "tags": []
   },
   "source": [
    "## Preparing the Data"
   ]
  },
  {
   "cell_type": "code",
   "execution_count": 4,
   "id": "7f69d806",
   "metadata": {
    "execution": {
     "iopub.execute_input": "2022-10-04T20:12:57.585412Z",
     "iopub.status.busy": "2022-10-04T20:12:57.584218Z",
     "iopub.status.idle": "2022-10-04T20:12:57.599478Z",
     "shell.execute_reply": "2022-10-04T20:12:57.598633Z"
    },
    "papermill": {
     "duration": 0.046104,
     "end_time": "2022-10-04T20:12:57.599597",
     "exception": false,
     "start_time": "2022-10-04T20:12:57.553493",
     "status": "completed"
    },
    "tags": []
   },
   "outputs": [],
   "source": [
    "import mnist"
   ]
  },
  {
   "cell_type": "code",
   "execution_count": 5,
   "id": "a411e44f",
   "metadata": {
    "execution": {
     "iopub.execute_input": "2022-10-04T20:12:57.660355Z",
     "iopub.status.busy": "2022-10-04T20:12:57.659691Z",
     "iopub.status.idle": "2022-10-04T20:12:58.365959Z",
     "shell.execute_reply": "2022-10-04T20:12:58.365303Z"
    },
    "papermill": {
     "duration": 0.739942,
     "end_time": "2022-10-04T20:12:58.366133",
     "exception": false,
     "start_time": "2022-10-04T20:12:57.626191",
     "status": "completed"
    },
    "tags": []
   },
   "outputs": [],
   "source": [
    "train_images = mnist.train_images()\n",
    "train_labels = mnist.train_labels()"
   ]
  },
  {
   "cell_type": "code",
   "execution_count": 6,
   "id": "dceab3a5",
   "metadata": {
    "execution": {
     "iopub.execute_input": "2022-10-04T20:12:58.425210Z",
     "iopub.status.busy": "2022-10-04T20:12:58.424558Z",
     "iopub.status.idle": "2022-10-04T20:12:58.440996Z",
     "shell.execute_reply": "2022-10-04T20:12:58.440342Z"
    },
    "papermill": {
     "duration": 0.048693,
     "end_time": "2022-10-04T20:12:58.441123",
     "exception": false,
     "start_time": "2022-10-04T20:12:58.392430",
     "status": "completed"
    },
    "tags": []
   },
   "outputs": [
    {
     "data": {
      "text/plain": [
       "((60000, 28, 28), (60000,))"
      ]
     },
     "execution_count": 6,
     "metadata": {},
     "output_type": "execute_result"
    }
   ],
   "source": [
    "train_images.shape, train_labels.shape"
   ]
  },
  {
   "cell_type": "code",
   "execution_count": 7,
   "id": "f50dc2bb",
   "metadata": {
    "execution": {
     "iopub.execute_input": "2022-10-04T20:12:58.511759Z",
     "iopub.status.busy": "2022-10-04T20:12:58.502772Z",
     "iopub.status.idle": "2022-10-04T20:12:58.751720Z",
     "shell.execute_reply": "2022-10-04T20:12:58.751137Z"
    },
    "papermill": {
     "duration": 0.285151,
     "end_time": "2022-10-04T20:12:58.751845",
     "exception": false,
     "start_time": "2022-10-04T20:12:58.466694",
     "status": "completed"
    },
    "tags": []
   },
   "outputs": [],
   "source": [
    "test_images = mnist.test_images()\n",
    "test_labels = mnist.test_labels()"
   ]
  },
  {
   "cell_type": "code",
   "execution_count": 8,
   "id": "fc38cf1b",
   "metadata": {
    "execution": {
     "iopub.execute_input": "2022-10-04T20:12:58.811076Z",
     "iopub.status.busy": "2022-10-04T20:12:58.806308Z",
     "iopub.status.idle": "2022-10-04T20:12:58.823585Z",
     "shell.execute_reply": "2022-10-04T20:12:58.823027Z"
    },
    "papermill": {
     "duration": 0.046213,
     "end_time": "2022-10-04T20:12:58.823700",
     "exception": false,
     "start_time": "2022-10-04T20:12:58.777487",
     "status": "completed"
    },
    "tags": []
   },
   "outputs": [
    {
     "data": {
      "text/plain": [
       "((10000, 28, 28), (10000,))"
      ]
     },
     "execution_count": 8,
     "metadata": {},
     "output_type": "execute_result"
    }
   ],
   "source": [
    "test_images.shape, test_labels.shape"
   ]
  },
  {
   "cell_type": "code",
   "execution_count": 9,
   "id": "f9ed8fe0",
   "metadata": {
    "execution": {
     "iopub.execute_input": "2022-10-04T20:12:58.879612Z",
     "iopub.status.busy": "2022-10-04T20:12:58.878955Z",
     "iopub.status.idle": "2022-10-04T20:12:59.038002Z",
     "shell.execute_reply": "2022-10-04T20:12:59.037431Z"
    },
    "papermill": {
     "duration": 0.189144,
     "end_time": "2022-10-04T20:12:59.038167",
     "exception": false,
     "start_time": "2022-10-04T20:12:58.849023",
     "status": "completed"
    },
    "tags": []
   },
   "outputs": [
    {
     "name": "stdout",
     "output_type": "stream",
     "text": [
      "2\n"
     ]
    },
    {
     "data": {
      "text/plain": [
       "<matplotlib.image.AxesImage at 0x7f6086842c88>"
      ]
     },
     "execution_count": 9,
     "metadata": {},
     "output_type": "execute_result"
    },
    {
     "data": {
      "image/png": "[encoded data removed]",
      "text/plain": [
       "<Figure size 432x288 with 1 Axes>"
      ]
     },
     "metadata": {
      "needs_background": "light"
     },
     "output_type": "display_data"
    }
   ],
   "source": [
    "image_index = 7776 # You may select anything up to 60,000\n",
    "print(train_labels[image_index]) \n",
    "plt.imshow(train_images[image_index], cmap='Greys')"
   ]
  },
  {
   "cell_type": "markdown",
   "id": "a8d2388d",
   "metadata": {
    "papermill": {
     "duration": 0.029272,
     "end_time": "2022-10-04T20:12:59.096416",
     "exception": false,
     "start_time": "2022-10-04T20:12:59.067144",
     "status": "completed"
    },
    "tags": []
   },
   "source": [
    "## Filter data to get 3 and 8 out"
   ]
  },
  {
   "cell_type": "code",
   "execution_count": 10,
   "id": "776f7fc7",
   "metadata": {
    "execution": {
     "iopub.execute_input": "2022-10-04T20:12:59.160513Z",
     "iopub.status.busy": "2022-10-04T20:12:59.159852Z",
     "iopub.status.idle": "2022-10-04T20:12:59.184014Z",
     "shell.execute_reply": "2022-10-04T20:12:59.183211Z"
    },
    "papermill": {
     "duration": 0.058593,
     "end_time": "2022-10-04T20:12:59.184186",
     "exception": false,
     "start_time": "2022-10-04T20:12:59.125593",
     "status": "completed"
    },
    "tags": []
   },
   "outputs": [],
   "source": [
    "train_filter = np.where((train_labels == 3 ) | (train_labels == 8))\n",
    "test_filter = np.where((test_labels == 3) | (test_labels == 8))\n",
    "X_train, y_train = train_images[train_filter], train_labels[train_filter]\n",
    "X_test, y_test = test_images[test_filter], test_labels[test_filter]"
   ]
  },
  {
   "cell_type": "markdown",
   "id": "948f0b7e",
   "metadata": {
    "papermill": {
     "duration": 0.027922,
     "end_time": "2022-10-04T20:12:59.239840",
     "exception": false,
     "start_time": "2022-10-04T20:12:59.211918",
     "status": "completed"
    },
    "tags": []
   },
   "source": [
    "We normalize the pizel values in the 0 to 1 range"
   ]
  },
  {
   "cell_type": "code",
   "execution_count": 11,
   "id": "ee4c2166",
   "metadata": {
    "execution": {
     "iopub.execute_input": "2022-10-04T20:12:59.304148Z",
     "iopub.status.busy": "2022-10-04T20:12:59.303453Z",
     "iopub.status.idle": "2022-10-04T20:12:59.358514Z",
     "shell.execute_reply": "2022-10-04T20:12:59.357909Z"
    },
    "papermill": {
     "duration": 0.090311,
     "end_time": "2022-10-04T20:12:59.358651",
     "exception": false,
     "start_time": "2022-10-04T20:12:59.268340",
     "status": "completed"
    },
    "tags": []
   },
   "outputs": [],
   "source": [
    "X_train = X_train/255.\n",
    "X_test = X_test/255."
   ]
  },
  {
   "cell_type": "markdown",
   "id": "ddcf4fab",
   "metadata": {
    "papermill": {
     "duration": 0.028445,
     "end_time": "2022-10-04T20:12:59.416456",
     "exception": false,
     "start_time": "2022-10-04T20:12:59.388011",
     "status": "completed"
    },
    "tags": []
   },
   "source": [
    "And setup the labels as 1 (when the digit is 3) and 0 (when the digit is 8)"
   ]
  },
  {
   "cell_type": "code",
   "execution_count": 12,
   "id": "7dc908f2",
   "metadata": {
    "execution": {
     "iopub.execute_input": "2022-10-04T20:12:59.477455Z",
     "iopub.status.busy": "2022-10-04T20:12:59.476766Z",
     "iopub.status.idle": "2022-10-04T20:12:59.491014Z",
     "shell.execute_reply": "2022-10-04T20:12:59.490328Z"
    },
    "papermill": {
     "duration": 0.047583,
     "end_time": "2022-10-04T20:12:59.491140",
     "exception": false,
     "start_time": "2022-10-04T20:12:59.443557",
     "status": "completed"
    },
    "tags": []
   },
   "outputs": [],
   "source": [
    "y_train = 1*(y_train==3)\n",
    "y_test = 1*(y_test==3)"
   ]
  },
  {
   "cell_type": "code",
   "execution_count": 13,
   "id": "01e4e969",
   "metadata": {
    "execution": {
     "iopub.execute_input": "2022-10-04T20:12:59.548114Z",
     "iopub.status.busy": "2022-10-04T20:12:59.547426Z",
     "iopub.status.idle": "2022-10-04T20:12:59.564107Z",
     "shell.execute_reply": "2022-10-04T20:12:59.563545Z"
    },
    "papermill": {
     "duration": 0.048191,
     "end_time": "2022-10-04T20:12:59.564217",
     "exception": false,
     "start_time": "2022-10-04T20:12:59.516026",
     "status": "completed"
    },
    "tags": []
   },
   "outputs": [
    {
     "data": {
      "text/plain": [
       "((11982, 28, 28), (1984, 28, 28))"
      ]
     },
     "execution_count": 13,
     "metadata": {},
     "output_type": "execute_result"
    }
   ],
   "source": [
    "X_train.shape, X_test.shape"
   ]
  },
  {
   "cell_type": "markdown",
   "id": "5ccf3f85",
   "metadata": {
    "papermill": {
     "duration": 0.026431,
     "end_time": "2022-10-04T20:12:59.620123",
     "exception": false,
     "start_time": "2022-10-04T20:12:59.593692",
     "status": "completed"
    },
    "tags": []
   },
   "source": [
    "We reshape the data to flatten the image pixels into a set of features or co-variates:"
   ]
  },
  {
   "cell_type": "code",
   "execution_count": 14,
   "id": "5286a4a3",
   "metadata": {
    "execution": {
     "iopub.execute_input": "2022-10-04T20:12:59.682824Z",
     "iopub.status.busy": "2022-10-04T20:12:59.682076Z",
     "iopub.status.idle": "2022-10-04T20:12:59.697018Z",
     "shell.execute_reply": "2022-10-04T20:12:59.697586Z"
    },
    "papermill": {
     "duration": 0.049388,
     "end_time": "2022-10-04T20:12:59.697728",
     "exception": false,
     "start_time": "2022-10-04T20:12:59.648340",
     "status": "completed"
    },
    "tags": []
   },
   "outputs": [
    {
     "data": {
      "text/plain": [
       "((11982, 784), (1984, 784))"
      ]
     },
     "execution_count": 14,
     "metadata": {},
     "output_type": "execute_result"
    }
   ],
   "source": [
    "X_train = X_train.reshape(X_train.shape[0], -1)\n",
    "X_test = X_test.reshape(X_test.shape[0], -1)\n",
    "X_train.shape, X_test.shape"
   ]
  },
  {
   "cell_type": "code",
   "execution_count": 15,
   "id": "73c5f88a",
   "metadata": {
    "execution": {
     "iopub.execute_input": "2022-10-04T20:12:59.767025Z",
     "iopub.status.busy": "2022-10-04T20:12:59.762156Z",
     "iopub.status.idle": "2022-10-04T20:12:59.781247Z",
     "shell.execute_reply": "2022-10-04T20:12:59.781784Z"
    },
    "papermill": {
     "duration": 0.056878,
     "end_time": "2022-10-04T20:12:59.781923",
     "exception": false,
     "start_time": "2022-10-04T20:12:59.725045",
     "status": "completed"
    },
    "tags": []
   },
   "outputs": [],
   "source": [
    "#Impoting functions from 'Kudzu'\n",
    "from kudzu.model import Model\n",
    "from kudzu.train import Learner\n",
    "from kudzu.optim import GD\n",
    "from kudzu.data import Data, Sampler,Dataloader\n",
    "\n",
    "from kudzu.callbacks import AccCallback\n",
    "from kudzu.callbacks import ClfCallback\n",
    "\n",
    "from kudzu.loss import MSE\n",
    "\n",
    "from kudzu.layer import Sigmoid,Relu\n",
    "from kudzu.layer import Affine"
   ]
  },
  {
   "cell_type": "markdown",
   "id": "bc01172a",
   "metadata": {
    "papermill": {
     "duration": 0.027788,
     "end_time": "2022-10-04T20:12:59.837332",
     "exception": false,
     "start_time": "2022-10-04T20:12:59.809544",
     "status": "completed"
    },
    "tags": []
   },
   "source": [
    "### Let us create a `Config` class, to store important parameters. \n",
    "This class essentially plays the role of a dictionary."
   ]
  },
  {
   "cell_type": "code",
   "execution_count": 16,
   "id": "978281aa",
   "metadata": {
    "execution": {
     "iopub.execute_input": "2022-10-04T20:12:59.903625Z",
     "iopub.status.busy": "2022-10-04T20:12:59.900449Z",
     "iopub.status.idle": "2022-10-04T20:12:59.916495Z",
     "shell.execute_reply": "2022-10-04T20:12:59.915998Z"
    },
    "papermill": {
     "duration": 0.050424,
     "end_time": "2022-10-04T20:12:59.916602",
     "exception": false,
     "start_time": "2022-10-04T20:12:59.866178",
     "status": "completed"
    },
    "tags": []
   },
   "outputs": [],
   "source": [
    "class Config:\n",
    "    pass\n",
    "config = Config()\n",
    "config.lr = 0.001\n",
    "config.num_epochs = 250\n",
    "config.bs = 50"
   ]
  },
  {
   "cell_type": "markdown",
   "id": "1385fa59",
   "metadata": {
    "papermill": {
     "duration": 0.028297,
     "end_time": "2022-10-04T20:12:59.971135",
     "exception": false,
     "start_time": "2022-10-04T20:12:59.942838",
     "status": "completed"
    },
    "tags": []
   },
   "source": [
    "### Running Models with the Training data\n",
    "Details about the network layers:\n",
    "- A first affine layer has 784 inputs and does 100 affine transforms. These are followed by a Relu\n",
    "- A second affine layer has 100 inputs from the 100 activations of the past layer, and does 100 affine transforms. These are followed by a Relu\n",
    "- A third affine layer has 100 activations and does 2 affine transformations to create an embedding for visualization. There is no non-linearity here.\n",
    "- A final \"logistic regression\" which has an affine transform from 2 inputs to 1 output, which is squeezed through a sigmoid.\n"
   ]
  },
  {
   "cell_type": "code",
   "execution_count": 17,
   "id": "2b9c66db",
   "metadata": {
    "execution": {
     "iopub.execute_input": "2022-10-04T20:13:00.043090Z",
     "iopub.status.busy": "2022-10-04T20:13:00.034623Z",
     "iopub.status.idle": "2022-10-04T20:13:00.049488Z",
     "shell.execute_reply": "2022-10-04T20:13:00.048997Z"
    },
    "papermill": {
     "duration": 0.050851,
     "end_time": "2022-10-04T20:13:00.049591",
     "exception": false,
     "start_time": "2022-10-04T20:12:59.998740",
     "status": "completed"
    },
    "tags": []
   },
   "outputs": [],
   "source": [
    "data = Data(X_train, y_train.reshape(-1,1))\n",
    "sampler = Sampler(data, config.bs, shuffle=True)\n",
    "\n",
    "dl = Dataloader(data, sampler)\n",
    "\n",
    "opt = GD(config.lr)\n",
    "loss = MSE()"
   ]
  },
  {
   "cell_type": "code",
   "execution_count": 18,
   "id": "b275e4c2",
   "metadata": {
    "execution": {
     "iopub.execute_input": "2022-10-04T20:13:00.115439Z",
     "iopub.status.busy": "2022-10-04T20:13:00.110918Z",
     "iopub.status.idle": "2022-10-04T20:13:00.127433Z",
     "shell.execute_reply": "2022-10-04T20:13:00.126871Z"
    },
    "papermill": {
     "duration": 0.049252,
     "end_time": "2022-10-04T20:13:00.127555",
     "exception": false,
     "start_time": "2022-10-04T20:13:00.078303",
     "status": "completed"
    },
    "tags": []
   },
   "outputs": [],
   "source": [
    "training_data_x = X_train\n",
    "testing_data_x = X_test\n",
    "training_data_y = y_train.reshape(-1,1)\n",
    "testing_data_y = y_test.reshape(-1,1)"
   ]
  },
  {
   "cell_type": "code",
   "execution_count": 19,
   "id": "76951160",
   "metadata": {
    "execution": {
     "iopub.execute_input": "2022-10-04T20:13:00.192466Z",
     "iopub.status.busy": "2022-10-04T20:13:00.191738Z",
     "iopub.status.idle": "2022-10-04T20:13:00.212143Z",
     "shell.execute_reply": "2022-10-04T20:13:00.211200Z"
    },
    "papermill": {
     "duration": 0.055675,
     "end_time": "2022-10-04T20:13:00.212274",
     "exception": false,
     "start_time": "2022-10-04T20:13:00.156599",
     "status": "completed"
    },
    "tags": []
   },
   "outputs": [
    {
     "name": "stdout",
     "output_type": "stream",
     "text": [
      "xavier\n",
      "xavier\n",
      "xavier\n",
      "xavier\n",
      "xavier\n"
     ]
    }
   ],
   "source": [
    "layers = [Affine(\"first\", 784, 100), Relu(\"first\"), Affine(\"second\", 100, 100), Relu(\"second\"), Affine(\"third\", 100, 2), Affine(\"last\", 2, 1), Sigmoid(\"last\")]\n",
    "model_nn = Model(layers)\n",
    "model_lr = Model([Affine(\"logits\", 784, 1), Sigmoid(\"sigmoid\")])"
   ]
  },
  {
   "cell_type": "code",
   "execution_count": 20,
   "id": "6eede77a",
   "metadata": {
    "execution": {
     "iopub.execute_input": "2022-10-04T20:13:00.277938Z",
     "iopub.status.busy": "2022-10-04T20:13:00.277252Z",
     "iopub.status.idle": "2022-10-04T20:13:00.292683Z",
     "shell.execute_reply": "2022-10-04T20:13:00.293244Z"
    },
    "papermill": {
     "duration": 0.051119,
     "end_time": "2022-10-04T20:13:00.293392",
     "exception": false,
     "start_time": "2022-10-04T20:13:00.242273",
     "status": "completed"
    },
    "tags": []
   },
   "outputs": [],
   "source": [
    "nn_learner = Learner(loss, model_nn, opt, config.num_epochs)\n",
    "acc_nn = ClfCallback(nn_learner, config.bs, training_data_x , testing_data_x, training_data_y, testing_data_y)\n",
    "nn_learner.set_callbacks([acc_nn])"
   ]
  },
  {
   "cell_type": "code",
   "execution_count": 21,
   "id": "877b6cc7",
   "metadata": {
    "execution": {
     "iopub.execute_input": "2022-10-04T20:13:00.359154Z",
     "iopub.status.busy": "2022-10-04T20:13:00.358511Z",
     "iopub.status.idle": "2022-10-04T20:13:00.374003Z",
     "shell.execute_reply": "2022-10-04T20:13:00.373339Z"
    },
    "papermill": {
     "duration": 0.050652,
     "end_time": "2022-10-04T20:13:00.374159",
     "exception": false,
     "start_time": "2022-10-04T20:13:00.323507",
     "status": "completed"
    },
    "tags": []
   },
   "outputs": [],
   "source": [
    "lr_learner = Learner(loss, model_lr, opt, config.num_epochs)\n",
    "acc_lr = ClfCallback(lr_learner, config.bs, training_data_x , testing_data_x, training_data_y, testing_data_y)\n",
    "lr_learner.set_callbacks([acc_lr])"
   ]
  },
  {
   "cell_type": "code",
   "execution_count": 22,
   "id": "d9b133c3",
   "metadata": {
    "execution": {
     "iopub.execute_input": "2022-10-04T20:13:00.442929Z",
     "iopub.status.busy": "2022-10-04T20:13:00.442247Z",
     "iopub.status.idle": "2022-10-04T20:14:25.538287Z",
     "shell.execute_reply": "2022-10-04T20:14:25.539223Z"
    },
    "papermill": {
     "duration": 85.135629,
     "end_time": "2022-10-04T20:14:25.539378",
     "exception": false,
     "start_time": "2022-10-04T20:13:00.403749",
     "status": "completed"
    },
    "tags": []
   },
   "outputs": [
    {
     "name": "stdout",
     "output_type": "stream",
     "text": [
      "Epoch 0, Loss 0.2527\n",
      "Training Accuracy: 0.5097, Testing Accuracy: 0.5171\n",
      "\n"
     ]
    },
    {
     "name": "stdout",
     "output_type": "stream",
     "text": [
      "Epoch 10, Loss 0.17\n",
      "Training Accuracy: 0.8965, Testing Accuracy: 0.9068\n",
      "\n"
     ]
    },
    {
     "name": "stdout",
     "output_type": "stream",
     "text": [
      "Epoch 20, Loss 0.0832\n",
      "Training Accuracy: 0.9214, Testing Accuracy: 0.9309\n",
      "\n"
     ]
    },
    {
     "name": "stdout",
     "output_type": "stream",
     "text": [
      "Epoch 30, Loss 0.0569\n",
      "Training Accuracy: 0.9419, Testing Accuracy: 0.9481\n",
      "\n"
     ]
    },
    {
     "name": "stdout",
     "output_type": "stream",
     "text": [
      "Epoch 40, Loss 0.0459\n",
      "Training Accuracy: 0.9503, Testing Accuracy: 0.9592\n",
      "\n"
     ]
    },
    {
     "name": "stdout",
     "output_type": "stream",
     "text": [
      "Epoch 50, Loss 0.0399\n",
      "Training Accuracy: 0.9537, Testing Accuracy: 0.9632\n",
      "\n"
     ]
    },
    {
     "name": "stdout",
     "output_type": "stream",
     "text": [
      "Epoch 60, Loss 0.0362\n",
      "Training Accuracy: 0.9582, Testing Accuracy: 0.9662\n",
      "\n"
     ]
    },
    {
     "name": "stdout",
     "output_type": "stream",
     "text": [
      "Epoch 70, Loss 0.0336\n",
      "Training Accuracy: 0.9605, Testing Accuracy: 0.9677\n",
      "\n"
     ]
    },
    {
     "name": "stdout",
     "output_type": "stream",
     "text": [
      "Epoch 80, Loss 0.0317\n",
      "Training Accuracy: 0.9629, Testing Accuracy: 0.9682\n",
      "\n"
     ]
    },
    {
     "name": "stdout",
     "output_type": "stream",
     "text": [
      "Epoch 90, Loss 0.0301\n",
      "Training Accuracy: 0.9649, Testing Accuracy: 0.9703\n",
      "\n"
     ]
    },
    {
     "name": "stdout",
     "output_type": "stream",
     "text": [
      "Epoch 100, Loss 0.0289\n",
      "Training Accuracy: 0.9664, Testing Accuracy: 0.9713\n",
      "\n"
     ]
    },
    {
     "name": "stdout",
     "output_type": "stream",
     "text": [
      "Epoch 110, Loss 0.0278\n",
      "Training Accuracy: 0.9675, Testing Accuracy: 0.9733\n",
      "\n"
     ]
    },
    {
     "name": "stdout",
     "output_type": "stream",
     "text": [
      "Epoch 120, Loss 0.0269\n",
      "Training Accuracy: 0.9686, Testing Accuracy: 0.9743\n",
      "\n"
     ]
    },
    {
     "name": "stdout",
     "output_type": "stream",
     "text": [
      "Epoch 130, Loss 0.026\n",
      "Training Accuracy: 0.9699, Testing Accuracy: 0.9743\n",
      "\n"
     ]
    },
    {
     "name": "stdout",
     "output_type": "stream",
     "text": [
      "Epoch 140, Loss 0.0253\n",
      "Training Accuracy: 0.9718, Testing Accuracy: 0.9748\n",
      "\n"
     ]
    },
    {
     "name": "stdout",
     "output_type": "stream",
     "text": [
      "Epoch 150, Loss 0.0246\n",
      "Training Accuracy: 0.9724, Testing Accuracy: 0.9748\n",
      "\n"
     ]
    },
    {
     "name": "stdout",
     "output_type": "stream",
     "text": [
      "Epoch 160, Loss 0.024\n",
      "Training Accuracy: 0.9730, Testing Accuracy: 0.9743\n",
      "\n"
     ]
    },
    {
     "name": "stdout",
     "output_type": "stream",
     "text": [
      "Epoch 170, Loss 0.0234\n",
      "Training Accuracy: 0.9737, Testing Accuracy: 0.9748\n",
      "\n"
     ]
    },
    {
     "name": "stdout",
     "output_type": "stream",
     "text": [
      "Epoch 180, Loss 0.0229\n",
      "Training Accuracy: 0.9743, Testing Accuracy: 0.9743\n",
      "\n"
     ]
    },
    {
     "name": "stdout",
     "output_type": "stream",
     "text": [
      "Epoch 190, Loss 0.0224\n",
      "Training Accuracy: 0.9749, Testing Accuracy: 0.9743\n",
      "\n"
     ]
    },
    {
     "name": "stdout",
     "output_type": "stream",
     "text": [
      "Epoch 200, Loss 0.0219\n",
      "Training Accuracy: 0.9751, Testing Accuracy: 0.9743\n",
      "\n"
     ]
    },
    {
     "name": "stdout",
     "output_type": "stream",
     "text": [
      "Epoch 210, Loss 0.0214\n",
      "Training Accuracy: 0.9755, Testing Accuracy: 0.9743\n",
      "\n"
     ]
    },
    {
     "name": "stdout",
     "output_type": "stream",
     "text": [
      "Epoch 220, Loss 0.021\n",
      "Training Accuracy: 0.9760, Testing Accuracy: 0.9743\n",
      "\n"
     ]
    },
    {
     "name": "stdout",
     "output_type": "stream",
     "text": [
      "Epoch 230, Loss 0.0206\n",
      "Training Accuracy: 0.9765, Testing Accuracy: 0.9743\n",
      "\n"
     ]
    },
    {
     "name": "stdout",
     "output_type": "stream",
     "text": [
      "Epoch 240, Loss 0.0202\n",
      "Training Accuracy: 0.9770, Testing Accuracy: 0.9748\n",
      "\n"
     ]
    },
    {
     "data": {
      "text/plain": [
       "0.006785596484490549"
      ]
     },
     "execution_count": 22,
     "metadata": {},
     "output_type": "execute_result"
    }
   ],
   "source": [
    "nn_learner.train_loop(dl)"
   ]
  },
  {
   "cell_type": "code",
   "execution_count": 23,
   "id": "e0163366",
   "metadata": {
    "execution": {
     "iopub.execute_input": "2022-10-04T20:14:25.624112Z",
     "iopub.status.busy": "2022-10-04T20:14:25.623397Z",
     "iopub.status.idle": "2022-10-04T20:14:39.647878Z",
     "shell.execute_reply": "2022-10-04T20:14:39.648840Z"
    },
    "papermill": {
     "duration": 14.071152,
     "end_time": "2022-10-04T20:14:39.649002",
     "exception": false,
     "start_time": "2022-10-04T20:14:25.577850",
     "status": "completed"
    },
    "tags": []
   },
   "outputs": [
    {
     "name": "stdout",
     "output_type": "stream",
     "text": [
      "Epoch 0, Loss 0.2351\n",
      "Training Accuracy: 0.7093, Testing Accuracy: 0.7203\n",
      "\n"
     ]
    },
    {
     "name": "stdout",
     "output_type": "stream",
     "text": [
      "Epoch 10, Loss 0.1043\n",
      "Training Accuracy: 0.9022, Testing Accuracy: 0.9108\n",
      "\n"
     ]
    },
    {
     "name": "stdout",
     "output_type": "stream",
     "text": [
      "Epoch 20, Loss 0.0806\n",
      "Training Accuracy: 0.9222, Testing Accuracy: 0.9355\n",
      "\n"
     ]
    },
    {
     "name": "stdout",
     "output_type": "stream",
     "text": [
      "Epoch 30, Loss 0.0694\n",
      "Training Accuracy: 0.9334, Testing Accuracy: 0.9425\n",
      "\n"
     ]
    },
    {
     "name": "stdout",
     "output_type": "stream",
     "text": [
      "Epoch 40, Loss 0.0626\n",
      "Training Accuracy: 0.9384, Testing Accuracy: 0.9481\n",
      "\n"
     ]
    },
    {
     "name": "stdout",
     "output_type": "stream",
     "text": [
      "Epoch 50, Loss 0.0579\n",
      "Training Accuracy: 0.9432, Testing Accuracy: 0.9531\n",
      "\n"
     ]
    },
    {
     "name": "stdout",
     "output_type": "stream",
     "text": [
      "Epoch 60, Loss 0.0545\n",
      "Training Accuracy: 0.9459, Testing Accuracy: 0.9556\n",
      "\n"
     ]
    },
    {
     "name": "stdout",
     "output_type": "stream",
     "text": [
      "Epoch 70, Loss 0.0519\n",
      "Training Accuracy: 0.9475, Testing Accuracy: 0.9582\n",
      "\n"
     ]
    },
    {
     "name": "stdout",
     "output_type": "stream",
     "text": [
      "Epoch 80, Loss 0.0497\n",
      "Training Accuracy: 0.9496, Testing Accuracy: 0.9597\n",
      "\n"
     ]
    },
    {
     "name": "stdout",
     "output_type": "stream",
     "text": [
      "Epoch 90, Loss 0.048\n",
      "Training Accuracy: 0.9508, Testing Accuracy: 0.9602\n",
      "\n"
     ]
    },
    {
     "name": "stdout",
     "output_type": "stream",
     "text": [
      "Epoch 100, Loss 0.0465\n",
      "Training Accuracy: 0.9521, Testing Accuracy: 0.9612\n",
      "\n"
     ]
    },
    {
     "name": "stdout",
     "output_type": "stream",
     "text": [
      "Epoch 110, Loss 0.0453\n",
      "Training Accuracy: 0.9538, Testing Accuracy: 0.9622\n",
      "\n"
     ]
    },
    {
     "name": "stdout",
     "output_type": "stream",
     "text": [
      "Epoch 120, Loss 0.0442\n",
      "Training Accuracy: 0.9545, Testing Accuracy: 0.9632\n",
      "\n"
     ]
    },
    {
     "name": "stdout",
     "output_type": "stream",
     "text": [
      "Epoch 130, Loss 0.0433\n",
      "Training Accuracy: 0.9552, Testing Accuracy: 0.9637\n",
      "\n"
     ]
    },
    {
     "name": "stdout",
     "output_type": "stream",
     "text": [
      "Epoch 140, Loss 0.0424\n",
      "Training Accuracy: 0.9559, Testing Accuracy: 0.9647\n",
      "\n"
     ]
    },
    {
     "name": "stdout",
     "output_type": "stream",
     "text": [
      "Epoch 150, Loss 0.0416\n",
      "Training Accuracy: 0.9569, Testing Accuracy: 0.9652\n",
      "\n"
     ]
    },
    {
     "name": "stdout",
     "output_type": "stream",
     "text": [
      "Epoch 160, Loss 0.041\n",
      "Training Accuracy: 0.9575, Testing Accuracy: 0.9657\n",
      "\n"
     ]
    },
    {
     "name": "stdout",
     "output_type": "stream",
     "text": [
      "Epoch 170, Loss 0.0403\n",
      "Training Accuracy: 0.9577, Testing Accuracy: 0.9657\n",
      "\n"
     ]
    },
    {
     "name": "stdout",
     "output_type": "stream",
     "text": [
      "Epoch 180, Loss 0.0398\n",
      "Training Accuracy: 0.9579, Testing Accuracy: 0.9657\n",
      "\n"
     ]
    },
    {
     "name": "stdout",
     "output_type": "stream",
     "text": [
      "Epoch 190, Loss 0.0392\n",
      "Training Accuracy: 0.9584, Testing Accuracy: 0.9662\n",
      "\n"
     ]
    },
    {
     "name": "stdout",
     "output_type": "stream",
     "text": [
      "Epoch 200, Loss 0.0387\n",
      "Training Accuracy: 0.9588, Testing Accuracy: 0.9662\n",
      "\n"
     ]
    },
    {
     "name": "stdout",
     "output_type": "stream",
     "text": [
      "Epoch 210, Loss 0.0383\n",
      "Training Accuracy: 0.9591, Testing Accuracy: 0.9662\n",
      "\n"
     ]
    },
    {
     "name": "stdout",
     "output_type": "stream",
     "text": [
      "Epoch 220, Loss 0.0379\n",
      "Training Accuracy: 0.9595, Testing Accuracy: 0.9667\n",
      "\n"
     ]
    },
    {
     "name": "stdout",
     "output_type": "stream",
     "text": [
      "Epoch 230, Loss 0.0375\n",
      "Training Accuracy: 0.9599, Testing Accuracy: 0.9672\n",
      "\n"
     ]
    },
    {
     "name": "stdout",
     "output_type": "stream",
     "text": [
      "Epoch 240, Loss 0.0371\n",
      "Training Accuracy: 0.9602, Testing Accuracy: 0.9672\n",
      "\n"
     ]
    },
    {
     "data": {
      "text/plain": [
       "0.05770648216088768"
      ]
     },
     "execution_count": 23,
     "metadata": {},
     "output_type": "execute_result"
    }
   ],
   "source": [
    "lr_learner.train_loop(dl)"
   ]
  },
  {
   "cell_type": "code",
   "execution_count": 24,
   "id": "ca410940",
   "metadata": {
    "execution": {
     "iopub.execute_input": "2022-10-04T20:14:39.748217Z",
     "iopub.status.busy": "2022-10-04T20:14:39.747507Z",
     "iopub.status.idle": "2022-10-04T20:14:40.009008Z",
     "shell.execute_reply": "2022-10-04T20:14:40.008125Z"
    },
    "papermill": {
     "duration": 0.315807,
     "end_time": "2022-10-04T20:14:40.009149",
     "exception": false,
     "start_time": "2022-10-04T20:14:39.693342",
     "status": "completed"
    },
    "tags": []
   },
   "outputs": [
    {
     "data": {
      "text/plain": [
       "<matplotlib.legend.Legend at 0x7f60863b0320>"
      ]
     },
     "execution_count": 24,
     "metadata": {},
     "output_type": "execute_result"
    },
    {
     "data": {
      "image/png": "[encoded data removed]",
      "text/plain": [
       "<Figure size 1080x720 with 1 Axes>"
      ]
     },
     "metadata": {
      "needs_background": "light"
     },
     "output_type": "display_data"
    }
   ],
   "source": [
    "#comparing the results of NN and LR\n",
    "plt.figure(figsize=(15,10))\n",
    "\n",
    "# Neural Network plots\n",
    "plt.plot(acc_nn.accuracies, 'r-', label = \"Training Accuracies - NN\")\n",
    "plt.plot(acc_nn.test_accuracies, 'g-', label = \"Testing Accuracies - NN\")\n",
    "\n",
    "# Logistic Regression plots\n",
    "plt.plot(acc_lr.accuracies, 'k-', label = \"Training Accuracies - LR\")\n",
    "plt.plot(acc_lr.test_accuracies, 'b-', label = \"Testing Accuracies - LR\")\n",
    "plt.legend()"
   ]
  },
  {
   "cell_type": "markdown",
   "id": "80dfb35c",
   "metadata": {
    "papermill": {
     "duration": 0.045591,
     "end_time": "2022-10-04T20:14:40.101386",
     "exception": false,
     "start_time": "2022-10-04T20:14:40.055795",
     "status": "completed"
    },
    "tags": []
   },
   "source": [
    "#### Plotting the outputs of this layer of the NN.\n"
   ]
  },
  {
   "cell_type": "code",
   "execution_count": 25,
   "id": "45eb2ff5",
   "metadata": {
    "execution": {
     "iopub.execute_input": "2022-10-04T20:14:40.198648Z",
     "iopub.status.busy": "2022-10-04T20:14:40.197890Z",
     "iopub.status.idle": "2022-10-04T20:14:40.221842Z",
     "shell.execute_reply": "2022-10-04T20:14:40.222445Z"
    },
    "papermill": {
     "duration": 0.075478,
     "end_time": "2022-10-04T20:14:40.222606",
     "exception": false,
     "start_time": "2022-10-04T20:14:40.147128",
     "status": "completed"
    },
    "tags": []
   },
   "outputs": [],
   "source": [
    "new_model = Model(layers[:-2])\n",
    "testing_plot = new_model(testing_data_x)"
   ]
  },
  {
   "cell_type": "code",
   "execution_count": 26,
   "id": "4c0a5485",
   "metadata": {
    "execution": {
     "iopub.execute_input": "2022-10-04T20:14:40.312823Z",
     "iopub.status.busy": "2022-10-04T20:14:40.312253Z",
     "iopub.status.idle": "2022-10-04T20:14:40.527878Z",
     "shell.execute_reply": "2022-10-04T20:14:40.527092Z"
    },
    "papermill": {
     "duration": 0.26078,
     "end_time": "2022-10-04T20:14:40.528021",
     "exception": false,
     "start_time": "2022-10-04T20:14:40.267241",
     "status": "completed"
    },
    "tags": []
   },
   "outputs": [
    {
     "data": {
      "text/plain": [
       "Text(0.5, 1.0, 'Outputs')"
      ]
     },
     "execution_count": 26,
     "metadata": {},
     "output_type": "execute_result"
    },
    {
     "data": {
      "image/png": "[encoded data removed]",
      "text/plain": [
       "<Figure size 576x504 with 1 Axes>"
      ]
     },
     "metadata": {
      "needs_background": "light"
     },
     "output_type": "display_data"
    }
   ],
   "source": [
    "# Plotting the scatter plot of points and color coding by class\n",
    "plt.figure(figsize=(8,7))\n",
    "plt.scatter(testing_plot[:,0], testing_plot[:,1], alpha = 0.1, c = y_test.ravel());\n",
    "plt.title('Outputs')"
   ]
  },
  {
   "cell_type": "markdown",
   "id": "a74fcf8f",
   "metadata": {
    "papermill": {
     "duration": 0.047791,
     "end_time": "2022-10-04T20:14:40.624748",
     "exception": false,
     "start_time": "2022-10-04T20:14:40.576957",
     "status": "completed"
    },
    "tags": []
   },
   "source": [
    "Probability contours"
   ]
  },
  {
   "cell_type": "code",
   "execution_count": 27,
   "id": "d0afc8e3",
   "metadata": {
    "execution": {
     "iopub.execute_input": "2022-10-04T20:14:40.731058Z",
     "iopub.status.busy": "2022-10-04T20:14:40.730333Z",
     "iopub.status.idle": "2022-10-04T20:14:40.744858Z",
     "shell.execute_reply": "2022-10-04T20:14:40.744281Z"
    },
    "papermill": {
     "duration": 0.070822,
     "end_time": "2022-10-04T20:14:40.744989",
     "exception": false,
     "start_time": "2022-10-04T20:14:40.674167",
     "status": "completed"
    },
    "tags": []
   },
   "outputs": [],
   "source": [
    "model_prob = Model(layers[-2:]) "
   ]
  },
  {
   "cell_type": "code",
   "execution_count": 28,
   "id": "9b96e238",
   "metadata": {
    "execution": {
     "iopub.execute_input": "2022-10-04T20:14:40.882926Z",
     "iopub.status.busy": "2022-10-04T20:14:40.882279Z",
     "iopub.status.idle": "2022-10-04T20:14:40.897225Z",
     "shell.execute_reply": "2022-10-04T20:14:40.897699Z"
    },
    "papermill": {
     "duration": 0.102357,
     "end_time": "2022-10-04T20:14:40.897842",
     "exception": false,
     "start_time": "2022-10-04T20:14:40.795485",
     "status": "completed"
    },
    "tags": []
   },
   "outputs": [],
   "source": [
    "#creating the x and y ranges according to the above generated plot.\n",
    "x_range = np.linspace(-4, 1, 100) \n",
    "y_range = np.linspace(-6, 6, 100) \n",
    "x_grid, y_grid = np.meshgrid(x_range, y_range) # x_grid and y_grig are of size 100 X 100\n",
    "\n",
    "# converting x_grid and y_grid to continuous arrays\n",
    "x_gridflat = np.ravel(x_grid)\n",
    "y_gridflat = np.ravel(y_grid)\n",
    "\n",
    "# The last layer of the current model takes two columns as input. Hence transpose of np.vstack() is required.\n",
    "X = np.vstack((x_gridflat, y_gridflat)).T\n",
    "\n",
    "prob_contour = model_prob(X).reshape(100,100) "
   ]
  },
  {
   "cell_type": "code",
   "execution_count": 29,
   "id": "da72499a",
   "metadata": {
    "execution": {
     "iopub.execute_input": "2022-10-04T20:14:41.011747Z",
     "iopub.status.busy": "2022-10-04T20:14:41.011098Z",
     "iopub.status.idle": "2022-10-04T20:14:41.280911Z",
     "shell.execute_reply": "2022-10-04T20:14:41.281420Z"
    },
    "papermill": {
     "duration": 0.333194,
     "end_time": "2022-10-04T20:14:41.281596",
     "exception": false,
     "start_time": "2022-10-04T20:14:40.948402",
     "status": "completed"
    },
    "tags": []
   },
   "outputs": [
    {
     "data": {
      "image/png": "[encoded data removed]",
      "text/plain": [
       "<Figure size 720x648 with 1 Axes>"
      ]
     },
     "metadata": {
      "needs_background": "light"
     },
     "output_type": "display_data"
    }
   ],
   "source": [
    "plt.figure(figsize=(10,9))\n",
    "plt.scatter(testing_plot[:,0], testing_plot[:,1], alpha = 0.1, c = y_test.ravel())\n",
    "contours = plt.contour(x_grid,y_grid,prob_contour)\n",
    "plt.title('Probability Contours')\n",
    "plt.clabel(contours, inline = True );"
   ]
  },
  {
   "cell_type": "code",
   "execution_count": null,
   "id": "e81b4ac7",
   "metadata": {
    "papermill": {
     "duration": 0.052817,
     "end_time": "2022-10-04T20:14:41.385951",
     "exception": false,
     "start_time": "2022-10-04T20:14:41.333134",
     "status": "completed"
    },
    "tags": []
   },
   "outputs": [],
   "source": []
  }
 ],
 "metadata": {
  "kernelspec": {
   "display_name": "Python 3",
   "language": "python",
   "name": "python3"
  },
  "language_info": {
   "codemirror_mode": {
    "name": "ipython",
    "version": 3
   },
   "file_extension": ".py",
   "mimetype": "text/x-python",
   "name": "python",
   "nbconvert_exporter": "python",
   "pygments_lexer": "ipython3",
   "version": "3.6.15"
  },
  "papermill": {
   "default_parameters": {},
   "duration": 108.314501,
   "end_time": "2022-10-04T20:14:41.858285",
   "environment_variables": {},
   "exception": null,
   "input_path": "2020-08-11-part2.ipynb",
   "output_path": "2020-08-11-part2.ipynb",
   "parameters": {},
   "start_time": "2022-10-04T20:12:53.543784",
   "version": "2.3.3"
  }
 },
 "nbformat": 4,
 "nbformat_minor": 5
}