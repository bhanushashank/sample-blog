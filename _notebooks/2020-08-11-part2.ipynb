{
 "cells": [
  {
   "cell_type": "markdown",
   "id": "98380cd3",
   "metadata": {
    "papermill": {
     "duration": 0.028706,
     "end_time": "2021-08-31T20:06:51.339133",
     "exception": false,
     "start_time": "2021-08-31T20:06:51.310427",
     "status": "completed"
    },
    "tags": []
   },
   "source": [
    "# Distinguish Your Own Digits (DYOD)"
   ]
  },
  {
   "cell_type": "markdown",
   "id": "ef31240d",
   "metadata": {
    "papermill": {
     "duration": 0.023606,
     "end_time": "2021-08-31T20:06:51.387007",
     "exception": false,
     "start_time": "2021-08-31T20:06:51.363401",
     "status": "completed"
    },
    "tags": []
   },
   "source": [
    "You are going to write a classifier that distinguishes between the number 3 and number 8."
   ]
  },
  {
   "cell_type": "code",
   "execution_count": 1,
   "id": "b15c8646",
   "metadata": {
    "execution": {
     "iopub.execute_input": "2021-08-31T20:06:51.443795Z",
     "iopub.status.busy": "2021-08-31T20:06:51.443280Z",
     "iopub.status.idle": "2021-08-31T20:06:51.453240Z",
     "shell.execute_reply": "2021-08-31T20:06:51.452788Z"
    },
    "papermill": {
     "duration": 0.04281,
     "end_time": "2021-08-31T20:06:51.453363",
     "exception": false,
     "start_time": "2021-08-31T20:06:51.410553",
     "status": "completed"
    },
    "tags": []
   },
   "outputs": [],
   "source": [
    "%load_ext autoreload\n",
    "%autoreload 2"
   ]
  },
  {
   "cell_type": "code",
   "execution_count": 2,
   "id": "22ef38dc",
   "metadata": {
    "execution": {
     "iopub.execute_input": "2021-08-31T20:06:51.504983Z",
     "iopub.status.busy": "2021-08-31T20:06:51.504445Z",
     "iopub.status.idle": "2021-08-31T20:06:51.999767Z",
     "shell.execute_reply": "2021-08-31T20:06:51.999260Z"
    },
    "papermill": {
     "duration": 0.522771,
     "end_time": "2021-08-31T20:06:51.999901",
     "exception": false,
     "start_time": "2021-08-31T20:06:51.477130",
     "status": "completed"
    },
    "tags": []
   },
   "outputs": [],
   "source": [
    "%matplotlib inline\n",
    "import numpy as np\n",
    "import matplotlib.pyplot as plt\n",
    "import pandas as pd"
   ]
  },
  {
   "cell_type": "markdown",
   "id": "ba036198",
   "metadata": {
    "papermill": {
     "duration": 0.024593,
     "end_time": "2021-08-31T20:06:52.048868",
     "exception": false,
     "start_time": "2021-08-31T20:06:52.024275",
     "status": "completed"
    },
    "tags": []
   },
   "source": [
    "From the command line run `pip install mnist`. This is a library that will help you bring down the mnist dataset. If you run this from a notebook, you need to put  `!pip install mnist` in a cell by itself."
   ]
  },
  {
   "cell_type": "code",
   "execution_count": 3,
   "id": "bb6ad8a1",
   "metadata": {
    "execution": {
     "iopub.execute_input": "2021-08-31T20:06:52.116701Z",
     "iopub.status.busy": "2021-08-31T20:06:52.109599Z",
     "iopub.status.idle": "2021-08-31T20:06:53.703812Z",
     "shell.execute_reply": "2021-08-31T20:06:53.704264Z"
    },
    "papermill": {
     "duration": 1.631957,
     "end_time": "2021-08-31T20:06:53.704417",
     "exception": false,
     "start_time": "2021-08-31T20:06:52.072460",
     "status": "completed"
    },
    "tags": []
   },
   "outputs": [
    {
     "name": "stdout",
     "output_type": "stream",
     "text": [
      "Collecting mnist\r\n"
     ]
    },
    {
     "name": "stdout",
     "output_type": "stream",
     "text": [
      "  Downloading mnist-0.2.2-py2.py3-none-any.whl (3.5 kB)\r\n",
      "Requirement already satisfied: numpy in /opt/hostedtoolcache/Python/3.6.14/x64/lib/python3.6/site-packages (from mnist) (1.19.5)\r\n"
     ]
    },
    {
     "name": "stdout",
     "output_type": "stream",
     "text": [
      "Installing collected packages: mnist\r\n"
     ]
    },
    {
     "name": "stdout",
     "output_type": "stream",
     "text": [
      "Successfully installed mnist-0.2.2\r\n"
     ]
    }
   ],
   "source": [
    "!pip install mnist"
   ]
  },
  {
   "cell_type": "markdown",
   "id": "69df9c9a",
   "metadata": {
    "papermill": {
     "duration": 0.024985,
     "end_time": "2021-08-31T20:06:53.754416",
     "exception": false,
     "start_time": "2021-08-31T20:06:53.729431",
     "status": "completed"
    },
    "tags": []
   },
   "source": [
    "## Preparing the Data"
   ]
  },
  {
   "cell_type": "code",
   "execution_count": 4,
   "id": "7f69d806",
   "metadata": {
    "execution": {
     "iopub.execute_input": "2021-08-31T20:06:53.808237Z",
     "iopub.status.busy": "2021-08-31T20:06:53.807714Z",
     "iopub.status.idle": "2021-08-31T20:06:53.822860Z",
     "shell.execute_reply": "2021-08-31T20:06:53.822145Z"
    },
    "papermill": {
     "duration": 0.043672,
     "end_time": "2021-08-31T20:06:53.822983",
     "exception": false,
     "start_time": "2021-08-31T20:06:53.779311",
     "status": "completed"
    },
    "tags": []
   },
   "outputs": [],
   "source": [
    "import mnist"
   ]
  },
  {
   "cell_type": "code",
   "execution_count": 5,
   "id": "a411e44f",
   "metadata": {
    "execution": {
     "iopub.execute_input": "2021-08-31T20:06:53.892363Z",
     "iopub.status.busy": "2021-08-31T20:06:53.885583Z",
     "iopub.status.idle": "2021-08-31T20:06:54.433268Z",
     "shell.execute_reply": "2021-08-31T20:06:54.432730Z"
    },
    "papermill": {
     "duration": 0.585462,
     "end_time": "2021-08-31T20:06:54.433391",
     "exception": false,
     "start_time": "2021-08-31T20:06:53.847929",
     "status": "completed"
    },
    "tags": []
   },
   "outputs": [],
   "source": [
    "train_images = mnist.train_images()\n",
    "train_labels = mnist.train_labels()"
   ]
  },
  {
   "cell_type": "code",
   "execution_count": 6,
   "id": "dceab3a5",
   "metadata": {
    "execution": {
     "iopub.execute_input": "2021-08-31T20:06:54.487151Z",
     "iopub.status.busy": "2021-08-31T20:06:54.486679Z",
     "iopub.status.idle": "2021-08-31T20:06:54.500081Z",
     "shell.execute_reply": "2021-08-31T20:06:54.499669Z"
    },
    "papermill": {
     "duration": 0.041852,
     "end_time": "2021-08-31T20:06:54.500193",
     "exception": false,
     "start_time": "2021-08-31T20:06:54.458341",
     "status": "completed"
    },
    "tags": []
   },
   "outputs": [
    {
     "data": {
      "text/plain": [
       "((60000, 28, 28), (60000,))"
      ]
     },
     "execution_count": 6,
     "metadata": {},
     "output_type": "execute_result"
    }
   ],
   "source": [
    "train_images.shape, train_labels.shape"
   ]
  },
  {
   "cell_type": "code",
   "execution_count": 7,
   "id": "f50dc2bb",
   "metadata": {
    "execution": {
     "iopub.execute_input": "2021-08-31T20:06:54.553758Z",
     "iopub.status.busy": "2021-08-31T20:06:54.553252Z",
     "iopub.status.idle": "2021-08-31T20:06:54.710182Z",
     "shell.execute_reply": "2021-08-31T20:06:54.709721Z"
    },
    "papermill": {
     "duration": 0.185112,
     "end_time": "2021-08-31T20:06:54.710304",
     "exception": false,
     "start_time": "2021-08-31T20:06:54.525192",
     "status": "completed"
    },
    "tags": []
   },
   "outputs": [],
   "source": [
    "test_images = mnist.test_images()\n",
    "test_labels = mnist.test_labels()"
   ]
  },
  {
   "cell_type": "code",
   "execution_count": 8,
   "id": "fc38cf1b",
   "metadata": {
    "execution": {
     "iopub.execute_input": "2021-08-31T20:06:54.765022Z",
     "iopub.status.busy": "2021-08-31T20:06:54.764494Z",
     "iopub.status.idle": "2021-08-31T20:06:54.776727Z",
     "shell.execute_reply": "2021-08-31T20:06:54.776322Z"
    },
    "papermill": {
     "duration": 0.040803,
     "end_time": "2021-08-31T20:06:54.776835",
     "exception": false,
     "start_time": "2021-08-31T20:06:54.736032",
     "status": "completed"
    },
    "tags": []
   },
   "outputs": [
    {
     "data": {
      "text/plain": [
       "((10000, 28, 28), (10000,))"
      ]
     },
     "execution_count": 8,
     "metadata": {},
     "output_type": "execute_result"
    }
   ],
   "source": [
    "test_images.shape, test_labels.shape"
   ]
  },
  {
   "cell_type": "code",
   "execution_count": 9,
   "id": "f9ed8fe0",
   "metadata": {
    "execution": {
     "iopub.execute_input": "2021-08-31T20:06:54.833020Z",
     "iopub.status.busy": "2021-08-31T20:06:54.832499Z",
     "iopub.status.idle": "2021-08-31T20:06:54.980495Z",
     "shell.execute_reply": "2021-08-31T20:06:54.980946Z"
    },
    "papermill": {
     "duration": 0.179072,
     "end_time": "2021-08-31T20:06:54.981088",
     "exception": false,
     "start_time": "2021-08-31T20:06:54.802016",
     "status": "completed"
    },
    "tags": []
   },
   "outputs": [
    {
     "name": "stdout",
     "output_type": "stream",
     "text": [
      "2\n"
     ]
    },
    {
     "data": {
      "text/plain": [
       "<matplotlib.image.AxesImage at 0x7f42935c9a90>"
      ]
     },
     "execution_count": 9,
     "metadata": {},
     "output_type": "execute_result"
    },
    {
     "data": {
      "image/png": "[encoded data removed]",
      "text/plain": [
       "<Figure size 432x288 with 1 Axes>"
      ]
     },
     "metadata": {
      "needs_background": "light"
     },
     "output_type": "display_data"
    }
   ],
   "source": [
    "image_index = 7776 # You may select anything up to 60,000\n",
    "print(train_labels[image_index]) \n",
    "plt.imshow(train_images[image_index], cmap='Greys')"
   ]
  },
  {
   "cell_type": "markdown",
   "id": "a8d2388d",
   "metadata": {
    "papermill": {
     "duration": 0.026655,
     "end_time": "2021-08-31T20:06:55.034146",
     "exception": false,
     "start_time": "2021-08-31T20:06:55.007491",
     "status": "completed"
    },
    "tags": []
   },
   "source": [
    "## Filter data to get 3 and 8 out"
   ]
  },
  {
   "cell_type": "code",
   "execution_count": 10,
   "id": "776f7fc7",
   "metadata": {
    "execution": {
     "iopub.execute_input": "2021-08-31T20:06:55.090977Z",
     "iopub.status.busy": "2021-08-31T20:06:55.090445Z",
     "iopub.status.idle": "2021-08-31T20:06:55.105445Z",
     "shell.execute_reply": "2021-08-31T20:06:55.105848Z"
    },
    "papermill": {
     "duration": 0.045487,
     "end_time": "2021-08-31T20:06:55.105974",
     "exception": false,
     "start_time": "2021-08-31T20:06:55.060487",
     "status": "completed"
    },
    "tags": []
   },
   "outputs": [],
   "source": [
    "train_filter = np.where((train_labels == 3 ) | (train_labels == 8))\n",
    "test_filter = np.where((test_labels == 3) | (test_labels == 8))\n",
    "X_train, y_train = train_images[train_filter], train_labels[train_filter]\n",
    "X_test, y_test = test_images[test_filter], test_labels[test_filter]"
   ]
  },
  {
   "cell_type": "markdown",
   "id": "948f0b7e",
   "metadata": {
    "papermill": {
     "duration": 0.026041,
     "end_time": "2021-08-31T20:06:55.158210",
     "exception": false,
     "start_time": "2021-08-31T20:06:55.132169",
     "status": "completed"
    },
    "tags": []
   },
   "source": [
    "We normalize the pizel values in the 0 to 1 range"
   ]
  },
  {
   "cell_type": "code",
   "execution_count": 11,
   "id": "ee4c2166",
   "metadata": {
    "execution": {
     "iopub.execute_input": "2021-08-31T20:06:55.214528Z",
     "iopub.status.busy": "2021-08-31T20:06:55.214026Z",
     "iopub.status.idle": "2021-08-31T20:06:55.259178Z",
     "shell.execute_reply": "2021-08-31T20:06:55.258693Z"
    },
    "papermill": {
     "duration": 0.075098,
     "end_time": "2021-08-31T20:06:55.259305",
     "exception": false,
     "start_time": "2021-08-31T20:06:55.184207",
     "status": "completed"
    },
    "tags": []
   },
   "outputs": [],
   "source": [
    "X_train = X_train/255.\n",
    "X_test = X_test/255."
   ]
  },
  {
   "cell_type": "markdown",
   "id": "ddcf4fab",
   "metadata": {
    "papermill": {
     "duration": 0.026346,
     "end_time": "2021-08-31T20:06:55.312694",
     "exception": false,
     "start_time": "2021-08-31T20:06:55.286348",
     "status": "completed"
    },
    "tags": []
   },
   "source": [
    "And setup the labels as 1 (when the digit is 3) and 0 (when the digit is 8)"
   ]
  },
  {
   "cell_type": "code",
   "execution_count": 12,
   "id": "7dc908f2",
   "metadata": {
    "execution": {
     "iopub.execute_input": "2021-08-31T20:06:55.368566Z",
     "iopub.status.busy": "2021-08-31T20:06:55.368059Z",
     "iopub.status.idle": "2021-08-31T20:06:55.380416Z",
     "shell.execute_reply": "2021-08-31T20:06:55.379978Z"
    },
    "papermill": {
     "duration": 0.041706,
     "end_time": "2021-08-31T20:06:55.380525",
     "exception": false,
     "start_time": "2021-08-31T20:06:55.338819",
     "status": "completed"
    },
    "tags": []
   },
   "outputs": [],
   "source": [
    "y_train = 1*(y_train==3)\n",
    "y_test = 1*(y_test==3)"
   ]
  },
  {
   "cell_type": "code",
   "execution_count": 13,
   "id": "01e4e969",
   "metadata": {
    "execution": {
     "iopub.execute_input": "2021-08-31T20:06:55.441061Z",
     "iopub.status.busy": "2021-08-31T20:06:55.440518Z",
     "iopub.status.idle": "2021-08-31T20:06:55.450520Z",
     "shell.execute_reply": "2021-08-31T20:06:55.450904Z"
    },
    "papermill": {
     "duration": 0.043971,
     "end_time": "2021-08-31T20:06:55.451035",
     "exception": false,
     "start_time": "2021-08-31T20:06:55.407064",
     "status": "completed"
    },
    "tags": []
   },
   "outputs": [
    {
     "data": {
      "text/plain": [
       "((11982, 28, 28), (1984, 28, 28))"
      ]
     },
     "execution_count": 13,
     "metadata": {},
     "output_type": "execute_result"
    }
   ],
   "source": [
    "X_train.shape, X_test.shape"
   ]
  },
  {
   "cell_type": "markdown",
   "id": "5ccf3f85",
   "metadata": {
    "papermill": {
     "duration": 0.026541,
     "end_time": "2021-08-31T20:06:55.503992",
     "exception": false,
     "start_time": "2021-08-31T20:06:55.477451",
     "status": "completed"
    },
    "tags": []
   },
   "source": [
    "We reshape the data to flatten the image pixels into a set of features or co-variates:"
   ]
  },
  {
   "cell_type": "code",
   "execution_count": 14,
   "id": "5286a4a3",
   "metadata": {
    "execution": {
     "iopub.execute_input": "2021-08-31T20:06:55.560969Z",
     "iopub.status.busy": "2021-08-31T20:06:55.560444Z",
     "iopub.status.idle": "2021-08-31T20:06:55.573380Z",
     "shell.execute_reply": "2021-08-31T20:06:55.572944Z"
    },
    "papermill": {
     "duration": 0.042977,
     "end_time": "2021-08-31T20:06:55.573491",
     "exception": false,
     "start_time": "2021-08-31T20:06:55.530514",
     "status": "completed"
    },
    "tags": []
   },
   "outputs": [
    {
     "data": {
      "text/plain": [
       "((11982, 784), (1984, 784))"
      ]
     },
     "execution_count": 14,
     "metadata": {},
     "output_type": "execute_result"
    }
   ],
   "source": [
    "X_train = X_train.reshape(X_train.shape[0], -1)\n",
    "X_test = X_test.reshape(X_test.shape[0], -1)\n",
    "X_train.shape, X_test.shape"
   ]
  },
  {
   "cell_type": "code",
   "execution_count": 15,
   "id": "73c5f88a",
   "metadata": {
    "execution": {
     "iopub.execute_input": "2021-08-31T20:06:55.634066Z",
     "iopub.status.busy": "2021-08-31T20:06:55.633558Z",
     "iopub.status.idle": "2021-08-31T20:06:55.649581Z",
     "shell.execute_reply": "2021-08-31T20:06:55.649148Z"
    },
    "papermill": {
     "duration": 0.049273,
     "end_time": "2021-08-31T20:06:55.649687",
     "exception": false,
     "start_time": "2021-08-31T20:06:55.600414",
     "status": "completed"
    },
    "tags": []
   },
   "outputs": [],
   "source": [
    "#Impoting functions from 'Kudzu'\n",
    "from kudzu.model import Model\n",
    "from kudzu.train import Learner\n",
    "from kudzu.optim import GD\n",
    "from kudzu.data import Data, Sampler,Dataloader\n",
    "\n",
    "from kudzu.callbacks import AccCallback\n",
    "from kudzu.callbacks import ClfCallback\n",
    "\n",
    "from kudzu.loss import MSE\n",
    "\n",
    "from kudzu.layer import Sigmoid,Relu\n",
    "from kudzu.layer import Affine"
   ]
  },
  {
   "cell_type": "markdown",
   "id": "bc01172a",
   "metadata": {
    "papermill": {
     "duration": 0.026697,
     "end_time": "2021-08-31T20:06:55.703125",
     "exception": false,
     "start_time": "2021-08-31T20:06:55.676428",
     "status": "completed"
    },
    "tags": []
   },
   "source": [
    "### Let us create a `Config` class, to store important parameters. \n",
    "This class essentially plays the role of a dictionary."
   ]
  },
  {
   "cell_type": "code",
   "execution_count": 16,
   "id": "978281aa",
   "metadata": {
    "execution": {
     "iopub.execute_input": "2021-08-31T20:06:55.765406Z",
     "iopub.status.busy": "2021-08-31T20:06:55.764889Z",
     "iopub.status.idle": "2021-08-31T20:06:55.772711Z",
     "shell.execute_reply": "2021-08-31T20:06:55.773156Z"
    },
    "papermill": {
     "duration": 0.043535,
     "end_time": "2021-08-31T20:06:55.773276",
     "exception": false,
     "start_time": "2021-08-31T20:06:55.729741",
     "status": "completed"
    },
    "tags": []
   },
   "outputs": [],
   "source": [
    "class Config:\n",
    "    pass\n",
    "config = Config()\n",
    "config.lr = 0.001\n",
    "config.num_epochs = 250\n",
    "config.bs = 50"
   ]
  },
  {
   "cell_type": "markdown",
   "id": "1385fa59",
   "metadata": {
    "papermill": {
     "duration": 0.026694,
     "end_time": "2021-08-31T20:06:55.826659",
     "exception": false,
     "start_time": "2021-08-31T20:06:55.799965",
     "status": "completed"
    },
    "tags": []
   },
   "source": [
    "### Running Models with the Training data\n",
    "Details about the network layers:\n",
    "- A first affine layer has 784 inputs and does 100 affine transforms. These are followed by a Relu\n",
    "- A second affine layer has 100 inputs from the 100 activations of the past layer, and does 100 affine transforms. These are followed by a Relu\n",
    "- A third affine layer has 100 activations and does 2 affine transformations to create an embedding for visualization. There is no non-linearity here.\n",
    "- A final \"logistic regression\" which has an affine transform from 2 inputs to 1 output, which is squeezed through a sigmoid.\n"
   ]
  },
  {
   "cell_type": "code",
   "execution_count": 17,
   "id": "2b9c66db",
   "metadata": {
    "execution": {
     "iopub.execute_input": "2021-08-31T20:06:55.890106Z",
     "iopub.status.busy": "2021-08-31T20:06:55.889598Z",
     "iopub.status.idle": "2021-08-31T20:06:55.897520Z",
     "shell.execute_reply": "2021-08-31T20:06:55.897107Z"
    },
    "papermill": {
     "duration": 0.044342,
     "end_time": "2021-08-31T20:06:55.897630",
     "exception": false,
     "start_time": "2021-08-31T20:06:55.853288",
     "status": "completed"
    },
    "tags": []
   },
   "outputs": [],
   "source": [
    "data = Data(X_train, y_train.reshape(-1,1))\n",
    "sampler = Sampler(data, config.bs, shuffle=True)\n",
    "\n",
    "dl = Dataloader(data, sampler)\n",
    "\n",
    "opt = GD(config.lr)\n",
    "loss = MSE()"
   ]
  },
  {
   "cell_type": "code",
   "execution_count": 18,
   "id": "b275e4c2",
   "metadata": {
    "execution": {
     "iopub.execute_input": "2021-08-31T20:06:55.956892Z",
     "iopub.status.busy": "2021-08-31T20:06:55.956365Z",
     "iopub.status.idle": "2021-08-31T20:06:55.966139Z",
     "shell.execute_reply": "2021-08-31T20:06:55.966515Z"
    },
    "papermill": {
     "duration": 0.042225,
     "end_time": "2021-08-31T20:06:55.966638",
     "exception": false,
     "start_time": "2021-08-31T20:06:55.924413",
     "status": "completed"
    },
    "tags": []
   },
   "outputs": [],
   "source": [
    "training_data_x = X_train\n",
    "testing_data_x = X_test\n",
    "training_data_y = y_train.reshape(-1,1)\n",
    "testing_data_y = y_test.reshape(-1,1)"
   ]
  },
  {
   "cell_type": "code",
   "execution_count": 19,
   "id": "76951160",
   "metadata": {
    "execution": {
     "iopub.execute_input": "2021-08-31T20:06:56.034154Z",
     "iopub.status.busy": "2021-08-31T20:06:56.033631Z",
     "iopub.status.idle": "2021-08-31T20:06:56.041682Z",
     "shell.execute_reply": "2021-08-31T20:06:56.041177Z"
    },
    "papermill": {
     "duration": 0.048441,
     "end_time": "2021-08-31T20:06:56.041788",
     "exception": false,
     "start_time": "2021-08-31T20:06:55.993347",
     "status": "completed"
    },
    "tags": []
   },
   "outputs": [
    {
     "name": "stdout",
     "output_type": "stream",
     "text": [
      "xavier\n",
      "xavier\n",
      "xavier\n",
      "xavier\n",
      "xavier\n"
     ]
    }
   ],
   "source": [
    "layers = [Affine(\"first\", 784, 100), Relu(\"first\"), Affine(\"second\", 100, 100), Relu(\"second\"), Affine(\"third\", 100, 2), Affine(\"last\", 2, 1), Sigmoid(\"last\")]\n",
    "model_nn = Model(layers)\n",
    "model_lr = Model([Affine(\"logits\", 784, 1), Sigmoid(\"sigmoid\")])"
   ]
  },
  {
   "cell_type": "code",
   "execution_count": 20,
   "id": "6eede77a",
   "metadata": {
    "execution": {
     "iopub.execute_input": "2021-08-31T20:06:56.110838Z",
     "iopub.status.busy": "2021-08-31T20:06:56.104207Z",
     "iopub.status.idle": "2021-08-31T20:06:56.112628Z",
     "shell.execute_reply": "2021-08-31T20:06:56.113038Z"
    },
    "papermill": {
     "duration": 0.044302,
     "end_time": "2021-08-31T20:06:56.113172",
     "exception": false,
     "start_time": "2021-08-31T20:06:56.068870",
     "status": "completed"
    },
    "tags": []
   },
   "outputs": [],
   "source": [
    "nn_learner = Learner(loss, model_nn, opt, config.num_epochs)\n",
    "acc_nn = ClfCallback(nn_learner, config.bs, training_data_x , testing_data_x, training_data_y, testing_data_y)\n",
    "nn_learner.set_callbacks([acc_nn])"
   ]
  },
  {
   "cell_type": "code",
   "execution_count": 21,
   "id": "877b6cc7",
   "metadata": {
    "execution": {
     "iopub.execute_input": "2021-08-31T20:06:56.181249Z",
     "iopub.status.busy": "2021-08-31T20:06:56.174073Z",
     "iopub.status.idle": "2021-08-31T20:06:56.183468Z",
     "shell.execute_reply": "2021-08-31T20:06:56.183041Z"
    },
    "papermill": {
     "duration": 0.043251,
     "end_time": "2021-08-31T20:06:56.183575",
     "exception": false,
     "start_time": "2021-08-31T20:06:56.140324",
     "status": "completed"
    },
    "tags": []
   },
   "outputs": [],
   "source": [
    "lr_learner = Learner(loss, model_lr, opt, config.num_epochs)\n",
    "acc_lr = ClfCallback(lr_learner, config.bs, training_data_x , testing_data_x, training_data_y, testing_data_y)\n",
    "lr_learner.set_callbacks([acc_lr])"
   ]
  },
  {
   "cell_type": "code",
   "execution_count": 22,
   "id": "d9b133c3",
   "metadata": {
    "execution": {
     "iopub.execute_input": "2021-08-31T20:06:56.245605Z",
     "iopub.status.busy": "2021-08-31T20:06:56.245080Z",
     "iopub.status.idle": "2021-08-31T20:08:11.935355Z",
     "shell.execute_reply": "2021-08-31T20:08:11.936054Z"
    },
    "papermill": {
     "duration": 75.725306,
     "end_time": "2021-08-31T20:08:11.936194",
     "exception": false,
     "start_time": "2021-08-31T20:06:56.210888",
     "status": "completed"
    },
    "tags": []
   },
   "outputs": [
    {
     "name": "stdout",
     "output_type": "stream",
     "text": [
      "Epoch 0, Loss 0.2446\n",
      "Training Accuracy: 0.6133, Testing Accuracy: 0.6376\n",
      "\n"
     ]
    },
    {
     "name": "stdout",
     "output_type": "stream",
     "text": [
      "Epoch 10, Loss 0.1485\n",
      "Training Accuracy: 0.8894, Testing Accuracy: 0.8972\n",
      "\n"
     ]
    },
    {
     "name": "stdout",
     "output_type": "stream",
     "text": [
      "Epoch 20, Loss 0.0786\n",
      "Training Accuracy: 0.9197, Testing Accuracy: 0.9375\n",
      "\n"
     ]
    },
    {
     "name": "stdout",
     "output_type": "stream",
     "text": [
      "Epoch 30, Loss 0.0563\n",
      "Training Accuracy: 0.9374, Testing Accuracy: 0.9521\n",
      "\n"
     ]
    },
    {
     "name": "stdout",
     "output_type": "stream",
     "text": [
      "Epoch 40, Loss 0.0462\n",
      "Training Accuracy: 0.9463, Testing Accuracy: 0.9602\n",
      "\n"
     ]
    },
    {
     "name": "stdout",
     "output_type": "stream",
     "text": [
      "Epoch 50, Loss 0.0405\n",
      "Training Accuracy: 0.9518, Testing Accuracy: 0.9662\n",
      "\n"
     ]
    },
    {
     "name": "stdout",
     "output_type": "stream",
     "text": [
      "Epoch 60, Loss 0.0369\n",
      "Training Accuracy: 0.9564, Testing Accuracy: 0.9682\n",
      "\n"
     ]
    },
    {
     "name": "stdout",
     "output_type": "stream",
     "text": [
      "Epoch 70, Loss 0.0343\n",
      "Training Accuracy: 0.9594, Testing Accuracy: 0.9703\n",
      "\n"
     ]
    },
    {
     "name": "stdout",
     "output_type": "stream",
     "text": [
      "Epoch 80, Loss 0.0324\n",
      "Training Accuracy: 0.9607, Testing Accuracy: 0.9713\n",
      "\n"
     ]
    },
    {
     "name": "stdout",
     "output_type": "stream",
     "text": [
      "Epoch 90, Loss 0.0308\n",
      "Training Accuracy: 0.9625, Testing Accuracy: 0.9718\n",
      "\n"
     ]
    },
    {
     "name": "stdout",
     "output_type": "stream",
     "text": [
      "Epoch 100, Loss 0.0295\n",
      "Training Accuracy: 0.9644, Testing Accuracy: 0.9733\n",
      "\n"
     ]
    },
    {
     "name": "stdout",
     "output_type": "stream",
     "text": [
      "Epoch 110, Loss 0.0284\n",
      "Training Accuracy: 0.9656, Testing Accuracy: 0.9733\n",
      "\n"
     ]
    },
    {
     "name": "stdout",
     "output_type": "stream",
     "text": [
      "Epoch 120, Loss 0.0274\n",
      "Training Accuracy: 0.9671, Testing Accuracy: 0.9738\n",
      "\n"
     ]
    },
    {
     "name": "stdout",
     "output_type": "stream",
     "text": [
      "Epoch 130, Loss 0.0266\n",
      "Training Accuracy: 0.9684, Testing Accuracy: 0.9743\n",
      "\n"
     ]
    },
    {
     "name": "stdout",
     "output_type": "stream",
     "text": [
      "Epoch 140, Loss 0.0258\n",
      "Training Accuracy: 0.9692, Testing Accuracy: 0.9743\n",
      "\n"
     ]
    },
    {
     "name": "stdout",
     "output_type": "stream",
     "text": [
      "Epoch 150, Loss 0.0251\n",
      "Training Accuracy: 0.9705, Testing Accuracy: 0.9743\n",
      "\n"
     ]
    },
    {
     "name": "stdout",
     "output_type": "stream",
     "text": [
      "Epoch 160, Loss 0.0244\n",
      "Training Accuracy: 0.9716, Testing Accuracy: 0.9743\n",
      "\n"
     ]
    },
    {
     "name": "stdout",
     "output_type": "stream",
     "text": [
      "Epoch 170, Loss 0.0238\n",
      "Training Accuracy: 0.9723, Testing Accuracy: 0.9743\n",
      "\n"
     ]
    },
    {
     "name": "stdout",
     "output_type": "stream",
     "text": [
      "Epoch 180, Loss 0.0233\n",
      "Training Accuracy: 0.9729, Testing Accuracy: 0.9743\n",
      "\n"
     ]
    },
    {
     "name": "stdout",
     "output_type": "stream",
     "text": [
      "Epoch 190, Loss 0.0227\n",
      "Training Accuracy: 0.9739, Testing Accuracy: 0.9743\n",
      "\n"
     ]
    },
    {
     "name": "stdout",
     "output_type": "stream",
     "text": [
      "Epoch 200, Loss 0.0222\n",
      "Training Accuracy: 0.9745, Testing Accuracy: 0.9743\n",
      "\n"
     ]
    },
    {
     "name": "stdout",
     "output_type": "stream",
     "text": [
      "Epoch 210, Loss 0.0218\n",
      "Training Accuracy: 0.9748, Testing Accuracy: 0.9743\n",
      "\n"
     ]
    },
    {
     "name": "stdout",
     "output_type": "stream",
     "text": [
      "Epoch 220, Loss 0.0213\n",
      "Training Accuracy: 0.9753, Testing Accuracy: 0.9748\n",
      "\n"
     ]
    },
    {
     "name": "stdout",
     "output_type": "stream",
     "text": [
      "Epoch 230, Loss 0.0209\n",
      "Training Accuracy: 0.9755, Testing Accuracy: 0.9748\n",
      "\n"
     ]
    },
    {
     "name": "stdout",
     "output_type": "stream",
     "text": [
      "Epoch 240, Loss 0.0205\n",
      "Training Accuracy: 0.9760, Testing Accuracy: 0.9753\n",
      "\n"
     ]
    },
    {
     "data": {
      "text/plain": [
       "0.0037389166030079722"
      ]
     },
     "execution_count": 22,
     "metadata": {},
     "output_type": "execute_result"
    }
   ],
   "source": [
    "nn_learner.train_loop(dl)"
   ]
  },
  {
   "cell_type": "code",
   "execution_count": 23,
   "id": "e0163366",
   "metadata": {
    "execution": {
     "iopub.execute_input": "2021-08-31T20:08:12.016663Z",
     "iopub.status.busy": "2021-08-31T20:08:12.016141Z",
     "iopub.status.idle": "2021-08-31T20:08:25.842072Z",
     "shell.execute_reply": "2021-08-31T20:08:25.842862Z"
    },
    "papermill": {
     "duration": 13.872706,
     "end_time": "2021-08-31T20:08:25.843005",
     "exception": false,
     "start_time": "2021-08-31T20:08:11.970299",
     "status": "completed"
    },
    "tags": []
   },
   "outputs": [
    {
     "name": "stdout",
     "output_type": "stream",
     "text": [
      "Epoch 0, Loss 0.2192\n",
      "Training Accuracy: 0.7740, Testing Accuracy: 0.7812\n",
      "\n"
     ]
    },
    {
     "name": "stdout",
     "output_type": "stream",
     "text": [
      "Epoch 10, Loss 0.1016\n",
      "Training Accuracy: 0.9064, Testing Accuracy: 0.9143\n",
      "\n"
     ]
    },
    {
     "name": "stdout",
     "output_type": "stream",
     "text": [
      "Epoch 20, Loss 0.079\n",
      "Training Accuracy: 0.9251, Testing Accuracy: 0.9405\n",
      "\n"
     ]
    },
    {
     "name": "stdout",
     "output_type": "stream",
     "text": [
      "Epoch 30, Loss 0.0682\n",
      "Training Accuracy: 0.9341, Testing Accuracy: 0.9511\n",
      "\n"
     ]
    },
    {
     "name": "stdout",
     "output_type": "stream",
     "text": [
      "Epoch 40, Loss 0.0616\n",
      "Training Accuracy: 0.9385, Testing Accuracy: 0.9521\n",
      "\n"
     ]
    },
    {
     "name": "stdout",
     "output_type": "stream",
     "text": [
      "Epoch 50, Loss 0.0571\n",
      "Training Accuracy: 0.9420, Testing Accuracy: 0.9541\n",
      "\n"
     ]
    },
    {
     "name": "stdout",
     "output_type": "stream",
     "text": [
      "Epoch 60, Loss 0.0538\n",
      "Training Accuracy: 0.9452, Testing Accuracy: 0.9561\n",
      "\n"
     ]
    },
    {
     "name": "stdout",
     "output_type": "stream",
     "text": [
      "Epoch 70, Loss 0.0512\n",
      "Training Accuracy: 0.9477, Testing Accuracy: 0.9572\n",
      "\n"
     ]
    },
    {
     "name": "stdout",
     "output_type": "stream",
     "text": [
      "Epoch 80, Loss 0.0492\n",
      "Training Accuracy: 0.9497, Testing Accuracy: 0.9582\n",
      "\n"
     ]
    },
    {
     "name": "stdout",
     "output_type": "stream",
     "text": [
      "Epoch 90, Loss 0.0475\n",
      "Training Accuracy: 0.9512, Testing Accuracy: 0.9587\n",
      "\n"
     ]
    },
    {
     "name": "stdout",
     "output_type": "stream",
     "text": [
      "Epoch 100, Loss 0.046\n",
      "Training Accuracy: 0.9521, Testing Accuracy: 0.9607\n",
      "\n"
     ]
    },
    {
     "name": "stdout",
     "output_type": "stream",
     "text": [
      "Epoch 110, Loss 0.0448\n",
      "Training Accuracy: 0.9535, Testing Accuracy: 0.9617\n",
      "\n"
     ]
    },
    {
     "name": "stdout",
     "output_type": "stream",
     "text": [
      "Epoch 120, Loss 0.0437\n",
      "Training Accuracy: 0.9544, Testing Accuracy: 0.9632\n",
      "\n"
     ]
    },
    {
     "name": "stdout",
     "output_type": "stream",
     "text": [
      "Epoch 130, Loss 0.0428\n",
      "Training Accuracy: 0.9556, Testing Accuracy: 0.9642\n",
      "\n"
     ]
    },
    {
     "name": "stdout",
     "output_type": "stream",
     "text": [
      "Epoch 140, Loss 0.042\n",
      "Training Accuracy: 0.9564, Testing Accuracy: 0.9647\n",
      "\n"
     ]
    },
    {
     "name": "stdout",
     "output_type": "stream",
     "text": [
      "Epoch 150, Loss 0.0412\n",
      "Training Accuracy: 0.9572, Testing Accuracy: 0.9652\n",
      "\n"
     ]
    },
    {
     "name": "stdout",
     "output_type": "stream",
     "text": [
      "Epoch 160, Loss 0.0405\n",
      "Training Accuracy: 0.9579, Testing Accuracy: 0.9657\n",
      "\n"
     ]
    },
    {
     "name": "stdout",
     "output_type": "stream",
     "text": [
      "Epoch 170, Loss 0.0399\n",
      "Training Accuracy: 0.9583, Testing Accuracy: 0.9662\n",
      "\n"
     ]
    },
    {
     "name": "stdout",
     "output_type": "stream",
     "text": [
      "Epoch 180, Loss 0.0394\n",
      "Training Accuracy: 0.9588, Testing Accuracy: 0.9662\n",
      "\n"
     ]
    },
    {
     "name": "stdout",
     "output_type": "stream",
     "text": [
      "Epoch 190, Loss 0.0389\n",
      "Training Accuracy: 0.9594, Testing Accuracy: 0.9667\n",
      "\n"
     ]
    },
    {
     "name": "stdout",
     "output_type": "stream",
     "text": [
      "Epoch 200, Loss 0.0384\n",
      "Training Accuracy: 0.9597, Testing Accuracy: 0.9667\n",
      "\n"
     ]
    },
    {
     "name": "stdout",
     "output_type": "stream",
     "text": [
      "Epoch 210, Loss 0.0379\n",
      "Training Accuracy: 0.9599, Testing Accuracy: 0.9667\n",
      "\n"
     ]
    },
    {
     "name": "stdout",
     "output_type": "stream",
     "text": [
      "Epoch 220, Loss 0.0375\n",
      "Training Accuracy: 0.9603, Testing Accuracy: 0.9672\n",
      "\n"
     ]
    },
    {
     "name": "stdout",
     "output_type": "stream",
     "text": [
      "Epoch 230, Loss 0.0371\n",
      "Training Accuracy: 0.9606, Testing Accuracy: 0.9667\n",
      "\n"
     ]
    },
    {
     "name": "stdout",
     "output_type": "stream",
     "text": [
      "Epoch 240, Loss 0.0368\n",
      "Training Accuracy: 0.9609, Testing Accuracy: 0.9662\n",
      "\n"
     ]
    },
    {
     "data": {
      "text/plain": [
       "0.0499722721965877"
      ]
     },
     "execution_count": 23,
     "metadata": {},
     "output_type": "execute_result"
    }
   ],
   "source": [
    "lr_learner.train_loop(dl)"
   ]
  },
  {
   "cell_type": "code",
   "execution_count": 24,
   "id": "ca410940",
   "metadata": {
    "execution": {
     "iopub.execute_input": "2021-08-31T20:08:25.935731Z",
     "iopub.status.busy": "2021-08-31T20:08:25.935222Z",
     "iopub.status.idle": "2021-08-31T20:08:26.172693Z",
     "shell.execute_reply": "2021-08-31T20:08:26.172038Z"
    },
    "papermill": {
     "duration": 0.287063,
     "end_time": "2021-08-31T20:08:26.172812",
     "exception": false,
     "start_time": "2021-08-31T20:08:25.885749",
     "status": "completed"
    },
    "tags": []
   },
   "outputs": [
    {
     "data": {
      "text/plain": [
       "<matplotlib.legend.Legend at 0x7f4285da4b00>"
      ]
     },
     "execution_count": 24,
     "metadata": {},
     "output_type": "execute_result"
    },
    {
     "data": {
      "image/png": "[encoded data removed]",
      "text/plain": [
       "<Figure size 1080x720 with 1 Axes>"
      ]
     },
     "metadata": {
      "needs_background": "light"
     },
     "output_type": "display_data"
    }
   ],
   "source": [
    "#comparing the results of NN and LR\n",
    "plt.figure(figsize=(15,10))\n",
    "\n",
    "# Neural Network plots\n",
    "plt.plot(acc_nn.accuracies, 'r-', label = \"Training Accuracies - NN\")\n",
    "plt.plot(acc_nn.test_accuracies, 'g-', label = \"Testing Accuracies - NN\")\n",
    "\n",
    "# Logistic Regression plots\n",
    "plt.plot(acc_lr.accuracies, 'k-', label = \"Training Accuracies - LR\")\n",
    "plt.plot(acc_lr.test_accuracies, 'b-', label = \"Testing Accuracies - LR\")\n",
    "plt.legend()"
   ]
  },
  {
   "cell_type": "markdown",
   "id": "80dfb35c",
   "metadata": {
    "papermill": {
     "duration": 0.042057,
     "end_time": "2021-08-31T20:08:26.257302",
     "exception": false,
     "start_time": "2021-08-31T20:08:26.215245",
     "status": "completed"
    },
    "tags": []
   },
   "source": [
    "#### Plotting the outputs of this layer of the NN.\n"
   ]
  },
  {
   "cell_type": "code",
   "execution_count": 25,
   "id": "45eb2ff5",
   "metadata": {
    "execution": {
     "iopub.execute_input": "2021-08-31T20:08:26.357607Z",
     "iopub.status.busy": "2021-08-31T20:08:26.353480Z",
     "iopub.status.idle": "2021-08-31T20:08:26.370053Z",
     "shell.execute_reply": "2021-08-31T20:08:26.369608Z"
    },
    "papermill": {
     "duration": 0.07105,
     "end_time": "2021-08-31T20:08:26.370165",
     "exception": false,
     "start_time": "2021-08-31T20:08:26.299115",
     "status": "completed"
    },
    "tags": []
   },
   "outputs": [],
   "source": [
    "new_model = Model(layers[:-2])\n",
    "testing_plot = new_model(testing_data_x)"
   ]
  },
  {
   "cell_type": "code",
   "execution_count": 26,
   "id": "4c0a5485",
   "metadata": {
    "execution": {
     "iopub.execute_input": "2021-08-31T20:08:26.472817Z",
     "iopub.status.busy": "2021-08-31T20:08:26.472298Z",
     "iopub.status.idle": "2021-08-31T20:08:26.706424Z",
     "shell.execute_reply": "2021-08-31T20:08:26.705964Z"
    },
    "papermill": {
     "duration": 0.28606,
     "end_time": "2021-08-31T20:08:26.706544",
     "exception": false,
     "start_time": "2021-08-31T20:08:26.420484",
     "status": "completed"
    },
    "tags": []
   },
   "outputs": [
    {
     "data": {
      "text/plain": [
       "Text(0.5, 1.0, 'Outputs')"
      ]
     },
     "execution_count": 26,
     "metadata": {},
     "output_type": "execute_result"
    },
    {
     "data": {
      "image/png": "[encoded data removed]",
      "text/plain": [
       "<Figure size 576x504 with 1 Axes>"
      ]
     },
     "metadata": {
      "needs_background": "light"
     },
     "output_type": "display_data"
    }
   ],
   "source": [
    "# Plotting the scatter plot of points and color coding by class\n",
    "plt.figure(figsize=(8,7))\n",
    "plt.scatter(testing_plot[:,0], testing_plot[:,1], alpha = 0.1, c = y_test.ravel());\n",
    "plt.title('Outputs')"
   ]
  },
  {
   "cell_type": "markdown",
   "id": "a74fcf8f",
   "metadata": {
    "papermill": {
     "duration": 0.045567,
     "end_time": "2021-08-31T20:08:26.797657",
     "exception": false,
     "start_time": "2021-08-31T20:08:26.752090",
     "status": "completed"
    },
    "tags": []
   },
   "source": [
    "Probability contours"
   ]
  },
  {
   "cell_type": "code",
   "execution_count": 27,
   "id": "d0afc8e3",
   "metadata": {
    "execution": {
     "iopub.execute_input": "2021-08-31T20:08:26.894195Z",
     "iopub.status.busy": "2021-08-31T20:08:26.893604Z",
     "iopub.status.idle": "2021-08-31T20:08:26.903028Z",
     "shell.execute_reply": "2021-08-31T20:08:26.902614Z"
    },
    "papermill": {
     "duration": 0.060084,
     "end_time": "2021-08-31T20:08:26.903135",
     "exception": false,
     "start_time": "2021-08-31T20:08:26.843051",
     "status": "completed"
    },
    "tags": []
   },
   "outputs": [],
   "source": [
    "model_prob = Model(layers[-2:]) "
   ]
  },
  {
   "cell_type": "code",
   "execution_count": 28,
   "id": "9b96e238",
   "metadata": {
    "execution": {
     "iopub.execute_input": "2021-08-31T20:08:27.004866Z",
     "iopub.status.busy": "2021-08-31T20:08:26.998888Z",
     "iopub.status.idle": "2021-08-31T20:08:27.015560Z",
     "shell.execute_reply": "2021-08-31T20:08:27.015940Z"
    },
    "papermill": {
     "duration": 0.067549,
     "end_time": "2021-08-31T20:08:27.016067",
     "exception": false,
     "start_time": "2021-08-31T20:08:26.948518",
     "status": "completed"
    },
    "tags": []
   },
   "outputs": [],
   "source": [
    "#creating the x and y ranges according to the above generated plot.\n",
    "x_range = np.linspace(-4, 1, 100) \n",
    "y_range = np.linspace(-6, 6, 100) \n",
    "x_grid, y_grid = np.meshgrid(x_range, y_range) # x_grid and y_grig are of size 100 X 100\n",
    "\n",
    "# converting x_grid and y_grid to continuous arrays\n",
    "x_gridflat = np.ravel(x_grid)\n",
    "y_gridflat = np.ravel(y_grid)\n",
    "\n",
    "# The last layer of the current model takes two columns as input. Hence transpose of np.vstack() is required.\n",
    "X = np.vstack((x_gridflat, y_gridflat)).T\n",
    "\n",
    "prob_contour = model_prob(X).reshape(100,100) "
   ]
  },
  {
   "cell_type": "code",
   "execution_count": 29,
   "id": "da72499a",
   "metadata": {
    "execution": {
     "iopub.execute_input": "2021-08-31T20:08:27.158074Z",
     "iopub.status.busy": "2021-08-31T20:08:27.157529Z",
     "iopub.status.idle": "2021-08-31T20:08:27.395208Z",
     "shell.execute_reply": "2021-08-31T20:08:27.394709Z"
    },
    "papermill": {
     "duration": 0.322821,
     "end_time": "2021-08-31T20:08:27.395332",
     "exception": false,
     "start_time": "2021-08-31T20:08:27.072511",
     "status": "completed"
    },
    "tags": []
   },
   "outputs": [
    {
     "data": {
      "image/png": "[encoded data removed]",
      "text/plain": [
       "<Figure size 720x648 with 1 Axes>"
      ]
     },
     "metadata": {
      "needs_background": "light"
     },
     "output_type": "display_data"
    }
   ],
   "source": [
    "plt.figure(figsize=(10,9))\n",
    "plt.scatter(testing_plot[:,0], testing_plot[:,1], alpha = 0.1, c = y_test.ravel())\n",
    "contours = plt.contour(x_grid,y_grid,prob_contour)\n",
    "plt.title('Probability Contours')\n",
    "plt.clabel(contours, inline = True );"
   ]
  },
  {
   "cell_type": "code",
   "execution_count": null,
   "id": "e81b4ac7",
   "metadata": {
    "papermill": {
     "duration": 0.047794,
     "end_time": "2021-08-31T20:08:27.491878",
     "exception": false,
     "start_time": "2021-08-31T20:08:27.444084",
     "status": "completed"
    },
    "tags": []
   },
   "outputs": [],
   "source": []
  }
 ],
 "metadata": {
  "kernelspec": {
   "display_name": "Python 3",
   "language": "python",
   "name": "python3"
  },
  "language_info": {
   "codemirror_mode": {
    "name": "ipython",
    "version": 3
   },
   "file_extension": ".py",
   "mimetype": "text/x-python",
   "name": "python",
   "nbconvert_exporter": "python",
   "pygments_lexer": "ipython3",
   "version": "3.6.14"
  },
  "papermill": {
   "default_parameters": {},
   "duration": 97.660084,
   "end_time": "2021-08-31T20:08:27.947555",
   "environment_variables": {},
   "exception": null,
   "input_path": "2020-08-11-part2.ipynb",
   "output_path": "2020-08-11-part2.ipynb",
   "parameters": {},
   "start_time": "2021-08-31T20:06:50.287471",
   "version": "2.3.3"
  }
 },
 "nbformat": 4,
 "nbformat_minor": 5
}