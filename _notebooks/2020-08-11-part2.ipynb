{
 "cells": [
  {
   "cell_type": "markdown",
   "id": "98380cd3",
   "metadata": {
    "papermill": {
     "duration": 0.029214,
     "end_time": "2022-04-21T20:10:38.562673",
     "exception": false,
     "start_time": "2022-04-21T20:10:38.533459",
     "status": "completed"
    },
    "tags": []
   },
   "source": [
    "# Distinguish Your Own Digits (DYOD)"
   ]
  },
  {
   "cell_type": "markdown",
   "id": "ef31240d",
   "metadata": {
    "papermill": {
     "duration": 0.025514,
     "end_time": "2022-04-21T20:10:38.612713",
     "exception": false,
     "start_time": "2022-04-21T20:10:38.587199",
     "status": "completed"
    },
    "tags": []
   },
   "source": [
    "You are going to write a classifier that distinguishes between the number 3 and number 8."
   ]
  },
  {
   "cell_type": "code",
   "execution_count": 1,
   "id": "b15c8646",
   "metadata": {
    "execution": {
     "iopub.execute_input": "2022-04-21T20:10:38.671163Z",
     "iopub.status.busy": "2022-04-21T20:10:38.670511Z",
     "iopub.status.idle": "2022-04-21T20:10:38.681251Z",
     "shell.execute_reply": "2022-04-21T20:10:38.680813Z"
    },
    "papermill": {
     "duration": 0.044944,
     "end_time": "2022-04-21T20:10:38.681412",
     "exception": false,
     "start_time": "2022-04-21T20:10:38.636468",
     "status": "completed"
    },
    "tags": []
   },
   "outputs": [],
   "source": [
    "%load_ext autoreload\n",
    "%autoreload 2"
   ]
  },
  {
   "cell_type": "code",
   "execution_count": 2,
   "id": "22ef38dc",
   "metadata": {
    "execution": {
     "iopub.execute_input": "2022-04-21T20:10:38.734302Z",
     "iopub.status.busy": "2022-04-21T20:10:38.733684Z",
     "iopub.status.idle": "2022-04-21T20:10:39.282113Z",
     "shell.execute_reply": "2022-04-21T20:10:39.282563Z"
    },
    "papermill": {
     "duration": 0.577204,
     "end_time": "2022-04-21T20:10:39.282749",
     "exception": false,
     "start_time": "2022-04-21T20:10:38.705545",
     "status": "completed"
    },
    "tags": []
   },
   "outputs": [],
   "source": [
    "%matplotlib inline\n",
    "import numpy as np\n",
    "import matplotlib.pyplot as plt\n",
    "import pandas as pd"
   ]
  },
  {
   "cell_type": "markdown",
   "id": "ba036198",
   "metadata": {
    "papermill": {
     "duration": 0.023898,
     "end_time": "2022-04-21T20:10:39.330633",
     "exception": false,
     "start_time": "2022-04-21T20:10:39.306735",
     "status": "completed"
    },
    "tags": []
   },
   "source": [
    "From the command line run `pip install mnist`. This is a library that will help you bring down the mnist dataset. If you run this from a notebook, you need to put  `!pip install mnist` in a cell by itself."
   ]
  },
  {
   "cell_type": "code",
   "execution_count": 3,
   "id": "bb6ad8a1",
   "metadata": {
    "execution": {
     "iopub.execute_input": "2022-04-21T20:10:39.385004Z",
     "iopub.status.busy": "2022-04-21T20:10:39.384378Z",
     "iopub.status.idle": "2022-04-21T20:10:41.059998Z",
     "shell.execute_reply": "2022-04-21T20:10:41.060489Z"
    },
    "papermill": {
     "duration": 1.706,
     "end_time": "2022-04-21T20:10:41.060664",
     "exception": false,
     "start_time": "2022-04-21T20:10:39.354664",
     "status": "completed"
    },
    "tags": []
   },
   "outputs": [
    {
     "name": "stdout",
     "output_type": "stream",
     "text": [
      "Collecting mnist\r\n"
     ]
    },
    {
     "name": "stdout",
     "output_type": "stream",
     "text": [
      "  Downloading mnist-0.2.2-py2.py3-none-any.whl (3.5 kB)\r\n",
      "Requirement already satisfied: numpy in /opt/hostedtoolcache/Python/3.6.15/x64/lib/python3.6/site-packages (from mnist) (1.19.5)\r\n"
     ]
    },
    {
     "name": "stdout",
     "output_type": "stream",
     "text": [
      "Installing collected packages: mnist\r\n"
     ]
    },
    {
     "name": "stdout",
     "output_type": "stream",
     "text": [
      "Successfully installed mnist-0.2.2\r\n"
     ]
    }
   ],
   "source": [
    "!pip install mnist"
   ]
  },
  {
   "cell_type": "markdown",
   "id": "69df9c9a",
   "metadata": {
    "papermill": {
     "duration": 0.025295,
     "end_time": "2022-04-21T20:10:41.111909",
     "exception": false,
     "start_time": "2022-04-21T20:10:41.086614",
     "status": "completed"
    },
    "tags": []
   },
   "source": [
    "## Preparing the Data"
   ]
  },
  {
   "cell_type": "code",
   "execution_count": 4,
   "id": "7f69d806",
   "metadata": {
    "execution": {
     "iopub.execute_input": "2022-04-21T20:10:41.180793Z",
     "iopub.status.busy": "2022-04-21T20:10:41.170518Z",
     "iopub.status.idle": "2022-04-21T20:10:41.185021Z",
     "shell.execute_reply": "2022-04-21T20:10:41.184606Z"
    },
    "papermill": {
     "duration": 0.048089,
     "end_time": "2022-04-21T20:10:41.185141",
     "exception": false,
     "start_time": "2022-04-21T20:10:41.137052",
     "status": "completed"
    },
    "tags": []
   },
   "outputs": [],
   "source": [
    "import mnist"
   ]
  },
  {
   "cell_type": "code",
   "execution_count": 5,
   "id": "a411e44f",
   "metadata": {
    "execution": {
     "iopub.execute_input": "2022-04-21T20:10:41.239514Z",
     "iopub.status.busy": "2022-04-21T20:10:41.239001Z",
     "iopub.status.idle": "2022-04-21T20:10:41.776864Z",
     "shell.execute_reply": "2022-04-21T20:10:41.776326Z"
    },
    "papermill": {
     "duration": 0.566626,
     "end_time": "2022-04-21T20:10:41.777011",
     "exception": false,
     "start_time": "2022-04-21T20:10:41.210385",
     "status": "completed"
    },
    "tags": []
   },
   "outputs": [],
   "source": [
    "train_images = mnist.train_images()\n",
    "train_labels = mnist.train_labels()"
   ]
  },
  {
   "cell_type": "code",
   "execution_count": 6,
   "id": "dceab3a5",
   "metadata": {
    "execution": {
     "iopub.execute_input": "2022-04-21T20:10:41.833097Z",
     "iopub.status.busy": "2022-04-21T20:10:41.832567Z",
     "iopub.status.idle": "2022-04-21T20:10:41.846539Z",
     "shell.execute_reply": "2022-04-21T20:10:41.846946Z"
    },
    "papermill": {
     "duration": 0.044248,
     "end_time": "2022-04-21T20:10:41.847087",
     "exception": false,
     "start_time": "2022-04-21T20:10:41.802839",
     "status": "completed"
    },
    "tags": []
   },
   "outputs": [
    {
     "data": {
      "text/plain": [
       "((60000, 28, 28), (60000,))"
      ]
     },
     "execution_count": 6,
     "metadata": {},
     "output_type": "execute_result"
    }
   ],
   "source": [
    "train_images.shape, train_labels.shape"
   ]
  },
  {
   "cell_type": "code",
   "execution_count": 7,
   "id": "f50dc2bb",
   "metadata": {
    "execution": {
     "iopub.execute_input": "2022-04-21T20:10:41.906503Z",
     "iopub.status.busy": "2022-04-21T20:10:41.905992Z",
     "iopub.status.idle": "2022-04-21T20:10:42.012173Z",
     "shell.execute_reply": "2022-04-21T20:10:42.012656Z"
    },
    "papermill": {
     "duration": 0.140271,
     "end_time": "2022-04-21T20:10:42.012829",
     "exception": false,
     "start_time": "2022-04-21T20:10:41.872558",
     "status": "completed"
    },
    "tags": []
   },
   "outputs": [],
   "source": [
    "test_images = mnist.test_images()\n",
    "test_labels = mnist.test_labels()"
   ]
  },
  {
   "cell_type": "code",
   "execution_count": 8,
   "id": "fc38cf1b",
   "metadata": {
    "execution": {
     "iopub.execute_input": "2022-04-21T20:10:42.072243Z",
     "iopub.status.busy": "2022-04-21T20:10:42.071707Z",
     "iopub.status.idle": "2022-04-21T20:10:42.083466Z",
     "shell.execute_reply": "2022-04-21T20:10:42.083021Z"
    },
    "papermill": {
     "duration": 0.04467,
     "end_time": "2022-04-21T20:10:42.083583",
     "exception": false,
     "start_time": "2022-04-21T20:10:42.038913",
     "status": "completed"
    },
    "tags": []
   },
   "outputs": [
    {
     "data": {
      "text/plain": [
       "((10000, 28, 28), (10000,))"
      ]
     },
     "execution_count": 8,
     "metadata": {},
     "output_type": "execute_result"
    }
   ],
   "source": [
    "test_images.shape, test_labels.shape"
   ]
  },
  {
   "cell_type": "code",
   "execution_count": 9,
   "id": "f9ed8fe0",
   "metadata": {
    "execution": {
     "iopub.execute_input": "2022-04-21T20:10:42.138973Z",
     "iopub.status.busy": "2022-04-21T20:10:42.138460Z",
     "iopub.status.idle": "2022-04-21T20:10:42.274175Z",
     "shell.execute_reply": "2022-04-21T20:10:42.274605Z"
    },
    "papermill": {
     "duration": 0.165426,
     "end_time": "2022-04-21T20:10:42.274752",
     "exception": false,
     "start_time": "2022-04-21T20:10:42.109326",
     "status": "completed"
    },
    "tags": []
   },
   "outputs": [
    {
     "name": "stdout",
     "output_type": "stream",
     "text": [
      "2\n"
     ]
    },
    {
     "data": {
      "text/plain": [
       "<matplotlib.image.AxesImage at 0x7f66bbc4c2b0>"
      ]
     },
     "execution_count": 9,
     "metadata": {},
     "output_type": "execute_result"
    },
    {
     "data": {
      "image/png": "[encoded data removed]",
      "text/plain": [
       "<Figure size 432x288 with 1 Axes>"
      ]
     },
     "metadata": {
      "needs_background": "light"
     },
     "output_type": "display_data"
    }
   ],
   "source": [
    "image_index = 7776 # You may select anything up to 60,000\n",
    "print(train_labels[image_index]) \n",
    "plt.imshow(train_images[image_index], cmap='Greys')"
   ]
  },
  {
   "cell_type": "markdown",
   "id": "a8d2388d",
   "metadata": {
    "papermill": {
     "duration": 0.026767,
     "end_time": "2022-04-21T20:10:42.328217",
     "exception": false,
     "start_time": "2022-04-21T20:10:42.301450",
     "status": "completed"
    },
    "tags": []
   },
   "source": [
    "## Filter data to get 3 and 8 out"
   ]
  },
  {
   "cell_type": "code",
   "execution_count": 10,
   "id": "776f7fc7",
   "metadata": {
    "execution": {
     "iopub.execute_input": "2022-04-21T20:10:42.387198Z",
     "iopub.status.busy": "2022-04-21T20:10:42.386670Z",
     "iopub.status.idle": "2022-04-21T20:10:42.403068Z",
     "shell.execute_reply": "2022-04-21T20:10:42.402644Z"
    },
    "papermill": {
     "duration": 0.048264,
     "end_time": "2022-04-21T20:10:42.403189",
     "exception": false,
     "start_time": "2022-04-21T20:10:42.354925",
     "status": "completed"
    },
    "tags": []
   },
   "outputs": [],
   "source": [
    "train_filter = np.where((train_labels == 3 ) | (train_labels == 8))\n",
    "test_filter = np.where((test_labels == 3) | (test_labels == 8))\n",
    "X_train, y_train = train_images[train_filter], train_labels[train_filter]\n",
    "X_test, y_test = test_images[test_filter], test_labels[test_filter]"
   ]
  },
  {
   "cell_type": "markdown",
   "id": "948f0b7e",
   "metadata": {
    "papermill": {
     "duration": 0.026586,
     "end_time": "2022-04-21T20:10:42.456602",
     "exception": false,
     "start_time": "2022-04-21T20:10:42.430016",
     "status": "completed"
    },
    "tags": []
   },
   "source": [
    "We normalize the pizel values in the 0 to 1 range"
   ]
  },
  {
   "cell_type": "code",
   "execution_count": 11,
   "id": "ee4c2166",
   "metadata": {
    "execution": {
     "iopub.execute_input": "2022-04-21T20:10:42.523282Z",
     "iopub.status.busy": "2022-04-21T20:10:42.522736Z",
     "iopub.status.idle": "2022-04-21T20:10:42.562862Z",
     "shell.execute_reply": "2022-04-21T20:10:42.562306Z"
    },
    "papermill": {
     "duration": 0.079743,
     "end_time": "2022-04-21T20:10:42.563002",
     "exception": false,
     "start_time": "2022-04-21T20:10:42.483259",
     "status": "completed"
    },
    "tags": []
   },
   "outputs": [],
   "source": [
    "X_train = X_train/255.\n",
    "X_test = X_test/255."
   ]
  },
  {
   "cell_type": "markdown",
   "id": "ddcf4fab",
   "metadata": {
    "papermill": {
     "duration": 0.02691,
     "end_time": "2022-04-21T20:10:42.617846",
     "exception": false,
     "start_time": "2022-04-21T20:10:42.590936",
     "status": "completed"
    },
    "tags": []
   },
   "source": [
    "And setup the labels as 1 (when the digit is 3) and 0 (when the digit is 8)"
   ]
  },
  {
   "cell_type": "code",
   "execution_count": 12,
   "id": "7dc908f2",
   "metadata": {
    "execution": {
     "iopub.execute_input": "2022-04-21T20:10:42.679216Z",
     "iopub.status.busy": "2022-04-21T20:10:42.678627Z",
     "iopub.status.idle": "2022-04-21T20:10:42.689038Z",
     "shell.execute_reply": "2022-04-21T20:10:42.688575Z"
    },
    "papermill": {
     "duration": 0.044645,
     "end_time": "2022-04-21T20:10:42.689169",
     "exception": false,
     "start_time": "2022-04-21T20:10:42.644524",
     "status": "completed"
    },
    "tags": []
   },
   "outputs": [],
   "source": [
    "y_train = 1*(y_train==3)\n",
    "y_test = 1*(y_test==3)"
   ]
  },
  {
   "cell_type": "code",
   "execution_count": 13,
   "id": "01e4e969",
   "metadata": {
    "execution": {
     "iopub.execute_input": "2022-04-21T20:10:42.747002Z",
     "iopub.status.busy": "2022-04-21T20:10:42.746485Z",
     "iopub.status.idle": "2022-04-21T20:10:42.760101Z",
     "shell.execute_reply": "2022-04-21T20:10:42.759684Z"
    },
    "papermill": {
     "duration": 0.044067,
     "end_time": "2022-04-21T20:10:42.760232",
     "exception": false,
     "start_time": "2022-04-21T20:10:42.716165",
     "status": "completed"
    },
    "tags": []
   },
   "outputs": [
    {
     "data": {
      "text/plain": [
       "((11982, 28, 28), (1984, 28, 28))"
      ]
     },
     "execution_count": 13,
     "metadata": {},
     "output_type": "execute_result"
    }
   ],
   "source": [
    "X_train.shape, X_test.shape"
   ]
  },
  {
   "cell_type": "markdown",
   "id": "5ccf3f85",
   "metadata": {
    "papermill": {
     "duration": 0.026944,
     "end_time": "2022-04-21T20:10:42.814029",
     "exception": false,
     "start_time": "2022-04-21T20:10:42.787085",
     "status": "completed"
    },
    "tags": []
   },
   "source": [
    "We reshape the data to flatten the image pixels into a set of features or co-variates:"
   ]
  },
  {
   "cell_type": "code",
   "execution_count": 14,
   "id": "5286a4a3",
   "metadata": {
    "execution": {
     "iopub.execute_input": "2022-04-21T20:10:42.873981Z",
     "iopub.status.busy": "2022-04-21T20:10:42.873434Z",
     "iopub.status.idle": "2022-04-21T20:10:42.886651Z",
     "shell.execute_reply": "2022-04-21T20:10:42.887030Z"
    },
    "papermill": {
     "duration": 0.046015,
     "end_time": "2022-04-21T20:10:42.887171",
     "exception": false,
     "start_time": "2022-04-21T20:10:42.841156",
     "status": "completed"
    },
    "tags": []
   },
   "outputs": [
    {
     "data": {
      "text/plain": [
       "((11982, 784), (1984, 784))"
      ]
     },
     "execution_count": 14,
     "metadata": {},
     "output_type": "execute_result"
    }
   ],
   "source": [
    "X_train = X_train.reshape(X_train.shape[0], -1)\n",
    "X_test = X_test.reshape(X_test.shape[0], -1)\n",
    "X_train.shape, X_test.shape"
   ]
  },
  {
   "cell_type": "code",
   "execution_count": 15,
   "id": "73c5f88a",
   "metadata": {
    "execution": {
     "iopub.execute_input": "2022-04-21T20:10:42.949696Z",
     "iopub.status.busy": "2022-04-21T20:10:42.949160Z",
     "iopub.status.idle": "2022-04-21T20:10:42.965969Z",
     "shell.execute_reply": "2022-04-21T20:10:42.966370Z"
    },
    "papermill": {
     "duration": 0.052115,
     "end_time": "2022-04-21T20:10:42.966515",
     "exception": false,
     "start_time": "2022-04-21T20:10:42.914400",
     "status": "completed"
    },
    "tags": []
   },
   "outputs": [],
   "source": [
    "#Impoting functions from 'Kudzu'\n",
    "from kudzu.model import Model\n",
    "from kudzu.train import Learner\n",
    "from kudzu.optim import GD\n",
    "from kudzu.data import Data, Sampler,Dataloader\n",
    "\n",
    "from kudzu.callbacks import AccCallback\n",
    "from kudzu.callbacks import ClfCallback\n",
    "\n",
    "from kudzu.loss import MSE\n",
    "\n",
    "from kudzu.layer import Sigmoid,Relu\n",
    "from kudzu.layer import Affine"
   ]
  },
  {
   "cell_type": "markdown",
   "id": "bc01172a",
   "metadata": {
    "papermill": {
     "duration": 0.027136,
     "end_time": "2022-04-21T20:10:43.020969",
     "exception": false,
     "start_time": "2022-04-21T20:10:42.993833",
     "status": "completed"
    },
    "tags": []
   },
   "source": [
    "### Let us create a `Config` class, to store important parameters. \n",
    "This class essentially plays the role of a dictionary."
   ]
  },
  {
   "cell_type": "code",
   "execution_count": 16,
   "id": "978281aa",
   "metadata": {
    "execution": {
     "iopub.execute_input": "2022-04-21T20:10:43.079330Z",
     "iopub.status.busy": "2022-04-21T20:10:43.078806Z",
     "iopub.status.idle": "2022-04-21T20:10:43.092025Z",
     "shell.execute_reply": "2022-04-21T20:10:43.092424Z"
    },
    "papermill": {
     "duration": 0.044481,
     "end_time": "2022-04-21T20:10:43.092569",
     "exception": false,
     "start_time": "2022-04-21T20:10:43.048088",
     "status": "completed"
    },
    "tags": []
   },
   "outputs": [],
   "source": [
    "class Config:\n",
    "    pass\n",
    "config = Config()\n",
    "config.lr = 0.001\n",
    "config.num_epochs = 250\n",
    "config.bs = 50"
   ]
  },
  {
   "cell_type": "markdown",
   "id": "1385fa59",
   "metadata": {
    "papermill": {
     "duration": 0.027193,
     "end_time": "2022-04-21T20:10:43.147195",
     "exception": false,
     "start_time": "2022-04-21T20:10:43.120002",
     "status": "completed"
    },
    "tags": []
   },
   "source": [
    "### Running Models with the Training data\n",
    "Details about the network layers:\n",
    "- A first affine layer has 784 inputs and does 100 affine transforms. These are followed by a Relu\n",
    "- A second affine layer has 100 inputs from the 100 activations of the past layer, and does 100 affine transforms. These are followed by a Relu\n",
    "- A third affine layer has 100 activations and does 2 affine transformations to create an embedding for visualization. There is no non-linearity here.\n",
    "- A final \"logistic regression\" which has an affine transform from 2 inputs to 1 output, which is squeezed through a sigmoid.\n"
   ]
  },
  {
   "cell_type": "code",
   "execution_count": 17,
   "id": "2b9c66db",
   "metadata": {
    "execution": {
     "iopub.execute_input": "2022-04-21T20:10:43.205751Z",
     "iopub.status.busy": "2022-04-21T20:10:43.205191Z",
     "iopub.status.idle": "2022-04-21T20:10:43.218320Z",
     "shell.execute_reply": "2022-04-21T20:10:43.217872Z"
    },
    "papermill": {
     "duration": 0.044101,
     "end_time": "2022-04-21T20:10:43.218439",
     "exception": false,
     "start_time": "2022-04-21T20:10:43.174338",
     "status": "completed"
    },
    "tags": []
   },
   "outputs": [],
   "source": [
    "data = Data(X_train, y_train.reshape(-1,1))\n",
    "sampler = Sampler(data, config.bs, shuffle=True)\n",
    "\n",
    "dl = Dataloader(data, sampler)\n",
    "\n",
    "opt = GD(config.lr)\n",
    "loss = MSE()"
   ]
  },
  {
   "cell_type": "code",
   "execution_count": 18,
   "id": "b275e4c2",
   "metadata": {
    "execution": {
     "iopub.execute_input": "2022-04-21T20:10:43.281235Z",
     "iopub.status.busy": "2022-04-21T20:10:43.280712Z",
     "iopub.status.idle": "2022-04-21T20:10:43.289998Z",
     "shell.execute_reply": "2022-04-21T20:10:43.290387Z"
    },
    "papermill": {
     "duration": 0.044949,
     "end_time": "2022-04-21T20:10:43.290523",
     "exception": false,
     "start_time": "2022-04-21T20:10:43.245574",
     "status": "completed"
    },
    "tags": []
   },
   "outputs": [],
   "source": [
    "training_data_x = X_train\n",
    "testing_data_x = X_test\n",
    "training_data_y = y_train.reshape(-1,1)\n",
    "testing_data_y = y_test.reshape(-1,1)"
   ]
  },
  {
   "cell_type": "code",
   "execution_count": 19,
   "id": "76951160",
   "metadata": {
    "execution": {
     "iopub.execute_input": "2022-04-21T20:10:43.351241Z",
     "iopub.status.busy": "2022-04-21T20:10:43.350727Z",
     "iopub.status.idle": "2022-04-21T20:10:43.365155Z",
     "shell.execute_reply": "2022-04-21T20:10:43.365535Z"
    },
    "papermill": {
     "duration": 0.048373,
     "end_time": "2022-04-21T20:10:43.365687",
     "exception": false,
     "start_time": "2022-04-21T20:10:43.317314",
     "status": "completed"
    },
    "tags": []
   },
   "outputs": [
    {
     "name": "stdout",
     "output_type": "stream",
     "text": [
      "xavier\n",
      "xavier\n",
      "xavier\n",
      "xavier\n",
      "xavier\n"
     ]
    }
   ],
   "source": [
    "layers = [Affine(\"first\", 784, 100), Relu(\"first\"), Affine(\"second\", 100, 100), Relu(\"second\"), Affine(\"third\", 100, 2), Affine(\"last\", 2, 1), Sigmoid(\"last\")]\n",
    "model_nn = Model(layers)\n",
    "model_lr = Model([Affine(\"logits\", 784, 1), Sigmoid(\"sigmoid\")])"
   ]
  },
  {
   "cell_type": "code",
   "execution_count": 20,
   "id": "6eede77a",
   "metadata": {
    "execution": {
     "iopub.execute_input": "2022-04-21T20:10:43.426978Z",
     "iopub.status.busy": "2022-04-21T20:10:43.426462Z",
     "iopub.status.idle": "2022-04-21T20:10:43.437326Z",
     "shell.execute_reply": "2022-04-21T20:10:43.437844Z"
    },
    "papermill": {
     "duration": 0.044986,
     "end_time": "2022-04-21T20:10:43.437991",
     "exception": false,
     "start_time": "2022-04-21T20:10:43.393005",
     "status": "completed"
    },
    "tags": []
   },
   "outputs": [],
   "source": [
    "nn_learner = Learner(loss, model_nn, opt, config.num_epochs)\n",
    "acc_nn = ClfCallback(nn_learner, config.bs, training_data_x , testing_data_x, training_data_y, testing_data_y)\n",
    "nn_learner.set_callbacks([acc_nn])"
   ]
  },
  {
   "cell_type": "code",
   "execution_count": 21,
   "id": "877b6cc7",
   "metadata": {
    "execution": {
     "iopub.execute_input": "2022-04-21T20:10:43.506795Z",
     "iopub.status.busy": "2022-04-21T20:10:43.502304Z",
     "iopub.status.idle": "2022-04-21T20:10:43.511430Z",
     "shell.execute_reply": "2022-04-21T20:10:43.511847Z"
    },
    "papermill": {
     "duration": 0.046388,
     "end_time": "2022-04-21T20:10:43.511996",
     "exception": false,
     "start_time": "2022-04-21T20:10:43.465608",
     "status": "completed"
    },
    "tags": []
   },
   "outputs": [],
   "source": [
    "lr_learner = Learner(loss, model_lr, opt, config.num_epochs)\n",
    "acc_lr = ClfCallback(lr_learner, config.bs, training_data_x , testing_data_x, training_data_y, testing_data_y)\n",
    "lr_learner.set_callbacks([acc_lr])"
   ]
  },
  {
   "cell_type": "code",
   "execution_count": 22,
   "id": "d9b133c3",
   "metadata": {
    "execution": {
     "iopub.execute_input": "2022-04-21T20:10:43.578376Z",
     "iopub.status.busy": "2022-04-21T20:10:43.570394Z",
     "iopub.status.idle": "2022-04-21T20:12:05.490179Z",
     "shell.execute_reply": "2022-04-21T20:12:05.490938Z"
    },
    "papermill": {
     "duration": 81.951395,
     "end_time": "2022-04-21T20:12:05.491094",
     "exception": false,
     "start_time": "2022-04-21T20:10:43.539699",
     "status": "completed"
    },
    "tags": []
   },
   "outputs": [
    {
     "name": "stdout",
     "output_type": "stream",
     "text": [
      "Epoch 0, Loss 0.2528\n",
      "Training Accuracy: 0.5233, Testing Accuracy: 0.5338\n",
      "\n"
     ]
    },
    {
     "name": "stdout",
     "output_type": "stream",
     "text": [
      "Epoch 10, Loss 0.125\n",
      "Training Accuracy: 0.9151, Testing Accuracy: 0.9294\n",
      "\n"
     ]
    },
    {
     "name": "stdout",
     "output_type": "stream",
     "text": [
      "Epoch 20, Loss 0.0655\n",
      "Training Accuracy: 0.9389, Testing Accuracy: 0.9491\n",
      "\n"
     ]
    },
    {
     "name": "stdout",
     "output_type": "stream",
     "text": [
      "Epoch 30, Loss 0.048\n",
      "Training Accuracy: 0.9505, Testing Accuracy: 0.9592\n",
      "\n"
     ]
    },
    {
     "name": "stdout",
     "output_type": "stream",
     "text": [
      "Epoch 40, Loss 0.0402\n",
      "Training Accuracy: 0.9559, Testing Accuracy: 0.9662\n",
      "\n"
     ]
    },
    {
     "name": "stdout",
     "output_type": "stream",
     "text": [
      "Epoch 50, Loss 0.0358\n",
      "Training Accuracy: 0.9606, Testing Accuracy: 0.9698\n",
      "\n"
     ]
    },
    {
     "name": "stdout",
     "output_type": "stream",
     "text": [
      "Epoch 60, Loss 0.033\n",
      "Training Accuracy: 0.9628, Testing Accuracy: 0.9698\n",
      "\n"
     ]
    },
    {
     "name": "stdout",
     "output_type": "stream",
     "text": [
      "Epoch 70, Loss 0.0309\n",
      "Training Accuracy: 0.9643, Testing Accuracy: 0.9698\n",
      "\n"
     ]
    },
    {
     "name": "stdout",
     "output_type": "stream",
     "text": [
      "Epoch 80, Loss 0.0294\n",
      "Training Accuracy: 0.9663, Testing Accuracy: 0.9703\n",
      "\n"
     ]
    },
    {
     "name": "stdout",
     "output_type": "stream",
     "text": [
      "Epoch 90, Loss 0.0281\n",
      "Training Accuracy: 0.9675, Testing Accuracy: 0.9708\n",
      "\n"
     ]
    },
    {
     "name": "stdout",
     "output_type": "stream",
     "text": [
      "Epoch 100, Loss 0.0271\n",
      "Training Accuracy: 0.9690, Testing Accuracy: 0.9713\n",
      "\n"
     ]
    },
    {
     "name": "stdout",
     "output_type": "stream",
     "text": [
      "Epoch 110, Loss 0.0262\n",
      "Training Accuracy: 0.9697, Testing Accuracy: 0.9728\n",
      "\n"
     ]
    },
    {
     "name": "stdout",
     "output_type": "stream",
     "text": [
      "Epoch 120, Loss 0.0254\n",
      "Training Accuracy: 0.9701, Testing Accuracy: 0.9733\n",
      "\n"
     ]
    },
    {
     "name": "stdout",
     "output_type": "stream",
     "text": [
      "Epoch 130, Loss 0.0247\n",
      "Training Accuracy: 0.9705, Testing Accuracy: 0.9728\n",
      "\n"
     ]
    },
    {
     "name": "stdout",
     "output_type": "stream",
     "text": [
      "Epoch 140, Loss 0.024\n",
      "Training Accuracy: 0.9713, Testing Accuracy: 0.9723\n",
      "\n"
     ]
    },
    {
     "name": "stdout",
     "output_type": "stream",
     "text": [
      "Epoch 150, Loss 0.0235\n",
      "Training Accuracy: 0.9720, Testing Accuracy: 0.9728\n",
      "\n"
     ]
    },
    {
     "name": "stdout",
     "output_type": "stream",
     "text": [
      "Epoch 160, Loss 0.0229\n",
      "Training Accuracy: 0.9730, Testing Accuracy: 0.9728\n",
      "\n"
     ]
    },
    {
     "name": "stdout",
     "output_type": "stream",
     "text": [
      "Epoch 170, Loss 0.0225\n",
      "Training Accuracy: 0.9733, Testing Accuracy: 0.9728\n",
      "\n"
     ]
    },
    {
     "name": "stdout",
     "output_type": "stream",
     "text": [
      "Epoch 180, Loss 0.022\n",
      "Training Accuracy: 0.9737, Testing Accuracy: 0.9723\n",
      "\n"
     ]
    },
    {
     "name": "stdout",
     "output_type": "stream",
     "text": [
      "Epoch 190, Loss 0.0216\n",
      "Training Accuracy: 0.9744, Testing Accuracy: 0.9728\n",
      "\n"
     ]
    },
    {
     "name": "stdout",
     "output_type": "stream",
     "text": [
      "Epoch 200, Loss 0.0212\n",
      "Training Accuracy: 0.9750, Testing Accuracy: 0.9723\n",
      "\n"
     ]
    },
    {
     "name": "stdout",
     "output_type": "stream",
     "text": [
      "Epoch 210, Loss 0.0208\n",
      "Training Accuracy: 0.9755, Testing Accuracy: 0.9738\n",
      "\n"
     ]
    },
    {
     "name": "stdout",
     "output_type": "stream",
     "text": [
      "Epoch 220, Loss 0.0204\n",
      "Training Accuracy: 0.9760, Testing Accuracy: 0.9738\n",
      "\n"
     ]
    },
    {
     "name": "stdout",
     "output_type": "stream",
     "text": [
      "Epoch 230, Loss 0.0201\n",
      "Training Accuracy: 0.9767, Testing Accuracy: 0.9738\n",
      "\n"
     ]
    },
    {
     "name": "stdout",
     "output_type": "stream",
     "text": [
      "Epoch 240, Loss 0.0197\n",
      "Training Accuracy: 0.9771, Testing Accuracy: 0.9743\n",
      "\n"
     ]
    },
    {
     "data": {
      "text/plain": [
       "0.002758429287455259"
      ]
     },
     "execution_count": 22,
     "metadata": {},
     "output_type": "execute_result"
    }
   ],
   "source": [
    "nn_learner.train_loop(dl)"
   ]
  },
  {
   "cell_type": "code",
   "execution_count": 23,
   "id": "e0163366",
   "metadata": {
    "execution": {
     "iopub.execute_input": "2022-04-21T20:12:05.574471Z",
     "iopub.status.busy": "2022-04-21T20:12:05.573912Z",
     "iopub.status.idle": "2022-04-21T20:12:20.859403Z",
     "shell.execute_reply": "2022-04-21T20:12:20.860169Z"
    },
    "papermill": {
     "duration": 15.332657,
     "end_time": "2022-04-21T20:12:20.860324",
     "exception": false,
     "start_time": "2022-04-21T20:12:05.527667",
     "status": "completed"
    },
    "tags": []
   },
   "outputs": [
    {
     "name": "stdout",
     "output_type": "stream",
     "text": [
      "Epoch 0, Loss 0.2146\n",
      "Training Accuracy: 0.7646, Testing Accuracy: 0.7863\n",
      "\n"
     ]
    },
    {
     "name": "stdout",
     "output_type": "stream",
     "text": [
      "Epoch 10, Loss 0.1007\n",
      "Training Accuracy: 0.9094, Testing Accuracy: 0.9178\n",
      "\n"
     ]
    },
    {
     "name": "stdout",
     "output_type": "stream",
     "text": [
      "Epoch 20, Loss 0.0785\n",
      "Training Accuracy: 0.9272, Testing Accuracy: 0.9380\n",
      "\n"
     ]
    },
    {
     "name": "stdout",
     "output_type": "stream",
     "text": [
      "Epoch 30, Loss 0.0679\n",
      "Training Accuracy: 0.9346, Testing Accuracy: 0.9456\n",
      "\n"
     ]
    },
    {
     "name": "stdout",
     "output_type": "stream",
     "text": [
      "Epoch 40, Loss 0.0614\n",
      "Training Accuracy: 0.9391, Testing Accuracy: 0.9506\n",
      "\n"
     ]
    },
    {
     "name": "stdout",
     "output_type": "stream",
     "text": [
      "Epoch 50, Loss 0.057\n",
      "Training Accuracy: 0.9433, Testing Accuracy: 0.9516\n",
      "\n"
     ]
    },
    {
     "name": "stdout",
     "output_type": "stream",
     "text": [
      "Epoch 60, Loss 0.0537\n",
      "Training Accuracy: 0.9467, Testing Accuracy: 0.9531\n",
      "\n"
     ]
    },
    {
     "name": "stdout",
     "output_type": "stream",
     "text": [
      "Epoch 70, Loss 0.0512\n",
      "Training Accuracy: 0.9482, Testing Accuracy: 0.9546\n",
      "\n"
     ]
    },
    {
     "name": "stdout",
     "output_type": "stream",
     "text": [
      "Epoch 80, Loss 0.0492\n",
      "Training Accuracy: 0.9497, Testing Accuracy: 0.9567\n",
      "\n"
     ]
    },
    {
     "name": "stdout",
     "output_type": "stream",
     "text": [
      "Epoch 90, Loss 0.0475\n",
      "Training Accuracy: 0.9507, Testing Accuracy: 0.9597\n",
      "\n"
     ]
    },
    {
     "name": "stdout",
     "output_type": "stream",
     "text": [
      "Epoch 100, Loss 0.0461\n",
      "Training Accuracy: 0.9520, Testing Accuracy: 0.9607\n",
      "\n"
     ]
    },
    {
     "name": "stdout",
     "output_type": "stream",
     "text": [
      "Epoch 110, Loss 0.0448\n",
      "Training Accuracy: 0.9532, Testing Accuracy: 0.9612\n",
      "\n"
     ]
    },
    {
     "name": "stdout",
     "output_type": "stream",
     "text": [
      "Epoch 120, Loss 0.0438\n",
      "Training Accuracy: 0.9540, Testing Accuracy: 0.9622\n",
      "\n"
     ]
    },
    {
     "name": "stdout",
     "output_type": "stream",
     "text": [
      "Epoch 130, Loss 0.0429\n",
      "Training Accuracy: 0.9553, Testing Accuracy: 0.9637\n",
      "\n"
     ]
    },
    {
     "name": "stdout",
     "output_type": "stream",
     "text": [
      "Epoch 140, Loss 0.042\n",
      "Training Accuracy: 0.9560, Testing Accuracy: 0.9647\n",
      "\n"
     ]
    },
    {
     "name": "stdout",
     "output_type": "stream",
     "text": [
      "Epoch 150, Loss 0.0413\n",
      "Training Accuracy: 0.9567, Testing Accuracy: 0.9667\n",
      "\n"
     ]
    },
    {
     "name": "stdout",
     "output_type": "stream",
     "text": [
      "Epoch 160, Loss 0.0406\n",
      "Training Accuracy: 0.9572, Testing Accuracy: 0.9667\n",
      "\n"
     ]
    },
    {
     "name": "stdout",
     "output_type": "stream",
     "text": [
      "Epoch 170, Loss 0.04\n",
      "Training Accuracy: 0.9576, Testing Accuracy: 0.9662\n",
      "\n"
     ]
    },
    {
     "name": "stdout",
     "output_type": "stream",
     "text": [
      "Epoch 180, Loss 0.0394\n",
      "Training Accuracy: 0.9582, Testing Accuracy: 0.9662\n",
      "\n"
     ]
    },
    {
     "name": "stdout",
     "output_type": "stream",
     "text": [
      "Epoch 190, Loss 0.0389\n",
      "Training Accuracy: 0.9587, Testing Accuracy: 0.9657\n",
      "\n"
     ]
    },
    {
     "name": "stdout",
     "output_type": "stream",
     "text": [
      "Epoch 200, Loss 0.0385\n",
      "Training Accuracy: 0.9591, Testing Accuracy: 0.9657\n",
      "\n"
     ]
    },
    {
     "name": "stdout",
     "output_type": "stream",
     "text": [
      "Epoch 210, Loss 0.038\n",
      "Training Accuracy: 0.9597, Testing Accuracy: 0.9657\n",
      "\n"
     ]
    },
    {
     "name": "stdout",
     "output_type": "stream",
     "text": [
      "Epoch 220, Loss 0.0376\n",
      "Training Accuracy: 0.9600, Testing Accuracy: 0.9662\n",
      "\n"
     ]
    },
    {
     "name": "stdout",
     "output_type": "stream",
     "text": [
      "Epoch 230, Loss 0.0372\n",
      "Training Accuracy: 0.9603, Testing Accuracy: 0.9657\n",
      "\n"
     ]
    },
    {
     "name": "stdout",
     "output_type": "stream",
     "text": [
      "Epoch 240, Loss 0.0369\n",
      "Training Accuracy: 0.9606, Testing Accuracy: 0.9662\n",
      "\n"
     ]
    },
    {
     "data": {
      "text/plain": [
       "0.047490095167855184"
      ]
     },
     "execution_count": 23,
     "metadata": {},
     "output_type": "execute_result"
    }
   ],
   "source": [
    "lr_learner.train_loop(dl)"
   ]
  },
  {
   "cell_type": "code",
   "execution_count": 24,
   "id": "ca410940",
   "metadata": {
    "execution": {
     "iopub.execute_input": "2022-04-21T20:12:20.955178Z",
     "iopub.status.busy": "2022-04-21T20:12:20.954622Z",
     "iopub.status.idle": "2022-04-21T20:12:21.174292Z",
     "shell.execute_reply": "2022-04-21T20:12:21.174694Z"
    },
    "papermill": {
     "duration": 0.272738,
     "end_time": "2022-04-21T20:12:21.174852",
     "exception": false,
     "start_time": "2022-04-21T20:12:20.902114",
     "status": "completed"
    },
    "tags": []
   },
   "outputs": [
    {
     "data": {
      "text/plain": [
       "<matplotlib.legend.Legend at 0x7f66af07fa90>"
      ]
     },
     "execution_count": 24,
     "metadata": {},
     "output_type": "execute_result"
    },
    {
     "data": {
      "image/png": "[encoded data removed]",
      "text/plain": [
       "<Figure size 1080x720 with 1 Axes>"
      ]
     },
     "metadata": {
      "needs_background": "light"
     },
     "output_type": "display_data"
    }
   ],
   "source": [
    "#comparing the results of NN and LR\n",
    "plt.figure(figsize=(15,10))\n",
    "\n",
    "# Neural Network plots\n",
    "plt.plot(acc_nn.accuracies, 'r-', label = \"Training Accuracies - NN\")\n",
    "plt.plot(acc_nn.test_accuracies, 'g-', label = \"Testing Accuracies - NN\")\n",
    "\n",
    "# Logistic Regression plots\n",
    "plt.plot(acc_lr.accuracies, 'k-', label = \"Training Accuracies - LR\")\n",
    "plt.plot(acc_lr.test_accuracies, 'b-', label = \"Testing Accuracies - LR\")\n",
    "plt.legend()"
   ]
  },
  {
   "cell_type": "markdown",
   "id": "80dfb35c",
   "metadata": {
    "papermill": {
     "duration": 0.042676,
     "end_time": "2022-04-21T20:12:21.260321",
     "exception": false,
     "start_time": "2022-04-21T20:12:21.217645",
     "status": "completed"
    },
    "tags": []
   },
   "source": [
    "#### Plotting the outputs of this layer of the NN.\n"
   ]
  },
  {
   "cell_type": "code",
   "execution_count": 25,
   "id": "45eb2ff5",
   "metadata": {
    "execution": {
     "iopub.execute_input": "2022-04-21T20:12:21.360058Z",
     "iopub.status.busy": "2022-04-21T20:12:21.359124Z",
     "iopub.status.idle": "2022-04-21T20:12:21.375097Z",
     "shell.execute_reply": "2022-04-21T20:12:21.375536Z"
    },
    "papermill": {
     "duration": 0.072834,
     "end_time": "2022-04-21T20:12:21.375689",
     "exception": false,
     "start_time": "2022-04-21T20:12:21.302855",
     "status": "completed"
    },
    "tags": []
   },
   "outputs": [],
   "source": [
    "new_model = Model(layers[:-2])\n",
    "testing_plot = new_model(testing_data_x)"
   ]
  },
  {
   "cell_type": "code",
   "execution_count": 26,
   "id": "4c0a5485",
   "metadata": {
    "execution": {
     "iopub.execute_input": "2022-04-21T20:12:21.471087Z",
     "iopub.status.busy": "2022-04-21T20:12:21.470551Z",
     "iopub.status.idle": "2022-04-21T20:12:21.672377Z",
     "shell.execute_reply": "2022-04-21T20:12:21.671927Z"
    },
    "papermill": {
     "duration": 0.253625,
     "end_time": "2022-04-21T20:12:21.672500",
     "exception": false,
     "start_time": "2022-04-21T20:12:21.418875",
     "status": "completed"
    },
    "tags": []
   },
   "outputs": [
    {
     "data": {
      "text/plain": [
       "Text(0.5, 1.0, 'Outputs')"
      ]
     },
     "execution_count": 26,
     "metadata": {},
     "output_type": "execute_result"
    },
    {
     "data": {
      "image/png": "[encoded data removed]",
      "text/plain": [
       "<Figure size 576x504 with 1 Axes>"
      ]
     },
     "metadata": {
      "needs_background": "light"
     },
     "output_type": "display_data"
    }
   ],
   "source": [
    "# Plotting the scatter plot of points and color coding by class\n",
    "plt.figure(figsize=(8,7))\n",
    "plt.scatter(testing_plot[:,0], testing_plot[:,1], alpha = 0.1, c = y_test.ravel());\n",
    "plt.title('Outputs')"
   ]
  },
  {
   "cell_type": "markdown",
   "id": "a74fcf8f",
   "metadata": {
    "papermill": {
     "duration": 0.044512,
     "end_time": "2022-04-21T20:12:21.761827",
     "exception": false,
     "start_time": "2022-04-21T20:12:21.717315",
     "status": "completed"
    },
    "tags": []
   },
   "source": [
    "Probability contours"
   ]
  },
  {
   "cell_type": "code",
   "execution_count": 27,
   "id": "d0afc8e3",
   "metadata": {
    "execution": {
     "iopub.execute_input": "2022-04-21T20:12:21.856651Z",
     "iopub.status.busy": "2022-04-21T20:12:21.854797Z",
     "iopub.status.idle": "2022-04-21T20:12:21.867121Z",
     "shell.execute_reply": "2022-04-21T20:12:21.867538Z"
    },
    "papermill": {
     "duration": 0.061321,
     "end_time": "2022-04-21T20:12:21.867693",
     "exception": false,
     "start_time": "2022-04-21T20:12:21.806372",
     "status": "completed"
    },
    "tags": []
   },
   "outputs": [],
   "source": [
    "model_prob = Model(layers[-2:]) "
   ]
  },
  {
   "cell_type": "code",
   "execution_count": 28,
   "id": "9b96e238",
   "metadata": {
    "execution": {
     "iopub.execute_input": "2022-04-21T20:12:22.003294Z",
     "iopub.status.busy": "2022-04-21T20:12:22.002278Z",
     "iopub.status.idle": "2022-04-21T20:12:22.016323Z",
     "shell.execute_reply": "2022-04-21T20:12:22.015863Z"
    },
    "papermill": {
     "duration": 0.067518,
     "end_time": "2022-04-21T20:12:22.016449",
     "exception": false,
     "start_time": "2022-04-21T20:12:21.948931",
     "status": "completed"
    },
    "tags": []
   },
   "outputs": [],
   "source": [
    "#creating the x and y ranges according to the above generated plot.\n",
    "x_range = np.linspace(-4, 1, 100) \n",
    "y_range = np.linspace(-6, 6, 100) \n",
    "x_grid, y_grid = np.meshgrid(x_range, y_range) # x_grid and y_grig are of size 100 X 100\n",
    "\n",
    "# converting x_grid and y_grid to continuous arrays\n",
    "x_gridflat = np.ravel(x_grid)\n",
    "y_gridflat = np.ravel(y_grid)\n",
    "\n",
    "# The last layer of the current model takes two columns as input. Hence transpose of np.vstack() is required.\n",
    "X = np.vstack((x_gridflat, y_gridflat)).T\n",
    "\n",
    "prob_contour = model_prob(X).reshape(100,100) "
   ]
  },
  {
   "cell_type": "code",
   "execution_count": 29,
   "id": "da72499a",
   "metadata": {
    "execution": {
     "iopub.execute_input": "2022-04-21T20:12:22.112330Z",
     "iopub.status.busy": "2022-04-21T20:12:22.111778Z",
     "iopub.status.idle": "2022-04-21T20:12:22.363653Z",
     "shell.execute_reply": "2022-04-21T20:12:22.363209Z"
    },
    "papermill": {
     "duration": 0.302626,
     "end_time": "2022-04-21T20:12:22.363778",
     "exception": false,
     "start_time": "2022-04-21T20:12:22.061152",
     "status": "completed"
    },
    "tags": []
   },
   "outputs": [
    {
     "data": {
      "image/png": "[encoded data removed]",
      "text/plain": [
       "<Figure size 720x648 with 1 Axes>"
      ]
     },
     "metadata": {
      "needs_background": "light"
     },
     "output_type": "display_data"
    }
   ],
   "source": [
    "plt.figure(figsize=(10,9))\n",
    "plt.scatter(testing_plot[:,0], testing_plot[:,1], alpha = 0.1, c = y_test.ravel())\n",
    "contours = plt.contour(x_grid,y_grid,prob_contour)\n",
    "plt.title('Probability Contours')\n",
    "plt.clabel(contours, inline = True );"
   ]
  },
  {
   "cell_type": "code",
   "execution_count": null,
   "id": "e81b4ac7",
   "metadata": {
    "papermill": {
     "duration": 0.04718,
     "end_time": "2022-04-21T20:12:22.458474",
     "exception": false,
     "start_time": "2022-04-21T20:12:22.411294",
     "status": "completed"
    },
    "tags": []
   },
   "outputs": [],
   "source": []
  }
 ],
 "metadata": {
  "kernelspec": {
   "display_name": "Python 3",
   "language": "python",
   "name": "python3"
  },
  "language_info": {
   "codemirror_mode": {
    "name": "ipython",
    "version": 3
   },
   "file_extension": ".py",
   "mimetype": "text/x-python",
   "name": "python",
   "nbconvert_exporter": "python",
   "pygments_lexer": "ipython3",
   "version": "3.6.15"
  },
  "papermill": {
   "default_parameters": {},
   "duration": 105.340717,
   "end_time": "2022-04-21T20:12:22.924910",
   "environment_variables": {},
   "exception": null,
   "input_path": "2020-08-11-part2.ipynb",
   "output_path": "2020-08-11-part2.ipynb",
   "parameters": {},
   "start_time": "2022-04-21T20:10:37.584193",
   "version": "2.3.3"
  }
 },
 "nbformat": 4,
 "nbformat_minor": 5
}