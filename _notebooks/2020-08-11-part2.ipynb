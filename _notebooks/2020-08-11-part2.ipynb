{
 "cells": [
  {
   "cell_type": "markdown",
   "id": "98380cd3",
   "metadata": {
    "papermill": {
     "duration": 0.029169,
     "end_time": "2022-11-09T10:11:04.861026",
     "exception": false,
     "start_time": "2022-11-09T10:11:04.831857",
     "status": "completed"
    },
    "tags": []
   },
   "source": [
    "# Distinguish Your Own Digits (DYOD)"
   ]
  },
  {
   "cell_type": "markdown",
   "id": "ef31240d",
   "metadata": {
    "papermill": {
     "duration": 0.024041,
     "end_time": "2022-11-09T10:11:04.909878",
     "exception": false,
     "start_time": "2022-11-09T10:11:04.885837",
     "status": "completed"
    },
    "tags": []
   },
   "source": [
    "You are going to write a classifier that distinguishes between the number 3 and number 8."
   ]
  },
  {
   "cell_type": "code",
   "execution_count": 1,
   "id": "b15c8646",
   "metadata": {
    "execution": {
     "iopub.execute_input": "2022-11-09T10:11:04.967887Z",
     "iopub.status.busy": "2022-11-09T10:11:04.967320Z",
     "iopub.status.idle": "2022-11-09T10:11:04.977779Z",
     "shell.execute_reply": "2022-11-09T10:11:04.977335Z"
    },
    "papermill": {
     "duration": 0.044041,
     "end_time": "2022-11-09T10:11:04.977897",
     "exception": false,
     "start_time": "2022-11-09T10:11:04.933856",
     "status": "completed"
    },
    "tags": []
   },
   "outputs": [],
   "source": [
    "%load_ext autoreload\n",
    "%autoreload 2"
   ]
  },
  {
   "cell_type": "code",
   "execution_count": 2,
   "id": "22ef38dc",
   "metadata": {
    "execution": {
     "iopub.execute_input": "2022-11-09T10:11:05.032371Z",
     "iopub.status.busy": "2022-11-09T10:11:05.031800Z",
     "iopub.status.idle": "2022-11-09T10:11:05.539712Z",
     "shell.execute_reply": "2022-11-09T10:11:05.539216Z"
    },
    "papermill": {
     "duration": 0.535441,
     "end_time": "2022-11-09T10:11:05.539830",
     "exception": false,
     "start_time": "2022-11-09T10:11:05.004389",
     "status": "completed"
    },
    "tags": []
   },
   "outputs": [],
   "source": [
    "%matplotlib inline\n",
    "import numpy as np\n",
    "import matplotlib.pyplot as plt\n",
    "import pandas as pd"
   ]
  },
  {
   "cell_type": "markdown",
   "id": "ba036198",
   "metadata": {
    "papermill": {
     "duration": 0.02425,
     "end_time": "2022-11-09T10:11:05.588325",
     "exception": false,
     "start_time": "2022-11-09T10:11:05.564075",
     "status": "completed"
    },
    "tags": []
   },
   "source": [
    "From the command line run `pip install mnist`. This is a library that will help you bring down the mnist dataset. If you run this from a notebook, you need to put  `!pip install mnist` in a cell by itself."
   ]
  },
  {
   "cell_type": "code",
   "execution_count": 3,
   "id": "bb6ad8a1",
   "metadata": {
    "execution": {
     "iopub.execute_input": "2022-11-09T10:11:05.640962Z",
     "iopub.status.busy": "2022-11-09T10:11:05.640358Z",
     "iopub.status.idle": "2022-11-09T10:11:07.182040Z",
     "shell.execute_reply": "2022-11-09T10:11:07.181494Z"
    },
    "papermill": {
     "duration": 1.569648,
     "end_time": "2022-11-09T10:11:07.182151",
     "exception": false,
     "start_time": "2022-11-09T10:11:05.612503",
     "status": "completed"
    },
    "tags": []
   },
   "outputs": [
    {
     "name": "stdout",
     "output_type": "stream",
     "text": [
      "Collecting mnist\r\n"
     ]
    },
    {
     "name": "stdout",
     "output_type": "stream",
     "text": [
      "  Downloading mnist-0.2.2-py2.py3-none-any.whl (3.5 kB)\r\n",
      "Requirement already satisfied: numpy in /opt/hostedtoolcache/Python/3.6.15/x64/lib/python3.6/site-packages (from mnist) (1.19.5)\r\n"
     ]
    },
    {
     "name": "stdout",
     "output_type": "stream",
     "text": [
      "Installing collected packages: mnist\r\n",
      "Successfully installed mnist-0.2.2\r\n"
     ]
    }
   ],
   "source": [
    "!pip install mnist"
   ]
  },
  {
   "cell_type": "markdown",
   "id": "69df9c9a",
   "metadata": {
    "papermill": {
     "duration": 0.025144,
     "end_time": "2022-11-09T10:11:07.232653",
     "exception": false,
     "start_time": "2022-11-09T10:11:07.207509",
     "status": "completed"
    },
    "tags": []
   },
   "source": [
    "## Preparing the Data"
   ]
  },
  {
   "cell_type": "code",
   "execution_count": 4,
   "id": "7f69d806",
   "metadata": {
    "execution": {
     "iopub.execute_input": "2022-11-09T10:11:07.286632Z",
     "iopub.status.busy": "2022-11-09T10:11:07.286067Z",
     "iopub.status.idle": "2022-11-09T10:11:07.300526Z",
     "shell.execute_reply": "2022-11-09T10:11:07.300062Z"
    },
    "papermill": {
     "duration": 0.042853,
     "end_time": "2022-11-09T10:11:07.300629",
     "exception": false,
     "start_time": "2022-11-09T10:11:07.257776",
     "status": "completed"
    },
    "tags": []
   },
   "outputs": [],
   "source": [
    "import mnist"
   ]
  },
  {
   "cell_type": "code",
   "execution_count": 5,
   "id": "a411e44f",
   "metadata": {
    "execution": {
     "iopub.execute_input": "2022-11-09T10:11:07.354701Z",
     "iopub.status.busy": "2022-11-09T10:11:07.354138Z",
     "iopub.status.idle": "2022-11-09T10:11:07.923504Z",
     "shell.execute_reply": "2022-11-09T10:11:07.922990Z"
    },
    "papermill": {
     "duration": 0.597856,
     "end_time": "2022-11-09T10:11:07.923650",
     "exception": false,
     "start_time": "2022-11-09T10:11:07.325794",
     "status": "completed"
    },
    "tags": []
   },
   "outputs": [],
   "source": [
    "train_images = mnist.train_images()\n",
    "train_labels = mnist.train_labels()"
   ]
  },
  {
   "cell_type": "code",
   "execution_count": 6,
   "id": "dceab3a5",
   "metadata": {
    "execution": {
     "iopub.execute_input": "2022-11-09T10:11:07.977869Z",
     "iopub.status.busy": "2022-11-09T10:11:07.977296Z",
     "iopub.status.idle": "2022-11-09T10:11:07.991561Z",
     "shell.execute_reply": "2022-11-09T10:11:07.991099Z"
    },
    "papermill": {
     "duration": 0.042809,
     "end_time": "2022-11-09T10:11:07.991667",
     "exception": false,
     "start_time": "2022-11-09T10:11:07.948858",
     "status": "completed"
    },
    "tags": []
   },
   "outputs": [
    {
     "data": {
      "text/plain": [
       "((60000, 28, 28), (60000,))"
      ]
     },
     "execution_count": 6,
     "metadata": {},
     "output_type": "execute_result"
    }
   ],
   "source": [
    "train_images.shape, train_labels.shape"
   ]
  },
  {
   "cell_type": "code",
   "execution_count": 7,
   "id": "f50dc2bb",
   "metadata": {
    "execution": {
     "iopub.execute_input": "2022-11-09T10:11:08.046002Z",
     "iopub.status.busy": "2022-11-09T10:11:08.045436Z",
     "iopub.status.idle": "2022-11-09T10:11:08.189458Z",
     "shell.execute_reply": "2022-11-09T10:11:08.188904Z"
    },
    "papermill": {
     "duration": 0.17265,
     "end_time": "2022-11-09T10:11:08.189574",
     "exception": false,
     "start_time": "2022-11-09T10:11:08.016924",
     "status": "completed"
    },
    "tags": []
   },
   "outputs": [],
   "source": [
    "test_images = mnist.test_images()\n",
    "test_labels = mnist.test_labels()"
   ]
  },
  {
   "cell_type": "code",
   "execution_count": 8,
   "id": "fc38cf1b",
   "metadata": {
    "execution": {
     "iopub.execute_input": "2022-11-09T10:11:08.244906Z",
     "iopub.status.busy": "2022-11-09T10:11:08.244310Z",
     "iopub.status.idle": "2022-11-09T10:11:08.257254Z",
     "shell.execute_reply": "2022-11-09T10:11:08.256670Z"
    },
    "papermill": {
     "duration": 0.042144,
     "end_time": "2022-11-09T10:11:08.257363",
     "exception": false,
     "start_time": "2022-11-09T10:11:08.215219",
     "status": "completed"
    },
    "tags": []
   },
   "outputs": [
    {
     "data": {
      "text/plain": [
       "((10000, 28, 28), (10000,))"
      ]
     },
     "execution_count": 8,
     "metadata": {},
     "output_type": "execute_result"
    }
   ],
   "source": [
    "test_images.shape, test_labels.shape"
   ]
  },
  {
   "cell_type": "code",
   "execution_count": 9,
   "id": "f9ed8fe0",
   "metadata": {
    "execution": {
     "iopub.execute_input": "2022-11-09T10:11:08.312217Z",
     "iopub.status.busy": "2022-11-09T10:11:08.311654Z",
     "iopub.status.idle": "2022-11-09T10:11:08.443291Z",
     "shell.execute_reply": "2022-11-09T10:11:08.443739Z"
    },
    "papermill": {
     "duration": 0.160846,
     "end_time": "2022-11-09T10:11:08.443867",
     "exception": false,
     "start_time": "2022-11-09T10:11:08.283021",
     "status": "completed"
    },
    "tags": []
   },
   "outputs": [
    {
     "name": "stdout",
     "output_type": "stream",
     "text": [
      "2\n"
     ]
    },
    {
     "data": {
      "text/plain": [
       "<matplotlib.image.AxesImage at 0x7fe8eb31ce48>"
      ]
     },
     "execution_count": 9,
     "metadata": {},
     "output_type": "execute_result"
    },
    {
     "data": {
      "image/png": "[encoded data removed]",
      "text/plain": [
       "<Figure size 432x288 with 1 Axes>"
      ]
     },
     "metadata": {
      "needs_background": "light"
     },
     "output_type": "display_data"
    }
   ],
   "source": [
    "image_index = 7776 # You may select anything up to 60,000\n",
    "print(train_labels[image_index]) \n",
    "plt.imshow(train_images[image_index], cmap='Greys')"
   ]
  },
  {
   "cell_type": "markdown",
   "id": "a8d2388d",
   "metadata": {
    "papermill": {
     "duration": 0.026641,
     "end_time": "2022-11-09T10:11:08.497334",
     "exception": false,
     "start_time": "2022-11-09T10:11:08.470693",
     "status": "completed"
    },
    "tags": []
   },
   "source": [
    "## Filter data to get 3 and 8 out"
   ]
  },
  {
   "cell_type": "code",
   "execution_count": 10,
   "id": "776f7fc7",
   "metadata": {
    "execution": {
     "iopub.execute_input": "2022-11-09T10:11:08.557214Z",
     "iopub.status.busy": "2022-11-09T10:11:08.555884Z",
     "iopub.status.idle": "2022-11-09T10:11:08.569671Z",
     "shell.execute_reply": "2022-11-09T10:11:08.570114Z"
    },
    "papermill": {
     "duration": 0.046283,
     "end_time": "2022-11-09T10:11:08.570241",
     "exception": false,
     "start_time": "2022-11-09T10:11:08.523958",
     "status": "completed"
    },
    "tags": []
   },
   "outputs": [],
   "source": [
    "train_filter = np.where((train_labels == 3 ) | (train_labels == 8))\n",
    "test_filter = np.where((test_labels == 3) | (test_labels == 8))\n",
    "X_train, y_train = train_images[train_filter], train_labels[train_filter]\n",
    "X_test, y_test = test_images[test_filter], test_labels[test_filter]"
   ]
  },
  {
   "cell_type": "markdown",
   "id": "948f0b7e",
   "metadata": {
    "papermill": {
     "duration": 0.026622,
     "end_time": "2022-11-09T10:11:08.623762",
     "exception": false,
     "start_time": "2022-11-09T10:11:08.597140",
     "status": "completed"
    },
    "tags": []
   },
   "source": [
    "We normalize the pizel values in the 0 to 1 range"
   ]
  },
  {
   "cell_type": "code",
   "execution_count": 11,
   "id": "ee4c2166",
   "metadata": {
    "execution": {
     "iopub.execute_input": "2022-11-09T10:11:08.680817Z",
     "iopub.status.busy": "2022-11-09T10:11:08.680229Z",
     "iopub.status.idle": "2022-11-09T10:11:08.718180Z",
     "shell.execute_reply": "2022-11-09T10:11:08.717703Z"
    },
    "papermill": {
     "duration": 0.067794,
     "end_time": "2022-11-09T10:11:08.718289",
     "exception": false,
     "start_time": "2022-11-09T10:11:08.650495",
     "status": "completed"
    },
    "tags": []
   },
   "outputs": [],
   "source": [
    "X_train = X_train/255.\n",
    "X_test = X_test/255."
   ]
  },
  {
   "cell_type": "markdown",
   "id": "ddcf4fab",
   "metadata": {
    "papermill": {
     "duration": 0.02659,
     "end_time": "2022-11-09T10:11:08.771631",
     "exception": false,
     "start_time": "2022-11-09T10:11:08.745041",
     "status": "completed"
    },
    "tags": []
   },
   "source": [
    "And setup the labels as 1 (when the digit is 3) and 0 (when the digit is 8)"
   ]
  },
  {
   "cell_type": "code",
   "execution_count": 12,
   "id": "7dc908f2",
   "metadata": {
    "execution": {
     "iopub.execute_input": "2022-11-09T10:11:08.828247Z",
     "iopub.status.busy": "2022-11-09T10:11:08.827689Z",
     "iopub.status.idle": "2022-11-09T10:11:08.839244Z",
     "shell.execute_reply": "2022-11-09T10:11:08.839671Z"
    },
    "papermill": {
     "duration": 0.041593,
     "end_time": "2022-11-09T10:11:08.839794",
     "exception": false,
     "start_time": "2022-11-09T10:11:08.798201",
     "status": "completed"
    },
    "tags": []
   },
   "outputs": [],
   "source": [
    "y_train = 1*(y_train==3)\n",
    "y_test = 1*(y_test==3)"
   ]
  },
  {
   "cell_type": "code",
   "execution_count": 13,
   "id": "01e4e969",
   "metadata": {
    "execution": {
     "iopub.execute_input": "2022-11-09T10:11:08.896982Z",
     "iopub.status.busy": "2022-11-09T10:11:08.896396Z",
     "iopub.status.idle": "2022-11-09T10:11:08.909238Z",
     "shell.execute_reply": "2022-11-09T10:11:08.909675Z"
    },
    "papermill": {
     "duration": 0.043257,
     "end_time": "2022-11-09T10:11:08.909799",
     "exception": false,
     "start_time": "2022-11-09T10:11:08.866542",
     "status": "completed"
    },
    "tags": []
   },
   "outputs": [
    {
     "data": {
      "text/plain": [
       "((11982, 28, 28), (1984, 28, 28))"
      ]
     },
     "execution_count": 13,
     "metadata": {},
     "output_type": "execute_result"
    }
   ],
   "source": [
    "X_train.shape, X_test.shape"
   ]
  },
  {
   "cell_type": "markdown",
   "id": "5ccf3f85",
   "metadata": {
    "papermill": {
     "duration": 0.02675,
     "end_time": "2022-11-09T10:11:08.963501",
     "exception": false,
     "start_time": "2022-11-09T10:11:08.936751",
     "status": "completed"
    },
    "tags": []
   },
   "source": [
    "We reshape the data to flatten the image pixels into a set of features or co-variates:"
   ]
  },
  {
   "cell_type": "code",
   "execution_count": 14,
   "id": "5286a4a3",
   "metadata": {
    "execution": {
     "iopub.execute_input": "2022-11-09T10:11:09.021405Z",
     "iopub.status.busy": "2022-11-09T10:11:09.020831Z",
     "iopub.status.idle": "2022-11-09T10:11:09.034267Z",
     "shell.execute_reply": "2022-11-09T10:11:09.033809Z"
    },
    "papermill": {
     "duration": 0.043801,
     "end_time": "2022-11-09T10:11:09.034371",
     "exception": false,
     "start_time": "2022-11-09T10:11:08.990570",
     "status": "completed"
    },
    "tags": []
   },
   "outputs": [
    {
     "data": {
      "text/plain": [
       "((11982, 784), (1984, 784))"
      ]
     },
     "execution_count": 14,
     "metadata": {},
     "output_type": "execute_result"
    }
   ],
   "source": [
    "X_train = X_train.reshape(X_train.shape[0], -1)\n",
    "X_test = X_test.reshape(X_test.shape[0], -1)\n",
    "X_train.shape, X_test.shape"
   ]
  },
  {
   "cell_type": "code",
   "execution_count": 15,
   "id": "73c5f88a",
   "metadata": {
    "execution": {
     "iopub.execute_input": "2022-11-09T10:11:09.093249Z",
     "iopub.status.busy": "2022-11-09T10:11:09.092647Z",
     "iopub.status.idle": "2022-11-09T10:11:09.110867Z",
     "shell.execute_reply": "2022-11-09T10:11:09.110392Z"
    },
    "papermill": {
     "duration": 0.049383,
     "end_time": "2022-11-09T10:11:09.110976",
     "exception": false,
     "start_time": "2022-11-09T10:11:09.061593",
     "status": "completed"
    },
    "tags": []
   },
   "outputs": [],
   "source": [
    "#Impoting functions from 'Kudzu'\n",
    "from kudzu.model import Model\n",
    "from kudzu.train import Learner\n",
    "from kudzu.optim import GD\n",
    "from kudzu.data import Data, Sampler,Dataloader\n",
    "\n",
    "from kudzu.callbacks import AccCallback\n",
    "from kudzu.callbacks import ClfCallback\n",
    "\n",
    "from kudzu.loss import MSE\n",
    "\n",
    "from kudzu.layer import Sigmoid,Relu\n",
    "from kudzu.layer import Affine"
   ]
  },
  {
   "cell_type": "markdown",
   "id": "bc01172a",
   "metadata": {
    "papermill": {
     "duration": 0.027458,
     "end_time": "2022-11-09T10:11:09.165819",
     "exception": false,
     "start_time": "2022-11-09T10:11:09.138361",
     "status": "completed"
    },
    "tags": []
   },
   "source": [
    "### Let us create a `Config` class, to store important parameters. \n",
    "This class essentially plays the role of a dictionary."
   ]
  },
  {
   "cell_type": "code",
   "execution_count": 16,
   "id": "978281aa",
   "metadata": {
    "execution": {
     "iopub.execute_input": "2022-11-09T10:11:09.225208Z",
     "iopub.status.busy": "2022-11-09T10:11:09.224559Z",
     "iopub.status.idle": "2022-11-09T10:11:09.235980Z",
     "shell.execute_reply": "2022-11-09T10:11:09.235425Z"
    },
    "papermill": {
     "duration": 0.042582,
     "end_time": "2022-11-09T10:11:09.236088",
     "exception": false,
     "start_time": "2022-11-09T10:11:09.193506",
     "status": "completed"
    },
    "tags": []
   },
   "outputs": [],
   "source": [
    "class Config:\n",
    "    pass\n",
    "config = Config()\n",
    "config.lr = 0.001\n",
    "config.num_epochs = 250\n",
    "config.bs = 50"
   ]
  },
  {
   "cell_type": "markdown",
   "id": "1385fa59",
   "metadata": {
    "papermill": {
     "duration": 0.027653,
     "end_time": "2022-11-09T10:11:09.291108",
     "exception": false,
     "start_time": "2022-11-09T10:11:09.263455",
     "status": "completed"
    },
    "tags": []
   },
   "source": [
    "### Running Models with the Training data\n",
    "Details about the network layers:\n",
    "- A first affine layer has 784 inputs and does 100 affine transforms. These are followed by a Relu\n",
    "- A second affine layer has 100 inputs from the 100 activations of the past layer, and does 100 affine transforms. These are followed by a Relu\n",
    "- A third affine layer has 100 activations and does 2 affine transformations to create an embedding for visualization. There is no non-linearity here.\n",
    "- A final \"logistic regression\" which has an affine transform from 2 inputs to 1 output, which is squeezed through a sigmoid.\n"
   ]
  },
  {
   "cell_type": "code",
   "execution_count": 17,
   "id": "2b9c66db",
   "metadata": {
    "execution": {
     "iopub.execute_input": "2022-11-09T10:11:09.349974Z",
     "iopub.status.busy": "2022-11-09T10:11:09.349411Z",
     "iopub.status.idle": "2022-11-09T10:11:09.361660Z",
     "shell.execute_reply": "2022-11-09T10:11:09.361203Z"
    },
    "papermill": {
     "duration": 0.042954,
     "end_time": "2022-11-09T10:11:09.361764",
     "exception": false,
     "start_time": "2022-11-09T10:11:09.318810",
     "status": "completed"
    },
    "tags": []
   },
   "outputs": [],
   "source": [
    "data = Data(X_train, y_train.reshape(-1,1))\n",
    "sampler = Sampler(data, config.bs, shuffle=True)\n",
    "\n",
    "dl = Dataloader(data, sampler)\n",
    "\n",
    "opt = GD(config.lr)\n",
    "loss = MSE()"
   ]
  },
  {
   "cell_type": "code",
   "execution_count": 18,
   "id": "b275e4c2",
   "metadata": {
    "execution": {
     "iopub.execute_input": "2022-11-09T10:11:09.420352Z",
     "iopub.status.busy": "2022-11-09T10:11:09.419774Z",
     "iopub.status.idle": "2022-11-09T10:11:09.431716Z",
     "shell.execute_reply": "2022-11-09T10:11:09.431267Z"
    },
    "papermill": {
     "duration": 0.042776,
     "end_time": "2022-11-09T10:11:09.431821",
     "exception": false,
     "start_time": "2022-11-09T10:11:09.389045",
     "status": "completed"
    },
    "tags": []
   },
   "outputs": [],
   "source": [
    "training_data_x = X_train\n",
    "testing_data_x = X_test\n",
    "training_data_y = y_train.reshape(-1,1)\n",
    "testing_data_y = y_test.reshape(-1,1)"
   ]
  },
  {
   "cell_type": "code",
   "execution_count": 19,
   "id": "76951160",
   "metadata": {
    "execution": {
     "iopub.execute_input": "2022-11-09T10:11:09.490330Z",
     "iopub.status.busy": "2022-11-09T10:11:09.489761Z",
     "iopub.status.idle": "2022-11-09T10:11:09.506158Z",
     "shell.execute_reply": "2022-11-09T10:11:09.505703Z"
    },
    "papermill": {
     "duration": 0.047229,
     "end_time": "2022-11-09T10:11:09.506263",
     "exception": false,
     "start_time": "2022-11-09T10:11:09.459034",
     "status": "completed"
    },
    "tags": []
   },
   "outputs": [
    {
     "name": "stdout",
     "output_type": "stream",
     "text": [
      "xavier\n",
      "xavier\n",
      "xavier\n",
      "xavier\n",
      "xavier\n"
     ]
    }
   ],
   "source": [
    "layers = [Affine(\"first\", 784, 100), Relu(\"first\"), Affine(\"second\", 100, 100), Relu(\"second\"), Affine(\"third\", 100, 2), Affine(\"last\", 2, 1), Sigmoid(\"last\")]\n",
    "model_nn = Model(layers)\n",
    "model_lr = Model([Affine(\"logits\", 784, 1), Sigmoid(\"sigmoid\")])"
   ]
  },
  {
   "cell_type": "code",
   "execution_count": 20,
   "id": "6eede77a",
   "metadata": {
    "execution": {
     "iopub.execute_input": "2022-11-09T10:11:09.569346Z",
     "iopub.status.busy": "2022-11-09T10:11:09.567086Z",
     "iopub.status.idle": "2022-11-09T10:11:09.581678Z",
     "shell.execute_reply": "2022-11-09T10:11:09.582131Z"
    },
    "papermill": {
     "duration": 0.048442,
     "end_time": "2022-11-09T10:11:09.582341",
     "exception": false,
     "start_time": "2022-11-09T10:11:09.533899",
     "status": "completed"
    },
    "tags": []
   },
   "outputs": [],
   "source": [
    "nn_learner = Learner(loss, model_nn, opt, config.num_epochs)\n",
    "acc_nn = ClfCallback(nn_learner, config.bs, training_data_x , testing_data_x, training_data_y, testing_data_y)\n",
    "nn_learner.set_callbacks([acc_nn])"
   ]
  },
  {
   "cell_type": "code",
   "execution_count": 21,
   "id": "877b6cc7",
   "metadata": {
    "execution": {
     "iopub.execute_input": "2022-11-09T10:11:09.648817Z",
     "iopub.status.busy": "2022-11-09T10:11:09.647819Z",
     "iopub.status.idle": "2022-11-09T10:11:09.659545Z",
     "shell.execute_reply": "2022-11-09T10:11:09.659097Z"
    },
    "papermill": {
     "duration": 0.043503,
     "end_time": "2022-11-09T10:11:09.659648",
     "exception": false,
     "start_time": "2022-11-09T10:11:09.616145",
     "status": "completed"
    },
    "tags": []
   },
   "outputs": [],
   "source": [
    "lr_learner = Learner(loss, model_lr, opt, config.num_epochs)\n",
    "acc_lr = ClfCallback(lr_learner, config.bs, training_data_x , testing_data_x, training_data_y, testing_data_y)\n",
    "lr_learner.set_callbacks([acc_lr])"
   ]
  },
  {
   "cell_type": "code",
   "execution_count": 22,
   "id": "d9b133c3",
   "metadata": {
    "execution": {
     "iopub.execute_input": "2022-11-09T10:11:09.719093Z",
     "iopub.status.busy": "2022-11-09T10:11:09.718163Z",
     "iopub.status.idle": "2022-11-09T10:14:06.853514Z",
     "shell.execute_reply": "2022-11-09T10:14:06.854047Z"
    },
    "papermill": {
     "duration": 177.16689,
     "end_time": "2022-11-09T10:14:06.854178",
     "exception": false,
     "start_time": "2022-11-09T10:11:09.687288",
     "status": "completed"
    },
    "tags": []
   },
   "outputs": [
    {
     "name": "stdout",
     "output_type": "stream",
     "text": [
      "Epoch 0, Loss 0.2396\n",
      "Training Accuracy: 0.6969, Testing Accuracy: 0.7041\n",
      "\n"
     ]
    },
    {
     "name": "stdout",
     "output_type": "stream",
     "text": [
      "Epoch 10, Loss 0.0786\n",
      "Training Accuracy: 0.9256, Testing Accuracy: 0.9335\n",
      "\n"
     ]
    },
    {
     "name": "stdout",
     "output_type": "stream",
     "text": [
      "Epoch 20, Loss 0.0506\n",
      "Training Accuracy: 0.9463, Testing Accuracy: 0.9541\n",
      "\n"
     ]
    },
    {
     "name": "stdout",
     "output_type": "stream",
     "text": [
      "Epoch 30, Loss 0.0407\n",
      "Training Accuracy: 0.9544, Testing Accuracy: 0.9597\n",
      "\n"
     ]
    },
    {
     "name": "stdout",
     "output_type": "stream",
     "text": [
      "Epoch 40, Loss 0.0356\n",
      "Training Accuracy: 0.9604, Testing Accuracy: 0.9637\n",
      "\n"
     ]
    },
    {
     "name": "stdout",
     "output_type": "stream",
     "text": [
      "Epoch 50, Loss 0.0323\n",
      "Training Accuracy: 0.9642, Testing Accuracy: 0.9662\n",
      "\n"
     ]
    },
    {
     "name": "stdout",
     "output_type": "stream",
     "text": [
      "Epoch 60, Loss 0.0301\n",
      "Training Accuracy: 0.9664, Testing Accuracy: 0.9688\n",
      "\n"
     ]
    },
    {
     "name": "stdout",
     "output_type": "stream",
     "text": [
      "Epoch 70, Loss 0.0283\n",
      "Training Accuracy: 0.9680, Testing Accuracy: 0.9693\n",
      "\n"
     ]
    },
    {
     "name": "stdout",
     "output_type": "stream",
     "text": [
      "Epoch 80, Loss 0.0269\n",
      "Training Accuracy: 0.9692, Testing Accuracy: 0.9693\n",
      "\n"
     ]
    },
    {
     "name": "stdout",
     "output_type": "stream",
     "text": [
      "Epoch 90, Loss 0.0258\n",
      "Training Accuracy: 0.9698, Testing Accuracy: 0.9718\n",
      "\n"
     ]
    },
    {
     "name": "stdout",
     "output_type": "stream",
     "text": [
      "Epoch 100, Loss 0.0247\n",
      "Training Accuracy: 0.9709, Testing Accuracy: 0.9718\n",
      "\n"
     ]
    },
    {
     "name": "stdout",
     "output_type": "stream",
     "text": [
      "Epoch 110, Loss 0.0239\n",
      "Training Accuracy: 0.9721, Testing Accuracy: 0.9718\n",
      "\n"
     ]
    },
    {
     "name": "stdout",
     "output_type": "stream",
     "text": [
      "Epoch 120, Loss 0.0231\n",
      "Training Accuracy: 0.9732, Testing Accuracy: 0.9733\n",
      "\n"
     ]
    },
    {
     "name": "stdout",
     "output_type": "stream",
     "text": [
      "Epoch 130, Loss 0.0223\n",
      "Training Accuracy: 0.9745, Testing Accuracy: 0.9753\n",
      "\n"
     ]
    },
    {
     "name": "stdout",
     "output_type": "stream",
     "text": [
      "Epoch 140, Loss 0.0217\n",
      "Training Accuracy: 0.9751, Testing Accuracy: 0.9753\n",
      "\n"
     ]
    },
    {
     "name": "stdout",
     "output_type": "stream",
     "text": [
      "Epoch 150, Loss 0.0211\n",
      "Training Accuracy: 0.9760, Testing Accuracy: 0.9753\n",
      "\n"
     ]
    },
    {
     "name": "stdout",
     "output_type": "stream",
     "text": [
      "Epoch 160, Loss 0.0205\n",
      "Training Accuracy: 0.9765, Testing Accuracy: 0.9753\n",
      "\n"
     ]
    },
    {
     "name": "stdout",
     "output_type": "stream",
     "text": [
      "Epoch 170, Loss 0.02\n",
      "Training Accuracy: 0.9775, Testing Accuracy: 0.9763\n",
      "\n"
     ]
    },
    {
     "name": "stdout",
     "output_type": "stream",
     "text": [
      "Epoch 180, Loss 0.0195\n",
      "Training Accuracy: 0.9784, Testing Accuracy: 0.9768\n",
      "\n"
     ]
    },
    {
     "name": "stdout",
     "output_type": "stream",
     "text": [
      "Epoch 190, Loss 0.019\n",
      "Training Accuracy: 0.9790, Testing Accuracy: 0.9768\n",
      "\n"
     ]
    },
    {
     "name": "stdout",
     "output_type": "stream",
     "text": [
      "Epoch 200, Loss 0.0185\n",
      "Training Accuracy: 0.9797, Testing Accuracy: 0.9773\n",
      "\n"
     ]
    },
    {
     "name": "stdout",
     "output_type": "stream",
     "text": [
      "Epoch 210, Loss 0.0181\n",
      "Training Accuracy: 0.9801, Testing Accuracy: 0.9773\n",
      "\n"
     ]
    },
    {
     "name": "stdout",
     "output_type": "stream",
     "text": [
      "Epoch 220, Loss 0.0177\n",
      "Training Accuracy: 0.9806, Testing Accuracy: 0.9778\n",
      "\n"
     ]
    },
    {
     "name": "stdout",
     "output_type": "stream",
     "text": [
      "Epoch 230, Loss 0.0173\n",
      "Training Accuracy: 0.9810, Testing Accuracy: 0.9778\n",
      "\n"
     ]
    },
    {
     "name": "stdout",
     "output_type": "stream",
     "text": [
      "Epoch 240, Loss 0.0169\n",
      "Training Accuracy: 0.9813, Testing Accuracy: 0.9788\n",
      "\n"
     ]
    },
    {
     "data": {
      "text/plain": [
       "0.02568614716197999"
      ]
     },
     "execution_count": 22,
     "metadata": {},
     "output_type": "execute_result"
    }
   ],
   "source": [
    "nn_learner.train_loop(dl)"
   ]
  },
  {
   "cell_type": "code",
   "execution_count": 23,
   "id": "e0163366",
   "metadata": {
    "execution": {
     "iopub.execute_input": "2022-11-09T10:14:06.929830Z",
     "iopub.status.busy": "2022-11-09T10:14:06.929232Z",
     "iopub.status.idle": "2022-11-09T10:14:19.146791Z",
     "shell.execute_reply": "2022-11-09T10:14:19.147329Z"
    },
    "papermill": {
     "duration": 12.258615,
     "end_time": "2022-11-09T10:14:19.147458",
     "exception": false,
     "start_time": "2022-11-09T10:14:06.888843",
     "status": "completed"
    },
    "tags": []
   },
   "outputs": [
    {
     "name": "stdout",
     "output_type": "stream",
     "text": [
      "Epoch 0, Loss 0.2605\n",
      "Training Accuracy: 0.6230, Testing Accuracy: 0.6507\n",
      "\n"
     ]
    },
    {
     "name": "stdout",
     "output_type": "stream",
     "text": [
      "Epoch 10, Loss 0.1072\n",
      "Training Accuracy: 0.8996, Testing Accuracy: 0.9093\n",
      "\n"
     ]
    },
    {
     "name": "stdout",
     "output_type": "stream",
     "text": [
      "Epoch 20, Loss 0.0818\n",
      "Training Accuracy: 0.9210, Testing Accuracy: 0.9304\n",
      "\n"
     ]
    },
    {
     "name": "stdout",
     "output_type": "stream",
     "text": [
      "Epoch 30, Loss 0.0702\n",
      "Training Accuracy: 0.9307, Testing Accuracy: 0.9410\n",
      "\n"
     ]
    },
    {
     "name": "stdout",
     "output_type": "stream",
     "text": [
      "Epoch 40, Loss 0.0633\n",
      "Training Accuracy: 0.9361, Testing Accuracy: 0.9441\n",
      "\n"
     ]
    },
    {
     "name": "stdout",
     "output_type": "stream",
     "text": [
      "Epoch 50, Loss 0.0585\n",
      "Training Accuracy: 0.9401, Testing Accuracy: 0.9496\n",
      "\n"
     ]
    },
    {
     "name": "stdout",
     "output_type": "stream",
     "text": [
      "Epoch 60, Loss 0.0551\n",
      "Training Accuracy: 0.9429, Testing Accuracy: 0.9526\n",
      "\n"
     ]
    },
    {
     "name": "stdout",
     "output_type": "stream",
     "text": [
      "Epoch 70, Loss 0.0524\n",
      "Training Accuracy: 0.9454, Testing Accuracy: 0.9536\n",
      "\n"
     ]
    },
    {
     "name": "stdout",
     "output_type": "stream",
     "text": [
      "Epoch 80, Loss 0.0502\n",
      "Training Accuracy: 0.9469, Testing Accuracy: 0.9556\n",
      "\n"
     ]
    },
    {
     "name": "stdout",
     "output_type": "stream",
     "text": [
      "Epoch 90, Loss 0.0485\n",
      "Training Accuracy: 0.9486, Testing Accuracy: 0.9572\n",
      "\n"
     ]
    },
    {
     "name": "stdout",
     "output_type": "stream",
     "text": [
      "Epoch 100, Loss 0.047\n",
      "Training Accuracy: 0.9499, Testing Accuracy: 0.9572\n",
      "\n"
     ]
    },
    {
     "name": "stdout",
     "output_type": "stream",
     "text": [
      "Epoch 110, Loss 0.0457\n",
      "Training Accuracy: 0.9513, Testing Accuracy: 0.9592\n",
      "\n"
     ]
    },
    {
     "name": "stdout",
     "output_type": "stream",
     "text": [
      "Epoch 120, Loss 0.0446\n",
      "Training Accuracy: 0.9525, Testing Accuracy: 0.9607\n",
      "\n"
     ]
    },
    {
     "name": "stdout",
     "output_type": "stream",
     "text": [
      "Epoch 130, Loss 0.0437\n",
      "Training Accuracy: 0.9531, Testing Accuracy: 0.9612\n",
      "\n"
     ]
    },
    {
     "name": "stdout",
     "output_type": "stream",
     "text": [
      "Epoch 140, Loss 0.0428\n",
      "Training Accuracy: 0.9543, Testing Accuracy: 0.9617\n",
      "\n"
     ]
    },
    {
     "name": "stdout",
     "output_type": "stream",
     "text": [
      "Epoch 150, Loss 0.042\n",
      "Training Accuracy: 0.9549, Testing Accuracy: 0.9627\n",
      "\n"
     ]
    },
    {
     "name": "stdout",
     "output_type": "stream",
     "text": [
      "Epoch 160, Loss 0.0413\n",
      "Training Accuracy: 0.9555, Testing Accuracy: 0.9647\n",
      "\n"
     ]
    },
    {
     "name": "stdout",
     "output_type": "stream",
     "text": [
      "Epoch 170, Loss 0.0407\n",
      "Training Accuracy: 0.9564, Testing Accuracy: 0.9652\n",
      "\n"
     ]
    },
    {
     "name": "stdout",
     "output_type": "stream",
     "text": [
      "Epoch 180, Loss 0.0401\n",
      "Training Accuracy: 0.9572, Testing Accuracy: 0.9647\n",
      "\n"
     ]
    },
    {
     "name": "stdout",
     "output_type": "stream",
     "text": [
      "Epoch 190, Loss 0.0396\n",
      "Training Accuracy: 0.9579, Testing Accuracy: 0.9647\n",
      "\n"
     ]
    },
    {
     "name": "stdout",
     "output_type": "stream",
     "text": [
      "Epoch 200, Loss 0.0391\n",
      "Training Accuracy: 0.9586, Testing Accuracy: 0.9647\n",
      "\n"
     ]
    },
    {
     "name": "stdout",
     "output_type": "stream",
     "text": [
      "Epoch 210, Loss 0.0386\n",
      "Training Accuracy: 0.9593, Testing Accuracy: 0.9652\n",
      "\n"
     ]
    },
    {
     "name": "stdout",
     "output_type": "stream",
     "text": [
      "Epoch 220, Loss 0.0382\n",
      "Training Accuracy: 0.9596, Testing Accuracy: 0.9652\n",
      "\n"
     ]
    },
    {
     "name": "stdout",
     "output_type": "stream",
     "text": [
      "Epoch 230, Loss 0.0378\n",
      "Training Accuracy: 0.9599, Testing Accuracy: 0.9652\n",
      "\n"
     ]
    },
    {
     "name": "stdout",
     "output_type": "stream",
     "text": [
      "Epoch 240, Loss 0.0374\n",
      "Training Accuracy: 0.9598, Testing Accuracy: 0.9657\n",
      "\n"
     ]
    },
    {
     "data": {
      "text/plain": [
       "0.04637795178148038"
      ]
     },
     "execution_count": 23,
     "metadata": {},
     "output_type": "execute_result"
    }
   ],
   "source": [
    "lr_learner.train_loop(dl)"
   ]
  },
  {
   "cell_type": "code",
   "execution_count": 24,
   "id": "ca410940",
   "metadata": {
    "execution": {
     "iopub.execute_input": "2022-11-09T10:14:19.236046Z",
     "iopub.status.busy": "2022-11-09T10:14:19.235445Z",
     "iopub.status.idle": "2022-11-09T10:14:19.467919Z",
     "shell.execute_reply": "2022-11-09T10:14:19.467167Z"
    },
    "papermill": {
     "duration": 0.279226,
     "end_time": "2022-11-09T10:14:19.468036",
     "exception": false,
     "start_time": "2022-11-09T10:14:19.188810",
     "status": "completed"
    },
    "tags": []
   },
   "outputs": [
    {
     "data": {
      "text/plain": [
       "<matplotlib.legend.Legend at 0x7fe8de6de470>"
      ]
     },
     "execution_count": 24,
     "metadata": {},
     "output_type": "execute_result"
    },
    {
     "data": {
      "image/png": "[encoded data removed]",
      "text/plain": [
       "<Figure size 1080x720 with 1 Axes>"
      ]
     },
     "metadata": {
      "needs_background": "light"
     },
     "output_type": "display_data"
    }
   ],
   "source": [
    "#comparing the results of NN and LR\n",
    "plt.figure(figsize=(15,10))\n",
    "\n",
    "# Neural Network plots\n",
    "plt.plot(acc_nn.accuracies, 'r-', label = \"Training Accuracies - NN\")\n",
    "plt.plot(acc_nn.test_accuracies, 'g-', label = \"Testing Accuracies - NN\")\n",
    "\n",
    "# Logistic Regression plots\n",
    "plt.plot(acc_lr.accuracies, 'k-', label = \"Training Accuracies - LR\")\n",
    "plt.plot(acc_lr.test_accuracies, 'b-', label = \"Testing Accuracies - LR\")\n",
    "plt.legend()"
   ]
  },
  {
   "cell_type": "markdown",
   "id": "80dfb35c",
   "metadata": {
    "papermill": {
     "duration": 0.042858,
     "end_time": "2022-11-09T10:14:19.553834",
     "exception": false,
     "start_time": "2022-11-09T10:14:19.510976",
     "status": "completed"
    },
    "tags": []
   },
   "source": [
    "#### Plotting the outputs of this layer of the NN.\n"
   ]
  },
  {
   "cell_type": "code",
   "execution_count": 25,
   "id": "45eb2ff5",
   "metadata": {
    "execution": {
     "iopub.execute_input": "2022-11-09T10:14:19.643160Z",
     "iopub.status.busy": "2022-11-09T10:14:19.642585Z",
     "iopub.status.idle": "2022-11-09T10:14:19.680073Z",
     "shell.execute_reply": "2022-11-09T10:14:19.679589Z"
    },
    "papermill": {
     "duration": 0.083671,
     "end_time": "2022-11-09T10:14:19.680189",
     "exception": false,
     "start_time": "2022-11-09T10:14:19.596518",
     "status": "completed"
    },
    "tags": []
   },
   "outputs": [],
   "source": [
    "new_model = Model(layers[:-2])\n",
    "testing_plot = new_model(testing_data_x)"
   ]
  },
  {
   "cell_type": "code",
   "execution_count": 26,
   "id": "4c0a5485",
   "metadata": {
    "execution": {
     "iopub.execute_input": "2022-11-09T10:14:19.778545Z",
     "iopub.status.busy": "2022-11-09T10:14:19.775682Z",
     "iopub.status.idle": "2022-11-09T10:14:19.964148Z",
     "shell.execute_reply": "2022-11-09T10:14:19.963244Z"
    },
    "papermill": {
     "duration": 0.240278,
     "end_time": "2022-11-09T10:14:19.964272",
     "exception": false,
     "start_time": "2022-11-09T10:14:19.723994",
     "status": "completed"
    },
    "tags": []
   },
   "outputs": [
    {
     "data": {
      "text/plain": [
       "Text(0.5, 1.0, 'Outputs')"
      ]
     },
     "execution_count": 26,
     "metadata": {},
     "output_type": "execute_result"
    },
    {
     "data": {
      "image/png": "[encoded data removed]",
      "text/plain": [
       "<Figure size 576x504 with 1 Axes>"
      ]
     },
     "metadata": {
      "needs_background": "light"
     },
     "output_type": "display_data"
    }
   ],
   "source": [
    "# Plotting the scatter plot of points and color coding by class\n",
    "plt.figure(figsize=(8,7))\n",
    "plt.scatter(testing_plot[:,0], testing_plot[:,1], alpha = 0.1, c = y_test.ravel());\n",
    "plt.title('Outputs')"
   ]
  },
  {
   "cell_type": "markdown",
   "id": "a74fcf8f",
   "metadata": {
    "papermill": {
     "duration": 0.044764,
     "end_time": "2022-11-09T10:14:20.054168",
     "exception": false,
     "start_time": "2022-11-09T10:14:20.009404",
     "status": "completed"
    },
    "tags": []
   },
   "source": [
    "Probability contours"
   ]
  },
  {
   "cell_type": "code",
   "execution_count": 27,
   "id": "d0afc8e3",
   "metadata": {
    "execution": {
     "iopub.execute_input": "2022-11-09T10:14:20.173867Z",
     "iopub.status.busy": "2022-11-09T10:14:20.172309Z",
     "iopub.status.idle": "2022-11-09T10:14:20.184203Z",
     "shell.execute_reply": "2022-11-09T10:14:20.183729Z"
    },
    "papermill": {
     "duration": 0.084938,
     "end_time": "2022-11-09T10:14:20.184311",
     "exception": false,
     "start_time": "2022-11-09T10:14:20.099373",
     "status": "completed"
    },
    "tags": []
   },
   "outputs": [],
   "source": [
    "model_prob = Model(layers[-2:]) "
   ]
  },
  {
   "cell_type": "code",
   "execution_count": 28,
   "id": "9b96e238",
   "metadata": {
    "execution": {
     "iopub.execute_input": "2022-11-09T10:14:20.279067Z",
     "iopub.status.busy": "2022-11-09T10:14:20.278493Z",
     "iopub.status.idle": "2022-11-09T10:14:20.291183Z",
     "shell.execute_reply": "2022-11-09T10:14:20.291632Z"
    },
    "papermill": {
     "duration": 0.062355,
     "end_time": "2022-11-09T10:14:20.291764",
     "exception": false,
     "start_time": "2022-11-09T10:14:20.229409",
     "status": "completed"
    },
    "tags": []
   },
   "outputs": [],
   "source": [
    "#creating the x and y ranges according to the above generated plot.\n",
    "x_range = np.linspace(-4, 1, 100) \n",
    "y_range = np.linspace(-6, 6, 100) \n",
    "x_grid, y_grid = np.meshgrid(x_range, y_range) # x_grid and y_grig are of size 100 X 100\n",
    "\n",
    "# converting x_grid and y_grid to continuous arrays\n",
    "x_gridflat = np.ravel(x_grid)\n",
    "y_gridflat = np.ravel(y_grid)\n",
    "\n",
    "# The last layer of the current model takes two columns as input. Hence transpose of np.vstack() is required.\n",
    "X = np.vstack((x_gridflat, y_gridflat)).T\n",
    "\n",
    "prob_contour = model_prob(X).reshape(100,100) "
   ]
  },
  {
   "cell_type": "code",
   "execution_count": 29,
   "id": "da72499a",
   "metadata": {
    "execution": {
     "iopub.execute_input": "2022-11-09T10:14:20.387384Z",
     "iopub.status.busy": "2022-11-09T10:14:20.386823Z",
     "iopub.status.idle": "2022-11-09T10:14:20.631996Z",
     "shell.execute_reply": "2022-11-09T10:14:20.631254Z"
    },
    "papermill": {
     "duration": 0.294151,
     "end_time": "2022-11-09T10:14:20.632109",
     "exception": false,
     "start_time": "2022-11-09T10:14:20.337958",
     "status": "completed"
    },
    "tags": []
   },
   "outputs": [
    {
     "data": {
      "image/png": "[encoded data removed]",
      "text/plain": [
       "<Figure size 720x648 with 1 Axes>"
      ]
     },
     "metadata": {
      "needs_background": "light"
     },
     "output_type": "display_data"
    }
   ],
   "source": [
    "plt.figure(figsize=(10,9))\n",
    "plt.scatter(testing_plot[:,0], testing_plot[:,1], alpha = 0.1, c = y_test.ravel())\n",
    "contours = plt.contour(x_grid,y_grid,prob_contour)\n",
    "plt.title('Probability Contours')\n",
    "plt.clabel(contours, inline = True );"
   ]
  },
  {
   "cell_type": "code",
   "execution_count": null,
   "id": "e81b4ac7",
   "metadata": {
    "papermill": {
     "duration": 0.0476,
     "end_time": "2022-11-09T10:14:20.727563",
     "exception": false,
     "start_time": "2022-11-09T10:14:20.679963",
     "status": "completed"
    },
    "tags": []
   },
   "outputs": [],
   "source": []
  }
 ],
 "metadata": {
  "kernelspec": {
   "display_name": "Python 3",
   "language": "python",
   "name": "python3"
  },
  "language_info": {
   "codemirror_mode": {
    "name": "ipython",
    "version": 3
   },
   "file_extension": ".py",
   "mimetype": "text/x-python",
   "name": "python",
   "nbconvert_exporter": "python",
   "pygments_lexer": "ipython3",
   "version": "3.6.15"
  },
  "papermill": {
   "default_parameters": {},
   "duration": 197.183907,
   "end_time": "2022-11-09T10:14:21.092412",
   "environment_variables": {},
   "exception": null,
   "input_path": "2020-08-11-part2.ipynb",
   "output_path": "2020-08-11-part2.ipynb",
   "parameters": {},
   "start_time": "2022-11-09T10:11:03.908505",
   "version": "2.3.3"
  }
 },
 "nbformat": 4,
 "nbformat_minor": 5
}