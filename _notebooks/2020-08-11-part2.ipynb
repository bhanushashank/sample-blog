{
 "cells": [
  {
   "cell_type": "markdown",
   "id": "98380cd3",
   "metadata": {
    "papermill": {
     "duration": 0.034432,
     "end_time": "2022-01-04T00:24:53.135151",
     "exception": false,
     "start_time": "2022-01-04T00:24:53.100719",
     "status": "completed"
    },
    "tags": []
   },
   "source": [
    "# Distinguish Your Own Digits (DYOD)"
   ]
  },
  {
   "cell_type": "markdown",
   "id": "ef31240d",
   "metadata": {
    "papermill": {
     "duration": 0.023648,
     "end_time": "2022-01-04T00:24:53.183226",
     "exception": false,
     "start_time": "2022-01-04T00:24:53.159578",
     "status": "completed"
    },
    "tags": []
   },
   "source": [
    "You are going to write a classifier that distinguishes between the number 3 and number 8."
   ]
  },
  {
   "cell_type": "code",
   "execution_count": 1,
   "id": "b15c8646",
   "metadata": {
    "execution": {
     "iopub.execute_input": "2022-01-04T00:24:53.242145Z",
     "iopub.status.busy": "2022-01-04T00:24:53.241606Z",
     "iopub.status.idle": "2022-01-04T00:24:53.252027Z",
     "shell.execute_reply": "2022-01-04T00:24:53.251600Z"
    },
    "papermill": {
     "duration": 0.045338,
     "end_time": "2022-01-04T00:24:53.252158",
     "exception": false,
     "start_time": "2022-01-04T00:24:53.206820",
     "status": "completed"
    },
    "tags": []
   },
   "outputs": [],
   "source": [
    "%load_ext autoreload\n",
    "%autoreload 2"
   ]
  },
  {
   "cell_type": "code",
   "execution_count": 2,
   "id": "22ef38dc",
   "metadata": {
    "execution": {
     "iopub.execute_input": "2022-01-04T00:24:53.311902Z",
     "iopub.status.busy": "2022-01-04T00:24:53.311381Z",
     "iopub.status.idle": "2022-01-04T00:24:53.875622Z",
     "shell.execute_reply": "2022-01-04T00:24:53.875082Z"
    },
    "papermill": {
     "duration": 0.599607,
     "end_time": "2022-01-04T00:24:53.875768",
     "exception": false,
     "start_time": "2022-01-04T00:24:53.276161",
     "status": "completed"
    },
    "tags": []
   },
   "outputs": [],
   "source": [
    "%matplotlib inline\n",
    "import numpy as np\n",
    "import matplotlib.pyplot as plt\n",
    "import pandas as pd"
   ]
  },
  {
   "cell_type": "markdown",
   "id": "ba036198",
   "metadata": {
    "papermill": {
     "duration": 0.024001,
     "end_time": "2022-01-04T00:24:53.924597",
     "exception": false,
     "start_time": "2022-01-04T00:24:53.900596",
     "status": "completed"
    },
    "tags": []
   },
   "source": [
    "From the command line run `pip install mnist`. This is a library that will help you bring down the mnist dataset. If you run this from a notebook, you need to put  `!pip install mnist` in a cell by itself."
   ]
  },
  {
   "cell_type": "code",
   "execution_count": 3,
   "id": "bb6ad8a1",
   "metadata": {
    "execution": {
     "iopub.execute_input": "2022-01-04T00:24:53.978477Z",
     "iopub.status.busy": "2022-01-04T00:24:53.977238Z",
     "iopub.status.idle": "2022-01-04T00:24:55.598869Z",
     "shell.execute_reply": "2022-01-04T00:24:55.599343Z"
    },
    "papermill": {
     "duration": 1.651009,
     "end_time": "2022-01-04T00:24:55.599489",
     "exception": false,
     "start_time": "2022-01-04T00:24:53.948480",
     "status": "completed"
    },
    "tags": []
   },
   "outputs": [
    {
     "name": "stdout",
     "output_type": "stream",
     "text": [
      "Collecting mnist\r\n",
      "  Downloading mnist-0.2.2-py2.py3-none-any.whl (3.5 kB)\r\n"
     ]
    },
    {
     "name": "stdout",
     "output_type": "stream",
     "text": [
      "Requirement already satisfied: numpy in /opt/hostedtoolcache/Python/3.6.15/x64/lib/python3.6/site-packages (from mnist) (1.19.5)\r\n"
     ]
    },
    {
     "name": "stdout",
     "output_type": "stream",
     "text": [
      "Installing collected packages: mnist\r\n"
     ]
    },
    {
     "name": "stdout",
     "output_type": "stream",
     "text": [
      "Successfully installed mnist-0.2.2\r\n"
     ]
    }
   ],
   "source": [
    "!pip install mnist"
   ]
  },
  {
   "cell_type": "markdown",
   "id": "69df9c9a",
   "metadata": {
    "papermill": {
     "duration": 0.024816,
     "end_time": "2022-01-04T00:24:55.649292",
     "exception": false,
     "start_time": "2022-01-04T00:24:55.624476",
     "status": "completed"
    },
    "tags": []
   },
   "source": [
    "## Preparing the Data"
   ]
  },
  {
   "cell_type": "code",
   "execution_count": 4,
   "id": "7f69d806",
   "metadata": {
    "execution": {
     "iopub.execute_input": "2022-01-04T00:24:55.702562Z",
     "iopub.status.busy": "2022-01-04T00:24:55.702051Z",
     "iopub.status.idle": "2022-01-04T00:24:55.716391Z",
     "shell.execute_reply": "2022-01-04T00:24:55.715978Z"
    },
    "papermill": {
     "duration": 0.042521,
     "end_time": "2022-01-04T00:24:55.716508",
     "exception": false,
     "start_time": "2022-01-04T00:24:55.673987",
     "status": "completed"
    },
    "tags": []
   },
   "outputs": [],
   "source": [
    "import mnist"
   ]
  },
  {
   "cell_type": "code",
   "execution_count": 5,
   "id": "a411e44f",
   "metadata": {
    "execution": {
     "iopub.execute_input": "2022-01-04T00:24:55.777022Z",
     "iopub.status.busy": "2022-01-04T00:24:55.776506Z",
     "iopub.status.idle": "2022-01-04T00:24:56.280882Z",
     "shell.execute_reply": "2022-01-04T00:24:56.279834Z"
    },
    "papermill": {
     "duration": 0.539736,
     "end_time": "2022-01-04T00:24:56.281031",
     "exception": false,
     "start_time": "2022-01-04T00:24:55.741295",
     "status": "completed"
    },
    "tags": []
   },
   "outputs": [],
   "source": [
    "train_images = mnist.train_images()\n",
    "train_labels = mnist.train_labels()"
   ]
  },
  {
   "cell_type": "code",
   "execution_count": 6,
   "id": "dceab3a5",
   "metadata": {
    "execution": {
     "iopub.execute_input": "2022-01-04T00:24:56.337773Z",
     "iopub.status.busy": "2022-01-04T00:24:56.337258Z",
     "iopub.status.idle": "2022-01-04T00:24:56.351230Z",
     "shell.execute_reply": "2022-01-04T00:24:56.350787Z"
    },
    "papermill": {
     "duration": 0.043795,
     "end_time": "2022-01-04T00:24:56.351349",
     "exception": false,
     "start_time": "2022-01-04T00:24:56.307554",
     "status": "completed"
    },
    "tags": []
   },
   "outputs": [
    {
     "data": {
      "text/plain": [
       "((60000, 28, 28), (60000,))"
      ]
     },
     "execution_count": 6,
     "metadata": {},
     "output_type": "execute_result"
    }
   ],
   "source": [
    "train_images.shape, train_labels.shape"
   ]
  },
  {
   "cell_type": "code",
   "execution_count": 7,
   "id": "f50dc2bb",
   "metadata": {
    "execution": {
     "iopub.execute_input": "2022-01-04T00:24:56.415922Z",
     "iopub.status.busy": "2022-01-04T00:24:56.409854Z",
     "iopub.status.idle": "2022-01-04T00:24:56.538412Z",
     "shell.execute_reply": "2022-01-04T00:24:56.537859Z"
    },
    "papermill": {
     "duration": 0.162307,
     "end_time": "2022-01-04T00:24:56.538549",
     "exception": false,
     "start_time": "2022-01-04T00:24:56.376242",
     "status": "completed"
    },
    "tags": []
   },
   "outputs": [],
   "source": [
    "test_images = mnist.test_images()\n",
    "test_labels = mnist.test_labels()"
   ]
  },
  {
   "cell_type": "code",
   "execution_count": 8,
   "id": "fc38cf1b",
   "metadata": {
    "execution": {
     "iopub.execute_input": "2022-01-04T00:24:56.595547Z",
     "iopub.status.busy": "2022-01-04T00:24:56.592885Z",
     "iopub.status.idle": "2022-01-04T00:24:56.605751Z",
     "shell.execute_reply": "2022-01-04T00:24:56.605252Z"
    },
    "papermill": {
     "duration": 0.041915,
     "end_time": "2022-01-04T00:24:56.605879",
     "exception": false,
     "start_time": "2022-01-04T00:24:56.563964",
     "status": "completed"
    },
    "tags": []
   },
   "outputs": [
    {
     "data": {
      "text/plain": [
       "((10000, 28, 28), (10000,))"
      ]
     },
     "execution_count": 8,
     "metadata": {},
     "output_type": "execute_result"
    }
   ],
   "source": [
    "test_images.shape, test_labels.shape"
   ]
  },
  {
   "cell_type": "code",
   "execution_count": 9,
   "id": "f9ed8fe0",
   "metadata": {
    "execution": {
     "iopub.execute_input": "2022-01-04T00:24:56.666452Z",
     "iopub.status.busy": "2022-01-04T00:24:56.660477Z",
     "iopub.status.idle": "2022-01-04T00:24:56.799293Z",
     "shell.execute_reply": "2022-01-04T00:24:56.798822Z"
    },
    "papermill": {
     "duration": 0.167608,
     "end_time": "2022-01-04T00:24:56.799414",
     "exception": false,
     "start_time": "2022-01-04T00:24:56.631806",
     "status": "completed"
    },
    "tags": []
   },
   "outputs": [
    {
     "name": "stdout",
     "output_type": "stream",
     "text": [
      "2\n"
     ]
    },
    {
     "data": {
      "text/plain": [
       "<matplotlib.image.AxesImage at 0x7f1db2afc470>"
      ]
     },
     "execution_count": 9,
     "metadata": {},
     "output_type": "execute_result"
    },
    {
     "data": {
      "image/png": "[encoded data removed]",
      "text/plain": [
       "<Figure size 432x288 with 1 Axes>"
      ]
     },
     "metadata": {
      "needs_background": "light"
     },
     "output_type": "display_data"
    }
   ],
   "source": [
    "image_index = 7776 # You may select anything up to 60,000\n",
    "print(train_labels[image_index]) \n",
    "plt.imshow(train_images[image_index], cmap='Greys')"
   ]
  },
  {
   "cell_type": "markdown",
   "id": "a8d2388d",
   "metadata": {
    "papermill": {
     "duration": 0.026189,
     "end_time": "2022-01-04T00:24:56.852030",
     "exception": false,
     "start_time": "2022-01-04T00:24:56.825841",
     "status": "completed"
    },
    "tags": []
   },
   "source": [
    "## Filter data to get 3 and 8 out"
   ]
  },
  {
   "cell_type": "code",
   "execution_count": 10,
   "id": "776f7fc7",
   "metadata": {
    "execution": {
     "iopub.execute_input": "2022-01-04T00:24:56.915559Z",
     "iopub.status.busy": "2022-01-04T00:24:56.910569Z",
     "iopub.status.idle": "2022-01-04T00:24:56.929623Z",
     "shell.execute_reply": "2022-01-04T00:24:56.929189Z"
    },
    "papermill": {
     "duration": 0.051449,
     "end_time": "2022-01-04T00:24:56.929747",
     "exception": false,
     "start_time": "2022-01-04T00:24:56.878298",
     "status": "completed"
    },
    "tags": []
   },
   "outputs": [],
   "source": [
    "train_filter = np.where((train_labels == 3 ) | (train_labels == 8))\n",
    "test_filter = np.where((test_labels == 3) | (test_labels == 8))\n",
    "X_train, y_train = train_images[train_filter], train_labels[train_filter]\n",
    "X_test, y_test = test_images[test_filter], test_labels[test_filter]"
   ]
  },
  {
   "cell_type": "markdown",
   "id": "948f0b7e",
   "metadata": {
    "papermill": {
     "duration": 0.026321,
     "end_time": "2022-01-04T00:24:56.982535",
     "exception": false,
     "start_time": "2022-01-04T00:24:56.956214",
     "status": "completed"
    },
    "tags": []
   },
   "source": [
    "We normalize the pizel values in the 0 to 1 range"
   ]
  },
  {
   "cell_type": "code",
   "execution_count": 11,
   "id": "ee4c2166",
   "metadata": {
    "execution": {
     "iopub.execute_input": "2022-01-04T00:24:57.038269Z",
     "iopub.status.busy": "2022-01-04T00:24:57.037745Z",
     "iopub.status.idle": "2022-01-04T00:24:57.084660Z",
     "shell.execute_reply": "2022-01-04T00:24:57.084140Z"
    },
    "papermill": {
     "duration": 0.076166,
     "end_time": "2022-01-04T00:24:57.084803",
     "exception": false,
     "start_time": "2022-01-04T00:24:57.008637",
     "status": "completed"
    },
    "tags": []
   },
   "outputs": [],
   "source": [
    "X_train = X_train/255.\n",
    "X_test = X_test/255."
   ]
  },
  {
   "cell_type": "markdown",
   "id": "ddcf4fab",
   "metadata": {
    "papermill": {
     "duration": 0.026265,
     "end_time": "2022-01-04T00:24:57.138046",
     "exception": false,
     "start_time": "2022-01-04T00:24:57.111781",
     "status": "completed"
    },
    "tags": []
   },
   "source": [
    "And setup the labels as 1 (when the digit is 3) and 0 (when the digit is 8)"
   ]
  },
  {
   "cell_type": "code",
   "execution_count": 12,
   "id": "7dc908f2",
   "metadata": {
    "execution": {
     "iopub.execute_input": "2022-01-04T00:24:57.194155Z",
     "iopub.status.busy": "2022-01-04T00:24:57.193633Z",
     "iopub.status.idle": "2022-01-04T00:24:57.206161Z",
     "shell.execute_reply": "2022-01-04T00:24:57.205736Z"
    },
    "papermill": {
     "duration": 0.042001,
     "end_time": "2022-01-04T00:24:57.206281",
     "exception": false,
     "start_time": "2022-01-04T00:24:57.164280",
     "status": "completed"
    },
    "tags": []
   },
   "outputs": [],
   "source": [
    "y_train = 1*(y_train==3)\n",
    "y_test = 1*(y_test==3)"
   ]
  },
  {
   "cell_type": "code",
   "execution_count": 13,
   "id": "01e4e969",
   "metadata": {
    "execution": {
     "iopub.execute_input": "2022-01-04T00:24:57.265984Z",
     "iopub.status.busy": "2022-01-04T00:24:57.265471Z",
     "iopub.status.idle": "2022-01-04T00:24:57.276144Z",
     "shell.execute_reply": "2022-01-04T00:24:57.275739Z"
    },
    "papermill": {
     "duration": 0.043615,
     "end_time": "2022-01-04T00:24:57.276257",
     "exception": false,
     "start_time": "2022-01-04T00:24:57.232642",
     "status": "completed"
    },
    "tags": []
   },
   "outputs": [
    {
     "data": {
      "text/plain": [
       "((11982, 28, 28), (1984, 28, 28))"
      ]
     },
     "execution_count": 13,
     "metadata": {},
     "output_type": "execute_result"
    }
   ],
   "source": [
    "X_train.shape, X_test.shape"
   ]
  },
  {
   "cell_type": "markdown",
   "id": "5ccf3f85",
   "metadata": {
    "papermill": {
     "duration": 0.026252,
     "end_time": "2022-01-04T00:24:57.328972",
     "exception": false,
     "start_time": "2022-01-04T00:24:57.302720",
     "status": "completed"
    },
    "tags": []
   },
   "source": [
    "We reshape the data to flatten the image pixels into a set of features or co-variates:"
   ]
  },
  {
   "cell_type": "code",
   "execution_count": 14,
   "id": "5286a4a3",
   "metadata": {
    "execution": {
     "iopub.execute_input": "2022-01-04T00:24:57.388238Z",
     "iopub.status.busy": "2022-01-04T00:24:57.387643Z",
     "iopub.status.idle": "2022-01-04T00:24:57.401599Z",
     "shell.execute_reply": "2022-01-04T00:24:57.400893Z"
    },
    "papermill": {
     "duration": 0.046173,
     "end_time": "2022-01-04T00:24:57.401719",
     "exception": false,
     "start_time": "2022-01-04T00:24:57.355546",
     "status": "completed"
    },
    "tags": []
   },
   "outputs": [
    {
     "data": {
      "text/plain": [
       "((11982, 784), (1984, 784))"
      ]
     },
     "execution_count": 14,
     "metadata": {},
     "output_type": "execute_result"
    }
   ],
   "source": [
    "X_train = X_train.reshape(X_train.shape[0], -1)\n",
    "X_test = X_test.reshape(X_test.shape[0], -1)\n",
    "X_train.shape, X_test.shape"
   ]
  },
  {
   "cell_type": "code",
   "execution_count": 15,
   "id": "73c5f88a",
   "metadata": {
    "execution": {
     "iopub.execute_input": "2022-01-04T00:24:57.459402Z",
     "iopub.status.busy": "2022-01-04T00:24:57.458866Z",
     "iopub.status.idle": "2022-01-04T00:24:57.477753Z",
     "shell.execute_reply": "2022-01-04T00:24:57.477281Z"
    },
    "papermill": {
     "duration": 0.04939,
     "end_time": "2022-01-04T00:24:57.477883",
     "exception": false,
     "start_time": "2022-01-04T00:24:57.428493",
     "status": "completed"
    },
    "tags": []
   },
   "outputs": [],
   "source": [
    "#Impoting functions from 'Kudzu'\n",
    "from kudzu.model import Model\n",
    "from kudzu.train import Learner\n",
    "from kudzu.optim import GD\n",
    "from kudzu.data import Data, Sampler,Dataloader\n",
    "\n",
    "from kudzu.callbacks import AccCallback\n",
    "from kudzu.callbacks import ClfCallback\n",
    "\n",
    "from kudzu.loss import MSE\n",
    "\n",
    "from kudzu.layer import Sigmoid,Relu\n",
    "from kudzu.layer import Affine"
   ]
  },
  {
   "cell_type": "markdown",
   "id": "bc01172a",
   "metadata": {
    "papermill": {
     "duration": 0.026706,
     "end_time": "2022-01-04T00:24:57.532487",
     "exception": false,
     "start_time": "2022-01-04T00:24:57.505781",
     "status": "completed"
    },
    "tags": []
   },
   "source": [
    "### Let us create a `Config` class, to store important parameters. \n",
    "This class essentially plays the role of a dictionary."
   ]
  },
  {
   "cell_type": "code",
   "execution_count": 16,
   "id": "978281aa",
   "metadata": {
    "execution": {
     "iopub.execute_input": "2022-01-04T00:24:57.589846Z",
     "iopub.status.busy": "2022-01-04T00:24:57.589331Z",
     "iopub.status.idle": "2022-01-04T00:24:57.601948Z",
     "shell.execute_reply": "2022-01-04T00:24:57.601515Z"
    },
    "papermill": {
     "duration": 0.042811,
     "end_time": "2022-01-04T00:24:57.602057",
     "exception": false,
     "start_time": "2022-01-04T00:24:57.559246",
     "status": "completed"
    },
    "tags": []
   },
   "outputs": [],
   "source": [
    "class Config:\n",
    "    pass\n",
    "config = Config()\n",
    "config.lr = 0.001\n",
    "config.num_epochs = 250\n",
    "config.bs = 50"
   ]
  },
  {
   "cell_type": "markdown",
   "id": "1385fa59",
   "metadata": {
    "papermill": {
     "duration": 0.026676,
     "end_time": "2022-01-04T00:24:57.655567",
     "exception": false,
     "start_time": "2022-01-04T00:24:57.628891",
     "status": "completed"
    },
    "tags": []
   },
   "source": [
    "### Running Models with the Training data\n",
    "Details about the network layers:\n",
    "- A first affine layer has 784 inputs and does 100 affine transforms. These are followed by a Relu\n",
    "- A second affine layer has 100 inputs from the 100 activations of the past layer, and does 100 affine transforms. These are followed by a Relu\n",
    "- A third affine layer has 100 activations and does 2 affine transformations to create an embedding for visualization. There is no non-linearity here.\n",
    "- A final \"logistic regression\" which has an affine transform from 2 inputs to 1 output, which is squeezed through a sigmoid.\n"
   ]
  },
  {
   "cell_type": "code",
   "execution_count": 17,
   "id": "2b9c66db",
   "metadata": {
    "execution": {
     "iopub.execute_input": "2022-01-04T00:24:57.719479Z",
     "iopub.status.busy": "2022-01-04T00:24:57.718914Z",
     "iopub.status.idle": "2022-01-04T00:24:57.728016Z",
     "shell.execute_reply": "2022-01-04T00:24:57.727605Z"
    },
    "papermill": {
     "duration": 0.045716,
     "end_time": "2022-01-04T00:24:57.728134",
     "exception": false,
     "start_time": "2022-01-04T00:24:57.682418",
     "status": "completed"
    },
    "tags": []
   },
   "outputs": [],
   "source": [
    "data = Data(X_train, y_train.reshape(-1,1))\n",
    "sampler = Sampler(data, config.bs, shuffle=True)\n",
    "\n",
    "dl = Dataloader(data, sampler)\n",
    "\n",
    "opt = GD(config.lr)\n",
    "loss = MSE()"
   ]
  },
  {
   "cell_type": "code",
   "execution_count": 18,
   "id": "b275e4c2",
   "metadata": {
    "execution": {
     "iopub.execute_input": "2022-01-04T00:24:57.785562Z",
     "iopub.status.busy": "2022-01-04T00:24:57.785041Z",
     "iopub.status.idle": "2022-01-04T00:24:57.797173Z",
     "shell.execute_reply": "2022-01-04T00:24:57.796766Z"
    },
    "papermill": {
     "duration": 0.042167,
     "end_time": "2022-01-04T00:24:57.797287",
     "exception": false,
     "start_time": "2022-01-04T00:24:57.755120",
     "status": "completed"
    },
    "tags": []
   },
   "outputs": [],
   "source": [
    "training_data_x = X_train\n",
    "testing_data_x = X_test\n",
    "training_data_y = y_train.reshape(-1,1)\n",
    "testing_data_y = y_test.reshape(-1,1)"
   ]
  },
  {
   "cell_type": "code",
   "execution_count": 19,
   "id": "76951160",
   "metadata": {
    "execution": {
     "iopub.execute_input": "2022-01-04T00:24:57.868167Z",
     "iopub.status.busy": "2022-01-04T00:24:57.863657Z",
     "iopub.status.idle": "2022-01-04T00:24:57.874318Z",
     "shell.execute_reply": "2022-01-04T00:24:57.873906Z"
    },
    "papermill": {
     "duration": 0.0504,
     "end_time": "2022-01-04T00:24:57.874433",
     "exception": false,
     "start_time": "2022-01-04T00:24:57.824033",
     "status": "completed"
    },
    "tags": []
   },
   "outputs": [
    {
     "name": "stdout",
     "output_type": "stream",
     "text": [
      "xavier\n",
      "xavier\n",
      "xavier\n",
      "xavier\n",
      "xavier\n"
     ]
    }
   ],
   "source": [
    "layers = [Affine(\"first\", 784, 100), Relu(\"first\"), Affine(\"second\", 100, 100), Relu(\"second\"), Affine(\"third\", 100, 2), Affine(\"last\", 2, 1), Sigmoid(\"last\")]\n",
    "model_nn = Model(layers)\n",
    "model_lr = Model([Affine(\"logits\", 784, 1), Sigmoid(\"sigmoid\")])"
   ]
  },
  {
   "cell_type": "code",
   "execution_count": 20,
   "id": "6eede77a",
   "metadata": {
    "execution": {
     "iopub.execute_input": "2022-01-04T00:24:57.938630Z",
     "iopub.status.busy": "2022-01-04T00:24:57.938114Z",
     "iopub.status.idle": "2022-01-04T00:24:57.947085Z",
     "shell.execute_reply": "2022-01-04T00:24:57.946625Z"
    },
    "papermill": {
     "duration": 0.045476,
     "end_time": "2022-01-04T00:24:57.947201",
     "exception": false,
     "start_time": "2022-01-04T00:24:57.901725",
     "status": "completed"
    },
    "tags": []
   },
   "outputs": [],
   "source": [
    "nn_learner = Learner(loss, model_nn, opt, config.num_epochs)\n",
    "acc_nn = ClfCallback(nn_learner, config.bs, training_data_x , testing_data_x, training_data_y, testing_data_y)\n",
    "nn_learner.set_callbacks([acc_nn])"
   ]
  },
  {
   "cell_type": "code",
   "execution_count": 21,
   "id": "877b6cc7",
   "metadata": {
    "execution": {
     "iopub.execute_input": "2022-01-04T00:24:58.008158Z",
     "iopub.status.busy": "2022-01-04T00:24:58.007618Z",
     "iopub.status.idle": "2022-01-04T00:24:58.017941Z",
     "shell.execute_reply": "2022-01-04T00:24:58.017497Z"
    },
    "papermill": {
     "duration": 0.043681,
     "end_time": "2022-01-04T00:24:58.018056",
     "exception": false,
     "start_time": "2022-01-04T00:24:57.974375",
     "status": "completed"
    },
    "tags": []
   },
   "outputs": [],
   "source": [
    "lr_learner = Learner(loss, model_lr, opt, config.num_epochs)\n",
    "acc_lr = ClfCallback(lr_learner, config.bs, training_data_x , testing_data_x, training_data_y, testing_data_y)\n",
    "lr_learner.set_callbacks([acc_lr])"
   ]
  },
  {
   "cell_type": "code",
   "execution_count": 22,
   "id": "d9b133c3",
   "metadata": {
    "execution": {
     "iopub.execute_input": "2022-01-04T00:24:58.076753Z",
     "iopub.status.busy": "2022-01-04T00:24:58.076229Z",
     "iopub.status.idle": "2022-01-04T00:26:14.306143Z",
     "shell.execute_reply": "2022-01-04T00:26:14.306939Z"
    },
    "papermill": {
     "duration": 76.26179,
     "end_time": "2022-01-04T00:26:14.307096",
     "exception": false,
     "start_time": "2022-01-04T00:24:58.045306",
     "status": "completed"
    },
    "tags": []
   },
   "outputs": [
    {
     "name": "stdout",
     "output_type": "stream",
     "text": [
      "Epoch 0, Loss 0.228\n",
      "Training Accuracy: 0.7842, Testing Accuracy: 0.7823\n",
      "\n"
     ]
    },
    {
     "name": "stdout",
     "output_type": "stream",
     "text": [
      "Epoch 10, Loss 0.0756\n",
      "Training Accuracy: 0.9269, Testing Accuracy: 0.9335\n",
      "\n"
     ]
    },
    {
     "name": "stdout",
     "output_type": "stream",
     "text": [
      "Epoch 20, Loss 0.0502\n",
      "Training Accuracy: 0.9445, Testing Accuracy: 0.9546\n",
      "\n"
     ]
    },
    {
     "name": "stdout",
     "output_type": "stream",
     "text": [
      "Epoch 30, Loss 0.0406\n",
      "Training Accuracy: 0.9543, Testing Accuracy: 0.9632\n",
      "\n"
     ]
    },
    {
     "name": "stdout",
     "output_type": "stream",
     "text": [
      "Epoch 40, Loss 0.0356\n",
      "Training Accuracy: 0.9597, Testing Accuracy: 0.9662\n",
      "\n"
     ]
    },
    {
     "name": "stdout",
     "output_type": "stream",
     "text": [
      "Epoch 50, Loss 0.0324\n",
      "Training Accuracy: 0.9630, Testing Accuracy: 0.9677\n",
      "\n"
     ]
    },
    {
     "name": "stdout",
     "output_type": "stream",
     "text": [
      "Epoch 60, Loss 0.0301\n",
      "Training Accuracy: 0.9651, Testing Accuracy: 0.9682\n",
      "\n"
     ]
    },
    {
     "name": "stdout",
     "output_type": "stream",
     "text": [
      "Epoch 70, Loss 0.0283\n",
      "Training Accuracy: 0.9669, Testing Accuracy: 0.9677\n",
      "\n"
     ]
    },
    {
     "name": "stdout",
     "output_type": "stream",
     "text": [
      "Epoch 80, Loss 0.0268\n",
      "Training Accuracy: 0.9688, Testing Accuracy: 0.9698\n",
      "\n"
     ]
    },
    {
     "name": "stdout",
     "output_type": "stream",
     "text": [
      "Epoch 90, Loss 0.0256\n",
      "Training Accuracy: 0.9700, Testing Accuracy: 0.9703\n",
      "\n"
     ]
    },
    {
     "name": "stdout",
     "output_type": "stream",
     "text": [
      "Epoch 100, Loss 0.0245\n",
      "Training Accuracy: 0.9717, Testing Accuracy: 0.9723\n",
      "\n"
     ]
    },
    {
     "name": "stdout",
     "output_type": "stream",
     "text": [
      "Epoch 110, Loss 0.0236\n",
      "Training Accuracy: 0.9734, Testing Accuracy: 0.9728\n",
      "\n"
     ]
    },
    {
     "name": "stdout",
     "output_type": "stream",
     "text": [
      "Epoch 120, Loss 0.0227\n",
      "Training Accuracy: 0.9741, Testing Accuracy: 0.9728\n",
      "\n"
     ]
    },
    {
     "name": "stdout",
     "output_type": "stream",
     "text": [
      "Epoch 130, Loss 0.0219\n",
      "Training Accuracy: 0.9747, Testing Accuracy: 0.9738\n",
      "\n"
     ]
    },
    {
     "name": "stdout",
     "output_type": "stream",
     "text": [
      "Epoch 140, Loss 0.0212\n",
      "Training Accuracy: 0.9761, Testing Accuracy: 0.9748\n",
      "\n"
     ]
    },
    {
     "name": "stdout",
     "output_type": "stream",
     "text": [
      "Epoch 150, Loss 0.0206\n",
      "Training Accuracy: 0.9768, Testing Accuracy: 0.9753\n",
      "\n"
     ]
    },
    {
     "name": "stdout",
     "output_type": "stream",
     "text": [
      "Epoch 160, Loss 0.0199\n",
      "Training Accuracy: 0.9775, Testing Accuracy: 0.9763\n",
      "\n"
     ]
    },
    {
     "name": "stdout",
     "output_type": "stream",
     "text": [
      "Epoch 170, Loss 0.0194\n",
      "Training Accuracy: 0.9783, Testing Accuracy: 0.9758\n",
      "\n"
     ]
    },
    {
     "name": "stdout",
     "output_type": "stream",
     "text": [
      "Epoch 180, Loss 0.0188\n",
      "Training Accuracy: 0.9790, Testing Accuracy: 0.9758\n",
      "\n"
     ]
    },
    {
     "name": "stdout",
     "output_type": "stream",
     "text": [
      "Epoch 190, Loss 0.0183\n",
      "Training Accuracy: 0.9795, Testing Accuracy: 0.9758\n",
      "\n"
     ]
    },
    {
     "name": "stdout",
     "output_type": "stream",
     "text": [
      "Epoch 200, Loss 0.0178\n",
      "Training Accuracy: 0.9802, Testing Accuracy: 0.9763\n",
      "\n"
     ]
    },
    {
     "name": "stdout",
     "output_type": "stream",
     "text": [
      "Epoch 210, Loss 0.0173\n",
      "Training Accuracy: 0.9808, Testing Accuracy: 0.9768\n",
      "\n"
     ]
    },
    {
     "name": "stdout",
     "output_type": "stream",
     "text": [
      "Epoch 220, Loss 0.0169\n",
      "Training Accuracy: 0.9816, Testing Accuracy: 0.9778\n",
      "\n"
     ]
    },
    {
     "name": "stdout",
     "output_type": "stream",
     "text": [
      "Epoch 230, Loss 0.0164\n",
      "Training Accuracy: 0.9821, Testing Accuracy: 0.9778\n",
      "\n"
     ]
    },
    {
     "name": "stdout",
     "output_type": "stream",
     "text": [
      "Epoch 240, Loss 0.016\n",
      "Training Accuracy: 0.9827, Testing Accuracy: 0.9783\n",
      "\n"
     ]
    },
    {
     "data": {
      "text/plain": [
       "0.012742752608220446"
      ]
     },
     "execution_count": 22,
     "metadata": {},
     "output_type": "execute_result"
    }
   ],
   "source": [
    "nn_learner.train_loop(dl)"
   ]
  },
  {
   "cell_type": "code",
   "execution_count": 23,
   "id": "e0163366",
   "metadata": {
    "execution": {
     "iopub.execute_input": "2022-01-04T00:26:14.384501Z",
     "iopub.status.busy": "2022-01-04T00:26:14.383980Z",
     "iopub.status.idle": "2022-01-04T00:26:28.015827Z",
     "shell.execute_reply": "2022-01-04T00:26:28.016580Z"
    },
    "papermill": {
     "duration": 13.674514,
     "end_time": "2022-01-04T00:26:28.016732",
     "exception": false,
     "start_time": "2022-01-04T00:26:14.342218",
     "status": "completed"
    },
    "tags": []
   },
   "outputs": [
    {
     "name": "stdout",
     "output_type": "stream",
     "text": [
      "Epoch 0, Loss 0.2587\n",
      "Training Accuracy: 0.5959, Testing Accuracy: 0.5837\n",
      "\n"
     ]
    },
    {
     "name": "stdout",
     "output_type": "stream",
     "text": [
      "Epoch 10, Loss 0.1102\n",
      "Training Accuracy: 0.8886, Testing Accuracy: 0.9062\n",
      "\n"
     ]
    },
    {
     "name": "stdout",
     "output_type": "stream",
     "text": [
      "Epoch 20, Loss 0.0832\n",
      "Training Accuracy: 0.9197, Testing Accuracy: 0.9325\n",
      "\n"
     ]
    },
    {
     "name": "stdout",
     "output_type": "stream",
     "text": [
      "Epoch 30, Loss 0.0708\n",
      "Training Accuracy: 0.9319, Testing Accuracy: 0.9441\n",
      "\n"
     ]
    },
    {
     "name": "stdout",
     "output_type": "stream",
     "text": [
      "Epoch 40, Loss 0.0635\n",
      "Training Accuracy: 0.9379, Testing Accuracy: 0.9511\n",
      "\n"
     ]
    },
    {
     "name": "stdout",
     "output_type": "stream",
     "text": [
      "Epoch 50, Loss 0.0585\n",
      "Training Accuracy: 0.9428, Testing Accuracy: 0.9536\n",
      "\n"
     ]
    },
    {
     "name": "stdout",
     "output_type": "stream",
     "text": [
      "Epoch 60, Loss 0.0549\n",
      "Training Accuracy: 0.9461, Testing Accuracy: 0.9561\n",
      "\n"
     ]
    },
    {
     "name": "stdout",
     "output_type": "stream",
     "text": [
      "Epoch 70, Loss 0.0521\n",
      "Training Accuracy: 0.9478, Testing Accuracy: 0.9597\n",
      "\n"
     ]
    },
    {
     "name": "stdout",
     "output_type": "stream",
     "text": [
      "Epoch 80, Loss 0.0499\n",
      "Training Accuracy: 0.9497, Testing Accuracy: 0.9607\n",
      "\n"
     ]
    },
    {
     "name": "stdout",
     "output_type": "stream",
     "text": [
      "Epoch 90, Loss 0.0481\n",
      "Training Accuracy: 0.9515, Testing Accuracy: 0.9622\n",
      "\n"
     ]
    },
    {
     "name": "stdout",
     "output_type": "stream",
     "text": [
      "Epoch 100, Loss 0.0465\n",
      "Training Accuracy: 0.9528, Testing Accuracy: 0.9622\n",
      "\n"
     ]
    },
    {
     "name": "stdout",
     "output_type": "stream",
     "text": [
      "Epoch 110, Loss 0.0452\n",
      "Training Accuracy: 0.9540, Testing Accuracy: 0.9632\n",
      "\n"
     ]
    },
    {
     "name": "stdout",
     "output_type": "stream",
     "text": [
      "Epoch 120, Loss 0.0441\n",
      "Training Accuracy: 0.9546, Testing Accuracy: 0.9632\n",
      "\n"
     ]
    },
    {
     "name": "stdout",
     "output_type": "stream",
     "text": [
      "Epoch 130, Loss 0.0431\n",
      "Training Accuracy: 0.9557, Testing Accuracy: 0.9637\n",
      "\n"
     ]
    },
    {
     "name": "stdout",
     "output_type": "stream",
     "text": [
      "Epoch 140, Loss 0.0423\n",
      "Training Accuracy: 0.9560, Testing Accuracy: 0.9642\n",
      "\n"
     ]
    },
    {
     "name": "stdout",
     "output_type": "stream",
     "text": [
      "Epoch 150, Loss 0.0415\n",
      "Training Accuracy: 0.9564, Testing Accuracy: 0.9647\n",
      "\n"
     ]
    },
    {
     "name": "stdout",
     "output_type": "stream",
     "text": [
      "Epoch 160, Loss 0.0408\n",
      "Training Accuracy: 0.9569, Testing Accuracy: 0.9642\n",
      "\n"
     ]
    },
    {
     "name": "stdout",
     "output_type": "stream",
     "text": [
      "Epoch 170, Loss 0.0401\n",
      "Training Accuracy: 0.9575, Testing Accuracy: 0.9642\n",
      "\n"
     ]
    },
    {
     "name": "stdout",
     "output_type": "stream",
     "text": [
      "Epoch 180, Loss 0.0395\n",
      "Training Accuracy: 0.9583, Testing Accuracy: 0.9642\n",
      "\n"
     ]
    },
    {
     "name": "stdout",
     "output_type": "stream",
     "text": [
      "Epoch 190, Loss 0.039\n",
      "Training Accuracy: 0.9589, Testing Accuracy: 0.9647\n",
      "\n"
     ]
    },
    {
     "name": "stdout",
     "output_type": "stream",
     "text": [
      "Epoch 200, Loss 0.0385\n",
      "Training Accuracy: 0.9592, Testing Accuracy: 0.9647\n",
      "\n"
     ]
    },
    {
     "name": "stdout",
     "output_type": "stream",
     "text": [
      "Epoch 210, Loss 0.038\n",
      "Training Accuracy: 0.9595, Testing Accuracy: 0.9647\n",
      "\n"
     ]
    },
    {
     "name": "stdout",
     "output_type": "stream",
     "text": [
      "Epoch 220, Loss 0.0376\n",
      "Training Accuracy: 0.9599, Testing Accuracy: 0.9657\n",
      "\n"
     ]
    },
    {
     "name": "stdout",
     "output_type": "stream",
     "text": [
      "Epoch 230, Loss 0.0372\n",
      "Training Accuracy: 0.9602, Testing Accuracy: 0.9657\n",
      "\n"
     ]
    },
    {
     "name": "stdout",
     "output_type": "stream",
     "text": [
      "Epoch 240, Loss 0.0368\n",
      "Training Accuracy: 0.9604, Testing Accuracy: 0.9662\n",
      "\n"
     ]
    },
    {
     "data": {
      "text/plain": [
       "0.044809138765210865"
      ]
     },
     "execution_count": 23,
     "metadata": {},
     "output_type": "execute_result"
    }
   ],
   "source": [
    "lr_learner.train_loop(dl)"
   ]
  },
  {
   "cell_type": "code",
   "execution_count": 24,
   "id": "ca410940",
   "metadata": {
    "execution": {
     "iopub.execute_input": "2022-01-04T00:26:28.112101Z",
     "iopub.status.busy": "2022-01-04T00:26:28.111552Z",
     "iopub.status.idle": "2022-01-04T00:26:28.349730Z",
     "shell.execute_reply": "2022-01-04T00:26:28.349278Z"
    },
    "papermill": {
     "duration": 0.291995,
     "end_time": "2022-01-04T00:26:28.349849",
     "exception": false,
     "start_time": "2022-01-04T00:26:28.057854",
     "status": "completed"
    },
    "tags": []
   },
   "outputs": [
    {
     "data": {
      "text/plain": [
       "<matplotlib.legend.Legend at 0x7f1db265db38>"
      ]
     },
     "execution_count": 24,
     "metadata": {},
     "output_type": "execute_result"
    },
    {
     "data": {
      "image/png": "[encoded data removed]",
      "text/plain": [
       "<Figure size 1080x720 with 1 Axes>"
      ]
     },
     "metadata": {
      "needs_background": "light"
     },
     "output_type": "display_data"
    }
   ],
   "source": [
    "#comparing the results of NN and LR\n",
    "plt.figure(figsize=(15,10))\n",
    "\n",
    "# Neural Network plots\n",
    "plt.plot(acc_nn.accuracies, 'r-', label = \"Training Accuracies - NN\")\n",
    "plt.plot(acc_nn.test_accuracies, 'g-', label = \"Testing Accuracies - NN\")\n",
    "\n",
    "# Logistic Regression plots\n",
    "plt.plot(acc_lr.accuracies, 'k-', label = \"Training Accuracies - LR\")\n",
    "plt.plot(acc_lr.test_accuracies, 'b-', label = \"Testing Accuracies - LR\")\n",
    "plt.legend()"
   ]
  },
  {
   "cell_type": "markdown",
   "id": "80dfb35c",
   "metadata": {
    "papermill": {
     "duration": 0.042551,
     "end_time": "2022-01-04T00:26:28.442401",
     "exception": false,
     "start_time": "2022-01-04T00:26:28.399850",
     "status": "completed"
    },
    "tags": []
   },
   "source": [
    "#### Plotting the outputs of this layer of the NN.\n"
   ]
  },
  {
   "cell_type": "code",
   "execution_count": 25,
   "id": "45eb2ff5",
   "metadata": {
    "execution": {
     "iopub.execute_input": "2022-01-04T00:26:28.536210Z",
     "iopub.status.busy": "2022-01-04T00:26:28.535663Z",
     "iopub.status.idle": "2022-01-04T00:26:28.554323Z",
     "shell.execute_reply": "2022-01-04T00:26:28.554732Z"
    },
    "papermill": {
     "duration": 0.070142,
     "end_time": "2022-01-04T00:26:28.554908",
     "exception": false,
     "start_time": "2022-01-04T00:26:28.484766",
     "status": "completed"
    },
    "tags": []
   },
   "outputs": [],
   "source": [
    "new_model = Model(layers[:-2])\n",
    "testing_plot = new_model(testing_data_x)"
   ]
  },
  {
   "cell_type": "code",
   "execution_count": 26,
   "id": "4c0a5485",
   "metadata": {
    "execution": {
     "iopub.execute_input": "2022-01-04T00:26:28.651520Z",
     "iopub.status.busy": "2022-01-04T00:26:28.650960Z",
     "iopub.status.idle": "2022-01-04T00:26:28.852177Z",
     "shell.execute_reply": "2022-01-04T00:26:28.851753Z"
    },
    "papermill": {
     "duration": 0.253847,
     "end_time": "2022-01-04T00:26:28.852298",
     "exception": false,
     "start_time": "2022-01-04T00:26:28.598451",
     "status": "completed"
    },
    "tags": []
   },
   "outputs": [
    {
     "data": {
      "text/plain": [
       "Text(0.5, 1.0, 'Outputs')"
      ]
     },
     "execution_count": 26,
     "metadata": {},
     "output_type": "execute_result"
    },
    {
     "data": {
      "image/png": "[encoded data removed]",
      "text/plain": [
       "<Figure size 576x504 with 1 Axes>"
      ]
     },
     "metadata": {
      "needs_background": "light"
     },
     "output_type": "display_data"
    }
   ],
   "source": [
    "# Plotting the scatter plot of points and color coding by class\n",
    "plt.figure(figsize=(8,7))\n",
    "plt.scatter(testing_plot[:,0], testing_plot[:,1], alpha = 0.1, c = y_test.ravel());\n",
    "plt.title('Outputs')"
   ]
  },
  {
   "cell_type": "markdown",
   "id": "a74fcf8f",
   "metadata": {
    "papermill": {
     "duration": 0.044595,
     "end_time": "2022-01-04T00:26:28.941717",
     "exception": false,
     "start_time": "2022-01-04T00:26:28.897122",
     "status": "completed"
    },
    "tags": []
   },
   "source": [
    "Probability contours"
   ]
  },
  {
   "cell_type": "code",
   "execution_count": 27,
   "id": "d0afc8e3",
   "metadata": {
    "execution": {
     "iopub.execute_input": "2022-01-04T00:26:29.036415Z",
     "iopub.status.busy": "2022-01-04T00:26:29.035778Z",
     "iopub.status.idle": "2022-01-04T00:26:29.048816Z",
     "shell.execute_reply": "2022-01-04T00:26:29.048362Z"
    },
    "papermill": {
     "duration": 0.062502,
     "end_time": "2022-01-04T00:26:29.048936",
     "exception": false,
     "start_time": "2022-01-04T00:26:28.986434",
     "status": "completed"
    },
    "tags": []
   },
   "outputs": [],
   "source": [
    "model_prob = Model(layers[-2:]) "
   ]
  },
  {
   "cell_type": "code",
   "execution_count": 28,
   "id": "9b96e238",
   "metadata": {
    "execution": {
     "iopub.execute_input": "2022-01-04T00:26:29.181158Z",
     "iopub.status.busy": "2022-01-04T00:26:29.180287Z",
     "iopub.status.idle": "2022-01-04T00:26:29.189533Z",
     "shell.execute_reply": "2022-01-04T00:26:29.189039Z"
    },
    "papermill": {
     "duration": 0.095414,
     "end_time": "2022-01-04T00:26:29.189648",
     "exception": false,
     "start_time": "2022-01-04T00:26:29.094234",
     "status": "completed"
    },
    "tags": []
   },
   "outputs": [],
   "source": [
    "#creating the x and y ranges according to the above generated plot.\n",
    "x_range = np.linspace(-4, 1, 100) \n",
    "y_range = np.linspace(-6, 6, 100) \n",
    "x_grid, y_grid = np.meshgrid(x_range, y_range) # x_grid and y_grig are of size 100 X 100\n",
    "\n",
    "# converting x_grid and y_grid to continuous arrays\n",
    "x_gridflat = np.ravel(x_grid)\n",
    "y_gridflat = np.ravel(y_grid)\n",
    "\n",
    "# The last layer of the current model takes two columns as input. Hence transpose of np.vstack() is required.\n",
    "X = np.vstack((x_gridflat, y_gridflat)).T\n",
    "\n",
    "prob_contour = model_prob(X).reshape(100,100) "
   ]
  },
  {
   "cell_type": "code",
   "execution_count": 29,
   "id": "da72499a",
   "metadata": {
    "execution": {
     "iopub.execute_input": "2022-01-04T00:26:29.290395Z",
     "iopub.status.busy": "2022-01-04T00:26:29.289845Z",
     "iopub.status.idle": "2022-01-04T00:26:29.521519Z",
     "shell.execute_reply": "2022-01-04T00:26:29.521087Z"
    },
    "papermill": {
     "duration": 0.286898,
     "end_time": "2022-01-04T00:26:29.521641",
     "exception": false,
     "start_time": "2022-01-04T00:26:29.234743",
     "status": "completed"
    },
    "tags": []
   },
   "outputs": [
    {
     "data": {
      "image/png": "[encoded data removed]",
      "text/plain": [
       "<Figure size 720x648 with 1 Axes>"
      ]
     },
     "metadata": {
      "needs_background": "light"
     },
     "output_type": "display_data"
    }
   ],
   "source": [
    "plt.figure(figsize=(10,9))\n",
    "plt.scatter(testing_plot[:,0], testing_plot[:,1], alpha = 0.1, c = y_test.ravel())\n",
    "contours = plt.contour(x_grid,y_grid,prob_contour)\n",
    "plt.title('Probability Contours')\n",
    "plt.clabel(contours, inline = True );"
   ]
  },
  {
   "cell_type": "code",
   "execution_count": null,
   "id": "e81b4ac7",
   "metadata": {
    "papermill": {
     "duration": 0.051703,
     "end_time": "2022-01-04T00:26:29.621493",
     "exception": false,
     "start_time": "2022-01-04T00:26:29.569790",
     "status": "completed"
    },
    "tags": []
   },
   "outputs": [],
   "source": []
  }
 ],
 "metadata": {
  "kernelspec": {
   "display_name": "Python 3",
   "language": "python",
   "name": "python3"
  },
  "language_info": {
   "codemirror_mode": {
    "name": "ipython",
    "version": 3
   },
   "file_extension": ".py",
   "mimetype": "text/x-python",
   "name": "python",
   "nbconvert_exporter": "python",
   "pygments_lexer": "ipython3",
   "version": "3.6.15"
  },
  "papermill": {
   "default_parameters": {},
   "duration": 97.898848,
   "end_time": "2022-01-04T00:26:30.077579",
   "environment_variables": {},
   "exception": null,
   "input_path": "2020-08-11-part2.ipynb",
   "output_path": "2020-08-11-part2.ipynb",
   "parameters": {},
   "start_time": "2022-01-04T00:24:52.178731",
   "version": "2.3.3"
  }
 },
 "nbformat": 4,
 "nbformat_minor": 5
}