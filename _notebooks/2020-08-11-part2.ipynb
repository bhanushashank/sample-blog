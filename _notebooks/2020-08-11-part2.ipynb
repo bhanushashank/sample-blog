{
 "cells": [
  {
   "cell_type": "markdown",
   "id": "98380cd3",
   "metadata": {
    "papermill": {
     "duration": 0.038826,
     "end_time": "2022-09-07T20:11:42.088251",
     "exception": false,
     "start_time": "2022-09-07T20:11:42.049425",
     "status": "completed"
    },
    "tags": []
   },
   "source": [
    "# Distinguish Your Own Digits (DYOD)"
   ]
  },
  {
   "cell_type": "markdown",
   "id": "ef31240d",
   "metadata": {
    "papermill": {
     "duration": 0.033737,
     "end_time": "2022-09-07T20:11:42.154176",
     "exception": false,
     "start_time": "2022-09-07T20:11:42.120439",
     "status": "completed"
    },
    "tags": []
   },
   "source": [
    "You are going to write a classifier that distinguishes between the number 3 and number 8."
   ]
  },
  {
   "cell_type": "code",
   "execution_count": 1,
   "id": "b15c8646",
   "metadata": {
    "execution": {
     "iopub.execute_input": "2022-09-07T20:11:42.231457Z",
     "iopub.status.busy": "2022-09-07T20:11:42.230718Z",
     "iopub.status.idle": "2022-09-07T20:11:42.244498Z",
     "shell.execute_reply": "2022-09-07T20:11:42.243739Z"
    },
    "papermill": {
     "duration": 0.058821,
     "end_time": "2022-09-07T20:11:42.244704",
     "exception": false,
     "start_time": "2022-09-07T20:11:42.185883",
     "status": "completed"
    },
    "tags": []
   },
   "outputs": [],
   "source": [
    "%load_ext autoreload\n",
    "%autoreload 2"
   ]
  },
  {
   "cell_type": "code",
   "execution_count": 2,
   "id": "22ef38dc",
   "metadata": {
    "execution": {
     "iopub.execute_input": "2022-09-07T20:11:42.318118Z",
     "iopub.status.busy": "2022-09-07T20:11:42.317342Z",
     "iopub.status.idle": "2022-09-07T20:11:43.013053Z",
     "shell.execute_reply": "2022-09-07T20:11:43.012340Z"
    },
    "papermill": {
     "duration": 0.735137,
     "end_time": "2022-09-07T20:11:43.013206",
     "exception": false,
     "start_time": "2022-09-07T20:11:42.278069",
     "status": "completed"
    },
    "tags": []
   },
   "outputs": [],
   "source": [
    "%matplotlib inline\n",
    "import numpy as np\n",
    "import matplotlib.pyplot as plt\n",
    "import pandas as pd"
   ]
  },
  {
   "cell_type": "markdown",
   "id": "ba036198",
   "metadata": {
    "papermill": {
     "duration": 0.043307,
     "end_time": "2022-09-07T20:11:43.090858",
     "exception": false,
     "start_time": "2022-09-07T20:11:43.047551",
     "status": "completed"
    },
    "tags": []
   },
   "source": [
    "From the command line run `pip install mnist`. This is a library that will help you bring down the mnist dataset. If you run this from a notebook, you need to put  `!pip install mnist` in a cell by itself."
   ]
  },
  {
   "cell_type": "code",
   "execution_count": 3,
   "id": "bb6ad8a1",
   "metadata": {
    "execution": {
     "iopub.execute_input": "2022-09-07T20:11:43.160897Z",
     "iopub.status.busy": "2022-09-07T20:11:43.160099Z",
     "iopub.status.idle": "2022-09-07T20:11:45.278798Z",
     "shell.execute_reply": "2022-09-07T20:11:45.279812Z"
    },
    "papermill": {
     "duration": 2.15729,
     "end_time": "2022-09-07T20:11:45.279977",
     "exception": false,
     "start_time": "2022-09-07T20:11:43.122687",
     "status": "completed"
    },
    "tags": []
   },
   "outputs": [
    {
     "name": "stdout",
     "output_type": "stream",
     "text": [
      "Collecting mnist\r\n",
      "  Downloading mnist-0.2.2-py2.py3-none-any.whl (3.5 kB)\r\n"
     ]
    },
    {
     "name": "stdout",
     "output_type": "stream",
     "text": [
      "Requirement already satisfied: numpy in /opt/hostedtoolcache/Python/3.6.15/x64/lib/python3.6/site-packages (from mnist) (1.19.5)\r\n"
     ]
    },
    {
     "name": "stdout",
     "output_type": "stream",
     "text": [
      "Installing collected packages: mnist\r\n"
     ]
    },
    {
     "name": "stdout",
     "output_type": "stream",
     "text": [
      "Successfully installed mnist-0.2.2\r\n"
     ]
    }
   ],
   "source": [
    "!pip install mnist"
   ]
  },
  {
   "cell_type": "markdown",
   "id": "69df9c9a",
   "metadata": {
    "papermill": {
     "duration": 0.032821,
     "end_time": "2022-09-07T20:11:45.346461",
     "exception": false,
     "start_time": "2022-09-07T20:11:45.313640",
     "status": "completed"
    },
    "tags": []
   },
   "source": [
    "## Preparing the Data"
   ]
  },
  {
   "cell_type": "code",
   "execution_count": 4,
   "id": "7f69d806",
   "metadata": {
    "execution": {
     "iopub.execute_input": "2022-09-07T20:11:45.422150Z",
     "iopub.status.busy": "2022-09-07T20:11:45.416441Z",
     "iopub.status.idle": "2022-09-07T20:11:45.435574Z",
     "shell.execute_reply": "2022-09-07T20:11:45.434708Z"
    },
    "papermill": {
     "duration": 0.058391,
     "end_time": "2022-09-07T20:11:45.435732",
     "exception": false,
     "start_time": "2022-09-07T20:11:45.377341",
     "status": "completed"
    },
    "tags": []
   },
   "outputs": [],
   "source": [
    "import mnist"
   ]
  },
  {
   "cell_type": "code",
   "execution_count": 5,
   "id": "a411e44f",
   "metadata": {
    "execution": {
     "iopub.execute_input": "2022-09-07T20:11:45.509543Z",
     "iopub.status.busy": "2022-09-07T20:11:45.508348Z",
     "iopub.status.idle": "2022-09-07T20:11:46.147653Z",
     "shell.execute_reply": "2022-09-07T20:11:46.147041Z"
    },
    "papermill": {
     "duration": 0.676715,
     "end_time": "2022-09-07T20:11:46.147819",
     "exception": false,
     "start_time": "2022-09-07T20:11:45.471104",
     "status": "completed"
    },
    "tags": []
   },
   "outputs": [],
   "source": [
    "train_images = mnist.train_images()\n",
    "train_labels = mnist.train_labels()"
   ]
  },
  {
   "cell_type": "code",
   "execution_count": 6,
   "id": "dceab3a5",
   "metadata": {
    "execution": {
     "iopub.execute_input": "2022-09-07T20:11:46.220149Z",
     "iopub.status.busy": "2022-09-07T20:11:46.219377Z",
     "iopub.status.idle": "2022-09-07T20:11:46.238921Z",
     "shell.execute_reply": "2022-09-07T20:11:46.238267Z"
    },
    "papermill": {
     "duration": 0.057303,
     "end_time": "2022-09-07T20:11:46.239083",
     "exception": false,
     "start_time": "2022-09-07T20:11:46.181780",
     "status": "completed"
    },
    "tags": []
   },
   "outputs": [
    {
     "data": {
      "text/plain": [
       "((60000, 28, 28), (60000,))"
      ]
     },
     "execution_count": 6,
     "metadata": {},
     "output_type": "execute_result"
    }
   ],
   "source": [
    "train_images.shape, train_labels.shape"
   ]
  },
  {
   "cell_type": "code",
   "execution_count": 7,
   "id": "f50dc2bb",
   "metadata": {
    "execution": {
     "iopub.execute_input": "2022-09-07T20:11:46.314761Z",
     "iopub.status.busy": "2022-09-07T20:11:46.313797Z",
     "iopub.status.idle": "2022-09-07T20:11:46.439209Z",
     "shell.execute_reply": "2022-09-07T20:11:46.438514Z"
    },
    "papermill": {
     "duration": 0.166715,
     "end_time": "2022-09-07T20:11:46.439354",
     "exception": false,
     "start_time": "2022-09-07T20:11:46.272639",
     "status": "completed"
    },
    "tags": []
   },
   "outputs": [],
   "source": [
    "test_images = mnist.test_images()\n",
    "test_labels = mnist.test_labels()"
   ]
  },
  {
   "cell_type": "code",
   "execution_count": 8,
   "id": "fc38cf1b",
   "metadata": {
    "execution": {
     "iopub.execute_input": "2022-09-07T20:11:46.515073Z",
     "iopub.status.busy": "2022-09-07T20:11:46.514311Z",
     "iopub.status.idle": "2022-09-07T20:11:46.529444Z",
     "shell.execute_reply": "2022-09-07T20:11:46.528793Z"
    },
    "papermill": {
     "duration": 0.056459,
     "end_time": "2022-09-07T20:11:46.529604",
     "exception": false,
     "start_time": "2022-09-07T20:11:46.473145",
     "status": "completed"
    },
    "tags": []
   },
   "outputs": [
    {
     "data": {
      "text/plain": [
       "((10000, 28, 28), (10000,))"
      ]
     },
     "execution_count": 8,
     "metadata": {},
     "output_type": "execute_result"
    }
   ],
   "source": [
    "test_images.shape, test_labels.shape"
   ]
  },
  {
   "cell_type": "code",
   "execution_count": 9,
   "id": "f9ed8fe0",
   "metadata": {
    "execution": {
     "iopub.execute_input": "2022-09-07T20:11:46.608899Z",
     "iopub.status.busy": "2022-09-07T20:11:46.608045Z",
     "iopub.status.idle": "2022-09-07T20:11:46.815263Z",
     "shell.execute_reply": "2022-09-07T20:11:46.814637Z"
    },
    "papermill": {
     "duration": 0.250186,
     "end_time": "2022-09-07T20:11:46.815417",
     "exception": false,
     "start_time": "2022-09-07T20:11:46.565231",
     "status": "completed"
    },
    "tags": []
   },
   "outputs": [
    {
     "name": "stdout",
     "output_type": "stream",
     "text": [
      "2\n"
     ]
    },
    {
     "data": {
      "text/plain": [
       "<matplotlib.image.AxesImage at 0x7fad3001fc50>"
      ]
     },
     "execution_count": 9,
     "metadata": {},
     "output_type": "execute_result"
    },
    {
     "data": {
      "image/png": "[encoded data removed]",
      "text/plain": [
       "<Figure size 432x288 with 1 Axes>"
      ]
     },
     "metadata": {
      "needs_background": "light"
     },
     "output_type": "display_data"
    }
   ],
   "source": [
    "image_index = 7776 # You may select anything up to 60,000\n",
    "print(train_labels[image_index]) \n",
    "plt.imshow(train_images[image_index], cmap='Greys')"
   ]
  },
  {
   "cell_type": "markdown",
   "id": "a8d2388d",
   "metadata": {
    "papermill": {
     "duration": 0.03488,
     "end_time": "2022-09-07T20:11:46.885508",
     "exception": false,
     "start_time": "2022-09-07T20:11:46.850628",
     "status": "completed"
    },
    "tags": []
   },
   "source": [
    "## Filter data to get 3 and 8 out"
   ]
  },
  {
   "cell_type": "code",
   "execution_count": 10,
   "id": "776f7fc7",
   "metadata": {
    "execution": {
     "iopub.execute_input": "2022-09-07T20:11:46.969189Z",
     "iopub.status.busy": "2022-09-07T20:11:46.968311Z",
     "iopub.status.idle": "2022-09-07T20:11:46.992504Z",
     "shell.execute_reply": "2022-09-07T20:11:46.993292Z"
    },
    "papermill": {
     "duration": 0.069849,
     "end_time": "2022-09-07T20:11:46.993466",
     "exception": false,
     "start_time": "2022-09-07T20:11:46.923617",
     "status": "completed"
    },
    "tags": []
   },
   "outputs": [],
   "source": [
    "train_filter = np.where((train_labels == 3 ) | (train_labels == 8))\n",
    "test_filter = np.where((test_labels == 3) | (test_labels == 8))\n",
    "X_train, y_train = train_images[train_filter], train_labels[train_filter]\n",
    "X_test, y_test = test_images[test_filter], test_labels[test_filter]"
   ]
  },
  {
   "cell_type": "markdown",
   "id": "948f0b7e",
   "metadata": {
    "papermill": {
     "duration": 0.038858,
     "end_time": "2022-09-07T20:11:47.070345",
     "exception": false,
     "start_time": "2022-09-07T20:11:47.031487",
     "status": "completed"
    },
    "tags": []
   },
   "source": [
    "We normalize the pizel values in the 0 to 1 range"
   ]
  },
  {
   "cell_type": "code",
   "execution_count": 11,
   "id": "ee4c2166",
   "metadata": {
    "execution": {
     "iopub.execute_input": "2022-09-07T20:11:47.153753Z",
     "iopub.status.busy": "2022-09-07T20:11:47.152919Z",
     "iopub.status.idle": "2022-09-07T20:11:47.221993Z",
     "shell.execute_reply": "2022-09-07T20:11:47.221252Z"
    },
    "papermill": {
     "duration": 0.113213,
     "end_time": "2022-09-07T20:11:47.222159",
     "exception": false,
     "start_time": "2022-09-07T20:11:47.108946",
     "status": "completed"
    },
    "tags": []
   },
   "outputs": [],
   "source": [
    "X_train = X_train/255.\n",
    "X_test = X_test/255."
   ]
  },
  {
   "cell_type": "markdown",
   "id": "ddcf4fab",
   "metadata": {
    "papermill": {
     "duration": 0.037318,
     "end_time": "2022-09-07T20:11:47.295552",
     "exception": false,
     "start_time": "2022-09-07T20:11:47.258234",
     "status": "completed"
    },
    "tags": []
   },
   "source": [
    "And setup the labels as 1 (when the digit is 3) and 0 (when the digit is 8)"
   ]
  },
  {
   "cell_type": "code",
   "execution_count": 12,
   "id": "7dc908f2",
   "metadata": {
    "execution": {
     "iopub.execute_input": "2022-09-07T20:11:47.374125Z",
     "iopub.status.busy": "2022-09-07T20:11:47.373329Z",
     "iopub.status.idle": "2022-09-07T20:11:47.387625Z",
     "shell.execute_reply": "2022-09-07T20:11:47.387051Z"
    },
    "papermill": {
     "duration": 0.057475,
     "end_time": "2022-09-07T20:11:47.387754",
     "exception": false,
     "start_time": "2022-09-07T20:11:47.330279",
     "status": "completed"
    },
    "tags": []
   },
   "outputs": [],
   "source": [
    "y_train = 1*(y_train==3)\n",
    "y_test = 1*(y_test==3)"
   ]
  },
  {
   "cell_type": "code",
   "execution_count": 13,
   "id": "01e4e969",
   "metadata": {
    "execution": {
     "iopub.execute_input": "2022-09-07T20:11:47.464121Z",
     "iopub.status.busy": "2022-09-07T20:11:47.463315Z",
     "iopub.status.idle": "2022-09-07T20:11:47.479511Z",
     "shell.execute_reply": "2022-09-07T20:11:47.480130Z"
    },
    "papermill": {
     "duration": 0.05721,
     "end_time": "2022-09-07T20:11:47.480318",
     "exception": false,
     "start_time": "2022-09-07T20:11:47.423108",
     "status": "completed"
    },
    "tags": []
   },
   "outputs": [
    {
     "data": {
      "text/plain": [
       "((11982, 28, 28), (1984, 28, 28))"
      ]
     },
     "execution_count": 13,
     "metadata": {},
     "output_type": "execute_result"
    }
   ],
   "source": [
    "X_train.shape, X_test.shape"
   ]
  },
  {
   "cell_type": "markdown",
   "id": "5ccf3f85",
   "metadata": {
    "papermill": {
     "duration": 0.034984,
     "end_time": "2022-09-07T20:11:47.549378",
     "exception": false,
     "start_time": "2022-09-07T20:11:47.514394",
     "status": "completed"
    },
    "tags": []
   },
   "source": [
    "We reshape the data to flatten the image pixels into a set of features or co-variates:"
   ]
  },
  {
   "cell_type": "code",
   "execution_count": 14,
   "id": "5286a4a3",
   "metadata": {
    "execution": {
     "iopub.execute_input": "2022-09-07T20:11:47.624086Z",
     "iopub.status.busy": "2022-09-07T20:11:47.623320Z",
     "iopub.status.idle": "2022-09-07T20:11:47.639851Z",
     "shell.execute_reply": "2022-09-07T20:11:47.639008Z"
    },
    "papermill": {
     "duration": 0.056365,
     "end_time": "2022-09-07T20:11:47.639996",
     "exception": false,
     "start_time": "2022-09-07T20:11:47.583631",
     "status": "completed"
    },
    "tags": []
   },
   "outputs": [
    {
     "data": {
      "text/plain": [
       "((11982, 784), (1984, 784))"
      ]
     },
     "execution_count": 14,
     "metadata": {},
     "output_type": "execute_result"
    }
   ],
   "source": [
    "X_train = X_train.reshape(X_train.shape[0], -1)\n",
    "X_test = X_test.reshape(X_test.shape[0], -1)\n",
    "X_train.shape, X_test.shape"
   ]
  },
  {
   "cell_type": "code",
   "execution_count": 15,
   "id": "73c5f88a",
   "metadata": {
    "execution": {
     "iopub.execute_input": "2022-09-07T20:11:47.718463Z",
     "iopub.status.busy": "2022-09-07T20:11:47.717716Z",
     "iopub.status.idle": "2022-09-07T20:11:47.742191Z",
     "shell.execute_reply": "2022-09-07T20:11:47.742821Z"
    },
    "papermill": {
     "duration": 0.067827,
     "end_time": "2022-09-07T20:11:47.742995",
     "exception": false,
     "start_time": "2022-09-07T20:11:47.675168",
     "status": "completed"
    },
    "tags": []
   },
   "outputs": [],
   "source": [
    "#Impoting functions from 'Kudzu'\n",
    "from kudzu.model import Model\n",
    "from kudzu.train import Learner\n",
    "from kudzu.optim import GD\n",
    "from kudzu.data import Data, Sampler,Dataloader\n",
    "\n",
    "from kudzu.callbacks import AccCallback\n",
    "from kudzu.callbacks import ClfCallback\n",
    "\n",
    "from kudzu.loss import MSE\n",
    "\n",
    "from kudzu.layer import Sigmoid,Relu\n",
    "from kudzu.layer import Affine"
   ]
  },
  {
   "cell_type": "markdown",
   "id": "bc01172a",
   "metadata": {
    "papermill": {
     "duration": 0.035038,
     "end_time": "2022-09-07T20:11:47.815542",
     "exception": false,
     "start_time": "2022-09-07T20:11:47.780504",
     "status": "completed"
    },
    "tags": []
   },
   "source": [
    "### Let us create a `Config` class, to store important parameters. \n",
    "This class essentially plays the role of a dictionary."
   ]
  },
  {
   "cell_type": "code",
   "execution_count": 16,
   "id": "978281aa",
   "metadata": {
    "execution": {
     "iopub.execute_input": "2022-09-07T20:11:47.893951Z",
     "iopub.status.busy": "2022-09-07T20:11:47.893161Z",
     "iopub.status.idle": "2022-09-07T20:11:47.909218Z",
     "shell.execute_reply": "2022-09-07T20:11:47.908588Z"
    },
    "papermill": {
     "duration": 0.058519,
     "end_time": "2022-09-07T20:11:47.909376",
     "exception": false,
     "start_time": "2022-09-07T20:11:47.850857",
     "status": "completed"
    },
    "tags": []
   },
   "outputs": [],
   "source": [
    "class Config:\n",
    "    pass\n",
    "config = Config()\n",
    "config.lr = 0.001\n",
    "config.num_epochs = 250\n",
    "config.bs = 50"
   ]
  },
  {
   "cell_type": "markdown",
   "id": "1385fa59",
   "metadata": {
    "papermill": {
     "duration": 0.040859,
     "end_time": "2022-09-07T20:11:47.989658",
     "exception": false,
     "start_time": "2022-09-07T20:11:47.948799",
     "status": "completed"
    },
    "tags": []
   },
   "source": [
    "### Running Models with the Training data\n",
    "Details about the network layers:\n",
    "- A first affine layer has 784 inputs and does 100 affine transforms. These are followed by a Relu\n",
    "- A second affine layer has 100 inputs from the 100 activations of the past layer, and does 100 affine transforms. These are followed by a Relu\n",
    "- A third affine layer has 100 activations and does 2 affine transformations to create an embedding for visualization. There is no non-linearity here.\n",
    "- A final \"logistic regression\" which has an affine transform from 2 inputs to 1 output, which is squeezed through a sigmoid.\n"
   ]
  },
  {
   "cell_type": "code",
   "execution_count": 17,
   "id": "2b9c66db",
   "metadata": {
    "execution": {
     "iopub.execute_input": "2022-09-07T20:11:48.070681Z",
     "iopub.status.busy": "2022-09-07T20:11:48.069774Z",
     "iopub.status.idle": "2022-09-07T20:11:48.085712Z",
     "shell.execute_reply": "2022-09-07T20:11:48.084946Z"
    },
    "papermill": {
     "duration": 0.060184,
     "end_time": "2022-09-07T20:11:48.085858",
     "exception": false,
     "start_time": "2022-09-07T20:11:48.025674",
     "status": "completed"
    },
    "tags": []
   },
   "outputs": [],
   "source": [
    "data = Data(X_train, y_train.reshape(-1,1))\n",
    "sampler = Sampler(data, config.bs, shuffle=True)\n",
    "\n",
    "dl = Dataloader(data, sampler)\n",
    "\n",
    "opt = GD(config.lr)\n",
    "loss = MSE()"
   ]
  },
  {
   "cell_type": "code",
   "execution_count": 18,
   "id": "b275e4c2",
   "metadata": {
    "execution": {
     "iopub.execute_input": "2022-09-07T20:11:48.170636Z",
     "iopub.status.busy": "2022-09-07T20:11:48.169859Z",
     "iopub.status.idle": "2022-09-07T20:11:48.186805Z",
     "shell.execute_reply": "2022-09-07T20:11:48.185978Z"
    },
    "papermill": {
     "duration": 0.061381,
     "end_time": "2022-09-07T20:11:48.186949",
     "exception": false,
     "start_time": "2022-09-07T20:11:48.125568",
     "status": "completed"
    },
    "tags": []
   },
   "outputs": [],
   "source": [
    "training_data_x = X_train\n",
    "testing_data_x = X_test\n",
    "training_data_y = y_train.reshape(-1,1)\n",
    "testing_data_y = y_test.reshape(-1,1)"
   ]
  },
  {
   "cell_type": "code",
   "execution_count": 19,
   "id": "76951160",
   "metadata": {
    "execution": {
     "iopub.execute_input": "2022-09-07T20:11:48.270717Z",
     "iopub.status.busy": "2022-09-07T20:11:48.269921Z",
     "iopub.status.idle": "2022-09-07T20:11:48.289340Z",
     "shell.execute_reply": "2022-09-07T20:11:48.288595Z"
    },
    "papermill": {
     "duration": 0.063819,
     "end_time": "2022-09-07T20:11:48.289479",
     "exception": false,
     "start_time": "2022-09-07T20:11:48.225660",
     "status": "completed"
    },
    "tags": []
   },
   "outputs": [
    {
     "name": "stdout",
     "output_type": "stream",
     "text": [
      "xavier\n",
      "xavier\n",
      "xavier\n",
      "xavier\n",
      "xavier\n"
     ]
    }
   ],
   "source": [
    "layers = [Affine(\"first\", 784, 100), Relu(\"first\"), Affine(\"second\", 100, 100), Relu(\"second\"), Affine(\"third\", 100, 2), Affine(\"last\", 2, 1), Sigmoid(\"last\")]\n",
    "model_nn = Model(layers)\n",
    "model_lr = Model([Affine(\"logits\", 784, 1), Sigmoid(\"sigmoid\")])"
   ]
  },
  {
   "cell_type": "code",
   "execution_count": 20,
   "id": "6eede77a",
   "metadata": {
    "execution": {
     "iopub.execute_input": "2022-09-07T20:11:48.369484Z",
     "iopub.status.busy": "2022-09-07T20:11:48.368622Z",
     "iopub.status.idle": "2022-09-07T20:11:48.384303Z",
     "shell.execute_reply": "2022-09-07T20:11:48.383624Z"
    },
    "papermill": {
     "duration": 0.057644,
     "end_time": "2022-09-07T20:11:48.384439",
     "exception": false,
     "start_time": "2022-09-07T20:11:48.326795",
     "status": "completed"
    },
    "tags": []
   },
   "outputs": [],
   "source": [
    "nn_learner = Learner(loss, model_nn, opt, config.num_epochs)\n",
    "acc_nn = ClfCallback(nn_learner, config.bs, training_data_x , testing_data_x, training_data_y, testing_data_y)\n",
    "nn_learner.set_callbacks([acc_nn])"
   ]
  },
  {
   "cell_type": "code",
   "execution_count": 21,
   "id": "877b6cc7",
   "metadata": {
    "execution": {
     "iopub.execute_input": "2022-09-07T20:11:48.463767Z",
     "iopub.status.busy": "2022-09-07T20:11:48.462889Z",
     "iopub.status.idle": "2022-09-07T20:11:48.479422Z",
     "shell.execute_reply": "2022-09-07T20:11:48.478706Z"
    },
    "papermill": {
     "duration": 0.058837,
     "end_time": "2022-09-07T20:11:48.479582",
     "exception": false,
     "start_time": "2022-09-07T20:11:48.420745",
     "status": "completed"
    },
    "tags": []
   },
   "outputs": [],
   "source": [
    "lr_learner = Learner(loss, model_lr, opt, config.num_epochs)\n",
    "acc_lr = ClfCallback(lr_learner, config.bs, training_data_x , testing_data_x, training_data_y, testing_data_y)\n",
    "lr_learner.set_callbacks([acc_lr])"
   ]
  },
  {
   "cell_type": "code",
   "execution_count": 22,
   "id": "d9b133c3",
   "metadata": {
    "execution": {
     "iopub.execute_input": "2022-09-07T20:11:48.559254Z",
     "iopub.status.busy": "2022-09-07T20:11:48.558449Z",
     "iopub.status.idle": "2022-09-07T20:14:14.619105Z",
     "shell.execute_reply": "2022-09-07T20:14:14.620221Z"
    },
    "papermill": {
     "duration": 146.104877,
     "end_time": "2022-09-07T20:14:14.620396",
     "exception": false,
     "start_time": "2022-09-07T20:11:48.515519",
     "status": "completed"
    },
    "tags": []
   },
   "outputs": [
    {
     "name": "stdout",
     "output_type": "stream",
     "text": [
      "Epoch 0, Loss 0.2539\n",
      "Training Accuracy: 0.5086, Testing Accuracy: 0.5318\n",
      "\n"
     ]
    },
    {
     "name": "stdout",
     "output_type": "stream",
     "text": [
      "Epoch 10, Loss 0.1843\n",
      "Training Accuracy: 0.8865, Testing Accuracy: 0.8967\n",
      "\n"
     ]
    },
    {
     "name": "stdout",
     "output_type": "stream",
     "text": [
      "Epoch 20, Loss 0.0908\n",
      "Training Accuracy: 0.9169, Testing Accuracy: 0.9289\n",
      "\n"
     ]
    },
    {
     "name": "stdout",
     "output_type": "stream",
     "text": [
      "Epoch 30, Loss 0.0603\n",
      "Training Accuracy: 0.9380, Testing Accuracy: 0.9466\n",
      "\n"
     ]
    },
    {
     "name": "stdout",
     "output_type": "stream",
     "text": [
      "Epoch 40, Loss 0.0479\n",
      "Training Accuracy: 0.9476, Testing Accuracy: 0.9551\n",
      "\n"
     ]
    },
    {
     "name": "stdout",
     "output_type": "stream",
     "text": [
      "Epoch 50, Loss 0.0414\n",
      "Training Accuracy: 0.9522, Testing Accuracy: 0.9627\n",
      "\n"
     ]
    },
    {
     "name": "stdout",
     "output_type": "stream",
     "text": [
      "Epoch 60, Loss 0.0374\n",
      "Training Accuracy: 0.9573, Testing Accuracy: 0.9652\n",
      "\n"
     ]
    },
    {
     "name": "stdout",
     "output_type": "stream",
     "text": [
      "Epoch 70, Loss 0.0347\n",
      "Training Accuracy: 0.9598, Testing Accuracy: 0.9672\n",
      "\n"
     ]
    },
    {
     "name": "stdout",
     "output_type": "stream",
     "text": [
      "Epoch 80, Loss 0.0326\n",
      "Training Accuracy: 0.9617, Testing Accuracy: 0.9672\n",
      "\n"
     ]
    },
    {
     "name": "stdout",
     "output_type": "stream",
     "text": [
      "Epoch 90, Loss 0.031\n",
      "Training Accuracy: 0.9637, Testing Accuracy: 0.9688\n",
      "\n"
     ]
    },
    {
     "name": "stdout",
     "output_type": "stream",
     "text": [
      "Epoch 100, Loss 0.0297\n",
      "Training Accuracy: 0.9651, Testing Accuracy: 0.9688\n",
      "\n"
     ]
    },
    {
     "name": "stdout",
     "output_type": "stream",
     "text": [
      "Epoch 110, Loss 0.0286\n",
      "Training Accuracy: 0.9659, Testing Accuracy: 0.9682\n",
      "\n"
     ]
    },
    {
     "name": "stdout",
     "output_type": "stream",
     "text": [
      "Epoch 120, Loss 0.0276\n",
      "Training Accuracy: 0.9670, Testing Accuracy: 0.9682\n",
      "\n"
     ]
    },
    {
     "name": "stdout",
     "output_type": "stream",
     "text": [
      "Epoch 130, Loss 0.0267\n",
      "Training Accuracy: 0.9682, Testing Accuracy: 0.9677\n",
      "\n"
     ]
    },
    {
     "name": "stdout",
     "output_type": "stream",
     "text": [
      "Epoch 140, Loss 0.0259\n",
      "Training Accuracy: 0.9690, Testing Accuracy: 0.9688\n",
      "\n"
     ]
    },
    {
     "name": "stdout",
     "output_type": "stream",
     "text": [
      "Epoch 150, Loss 0.0252\n",
      "Training Accuracy: 0.9698, Testing Accuracy: 0.9698\n",
      "\n"
     ]
    },
    {
     "name": "stdout",
     "output_type": "stream",
     "text": [
      "Epoch 160, Loss 0.0245\n",
      "Training Accuracy: 0.9709, Testing Accuracy: 0.9698\n",
      "\n"
     ]
    },
    {
     "name": "stdout",
     "output_type": "stream",
     "text": [
      "Epoch 170, Loss 0.0239\n",
      "Training Accuracy: 0.9716, Testing Accuracy: 0.9698\n",
      "\n"
     ]
    },
    {
     "name": "stdout",
     "output_type": "stream",
     "text": [
      "Epoch 180, Loss 0.0234\n",
      "Training Accuracy: 0.9721, Testing Accuracy: 0.9708\n",
      "\n"
     ]
    },
    {
     "name": "stdout",
     "output_type": "stream",
     "text": [
      "Epoch 190, Loss 0.0228\n",
      "Training Accuracy: 0.9726, Testing Accuracy: 0.9703\n",
      "\n"
     ]
    },
    {
     "name": "stdout",
     "output_type": "stream",
     "text": [
      "Epoch 200, Loss 0.0223\n",
      "Training Accuracy: 0.9737, Testing Accuracy: 0.9698\n",
      "\n"
     ]
    },
    {
     "name": "stdout",
     "output_type": "stream",
     "text": [
      "Epoch 210, Loss 0.0218\n",
      "Training Accuracy: 0.9742, Testing Accuracy: 0.9708\n",
      "\n"
     ]
    },
    {
     "name": "stdout",
     "output_type": "stream",
     "text": [
      "Epoch 220, Loss 0.0214\n",
      "Training Accuracy: 0.9752, Testing Accuracy: 0.9708\n",
      "\n"
     ]
    },
    {
     "name": "stdout",
     "output_type": "stream",
     "text": [
      "Epoch 230, Loss 0.021\n",
      "Training Accuracy: 0.9760, Testing Accuracy: 0.9713\n",
      "\n"
     ]
    },
    {
     "name": "stdout",
     "output_type": "stream",
     "text": [
      "Epoch 240, Loss 0.0205\n",
      "Training Accuracy: 0.9765, Testing Accuracy: 0.9728\n",
      "\n"
     ]
    },
    {
     "data": {
      "text/plain": [
       "0.07347492709772754"
      ]
     },
     "execution_count": 22,
     "metadata": {},
     "output_type": "execute_result"
    }
   ],
   "source": [
    "nn_learner.train_loop(dl)"
   ]
  },
  {
   "cell_type": "code",
   "execution_count": 23,
   "id": "e0163366",
   "metadata": {
    "execution": {
     "iopub.execute_input": "2022-09-07T20:14:14.730794Z",
     "iopub.status.busy": "2022-09-07T20:14:14.729909Z",
     "iopub.status.idle": "2022-09-07T20:14:35.458049Z",
     "shell.execute_reply": "2022-09-07T20:14:35.459232Z"
    },
    "papermill": {
     "duration": 20.791345,
     "end_time": "2022-09-07T20:14:35.459459",
     "exception": false,
     "start_time": "2022-09-07T20:14:14.668114",
     "status": "completed"
    },
    "tags": []
   },
   "outputs": [
    {
     "name": "stdout",
     "output_type": "stream",
     "text": [
      "Epoch 0, Loss 0.2223\n",
      "Training Accuracy: 0.7672, Testing Accuracy: 0.7505\n",
      "\n"
     ]
    },
    {
     "name": "stdout",
     "output_type": "stream",
     "text": [
      "Epoch 10, Loss 0.1012\n",
      "Training Accuracy: 0.9127, Testing Accuracy: 0.9239\n",
      "\n"
     ]
    },
    {
     "name": "stdout",
     "output_type": "stream",
     "text": [
      "Epoch 20, Loss 0.0787\n",
      "Training Accuracy: 0.9273, Testing Accuracy: 0.9385\n",
      "\n"
     ]
    },
    {
     "name": "stdout",
     "output_type": "stream",
     "text": [
      "Epoch 30, Loss 0.0681\n",
      "Training Accuracy: 0.9357, Testing Accuracy: 0.9481\n",
      "\n"
     ]
    },
    {
     "name": "stdout",
     "output_type": "stream",
     "text": [
      "Epoch 40, Loss 0.0617\n",
      "Training Accuracy: 0.9392, Testing Accuracy: 0.9521\n",
      "\n"
     ]
    },
    {
     "name": "stdout",
     "output_type": "stream",
     "text": [
      "Epoch 50, Loss 0.0574\n",
      "Training Accuracy: 0.9437, Testing Accuracy: 0.9541\n",
      "\n"
     ]
    },
    {
     "name": "stdout",
     "output_type": "stream",
     "text": [
      "Epoch 60, Loss 0.0541\n",
      "Training Accuracy: 0.9455, Testing Accuracy: 0.9572\n",
      "\n"
     ]
    },
    {
     "name": "stdout",
     "output_type": "stream",
     "text": [
      "Epoch 70, Loss 0.0516\n",
      "Training Accuracy: 0.9481, Testing Accuracy: 0.9577\n",
      "\n"
     ]
    },
    {
     "name": "stdout",
     "output_type": "stream",
     "text": [
      "Epoch 80, Loss 0.0496\n",
      "Training Accuracy: 0.9492, Testing Accuracy: 0.9587\n",
      "\n"
     ]
    },
    {
     "name": "stdout",
     "output_type": "stream",
     "text": [
      "Epoch 90, Loss 0.0479\n",
      "Training Accuracy: 0.9507, Testing Accuracy: 0.9592\n",
      "\n"
     ]
    },
    {
     "name": "stdout",
     "output_type": "stream",
     "text": [
      "Epoch 100, Loss 0.0465\n",
      "Training Accuracy: 0.9513, Testing Accuracy: 0.9602\n",
      "\n"
     ]
    },
    {
     "name": "stdout",
     "output_type": "stream",
     "text": [
      "Epoch 110, Loss 0.0453\n",
      "Training Accuracy: 0.9533, Testing Accuracy: 0.9622\n",
      "\n"
     ]
    },
    {
     "name": "stdout",
     "output_type": "stream",
     "text": [
      "Epoch 120, Loss 0.0442\n",
      "Training Accuracy: 0.9543, Testing Accuracy: 0.9632\n",
      "\n"
     ]
    },
    {
     "name": "stdout",
     "output_type": "stream",
     "text": [
      "Epoch 130, Loss 0.0433\n",
      "Training Accuracy: 0.9549, Testing Accuracy: 0.9632\n",
      "\n"
     ]
    },
    {
     "name": "stdout",
     "output_type": "stream",
     "text": [
      "Epoch 140, Loss 0.0424\n",
      "Training Accuracy: 0.9553, Testing Accuracy: 0.9642\n",
      "\n"
     ]
    },
    {
     "name": "stdout",
     "output_type": "stream",
     "text": [
      "Epoch 150, Loss 0.0417\n",
      "Training Accuracy: 0.9556, Testing Accuracy: 0.9637\n",
      "\n"
     ]
    },
    {
     "name": "stdout",
     "output_type": "stream",
     "text": [
      "Epoch 160, Loss 0.041\n",
      "Training Accuracy: 0.9564, Testing Accuracy: 0.9642\n",
      "\n"
     ]
    },
    {
     "name": "stdout",
     "output_type": "stream",
     "text": [
      "Epoch 170, Loss 0.0404\n",
      "Training Accuracy: 0.9569, Testing Accuracy: 0.9642\n",
      "\n"
     ]
    },
    {
     "name": "stdout",
     "output_type": "stream",
     "text": [
      "Epoch 180, Loss 0.0398\n",
      "Training Accuracy: 0.9575, Testing Accuracy: 0.9652\n",
      "\n"
     ]
    },
    {
     "name": "stdout",
     "output_type": "stream",
     "text": [
      "Epoch 190, Loss 0.0393\n",
      "Training Accuracy: 0.9581, Testing Accuracy: 0.9662\n",
      "\n"
     ]
    },
    {
     "name": "stdout",
     "output_type": "stream",
     "text": [
      "Epoch 200, Loss 0.0388\n",
      "Training Accuracy: 0.9584, Testing Accuracy: 0.9667\n",
      "\n"
     ]
    },
    {
     "name": "stdout",
     "output_type": "stream",
     "text": [
      "Epoch 210, Loss 0.0384\n",
      "Training Accuracy: 0.9591, Testing Accuracy: 0.9672\n",
      "\n"
     ]
    },
    {
     "name": "stdout",
     "output_type": "stream",
     "text": [
      "Epoch 220, Loss 0.038\n",
      "Training Accuracy: 0.9594, Testing Accuracy: 0.9672\n",
      "\n"
     ]
    },
    {
     "name": "stdout",
     "output_type": "stream",
     "text": [
      "Epoch 230, Loss 0.0376\n",
      "Training Accuracy: 0.9596, Testing Accuracy: 0.9677\n",
      "\n"
     ]
    },
    {
     "name": "stdout",
     "output_type": "stream",
     "text": [
      "Epoch 240, Loss 0.0372\n",
      "Training Accuracy: 0.9599, Testing Accuracy: 0.9677\n",
      "\n"
     ]
    },
    {
     "data": {
      "text/plain": [
       "0.014227082534545384"
      ]
     },
     "execution_count": 23,
     "metadata": {},
     "output_type": "execute_result"
    }
   ],
   "source": [
    "lr_learner.train_loop(dl)"
   ]
  },
  {
   "cell_type": "code",
   "execution_count": 24,
   "id": "ca410940",
   "metadata": {
    "execution": {
     "iopub.execute_input": "2022-09-07T20:14:35.576687Z",
     "iopub.status.busy": "2022-09-07T20:14:35.575898Z",
     "iopub.status.idle": "2022-09-07T20:14:35.908143Z",
     "shell.execute_reply": "2022-09-07T20:14:35.907453Z"
    },
    "papermill": {
     "duration": 0.392221,
     "end_time": "2022-09-07T20:14:35.908293",
     "exception": false,
     "start_time": "2022-09-07T20:14:35.516072",
     "status": "completed"
    },
    "tags": []
   },
   "outputs": [
    {
     "data": {
      "text/plain": [
       "<matplotlib.legend.Legend at 0x7fad2fb8c3c8>"
      ]
     },
     "execution_count": 24,
     "metadata": {},
     "output_type": "execute_result"
    },
    {
     "data": {
      "image/png": "[encoded data removed]",
      "text/plain": [
       "<Figure size 1080x720 with 1 Axes>"
      ]
     },
     "metadata": {
      "needs_background": "light"
     },
     "output_type": "display_data"
    }
   ],
   "source": [
    "#comparing the results of NN and LR\n",
    "plt.figure(figsize=(15,10))\n",
    "\n",
    "# Neural Network plots\n",
    "plt.plot(acc_nn.accuracies, 'r-', label = \"Training Accuracies - NN\")\n",
    "plt.plot(acc_nn.test_accuracies, 'g-', label = \"Testing Accuracies - NN\")\n",
    "\n",
    "# Logistic Regression plots\n",
    "plt.plot(acc_lr.accuracies, 'k-', label = \"Training Accuracies - LR\")\n",
    "plt.plot(acc_lr.test_accuracies, 'b-', label = \"Testing Accuracies - LR\")\n",
    "plt.legend()"
   ]
  },
  {
   "cell_type": "markdown",
   "id": "80dfb35c",
   "metadata": {
    "papermill": {
     "duration": 0.062529,
     "end_time": "2022-09-07T20:14:36.027011",
     "exception": false,
     "start_time": "2022-09-07T20:14:35.964482",
     "status": "completed"
    },
    "tags": []
   },
   "source": [
    "#### Plotting the outputs of this layer of the NN.\n"
   ]
  },
  {
   "cell_type": "code",
   "execution_count": 25,
   "id": "45eb2ff5",
   "metadata": {
    "execution": {
     "iopub.execute_input": "2022-09-07T20:14:36.146485Z",
     "iopub.status.busy": "2022-09-07T20:14:36.145734Z",
     "iopub.status.idle": "2022-09-07T20:14:36.175794Z",
     "shell.execute_reply": "2022-09-07T20:14:36.175154Z"
    },
    "papermill": {
     "duration": 0.093491,
     "end_time": "2022-09-07T20:14:36.175945",
     "exception": false,
     "start_time": "2022-09-07T20:14:36.082454",
     "status": "completed"
    },
    "tags": []
   },
   "outputs": [],
   "source": [
    "new_model = Model(layers[:-2])\n",
    "testing_plot = new_model(testing_data_x)"
   ]
  },
  {
   "cell_type": "code",
   "execution_count": 26,
   "id": "4c0a5485",
   "metadata": {
    "execution": {
     "iopub.execute_input": "2022-09-07T20:14:36.295459Z",
     "iopub.status.busy": "2022-09-07T20:14:36.294684Z",
     "iopub.status.idle": "2022-09-07T20:14:36.600428Z",
     "shell.execute_reply": "2022-09-07T20:14:36.599800Z"
    },
    "papermill": {
     "duration": 0.367638,
     "end_time": "2022-09-07T20:14:36.600598",
     "exception": false,
     "start_time": "2022-09-07T20:14:36.232960",
     "status": "completed"
    },
    "tags": []
   },
   "outputs": [
    {
     "data": {
      "text/plain": [
       "Text(0.5, 1.0, 'Outputs')"
      ]
     },
     "execution_count": 26,
     "metadata": {},
     "output_type": "execute_result"
    },
    {
     "data": {
      "image/png": "[encoded data removed]",
      "text/plain": [
       "<Figure size 576x504 with 1 Axes>"
      ]
     },
     "metadata": {
      "needs_background": "light"
     },
     "output_type": "display_data"
    }
   ],
   "source": [
    "# Plotting the scatter plot of points and color coding by class\n",
    "plt.figure(figsize=(8,7))\n",
    "plt.scatter(testing_plot[:,0], testing_plot[:,1], alpha = 0.1, c = y_test.ravel());\n",
    "plt.title('Outputs')"
   ]
  },
  {
   "cell_type": "markdown",
   "id": "a74fcf8f",
   "metadata": {
    "papermill": {
     "duration": 0.089921,
     "end_time": "2022-09-07T20:14:36.749026",
     "exception": false,
     "start_time": "2022-09-07T20:14:36.659105",
     "status": "completed"
    },
    "tags": []
   },
   "source": [
    "Probability contours"
   ]
  },
  {
   "cell_type": "code",
   "execution_count": 27,
   "id": "d0afc8e3",
   "metadata": {
    "execution": {
     "iopub.execute_input": "2022-09-07T20:14:36.875473Z",
     "iopub.status.busy": "2022-09-07T20:14:36.873866Z",
     "iopub.status.idle": "2022-09-07T20:14:36.888062Z",
     "shell.execute_reply": "2022-09-07T20:14:36.888781Z"
    },
    "papermill": {
     "duration": 0.080616,
     "end_time": "2022-09-07T20:14:36.888954",
     "exception": false,
     "start_time": "2022-09-07T20:14:36.808338",
     "status": "completed"
    },
    "tags": []
   },
   "outputs": [],
   "source": [
    "model_prob = Model(layers[-2:]) "
   ]
  },
  {
   "cell_type": "code",
   "execution_count": 28,
   "id": "9b96e238",
   "metadata": {
    "execution": {
     "iopub.execute_input": "2022-09-07T20:14:37.021406Z",
     "iopub.status.busy": "2022-09-07T20:14:37.020614Z",
     "iopub.status.idle": "2022-09-07T20:14:37.037680Z",
     "shell.execute_reply": "2022-09-07T20:14:37.038257Z"
    },
    "papermill": {
     "duration": 0.083326,
     "end_time": "2022-09-07T20:14:37.038466",
     "exception": false,
     "start_time": "2022-09-07T20:14:36.955140",
     "status": "completed"
    },
    "tags": []
   },
   "outputs": [],
   "source": [
    "#creating the x and y ranges according to the above generated plot.\n",
    "x_range = np.linspace(-4, 1, 100) \n",
    "y_range = np.linspace(-6, 6, 100) \n",
    "x_grid, y_grid = np.meshgrid(x_range, y_range) # x_grid and y_grig are of size 100 X 100\n",
    "\n",
    "# converting x_grid and y_grid to continuous arrays\n",
    "x_gridflat = np.ravel(x_grid)\n",
    "y_gridflat = np.ravel(y_grid)\n",
    "\n",
    "# The last layer of the current model takes two columns as input. Hence transpose of np.vstack() is required.\n",
    "X = np.vstack((x_gridflat, y_gridflat)).T\n",
    "\n",
    "prob_contour = model_prob(X).reshape(100,100) "
   ]
  },
  {
   "cell_type": "code",
   "execution_count": 29,
   "id": "da72499a",
   "metadata": {
    "execution": {
     "iopub.execute_input": "2022-09-07T20:14:37.161500Z",
     "iopub.status.busy": "2022-09-07T20:14:37.160736Z",
     "iopub.status.idle": "2022-09-07T20:14:37.511437Z",
     "shell.execute_reply": "2022-09-07T20:14:37.510794Z"
    },
    "papermill": {
     "duration": 0.413877,
     "end_time": "2022-09-07T20:14:37.511602",
     "exception": false,
     "start_time": "2022-09-07T20:14:37.097725",
     "status": "completed"
    },
    "tags": []
   },
   "outputs": [
    {
     "data": {
      "image/png": "[encoded data removed]",
      "text/plain": [
       "<Figure size 720x648 with 1 Axes>"
      ]
     },
     "metadata": {
      "needs_background": "light"
     },
     "output_type": "display_data"
    }
   ],
   "source": [
    "plt.figure(figsize=(10,9))\n",
    "plt.scatter(testing_plot[:,0], testing_plot[:,1], alpha = 0.1, c = y_test.ravel())\n",
    "contours = plt.contour(x_grid,y_grid,prob_contour)\n",
    "plt.title('Probability Contours')\n",
    "plt.clabel(contours, inline = True );"
   ]
  },
  {
   "cell_type": "code",
   "execution_count": null,
   "id": "e81b4ac7",
   "metadata": {
    "papermill": {
     "duration": 0.061456,
     "end_time": "2022-09-07T20:14:37.634974",
     "exception": false,
     "start_time": "2022-09-07T20:14:37.573518",
     "status": "completed"
    },
    "tags": []
   },
   "outputs": [],
   "source": []
  }
 ],
 "metadata": {
  "kernelspec": {
   "display_name": "Python 3",
   "language": "python",
   "name": "python3"
  },
  "language_info": {
   "codemirror_mode": {
    "name": "ipython",
    "version": 3
   },
   "file_extension": ".py",
   "mimetype": "text/x-python",
   "name": "python",
   "nbconvert_exporter": "python",
   "pygments_lexer": "ipython3",
   "version": "3.6.15"
  },
  "papermill": {
   "default_parameters": {},
   "duration": 177.525252,
   "end_time": "2022-09-07T20:14:38.226439",
   "environment_variables": {},
   "exception": null,
   "input_path": "2020-08-11-part2.ipynb",
   "output_path": "2020-08-11-part2.ipynb",
   "parameters": {},
   "start_time": "2022-09-07T20:11:40.701187",
   "version": "2.3.3"
  }
 },
 "nbformat": 4,
 "nbformat_minor": 5
}