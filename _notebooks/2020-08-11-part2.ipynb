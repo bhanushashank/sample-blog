{
 "cells": [
  {
   "cell_type": "markdown",
   "id": "98380cd3",
   "metadata": {
    "papermill": {
     "duration": 0.026032,
     "end_time": "2021-12-29T10:09:02.637755",
     "exception": false,
     "start_time": "2021-12-29T10:09:02.611723",
     "status": "completed"
    },
    "tags": []
   },
   "source": [
    "# Distinguish Your Own Digits (DYOD)"
   ]
  },
  {
   "cell_type": "markdown",
   "id": "ef31240d",
   "metadata": {
    "papermill": {
     "duration": 0.020282,
     "end_time": "2021-12-29T10:09:02.679046",
     "exception": false,
     "start_time": "2021-12-29T10:09:02.658764",
     "status": "completed"
    },
    "tags": []
   },
   "source": [
    "You are going to write a classifier that distinguishes between the number 3 and number 8."
   ]
  },
  {
   "cell_type": "code",
   "execution_count": 1,
   "id": "b15c8646",
   "metadata": {
    "execution": {
     "iopub.execute_input": "2021-12-29T10:09:02.730355Z",
     "iopub.status.busy": "2021-12-29T10:09:02.729883Z",
     "iopub.status.idle": "2021-12-29T10:09:02.739350Z",
     "shell.execute_reply": "2021-12-29T10:09:02.739840Z"
    },
    "papermill": {
     "duration": 0.040948,
     "end_time": "2021-12-29T10:09:02.739968",
     "exception": false,
     "start_time": "2021-12-29T10:09:02.699020",
     "status": "completed"
    },
    "tags": []
   },
   "outputs": [],
   "source": [
    "%load_ext autoreload\n",
    "%autoreload 2"
   ]
  },
  {
   "cell_type": "code",
   "execution_count": 2,
   "id": "22ef38dc",
   "metadata": {
    "execution": {
     "iopub.execute_input": "2021-12-29T10:09:02.789281Z",
     "iopub.status.busy": "2021-12-29T10:09:02.788828Z",
     "iopub.status.idle": "2021-12-29T10:09:03.353106Z",
     "shell.execute_reply": "2021-12-29T10:09:03.353487Z"
    },
    "papermill": {
     "duration": 0.59305,
     "end_time": "2021-12-29T10:09:03.353625",
     "exception": false,
     "start_time": "2021-12-29T10:09:02.760575",
     "status": "completed"
    },
    "tags": []
   },
   "outputs": [],
   "source": [
    "%matplotlib inline\n",
    "import numpy as np\n",
    "import matplotlib.pyplot as plt\n",
    "import pandas as pd"
   ]
  },
  {
   "cell_type": "markdown",
   "id": "ba036198",
   "metadata": {
    "papermill": {
     "duration": 0.020549,
     "end_time": "2021-12-29T10:09:03.394941",
     "exception": false,
     "start_time": "2021-12-29T10:09:03.374392",
     "status": "completed"
    },
    "tags": []
   },
   "source": [
    "From the command line run `pip install mnist`. This is a library that will help you bring down the mnist dataset. If you run this from a notebook, you need to put  `!pip install mnist` in a cell by itself."
   ]
  },
  {
   "cell_type": "code",
   "execution_count": 3,
   "id": "bb6ad8a1",
   "metadata": {
    "execution": {
     "iopub.execute_input": "2021-12-29T10:09:03.452351Z",
     "iopub.status.busy": "2021-12-29T10:09:03.449793Z",
     "iopub.status.idle": "2021-12-29T10:09:05.180041Z",
     "shell.execute_reply": "2021-12-29T10:09:05.179438Z"
    },
    "papermill": {
     "duration": 1.764703,
     "end_time": "2021-12-29T10:09:05.180174",
     "exception": false,
     "start_time": "2021-12-29T10:09:03.415471",
     "status": "completed"
    },
    "tags": []
   },
   "outputs": [
    {
     "name": "stdout",
     "output_type": "stream",
     "text": [
      "Collecting mnist\r\n"
     ]
    },
    {
     "name": "stdout",
     "output_type": "stream",
     "text": [
      "  Downloading mnist-0.2.2-py2.py3-none-any.whl (3.5 kB)\r\n",
      "Requirement already satisfied: numpy in /opt/hostedtoolcache/Python/3.6.15/x64/lib/python3.6/site-packages (from mnist) (1.19.5)\r\n"
     ]
    },
    {
     "name": "stdout",
     "output_type": "stream",
     "text": [
      "Installing collected packages: mnist\r\n"
     ]
    },
    {
     "name": "stdout",
     "output_type": "stream",
     "text": [
      "Successfully installed mnist-0.2.2\r\n"
     ]
    }
   ],
   "source": [
    "!pip install mnist"
   ]
  },
  {
   "cell_type": "markdown",
   "id": "69df9c9a",
   "metadata": {
    "papermill": {
     "duration": 0.021721,
     "end_time": "2021-12-29T10:09:05.224349",
     "exception": false,
     "start_time": "2021-12-29T10:09:05.202628",
     "status": "completed"
    },
    "tags": []
   },
   "source": [
    "## Preparing the Data"
   ]
  },
  {
   "cell_type": "code",
   "execution_count": 4,
   "id": "7f69d806",
   "metadata": {
    "execution": {
     "iopub.execute_input": "2021-12-29T10:09:05.283157Z",
     "iopub.status.busy": "2021-12-29T10:09:05.274257Z",
     "iopub.status.idle": "2021-12-29T10:09:05.286684Z",
     "shell.execute_reply": "2021-12-29T10:09:05.286352Z"
    },
    "papermill": {
     "duration": 0.041333,
     "end_time": "2021-12-29T10:09:05.286776",
     "exception": false,
     "start_time": "2021-12-29T10:09:05.245443",
     "status": "completed"
    },
    "tags": []
   },
   "outputs": [],
   "source": [
    "import mnist"
   ]
  },
  {
   "cell_type": "code",
   "execution_count": 5,
   "id": "a411e44f",
   "metadata": {
    "execution": {
     "iopub.execute_input": "2021-12-29T10:09:05.335521Z",
     "iopub.status.busy": "2021-12-29T10:09:05.335095Z",
     "iopub.status.idle": "2021-12-29T10:09:05.891793Z",
     "shell.execute_reply": "2021-12-29T10:09:05.892279Z"
    },
    "papermill": {
     "duration": 0.584619,
     "end_time": "2021-12-29T10:09:05.892443",
     "exception": false,
     "start_time": "2021-12-29T10:09:05.307824",
     "status": "completed"
    },
    "tags": []
   },
   "outputs": [],
   "source": [
    "train_images = mnist.train_images()\n",
    "train_labels = mnist.train_labels()"
   ]
  },
  {
   "cell_type": "code",
   "execution_count": 6,
   "id": "dceab3a5",
   "metadata": {
    "execution": {
     "iopub.execute_input": "2021-12-29T10:09:05.940584Z",
     "iopub.status.busy": "2021-12-29T10:09:05.940129Z",
     "iopub.status.idle": "2021-12-29T10:09:05.953768Z",
     "shell.execute_reply": "2021-12-29T10:09:05.953404Z"
    },
    "papermill": {
     "duration": 0.03947,
     "end_time": "2021-12-29T10:09:05.953868",
     "exception": false,
     "start_time": "2021-12-29T10:09:05.914398",
     "status": "completed"
    },
    "tags": []
   },
   "outputs": [
    {
     "data": {
      "text/plain": [
       "((60000, 28, 28), (60000,))"
      ]
     },
     "execution_count": 6,
     "metadata": {},
     "output_type": "execute_result"
    }
   ],
   "source": [
    "train_images.shape, train_labels.shape"
   ]
  },
  {
   "cell_type": "code",
   "execution_count": 7,
   "id": "f50dc2bb",
   "metadata": {
    "execution": {
     "iopub.execute_input": "2021-12-29T10:09:06.003130Z",
     "iopub.status.busy": "2021-12-29T10:09:06.002679Z",
     "iopub.status.idle": "2021-12-29T10:09:06.238330Z",
     "shell.execute_reply": "2021-12-29T10:09:06.237355Z"
    },
    "papermill": {
     "duration": 0.262395,
     "end_time": "2021-12-29T10:09:06.238472",
     "exception": false,
     "start_time": "2021-12-29T10:09:05.976077",
     "status": "completed"
    },
    "tags": []
   },
   "outputs": [],
   "source": [
    "test_images = mnist.test_images()\n",
    "test_labels = mnist.test_labels()"
   ]
  },
  {
   "cell_type": "code",
   "execution_count": 8,
   "id": "fc38cf1b",
   "metadata": {
    "execution": {
     "iopub.execute_input": "2021-12-29T10:09:06.286011Z",
     "iopub.status.busy": "2021-12-29T10:09:06.285559Z",
     "iopub.status.idle": "2021-12-29T10:09:06.298468Z",
     "shell.execute_reply": "2021-12-29T10:09:06.298078Z"
    },
    "papermill": {
     "duration": 0.037851,
     "end_time": "2021-12-29T10:09:06.298570",
     "exception": false,
     "start_time": "2021-12-29T10:09:06.260719",
     "status": "completed"
    },
    "tags": []
   },
   "outputs": [
    {
     "data": {
      "text/plain": [
       "((10000, 28, 28), (10000,))"
      ]
     },
     "execution_count": 8,
     "metadata": {},
     "output_type": "execute_result"
    }
   ],
   "source": [
    "test_images.shape, test_labels.shape"
   ]
  },
  {
   "cell_type": "code",
   "execution_count": 9,
   "id": "f9ed8fe0",
   "metadata": {
    "execution": {
     "iopub.execute_input": "2021-12-29T10:09:06.346258Z",
     "iopub.status.busy": "2021-12-29T10:09:06.345808Z",
     "iopub.status.idle": "2021-12-29T10:09:06.483689Z",
     "shell.execute_reply": "2021-12-29T10:09:06.483271Z"
    },
    "papermill": {
     "duration": 0.163024,
     "end_time": "2021-12-29T10:09:06.483807",
     "exception": false,
     "start_time": "2021-12-29T10:09:06.320783",
     "status": "completed"
    },
    "tags": []
   },
   "outputs": [
    {
     "name": "stdout",
     "output_type": "stream",
     "text": [
      "2\n"
     ]
    },
    {
     "data": {
      "text/plain": [
       "<matplotlib.image.AxesImage at 0x7f7d769cd518>"
      ]
     },
     "execution_count": 9,
     "metadata": {},
     "output_type": "execute_result"
    },
    {
     "data": {
      "image/png": "[encoded data removed]",
      "text/plain": [
       "<Figure size 432x288 with 1 Axes>"
      ]
     },
     "metadata": {
      "needs_background": "light"
     },
     "output_type": "display_data"
    }
   ],
   "source": [
    "image_index = 7776 # You may select anything up to 60,000\n",
    "print(train_labels[image_index]) \n",
    "plt.imshow(train_images[image_index], cmap='Greys')"
   ]
  },
  {
   "cell_type": "markdown",
   "id": "a8d2388d",
   "metadata": {
    "papermill": {
     "duration": 0.023704,
     "end_time": "2021-12-29T10:09:06.530968",
     "exception": false,
     "start_time": "2021-12-29T10:09:06.507264",
     "status": "completed"
    },
    "tags": []
   },
   "source": [
    "## Filter data to get 3 and 8 out"
   ]
  },
  {
   "cell_type": "code",
   "execution_count": 10,
   "id": "776f7fc7",
   "metadata": {
    "execution": {
     "iopub.execute_input": "2021-12-29T10:09:06.581542Z",
     "iopub.status.busy": "2021-12-29T10:09:06.581078Z",
     "iopub.status.idle": "2021-12-29T10:09:06.599389Z",
     "shell.execute_reply": "2021-12-29T10:09:06.599019Z"
    },
    "papermill": {
     "duration": 0.045267,
     "end_time": "2021-12-29T10:09:06.599515",
     "exception": false,
     "start_time": "2021-12-29T10:09:06.554248",
     "status": "completed"
    },
    "tags": []
   },
   "outputs": [],
   "source": [
    "train_filter = np.where((train_labels == 3 ) | (train_labels == 8))\n",
    "test_filter = np.where((test_labels == 3) | (test_labels == 8))\n",
    "X_train, y_train = train_images[train_filter], train_labels[train_filter]\n",
    "X_test, y_test = test_images[test_filter], test_labels[test_filter]"
   ]
  },
  {
   "cell_type": "markdown",
   "id": "948f0b7e",
   "metadata": {
    "papermill": {
     "duration": 0.022546,
     "end_time": "2021-12-29T10:09:06.644504",
     "exception": false,
     "start_time": "2021-12-29T10:09:06.621958",
     "status": "completed"
    },
    "tags": []
   },
   "source": [
    "We normalize the pizel values in the 0 to 1 range"
   ]
  },
  {
   "cell_type": "code",
   "execution_count": 11,
   "id": "ee4c2166",
   "metadata": {
    "execution": {
     "iopub.execute_input": "2021-12-29T10:09:06.696038Z",
     "iopub.status.busy": "2021-12-29T10:09:06.695585Z",
     "iopub.status.idle": "2021-12-29T10:09:06.740985Z",
     "shell.execute_reply": "2021-12-29T10:09:06.741445Z"
    },
    "papermill": {
     "duration": 0.074546,
     "end_time": "2021-12-29T10:09:06.741604",
     "exception": false,
     "start_time": "2021-12-29T10:09:06.667058",
     "status": "completed"
    },
    "tags": []
   },
   "outputs": [],
   "source": [
    "X_train = X_train/255.\n",
    "X_test = X_test/255."
   ]
  },
  {
   "cell_type": "markdown",
   "id": "ddcf4fab",
   "metadata": {
    "papermill": {
     "duration": 0.023186,
     "end_time": "2021-12-29T10:09:06.789309",
     "exception": false,
     "start_time": "2021-12-29T10:09:06.766123",
     "status": "completed"
    },
    "tags": []
   },
   "source": [
    "And setup the labels as 1 (when the digit is 3) and 0 (when the digit is 8)"
   ]
  },
  {
   "cell_type": "code",
   "execution_count": 12,
   "id": "7dc908f2",
   "metadata": {
    "execution": {
     "iopub.execute_input": "2021-12-29T10:09:06.839238Z",
     "iopub.status.busy": "2021-12-29T10:09:06.838780Z",
     "iopub.status.idle": "2021-12-29T10:09:06.850811Z",
     "shell.execute_reply": "2021-12-29T10:09:06.851234Z"
    },
    "papermill": {
     "duration": 0.038817,
     "end_time": "2021-12-29T10:09:06.851353",
     "exception": false,
     "start_time": "2021-12-29T10:09:06.812536",
     "status": "completed"
    },
    "tags": []
   },
   "outputs": [],
   "source": [
    "y_train = 1*(y_train==3)\n",
    "y_test = 1*(y_test==3)"
   ]
  },
  {
   "cell_type": "code",
   "execution_count": 13,
   "id": "01e4e969",
   "metadata": {
    "execution": {
     "iopub.execute_input": "2021-12-29T10:09:06.901643Z",
     "iopub.status.busy": "2021-12-29T10:09:06.901195Z",
     "iopub.status.idle": "2021-12-29T10:09:06.913860Z",
     "shell.execute_reply": "2021-12-29T10:09:06.913473Z"
    },
    "papermill": {
     "duration": 0.039428,
     "end_time": "2021-12-29T10:09:06.913959",
     "exception": false,
     "start_time": "2021-12-29T10:09:06.874531",
     "status": "completed"
    },
    "tags": []
   },
   "outputs": [
    {
     "data": {
      "text/plain": [
       "((11982, 28, 28), (1984, 28, 28))"
      ]
     },
     "execution_count": 13,
     "metadata": {},
     "output_type": "execute_result"
    }
   ],
   "source": [
    "X_train.shape, X_test.shape"
   ]
  },
  {
   "cell_type": "markdown",
   "id": "5ccf3f85",
   "metadata": {
    "papermill": {
     "duration": 0.023527,
     "end_time": "2021-12-29T10:09:06.960866",
     "exception": false,
     "start_time": "2021-12-29T10:09:06.937339",
     "status": "completed"
    },
    "tags": []
   },
   "source": [
    "We reshape the data to flatten the image pixels into a set of features or co-variates:"
   ]
  },
  {
   "cell_type": "code",
   "execution_count": 14,
   "id": "5286a4a3",
   "metadata": {
    "execution": {
     "iopub.execute_input": "2021-12-29T10:09:07.016779Z",
     "iopub.status.busy": "2021-12-29T10:09:07.016313Z",
     "iopub.status.idle": "2021-12-29T10:09:07.026846Z",
     "shell.execute_reply": "2021-12-29T10:09:07.026480Z"
    },
    "papermill": {
     "duration": 0.042174,
     "end_time": "2021-12-29T10:09:07.026947",
     "exception": false,
     "start_time": "2021-12-29T10:09:06.984773",
     "status": "completed"
    },
    "tags": []
   },
   "outputs": [
    {
     "data": {
      "text/plain": [
       "((11982, 784), (1984, 784))"
      ]
     },
     "execution_count": 14,
     "metadata": {},
     "output_type": "execute_result"
    }
   ],
   "source": [
    "X_train = X_train.reshape(X_train.shape[0], -1)\n",
    "X_test = X_test.reshape(X_test.shape[0], -1)\n",
    "X_train.shape, X_test.shape"
   ]
  },
  {
   "cell_type": "code",
   "execution_count": 15,
   "id": "73c5f88a",
   "metadata": {
    "execution": {
     "iopub.execute_input": "2021-12-29T10:09:07.077700Z",
     "iopub.status.busy": "2021-12-29T10:09:07.077243Z",
     "iopub.status.idle": "2021-12-29T10:09:07.094749Z",
     "shell.execute_reply": "2021-12-29T10:09:07.095174Z"
    },
    "papermill": {
     "duration": 0.045022,
     "end_time": "2021-12-29T10:09:07.095288",
     "exception": false,
     "start_time": "2021-12-29T10:09:07.050266",
     "status": "completed"
    },
    "tags": []
   },
   "outputs": [],
   "source": [
    "#Impoting functions from 'Kudzu'\n",
    "from kudzu.model import Model\n",
    "from kudzu.train import Learner\n",
    "from kudzu.optim import GD\n",
    "from kudzu.data import Data, Sampler,Dataloader\n",
    "\n",
    "from kudzu.callbacks import AccCallback\n",
    "from kudzu.callbacks import ClfCallback\n",
    "\n",
    "from kudzu.loss import MSE\n",
    "\n",
    "from kudzu.layer import Sigmoid,Relu\n",
    "from kudzu.layer import Affine"
   ]
  },
  {
   "cell_type": "markdown",
   "id": "bc01172a",
   "metadata": {
    "papermill": {
     "duration": 0.022686,
     "end_time": "2021-12-29T10:09:07.141247",
     "exception": false,
     "start_time": "2021-12-29T10:09:07.118561",
     "status": "completed"
    },
    "tags": []
   },
   "source": [
    "### Let us create a `Config` class, to store important parameters. \n",
    "This class essentially plays the role of a dictionary."
   ]
  },
  {
   "cell_type": "code",
   "execution_count": 16,
   "id": "978281aa",
   "metadata": {
    "execution": {
     "iopub.execute_input": "2021-12-29T10:09:07.191119Z",
     "iopub.status.busy": "2021-12-29T10:09:07.190654Z",
     "iopub.status.idle": "2021-12-29T10:09:07.202049Z",
     "shell.execute_reply": "2021-12-29T10:09:07.202498Z"
    },
    "papermill": {
     "duration": 0.038332,
     "end_time": "2021-12-29T10:09:07.202622",
     "exception": false,
     "start_time": "2021-12-29T10:09:07.164290",
     "status": "completed"
    },
    "tags": []
   },
   "outputs": [],
   "source": [
    "class Config:\n",
    "    pass\n",
    "config = Config()\n",
    "config.lr = 0.001\n",
    "config.num_epochs = 250\n",
    "config.bs = 50"
   ]
  },
  {
   "cell_type": "markdown",
   "id": "1385fa59",
   "metadata": {
    "papermill": {
     "duration": 0.023302,
     "end_time": "2021-12-29T10:09:07.250875",
     "exception": false,
     "start_time": "2021-12-29T10:09:07.227573",
     "status": "completed"
    },
    "tags": []
   },
   "source": [
    "### Running Models with the Training data\n",
    "Details about the network layers:\n",
    "- A first affine layer has 784 inputs and does 100 affine transforms. These are followed by a Relu\n",
    "- A second affine layer has 100 inputs from the 100 activations of the past layer, and does 100 affine transforms. These are followed by a Relu\n",
    "- A third affine layer has 100 activations and does 2 affine transformations to create an embedding for visualization. There is no non-linearity here.\n",
    "- A final \"logistic regression\" which has an affine transform from 2 inputs to 1 output, which is squeezed through a sigmoid.\n"
   ]
  },
  {
   "cell_type": "code",
   "execution_count": 17,
   "id": "2b9c66db",
   "metadata": {
    "execution": {
     "iopub.execute_input": "2021-12-29T10:09:07.304601Z",
     "iopub.status.busy": "2021-12-29T10:09:07.304142Z",
     "iopub.status.idle": "2021-12-29T10:09:07.313904Z",
     "shell.execute_reply": "2021-12-29T10:09:07.314289Z"
    },
    "papermill": {
     "duration": 0.03992,
     "end_time": "2021-12-29T10:09:07.314403",
     "exception": false,
     "start_time": "2021-12-29T10:09:07.274483",
     "status": "completed"
    },
    "tags": []
   },
   "outputs": [],
   "source": [
    "data = Data(X_train, y_train.reshape(-1,1))\n",
    "sampler = Sampler(data, config.bs, shuffle=True)\n",
    "\n",
    "dl = Dataloader(data, sampler)\n",
    "\n",
    "opt = GD(config.lr)\n",
    "loss = MSE()"
   ]
  },
  {
   "cell_type": "code",
   "execution_count": 18,
   "id": "b275e4c2",
   "metadata": {
    "execution": {
     "iopub.execute_input": "2021-12-29T10:09:07.364489Z",
     "iopub.status.busy": "2021-12-29T10:09:07.364034Z",
     "iopub.status.idle": "2021-12-29T10:09:07.375644Z",
     "shell.execute_reply": "2021-12-29T10:09:07.375255Z"
    },
    "papermill": {
     "duration": 0.037815,
     "end_time": "2021-12-29T10:09:07.375747",
     "exception": false,
     "start_time": "2021-12-29T10:09:07.337932",
     "status": "completed"
    },
    "tags": []
   },
   "outputs": [],
   "source": [
    "training_data_x = X_train\n",
    "testing_data_x = X_test\n",
    "training_data_y = y_train.reshape(-1,1)\n",
    "testing_data_y = y_test.reshape(-1,1)"
   ]
  },
  {
   "cell_type": "code",
   "execution_count": 19,
   "id": "76951160",
   "metadata": {
    "execution": {
     "iopub.execute_input": "2021-12-29T10:09:07.430257Z",
     "iopub.status.busy": "2021-12-29T10:09:07.429798Z",
     "iopub.status.idle": "2021-12-29T10:09:07.442857Z",
     "shell.execute_reply": "2021-12-29T10:09:07.442496Z"
    },
    "papermill": {
     "duration": 0.04377,
     "end_time": "2021-12-29T10:09:07.442955",
     "exception": false,
     "start_time": "2021-12-29T10:09:07.399185",
     "status": "completed"
    },
    "tags": []
   },
   "outputs": [
    {
     "name": "stdout",
     "output_type": "stream",
     "text": [
      "xavier\n",
      "xavier\n",
      "xavier\n",
      "xavier\n",
      "xavier\n"
     ]
    }
   ],
   "source": [
    "layers = [Affine(\"first\", 784, 100), Relu(\"first\"), Affine(\"second\", 100, 100), Relu(\"second\"), Affine(\"third\", 100, 2), Affine(\"last\", 2, 1), Sigmoid(\"last\")]\n",
    "model_nn = Model(layers)\n",
    "model_lr = Model([Affine(\"logits\", 784, 1), Sigmoid(\"sigmoid\")])"
   ]
  },
  {
   "cell_type": "code",
   "execution_count": 20,
   "id": "6eede77a",
   "metadata": {
    "execution": {
     "iopub.execute_input": "2021-12-29T10:09:07.493423Z",
     "iopub.status.busy": "2021-12-29T10:09:07.492978Z",
     "iopub.status.idle": "2021-12-29T10:09:07.504097Z",
     "shell.execute_reply": "2021-12-29T10:09:07.504517Z"
    },
    "papermill": {
     "duration": 0.037887,
     "end_time": "2021-12-29T10:09:07.504621",
     "exception": false,
     "start_time": "2021-12-29T10:09:07.466734",
     "status": "completed"
    },
    "tags": []
   },
   "outputs": [],
   "source": [
    "nn_learner = Learner(loss, model_nn, opt, config.num_epochs)\n",
    "acc_nn = ClfCallback(nn_learner, config.bs, training_data_x , testing_data_x, training_data_y, testing_data_y)\n",
    "nn_learner.set_callbacks([acc_nn])"
   ]
  },
  {
   "cell_type": "code",
   "execution_count": 21,
   "id": "877b6cc7",
   "metadata": {
    "execution": {
     "iopub.execute_input": "2021-12-29T10:09:07.565536Z",
     "iopub.status.busy": "2021-12-29T10:09:07.564133Z",
     "iopub.status.idle": "2021-12-29T10:09:07.567706Z",
     "shell.execute_reply": "2021-12-29T10:09:07.567311Z"
    },
    "papermill": {
     "duration": 0.040133,
     "end_time": "2021-12-29T10:09:07.567817",
     "exception": false,
     "start_time": "2021-12-29T10:09:07.527684",
     "status": "completed"
    },
    "tags": []
   },
   "outputs": [],
   "source": [
    "lr_learner = Learner(loss, model_lr, opt, config.num_epochs)\n",
    "acc_lr = ClfCallback(lr_learner, config.bs, training_data_x , testing_data_x, training_data_y, testing_data_y)\n",
    "lr_learner.set_callbacks([acc_lr])"
   ]
  },
  {
   "cell_type": "code",
   "execution_count": 22,
   "id": "d9b133c3",
   "metadata": {
    "execution": {
     "iopub.execute_input": "2021-12-29T10:09:07.623414Z",
     "iopub.status.busy": "2021-12-29T10:09:07.622705Z",
     "iopub.status.idle": "2021-12-29T10:10:21.386482Z",
     "shell.execute_reply": "2021-12-29T10:10:21.387222Z"
    },
    "papermill": {
     "duration": 73.79574,
     "end_time": "2021-12-29T10:10:21.387369",
     "exception": false,
     "start_time": "2021-12-29T10:09:07.591629",
     "status": "completed"
    },
    "tags": []
   },
   "outputs": [
    {
     "name": "stdout",
     "output_type": "stream",
     "text": [
      "Epoch 0, Loss 0.2537\n",
      "Training Accuracy: 0.6023, Testing Accuracy: 0.6064\n",
      "\n"
     ]
    },
    {
     "name": "stdout",
     "output_type": "stream",
     "text": [
      "Epoch 10, Loss 0.0908\n",
      "Training Accuracy: 0.9111, Testing Accuracy: 0.9219\n",
      "\n"
     ]
    },
    {
     "name": "stdout",
     "output_type": "stream",
     "text": [
      "Epoch 20, Loss 0.0557\n",
      "Training Accuracy: 0.9411, Testing Accuracy: 0.9496\n",
      "\n"
     ]
    },
    {
     "name": "stdout",
     "output_type": "stream",
     "text": [
      "Epoch 30, Loss 0.0435\n",
      "Training Accuracy: 0.9513, Testing Accuracy: 0.9617\n",
      "\n"
     ]
    },
    {
     "name": "stdout",
     "output_type": "stream",
     "text": [
      "Epoch 40, Loss 0.0375\n",
      "Training Accuracy: 0.9562, Testing Accuracy: 0.9652\n",
      "\n"
     ]
    },
    {
     "name": "stdout",
     "output_type": "stream",
     "text": [
      "Epoch 50, Loss 0.034\n",
      "Training Accuracy: 0.9599, Testing Accuracy: 0.9677\n",
      "\n"
     ]
    },
    {
     "name": "stdout",
     "output_type": "stream",
     "text": [
      "Epoch 60, Loss 0.0317\n",
      "Training Accuracy: 0.9625, Testing Accuracy: 0.9682\n",
      "\n"
     ]
    },
    {
     "name": "stdout",
     "output_type": "stream",
     "text": [
      "Epoch 70, Loss 0.0299\n",
      "Training Accuracy: 0.9641, Testing Accuracy: 0.9677\n",
      "\n"
     ]
    },
    {
     "name": "stdout",
     "output_type": "stream",
     "text": [
      "Epoch 80, Loss 0.0286\n",
      "Training Accuracy: 0.9659, Testing Accuracy: 0.9677\n",
      "\n"
     ]
    },
    {
     "name": "stdout",
     "output_type": "stream",
     "text": [
      "Epoch 90, Loss 0.0274\n",
      "Training Accuracy: 0.9671, Testing Accuracy: 0.9682\n",
      "\n"
     ]
    },
    {
     "name": "stdout",
     "output_type": "stream",
     "text": [
      "Epoch 100, Loss 0.0264\n",
      "Training Accuracy: 0.9689, Testing Accuracy: 0.9688\n",
      "\n"
     ]
    },
    {
     "name": "stdout",
     "output_type": "stream",
     "text": [
      "Epoch 110, Loss 0.0256\n",
      "Training Accuracy: 0.9695, Testing Accuracy: 0.9693\n",
      "\n"
     ]
    },
    {
     "name": "stdout",
     "output_type": "stream",
     "text": [
      "Epoch 120, Loss 0.0249\n",
      "Training Accuracy: 0.9710, Testing Accuracy: 0.9682\n",
      "\n"
     ]
    },
    {
     "name": "stdout",
     "output_type": "stream",
     "text": [
      "Epoch 130, Loss 0.0242\n",
      "Training Accuracy: 0.9719, Testing Accuracy: 0.9677\n",
      "\n"
     ]
    },
    {
     "name": "stdout",
     "output_type": "stream",
     "text": [
      "Epoch 140, Loss 0.0235\n",
      "Training Accuracy: 0.9725, Testing Accuracy: 0.9688\n",
      "\n"
     ]
    },
    {
     "name": "stdout",
     "output_type": "stream",
     "text": [
      "Epoch 150, Loss 0.023\n",
      "Training Accuracy: 0.9735, Testing Accuracy: 0.9693\n",
      "\n"
     ]
    },
    {
     "name": "stdout",
     "output_type": "stream",
     "text": [
      "Epoch 160, Loss 0.0224\n",
      "Training Accuracy: 0.9740, Testing Accuracy: 0.9698\n",
      "\n"
     ]
    },
    {
     "name": "stdout",
     "output_type": "stream",
     "text": [
      "Epoch 170, Loss 0.0219\n",
      "Training Accuracy: 0.9747, Testing Accuracy: 0.9708\n",
      "\n"
     ]
    },
    {
     "name": "stdout",
     "output_type": "stream",
     "text": [
      "Epoch 180, Loss 0.0214\n",
      "Training Accuracy: 0.9752, Testing Accuracy: 0.9708\n",
      "\n"
     ]
    },
    {
     "name": "stdout",
     "output_type": "stream",
     "text": [
      "Epoch 190, Loss 0.021\n",
      "Training Accuracy: 0.9759, Testing Accuracy: 0.9728\n",
      "\n"
     ]
    },
    {
     "name": "stdout",
     "output_type": "stream",
     "text": [
      "Epoch 200, Loss 0.0205\n",
      "Training Accuracy: 0.9766, Testing Accuracy: 0.9738\n",
      "\n"
     ]
    },
    {
     "name": "stdout",
     "output_type": "stream",
     "text": [
      "Epoch 210, Loss 0.0201\n",
      "Training Accuracy: 0.9778, Testing Accuracy: 0.9733\n",
      "\n"
     ]
    },
    {
     "name": "stdout",
     "output_type": "stream",
     "text": [
      "Epoch 220, Loss 0.0197\n",
      "Training Accuracy: 0.9782, Testing Accuracy: 0.9733\n",
      "\n"
     ]
    },
    {
     "name": "stdout",
     "output_type": "stream",
     "text": [
      "Epoch 230, Loss 0.0193\n",
      "Training Accuracy: 0.9788, Testing Accuracy: 0.9733\n",
      "\n"
     ]
    },
    {
     "name": "stdout",
     "output_type": "stream",
     "text": [
      "Epoch 240, Loss 0.0189\n",
      "Training Accuracy: 0.9792, Testing Accuracy: 0.9743\n",
      "\n"
     ]
    },
    {
     "data": {
      "text/plain": [
       "0.020990070718502462"
      ]
     },
     "execution_count": 22,
     "metadata": {},
     "output_type": "execute_result"
    }
   ],
   "source": [
    "nn_learner.train_loop(dl)"
   ]
  },
  {
   "cell_type": "code",
   "execution_count": 23,
   "id": "e0163366",
   "metadata": {
    "execution": {
     "iopub.execute_input": "2021-12-29T10:10:21.465549Z",
     "iopub.status.busy": "2021-12-29T10:10:21.464759Z",
     "iopub.status.idle": "2021-12-29T10:10:34.842875Z",
     "shell.execute_reply": "2021-12-29T10:10:34.843576Z"
    },
    "papermill": {
     "duration": 13.421361,
     "end_time": "2021-12-29T10:10:34.843727",
     "exception": false,
     "start_time": "2021-12-29T10:10:21.422366",
     "status": "completed"
    },
    "tags": []
   },
   "outputs": [
    {
     "name": "stdout",
     "output_type": "stream",
     "text": [
      "Epoch 0, Loss 0.2441\n",
      "Training Accuracy: 0.6665, Testing Accuracy: 0.6552\n",
      "\n"
     ]
    },
    {
     "name": "stdout",
     "output_type": "stream",
     "text": [
      "Epoch 10, Loss 0.1028\n",
      "Training Accuracy: 0.9142, Testing Accuracy: 0.9239\n",
      "\n"
     ]
    },
    {
     "name": "stdout",
     "output_type": "stream",
     "text": [
      "Epoch 20, Loss 0.0787\n",
      "Training Accuracy: 0.9285, Testing Accuracy: 0.9400\n",
      "\n"
     ]
    },
    {
     "name": "stdout",
     "output_type": "stream",
     "text": [
      "Epoch 30, Loss 0.0679\n",
      "Training Accuracy: 0.9357, Testing Accuracy: 0.9481\n",
      "\n"
     ]
    },
    {
     "name": "stdout",
     "output_type": "stream",
     "text": [
      "Epoch 40, Loss 0.0614\n",
      "Training Accuracy: 0.9408, Testing Accuracy: 0.9511\n",
      "\n"
     ]
    },
    {
     "name": "stdout",
     "output_type": "stream",
     "text": [
      "Epoch 50, Loss 0.057\n",
      "Training Accuracy: 0.9445, Testing Accuracy: 0.9546\n",
      "\n"
     ]
    },
    {
     "name": "stdout",
     "output_type": "stream",
     "text": [
      "Epoch 60, Loss 0.0537\n",
      "Training Accuracy: 0.9473, Testing Accuracy: 0.9561\n",
      "\n"
     ]
    },
    {
     "name": "stdout",
     "output_type": "stream",
     "text": [
      "Epoch 70, Loss 0.0512\n",
      "Training Accuracy: 0.9487, Testing Accuracy: 0.9587\n",
      "\n"
     ]
    },
    {
     "name": "stdout",
     "output_type": "stream",
     "text": [
      "Epoch 80, Loss 0.0492\n",
      "Training Accuracy: 0.9503, Testing Accuracy: 0.9587\n",
      "\n"
     ]
    },
    {
     "name": "stdout",
     "output_type": "stream",
     "text": [
      "Epoch 90, Loss 0.0475\n",
      "Training Accuracy: 0.9517, Testing Accuracy: 0.9612\n",
      "\n"
     ]
    },
    {
     "name": "stdout",
     "output_type": "stream",
     "text": [
      "Epoch 100, Loss 0.0461\n",
      "Training Accuracy: 0.9525, Testing Accuracy: 0.9607\n",
      "\n"
     ]
    },
    {
     "name": "stdout",
     "output_type": "stream",
     "text": [
      "Epoch 110, Loss 0.0449\n",
      "Training Accuracy: 0.9533, Testing Accuracy: 0.9612\n",
      "\n"
     ]
    },
    {
     "name": "stdout",
     "output_type": "stream",
     "text": [
      "Epoch 120, Loss 0.0438\n",
      "Training Accuracy: 0.9538, Testing Accuracy: 0.9612\n",
      "\n"
     ]
    },
    {
     "name": "stdout",
     "output_type": "stream",
     "text": [
      "Epoch 130, Loss 0.0429\n",
      "Training Accuracy: 0.9547, Testing Accuracy: 0.9622\n",
      "\n"
     ]
    },
    {
     "name": "stdout",
     "output_type": "stream",
     "text": [
      "Epoch 140, Loss 0.0421\n",
      "Training Accuracy: 0.9564, Testing Accuracy: 0.9637\n",
      "\n"
     ]
    },
    {
     "name": "stdout",
     "output_type": "stream",
     "text": [
      "Epoch 150, Loss 0.0413\n",
      "Training Accuracy: 0.9566, Testing Accuracy: 0.9642\n",
      "\n"
     ]
    },
    {
     "name": "stdout",
     "output_type": "stream",
     "text": [
      "Epoch 160, Loss 0.0407\n",
      "Training Accuracy: 0.9575, Testing Accuracy: 0.9647\n",
      "\n"
     ]
    },
    {
     "name": "stdout",
     "output_type": "stream",
     "text": [
      "Epoch 170, Loss 0.0401\n",
      "Training Accuracy: 0.9584, Testing Accuracy: 0.9647\n",
      "\n"
     ]
    },
    {
     "name": "stdout",
     "output_type": "stream",
     "text": [
      "Epoch 180, Loss 0.0395\n",
      "Training Accuracy: 0.9587, Testing Accuracy: 0.9662\n",
      "\n"
     ]
    },
    {
     "name": "stdout",
     "output_type": "stream",
     "text": [
      "Epoch 190, Loss 0.039\n",
      "Training Accuracy: 0.9589, Testing Accuracy: 0.9662\n",
      "\n"
     ]
    },
    {
     "name": "stdout",
     "output_type": "stream",
     "text": [
      "Epoch 200, Loss 0.0385\n",
      "Training Accuracy: 0.9592, Testing Accuracy: 0.9667\n",
      "\n"
     ]
    },
    {
     "name": "stdout",
     "output_type": "stream",
     "text": [
      "Epoch 210, Loss 0.0381\n",
      "Training Accuracy: 0.9594, Testing Accuracy: 0.9672\n",
      "\n"
     ]
    },
    {
     "name": "stdout",
     "output_type": "stream",
     "text": [
      "Epoch 220, Loss 0.0377\n",
      "Training Accuracy: 0.9598, Testing Accuracy: 0.9677\n",
      "\n"
     ]
    },
    {
     "name": "stdout",
     "output_type": "stream",
     "text": [
      "Epoch 230, Loss 0.0373\n",
      "Training Accuracy: 0.9599, Testing Accuracy: 0.9677\n",
      "\n"
     ]
    },
    {
     "name": "stdout",
     "output_type": "stream",
     "text": [
      "Epoch 240, Loss 0.0369\n",
      "Training Accuracy: 0.9600, Testing Accuracy: 0.9677\n",
      "\n"
     ]
    },
    {
     "data": {
      "text/plain": [
       "0.06781870308230195"
      ]
     },
     "execution_count": 23,
     "metadata": {},
     "output_type": "execute_result"
    }
   ],
   "source": [
    "lr_learner.train_loop(dl)"
   ]
  },
  {
   "cell_type": "code",
   "execution_count": 24,
   "id": "ca410940",
   "metadata": {
    "execution": {
     "iopub.execute_input": "2021-12-29T10:10:34.936759Z",
     "iopub.status.busy": "2021-12-29T10:10:34.936230Z",
     "iopub.status.idle": "2021-12-29T10:10:35.167642Z",
     "shell.execute_reply": "2021-12-29T10:10:35.168249Z"
    },
    "papermill": {
     "duration": 0.283608,
     "end_time": "2021-12-29T10:10:35.168409",
     "exception": false,
     "start_time": "2021-12-29T10:10:34.884801",
     "status": "completed"
    },
    "tags": []
   },
   "outputs": [
    {
     "data": {
      "text/plain": [
       "<matplotlib.legend.Legend at 0x7f7d765a9cf8>"
      ]
     },
     "execution_count": 24,
     "metadata": {},
     "output_type": "execute_result"
    },
    {
     "data": {
      "image/png": "[encoded data removed]",
      "text/plain": [
       "<Figure size 1080x720 with 1 Axes>"
      ]
     },
     "metadata": {
      "needs_background": "light"
     },
     "output_type": "display_data"
    }
   ],
   "source": [
    "#comparing the results of NN and LR\n",
    "plt.figure(figsize=(15,10))\n",
    "\n",
    "# Neural Network plots\n",
    "plt.plot(acc_nn.accuracies, 'r-', label = \"Training Accuracies - NN\")\n",
    "plt.plot(acc_nn.test_accuracies, 'g-', label = \"Testing Accuracies - NN\")\n",
    "\n",
    "# Logistic Regression plots\n",
    "plt.plot(acc_lr.accuracies, 'k-', label = \"Training Accuracies - LR\")\n",
    "plt.plot(acc_lr.test_accuracies, 'b-', label = \"Testing Accuracies - LR\")\n",
    "plt.legend()"
   ]
  },
  {
   "cell_type": "markdown",
   "id": "80dfb35c",
   "metadata": {
    "papermill": {
     "duration": 0.036947,
     "end_time": "2021-12-29T10:10:35.243135",
     "exception": false,
     "start_time": "2021-12-29T10:10:35.206188",
     "status": "completed"
    },
    "tags": []
   },
   "source": [
    "#### Plotting the outputs of this layer of the NN.\n"
   ]
  },
  {
   "cell_type": "code",
   "execution_count": 25,
   "id": "45eb2ff5",
   "metadata": {
    "execution": {
     "iopub.execute_input": "2021-12-29T10:10:35.336981Z",
     "iopub.status.busy": "2021-12-29T10:10:35.329244Z",
     "iopub.status.idle": "2021-12-29T10:10:35.342694Z",
     "shell.execute_reply": "2021-12-29T10:10:35.343137Z"
    },
    "papermill": {
     "duration": 0.063303,
     "end_time": "2021-12-29T10:10:35.343264",
     "exception": false,
     "start_time": "2021-12-29T10:10:35.279961",
     "status": "completed"
    },
    "tags": []
   },
   "outputs": [],
   "source": [
    "new_model = Model(layers[:-2])\n",
    "testing_plot = new_model(testing_data_x)"
   ]
  },
  {
   "cell_type": "code",
   "execution_count": 26,
   "id": "4c0a5485",
   "metadata": {
    "execution": {
     "iopub.execute_input": "2021-12-29T10:10:35.430249Z",
     "iopub.status.busy": "2021-12-29T10:10:35.422105Z",
     "iopub.status.idle": "2021-12-29T10:10:35.664254Z",
     "shell.execute_reply": "2021-12-29T10:10:35.664653Z"
    },
    "papermill": {
     "duration": 0.284235,
     "end_time": "2021-12-29T10:10:35.664790",
     "exception": false,
     "start_time": "2021-12-29T10:10:35.380555",
     "status": "completed"
    },
    "tags": []
   },
   "outputs": [
    {
     "data": {
      "text/plain": [
       "Text(0.5, 1.0, 'Outputs')"
      ]
     },
     "execution_count": 26,
     "metadata": {},
     "output_type": "execute_result"
    },
    {
     "data": {
      "image/png": "[encoded data removed]",
      "text/plain": [
       "<Figure size 576x504 with 1 Axes>"
      ]
     },
     "metadata": {
      "needs_background": "light"
     },
     "output_type": "display_data"
    }
   ],
   "source": [
    "# Plotting the scatter plot of points and color coding by class\n",
    "plt.figure(figsize=(8,7))\n",
    "plt.scatter(testing_plot[:,0], testing_plot[:,1], alpha = 0.1, c = y_test.ravel());\n",
    "plt.title('Outputs')"
   ]
  },
  {
   "cell_type": "markdown",
   "id": "a74fcf8f",
   "metadata": {
    "papermill": {
     "duration": 0.040251,
     "end_time": "2021-12-29T10:10:35.745328",
     "exception": false,
     "start_time": "2021-12-29T10:10:35.705077",
     "status": "completed"
    },
    "tags": []
   },
   "source": [
    "Probability contours"
   ]
  },
  {
   "cell_type": "code",
   "execution_count": 27,
   "id": "d0afc8e3",
   "metadata": {
    "execution": {
     "iopub.execute_input": "2021-12-29T10:10:35.830949Z",
     "iopub.status.busy": "2021-12-29T10:10:35.830479Z",
     "iopub.status.idle": "2021-12-29T10:10:35.841307Z",
     "shell.execute_reply": "2021-12-29T10:10:35.840900Z"
    },
    "papermill": {
     "duration": 0.055605,
     "end_time": "2021-12-29T10:10:35.841414",
     "exception": false,
     "start_time": "2021-12-29T10:10:35.785809",
     "status": "completed"
    },
    "tags": []
   },
   "outputs": [],
   "source": [
    "model_prob = Model(layers[-2:]) "
   ]
  },
  {
   "cell_type": "code",
   "execution_count": 28,
   "id": "9b96e238",
   "metadata": {
    "execution": {
     "iopub.execute_input": "2021-12-29T10:10:35.957086Z",
     "iopub.status.busy": "2021-12-29T10:10:35.956613Z",
     "iopub.status.idle": "2021-12-29T10:10:35.967239Z",
     "shell.execute_reply": "2021-12-29T10:10:35.967659Z"
    },
    "papermill": {
     "duration": 0.085773,
     "end_time": "2021-12-29T10:10:35.967796",
     "exception": false,
     "start_time": "2021-12-29T10:10:35.882023",
     "status": "completed"
    },
    "tags": []
   },
   "outputs": [],
   "source": [
    "#creating the x and y ranges according to the above generated plot.\n",
    "x_range = np.linspace(-4, 1, 100) \n",
    "y_range = np.linspace(-6, 6, 100) \n",
    "x_grid, y_grid = np.meshgrid(x_range, y_range) # x_grid and y_grig are of size 100 X 100\n",
    "\n",
    "# converting x_grid and y_grid to continuous arrays\n",
    "x_gridflat = np.ravel(x_grid)\n",
    "y_gridflat = np.ravel(y_grid)\n",
    "\n",
    "# The last layer of the current model takes two columns as input. Hence transpose of np.vstack() is required.\n",
    "X = np.vstack((x_gridflat, y_gridflat)).T\n",
    "\n",
    "prob_contour = model_prob(X).reshape(100,100) "
   ]
  },
  {
   "cell_type": "code",
   "execution_count": 29,
   "id": "da72499a",
   "metadata": {
    "execution": {
     "iopub.execute_input": "2021-12-29T10:10:36.068907Z",
     "iopub.status.busy": "2021-12-29T10:10:36.068434Z",
     "iopub.status.idle": "2021-12-29T10:10:36.314493Z",
     "shell.execute_reply": "2021-12-29T10:10:36.314000Z"
    },
    "papermill": {
     "duration": 0.299308,
     "end_time": "2021-12-29T10:10:36.314629",
     "exception": false,
     "start_time": "2021-12-29T10:10:36.015321",
     "status": "completed"
    },
    "tags": []
   },
   "outputs": [
    {
     "data": {
      "image/png": "[encoded data removed]",
      "text/plain": [
       "<Figure size 720x648 with 1 Axes>"
      ]
     },
     "metadata": {
      "needs_background": "light"
     },
     "output_type": "display_data"
    }
   ],
   "source": [
    "plt.figure(figsize=(10,9))\n",
    "plt.scatter(testing_plot[:,0], testing_plot[:,1], alpha = 0.1, c = y_test.ravel())\n",
    "contours = plt.contour(x_grid,y_grid,prob_contour)\n",
    "plt.title('Probability Contours')\n",
    "plt.clabel(contours, inline = True );"
   ]
  },
  {
   "cell_type": "code",
   "execution_count": null,
   "id": "e81b4ac7",
   "metadata": {
    "papermill": {
     "duration": 0.041795,
     "end_time": "2021-12-29T10:10:36.399860",
     "exception": false,
     "start_time": "2021-12-29T10:10:36.358065",
     "status": "completed"
    },
    "tags": []
   },
   "outputs": [],
   "source": []
  }
 ],
 "metadata": {
  "kernelspec": {
   "display_name": "Python 3",
   "language": "python",
   "name": "python3"
  },
  "language_info": {
   "codemirror_mode": {
    "name": "ipython",
    "version": 3
   },
   "file_extension": ".py",
   "mimetype": "text/x-python",
   "name": "python",
   "nbconvert_exporter": "python",
   "pygments_lexer": "ipython3",
   "version": "3.6.15"
  },
  "papermill": {
   "default_parameters": {},
   "duration": 95.124389,
   "end_time": "2021-12-29T10:10:36.849098",
   "environment_variables": {},
   "exception": null,
   "input_path": "2020-08-11-part2.ipynb",
   "output_path": "2020-08-11-part2.ipynb",
   "parameters": {},
   "start_time": "2021-12-29T10:09:01.724709",
   "version": "2.3.3"
  }
 },
 "nbformat": 4,
 "nbformat_minor": 5
}