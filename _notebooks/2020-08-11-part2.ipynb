{
 "cells": [
  {
   "cell_type": "markdown",
   "id": "98380cd3",
   "metadata": {
    "papermill": {
     "duration": 0.033994,
     "end_time": "2022-03-23T00:35:30.310388",
     "exception": false,
     "start_time": "2022-03-23T00:35:30.276394",
     "status": "completed"
    },
    "tags": []
   },
   "source": [
    "# Distinguish Your Own Digits (DYOD)"
   ]
  },
  {
   "cell_type": "markdown",
   "id": "ef31240d",
   "metadata": {
    "papermill": {
     "duration": 0.025184,
     "end_time": "2022-03-23T00:35:30.359962",
     "exception": false,
     "start_time": "2022-03-23T00:35:30.334778",
     "status": "completed"
    },
    "tags": []
   },
   "source": [
    "You are going to write a classifier that distinguishes between the number 3 and number 8."
   ]
  },
  {
   "cell_type": "code",
   "execution_count": 1,
   "id": "b15c8646",
   "metadata": {
    "execution": {
     "iopub.execute_input": "2022-03-23T00:35:30.418106Z",
     "iopub.status.busy": "2022-03-23T00:35:30.417541Z",
     "iopub.status.idle": "2022-03-23T00:35:30.428846Z",
     "shell.execute_reply": "2022-03-23T00:35:30.428397Z"
    },
    "papermill": {
     "duration": 0.045318,
     "end_time": "2022-03-23T00:35:30.428981",
     "exception": false,
     "start_time": "2022-03-23T00:35:30.383663",
     "status": "completed"
    },
    "tags": []
   },
   "outputs": [],
   "source": [
    "%load_ext autoreload\n",
    "%autoreload 2"
   ]
  },
  {
   "cell_type": "code",
   "execution_count": 2,
   "id": "22ef38dc",
   "metadata": {
    "execution": {
     "iopub.execute_input": "2022-03-23T00:35:30.482184Z",
     "iopub.status.busy": "2022-03-23T00:35:30.481649Z",
     "iopub.status.idle": "2022-03-23T00:35:31.089194Z",
     "shell.execute_reply": "2022-03-23T00:35:31.088642Z"
    },
    "papermill": {
     "duration": 0.635692,
     "end_time": "2022-03-23T00:35:31.089336",
     "exception": false,
     "start_time": "2022-03-23T00:35:30.453644",
     "status": "completed"
    },
    "tags": []
   },
   "outputs": [],
   "source": [
    "%matplotlib inline\n",
    "import numpy as np\n",
    "import matplotlib.pyplot as plt\n",
    "import pandas as pd"
   ]
  },
  {
   "cell_type": "markdown",
   "id": "ba036198",
   "metadata": {
    "papermill": {
     "duration": 0.023807,
     "end_time": "2022-03-23T00:35:31.137342",
     "exception": false,
     "start_time": "2022-03-23T00:35:31.113535",
     "status": "completed"
    },
    "tags": []
   },
   "source": [
    "From the command line run `pip install mnist`. This is a library that will help you bring down the mnist dataset. If you run this from a notebook, you need to put  `!pip install mnist` in a cell by itself."
   ]
  },
  {
   "cell_type": "code",
   "execution_count": 3,
   "id": "bb6ad8a1",
   "metadata": {
    "execution": {
     "iopub.execute_input": "2022-03-23T00:35:31.189948Z",
     "iopub.status.busy": "2022-03-23T00:35:31.189428Z",
     "iopub.status.idle": "2022-03-23T00:35:32.906948Z",
     "shell.execute_reply": "2022-03-23T00:35:32.907428Z"
    },
    "papermill": {
     "duration": 1.746224,
     "end_time": "2022-03-23T00:35:32.907628",
     "exception": false,
     "start_time": "2022-03-23T00:35:31.161404",
     "status": "completed"
    },
    "tags": []
   },
   "outputs": [
    {
     "name": "stdout",
     "output_type": "stream",
     "text": [
      "Collecting mnist\r\n"
     ]
    },
    {
     "name": "stdout",
     "output_type": "stream",
     "text": [
      "  Downloading mnist-0.2.2-py2.py3-none-any.whl (3.5 kB)\r\n",
      "Requirement already satisfied: numpy in /opt/hostedtoolcache/Python/3.6.15/x64/lib/python3.6/site-packages (from mnist) (1.19.5)\r\n"
     ]
    },
    {
     "name": "stdout",
     "output_type": "stream",
     "text": [
      "Installing collected packages: mnist\r\n",
      "Successfully installed mnist-0.2.2\r\n"
     ]
    }
   ],
   "source": [
    "!pip install mnist"
   ]
  },
  {
   "cell_type": "markdown",
   "id": "69df9c9a",
   "metadata": {
    "papermill": {
     "duration": 0.025608,
     "end_time": "2022-03-23T00:35:32.959205",
     "exception": false,
     "start_time": "2022-03-23T00:35:32.933597",
     "status": "completed"
    },
    "tags": []
   },
   "source": [
    "## Preparing the Data"
   ]
  },
  {
   "cell_type": "code",
   "execution_count": 4,
   "id": "7f69d806",
   "metadata": {
    "execution": {
     "iopub.execute_input": "2022-03-23T00:35:33.018905Z",
     "iopub.status.busy": "2022-03-23T00:35:33.018344Z",
     "iopub.status.idle": "2022-03-23T00:35:33.031622Z",
     "shell.execute_reply": "2022-03-23T00:35:33.031156Z"
    },
    "papermill": {
     "duration": 0.047361,
     "end_time": "2022-03-23T00:35:33.031752",
     "exception": false,
     "start_time": "2022-03-23T00:35:32.984391",
     "status": "completed"
    },
    "tags": []
   },
   "outputs": [],
   "source": [
    "import mnist"
   ]
  },
  {
   "cell_type": "code",
   "execution_count": 5,
   "id": "a411e44f",
   "metadata": {
    "execution": {
     "iopub.execute_input": "2022-03-23T00:35:33.087683Z",
     "iopub.status.busy": "2022-03-23T00:35:33.087126Z",
     "iopub.status.idle": "2022-03-23T00:35:33.621512Z",
     "shell.execute_reply": "2022-03-23T00:35:33.621028Z"
    },
    "papermill": {
     "duration": 0.56474,
     "end_time": "2022-03-23T00:35:33.621640",
     "exception": false,
     "start_time": "2022-03-23T00:35:33.056900",
     "status": "completed"
    },
    "tags": []
   },
   "outputs": [],
   "source": [
    "train_images = mnist.train_images()\n",
    "train_labels = mnist.train_labels()"
   ]
  },
  {
   "cell_type": "code",
   "execution_count": 6,
   "id": "dceab3a5",
   "metadata": {
    "execution": {
     "iopub.execute_input": "2022-03-23T00:35:33.693520Z",
     "iopub.status.busy": "2022-03-23T00:35:33.692688Z",
     "iopub.status.idle": "2022-03-23T00:35:33.697801Z",
     "shell.execute_reply": "2022-03-23T00:35:33.698241Z"
    },
    "papermill": {
     "duration": 0.051703,
     "end_time": "2022-03-23T00:35:33.698380",
     "exception": false,
     "start_time": "2022-03-23T00:35:33.646677",
     "status": "completed"
    },
    "tags": []
   },
   "outputs": [
    {
     "data": {
      "text/plain": [
       "((60000, 28, 28), (60000,))"
      ]
     },
     "execution_count": 6,
     "metadata": {},
     "output_type": "execute_result"
    }
   ],
   "source": [
    "train_images.shape, train_labels.shape"
   ]
  },
  {
   "cell_type": "code",
   "execution_count": 7,
   "id": "f50dc2bb",
   "metadata": {
    "execution": {
     "iopub.execute_input": "2022-03-23T00:35:33.759349Z",
     "iopub.status.busy": "2022-03-23T00:35:33.758821Z",
     "iopub.status.idle": "2022-03-23T00:35:33.918249Z",
     "shell.execute_reply": "2022-03-23T00:35:33.917701Z"
    },
    "papermill": {
     "duration": 0.194687,
     "end_time": "2022-03-23T00:35:33.918396",
     "exception": false,
     "start_time": "2022-03-23T00:35:33.723709",
     "status": "completed"
    },
    "tags": []
   },
   "outputs": [],
   "source": [
    "test_images = mnist.test_images()\n",
    "test_labels = mnist.test_labels()"
   ]
  },
  {
   "cell_type": "code",
   "execution_count": 8,
   "id": "fc38cf1b",
   "metadata": {
    "execution": {
     "iopub.execute_input": "2022-03-23T00:35:33.974998Z",
     "iopub.status.busy": "2022-03-23T00:35:33.974438Z",
     "iopub.status.idle": "2022-03-23T00:35:33.987574Z",
     "shell.execute_reply": "2022-03-23T00:35:33.988071Z"
    },
    "papermill": {
     "duration": 0.043176,
     "end_time": "2022-03-23T00:35:33.988217",
     "exception": false,
     "start_time": "2022-03-23T00:35:33.945041",
     "status": "completed"
    },
    "tags": []
   },
   "outputs": [
    {
     "data": {
      "text/plain": [
       "((10000, 28, 28), (10000,))"
      ]
     },
     "execution_count": 8,
     "metadata": {},
     "output_type": "execute_result"
    }
   ],
   "source": [
    "test_images.shape, test_labels.shape"
   ]
  },
  {
   "cell_type": "code",
   "execution_count": 9,
   "id": "f9ed8fe0",
   "metadata": {
    "execution": {
     "iopub.execute_input": "2022-03-23T00:35:34.043772Z",
     "iopub.status.busy": "2022-03-23T00:35:34.043190Z",
     "iopub.status.idle": "2022-03-23T00:35:34.186137Z",
     "shell.execute_reply": "2022-03-23T00:35:34.186541Z"
    },
    "papermill": {
     "duration": 0.172869,
     "end_time": "2022-03-23T00:35:34.186692",
     "exception": false,
     "start_time": "2022-03-23T00:35:34.013823",
     "status": "completed"
    },
    "tags": []
   },
   "outputs": [
    {
     "name": "stdout",
     "output_type": "stream",
     "text": [
      "2\n"
     ]
    },
    {
     "data": {
      "text/plain": [
       "<matplotlib.image.AxesImage at 0x7f844ba255f8>"
      ]
     },
     "execution_count": 9,
     "metadata": {},
     "output_type": "execute_result"
    },
    {
     "data": {
      "image/png": "[encoded data removed]",
      "text/plain": [
       "<Figure size 432x288 with 1 Axes>"
      ]
     },
     "metadata": {
      "needs_background": "light"
     },
     "output_type": "display_data"
    }
   ],
   "source": [
    "image_index = 7776 # You may select anything up to 60,000\n",
    "print(train_labels[image_index]) \n",
    "plt.imshow(train_images[image_index], cmap='Greys')"
   ]
  },
  {
   "cell_type": "markdown",
   "id": "a8d2388d",
   "metadata": {
    "papermill": {
     "duration": 0.026476,
     "end_time": "2022-03-23T00:35:34.239871",
     "exception": false,
     "start_time": "2022-03-23T00:35:34.213395",
     "status": "completed"
    },
    "tags": []
   },
   "source": [
    "## Filter data to get 3 and 8 out"
   ]
  },
  {
   "cell_type": "code",
   "execution_count": 10,
   "id": "776f7fc7",
   "metadata": {
    "execution": {
     "iopub.execute_input": "2022-03-23T00:35:34.297974Z",
     "iopub.status.busy": "2022-03-23T00:35:34.297409Z",
     "iopub.status.idle": "2022-03-23T00:35:34.324883Z",
     "shell.execute_reply": "2022-03-23T00:35:34.325363Z"
    },
    "papermill": {
     "duration": 0.059235,
     "end_time": "2022-03-23T00:35:34.325531",
     "exception": false,
     "start_time": "2022-03-23T00:35:34.266296",
     "status": "completed"
    },
    "tags": []
   },
   "outputs": [],
   "source": [
    "train_filter = np.where((train_labels == 3 ) | (train_labels == 8))\n",
    "test_filter = np.where((test_labels == 3) | (test_labels == 8))\n",
    "X_train, y_train = train_images[train_filter], train_labels[train_filter]\n",
    "X_test, y_test = test_images[test_filter], test_labels[test_filter]"
   ]
  },
  {
   "cell_type": "markdown",
   "id": "948f0b7e",
   "metadata": {
    "papermill": {
     "duration": 0.028617,
     "end_time": "2022-03-23T00:35:34.387134",
     "exception": false,
     "start_time": "2022-03-23T00:35:34.358517",
     "status": "completed"
    },
    "tags": []
   },
   "source": [
    "We normalize the pizel values in the 0 to 1 range"
   ]
  },
  {
   "cell_type": "code",
   "execution_count": 11,
   "id": "ee4c2166",
   "metadata": {
    "execution": {
     "iopub.execute_input": "2022-03-23T00:35:34.453435Z",
     "iopub.status.busy": "2022-03-23T00:35:34.452878Z",
     "iopub.status.idle": "2022-03-23T00:35:34.516322Z",
     "shell.execute_reply": "2022-03-23T00:35:34.513270Z"
    },
    "papermill": {
     "duration": 0.097228,
     "end_time": "2022-03-23T00:35:34.516481",
     "exception": false,
     "start_time": "2022-03-23T00:35:34.419253",
     "status": "completed"
    },
    "tags": []
   },
   "outputs": [],
   "source": [
    "X_train = X_train/255.\n",
    "X_test = X_test/255."
   ]
  },
  {
   "cell_type": "markdown",
   "id": "ddcf4fab",
   "metadata": {
    "papermill": {
     "duration": 0.028036,
     "end_time": "2022-03-23T00:35:34.573060",
     "exception": false,
     "start_time": "2022-03-23T00:35:34.545024",
     "status": "completed"
    },
    "tags": []
   },
   "source": [
    "And setup the labels as 1 (when the digit is 3) and 0 (when the digit is 8)"
   ]
  },
  {
   "cell_type": "code",
   "execution_count": 12,
   "id": "7dc908f2",
   "metadata": {
    "execution": {
     "iopub.execute_input": "2022-03-23T00:35:34.632417Z",
     "iopub.status.busy": "2022-03-23T00:35:34.631461Z",
     "iopub.status.idle": "2022-03-23T00:35:34.644862Z",
     "shell.execute_reply": "2022-03-23T00:35:34.644346Z"
    },
    "papermill": {
     "duration": 0.045416,
     "end_time": "2022-03-23T00:35:34.644988",
     "exception": false,
     "start_time": "2022-03-23T00:35:34.599572",
     "status": "completed"
    },
    "tags": []
   },
   "outputs": [],
   "source": [
    "y_train = 1*(y_train==3)\n",
    "y_test = 1*(y_test==3)"
   ]
  },
  {
   "cell_type": "code",
   "execution_count": 13,
   "id": "01e4e969",
   "metadata": {
    "execution": {
     "iopub.execute_input": "2022-03-23T00:35:34.706550Z",
     "iopub.status.busy": "2022-03-23T00:35:34.705991Z",
     "iopub.status.idle": "2022-03-23T00:35:34.718509Z",
     "shell.execute_reply": "2022-03-23T00:35:34.718077Z"
    },
    "papermill": {
     "duration": 0.046882,
     "end_time": "2022-03-23T00:35:34.718633",
     "exception": false,
     "start_time": "2022-03-23T00:35:34.671751",
     "status": "completed"
    },
    "tags": []
   },
   "outputs": [
    {
     "data": {
      "text/plain": [
       "((11982, 28, 28), (1984, 28, 28))"
      ]
     },
     "execution_count": 13,
     "metadata": {},
     "output_type": "execute_result"
    }
   ],
   "source": [
    "X_train.shape, X_test.shape"
   ]
  },
  {
   "cell_type": "markdown",
   "id": "5ccf3f85",
   "metadata": {
    "papermill": {
     "duration": 0.026926,
     "end_time": "2022-03-23T00:35:34.772278",
     "exception": false,
     "start_time": "2022-03-23T00:35:34.745352",
     "status": "completed"
    },
    "tags": []
   },
   "source": [
    "We reshape the data to flatten the image pixels into a set of features or co-variates:"
   ]
  },
  {
   "cell_type": "code",
   "execution_count": 14,
   "id": "5286a4a3",
   "metadata": {
    "execution": {
     "iopub.execute_input": "2022-03-23T00:35:34.836168Z",
     "iopub.status.busy": "2022-03-23T00:35:34.835593Z",
     "iopub.status.idle": "2022-03-23T00:35:34.845910Z",
     "shell.execute_reply": "2022-03-23T00:35:34.846359Z"
    },
    "papermill": {
     "duration": 0.047344,
     "end_time": "2022-03-23T00:35:34.846506",
     "exception": false,
     "start_time": "2022-03-23T00:35:34.799162",
     "status": "completed"
    },
    "tags": []
   },
   "outputs": [
    {
     "data": {
      "text/plain": [
       "((11982, 784), (1984, 784))"
      ]
     },
     "execution_count": 14,
     "metadata": {},
     "output_type": "execute_result"
    }
   ],
   "source": [
    "X_train = X_train.reshape(X_train.shape[0], -1)\n",
    "X_test = X_test.reshape(X_test.shape[0], -1)\n",
    "X_train.shape, X_test.shape"
   ]
  },
  {
   "cell_type": "code",
   "execution_count": 15,
   "id": "73c5f88a",
   "metadata": {
    "execution": {
     "iopub.execute_input": "2022-03-23T00:35:34.905716Z",
     "iopub.status.busy": "2022-03-23T00:35:34.905180Z",
     "iopub.status.idle": "2022-03-23T00:35:34.924041Z",
     "shell.execute_reply": "2022-03-23T00:35:34.924473Z"
    },
    "papermill": {
     "duration": 0.050767,
     "end_time": "2022-03-23T00:35:34.924622",
     "exception": false,
     "start_time": "2022-03-23T00:35:34.873855",
     "status": "completed"
    },
    "tags": []
   },
   "outputs": [],
   "source": [
    "#Impoting functions from 'Kudzu'\n",
    "from kudzu.model import Model\n",
    "from kudzu.train import Learner\n",
    "from kudzu.optim import GD\n",
    "from kudzu.data import Data, Sampler,Dataloader\n",
    "\n",
    "from kudzu.callbacks import AccCallback\n",
    "from kudzu.callbacks import ClfCallback\n",
    "\n",
    "from kudzu.loss import MSE\n",
    "\n",
    "from kudzu.layer import Sigmoid,Relu\n",
    "from kudzu.layer import Affine"
   ]
  },
  {
   "cell_type": "markdown",
   "id": "bc01172a",
   "metadata": {
    "papermill": {
     "duration": 0.027222,
     "end_time": "2022-03-23T00:35:34.979241",
     "exception": false,
     "start_time": "2022-03-23T00:35:34.952019",
     "status": "completed"
    },
    "tags": []
   },
   "source": [
    "### Let us create a `Config` class, to store important parameters. \n",
    "This class essentially plays the role of a dictionary."
   ]
  },
  {
   "cell_type": "code",
   "execution_count": 16,
   "id": "978281aa",
   "metadata": {
    "execution": {
     "iopub.execute_input": "2022-03-23T00:35:35.040958Z",
     "iopub.status.busy": "2022-03-23T00:35:35.040391Z",
     "iopub.status.idle": "2022-03-23T00:35:35.051896Z",
     "shell.execute_reply": "2022-03-23T00:35:35.051393Z"
    },
    "papermill": {
     "duration": 0.044986,
     "end_time": "2022-03-23T00:35:35.052031",
     "exception": false,
     "start_time": "2022-03-23T00:35:35.007045",
     "status": "completed"
    },
    "tags": []
   },
   "outputs": [],
   "source": [
    "class Config:\n",
    "    pass\n",
    "config = Config()\n",
    "config.lr = 0.001\n",
    "config.num_epochs = 250\n",
    "config.bs = 50"
   ]
  },
  {
   "cell_type": "markdown",
   "id": "1385fa59",
   "metadata": {
    "papermill": {
     "duration": 0.027128,
     "end_time": "2022-03-23T00:35:35.106676",
     "exception": false,
     "start_time": "2022-03-23T00:35:35.079548",
     "status": "completed"
    },
    "tags": []
   },
   "source": [
    "### Running Models with the Training data\n",
    "Details about the network layers:\n",
    "- A first affine layer has 784 inputs and does 100 affine transforms. These are followed by a Relu\n",
    "- A second affine layer has 100 inputs from the 100 activations of the past layer, and does 100 affine transforms. These are followed by a Relu\n",
    "- A third affine layer has 100 activations and does 2 affine transformations to create an embedding for visualization. There is no non-linearity here.\n",
    "- A final \"logistic regression\" which has an affine transform from 2 inputs to 1 output, which is squeezed through a sigmoid.\n"
   ]
  },
  {
   "cell_type": "code",
   "execution_count": 17,
   "id": "2b9c66db",
   "metadata": {
    "execution": {
     "iopub.execute_input": "2022-03-23T00:35:35.165484Z",
     "iopub.status.busy": "2022-03-23T00:35:35.164930Z",
     "iopub.status.idle": "2022-03-23T00:35:35.178403Z",
     "shell.execute_reply": "2022-03-23T00:35:35.177948Z"
    },
    "papermill": {
     "duration": 0.044668,
     "end_time": "2022-03-23T00:35:35.178529",
     "exception": false,
     "start_time": "2022-03-23T00:35:35.133861",
     "status": "completed"
    },
    "tags": []
   },
   "outputs": [],
   "source": [
    "data = Data(X_train, y_train.reshape(-1,1))\n",
    "sampler = Sampler(data, config.bs, shuffle=True)\n",
    "\n",
    "dl = Dataloader(data, sampler)\n",
    "\n",
    "opt = GD(config.lr)\n",
    "loss = MSE()"
   ]
  },
  {
   "cell_type": "code",
   "execution_count": 18,
   "id": "b275e4c2",
   "metadata": {
    "execution": {
     "iopub.execute_input": "2022-03-23T00:35:35.237263Z",
     "iopub.status.busy": "2022-03-23T00:35:35.236732Z",
     "iopub.status.idle": "2022-03-23T00:35:35.249579Z",
     "shell.execute_reply": "2022-03-23T00:35:35.249138Z"
    },
    "papermill": {
     "duration": 0.043927,
     "end_time": "2022-03-23T00:35:35.249705",
     "exception": false,
     "start_time": "2022-03-23T00:35:35.205778",
     "status": "completed"
    },
    "tags": []
   },
   "outputs": [],
   "source": [
    "training_data_x = X_train\n",
    "testing_data_x = X_test\n",
    "training_data_y = y_train.reshape(-1,1)\n",
    "testing_data_y = y_test.reshape(-1,1)"
   ]
  },
  {
   "cell_type": "code",
   "execution_count": 19,
   "id": "76951160",
   "metadata": {
    "execution": {
     "iopub.execute_input": "2022-03-23T00:35:35.321382Z",
     "iopub.status.busy": "2022-03-23T00:35:35.316414Z",
     "iopub.status.idle": "2022-03-23T00:35:35.327953Z",
     "shell.execute_reply": "2022-03-23T00:35:35.328346Z"
    },
    "papermill": {
     "duration": 0.051839,
     "end_time": "2022-03-23T00:35:35.328493",
     "exception": false,
     "start_time": "2022-03-23T00:35:35.276654",
     "status": "completed"
    },
    "tags": []
   },
   "outputs": [
    {
     "name": "stdout",
     "output_type": "stream",
     "text": [
      "xavier\n",
      "xavier\n",
      "xavier\n",
      "xavier\n",
      "xavier\n"
     ]
    }
   ],
   "source": [
    "layers = [Affine(\"first\", 784, 100), Relu(\"first\"), Affine(\"second\", 100, 100), Relu(\"second\"), Affine(\"third\", 100, 2), Affine(\"last\", 2, 1), Sigmoid(\"last\")]\n",
    "model_nn = Model(layers)\n",
    "model_lr = Model([Affine(\"logits\", 784, 1), Sigmoid(\"sigmoid\")])"
   ]
  },
  {
   "cell_type": "code",
   "execution_count": 20,
   "id": "6eede77a",
   "metadata": {
    "execution": {
     "iopub.execute_input": "2022-03-23T00:35:35.396756Z",
     "iopub.status.busy": "2022-03-23T00:35:35.388324Z",
     "iopub.status.idle": "2022-03-23T00:35:35.402130Z",
     "shell.execute_reply": "2022-03-23T00:35:35.402567Z"
    },
    "papermill": {
     "duration": 0.046847,
     "end_time": "2022-03-23T00:35:35.402714",
     "exception": false,
     "start_time": "2022-03-23T00:35:35.355867",
     "status": "completed"
    },
    "tags": []
   },
   "outputs": [],
   "source": [
    "nn_learner = Learner(loss, model_nn, opt, config.num_epochs)\n",
    "acc_nn = ClfCallback(nn_learner, config.bs, training_data_x , testing_data_x, training_data_y, testing_data_y)\n",
    "nn_learner.set_callbacks([acc_nn])"
   ]
  },
  {
   "cell_type": "code",
   "execution_count": 21,
   "id": "877b6cc7",
   "metadata": {
    "execution": {
     "iopub.execute_input": "2022-03-23T00:35:35.471662Z",
     "iopub.status.busy": "2022-03-23T00:35:35.461004Z",
     "iopub.status.idle": "2022-03-23T00:35:35.475709Z",
     "shell.execute_reply": "2022-03-23T00:35:35.475244Z"
    },
    "papermill": {
     "duration": 0.045725,
     "end_time": "2022-03-23T00:35:35.475838",
     "exception": false,
     "start_time": "2022-03-23T00:35:35.430113",
     "status": "completed"
    },
    "tags": []
   },
   "outputs": [],
   "source": [
    "lr_learner = Learner(loss, model_lr, opt, config.num_epochs)\n",
    "acc_lr = ClfCallback(lr_learner, config.bs, training_data_x , testing_data_x, training_data_y, testing_data_y)\n",
    "lr_learner.set_callbacks([acc_lr])"
   ]
  },
  {
   "cell_type": "code",
   "execution_count": 22,
   "id": "d9b133c3",
   "metadata": {
    "execution": {
     "iopub.execute_input": "2022-03-23T00:35:35.546809Z",
     "iopub.status.busy": "2022-03-23T00:35:35.536623Z",
     "iopub.status.idle": "2022-03-23T00:36:57.435786Z",
     "shell.execute_reply": "2022-03-23T00:36:57.436545Z"
    },
    "papermill": {
     "duration": 81.933369,
     "end_time": "2022-03-23T00:36:57.436700",
     "exception": false,
     "start_time": "2022-03-23T00:35:35.503331",
     "status": "completed"
    },
    "tags": []
   },
   "outputs": [
    {
     "name": "stdout",
     "output_type": "stream",
     "text": [
      "Epoch 0, Loss 0.2539\n",
      "Training Accuracy: 0.5593, Testing Accuracy: 0.5590\n",
      "\n"
     ]
    },
    {
     "name": "stdout",
     "output_type": "stream",
     "text": [
      "Epoch 10, Loss 0.1185\n",
      "Training Accuracy: 0.9004, Testing Accuracy: 0.9103\n",
      "\n"
     ]
    },
    {
     "name": "stdout",
     "output_type": "stream",
     "text": [
      "Epoch 20, Loss 0.0651\n",
      "Training Accuracy: 0.9354, Testing Accuracy: 0.9435\n",
      "\n"
     ]
    },
    {
     "name": "stdout",
     "output_type": "stream",
     "text": [
      "Epoch 30, Loss 0.0484\n",
      "Training Accuracy: 0.9483, Testing Accuracy: 0.9561\n",
      "\n"
     ]
    },
    {
     "name": "stdout",
     "output_type": "stream",
     "text": [
      "Epoch 40, Loss 0.0409\n",
      "Training Accuracy: 0.9549, Testing Accuracy: 0.9627\n",
      "\n"
     ]
    },
    {
     "name": "stdout",
     "output_type": "stream",
     "text": [
      "Epoch 50, Loss 0.0365\n",
      "Training Accuracy: 0.9588, Testing Accuracy: 0.9632\n",
      "\n"
     ]
    },
    {
     "name": "stdout",
     "output_type": "stream",
     "text": [
      "Epoch 60, Loss 0.0337\n",
      "Training Accuracy: 0.9614, Testing Accuracy: 0.9637\n",
      "\n"
     ]
    },
    {
     "name": "stdout",
     "output_type": "stream",
     "text": [
      "Epoch 70, Loss 0.0316\n",
      "Training Accuracy: 0.9638, Testing Accuracy: 0.9647\n",
      "\n"
     ]
    },
    {
     "name": "stdout",
     "output_type": "stream",
     "text": [
      "Epoch 80, Loss 0.03\n",
      "Training Accuracy: 0.9655, Testing Accuracy: 0.9657\n",
      "\n"
     ]
    },
    {
     "name": "stdout",
     "output_type": "stream",
     "text": [
      "Epoch 90, Loss 0.0287\n",
      "Training Accuracy: 0.9667, Testing Accuracy: 0.9652\n",
      "\n"
     ]
    },
    {
     "name": "stdout",
     "output_type": "stream",
     "text": [
      "Epoch 100, Loss 0.0277\n",
      "Training Accuracy: 0.9680, Testing Accuracy: 0.9672\n",
      "\n"
     ]
    },
    {
     "name": "stdout",
     "output_type": "stream",
     "text": [
      "Epoch 110, Loss 0.0267\n",
      "Training Accuracy: 0.9693, Testing Accuracy: 0.9688\n",
      "\n"
     ]
    },
    {
     "name": "stdout",
     "output_type": "stream",
     "text": [
      "Epoch 120, Loss 0.0259\n",
      "Training Accuracy: 0.9700, Testing Accuracy: 0.9688\n",
      "\n"
     ]
    },
    {
     "name": "stdout",
     "output_type": "stream",
     "text": [
      "Epoch 130, Loss 0.0251\n",
      "Training Accuracy: 0.9710, Testing Accuracy: 0.9682\n",
      "\n"
     ]
    },
    {
     "name": "stdout",
     "output_type": "stream",
     "text": [
      "Epoch 140, Loss 0.0245\n",
      "Training Accuracy: 0.9714, Testing Accuracy: 0.9703\n",
      "\n"
     ]
    },
    {
     "name": "stdout",
     "output_type": "stream",
     "text": [
      "Epoch 150, Loss 0.0238\n",
      "Training Accuracy: 0.9719, Testing Accuracy: 0.9703\n",
      "\n"
     ]
    },
    {
     "name": "stdout",
     "output_type": "stream",
     "text": [
      "Epoch 160, Loss 0.0233\n",
      "Training Accuracy: 0.9726, Testing Accuracy: 0.9703\n",
      "\n"
     ]
    },
    {
     "name": "stdout",
     "output_type": "stream",
     "text": [
      "Epoch 170, Loss 0.0227\n",
      "Training Accuracy: 0.9731, Testing Accuracy: 0.9703\n",
      "\n"
     ]
    },
    {
     "name": "stdout",
     "output_type": "stream",
     "text": [
      "Epoch 180, Loss 0.0222\n",
      "Training Accuracy: 0.9740, Testing Accuracy: 0.9708\n",
      "\n"
     ]
    },
    {
     "name": "stdout",
     "output_type": "stream",
     "text": [
      "Epoch 190, Loss 0.0217\n",
      "Training Accuracy: 0.9742, Testing Accuracy: 0.9713\n",
      "\n"
     ]
    },
    {
     "name": "stdout",
     "output_type": "stream",
     "text": [
      "Epoch 200, Loss 0.0213\n",
      "Training Accuracy: 0.9752, Testing Accuracy: 0.9713\n",
      "\n"
     ]
    },
    {
     "name": "stdout",
     "output_type": "stream",
     "text": [
      "Epoch 210, Loss 0.0208\n",
      "Training Accuracy: 0.9762, Testing Accuracy: 0.9718\n",
      "\n"
     ]
    },
    {
     "name": "stdout",
     "output_type": "stream",
     "text": [
      "Epoch 220, Loss 0.0204\n",
      "Training Accuracy: 0.9768, Testing Accuracy: 0.9713\n",
      "\n"
     ]
    },
    {
     "name": "stdout",
     "output_type": "stream",
     "text": [
      "Epoch 230, Loss 0.02\n",
      "Training Accuracy: 0.9776, Testing Accuracy: 0.9723\n",
      "\n"
     ]
    },
    {
     "name": "stdout",
     "output_type": "stream",
     "text": [
      "Epoch 240, Loss 0.0196\n",
      "Training Accuracy: 0.9786, Testing Accuracy: 0.9728\n",
      "\n"
     ]
    },
    {
     "data": {
      "text/plain": [
       "0.02450206855043727"
      ]
     },
     "execution_count": 22,
     "metadata": {},
     "output_type": "execute_result"
    }
   ],
   "source": [
    "nn_learner.train_loop(dl)"
   ]
  },
  {
   "cell_type": "code",
   "execution_count": 23,
   "id": "e0163366",
   "metadata": {
    "execution": {
     "iopub.execute_input": "2022-03-23T00:36:57.520121Z",
     "iopub.status.busy": "2022-03-23T00:36:57.519527Z",
     "iopub.status.idle": "2022-03-23T00:37:12.870335Z",
     "shell.execute_reply": "2022-03-23T00:37:12.869894Z"
    },
    "papermill": {
     "duration": 15.399015,
     "end_time": "2022-03-23T00:37:12.870460",
     "exception": false,
     "start_time": "2022-03-23T00:36:57.471445",
     "status": "completed"
    },
    "tags": []
   },
   "outputs": [
    {
     "name": "stdout",
     "output_type": "stream",
     "text": [
      "Epoch 0, Loss 0.2105\n",
      "Training Accuracy: 0.7530, Testing Accuracy: 0.7777\n",
      "\n"
     ]
    },
    {
     "name": "stdout",
     "output_type": "stream",
     "text": [
      "Epoch 10, Loss 0.105\n",
      "Training Accuracy: 0.8966, Testing Accuracy: 0.9118\n",
      "\n"
     ]
    },
    {
     "name": "stdout",
     "output_type": "stream",
     "text": [
      "Epoch 20, Loss 0.0816\n",
      "Training Accuracy: 0.9225, Testing Accuracy: 0.9360\n",
      "\n"
     ]
    },
    {
     "name": "stdout",
     "output_type": "stream",
     "text": [
      "Epoch 30, Loss 0.0702\n",
      "Training Accuracy: 0.9325, Testing Accuracy: 0.9481\n",
      "\n"
     ]
    },
    {
     "name": "stdout",
     "output_type": "stream",
     "text": [
      "Epoch 40, Loss 0.0632\n",
      "Training Accuracy: 0.9383, Testing Accuracy: 0.9511\n",
      "\n"
     ]
    },
    {
     "name": "stdout",
     "output_type": "stream",
     "text": [
      "Epoch 50, Loss 0.0585\n",
      "Training Accuracy: 0.9434, Testing Accuracy: 0.9556\n",
      "\n"
     ]
    },
    {
     "name": "stdout",
     "output_type": "stream",
     "text": [
      "Epoch 60, Loss 0.055\n",
      "Training Accuracy: 0.9448, Testing Accuracy: 0.9602\n",
      "\n"
     ]
    },
    {
     "name": "stdout",
     "output_type": "stream",
     "text": [
      "Epoch 70, Loss 0.0523\n",
      "Training Accuracy: 0.9473, Testing Accuracy: 0.9602\n",
      "\n"
     ]
    },
    {
     "name": "stdout",
     "output_type": "stream",
     "text": [
      "Epoch 80, Loss 0.0501\n",
      "Training Accuracy: 0.9489, Testing Accuracy: 0.9632\n",
      "\n"
     ]
    },
    {
     "name": "stdout",
     "output_type": "stream",
     "text": [
      "Epoch 90, Loss 0.0484\n",
      "Training Accuracy: 0.9499, Testing Accuracy: 0.9637\n",
      "\n"
     ]
    },
    {
     "name": "stdout",
     "output_type": "stream",
     "text": [
      "Epoch 100, Loss 0.0469\n",
      "Training Accuracy: 0.9516, Testing Accuracy: 0.9647\n",
      "\n"
     ]
    },
    {
     "name": "stdout",
     "output_type": "stream",
     "text": [
      "Epoch 110, Loss 0.0456\n",
      "Training Accuracy: 0.9528, Testing Accuracy: 0.9647\n",
      "\n"
     ]
    },
    {
     "name": "stdout",
     "output_type": "stream",
     "text": [
      "Epoch 120, Loss 0.0445\n",
      "Training Accuracy: 0.9537, Testing Accuracy: 0.9642\n",
      "\n"
     ]
    },
    {
     "name": "stdout",
     "output_type": "stream",
     "text": [
      "Epoch 130, Loss 0.0435\n",
      "Training Accuracy: 0.9543, Testing Accuracy: 0.9647\n",
      "\n"
     ]
    },
    {
     "name": "stdout",
     "output_type": "stream",
     "text": [
      "Epoch 140, Loss 0.0427\n",
      "Training Accuracy: 0.9550, Testing Accuracy: 0.9642\n",
      "\n"
     ]
    },
    {
     "name": "stdout",
     "output_type": "stream",
     "text": [
      "Epoch 150, Loss 0.0419\n",
      "Training Accuracy: 0.9559, Testing Accuracy: 0.9647\n",
      "\n"
     ]
    },
    {
     "name": "stdout",
     "output_type": "stream",
     "text": [
      "Epoch 160, Loss 0.0412\n",
      "Training Accuracy: 0.9569, Testing Accuracy: 0.9657\n",
      "\n"
     ]
    },
    {
     "name": "stdout",
     "output_type": "stream",
     "text": [
      "Epoch 170, Loss 0.0405\n",
      "Training Accuracy: 0.9573, Testing Accuracy: 0.9667\n",
      "\n"
     ]
    },
    {
     "name": "stdout",
     "output_type": "stream",
     "text": [
      "Epoch 180, Loss 0.04\n",
      "Training Accuracy: 0.9577, Testing Accuracy: 0.9667\n",
      "\n"
     ]
    },
    {
     "name": "stdout",
     "output_type": "stream",
     "text": [
      "Epoch 190, Loss 0.0394\n",
      "Training Accuracy: 0.9578, Testing Accuracy: 0.9672\n",
      "\n"
     ]
    },
    {
     "name": "stdout",
     "output_type": "stream",
     "text": [
      "Epoch 200, Loss 0.0389\n",
      "Training Accuracy: 0.9583, Testing Accuracy: 0.9672\n",
      "\n"
     ]
    },
    {
     "name": "stdout",
     "output_type": "stream",
     "text": [
      "Epoch 210, Loss 0.0385\n",
      "Training Accuracy: 0.9585, Testing Accuracy: 0.9677\n",
      "\n"
     ]
    },
    {
     "name": "stdout",
     "output_type": "stream",
     "text": [
      "Epoch 220, Loss 0.038\n",
      "Training Accuracy: 0.9588, Testing Accuracy: 0.9677\n",
      "\n"
     ]
    },
    {
     "name": "stdout",
     "output_type": "stream",
     "text": [
      "Epoch 230, Loss 0.0376\n",
      "Training Accuracy: 0.9593, Testing Accuracy: 0.9682\n",
      "\n"
     ]
    },
    {
     "name": "stdout",
     "output_type": "stream",
     "text": [
      "Epoch 240, Loss 0.0373\n",
      "Training Accuracy: 0.9595, Testing Accuracy: 0.9682\n",
      "\n"
     ]
    },
    {
     "data": {
      "text/plain": [
       "0.05944399371503005"
      ]
     },
     "execution_count": 23,
     "metadata": {},
     "output_type": "execute_result"
    }
   ],
   "source": [
    "lr_learner.train_loop(dl)"
   ]
  },
  {
   "cell_type": "code",
   "execution_count": 24,
   "id": "ca410940",
   "metadata": {
    "execution": {
     "iopub.execute_input": "2022-03-23T00:37:12.958216Z",
     "iopub.status.busy": "2022-03-23T00:37:12.957682Z",
     "iopub.status.idle": "2022-03-23T00:37:13.180478Z",
     "shell.execute_reply": "2022-03-23T00:37:13.180902Z"
    },
    "papermill": {
     "duration": 0.269306,
     "end_time": "2022-03-23T00:37:13.181043",
     "exception": false,
     "start_time": "2022-03-23T00:37:12.911737",
     "status": "completed"
    },
    "tags": []
   },
   "outputs": [
    {
     "data": {
      "text/plain": [
       "<matplotlib.legend.Legend at 0x7f844b600da0>"
      ]
     },
     "execution_count": 24,
     "metadata": {},
     "output_type": "execute_result"
    },
    {
     "data": {
      "image/png": "[encoded data removed]",
      "text/plain": [
       "<Figure size 1080x720 with 1 Axes>"
      ]
     },
     "metadata": {
      "needs_background": "light"
     },
     "output_type": "display_data"
    }
   ],
   "source": [
    "#comparing the results of NN and LR\n",
    "plt.figure(figsize=(15,10))\n",
    "\n",
    "# Neural Network plots\n",
    "plt.plot(acc_nn.accuracies, 'r-', label = \"Training Accuracies - NN\")\n",
    "plt.plot(acc_nn.test_accuracies, 'g-', label = \"Testing Accuracies - NN\")\n",
    "\n",
    "# Logistic Regression plots\n",
    "plt.plot(acc_lr.accuracies, 'k-', label = \"Training Accuracies - LR\")\n",
    "plt.plot(acc_lr.test_accuracies, 'b-', label = \"Testing Accuracies - LR\")\n",
    "plt.legend()"
   ]
  },
  {
   "cell_type": "markdown",
   "id": "80dfb35c",
   "metadata": {
    "papermill": {
     "duration": 0.041666,
     "end_time": "2022-03-23T00:37:13.264836",
     "exception": false,
     "start_time": "2022-03-23T00:37:13.223170",
     "status": "completed"
    },
    "tags": []
   },
   "source": [
    "#### Plotting the outputs of this layer of the NN.\n"
   ]
  },
  {
   "cell_type": "code",
   "execution_count": 25,
   "id": "45eb2ff5",
   "metadata": {
    "execution": {
     "iopub.execute_input": "2022-03-23T00:37:13.359076Z",
     "iopub.status.busy": "2022-03-23T00:37:13.357937Z",
     "iopub.status.idle": "2022-03-23T00:37:13.377909Z",
     "shell.execute_reply": "2022-03-23T00:37:13.378617Z"
    },
    "papermill": {
     "duration": 0.072258,
     "end_time": "2022-03-23T00:37:13.378766",
     "exception": false,
     "start_time": "2022-03-23T00:37:13.306508",
     "status": "completed"
    },
    "tags": []
   },
   "outputs": [],
   "source": [
    "new_model = Model(layers[:-2])\n",
    "testing_plot = new_model(testing_data_x)"
   ]
  },
  {
   "cell_type": "code",
   "execution_count": 26,
   "id": "4c0a5485",
   "metadata": {
    "execution": {
     "iopub.execute_input": "2022-03-23T00:37:13.467737Z",
     "iopub.status.busy": "2022-03-23T00:37:13.467160Z",
     "iopub.status.idle": "2022-03-23T00:37:13.672059Z",
     "shell.execute_reply": "2022-03-23T00:37:13.672456Z"
    },
    "papermill": {
     "duration": 0.251665,
     "end_time": "2022-03-23T00:37:13.672604",
     "exception": false,
     "start_time": "2022-03-23T00:37:13.420939",
     "status": "completed"
    },
    "tags": []
   },
   "outputs": [
    {
     "data": {
      "text/plain": [
       "Text(0.5, 1.0, 'Outputs')"
      ]
     },
     "execution_count": 26,
     "metadata": {},
     "output_type": "execute_result"
    },
    {
     "data": {
      "image/png": "[encoded data removed]",
      "text/plain": [
       "<Figure size 576x504 with 1 Axes>"
      ]
     },
     "metadata": {
      "needs_background": "light"
     },
     "output_type": "display_data"
    }
   ],
   "source": [
    "# Plotting the scatter plot of points and color coding by class\n",
    "plt.figure(figsize=(8,7))\n",
    "plt.scatter(testing_plot[:,0], testing_plot[:,1], alpha = 0.1, c = y_test.ravel());\n",
    "plt.title('Outputs')"
   ]
  },
  {
   "cell_type": "markdown",
   "id": "a74fcf8f",
   "metadata": {
    "papermill": {
     "duration": 0.043535,
     "end_time": "2022-03-23T00:37:13.759930",
     "exception": false,
     "start_time": "2022-03-23T00:37:13.716395",
     "status": "completed"
    },
    "tags": []
   },
   "source": [
    "Probability contours"
   ]
  },
  {
   "cell_type": "code",
   "execution_count": 27,
   "id": "d0afc8e3",
   "metadata": {
    "execution": {
     "iopub.execute_input": "2022-03-23T00:37:13.851351Z",
     "iopub.status.busy": "2022-03-23T00:37:13.850815Z",
     "iopub.status.idle": "2022-03-23T00:37:13.864211Z",
     "shell.execute_reply": "2022-03-23T00:37:13.863778Z"
    },
    "papermill": {
     "duration": 0.060651,
     "end_time": "2022-03-23T00:37:13.864330",
     "exception": false,
     "start_time": "2022-03-23T00:37:13.803679",
     "status": "completed"
    },
    "tags": []
   },
   "outputs": [],
   "source": [
    "model_prob = Model(layers[-2:]) "
   ]
  },
  {
   "cell_type": "code",
   "execution_count": 28,
   "id": "9b96e238",
   "metadata": {
    "execution": {
     "iopub.execute_input": "2022-03-23T00:37:13.957481Z",
     "iopub.status.busy": "2022-03-23T00:37:13.956942Z",
     "iopub.status.idle": "2022-03-23T00:37:13.972949Z",
     "shell.execute_reply": "2022-03-23T00:37:13.973370Z"
    },
    "papermill": {
     "duration": 0.065491,
     "end_time": "2022-03-23T00:37:13.973520",
     "exception": false,
     "start_time": "2022-03-23T00:37:13.908029",
     "status": "completed"
    },
    "tags": []
   },
   "outputs": [],
   "source": [
    "#creating the x and y ranges according to the above generated plot.\n",
    "x_range = np.linspace(-4, 1, 100) \n",
    "y_range = np.linspace(-6, 6, 100) \n",
    "x_grid, y_grid = np.meshgrid(x_range, y_range) # x_grid and y_grig are of size 100 X 100\n",
    "\n",
    "# converting x_grid and y_grid to continuous arrays\n",
    "x_gridflat = np.ravel(x_grid)\n",
    "y_gridflat = np.ravel(y_grid)\n",
    "\n",
    "# The last layer of the current model takes two columns as input. Hence transpose of np.vstack() is required.\n",
    "X = np.vstack((x_gridflat, y_gridflat)).T\n",
    "\n",
    "prob_contour = model_prob(X).reshape(100,100) "
   ]
  },
  {
   "cell_type": "code",
   "execution_count": 29,
   "id": "da72499a",
   "metadata": {
    "execution": {
     "iopub.execute_input": "2022-03-23T00:37:14.106048Z",
     "iopub.status.busy": "2022-03-23T00:37:14.104060Z",
     "iopub.status.idle": "2022-03-23T00:37:14.350994Z",
     "shell.execute_reply": "2022-03-23T00:37:14.351409Z"
    },
    "papermill": {
     "duration": 0.298217,
     "end_time": "2022-03-23T00:37:14.351576",
     "exception": false,
     "start_time": "2022-03-23T00:37:14.053359",
     "status": "completed"
    },
    "tags": []
   },
   "outputs": [
    {
     "data": {
      "image/png": "[encoded data removed]",
      "text/plain": [
       "<Figure size 720x648 with 1 Axes>"
      ]
     },
     "metadata": {
      "needs_background": "light"
     },
     "output_type": "display_data"
    }
   ],
   "source": [
    "plt.figure(figsize=(10,9))\n",
    "plt.scatter(testing_plot[:,0], testing_plot[:,1], alpha = 0.1, c = y_test.ravel())\n",
    "contours = plt.contour(x_grid,y_grid,prob_contour)\n",
    "plt.title('Probability Contours')\n",
    "plt.clabel(contours, inline = True );"
   ]
  },
  {
   "cell_type": "code",
   "execution_count": null,
   "id": "e81b4ac7",
   "metadata": {
    "papermill": {
     "duration": 0.045896,
     "end_time": "2022-03-23T00:37:14.443800",
     "exception": false,
     "start_time": "2022-03-23T00:37:14.397904",
     "status": "completed"
    },
    "tags": []
   },
   "outputs": [],
   "source": []
  }
 ],
 "metadata": {
  "kernelspec": {
   "display_name": "Python 3",
   "language": "python",
   "name": "python3"
  },
  "language_info": {
   "codemirror_mode": {
    "name": "ipython",
    "version": 3
   },
   "file_extension": ".py",
   "mimetype": "text/x-python",
   "name": "python",
   "nbconvert_exporter": "python",
   "pygments_lexer": "ipython3",
   "version": "3.6.15"
  },
  "papermill": {
   "default_parameters": {},
   "duration": 105.67909,
   "end_time": "2022-03-23T00:37:14.908881",
   "environment_variables": {},
   "exception": null,
   "input_path": "2020-08-11-part2.ipynb",
   "output_path": "2020-08-11-part2.ipynb",
   "parameters": {},
   "start_time": "2022-03-23T00:35:29.229791",
   "version": "2.3.3"
  }
 },
 "nbformat": 4,
 "nbformat_minor": 5
}