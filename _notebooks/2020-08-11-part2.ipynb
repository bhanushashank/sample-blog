{
 "cells": [
  {
   "cell_type": "markdown",
   "id": "98380cd3",
   "metadata": {
    "papermill": {
     "duration": 0.028885,
     "end_time": "2022-11-14T00:39:46.904329",
     "exception": false,
     "start_time": "2022-11-14T00:39:46.875444",
     "status": "completed"
    },
    "tags": []
   },
   "source": [
    "# Distinguish Your Own Digits (DYOD)"
   ]
  },
  {
   "cell_type": "markdown",
   "id": "ef31240d",
   "metadata": {
    "papermill": {
     "duration": 0.023855,
     "end_time": "2022-11-14T00:39:46.952842",
     "exception": false,
     "start_time": "2022-11-14T00:39:46.928987",
     "status": "completed"
    },
    "tags": []
   },
   "source": [
    "You are going to write a classifier that distinguishes between the number 3 and number 8."
   ]
  },
  {
   "cell_type": "code",
   "execution_count": 1,
   "id": "b15c8646",
   "metadata": {
    "execution": {
     "iopub.execute_input": "2022-11-14T00:39:47.010640Z",
     "iopub.status.busy": "2022-11-14T00:39:47.010070Z",
     "iopub.status.idle": "2022-11-14T00:39:47.020455Z",
     "shell.execute_reply": "2022-11-14T00:39:47.019894Z"
    },
    "papermill": {
     "duration": 0.04387,
     "end_time": "2022-11-14T00:39:47.020568",
     "exception": false,
     "start_time": "2022-11-14T00:39:46.976698",
     "status": "completed"
    },
    "tags": []
   },
   "outputs": [],
   "source": [
    "%load_ext autoreload\n",
    "%autoreload 2"
   ]
  },
  {
   "cell_type": "code",
   "execution_count": 2,
   "id": "22ef38dc",
   "metadata": {
    "execution": {
     "iopub.execute_input": "2022-11-14T00:39:47.072050Z",
     "iopub.status.busy": "2022-11-14T00:39:47.071467Z",
     "iopub.status.idle": "2022-11-14T00:39:47.601714Z",
     "shell.execute_reply": "2022-11-14T00:39:47.601228Z"
    },
    "papermill": {
     "duration": 0.557222,
     "end_time": "2022-11-14T00:39:47.601832",
     "exception": false,
     "start_time": "2022-11-14T00:39:47.044610",
     "status": "completed"
    },
    "tags": []
   },
   "outputs": [],
   "source": [
    "%matplotlib inline\n",
    "import numpy as np\n",
    "import matplotlib.pyplot as plt\n",
    "import pandas as pd"
   ]
  },
  {
   "cell_type": "markdown",
   "id": "ba036198",
   "metadata": {
    "papermill": {
     "duration": 0.02421,
     "end_time": "2022-11-14T00:39:47.653873",
     "exception": false,
     "start_time": "2022-11-14T00:39:47.629663",
     "status": "completed"
    },
    "tags": []
   },
   "source": [
    "From the command line run `pip install mnist`. This is a library that will help you bring down the mnist dataset. If you run this from a notebook, you need to put  `!pip install mnist` in a cell by itself."
   ]
  },
  {
   "cell_type": "code",
   "execution_count": 3,
   "id": "bb6ad8a1",
   "metadata": {
    "execution": {
     "iopub.execute_input": "2022-11-14T00:39:47.706089Z",
     "iopub.status.busy": "2022-11-14T00:39:47.705518Z",
     "iopub.status.idle": "2022-11-14T00:39:50.131173Z",
     "shell.execute_reply": "2022-11-14T00:39:50.130666Z"
    },
    "papermill": {
     "duration": 2.453133,
     "end_time": "2022-11-14T00:39:50.131284",
     "exception": false,
     "start_time": "2022-11-14T00:39:47.678151",
     "status": "completed"
    },
    "tags": []
   },
   "outputs": [
    {
     "name": "stdout",
     "output_type": "stream",
     "text": [
      "Collecting mnist\r\n"
     ]
    },
    {
     "name": "stdout",
     "output_type": "stream",
     "text": [
      "  Downloading mnist-0.2.2-py2.py3-none-any.whl (3.5 kB)\r\n",
      "Requirement already satisfied: numpy in /opt/hostedtoolcache/Python/3.6.15/x64/lib/python3.6/site-packages (from mnist) (1.19.5)\r\n"
     ]
    },
    {
     "name": "stdout",
     "output_type": "stream",
     "text": [
      "Installing collected packages: mnist\r\n"
     ]
    },
    {
     "name": "stdout",
     "output_type": "stream",
     "text": [
      "Successfully installed mnist-0.2.2\r\n"
     ]
    }
   ],
   "source": [
    "!pip install mnist"
   ]
  },
  {
   "cell_type": "markdown",
   "id": "69df9c9a",
   "metadata": {
    "papermill": {
     "duration": 0.025403,
     "end_time": "2022-11-14T00:39:50.182298",
     "exception": false,
     "start_time": "2022-11-14T00:39:50.156895",
     "status": "completed"
    },
    "tags": []
   },
   "source": [
    "## Preparing the Data"
   ]
  },
  {
   "cell_type": "code",
   "execution_count": 4,
   "id": "7f69d806",
   "metadata": {
    "execution": {
     "iopub.execute_input": "2022-11-14T00:39:50.236671Z",
     "iopub.status.busy": "2022-11-14T00:39:50.236111Z",
     "iopub.status.idle": "2022-11-14T00:39:50.250196Z",
     "shell.execute_reply": "2022-11-14T00:39:50.249727Z"
    },
    "papermill": {
     "duration": 0.042835,
     "end_time": "2022-11-14T00:39:50.250300",
     "exception": false,
     "start_time": "2022-11-14T00:39:50.207465",
     "status": "completed"
    },
    "tags": []
   },
   "outputs": [],
   "source": [
    "import mnist"
   ]
  },
  {
   "cell_type": "code",
   "execution_count": 5,
   "id": "a411e44f",
   "metadata": {
    "execution": {
     "iopub.execute_input": "2022-11-14T00:39:50.304048Z",
     "iopub.status.busy": "2022-11-14T00:39:50.303464Z",
     "iopub.status.idle": "2022-11-14T00:39:50.857551Z",
     "shell.execute_reply": "2022-11-14T00:39:50.857063Z"
    },
    "papermill": {
     "duration": 0.582208,
     "end_time": "2022-11-14T00:39:50.857668",
     "exception": false,
     "start_time": "2022-11-14T00:39:50.275460",
     "status": "completed"
    },
    "tags": []
   },
   "outputs": [],
   "source": [
    "train_images = mnist.train_images()\n",
    "train_labels = mnist.train_labels()"
   ]
  },
  {
   "cell_type": "code",
   "execution_count": 6,
   "id": "dceab3a5",
   "metadata": {
    "execution": {
     "iopub.execute_input": "2022-11-14T00:39:50.912348Z",
     "iopub.status.busy": "2022-11-14T00:39:50.911755Z",
     "iopub.status.idle": "2022-11-14T00:39:50.925765Z",
     "shell.execute_reply": "2022-11-14T00:39:50.925304Z"
    },
    "papermill": {
     "duration": 0.042689,
     "end_time": "2022-11-14T00:39:50.925867",
     "exception": false,
     "start_time": "2022-11-14T00:39:50.883178",
     "status": "completed"
    },
    "tags": []
   },
   "outputs": [
    {
     "data": {
      "text/plain": [
       "((60000, 28, 28), (60000,))"
      ]
     },
     "execution_count": 6,
     "metadata": {},
     "output_type": "execute_result"
    }
   ],
   "source": [
    "train_images.shape, train_labels.shape"
   ]
  },
  {
   "cell_type": "code",
   "execution_count": 7,
   "id": "f50dc2bb",
   "metadata": {
    "execution": {
     "iopub.execute_input": "2022-11-14T00:39:50.980460Z",
     "iopub.status.busy": "2022-11-14T00:39:50.979860Z",
     "iopub.status.idle": "2022-11-14T00:39:51.133921Z",
     "shell.execute_reply": "2022-11-14T00:39:51.133413Z"
    },
    "papermill": {
     "duration": 0.182761,
     "end_time": "2022-11-14T00:39:51.134033",
     "exception": false,
     "start_time": "2022-11-14T00:39:50.951272",
     "status": "completed"
    },
    "tags": []
   },
   "outputs": [],
   "source": [
    "test_images = mnist.test_images()\n",
    "test_labels = mnist.test_labels()"
   ]
  },
  {
   "cell_type": "code",
   "execution_count": 8,
   "id": "fc38cf1b",
   "metadata": {
    "execution": {
     "iopub.execute_input": "2022-11-14T00:39:51.188832Z",
     "iopub.status.busy": "2022-11-14T00:39:51.188267Z",
     "iopub.status.idle": "2022-11-14T00:39:51.201404Z",
     "shell.execute_reply": "2022-11-14T00:39:51.200941Z"
    },
    "papermill": {
     "duration": 0.041763,
     "end_time": "2022-11-14T00:39:51.201505",
     "exception": false,
     "start_time": "2022-11-14T00:39:51.159742",
     "status": "completed"
    },
    "tags": []
   },
   "outputs": [
    {
     "data": {
      "text/plain": [
       "((10000, 28, 28), (10000,))"
      ]
     },
     "execution_count": 8,
     "metadata": {},
     "output_type": "execute_result"
    }
   ],
   "source": [
    "test_images.shape, test_labels.shape"
   ]
  },
  {
   "cell_type": "code",
   "execution_count": 9,
   "id": "f9ed8fe0",
   "metadata": {
    "execution": {
     "iopub.execute_input": "2022-11-14T00:39:51.256314Z",
     "iopub.status.busy": "2022-11-14T00:39:51.255723Z",
     "iopub.status.idle": "2022-11-14T00:39:51.385622Z",
     "shell.execute_reply": "2022-11-14T00:39:51.386069Z"
    },
    "papermill": {
     "duration": 0.15903,
     "end_time": "2022-11-14T00:39:51.386196",
     "exception": false,
     "start_time": "2022-11-14T00:39:51.227166",
     "status": "completed"
    },
    "tags": []
   },
   "outputs": [
    {
     "name": "stdout",
     "output_type": "stream",
     "text": [
      "2\n"
     ]
    },
    {
     "data": {
      "text/plain": [
       "<matplotlib.image.AxesImage at 0x7fdab6162dd8>"
      ]
     },
     "execution_count": 9,
     "metadata": {},
     "output_type": "execute_result"
    },
    {
     "data": {
      "image/png": "[encoded data removed]",
      "text/plain": [
       "<Figure size 432x288 with 1 Axes>"
      ]
     },
     "metadata": {
      "needs_background": "light"
     },
     "output_type": "display_data"
    }
   ],
   "source": [
    "image_index = 7776 # You may select anything up to 60,000\n",
    "print(train_labels[image_index]) \n",
    "plt.imshow(train_images[image_index], cmap='Greys')"
   ]
  },
  {
   "cell_type": "markdown",
   "id": "a8d2388d",
   "metadata": {
    "papermill": {
     "duration": 0.026671,
     "end_time": "2022-11-14T00:39:51.439766",
     "exception": false,
     "start_time": "2022-11-14T00:39:51.413095",
     "status": "completed"
    },
    "tags": []
   },
   "source": [
    "## Filter data to get 3 and 8 out"
   ]
  },
  {
   "cell_type": "code",
   "execution_count": 10,
   "id": "776f7fc7",
   "metadata": {
    "execution": {
     "iopub.execute_input": "2022-11-14T00:39:51.497428Z",
     "iopub.status.busy": "2022-11-14T00:39:51.496854Z",
     "iopub.status.idle": "2022-11-14T00:39:51.513087Z",
     "shell.execute_reply": "2022-11-14T00:39:51.512625Z"
    },
    "papermill": {
     "duration": 0.046557,
     "end_time": "2022-11-14T00:39:51.513188",
     "exception": false,
     "start_time": "2022-11-14T00:39:51.466631",
     "status": "completed"
    },
    "tags": []
   },
   "outputs": [],
   "source": [
    "train_filter = np.where((train_labels == 3 ) | (train_labels == 8))\n",
    "test_filter = np.where((test_labels == 3) | (test_labels == 8))\n",
    "X_train, y_train = train_images[train_filter], train_labels[train_filter]\n",
    "X_test, y_test = test_images[test_filter], test_labels[test_filter]"
   ]
  },
  {
   "cell_type": "markdown",
   "id": "948f0b7e",
   "metadata": {
    "papermill": {
     "duration": 0.026495,
     "end_time": "2022-11-14T00:39:51.566307",
     "exception": false,
     "start_time": "2022-11-14T00:39:51.539812",
     "status": "completed"
    },
    "tags": []
   },
   "source": [
    "We normalize the pizel values in the 0 to 1 range"
   ]
  },
  {
   "cell_type": "code",
   "execution_count": 11,
   "id": "ee4c2166",
   "metadata": {
    "execution": {
     "iopub.execute_input": "2022-11-14T00:39:51.622968Z",
     "iopub.status.busy": "2022-11-14T00:39:51.622399Z",
     "iopub.status.idle": "2022-11-14T00:39:51.663336Z",
     "shell.execute_reply": "2022-11-14T00:39:51.662748Z"
    },
    "papermill": {
     "duration": 0.07041,
     "end_time": "2022-11-14T00:39:51.663447",
     "exception": false,
     "start_time": "2022-11-14T00:39:51.593037",
     "status": "completed"
    },
    "tags": []
   },
   "outputs": [],
   "source": [
    "X_train = X_train/255.\n",
    "X_test = X_test/255."
   ]
  },
  {
   "cell_type": "markdown",
   "id": "ddcf4fab",
   "metadata": {
    "papermill": {
     "duration": 0.026719,
     "end_time": "2022-11-14T00:39:51.717093",
     "exception": false,
     "start_time": "2022-11-14T00:39:51.690374",
     "status": "completed"
    },
    "tags": []
   },
   "source": [
    "And setup the labels as 1 (when the digit is 3) and 0 (when the digit is 8)"
   ]
  },
  {
   "cell_type": "code",
   "execution_count": 12,
   "id": "7dc908f2",
   "metadata": {
    "execution": {
     "iopub.execute_input": "2022-11-14T00:39:51.774384Z",
     "iopub.status.busy": "2022-11-14T00:39:51.773819Z",
     "iopub.status.idle": "2022-11-14T00:39:51.786743Z",
     "shell.execute_reply": "2022-11-14T00:39:51.786268Z"
    },
    "papermill": {
     "duration": 0.043014,
     "end_time": "2022-11-14T00:39:51.786848",
     "exception": false,
     "start_time": "2022-11-14T00:39:51.743834",
     "status": "completed"
    },
    "tags": []
   },
   "outputs": [],
   "source": [
    "y_train = 1*(y_train==3)\n",
    "y_test = 1*(y_test==3)"
   ]
  },
  {
   "cell_type": "code",
   "execution_count": 13,
   "id": "01e4e969",
   "metadata": {
    "execution": {
     "iopub.execute_input": "2022-11-14T00:39:51.846580Z",
     "iopub.status.busy": "2022-11-14T00:39:51.844175Z",
     "iopub.status.idle": "2022-11-14T00:39:51.858514Z",
     "shell.execute_reply": "2022-11-14T00:39:51.858060Z"
    },
    "papermill": {
     "duration": 0.045023,
     "end_time": "2022-11-14T00:39:51.858614",
     "exception": false,
     "start_time": "2022-11-14T00:39:51.813591",
     "status": "completed"
    },
    "tags": []
   },
   "outputs": [
    {
     "data": {
      "text/plain": [
       "((11982, 28, 28), (1984, 28, 28))"
      ]
     },
     "execution_count": 13,
     "metadata": {},
     "output_type": "execute_result"
    }
   ],
   "source": [
    "X_train.shape, X_test.shape"
   ]
  },
  {
   "cell_type": "markdown",
   "id": "5ccf3f85",
   "metadata": {
    "papermill": {
     "duration": 0.026901,
     "end_time": "2022-11-14T00:39:51.912357",
     "exception": false,
     "start_time": "2022-11-14T00:39:51.885456",
     "status": "completed"
    },
    "tags": []
   },
   "source": [
    "We reshape the data to flatten the image pixels into a set of features or co-variates:"
   ]
  },
  {
   "cell_type": "code",
   "execution_count": 14,
   "id": "5286a4a3",
   "metadata": {
    "execution": {
     "iopub.execute_input": "2022-11-14T00:39:51.970183Z",
     "iopub.status.busy": "2022-11-14T00:39:51.969619Z",
     "iopub.status.idle": "2022-11-14T00:39:51.984333Z",
     "shell.execute_reply": "2022-11-14T00:39:51.983296Z"
    },
    "papermill": {
     "duration": 0.045047,
     "end_time": "2022-11-14T00:39:51.984440",
     "exception": false,
     "start_time": "2022-11-14T00:39:51.939393",
     "status": "completed"
    },
    "tags": []
   },
   "outputs": [
    {
     "data": {
      "text/plain": [
       "((11982, 784), (1984, 784))"
      ]
     },
     "execution_count": 14,
     "metadata": {},
     "output_type": "execute_result"
    }
   ],
   "source": [
    "X_train = X_train.reshape(X_train.shape[0], -1)\n",
    "X_test = X_test.reshape(X_test.shape[0], -1)\n",
    "X_train.shape, X_test.shape"
   ]
  },
  {
   "cell_type": "code",
   "execution_count": 15,
   "id": "73c5f88a",
   "metadata": {
    "execution": {
     "iopub.execute_input": "2022-11-14T00:39:52.042876Z",
     "iopub.status.busy": "2022-11-14T00:39:52.042322Z",
     "iopub.status.idle": "2022-11-14T00:39:52.059789Z",
     "shell.execute_reply": "2022-11-14T00:39:52.059328Z"
    },
    "papermill": {
     "duration": 0.048194,
     "end_time": "2022-11-14T00:39:52.059891",
     "exception": false,
     "start_time": "2022-11-14T00:39:52.011697",
     "status": "completed"
    },
    "tags": []
   },
   "outputs": [],
   "source": [
    "#Impoting functions from 'Kudzu'\n",
    "from kudzu.model import Model\n",
    "from kudzu.train import Learner\n",
    "from kudzu.optim import GD\n",
    "from kudzu.data import Data, Sampler,Dataloader\n",
    "\n",
    "from kudzu.callbacks import AccCallback\n",
    "from kudzu.callbacks import ClfCallback\n",
    "\n",
    "from kudzu.loss import MSE\n",
    "\n",
    "from kudzu.layer import Sigmoid,Relu\n",
    "from kudzu.layer import Affine"
   ]
  },
  {
   "cell_type": "markdown",
   "id": "bc01172a",
   "metadata": {
    "papermill": {
     "duration": 0.027169,
     "end_time": "2022-11-14T00:39:52.114473",
     "exception": false,
     "start_time": "2022-11-14T00:39:52.087304",
     "status": "completed"
    },
    "tags": []
   },
   "source": [
    "### Let us create a `Config` class, to store important parameters. \n",
    "This class essentially plays the role of a dictionary."
   ]
  },
  {
   "cell_type": "code",
   "execution_count": 16,
   "id": "978281aa",
   "metadata": {
    "execution": {
     "iopub.execute_input": "2022-11-14T00:39:52.173917Z",
     "iopub.status.busy": "2022-11-14T00:39:52.173348Z",
     "iopub.status.idle": "2022-11-14T00:39:52.184694Z",
     "shell.execute_reply": "2022-11-14T00:39:52.184238Z"
    },
    "papermill": {
     "duration": 0.043173,
     "end_time": "2022-11-14T00:39:52.184796",
     "exception": false,
     "start_time": "2022-11-14T00:39:52.141623",
     "status": "completed"
    },
    "tags": []
   },
   "outputs": [],
   "source": [
    "class Config:\n",
    "    pass\n",
    "config = Config()\n",
    "config.lr = 0.001\n",
    "config.num_epochs = 250\n",
    "config.bs = 50"
   ]
  },
  {
   "cell_type": "markdown",
   "id": "1385fa59",
   "metadata": {
    "papermill": {
     "duration": 0.02703,
     "end_time": "2022-11-14T00:39:52.239040",
     "exception": false,
     "start_time": "2022-11-14T00:39:52.212010",
     "status": "completed"
    },
    "tags": []
   },
   "source": [
    "### Running Models with the Training data\n",
    "Details about the network layers:\n",
    "- A first affine layer has 784 inputs and does 100 affine transforms. These are followed by a Relu\n",
    "- A second affine layer has 100 inputs from the 100 activations of the past layer, and does 100 affine transforms. These are followed by a Relu\n",
    "- A third affine layer has 100 activations and does 2 affine transformations to create an embedding for visualization. There is no non-linearity here.\n",
    "- A final \"logistic regression\" which has an affine transform from 2 inputs to 1 output, which is squeezed through a sigmoid.\n"
   ]
  },
  {
   "cell_type": "code",
   "execution_count": 17,
   "id": "2b9c66db",
   "metadata": {
    "execution": {
     "iopub.execute_input": "2022-11-14T00:39:52.300724Z",
     "iopub.status.busy": "2022-11-14T00:39:52.297261Z",
     "iopub.status.idle": "2022-11-14T00:39:52.308691Z",
     "shell.execute_reply": "2022-11-14T00:39:52.309144Z"
    },
    "papermill": {
     "duration": 0.042641,
     "end_time": "2022-11-14T00:39:52.309259",
     "exception": false,
     "start_time": "2022-11-14T00:39:52.266618",
     "status": "completed"
    },
    "tags": []
   },
   "outputs": [],
   "source": [
    "data = Data(X_train, y_train.reshape(-1,1))\n",
    "sampler = Sampler(data, config.bs, shuffle=True)\n",
    "\n",
    "dl = Dataloader(data, sampler)\n",
    "\n",
    "opt = GD(config.lr)\n",
    "loss = MSE()"
   ]
  },
  {
   "cell_type": "code",
   "execution_count": 18,
   "id": "b275e4c2",
   "metadata": {
    "execution": {
     "iopub.execute_input": "2022-11-14T00:39:52.366912Z",
     "iopub.status.busy": "2022-11-14T00:39:52.366352Z",
     "iopub.status.idle": "2022-11-14T00:39:52.378070Z",
     "shell.execute_reply": "2022-11-14T00:39:52.377618Z"
    },
    "papermill": {
     "duration": 0.04176,
     "end_time": "2022-11-14T00:39:52.378169",
     "exception": false,
     "start_time": "2022-11-14T00:39:52.336409",
     "status": "completed"
    },
    "tags": []
   },
   "outputs": [],
   "source": [
    "training_data_x = X_train\n",
    "testing_data_x = X_test\n",
    "training_data_y = y_train.reshape(-1,1)\n",
    "testing_data_y = y_test.reshape(-1,1)"
   ]
  },
  {
   "cell_type": "code",
   "execution_count": 19,
   "id": "76951160",
   "metadata": {
    "execution": {
     "iopub.execute_input": "2022-11-14T00:39:52.436242Z",
     "iopub.status.busy": "2022-11-14T00:39:52.435644Z",
     "iopub.status.idle": "2022-11-14T00:39:52.451363Z",
     "shell.execute_reply": "2022-11-14T00:39:52.450822Z"
    },
    "papermill": {
     "duration": 0.046218,
     "end_time": "2022-11-14T00:39:52.451466",
     "exception": false,
     "start_time": "2022-11-14T00:39:52.405248",
     "status": "completed"
    },
    "tags": []
   },
   "outputs": [
    {
     "name": "stdout",
     "output_type": "stream",
     "text": [
      "xavier\n",
      "xavier\n",
      "xavier\n",
      "xavier\n",
      "xavier\n"
     ]
    }
   ],
   "source": [
    "layers = [Affine(\"first\", 784, 100), Relu(\"first\"), Affine(\"second\", 100, 100), Relu(\"second\"), Affine(\"third\", 100, 2), Affine(\"last\", 2, 1), Sigmoid(\"last\")]\n",
    "model_nn = Model(layers)\n",
    "model_lr = Model([Affine(\"logits\", 784, 1), Sigmoid(\"sigmoid\")])"
   ]
  },
  {
   "cell_type": "code",
   "execution_count": 20,
   "id": "6eede77a",
   "metadata": {
    "execution": {
     "iopub.execute_input": "2022-11-14T00:39:52.509850Z",
     "iopub.status.busy": "2022-11-14T00:39:52.509296Z",
     "iopub.status.idle": "2022-11-14T00:39:52.520722Z",
     "shell.execute_reply": "2022-11-14T00:39:52.521125Z"
    },
    "papermill": {
     "duration": 0.042169,
     "end_time": "2022-11-14T00:39:52.521237",
     "exception": false,
     "start_time": "2022-11-14T00:39:52.479068",
     "status": "completed"
    },
    "tags": []
   },
   "outputs": [],
   "source": [
    "nn_learner = Learner(loss, model_nn, opt, config.num_epochs)\n",
    "acc_nn = ClfCallback(nn_learner, config.bs, training_data_x , testing_data_x, training_data_y, testing_data_y)\n",
    "nn_learner.set_callbacks([acc_nn])"
   ]
  },
  {
   "cell_type": "code",
   "execution_count": 21,
   "id": "877b6cc7",
   "metadata": {
    "execution": {
     "iopub.execute_input": "2022-11-14T00:39:52.579499Z",
     "iopub.status.busy": "2022-11-14T00:39:52.578945Z",
     "iopub.status.idle": "2022-11-14T00:39:52.590343Z",
     "shell.execute_reply": "2022-11-14T00:39:52.590792Z"
    },
    "papermill": {
     "duration": 0.042208,
     "end_time": "2022-11-14T00:39:52.590904",
     "exception": false,
     "start_time": "2022-11-14T00:39:52.548696",
     "status": "completed"
    },
    "tags": []
   },
   "outputs": [],
   "source": [
    "lr_learner = Learner(loss, model_lr, opt, config.num_epochs)\n",
    "acc_lr = ClfCallback(lr_learner, config.bs, training_data_x , testing_data_x, training_data_y, testing_data_y)\n",
    "lr_learner.set_callbacks([acc_lr])"
   ]
  },
  {
   "cell_type": "code",
   "execution_count": 22,
   "id": "d9b133c3",
   "metadata": {
    "execution": {
     "iopub.execute_input": "2022-11-14T00:39:52.649335Z",
     "iopub.status.busy": "2022-11-14T00:39:52.648779Z",
     "iopub.status.idle": "2022-11-14T00:42:47.315049Z",
     "shell.execute_reply": "2022-11-14T00:42:47.315493Z"
    },
    "papermill": {
     "duration": 174.697102,
     "end_time": "2022-11-14T00:42:47.315620",
     "exception": false,
     "start_time": "2022-11-14T00:39:52.618518",
     "status": "completed"
    },
    "tags": []
   },
   "outputs": [
    {
     "name": "stdout",
     "output_type": "stream",
     "text": [
      "Epoch 0, Loss 0.2498\n",
      "Training Accuracy: 0.5303, Testing Accuracy: 0.5464\n",
      "\n"
     ]
    },
    {
     "name": "stdout",
     "output_type": "stream",
     "text": [
      "Epoch 10, Loss 0.247\n",
      "Training Accuracy: 0.5923, Testing Accuracy: 0.6074\n",
      "\n"
     ]
    },
    {
     "name": "stdout",
     "output_type": "stream",
     "text": [
      "Epoch 20, Loss 0.2363\n",
      "Training Accuracy: 0.7404, Testing Accuracy: 0.7344\n",
      "\n"
     ]
    },
    {
     "name": "stdout",
     "output_type": "stream",
     "text": [
      "Epoch 30, Loss 0.1796\n",
      "Training Accuracy: 0.8877, Testing Accuracy: 0.8957\n",
      "\n"
     ]
    },
    {
     "name": "stdout",
     "output_type": "stream",
     "text": [
      "Epoch 40, Loss 0.0867\n",
      "Training Accuracy: 0.9212, Testing Accuracy: 0.9304\n",
      "\n"
     ]
    },
    {
     "name": "stdout",
     "output_type": "stream",
     "text": [
      "Epoch 50, Loss 0.0571\n",
      "Training Accuracy: 0.9403, Testing Accuracy: 0.9516\n",
      "\n"
     ]
    },
    {
     "name": "stdout",
     "output_type": "stream",
     "text": [
      "Epoch 60, Loss 0.0456\n",
      "Training Accuracy: 0.9508, Testing Accuracy: 0.9582\n",
      "\n"
     ]
    },
    {
     "name": "stdout",
     "output_type": "stream",
     "text": [
      "Epoch 70, Loss 0.0397\n",
      "Training Accuracy: 0.9561, Testing Accuracy: 0.9617\n",
      "\n"
     ]
    },
    {
     "name": "stdout",
     "output_type": "stream",
     "text": [
      "Epoch 80, Loss 0.0361\n",
      "Training Accuracy: 0.9587, Testing Accuracy: 0.9642\n",
      "\n"
     ]
    },
    {
     "name": "stdout",
     "output_type": "stream",
     "text": [
      "Epoch 90, Loss 0.0336\n",
      "Training Accuracy: 0.9609, Testing Accuracy: 0.9652\n",
      "\n"
     ]
    },
    {
     "name": "stdout",
     "output_type": "stream",
     "text": [
      "Epoch 100, Loss 0.0317\n",
      "Training Accuracy: 0.9631, Testing Accuracy: 0.9667\n",
      "\n"
     ]
    },
    {
     "name": "stdout",
     "output_type": "stream",
     "text": [
      "Epoch 110, Loss 0.0302\n",
      "Training Accuracy: 0.9646, Testing Accuracy: 0.9672\n",
      "\n"
     ]
    },
    {
     "name": "stdout",
     "output_type": "stream",
     "text": [
      "Epoch 120, Loss 0.029\n",
      "Training Accuracy: 0.9665, Testing Accuracy: 0.9682\n",
      "\n"
     ]
    },
    {
     "name": "stdout",
     "output_type": "stream",
     "text": [
      "Epoch 130, Loss 0.028\n",
      "Training Accuracy: 0.9675, Testing Accuracy: 0.9693\n",
      "\n"
     ]
    },
    {
     "name": "stdout",
     "output_type": "stream",
     "text": [
      "Epoch 140, Loss 0.027\n",
      "Training Accuracy: 0.9680, Testing Accuracy: 0.9698\n",
      "\n"
     ]
    },
    {
     "name": "stdout",
     "output_type": "stream",
     "text": [
      "Epoch 150, Loss 0.0263\n",
      "Training Accuracy: 0.9689, Testing Accuracy: 0.9703\n",
      "\n"
     ]
    },
    {
     "name": "stdout",
     "output_type": "stream",
     "text": [
      "Epoch 160, Loss 0.0255\n",
      "Training Accuracy: 0.9705, Testing Accuracy: 0.9708\n",
      "\n"
     ]
    },
    {
     "name": "stdout",
     "output_type": "stream",
     "text": [
      "Epoch 170, Loss 0.0249\n",
      "Training Accuracy: 0.9720, Testing Accuracy: 0.9713\n",
      "\n"
     ]
    },
    {
     "name": "stdout",
     "output_type": "stream",
     "text": [
      "Epoch 180, Loss 0.0243\n",
      "Training Accuracy: 0.9725, Testing Accuracy: 0.9718\n",
      "\n"
     ]
    },
    {
     "name": "stdout",
     "output_type": "stream",
     "text": [
      "Epoch 190, Loss 0.0237\n",
      "Training Accuracy: 0.9729, Testing Accuracy: 0.9713\n",
      "\n"
     ]
    },
    {
     "name": "stdout",
     "output_type": "stream",
     "text": [
      "Epoch 200, Loss 0.0232\n",
      "Training Accuracy: 0.9741, Testing Accuracy: 0.9708\n",
      "\n"
     ]
    },
    {
     "name": "stdout",
     "output_type": "stream",
     "text": [
      "Epoch 210, Loss 0.0228\n",
      "Training Accuracy: 0.9747, Testing Accuracy: 0.9713\n",
      "\n"
     ]
    },
    {
     "name": "stdout",
     "output_type": "stream",
     "text": [
      "Epoch 220, Loss 0.0223\n",
      "Training Accuracy: 0.9753, Testing Accuracy: 0.9708\n",
      "\n"
     ]
    },
    {
     "name": "stdout",
     "output_type": "stream",
     "text": [
      "Epoch 230, Loss 0.0219\n",
      "Training Accuracy: 0.9758, Testing Accuracy: 0.9713\n",
      "\n"
     ]
    },
    {
     "name": "stdout",
     "output_type": "stream",
     "text": [
      "Epoch 240, Loss 0.0215\n",
      "Training Accuracy: 0.9763, Testing Accuracy: 0.9718\n",
      "\n"
     ]
    },
    {
     "data": {
      "text/plain": [
       "0.07082107082427978"
      ]
     },
     "execution_count": 22,
     "metadata": {},
     "output_type": "execute_result"
    }
   ],
   "source": [
    "nn_learner.train_loop(dl)"
   ]
  },
  {
   "cell_type": "code",
   "execution_count": 23,
   "id": "e0163366",
   "metadata": {
    "execution": {
     "iopub.execute_input": "2022-11-14T00:42:47.390857Z",
     "iopub.status.busy": "2022-11-14T00:42:47.389477Z",
     "iopub.status.idle": "2022-11-14T00:42:59.473588Z",
     "shell.execute_reply": "2022-11-14T00:42:59.474381Z"
    },
    "papermill": {
     "duration": 12.123551,
     "end_time": "2022-11-14T00:42:59.474519",
     "exception": false,
     "start_time": "2022-11-14T00:42:47.350968",
     "status": "completed"
    },
    "tags": []
   },
   "outputs": [
    {
     "name": "stdout",
     "output_type": "stream",
     "text": [
      "Epoch 0, Loss 0.2381\n",
      "Training Accuracy: 0.7004, Testing Accuracy: 0.7263\n",
      "\n"
     ]
    },
    {
     "name": "stdout",
     "output_type": "stream",
     "text": [
      "Epoch 10, Loss 0.102\n",
      "Training Accuracy: 0.9126, Testing Accuracy: 0.9279\n",
      "\n"
     ]
    },
    {
     "name": "stdout",
     "output_type": "stream",
     "text": [
      "Epoch 20, Loss 0.0785\n",
      "Training Accuracy: 0.9300, Testing Accuracy: 0.9420\n",
      "\n"
     ]
    },
    {
     "name": "stdout",
     "output_type": "stream",
     "text": [
      "Epoch 30, Loss 0.0677\n",
      "Training Accuracy: 0.9384, Testing Accuracy: 0.9486\n",
      "\n"
     ]
    },
    {
     "name": "stdout",
     "output_type": "stream",
     "text": [
      "Epoch 40, Loss 0.0612\n",
      "Training Accuracy: 0.9434, Testing Accuracy: 0.9531\n",
      "\n"
     ]
    },
    {
     "name": "stdout",
     "output_type": "stream",
     "text": [
      "Epoch 50, Loss 0.0568\n",
      "Training Accuracy: 0.9464, Testing Accuracy: 0.9572\n",
      "\n"
     ]
    },
    {
     "name": "stdout",
     "output_type": "stream",
     "text": [
      "Epoch 60, Loss 0.0536\n",
      "Training Accuracy: 0.9486, Testing Accuracy: 0.9587\n",
      "\n"
     ]
    },
    {
     "name": "stdout",
     "output_type": "stream",
     "text": [
      "Epoch 70, Loss 0.0511\n",
      "Training Accuracy: 0.9501, Testing Accuracy: 0.9592\n",
      "\n"
     ]
    },
    {
     "name": "stdout",
     "output_type": "stream",
     "text": [
      "Epoch 80, Loss 0.0491\n",
      "Training Accuracy: 0.9513, Testing Accuracy: 0.9602\n",
      "\n"
     ]
    },
    {
     "name": "stdout",
     "output_type": "stream",
     "text": [
      "Epoch 90, Loss 0.0474\n",
      "Training Accuracy: 0.9527, Testing Accuracy: 0.9612\n",
      "\n"
     ]
    },
    {
     "name": "stdout",
     "output_type": "stream",
     "text": [
      "Epoch 100, Loss 0.046\n",
      "Training Accuracy: 0.9533, Testing Accuracy: 0.9622\n",
      "\n"
     ]
    },
    {
     "name": "stdout",
     "output_type": "stream",
     "text": [
      "Epoch 110, Loss 0.0448\n",
      "Training Accuracy: 0.9543, Testing Accuracy: 0.9627\n",
      "\n"
     ]
    },
    {
     "name": "stdout",
     "output_type": "stream",
     "text": [
      "Epoch 120, Loss 0.0438\n",
      "Training Accuracy: 0.9548, Testing Accuracy: 0.9632\n",
      "\n"
     ]
    },
    {
     "name": "stdout",
     "output_type": "stream",
     "text": [
      "Epoch 130, Loss 0.0428\n",
      "Training Accuracy: 0.9557, Testing Accuracy: 0.9647\n",
      "\n"
     ]
    },
    {
     "name": "stdout",
     "output_type": "stream",
     "text": [
      "Epoch 140, Loss 0.042\n",
      "Training Accuracy: 0.9563, Testing Accuracy: 0.9647\n",
      "\n"
     ]
    },
    {
     "name": "stdout",
     "output_type": "stream",
     "text": [
      "Epoch 150, Loss 0.0413\n",
      "Training Accuracy: 0.9569, Testing Accuracy: 0.9652\n",
      "\n"
     ]
    },
    {
     "name": "stdout",
     "output_type": "stream",
     "text": [
      "Epoch 160, Loss 0.0406\n",
      "Training Accuracy: 0.9576, Testing Accuracy: 0.9652\n",
      "\n"
     ]
    },
    {
     "name": "stdout",
     "output_type": "stream",
     "text": [
      "Epoch 170, Loss 0.04\n",
      "Training Accuracy: 0.9579, Testing Accuracy: 0.9647\n",
      "\n"
     ]
    },
    {
     "name": "stdout",
     "output_type": "stream",
     "text": [
      "Epoch 180, Loss 0.0395\n",
      "Training Accuracy: 0.9587, Testing Accuracy: 0.9657\n",
      "\n"
     ]
    },
    {
     "name": "stdout",
     "output_type": "stream",
     "text": [
      "Epoch 190, Loss 0.0389\n",
      "Training Accuracy: 0.9592, Testing Accuracy: 0.9657\n",
      "\n"
     ]
    },
    {
     "name": "stdout",
     "output_type": "stream",
     "text": [
      "Epoch 200, Loss 0.0385\n",
      "Training Accuracy: 0.9596, Testing Accuracy: 0.9657\n",
      "\n"
     ]
    },
    {
     "name": "stdout",
     "output_type": "stream",
     "text": [
      "Epoch 210, Loss 0.038\n",
      "Training Accuracy: 0.9599, Testing Accuracy: 0.9662\n",
      "\n"
     ]
    },
    {
     "name": "stdout",
     "output_type": "stream",
     "text": [
      "Epoch 220, Loss 0.0376\n",
      "Training Accuracy: 0.9601, Testing Accuracy: 0.9662\n",
      "\n"
     ]
    },
    {
     "name": "stdout",
     "output_type": "stream",
     "text": [
      "Epoch 230, Loss 0.0372\n",
      "Training Accuracy: 0.9604, Testing Accuracy: 0.9667\n",
      "\n"
     ]
    },
    {
     "name": "stdout",
     "output_type": "stream",
     "text": [
      "Epoch 240, Loss 0.0369\n",
      "Training Accuracy: 0.9610, Testing Accuracy: 0.9672\n",
      "\n"
     ]
    },
    {
     "data": {
      "text/plain": [
       "0.04141625028275985"
      ]
     },
     "execution_count": 23,
     "metadata": {},
     "output_type": "execute_result"
    }
   ],
   "source": [
    "lr_learner.train_loop(dl)"
   ]
  },
  {
   "cell_type": "code",
   "execution_count": 24,
   "id": "ca410940",
   "metadata": {
    "execution": {
     "iopub.execute_input": "2022-11-14T00:42:59.565611Z",
     "iopub.status.busy": "2022-11-14T00:42:59.565022Z",
     "iopub.status.idle": "2022-11-14T00:42:59.779099Z",
     "shell.execute_reply": "2022-11-14T00:42:59.778640Z"
    },
    "papermill": {
     "duration": 0.262845,
     "end_time": "2022-11-14T00:42:59.779214",
     "exception": false,
     "start_time": "2022-11-14T00:42:59.516369",
     "status": "completed"
    },
    "tags": []
   },
   "outputs": [
    {
     "data": {
      "text/plain": [
       "<matplotlib.legend.Legend at 0x7fdab5cd0400>"
      ]
     },
     "execution_count": 24,
     "metadata": {},
     "output_type": "execute_result"
    },
    {
     "data": {
      "image/png": "[encoded data removed]",
      "text/plain": [
       "<Figure size 1080x720 with 1 Axes>"
      ]
     },
     "metadata": {
      "needs_background": "light"
     },
     "output_type": "display_data"
    }
   ],
   "source": [
    "#comparing the results of NN and LR\n",
    "plt.figure(figsize=(15,10))\n",
    "\n",
    "# Neural Network plots\n",
    "plt.plot(acc_nn.accuracies, 'r-', label = \"Training Accuracies - NN\")\n",
    "plt.plot(acc_nn.test_accuracies, 'g-', label = \"Testing Accuracies - NN\")\n",
    "\n",
    "# Logistic Regression plots\n",
    "plt.plot(acc_lr.accuracies, 'k-', label = \"Training Accuracies - LR\")\n",
    "plt.plot(acc_lr.test_accuracies, 'b-', label = \"Testing Accuracies - LR\")\n",
    "plt.legend()"
   ]
  },
  {
   "cell_type": "markdown",
   "id": "80dfb35c",
   "metadata": {
    "papermill": {
     "duration": 0.042503,
     "end_time": "2022-11-14T00:42:59.864399",
     "exception": false,
     "start_time": "2022-11-14T00:42:59.821896",
     "status": "completed"
    },
    "tags": []
   },
   "source": [
    "#### Plotting the outputs of this layer of the NN.\n"
   ]
  },
  {
   "cell_type": "code",
   "execution_count": 25,
   "id": "45eb2ff5",
   "metadata": {
    "execution": {
     "iopub.execute_input": "2022-11-14T00:42:59.957220Z",
     "iopub.status.busy": "2022-11-14T00:42:59.956658Z",
     "iopub.status.idle": "2022-11-14T00:42:59.989802Z",
     "shell.execute_reply": "2022-11-14T00:42:59.990234Z"
    },
    "papermill": {
     "duration": 0.081753,
     "end_time": "2022-11-14T00:42:59.990355",
     "exception": false,
     "start_time": "2022-11-14T00:42:59.908602",
     "status": "completed"
    },
    "tags": []
   },
   "outputs": [],
   "source": [
    "new_model = Model(layers[:-2])\n",
    "testing_plot = new_model(testing_data_x)"
   ]
  },
  {
   "cell_type": "code",
   "execution_count": 26,
   "id": "4c0a5485",
   "metadata": {
    "execution": {
     "iopub.execute_input": "2022-11-14T00:43:00.084978Z",
     "iopub.status.busy": "2022-11-14T00:43:00.084393Z",
     "iopub.status.idle": "2022-11-14T00:43:00.299366Z",
     "shell.execute_reply": "2022-11-14T00:43:00.298477Z"
    },
    "papermill": {
     "duration": 0.265762,
     "end_time": "2022-11-14T00:43:00.299489",
     "exception": false,
     "start_time": "2022-11-14T00:43:00.033727",
     "status": "completed"
    },
    "tags": []
   },
   "outputs": [
    {
     "data": {
      "text/plain": [
       "Text(0.5, 1.0, 'Outputs')"
      ]
     },
     "execution_count": 26,
     "metadata": {},
     "output_type": "execute_result"
    },
    {
     "data": {
      "image/png": "[encoded data removed]",
      "text/plain": [
       "<Figure size 576x504 with 1 Axes>"
      ]
     },
     "metadata": {
      "needs_background": "light"
     },
     "output_type": "display_data"
    }
   ],
   "source": [
    "# Plotting the scatter plot of points and color coding by class\n",
    "plt.figure(figsize=(8,7))\n",
    "plt.scatter(testing_plot[:,0], testing_plot[:,1], alpha = 0.1, c = y_test.ravel());\n",
    "plt.title('Outputs')"
   ]
  },
  {
   "cell_type": "markdown",
   "id": "a74fcf8f",
   "metadata": {
    "papermill": {
     "duration": 0.045614,
     "end_time": "2022-11-14T00:43:00.413441",
     "exception": false,
     "start_time": "2022-11-14T00:43:00.367827",
     "status": "completed"
    },
    "tags": []
   },
   "source": [
    "Probability contours"
   ]
  },
  {
   "cell_type": "code",
   "execution_count": 27,
   "id": "d0afc8e3",
   "metadata": {
    "execution": {
     "iopub.execute_input": "2022-11-14T00:43:00.508306Z",
     "iopub.status.busy": "2022-11-14T00:43:00.507705Z",
     "iopub.status.idle": "2022-11-14T00:43:00.519317Z",
     "shell.execute_reply": "2022-11-14T00:43:00.518846Z"
    },
    "papermill": {
     "duration": 0.060434,
     "end_time": "2022-11-14T00:43:00.519423",
     "exception": false,
     "start_time": "2022-11-14T00:43:00.458989",
     "status": "completed"
    },
    "tags": []
   },
   "outputs": [],
   "source": [
    "model_prob = Model(layers[-2:]) "
   ]
  },
  {
   "cell_type": "code",
   "execution_count": 28,
   "id": "9b96e238",
   "metadata": {
    "execution": {
     "iopub.execute_input": "2022-11-14T00:43:00.615622Z",
     "iopub.status.busy": "2022-11-14T00:43:00.614665Z",
     "iopub.status.idle": "2022-11-14T00:43:00.629185Z",
     "shell.execute_reply": "2022-11-14T00:43:00.629629Z"
    },
    "papermill": {
     "duration": 0.064752,
     "end_time": "2022-11-14T00:43:00.629753",
     "exception": false,
     "start_time": "2022-11-14T00:43:00.565001",
     "status": "completed"
    },
    "tags": []
   },
   "outputs": [],
   "source": [
    "#creating the x and y ranges according to the above generated plot.\n",
    "x_range = np.linspace(-4, 1, 100) \n",
    "y_range = np.linspace(-6, 6, 100) \n",
    "x_grid, y_grid = np.meshgrid(x_range, y_range) # x_grid and y_grig are of size 100 X 100\n",
    "\n",
    "# converting x_grid and y_grid to continuous arrays\n",
    "x_gridflat = np.ravel(x_grid)\n",
    "y_gridflat = np.ravel(y_grid)\n",
    "\n",
    "# The last layer of the current model takes two columns as input. Hence transpose of np.vstack() is required.\n",
    "X = np.vstack((x_gridflat, y_gridflat)).T\n",
    "\n",
    "prob_contour = model_prob(X).reshape(100,100) "
   ]
  },
  {
   "cell_type": "code",
   "execution_count": 29,
   "id": "da72499a",
   "metadata": {
    "execution": {
     "iopub.execute_input": "2022-11-14T00:43:00.725464Z",
     "iopub.status.busy": "2022-11-14T00:43:00.724900Z",
     "iopub.status.idle": "2022-11-14T00:43:00.967183Z",
     "shell.execute_reply": "2022-11-14T00:43:00.966448Z"
    },
    "papermill": {
     "duration": 0.2919,
     "end_time": "2022-11-14T00:43:00.967295",
     "exception": false,
     "start_time": "2022-11-14T00:43:00.675395",
     "status": "completed"
    },
    "tags": []
   },
   "outputs": [
    {
     "data": {
      "image/png": "[encoded data removed]",
      "text/plain": [
       "<Figure size 720x648 with 1 Axes>"
      ]
     },
     "metadata": {
      "needs_background": "light"
     },
     "output_type": "display_data"
    }
   ],
   "source": [
    "plt.figure(figsize=(10,9))\n",
    "plt.scatter(testing_plot[:,0], testing_plot[:,1], alpha = 0.1, c = y_test.ravel())\n",
    "contours = plt.contour(x_grid,y_grid,prob_contour)\n",
    "plt.title('Probability Contours')\n",
    "plt.clabel(contours, inline = True );"
   ]
  },
  {
   "cell_type": "code",
   "execution_count": null,
   "id": "e81b4ac7",
   "metadata": {
    "papermill": {
     "duration": 0.047648,
     "end_time": "2022-11-14T00:43:01.063013",
     "exception": false,
     "start_time": "2022-11-14T00:43:01.015365",
     "status": "completed"
    },
    "tags": []
   },
   "outputs": [],
   "source": []
  }
 ],
 "metadata": {
  "kernelspec": {
   "display_name": "Python 3",
   "language": "python",
   "name": "python3"
  },
  "language_info": {
   "codemirror_mode": {
    "name": "ipython",
    "version": 3
   },
   "file_extension": ".py",
   "mimetype": "text/x-python",
   "name": "python",
   "nbconvert_exporter": "python",
   "pygments_lexer": "ipython3",
   "version": "3.6.15"
  },
  "papermill": {
   "default_parameters": {},
   "duration": 195.470238,
   "end_time": "2022-11-14T00:43:01.428904",
   "environment_variables": {},
   "exception": null,
   "input_path": "2020-08-11-part2.ipynb",
   "output_path": "2020-08-11-part2.ipynb",
   "parameters": {},
   "start_time": "2022-11-14T00:39:45.958666",
   "version": "2.3.3"
  }
 },
 "nbformat": 4,
 "nbformat_minor": 5
}