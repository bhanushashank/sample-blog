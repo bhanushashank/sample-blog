{
 "cells": [
  {
   "cell_type": "markdown",
   "id": "98380cd3",
   "metadata": {
    "papermill": {
     "duration": 0.028178,
     "end_time": "2021-12-27T00:25:17.979617",
     "exception": false,
     "start_time": "2021-12-27T00:25:17.951439",
     "status": "completed"
    },
    "tags": []
   },
   "source": [
    "# Distinguish Your Own Digits (DYOD)"
   ]
  },
  {
   "cell_type": "markdown",
   "id": "ef31240d",
   "metadata": {
    "papermill": {
     "duration": 0.023556,
     "end_time": "2021-12-27T00:25:18.027469",
     "exception": false,
     "start_time": "2021-12-27T00:25:18.003913",
     "status": "completed"
    },
    "tags": []
   },
   "source": [
    "You are going to write a classifier that distinguishes between the number 3 and number 8."
   ]
  },
  {
   "cell_type": "code",
   "execution_count": 1,
   "id": "b15c8646",
   "metadata": {
    "execution": {
     "iopub.execute_input": "2021-12-27T00:25:18.086003Z",
     "iopub.status.busy": "2021-12-27T00:25:18.085472Z",
     "iopub.status.idle": "2021-12-27T00:25:18.095627Z",
     "shell.execute_reply": "2021-12-27T00:25:18.096068Z"
    },
    "papermill": {
     "duration": 0.045227,
     "end_time": "2021-12-27T00:25:18.096209",
     "exception": false,
     "start_time": "2021-12-27T00:25:18.050982",
     "status": "completed"
    },
    "tags": []
   },
   "outputs": [],
   "source": [
    "%load_ext autoreload\n",
    "%autoreload 2"
   ]
  },
  {
   "cell_type": "code",
   "execution_count": 2,
   "id": "22ef38dc",
   "metadata": {
    "execution": {
     "iopub.execute_input": "2021-12-27T00:25:18.147327Z",
     "iopub.status.busy": "2021-12-27T00:25:18.146797Z",
     "iopub.status.idle": "2021-12-27T00:25:18.714891Z",
     "shell.execute_reply": "2021-12-27T00:25:18.714343Z"
    },
    "papermill": {
     "duration": 0.595141,
     "end_time": "2021-12-27T00:25:18.715035",
     "exception": false,
     "start_time": "2021-12-27T00:25:18.119894",
     "status": "completed"
    },
    "tags": []
   },
   "outputs": [],
   "source": [
    "%matplotlib inline\n",
    "import numpy as np\n",
    "import matplotlib.pyplot as plt\n",
    "import pandas as pd"
   ]
  },
  {
   "cell_type": "markdown",
   "id": "ba036198",
   "metadata": {
    "papermill": {
     "duration": 0.023821,
     "end_time": "2021-12-27T00:25:18.763318",
     "exception": false,
     "start_time": "2021-12-27T00:25:18.739497",
     "status": "completed"
    },
    "tags": []
   },
   "source": [
    "From the command line run `pip install mnist`. This is a library that will help you bring down the mnist dataset. If you run this from a notebook, you need to put  `!pip install mnist` in a cell by itself."
   ]
  },
  {
   "cell_type": "code",
   "execution_count": 3,
   "id": "bb6ad8a1",
   "metadata": {
    "execution": {
     "iopub.execute_input": "2021-12-27T00:25:18.818726Z",
     "iopub.status.busy": "2021-12-27T00:25:18.818040Z",
     "iopub.status.idle": "2021-12-27T00:25:21.279215Z",
     "shell.execute_reply": "2021-12-27T00:25:21.278649Z"
    },
    "papermill": {
     "duration": 2.492128,
     "end_time": "2021-12-27T00:25:21.279354",
     "exception": false,
     "start_time": "2021-12-27T00:25:18.787226",
     "status": "completed"
    },
    "tags": []
   },
   "outputs": [
    {
     "name": "stdout",
     "output_type": "stream",
     "text": [
      "Collecting mnist\r\n"
     ]
    },
    {
     "name": "stdout",
     "output_type": "stream",
     "text": [
      "  Downloading mnist-0.2.2-py2.py3-none-any.whl (3.5 kB)\r\n",
      "Requirement already satisfied: numpy in /opt/hostedtoolcache/Python/3.6.15/x64/lib/python3.6/site-packages (from mnist) (1.19.5)\r\n"
     ]
    },
    {
     "name": "stdout",
     "output_type": "stream",
     "text": [
      "Installing collected packages: mnist\r\n"
     ]
    },
    {
     "name": "stdout",
     "output_type": "stream",
     "text": [
      "Successfully installed mnist-0.2.2\r\n"
     ]
    }
   ],
   "source": [
    "!pip install mnist"
   ]
  },
  {
   "cell_type": "markdown",
   "id": "69df9c9a",
   "metadata": {
    "papermill": {
     "duration": 0.025257,
     "end_time": "2021-12-27T00:25:21.330304",
     "exception": false,
     "start_time": "2021-12-27T00:25:21.305047",
     "status": "completed"
    },
    "tags": []
   },
   "source": [
    "## Preparing the Data"
   ]
  },
  {
   "cell_type": "code",
   "execution_count": 4,
   "id": "7f69d806",
   "metadata": {
    "execution": {
     "iopub.execute_input": "2021-12-27T00:25:21.396054Z",
     "iopub.status.busy": "2021-12-27T00:25:21.386846Z",
     "iopub.status.idle": "2021-12-27T00:25:21.400550Z",
     "shell.execute_reply": "2021-12-27T00:25:21.400139Z"
    },
    "papermill": {
     "duration": 0.045576,
     "end_time": "2021-12-27T00:25:21.400662",
     "exception": false,
     "start_time": "2021-12-27T00:25:21.355086",
     "status": "completed"
    },
    "tags": []
   },
   "outputs": [],
   "source": [
    "import mnist"
   ]
  },
  {
   "cell_type": "code",
   "execution_count": 5,
   "id": "a411e44f",
   "metadata": {
    "execution": {
     "iopub.execute_input": "2021-12-27T00:25:21.453165Z",
     "iopub.status.busy": "2021-12-27T00:25:21.452658Z",
     "iopub.status.idle": "2021-12-27T00:25:21.984435Z",
     "shell.execute_reply": "2021-12-27T00:25:21.983929Z"
    },
    "papermill": {
     "duration": 0.559087,
     "end_time": "2021-12-27T00:25:21.984558",
     "exception": false,
     "start_time": "2021-12-27T00:25:21.425471",
     "status": "completed"
    },
    "tags": []
   },
   "outputs": [],
   "source": [
    "train_images = mnist.train_images()\n",
    "train_labels = mnist.train_labels()"
   ]
  },
  {
   "cell_type": "code",
   "execution_count": 6,
   "id": "dceab3a5",
   "metadata": {
    "execution": {
     "iopub.execute_input": "2021-12-27T00:25:22.040469Z",
     "iopub.status.busy": "2021-12-27T00:25:22.039947Z",
     "iopub.status.idle": "2021-12-27T00:25:22.052970Z",
     "shell.execute_reply": "2021-12-27T00:25:22.053403Z"
    },
    "papermill": {
     "duration": 0.043623,
     "end_time": "2021-12-27T00:25:22.053526",
     "exception": false,
     "start_time": "2021-12-27T00:25:22.009903",
     "status": "completed"
    },
    "tags": []
   },
   "outputs": [
    {
     "data": {
      "text/plain": [
       "((60000, 28, 28), (60000,))"
      ]
     },
     "execution_count": 6,
     "metadata": {},
     "output_type": "execute_result"
    }
   ],
   "source": [
    "train_images.shape, train_labels.shape"
   ]
  },
  {
   "cell_type": "code",
   "execution_count": 7,
   "id": "f50dc2bb",
   "metadata": {
    "execution": {
     "iopub.execute_input": "2021-12-27T00:25:22.118801Z",
     "iopub.status.busy": "2021-12-27T00:25:22.110779Z",
     "iopub.status.idle": "2021-12-27T00:25:22.281569Z",
     "shell.execute_reply": "2021-12-27T00:25:22.281028Z"
    },
    "papermill": {
     "duration": 0.203196,
     "end_time": "2021-12-27T00:25:22.281714",
     "exception": false,
     "start_time": "2021-12-27T00:25:22.078518",
     "status": "completed"
    },
    "tags": []
   },
   "outputs": [],
   "source": [
    "test_images = mnist.test_images()\n",
    "test_labels = mnist.test_labels()"
   ]
  },
  {
   "cell_type": "code",
   "execution_count": 8,
   "id": "fc38cf1b",
   "metadata": {
    "execution": {
     "iopub.execute_input": "2021-12-27T00:25:22.342829Z",
     "iopub.status.busy": "2021-12-27T00:25:22.342287Z",
     "iopub.status.idle": "2021-12-27T00:25:22.353047Z",
     "shell.execute_reply": "2021-12-27T00:25:22.352301Z"
    },
    "papermill": {
     "duration": 0.045115,
     "end_time": "2021-12-27T00:25:22.353160",
     "exception": false,
     "start_time": "2021-12-27T00:25:22.308045",
     "status": "completed"
    },
    "tags": []
   },
   "outputs": [
    {
     "data": {
      "text/plain": [
       "((10000, 28, 28), (10000,))"
      ]
     },
     "execution_count": 8,
     "metadata": {},
     "output_type": "execute_result"
    }
   ],
   "source": [
    "test_images.shape, test_labels.shape"
   ]
  },
  {
   "cell_type": "code",
   "execution_count": 9,
   "id": "f9ed8fe0",
   "metadata": {
    "execution": {
     "iopub.execute_input": "2021-12-27T00:25:22.428808Z",
     "iopub.status.busy": "2021-12-27T00:25:22.414939Z",
     "iopub.status.idle": "2021-12-27T00:25:22.548084Z",
     "shell.execute_reply": "2021-12-27T00:25:22.547373Z"
    },
    "papermill": {
     "duration": 0.169696,
     "end_time": "2021-12-27T00:25:22.548210",
     "exception": false,
     "start_time": "2021-12-27T00:25:22.378514",
     "status": "completed"
    },
    "tags": []
   },
   "outputs": [
    {
     "name": "stdout",
     "output_type": "stream",
     "text": [
      "2\n"
     ]
    },
    {
     "data": {
      "text/plain": [
       "<matplotlib.image.AxesImage at 0x7fda6257a5f8>"
      ]
     },
     "execution_count": 9,
     "metadata": {},
     "output_type": "execute_result"
    },
    {
     "data": {
      "image/png": "[encoded data removed]",
      "text/plain": [
       "<Figure size 432x288 with 1 Axes>"
      ]
     },
     "metadata": {
      "needs_background": "light"
     },
     "output_type": "display_data"
    }
   ],
   "source": [
    "image_index = 7776 # You may select anything up to 60,000\n",
    "print(train_labels[image_index]) \n",
    "plt.imshow(train_images[image_index], cmap='Greys')"
   ]
  },
  {
   "cell_type": "markdown",
   "id": "a8d2388d",
   "metadata": {
    "papermill": {
     "duration": 0.026775,
     "end_time": "2021-12-27T00:25:22.605534",
     "exception": false,
     "start_time": "2021-12-27T00:25:22.578759",
     "status": "completed"
    },
    "tags": []
   },
   "source": [
    "## Filter data to get 3 and 8 out"
   ]
  },
  {
   "cell_type": "code",
   "execution_count": 10,
   "id": "776f7fc7",
   "metadata": {
    "execution": {
     "iopub.execute_input": "2021-12-27T00:25:22.678733Z",
     "iopub.status.busy": "2021-12-27T00:25:22.678145Z",
     "iopub.status.idle": "2021-12-27T00:25:22.687732Z",
     "shell.execute_reply": "2021-12-27T00:25:22.687301Z"
    },
    "papermill": {
     "duration": 0.055703,
     "end_time": "2021-12-27T00:25:22.687856",
     "exception": false,
     "start_time": "2021-12-27T00:25:22.632153",
     "status": "completed"
    },
    "tags": []
   },
   "outputs": [],
   "source": [
    "train_filter = np.where((train_labels == 3 ) | (train_labels == 8))\n",
    "test_filter = np.where((test_labels == 3) | (test_labels == 8))\n",
    "X_train, y_train = train_images[train_filter], train_labels[train_filter]\n",
    "X_test, y_test = test_images[test_filter], test_labels[test_filter]"
   ]
  },
  {
   "cell_type": "markdown",
   "id": "948f0b7e",
   "metadata": {
    "papermill": {
     "duration": 0.026526,
     "end_time": "2021-12-27T00:25:22.741168",
     "exception": false,
     "start_time": "2021-12-27T00:25:22.714642",
     "status": "completed"
    },
    "tags": []
   },
   "source": [
    "We normalize the pizel values in the 0 to 1 range"
   ]
  },
  {
   "cell_type": "code",
   "execution_count": 11,
   "id": "ee4c2166",
   "metadata": {
    "execution": {
     "iopub.execute_input": "2021-12-27T00:25:22.808256Z",
     "iopub.status.busy": "2021-12-27T00:25:22.807375Z",
     "iopub.status.idle": "2021-12-27T00:25:22.850083Z",
     "shell.execute_reply": "2021-12-27T00:25:22.850593Z"
    },
    "papermill": {
     "duration": 0.0832,
     "end_time": "2021-12-27T00:25:22.850758",
     "exception": false,
     "start_time": "2021-12-27T00:25:22.767558",
     "status": "completed"
    },
    "tags": []
   },
   "outputs": [],
   "source": [
    "X_train = X_train/255.\n",
    "X_test = X_test/255."
   ]
  },
  {
   "cell_type": "markdown",
   "id": "ddcf4fab",
   "metadata": {
    "papermill": {
     "duration": 0.026539,
     "end_time": "2021-12-27T00:25:22.904834",
     "exception": false,
     "start_time": "2021-12-27T00:25:22.878295",
     "status": "completed"
    },
    "tags": []
   },
   "source": [
    "And setup the labels as 1 (when the digit is 3) and 0 (when the digit is 8)"
   ]
  },
  {
   "cell_type": "code",
   "execution_count": 12,
   "id": "7dc908f2",
   "metadata": {
    "execution": {
     "iopub.execute_input": "2021-12-27T00:25:22.975421Z",
     "iopub.status.busy": "2021-12-27T00:25:22.974901Z",
     "iopub.status.idle": "2021-12-27T00:25:22.977330Z",
     "shell.execute_reply": "2021-12-27T00:25:22.976919Z"
    },
    "papermill": {
     "duration": 0.046157,
     "end_time": "2021-12-27T00:25:22.977439",
     "exception": false,
     "start_time": "2021-12-27T00:25:22.931282",
     "status": "completed"
    },
    "tags": []
   },
   "outputs": [],
   "source": [
    "y_train = 1*(y_train==3)\n",
    "y_test = 1*(y_test==3)"
   ]
  },
  {
   "cell_type": "code",
   "execution_count": 13,
   "id": "01e4e969",
   "metadata": {
    "execution": {
     "iopub.execute_input": "2021-12-27T00:25:23.035270Z",
     "iopub.status.busy": "2021-12-27T00:25:23.034757Z",
     "iopub.status.idle": "2021-12-27T00:25:23.046389Z",
     "shell.execute_reply": "2021-12-27T00:25:23.046825Z"
    },
    "papermill": {
     "duration": 0.043142,
     "end_time": "2021-12-27T00:25:23.046944",
     "exception": false,
     "start_time": "2021-12-27T00:25:23.003802",
     "status": "completed"
    },
    "tags": []
   },
   "outputs": [
    {
     "data": {
      "text/plain": [
       "((11982, 28, 28), (1984, 28, 28))"
      ]
     },
     "execution_count": 13,
     "metadata": {},
     "output_type": "execute_result"
    }
   ],
   "source": [
    "X_train.shape, X_test.shape"
   ]
  },
  {
   "cell_type": "markdown",
   "id": "5ccf3f85",
   "metadata": {
    "papermill": {
     "duration": 0.02654,
     "end_time": "2021-12-27T00:25:23.099972",
     "exception": false,
     "start_time": "2021-12-27T00:25:23.073432",
     "status": "completed"
    },
    "tags": []
   },
   "source": [
    "We reshape the data to flatten the image pixels into a set of features or co-variates:"
   ]
  },
  {
   "cell_type": "code",
   "execution_count": 14,
   "id": "5286a4a3",
   "metadata": {
    "execution": {
     "iopub.execute_input": "2021-12-27T00:25:23.156615Z",
     "iopub.status.busy": "2021-12-27T00:25:23.156104Z",
     "iopub.status.idle": "2021-12-27T00:25:23.169271Z",
     "shell.execute_reply": "2021-12-27T00:25:23.168840Z"
    },
    "papermill": {
     "duration": 0.04275,
     "end_time": "2021-12-27T00:25:23.169373",
     "exception": false,
     "start_time": "2021-12-27T00:25:23.126623",
     "status": "completed"
    },
    "tags": []
   },
   "outputs": [
    {
     "data": {
      "text/plain": [
       "((11982, 784), (1984, 784))"
      ]
     },
     "execution_count": 14,
     "metadata": {},
     "output_type": "execute_result"
    }
   ],
   "source": [
    "X_train = X_train.reshape(X_train.shape[0], -1)\n",
    "X_test = X_test.reshape(X_test.shape[0], -1)\n",
    "X_train.shape, X_test.shape"
   ]
  },
  {
   "cell_type": "code",
   "execution_count": 15,
   "id": "73c5f88a",
   "metadata": {
    "execution": {
     "iopub.execute_input": "2021-12-27T00:25:23.226560Z",
     "iopub.status.busy": "2021-12-27T00:25:23.226001Z",
     "iopub.status.idle": "2021-12-27T00:25:23.243738Z",
     "shell.execute_reply": "2021-12-27T00:25:23.244182Z"
    },
    "papermill": {
     "duration": 0.048191,
     "end_time": "2021-12-27T00:25:23.244314",
     "exception": false,
     "start_time": "2021-12-27T00:25:23.196123",
     "status": "completed"
    },
    "tags": []
   },
   "outputs": [],
   "source": [
    "#Impoting functions from 'Kudzu'\n",
    "from kudzu.model import Model\n",
    "from kudzu.train import Learner\n",
    "from kudzu.optim import GD\n",
    "from kudzu.data import Data, Sampler,Dataloader\n",
    "\n",
    "from kudzu.callbacks import AccCallback\n",
    "from kudzu.callbacks import ClfCallback\n",
    "\n",
    "from kudzu.loss import MSE\n",
    "\n",
    "from kudzu.layer import Sigmoid,Relu\n",
    "from kudzu.layer import Affine"
   ]
  },
  {
   "cell_type": "markdown",
   "id": "bc01172a",
   "metadata": {
    "papermill": {
     "duration": 0.026815,
     "end_time": "2021-12-27T00:25:23.298818",
     "exception": false,
     "start_time": "2021-12-27T00:25:23.272003",
     "status": "completed"
    },
    "tags": []
   },
   "source": [
    "### Let us create a `Config` class, to store important parameters. \n",
    "This class essentially plays the role of a dictionary."
   ]
  },
  {
   "cell_type": "code",
   "execution_count": 16,
   "id": "978281aa",
   "metadata": {
    "execution": {
     "iopub.execute_input": "2021-12-27T00:25:23.356420Z",
     "iopub.status.busy": "2021-12-27T00:25:23.355905Z",
     "iopub.status.idle": "2021-12-27T00:25:23.368383Z",
     "shell.execute_reply": "2021-12-27T00:25:23.367975Z"
    },
    "papermill": {
     "duration": 0.042957,
     "end_time": "2021-12-27T00:25:23.368489",
     "exception": false,
     "start_time": "2021-12-27T00:25:23.325532",
     "status": "completed"
    },
    "tags": []
   },
   "outputs": [],
   "source": [
    "class Config:\n",
    "    pass\n",
    "config = Config()\n",
    "config.lr = 0.001\n",
    "config.num_epochs = 250\n",
    "config.bs = 50"
   ]
  },
  {
   "cell_type": "markdown",
   "id": "1385fa59",
   "metadata": {
    "papermill": {
     "duration": 0.026596,
     "end_time": "2021-12-27T00:25:23.421910",
     "exception": false,
     "start_time": "2021-12-27T00:25:23.395314",
     "status": "completed"
    },
    "tags": []
   },
   "source": [
    "### Running Models with the Training data\n",
    "Details about the network layers:\n",
    "- A first affine layer has 784 inputs and does 100 affine transforms. These are followed by a Relu\n",
    "- A second affine layer has 100 inputs from the 100 activations of the past layer, and does 100 affine transforms. These are followed by a Relu\n",
    "- A third affine layer has 100 activations and does 2 affine transformations to create an embedding for visualization. There is no non-linearity here.\n",
    "- A final \"logistic regression\" which has an affine transform from 2 inputs to 1 output, which is squeezed through a sigmoid.\n"
   ]
  },
  {
   "cell_type": "code",
   "execution_count": 17,
   "id": "2b9c66db",
   "metadata": {
    "execution": {
     "iopub.execute_input": "2021-12-27T00:25:23.486925Z",
     "iopub.status.busy": "2021-12-27T00:25:23.486399Z",
     "iopub.status.idle": "2021-12-27T00:25:23.493292Z",
     "shell.execute_reply": "2021-12-27T00:25:23.493699Z"
    },
    "papermill": {
     "duration": 0.045125,
     "end_time": "2021-12-27T00:25:23.493817",
     "exception": false,
     "start_time": "2021-12-27T00:25:23.448692",
     "status": "completed"
    },
    "tags": []
   },
   "outputs": [],
   "source": [
    "data = Data(X_train, y_train.reshape(-1,1))\n",
    "sampler = Sampler(data, config.bs, shuffle=True)\n",
    "\n",
    "dl = Dataloader(data, sampler)\n",
    "\n",
    "opt = GD(config.lr)\n",
    "loss = MSE()"
   ]
  },
  {
   "cell_type": "code",
   "execution_count": 18,
   "id": "b275e4c2",
   "metadata": {
    "execution": {
     "iopub.execute_input": "2021-12-27T00:25:23.558874Z",
     "iopub.status.busy": "2021-12-27T00:25:23.554776Z",
     "iopub.status.idle": "2021-12-27T00:25:23.564119Z",
     "shell.execute_reply": "2021-12-27T00:25:23.563710Z"
    },
    "papermill": {
     "duration": 0.04337,
     "end_time": "2021-12-27T00:25:23.564224",
     "exception": false,
     "start_time": "2021-12-27T00:25:23.520854",
     "status": "completed"
    },
    "tags": []
   },
   "outputs": [],
   "source": [
    "training_data_x = X_train\n",
    "testing_data_x = X_test\n",
    "training_data_y = y_train.reshape(-1,1)\n",
    "testing_data_y = y_test.reshape(-1,1)"
   ]
  },
  {
   "cell_type": "code",
   "execution_count": 19,
   "id": "76951160",
   "metadata": {
    "execution": {
     "iopub.execute_input": "2021-12-27T00:25:23.627169Z",
     "iopub.status.busy": "2021-12-27T00:25:23.626650Z",
     "iopub.status.idle": "2021-12-27T00:25:23.639456Z",
     "shell.execute_reply": "2021-12-27T00:25:23.639020Z"
    },
    "papermill": {
     "duration": 0.048104,
     "end_time": "2021-12-27T00:25:23.639560",
     "exception": false,
     "start_time": "2021-12-27T00:25:23.591456",
     "status": "completed"
    },
    "tags": []
   },
   "outputs": [
    {
     "name": "stdout",
     "output_type": "stream",
     "text": [
      "xavier\n",
      "xavier\n",
      "xavier\n",
      "xavier\n",
      "xavier\n"
     ]
    }
   ],
   "source": [
    "layers = [Affine(\"first\", 784, 100), Relu(\"first\"), Affine(\"second\", 100, 100), Relu(\"second\"), Affine(\"third\", 100, 2), Affine(\"last\", 2, 1), Sigmoid(\"last\")]\n",
    "model_nn = Model(layers)\n",
    "model_lr = Model([Affine(\"logits\", 784, 1), Sigmoid(\"sigmoid\")])"
   ]
  },
  {
   "cell_type": "code",
   "execution_count": 20,
   "id": "6eede77a",
   "metadata": {
    "execution": {
     "iopub.execute_input": "2021-12-27T00:25:23.706899Z",
     "iopub.status.busy": "2021-12-27T00:25:23.701469Z",
     "iopub.status.idle": "2021-12-27T00:25:23.712432Z",
     "shell.execute_reply": "2021-12-27T00:25:23.712839Z"
    },
    "papermill": {
     "duration": 0.046129,
     "end_time": "2021-12-27T00:25:23.712955",
     "exception": false,
     "start_time": "2021-12-27T00:25:23.666826",
     "status": "completed"
    },
    "tags": []
   },
   "outputs": [],
   "source": [
    "nn_learner = Learner(loss, model_nn, opt, config.num_epochs)\n",
    "acc_nn = ClfCallback(nn_learner, config.bs, training_data_x , testing_data_x, training_data_y, testing_data_y)\n",
    "nn_learner.set_callbacks([acc_nn])"
   ]
  },
  {
   "cell_type": "code",
   "execution_count": 21,
   "id": "877b6cc7",
   "metadata": {
    "execution": {
     "iopub.execute_input": "2021-12-27T00:25:23.783317Z",
     "iopub.status.busy": "2021-12-27T00:25:23.782804Z",
     "iopub.status.idle": "2021-12-27T00:25:23.785127Z",
     "shell.execute_reply": "2021-12-27T00:25:23.784701Z"
    },
    "papermill": {
     "duration": 0.04512,
     "end_time": "2021-12-27T00:25:23.785228",
     "exception": false,
     "start_time": "2021-12-27T00:25:23.740108",
     "status": "completed"
    },
    "tags": []
   },
   "outputs": [],
   "source": [
    "lr_learner = Learner(loss, model_lr, opt, config.num_epochs)\n",
    "acc_lr = ClfCallback(lr_learner, config.bs, training_data_x , testing_data_x, training_data_y, testing_data_y)\n",
    "lr_learner.set_callbacks([acc_lr])"
   ]
  },
  {
   "cell_type": "code",
   "execution_count": 22,
   "id": "d9b133c3",
   "metadata": {
    "execution": {
     "iopub.execute_input": "2021-12-27T00:25:23.852973Z",
     "iopub.status.busy": "2021-12-27T00:25:23.851400Z",
     "iopub.status.idle": "2021-12-27T00:26:38.938806Z",
     "shell.execute_reply": "2021-12-27T00:26:38.939568Z"
    },
    "papermill": {
     "duration": 75.127342,
     "end_time": "2021-12-27T00:26:38.939720",
     "exception": false,
     "start_time": "2021-12-27T00:25:23.812378",
     "status": "completed"
    },
    "tags": []
   },
   "outputs": [
    {
     "name": "stdout",
     "output_type": "stream",
     "text": [
      "Epoch 0, Loss 0.2501\n",
      "Training Accuracy: 0.5368, Testing Accuracy: 0.4934\n",
      "\n"
     ]
    },
    {
     "name": "stdout",
     "output_type": "stream",
     "text": [
      "Epoch 10, Loss 0.2211\n",
      "Training Accuracy: 0.8118, Testing Accuracy: 0.8009\n",
      "\n"
     ]
    },
    {
     "name": "stdout",
     "output_type": "stream",
     "text": [
      "Epoch 20, Loss 0.1369\n",
      "Training Accuracy: 0.8832, Testing Accuracy: 0.8962\n",
      "\n"
     ]
    },
    {
     "name": "stdout",
     "output_type": "stream",
     "text": [
      "Epoch 30, Loss 0.0774\n",
      "Training Accuracy: 0.9210, Testing Accuracy: 0.9309\n",
      "\n"
     ]
    },
    {
     "name": "stdout",
     "output_type": "stream",
     "text": [
      "Epoch 40, Loss 0.0554\n",
      "Training Accuracy: 0.9404, Testing Accuracy: 0.9511\n",
      "\n"
     ]
    },
    {
     "name": "stdout",
     "output_type": "stream",
     "text": [
      "Epoch 50, Loss 0.045\n",
      "Training Accuracy: 0.9490, Testing Accuracy: 0.9587\n",
      "\n"
     ]
    },
    {
     "name": "stdout",
     "output_type": "stream",
     "text": [
      "Epoch 60, Loss 0.0393\n",
      "Training Accuracy: 0.9552, Testing Accuracy: 0.9642\n",
      "\n"
     ]
    },
    {
     "name": "stdout",
     "output_type": "stream",
     "text": [
      "Epoch 70, Loss 0.0356\n",
      "Training Accuracy: 0.9590, Testing Accuracy: 0.9662\n",
      "\n"
     ]
    },
    {
     "name": "stdout",
     "output_type": "stream",
     "text": [
      "Epoch 80, Loss 0.0331\n",
      "Training Accuracy: 0.9615, Testing Accuracy: 0.9682\n",
      "\n"
     ]
    },
    {
     "name": "stdout",
     "output_type": "stream",
     "text": [
      "Epoch 90, Loss 0.0313\n",
      "Training Accuracy: 0.9633, Testing Accuracy: 0.9703\n",
      "\n"
     ]
    },
    {
     "name": "stdout",
     "output_type": "stream",
     "text": [
      "Epoch 100, Loss 0.0298\n",
      "Training Accuracy: 0.9649, Testing Accuracy: 0.9713\n",
      "\n"
     ]
    },
    {
     "name": "stdout",
     "output_type": "stream",
     "text": [
      "Epoch 110, Loss 0.0285\n",
      "Training Accuracy: 0.9657, Testing Accuracy: 0.9703\n",
      "\n"
     ]
    },
    {
     "name": "stdout",
     "output_type": "stream",
     "text": [
      "Epoch 120, Loss 0.0275\n",
      "Training Accuracy: 0.9672, Testing Accuracy: 0.9703\n",
      "\n"
     ]
    },
    {
     "name": "stdout",
     "output_type": "stream",
     "text": [
      "Epoch 130, Loss 0.0266\n",
      "Training Accuracy: 0.9682, Testing Accuracy: 0.9703\n",
      "\n"
     ]
    },
    {
     "name": "stdout",
     "output_type": "stream",
     "text": [
      "Epoch 140, Loss 0.0258\n",
      "Training Accuracy: 0.9689, Testing Accuracy: 0.9713\n",
      "\n"
     ]
    },
    {
     "name": "stdout",
     "output_type": "stream",
     "text": [
      "Epoch 150, Loss 0.0251\n",
      "Training Accuracy: 0.9694, Testing Accuracy: 0.9713\n",
      "\n"
     ]
    },
    {
     "name": "stdout",
     "output_type": "stream",
     "text": [
      "Epoch 160, Loss 0.0245\n",
      "Training Accuracy: 0.9699, Testing Accuracy: 0.9723\n",
      "\n"
     ]
    },
    {
     "name": "stdout",
     "output_type": "stream",
     "text": [
      "Epoch 170, Loss 0.0239\n",
      "Training Accuracy: 0.9705, Testing Accuracy: 0.9723\n",
      "\n"
     ]
    },
    {
     "name": "stdout",
     "output_type": "stream",
     "text": [
      "Epoch 180, Loss 0.0234\n",
      "Training Accuracy: 0.9713, Testing Accuracy: 0.9723\n",
      "\n"
     ]
    },
    {
     "name": "stdout",
     "output_type": "stream",
     "text": [
      "Epoch 190, Loss 0.0229\n",
      "Training Accuracy: 0.9722, Testing Accuracy: 0.9718\n",
      "\n"
     ]
    },
    {
     "name": "stdout",
     "output_type": "stream",
     "text": [
      "Epoch 200, Loss 0.0224\n",
      "Training Accuracy: 0.9736, Testing Accuracy: 0.9728\n",
      "\n"
     ]
    },
    {
     "name": "stdout",
     "output_type": "stream",
     "text": [
      "Epoch 210, Loss 0.022\n",
      "Training Accuracy: 0.9745, Testing Accuracy: 0.9728\n",
      "\n"
     ]
    },
    {
     "name": "stdout",
     "output_type": "stream",
     "text": [
      "Epoch 220, Loss 0.0216\n",
      "Training Accuracy: 0.9752, Testing Accuracy: 0.9733\n",
      "\n"
     ]
    },
    {
     "name": "stdout",
     "output_type": "stream",
     "text": [
      "Epoch 230, Loss 0.0212\n",
      "Training Accuracy: 0.9760, Testing Accuracy: 0.9733\n",
      "\n"
     ]
    },
    {
     "name": "stdout",
     "output_type": "stream",
     "text": [
      "Epoch 240, Loss 0.0208\n",
      "Training Accuracy: 0.9769, Testing Accuracy: 0.9728\n",
      "\n"
     ]
    },
    {
     "data": {
      "text/plain": [
       "0.002498961419929682"
      ]
     },
     "execution_count": 22,
     "metadata": {},
     "output_type": "execute_result"
    }
   ],
   "source": [
    "nn_learner.train_loop(dl)"
   ]
  },
  {
   "cell_type": "code",
   "execution_count": 23,
   "id": "e0163366",
   "metadata": {
    "execution": {
     "iopub.execute_input": "2021-12-27T00:26:39.020393Z",
     "iopub.status.busy": "2021-12-27T00:26:39.019859Z",
     "iopub.status.idle": "2021-12-27T00:26:52.518073Z",
     "shell.execute_reply": "2021-12-27T00:26:52.518830Z"
    },
    "papermill": {
     "duration": 13.543815,
     "end_time": "2021-12-27T00:26:52.518981",
     "exception": false,
     "start_time": "2021-12-27T00:26:38.975166",
     "status": "completed"
    },
    "tags": []
   },
   "outputs": [
    {
     "name": "stdout",
     "output_type": "stream",
     "text": [
      "Epoch 0, Loss 0.1953\n",
      "Training Accuracy: 0.8284, Testing Accuracy: 0.8347\n",
      "\n"
     ]
    },
    {
     "name": "stdout",
     "output_type": "stream",
     "text": [
      "Epoch 10, Loss 0.0984\n",
      "Training Accuracy: 0.9163, Testing Accuracy: 0.9214\n",
      "\n"
     ]
    },
    {
     "name": "stdout",
     "output_type": "stream",
     "text": [
      "Epoch 20, Loss 0.0776\n",
      "Training Accuracy: 0.9301, Testing Accuracy: 0.9370\n",
      "\n"
     ]
    },
    {
     "name": "stdout",
     "output_type": "stream",
     "text": [
      "Epoch 30, Loss 0.0676\n",
      "Training Accuracy: 0.9374, Testing Accuracy: 0.9501\n",
      "\n"
     ]
    },
    {
     "name": "stdout",
     "output_type": "stream",
     "text": [
      "Epoch 40, Loss 0.0614\n",
      "Training Accuracy: 0.9420, Testing Accuracy: 0.9531\n",
      "\n"
     ]
    },
    {
     "name": "stdout",
     "output_type": "stream",
     "text": [
      "Epoch 50, Loss 0.0571\n",
      "Training Accuracy: 0.9445, Testing Accuracy: 0.9551\n",
      "\n"
     ]
    },
    {
     "name": "stdout",
     "output_type": "stream",
     "text": [
      "Epoch 60, Loss 0.0539\n",
      "Training Accuracy: 0.9475, Testing Accuracy: 0.9567\n",
      "\n"
     ]
    },
    {
     "name": "stdout",
     "output_type": "stream",
     "text": [
      "Epoch 70, Loss 0.0514\n",
      "Training Accuracy: 0.9493, Testing Accuracy: 0.9572\n",
      "\n"
     ]
    },
    {
     "name": "stdout",
     "output_type": "stream",
     "text": [
      "Epoch 80, Loss 0.0494\n",
      "Training Accuracy: 0.9504, Testing Accuracy: 0.9577\n",
      "\n"
     ]
    },
    {
     "name": "stdout",
     "output_type": "stream",
     "text": [
      "Epoch 90, Loss 0.0478\n",
      "Training Accuracy: 0.9525, Testing Accuracy: 0.9582\n",
      "\n"
     ]
    },
    {
     "name": "stdout",
     "output_type": "stream",
     "text": [
      "Epoch 100, Loss 0.0464\n",
      "Training Accuracy: 0.9528, Testing Accuracy: 0.9587\n",
      "\n"
     ]
    },
    {
     "name": "stdout",
     "output_type": "stream",
     "text": [
      "Epoch 110, Loss 0.0451\n",
      "Training Accuracy: 0.9536, Testing Accuracy: 0.9607\n",
      "\n"
     ]
    },
    {
     "name": "stdout",
     "output_type": "stream",
     "text": [
      "Epoch 120, Loss 0.0441\n",
      "Training Accuracy: 0.9544, Testing Accuracy: 0.9612\n",
      "\n"
     ]
    },
    {
     "name": "stdout",
     "output_type": "stream",
     "text": [
      "Epoch 130, Loss 0.0432\n",
      "Training Accuracy: 0.9553, Testing Accuracy: 0.9622\n",
      "\n"
     ]
    },
    {
     "name": "stdout",
     "output_type": "stream",
     "text": [
      "Epoch 140, Loss 0.0423\n",
      "Training Accuracy: 0.9561, Testing Accuracy: 0.9627\n",
      "\n"
     ]
    },
    {
     "name": "stdout",
     "output_type": "stream",
     "text": [
      "Epoch 150, Loss 0.0416\n",
      "Training Accuracy: 0.9569, Testing Accuracy: 0.9642\n",
      "\n"
     ]
    },
    {
     "name": "stdout",
     "output_type": "stream",
     "text": [
      "Epoch 160, Loss 0.0409\n",
      "Training Accuracy: 0.9572, Testing Accuracy: 0.9652\n",
      "\n"
     ]
    },
    {
     "name": "stdout",
     "output_type": "stream",
     "text": [
      "Epoch 170, Loss 0.0403\n",
      "Training Accuracy: 0.9579, Testing Accuracy: 0.9662\n",
      "\n"
     ]
    },
    {
     "name": "stdout",
     "output_type": "stream",
     "text": [
      "Epoch 180, Loss 0.0397\n",
      "Training Accuracy: 0.9582, Testing Accuracy: 0.9662\n",
      "\n"
     ]
    },
    {
     "name": "stdout",
     "output_type": "stream",
     "text": [
      "Epoch 190, Loss 0.0392\n",
      "Training Accuracy: 0.9587, Testing Accuracy: 0.9662\n",
      "\n"
     ]
    },
    {
     "name": "stdout",
     "output_type": "stream",
     "text": [
      "Epoch 200, Loss 0.0387\n",
      "Training Accuracy: 0.9589, Testing Accuracy: 0.9662\n",
      "\n"
     ]
    },
    {
     "name": "stdout",
     "output_type": "stream",
     "text": [
      "Epoch 210, Loss 0.0383\n",
      "Training Accuracy: 0.9589, Testing Accuracy: 0.9662\n",
      "\n"
     ]
    },
    {
     "name": "stdout",
     "output_type": "stream",
     "text": [
      "Epoch 220, Loss 0.0378\n",
      "Training Accuracy: 0.9591, Testing Accuracy: 0.9662\n",
      "\n"
     ]
    },
    {
     "name": "stdout",
     "output_type": "stream",
     "text": [
      "Epoch 230, Loss 0.0375\n",
      "Training Accuracy: 0.9594, Testing Accuracy: 0.9667\n",
      "\n"
     ]
    },
    {
     "name": "stdout",
     "output_type": "stream",
     "text": [
      "Epoch 240, Loss 0.0371\n",
      "Training Accuracy: 0.9596, Testing Accuracy: 0.9662\n",
      "\n"
     ]
    },
    {
     "data": {
      "text/plain": [
       "0.03405949136845007"
      ]
     },
     "execution_count": 23,
     "metadata": {},
     "output_type": "execute_result"
    }
   ],
   "source": [
    "lr_learner.train_loop(dl)"
   ]
  },
  {
   "cell_type": "code",
   "execution_count": 24,
   "id": "ca410940",
   "metadata": {
    "execution": {
     "iopub.execute_input": "2021-12-27T00:26:52.616415Z",
     "iopub.status.busy": "2021-12-27T00:26:52.615894Z",
     "iopub.status.idle": "2021-12-27T00:26:52.833363Z",
     "shell.execute_reply": "2021-12-27T00:26:52.832871Z"
    },
    "papermill": {
     "duration": 0.272357,
     "end_time": "2021-12-27T00:26:52.833497",
     "exception": false,
     "start_time": "2021-12-27T00:26:52.561140",
     "status": "completed"
    },
    "tags": []
   },
   "outputs": [
    {
     "data": {
      "text/plain": [
       "<matplotlib.legend.Legend at 0x7fda621549b0>"
      ]
     },
     "execution_count": 24,
     "metadata": {},
     "output_type": "execute_result"
    },
    {
     "data": {
      "image/png": "[encoded data removed]",
      "text/plain": [
       "<Figure size 1080x720 with 1 Axes>"
      ]
     },
     "metadata": {
      "needs_background": "light"
     },
     "output_type": "display_data"
    }
   ],
   "source": [
    "#comparing the results of NN and LR\n",
    "plt.figure(figsize=(15,10))\n",
    "\n",
    "# Neural Network plots\n",
    "plt.plot(acc_nn.accuracies, 'r-', label = \"Training Accuracies - NN\")\n",
    "plt.plot(acc_nn.test_accuracies, 'g-', label = \"Testing Accuracies - NN\")\n",
    "\n",
    "# Logistic Regression plots\n",
    "plt.plot(acc_lr.accuracies, 'k-', label = \"Training Accuracies - LR\")\n",
    "plt.plot(acc_lr.test_accuracies, 'b-', label = \"Testing Accuracies - LR\")\n",
    "plt.legend()"
   ]
  },
  {
   "cell_type": "markdown",
   "id": "80dfb35c",
   "metadata": {
    "papermill": {
     "duration": 0.042099,
     "end_time": "2021-12-27T00:26:52.918350",
     "exception": false,
     "start_time": "2021-12-27T00:26:52.876251",
     "status": "completed"
    },
    "tags": []
   },
   "source": [
    "#### Plotting the outputs of this layer of the NN.\n"
   ]
  },
  {
   "cell_type": "code",
   "execution_count": 25,
   "id": "45eb2ff5",
   "metadata": {
    "execution": {
     "iopub.execute_input": "2021-12-27T00:26:53.024304Z",
     "iopub.status.busy": "2021-12-27T00:26:53.018689Z",
     "iopub.status.idle": "2021-12-27T00:26:53.031481Z",
     "shell.execute_reply": "2021-12-27T00:26:53.031037Z"
    },
    "papermill": {
     "duration": 0.071246,
     "end_time": "2021-12-27T00:26:53.031592",
     "exception": false,
     "start_time": "2021-12-27T00:26:52.960346",
     "status": "completed"
    },
    "tags": []
   },
   "outputs": [],
   "source": [
    "new_model = Model(layers[:-2])\n",
    "testing_plot = new_model(testing_data_x)"
   ]
  },
  {
   "cell_type": "code",
   "execution_count": 26,
   "id": "4c0a5485",
   "metadata": {
    "execution": {
     "iopub.execute_input": "2021-12-27T00:26:53.121173Z",
     "iopub.status.busy": "2021-12-27T00:26:53.120636Z",
     "iopub.status.idle": "2021-12-27T00:26:53.360987Z",
     "shell.execute_reply": "2021-12-27T00:26:53.361402Z"
    },
    "papermill": {
     "duration": 0.287293,
     "end_time": "2021-12-27T00:26:53.361542",
     "exception": false,
     "start_time": "2021-12-27T00:26:53.074249",
     "status": "completed"
    },
    "tags": []
   },
   "outputs": [
    {
     "data": {
      "text/plain": [
       "Text(0.5, 1.0, 'Outputs')"
      ]
     },
     "execution_count": 26,
     "metadata": {},
     "output_type": "execute_result"
    },
    {
     "data": {
      "image/png": "[encoded data removed]",
      "text/plain": [
       "<Figure size 576x504 with 1 Axes>"
      ]
     },
     "metadata": {
      "needs_background": "light"
     },
     "output_type": "display_data"
    }
   ],
   "source": [
    "# Plotting the scatter plot of points and color coding by class\n",
    "plt.figure(figsize=(8,7))\n",
    "plt.scatter(testing_plot[:,0], testing_plot[:,1], alpha = 0.1, c = y_test.ravel());\n",
    "plt.title('Outputs')"
   ]
  },
  {
   "cell_type": "markdown",
   "id": "a74fcf8f",
   "metadata": {
    "papermill": {
     "duration": 0.045777,
     "end_time": "2021-12-27T00:26:53.453774",
     "exception": false,
     "start_time": "2021-12-27T00:26:53.407997",
     "status": "completed"
    },
    "tags": []
   },
   "source": [
    "Probability contours"
   ]
  },
  {
   "cell_type": "code",
   "execution_count": 27,
   "id": "d0afc8e3",
   "metadata": {
    "execution": {
     "iopub.execute_input": "2021-12-27T00:26:53.554404Z",
     "iopub.status.busy": "2021-12-27T00:26:53.553848Z",
     "iopub.status.idle": "2021-12-27T00:26:53.563470Z",
     "shell.execute_reply": "2021-12-27T00:26:53.563057Z"
    },
    "papermill": {
     "duration": 0.063723,
     "end_time": "2021-12-27T00:26:53.563576",
     "exception": false,
     "start_time": "2021-12-27T00:26:53.499853",
     "status": "completed"
    },
    "tags": []
   },
   "outputs": [],
   "source": [
    "model_prob = Model(layers[-2:]) "
   ]
  },
  {
   "cell_type": "code",
   "execution_count": 28,
   "id": "9b96e238",
   "metadata": {
    "execution": {
     "iopub.execute_input": "2021-12-27T00:26:53.691423Z",
     "iopub.status.busy": "2021-12-27T00:26:53.690891Z",
     "iopub.status.idle": "2021-12-27T00:26:53.703476Z",
     "shell.execute_reply": "2021-12-27T00:26:53.703059Z"
    },
    "papermill": {
     "duration": 0.094222,
     "end_time": "2021-12-27T00:26:53.703586",
     "exception": false,
     "start_time": "2021-12-27T00:26:53.609364",
     "status": "completed"
    },
    "tags": []
   },
   "outputs": [],
   "source": [
    "#creating the x and y ranges according to the above generated plot.\n",
    "x_range = np.linspace(-4, 1, 100) \n",
    "y_range = np.linspace(-6, 6, 100) \n",
    "x_grid, y_grid = np.meshgrid(x_range, y_range) # x_grid and y_grig are of size 100 X 100\n",
    "\n",
    "# converting x_grid and y_grid to continuous arrays\n",
    "x_gridflat = np.ravel(x_grid)\n",
    "y_gridflat = np.ravel(y_grid)\n",
    "\n",
    "# The last layer of the current model takes two columns as input. Hence transpose of np.vstack() is required.\n",
    "X = np.vstack((x_gridflat, y_gridflat)).T\n",
    "\n",
    "prob_contour = model_prob(X).reshape(100,100) "
   ]
  },
  {
   "cell_type": "code",
   "execution_count": 29,
   "id": "da72499a",
   "metadata": {
    "execution": {
     "iopub.execute_input": "2021-12-27T00:26:53.801569Z",
     "iopub.status.busy": "2021-12-27T00:26:53.801053Z",
     "iopub.status.idle": "2021-12-27T00:26:54.049078Z",
     "shell.execute_reply": "2021-12-27T00:26:54.048642Z"
    },
    "papermill": {
     "duration": 0.299025,
     "end_time": "2021-12-27T00:26:54.049202",
     "exception": false,
     "start_time": "2021-12-27T00:26:53.750177",
     "status": "completed"
    },
    "tags": []
   },
   "outputs": [
    {
     "data": {
      "image/png": "[encoded data removed]",
      "text/plain": [
       "<Figure size 720x648 with 1 Axes>"
      ]
     },
     "metadata": {
      "needs_background": "light"
     },
     "output_type": "display_data"
    }
   ],
   "source": [
    "plt.figure(figsize=(10,9))\n",
    "plt.scatter(testing_plot[:,0], testing_plot[:,1], alpha = 0.1, c = y_test.ravel())\n",
    "contours = plt.contour(x_grid,y_grid,prob_contour)\n",
    "plt.title('Probability Contours')\n",
    "plt.clabel(contours, inline = True );"
   ]
  },
  {
   "cell_type": "code",
   "execution_count": null,
   "id": "e81b4ac7",
   "metadata": {
    "papermill": {
     "duration": 0.047987,
     "end_time": "2021-12-27T00:26:54.147645",
     "exception": false,
     "start_time": "2021-12-27T00:26:54.099658",
     "status": "completed"
    },
    "tags": []
   },
   "outputs": [],
   "source": []
  }
 ],
 "metadata": {
  "kernelspec": {
   "display_name": "Python 3",
   "language": "python",
   "name": "python3"
  },
  "language_info": {
   "codemirror_mode": {
    "name": "ipython",
    "version": 3
   },
   "file_extension": ".py",
   "mimetype": "text/x-python",
   "name": "python",
   "nbconvert_exporter": "python",
   "pygments_lexer": "ipython3",
   "version": "3.6.15"
  },
  "papermill": {
   "default_parameters": {},
   "duration": 97.569878,
   "end_time": "2021-12-27T00:26:54.602646",
   "environment_variables": {},
   "exception": null,
   "input_path": "2020-08-11-part2.ipynb",
   "output_path": "2020-08-11-part2.ipynb",
   "parameters": {},
   "start_time": "2021-12-27T00:25:17.032768",
   "version": "2.3.3"
  }
 },
 "nbformat": 4,
 "nbformat_minor": 5
}