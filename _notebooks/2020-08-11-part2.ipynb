{
 "cells": [
  {
   "cell_type": "markdown",
   "id": "98380cd3",
   "metadata": {
    "papermill": {
     "duration": 0.030512,
     "end_time": "2022-06-04T20:08:56.600692",
     "exception": false,
     "start_time": "2022-06-04T20:08:56.570180",
     "status": "completed"
    },
    "tags": []
   },
   "source": [
    "# Distinguish Your Own Digits (DYOD)"
   ]
  },
  {
   "cell_type": "markdown",
   "id": "ef31240d",
   "metadata": {
    "papermill": {
     "duration": 0.024122,
     "end_time": "2022-06-04T20:08:56.649387",
     "exception": false,
     "start_time": "2022-06-04T20:08:56.625265",
     "status": "completed"
    },
    "tags": []
   },
   "source": [
    "You are going to write a classifier that distinguishes between the number 3 and number 8."
   ]
  },
  {
   "cell_type": "code",
   "execution_count": 1,
   "id": "b15c8646",
   "metadata": {
    "execution": {
     "iopub.execute_input": "2022-06-04T20:08:56.707461Z",
     "iopub.status.busy": "2022-06-04T20:08:56.706861Z",
     "iopub.status.idle": "2022-06-04T20:08:56.717762Z",
     "shell.execute_reply": "2022-06-04T20:08:56.717281Z"
    },
    "papermill": {
     "duration": 0.044597,
     "end_time": "2022-06-04T20:08:56.717883",
     "exception": false,
     "start_time": "2022-06-04T20:08:56.673286",
     "status": "completed"
    },
    "tags": []
   },
   "outputs": [],
   "source": [
    "%load_ext autoreload\n",
    "%autoreload 2"
   ]
  },
  {
   "cell_type": "code",
   "execution_count": 2,
   "id": "22ef38dc",
   "metadata": {
    "execution": {
     "iopub.execute_input": "2022-06-04T20:08:56.769364Z",
     "iopub.status.busy": "2022-06-04T20:08:56.768794Z",
     "iopub.status.idle": "2022-06-04T20:08:57.294289Z",
     "shell.execute_reply": "2022-06-04T20:08:57.293225Z"
    },
    "papermill": {
     "duration": 0.552695,
     "end_time": "2022-06-04T20:08:57.294444",
     "exception": false,
     "start_time": "2022-06-04T20:08:56.741749",
     "status": "completed"
    },
    "tags": []
   },
   "outputs": [],
   "source": [
    "%matplotlib inline\n",
    "import numpy as np\n",
    "import matplotlib.pyplot as plt\n",
    "import pandas as pd"
   ]
  },
  {
   "cell_type": "markdown",
   "id": "ba036198",
   "metadata": {
    "papermill": {
     "duration": 0.02408,
     "end_time": "2022-06-04T20:08:57.342729",
     "exception": false,
     "start_time": "2022-06-04T20:08:57.318649",
     "status": "completed"
    },
    "tags": []
   },
   "source": [
    "From the command line run `pip install mnist`. This is a library that will help you bring down the mnist dataset. If you run this from a notebook, you need to put  `!pip install mnist` in a cell by itself."
   ]
  },
  {
   "cell_type": "code",
   "execution_count": 3,
   "id": "bb6ad8a1",
   "metadata": {
    "execution": {
     "iopub.execute_input": "2022-06-04T20:08:57.396523Z",
     "iopub.status.busy": "2022-06-04T20:08:57.394015Z",
     "iopub.status.idle": "2022-06-04T20:08:59.015656Z",
     "shell.execute_reply": "2022-06-04T20:08:59.015024Z"
    },
    "papermill": {
     "duration": 1.64904,
     "end_time": "2022-06-04T20:08:59.015783",
     "exception": false,
     "start_time": "2022-06-04T20:08:57.366743",
     "status": "completed"
    },
    "tags": []
   },
   "outputs": [
    {
     "name": "stdout",
     "output_type": "stream",
     "text": [
      "Collecting mnist\r\n"
     ]
    },
    {
     "name": "stdout",
     "output_type": "stream",
     "text": [
      "  Downloading mnist-0.2.2-py2.py3-none-any.whl (3.5 kB)\r\n",
      "Requirement already satisfied: numpy in /opt/hostedtoolcache/Python/3.6.15/x64/lib/python3.6/site-packages (from mnist) (1.19.5)\r\n"
     ]
    },
    {
     "name": "stdout",
     "output_type": "stream",
     "text": [
      "Installing collected packages: mnist\r\n",
      "Successfully installed mnist-0.2.2\r\n"
     ]
    }
   ],
   "source": [
    "!pip install mnist"
   ]
  },
  {
   "cell_type": "markdown",
   "id": "69df9c9a",
   "metadata": {
    "papermill": {
     "duration": 0.024736,
     "end_time": "2022-06-04T20:08:59.065773",
     "exception": false,
     "start_time": "2022-06-04T20:08:59.041037",
     "status": "completed"
    },
    "tags": []
   },
   "source": [
    "## Preparing the Data"
   ]
  },
  {
   "cell_type": "code",
   "execution_count": 4,
   "id": "7f69d806",
   "metadata": {
    "execution": {
     "iopub.execute_input": "2022-06-04T20:08:59.129465Z",
     "iopub.status.busy": "2022-06-04T20:08:59.125601Z",
     "iopub.status.idle": "2022-06-04T20:08:59.136489Z",
     "shell.execute_reply": "2022-06-04T20:08:59.136011Z"
    },
    "papermill": {
     "duration": 0.04621,
     "end_time": "2022-06-04T20:08:59.136598",
     "exception": false,
     "start_time": "2022-06-04T20:08:59.090388",
     "status": "completed"
    },
    "tags": []
   },
   "outputs": [],
   "source": [
    "import mnist"
   ]
  },
  {
   "cell_type": "code",
   "execution_count": 5,
   "id": "a411e44f",
   "metadata": {
    "execution": {
     "iopub.execute_input": "2022-06-04T20:08:59.189730Z",
     "iopub.status.busy": "2022-06-04T20:08:59.189147Z",
     "iopub.status.idle": "2022-06-04T20:08:59.727033Z",
     "shell.execute_reply": "2022-06-04T20:08:59.726436Z"
    },
    "papermill": {
     "duration": 0.565883,
     "end_time": "2022-06-04T20:08:59.727184",
     "exception": false,
     "start_time": "2022-06-04T20:08:59.161301",
     "status": "completed"
    },
    "tags": []
   },
   "outputs": [],
   "source": [
    "train_images = mnist.train_images()\n",
    "train_labels = mnist.train_labels()"
   ]
  },
  {
   "cell_type": "code",
   "execution_count": 6,
   "id": "dceab3a5",
   "metadata": {
    "execution": {
     "iopub.execute_input": "2022-06-04T20:08:59.785336Z",
     "iopub.status.busy": "2022-06-04T20:08:59.784763Z",
     "iopub.status.idle": "2022-06-04T20:08:59.797072Z",
     "shell.execute_reply": "2022-06-04T20:08:59.797606Z"
    },
    "papermill": {
     "duration": 0.045408,
     "end_time": "2022-06-04T20:08:59.797724",
     "exception": false,
     "start_time": "2022-06-04T20:08:59.752316",
     "status": "completed"
    },
    "tags": []
   },
   "outputs": [
    {
     "data": {
      "text/plain": [
       "((60000, 28, 28), (60000,))"
      ]
     },
     "execution_count": 6,
     "metadata": {},
     "output_type": "execute_result"
    }
   ],
   "source": [
    "train_images.shape, train_labels.shape"
   ]
  },
  {
   "cell_type": "code",
   "execution_count": 7,
   "id": "f50dc2bb",
   "metadata": {
    "execution": {
     "iopub.execute_input": "2022-06-04T20:08:59.851064Z",
     "iopub.status.busy": "2022-06-04T20:08:59.850492Z",
     "iopub.status.idle": "2022-06-04T20:08:59.978209Z",
     "shell.execute_reply": "2022-06-04T20:08:59.977584Z"
    },
    "papermill": {
     "duration": 0.155803,
     "end_time": "2022-06-04T20:08:59.978350",
     "exception": false,
     "start_time": "2022-06-04T20:08:59.822547",
     "status": "completed"
    },
    "tags": []
   },
   "outputs": [],
   "source": [
    "test_images = mnist.test_images()\n",
    "test_labels = mnist.test_labels()"
   ]
  },
  {
   "cell_type": "code",
   "execution_count": 8,
   "id": "fc38cf1b",
   "metadata": {
    "execution": {
     "iopub.execute_input": "2022-06-04T20:09:00.033064Z",
     "iopub.status.busy": "2022-06-04T20:09:00.032483Z",
     "iopub.status.idle": "2022-06-04T20:09:00.045508Z",
     "shell.execute_reply": "2022-06-04T20:09:00.046063Z"
    },
    "papermill": {
     "duration": 0.042004,
     "end_time": "2022-06-04T20:09:00.046196",
     "exception": false,
     "start_time": "2022-06-04T20:09:00.004192",
     "status": "completed"
    },
    "tags": []
   },
   "outputs": [
    {
     "data": {
      "text/plain": [
       "((10000, 28, 28), (10000,))"
      ]
     },
     "execution_count": 8,
     "metadata": {},
     "output_type": "execute_result"
    }
   ],
   "source": [
    "test_images.shape, test_labels.shape"
   ]
  },
  {
   "cell_type": "code",
   "execution_count": 9,
   "id": "f9ed8fe0",
   "metadata": {
    "execution": {
     "iopub.execute_input": "2022-06-04T20:09:00.100287Z",
     "iopub.status.busy": "2022-06-04T20:09:00.099683Z",
     "iopub.status.idle": "2022-06-04T20:09:00.236171Z",
     "shell.execute_reply": "2022-06-04T20:09:00.236629Z"
    },
    "papermill": {
     "duration": 0.165239,
     "end_time": "2022-06-04T20:09:00.236764",
     "exception": false,
     "start_time": "2022-06-04T20:09:00.071525",
     "status": "completed"
    },
    "tags": []
   },
   "outputs": [
    {
     "name": "stdout",
     "output_type": "stream",
     "text": [
      "2\n"
     ]
    },
    {
     "data": {
      "text/plain": [
       "<matplotlib.image.AxesImage at 0x7fd6cea042e8>"
      ]
     },
     "execution_count": 9,
     "metadata": {},
     "output_type": "execute_result"
    },
    {
     "data": {
      "image/png": "[encoded data removed]",
      "text/plain": [
       "<Figure size 432x288 with 1 Axes>"
      ]
     },
     "metadata": {
      "needs_background": "light"
     },
     "output_type": "display_data"
    }
   ],
   "source": [
    "image_index = 7776 # You may select anything up to 60,000\n",
    "print(train_labels[image_index]) \n",
    "plt.imshow(train_images[image_index], cmap='Greys')"
   ]
  },
  {
   "cell_type": "markdown",
   "id": "a8d2388d",
   "metadata": {
    "papermill": {
     "duration": 0.026507,
     "end_time": "2022-06-04T20:09:00.289818",
     "exception": false,
     "start_time": "2022-06-04T20:09:00.263311",
     "status": "completed"
    },
    "tags": []
   },
   "source": [
    "## Filter data to get 3 and 8 out"
   ]
  },
  {
   "cell_type": "code",
   "execution_count": 10,
   "id": "776f7fc7",
   "metadata": {
    "execution": {
     "iopub.execute_input": "2022-06-04T20:09:00.347167Z",
     "iopub.status.busy": "2022-06-04T20:09:00.346574Z",
     "iopub.status.idle": "2022-06-04T20:09:00.362344Z",
     "shell.execute_reply": "2022-06-04T20:09:00.362816Z"
    },
    "papermill": {
     "duration": 0.04673,
     "end_time": "2022-06-04T20:09:00.362941",
     "exception": false,
     "start_time": "2022-06-04T20:09:00.316211",
     "status": "completed"
    },
    "tags": []
   },
   "outputs": [],
   "source": [
    "train_filter = np.where((train_labels == 3 ) | (train_labels == 8))\n",
    "test_filter = np.where((test_labels == 3) | (test_labels == 8))\n",
    "X_train, y_train = train_images[train_filter], train_labels[train_filter]\n",
    "X_test, y_test = test_images[test_filter], test_labels[test_filter]"
   ]
  },
  {
   "cell_type": "markdown",
   "id": "948f0b7e",
   "metadata": {
    "papermill": {
     "duration": 0.02626,
     "end_time": "2022-06-04T20:09:00.415554",
     "exception": false,
     "start_time": "2022-06-04T20:09:00.389294",
     "status": "completed"
    },
    "tags": []
   },
   "source": [
    "We normalize the pizel values in the 0 to 1 range"
   ]
  },
  {
   "cell_type": "code",
   "execution_count": 11,
   "id": "ee4c2166",
   "metadata": {
    "execution": {
     "iopub.execute_input": "2022-06-04T20:09:00.480759Z",
     "iopub.status.busy": "2022-06-04T20:09:00.478464Z",
     "iopub.status.idle": "2022-06-04T20:09:00.519179Z",
     "shell.execute_reply": "2022-06-04T20:09:00.518636Z"
    },
    "papermill": {
     "duration": 0.07757,
     "end_time": "2022-06-04T20:09:00.519316",
     "exception": false,
     "start_time": "2022-06-04T20:09:00.441746",
     "status": "completed"
    },
    "tags": []
   },
   "outputs": [],
   "source": [
    "X_train = X_train/255.\n",
    "X_test = X_test/255."
   ]
  },
  {
   "cell_type": "markdown",
   "id": "ddcf4fab",
   "metadata": {
    "papermill": {
     "duration": 0.028318,
     "end_time": "2022-06-04T20:09:00.574556",
     "exception": false,
     "start_time": "2022-06-04T20:09:00.546238",
     "status": "completed"
    },
    "tags": []
   },
   "source": [
    "And setup the labels as 1 (when the digit is 3) and 0 (when the digit is 8)"
   ]
  },
  {
   "cell_type": "code",
   "execution_count": 12,
   "id": "7dc908f2",
   "metadata": {
    "execution": {
     "iopub.execute_input": "2022-06-04T20:09:00.641397Z",
     "iopub.status.busy": "2022-06-04T20:09:00.640764Z",
     "iopub.status.idle": "2022-06-04T20:09:00.644611Z",
     "shell.execute_reply": "2022-06-04T20:09:00.645159Z"
    },
    "papermill": {
     "duration": 0.043291,
     "end_time": "2022-06-04T20:09:00.645297",
     "exception": false,
     "start_time": "2022-06-04T20:09:00.602006",
     "status": "completed"
    },
    "tags": []
   },
   "outputs": [],
   "source": [
    "y_train = 1*(y_train==3)\n",
    "y_test = 1*(y_test==3)"
   ]
  },
  {
   "cell_type": "code",
   "execution_count": 13,
   "id": "01e4e969",
   "metadata": {
    "execution": {
     "iopub.execute_input": "2022-06-04T20:09:00.709307Z",
     "iopub.status.busy": "2022-06-04T20:09:00.708720Z",
     "iopub.status.idle": "2022-06-04T20:09:00.716638Z",
     "shell.execute_reply": "2022-06-04T20:09:00.717196Z"
    },
    "papermill": {
     "duration": 0.044263,
     "end_time": "2022-06-04T20:09:00.717328",
     "exception": false,
     "start_time": "2022-06-04T20:09:00.673065",
     "status": "completed"
    },
    "tags": []
   },
   "outputs": [
    {
     "data": {
      "text/plain": [
       "((11982, 28, 28), (1984, 28, 28))"
      ]
     },
     "execution_count": 13,
     "metadata": {},
     "output_type": "execute_result"
    }
   ],
   "source": [
    "X_train.shape, X_test.shape"
   ]
  },
  {
   "cell_type": "markdown",
   "id": "5ccf3f85",
   "metadata": {
    "papermill": {
     "duration": 0.026901,
     "end_time": "2022-06-04T20:09:00.770970",
     "exception": false,
     "start_time": "2022-06-04T20:09:00.744069",
     "status": "completed"
    },
    "tags": []
   },
   "source": [
    "We reshape the data to flatten the image pixels into a set of features or co-variates:"
   ]
  },
  {
   "cell_type": "code",
   "execution_count": 14,
   "id": "5286a4a3",
   "metadata": {
    "execution": {
     "iopub.execute_input": "2022-06-04T20:09:00.837392Z",
     "iopub.status.busy": "2022-06-04T20:09:00.836767Z",
     "iopub.status.idle": "2022-06-04T20:09:00.844340Z",
     "shell.execute_reply": "2022-06-04T20:09:00.845152Z"
    },
    "papermill": {
     "duration": 0.046897,
     "end_time": "2022-06-04T20:09:00.845290",
     "exception": false,
     "start_time": "2022-06-04T20:09:00.798393",
     "status": "completed"
    },
    "tags": []
   },
   "outputs": [
    {
     "data": {
      "text/plain": [
       "((11982, 784), (1984, 784))"
      ]
     },
     "execution_count": 14,
     "metadata": {},
     "output_type": "execute_result"
    }
   ],
   "source": [
    "X_train = X_train.reshape(X_train.shape[0], -1)\n",
    "X_test = X_test.reshape(X_test.shape[0], -1)\n",
    "X_train.shape, X_test.shape"
   ]
  },
  {
   "cell_type": "code",
   "execution_count": 15,
   "id": "73c5f88a",
   "metadata": {
    "execution": {
     "iopub.execute_input": "2022-06-04T20:09:00.909529Z",
     "iopub.status.busy": "2022-06-04T20:09:00.908940Z",
     "iopub.status.idle": "2022-06-04T20:09:00.924533Z",
     "shell.execute_reply": "2022-06-04T20:09:00.925386Z"
    },
    "papermill": {
     "duration": 0.052082,
     "end_time": "2022-06-04T20:09:00.925530",
     "exception": false,
     "start_time": "2022-06-04T20:09:00.873448",
     "status": "completed"
    },
    "tags": []
   },
   "outputs": [],
   "source": [
    "#Impoting functions from 'Kudzu'\n",
    "from kudzu.model import Model\n",
    "from kudzu.train import Learner\n",
    "from kudzu.optim import GD\n",
    "from kudzu.data import Data, Sampler,Dataloader\n",
    "\n",
    "from kudzu.callbacks import AccCallback\n",
    "from kudzu.callbacks import ClfCallback\n",
    "\n",
    "from kudzu.loss import MSE\n",
    "\n",
    "from kudzu.layer import Sigmoid,Relu\n",
    "from kudzu.layer import Affine"
   ]
  },
  {
   "cell_type": "markdown",
   "id": "bc01172a",
   "metadata": {
    "papermill": {
     "duration": 0.027333,
     "end_time": "2022-06-04T20:09:00.981090",
     "exception": false,
     "start_time": "2022-06-04T20:09:00.953757",
     "status": "completed"
    },
    "tags": []
   },
   "source": [
    "### Let us create a `Config` class, to store important parameters. \n",
    "This class essentially plays the role of a dictionary."
   ]
  },
  {
   "cell_type": "code",
   "execution_count": 16,
   "id": "978281aa",
   "metadata": {
    "execution": {
     "iopub.execute_input": "2022-06-04T20:09:01.045285Z",
     "iopub.status.busy": "2022-06-04T20:09:01.044641Z",
     "iopub.status.idle": "2022-06-04T20:09:01.054414Z",
     "shell.execute_reply": "2022-06-04T20:09:01.054851Z"
    },
    "papermill": {
     "duration": 0.045881,
     "end_time": "2022-06-04T20:09:01.054995",
     "exception": false,
     "start_time": "2022-06-04T20:09:01.009114",
     "status": "completed"
    },
    "tags": []
   },
   "outputs": [],
   "source": [
    "class Config:\n",
    "    pass\n",
    "config = Config()\n",
    "config.lr = 0.001\n",
    "config.num_epochs = 250\n",
    "config.bs = 50"
   ]
  },
  {
   "cell_type": "markdown",
   "id": "1385fa59",
   "metadata": {
    "papermill": {
     "duration": 0.027294,
     "end_time": "2022-06-04T20:09:01.109513",
     "exception": false,
     "start_time": "2022-06-04T20:09:01.082219",
     "status": "completed"
    },
    "tags": []
   },
   "source": [
    "### Running Models with the Training data\n",
    "Details about the network layers:\n",
    "- A first affine layer has 784 inputs and does 100 affine transforms. These are followed by a Relu\n",
    "- A second affine layer has 100 inputs from the 100 activations of the past layer, and does 100 affine transforms. These are followed by a Relu\n",
    "- A third affine layer has 100 activations and does 2 affine transformations to create an embedding for visualization. There is no non-linearity here.\n",
    "- A final \"logistic regression\" which has an affine transform from 2 inputs to 1 output, which is squeezed through a sigmoid.\n"
   ]
  },
  {
   "cell_type": "code",
   "execution_count": 17,
   "id": "2b9c66db",
   "metadata": {
    "execution": {
     "iopub.execute_input": "2022-06-04T20:09:01.167238Z",
     "iopub.status.busy": "2022-06-04T20:09:01.166589Z",
     "iopub.status.idle": "2022-06-04T20:09:01.179547Z",
     "shell.execute_reply": "2022-06-04T20:09:01.180041Z"
    },
    "papermill": {
     "duration": 0.043669,
     "end_time": "2022-06-04T20:09:01.180171",
     "exception": false,
     "start_time": "2022-06-04T20:09:01.136502",
     "status": "completed"
    },
    "tags": []
   },
   "outputs": [],
   "source": [
    "data = Data(X_train, y_train.reshape(-1,1))\n",
    "sampler = Sampler(data, config.bs, shuffle=True)\n",
    "\n",
    "dl = Dataloader(data, sampler)\n",
    "\n",
    "opt = GD(config.lr)\n",
    "loss = MSE()"
   ]
  },
  {
   "cell_type": "code",
   "execution_count": 18,
   "id": "b275e4c2",
   "metadata": {
    "execution": {
     "iopub.execute_input": "2022-06-04T20:09:01.237536Z",
     "iopub.status.busy": "2022-06-04T20:09:01.236972Z",
     "iopub.status.idle": "2022-06-04T20:09:01.249560Z",
     "shell.execute_reply": "2022-06-04T20:09:01.249024Z"
    },
    "papermill": {
     "duration": 0.042643,
     "end_time": "2022-06-04T20:09:01.249678",
     "exception": false,
     "start_time": "2022-06-04T20:09:01.207035",
     "status": "completed"
    },
    "tags": []
   },
   "outputs": [],
   "source": [
    "training_data_x = X_train\n",
    "testing_data_x = X_test\n",
    "training_data_y = y_train.reshape(-1,1)\n",
    "testing_data_y = y_test.reshape(-1,1)"
   ]
  },
  {
   "cell_type": "code",
   "execution_count": 19,
   "id": "76951160",
   "metadata": {
    "execution": {
     "iopub.execute_input": "2022-06-04T20:09:01.308216Z",
     "iopub.status.busy": "2022-06-04T20:09:01.307600Z",
     "iopub.status.idle": "2022-06-04T20:09:01.323035Z",
     "shell.execute_reply": "2022-06-04T20:09:01.323505Z"
    },
    "papermill": {
     "duration": 0.0461,
     "end_time": "2022-06-04T20:09:01.323623",
     "exception": false,
     "start_time": "2022-06-04T20:09:01.277523",
     "status": "completed"
    },
    "tags": []
   },
   "outputs": [
    {
     "name": "stdout",
     "output_type": "stream",
     "text": [
      "xavier\n",
      "xavier\n",
      "xavier\n",
      "xavier\n",
      "xavier\n"
     ]
    }
   ],
   "source": [
    "layers = [Affine(\"first\", 784, 100), Relu(\"first\"), Affine(\"second\", 100, 100), Relu(\"second\"), Affine(\"third\", 100, 2), Affine(\"last\", 2, 1), Sigmoid(\"last\")]\n",
    "model_nn = Model(layers)\n",
    "model_lr = Model([Affine(\"logits\", 784, 1), Sigmoid(\"sigmoid\")])"
   ]
  },
  {
   "cell_type": "code",
   "execution_count": 20,
   "id": "6eede77a",
   "metadata": {
    "execution": {
     "iopub.execute_input": "2022-06-04T20:09:01.381604Z",
     "iopub.status.busy": "2022-06-04T20:09:01.381036Z",
     "iopub.status.idle": "2022-06-04T20:09:01.392032Z",
     "shell.execute_reply": "2022-06-04T20:09:01.392590Z"
    },
    "papermill": {
     "duration": 0.04168,
     "end_time": "2022-06-04T20:09:01.392707",
     "exception": false,
     "start_time": "2022-06-04T20:09:01.351027",
     "status": "completed"
    },
    "tags": []
   },
   "outputs": [],
   "source": [
    "nn_learner = Learner(loss, model_nn, opt, config.num_epochs)\n",
    "acc_nn = ClfCallback(nn_learner, config.bs, training_data_x , testing_data_x, training_data_y, testing_data_y)\n",
    "nn_learner.set_callbacks([acc_nn])"
   ]
  },
  {
   "cell_type": "code",
   "execution_count": 21,
   "id": "877b6cc7",
   "metadata": {
    "execution": {
     "iopub.execute_input": "2022-06-04T20:09:01.451653Z",
     "iopub.status.busy": "2022-06-04T20:09:01.451076Z",
     "iopub.status.idle": "2022-06-04T20:09:01.461841Z",
     "shell.execute_reply": "2022-06-04T20:09:01.461274Z"
    },
    "papermill": {
     "duration": 0.042133,
     "end_time": "2022-06-04T20:09:01.461942",
     "exception": false,
     "start_time": "2022-06-04T20:09:01.419809",
     "status": "completed"
    },
    "tags": []
   },
   "outputs": [],
   "source": [
    "lr_learner = Learner(loss, model_lr, opt, config.num_epochs)\n",
    "acc_lr = ClfCallback(lr_learner, config.bs, training_data_x , testing_data_x, training_data_y, testing_data_y)\n",
    "lr_learner.set_callbacks([acc_lr])"
   ]
  },
  {
   "cell_type": "code",
   "execution_count": 22,
   "id": "d9b133c3",
   "metadata": {
    "execution": {
     "iopub.execute_input": "2022-06-04T20:09:01.519953Z",
     "iopub.status.busy": "2022-06-04T20:09:01.519385Z",
     "iopub.status.idle": "2022-06-04T20:10:16.151311Z",
     "shell.execute_reply": "2022-06-04T20:10:16.152197Z"
    },
    "papermill": {
     "duration": 74.663171,
     "end_time": "2022-06-04T20:10:16.152358",
     "exception": false,
     "start_time": "2022-06-04T20:09:01.489187",
     "status": "completed"
    },
    "tags": []
   },
   "outputs": [
    {
     "name": "stdout",
     "output_type": "stream",
     "text": [
      "Epoch 0, Loss 0.2463\n",
      "Training Accuracy: 0.6198, Testing Accuracy: 0.6164\n",
      "\n"
     ]
    },
    {
     "name": "stdout",
     "output_type": "stream",
     "text": [
      "Epoch 10, Loss 0.1056\n",
      "Training Accuracy: 0.9059, Testing Accuracy: 0.9204\n",
      "\n"
     ]
    },
    {
     "name": "stdout",
     "output_type": "stream",
     "text": [
      "Epoch 20, Loss 0.0602\n",
      "Training Accuracy: 0.9379, Testing Accuracy: 0.9501\n",
      "\n"
     ]
    },
    {
     "name": "stdout",
     "output_type": "stream",
     "text": [
      "Epoch 30, Loss 0.0462\n",
      "Training Accuracy: 0.9492, Testing Accuracy: 0.9592\n",
      "\n"
     ]
    },
    {
     "name": "stdout",
     "output_type": "stream",
     "text": [
      "Epoch 40, Loss 0.0395\n",
      "Training Accuracy: 0.9552, Testing Accuracy: 0.9632\n",
      "\n"
     ]
    },
    {
     "name": "stdout",
     "output_type": "stream",
     "text": [
      "Epoch 50, Loss 0.0355\n",
      "Training Accuracy: 0.9585, Testing Accuracy: 0.9652\n",
      "\n"
     ]
    },
    {
     "name": "stdout",
     "output_type": "stream",
     "text": [
      "Epoch 60, Loss 0.0327\n",
      "Training Accuracy: 0.9617, Testing Accuracy: 0.9667\n",
      "\n"
     ]
    },
    {
     "name": "stdout",
     "output_type": "stream",
     "text": [
      "Epoch 70, Loss 0.0307\n",
      "Training Accuracy: 0.9645, Testing Accuracy: 0.9688\n",
      "\n"
     ]
    },
    {
     "name": "stdout",
     "output_type": "stream",
     "text": [
      "Epoch 80, Loss 0.0291\n",
      "Training Accuracy: 0.9663, Testing Accuracy: 0.9672\n",
      "\n"
     ]
    },
    {
     "name": "stdout",
     "output_type": "stream",
     "text": [
      "Epoch 90, Loss 0.0278\n",
      "Training Accuracy: 0.9680, Testing Accuracy: 0.9682\n",
      "\n"
     ]
    },
    {
     "name": "stdout",
     "output_type": "stream",
     "text": [
      "Epoch 100, Loss 0.0268\n",
      "Training Accuracy: 0.9692, Testing Accuracy: 0.9677\n",
      "\n"
     ]
    },
    {
     "name": "stdout",
     "output_type": "stream",
     "text": [
      "Epoch 110, Loss 0.0258\n",
      "Training Accuracy: 0.9700, Testing Accuracy: 0.9698\n",
      "\n"
     ]
    },
    {
     "name": "stdout",
     "output_type": "stream",
     "text": [
      "Epoch 120, Loss 0.025\n",
      "Training Accuracy: 0.9707, Testing Accuracy: 0.9703\n",
      "\n"
     ]
    },
    {
     "name": "stdout",
     "output_type": "stream",
     "text": [
      "Epoch 130, Loss 0.0242\n",
      "Training Accuracy: 0.9715, Testing Accuracy: 0.9708\n",
      "\n"
     ]
    },
    {
     "name": "stdout",
     "output_type": "stream",
     "text": [
      "Epoch 140, Loss 0.0236\n",
      "Training Accuracy: 0.9721, Testing Accuracy: 0.9708\n",
      "\n"
     ]
    },
    {
     "name": "stdout",
     "output_type": "stream",
     "text": [
      "Epoch 150, Loss 0.023\n",
      "Training Accuracy: 0.9735, Testing Accuracy: 0.9723\n",
      "\n"
     ]
    },
    {
     "name": "stdout",
     "output_type": "stream",
     "text": [
      "Epoch 160, Loss 0.0224\n",
      "Training Accuracy: 0.9743, Testing Accuracy: 0.9728\n",
      "\n"
     ]
    },
    {
     "name": "stdout",
     "output_type": "stream",
     "text": [
      "Epoch 170, Loss 0.0218\n",
      "Training Accuracy: 0.9749, Testing Accuracy: 0.9738\n",
      "\n"
     ]
    },
    {
     "name": "stdout",
     "output_type": "stream",
     "text": [
      "Epoch 180, Loss 0.0213\n",
      "Training Accuracy: 0.9755, Testing Accuracy: 0.9738\n",
      "\n"
     ]
    },
    {
     "name": "stdout",
     "output_type": "stream",
     "text": [
      "Epoch 190, Loss 0.0208\n",
      "Training Accuracy: 0.9765, Testing Accuracy: 0.9738\n",
      "\n"
     ]
    },
    {
     "name": "stdout",
     "output_type": "stream",
     "text": [
      "Epoch 200, Loss 0.0204\n",
      "Training Accuracy: 0.9769, Testing Accuracy: 0.9738\n",
      "\n"
     ]
    },
    {
     "name": "stdout",
     "output_type": "stream",
     "text": [
      "Epoch 210, Loss 0.0199\n",
      "Training Accuracy: 0.9775, Testing Accuracy: 0.9743\n",
      "\n"
     ]
    },
    {
     "name": "stdout",
     "output_type": "stream",
     "text": [
      "Epoch 220, Loss 0.0195\n",
      "Training Accuracy: 0.9779, Testing Accuracy: 0.9748\n",
      "\n"
     ]
    },
    {
     "name": "stdout",
     "output_type": "stream",
     "text": [
      "Epoch 230, Loss 0.0191\n",
      "Training Accuracy: 0.9789, Testing Accuracy: 0.9748\n",
      "\n"
     ]
    },
    {
     "name": "stdout",
     "output_type": "stream",
     "text": [
      "Epoch 240, Loss 0.0187\n",
      "Training Accuracy: 0.9791, Testing Accuracy: 0.9753\n",
      "\n"
     ]
    },
    {
     "data": {
      "text/plain": [
       "0.011592832355617057"
      ]
     },
     "execution_count": 22,
     "metadata": {},
     "output_type": "execute_result"
    }
   ],
   "source": [
    "nn_learner.train_loop(dl)"
   ]
  },
  {
   "cell_type": "code",
   "execution_count": 23,
   "id": "e0163366",
   "metadata": {
    "execution": {
     "iopub.execute_input": "2022-06-04T20:10:16.234756Z",
     "iopub.status.busy": "2022-06-04T20:10:16.234157Z",
     "iopub.status.idle": "2022-06-04T20:10:29.543463Z",
     "shell.execute_reply": "2022-06-04T20:10:29.544318Z"
    },
    "papermill": {
     "duration": 13.357105,
     "end_time": "2022-06-04T20:10:29.544473",
     "exception": false,
     "start_time": "2022-06-04T20:10:16.187368",
     "status": "completed"
    },
    "tags": []
   },
   "outputs": [
    {
     "name": "stdout",
     "output_type": "stream",
     "text": [
      "Epoch 0, Loss 0.2516\n",
      "Training Accuracy: 0.6445, Testing Accuracy: 0.6416\n",
      "\n"
     ]
    },
    {
     "name": "stdout",
     "output_type": "stream",
     "text": [
      "Epoch 10, Loss 0.1039\n",
      "Training Accuracy: 0.9105, Testing Accuracy: 0.9209\n",
      "\n"
     ]
    },
    {
     "name": "stdout",
     "output_type": "stream",
     "text": [
      "Epoch 20, Loss 0.079\n",
      "Training Accuracy: 0.9296, Testing Accuracy: 0.9400\n",
      "\n"
     ]
    },
    {
     "name": "stdout",
     "output_type": "stream",
     "text": [
      "Epoch 30, Loss 0.0678\n",
      "Training Accuracy: 0.9390, Testing Accuracy: 0.9491\n",
      "\n"
     ]
    },
    {
     "name": "stdout",
     "output_type": "stream",
     "text": [
      "Epoch 40, Loss 0.0611\n",
      "Training Accuracy: 0.9431, Testing Accuracy: 0.9526\n",
      "\n"
     ]
    },
    {
     "name": "stdout",
     "output_type": "stream",
     "text": [
      "Epoch 50, Loss 0.0567\n",
      "Training Accuracy: 0.9469, Testing Accuracy: 0.9567\n",
      "\n"
     ]
    },
    {
     "name": "stdout",
     "output_type": "stream",
     "text": [
      "Epoch 60, Loss 0.0534\n",
      "Training Accuracy: 0.9487, Testing Accuracy: 0.9587\n",
      "\n"
     ]
    },
    {
     "name": "stdout",
     "output_type": "stream",
     "text": [
      "Epoch 70, Loss 0.0508\n",
      "Training Accuracy: 0.9502, Testing Accuracy: 0.9597\n",
      "\n"
     ]
    },
    {
     "name": "stdout",
     "output_type": "stream",
     "text": [
      "Epoch 80, Loss 0.0488\n",
      "Training Accuracy: 0.9512, Testing Accuracy: 0.9612\n",
      "\n"
     ]
    },
    {
     "name": "stdout",
     "output_type": "stream",
     "text": [
      "Epoch 90, Loss 0.0472\n",
      "Training Accuracy: 0.9523, Testing Accuracy: 0.9622\n",
      "\n"
     ]
    },
    {
     "name": "stdout",
     "output_type": "stream",
     "text": [
      "Epoch 100, Loss 0.0458\n",
      "Training Accuracy: 0.9536, Testing Accuracy: 0.9617\n",
      "\n"
     ]
    },
    {
     "name": "stdout",
     "output_type": "stream",
     "text": [
      "Epoch 110, Loss 0.0446\n",
      "Training Accuracy: 0.9542, Testing Accuracy: 0.9622\n",
      "\n"
     ]
    },
    {
     "name": "stdout",
     "output_type": "stream",
     "text": [
      "Epoch 120, Loss 0.0435\n",
      "Training Accuracy: 0.9551, Testing Accuracy: 0.9627\n",
      "\n"
     ]
    },
    {
     "name": "stdout",
     "output_type": "stream",
     "text": [
      "Epoch 130, Loss 0.0426\n",
      "Training Accuracy: 0.9560, Testing Accuracy: 0.9632\n",
      "\n"
     ]
    },
    {
     "name": "stdout",
     "output_type": "stream",
     "text": [
      "Epoch 140, Loss 0.0418\n",
      "Training Accuracy: 0.9569, Testing Accuracy: 0.9637\n",
      "\n"
     ]
    },
    {
     "name": "stdout",
     "output_type": "stream",
     "text": [
      "Epoch 150, Loss 0.0411\n",
      "Training Accuracy: 0.9575, Testing Accuracy: 0.9637\n",
      "\n"
     ]
    },
    {
     "name": "stdout",
     "output_type": "stream",
     "text": [
      "Epoch 160, Loss 0.0404\n",
      "Training Accuracy: 0.9581, Testing Accuracy: 0.9652\n",
      "\n"
     ]
    },
    {
     "name": "stdout",
     "output_type": "stream",
     "text": [
      "Epoch 170, Loss 0.0398\n",
      "Training Accuracy: 0.9584, Testing Accuracy: 0.9652\n",
      "\n"
     ]
    },
    {
     "name": "stdout",
     "output_type": "stream",
     "text": [
      "Epoch 180, Loss 0.0393\n",
      "Training Accuracy: 0.9592, Testing Accuracy: 0.9657\n",
      "\n"
     ]
    },
    {
     "name": "stdout",
     "output_type": "stream",
     "text": [
      "Epoch 190, Loss 0.0388\n",
      "Training Accuracy: 0.9594, Testing Accuracy: 0.9657\n",
      "\n"
     ]
    },
    {
     "name": "stdout",
     "output_type": "stream",
     "text": [
      "Epoch 200, Loss 0.0383\n",
      "Training Accuracy: 0.9599, Testing Accuracy: 0.9662\n",
      "\n"
     ]
    },
    {
     "name": "stdout",
     "output_type": "stream",
     "text": [
      "Epoch 210, Loss 0.0379\n",
      "Training Accuracy: 0.9604, Testing Accuracy: 0.9667\n",
      "\n"
     ]
    },
    {
     "name": "stdout",
     "output_type": "stream",
     "text": [
      "Epoch 220, Loss 0.0375\n",
      "Training Accuracy: 0.9613, Testing Accuracy: 0.9667\n",
      "\n"
     ]
    },
    {
     "name": "stdout",
     "output_type": "stream",
     "text": [
      "Epoch 230, Loss 0.0371\n",
      "Training Accuracy: 0.9614, Testing Accuracy: 0.9682\n",
      "\n"
     ]
    },
    {
     "name": "stdout",
     "output_type": "stream",
     "text": [
      "Epoch 240, Loss 0.0367\n",
      "Training Accuracy: 0.9616, Testing Accuracy: 0.9677\n",
      "\n"
     ]
    },
    {
     "data": {
      "text/plain": [
       "0.0688724209079731"
      ]
     },
     "execution_count": 23,
     "metadata": {},
     "output_type": "execute_result"
    }
   ],
   "source": [
    "lr_learner.train_loop(dl)"
   ]
  },
  {
   "cell_type": "code",
   "execution_count": 24,
   "id": "ca410940",
   "metadata": {
    "execution": {
     "iopub.execute_input": "2022-06-04T20:10:29.641353Z",
     "iopub.status.busy": "2022-06-04T20:10:29.640768Z",
     "iopub.status.idle": "2022-06-04T20:10:29.869370Z",
     "shell.execute_reply": "2022-06-04T20:10:29.869808Z"
    },
    "papermill": {
     "duration": 0.284056,
     "end_time": "2022-06-04T20:10:29.869966",
     "exception": false,
     "start_time": "2022-06-04T20:10:29.585910",
     "status": "completed"
    },
    "tags": []
   },
   "outputs": [
    {
     "data": {
      "text/plain": [
       "<matplotlib.legend.Legend at 0x7fd6c1db9940>"
      ]
     },
     "execution_count": 24,
     "metadata": {},
     "output_type": "execute_result"
    },
    {
     "data": {
      "image/png": "[encoded data removed]",
      "text/plain": [
       "<Figure size 1080x720 with 1 Axes>"
      ]
     },
     "metadata": {
      "needs_background": "light"
     },
     "output_type": "display_data"
    }
   ],
   "source": [
    "#comparing the results of NN and LR\n",
    "plt.figure(figsize=(15,10))\n",
    "\n",
    "# Neural Network plots\n",
    "plt.plot(acc_nn.accuracies, 'r-', label = \"Training Accuracies - NN\")\n",
    "plt.plot(acc_nn.test_accuracies, 'g-', label = \"Testing Accuracies - NN\")\n",
    "\n",
    "# Logistic Regression plots\n",
    "plt.plot(acc_lr.accuracies, 'k-', label = \"Training Accuracies - LR\")\n",
    "plt.plot(acc_lr.test_accuracies, 'b-', label = \"Testing Accuracies - LR\")\n",
    "plt.legend()"
   ]
  },
  {
   "cell_type": "markdown",
   "id": "80dfb35c",
   "metadata": {
    "papermill": {
     "duration": 0.04241,
     "end_time": "2022-06-04T20:10:29.954881",
     "exception": false,
     "start_time": "2022-06-04T20:10:29.912471",
     "status": "completed"
    },
    "tags": []
   },
   "source": [
    "#### Plotting the outputs of this layer of the NN.\n"
   ]
  },
  {
   "cell_type": "code",
   "execution_count": 25,
   "id": "45eb2ff5",
   "metadata": {
    "execution": {
     "iopub.execute_input": "2022-06-04T20:10:30.042534Z",
     "iopub.status.busy": "2022-06-04T20:10:30.041948Z",
     "iopub.status.idle": "2022-06-04T20:10:30.062189Z",
     "shell.execute_reply": "2022-06-04T20:10:30.062916Z"
    },
    "papermill": {
     "duration": 0.066181,
     "end_time": "2022-06-04T20:10:30.063057",
     "exception": false,
     "start_time": "2022-06-04T20:10:29.996876",
     "status": "completed"
    },
    "tags": []
   },
   "outputs": [],
   "source": [
    "new_model = Model(layers[:-2])\n",
    "testing_plot = new_model(testing_data_x)"
   ]
  },
  {
   "cell_type": "code",
   "execution_count": 26,
   "id": "4c0a5485",
   "metadata": {
    "execution": {
     "iopub.execute_input": "2022-06-04T20:10:30.156816Z",
     "iopub.status.busy": "2022-06-04T20:10:30.150572Z",
     "iopub.status.idle": "2022-06-04T20:10:30.334754Z",
     "shell.execute_reply": "2022-06-04T20:10:30.334240Z"
    },
    "papermill": {
     "duration": 0.229482,
     "end_time": "2022-06-04T20:10:30.334882",
     "exception": false,
     "start_time": "2022-06-04T20:10:30.105400",
     "status": "completed"
    },
    "tags": []
   },
   "outputs": [
    {
     "data": {
      "text/plain": [
       "Text(0.5, 1.0, 'Outputs')"
      ]
     },
     "execution_count": 26,
     "metadata": {},
     "output_type": "execute_result"
    },
    {
     "data": {
      "image/png": "[encoded data removed]",
      "text/plain": [
       "<Figure size 576x504 with 1 Axes>"
      ]
     },
     "metadata": {
      "needs_background": "light"
     },
     "output_type": "display_data"
    }
   ],
   "source": [
    "# Plotting the scatter plot of points and color coding by class\n",
    "plt.figure(figsize=(8,7))\n",
    "plt.scatter(testing_plot[:,0], testing_plot[:,1], alpha = 0.1, c = y_test.ravel());\n",
    "plt.title('Outputs')"
   ]
  },
  {
   "cell_type": "markdown",
   "id": "a74fcf8f",
   "metadata": {
    "papermill": {
     "duration": 0.044445,
     "end_time": "2022-06-04T20:10:30.430495",
     "exception": false,
     "start_time": "2022-06-04T20:10:30.386050",
     "status": "completed"
    },
    "tags": []
   },
   "source": [
    "Probability contours"
   ]
  },
  {
   "cell_type": "code",
   "execution_count": 27,
   "id": "d0afc8e3",
   "metadata": {
    "execution": {
     "iopub.execute_input": "2022-06-04T20:10:30.523241Z",
     "iopub.status.busy": "2022-06-04T20:10:30.522642Z",
     "iopub.status.idle": "2022-06-04T20:10:30.535893Z",
     "shell.execute_reply": "2022-06-04T20:10:30.535421Z"
    },
    "papermill": {
     "duration": 0.061125,
     "end_time": "2022-06-04T20:10:30.536019",
     "exception": false,
     "start_time": "2022-06-04T20:10:30.474894",
     "status": "completed"
    },
    "tags": []
   },
   "outputs": [],
   "source": [
    "model_prob = Model(layers[-2:]) "
   ]
  },
  {
   "cell_type": "code",
   "execution_count": 28,
   "id": "9b96e238",
   "metadata": {
    "execution": {
     "iopub.execute_input": "2022-06-04T20:10:30.629023Z",
     "iopub.status.busy": "2022-06-04T20:10:30.628434Z",
     "iopub.status.idle": "2022-06-04T20:10:30.641432Z",
     "shell.execute_reply": "2022-06-04T20:10:30.641856Z"
    },
    "papermill": {
     "duration": 0.06164,
     "end_time": "2022-06-04T20:10:30.641980",
     "exception": false,
     "start_time": "2022-06-04T20:10:30.580340",
     "status": "completed"
    },
    "tags": []
   },
   "outputs": [],
   "source": [
    "#creating the x and y ranges according to the above generated plot.\n",
    "x_range = np.linspace(-4, 1, 100) \n",
    "y_range = np.linspace(-6, 6, 100) \n",
    "x_grid, y_grid = np.meshgrid(x_range, y_range) # x_grid and y_grig are of size 100 X 100\n",
    "\n",
    "# converting x_grid and y_grid to continuous arrays\n",
    "x_gridflat = np.ravel(x_grid)\n",
    "y_gridflat = np.ravel(y_grid)\n",
    "\n",
    "# The last layer of the current model takes two columns as input. Hence transpose of np.vstack() is required.\n",
    "X = np.vstack((x_gridflat, y_gridflat)).T\n",
    "\n",
    "prob_contour = model_prob(X).reshape(100,100) "
   ]
  },
  {
   "cell_type": "code",
   "execution_count": 29,
   "id": "da72499a",
   "metadata": {
    "execution": {
     "iopub.execute_input": "2022-06-04T20:10:30.764159Z",
     "iopub.status.busy": "2022-06-04T20:10:30.763471Z",
     "iopub.status.idle": "2022-06-04T20:10:31.011501Z",
     "shell.execute_reply": "2022-06-04T20:10:31.010415Z"
    },
    "papermill": {
     "duration": 0.296857,
     "end_time": "2022-06-04T20:10:31.011626",
     "exception": false,
     "start_time": "2022-06-04T20:10:30.714769",
     "status": "completed"
    },
    "tags": []
   },
   "outputs": [
    {
     "data": {
      "image/png": "[encoded data removed]",
      "text/plain": [
       "<Figure size 720x648 with 1 Axes>"
      ]
     },
     "metadata": {
      "needs_background": "light"
     },
     "output_type": "display_data"
    }
   ],
   "source": [
    "plt.figure(figsize=(10,9))\n",
    "plt.scatter(testing_plot[:,0], testing_plot[:,1], alpha = 0.1, c = y_test.ravel())\n",
    "contours = plt.contour(x_grid,y_grid,prob_contour)\n",
    "plt.title('Probability Contours')\n",
    "plt.clabel(contours, inline = True );"
   ]
  },
  {
   "cell_type": "code",
   "execution_count": null,
   "id": "e81b4ac7",
   "metadata": {
    "papermill": {
     "duration": 0.047554,
     "end_time": "2022-06-04T20:10:31.107161",
     "exception": false,
     "start_time": "2022-06-04T20:10:31.059607",
     "status": "completed"
    },
    "tags": []
   },
   "outputs": [],
   "source": []
  }
 ],
 "metadata": {
  "kernelspec": {
   "display_name": "Python 3",
   "language": "python",
   "name": "python3"
  },
  "language_info": {
   "codemirror_mode": {
    "name": "ipython",
    "version": 3
   },
   "file_extension": ".py",
   "mimetype": "text/x-python",
   "name": "python",
   "nbconvert_exporter": "python",
   "pygments_lexer": "ipython3",
   "version": "3.6.15"
  },
  "papermill": {
   "default_parameters": {},
   "duration": 95.930961,
   "end_time": "2022-06-04T20:10:31.572903",
   "environment_variables": {},
   "exception": null,
   "input_path": "2020-08-11-part2.ipynb",
   "output_path": "2020-08-11-part2.ipynb",
   "parameters": {},
   "start_time": "2022-06-04T20:08:55.641942",
   "version": "2.3.3"
  }
 },
 "nbformat": 4,
 "nbformat_minor": 5
}