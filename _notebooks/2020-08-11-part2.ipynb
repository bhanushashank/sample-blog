{
 "cells": [
  {
   "cell_type": "markdown",
   "id": "98380cd3",
   "metadata": {
    "papermill": {
     "duration": 0.029684,
     "end_time": "2022-04-28T10:09:52.903731",
     "exception": false,
     "start_time": "2022-04-28T10:09:52.874047",
     "status": "completed"
    },
    "tags": []
   },
   "source": [
    "# Distinguish Your Own Digits (DYOD)"
   ]
  },
  {
   "cell_type": "markdown",
   "id": "ef31240d",
   "metadata": {
    "papermill": {
     "duration": 0.025529,
     "end_time": "2022-04-28T10:09:52.953934",
     "exception": false,
     "start_time": "2022-04-28T10:09:52.928405",
     "status": "completed"
    },
    "tags": []
   },
   "source": [
    "You are going to write a classifier that distinguishes between the number 3 and number 8."
   ]
  },
  {
   "cell_type": "code",
   "execution_count": 1,
   "id": "b15c8646",
   "metadata": {
    "execution": {
     "iopub.execute_input": "2022-04-28T10:09:53.011984Z",
     "iopub.status.busy": "2022-04-28T10:09:53.011418Z",
     "iopub.status.idle": "2022-04-28T10:09:53.021667Z",
     "shell.execute_reply": "2022-04-28T10:09:53.022164Z"
    },
    "papermill": {
     "duration": 0.044499,
     "end_time": "2022-04-28T10:09:53.022311",
     "exception": false,
     "start_time": "2022-04-28T10:09:52.977812",
     "status": "completed"
    },
    "tags": []
   },
   "outputs": [],
   "source": [
    "%load_ext autoreload\n",
    "%autoreload 2"
   ]
  },
  {
   "cell_type": "code",
   "execution_count": 2,
   "id": "22ef38dc",
   "metadata": {
    "execution": {
     "iopub.execute_input": "2022-04-28T10:09:53.075874Z",
     "iopub.status.busy": "2022-04-28T10:09:53.075348Z",
     "iopub.status.idle": "2022-04-28T10:09:53.611121Z",
     "shell.execute_reply": "2022-04-28T10:09:53.610579Z"
    },
    "papermill": {
     "duration": 0.565066,
     "end_time": "2022-04-28T10:09:53.611297",
     "exception": false,
     "start_time": "2022-04-28T10:09:53.046231",
     "status": "completed"
    },
    "tags": []
   },
   "outputs": [],
   "source": [
    "%matplotlib inline\n",
    "import numpy as np\n",
    "import matplotlib.pyplot as plt\n",
    "import pandas as pd"
   ]
  },
  {
   "cell_type": "markdown",
   "id": "ba036198",
   "metadata": {
    "papermill": {
     "duration": 0.023959,
     "end_time": "2022-04-28T10:09:53.659599",
     "exception": false,
     "start_time": "2022-04-28T10:09:53.635640",
     "status": "completed"
    },
    "tags": []
   },
   "source": [
    "From the command line run `pip install mnist`. This is a library that will help you bring down the mnist dataset. If you run this from a notebook, you need to put  `!pip install mnist` in a cell by itself."
   ]
  },
  {
   "cell_type": "code",
   "execution_count": 3,
   "id": "bb6ad8a1",
   "metadata": {
    "execution": {
     "iopub.execute_input": "2022-04-28T10:09:53.713086Z",
     "iopub.status.busy": "2022-04-28T10:09:53.712533Z",
     "iopub.status.idle": "2022-04-28T10:09:56.207511Z",
     "shell.execute_reply": "2022-04-28T10:09:56.206192Z"
    },
    "papermill": {
     "duration": 2.524095,
     "end_time": "2022-04-28T10:09:56.207653",
     "exception": false,
     "start_time": "2022-04-28T10:09:53.683558",
     "status": "completed"
    },
    "tags": []
   },
   "outputs": [
    {
     "name": "stdout",
     "output_type": "stream",
     "text": [
      "Collecting mnist\r\n"
     ]
    },
    {
     "name": "stdout",
     "output_type": "stream",
     "text": [
      "  Downloading mnist-0.2.2-py2.py3-none-any.whl (3.5 kB)\r\n",
      "Requirement already satisfied: numpy in /opt/hostedtoolcache/Python/3.6.15/x64/lib/python3.6/site-packages (from mnist) (1.19.5)\r\n"
     ]
    },
    {
     "name": "stdout",
     "output_type": "stream",
     "text": [
      "Installing collected packages: mnist\r\n"
     ]
    },
    {
     "name": "stdout",
     "output_type": "stream",
     "text": [
      "Successfully installed mnist-0.2.2\r\n"
     ]
    }
   ],
   "source": [
    "!pip install mnist"
   ]
  },
  {
   "cell_type": "markdown",
   "id": "69df9c9a",
   "metadata": {
    "papermill": {
     "duration": 0.02521,
     "end_time": "2022-04-28T10:09:56.258541",
     "exception": false,
     "start_time": "2022-04-28T10:09:56.233331",
     "status": "completed"
    },
    "tags": []
   },
   "source": [
    "## Preparing the Data"
   ]
  },
  {
   "cell_type": "code",
   "execution_count": 4,
   "id": "7f69d806",
   "metadata": {
    "execution": {
     "iopub.execute_input": "2022-04-28T10:09:56.328697Z",
     "iopub.status.busy": "2022-04-28T10:09:56.327600Z",
     "iopub.status.idle": "2022-04-28T10:09:56.330532Z",
     "shell.execute_reply": "2022-04-28T10:09:56.330918Z"
    },
    "papermill": {
     "duration": 0.047623,
     "end_time": "2022-04-28T10:09:56.331055",
     "exception": false,
     "start_time": "2022-04-28T10:09:56.283432",
     "status": "completed"
    },
    "tags": []
   },
   "outputs": [],
   "source": [
    "import mnist"
   ]
  },
  {
   "cell_type": "code",
   "execution_count": 5,
   "id": "a411e44f",
   "metadata": {
    "execution": {
     "iopub.execute_input": "2022-04-28T10:09:56.398137Z",
     "iopub.status.busy": "2022-04-28T10:09:56.383887Z",
     "iopub.status.idle": "2022-04-28T10:09:56.993791Z",
     "shell.execute_reply": "2022-04-28T10:09:56.993259Z"
    },
    "papermill": {
     "duration": 0.637957,
     "end_time": "2022-04-28T10:09:56.993937",
     "exception": false,
     "start_time": "2022-04-28T10:09:56.355980",
     "status": "completed"
    },
    "tags": []
   },
   "outputs": [],
   "source": [
    "train_images = mnist.train_images()\n",
    "train_labels = mnist.train_labels()"
   ]
  },
  {
   "cell_type": "code",
   "execution_count": 6,
   "id": "dceab3a5",
   "metadata": {
    "execution": {
     "iopub.execute_input": "2022-04-28T10:09:57.055020Z",
     "iopub.status.busy": "2022-04-28T10:09:57.048962Z",
     "iopub.status.idle": "2022-04-28T10:09:57.064378Z",
     "shell.execute_reply": "2022-04-28T10:09:57.063942Z"
    },
    "papermill": {
     "duration": 0.04337,
     "end_time": "2022-04-28T10:09:57.064484",
     "exception": false,
     "start_time": "2022-04-28T10:09:57.021114",
     "status": "completed"
    },
    "tags": []
   },
   "outputs": [
    {
     "data": {
      "text/plain": [
       "((60000, 28, 28), (60000,))"
      ]
     },
     "execution_count": 6,
     "metadata": {},
     "output_type": "execute_result"
    }
   ],
   "source": [
    "train_images.shape, train_labels.shape"
   ]
  },
  {
   "cell_type": "code",
   "execution_count": 7,
   "id": "f50dc2bb",
   "metadata": {
    "execution": {
     "iopub.execute_input": "2022-04-28T10:09:57.122981Z",
     "iopub.status.busy": "2022-04-28T10:09:57.122476Z",
     "iopub.status.idle": "2022-04-28T10:09:57.287258Z",
     "shell.execute_reply": "2022-04-28T10:09:57.286721Z"
    },
    "papermill": {
     "duration": 0.197797,
     "end_time": "2022-04-28T10:09:57.287399",
     "exception": false,
     "start_time": "2022-04-28T10:09:57.089602",
     "status": "completed"
    },
    "tags": []
   },
   "outputs": [],
   "source": [
    "test_images = mnist.test_images()\n",
    "test_labels = mnist.test_labels()"
   ]
  },
  {
   "cell_type": "code",
   "execution_count": 8,
   "id": "fc38cf1b",
   "metadata": {
    "execution": {
     "iopub.execute_input": "2022-04-28T10:09:57.341834Z",
     "iopub.status.busy": "2022-04-28T10:09:57.341318Z",
     "iopub.status.idle": "2022-04-28T10:09:57.354867Z",
     "shell.execute_reply": "2022-04-28T10:09:57.354424Z"
    },
    "papermill": {
     "duration": 0.041955,
     "end_time": "2022-04-28T10:09:57.354975",
     "exception": false,
     "start_time": "2022-04-28T10:09:57.313020",
     "status": "completed"
    },
    "tags": []
   },
   "outputs": [
    {
     "data": {
      "text/plain": [
       "((10000, 28, 28), (10000,))"
      ]
     },
     "execution_count": 8,
     "metadata": {},
     "output_type": "execute_result"
    }
   ],
   "source": [
    "test_images.shape, test_labels.shape"
   ]
  },
  {
   "cell_type": "code",
   "execution_count": 9,
   "id": "f9ed8fe0",
   "metadata": {
    "execution": {
     "iopub.execute_input": "2022-04-28T10:09:57.412461Z",
     "iopub.status.busy": "2022-04-28T10:09:57.411950Z",
     "iopub.status.idle": "2022-04-28T10:09:57.554040Z",
     "shell.execute_reply": "2022-04-28T10:09:57.553549Z"
    },
    "papermill": {
     "duration": 0.173552,
     "end_time": "2022-04-28T10:09:57.554179",
     "exception": false,
     "start_time": "2022-04-28T10:09:57.380627",
     "status": "completed"
    },
    "tags": []
   },
   "outputs": [
    {
     "name": "stdout",
     "output_type": "stream",
     "text": [
      "2\n"
     ]
    },
    {
     "data": {
      "text/plain": [
       "<matplotlib.image.AxesImage at 0x7f07504c3898>"
      ]
     },
     "execution_count": 9,
     "metadata": {},
     "output_type": "execute_result"
    },
    {
     "data": {
      "image/png": "[encoded data removed]",
      "text/plain": [
       "<Figure size 432x288 with 1 Axes>"
      ]
     },
     "metadata": {
      "needs_background": "light"
     },
     "output_type": "display_data"
    }
   ],
   "source": [
    "image_index = 7776 # You may select anything up to 60,000\n",
    "print(train_labels[image_index]) \n",
    "plt.imshow(train_images[image_index], cmap='Greys')"
   ]
  },
  {
   "cell_type": "markdown",
   "id": "a8d2388d",
   "metadata": {
    "papermill": {
     "duration": 0.033871,
     "end_time": "2022-04-28T10:09:57.615553",
     "exception": false,
     "start_time": "2022-04-28T10:09:57.581682",
     "status": "completed"
    },
    "tags": []
   },
   "source": [
    "## Filter data to get 3 and 8 out"
   ]
  },
  {
   "cell_type": "code",
   "execution_count": 10,
   "id": "776f7fc7",
   "metadata": {
    "execution": {
     "iopub.execute_input": "2022-04-28T10:09:57.673128Z",
     "iopub.status.busy": "2022-04-28T10:09:57.672599Z",
     "iopub.status.idle": "2022-04-28T10:09:57.692716Z",
     "shell.execute_reply": "2022-04-28T10:09:57.693158Z"
    },
    "papermill": {
     "duration": 0.051047,
     "end_time": "2022-04-28T10:09:57.693310",
     "exception": false,
     "start_time": "2022-04-28T10:09:57.642263",
     "status": "completed"
    },
    "tags": []
   },
   "outputs": [],
   "source": [
    "train_filter = np.where((train_labels == 3 ) | (train_labels == 8))\n",
    "test_filter = np.where((test_labels == 3) | (test_labels == 8))\n",
    "X_train, y_train = train_images[train_filter], train_labels[train_filter]\n",
    "X_test, y_test = test_images[test_filter], test_labels[test_filter]"
   ]
  },
  {
   "cell_type": "markdown",
   "id": "948f0b7e",
   "metadata": {
    "papermill": {
     "duration": 0.026705,
     "end_time": "2022-04-28T10:09:57.752324",
     "exception": false,
     "start_time": "2022-04-28T10:09:57.725619",
     "status": "completed"
    },
    "tags": []
   },
   "source": [
    "We normalize the pizel values in the 0 to 1 range"
   ]
  },
  {
   "cell_type": "code",
   "execution_count": 11,
   "id": "ee4c2166",
   "metadata": {
    "execution": {
     "iopub.execute_input": "2022-04-28T10:09:57.825508Z",
     "iopub.status.busy": "2022-04-28T10:09:57.824673Z",
     "iopub.status.idle": "2022-04-28T10:09:57.863566Z",
     "shell.execute_reply": "2022-04-28T10:09:57.862754Z"
    },
    "papermill": {
     "duration": 0.084901,
     "end_time": "2022-04-28T10:09:57.863703",
     "exception": false,
     "start_time": "2022-04-28T10:09:57.778802",
     "status": "completed"
    },
    "tags": []
   },
   "outputs": [],
   "source": [
    "X_train = X_train/255.\n",
    "X_test = X_test/255."
   ]
  },
  {
   "cell_type": "markdown",
   "id": "ddcf4fab",
   "metadata": {
    "papermill": {
     "duration": 0.026608,
     "end_time": "2022-04-28T10:09:57.917259",
     "exception": false,
     "start_time": "2022-04-28T10:09:57.890651",
     "status": "completed"
    },
    "tags": []
   },
   "source": [
    "And setup the labels as 1 (when the digit is 3) and 0 (when the digit is 8)"
   ]
  },
  {
   "cell_type": "code",
   "execution_count": 12,
   "id": "7dc908f2",
   "metadata": {
    "execution": {
     "iopub.execute_input": "2022-04-28T10:09:57.976410Z",
     "iopub.status.busy": "2022-04-28T10:09:57.975891Z",
     "iopub.status.idle": "2022-04-28T10:09:57.986351Z",
     "shell.execute_reply": "2022-04-28T10:09:57.986784Z"
    },
    "papermill": {
     "duration": 0.04324,
     "end_time": "2022-04-28T10:09:57.986913",
     "exception": false,
     "start_time": "2022-04-28T10:09:57.943673",
     "status": "completed"
    },
    "tags": []
   },
   "outputs": [],
   "source": [
    "y_train = 1*(y_train==3)\n",
    "y_test = 1*(y_test==3)"
   ]
  },
  {
   "cell_type": "code",
   "execution_count": 13,
   "id": "01e4e969",
   "metadata": {
    "execution": {
     "iopub.execute_input": "2022-04-28T10:09:58.048492Z",
     "iopub.status.busy": "2022-04-28T10:09:58.047988Z",
     "iopub.status.idle": "2022-04-28T10:09:58.057679Z",
     "shell.execute_reply": "2022-04-28T10:09:58.057271Z"
    },
    "papermill": {
     "duration": 0.044482,
     "end_time": "2022-04-28T10:09:58.057785",
     "exception": false,
     "start_time": "2022-04-28T10:09:58.013303",
     "status": "completed"
    },
    "tags": []
   },
   "outputs": [
    {
     "data": {
      "text/plain": [
       "((11982, 28, 28), (1984, 28, 28))"
      ]
     },
     "execution_count": 13,
     "metadata": {},
     "output_type": "execute_result"
    }
   ],
   "source": [
    "X_train.shape, X_test.shape"
   ]
  },
  {
   "cell_type": "markdown",
   "id": "5ccf3f85",
   "metadata": {
    "papermill": {
     "duration": 0.026581,
     "end_time": "2022-04-28T10:09:58.110991",
     "exception": false,
     "start_time": "2022-04-28T10:09:58.084410",
     "status": "completed"
    },
    "tags": []
   },
   "source": [
    "We reshape the data to flatten the image pixels into a set of features or co-variates:"
   ]
  },
  {
   "cell_type": "code",
   "execution_count": 14,
   "id": "5286a4a3",
   "metadata": {
    "execution": {
     "iopub.execute_input": "2022-04-28T10:09:58.180011Z",
     "iopub.status.busy": "2022-04-28T10:09:58.179473Z",
     "iopub.status.idle": "2022-04-28T10:09:58.187741Z",
     "shell.execute_reply": "2022-04-28T10:09:58.187282Z"
    },
    "papermill": {
     "duration": 0.05,
     "end_time": "2022-04-28T10:09:58.187853",
     "exception": false,
     "start_time": "2022-04-28T10:09:58.137853",
     "status": "completed"
    },
    "tags": []
   },
   "outputs": [
    {
     "data": {
      "text/plain": [
       "((11982, 784), (1984, 784))"
      ]
     },
     "execution_count": 14,
     "metadata": {},
     "output_type": "execute_result"
    }
   ],
   "source": [
    "X_train = X_train.reshape(X_train.shape[0], -1)\n",
    "X_test = X_test.reshape(X_test.shape[0], -1)\n",
    "X_train.shape, X_test.shape"
   ]
  },
  {
   "cell_type": "code",
   "execution_count": 15,
   "id": "73c5f88a",
   "metadata": {
    "execution": {
     "iopub.execute_input": "2022-04-28T10:09:58.246054Z",
     "iopub.status.busy": "2022-04-28T10:09:58.245547Z",
     "iopub.status.idle": "2022-04-28T10:09:58.264503Z",
     "shell.execute_reply": "2022-04-28T10:09:58.264911Z"
    },
    "papermill": {
     "duration": 0.050037,
     "end_time": "2022-04-28T10:09:58.265036",
     "exception": false,
     "start_time": "2022-04-28T10:09:58.214999",
     "status": "completed"
    },
    "tags": []
   },
   "outputs": [],
   "source": [
    "#Impoting functions from 'Kudzu'\n",
    "from kudzu.model import Model\n",
    "from kudzu.train import Learner\n",
    "from kudzu.optim import GD\n",
    "from kudzu.data import Data, Sampler,Dataloader\n",
    "\n",
    "from kudzu.callbacks import AccCallback\n",
    "from kudzu.callbacks import ClfCallback\n",
    "\n",
    "from kudzu.loss import MSE\n",
    "\n",
    "from kudzu.layer import Sigmoid,Relu\n",
    "from kudzu.layer import Affine"
   ]
  },
  {
   "cell_type": "markdown",
   "id": "bc01172a",
   "metadata": {
    "papermill": {
     "duration": 0.026927,
     "end_time": "2022-04-28T10:09:58.319073",
     "exception": false,
     "start_time": "2022-04-28T10:09:58.292146",
     "status": "completed"
    },
    "tags": []
   },
   "source": [
    "### Let us create a `Config` class, to store important parameters. \n",
    "This class essentially plays the role of a dictionary."
   ]
  },
  {
   "cell_type": "code",
   "execution_count": 16,
   "id": "978281aa",
   "metadata": {
    "execution": {
     "iopub.execute_input": "2022-04-28T10:09:58.380457Z",
     "iopub.status.busy": "2022-04-28T10:09:58.379945Z",
     "iopub.status.idle": "2022-04-28T10:09:58.390465Z",
     "shell.execute_reply": "2022-04-28T10:09:58.390054Z"
    },
    "papermill": {
     "duration": 0.044683,
     "end_time": "2022-04-28T10:09:58.390573",
     "exception": false,
     "start_time": "2022-04-28T10:09:58.345890",
     "status": "completed"
    },
    "tags": []
   },
   "outputs": [],
   "source": [
    "class Config:\n",
    "    pass\n",
    "config = Config()\n",
    "config.lr = 0.001\n",
    "config.num_epochs = 250\n",
    "config.bs = 50"
   ]
  },
  {
   "cell_type": "markdown",
   "id": "1385fa59",
   "metadata": {
    "papermill": {
     "duration": 0.02697,
     "end_time": "2022-04-28T10:09:58.444720",
     "exception": false,
     "start_time": "2022-04-28T10:09:58.417750",
     "status": "completed"
    },
    "tags": []
   },
   "source": [
    "### Running Models with the Training data\n",
    "Details about the network layers:\n",
    "- A first affine layer has 784 inputs and does 100 affine transforms. These are followed by a Relu\n",
    "- A second affine layer has 100 inputs from the 100 activations of the past layer, and does 100 affine transforms. These are followed by a Relu\n",
    "- A third affine layer has 100 activations and does 2 affine transformations to create an embedding for visualization. There is no non-linearity here.\n",
    "- A final \"logistic regression\" which has an affine transform from 2 inputs to 1 output, which is squeezed through a sigmoid.\n"
   ]
  },
  {
   "cell_type": "code",
   "execution_count": 17,
   "id": "2b9c66db",
   "metadata": {
    "execution": {
     "iopub.execute_input": "2022-04-28T10:09:58.508450Z",
     "iopub.status.busy": "2022-04-28T10:09:58.507933Z",
     "iopub.status.idle": "2022-04-28T10:09:58.516593Z",
     "shell.execute_reply": "2022-04-28T10:09:58.517005Z"
    },
    "papermill": {
     "duration": 0.045363,
     "end_time": "2022-04-28T10:09:58.517126",
     "exception": false,
     "start_time": "2022-04-28T10:09:58.471763",
     "status": "completed"
    },
    "tags": []
   },
   "outputs": [],
   "source": [
    "data = Data(X_train, y_train.reshape(-1,1))\n",
    "sampler = Sampler(data, config.bs, shuffle=True)\n",
    "\n",
    "dl = Dataloader(data, sampler)\n",
    "\n",
    "opt = GD(config.lr)\n",
    "loss = MSE()"
   ]
  },
  {
   "cell_type": "code",
   "execution_count": 18,
   "id": "b275e4c2",
   "metadata": {
    "execution": {
     "iopub.execute_input": "2022-04-28T10:09:58.587619Z",
     "iopub.status.busy": "2022-04-28T10:09:58.584009Z",
     "iopub.status.idle": "2022-04-28T10:09:58.589494Z",
     "shell.execute_reply": "2022-04-28T10:09:58.589879Z"
    },
    "papermill": {
     "duration": 0.045852,
     "end_time": "2022-04-28T10:09:58.590004",
     "exception": false,
     "start_time": "2022-04-28T10:09:58.544152",
     "status": "completed"
    },
    "tags": []
   },
   "outputs": [],
   "source": [
    "training_data_x = X_train\n",
    "testing_data_x = X_test\n",
    "training_data_y = y_train.reshape(-1,1)\n",
    "testing_data_y = y_test.reshape(-1,1)"
   ]
  },
  {
   "cell_type": "code",
   "execution_count": 19,
   "id": "76951160",
   "metadata": {
    "execution": {
     "iopub.execute_input": "2022-04-28T10:09:58.647783Z",
     "iopub.status.busy": "2022-04-28T10:09:58.647255Z",
     "iopub.status.idle": "2022-04-28T10:09:58.663315Z",
     "shell.execute_reply": "2022-04-28T10:09:58.663706Z"
    },
    "papermill": {
     "duration": 0.046886,
     "end_time": "2022-04-28T10:09:58.663830",
     "exception": false,
     "start_time": "2022-04-28T10:09:58.616944",
     "status": "completed"
    },
    "tags": []
   },
   "outputs": [
    {
     "name": "stdout",
     "output_type": "stream",
     "text": [
      "xavier\n",
      "xavier\n",
      "xavier\n",
      "xavier\n",
      "xavier\n"
     ]
    }
   ],
   "source": [
    "layers = [Affine(\"first\", 784, 100), Relu(\"first\"), Affine(\"second\", 100, 100), Relu(\"second\"), Affine(\"third\", 100, 2), Affine(\"last\", 2, 1), Sigmoid(\"last\")]\n",
    "model_nn = Model(layers)\n",
    "model_lr = Model([Affine(\"logits\", 784, 1), Sigmoid(\"sigmoid\")])"
   ]
  },
  {
   "cell_type": "code",
   "execution_count": 20,
   "id": "6eede77a",
   "metadata": {
    "execution": {
     "iopub.execute_input": "2022-04-28T10:09:58.725022Z",
     "iopub.status.busy": "2022-04-28T10:09:58.724462Z",
     "iopub.status.idle": "2022-04-28T10:09:58.735869Z",
     "shell.execute_reply": "2022-04-28T10:09:58.736260Z"
    },
    "papermill": {
     "duration": 0.045272,
     "end_time": "2022-04-28T10:09:58.736402",
     "exception": false,
     "start_time": "2022-04-28T10:09:58.691130",
     "status": "completed"
    },
    "tags": []
   },
   "outputs": [],
   "source": [
    "nn_learner = Learner(loss, model_nn, opt, config.num_epochs)\n",
    "acc_nn = ClfCallback(nn_learner, config.bs, training_data_x , testing_data_x, training_data_y, testing_data_y)\n",
    "nn_learner.set_callbacks([acc_nn])"
   ]
  },
  {
   "cell_type": "code",
   "execution_count": 21,
   "id": "877b6cc7",
   "metadata": {
    "execution": {
     "iopub.execute_input": "2022-04-28T10:09:58.798752Z",
     "iopub.status.busy": "2022-04-28T10:09:58.798241Z",
     "iopub.status.idle": "2022-04-28T10:09:58.807989Z",
     "shell.execute_reply": "2022-04-28T10:09:58.808427Z"
    },
    "papermill": {
     "duration": 0.044575,
     "end_time": "2022-04-28T10:09:58.808565",
     "exception": false,
     "start_time": "2022-04-28T10:09:58.763990",
     "status": "completed"
    },
    "tags": []
   },
   "outputs": [],
   "source": [
    "lr_learner = Learner(loss, model_lr, opt, config.num_epochs)\n",
    "acc_lr = ClfCallback(lr_learner, config.bs, training_data_x , testing_data_x, training_data_y, testing_data_y)\n",
    "lr_learner.set_callbacks([acc_lr])"
   ]
  },
  {
   "cell_type": "code",
   "execution_count": 22,
   "id": "d9b133c3",
   "metadata": {
    "execution": {
     "iopub.execute_input": "2022-04-28T10:09:58.874920Z",
     "iopub.status.busy": "2022-04-28T10:09:58.874406Z",
     "iopub.status.idle": "2022-04-28T10:11:15.161268Z",
     "shell.execute_reply": "2022-04-28T10:11:15.162003Z"
    },
    "papermill": {
     "duration": 76.326059,
     "end_time": "2022-04-28T10:11:15.162168",
     "exception": false,
     "start_time": "2022-04-28T10:09:58.836109",
     "status": "completed"
    },
    "tags": []
   },
   "outputs": [
    {
     "name": "stdout",
     "output_type": "stream",
     "text": [
      "Epoch 0, Loss 0.2454\n",
      "Training Accuracy: 0.7147, Testing Accuracy: 0.7278\n",
      "\n"
     ]
    },
    {
     "name": "stdout",
     "output_type": "stream",
     "text": [
      "Epoch 10, Loss 0.0732\n",
      "Training Accuracy: 0.9274, Testing Accuracy: 0.9325\n",
      "\n"
     ]
    },
    {
     "name": "stdout",
     "output_type": "stream",
     "text": [
      "Epoch 20, Loss 0.0486\n",
      "Training Accuracy: 0.9483, Testing Accuracy: 0.9526\n",
      "\n"
     ]
    },
    {
     "name": "stdout",
     "output_type": "stream",
     "text": [
      "Epoch 30, Loss 0.0395\n",
      "Training Accuracy: 0.9569, Testing Accuracy: 0.9572\n",
      "\n"
     ]
    },
    {
     "name": "stdout",
     "output_type": "stream",
     "text": [
      "Epoch 40, Loss 0.0347\n",
      "Training Accuracy: 0.9615, Testing Accuracy: 0.9667\n",
      "\n"
     ]
    },
    {
     "name": "stdout",
     "output_type": "stream",
     "text": [
      "Epoch 50, Loss 0.0316\n",
      "Training Accuracy: 0.9650, Testing Accuracy: 0.9688\n",
      "\n"
     ]
    },
    {
     "name": "stdout",
     "output_type": "stream",
     "text": [
      "Epoch 60, Loss 0.0294\n",
      "Training Accuracy: 0.9666, Testing Accuracy: 0.9698\n",
      "\n"
     ]
    },
    {
     "name": "stdout",
     "output_type": "stream",
     "text": [
      "Epoch 70, Loss 0.0277\n",
      "Training Accuracy: 0.9688, Testing Accuracy: 0.9718\n",
      "\n"
     ]
    },
    {
     "name": "stdout",
     "output_type": "stream",
     "text": [
      "Epoch 80, Loss 0.0263\n",
      "Training Accuracy: 0.9697, Testing Accuracy: 0.9718\n",
      "\n"
     ]
    },
    {
     "name": "stdout",
     "output_type": "stream",
     "text": [
      "Epoch 90, Loss 0.0252\n",
      "Training Accuracy: 0.9709, Testing Accuracy: 0.9728\n",
      "\n"
     ]
    },
    {
     "name": "stdout",
     "output_type": "stream",
     "text": [
      "Epoch 100, Loss 0.0242\n",
      "Training Accuracy: 0.9722, Testing Accuracy: 0.9728\n",
      "\n"
     ]
    },
    {
     "name": "stdout",
     "output_type": "stream",
     "text": [
      "Epoch 110, Loss 0.0233\n",
      "Training Accuracy: 0.9730, Testing Accuracy: 0.9743\n",
      "\n"
     ]
    },
    {
     "name": "stdout",
     "output_type": "stream",
     "text": [
      "Epoch 120, Loss 0.0225\n",
      "Training Accuracy: 0.9743, Testing Accuracy: 0.9753\n",
      "\n"
     ]
    },
    {
     "name": "stdout",
     "output_type": "stream",
     "text": [
      "Epoch 130, Loss 0.0218\n",
      "Training Accuracy: 0.9746, Testing Accuracy: 0.9763\n",
      "\n"
     ]
    },
    {
     "name": "stdout",
     "output_type": "stream",
     "text": [
      "Epoch 140, Loss 0.0212\n",
      "Training Accuracy: 0.9755, Testing Accuracy: 0.9758\n",
      "\n"
     ]
    },
    {
     "name": "stdout",
     "output_type": "stream",
     "text": [
      "Epoch 150, Loss 0.0206\n",
      "Training Accuracy: 0.9760, Testing Accuracy: 0.9758\n",
      "\n"
     ]
    },
    {
     "name": "stdout",
     "output_type": "stream",
     "text": [
      "Epoch 160, Loss 0.02\n",
      "Training Accuracy: 0.9775, Testing Accuracy: 0.9753\n",
      "\n"
     ]
    },
    {
     "name": "stdout",
     "output_type": "stream",
     "text": [
      "Epoch 170, Loss 0.0195\n",
      "Training Accuracy: 0.9783, Testing Accuracy: 0.9758\n",
      "\n"
     ]
    },
    {
     "name": "stdout",
     "output_type": "stream",
     "text": [
      "Epoch 180, Loss 0.019\n",
      "Training Accuracy: 0.9789, Testing Accuracy: 0.9758\n",
      "\n"
     ]
    },
    {
     "name": "stdout",
     "output_type": "stream",
     "text": [
      "Epoch 190, Loss 0.0185\n",
      "Training Accuracy: 0.9796, Testing Accuracy: 0.9768\n",
      "\n"
     ]
    },
    {
     "name": "stdout",
     "output_type": "stream",
     "text": [
      "Epoch 200, Loss 0.0181\n",
      "Training Accuracy: 0.9801, Testing Accuracy: 0.9768\n",
      "\n"
     ]
    },
    {
     "name": "stdout",
     "output_type": "stream",
     "text": [
      "Epoch 210, Loss 0.0176\n",
      "Training Accuracy: 0.9811, Testing Accuracy: 0.9773\n",
      "\n"
     ]
    },
    {
     "name": "stdout",
     "output_type": "stream",
     "text": [
      "Epoch 220, Loss 0.0172\n",
      "Training Accuracy: 0.9818, Testing Accuracy: 0.9778\n",
      "\n"
     ]
    },
    {
     "name": "stdout",
     "output_type": "stream",
     "text": [
      "Epoch 230, Loss 0.0168\n",
      "Training Accuracy: 0.9821, Testing Accuracy: 0.9778\n",
      "\n"
     ]
    },
    {
     "name": "stdout",
     "output_type": "stream",
     "text": [
      "Epoch 240, Loss 0.0164\n",
      "Training Accuracy: 0.9827, Testing Accuracy: 0.9778\n",
      "\n"
     ]
    },
    {
     "data": {
      "text/plain": [
       "0.04160486593972604"
      ]
     },
     "execution_count": 22,
     "metadata": {},
     "output_type": "execute_result"
    }
   ],
   "source": [
    "nn_learner.train_loop(dl)"
   ]
  },
  {
   "cell_type": "code",
   "execution_count": 23,
   "id": "e0163366",
   "metadata": {
    "execution": {
     "iopub.execute_input": "2022-04-28T10:11:15.240531Z",
     "iopub.status.busy": "2022-04-28T10:11:15.240022Z",
     "iopub.status.idle": "2022-04-28T10:11:28.993259Z",
     "shell.execute_reply": "2022-04-28T10:11:28.994035Z"
    },
    "papermill": {
     "duration": 13.797385,
     "end_time": "2022-04-28T10:11:28.994201",
     "exception": false,
     "start_time": "2022-04-28T10:11:15.196816",
     "status": "completed"
    },
    "tags": []
   },
   "outputs": [
    {
     "name": "stdout",
     "output_type": "stream",
     "text": [
      "Epoch 0, Loss 0.2117\n",
      "Training Accuracy: 0.7632, Testing Accuracy: 0.7823\n",
      "\n"
     ]
    },
    {
     "name": "stdout",
     "output_type": "stream",
     "text": [
      "Epoch 10, Loss 0.1001\n",
      "Training Accuracy: 0.9124, Testing Accuracy: 0.9189\n",
      "\n"
     ]
    },
    {
     "name": "stdout",
     "output_type": "stream",
     "text": [
      "Epoch 20, Loss 0.0773\n",
      "Training Accuracy: 0.9301, Testing Accuracy: 0.9390\n",
      "\n"
     ]
    },
    {
     "name": "stdout",
     "output_type": "stream",
     "text": [
      "Epoch 30, Loss 0.0668\n",
      "Training Accuracy: 0.9393, Testing Accuracy: 0.9511\n",
      "\n"
     ]
    },
    {
     "name": "stdout",
     "output_type": "stream",
     "text": [
      "Epoch 40, Loss 0.0605\n",
      "Training Accuracy: 0.9427, Testing Accuracy: 0.9546\n",
      "\n"
     ]
    },
    {
     "name": "stdout",
     "output_type": "stream",
     "text": [
      "Epoch 50, Loss 0.0563\n",
      "Training Accuracy: 0.9449, Testing Accuracy: 0.9551\n",
      "\n"
     ]
    },
    {
     "name": "stdout",
     "output_type": "stream",
     "text": [
      "Epoch 60, Loss 0.0531\n",
      "Training Accuracy: 0.9468, Testing Accuracy: 0.9577\n",
      "\n"
     ]
    },
    {
     "name": "stdout",
     "output_type": "stream",
     "text": [
      "Epoch 70, Loss 0.0507\n",
      "Training Accuracy: 0.9491, Testing Accuracy: 0.9607\n",
      "\n"
     ]
    },
    {
     "name": "stdout",
     "output_type": "stream",
     "text": [
      "Epoch 80, Loss 0.0488\n",
      "Training Accuracy: 0.9508, Testing Accuracy: 0.9617\n",
      "\n"
     ]
    },
    {
     "name": "stdout",
     "output_type": "stream",
     "text": [
      "Epoch 90, Loss 0.0472\n",
      "Training Accuracy: 0.9525, Testing Accuracy: 0.9637\n",
      "\n"
     ]
    },
    {
     "name": "stdout",
     "output_type": "stream",
     "text": [
      "Epoch 100, Loss 0.0458\n",
      "Training Accuracy: 0.9534, Testing Accuracy: 0.9652\n",
      "\n"
     ]
    },
    {
     "name": "stdout",
     "output_type": "stream",
     "text": [
      "Epoch 110, Loss 0.0447\n",
      "Training Accuracy: 0.9543, Testing Accuracy: 0.9672\n",
      "\n"
     ]
    },
    {
     "name": "stdout",
     "output_type": "stream",
     "text": [
      "Epoch 120, Loss 0.0437\n",
      "Training Accuracy: 0.9550, Testing Accuracy: 0.9677\n",
      "\n"
     ]
    },
    {
     "name": "stdout",
     "output_type": "stream",
     "text": [
      "Epoch 130, Loss 0.0428\n",
      "Training Accuracy: 0.9555, Testing Accuracy: 0.9677\n",
      "\n"
     ]
    },
    {
     "name": "stdout",
     "output_type": "stream",
     "text": [
      "Epoch 140, Loss 0.042\n",
      "Training Accuracy: 0.9559, Testing Accuracy: 0.9677\n",
      "\n"
     ]
    },
    {
     "name": "stdout",
     "output_type": "stream",
     "text": [
      "Epoch 150, Loss 0.0412\n",
      "Training Accuracy: 0.9566, Testing Accuracy: 0.9677\n",
      "\n"
     ]
    },
    {
     "name": "stdout",
     "output_type": "stream",
     "text": [
      "Epoch 160, Loss 0.0406\n",
      "Training Accuracy: 0.9573, Testing Accuracy: 0.9677\n",
      "\n"
     ]
    },
    {
     "name": "stdout",
     "output_type": "stream",
     "text": [
      "Epoch 170, Loss 0.04\n",
      "Training Accuracy: 0.9578, Testing Accuracy: 0.9677\n",
      "\n"
     ]
    },
    {
     "name": "stdout",
     "output_type": "stream",
     "text": [
      "Epoch 180, Loss 0.0395\n",
      "Training Accuracy: 0.9581, Testing Accuracy: 0.9682\n",
      "\n"
     ]
    },
    {
     "name": "stdout",
     "output_type": "stream",
     "text": [
      "Epoch 190, Loss 0.039\n",
      "Training Accuracy: 0.9584, Testing Accuracy: 0.9682\n",
      "\n"
     ]
    },
    {
     "name": "stdout",
     "output_type": "stream",
     "text": [
      "Epoch 200, Loss 0.0385\n",
      "Training Accuracy: 0.9586, Testing Accuracy: 0.9682\n",
      "\n"
     ]
    },
    {
     "name": "stdout",
     "output_type": "stream",
     "text": [
      "Epoch 210, Loss 0.0381\n",
      "Training Accuracy: 0.9589, Testing Accuracy: 0.9682\n",
      "\n"
     ]
    },
    {
     "name": "stdout",
     "output_type": "stream",
     "text": [
      "Epoch 220, Loss 0.0377\n",
      "Training Accuracy: 0.9589, Testing Accuracy: 0.9682\n",
      "\n"
     ]
    },
    {
     "name": "stdout",
     "output_type": "stream",
     "text": [
      "Epoch 230, Loss 0.0373\n",
      "Training Accuracy: 0.9591, Testing Accuracy: 0.9682\n",
      "\n"
     ]
    },
    {
     "name": "stdout",
     "output_type": "stream",
     "text": [
      "Epoch 240, Loss 0.0369\n",
      "Training Accuracy: 0.9597, Testing Accuracy: 0.9682\n",
      "\n"
     ]
    },
    {
     "data": {
      "text/plain": [
       "0.03130511299129786"
      ]
     },
     "execution_count": 23,
     "metadata": {},
     "output_type": "execute_result"
    }
   ],
   "source": [
    "lr_learner.train_loop(dl)"
   ]
  },
  {
   "cell_type": "code",
   "execution_count": 24,
   "id": "ca410940",
   "metadata": {
    "execution": {
     "iopub.execute_input": "2022-04-28T10:11:29.092610Z",
     "iopub.status.busy": "2022-04-28T10:11:29.092080Z",
     "iopub.status.idle": "2022-04-28T10:11:29.305772Z",
     "shell.execute_reply": "2022-04-28T10:11:29.306195Z"
    },
    "papermill": {
     "duration": 0.270367,
     "end_time": "2022-04-28T10:11:29.306345",
     "exception": false,
     "start_time": "2022-04-28T10:11:29.035978",
     "status": "completed"
    },
    "tags": []
   },
   "outputs": [
    {
     "data": {
      "text/plain": [
       "<matplotlib.legend.Legend at 0x7f075002db70>"
      ]
     },
     "execution_count": 24,
     "metadata": {},
     "output_type": "execute_result"
    },
    {
     "data": {
      "image/png": "[encoded data removed]",
      "text/plain": [
       "<Figure size 1080x720 with 1 Axes>"
      ]
     },
     "metadata": {
      "needs_background": "light"
     },
     "output_type": "display_data"
    }
   ],
   "source": [
    "#comparing the results of NN and LR\n",
    "plt.figure(figsize=(15,10))\n",
    "\n",
    "# Neural Network plots\n",
    "plt.plot(acc_nn.accuracies, 'r-', label = \"Training Accuracies - NN\")\n",
    "plt.plot(acc_nn.test_accuracies, 'g-', label = \"Testing Accuracies - NN\")\n",
    "\n",
    "# Logistic Regression plots\n",
    "plt.plot(acc_lr.accuracies, 'k-', label = \"Training Accuracies - LR\")\n",
    "plt.plot(acc_lr.test_accuracies, 'b-', label = \"Testing Accuracies - LR\")\n",
    "plt.legend()"
   ]
  },
  {
   "cell_type": "markdown",
   "id": "80dfb35c",
   "metadata": {
    "papermill": {
     "duration": 0.042289,
     "end_time": "2022-04-28T10:11:29.391322",
     "exception": false,
     "start_time": "2022-04-28T10:11:29.349033",
     "status": "completed"
    },
    "tags": []
   },
   "source": [
    "#### Plotting the outputs of this layer of the NN.\n"
   ]
  },
  {
   "cell_type": "code",
   "execution_count": 25,
   "id": "45eb2ff5",
   "metadata": {
    "execution": {
     "iopub.execute_input": "2022-04-28T10:11:29.484807Z",
     "iopub.status.busy": "2022-04-28T10:11:29.484277Z",
     "iopub.status.idle": "2022-04-28T10:11:29.505605Z",
     "shell.execute_reply": "2022-04-28T10:11:29.505127Z"
    },
    "papermill": {
     "duration": 0.067822,
     "end_time": "2022-04-28T10:11:29.505726",
     "exception": false,
     "start_time": "2022-04-28T10:11:29.437904",
     "status": "completed"
    },
    "tags": []
   },
   "outputs": [],
   "source": [
    "new_model = Model(layers[:-2])\n",
    "testing_plot = new_model(testing_data_x)"
   ]
  },
  {
   "cell_type": "code",
   "execution_count": 26,
   "id": "4c0a5485",
   "metadata": {
    "execution": {
     "iopub.execute_input": "2022-04-28T10:11:29.595896Z",
     "iopub.status.busy": "2022-04-28T10:11:29.595366Z",
     "iopub.status.idle": "2022-04-28T10:11:29.821575Z",
     "shell.execute_reply": "2022-04-28T10:11:29.821975Z"
    },
    "papermill": {
     "duration": 0.27275,
     "end_time": "2022-04-28T10:11:29.822130",
     "exception": false,
     "start_time": "2022-04-28T10:11:29.549380",
     "status": "completed"
    },
    "tags": []
   },
   "outputs": [
    {
     "data": {
      "text/plain": [
       "Text(0.5, 1.0, 'Outputs')"
      ]
     },
     "execution_count": 26,
     "metadata": {},
     "output_type": "execute_result"
    },
    {
     "data": {
      "image/png": "[encoded data removed]",
      "text/plain": [
       "<Figure size 576x504 with 1 Axes>"
      ]
     },
     "metadata": {
      "needs_background": "light"
     },
     "output_type": "display_data"
    }
   ],
   "source": [
    "# Plotting the scatter plot of points and color coding by class\n",
    "plt.figure(figsize=(8,7))\n",
    "plt.scatter(testing_plot[:,0], testing_plot[:,1], alpha = 0.1, c = y_test.ravel());\n",
    "plt.title('Outputs')"
   ]
  },
  {
   "cell_type": "markdown",
   "id": "a74fcf8f",
   "metadata": {
    "papermill": {
     "duration": 0.04545,
     "end_time": "2022-04-28T10:11:29.913164",
     "exception": false,
     "start_time": "2022-04-28T10:11:29.867714",
     "status": "completed"
    },
    "tags": []
   },
   "source": [
    "Probability contours"
   ]
  },
  {
   "cell_type": "code",
   "execution_count": 27,
   "id": "d0afc8e3",
   "metadata": {
    "execution": {
     "iopub.execute_input": "2022-04-28T10:11:30.015913Z",
     "iopub.status.busy": "2022-04-28T10:11:30.009566Z",
     "iopub.status.idle": "2022-04-28T10:11:30.022397Z",
     "shell.execute_reply": "2022-04-28T10:11:30.022785Z"
    },
    "papermill": {
     "duration": 0.064233,
     "end_time": "2022-04-28T10:11:30.022926",
     "exception": false,
     "start_time": "2022-04-28T10:11:29.958693",
     "status": "completed"
    },
    "tags": []
   },
   "outputs": [],
   "source": [
    "model_prob = Model(layers[-2:]) "
   ]
  },
  {
   "cell_type": "code",
   "execution_count": 28,
   "id": "9b96e238",
   "metadata": {
    "execution": {
     "iopub.execute_input": "2022-04-28T10:11:30.150680Z",
     "iopub.status.busy": "2022-04-28T10:11:30.149744Z",
     "iopub.status.idle": "2022-04-28T10:11:30.165838Z",
     "shell.execute_reply": "2022-04-28T10:11:30.166247Z"
    },
    "papermill": {
     "duration": 0.066712,
     "end_time": "2022-04-28T10:11:30.166386",
     "exception": false,
     "start_time": "2022-04-28T10:11:30.099674",
     "status": "completed"
    },
    "tags": []
   },
   "outputs": [],
   "source": [
    "#creating the x and y ranges according to the above generated plot.\n",
    "x_range = np.linspace(-4, 1, 100) \n",
    "y_range = np.linspace(-6, 6, 100) \n",
    "x_grid, y_grid = np.meshgrid(x_range, y_range) # x_grid and y_grig are of size 100 X 100\n",
    "\n",
    "# converting x_grid and y_grid to continuous arrays\n",
    "x_gridflat = np.ravel(x_grid)\n",
    "y_gridflat = np.ravel(y_grid)\n",
    "\n",
    "# The last layer of the current model takes two columns as input. Hence transpose of np.vstack() is required.\n",
    "X = np.vstack((x_gridflat, y_gridflat)).T\n",
    "\n",
    "prob_contour = model_prob(X).reshape(100,100) "
   ]
  },
  {
   "cell_type": "code",
   "execution_count": 29,
   "id": "da72499a",
   "metadata": {
    "execution": {
     "iopub.execute_input": "2022-04-28T10:11:30.263028Z",
     "iopub.status.busy": "2022-04-28T10:11:30.262492Z",
     "iopub.status.idle": "2022-04-28T10:11:30.505745Z",
     "shell.execute_reply": "2022-04-28T10:11:30.506140Z"
    },
    "papermill": {
     "duration": 0.293952,
     "end_time": "2022-04-28T10:11:30.506296",
     "exception": false,
     "start_time": "2022-04-28T10:11:30.212344",
     "status": "completed"
    },
    "tags": []
   },
   "outputs": [
    {
     "data": {
      "image/png": "[encoded data removed]",
      "text/plain": [
       "<Figure size 720x648 with 1 Axes>"
      ]
     },
     "metadata": {
      "needs_background": "light"
     },
     "output_type": "display_data"
    }
   ],
   "source": [
    "plt.figure(figsize=(10,9))\n",
    "plt.scatter(testing_plot[:,0], testing_plot[:,1], alpha = 0.1, c = y_test.ravel())\n",
    "contours = plt.contour(x_grid,y_grid,prob_contour)\n",
    "plt.title('Probability Contours')\n",
    "plt.clabel(contours, inline = True );"
   ]
  },
  {
   "cell_type": "code",
   "execution_count": null,
   "id": "e81b4ac7",
   "metadata": {
    "papermill": {
     "duration": 0.04794,
     "end_time": "2022-04-28T10:11:30.602811",
     "exception": false,
     "start_time": "2022-04-28T10:11:30.554871",
     "status": "completed"
    },
    "tags": []
   },
   "outputs": [],
   "source": []
  }
 ],
 "metadata": {
  "kernelspec": {
   "display_name": "Python 3",
   "language": "python",
   "name": "python3"
  },
  "language_info": {
   "codemirror_mode": {
    "name": "ipython",
    "version": 3
   },
   "file_extension": ".py",
   "mimetype": "text/x-python",
   "name": "python",
   "nbconvert_exporter": "python",
   "pygments_lexer": "ipython3",
   "version": "3.6.15"
  },
  "papermill": {
   "default_parameters": {},
   "duration": 99.119947,
   "end_time": "2022-04-28T10:11:31.070409",
   "environment_variables": {},
   "exception": null,
   "input_path": "2020-08-11-part2.ipynb",
   "output_path": "2020-08-11-part2.ipynb",
   "parameters": {},
   "start_time": "2022-04-28T10:09:51.950462",
   "version": "2.3.3"
  }
 },
 "nbformat": 4,
 "nbformat_minor": 5
}