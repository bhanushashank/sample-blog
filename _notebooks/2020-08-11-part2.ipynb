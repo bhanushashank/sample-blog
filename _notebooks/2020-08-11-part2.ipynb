{
 "cells": [
  {
   "cell_type": "markdown",
   "id": "98380cd3",
   "metadata": {
    "papermill": {
     "duration": 0.032219,
     "end_time": "2022-03-24T00:32:36.137156",
     "exception": false,
     "start_time": "2022-03-24T00:32:36.104937",
     "status": "completed"
    },
    "tags": []
   },
   "source": [
    "# Distinguish Your Own Digits (DYOD)"
   ]
  },
  {
   "cell_type": "markdown",
   "id": "ef31240d",
   "metadata": {
    "papermill": {
     "duration": 0.027053,
     "end_time": "2022-03-24T00:32:36.188898",
     "exception": false,
     "start_time": "2022-03-24T00:32:36.161845",
     "status": "completed"
    },
    "tags": []
   },
   "source": [
    "You are going to write a classifier that distinguishes between the number 3 and number 8."
   ]
  },
  {
   "cell_type": "code",
   "execution_count": 1,
   "id": "b15c8646",
   "metadata": {
    "execution": {
     "iopub.execute_input": "2022-03-24T00:32:36.254801Z",
     "iopub.status.busy": "2022-03-24T00:32:36.254185Z",
     "iopub.status.idle": "2022-03-24T00:32:36.265771Z",
     "shell.execute_reply": "2022-03-24T00:32:36.265311Z"
    },
    "papermill": {
     "duration": 0.05145,
     "end_time": "2022-03-24T00:32:36.265902",
     "exception": false,
     "start_time": "2022-03-24T00:32:36.214452",
     "status": "completed"
    },
    "tags": []
   },
   "outputs": [],
   "source": [
    "%load_ext autoreload\n",
    "%autoreload 2"
   ]
  },
  {
   "cell_type": "code",
   "execution_count": 2,
   "id": "22ef38dc",
   "metadata": {
    "execution": {
     "iopub.execute_input": "2022-03-24T00:32:36.324472Z",
     "iopub.status.busy": "2022-03-24T00:32:36.323829Z",
     "iopub.status.idle": "2022-03-24T00:32:36.995919Z",
     "shell.execute_reply": "2022-03-24T00:32:36.994753Z"
    },
    "papermill": {
     "duration": 0.703996,
     "end_time": "2022-03-24T00:32:36.996078",
     "exception": false,
     "start_time": "2022-03-24T00:32:36.292082",
     "status": "completed"
    },
    "tags": []
   },
   "outputs": [],
   "source": [
    "%matplotlib inline\n",
    "import numpy as np\n",
    "import matplotlib.pyplot as plt\n",
    "import pandas as pd"
   ]
  },
  {
   "cell_type": "markdown",
   "id": "ba036198",
   "metadata": {
    "papermill": {
     "duration": 0.026582,
     "end_time": "2022-03-24T00:32:37.048402",
     "exception": false,
     "start_time": "2022-03-24T00:32:37.021820",
     "status": "completed"
    },
    "tags": []
   },
   "source": [
    "From the command line run `pip install mnist`. This is a library that will help you bring down the mnist dataset. If you run this from a notebook, you need to put  `!pip install mnist` in a cell by itself."
   ]
  },
  {
   "cell_type": "code",
   "execution_count": 3,
   "id": "bb6ad8a1",
   "metadata": {
    "execution": {
     "iopub.execute_input": "2022-03-24T00:32:37.106849Z",
     "iopub.status.busy": "2022-03-24T00:32:37.106239Z",
     "iopub.status.idle": "2022-03-24T00:32:39.748207Z",
     "shell.execute_reply": "2022-03-24T00:32:39.747323Z"
    },
    "papermill": {
     "duration": 2.673241,
     "end_time": "2022-03-24T00:32:39.748427",
     "exception": false,
     "start_time": "2022-03-24T00:32:37.075186",
     "status": "completed"
    },
    "tags": []
   },
   "outputs": [
    {
     "name": "stdout",
     "output_type": "stream",
     "text": [
      "Collecting mnist\r\n"
     ]
    },
    {
     "name": "stdout",
     "output_type": "stream",
     "text": [
      "  Downloading mnist-0.2.2-py2.py3-none-any.whl (3.5 kB)\r\n",
      "Requirement already satisfied: numpy in /opt/hostedtoolcache/Python/3.6.15/x64/lib/python3.6/site-packages (from mnist) (1.19.5)\r\n"
     ]
    },
    {
     "name": "stdout",
     "output_type": "stream",
     "text": [
      "Installing collected packages: mnist\r\n"
     ]
    },
    {
     "name": "stdout",
     "output_type": "stream",
     "text": [
      "Successfully installed mnist-0.2.2\r\n"
     ]
    }
   ],
   "source": [
    "!pip install mnist"
   ]
  },
  {
   "cell_type": "markdown",
   "id": "69df9c9a",
   "metadata": {
    "papermill": {
     "duration": 0.026815,
     "end_time": "2022-03-24T00:32:39.803993",
     "exception": false,
     "start_time": "2022-03-24T00:32:39.777178",
     "status": "completed"
    },
    "tags": []
   },
   "source": [
    "## Preparing the Data"
   ]
  },
  {
   "cell_type": "code",
   "execution_count": 4,
   "id": "7f69d806",
   "metadata": {
    "execution": {
     "iopub.execute_input": "2022-03-24T00:32:39.864131Z",
     "iopub.status.busy": "2022-03-24T00:32:39.863519Z",
     "iopub.status.idle": "2022-03-24T00:32:39.880598Z",
     "shell.execute_reply": "2022-03-24T00:32:39.879312Z"
    },
    "papermill": {
     "duration": 0.049186,
     "end_time": "2022-03-24T00:32:39.880733",
     "exception": false,
     "start_time": "2022-03-24T00:32:39.831547",
     "status": "completed"
    },
    "tags": []
   },
   "outputs": [],
   "source": [
    "import mnist"
   ]
  },
  {
   "cell_type": "code",
   "execution_count": 5,
   "id": "a411e44f",
   "metadata": {
    "execution": {
     "iopub.execute_input": "2022-03-24T00:32:39.942723Z",
     "iopub.status.busy": "2022-03-24T00:32:39.937877Z",
     "iopub.status.idle": "2022-03-24T00:32:40.530648Z",
     "shell.execute_reply": "2022-03-24T00:32:40.529568Z"
    },
    "papermill": {
     "duration": 0.623902,
     "end_time": "2022-03-24T00:32:40.530861",
     "exception": false,
     "start_time": "2022-03-24T00:32:39.906959",
     "status": "completed"
    },
    "tags": []
   },
   "outputs": [],
   "source": [
    "train_images = mnist.train_images()\n",
    "train_labels = mnist.train_labels()"
   ]
  },
  {
   "cell_type": "code",
   "execution_count": 6,
   "id": "dceab3a5",
   "metadata": {
    "execution": {
     "iopub.execute_input": "2022-03-24T00:32:40.588110Z",
     "iopub.status.busy": "2022-03-24T00:32:40.587612Z",
     "iopub.status.idle": "2022-03-24T00:32:40.603062Z",
     "shell.execute_reply": "2022-03-24T00:32:40.602617Z"
    },
    "papermill": {
     "duration": 0.045084,
     "end_time": "2022-03-24T00:32:40.603181",
     "exception": false,
     "start_time": "2022-03-24T00:32:40.558097",
     "status": "completed"
    },
    "tags": []
   },
   "outputs": [
    {
     "data": {
      "text/plain": [
       "((60000, 28, 28), (60000,))"
      ]
     },
     "execution_count": 6,
     "metadata": {},
     "output_type": "execute_result"
    }
   ],
   "source": [
    "train_images.shape, train_labels.shape"
   ]
  },
  {
   "cell_type": "code",
   "execution_count": 7,
   "id": "f50dc2bb",
   "metadata": {
    "execution": {
     "iopub.execute_input": "2022-03-24T00:32:40.662423Z",
     "iopub.status.busy": "2022-03-24T00:32:40.661910Z",
     "iopub.status.idle": "2022-03-24T00:32:40.854453Z",
     "shell.execute_reply": "2022-03-24T00:32:40.855328Z"
    },
    "papermill": {
     "duration": 0.224826,
     "end_time": "2022-03-24T00:32:40.855577",
     "exception": false,
     "start_time": "2022-03-24T00:32:40.630751",
     "status": "completed"
    },
    "tags": []
   },
   "outputs": [],
   "source": [
    "test_images = mnist.test_images()\n",
    "test_labels = mnist.test_labels()"
   ]
  },
  {
   "cell_type": "code",
   "execution_count": 8,
   "id": "fc38cf1b",
   "metadata": {
    "execution": {
     "iopub.execute_input": "2022-03-24T00:32:40.915905Z",
     "iopub.status.busy": "2022-03-24T00:32:40.915346Z",
     "iopub.status.idle": "2022-03-24T00:32:40.930424Z",
     "shell.execute_reply": "2022-03-24T00:32:40.929958Z"
    },
    "papermill": {
     "duration": 0.046382,
     "end_time": "2022-03-24T00:32:40.930546",
     "exception": false,
     "start_time": "2022-03-24T00:32:40.884164",
     "status": "completed"
    },
    "tags": []
   },
   "outputs": [
    {
     "data": {
      "text/plain": [
       "((10000, 28, 28), (10000,))"
      ]
     },
     "execution_count": 8,
     "metadata": {},
     "output_type": "execute_result"
    }
   ],
   "source": [
    "test_images.shape, test_labels.shape"
   ]
  },
  {
   "cell_type": "code",
   "execution_count": 9,
   "id": "f9ed8fe0",
   "metadata": {
    "execution": {
     "iopub.execute_input": "2022-03-24T00:32:40.993065Z",
     "iopub.status.busy": "2022-03-24T00:32:40.991443Z",
     "iopub.status.idle": "2022-03-24T00:32:41.142093Z",
     "shell.execute_reply": "2022-03-24T00:32:41.142523Z"
    },
    "papermill": {
     "duration": 0.184983,
     "end_time": "2022-03-24T00:32:41.142678",
     "exception": false,
     "start_time": "2022-03-24T00:32:40.957695",
     "status": "completed"
    },
    "tags": []
   },
   "outputs": [
    {
     "name": "stdout",
     "output_type": "stream",
     "text": [
      "2\n"
     ]
    },
    {
     "data": {
      "text/plain": [
       "<matplotlib.image.AxesImage at 0x7fee2edf05c0>"
      ]
     },
     "execution_count": 9,
     "metadata": {},
     "output_type": "execute_result"
    },
    {
     "data": {
      "image/png": "[encoded data removed]",
      "text/plain": [
       "<Figure size 432x288 with 1 Axes>"
      ]
     },
     "metadata": {
      "needs_background": "light"
     },
     "output_type": "display_data"
    }
   ],
   "source": [
    "image_index = 7776 # You may select anything up to 60,000\n",
    "print(train_labels[image_index]) \n",
    "plt.imshow(train_images[image_index], cmap='Greys')"
   ]
  },
  {
   "cell_type": "markdown",
   "id": "a8d2388d",
   "metadata": {
    "papermill": {
     "duration": 0.028399,
     "end_time": "2022-03-24T00:32:41.199094",
     "exception": false,
     "start_time": "2022-03-24T00:32:41.170695",
     "status": "completed"
    },
    "tags": []
   },
   "source": [
    "## Filter data to get 3 and 8 out"
   ]
  },
  {
   "cell_type": "code",
   "execution_count": 10,
   "id": "776f7fc7",
   "metadata": {
    "execution": {
     "iopub.execute_input": "2022-03-24T00:32:41.261864Z",
     "iopub.status.busy": "2022-03-24T00:32:41.261297Z",
     "iopub.status.idle": "2022-03-24T00:32:41.282756Z",
     "shell.execute_reply": "2022-03-24T00:32:41.282287Z"
    },
    "papermill": {
     "duration": 0.054994,
     "end_time": "2022-03-24T00:32:41.282880",
     "exception": false,
     "start_time": "2022-03-24T00:32:41.227886",
     "status": "completed"
    },
    "tags": []
   },
   "outputs": [],
   "source": [
    "train_filter = np.where((train_labels == 3 ) | (train_labels == 8))\n",
    "test_filter = np.where((test_labels == 3) | (test_labels == 8))\n",
    "X_train, y_train = train_images[train_filter], train_labels[train_filter]\n",
    "X_test, y_test = test_images[test_filter], test_labels[test_filter]"
   ]
  },
  {
   "cell_type": "markdown",
   "id": "948f0b7e",
   "metadata": {
    "papermill": {
     "duration": 0.029276,
     "end_time": "2022-03-24T00:32:41.341615",
     "exception": false,
     "start_time": "2022-03-24T00:32:41.312339",
     "status": "completed"
    },
    "tags": []
   },
   "source": [
    "We normalize the pizel values in the 0 to 1 range"
   ]
  },
  {
   "cell_type": "code",
   "execution_count": 11,
   "id": "ee4c2166",
   "metadata": {
    "execution": {
     "iopub.execute_input": "2022-03-24T00:32:41.404351Z",
     "iopub.status.busy": "2022-03-24T00:32:41.403764Z",
     "iopub.status.idle": "2022-03-24T00:32:41.458282Z",
     "shell.execute_reply": "2022-03-24T00:32:41.457741Z"
    },
    "papermill": {
     "duration": 0.087844,
     "end_time": "2022-03-24T00:32:41.458429",
     "exception": false,
     "start_time": "2022-03-24T00:32:41.370585",
     "status": "completed"
    },
    "tags": []
   },
   "outputs": [],
   "source": [
    "X_train = X_train/255.\n",
    "X_test = X_test/255."
   ]
  },
  {
   "cell_type": "markdown",
   "id": "ddcf4fab",
   "metadata": {
    "papermill": {
     "duration": 0.029648,
     "end_time": "2022-03-24T00:32:41.519489",
     "exception": false,
     "start_time": "2022-03-24T00:32:41.489841",
     "status": "completed"
    },
    "tags": []
   },
   "source": [
    "And setup the labels as 1 (when the digit is 3) and 0 (when the digit is 8)"
   ]
  },
  {
   "cell_type": "code",
   "execution_count": 12,
   "id": "7dc908f2",
   "metadata": {
    "execution": {
     "iopub.execute_input": "2022-03-24T00:32:41.585831Z",
     "iopub.status.busy": "2022-03-24T00:32:41.582443Z",
     "iopub.status.idle": "2022-03-24T00:32:41.596062Z",
     "shell.execute_reply": "2022-03-24T00:32:41.595604Z"
    },
    "papermill": {
     "duration": 0.047003,
     "end_time": "2022-03-24T00:32:41.596183",
     "exception": false,
     "start_time": "2022-03-24T00:32:41.549180",
     "status": "completed"
    },
    "tags": []
   },
   "outputs": [],
   "source": [
    "y_train = 1*(y_train==3)\n",
    "y_test = 1*(y_test==3)"
   ]
  },
  {
   "cell_type": "code",
   "execution_count": 13,
   "id": "01e4e969",
   "metadata": {
    "execution": {
     "iopub.execute_input": "2022-03-24T00:32:41.660914Z",
     "iopub.status.busy": "2022-03-24T00:32:41.660318Z",
     "iopub.status.idle": "2022-03-24T00:32:41.674442Z",
     "shell.execute_reply": "2022-03-24T00:32:41.673963Z"
    },
    "papermill": {
     "duration": 0.048631,
     "end_time": "2022-03-24T00:32:41.674569",
     "exception": false,
     "start_time": "2022-03-24T00:32:41.625938",
     "status": "completed"
    },
    "tags": []
   },
   "outputs": [
    {
     "data": {
      "text/plain": [
       "((11982, 28, 28), (1984, 28, 28))"
      ]
     },
     "execution_count": 13,
     "metadata": {},
     "output_type": "execute_result"
    }
   ],
   "source": [
    "X_train.shape, X_test.shape"
   ]
  },
  {
   "cell_type": "markdown",
   "id": "5ccf3f85",
   "metadata": {
    "papermill": {
     "duration": 0.029899,
     "end_time": "2022-03-24T00:32:41.734131",
     "exception": false,
     "start_time": "2022-03-24T00:32:41.704232",
     "status": "completed"
    },
    "tags": []
   },
   "source": [
    "We reshape the data to flatten the image pixels into a set of features or co-variates:"
   ]
  },
  {
   "cell_type": "code",
   "execution_count": 14,
   "id": "5286a4a3",
   "metadata": {
    "execution": {
     "iopub.execute_input": "2022-03-24T00:32:41.798554Z",
     "iopub.status.busy": "2022-03-24T00:32:41.797897Z",
     "iopub.status.idle": "2022-03-24T00:32:41.812248Z",
     "shell.execute_reply": "2022-03-24T00:32:41.811798Z"
    },
    "papermill": {
     "duration": 0.048639,
     "end_time": "2022-03-24T00:32:41.812368",
     "exception": false,
     "start_time": "2022-03-24T00:32:41.763729",
     "status": "completed"
    },
    "tags": []
   },
   "outputs": [
    {
     "data": {
      "text/plain": [
       "((11982, 784), (1984, 784))"
      ]
     },
     "execution_count": 14,
     "metadata": {},
     "output_type": "execute_result"
    }
   ],
   "source": [
    "X_train = X_train.reshape(X_train.shape[0], -1)\n",
    "X_test = X_test.reshape(X_test.shape[0], -1)\n",
    "X_train.shape, X_test.shape"
   ]
  },
  {
   "cell_type": "code",
   "execution_count": 15,
   "id": "73c5f88a",
   "metadata": {
    "execution": {
     "iopub.execute_input": "2022-03-24T00:32:41.885540Z",
     "iopub.status.busy": "2022-03-24T00:32:41.884966Z",
     "iopub.status.idle": "2022-03-24T00:32:41.904240Z",
     "shell.execute_reply": "2022-03-24T00:32:41.904798Z"
    },
    "papermill": {
     "duration": 0.059101,
     "end_time": "2022-03-24T00:32:41.904959",
     "exception": false,
     "start_time": "2022-03-24T00:32:41.845858",
     "status": "completed"
    },
    "tags": []
   },
   "outputs": [],
   "source": [
    "#Impoting functions from 'Kudzu'\n",
    "from kudzu.model import Model\n",
    "from kudzu.train import Learner\n",
    "from kudzu.optim import GD\n",
    "from kudzu.data import Data, Sampler,Dataloader\n",
    "\n",
    "from kudzu.callbacks import AccCallback\n",
    "from kudzu.callbacks import ClfCallback\n",
    "\n",
    "from kudzu.loss import MSE\n",
    "\n",
    "from kudzu.layer import Sigmoid,Relu\n",
    "from kudzu.layer import Affine"
   ]
  },
  {
   "cell_type": "markdown",
   "id": "bc01172a",
   "metadata": {
    "papermill": {
     "duration": 0.030023,
     "end_time": "2022-03-24T00:32:41.964744",
     "exception": false,
     "start_time": "2022-03-24T00:32:41.934721",
     "status": "completed"
    },
    "tags": []
   },
   "source": [
    "### Let us create a `Config` class, to store important parameters. \n",
    "This class essentially plays the role of a dictionary."
   ]
  },
  {
   "cell_type": "code",
   "execution_count": 16,
   "id": "978281aa",
   "metadata": {
    "execution": {
     "iopub.execute_input": "2022-03-24T00:32:42.030662Z",
     "iopub.status.busy": "2022-03-24T00:32:42.029570Z",
     "iopub.status.idle": "2022-03-24T00:32:42.045434Z",
     "shell.execute_reply": "2022-03-24T00:32:42.045928Z"
    },
    "papermill": {
     "duration": 0.051365,
     "end_time": "2022-03-24T00:32:42.046086",
     "exception": false,
     "start_time": "2022-03-24T00:32:41.994721",
     "status": "completed"
    },
    "tags": []
   },
   "outputs": [],
   "source": [
    "class Config:\n",
    "    pass\n",
    "config = Config()\n",
    "config.lr = 0.001\n",
    "config.num_epochs = 250\n",
    "config.bs = 50"
   ]
  },
  {
   "cell_type": "markdown",
   "id": "1385fa59",
   "metadata": {
    "papermill": {
     "duration": 0.032562,
     "end_time": "2022-03-24T00:32:42.111259",
     "exception": false,
     "start_time": "2022-03-24T00:32:42.078697",
     "status": "completed"
    },
    "tags": []
   },
   "source": [
    "### Running Models with the Training data\n",
    "Details about the network layers:\n",
    "- A first affine layer has 784 inputs and does 100 affine transforms. These are followed by a Relu\n",
    "- A second affine layer has 100 inputs from the 100 activations of the past layer, and does 100 affine transforms. These are followed by a Relu\n",
    "- A third affine layer has 100 activations and does 2 affine transformations to create an embedding for visualization. There is no non-linearity here.\n",
    "- A final \"logistic regression\" which has an affine transform from 2 inputs to 1 output, which is squeezed through a sigmoid.\n"
   ]
  },
  {
   "cell_type": "code",
   "execution_count": 17,
   "id": "2b9c66db",
   "metadata": {
    "execution": {
     "iopub.execute_input": "2022-03-24T00:32:42.180848Z",
     "iopub.status.busy": "2022-03-24T00:32:42.180253Z",
     "iopub.status.idle": "2022-03-24T00:32:42.192348Z",
     "shell.execute_reply": "2022-03-24T00:32:42.192972Z"
    },
    "papermill": {
     "duration": 0.049232,
     "end_time": "2022-03-24T00:32:42.193122",
     "exception": false,
     "start_time": "2022-03-24T00:32:42.143890",
     "status": "completed"
    },
    "tags": []
   },
   "outputs": [],
   "source": [
    "data = Data(X_train, y_train.reshape(-1,1))\n",
    "sampler = Sampler(data, config.bs, shuffle=True)\n",
    "\n",
    "dl = Dataloader(data, sampler)\n",
    "\n",
    "opt = GD(config.lr)\n",
    "loss = MSE()"
   ]
  },
  {
   "cell_type": "code",
   "execution_count": 18,
   "id": "b275e4c2",
   "metadata": {
    "execution": {
     "iopub.execute_input": "2022-03-24T00:32:42.259038Z",
     "iopub.status.busy": "2022-03-24T00:32:42.258451Z",
     "iopub.status.idle": "2022-03-24T00:32:42.271446Z",
     "shell.execute_reply": "2022-03-24T00:32:42.270937Z"
    },
    "papermill": {
     "duration": 0.048802,
     "end_time": "2022-03-24T00:32:42.271569",
     "exception": false,
     "start_time": "2022-03-24T00:32:42.222767",
     "status": "completed"
    },
    "tags": []
   },
   "outputs": [],
   "source": [
    "training_data_x = X_train\n",
    "testing_data_x = X_test\n",
    "training_data_y = y_train.reshape(-1,1)\n",
    "testing_data_y = y_test.reshape(-1,1)"
   ]
  },
  {
   "cell_type": "code",
   "execution_count": 19,
   "id": "76951160",
   "metadata": {
    "execution": {
     "iopub.execute_input": "2022-03-24T00:32:42.337562Z",
     "iopub.status.busy": "2022-03-24T00:32:42.336679Z",
     "iopub.status.idle": "2022-03-24T00:32:42.355907Z",
     "shell.execute_reply": "2022-03-24T00:32:42.356359Z"
    },
    "papermill": {
     "duration": 0.054901,
     "end_time": "2022-03-24T00:32:42.356505",
     "exception": false,
     "start_time": "2022-03-24T00:32:42.301604",
     "status": "completed"
    },
    "tags": []
   },
   "outputs": [
    {
     "name": "stdout",
     "output_type": "stream",
     "text": [
      "xavier\n",
      "xavier\n",
      "xavier\n",
      "xavier\n",
      "xavier\n"
     ]
    }
   ],
   "source": [
    "layers = [Affine(\"first\", 784, 100), Relu(\"first\"), Affine(\"second\", 100, 100), Relu(\"second\"), Affine(\"third\", 100, 2), Affine(\"last\", 2, 1), Sigmoid(\"last\")]\n",
    "model_nn = Model(layers)\n",
    "model_lr = Model([Affine(\"logits\", 784, 1), Sigmoid(\"sigmoid\")])"
   ]
  },
  {
   "cell_type": "code",
   "execution_count": 20,
   "id": "6eede77a",
   "metadata": {
    "execution": {
     "iopub.execute_input": "2022-03-24T00:32:42.419119Z",
     "iopub.status.busy": "2022-03-24T00:32:42.418505Z",
     "iopub.status.idle": "2022-03-24T00:32:42.431223Z",
     "shell.execute_reply": "2022-03-24T00:32:42.431677Z"
    },
    "papermill": {
     "duration": 0.04561,
     "end_time": "2022-03-24T00:32:42.431825",
     "exception": false,
     "start_time": "2022-03-24T00:32:42.386215",
     "status": "completed"
    },
    "tags": []
   },
   "outputs": [],
   "source": [
    "nn_learner = Learner(loss, model_nn, opt, config.num_epochs)\n",
    "acc_nn = ClfCallback(nn_learner, config.bs, training_data_x , testing_data_x, training_data_y, testing_data_y)\n",
    "nn_learner.set_callbacks([acc_nn])"
   ]
  },
  {
   "cell_type": "code",
   "execution_count": 21,
   "id": "877b6cc7",
   "metadata": {
    "execution": {
     "iopub.execute_input": "2022-03-24T00:32:42.497504Z",
     "iopub.status.busy": "2022-03-24T00:32:42.496892Z",
     "iopub.status.idle": "2022-03-24T00:32:42.510464Z",
     "shell.execute_reply": "2022-03-24T00:32:42.509983Z"
    },
    "papermill": {
     "duration": 0.048923,
     "end_time": "2022-03-24T00:32:42.510588",
     "exception": false,
     "start_time": "2022-03-24T00:32:42.461665",
     "status": "completed"
    },
    "tags": []
   },
   "outputs": [],
   "source": [
    "lr_learner = Learner(loss, model_lr, opt, config.num_epochs)\n",
    "acc_lr = ClfCallback(lr_learner, config.bs, training_data_x , testing_data_x, training_data_y, testing_data_y)\n",
    "lr_learner.set_callbacks([acc_lr])"
   ]
  },
  {
   "cell_type": "code",
   "execution_count": 22,
   "id": "d9b133c3",
   "metadata": {
    "execution": {
     "iopub.execute_input": "2022-03-24T00:32:42.572117Z",
     "iopub.status.busy": "2022-03-24T00:32:42.571513Z",
     "iopub.status.idle": "2022-03-24T00:34:06.702041Z",
     "shell.execute_reply": "2022-03-24T00:34:06.702908Z"
    },
    "papermill": {
     "duration": 84.163456,
     "end_time": "2022-03-24T00:34:06.703081",
     "exception": false,
     "start_time": "2022-03-24T00:32:42.539625",
     "status": "completed"
    },
    "tags": []
   },
   "outputs": [
    {
     "name": "stdout",
     "output_type": "stream",
     "text": [
      "Epoch 0, Loss 0.2311\n",
      "Training Accuracy: 0.7442, Testing Accuracy: 0.7495\n",
      "\n"
     ]
    },
    {
     "name": "stdout",
     "output_type": "stream",
     "text": [
      "Epoch 10, Loss 0.0794\n",
      "Training Accuracy: 0.9258, Testing Accuracy: 0.9370\n",
      "\n"
     ]
    },
    {
     "name": "stdout",
     "output_type": "stream",
     "text": [
      "Epoch 20, Loss 0.0522\n",
      "Training Accuracy: 0.9442, Testing Accuracy: 0.9592\n",
      "\n"
     ]
    },
    {
     "name": "stdout",
     "output_type": "stream",
     "text": [
      "Epoch 30, Loss 0.0421\n",
      "Training Accuracy: 0.9534, Testing Accuracy: 0.9642\n",
      "\n"
     ]
    },
    {
     "name": "stdout",
     "output_type": "stream",
     "text": [
      "Epoch 40, Loss 0.0368\n",
      "Training Accuracy: 0.9579, Testing Accuracy: 0.9682\n",
      "\n"
     ]
    },
    {
     "name": "stdout",
     "output_type": "stream",
     "text": [
      "Epoch 50, Loss 0.0336\n",
      "Training Accuracy: 0.9617, Testing Accuracy: 0.9693\n",
      "\n"
     ]
    },
    {
     "name": "stdout",
     "output_type": "stream",
     "text": [
      "Epoch 60, Loss 0.0313\n",
      "Training Accuracy: 0.9636, Testing Accuracy: 0.9703\n",
      "\n"
     ]
    },
    {
     "name": "stdout",
     "output_type": "stream",
     "text": [
      "Epoch 70, Loss 0.0296\n",
      "Training Accuracy: 0.9653, Testing Accuracy: 0.9698\n",
      "\n"
     ]
    },
    {
     "name": "stdout",
     "output_type": "stream",
     "text": [
      "Epoch 80, Loss 0.0283\n",
      "Training Accuracy: 0.9667, Testing Accuracy: 0.9693\n",
      "\n"
     ]
    },
    {
     "name": "stdout",
     "output_type": "stream",
     "text": [
      "Epoch 90, Loss 0.0271\n",
      "Training Accuracy: 0.9685, Testing Accuracy: 0.9688\n",
      "\n"
     ]
    },
    {
     "name": "stdout",
     "output_type": "stream",
     "text": [
      "Epoch 100, Loss 0.0262\n",
      "Training Accuracy: 0.9697, Testing Accuracy: 0.9693\n",
      "\n"
     ]
    },
    {
     "name": "stdout",
     "output_type": "stream",
     "text": [
      "Epoch 110, Loss 0.0254\n",
      "Training Accuracy: 0.9706, Testing Accuracy: 0.9698\n",
      "\n"
     ]
    },
    {
     "name": "stdout",
     "output_type": "stream",
     "text": [
      "Epoch 120, Loss 0.0246\n",
      "Training Accuracy: 0.9711, Testing Accuracy: 0.9698\n",
      "\n"
     ]
    },
    {
     "name": "stdout",
     "output_type": "stream",
     "text": [
      "Epoch 130, Loss 0.024\n",
      "Training Accuracy: 0.9718, Testing Accuracy: 0.9703\n",
      "\n"
     ]
    },
    {
     "name": "stdout",
     "output_type": "stream",
     "text": [
      "Epoch 140, Loss 0.0233\n",
      "Training Accuracy: 0.9725, Testing Accuracy: 0.9703\n",
      "\n"
     ]
    },
    {
     "name": "stdout",
     "output_type": "stream",
     "text": [
      "Epoch 150, Loss 0.0228\n",
      "Training Accuracy: 0.9732, Testing Accuracy: 0.9713\n",
      "\n"
     ]
    },
    {
     "name": "stdout",
     "output_type": "stream",
     "text": [
      "Epoch 160, Loss 0.0222\n",
      "Training Accuracy: 0.9737, Testing Accuracy: 0.9723\n",
      "\n"
     ]
    },
    {
     "name": "stdout",
     "output_type": "stream",
     "text": [
      "Epoch 170, Loss 0.0217\n",
      "Training Accuracy: 0.9745, Testing Accuracy: 0.9728\n",
      "\n"
     ]
    },
    {
     "name": "stdout",
     "output_type": "stream",
     "text": [
      "Epoch 180, Loss 0.0213\n",
      "Training Accuracy: 0.9754, Testing Accuracy: 0.9723\n",
      "\n"
     ]
    },
    {
     "name": "stdout",
     "output_type": "stream",
     "text": [
      "Epoch 190, Loss 0.0208\n",
      "Training Accuracy: 0.9755, Testing Accuracy: 0.9723\n",
      "\n"
     ]
    },
    {
     "name": "stdout",
     "output_type": "stream",
     "text": [
      "Epoch 200, Loss 0.0204\n",
      "Training Accuracy: 0.9761, Testing Accuracy: 0.9728\n",
      "\n"
     ]
    },
    {
     "name": "stdout",
     "output_type": "stream",
     "text": [
      "Epoch 210, Loss 0.02\n",
      "Training Accuracy: 0.9769, Testing Accuracy: 0.9733\n",
      "\n"
     ]
    },
    {
     "name": "stdout",
     "output_type": "stream",
     "text": [
      "Epoch 220, Loss 0.0196\n",
      "Training Accuracy: 0.9775, Testing Accuracy: 0.9733\n",
      "\n"
     ]
    },
    {
     "name": "stdout",
     "output_type": "stream",
     "text": [
      "Epoch 230, Loss 0.0193\n",
      "Training Accuracy: 0.9782, Testing Accuracy: 0.9728\n",
      "\n"
     ]
    },
    {
     "name": "stdout",
     "output_type": "stream",
     "text": [
      "Epoch 240, Loss 0.0189\n",
      "Training Accuracy: 0.9786, Testing Accuracy: 0.9728\n",
      "\n"
     ]
    },
    {
     "data": {
      "text/plain": [
       "0.0028981409781574123"
      ]
     },
     "execution_count": 22,
     "metadata": {},
     "output_type": "execute_result"
    }
   ],
   "source": [
    "nn_learner.train_loop(dl)"
   ]
  },
  {
   "cell_type": "code",
   "execution_count": 23,
   "id": "e0163366",
   "metadata": {
    "execution": {
     "iopub.execute_input": "2022-03-24T00:34:06.790722Z",
     "iopub.status.busy": "2022-03-24T00:34:06.790098Z",
     "iopub.status.idle": "2022-03-24T00:34:22.248723Z",
     "shell.execute_reply": "2022-03-24T00:34:22.249580Z"
    },
    "papermill": {
     "duration": 15.507767,
     "end_time": "2022-03-24T00:34:22.249746",
     "exception": false,
     "start_time": "2022-03-24T00:34:06.741979",
     "status": "completed"
    },
    "tags": []
   },
   "outputs": [
    {
     "name": "stdout",
     "output_type": "stream",
     "text": [
      "Epoch 0, Loss 0.2538\n",
      "Training Accuracy: 0.6272, Testing Accuracy: 0.6134\n",
      "\n"
     ]
    },
    {
     "name": "stdout",
     "output_type": "stream",
     "text": [
      "Epoch 10, Loss 0.1022\n",
      "Training Accuracy: 0.9155, Testing Accuracy: 0.9234\n",
      "\n"
     ]
    },
    {
     "name": "stdout",
     "output_type": "stream",
     "text": [
      "Epoch 20, Loss 0.0777\n",
      "Training Accuracy: 0.9325, Testing Accuracy: 0.9420\n",
      "\n"
     ]
    },
    {
     "name": "stdout",
     "output_type": "stream",
     "text": [
      "Epoch 30, Loss 0.0669\n",
      "Training Accuracy: 0.9398, Testing Accuracy: 0.9506\n",
      "\n"
     ]
    },
    {
     "name": "stdout",
     "output_type": "stream",
     "text": [
      "Epoch 40, Loss 0.0605\n",
      "Training Accuracy: 0.9447, Testing Accuracy: 0.9531\n",
      "\n"
     ]
    },
    {
     "name": "stdout",
     "output_type": "stream",
     "text": [
      "Epoch 50, Loss 0.0562\n",
      "Training Accuracy: 0.9478, Testing Accuracy: 0.9541\n",
      "\n"
     ]
    },
    {
     "name": "stdout",
     "output_type": "stream",
     "text": [
      "Epoch 60, Loss 0.053\n",
      "Training Accuracy: 0.9503, Testing Accuracy: 0.9567\n",
      "\n"
     ]
    },
    {
     "name": "stdout",
     "output_type": "stream",
     "text": [
      "Epoch 70, Loss 0.0506\n",
      "Training Accuracy: 0.9524, Testing Accuracy: 0.9597\n",
      "\n"
     ]
    },
    {
     "name": "stdout",
     "output_type": "stream",
     "text": [
      "Epoch 80, Loss 0.0486\n",
      "Training Accuracy: 0.9537, Testing Accuracy: 0.9622\n",
      "\n"
     ]
    },
    {
     "name": "stdout",
     "output_type": "stream",
     "text": [
      "Epoch 90, Loss 0.047\n",
      "Training Accuracy: 0.9541, Testing Accuracy: 0.9642\n",
      "\n"
     ]
    },
    {
     "name": "stdout",
     "output_type": "stream",
     "text": [
      "Epoch 100, Loss 0.0457\n",
      "Training Accuracy: 0.9547, Testing Accuracy: 0.9642\n",
      "\n"
     ]
    },
    {
     "name": "stdout",
     "output_type": "stream",
     "text": [
      "Epoch 110, Loss 0.0445\n",
      "Training Accuracy: 0.9559, Testing Accuracy: 0.9662\n",
      "\n"
     ]
    },
    {
     "name": "stdout",
     "output_type": "stream",
     "text": [
      "Epoch 120, Loss 0.0435\n",
      "Training Accuracy: 0.9568, Testing Accuracy: 0.9667\n",
      "\n"
     ]
    },
    {
     "name": "stdout",
     "output_type": "stream",
     "text": [
      "Epoch 130, Loss 0.0426\n",
      "Training Accuracy: 0.9569, Testing Accuracy: 0.9672\n",
      "\n"
     ]
    },
    {
     "name": "stdout",
     "output_type": "stream",
     "text": [
      "Epoch 140, Loss 0.0418\n",
      "Training Accuracy: 0.9577, Testing Accuracy: 0.9677\n",
      "\n"
     ]
    },
    {
     "name": "stdout",
     "output_type": "stream",
     "text": [
      "Epoch 150, Loss 0.0411\n",
      "Training Accuracy: 0.9583, Testing Accuracy: 0.9682\n",
      "\n"
     ]
    },
    {
     "name": "stdout",
     "output_type": "stream",
     "text": [
      "Epoch 160, Loss 0.0404\n",
      "Training Accuracy: 0.9584, Testing Accuracy: 0.9682\n",
      "\n"
     ]
    },
    {
     "name": "stdout",
     "output_type": "stream",
     "text": [
      "Epoch 170, Loss 0.0398\n",
      "Training Accuracy: 0.9587, Testing Accuracy: 0.9677\n",
      "\n"
     ]
    },
    {
     "name": "stdout",
     "output_type": "stream",
     "text": [
      "Epoch 180, Loss 0.0393\n",
      "Training Accuracy: 0.9589, Testing Accuracy: 0.9677\n",
      "\n"
     ]
    },
    {
     "name": "stdout",
     "output_type": "stream",
     "text": [
      "Epoch 190, Loss 0.0388\n",
      "Training Accuracy: 0.9594, Testing Accuracy: 0.9677\n",
      "\n"
     ]
    },
    {
     "name": "stdout",
     "output_type": "stream",
     "text": [
      "Epoch 200, Loss 0.0383\n",
      "Training Accuracy: 0.9599, Testing Accuracy: 0.9682\n",
      "\n"
     ]
    },
    {
     "name": "stdout",
     "output_type": "stream",
     "text": [
      "Epoch 210, Loss 0.0379\n",
      "Training Accuracy: 0.9603, Testing Accuracy: 0.9688\n",
      "\n"
     ]
    },
    {
     "name": "stdout",
     "output_type": "stream",
     "text": [
      "Epoch 220, Loss 0.0375\n",
      "Training Accuracy: 0.9605, Testing Accuracy: 0.9688\n",
      "\n"
     ]
    },
    {
     "name": "stdout",
     "output_type": "stream",
     "text": [
      "Epoch 230, Loss 0.0371\n",
      "Training Accuracy: 0.9609, Testing Accuracy: 0.9693\n",
      "\n"
     ]
    },
    {
     "name": "stdout",
     "output_type": "stream",
     "text": [
      "Epoch 240, Loss 0.0368\n",
      "Training Accuracy: 0.9612, Testing Accuracy: 0.9693\n",
      "\n"
     ]
    },
    {
     "data": {
      "text/plain": [
       "0.024351646920821285"
      ]
     },
     "execution_count": 23,
     "metadata": {},
     "output_type": "execute_result"
    }
   ],
   "source": [
    "lr_learner.train_loop(dl)"
   ]
  },
  {
   "cell_type": "code",
   "execution_count": 24,
   "id": "ca410940",
   "metadata": {
    "execution": {
     "iopub.execute_input": "2022-03-24T00:34:22.355313Z",
     "iopub.status.busy": "2022-03-24T00:34:22.354678Z",
     "iopub.status.idle": "2022-03-24T00:34:22.617860Z",
     "shell.execute_reply": "2022-03-24T00:34:22.617327Z"
    },
    "papermill": {
     "duration": 0.322465,
     "end_time": "2022-03-24T00:34:22.617997",
     "exception": false,
     "start_time": "2022-03-24T00:34:22.295532",
     "status": "completed"
    },
    "tags": []
   },
   "outputs": [
    {
     "data": {
      "text/plain": [
       "<matplotlib.legend.Legend at 0x7fee2e9cbd30>"
      ]
     },
     "execution_count": 24,
     "metadata": {},
     "output_type": "execute_result"
    },
    {
     "data": {
      "image/png": "[encoded data removed]",
      "text/plain": [
       "<Figure size 1080x720 with 1 Axes>"
      ]
     },
     "metadata": {
      "needs_background": "light"
     },
     "output_type": "display_data"
    }
   ],
   "source": [
    "#comparing the results of NN and LR\n",
    "plt.figure(figsize=(15,10))\n",
    "\n",
    "# Neural Network plots\n",
    "plt.plot(acc_nn.accuracies, 'r-', label = \"Training Accuracies - NN\")\n",
    "plt.plot(acc_nn.test_accuracies, 'g-', label = \"Testing Accuracies - NN\")\n",
    "\n",
    "# Logistic Regression plots\n",
    "plt.plot(acc_lr.accuracies, 'k-', label = \"Training Accuracies - LR\")\n",
    "plt.plot(acc_lr.test_accuracies, 'b-', label = \"Testing Accuracies - LR\")\n",
    "plt.legend()"
   ]
  },
  {
   "cell_type": "markdown",
   "id": "80dfb35c",
   "metadata": {
    "papermill": {
     "duration": 0.04772,
     "end_time": "2022-03-24T00:34:22.713156",
     "exception": false,
     "start_time": "2022-03-24T00:34:22.665436",
     "status": "completed"
    },
    "tags": []
   },
   "source": [
    "#### Plotting the outputs of this layer of the NN.\n"
   ]
  },
  {
   "cell_type": "code",
   "execution_count": 25,
   "id": "45eb2ff5",
   "metadata": {
    "execution": {
     "iopub.execute_input": "2022-03-24T00:34:22.811098Z",
     "iopub.status.busy": "2022-03-24T00:34:22.810002Z",
     "iopub.status.idle": "2022-03-24T00:34:22.833817Z",
     "shell.execute_reply": "2022-03-24T00:34:22.834309Z"
    },
    "papermill": {
     "duration": 0.075076,
     "end_time": "2022-03-24T00:34:22.834465",
     "exception": false,
     "start_time": "2022-03-24T00:34:22.759389",
     "status": "completed"
    },
    "tags": []
   },
   "outputs": [],
   "source": [
    "new_model = Model(layers[:-2])\n",
    "testing_plot = new_model(testing_data_x)"
   ]
  },
  {
   "cell_type": "code",
   "execution_count": 26,
   "id": "4c0a5485",
   "metadata": {
    "execution": {
     "iopub.execute_input": "2022-03-24T00:34:22.934477Z",
     "iopub.status.busy": "2022-03-24T00:34:22.933909Z",
     "iopub.status.idle": "2022-03-24T00:34:23.180766Z",
     "shell.execute_reply": "2022-03-24T00:34:23.181585Z"
    },
    "papermill": {
     "duration": 0.300044,
     "end_time": "2022-03-24T00:34:23.181865",
     "exception": false,
     "start_time": "2022-03-24T00:34:22.881821",
     "status": "completed"
    },
    "tags": []
   },
   "outputs": [
    {
     "data": {
      "text/plain": [
       "Text(0.5, 1.0, 'Outputs')"
      ]
     },
     "execution_count": 26,
     "metadata": {},
     "output_type": "execute_result"
    },
    {
     "data": {
      "image/png": "[encoded data removed]",
      "text/plain": [
       "<Figure size 576x504 with 1 Axes>"
      ]
     },
     "metadata": {
      "needs_background": "light"
     },
     "output_type": "display_data"
    }
   ],
   "source": [
    "# Plotting the scatter plot of points and color coding by class\n",
    "plt.figure(figsize=(8,7))\n",
    "plt.scatter(testing_plot[:,0], testing_plot[:,1], alpha = 0.1, c = y_test.ravel());\n",
    "plt.title('Outputs')"
   ]
  },
  {
   "cell_type": "markdown",
   "id": "a74fcf8f",
   "metadata": {
    "papermill": {
     "duration": 0.0498,
     "end_time": "2022-03-24T00:34:23.283039",
     "exception": false,
     "start_time": "2022-03-24T00:34:23.233239",
     "status": "completed"
    },
    "tags": []
   },
   "source": [
    "Probability contours"
   ]
  },
  {
   "cell_type": "code",
   "execution_count": 27,
   "id": "d0afc8e3",
   "metadata": {
    "execution": {
     "iopub.execute_input": "2022-03-24T00:34:23.417603Z",
     "iopub.status.busy": "2022-03-24T00:34:23.417008Z",
     "iopub.status.idle": "2022-03-24T00:34:23.430491Z",
     "shell.execute_reply": "2022-03-24T00:34:23.429972Z"
    },
    "papermill": {
     "duration": 0.097715,
     "end_time": "2022-03-24T00:34:23.430642",
     "exception": false,
     "start_time": "2022-03-24T00:34:23.332927",
     "status": "completed"
    },
    "tags": []
   },
   "outputs": [],
   "source": [
    "model_prob = Model(layers[-2:]) "
   ]
  },
  {
   "cell_type": "code",
   "execution_count": 28,
   "id": "9b96e238",
   "metadata": {
    "execution": {
     "iopub.execute_input": "2022-03-24T00:34:23.533473Z",
     "iopub.status.busy": "2022-03-24T00:34:23.532854Z",
     "iopub.status.idle": "2022-03-24T00:34:23.547432Z",
     "shell.execute_reply": "2022-03-24T00:34:23.547897Z"
    },
    "papermill": {
     "duration": 0.068963,
     "end_time": "2022-03-24T00:34:23.548052",
     "exception": false,
     "start_time": "2022-03-24T00:34:23.479089",
     "status": "completed"
    },
    "tags": []
   },
   "outputs": [],
   "source": [
    "#creating the x and y ranges according to the above generated plot.\n",
    "x_range = np.linspace(-4, 1, 100) \n",
    "y_range = np.linspace(-6, 6, 100) \n",
    "x_grid, y_grid = np.meshgrid(x_range, y_range) # x_grid and y_grig are of size 100 X 100\n",
    "\n",
    "# converting x_grid and y_grid to continuous arrays\n",
    "x_gridflat = np.ravel(x_grid)\n",
    "y_gridflat = np.ravel(y_grid)\n",
    "\n",
    "# The last layer of the current model takes two columns as input. Hence transpose of np.vstack() is required.\n",
    "X = np.vstack((x_gridflat, y_gridflat)).T\n",
    "\n",
    "prob_contour = model_prob(X).reshape(100,100) "
   ]
  },
  {
   "cell_type": "code",
   "execution_count": 29,
   "id": "da72499a",
   "metadata": {
    "execution": {
     "iopub.execute_input": "2022-03-24T00:34:23.663527Z",
     "iopub.status.busy": "2022-03-24T00:34:23.662922Z",
     "iopub.status.idle": "2022-03-24T00:34:23.938094Z",
     "shell.execute_reply": "2022-03-24T00:34:23.938558Z"
    },
    "papermill": {
     "duration": 0.334832,
     "end_time": "2022-03-24T00:34:23.938710",
     "exception": false,
     "start_time": "2022-03-24T00:34:23.603878",
     "status": "completed"
    },
    "tags": []
   },
   "outputs": [
    {
     "data": {
      "image/png": "[encoded data removed]",
      "text/plain": [
       "<Figure size 720x648 with 1 Axes>"
      ]
     },
     "metadata": {
      "needs_background": "light"
     },
     "output_type": "display_data"
    }
   ],
   "source": [
    "plt.figure(figsize=(10,9))\n",
    "plt.scatter(testing_plot[:,0], testing_plot[:,1], alpha = 0.1, c = y_test.ravel())\n",
    "contours = plt.contour(x_grid,y_grid,prob_contour)\n",
    "plt.title('Probability Contours')\n",
    "plt.clabel(contours, inline = True );"
   ]
  },
  {
   "cell_type": "code",
   "execution_count": null,
   "id": "e81b4ac7",
   "metadata": {
    "papermill": {
     "duration": 0.051904,
     "end_time": "2022-03-24T00:34:24.043429",
     "exception": false,
     "start_time": "2022-03-24T00:34:23.991525",
     "status": "completed"
    },
    "tags": []
   },
   "outputs": [],
   "source": []
  }
 ],
 "metadata": {
  "kernelspec": {
   "display_name": "Python 3",
   "language": "python",
   "name": "python3"
  },
  "language_info": {
   "codemirror_mode": {
    "name": "ipython",
    "version": 3
   },
   "file_extension": ".py",
   "mimetype": "text/x-python",
   "name": "python",
   "nbconvert_exporter": "python",
   "pygments_lexer": "ipython3",
   "version": "3.6.15"
  },
  "papermill": {
   "default_parameters": {},
   "duration": 109.688918,
   "end_time": "2022-03-24T00:34:24.516236",
   "environment_variables": {},
   "exception": null,
   "input_path": "2020-08-11-part2.ipynb",
   "output_path": "2020-08-11-part2.ipynb",
   "parameters": {},
   "start_time": "2022-03-24T00:32:34.827318",
   "version": "2.3.3"
  }
 },
 "nbformat": 4,
 "nbformat_minor": 5
}