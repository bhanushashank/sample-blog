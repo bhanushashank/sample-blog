{
 "cells": [
  {
   "cell_type": "markdown",
   "id": "98380cd3",
   "metadata": {
    "papermill": {
     "duration": 0.034646,
     "end_time": "2022-07-12T00:42:04.120191",
     "exception": false,
     "start_time": "2022-07-12T00:42:04.085545",
     "status": "completed"
    },
    "tags": []
   },
   "source": [
    "# Distinguish Your Own Digits (DYOD)"
   ]
  },
  {
   "cell_type": "markdown",
   "id": "ef31240d",
   "metadata": {
    "papermill": {
     "duration": 0.028858,
     "end_time": "2022-07-12T00:42:04.178541",
     "exception": false,
     "start_time": "2022-07-12T00:42:04.149683",
     "status": "completed"
    },
    "tags": []
   },
   "source": [
    "You are going to write a classifier that distinguishes between the number 3 and number 8."
   ]
  },
  {
   "cell_type": "code",
   "execution_count": 1,
   "id": "b15c8646",
   "metadata": {
    "execution": {
     "iopub.execute_input": "2022-07-12T00:42:04.247443Z",
     "iopub.status.busy": "2022-07-12T00:42:04.246680Z",
     "iopub.status.idle": "2022-07-12T00:42:04.260577Z",
     "shell.execute_reply": "2022-07-12T00:42:04.259973Z"
    },
    "papermill": {
     "duration": 0.054497,
     "end_time": "2022-07-12T00:42:04.260726",
     "exception": false,
     "start_time": "2022-07-12T00:42:04.206229",
     "status": "completed"
    },
    "tags": []
   },
   "outputs": [],
   "source": [
    "%load_ext autoreload\n",
    "%autoreload 2"
   ]
  },
  {
   "cell_type": "code",
   "execution_count": 2,
   "id": "22ef38dc",
   "metadata": {
    "execution": {
     "iopub.execute_input": "2022-07-12T00:42:04.321945Z",
     "iopub.status.busy": "2022-07-12T00:42:04.321242Z",
     "iopub.status.idle": "2022-07-12T00:42:04.973638Z",
     "shell.execute_reply": "2022-07-12T00:42:04.973008Z"
    },
    "papermill": {
     "duration": 0.685366,
     "end_time": "2022-07-12T00:42:04.973774",
     "exception": false,
     "start_time": "2022-07-12T00:42:04.288408",
     "status": "completed"
    },
    "tags": []
   },
   "outputs": [],
   "source": [
    "%matplotlib inline\n",
    "import numpy as np\n",
    "import matplotlib.pyplot as plt\n",
    "import pandas as pd"
   ]
  },
  {
   "cell_type": "markdown",
   "id": "ba036198",
   "metadata": {
    "papermill": {
     "duration": 0.0285,
     "end_time": "2022-07-12T00:42:05.030956",
     "exception": false,
     "start_time": "2022-07-12T00:42:05.002456",
     "status": "completed"
    },
    "tags": []
   },
   "source": [
    "From the command line run `pip install mnist`. This is a library that will help you bring down the mnist dataset. If you run this from a notebook, you need to put  `!pip install mnist` in a cell by itself."
   ]
  },
  {
   "cell_type": "code",
   "execution_count": 3,
   "id": "bb6ad8a1",
   "metadata": {
    "execution": {
     "iopub.execute_input": "2022-07-12T00:42:05.091617Z",
     "iopub.status.busy": "2022-07-12T00:42:05.090895Z",
     "iopub.status.idle": "2022-07-12T00:42:07.164919Z",
     "shell.execute_reply": "2022-07-12T00:42:07.165465Z"
    },
    "papermill": {
     "duration": 2.107251,
     "end_time": "2022-07-12T00:42:07.165638",
     "exception": false,
     "start_time": "2022-07-12T00:42:05.058387",
     "status": "completed"
    },
    "tags": []
   },
   "outputs": [
    {
     "name": "stdout",
     "output_type": "stream",
     "text": [
      "Collecting mnist\r\n",
      "  Downloading mnist-0.2.2-py2.py3-none-any.whl (3.5 kB)\r\n"
     ]
    },
    {
     "name": "stdout",
     "output_type": "stream",
     "text": [
      "Requirement already satisfied: numpy in /opt/hostedtoolcache/Python/3.6.15/x64/lib/python3.6/site-packages (from mnist) (1.19.5)\r\n"
     ]
    },
    {
     "name": "stdout",
     "output_type": "stream",
     "text": [
      "Installing collected packages: mnist\r\n",
      "Successfully installed mnist-0.2.2\r\n"
     ]
    }
   ],
   "source": [
    "!pip install mnist"
   ]
  },
  {
   "cell_type": "markdown",
   "id": "69df9c9a",
   "metadata": {
    "papermill": {
     "duration": 0.029678,
     "end_time": "2022-07-12T00:42:07.224492",
     "exception": false,
     "start_time": "2022-07-12T00:42:07.194814",
     "status": "completed"
    },
    "tags": []
   },
   "source": [
    "## Preparing the Data"
   ]
  },
  {
   "cell_type": "code",
   "execution_count": 4,
   "id": "7f69d806",
   "metadata": {
    "execution": {
     "iopub.execute_input": "2022-07-12T00:42:07.288831Z",
     "iopub.status.busy": "2022-07-12T00:42:07.288049Z",
     "iopub.status.idle": "2022-07-12T00:42:07.306563Z",
     "shell.execute_reply": "2022-07-12T00:42:07.307115Z"
    },
    "papermill": {
     "duration": 0.053155,
     "end_time": "2022-07-12T00:42:07.307283",
     "exception": false,
     "start_time": "2022-07-12T00:42:07.254128",
     "status": "completed"
    },
    "tags": []
   },
   "outputs": [],
   "source": [
    "import mnist"
   ]
  },
  {
   "cell_type": "code",
   "execution_count": 5,
   "id": "a411e44f",
   "metadata": {
    "execution": {
     "iopub.execute_input": "2022-07-12T00:42:07.372475Z",
     "iopub.status.busy": "2022-07-12T00:42:07.371766Z",
     "iopub.status.idle": "2022-07-12T00:42:08.036736Z",
     "shell.execute_reply": "2022-07-12T00:42:08.035965Z"
    },
    "papermill": {
     "duration": 0.701476,
     "end_time": "2022-07-12T00:42:08.037024",
     "exception": false,
     "start_time": "2022-07-12T00:42:07.335548",
     "status": "completed"
    },
    "tags": []
   },
   "outputs": [],
   "source": [
    "train_images = mnist.train_images()\n",
    "train_labels = mnist.train_labels()"
   ]
  },
  {
   "cell_type": "code",
   "execution_count": 6,
   "id": "dceab3a5",
   "metadata": {
    "execution": {
     "iopub.execute_input": "2022-07-12T00:42:08.105479Z",
     "iopub.status.busy": "2022-07-12T00:42:08.104758Z",
     "iopub.status.idle": "2022-07-12T00:42:08.123226Z",
     "shell.execute_reply": "2022-07-12T00:42:08.124099Z"
    },
    "papermill": {
     "duration": 0.054463,
     "end_time": "2022-07-12T00:42:08.124279",
     "exception": false,
     "start_time": "2022-07-12T00:42:08.069816",
     "status": "completed"
    },
    "tags": []
   },
   "outputs": [
    {
     "data": {
      "text/plain": [
       "((60000, 28, 28), (60000,))"
      ]
     },
     "execution_count": 6,
     "metadata": {},
     "output_type": "execute_result"
    }
   ],
   "source": [
    "train_images.shape, train_labels.shape"
   ]
  },
  {
   "cell_type": "code",
   "execution_count": 7,
   "id": "f50dc2bb",
   "metadata": {
    "execution": {
     "iopub.execute_input": "2022-07-12T00:42:08.191669Z",
     "iopub.status.busy": "2022-07-12T00:42:08.190468Z",
     "iopub.status.idle": "2022-07-12T00:42:08.439725Z",
     "shell.execute_reply": "2022-07-12T00:42:08.438318Z"
    },
    "papermill": {
     "duration": 0.28411,
     "end_time": "2022-07-12T00:42:08.439875",
     "exception": false,
     "start_time": "2022-07-12T00:42:08.155765",
     "status": "completed"
    },
    "tags": []
   },
   "outputs": [],
   "source": [
    "test_images = mnist.test_images()\n",
    "test_labels = mnist.test_labels()"
   ]
  },
  {
   "cell_type": "code",
   "execution_count": 8,
   "id": "fc38cf1b",
   "metadata": {
    "execution": {
     "iopub.execute_input": "2022-07-12T00:42:08.502018Z",
     "iopub.status.busy": "2022-07-12T00:42:08.501311Z",
     "iopub.status.idle": "2022-07-12T00:42:08.517084Z",
     "shell.execute_reply": "2022-07-12T00:42:08.517651Z"
    },
    "papermill": {
     "duration": 0.049235,
     "end_time": "2022-07-12T00:42:08.517811",
     "exception": false,
     "start_time": "2022-07-12T00:42:08.468576",
     "status": "completed"
    },
    "tags": []
   },
   "outputs": [
    {
     "data": {
      "text/plain": [
       "((10000, 28, 28), (10000,))"
      ]
     },
     "execution_count": 8,
     "metadata": {},
     "output_type": "execute_result"
    }
   ],
   "source": [
    "test_images.shape, test_labels.shape"
   ]
  },
  {
   "cell_type": "code",
   "execution_count": 9,
   "id": "f9ed8fe0",
   "metadata": {
    "execution": {
     "iopub.execute_input": "2022-07-12T00:42:08.580284Z",
     "iopub.status.busy": "2022-07-12T00:42:08.579579Z",
     "iopub.status.idle": "2022-07-12T00:42:08.764377Z",
     "shell.execute_reply": "2022-07-12T00:42:08.764907Z"
    },
    "papermill": {
     "duration": 0.218642,
     "end_time": "2022-07-12T00:42:08.765066",
     "exception": false,
     "start_time": "2022-07-12T00:42:08.546424",
     "status": "completed"
    },
    "tags": []
   },
   "outputs": [
    {
     "name": "stdout",
     "output_type": "stream",
     "text": [
      "2\n"
     ]
    },
    {
     "data": {
      "text/plain": [
       "<matplotlib.image.AxesImage at 0x7fece6a044a8>"
      ]
     },
     "execution_count": 9,
     "metadata": {},
     "output_type": "execute_result"
    },
    {
     "data": {
      "image/png": "[encoded data removed]",
      "text/plain": [
       "<Figure size 432x288 with 1 Axes>"
      ]
     },
     "metadata": {
      "needs_background": "light"
     },
     "output_type": "display_data"
    }
   ],
   "source": [
    "image_index = 7776 # You may select anything up to 60,000\n",
    "print(train_labels[image_index]) \n",
    "plt.imshow(train_images[image_index], cmap='Greys')"
   ]
  },
  {
   "cell_type": "markdown",
   "id": "a8d2388d",
   "metadata": {
    "papermill": {
     "duration": 0.031438,
     "end_time": "2022-07-12T00:42:08.827014",
     "exception": false,
     "start_time": "2022-07-12T00:42:08.795576",
     "status": "completed"
    },
    "tags": []
   },
   "source": [
    "## Filter data to get 3 and 8 out"
   ]
  },
  {
   "cell_type": "code",
   "execution_count": 10,
   "id": "776f7fc7",
   "metadata": {
    "execution": {
     "iopub.execute_input": "2022-07-12T00:42:08.896684Z",
     "iopub.status.busy": "2022-07-12T00:42:08.895922Z",
     "iopub.status.idle": "2022-07-12T00:42:08.917645Z",
     "shell.execute_reply": "2022-07-12T00:42:08.917016Z"
    },
    "papermill": {
     "duration": 0.06023,
     "end_time": "2022-07-12T00:42:08.917783",
     "exception": false,
     "start_time": "2022-07-12T00:42:08.857553",
     "status": "completed"
    },
    "tags": []
   },
   "outputs": [],
   "source": [
    "train_filter = np.where((train_labels == 3 ) | (train_labels == 8))\n",
    "test_filter = np.where((test_labels == 3) | (test_labels == 8))\n",
    "X_train, y_train = train_images[train_filter], train_labels[train_filter]\n",
    "X_test, y_test = test_images[test_filter], test_labels[test_filter]"
   ]
  },
  {
   "cell_type": "markdown",
   "id": "948f0b7e",
   "metadata": {
    "papermill": {
     "duration": 0.030481,
     "end_time": "2022-07-12T00:42:08.983778",
     "exception": false,
     "start_time": "2022-07-12T00:42:08.953297",
     "status": "completed"
    },
    "tags": []
   },
   "source": [
    "We normalize the pizel values in the 0 to 1 range"
   ]
  },
  {
   "cell_type": "code",
   "execution_count": 11,
   "id": "ee4c2166",
   "metadata": {
    "execution": {
     "iopub.execute_input": "2022-07-12T00:42:09.059802Z",
     "iopub.status.busy": "2022-07-12T00:42:09.056121Z",
     "iopub.status.idle": "2022-07-12T00:42:09.110203Z",
     "shell.execute_reply": "2022-07-12T00:42:09.110966Z"
    },
    "papermill": {
     "duration": 0.091661,
     "end_time": "2022-07-12T00:42:09.111179",
     "exception": false,
     "start_time": "2022-07-12T00:42:09.019518",
     "status": "completed"
    },
    "tags": []
   },
   "outputs": [],
   "source": [
    "X_train = X_train/255.\n",
    "X_test = X_test/255."
   ]
  },
  {
   "cell_type": "markdown",
   "id": "ddcf4fab",
   "metadata": {
    "papermill": {
     "duration": 0.031495,
     "end_time": "2022-07-12T00:42:09.174517",
     "exception": false,
     "start_time": "2022-07-12T00:42:09.143022",
     "status": "completed"
    },
    "tags": []
   },
   "source": [
    "And setup the labels as 1 (when the digit is 3) and 0 (when the digit is 8)"
   ]
  },
  {
   "cell_type": "code",
   "execution_count": 12,
   "id": "7dc908f2",
   "metadata": {
    "execution": {
     "iopub.execute_input": "2022-07-12T00:42:09.244168Z",
     "iopub.status.busy": "2022-07-12T00:42:09.240854Z",
     "iopub.status.idle": "2022-07-12T00:42:09.256225Z",
     "shell.execute_reply": "2022-07-12T00:42:09.255648Z"
    },
    "papermill": {
     "duration": 0.051358,
     "end_time": "2022-07-12T00:42:09.256572",
     "exception": false,
     "start_time": "2022-07-12T00:42:09.205214",
     "status": "completed"
    },
    "tags": []
   },
   "outputs": [],
   "source": [
    "y_train = 1*(y_train==3)\n",
    "y_test = 1*(y_test==3)"
   ]
  },
  {
   "cell_type": "code",
   "execution_count": 13,
   "id": "01e4e969",
   "metadata": {
    "execution": {
     "iopub.execute_input": "2022-07-12T00:42:09.324235Z",
     "iopub.status.busy": "2022-07-12T00:42:09.323509Z",
     "iopub.status.idle": "2022-07-12T00:42:09.337739Z",
     "shell.execute_reply": "2022-07-12T00:42:09.338278Z"
    },
    "papermill": {
     "duration": 0.051321,
     "end_time": "2022-07-12T00:42:09.338457",
     "exception": false,
     "start_time": "2022-07-12T00:42:09.287136",
     "status": "completed"
    },
    "tags": []
   },
   "outputs": [
    {
     "data": {
      "text/plain": [
       "((11982, 28, 28), (1984, 28, 28))"
      ]
     },
     "execution_count": 13,
     "metadata": {},
     "output_type": "execute_result"
    }
   ],
   "source": [
    "X_train.shape, X_test.shape"
   ]
  },
  {
   "cell_type": "markdown",
   "id": "5ccf3f85",
   "metadata": {
    "papermill": {
     "duration": 0.030152,
     "end_time": "2022-07-12T00:42:09.398829",
     "exception": false,
     "start_time": "2022-07-12T00:42:09.368677",
     "status": "completed"
    },
    "tags": []
   },
   "source": [
    "We reshape the data to flatten the image pixels into a set of features or co-variates:"
   ]
  },
  {
   "cell_type": "code",
   "execution_count": 14,
   "id": "5286a4a3",
   "metadata": {
    "execution": {
     "iopub.execute_input": "2022-07-12T00:42:09.465856Z",
     "iopub.status.busy": "2022-07-12T00:42:09.464321Z",
     "iopub.status.idle": "2022-07-12T00:42:09.484151Z",
     "shell.execute_reply": "2022-07-12T00:42:09.482830Z"
    },
    "papermill": {
     "duration": 0.054971,
     "end_time": "2022-07-12T00:42:09.484311",
     "exception": false,
     "start_time": "2022-07-12T00:42:09.429340",
     "status": "completed"
    },
    "tags": []
   },
   "outputs": [
    {
     "data": {
      "text/plain": [
       "((11982, 784), (1984, 784))"
      ]
     },
     "execution_count": 14,
     "metadata": {},
     "output_type": "execute_result"
    }
   ],
   "source": [
    "X_train = X_train.reshape(X_train.shape[0], -1)\n",
    "X_test = X_test.reshape(X_test.shape[0], -1)\n",
    "X_train.shape, X_test.shape"
   ]
  },
  {
   "cell_type": "code",
   "execution_count": 15,
   "id": "73c5f88a",
   "metadata": {
    "execution": {
     "iopub.execute_input": "2022-07-12T00:42:09.553459Z",
     "iopub.status.busy": "2022-07-12T00:42:09.552736Z",
     "iopub.status.idle": "2022-07-12T00:42:09.576679Z",
     "shell.execute_reply": "2022-07-12T00:42:09.576111Z"
    },
    "papermill": {
     "duration": 0.061515,
     "end_time": "2022-07-12T00:42:09.576818",
     "exception": false,
     "start_time": "2022-07-12T00:42:09.515303",
     "status": "completed"
    },
    "tags": []
   },
   "outputs": [],
   "source": [
    "#Impoting functions from 'Kudzu'\n",
    "from kudzu.model import Model\n",
    "from kudzu.train import Learner\n",
    "from kudzu.optim import GD\n",
    "from kudzu.data import Data, Sampler,Dataloader\n",
    "\n",
    "from kudzu.callbacks import AccCallback\n",
    "from kudzu.callbacks import ClfCallback\n",
    "\n",
    "from kudzu.loss import MSE\n",
    "\n",
    "from kudzu.layer import Sigmoid,Relu\n",
    "from kudzu.layer import Affine"
   ]
  },
  {
   "cell_type": "markdown",
   "id": "bc01172a",
   "metadata": {
    "papermill": {
     "duration": 0.031033,
     "end_time": "2022-07-12T00:42:09.638583",
     "exception": false,
     "start_time": "2022-07-12T00:42:09.607550",
     "status": "completed"
    },
    "tags": []
   },
   "source": [
    "### Let us create a `Config` class, to store important parameters. \n",
    "This class essentially plays the role of a dictionary."
   ]
  },
  {
   "cell_type": "code",
   "execution_count": 16,
   "id": "978281aa",
   "metadata": {
    "execution": {
     "iopub.execute_input": "2022-07-12T00:42:09.705753Z",
     "iopub.status.busy": "2022-07-12T00:42:09.704886Z",
     "iopub.status.idle": "2022-07-12T00:42:09.723689Z",
     "shell.execute_reply": "2022-07-12T00:42:09.724256Z"
    },
    "papermill": {
     "duration": 0.05532,
     "end_time": "2022-07-12T00:42:09.724418",
     "exception": false,
     "start_time": "2022-07-12T00:42:09.669098",
     "status": "completed"
    },
    "tags": []
   },
   "outputs": [],
   "source": [
    "class Config:\n",
    "    pass\n",
    "config = Config()\n",
    "config.lr = 0.001\n",
    "config.num_epochs = 250\n",
    "config.bs = 50"
   ]
  },
  {
   "cell_type": "markdown",
   "id": "1385fa59",
   "metadata": {
    "papermill": {
     "duration": 0.030268,
     "end_time": "2022-07-12T00:42:09.785513",
     "exception": false,
     "start_time": "2022-07-12T00:42:09.755245",
     "status": "completed"
    },
    "tags": []
   },
   "source": [
    "### Running Models with the Training data\n",
    "Details about the network layers:\n",
    "- A first affine layer has 784 inputs and does 100 affine transforms. These are followed by a Relu\n",
    "- A second affine layer has 100 inputs from the 100 activations of the past layer, and does 100 affine transforms. These are followed by a Relu\n",
    "- A third affine layer has 100 activations and does 2 affine transformations to create an embedding for visualization. There is no non-linearity here.\n",
    "- A final \"logistic regression\" which has an affine transform from 2 inputs to 1 output, which is squeezed through a sigmoid.\n"
   ]
  },
  {
   "cell_type": "code",
   "execution_count": 17,
   "id": "2b9c66db",
   "metadata": {
    "execution": {
     "iopub.execute_input": "2022-07-12T00:42:09.851478Z",
     "iopub.status.busy": "2022-07-12T00:42:09.850726Z",
     "iopub.status.idle": "2022-07-12T00:42:09.866387Z",
     "shell.execute_reply": "2022-07-12T00:42:09.865693Z"
    },
    "papermill": {
     "duration": 0.050583,
     "end_time": "2022-07-12T00:42:09.866570",
     "exception": false,
     "start_time": "2022-07-12T00:42:09.815987",
     "status": "completed"
    },
    "tags": []
   },
   "outputs": [],
   "source": [
    "data = Data(X_train, y_train.reshape(-1,1))\n",
    "sampler = Sampler(data, config.bs, shuffle=True)\n",
    "\n",
    "dl = Dataloader(data, sampler)\n",
    "\n",
    "opt = GD(config.lr)\n",
    "loss = MSE()"
   ]
  },
  {
   "cell_type": "code",
   "execution_count": 18,
   "id": "b275e4c2",
   "metadata": {
    "execution": {
     "iopub.execute_input": "2022-07-12T00:42:09.935566Z",
     "iopub.status.busy": "2022-07-12T00:42:09.934825Z",
     "iopub.status.idle": "2022-07-12T00:42:09.949768Z",
     "shell.execute_reply": "2022-07-12T00:42:09.949178Z"
    },
    "papermill": {
     "duration": 0.052104,
     "end_time": "2022-07-12T00:42:09.949908",
     "exception": false,
     "start_time": "2022-07-12T00:42:09.897804",
     "status": "completed"
    },
    "tags": []
   },
   "outputs": [],
   "source": [
    "training_data_x = X_train\n",
    "testing_data_x = X_test\n",
    "training_data_y = y_train.reshape(-1,1)\n",
    "testing_data_y = y_test.reshape(-1,1)"
   ]
  },
  {
   "cell_type": "code",
   "execution_count": 19,
   "id": "76951160",
   "metadata": {
    "execution": {
     "iopub.execute_input": "2022-07-12T00:42:10.018604Z",
     "iopub.status.busy": "2022-07-12T00:42:10.017809Z",
     "iopub.status.idle": "2022-07-12T00:42:10.036254Z",
     "shell.execute_reply": "2022-07-12T00:42:10.035570Z"
    },
    "papermill": {
     "duration": 0.055498,
     "end_time": "2022-07-12T00:42:10.036392",
     "exception": false,
     "start_time": "2022-07-12T00:42:09.980894",
     "status": "completed"
    },
    "tags": []
   },
   "outputs": [
    {
     "name": "stdout",
     "output_type": "stream",
     "text": [
      "xavier\n",
      "xavier\n",
      "xavier\n",
      "xavier\n",
      "xavier\n"
     ]
    }
   ],
   "source": [
    "layers = [Affine(\"first\", 784, 100), Relu(\"first\"), Affine(\"second\", 100, 100), Relu(\"second\"), Affine(\"third\", 100, 2), Affine(\"last\", 2, 1), Sigmoid(\"last\")]\n",
    "model_nn = Model(layers)\n",
    "model_lr = Model([Affine(\"logits\", 784, 1), Sigmoid(\"sigmoid\")])"
   ]
  },
  {
   "cell_type": "code",
   "execution_count": 20,
   "id": "6eede77a",
   "metadata": {
    "execution": {
     "iopub.execute_input": "2022-07-12T00:42:10.107741Z",
     "iopub.status.busy": "2022-07-12T00:42:10.107011Z",
     "iopub.status.idle": "2022-07-12T00:42:10.124457Z",
     "shell.execute_reply": "2022-07-12T00:42:10.123829Z"
    },
    "papermill": {
     "duration": 0.054225,
     "end_time": "2022-07-12T00:42:10.124595",
     "exception": false,
     "start_time": "2022-07-12T00:42:10.070370",
     "status": "completed"
    },
    "tags": []
   },
   "outputs": [],
   "source": [
    "nn_learner = Learner(loss, model_nn, opt, config.num_epochs)\n",
    "acc_nn = ClfCallback(nn_learner, config.bs, training_data_x , testing_data_x, training_data_y, testing_data_y)\n",
    "nn_learner.set_callbacks([acc_nn])"
   ]
  },
  {
   "cell_type": "code",
   "execution_count": 21,
   "id": "877b6cc7",
   "metadata": {
    "execution": {
     "iopub.execute_input": "2022-07-12T00:42:10.196349Z",
     "iopub.status.busy": "2022-07-12T00:42:10.195647Z",
     "iopub.status.idle": "2022-07-12T00:42:10.210356Z",
     "shell.execute_reply": "2022-07-12T00:42:10.211101Z"
    },
    "papermill": {
     "duration": 0.052041,
     "end_time": "2022-07-12T00:42:10.211350",
     "exception": false,
     "start_time": "2022-07-12T00:42:10.159309",
     "status": "completed"
    },
    "tags": []
   },
   "outputs": [],
   "source": [
    "lr_learner = Learner(loss, model_lr, opt, config.num_epochs)\n",
    "acc_lr = ClfCallback(lr_learner, config.bs, training_data_x , testing_data_x, training_data_y, testing_data_y)\n",
    "lr_learner.set_callbacks([acc_lr])"
   ]
  },
  {
   "cell_type": "code",
   "execution_count": 22,
   "id": "d9b133c3",
   "metadata": {
    "execution": {
     "iopub.execute_input": "2022-07-12T00:42:10.279035Z",
     "iopub.status.busy": "2022-07-12T00:42:10.278220Z",
     "iopub.status.idle": "2022-07-12T00:43:41.537761Z",
     "shell.execute_reply": "2022-07-12T00:43:41.538761Z"
    },
    "papermill": {
     "duration": 91.295426,
     "end_time": "2022-07-12T00:43:41.538937",
     "exception": false,
     "start_time": "2022-07-12T00:42:10.243511",
     "status": "completed"
    },
    "tags": []
   },
   "outputs": [
    {
     "name": "stdout",
     "output_type": "stream",
     "text": [
      "Epoch 0, Loss 0.2592\n",
      "Training Accuracy: 0.4837, Testing Accuracy: 0.4803\n",
      "\n"
     ]
    },
    {
     "name": "stdout",
     "output_type": "stream",
     "text": [
      "Epoch 10, Loss 0.1644\n",
      "Training Accuracy: 0.8841, Testing Accuracy: 0.8987\n",
      "\n"
     ]
    },
    {
     "name": "stdout",
     "output_type": "stream",
     "text": [
      "Epoch 20, Loss 0.0838\n",
      "Training Accuracy: 0.9165, Testing Accuracy: 0.9309\n",
      "\n"
     ]
    },
    {
     "name": "stdout",
     "output_type": "stream",
     "text": [
      "Epoch 30, Loss 0.0577\n",
      "Training Accuracy: 0.9377, Testing Accuracy: 0.9466\n",
      "\n"
     ]
    },
    {
     "name": "stdout",
     "output_type": "stream",
     "text": [
      "Epoch 40, Loss 0.0463\n",
      "Training Accuracy: 0.9481, Testing Accuracy: 0.9587\n",
      "\n"
     ]
    },
    {
     "name": "stdout",
     "output_type": "stream",
     "text": [
      "Epoch 50, Loss 0.0402\n",
      "Training Accuracy: 0.9546, Testing Accuracy: 0.9647\n",
      "\n"
     ]
    },
    {
     "name": "stdout",
     "output_type": "stream",
     "text": [
      "Epoch 60, Loss 0.0364\n",
      "Training Accuracy: 0.9584, Testing Accuracy: 0.9677\n",
      "\n"
     ]
    },
    {
     "name": "stdout",
     "output_type": "stream",
     "text": [
      "Epoch 70, Loss 0.0338\n",
      "Training Accuracy: 0.9615, Testing Accuracy: 0.9682\n",
      "\n"
     ]
    },
    {
     "name": "stdout",
     "output_type": "stream",
     "text": [
      "Epoch 80, Loss 0.0319\n",
      "Training Accuracy: 0.9632, Testing Accuracy: 0.9693\n",
      "\n"
     ]
    },
    {
     "name": "stdout",
     "output_type": "stream",
     "text": [
      "Epoch 90, Loss 0.0303\n",
      "Training Accuracy: 0.9649, Testing Accuracy: 0.9698\n",
      "\n"
     ]
    },
    {
     "name": "stdout",
     "output_type": "stream",
     "text": [
      "Epoch 100, Loss 0.0291\n",
      "Training Accuracy: 0.9668, Testing Accuracy: 0.9693\n",
      "\n"
     ]
    },
    {
     "name": "stdout",
     "output_type": "stream",
     "text": [
      "Epoch 110, Loss 0.0281\n",
      "Training Accuracy: 0.9675, Testing Accuracy: 0.9713\n",
      "\n"
     ]
    },
    {
     "name": "stdout",
     "output_type": "stream",
     "text": [
      "Epoch 120, Loss 0.0272\n",
      "Training Accuracy: 0.9686, Testing Accuracy: 0.9718\n",
      "\n"
     ]
    },
    {
     "name": "stdout",
     "output_type": "stream",
     "text": [
      "Epoch 130, Loss 0.0264\n",
      "Training Accuracy: 0.9694, Testing Accuracy: 0.9723\n",
      "\n"
     ]
    },
    {
     "name": "stdout",
     "output_type": "stream",
     "text": [
      "Epoch 140, Loss 0.0257\n",
      "Training Accuracy: 0.9699, Testing Accuracy: 0.9723\n",
      "\n"
     ]
    },
    {
     "name": "stdout",
     "output_type": "stream",
     "text": [
      "Epoch 150, Loss 0.025\n",
      "Training Accuracy: 0.9713, Testing Accuracy: 0.9713\n",
      "\n"
     ]
    },
    {
     "name": "stdout",
     "output_type": "stream",
     "text": [
      "Epoch 160, Loss 0.0245\n",
      "Training Accuracy: 0.9721, Testing Accuracy: 0.9713\n",
      "\n"
     ]
    },
    {
     "name": "stdout",
     "output_type": "stream",
     "text": [
      "Epoch 170, Loss 0.0239\n",
      "Training Accuracy: 0.9728, Testing Accuracy: 0.9713\n",
      "\n"
     ]
    },
    {
     "name": "stdout",
     "output_type": "stream",
     "text": [
      "Epoch 180, Loss 0.0234\n",
      "Training Accuracy: 0.9730, Testing Accuracy: 0.9708\n",
      "\n"
     ]
    },
    {
     "name": "stdout",
     "output_type": "stream",
     "text": [
      "Epoch 190, Loss 0.023\n",
      "Training Accuracy: 0.9735, Testing Accuracy: 0.9708\n",
      "\n"
     ]
    },
    {
     "name": "stdout",
     "output_type": "stream",
     "text": [
      "Epoch 200, Loss 0.0225\n",
      "Training Accuracy: 0.9739, Testing Accuracy: 0.9718\n",
      "\n"
     ]
    },
    {
     "name": "stdout",
     "output_type": "stream",
     "text": [
      "Epoch 210, Loss 0.0221\n",
      "Training Accuracy: 0.9740, Testing Accuracy: 0.9728\n",
      "\n"
     ]
    },
    {
     "name": "stdout",
     "output_type": "stream",
     "text": [
      "Epoch 220, Loss 0.0218\n",
      "Training Accuracy: 0.9743, Testing Accuracy: 0.9728\n",
      "\n"
     ]
    },
    {
     "name": "stdout",
     "output_type": "stream",
     "text": [
      "Epoch 230, Loss 0.0214\n",
      "Training Accuracy: 0.9748, Testing Accuracy: 0.9728\n",
      "\n"
     ]
    },
    {
     "name": "stdout",
     "output_type": "stream",
     "text": [
      "Epoch 240, Loss 0.021\n",
      "Training Accuracy: 0.9750, Testing Accuracy: 0.9733\n",
      "\n"
     ]
    },
    {
     "data": {
      "text/plain": [
       "0.02459884769711633"
      ]
     },
     "execution_count": 22,
     "metadata": {},
     "output_type": "execute_result"
    }
   ],
   "source": [
    "nn_learner.train_loop(dl)"
   ]
  },
  {
   "cell_type": "code",
   "execution_count": 23,
   "id": "e0163366",
   "metadata": {
    "execution": {
     "iopub.execute_input": "2022-07-12T00:43:41.628408Z",
     "iopub.status.busy": "2022-07-12T00:43:41.627639Z",
     "iopub.status.idle": "2022-07-12T00:43:59.139749Z",
     "shell.execute_reply": "2022-07-12T00:43:59.140733Z"
    },
    "papermill": {
     "duration": 17.562264,
     "end_time": "2022-07-12T00:43:59.140897",
     "exception": false,
     "start_time": "2022-07-12T00:43:41.578633",
     "status": "completed"
    },
    "tags": []
   },
   "outputs": [
    {
     "name": "stdout",
     "output_type": "stream",
     "text": [
      "Epoch 0, Loss 0.2394\n",
      "Training Accuracy: 0.6994, Testing Accuracy: 0.7087\n",
      "\n"
     ]
    },
    {
     "name": "stdout",
     "output_type": "stream",
     "text": [
      "Epoch 10, Loss 0.104\n",
      "Training Accuracy: 0.9046, Testing Accuracy: 0.9178\n",
      "\n"
     ]
    },
    {
     "name": "stdout",
     "output_type": "stream",
     "text": [
      "Epoch 20, Loss 0.0804\n",
      "Training Accuracy: 0.9231, Testing Accuracy: 0.9395\n",
      "\n"
     ]
    },
    {
     "name": "stdout",
     "output_type": "stream",
     "text": [
      "Epoch 30, Loss 0.0694\n",
      "Training Accuracy: 0.9330, Testing Accuracy: 0.9481\n",
      "\n"
     ]
    },
    {
     "name": "stdout",
     "output_type": "stream",
     "text": [
      "Epoch 40, Loss 0.0626\n",
      "Training Accuracy: 0.9381, Testing Accuracy: 0.9531\n",
      "\n"
     ]
    },
    {
     "name": "stdout",
     "output_type": "stream",
     "text": [
      "Epoch 50, Loss 0.058\n",
      "Training Accuracy: 0.9417, Testing Accuracy: 0.9536\n",
      "\n"
     ]
    },
    {
     "name": "stdout",
     "output_type": "stream",
     "text": [
      "Epoch 60, Loss 0.0546\n",
      "Training Accuracy: 0.9453, Testing Accuracy: 0.9551\n",
      "\n"
     ]
    },
    {
     "name": "stdout",
     "output_type": "stream",
     "text": [
      "Epoch 70, Loss 0.052\n",
      "Training Accuracy: 0.9472, Testing Accuracy: 0.9577\n",
      "\n"
     ]
    },
    {
     "name": "stdout",
     "output_type": "stream",
     "text": [
      "Epoch 80, Loss 0.0499\n",
      "Training Accuracy: 0.9491, Testing Accuracy: 0.9582\n",
      "\n"
     ]
    },
    {
     "name": "stdout",
     "output_type": "stream",
     "text": [
      "Epoch 90, Loss 0.0481\n",
      "Training Accuracy: 0.9508, Testing Accuracy: 0.9612\n",
      "\n"
     ]
    },
    {
     "name": "stdout",
     "output_type": "stream",
     "text": [
      "Epoch 100, Loss 0.0467\n",
      "Training Accuracy: 0.9524, Testing Accuracy: 0.9627\n",
      "\n"
     ]
    },
    {
     "name": "stdout",
     "output_type": "stream",
     "text": [
      "Epoch 110, Loss 0.0454\n",
      "Training Accuracy: 0.9538, Testing Accuracy: 0.9647\n",
      "\n"
     ]
    },
    {
     "name": "stdout",
     "output_type": "stream",
     "text": [
      "Epoch 120, Loss 0.0443\n",
      "Training Accuracy: 0.9550, Testing Accuracy: 0.9647\n",
      "\n"
     ]
    },
    {
     "name": "stdout",
     "output_type": "stream",
     "text": [
      "Epoch 130, Loss 0.0433\n",
      "Training Accuracy: 0.9559, Testing Accuracy: 0.9647\n",
      "\n"
     ]
    },
    {
     "name": "stdout",
     "output_type": "stream",
     "text": [
      "Epoch 140, Loss 0.0425\n",
      "Training Accuracy: 0.9562, Testing Accuracy: 0.9652\n",
      "\n"
     ]
    },
    {
     "name": "stdout",
     "output_type": "stream",
     "text": [
      "Epoch 150, Loss 0.0417\n",
      "Training Accuracy: 0.9571, Testing Accuracy: 0.9652\n",
      "\n"
     ]
    },
    {
     "name": "stdout",
     "output_type": "stream",
     "text": [
      "Epoch 160, Loss 0.041\n",
      "Training Accuracy: 0.9573, Testing Accuracy: 0.9657\n",
      "\n"
     ]
    },
    {
     "name": "stdout",
     "output_type": "stream",
     "text": [
      "Epoch 170, Loss 0.0404\n",
      "Training Accuracy: 0.9578, Testing Accuracy: 0.9657\n",
      "\n"
     ]
    },
    {
     "name": "stdout",
     "output_type": "stream",
     "text": [
      "Epoch 180, Loss 0.0398\n",
      "Training Accuracy: 0.9584, Testing Accuracy: 0.9657\n",
      "\n"
     ]
    },
    {
     "name": "stdout",
     "output_type": "stream",
     "text": [
      "Epoch 190, Loss 0.0393\n",
      "Training Accuracy: 0.9586, Testing Accuracy: 0.9662\n",
      "\n"
     ]
    },
    {
     "name": "stdout",
     "output_type": "stream",
     "text": [
      "Epoch 200, Loss 0.0388\n",
      "Training Accuracy: 0.9586, Testing Accuracy: 0.9667\n",
      "\n"
     ]
    },
    {
     "name": "stdout",
     "output_type": "stream",
     "text": [
      "Epoch 210, Loss 0.0383\n",
      "Training Accuracy: 0.9592, Testing Accuracy: 0.9677\n",
      "\n"
     ]
    },
    {
     "name": "stdout",
     "output_type": "stream",
     "text": [
      "Epoch 220, Loss 0.0379\n",
      "Training Accuracy: 0.9597, Testing Accuracy: 0.9677\n",
      "\n"
     ]
    },
    {
     "name": "stdout",
     "output_type": "stream",
     "text": [
      "Epoch 230, Loss 0.0375\n",
      "Training Accuracy: 0.9602, Testing Accuracy: 0.9677\n",
      "\n"
     ]
    },
    {
     "name": "stdout",
     "output_type": "stream",
     "text": [
      "Epoch 240, Loss 0.0371\n",
      "Training Accuracy: 0.9604, Testing Accuracy: 0.9677\n",
      "\n"
     ]
    },
    {
     "data": {
      "text/plain": [
       "0.031078649888708083"
      ]
     },
     "execution_count": 23,
     "metadata": {},
     "output_type": "execute_result"
    }
   ],
   "source": [
    "lr_learner.train_loop(dl)"
   ]
  },
  {
   "cell_type": "code",
   "execution_count": 24,
   "id": "ca410940",
   "metadata": {
    "execution": {
     "iopub.execute_input": "2022-07-12T00:43:59.248356Z",
     "iopub.status.busy": "2022-07-12T00:43:59.247643Z",
     "iopub.status.idle": "2022-07-12T00:43:59.512323Z",
     "shell.execute_reply": "2022-07-12T00:43:59.510633Z"
    },
    "papermill": {
     "duration": 0.324877,
     "end_time": "2022-07-12T00:43:59.512556",
     "exception": false,
     "start_time": "2022-07-12T00:43:59.187679",
     "status": "completed"
    },
    "tags": []
   },
   "outputs": [
    {
     "data": {
      "text/plain": [
       "<matplotlib.legend.Legend at 0x7fece6563b70>"
      ]
     },
     "execution_count": 24,
     "metadata": {},
     "output_type": "execute_result"
    },
    {
     "data": {
      "image/png": "[encoded data removed]",
      "text/plain": [
       "<Figure size 1080x720 with 1 Axes>"
      ]
     },
     "metadata": {
      "needs_background": "light"
     },
     "output_type": "display_data"
    }
   ],
   "source": [
    "#comparing the results of NN and LR\n",
    "plt.figure(figsize=(15,10))\n",
    "\n",
    "# Neural Network plots\n",
    "plt.plot(acc_nn.accuracies, 'r-', label = \"Training Accuracies - NN\")\n",
    "plt.plot(acc_nn.test_accuracies, 'g-', label = \"Testing Accuracies - NN\")\n",
    "\n",
    "# Logistic Regression plots\n",
    "plt.plot(acc_lr.accuracies, 'k-', label = \"Training Accuracies - LR\")\n",
    "plt.plot(acc_lr.test_accuracies, 'b-', label = \"Testing Accuracies - LR\")\n",
    "plt.legend()"
   ]
  },
  {
   "cell_type": "markdown",
   "id": "80dfb35c",
   "metadata": {
    "papermill": {
     "duration": 0.052853,
     "end_time": "2022-07-12T00:43:59.616673",
     "exception": false,
     "start_time": "2022-07-12T00:43:59.563820",
     "status": "completed"
    },
    "tags": []
   },
   "source": [
    "#### Plotting the outputs of this layer of the NN.\n"
   ]
  },
  {
   "cell_type": "code",
   "execution_count": 25,
   "id": "45eb2ff5",
   "metadata": {
    "execution": {
     "iopub.execute_input": "2022-07-12T00:43:59.725658Z",
     "iopub.status.busy": "2022-07-12T00:43:59.724798Z",
     "iopub.status.idle": "2022-07-12T00:43:59.748932Z",
     "shell.execute_reply": "2022-07-12T00:43:59.748289Z"
    },
    "papermill": {
     "duration": 0.080866,
     "end_time": "2022-07-12T00:43:59.749070",
     "exception": false,
     "start_time": "2022-07-12T00:43:59.668204",
     "status": "completed"
    },
    "tags": []
   },
   "outputs": [],
   "source": [
    "new_model = Model(layers[:-2])\n",
    "testing_plot = new_model(testing_data_x)"
   ]
  },
  {
   "cell_type": "code",
   "execution_count": 26,
   "id": "4c0a5485",
   "metadata": {
    "execution": {
     "iopub.execute_input": "2022-07-12T00:43:59.853439Z",
     "iopub.status.busy": "2022-07-12T00:43:59.852720Z",
     "iopub.status.idle": "2022-07-12T00:44:00.077942Z",
     "shell.execute_reply": "2022-07-12T00:44:00.078502Z"
    },
    "papermill": {
     "duration": 0.280624,
     "end_time": "2022-07-12T00:44:00.078676",
     "exception": false,
     "start_time": "2022-07-12T00:43:59.798052",
     "status": "completed"
    },
    "tags": []
   },
   "outputs": [
    {
     "data": {
      "text/plain": [
       "Text(0.5, 1.0, 'Outputs')"
      ]
     },
     "execution_count": 26,
     "metadata": {},
     "output_type": "execute_result"
    },
    {
     "data": {
      "image/png": "[encoded data removed]",
      "text/plain": [
       "<Figure size 576x504 with 1 Axes>"
      ]
     },
     "metadata": {
      "needs_background": "light"
     },
     "output_type": "display_data"
    }
   ],
   "source": [
    "# Plotting the scatter plot of points and color coding by class\n",
    "plt.figure(figsize=(8,7))\n",
    "plt.scatter(testing_plot[:,0], testing_plot[:,1], alpha = 0.1, c = y_test.ravel());\n",
    "plt.title('Outputs')"
   ]
  },
  {
   "cell_type": "markdown",
   "id": "a74fcf8f",
   "metadata": {
    "papermill": {
     "duration": 0.050749,
     "end_time": "2022-07-12T00:44:00.185131",
     "exception": false,
     "start_time": "2022-07-12T00:44:00.134382",
     "status": "completed"
    },
    "tags": []
   },
   "source": [
    "Probability contours"
   ]
  },
  {
   "cell_type": "code",
   "execution_count": 27,
   "id": "d0afc8e3",
   "metadata": {
    "execution": {
     "iopub.execute_input": "2022-07-12T00:44:00.292404Z",
     "iopub.status.busy": "2022-07-12T00:44:00.291695Z",
     "iopub.status.idle": "2022-07-12T00:44:00.306176Z",
     "shell.execute_reply": "2022-07-12T00:44:00.305612Z"
    },
    "papermill": {
     "duration": 0.070004,
     "end_time": "2022-07-12T00:44:00.306318",
     "exception": false,
     "start_time": "2022-07-12T00:44:00.236314",
     "status": "completed"
    },
    "tags": []
   },
   "outputs": [],
   "source": [
    "model_prob = Model(layers[-2:]) "
   ]
  },
  {
   "cell_type": "code",
   "execution_count": 28,
   "id": "9b96e238",
   "metadata": {
    "execution": {
     "iopub.execute_input": "2022-07-12T00:44:00.451872Z",
     "iopub.status.busy": "2022-07-12T00:44:00.451126Z",
     "iopub.status.idle": "2022-07-12T00:44:00.466635Z",
     "shell.execute_reply": "2022-07-12T00:44:00.467163Z"
    },
    "papermill": {
     "duration": 0.110756,
     "end_time": "2022-07-12T00:44:00.467325",
     "exception": false,
     "start_time": "2022-07-12T00:44:00.356569",
     "status": "completed"
    },
    "tags": []
   },
   "outputs": [],
   "source": [
    "#creating the x and y ranges according to the above generated plot.\n",
    "x_range = np.linspace(-4, 1, 100) \n",
    "y_range = np.linspace(-6, 6, 100) \n",
    "x_grid, y_grid = np.meshgrid(x_range, y_range) # x_grid and y_grig are of size 100 X 100\n",
    "\n",
    "# converting x_grid and y_grid to continuous arrays\n",
    "x_gridflat = np.ravel(x_grid)\n",
    "y_gridflat = np.ravel(y_grid)\n",
    "\n",
    "# The last layer of the current model takes two columns as input. Hence transpose of np.vstack() is required.\n",
    "X = np.vstack((x_gridflat, y_gridflat)).T\n",
    "\n",
    "prob_contour = model_prob(X).reshape(100,100) "
   ]
  },
  {
   "cell_type": "code",
   "execution_count": 29,
   "id": "da72499a",
   "metadata": {
    "execution": {
     "iopub.execute_input": "2022-07-12T00:44:00.574374Z",
     "iopub.status.busy": "2022-07-12T00:44:00.573635Z",
     "iopub.status.idle": "2022-07-12T00:44:00.870773Z",
     "shell.execute_reply": "2022-07-12T00:44:00.871388Z"
    },
    "papermill": {
     "duration": 0.353941,
     "end_time": "2022-07-12T00:44:00.871561",
     "exception": false,
     "start_time": "2022-07-12T00:44:00.517620",
     "status": "completed"
    },
    "tags": []
   },
   "outputs": [
    {
     "data": {
      "image/png": "[encoded data removed]",
      "text/plain": [
       "<Figure size 720x648 with 1 Axes>"
      ]
     },
     "metadata": {
      "needs_background": "light"
     },
     "output_type": "display_data"
    }
   ],
   "source": [
    "plt.figure(figsize=(10,9))\n",
    "plt.scatter(testing_plot[:,0], testing_plot[:,1], alpha = 0.1, c = y_test.ravel())\n",
    "contours = plt.contour(x_grid,y_grid,prob_contour)\n",
    "plt.title('Probability Contours')\n",
    "plt.clabel(contours, inline = True );"
   ]
  },
  {
   "cell_type": "code",
   "execution_count": null,
   "id": "e81b4ac7",
   "metadata": {
    "papermill": {
     "duration": 0.055261,
     "end_time": "2022-07-12T00:44:00.982075",
     "exception": false,
     "start_time": "2022-07-12T00:44:00.926814",
     "status": "completed"
    },
    "tags": []
   },
   "outputs": [],
   "source": []
  }
 ],
 "metadata": {
  "kernelspec": {
   "display_name": "Python 3",
   "language": "python",
   "name": "python3"
  },
  "language_info": {
   "codemirror_mode": {
    "name": "ipython",
    "version": 3
   },
   "file_extension": ".py",
   "mimetype": "text/x-python",
   "name": "python",
   "nbconvert_exporter": "python",
   "pygments_lexer": "ipython3",
   "version": "3.6.15"
  },
  "papermill": {
   "default_parameters": {},
   "duration": 118.705165,
   "end_time": "2022-07-12T00:44:01.459669",
   "environment_variables": {},
   "exception": null,
   "input_path": "2020-08-11-part2.ipynb",
   "output_path": "2020-08-11-part2.ipynb",
   "parameters": {},
   "start_time": "2022-07-12T00:42:02.754504",
   "version": "2.3.3"
  }
 },
 "nbformat": 4,
 "nbformat_minor": 5
}