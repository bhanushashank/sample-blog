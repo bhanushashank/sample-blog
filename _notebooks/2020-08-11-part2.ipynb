{
 "cells": [
  {
   "cell_type": "markdown",
   "id": "98380cd3",
   "metadata": {
    "papermill": {
     "duration": 0.042691,
     "end_time": "2021-09-10T10:07:32.771105",
     "exception": false,
     "start_time": "2021-09-10T10:07:32.728414",
     "status": "completed"
    },
    "tags": []
   },
   "source": [
    "# Distinguish Your Own Digits (DYOD)"
   ]
  },
  {
   "cell_type": "markdown",
   "id": "ef31240d",
   "metadata": {
    "papermill": {
     "duration": 0.031068,
     "end_time": "2021-09-10T10:07:32.834078",
     "exception": false,
     "start_time": "2021-09-10T10:07:32.803010",
     "status": "completed"
    },
    "tags": []
   },
   "source": [
    "You are going to write a classifier that distinguishes between the number 3 and number 8."
   ]
  },
  {
   "cell_type": "code",
   "execution_count": 1,
   "id": "b15c8646",
   "metadata": {
    "execution": {
     "iopub.execute_input": "2021-09-10T10:07:32.909338Z",
     "iopub.status.busy": "2021-09-10T10:07:32.908604Z",
     "iopub.status.idle": "2021-09-10T10:07:32.920913Z",
     "shell.execute_reply": "2021-09-10T10:07:32.920224Z"
    },
    "papermill": {
     "duration": 0.055455,
     "end_time": "2021-09-10T10:07:32.921074",
     "exception": false,
     "start_time": "2021-09-10T10:07:32.865619",
     "status": "completed"
    },
    "tags": []
   },
   "outputs": [],
   "source": [
    "%load_ext autoreload\n",
    "%autoreload 2"
   ]
  },
  {
   "cell_type": "code",
   "execution_count": 2,
   "id": "22ef38dc",
   "metadata": {
    "execution": {
     "iopub.execute_input": "2021-09-10T10:07:32.986704Z",
     "iopub.status.busy": "2021-09-10T10:07:32.986054Z",
     "iopub.status.idle": "2021-09-10T10:07:33.570218Z",
     "shell.execute_reply": "2021-09-10T10:07:33.570745Z"
    },
    "papermill": {
     "duration": 0.618356,
     "end_time": "2021-09-10T10:07:33.570917",
     "exception": false,
     "start_time": "2021-09-10T10:07:32.952561",
     "status": "completed"
    },
    "tags": []
   },
   "outputs": [],
   "source": [
    "%matplotlib inline\n",
    "import numpy as np\n",
    "import matplotlib.pyplot as plt\n",
    "import pandas as pd"
   ]
  },
  {
   "cell_type": "markdown",
   "id": "ba036198",
   "metadata": {
    "papermill": {
     "duration": 0.032008,
     "end_time": "2021-09-10T10:07:33.633796",
     "exception": false,
     "start_time": "2021-09-10T10:07:33.601788",
     "status": "completed"
    },
    "tags": []
   },
   "source": [
    "From the command line run `pip install mnist`. This is a library that will help you bring down the mnist dataset. If you run this from a notebook, you need to put  `!pip install mnist` in a cell by itself."
   ]
  },
  {
   "cell_type": "code",
   "execution_count": 3,
   "id": "bb6ad8a1",
   "metadata": {
    "execution": {
     "iopub.execute_input": "2021-09-10T10:07:33.705953Z",
     "iopub.status.busy": "2021-09-10T10:07:33.702431Z",
     "iopub.status.idle": "2021-09-10T10:07:36.204319Z",
     "shell.execute_reply": "2021-09-10T10:07:36.203714Z"
    },
    "papermill": {
     "duration": 2.542166,
     "end_time": "2021-09-10T10:07:36.204466",
     "exception": false,
     "start_time": "2021-09-10T10:07:33.662300",
     "status": "completed"
    },
    "tags": []
   },
   "outputs": [
    {
     "name": "stdout",
     "output_type": "stream",
     "text": [
      "Collecting mnist\r\n"
     ]
    },
    {
     "name": "stdout",
     "output_type": "stream",
     "text": [
      "  Downloading mnist-0.2.2-py2.py3-none-any.whl (3.5 kB)\r\n",
      "Requirement already satisfied: numpy in /opt/hostedtoolcache/Python/3.6.14/x64/lib/python3.6/site-packages (from mnist) (1.19.5)\r\n"
     ]
    },
    {
     "name": "stdout",
     "output_type": "stream",
     "text": [
      "Installing collected packages: mnist\r\n"
     ]
    },
    {
     "name": "stdout",
     "output_type": "stream",
     "text": [
      "Successfully installed mnist-0.2.2\r\n"
     ]
    }
   ],
   "source": [
    "!pip install mnist"
   ]
  },
  {
   "cell_type": "markdown",
   "id": "69df9c9a",
   "metadata": {
    "papermill": {
     "duration": 0.031119,
     "end_time": "2021-09-10T10:07:36.268021",
     "exception": false,
     "start_time": "2021-09-10T10:07:36.236902",
     "status": "completed"
    },
    "tags": []
   },
   "source": [
    "## Preparing the Data"
   ]
  },
  {
   "cell_type": "code",
   "execution_count": 4,
   "id": "7f69d806",
   "metadata": {
    "execution": {
     "iopub.execute_input": "2021-09-10T10:07:36.349429Z",
     "iopub.status.busy": "2021-09-10T10:07:36.345926Z",
     "iopub.status.idle": "2021-09-10T10:07:36.351528Z",
     "shell.execute_reply": "2021-09-10T10:07:36.352024Z"
    },
    "papermill": {
     "duration": 0.053086,
     "end_time": "2021-09-10T10:07:36.352173",
     "exception": false,
     "start_time": "2021-09-10T10:07:36.299087",
     "status": "completed"
    },
    "tags": []
   },
   "outputs": [],
   "source": [
    "import mnist"
   ]
  },
  {
   "cell_type": "code",
   "execution_count": 5,
   "id": "a411e44f",
   "metadata": {
    "execution": {
     "iopub.execute_input": "2021-09-10T10:07:36.417292Z",
     "iopub.status.busy": "2021-09-10T10:07:36.416529Z",
     "iopub.status.idle": "2021-09-10T10:07:37.098420Z",
     "shell.execute_reply": "2021-09-10T10:07:37.098974Z"
    },
    "papermill": {
     "duration": 0.715801,
     "end_time": "2021-09-10T10:07:37.099141",
     "exception": false,
     "start_time": "2021-09-10T10:07:36.383340",
     "status": "completed"
    },
    "tags": []
   },
   "outputs": [],
   "source": [
    "train_images = mnist.train_images()\n",
    "train_labels = mnist.train_labels()"
   ]
  },
  {
   "cell_type": "code",
   "execution_count": 6,
   "id": "dceab3a5",
   "metadata": {
    "execution": {
     "iopub.execute_input": "2021-09-10T10:07:37.191333Z",
     "iopub.status.busy": "2021-09-10T10:07:37.182102Z",
     "iopub.status.idle": "2021-09-10T10:07:37.194723Z",
     "shell.execute_reply": "2021-09-10T10:07:37.194165Z"
    },
    "papermill": {
     "duration": 0.063217,
     "end_time": "2021-09-10T10:07:37.194856",
     "exception": false,
     "start_time": "2021-09-10T10:07:37.131639",
     "status": "completed"
    },
    "tags": []
   },
   "outputs": [
    {
     "data": {
      "text/plain": [
       "((60000, 28, 28), (60000,))"
      ]
     },
     "execution_count": 6,
     "metadata": {},
     "output_type": "execute_result"
    }
   ],
   "source": [
    "train_images.shape, train_labels.shape"
   ]
  },
  {
   "cell_type": "code",
   "execution_count": 7,
   "id": "f50dc2bb",
   "metadata": {
    "execution": {
     "iopub.execute_input": "2021-09-10T10:07:37.269828Z",
     "iopub.status.busy": "2021-09-10T10:07:37.262814Z",
     "iopub.status.idle": "2021-09-10T10:07:37.622825Z",
     "shell.execute_reply": "2021-09-10T10:07:37.622246Z"
    },
    "papermill": {
     "duration": 0.396196,
     "end_time": "2021-09-10T10:07:37.622969",
     "exception": false,
     "start_time": "2021-09-10T10:07:37.226773",
     "status": "completed"
    },
    "tags": []
   },
   "outputs": [],
   "source": [
    "test_images = mnist.test_images()\n",
    "test_labels = mnist.test_labels()"
   ]
  },
  {
   "cell_type": "code",
   "execution_count": 8,
   "id": "fc38cf1b",
   "metadata": {
    "execution": {
     "iopub.execute_input": "2021-09-10T10:07:37.692838Z",
     "iopub.status.busy": "2021-09-10T10:07:37.692201Z",
     "iopub.status.idle": "2021-09-10T10:07:37.709058Z",
     "shell.execute_reply": "2021-09-10T10:07:37.709596Z"
    },
    "papermill": {
     "duration": 0.054204,
     "end_time": "2021-09-10T10:07:37.709761",
     "exception": false,
     "start_time": "2021-09-10T10:07:37.655557",
     "status": "completed"
    },
    "tags": []
   },
   "outputs": [
    {
     "data": {
      "text/plain": [
       "((10000, 28, 28), (10000,))"
      ]
     },
     "execution_count": 8,
     "metadata": {},
     "output_type": "execute_result"
    }
   ],
   "source": [
    "test_images.shape, test_labels.shape"
   ]
  },
  {
   "cell_type": "code",
   "execution_count": 9,
   "id": "f9ed8fe0",
   "metadata": {
    "execution": {
     "iopub.execute_input": "2021-09-10T10:07:37.784111Z",
     "iopub.status.busy": "2021-09-10T10:07:37.783467Z",
     "iopub.status.idle": "2021-09-10T10:07:37.971192Z",
     "shell.execute_reply": "2021-09-10T10:07:37.971736Z"
    },
    "papermill": {
     "duration": 0.228676,
     "end_time": "2021-09-10T10:07:37.971900",
     "exception": false,
     "start_time": "2021-09-10T10:07:37.743224",
     "status": "completed"
    },
    "tags": []
   },
   "outputs": [
    {
     "name": "stdout",
     "output_type": "stream",
     "text": [
      "2\n"
     ]
    },
    {
     "data": {
      "text/plain": [
       "<matplotlib.image.AxesImage at 0x7f29c4894d68>"
      ]
     },
     "execution_count": 9,
     "metadata": {},
     "output_type": "execute_result"
    },
    {
     "data": {
      "image/png": "[encoded data removed]",
      "text/plain": [
       "<Figure size 432x288 with 1 Axes>"
      ]
     },
     "metadata": {
      "needs_background": "light"
     },
     "output_type": "display_data"
    }
   ],
   "source": [
    "image_index = 7776 # You may select anything up to 60,000\n",
    "print(train_labels[image_index]) \n",
    "plt.imshow(train_images[image_index], cmap='Greys')"
   ]
  },
  {
   "cell_type": "markdown",
   "id": "a8d2388d",
   "metadata": {
    "papermill": {
     "duration": 0.034568,
     "end_time": "2021-09-10T10:07:38.048342",
     "exception": false,
     "start_time": "2021-09-10T10:07:38.013774",
     "status": "completed"
    },
    "tags": []
   },
   "source": [
    "## Filter data to get 3 and 8 out"
   ]
  },
  {
   "cell_type": "code",
   "execution_count": 10,
   "id": "776f7fc7",
   "metadata": {
    "execution": {
     "iopub.execute_input": "2021-09-10T10:07:38.137621Z",
     "iopub.status.busy": "2021-09-10T10:07:38.136708Z",
     "iopub.status.idle": "2021-09-10T10:07:38.157441Z",
     "shell.execute_reply": "2021-09-10T10:07:38.158029Z"
    },
    "papermill": {
     "duration": 0.074008,
     "end_time": "2021-09-10T10:07:38.158205",
     "exception": false,
     "start_time": "2021-09-10T10:07:38.084197",
     "status": "completed"
    },
    "tags": []
   },
   "outputs": [],
   "source": [
    "train_filter = np.where((train_labels == 3 ) | (train_labels == 8))\n",
    "test_filter = np.where((test_labels == 3) | (test_labels == 8))\n",
    "X_train, y_train = train_images[train_filter], train_labels[train_filter]\n",
    "X_test, y_test = test_images[test_filter], test_labels[test_filter]"
   ]
  },
  {
   "cell_type": "markdown",
   "id": "948f0b7e",
   "metadata": {
    "papermill": {
     "duration": 0.034734,
     "end_time": "2021-09-10T10:07:38.226375",
     "exception": false,
     "start_time": "2021-09-10T10:07:38.191641",
     "status": "completed"
    },
    "tags": []
   },
   "source": [
    "We normalize the pizel values in the 0 to 1 range"
   ]
  },
  {
   "cell_type": "code",
   "execution_count": 11,
   "id": "ee4c2166",
   "metadata": {
    "execution": {
     "iopub.execute_input": "2021-09-10T10:07:38.298542Z",
     "iopub.status.busy": "2021-09-10T10:07:38.297819Z",
     "iopub.status.idle": "2021-09-10T10:07:38.361267Z",
     "shell.execute_reply": "2021-09-10T10:07:38.360643Z"
    },
    "papermill": {
     "duration": 0.101488,
     "end_time": "2021-09-10T10:07:38.361409",
     "exception": false,
     "start_time": "2021-09-10T10:07:38.259921",
     "status": "completed"
    },
    "tags": []
   },
   "outputs": [],
   "source": [
    "X_train = X_train/255.\n",
    "X_test = X_test/255."
   ]
  },
  {
   "cell_type": "markdown",
   "id": "ddcf4fab",
   "metadata": {
    "papermill": {
     "duration": 0.033151,
     "end_time": "2021-09-10T10:07:38.428311",
     "exception": false,
     "start_time": "2021-09-10T10:07:38.395160",
     "status": "completed"
    },
    "tags": []
   },
   "source": [
    "And setup the labels as 1 (when the digit is 3) and 0 (when the digit is 8)"
   ]
  },
  {
   "cell_type": "code",
   "execution_count": 12,
   "id": "7dc908f2",
   "metadata": {
    "execution": {
     "iopub.execute_input": "2021-09-10T10:07:38.501802Z",
     "iopub.status.busy": "2021-09-10T10:07:38.501031Z",
     "iopub.status.idle": "2021-09-10T10:07:38.514027Z",
     "shell.execute_reply": "2021-09-10T10:07:38.514653Z"
    },
    "papermill": {
     "duration": 0.052912,
     "end_time": "2021-09-10T10:07:38.514806",
     "exception": false,
     "start_time": "2021-09-10T10:07:38.461894",
     "status": "completed"
    },
    "tags": []
   },
   "outputs": [],
   "source": [
    "y_train = 1*(y_train==3)\n",
    "y_test = 1*(y_test==3)"
   ]
  },
  {
   "cell_type": "code",
   "execution_count": 13,
   "id": "01e4e969",
   "metadata": {
    "execution": {
     "iopub.execute_input": "2021-09-10T10:07:38.585194Z",
     "iopub.status.busy": "2021-09-10T10:07:38.584528Z",
     "iopub.status.idle": "2021-09-10T10:07:38.598468Z",
     "shell.execute_reply": "2021-09-10T10:07:38.597921Z"
    },
    "papermill": {
     "duration": 0.049242,
     "end_time": "2021-09-10T10:07:38.598592",
     "exception": false,
     "start_time": "2021-09-10T10:07:38.549350",
     "status": "completed"
    },
    "tags": []
   },
   "outputs": [
    {
     "data": {
      "text/plain": [
       "((11982, 28, 28), (1984, 28, 28))"
      ]
     },
     "execution_count": 13,
     "metadata": {},
     "output_type": "execute_result"
    }
   ],
   "source": [
    "X_train.shape, X_test.shape"
   ]
  },
  {
   "cell_type": "markdown",
   "id": "5ccf3f85",
   "metadata": {
    "papermill": {
     "duration": 0.032266,
     "end_time": "2021-09-10T10:07:38.665834",
     "exception": false,
     "start_time": "2021-09-10T10:07:38.633568",
     "status": "completed"
    },
    "tags": []
   },
   "source": [
    "We reshape the data to flatten the image pixels into a set of features or co-variates:"
   ]
  },
  {
   "cell_type": "code",
   "execution_count": 14,
   "id": "5286a4a3",
   "metadata": {
    "execution": {
     "iopub.execute_input": "2021-09-10T10:07:38.753445Z",
     "iopub.status.busy": "2021-09-10T10:07:38.744804Z",
     "iopub.status.idle": "2021-09-10T10:07:38.757004Z",
     "shell.execute_reply": "2021-09-10T10:07:38.756367Z"
    },
    "papermill": {
     "duration": 0.05631,
     "end_time": "2021-09-10T10:07:38.757159",
     "exception": false,
     "start_time": "2021-09-10T10:07:38.700849",
     "status": "completed"
    },
    "tags": []
   },
   "outputs": [
    {
     "data": {
      "text/plain": [
       "((11982, 784), (1984, 784))"
      ]
     },
     "execution_count": 14,
     "metadata": {},
     "output_type": "execute_result"
    }
   ],
   "source": [
    "X_train = X_train.reshape(X_train.shape[0], -1)\n",
    "X_test = X_test.reshape(X_test.shape[0], -1)\n",
    "X_train.shape, X_test.shape"
   ]
  },
  {
   "cell_type": "code",
   "execution_count": 15,
   "id": "73c5f88a",
   "metadata": {
    "execution": {
     "iopub.execute_input": "2021-09-10T10:07:38.829635Z",
     "iopub.status.busy": "2021-09-10T10:07:38.828939Z",
     "iopub.status.idle": "2021-09-10T10:07:38.849464Z",
     "shell.execute_reply": "2021-09-10T10:07:38.848863Z"
    },
    "papermill": {
     "duration": 0.058242,
     "end_time": "2021-09-10T10:07:38.849596",
     "exception": false,
     "start_time": "2021-09-10T10:07:38.791354",
     "status": "completed"
    },
    "tags": []
   },
   "outputs": [],
   "source": [
    "#Impoting functions from 'Kudzu'\n",
    "from kudzu.model import Model\n",
    "from kudzu.train import Learner\n",
    "from kudzu.optim import GD\n",
    "from kudzu.data import Data, Sampler,Dataloader\n",
    "\n",
    "from kudzu.callbacks import AccCallback\n",
    "from kudzu.callbacks import ClfCallback\n",
    "\n",
    "from kudzu.loss import MSE\n",
    "\n",
    "from kudzu.layer import Sigmoid,Relu\n",
    "from kudzu.layer import Affine"
   ]
  },
  {
   "cell_type": "markdown",
   "id": "bc01172a",
   "metadata": {
    "papermill": {
     "duration": 0.033294,
     "end_time": "2021-09-10T10:07:38.917129",
     "exception": false,
     "start_time": "2021-09-10T10:07:38.883835",
     "status": "completed"
    },
    "tags": []
   },
   "source": [
    "### Let us create a `Config` class, to store important parameters. \n",
    "This class essentially plays the role of a dictionary."
   ]
  },
  {
   "cell_type": "code",
   "execution_count": 16,
   "id": "978281aa",
   "metadata": {
    "execution": {
     "iopub.execute_input": "2021-09-10T10:07:38.998290Z",
     "iopub.status.busy": "2021-09-10T10:07:38.997626Z",
     "iopub.status.idle": "2021-09-10T10:07:39.009510Z",
     "shell.execute_reply": "2021-09-10T10:07:39.008915Z"
    },
    "papermill": {
     "duration": 0.059309,
     "end_time": "2021-09-10T10:07:39.009648",
     "exception": false,
     "start_time": "2021-09-10T10:07:38.950339",
     "status": "completed"
    },
    "tags": []
   },
   "outputs": [],
   "source": [
    "class Config:\n",
    "    pass\n",
    "config = Config()\n",
    "config.lr = 0.001\n",
    "config.num_epochs = 250\n",
    "config.bs = 50"
   ]
  },
  {
   "cell_type": "markdown",
   "id": "1385fa59",
   "metadata": {
    "papermill": {
     "duration": 0.03445,
     "end_time": "2021-09-10T10:07:39.079030",
     "exception": false,
     "start_time": "2021-09-10T10:07:39.044580",
     "status": "completed"
    },
    "tags": []
   },
   "source": [
    "### Running Models with the Training data\n",
    "Details about the network layers:\n",
    "- A first affine layer has 784 inputs and does 100 affine transforms. These are followed by a Relu\n",
    "- A second affine layer has 100 inputs from the 100 activations of the past layer, and does 100 affine transforms. These are followed by a Relu\n",
    "- A third affine layer has 100 activations and does 2 affine transformations to create an embedding for visualization. There is no non-linearity here.\n",
    "- A final \"logistic regression\" which has an affine transform from 2 inputs to 1 output, which is squeezed through a sigmoid.\n"
   ]
  },
  {
   "cell_type": "code",
   "execution_count": 17,
   "id": "2b9c66db",
   "metadata": {
    "execution": {
     "iopub.execute_input": "2021-09-10T10:07:39.153231Z",
     "iopub.status.busy": "2021-09-10T10:07:39.152562Z",
     "iopub.status.idle": "2021-09-10T10:07:39.164987Z",
     "shell.execute_reply": "2021-09-10T10:07:39.165692Z"
    },
    "papermill": {
     "duration": 0.053256,
     "end_time": "2021-09-10T10:07:39.165841",
     "exception": false,
     "start_time": "2021-09-10T10:07:39.112585",
     "status": "completed"
    },
    "tags": []
   },
   "outputs": [],
   "source": [
    "data = Data(X_train, y_train.reshape(-1,1))\n",
    "sampler = Sampler(data, config.bs, shuffle=True)\n",
    "\n",
    "dl = Dataloader(data, sampler)\n",
    "\n",
    "opt = GD(config.lr)\n",
    "loss = MSE()"
   ]
  },
  {
   "cell_type": "code",
   "execution_count": 18,
   "id": "b275e4c2",
   "metadata": {
    "execution": {
     "iopub.execute_input": "2021-09-10T10:07:39.245972Z",
     "iopub.status.busy": "2021-09-10T10:07:39.245238Z",
     "iopub.status.idle": "2021-09-10T10:07:39.257629Z",
     "shell.execute_reply": "2021-09-10T10:07:39.258298Z"
    },
    "papermill": {
     "duration": 0.054623,
     "end_time": "2021-09-10T10:07:39.258769",
     "exception": false,
     "start_time": "2021-09-10T10:07:39.204146",
     "status": "completed"
    },
    "tags": []
   },
   "outputs": [],
   "source": [
    "training_data_x = X_train\n",
    "testing_data_x = X_test\n",
    "training_data_y = y_train.reshape(-1,1)\n",
    "testing_data_y = y_test.reshape(-1,1)"
   ]
  },
  {
   "cell_type": "code",
   "execution_count": 19,
   "id": "76951160",
   "metadata": {
    "execution": {
     "iopub.execute_input": "2021-09-10T10:07:39.333786Z",
     "iopub.status.busy": "2021-09-10T10:07:39.333119Z",
     "iopub.status.idle": "2021-09-10T10:07:39.350998Z",
     "shell.execute_reply": "2021-09-10T10:07:39.350353Z"
    },
    "papermill": {
     "duration": 0.056764,
     "end_time": "2021-09-10T10:07:39.351196",
     "exception": false,
     "start_time": "2021-09-10T10:07:39.294432",
     "status": "completed"
    },
    "tags": []
   },
   "outputs": [
    {
     "name": "stdout",
     "output_type": "stream",
     "text": [
      "xavier\n",
      "xavier\n",
      "xavier\n",
      "xavier\n",
      "xavier\n"
     ]
    }
   ],
   "source": [
    "layers = [Affine(\"first\", 784, 100), Relu(\"first\"), Affine(\"second\", 100, 100), Relu(\"second\"), Affine(\"third\", 100, 2), Affine(\"last\", 2, 1), Sigmoid(\"last\")]\n",
    "model_nn = Model(layers)\n",
    "model_lr = Model([Affine(\"logits\", 784, 1), Sigmoid(\"sigmoid\")])"
   ]
  },
  {
   "cell_type": "code",
   "execution_count": 20,
   "id": "6eede77a",
   "metadata": {
    "execution": {
     "iopub.execute_input": "2021-09-10T10:07:39.423068Z",
     "iopub.status.busy": "2021-09-10T10:07:39.422409Z",
     "iopub.status.idle": "2021-09-10T10:07:39.436241Z",
     "shell.execute_reply": "2021-09-10T10:07:39.435555Z"
    },
    "papermill": {
     "duration": 0.049952,
     "end_time": "2021-09-10T10:07:39.436379",
     "exception": false,
     "start_time": "2021-09-10T10:07:39.386427",
     "status": "completed"
    },
    "tags": []
   },
   "outputs": [],
   "source": [
    "nn_learner = Learner(loss, model_nn, opt, config.num_epochs)\n",
    "acc_nn = ClfCallback(nn_learner, config.bs, training_data_x , testing_data_x, training_data_y, testing_data_y)\n",
    "nn_learner.set_callbacks([acc_nn])"
   ]
  },
  {
   "cell_type": "code",
   "execution_count": 21,
   "id": "877b6cc7",
   "metadata": {
    "execution": {
     "iopub.execute_input": "2021-09-10T10:07:39.512178Z",
     "iopub.status.busy": "2021-09-10T10:07:39.511538Z",
     "iopub.status.idle": "2021-09-10T10:07:39.524630Z",
     "shell.execute_reply": "2021-09-10T10:07:39.524080Z"
    },
    "papermill": {
     "duration": 0.051708,
     "end_time": "2021-09-10T10:07:39.524756",
     "exception": false,
     "start_time": "2021-09-10T10:07:39.473048",
     "status": "completed"
    },
    "tags": []
   },
   "outputs": [],
   "source": [
    "lr_learner = Learner(loss, model_lr, opt, config.num_epochs)\n",
    "acc_lr = ClfCallback(lr_learner, config.bs, training_data_x , testing_data_x, training_data_y, testing_data_y)\n",
    "lr_learner.set_callbacks([acc_lr])"
   ]
  },
  {
   "cell_type": "code",
   "execution_count": 22,
   "id": "d9b133c3",
   "metadata": {
    "execution": {
     "iopub.execute_input": "2021-09-10T10:07:39.595848Z",
     "iopub.status.busy": "2021-09-10T10:07:39.595212Z",
     "iopub.status.idle": "2021-09-10T10:09:45.836103Z",
     "shell.execute_reply": "2021-09-10T10:09:45.836939Z"
    },
    "papermill": {
     "duration": 126.278754,
     "end_time": "2021-09-10T10:09:45.837124",
     "exception": false,
     "start_time": "2021-09-10T10:07:39.558370",
     "status": "completed"
    },
    "tags": []
   },
   "outputs": [
    {
     "name": "stdout",
     "output_type": "stream",
     "text": [
      "Epoch 0, Loss 0.242\n",
      "Training Accuracy: 0.6738, Testing Accuracy: 0.6971\n",
      "\n"
     ]
    },
    {
     "name": "stdout",
     "output_type": "stream",
     "text": [
      "Epoch 10, Loss 0.1572\n",
      "Training Accuracy: 0.8736, Testing Accuracy: 0.8841\n",
      "\n"
     ]
    },
    {
     "name": "stdout",
     "output_type": "stream",
     "text": [
      "Epoch 20, Loss 0.0847\n",
      "Training Accuracy: 0.9137, Testing Accuracy: 0.9209\n",
      "\n"
     ]
    },
    {
     "name": "stdout",
     "output_type": "stream",
     "text": [
      "Epoch 30, Loss 0.0578\n",
      "Training Accuracy: 0.9367, Testing Accuracy: 0.9506\n",
      "\n"
     ]
    },
    {
     "name": "stdout",
     "output_type": "stream",
     "text": [
      "Epoch 40, Loss 0.0457\n",
      "Training Accuracy: 0.9490, Testing Accuracy: 0.9602\n",
      "\n"
     ]
    },
    {
     "name": "stdout",
     "output_type": "stream",
     "text": [
      "Epoch 50, Loss 0.0395\n",
      "Training Accuracy: 0.9559, Testing Accuracy: 0.9657\n",
      "\n"
     ]
    },
    {
     "name": "stdout",
     "output_type": "stream",
     "text": [
      "Epoch 60, Loss 0.0358\n",
      "Training Accuracy: 0.9584, Testing Accuracy: 0.9682\n",
      "\n"
     ]
    },
    {
     "name": "stdout",
     "output_type": "stream",
     "text": [
      "Epoch 70, Loss 0.0334\n",
      "Training Accuracy: 0.9616, Testing Accuracy: 0.9693\n",
      "\n"
     ]
    },
    {
     "name": "stdout",
     "output_type": "stream",
     "text": [
      "Epoch 80, Loss 0.0316\n",
      "Training Accuracy: 0.9636, Testing Accuracy: 0.9698\n",
      "\n"
     ]
    },
    {
     "name": "stdout",
     "output_type": "stream",
     "text": [
      "Epoch 90, Loss 0.0301\n",
      "Training Accuracy: 0.9644, Testing Accuracy: 0.9698\n",
      "\n"
     ]
    },
    {
     "name": "stdout",
     "output_type": "stream",
     "text": [
      "Epoch 100, Loss 0.029\n",
      "Training Accuracy: 0.9658, Testing Accuracy: 0.9703\n",
      "\n"
     ]
    },
    {
     "name": "stdout",
     "output_type": "stream",
     "text": [
      "Epoch 110, Loss 0.028\n",
      "Training Accuracy: 0.9671, Testing Accuracy: 0.9688\n",
      "\n"
     ]
    },
    {
     "name": "stdout",
     "output_type": "stream",
     "text": [
      "Epoch 120, Loss 0.0271\n",
      "Training Accuracy: 0.9678, Testing Accuracy: 0.9698\n",
      "\n"
     ]
    },
    {
     "name": "stdout",
     "output_type": "stream",
     "text": [
      "Epoch 130, Loss 0.0263\n",
      "Training Accuracy: 0.9688, Testing Accuracy: 0.9698\n",
      "\n"
     ]
    },
    {
     "name": "stdout",
     "output_type": "stream",
     "text": [
      "Epoch 140, Loss 0.0257\n",
      "Training Accuracy: 0.9695, Testing Accuracy: 0.9693\n",
      "\n"
     ]
    },
    {
     "name": "stdout",
     "output_type": "stream",
     "text": [
      "Epoch 150, Loss 0.025\n",
      "Training Accuracy: 0.9700, Testing Accuracy: 0.9693\n",
      "\n"
     ]
    },
    {
     "name": "stdout",
     "output_type": "stream",
     "text": [
      "Epoch 160, Loss 0.0244\n",
      "Training Accuracy: 0.9710, Testing Accuracy: 0.9698\n",
      "\n"
     ]
    },
    {
     "name": "stdout",
     "output_type": "stream",
     "text": [
      "Epoch 170, Loss 0.0239\n",
      "Training Accuracy: 0.9715, Testing Accuracy: 0.9698\n",
      "\n"
     ]
    },
    {
     "name": "stdout",
     "output_type": "stream",
     "text": [
      "Epoch 180, Loss 0.0234\n",
      "Training Accuracy: 0.9725, Testing Accuracy: 0.9703\n",
      "\n"
     ]
    },
    {
     "name": "stdout",
     "output_type": "stream",
     "text": [
      "Epoch 190, Loss 0.0229\n",
      "Training Accuracy: 0.9731, Testing Accuracy: 0.9703\n",
      "\n"
     ]
    },
    {
     "name": "stdout",
     "output_type": "stream",
     "text": [
      "Epoch 200, Loss 0.0224\n",
      "Training Accuracy: 0.9738, Testing Accuracy: 0.9698\n",
      "\n"
     ]
    },
    {
     "name": "stdout",
     "output_type": "stream",
     "text": [
      "Epoch 210, Loss 0.022\n",
      "Training Accuracy: 0.9745, Testing Accuracy: 0.9703\n",
      "\n"
     ]
    },
    {
     "name": "stdout",
     "output_type": "stream",
     "text": [
      "Epoch 220, Loss 0.0216\n",
      "Training Accuracy: 0.9751, Testing Accuracy: 0.9713\n",
      "\n"
     ]
    },
    {
     "name": "stdout",
     "output_type": "stream",
     "text": [
      "Epoch 230, Loss 0.0212\n",
      "Training Accuracy: 0.9756, Testing Accuracy: 0.9713\n",
      "\n"
     ]
    },
    {
     "name": "stdout",
     "output_type": "stream",
     "text": [
      "Epoch 240, Loss 0.0208\n",
      "Training Accuracy: 0.9761, Testing Accuracy: 0.9718\n",
      "\n"
     ]
    },
    {
     "data": {
      "text/plain": [
       "0.029214445175190614"
      ]
     },
     "execution_count": 22,
     "metadata": {},
     "output_type": "execute_result"
    }
   ],
   "source": [
    "nn_learner.train_loop(dl)"
   ]
  },
  {
   "cell_type": "code",
   "execution_count": 23,
   "id": "e0163366",
   "metadata": {
    "execution": {
     "iopub.execute_input": "2021-09-10T10:09:45.930859Z",
     "iopub.status.busy": "2021-09-10T10:09:45.930205Z",
     "iopub.status.idle": "2021-09-10T10:10:03.963654Z",
     "shell.execute_reply": "2021-09-10T10:10:03.964484Z"
    },
    "papermill": {
     "duration": 18.083945,
     "end_time": "2021-09-10T10:10:03.964648",
     "exception": false,
     "start_time": "2021-09-10T10:09:45.880703",
     "status": "completed"
    },
    "tags": []
   },
   "outputs": [
    {
     "name": "stdout",
     "output_type": "stream",
     "text": [
      "Epoch 0, Loss 0.2501\n",
      "Training Accuracy: 0.6385, Testing Accuracy: 0.6653\n",
      "\n"
     ]
    },
    {
     "name": "stdout",
     "output_type": "stream",
     "text": [
      "Epoch 10, Loss 0.1\n",
      "Training Accuracy: 0.9145, Testing Accuracy: 0.9254\n",
      "\n"
     ]
    },
    {
     "name": "stdout",
     "output_type": "stream",
     "text": [
      "Epoch 20, Loss 0.0782\n",
      "Training Accuracy: 0.9268, Testing Accuracy: 0.9410\n",
      "\n"
     ]
    },
    {
     "name": "stdout",
     "output_type": "stream",
     "text": [
      "Epoch 30, Loss 0.0679\n",
      "Training Accuracy: 0.9344, Testing Accuracy: 0.9461\n",
      "\n"
     ]
    },
    {
     "name": "stdout",
     "output_type": "stream",
     "text": [
      "Epoch 40, Loss 0.0616\n",
      "Training Accuracy: 0.9392, Testing Accuracy: 0.9516\n",
      "\n"
     ]
    },
    {
     "name": "stdout",
     "output_type": "stream",
     "text": [
      "Epoch 50, Loss 0.0572\n",
      "Training Accuracy: 0.9422, Testing Accuracy: 0.9556\n",
      "\n"
     ]
    },
    {
     "name": "stdout",
     "output_type": "stream",
     "text": [
      "Epoch 60, Loss 0.054\n",
      "Training Accuracy: 0.9453, Testing Accuracy: 0.9577\n",
      "\n"
     ]
    },
    {
     "name": "stdout",
     "output_type": "stream",
     "text": [
      "Epoch 70, Loss 0.0515\n",
      "Training Accuracy: 0.9483, Testing Accuracy: 0.9592\n",
      "\n"
     ]
    },
    {
     "name": "stdout",
     "output_type": "stream",
     "text": [
      "Epoch 80, Loss 0.0495\n",
      "Training Accuracy: 0.9507, Testing Accuracy: 0.9602\n",
      "\n"
     ]
    },
    {
     "name": "stdout",
     "output_type": "stream",
     "text": [
      "Epoch 90, Loss 0.0478\n",
      "Training Accuracy: 0.9524, Testing Accuracy: 0.9607\n",
      "\n"
     ]
    },
    {
     "name": "stdout",
     "output_type": "stream",
     "text": [
      "Epoch 100, Loss 0.0464\n",
      "Training Accuracy: 0.9535, Testing Accuracy: 0.9622\n",
      "\n"
     ]
    },
    {
     "name": "stdout",
     "output_type": "stream",
     "text": [
      "Epoch 110, Loss 0.0451\n",
      "Training Accuracy: 0.9544, Testing Accuracy: 0.9627\n",
      "\n"
     ]
    },
    {
     "name": "stdout",
     "output_type": "stream",
     "text": [
      "Epoch 120, Loss 0.0441\n",
      "Training Accuracy: 0.9550, Testing Accuracy: 0.9642\n",
      "\n"
     ]
    },
    {
     "name": "stdout",
     "output_type": "stream",
     "text": [
      "Epoch 130, Loss 0.0431\n",
      "Training Accuracy: 0.9553, Testing Accuracy: 0.9652\n",
      "\n"
     ]
    },
    {
     "name": "stdout",
     "output_type": "stream",
     "text": [
      "Epoch 140, Loss 0.0423\n",
      "Training Accuracy: 0.9555, Testing Accuracy: 0.9652\n",
      "\n"
     ]
    },
    {
     "name": "stdout",
     "output_type": "stream",
     "text": [
      "Epoch 150, Loss 0.0416\n",
      "Training Accuracy: 0.9563, Testing Accuracy: 0.9652\n",
      "\n"
     ]
    },
    {
     "name": "stdout",
     "output_type": "stream",
     "text": [
      "Epoch 160, Loss 0.0409\n",
      "Training Accuracy: 0.9573, Testing Accuracy: 0.9657\n",
      "\n"
     ]
    },
    {
     "name": "stdout",
     "output_type": "stream",
     "text": [
      "Epoch 170, Loss 0.0403\n",
      "Training Accuracy: 0.9574, Testing Accuracy: 0.9657\n",
      "\n"
     ]
    },
    {
     "name": "stdout",
     "output_type": "stream",
     "text": [
      "Epoch 180, Loss 0.0397\n",
      "Training Accuracy: 0.9578, Testing Accuracy: 0.9662\n",
      "\n"
     ]
    },
    {
     "name": "stdout",
     "output_type": "stream",
     "text": [
      "Epoch 190, Loss 0.0392\n",
      "Training Accuracy: 0.9584, Testing Accuracy: 0.9657\n",
      "\n"
     ]
    },
    {
     "name": "stdout",
     "output_type": "stream",
     "text": [
      "Epoch 200, Loss 0.0387\n",
      "Training Accuracy: 0.9587, Testing Accuracy: 0.9657\n",
      "\n"
     ]
    },
    {
     "name": "stdout",
     "output_type": "stream",
     "text": [
      "Epoch 210, Loss 0.0382\n",
      "Training Accuracy: 0.9590, Testing Accuracy: 0.9652\n",
      "\n"
     ]
    },
    {
     "name": "stdout",
     "output_type": "stream",
     "text": [
      "Epoch 220, Loss 0.0378\n",
      "Training Accuracy: 0.9592, Testing Accuracy: 0.9652\n",
      "\n"
     ]
    },
    {
     "name": "stdout",
     "output_type": "stream",
     "text": [
      "Epoch 230, Loss 0.0374\n",
      "Training Accuracy: 0.9594, Testing Accuracy: 0.9647\n",
      "\n"
     ]
    },
    {
     "name": "stdout",
     "output_type": "stream",
     "text": [
      "Epoch 240, Loss 0.0371\n",
      "Training Accuracy: 0.9600, Testing Accuracy: 0.9652\n",
      "\n"
     ]
    },
    {
     "data": {
      "text/plain": [
       "0.06366756784237029"
      ]
     },
     "execution_count": 23,
     "metadata": {},
     "output_type": "execute_result"
    }
   ],
   "source": [
    "lr_learner.train_loop(dl)"
   ]
  },
  {
   "cell_type": "code",
   "execution_count": 24,
   "id": "ca410940",
   "metadata": {
    "execution": {
     "iopub.execute_input": "2021-09-10T10:10:04.074963Z",
     "iopub.status.busy": "2021-09-10T10:10:04.074289Z",
     "iopub.status.idle": "2021-09-10T10:10:04.370200Z",
     "shell.execute_reply": "2021-09-10T10:10:04.370744Z"
    },
    "papermill": {
     "duration": 0.354707,
     "end_time": "2021-09-10T10:10:04.370907",
     "exception": false,
     "start_time": "2021-09-10T10:10:04.016200",
     "status": "completed"
    },
    "tags": []
   },
   "outputs": [
    {
     "data": {
      "text/plain": [
       "<matplotlib.legend.Legend at 0x7f29c4472e48>"
      ]
     },
     "execution_count": 24,
     "metadata": {},
     "output_type": "execute_result"
    },
    {
     "data": {
      "image/png": "[encoded data removed]",
      "text/plain": [
       "<Figure size 1080x720 with 1 Axes>"
      ]
     },
     "metadata": {
      "needs_background": "light"
     },
     "output_type": "display_data"
    }
   ],
   "source": [
    "#comparing the results of NN and LR\n",
    "plt.figure(figsize=(15,10))\n",
    "\n",
    "# Neural Network plots\n",
    "plt.plot(acc_nn.accuracies, 'r-', label = \"Training Accuracies - NN\")\n",
    "plt.plot(acc_nn.test_accuracies, 'g-', label = \"Testing Accuracies - NN\")\n",
    "\n",
    "# Logistic Regression plots\n",
    "plt.plot(acc_lr.accuracies, 'k-', label = \"Training Accuracies - LR\")\n",
    "plt.plot(acc_lr.test_accuracies, 'b-', label = \"Testing Accuracies - LR\")\n",
    "plt.legend()"
   ]
  },
  {
   "cell_type": "markdown",
   "id": "80dfb35c",
   "metadata": {
    "papermill": {
     "duration": 0.052014,
     "end_time": "2021-09-10T10:10:04.475701",
     "exception": false,
     "start_time": "2021-09-10T10:10:04.423687",
     "status": "completed"
    },
    "tags": []
   },
   "source": [
    "#### Plotting the outputs of this layer of the NN.\n"
   ]
  },
  {
   "cell_type": "code",
   "execution_count": 25,
   "id": "45eb2ff5",
   "metadata": {
    "execution": {
     "iopub.execute_input": "2021-09-10T10:10:04.591589Z",
     "iopub.status.busy": "2021-09-10T10:10:04.590932Z",
     "iopub.status.idle": "2021-09-10T10:10:04.611839Z",
     "shell.execute_reply": "2021-09-10T10:10:04.612388Z"
    },
    "papermill": {
     "duration": 0.08418,
     "end_time": "2021-09-10T10:10:04.612555",
     "exception": false,
     "start_time": "2021-09-10T10:10:04.528375",
     "status": "completed"
    },
    "tags": []
   },
   "outputs": [],
   "source": [
    "new_model = Model(layers[:-2])\n",
    "testing_plot = new_model(testing_data_x)"
   ]
  },
  {
   "cell_type": "code",
   "execution_count": 26,
   "id": "4c0a5485",
   "metadata": {
    "execution": {
     "iopub.execute_input": "2021-09-10T10:10:04.725536Z",
     "iopub.status.busy": "2021-09-10T10:10:04.724873Z",
     "iopub.status.idle": "2021-09-10T10:10:04.982866Z",
     "shell.execute_reply": "2021-09-10T10:10:04.983511Z"
    },
    "papermill": {
     "duration": 0.314535,
     "end_time": "2021-09-10T10:10:04.983675",
     "exception": false,
     "start_time": "2021-09-10T10:10:04.669140",
     "status": "completed"
    },
    "tags": []
   },
   "outputs": [
    {
     "data": {
      "text/plain": [
       "Text(0.5, 1.0, 'Outputs')"
      ]
     },
     "execution_count": 26,
     "metadata": {},
     "output_type": "execute_result"
    },
    {
     "data": {
      "image/png": "[encoded data removed]",
      "text/plain": [
       "<Figure size 576x504 with 1 Axes>"
      ]
     },
     "metadata": {
      "needs_background": "light"
     },
     "output_type": "display_data"
    }
   ],
   "source": [
    "# Plotting the scatter plot of points and color coding by class\n",
    "plt.figure(figsize=(8,7))\n",
    "plt.scatter(testing_plot[:,0], testing_plot[:,1], alpha = 0.1, c = y_test.ravel());\n",
    "plt.title('Outputs')"
   ]
  },
  {
   "cell_type": "markdown",
   "id": "a74fcf8f",
   "metadata": {
    "papermill": {
     "duration": 0.054589,
     "end_time": "2021-09-10T10:10:05.094468",
     "exception": false,
     "start_time": "2021-09-10T10:10:05.039879",
     "status": "completed"
    },
    "tags": []
   },
   "source": [
    "Probability contours"
   ]
  },
  {
   "cell_type": "code",
   "execution_count": 27,
   "id": "d0afc8e3",
   "metadata": {
    "execution": {
     "iopub.execute_input": "2021-09-10T10:10:05.234002Z",
     "iopub.status.busy": "2021-09-10T10:10:05.232206Z",
     "iopub.status.idle": "2021-09-10T10:10:05.241685Z",
     "shell.execute_reply": "2021-09-10T10:10:05.241153Z"
    },
    "papermill": {
     "duration": 0.091424,
     "end_time": "2021-09-10T10:10:05.241817",
     "exception": false,
     "start_time": "2021-09-10T10:10:05.150393",
     "status": "completed"
    },
    "tags": []
   },
   "outputs": [],
   "source": [
    "model_prob = Model(layers[-2:]) "
   ]
  },
  {
   "cell_type": "code",
   "execution_count": 28,
   "id": "9b96e238",
   "metadata": {
    "execution": {
     "iopub.execute_input": "2021-09-10T10:10:05.387879Z",
     "iopub.status.busy": "2021-09-10T10:10:05.387199Z",
     "iopub.status.idle": "2021-09-10T10:10:05.422626Z",
     "shell.execute_reply": "2021-09-10T10:10:05.423136Z"
    },
    "papermill": {
     "duration": 0.118695,
     "end_time": "2021-09-10T10:10:05.423298",
     "exception": false,
     "start_time": "2021-09-10T10:10:05.304603",
     "status": "completed"
    },
    "tags": []
   },
   "outputs": [],
   "source": [
    "#creating the x and y ranges according to the above generated plot.\n",
    "x_range = np.linspace(-4, 1, 100) \n",
    "y_range = np.linspace(-6, 6, 100) \n",
    "x_grid, y_grid = np.meshgrid(x_range, y_range) # x_grid and y_grig are of size 100 X 100\n",
    "\n",
    "# converting x_grid and y_grid to continuous arrays\n",
    "x_gridflat = np.ravel(x_grid)\n",
    "y_gridflat = np.ravel(y_grid)\n",
    "\n",
    "# The last layer of the current model takes two columns as input. Hence transpose of np.vstack() is required.\n",
    "X = np.vstack((x_gridflat, y_gridflat)).T\n",
    "\n",
    "prob_contour = model_prob(X).reshape(100,100) "
   ]
  },
  {
   "cell_type": "code",
   "execution_count": 29,
   "id": "da72499a",
   "metadata": {
    "execution": {
     "iopub.execute_input": "2021-09-10T10:10:05.542460Z",
     "iopub.status.busy": "2021-09-10T10:10:05.541820Z",
     "iopub.status.idle": "2021-09-10T10:10:05.852131Z",
     "shell.execute_reply": "2021-09-10T10:10:05.851557Z"
    },
    "papermill": {
     "duration": 0.370328,
     "end_time": "2021-09-10T10:10:05.852273",
     "exception": false,
     "start_time": "2021-09-10T10:10:05.481945",
     "status": "completed"
    },
    "tags": []
   },
   "outputs": [
    {
     "data": {
      "image/png": "[encoded data removed]",
      "text/plain": [
       "<Figure size 720x648 with 1 Axes>"
      ]
     },
     "metadata": {
      "needs_background": "light"
     },
     "output_type": "display_data"
    }
   ],
   "source": [
    "plt.figure(figsize=(10,9))\n",
    "plt.scatter(testing_plot[:,0], testing_plot[:,1], alpha = 0.1, c = y_test.ravel())\n",
    "contours = plt.contour(x_grid,y_grid,prob_contour)\n",
    "plt.title('Probability Contours')\n",
    "plt.clabel(contours, inline = True );"
   ]
  },
  {
   "cell_type": "code",
   "execution_count": null,
   "id": "e81b4ac7",
   "metadata": {
    "papermill": {
     "duration": 0.056711,
     "end_time": "2021-09-10T10:10:05.968029",
     "exception": false,
     "start_time": "2021-09-10T10:10:05.911318",
     "status": "completed"
    },
    "tags": []
   },
   "outputs": [],
   "source": []
  }
 ],
 "metadata": {
  "kernelspec": {
   "display_name": "Python 3",
   "language": "python",
   "name": "python3"
  },
  "language_info": {
   "codemirror_mode": {
    "name": "ipython",
    "version": 3
   },
   "file_extension": ".py",
   "mimetype": "text/x-python",
   "name": "python",
   "nbconvert_exporter": "python",
   "pygments_lexer": "ipython3",
   "version": "3.6.14"
  },
  "papermill": {
   "default_parameters": {},
   "duration": 154.79451,
   "end_time": "2021-09-10T10:10:06.432958",
   "environment_variables": {},
   "exception": null,
   "input_path": "2020-08-11-part2.ipynb",
   "output_path": "2020-08-11-part2.ipynb",
   "parameters": {},
   "start_time": "2021-09-10T10:07:31.638448",
   "version": "2.3.3"
  }
 },
 "nbformat": 4,
 "nbformat_minor": 5
}