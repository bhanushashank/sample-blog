{
 "cells": [
  {
   "cell_type": "markdown",
   "id": "98380cd3",
   "metadata": {
    "papermill": {
     "duration": 0.036769,
     "end_time": "2022-03-15T10:11:05.828488",
     "exception": false,
     "start_time": "2022-03-15T10:11:05.791719",
     "status": "completed"
    },
    "tags": []
   },
   "source": [
    "# Distinguish Your Own Digits (DYOD)"
   ]
  },
  {
   "cell_type": "markdown",
   "id": "ef31240d",
   "metadata": {
    "papermill": {
     "duration": 0.033246,
     "end_time": "2022-03-15T10:11:05.893939",
     "exception": false,
     "start_time": "2022-03-15T10:11:05.860693",
     "status": "completed"
    },
    "tags": []
   },
   "source": [
    "You are going to write a classifier that distinguishes between the number 3 and number 8."
   ]
  },
  {
   "cell_type": "code",
   "execution_count": 1,
   "id": "b15c8646",
   "metadata": {
    "execution": {
     "iopub.execute_input": "2022-03-15T10:11:05.972074Z",
     "iopub.status.busy": "2022-03-15T10:11:05.971321Z",
     "iopub.status.idle": "2022-03-15T10:11:05.984379Z",
     "shell.execute_reply": "2022-03-15T10:11:05.984985Z"
    },
    "papermill": {
     "duration": 0.059214,
     "end_time": "2022-03-15T10:11:05.985217",
     "exception": false,
     "start_time": "2022-03-15T10:11:05.926003",
     "status": "completed"
    },
    "tags": []
   },
   "outputs": [],
   "source": [
    "%load_ext autoreload\n",
    "%autoreload 2"
   ]
  },
  {
   "cell_type": "code",
   "execution_count": 2,
   "id": "22ef38dc",
   "metadata": {
    "execution": {
     "iopub.execute_input": "2022-03-15T10:11:06.056272Z",
     "iopub.status.busy": "2022-03-15T10:11:06.055562Z",
     "iopub.status.idle": "2022-03-15T10:11:06.844782Z",
     "shell.execute_reply": "2022-03-15T10:11:06.844133Z"
    },
    "papermill": {
     "duration": 0.826755,
     "end_time": "2022-03-15T10:11:06.844941",
     "exception": false,
     "start_time": "2022-03-15T10:11:06.018186",
     "status": "completed"
    },
    "tags": []
   },
   "outputs": [],
   "source": [
    "%matplotlib inline\n",
    "import numpy as np\n",
    "import matplotlib.pyplot as plt\n",
    "import pandas as pd"
   ]
  },
  {
   "cell_type": "markdown",
   "id": "ba036198",
   "metadata": {
    "papermill": {
     "duration": 0.035774,
     "end_time": "2022-03-15T10:11:06.917589",
     "exception": false,
     "start_time": "2022-03-15T10:11:06.881815",
     "status": "completed"
    },
    "tags": []
   },
   "source": [
    "From the command line run `pip install mnist`. This is a library that will help you bring down the mnist dataset. If you run this from a notebook, you need to put  `!pip install mnist` in a cell by itself."
   ]
  },
  {
   "cell_type": "code",
   "execution_count": 3,
   "id": "bb6ad8a1",
   "metadata": {
    "execution": {
     "iopub.execute_input": "2022-03-15T10:11:06.991765Z",
     "iopub.status.busy": "2022-03-15T10:11:06.991045Z",
     "iopub.status.idle": "2022-03-15T10:11:09.137787Z",
     "shell.execute_reply": "2022-03-15T10:11:09.137200Z"
    },
    "papermill": {
     "duration": 2.18673,
     "end_time": "2022-03-15T10:11:09.137937",
     "exception": false,
     "start_time": "2022-03-15T10:11:06.951207",
     "status": "completed"
    },
    "tags": []
   },
   "outputs": [
    {
     "name": "stdout",
     "output_type": "stream",
     "text": [
      "Collecting mnist\r\n"
     ]
    },
    {
     "name": "stdout",
     "output_type": "stream",
     "text": [
      "  Downloading mnist-0.2.2-py2.py3-none-any.whl (3.5 kB)\r\n",
      "Requirement already satisfied: numpy in /opt/hostedtoolcache/Python/3.6.15/x64/lib/python3.6/site-packages (from mnist) (1.19.5)\r\n"
     ]
    },
    {
     "name": "stdout",
     "output_type": "stream",
     "text": [
      "Installing collected packages: mnist\r\n"
     ]
    },
    {
     "name": "stdout",
     "output_type": "stream",
     "text": [
      "Successfully installed mnist-0.2.2\r\n"
     ]
    }
   ],
   "source": [
    "!pip install mnist"
   ]
  },
  {
   "cell_type": "markdown",
   "id": "69df9c9a",
   "metadata": {
    "papermill": {
     "duration": 0.033314,
     "end_time": "2022-03-15T10:11:09.210295",
     "exception": false,
     "start_time": "2022-03-15T10:11:09.176981",
     "status": "completed"
    },
    "tags": []
   },
   "source": [
    "## Preparing the Data"
   ]
  },
  {
   "cell_type": "code",
   "execution_count": 4,
   "id": "7f69d806",
   "metadata": {
    "execution": {
     "iopub.execute_input": "2022-03-15T10:11:09.284058Z",
     "iopub.status.busy": "2022-03-15T10:11:09.283340Z",
     "iopub.status.idle": "2022-03-15T10:11:09.300396Z",
     "shell.execute_reply": "2022-03-15T10:11:09.299732Z"
    },
    "papermill": {
     "duration": 0.056146,
     "end_time": "2022-03-15T10:11:09.300559",
     "exception": false,
     "start_time": "2022-03-15T10:11:09.244413",
     "status": "completed"
    },
    "tags": []
   },
   "outputs": [],
   "source": [
    "import mnist"
   ]
  },
  {
   "cell_type": "code",
   "execution_count": 5,
   "id": "a411e44f",
   "metadata": {
    "execution": {
     "iopub.execute_input": "2022-03-15T10:11:09.375426Z",
     "iopub.status.busy": "2022-03-15T10:11:09.374732Z",
     "iopub.status.idle": "2022-03-15T10:11:09.986548Z",
     "shell.execute_reply": "2022-03-15T10:11:09.985851Z"
    },
    "papermill": {
     "duration": 0.651856,
     "end_time": "2022-03-15T10:11:09.986718",
     "exception": false,
     "start_time": "2022-03-15T10:11:09.334862",
     "status": "completed"
    },
    "tags": []
   },
   "outputs": [],
   "source": [
    "train_images = mnist.train_images()\n",
    "train_labels = mnist.train_labels()"
   ]
  },
  {
   "cell_type": "code",
   "execution_count": 6,
   "id": "dceab3a5",
   "metadata": {
    "execution": {
     "iopub.execute_input": "2022-03-15T10:11:10.063743Z",
     "iopub.status.busy": "2022-03-15T10:11:10.063029Z",
     "iopub.status.idle": "2022-03-15T10:11:10.077039Z",
     "shell.execute_reply": "2022-03-15T10:11:10.077633Z"
    },
    "papermill": {
     "duration": 0.056906,
     "end_time": "2022-03-15T10:11:10.077808",
     "exception": false,
     "start_time": "2022-03-15T10:11:10.020902",
     "status": "completed"
    },
    "tags": []
   },
   "outputs": [
    {
     "data": {
      "text/plain": [
       "((60000, 28, 28), (60000,))"
      ]
     },
     "execution_count": 6,
     "metadata": {},
     "output_type": "execute_result"
    }
   ],
   "source": [
    "train_images.shape, train_labels.shape"
   ]
  },
  {
   "cell_type": "code",
   "execution_count": 7,
   "id": "f50dc2bb",
   "metadata": {
    "execution": {
     "iopub.execute_input": "2022-03-15T10:11:10.156235Z",
     "iopub.status.busy": "2022-03-15T10:11:10.155561Z",
     "iopub.status.idle": "2022-03-15T10:11:10.334633Z",
     "shell.execute_reply": "2022-03-15T10:11:10.333434Z"
    },
    "papermill": {
     "duration": 0.21879,
     "end_time": "2022-03-15T10:11:10.334783",
     "exception": false,
     "start_time": "2022-03-15T10:11:10.115993",
     "status": "completed"
    },
    "tags": []
   },
   "outputs": [],
   "source": [
    "test_images = mnist.test_images()\n",
    "test_labels = mnist.test_labels()"
   ]
  },
  {
   "cell_type": "code",
   "execution_count": 8,
   "id": "fc38cf1b",
   "metadata": {
    "execution": {
     "iopub.execute_input": "2022-03-15T10:11:10.411311Z",
     "iopub.status.busy": "2022-03-15T10:11:10.406798Z",
     "iopub.status.idle": "2022-03-15T10:11:10.421964Z",
     "shell.execute_reply": "2022-03-15T10:11:10.421229Z"
    },
    "papermill": {
     "duration": 0.053716,
     "end_time": "2022-03-15T10:11:10.422129",
     "exception": false,
     "start_time": "2022-03-15T10:11:10.368413",
     "status": "completed"
    },
    "tags": []
   },
   "outputs": [
    {
     "data": {
      "text/plain": [
       "((10000, 28, 28), (10000,))"
      ]
     },
     "execution_count": 8,
     "metadata": {},
     "output_type": "execute_result"
    }
   ],
   "source": [
    "test_images.shape, test_labels.shape"
   ]
  },
  {
   "cell_type": "code",
   "execution_count": 9,
   "id": "f9ed8fe0",
   "metadata": {
    "execution": {
     "iopub.execute_input": "2022-03-15T10:11:10.500510Z",
     "iopub.status.busy": "2022-03-15T10:11:10.499852Z",
     "iopub.status.idle": "2022-03-15T10:11:10.712463Z",
     "shell.execute_reply": "2022-03-15T10:11:10.711892Z"
    },
    "papermill": {
     "duration": 0.255227,
     "end_time": "2022-03-15T10:11:10.712659",
     "exception": false,
     "start_time": "2022-03-15T10:11:10.457432",
     "status": "completed"
    },
    "tags": []
   },
   "outputs": [
    {
     "name": "stdout",
     "output_type": "stream",
     "text": [
      "2\n"
     ]
    },
    {
     "data": {
      "text/plain": [
       "<matplotlib.image.AxesImage at 0x7f6e0dc875f8>"
      ]
     },
     "execution_count": 9,
     "metadata": {},
     "output_type": "execute_result"
    },
    {
     "data": {
      "image/png": "[encoded data removed]",
      "text/plain": [
       "<Figure size 432x288 with 1 Axes>"
      ]
     },
     "metadata": {
      "needs_background": "light"
     },
     "output_type": "display_data"
    }
   ],
   "source": [
    "image_index = 7776 # You may select anything up to 60,000\n",
    "print(train_labels[image_index]) \n",
    "plt.imshow(train_images[image_index], cmap='Greys')"
   ]
  },
  {
   "cell_type": "markdown",
   "id": "a8d2388d",
   "metadata": {
    "papermill": {
     "duration": 0.036989,
     "end_time": "2022-03-15T10:11:10.784367",
     "exception": false,
     "start_time": "2022-03-15T10:11:10.747378",
     "status": "completed"
    },
    "tags": []
   },
   "source": [
    "## Filter data to get 3 and 8 out"
   ]
  },
  {
   "cell_type": "code",
   "execution_count": 10,
   "id": "776f7fc7",
   "metadata": {
    "execution": {
     "iopub.execute_input": "2022-03-15T10:11:10.872316Z",
     "iopub.status.busy": "2022-03-15T10:11:10.869419Z",
     "iopub.status.idle": "2022-03-15T10:11:10.901239Z",
     "shell.execute_reply": "2022-03-15T10:11:10.900590Z"
    },
    "papermill": {
     "duration": 0.077484,
     "end_time": "2022-03-15T10:11:10.901412",
     "exception": false,
     "start_time": "2022-03-15T10:11:10.823928",
     "status": "completed"
    },
    "tags": []
   },
   "outputs": [],
   "source": [
    "train_filter = np.where((train_labels == 3 ) | (train_labels == 8))\n",
    "test_filter = np.where((test_labels == 3) | (test_labels == 8))\n",
    "X_train, y_train = train_images[train_filter], train_labels[train_filter]\n",
    "X_test, y_test = test_images[test_filter], test_labels[test_filter]"
   ]
  },
  {
   "cell_type": "markdown",
   "id": "948f0b7e",
   "metadata": {
    "papermill": {
     "duration": 0.036858,
     "end_time": "2022-03-15T10:11:10.975378",
     "exception": false,
     "start_time": "2022-03-15T10:11:10.938520",
     "status": "completed"
    },
    "tags": []
   },
   "source": [
    "We normalize the pizel values in the 0 to 1 range"
   ]
  },
  {
   "cell_type": "code",
   "execution_count": 11,
   "id": "ee4c2166",
   "metadata": {
    "execution": {
     "iopub.execute_input": "2022-03-15T10:11:11.053687Z",
     "iopub.status.busy": "2022-03-15T10:11:11.052986Z",
     "iopub.status.idle": "2022-03-15T10:11:11.124959Z",
     "shell.execute_reply": "2022-03-15T10:11:11.124254Z"
    },
    "papermill": {
     "duration": 0.112526,
     "end_time": "2022-03-15T10:11:11.125209",
     "exception": false,
     "start_time": "2022-03-15T10:11:11.012683",
     "status": "completed"
    },
    "tags": []
   },
   "outputs": [],
   "source": [
    "X_train = X_train/255.\n",
    "X_test = X_test/255."
   ]
  },
  {
   "cell_type": "markdown",
   "id": "ddcf4fab",
   "metadata": {
    "papermill": {
     "duration": 0.036628,
     "end_time": "2022-03-15T10:11:11.198749",
     "exception": false,
     "start_time": "2022-03-15T10:11:11.162121",
     "status": "completed"
    },
    "tags": []
   },
   "source": [
    "And setup the labels as 1 (when the digit is 3) and 0 (when the digit is 8)"
   ]
  },
  {
   "cell_type": "code",
   "execution_count": 12,
   "id": "7dc908f2",
   "metadata": {
    "execution": {
     "iopub.execute_input": "2022-03-15T10:11:11.279950Z",
     "iopub.status.busy": "2022-03-15T10:11:11.279166Z",
     "iopub.status.idle": "2022-03-15T10:11:11.291876Z",
     "shell.execute_reply": "2022-03-15T10:11:11.291256Z"
    },
    "papermill": {
     "duration": 0.0574,
     "end_time": "2022-03-15T10:11:11.292024",
     "exception": false,
     "start_time": "2022-03-15T10:11:11.234624",
     "status": "completed"
    },
    "tags": []
   },
   "outputs": [],
   "source": [
    "y_train = 1*(y_train==3)\n",
    "y_test = 1*(y_test==3)"
   ]
  },
  {
   "cell_type": "code",
   "execution_count": 13,
   "id": "01e4e969",
   "metadata": {
    "execution": {
     "iopub.execute_input": "2022-03-15T10:11:11.371876Z",
     "iopub.status.busy": "2022-03-15T10:11:11.371130Z",
     "iopub.status.idle": "2022-03-15T10:11:11.396234Z",
     "shell.execute_reply": "2022-03-15T10:11:11.395610Z"
    },
    "papermill": {
     "duration": 0.068439,
     "end_time": "2022-03-15T10:11:11.396399",
     "exception": false,
     "start_time": "2022-03-15T10:11:11.327960",
     "status": "completed"
    },
    "tags": []
   },
   "outputs": [
    {
     "data": {
      "text/plain": [
       "((11982, 28, 28), (1984, 28, 28))"
      ]
     },
     "execution_count": 13,
     "metadata": {},
     "output_type": "execute_result"
    }
   ],
   "source": [
    "X_train.shape, X_test.shape"
   ]
  },
  {
   "cell_type": "markdown",
   "id": "5ccf3f85",
   "metadata": {
    "papermill": {
     "duration": 0.036061,
     "end_time": "2022-03-15T10:11:11.468539",
     "exception": false,
     "start_time": "2022-03-15T10:11:11.432478",
     "status": "completed"
    },
    "tags": []
   },
   "source": [
    "We reshape the data to flatten the image pixels into a set of features or co-variates:"
   ]
  },
  {
   "cell_type": "code",
   "execution_count": 14,
   "id": "5286a4a3",
   "metadata": {
    "execution": {
     "iopub.execute_input": "2022-03-15T10:11:11.547216Z",
     "iopub.status.busy": "2022-03-15T10:11:11.546384Z",
     "iopub.status.idle": "2022-03-15T10:11:11.562932Z",
     "shell.execute_reply": "2022-03-15T10:11:11.562278Z"
    },
    "papermill": {
     "duration": 0.058666,
     "end_time": "2022-03-15T10:11:11.563081",
     "exception": false,
     "start_time": "2022-03-15T10:11:11.504415",
     "status": "completed"
    },
    "tags": []
   },
   "outputs": [
    {
     "data": {
      "text/plain": [
       "((11982, 784), (1984, 784))"
      ]
     },
     "execution_count": 14,
     "metadata": {},
     "output_type": "execute_result"
    }
   ],
   "source": [
    "X_train = X_train.reshape(X_train.shape[0], -1)\n",
    "X_test = X_test.reshape(X_test.shape[0], -1)\n",
    "X_train.shape, X_test.shape"
   ]
  },
  {
   "cell_type": "code",
   "execution_count": 15,
   "id": "73c5f88a",
   "metadata": {
    "execution": {
     "iopub.execute_input": "2022-03-15T10:11:11.644896Z",
     "iopub.status.busy": "2022-03-15T10:11:11.644173Z",
     "iopub.status.idle": "2022-03-15T10:11:11.671055Z",
     "shell.execute_reply": "2022-03-15T10:11:11.670414Z"
    },
    "papermill": {
     "duration": 0.070625,
     "end_time": "2022-03-15T10:11:11.671208",
     "exception": false,
     "start_time": "2022-03-15T10:11:11.600583",
     "status": "completed"
    },
    "tags": []
   },
   "outputs": [],
   "source": [
    "#Impoting functions from 'Kudzu'\n",
    "from kudzu.model import Model\n",
    "from kudzu.train import Learner\n",
    "from kudzu.optim import GD\n",
    "from kudzu.data import Data, Sampler,Dataloader\n",
    "\n",
    "from kudzu.callbacks import AccCallback\n",
    "from kudzu.callbacks import ClfCallback\n",
    "\n",
    "from kudzu.loss import MSE\n",
    "\n",
    "from kudzu.layer import Sigmoid,Relu\n",
    "from kudzu.layer import Affine"
   ]
  },
  {
   "cell_type": "markdown",
   "id": "bc01172a",
   "metadata": {
    "papermill": {
     "duration": 0.036101,
     "end_time": "2022-03-15T10:11:11.749525",
     "exception": false,
     "start_time": "2022-03-15T10:11:11.713424",
     "status": "completed"
    },
    "tags": []
   },
   "source": [
    "### Let us create a `Config` class, to store important parameters. \n",
    "This class essentially plays the role of a dictionary."
   ]
  },
  {
   "cell_type": "code",
   "execution_count": 16,
   "id": "978281aa",
   "metadata": {
    "execution": {
     "iopub.execute_input": "2022-03-15T10:11:11.831718Z",
     "iopub.status.busy": "2022-03-15T10:11:11.831011Z",
     "iopub.status.idle": "2022-03-15T10:11:11.847460Z",
     "shell.execute_reply": "2022-03-15T10:11:11.846706Z"
    },
    "papermill": {
     "duration": 0.062166,
     "end_time": "2022-03-15T10:11:11.847645",
     "exception": false,
     "start_time": "2022-03-15T10:11:11.785479",
     "status": "completed"
    },
    "tags": []
   },
   "outputs": [],
   "source": [
    "class Config:\n",
    "    pass\n",
    "config = Config()\n",
    "config.lr = 0.001\n",
    "config.num_epochs = 250\n",
    "config.bs = 50"
   ]
  },
  {
   "cell_type": "markdown",
   "id": "1385fa59",
   "metadata": {
    "papermill": {
     "duration": 0.039099,
     "end_time": "2022-03-15T10:11:11.925026",
     "exception": false,
     "start_time": "2022-03-15T10:11:11.885927",
     "status": "completed"
    },
    "tags": []
   },
   "source": [
    "### Running Models with the Training data\n",
    "Details about the network layers:\n",
    "- A first affine layer has 784 inputs and does 100 affine transforms. These are followed by a Relu\n",
    "- A second affine layer has 100 inputs from the 100 activations of the past layer, and does 100 affine transforms. These are followed by a Relu\n",
    "- A third affine layer has 100 activations and does 2 affine transformations to create an embedding for visualization. There is no non-linearity here.\n",
    "- A final \"logistic regression\" which has an affine transform from 2 inputs to 1 output, which is squeezed through a sigmoid.\n"
   ]
  },
  {
   "cell_type": "code",
   "execution_count": 17,
   "id": "2b9c66db",
   "metadata": {
    "execution": {
     "iopub.execute_input": "2022-03-15T10:11:12.007435Z",
     "iopub.status.busy": "2022-03-15T10:11:12.006704Z",
     "iopub.status.idle": "2022-03-15T10:11:12.022469Z",
     "shell.execute_reply": "2022-03-15T10:11:12.021667Z"
    },
    "papermill": {
     "duration": 0.06053,
     "end_time": "2022-03-15T10:11:12.022636",
     "exception": false,
     "start_time": "2022-03-15T10:11:11.962106",
     "status": "completed"
    },
    "tags": []
   },
   "outputs": [],
   "source": [
    "data = Data(X_train, y_train.reshape(-1,1))\n",
    "sampler = Sampler(data, config.bs, shuffle=True)\n",
    "\n",
    "dl = Dataloader(data, sampler)\n",
    "\n",
    "opt = GD(config.lr)\n",
    "loss = MSE()"
   ]
  },
  {
   "cell_type": "code",
   "execution_count": 18,
   "id": "b275e4c2",
   "metadata": {
    "execution": {
     "iopub.execute_input": "2022-03-15T10:11:12.102671Z",
     "iopub.status.busy": "2022-03-15T10:11:12.101924Z",
     "iopub.status.idle": "2022-03-15T10:11:12.116897Z",
     "shell.execute_reply": "2022-03-15T10:11:12.116287Z"
    },
    "papermill": {
     "duration": 0.057106,
     "end_time": "2022-03-15T10:11:12.117054",
     "exception": false,
     "start_time": "2022-03-15T10:11:12.059948",
     "status": "completed"
    },
    "tags": []
   },
   "outputs": [],
   "source": [
    "training_data_x = X_train\n",
    "testing_data_x = X_test\n",
    "training_data_y = y_train.reshape(-1,1)\n",
    "testing_data_y = y_test.reshape(-1,1)"
   ]
  },
  {
   "cell_type": "code",
   "execution_count": 19,
   "id": "76951160",
   "metadata": {
    "execution": {
     "iopub.execute_input": "2022-03-15T10:11:12.196272Z",
     "iopub.status.busy": "2022-03-15T10:11:12.195537Z",
     "iopub.status.idle": "2022-03-15T10:11:12.215213Z",
     "shell.execute_reply": "2022-03-15T10:11:12.215858Z"
    },
    "papermill": {
     "duration": 0.06299,
     "end_time": "2022-03-15T10:11:12.216032",
     "exception": false,
     "start_time": "2022-03-15T10:11:12.153042",
     "status": "completed"
    },
    "tags": []
   },
   "outputs": [
    {
     "name": "stdout",
     "output_type": "stream",
     "text": [
      "xavier\n",
      "xavier\n",
      "xavier\n",
      "xavier\n",
      "xavier\n"
     ]
    }
   ],
   "source": [
    "layers = [Affine(\"first\", 784, 100), Relu(\"first\"), Affine(\"second\", 100, 100), Relu(\"second\"), Affine(\"third\", 100, 2), Affine(\"last\", 2, 1), Sigmoid(\"last\")]\n",
    "model_nn = Model(layers)\n",
    "model_lr = Model([Affine(\"logits\", 784, 1), Sigmoid(\"sigmoid\")])"
   ]
  },
  {
   "cell_type": "code",
   "execution_count": 20,
   "id": "6eede77a",
   "metadata": {
    "execution": {
     "iopub.execute_input": "2022-03-15T10:11:12.301068Z",
     "iopub.status.busy": "2022-03-15T10:11:12.300374Z",
     "iopub.status.idle": "2022-03-15T10:11:12.314571Z",
     "shell.execute_reply": "2022-03-15T10:11:12.313841Z"
    },
    "papermill": {
     "duration": 0.059055,
     "end_time": "2022-03-15T10:11:12.314727",
     "exception": false,
     "start_time": "2022-03-15T10:11:12.255672",
     "status": "completed"
    },
    "tags": []
   },
   "outputs": [],
   "source": [
    "nn_learner = Learner(loss, model_nn, opt, config.num_epochs)\n",
    "acc_nn = ClfCallback(nn_learner, config.bs, training_data_x , testing_data_x, training_data_y, testing_data_y)\n",
    "nn_learner.set_callbacks([acc_nn])"
   ]
  },
  {
   "cell_type": "code",
   "execution_count": 21,
   "id": "877b6cc7",
   "metadata": {
    "execution": {
     "iopub.execute_input": "2022-03-15T10:11:12.405422Z",
     "iopub.status.busy": "2022-03-15T10:11:12.404677Z",
     "iopub.status.idle": "2022-03-15T10:11:12.416706Z",
     "shell.execute_reply": "2022-03-15T10:11:12.415995Z"
    },
    "papermill": {
     "duration": 0.063119,
     "end_time": "2022-03-15T10:11:12.416849",
     "exception": false,
     "start_time": "2022-03-15T10:11:12.353730",
     "status": "completed"
    },
    "tags": []
   },
   "outputs": [],
   "source": [
    "lr_learner = Learner(loss, model_lr, opt, config.num_epochs)\n",
    "acc_lr = ClfCallback(lr_learner, config.bs, training_data_x , testing_data_x, training_data_y, testing_data_y)\n",
    "lr_learner.set_callbacks([acc_lr])"
   ]
  },
  {
   "cell_type": "code",
   "execution_count": 22,
   "id": "d9b133c3",
   "metadata": {
    "execution": {
     "iopub.execute_input": "2022-03-15T10:11:12.503584Z",
     "iopub.status.busy": "2022-03-15T10:11:12.495205Z",
     "iopub.status.idle": "2022-03-15T10:13:39.524755Z",
     "shell.execute_reply": "2022-03-15T10:13:39.525526Z"
    },
    "papermill": {
     "duration": 147.073525,
     "end_time": "2022-03-15T10:13:39.525715",
     "exception": false,
     "start_time": "2022-03-15T10:11:12.452190",
     "status": "completed"
    },
    "tags": []
   },
   "outputs": [
    {
     "name": "stdout",
     "output_type": "stream",
     "text": [
      "Epoch 0, Loss 0.2405\n",
      "Training Accuracy: 0.6733, Testing Accuracy: 0.7011\n",
      "\n"
     ]
    },
    {
     "name": "stdout",
     "output_type": "stream",
     "text": [
      "Epoch 10, Loss 0.094\n",
      "Training Accuracy: 0.9257, Testing Accuracy: 0.9375\n",
      "\n"
     ]
    },
    {
     "name": "stdout",
     "output_type": "stream",
     "text": [
      "Epoch 20, Loss 0.0561\n",
      "Training Accuracy: 0.9437, Testing Accuracy: 0.9531\n",
      "\n"
     ]
    },
    {
     "name": "stdout",
     "output_type": "stream",
     "text": [
      "Epoch 30, Loss 0.0445\n",
      "Training Accuracy: 0.9526, Testing Accuracy: 0.9627\n",
      "\n"
     ]
    },
    {
     "name": "stdout",
     "output_type": "stream",
     "text": [
      "Epoch 40, Loss 0.0388\n",
      "Training Accuracy: 0.9572, Testing Accuracy: 0.9688\n",
      "\n"
     ]
    },
    {
     "name": "stdout",
     "output_type": "stream",
     "text": [
      "Epoch 50, Loss 0.0354\n",
      "Training Accuracy: 0.9600, Testing Accuracy: 0.9693\n",
      "\n"
     ]
    },
    {
     "name": "stdout",
     "output_type": "stream",
     "text": [
      "Epoch 60, Loss 0.033\n",
      "Training Accuracy: 0.9619, Testing Accuracy: 0.9693\n",
      "\n"
     ]
    },
    {
     "name": "stdout",
     "output_type": "stream",
     "text": [
      "Epoch 70, Loss 0.0312\n",
      "Training Accuracy: 0.9634, Testing Accuracy: 0.9708\n",
      "\n"
     ]
    },
    {
     "name": "stdout",
     "output_type": "stream",
     "text": [
      "Epoch 80, Loss 0.0298\n",
      "Training Accuracy: 0.9645, Testing Accuracy: 0.9713\n",
      "\n"
     ]
    },
    {
     "name": "stdout",
     "output_type": "stream",
     "text": [
      "Epoch 90, Loss 0.0287\n",
      "Training Accuracy: 0.9661, Testing Accuracy: 0.9703\n",
      "\n"
     ]
    },
    {
     "name": "stdout",
     "output_type": "stream",
     "text": [
      "Epoch 100, Loss 0.0277\n",
      "Training Accuracy: 0.9670, Testing Accuracy: 0.9703\n",
      "\n"
     ]
    },
    {
     "name": "stdout",
     "output_type": "stream",
     "text": [
      "Epoch 110, Loss 0.0268\n",
      "Training Accuracy: 0.9678, Testing Accuracy: 0.9708\n",
      "\n"
     ]
    },
    {
     "name": "stdout",
     "output_type": "stream",
     "text": [
      "Epoch 120, Loss 0.0261\n",
      "Training Accuracy: 0.9681, Testing Accuracy: 0.9718\n",
      "\n"
     ]
    },
    {
     "name": "stdout",
     "output_type": "stream",
     "text": [
      "Epoch 130, Loss 0.0254\n",
      "Training Accuracy: 0.9689, Testing Accuracy: 0.9718\n",
      "\n"
     ]
    },
    {
     "name": "stdout",
     "output_type": "stream",
     "text": [
      "Epoch 140, Loss 0.0247\n",
      "Training Accuracy: 0.9700, Testing Accuracy: 0.9718\n",
      "\n"
     ]
    },
    {
     "name": "stdout",
     "output_type": "stream",
     "text": [
      "Epoch 150, Loss 0.0242\n",
      "Training Accuracy: 0.9710, Testing Accuracy: 0.9728\n",
      "\n"
     ]
    },
    {
     "name": "stdout",
     "output_type": "stream",
     "text": [
      "Epoch 160, Loss 0.0236\n",
      "Training Accuracy: 0.9720, Testing Accuracy: 0.9723\n",
      "\n"
     ]
    },
    {
     "name": "stdout",
     "output_type": "stream",
     "text": [
      "Epoch 170, Loss 0.0231\n",
      "Training Accuracy: 0.9726, Testing Accuracy: 0.9728\n",
      "\n"
     ]
    },
    {
     "name": "stdout",
     "output_type": "stream",
     "text": [
      "Epoch 180, Loss 0.0226\n",
      "Training Accuracy: 0.9735, Testing Accuracy: 0.9728\n",
      "\n"
     ]
    },
    {
     "name": "stdout",
     "output_type": "stream",
     "text": [
      "Epoch 190, Loss 0.0222\n",
      "Training Accuracy: 0.9742, Testing Accuracy: 0.9728\n",
      "\n"
     ]
    },
    {
     "name": "stdout",
     "output_type": "stream",
     "text": [
      "Epoch 200, Loss 0.0218\n",
      "Training Accuracy: 0.9746, Testing Accuracy: 0.9718\n",
      "\n"
     ]
    },
    {
     "name": "stdout",
     "output_type": "stream",
     "text": [
      "Epoch 210, Loss 0.0213\n",
      "Training Accuracy: 0.9752, Testing Accuracy: 0.9723\n",
      "\n"
     ]
    },
    {
     "name": "stdout",
     "output_type": "stream",
     "text": [
      "Epoch 220, Loss 0.021\n",
      "Training Accuracy: 0.9756, Testing Accuracy: 0.9713\n",
      "\n"
     ]
    },
    {
     "name": "stdout",
     "output_type": "stream",
     "text": [
      "Epoch 230, Loss 0.0206\n",
      "Training Accuracy: 0.9761, Testing Accuracy: 0.9718\n",
      "\n"
     ]
    },
    {
     "name": "stdout",
     "output_type": "stream",
     "text": [
      "Epoch 240, Loss 0.0202\n",
      "Training Accuracy: 0.9767, Testing Accuracy: 0.9723\n",
      "\n"
     ]
    },
    {
     "data": {
      "text/plain": [
       "0.016611511805054466"
      ]
     },
     "execution_count": 22,
     "metadata": {},
     "output_type": "execute_result"
    }
   ],
   "source": [
    "nn_learner.train_loop(dl)"
   ]
  },
  {
   "cell_type": "code",
   "execution_count": 23,
   "id": "e0163366",
   "metadata": {
    "execution": {
     "iopub.execute_input": "2022-03-15T10:13:39.624078Z",
     "iopub.status.busy": "2022-03-15T10:13:39.623370Z",
     "iopub.status.idle": "2022-03-15T10:14:00.750315Z",
     "shell.execute_reply": "2022-03-15T10:14:00.751224Z"
    },
    "papermill": {
     "duration": 21.178011,
     "end_time": "2022-03-15T10:14:00.751399",
     "exception": false,
     "start_time": "2022-03-15T10:13:39.573388",
     "status": "completed"
    },
    "tags": []
   },
   "outputs": [
    {
     "name": "stdout",
     "output_type": "stream",
     "text": [
      "Epoch 0, Loss 0.2444\n",
      "Training Accuracy: 0.6743, Testing Accuracy: 0.6930\n",
      "\n"
     ]
    },
    {
     "name": "stdout",
     "output_type": "stream",
     "text": [
      "Epoch 10, Loss 0.1047\n",
      "Training Accuracy: 0.9091, Testing Accuracy: 0.9229\n",
      "\n"
     ]
    },
    {
     "name": "stdout",
     "output_type": "stream",
     "text": [
      "Epoch 20, Loss 0.08\n",
      "Training Accuracy: 0.9280, Testing Accuracy: 0.9375\n",
      "\n"
     ]
    },
    {
     "name": "stdout",
     "output_type": "stream",
     "text": [
      "Epoch 30, Loss 0.0686\n",
      "Training Accuracy: 0.9355, Testing Accuracy: 0.9466\n",
      "\n"
     ]
    },
    {
     "name": "stdout",
     "output_type": "stream",
     "text": [
      "Epoch 40, Loss 0.0619\n",
      "Training Accuracy: 0.9404, Testing Accuracy: 0.9536\n",
      "\n"
     ]
    },
    {
     "name": "stdout",
     "output_type": "stream",
     "text": [
      "Epoch 50, Loss 0.0573\n",
      "Training Accuracy: 0.9439, Testing Accuracy: 0.9546\n",
      "\n"
     ]
    },
    {
     "name": "stdout",
     "output_type": "stream",
     "text": [
      "Epoch 60, Loss 0.0539\n",
      "Training Accuracy: 0.9457, Testing Accuracy: 0.9572\n",
      "\n"
     ]
    },
    {
     "name": "stdout",
     "output_type": "stream",
     "text": [
      "Epoch 70, Loss 0.0513\n",
      "Training Accuracy: 0.9471, Testing Accuracy: 0.9592\n",
      "\n"
     ]
    },
    {
     "name": "stdout",
     "output_type": "stream",
     "text": [
      "Epoch 80, Loss 0.0493\n",
      "Training Accuracy: 0.9491, Testing Accuracy: 0.9597\n",
      "\n"
     ]
    },
    {
     "name": "stdout",
     "output_type": "stream",
     "text": [
      "Epoch 90, Loss 0.0476\n",
      "Training Accuracy: 0.9501, Testing Accuracy: 0.9597\n",
      "\n"
     ]
    },
    {
     "name": "stdout",
     "output_type": "stream",
     "text": [
      "Epoch 100, Loss 0.0461\n",
      "Training Accuracy: 0.9514, Testing Accuracy: 0.9612\n",
      "\n"
     ]
    },
    {
     "name": "stdout",
     "output_type": "stream",
     "text": [
      "Epoch 110, Loss 0.0449\n",
      "Training Accuracy: 0.9530, Testing Accuracy: 0.9622\n",
      "\n"
     ]
    },
    {
     "name": "stdout",
     "output_type": "stream",
     "text": [
      "Epoch 120, Loss 0.0438\n",
      "Training Accuracy: 0.9542, Testing Accuracy: 0.9627\n",
      "\n"
     ]
    },
    {
     "name": "stdout",
     "output_type": "stream",
     "text": [
      "Epoch 130, Loss 0.0429\n",
      "Training Accuracy: 0.9549, Testing Accuracy: 0.9647\n",
      "\n"
     ]
    },
    {
     "name": "stdout",
     "output_type": "stream",
     "text": [
      "Epoch 140, Loss 0.0421\n",
      "Training Accuracy: 0.9553, Testing Accuracy: 0.9647\n",
      "\n"
     ]
    },
    {
     "name": "stdout",
     "output_type": "stream",
     "text": [
      "Epoch 150, Loss 0.0413\n",
      "Training Accuracy: 0.9562, Testing Accuracy: 0.9657\n",
      "\n"
     ]
    },
    {
     "name": "stdout",
     "output_type": "stream",
     "text": [
      "Epoch 160, Loss 0.0406\n",
      "Training Accuracy: 0.9566, Testing Accuracy: 0.9662\n",
      "\n"
     ]
    },
    {
     "name": "stdout",
     "output_type": "stream",
     "text": [
      "Epoch 170, Loss 0.04\n",
      "Training Accuracy: 0.9572, Testing Accuracy: 0.9662\n",
      "\n"
     ]
    },
    {
     "name": "stdout",
     "output_type": "stream",
     "text": [
      "Epoch 180, Loss 0.0395\n",
      "Training Accuracy: 0.9576, Testing Accuracy: 0.9657\n",
      "\n"
     ]
    },
    {
     "name": "stdout",
     "output_type": "stream",
     "text": [
      "Epoch 190, Loss 0.0389\n",
      "Training Accuracy: 0.9580, Testing Accuracy: 0.9657\n",
      "\n"
     ]
    },
    {
     "name": "stdout",
     "output_type": "stream",
     "text": [
      "Epoch 200, Loss 0.0385\n",
      "Training Accuracy: 0.9586, Testing Accuracy: 0.9657\n",
      "\n"
     ]
    },
    {
     "name": "stdout",
     "output_type": "stream",
     "text": [
      "Epoch 210, Loss 0.038\n",
      "Training Accuracy: 0.9589, Testing Accuracy: 0.9657\n",
      "\n"
     ]
    },
    {
     "name": "stdout",
     "output_type": "stream",
     "text": [
      "Epoch 220, Loss 0.0376\n",
      "Training Accuracy: 0.9594, Testing Accuracy: 0.9657\n",
      "\n"
     ]
    },
    {
     "name": "stdout",
     "output_type": "stream",
     "text": [
      "Epoch 230, Loss 0.0372\n",
      "Training Accuracy: 0.9597, Testing Accuracy: 0.9652\n",
      "\n"
     ]
    },
    {
     "name": "stdout",
     "output_type": "stream",
     "text": [
      "Epoch 240, Loss 0.0369\n",
      "Training Accuracy: 0.9601, Testing Accuracy: 0.9652\n",
      "\n"
     ]
    },
    {
     "data": {
      "text/plain": [
       "0.005876153470292352"
      ]
     },
     "execution_count": 23,
     "metadata": {},
     "output_type": "execute_result"
    }
   ],
   "source": [
    "lr_learner.train_loop(dl)"
   ]
  },
  {
   "cell_type": "code",
   "execution_count": 24,
   "id": "ca410940",
   "metadata": {
    "execution": {
     "iopub.execute_input": "2022-03-15T10:14:00.874513Z",
     "iopub.status.busy": "2022-03-15T10:14:00.872726Z",
     "iopub.status.idle": "2022-03-15T10:14:01.213626Z",
     "shell.execute_reply": "2022-03-15T10:14:01.212369Z"
    },
    "papermill": {
     "duration": 0.405668,
     "end_time": "2022-03-15T10:14:01.213774",
     "exception": false,
     "start_time": "2022-03-15T10:14:00.808106",
     "status": "completed"
    },
    "tags": []
   },
   "outputs": [
    {
     "data": {
      "text/plain": [
       "<matplotlib.legend.Legend at 0x7f6e0d863d30>"
      ]
     },
     "execution_count": 24,
     "metadata": {},
     "output_type": "execute_result"
    },
    {
     "data": {
      "image/png": "[encoded data removed]",
      "text/plain": [
       "<Figure size 1080x720 with 1 Axes>"
      ]
     },
     "metadata": {
      "needs_background": "light"
     },
     "output_type": "display_data"
    }
   ],
   "source": [
    "#comparing the results of NN and LR\n",
    "plt.figure(figsize=(15,10))\n",
    "\n",
    "# Neural Network plots\n",
    "plt.plot(acc_nn.accuracies, 'r-', label = \"Training Accuracies - NN\")\n",
    "plt.plot(acc_nn.test_accuracies, 'g-', label = \"Testing Accuracies - NN\")\n",
    "\n",
    "# Logistic Regression plots\n",
    "plt.plot(acc_lr.accuracies, 'k-', label = \"Training Accuracies - LR\")\n",
    "plt.plot(acc_lr.test_accuracies, 'b-', label = \"Testing Accuracies - LR\")\n",
    "plt.legend()"
   ]
  },
  {
   "cell_type": "markdown",
   "id": "80dfb35c",
   "metadata": {
    "papermill": {
     "duration": 0.056396,
     "end_time": "2022-03-15T10:14:01.326077",
     "exception": false,
     "start_time": "2022-03-15T10:14:01.269681",
     "status": "completed"
    },
    "tags": []
   },
   "source": [
    "#### Plotting the outputs of this layer of the NN.\n"
   ]
  },
  {
   "cell_type": "code",
   "execution_count": 25,
   "id": "45eb2ff5",
   "metadata": {
    "execution": {
     "iopub.execute_input": "2022-03-15T10:14:01.451815Z",
     "iopub.status.busy": "2022-03-15T10:14:01.451124Z",
     "iopub.status.idle": "2022-03-15T10:14:01.473474Z",
     "shell.execute_reply": "2022-03-15T10:14:01.474336Z"
    },
    "papermill": {
     "duration": 0.092838,
     "end_time": "2022-03-15T10:14:01.474519",
     "exception": false,
     "start_time": "2022-03-15T10:14:01.381681",
     "status": "completed"
    },
    "tags": []
   },
   "outputs": [],
   "source": [
    "new_model = Model(layers[:-2])\n",
    "testing_plot = new_model(testing_data_x)"
   ]
  },
  {
   "cell_type": "code",
   "execution_count": 26,
   "id": "4c0a5485",
   "metadata": {
    "execution": {
     "iopub.execute_input": "2022-03-15T10:14:01.597833Z",
     "iopub.status.busy": "2022-03-15T10:14:01.597136Z",
     "iopub.status.idle": "2022-03-15T10:14:01.859514Z",
     "shell.execute_reply": "2022-03-15T10:14:01.860079Z"
    },
    "papermill": {
     "duration": 0.327721,
     "end_time": "2022-03-15T10:14:01.860281",
     "exception": false,
     "start_time": "2022-03-15T10:14:01.532560",
     "status": "completed"
    },
    "tags": []
   },
   "outputs": [
    {
     "data": {
      "text/plain": [
       "Text(0.5, 1.0, 'Outputs')"
      ]
     },
     "execution_count": 26,
     "metadata": {},
     "output_type": "execute_result"
    },
    {
     "data": {
      "image/png": "[encoded data removed]",
      "text/plain": [
       "<Figure size 576x504 with 1 Axes>"
      ]
     },
     "metadata": {
      "needs_background": "light"
     },
     "output_type": "display_data"
    }
   ],
   "source": [
    "# Plotting the scatter plot of points and color coding by class\n",
    "plt.figure(figsize=(8,7))\n",
    "plt.scatter(testing_plot[:,0], testing_plot[:,1], alpha = 0.1, c = y_test.ravel());\n",
    "plt.title('Outputs')"
   ]
  },
  {
   "cell_type": "markdown",
   "id": "a74fcf8f",
   "metadata": {
    "papermill": {
     "duration": 0.058388,
     "end_time": "2022-03-15T10:14:01.977615",
     "exception": false,
     "start_time": "2022-03-15T10:14:01.919227",
     "status": "completed"
    },
    "tags": []
   },
   "source": [
    "Probability contours"
   ]
  },
  {
   "cell_type": "code",
   "execution_count": 27,
   "id": "d0afc8e3",
   "metadata": {
    "execution": {
     "iopub.execute_input": "2022-03-15T10:14:02.137417Z",
     "iopub.status.busy": "2022-03-15T10:14:02.130824Z",
     "iopub.status.idle": "2022-03-15T10:14:02.148803Z",
     "shell.execute_reply": "2022-03-15T10:14:02.149386Z"
    },
    "papermill": {
     "duration": 0.083879,
     "end_time": "2022-03-15T10:14:02.149590",
     "exception": false,
     "start_time": "2022-03-15T10:14:02.065711",
     "status": "completed"
    },
    "tags": []
   },
   "outputs": [],
   "source": [
    "model_prob = Model(layers[-2:]) "
   ]
  },
  {
   "cell_type": "code",
   "execution_count": 28,
   "id": "9b96e238",
   "metadata": {
    "execution": {
     "iopub.execute_input": "2022-03-15T10:14:02.279563Z",
     "iopub.status.busy": "2022-03-15T10:14:02.278857Z",
     "iopub.status.idle": "2022-03-15T10:14:02.297037Z",
     "shell.execute_reply": "2022-03-15T10:14:02.297588Z"
    },
    "papermill": {
     "duration": 0.086053,
     "end_time": "2022-03-15T10:14:02.297763",
     "exception": false,
     "start_time": "2022-03-15T10:14:02.211710",
     "status": "completed"
    },
    "tags": []
   },
   "outputs": [],
   "source": [
    "#creating the x and y ranges according to the above generated plot.\n",
    "x_range = np.linspace(-4, 1, 100) \n",
    "y_range = np.linspace(-6, 6, 100) \n",
    "x_grid, y_grid = np.meshgrid(x_range, y_range) # x_grid and y_grig are of size 100 X 100\n",
    "\n",
    "# converting x_grid and y_grid to continuous arrays\n",
    "x_gridflat = np.ravel(x_grid)\n",
    "y_gridflat = np.ravel(y_grid)\n",
    "\n",
    "# The last layer of the current model takes two columns as input. Hence transpose of np.vstack() is required.\n",
    "X = np.vstack((x_gridflat, y_gridflat)).T\n",
    "\n",
    "prob_contour = model_prob(X).reshape(100,100) "
   ]
  },
  {
   "cell_type": "code",
   "execution_count": 29,
   "id": "da72499a",
   "metadata": {
    "execution": {
     "iopub.execute_input": "2022-03-15T10:14:02.423840Z",
     "iopub.status.busy": "2022-03-15T10:14:02.423109Z",
     "iopub.status.idle": "2022-03-15T10:14:02.746140Z",
     "shell.execute_reply": "2022-03-15T10:14:02.745193Z"
    },
    "papermill": {
     "duration": 0.388903,
     "end_time": "2022-03-15T10:14:02.746347",
     "exception": false,
     "start_time": "2022-03-15T10:14:02.357444",
     "status": "completed"
    },
    "tags": []
   },
   "outputs": [
    {
     "data": {
      "image/png": "[encoded data removed]",
      "text/plain": [
       "<Figure size 720x648 with 1 Axes>"
      ]
     },
     "metadata": {
      "needs_background": "light"
     },
     "output_type": "display_data"
    }
   ],
   "source": [
    "plt.figure(figsize=(10,9))\n",
    "plt.scatter(testing_plot[:,0], testing_plot[:,1], alpha = 0.1, c = y_test.ravel())\n",
    "contours = plt.contour(x_grid,y_grid,prob_contour)\n",
    "plt.title('Probability Contours')\n",
    "plt.clabel(contours, inline = True );"
   ]
  },
  {
   "cell_type": "code",
   "execution_count": null,
   "id": "e81b4ac7",
   "metadata": {
    "papermill": {
     "duration": 0.062412,
     "end_time": "2022-03-15T10:14:02.871659",
     "exception": false,
     "start_time": "2022-03-15T10:14:02.809247",
     "status": "completed"
    },
    "tags": []
   },
   "outputs": [],
   "source": []
  }
 ],
 "metadata": {
  "kernelspec": {
   "display_name": "Python 3",
   "language": "python",
   "name": "python3"
  },
  "language_info": {
   "codemirror_mode": {
    "name": "ipython",
    "version": 3
   },
   "file_extension": ".py",
   "mimetype": "text/x-python",
   "name": "python",
   "nbconvert_exporter": "python",
   "pygments_lexer": "ipython3",
   "version": "3.6.15"
  },
  "papermill": {
   "default_parameters": {},
   "duration": 178.963408,
   "end_time": "2022-03-15T10:14:03.362762",
   "environment_variables": {},
   "exception": null,
   "input_path": "2020-08-11-part2.ipynb",
   "output_path": "2020-08-11-part2.ipynb",
   "parameters": {},
   "start_time": "2022-03-15T10:11:04.399354",
   "version": "2.3.3"
  }
 },
 "nbformat": 4,
 "nbformat_minor": 5
}