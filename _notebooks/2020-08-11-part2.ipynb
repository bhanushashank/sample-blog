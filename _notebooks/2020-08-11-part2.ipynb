{
 "cells": [
  {
   "cell_type": "markdown",
   "id": "98380cd3",
   "metadata": {
    "papermill": {
     "duration": 0.027758,
     "end_time": "2022-02-27T10:08:32.364977",
     "exception": false,
     "start_time": "2022-02-27T10:08:32.337219",
     "status": "completed"
    },
    "tags": []
   },
   "source": [
    "# Distinguish Your Own Digits (DYOD)"
   ]
  },
  {
   "cell_type": "markdown",
   "id": "ef31240d",
   "metadata": {
    "papermill": {
     "duration": 0.025198,
     "end_time": "2022-02-27T10:08:32.414415",
     "exception": false,
     "start_time": "2022-02-27T10:08:32.389217",
     "status": "completed"
    },
    "tags": []
   },
   "source": [
    "You are going to write a classifier that distinguishes between the number 3 and number 8."
   ]
  },
  {
   "cell_type": "code",
   "execution_count": 1,
   "id": "b15c8646",
   "metadata": {
    "execution": {
     "iopub.execute_input": "2022-02-27T10:08:32.471478Z",
     "iopub.status.busy": "2022-02-27T10:08:32.470944Z",
     "iopub.status.idle": "2022-02-27T10:08:32.481209Z",
     "shell.execute_reply": "2022-02-27T10:08:32.480759Z"
    },
    "papermill": {
     "duration": 0.04354,
     "end_time": "2022-02-27T10:08:32.481345",
     "exception": false,
     "start_time": "2022-02-27T10:08:32.437805",
     "status": "completed"
    },
    "tags": []
   },
   "outputs": [],
   "source": [
    "%load_ext autoreload\n",
    "%autoreload 2"
   ]
  },
  {
   "cell_type": "code",
   "execution_count": 2,
   "id": "22ef38dc",
   "metadata": {
    "execution": {
     "iopub.execute_input": "2022-02-27T10:08:32.533962Z",
     "iopub.status.busy": "2022-02-27T10:08:32.533448Z",
     "iopub.status.idle": "2022-02-27T10:08:33.117686Z",
     "shell.execute_reply": "2022-02-27T10:08:33.117127Z"
    },
    "papermill": {
     "duration": 0.612947,
     "end_time": "2022-02-27T10:08:33.117835",
     "exception": false,
     "start_time": "2022-02-27T10:08:32.504888",
     "status": "completed"
    },
    "tags": []
   },
   "outputs": [],
   "source": [
    "%matplotlib inline\n",
    "import numpy as np\n",
    "import matplotlib.pyplot as plt\n",
    "import pandas as pd"
   ]
  },
  {
   "cell_type": "markdown",
   "id": "ba036198",
   "metadata": {
    "papermill": {
     "duration": 0.023595,
     "end_time": "2022-02-27T10:08:33.165865",
     "exception": false,
     "start_time": "2022-02-27T10:08:33.142270",
     "status": "completed"
    },
    "tags": []
   },
   "source": [
    "From the command line run `pip install mnist`. This is a library that will help you bring down the mnist dataset. If you run this from a notebook, you need to put  `!pip install mnist` in a cell by itself."
   ]
  },
  {
   "cell_type": "code",
   "execution_count": 3,
   "id": "bb6ad8a1",
   "metadata": {
    "execution": {
     "iopub.execute_input": "2022-02-27T10:08:33.221100Z",
     "iopub.status.busy": "2022-02-27T10:08:33.220546Z",
     "iopub.status.idle": "2022-02-27T10:08:35.144335Z",
     "shell.execute_reply": "2022-02-27T10:08:35.144856Z"
    },
    "papermill": {
     "duration": 1.95564,
     "end_time": "2022-02-27T10:08:35.145036",
     "exception": false,
     "start_time": "2022-02-27T10:08:33.189396",
     "status": "completed"
    },
    "tags": []
   },
   "outputs": [
    {
     "name": "stdout",
     "output_type": "stream",
     "text": [
      "Collecting mnist\r\n"
     ]
    },
    {
     "name": "stdout",
     "output_type": "stream",
     "text": [
      "  Downloading mnist-0.2.2-py2.py3-none-any.whl (3.5 kB)\r\n",
      "Requirement already satisfied: numpy in /opt/hostedtoolcache/Python/3.6.15/x64/lib/python3.6/site-packages (from mnist) (1.19.5)\r\n"
     ]
    },
    {
     "name": "stdout",
     "output_type": "stream",
     "text": [
      "Installing collected packages: mnist\r\n"
     ]
    },
    {
     "name": "stdout",
     "output_type": "stream",
     "text": [
      "Successfully installed mnist-0.2.2\r\n"
     ]
    }
   ],
   "source": [
    "!pip install mnist"
   ]
  },
  {
   "cell_type": "markdown",
   "id": "69df9c9a",
   "metadata": {
    "papermill": {
     "duration": 0.024615,
     "end_time": "2022-02-27T10:08:35.195552",
     "exception": false,
     "start_time": "2022-02-27T10:08:35.170937",
     "status": "completed"
    },
    "tags": []
   },
   "source": [
    "## Preparing the Data"
   ]
  },
  {
   "cell_type": "code",
   "execution_count": 4,
   "id": "7f69d806",
   "metadata": {
    "execution": {
     "iopub.execute_input": "2022-02-27T10:08:35.262706Z",
     "iopub.status.busy": "2022-02-27T10:08:35.258074Z",
     "iopub.status.idle": "2022-02-27T10:08:35.266868Z",
     "shell.execute_reply": "2022-02-27T10:08:35.267290Z"
    },
    "papermill": {
     "duration": 0.047423,
     "end_time": "2022-02-27T10:08:35.267431",
     "exception": false,
     "start_time": "2022-02-27T10:08:35.220008",
     "status": "completed"
    },
    "tags": []
   },
   "outputs": [],
   "source": [
    "import mnist"
   ]
  },
  {
   "cell_type": "code",
   "execution_count": 5,
   "id": "a411e44f",
   "metadata": {
    "execution": {
     "iopub.execute_input": "2022-02-27T10:08:35.333069Z",
     "iopub.status.busy": "2022-02-27T10:08:35.320667Z",
     "iopub.status.idle": "2022-02-27T10:08:35.822542Z",
     "shell.execute_reply": "2022-02-27T10:08:35.822015Z"
    },
    "papermill": {
     "duration": 0.530278,
     "end_time": "2022-02-27T10:08:35.822680",
     "exception": false,
     "start_time": "2022-02-27T10:08:35.292402",
     "status": "completed"
    },
    "tags": []
   },
   "outputs": [],
   "source": [
    "train_images = mnist.train_images()\n",
    "train_labels = mnist.train_labels()"
   ]
  },
  {
   "cell_type": "code",
   "execution_count": 6,
   "id": "dceab3a5",
   "metadata": {
    "execution": {
     "iopub.execute_input": "2022-02-27T10:08:35.878393Z",
     "iopub.status.busy": "2022-02-27T10:08:35.877869Z",
     "iopub.status.idle": "2022-02-27T10:08:35.891039Z",
     "shell.execute_reply": "2022-02-27T10:08:35.891448Z"
    },
    "papermill": {
     "duration": 0.043883,
     "end_time": "2022-02-27T10:08:35.891584",
     "exception": false,
     "start_time": "2022-02-27T10:08:35.847701",
     "status": "completed"
    },
    "tags": []
   },
   "outputs": [
    {
     "data": {
      "text/plain": [
       "((60000, 28, 28), (60000,))"
      ]
     },
     "execution_count": 6,
     "metadata": {},
     "output_type": "execute_result"
    }
   ],
   "source": [
    "train_images.shape, train_labels.shape"
   ]
  },
  {
   "cell_type": "code",
   "execution_count": 7,
   "id": "f50dc2bb",
   "metadata": {
    "execution": {
     "iopub.execute_input": "2022-02-27T10:08:35.958950Z",
     "iopub.status.busy": "2022-02-27T10:08:35.956115Z",
     "iopub.status.idle": "2022-02-27T10:08:36.063406Z",
     "shell.execute_reply": "2022-02-27T10:08:36.062875Z"
    },
    "papermill": {
     "duration": 0.147048,
     "end_time": "2022-02-27T10:08:36.063551",
     "exception": false,
     "start_time": "2022-02-27T10:08:35.916503",
     "status": "completed"
    },
    "tags": []
   },
   "outputs": [],
   "source": [
    "test_images = mnist.test_images()\n",
    "test_labels = mnist.test_labels()"
   ]
  },
  {
   "cell_type": "code",
   "execution_count": 8,
   "id": "fc38cf1b",
   "metadata": {
    "execution": {
     "iopub.execute_input": "2022-02-27T10:08:36.119435Z",
     "iopub.status.busy": "2022-02-27T10:08:36.118462Z",
     "iopub.status.idle": "2022-02-27T10:08:36.131896Z",
     "shell.execute_reply": "2022-02-27T10:08:36.132387Z"
    },
    "papermill": {
     "duration": 0.042815,
     "end_time": "2022-02-27T10:08:36.132522",
     "exception": false,
     "start_time": "2022-02-27T10:08:36.089707",
     "status": "completed"
    },
    "tags": []
   },
   "outputs": [
    {
     "data": {
      "text/plain": [
       "((10000, 28, 28), (10000,))"
      ]
     },
     "execution_count": 8,
     "metadata": {},
     "output_type": "execute_result"
    }
   ],
   "source": [
    "test_images.shape, test_labels.shape"
   ]
  },
  {
   "cell_type": "code",
   "execution_count": 9,
   "id": "f9ed8fe0",
   "metadata": {
    "execution": {
     "iopub.execute_input": "2022-02-27T10:08:36.214492Z",
     "iopub.status.busy": "2022-02-27T10:08:36.197612Z",
     "iopub.status.idle": "2022-02-27T10:08:36.331345Z",
     "shell.execute_reply": "2022-02-27T10:08:36.331745Z"
    },
    "papermill": {
     "duration": 0.174054,
     "end_time": "2022-02-27T10:08:36.331898",
     "exception": false,
     "start_time": "2022-02-27T10:08:36.157844",
     "status": "completed"
    },
    "tags": []
   },
   "outputs": [
    {
     "name": "stdout",
     "output_type": "stream",
     "text": [
      "2\n"
     ]
    },
    {
     "data": {
      "text/plain": [
       "<matplotlib.image.AxesImage at 0x7f32f97346a0>"
      ]
     },
     "execution_count": 9,
     "metadata": {},
     "output_type": "execute_result"
    },
    {
     "data": {
      "image/png": "[encoded data removed]",
      "text/plain": [
       "<Figure size 432x288 with 1 Axes>"
      ]
     },
     "metadata": {
      "needs_background": "light"
     },
     "output_type": "display_data"
    }
   ],
   "source": [
    "image_index = 7776 # You may select anything up to 60,000\n",
    "print(train_labels[image_index]) \n",
    "plt.imshow(train_images[image_index], cmap='Greys')"
   ]
  },
  {
   "cell_type": "markdown",
   "id": "a8d2388d",
   "metadata": {
    "papermill": {
     "duration": 0.026699,
     "end_time": "2022-02-27T10:08:36.385342",
     "exception": false,
     "start_time": "2022-02-27T10:08:36.358643",
     "status": "completed"
    },
    "tags": []
   },
   "source": [
    "## Filter data to get 3 and 8 out"
   ]
  },
  {
   "cell_type": "code",
   "execution_count": 10,
   "id": "776f7fc7",
   "metadata": {
    "execution": {
     "iopub.execute_input": "2022-02-27T10:08:36.449773Z",
     "iopub.status.busy": "2022-02-27T10:08:36.449219Z",
     "iopub.status.idle": "2022-02-27T10:08:36.465626Z",
     "shell.execute_reply": "2022-02-27T10:08:36.465181Z"
    },
    "papermill": {
     "duration": 0.053671,
     "end_time": "2022-02-27T10:08:36.465756",
     "exception": false,
     "start_time": "2022-02-27T10:08:36.412085",
     "status": "completed"
    },
    "tags": []
   },
   "outputs": [],
   "source": [
    "train_filter = np.where((train_labels == 3 ) | (train_labels == 8))\n",
    "test_filter = np.where((test_labels == 3) | (test_labels == 8))\n",
    "X_train, y_train = train_images[train_filter], train_labels[train_filter]\n",
    "X_test, y_test = test_images[test_filter], test_labels[test_filter]"
   ]
  },
  {
   "cell_type": "markdown",
   "id": "948f0b7e",
   "metadata": {
    "papermill": {
     "duration": 0.026241,
     "end_time": "2022-02-27T10:08:36.518592",
     "exception": false,
     "start_time": "2022-02-27T10:08:36.492351",
     "status": "completed"
    },
    "tags": []
   },
   "source": [
    "We normalize the pizel values in the 0 to 1 range"
   ]
  },
  {
   "cell_type": "code",
   "execution_count": 11,
   "id": "ee4c2166",
   "metadata": {
    "execution": {
     "iopub.execute_input": "2022-02-27T10:08:36.585621Z",
     "iopub.status.busy": "2022-02-27T10:08:36.582020Z",
     "iopub.status.idle": "2022-02-27T10:08:36.625810Z",
     "shell.execute_reply": "2022-02-27T10:08:36.625287Z"
    },
    "papermill": {
     "duration": 0.081071,
     "end_time": "2022-02-27T10:08:36.625952",
     "exception": false,
     "start_time": "2022-02-27T10:08:36.544881",
     "status": "completed"
    },
    "tags": []
   },
   "outputs": [],
   "source": [
    "X_train = X_train/255.\n",
    "X_test = X_test/255."
   ]
  },
  {
   "cell_type": "markdown",
   "id": "ddcf4fab",
   "metadata": {
    "papermill": {
     "duration": 0.02656,
     "end_time": "2022-02-27T10:08:36.679570",
     "exception": false,
     "start_time": "2022-02-27T10:08:36.653010",
     "status": "completed"
    },
    "tags": []
   },
   "source": [
    "And setup the labels as 1 (when the digit is 3) and 0 (when the digit is 8)"
   ]
  },
  {
   "cell_type": "code",
   "execution_count": 12,
   "id": "7dc908f2",
   "metadata": {
    "execution": {
     "iopub.execute_input": "2022-02-27T10:08:36.736665Z",
     "iopub.status.busy": "2022-02-27T10:08:36.736154Z",
     "iopub.status.idle": "2022-02-27T10:08:36.748883Z",
     "shell.execute_reply": "2022-02-27T10:08:36.748415Z"
    },
    "papermill": {
     "duration": 0.042472,
     "end_time": "2022-02-27T10:08:36.749005",
     "exception": false,
     "start_time": "2022-02-27T10:08:36.706533",
     "status": "completed"
    },
    "tags": []
   },
   "outputs": [],
   "source": [
    "y_train = 1*(y_train==3)\n",
    "y_test = 1*(y_test==3)"
   ]
  },
  {
   "cell_type": "code",
   "execution_count": 13,
   "id": "01e4e969",
   "metadata": {
    "execution": {
     "iopub.execute_input": "2022-02-27T10:08:36.808131Z",
     "iopub.status.busy": "2022-02-27T10:08:36.807618Z",
     "iopub.status.idle": "2022-02-27T10:08:36.820199Z",
     "shell.execute_reply": "2022-02-27T10:08:36.819757Z"
    },
    "papermill": {
     "duration": 0.044772,
     "end_time": "2022-02-27T10:08:36.820316",
     "exception": false,
     "start_time": "2022-02-27T10:08:36.775544",
     "status": "completed"
    },
    "tags": []
   },
   "outputs": [
    {
     "data": {
      "text/plain": [
       "((11982, 28, 28), (1984, 28, 28))"
      ]
     },
     "execution_count": 13,
     "metadata": {},
     "output_type": "execute_result"
    }
   ],
   "source": [
    "X_train.shape, X_test.shape"
   ]
  },
  {
   "cell_type": "markdown",
   "id": "5ccf3f85",
   "metadata": {
    "papermill": {
     "duration": 0.026742,
     "end_time": "2022-02-27T10:08:36.873410",
     "exception": false,
     "start_time": "2022-02-27T10:08:36.846668",
     "status": "completed"
    },
    "tags": []
   },
   "source": [
    "We reshape the data to flatten the image pixels into a set of features or co-variates:"
   ]
  },
  {
   "cell_type": "code",
   "execution_count": 14,
   "id": "5286a4a3",
   "metadata": {
    "execution": {
     "iopub.execute_input": "2022-02-27T10:08:36.933642Z",
     "iopub.status.busy": "2022-02-27T10:08:36.933096Z",
     "iopub.status.idle": "2022-02-27T10:08:36.945863Z",
     "shell.execute_reply": "2022-02-27T10:08:36.945437Z"
    },
    "papermill": {
     "duration": 0.045827,
     "end_time": "2022-02-27T10:08:36.945983",
     "exception": false,
     "start_time": "2022-02-27T10:08:36.900156",
     "status": "completed"
    },
    "tags": []
   },
   "outputs": [
    {
     "data": {
      "text/plain": [
       "((11982, 784), (1984, 784))"
      ]
     },
     "execution_count": 14,
     "metadata": {},
     "output_type": "execute_result"
    }
   ],
   "source": [
    "X_train = X_train.reshape(X_train.shape[0], -1)\n",
    "X_test = X_test.reshape(X_test.shape[0], -1)\n",
    "X_train.shape, X_test.shape"
   ]
  },
  {
   "cell_type": "code",
   "execution_count": 15,
   "id": "73c5f88a",
   "metadata": {
    "execution": {
     "iopub.execute_input": "2022-02-27T10:08:37.017811Z",
     "iopub.status.busy": "2022-02-27T10:08:37.013533Z",
     "iopub.status.idle": "2022-02-27T10:08:37.026658Z",
     "shell.execute_reply": "2022-02-27T10:08:37.027044Z"
    },
    "papermill": {
     "duration": 0.054046,
     "end_time": "2022-02-27T10:08:37.027183",
     "exception": false,
     "start_time": "2022-02-27T10:08:36.973137",
     "status": "completed"
    },
    "tags": []
   },
   "outputs": [],
   "source": [
    "#Impoting functions from 'Kudzu'\n",
    "from kudzu.model import Model\n",
    "from kudzu.train import Learner\n",
    "from kudzu.optim import GD\n",
    "from kudzu.data import Data, Sampler,Dataloader\n",
    "\n",
    "from kudzu.callbacks import AccCallback\n",
    "from kudzu.callbacks import ClfCallback\n",
    "\n",
    "from kudzu.loss import MSE\n",
    "\n",
    "from kudzu.layer import Sigmoid,Relu\n",
    "from kudzu.layer import Affine"
   ]
  },
  {
   "cell_type": "markdown",
   "id": "bc01172a",
   "metadata": {
    "papermill": {
     "duration": 0.026925,
     "end_time": "2022-02-27T10:08:37.081052",
     "exception": false,
     "start_time": "2022-02-27T10:08:37.054127",
     "status": "completed"
    },
    "tags": []
   },
   "source": [
    "### Let us create a `Config` class, to store important parameters. \n",
    "This class essentially plays the role of a dictionary."
   ]
  },
  {
   "cell_type": "code",
   "execution_count": 16,
   "id": "978281aa",
   "metadata": {
    "execution": {
     "iopub.execute_input": "2022-02-27T10:08:37.150805Z",
     "iopub.status.busy": "2022-02-27T10:08:37.149942Z",
     "iopub.status.idle": "2022-02-27T10:08:37.155423Z",
     "shell.execute_reply": "2022-02-27T10:08:37.155810Z"
    },
    "papermill": {
     "duration": 0.048015,
     "end_time": "2022-02-27T10:08:37.155952",
     "exception": false,
     "start_time": "2022-02-27T10:08:37.107937",
     "status": "completed"
    },
    "tags": []
   },
   "outputs": [],
   "source": [
    "class Config:\n",
    "    pass\n",
    "config = Config()\n",
    "config.lr = 0.001\n",
    "config.num_epochs = 250\n",
    "config.bs = 50"
   ]
  },
  {
   "cell_type": "markdown",
   "id": "1385fa59",
   "metadata": {
    "papermill": {
     "duration": 0.026844,
     "end_time": "2022-02-27T10:08:37.209939",
     "exception": false,
     "start_time": "2022-02-27T10:08:37.183095",
     "status": "completed"
    },
    "tags": []
   },
   "source": [
    "### Running Models with the Training data\n",
    "Details about the network layers:\n",
    "- A first affine layer has 784 inputs and does 100 affine transforms. These are followed by a Relu\n",
    "- A second affine layer has 100 inputs from the 100 activations of the past layer, and does 100 affine transforms. These are followed by a Relu\n",
    "- A third affine layer has 100 activations and does 2 affine transformations to create an embedding for visualization. There is no non-linearity here.\n",
    "- A final \"logistic regression\" which has an affine transform from 2 inputs to 1 output, which is squeezed through a sigmoid.\n"
   ]
  },
  {
   "cell_type": "code",
   "execution_count": 17,
   "id": "2b9c66db",
   "metadata": {
    "execution": {
     "iopub.execute_input": "2022-02-27T10:08:37.277797Z",
     "iopub.status.busy": "2022-02-27T10:08:37.273817Z",
     "iopub.status.idle": "2022-02-27T10:08:37.283193Z",
     "shell.execute_reply": "2022-02-27T10:08:37.282701Z"
    },
    "papermill": {
     "duration": 0.046395,
     "end_time": "2022-02-27T10:08:37.283314",
     "exception": false,
     "start_time": "2022-02-27T10:08:37.236919",
     "status": "completed"
    },
    "tags": []
   },
   "outputs": [],
   "source": [
    "data = Data(X_train, y_train.reshape(-1,1))\n",
    "sampler = Sampler(data, config.bs, shuffle=True)\n",
    "\n",
    "dl = Dataloader(data, sampler)\n",
    "\n",
    "opt = GD(config.lr)\n",
    "loss = MSE()"
   ]
  },
  {
   "cell_type": "code",
   "execution_count": 18,
   "id": "b275e4c2",
   "metadata": {
    "execution": {
     "iopub.execute_input": "2022-02-27T10:08:37.349376Z",
     "iopub.status.busy": "2022-02-27T10:08:37.340582Z",
     "iopub.status.idle": "2022-02-27T10:08:37.356833Z",
     "shell.execute_reply": "2022-02-27T10:08:37.356396Z"
    },
    "papermill": {
     "duration": 0.046488,
     "end_time": "2022-02-27T10:08:37.356953",
     "exception": false,
     "start_time": "2022-02-27T10:08:37.310465",
     "status": "completed"
    },
    "tags": []
   },
   "outputs": [],
   "source": [
    "training_data_x = X_train\n",
    "testing_data_x = X_test\n",
    "training_data_y = y_train.reshape(-1,1)\n",
    "testing_data_y = y_test.reshape(-1,1)"
   ]
  },
  {
   "cell_type": "code",
   "execution_count": 19,
   "id": "76951160",
   "metadata": {
    "execution": {
     "iopub.execute_input": "2022-02-27T10:08:37.425514Z",
     "iopub.status.busy": "2022-02-27T10:08:37.421831Z",
     "iopub.status.idle": "2022-02-27T10:08:37.433463Z",
     "shell.execute_reply": "2022-02-27T10:08:37.433848Z"
    },
    "papermill": {
     "duration": 0.050154,
     "end_time": "2022-02-27T10:08:37.433990",
     "exception": false,
     "start_time": "2022-02-27T10:08:37.383836",
     "status": "completed"
    },
    "tags": []
   },
   "outputs": [
    {
     "name": "stdout",
     "output_type": "stream",
     "text": [
      "xavier\n",
      "xavier\n",
      "xavier\n",
      "xavier\n",
      "xavier\n"
     ]
    }
   ],
   "source": [
    "layers = [Affine(\"first\", 784, 100), Relu(\"first\"), Affine(\"second\", 100, 100), Relu(\"second\"), Affine(\"third\", 100, 2), Affine(\"last\", 2, 1), Sigmoid(\"last\")]\n",
    "model_nn = Model(layers)\n",
    "model_lr = Model([Affine(\"logits\", 784, 1), Sigmoid(\"sigmoid\")])"
   ]
  },
  {
   "cell_type": "code",
   "execution_count": 20,
   "id": "6eede77a",
   "metadata": {
    "execution": {
     "iopub.execute_input": "2022-02-27T10:08:37.502085Z",
     "iopub.status.busy": "2022-02-27T10:08:37.497631Z",
     "iopub.status.idle": "2022-02-27T10:08:37.507427Z",
     "shell.execute_reply": "2022-02-27T10:08:37.506955Z"
    },
    "papermill": {
     "duration": 0.046214,
     "end_time": "2022-02-27T10:08:37.507542",
     "exception": false,
     "start_time": "2022-02-27T10:08:37.461328",
     "status": "completed"
    },
    "tags": []
   },
   "outputs": [],
   "source": [
    "nn_learner = Learner(loss, model_nn, opt, config.num_epochs)\n",
    "acc_nn = ClfCallback(nn_learner, config.bs, training_data_x , testing_data_x, training_data_y, testing_data_y)\n",
    "nn_learner.set_callbacks([acc_nn])"
   ]
  },
  {
   "cell_type": "code",
   "execution_count": 21,
   "id": "877b6cc7",
   "metadata": {
    "execution": {
     "iopub.execute_input": "2022-02-27T10:08:37.570098Z",
     "iopub.status.busy": "2022-02-27T10:08:37.569564Z",
     "iopub.status.idle": "2022-02-27T10:08:37.580679Z",
     "shell.execute_reply": "2022-02-27T10:08:37.580247Z"
    },
    "papermill": {
     "duration": 0.046271,
     "end_time": "2022-02-27T10:08:37.580826",
     "exception": false,
     "start_time": "2022-02-27T10:08:37.534555",
     "status": "completed"
    },
    "tags": []
   },
   "outputs": [],
   "source": [
    "lr_learner = Learner(loss, model_lr, opt, config.num_epochs)\n",
    "acc_lr = ClfCallback(lr_learner, config.bs, training_data_x , testing_data_x, training_data_y, testing_data_y)\n",
    "lr_learner.set_callbacks([acc_lr])"
   ]
  },
  {
   "cell_type": "code",
   "execution_count": 22,
   "id": "d9b133c3",
   "metadata": {
    "execution": {
     "iopub.execute_input": "2022-02-27T10:08:37.641483Z",
     "iopub.status.busy": "2022-02-27T10:08:37.640967Z",
     "iopub.status.idle": "2022-02-27T10:09:54.957344Z",
     "shell.execute_reply": "2022-02-27T10:09:54.958172Z"
    },
    "papermill": {
     "duration": 77.350242,
     "end_time": "2022-02-27T10:09:54.958343",
     "exception": false,
     "start_time": "2022-02-27T10:08:37.608101",
     "status": "completed"
    },
    "tags": []
   },
   "outputs": [
    {
     "name": "stdout",
     "output_type": "stream",
     "text": [
      "Epoch 0, Loss 0.2381\n",
      "Training Accuracy: 0.6342, Testing Accuracy: 0.6477\n",
      "\n"
     ]
    },
    {
     "name": "stdout",
     "output_type": "stream",
     "text": [
      "Epoch 10, Loss 0.0954\n",
      "Training Accuracy: 0.9099, Testing Accuracy: 0.9229\n",
      "\n"
     ]
    },
    {
     "name": "stdout",
     "output_type": "stream",
     "text": [
      "Epoch 20, Loss 0.0578\n",
      "Training Accuracy: 0.9404, Testing Accuracy: 0.9511\n",
      "\n"
     ]
    },
    {
     "name": "stdout",
     "output_type": "stream",
     "text": [
      "Epoch 30, Loss 0.0443\n",
      "Training Accuracy: 0.9516, Testing Accuracy: 0.9652\n",
      "\n"
     ]
    },
    {
     "name": "stdout",
     "output_type": "stream",
     "text": [
      "Epoch 40, Loss 0.038\n",
      "Training Accuracy: 0.9575, Testing Accuracy: 0.9657\n",
      "\n"
     ]
    },
    {
     "name": "stdout",
     "output_type": "stream",
     "text": [
      "Epoch 50, Loss 0.0343\n",
      "Training Accuracy: 0.9610, Testing Accuracy: 0.9672\n",
      "\n"
     ]
    },
    {
     "name": "stdout",
     "output_type": "stream",
     "text": [
      "Epoch 60, Loss 0.0317\n",
      "Training Accuracy: 0.9634, Testing Accuracy: 0.9682\n",
      "\n"
     ]
    },
    {
     "name": "stdout",
     "output_type": "stream",
     "text": [
      "Epoch 70, Loss 0.0298\n",
      "Training Accuracy: 0.9656, Testing Accuracy: 0.9703\n",
      "\n"
     ]
    },
    {
     "name": "stdout",
     "output_type": "stream",
     "text": [
      "Epoch 80, Loss 0.0283\n",
      "Training Accuracy: 0.9671, Testing Accuracy: 0.9713\n",
      "\n"
     ]
    },
    {
     "name": "stdout",
     "output_type": "stream",
     "text": [
      "Epoch 90, Loss 0.0271\n",
      "Training Accuracy: 0.9685, Testing Accuracy: 0.9708\n",
      "\n"
     ]
    },
    {
     "name": "stdout",
     "output_type": "stream",
     "text": [
      "Epoch 100, Loss 0.026\n",
      "Training Accuracy: 0.9690, Testing Accuracy: 0.9703\n",
      "\n"
     ]
    },
    {
     "name": "stdout",
     "output_type": "stream",
     "text": [
      "Epoch 110, Loss 0.0251\n",
      "Training Accuracy: 0.9704, Testing Accuracy: 0.9713\n",
      "\n"
     ]
    },
    {
     "name": "stdout",
     "output_type": "stream",
     "text": [
      "Epoch 120, Loss 0.0243\n",
      "Training Accuracy: 0.9716, Testing Accuracy: 0.9723\n",
      "\n"
     ]
    },
    {
     "name": "stdout",
     "output_type": "stream",
     "text": [
      "Epoch 130, Loss 0.0236\n",
      "Training Accuracy: 0.9729, Testing Accuracy: 0.9728\n",
      "\n"
     ]
    },
    {
     "name": "stdout",
     "output_type": "stream",
     "text": [
      "Epoch 140, Loss 0.0229\n",
      "Training Accuracy: 0.9739, Testing Accuracy: 0.9723\n",
      "\n"
     ]
    },
    {
     "name": "stdout",
     "output_type": "stream",
     "text": [
      "Epoch 150, Loss 0.0224\n",
      "Training Accuracy: 0.9745, Testing Accuracy: 0.9738\n",
      "\n"
     ]
    },
    {
     "name": "stdout",
     "output_type": "stream",
     "text": [
      "Epoch 160, Loss 0.0218\n",
      "Training Accuracy: 0.9753, Testing Accuracy: 0.9733\n",
      "\n"
     ]
    },
    {
     "name": "stdout",
     "output_type": "stream",
     "text": [
      "Epoch 170, Loss 0.0213\n",
      "Training Accuracy: 0.9757, Testing Accuracy: 0.9738\n",
      "\n"
     ]
    },
    {
     "name": "stdout",
     "output_type": "stream",
     "text": [
      "Epoch 180, Loss 0.0208\n",
      "Training Accuracy: 0.9763, Testing Accuracy: 0.9738\n",
      "\n"
     ]
    },
    {
     "name": "stdout",
     "output_type": "stream",
     "text": [
      "Epoch 190, Loss 0.0204\n",
      "Training Accuracy: 0.9770, Testing Accuracy: 0.9753\n",
      "\n"
     ]
    },
    {
     "name": "stdout",
     "output_type": "stream",
     "text": [
      "Epoch 200, Loss 0.0199\n",
      "Training Accuracy: 0.9775, Testing Accuracy: 0.9758\n",
      "\n"
     ]
    },
    {
     "name": "stdout",
     "output_type": "stream",
     "text": [
      "Epoch 210, Loss 0.0195\n",
      "Training Accuracy: 0.9780, Testing Accuracy: 0.9763\n",
      "\n"
     ]
    },
    {
     "name": "stdout",
     "output_type": "stream",
     "text": [
      "Epoch 220, Loss 0.0191\n",
      "Training Accuracy: 0.9786, Testing Accuracy: 0.9758\n",
      "\n"
     ]
    },
    {
     "name": "stdout",
     "output_type": "stream",
     "text": [
      "Epoch 230, Loss 0.0188\n",
      "Training Accuracy: 0.9792, Testing Accuracy: 0.9763\n",
      "\n"
     ]
    },
    {
     "name": "stdout",
     "output_type": "stream",
     "text": [
      "Epoch 240, Loss 0.0184\n",
      "Training Accuracy: 0.9797, Testing Accuracy: 0.9758\n",
      "\n"
     ]
    },
    {
     "data": {
      "text/plain": [
       "0.008532658711336868"
      ]
     },
     "execution_count": 22,
     "metadata": {},
     "output_type": "execute_result"
    }
   ],
   "source": [
    "nn_learner.train_loop(dl)"
   ]
  },
  {
   "cell_type": "code",
   "execution_count": 23,
   "id": "e0163366",
   "metadata": {
    "execution": {
     "iopub.execute_input": "2022-02-27T10:09:55.038246Z",
     "iopub.status.busy": "2022-02-27T10:09:55.037720Z",
     "iopub.status.idle": "2022-02-27T10:10:09.104804Z",
     "shell.execute_reply": "2022-02-27T10:10:09.105557Z"
    },
    "papermill": {
     "duration": 14.112554,
     "end_time": "2022-02-27T10:10:09.105723",
     "exception": false,
     "start_time": "2022-02-27T10:09:54.993169",
     "status": "completed"
    },
    "tags": []
   },
   "outputs": [
    {
     "name": "stdout",
     "output_type": "stream",
     "text": [
      "Epoch 0, Loss 0.239\n",
      "Training Accuracy: 0.6876, Testing Accuracy: 0.6623\n",
      "\n"
     ]
    },
    {
     "name": "stdout",
     "output_type": "stream",
     "text": [
      "Epoch 10, Loss 0.1047\n",
      "Training Accuracy: 0.9054, Testing Accuracy: 0.9123\n",
      "\n"
     ]
    },
    {
     "name": "stdout",
     "output_type": "stream",
     "text": [
      "Epoch 20, Loss 0.0799\n",
      "Training Accuracy: 0.9281, Testing Accuracy: 0.9380\n",
      "\n"
     ]
    },
    {
     "name": "stdout",
     "output_type": "stream",
     "text": [
      "Epoch 30, Loss 0.0685\n",
      "Training Accuracy: 0.9370, Testing Accuracy: 0.9461\n",
      "\n"
     ]
    },
    {
     "name": "stdout",
     "output_type": "stream",
     "text": [
      "Epoch 40, Loss 0.0617\n",
      "Training Accuracy: 0.9414, Testing Accuracy: 0.9546\n",
      "\n"
     ]
    },
    {
     "name": "stdout",
     "output_type": "stream",
     "text": [
      "Epoch 50, Loss 0.0571\n",
      "Training Accuracy: 0.9456, Testing Accuracy: 0.9556\n",
      "\n"
     ]
    },
    {
     "name": "stdout",
     "output_type": "stream",
     "text": [
      "Epoch 60, Loss 0.0537\n",
      "Training Accuracy: 0.9475, Testing Accuracy: 0.9572\n",
      "\n"
     ]
    },
    {
     "name": "stdout",
     "output_type": "stream",
     "text": [
      "Epoch 70, Loss 0.0511\n",
      "Training Accuracy: 0.9499, Testing Accuracy: 0.9587\n",
      "\n"
     ]
    },
    {
     "name": "stdout",
     "output_type": "stream",
     "text": [
      "Epoch 80, Loss 0.0491\n",
      "Training Accuracy: 0.9516, Testing Accuracy: 0.9617\n",
      "\n"
     ]
    },
    {
     "name": "stdout",
     "output_type": "stream",
     "text": [
      "Epoch 90, Loss 0.0474\n",
      "Training Accuracy: 0.9527, Testing Accuracy: 0.9617\n",
      "\n"
     ]
    },
    {
     "name": "stdout",
     "output_type": "stream",
     "text": [
      "Epoch 100, Loss 0.0459\n",
      "Training Accuracy: 0.9541, Testing Accuracy: 0.9622\n",
      "\n"
     ]
    },
    {
     "name": "stdout",
     "output_type": "stream",
     "text": [
      "Epoch 110, Loss 0.0447\n",
      "Training Accuracy: 0.9552, Testing Accuracy: 0.9622\n",
      "\n"
     ]
    },
    {
     "name": "stdout",
     "output_type": "stream",
     "text": [
      "Epoch 120, Loss 0.0436\n",
      "Training Accuracy: 0.9557, Testing Accuracy: 0.9622\n",
      "\n"
     ]
    },
    {
     "name": "stdout",
     "output_type": "stream",
     "text": [
      "Epoch 130, Loss 0.0427\n",
      "Training Accuracy: 0.9563, Testing Accuracy: 0.9622\n",
      "\n"
     ]
    },
    {
     "name": "stdout",
     "output_type": "stream",
     "text": [
      "Epoch 140, Loss 0.0419\n",
      "Training Accuracy: 0.9569, Testing Accuracy: 0.9627\n",
      "\n"
     ]
    },
    {
     "name": "stdout",
     "output_type": "stream",
     "text": [
      "Epoch 150, Loss 0.0411\n",
      "Training Accuracy: 0.9572, Testing Accuracy: 0.9647\n",
      "\n"
     ]
    },
    {
     "name": "stdout",
     "output_type": "stream",
     "text": [
      "Epoch 160, Loss 0.0405\n",
      "Training Accuracy: 0.9579, Testing Accuracy: 0.9652\n",
      "\n"
     ]
    },
    {
     "name": "stdout",
     "output_type": "stream",
     "text": [
      "Epoch 170, Loss 0.0399\n",
      "Training Accuracy: 0.9583, Testing Accuracy: 0.9652\n",
      "\n"
     ]
    },
    {
     "name": "stdout",
     "output_type": "stream",
     "text": [
      "Epoch 180, Loss 0.0393\n",
      "Training Accuracy: 0.9588, Testing Accuracy: 0.9652\n",
      "\n"
     ]
    },
    {
     "name": "stdout",
     "output_type": "stream",
     "text": [
      "Epoch 190, Loss 0.0388\n",
      "Training Accuracy: 0.9591, Testing Accuracy: 0.9657\n",
      "\n"
     ]
    },
    {
     "name": "stdout",
     "output_type": "stream",
     "text": [
      "Epoch 200, Loss 0.0383\n",
      "Training Accuracy: 0.9597, Testing Accuracy: 0.9657\n",
      "\n"
     ]
    },
    {
     "name": "stdout",
     "output_type": "stream",
     "text": [
      "Epoch 210, Loss 0.0379\n",
      "Training Accuracy: 0.9596, Testing Accuracy: 0.9662\n",
      "\n"
     ]
    },
    {
     "name": "stdout",
     "output_type": "stream",
     "text": [
      "Epoch 220, Loss 0.0375\n",
      "Training Accuracy: 0.9602, Testing Accuracy: 0.9667\n",
      "\n"
     ]
    },
    {
     "name": "stdout",
     "output_type": "stream",
     "text": [
      "Epoch 230, Loss 0.0371\n",
      "Training Accuracy: 0.9604, Testing Accuracy: 0.9667\n",
      "\n"
     ]
    },
    {
     "name": "stdout",
     "output_type": "stream",
     "text": [
      "Epoch 240, Loss 0.0367\n",
      "Training Accuracy: 0.9605, Testing Accuracy: 0.9667\n",
      "\n"
     ]
    },
    {
     "data": {
      "text/plain": [
       "0.011197571698236566"
      ]
     },
     "execution_count": 23,
     "metadata": {},
     "output_type": "execute_result"
    }
   ],
   "source": [
    "lr_learner.train_loop(dl)"
   ]
  },
  {
   "cell_type": "code",
   "execution_count": 24,
   "id": "ca410940",
   "metadata": {
    "execution": {
     "iopub.execute_input": "2022-02-27T10:10:09.202089Z",
     "iopub.status.busy": "2022-02-27T10:10:09.201566Z",
     "iopub.status.idle": "2022-02-27T10:10:09.428611Z",
     "shell.execute_reply": "2022-02-27T10:10:09.427549Z"
    },
    "papermill": {
     "duration": 0.282135,
     "end_time": "2022-02-27T10:10:09.428759",
     "exception": false,
     "start_time": "2022-02-27T10:10:09.146624",
     "status": "completed"
    },
    "tags": []
   },
   "outputs": [
    {
     "data": {
      "text/plain": [
       "<matplotlib.legend.Legend at 0x7f32f930ecf8>"
      ]
     },
     "execution_count": 24,
     "metadata": {},
     "output_type": "execute_result"
    },
    {
     "data": {
      "image/png": "[encoded data removed]",
      "text/plain": [
       "<Figure size 1080x720 with 1 Axes>"
      ]
     },
     "metadata": {
      "needs_background": "light"
     },
     "output_type": "display_data"
    }
   ],
   "source": [
    "#comparing the results of NN and LR\n",
    "plt.figure(figsize=(15,10))\n",
    "\n",
    "# Neural Network plots\n",
    "plt.plot(acc_nn.accuracies, 'r-', label = \"Training Accuracies - NN\")\n",
    "plt.plot(acc_nn.test_accuracies, 'g-', label = \"Testing Accuracies - NN\")\n",
    "\n",
    "# Logistic Regression plots\n",
    "plt.plot(acc_lr.accuracies, 'k-', label = \"Training Accuracies - LR\")\n",
    "plt.plot(acc_lr.test_accuracies, 'b-', label = \"Testing Accuracies - LR\")\n",
    "plt.legend()"
   ]
  },
  {
   "cell_type": "markdown",
   "id": "80dfb35c",
   "metadata": {
    "papermill": {
     "duration": 0.041678,
     "end_time": "2022-02-27T10:10:09.512475",
     "exception": false,
     "start_time": "2022-02-27T10:10:09.470797",
     "status": "completed"
    },
    "tags": []
   },
   "source": [
    "#### Plotting the outputs of this layer of the NN.\n"
   ]
  },
  {
   "cell_type": "code",
   "execution_count": 25,
   "id": "45eb2ff5",
   "metadata": {
    "execution": {
     "iopub.execute_input": "2022-02-27T10:10:09.603968Z",
     "iopub.status.busy": "2022-02-27T10:10:09.603381Z",
     "iopub.status.idle": "2022-02-27T10:10:09.621999Z",
     "shell.execute_reply": "2022-02-27T10:10:09.622428Z"
    },
    "papermill": {
     "duration": 0.068515,
     "end_time": "2022-02-27T10:10:09.622590",
     "exception": false,
     "start_time": "2022-02-27T10:10:09.554075",
     "status": "completed"
    },
    "tags": []
   },
   "outputs": [],
   "source": [
    "new_model = Model(layers[:-2])\n",
    "testing_plot = new_model(testing_data_x)"
   ]
  },
  {
   "cell_type": "code",
   "execution_count": 26,
   "id": "4c0a5485",
   "metadata": {
    "execution": {
     "iopub.execute_input": "2022-02-27T10:10:09.711669Z",
     "iopub.status.busy": "2022-02-27T10:10:09.711134Z",
     "iopub.status.idle": "2022-02-27T10:10:09.911618Z",
     "shell.execute_reply": "2022-02-27T10:10:09.911168Z"
    },
    "papermill": {
     "duration": 0.246254,
     "end_time": "2022-02-27T10:10:09.911741",
     "exception": false,
     "start_time": "2022-02-27T10:10:09.665487",
     "status": "completed"
    },
    "tags": []
   },
   "outputs": [
    {
     "data": {
      "text/plain": [
       "Text(0.5, 1.0, 'Outputs')"
      ]
     },
     "execution_count": 26,
     "metadata": {},
     "output_type": "execute_result"
    },
    {
     "data": {
      "image/png": "[encoded data removed]",
      "text/plain": [
       "<Figure size 576x504 with 1 Axes>"
      ]
     },
     "metadata": {
      "needs_background": "light"
     },
     "output_type": "display_data"
    }
   ],
   "source": [
    "# Plotting the scatter plot of points and color coding by class\n",
    "plt.figure(figsize=(8,7))\n",
    "plt.scatter(testing_plot[:,0], testing_plot[:,1], alpha = 0.1, c = y_test.ravel());\n",
    "plt.title('Outputs')"
   ]
  },
  {
   "cell_type": "markdown",
   "id": "a74fcf8f",
   "metadata": {
    "papermill": {
     "duration": 0.044315,
     "end_time": "2022-02-27T10:10:10.000198",
     "exception": false,
     "start_time": "2022-02-27T10:10:09.955883",
     "status": "completed"
    },
    "tags": []
   },
   "source": [
    "Probability contours"
   ]
  },
  {
   "cell_type": "code",
   "execution_count": 27,
   "id": "d0afc8e3",
   "metadata": {
    "execution": {
     "iopub.execute_input": "2022-02-27T10:10:10.102817Z",
     "iopub.status.busy": "2022-02-27T10:10:10.101709Z",
     "iopub.status.idle": "2022-02-27T10:10:10.108363Z",
     "shell.execute_reply": "2022-02-27T10:10:10.108796Z"
    },
    "papermill": {
     "duration": 0.064395,
     "end_time": "2022-02-27T10:10:10.108947",
     "exception": false,
     "start_time": "2022-02-27T10:10:10.044552",
     "status": "completed"
    },
    "tags": []
   },
   "outputs": [],
   "source": [
    "model_prob = Model(layers[-2:]) "
   ]
  },
  {
   "cell_type": "code",
   "execution_count": 28,
   "id": "9b96e238",
   "metadata": {
    "execution": {
     "iopub.execute_input": "2022-02-27T10:10:10.240727Z",
     "iopub.status.busy": "2022-02-27T10:10:10.240169Z",
     "iopub.status.idle": "2022-02-27T10:10:10.250603Z",
     "shell.execute_reply": "2022-02-27T10:10:10.250104Z"
    },
    "papermill": {
     "duration": 0.063847,
     "end_time": "2022-02-27T10:10:10.250719",
     "exception": false,
     "start_time": "2022-02-27T10:10:10.186872",
     "status": "completed"
    },
    "tags": []
   },
   "outputs": [],
   "source": [
    "#creating the x and y ranges according to the above generated plot.\n",
    "x_range = np.linspace(-4, 1, 100) \n",
    "y_range = np.linspace(-6, 6, 100) \n",
    "x_grid, y_grid = np.meshgrid(x_range, y_range) # x_grid and y_grig are of size 100 X 100\n",
    "\n",
    "# converting x_grid and y_grid to continuous arrays\n",
    "x_gridflat = np.ravel(x_grid)\n",
    "y_gridflat = np.ravel(y_grid)\n",
    "\n",
    "# The last layer of the current model takes two columns as input. Hence transpose of np.vstack() is required.\n",
    "X = np.vstack((x_gridflat, y_gridflat)).T\n",
    "\n",
    "prob_contour = model_prob(X).reshape(100,100) "
   ]
  },
  {
   "cell_type": "code",
   "execution_count": 29,
   "id": "da72499a",
   "metadata": {
    "execution": {
     "iopub.execute_input": "2022-02-27T10:10:10.350179Z",
     "iopub.status.busy": "2022-02-27T10:10:10.349674Z",
     "iopub.status.idle": "2022-02-27T10:10:10.598670Z",
     "shell.execute_reply": "2022-02-27T10:10:10.598205Z"
    },
    "papermill": {
     "duration": 0.303543,
     "end_time": "2022-02-27T10:10:10.598794",
     "exception": false,
     "start_time": "2022-02-27T10:10:10.295251",
     "status": "completed"
    },
    "tags": []
   },
   "outputs": [
    {
     "data": {
      "image/png": "[encoded data removed]",
      "text/plain": [
       "<Figure size 720x648 with 1 Axes>"
      ]
     },
     "metadata": {
      "needs_background": "light"
     },
     "output_type": "display_data"
    }
   ],
   "source": [
    "plt.figure(figsize=(10,9))\n",
    "plt.scatter(testing_plot[:,0], testing_plot[:,1], alpha = 0.1, c = y_test.ravel())\n",
    "contours = plt.contour(x_grid,y_grid,prob_contour)\n",
    "plt.title('Probability Contours')\n",
    "plt.clabel(contours, inline = True );"
   ]
  },
  {
   "cell_type": "code",
   "execution_count": null,
   "id": "e81b4ac7",
   "metadata": {
    "papermill": {
     "duration": 0.047108,
     "end_time": "2022-02-27T10:10:10.693449",
     "exception": false,
     "start_time": "2022-02-27T10:10:10.646341",
     "status": "completed"
    },
    "tags": []
   },
   "outputs": [],
   "source": []
  }
 ],
 "metadata": {
  "kernelspec": {
   "display_name": "Python 3",
   "language": "python",
   "name": "python3"
  },
  "language_info": {
   "codemirror_mode": {
    "name": "ipython",
    "version": 3
   },
   "file_extension": ".py",
   "mimetype": "text/x-python",
   "name": "python",
   "nbconvert_exporter": "python",
   "pygments_lexer": "ipython3",
   "version": "3.6.15"
  },
  "papermill": {
   "default_parameters": {},
   "duration": 99.757367,
   "end_time": "2022-02-27T10:10:11.159854",
   "environment_variables": {},
   "exception": null,
   "input_path": "2020-08-11-part2.ipynb",
   "output_path": "2020-08-11-part2.ipynb",
   "parameters": {},
   "start_time": "2022-02-27T10:08:31.402487",
   "version": "2.3.3"
  }
 },
 "nbformat": 4,
 "nbformat_minor": 5
}