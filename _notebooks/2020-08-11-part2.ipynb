{
 "cells": [
  {
   "cell_type": "markdown",
   "id": "98380cd3",
   "metadata": {
    "papermill": {
     "duration": 0.030562,
     "end_time": "2022-05-29T10:09:40.393385",
     "exception": false,
     "start_time": "2022-05-29T10:09:40.362823",
     "status": "completed"
    },
    "tags": []
   },
   "source": [
    "# Distinguish Your Own Digits (DYOD)"
   ]
  },
  {
   "cell_type": "markdown",
   "id": "ef31240d",
   "metadata": {
    "papermill": {
     "duration": 0.023569,
     "end_time": "2022-05-29T10:09:40.441195",
     "exception": false,
     "start_time": "2022-05-29T10:09:40.417626",
     "status": "completed"
    },
    "tags": []
   },
   "source": [
    "You are going to write a classifier that distinguishes between the number 3 and number 8."
   ]
  },
  {
   "cell_type": "code",
   "execution_count": 1,
   "id": "b15c8646",
   "metadata": {
    "execution": {
     "iopub.execute_input": "2022-05-29T10:09:40.499284Z",
     "iopub.status.busy": "2022-05-29T10:09:40.498685Z",
     "iopub.status.idle": "2022-05-29T10:09:40.509767Z",
     "shell.execute_reply": "2022-05-29T10:09:40.509266Z"
    },
    "papermill": {
     "duration": 0.045133,
     "end_time": "2022-05-29T10:09:40.509893",
     "exception": false,
     "start_time": "2022-05-29T10:09:40.464760",
     "status": "completed"
    },
    "tags": []
   },
   "outputs": [],
   "source": [
    "%load_ext autoreload\n",
    "%autoreload 2"
   ]
  },
  {
   "cell_type": "code",
   "execution_count": 2,
   "id": "22ef38dc",
   "metadata": {
    "execution": {
     "iopub.execute_input": "2022-05-29T10:09:40.561259Z",
     "iopub.status.busy": "2022-05-29T10:09:40.560673Z",
     "iopub.status.idle": "2022-05-29T10:09:41.108931Z",
     "shell.execute_reply": "2022-05-29T10:09:41.107996Z"
    },
    "papermill": {
     "duration": 0.575556,
     "end_time": "2022-05-29T10:09:41.109080",
     "exception": false,
     "start_time": "2022-05-29T10:09:40.533524",
     "status": "completed"
    },
    "tags": []
   },
   "outputs": [],
   "source": [
    "%matplotlib inline\n",
    "import numpy as np\n",
    "import matplotlib.pyplot as plt\n",
    "import pandas as pd"
   ]
  },
  {
   "cell_type": "markdown",
   "id": "ba036198",
   "metadata": {
    "papermill": {
     "duration": 0.023673,
     "end_time": "2022-05-29T10:09:41.156646",
     "exception": false,
     "start_time": "2022-05-29T10:09:41.132973",
     "status": "completed"
    },
    "tags": []
   },
   "source": [
    "From the command line run `pip install mnist`. This is a library that will help you bring down the mnist dataset. If you run this from a notebook, you need to put  `!pip install mnist` in a cell by itself."
   ]
  },
  {
   "cell_type": "code",
   "execution_count": 3,
   "id": "bb6ad8a1",
   "metadata": {
    "execution": {
     "iopub.execute_input": "2022-05-29T10:09:41.226448Z",
     "iopub.status.busy": "2022-05-29T10:09:41.222289Z",
     "iopub.status.idle": "2022-05-29T10:09:42.947202Z",
     "shell.execute_reply": "2022-05-29T10:09:42.946631Z"
    },
    "papermill": {
     "duration": 1.766995,
     "end_time": "2022-05-29T10:09:42.947333",
     "exception": false,
     "start_time": "2022-05-29T10:09:41.180338",
     "status": "completed"
    },
    "tags": []
   },
   "outputs": [
    {
     "name": "stdout",
     "output_type": "stream",
     "text": [
      "Collecting mnist\r\n"
     ]
    },
    {
     "name": "stdout",
     "output_type": "stream",
     "text": [
      "  Downloading mnist-0.2.2-py2.py3-none-any.whl (3.5 kB)\r\n"
     ]
    },
    {
     "name": "stdout",
     "output_type": "stream",
     "text": [
      "Requirement already satisfied: numpy in /opt/hostedtoolcache/Python/3.6.15/x64/lib/python3.6/site-packages (from mnist) (1.19.5)\r\n"
     ]
    },
    {
     "name": "stdout",
     "output_type": "stream",
     "text": [
      "Installing collected packages: mnist\r\n"
     ]
    },
    {
     "name": "stdout",
     "output_type": "stream",
     "text": [
      "Successfully installed mnist-0.2.2\r\n"
     ]
    }
   ],
   "source": [
    "!pip install mnist"
   ]
  },
  {
   "cell_type": "markdown",
   "id": "69df9c9a",
   "metadata": {
    "papermill": {
     "duration": 0.02547,
     "end_time": "2022-05-29T10:09:42.998096",
     "exception": false,
     "start_time": "2022-05-29T10:09:42.972626",
     "status": "completed"
    },
    "tags": []
   },
   "source": [
    "## Preparing the Data"
   ]
  },
  {
   "cell_type": "code",
   "execution_count": 4,
   "id": "7f69d806",
   "metadata": {
    "execution": {
     "iopub.execute_input": "2022-05-29T10:09:43.052756Z",
     "iopub.status.busy": "2022-05-29T10:09:43.052171Z",
     "iopub.status.idle": "2022-05-29T10:09:43.067600Z",
     "shell.execute_reply": "2022-05-29T10:09:43.067112Z"
    },
    "papermill": {
     "duration": 0.044744,
     "end_time": "2022-05-29T10:09:43.067728",
     "exception": false,
     "start_time": "2022-05-29T10:09:43.022984",
     "status": "completed"
    },
    "tags": []
   },
   "outputs": [],
   "source": [
    "import mnist"
   ]
  },
  {
   "cell_type": "code",
   "execution_count": 5,
   "id": "a411e44f",
   "metadata": {
    "execution": {
     "iopub.execute_input": "2022-05-29T10:09:43.125864Z",
     "iopub.status.busy": "2022-05-29T10:09:43.125277Z",
     "iopub.status.idle": "2022-05-29T10:09:43.715777Z",
     "shell.execute_reply": "2022-05-29T10:09:43.715101Z"
    },
    "papermill": {
     "duration": 0.622996,
     "end_time": "2022-05-29T10:09:43.715909",
     "exception": false,
     "start_time": "2022-05-29T10:09:43.092913",
     "status": "completed"
    },
    "tags": []
   },
   "outputs": [],
   "source": [
    "train_images = mnist.train_images()\n",
    "train_labels = mnist.train_labels()"
   ]
  },
  {
   "cell_type": "code",
   "execution_count": 6,
   "id": "dceab3a5",
   "metadata": {
    "execution": {
     "iopub.execute_input": "2022-05-29T10:09:43.769246Z",
     "iopub.status.busy": "2022-05-29T10:09:43.768665Z",
     "iopub.status.idle": "2022-05-29T10:09:43.784847Z",
     "shell.execute_reply": "2022-05-29T10:09:43.785325Z"
    },
    "papermill": {
     "duration": 0.044268,
     "end_time": "2022-05-29T10:09:43.785453",
     "exception": false,
     "start_time": "2022-05-29T10:09:43.741185",
     "status": "completed"
    },
    "tags": []
   },
   "outputs": [
    {
     "data": {
      "text/plain": [
       "((60000, 28, 28), (60000,))"
      ]
     },
     "execution_count": 6,
     "metadata": {},
     "output_type": "execute_result"
    }
   ],
   "source": [
    "train_images.shape, train_labels.shape"
   ]
  },
  {
   "cell_type": "code",
   "execution_count": 7,
   "id": "f50dc2bb",
   "metadata": {
    "execution": {
     "iopub.execute_input": "2022-05-29T10:09:43.839259Z",
     "iopub.status.busy": "2022-05-29T10:09:43.838683Z",
     "iopub.status.idle": "2022-05-29T10:09:44.005766Z",
     "shell.execute_reply": "2022-05-29T10:09:44.005136Z"
    },
    "papermill": {
     "duration": 0.195413,
     "end_time": "2022-05-29T10:09:44.005908",
     "exception": false,
     "start_time": "2022-05-29T10:09:43.810495",
     "status": "completed"
    },
    "tags": []
   },
   "outputs": [],
   "source": [
    "test_images = mnist.test_images()\n",
    "test_labels = mnist.test_labels()"
   ]
  },
  {
   "cell_type": "code",
   "execution_count": 8,
   "id": "fc38cf1b",
   "metadata": {
    "execution": {
     "iopub.execute_input": "2022-05-29T10:09:44.064918Z",
     "iopub.status.busy": "2022-05-29T10:09:44.064324Z",
     "iopub.status.idle": "2022-05-29T10:09:44.077066Z",
     "shell.execute_reply": "2022-05-29T10:09:44.077622Z"
    },
    "papermill": {
     "duration": 0.045199,
     "end_time": "2022-05-29T10:09:44.077763",
     "exception": false,
     "start_time": "2022-05-29T10:09:44.032564",
     "status": "completed"
    },
    "tags": []
   },
   "outputs": [
    {
     "data": {
      "text/plain": [
       "((10000, 28, 28), (10000,))"
      ]
     },
     "execution_count": 8,
     "metadata": {},
     "output_type": "execute_result"
    }
   ],
   "source": [
    "test_images.shape, test_labels.shape"
   ]
  },
  {
   "cell_type": "code",
   "execution_count": 9,
   "id": "f9ed8fe0",
   "metadata": {
    "execution": {
     "iopub.execute_input": "2022-05-29T10:09:44.132515Z",
     "iopub.status.busy": "2022-05-29T10:09:44.131935Z",
     "iopub.status.idle": "2022-05-29T10:09:44.269997Z",
     "shell.execute_reply": "2022-05-29T10:09:44.270525Z"
    },
    "papermill": {
     "duration": 0.167491,
     "end_time": "2022-05-29T10:09:44.270679",
     "exception": false,
     "start_time": "2022-05-29T10:09:44.103188",
     "status": "completed"
    },
    "tags": []
   },
   "outputs": [
    {
     "name": "stdout",
     "output_type": "stream",
     "text": [
      "2\n"
     ]
    },
    {
     "data": {
      "text/plain": [
       "<matplotlib.image.AxesImage at 0x7f4161ffdeb8>"
      ]
     },
     "execution_count": 9,
     "metadata": {},
     "output_type": "execute_result"
    },
    {
     "data": {
      "image/png": "[encoded data removed]",
      "text/plain": [
       "<Figure size 432x288 with 1 Axes>"
      ]
     },
     "metadata": {
      "needs_background": "light"
     },
     "output_type": "display_data"
    }
   ],
   "source": [
    "image_index = 7776 # You may select anything up to 60,000\n",
    "print(train_labels[image_index]) \n",
    "plt.imshow(train_images[image_index], cmap='Greys')"
   ]
  },
  {
   "cell_type": "markdown",
   "id": "a8d2388d",
   "metadata": {
    "papermill": {
     "duration": 0.026472,
     "end_time": "2022-05-29T10:09:44.324214",
     "exception": false,
     "start_time": "2022-05-29T10:09:44.297742",
     "status": "completed"
    },
    "tags": []
   },
   "source": [
    "## Filter data to get 3 and 8 out"
   ]
  },
  {
   "cell_type": "code",
   "execution_count": 10,
   "id": "776f7fc7",
   "metadata": {
    "execution": {
     "iopub.execute_input": "2022-05-29T10:09:44.396334Z",
     "iopub.status.busy": "2022-05-29T10:09:44.394175Z",
     "iopub.status.idle": "2022-05-29T10:09:44.406994Z",
     "shell.execute_reply": "2022-05-29T10:09:44.406171Z"
    },
    "papermill": {
     "duration": 0.056363,
     "end_time": "2022-05-29T10:09:44.407119",
     "exception": false,
     "start_time": "2022-05-29T10:09:44.350756",
     "status": "completed"
    },
    "tags": []
   },
   "outputs": [],
   "source": [
    "train_filter = np.where((train_labels == 3 ) | (train_labels == 8))\n",
    "test_filter = np.where((test_labels == 3) | (test_labels == 8))\n",
    "X_train, y_train = train_images[train_filter], train_labels[train_filter]\n",
    "X_test, y_test = test_images[test_filter], test_labels[test_filter]"
   ]
  },
  {
   "cell_type": "markdown",
   "id": "948f0b7e",
   "metadata": {
    "papermill": {
     "duration": 0.026286,
     "end_time": "2022-05-29T10:09:44.460070",
     "exception": false,
     "start_time": "2022-05-29T10:09:44.433784",
     "status": "completed"
    },
    "tags": []
   },
   "source": [
    "We normalize the pizel values in the 0 to 1 range"
   ]
  },
  {
   "cell_type": "code",
   "execution_count": 11,
   "id": "ee4c2166",
   "metadata": {
    "execution": {
     "iopub.execute_input": "2022-05-29T10:09:44.520895Z",
     "iopub.status.busy": "2022-05-29T10:09:44.520292Z",
     "iopub.status.idle": "2022-05-29T10:09:44.567136Z",
     "shell.execute_reply": "2022-05-29T10:09:44.567643Z"
    },
    "papermill": {
     "duration": 0.081418,
     "end_time": "2022-05-29T10:09:44.567800",
     "exception": false,
     "start_time": "2022-05-29T10:09:44.486382",
     "status": "completed"
    },
    "tags": []
   },
   "outputs": [],
   "source": [
    "X_train = X_train/255.\n",
    "X_test = X_test/255."
   ]
  },
  {
   "cell_type": "markdown",
   "id": "ddcf4fab",
   "metadata": {
    "papermill": {
     "duration": 0.026527,
     "end_time": "2022-05-29T10:09:44.621156",
     "exception": false,
     "start_time": "2022-05-29T10:09:44.594629",
     "status": "completed"
    },
    "tags": []
   },
   "source": [
    "And setup the labels as 1 (when the digit is 3) and 0 (when the digit is 8)"
   ]
  },
  {
   "cell_type": "code",
   "execution_count": 12,
   "id": "7dc908f2",
   "metadata": {
    "execution": {
     "iopub.execute_input": "2022-05-29T10:09:44.692898Z",
     "iopub.status.busy": "2022-05-29T10:09:44.692279Z",
     "iopub.status.idle": "2022-05-29T10:09:44.695044Z",
     "shell.execute_reply": "2022-05-29T10:09:44.695519Z"
    },
    "papermill": {
     "duration": 0.048099,
     "end_time": "2022-05-29T10:09:44.695660",
     "exception": false,
     "start_time": "2022-05-29T10:09:44.647561",
     "status": "completed"
    },
    "tags": []
   },
   "outputs": [],
   "source": [
    "y_train = 1*(y_train==3)\n",
    "y_test = 1*(y_test==3)"
   ]
  },
  {
   "cell_type": "code",
   "execution_count": 13,
   "id": "01e4e969",
   "metadata": {
    "execution": {
     "iopub.execute_input": "2022-05-29T10:09:44.767368Z",
     "iopub.status.busy": "2022-05-29T10:09:44.764265Z",
     "iopub.status.idle": "2022-05-29T10:09:44.770516Z",
     "shell.execute_reply": "2022-05-29T10:09:44.770945Z"
    },
    "papermill": {
     "duration": 0.048547,
     "end_time": "2022-05-29T10:09:44.771077",
     "exception": false,
     "start_time": "2022-05-29T10:09:44.722530",
     "status": "completed"
    },
    "tags": []
   },
   "outputs": [
    {
     "data": {
      "text/plain": [
       "((11982, 28, 28), (1984, 28, 28))"
      ]
     },
     "execution_count": 13,
     "metadata": {},
     "output_type": "execute_result"
    }
   ],
   "source": [
    "X_train.shape, X_test.shape"
   ]
  },
  {
   "cell_type": "markdown",
   "id": "5ccf3f85",
   "metadata": {
    "papermill": {
     "duration": 0.026477,
     "end_time": "2022-05-29T10:09:44.824162",
     "exception": false,
     "start_time": "2022-05-29T10:09:44.797685",
     "status": "completed"
    },
    "tags": []
   },
   "source": [
    "We reshape the data to flatten the image pixels into a set of features or co-variates:"
   ]
  },
  {
   "cell_type": "code",
   "execution_count": 14,
   "id": "5286a4a3",
   "metadata": {
    "execution": {
     "iopub.execute_input": "2022-05-29T10:09:44.885811Z",
     "iopub.status.busy": "2022-05-29T10:09:44.885203Z",
     "iopub.status.idle": "2022-05-29T10:09:44.897193Z",
     "shell.execute_reply": "2022-05-29T10:09:44.896711Z"
    },
    "papermill": {
     "duration": 0.04644,
     "end_time": "2022-05-29T10:09:44.897306",
     "exception": false,
     "start_time": "2022-05-29T10:09:44.850866",
     "status": "completed"
    },
    "tags": []
   },
   "outputs": [
    {
     "data": {
      "text/plain": [
       "((11982, 784), (1984, 784))"
      ]
     },
     "execution_count": 14,
     "metadata": {},
     "output_type": "execute_result"
    }
   ],
   "source": [
    "X_train = X_train.reshape(X_train.shape[0], -1)\n",
    "X_test = X_test.reshape(X_test.shape[0], -1)\n",
    "X_train.shape, X_test.shape"
   ]
  },
  {
   "cell_type": "code",
   "execution_count": 15,
   "id": "73c5f88a",
   "metadata": {
    "execution": {
     "iopub.execute_input": "2022-05-29T10:09:44.968312Z",
     "iopub.status.busy": "2022-05-29T10:09:44.960843Z",
     "iopub.status.idle": "2022-05-29T10:09:44.977849Z",
     "shell.execute_reply": "2022-05-29T10:09:44.977362Z"
    },
    "papermill": {
     "duration": 0.053664,
     "end_time": "2022-05-29T10:09:44.977968",
     "exception": false,
     "start_time": "2022-05-29T10:09:44.924304",
     "status": "completed"
    },
    "tags": []
   },
   "outputs": [],
   "source": [
    "#Impoting functions from 'Kudzu'\n",
    "from kudzu.model import Model\n",
    "from kudzu.train import Learner\n",
    "from kudzu.optim import GD\n",
    "from kudzu.data import Data, Sampler,Dataloader\n",
    "\n",
    "from kudzu.callbacks import AccCallback\n",
    "from kudzu.callbacks import ClfCallback\n",
    "\n",
    "from kudzu.loss import MSE\n",
    "\n",
    "from kudzu.layer import Sigmoid,Relu\n",
    "from kudzu.layer import Affine"
   ]
  },
  {
   "cell_type": "markdown",
   "id": "bc01172a",
   "metadata": {
    "papermill": {
     "duration": 0.027225,
     "end_time": "2022-05-29T10:09:45.032290",
     "exception": false,
     "start_time": "2022-05-29T10:09:45.005065",
     "status": "completed"
    },
    "tags": []
   },
   "source": [
    "### Let us create a `Config` class, to store important parameters. \n",
    "This class essentially plays the role of a dictionary."
   ]
  },
  {
   "cell_type": "code",
   "execution_count": 16,
   "id": "978281aa",
   "metadata": {
    "execution": {
     "iopub.execute_input": "2022-05-29T10:09:45.100476Z",
     "iopub.status.busy": "2022-05-29T10:09:45.095079Z",
     "iopub.status.idle": "2022-05-29T10:09:45.106997Z",
     "shell.execute_reply": "2022-05-29T10:09:45.107474Z"
    },
    "papermill": {
     "duration": 0.048464,
     "end_time": "2022-05-29T10:09:45.107614",
     "exception": false,
     "start_time": "2022-05-29T10:09:45.059150",
     "status": "completed"
    },
    "tags": []
   },
   "outputs": [],
   "source": [
    "class Config:\n",
    "    pass\n",
    "config = Config()\n",
    "config.lr = 0.001\n",
    "config.num_epochs = 250\n",
    "config.bs = 50"
   ]
  },
  {
   "cell_type": "markdown",
   "id": "1385fa59",
   "metadata": {
    "papermill": {
     "duration": 0.026754,
     "end_time": "2022-05-29T10:09:45.162301",
     "exception": false,
     "start_time": "2022-05-29T10:09:45.135547",
     "status": "completed"
    },
    "tags": []
   },
   "source": [
    "### Running Models with the Training data\n",
    "Details about the network layers:\n",
    "- A first affine layer has 784 inputs and does 100 affine transforms. These are followed by a Relu\n",
    "- A second affine layer has 100 inputs from the 100 activations of the past layer, and does 100 affine transforms. These are followed by a Relu\n",
    "- A third affine layer has 100 activations and does 2 affine transformations to create an embedding for visualization. There is no non-linearity here.\n",
    "- A final \"logistic regression\" which has an affine transform from 2 inputs to 1 output, which is squeezed through a sigmoid.\n"
   ]
  },
  {
   "cell_type": "code",
   "execution_count": 17,
   "id": "2b9c66db",
   "metadata": {
    "execution": {
     "iopub.execute_input": "2022-05-29T10:09:45.234891Z",
     "iopub.status.busy": "2022-05-29T10:09:45.232720Z",
     "iopub.status.idle": "2022-05-29T10:09:45.237607Z",
     "shell.execute_reply": "2022-05-29T10:09:45.237126Z"
    },
    "papermill": {
     "duration": 0.048509,
     "end_time": "2022-05-29T10:09:45.237720",
     "exception": false,
     "start_time": "2022-05-29T10:09:45.189211",
     "status": "completed"
    },
    "tags": []
   },
   "outputs": [],
   "source": [
    "data = Data(X_train, y_train.reshape(-1,1))\n",
    "sampler = Sampler(data, config.bs, shuffle=True)\n",
    "\n",
    "dl = Dataloader(data, sampler)\n",
    "\n",
    "opt = GD(config.lr)\n",
    "loss = MSE()"
   ]
  },
  {
   "cell_type": "code",
   "execution_count": 18,
   "id": "b275e4c2",
   "metadata": {
    "execution": {
     "iopub.execute_input": "2022-05-29T10:09:45.295964Z",
     "iopub.status.busy": "2022-05-29T10:09:45.295330Z",
     "iopub.status.idle": "2022-05-29T10:09:45.308731Z",
     "shell.execute_reply": "2022-05-29T10:09:45.308248Z"
    },
    "papermill": {
     "duration": 0.044012,
     "end_time": "2022-05-29T10:09:45.308845",
     "exception": false,
     "start_time": "2022-05-29T10:09:45.264833",
     "status": "completed"
    },
    "tags": []
   },
   "outputs": [],
   "source": [
    "training_data_x = X_train\n",
    "testing_data_x = X_test\n",
    "training_data_y = y_train.reshape(-1,1)\n",
    "testing_data_y = y_test.reshape(-1,1)"
   ]
  },
  {
   "cell_type": "code",
   "execution_count": 19,
   "id": "76951160",
   "metadata": {
    "execution": {
     "iopub.execute_input": "2022-05-29T10:09:45.367796Z",
     "iopub.status.busy": "2022-05-29T10:09:45.367179Z",
     "iopub.status.idle": "2022-05-29T10:09:45.384314Z",
     "shell.execute_reply": "2022-05-29T10:09:45.383728Z"
    },
    "papermill": {
     "duration": 0.048718,
     "end_time": "2022-05-29T10:09:45.384431",
     "exception": false,
     "start_time": "2022-05-29T10:09:45.335713",
     "status": "completed"
    },
    "tags": []
   },
   "outputs": [
    {
     "name": "stdout",
     "output_type": "stream",
     "text": [
      "xavier\n",
      "xavier\n",
      "xavier\n",
      "xavier\n",
      "xavier\n"
     ]
    }
   ],
   "source": [
    "layers = [Affine(\"first\", 784, 100), Relu(\"first\"), Affine(\"second\", 100, 100), Relu(\"second\"), Affine(\"third\", 100, 2), Affine(\"last\", 2, 1), Sigmoid(\"last\")]\n",
    "model_nn = Model(layers)\n",
    "model_lr = Model([Affine(\"logits\", 784, 1), Sigmoid(\"sigmoid\")])"
   ]
  },
  {
   "cell_type": "code",
   "execution_count": 20,
   "id": "6eede77a",
   "metadata": {
    "execution": {
     "iopub.execute_input": "2022-05-29T10:09:45.457458Z",
     "iopub.status.busy": "2022-05-29T10:09:45.453988Z",
     "iopub.status.idle": "2022-05-29T10:09:45.459812Z",
     "shell.execute_reply": "2022-05-29T10:09:45.460239Z"
    },
    "papermill": {
     "duration": 0.048518,
     "end_time": "2022-05-29T10:09:45.460382",
     "exception": false,
     "start_time": "2022-05-29T10:09:45.411864",
     "status": "completed"
    },
    "tags": []
   },
   "outputs": [],
   "source": [
    "nn_learner = Learner(loss, model_nn, opt, config.num_epochs)\n",
    "acc_nn = ClfCallback(nn_learner, config.bs, training_data_x , testing_data_x, training_data_y, testing_data_y)\n",
    "nn_learner.set_callbacks([acc_nn])"
   ]
  },
  {
   "cell_type": "code",
   "execution_count": 21,
   "id": "877b6cc7",
   "metadata": {
    "execution": {
     "iopub.execute_input": "2022-05-29T10:09:45.528289Z",
     "iopub.status.busy": "2022-05-29T10:09:45.522891Z",
     "iopub.status.idle": "2022-05-29T10:09:45.533123Z",
     "shell.execute_reply": "2022-05-29T10:09:45.533575Z"
    },
    "papermill": {
     "duration": 0.046105,
     "end_time": "2022-05-29T10:09:45.533713",
     "exception": false,
     "start_time": "2022-05-29T10:09:45.487608",
     "status": "completed"
    },
    "tags": []
   },
   "outputs": [],
   "source": [
    "lr_learner = Learner(loss, model_lr, opt, config.num_epochs)\n",
    "acc_lr = ClfCallback(lr_learner, config.bs, training_data_x , testing_data_x, training_data_y, testing_data_y)\n",
    "lr_learner.set_callbacks([acc_lr])"
   ]
  },
  {
   "cell_type": "code",
   "execution_count": 22,
   "id": "d9b133c3",
   "metadata": {
    "execution": {
     "iopub.execute_input": "2022-05-29T10:09:45.605691Z",
     "iopub.status.busy": "2022-05-29T10:09:45.594814Z",
     "iopub.status.idle": "2022-05-29T10:11:02.339355Z",
     "shell.execute_reply": "2022-05-29T10:11:02.339957Z"
    },
    "papermill": {
     "duration": 76.778994,
     "end_time": "2022-05-29T10:11:02.340106",
     "exception": false,
     "start_time": "2022-05-29T10:09:45.561112",
     "status": "completed"
    },
    "tags": []
   },
   "outputs": [
    {
     "name": "stdout",
     "output_type": "stream",
     "text": [
      "Epoch 0, Loss 0.2413\n",
      "Training Accuracy: 0.7104, Testing Accuracy: 0.7147\n",
      "\n"
     ]
    },
    {
     "name": "stdout",
     "output_type": "stream",
     "text": [
      "Epoch 10, Loss 0.0829\n",
      "Training Accuracy: 0.9194, Testing Accuracy: 0.9299\n",
      "\n"
     ]
    },
    {
     "name": "stdout",
     "output_type": "stream",
     "text": [
      "Epoch 20, Loss 0.052\n",
      "Training Accuracy: 0.9455, Testing Accuracy: 0.9567\n",
      "\n"
     ]
    },
    {
     "name": "stdout",
     "output_type": "stream",
     "text": [
      "Epoch 30, Loss 0.0408\n",
      "Training Accuracy: 0.9556, Testing Accuracy: 0.9637\n",
      "\n"
     ]
    },
    {
     "name": "stdout",
     "output_type": "stream",
     "text": [
      "Epoch 40, Loss 0.0353\n",
      "Training Accuracy: 0.9608, Testing Accuracy: 0.9703\n",
      "\n"
     ]
    },
    {
     "name": "stdout",
     "output_type": "stream",
     "text": [
      "Epoch 50, Loss 0.0321\n",
      "Training Accuracy: 0.9641, Testing Accuracy: 0.9693\n",
      "\n"
     ]
    },
    {
     "name": "stdout",
     "output_type": "stream",
     "text": [
      "Epoch 60, Loss 0.0298\n",
      "Training Accuracy: 0.9664, Testing Accuracy: 0.9713\n",
      "\n"
     ]
    },
    {
     "name": "stdout",
     "output_type": "stream",
     "text": [
      "Epoch 70, Loss 0.0281\n",
      "Training Accuracy: 0.9677, Testing Accuracy: 0.9718\n",
      "\n"
     ]
    },
    {
     "name": "stdout",
     "output_type": "stream",
     "text": [
      "Epoch 80, Loss 0.0268\n",
      "Training Accuracy: 0.9692, Testing Accuracy: 0.9723\n",
      "\n"
     ]
    },
    {
     "name": "stdout",
     "output_type": "stream",
     "text": [
      "Epoch 90, Loss 0.0256\n",
      "Training Accuracy: 0.9708, Testing Accuracy: 0.9723\n",
      "\n"
     ]
    },
    {
     "name": "stdout",
     "output_type": "stream",
     "text": [
      "Epoch 100, Loss 0.0246\n",
      "Training Accuracy: 0.9713, Testing Accuracy: 0.9708\n",
      "\n"
     ]
    },
    {
     "name": "stdout",
     "output_type": "stream",
     "text": [
      "Epoch 110, Loss 0.0238\n",
      "Training Accuracy: 0.9727, Testing Accuracy: 0.9713\n",
      "\n"
     ]
    },
    {
     "name": "stdout",
     "output_type": "stream",
     "text": [
      "Epoch 120, Loss 0.023\n",
      "Training Accuracy: 0.9740, Testing Accuracy: 0.9708\n",
      "\n"
     ]
    },
    {
     "name": "stdout",
     "output_type": "stream",
     "text": [
      "Epoch 130, Loss 0.0223\n",
      "Training Accuracy: 0.9745, Testing Accuracy: 0.9718\n",
      "\n"
     ]
    },
    {
     "name": "stdout",
     "output_type": "stream",
     "text": [
      "Epoch 140, Loss 0.0217\n",
      "Training Accuracy: 0.9755, Testing Accuracy: 0.9723\n",
      "\n"
     ]
    },
    {
     "name": "stdout",
     "output_type": "stream",
     "text": [
      "Epoch 150, Loss 0.0211\n",
      "Training Accuracy: 0.9762, Testing Accuracy: 0.9718\n",
      "\n"
     ]
    },
    {
     "name": "stdout",
     "output_type": "stream",
     "text": [
      "Epoch 160, Loss 0.0205\n",
      "Training Accuracy: 0.9772, Testing Accuracy: 0.9718\n",
      "\n"
     ]
    },
    {
     "name": "stdout",
     "output_type": "stream",
     "text": [
      "Epoch 170, Loss 0.02\n",
      "Training Accuracy: 0.9783, Testing Accuracy: 0.9733\n",
      "\n"
     ]
    },
    {
     "name": "stdout",
     "output_type": "stream",
     "text": [
      "Epoch 180, Loss 0.0195\n",
      "Training Accuracy: 0.9787, Testing Accuracy: 0.9728\n",
      "\n"
     ]
    },
    {
     "name": "stdout",
     "output_type": "stream",
     "text": [
      "Epoch 190, Loss 0.019\n",
      "Training Accuracy: 0.9798, Testing Accuracy: 0.9728\n",
      "\n"
     ]
    },
    {
     "name": "stdout",
     "output_type": "stream",
     "text": [
      "Epoch 200, Loss 0.0186\n",
      "Training Accuracy: 0.9802, Testing Accuracy: 0.9743\n",
      "\n"
     ]
    },
    {
     "name": "stdout",
     "output_type": "stream",
     "text": [
      "Epoch 210, Loss 0.0182\n",
      "Training Accuracy: 0.9806, Testing Accuracy: 0.9748\n",
      "\n"
     ]
    },
    {
     "name": "stdout",
     "output_type": "stream",
     "text": [
      "Epoch 220, Loss 0.0177\n",
      "Training Accuracy: 0.9809, Testing Accuracy: 0.9748\n",
      "\n"
     ]
    },
    {
     "name": "stdout",
     "output_type": "stream",
     "text": [
      "Epoch 230, Loss 0.0173\n",
      "Training Accuracy: 0.9813, Testing Accuracy: 0.9758\n",
      "\n"
     ]
    },
    {
     "name": "stdout",
     "output_type": "stream",
     "text": [
      "Epoch 240, Loss 0.017\n",
      "Training Accuracy: 0.9816, Testing Accuracy: 0.9753\n",
      "\n"
     ]
    },
    {
     "data": {
      "text/plain": [
       "0.0017644041955075297"
      ]
     },
     "execution_count": 22,
     "metadata": {},
     "output_type": "execute_result"
    }
   ],
   "source": [
    "nn_learner.train_loop(dl)"
   ]
  },
  {
   "cell_type": "code",
   "execution_count": 23,
   "id": "e0163366",
   "metadata": {
    "execution": {
     "iopub.execute_input": "2022-05-29T10:11:02.413068Z",
     "iopub.status.busy": "2022-05-29T10:11:02.412472Z",
     "iopub.status.idle": "2022-05-29T10:11:16.638272Z",
     "shell.execute_reply": "2022-05-29T10:11:16.639135Z"
    },
    "papermill": {
     "duration": 14.264451,
     "end_time": "2022-05-29T10:11:16.639301",
     "exception": false,
     "start_time": "2022-05-29T10:11:02.374850",
     "status": "completed"
    },
    "tags": []
   },
   "outputs": [
    {
     "name": "stdout",
     "output_type": "stream",
     "text": [
      "Epoch 0, Loss 0.2168\n",
      "Training Accuracy: 0.7426, Testing Accuracy: 0.7586\n",
      "\n"
     ]
    },
    {
     "name": "stdout",
     "output_type": "stream",
     "text": [
      "Epoch 10, Loss 0.1035\n",
      "Training Accuracy: 0.9056, Testing Accuracy: 0.9103\n",
      "\n"
     ]
    },
    {
     "name": "stdout",
     "output_type": "stream",
     "text": [
      "Epoch 20, Loss 0.0801\n",
      "Training Accuracy: 0.9248, Testing Accuracy: 0.9365\n",
      "\n"
     ]
    },
    {
     "name": "stdout",
     "output_type": "stream",
     "text": [
      "Epoch 30, Loss 0.0691\n",
      "Training Accuracy: 0.9343, Testing Accuracy: 0.9466\n",
      "\n"
     ]
    },
    {
     "name": "stdout",
     "output_type": "stream",
     "text": [
      "Epoch 40, Loss 0.0624\n",
      "Training Accuracy: 0.9392, Testing Accuracy: 0.9496\n",
      "\n"
     ]
    },
    {
     "name": "stdout",
     "output_type": "stream",
     "text": [
      "Epoch 50, Loss 0.0578\n",
      "Training Accuracy: 0.9430, Testing Accuracy: 0.9516\n",
      "\n"
     ]
    },
    {
     "name": "stdout",
     "output_type": "stream",
     "text": [
      "Epoch 60, Loss 0.0544\n",
      "Training Accuracy: 0.9453, Testing Accuracy: 0.9561\n",
      "\n"
     ]
    },
    {
     "name": "stdout",
     "output_type": "stream",
     "text": [
      "Epoch 70, Loss 0.0518\n",
      "Training Accuracy: 0.9478, Testing Accuracy: 0.9567\n",
      "\n"
     ]
    },
    {
     "name": "stdout",
     "output_type": "stream",
     "text": [
      "Epoch 80, Loss 0.0497\n",
      "Training Accuracy: 0.9497, Testing Accuracy: 0.9577\n",
      "\n"
     ]
    },
    {
     "name": "stdout",
     "output_type": "stream",
     "text": [
      "Epoch 90, Loss 0.048\n",
      "Training Accuracy: 0.9511, Testing Accuracy: 0.9602\n",
      "\n"
     ]
    },
    {
     "name": "stdout",
     "output_type": "stream",
     "text": [
      "Epoch 100, Loss 0.0465\n",
      "Training Accuracy: 0.9525, Testing Accuracy: 0.9612\n",
      "\n"
     ]
    },
    {
     "name": "stdout",
     "output_type": "stream",
     "text": [
      "Epoch 110, Loss 0.0453\n",
      "Training Accuracy: 0.9535, Testing Accuracy: 0.9637\n",
      "\n"
     ]
    },
    {
     "name": "stdout",
     "output_type": "stream",
     "text": [
      "Epoch 120, Loss 0.0442\n",
      "Training Accuracy: 0.9543, Testing Accuracy: 0.9647\n",
      "\n"
     ]
    },
    {
     "name": "stdout",
     "output_type": "stream",
     "text": [
      "Epoch 130, Loss 0.0432\n",
      "Training Accuracy: 0.9549, Testing Accuracy: 0.9642\n",
      "\n"
     ]
    },
    {
     "name": "stdout",
     "output_type": "stream",
     "text": [
      "Epoch 140, Loss 0.0424\n",
      "Training Accuracy: 0.9554, Testing Accuracy: 0.9652\n",
      "\n"
     ]
    },
    {
     "name": "stdout",
     "output_type": "stream",
     "text": [
      "Epoch 150, Loss 0.0416\n",
      "Training Accuracy: 0.9562, Testing Accuracy: 0.9667\n",
      "\n"
     ]
    },
    {
     "name": "stdout",
     "output_type": "stream",
     "text": [
      "Epoch 160, Loss 0.0409\n",
      "Training Accuracy: 0.9566, Testing Accuracy: 0.9667\n",
      "\n"
     ]
    },
    {
     "name": "stdout",
     "output_type": "stream",
     "text": [
      "Epoch 170, Loss 0.0403\n",
      "Training Accuracy: 0.9572, Testing Accuracy: 0.9667\n",
      "\n"
     ]
    },
    {
     "name": "stdout",
     "output_type": "stream",
     "text": [
      "Epoch 180, Loss 0.0397\n",
      "Training Accuracy: 0.9575, Testing Accuracy: 0.9672\n",
      "\n"
     ]
    },
    {
     "name": "stdout",
     "output_type": "stream",
     "text": [
      "Epoch 190, Loss 0.0392\n",
      "Training Accuracy: 0.9580, Testing Accuracy: 0.9677\n",
      "\n"
     ]
    },
    {
     "name": "stdout",
     "output_type": "stream",
     "text": [
      "Epoch 200, Loss 0.0387\n",
      "Training Accuracy: 0.9585, Testing Accuracy: 0.9682\n",
      "\n"
     ]
    },
    {
     "name": "stdout",
     "output_type": "stream",
     "text": [
      "Epoch 210, Loss 0.0382\n",
      "Training Accuracy: 0.9594, Testing Accuracy: 0.9682\n",
      "\n"
     ]
    },
    {
     "name": "stdout",
     "output_type": "stream",
     "text": [
      "Epoch 220, Loss 0.0378\n",
      "Training Accuracy: 0.9596, Testing Accuracy: 0.9682\n",
      "\n"
     ]
    },
    {
     "name": "stdout",
     "output_type": "stream",
     "text": [
      "Epoch 230, Loss 0.0374\n",
      "Training Accuracy: 0.9599, Testing Accuracy: 0.9682\n",
      "\n"
     ]
    },
    {
     "name": "stdout",
     "output_type": "stream",
     "text": [
      "Epoch 240, Loss 0.0371\n",
      "Training Accuracy: 0.9606, Testing Accuracy: 0.9682\n",
      "\n"
     ]
    },
    {
     "data": {
      "text/plain": [
       "0.02040361305972669"
      ]
     },
     "execution_count": 23,
     "metadata": {},
     "output_type": "execute_result"
    }
   ],
   "source": [
    "lr_learner.train_loop(dl)"
   ]
  },
  {
   "cell_type": "code",
   "execution_count": 24,
   "id": "ca410940",
   "metadata": {
    "execution": {
     "iopub.execute_input": "2022-05-29T10:11:16.737954Z",
     "iopub.status.busy": "2022-05-29T10:11:16.737334Z",
     "iopub.status.idle": "2022-05-29T10:11:16.973532Z",
     "shell.execute_reply": "2022-05-29T10:11:16.973020Z"
    },
    "papermill": {
     "duration": 0.292831,
     "end_time": "2022-05-29T10:11:16.973658",
     "exception": false,
     "start_time": "2022-05-29T10:11:16.680827",
     "status": "completed"
    },
    "tags": []
   },
   "outputs": [
    {
     "data": {
      "text/plain": [
       "<matplotlib.legend.Legend at 0x7f4161bcee48>"
      ]
     },
     "execution_count": 24,
     "metadata": {},
     "output_type": "execute_result"
    },
    {
     "data": {
      "image/png": "[encoded data removed]",
      "text/plain": [
       "<Figure size 1080x720 with 1 Axes>"
      ]
     },
     "metadata": {
      "needs_background": "light"
     },
     "output_type": "display_data"
    }
   ],
   "source": [
    "#comparing the results of NN and LR\n",
    "plt.figure(figsize=(15,10))\n",
    "\n",
    "# Neural Network plots\n",
    "plt.plot(acc_nn.accuracies, 'r-', label = \"Training Accuracies - NN\")\n",
    "plt.plot(acc_nn.test_accuracies, 'g-', label = \"Testing Accuracies - NN\")\n",
    "\n",
    "# Logistic Regression plots\n",
    "plt.plot(acc_lr.accuracies, 'k-', label = \"Training Accuracies - LR\")\n",
    "plt.plot(acc_lr.test_accuracies, 'b-', label = \"Testing Accuracies - LR\")\n",
    "plt.legend()"
   ]
  },
  {
   "cell_type": "markdown",
   "id": "80dfb35c",
   "metadata": {
    "papermill": {
     "duration": 0.042384,
     "end_time": "2022-05-29T10:11:17.060539",
     "exception": false,
     "start_time": "2022-05-29T10:11:17.018155",
     "status": "completed"
    },
    "tags": []
   },
   "source": [
    "#### Plotting the outputs of this layer of the NN.\n"
   ]
  },
  {
   "cell_type": "code",
   "execution_count": 25,
   "id": "45eb2ff5",
   "metadata": {
    "execution": {
     "iopub.execute_input": "2022-05-29T10:11:17.160432Z",
     "iopub.status.busy": "2022-05-29T10:11:17.156378Z",
     "iopub.status.idle": "2022-05-29T10:11:17.175612Z",
     "shell.execute_reply": "2022-05-29T10:11:17.175047Z"
    },
    "papermill": {
     "duration": 0.072655,
     "end_time": "2022-05-29T10:11:17.175741",
     "exception": false,
     "start_time": "2022-05-29T10:11:17.103086",
     "status": "completed"
    },
    "tags": []
   },
   "outputs": [],
   "source": [
    "new_model = Model(layers[:-2])\n",
    "testing_plot = new_model(testing_data_x)"
   ]
  },
  {
   "cell_type": "code",
   "execution_count": 26,
   "id": "4c0a5485",
   "metadata": {
    "execution": {
     "iopub.execute_input": "2022-05-29T10:11:17.277049Z",
     "iopub.status.busy": "2022-05-29T10:11:17.276421Z",
     "iopub.status.idle": "2022-05-29T10:11:17.466008Z",
     "shell.execute_reply": "2022-05-29T10:11:17.466449Z"
    },
    "papermill": {
     "duration": 0.247551,
     "end_time": "2022-05-29T10:11:17.466601",
     "exception": false,
     "start_time": "2022-05-29T10:11:17.219050",
     "status": "completed"
    },
    "tags": []
   },
   "outputs": [
    {
     "data": {
      "text/plain": [
       "Text(0.5, 1.0, 'Outputs')"
      ]
     },
     "execution_count": 26,
     "metadata": {},
     "output_type": "execute_result"
    },
    {
     "data": {
      "image/png": "[encoded data removed]",
      "text/plain": [
       "<Figure size 576x504 with 1 Axes>"
      ]
     },
     "metadata": {
      "needs_background": "light"
     },
     "output_type": "display_data"
    }
   ],
   "source": [
    "# Plotting the scatter plot of points and color coding by class\n",
    "plt.figure(figsize=(8,7))\n",
    "plt.scatter(testing_plot[:,0], testing_plot[:,1], alpha = 0.1, c = y_test.ravel());\n",
    "plt.title('Outputs')"
   ]
  },
  {
   "cell_type": "markdown",
   "id": "a74fcf8f",
   "metadata": {
    "papermill": {
     "duration": 0.044019,
     "end_time": "2022-05-29T10:11:17.559269",
     "exception": false,
     "start_time": "2022-05-29T10:11:17.515250",
     "status": "completed"
    },
    "tags": []
   },
   "source": [
    "Probability contours"
   ]
  },
  {
   "cell_type": "code",
   "execution_count": 27,
   "id": "d0afc8e3",
   "metadata": {
    "execution": {
     "iopub.execute_input": "2022-05-29T10:11:17.702980Z",
     "iopub.status.busy": "2022-05-29T10:11:17.702363Z",
     "iopub.status.idle": "2022-05-29T10:11:17.705433Z",
     "shell.execute_reply": "2022-05-29T10:11:17.705864Z"
    },
    "papermill": {
     "duration": 0.098217,
     "end_time": "2022-05-29T10:11:17.706004",
     "exception": false,
     "start_time": "2022-05-29T10:11:17.607787",
     "status": "completed"
    },
    "tags": []
   },
   "outputs": [],
   "source": [
    "model_prob = Model(layers[-2:]) "
   ]
  },
  {
   "cell_type": "code",
   "execution_count": 28,
   "id": "9b96e238",
   "metadata": {
    "execution": {
     "iopub.execute_input": "2022-05-29T10:11:17.811082Z",
     "iopub.status.busy": "2022-05-29T10:11:17.810474Z",
     "iopub.status.idle": "2022-05-29T10:11:17.823057Z",
     "shell.execute_reply": "2022-05-29T10:11:17.821989Z"
    },
    "papermill": {
     "duration": 0.072741,
     "end_time": "2022-05-29T10:11:17.823179",
     "exception": false,
     "start_time": "2022-05-29T10:11:17.750438",
     "status": "completed"
    },
    "tags": []
   },
   "outputs": [],
   "source": [
    "#creating the x and y ranges according to the above generated plot.\n",
    "x_range = np.linspace(-4, 1, 100) \n",
    "y_range = np.linspace(-6, 6, 100) \n",
    "x_grid, y_grid = np.meshgrid(x_range, y_range) # x_grid and y_grig are of size 100 X 100\n",
    "\n",
    "# converting x_grid and y_grid to continuous arrays\n",
    "x_gridflat = np.ravel(x_grid)\n",
    "y_gridflat = np.ravel(y_grid)\n",
    "\n",
    "# The last layer of the current model takes two columns as input. Hence transpose of np.vstack() is required.\n",
    "X = np.vstack((x_gridflat, y_gridflat)).T\n",
    "\n",
    "prob_contour = model_prob(X).reshape(100,100) "
   ]
  },
  {
   "cell_type": "code",
   "execution_count": 29,
   "id": "da72499a",
   "metadata": {
    "execution": {
     "iopub.execute_input": "2022-05-29T10:11:17.921376Z",
     "iopub.status.busy": "2022-05-29T10:11:17.920779Z",
     "iopub.status.idle": "2022-05-29T10:11:18.166609Z",
     "shell.execute_reply": "2022-05-29T10:11:18.167073Z"
    },
    "papermill": {
     "duration": 0.299375,
     "end_time": "2022-05-29T10:11:18.167221",
     "exception": false,
     "start_time": "2022-05-29T10:11:17.867846",
     "status": "completed"
    },
    "tags": []
   },
   "outputs": [
    {
     "data": {
      "image/png": "[encoded data removed]",
      "text/plain": [
       "<Figure size 720x648 with 1 Axes>"
      ]
     },
     "metadata": {
      "needs_background": "light"
     },
     "output_type": "display_data"
    }
   ],
   "source": [
    "plt.figure(figsize=(10,9))\n",
    "plt.scatter(testing_plot[:,0], testing_plot[:,1], alpha = 0.1, c = y_test.ravel())\n",
    "contours = plt.contour(x_grid,y_grid,prob_contour)\n",
    "plt.title('Probability Contours')\n",
    "plt.clabel(contours, inline = True );"
   ]
  },
  {
   "cell_type": "code",
   "execution_count": null,
   "id": "e81b4ac7",
   "metadata": {
    "papermill": {
     "duration": 0.047199,
     "end_time": "2022-05-29T10:11:18.262195",
     "exception": false,
     "start_time": "2022-05-29T10:11:18.214996",
     "status": "completed"
    },
    "tags": []
   },
   "outputs": [],
   "source": []
  }
 ],
 "metadata": {
  "kernelspec": {
   "display_name": "Python 3",
   "language": "python",
   "name": "python3"
  },
  "language_info": {
   "codemirror_mode": {
    "name": "ipython",
    "version": 3
   },
   "file_extension": ".py",
   "mimetype": "text/x-python",
   "name": "python",
   "nbconvert_exporter": "python",
   "pygments_lexer": "ipython3",
   "version": "3.6.15"
  },
  "papermill": {
   "default_parameters": {},
   "duration": 99.309358,
   "end_time": "2022-05-29T10:11:18.728579",
   "environment_variables": {},
   "exception": null,
   "input_path": "2020-08-11-part2.ipynb",
   "output_path": "2020-08-11-part2.ipynb",
   "parameters": {},
   "start_time": "2022-05-29T10:09:39.419221",
   "version": "2.3.3"
  }
 },
 "nbformat": 4,
 "nbformat_minor": 5
}