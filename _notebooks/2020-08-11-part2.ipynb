{
 "cells": [
  {
   "cell_type": "markdown",
   "id": "98380cd3",
   "metadata": {
    "papermill": {
     "duration": 0.028159,
     "end_time": "2021-10-28T00:32:04.499598",
     "exception": false,
     "start_time": "2021-10-28T00:32:04.471439",
     "status": "completed"
    },
    "tags": []
   },
   "source": [
    "# Distinguish Your Own Digits (DYOD)"
   ]
  },
  {
   "cell_type": "markdown",
   "id": "ef31240d",
   "metadata": {
    "papermill": {
     "duration": 0.024005,
     "end_time": "2021-10-28T00:32:04.548372",
     "exception": false,
     "start_time": "2021-10-28T00:32:04.524367",
     "status": "completed"
    },
    "tags": []
   },
   "source": [
    "You are going to write a classifier that distinguishes between the number 3 and number 8."
   ]
  },
  {
   "cell_type": "code",
   "execution_count": 1,
   "id": "b15c8646",
   "metadata": {
    "execution": {
     "iopub.execute_input": "2021-10-28T00:32:04.607437Z",
     "iopub.status.busy": "2021-10-28T00:32:04.606913Z",
     "iopub.status.idle": "2021-10-28T00:32:04.616948Z",
     "shell.execute_reply": "2021-10-28T00:32:04.616486Z"
    },
    "papermill": {
     "duration": 0.044454,
     "end_time": "2021-10-28T00:32:04.617068",
     "exception": false,
     "start_time": "2021-10-28T00:32:04.572614",
     "status": "completed"
    },
    "tags": []
   },
   "outputs": [],
   "source": [
    "%load_ext autoreload\n",
    "%autoreload 2"
   ]
  },
  {
   "cell_type": "code",
   "execution_count": 2,
   "id": "22ef38dc",
   "metadata": {
    "execution": {
     "iopub.execute_input": "2021-10-28T00:32:04.669940Z",
     "iopub.status.busy": "2021-10-28T00:32:04.669433Z",
     "iopub.status.idle": "2021-10-28T00:32:05.238921Z",
     "shell.execute_reply": "2021-10-28T00:32:05.238097Z"
    },
    "papermill": {
     "duration": 0.597947,
     "end_time": "2021-10-28T00:32:05.239059",
     "exception": false,
     "start_time": "2021-10-28T00:32:04.641112",
     "status": "completed"
    },
    "tags": []
   },
   "outputs": [],
   "source": [
    "%matplotlib inline\n",
    "import numpy as np\n",
    "import matplotlib.pyplot as plt\n",
    "import pandas as pd"
   ]
  },
  {
   "cell_type": "markdown",
   "id": "ba036198",
   "metadata": {
    "papermill": {
     "duration": 0.024185,
     "end_time": "2021-10-28T00:32:05.287876",
     "exception": false,
     "start_time": "2021-10-28T00:32:05.263691",
     "status": "completed"
    },
    "tags": []
   },
   "source": [
    "From the command line run `pip install mnist`. This is a library that will help you bring down the mnist dataset. If you run this from a notebook, you need to put  `!pip install mnist` in a cell by itself."
   ]
  },
  {
   "cell_type": "code",
   "execution_count": 3,
   "id": "bb6ad8a1",
   "metadata": {
    "execution": {
     "iopub.execute_input": "2021-10-28T00:32:05.344071Z",
     "iopub.status.busy": "2021-10-28T00:32:05.343565Z",
     "iopub.status.idle": "2021-10-28T00:32:07.070348Z",
     "shell.execute_reply": "2021-10-28T00:32:07.069830Z"
    },
    "papermill": {
     "duration": 1.758364,
     "end_time": "2021-10-28T00:32:07.070486",
     "exception": false,
     "start_time": "2021-10-28T00:32:05.312122",
     "status": "completed"
    },
    "tags": []
   },
   "outputs": [
    {
     "name": "stdout",
     "output_type": "stream",
     "text": [
      "Collecting mnist\r\n"
     ]
    },
    {
     "name": "stdout",
     "output_type": "stream",
     "text": [
      "  Downloading mnist-0.2.2-py2.py3-none-any.whl (3.5 kB)\r\n",
      "Requirement already satisfied: numpy in /opt/hostedtoolcache/Python/3.6.15/x64/lib/python3.6/site-packages (from mnist) (1.19.5)\r\n"
     ]
    },
    {
     "name": "stdout",
     "output_type": "stream",
     "text": [
      "Installing collected packages: mnist\r\n",
      "Successfully installed mnist-0.2.2\r\n"
     ]
    },
    {
     "name": "stdout",
     "output_type": "stream",
     "text": [
      "\u001b[33mWARNING: You are using pip version 21.3; however, version 21.3.1 is available.\r\n",
      "You should consider upgrading via the '/opt/hostedtoolcache/Python/3.6.15/x64/bin/python -m pip install --upgrade pip' command.\u001b[0m\r\n"
     ]
    }
   ],
   "source": [
    "!pip install mnist"
   ]
  },
  {
   "cell_type": "markdown",
   "id": "69df9c9a",
   "metadata": {
    "papermill": {
     "duration": 0.025451,
     "end_time": "2021-10-28T00:32:07.122004",
     "exception": false,
     "start_time": "2021-10-28T00:32:07.096553",
     "status": "completed"
    },
    "tags": []
   },
   "source": [
    "## Preparing the Data"
   ]
  },
  {
   "cell_type": "code",
   "execution_count": 4,
   "id": "7f69d806",
   "metadata": {
    "execution": {
     "iopub.execute_input": "2021-10-28T00:32:07.178909Z",
     "iopub.status.busy": "2021-10-28T00:32:07.178400Z",
     "iopub.status.idle": "2021-10-28T00:32:07.190152Z",
     "shell.execute_reply": "2021-10-28T00:32:07.189722Z"
    },
    "papermill": {
     "duration": 0.043243,
     "end_time": "2021-10-28T00:32:07.190260",
     "exception": false,
     "start_time": "2021-10-28T00:32:07.147017",
     "status": "completed"
    },
    "tags": []
   },
   "outputs": [],
   "source": [
    "import mnist"
   ]
  },
  {
   "cell_type": "code",
   "execution_count": 5,
   "id": "a411e44f",
   "metadata": {
    "execution": {
     "iopub.execute_input": "2021-10-28T00:32:07.243775Z",
     "iopub.status.busy": "2021-10-28T00:32:07.243270Z",
     "iopub.status.idle": "2021-10-28T00:32:19.181641Z",
     "shell.execute_reply": "2021-10-28T00:32:19.181159Z"
    },
    "papermill": {
     "duration": 11.966343,
     "end_time": "2021-10-28T00:32:19.181772",
     "exception": false,
     "start_time": "2021-10-28T00:32:07.215429",
     "status": "completed"
    },
    "tags": []
   },
   "outputs": [],
   "source": [
    "train_images = mnist.train_images()\n",
    "train_labels = mnist.train_labels()"
   ]
  },
  {
   "cell_type": "code",
   "execution_count": 6,
   "id": "dceab3a5",
   "metadata": {
    "execution": {
     "iopub.execute_input": "2021-10-28T00:32:19.237413Z",
     "iopub.status.busy": "2021-10-28T00:32:19.236881Z",
     "iopub.status.idle": "2021-10-28T00:32:19.251211Z",
     "shell.execute_reply": "2021-10-28T00:32:19.251626Z"
    },
    "papermill": {
     "duration": 0.044156,
     "end_time": "2021-10-28T00:32:19.251760",
     "exception": false,
     "start_time": "2021-10-28T00:32:19.207604",
     "status": "completed"
    },
    "tags": []
   },
   "outputs": [
    {
     "data": {
      "text/plain": [
       "((60000, 28, 28), (60000,))"
      ]
     },
     "execution_count": 6,
     "metadata": {},
     "output_type": "execute_result"
    }
   ],
   "source": [
    "train_images.shape, train_labels.shape"
   ]
  },
  {
   "cell_type": "code",
   "execution_count": 7,
   "id": "f50dc2bb",
   "metadata": {
    "execution": {
     "iopub.execute_input": "2021-10-28T00:32:19.307119Z",
     "iopub.status.busy": "2021-10-28T00:32:19.306593Z",
     "iopub.status.idle": "2021-10-28T00:32:20.890273Z",
     "shell.execute_reply": "2021-10-28T00:32:20.889370Z"
    },
    "papermill": {
     "duration": 1.612936,
     "end_time": "2021-10-28T00:32:20.890403",
     "exception": false,
     "start_time": "2021-10-28T00:32:19.277467",
     "status": "completed"
    },
    "tags": []
   },
   "outputs": [],
   "source": [
    "test_images = mnist.test_images()\n",
    "test_labels = mnist.test_labels()"
   ]
  },
  {
   "cell_type": "code",
   "execution_count": 8,
   "id": "fc38cf1b",
   "metadata": {
    "execution": {
     "iopub.execute_input": "2021-10-28T00:32:20.945950Z",
     "iopub.status.busy": "2021-10-28T00:32:20.945437Z",
     "iopub.status.idle": "2021-10-28T00:32:20.958735Z",
     "shell.execute_reply": "2021-10-28T00:32:20.959217Z"
    },
    "papermill": {
     "duration": 0.042901,
     "end_time": "2021-10-28T00:32:20.959352",
     "exception": false,
     "start_time": "2021-10-28T00:32:20.916451",
     "status": "completed"
    },
    "tags": []
   },
   "outputs": [
    {
     "data": {
      "text/plain": [
       "((10000, 28, 28), (10000,))"
      ]
     },
     "execution_count": 8,
     "metadata": {},
     "output_type": "execute_result"
    }
   ],
   "source": [
    "test_images.shape, test_labels.shape"
   ]
  },
  {
   "cell_type": "code",
   "execution_count": 9,
   "id": "f9ed8fe0",
   "metadata": {
    "execution": {
     "iopub.execute_input": "2021-10-28T00:32:21.015375Z",
     "iopub.status.busy": "2021-10-28T00:32:21.014862Z",
     "iopub.status.idle": "2021-10-28T00:32:21.153608Z",
     "shell.execute_reply": "2021-10-28T00:32:21.153152Z"
    },
    "papermill": {
     "duration": 0.168327,
     "end_time": "2021-10-28T00:32:21.153723",
     "exception": false,
     "start_time": "2021-10-28T00:32:20.985396",
     "status": "completed"
    },
    "tags": []
   },
   "outputs": [
    {
     "name": "stdout",
     "output_type": "stream",
     "text": [
      "2\n"
     ]
    },
    {
     "data": {
      "text/plain": [
       "<matplotlib.image.AxesImage at 0x7f5be966d198>"
      ]
     },
     "execution_count": 9,
     "metadata": {},
     "output_type": "execute_result"
    },
    {
     "data": {
      "image/png": "[encoded data removed]",
      "text/plain": [
       "<Figure size 432x288 with 1 Axes>"
      ]
     },
     "metadata": {
      "needs_background": "light"
     },
     "output_type": "display_data"
    }
   ],
   "source": [
    "image_index = 7776 # You may select anything up to 60,000\n",
    "print(train_labels[image_index]) \n",
    "plt.imshow(train_images[image_index], cmap='Greys')"
   ]
  },
  {
   "cell_type": "markdown",
   "id": "a8d2388d",
   "metadata": {
    "papermill": {
     "duration": 0.026806,
     "end_time": "2021-10-28T00:32:21.207583",
     "exception": false,
     "start_time": "2021-10-28T00:32:21.180777",
     "status": "completed"
    },
    "tags": []
   },
   "source": [
    "## Filter data to get 3 and 8 out"
   ]
  },
  {
   "cell_type": "code",
   "execution_count": 10,
   "id": "776f7fc7",
   "metadata": {
    "execution": {
     "iopub.execute_input": "2021-10-28T00:32:21.269675Z",
     "iopub.status.busy": "2021-10-28T00:32:21.265054Z",
     "iopub.status.idle": "2021-10-28T00:32:21.282425Z",
     "shell.execute_reply": "2021-10-28T00:32:21.282831Z"
    },
    "papermill": {
     "duration": 0.048528,
     "end_time": "2021-10-28T00:32:21.282973",
     "exception": false,
     "start_time": "2021-10-28T00:32:21.234445",
     "status": "completed"
    },
    "tags": []
   },
   "outputs": [],
   "source": [
    "train_filter = np.where((train_labels == 3 ) | (train_labels == 8))\n",
    "test_filter = np.where((test_labels == 3) | (test_labels == 8))\n",
    "X_train, y_train = train_images[train_filter], train_labels[train_filter]\n",
    "X_test, y_test = test_images[test_filter], test_labels[test_filter]"
   ]
  },
  {
   "cell_type": "markdown",
   "id": "948f0b7e",
   "metadata": {
    "papermill": {
     "duration": 0.026785,
     "end_time": "2021-10-28T00:32:21.336623",
     "exception": false,
     "start_time": "2021-10-28T00:32:21.309838",
     "status": "completed"
    },
    "tags": []
   },
   "source": [
    "We normalize the pizel values in the 0 to 1 range"
   ]
  },
  {
   "cell_type": "code",
   "execution_count": 11,
   "id": "ee4c2166",
   "metadata": {
    "execution": {
     "iopub.execute_input": "2021-10-28T00:32:21.393847Z",
     "iopub.status.busy": "2021-10-28T00:32:21.393337Z",
     "iopub.status.idle": "2021-10-28T00:32:21.441242Z",
     "shell.execute_reply": "2021-10-28T00:32:21.440791Z"
    },
    "papermill": {
     "duration": 0.077775,
     "end_time": "2021-10-28T00:32:21.441363",
     "exception": false,
     "start_time": "2021-10-28T00:32:21.363588",
     "status": "completed"
    },
    "tags": []
   },
   "outputs": [],
   "source": [
    "X_train = X_train/255.\n",
    "X_test = X_test/255."
   ]
  },
  {
   "cell_type": "markdown",
   "id": "ddcf4fab",
   "metadata": {
    "papermill": {
     "duration": 0.026829,
     "end_time": "2021-10-28T00:32:21.495371",
     "exception": false,
     "start_time": "2021-10-28T00:32:21.468542",
     "status": "completed"
    },
    "tags": []
   },
   "source": [
    "And setup the labels as 1 (when the digit is 3) and 0 (when the digit is 8)"
   ]
  },
  {
   "cell_type": "code",
   "execution_count": 12,
   "id": "7dc908f2",
   "metadata": {
    "execution": {
     "iopub.execute_input": "2021-10-28T00:32:21.552835Z",
     "iopub.status.busy": "2021-10-28T00:32:21.552298Z",
     "iopub.status.idle": "2021-10-28T00:32:21.564325Z",
     "shell.execute_reply": "2021-10-28T00:32:21.563911Z"
    },
    "papermill": {
     "duration": 0.042153,
     "end_time": "2021-10-28T00:32:21.564439",
     "exception": false,
     "start_time": "2021-10-28T00:32:21.522286",
     "status": "completed"
    },
    "tags": []
   },
   "outputs": [],
   "source": [
    "y_train = 1*(y_train==3)\n",
    "y_test = 1*(y_test==3)"
   ]
  },
  {
   "cell_type": "code",
   "execution_count": 13,
   "id": "01e4e969",
   "metadata": {
    "execution": {
     "iopub.execute_input": "2021-10-28T00:32:21.625532Z",
     "iopub.status.busy": "2021-10-28T00:32:21.624997Z",
     "iopub.status.idle": "2021-10-28T00:32:21.636164Z",
     "shell.execute_reply": "2021-10-28T00:32:21.635730Z"
    },
    "papermill": {
     "duration": 0.044491,
     "end_time": "2021-10-28T00:32:21.636284",
     "exception": false,
     "start_time": "2021-10-28T00:32:21.591793",
     "status": "completed"
    },
    "tags": []
   },
   "outputs": [
    {
     "data": {
      "text/plain": [
       "((11982, 28, 28), (1984, 28, 28))"
      ]
     },
     "execution_count": 13,
     "metadata": {},
     "output_type": "execute_result"
    }
   ],
   "source": [
    "X_train.shape, X_test.shape"
   ]
  },
  {
   "cell_type": "markdown",
   "id": "5ccf3f85",
   "metadata": {
    "papermill": {
     "duration": 0.026854,
     "end_time": "2021-10-28T00:32:21.690191",
     "exception": false,
     "start_time": "2021-10-28T00:32:21.663337",
     "status": "completed"
    },
    "tags": []
   },
   "source": [
    "We reshape the data to flatten the image pixels into a set of features or co-variates:"
   ]
  },
  {
   "cell_type": "code",
   "execution_count": 14,
   "id": "5286a4a3",
   "metadata": {
    "execution": {
     "iopub.execute_input": "2021-10-28T00:32:21.748611Z",
     "iopub.status.busy": "2021-10-28T00:32:21.748073Z",
     "iopub.status.idle": "2021-10-28T00:32:21.762585Z",
     "shell.execute_reply": "2021-10-28T00:32:21.763015Z"
    },
    "papermill": {
     "duration": 0.045663,
     "end_time": "2021-10-28T00:32:21.763154",
     "exception": false,
     "start_time": "2021-10-28T00:32:21.717491",
     "status": "completed"
    },
    "tags": []
   },
   "outputs": [
    {
     "data": {
      "text/plain": [
       "((11982, 784), (1984, 784))"
      ]
     },
     "execution_count": 14,
     "metadata": {},
     "output_type": "execute_result"
    }
   ],
   "source": [
    "X_train = X_train.reshape(X_train.shape[0], -1)\n",
    "X_test = X_test.reshape(X_test.shape[0], -1)\n",
    "X_train.shape, X_test.shape"
   ]
  },
  {
   "cell_type": "code",
   "execution_count": 15,
   "id": "73c5f88a",
   "metadata": {
    "execution": {
     "iopub.execute_input": "2021-10-28T00:32:21.826147Z",
     "iopub.status.busy": "2021-10-28T00:32:21.825607Z",
     "iopub.status.idle": "2021-10-28T00:32:21.842384Z",
     "shell.execute_reply": "2021-10-28T00:32:21.841932Z"
    },
    "papermill": {
     "duration": 0.051942,
     "end_time": "2021-10-28T00:32:21.842508",
     "exception": false,
     "start_time": "2021-10-28T00:32:21.790566",
     "status": "completed"
    },
    "tags": []
   },
   "outputs": [],
   "source": [
    "#Impoting functions from 'Kudzu'\n",
    "from kudzu.model import Model\n",
    "from kudzu.train import Learner\n",
    "from kudzu.optim import GD\n",
    "from kudzu.data import Data, Sampler,Dataloader\n",
    "\n",
    "from kudzu.callbacks import AccCallback\n",
    "from kudzu.callbacks import ClfCallback\n",
    "\n",
    "from kudzu.loss import MSE\n",
    "\n",
    "from kudzu.layer import Sigmoid,Relu\n",
    "from kudzu.layer import Affine"
   ]
  },
  {
   "cell_type": "markdown",
   "id": "bc01172a",
   "metadata": {
    "papermill": {
     "duration": 0.027307,
     "end_time": "2021-10-28T00:32:21.897825",
     "exception": false,
     "start_time": "2021-10-28T00:32:21.870518",
     "status": "completed"
    },
    "tags": []
   },
   "source": [
    "### Let us create a `Config` class, to store important parameters. \n",
    "This class essentially plays the role of a dictionary."
   ]
  },
  {
   "cell_type": "code",
   "execution_count": 16,
   "id": "978281aa",
   "metadata": {
    "execution": {
     "iopub.execute_input": "2021-10-28T00:32:21.962417Z",
     "iopub.status.busy": "2021-10-28T00:32:21.961864Z",
     "iopub.status.idle": "2021-10-28T00:32:21.970885Z",
     "shell.execute_reply": "2021-10-28T00:32:21.970460Z"
    },
    "papermill": {
     "duration": 0.045714,
     "end_time": "2021-10-28T00:32:21.971009",
     "exception": false,
     "start_time": "2021-10-28T00:32:21.925295",
     "status": "completed"
    },
    "tags": []
   },
   "outputs": [],
   "source": [
    "class Config:\n",
    "    pass\n",
    "config = Config()\n",
    "config.lr = 0.001\n",
    "config.num_epochs = 250\n",
    "config.bs = 50"
   ]
  },
  {
   "cell_type": "markdown",
   "id": "1385fa59",
   "metadata": {
    "papermill": {
     "duration": 0.027363,
     "end_time": "2021-10-28T00:32:22.026400",
     "exception": false,
     "start_time": "2021-10-28T00:32:21.999037",
     "status": "completed"
    },
    "tags": []
   },
   "source": [
    "### Running Models with the Training data\n",
    "Details about the network layers:\n",
    "- A first affine layer has 784 inputs and does 100 affine transforms. These are followed by a Relu\n",
    "- A second affine layer has 100 inputs from the 100 activations of the past layer, and does 100 affine transforms. These are followed by a Relu\n",
    "- A third affine layer has 100 activations and does 2 affine transformations to create an embedding for visualization. There is no non-linearity here.\n",
    "- A final \"logistic regression\" which has an affine transform from 2 inputs to 1 output, which is squeezed through a sigmoid.\n"
   ]
  },
  {
   "cell_type": "code",
   "execution_count": 17,
   "id": "2b9c66db",
   "metadata": {
    "execution": {
     "iopub.execute_input": "2021-10-28T00:32:22.086052Z",
     "iopub.status.busy": "2021-10-28T00:32:22.085531Z",
     "iopub.status.idle": "2021-10-28T00:32:22.096613Z",
     "shell.execute_reply": "2021-10-28T00:32:22.097058Z"
    },
    "papermill": {
     "duration": 0.04329,
     "end_time": "2021-10-28T00:32:22.097196",
     "exception": false,
     "start_time": "2021-10-28T00:32:22.053906",
     "status": "completed"
    },
    "tags": []
   },
   "outputs": [],
   "source": [
    "data = Data(X_train, y_train.reshape(-1,1))\n",
    "sampler = Sampler(data, config.bs, shuffle=True)\n",
    "\n",
    "dl = Dataloader(data, sampler)\n",
    "\n",
    "opt = GD(config.lr)\n",
    "loss = MSE()"
   ]
  },
  {
   "cell_type": "code",
   "execution_count": 18,
   "id": "b275e4c2",
   "metadata": {
    "execution": {
     "iopub.execute_input": "2021-10-28T00:32:22.158587Z",
     "iopub.status.busy": "2021-10-28T00:32:22.158054Z",
     "iopub.status.idle": "2021-10-28T00:32:22.170828Z",
     "shell.execute_reply": "2021-10-28T00:32:22.170396Z"
    },
    "papermill": {
     "duration": 0.046053,
     "end_time": "2021-10-28T00:32:22.170950",
     "exception": false,
     "start_time": "2021-10-28T00:32:22.124897",
     "status": "completed"
    },
    "tags": []
   },
   "outputs": [],
   "source": [
    "training_data_x = X_train\n",
    "testing_data_x = X_test\n",
    "training_data_y = y_train.reshape(-1,1)\n",
    "testing_data_y = y_test.reshape(-1,1)"
   ]
  },
  {
   "cell_type": "code",
   "execution_count": 19,
   "id": "76951160",
   "metadata": {
    "execution": {
     "iopub.execute_input": "2021-10-28T00:32:22.241581Z",
     "iopub.status.busy": "2021-10-28T00:32:22.237438Z",
     "iopub.status.idle": "2021-10-28T00:32:22.249696Z",
     "shell.execute_reply": "2021-10-28T00:32:22.250134Z"
    },
    "papermill": {
     "duration": 0.051731,
     "end_time": "2021-10-28T00:32:22.250270",
     "exception": false,
     "start_time": "2021-10-28T00:32:22.198539",
     "status": "completed"
    },
    "tags": []
   },
   "outputs": [
    {
     "name": "stdout",
     "output_type": "stream",
     "text": [
      "xavier\n",
      "xavier\n",
      "xavier\n",
      "xavier\n",
      "xavier\n"
     ]
    }
   ],
   "source": [
    "layers = [Affine(\"first\", 784, 100), Relu(\"first\"), Affine(\"second\", 100, 100), Relu(\"second\"), Affine(\"third\", 100, 2), Affine(\"last\", 2, 1), Sigmoid(\"last\")]\n",
    "model_nn = Model(layers)\n",
    "model_lr = Model([Affine(\"logits\", 784, 1), Sigmoid(\"sigmoid\")])"
   ]
  },
  {
   "cell_type": "code",
   "execution_count": 20,
   "id": "6eede77a",
   "metadata": {
    "execution": {
     "iopub.execute_input": "2021-10-28T00:32:22.309671Z",
     "iopub.status.busy": "2021-10-28T00:32:22.309153Z",
     "iopub.status.idle": "2021-10-28T00:32:22.327368Z",
     "shell.execute_reply": "2021-10-28T00:32:22.326924Z"
    },
    "papermill": {
     "duration": 0.049435,
     "end_time": "2021-10-28T00:32:22.327493",
     "exception": false,
     "start_time": "2021-10-28T00:32:22.278058",
     "status": "completed"
    },
    "tags": []
   },
   "outputs": [],
   "source": [
    "nn_learner = Learner(loss, model_nn, opt, config.num_epochs)\n",
    "acc_nn = ClfCallback(nn_learner, config.bs, training_data_x , testing_data_x, training_data_y, testing_data_y)\n",
    "nn_learner.set_callbacks([acc_nn])"
   ]
  },
  {
   "cell_type": "code",
   "execution_count": 21,
   "id": "877b6cc7",
   "metadata": {
    "execution": {
     "iopub.execute_input": "2021-10-28T00:32:22.386830Z",
     "iopub.status.busy": "2021-10-28T00:32:22.386317Z",
     "iopub.status.idle": "2021-10-28T00:32:22.397566Z",
     "shell.execute_reply": "2021-10-28T00:32:22.397988Z"
    },
    "papermill": {
     "duration": 0.042963,
     "end_time": "2021-10-28T00:32:22.398124",
     "exception": false,
     "start_time": "2021-10-28T00:32:22.355161",
     "status": "completed"
    },
    "tags": []
   },
   "outputs": [],
   "source": [
    "lr_learner = Learner(loss, model_lr, opt, config.num_epochs)\n",
    "acc_lr = ClfCallback(lr_learner, config.bs, training_data_x , testing_data_x, training_data_y, testing_data_y)\n",
    "lr_learner.set_callbacks([acc_lr])"
   ]
  },
  {
   "cell_type": "code",
   "execution_count": 22,
   "id": "d9b133c3",
   "metadata": {
    "execution": {
     "iopub.execute_input": "2021-10-28T00:32:22.457564Z",
     "iopub.status.busy": "2021-10-28T00:32:22.457040Z",
     "iopub.status.idle": "2021-10-28T00:33:37.744484Z",
     "shell.execute_reply": "2021-10-28T00:33:37.745209Z"
    },
    "papermill": {
     "duration": 75.319375,
     "end_time": "2021-10-28T00:33:37.745355",
     "exception": false,
     "start_time": "2021-10-28T00:32:22.425980",
     "status": "completed"
    },
    "tags": []
   },
   "outputs": [
    {
     "name": "stdout",
     "output_type": "stream",
     "text": [
      "Epoch 0, Loss 0.2422\n",
      "Training Accuracy: 0.6982, Testing Accuracy: 0.7112\n",
      "\n"
     ]
    },
    {
     "name": "stdout",
     "output_type": "stream",
     "text": [
      "Epoch 10, Loss 0.0792\n",
      "Training Accuracy: 0.9200, Testing Accuracy: 0.9309\n",
      "\n"
     ]
    },
    {
     "name": "stdout",
     "output_type": "stream",
     "text": [
      "Epoch 20, Loss 0.0514\n",
      "Training Accuracy: 0.9440, Testing Accuracy: 0.9556\n",
      "\n"
     ]
    },
    {
     "name": "stdout",
     "output_type": "stream",
     "text": [
      "Epoch 30, Loss 0.0415\n",
      "Training Accuracy: 0.9530, Testing Accuracy: 0.9627\n",
      "\n"
     ]
    },
    {
     "name": "stdout",
     "output_type": "stream",
     "text": [
      "Epoch 40, Loss 0.0363\n",
      "Training Accuracy: 0.9582, Testing Accuracy: 0.9672\n",
      "\n"
     ]
    },
    {
     "name": "stdout",
     "output_type": "stream",
     "text": [
      "Epoch 50, Loss 0.0329\n",
      "Training Accuracy: 0.9620, Testing Accuracy: 0.9677\n",
      "\n"
     ]
    },
    {
     "name": "stdout",
     "output_type": "stream",
     "text": [
      "Epoch 60, Loss 0.0305\n",
      "Training Accuracy: 0.9639, Testing Accuracy: 0.9682\n",
      "\n"
     ]
    },
    {
     "name": "stdout",
     "output_type": "stream",
     "text": [
      "Epoch 70, Loss 0.0287\n",
      "Training Accuracy: 0.9658, Testing Accuracy: 0.9698\n",
      "\n"
     ]
    },
    {
     "name": "stdout",
     "output_type": "stream",
     "text": [
      "Epoch 80, Loss 0.0272\n",
      "Training Accuracy: 0.9675, Testing Accuracy: 0.9693\n",
      "\n"
     ]
    },
    {
     "name": "stdout",
     "output_type": "stream",
     "text": [
      "Epoch 90, Loss 0.0259\n",
      "Training Accuracy: 0.9694, Testing Accuracy: 0.9708\n",
      "\n"
     ]
    },
    {
     "name": "stdout",
     "output_type": "stream",
     "text": [
      "Epoch 100, Loss 0.0248\n",
      "Training Accuracy: 0.9711, Testing Accuracy: 0.9708\n",
      "\n"
     ]
    },
    {
     "name": "stdout",
     "output_type": "stream",
     "text": [
      "Epoch 110, Loss 0.0238\n",
      "Training Accuracy: 0.9725, Testing Accuracy: 0.9708\n",
      "\n"
     ]
    },
    {
     "name": "stdout",
     "output_type": "stream",
     "text": [
      "Epoch 120, Loss 0.0229\n",
      "Training Accuracy: 0.9743, Testing Accuracy: 0.9723\n",
      "\n"
     ]
    },
    {
     "name": "stdout",
     "output_type": "stream",
     "text": [
      "Epoch 130, Loss 0.0221\n",
      "Training Accuracy: 0.9756, Testing Accuracy: 0.9723\n",
      "\n"
     ]
    },
    {
     "name": "stdout",
     "output_type": "stream",
     "text": [
      "Epoch 140, Loss 0.0214\n",
      "Training Accuracy: 0.9762, Testing Accuracy: 0.9728\n",
      "\n"
     ]
    },
    {
     "name": "stdout",
     "output_type": "stream",
     "text": [
      "Epoch 150, Loss 0.0207\n",
      "Training Accuracy: 0.9770, Testing Accuracy: 0.9728\n",
      "\n"
     ]
    },
    {
     "name": "stdout",
     "output_type": "stream",
     "text": [
      "Epoch 160, Loss 0.02\n",
      "Training Accuracy: 0.9775, Testing Accuracy: 0.9743\n",
      "\n"
     ]
    },
    {
     "name": "stdout",
     "output_type": "stream",
     "text": [
      "Epoch 170, Loss 0.0194\n",
      "Training Accuracy: 0.9785, Testing Accuracy: 0.9753\n",
      "\n"
     ]
    },
    {
     "name": "stdout",
     "output_type": "stream",
     "text": [
      "Epoch 180, Loss 0.0189\n",
      "Training Accuracy: 0.9795, Testing Accuracy: 0.9758\n",
      "\n"
     ]
    },
    {
     "name": "stdout",
     "output_type": "stream",
     "text": [
      "Epoch 190, Loss 0.0184\n",
      "Training Accuracy: 0.9801, Testing Accuracy: 0.9758\n",
      "\n"
     ]
    },
    {
     "name": "stdout",
     "output_type": "stream",
     "text": [
      "Epoch 200, Loss 0.0179\n",
      "Training Accuracy: 0.9807, Testing Accuracy: 0.9758\n",
      "\n"
     ]
    },
    {
     "name": "stdout",
     "output_type": "stream",
     "text": [
      "Epoch 210, Loss 0.0174\n",
      "Training Accuracy: 0.9810, Testing Accuracy: 0.9758\n",
      "\n"
     ]
    },
    {
     "name": "stdout",
     "output_type": "stream",
     "text": [
      "Epoch 220, Loss 0.017\n",
      "Training Accuracy: 0.9816, Testing Accuracy: 0.9758\n",
      "\n"
     ]
    },
    {
     "name": "stdout",
     "output_type": "stream",
     "text": [
      "Epoch 230, Loss 0.0166\n",
      "Training Accuracy: 0.9822, Testing Accuracy: 0.9758\n",
      "\n"
     ]
    },
    {
     "name": "stdout",
     "output_type": "stream",
     "text": [
      "Epoch 240, Loss 0.0162\n",
      "Training Accuracy: 0.9828, Testing Accuracy: 0.9763\n",
      "\n"
     ]
    },
    {
     "data": {
      "text/plain": [
       "0.00507121045988668"
      ]
     },
     "execution_count": 22,
     "metadata": {},
     "output_type": "execute_result"
    }
   ],
   "source": [
    "nn_learner.train_loop(dl)"
   ]
  },
  {
   "cell_type": "code",
   "execution_count": 23,
   "id": "e0163366",
   "metadata": {
    "execution": {
     "iopub.execute_input": "2021-10-28T00:33:37.827957Z",
     "iopub.status.busy": "2021-10-28T00:33:37.827424Z",
     "iopub.status.idle": "2021-10-28T00:33:50.870711Z",
     "shell.execute_reply": "2021-10-28T00:33:50.871367Z"
    },
    "papermill": {
     "duration": 13.090962,
     "end_time": "2021-10-28T00:33:50.871507",
     "exception": false,
     "start_time": "2021-10-28T00:33:37.780545",
     "status": "completed"
    },
    "tags": []
   },
   "outputs": [
    {
     "name": "stdout",
     "output_type": "stream",
     "text": [
      "Epoch 0, Loss 0.2545\n",
      "Training Accuracy: 0.5947, Testing Accuracy: 0.5872\n",
      "\n"
     ]
    },
    {
     "name": "stdout",
     "output_type": "stream",
     "text": [
      "Epoch 10, Loss 0.1083\n",
      "Training Accuracy: 0.8989, Testing Accuracy: 0.9143\n",
      "\n"
     ]
    },
    {
     "name": "stdout",
     "output_type": "stream",
     "text": [
      "Epoch 20, Loss 0.0808\n",
      "Training Accuracy: 0.9260, Testing Accuracy: 0.9380\n",
      "\n"
     ]
    },
    {
     "name": "stdout",
     "output_type": "stream",
     "text": [
      "Epoch 30, Loss 0.0688\n",
      "Training Accuracy: 0.9361, Testing Accuracy: 0.9471\n",
      "\n"
     ]
    },
    {
     "name": "stdout",
     "output_type": "stream",
     "text": [
      "Epoch 40, Loss 0.0618\n",
      "Training Accuracy: 0.9412, Testing Accuracy: 0.9551\n",
      "\n"
     ]
    },
    {
     "name": "stdout",
     "output_type": "stream",
     "text": [
      "Epoch 50, Loss 0.0572\n",
      "Training Accuracy: 0.9441, Testing Accuracy: 0.9582\n",
      "\n"
     ]
    },
    {
     "name": "stdout",
     "output_type": "stream",
     "text": [
      "Epoch 60, Loss 0.0538\n",
      "Training Accuracy: 0.9467, Testing Accuracy: 0.9597\n",
      "\n"
     ]
    },
    {
     "name": "stdout",
     "output_type": "stream",
     "text": [
      "Epoch 70, Loss 0.0512\n",
      "Training Accuracy: 0.9488, Testing Accuracy: 0.9602\n",
      "\n"
     ]
    },
    {
     "name": "stdout",
     "output_type": "stream",
     "text": [
      "Epoch 80, Loss 0.0491\n",
      "Training Accuracy: 0.9507, Testing Accuracy: 0.9607\n",
      "\n"
     ]
    },
    {
     "name": "stdout",
     "output_type": "stream",
     "text": [
      "Epoch 90, Loss 0.0474\n",
      "Training Accuracy: 0.9516, Testing Accuracy: 0.9617\n",
      "\n"
     ]
    },
    {
     "name": "stdout",
     "output_type": "stream",
     "text": [
      "Epoch 100, Loss 0.046\n",
      "Training Accuracy: 0.9533, Testing Accuracy: 0.9622\n",
      "\n"
     ]
    },
    {
     "name": "stdout",
     "output_type": "stream",
     "text": [
      "Epoch 110, Loss 0.0447\n",
      "Training Accuracy: 0.9543, Testing Accuracy: 0.9627\n",
      "\n"
     ]
    },
    {
     "name": "stdout",
     "output_type": "stream",
     "text": [
      "Epoch 120, Loss 0.0437\n",
      "Training Accuracy: 0.9548, Testing Accuracy: 0.9627\n",
      "\n"
     ]
    },
    {
     "name": "stdout",
     "output_type": "stream",
     "text": [
      "Epoch 130, Loss 0.0427\n",
      "Training Accuracy: 0.9551, Testing Accuracy: 0.9637\n",
      "\n"
     ]
    },
    {
     "name": "stdout",
     "output_type": "stream",
     "text": [
      "Epoch 140, Loss 0.0419\n",
      "Training Accuracy: 0.9561, Testing Accuracy: 0.9637\n",
      "\n"
     ]
    },
    {
     "name": "stdout",
     "output_type": "stream",
     "text": [
      "Epoch 150, Loss 0.0412\n",
      "Training Accuracy: 0.9564, Testing Accuracy: 0.9637\n",
      "\n"
     ]
    },
    {
     "name": "stdout",
     "output_type": "stream",
     "text": [
      "Epoch 160, Loss 0.0405\n",
      "Training Accuracy: 0.9573, Testing Accuracy: 0.9642\n",
      "\n"
     ]
    },
    {
     "name": "stdout",
     "output_type": "stream",
     "text": [
      "Epoch 170, Loss 0.0399\n",
      "Training Accuracy: 0.9576, Testing Accuracy: 0.9647\n",
      "\n"
     ]
    },
    {
     "name": "stdout",
     "output_type": "stream",
     "text": [
      "Epoch 180, Loss 0.0393\n",
      "Training Accuracy: 0.9581, Testing Accuracy: 0.9647\n",
      "\n"
     ]
    },
    {
     "name": "stdout",
     "output_type": "stream",
     "text": [
      "Epoch 190, Loss 0.0388\n",
      "Training Accuracy: 0.9585, Testing Accuracy: 0.9652\n",
      "\n"
     ]
    },
    {
     "name": "stdout",
     "output_type": "stream",
     "text": [
      "Epoch 200, Loss 0.0383\n",
      "Training Accuracy: 0.9591, Testing Accuracy: 0.9657\n",
      "\n"
     ]
    },
    {
     "name": "stdout",
     "output_type": "stream",
     "text": [
      "Epoch 210, Loss 0.0379\n",
      "Training Accuracy: 0.9596, Testing Accuracy: 0.9662\n",
      "\n"
     ]
    },
    {
     "name": "stdout",
     "output_type": "stream",
     "text": [
      "Epoch 220, Loss 0.0375\n",
      "Training Accuracy: 0.9597, Testing Accuracy: 0.9662\n",
      "\n"
     ]
    },
    {
     "name": "stdout",
     "output_type": "stream",
     "text": [
      "Epoch 230, Loss 0.0371\n",
      "Training Accuracy: 0.9599, Testing Accuracy: 0.9672\n",
      "\n"
     ]
    },
    {
     "name": "stdout",
     "output_type": "stream",
     "text": [
      "Epoch 240, Loss 0.0367\n",
      "Training Accuracy: 0.9607, Testing Accuracy: 0.9667\n",
      "\n"
     ]
    },
    {
     "data": {
      "text/plain": [
       "0.033529129773877786"
      ]
     },
     "execution_count": 23,
     "metadata": {},
     "output_type": "execute_result"
    }
   ],
   "source": [
    "lr_learner.train_loop(dl)"
   ]
  },
  {
   "cell_type": "code",
   "execution_count": 24,
   "id": "ca410940",
   "metadata": {
    "execution": {
     "iopub.execute_input": "2021-10-28T00:33:50.968905Z",
     "iopub.status.busy": "2021-10-28T00:33:50.968357Z",
     "iopub.status.idle": "2021-10-28T00:33:51.197200Z",
     "shell.execute_reply": "2021-10-28T00:33:51.197662Z"
    },
    "papermill": {
     "duration": 0.284535,
     "end_time": "2021-10-28T00:33:51.197807",
     "exception": false,
     "start_time": "2021-10-28T00:33:50.913272",
     "status": "completed"
    },
    "tags": []
   },
   "outputs": [
    {
     "data": {
      "text/plain": [
       "<matplotlib.legend.Legend at 0x7f5be9255828>"
      ]
     },
     "execution_count": 24,
     "metadata": {},
     "output_type": "execute_result"
    },
    {
     "data": {
      "image/png": "[encoded data removed]",
      "text/plain": [
       "<Figure size 1080x720 with 1 Axes>"
      ]
     },
     "metadata": {
      "needs_background": "light"
     },
     "output_type": "display_data"
    }
   ],
   "source": [
    "#comparing the results of NN and LR\n",
    "plt.figure(figsize=(15,10))\n",
    "\n",
    "# Neural Network plots\n",
    "plt.plot(acc_nn.accuracies, 'r-', label = \"Training Accuracies - NN\")\n",
    "plt.plot(acc_nn.test_accuracies, 'g-', label = \"Testing Accuracies - NN\")\n",
    "\n",
    "# Logistic Regression plots\n",
    "plt.plot(acc_lr.accuracies, 'k-', label = \"Training Accuracies - LR\")\n",
    "plt.plot(acc_lr.test_accuracies, 'b-', label = \"Testing Accuracies - LR\")\n",
    "plt.legend()"
   ]
  },
  {
   "cell_type": "markdown",
   "id": "80dfb35c",
   "metadata": {
    "papermill": {
     "duration": 0.041897,
     "end_time": "2021-10-28T00:33:51.282860",
     "exception": false,
     "start_time": "2021-10-28T00:33:51.240963",
     "status": "completed"
    },
    "tags": []
   },
   "source": [
    "#### Plotting the outputs of this layer of the NN.\n"
   ]
  },
  {
   "cell_type": "code",
   "execution_count": 25,
   "id": "45eb2ff5",
   "metadata": {
    "execution": {
     "iopub.execute_input": "2021-10-28T00:33:51.371523Z",
     "iopub.status.busy": "2021-10-28T00:33:51.370692Z",
     "iopub.status.idle": "2021-10-28T00:33:51.390389Z",
     "shell.execute_reply": "2021-10-28T00:33:51.389980Z"
    },
    "papermill": {
     "duration": 0.065652,
     "end_time": "2021-10-28T00:33:51.390499",
     "exception": false,
     "start_time": "2021-10-28T00:33:51.324847",
     "status": "completed"
    },
    "tags": []
   },
   "outputs": [],
   "source": [
    "new_model = Model(layers[:-2])\n",
    "testing_plot = new_model(testing_data_x)"
   ]
  },
  {
   "cell_type": "code",
   "execution_count": 26,
   "id": "4c0a5485",
   "metadata": {
    "execution": {
     "iopub.execute_input": "2021-10-28T00:33:51.491231Z",
     "iopub.status.busy": "2021-10-28T00:33:51.490733Z",
     "iopub.status.idle": "2021-10-28T00:33:51.677669Z",
     "shell.execute_reply": "2021-10-28T00:33:51.678073Z"
    },
    "papermill": {
     "duration": 0.236789,
     "end_time": "2021-10-28T00:33:51.678202",
     "exception": false,
     "start_time": "2021-10-28T00:33:51.441413",
     "status": "completed"
    },
    "tags": []
   },
   "outputs": [
    {
     "data": {
      "text/plain": [
       "Text(0.5, 1.0, 'Outputs')"
      ]
     },
     "execution_count": 26,
     "metadata": {},
     "output_type": "execute_result"
    },
    {
     "data": {
      "image/png": "[encoded data removed]",
      "text/plain": [
       "<Figure size 576x504 with 1 Axes>"
      ]
     },
     "metadata": {
      "needs_background": "light"
     },
     "output_type": "display_data"
    }
   ],
   "source": [
    "# Plotting the scatter plot of points and color coding by class\n",
    "plt.figure(figsize=(8,7))\n",
    "plt.scatter(testing_plot[:,0], testing_plot[:,1], alpha = 0.1, c = y_test.ravel());\n",
    "plt.title('Outputs')"
   ]
  },
  {
   "cell_type": "markdown",
   "id": "a74fcf8f",
   "metadata": {
    "papermill": {
     "duration": 0.043962,
     "end_time": "2021-10-28T00:33:51.766459",
     "exception": false,
     "start_time": "2021-10-28T00:33:51.722497",
     "status": "completed"
    },
    "tags": []
   },
   "source": [
    "Probability contours"
   ]
  },
  {
   "cell_type": "code",
   "execution_count": 27,
   "id": "d0afc8e3",
   "metadata": {
    "execution": {
     "iopub.execute_input": "2021-10-28T00:33:51.858273Z",
     "iopub.status.busy": "2021-10-28T00:33:51.857765Z",
     "iopub.status.idle": "2021-10-28T00:33:51.869330Z",
     "shell.execute_reply": "2021-10-28T00:33:51.868923Z"
    },
    "papermill": {
     "duration": 0.058882,
     "end_time": "2021-10-28T00:33:51.869436",
     "exception": false,
     "start_time": "2021-10-28T00:33:51.810554",
     "status": "completed"
    },
    "tags": []
   },
   "outputs": [],
   "source": [
    "model_prob = Model(layers[-2:]) "
   ]
  },
  {
   "cell_type": "code",
   "execution_count": 28,
   "id": "9b96e238",
   "metadata": {
    "execution": {
     "iopub.execute_input": "2021-10-28T00:33:51.961945Z",
     "iopub.status.busy": "2021-10-28T00:33:51.961444Z",
     "iopub.status.idle": "2021-10-28T00:33:51.975436Z",
     "shell.execute_reply": "2021-10-28T00:33:51.975800Z"
    },
    "papermill": {
     "duration": 0.062355,
     "end_time": "2021-10-28T00:33:51.975921",
     "exception": false,
     "start_time": "2021-10-28T00:33:51.913566",
     "status": "completed"
    },
    "tags": []
   },
   "outputs": [],
   "source": [
    "#creating the x and y ranges according to the above generated plot.\n",
    "x_range = np.linspace(-4, 1, 100) \n",
    "y_range = np.linspace(-6, 6, 100) \n",
    "x_grid, y_grid = np.meshgrid(x_range, y_range) # x_grid and y_grig are of size 100 X 100\n",
    "\n",
    "# converting x_grid and y_grid to continuous arrays\n",
    "x_gridflat = np.ravel(x_grid)\n",
    "y_gridflat = np.ravel(y_grid)\n",
    "\n",
    "# The last layer of the current model takes two columns as input. Hence transpose of np.vstack() is required.\n",
    "X = np.vstack((x_gridflat, y_gridflat)).T\n",
    "\n",
    "prob_contour = model_prob(X).reshape(100,100) "
   ]
  },
  {
   "cell_type": "code",
   "execution_count": 29,
   "id": "da72499a",
   "metadata": {
    "execution": {
     "iopub.execute_input": "2021-10-28T00:33:52.105837Z",
     "iopub.status.busy": "2021-10-28T00:33:52.105325Z",
     "iopub.status.idle": "2021-10-28T00:33:52.344081Z",
     "shell.execute_reply": "2021-10-28T00:33:52.343663Z"
    },
    "papermill": {
     "duration": 0.286856,
     "end_time": "2021-10-28T00:33:52.344197",
     "exception": false,
     "start_time": "2021-10-28T00:33:52.057341",
     "status": "completed"
    },
    "tags": []
   },
   "outputs": [
    {
     "data": {
      "image/png": "[encoded data removed]",
      "text/plain": [
       "<Figure size 720x648 with 1 Axes>"
      ]
     },
     "metadata": {
      "needs_background": "light"
     },
     "output_type": "display_data"
    }
   ],
   "source": [
    "plt.figure(figsize=(10,9))\n",
    "plt.scatter(testing_plot[:,0], testing_plot[:,1], alpha = 0.1, c = y_test.ravel())\n",
    "contours = plt.contour(x_grid,y_grid,prob_contour)\n",
    "plt.title('Probability Contours')\n",
    "plt.clabel(contours, inline = True );"
   ]
  },
  {
   "cell_type": "code",
   "execution_count": null,
   "id": "e81b4ac7",
   "metadata": {
    "papermill": {
     "duration": 0.046475,
     "end_time": "2021-10-28T00:33:52.437528",
     "exception": false,
     "start_time": "2021-10-28T00:33:52.391053",
     "status": "completed"
    },
    "tags": []
   },
   "outputs": [],
   "source": []
  }
 ],
 "metadata": {
  "kernelspec": {
   "display_name": "Python 3",
   "language": "python",
   "name": "python3"
  },
  "language_info": {
   "codemirror_mode": {
    "name": "ipython",
    "version": 3
   },
   "file_extension": ".py",
   "mimetype": "text/x-python",
   "name": "python",
   "nbconvert_exporter": "python",
   "pygments_lexer": "ipython3",
   "version": "3.6.15"
  },
  "papermill": {
   "default_parameters": {},
   "duration": 109.586807,
   "end_time": "2021-10-28T00:33:52.891641",
   "environment_variables": {},
   "exception": null,
   "input_path": "2020-08-11-part2.ipynb",
   "output_path": "2020-08-11-part2.ipynb",
   "parameters": {},
   "start_time": "2021-10-28T00:32:03.304834",
   "version": "2.3.3"
  }
 },
 "nbformat": 4,
 "nbformat_minor": 5
}