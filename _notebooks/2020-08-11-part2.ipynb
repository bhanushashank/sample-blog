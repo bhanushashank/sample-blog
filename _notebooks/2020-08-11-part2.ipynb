{
 "cells": [
  {
   "cell_type": "markdown",
   "id": "98380cd3",
   "metadata": {
    "papermill": {
     "duration": 0.029167,
     "end_time": "2022-11-10T10:11:15.979880",
     "exception": false,
     "start_time": "2022-11-10T10:11:15.950713",
     "status": "completed"
    },
    "tags": []
   },
   "source": [
    "# Distinguish Your Own Digits (DYOD)"
   ]
  },
  {
   "cell_type": "markdown",
   "id": "ef31240d",
   "metadata": {
    "papermill": {
     "duration": 0.023346,
     "end_time": "2022-11-10T10:11:16.027429",
     "exception": false,
     "start_time": "2022-11-10T10:11:16.004083",
     "status": "completed"
    },
    "tags": []
   },
   "source": [
    "You are going to write a classifier that distinguishes between the number 3 and number 8."
   ]
  },
  {
   "cell_type": "code",
   "execution_count": 1,
   "id": "b15c8646",
   "metadata": {
    "execution": {
     "iopub.execute_input": "2022-11-10T10:11:16.084870Z",
     "iopub.status.busy": "2022-11-10T10:11:16.084266Z",
     "iopub.status.idle": "2022-11-10T10:11:16.095352Z",
     "shell.execute_reply": "2022-11-10T10:11:16.094851Z"
    },
    "papermill": {
     "duration": 0.044739,
     "end_time": "2022-11-10T10:11:16.095481",
     "exception": false,
     "start_time": "2022-11-10T10:11:16.050742",
     "status": "completed"
    },
    "tags": []
   },
   "outputs": [],
   "source": [
    "%load_ext autoreload\n",
    "%autoreload 2"
   ]
  },
  {
   "cell_type": "code",
   "execution_count": 2,
   "id": "22ef38dc",
   "metadata": {
    "execution": {
     "iopub.execute_input": "2022-11-10T10:11:16.150412Z",
     "iopub.status.busy": "2022-11-10T10:11:16.149822Z",
     "iopub.status.idle": "2022-11-10T10:11:16.703731Z",
     "shell.execute_reply": "2022-11-10T10:11:16.704232Z"
    },
    "papermill": {
     "duration": 0.583297,
     "end_time": "2022-11-10T10:11:16.704388",
     "exception": false,
     "start_time": "2022-11-10T10:11:16.121091",
     "status": "completed"
    },
    "tags": []
   },
   "outputs": [],
   "source": [
    "%matplotlib inline\n",
    "import numpy as np\n",
    "import matplotlib.pyplot as plt\n",
    "import pandas as pd"
   ]
  },
  {
   "cell_type": "markdown",
   "id": "ba036198",
   "metadata": {
    "papermill": {
     "duration": 0.023958,
     "end_time": "2022-11-10T10:11:16.751962",
     "exception": false,
     "start_time": "2022-11-10T10:11:16.728004",
     "status": "completed"
    },
    "tags": []
   },
   "source": [
    "From the command line run `pip install mnist`. This is a library that will help you bring down the mnist dataset. If you run this from a notebook, you need to put  `!pip install mnist` in a cell by itself."
   ]
  },
  {
   "cell_type": "code",
   "execution_count": 3,
   "id": "bb6ad8a1",
   "metadata": {
    "execution": {
     "iopub.execute_input": "2022-11-10T10:11:16.810174Z",
     "iopub.status.busy": "2022-11-10T10:11:16.809555Z",
     "iopub.status.idle": "2022-11-10T10:11:18.429149Z",
     "shell.execute_reply": "2022-11-10T10:11:18.428508Z"
    },
    "papermill": {
     "duration": 1.653802,
     "end_time": "2022-11-10T10:11:18.429295",
     "exception": false,
     "start_time": "2022-11-10T10:11:16.775493",
     "status": "completed"
    },
    "tags": []
   },
   "outputs": [
    {
     "name": "stdout",
     "output_type": "stream",
     "text": [
      "Collecting mnist\r\n"
     ]
    },
    {
     "name": "stdout",
     "output_type": "stream",
     "text": [
      "  Downloading mnist-0.2.2-py2.py3-none-any.whl (3.5 kB)\r\n",
      "Requirement already satisfied: numpy in /opt/hostedtoolcache/Python/3.6.15/x64/lib/python3.6/site-packages (from mnist) (1.19.5)\r\n"
     ]
    },
    {
     "name": "stdout",
     "output_type": "stream",
     "text": [
      "Installing collected packages: mnist\r\n"
     ]
    },
    {
     "name": "stdout",
     "output_type": "stream",
     "text": [
      "Successfully installed mnist-0.2.2\r\n"
     ]
    }
   ],
   "source": [
    "!pip install mnist"
   ]
  },
  {
   "cell_type": "markdown",
   "id": "69df9c9a",
   "metadata": {
    "papermill": {
     "duration": 0.025201,
     "end_time": "2022-11-10T10:11:18.479789",
     "exception": false,
     "start_time": "2022-11-10T10:11:18.454588",
     "status": "completed"
    },
    "tags": []
   },
   "source": [
    "## Preparing the Data"
   ]
  },
  {
   "cell_type": "code",
   "execution_count": 4,
   "id": "7f69d806",
   "metadata": {
    "execution": {
     "iopub.execute_input": "2022-11-10T10:11:18.535495Z",
     "iopub.status.busy": "2022-11-10T10:11:18.534865Z",
     "iopub.status.idle": "2022-11-10T10:11:18.548917Z",
     "shell.execute_reply": "2022-11-10T10:11:18.548431Z"
    },
    "papermill": {
     "duration": 0.044528,
     "end_time": "2022-11-10T10:11:18.549037",
     "exception": false,
     "start_time": "2022-11-10T10:11:18.504509",
     "status": "completed"
    },
    "tags": []
   },
   "outputs": [],
   "source": [
    "import mnist"
   ]
  },
  {
   "cell_type": "code",
   "execution_count": 5,
   "id": "a411e44f",
   "metadata": {
    "execution": {
     "iopub.execute_input": "2022-11-10T10:11:18.603162Z",
     "iopub.status.busy": "2022-11-10T10:11:18.602541Z",
     "iopub.status.idle": "2022-11-10T10:11:19.137040Z",
     "shell.execute_reply": "2022-11-10T10:11:19.137575Z"
    },
    "papermill": {
     "duration": 0.563908,
     "end_time": "2022-11-10T10:11:19.137762",
     "exception": false,
     "start_time": "2022-11-10T10:11:18.573854",
     "status": "completed"
    },
    "tags": []
   },
   "outputs": [],
   "source": [
    "train_images = mnist.train_images()\n",
    "train_labels = mnist.train_labels()"
   ]
  },
  {
   "cell_type": "code",
   "execution_count": 6,
   "id": "dceab3a5",
   "metadata": {
    "execution": {
     "iopub.execute_input": "2022-11-10T10:11:19.206438Z",
     "iopub.status.busy": "2022-11-10T10:11:19.199821Z",
     "iopub.status.idle": "2022-11-10T10:11:19.211780Z",
     "shell.execute_reply": "2022-11-10T10:11:19.211003Z"
    },
    "papermill": {
     "duration": 0.049163,
     "end_time": "2022-11-10T10:11:19.211899",
     "exception": false,
     "start_time": "2022-11-10T10:11:19.162736",
     "status": "completed"
    },
    "tags": []
   },
   "outputs": [
    {
     "data": {
      "text/plain": [
       "((60000, 28, 28), (60000,))"
      ]
     },
     "execution_count": 6,
     "metadata": {},
     "output_type": "execute_result"
    }
   ],
   "source": [
    "train_images.shape, train_labels.shape"
   ]
  },
  {
   "cell_type": "code",
   "execution_count": 7,
   "id": "f50dc2bb",
   "metadata": {
    "execution": {
     "iopub.execute_input": "2022-11-10T10:11:19.265481Z",
     "iopub.status.busy": "2022-11-10T10:11:19.264900Z",
     "iopub.status.idle": "2022-11-10T10:11:19.413927Z",
     "shell.execute_reply": "2022-11-10T10:11:19.413358Z"
    },
    "papermill": {
     "duration": 0.176987,
     "end_time": "2022-11-10T10:11:19.414066",
     "exception": false,
     "start_time": "2022-11-10T10:11:19.237079",
     "status": "completed"
    },
    "tags": []
   },
   "outputs": [],
   "source": [
    "test_images = mnist.test_images()\n",
    "test_labels = mnist.test_labels()"
   ]
  },
  {
   "cell_type": "code",
   "execution_count": 8,
   "id": "fc38cf1b",
   "metadata": {
    "execution": {
     "iopub.execute_input": "2022-11-10T10:11:19.468313Z",
     "iopub.status.busy": "2022-11-10T10:11:19.467631Z",
     "iopub.status.idle": "2022-11-10T10:11:19.481599Z",
     "shell.execute_reply": "2022-11-10T10:11:19.482162Z"
    },
    "papermill": {
     "duration": 0.043031,
     "end_time": "2022-11-10T10:11:19.482295",
     "exception": false,
     "start_time": "2022-11-10T10:11:19.439264",
     "status": "completed"
    },
    "tags": []
   },
   "outputs": [
    {
     "data": {
      "text/plain": [
       "((10000, 28, 28), (10000,))"
      ]
     },
     "execution_count": 8,
     "metadata": {},
     "output_type": "execute_result"
    }
   ],
   "source": [
    "test_images.shape, test_labels.shape"
   ]
  },
  {
   "cell_type": "code",
   "execution_count": 9,
   "id": "f9ed8fe0",
   "metadata": {
    "execution": {
     "iopub.execute_input": "2022-11-10T10:11:19.536372Z",
     "iopub.status.busy": "2022-11-10T10:11:19.535784Z",
     "iopub.status.idle": "2022-11-10T10:11:19.673120Z",
     "shell.execute_reply": "2022-11-10T10:11:19.673584Z"
    },
    "papermill": {
     "duration": 0.166347,
     "end_time": "2022-11-10T10:11:19.673729",
     "exception": false,
     "start_time": "2022-11-10T10:11:19.507382",
     "status": "completed"
    },
    "tags": []
   },
   "outputs": [
    {
     "name": "stdout",
     "output_type": "stream",
     "text": [
      "2\n"
     ]
    },
    {
     "data": {
      "text/plain": [
       "<matplotlib.image.AxesImage at 0x7f59e5062e10>"
      ]
     },
     "execution_count": 9,
     "metadata": {},
     "output_type": "execute_result"
    },
    {
     "data": {
      "image/png": "[encoded data removed]",
      "text/plain": [
       "<Figure size 432x288 with 1 Axes>"
      ]
     },
     "metadata": {
      "needs_background": "light"
     },
     "output_type": "display_data"
    }
   ],
   "source": [
    "image_index = 7776 # You may select anything up to 60,000\n",
    "print(train_labels[image_index]) \n",
    "plt.imshow(train_images[image_index], cmap='Greys')"
   ]
  },
  {
   "cell_type": "markdown",
   "id": "a8d2388d",
   "metadata": {
    "papermill": {
     "duration": 0.025993,
     "end_time": "2022-11-10T10:11:19.728108",
     "exception": false,
     "start_time": "2022-11-10T10:11:19.702115",
     "status": "completed"
    },
    "tags": []
   },
   "source": [
    "## Filter data to get 3 and 8 out"
   ]
  },
  {
   "cell_type": "code",
   "execution_count": 10,
   "id": "776f7fc7",
   "metadata": {
    "execution": {
     "iopub.execute_input": "2022-11-10T10:11:19.788386Z",
     "iopub.status.busy": "2022-11-10T10:11:19.787749Z",
     "iopub.status.idle": "2022-11-10T10:11:19.807153Z",
     "shell.execute_reply": "2022-11-10T10:11:19.806316Z"
    },
    "papermill": {
     "duration": 0.052861,
     "end_time": "2022-11-10T10:11:19.807283",
     "exception": false,
     "start_time": "2022-11-10T10:11:19.754422",
     "status": "completed"
    },
    "tags": []
   },
   "outputs": [],
   "source": [
    "train_filter = np.where((train_labels == 3 ) | (train_labels == 8))\n",
    "test_filter = np.where((test_labels == 3) | (test_labels == 8))\n",
    "X_train, y_train = train_images[train_filter], train_labels[train_filter]\n",
    "X_test, y_test = test_images[test_filter], test_labels[test_filter]"
   ]
  },
  {
   "cell_type": "markdown",
   "id": "948f0b7e",
   "metadata": {
    "papermill": {
     "duration": 0.026667,
     "end_time": "2022-11-10T10:11:19.860607",
     "exception": false,
     "start_time": "2022-11-10T10:11:19.833940",
     "status": "completed"
    },
    "tags": []
   },
   "source": [
    "We normalize the pizel values in the 0 to 1 range"
   ]
  },
  {
   "cell_type": "code",
   "execution_count": 11,
   "id": "ee4c2166",
   "metadata": {
    "execution": {
     "iopub.execute_input": "2022-11-10T10:11:19.917016Z",
     "iopub.status.busy": "2022-11-10T10:11:19.916426Z",
     "iopub.status.idle": "2022-11-10T10:11:19.964892Z",
     "shell.execute_reply": "2022-11-10T10:11:19.964294Z"
    },
    "papermill": {
     "duration": 0.078425,
     "end_time": "2022-11-10T10:11:19.965032",
     "exception": false,
     "start_time": "2022-11-10T10:11:19.886607",
     "status": "completed"
    },
    "tags": []
   },
   "outputs": [],
   "source": [
    "X_train = X_train/255.\n",
    "X_test = X_test/255."
   ]
  },
  {
   "cell_type": "markdown",
   "id": "ddcf4fab",
   "metadata": {
    "papermill": {
     "duration": 0.026288,
     "end_time": "2022-11-10T10:11:20.018084",
     "exception": false,
     "start_time": "2022-11-10T10:11:19.991796",
     "status": "completed"
    },
    "tags": []
   },
   "source": [
    "And setup the labels as 1 (when the digit is 3) and 0 (when the digit is 8)"
   ]
  },
  {
   "cell_type": "code",
   "execution_count": 12,
   "id": "7dc908f2",
   "metadata": {
    "execution": {
     "iopub.execute_input": "2022-11-10T10:11:20.081472Z",
     "iopub.status.busy": "2022-11-10T10:11:20.080412Z",
     "iopub.status.idle": "2022-11-10T10:11:20.089734Z",
     "shell.execute_reply": "2022-11-10T10:11:20.089255Z"
    },
    "papermill": {
     "duration": 0.045286,
     "end_time": "2022-11-10T10:11:20.089844",
     "exception": false,
     "start_time": "2022-11-10T10:11:20.044558",
     "status": "completed"
    },
    "tags": []
   },
   "outputs": [],
   "source": [
    "y_train = 1*(y_train==3)\n",
    "y_test = 1*(y_test==3)"
   ]
  },
  {
   "cell_type": "code",
   "execution_count": 13,
   "id": "01e4e969",
   "metadata": {
    "execution": {
     "iopub.execute_input": "2022-11-10T10:11:20.152372Z",
     "iopub.status.busy": "2022-11-10T10:11:20.145139Z",
     "iopub.status.idle": "2022-11-10T10:11:20.159322Z",
     "shell.execute_reply": "2022-11-10T10:11:20.159801Z"
    },
    "papermill": {
     "duration": 0.043558,
     "end_time": "2022-11-10T10:11:20.159930",
     "exception": false,
     "start_time": "2022-11-10T10:11:20.116372",
     "status": "completed"
    },
    "tags": []
   },
   "outputs": [
    {
     "data": {
      "text/plain": [
       "((11982, 28, 28), (1984, 28, 28))"
      ]
     },
     "execution_count": 13,
     "metadata": {},
     "output_type": "execute_result"
    }
   ],
   "source": [
    "X_train.shape, X_test.shape"
   ]
  },
  {
   "cell_type": "markdown",
   "id": "5ccf3f85",
   "metadata": {
    "papermill": {
     "duration": 0.026409,
     "end_time": "2022-11-10T10:11:20.212528",
     "exception": false,
     "start_time": "2022-11-10T10:11:20.186119",
     "status": "completed"
    },
    "tags": []
   },
   "source": [
    "We reshape the data to flatten the image pixels into a set of features or co-variates:"
   ]
  },
  {
   "cell_type": "code",
   "execution_count": 14,
   "id": "5286a4a3",
   "metadata": {
    "execution": {
     "iopub.execute_input": "2022-11-10T10:11:20.273496Z",
     "iopub.status.busy": "2022-11-10T10:11:20.271169Z",
     "iopub.status.idle": "2022-11-10T10:11:20.285876Z",
     "shell.execute_reply": "2022-11-10T10:11:20.285115Z"
    },
    "papermill": {
     "duration": 0.047024,
     "end_time": "2022-11-10T10:11:20.286023",
     "exception": false,
     "start_time": "2022-11-10T10:11:20.238999",
     "status": "completed"
    },
    "tags": []
   },
   "outputs": [
    {
     "data": {
      "text/plain": [
       "((11982, 784), (1984, 784))"
      ]
     },
     "execution_count": 14,
     "metadata": {},
     "output_type": "execute_result"
    }
   ],
   "source": [
    "X_train = X_train.reshape(X_train.shape[0], -1)\n",
    "X_test = X_test.reshape(X_test.shape[0], -1)\n",
    "X_train.shape, X_test.shape"
   ]
  },
  {
   "cell_type": "code",
   "execution_count": 15,
   "id": "73c5f88a",
   "metadata": {
    "execution": {
     "iopub.execute_input": "2022-11-10T10:11:20.347885Z",
     "iopub.status.busy": "2022-11-10T10:11:20.347251Z",
     "iopub.status.idle": "2022-11-10T10:11:20.365583Z",
     "shell.execute_reply": "2022-11-10T10:11:20.365094Z"
    },
    "papermill": {
     "duration": 0.052705,
     "end_time": "2022-11-10T10:11:20.365700",
     "exception": false,
     "start_time": "2022-11-10T10:11:20.312995",
     "status": "completed"
    },
    "tags": []
   },
   "outputs": [],
   "source": [
    "#Impoting functions from 'Kudzu'\n",
    "from kudzu.model import Model\n",
    "from kudzu.train import Learner\n",
    "from kudzu.optim import GD\n",
    "from kudzu.data import Data, Sampler,Dataloader\n",
    "\n",
    "from kudzu.callbacks import AccCallback\n",
    "from kudzu.callbacks import ClfCallback\n",
    "\n",
    "from kudzu.loss import MSE\n",
    "\n",
    "from kudzu.layer import Sigmoid,Relu\n",
    "from kudzu.layer import Affine"
   ]
  },
  {
   "cell_type": "markdown",
   "id": "bc01172a",
   "metadata": {
    "papermill": {
     "duration": 0.026749,
     "end_time": "2022-11-10T10:11:20.419559",
     "exception": false,
     "start_time": "2022-11-10T10:11:20.392810",
     "status": "completed"
    },
    "tags": []
   },
   "source": [
    "### Let us create a `Config` class, to store important parameters. \n",
    "This class essentially plays the role of a dictionary."
   ]
  },
  {
   "cell_type": "code",
   "execution_count": 16,
   "id": "978281aa",
   "metadata": {
    "execution": {
     "iopub.execute_input": "2022-11-10T10:11:20.480459Z",
     "iopub.status.busy": "2022-11-10T10:11:20.479857Z",
     "iopub.status.idle": "2022-11-10T10:11:20.491553Z",
     "shell.execute_reply": "2022-11-10T10:11:20.491048Z"
    },
    "papermill": {
     "duration": 0.045293,
     "end_time": "2022-11-10T10:11:20.491674",
     "exception": false,
     "start_time": "2022-11-10T10:11:20.446381",
     "status": "completed"
    },
    "tags": []
   },
   "outputs": [],
   "source": [
    "class Config:\n",
    "    pass\n",
    "config = Config()\n",
    "config.lr = 0.001\n",
    "config.num_epochs = 250\n",
    "config.bs = 50"
   ]
  },
  {
   "cell_type": "markdown",
   "id": "1385fa59",
   "metadata": {
    "papermill": {
     "duration": 0.026596,
     "end_time": "2022-11-10T10:11:20.545195",
     "exception": false,
     "start_time": "2022-11-10T10:11:20.518599",
     "status": "completed"
    },
    "tags": []
   },
   "source": [
    "### Running Models with the Training data\n",
    "Details about the network layers:\n",
    "- A first affine layer has 784 inputs and does 100 affine transforms. These are followed by a Relu\n",
    "- A second affine layer has 100 inputs from the 100 activations of the past layer, and does 100 affine transforms. These are followed by a Relu\n",
    "- A third affine layer has 100 activations and does 2 affine transformations to create an embedding for visualization. There is no non-linearity here.\n",
    "- A final \"logistic regression\" which has an affine transform from 2 inputs to 1 output, which is squeezed through a sigmoid.\n"
   ]
  },
  {
   "cell_type": "code",
   "execution_count": 17,
   "id": "2b9c66db",
   "metadata": {
    "execution": {
     "iopub.execute_input": "2022-11-10T10:11:20.603351Z",
     "iopub.status.busy": "2022-11-10T10:11:20.602720Z",
     "iopub.status.idle": "2022-11-10T10:11:20.615361Z",
     "shell.execute_reply": "2022-11-10T10:11:20.615844Z"
    },
    "papermill": {
     "duration": 0.043988,
     "end_time": "2022-11-10T10:11:20.615979",
     "exception": false,
     "start_time": "2022-11-10T10:11:20.571991",
     "status": "completed"
    },
    "tags": []
   },
   "outputs": [],
   "source": [
    "data = Data(X_train, y_train.reshape(-1,1))\n",
    "sampler = Sampler(data, config.bs, shuffle=True)\n",
    "\n",
    "dl = Dataloader(data, sampler)\n",
    "\n",
    "opt = GD(config.lr)\n",
    "loss = MSE()"
   ]
  },
  {
   "cell_type": "code",
   "execution_count": 18,
   "id": "b275e4c2",
   "metadata": {
    "execution": {
     "iopub.execute_input": "2022-11-10T10:11:20.673664Z",
     "iopub.status.busy": "2022-11-10T10:11:20.673065Z",
     "iopub.status.idle": "2022-11-10T10:11:20.686619Z",
     "shell.execute_reply": "2022-11-10T10:11:20.686071Z"
    },
    "papermill": {
     "duration": 0.043962,
     "end_time": "2022-11-10T10:11:20.686748",
     "exception": false,
     "start_time": "2022-11-10T10:11:20.642786",
     "status": "completed"
    },
    "tags": []
   },
   "outputs": [],
   "source": [
    "training_data_x = X_train\n",
    "testing_data_x = X_test\n",
    "training_data_y = y_train.reshape(-1,1)\n",
    "testing_data_y = y_test.reshape(-1,1)"
   ]
  },
  {
   "cell_type": "code",
   "execution_count": 19,
   "id": "76951160",
   "metadata": {
    "execution": {
     "iopub.execute_input": "2022-11-10T10:11:20.752409Z",
     "iopub.status.busy": "2022-11-10T10:11:20.751803Z",
     "iopub.status.idle": "2022-11-10T10:11:20.764547Z",
     "shell.execute_reply": "2022-11-10T10:11:20.763960Z"
    },
    "papermill": {
     "duration": 0.050249,
     "end_time": "2022-11-10T10:11:20.764664",
     "exception": false,
     "start_time": "2022-11-10T10:11:20.714415",
     "status": "completed"
    },
    "tags": []
   },
   "outputs": [
    {
     "name": "stdout",
     "output_type": "stream",
     "text": [
      "xavier\n",
      "xavier\n",
      "xavier\n",
      "xavier\n",
      "xavier\n"
     ]
    }
   ],
   "source": [
    "layers = [Affine(\"first\", 784, 100), Relu(\"first\"), Affine(\"second\", 100, 100), Relu(\"second\"), Affine(\"third\", 100, 2), Affine(\"last\", 2, 1), Sigmoid(\"last\")]\n",
    "model_nn = Model(layers)\n",
    "model_lr = Model([Affine(\"logits\", 784, 1), Sigmoid(\"sigmoid\")])"
   ]
  },
  {
   "cell_type": "code",
   "execution_count": 20,
   "id": "6eede77a",
   "metadata": {
    "execution": {
     "iopub.execute_input": "2022-11-10T10:11:20.826134Z",
     "iopub.status.busy": "2022-11-10T10:11:20.825366Z",
     "iopub.status.idle": "2022-11-10T10:11:20.838403Z",
     "shell.execute_reply": "2022-11-10T10:11:20.837672Z"
    },
    "papermill": {
     "duration": 0.046492,
     "end_time": "2022-11-10T10:11:20.838516",
     "exception": false,
     "start_time": "2022-11-10T10:11:20.792024",
     "status": "completed"
    },
    "tags": []
   },
   "outputs": [],
   "source": [
    "nn_learner = Learner(loss, model_nn, opt, config.num_epochs)\n",
    "acc_nn = ClfCallback(nn_learner, config.bs, training_data_x , testing_data_x, training_data_y, testing_data_y)\n",
    "nn_learner.set_callbacks([acc_nn])"
   ]
  },
  {
   "cell_type": "code",
   "execution_count": 21,
   "id": "877b6cc7",
   "metadata": {
    "execution": {
     "iopub.execute_input": "2022-11-10T10:11:20.896527Z",
     "iopub.status.busy": "2022-11-10T10:11:20.895940Z",
     "iopub.status.idle": "2022-11-10T10:11:20.908992Z",
     "shell.execute_reply": "2022-11-10T10:11:20.908516Z"
    },
    "papermill": {
     "duration": 0.043735,
     "end_time": "2022-11-10T10:11:20.909106",
     "exception": false,
     "start_time": "2022-11-10T10:11:20.865371",
     "status": "completed"
    },
    "tags": []
   },
   "outputs": [],
   "source": [
    "lr_learner = Learner(loss, model_lr, opt, config.num_epochs)\n",
    "acc_lr = ClfCallback(lr_learner, config.bs, training_data_x , testing_data_x, training_data_y, testing_data_y)\n",
    "lr_learner.set_callbacks([acc_lr])"
   ]
  },
  {
   "cell_type": "code",
   "execution_count": 22,
   "id": "d9b133c3",
   "metadata": {
    "execution": {
     "iopub.execute_input": "2022-11-10T10:11:20.972217Z",
     "iopub.status.busy": "2022-11-10T10:11:20.971640Z",
     "iopub.status.idle": "2022-11-10T10:12:37.941053Z",
     "shell.execute_reply": "2022-11-10T10:12:37.941617Z"
    },
    "papermill": {
     "duration": 77.005658,
     "end_time": "2022-11-10T10:12:37.941766",
     "exception": false,
     "start_time": "2022-11-10T10:11:20.936108",
     "status": "completed"
    },
    "tags": []
   },
   "outputs": [
    {
     "name": "stdout",
     "output_type": "stream",
     "text": [
      "Epoch 0, Loss 0.2223\n",
      "Training Accuracy: 0.7676, Testing Accuracy: 0.7782\n",
      "\n"
     ]
    },
    {
     "name": "stdout",
     "output_type": "stream",
     "text": [
      "Epoch 10, Loss 0.0696\n",
      "Training Accuracy: 0.9303, Testing Accuracy: 0.9345\n",
      "\n"
     ]
    },
    {
     "name": "stdout",
     "output_type": "stream",
     "text": [
      "Epoch 20, Loss 0.0478\n",
      "Training Accuracy: 0.9493, Testing Accuracy: 0.9561\n",
      "\n"
     ]
    },
    {
     "name": "stdout",
     "output_type": "stream",
     "text": [
      "Epoch 30, Loss 0.0393\n",
      "Training Accuracy: 0.9566, Testing Accuracy: 0.9617\n",
      "\n"
     ]
    },
    {
     "name": "stdout",
     "output_type": "stream",
     "text": [
      "Epoch 40, Loss 0.0348\n",
      "Training Accuracy: 0.9601, Testing Accuracy: 0.9662\n",
      "\n"
     ]
    },
    {
     "name": "stdout",
     "output_type": "stream",
     "text": [
      "Epoch 50, Loss 0.0318\n",
      "Training Accuracy: 0.9630, Testing Accuracy: 0.9677\n",
      "\n"
     ]
    },
    {
     "name": "stdout",
     "output_type": "stream",
     "text": [
      "Epoch 60, Loss 0.0297\n",
      "Training Accuracy: 0.9647, Testing Accuracy: 0.9703\n",
      "\n"
     ]
    },
    {
     "name": "stdout",
     "output_type": "stream",
     "text": [
      "Epoch 70, Loss 0.0281\n",
      "Training Accuracy: 0.9668, Testing Accuracy: 0.9713\n",
      "\n"
     ]
    },
    {
     "name": "stdout",
     "output_type": "stream",
     "text": [
      "Epoch 80, Loss 0.0267\n",
      "Training Accuracy: 0.9680, Testing Accuracy: 0.9703\n",
      "\n"
     ]
    },
    {
     "name": "stdout",
     "output_type": "stream",
     "text": [
      "Epoch 90, Loss 0.0256\n",
      "Training Accuracy: 0.9695, Testing Accuracy: 0.9708\n",
      "\n"
     ]
    },
    {
     "name": "stdout",
     "output_type": "stream",
     "text": [
      "Epoch 100, Loss 0.0247\n",
      "Training Accuracy: 0.9712, Testing Accuracy: 0.9703\n",
      "\n"
     ]
    },
    {
     "name": "stdout",
     "output_type": "stream",
     "text": [
      "Epoch 110, Loss 0.0239\n",
      "Training Accuracy: 0.9724, Testing Accuracy: 0.9713\n",
      "\n"
     ]
    },
    {
     "name": "stdout",
     "output_type": "stream",
     "text": [
      "Epoch 120, Loss 0.0231\n",
      "Training Accuracy: 0.9733, Testing Accuracy: 0.9718\n",
      "\n"
     ]
    },
    {
     "name": "stdout",
     "output_type": "stream",
     "text": [
      "Epoch 130, Loss 0.0225\n",
      "Training Accuracy: 0.9742, Testing Accuracy: 0.9718\n",
      "\n"
     ]
    },
    {
     "name": "stdout",
     "output_type": "stream",
     "text": [
      "Epoch 140, Loss 0.0218\n",
      "Training Accuracy: 0.9755, Testing Accuracy: 0.9733\n",
      "\n"
     ]
    },
    {
     "name": "stdout",
     "output_type": "stream",
     "text": [
      "Epoch 150, Loss 0.0213\n",
      "Training Accuracy: 0.9762, Testing Accuracy: 0.9728\n",
      "\n"
     ]
    },
    {
     "name": "stdout",
     "output_type": "stream",
     "text": [
      "Epoch 160, Loss 0.0207\n",
      "Training Accuracy: 0.9765, Testing Accuracy: 0.9738\n",
      "\n"
     ]
    },
    {
     "name": "stdout",
     "output_type": "stream",
     "text": [
      "Epoch 170, Loss 0.0202\n",
      "Training Accuracy: 0.9770, Testing Accuracy: 0.9748\n",
      "\n"
     ]
    },
    {
     "name": "stdout",
     "output_type": "stream",
     "text": [
      "Epoch 180, Loss 0.0198\n",
      "Training Accuracy: 0.9778, Testing Accuracy: 0.9763\n",
      "\n"
     ]
    },
    {
     "name": "stdout",
     "output_type": "stream",
     "text": [
      "Epoch 190, Loss 0.0193\n",
      "Training Accuracy: 0.9783, Testing Accuracy: 0.9763\n",
      "\n"
     ]
    },
    {
     "name": "stdout",
     "output_type": "stream",
     "text": [
      "Epoch 200, Loss 0.0189\n",
      "Training Accuracy: 0.9788, Testing Accuracy: 0.9768\n",
      "\n"
     ]
    },
    {
     "name": "stdout",
     "output_type": "stream",
     "text": [
      "Epoch 210, Loss 0.0185\n",
      "Training Accuracy: 0.9791, Testing Accuracy: 0.9768\n",
      "\n"
     ]
    },
    {
     "name": "stdout",
     "output_type": "stream",
     "text": [
      "Epoch 220, Loss 0.0181\n",
      "Training Accuracy: 0.9794, Testing Accuracy: 0.9773\n",
      "\n"
     ]
    },
    {
     "name": "stdout",
     "output_type": "stream",
     "text": [
      "Epoch 230, Loss 0.0177\n",
      "Training Accuracy: 0.9801, Testing Accuracy: 0.9773\n",
      "\n"
     ]
    },
    {
     "name": "stdout",
     "output_type": "stream",
     "text": [
      "Epoch 240, Loss 0.0173\n",
      "Training Accuracy: 0.9808, Testing Accuracy: 0.9778\n",
      "\n"
     ]
    },
    {
     "data": {
      "text/plain": [
       "0.006480795744072356"
      ]
     },
     "execution_count": 22,
     "metadata": {},
     "output_type": "execute_result"
    }
   ],
   "source": [
    "nn_learner.train_loop(dl)"
   ]
  },
  {
   "cell_type": "code",
   "execution_count": 23,
   "id": "e0163366",
   "metadata": {
    "execution": {
     "iopub.execute_input": "2022-11-10T10:12:38.020559Z",
     "iopub.status.busy": "2022-11-10T10:12:38.019943Z",
     "iopub.status.idle": "2022-11-10T10:12:51.974563Z",
     "shell.execute_reply": "2022-11-10T10:12:51.974074Z"
    },
    "papermill": {
     "duration": 13.998442,
     "end_time": "2022-11-10T10:12:51.974695",
     "exception": false,
     "start_time": "2022-11-10T10:12:37.976253",
     "status": "completed"
    },
    "tags": []
   },
   "outputs": [
    {
     "name": "stdout",
     "output_type": "stream",
     "text": [
      "Epoch 0, Loss 0.2172\n",
      "Training Accuracy: 0.7871, Testing Accuracy: 0.8024\n",
      "\n"
     ]
    },
    {
     "name": "stdout",
     "output_type": "stream",
     "text": [
      "Epoch 10, Loss 0.1003\n",
      "Training Accuracy: 0.9116, Testing Accuracy: 0.9183\n",
      "\n"
     ]
    },
    {
     "name": "stdout",
     "output_type": "stream",
     "text": [
      "Epoch 20, Loss 0.0783\n",
      "Training Accuracy: 0.9285, Testing Accuracy: 0.9350\n",
      "\n"
     ]
    },
    {
     "name": "stdout",
     "output_type": "stream",
     "text": [
      "Epoch 30, Loss 0.0678\n",
      "Training Accuracy: 0.9361, Testing Accuracy: 0.9430\n",
      "\n"
     ]
    },
    {
     "name": "stdout",
     "output_type": "stream",
     "text": [
      "Epoch 40, Loss 0.0614\n",
      "Training Accuracy: 0.9422, Testing Accuracy: 0.9476\n",
      "\n"
     ]
    },
    {
     "name": "stdout",
     "output_type": "stream",
     "text": [
      "Epoch 50, Loss 0.057\n",
      "Training Accuracy: 0.9448, Testing Accuracy: 0.9511\n",
      "\n"
     ]
    },
    {
     "name": "stdout",
     "output_type": "stream",
     "text": [
      "Epoch 60, Loss 0.0537\n",
      "Training Accuracy: 0.9478, Testing Accuracy: 0.9556\n",
      "\n"
     ]
    },
    {
     "name": "stdout",
     "output_type": "stream",
     "text": [
      "Epoch 70, Loss 0.0512\n",
      "Training Accuracy: 0.9491, Testing Accuracy: 0.9592\n",
      "\n"
     ]
    },
    {
     "name": "stdout",
     "output_type": "stream",
     "text": [
      "Epoch 80, Loss 0.0491\n",
      "Training Accuracy: 0.9513, Testing Accuracy: 0.9607\n",
      "\n"
     ]
    },
    {
     "name": "stdout",
     "output_type": "stream",
     "text": [
      "Epoch 90, Loss 0.0474\n",
      "Training Accuracy: 0.9523, Testing Accuracy: 0.9632\n",
      "\n"
     ]
    },
    {
     "name": "stdout",
     "output_type": "stream",
     "text": [
      "Epoch 100, Loss 0.046\n",
      "Training Accuracy: 0.9534, Testing Accuracy: 0.9637\n",
      "\n"
     ]
    },
    {
     "name": "stdout",
     "output_type": "stream",
     "text": [
      "Epoch 110, Loss 0.0448\n",
      "Training Accuracy: 0.9547, Testing Accuracy: 0.9642\n",
      "\n"
     ]
    },
    {
     "name": "stdout",
     "output_type": "stream",
     "text": [
      "Epoch 120, Loss 0.0437\n",
      "Training Accuracy: 0.9558, Testing Accuracy: 0.9642\n",
      "\n"
     ]
    },
    {
     "name": "stdout",
     "output_type": "stream",
     "text": [
      "Epoch 130, Loss 0.0428\n",
      "Training Accuracy: 0.9566, Testing Accuracy: 0.9642\n",
      "\n"
     ]
    },
    {
     "name": "stdout",
     "output_type": "stream",
     "text": [
      "Epoch 140, Loss 0.042\n",
      "Training Accuracy: 0.9570, Testing Accuracy: 0.9647\n",
      "\n"
     ]
    },
    {
     "name": "stdout",
     "output_type": "stream",
     "text": [
      "Epoch 150, Loss 0.0412\n",
      "Training Accuracy: 0.9579, Testing Accuracy: 0.9647\n",
      "\n"
     ]
    },
    {
     "name": "stdout",
     "output_type": "stream",
     "text": [
      "Epoch 160, Loss 0.0406\n",
      "Training Accuracy: 0.9584, Testing Accuracy: 0.9657\n",
      "\n"
     ]
    },
    {
     "name": "stdout",
     "output_type": "stream",
     "text": [
      "Epoch 170, Loss 0.0399\n",
      "Training Accuracy: 0.9587, Testing Accuracy: 0.9657\n",
      "\n"
     ]
    },
    {
     "name": "stdout",
     "output_type": "stream",
     "text": [
      "Epoch 180, Loss 0.0394\n",
      "Training Accuracy: 0.9588, Testing Accuracy: 0.9662\n",
      "\n"
     ]
    },
    {
     "name": "stdout",
     "output_type": "stream",
     "text": [
      "Epoch 190, Loss 0.0389\n",
      "Training Accuracy: 0.9592, Testing Accuracy: 0.9657\n",
      "\n"
     ]
    },
    {
     "name": "stdout",
     "output_type": "stream",
     "text": [
      "Epoch 200, Loss 0.0384\n",
      "Training Accuracy: 0.9596, Testing Accuracy: 0.9667\n",
      "\n"
     ]
    },
    {
     "name": "stdout",
     "output_type": "stream",
     "text": [
      "Epoch 210, Loss 0.0379\n",
      "Training Accuracy: 0.9600, Testing Accuracy: 0.9672\n",
      "\n"
     ]
    },
    {
     "name": "stdout",
     "output_type": "stream",
     "text": [
      "Epoch 220, Loss 0.0375\n",
      "Training Accuracy: 0.9603, Testing Accuracy: 0.9662\n",
      "\n"
     ]
    },
    {
     "name": "stdout",
     "output_type": "stream",
     "text": [
      "Epoch 230, Loss 0.0371\n",
      "Training Accuracy: 0.9608, Testing Accuracy: 0.9662\n",
      "\n"
     ]
    },
    {
     "name": "stdout",
     "output_type": "stream",
     "text": [
      "Epoch 240, Loss 0.0368\n",
      "Training Accuracy: 0.9614, Testing Accuracy: 0.9662\n",
      "\n"
     ]
    },
    {
     "data": {
      "text/plain": [
       "0.036277745993750055"
      ]
     },
     "execution_count": 23,
     "metadata": {},
     "output_type": "execute_result"
    }
   ],
   "source": [
    "lr_learner.train_loop(dl)"
   ]
  },
  {
   "cell_type": "code",
   "execution_count": 24,
   "id": "ca410940",
   "metadata": {
    "execution": {
     "iopub.execute_input": "2022-11-10T10:12:52.068219Z",
     "iopub.status.busy": "2022-11-10T10:12:52.067582Z",
     "iopub.status.idle": "2022-11-10T10:12:52.286384Z",
     "shell.execute_reply": "2022-11-10T10:12:52.285823Z"
    },
    "papermill": {
     "duration": 0.268718,
     "end_time": "2022-11-10T10:12:52.286517",
     "exception": false,
     "start_time": "2022-11-10T10:12:52.017799",
     "status": "completed"
    },
    "tags": []
   },
   "outputs": [
    {
     "data": {
      "text/plain": [
       "<matplotlib.legend.Legend at 0x7f59e4bce470>"
      ]
     },
     "execution_count": 24,
     "metadata": {},
     "output_type": "execute_result"
    },
    {
     "data": {
      "image/png": "[encoded data removed]",
      "text/plain": [
       "<Figure size 1080x720 with 1 Axes>"
      ]
     },
     "metadata": {
      "needs_background": "light"
     },
     "output_type": "display_data"
    }
   ],
   "source": [
    "#comparing the results of NN and LR\n",
    "plt.figure(figsize=(15,10))\n",
    "\n",
    "# Neural Network plots\n",
    "plt.plot(acc_nn.accuracies, 'r-', label = \"Training Accuracies - NN\")\n",
    "plt.plot(acc_nn.test_accuracies, 'g-', label = \"Testing Accuracies - NN\")\n",
    "\n",
    "# Logistic Regression plots\n",
    "plt.plot(acc_lr.accuracies, 'k-', label = \"Training Accuracies - LR\")\n",
    "plt.plot(acc_lr.test_accuracies, 'b-', label = \"Testing Accuracies - LR\")\n",
    "plt.legend()"
   ]
  },
  {
   "cell_type": "markdown",
   "id": "80dfb35c",
   "metadata": {
    "papermill": {
     "duration": 0.042347,
     "end_time": "2022-11-10T10:12:52.376066",
     "exception": false,
     "start_time": "2022-11-10T10:12:52.333719",
     "status": "completed"
    },
    "tags": []
   },
   "source": [
    "#### Plotting the outputs of this layer of the NN.\n"
   ]
  },
  {
   "cell_type": "code",
   "execution_count": 25,
   "id": "45eb2ff5",
   "metadata": {
    "execution": {
     "iopub.execute_input": "2022-11-10T10:12:52.465254Z",
     "iopub.status.busy": "2022-11-10T10:12:52.464649Z",
     "iopub.status.idle": "2022-11-10T10:12:52.485467Z",
     "shell.execute_reply": "2022-11-10T10:12:52.485962Z"
    },
    "papermill": {
     "duration": 0.068389,
     "end_time": "2022-11-10T10:12:52.486105",
     "exception": false,
     "start_time": "2022-11-10T10:12:52.417716",
     "status": "completed"
    },
    "tags": []
   },
   "outputs": [],
   "source": [
    "new_model = Model(layers[:-2])\n",
    "testing_plot = new_model(testing_data_x)"
   ]
  },
  {
   "cell_type": "code",
   "execution_count": 26,
   "id": "4c0a5485",
   "metadata": {
    "execution": {
     "iopub.execute_input": "2022-11-10T10:12:52.580533Z",
     "iopub.status.busy": "2022-11-10T10:12:52.579951Z",
     "iopub.status.idle": "2022-11-10T10:12:52.785762Z",
     "shell.execute_reply": "2022-11-10T10:12:52.786203Z"
    },
    "papermill": {
     "duration": 0.258061,
     "end_time": "2022-11-10T10:12:52.786355",
     "exception": false,
     "start_time": "2022-11-10T10:12:52.528294",
     "status": "completed"
    },
    "tags": []
   },
   "outputs": [
    {
     "data": {
      "text/plain": [
       "Text(0.5, 1.0, 'Outputs')"
      ]
     },
     "execution_count": 26,
     "metadata": {},
     "output_type": "execute_result"
    },
    {
     "data": {
      "image/png": "[encoded data removed]",
      "text/plain": [
       "<Figure size 576x504 with 1 Axes>"
      ]
     },
     "metadata": {
      "needs_background": "light"
     },
     "output_type": "display_data"
    }
   ],
   "source": [
    "# Plotting the scatter plot of points and color coding by class\n",
    "plt.figure(figsize=(8,7))\n",
    "plt.scatter(testing_plot[:,0], testing_plot[:,1], alpha = 0.1, c = y_test.ravel());\n",
    "plt.title('Outputs')"
   ]
  },
  {
   "cell_type": "markdown",
   "id": "a74fcf8f",
   "metadata": {
    "papermill": {
     "duration": 0.044134,
     "end_time": "2022-11-10T10:12:52.875133",
     "exception": false,
     "start_time": "2022-11-10T10:12:52.830999",
     "status": "completed"
    },
    "tags": []
   },
   "source": [
    "Probability contours"
   ]
  },
  {
   "cell_type": "code",
   "execution_count": 27,
   "id": "d0afc8e3",
   "metadata": {
    "execution": {
     "iopub.execute_input": "2022-11-10T10:12:53.005470Z",
     "iopub.status.busy": "2022-11-10T10:12:53.004150Z",
     "iopub.status.idle": "2022-11-10T10:12:53.012838Z",
     "shell.execute_reply": "2022-11-10T10:12:53.013296Z"
    },
    "papermill": {
     "duration": 0.094069,
     "end_time": "2022-11-10T10:12:53.013426",
     "exception": false,
     "start_time": "2022-11-10T10:12:52.919357",
     "status": "completed"
    },
    "tags": []
   },
   "outputs": [],
   "source": [
    "model_prob = Model(layers[-2:]) "
   ]
  },
  {
   "cell_type": "code",
   "execution_count": 28,
   "id": "9b96e238",
   "metadata": {
    "execution": {
     "iopub.execute_input": "2022-11-10T10:12:53.121974Z",
     "iopub.status.busy": "2022-11-10T10:12:53.119719Z",
     "iopub.status.idle": "2022-11-10T10:12:53.124421Z",
     "shell.execute_reply": "2022-11-10T10:12:53.124962Z"
    },
    "papermill": {
     "duration": 0.06704,
     "end_time": "2022-11-10T10:12:53.125093",
     "exception": false,
     "start_time": "2022-11-10T10:12:53.058053",
     "status": "completed"
    },
    "tags": []
   },
   "outputs": [],
   "source": [
    "#creating the x and y ranges according to the above generated plot.\n",
    "x_range = np.linspace(-4, 1, 100) \n",
    "y_range = np.linspace(-6, 6, 100) \n",
    "x_grid, y_grid = np.meshgrid(x_range, y_range) # x_grid and y_grig are of size 100 X 100\n",
    "\n",
    "# converting x_grid and y_grid to continuous arrays\n",
    "x_gridflat = np.ravel(x_grid)\n",
    "y_gridflat = np.ravel(y_grid)\n",
    "\n",
    "# The last layer of the current model takes two columns as input. Hence transpose of np.vstack() is required.\n",
    "X = np.vstack((x_gridflat, y_gridflat)).T\n",
    "\n",
    "prob_contour = model_prob(X).reshape(100,100) "
   ]
  },
  {
   "cell_type": "code",
   "execution_count": 29,
   "id": "da72499a",
   "metadata": {
    "execution": {
     "iopub.execute_input": "2022-11-10T10:12:53.226046Z",
     "iopub.status.busy": "2022-11-10T10:12:53.225432Z",
     "iopub.status.idle": "2022-11-10T10:12:53.461760Z",
     "shell.execute_reply": "2022-11-10T10:12:53.462274Z"
    },
    "papermill": {
     "duration": 0.292765,
     "end_time": "2022-11-10T10:12:53.462429",
     "exception": false,
     "start_time": "2022-11-10T10:12:53.169664",
     "status": "completed"
    },
    "tags": []
   },
   "outputs": [
    {
     "data": {
      "image/png": "[encoded data removed]",
      "text/plain": [
       "<Figure size 720x648 with 1 Axes>"
      ]
     },
     "metadata": {
      "needs_background": "light"
     },
     "output_type": "display_data"
    }
   ],
   "source": [
    "plt.figure(figsize=(10,9))\n",
    "plt.scatter(testing_plot[:,0], testing_plot[:,1], alpha = 0.1, c = y_test.ravel())\n",
    "contours = plt.contour(x_grid,y_grid,prob_contour)\n",
    "plt.title('Probability Contours')\n",
    "plt.clabel(contours, inline = True );"
   ]
  },
  {
   "cell_type": "code",
   "execution_count": null,
   "id": "e81b4ac7",
   "metadata": {
    "papermill": {
     "duration": 0.046135,
     "end_time": "2022-11-10T10:12:53.555601",
     "exception": false,
     "start_time": "2022-11-10T10:12:53.509466",
     "status": "completed"
    },
    "tags": []
   },
   "outputs": [],
   "source": []
  }
 ],
 "metadata": {
  "kernelspec": {
   "display_name": "Python 3",
   "language": "python",
   "name": "python3"
  },
  "language_info": {
   "codemirror_mode": {
    "name": "ipython",
    "version": 3
   },
   "file_extension": ".py",
   "mimetype": "text/x-python",
   "name": "python",
   "nbconvert_exporter": "python",
   "pygments_lexer": "ipython3",
   "version": "3.6.15"
  },
  "papermill": {
   "default_parameters": {},
   "duration": 99.020144,
   "end_time": "2022-11-10T10:12:54.022035",
   "environment_variables": {},
   "exception": null,
   "input_path": "2020-08-11-part2.ipynb",
   "output_path": "2020-08-11-part2.ipynb",
   "parameters": {},
   "start_time": "2022-11-10T10:11:15.001891",
   "version": "2.3.3"
  }
 },
 "nbformat": 4,
 "nbformat_minor": 5
}