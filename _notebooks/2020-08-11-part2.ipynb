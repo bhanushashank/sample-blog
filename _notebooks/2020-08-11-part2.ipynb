{
 "cells": [
  {
   "cell_type": "markdown",
   "id": "98380cd3",
   "metadata": {
    "papermill": {
     "duration": 0.025739,
     "end_time": "2022-04-12T00:30:54.932687",
     "exception": false,
     "start_time": "2022-04-12T00:30:54.906948",
     "status": "completed"
    },
    "tags": []
   },
   "source": [
    "# Distinguish Your Own Digits (DYOD)"
   ]
  },
  {
   "cell_type": "markdown",
   "id": "ef31240d",
   "metadata": {
    "papermill": {
     "duration": 0.022938,
     "end_time": "2022-04-12T00:30:54.977851",
     "exception": false,
     "start_time": "2022-04-12T00:30:54.954913",
     "status": "completed"
    },
    "tags": []
   },
   "source": [
    "You are going to write a classifier that distinguishes between the number 3 and number 8."
   ]
  },
  {
   "cell_type": "code",
   "execution_count": 1,
   "id": "b15c8646",
   "metadata": {
    "execution": {
     "iopub.execute_input": "2022-04-12T00:30:55.031582Z",
     "iopub.status.busy": "2022-04-12T00:30:55.031084Z",
     "iopub.status.idle": "2022-04-12T00:30:55.040673Z",
     "shell.execute_reply": "2022-04-12T00:30:55.041087Z"
    },
    "papermill": {
     "duration": 0.041997,
     "end_time": "2022-04-12T00:30:55.041232",
     "exception": false,
     "start_time": "2022-04-12T00:30:54.999235",
     "status": "completed"
    },
    "tags": []
   },
   "outputs": [],
   "source": [
    "%load_ext autoreload\n",
    "%autoreload 2"
   ]
  },
  {
   "cell_type": "code",
   "execution_count": 2,
   "id": "22ef38dc",
   "metadata": {
    "execution": {
     "iopub.execute_input": "2022-04-12T00:30:55.088707Z",
     "iopub.status.busy": "2022-04-12T00:30:55.088248Z",
     "iopub.status.idle": "2022-04-12T00:30:55.577040Z",
     "shell.execute_reply": "2022-04-12T00:30:55.576478Z"
    },
    "papermill": {
     "duration": 0.5146,
     "end_time": "2022-04-12T00:30:55.577193",
     "exception": false,
     "start_time": "2022-04-12T00:30:55.062593",
     "status": "completed"
    },
    "tags": []
   },
   "outputs": [],
   "source": [
    "%matplotlib inline\n",
    "import numpy as np\n",
    "import matplotlib.pyplot as plt\n",
    "import pandas as pd"
   ]
  },
  {
   "cell_type": "markdown",
   "id": "ba036198",
   "metadata": {
    "papermill": {
     "duration": 0.021302,
     "end_time": "2022-04-12T00:30:55.621398",
     "exception": false,
     "start_time": "2022-04-12T00:30:55.600096",
     "status": "completed"
    },
    "tags": []
   },
   "source": [
    "From the command line run `pip install mnist`. This is a library that will help you bring down the mnist dataset. If you run this from a notebook, you need to put  `!pip install mnist` in a cell by itself."
   ]
  },
  {
   "cell_type": "code",
   "execution_count": 3,
   "id": "bb6ad8a1",
   "metadata": {
    "execution": {
     "iopub.execute_input": "2022-04-12T00:30:55.670060Z",
     "iopub.status.busy": "2022-04-12T00:30:55.669605Z",
     "iopub.status.idle": "2022-04-12T00:30:57.249784Z",
     "shell.execute_reply": "2022-04-12T00:30:57.250647Z"
    },
    "papermill": {
     "duration": 1.608009,
     "end_time": "2022-04-12T00:30:57.250828",
     "exception": false,
     "start_time": "2022-04-12T00:30:55.642819",
     "status": "completed"
    },
    "tags": []
   },
   "outputs": [
    {
     "name": "stdout",
     "output_type": "stream",
     "text": [
      "Collecting mnist\r\n",
      "  Downloading mnist-0.2.2-py2.py3-none-any.whl (3.5 kB)\r\n",
      "Requirement already satisfied: numpy in /opt/hostedtoolcache/Python/3.6.15/x64/lib/python3.6/site-packages (from mnist) (1.19.5)\r\n"
     ]
    },
    {
     "name": "stdout",
     "output_type": "stream",
     "text": [
      "Installing collected packages: mnist\r\n"
     ]
    },
    {
     "name": "stdout",
     "output_type": "stream",
     "text": [
      "Successfully installed mnist-0.2.2\r\n"
     ]
    }
   ],
   "source": [
    "!pip install mnist"
   ]
  },
  {
   "cell_type": "markdown",
   "id": "69df9c9a",
   "metadata": {
    "papermill": {
     "duration": 0.022176,
     "end_time": "2022-04-12T00:30:57.296193",
     "exception": false,
     "start_time": "2022-04-12T00:30:57.274017",
     "status": "completed"
    },
    "tags": []
   },
   "source": [
    "## Preparing the Data"
   ]
  },
  {
   "cell_type": "code",
   "execution_count": 4,
   "id": "7f69d806",
   "metadata": {
    "execution": {
     "iopub.execute_input": "2022-04-12T00:30:57.344019Z",
     "iopub.status.busy": "2022-04-12T00:30:57.343555Z",
     "iopub.status.idle": "2022-04-12T00:30:57.356635Z",
     "shell.execute_reply": "2022-04-12T00:30:57.357040Z"
    },
    "papermill": {
     "duration": 0.039164,
     "end_time": "2022-04-12T00:30:57.357177",
     "exception": false,
     "start_time": "2022-04-12T00:30:57.318013",
     "status": "completed"
    },
    "tags": []
   },
   "outputs": [],
   "source": [
    "import mnist"
   ]
  },
  {
   "cell_type": "code",
   "execution_count": 5,
   "id": "a411e44f",
   "metadata": {
    "execution": {
     "iopub.execute_input": "2022-04-12T00:30:57.409428Z",
     "iopub.status.busy": "2022-04-12T00:30:57.408972Z",
     "iopub.status.idle": "2022-04-12T00:30:57.959486Z",
     "shell.execute_reply": "2022-04-12T00:30:57.959978Z"
    },
    "papermill": {
     "duration": 0.581023,
     "end_time": "2022-04-12T00:30:57.960161",
     "exception": false,
     "start_time": "2022-04-12T00:30:57.379138",
     "status": "completed"
    },
    "tags": []
   },
   "outputs": [],
   "source": [
    "train_images = mnist.train_images()\n",
    "train_labels = mnist.train_labels()"
   ]
  },
  {
   "cell_type": "code",
   "execution_count": 6,
   "id": "dceab3a5",
   "metadata": {
    "execution": {
     "iopub.execute_input": "2022-04-12T00:30:58.012183Z",
     "iopub.status.busy": "2022-04-12T00:30:58.011735Z",
     "iopub.status.idle": "2022-04-12T00:30:58.026461Z",
     "shell.execute_reply": "2022-04-12T00:30:58.026092Z"
    },
    "papermill": {
     "duration": 0.042228,
     "end_time": "2022-04-12T00:30:58.026561",
     "exception": false,
     "start_time": "2022-04-12T00:30:57.984333",
     "status": "completed"
    },
    "tags": []
   },
   "outputs": [
    {
     "data": {
      "text/plain": [
       "((60000, 28, 28), (60000,))"
      ]
     },
     "execution_count": 6,
     "metadata": {},
     "output_type": "execute_result"
    }
   ],
   "source": [
    "train_images.shape, train_labels.shape"
   ]
  },
  {
   "cell_type": "code",
   "execution_count": 7,
   "id": "f50dc2bb",
   "metadata": {
    "execution": {
     "iopub.execute_input": "2022-04-12T00:30:58.074873Z",
     "iopub.status.busy": "2022-04-12T00:30:58.074420Z",
     "iopub.status.idle": "2022-04-12T00:30:58.248736Z",
     "shell.execute_reply": "2022-04-12T00:30:58.248199Z"
    },
    "papermill": {
     "duration": 0.200191,
     "end_time": "2022-04-12T00:30:58.248907",
     "exception": false,
     "start_time": "2022-04-12T00:30:58.048716",
     "status": "completed"
    },
    "tags": []
   },
   "outputs": [],
   "source": [
    "test_images = mnist.test_images()\n",
    "test_labels = mnist.test_labels()"
   ]
  },
  {
   "cell_type": "code",
   "execution_count": 8,
   "id": "fc38cf1b",
   "metadata": {
    "execution": {
     "iopub.execute_input": "2022-04-12T00:30:58.297821Z",
     "iopub.status.busy": "2022-04-12T00:30:58.297366Z",
     "iopub.status.idle": "2022-04-12T00:30:58.310557Z",
     "shell.execute_reply": "2022-04-12T00:30:58.310195Z"
    },
    "papermill": {
     "duration": 0.038096,
     "end_time": "2022-04-12T00:30:58.310657",
     "exception": false,
     "start_time": "2022-04-12T00:30:58.272561",
     "status": "completed"
    },
    "tags": []
   },
   "outputs": [
    {
     "data": {
      "text/plain": [
       "((10000, 28, 28), (10000,))"
      ]
     },
     "execution_count": 8,
     "metadata": {},
     "output_type": "execute_result"
    }
   ],
   "source": [
    "test_images.shape, test_labels.shape"
   ]
  },
  {
   "cell_type": "code",
   "execution_count": 9,
   "id": "f9ed8fe0",
   "metadata": {
    "execution": {
     "iopub.execute_input": "2022-04-12T00:30:58.360338Z",
     "iopub.status.busy": "2022-04-12T00:30:58.359851Z",
     "iopub.status.idle": "2022-04-12T00:30:58.483209Z",
     "shell.execute_reply": "2022-04-12T00:30:58.483840Z"
    },
    "papermill": {
     "duration": 0.150747,
     "end_time": "2022-04-12T00:30:58.483995",
     "exception": false,
     "start_time": "2022-04-12T00:30:58.333248",
     "status": "completed"
    },
    "tags": []
   },
   "outputs": [
    {
     "name": "stdout",
     "output_type": "stream",
     "text": [
      "2\n"
     ]
    },
    {
     "data": {
      "text/plain": [
       "<matplotlib.image.AxesImage at 0x7f5f1f4c1358>"
      ]
     },
     "execution_count": 9,
     "metadata": {},
     "output_type": "execute_result"
    },
    {
     "data": {
      "image/png": "[encoded data removed]",
      "text/plain": [
       "<Figure size 432x288 with 1 Axes>"
      ]
     },
     "metadata": {
      "needs_background": "light"
     },
     "output_type": "display_data"
    }
   ],
   "source": [
    "image_index = 7776 # You may select anything up to 60,000\n",
    "print(train_labels[image_index]) \n",
    "plt.imshow(train_images[image_index], cmap='Greys')"
   ]
  },
  {
   "cell_type": "markdown",
   "id": "a8d2388d",
   "metadata": {
    "papermill": {
     "duration": 0.023317,
     "end_time": "2022-04-12T00:30:58.531392",
     "exception": false,
     "start_time": "2022-04-12T00:30:58.508075",
     "status": "completed"
    },
    "tags": []
   },
   "source": [
    "## Filter data to get 3 and 8 out"
   ]
  },
  {
   "cell_type": "code",
   "execution_count": 10,
   "id": "776f7fc7",
   "metadata": {
    "execution": {
     "iopub.execute_input": "2022-04-12T00:30:58.593658Z",
     "iopub.status.busy": "2022-04-12T00:30:58.587982Z",
     "iopub.status.idle": "2022-04-12T00:30:58.602212Z",
     "shell.execute_reply": "2022-04-12T00:30:58.602553Z"
    },
    "papermill": {
     "duration": 0.047785,
     "end_time": "2022-04-12T00:30:58.602676",
     "exception": false,
     "start_time": "2022-04-12T00:30:58.554891",
     "status": "completed"
    },
    "tags": []
   },
   "outputs": [],
   "source": [
    "train_filter = np.where((train_labels == 3 ) | (train_labels == 8))\n",
    "test_filter = np.where((test_labels == 3) | (test_labels == 8))\n",
    "X_train, y_train = train_images[train_filter], train_labels[train_filter]\n",
    "X_test, y_test = test_images[test_filter], test_labels[test_filter]"
   ]
  },
  {
   "cell_type": "markdown",
   "id": "948f0b7e",
   "metadata": {
    "papermill": {
     "duration": 0.022963,
     "end_time": "2022-04-12T00:30:58.649104",
     "exception": false,
     "start_time": "2022-04-12T00:30:58.626141",
     "status": "completed"
    },
    "tags": []
   },
   "source": [
    "We normalize the pizel values in the 0 to 1 range"
   ]
  },
  {
   "cell_type": "code",
   "execution_count": 11,
   "id": "ee4c2166",
   "metadata": {
    "execution": {
     "iopub.execute_input": "2022-04-12T00:30:58.706120Z",
     "iopub.status.busy": "2022-04-12T00:30:58.705668Z",
     "iopub.status.idle": "2022-04-12T00:30:58.745018Z",
     "shell.execute_reply": "2022-04-12T00:30:58.745503Z"
    },
    "papermill": {
     "duration": 0.07338,
     "end_time": "2022-04-12T00:30:58.745677",
     "exception": false,
     "start_time": "2022-04-12T00:30:58.672297",
     "status": "completed"
    },
    "tags": []
   },
   "outputs": [],
   "source": [
    "X_train = X_train/255.\n",
    "X_test = X_test/255."
   ]
  },
  {
   "cell_type": "markdown",
   "id": "ddcf4fab",
   "metadata": {
    "papermill": {
     "duration": 0.023387,
     "end_time": "2022-04-12T00:30:58.793938",
     "exception": false,
     "start_time": "2022-04-12T00:30:58.770551",
     "status": "completed"
    },
    "tags": []
   },
   "source": [
    "And setup the labels as 1 (when the digit is 3) and 0 (when the digit is 8)"
   ]
  },
  {
   "cell_type": "code",
   "execution_count": 12,
   "id": "7dc908f2",
   "metadata": {
    "execution": {
     "iopub.execute_input": "2022-04-12T00:30:58.850981Z",
     "iopub.status.busy": "2022-04-12T00:30:58.843626Z",
     "iopub.status.idle": "2022-04-12T00:30:58.857967Z",
     "shell.execute_reply": "2022-04-12T00:30:58.858336Z"
    },
    "papermill": {
     "duration": 0.041057,
     "end_time": "2022-04-12T00:30:58.858455",
     "exception": false,
     "start_time": "2022-04-12T00:30:58.817398",
     "status": "completed"
    },
    "tags": []
   },
   "outputs": [],
   "source": [
    "y_train = 1*(y_train==3)\n",
    "y_test = 1*(y_test==3)"
   ]
  },
  {
   "cell_type": "code",
   "execution_count": 13,
   "id": "01e4e969",
   "metadata": {
    "execution": {
     "iopub.execute_input": "2022-04-12T00:30:58.909936Z",
     "iopub.status.busy": "2022-04-12T00:30:58.909484Z",
     "iopub.status.idle": "2022-04-12T00:30:58.920653Z",
     "shell.execute_reply": "2022-04-12T00:30:58.921014Z"
    },
    "papermill": {
     "duration": 0.039289,
     "end_time": "2022-04-12T00:30:58.921129",
     "exception": false,
     "start_time": "2022-04-12T00:30:58.881840",
     "status": "completed"
    },
    "tags": []
   },
   "outputs": [
    {
     "data": {
      "text/plain": [
       "((11982, 28, 28), (1984, 28, 28))"
      ]
     },
     "execution_count": 13,
     "metadata": {},
     "output_type": "execute_result"
    }
   ],
   "source": [
    "X_train.shape, X_test.shape"
   ]
  },
  {
   "cell_type": "markdown",
   "id": "5ccf3f85",
   "metadata": {
    "papermill": {
     "duration": 0.023476,
     "end_time": "2022-04-12T00:30:58.968292",
     "exception": false,
     "start_time": "2022-04-12T00:30:58.944816",
     "status": "completed"
    },
    "tags": []
   },
   "source": [
    "We reshape the data to flatten the image pixels into a set of features or co-variates:"
   ]
  },
  {
   "cell_type": "code",
   "execution_count": 14,
   "id": "5286a4a3",
   "metadata": {
    "execution": {
     "iopub.execute_input": "2022-04-12T00:30:59.018910Z",
     "iopub.status.busy": "2022-04-12T00:30:59.018453Z",
     "iopub.status.idle": "2022-04-12T00:30:59.031939Z",
     "shell.execute_reply": "2022-04-12T00:30:59.031557Z"
    },
    "papermill": {
     "duration": 0.040192,
     "end_time": "2022-04-12T00:30:59.032032",
     "exception": false,
     "start_time": "2022-04-12T00:30:58.991840",
     "status": "completed"
    },
    "tags": []
   },
   "outputs": [
    {
     "data": {
      "text/plain": [
       "((11982, 784), (1984, 784))"
      ]
     },
     "execution_count": 14,
     "metadata": {},
     "output_type": "execute_result"
    }
   ],
   "source": [
    "X_train = X_train.reshape(X_train.shape[0], -1)\n",
    "X_test = X_test.reshape(X_test.shape[0], -1)\n",
    "X_train.shape, X_test.shape"
   ]
  },
  {
   "cell_type": "code",
   "execution_count": 15,
   "id": "73c5f88a",
   "metadata": {
    "execution": {
     "iopub.execute_input": "2022-04-12T00:30:59.086510Z",
     "iopub.status.busy": "2022-04-12T00:30:59.086044Z",
     "iopub.status.idle": "2022-04-12T00:30:59.102037Z",
     "shell.execute_reply": "2022-04-12T00:30:59.102390Z"
    },
    "papermill": {
     "duration": 0.046588,
     "end_time": "2022-04-12T00:30:59.102511",
     "exception": false,
     "start_time": "2022-04-12T00:30:59.055923",
     "status": "completed"
    },
    "tags": []
   },
   "outputs": [],
   "source": [
    "#Impoting functions from 'Kudzu'\n",
    "from kudzu.model import Model\n",
    "from kudzu.train import Learner\n",
    "from kudzu.optim import GD\n",
    "from kudzu.data import Data, Sampler,Dataloader\n",
    "\n",
    "from kudzu.callbacks import AccCallback\n",
    "from kudzu.callbacks import ClfCallback\n",
    "\n",
    "from kudzu.loss import MSE\n",
    "\n",
    "from kudzu.layer import Sigmoid,Relu\n",
    "from kudzu.layer import Affine"
   ]
  },
  {
   "cell_type": "markdown",
   "id": "bc01172a",
   "metadata": {
    "papermill": {
     "duration": 0.023956,
     "end_time": "2022-04-12T00:30:59.150651",
     "exception": false,
     "start_time": "2022-04-12T00:30:59.126695",
     "status": "completed"
    },
    "tags": []
   },
   "source": [
    "### Let us create a `Config` class, to store important parameters. \n",
    "This class essentially plays the role of a dictionary."
   ]
  },
  {
   "cell_type": "code",
   "execution_count": 16,
   "id": "978281aa",
   "metadata": {
    "execution": {
     "iopub.execute_input": "2022-04-12T00:30:59.202498Z",
     "iopub.status.busy": "2022-04-12T00:30:59.202039Z",
     "iopub.status.idle": "2022-04-12T00:30:59.213618Z",
     "shell.execute_reply": "2022-04-12T00:30:59.214057Z"
    },
    "papermill": {
     "duration": 0.039568,
     "end_time": "2022-04-12T00:30:59.214172",
     "exception": false,
     "start_time": "2022-04-12T00:30:59.174604",
     "status": "completed"
    },
    "tags": []
   },
   "outputs": [],
   "source": [
    "class Config:\n",
    "    pass\n",
    "config = Config()\n",
    "config.lr = 0.001\n",
    "config.num_epochs = 250\n",
    "config.bs = 50"
   ]
  },
  {
   "cell_type": "markdown",
   "id": "1385fa59",
   "metadata": {
    "papermill": {
     "duration": 0.023694,
     "end_time": "2022-04-12T00:30:59.261710",
     "exception": false,
     "start_time": "2022-04-12T00:30:59.238016",
     "status": "completed"
    },
    "tags": []
   },
   "source": [
    "### Running Models with the Training data\n",
    "Details about the network layers:\n",
    "- A first affine layer has 784 inputs and does 100 affine transforms. These are followed by a Relu\n",
    "- A second affine layer has 100 inputs from the 100 activations of the past layer, and does 100 affine transforms. These are followed by a Relu\n",
    "- A third affine layer has 100 activations and does 2 affine transformations to create an embedding for visualization. There is no non-linearity here.\n",
    "- A final \"logistic regression\" which has an affine transform from 2 inputs to 1 output, which is squeezed through a sigmoid.\n"
   ]
  },
  {
   "cell_type": "code",
   "execution_count": 17,
   "id": "2b9c66db",
   "metadata": {
    "execution": {
     "iopub.execute_input": "2022-04-12T00:30:59.316047Z",
     "iopub.status.busy": "2022-04-12T00:30:59.315575Z",
     "iopub.status.idle": "2022-04-12T00:30:59.326072Z",
     "shell.execute_reply": "2022-04-12T00:30:59.326488Z"
    },
    "papermill": {
     "duration": 0.041106,
     "end_time": "2022-04-12T00:30:59.326602",
     "exception": false,
     "start_time": "2022-04-12T00:30:59.285496",
     "status": "completed"
    },
    "tags": []
   },
   "outputs": [],
   "source": [
    "data = Data(X_train, y_train.reshape(-1,1))\n",
    "sampler = Sampler(data, config.bs, shuffle=True)\n",
    "\n",
    "dl = Dataloader(data, sampler)\n",
    "\n",
    "opt = GD(config.lr)\n",
    "loss = MSE()"
   ]
  },
  {
   "cell_type": "code",
   "execution_count": 18,
   "id": "b275e4c2",
   "metadata": {
    "execution": {
     "iopub.execute_input": "2022-04-12T00:30:59.377472Z",
     "iopub.status.busy": "2022-04-12T00:30:59.376989Z",
     "iopub.status.idle": "2022-04-12T00:30:59.388735Z",
     "shell.execute_reply": "2022-04-12T00:30:59.389094Z"
    },
    "papermill": {
     "duration": 0.038946,
     "end_time": "2022-04-12T00:30:59.389211",
     "exception": false,
     "start_time": "2022-04-12T00:30:59.350265",
     "status": "completed"
    },
    "tags": []
   },
   "outputs": [],
   "source": [
    "training_data_x = X_train\n",
    "testing_data_x = X_test\n",
    "training_data_y = y_train.reshape(-1,1)\n",
    "testing_data_y = y_test.reshape(-1,1)"
   ]
  },
  {
   "cell_type": "code",
   "execution_count": 19,
   "id": "76951160",
   "metadata": {
    "execution": {
     "iopub.execute_input": "2022-04-12T00:30:59.440768Z",
     "iopub.status.busy": "2022-04-12T00:30:59.440305Z",
     "iopub.status.idle": "2022-04-12T00:30:59.455228Z",
     "shell.execute_reply": "2022-04-12T00:30:59.454865Z"
    },
    "papermill": {
     "duration": 0.042551,
     "end_time": "2022-04-12T00:30:59.455327",
     "exception": false,
     "start_time": "2022-04-12T00:30:59.412776",
     "status": "completed"
    },
    "tags": []
   },
   "outputs": [
    {
     "name": "stdout",
     "output_type": "stream",
     "text": [
      "xavier\n",
      "xavier\n",
      "xavier\n",
      "xavier\n",
      "xavier\n"
     ]
    }
   ],
   "source": [
    "layers = [Affine(\"first\", 784, 100), Relu(\"first\"), Affine(\"second\", 100, 100), Relu(\"second\"), Affine(\"third\", 100, 2), Affine(\"last\", 2, 1), Sigmoid(\"last\")]\n",
    "model_nn = Model(layers)\n",
    "model_lr = Model([Affine(\"logits\", 784, 1), Sigmoid(\"sigmoid\")])"
   ]
  },
  {
   "cell_type": "code",
   "execution_count": 20,
   "id": "6eede77a",
   "metadata": {
    "execution": {
     "iopub.execute_input": "2022-04-12T00:30:59.517886Z",
     "iopub.status.busy": "2022-04-12T00:30:59.515333Z",
     "iopub.status.idle": "2022-04-12T00:30:59.522576Z",
     "shell.execute_reply": "2022-04-12T00:30:59.522193Z"
    },
    "papermill": {
     "duration": 0.043195,
     "end_time": "2022-04-12T00:30:59.522671",
     "exception": false,
     "start_time": "2022-04-12T00:30:59.479476",
     "status": "completed"
    },
    "tags": []
   },
   "outputs": [],
   "source": [
    "nn_learner = Learner(loss, model_nn, opt, config.num_epochs)\n",
    "acc_nn = ClfCallback(nn_learner, config.bs, training_data_x , testing_data_x, training_data_y, testing_data_y)\n",
    "nn_learner.set_callbacks([acc_nn])"
   ]
  },
  {
   "cell_type": "code",
   "execution_count": 21,
   "id": "877b6cc7",
   "metadata": {
    "execution": {
     "iopub.execute_input": "2022-04-12T00:30:59.584454Z",
     "iopub.status.busy": "2022-04-12T00:30:59.577442Z",
     "iopub.status.idle": "2022-04-12T00:30:59.587451Z",
     "shell.execute_reply": "2022-04-12T00:30:59.587810Z"
    },
    "papermill": {
     "duration": 0.041124,
     "end_time": "2022-04-12T00:30:59.587915",
     "exception": false,
     "start_time": "2022-04-12T00:30:59.546791",
     "status": "completed"
    },
    "tags": []
   },
   "outputs": [],
   "source": [
    "lr_learner = Learner(loss, model_lr, opt, config.num_epochs)\n",
    "acc_lr = ClfCallback(lr_learner, config.bs, training_data_x , testing_data_x, training_data_y, testing_data_y)\n",
    "lr_learner.set_callbacks([acc_lr])"
   ]
  },
  {
   "cell_type": "code",
   "execution_count": 22,
   "id": "d9b133c3",
   "metadata": {
    "execution": {
     "iopub.execute_input": "2022-04-12T00:30:59.643833Z",
     "iopub.status.busy": "2022-04-12T00:30:59.641478Z",
     "iopub.status.idle": "2022-04-12T00:32:14.454615Z",
     "shell.execute_reply": "2022-04-12T00:32:14.455286Z"
    },
    "papermill": {
     "duration": 74.843529,
     "end_time": "2022-04-12T00:32:14.455440",
     "exception": false,
     "start_time": "2022-04-12T00:30:59.611911",
     "status": "completed"
    },
    "tags": []
   },
   "outputs": [
    {
     "name": "stdout",
     "output_type": "stream",
     "text": [
      "Epoch 0, Loss 0.2476\n",
      "Training Accuracy: 0.6093, Testing Accuracy: 0.6295\n",
      "\n"
     ]
    },
    {
     "name": "stdout",
     "output_type": "stream",
     "text": [
      "Epoch 10, Loss 0.2263\n",
      "Training Accuracy: 0.8275, Testing Accuracy: 0.8417\n",
      "\n"
     ]
    },
    {
     "name": "stdout",
     "output_type": "stream",
     "text": [
      "Epoch 20, Loss 0.1483\n",
      "Training Accuracy: 0.8799, Testing Accuracy: 0.8931\n",
      "\n"
     ]
    },
    {
     "name": "stdout",
     "output_type": "stream",
     "text": [
      "Epoch 30, Loss 0.0787\n",
      "Training Accuracy: 0.9198, Testing Accuracy: 0.9294\n",
      "\n"
     ]
    },
    {
     "name": "stdout",
     "output_type": "stream",
     "text": [
      "Epoch 40, Loss 0.0548\n",
      "Training Accuracy: 0.9417, Testing Accuracy: 0.9471\n",
      "\n"
     ]
    },
    {
     "name": "stdout",
     "output_type": "stream",
     "text": [
      "Epoch 50, Loss 0.0443\n",
      "Training Accuracy: 0.9500, Testing Accuracy: 0.9551\n",
      "\n"
     ]
    },
    {
     "name": "stdout",
     "output_type": "stream",
     "text": [
      "Epoch 60, Loss 0.0386\n",
      "Training Accuracy: 0.9559, Testing Accuracy: 0.9607\n",
      "\n"
     ]
    },
    {
     "name": "stdout",
     "output_type": "stream",
     "text": [
      "Epoch 70, Loss 0.035\n",
      "Training Accuracy: 0.9595, Testing Accuracy: 0.9647\n",
      "\n"
     ]
    },
    {
     "name": "stdout",
     "output_type": "stream",
     "text": [
      "Epoch 80, Loss 0.0325\n",
      "Training Accuracy: 0.9624, Testing Accuracy: 0.9647\n",
      "\n"
     ]
    },
    {
     "name": "stdout",
     "output_type": "stream",
     "text": [
      "Epoch 90, Loss 0.0306\n",
      "Training Accuracy: 0.9657, Testing Accuracy: 0.9667\n",
      "\n"
     ]
    },
    {
     "name": "stdout",
     "output_type": "stream",
     "text": [
      "Epoch 100, Loss 0.0291\n",
      "Training Accuracy: 0.9670, Testing Accuracy: 0.9698\n",
      "\n"
     ]
    },
    {
     "name": "stdout",
     "output_type": "stream",
     "text": [
      "Epoch 110, Loss 0.0278\n",
      "Training Accuracy: 0.9687, Testing Accuracy: 0.9703\n",
      "\n"
     ]
    },
    {
     "name": "stdout",
     "output_type": "stream",
     "text": [
      "Epoch 120, Loss 0.0267\n",
      "Training Accuracy: 0.9695, Testing Accuracy: 0.9708\n",
      "\n"
     ]
    },
    {
     "name": "stdout",
     "output_type": "stream",
     "text": [
      "Epoch 130, Loss 0.0257\n",
      "Training Accuracy: 0.9704, Testing Accuracy: 0.9718\n",
      "\n"
     ]
    },
    {
     "name": "stdout",
     "output_type": "stream",
     "text": [
      "Epoch 140, Loss 0.0249\n",
      "Training Accuracy: 0.9721, Testing Accuracy: 0.9718\n",
      "\n"
     ]
    },
    {
     "name": "stdout",
     "output_type": "stream",
     "text": [
      "Epoch 150, Loss 0.0241\n",
      "Training Accuracy: 0.9734, Testing Accuracy: 0.9728\n",
      "\n"
     ]
    },
    {
     "name": "stdout",
     "output_type": "stream",
     "text": [
      "Epoch 160, Loss 0.0234\n",
      "Training Accuracy: 0.9739, Testing Accuracy: 0.9728\n",
      "\n"
     ]
    },
    {
     "name": "stdout",
     "output_type": "stream",
     "text": [
      "Epoch 170, Loss 0.0228\n",
      "Training Accuracy: 0.9742, Testing Accuracy: 0.9728\n",
      "\n"
     ]
    },
    {
     "name": "stdout",
     "output_type": "stream",
     "text": [
      "Epoch 180, Loss 0.0222\n",
      "Training Accuracy: 0.9744, Testing Accuracy: 0.9718\n",
      "\n"
     ]
    },
    {
     "name": "stdout",
     "output_type": "stream",
     "text": [
      "Epoch 190, Loss 0.0216\n",
      "Training Accuracy: 0.9751, Testing Accuracy: 0.9718\n",
      "\n"
     ]
    },
    {
     "name": "stdout",
     "output_type": "stream",
     "text": [
      "Epoch 200, Loss 0.0211\n",
      "Training Accuracy: 0.9758, Testing Accuracy: 0.9713\n",
      "\n"
     ]
    },
    {
     "name": "stdout",
     "output_type": "stream",
     "text": [
      "Epoch 210, Loss 0.0207\n",
      "Training Accuracy: 0.9765, Testing Accuracy: 0.9718\n",
      "\n"
     ]
    },
    {
     "name": "stdout",
     "output_type": "stream",
     "text": [
      "Epoch 220, Loss 0.0202\n",
      "Training Accuracy: 0.9770, Testing Accuracy: 0.9733\n",
      "\n"
     ]
    },
    {
     "name": "stdout",
     "output_type": "stream",
     "text": [
      "Epoch 230, Loss 0.0198\n",
      "Training Accuracy: 0.9775, Testing Accuracy: 0.9738\n",
      "\n"
     ]
    },
    {
     "name": "stdout",
     "output_type": "stream",
     "text": [
      "Epoch 240, Loss 0.0194\n",
      "Training Accuracy: 0.9783, Testing Accuracy: 0.9743\n",
      "\n"
     ]
    },
    {
     "data": {
      "text/plain": [
       "0.016006153222883387"
      ]
     },
     "execution_count": 22,
     "metadata": {},
     "output_type": "execute_result"
    }
   ],
   "source": [
    "nn_learner.train_loop(dl)"
   ]
  },
  {
   "cell_type": "code",
   "execution_count": 23,
   "id": "e0163366",
   "metadata": {
    "execution": {
     "iopub.execute_input": "2022-04-12T00:32:14.528006Z",
     "iopub.status.busy": "2022-04-12T00:32:14.527513Z",
     "iopub.status.idle": "2022-04-12T00:32:28.190437Z",
     "shell.execute_reply": "2022-04-12T00:32:28.191172Z"
    },
    "papermill": {
     "duration": 13.705085,
     "end_time": "2022-04-12T00:32:28.191326",
     "exception": false,
     "start_time": "2022-04-12T00:32:14.486241",
     "status": "completed"
    },
    "tags": []
   },
   "outputs": [
    {
     "name": "stdout",
     "output_type": "stream",
     "text": [
      "Epoch 0, Loss 0.2309\n",
      "Training Accuracy: 0.7189, Testing Accuracy: 0.7283\n",
      "\n"
     ]
    },
    {
     "name": "stdout",
     "output_type": "stream",
     "text": [
      "Epoch 10, Loss 0.1037\n",
      "Training Accuracy: 0.9033, Testing Accuracy: 0.9123\n",
      "\n"
     ]
    },
    {
     "name": "stdout",
     "output_type": "stream",
     "text": [
      "Epoch 20, Loss 0.0795\n",
      "Training Accuracy: 0.9248, Testing Accuracy: 0.9370\n",
      "\n"
     ]
    },
    {
     "name": "stdout",
     "output_type": "stream",
     "text": [
      "Epoch 30, Loss 0.0683\n",
      "Training Accuracy: 0.9346, Testing Accuracy: 0.9486\n",
      "\n"
     ]
    },
    {
     "name": "stdout",
     "output_type": "stream",
     "text": [
      "Epoch 40, Loss 0.0615\n",
      "Training Accuracy: 0.9406, Testing Accuracy: 0.9526\n",
      "\n"
     ]
    },
    {
     "name": "stdout",
     "output_type": "stream",
     "text": [
      "Epoch 50, Loss 0.0569\n",
      "Training Accuracy: 0.9438, Testing Accuracy: 0.9572\n",
      "\n"
     ]
    },
    {
     "name": "stdout",
     "output_type": "stream",
     "text": [
      "Epoch 60, Loss 0.0536\n",
      "Training Accuracy: 0.9470, Testing Accuracy: 0.9592\n",
      "\n"
     ]
    },
    {
     "name": "stdout",
     "output_type": "stream",
     "text": [
      "Epoch 70, Loss 0.051\n",
      "Training Accuracy: 0.9488, Testing Accuracy: 0.9612\n",
      "\n"
     ]
    },
    {
     "name": "stdout",
     "output_type": "stream",
     "text": [
      "Epoch 80, Loss 0.0489\n",
      "Training Accuracy: 0.9503, Testing Accuracy: 0.9622\n",
      "\n"
     ]
    },
    {
     "name": "stdout",
     "output_type": "stream",
     "text": [
      "Epoch 90, Loss 0.0472\n",
      "Training Accuracy: 0.9521, Testing Accuracy: 0.9627\n",
      "\n"
     ]
    },
    {
     "name": "stdout",
     "output_type": "stream",
     "text": [
      "Epoch 100, Loss 0.0458\n",
      "Training Accuracy: 0.9535, Testing Accuracy: 0.9632\n",
      "\n"
     ]
    },
    {
     "name": "stdout",
     "output_type": "stream",
     "text": [
      "Epoch 110, Loss 0.0446\n",
      "Training Accuracy: 0.9540, Testing Accuracy: 0.9637\n",
      "\n"
     ]
    },
    {
     "name": "stdout",
     "output_type": "stream",
     "text": [
      "Epoch 120, Loss 0.0435\n",
      "Training Accuracy: 0.9552, Testing Accuracy: 0.9652\n",
      "\n"
     ]
    },
    {
     "name": "stdout",
     "output_type": "stream",
     "text": [
      "Epoch 130, Loss 0.0426\n",
      "Training Accuracy: 0.9558, Testing Accuracy: 0.9662\n",
      "\n"
     ]
    },
    {
     "name": "stdout",
     "output_type": "stream",
     "text": [
      "Epoch 140, Loss 0.0417\n",
      "Training Accuracy: 0.9566, Testing Accuracy: 0.9677\n",
      "\n"
     ]
    },
    {
     "name": "stdout",
     "output_type": "stream",
     "text": [
      "Epoch 150, Loss 0.041\n",
      "Training Accuracy: 0.9568, Testing Accuracy: 0.9677\n",
      "\n"
     ]
    },
    {
     "name": "stdout",
     "output_type": "stream",
     "text": [
      "Epoch 160, Loss 0.0403\n",
      "Training Accuracy: 0.9572, Testing Accuracy: 0.9672\n",
      "\n"
     ]
    },
    {
     "name": "stdout",
     "output_type": "stream",
     "text": [
      "Epoch 170, Loss 0.0397\n",
      "Training Accuracy: 0.9579, Testing Accuracy: 0.9672\n",
      "\n"
     ]
    },
    {
     "name": "stdout",
     "output_type": "stream",
     "text": [
      "Epoch 180, Loss 0.0392\n",
      "Training Accuracy: 0.9584, Testing Accuracy: 0.9682\n",
      "\n"
     ]
    },
    {
     "name": "stdout",
     "output_type": "stream",
     "text": [
      "Epoch 190, Loss 0.0387\n",
      "Training Accuracy: 0.9589, Testing Accuracy: 0.9682\n",
      "\n"
     ]
    },
    {
     "name": "stdout",
     "output_type": "stream",
     "text": [
      "Epoch 200, Loss 0.0382\n",
      "Training Accuracy: 0.9592, Testing Accuracy: 0.9682\n",
      "\n"
     ]
    },
    {
     "name": "stdout",
     "output_type": "stream",
     "text": [
      "Epoch 210, Loss 0.0378\n",
      "Training Accuracy: 0.9596, Testing Accuracy: 0.9682\n",
      "\n"
     ]
    },
    {
     "name": "stdout",
     "output_type": "stream",
     "text": [
      "Epoch 220, Loss 0.0373\n",
      "Training Accuracy: 0.9600, Testing Accuracy: 0.9682\n",
      "\n"
     ]
    },
    {
     "name": "stdout",
     "output_type": "stream",
     "text": [
      "Epoch 230, Loss 0.037\n",
      "Training Accuracy: 0.9601, Testing Accuracy: 0.9688\n",
      "\n"
     ]
    },
    {
     "name": "stdout",
     "output_type": "stream",
     "text": [
      "Epoch 240, Loss 0.0366\n",
      "Training Accuracy: 0.9604, Testing Accuracy: 0.9688\n",
      "\n"
     ]
    },
    {
     "data": {
      "text/plain": [
       "0.01067831039392136"
      ]
     },
     "execution_count": 23,
     "metadata": {},
     "output_type": "execute_result"
    }
   ],
   "source": [
    "lr_learner.train_loop(dl)"
   ]
  },
  {
   "cell_type": "code",
   "execution_count": 24,
   "id": "ca410940",
   "metadata": {
    "execution": {
     "iopub.execute_input": "2022-04-12T00:32:28.278031Z",
     "iopub.status.busy": "2022-04-12T00:32:28.277558Z",
     "iopub.status.idle": "2022-04-12T00:32:28.486056Z",
     "shell.execute_reply": "2022-04-12T00:32:28.486505Z"
    },
    "papermill": {
     "duration": 0.258342,
     "end_time": "2022-04-12T00:32:28.486675",
     "exception": false,
     "start_time": "2022-04-12T00:32:28.228333",
     "status": "completed"
    },
    "tags": []
   },
   "outputs": [
    {
     "data": {
      "text/plain": [
       "<matplotlib.legend.Legend at 0x7f5f128f3b00>"
      ]
     },
     "execution_count": 24,
     "metadata": {},
     "output_type": "execute_result"
    },
    {
     "data": {
      "image/png": "[encoded data removed]",
      "text/plain": [
       "<Figure size 1080x720 with 1 Axes>"
      ]
     },
     "metadata": {
      "needs_background": "light"
     },
     "output_type": "display_data"
    }
   ],
   "source": [
    "#comparing the results of NN and LR\n",
    "plt.figure(figsize=(15,10))\n",
    "\n",
    "# Neural Network plots\n",
    "plt.plot(acc_nn.accuracies, 'r-', label = \"Training Accuracies - NN\")\n",
    "plt.plot(acc_nn.test_accuracies, 'g-', label = \"Testing Accuracies - NN\")\n",
    "\n",
    "# Logistic Regression plots\n",
    "plt.plot(acc_lr.accuracies, 'k-', label = \"Training Accuracies - LR\")\n",
    "plt.plot(acc_lr.test_accuracies, 'b-', label = \"Testing Accuracies - LR\")\n",
    "plt.legend()"
   ]
  },
  {
   "cell_type": "markdown",
   "id": "80dfb35c",
   "metadata": {
    "papermill": {
     "duration": 0.03713,
     "end_time": "2022-04-12T00:32:28.562095",
     "exception": false,
     "start_time": "2022-04-12T00:32:28.524965",
     "status": "completed"
    },
    "tags": []
   },
   "source": [
    "#### Plotting the outputs of this layer of the NN.\n"
   ]
  },
  {
   "cell_type": "code",
   "execution_count": 25,
   "id": "45eb2ff5",
   "metadata": {
    "execution": {
     "iopub.execute_input": "2022-04-12T00:32:28.641679Z",
     "iopub.status.busy": "2022-04-12T00:32:28.641203Z",
     "iopub.status.idle": "2022-04-12T00:32:28.660659Z",
     "shell.execute_reply": "2022-04-12T00:32:28.661328Z"
    },
    "papermill": {
     "duration": 0.062084,
     "end_time": "2022-04-12T00:32:28.661469",
     "exception": false,
     "start_time": "2022-04-12T00:32:28.599385",
     "status": "completed"
    },
    "tags": []
   },
   "outputs": [],
   "source": [
    "new_model = Model(layers[:-2])\n",
    "testing_plot = new_model(testing_data_x)"
   ]
  },
  {
   "cell_type": "code",
   "execution_count": 26,
   "id": "4c0a5485",
   "metadata": {
    "execution": {
     "iopub.execute_input": "2022-04-12T00:32:28.749514Z",
     "iopub.status.busy": "2022-04-12T00:32:28.749051Z",
     "iopub.status.idle": "2022-04-12T00:32:28.938575Z",
     "shell.execute_reply": "2022-04-12T00:32:28.938968Z"
    },
    "papermill": {
     "duration": 0.23915,
     "end_time": "2022-04-12T00:32:28.939122",
     "exception": false,
     "start_time": "2022-04-12T00:32:28.699972",
     "status": "completed"
    },
    "tags": []
   },
   "outputs": [
    {
     "data": {
      "text/plain": [
       "Text(0.5, 1.0, 'Outputs')"
      ]
     },
     "execution_count": 26,
     "metadata": {},
     "output_type": "execute_result"
    },
    {
     "data": {
      "image/png": "[encoded data removed]",
      "text/plain": [
       "<Figure size 576x504 with 1 Axes>"
      ]
     },
     "metadata": {
      "needs_background": "light"
     },
     "output_type": "display_data"
    }
   ],
   "source": [
    "# Plotting the scatter plot of points and color coding by class\n",
    "plt.figure(figsize=(8,7))\n",
    "plt.scatter(testing_plot[:,0], testing_plot[:,1], alpha = 0.1, c = y_test.ravel());\n",
    "plt.title('Outputs')"
   ]
  },
  {
   "cell_type": "markdown",
   "id": "a74fcf8f",
   "metadata": {
    "papermill": {
     "duration": 0.04535,
     "end_time": "2022-04-12T00:32:29.030096",
     "exception": false,
     "start_time": "2022-04-12T00:32:28.984746",
     "status": "completed"
    },
    "tags": []
   },
   "source": [
    "Probability contours"
   ]
  },
  {
   "cell_type": "code",
   "execution_count": 27,
   "id": "d0afc8e3",
   "metadata": {
    "execution": {
     "iopub.execute_input": "2022-04-12T00:32:29.125187Z",
     "iopub.status.busy": "2022-04-12T00:32:29.124151Z",
     "iopub.status.idle": "2022-04-12T00:32:29.136387Z",
     "shell.execute_reply": "2022-04-12T00:32:29.136735Z"
    },
    "papermill": {
     "duration": 0.061303,
     "end_time": "2022-04-12T00:32:29.136864",
     "exception": false,
     "start_time": "2022-04-12T00:32:29.075561",
     "status": "completed"
    },
    "tags": []
   },
   "outputs": [],
   "source": [
    "model_prob = Model(layers[-2:]) "
   ]
  },
  {
   "cell_type": "code",
   "execution_count": 28,
   "id": "9b96e238",
   "metadata": {
    "execution": {
     "iopub.execute_input": "2022-04-12T00:32:29.222883Z",
     "iopub.status.busy": "2022-04-12T00:32:29.222419Z",
     "iopub.status.idle": "2022-04-12T00:32:29.234295Z",
     "shell.execute_reply": "2022-04-12T00:32:29.234689Z"
    },
    "papermill": {
     "duration": 0.057691,
     "end_time": "2022-04-12T00:32:29.234827",
     "exception": false,
     "start_time": "2022-04-12T00:32:29.177136",
     "status": "completed"
    },
    "tags": []
   },
   "outputs": [],
   "source": [
    "#creating the x and y ranges according to the above generated plot.\n",
    "x_range = np.linspace(-4, 1, 100) \n",
    "y_range = np.linspace(-6, 6, 100) \n",
    "x_grid, y_grid = np.meshgrid(x_range, y_range) # x_grid and y_grig are of size 100 X 100\n",
    "\n",
    "# converting x_grid and y_grid to continuous arrays\n",
    "x_gridflat = np.ravel(x_grid)\n",
    "y_gridflat = np.ravel(y_grid)\n",
    "\n",
    "# The last layer of the current model takes two columns as input. Hence transpose of np.vstack() is required.\n",
    "X = np.vstack((x_gridflat, y_gridflat)).T\n",
    "\n",
    "prob_contour = model_prob(X).reshape(100,100) "
   ]
  },
  {
   "cell_type": "code",
   "execution_count": 29,
   "id": "da72499a",
   "metadata": {
    "execution": {
     "iopub.execute_input": "2022-04-12T00:32:29.359973Z",
     "iopub.status.busy": "2022-04-12T00:32:29.359390Z",
     "iopub.status.idle": "2022-04-12T00:32:29.606987Z",
     "shell.execute_reply": "2022-04-12T00:32:29.607441Z"
    },
    "papermill": {
     "duration": 0.3268,
     "end_time": "2022-04-12T00:32:29.607605",
     "exception": false,
     "start_time": "2022-04-12T00:32:29.280805",
     "status": "completed"
    },
    "tags": []
   },
   "outputs": [
    {
     "data": {
      "image/png": "[encoded data removed]",
      "text/plain": [
       "<Figure size 720x648 with 1 Axes>"
      ]
     },
     "metadata": {
      "needs_background": "light"
     },
     "output_type": "display_data"
    }
   ],
   "source": [
    "plt.figure(figsize=(10,9))\n",
    "plt.scatter(testing_plot[:,0], testing_plot[:,1], alpha = 0.1, c = y_test.ravel())\n",
    "contours = plt.contour(x_grid,y_grid,prob_contour)\n",
    "plt.title('Probability Contours')\n",
    "plt.clabel(contours, inline = True );"
   ]
  },
  {
   "cell_type": "code",
   "execution_count": null,
   "id": "e81b4ac7",
   "metadata": {
    "papermill": {
     "duration": 0.042124,
     "end_time": "2022-04-12T00:32:29.692687",
     "exception": false,
     "start_time": "2022-04-12T00:32:29.650563",
     "status": "completed"
    },
    "tags": []
   },
   "outputs": [],
   "source": []
  }
 ],
 "metadata": {
  "kernelspec": {
   "display_name": "Python 3",
   "language": "python",
   "name": "python3"
  },
  "language_info": {
   "codemirror_mode": {
    "name": "ipython",
    "version": 3
   },
   "file_extension": ".py",
   "mimetype": "text/x-python",
   "name": "python",
   "nbconvert_exporter": "python",
   "pygments_lexer": "ipython3",
   "version": "3.6.15"
  },
  "papermill": {
   "default_parameters": {},
   "duration": 96.332827,
   "end_time": "2022-04-12T00:32:30.152827",
   "environment_variables": {},
   "exception": null,
   "input_path": "2020-08-11-part2.ipynb",
   "output_path": "2020-08-11-part2.ipynb",
   "parameters": {},
   "start_time": "2022-04-12T00:30:53.820000",
   "version": "2.3.3"
  }
 },
 "nbformat": 4,
 "nbformat_minor": 5
}