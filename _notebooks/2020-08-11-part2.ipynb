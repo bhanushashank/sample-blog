{
 "cells": [
  {
   "cell_type": "markdown",
   "id": "98380cd3",
   "metadata": {
    "papermill": {
     "duration": 0.028895,
     "end_time": "2021-12-31T20:09:03.322954",
     "exception": false,
     "start_time": "2021-12-31T20:09:03.294059",
     "status": "completed"
    },
    "tags": []
   },
   "source": [
    "# Distinguish Your Own Digits (DYOD)"
   ]
  },
  {
   "cell_type": "markdown",
   "id": "ef31240d",
   "metadata": {
    "papermill": {
     "duration": 0.024068,
     "end_time": "2021-12-31T20:09:03.372864",
     "exception": false,
     "start_time": "2021-12-31T20:09:03.348796",
     "status": "completed"
    },
    "tags": []
   },
   "source": [
    "You are going to write a classifier that distinguishes between the number 3 and number 8."
   ]
  },
  {
   "cell_type": "code",
   "execution_count": 1,
   "id": "b15c8646",
   "metadata": {
    "execution": {
     "iopub.execute_input": "2021-12-31T20:09:03.431829Z",
     "iopub.status.busy": "2021-12-31T20:09:03.431192Z",
     "iopub.status.idle": "2021-12-31T20:09:03.443944Z",
     "shell.execute_reply": "2021-12-31T20:09:03.444438Z"
    },
    "papermill": {
     "duration": 0.046289,
     "end_time": "2021-12-31T20:09:03.444614",
     "exception": false,
     "start_time": "2021-12-31T20:09:03.398325",
     "status": "completed"
    },
    "tags": []
   },
   "outputs": [],
   "source": [
    "%load_ext autoreload\n",
    "%autoreload 2"
   ]
  },
  {
   "cell_type": "code",
   "execution_count": 2,
   "id": "22ef38dc",
   "metadata": {
    "execution": {
     "iopub.execute_input": "2021-12-31T20:09:03.508607Z",
     "iopub.status.busy": "2021-12-31T20:09:03.502504Z",
     "iopub.status.idle": "2021-12-31T20:09:04.127686Z",
     "shell.execute_reply": "2021-12-31T20:09:04.128252Z"
    },
    "papermill": {
     "duration": 0.659392,
     "end_time": "2021-12-31T20:09:04.128431",
     "exception": false,
     "start_time": "2021-12-31T20:09:03.469039",
     "status": "completed"
    },
    "tags": []
   },
   "outputs": [],
   "source": [
    "%matplotlib inline\n",
    "import numpy as np\n",
    "import matplotlib.pyplot as plt\n",
    "import pandas as pd"
   ]
  },
  {
   "cell_type": "markdown",
   "id": "ba036198",
   "metadata": {
    "papermill": {
     "duration": 0.024091,
     "end_time": "2021-12-31T20:09:04.177328",
     "exception": false,
     "start_time": "2021-12-31T20:09:04.153237",
     "status": "completed"
    },
    "tags": []
   },
   "source": [
    "From the command line run `pip install mnist`. This is a library that will help you bring down the mnist dataset. If you run this from a notebook, you need to put  `!pip install mnist` in a cell by itself."
   ]
  },
  {
   "cell_type": "code",
   "execution_count": 3,
   "id": "bb6ad8a1",
   "metadata": {
    "execution": {
     "iopub.execute_input": "2021-12-31T20:09:04.230701Z",
     "iopub.status.busy": "2021-12-31T20:09:04.230157Z",
     "iopub.status.idle": "2021-12-31T20:09:06.014634Z",
     "shell.execute_reply": "2021-12-31T20:09:06.014103Z"
    },
    "papermill": {
     "duration": 1.813028,
     "end_time": "2021-12-31T20:09:06.014777",
     "exception": false,
     "start_time": "2021-12-31T20:09:04.201749",
     "status": "completed"
    },
    "tags": []
   },
   "outputs": [
    {
     "name": "stdout",
     "output_type": "stream",
     "text": [
      "Collecting mnist\r\n"
     ]
    },
    {
     "name": "stdout",
     "output_type": "stream",
     "text": [
      "  Downloading mnist-0.2.2-py2.py3-none-any.whl (3.5 kB)\r\n",
      "Requirement already satisfied: numpy in /opt/hostedtoolcache/Python/3.6.15/x64/lib/python3.6/site-packages (from mnist) (1.19.5)\r\n"
     ]
    },
    {
     "name": "stdout",
     "output_type": "stream",
     "text": [
      "Installing collected packages: mnist\r\n"
     ]
    },
    {
     "name": "stdout",
     "output_type": "stream",
     "text": [
      "Successfully installed mnist-0.2.2\r\n"
     ]
    }
   ],
   "source": [
    "!pip install mnist"
   ]
  },
  {
   "cell_type": "markdown",
   "id": "69df9c9a",
   "metadata": {
    "papermill": {
     "duration": 0.025203,
     "end_time": "2021-12-31T20:09:06.066234",
     "exception": false,
     "start_time": "2021-12-31T20:09:06.041031",
     "status": "completed"
    },
    "tags": []
   },
   "source": [
    "## Preparing the Data"
   ]
  },
  {
   "cell_type": "code",
   "execution_count": 4,
   "id": "7f69d806",
   "metadata": {
    "execution": {
     "iopub.execute_input": "2021-12-31T20:09:06.130706Z",
     "iopub.status.busy": "2021-12-31T20:09:06.130145Z",
     "iopub.status.idle": "2021-12-31T20:09:06.138773Z",
     "shell.execute_reply": "2021-12-31T20:09:06.138337Z"
    },
    "papermill": {
     "duration": 0.047573,
     "end_time": "2021-12-31T20:09:06.138900",
     "exception": false,
     "start_time": "2021-12-31T20:09:06.091327",
     "status": "completed"
    },
    "tags": []
   },
   "outputs": [],
   "source": [
    "import mnist"
   ]
  },
  {
   "cell_type": "code",
   "execution_count": 5,
   "id": "a411e44f",
   "metadata": {
    "execution": {
     "iopub.execute_input": "2021-12-31T20:09:06.194268Z",
     "iopub.status.busy": "2021-12-31T20:09:06.193732Z",
     "iopub.status.idle": "2021-12-31T20:09:06.736095Z",
     "shell.execute_reply": "2021-12-31T20:09:06.735533Z"
    },
    "papermill": {
     "duration": 0.571816,
     "end_time": "2021-12-31T20:09:06.736227",
     "exception": false,
     "start_time": "2021-12-31T20:09:06.164411",
     "status": "completed"
    },
    "tags": []
   },
   "outputs": [],
   "source": [
    "train_images = mnist.train_images()\n",
    "train_labels = mnist.train_labels()"
   ]
  },
  {
   "cell_type": "code",
   "execution_count": 6,
   "id": "dceab3a5",
   "metadata": {
    "execution": {
     "iopub.execute_input": "2021-12-31T20:09:06.794001Z",
     "iopub.status.busy": "2021-12-31T20:09:06.793442Z",
     "iopub.status.idle": "2021-12-31T20:09:06.806966Z",
     "shell.execute_reply": "2021-12-31T20:09:06.806512Z"
    },
    "papermill": {
     "duration": 0.045449,
     "end_time": "2021-12-31T20:09:06.807085",
     "exception": false,
     "start_time": "2021-12-31T20:09:06.761636",
     "status": "completed"
    },
    "tags": []
   },
   "outputs": [
    {
     "data": {
      "text/plain": [
       "((60000, 28, 28), (60000,))"
      ]
     },
     "execution_count": 6,
     "metadata": {},
     "output_type": "execute_result"
    }
   ],
   "source": [
    "train_images.shape, train_labels.shape"
   ]
  },
  {
   "cell_type": "code",
   "execution_count": 7,
   "id": "f50dc2bb",
   "metadata": {
    "execution": {
     "iopub.execute_input": "2021-12-31T20:09:06.862706Z",
     "iopub.status.busy": "2021-12-31T20:09:06.861738Z",
     "iopub.status.idle": "2021-12-31T20:09:07.007058Z",
     "shell.execute_reply": "2021-12-31T20:09:07.006574Z"
    },
    "papermill": {
     "duration": 0.174514,
     "end_time": "2021-12-31T20:09:07.007192",
     "exception": false,
     "start_time": "2021-12-31T20:09:06.832678",
     "status": "completed"
    },
    "tags": []
   },
   "outputs": [],
   "source": [
    "test_images = mnist.test_images()\n",
    "test_labels = mnist.test_labels()"
   ]
  },
  {
   "cell_type": "code",
   "execution_count": 8,
   "id": "fc38cf1b",
   "metadata": {
    "execution": {
     "iopub.execute_input": "2021-12-31T20:09:07.072774Z",
     "iopub.status.busy": "2021-12-31T20:09:07.070263Z",
     "iopub.status.idle": "2021-12-31T20:09:07.079462Z",
     "shell.execute_reply": "2021-12-31T20:09:07.079901Z"
    },
    "papermill": {
     "duration": 0.047044,
     "end_time": "2021-12-31T20:09:07.080064",
     "exception": false,
     "start_time": "2021-12-31T20:09:07.033020",
     "status": "completed"
    },
    "tags": []
   },
   "outputs": [
    {
     "data": {
      "text/plain": [
       "((10000, 28, 28), (10000,))"
      ]
     },
     "execution_count": 8,
     "metadata": {},
     "output_type": "execute_result"
    }
   ],
   "source": [
    "test_images.shape, test_labels.shape"
   ]
  },
  {
   "cell_type": "code",
   "execution_count": 9,
   "id": "f9ed8fe0",
   "metadata": {
    "execution": {
     "iopub.execute_input": "2021-12-31T20:09:07.142357Z",
     "iopub.status.busy": "2021-12-31T20:09:07.135289Z",
     "iopub.status.idle": "2021-12-31T20:09:07.291042Z",
     "shell.execute_reply": "2021-12-31T20:09:07.290314Z"
    },
    "papermill": {
     "duration": 0.185307,
     "end_time": "2021-12-31T20:09:07.291179",
     "exception": false,
     "start_time": "2021-12-31T20:09:07.105872",
     "status": "completed"
    },
    "tags": []
   },
   "outputs": [
    {
     "name": "stdout",
     "output_type": "stream",
     "text": [
      "2\n"
     ]
    },
    {
     "data": {
      "text/plain": [
       "<matplotlib.image.AxesImage at 0x7f77426d9390>"
      ]
     },
     "execution_count": 9,
     "metadata": {},
     "output_type": "execute_result"
    },
    {
     "data": {
      "image/png": "[encoded data removed]",
      "text/plain": [
       "<Figure size 432x288 with 1 Axes>"
      ]
     },
     "metadata": {
      "needs_background": "light"
     },
     "output_type": "display_data"
    }
   ],
   "source": [
    "image_index = 7776 # You may select anything up to 60,000\n",
    "print(train_labels[image_index]) \n",
    "plt.imshow(train_images[image_index], cmap='Greys')"
   ]
  },
  {
   "cell_type": "markdown",
   "id": "a8d2388d",
   "metadata": {
    "papermill": {
     "duration": 0.026959,
     "end_time": "2021-12-31T20:09:07.345227",
     "exception": false,
     "start_time": "2021-12-31T20:09:07.318268",
     "status": "completed"
    },
    "tags": []
   },
   "source": [
    "## Filter data to get 3 and 8 out"
   ]
  },
  {
   "cell_type": "code",
   "execution_count": 10,
   "id": "776f7fc7",
   "metadata": {
    "execution": {
     "iopub.execute_input": "2021-12-31T20:09:07.417471Z",
     "iopub.status.busy": "2021-12-31T20:09:07.412853Z",
     "iopub.status.idle": "2021-12-31T20:09:07.427942Z",
     "shell.execute_reply": "2021-12-31T20:09:07.427451Z"
    },
    "papermill": {
     "duration": 0.055375,
     "end_time": "2021-12-31T20:09:07.428078",
     "exception": false,
     "start_time": "2021-12-31T20:09:07.372703",
     "status": "completed"
    },
    "tags": []
   },
   "outputs": [],
   "source": [
    "train_filter = np.where((train_labels == 3 ) | (train_labels == 8))\n",
    "test_filter = np.where((test_labels == 3) | (test_labels == 8))\n",
    "X_train, y_train = train_images[train_filter], train_labels[train_filter]\n",
    "X_test, y_test = test_images[test_filter], test_labels[test_filter]"
   ]
  },
  {
   "cell_type": "markdown",
   "id": "948f0b7e",
   "metadata": {
    "papermill": {
     "duration": 0.026864,
     "end_time": "2021-12-31T20:09:07.481833",
     "exception": false,
     "start_time": "2021-12-31T20:09:07.454969",
     "status": "completed"
    },
    "tags": []
   },
   "source": [
    "We normalize the pizel values in the 0 to 1 range"
   ]
  },
  {
   "cell_type": "code",
   "execution_count": 11,
   "id": "ee4c2166",
   "metadata": {
    "execution": {
     "iopub.execute_input": "2021-12-31T20:09:07.540234Z",
     "iopub.status.busy": "2021-12-31T20:09:07.539635Z",
     "iopub.status.idle": "2021-12-31T20:09:07.588410Z",
     "shell.execute_reply": "2021-12-31T20:09:07.587947Z"
    },
    "papermill": {
     "duration": 0.079999,
     "end_time": "2021-12-31T20:09:07.588543",
     "exception": false,
     "start_time": "2021-12-31T20:09:07.508544",
     "status": "completed"
    },
    "tags": []
   },
   "outputs": [],
   "source": [
    "X_train = X_train/255.\n",
    "X_test = X_test/255."
   ]
  },
  {
   "cell_type": "markdown",
   "id": "ddcf4fab",
   "metadata": {
    "papermill": {
     "duration": 0.02666,
     "end_time": "2021-12-31T20:09:07.642163",
     "exception": false,
     "start_time": "2021-12-31T20:09:07.615503",
     "status": "completed"
    },
    "tags": []
   },
   "source": [
    "And setup the labels as 1 (when the digit is 3) and 0 (when the digit is 8)"
   ]
  },
  {
   "cell_type": "code",
   "execution_count": 12,
   "id": "7dc908f2",
   "metadata": {
    "execution": {
     "iopub.execute_input": "2021-12-31T20:09:07.713051Z",
     "iopub.status.busy": "2021-12-31T20:09:07.709024Z",
     "iopub.status.idle": "2021-12-31T20:09:07.715059Z",
     "shell.execute_reply": "2021-12-31T20:09:07.715482Z"
    },
    "papermill": {
     "duration": 0.04671,
     "end_time": "2021-12-31T20:09:07.715632",
     "exception": false,
     "start_time": "2021-12-31T20:09:07.668922",
     "status": "completed"
    },
    "tags": []
   },
   "outputs": [],
   "source": [
    "y_train = 1*(y_train==3)\n",
    "y_test = 1*(y_test==3)"
   ]
  },
  {
   "cell_type": "code",
   "execution_count": 13,
   "id": "01e4e969",
   "metadata": {
    "execution": {
     "iopub.execute_input": "2021-12-31T20:09:07.787771Z",
     "iopub.status.busy": "2021-12-31T20:09:07.787135Z",
     "iopub.status.idle": "2021-12-31T20:09:07.791678Z",
     "shell.execute_reply": "2021-12-31T20:09:07.792108Z"
    },
    "papermill": {
     "duration": 0.049691,
     "end_time": "2021-12-31T20:09:07.792259",
     "exception": false,
     "start_time": "2021-12-31T20:09:07.742568",
     "status": "completed"
    },
    "tags": []
   },
   "outputs": [
    {
     "data": {
      "text/plain": [
       "((11982, 28, 28), (1984, 28, 28))"
      ]
     },
     "execution_count": 13,
     "metadata": {},
     "output_type": "execute_result"
    }
   ],
   "source": [
    "X_train.shape, X_test.shape"
   ]
  },
  {
   "cell_type": "markdown",
   "id": "5ccf3f85",
   "metadata": {
    "papermill": {
     "duration": 0.026855,
     "end_time": "2021-12-31T20:09:07.846122",
     "exception": false,
     "start_time": "2021-12-31T20:09:07.819267",
     "status": "completed"
    },
    "tags": []
   },
   "source": [
    "We reshape the data to flatten the image pixels into a set of features or co-variates:"
   ]
  },
  {
   "cell_type": "code",
   "execution_count": 14,
   "id": "5286a4a3",
   "metadata": {
    "execution": {
     "iopub.execute_input": "2021-12-31T20:09:07.916710Z",
     "iopub.status.busy": "2021-12-31T20:09:07.904566Z",
     "iopub.status.idle": "2021-12-31T20:09:07.922500Z",
     "shell.execute_reply": "2021-12-31T20:09:07.922050Z"
    },
    "papermill": {
     "duration": 0.048808,
     "end_time": "2021-12-31T20:09:07.922624",
     "exception": false,
     "start_time": "2021-12-31T20:09:07.873816",
     "status": "completed"
    },
    "tags": []
   },
   "outputs": [
    {
     "data": {
      "text/plain": [
       "((11982, 784), (1984, 784))"
      ]
     },
     "execution_count": 14,
     "metadata": {},
     "output_type": "execute_result"
    }
   ],
   "source": [
    "X_train = X_train.reshape(X_train.shape[0], -1)\n",
    "X_test = X_test.reshape(X_test.shape[0], -1)\n",
    "X_train.shape, X_test.shape"
   ]
  },
  {
   "cell_type": "code",
   "execution_count": 15,
   "id": "73c5f88a",
   "metadata": {
    "execution": {
     "iopub.execute_input": "2021-12-31T20:09:07.987598Z",
     "iopub.status.busy": "2021-12-31T20:09:07.987013Z",
     "iopub.status.idle": "2021-12-31T20:09:08.003309Z",
     "shell.execute_reply": "2021-12-31T20:09:08.003759Z"
    },
    "papermill": {
     "duration": 0.053858,
     "end_time": "2021-12-31T20:09:08.003928",
     "exception": false,
     "start_time": "2021-12-31T20:09:07.950070",
     "status": "completed"
    },
    "tags": []
   },
   "outputs": [],
   "source": [
    "#Impoting functions from 'Kudzu'\n",
    "from kudzu.model import Model\n",
    "from kudzu.train import Learner\n",
    "from kudzu.optim import GD\n",
    "from kudzu.data import Data, Sampler,Dataloader\n",
    "\n",
    "from kudzu.callbacks import AccCallback\n",
    "from kudzu.callbacks import ClfCallback\n",
    "\n",
    "from kudzu.loss import MSE\n",
    "\n",
    "from kudzu.layer import Sigmoid,Relu\n",
    "from kudzu.layer import Affine"
   ]
  },
  {
   "cell_type": "markdown",
   "id": "bc01172a",
   "metadata": {
    "papermill": {
     "duration": 0.027494,
     "end_time": "2021-12-31T20:09:08.058887",
     "exception": false,
     "start_time": "2021-12-31T20:09:08.031393",
     "status": "completed"
    },
    "tags": []
   },
   "source": [
    "### Let us create a `Config` class, to store important parameters. \n",
    "This class essentially plays the role of a dictionary."
   ]
  },
  {
   "cell_type": "code",
   "execution_count": 16,
   "id": "978281aa",
   "metadata": {
    "execution": {
     "iopub.execute_input": "2021-12-31T20:09:08.121277Z",
     "iopub.status.busy": "2021-12-31T20:09:08.120710Z",
     "iopub.status.idle": "2021-12-31T20:09:08.133142Z",
     "shell.execute_reply": "2021-12-31T20:09:08.132624Z"
    },
    "papermill": {
     "duration": 0.044305,
     "end_time": "2021-12-31T20:09:08.133272",
     "exception": false,
     "start_time": "2021-12-31T20:09:08.088967",
     "status": "completed"
    },
    "tags": []
   },
   "outputs": [],
   "source": [
    "class Config:\n",
    "    pass\n",
    "config = Config()\n",
    "config.lr = 0.001\n",
    "config.num_epochs = 250\n",
    "config.bs = 50"
   ]
  },
  {
   "cell_type": "markdown",
   "id": "1385fa59",
   "metadata": {
    "papermill": {
     "duration": 0.027957,
     "end_time": "2021-12-31T20:09:08.189680",
     "exception": false,
     "start_time": "2021-12-31T20:09:08.161723",
     "status": "completed"
    },
    "tags": []
   },
   "source": [
    "### Running Models with the Training data\n",
    "Details about the network layers:\n",
    "- A first affine layer has 784 inputs and does 100 affine transforms. These are followed by a Relu\n",
    "- A second affine layer has 100 inputs from the 100 activations of the past layer, and does 100 affine transforms. These are followed by a Relu\n",
    "- A third affine layer has 100 activations and does 2 affine transformations to create an embedding for visualization. There is no non-linearity here.\n",
    "- A final \"logistic regression\" which has an affine transform from 2 inputs to 1 output, which is squeezed through a sigmoid.\n"
   ]
  },
  {
   "cell_type": "code",
   "execution_count": 17,
   "id": "2b9c66db",
   "metadata": {
    "execution": {
     "iopub.execute_input": "2021-12-31T20:09:08.248855Z",
     "iopub.status.busy": "2021-12-31T20:09:08.248297Z",
     "iopub.status.idle": "2021-12-31T20:09:08.262456Z",
     "shell.execute_reply": "2021-12-31T20:09:08.262929Z"
    },
    "papermill": {
     "duration": 0.045115,
     "end_time": "2021-12-31T20:09:08.263089",
     "exception": false,
     "start_time": "2021-12-31T20:09:08.217974",
     "status": "completed"
    },
    "tags": []
   },
   "outputs": [],
   "source": [
    "data = Data(X_train, y_train.reshape(-1,1))\n",
    "sampler = Sampler(data, config.bs, shuffle=True)\n",
    "\n",
    "dl = Dataloader(data, sampler)\n",
    "\n",
    "opt = GD(config.lr)\n",
    "loss = MSE()"
   ]
  },
  {
   "cell_type": "code",
   "execution_count": 18,
   "id": "b275e4c2",
   "metadata": {
    "execution": {
     "iopub.execute_input": "2021-12-31T20:09:08.329193Z",
     "iopub.status.busy": "2021-12-31T20:09:08.328600Z",
     "iopub.status.idle": "2021-12-31T20:09:08.335418Z",
     "shell.execute_reply": "2021-12-31T20:09:08.335894Z"
    },
    "papermill": {
     "duration": 0.044492,
     "end_time": "2021-12-31T20:09:08.336056",
     "exception": false,
     "start_time": "2021-12-31T20:09:08.291564",
     "status": "completed"
    },
    "tags": []
   },
   "outputs": [],
   "source": [
    "training_data_x = X_train\n",
    "testing_data_x = X_test\n",
    "training_data_y = y_train.reshape(-1,1)\n",
    "testing_data_y = y_test.reshape(-1,1)"
   ]
  },
  {
   "cell_type": "code",
   "execution_count": 19,
   "id": "76951160",
   "metadata": {
    "execution": {
     "iopub.execute_input": "2021-12-31T20:09:08.401114Z",
     "iopub.status.busy": "2021-12-31T20:09:08.400540Z",
     "iopub.status.idle": "2021-12-31T20:09:08.417676Z",
     "shell.execute_reply": "2021-12-31T20:09:08.418085Z"
    },
    "papermill": {
     "duration": 0.053689,
     "end_time": "2021-12-31T20:09:08.418244",
     "exception": false,
     "start_time": "2021-12-31T20:09:08.364555",
     "status": "completed"
    },
    "tags": []
   },
   "outputs": [
    {
     "name": "stdout",
     "output_type": "stream",
     "text": [
      "xavier\n",
      "xavier\n",
      "xavier\n",
      "xavier\n",
      "xavier\n"
     ]
    }
   ],
   "source": [
    "layers = [Affine(\"first\", 784, 100), Relu(\"first\"), Affine(\"second\", 100, 100), Relu(\"second\"), Affine(\"third\", 100, 2), Affine(\"last\", 2, 1), Sigmoid(\"last\")]\n",
    "model_nn = Model(layers)\n",
    "model_lr = Model([Affine(\"logits\", 784, 1), Sigmoid(\"sigmoid\")])"
   ]
  },
  {
   "cell_type": "code",
   "execution_count": 20,
   "id": "6eede77a",
   "metadata": {
    "execution": {
     "iopub.execute_input": "2021-12-31T20:09:08.488107Z",
     "iopub.status.busy": "2021-12-31T20:09:08.487478Z",
     "iopub.status.idle": "2021-12-31T20:09:08.493939Z",
     "shell.execute_reply": "2021-12-31T20:09:08.494706Z"
    },
    "papermill": {
     "duration": 0.047791,
     "end_time": "2021-12-31T20:09:08.494862",
     "exception": false,
     "start_time": "2021-12-31T20:09:08.447071",
     "status": "completed"
    },
    "tags": []
   },
   "outputs": [],
   "source": [
    "nn_learner = Learner(loss, model_nn, opt, config.num_epochs)\n",
    "acc_nn = ClfCallback(nn_learner, config.bs, training_data_x , testing_data_x, training_data_y, testing_data_y)\n",
    "nn_learner.set_callbacks([acc_nn])"
   ]
  },
  {
   "cell_type": "code",
   "execution_count": 21,
   "id": "877b6cc7",
   "metadata": {
    "execution": {
     "iopub.execute_input": "2021-12-31T20:09:08.567364Z",
     "iopub.status.busy": "2021-12-31T20:09:08.566799Z",
     "iopub.status.idle": "2021-12-31T20:09:08.571018Z",
     "shell.execute_reply": "2021-12-31T20:09:08.570585Z"
    },
    "papermill": {
     "duration": 0.0466,
     "end_time": "2021-12-31T20:09:08.571147",
     "exception": false,
     "start_time": "2021-12-31T20:09:08.524547",
     "status": "completed"
    },
    "tags": []
   },
   "outputs": [],
   "source": [
    "lr_learner = Learner(loss, model_lr, opt, config.num_epochs)\n",
    "acc_lr = ClfCallback(lr_learner, config.bs, training_data_x , testing_data_x, training_data_y, testing_data_y)\n",
    "lr_learner.set_callbacks([acc_lr])"
   ]
  },
  {
   "cell_type": "code",
   "execution_count": 22,
   "id": "d9b133c3",
   "metadata": {
    "execution": {
     "iopub.execute_input": "2021-12-31T20:09:08.637789Z",
     "iopub.status.busy": "2021-12-31T20:09:08.636657Z",
     "iopub.status.idle": "2021-12-31T20:10:31.412480Z",
     "shell.execute_reply": "2021-12-31T20:10:31.413176Z"
    },
    "papermill": {
     "duration": 82.813649,
     "end_time": "2021-12-31T20:10:31.413335",
     "exception": false,
     "start_time": "2021-12-31T20:09:08.599686",
     "status": "completed"
    },
    "tags": []
   },
   "outputs": [
    {
     "name": "stdout",
     "output_type": "stream",
     "text": [
      "Epoch 0, Loss 0.2368\n",
      "Training Accuracy: 0.7142, Testing Accuracy: 0.7147\n",
      "\n"
     ]
    },
    {
     "name": "stdout",
     "output_type": "stream",
     "text": [
      "Epoch 10, Loss 0.0734\n",
      "Training Accuracy: 0.9293, Testing Accuracy: 0.9420\n",
      "\n"
     ]
    },
    {
     "name": "stdout",
     "output_type": "stream",
     "text": [
      "Epoch 20, Loss 0.0487\n",
      "Training Accuracy: 0.9467, Testing Accuracy: 0.9572\n",
      "\n"
     ]
    },
    {
     "name": "stdout",
     "output_type": "stream",
     "text": [
      "Epoch 30, Loss 0.04\n",
      "Training Accuracy: 0.9550, Testing Accuracy: 0.9612\n",
      "\n"
     ]
    },
    {
     "name": "stdout",
     "output_type": "stream",
     "text": [
      "Epoch 40, Loss 0.0356\n",
      "Training Accuracy: 0.9592, Testing Accuracy: 0.9632\n",
      "\n"
     ]
    },
    {
     "name": "stdout",
     "output_type": "stream",
     "text": [
      "Epoch 50, Loss 0.0329\n",
      "Training Accuracy: 0.9623, Testing Accuracy: 0.9647\n",
      "\n"
     ]
    },
    {
     "name": "stdout",
     "output_type": "stream",
     "text": [
      "Epoch 60, Loss 0.031\n",
      "Training Accuracy: 0.9642, Testing Accuracy: 0.9677\n",
      "\n"
     ]
    },
    {
     "name": "stdout",
     "output_type": "stream",
     "text": [
      "Epoch 70, Loss 0.0295\n",
      "Training Accuracy: 0.9653, Testing Accuracy: 0.9657\n",
      "\n"
     ]
    },
    {
     "name": "stdout",
     "output_type": "stream",
     "text": [
      "Epoch 80, Loss 0.0283\n",
      "Training Accuracy: 0.9668, Testing Accuracy: 0.9667\n",
      "\n"
     ]
    },
    {
     "name": "stdout",
     "output_type": "stream",
     "text": [
      "Epoch 90, Loss 0.0273\n",
      "Training Accuracy: 0.9677, Testing Accuracy: 0.9677\n",
      "\n"
     ]
    },
    {
     "name": "stdout",
     "output_type": "stream",
     "text": [
      "Epoch 100, Loss 0.0264\n",
      "Training Accuracy: 0.9685, Testing Accuracy: 0.9682\n",
      "\n"
     ]
    },
    {
     "name": "stdout",
     "output_type": "stream",
     "text": [
      "Epoch 110, Loss 0.0256\n",
      "Training Accuracy: 0.9697, Testing Accuracy: 0.9688\n",
      "\n"
     ]
    },
    {
     "name": "stdout",
     "output_type": "stream",
     "text": [
      "Epoch 120, Loss 0.0249\n",
      "Training Accuracy: 0.9705, Testing Accuracy: 0.9682\n",
      "\n"
     ]
    },
    {
     "name": "stdout",
     "output_type": "stream",
     "text": [
      "Epoch 130, Loss 0.0243\n",
      "Training Accuracy: 0.9715, Testing Accuracy: 0.9688\n",
      "\n"
     ]
    },
    {
     "name": "stdout",
     "output_type": "stream",
     "text": [
      "Epoch 140, Loss 0.0237\n",
      "Training Accuracy: 0.9722, Testing Accuracy: 0.9698\n",
      "\n"
     ]
    },
    {
     "name": "stdout",
     "output_type": "stream",
     "text": [
      "Epoch 150, Loss 0.0232\n",
      "Training Accuracy: 0.9733, Testing Accuracy: 0.9708\n",
      "\n"
     ]
    },
    {
     "name": "stdout",
     "output_type": "stream",
     "text": [
      "Epoch 160, Loss 0.0227\n",
      "Training Accuracy: 0.9737, Testing Accuracy: 0.9713\n",
      "\n"
     ]
    },
    {
     "name": "stdout",
     "output_type": "stream",
     "text": [
      "Epoch 170, Loss 0.0222\n",
      "Training Accuracy: 0.9745, Testing Accuracy: 0.9708\n",
      "\n"
     ]
    },
    {
     "name": "stdout",
     "output_type": "stream",
     "text": [
      "Epoch 180, Loss 0.0217\n",
      "Training Accuracy: 0.9750, Testing Accuracy: 0.9703\n",
      "\n"
     ]
    },
    {
     "name": "stdout",
     "output_type": "stream",
     "text": [
      "Epoch 190, Loss 0.0213\n",
      "Training Accuracy: 0.9758, Testing Accuracy: 0.9708\n",
      "\n"
     ]
    },
    {
     "name": "stdout",
     "output_type": "stream",
     "text": [
      "Epoch 200, Loss 0.0209\n",
      "Training Accuracy: 0.9760, Testing Accuracy: 0.9708\n",
      "\n"
     ]
    },
    {
     "name": "stdout",
     "output_type": "stream",
     "text": [
      "Epoch 210, Loss 0.0205\n",
      "Training Accuracy: 0.9768, Testing Accuracy: 0.9703\n",
      "\n"
     ]
    },
    {
     "name": "stdout",
     "output_type": "stream",
     "text": [
      "Epoch 220, Loss 0.0201\n",
      "Training Accuracy: 0.9774, Testing Accuracy: 0.9703\n",
      "\n"
     ]
    },
    {
     "name": "stdout",
     "output_type": "stream",
     "text": [
      "Epoch 230, Loss 0.0197\n",
      "Training Accuracy: 0.9781, Testing Accuracy: 0.9703\n",
      "\n"
     ]
    },
    {
     "name": "stdout",
     "output_type": "stream",
     "text": [
      "Epoch 240, Loss 0.0193\n",
      "Training Accuracy: 0.9785, Testing Accuracy: 0.9708\n",
      "\n"
     ]
    },
    {
     "data": {
      "text/plain": [
       "0.0006953746543959579"
      ]
     },
     "execution_count": 22,
     "metadata": {},
     "output_type": "execute_result"
    }
   ],
   "source": [
    "nn_learner.train_loop(dl)"
   ]
  },
  {
   "cell_type": "code",
   "execution_count": 23,
   "id": "e0163366",
   "metadata": {
    "execution": {
     "iopub.execute_input": "2021-12-31T20:10:31.496359Z",
     "iopub.status.busy": "2021-12-31T20:10:31.495793Z",
     "iopub.status.idle": "2021-12-31T20:10:46.579260Z",
     "shell.execute_reply": "2021-12-31T20:10:46.580040Z"
    },
    "papermill": {
     "duration": 15.132015,
     "end_time": "2021-12-31T20:10:46.580197",
     "exception": false,
     "start_time": "2021-12-31T20:10:31.448182",
     "status": "completed"
    },
    "tags": []
   },
   "outputs": [
    {
     "name": "stdout",
     "output_type": "stream",
     "text": [
      "Epoch 0, Loss 0.2287\n",
      "Training Accuracy: 0.7197, Testing Accuracy: 0.7611\n",
      "\n"
     ]
    },
    {
     "name": "stdout",
     "output_type": "stream",
     "text": [
      "Epoch 10, Loss 0.1014\n",
      "Training Accuracy: 0.9130, Testing Accuracy: 0.9269\n",
      "\n"
     ]
    },
    {
     "name": "stdout",
     "output_type": "stream",
     "text": [
      "Epoch 20, Loss 0.0784\n",
      "Training Accuracy: 0.9293, Testing Accuracy: 0.9395\n",
      "\n"
     ]
    },
    {
     "name": "stdout",
     "output_type": "stream",
     "text": [
      "Epoch 30, Loss 0.0678\n",
      "Training Accuracy: 0.9363, Testing Accuracy: 0.9501\n",
      "\n"
     ]
    },
    {
     "name": "stdout",
     "output_type": "stream",
     "text": [
      "Epoch 40, Loss 0.0614\n",
      "Training Accuracy: 0.9410, Testing Accuracy: 0.9546\n",
      "\n"
     ]
    },
    {
     "name": "stdout",
     "output_type": "stream",
     "text": [
      "Epoch 50, Loss 0.0571\n",
      "Training Accuracy: 0.9442, Testing Accuracy: 0.9567\n",
      "\n"
     ]
    },
    {
     "name": "stdout",
     "output_type": "stream",
     "text": [
      "Epoch 60, Loss 0.0538\n",
      "Training Accuracy: 0.9479, Testing Accuracy: 0.9572\n",
      "\n"
     ]
    },
    {
     "name": "stdout",
     "output_type": "stream",
     "text": [
      "Epoch 70, Loss 0.0513\n",
      "Training Accuracy: 0.9494, Testing Accuracy: 0.9602\n",
      "\n"
     ]
    },
    {
     "name": "stdout",
     "output_type": "stream",
     "text": [
      "Epoch 80, Loss 0.0493\n",
      "Training Accuracy: 0.9508, Testing Accuracy: 0.9607\n",
      "\n"
     ]
    },
    {
     "name": "stdout",
     "output_type": "stream",
     "text": [
      "Epoch 90, Loss 0.0477\n",
      "Training Accuracy: 0.9523, Testing Accuracy: 0.9612\n",
      "\n"
     ]
    },
    {
     "name": "stdout",
     "output_type": "stream",
     "text": [
      "Epoch 100, Loss 0.0463\n",
      "Training Accuracy: 0.9529, Testing Accuracy: 0.9637\n",
      "\n"
     ]
    },
    {
     "name": "stdout",
     "output_type": "stream",
     "text": [
      "Epoch 110, Loss 0.045\n",
      "Training Accuracy: 0.9536, Testing Accuracy: 0.9637\n",
      "\n"
     ]
    },
    {
     "name": "stdout",
     "output_type": "stream",
     "text": [
      "Epoch 120, Loss 0.044\n",
      "Training Accuracy: 0.9548, Testing Accuracy: 0.9657\n",
      "\n"
     ]
    },
    {
     "name": "stdout",
     "output_type": "stream",
     "text": [
      "Epoch 130, Loss 0.0431\n",
      "Training Accuracy: 0.9553, Testing Accuracy: 0.9657\n",
      "\n"
     ]
    },
    {
     "name": "stdout",
     "output_type": "stream",
     "text": [
      "Epoch 140, Loss 0.0422\n",
      "Training Accuracy: 0.9559, Testing Accuracy: 0.9657\n",
      "\n"
     ]
    },
    {
     "name": "stdout",
     "output_type": "stream",
     "text": [
      "Epoch 150, Loss 0.0415\n",
      "Training Accuracy: 0.9564, Testing Accuracy: 0.9652\n",
      "\n"
     ]
    },
    {
     "name": "stdout",
     "output_type": "stream",
     "text": [
      "Epoch 160, Loss 0.0408\n",
      "Training Accuracy: 0.9568, Testing Accuracy: 0.9657\n",
      "\n"
     ]
    },
    {
     "name": "stdout",
     "output_type": "stream",
     "text": [
      "Epoch 170, Loss 0.0402\n",
      "Training Accuracy: 0.9579, Testing Accuracy: 0.9657\n",
      "\n"
     ]
    },
    {
     "name": "stdout",
     "output_type": "stream",
     "text": [
      "Epoch 180, Loss 0.0397\n",
      "Training Accuracy: 0.9584, Testing Accuracy: 0.9662\n",
      "\n"
     ]
    },
    {
     "name": "stdout",
     "output_type": "stream",
     "text": [
      "Epoch 190, Loss 0.0391\n",
      "Training Accuracy: 0.9589, Testing Accuracy: 0.9667\n",
      "\n"
     ]
    },
    {
     "name": "stdout",
     "output_type": "stream",
     "text": [
      "Epoch 200, Loss 0.0387\n",
      "Training Accuracy: 0.9591, Testing Accuracy: 0.9667\n",
      "\n"
     ]
    },
    {
     "name": "stdout",
     "output_type": "stream",
     "text": [
      "Epoch 210, Loss 0.0382\n",
      "Training Accuracy: 0.9596, Testing Accuracy: 0.9672\n",
      "\n"
     ]
    },
    {
     "name": "stdout",
     "output_type": "stream",
     "text": [
      "Epoch 220, Loss 0.0378\n",
      "Training Accuracy: 0.9599, Testing Accuracy: 0.9667\n",
      "\n"
     ]
    },
    {
     "name": "stdout",
     "output_type": "stream",
     "text": [
      "Epoch 230, Loss 0.0374\n",
      "Training Accuracy: 0.9603, Testing Accuracy: 0.9667\n",
      "\n"
     ]
    },
    {
     "name": "stdout",
     "output_type": "stream",
     "text": [
      "Epoch 240, Loss 0.0371\n",
      "Training Accuracy: 0.9604, Testing Accuracy: 0.9662\n",
      "\n"
     ]
    },
    {
     "data": {
      "text/plain": [
       "0.01481375379108196"
      ]
     },
     "execution_count": 23,
     "metadata": {},
     "output_type": "execute_result"
    }
   ],
   "source": [
    "lr_learner.train_loop(dl)"
   ]
  },
  {
   "cell_type": "code",
   "execution_count": 24,
   "id": "ca410940",
   "metadata": {
    "execution": {
     "iopub.execute_input": "2021-12-31T20:10:46.673280Z",
     "iopub.status.busy": "2021-12-31T20:10:46.672732Z",
     "iopub.status.idle": "2021-12-31T20:10:46.898189Z",
     "shell.execute_reply": "2021-12-31T20:10:46.897735Z"
    },
    "papermill": {
     "duration": 0.276646,
     "end_time": "2021-12-31T20:10:46.898320",
     "exception": false,
     "start_time": "2021-12-31T20:10:46.621674",
     "status": "completed"
    },
    "tags": []
   },
   "outputs": [
    {
     "data": {
      "text/plain": [
       "<matplotlib.legend.Legend at 0x7f77422b4b70>"
      ]
     },
     "execution_count": 24,
     "metadata": {},
     "output_type": "execute_result"
    },
    {
     "data": {
      "image/png": "[encoded data removed]",
      "text/plain": [
       "<Figure size 1080x720 with 1 Axes>"
      ]
     },
     "metadata": {
      "needs_background": "light"
     },
     "output_type": "display_data"
    }
   ],
   "source": [
    "#comparing the results of NN and LR\n",
    "plt.figure(figsize=(15,10))\n",
    "\n",
    "# Neural Network plots\n",
    "plt.plot(acc_nn.accuracies, 'r-', label = \"Training Accuracies - NN\")\n",
    "plt.plot(acc_nn.test_accuracies, 'g-', label = \"Testing Accuracies - NN\")\n",
    "\n",
    "# Logistic Regression plots\n",
    "plt.plot(acc_lr.accuracies, 'k-', label = \"Training Accuracies - LR\")\n",
    "plt.plot(acc_lr.test_accuracies, 'b-', label = \"Testing Accuracies - LR\")\n",
    "plt.legend()"
   ]
  },
  {
   "cell_type": "markdown",
   "id": "80dfb35c",
   "metadata": {
    "papermill": {
     "duration": 0.042826,
     "end_time": "2021-12-31T20:10:46.984550",
     "exception": false,
     "start_time": "2021-12-31T20:10:46.941724",
     "status": "completed"
    },
    "tags": []
   },
   "source": [
    "#### Plotting the outputs of this layer of the NN.\n"
   ]
  },
  {
   "cell_type": "code",
   "execution_count": 25,
   "id": "45eb2ff5",
   "metadata": {
    "execution": {
     "iopub.execute_input": "2021-12-31T20:10:47.077973Z",
     "iopub.status.busy": "2021-12-31T20:10:47.077384Z",
     "iopub.status.idle": "2021-12-31T20:10:47.096693Z",
     "shell.execute_reply": "2021-12-31T20:10:47.097136Z"
    },
    "papermill": {
     "duration": 0.070427,
     "end_time": "2021-12-31T20:10:47.097305",
     "exception": false,
     "start_time": "2021-12-31T20:10:47.026878",
     "status": "completed"
    },
    "tags": []
   },
   "outputs": [],
   "source": [
    "new_model = Model(layers[:-2])\n",
    "testing_plot = new_model(testing_data_x)"
   ]
  },
  {
   "cell_type": "code",
   "execution_count": 26,
   "id": "4c0a5485",
   "metadata": {
    "execution": {
     "iopub.execute_input": "2021-12-31T20:10:47.188162Z",
     "iopub.status.busy": "2021-12-31T20:10:47.187559Z",
     "iopub.status.idle": "2021-12-31T20:10:47.393504Z",
     "shell.execute_reply": "2021-12-31T20:10:47.393056Z"
    },
    "papermill": {
     "duration": 0.252881,
     "end_time": "2021-12-31T20:10:47.393633",
     "exception": false,
     "start_time": "2021-12-31T20:10:47.140752",
     "status": "completed"
    },
    "tags": []
   },
   "outputs": [
    {
     "data": {
      "text/plain": [
       "Text(0.5, 1.0, 'Outputs')"
      ]
     },
     "execution_count": 26,
     "metadata": {},
     "output_type": "execute_result"
    },
    {
     "data": {
      "image/png": "[encoded data removed]",
      "text/plain": [
       "<Figure size 576x504 with 1 Axes>"
      ]
     },
     "metadata": {
      "needs_background": "light"
     },
     "output_type": "display_data"
    }
   ],
   "source": [
    "# Plotting the scatter plot of points and color coding by class\n",
    "plt.figure(figsize=(8,7))\n",
    "plt.scatter(testing_plot[:,0], testing_plot[:,1], alpha = 0.1, c = y_test.ravel());\n",
    "plt.title('Outputs')"
   ]
  },
  {
   "cell_type": "markdown",
   "id": "a74fcf8f",
   "metadata": {
    "papermill": {
     "duration": 0.045171,
     "end_time": "2021-12-31T20:10:47.484896",
     "exception": false,
     "start_time": "2021-12-31T20:10:47.439725",
     "status": "completed"
    },
    "tags": []
   },
   "source": [
    "Probability contours"
   ]
  },
  {
   "cell_type": "code",
   "execution_count": 27,
   "id": "d0afc8e3",
   "metadata": {
    "execution": {
     "iopub.execute_input": "2021-12-31T20:10:47.588734Z",
     "iopub.status.busy": "2021-12-31T20:10:47.588159Z",
     "iopub.status.idle": "2021-12-31T20:10:47.595208Z",
     "shell.execute_reply": "2021-12-31T20:10:47.594764Z"
    },
    "papermill": {
     "duration": 0.065396,
     "end_time": "2021-12-31T20:10:47.595338",
     "exception": false,
     "start_time": "2021-12-31T20:10:47.529942",
     "status": "completed"
    },
    "tags": []
   },
   "outputs": [],
   "source": [
    "model_prob = Model(layers[-2:]) "
   ]
  },
  {
   "cell_type": "code",
   "execution_count": 28,
   "id": "9b96e238",
   "metadata": {
    "execution": {
     "iopub.execute_input": "2021-12-31T20:10:47.733231Z",
     "iopub.status.busy": "2021-12-31T20:10:47.727603Z",
     "iopub.status.idle": "2021-12-31T20:10:47.744216Z",
     "shell.execute_reply": "2021-12-31T20:10:47.744614Z"
    },
    "papermill": {
     "duration": 0.066887,
     "end_time": "2021-12-31T20:10:47.744769",
     "exception": false,
     "start_time": "2021-12-31T20:10:47.677882",
     "status": "completed"
    },
    "tags": []
   },
   "outputs": [],
   "source": [
    "#creating the x and y ranges according to the above generated plot.\n",
    "x_range = np.linspace(-4, 1, 100) \n",
    "y_range = np.linspace(-6, 6, 100) \n",
    "x_grid, y_grid = np.meshgrid(x_range, y_range) # x_grid and y_grig are of size 100 X 100\n",
    "\n",
    "# converting x_grid and y_grid to continuous arrays\n",
    "x_gridflat = np.ravel(x_grid)\n",
    "y_gridflat = np.ravel(y_grid)\n",
    "\n",
    "# The last layer of the current model takes two columns as input. Hence transpose of np.vstack() is required.\n",
    "X = np.vstack((x_gridflat, y_gridflat)).T\n",
    "\n",
    "prob_contour = model_prob(X).reshape(100,100) "
   ]
  },
  {
   "cell_type": "code",
   "execution_count": 29,
   "id": "da72499a",
   "metadata": {
    "execution": {
     "iopub.execute_input": "2021-12-31T20:10:47.846457Z",
     "iopub.status.busy": "2021-12-31T20:10:47.845911Z",
     "iopub.status.idle": "2021-12-31T20:10:48.104817Z",
     "shell.execute_reply": "2021-12-31T20:10:48.104349Z"
    },
    "papermill": {
     "duration": 0.310123,
     "end_time": "2021-12-31T20:10:48.104942",
     "exception": false,
     "start_time": "2021-12-31T20:10:47.794819",
     "status": "completed"
    },
    "tags": []
   },
   "outputs": [
    {
     "data": {
      "image/png": "[encoded data removed]",
      "text/plain": [
       "<Figure size 720x648 with 1 Axes>"
      ]
     },
     "metadata": {
      "needs_background": "light"
     },
     "output_type": "display_data"
    }
   ],
   "source": [
    "plt.figure(figsize=(10,9))\n",
    "plt.scatter(testing_plot[:,0], testing_plot[:,1], alpha = 0.1, c = y_test.ravel())\n",
    "contours = plt.contour(x_grid,y_grid,prob_contour)\n",
    "plt.title('Probability Contours')\n",
    "plt.clabel(contours, inline = True );"
   ]
  },
  {
   "cell_type": "code",
   "execution_count": null,
   "id": "e81b4ac7",
   "metadata": {
    "papermill": {
     "duration": 0.047569,
     "end_time": "2021-12-31T20:10:48.200295",
     "exception": false,
     "start_time": "2021-12-31T20:10:48.152726",
     "status": "completed"
    },
    "tags": []
   },
   "outputs": [],
   "source": []
  }
 ],
 "metadata": {
  "kernelspec": {
   "display_name": "Python 3",
   "language": "python",
   "name": "python3"
  },
  "language_info": {
   "codemirror_mode": {
    "name": "ipython",
    "version": 3
   },
   "file_extension": ".py",
   "mimetype": "text/x-python",
   "name": "python",
   "nbconvert_exporter": "python",
   "pygments_lexer": "ipython3",
   "version": "3.6.15"
  },
  "papermill": {
   "default_parameters": {},
   "duration": 106.723181,
   "end_time": "2021-12-31T20:10:48.757327",
   "environment_variables": {},
   "exception": null,
   "input_path": "2020-08-11-part2.ipynb",
   "output_path": "2020-08-11-part2.ipynb",
   "parameters": {},
   "start_time": "2021-12-31T20:09:02.034146",
   "version": "2.3.3"
  }
 },
 "nbformat": 4,
 "nbformat_minor": 5
}