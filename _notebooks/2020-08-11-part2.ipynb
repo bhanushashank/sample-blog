{
 "cells": [
  {
   "cell_type": "markdown",
   "id": "98380cd3",
   "metadata": {
    "papermill": {
     "duration": 0.032066,
     "end_time": "2022-07-23T00:39:59.762588",
     "exception": false,
     "start_time": "2022-07-23T00:39:59.730522",
     "status": "completed"
    },
    "tags": []
   },
   "source": [
    "# Distinguish Your Own Digits (DYOD)"
   ]
  },
  {
   "cell_type": "markdown",
   "id": "ef31240d",
   "metadata": {
    "papermill": {
     "duration": 0.024037,
     "end_time": "2022-07-23T00:39:59.811493",
     "exception": false,
     "start_time": "2022-07-23T00:39:59.787456",
     "status": "completed"
    },
    "tags": []
   },
   "source": [
    "You are going to write a classifier that distinguishes between the number 3 and number 8."
   ]
  },
  {
   "cell_type": "code",
   "execution_count": 1,
   "id": "b15c8646",
   "metadata": {
    "execution": {
     "iopub.execute_input": "2022-07-23T00:39:59.870131Z",
     "iopub.status.busy": "2022-07-23T00:39:59.869490Z",
     "iopub.status.idle": "2022-07-23T00:39:59.880517Z",
     "shell.execute_reply": "2022-07-23T00:39:59.881104Z"
    },
    "papermill": {
     "duration": 0.045943,
     "end_time": "2022-07-23T00:39:59.881267",
     "exception": false,
     "start_time": "2022-07-23T00:39:59.835324",
     "status": "completed"
    },
    "tags": []
   },
   "outputs": [],
   "source": [
    "%load_ext autoreload\n",
    "%autoreload 2"
   ]
  },
  {
   "cell_type": "code",
   "execution_count": 2,
   "id": "22ef38dc",
   "metadata": {
    "execution": {
     "iopub.execute_input": "2022-07-23T00:39:59.934470Z",
     "iopub.status.busy": "2022-07-23T00:39:59.933850Z",
     "iopub.status.idle": "2022-07-23T00:40:00.496369Z",
     "shell.execute_reply": "2022-07-23T00:40:00.495802Z"
    },
    "papermill": {
     "duration": 0.590764,
     "end_time": "2022-07-23T00:40:00.496507",
     "exception": false,
     "start_time": "2022-07-23T00:39:59.905743",
     "status": "completed"
    },
    "tags": []
   },
   "outputs": [],
   "source": [
    "%matplotlib inline\n",
    "import numpy as np\n",
    "import matplotlib.pyplot as plt\n",
    "import pandas as pd"
   ]
  },
  {
   "cell_type": "markdown",
   "id": "ba036198",
   "metadata": {
    "papermill": {
     "duration": 0.023959,
     "end_time": "2022-07-23T00:40:00.544567",
     "exception": false,
     "start_time": "2022-07-23T00:40:00.520608",
     "status": "completed"
    },
    "tags": []
   },
   "source": [
    "From the command line run `pip install mnist`. This is a library that will help you bring down the mnist dataset. If you run this from a notebook, you need to put  `!pip install mnist` in a cell by itself."
   ]
  },
  {
   "cell_type": "code",
   "execution_count": 3,
   "id": "bb6ad8a1",
   "metadata": {
    "execution": {
     "iopub.execute_input": "2022-07-23T00:40:00.607411Z",
     "iopub.status.busy": "2022-07-23T00:40:00.601048Z",
     "iopub.status.idle": "2022-07-23T00:40:02.301106Z",
     "shell.execute_reply": "2022-07-23T00:40:02.300564Z"
    },
    "papermill": {
     "duration": 1.728639,
     "end_time": "2022-07-23T00:40:02.301234",
     "exception": false,
     "start_time": "2022-07-23T00:40:00.572595",
     "status": "completed"
    },
    "tags": []
   },
   "outputs": [
    {
     "name": "stdout",
     "output_type": "stream",
     "text": [
      "Collecting mnist\r\n"
     ]
    },
    {
     "name": "stdout",
     "output_type": "stream",
     "text": [
      "  Downloading mnist-0.2.2-py2.py3-none-any.whl (3.5 kB)\r\n",
      "Requirement already satisfied: numpy in /opt/hostedtoolcache/Python/3.6.15/x64/lib/python3.6/site-packages (from mnist) (1.19.5)\r\n"
     ]
    },
    {
     "name": "stdout",
     "output_type": "stream",
     "text": [
      "Installing collected packages: mnist\r\n",
      "Successfully installed mnist-0.2.2\r\n"
     ]
    }
   ],
   "source": [
    "!pip install mnist"
   ]
  },
  {
   "cell_type": "markdown",
   "id": "69df9c9a",
   "metadata": {
    "papermill": {
     "duration": 0.025739,
     "end_time": "2022-07-23T00:40:02.352088",
     "exception": false,
     "start_time": "2022-07-23T00:40:02.326349",
     "status": "completed"
    },
    "tags": []
   },
   "source": [
    "## Preparing the Data"
   ]
  },
  {
   "cell_type": "code",
   "execution_count": 4,
   "id": "7f69d806",
   "metadata": {
    "execution": {
     "iopub.execute_input": "2022-07-23T00:40:02.412797Z",
     "iopub.status.busy": "2022-07-23T00:40:02.406372Z",
     "iopub.status.idle": "2022-07-23T00:40:02.423039Z",
     "shell.execute_reply": "2022-07-23T00:40:02.422537Z"
    },
    "papermill": {
     "duration": 0.045903,
     "end_time": "2022-07-23T00:40:02.423165",
     "exception": false,
     "start_time": "2022-07-23T00:40:02.377262",
     "status": "completed"
    },
    "tags": []
   },
   "outputs": [],
   "source": [
    "import mnist"
   ]
  },
  {
   "cell_type": "code",
   "execution_count": 5,
   "id": "a411e44f",
   "metadata": {
    "execution": {
     "iopub.execute_input": "2022-07-23T00:40:02.478007Z",
     "iopub.status.busy": "2022-07-23T00:40:02.477403Z",
     "iopub.status.idle": "2022-07-23T00:40:03.041868Z",
     "shell.execute_reply": "2022-07-23T00:40:03.042367Z"
    },
    "papermill": {
     "duration": 0.594528,
     "end_time": "2022-07-23T00:40:03.042520",
     "exception": false,
     "start_time": "2022-07-23T00:40:02.447992",
     "status": "completed"
    },
    "tags": []
   },
   "outputs": [],
   "source": [
    "train_images = mnist.train_images()\n",
    "train_labels = mnist.train_labels()"
   ]
  },
  {
   "cell_type": "code",
   "execution_count": 6,
   "id": "dceab3a5",
   "metadata": {
    "execution": {
     "iopub.execute_input": "2022-07-23T00:40:03.097521Z",
     "iopub.status.busy": "2022-07-23T00:40:03.096894Z",
     "iopub.status.idle": "2022-07-23T00:40:03.113321Z",
     "shell.execute_reply": "2022-07-23T00:40:03.112847Z"
    },
    "papermill": {
     "duration": 0.045951,
     "end_time": "2022-07-23T00:40:03.113448",
     "exception": false,
     "start_time": "2022-07-23T00:40:03.067497",
     "status": "completed"
    },
    "tags": []
   },
   "outputs": [
    {
     "data": {
      "text/plain": [
       "((60000, 28, 28), (60000,))"
      ]
     },
     "execution_count": 6,
     "metadata": {},
     "output_type": "execute_result"
    }
   ],
   "source": [
    "train_images.shape, train_labels.shape"
   ]
  },
  {
   "cell_type": "code",
   "execution_count": 7,
   "id": "f50dc2bb",
   "metadata": {
    "execution": {
     "iopub.execute_input": "2022-07-23T00:40:03.167580Z",
     "iopub.status.busy": "2022-07-23T00:40:03.166974Z",
     "iopub.status.idle": "2022-07-23T00:40:03.350515Z",
     "shell.execute_reply": "2022-07-23T00:40:03.351040Z"
    },
    "papermill": {
     "duration": 0.212899,
     "end_time": "2022-07-23T00:40:03.351210",
     "exception": false,
     "start_time": "2022-07-23T00:40:03.138311",
     "status": "completed"
    },
    "tags": []
   },
   "outputs": [],
   "source": [
    "test_images = mnist.test_images()\n",
    "test_labels = mnist.test_labels()"
   ]
  },
  {
   "cell_type": "code",
   "execution_count": 8,
   "id": "fc38cf1b",
   "metadata": {
    "execution": {
     "iopub.execute_input": "2022-07-23T00:40:03.406409Z",
     "iopub.status.busy": "2022-07-23T00:40:03.405797Z",
     "iopub.status.idle": "2022-07-23T00:40:03.420628Z",
     "shell.execute_reply": "2022-07-23T00:40:03.421087Z"
    },
    "papermill": {
     "duration": 0.044213,
     "end_time": "2022-07-23T00:40:03.421228",
     "exception": false,
     "start_time": "2022-07-23T00:40:03.377015",
     "status": "completed"
    },
    "tags": []
   },
   "outputs": [
    {
     "data": {
      "text/plain": [
       "((10000, 28, 28), (10000,))"
      ]
     },
     "execution_count": 8,
     "metadata": {},
     "output_type": "execute_result"
    }
   ],
   "source": [
    "test_images.shape, test_labels.shape"
   ]
  },
  {
   "cell_type": "code",
   "execution_count": 9,
   "id": "f9ed8fe0",
   "metadata": {
    "execution": {
     "iopub.execute_input": "2022-07-23T00:40:03.476430Z",
     "iopub.status.busy": "2022-07-23T00:40:03.475783Z",
     "iopub.status.idle": "2022-07-23T00:40:03.617059Z",
     "shell.execute_reply": "2022-07-23T00:40:03.617597Z"
    },
    "papermill": {
     "duration": 0.171363,
     "end_time": "2022-07-23T00:40:03.617760",
     "exception": false,
     "start_time": "2022-07-23T00:40:03.446397",
     "status": "completed"
    },
    "tags": []
   },
   "outputs": [
    {
     "name": "stdout",
     "output_type": "stream",
     "text": [
      "2\n"
     ]
    },
    {
     "data": {
      "text/plain": [
       "<matplotlib.image.AxesImage at 0x7f6fa5109438>"
      ]
     },
     "execution_count": 9,
     "metadata": {},
     "output_type": "execute_result"
    },
    {
     "data": {
      "image/png": "[encoded data removed]",
      "text/plain": [
       "<Figure size 432x288 with 1 Axes>"
      ]
     },
     "metadata": {
      "needs_background": "light"
     },
     "output_type": "display_data"
    }
   ],
   "source": [
    "image_index = 7776 # You may select anything up to 60,000\n",
    "print(train_labels[image_index]) \n",
    "plt.imshow(train_images[image_index], cmap='Greys')"
   ]
  },
  {
   "cell_type": "markdown",
   "id": "a8d2388d",
   "metadata": {
    "papermill": {
     "duration": 0.030549,
     "end_time": "2022-07-23T00:40:03.674995",
     "exception": false,
     "start_time": "2022-07-23T00:40:03.644446",
     "status": "completed"
    },
    "tags": []
   },
   "source": [
    "## Filter data to get 3 and 8 out"
   ]
  },
  {
   "cell_type": "code",
   "execution_count": 10,
   "id": "776f7fc7",
   "metadata": {
    "execution": {
     "iopub.execute_input": "2022-07-23T00:40:03.737287Z",
     "iopub.status.busy": "2022-07-23T00:40:03.736662Z",
     "iopub.status.idle": "2022-07-23T00:40:03.756901Z",
     "shell.execute_reply": "2022-07-23T00:40:03.756319Z"
    },
    "papermill": {
     "duration": 0.051538,
     "end_time": "2022-07-23T00:40:03.757037",
     "exception": false,
     "start_time": "2022-07-23T00:40:03.705499",
     "status": "completed"
    },
    "tags": []
   },
   "outputs": [],
   "source": [
    "train_filter = np.where((train_labels == 3 ) | (train_labels == 8))\n",
    "test_filter = np.where((test_labels == 3) | (test_labels == 8))\n",
    "X_train, y_train = train_images[train_filter], train_labels[train_filter]\n",
    "X_test, y_test = test_images[test_filter], test_labels[test_filter]"
   ]
  },
  {
   "cell_type": "markdown",
   "id": "948f0b7e",
   "metadata": {
    "papermill": {
     "duration": 0.026262,
     "end_time": "2022-07-23T00:40:03.811020",
     "exception": false,
     "start_time": "2022-07-23T00:40:03.784758",
     "status": "completed"
    },
    "tags": []
   },
   "source": [
    "We normalize the pizel values in the 0 to 1 range"
   ]
  },
  {
   "cell_type": "code",
   "execution_count": 11,
   "id": "ee4c2166",
   "metadata": {
    "execution": {
     "iopub.execute_input": "2022-07-23T00:40:03.869881Z",
     "iopub.status.busy": "2022-07-23T00:40:03.869268Z",
     "iopub.status.idle": "2022-07-23T00:40:03.947408Z",
     "shell.execute_reply": "2022-07-23T00:40:03.946858Z"
    },
    "papermill": {
     "duration": 0.110375,
     "end_time": "2022-07-23T00:40:03.947538",
     "exception": false,
     "start_time": "2022-07-23T00:40:03.837163",
     "status": "completed"
    },
    "tags": []
   },
   "outputs": [],
   "source": [
    "X_train = X_train/255.\n",
    "X_test = X_test/255."
   ]
  },
  {
   "cell_type": "markdown",
   "id": "ddcf4fab",
   "metadata": {
    "papermill": {
     "duration": 0.026262,
     "end_time": "2022-07-23T00:40:04.004299",
     "exception": false,
     "start_time": "2022-07-23T00:40:03.978037",
     "status": "completed"
    },
    "tags": []
   },
   "source": [
    "And setup the labels as 1 (when the digit is 3) and 0 (when the digit is 8)"
   ]
  },
  {
   "cell_type": "code",
   "execution_count": 12,
   "id": "7dc908f2",
   "metadata": {
    "execution": {
     "iopub.execute_input": "2022-07-23T00:40:04.062123Z",
     "iopub.status.busy": "2022-07-23T00:40:04.061508Z",
     "iopub.status.idle": "2022-07-23T00:40:04.074341Z",
     "shell.execute_reply": "2022-07-23T00:40:04.074831Z"
    },
    "papermill": {
     "duration": 0.044477,
     "end_time": "2022-07-23T00:40:04.074970",
     "exception": false,
     "start_time": "2022-07-23T00:40:04.030493",
     "status": "completed"
    },
    "tags": []
   },
   "outputs": [],
   "source": [
    "y_train = 1*(y_train==3)\n",
    "y_test = 1*(y_test==3)"
   ]
  },
  {
   "cell_type": "code",
   "execution_count": 13,
   "id": "01e4e969",
   "metadata": {
    "execution": {
     "iopub.execute_input": "2022-07-23T00:40:04.131880Z",
     "iopub.status.busy": "2022-07-23T00:40:04.131243Z",
     "iopub.status.idle": "2022-07-23T00:40:04.145882Z",
     "shell.execute_reply": "2022-07-23T00:40:04.146373Z"
    },
    "papermill": {
     "duration": 0.045297,
     "end_time": "2022-07-23T00:40:04.146512",
     "exception": false,
     "start_time": "2022-07-23T00:40:04.101215",
     "status": "completed"
    },
    "tags": []
   },
   "outputs": [
    {
     "data": {
      "text/plain": [
       "((11982, 28, 28), (1984, 28, 28))"
      ]
     },
     "execution_count": 13,
     "metadata": {},
     "output_type": "execute_result"
    }
   ],
   "source": [
    "X_train.shape, X_test.shape"
   ]
  },
  {
   "cell_type": "markdown",
   "id": "5ccf3f85",
   "metadata": {
    "papermill": {
     "duration": 0.026546,
     "end_time": "2022-07-23T00:40:04.203695",
     "exception": false,
     "start_time": "2022-07-23T00:40:04.177149",
     "status": "completed"
    },
    "tags": []
   },
   "source": [
    "We reshape the data to flatten the image pixels into a set of features or co-variates:"
   ]
  },
  {
   "cell_type": "code",
   "execution_count": 14,
   "id": "5286a4a3",
   "metadata": {
    "execution": {
     "iopub.execute_input": "2022-07-23T00:40:04.262422Z",
     "iopub.status.busy": "2022-07-23T00:40:04.261796Z",
     "iopub.status.idle": "2022-07-23T00:40:04.277772Z",
     "shell.execute_reply": "2022-07-23T00:40:04.278211Z"
    },
    "papermill": {
     "duration": 0.047762,
     "end_time": "2022-07-23T00:40:04.278357",
     "exception": false,
     "start_time": "2022-07-23T00:40:04.230595",
     "status": "completed"
    },
    "tags": []
   },
   "outputs": [
    {
     "data": {
      "text/plain": [
       "((11982, 784), (1984, 784))"
      ]
     },
     "execution_count": 14,
     "metadata": {},
     "output_type": "execute_result"
    }
   ],
   "source": [
    "X_train = X_train.reshape(X_train.shape[0], -1)\n",
    "X_test = X_test.reshape(X_test.shape[0], -1)\n",
    "X_train.shape, X_test.shape"
   ]
  },
  {
   "cell_type": "code",
   "execution_count": 15,
   "id": "73c5f88a",
   "metadata": {
    "execution": {
     "iopub.execute_input": "2022-07-23T00:40:04.336705Z",
     "iopub.status.busy": "2022-07-23T00:40:04.336099Z",
     "iopub.status.idle": "2022-07-23T00:40:04.361745Z",
     "shell.execute_reply": "2022-07-23T00:40:04.362300Z"
    },
    "papermill": {
     "duration": 0.057341,
     "end_time": "2022-07-23T00:40:04.362464",
     "exception": false,
     "start_time": "2022-07-23T00:40:04.305123",
     "status": "completed"
    },
    "tags": []
   },
   "outputs": [],
   "source": [
    "#Impoting functions from 'Kudzu'\n",
    "from kudzu.model import Model\n",
    "from kudzu.train import Learner\n",
    "from kudzu.optim import GD\n",
    "from kudzu.data import Data, Sampler,Dataloader\n",
    "\n",
    "from kudzu.callbacks import AccCallback\n",
    "from kudzu.callbacks import ClfCallback\n",
    "\n",
    "from kudzu.loss import MSE\n",
    "\n",
    "from kudzu.layer import Sigmoid,Relu\n",
    "from kudzu.layer import Affine"
   ]
  },
  {
   "cell_type": "markdown",
   "id": "bc01172a",
   "metadata": {
    "papermill": {
     "duration": 0.026831,
     "end_time": "2022-07-23T00:40:04.416558",
     "exception": false,
     "start_time": "2022-07-23T00:40:04.389727",
     "status": "completed"
    },
    "tags": []
   },
   "source": [
    "### Let us create a `Config` class, to store important parameters. \n",
    "This class essentially plays the role of a dictionary."
   ]
  },
  {
   "cell_type": "code",
   "execution_count": 16,
   "id": "978281aa",
   "metadata": {
    "execution": {
     "iopub.execute_input": "2022-07-23T00:40:04.473953Z",
     "iopub.status.busy": "2022-07-23T00:40:04.473355Z",
     "iopub.status.idle": "2022-07-23T00:40:04.486419Z",
     "shell.execute_reply": "2022-07-23T00:40:04.486992Z"
    },
    "papermill": {
     "duration": 0.044075,
     "end_time": "2022-07-23T00:40:04.487128",
     "exception": false,
     "start_time": "2022-07-23T00:40:04.443053",
     "status": "completed"
    },
    "tags": []
   },
   "outputs": [],
   "source": [
    "class Config:\n",
    "    pass\n",
    "config = Config()\n",
    "config.lr = 0.001\n",
    "config.num_epochs = 250\n",
    "config.bs = 50"
   ]
  },
  {
   "cell_type": "markdown",
   "id": "1385fa59",
   "metadata": {
    "papermill": {
     "duration": 0.026628,
     "end_time": "2022-07-23T00:40:04.540524",
     "exception": false,
     "start_time": "2022-07-23T00:40:04.513896",
     "status": "completed"
    },
    "tags": []
   },
   "source": [
    "### Running Models with the Training data\n",
    "Details about the network layers:\n",
    "- A first affine layer has 784 inputs and does 100 affine transforms. These are followed by a Relu\n",
    "- A second affine layer has 100 inputs from the 100 activations of the past layer, and does 100 affine transforms. These are followed by a Relu\n",
    "- A third affine layer has 100 activations and does 2 affine transformations to create an embedding for visualization. There is no non-linearity here.\n",
    "- A final \"logistic regression\" which has an affine transform from 2 inputs to 1 output, which is squeezed through a sigmoid.\n"
   ]
  },
  {
   "cell_type": "code",
   "execution_count": 17,
   "id": "2b9c66db",
   "metadata": {
    "execution": {
     "iopub.execute_input": "2022-07-23T00:40:04.598649Z",
     "iopub.status.busy": "2022-07-23T00:40:04.598041Z",
     "iopub.status.idle": "2022-07-23T00:40:04.612270Z",
     "shell.execute_reply": "2022-07-23T00:40:04.611741Z"
    },
    "papermill": {
     "duration": 0.04534,
     "end_time": "2022-07-23T00:40:04.612389",
     "exception": false,
     "start_time": "2022-07-23T00:40:04.567049",
     "status": "completed"
    },
    "tags": []
   },
   "outputs": [],
   "source": [
    "data = Data(X_train, y_train.reshape(-1,1))\n",
    "sampler = Sampler(data, config.bs, shuffle=True)\n",
    "\n",
    "dl = Dataloader(data, sampler)\n",
    "\n",
    "opt = GD(config.lr)\n",
    "loss = MSE()"
   ]
  },
  {
   "cell_type": "code",
   "execution_count": 18,
   "id": "b275e4c2",
   "metadata": {
    "execution": {
     "iopub.execute_input": "2022-07-23T00:40:04.669765Z",
     "iopub.status.busy": "2022-07-23T00:40:04.669167Z",
     "iopub.status.idle": "2022-07-23T00:40:04.682442Z",
     "shell.execute_reply": "2022-07-23T00:40:04.683006Z"
    },
    "papermill": {
     "duration": 0.044189,
     "end_time": "2022-07-23T00:40:04.683141",
     "exception": false,
     "start_time": "2022-07-23T00:40:04.638952",
     "status": "completed"
    },
    "tags": []
   },
   "outputs": [],
   "source": [
    "training_data_x = X_train\n",
    "testing_data_x = X_test\n",
    "training_data_y = y_train.reshape(-1,1)\n",
    "testing_data_y = y_test.reshape(-1,1)"
   ]
  },
  {
   "cell_type": "code",
   "execution_count": 19,
   "id": "76951160",
   "metadata": {
    "execution": {
     "iopub.execute_input": "2022-07-23T00:40:04.741967Z",
     "iopub.status.busy": "2022-07-23T00:40:04.741346Z",
     "iopub.status.idle": "2022-07-23T00:40:04.759184Z",
     "shell.execute_reply": "2022-07-23T00:40:04.759678Z"
    },
    "papermill": {
     "duration": 0.050126,
     "end_time": "2022-07-23T00:40:04.759836",
     "exception": false,
     "start_time": "2022-07-23T00:40:04.709710",
     "status": "completed"
    },
    "tags": []
   },
   "outputs": [
    {
     "name": "stdout",
     "output_type": "stream",
     "text": [
      "xavier\n",
      "xavier\n",
      "xavier\n",
      "xavier\n",
      "xavier\n"
     ]
    }
   ],
   "source": [
    "layers = [Affine(\"first\", 784, 100), Relu(\"first\"), Affine(\"second\", 100, 100), Relu(\"second\"), Affine(\"third\", 100, 2), Affine(\"last\", 2, 1), Sigmoid(\"last\")]\n",
    "model_nn = Model(layers)\n",
    "model_lr = Model([Affine(\"logits\", 784, 1), Sigmoid(\"sigmoid\")])"
   ]
  },
  {
   "cell_type": "code",
   "execution_count": 20,
   "id": "6eede77a",
   "metadata": {
    "execution": {
     "iopub.execute_input": "2022-07-23T00:40:04.819389Z",
     "iopub.status.busy": "2022-07-23T00:40:04.818788Z",
     "iopub.status.idle": "2022-07-23T00:40:04.832426Z",
     "shell.execute_reply": "2022-07-23T00:40:04.833002Z"
    },
    "papermill": {
     "duration": 0.045794,
     "end_time": "2022-07-23T00:40:04.833137",
     "exception": false,
     "start_time": "2022-07-23T00:40:04.787343",
     "status": "completed"
    },
    "tags": []
   },
   "outputs": [],
   "source": [
    "nn_learner = Learner(loss, model_nn, opt, config.num_epochs)\n",
    "acc_nn = ClfCallback(nn_learner, config.bs, training_data_x , testing_data_x, training_data_y, testing_data_y)\n",
    "nn_learner.set_callbacks([acc_nn])"
   ]
  },
  {
   "cell_type": "code",
   "execution_count": 21,
   "id": "877b6cc7",
   "metadata": {
    "execution": {
     "iopub.execute_input": "2022-07-23T00:40:04.891995Z",
     "iopub.status.busy": "2022-07-23T00:40:04.891358Z",
     "iopub.status.idle": "2022-07-23T00:40:04.904597Z",
     "shell.execute_reply": "2022-07-23T00:40:04.905055Z"
    },
    "papermill": {
     "duration": 0.044775,
     "end_time": "2022-07-23T00:40:04.905186",
     "exception": false,
     "start_time": "2022-07-23T00:40:04.860411",
     "status": "completed"
    },
    "tags": []
   },
   "outputs": [],
   "source": [
    "lr_learner = Learner(loss, model_lr, opt, config.num_epochs)\n",
    "acc_lr = ClfCallback(lr_learner, config.bs, training_data_x , testing_data_x, training_data_y, testing_data_y)\n",
    "lr_learner.set_callbacks([acc_lr])"
   ]
  },
  {
   "cell_type": "code",
   "execution_count": 22,
   "id": "d9b133c3",
   "metadata": {
    "execution": {
     "iopub.execute_input": "2022-07-23T00:40:04.963460Z",
     "iopub.status.busy": "2022-07-23T00:40:04.962867Z",
     "iopub.status.idle": "2022-07-23T00:41:22.949422Z",
     "shell.execute_reply": "2022-07-23T00:41:22.950309Z"
    },
    "papermill": {
     "duration": 78.017923,
     "end_time": "2022-07-23T00:41:22.950460",
     "exception": false,
     "start_time": "2022-07-23T00:40:04.932537",
     "status": "completed"
    },
    "tags": []
   },
   "outputs": [
    {
     "name": "stdout",
     "output_type": "stream",
     "text": [
      "Epoch 0, Loss 0.2586\n",
      "Training Accuracy: 0.4748, Testing Accuracy: 0.4526\n",
      "\n"
     ]
    },
    {
     "name": "stdout",
     "output_type": "stream",
     "text": [
      "Epoch 10, Loss 0.1621\n",
      "Training Accuracy: 0.8660, Testing Accuracy: 0.8810\n",
      "\n"
     ]
    },
    {
     "name": "stdout",
     "output_type": "stream",
     "text": [
      "Epoch 20, Loss 0.0827\n",
      "Training Accuracy: 0.9187, Testing Accuracy: 0.9289\n",
      "\n"
     ]
    },
    {
     "name": "stdout",
     "output_type": "stream",
     "text": [
      "Epoch 30, Loss 0.0563\n",
      "Training Accuracy: 0.9401, Testing Accuracy: 0.9501\n",
      "\n"
     ]
    },
    {
     "name": "stdout",
     "output_type": "stream",
     "text": [
      "Epoch 40, Loss 0.0453\n",
      "Training Accuracy: 0.9508, Testing Accuracy: 0.9567\n",
      "\n"
     ]
    },
    {
     "name": "stdout",
     "output_type": "stream",
     "text": [
      "Epoch 50, Loss 0.0394\n",
      "Training Accuracy: 0.9558, Testing Accuracy: 0.9607\n",
      "\n"
     ]
    },
    {
     "name": "stdout",
     "output_type": "stream",
     "text": [
      "Epoch 60, Loss 0.0356\n",
      "Training Accuracy: 0.9594, Testing Accuracy: 0.9627\n",
      "\n"
     ]
    },
    {
     "name": "stdout",
     "output_type": "stream",
     "text": [
      "Epoch 70, Loss 0.033\n",
      "Training Accuracy: 0.9617, Testing Accuracy: 0.9652\n",
      "\n"
     ]
    },
    {
     "name": "stdout",
     "output_type": "stream",
     "text": [
      "Epoch 80, Loss 0.031\n",
      "Training Accuracy: 0.9643, Testing Accuracy: 0.9652\n",
      "\n"
     ]
    },
    {
     "name": "stdout",
     "output_type": "stream",
     "text": [
      "Epoch 90, Loss 0.0294\n",
      "Training Accuracy: 0.9661, Testing Accuracy: 0.9677\n",
      "\n"
     ]
    },
    {
     "name": "stdout",
     "output_type": "stream",
     "text": [
      "Epoch 100, Loss 0.0282\n",
      "Training Accuracy: 0.9683, Testing Accuracy: 0.9693\n",
      "\n"
     ]
    },
    {
     "name": "stdout",
     "output_type": "stream",
     "text": [
      "Epoch 110, Loss 0.0271\n",
      "Training Accuracy: 0.9695, Testing Accuracy: 0.9693\n",
      "\n"
     ]
    },
    {
     "name": "stdout",
     "output_type": "stream",
     "text": [
      "Epoch 120, Loss 0.0262\n",
      "Training Accuracy: 0.9700, Testing Accuracy: 0.9688\n",
      "\n"
     ]
    },
    {
     "name": "stdout",
     "output_type": "stream",
     "text": [
      "Epoch 130, Loss 0.0255\n",
      "Training Accuracy: 0.9708, Testing Accuracy: 0.9693\n",
      "\n"
     ]
    },
    {
     "name": "stdout",
     "output_type": "stream",
     "text": [
      "Epoch 140, Loss 0.0248\n",
      "Training Accuracy: 0.9715, Testing Accuracy: 0.9703\n",
      "\n"
     ]
    },
    {
     "name": "stdout",
     "output_type": "stream",
     "text": [
      "Epoch 150, Loss 0.0242\n",
      "Training Accuracy: 0.9721, Testing Accuracy: 0.9708\n",
      "\n"
     ]
    },
    {
     "name": "stdout",
     "output_type": "stream",
     "text": [
      "Epoch 160, Loss 0.0236\n",
      "Training Accuracy: 0.9729, Testing Accuracy: 0.9708\n",
      "\n"
     ]
    },
    {
     "name": "stdout",
     "output_type": "stream",
     "text": [
      "Epoch 170, Loss 0.0231\n",
      "Training Accuracy: 0.9735, Testing Accuracy: 0.9708\n",
      "\n"
     ]
    },
    {
     "name": "stdout",
     "output_type": "stream",
     "text": [
      "Epoch 180, Loss 0.0226\n",
      "Training Accuracy: 0.9742, Testing Accuracy: 0.9718\n",
      "\n"
     ]
    },
    {
     "name": "stdout",
     "output_type": "stream",
     "text": [
      "Epoch 190, Loss 0.0221\n",
      "Training Accuracy: 0.9746, Testing Accuracy: 0.9723\n",
      "\n"
     ]
    },
    {
     "name": "stdout",
     "output_type": "stream",
     "text": [
      "Epoch 200, Loss 0.0217\n",
      "Training Accuracy: 0.9756, Testing Accuracy: 0.9723\n",
      "\n"
     ]
    },
    {
     "name": "stdout",
     "output_type": "stream",
     "text": [
      "Epoch 210, Loss 0.0213\n",
      "Training Accuracy: 0.9760, Testing Accuracy: 0.9733\n",
      "\n"
     ]
    },
    {
     "name": "stdout",
     "output_type": "stream",
     "text": [
      "Epoch 220, Loss 0.0209\n",
      "Training Accuracy: 0.9765, Testing Accuracy: 0.9733\n",
      "\n"
     ]
    },
    {
     "name": "stdout",
     "output_type": "stream",
     "text": [
      "Epoch 230, Loss 0.0206\n",
      "Training Accuracy: 0.9768, Testing Accuracy: 0.9733\n",
      "\n"
     ]
    },
    {
     "name": "stdout",
     "output_type": "stream",
     "text": [
      "Epoch 240, Loss 0.0202\n",
      "Training Accuracy: 0.9772, Testing Accuracy: 0.9738\n",
      "\n"
     ]
    },
    {
     "data": {
      "text/plain": [
       "0.043311736160984236"
      ]
     },
     "execution_count": 22,
     "metadata": {},
     "output_type": "execute_result"
    }
   ],
   "source": [
    "nn_learner.train_loop(dl)"
   ]
  },
  {
   "cell_type": "code",
   "execution_count": 23,
   "id": "e0163366",
   "metadata": {
    "execution": {
     "iopub.execute_input": "2022-07-23T00:41:23.037367Z",
     "iopub.status.busy": "2022-07-23T00:41:23.036750Z",
     "iopub.status.idle": "2022-07-23T00:41:36.849201Z",
     "shell.execute_reply": "2022-07-23T00:41:36.850110Z"
    },
    "papermill": {
     "duration": 13.863397,
     "end_time": "2022-07-23T00:41:36.850266",
     "exception": false,
     "start_time": "2022-07-23T00:41:22.986869",
     "status": "completed"
    },
    "tags": []
   },
   "outputs": [
    {
     "name": "stdout",
     "output_type": "stream",
     "text": [
      "Epoch 0, Loss 0.2681\n",
      "Training Accuracy: 0.5704, Testing Accuracy: 0.5650\n",
      "\n"
     ]
    },
    {
     "name": "stdout",
     "output_type": "stream",
     "text": [
      "Epoch 10, Loss 0.1072\n",
      "Training Accuracy: 0.9036, Testing Accuracy: 0.9219\n",
      "\n"
     ]
    },
    {
     "name": "stdout",
     "output_type": "stream",
     "text": [
      "Epoch 20, Loss 0.0811\n",
      "Training Accuracy: 0.9256, Testing Accuracy: 0.9415\n",
      "\n"
     ]
    },
    {
     "name": "stdout",
     "output_type": "stream",
     "text": [
      "Epoch 30, Loss 0.0694\n",
      "Training Accuracy: 0.9346, Testing Accuracy: 0.9511\n",
      "\n"
     ]
    },
    {
     "name": "stdout",
     "output_type": "stream",
     "text": [
      "Epoch 40, Loss 0.0624\n",
      "Training Accuracy: 0.9408, Testing Accuracy: 0.9546\n",
      "\n"
     ]
    },
    {
     "name": "stdout",
     "output_type": "stream",
     "text": [
      "Epoch 50, Loss 0.0577\n",
      "Training Accuracy: 0.9447, Testing Accuracy: 0.9582\n",
      "\n"
     ]
    },
    {
     "name": "stdout",
     "output_type": "stream",
     "text": [
      "Epoch 60, Loss 0.0543\n",
      "Training Accuracy: 0.9475, Testing Accuracy: 0.9607\n",
      "\n"
     ]
    },
    {
     "name": "stdout",
     "output_type": "stream",
     "text": [
      "Epoch 70, Loss 0.0516\n",
      "Training Accuracy: 0.9503, Testing Accuracy: 0.9612\n",
      "\n"
     ]
    },
    {
     "name": "stdout",
     "output_type": "stream",
     "text": [
      "Epoch 80, Loss 0.0495\n",
      "Training Accuracy: 0.9509, Testing Accuracy: 0.9612\n",
      "\n"
     ]
    },
    {
     "name": "stdout",
     "output_type": "stream",
     "text": [
      "Epoch 90, Loss 0.0478\n",
      "Training Accuracy: 0.9528, Testing Accuracy: 0.9622\n",
      "\n"
     ]
    },
    {
     "name": "stdout",
     "output_type": "stream",
     "text": [
      "Epoch 100, Loss 0.0463\n",
      "Training Accuracy: 0.9543, Testing Accuracy: 0.9632\n",
      "\n"
     ]
    },
    {
     "name": "stdout",
     "output_type": "stream",
     "text": [
      "Epoch 110, Loss 0.0451\n",
      "Training Accuracy: 0.9551, Testing Accuracy: 0.9622\n",
      "\n"
     ]
    },
    {
     "name": "stdout",
     "output_type": "stream",
     "text": [
      "Epoch 120, Loss 0.044\n",
      "Training Accuracy: 0.9556, Testing Accuracy: 0.9632\n",
      "\n"
     ]
    },
    {
     "name": "stdout",
     "output_type": "stream",
     "text": [
      "Epoch 130, Loss 0.043\n",
      "Training Accuracy: 0.9561, Testing Accuracy: 0.9632\n",
      "\n"
     ]
    },
    {
     "name": "stdout",
     "output_type": "stream",
     "text": [
      "Epoch 140, Loss 0.0422\n",
      "Training Accuracy: 0.9566, Testing Accuracy: 0.9637\n",
      "\n"
     ]
    },
    {
     "name": "stdout",
     "output_type": "stream",
     "text": [
      "Epoch 150, Loss 0.0414\n",
      "Training Accuracy: 0.9572, Testing Accuracy: 0.9642\n",
      "\n"
     ]
    },
    {
     "name": "stdout",
     "output_type": "stream",
     "text": [
      "Epoch 160, Loss 0.0407\n",
      "Training Accuracy: 0.9576, Testing Accuracy: 0.9652\n",
      "\n"
     ]
    },
    {
     "name": "stdout",
     "output_type": "stream",
     "text": [
      "Epoch 170, Loss 0.0401\n",
      "Training Accuracy: 0.9579, Testing Accuracy: 0.9657\n",
      "\n"
     ]
    },
    {
     "name": "stdout",
     "output_type": "stream",
     "text": [
      "Epoch 180, Loss 0.0395\n",
      "Training Accuracy: 0.9583, Testing Accuracy: 0.9657\n",
      "\n"
     ]
    },
    {
     "name": "stdout",
     "output_type": "stream",
     "text": [
      "Epoch 190, Loss 0.039\n",
      "Training Accuracy: 0.9585, Testing Accuracy: 0.9667\n",
      "\n"
     ]
    },
    {
     "name": "stdout",
     "output_type": "stream",
     "text": [
      "Epoch 200, Loss 0.0385\n",
      "Training Accuracy: 0.9589, Testing Accuracy: 0.9672\n",
      "\n"
     ]
    },
    {
     "name": "stdout",
     "output_type": "stream",
     "text": [
      "Epoch 210, Loss 0.0381\n",
      "Training Accuracy: 0.9594, Testing Accuracy: 0.9672\n",
      "\n"
     ]
    },
    {
     "name": "stdout",
     "output_type": "stream",
     "text": [
      "Epoch 220, Loss 0.0377\n",
      "Training Accuracy: 0.9599, Testing Accuracy: 0.9677\n",
      "\n"
     ]
    },
    {
     "name": "stdout",
     "output_type": "stream",
     "text": [
      "Epoch 230, Loss 0.0373\n",
      "Training Accuracy: 0.9603, Testing Accuracy: 0.9672\n",
      "\n"
     ]
    },
    {
     "name": "stdout",
     "output_type": "stream",
     "text": [
      "Epoch 240, Loss 0.0369\n",
      "Training Accuracy: 0.9606, Testing Accuracy: 0.9667\n",
      "\n"
     ]
    },
    {
     "data": {
      "text/plain": [
       "0.04472722499198934"
      ]
     },
     "execution_count": 23,
     "metadata": {},
     "output_type": "execute_result"
    }
   ],
   "source": [
    "lr_learner.train_loop(dl)"
   ]
  },
  {
   "cell_type": "code",
   "execution_count": 24,
   "id": "ca410940",
   "metadata": {
    "execution": {
     "iopub.execute_input": "2022-07-23T00:41:36.945690Z",
     "iopub.status.busy": "2022-07-23T00:41:36.945078Z",
     "iopub.status.idle": "2022-07-23T00:41:37.184170Z",
     "shell.execute_reply": "2022-07-23T00:41:37.185070Z"
    },
    "papermill": {
     "duration": 0.289454,
     "end_time": "2022-07-23T00:41:37.185224",
     "exception": false,
     "start_time": "2022-07-23T00:41:36.895770",
     "status": "completed"
    },
    "tags": []
   },
   "outputs": [
    {
     "data": {
      "text/plain": [
       "<matplotlib.legend.Legend at 0x7f6fa4c69b00>"
      ]
     },
     "execution_count": 24,
     "metadata": {},
     "output_type": "execute_result"
    },
    {
     "data": {
      "image/png": "[encoded data removed]",
      "text/plain": [
       "<Figure size 1080x720 with 1 Axes>"
      ]
     },
     "metadata": {
      "needs_background": "light"
     },
     "output_type": "display_data"
    }
   ],
   "source": [
    "#comparing the results of NN and LR\n",
    "plt.figure(figsize=(15,10))\n",
    "\n",
    "# Neural Network plots\n",
    "plt.plot(acc_nn.accuracies, 'r-', label = \"Training Accuracies - NN\")\n",
    "plt.plot(acc_nn.test_accuracies, 'g-', label = \"Testing Accuracies - NN\")\n",
    "\n",
    "# Logistic Regression plots\n",
    "plt.plot(acc_lr.accuracies, 'k-', label = \"Training Accuracies - LR\")\n",
    "plt.plot(acc_lr.test_accuracies, 'b-', label = \"Testing Accuracies - LR\")\n",
    "plt.legend()"
   ]
  },
  {
   "cell_type": "markdown",
   "id": "80dfb35c",
   "metadata": {
    "papermill": {
     "duration": 0.041899,
     "end_time": "2022-07-23T00:41:37.268925",
     "exception": false,
     "start_time": "2022-07-23T00:41:37.227026",
     "status": "completed"
    },
    "tags": []
   },
   "source": [
    "#### Plotting the outputs of this layer of the NN.\n"
   ]
  },
  {
   "cell_type": "code",
   "execution_count": 25,
   "id": "45eb2ff5",
   "metadata": {
    "execution": {
     "iopub.execute_input": "2022-07-23T00:41:37.358636Z",
     "iopub.status.busy": "2022-07-23T00:41:37.358015Z",
     "iopub.status.idle": "2022-07-23T00:41:37.382547Z",
     "shell.execute_reply": "2022-07-23T00:41:37.381654Z"
    },
    "papermill": {
     "duration": 0.071919,
     "end_time": "2022-07-23T00:41:37.382677",
     "exception": false,
     "start_time": "2022-07-23T00:41:37.310758",
     "status": "completed"
    },
    "tags": []
   },
   "outputs": [],
   "source": [
    "new_model = Model(layers[:-2])\n",
    "testing_plot = new_model(testing_data_x)"
   ]
  },
  {
   "cell_type": "code",
   "execution_count": 26,
   "id": "4c0a5485",
   "metadata": {
    "execution": {
     "iopub.execute_input": "2022-07-23T00:41:37.485451Z",
     "iopub.status.busy": "2022-07-23T00:41:37.484836Z",
     "iopub.status.idle": "2022-07-23T00:41:37.683304Z",
     "shell.execute_reply": "2022-07-23T00:41:37.682807Z"
    },
    "papermill": {
     "duration": 0.25131,
     "end_time": "2022-07-23T00:41:37.683426",
     "exception": false,
     "start_time": "2022-07-23T00:41:37.432116",
     "status": "completed"
    },
    "tags": []
   },
   "outputs": [
    {
     "data": {
      "text/plain": [
       "Text(0.5, 1.0, 'Outputs')"
      ]
     },
     "execution_count": 26,
     "metadata": {},
     "output_type": "execute_result"
    },
    {
     "data": {
      "image/png": "[encoded data removed]",
      "text/plain": [
       "<Figure size 576x504 with 1 Axes>"
      ]
     },
     "metadata": {
      "needs_background": "light"
     },
     "output_type": "display_data"
    }
   ],
   "source": [
    "# Plotting the scatter plot of points and color coding by class\n",
    "plt.figure(figsize=(8,7))\n",
    "plt.scatter(testing_plot[:,0], testing_plot[:,1], alpha = 0.1, c = y_test.ravel());\n",
    "plt.title('Outputs')"
   ]
  },
  {
   "cell_type": "markdown",
   "id": "a74fcf8f",
   "metadata": {
    "papermill": {
     "duration": 0.043344,
     "end_time": "2022-07-23T00:41:37.770620",
     "exception": false,
     "start_time": "2022-07-23T00:41:37.727276",
     "status": "completed"
    },
    "tags": []
   },
   "source": [
    "Probability contours"
   ]
  },
  {
   "cell_type": "code",
   "execution_count": 27,
   "id": "d0afc8e3",
   "metadata": {
    "execution": {
     "iopub.execute_input": "2022-07-23T00:41:37.862848Z",
     "iopub.status.busy": "2022-07-23T00:41:37.862230Z",
     "iopub.status.idle": "2022-07-23T00:41:37.875850Z",
     "shell.execute_reply": "2022-07-23T00:41:37.876325Z"
    },
    "papermill": {
     "duration": 0.062469,
     "end_time": "2022-07-23T00:41:37.876468",
     "exception": false,
     "start_time": "2022-07-23T00:41:37.813999",
     "status": "completed"
    },
    "tags": []
   },
   "outputs": [],
   "source": [
    "model_prob = Model(layers[-2:]) "
   ]
  },
  {
   "cell_type": "code",
   "execution_count": 28,
   "id": "9b96e238",
   "metadata": {
    "execution": {
     "iopub.execute_input": "2022-07-23T00:41:37.969165Z",
     "iopub.status.busy": "2022-07-23T00:41:37.968560Z",
     "iopub.status.idle": "2022-07-23T00:41:37.987931Z",
     "shell.execute_reply": "2022-07-23T00:41:37.988406Z"
    },
    "papermill": {
     "duration": 0.068449,
     "end_time": "2022-07-23T00:41:37.988544",
     "exception": false,
     "start_time": "2022-07-23T00:41:37.920095",
     "status": "completed"
    },
    "tags": []
   },
   "outputs": [],
   "source": [
    "#creating the x and y ranges according to the above generated plot.\n",
    "x_range = np.linspace(-4, 1, 100) \n",
    "y_range = np.linspace(-6, 6, 100) \n",
    "x_grid, y_grid = np.meshgrid(x_range, y_range) # x_grid and y_grig are of size 100 X 100\n",
    "\n",
    "# converting x_grid and y_grid to continuous arrays\n",
    "x_gridflat = np.ravel(x_grid)\n",
    "y_gridflat = np.ravel(y_grid)\n",
    "\n",
    "# The last layer of the current model takes two columns as input. Hence transpose of np.vstack() is required.\n",
    "X = np.vstack((x_gridflat, y_gridflat)).T\n",
    "\n",
    "prob_contour = model_prob(X).reshape(100,100) "
   ]
  },
  {
   "cell_type": "code",
   "execution_count": 29,
   "id": "da72499a",
   "metadata": {
    "execution": {
     "iopub.execute_input": "2022-07-23T00:41:38.113041Z",
     "iopub.status.busy": "2022-07-23T00:41:38.112416Z",
     "iopub.status.idle": "2022-07-23T00:41:38.378740Z",
     "shell.execute_reply": "2022-07-23T00:41:38.379180Z"
    },
    "papermill": {
     "duration": 0.315936,
     "end_time": "2022-07-23T00:41:38.379331",
     "exception": false,
     "start_time": "2022-07-23T00:41:38.063395",
     "status": "completed"
    },
    "tags": []
   },
   "outputs": [
    {
     "data": {
      "image/png": "[encoded data removed]",
      "text/plain": [
       "<Figure size 720x648 with 1 Axes>"
      ]
     },
     "metadata": {
      "needs_background": "light"
     },
     "output_type": "display_data"
    }
   ],
   "source": [
    "plt.figure(figsize=(10,9))\n",
    "plt.scatter(testing_plot[:,0], testing_plot[:,1], alpha = 0.1, c = y_test.ravel())\n",
    "contours = plt.contour(x_grid,y_grid,prob_contour)\n",
    "plt.title('Probability Contours')\n",
    "plt.clabel(contours, inline = True );"
   ]
  },
  {
   "cell_type": "code",
   "execution_count": null,
   "id": "e81b4ac7",
   "metadata": {
    "papermill": {
     "duration": 0.045994,
     "end_time": "2022-07-23T00:41:38.471779",
     "exception": false,
     "start_time": "2022-07-23T00:41:38.425785",
     "status": "completed"
    },
    "tags": []
   },
   "outputs": [],
   "source": []
  }
 ],
 "metadata": {
  "kernelspec": {
   "display_name": "Python 3",
   "language": "python",
   "name": "python3"
  },
  "language_info": {
   "codemirror_mode": {
    "name": "ipython",
    "version": 3
   },
   "file_extension": ".py",
   "mimetype": "text/x-python",
   "name": "python",
   "nbconvert_exporter": "python",
   "pygments_lexer": "ipython3",
   "version": "3.6.15"
  },
  "papermill": {
   "default_parameters": {},
   "duration": 100.341065,
   "end_time": "2022-07-23T00:41:38.937203",
   "environment_variables": {},
   "exception": null,
   "input_path": "2020-08-11-part2.ipynb",
   "output_path": "2020-08-11-part2.ipynb",
   "parameters": {},
   "start_time": "2022-07-23T00:39:58.596138",
   "version": "2.3.3"
  }
 },
 "nbformat": 4,
 "nbformat_minor": 5
}