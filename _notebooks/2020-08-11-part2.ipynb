{
 "cells": [
  {
   "cell_type": "markdown",
   "id": "98380cd3",
   "metadata": {
    "papermill": {
     "duration": 0.024744,
     "end_time": "2021-09-09T10:06:52.839060",
     "exception": false,
     "start_time": "2021-09-09T10:06:52.814316",
     "status": "completed"
    },
    "tags": []
   },
   "source": [
    "# Distinguish Your Own Digits (DYOD)"
   ]
  },
  {
   "cell_type": "markdown",
   "id": "ef31240d",
   "metadata": {
    "papermill": {
     "duration": 0.020844,
     "end_time": "2021-09-09T10:06:52.881487",
     "exception": false,
     "start_time": "2021-09-09T10:06:52.860643",
     "status": "completed"
    },
    "tags": []
   },
   "source": [
    "You are going to write a classifier that distinguishes between the number 3 and number 8."
   ]
  },
  {
   "cell_type": "code",
   "execution_count": 1,
   "id": "b15c8646",
   "metadata": {
    "execution": {
     "iopub.execute_input": "2021-09-09T10:06:52.932432Z",
     "iopub.status.busy": "2021-09-09T10:06:52.931952Z",
     "iopub.status.idle": "2021-09-09T10:06:52.941772Z",
     "shell.execute_reply": "2021-09-09T10:06:52.941302Z"
    },
    "papermill": {
     "duration": 0.039582,
     "end_time": "2021-09-09T10:06:52.941900",
     "exception": false,
     "start_time": "2021-09-09T10:06:52.902318",
     "status": "completed"
    },
    "tags": []
   },
   "outputs": [],
   "source": [
    "%load_ext autoreload\n",
    "%autoreload 2"
   ]
  },
  {
   "cell_type": "code",
   "execution_count": 2,
   "id": "22ef38dc",
   "metadata": {
    "execution": {
     "iopub.execute_input": "2021-09-09T10:06:52.994809Z",
     "iopub.status.busy": "2021-09-09T10:06:52.994318Z",
     "iopub.status.idle": "2021-09-09T10:06:53.468859Z",
     "shell.execute_reply": "2021-09-09T10:06:53.468338Z"
    },
    "papermill": {
     "duration": 0.499408,
     "end_time": "2021-09-09T10:06:53.469000",
     "exception": false,
     "start_time": "2021-09-09T10:06:52.969592",
     "status": "completed"
    },
    "tags": []
   },
   "outputs": [],
   "source": [
    "%matplotlib inline\n",
    "import numpy as np\n",
    "import matplotlib.pyplot as plt\n",
    "import pandas as pd"
   ]
  },
  {
   "cell_type": "markdown",
   "id": "ba036198",
   "metadata": {
    "papermill": {
     "duration": 0.027413,
     "end_time": "2021-09-09T10:06:53.522909",
     "exception": false,
     "start_time": "2021-09-09T10:06:53.495496",
     "status": "completed"
    },
    "tags": []
   },
   "source": [
    "From the command line run `pip install mnist`. This is a library that will help you bring down the mnist dataset. If you run this from a notebook, you need to put  `!pip install mnist` in a cell by itself."
   ]
  },
  {
   "cell_type": "code",
   "execution_count": 3,
   "id": "bb6ad8a1",
   "metadata": {
    "execution": {
     "iopub.execute_input": "2021-09-09T10:06:53.585499Z",
     "iopub.status.busy": "2021-09-09T10:06:53.584972Z",
     "iopub.status.idle": "2021-09-09T10:06:55.171854Z",
     "shell.execute_reply": "2021-09-09T10:06:55.171299Z"
    },
    "papermill": {
     "duration": 1.614822,
     "end_time": "2021-09-09T10:06:55.171991",
     "exception": false,
     "start_time": "2021-09-09T10:06:53.557169",
     "status": "completed"
    },
    "tags": []
   },
   "outputs": [
    {
     "name": "stdout",
     "output_type": "stream",
     "text": [
      "Collecting mnist\r\n"
     ]
    },
    {
     "name": "stdout",
     "output_type": "stream",
     "text": [
      "  Downloading mnist-0.2.2-py2.py3-none-any.whl (3.5 kB)\r\n",
      "Requirement already satisfied: numpy in /opt/hostedtoolcache/Python/3.6.14/x64/lib/python3.6/site-packages (from mnist) (1.19.5)\r\n"
     ]
    },
    {
     "name": "stdout",
     "output_type": "stream",
     "text": [
      "Installing collected packages: mnist\r\n",
      "Successfully installed mnist-0.2.2\r\n"
     ]
    }
   ],
   "source": [
    "!pip install mnist"
   ]
  },
  {
   "cell_type": "markdown",
   "id": "69df9c9a",
   "metadata": {
    "papermill": {
     "duration": 0.021716,
     "end_time": "2021-09-09T10:06:55.216926",
     "exception": false,
     "start_time": "2021-09-09T10:06:55.195210",
     "status": "completed"
    },
    "tags": []
   },
   "source": [
    "## Preparing the Data"
   ]
  },
  {
   "cell_type": "code",
   "execution_count": 4,
   "id": "7f69d806",
   "metadata": {
    "execution": {
     "iopub.execute_input": "2021-09-09T10:06:55.265588Z",
     "iopub.status.busy": "2021-09-09T10:06:55.265135Z",
     "iopub.status.idle": "2021-09-09T10:06:55.279265Z",
     "shell.execute_reply": "2021-09-09T10:06:55.278885Z"
    },
    "papermill": {
     "duration": 0.040807,
     "end_time": "2021-09-09T10:06:55.279392",
     "exception": false,
     "start_time": "2021-09-09T10:06:55.238585",
     "status": "completed"
    },
    "tags": []
   },
   "outputs": [],
   "source": [
    "import mnist"
   ]
  },
  {
   "cell_type": "code",
   "execution_count": 5,
   "id": "a411e44f",
   "metadata": {
    "execution": {
     "iopub.execute_input": "2021-09-09T10:06:55.326142Z",
     "iopub.status.busy": "2021-09-09T10:06:55.325690Z",
     "iopub.status.idle": "2021-09-09T10:06:55.774727Z",
     "shell.execute_reply": "2021-09-09T10:06:55.773824Z"
    },
    "papermill": {
     "duration": 0.473651,
     "end_time": "2021-09-09T10:06:55.774841",
     "exception": false,
     "start_time": "2021-09-09T10:06:55.301190",
     "status": "completed"
    },
    "tags": []
   },
   "outputs": [],
   "source": [
    "train_images = mnist.train_images()\n",
    "train_labels = mnist.train_labels()"
   ]
  },
  {
   "cell_type": "code",
   "execution_count": 6,
   "id": "dceab3a5",
   "metadata": {
    "execution": {
     "iopub.execute_input": "2021-09-09T10:06:55.822270Z",
     "iopub.status.busy": "2021-09-09T10:06:55.821786Z",
     "iopub.status.idle": "2021-09-09T10:06:55.833523Z",
     "shell.execute_reply": "2021-09-09T10:06:55.833151Z"
    },
    "papermill": {
     "duration": 0.037011,
     "end_time": "2021-09-09T10:06:55.833625",
     "exception": false,
     "start_time": "2021-09-09T10:06:55.796614",
     "status": "completed"
    },
    "tags": []
   },
   "outputs": [
    {
     "data": {
      "text/plain": [
       "((60000, 28, 28), (60000,))"
      ]
     },
     "execution_count": 6,
     "metadata": {},
     "output_type": "execute_result"
    }
   ],
   "source": [
    "train_images.shape, train_labels.shape"
   ]
  },
  {
   "cell_type": "code",
   "execution_count": 7,
   "id": "f50dc2bb",
   "metadata": {
    "execution": {
     "iopub.execute_input": "2021-09-09T10:06:55.884554Z",
     "iopub.status.busy": "2021-09-09T10:06:55.884075Z",
     "iopub.status.idle": "2021-09-09T10:06:55.986820Z",
     "shell.execute_reply": "2021-09-09T10:06:55.986409Z"
    },
    "papermill": {
     "duration": 0.131534,
     "end_time": "2021-09-09T10:06:55.986932",
     "exception": false,
     "start_time": "2021-09-09T10:06:55.855398",
     "status": "completed"
    },
    "tags": []
   },
   "outputs": [],
   "source": [
    "test_images = mnist.test_images()\n",
    "test_labels = mnist.test_labels()"
   ]
  },
  {
   "cell_type": "code",
   "execution_count": 8,
   "id": "fc38cf1b",
   "metadata": {
    "execution": {
     "iopub.execute_input": "2021-09-09T10:06:56.033982Z",
     "iopub.status.busy": "2021-09-09T10:06:56.033532Z",
     "iopub.status.idle": "2021-09-09T10:06:56.045522Z",
     "shell.execute_reply": "2021-09-09T10:06:56.045137Z"
    },
    "papermill": {
     "duration": 0.036541,
     "end_time": "2021-09-09T10:06:56.045622",
     "exception": false,
     "start_time": "2021-09-09T10:06:56.009081",
     "status": "completed"
    },
    "tags": []
   },
   "outputs": [
    {
     "data": {
      "text/plain": [
       "((10000, 28, 28), (10000,))"
      ]
     },
     "execution_count": 8,
     "metadata": {},
     "output_type": "execute_result"
    }
   ],
   "source": [
    "test_images.shape, test_labels.shape"
   ]
  },
  {
   "cell_type": "code",
   "execution_count": 9,
   "id": "f9ed8fe0",
   "metadata": {
    "execution": {
     "iopub.execute_input": "2021-09-09T10:06:56.093639Z",
     "iopub.status.busy": "2021-09-09T10:06:56.093197Z",
     "iopub.status.idle": "2021-09-09T10:06:56.225416Z",
     "shell.execute_reply": "2021-09-09T10:06:56.225883Z"
    },
    "papermill": {
     "duration": 0.158042,
     "end_time": "2021-09-09T10:06:56.226030",
     "exception": false,
     "start_time": "2021-09-09T10:06:56.067988",
     "status": "completed"
    },
    "tags": []
   },
   "outputs": [
    {
     "name": "stdout",
     "output_type": "stream",
     "text": [
      "2\n"
     ]
    },
    {
     "data": {
      "text/plain": [
       "<matplotlib.image.AxesImage at 0x7f3e04715cf8>"
      ]
     },
     "execution_count": 9,
     "metadata": {},
     "output_type": "execute_result"
    },
    {
     "data": {
      "image/png": "[encoded data removed]",
      "text/plain": [
       "<Figure size 432x288 with 1 Axes>"
      ]
     },
     "metadata": {
      "needs_background": "light"
     },
     "output_type": "display_data"
    }
   ],
   "source": [
    "image_index = 7776 # You may select anything up to 60,000\n",
    "print(train_labels[image_index]) \n",
    "plt.imshow(train_images[image_index], cmap='Greys')"
   ]
  },
  {
   "cell_type": "markdown",
   "id": "a8d2388d",
   "metadata": {
    "papermill": {
     "duration": 0.024559,
     "end_time": "2021-09-09T10:06:56.274777",
     "exception": false,
     "start_time": "2021-09-09T10:06:56.250218",
     "status": "completed"
    },
    "tags": []
   },
   "source": [
    "## Filter data to get 3 and 8 out"
   ]
  },
  {
   "cell_type": "code",
   "execution_count": 10,
   "id": "776f7fc7",
   "metadata": {
    "execution": {
     "iopub.execute_input": "2021-09-09T10:06:56.324978Z",
     "iopub.status.busy": "2021-09-09T10:06:56.324514Z",
     "iopub.status.idle": "2021-09-09T10:06:56.337510Z",
     "shell.execute_reply": "2021-09-09T10:06:56.337851Z"
    },
    "papermill": {
     "duration": 0.040173,
     "end_time": "2021-09-09T10:06:56.337969",
     "exception": false,
     "start_time": "2021-09-09T10:06:56.297796",
     "status": "completed"
    },
    "tags": []
   },
   "outputs": [],
   "source": [
    "train_filter = np.where((train_labels == 3 ) | (train_labels == 8))\n",
    "test_filter = np.where((test_labels == 3) | (test_labels == 8))\n",
    "X_train, y_train = train_images[train_filter], train_labels[train_filter]\n",
    "X_test, y_test = test_images[test_filter], test_labels[test_filter]"
   ]
  },
  {
   "cell_type": "markdown",
   "id": "948f0b7e",
   "metadata": {
    "papermill": {
     "duration": 0.022962,
     "end_time": "2021-09-09T10:06:56.384051",
     "exception": false,
     "start_time": "2021-09-09T10:06:56.361089",
     "status": "completed"
    },
    "tags": []
   },
   "source": [
    "We normalize the pizel values in the 0 to 1 range"
   ]
  },
  {
   "cell_type": "code",
   "execution_count": 11,
   "id": "ee4c2166",
   "metadata": {
    "execution": {
     "iopub.execute_input": "2021-09-09T10:06:56.434183Z",
     "iopub.status.busy": "2021-09-09T10:06:56.433728Z",
     "iopub.status.idle": "2021-09-09T10:06:56.476735Z",
     "shell.execute_reply": "2021-09-09T10:06:56.476317Z"
    },
    "papermill": {
     "duration": 0.06986,
     "end_time": "2021-09-09T10:06:56.476856",
     "exception": false,
     "start_time": "2021-09-09T10:06:56.406996",
     "status": "completed"
    },
    "tags": []
   },
   "outputs": [],
   "source": [
    "X_train = X_train/255.\n",
    "X_test = X_test/255."
   ]
  },
  {
   "cell_type": "markdown",
   "id": "ddcf4fab",
   "metadata": {
    "papermill": {
     "duration": 0.023094,
     "end_time": "2021-09-09T10:06:56.523717",
     "exception": false,
     "start_time": "2021-09-09T10:06:56.500623",
     "status": "completed"
    },
    "tags": []
   },
   "source": [
    "And setup the labels as 1 (when the digit is 3) and 0 (when the digit is 8)"
   ]
  },
  {
   "cell_type": "code",
   "execution_count": 12,
   "id": "7dc908f2",
   "metadata": {
    "execution": {
     "iopub.execute_input": "2021-09-09T10:06:56.574036Z",
     "iopub.status.busy": "2021-09-09T10:06:56.573570Z",
     "iopub.status.idle": "2021-09-09T10:06:56.584513Z",
     "shell.execute_reply": "2021-09-09T10:06:56.584139Z"
    },
    "papermill": {
     "duration": 0.037729,
     "end_time": "2021-09-09T10:06:56.584617",
     "exception": false,
     "start_time": "2021-09-09T10:06:56.546888",
     "status": "completed"
    },
    "tags": []
   },
   "outputs": [],
   "source": [
    "y_train = 1*(y_train==3)\n",
    "y_test = 1*(y_test==3)"
   ]
  },
  {
   "cell_type": "code",
   "execution_count": 13,
   "id": "01e4e969",
   "metadata": {
    "execution": {
     "iopub.execute_input": "2021-09-09T10:06:56.637607Z",
     "iopub.status.busy": "2021-09-09T10:06:56.637154Z",
     "iopub.status.idle": "2021-09-09T10:06:56.646584Z",
     "shell.execute_reply": "2021-09-09T10:06:56.646924Z"
    },
    "papermill": {
     "duration": 0.039309,
     "end_time": "2021-09-09T10:06:56.647042",
     "exception": false,
     "start_time": "2021-09-09T10:06:56.607733",
     "status": "completed"
    },
    "tags": []
   },
   "outputs": [
    {
     "data": {
      "text/plain": [
       "((11982, 28, 28), (1984, 28, 28))"
      ]
     },
     "execution_count": 13,
     "metadata": {},
     "output_type": "execute_result"
    }
   ],
   "source": [
    "X_train.shape, X_test.shape"
   ]
  },
  {
   "cell_type": "markdown",
   "id": "5ccf3f85",
   "metadata": {
    "papermill": {
     "duration": 0.02315,
     "end_time": "2021-09-09T10:06:56.693424",
     "exception": false,
     "start_time": "2021-09-09T10:06:56.670274",
     "status": "completed"
    },
    "tags": []
   },
   "source": [
    "We reshape the data to flatten the image pixels into a set of features or co-variates:"
   ]
  },
  {
   "cell_type": "code",
   "execution_count": 14,
   "id": "5286a4a3",
   "metadata": {
    "execution": {
     "iopub.execute_input": "2021-09-09T10:06:56.743858Z",
     "iopub.status.busy": "2021-09-09T10:06:56.743341Z",
     "iopub.status.idle": "2021-09-09T10:06:56.756181Z",
     "shell.execute_reply": "2021-09-09T10:06:56.756522Z"
    },
    "papermill": {
     "duration": 0.039865,
     "end_time": "2021-09-09T10:06:56.756646",
     "exception": false,
     "start_time": "2021-09-09T10:06:56.716781",
     "status": "completed"
    },
    "tags": []
   },
   "outputs": [
    {
     "data": {
      "text/plain": [
       "((11982, 784), (1984, 784))"
      ]
     },
     "execution_count": 14,
     "metadata": {},
     "output_type": "execute_result"
    }
   ],
   "source": [
    "X_train = X_train.reshape(X_train.shape[0], -1)\n",
    "X_test = X_test.reshape(X_test.shape[0], -1)\n",
    "X_train.shape, X_test.shape"
   ]
  },
  {
   "cell_type": "code",
   "execution_count": 15,
   "id": "73c5f88a",
   "metadata": {
    "execution": {
     "iopub.execute_input": "2021-09-09T10:06:56.808158Z",
     "iopub.status.busy": "2021-09-09T10:06:56.807682Z",
     "iopub.status.idle": "2021-09-09T10:06:56.824461Z",
     "shell.execute_reply": "2021-09-09T10:06:56.824036Z"
    },
    "papermill": {
     "duration": 0.044127,
     "end_time": "2021-09-09T10:06:56.824569",
     "exception": false,
     "start_time": "2021-09-09T10:06:56.780442",
     "status": "completed"
    },
    "tags": []
   },
   "outputs": [],
   "source": [
    "#Impoting functions from 'Kudzu'\n",
    "from kudzu.model import Model\n",
    "from kudzu.train import Learner\n",
    "from kudzu.optim import GD\n",
    "from kudzu.data import Data, Sampler,Dataloader\n",
    "\n",
    "from kudzu.callbacks import AccCallback\n",
    "from kudzu.callbacks import ClfCallback\n",
    "\n",
    "from kudzu.loss import MSE\n",
    "\n",
    "from kudzu.layer import Sigmoid,Relu\n",
    "from kudzu.layer import Affine"
   ]
  },
  {
   "cell_type": "markdown",
   "id": "bc01172a",
   "metadata": {
    "papermill": {
     "duration": 0.023381,
     "end_time": "2021-09-09T10:06:56.872120",
     "exception": false,
     "start_time": "2021-09-09T10:06:56.848739",
     "status": "completed"
    },
    "tags": []
   },
   "source": [
    "### Let us create a `Config` class, to store important parameters. \n",
    "This class essentially plays the role of a dictionary."
   ]
  },
  {
   "cell_type": "code",
   "execution_count": 16,
   "id": "978281aa",
   "metadata": {
    "execution": {
     "iopub.execute_input": "2021-09-09T10:06:56.923672Z",
     "iopub.status.busy": "2021-09-09T10:06:56.920964Z",
     "iopub.status.idle": "2021-09-09T10:06:56.932897Z",
     "shell.execute_reply": "2021-09-09T10:06:56.932513Z"
    },
    "papermill": {
     "duration": 0.037607,
     "end_time": "2021-09-09T10:06:56.932994",
     "exception": false,
     "start_time": "2021-09-09T10:06:56.895387",
     "status": "completed"
    },
    "tags": []
   },
   "outputs": [],
   "source": [
    "class Config:\n",
    "    pass\n",
    "config = Config()\n",
    "config.lr = 0.001\n",
    "config.num_epochs = 250\n",
    "config.bs = 50"
   ]
  },
  {
   "cell_type": "markdown",
   "id": "1385fa59",
   "metadata": {
    "papermill": {
     "duration": 0.023404,
     "end_time": "2021-09-09T10:06:56.979890",
     "exception": false,
     "start_time": "2021-09-09T10:06:56.956486",
     "status": "completed"
    },
    "tags": []
   },
   "source": [
    "### Running Models with the Training data\n",
    "Details about the network layers:\n",
    "- A first affine layer has 784 inputs and does 100 affine transforms. These are followed by a Relu\n",
    "- A second affine layer has 100 inputs from the 100 activations of the past layer, and does 100 affine transforms. These are followed by a Relu\n",
    "- A third affine layer has 100 activations and does 2 affine transformations to create an embedding for visualization. There is no non-linearity here.\n",
    "- A final \"logistic regression\" which has an affine transform from 2 inputs to 1 output, which is squeezed through a sigmoid.\n"
   ]
  },
  {
   "cell_type": "code",
   "execution_count": 17,
   "id": "2b9c66db",
   "metadata": {
    "execution": {
     "iopub.execute_input": "2021-09-09T10:06:57.033670Z",
     "iopub.status.busy": "2021-09-09T10:06:57.033209Z",
     "iopub.status.idle": "2021-09-09T10:06:57.042821Z",
     "shell.execute_reply": "2021-09-09T10:06:57.042449Z"
    },
    "papermill": {
     "duration": 0.039616,
     "end_time": "2021-09-09T10:06:57.042923",
     "exception": false,
     "start_time": "2021-09-09T10:06:57.003307",
     "status": "completed"
    },
    "tags": []
   },
   "outputs": [],
   "source": [
    "data = Data(X_train, y_train.reshape(-1,1))\n",
    "sampler = Sampler(data, config.bs, shuffle=True)\n",
    "\n",
    "dl = Dataloader(data, sampler)\n",
    "\n",
    "opt = GD(config.lr)\n",
    "loss = MSE()"
   ]
  },
  {
   "cell_type": "code",
   "execution_count": 18,
   "id": "b275e4c2",
   "metadata": {
    "execution": {
     "iopub.execute_input": "2021-09-09T10:06:57.095259Z",
     "iopub.status.busy": "2021-09-09T10:06:57.094775Z",
     "iopub.status.idle": "2021-09-09T10:06:57.105201Z",
     "shell.execute_reply": "2021-09-09T10:06:57.104823Z"
    },
    "papermill": {
     "duration": 0.038541,
     "end_time": "2021-09-09T10:06:57.105308",
     "exception": false,
     "start_time": "2021-09-09T10:06:57.066767",
     "status": "completed"
    },
    "tags": []
   },
   "outputs": [],
   "source": [
    "training_data_x = X_train\n",
    "testing_data_x = X_test\n",
    "training_data_y = y_train.reshape(-1,1)\n",
    "testing_data_y = y_test.reshape(-1,1)"
   ]
  },
  {
   "cell_type": "code",
   "execution_count": 19,
   "id": "76951160",
   "metadata": {
    "execution": {
     "iopub.execute_input": "2021-09-09T10:06:57.161852Z",
     "iopub.status.busy": "2021-09-09T10:06:57.161382Z",
     "iopub.status.idle": "2021-09-09T10:06:57.174729Z",
     "shell.execute_reply": "2021-09-09T10:06:57.174342Z"
    },
    "papermill": {
     "duration": 0.043107,
     "end_time": "2021-09-09T10:06:57.174829",
     "exception": false,
     "start_time": "2021-09-09T10:06:57.131722",
     "status": "completed"
    },
    "tags": []
   },
   "outputs": [
    {
     "name": "stdout",
     "output_type": "stream",
     "text": [
      "xavier\n",
      "xavier\n",
      "xavier\n",
      "xavier\n",
      "xavier\n"
     ]
    }
   ],
   "source": [
    "layers = [Affine(\"first\", 784, 100), Relu(\"first\"), Affine(\"second\", 100, 100), Relu(\"second\"), Affine(\"third\", 100, 2), Affine(\"last\", 2, 1), Sigmoid(\"last\")]\n",
    "model_nn = Model(layers)\n",
    "model_lr = Model([Affine(\"logits\", 784, 1), Sigmoid(\"sigmoid\")])"
   ]
  },
  {
   "cell_type": "code",
   "execution_count": 20,
   "id": "6eede77a",
   "metadata": {
    "execution": {
     "iopub.execute_input": "2021-09-09T10:06:57.228535Z",
     "iopub.status.busy": "2021-09-09T10:06:57.228072Z",
     "iopub.status.idle": "2021-09-09T10:06:57.237509Z",
     "shell.execute_reply": "2021-09-09T10:06:57.237140Z"
    },
    "papermill": {
     "duration": 0.038828,
     "end_time": "2021-09-09T10:06:57.237611",
     "exception": false,
     "start_time": "2021-09-09T10:06:57.198783",
     "status": "completed"
    },
    "tags": []
   },
   "outputs": [],
   "source": [
    "nn_learner = Learner(loss, model_nn, opt, config.num_epochs)\n",
    "acc_nn = ClfCallback(nn_learner, config.bs, training_data_x , testing_data_x, training_data_y, testing_data_y)\n",
    "nn_learner.set_callbacks([acc_nn])"
   ]
  },
  {
   "cell_type": "code",
   "execution_count": 21,
   "id": "877b6cc7",
   "metadata": {
    "execution": {
     "iopub.execute_input": "2021-09-09T10:06:57.291860Z",
     "iopub.status.busy": "2021-09-09T10:06:57.291389Z",
     "iopub.status.idle": "2021-09-09T10:06:57.301707Z",
     "shell.execute_reply": "2021-09-09T10:06:57.301238Z"
    },
    "papermill": {
     "duration": 0.040404,
     "end_time": "2021-09-09T10:06:57.301819",
     "exception": false,
     "start_time": "2021-09-09T10:06:57.261415",
     "status": "completed"
    },
    "tags": []
   },
   "outputs": [],
   "source": [
    "lr_learner = Learner(loss, model_lr, opt, config.num_epochs)\n",
    "acc_lr = ClfCallback(lr_learner, config.bs, training_data_x , testing_data_x, training_data_y, testing_data_y)\n",
    "lr_learner.set_callbacks([acc_lr])"
   ]
  },
  {
   "cell_type": "code",
   "execution_count": 22,
   "id": "d9b133c3",
   "metadata": {
    "execution": {
     "iopub.execute_input": "2021-09-09T10:06:57.359112Z",
     "iopub.status.busy": "2021-09-09T10:06:57.358605Z",
     "iopub.status.idle": "2021-09-09T10:08:14.073841Z",
     "shell.execute_reply": "2021-09-09T10:08:14.074272Z"
    },
    "papermill": {
     "duration": 76.745563,
     "end_time": "2021-09-09T10:08:14.074396",
     "exception": false,
     "start_time": "2021-09-09T10:06:57.328833",
     "status": "completed"
    },
    "tags": []
   },
   "outputs": [
    {
     "name": "stdout",
     "output_type": "stream",
     "text": [
      "Epoch 0, Loss 0.2491\n",
      "Training Accuracy: 0.5756, Testing Accuracy: 0.5786\n",
      "\n"
     ]
    },
    {
     "name": "stdout",
     "output_type": "stream",
     "text": [
      "Epoch 10, Loss 0.1242\n",
      "Training Accuracy: 0.8797, Testing Accuracy: 0.8861\n",
      "\n"
     ]
    },
    {
     "name": "stdout",
     "output_type": "stream",
     "text": [
      "Epoch 20, Loss 0.0743\n",
      "Training Accuracy: 0.9180, Testing Accuracy: 0.9274\n",
      "\n"
     ]
    },
    {
     "name": "stdout",
     "output_type": "stream",
     "text": [
      "Epoch 30, Loss 0.0546\n",
      "Training Accuracy: 0.9391, Testing Accuracy: 0.9466\n",
      "\n"
     ]
    },
    {
     "name": "stdout",
     "output_type": "stream",
     "text": [
      "Epoch 40, Loss 0.0447\n",
      "Training Accuracy: 0.9498, Testing Accuracy: 0.9551\n",
      "\n"
     ]
    },
    {
     "name": "stdout",
     "output_type": "stream",
     "text": [
      "Epoch 50, Loss 0.0391\n",
      "Training Accuracy: 0.9570, Testing Accuracy: 0.9607\n",
      "\n"
     ]
    },
    {
     "name": "stdout",
     "output_type": "stream",
     "text": [
      "Epoch 60, Loss 0.0355\n",
      "Training Accuracy: 0.9604, Testing Accuracy: 0.9627\n",
      "\n"
     ]
    },
    {
     "name": "stdout",
     "output_type": "stream",
     "text": [
      "Epoch 70, Loss 0.0331\n",
      "Training Accuracy: 0.9620, Testing Accuracy: 0.9642\n",
      "\n"
     ]
    },
    {
     "name": "stdout",
     "output_type": "stream",
     "text": [
      "Epoch 80, Loss 0.0313\n",
      "Training Accuracy: 0.9636, Testing Accuracy: 0.9677\n",
      "\n"
     ]
    },
    {
     "name": "stdout",
     "output_type": "stream",
     "text": [
      "Epoch 90, Loss 0.0299\n",
      "Training Accuracy: 0.9654, Testing Accuracy: 0.9688\n",
      "\n"
     ]
    },
    {
     "name": "stdout",
     "output_type": "stream",
     "text": [
      "Epoch 100, Loss 0.0287\n",
      "Training Accuracy: 0.9664, Testing Accuracy: 0.9703\n",
      "\n"
     ]
    },
    {
     "name": "stdout",
     "output_type": "stream",
     "text": [
      "Epoch 110, Loss 0.0277\n",
      "Training Accuracy: 0.9674, Testing Accuracy: 0.9693\n",
      "\n"
     ]
    },
    {
     "name": "stdout",
     "output_type": "stream",
     "text": [
      "Epoch 120, Loss 0.0269\n",
      "Training Accuracy: 0.9689, Testing Accuracy: 0.9693\n",
      "\n"
     ]
    },
    {
     "name": "stdout",
     "output_type": "stream",
     "text": [
      "Epoch 130, Loss 0.0261\n",
      "Training Accuracy: 0.9695, Testing Accuracy: 0.9698\n",
      "\n"
     ]
    },
    {
     "name": "stdout",
     "output_type": "stream",
     "text": [
      "Epoch 140, Loss 0.0254\n",
      "Training Accuracy: 0.9702, Testing Accuracy: 0.9703\n",
      "\n"
     ]
    },
    {
     "name": "stdout",
     "output_type": "stream",
     "text": [
      "Epoch 150, Loss 0.0248\n",
      "Training Accuracy: 0.9710, Testing Accuracy: 0.9713\n",
      "\n"
     ]
    },
    {
     "name": "stdout",
     "output_type": "stream",
     "text": [
      "Epoch 160, Loss 0.0243\n",
      "Training Accuracy: 0.9717, Testing Accuracy: 0.9713\n",
      "\n"
     ]
    },
    {
     "name": "stdout",
     "output_type": "stream",
     "text": [
      "Epoch 170, Loss 0.0238\n",
      "Training Accuracy: 0.9727, Testing Accuracy: 0.9708\n",
      "\n"
     ]
    },
    {
     "name": "stdout",
     "output_type": "stream",
     "text": [
      "Epoch 180, Loss 0.0233\n",
      "Training Accuracy: 0.9736, Testing Accuracy: 0.9713\n",
      "\n"
     ]
    },
    {
     "name": "stdout",
     "output_type": "stream",
     "text": [
      "Epoch 190, Loss 0.0228\n",
      "Training Accuracy: 0.9746, Testing Accuracy: 0.9718\n",
      "\n"
     ]
    },
    {
     "name": "stdout",
     "output_type": "stream",
     "text": [
      "Epoch 200, Loss 0.0224\n",
      "Training Accuracy: 0.9754, Testing Accuracy: 0.9713\n",
      "\n"
     ]
    },
    {
     "name": "stdout",
     "output_type": "stream",
     "text": [
      "Epoch 210, Loss 0.022\n",
      "Training Accuracy: 0.9758, Testing Accuracy: 0.9713\n",
      "\n"
     ]
    },
    {
     "name": "stdout",
     "output_type": "stream",
     "text": [
      "Epoch 220, Loss 0.0216\n",
      "Training Accuracy: 0.9761, Testing Accuracy: 0.9718\n",
      "\n"
     ]
    },
    {
     "name": "stdout",
     "output_type": "stream",
     "text": [
      "Epoch 230, Loss 0.0213\n",
      "Training Accuracy: 0.9764, Testing Accuracy: 0.9718\n",
      "\n"
     ]
    },
    {
     "name": "stdout",
     "output_type": "stream",
     "text": [
      "Epoch 240, Loss 0.0209\n",
      "Training Accuracy: 0.9766, Testing Accuracy: 0.9723\n",
      "\n"
     ]
    },
    {
     "data": {
      "text/plain": [
       "0.014209117306340295"
      ]
     },
     "execution_count": 22,
     "metadata": {},
     "output_type": "execute_result"
    }
   ],
   "source": [
    "nn_learner.train_loop(dl)"
   ]
  },
  {
   "cell_type": "code",
   "execution_count": 23,
   "id": "e0163366",
   "metadata": {
    "execution": {
     "iopub.execute_input": "2021-09-09T10:08:14.147661Z",
     "iopub.status.busy": "2021-09-09T10:08:14.147158Z",
     "iopub.status.idle": "2021-09-09T10:08:27.372827Z",
     "shell.execute_reply": "2021-09-09T10:08:27.373479Z"
    },
    "papermill": {
     "duration": 13.266317,
     "end_time": "2021-09-09T10:08:27.373606",
     "exception": false,
     "start_time": "2021-09-09T10:08:14.107289",
     "status": "completed"
    },
    "tags": []
   },
   "outputs": [
    {
     "name": "stdout",
     "output_type": "stream",
     "text": [
      "Epoch 0, Loss 0.2746\n",
      "Training Accuracy: 0.5386, Testing Accuracy: 0.5368\n",
      "\n"
     ]
    },
    {
     "name": "stdout",
     "output_type": "stream",
     "text": [
      "Epoch 10, Loss 0.107\n",
      "Training Accuracy: 0.9041, Testing Accuracy: 0.9148\n",
      "\n"
     ]
    },
    {
     "name": "stdout",
     "output_type": "stream",
     "text": [
      "Epoch 20, Loss 0.0809\n",
      "Training Accuracy: 0.9244, Testing Accuracy: 0.9390\n",
      "\n"
     ]
    },
    {
     "name": "stdout",
     "output_type": "stream",
     "text": [
      "Epoch 30, Loss 0.0693\n",
      "Training Accuracy: 0.9334, Testing Accuracy: 0.9446\n",
      "\n"
     ]
    },
    {
     "name": "stdout",
     "output_type": "stream",
     "text": [
      "Epoch 40, Loss 0.0623\n",
      "Training Accuracy: 0.9392, Testing Accuracy: 0.9486\n",
      "\n"
     ]
    },
    {
     "name": "stdout",
     "output_type": "stream",
     "text": [
      "Epoch 50, Loss 0.0577\n",
      "Training Accuracy: 0.9426, Testing Accuracy: 0.9526\n",
      "\n"
     ]
    },
    {
     "name": "stdout",
     "output_type": "stream",
     "text": [
      "Epoch 60, Loss 0.0543\n",
      "Training Accuracy: 0.9456, Testing Accuracy: 0.9541\n",
      "\n"
     ]
    },
    {
     "name": "stdout",
     "output_type": "stream",
     "text": [
      "Epoch 70, Loss 0.0516\n",
      "Training Accuracy: 0.9475, Testing Accuracy: 0.9546\n",
      "\n"
     ]
    },
    {
     "name": "stdout",
     "output_type": "stream",
     "text": [
      "Epoch 80, Loss 0.0496\n",
      "Training Accuracy: 0.9493, Testing Accuracy: 0.9567\n",
      "\n"
     ]
    },
    {
     "name": "stdout",
     "output_type": "stream",
     "text": [
      "Epoch 90, Loss 0.0478\n",
      "Training Accuracy: 0.9506, Testing Accuracy: 0.9592\n",
      "\n"
     ]
    },
    {
     "name": "stdout",
     "output_type": "stream",
     "text": [
      "Epoch 100, Loss 0.0464\n",
      "Training Accuracy: 0.9519, Testing Accuracy: 0.9602\n",
      "\n"
     ]
    },
    {
     "name": "stdout",
     "output_type": "stream",
     "text": [
      "Epoch 110, Loss 0.0452\n",
      "Training Accuracy: 0.9526, Testing Accuracy: 0.9612\n",
      "\n"
     ]
    },
    {
     "name": "stdout",
     "output_type": "stream",
     "text": [
      "Epoch 120, Loss 0.0441\n",
      "Training Accuracy: 0.9533, Testing Accuracy: 0.9617\n",
      "\n"
     ]
    },
    {
     "name": "stdout",
     "output_type": "stream",
     "text": [
      "Epoch 130, Loss 0.0432\n",
      "Training Accuracy: 0.9542, Testing Accuracy: 0.9617\n",
      "\n"
     ]
    },
    {
     "name": "stdout",
     "output_type": "stream",
     "text": [
      "Epoch 140, Loss 0.0423\n",
      "Training Accuracy: 0.9552, Testing Accuracy: 0.9627\n",
      "\n"
     ]
    },
    {
     "name": "stdout",
     "output_type": "stream",
     "text": [
      "Epoch 150, Loss 0.0416\n",
      "Training Accuracy: 0.9557, Testing Accuracy: 0.9627\n",
      "\n"
     ]
    },
    {
     "name": "stdout",
     "output_type": "stream",
     "text": [
      "Epoch 160, Loss 0.0409\n",
      "Training Accuracy: 0.9561, Testing Accuracy: 0.9632\n",
      "\n"
     ]
    },
    {
     "name": "stdout",
     "output_type": "stream",
     "text": [
      "Epoch 170, Loss 0.0403\n",
      "Training Accuracy: 0.9569, Testing Accuracy: 0.9627\n",
      "\n"
     ]
    },
    {
     "name": "stdout",
     "output_type": "stream",
     "text": [
      "Epoch 180, Loss 0.0397\n",
      "Training Accuracy: 0.9574, Testing Accuracy: 0.9637\n",
      "\n"
     ]
    },
    {
     "name": "stdout",
     "output_type": "stream",
     "text": [
      "Epoch 190, Loss 0.0392\n",
      "Training Accuracy: 0.9579, Testing Accuracy: 0.9637\n",
      "\n"
     ]
    },
    {
     "name": "stdout",
     "output_type": "stream",
     "text": [
      "Epoch 200, Loss 0.0387\n",
      "Training Accuracy: 0.9585, Testing Accuracy: 0.9637\n",
      "\n"
     ]
    },
    {
     "name": "stdout",
     "output_type": "stream",
     "text": [
      "Epoch 210, Loss 0.0383\n",
      "Training Accuracy: 0.9589, Testing Accuracy: 0.9647\n",
      "\n"
     ]
    },
    {
     "name": "stdout",
     "output_type": "stream",
     "text": [
      "Epoch 220, Loss 0.0378\n",
      "Training Accuracy: 0.9590, Testing Accuracy: 0.9647\n",
      "\n"
     ]
    },
    {
     "name": "stdout",
     "output_type": "stream",
     "text": [
      "Epoch 230, Loss 0.0375\n",
      "Training Accuracy: 0.9594, Testing Accuracy: 0.9647\n",
      "\n"
     ]
    },
    {
     "name": "stdout",
     "output_type": "stream",
     "text": [
      "Epoch 240, Loss 0.0371\n",
      "Training Accuracy: 0.9596, Testing Accuracy: 0.9657\n",
      "\n"
     ]
    },
    {
     "data": {
      "text/plain": [
       "0.04454227482688805"
      ]
     },
     "execution_count": 23,
     "metadata": {},
     "output_type": "execute_result"
    }
   ],
   "source": [
    "lr_learner.train_loop(dl)"
   ]
  },
  {
   "cell_type": "code",
   "execution_count": 24,
   "id": "ca410940",
   "metadata": {
    "execution": {
     "iopub.execute_input": "2021-09-09T10:08:27.452943Z",
     "iopub.status.busy": "2021-09-09T10:08:27.452476Z",
     "iopub.status.idle": "2021-09-09T10:08:27.644023Z",
     "shell.execute_reply": "2021-09-09T10:08:27.643615Z"
    },
    "papermill": {
     "duration": 0.234768,
     "end_time": "2021-09-09T10:08:27.644129",
     "exception": false,
     "start_time": "2021-09-09T10:08:27.409361",
     "status": "completed"
    },
    "tags": []
   },
   "outputs": [
    {
     "data": {
      "text/plain": [
       "<matplotlib.legend.Legend at 0x7f3df6f69dd8>"
      ]
     },
     "execution_count": 24,
     "metadata": {},
     "output_type": "execute_result"
    },
    {
     "data": {
      "image/png": "[encoded data removed]",
      "text/plain": [
       "<Figure size 1080x720 with 1 Axes>"
      ]
     },
     "metadata": {
      "needs_background": "light"
     },
     "output_type": "display_data"
    }
   ],
   "source": [
    "#comparing the results of NN and LR\n",
    "plt.figure(figsize=(15,10))\n",
    "\n",
    "# Neural Network plots\n",
    "plt.plot(acc_nn.accuracies, 'r-', label = \"Training Accuracies - NN\")\n",
    "plt.plot(acc_nn.test_accuracies, 'g-', label = \"Testing Accuracies - NN\")\n",
    "\n",
    "# Logistic Regression plots\n",
    "plt.plot(acc_lr.accuracies, 'k-', label = \"Training Accuracies - LR\")\n",
    "plt.plot(acc_lr.test_accuracies, 'b-', label = \"Testing Accuracies - LR\")\n",
    "plt.legend()"
   ]
  },
  {
   "cell_type": "markdown",
   "id": "80dfb35c",
   "metadata": {
    "papermill": {
     "duration": 0.036716,
     "end_time": "2021-09-09T10:08:27.717772",
     "exception": false,
     "start_time": "2021-09-09T10:08:27.681056",
     "status": "completed"
    },
    "tags": []
   },
   "source": [
    "#### Plotting the outputs of this layer of the NN.\n"
   ]
  },
  {
   "cell_type": "code",
   "execution_count": 25,
   "id": "45eb2ff5",
   "metadata": {
    "execution": {
     "iopub.execute_input": "2021-09-09T10:08:27.794582Z",
     "iopub.status.busy": "2021-09-09T10:08:27.794127Z",
     "iopub.status.idle": "2021-09-09T10:08:27.811647Z",
     "shell.execute_reply": "2021-09-09T10:08:27.812022Z"
    },
    "papermill": {
     "duration": 0.057632,
     "end_time": "2021-09-09T10:08:27.812140",
     "exception": false,
     "start_time": "2021-09-09T10:08:27.754508",
     "status": "completed"
    },
    "tags": []
   },
   "outputs": [],
   "source": [
    "new_model = Model(layers[:-2])\n",
    "testing_plot = new_model(testing_data_x)"
   ]
  },
  {
   "cell_type": "code",
   "execution_count": 26,
   "id": "4c0a5485",
   "metadata": {
    "execution": {
     "iopub.execute_input": "2021-09-09T10:08:27.905024Z",
     "iopub.status.busy": "2021-09-09T10:08:27.904257Z",
     "iopub.status.idle": "2021-09-09T10:08:28.083686Z",
     "shell.execute_reply": "2021-09-09T10:08:28.082753Z"
    },
    "papermill": {
     "duration": 0.226257,
     "end_time": "2021-09-09T10:08:28.083799",
     "exception": false,
     "start_time": "2021-09-09T10:08:27.857542",
     "status": "completed"
    },
    "tags": []
   },
   "outputs": [
    {
     "data": {
      "text/plain": [
       "Text(0.5, 1.0, 'Outputs')"
      ]
     },
     "execution_count": 26,
     "metadata": {},
     "output_type": "execute_result"
    },
    {
     "data": {
      "image/png": "[encoded data removed]",
      "text/plain": [
       "<Figure size 576x504 with 1 Axes>"
      ]
     },
     "metadata": {
      "needs_background": "light"
     },
     "output_type": "display_data"
    }
   ],
   "source": [
    "# Plotting the scatter plot of points and color coding by class\n",
    "plt.figure(figsize=(8,7))\n",
    "plt.scatter(testing_plot[:,0], testing_plot[:,1], alpha = 0.1, c = y_test.ravel());\n",
    "plt.title('Outputs')"
   ]
  },
  {
   "cell_type": "markdown",
   "id": "a74fcf8f",
   "metadata": {
    "papermill": {
     "duration": 0.038448,
     "end_time": "2021-09-09T10:08:28.160947",
     "exception": false,
     "start_time": "2021-09-09T10:08:28.122499",
     "status": "completed"
    },
    "tags": []
   },
   "source": [
    "Probability contours"
   ]
  },
  {
   "cell_type": "code",
   "execution_count": 27,
   "id": "d0afc8e3",
   "metadata": {
    "execution": {
     "iopub.execute_input": "2021-09-09T10:08:28.242628Z",
     "iopub.status.busy": "2021-09-09T10:08:28.241483Z",
     "iopub.status.idle": "2021-09-09T10:08:28.251238Z",
     "shell.execute_reply": "2021-09-09T10:08:28.250835Z"
    },
    "papermill": {
     "duration": 0.052129,
     "end_time": "2021-09-09T10:08:28.251338",
     "exception": false,
     "start_time": "2021-09-09T10:08:28.199209",
     "status": "completed"
    },
    "tags": []
   },
   "outputs": [],
   "source": [
    "model_prob = Model(layers[-2:]) "
   ]
  },
  {
   "cell_type": "code",
   "execution_count": 28,
   "id": "9b96e238",
   "metadata": {
    "execution": {
     "iopub.execute_input": "2021-09-09T10:08:28.334615Z",
     "iopub.status.busy": "2021-09-09T10:08:28.334151Z",
     "iopub.status.idle": "2021-09-09T10:08:28.346075Z",
     "shell.execute_reply": "2021-09-09T10:08:28.346414Z"
    },
    "papermill": {
     "duration": 0.056853,
     "end_time": "2021-09-09T10:08:28.346532",
     "exception": false,
     "start_time": "2021-09-09T10:08:28.289679",
     "status": "completed"
    },
    "tags": []
   },
   "outputs": [],
   "source": [
    "#creating the x and y ranges according to the above generated plot.\n",
    "x_range = np.linspace(-4, 1, 100) \n",
    "y_range = np.linspace(-6, 6, 100) \n",
    "x_grid, y_grid = np.meshgrid(x_range, y_range) # x_grid and y_grig are of size 100 X 100\n",
    "\n",
    "# converting x_grid and y_grid to continuous arrays\n",
    "x_gridflat = np.ravel(x_grid)\n",
    "y_gridflat = np.ravel(y_grid)\n",
    "\n",
    "# The last layer of the current model takes two columns as input. Hence transpose of np.vstack() is required.\n",
    "X = np.vstack((x_gridflat, y_gridflat)).T\n",
    "\n",
    "prob_contour = model_prob(X).reshape(100,100) "
   ]
  },
  {
   "cell_type": "code",
   "execution_count": 29,
   "id": "da72499a",
   "metadata": {
    "execution": {
     "iopub.execute_input": "2021-09-09T10:08:28.437058Z",
     "iopub.status.busy": "2021-09-09T10:08:28.436606Z",
     "iopub.status.idle": "2021-09-09T10:08:28.657839Z",
     "shell.execute_reply": "2021-09-09T10:08:28.658286Z"
    },
    "papermill": {
     "duration": 0.264565,
     "end_time": "2021-09-09T10:08:28.658407",
     "exception": false,
     "start_time": "2021-09-09T10:08:28.393842",
     "status": "completed"
    },
    "tags": []
   },
   "outputs": [
    {
     "data": {
      "image/png": "[encoded data removed]",
      "text/plain": [
       "<Figure size 720x648 with 1 Axes>"
      ]
     },
     "metadata": {
      "needs_background": "light"
     },
     "output_type": "display_data"
    }
   ],
   "source": [
    "plt.figure(figsize=(10,9))\n",
    "plt.scatter(testing_plot[:,0], testing_plot[:,1], alpha = 0.1, c = y_test.ravel())\n",
    "contours = plt.contour(x_grid,y_grid,prob_contour)\n",
    "plt.title('Probability Contours')\n",
    "plt.clabel(contours, inline = True );"
   ]
  },
  {
   "cell_type": "code",
   "execution_count": null,
   "id": "e81b4ac7",
   "metadata": {
    "papermill": {
     "duration": 0.04013,
     "end_time": "2021-09-09T10:08:28.739015",
     "exception": false,
     "start_time": "2021-09-09T10:08:28.698885",
     "status": "completed"
    },
    "tags": []
   },
   "outputs": [],
   "source": []
  }
 ],
 "metadata": {
  "kernelspec": {
   "display_name": "Python 3",
   "language": "python",
   "name": "python3"
  },
  "language_info": {
   "codemirror_mode": {
    "name": "ipython",
    "version": 3
   },
   "file_extension": ".py",
   "mimetype": "text/x-python",
   "name": "python",
   "nbconvert_exporter": "python",
   "pygments_lexer": "ipython3",
   "version": "3.6.14"
  },
  "papermill": {
   "default_parameters": {},
   "duration": 97.297599,
   "end_time": "2021-09-09T10:08:29.113796",
   "environment_variables": {},
   "exception": null,
   "input_path": "2020-08-11-part2.ipynb",
   "output_path": "2020-08-11-part2.ipynb",
   "parameters": {},
   "start_time": "2021-09-09T10:06:51.816197",
   "version": "2.3.3"
  }
 },
 "nbformat": 4,
 "nbformat_minor": 5
}