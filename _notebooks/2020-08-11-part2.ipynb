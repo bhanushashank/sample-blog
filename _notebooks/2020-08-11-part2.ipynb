{
 "cells": [
  {
   "cell_type": "markdown",
   "id": "98380cd3",
   "metadata": {
    "papermill": {
     "duration": 0.028333,
     "end_time": "2021-11-07T10:06:48.860574",
     "exception": false,
     "start_time": "2021-11-07T10:06:48.832241",
     "status": "completed"
    },
    "tags": []
   },
   "source": [
    "# Distinguish Your Own Digits (DYOD)"
   ]
  },
  {
   "cell_type": "markdown",
   "id": "ef31240d",
   "metadata": {
    "papermill": {
     "duration": 0.024079,
     "end_time": "2021-11-07T10:06:48.909686",
     "exception": false,
     "start_time": "2021-11-07T10:06:48.885607",
     "status": "completed"
    },
    "tags": []
   },
   "source": [
    "You are going to write a classifier that distinguishes between the number 3 and number 8."
   ]
  },
  {
   "cell_type": "code",
   "execution_count": 1,
   "id": "b15c8646",
   "metadata": {
    "execution": {
     "iopub.execute_input": "2021-11-07T10:06:48.968540Z",
     "iopub.status.busy": "2021-11-07T10:06:48.965558Z",
     "iopub.status.idle": "2021-11-07T10:06:48.978562Z",
     "shell.execute_reply": "2021-11-07T10:06:48.978119Z"
    },
    "papermill": {
     "duration": 0.044881,
     "end_time": "2021-11-07T10:06:48.978680",
     "exception": false,
     "start_time": "2021-11-07T10:06:48.933799",
     "status": "completed"
    },
    "tags": []
   },
   "outputs": [],
   "source": [
    "%load_ext autoreload\n",
    "%autoreload 2"
   ]
  },
  {
   "cell_type": "code",
   "execution_count": 2,
   "id": "22ef38dc",
   "metadata": {
    "execution": {
     "iopub.execute_input": "2021-11-07T10:06:49.040393Z",
     "iopub.status.busy": "2021-11-07T10:06:49.035344Z",
     "iopub.status.idle": "2021-11-07T10:06:49.533703Z",
     "shell.execute_reply": "2021-11-07T10:06:49.533178Z"
    },
    "papermill": {
     "duration": 0.53102,
     "end_time": "2021-11-07T10:06:49.533842",
     "exception": false,
     "start_time": "2021-11-07T10:06:49.002822",
     "status": "completed"
    },
    "tags": []
   },
   "outputs": [],
   "source": [
    "%matplotlib inline\n",
    "import numpy as np\n",
    "import matplotlib.pyplot as plt\n",
    "import pandas as pd"
   ]
  },
  {
   "cell_type": "markdown",
   "id": "ba036198",
   "metadata": {
    "papermill": {
     "duration": 0.024084,
     "end_time": "2021-11-07T10:06:49.584013",
     "exception": false,
     "start_time": "2021-11-07T10:06:49.559929",
     "status": "completed"
    },
    "tags": []
   },
   "source": [
    "From the command line run `pip install mnist`. This is a library that will help you bring down the mnist dataset. If you run this from a notebook, you need to put  `!pip install mnist` in a cell by itself."
   ]
  },
  {
   "cell_type": "code",
   "execution_count": 3,
   "id": "bb6ad8a1",
   "metadata": {
    "execution": {
     "iopub.execute_input": "2021-11-07T10:06:49.636221Z",
     "iopub.status.busy": "2021-11-07T10:06:49.635698Z",
     "iopub.status.idle": "2021-11-07T10:06:51.263409Z",
     "shell.execute_reply": "2021-11-07T10:06:51.264327Z"
    },
    "papermill": {
     "duration": 1.656226,
     "end_time": "2021-11-07T10:06:51.264512",
     "exception": false,
     "start_time": "2021-11-07T10:06:49.608286",
     "status": "completed"
    },
    "tags": []
   },
   "outputs": [
    {
     "name": "stdout",
     "output_type": "stream",
     "text": [
      "Collecting mnist\r\n"
     ]
    },
    {
     "name": "stdout",
     "output_type": "stream",
     "text": [
      "  Downloading mnist-0.2.2-py2.py3-none-any.whl (3.5 kB)\r\n",
      "Requirement already satisfied: numpy in /opt/hostedtoolcache/Python/3.6.15/x64/lib/python3.6/site-packages (from mnist) (1.19.5)\r\n"
     ]
    },
    {
     "name": "stdout",
     "output_type": "stream",
     "text": [
      "Installing collected packages: mnist\r\n",
      "Successfully installed mnist-0.2.2\r\n"
     ]
    }
   ],
   "source": [
    "!pip install mnist"
   ]
  },
  {
   "cell_type": "markdown",
   "id": "69df9c9a",
   "metadata": {
    "papermill": {
     "duration": 0.026936,
     "end_time": "2021-11-07T10:06:51.316901",
     "exception": false,
     "start_time": "2021-11-07T10:06:51.289965",
     "status": "completed"
    },
    "tags": []
   },
   "source": [
    "## Preparing the Data"
   ]
  },
  {
   "cell_type": "code",
   "execution_count": 4,
   "id": "7f69d806",
   "metadata": {
    "execution": {
     "iopub.execute_input": "2021-11-07T10:06:51.371713Z",
     "iopub.status.busy": "2021-11-07T10:06:51.371161Z",
     "iopub.status.idle": "2021-11-07T10:06:51.385486Z",
     "shell.execute_reply": "2021-11-07T10:06:51.385078Z"
    },
    "papermill": {
     "duration": 0.042574,
     "end_time": "2021-11-07T10:06:51.385592",
     "exception": false,
     "start_time": "2021-11-07T10:06:51.343018",
     "status": "completed"
    },
    "tags": []
   },
   "outputs": [],
   "source": [
    "import mnist"
   ]
  },
  {
   "cell_type": "code",
   "execution_count": 5,
   "id": "a411e44f",
   "metadata": {
    "execution": {
     "iopub.execute_input": "2021-11-07T10:06:51.440727Z",
     "iopub.status.busy": "2021-11-07T10:06:51.440220Z",
     "iopub.status.idle": "2021-11-07T10:06:51.950718Z",
     "shell.execute_reply": "2021-11-07T10:06:51.949636Z"
    },
    "papermill": {
     "duration": 0.538068,
     "end_time": "2021-11-07T10:06:51.950852",
     "exception": false,
     "start_time": "2021-11-07T10:06:51.412784",
     "status": "completed"
    },
    "tags": []
   },
   "outputs": [],
   "source": [
    "train_images = mnist.train_images()\n",
    "train_labels = mnist.train_labels()"
   ]
  },
  {
   "cell_type": "code",
   "execution_count": 6,
   "id": "dceab3a5",
   "metadata": {
    "execution": {
     "iopub.execute_input": "2021-11-07T10:06:52.008389Z",
     "iopub.status.busy": "2021-11-07T10:06:52.003767Z",
     "iopub.status.idle": "2021-11-07T10:06:52.017355Z",
     "shell.execute_reply": "2021-11-07T10:06:52.016950Z"
    },
    "papermill": {
     "duration": 0.04129,
     "end_time": "2021-11-07T10:06:52.017460",
     "exception": false,
     "start_time": "2021-11-07T10:06:51.976170",
     "status": "completed"
    },
    "tags": []
   },
   "outputs": [
    {
     "data": {
      "text/plain": [
       "((60000, 28, 28), (60000,))"
      ]
     },
     "execution_count": 6,
     "metadata": {},
     "output_type": "execute_result"
    }
   ],
   "source": [
    "train_images.shape, train_labels.shape"
   ]
  },
  {
   "cell_type": "code",
   "execution_count": 7,
   "id": "f50dc2bb",
   "metadata": {
    "execution": {
     "iopub.execute_input": "2021-11-07T10:06:52.070416Z",
     "iopub.status.busy": "2021-11-07T10:06:52.069918Z",
     "iopub.status.idle": "2021-11-07T10:06:52.217224Z",
     "shell.execute_reply": "2021-11-07T10:06:52.216702Z"
    },
    "papermill": {
     "duration": 0.17479,
     "end_time": "2021-11-07T10:06:52.217363",
     "exception": false,
     "start_time": "2021-11-07T10:06:52.042573",
     "status": "completed"
    },
    "tags": []
   },
   "outputs": [],
   "source": [
    "test_images = mnist.test_images()\n",
    "test_labels = mnist.test_labels()"
   ]
  },
  {
   "cell_type": "code",
   "execution_count": 8,
   "id": "fc38cf1b",
   "metadata": {
    "execution": {
     "iopub.execute_input": "2021-11-07T10:06:52.281060Z",
     "iopub.status.busy": "2021-11-07T10:06:52.280552Z",
     "iopub.status.idle": "2021-11-07T10:06:52.288219Z",
     "shell.execute_reply": "2021-11-07T10:06:52.287805Z"
    },
    "papermill": {
     "duration": 0.04522,
     "end_time": "2021-11-07T10:06:52.288329",
     "exception": false,
     "start_time": "2021-11-07T10:06:52.243109",
     "status": "completed"
    },
    "tags": []
   },
   "outputs": [
    {
     "data": {
      "text/plain": [
       "((10000, 28, 28), (10000,))"
      ]
     },
     "execution_count": 8,
     "metadata": {},
     "output_type": "execute_result"
    }
   ],
   "source": [
    "test_images.shape, test_labels.shape"
   ]
  },
  {
   "cell_type": "code",
   "execution_count": 9,
   "id": "f9ed8fe0",
   "metadata": {
    "execution": {
     "iopub.execute_input": "2021-11-07T10:06:52.342281Z",
     "iopub.status.busy": "2021-11-07T10:06:52.341784Z",
     "iopub.status.idle": "2021-11-07T10:06:52.477676Z",
     "shell.execute_reply": "2021-11-07T10:06:52.478140Z"
    },
    "papermill": {
     "duration": 0.164661,
     "end_time": "2021-11-07T10:06:52.478290",
     "exception": false,
     "start_time": "2021-11-07T10:06:52.313629",
     "status": "completed"
    },
    "tags": []
   },
   "outputs": [
    {
     "name": "stdout",
     "output_type": "stream",
     "text": [
      "2\n"
     ]
    },
    {
     "data": {
      "text/plain": [
       "<matplotlib.image.AxesImage at 0x7f57471a7080>"
      ]
     },
     "execution_count": 9,
     "metadata": {},
     "output_type": "execute_result"
    },
    {
     "data": {
      "image/png": "[encoded data removed]",
      "text/plain": [
       "<Figure size 432x288 with 1 Axes>"
      ]
     },
     "metadata": {
      "needs_background": "light"
     },
     "output_type": "display_data"
    }
   ],
   "source": [
    "image_index = 7776 # You may select anything up to 60,000\n",
    "print(train_labels[image_index]) \n",
    "plt.imshow(train_images[image_index], cmap='Greys')"
   ]
  },
  {
   "cell_type": "markdown",
   "id": "a8d2388d",
   "metadata": {
    "papermill": {
     "duration": 0.026598,
     "end_time": "2021-11-07T10:06:52.532303",
     "exception": false,
     "start_time": "2021-11-07T10:06:52.505705",
     "status": "completed"
    },
    "tags": []
   },
   "source": [
    "## Filter data to get 3 and 8 out"
   ]
  },
  {
   "cell_type": "code",
   "execution_count": 10,
   "id": "776f7fc7",
   "metadata": {
    "execution": {
     "iopub.execute_input": "2021-11-07T10:06:52.589278Z",
     "iopub.status.busy": "2021-11-07T10:06:52.588755Z",
     "iopub.status.idle": "2021-11-07T10:06:52.606607Z",
     "shell.execute_reply": "2021-11-07T10:06:52.606139Z"
    },
    "papermill": {
     "duration": 0.047988,
     "end_time": "2021-11-07T10:06:52.606732",
     "exception": false,
     "start_time": "2021-11-07T10:06:52.558744",
     "status": "completed"
    },
    "tags": []
   },
   "outputs": [],
   "source": [
    "train_filter = np.where((train_labels == 3 ) | (train_labels == 8))\n",
    "test_filter = np.where((test_labels == 3) | (test_labels == 8))\n",
    "X_train, y_train = train_images[train_filter], train_labels[train_filter]\n",
    "X_test, y_test = test_images[test_filter], test_labels[test_filter]"
   ]
  },
  {
   "cell_type": "markdown",
   "id": "948f0b7e",
   "metadata": {
    "papermill": {
     "duration": 0.026448,
     "end_time": "2021-11-07T10:06:52.660675",
     "exception": false,
     "start_time": "2021-11-07T10:06:52.634227",
     "status": "completed"
    },
    "tags": []
   },
   "source": [
    "We normalize the pizel values in the 0 to 1 range"
   ]
  },
  {
   "cell_type": "code",
   "execution_count": 11,
   "id": "ee4c2166",
   "metadata": {
    "execution": {
     "iopub.execute_input": "2021-11-07T10:06:52.732447Z",
     "iopub.status.busy": "2021-11-07T10:06:52.731927Z",
     "iopub.status.idle": "2021-11-07T10:06:52.769438Z",
     "shell.execute_reply": "2021-11-07T10:06:52.769862Z"
    },
    "papermill": {
     "duration": 0.081737,
     "end_time": "2021-11-07T10:06:52.770012",
     "exception": false,
     "start_time": "2021-11-07T10:06:52.688275",
     "status": "completed"
    },
    "tags": []
   },
   "outputs": [],
   "source": [
    "X_train = X_train/255.\n",
    "X_test = X_test/255."
   ]
  },
  {
   "cell_type": "markdown",
   "id": "ddcf4fab",
   "metadata": {
    "papermill": {
     "duration": 0.026692,
     "end_time": "2021-11-07T10:06:52.823398",
     "exception": false,
     "start_time": "2021-11-07T10:06:52.796706",
     "status": "completed"
    },
    "tags": []
   },
   "source": [
    "And setup the labels as 1 (when the digit is 3) and 0 (when the digit is 8)"
   ]
  },
  {
   "cell_type": "code",
   "execution_count": 12,
   "id": "7dc908f2",
   "metadata": {
    "execution": {
     "iopub.execute_input": "2021-11-07T10:06:52.893080Z",
     "iopub.status.busy": "2021-11-07T10:06:52.879087Z",
     "iopub.status.idle": "2021-11-07T10:06:52.895745Z",
     "shell.execute_reply": "2021-11-07T10:06:52.895315Z"
    },
    "papermill": {
     "duration": 0.046068,
     "end_time": "2021-11-07T10:06:52.895856",
     "exception": false,
     "start_time": "2021-11-07T10:06:52.849788",
     "status": "completed"
    },
    "tags": []
   },
   "outputs": [],
   "source": [
    "y_train = 1*(y_train==3)\n",
    "y_test = 1*(y_test==3)"
   ]
  },
  {
   "cell_type": "code",
   "execution_count": 13,
   "id": "01e4e969",
   "metadata": {
    "execution": {
     "iopub.execute_input": "2021-11-07T10:06:52.964522Z",
     "iopub.status.busy": "2021-11-07T10:06:52.963429Z",
     "iopub.status.idle": "2021-11-07T10:06:52.969186Z",
     "shell.execute_reply": "2021-11-07T10:06:52.968782Z"
    },
    "papermill": {
     "duration": 0.047085,
     "end_time": "2021-11-07T10:06:52.969291",
     "exception": false,
     "start_time": "2021-11-07T10:06:52.922206",
     "status": "completed"
    },
    "tags": []
   },
   "outputs": [
    {
     "data": {
      "text/plain": [
       "((11982, 28, 28), (1984, 28, 28))"
      ]
     },
     "execution_count": 13,
     "metadata": {},
     "output_type": "execute_result"
    }
   ],
   "source": [
    "X_train.shape, X_test.shape"
   ]
  },
  {
   "cell_type": "markdown",
   "id": "5ccf3f85",
   "metadata": {
    "papermill": {
     "duration": 0.026538,
     "end_time": "2021-11-07T10:06:53.022285",
     "exception": false,
     "start_time": "2021-11-07T10:06:52.995747",
     "status": "completed"
    },
    "tags": []
   },
   "source": [
    "We reshape the data to flatten the image pixels into a set of features or co-variates:"
   ]
  },
  {
   "cell_type": "code",
   "execution_count": 14,
   "id": "5286a4a3",
   "metadata": {
    "execution": {
     "iopub.execute_input": "2021-11-07T10:06:53.091680Z",
     "iopub.status.busy": "2021-11-07T10:06:53.085469Z",
     "iopub.status.idle": "2021-11-07T10:06:53.094601Z",
     "shell.execute_reply": "2021-11-07T10:06:53.094173Z"
    },
    "papermill": {
     "duration": 0.04572,
     "end_time": "2021-11-07T10:06:53.094705",
     "exception": false,
     "start_time": "2021-11-07T10:06:53.048985",
     "status": "completed"
    },
    "tags": []
   },
   "outputs": [
    {
     "data": {
      "text/plain": [
       "((11982, 784), (1984, 784))"
      ]
     },
     "execution_count": 14,
     "metadata": {},
     "output_type": "execute_result"
    }
   ],
   "source": [
    "X_train = X_train.reshape(X_train.shape[0], -1)\n",
    "X_test = X_test.reshape(X_test.shape[0], -1)\n",
    "X_train.shape, X_test.shape"
   ]
  },
  {
   "cell_type": "code",
   "execution_count": 15,
   "id": "73c5f88a",
   "metadata": {
    "execution": {
     "iopub.execute_input": "2021-11-07T10:06:53.152714Z",
     "iopub.status.busy": "2021-11-07T10:06:53.152208Z",
     "iopub.status.idle": "2021-11-07T10:06:53.168989Z",
     "shell.execute_reply": "2021-11-07T10:06:53.169417Z"
    },
    "papermill": {
     "duration": 0.048014,
     "end_time": "2021-11-07T10:06:53.169534",
     "exception": false,
     "start_time": "2021-11-07T10:06:53.121520",
     "status": "completed"
    },
    "tags": []
   },
   "outputs": [],
   "source": [
    "#Impoting functions from 'Kudzu'\n",
    "from kudzu.model import Model\n",
    "from kudzu.train import Learner\n",
    "from kudzu.optim import GD\n",
    "from kudzu.data import Data, Sampler,Dataloader\n",
    "\n",
    "from kudzu.callbacks import AccCallback\n",
    "from kudzu.callbacks import ClfCallback\n",
    "\n",
    "from kudzu.loss import MSE\n",
    "\n",
    "from kudzu.layer import Sigmoid,Relu\n",
    "from kudzu.layer import Affine"
   ]
  },
  {
   "cell_type": "markdown",
   "id": "bc01172a",
   "metadata": {
    "papermill": {
     "duration": 0.026955,
     "end_time": "2021-11-07T10:06:53.223470",
     "exception": false,
     "start_time": "2021-11-07T10:06:53.196515",
     "status": "completed"
    },
    "tags": []
   },
   "source": [
    "### Let us create a `Config` class, to store important parameters. \n",
    "This class essentially plays the role of a dictionary."
   ]
  },
  {
   "cell_type": "code",
   "execution_count": 16,
   "id": "978281aa",
   "metadata": {
    "execution": {
     "iopub.execute_input": "2021-11-07T10:06:53.282860Z",
     "iopub.status.busy": "2021-11-07T10:06:53.282355Z",
     "iopub.status.idle": "2021-11-07T10:06:53.292857Z",
     "shell.execute_reply": "2021-11-07T10:06:53.292433Z"
    },
    "papermill": {
     "duration": 0.042606,
     "end_time": "2021-11-07T10:06:53.292959",
     "exception": false,
     "start_time": "2021-11-07T10:06:53.250353",
     "status": "completed"
    },
    "tags": []
   },
   "outputs": [],
   "source": [
    "class Config:\n",
    "    pass\n",
    "config = Config()\n",
    "config.lr = 0.001\n",
    "config.num_epochs = 250\n",
    "config.bs = 50"
   ]
  },
  {
   "cell_type": "markdown",
   "id": "1385fa59",
   "metadata": {
    "papermill": {
     "duration": 0.027023,
     "end_time": "2021-11-07T10:06:53.346932",
     "exception": false,
     "start_time": "2021-11-07T10:06:53.319909",
     "status": "completed"
    },
    "tags": []
   },
   "source": [
    "### Running Models with the Training data\n",
    "Details about the network layers:\n",
    "- A first affine layer has 784 inputs and does 100 affine transforms. These are followed by a Relu\n",
    "- A second affine layer has 100 inputs from the 100 activations of the past layer, and does 100 affine transforms. These are followed by a Relu\n",
    "- A third affine layer has 100 activations and does 2 affine transformations to create an embedding for visualization. There is no non-linearity here.\n",
    "- A final \"logistic regression\" which has an affine transform from 2 inputs to 1 output, which is squeezed through a sigmoid.\n"
   ]
  },
  {
   "cell_type": "code",
   "execution_count": 17,
   "id": "2b9c66db",
   "metadata": {
    "execution": {
     "iopub.execute_input": "2021-11-07T10:06:53.408751Z",
     "iopub.status.busy": "2021-11-07T10:06:53.408245Z",
     "iopub.status.idle": "2021-11-07T10:06:53.418239Z",
     "shell.execute_reply": "2021-11-07T10:06:53.417834Z"
    },
    "papermill": {
     "duration": 0.044518,
     "end_time": "2021-11-07T10:06:53.418344",
     "exception": false,
     "start_time": "2021-11-07T10:06:53.373826",
     "status": "completed"
    },
    "tags": []
   },
   "outputs": [],
   "source": [
    "data = Data(X_train, y_train.reshape(-1,1))\n",
    "sampler = Sampler(data, config.bs, shuffle=True)\n",
    "\n",
    "dl = Dataloader(data, sampler)\n",
    "\n",
    "opt = GD(config.lr)\n",
    "loss = MSE()"
   ]
  },
  {
   "cell_type": "code",
   "execution_count": 18,
   "id": "b275e4c2",
   "metadata": {
    "execution": {
     "iopub.execute_input": "2021-11-07T10:06:53.475666Z",
     "iopub.status.busy": "2021-11-07T10:06:53.475139Z",
     "iopub.status.idle": "2021-11-07T10:06:53.487199Z",
     "shell.execute_reply": "2021-11-07T10:06:53.486797Z"
    },
    "papermill": {
     "duration": 0.041969,
     "end_time": "2021-11-07T10:06:53.487305",
     "exception": false,
     "start_time": "2021-11-07T10:06:53.445336",
     "status": "completed"
    },
    "tags": []
   },
   "outputs": [],
   "source": [
    "training_data_x = X_train\n",
    "testing_data_x = X_test\n",
    "training_data_y = y_train.reshape(-1,1)\n",
    "testing_data_y = y_test.reshape(-1,1)"
   ]
  },
  {
   "cell_type": "code",
   "execution_count": 19,
   "id": "76951160",
   "metadata": {
    "execution": {
     "iopub.execute_input": "2021-11-07T10:06:53.545228Z",
     "iopub.status.busy": "2021-11-07T10:06:53.544724Z",
     "iopub.status.idle": "2021-11-07T10:06:53.559955Z",
     "shell.execute_reply": "2021-11-07T10:06:53.560386Z"
    },
    "papermill": {
     "duration": 0.046358,
     "end_time": "2021-11-07T10:06:53.560499",
     "exception": false,
     "start_time": "2021-11-07T10:06:53.514141",
     "status": "completed"
    },
    "tags": []
   },
   "outputs": [
    {
     "name": "stdout",
     "output_type": "stream",
     "text": [
      "xavier\n",
      "xavier\n",
      "xavier\n",
      "xavier\n",
      "xavier\n"
     ]
    }
   ],
   "source": [
    "layers = [Affine(\"first\", 784, 100), Relu(\"first\"), Affine(\"second\", 100, 100), Relu(\"second\"), Affine(\"third\", 100, 2), Affine(\"last\", 2, 1), Sigmoid(\"last\")]\n",
    "model_nn = Model(layers)\n",
    "model_lr = Model([Affine(\"logits\", 784, 1), Sigmoid(\"sigmoid\")])"
   ]
  },
  {
   "cell_type": "code",
   "execution_count": 20,
   "id": "6eede77a",
   "metadata": {
    "execution": {
     "iopub.execute_input": "2021-11-07T10:06:53.622555Z",
     "iopub.status.busy": "2021-11-07T10:06:53.622051Z",
     "iopub.status.idle": "2021-11-07T10:06:53.632490Z",
     "shell.execute_reply": "2021-11-07T10:06:53.632063Z"
    },
    "papermill": {
     "duration": 0.044866,
     "end_time": "2021-11-07T10:06:53.632590",
     "exception": false,
     "start_time": "2021-11-07T10:06:53.587724",
     "status": "completed"
    },
    "tags": []
   },
   "outputs": [],
   "source": [
    "nn_learner = Learner(loss, model_nn, opt, config.num_epochs)\n",
    "acc_nn = ClfCallback(nn_learner, config.bs, training_data_x , testing_data_x, training_data_y, testing_data_y)\n",
    "nn_learner.set_callbacks([acc_nn])"
   ]
  },
  {
   "cell_type": "code",
   "execution_count": 21,
   "id": "877b6cc7",
   "metadata": {
    "execution": {
     "iopub.execute_input": "2021-11-07T10:06:53.692975Z",
     "iopub.status.busy": "2021-11-07T10:06:53.692021Z",
     "iopub.status.idle": "2021-11-07T10:06:53.701532Z",
     "shell.execute_reply": "2021-11-07T10:06:53.701129Z"
    },
    "papermill": {
     "duration": 0.041959,
     "end_time": "2021-11-07T10:06:53.701634",
     "exception": false,
     "start_time": "2021-11-07T10:06:53.659675",
     "status": "completed"
    },
    "tags": []
   },
   "outputs": [],
   "source": [
    "lr_learner = Learner(loss, model_lr, opt, config.num_epochs)\n",
    "acc_lr = ClfCallback(lr_learner, config.bs, training_data_x , testing_data_x, training_data_y, testing_data_y)\n",
    "lr_learner.set_callbacks([acc_lr])"
   ]
  },
  {
   "cell_type": "code",
   "execution_count": 22,
   "id": "d9b133c3",
   "metadata": {
    "execution": {
     "iopub.execute_input": "2021-11-07T10:06:53.760963Z",
     "iopub.status.busy": "2021-11-07T10:06:53.760393Z",
     "iopub.status.idle": "2021-11-07T10:08:07.950566Z",
     "shell.execute_reply": "2021-11-07T10:08:07.951055Z"
    },
    "papermill": {
     "duration": 74.222353,
     "end_time": "2021-11-07T10:08:07.951196",
     "exception": false,
     "start_time": "2021-11-07T10:06:53.728843",
     "status": "completed"
    },
    "tags": []
   },
   "outputs": [
    {
     "name": "stdout",
     "output_type": "stream",
     "text": [
      "Epoch 0, Loss 0.2459\n",
      "Training Accuracy: 0.5726, Testing Accuracy: 0.5761\n",
      "\n"
     ]
    },
    {
     "name": "stdout",
     "output_type": "stream",
     "text": [
      "Epoch 10, Loss 0.1321\n",
      "Training Accuracy: 0.8973, Testing Accuracy: 0.9002\n",
      "\n"
     ]
    },
    {
     "name": "stdout",
     "output_type": "stream",
     "text": [
      "Epoch 20, Loss 0.0712\n",
      "Training Accuracy: 0.9279, Testing Accuracy: 0.9390\n",
      "\n"
     ]
    },
    {
     "name": "stdout",
     "output_type": "stream",
     "text": [
      "Epoch 30, Loss 0.0521\n",
      "Training Accuracy: 0.9426, Testing Accuracy: 0.9521\n",
      "\n"
     ]
    },
    {
     "name": "stdout",
     "output_type": "stream",
     "text": [
      "Epoch 40, Loss 0.0433\n",
      "Training Accuracy: 0.9503, Testing Accuracy: 0.9572\n",
      "\n"
     ]
    },
    {
     "name": "stdout",
     "output_type": "stream",
     "text": [
      "Epoch 50, Loss 0.0383\n",
      "Training Accuracy: 0.9556, Testing Accuracy: 0.9612\n",
      "\n"
     ]
    },
    {
     "name": "stdout",
     "output_type": "stream",
     "text": [
      "Epoch 60, Loss 0.0351\n",
      "Training Accuracy: 0.9590, Testing Accuracy: 0.9627\n",
      "\n"
     ]
    },
    {
     "name": "stdout",
     "output_type": "stream",
     "text": [
      "Epoch 70, Loss 0.0328\n",
      "Training Accuracy: 0.9614, Testing Accuracy: 0.9652\n",
      "\n"
     ]
    },
    {
     "name": "stdout",
     "output_type": "stream",
     "text": [
      "Epoch 80, Loss 0.0309\n",
      "Training Accuracy: 0.9634, Testing Accuracy: 0.9662\n",
      "\n"
     ]
    },
    {
     "name": "stdout",
     "output_type": "stream",
     "text": [
      "Epoch 90, Loss 0.0295\n",
      "Training Accuracy: 0.9654, Testing Accuracy: 0.9677\n",
      "\n"
     ]
    },
    {
     "name": "stdout",
     "output_type": "stream",
     "text": [
      "Epoch 100, Loss 0.0282\n",
      "Training Accuracy: 0.9671, Testing Accuracy: 0.9688\n",
      "\n"
     ]
    },
    {
     "name": "stdout",
     "output_type": "stream",
     "text": [
      "Epoch 110, Loss 0.0271\n",
      "Training Accuracy: 0.9683, Testing Accuracy: 0.9688\n",
      "\n"
     ]
    },
    {
     "name": "stdout",
     "output_type": "stream",
     "text": [
      "Epoch 120, Loss 0.0262\n",
      "Training Accuracy: 0.9698, Testing Accuracy: 0.9693\n",
      "\n"
     ]
    },
    {
     "name": "stdout",
     "output_type": "stream",
     "text": [
      "Epoch 130, Loss 0.0254\n",
      "Training Accuracy: 0.9711, Testing Accuracy: 0.9688\n",
      "\n"
     ]
    },
    {
     "name": "stdout",
     "output_type": "stream",
     "text": [
      "Epoch 140, Loss 0.0246\n",
      "Training Accuracy: 0.9720, Testing Accuracy: 0.9693\n",
      "\n"
     ]
    },
    {
     "name": "stdout",
     "output_type": "stream",
     "text": [
      "Epoch 150, Loss 0.0239\n",
      "Training Accuracy: 0.9725, Testing Accuracy: 0.9708\n",
      "\n"
     ]
    },
    {
     "name": "stdout",
     "output_type": "stream",
     "text": [
      "Epoch 160, Loss 0.0233\n",
      "Training Accuracy: 0.9729, Testing Accuracy: 0.9708\n",
      "\n"
     ]
    },
    {
     "name": "stdout",
     "output_type": "stream",
     "text": [
      "Epoch 170, Loss 0.0227\n",
      "Training Accuracy: 0.9735, Testing Accuracy: 0.9708\n",
      "\n"
     ]
    },
    {
     "name": "stdout",
     "output_type": "stream",
     "text": [
      "Epoch 180, Loss 0.0221\n",
      "Training Accuracy: 0.9746, Testing Accuracy: 0.9718\n",
      "\n"
     ]
    },
    {
     "name": "stdout",
     "output_type": "stream",
     "text": [
      "Epoch 190, Loss 0.0216\n",
      "Training Accuracy: 0.9755, Testing Accuracy: 0.9718\n",
      "\n"
     ]
    },
    {
     "name": "stdout",
     "output_type": "stream",
     "text": [
      "Epoch 200, Loss 0.0211\n",
      "Training Accuracy: 0.9756, Testing Accuracy: 0.9718\n",
      "\n"
     ]
    },
    {
     "name": "stdout",
     "output_type": "stream",
     "text": [
      "Epoch 210, Loss 0.0206\n",
      "Training Accuracy: 0.9764, Testing Accuracy: 0.9718\n",
      "\n"
     ]
    },
    {
     "name": "stdout",
     "output_type": "stream",
     "text": [
      "Epoch 220, Loss 0.0202\n",
      "Training Accuracy: 0.9768, Testing Accuracy: 0.9718\n",
      "\n"
     ]
    },
    {
     "name": "stdout",
     "output_type": "stream",
     "text": [
      "Epoch 230, Loss 0.0197\n",
      "Training Accuracy: 0.9772, Testing Accuracy: 0.9728\n",
      "\n"
     ]
    },
    {
     "name": "stdout",
     "output_type": "stream",
     "text": [
      "Epoch 240, Loss 0.0193\n",
      "Training Accuracy: 0.9779, Testing Accuracy: 0.9728\n",
      "\n"
     ]
    },
    {
     "data": {
      "text/plain": [
       "0.04460511137017543"
      ]
     },
     "execution_count": 22,
     "metadata": {},
     "output_type": "execute_result"
    }
   ],
   "source": [
    "nn_learner.train_loop(dl)"
   ]
  },
  {
   "cell_type": "code",
   "execution_count": 23,
   "id": "e0163366",
   "metadata": {
    "execution": {
     "iopub.execute_input": "2021-11-07T10:08:08.028960Z",
     "iopub.status.busy": "2021-11-07T10:08:08.028443Z",
     "iopub.status.idle": "2021-11-07T10:08:21.085394Z",
     "shell.execute_reply": "2021-11-07T10:08:21.086151Z"
    },
    "papermill": {
     "duration": 13.100393,
     "end_time": "2021-11-07T10:08:21.086307",
     "exception": false,
     "start_time": "2021-11-07T10:08:07.985914",
     "status": "completed"
    },
    "tags": []
   },
   "outputs": [
    {
     "name": "stdout",
     "output_type": "stream",
     "text": [
      "Epoch 0, Loss 0.2762\n",
      "Training Accuracy: 0.5408, Testing Accuracy: 0.5353\n",
      "\n"
     ]
    },
    {
     "name": "stdout",
     "output_type": "stream",
     "text": [
      "Epoch 10, Loss 0.1062\n",
      "Training Accuracy: 0.9107, Testing Accuracy: 0.9194\n",
      "\n"
     ]
    },
    {
     "name": "stdout",
     "output_type": "stream",
     "text": [
      "Epoch 20, Loss 0.0811\n",
      "Training Accuracy: 0.9261, Testing Accuracy: 0.9390\n",
      "\n"
     ]
    },
    {
     "name": "stdout",
     "output_type": "stream",
     "text": [
      "Epoch 30, Loss 0.0698\n",
      "Training Accuracy: 0.9326, Testing Accuracy: 0.9471\n",
      "\n"
     ]
    },
    {
     "name": "stdout",
     "output_type": "stream",
     "text": [
      "Epoch 40, Loss 0.063\n",
      "Training Accuracy: 0.9384, Testing Accuracy: 0.9511\n",
      "\n"
     ]
    },
    {
     "name": "stdout",
     "output_type": "stream",
     "text": [
      "Epoch 50, Loss 0.0584\n",
      "Training Accuracy: 0.9426, Testing Accuracy: 0.9546\n",
      "\n"
     ]
    },
    {
     "name": "stdout",
     "output_type": "stream",
     "text": [
      "Epoch 60, Loss 0.055\n",
      "Training Accuracy: 0.9452, Testing Accuracy: 0.9567\n",
      "\n"
     ]
    },
    {
     "name": "stdout",
     "output_type": "stream",
     "text": [
      "Epoch 70, Loss 0.0523\n",
      "Training Accuracy: 0.9472, Testing Accuracy: 0.9597\n",
      "\n"
     ]
    },
    {
     "name": "stdout",
     "output_type": "stream",
     "text": [
      "Epoch 80, Loss 0.0502\n",
      "Training Accuracy: 0.9498, Testing Accuracy: 0.9612\n",
      "\n"
     ]
    },
    {
     "name": "stdout",
     "output_type": "stream",
     "text": [
      "Epoch 90, Loss 0.0484\n",
      "Training Accuracy: 0.9509, Testing Accuracy: 0.9627\n",
      "\n"
     ]
    },
    {
     "name": "stdout",
     "output_type": "stream",
     "text": [
      "Epoch 100, Loss 0.047\n",
      "Training Accuracy: 0.9518, Testing Accuracy: 0.9632\n",
      "\n"
     ]
    },
    {
     "name": "stdout",
     "output_type": "stream",
     "text": [
      "Epoch 110, Loss 0.0457\n",
      "Training Accuracy: 0.9527, Testing Accuracy: 0.9642\n",
      "\n"
     ]
    },
    {
     "name": "stdout",
     "output_type": "stream",
     "text": [
      "Epoch 120, Loss 0.0446\n",
      "Training Accuracy: 0.9536, Testing Accuracy: 0.9637\n",
      "\n"
     ]
    },
    {
     "name": "stdout",
     "output_type": "stream",
     "text": [
      "Epoch 130, Loss 0.0436\n",
      "Training Accuracy: 0.9543, Testing Accuracy: 0.9642\n",
      "\n"
     ]
    },
    {
     "name": "stdout",
     "output_type": "stream",
     "text": [
      "Epoch 140, Loss 0.0428\n",
      "Training Accuracy: 0.9548, Testing Accuracy: 0.9647\n",
      "\n"
     ]
    },
    {
     "name": "stdout",
     "output_type": "stream",
     "text": [
      "Epoch 150, Loss 0.042\n",
      "Training Accuracy: 0.9550, Testing Accuracy: 0.9642\n",
      "\n"
     ]
    },
    {
     "name": "stdout",
     "output_type": "stream",
     "text": [
      "Epoch 160, Loss 0.0413\n",
      "Training Accuracy: 0.9555, Testing Accuracy: 0.9647\n",
      "\n"
     ]
    },
    {
     "name": "stdout",
     "output_type": "stream",
     "text": [
      "Epoch 170, Loss 0.0406\n",
      "Training Accuracy: 0.9557, Testing Accuracy: 0.9647\n",
      "\n"
     ]
    },
    {
     "name": "stdout",
     "output_type": "stream",
     "text": [
      "Epoch 180, Loss 0.0401\n",
      "Training Accuracy: 0.9568, Testing Accuracy: 0.9652\n",
      "\n"
     ]
    },
    {
     "name": "stdout",
     "output_type": "stream",
     "text": [
      "Epoch 190, Loss 0.0395\n",
      "Training Accuracy: 0.9574, Testing Accuracy: 0.9657\n",
      "\n"
     ]
    },
    {
     "name": "stdout",
     "output_type": "stream",
     "text": [
      "Epoch 200, Loss 0.039\n",
      "Training Accuracy: 0.9577, Testing Accuracy: 0.9657\n",
      "\n"
     ]
    },
    {
     "name": "stdout",
     "output_type": "stream",
     "text": [
      "Epoch 210, Loss 0.0386\n",
      "Training Accuracy: 0.9583, Testing Accuracy: 0.9662\n",
      "\n"
     ]
    },
    {
     "name": "stdout",
     "output_type": "stream",
     "text": [
      "Epoch 220, Loss 0.0381\n",
      "Training Accuracy: 0.9585, Testing Accuracy: 0.9657\n",
      "\n"
     ]
    },
    {
     "name": "stdout",
     "output_type": "stream",
     "text": [
      "Epoch 230, Loss 0.0377\n",
      "Training Accuracy: 0.9590, Testing Accuracy: 0.9657\n",
      "\n"
     ]
    },
    {
     "name": "stdout",
     "output_type": "stream",
     "text": [
      "Epoch 240, Loss 0.0374\n",
      "Training Accuracy: 0.9596, Testing Accuracy: 0.9667\n",
      "\n"
     ]
    },
    {
     "data": {
      "text/plain": [
       "0.03920791994689499"
      ]
     },
     "execution_count": 23,
     "metadata": {},
     "output_type": "execute_result"
    }
   ],
   "source": [
    "lr_learner.train_loop(dl)"
   ]
  },
  {
   "cell_type": "code",
   "execution_count": 24,
   "id": "ca410940",
   "metadata": {
    "execution": {
     "iopub.execute_input": "2021-11-07T10:08:21.184929Z",
     "iopub.status.busy": "2021-11-07T10:08:21.184397Z",
     "iopub.status.idle": "2021-11-07T10:08:21.393505Z",
     "shell.execute_reply": "2021-11-07T10:08:21.393919Z"
    },
    "papermill": {
     "duration": 0.265358,
     "end_time": "2021-11-07T10:08:21.394058",
     "exception": false,
     "start_time": "2021-11-07T10:08:21.128700",
     "status": "completed"
    },
    "tags": []
   },
   "outputs": [
    {
     "data": {
      "text/plain": [
       "<matplotlib.legend.Legend at 0x7f5746d0a7f0>"
      ]
     },
     "execution_count": 24,
     "metadata": {},
     "output_type": "execute_result"
    },
    {
     "data": {
      "image/png": "[encoded data removed]",
      "text/plain": [
       "<Figure size 1080x720 with 1 Axes>"
      ]
     },
     "metadata": {
      "needs_background": "light"
     },
     "output_type": "display_data"
    }
   ],
   "source": [
    "#comparing the results of NN and LR\n",
    "plt.figure(figsize=(15,10))\n",
    "\n",
    "# Neural Network plots\n",
    "plt.plot(acc_nn.accuracies, 'r-', label = \"Training Accuracies - NN\")\n",
    "plt.plot(acc_nn.test_accuracies, 'g-', label = \"Testing Accuracies - NN\")\n",
    "\n",
    "# Logistic Regression plots\n",
    "plt.plot(acc_lr.accuracies, 'k-', label = \"Training Accuracies - LR\")\n",
    "plt.plot(acc_lr.test_accuracies, 'b-', label = \"Testing Accuracies - LR\")\n",
    "plt.legend()"
   ]
  },
  {
   "cell_type": "markdown",
   "id": "80dfb35c",
   "metadata": {
    "papermill": {
     "duration": 0.042419,
     "end_time": "2021-11-07T10:08:21.479336",
     "exception": false,
     "start_time": "2021-11-07T10:08:21.436917",
     "status": "completed"
    },
    "tags": []
   },
   "source": [
    "#### Plotting the outputs of this layer of the NN.\n"
   ]
  },
  {
   "cell_type": "code",
   "execution_count": 25,
   "id": "45eb2ff5",
   "metadata": {
    "execution": {
     "iopub.execute_input": "2021-11-07T10:08:21.568616Z",
     "iopub.status.busy": "2021-11-07T10:08:21.568064Z",
     "iopub.status.idle": "2021-11-07T10:08:21.587246Z",
     "shell.execute_reply": "2021-11-07T10:08:21.587701Z"
    },
    "papermill": {
     "duration": 0.06596,
     "end_time": "2021-11-07T10:08:21.587844",
     "exception": false,
     "start_time": "2021-11-07T10:08:21.521884",
     "status": "completed"
    },
    "tags": []
   },
   "outputs": [],
   "source": [
    "new_model = Model(layers[:-2])\n",
    "testing_plot = new_model(testing_data_x)"
   ]
  },
  {
   "cell_type": "code",
   "execution_count": 26,
   "id": "4c0a5485",
   "metadata": {
    "execution": {
     "iopub.execute_input": "2021-11-07T10:08:21.688159Z",
     "iopub.status.busy": "2021-11-07T10:08:21.687336Z",
     "iopub.status.idle": "2021-11-07T10:08:21.901570Z",
     "shell.execute_reply": "2021-11-07T10:08:21.901140Z"
    },
    "papermill": {
     "duration": 0.270934,
     "end_time": "2021-11-07T10:08:21.901691",
     "exception": false,
     "start_time": "2021-11-07T10:08:21.630757",
     "status": "completed"
    },
    "tags": []
   },
   "outputs": [
    {
     "data": {
      "text/plain": [
       "Text(0.5, 1.0, 'Outputs')"
      ]
     },
     "execution_count": 26,
     "metadata": {},
     "output_type": "execute_result"
    },
    {
     "data": {
      "image/png": "[encoded data removed]",
      "text/plain": [
       "<Figure size 576x504 with 1 Axes>"
      ]
     },
     "metadata": {
      "needs_background": "light"
     },
     "output_type": "display_data"
    }
   ],
   "source": [
    "# Plotting the scatter plot of points and color coding by class\n",
    "plt.figure(figsize=(8,7))\n",
    "plt.scatter(testing_plot[:,0], testing_plot[:,1], alpha = 0.1, c = y_test.ravel());\n",
    "plt.title('Outputs')"
   ]
  },
  {
   "cell_type": "markdown",
   "id": "a74fcf8f",
   "metadata": {
    "papermill": {
     "duration": 0.045724,
     "end_time": "2021-11-07T10:08:21.993361",
     "exception": false,
     "start_time": "2021-11-07T10:08:21.947637",
     "status": "completed"
    },
    "tags": []
   },
   "source": [
    "Probability contours"
   ]
  },
  {
   "cell_type": "code",
   "execution_count": 27,
   "id": "d0afc8e3",
   "metadata": {
    "execution": {
     "iopub.execute_input": "2021-11-07T10:08:22.093036Z",
     "iopub.status.busy": "2021-11-07T10:08:22.092518Z",
     "iopub.status.idle": "2021-11-07T10:08:22.101246Z",
     "shell.execute_reply": "2021-11-07T10:08:22.101650Z"
    },
    "papermill": {
     "duration": 0.062608,
     "end_time": "2021-11-07T10:08:22.101772",
     "exception": false,
     "start_time": "2021-11-07T10:08:22.039164",
     "status": "completed"
    },
    "tags": []
   },
   "outputs": [],
   "source": [
    "model_prob = Model(layers[-2:]) "
   ]
  },
  {
   "cell_type": "code",
   "execution_count": 28,
   "id": "9b96e238",
   "metadata": {
    "execution": {
     "iopub.execute_input": "2021-11-07T10:08:22.204552Z",
     "iopub.status.busy": "2021-11-07T10:08:22.199720Z",
     "iopub.status.idle": "2021-11-07T10:08:22.215038Z",
     "shell.execute_reply": "2021-11-07T10:08:22.214633Z"
    },
    "papermill": {
     "duration": 0.067174,
     "end_time": "2021-11-07T10:08:22.215145",
     "exception": false,
     "start_time": "2021-11-07T10:08:22.147971",
     "status": "completed"
    },
    "tags": []
   },
   "outputs": [],
   "source": [
    "#creating the x and y ranges according to the above generated plot.\n",
    "x_range = np.linspace(-4, 1, 100) \n",
    "y_range = np.linspace(-6, 6, 100) \n",
    "x_grid, y_grid = np.meshgrid(x_range, y_range) # x_grid and y_grig are of size 100 X 100\n",
    "\n",
    "# converting x_grid and y_grid to continuous arrays\n",
    "x_gridflat = np.ravel(x_grid)\n",
    "y_gridflat = np.ravel(y_grid)\n",
    "\n",
    "# The last layer of the current model takes two columns as input. Hence transpose of np.vstack() is required.\n",
    "X = np.vstack((x_gridflat, y_gridflat)).T\n",
    "\n",
    "prob_contour = model_prob(X).reshape(100,100) "
   ]
  },
  {
   "cell_type": "code",
   "execution_count": 29,
   "id": "da72499a",
   "metadata": {
    "execution": {
     "iopub.execute_input": "2021-11-07T10:08:22.313013Z",
     "iopub.status.busy": "2021-11-07T10:08:22.312505Z",
     "iopub.status.idle": "2021-11-07T10:08:22.558099Z",
     "shell.execute_reply": "2021-11-07T10:08:22.558539Z"
    },
    "papermill": {
     "duration": 0.297674,
     "end_time": "2021-11-07T10:08:22.558685",
     "exception": false,
     "start_time": "2021-11-07T10:08:22.261011",
     "status": "completed"
    },
    "tags": []
   },
   "outputs": [
    {
     "data": {
      "image/png": "[encoded data removed]",
      "text/plain": [
       "<Figure size 720x648 with 1 Axes>"
      ]
     },
     "metadata": {
      "needs_background": "light"
     },
     "output_type": "display_data"
    }
   ],
   "source": [
    "plt.figure(figsize=(10,9))\n",
    "plt.scatter(testing_plot[:,0], testing_plot[:,1], alpha = 0.1, c = y_test.ravel())\n",
    "contours = plt.contour(x_grid,y_grid,prob_contour)\n",
    "plt.title('Probability Contours')\n",
    "plt.clabel(contours, inline = True );"
   ]
  },
  {
   "cell_type": "code",
   "execution_count": null,
   "id": "e81b4ac7",
   "metadata": {
    "papermill": {
     "duration": 0.048766,
     "end_time": "2021-11-07T10:08:22.656463",
     "exception": false,
     "start_time": "2021-11-07T10:08:22.607697",
     "status": "completed"
    },
    "tags": []
   },
   "outputs": [],
   "source": []
  }
 ],
 "metadata": {
  "kernelspec": {
   "display_name": "Python 3",
   "language": "python",
   "name": "python3"
  },
  "language_info": {
   "codemirror_mode": {
    "name": "ipython",
    "version": 3
   },
   "file_extension": ".py",
   "mimetype": "text/x-python",
   "name": "python",
   "nbconvert_exporter": "python",
   "pygments_lexer": "ipython3",
   "version": "3.6.15"
  },
  "papermill": {
   "default_parameters": {},
   "duration": 95.243171,
   "end_time": "2021-11-07T10:08:23.042375",
   "environment_variables": {},
   "exception": null,
   "input_path": "2020-08-11-part2.ipynb",
   "output_path": "2020-08-11-part2.ipynb",
   "parameters": {},
   "start_time": "2021-11-07T10:06:47.799204",
   "version": "2.3.3"
  }
 },
 "nbformat": 4,
 "nbformat_minor": 5
}