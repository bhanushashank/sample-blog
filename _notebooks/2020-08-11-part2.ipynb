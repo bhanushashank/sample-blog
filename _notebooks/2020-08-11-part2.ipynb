{
 "cells": [
  {
   "cell_type": "markdown",
   "id": "98380cd3",
   "metadata": {
    "papermill": {
     "duration": 0.029088,
     "end_time": "2022-07-17T00:42:03.857092",
     "exception": false,
     "start_time": "2022-07-17T00:42:03.828004",
     "status": "completed"
    },
    "tags": []
   },
   "source": [
    "# Distinguish Your Own Digits (DYOD)"
   ]
  },
  {
   "cell_type": "markdown",
   "id": "ef31240d",
   "metadata": {
    "papermill": {
     "duration": 0.023819,
     "end_time": "2022-07-17T00:42:03.905356",
     "exception": false,
     "start_time": "2022-07-17T00:42:03.881537",
     "status": "completed"
    },
    "tags": []
   },
   "source": [
    "You are going to write a classifier that distinguishes between the number 3 and number 8."
   ]
  },
  {
   "cell_type": "code",
   "execution_count": 1,
   "id": "b15c8646",
   "metadata": {
    "execution": {
     "iopub.execute_input": "2022-07-17T00:42:03.963659Z",
     "iopub.status.busy": "2022-07-17T00:42:03.960642Z",
     "iopub.status.idle": "2022-07-17T00:42:03.973872Z",
     "shell.execute_reply": "2022-07-17T00:42:03.973351Z"
    },
    "papermill": {
     "duration": 0.044921,
     "end_time": "2022-07-17T00:42:03.974000",
     "exception": false,
     "start_time": "2022-07-17T00:42:03.929079",
     "status": "completed"
    },
    "tags": []
   },
   "outputs": [],
   "source": [
    "%load_ext autoreload\n",
    "%autoreload 2"
   ]
  },
  {
   "cell_type": "code",
   "execution_count": 2,
   "id": "22ef38dc",
   "metadata": {
    "execution": {
     "iopub.execute_input": "2022-07-17T00:42:04.025708Z",
     "iopub.status.busy": "2022-07-17T00:42:04.025111Z",
     "iopub.status.idle": "2022-07-17T00:42:04.538499Z",
     "shell.execute_reply": "2022-07-17T00:42:04.537900Z"
    },
    "papermill": {
     "duration": 0.540867,
     "end_time": "2022-07-17T00:42:04.538641",
     "exception": false,
     "start_time": "2022-07-17T00:42:03.997774",
     "status": "completed"
    },
    "tags": []
   },
   "outputs": [],
   "source": [
    "%matplotlib inline\n",
    "import numpy as np\n",
    "import matplotlib.pyplot as plt\n",
    "import pandas as pd"
   ]
  },
  {
   "cell_type": "markdown",
   "id": "ba036198",
   "metadata": {
    "papermill": {
     "duration": 0.023725,
     "end_time": "2022-07-17T00:42:04.586518",
     "exception": false,
     "start_time": "2022-07-17T00:42:04.562793",
     "status": "completed"
    },
    "tags": []
   },
   "source": [
    "From the command line run `pip install mnist`. This is a library that will help you bring down the mnist dataset. If you run this from a notebook, you need to put  `!pip install mnist` in a cell by itself."
   ]
  },
  {
   "cell_type": "code",
   "execution_count": 3,
   "id": "bb6ad8a1",
   "metadata": {
    "execution": {
     "iopub.execute_input": "2022-07-17T00:42:04.637446Z",
     "iopub.status.busy": "2022-07-17T00:42:04.636862Z",
     "iopub.status.idle": "2022-07-17T00:42:07.074937Z",
     "shell.execute_reply": "2022-07-17T00:42:07.074391Z"
    },
    "papermill": {
     "duration": 2.464803,
     "end_time": "2022-07-17T00:42:07.075059",
     "exception": false,
     "start_time": "2022-07-17T00:42:04.610256",
     "status": "completed"
    },
    "tags": []
   },
   "outputs": [
    {
     "name": "stdout",
     "output_type": "stream",
     "text": [
      "Collecting mnist\r\n",
      "  Downloading mnist-0.2.2-py2.py3-none-any.whl (3.5 kB)\r\n"
     ]
    },
    {
     "name": "stdout",
     "output_type": "stream",
     "text": [
      "Requirement already satisfied: numpy in /opt/hostedtoolcache/Python/3.6.15/x64/lib/python3.6/site-packages (from mnist) (1.19.5)\r\n"
     ]
    },
    {
     "name": "stdout",
     "output_type": "stream",
     "text": [
      "Installing collected packages: mnist\r\n"
     ]
    },
    {
     "name": "stdout",
     "output_type": "stream",
     "text": [
      "Successfully installed mnist-0.2.2\r\n"
     ]
    }
   ],
   "source": [
    "!pip install mnist"
   ]
  },
  {
   "cell_type": "markdown",
   "id": "69df9c9a",
   "metadata": {
    "papermill": {
     "duration": 0.024841,
     "end_time": "2022-07-17T00:42:07.125038",
     "exception": false,
     "start_time": "2022-07-17T00:42:07.100197",
     "status": "completed"
    },
    "tags": []
   },
   "source": [
    "## Preparing the Data"
   ]
  },
  {
   "cell_type": "code",
   "execution_count": 4,
   "id": "7f69d806",
   "metadata": {
    "execution": {
     "iopub.execute_input": "2022-07-17T00:42:07.193079Z",
     "iopub.status.busy": "2022-07-17T00:42:07.190757Z",
     "iopub.status.idle": "2022-07-17T00:42:07.196061Z",
     "shell.execute_reply": "2022-07-17T00:42:07.195283Z"
    },
    "papermill": {
     "duration": 0.046431,
     "end_time": "2022-07-17T00:42:07.196179",
     "exception": false,
     "start_time": "2022-07-17T00:42:07.149748",
     "status": "completed"
    },
    "tags": []
   },
   "outputs": [],
   "source": [
    "import mnist"
   ]
  },
  {
   "cell_type": "code",
   "execution_count": 5,
   "id": "a411e44f",
   "metadata": {
    "execution": {
     "iopub.execute_input": "2022-07-17T00:42:07.249529Z",
     "iopub.status.busy": "2022-07-17T00:42:07.248958Z",
     "iopub.status.idle": "2022-07-17T00:42:07.794015Z",
     "shell.execute_reply": "2022-07-17T00:42:07.792978Z"
    },
    "papermill": {
     "duration": 0.573137,
     "end_time": "2022-07-17T00:42:07.794163",
     "exception": false,
     "start_time": "2022-07-17T00:42:07.221026",
     "status": "completed"
    },
    "tags": []
   },
   "outputs": [],
   "source": [
    "train_images = mnist.train_images()\n",
    "train_labels = mnist.train_labels()"
   ]
  },
  {
   "cell_type": "code",
   "execution_count": 6,
   "id": "dceab3a5",
   "metadata": {
    "execution": {
     "iopub.execute_input": "2022-07-17T00:42:07.850778Z",
     "iopub.status.busy": "2022-07-17T00:42:07.850189Z",
     "iopub.status.idle": "2022-07-17T00:42:07.863801Z",
     "shell.execute_reply": "2022-07-17T00:42:07.864270Z"
    },
    "papermill": {
     "duration": 0.045194,
     "end_time": "2022-07-17T00:42:07.864396",
     "exception": false,
     "start_time": "2022-07-17T00:42:07.819202",
     "status": "completed"
    },
    "tags": []
   },
   "outputs": [
    {
     "data": {
      "text/plain": [
       "((60000, 28, 28), (60000,))"
      ]
     },
     "execution_count": 6,
     "metadata": {},
     "output_type": "execute_result"
    }
   ],
   "source": [
    "train_images.shape, train_labels.shape"
   ]
  },
  {
   "cell_type": "code",
   "execution_count": 7,
   "id": "f50dc2bb",
   "metadata": {
    "execution": {
     "iopub.execute_input": "2022-07-17T00:42:07.918161Z",
     "iopub.status.busy": "2022-07-17T00:42:07.917543Z",
     "iopub.status.idle": "2022-07-17T00:42:08.029422Z",
     "shell.execute_reply": "2022-07-17T00:42:08.028892Z"
    },
    "papermill": {
     "duration": 0.140203,
     "end_time": "2022-07-17T00:42:08.029551",
     "exception": false,
     "start_time": "2022-07-17T00:42:07.889348",
     "status": "completed"
    },
    "tags": []
   },
   "outputs": [],
   "source": [
    "test_images = mnist.test_images()\n",
    "test_labels = mnist.test_labels()"
   ]
  },
  {
   "cell_type": "code",
   "execution_count": 8,
   "id": "fc38cf1b",
   "metadata": {
    "execution": {
     "iopub.execute_input": "2022-07-17T00:42:08.084159Z",
     "iopub.status.busy": "2022-07-17T00:42:08.083580Z",
     "iopub.status.idle": "2022-07-17T00:42:08.096996Z",
     "shell.execute_reply": "2022-07-17T00:42:08.097416Z"
    },
    "papermill": {
     "duration": 0.042542,
     "end_time": "2022-07-17T00:42:08.097548",
     "exception": false,
     "start_time": "2022-07-17T00:42:08.055006",
     "status": "completed"
    },
    "tags": []
   },
   "outputs": [
    {
     "data": {
      "text/plain": [
       "((10000, 28, 28), (10000,))"
      ]
     },
     "execution_count": 8,
     "metadata": {},
     "output_type": "execute_result"
    }
   ],
   "source": [
    "test_images.shape, test_labels.shape"
   ]
  },
  {
   "cell_type": "code",
   "execution_count": 9,
   "id": "f9ed8fe0",
   "metadata": {
    "execution": {
     "iopub.execute_input": "2022-07-17T00:42:08.155040Z",
     "iopub.status.busy": "2022-07-17T00:42:08.154468Z",
     "iopub.status.idle": "2022-07-17T00:42:08.288342Z",
     "shell.execute_reply": "2022-07-17T00:42:08.288852Z"
    },
    "papermill": {
     "duration": 0.166196,
     "end_time": "2022-07-17T00:42:08.289010",
     "exception": false,
     "start_time": "2022-07-17T00:42:08.122814",
     "status": "completed"
    },
    "tags": []
   },
   "outputs": [
    {
     "name": "stdout",
     "output_type": "stream",
     "text": [
      "2\n"
     ]
    },
    {
     "data": {
      "text/plain": [
       "<matplotlib.image.AxesImage at 0x7fc6c88ed518>"
      ]
     },
     "execution_count": 9,
     "metadata": {},
     "output_type": "execute_result"
    },
    {
     "data": {
      "image/png": "[encoded data removed]",
      "text/plain": [
       "<Figure size 432x288 with 1 Axes>"
      ]
     },
     "metadata": {
      "needs_background": "light"
     },
     "output_type": "display_data"
    }
   ],
   "source": [
    "image_index = 7776 # You may select anything up to 60,000\n",
    "print(train_labels[image_index]) \n",
    "plt.imshow(train_images[image_index], cmap='Greys')"
   ]
  },
  {
   "cell_type": "markdown",
   "id": "a8d2388d",
   "metadata": {
    "papermill": {
     "duration": 0.027007,
     "end_time": "2022-07-17T00:42:08.343273",
     "exception": false,
     "start_time": "2022-07-17T00:42:08.316266",
     "status": "completed"
    },
    "tags": []
   },
   "source": [
    "## Filter data to get 3 and 8 out"
   ]
  },
  {
   "cell_type": "code",
   "execution_count": 10,
   "id": "776f7fc7",
   "metadata": {
    "execution": {
     "iopub.execute_input": "2022-07-17T00:42:08.406517Z",
     "iopub.status.busy": "2022-07-17T00:42:08.405904Z",
     "iopub.status.idle": "2022-07-17T00:42:08.418439Z",
     "shell.execute_reply": "2022-07-17T00:42:08.417859Z"
    },
    "papermill": {
     "duration": 0.048671,
     "end_time": "2022-07-17T00:42:08.418551",
     "exception": false,
     "start_time": "2022-07-17T00:42:08.369880",
     "status": "completed"
    },
    "tags": []
   },
   "outputs": [],
   "source": [
    "train_filter = np.where((train_labels == 3 ) | (train_labels == 8))\n",
    "test_filter = np.where((test_labels == 3) | (test_labels == 8))\n",
    "X_train, y_train = train_images[train_filter], train_labels[train_filter]\n",
    "X_test, y_test = test_images[test_filter], test_labels[test_filter]"
   ]
  },
  {
   "cell_type": "markdown",
   "id": "948f0b7e",
   "metadata": {
    "papermill": {
     "duration": 0.026403,
     "end_time": "2022-07-17T00:42:08.471490",
     "exception": false,
     "start_time": "2022-07-17T00:42:08.445087",
     "status": "completed"
    },
    "tags": []
   },
   "source": [
    "We normalize the pizel values in the 0 to 1 range"
   ]
  },
  {
   "cell_type": "code",
   "execution_count": 11,
   "id": "ee4c2166",
   "metadata": {
    "execution": {
     "iopub.execute_input": "2022-07-17T00:42:08.531074Z",
     "iopub.status.busy": "2022-07-17T00:42:08.530499Z",
     "iopub.status.idle": "2022-07-17T00:42:08.573336Z",
     "shell.execute_reply": "2022-07-17T00:42:08.572761Z"
    },
    "papermill": {
     "duration": 0.075447,
     "end_time": "2022-07-17T00:42:08.573470",
     "exception": false,
     "start_time": "2022-07-17T00:42:08.498023",
     "status": "completed"
    },
    "tags": []
   },
   "outputs": [],
   "source": [
    "X_train = X_train/255.\n",
    "X_test = X_test/255."
   ]
  },
  {
   "cell_type": "markdown",
   "id": "ddcf4fab",
   "metadata": {
    "papermill": {
     "duration": 0.02651,
     "end_time": "2022-07-17T00:42:08.627229",
     "exception": false,
     "start_time": "2022-07-17T00:42:08.600719",
     "status": "completed"
    },
    "tags": []
   },
   "source": [
    "And setup the labels as 1 (when the digit is 3) and 0 (when the digit is 8)"
   ]
  },
  {
   "cell_type": "code",
   "execution_count": 12,
   "id": "7dc908f2",
   "metadata": {
    "execution": {
     "iopub.execute_input": "2022-07-17T00:42:08.687294Z",
     "iopub.status.busy": "2022-07-17T00:42:08.686701Z",
     "iopub.status.idle": "2022-07-17T00:42:08.697129Z",
     "shell.execute_reply": "2022-07-17T00:42:08.696654Z"
    },
    "papermill": {
     "duration": 0.043542,
     "end_time": "2022-07-17T00:42:08.697238",
     "exception": false,
     "start_time": "2022-07-17T00:42:08.653696",
     "status": "completed"
    },
    "tags": []
   },
   "outputs": [],
   "source": [
    "y_train = 1*(y_train==3)\n",
    "y_test = 1*(y_test==3)"
   ]
  },
  {
   "cell_type": "code",
   "execution_count": 13,
   "id": "01e4e969",
   "metadata": {
    "execution": {
     "iopub.execute_input": "2022-07-17T00:42:08.753739Z",
     "iopub.status.busy": "2022-07-17T00:42:08.753138Z",
     "iopub.status.idle": "2022-07-17T00:42:08.767105Z",
     "shell.execute_reply": "2022-07-17T00:42:08.766630Z"
    },
    "papermill": {
     "duration": 0.043464,
     "end_time": "2022-07-17T00:42:08.767211",
     "exception": false,
     "start_time": "2022-07-17T00:42:08.723747",
     "status": "completed"
    },
    "tags": []
   },
   "outputs": [
    {
     "data": {
      "text/plain": [
       "((11982, 28, 28), (1984, 28, 28))"
      ]
     },
     "execution_count": 13,
     "metadata": {},
     "output_type": "execute_result"
    }
   ],
   "source": [
    "X_train.shape, X_test.shape"
   ]
  },
  {
   "cell_type": "markdown",
   "id": "5ccf3f85",
   "metadata": {
    "papermill": {
     "duration": 0.026808,
     "end_time": "2022-07-17T00:42:08.820705",
     "exception": false,
     "start_time": "2022-07-17T00:42:08.793897",
     "status": "completed"
    },
    "tags": []
   },
   "source": [
    "We reshape the data to flatten the image pixels into a set of features or co-variates:"
   ]
  },
  {
   "cell_type": "code",
   "execution_count": 14,
   "id": "5286a4a3",
   "metadata": {
    "execution": {
     "iopub.execute_input": "2022-07-17T00:42:08.878688Z",
     "iopub.status.busy": "2022-07-17T00:42:08.878101Z",
     "iopub.status.idle": "2022-07-17T00:42:08.892069Z",
     "shell.execute_reply": "2022-07-17T00:42:08.891597Z"
    },
    "papermill": {
     "duration": 0.04443,
     "end_time": "2022-07-17T00:42:08.892177",
     "exception": false,
     "start_time": "2022-07-17T00:42:08.847747",
     "status": "completed"
    },
    "tags": []
   },
   "outputs": [
    {
     "data": {
      "text/plain": [
       "((11982, 784), (1984, 784))"
      ]
     },
     "execution_count": 14,
     "metadata": {},
     "output_type": "execute_result"
    }
   ],
   "source": [
    "X_train = X_train.reshape(X_train.shape[0], -1)\n",
    "X_test = X_test.reshape(X_test.shape[0], -1)\n",
    "X_train.shape, X_test.shape"
   ]
  },
  {
   "cell_type": "code",
   "execution_count": 15,
   "id": "73c5f88a",
   "metadata": {
    "execution": {
     "iopub.execute_input": "2022-07-17T00:42:08.950501Z",
     "iopub.status.busy": "2022-07-17T00:42:08.949905Z",
     "iopub.status.idle": "2022-07-17T00:42:08.968522Z",
     "shell.execute_reply": "2022-07-17T00:42:08.967948Z"
    },
    "papermill": {
     "duration": 0.049521,
     "end_time": "2022-07-17T00:42:08.968637",
     "exception": false,
     "start_time": "2022-07-17T00:42:08.919116",
     "status": "completed"
    },
    "tags": []
   },
   "outputs": [],
   "source": [
    "#Impoting functions from 'Kudzu'\n",
    "from kudzu.model import Model\n",
    "from kudzu.train import Learner\n",
    "from kudzu.optim import GD\n",
    "from kudzu.data import Data, Sampler,Dataloader\n",
    "\n",
    "from kudzu.callbacks import AccCallback\n",
    "from kudzu.callbacks import ClfCallback\n",
    "\n",
    "from kudzu.loss import MSE\n",
    "\n",
    "from kudzu.layer import Sigmoid,Relu\n",
    "from kudzu.layer import Affine"
   ]
  },
  {
   "cell_type": "markdown",
   "id": "bc01172a",
   "metadata": {
    "papermill": {
     "duration": 0.026952,
     "end_time": "2022-07-17T00:42:09.022736",
     "exception": false,
     "start_time": "2022-07-17T00:42:08.995784",
     "status": "completed"
    },
    "tags": []
   },
   "source": [
    "### Let us create a `Config` class, to store important parameters. \n",
    "This class essentially plays the role of a dictionary."
   ]
  },
  {
   "cell_type": "code",
   "execution_count": 16,
   "id": "978281aa",
   "metadata": {
    "execution": {
     "iopub.execute_input": "2022-07-17T00:42:09.080918Z",
     "iopub.status.busy": "2022-07-17T00:42:09.080333Z",
     "iopub.status.idle": "2022-07-17T00:42:09.092992Z",
     "shell.execute_reply": "2022-07-17T00:42:09.092523Z"
    },
    "papermill": {
     "duration": 0.04342,
     "end_time": "2022-07-17T00:42:09.093101",
     "exception": false,
     "start_time": "2022-07-17T00:42:09.049681",
     "status": "completed"
    },
    "tags": []
   },
   "outputs": [],
   "source": [
    "class Config:\n",
    "    pass\n",
    "config = Config()\n",
    "config.lr = 0.001\n",
    "config.num_epochs = 250\n",
    "config.bs = 50"
   ]
  },
  {
   "cell_type": "markdown",
   "id": "1385fa59",
   "metadata": {
    "papermill": {
     "duration": 0.026924,
     "end_time": "2022-07-17T00:42:09.147100",
     "exception": false,
     "start_time": "2022-07-17T00:42:09.120176",
     "status": "completed"
    },
    "tags": []
   },
   "source": [
    "### Running Models with the Training data\n",
    "Details about the network layers:\n",
    "- A first affine layer has 784 inputs and does 100 affine transforms. These are followed by a Relu\n",
    "- A second affine layer has 100 inputs from the 100 activations of the past layer, and does 100 affine transforms. These are followed by a Relu\n",
    "- A third affine layer has 100 activations and does 2 affine transformations to create an embedding for visualization. There is no non-linearity here.\n",
    "- A final \"logistic regression\" which has an affine transform from 2 inputs to 1 output, which is squeezed through a sigmoid.\n"
   ]
  },
  {
   "cell_type": "code",
   "execution_count": 17,
   "id": "2b9c66db",
   "metadata": {
    "execution": {
     "iopub.execute_input": "2022-07-17T00:42:09.219190Z",
     "iopub.status.busy": "2022-07-17T00:42:09.214921Z",
     "iopub.status.idle": "2022-07-17T00:42:09.221706Z",
     "shell.execute_reply": "2022-07-17T00:42:09.221116Z"
    },
    "papermill": {
     "duration": 0.047617,
     "end_time": "2022-07-17T00:42:09.221824",
     "exception": false,
     "start_time": "2022-07-17T00:42:09.174207",
     "status": "completed"
    },
    "tags": []
   },
   "outputs": [],
   "source": [
    "data = Data(X_train, y_train.reshape(-1,1))\n",
    "sampler = Sampler(data, config.bs, shuffle=True)\n",
    "\n",
    "dl = Dataloader(data, sampler)\n",
    "\n",
    "opt = GD(config.lr)\n",
    "loss = MSE()"
   ]
  },
  {
   "cell_type": "code",
   "execution_count": 18,
   "id": "b275e4c2",
   "metadata": {
    "execution": {
     "iopub.execute_input": "2022-07-17T00:42:09.282468Z",
     "iopub.status.busy": "2022-07-17T00:42:09.279033Z",
     "iopub.status.idle": "2022-07-17T00:42:09.292694Z",
     "shell.execute_reply": "2022-07-17T00:42:09.293138Z"
    },
    "papermill": {
     "duration": 0.044391,
     "end_time": "2022-07-17T00:42:09.293265",
     "exception": false,
     "start_time": "2022-07-17T00:42:09.248874",
     "status": "completed"
    },
    "tags": []
   },
   "outputs": [],
   "source": [
    "training_data_x = X_train\n",
    "testing_data_x = X_test\n",
    "training_data_y = y_train.reshape(-1,1)\n",
    "testing_data_y = y_test.reshape(-1,1)"
   ]
  },
  {
   "cell_type": "code",
   "execution_count": 19,
   "id": "76951160",
   "metadata": {
    "execution": {
     "iopub.execute_input": "2022-07-17T00:42:09.362714Z",
     "iopub.status.busy": "2022-07-17T00:42:09.353771Z",
     "iopub.status.idle": "2022-07-17T00:42:09.369092Z",
     "shell.execute_reply": "2022-07-17T00:42:09.369539Z"
    },
    "papermill": {
     "duration": 0.049546,
     "end_time": "2022-07-17T00:42:09.369701",
     "exception": false,
     "start_time": "2022-07-17T00:42:09.320155",
     "status": "completed"
    },
    "tags": []
   },
   "outputs": [
    {
     "name": "stdout",
     "output_type": "stream",
     "text": [
      "xavier\n",
      "xavier\n",
      "xavier\n",
      "xavier\n",
      "xavier\n"
     ]
    }
   ],
   "source": [
    "layers = [Affine(\"first\", 784, 100), Relu(\"first\"), Affine(\"second\", 100, 100), Relu(\"second\"), Affine(\"third\", 100, 2), Affine(\"last\", 2, 1), Sigmoid(\"last\")]\n",
    "model_nn = Model(layers)\n",
    "model_lr = Model([Affine(\"logits\", 784, 1), Sigmoid(\"sigmoid\")])"
   ]
  },
  {
   "cell_type": "code",
   "execution_count": 20,
   "id": "6eede77a",
   "metadata": {
    "execution": {
     "iopub.execute_input": "2022-07-17T00:42:09.439283Z",
     "iopub.status.busy": "2022-07-17T00:42:09.431724Z",
     "iopub.status.idle": "2022-07-17T00:42:09.441802Z",
     "shell.execute_reply": "2022-07-17T00:42:09.441211Z"
    },
    "papermill": {
     "duration": 0.04471,
     "end_time": "2022-07-17T00:42:09.441916",
     "exception": false,
     "start_time": "2022-07-17T00:42:09.397206",
     "status": "completed"
    },
    "tags": []
   },
   "outputs": [],
   "source": [
    "nn_learner = Learner(loss, model_nn, opt, config.num_epochs)\n",
    "acc_nn = ClfCallback(nn_learner, config.bs, training_data_x , testing_data_x, training_data_y, testing_data_y)\n",
    "nn_learner.set_callbacks([acc_nn])"
   ]
  },
  {
   "cell_type": "code",
   "execution_count": 21,
   "id": "877b6cc7",
   "metadata": {
    "execution": {
     "iopub.execute_input": "2022-07-17T00:42:09.510403Z",
     "iopub.status.busy": "2022-07-17T00:42:09.499335Z",
     "iopub.status.idle": "2022-07-17T00:42:09.514405Z",
     "shell.execute_reply": "2022-07-17T00:42:09.514851Z"
    },
    "papermill": {
     "duration": 0.045998,
     "end_time": "2022-07-17T00:42:09.514972",
     "exception": false,
     "start_time": "2022-07-17T00:42:09.468974",
     "status": "completed"
    },
    "tags": []
   },
   "outputs": [],
   "source": [
    "lr_learner = Learner(loss, model_lr, opt, config.num_epochs)\n",
    "acc_lr = ClfCallback(lr_learner, config.bs, training_data_x , testing_data_x, training_data_y, testing_data_y)\n",
    "lr_learner.set_callbacks([acc_lr])"
   ]
  },
  {
   "cell_type": "code",
   "execution_count": 22,
   "id": "d9b133c3",
   "metadata": {
    "execution": {
     "iopub.execute_input": "2022-07-17T00:42:09.581556Z",
     "iopub.status.busy": "2022-07-17T00:42:09.571817Z",
     "iopub.status.idle": "2022-07-17T00:43:22.591164Z",
     "shell.execute_reply": "2022-07-17T00:43:22.591993Z"
    },
    "papermill": {
     "duration": 73.04997,
     "end_time": "2022-07-17T00:43:22.592138",
     "exception": false,
     "start_time": "2022-07-17T00:42:09.542168",
     "status": "completed"
    },
    "tags": []
   },
   "outputs": [
    {
     "name": "stdout",
     "output_type": "stream",
     "text": [
      "Epoch 0, Loss 0.2412\n",
      "Training Accuracy: 0.6500, Testing Accuracy: 0.6522\n",
      "\n"
     ]
    },
    {
     "name": "stdout",
     "output_type": "stream",
     "text": [
      "Epoch 10, Loss 0.1126\n",
      "Training Accuracy: 0.9078, Testing Accuracy: 0.9163\n",
      "\n"
     ]
    },
    {
     "name": "stdout",
     "output_type": "stream",
     "text": [
      "Epoch 20, Loss 0.0642\n",
      "Training Accuracy: 0.9343, Testing Accuracy: 0.9441\n",
      "\n"
     ]
    },
    {
     "name": "stdout",
     "output_type": "stream",
     "text": [
      "Epoch 30, Loss 0.0483\n",
      "Training Accuracy: 0.9464, Testing Accuracy: 0.9567\n",
      "\n"
     ]
    },
    {
     "name": "stdout",
     "output_type": "stream",
     "text": [
      "Epoch 40, Loss 0.0406\n",
      "Training Accuracy: 0.9548, Testing Accuracy: 0.9637\n",
      "\n"
     ]
    },
    {
     "name": "stdout",
     "output_type": "stream",
     "text": [
      "Epoch 50, Loss 0.0361\n",
      "Training Accuracy: 0.9588, Testing Accuracy: 0.9647\n",
      "\n"
     ]
    },
    {
     "name": "stdout",
     "output_type": "stream",
     "text": [
      "Epoch 60, Loss 0.0332\n",
      "Training Accuracy: 0.9622, Testing Accuracy: 0.9682\n",
      "\n"
     ]
    },
    {
     "name": "stdout",
     "output_type": "stream",
     "text": [
      "Epoch 70, Loss 0.0311\n",
      "Training Accuracy: 0.9653, Testing Accuracy: 0.9708\n",
      "\n"
     ]
    },
    {
     "name": "stdout",
     "output_type": "stream",
     "text": [
      "Epoch 80, Loss 0.0295\n",
      "Training Accuracy: 0.9666, Testing Accuracy: 0.9723\n",
      "\n"
     ]
    },
    {
     "name": "stdout",
     "output_type": "stream",
     "text": [
      "Epoch 90, Loss 0.0282\n",
      "Training Accuracy: 0.9685, Testing Accuracy: 0.9728\n",
      "\n"
     ]
    },
    {
     "name": "stdout",
     "output_type": "stream",
     "text": [
      "Epoch 100, Loss 0.0271\n",
      "Training Accuracy: 0.9696, Testing Accuracy: 0.9738\n",
      "\n"
     ]
    },
    {
     "name": "stdout",
     "output_type": "stream",
     "text": [
      "Epoch 110, Loss 0.0262\n",
      "Training Accuracy: 0.9702, Testing Accuracy: 0.9733\n",
      "\n"
     ]
    },
    {
     "name": "stdout",
     "output_type": "stream",
     "text": [
      "Epoch 120, Loss 0.0255\n",
      "Training Accuracy: 0.9709, Testing Accuracy: 0.9723\n",
      "\n"
     ]
    },
    {
     "name": "stdout",
     "output_type": "stream",
     "text": [
      "Epoch 130, Loss 0.0248\n",
      "Training Accuracy: 0.9719, Testing Accuracy: 0.9718\n",
      "\n"
     ]
    },
    {
     "name": "stdout",
     "output_type": "stream",
     "text": [
      "Epoch 140, Loss 0.0241\n",
      "Training Accuracy: 0.9720, Testing Accuracy: 0.9743\n",
      "\n"
     ]
    },
    {
     "name": "stdout",
     "output_type": "stream",
     "text": [
      "Epoch 150, Loss 0.0236\n",
      "Training Accuracy: 0.9725, Testing Accuracy: 0.9743\n",
      "\n"
     ]
    },
    {
     "name": "stdout",
     "output_type": "stream",
     "text": [
      "Epoch 160, Loss 0.023\n",
      "Training Accuracy: 0.9736, Testing Accuracy: 0.9743\n",
      "\n"
     ]
    },
    {
     "name": "stdout",
     "output_type": "stream",
     "text": [
      "Epoch 170, Loss 0.0225\n",
      "Training Accuracy: 0.9741, Testing Accuracy: 0.9738\n",
      "\n"
     ]
    },
    {
     "name": "stdout",
     "output_type": "stream",
     "text": [
      "Epoch 180, Loss 0.0221\n",
      "Training Accuracy: 0.9749, Testing Accuracy: 0.9738\n",
      "\n"
     ]
    },
    {
     "name": "stdout",
     "output_type": "stream",
     "text": [
      "Epoch 190, Loss 0.0217\n",
      "Training Accuracy: 0.9754, Testing Accuracy: 0.9738\n",
      "\n"
     ]
    },
    {
     "name": "stdout",
     "output_type": "stream",
     "text": [
      "Epoch 200, Loss 0.0213\n",
      "Training Accuracy: 0.9763, Testing Accuracy: 0.9738\n",
      "\n"
     ]
    },
    {
     "name": "stdout",
     "output_type": "stream",
     "text": [
      "Epoch 210, Loss 0.0209\n",
      "Training Accuracy: 0.9764, Testing Accuracy: 0.9738\n",
      "\n"
     ]
    },
    {
     "name": "stdout",
     "output_type": "stream",
     "text": [
      "Epoch 220, Loss 0.0205\n",
      "Training Accuracy: 0.9768, Testing Accuracy: 0.9743\n",
      "\n"
     ]
    },
    {
     "name": "stdout",
     "output_type": "stream",
     "text": [
      "Epoch 230, Loss 0.0201\n",
      "Training Accuracy: 0.9775, Testing Accuracy: 0.9743\n",
      "\n"
     ]
    },
    {
     "name": "stdout",
     "output_type": "stream",
     "text": [
      "Epoch 240, Loss 0.0198\n",
      "Training Accuracy: 0.9779, Testing Accuracy: 0.9743\n",
      "\n"
     ]
    },
    {
     "data": {
      "text/plain": [
       "0.0011849357915864668"
      ]
     },
     "execution_count": 22,
     "metadata": {},
     "output_type": "execute_result"
    }
   ],
   "source": [
    "nn_learner.train_loop(dl)"
   ]
  },
  {
   "cell_type": "code",
   "execution_count": 23,
   "id": "e0163366",
   "metadata": {
    "execution": {
     "iopub.execute_input": "2022-07-17T00:43:22.670980Z",
     "iopub.status.busy": "2022-07-17T00:43:22.670410Z",
     "iopub.status.idle": "2022-07-17T00:43:35.542709Z",
     "shell.execute_reply": "2022-07-17T00:43:35.543541Z"
    },
    "papermill": {
     "duration": 12.916582,
     "end_time": "2022-07-17T00:43:35.543691",
     "exception": false,
     "start_time": "2022-07-17T00:43:22.627109",
     "status": "completed"
    },
    "tags": []
   },
   "outputs": [
    {
     "name": "stdout",
     "output_type": "stream",
     "text": [
      "Epoch 0, Loss 0.2042\n",
      "Training Accuracy: 0.8024, Testing Accuracy: 0.7939\n",
      "\n"
     ]
    },
    {
     "name": "stdout",
     "output_type": "stream",
     "text": [
      "Epoch 10, Loss 0.0993\n",
      "Training Accuracy: 0.9097, Testing Accuracy: 0.9224\n",
      "\n"
     ]
    },
    {
     "name": "stdout",
     "output_type": "stream",
     "text": [
      "Epoch 20, Loss 0.0777\n",
      "Training Accuracy: 0.9286, Testing Accuracy: 0.9410\n",
      "\n"
     ]
    },
    {
     "name": "stdout",
     "output_type": "stream",
     "text": [
      "Epoch 30, Loss 0.0672\n",
      "Training Accuracy: 0.9362, Testing Accuracy: 0.9486\n",
      "\n"
     ]
    },
    {
     "name": "stdout",
     "output_type": "stream",
     "text": [
      "Epoch 40, Loss 0.0608\n",
      "Training Accuracy: 0.9412, Testing Accuracy: 0.9521\n",
      "\n"
     ]
    },
    {
     "name": "stdout",
     "output_type": "stream",
     "text": [
      "Epoch 50, Loss 0.0564\n",
      "Training Accuracy: 0.9443, Testing Accuracy: 0.9551\n",
      "\n"
     ]
    },
    {
     "name": "stdout",
     "output_type": "stream",
     "text": [
      "Epoch 60, Loss 0.0531\n",
      "Training Accuracy: 0.9473, Testing Accuracy: 0.9582\n",
      "\n"
     ]
    },
    {
     "name": "stdout",
     "output_type": "stream",
     "text": [
      "Epoch 70, Loss 0.0506\n",
      "Training Accuracy: 0.9496, Testing Accuracy: 0.9617\n",
      "\n"
     ]
    },
    {
     "name": "stdout",
     "output_type": "stream",
     "text": [
      "Epoch 80, Loss 0.0486\n",
      "Training Accuracy: 0.9513, Testing Accuracy: 0.9622\n",
      "\n"
     ]
    },
    {
     "name": "stdout",
     "output_type": "stream",
     "text": [
      "Epoch 90, Loss 0.0469\n",
      "Training Accuracy: 0.9526, Testing Accuracy: 0.9642\n",
      "\n"
     ]
    },
    {
     "name": "stdout",
     "output_type": "stream",
     "text": [
      "Epoch 100, Loss 0.0455\n",
      "Training Accuracy: 0.9538, Testing Accuracy: 0.9642\n",
      "\n"
     ]
    },
    {
     "name": "stdout",
     "output_type": "stream",
     "text": [
      "Epoch 110, Loss 0.0444\n",
      "Training Accuracy: 0.9551, Testing Accuracy: 0.9657\n",
      "\n"
     ]
    },
    {
     "name": "stdout",
     "output_type": "stream",
     "text": [
      "Epoch 120, Loss 0.0433\n",
      "Training Accuracy: 0.9558, Testing Accuracy: 0.9652\n",
      "\n"
     ]
    },
    {
     "name": "stdout",
     "output_type": "stream",
     "text": [
      "Epoch 130, Loss 0.0424\n",
      "Training Accuracy: 0.9563, Testing Accuracy: 0.9652\n",
      "\n"
     ]
    },
    {
     "name": "stdout",
     "output_type": "stream",
     "text": [
      "Epoch 140, Loss 0.0416\n",
      "Training Accuracy: 0.9564, Testing Accuracy: 0.9662\n",
      "\n"
     ]
    },
    {
     "name": "stdout",
     "output_type": "stream",
     "text": [
      "Epoch 150, Loss 0.0408\n",
      "Training Accuracy: 0.9574, Testing Accuracy: 0.9667\n",
      "\n"
     ]
    },
    {
     "name": "stdout",
     "output_type": "stream",
     "text": [
      "Epoch 160, Loss 0.0402\n",
      "Training Accuracy: 0.9579, Testing Accuracy: 0.9672\n",
      "\n"
     ]
    },
    {
     "name": "stdout",
     "output_type": "stream",
     "text": [
      "Epoch 170, Loss 0.0396\n",
      "Training Accuracy: 0.9582, Testing Accuracy: 0.9672\n",
      "\n"
     ]
    },
    {
     "name": "stdout",
     "output_type": "stream",
     "text": [
      "Epoch 180, Loss 0.039\n",
      "Training Accuracy: 0.9584, Testing Accuracy: 0.9667\n",
      "\n"
     ]
    },
    {
     "name": "stdout",
     "output_type": "stream",
     "text": [
      "Epoch 190, Loss 0.0385\n",
      "Training Accuracy: 0.9588, Testing Accuracy: 0.9667\n",
      "\n"
     ]
    },
    {
     "name": "stdout",
     "output_type": "stream",
     "text": [
      "Epoch 200, Loss 0.0381\n",
      "Training Accuracy: 0.9592, Testing Accuracy: 0.9667\n",
      "\n"
     ]
    },
    {
     "name": "stdout",
     "output_type": "stream",
     "text": [
      "Epoch 210, Loss 0.0376\n",
      "Training Accuracy: 0.9594, Testing Accuracy: 0.9672\n",
      "\n"
     ]
    },
    {
     "name": "stdout",
     "output_type": "stream",
     "text": [
      "Epoch 220, Loss 0.0372\n",
      "Training Accuracy: 0.9599, Testing Accuracy: 0.9672\n",
      "\n"
     ]
    },
    {
     "name": "stdout",
     "output_type": "stream",
     "text": [
      "Epoch 230, Loss 0.0369\n",
      "Training Accuracy: 0.9604, Testing Accuracy: 0.9672\n",
      "\n"
     ]
    },
    {
     "name": "stdout",
     "output_type": "stream",
     "text": [
      "Epoch 240, Loss 0.0365\n",
      "Training Accuracy: 0.9606, Testing Accuracy: 0.9677\n",
      "\n"
     ]
    },
    {
     "data": {
      "text/plain": [
       "0.016958040047826722"
      ]
     },
     "execution_count": 23,
     "metadata": {},
     "output_type": "execute_result"
    }
   ],
   "source": [
    "lr_learner.train_loop(dl)"
   ]
  },
  {
   "cell_type": "code",
   "execution_count": 24,
   "id": "ca410940",
   "metadata": {
    "execution": {
     "iopub.execute_input": "2022-07-17T00:43:35.639075Z",
     "iopub.status.busy": "2022-07-17T00:43:35.638500Z",
     "iopub.status.idle": "2022-07-17T00:43:35.861056Z",
     "shell.execute_reply": "2022-07-17T00:43:35.860501Z"
    },
    "papermill": {
     "duration": 0.276149,
     "end_time": "2022-07-17T00:43:35.861185",
     "exception": false,
     "start_time": "2022-07-17T00:43:35.585036",
     "status": "completed"
    },
    "tags": []
   },
   "outputs": [
    {
     "data": {
      "text/plain": [
       "<matplotlib.legend.Legend at 0x7fc6bbc9fbe0>"
      ]
     },
     "execution_count": 24,
     "metadata": {},
     "output_type": "execute_result"
    },
    {
     "data": {
      "image/png": "[encoded data removed]",
      "text/plain": [
       "<Figure size 1080x720 with 1 Axes>"
      ]
     },
     "metadata": {
      "needs_background": "light"
     },
     "output_type": "display_data"
    }
   ],
   "source": [
    "#comparing the results of NN and LR\n",
    "plt.figure(figsize=(15,10))\n",
    "\n",
    "# Neural Network plots\n",
    "plt.plot(acc_nn.accuracies, 'r-', label = \"Training Accuracies - NN\")\n",
    "plt.plot(acc_nn.test_accuracies, 'g-', label = \"Testing Accuracies - NN\")\n",
    "\n",
    "# Logistic Regression plots\n",
    "plt.plot(acc_lr.accuracies, 'k-', label = \"Training Accuracies - LR\")\n",
    "plt.plot(acc_lr.test_accuracies, 'b-', label = \"Testing Accuracies - LR\")\n",
    "plt.legend()"
   ]
  },
  {
   "cell_type": "markdown",
   "id": "80dfb35c",
   "metadata": {
    "papermill": {
     "duration": 0.042245,
     "end_time": "2022-07-17T00:43:35.946598",
     "exception": false,
     "start_time": "2022-07-17T00:43:35.904353",
     "status": "completed"
    },
    "tags": []
   },
   "source": [
    "#### Plotting the outputs of this layer of the NN.\n"
   ]
  },
  {
   "cell_type": "code",
   "execution_count": 25,
   "id": "45eb2ff5",
   "metadata": {
    "execution": {
     "iopub.execute_input": "2022-07-17T00:43:36.045006Z",
     "iopub.status.busy": "2022-07-17T00:43:36.044395Z",
     "iopub.status.idle": "2022-07-17T00:43:36.058189Z",
     "shell.execute_reply": "2022-07-17T00:43:36.057684Z"
    },
    "papermill": {
     "duration": 0.069653,
     "end_time": "2022-07-17T00:43:36.058308",
     "exception": false,
     "start_time": "2022-07-17T00:43:35.988655",
     "status": "completed"
    },
    "tags": []
   },
   "outputs": [],
   "source": [
    "new_model = Model(layers[:-2])\n",
    "testing_plot = new_model(testing_data_x)"
   ]
  },
  {
   "cell_type": "code",
   "execution_count": 26,
   "id": "4c0a5485",
   "metadata": {
    "execution": {
     "iopub.execute_input": "2022-07-17T00:43:36.147485Z",
     "iopub.status.busy": "2022-07-17T00:43:36.146901Z",
     "iopub.status.idle": "2022-07-17T00:43:36.344563Z",
     "shell.execute_reply": "2022-07-17T00:43:36.345144Z"
    },
    "papermill": {
     "duration": 0.244358,
     "end_time": "2022-07-17T00:43:36.345288",
     "exception": false,
     "start_time": "2022-07-17T00:43:36.100930",
     "status": "completed"
    },
    "tags": []
   },
   "outputs": [
    {
     "data": {
      "text/plain": [
       "Text(0.5, 1.0, 'Outputs')"
      ]
     },
     "execution_count": 26,
     "metadata": {},
     "output_type": "execute_result"
    },
    {
     "data": {
      "image/png": "[encoded data removed]",
      "text/plain": [
       "<Figure size 576x504 with 1 Axes>"
      ]
     },
     "metadata": {
      "needs_background": "light"
     },
     "output_type": "display_data"
    }
   ],
   "source": [
    "# Plotting the scatter plot of points and color coding by class\n",
    "plt.figure(figsize=(8,7))\n",
    "plt.scatter(testing_plot[:,0], testing_plot[:,1], alpha = 0.1, c = y_test.ravel());\n",
    "plt.title('Outputs')"
   ]
  },
  {
   "cell_type": "markdown",
   "id": "a74fcf8f",
   "metadata": {
    "papermill": {
     "duration": 0.043991,
     "end_time": "2022-07-17T00:43:36.433562",
     "exception": false,
     "start_time": "2022-07-17T00:43:36.389571",
     "status": "completed"
    },
    "tags": []
   },
   "source": [
    "Probability contours"
   ]
  },
  {
   "cell_type": "code",
   "execution_count": 27,
   "id": "d0afc8e3",
   "metadata": {
    "execution": {
     "iopub.execute_input": "2022-07-17T00:43:36.551676Z",
     "iopub.status.busy": "2022-07-17T00:43:36.551092Z",
     "iopub.status.idle": "2022-07-17T00:43:36.563749Z",
     "shell.execute_reply": "2022-07-17T00:43:36.563256Z"
    },
    "papermill": {
     "duration": 0.086187,
     "end_time": "2022-07-17T00:43:36.563859",
     "exception": false,
     "start_time": "2022-07-17T00:43:36.477672",
     "status": "completed"
    },
    "tags": []
   },
   "outputs": [],
   "source": [
    "model_prob = Model(layers[-2:]) "
   ]
  },
  {
   "cell_type": "code",
   "execution_count": 28,
   "id": "9b96e238",
   "metadata": {
    "execution": {
     "iopub.execute_input": "2022-07-17T00:43:36.659165Z",
     "iopub.status.busy": "2022-07-17T00:43:36.657243Z",
     "iopub.status.idle": "2022-07-17T00:43:36.670356Z",
     "shell.execute_reply": "2022-07-17T00:43:36.670779Z"
    },
    "papermill": {
     "duration": 0.062919,
     "end_time": "2022-07-17T00:43:36.670901",
     "exception": false,
     "start_time": "2022-07-17T00:43:36.607982",
     "status": "completed"
    },
    "tags": []
   },
   "outputs": [],
   "source": [
    "#creating the x and y ranges according to the above generated plot.\n",
    "x_range = np.linspace(-4, 1, 100) \n",
    "y_range = np.linspace(-6, 6, 100) \n",
    "x_grid, y_grid = np.meshgrid(x_range, y_range) # x_grid and y_grig are of size 100 X 100\n",
    "\n",
    "# converting x_grid and y_grid to continuous arrays\n",
    "x_gridflat = np.ravel(x_grid)\n",
    "y_gridflat = np.ravel(y_grid)\n",
    "\n",
    "# The last layer of the current model takes two columns as input. Hence transpose of np.vstack() is required.\n",
    "X = np.vstack((x_gridflat, y_gridflat)).T\n",
    "\n",
    "prob_contour = model_prob(X).reshape(100,100) "
   ]
  },
  {
   "cell_type": "code",
   "execution_count": 29,
   "id": "da72499a",
   "metadata": {
    "execution": {
     "iopub.execute_input": "2022-07-17T00:43:36.767184Z",
     "iopub.status.busy": "2022-07-17T00:43:36.766617Z",
     "iopub.status.idle": "2022-07-17T00:43:37.013126Z",
     "shell.execute_reply": "2022-07-17T00:43:37.012662Z"
    },
    "papermill": {
     "duration": 0.297947,
     "end_time": "2022-07-17T00:43:37.013248",
     "exception": false,
     "start_time": "2022-07-17T00:43:36.715301",
     "status": "completed"
    },
    "tags": []
   },
   "outputs": [
    {
     "data": {
      "image/png": "[encoded data removed]",
      "text/plain": [
       "<Figure size 720x648 with 1 Axes>"
      ]
     },
     "metadata": {
      "needs_background": "light"
     },
     "output_type": "display_data"
    }
   ],
   "source": [
    "plt.figure(figsize=(10,9))\n",
    "plt.scatter(testing_plot[:,0], testing_plot[:,1], alpha = 0.1, c = y_test.ravel())\n",
    "contours = plt.contour(x_grid,y_grid,prob_contour)\n",
    "plt.title('Probability Contours')\n",
    "plt.clabel(contours, inline = True );"
   ]
  },
  {
   "cell_type": "code",
   "execution_count": null,
   "id": "e81b4ac7",
   "metadata": {
    "papermill": {
     "duration": 0.046893,
     "end_time": "2022-07-17T00:43:37.107882",
     "exception": false,
     "start_time": "2022-07-17T00:43:37.060989",
     "status": "completed"
    },
    "tags": []
   },
   "outputs": [],
   "source": []
  }
 ],
 "metadata": {
  "kernelspec": {
   "display_name": "Python 3",
   "language": "python",
   "name": "python3"
  },
  "language_info": {
   "codemirror_mode": {
    "name": "ipython",
    "version": 3
   },
   "file_extension": ".py",
   "mimetype": "text/x-python",
   "name": "python",
   "nbconvert_exporter": "python",
   "pygments_lexer": "ipython3",
   "version": "3.6.15"
  },
  "papermill": {
   "default_parameters": {},
   "duration": 94.577105,
   "end_time": "2022-07-17T00:43:37.474086",
   "environment_variables": {},
   "exception": null,
   "input_path": "2020-08-11-part2.ipynb",
   "output_path": "2020-08-11-part2.ipynb",
   "parameters": {},
   "start_time": "2022-07-17T00:42:02.896981",
   "version": "2.3.3"
  }
 },
 "nbformat": 4,
 "nbformat_minor": 5
}