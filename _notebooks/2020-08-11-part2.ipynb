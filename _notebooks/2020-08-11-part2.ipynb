{
 "cells": [
  {
   "cell_type": "markdown",
   "id": "98380cd3",
   "metadata": {
    "papermill": {
     "duration": 0.028933,
     "end_time": "2022-09-11T20:10:16.943470",
     "exception": false,
     "start_time": "2022-09-11T20:10:16.914537",
     "status": "completed"
    },
    "tags": []
   },
   "source": [
    "# Distinguish Your Own Digits (DYOD)"
   ]
  },
  {
   "cell_type": "markdown",
   "id": "ef31240d",
   "metadata": {
    "papermill": {
     "duration": 0.024113,
     "end_time": "2022-09-11T20:10:16.992425",
     "exception": false,
     "start_time": "2022-09-11T20:10:16.968312",
     "status": "completed"
    },
    "tags": []
   },
   "source": [
    "You are going to write a classifier that distinguishes between the number 3 and number 8."
   ]
  },
  {
   "cell_type": "code",
   "execution_count": 1,
   "id": "b15c8646",
   "metadata": {
    "execution": {
     "iopub.execute_input": "2022-09-11T20:10:17.050394Z",
     "iopub.status.busy": "2022-09-11T20:10:17.049830Z",
     "iopub.status.idle": "2022-09-11T20:10:17.060520Z",
     "shell.execute_reply": "2022-09-11T20:10:17.059958Z"
    },
    "papermill": {
     "duration": 0.044213,
     "end_time": "2022-09-11T20:10:17.060628",
     "exception": false,
     "start_time": "2022-09-11T20:10:17.016415",
     "status": "completed"
    },
    "tags": []
   },
   "outputs": [],
   "source": [
    "%load_ext autoreload\n",
    "%autoreload 2"
   ]
  },
  {
   "cell_type": "code",
   "execution_count": 2,
   "id": "22ef38dc",
   "metadata": {
    "execution": {
     "iopub.execute_input": "2022-09-11T20:10:17.112597Z",
     "iopub.status.busy": "2022-09-11T20:10:17.112004Z",
     "iopub.status.idle": "2022-09-11T20:10:17.611739Z",
     "shell.execute_reply": "2022-09-11T20:10:17.611258Z"
    },
    "papermill": {
     "duration": 0.52708,
     "end_time": "2022-09-11T20:10:17.611858",
     "exception": false,
     "start_time": "2022-09-11T20:10:17.084778",
     "status": "completed"
    },
    "tags": []
   },
   "outputs": [],
   "source": [
    "%matplotlib inline\n",
    "import numpy as np\n",
    "import matplotlib.pyplot as plt\n",
    "import pandas as pd"
   ]
  },
  {
   "cell_type": "markdown",
   "id": "ba036198",
   "metadata": {
    "papermill": {
     "duration": 0.024145,
     "end_time": "2022-09-11T20:10:17.660310",
     "exception": false,
     "start_time": "2022-09-11T20:10:17.636165",
     "status": "completed"
    },
    "tags": []
   },
   "source": [
    "From the command line run `pip install mnist`. This is a library that will help you bring down the mnist dataset. If you run this from a notebook, you need to put  `!pip install mnist` in a cell by itself."
   ]
  },
  {
   "cell_type": "code",
   "execution_count": 3,
   "id": "bb6ad8a1",
   "metadata": {
    "execution": {
     "iopub.execute_input": "2022-09-11T20:10:17.712638Z",
     "iopub.status.busy": "2022-09-11T20:10:17.712041Z",
     "iopub.status.idle": "2022-09-11T20:10:19.305895Z",
     "shell.execute_reply": "2022-09-11T20:10:19.304610Z"
    },
    "papermill": {
     "duration": 1.621447,
     "end_time": "2022-09-11T20:10:19.306016",
     "exception": false,
     "start_time": "2022-09-11T20:10:17.684569",
     "status": "completed"
    },
    "tags": []
   },
   "outputs": [
    {
     "name": "stdout",
     "output_type": "stream",
     "text": [
      "Collecting mnist\r\n"
     ]
    },
    {
     "name": "stdout",
     "output_type": "stream",
     "text": [
      "  Downloading mnist-0.2.2-py2.py3-none-any.whl (3.5 kB)\r\n",
      "Requirement already satisfied: numpy in /opt/hostedtoolcache/Python/3.6.15/x64/lib/python3.6/site-packages (from mnist) (1.19.5)\r\n"
     ]
    },
    {
     "name": "stdout",
     "output_type": "stream",
     "text": [
      "Installing collected packages: mnist\r\n"
     ]
    },
    {
     "name": "stdout",
     "output_type": "stream",
     "text": [
      "Successfully installed mnist-0.2.2\r\n"
     ]
    }
   ],
   "source": [
    "!pip install mnist"
   ]
  },
  {
   "cell_type": "markdown",
   "id": "69df9c9a",
   "metadata": {
    "papermill": {
     "duration": 0.02559,
     "end_time": "2022-09-11T20:10:19.357181",
     "exception": false,
     "start_time": "2022-09-11T20:10:19.331591",
     "status": "completed"
    },
    "tags": []
   },
   "source": [
    "## Preparing the Data"
   ]
  },
  {
   "cell_type": "code",
   "execution_count": 4,
   "id": "7f69d806",
   "metadata": {
    "execution": {
     "iopub.execute_input": "2022-09-11T20:10:19.411724Z",
     "iopub.status.busy": "2022-09-11T20:10:19.411155Z",
     "iopub.status.idle": "2022-09-11T20:10:19.424674Z",
     "shell.execute_reply": "2022-09-11T20:10:19.425094Z"
    },
    "papermill": {
     "duration": 0.042755,
     "end_time": "2022-09-11T20:10:19.425206",
     "exception": false,
     "start_time": "2022-09-11T20:10:19.382451",
     "status": "completed"
    },
    "tags": []
   },
   "outputs": [],
   "source": [
    "import mnist"
   ]
  },
  {
   "cell_type": "code",
   "execution_count": 5,
   "id": "a411e44f",
   "metadata": {
    "execution": {
     "iopub.execute_input": "2022-09-11T20:10:19.479169Z",
     "iopub.status.busy": "2022-09-11T20:10:19.478614Z",
     "iopub.status.idle": "2022-09-11T20:10:20.091919Z",
     "shell.execute_reply": "2022-09-11T20:10:20.091426Z"
    },
    "papermill": {
     "duration": 0.641414,
     "end_time": "2022-09-11T20:10:20.092029",
     "exception": false,
     "start_time": "2022-09-11T20:10:19.450615",
     "status": "completed"
    },
    "tags": []
   },
   "outputs": [],
   "source": [
    "train_images = mnist.train_images()\n",
    "train_labels = mnist.train_labels()"
   ]
  },
  {
   "cell_type": "code",
   "execution_count": 6,
   "id": "dceab3a5",
   "metadata": {
    "execution": {
     "iopub.execute_input": "2022-09-11T20:10:20.146862Z",
     "iopub.status.busy": "2022-09-11T20:10:20.146301Z",
     "iopub.status.idle": "2022-09-11T20:10:20.160650Z",
     "shell.execute_reply": "2022-09-11T20:10:20.160086Z"
    },
    "papermill": {
     "duration": 0.042958,
     "end_time": "2022-09-11T20:10:20.160752",
     "exception": false,
     "start_time": "2022-09-11T20:10:20.117794",
     "status": "completed"
    },
    "tags": []
   },
   "outputs": [
    {
     "data": {
      "text/plain": [
       "((60000, 28, 28), (60000,))"
      ]
     },
     "execution_count": 6,
     "metadata": {},
     "output_type": "execute_result"
    }
   ],
   "source": [
    "train_images.shape, train_labels.shape"
   ]
  },
  {
   "cell_type": "code",
   "execution_count": 7,
   "id": "f50dc2bb",
   "metadata": {
    "execution": {
     "iopub.execute_input": "2022-09-11T20:10:20.215476Z",
     "iopub.status.busy": "2022-09-11T20:10:20.214928Z",
     "iopub.status.idle": "2022-09-11T20:10:20.460289Z",
     "shell.execute_reply": "2022-09-11T20:10:20.459677Z"
    },
    "papermill": {
     "duration": 0.273891,
     "end_time": "2022-09-11T20:10:20.460405",
     "exception": false,
     "start_time": "2022-09-11T20:10:20.186514",
     "status": "completed"
    },
    "tags": []
   },
   "outputs": [],
   "source": [
    "test_images = mnist.test_images()\n",
    "test_labels = mnist.test_labels()"
   ]
  },
  {
   "cell_type": "code",
   "execution_count": 8,
   "id": "fc38cf1b",
   "metadata": {
    "execution": {
     "iopub.execute_input": "2022-09-11T20:10:20.515466Z",
     "iopub.status.busy": "2022-09-11T20:10:20.514908Z",
     "iopub.status.idle": "2022-09-11T20:10:20.527785Z",
     "shell.execute_reply": "2022-09-11T20:10:20.527341Z"
    },
    "papermill": {
     "duration": 0.04158,
     "end_time": "2022-09-11T20:10:20.527885",
     "exception": false,
     "start_time": "2022-09-11T20:10:20.486305",
     "status": "completed"
    },
    "tags": []
   },
   "outputs": [
    {
     "data": {
      "text/plain": [
       "((10000, 28, 28), (10000,))"
      ]
     },
     "execution_count": 8,
     "metadata": {},
     "output_type": "execute_result"
    }
   ],
   "source": [
    "test_images.shape, test_labels.shape"
   ]
  },
  {
   "cell_type": "code",
   "execution_count": 9,
   "id": "f9ed8fe0",
   "metadata": {
    "execution": {
     "iopub.execute_input": "2022-09-11T20:10:20.583611Z",
     "iopub.status.busy": "2022-09-11T20:10:20.583050Z",
     "iopub.status.idle": "2022-09-11T20:10:20.716475Z",
     "shell.execute_reply": "2022-09-11T20:10:20.716923Z"
    },
    "papermill": {
     "duration": 0.163402,
     "end_time": "2022-09-11T20:10:20.717049",
     "exception": false,
     "start_time": "2022-09-11T20:10:20.553647",
     "status": "completed"
    },
    "tags": []
   },
   "outputs": [
    {
     "name": "stdout",
     "output_type": "stream",
     "text": [
      "2\n"
     ]
    },
    {
     "data": {
      "text/plain": [
       "<matplotlib.image.AxesImage at 0x7f9d5427bc50>"
      ]
     },
     "execution_count": 9,
     "metadata": {},
     "output_type": "execute_result"
    },
    {
     "data": {
      "image/png": "[encoded data removed]",
      "text/plain": [
       "<Figure size 432x288 with 1 Axes>"
      ]
     },
     "metadata": {
      "needs_background": "light"
     },
     "output_type": "display_data"
    }
   ],
   "source": [
    "image_index = 7776 # You may select anything up to 60,000\n",
    "print(train_labels[image_index]) \n",
    "plt.imshow(train_images[image_index], cmap='Greys')"
   ]
  },
  {
   "cell_type": "markdown",
   "id": "a8d2388d",
   "metadata": {
    "papermill": {
     "duration": 0.027244,
     "end_time": "2022-09-11T20:10:20.771791",
     "exception": false,
     "start_time": "2022-09-11T20:10:20.744547",
     "status": "completed"
    },
    "tags": []
   },
   "source": [
    "## Filter data to get 3 and 8 out"
   ]
  },
  {
   "cell_type": "code",
   "execution_count": 10,
   "id": "776f7fc7",
   "metadata": {
    "execution": {
     "iopub.execute_input": "2022-09-11T20:10:20.830882Z",
     "iopub.status.busy": "2022-09-11T20:10:20.830295Z",
     "iopub.status.idle": "2022-09-11T20:10:20.848716Z",
     "shell.execute_reply": "2022-09-11T20:10:20.847967Z"
    },
    "papermill": {
     "duration": 0.049847,
     "end_time": "2022-09-11T20:10:20.848828",
     "exception": false,
     "start_time": "2022-09-11T20:10:20.798981",
     "status": "completed"
    },
    "tags": []
   },
   "outputs": [],
   "source": [
    "train_filter = np.where((train_labels == 3 ) | (train_labels == 8))\n",
    "test_filter = np.where((test_labels == 3) | (test_labels == 8))\n",
    "X_train, y_train = train_images[train_filter], train_labels[train_filter]\n",
    "X_test, y_test = test_images[test_filter], test_labels[test_filter]"
   ]
  },
  {
   "cell_type": "markdown",
   "id": "948f0b7e",
   "metadata": {
    "papermill": {
     "duration": 0.027342,
     "end_time": "2022-09-11T20:10:20.903471",
     "exception": false,
     "start_time": "2022-09-11T20:10:20.876129",
     "status": "completed"
    },
    "tags": []
   },
   "source": [
    "We normalize the pizel values in the 0 to 1 range"
   ]
  },
  {
   "cell_type": "code",
   "execution_count": 11,
   "id": "ee4c2166",
   "metadata": {
    "execution": {
     "iopub.execute_input": "2022-09-11T20:10:20.965147Z",
     "iopub.status.busy": "2022-09-11T20:10:20.961170Z",
     "iopub.status.idle": "2022-09-11T20:10:21.000062Z",
     "shell.execute_reply": "2022-09-11T20:10:20.999603Z"
    },
    "papermill": {
     "duration": 0.068796,
     "end_time": "2022-09-11T20:10:21.000186",
     "exception": false,
     "start_time": "2022-09-11T20:10:20.931390",
     "status": "completed"
    },
    "tags": []
   },
   "outputs": [],
   "source": [
    "X_train = X_train/255.\n",
    "X_test = X_test/255."
   ]
  },
  {
   "cell_type": "markdown",
   "id": "ddcf4fab",
   "metadata": {
    "papermill": {
     "duration": 0.027277,
     "end_time": "2022-09-11T20:10:21.054679",
     "exception": false,
     "start_time": "2022-09-11T20:10:21.027402",
     "status": "completed"
    },
    "tags": []
   },
   "source": [
    "And setup the labels as 1 (when the digit is 3) and 0 (when the digit is 8)"
   ]
  },
  {
   "cell_type": "code",
   "execution_count": 12,
   "id": "7dc908f2",
   "metadata": {
    "execution": {
     "iopub.execute_input": "2022-09-11T20:10:21.112239Z",
     "iopub.status.busy": "2022-09-11T20:10:21.111648Z",
     "iopub.status.idle": "2022-09-11T20:10:21.123203Z",
     "shell.execute_reply": "2022-09-11T20:10:21.122762Z"
    },
    "papermill": {
     "duration": 0.041626,
     "end_time": "2022-09-11T20:10:21.123298",
     "exception": false,
     "start_time": "2022-09-11T20:10:21.081672",
     "status": "completed"
    },
    "tags": []
   },
   "outputs": [],
   "source": [
    "y_train = 1*(y_train==3)\n",
    "y_test = 1*(y_test==3)"
   ]
  },
  {
   "cell_type": "code",
   "execution_count": 13,
   "id": "01e4e969",
   "metadata": {
    "execution": {
     "iopub.execute_input": "2022-09-11T20:10:21.180641Z",
     "iopub.status.busy": "2022-09-11T20:10:21.180050Z",
     "iopub.status.idle": "2022-09-11T20:10:21.192562Z",
     "shell.execute_reply": "2022-09-11T20:10:21.192005Z"
    },
    "papermill": {
     "duration": 0.042232,
     "end_time": "2022-09-11T20:10:21.192658",
     "exception": false,
     "start_time": "2022-09-11T20:10:21.150426",
     "status": "completed"
    },
    "tags": []
   },
   "outputs": [
    {
     "data": {
      "text/plain": [
       "((11982, 28, 28), (1984, 28, 28))"
      ]
     },
     "execution_count": 13,
     "metadata": {},
     "output_type": "execute_result"
    }
   ],
   "source": [
    "X_train.shape, X_test.shape"
   ]
  },
  {
   "cell_type": "markdown",
   "id": "5ccf3f85",
   "metadata": {
    "papermill": {
     "duration": 0.027102,
     "end_time": "2022-09-11T20:10:21.247019",
     "exception": false,
     "start_time": "2022-09-11T20:10:21.219917",
     "status": "completed"
    },
    "tags": []
   },
   "source": [
    "We reshape the data to flatten the image pixels into a set of features or co-variates:"
   ]
  },
  {
   "cell_type": "code",
   "execution_count": 14,
   "id": "5286a4a3",
   "metadata": {
    "execution": {
     "iopub.execute_input": "2022-09-11T20:10:21.305695Z",
     "iopub.status.busy": "2022-09-11T20:10:21.305148Z",
     "iopub.status.idle": "2022-09-11T20:10:21.318163Z",
     "shell.execute_reply": "2022-09-11T20:10:21.317715Z"
    },
    "papermill": {
     "duration": 0.043443,
     "end_time": "2022-09-11T20:10:21.318261",
     "exception": false,
     "start_time": "2022-09-11T20:10:21.274818",
     "status": "completed"
    },
    "tags": []
   },
   "outputs": [
    {
     "data": {
      "text/plain": [
       "((11982, 784), (1984, 784))"
      ]
     },
     "execution_count": 14,
     "metadata": {},
     "output_type": "execute_result"
    }
   ],
   "source": [
    "X_train = X_train.reshape(X_train.shape[0], -1)\n",
    "X_test = X_test.reshape(X_test.shape[0], -1)\n",
    "X_train.shape, X_test.shape"
   ]
  },
  {
   "cell_type": "code",
   "execution_count": 15,
   "id": "73c5f88a",
   "metadata": {
    "execution": {
     "iopub.execute_input": "2022-09-11T20:10:21.377211Z",
     "iopub.status.busy": "2022-09-11T20:10:21.376645Z",
     "iopub.status.idle": "2022-09-11T20:10:21.393433Z",
     "shell.execute_reply": "2022-09-11T20:10:21.393846Z"
    },
    "papermill": {
     "duration": 0.048215,
     "end_time": "2022-09-11T20:10:21.393954",
     "exception": false,
     "start_time": "2022-09-11T20:10:21.345739",
     "status": "completed"
    },
    "tags": []
   },
   "outputs": [],
   "source": [
    "#Impoting functions from 'Kudzu'\n",
    "from kudzu.model import Model\n",
    "from kudzu.train import Learner\n",
    "from kudzu.optim import GD\n",
    "from kudzu.data import Data, Sampler,Dataloader\n",
    "\n",
    "from kudzu.callbacks import AccCallback\n",
    "from kudzu.callbacks import ClfCallback\n",
    "\n",
    "from kudzu.loss import MSE\n",
    "\n",
    "from kudzu.layer import Sigmoid,Relu\n",
    "from kudzu.layer import Affine"
   ]
  },
  {
   "cell_type": "markdown",
   "id": "bc01172a",
   "metadata": {
    "papermill": {
     "duration": 0.027426,
     "end_time": "2022-09-11T20:10:21.449096",
     "exception": false,
     "start_time": "2022-09-11T20:10:21.421670",
     "status": "completed"
    },
    "tags": []
   },
   "source": [
    "### Let us create a `Config` class, to store important parameters. \n",
    "This class essentially plays the role of a dictionary."
   ]
  },
  {
   "cell_type": "code",
   "execution_count": 16,
   "id": "978281aa",
   "metadata": {
    "execution": {
     "iopub.execute_input": "2022-09-11T20:10:21.507104Z",
     "iopub.status.busy": "2022-09-11T20:10:21.506552Z",
     "iopub.status.idle": "2022-09-11T20:10:21.517662Z",
     "shell.execute_reply": "2022-09-11T20:10:21.518079Z"
    },
    "papermill": {
     "duration": 0.041806,
     "end_time": "2022-09-11T20:10:21.518187",
     "exception": false,
     "start_time": "2022-09-11T20:10:21.476381",
     "status": "completed"
    },
    "tags": []
   },
   "outputs": [],
   "source": [
    "class Config:\n",
    "    pass\n",
    "config = Config()\n",
    "config.lr = 0.001\n",
    "config.num_epochs = 250\n",
    "config.bs = 50"
   ]
  },
  {
   "cell_type": "markdown",
   "id": "1385fa59",
   "metadata": {
    "papermill": {
     "duration": 0.027322,
     "end_time": "2022-09-11T20:10:21.572989",
     "exception": false,
     "start_time": "2022-09-11T20:10:21.545667",
     "status": "completed"
    },
    "tags": []
   },
   "source": [
    "### Running Models with the Training data\n",
    "Details about the network layers:\n",
    "- A first affine layer has 784 inputs and does 100 affine transforms. These are followed by a Relu\n",
    "- A second affine layer has 100 inputs from the 100 activations of the past layer, and does 100 affine transforms. These are followed by a Relu\n",
    "- A third affine layer has 100 activations and does 2 affine transformations to create an embedding for visualization. There is no non-linearity here.\n",
    "- A final \"logistic regression\" which has an affine transform from 2 inputs to 1 output, which is squeezed through a sigmoid.\n"
   ]
  },
  {
   "cell_type": "code",
   "execution_count": 17,
   "id": "2b9c66db",
   "metadata": {
    "execution": {
     "iopub.execute_input": "2022-09-11T20:10:21.631395Z",
     "iopub.status.busy": "2022-09-11T20:10:21.630847Z",
     "iopub.status.idle": "2022-09-11T20:10:21.642485Z",
     "shell.execute_reply": "2022-09-11T20:10:21.641946Z"
    },
    "papermill": {
     "duration": 0.042198,
     "end_time": "2022-09-11T20:10:21.642581",
     "exception": false,
     "start_time": "2022-09-11T20:10:21.600383",
     "status": "completed"
    },
    "tags": []
   },
   "outputs": [],
   "source": [
    "data = Data(X_train, y_train.reshape(-1,1))\n",
    "sampler = Sampler(data, config.bs, shuffle=True)\n",
    "\n",
    "dl = Dataloader(data, sampler)\n",
    "\n",
    "opt = GD(config.lr)\n",
    "loss = MSE()"
   ]
  },
  {
   "cell_type": "code",
   "execution_count": 18,
   "id": "b275e4c2",
   "metadata": {
    "execution": {
     "iopub.execute_input": "2022-09-11T20:10:21.701107Z",
     "iopub.status.busy": "2022-09-11T20:10:21.700548Z",
     "iopub.status.idle": "2022-09-11T20:10:21.711408Z",
     "shell.execute_reply": "2022-09-11T20:10:21.711844Z"
    },
    "papermill": {
     "duration": 0.041904,
     "end_time": "2022-09-11T20:10:21.711950",
     "exception": false,
     "start_time": "2022-09-11T20:10:21.670046",
     "status": "completed"
    },
    "tags": []
   },
   "outputs": [],
   "source": [
    "training_data_x = X_train\n",
    "testing_data_x = X_test\n",
    "training_data_y = y_train.reshape(-1,1)\n",
    "testing_data_y = y_test.reshape(-1,1)"
   ]
  },
  {
   "cell_type": "code",
   "execution_count": 19,
   "id": "76951160",
   "metadata": {
    "execution": {
     "iopub.execute_input": "2022-09-11T20:10:21.774656Z",
     "iopub.status.busy": "2022-09-11T20:10:21.771471Z",
     "iopub.status.idle": "2022-09-11T20:10:21.787720Z",
     "shell.execute_reply": "2022-09-11T20:10:21.787277Z"
    },
    "papermill": {
     "duration": 0.048401,
     "end_time": "2022-09-11T20:10:21.787819",
     "exception": false,
     "start_time": "2022-09-11T20:10:21.739418",
     "status": "completed"
    },
    "tags": []
   },
   "outputs": [
    {
     "name": "stdout",
     "output_type": "stream",
     "text": [
      "xavier\n",
      "xavier\n",
      "xavier\n",
      "xavier\n",
      "xavier\n"
     ]
    }
   ],
   "source": [
    "layers = [Affine(\"first\", 784, 100), Relu(\"first\"), Affine(\"second\", 100, 100), Relu(\"second\"), Affine(\"third\", 100, 2), Affine(\"last\", 2, 1), Sigmoid(\"last\")]\n",
    "model_nn = Model(layers)\n",
    "model_lr = Model([Affine(\"logits\", 784, 1), Sigmoid(\"sigmoid\")])"
   ]
  },
  {
   "cell_type": "code",
   "execution_count": 20,
   "id": "6eede77a",
   "metadata": {
    "execution": {
     "iopub.execute_input": "2022-09-11T20:10:21.847331Z",
     "iopub.status.busy": "2022-09-11T20:10:21.846374Z",
     "iopub.status.idle": "2022-09-11T20:10:21.857104Z",
     "shell.execute_reply": "2022-09-11T20:10:21.857524Z"
    },
    "papermill": {
     "duration": 0.042059,
     "end_time": "2022-09-11T20:10:21.857634",
     "exception": false,
     "start_time": "2022-09-11T20:10:21.815575",
     "status": "completed"
    },
    "tags": []
   },
   "outputs": [],
   "source": [
    "nn_learner = Learner(loss, model_nn, opt, config.num_epochs)\n",
    "acc_nn = ClfCallback(nn_learner, config.bs, training_data_x , testing_data_x, training_data_y, testing_data_y)\n",
    "nn_learner.set_callbacks([acc_nn])"
   ]
  },
  {
   "cell_type": "code",
   "execution_count": 21,
   "id": "877b6cc7",
   "metadata": {
    "execution": {
     "iopub.execute_input": "2022-09-11T20:10:21.919423Z",
     "iopub.status.busy": "2022-09-11T20:10:21.917476Z",
     "iopub.status.idle": "2022-09-11T20:10:21.928398Z",
     "shell.execute_reply": "2022-09-11T20:10:21.928916Z"
    },
    "papermill": {
     "duration": 0.043617,
     "end_time": "2022-09-11T20:10:21.929025",
     "exception": false,
     "start_time": "2022-09-11T20:10:21.885408",
     "status": "completed"
    },
    "tags": []
   },
   "outputs": [],
   "source": [
    "lr_learner = Learner(loss, model_lr, opt, config.num_epochs)\n",
    "acc_lr = ClfCallback(lr_learner, config.bs, training_data_x , testing_data_x, training_data_y, testing_data_y)\n",
    "lr_learner.set_callbacks([acc_lr])"
   ]
  },
  {
   "cell_type": "code",
   "execution_count": 22,
   "id": "d9b133c3",
   "metadata": {
    "execution": {
     "iopub.execute_input": "2022-09-11T20:10:21.987506Z",
     "iopub.status.busy": "2022-09-11T20:10:21.986955Z",
     "iopub.status.idle": "2022-09-11T20:13:17.421967Z",
     "shell.execute_reply": "2022-09-11T20:13:17.422410Z"
    },
    "papermill": {
     "duration": 175.465751,
     "end_time": "2022-09-11T20:13:17.422534",
     "exception": false,
     "start_time": "2022-09-11T20:10:21.956783",
     "status": "completed"
    },
    "tags": []
   },
   "outputs": [
    {
     "name": "stdout",
     "output_type": "stream",
     "text": [
      "Epoch 0, Loss 0.2311\n",
      "Training Accuracy: 0.7574, Testing Accuracy: 0.7686\n",
      "\n"
     ]
    },
    {
     "name": "stdout",
     "output_type": "stream",
     "text": [
      "Epoch 10, Loss 0.0629\n",
      "Training Accuracy: 0.9372, Testing Accuracy: 0.9466\n",
      "\n"
     ]
    },
    {
     "name": "stdout",
     "output_type": "stream",
     "text": [
      "Epoch 20, Loss 0.0441\n",
      "Training Accuracy: 0.9531, Testing Accuracy: 0.9607\n",
      "\n"
     ]
    },
    {
     "name": "stdout",
     "output_type": "stream",
     "text": [
      "Epoch 30, Loss 0.0369\n",
      "Training Accuracy: 0.9601, Testing Accuracy: 0.9657\n",
      "\n"
     ]
    },
    {
     "name": "stdout",
     "output_type": "stream",
     "text": [
      "Epoch 40, Loss 0.0329\n",
      "Training Accuracy: 0.9635, Testing Accuracy: 0.9688\n",
      "\n"
     ]
    },
    {
     "name": "stdout",
     "output_type": "stream",
     "text": [
      "Epoch 50, Loss 0.0303\n",
      "Training Accuracy: 0.9663, Testing Accuracy: 0.9693\n",
      "\n"
     ]
    },
    {
     "name": "stdout",
     "output_type": "stream",
     "text": [
      "Epoch 60, Loss 0.0284\n",
      "Training Accuracy: 0.9681, Testing Accuracy: 0.9698\n",
      "\n"
     ]
    },
    {
     "name": "stdout",
     "output_type": "stream",
     "text": [
      "Epoch 70, Loss 0.0269\n",
      "Training Accuracy: 0.9695, Testing Accuracy: 0.9688\n",
      "\n"
     ]
    },
    {
     "name": "stdout",
     "output_type": "stream",
     "text": [
      "Epoch 80, Loss 0.0257\n",
      "Training Accuracy: 0.9704, Testing Accuracy: 0.9713\n",
      "\n"
     ]
    },
    {
     "name": "stdout",
     "output_type": "stream",
     "text": [
      "Epoch 90, Loss 0.0246\n",
      "Training Accuracy: 0.9720, Testing Accuracy: 0.9718\n",
      "\n"
     ]
    },
    {
     "name": "stdout",
     "output_type": "stream",
     "text": [
      "Epoch 100, Loss 0.0237\n",
      "Training Accuracy: 0.9730, Testing Accuracy: 0.9733\n",
      "\n"
     ]
    },
    {
     "name": "stdout",
     "output_type": "stream",
     "text": [
      "Epoch 110, Loss 0.0229\n",
      "Training Accuracy: 0.9745, Testing Accuracy: 0.9743\n",
      "\n"
     ]
    },
    {
     "name": "stdout",
     "output_type": "stream",
     "text": [
      "Epoch 120, Loss 0.0222\n",
      "Training Accuracy: 0.9748, Testing Accuracy: 0.9743\n",
      "\n"
     ]
    },
    {
     "name": "stdout",
     "output_type": "stream",
     "text": [
      "Epoch 130, Loss 0.0215\n",
      "Training Accuracy: 0.9759, Testing Accuracy: 0.9748\n",
      "\n"
     ]
    },
    {
     "name": "stdout",
     "output_type": "stream",
     "text": [
      "Epoch 140, Loss 0.0209\n",
      "Training Accuracy: 0.9763, Testing Accuracy: 0.9758\n",
      "\n"
     ]
    },
    {
     "name": "stdout",
     "output_type": "stream",
     "text": [
      "Epoch 150, Loss 0.0203\n",
      "Training Accuracy: 0.9772, Testing Accuracy: 0.9763\n",
      "\n"
     ]
    },
    {
     "name": "stdout",
     "output_type": "stream",
     "text": [
      "Epoch 160, Loss 0.0197\n",
      "Training Accuracy: 0.9776, Testing Accuracy: 0.9758\n",
      "\n"
     ]
    },
    {
     "name": "stdout",
     "output_type": "stream",
     "text": [
      "Epoch 170, Loss 0.0192\n",
      "Training Accuracy: 0.9782, Testing Accuracy: 0.9768\n",
      "\n"
     ]
    },
    {
     "name": "stdout",
     "output_type": "stream",
     "text": [
      "Epoch 180, Loss 0.0187\n",
      "Training Accuracy: 0.9791, Testing Accuracy: 0.9773\n",
      "\n"
     ]
    },
    {
     "name": "stdout",
     "output_type": "stream",
     "text": [
      "Epoch 190, Loss 0.0182\n",
      "Training Accuracy: 0.9794, Testing Accuracy: 0.9768\n",
      "\n"
     ]
    },
    {
     "name": "stdout",
     "output_type": "stream",
     "text": [
      "Epoch 200, Loss 0.0178\n",
      "Training Accuracy: 0.9800, Testing Accuracy: 0.9773\n",
      "\n"
     ]
    },
    {
     "name": "stdout",
     "output_type": "stream",
     "text": [
      "Epoch 210, Loss 0.0173\n",
      "Training Accuracy: 0.9809, Testing Accuracy: 0.9778\n",
      "\n"
     ]
    },
    {
     "name": "stdout",
     "output_type": "stream",
     "text": [
      "Epoch 220, Loss 0.0169\n",
      "Training Accuracy: 0.9818, Testing Accuracy: 0.9778\n",
      "\n"
     ]
    },
    {
     "name": "stdout",
     "output_type": "stream",
     "text": [
      "Epoch 230, Loss 0.0165\n",
      "Training Accuracy: 0.9823, Testing Accuracy: 0.9773\n",
      "\n"
     ]
    },
    {
     "name": "stdout",
     "output_type": "stream",
     "text": [
      "Epoch 240, Loss 0.0161\n",
      "Training Accuracy: 0.9826, Testing Accuracy: 0.9783\n",
      "\n"
     ]
    },
    {
     "data": {
      "text/plain": [
       "0.03159256128588752"
      ]
     },
     "execution_count": 22,
     "metadata": {},
     "output_type": "execute_result"
    }
   ],
   "source": [
    "nn_learner.train_loop(dl)"
   ]
  },
  {
   "cell_type": "code",
   "execution_count": 23,
   "id": "e0163366",
   "metadata": {
    "execution": {
     "iopub.execute_input": "2022-09-11T20:13:17.497361Z",
     "iopub.status.busy": "2022-09-11T20:13:17.496780Z",
     "iopub.status.idle": "2022-09-11T20:13:29.555318Z",
     "shell.execute_reply": "2022-09-11T20:13:29.554865Z"
    },
    "papermill": {
     "duration": 12.097167,
     "end_time": "2022-09-11T20:13:29.555430",
     "exception": false,
     "start_time": "2022-09-11T20:13:17.458263",
     "status": "completed"
    },
    "tags": []
   },
   "outputs": [
    {
     "name": "stdout",
     "output_type": "stream",
     "text": [
      "Epoch 0, Loss 0.1984\n",
      "Training Accuracy: 0.7813, Testing Accuracy: 0.7868\n",
      "\n"
     ]
    },
    {
     "name": "stdout",
     "output_type": "stream",
     "text": [
      "Epoch 10, Loss 0.1018\n",
      "Training Accuracy: 0.9054, Testing Accuracy: 0.9158\n",
      "\n"
     ]
    },
    {
     "name": "stdout",
     "output_type": "stream",
     "text": [
      "Epoch 20, Loss 0.0795\n",
      "Training Accuracy: 0.9253, Testing Accuracy: 0.9345\n",
      "\n"
     ]
    },
    {
     "name": "stdout",
     "output_type": "stream",
     "text": [
      "Epoch 30, Loss 0.0686\n",
      "Training Accuracy: 0.9347, Testing Accuracy: 0.9415\n",
      "\n"
     ]
    },
    {
     "name": "stdout",
     "output_type": "stream",
     "text": [
      "Epoch 40, Loss 0.062\n",
      "Training Accuracy: 0.9392, Testing Accuracy: 0.9466\n",
      "\n"
     ]
    },
    {
     "name": "stdout",
     "output_type": "stream",
     "text": [
      "Epoch 50, Loss 0.0574\n",
      "Training Accuracy: 0.9445, Testing Accuracy: 0.9546\n",
      "\n"
     ]
    },
    {
     "name": "stdout",
     "output_type": "stream",
     "text": [
      "Epoch 60, Loss 0.0541\n",
      "Training Accuracy: 0.9465, Testing Accuracy: 0.9567\n",
      "\n"
     ]
    },
    {
     "name": "stdout",
     "output_type": "stream",
     "text": [
      "Epoch 70, Loss 0.0515\n",
      "Training Accuracy: 0.9483, Testing Accuracy: 0.9587\n",
      "\n"
     ]
    },
    {
     "name": "stdout",
     "output_type": "stream",
     "text": [
      "Epoch 80, Loss 0.0495\n",
      "Training Accuracy: 0.9497, Testing Accuracy: 0.9597\n",
      "\n"
     ]
    },
    {
     "name": "stdout",
     "output_type": "stream",
     "text": [
      "Epoch 90, Loss 0.0478\n",
      "Training Accuracy: 0.9513, Testing Accuracy: 0.9622\n",
      "\n"
     ]
    },
    {
     "name": "stdout",
     "output_type": "stream",
     "text": [
      "Epoch 100, Loss 0.0463\n",
      "Training Accuracy: 0.9522, Testing Accuracy: 0.9632\n",
      "\n"
     ]
    },
    {
     "name": "stdout",
     "output_type": "stream",
     "text": [
      "Epoch 110, Loss 0.0451\n",
      "Training Accuracy: 0.9530, Testing Accuracy: 0.9637\n",
      "\n"
     ]
    },
    {
     "name": "stdout",
     "output_type": "stream",
     "text": [
      "Epoch 120, Loss 0.044\n",
      "Training Accuracy: 0.9539, Testing Accuracy: 0.9647\n",
      "\n"
     ]
    },
    {
     "name": "stdout",
     "output_type": "stream",
     "text": [
      "Epoch 130, Loss 0.0431\n",
      "Training Accuracy: 0.9549, Testing Accuracy: 0.9652\n",
      "\n"
     ]
    },
    {
     "name": "stdout",
     "output_type": "stream",
     "text": [
      "Epoch 140, Loss 0.0423\n",
      "Training Accuracy: 0.9551, Testing Accuracy: 0.9652\n",
      "\n"
     ]
    },
    {
     "name": "stdout",
     "output_type": "stream",
     "text": [
      "Epoch 150, Loss 0.0415\n",
      "Training Accuracy: 0.9558, Testing Accuracy: 0.9657\n",
      "\n"
     ]
    },
    {
     "name": "stdout",
     "output_type": "stream",
     "text": [
      "Epoch 160, Loss 0.0408\n",
      "Training Accuracy: 0.9564, Testing Accuracy: 0.9662\n",
      "\n"
     ]
    },
    {
     "name": "stdout",
     "output_type": "stream",
     "text": [
      "Epoch 170, Loss 0.0402\n",
      "Training Accuracy: 0.9571, Testing Accuracy: 0.9662\n",
      "\n"
     ]
    },
    {
     "name": "stdout",
     "output_type": "stream",
     "text": [
      "Epoch 180, Loss 0.0397\n",
      "Training Accuracy: 0.9582, Testing Accuracy: 0.9662\n",
      "\n"
     ]
    },
    {
     "name": "stdout",
     "output_type": "stream",
     "text": [
      "Epoch 190, Loss 0.0391\n",
      "Training Accuracy: 0.9590, Testing Accuracy: 0.9667\n",
      "\n"
     ]
    },
    {
     "name": "stdout",
     "output_type": "stream",
     "text": [
      "Epoch 200, Loss 0.0387\n",
      "Training Accuracy: 0.9592, Testing Accuracy: 0.9667\n",
      "\n"
     ]
    },
    {
     "name": "stdout",
     "output_type": "stream",
     "text": [
      "Epoch 210, Loss 0.0382\n",
      "Training Accuracy: 0.9597, Testing Accuracy: 0.9672\n",
      "\n"
     ]
    },
    {
     "name": "stdout",
     "output_type": "stream",
     "text": [
      "Epoch 220, Loss 0.0378\n",
      "Training Accuracy: 0.9601, Testing Accuracy: 0.9672\n",
      "\n"
     ]
    },
    {
     "name": "stdout",
     "output_type": "stream",
     "text": [
      "Epoch 230, Loss 0.0374\n",
      "Training Accuracy: 0.9604, Testing Accuracy: 0.9677\n",
      "\n"
     ]
    },
    {
     "name": "stdout",
     "output_type": "stream",
     "text": [
      "Epoch 240, Loss 0.0371\n",
      "Training Accuracy: 0.9608, Testing Accuracy: 0.9682\n",
      "\n"
     ]
    },
    {
     "data": {
      "text/plain": [
       "0.018336218732477764"
      ]
     },
     "execution_count": 23,
     "metadata": {},
     "output_type": "execute_result"
    }
   ],
   "source": [
    "lr_learner.train_loop(dl)"
   ]
  },
  {
   "cell_type": "code",
   "execution_count": 24,
   "id": "ca410940",
   "metadata": {
    "execution": {
     "iopub.execute_input": "2022-09-11T20:13:29.649297Z",
     "iopub.status.busy": "2022-09-11T20:13:29.648664Z",
     "iopub.status.idle": "2022-09-11T20:13:29.865512Z",
     "shell.execute_reply": "2022-09-11T20:13:29.865940Z"
    },
    "papermill": {
     "duration": 0.26846,
     "end_time": "2022-09-11T20:13:29.866073",
     "exception": false,
     "start_time": "2022-09-11T20:13:29.597613",
     "status": "completed"
    },
    "tags": []
   },
   "outputs": [
    {
     "data": {
      "text/plain": [
       "<matplotlib.legend.Legend at 0x7f9d53de92e8>"
      ]
     },
     "execution_count": 24,
     "metadata": {},
     "output_type": "execute_result"
    },
    {
     "data": {
      "image/png": "[encoded data removed]",
      "text/plain": [
       "<Figure size 1080x720 with 1 Axes>"
      ]
     },
     "metadata": {
      "needs_background": "light"
     },
     "output_type": "display_data"
    }
   ],
   "source": [
    "#comparing the results of NN and LR\n",
    "plt.figure(figsize=(15,10))\n",
    "\n",
    "# Neural Network plots\n",
    "plt.plot(acc_nn.accuracies, 'r-', label = \"Training Accuracies - NN\")\n",
    "plt.plot(acc_nn.test_accuracies, 'g-', label = \"Testing Accuracies - NN\")\n",
    "\n",
    "# Logistic Regression plots\n",
    "plt.plot(acc_lr.accuracies, 'k-', label = \"Training Accuracies - LR\")\n",
    "plt.plot(acc_lr.test_accuracies, 'b-', label = \"Testing Accuracies - LR\")\n",
    "plt.legend()"
   ]
  },
  {
   "cell_type": "markdown",
   "id": "80dfb35c",
   "metadata": {
    "papermill": {
     "duration": 0.043464,
     "end_time": "2022-09-11T20:13:29.952775",
     "exception": false,
     "start_time": "2022-09-11T20:13:29.909311",
     "status": "completed"
    },
    "tags": []
   },
   "source": [
    "#### Plotting the outputs of this layer of the NN.\n"
   ]
  },
  {
   "cell_type": "code",
   "execution_count": 25,
   "id": "45eb2ff5",
   "metadata": {
    "execution": {
     "iopub.execute_input": "2022-09-11T20:13:30.043194Z",
     "iopub.status.busy": "2022-09-11T20:13:30.042629Z",
     "iopub.status.idle": "2022-09-11T20:13:30.077950Z",
     "shell.execute_reply": "2022-09-11T20:13:30.078405Z"
    },
    "papermill": {
     "duration": 0.082684,
     "end_time": "2022-09-11T20:13:30.078528",
     "exception": false,
     "start_time": "2022-09-11T20:13:29.995844",
     "status": "completed"
    },
    "tags": []
   },
   "outputs": [],
   "source": [
    "new_model = Model(layers[:-2])\n",
    "testing_plot = new_model(testing_data_x)"
   ]
  },
  {
   "cell_type": "code",
   "execution_count": 26,
   "id": "4c0a5485",
   "metadata": {
    "execution": {
     "iopub.execute_input": "2022-09-11T20:13:30.169731Z",
     "iopub.status.busy": "2022-09-11T20:13:30.169175Z",
     "iopub.status.idle": "2022-09-11T20:13:30.361446Z",
     "shell.execute_reply": "2022-09-11T20:13:30.361888Z"
    },
    "papermill": {
     "duration": 0.23976,
     "end_time": "2022-09-11T20:13:30.362016",
     "exception": false,
     "start_time": "2022-09-11T20:13:30.122256",
     "status": "completed"
    },
    "tags": []
   },
   "outputs": [
    {
     "data": {
      "text/plain": [
       "Text(0.5, 1.0, 'Outputs')"
      ]
     },
     "execution_count": 26,
     "metadata": {},
     "output_type": "execute_result"
    },
    {
     "data": {
      "image/png": "[encoded data removed]",
      "text/plain": [
       "<Figure size 576x504 with 1 Axes>"
      ]
     },
     "metadata": {
      "needs_background": "light"
     },
     "output_type": "display_data"
    }
   ],
   "source": [
    "# Plotting the scatter plot of points and color coding by class\n",
    "plt.figure(figsize=(8,7))\n",
    "plt.scatter(testing_plot[:,0], testing_plot[:,1], alpha = 0.1, c = y_test.ravel());\n",
    "plt.title('Outputs')"
   ]
  },
  {
   "cell_type": "markdown",
   "id": "a74fcf8f",
   "metadata": {
    "papermill": {
     "duration": 0.045621,
     "end_time": "2022-09-11T20:13:30.474975",
     "exception": false,
     "start_time": "2022-09-11T20:13:30.429354",
     "status": "completed"
    },
    "tags": []
   },
   "source": [
    "Probability contours"
   ]
  },
  {
   "cell_type": "code",
   "execution_count": 27,
   "id": "d0afc8e3",
   "metadata": {
    "execution": {
     "iopub.execute_input": "2022-09-11T20:13:30.573391Z",
     "iopub.status.busy": "2022-09-11T20:13:30.572831Z",
     "iopub.status.idle": "2022-09-11T20:13:30.580515Z",
     "shell.execute_reply": "2022-09-11T20:13:30.580042Z"
    },
    "papermill": {
     "duration": 0.060156,
     "end_time": "2022-09-11T20:13:30.580618",
     "exception": false,
     "start_time": "2022-09-11T20:13:30.520462",
     "status": "completed"
    },
    "tags": []
   },
   "outputs": [],
   "source": [
    "model_prob = Model(layers[-2:]) "
   ]
  },
  {
   "cell_type": "code",
   "execution_count": 28,
   "id": "9b96e238",
   "metadata": {
    "execution": {
     "iopub.execute_input": "2022-09-11T20:13:30.678417Z",
     "iopub.status.busy": "2022-09-11T20:13:30.677824Z",
     "iopub.status.idle": "2022-09-11T20:13:30.692614Z",
     "shell.execute_reply": "2022-09-11T20:13:30.693343Z"
    },
    "papermill": {
     "duration": 0.067478,
     "end_time": "2022-09-11T20:13:30.693465",
     "exception": false,
     "start_time": "2022-09-11T20:13:30.625987",
     "status": "completed"
    },
    "tags": []
   },
   "outputs": [],
   "source": [
    "#creating the x and y ranges according to the above generated plot.\n",
    "x_range = np.linspace(-4, 1, 100) \n",
    "y_range = np.linspace(-6, 6, 100) \n",
    "x_grid, y_grid = np.meshgrid(x_range, y_range) # x_grid and y_grig are of size 100 X 100\n",
    "\n",
    "# converting x_grid and y_grid to continuous arrays\n",
    "x_gridflat = np.ravel(x_grid)\n",
    "y_gridflat = np.ravel(y_grid)\n",
    "\n",
    "# The last layer of the current model takes two columns as input. Hence transpose of np.vstack() is required.\n",
    "X = np.vstack((x_gridflat, y_gridflat)).T\n",
    "\n",
    "prob_contour = model_prob(X).reshape(100,100) "
   ]
  },
  {
   "cell_type": "code",
   "execution_count": 29,
   "id": "da72499a",
   "metadata": {
    "execution": {
     "iopub.execute_input": "2022-09-11T20:13:30.789304Z",
     "iopub.status.busy": "2022-09-11T20:13:30.788748Z",
     "iopub.status.idle": "2022-09-11T20:13:31.029974Z",
     "shell.execute_reply": "2022-09-11T20:13:31.029504Z"
    },
    "papermill": {
     "duration": 0.290494,
     "end_time": "2022-09-11T20:13:31.030083",
     "exception": false,
     "start_time": "2022-09-11T20:13:30.739589",
     "status": "completed"
    },
    "tags": []
   },
   "outputs": [
    {
     "data": {
      "image/png": "[encoded data removed]",
      "text/plain": [
       "<Figure size 720x648 with 1 Axes>"
      ]
     },
     "metadata": {
      "needs_background": "light"
     },
     "output_type": "display_data"
    }
   ],
   "source": [
    "plt.figure(figsize=(10,9))\n",
    "plt.scatter(testing_plot[:,0], testing_plot[:,1], alpha = 0.1, c = y_test.ravel())\n",
    "contours = plt.contour(x_grid,y_grid,prob_contour)\n",
    "plt.title('Probability Contours')\n",
    "plt.clabel(contours, inline = True );"
   ]
  },
  {
   "cell_type": "code",
   "execution_count": null,
   "id": "e81b4ac7",
   "metadata": {
    "papermill": {
     "duration": 0.047737,
     "end_time": "2022-09-11T20:13:31.126701",
     "exception": false,
     "start_time": "2022-09-11T20:13:31.078964",
     "status": "completed"
    },
    "tags": []
   },
   "outputs": [],
   "source": []
  }
 ],
 "metadata": {
  "kernelspec": {
   "display_name": "Python 3",
   "language": "python",
   "name": "python3"
  },
  "language_info": {
   "codemirror_mode": {
    "name": "ipython",
    "version": 3
   },
   "file_extension": ".py",
   "mimetype": "text/x-python",
   "name": "python",
   "nbconvert_exporter": "python",
   "pygments_lexer": "ipython3",
   "version": "3.6.15"
  },
  "papermill": {
   "default_parameters": {},
   "duration": 195.491545,
   "end_time": "2022-09-11T20:13:31.490953",
   "environment_variables": {},
   "exception": null,
   "input_path": "2020-08-11-part2.ipynb",
   "output_path": "2020-08-11-part2.ipynb",
   "parameters": {},
   "start_time": "2022-09-11T20:10:15.999408",
   "version": "2.3.3"
  }
 },
 "nbformat": 4,
 "nbformat_minor": 5
}