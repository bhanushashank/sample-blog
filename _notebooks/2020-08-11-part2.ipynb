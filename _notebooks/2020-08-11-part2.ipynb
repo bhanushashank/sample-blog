{
 "cells": [
  {
   "cell_type": "markdown",
   "id": "98380cd3",
   "metadata": {
    "papermill": {
     "duration": 0.03514,
     "end_time": "2022-07-24T20:10:54.278884",
     "exception": false,
     "start_time": "2022-07-24T20:10:54.243744",
     "status": "completed"
    },
    "tags": []
   },
   "source": [
    "# Distinguish Your Own Digits (DYOD)"
   ]
  },
  {
   "cell_type": "markdown",
   "id": "ef31240d",
   "metadata": {
    "papermill": {
     "duration": 0.030556,
     "end_time": "2022-07-24T20:10:54.339532",
     "exception": false,
     "start_time": "2022-07-24T20:10:54.308976",
     "status": "completed"
    },
    "tags": []
   },
   "source": [
    "You are going to write a classifier that distinguishes between the number 3 and number 8."
   ]
  },
  {
   "cell_type": "code",
   "execution_count": 1,
   "id": "b15c8646",
   "metadata": {
    "execution": {
     "iopub.execute_input": "2022-07-24T20:10:54.410538Z",
     "iopub.status.busy": "2022-07-24T20:10:54.409781Z",
     "iopub.status.idle": "2022-07-24T20:10:54.424458Z",
     "shell.execute_reply": "2022-07-24T20:10:54.423762Z"
    },
    "papermill": {
     "duration": 0.055103,
     "end_time": "2022-07-24T20:10:54.424617",
     "exception": false,
     "start_time": "2022-07-24T20:10:54.369514",
     "status": "completed"
    },
    "tags": []
   },
   "outputs": [],
   "source": [
    "%load_ext autoreload\n",
    "%autoreload 2"
   ]
  },
  {
   "cell_type": "code",
   "execution_count": 2,
   "id": "22ef38dc",
   "metadata": {
    "execution": {
     "iopub.execute_input": "2022-07-24T20:10:54.490905Z",
     "iopub.status.busy": "2022-07-24T20:10:54.490088Z",
     "iopub.status.idle": "2022-07-24T20:10:55.165031Z",
     "shell.execute_reply": "2022-07-24T20:10:55.165562Z"
    },
    "papermill": {
     "duration": 0.710721,
     "end_time": "2022-07-24T20:10:55.165745",
     "exception": false,
     "start_time": "2022-07-24T20:10:54.455024",
     "status": "completed"
    },
    "tags": []
   },
   "outputs": [],
   "source": [
    "%matplotlib inline\n",
    "import numpy as np\n",
    "import matplotlib.pyplot as plt\n",
    "import pandas as pd"
   ]
  },
  {
   "cell_type": "markdown",
   "id": "ba036198",
   "metadata": {
    "papermill": {
     "duration": 0.027627,
     "end_time": "2022-07-24T20:10:55.221526",
     "exception": false,
     "start_time": "2022-07-24T20:10:55.193899",
     "status": "completed"
    },
    "tags": []
   },
   "source": [
    "From the command line run `pip install mnist`. This is a library that will help you bring down the mnist dataset. If you run this from a notebook, you need to put  `!pip install mnist` in a cell by itself."
   ]
  },
  {
   "cell_type": "code",
   "execution_count": 3,
   "id": "bb6ad8a1",
   "metadata": {
    "execution": {
     "iopub.execute_input": "2022-07-24T20:10:55.286730Z",
     "iopub.status.busy": "2022-07-24T20:10:55.285776Z",
     "iopub.status.idle": "2022-07-24T20:10:57.347934Z",
     "shell.execute_reply": "2022-07-24T20:10:57.346914Z"
    },
    "papermill": {
     "duration": 2.095483,
     "end_time": "2022-07-24T20:10:57.348084",
     "exception": false,
     "start_time": "2022-07-24T20:10:55.252601",
     "status": "completed"
    },
    "tags": []
   },
   "outputs": [
    {
     "name": "stdout",
     "output_type": "stream",
     "text": [
      "Collecting mnist\r\n"
     ]
    },
    {
     "name": "stdout",
     "output_type": "stream",
     "text": [
      "  Downloading mnist-0.2.2-py2.py3-none-any.whl (3.5 kB)\r\n",
      "Requirement already satisfied: numpy in /opt/hostedtoolcache/Python/3.6.15/x64/lib/python3.6/site-packages (from mnist) (1.19.5)\r\n"
     ]
    },
    {
     "name": "stdout",
     "output_type": "stream",
     "text": [
      "Installing collected packages: mnist\r\n"
     ]
    },
    {
     "name": "stdout",
     "output_type": "stream",
     "text": [
      "Successfully installed mnist-0.2.2\r\n"
     ]
    }
   ],
   "source": [
    "!pip install mnist"
   ]
  },
  {
   "cell_type": "markdown",
   "id": "69df9c9a",
   "metadata": {
    "papermill": {
     "duration": 0.029384,
     "end_time": "2022-07-24T20:10:57.406803",
     "exception": false,
     "start_time": "2022-07-24T20:10:57.377419",
     "status": "completed"
    },
    "tags": []
   },
   "source": [
    "## Preparing the Data"
   ]
  },
  {
   "cell_type": "code",
   "execution_count": 4,
   "id": "7f69d806",
   "metadata": {
    "execution": {
     "iopub.execute_input": "2022-07-24T20:10:57.471914Z",
     "iopub.status.busy": "2022-07-24T20:10:57.471194Z",
     "iopub.status.idle": "2022-07-24T20:10:57.491701Z",
     "shell.execute_reply": "2022-07-24T20:10:57.492242Z"
    },
    "papermill": {
     "duration": 0.056637,
     "end_time": "2022-07-24T20:10:57.492416",
     "exception": false,
     "start_time": "2022-07-24T20:10:57.435779",
     "status": "completed"
    },
    "tags": []
   },
   "outputs": [],
   "source": [
    "import mnist"
   ]
  },
  {
   "cell_type": "code",
   "execution_count": 5,
   "id": "a411e44f",
   "metadata": {
    "execution": {
     "iopub.execute_input": "2022-07-24T20:10:57.555474Z",
     "iopub.status.busy": "2022-07-24T20:10:57.554792Z",
     "iopub.status.idle": "2022-07-24T20:10:58.241006Z",
     "shell.execute_reply": "2022-07-24T20:10:58.241587Z"
    },
    "papermill": {
     "duration": 0.720777,
     "end_time": "2022-07-24T20:10:58.241794",
     "exception": false,
     "start_time": "2022-07-24T20:10:57.521017",
     "status": "completed"
    },
    "tags": []
   },
   "outputs": [],
   "source": [
    "train_images = mnist.train_images()\n",
    "train_labels = mnist.train_labels()"
   ]
  },
  {
   "cell_type": "code",
   "execution_count": 6,
   "id": "dceab3a5",
   "metadata": {
    "execution": {
     "iopub.execute_input": "2022-07-24T20:10:58.307341Z",
     "iopub.status.busy": "2022-07-24T20:10:58.306607Z",
     "iopub.status.idle": "2022-07-24T20:10:58.327806Z",
     "shell.execute_reply": "2022-07-24T20:10:58.328351Z"
    },
    "papermill": {
     "duration": 0.056106,
     "end_time": "2022-07-24T20:10:58.328509",
     "exception": false,
     "start_time": "2022-07-24T20:10:58.272403",
     "status": "completed"
    },
    "tags": []
   },
   "outputs": [
    {
     "data": {
      "text/plain": [
       "((60000, 28, 28), (60000,))"
      ]
     },
     "execution_count": 6,
     "metadata": {},
     "output_type": "execute_result"
    }
   ],
   "source": [
    "train_images.shape, train_labels.shape"
   ]
  },
  {
   "cell_type": "code",
   "execution_count": 7,
   "id": "f50dc2bb",
   "metadata": {
    "execution": {
     "iopub.execute_input": "2022-07-24T20:10:58.396214Z",
     "iopub.status.busy": "2022-07-24T20:10:58.395342Z",
     "iopub.status.idle": "2022-07-24T20:10:58.538467Z",
     "shell.execute_reply": "2022-07-24T20:10:58.539107Z"
    },
    "papermill": {
     "duration": 0.177638,
     "end_time": "2022-07-24T20:10:58.539289",
     "exception": false,
     "start_time": "2022-07-24T20:10:58.361651",
     "status": "completed"
    },
    "tags": []
   },
   "outputs": [],
   "source": [
    "test_images = mnist.test_images()\n",
    "test_labels = mnist.test_labels()"
   ]
  },
  {
   "cell_type": "code",
   "execution_count": 8,
   "id": "fc38cf1b",
   "metadata": {
    "execution": {
     "iopub.execute_input": "2022-07-24T20:10:58.604769Z",
     "iopub.status.busy": "2022-07-24T20:10:58.604071Z",
     "iopub.status.idle": "2022-07-24T20:10:58.622428Z",
     "shell.execute_reply": "2022-07-24T20:10:58.623347Z"
    },
    "papermill": {
     "duration": 0.053709,
     "end_time": "2022-07-24T20:10:58.623503",
     "exception": false,
     "start_time": "2022-07-24T20:10:58.569794",
     "status": "completed"
    },
    "tags": []
   },
   "outputs": [
    {
     "data": {
      "text/plain": [
       "((10000, 28, 28), (10000,))"
      ]
     },
     "execution_count": 8,
     "metadata": {},
     "output_type": "execute_result"
    }
   ],
   "source": [
    "test_images.shape, test_labels.shape"
   ]
  },
  {
   "cell_type": "code",
   "execution_count": 9,
   "id": "f9ed8fe0",
   "metadata": {
    "execution": {
     "iopub.execute_input": "2022-07-24T20:10:58.690846Z",
     "iopub.status.busy": "2022-07-24T20:10:58.690091Z",
     "iopub.status.idle": "2022-07-24T20:10:58.906167Z",
     "shell.execute_reply": "2022-07-24T20:10:58.906955Z"
    },
    "papermill": {
     "duration": 0.252301,
     "end_time": "2022-07-24T20:10:58.907135",
     "exception": false,
     "start_time": "2022-07-24T20:10:58.654834",
     "status": "completed"
    },
    "tags": []
   },
   "outputs": [
    {
     "name": "stdout",
     "output_type": "stream",
     "text": [
      "2\n"
     ]
    },
    {
     "data": {
      "text/plain": [
       "<matplotlib.image.AxesImage at 0x7f21162a64e0>"
      ]
     },
     "execution_count": 9,
     "metadata": {},
     "output_type": "execute_result"
    },
    {
     "data": {
      "image/png": "[encoded data removed]",
      "text/plain": [
       "<Figure size 432x288 with 1 Axes>"
      ]
     },
     "metadata": {
      "needs_background": "light"
     },
     "output_type": "display_data"
    }
   ],
   "source": [
    "image_index = 7776 # You may select anything up to 60,000\n",
    "print(train_labels[image_index]) \n",
    "plt.imshow(train_images[image_index], cmap='Greys')"
   ]
  },
  {
   "cell_type": "markdown",
   "id": "a8d2388d",
   "metadata": {
    "papermill": {
     "duration": 0.031734,
     "end_time": "2022-07-24T20:10:58.969157",
     "exception": false,
     "start_time": "2022-07-24T20:10:58.937423",
     "status": "completed"
    },
    "tags": []
   },
   "source": [
    "## Filter data to get 3 and 8 out"
   ]
  },
  {
   "cell_type": "code",
   "execution_count": 10,
   "id": "776f7fc7",
   "metadata": {
    "execution": {
     "iopub.execute_input": "2022-07-24T20:10:59.036081Z",
     "iopub.status.busy": "2022-07-24T20:10:59.035357Z",
     "iopub.status.idle": "2022-07-24T20:10:59.063576Z",
     "shell.execute_reply": "2022-07-24T20:10:59.064152Z"
    },
    "papermill": {
     "duration": 0.064522,
     "end_time": "2022-07-24T20:10:59.064333",
     "exception": false,
     "start_time": "2022-07-24T20:10:58.999811",
     "status": "completed"
    },
    "tags": []
   },
   "outputs": [],
   "source": [
    "train_filter = np.where((train_labels == 3 ) | (train_labels == 8))\n",
    "test_filter = np.where((test_labels == 3) | (test_labels == 8))\n",
    "X_train, y_train = train_images[train_filter], train_labels[train_filter]\n",
    "X_test, y_test = test_images[test_filter], test_labels[test_filter]"
   ]
  },
  {
   "cell_type": "markdown",
   "id": "948f0b7e",
   "metadata": {
    "papermill": {
     "duration": 0.032958,
     "end_time": "2022-07-24T20:10:59.128926",
     "exception": false,
     "start_time": "2022-07-24T20:10:59.095968",
     "status": "completed"
    },
    "tags": []
   },
   "source": [
    "We normalize the pizel values in the 0 to 1 range"
   ]
  },
  {
   "cell_type": "code",
   "execution_count": 11,
   "id": "ee4c2166",
   "metadata": {
    "execution": {
     "iopub.execute_input": "2022-07-24T20:10:59.198465Z",
     "iopub.status.busy": "2022-07-24T20:10:59.197743Z",
     "iopub.status.idle": "2022-07-24T20:10:59.293623Z",
     "shell.execute_reply": "2022-07-24T20:10:59.293030Z"
    },
    "papermill": {
     "duration": 0.13233,
     "end_time": "2022-07-24T20:10:59.293779",
     "exception": false,
     "start_time": "2022-07-24T20:10:59.161449",
     "status": "completed"
    },
    "tags": []
   },
   "outputs": [],
   "source": [
    "X_train = X_train/255.\n",
    "X_test = X_test/255."
   ]
  },
  {
   "cell_type": "markdown",
   "id": "ddcf4fab",
   "metadata": {
    "papermill": {
     "duration": 0.031168,
     "end_time": "2022-07-24T20:10:59.356478",
     "exception": false,
     "start_time": "2022-07-24T20:10:59.325310",
     "status": "completed"
    },
    "tags": []
   },
   "source": [
    "And setup the labels as 1 (when the digit is 3) and 0 (when the digit is 8)"
   ]
  },
  {
   "cell_type": "code",
   "execution_count": 12,
   "id": "7dc908f2",
   "metadata": {
    "execution": {
     "iopub.execute_input": "2022-07-24T20:10:59.422053Z",
     "iopub.status.busy": "2022-07-24T20:10:59.421180Z",
     "iopub.status.idle": "2022-07-24T20:10:59.436769Z",
     "shell.execute_reply": "2022-07-24T20:10:59.437340Z"
    },
    "papermill": {
     "duration": 0.051444,
     "end_time": "2022-07-24T20:10:59.437497",
     "exception": false,
     "start_time": "2022-07-24T20:10:59.386053",
     "status": "completed"
    },
    "tags": []
   },
   "outputs": [],
   "source": [
    "y_train = 1*(y_train==3)\n",
    "y_test = 1*(y_test==3)"
   ]
  },
  {
   "cell_type": "code",
   "execution_count": 13,
   "id": "01e4e969",
   "metadata": {
    "execution": {
     "iopub.execute_input": "2022-07-24T20:10:59.507763Z",
     "iopub.status.busy": "2022-07-24T20:10:59.506981Z",
     "iopub.status.idle": "2022-07-24T20:10:59.525921Z",
     "shell.execute_reply": "2022-07-24T20:10:59.526495Z"
    },
    "papermill": {
     "duration": 0.058232,
     "end_time": "2022-07-24T20:10:59.526717",
     "exception": false,
     "start_time": "2022-07-24T20:10:59.468485",
     "status": "completed"
    },
    "tags": []
   },
   "outputs": [
    {
     "data": {
      "text/plain": [
       "((11982, 28, 28), (1984, 28, 28))"
      ]
     },
     "execution_count": 13,
     "metadata": {},
     "output_type": "execute_result"
    }
   ],
   "source": [
    "X_train.shape, X_test.shape"
   ]
  },
  {
   "cell_type": "markdown",
   "id": "5ccf3f85",
   "metadata": {
    "papermill": {
     "duration": 0.03263,
     "end_time": "2022-07-24T20:10:59.595419",
     "exception": false,
     "start_time": "2022-07-24T20:10:59.562789",
     "status": "completed"
    },
    "tags": []
   },
   "source": [
    "We reshape the data to flatten the image pixels into a set of features or co-variates:"
   ]
  },
  {
   "cell_type": "code",
   "execution_count": 14,
   "id": "5286a4a3",
   "metadata": {
    "execution": {
     "iopub.execute_input": "2022-07-24T20:10:59.667901Z",
     "iopub.status.busy": "2022-07-24T20:10:59.667164Z",
     "iopub.status.idle": "2022-07-24T20:10:59.684839Z",
     "shell.execute_reply": "2022-07-24T20:10:59.685350Z"
    },
    "papermill": {
     "duration": 0.05723,
     "end_time": "2022-07-24T20:10:59.685513",
     "exception": false,
     "start_time": "2022-07-24T20:10:59.628283",
     "status": "completed"
    },
    "tags": []
   },
   "outputs": [
    {
     "data": {
      "text/plain": [
       "((11982, 784), (1984, 784))"
      ]
     },
     "execution_count": 14,
     "metadata": {},
     "output_type": "execute_result"
    }
   ],
   "source": [
    "X_train = X_train.reshape(X_train.shape[0], -1)\n",
    "X_test = X_test.reshape(X_test.shape[0], -1)\n",
    "X_train.shape, X_test.shape"
   ]
  },
  {
   "cell_type": "code",
   "execution_count": 15,
   "id": "73c5f88a",
   "metadata": {
    "execution": {
     "iopub.execute_input": "2022-07-24T20:10:59.752046Z",
     "iopub.status.busy": "2022-07-24T20:10:59.751357Z",
     "iopub.status.idle": "2022-07-24T20:10:59.780014Z",
     "shell.execute_reply": "2022-07-24T20:10:59.780552Z"
    },
    "papermill": {
     "duration": 0.064696,
     "end_time": "2022-07-24T20:10:59.780722",
     "exception": false,
     "start_time": "2022-07-24T20:10:59.716026",
     "status": "completed"
    },
    "tags": []
   },
   "outputs": [],
   "source": [
    "#Impoting functions from 'Kudzu'\n",
    "from kudzu.model import Model\n",
    "from kudzu.train import Learner\n",
    "from kudzu.optim import GD\n",
    "from kudzu.data import Data, Sampler,Dataloader\n",
    "\n",
    "from kudzu.callbacks import AccCallback\n",
    "from kudzu.callbacks import ClfCallback\n",
    "\n",
    "from kudzu.loss import MSE\n",
    "\n",
    "from kudzu.layer import Sigmoid,Relu\n",
    "from kudzu.layer import Affine"
   ]
  },
  {
   "cell_type": "markdown",
   "id": "bc01172a",
   "metadata": {
    "papermill": {
     "duration": 0.035393,
     "end_time": "2022-07-24T20:10:59.848841",
     "exception": false,
     "start_time": "2022-07-24T20:10:59.813448",
     "status": "completed"
    },
    "tags": []
   },
   "source": [
    "### Let us create a `Config` class, to store important parameters. \n",
    "This class essentially plays the role of a dictionary."
   ]
  },
  {
   "cell_type": "code",
   "execution_count": 16,
   "id": "978281aa",
   "metadata": {
    "execution": {
     "iopub.execute_input": "2022-07-24T20:10:59.920054Z",
     "iopub.status.busy": "2022-07-24T20:10:59.919339Z",
     "iopub.status.idle": "2022-07-24T20:10:59.936308Z",
     "shell.execute_reply": "2022-07-24T20:10:59.936893Z"
    },
    "papermill": {
     "duration": 0.05468,
     "end_time": "2022-07-24T20:10:59.937175",
     "exception": false,
     "start_time": "2022-07-24T20:10:59.882495",
     "status": "completed"
    },
    "tags": []
   },
   "outputs": [],
   "source": [
    "class Config:\n",
    "    pass\n",
    "config = Config()\n",
    "config.lr = 0.001\n",
    "config.num_epochs = 250\n",
    "config.bs = 50"
   ]
  },
  {
   "cell_type": "markdown",
   "id": "1385fa59",
   "metadata": {
    "papermill": {
     "duration": 0.033325,
     "end_time": "2022-07-24T20:11:00.003839",
     "exception": false,
     "start_time": "2022-07-24T20:10:59.970514",
     "status": "completed"
    },
    "tags": []
   },
   "source": [
    "### Running Models with the Training data\n",
    "Details about the network layers:\n",
    "- A first affine layer has 784 inputs and does 100 affine transforms. These are followed by a Relu\n",
    "- A second affine layer has 100 inputs from the 100 activations of the past layer, and does 100 affine transforms. These are followed by a Relu\n",
    "- A third affine layer has 100 activations and does 2 affine transformations to create an embedding for visualization. There is no non-linearity here.\n",
    "- A final \"logistic regression\" which has an affine transform from 2 inputs to 1 output, which is squeezed through a sigmoid.\n"
   ]
  },
  {
   "cell_type": "code",
   "execution_count": 17,
   "id": "2b9c66db",
   "metadata": {
    "execution": {
     "iopub.execute_input": "2022-07-24T20:11:00.080739Z",
     "iopub.status.busy": "2022-07-24T20:11:00.079989Z",
     "iopub.status.idle": "2022-07-24T20:11:00.097269Z",
     "shell.execute_reply": "2022-07-24T20:11:00.096687Z"
    },
    "papermill": {
     "duration": 0.058068,
     "end_time": "2022-07-24T20:11:00.097411",
     "exception": false,
     "start_time": "2022-07-24T20:11:00.039343",
     "status": "completed"
    },
    "tags": []
   },
   "outputs": [],
   "source": [
    "data = Data(X_train, y_train.reshape(-1,1))\n",
    "sampler = Sampler(data, config.bs, shuffle=True)\n",
    "\n",
    "dl = Dataloader(data, sampler)\n",
    "\n",
    "opt = GD(config.lr)\n",
    "loss = MSE()"
   ]
  },
  {
   "cell_type": "code",
   "execution_count": 18,
   "id": "b275e4c2",
   "metadata": {
    "execution": {
     "iopub.execute_input": "2022-07-24T20:11:00.172062Z",
     "iopub.status.busy": "2022-07-24T20:11:00.171237Z",
     "iopub.status.idle": "2022-07-24T20:11:00.189829Z",
     "shell.execute_reply": "2022-07-24T20:11:00.188791Z"
    },
    "papermill": {
     "duration": 0.05874,
     "end_time": "2022-07-24T20:11:00.189999",
     "exception": false,
     "start_time": "2022-07-24T20:11:00.131259",
     "status": "completed"
    },
    "tags": []
   },
   "outputs": [],
   "source": [
    "training_data_x = X_train\n",
    "testing_data_x = X_test\n",
    "training_data_y = y_train.reshape(-1,1)\n",
    "testing_data_y = y_test.reshape(-1,1)"
   ]
  },
  {
   "cell_type": "code",
   "execution_count": 19,
   "id": "76951160",
   "metadata": {
    "execution": {
     "iopub.execute_input": "2022-07-24T20:11:00.260499Z",
     "iopub.status.busy": "2022-07-24T20:11:00.259573Z",
     "iopub.status.idle": "2022-07-24T20:11:00.281244Z",
     "shell.execute_reply": "2022-07-24T20:11:00.281843Z"
    },
    "papermill": {
     "duration": 0.059575,
     "end_time": "2022-07-24T20:11:00.282003",
     "exception": false,
     "start_time": "2022-07-24T20:11:00.222428",
     "status": "completed"
    },
    "tags": []
   },
   "outputs": [
    {
     "name": "stdout",
     "output_type": "stream",
     "text": [
      "xavier\n",
      "xavier\n",
      "xavier\n",
      "xavier\n",
      "xavier\n"
     ]
    }
   ],
   "source": [
    "layers = [Affine(\"first\", 784, 100), Relu(\"first\"), Affine(\"second\", 100, 100), Relu(\"second\"), Affine(\"third\", 100, 2), Affine(\"last\", 2, 1), Sigmoid(\"last\")]\n",
    "model_nn = Model(layers)\n",
    "model_lr = Model([Affine(\"logits\", 784, 1), Sigmoid(\"sigmoid\")])"
   ]
  },
  {
   "cell_type": "code",
   "execution_count": 20,
   "id": "6eede77a",
   "metadata": {
    "execution": {
     "iopub.execute_input": "2022-07-24T20:11:00.353230Z",
     "iopub.status.busy": "2022-07-24T20:11:00.352455Z",
     "iopub.status.idle": "2022-07-24T20:11:00.368761Z",
     "shell.execute_reply": "2022-07-24T20:11:00.369469Z"
    },
    "papermill": {
     "duration": 0.055346,
     "end_time": "2022-07-24T20:11:00.369631",
     "exception": false,
     "start_time": "2022-07-24T20:11:00.314285",
     "status": "completed"
    },
    "tags": []
   },
   "outputs": [],
   "source": [
    "nn_learner = Learner(loss, model_nn, opt, config.num_epochs)\n",
    "acc_nn = ClfCallback(nn_learner, config.bs, training_data_x , testing_data_x, training_data_y, testing_data_y)\n",
    "nn_learner.set_callbacks([acc_nn])"
   ]
  },
  {
   "cell_type": "code",
   "execution_count": 21,
   "id": "877b6cc7",
   "metadata": {
    "execution": {
     "iopub.execute_input": "2022-07-24T20:11:00.443904Z",
     "iopub.status.busy": "2022-07-24T20:11:00.442930Z",
     "iopub.status.idle": "2022-07-24T20:11:00.459541Z",
     "shell.execute_reply": "2022-07-24T20:11:00.460351Z"
    },
    "papermill": {
     "duration": 0.056799,
     "end_time": "2022-07-24T20:11:00.460507",
     "exception": false,
     "start_time": "2022-07-24T20:11:00.403708",
     "status": "completed"
    },
    "tags": []
   },
   "outputs": [],
   "source": [
    "lr_learner = Learner(loss, model_lr, opt, config.num_epochs)\n",
    "acc_lr = ClfCallback(lr_learner, config.bs, training_data_x , testing_data_x, training_data_y, testing_data_y)\n",
    "lr_learner.set_callbacks([acc_lr])"
   ]
  },
  {
   "cell_type": "code",
   "execution_count": 22,
   "id": "d9b133c3",
   "metadata": {
    "execution": {
     "iopub.execute_input": "2022-07-24T20:11:00.535984Z",
     "iopub.status.busy": "2022-07-24T20:11:00.535183Z",
     "iopub.status.idle": "2022-07-24T20:13:22.748402Z",
     "shell.execute_reply": "2022-07-24T20:13:22.749045Z"
    },
    "papermill": {
     "duration": 142.255026,
     "end_time": "2022-07-24T20:13:22.749203",
     "exception": false,
     "start_time": "2022-07-24T20:11:00.494177",
     "status": "completed"
    },
    "tags": []
   },
   "outputs": [
    {
     "name": "stdout",
     "output_type": "stream",
     "text": [
      "Epoch 0, Loss 0.2285\n",
      "Training Accuracy: 0.7711, Testing Accuracy: 0.7767\n",
      "\n"
     ]
    },
    {
     "name": "stdout",
     "output_type": "stream",
     "text": [
      "Epoch 10, Loss 0.0793\n",
      "Training Accuracy: 0.9217, Testing Accuracy: 0.9279\n",
      "\n"
     ]
    },
    {
     "name": "stdout",
     "output_type": "stream",
     "text": [
      "Epoch 20, Loss 0.052\n",
      "Training Accuracy: 0.9448, Testing Accuracy: 0.9501\n",
      "\n"
     ]
    },
    {
     "name": "stdout",
     "output_type": "stream",
     "text": [
      "Epoch 30, Loss 0.0419\n",
      "Training Accuracy: 0.9541, Testing Accuracy: 0.9627\n",
      "\n"
     ]
    },
    {
     "name": "stdout",
     "output_type": "stream",
     "text": [
      "Epoch 40, Loss 0.0367\n",
      "Training Accuracy: 0.9585, Testing Accuracy: 0.9693\n",
      "\n"
     ]
    },
    {
     "name": "stdout",
     "output_type": "stream",
     "text": [
      "Epoch 50, Loss 0.0334\n",
      "Training Accuracy: 0.9615, Testing Accuracy: 0.9688\n",
      "\n"
     ]
    },
    {
     "name": "stdout",
     "output_type": "stream",
     "text": [
      "Epoch 60, Loss 0.0312\n",
      "Training Accuracy: 0.9640, Testing Accuracy: 0.9688\n",
      "\n"
     ]
    },
    {
     "name": "stdout",
     "output_type": "stream",
     "text": [
      "Epoch 70, Loss 0.0295\n",
      "Training Accuracy: 0.9659, Testing Accuracy: 0.9688\n",
      "\n"
     ]
    },
    {
     "name": "stdout",
     "output_type": "stream",
     "text": [
      "Epoch 80, Loss 0.0281\n",
      "Training Accuracy: 0.9677, Testing Accuracy: 0.9693\n",
      "\n"
     ]
    },
    {
     "name": "stdout",
     "output_type": "stream",
     "text": [
      "Epoch 90, Loss 0.027\n",
      "Training Accuracy: 0.9690, Testing Accuracy: 0.9703\n",
      "\n"
     ]
    },
    {
     "name": "stdout",
     "output_type": "stream",
     "text": [
      "Epoch 100, Loss 0.0261\n",
      "Training Accuracy: 0.9712, Testing Accuracy: 0.9708\n",
      "\n"
     ]
    },
    {
     "name": "stdout",
     "output_type": "stream",
     "text": [
      "Epoch 110, Loss 0.0253\n",
      "Training Accuracy: 0.9716, Testing Accuracy: 0.9708\n",
      "\n"
     ]
    },
    {
     "name": "stdout",
     "output_type": "stream",
     "text": [
      "Epoch 120, Loss 0.0246\n",
      "Training Accuracy: 0.9724, Testing Accuracy: 0.9708\n",
      "\n"
     ]
    },
    {
     "name": "stdout",
     "output_type": "stream",
     "text": [
      "Epoch 130, Loss 0.024\n",
      "Training Accuracy: 0.9733, Testing Accuracy: 0.9718\n",
      "\n"
     ]
    },
    {
     "name": "stdout",
     "output_type": "stream",
     "text": [
      "Epoch 140, Loss 0.0234\n",
      "Training Accuracy: 0.9735, Testing Accuracy: 0.9723\n",
      "\n"
     ]
    },
    {
     "name": "stdout",
     "output_type": "stream",
     "text": [
      "Epoch 150, Loss 0.0229\n",
      "Training Accuracy: 0.9739, Testing Accuracy: 0.9723\n",
      "\n"
     ]
    },
    {
     "name": "stdout",
     "output_type": "stream",
     "text": [
      "Epoch 160, Loss 0.0224\n",
      "Training Accuracy: 0.9745, Testing Accuracy: 0.9728\n",
      "\n"
     ]
    },
    {
     "name": "stdout",
     "output_type": "stream",
     "text": [
      "Epoch 170, Loss 0.022\n",
      "Training Accuracy: 0.9754, Testing Accuracy: 0.9723\n",
      "\n"
     ]
    },
    {
     "name": "stdout",
     "output_type": "stream",
     "text": [
      "Epoch 180, Loss 0.0215\n",
      "Training Accuracy: 0.9762, Testing Accuracy: 0.9728\n",
      "\n"
     ]
    },
    {
     "name": "stdout",
     "output_type": "stream",
     "text": [
      "Epoch 190, Loss 0.0211\n",
      "Training Accuracy: 0.9763, Testing Accuracy: 0.9728\n",
      "\n"
     ]
    },
    {
     "name": "stdout",
     "output_type": "stream",
     "text": [
      "Epoch 200, Loss 0.0207\n",
      "Training Accuracy: 0.9766, Testing Accuracy: 0.9733\n",
      "\n"
     ]
    },
    {
     "name": "stdout",
     "output_type": "stream",
     "text": [
      "Epoch 210, Loss 0.0204\n",
      "Training Accuracy: 0.9771, Testing Accuracy: 0.9738\n",
      "\n"
     ]
    },
    {
     "name": "stdout",
     "output_type": "stream",
     "text": [
      "Epoch 220, Loss 0.02\n",
      "Training Accuracy: 0.9775, Testing Accuracy: 0.9738\n",
      "\n"
     ]
    },
    {
     "name": "stdout",
     "output_type": "stream",
     "text": [
      "Epoch 230, Loss 0.0197\n",
      "Training Accuracy: 0.9783, Testing Accuracy: 0.9738\n",
      "\n"
     ]
    },
    {
     "name": "stdout",
     "output_type": "stream",
     "text": [
      "Epoch 240, Loss 0.0193\n",
      "Training Accuracy: 0.9786, Testing Accuracy: 0.9738\n",
      "\n"
     ]
    },
    {
     "data": {
      "text/plain": [
       "0.023581057658661215"
      ]
     },
     "execution_count": 22,
     "metadata": {},
     "output_type": "execute_result"
    }
   ],
   "source": [
    "nn_learner.train_loop(dl)"
   ]
  },
  {
   "cell_type": "code",
   "execution_count": 23,
   "id": "e0163366",
   "metadata": {
    "execution": {
     "iopub.execute_input": "2022-07-24T20:13:22.838915Z",
     "iopub.status.busy": "2022-07-24T20:13:22.838133Z",
     "iopub.status.idle": "2022-07-24T20:13:43.043013Z",
     "shell.execute_reply": "2022-07-24T20:13:43.044258Z"
    },
    "papermill": {
     "duration": 20.25199,
     "end_time": "2022-07-24T20:13:43.044426",
     "exception": false,
     "start_time": "2022-07-24T20:13:22.792436",
     "status": "completed"
    },
    "tags": []
   },
   "outputs": [
    {
     "name": "stdout",
     "output_type": "stream",
     "text": [
      "Epoch 0, Loss 0.2466\n",
      "Training Accuracy: 0.6804, Testing Accuracy: 0.6900\n",
      "\n"
     ]
    },
    {
     "name": "stdout",
     "output_type": "stream",
     "text": [
      "Epoch 10, Loss 0.1016\n",
      "Training Accuracy: 0.9180, Testing Accuracy: 0.9330\n",
      "\n"
     ]
    },
    {
     "name": "stdout",
     "output_type": "stream",
     "text": [
      "Epoch 20, Loss 0.0781\n",
      "Training Accuracy: 0.9331, Testing Accuracy: 0.9425\n",
      "\n"
     ]
    },
    {
     "name": "stdout",
     "output_type": "stream",
     "text": [
      "Epoch 30, Loss 0.0674\n",
      "Training Accuracy: 0.9392, Testing Accuracy: 0.9511\n",
      "\n"
     ]
    },
    {
     "name": "stdout",
     "output_type": "stream",
     "text": [
      "Epoch 40, Loss 0.0609\n",
      "Training Accuracy: 0.9435, Testing Accuracy: 0.9541\n",
      "\n"
     ]
    },
    {
     "name": "stdout",
     "output_type": "stream",
     "text": [
      "Epoch 50, Loss 0.0565\n",
      "Training Accuracy: 0.9460, Testing Accuracy: 0.9567\n",
      "\n"
     ]
    },
    {
     "name": "stdout",
     "output_type": "stream",
     "text": [
      "Epoch 60, Loss 0.0533\n",
      "Training Accuracy: 0.9484, Testing Accuracy: 0.9587\n",
      "\n"
     ]
    },
    {
     "name": "stdout",
     "output_type": "stream",
     "text": [
      "Epoch 70, Loss 0.0508\n",
      "Training Accuracy: 0.9502, Testing Accuracy: 0.9627\n",
      "\n"
     ]
    },
    {
     "name": "stdout",
     "output_type": "stream",
     "text": [
      "Epoch 80, Loss 0.0488\n",
      "Training Accuracy: 0.9516, Testing Accuracy: 0.9627\n",
      "\n"
     ]
    },
    {
     "name": "stdout",
     "output_type": "stream",
     "text": [
      "Epoch 90, Loss 0.0471\n",
      "Training Accuracy: 0.9532, Testing Accuracy: 0.9627\n",
      "\n"
     ]
    },
    {
     "name": "stdout",
     "output_type": "stream",
     "text": [
      "Epoch 100, Loss 0.0458\n",
      "Training Accuracy: 0.9544, Testing Accuracy: 0.9642\n",
      "\n"
     ]
    },
    {
     "name": "stdout",
     "output_type": "stream",
     "text": [
      "Epoch 110, Loss 0.0446\n",
      "Training Accuracy: 0.9555, Testing Accuracy: 0.9642\n",
      "\n"
     ]
    },
    {
     "name": "stdout",
     "output_type": "stream",
     "text": [
      "Epoch 120, Loss 0.0435\n",
      "Training Accuracy: 0.9562, Testing Accuracy: 0.9652\n",
      "\n"
     ]
    },
    {
     "name": "stdout",
     "output_type": "stream",
     "text": [
      "Epoch 130, Loss 0.0426\n",
      "Training Accuracy: 0.9565, Testing Accuracy: 0.9657\n",
      "\n"
     ]
    },
    {
     "name": "stdout",
     "output_type": "stream",
     "text": [
      "Epoch 140, Loss 0.0418\n",
      "Training Accuracy: 0.9571, Testing Accuracy: 0.9657\n",
      "\n"
     ]
    },
    {
     "name": "stdout",
     "output_type": "stream",
     "text": [
      "Epoch 150, Loss 0.0411\n",
      "Training Accuracy: 0.9579, Testing Accuracy: 0.9667\n",
      "\n"
     ]
    },
    {
     "name": "stdout",
     "output_type": "stream",
     "text": [
      "Epoch 160, Loss 0.0404\n",
      "Training Accuracy: 0.9584, Testing Accuracy: 0.9667\n",
      "\n"
     ]
    },
    {
     "name": "stdout",
     "output_type": "stream",
     "text": [
      "Epoch 170, Loss 0.0398\n",
      "Training Accuracy: 0.9591, Testing Accuracy: 0.9667\n",
      "\n"
     ]
    },
    {
     "name": "stdout",
     "output_type": "stream",
     "text": [
      "Epoch 180, Loss 0.0393\n",
      "Training Accuracy: 0.9589, Testing Accuracy: 0.9672\n",
      "\n"
     ]
    },
    {
     "name": "stdout",
     "output_type": "stream",
     "text": [
      "Epoch 190, Loss 0.0388\n",
      "Training Accuracy: 0.9589, Testing Accuracy: 0.9672\n",
      "\n"
     ]
    },
    {
     "name": "stdout",
     "output_type": "stream",
     "text": [
      "Epoch 200, Loss 0.0383\n",
      "Training Accuracy: 0.9594, Testing Accuracy: 0.9677\n",
      "\n"
     ]
    },
    {
     "name": "stdout",
     "output_type": "stream",
     "text": [
      "Epoch 210, Loss 0.0379\n",
      "Training Accuracy: 0.9599, Testing Accuracy: 0.9682\n",
      "\n"
     ]
    },
    {
     "name": "stdout",
     "output_type": "stream",
     "text": [
      "Epoch 220, Loss 0.0375\n",
      "Training Accuracy: 0.9599, Testing Accuracy: 0.9688\n",
      "\n"
     ]
    },
    {
     "name": "stdout",
     "output_type": "stream",
     "text": [
      "Epoch 230, Loss 0.0371\n",
      "Training Accuracy: 0.9603, Testing Accuracy: 0.9688\n",
      "\n"
     ]
    },
    {
     "name": "stdout",
     "output_type": "stream",
     "text": [
      "Epoch 240, Loss 0.0367\n",
      "Training Accuracy: 0.9604, Testing Accuracy: 0.9693\n",
      "\n"
     ]
    },
    {
     "data": {
      "text/plain": [
       "0.09591177218080085"
      ]
     },
     "execution_count": 23,
     "metadata": {},
     "output_type": "execute_result"
    }
   ],
   "source": [
    "lr_learner.train_loop(dl)"
   ]
  },
  {
   "cell_type": "code",
   "execution_count": 24,
   "id": "ca410940",
   "metadata": {
    "execution": {
     "iopub.execute_input": "2022-07-24T20:13:43.148635Z",
     "iopub.status.busy": "2022-07-24T20:13:43.147964Z",
     "iopub.status.idle": "2022-07-24T20:13:43.450693Z",
     "shell.execute_reply": "2022-07-24T20:13:43.450138Z"
    },
    "papermill": {
     "duration": 0.357163,
     "end_time": "2022-07-24T20:13:43.450828",
     "exception": false,
     "start_time": "2022-07-24T20:13:43.093665",
     "status": "completed"
    },
    "tags": []
   },
   "outputs": [
    {
     "data": {
      "text/plain": [
       "<matplotlib.legend.Legend at 0x7f2115e05a90>"
      ]
     },
     "execution_count": 24,
     "metadata": {},
     "output_type": "execute_result"
    },
    {
     "data": {
      "image/png": "[encoded data removed]",
      "text/plain": [
       "<Figure size 1080x720 with 1 Axes>"
      ]
     },
     "metadata": {
      "needs_background": "light"
     },
     "output_type": "display_data"
    }
   ],
   "source": [
    "#comparing the results of NN and LR\n",
    "plt.figure(figsize=(15,10))\n",
    "\n",
    "# Neural Network plots\n",
    "plt.plot(acc_nn.accuracies, 'r-', label = \"Training Accuracies - NN\")\n",
    "plt.plot(acc_nn.test_accuracies, 'g-', label = \"Testing Accuracies - NN\")\n",
    "\n",
    "# Logistic Regression plots\n",
    "plt.plot(acc_lr.accuracies, 'k-', label = \"Training Accuracies - LR\")\n",
    "plt.plot(acc_lr.test_accuracies, 'b-', label = \"Testing Accuracies - LR\")\n",
    "plt.legend()"
   ]
  },
  {
   "cell_type": "markdown",
   "id": "80dfb35c",
   "metadata": {
    "papermill": {
     "duration": 0.045086,
     "end_time": "2022-07-24T20:13:43.539565",
     "exception": false,
     "start_time": "2022-07-24T20:13:43.494479",
     "status": "completed"
    },
    "tags": []
   },
   "source": [
    "#### Plotting the outputs of this layer of the NN.\n"
   ]
  },
  {
   "cell_type": "code",
   "execution_count": 25,
   "id": "45eb2ff5",
   "metadata": {
    "execution": {
     "iopub.execute_input": "2022-07-24T20:13:43.634223Z",
     "iopub.status.busy": "2022-07-24T20:13:43.633581Z",
     "iopub.status.idle": "2022-07-24T20:13:43.662008Z",
     "shell.execute_reply": "2022-07-24T20:13:43.662871Z"
    },
    "papermill": {
     "duration": 0.078141,
     "end_time": "2022-07-24T20:13:43.663035",
     "exception": false,
     "start_time": "2022-07-24T20:13:43.584894",
     "status": "completed"
    },
    "tags": []
   },
   "outputs": [],
   "source": [
    "new_model = Model(layers[:-2])\n",
    "testing_plot = new_model(testing_data_x)"
   ]
  },
  {
   "cell_type": "code",
   "execution_count": 26,
   "id": "4c0a5485",
   "metadata": {
    "execution": {
     "iopub.execute_input": "2022-07-24T20:13:43.761302Z",
     "iopub.status.busy": "2022-07-24T20:13:43.760668Z",
     "iopub.status.idle": "2022-07-24T20:13:44.022778Z",
     "shell.execute_reply": "2022-07-24T20:13:44.023278Z"
    },
    "papermill": {
     "duration": 0.31422,
     "end_time": "2022-07-24T20:13:44.023446",
     "exception": false,
     "start_time": "2022-07-24T20:13:43.709226",
     "status": "completed"
    },
    "tags": []
   },
   "outputs": [
    {
     "data": {
      "text/plain": [
       "Text(0.5, 1.0, 'Outputs')"
      ]
     },
     "execution_count": 26,
     "metadata": {},
     "output_type": "execute_result"
    },
    {
     "data": {
      "image/png": "[encoded data removed]",
      "text/plain": [
       "<Figure size 576x504 with 1 Axes>"
      ]
     },
     "metadata": {
      "needs_background": "light"
     },
     "output_type": "display_data"
    }
   ],
   "source": [
    "# Plotting the scatter plot of points and color coding by class\n",
    "plt.figure(figsize=(8,7))\n",
    "plt.scatter(testing_plot[:,0], testing_plot[:,1], alpha = 0.1, c = y_test.ravel());\n",
    "plt.title('Outputs')"
   ]
  },
  {
   "cell_type": "markdown",
   "id": "a74fcf8f",
   "metadata": {
    "papermill": {
     "duration": 0.070935,
     "end_time": "2022-07-24T20:13:44.148661",
     "exception": false,
     "start_time": "2022-07-24T20:13:44.077726",
     "status": "completed"
    },
    "tags": []
   },
   "source": [
    "Probability contours"
   ]
  },
  {
   "cell_type": "code",
   "execution_count": 27,
   "id": "d0afc8e3",
   "metadata": {
    "execution": {
     "iopub.execute_input": "2022-07-24T20:13:44.249822Z",
     "iopub.status.busy": "2022-07-24T20:13:44.249147Z",
     "iopub.status.idle": "2022-07-24T20:13:44.271843Z",
     "shell.execute_reply": "2022-07-24T20:13:44.272357Z"
    },
    "papermill": {
     "duration": 0.07438,
     "end_time": "2022-07-24T20:13:44.272696",
     "exception": false,
     "start_time": "2022-07-24T20:13:44.198316",
     "status": "completed"
    },
    "tags": []
   },
   "outputs": [],
   "source": [
    "model_prob = Model(layers[-2:]) "
   ]
  },
  {
   "cell_type": "code",
   "execution_count": 28,
   "id": "9b96e238",
   "metadata": {
    "execution": {
     "iopub.execute_input": "2022-07-24T20:13:44.376629Z",
     "iopub.status.busy": "2022-07-24T20:13:44.375941Z",
     "iopub.status.idle": "2022-07-24T20:13:44.395322Z",
     "shell.execute_reply": "2022-07-24T20:13:44.394790Z"
    },
    "papermill": {
     "duration": 0.074531,
     "end_time": "2022-07-24T20:13:44.395456",
     "exception": false,
     "start_time": "2022-07-24T20:13:44.320925",
     "status": "completed"
    },
    "tags": []
   },
   "outputs": [],
   "source": [
    "#creating the x and y ranges according to the above generated plot.\n",
    "x_range = np.linspace(-4, 1, 100) \n",
    "y_range = np.linspace(-6, 6, 100) \n",
    "x_grid, y_grid = np.meshgrid(x_range, y_range) # x_grid and y_grig are of size 100 X 100\n",
    "\n",
    "# converting x_grid and y_grid to continuous arrays\n",
    "x_gridflat = np.ravel(x_grid)\n",
    "y_gridflat = np.ravel(y_grid)\n",
    "\n",
    "# The last layer of the current model takes two columns as input. Hence transpose of np.vstack() is required.\n",
    "X = np.vstack((x_gridflat, y_gridflat)).T\n",
    "\n",
    "prob_contour = model_prob(X).reshape(100,100) "
   ]
  },
  {
   "cell_type": "code",
   "execution_count": 29,
   "id": "da72499a",
   "metadata": {
    "execution": {
     "iopub.execute_input": "2022-07-24T20:13:44.509037Z",
     "iopub.status.busy": "2022-07-24T20:13:44.508380Z",
     "iopub.status.idle": "2022-07-24T20:13:44.849293Z",
     "shell.execute_reply": "2022-07-24T20:13:44.848748Z"
    },
    "papermill": {
     "duration": 0.395959,
     "end_time": "2022-07-24T20:13:44.849429",
     "exception": false,
     "start_time": "2022-07-24T20:13:44.453470",
     "status": "completed"
    },
    "tags": []
   },
   "outputs": [
    {
     "data": {
      "image/png": "[encoded data removed]",
      "text/plain": [
       "<Figure size 720x648 with 1 Axes>"
      ]
     },
     "metadata": {
      "needs_background": "light"
     },
     "output_type": "display_data"
    }
   ],
   "source": [
    "plt.figure(figsize=(10,9))\n",
    "plt.scatter(testing_plot[:,0], testing_plot[:,1], alpha = 0.1, c = y_test.ravel())\n",
    "contours = plt.contour(x_grid,y_grid,prob_contour)\n",
    "plt.title('Probability Contours')\n",
    "plt.clabel(contours, inline = True );"
   ]
  },
  {
   "cell_type": "code",
   "execution_count": null,
   "id": "e81b4ac7",
   "metadata": {
    "papermill": {
     "duration": 0.048063,
     "end_time": "2022-07-24T20:13:44.945341",
     "exception": false,
     "start_time": "2022-07-24T20:13:44.897278",
     "status": "completed"
    },
    "tags": []
   },
   "outputs": [],
   "source": []
  }
 ],
 "metadata": {
  "kernelspec": {
   "display_name": "Python 3",
   "language": "python",
   "name": "python3"
  },
  "language_info": {
   "codemirror_mode": {
    "name": "ipython",
    "version": 3
   },
   "file_extension": ".py",
   "mimetype": "text/x-python",
   "name": "python",
   "nbconvert_exporter": "python",
   "pygments_lexer": "ipython3",
   "version": "3.6.15"
  },
  "papermill": {
   "default_parameters": {},
   "duration": 172.284783,
   "end_time": "2022-07-24T20:13:45.416637",
   "environment_variables": {},
   "exception": null,
   "input_path": "2020-08-11-part2.ipynb",
   "output_path": "2020-08-11-part2.ipynb",
   "parameters": {},
   "start_time": "2022-07-24T20:10:53.131854",
   "version": "2.3.3"
  }
 },
 "nbformat": 4,
 "nbformat_minor": 5
}