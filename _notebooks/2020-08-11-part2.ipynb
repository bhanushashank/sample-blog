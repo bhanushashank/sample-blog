{
 "cells": [
  {
   "cell_type": "markdown",
   "id": "98380cd3",
   "metadata": {
    "papermill": {
     "duration": 0.036637,
     "end_time": "2022-06-28T10:10:57.958329",
     "exception": false,
     "start_time": "2022-06-28T10:10:57.921692",
     "status": "completed"
    },
    "tags": []
   },
   "source": [
    "# Distinguish Your Own Digits (DYOD)"
   ]
  },
  {
   "cell_type": "markdown",
   "id": "ef31240d",
   "metadata": {
    "papermill": {
     "duration": 0.031743,
     "end_time": "2022-06-28T10:10:58.018351",
     "exception": false,
     "start_time": "2022-06-28T10:10:57.986608",
     "status": "completed"
    },
    "tags": []
   },
   "source": [
    "You are going to write a classifier that distinguishes between the number 3 and number 8."
   ]
  },
  {
   "cell_type": "code",
   "execution_count": 1,
   "id": "b15c8646",
   "metadata": {
    "execution": {
     "iopub.execute_input": "2022-06-28T10:10:58.089676Z",
     "iopub.status.busy": "2022-06-28T10:10:58.088888Z",
     "iopub.status.idle": "2022-06-28T10:10:58.101017Z",
     "shell.execute_reply": "2022-06-28T10:10:58.101647Z"
    },
    "papermill": {
     "duration": 0.053457,
     "end_time": "2022-06-28T10:10:58.101797",
     "exception": false,
     "start_time": "2022-06-28T10:10:58.048340",
     "status": "completed"
    },
    "tags": []
   },
   "outputs": [],
   "source": [
    "%load_ext autoreload\n",
    "%autoreload 2"
   ]
  },
  {
   "cell_type": "code",
   "execution_count": 2,
   "id": "22ef38dc",
   "metadata": {
    "execution": {
     "iopub.execute_input": "2022-06-28T10:10:58.169877Z",
     "iopub.status.busy": "2022-06-28T10:10:58.169221Z",
     "iopub.status.idle": "2022-06-28T10:10:58.782963Z",
     "shell.execute_reply": "2022-06-28T10:10:58.782290Z"
    },
    "papermill": {
     "duration": 0.651169,
     "end_time": "2022-06-28T10:10:58.783107",
     "exception": false,
     "start_time": "2022-06-28T10:10:58.131938",
     "status": "completed"
    },
    "tags": []
   },
   "outputs": [],
   "source": [
    "%matplotlib inline\n",
    "import numpy as np\n",
    "import matplotlib.pyplot as plt\n",
    "import pandas as pd"
   ]
  },
  {
   "cell_type": "markdown",
   "id": "ba036198",
   "metadata": {
    "papermill": {
     "duration": 0.027048,
     "end_time": "2022-06-28T10:10:58.838086",
     "exception": false,
     "start_time": "2022-06-28T10:10:58.811038",
     "status": "completed"
    },
    "tags": []
   },
   "source": [
    "From the command line run `pip install mnist`. This is a library that will help you bring down the mnist dataset. If you run this from a notebook, you need to put  `!pip install mnist` in a cell by itself."
   ]
  },
  {
   "cell_type": "code",
   "execution_count": 3,
   "id": "bb6ad8a1",
   "metadata": {
    "execution": {
     "iopub.execute_input": "2022-06-28T10:10:58.909075Z",
     "iopub.status.busy": "2022-06-28T10:10:58.908408Z",
     "iopub.status.idle": "2022-06-28T10:11:01.829402Z",
     "shell.execute_reply": "2022-06-28T10:11:01.828091Z"
    },
    "papermill": {
     "duration": 2.954249,
     "end_time": "2022-06-28T10:11:01.829572",
     "exception": false,
     "start_time": "2022-06-28T10:10:58.875323",
     "status": "completed"
    },
    "tags": []
   },
   "outputs": [
    {
     "name": "stdout",
     "output_type": "stream",
     "text": [
      "Collecting mnist\r\n"
     ]
    },
    {
     "name": "stdout",
     "output_type": "stream",
     "text": [
      "  Downloading mnist-0.2.2-py2.py3-none-any.whl (3.5 kB)\r\n"
     ]
    },
    {
     "name": "stdout",
     "output_type": "stream",
     "text": [
      "Requirement already satisfied: numpy in /opt/hostedtoolcache/Python/3.6.15/x64/lib/python3.6/site-packages (from mnist) (1.19.5)\r\n"
     ]
    },
    {
     "name": "stdout",
     "output_type": "stream",
     "text": [
      "Installing collected packages: mnist\r\n"
     ]
    },
    {
     "name": "stdout",
     "output_type": "stream",
     "text": [
      "Successfully installed mnist-0.2.2\r\n"
     ]
    }
   ],
   "source": [
    "!pip install mnist"
   ]
  },
  {
   "cell_type": "markdown",
   "id": "69df9c9a",
   "metadata": {
    "papermill": {
     "duration": 0.029924,
     "end_time": "2022-06-28T10:11:01.889995",
     "exception": false,
     "start_time": "2022-06-28T10:11:01.860071",
     "status": "completed"
    },
    "tags": []
   },
   "source": [
    "## Preparing the Data"
   ]
  },
  {
   "cell_type": "code",
   "execution_count": 4,
   "id": "7f69d806",
   "metadata": {
    "execution": {
     "iopub.execute_input": "2022-06-28T10:11:01.961034Z",
     "iopub.status.busy": "2022-06-28T10:11:01.960246Z",
     "iopub.status.idle": "2022-06-28T10:11:01.973640Z",
     "shell.execute_reply": "2022-06-28T10:11:01.973076Z"
    },
    "papermill": {
     "duration": 0.054276,
     "end_time": "2022-06-28T10:11:01.973783",
     "exception": false,
     "start_time": "2022-06-28T10:11:01.919507",
     "status": "completed"
    },
    "tags": []
   },
   "outputs": [],
   "source": [
    "import mnist"
   ]
  },
  {
   "cell_type": "code",
   "execution_count": 5,
   "id": "a411e44f",
   "metadata": {
    "execution": {
     "iopub.execute_input": "2022-06-28T10:11:02.039842Z",
     "iopub.status.busy": "2022-06-28T10:11:02.039123Z",
     "iopub.status.idle": "2022-06-28T10:11:02.808089Z",
     "shell.execute_reply": "2022-06-28T10:11:02.807521Z"
    },
    "papermill": {
     "duration": 0.803734,
     "end_time": "2022-06-28T10:11:02.808221",
     "exception": false,
     "start_time": "2022-06-28T10:11:02.004487",
     "status": "completed"
    },
    "tags": []
   },
   "outputs": [],
   "source": [
    "train_images = mnist.train_images()\n",
    "train_labels = mnist.train_labels()"
   ]
  },
  {
   "cell_type": "code",
   "execution_count": 6,
   "id": "dceab3a5",
   "metadata": {
    "execution": {
     "iopub.execute_input": "2022-06-28T10:11:02.870742Z",
     "iopub.status.busy": "2022-06-28T10:11:02.869971Z",
     "iopub.status.idle": "2022-06-28T10:11:02.887492Z",
     "shell.execute_reply": "2022-06-28T10:11:02.886790Z"
    },
    "papermill": {
     "duration": 0.052102,
     "end_time": "2022-06-28T10:11:02.887648",
     "exception": false,
     "start_time": "2022-06-28T10:11:02.835546",
     "status": "completed"
    },
    "tags": []
   },
   "outputs": [
    {
     "data": {
      "text/plain": [
       "((60000, 28, 28), (60000,))"
      ]
     },
     "execution_count": 6,
     "metadata": {},
     "output_type": "execute_result"
    }
   ],
   "source": [
    "train_images.shape, train_labels.shape"
   ]
  },
  {
   "cell_type": "code",
   "execution_count": 7,
   "id": "f50dc2bb",
   "metadata": {
    "execution": {
     "iopub.execute_input": "2022-06-28T10:11:02.966835Z",
     "iopub.status.busy": "2022-06-28T10:11:02.966096Z",
     "iopub.status.idle": "2022-06-28T10:11:03.300704Z",
     "shell.execute_reply": "2022-06-28T10:11:03.300132Z"
    },
    "papermill": {
     "duration": 0.370188,
     "end_time": "2022-06-28T10:11:03.300835",
     "exception": false,
     "start_time": "2022-06-28T10:11:02.930647",
     "status": "completed"
    },
    "tags": []
   },
   "outputs": [],
   "source": [
    "test_images = mnist.test_images()\n",
    "test_labels = mnist.test_labels()"
   ]
  },
  {
   "cell_type": "code",
   "execution_count": 8,
   "id": "fc38cf1b",
   "metadata": {
    "execution": {
     "iopub.execute_input": "2022-06-28T10:11:03.369716Z",
     "iopub.status.busy": "2022-06-28T10:11:03.368878Z",
     "iopub.status.idle": "2022-06-28T10:11:03.383381Z",
     "shell.execute_reply": "2022-06-28T10:11:03.384177Z"
    },
    "papermill": {
     "duration": 0.054134,
     "end_time": "2022-06-28T10:11:03.384352",
     "exception": false,
     "start_time": "2022-06-28T10:11:03.330218",
     "status": "completed"
    },
    "tags": []
   },
   "outputs": [
    {
     "data": {
      "text/plain": [
       "((10000, 28, 28), (10000,))"
      ]
     },
     "execution_count": 8,
     "metadata": {},
     "output_type": "execute_result"
    }
   ],
   "source": [
    "test_images.shape, test_labels.shape"
   ]
  },
  {
   "cell_type": "code",
   "execution_count": 9,
   "id": "f9ed8fe0",
   "metadata": {
    "execution": {
     "iopub.execute_input": "2022-06-28T10:11:03.447397Z",
     "iopub.status.busy": "2022-06-28T10:11:03.446721Z",
     "iopub.status.idle": "2022-06-28T10:11:03.629958Z",
     "shell.execute_reply": "2022-06-28T10:11:03.630489Z"
    },
    "papermill": {
     "duration": 0.216983,
     "end_time": "2022-06-28T10:11:03.630776",
     "exception": false,
     "start_time": "2022-06-28T10:11:03.413793",
     "status": "completed"
    },
    "tags": []
   },
   "outputs": [
    {
     "name": "stdout",
     "output_type": "stream",
     "text": [
      "2\n"
     ]
    },
    {
     "data": {
      "text/plain": [
       "<matplotlib.image.AxesImage at 0x7f2e129444a8>"
      ]
     },
     "execution_count": 9,
     "metadata": {},
     "output_type": "execute_result"
    },
    {
     "data": {
      "image/png": "[encoded data removed]",
      "text/plain": [
       "<Figure size 432x288 with 1 Axes>"
      ]
     },
     "metadata": {
      "needs_background": "light"
     },
     "output_type": "display_data"
    }
   ],
   "source": [
    "image_index = 7776 # You may select anything up to 60,000\n",
    "print(train_labels[image_index]) \n",
    "plt.imshow(train_images[image_index], cmap='Greys')"
   ]
  },
  {
   "cell_type": "markdown",
   "id": "a8d2388d",
   "metadata": {
    "papermill": {
     "duration": 0.031339,
     "end_time": "2022-06-28T10:11:03.692337",
     "exception": false,
     "start_time": "2022-06-28T10:11:03.660998",
     "status": "completed"
    },
    "tags": []
   },
   "source": [
    "## Filter data to get 3 and 8 out"
   ]
  },
  {
   "cell_type": "code",
   "execution_count": 10,
   "id": "776f7fc7",
   "metadata": {
    "execution": {
     "iopub.execute_input": "2022-06-28T10:11:03.757070Z",
     "iopub.status.busy": "2022-06-28T10:11:03.756328Z",
     "iopub.status.idle": "2022-06-28T10:11:03.794831Z",
     "shell.execute_reply": "2022-06-28T10:11:03.794255Z"
    },
    "papermill": {
     "duration": 0.073942,
     "end_time": "2022-06-28T10:11:03.794966",
     "exception": false,
     "start_time": "2022-06-28T10:11:03.721024",
     "status": "completed"
    },
    "tags": []
   },
   "outputs": [],
   "source": [
    "train_filter = np.where((train_labels == 3 ) | (train_labels == 8))\n",
    "test_filter = np.where((test_labels == 3) | (test_labels == 8))\n",
    "X_train, y_train = train_images[train_filter], train_labels[train_filter]\n",
    "X_test, y_test = test_images[test_filter], test_labels[test_filter]"
   ]
  },
  {
   "cell_type": "markdown",
   "id": "948f0b7e",
   "metadata": {
    "papermill": {
     "duration": 0.030565,
     "end_time": "2022-06-28T10:11:03.855682",
     "exception": false,
     "start_time": "2022-06-28T10:11:03.825117",
     "status": "completed"
    },
    "tags": []
   },
   "source": [
    "We normalize the pizel values in the 0 to 1 range"
   ]
  },
  {
   "cell_type": "code",
   "execution_count": 11,
   "id": "ee4c2166",
   "metadata": {
    "execution": {
     "iopub.execute_input": "2022-06-28T10:11:03.924806Z",
     "iopub.status.busy": "2022-06-28T10:11:03.924062Z",
     "iopub.status.idle": "2022-06-28T10:11:03.981751Z",
     "shell.execute_reply": "2022-06-28T10:11:03.981203Z"
    },
    "papermill": {
     "duration": 0.096019,
     "end_time": "2022-06-28T10:11:03.981891",
     "exception": false,
     "start_time": "2022-06-28T10:11:03.885872",
     "status": "completed"
    },
    "tags": []
   },
   "outputs": [],
   "source": [
    "X_train = X_train/255.\n",
    "X_test = X_test/255."
   ]
  },
  {
   "cell_type": "markdown",
   "id": "ddcf4fab",
   "metadata": {
    "papermill": {
     "duration": 0.032089,
     "end_time": "2022-06-28T10:11:04.047808",
     "exception": false,
     "start_time": "2022-06-28T10:11:04.015719",
     "status": "completed"
    },
    "tags": []
   },
   "source": [
    "And setup the labels as 1 (when the digit is 3) and 0 (when the digit is 8)"
   ]
  },
  {
   "cell_type": "code",
   "execution_count": 12,
   "id": "7dc908f2",
   "metadata": {
    "execution": {
     "iopub.execute_input": "2022-06-28T10:11:04.118028Z",
     "iopub.status.busy": "2022-06-28T10:11:04.117360Z",
     "iopub.status.idle": "2022-06-28T10:11:04.129565Z",
     "shell.execute_reply": "2022-06-28T10:11:04.130177Z"
    },
    "papermill": {
     "duration": 0.049903,
     "end_time": "2022-06-28T10:11:04.130325",
     "exception": false,
     "start_time": "2022-06-28T10:11:04.080422",
     "status": "completed"
    },
    "tags": []
   },
   "outputs": [],
   "source": [
    "y_train = 1*(y_train==3)\n",
    "y_test = 1*(y_test==3)"
   ]
  },
  {
   "cell_type": "code",
   "execution_count": 13,
   "id": "01e4e969",
   "metadata": {
    "execution": {
     "iopub.execute_input": "2022-06-28T10:11:04.200903Z",
     "iopub.status.busy": "2022-06-28T10:11:04.200056Z",
     "iopub.status.idle": "2022-06-28T10:11:04.214290Z",
     "shell.execute_reply": "2022-06-28T10:11:04.214903Z"
    },
    "papermill": {
     "duration": 0.051085,
     "end_time": "2022-06-28T10:11:04.215055",
     "exception": false,
     "start_time": "2022-06-28T10:11:04.163970",
     "status": "completed"
    },
    "tags": []
   },
   "outputs": [
    {
     "data": {
      "text/plain": [
       "((11982, 28, 28), (1984, 28, 28))"
      ]
     },
     "execution_count": 13,
     "metadata": {},
     "output_type": "execute_result"
    }
   ],
   "source": [
    "X_train.shape, X_test.shape"
   ]
  },
  {
   "cell_type": "markdown",
   "id": "5ccf3f85",
   "metadata": {
    "papermill": {
     "duration": 0.034097,
     "end_time": "2022-06-28T10:11:04.279764",
     "exception": false,
     "start_time": "2022-06-28T10:11:04.245667",
     "status": "completed"
    },
    "tags": []
   },
   "source": [
    "We reshape the data to flatten the image pixels into a set of features or co-variates:"
   ]
  },
  {
   "cell_type": "code",
   "execution_count": 14,
   "id": "5286a4a3",
   "metadata": {
    "execution": {
     "iopub.execute_input": "2022-06-28T10:11:04.350208Z",
     "iopub.status.busy": "2022-06-28T10:11:04.349409Z",
     "iopub.status.idle": "2022-06-28T10:11:04.364214Z",
     "shell.execute_reply": "2022-06-28T10:11:04.364879Z"
    },
    "papermill": {
     "duration": 0.053511,
     "end_time": "2022-06-28T10:11:04.365156",
     "exception": false,
     "start_time": "2022-06-28T10:11:04.311645",
     "status": "completed"
    },
    "tags": []
   },
   "outputs": [
    {
     "data": {
      "text/plain": [
       "((11982, 784), (1984, 784))"
      ]
     },
     "execution_count": 14,
     "metadata": {},
     "output_type": "execute_result"
    }
   ],
   "source": [
    "X_train = X_train.reshape(X_train.shape[0], -1)\n",
    "X_test = X_test.reshape(X_test.shape[0], -1)\n",
    "X_train.shape, X_test.shape"
   ]
  },
  {
   "cell_type": "code",
   "execution_count": 15,
   "id": "73c5f88a",
   "metadata": {
    "execution": {
     "iopub.execute_input": "2022-06-28T10:11:04.438228Z",
     "iopub.status.busy": "2022-06-28T10:11:04.437578Z",
     "iopub.status.idle": "2022-06-28T10:11:04.457617Z",
     "shell.execute_reply": "2022-06-28T10:11:04.458351Z"
    },
    "papermill": {
     "duration": 0.058236,
     "end_time": "2022-06-28T10:11:04.458540",
     "exception": false,
     "start_time": "2022-06-28T10:11:04.400304",
     "status": "completed"
    },
    "tags": []
   },
   "outputs": [],
   "source": [
    "#Impoting functions from 'Kudzu'\n",
    "from kudzu.model import Model\n",
    "from kudzu.train import Learner\n",
    "from kudzu.optim import GD\n",
    "from kudzu.data import Data, Sampler,Dataloader\n",
    "\n",
    "from kudzu.callbacks import AccCallback\n",
    "from kudzu.callbacks import ClfCallback\n",
    "\n",
    "from kudzu.loss import MSE\n",
    "\n",
    "from kudzu.layer import Sigmoid,Relu\n",
    "from kudzu.layer import Affine"
   ]
  },
  {
   "cell_type": "markdown",
   "id": "bc01172a",
   "metadata": {
    "papermill": {
     "duration": 0.031653,
     "end_time": "2022-06-28T10:11:04.521712",
     "exception": false,
     "start_time": "2022-06-28T10:11:04.490059",
     "status": "completed"
    },
    "tags": []
   },
   "source": [
    "### Let us create a `Config` class, to store important parameters. \n",
    "This class essentially plays the role of a dictionary."
   ]
  },
  {
   "cell_type": "code",
   "execution_count": 16,
   "id": "978281aa",
   "metadata": {
    "execution": {
     "iopub.execute_input": "2022-06-28T10:11:04.592406Z",
     "iopub.status.busy": "2022-06-28T10:11:04.591710Z",
     "iopub.status.idle": "2022-06-28T10:11:04.604187Z",
     "shell.execute_reply": "2022-06-28T10:11:04.603650Z"
    },
    "papermill": {
     "duration": 0.050591,
     "end_time": "2022-06-28T10:11:04.604305",
     "exception": false,
     "start_time": "2022-06-28T10:11:04.553714",
     "status": "completed"
    },
    "tags": []
   },
   "outputs": [],
   "source": [
    "class Config:\n",
    "    pass\n",
    "config = Config()\n",
    "config.lr = 0.001\n",
    "config.num_epochs = 250\n",
    "config.bs = 50"
   ]
  },
  {
   "cell_type": "markdown",
   "id": "1385fa59",
   "metadata": {
    "papermill": {
     "duration": 0.029889,
     "end_time": "2022-06-28T10:11:04.667309",
     "exception": false,
     "start_time": "2022-06-28T10:11:04.637420",
     "status": "completed"
    },
    "tags": []
   },
   "source": [
    "### Running Models with the Training data\n",
    "Details about the network layers:\n",
    "- A first affine layer has 784 inputs and does 100 affine transforms. These are followed by a Relu\n",
    "- A second affine layer has 100 inputs from the 100 activations of the past layer, and does 100 affine transforms. These are followed by a Relu\n",
    "- A third affine layer has 100 activations and does 2 affine transformations to create an embedding for visualization. There is no non-linearity here.\n",
    "- A final \"logistic regression\" which has an affine transform from 2 inputs to 1 output, which is squeezed through a sigmoid.\n"
   ]
  },
  {
   "cell_type": "code",
   "execution_count": 17,
   "id": "2b9c66db",
   "metadata": {
    "execution": {
     "iopub.execute_input": "2022-06-28T10:11:04.732813Z",
     "iopub.status.busy": "2022-06-28T10:11:04.732134Z",
     "iopub.status.idle": "2022-06-28T10:11:04.745550Z",
     "shell.execute_reply": "2022-06-28T10:11:04.746494Z"
    },
    "papermill": {
     "duration": 0.04862,
     "end_time": "2022-06-28T10:11:04.746672",
     "exception": false,
     "start_time": "2022-06-28T10:11:04.698052",
     "status": "completed"
    },
    "tags": []
   },
   "outputs": [],
   "source": [
    "data = Data(X_train, y_train.reshape(-1,1))\n",
    "sampler = Sampler(data, config.bs, shuffle=True)\n",
    "\n",
    "dl = Dataloader(data, sampler)\n",
    "\n",
    "opt = GD(config.lr)\n",
    "loss = MSE()"
   ]
  },
  {
   "cell_type": "code",
   "execution_count": 18,
   "id": "b275e4c2",
   "metadata": {
    "execution": {
     "iopub.execute_input": "2022-06-28T10:11:04.813223Z",
     "iopub.status.busy": "2022-06-28T10:11:04.812581Z",
     "iopub.status.idle": "2022-06-28T10:11:04.824666Z",
     "shell.execute_reply": "2022-06-28T10:11:04.825247Z"
    },
    "papermill": {
     "duration": 0.046388,
     "end_time": "2022-06-28T10:11:04.825361",
     "exception": false,
     "start_time": "2022-06-28T10:11:04.778973",
     "status": "completed"
    },
    "tags": []
   },
   "outputs": [],
   "source": [
    "training_data_x = X_train\n",
    "testing_data_x = X_test\n",
    "training_data_y = y_train.reshape(-1,1)\n",
    "testing_data_y = y_test.reshape(-1,1)"
   ]
  },
  {
   "cell_type": "code",
   "execution_count": 19,
   "id": "76951160",
   "metadata": {
    "execution": {
     "iopub.execute_input": "2022-06-28T10:11:04.894029Z",
     "iopub.status.busy": "2022-06-28T10:11:04.893331Z",
     "iopub.status.idle": "2022-06-28T10:11:04.910720Z",
     "shell.execute_reply": "2022-06-28T10:11:04.910076Z"
    },
    "papermill": {
     "duration": 0.054419,
     "end_time": "2022-06-28T10:11:04.910841",
     "exception": false,
     "start_time": "2022-06-28T10:11:04.856422",
     "status": "completed"
    },
    "tags": []
   },
   "outputs": [
    {
     "name": "stdout",
     "output_type": "stream",
     "text": [
      "xavier\n",
      "xavier\n",
      "xavier\n",
      "xavier\n",
      "xavier\n"
     ]
    }
   ],
   "source": [
    "layers = [Affine(\"first\", 784, 100), Relu(\"first\"), Affine(\"second\", 100, 100), Relu(\"second\"), Affine(\"third\", 100, 2), Affine(\"last\", 2, 1), Sigmoid(\"last\")]\n",
    "model_nn = Model(layers)\n",
    "model_lr = Model([Affine(\"logits\", 784, 1), Sigmoid(\"sigmoid\")])"
   ]
  },
  {
   "cell_type": "code",
   "execution_count": 20,
   "id": "6eede77a",
   "metadata": {
    "execution": {
     "iopub.execute_input": "2022-06-28T10:11:04.982813Z",
     "iopub.status.busy": "2022-06-28T10:11:04.982117Z",
     "iopub.status.idle": "2022-06-28T10:11:04.996285Z",
     "shell.execute_reply": "2022-06-28T10:11:04.995751Z"
    },
    "papermill": {
     "duration": 0.053054,
     "end_time": "2022-06-28T10:11:04.996404",
     "exception": false,
     "start_time": "2022-06-28T10:11:04.943350",
     "status": "completed"
    },
    "tags": []
   },
   "outputs": [],
   "source": [
    "nn_learner = Learner(loss, model_nn, opt, config.num_epochs)\n",
    "acc_nn = ClfCallback(nn_learner, config.bs, training_data_x , testing_data_x, training_data_y, testing_data_y)\n",
    "nn_learner.set_callbacks([acc_nn])"
   ]
  },
  {
   "cell_type": "code",
   "execution_count": 21,
   "id": "877b6cc7",
   "metadata": {
    "execution": {
     "iopub.execute_input": "2022-06-28T10:11:05.068246Z",
     "iopub.status.busy": "2022-06-28T10:11:05.067421Z",
     "iopub.status.idle": "2022-06-28T10:11:05.082854Z",
     "shell.execute_reply": "2022-06-28T10:11:05.082192Z"
    },
    "papermill": {
     "duration": 0.055166,
     "end_time": "2022-06-28T10:11:05.083035",
     "exception": false,
     "start_time": "2022-06-28T10:11:05.027869",
     "status": "completed"
    },
    "tags": []
   },
   "outputs": [],
   "source": [
    "lr_learner = Learner(loss, model_lr, opt, config.num_epochs)\n",
    "acc_lr = ClfCallback(lr_learner, config.bs, training_data_x , testing_data_x, training_data_y, testing_data_y)\n",
    "lr_learner.set_callbacks([acc_lr])"
   ]
  },
  {
   "cell_type": "code",
   "execution_count": 22,
   "id": "d9b133c3",
   "metadata": {
    "execution": {
     "iopub.execute_input": "2022-06-28T10:11:05.155987Z",
     "iopub.status.busy": "2022-06-28T10:11:05.155137Z",
     "iopub.status.idle": "2022-06-28T10:13:28.672908Z",
     "shell.execute_reply": "2022-06-28T10:13:28.672256Z"
    },
    "papermill": {
     "duration": 143.55386,
     "end_time": "2022-06-28T10:13:28.673104",
     "exception": false,
     "start_time": "2022-06-28T10:11:05.119244",
     "status": "completed"
    },
    "tags": []
   },
   "outputs": [
    {
     "name": "stdout",
     "output_type": "stream",
     "text": [
      "Epoch 0, Loss 0.2366\n",
      "Training Accuracy: 0.7328, Testing Accuracy: 0.7434\n",
      "\n"
     ]
    },
    {
     "name": "stdout",
     "output_type": "stream",
     "text": [
      "Epoch 10, Loss 0.1252\n",
      "Training Accuracy: 0.9029, Testing Accuracy: 0.9204\n",
      "\n"
     ]
    },
    {
     "name": "stdout",
     "output_type": "stream",
     "text": [
      "Epoch 20, Loss 0.0688\n",
      "Training Accuracy: 0.9309, Testing Accuracy: 0.9456\n",
      "\n"
     ]
    },
    {
     "name": "stdout",
     "output_type": "stream",
     "text": [
      "Epoch 30, Loss 0.0513\n",
      "Training Accuracy: 0.9431, Testing Accuracy: 0.9541\n",
      "\n"
     ]
    },
    {
     "name": "stdout",
     "output_type": "stream",
     "text": [
      "Epoch 40, Loss 0.0429\n",
      "Training Accuracy: 0.9503, Testing Accuracy: 0.9597\n",
      "\n"
     ]
    },
    {
     "name": "stdout",
     "output_type": "stream",
     "text": [
      "Epoch 50, Loss 0.0381\n",
      "Training Accuracy: 0.9553, Testing Accuracy: 0.9657\n",
      "\n"
     ]
    },
    {
     "name": "stdout",
     "output_type": "stream",
     "text": [
      "Epoch 60, Loss 0.0349\n",
      "Training Accuracy: 0.9594, Testing Accuracy: 0.9677\n",
      "\n"
     ]
    },
    {
     "name": "stdout",
     "output_type": "stream",
     "text": [
      "Epoch 70, Loss 0.0325\n",
      "Training Accuracy: 0.9621, Testing Accuracy: 0.9662\n",
      "\n"
     ]
    },
    {
     "name": "stdout",
     "output_type": "stream",
     "text": [
      "Epoch 80, Loss 0.0307\n",
      "Training Accuracy: 0.9648, Testing Accuracy: 0.9672\n",
      "\n"
     ]
    },
    {
     "name": "stdout",
     "output_type": "stream",
     "text": [
      "Epoch 90, Loss 0.0293\n",
      "Training Accuracy: 0.9660, Testing Accuracy: 0.9688\n",
      "\n"
     ]
    },
    {
     "name": "stdout",
     "output_type": "stream",
     "text": [
      "Epoch 100, Loss 0.028\n",
      "Training Accuracy: 0.9671, Testing Accuracy: 0.9698\n",
      "\n"
     ]
    },
    {
     "name": "stdout",
     "output_type": "stream",
     "text": [
      "Epoch 110, Loss 0.027\n",
      "Training Accuracy: 0.9677, Testing Accuracy: 0.9693\n",
      "\n"
     ]
    },
    {
     "name": "stdout",
     "output_type": "stream",
     "text": [
      "Epoch 120, Loss 0.0261\n",
      "Training Accuracy: 0.9686, Testing Accuracy: 0.9703\n",
      "\n"
     ]
    },
    {
     "name": "stdout",
     "output_type": "stream",
     "text": [
      "Epoch 130, Loss 0.0253\n",
      "Training Accuracy: 0.9696, Testing Accuracy: 0.9703\n",
      "\n"
     ]
    },
    {
     "name": "stdout",
     "output_type": "stream",
     "text": [
      "Epoch 140, Loss 0.0245\n",
      "Training Accuracy: 0.9710, Testing Accuracy: 0.9713\n",
      "\n"
     ]
    },
    {
     "name": "stdout",
     "output_type": "stream",
     "text": [
      "Epoch 150, Loss 0.0238\n",
      "Training Accuracy: 0.9723, Testing Accuracy: 0.9718\n",
      "\n"
     ]
    },
    {
     "name": "stdout",
     "output_type": "stream",
     "text": [
      "Epoch 160, Loss 0.0232\n",
      "Training Accuracy: 0.9729, Testing Accuracy: 0.9718\n",
      "\n"
     ]
    },
    {
     "name": "stdout",
     "output_type": "stream",
     "text": [
      "Epoch 170, Loss 0.0226\n",
      "Training Accuracy: 0.9739, Testing Accuracy: 0.9718\n",
      "\n"
     ]
    },
    {
     "name": "stdout",
     "output_type": "stream",
     "text": [
      "Epoch 180, Loss 0.0221\n",
      "Training Accuracy: 0.9743, Testing Accuracy: 0.9723\n",
      "\n"
     ]
    },
    {
     "name": "stdout",
     "output_type": "stream",
     "text": [
      "Epoch 190, Loss 0.0216\n",
      "Training Accuracy: 0.9750, Testing Accuracy: 0.9728\n",
      "\n"
     ]
    },
    {
     "name": "stdout",
     "output_type": "stream",
     "text": [
      "Epoch 200, Loss 0.0211\n",
      "Training Accuracy: 0.9758, Testing Accuracy: 0.9743\n",
      "\n"
     ]
    },
    {
     "name": "stdout",
     "output_type": "stream",
     "text": [
      "Epoch 210, Loss 0.0206\n",
      "Training Accuracy: 0.9770, Testing Accuracy: 0.9753\n",
      "\n"
     ]
    },
    {
     "name": "stdout",
     "output_type": "stream",
     "text": [
      "Epoch 220, Loss 0.0202\n",
      "Training Accuracy: 0.9775, Testing Accuracy: 0.9753\n",
      "\n"
     ]
    },
    {
     "name": "stdout",
     "output_type": "stream",
     "text": [
      "Epoch 230, Loss 0.0197\n",
      "Training Accuracy: 0.9781, Testing Accuracy: 0.9763\n",
      "\n"
     ]
    },
    {
     "name": "stdout",
     "output_type": "stream",
     "text": [
      "Epoch 240, Loss 0.0193\n",
      "Training Accuracy: 0.9786, Testing Accuracy: 0.9758\n",
      "\n"
     ]
    },
    {
     "data": {
      "text/plain": [
       "0.0019972596372734752"
      ]
     },
     "execution_count": 22,
     "metadata": {},
     "output_type": "execute_result"
    }
   ],
   "source": [
    "nn_learner.train_loop(dl)"
   ]
  },
  {
   "cell_type": "code",
   "execution_count": 23,
   "id": "e0163366",
   "metadata": {
    "execution": {
     "iopub.execute_input": "2022-06-28T10:13:28.772706Z",
     "iopub.status.busy": "2022-06-28T10:13:28.772019Z",
     "iopub.status.idle": "2022-06-28T10:13:49.519643Z",
     "shell.execute_reply": "2022-06-28T10:13:49.520552Z"
    },
    "papermill": {
     "duration": 20.805171,
     "end_time": "2022-06-28T10:13:49.520731",
     "exception": false,
     "start_time": "2022-06-28T10:13:28.715560",
     "status": "completed"
    },
    "tags": []
   },
   "outputs": [
    {
     "name": "stdout",
     "output_type": "stream",
     "text": [
      "Epoch 0, Loss 0.2879\n",
      "Training Accuracy: 0.4880, Testing Accuracy: 0.4577\n",
      "\n"
     ]
    },
    {
     "name": "stdout",
     "output_type": "stream",
     "text": [
      "Epoch 10, Loss 0.1106\n",
      "Training Accuracy: 0.8978, Testing Accuracy: 0.9052\n",
      "\n"
     ]
    },
    {
     "name": "stdout",
     "output_type": "stream",
     "text": [
      "Epoch 20, Loss 0.0822\n",
      "Training Accuracy: 0.9261, Testing Accuracy: 0.9330\n",
      "\n"
     ]
    },
    {
     "name": "stdout",
     "output_type": "stream",
     "text": [
      "Epoch 30, Loss 0.0698\n",
      "Training Accuracy: 0.9359, Testing Accuracy: 0.9461\n",
      "\n"
     ]
    },
    {
     "name": "stdout",
     "output_type": "stream",
     "text": [
      "Epoch 40, Loss 0.0627\n",
      "Training Accuracy: 0.9403, Testing Accuracy: 0.9496\n",
      "\n"
     ]
    },
    {
     "name": "stdout",
     "output_type": "stream",
     "text": [
      "Epoch 50, Loss 0.0579\n",
      "Training Accuracy: 0.9447, Testing Accuracy: 0.9541\n",
      "\n"
     ]
    },
    {
     "name": "stdout",
     "output_type": "stream",
     "text": [
      "Epoch 60, Loss 0.0544\n",
      "Training Accuracy: 0.9470, Testing Accuracy: 0.9577\n",
      "\n"
     ]
    },
    {
     "name": "stdout",
     "output_type": "stream",
     "text": [
      "Epoch 70, Loss 0.0517\n",
      "Training Accuracy: 0.9492, Testing Accuracy: 0.9587\n",
      "\n"
     ]
    },
    {
     "name": "stdout",
     "output_type": "stream",
     "text": [
      "Epoch 80, Loss 0.0496\n",
      "Training Accuracy: 0.9502, Testing Accuracy: 0.9597\n",
      "\n"
     ]
    },
    {
     "name": "stdout",
     "output_type": "stream",
     "text": [
      "Epoch 90, Loss 0.0479\n",
      "Training Accuracy: 0.9521, Testing Accuracy: 0.9602\n",
      "\n"
     ]
    },
    {
     "name": "stdout",
     "output_type": "stream",
     "text": [
      "Epoch 100, Loss 0.0464\n",
      "Training Accuracy: 0.9534, Testing Accuracy: 0.9622\n",
      "\n"
     ]
    },
    {
     "name": "stdout",
     "output_type": "stream",
     "text": [
      "Epoch 110, Loss 0.0452\n",
      "Training Accuracy: 0.9547, Testing Accuracy: 0.9627\n",
      "\n"
     ]
    },
    {
     "name": "stdout",
     "output_type": "stream",
     "text": [
      "Epoch 120, Loss 0.0441\n",
      "Training Accuracy: 0.9556, Testing Accuracy: 0.9627\n",
      "\n"
     ]
    },
    {
     "name": "stdout",
     "output_type": "stream",
     "text": [
      "Epoch 130, Loss 0.0431\n",
      "Training Accuracy: 0.9564, Testing Accuracy: 0.9637\n",
      "\n"
     ]
    },
    {
     "name": "stdout",
     "output_type": "stream",
     "text": [
      "Epoch 140, Loss 0.0423\n",
      "Training Accuracy: 0.9569, Testing Accuracy: 0.9642\n",
      "\n"
     ]
    },
    {
     "name": "stdout",
     "output_type": "stream",
     "text": [
      "Epoch 150, Loss 0.0415\n",
      "Training Accuracy: 0.9573, Testing Accuracy: 0.9647\n",
      "\n"
     ]
    },
    {
     "name": "stdout",
     "output_type": "stream",
     "text": [
      "Epoch 160, Loss 0.0409\n",
      "Training Accuracy: 0.9575, Testing Accuracy: 0.9657\n",
      "\n"
     ]
    },
    {
     "name": "stdout",
     "output_type": "stream",
     "text": [
      "Epoch 170, Loss 0.0402\n",
      "Training Accuracy: 0.9579, Testing Accuracy: 0.9657\n",
      "\n"
     ]
    },
    {
     "name": "stdout",
     "output_type": "stream",
     "text": [
      "Epoch 180, Loss 0.0397\n",
      "Training Accuracy: 0.9584, Testing Accuracy: 0.9662\n",
      "\n"
     ]
    },
    {
     "name": "stdout",
     "output_type": "stream",
     "text": [
      "Epoch 190, Loss 0.0391\n",
      "Training Accuracy: 0.9584, Testing Accuracy: 0.9657\n",
      "\n"
     ]
    },
    {
     "name": "stdout",
     "output_type": "stream",
     "text": [
      "Epoch 200, Loss 0.0387\n",
      "Training Accuracy: 0.9584, Testing Accuracy: 0.9662\n",
      "\n"
     ]
    },
    {
     "name": "stdout",
     "output_type": "stream",
     "text": [
      "Epoch 210, Loss 0.0382\n",
      "Training Accuracy: 0.9589, Testing Accuracy: 0.9672\n",
      "\n"
     ]
    },
    {
     "name": "stdout",
     "output_type": "stream",
     "text": [
      "Epoch 220, Loss 0.0378\n",
      "Training Accuracy: 0.9591, Testing Accuracy: 0.9672\n",
      "\n"
     ]
    },
    {
     "name": "stdout",
     "output_type": "stream",
     "text": [
      "Epoch 230, Loss 0.0374\n",
      "Training Accuracy: 0.9596, Testing Accuracy: 0.9672\n",
      "\n"
     ]
    },
    {
     "name": "stdout",
     "output_type": "stream",
     "text": [
      "Epoch 240, Loss 0.037\n",
      "Training Accuracy: 0.9597, Testing Accuracy: 0.9672\n",
      "\n"
     ]
    },
    {
     "data": {
      "text/plain": [
       "0.025015805489714976"
      ]
     },
     "execution_count": 23,
     "metadata": {},
     "output_type": "execute_result"
    }
   ],
   "source": [
    "lr_learner.train_loop(dl)"
   ]
  },
  {
   "cell_type": "code",
   "execution_count": 24,
   "id": "ca410940",
   "metadata": {
    "execution": {
     "iopub.execute_input": "2022-06-28T10:13:49.648816Z",
     "iopub.status.busy": "2022-06-28T10:13:49.648086Z",
     "iopub.status.idle": "2022-06-28T10:13:49.944552Z",
     "shell.execute_reply": "2022-06-28T10:13:49.945029Z"
    },
    "papermill": {
     "duration": 0.366438,
     "end_time": "2022-06-28T10:13:49.945192",
     "exception": false,
     "start_time": "2022-06-28T10:13:49.578754",
     "status": "completed"
    },
    "tags": []
   },
   "outputs": [
    {
     "data": {
      "text/plain": [
       "<matplotlib.legend.Legend at 0x7f2e05cf8b70>"
      ]
     },
     "execution_count": 24,
     "metadata": {},
     "output_type": "execute_result"
    },
    {
     "data": {
      "image/png": "[encoded data removed]",
      "text/plain": [
       "<Figure size 1080x720 with 1 Axes>"
      ]
     },
     "metadata": {
      "needs_background": "light"
     },
     "output_type": "display_data"
    }
   ],
   "source": [
    "#comparing the results of NN and LR\n",
    "plt.figure(figsize=(15,10))\n",
    "\n",
    "# Neural Network plots\n",
    "plt.plot(acc_nn.accuracies, 'r-', label = \"Training Accuracies - NN\")\n",
    "plt.plot(acc_nn.test_accuracies, 'g-', label = \"Testing Accuracies - NN\")\n",
    "\n",
    "# Logistic Regression plots\n",
    "plt.plot(acc_lr.accuracies, 'k-', label = \"Training Accuracies - LR\")\n",
    "plt.plot(acc_lr.test_accuracies, 'b-', label = \"Testing Accuracies - LR\")\n",
    "plt.legend()"
   ]
  },
  {
   "cell_type": "markdown",
   "id": "80dfb35c",
   "metadata": {
    "papermill": {
     "duration": 0.04993,
     "end_time": "2022-06-28T10:13:50.042272",
     "exception": false,
     "start_time": "2022-06-28T10:13:49.992342",
     "status": "completed"
    },
    "tags": []
   },
   "source": [
    "#### Plotting the outputs of this layer of the NN.\n"
   ]
  },
  {
   "cell_type": "code",
   "execution_count": 25,
   "id": "45eb2ff5",
   "metadata": {
    "execution": {
     "iopub.execute_input": "2022-06-28T10:13:50.150432Z",
     "iopub.status.busy": "2022-06-28T10:13:50.149814Z",
     "iopub.status.idle": "2022-06-28T10:13:50.175846Z",
     "shell.execute_reply": "2022-06-28T10:13:50.176359Z"
    },
    "papermill": {
     "duration": 0.085317,
     "end_time": "2022-06-28T10:13:50.176500",
     "exception": false,
     "start_time": "2022-06-28T10:13:50.091183",
     "status": "completed"
    },
    "tags": []
   },
   "outputs": [],
   "source": [
    "new_model = Model(layers[:-2])\n",
    "testing_plot = new_model(testing_data_x)"
   ]
  },
  {
   "cell_type": "code",
   "execution_count": 26,
   "id": "4c0a5485",
   "metadata": {
    "execution": {
     "iopub.execute_input": "2022-06-28T10:13:50.293040Z",
     "iopub.status.busy": "2022-06-28T10:13:50.292229Z",
     "iopub.status.idle": "2022-06-28T10:13:50.536676Z",
     "shell.execute_reply": "2022-06-28T10:13:50.535886Z"
    },
    "papermill": {
     "duration": 0.300034,
     "end_time": "2022-06-28T10:13:50.536826",
     "exception": false,
     "start_time": "2022-06-28T10:13:50.236792",
     "status": "completed"
    },
    "tags": []
   },
   "outputs": [
    {
     "data": {
      "text/plain": [
       "Text(0.5, 1.0, 'Outputs')"
      ]
     },
     "execution_count": 26,
     "metadata": {},
     "output_type": "execute_result"
    },
    {
     "data": {
      "image/png": "[encoded data removed]",
      "text/plain": [
       "<Figure size 576x504 with 1 Axes>"
      ]
     },
     "metadata": {
      "needs_background": "light"
     },
     "output_type": "display_data"
    }
   ],
   "source": [
    "# Plotting the scatter plot of points and color coding by class\n",
    "plt.figure(figsize=(8,7))\n",
    "plt.scatter(testing_plot[:,0], testing_plot[:,1], alpha = 0.1, c = y_test.ravel());\n",
    "plt.title('Outputs')"
   ]
  },
  {
   "cell_type": "markdown",
   "id": "a74fcf8f",
   "metadata": {
    "papermill": {
     "duration": 0.082386,
     "end_time": "2022-06-28T10:13:50.672317",
     "exception": false,
     "start_time": "2022-06-28T10:13:50.589931",
     "status": "completed"
    },
    "tags": []
   },
   "source": [
    "Probability contours"
   ]
  },
  {
   "cell_type": "code",
   "execution_count": 27,
   "id": "d0afc8e3",
   "metadata": {
    "execution": {
     "iopub.execute_input": "2022-06-28T10:13:50.783139Z",
     "iopub.status.busy": "2022-06-28T10:13:50.780367Z",
     "iopub.status.idle": "2022-06-28T10:13:50.794829Z",
     "shell.execute_reply": "2022-06-28T10:13:50.793467Z"
    },
    "papermill": {
     "duration": 0.072588,
     "end_time": "2022-06-28T10:13:50.794954",
     "exception": false,
     "start_time": "2022-06-28T10:13:50.722366",
     "status": "completed"
    },
    "tags": []
   },
   "outputs": [],
   "source": [
    "model_prob = Model(layers[-2:]) "
   ]
  },
  {
   "cell_type": "code",
   "execution_count": 28,
   "id": "9b96e238",
   "metadata": {
    "execution": {
     "iopub.execute_input": "2022-06-28T10:13:50.910782Z",
     "iopub.status.busy": "2022-06-28T10:13:50.909865Z",
     "iopub.status.idle": "2022-06-28T10:13:50.925917Z",
     "shell.execute_reply": "2022-06-28T10:13:50.926388Z"
    },
    "papermill": {
     "duration": 0.083029,
     "end_time": "2022-06-28T10:13:50.926544",
     "exception": false,
     "start_time": "2022-06-28T10:13:50.843515",
     "status": "completed"
    },
    "tags": []
   },
   "outputs": [],
   "source": [
    "#creating the x and y ranges according to the above generated plot.\n",
    "x_range = np.linspace(-4, 1, 100) \n",
    "y_range = np.linspace(-6, 6, 100) \n",
    "x_grid, y_grid = np.meshgrid(x_range, y_range) # x_grid and y_grig are of size 100 X 100\n",
    "\n",
    "# converting x_grid and y_grid to continuous arrays\n",
    "x_gridflat = np.ravel(x_grid)\n",
    "y_gridflat = np.ravel(y_grid)\n",
    "\n",
    "# The last layer of the current model takes two columns as input. Hence transpose of np.vstack() is required.\n",
    "X = np.vstack((x_gridflat, y_gridflat)).T\n",
    "\n",
    "prob_contour = model_prob(X).reshape(100,100) "
   ]
  },
  {
   "cell_type": "code",
   "execution_count": 29,
   "id": "da72499a",
   "metadata": {
    "execution": {
     "iopub.execute_input": "2022-06-28T10:13:51.045150Z",
     "iopub.status.busy": "2022-06-28T10:13:51.044462Z",
     "iopub.status.idle": "2022-06-28T10:13:51.377372Z",
     "shell.execute_reply": "2022-06-28T10:13:51.378065Z"
    },
    "papermill": {
     "duration": 0.400123,
     "end_time": "2022-06-28T10:13:51.378235",
     "exception": false,
     "start_time": "2022-06-28T10:13:50.978112",
     "status": "completed"
    },
    "tags": []
   },
   "outputs": [
    {
     "data": {
      "image/png": "[encoded data removed]",
      "text/plain": [
       "<Figure size 720x648 with 1 Axes>"
      ]
     },
     "metadata": {
      "needs_background": "light"
     },
     "output_type": "display_data"
    }
   ],
   "source": [
    "plt.figure(figsize=(10,9))\n",
    "plt.scatter(testing_plot[:,0], testing_plot[:,1], alpha = 0.1, c = y_test.ravel())\n",
    "contours = plt.contour(x_grid,y_grid,prob_contour)\n",
    "plt.title('Probability Contours')\n",
    "plt.clabel(contours, inline = True );"
   ]
  },
  {
   "cell_type": "code",
   "execution_count": null,
   "id": "e81b4ac7",
   "metadata": {
    "papermill": {
     "duration": 0.053891,
     "end_time": "2022-06-28T10:13:51.486569",
     "exception": false,
     "start_time": "2022-06-28T10:13:51.432678",
     "status": "completed"
    },
    "tags": []
   },
   "outputs": [],
   "source": []
  }
 ],
 "metadata": {
  "kernelspec": {
   "display_name": "Python 3",
   "language": "python",
   "name": "python3"
  },
  "language_info": {
   "codemirror_mode": {
    "name": "ipython",
    "version": 3
   },
   "file_extension": ".py",
   "mimetype": "text/x-python",
   "name": "python",
   "nbconvert_exporter": "python",
   "pygments_lexer": "ipython3",
   "version": "3.6.15"
  },
  "papermill": {
   "default_parameters": {},
   "duration": 175.341135,
   "end_time": "2022-06-28T10:13:51.958565",
   "environment_variables": {},
   "exception": null,
   "input_path": "2020-08-11-part2.ipynb",
   "output_path": "2020-08-11-part2.ipynb",
   "parameters": {},
   "start_time": "2022-06-28T10:10:56.617430",
   "version": "2.3.3"
  }
 },
 "nbformat": 4,
 "nbformat_minor": 5
}