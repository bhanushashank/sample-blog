{
 "cells": [
  {
   "cell_type": "markdown",
   "id": "98380cd3",
   "metadata": {
    "papermill": {
     "duration": 0.028336,
     "end_time": "2021-12-09T20:08:58.314497",
     "exception": false,
     "start_time": "2021-12-09T20:08:58.286161",
     "status": "completed"
    },
    "tags": []
   },
   "source": [
    "# Distinguish Your Own Digits (DYOD)"
   ]
  },
  {
   "cell_type": "markdown",
   "id": "ef31240d",
   "metadata": {
    "papermill": {
     "duration": 0.023707,
     "end_time": "2021-12-09T20:08:58.362695",
     "exception": false,
     "start_time": "2021-12-09T20:08:58.338988",
     "status": "completed"
    },
    "tags": []
   },
   "source": [
    "You are going to write a classifier that distinguishes between the number 3 and number 8."
   ]
  },
  {
   "cell_type": "code",
   "execution_count": 1,
   "id": "b15c8646",
   "metadata": {
    "execution": {
     "iopub.execute_input": "2021-12-09T20:08:58.421303Z",
     "iopub.status.busy": "2021-12-09T20:08:58.420759Z",
     "iopub.status.idle": "2021-12-09T20:08:58.429567Z",
     "shell.execute_reply": "2021-12-09T20:08:58.430008Z"
    },
    "papermill": {
     "duration": 0.043639,
     "end_time": "2021-12-09T20:08:58.430155",
     "exception": false,
     "start_time": "2021-12-09T20:08:58.386516",
     "status": "completed"
    },
    "tags": []
   },
   "outputs": [],
   "source": [
    "%load_ext autoreload\n",
    "%autoreload 2"
   ]
  },
  {
   "cell_type": "code",
   "execution_count": 2,
   "id": "22ef38dc",
   "metadata": {
    "execution": {
     "iopub.execute_input": "2021-12-09T20:08:58.491140Z",
     "iopub.status.busy": "2021-12-09T20:08:58.487525Z",
     "iopub.status.idle": "2021-12-09T20:08:58.983653Z",
     "shell.execute_reply": "2021-12-09T20:08:58.983139Z"
    },
    "papermill": {
     "duration": 0.529564,
     "end_time": "2021-12-09T20:08:58.983793",
     "exception": false,
     "start_time": "2021-12-09T20:08:58.454229",
     "status": "completed"
    },
    "tags": []
   },
   "outputs": [],
   "source": [
    "%matplotlib inline\n",
    "import numpy as np\n",
    "import matplotlib.pyplot as plt\n",
    "import pandas as pd"
   ]
  },
  {
   "cell_type": "markdown",
   "id": "ba036198",
   "metadata": {
    "papermill": {
     "duration": 0.023877,
     "end_time": "2021-12-09T20:08:59.031854",
     "exception": false,
     "start_time": "2021-12-09T20:08:59.007977",
     "status": "completed"
    },
    "tags": []
   },
   "source": [
    "From the command line run `pip install mnist`. This is a library that will help you bring down the mnist dataset. If you run this from a notebook, you need to put  `!pip install mnist` in a cell by itself."
   ]
  },
  {
   "cell_type": "code",
   "execution_count": 3,
   "id": "bb6ad8a1",
   "metadata": {
    "execution": {
     "iopub.execute_input": "2021-12-09T20:08:59.083836Z",
     "iopub.status.busy": "2021-12-09T20:08:59.083321Z",
     "iopub.status.idle": "2021-12-09T20:09:00.715425Z",
     "shell.execute_reply": "2021-12-09T20:09:00.715935Z"
    },
    "papermill": {
     "duration": 1.660252,
     "end_time": "2021-12-09T20:09:00.716092",
     "exception": false,
     "start_time": "2021-12-09T20:08:59.055840",
     "status": "completed"
    },
    "tags": []
   },
   "outputs": [
    {
     "name": "stdout",
     "output_type": "stream",
     "text": [
      "Collecting mnist\r\n"
     ]
    },
    {
     "name": "stdout",
     "output_type": "stream",
     "text": [
      "  Downloading mnist-0.2.2-py2.py3-none-any.whl (3.5 kB)\r\n",
      "Requirement already satisfied: numpy in /opt/hostedtoolcache/Python/3.6.15/x64/lib/python3.6/site-packages (from mnist) (1.19.5)\r\n"
     ]
    },
    {
     "name": "stdout",
     "output_type": "stream",
     "text": [
      "Installing collected packages: mnist\r\n"
     ]
    },
    {
     "name": "stdout",
     "output_type": "stream",
     "text": [
      "Successfully installed mnist-0.2.2\r\n"
     ]
    }
   ],
   "source": [
    "!pip install mnist"
   ]
  },
  {
   "cell_type": "markdown",
   "id": "69df9c9a",
   "metadata": {
    "papermill": {
     "duration": 0.024953,
     "end_time": "2021-12-09T20:09:00.766810",
     "exception": false,
     "start_time": "2021-12-09T20:09:00.741857",
     "status": "completed"
    },
    "tags": []
   },
   "source": [
    "## Preparing the Data"
   ]
  },
  {
   "cell_type": "code",
   "execution_count": 4,
   "id": "7f69d806",
   "metadata": {
    "execution": {
     "iopub.execute_input": "2021-12-09T20:09:00.820671Z",
     "iopub.status.busy": "2021-12-09T20:09:00.820164Z",
     "iopub.status.idle": "2021-12-09T20:09:00.832337Z",
     "shell.execute_reply": "2021-12-09T20:09:00.832768Z"
    },
    "papermill": {
     "duration": 0.04123,
     "end_time": "2021-12-09T20:09:00.832888",
     "exception": false,
     "start_time": "2021-12-09T20:09:00.791658",
     "status": "completed"
    },
    "tags": []
   },
   "outputs": [],
   "source": [
    "import mnist"
   ]
  },
  {
   "cell_type": "code",
   "execution_count": 5,
   "id": "a411e44f",
   "metadata": {
    "execution": {
     "iopub.execute_input": "2021-12-09T20:09:00.894392Z",
     "iopub.status.busy": "2021-12-09T20:09:00.892588Z",
     "iopub.status.idle": "2021-12-09T20:09:01.590377Z",
     "shell.execute_reply": "2021-12-09T20:09:01.589211Z"
    },
    "papermill": {
     "duration": 0.732576,
     "end_time": "2021-12-09T20:09:01.590525",
     "exception": false,
     "start_time": "2021-12-09T20:09:00.857949",
     "status": "completed"
    },
    "tags": []
   },
   "outputs": [],
   "source": [
    "train_images = mnist.train_images()\n",
    "train_labels = mnist.train_labels()"
   ]
  },
  {
   "cell_type": "code",
   "execution_count": 6,
   "id": "dceab3a5",
   "metadata": {
    "execution": {
     "iopub.execute_input": "2021-12-09T20:09:01.646901Z",
     "iopub.status.busy": "2021-12-09T20:09:01.644831Z",
     "iopub.status.idle": "2021-12-09T20:09:01.658398Z",
     "shell.execute_reply": "2021-12-09T20:09:01.658823Z"
    },
    "papermill": {
     "duration": 0.042621,
     "end_time": "2021-12-09T20:09:01.658949",
     "exception": false,
     "start_time": "2021-12-09T20:09:01.616328",
     "status": "completed"
    },
    "tags": []
   },
   "outputs": [
    {
     "data": {
      "text/plain": [
       "((60000, 28, 28), (60000,))"
      ]
     },
     "execution_count": 6,
     "metadata": {},
     "output_type": "execute_result"
    }
   ],
   "source": [
    "train_images.shape, train_labels.shape"
   ]
  },
  {
   "cell_type": "code",
   "execution_count": 7,
   "id": "f50dc2bb",
   "metadata": {
    "execution": {
     "iopub.execute_input": "2021-12-09T20:09:01.719105Z",
     "iopub.status.busy": "2021-12-09T20:09:01.718617Z",
     "iopub.status.idle": "2021-12-09T20:09:01.964619Z",
     "shell.execute_reply": "2021-12-09T20:09:01.964062Z"
    },
    "papermill": {
     "duration": 0.283255,
     "end_time": "2021-12-09T20:09:01.964754",
     "exception": false,
     "start_time": "2021-12-09T20:09:01.681499",
     "status": "completed"
    },
    "tags": []
   },
   "outputs": [],
   "source": [
    "test_images = mnist.test_images()\n",
    "test_labels = mnist.test_labels()"
   ]
  },
  {
   "cell_type": "code",
   "execution_count": 8,
   "id": "fc38cf1b",
   "metadata": {
    "execution": {
     "iopub.execute_input": "2021-12-09T20:09:02.027284Z",
     "iopub.status.busy": "2021-12-09T20:09:02.014672Z",
     "iopub.status.idle": "2021-12-09T20:09:02.029877Z",
     "shell.execute_reply": "2021-12-09T20:09:02.030228Z"
    },
    "papermill": {
     "duration": 0.041189,
     "end_time": "2021-12-09T20:09:02.030354",
     "exception": false,
     "start_time": "2021-12-09T20:09:01.989165",
     "status": "completed"
    },
    "tags": []
   },
   "outputs": [
    {
     "data": {
      "text/plain": [
       "((10000, 28, 28), (10000,))"
      ]
     },
     "execution_count": 8,
     "metadata": {},
     "output_type": "execute_result"
    }
   ],
   "source": [
    "test_images.shape, test_labels.shape"
   ]
  },
  {
   "cell_type": "code",
   "execution_count": 9,
   "id": "f9ed8fe0",
   "metadata": {
    "execution": {
     "iopub.execute_input": "2021-12-09T20:09:02.083432Z",
     "iopub.status.busy": "2021-12-09T20:09:02.082942Z",
     "iopub.status.idle": "2021-12-09T20:09:02.221027Z",
     "shell.execute_reply": "2021-12-09T20:09:02.220187Z"
    },
    "papermill": {
     "duration": 0.168229,
     "end_time": "2021-12-09T20:09:02.221160",
     "exception": false,
     "start_time": "2021-12-09T20:09:02.052931",
     "status": "completed"
    },
    "tags": []
   },
   "outputs": [
    {
     "name": "stdout",
     "output_type": "stream",
     "text": [
      "2\n"
     ]
    },
    {
     "data": {
      "text/plain": [
       "<matplotlib.image.AxesImage at 0x7f550cf84f28>"
      ]
     },
     "execution_count": 9,
     "metadata": {},
     "output_type": "execute_result"
    },
    {
     "data": {
      "image/png": "[encoded data removed]",
      "text/plain": [
       "<Figure size 432x288 with 1 Axes>"
      ]
     },
     "metadata": {
      "needs_background": "light"
     },
     "output_type": "display_data"
    }
   ],
   "source": [
    "image_index = 7776 # You may select anything up to 60,000\n",
    "print(train_labels[image_index]) \n",
    "plt.imshow(train_images[image_index], cmap='Greys')"
   ]
  },
  {
   "cell_type": "markdown",
   "id": "a8d2388d",
   "metadata": {
    "papermill": {
     "duration": 0.026851,
     "end_time": "2021-12-09T20:09:02.274956",
     "exception": false,
     "start_time": "2021-12-09T20:09:02.248105",
     "status": "completed"
    },
    "tags": []
   },
   "source": [
    "## Filter data to get 3 and 8 out"
   ]
  },
  {
   "cell_type": "code",
   "execution_count": 10,
   "id": "776f7fc7",
   "metadata": {
    "execution": {
     "iopub.execute_input": "2021-12-09T20:09:02.333098Z",
     "iopub.status.busy": "2021-12-09T20:09:02.332077Z",
     "iopub.status.idle": "2021-12-09T20:09:02.346389Z",
     "shell.execute_reply": "2021-12-09T20:09:02.346736Z"
    },
    "papermill": {
     "duration": 0.045222,
     "end_time": "2021-12-09T20:09:02.346860",
     "exception": false,
     "start_time": "2021-12-09T20:09:02.301638",
     "status": "completed"
    },
    "tags": []
   },
   "outputs": [],
   "source": [
    "train_filter = np.where((train_labels == 3 ) | (train_labels == 8))\n",
    "test_filter = np.where((test_labels == 3) | (test_labels == 8))\n",
    "X_train, y_train = train_images[train_filter], train_labels[train_filter]\n",
    "X_test, y_test = test_images[test_filter], test_labels[test_filter]"
   ]
  },
  {
   "cell_type": "markdown",
   "id": "948f0b7e",
   "metadata": {
    "papermill": {
     "duration": 0.023486,
     "end_time": "2021-12-09T20:09:02.394034",
     "exception": false,
     "start_time": "2021-12-09T20:09:02.370548",
     "status": "completed"
    },
    "tags": []
   },
   "source": [
    "We normalize the pizel values in the 0 to 1 range"
   ]
  },
  {
   "cell_type": "code",
   "execution_count": 11,
   "id": "ee4c2166",
   "metadata": {
    "execution": {
     "iopub.execute_input": "2021-12-09T20:09:02.444593Z",
     "iopub.status.busy": "2021-12-09T20:09:02.444121Z",
     "iopub.status.idle": "2021-12-09T20:09:02.491233Z",
     "shell.execute_reply": "2021-12-09T20:09:02.490720Z"
    },
    "papermill": {
     "duration": 0.073741,
     "end_time": "2021-12-09T20:09:02.491370",
     "exception": false,
     "start_time": "2021-12-09T20:09:02.417629",
     "status": "completed"
    },
    "tags": []
   },
   "outputs": [],
   "source": [
    "X_train = X_train/255.\n",
    "X_test = X_test/255."
   ]
  },
  {
   "cell_type": "markdown",
   "id": "ddcf4fab",
   "metadata": {
    "papermill": {
     "duration": 0.023788,
     "end_time": "2021-12-09T20:09:02.541186",
     "exception": false,
     "start_time": "2021-12-09T20:09:02.517398",
     "status": "completed"
    },
    "tags": []
   },
   "source": [
    "And setup the labels as 1 (when the digit is 3) and 0 (when the digit is 8)"
   ]
  },
  {
   "cell_type": "code",
   "execution_count": 12,
   "id": "7dc908f2",
   "metadata": {
    "execution": {
     "iopub.execute_input": "2021-12-09T20:09:02.592231Z",
     "iopub.status.busy": "2021-12-09T20:09:02.591754Z",
     "iopub.status.idle": "2021-12-09T20:09:02.603351Z",
     "shell.execute_reply": "2021-12-09T20:09:02.602529Z"
    },
    "papermill": {
     "duration": 0.038634,
     "end_time": "2021-12-09T20:09:02.603458",
     "exception": false,
     "start_time": "2021-12-09T20:09:02.564824",
     "status": "completed"
    },
    "tags": []
   },
   "outputs": [],
   "source": [
    "y_train = 1*(y_train==3)\n",
    "y_test = 1*(y_test==3)"
   ]
  },
  {
   "cell_type": "code",
   "execution_count": 13,
   "id": "01e4e969",
   "metadata": {
    "execution": {
     "iopub.execute_input": "2021-12-09T20:09:02.654398Z",
     "iopub.status.busy": "2021-12-09T20:09:02.653769Z",
     "iopub.status.idle": "2021-12-09T20:09:02.665098Z",
     "shell.execute_reply": "2021-12-09T20:09:02.664681Z"
    },
    "papermill": {
     "duration": 0.038122,
     "end_time": "2021-12-09T20:09:02.665212",
     "exception": false,
     "start_time": "2021-12-09T20:09:02.627090",
     "status": "completed"
    },
    "tags": []
   },
   "outputs": [
    {
     "data": {
      "text/plain": [
       "((11982, 28, 28), (1984, 28, 28))"
      ]
     },
     "execution_count": 13,
     "metadata": {},
     "output_type": "execute_result"
    }
   ],
   "source": [
    "X_train.shape, X_test.shape"
   ]
  },
  {
   "cell_type": "markdown",
   "id": "5ccf3f85",
   "metadata": {
    "papermill": {
     "duration": 0.026866,
     "end_time": "2021-12-09T20:09:02.719091",
     "exception": false,
     "start_time": "2021-12-09T20:09:02.692225",
     "status": "completed"
    },
    "tags": []
   },
   "source": [
    "We reshape the data to flatten the image pixels into a set of features or co-variates:"
   ]
  },
  {
   "cell_type": "code",
   "execution_count": 14,
   "id": "5286a4a3",
   "metadata": {
    "execution": {
     "iopub.execute_input": "2021-12-09T20:09:02.779054Z",
     "iopub.status.busy": "2021-12-09T20:09:02.778523Z",
     "iopub.status.idle": "2021-12-09T20:09:02.790439Z",
     "shell.execute_reply": "2021-12-09T20:09:02.790822Z"
    },
    "papermill": {
     "duration": 0.044812,
     "end_time": "2021-12-09T20:09:02.790959",
     "exception": false,
     "start_time": "2021-12-09T20:09:02.746147",
     "status": "completed"
    },
    "tags": []
   },
   "outputs": [
    {
     "data": {
      "text/plain": [
       "((11982, 784), (1984, 784))"
      ]
     },
     "execution_count": 14,
     "metadata": {},
     "output_type": "execute_result"
    }
   ],
   "source": [
    "X_train = X_train.reshape(X_train.shape[0], -1)\n",
    "X_test = X_test.reshape(X_test.shape[0], -1)\n",
    "X_train.shape, X_test.shape"
   ]
  },
  {
   "cell_type": "code",
   "execution_count": 15,
   "id": "73c5f88a",
   "metadata": {
    "execution": {
     "iopub.execute_input": "2021-12-09T20:09:02.858878Z",
     "iopub.status.busy": "2021-12-09T20:09:02.854834Z",
     "iopub.status.idle": "2021-12-09T20:09:02.869080Z",
     "shell.execute_reply": "2021-12-09T20:09:02.868648Z"
    },
    "papermill": {
     "duration": 0.050841,
     "end_time": "2021-12-09T20:09:02.869198",
     "exception": false,
     "start_time": "2021-12-09T20:09:02.818357",
     "status": "completed"
    },
    "tags": []
   },
   "outputs": [],
   "source": [
    "#Impoting functions from 'Kudzu'\n",
    "from kudzu.model import Model\n",
    "from kudzu.train import Learner\n",
    "from kudzu.optim import GD\n",
    "from kudzu.data import Data, Sampler,Dataloader\n",
    "\n",
    "from kudzu.callbacks import AccCallback\n",
    "from kudzu.callbacks import ClfCallback\n",
    "\n",
    "from kudzu.loss import MSE\n",
    "\n",
    "from kudzu.layer import Sigmoid,Relu\n",
    "from kudzu.layer import Affine"
   ]
  },
  {
   "cell_type": "markdown",
   "id": "bc01172a",
   "metadata": {
    "papermill": {
     "duration": 0.027355,
     "end_time": "2021-12-09T20:09:02.924018",
     "exception": false,
     "start_time": "2021-12-09T20:09:02.896663",
     "status": "completed"
    },
    "tags": []
   },
   "source": [
    "### Let us create a `Config` class, to store important parameters. \n",
    "This class essentially plays the role of a dictionary."
   ]
  },
  {
   "cell_type": "code",
   "execution_count": 16,
   "id": "978281aa",
   "metadata": {
    "execution": {
     "iopub.execute_input": "2021-12-09T20:09:02.982501Z",
     "iopub.status.busy": "2021-12-09T20:09:02.981969Z",
     "iopub.status.idle": "2021-12-09T20:09:02.993910Z",
     "shell.execute_reply": "2021-12-09T20:09:02.993468Z"
    },
    "papermill": {
     "duration": 0.042693,
     "end_time": "2021-12-09T20:09:02.994029",
     "exception": false,
     "start_time": "2021-12-09T20:09:02.951336",
     "status": "completed"
    },
    "tags": []
   },
   "outputs": [],
   "source": [
    "class Config:\n",
    "    pass\n",
    "config = Config()\n",
    "config.lr = 0.001\n",
    "config.num_epochs = 250\n",
    "config.bs = 50"
   ]
  },
  {
   "cell_type": "markdown",
   "id": "1385fa59",
   "metadata": {
    "papermill": {
     "duration": 0.027388,
     "end_time": "2021-12-09T20:09:03.048814",
     "exception": false,
     "start_time": "2021-12-09T20:09:03.021426",
     "status": "completed"
    },
    "tags": []
   },
   "source": [
    "### Running Models with the Training data\n",
    "Details about the network layers:\n",
    "- A first affine layer has 784 inputs and does 100 affine transforms. These are followed by a Relu\n",
    "- A second affine layer has 100 inputs from the 100 activations of the past layer, and does 100 affine transforms. These are followed by a Relu\n",
    "- A third affine layer has 100 activations and does 2 affine transformations to create an embedding for visualization. There is no non-linearity here.\n",
    "- A final \"logistic regression\" which has an affine transform from 2 inputs to 1 output, which is squeezed through a sigmoid.\n"
   ]
  },
  {
   "cell_type": "code",
   "execution_count": 17,
   "id": "2b9c66db",
   "metadata": {
    "execution": {
     "iopub.execute_input": "2021-12-09T20:09:03.107303Z",
     "iopub.status.busy": "2021-12-09T20:09:03.106787Z",
     "iopub.status.idle": "2021-12-09T20:09:03.117314Z",
     "shell.execute_reply": "2021-12-09T20:09:03.117779Z"
    },
    "papermill": {
     "duration": 0.041798,
     "end_time": "2021-12-09T20:09:03.117916",
     "exception": false,
     "start_time": "2021-12-09T20:09:03.076118",
     "status": "completed"
    },
    "tags": []
   },
   "outputs": [],
   "source": [
    "data = Data(X_train, y_train.reshape(-1,1))\n",
    "sampler = Sampler(data, config.bs, shuffle=True)\n",
    "\n",
    "dl = Dataloader(data, sampler)\n",
    "\n",
    "opt = GD(config.lr)\n",
    "loss = MSE()"
   ]
  },
  {
   "cell_type": "code",
   "execution_count": 18,
   "id": "b275e4c2",
   "metadata": {
    "execution": {
     "iopub.execute_input": "2021-12-09T20:09:03.181379Z",
     "iopub.status.busy": "2021-12-09T20:09:03.180859Z",
     "iopub.status.idle": "2021-12-09T20:09:03.189217Z",
     "shell.execute_reply": "2021-12-09T20:09:03.188802Z"
    },
    "papermill": {
     "duration": 0.043808,
     "end_time": "2021-12-09T20:09:03.189330",
     "exception": false,
     "start_time": "2021-12-09T20:09:03.145522",
     "status": "completed"
    },
    "tags": []
   },
   "outputs": [],
   "source": [
    "training_data_x = X_train\n",
    "testing_data_x = X_test\n",
    "training_data_y = y_train.reshape(-1,1)\n",
    "testing_data_y = y_test.reshape(-1,1)"
   ]
  },
  {
   "cell_type": "code",
   "execution_count": 19,
   "id": "76951160",
   "metadata": {
    "execution": {
     "iopub.execute_input": "2021-12-09T20:09:03.248582Z",
     "iopub.status.busy": "2021-12-09T20:09:03.248057Z",
     "iopub.status.idle": "2021-12-09T20:09:03.263043Z",
     "shell.execute_reply": "2021-12-09T20:09:03.262628Z"
    },
    "papermill": {
     "duration": 0.046504,
     "end_time": "2021-12-09T20:09:03.263157",
     "exception": false,
     "start_time": "2021-12-09T20:09:03.216653",
     "status": "completed"
    },
    "tags": []
   },
   "outputs": [
    {
     "name": "stdout",
     "output_type": "stream",
     "text": [
      "xavier\n",
      "xavier\n",
      "xavier\n",
      "xavier\n",
      "xavier\n"
     ]
    }
   ],
   "source": [
    "layers = [Affine(\"first\", 784, 100), Relu(\"first\"), Affine(\"second\", 100, 100), Relu(\"second\"), Affine(\"third\", 100, 2), Affine(\"last\", 2, 1), Sigmoid(\"last\")]\n",
    "model_nn = Model(layers)\n",
    "model_lr = Model([Affine(\"logits\", 784, 1), Sigmoid(\"sigmoid\")])"
   ]
  },
  {
   "cell_type": "code",
   "execution_count": 20,
   "id": "6eede77a",
   "metadata": {
    "execution": {
     "iopub.execute_input": "2021-12-09T20:09:03.322477Z",
     "iopub.status.busy": "2021-12-09T20:09:03.321955Z",
     "iopub.status.idle": "2021-12-09T20:09:03.332834Z",
     "shell.execute_reply": "2021-12-09T20:09:03.332418Z"
    },
    "papermill": {
     "duration": 0.042144,
     "end_time": "2021-12-09T20:09:03.332947",
     "exception": false,
     "start_time": "2021-12-09T20:09:03.290803",
     "status": "completed"
    },
    "tags": []
   },
   "outputs": [],
   "source": [
    "nn_learner = Learner(loss, model_nn, opt, config.num_epochs)\n",
    "acc_nn = ClfCallback(nn_learner, config.bs, training_data_x , testing_data_x, training_data_y, testing_data_y)\n",
    "nn_learner.set_callbacks([acc_nn])"
   ]
  },
  {
   "cell_type": "code",
   "execution_count": 21,
   "id": "877b6cc7",
   "metadata": {
    "execution": {
     "iopub.execute_input": "2021-12-09T20:09:03.392103Z",
     "iopub.status.busy": "2021-12-09T20:09:03.391596Z",
     "iopub.status.idle": "2021-12-09T20:09:03.402989Z",
     "shell.execute_reply": "2021-12-09T20:09:03.402577Z"
    },
    "papermill": {
     "duration": 0.042553,
     "end_time": "2021-12-09T20:09:03.403100",
     "exception": false,
     "start_time": "2021-12-09T20:09:03.360547",
     "status": "completed"
    },
    "tags": []
   },
   "outputs": [],
   "source": [
    "lr_learner = Learner(loss, model_lr, opt, config.num_epochs)\n",
    "acc_lr = ClfCallback(lr_learner, config.bs, training_data_x , testing_data_x, training_data_y, testing_data_y)\n",
    "lr_learner.set_callbacks([acc_lr])"
   ]
  },
  {
   "cell_type": "code",
   "execution_count": 22,
   "id": "d9b133c3",
   "metadata": {
    "execution": {
     "iopub.execute_input": "2021-12-09T20:09:03.461995Z",
     "iopub.status.busy": "2021-12-09T20:09:03.461450Z",
     "iopub.status.idle": "2021-12-09T20:10:13.668282Z",
     "shell.execute_reply": "2021-12-09T20:10:13.668989Z"
    },
    "papermill": {
     "duration": 70.238484,
     "end_time": "2021-12-09T20:10:13.669126",
     "exception": false,
     "start_time": "2021-12-09T20:09:03.430642",
     "status": "completed"
    },
    "tags": []
   },
   "outputs": [
    {
     "name": "stdout",
     "output_type": "stream",
     "text": [
      "Epoch 0, Loss 0.2431\n",
      "Training Accuracy: 0.6346, Testing Accuracy: 0.6074\n",
      "\n"
     ]
    },
    {
     "name": "stdout",
     "output_type": "stream",
     "text": [
      "Epoch 10, Loss 0.1635\n",
      "Training Accuracy: 0.8908, Testing Accuracy: 0.9032\n",
      "\n"
     ]
    },
    {
     "name": "stdout",
     "output_type": "stream",
     "text": [
      "Epoch 20, Loss 0.0826\n",
      "Training Accuracy: 0.9223, Testing Accuracy: 0.9345\n",
      "\n"
     ]
    },
    {
     "name": "stdout",
     "output_type": "stream",
     "text": [
      "Epoch 30, Loss 0.0563\n",
      "Training Accuracy: 0.9402, Testing Accuracy: 0.9496\n",
      "\n"
     ]
    },
    {
     "name": "stdout",
     "output_type": "stream",
     "text": [
      "Epoch 40, Loss 0.0449\n",
      "Training Accuracy: 0.9508, Testing Accuracy: 0.9592\n",
      "\n"
     ]
    },
    {
     "name": "stdout",
     "output_type": "stream",
     "text": [
      "Epoch 50, Loss 0.0388\n",
      "Training Accuracy: 0.9568, Testing Accuracy: 0.9667\n",
      "\n"
     ]
    },
    {
     "name": "stdout",
     "output_type": "stream",
     "text": [
      "Epoch 60, Loss 0.0351\n",
      "Training Accuracy: 0.9599, Testing Accuracy: 0.9682\n",
      "\n"
     ]
    },
    {
     "name": "stdout",
     "output_type": "stream",
     "text": [
      "Epoch 70, Loss 0.0326\n",
      "Training Accuracy: 0.9634, Testing Accuracy: 0.9693\n",
      "\n"
     ]
    },
    {
     "name": "stdout",
     "output_type": "stream",
     "text": [
      "Epoch 80, Loss 0.0308\n",
      "Training Accuracy: 0.9648, Testing Accuracy: 0.9698\n",
      "\n"
     ]
    },
    {
     "name": "stdout",
     "output_type": "stream",
     "text": [
      "Epoch 90, Loss 0.0293\n",
      "Training Accuracy: 0.9659, Testing Accuracy: 0.9708\n",
      "\n"
     ]
    },
    {
     "name": "stdout",
     "output_type": "stream",
     "text": [
      "Epoch 100, Loss 0.0282\n",
      "Training Accuracy: 0.9666, Testing Accuracy: 0.9723\n",
      "\n"
     ]
    },
    {
     "name": "stdout",
     "output_type": "stream",
     "text": [
      "Epoch 110, Loss 0.0272\n",
      "Training Accuracy: 0.9678, Testing Accuracy: 0.9723\n",
      "\n"
     ]
    },
    {
     "name": "stdout",
     "output_type": "stream",
     "text": [
      "Epoch 120, Loss 0.0263\n",
      "Training Accuracy: 0.9686, Testing Accuracy: 0.9723\n",
      "\n"
     ]
    },
    {
     "name": "stdout",
     "output_type": "stream",
     "text": [
      "Epoch 130, Loss 0.0256\n",
      "Training Accuracy: 0.9697, Testing Accuracy: 0.9728\n",
      "\n"
     ]
    },
    {
     "name": "stdout",
     "output_type": "stream",
     "text": [
      "Epoch 140, Loss 0.0249\n",
      "Training Accuracy: 0.9704, Testing Accuracy: 0.9728\n",
      "\n"
     ]
    },
    {
     "name": "stdout",
     "output_type": "stream",
     "text": [
      "Epoch 150, Loss 0.0243\n",
      "Training Accuracy: 0.9707, Testing Accuracy: 0.9733\n",
      "\n"
     ]
    },
    {
     "name": "stdout",
     "output_type": "stream",
     "text": [
      "Epoch 160, Loss 0.0237\n",
      "Training Accuracy: 0.9713, Testing Accuracy: 0.9733\n",
      "\n"
     ]
    },
    {
     "name": "stdout",
     "output_type": "stream",
     "text": [
      "Epoch 170, Loss 0.0232\n",
      "Training Accuracy: 0.9720, Testing Accuracy: 0.9733\n",
      "\n"
     ]
    },
    {
     "name": "stdout",
     "output_type": "stream",
     "text": [
      "Epoch 180, Loss 0.0227\n",
      "Training Accuracy: 0.9728, Testing Accuracy: 0.9738\n",
      "\n"
     ]
    },
    {
     "name": "stdout",
     "output_type": "stream",
     "text": [
      "Epoch 190, Loss 0.0223\n",
      "Training Accuracy: 0.9738, Testing Accuracy: 0.9748\n",
      "\n"
     ]
    },
    {
     "name": "stdout",
     "output_type": "stream",
     "text": [
      "Epoch 200, Loss 0.0218\n",
      "Training Accuracy: 0.9744, Testing Accuracy: 0.9743\n",
      "\n"
     ]
    },
    {
     "name": "stdout",
     "output_type": "stream",
     "text": [
      "Epoch 210, Loss 0.0214\n",
      "Training Accuracy: 0.9748, Testing Accuracy: 0.9743\n",
      "\n"
     ]
    },
    {
     "name": "stdout",
     "output_type": "stream",
     "text": [
      "Epoch 220, Loss 0.021\n",
      "Training Accuracy: 0.9753, Testing Accuracy: 0.9748\n",
      "\n"
     ]
    },
    {
     "name": "stdout",
     "output_type": "stream",
     "text": [
      "Epoch 230, Loss 0.0206\n",
      "Training Accuracy: 0.9765, Testing Accuracy: 0.9743\n",
      "\n"
     ]
    },
    {
     "name": "stdout",
     "output_type": "stream",
     "text": [
      "Epoch 240, Loss 0.0202\n",
      "Training Accuracy: 0.9771, Testing Accuracy: 0.9743\n",
      "\n"
     ]
    },
    {
     "data": {
      "text/plain": [
       "0.02472583491843488"
      ]
     },
     "execution_count": 22,
     "metadata": {},
     "output_type": "execute_result"
    }
   ],
   "source": [
    "nn_learner.train_loop(dl)"
   ]
  },
  {
   "cell_type": "code",
   "execution_count": 23,
   "id": "e0163366",
   "metadata": {
    "execution": {
     "iopub.execute_input": "2021-12-09T20:10:13.739203Z",
     "iopub.status.busy": "2021-12-09T20:10:13.738742Z",
     "iopub.status.idle": "2021-12-09T20:10:26.169742Z",
     "shell.execute_reply": "2021-12-09T20:10:26.170386Z"
    },
    "papermill": {
     "duration": 12.470592,
     "end_time": "2021-12-09T20:10:26.170522",
     "exception": false,
     "start_time": "2021-12-09T20:10:13.699930",
     "status": "completed"
    },
    "tags": []
   },
   "outputs": [
    {
     "name": "stdout",
     "output_type": "stream",
     "text": [
      "Epoch 0, Loss 0.2531\n",
      "Training Accuracy: 0.6493, Testing Accuracy: 0.6729\n",
      "\n"
     ]
    },
    {
     "name": "stdout",
     "output_type": "stream",
     "text": [
      "Epoch 10, Loss 0.1027\n",
      "Training Accuracy: 0.9104, Testing Accuracy: 0.9214\n",
      "\n"
     ]
    },
    {
     "name": "stdout",
     "output_type": "stream",
     "text": [
      "Epoch 20, Loss 0.0791\n",
      "Training Accuracy: 0.9276, Testing Accuracy: 0.9390\n",
      "\n"
     ]
    },
    {
     "name": "stdout",
     "output_type": "stream",
     "text": [
      "Epoch 30, Loss 0.0683\n",
      "Training Accuracy: 0.9365, Testing Accuracy: 0.9451\n",
      "\n"
     ]
    },
    {
     "name": "stdout",
     "output_type": "stream",
     "text": [
      "Epoch 40, Loss 0.0617\n",
      "Training Accuracy: 0.9410, Testing Accuracy: 0.9486\n",
      "\n"
     ]
    },
    {
     "name": "stdout",
     "output_type": "stream",
     "text": [
      "Epoch 50, Loss 0.0573\n",
      "Training Accuracy: 0.9442, Testing Accuracy: 0.9536\n",
      "\n"
     ]
    },
    {
     "name": "stdout",
     "output_type": "stream",
     "text": [
      "Epoch 60, Loss 0.054\n",
      "Training Accuracy: 0.9474, Testing Accuracy: 0.9567\n",
      "\n"
     ]
    },
    {
     "name": "stdout",
     "output_type": "stream",
     "text": [
      "Epoch 70, Loss 0.0514\n",
      "Training Accuracy: 0.9490, Testing Accuracy: 0.9587\n",
      "\n"
     ]
    },
    {
     "name": "stdout",
     "output_type": "stream",
     "text": [
      "Epoch 80, Loss 0.0494\n",
      "Training Accuracy: 0.9513, Testing Accuracy: 0.9592\n",
      "\n"
     ]
    },
    {
     "name": "stdout",
     "output_type": "stream",
     "text": [
      "Epoch 90, Loss 0.0477\n",
      "Training Accuracy: 0.9518, Testing Accuracy: 0.9607\n",
      "\n"
     ]
    },
    {
     "name": "stdout",
     "output_type": "stream",
     "text": [
      "Epoch 100, Loss 0.0463\n",
      "Training Accuracy: 0.9524, Testing Accuracy: 0.9612\n",
      "\n"
     ]
    },
    {
     "name": "stdout",
     "output_type": "stream",
     "text": [
      "Epoch 110, Loss 0.0451\n",
      "Training Accuracy: 0.9531, Testing Accuracy: 0.9617\n",
      "\n"
     ]
    },
    {
     "name": "stdout",
     "output_type": "stream",
     "text": [
      "Epoch 120, Loss 0.044\n",
      "Training Accuracy: 0.9539, Testing Accuracy: 0.9632\n",
      "\n"
     ]
    },
    {
     "name": "stdout",
     "output_type": "stream",
     "text": [
      "Epoch 130, Loss 0.0431\n",
      "Training Accuracy: 0.9547, Testing Accuracy: 0.9637\n",
      "\n"
     ]
    },
    {
     "name": "stdout",
     "output_type": "stream",
     "text": [
      "Epoch 140, Loss 0.0422\n",
      "Training Accuracy: 0.9560, Testing Accuracy: 0.9637\n",
      "\n"
     ]
    },
    {
     "name": "stdout",
     "output_type": "stream",
     "text": [
      "Epoch 150, Loss 0.0415\n",
      "Training Accuracy: 0.9567, Testing Accuracy: 0.9637\n",
      "\n"
     ]
    },
    {
     "name": "stdout",
     "output_type": "stream",
     "text": [
      "Epoch 160, Loss 0.0408\n",
      "Training Accuracy: 0.9575, Testing Accuracy: 0.9642\n",
      "\n"
     ]
    },
    {
     "name": "stdout",
     "output_type": "stream",
     "text": [
      "Epoch 170, Loss 0.0402\n",
      "Training Accuracy: 0.9580, Testing Accuracy: 0.9647\n",
      "\n"
     ]
    },
    {
     "name": "stdout",
     "output_type": "stream",
     "text": [
      "Epoch 180, Loss 0.0396\n",
      "Training Accuracy: 0.9590, Testing Accuracy: 0.9647\n",
      "\n"
     ]
    },
    {
     "name": "stdout",
     "output_type": "stream",
     "text": [
      "Epoch 190, Loss 0.0391\n",
      "Training Accuracy: 0.9592, Testing Accuracy: 0.9652\n",
      "\n"
     ]
    },
    {
     "name": "stdout",
     "output_type": "stream",
     "text": [
      "Epoch 200, Loss 0.0386\n",
      "Training Accuracy: 0.9594, Testing Accuracy: 0.9657\n",
      "\n"
     ]
    },
    {
     "name": "stdout",
     "output_type": "stream",
     "text": [
      "Epoch 210, Loss 0.0382\n",
      "Training Accuracy: 0.9599, Testing Accuracy: 0.9657\n",
      "\n"
     ]
    },
    {
     "name": "stdout",
     "output_type": "stream",
     "text": [
      "Epoch 220, Loss 0.0378\n",
      "Training Accuracy: 0.9599, Testing Accuracy: 0.9652\n",
      "\n"
     ]
    },
    {
     "name": "stdout",
     "output_type": "stream",
     "text": [
      "Epoch 230, Loss 0.0374\n",
      "Training Accuracy: 0.9602, Testing Accuracy: 0.9652\n",
      "\n"
     ]
    },
    {
     "name": "stdout",
     "output_type": "stream",
     "text": [
      "Epoch 240, Loss 0.037\n",
      "Training Accuracy: 0.9606, Testing Accuracy: 0.9652\n",
      "\n"
     ]
    },
    {
     "data": {
      "text/plain": [
       "0.05396120133902149"
      ]
     },
     "execution_count": 23,
     "metadata": {},
     "output_type": "execute_result"
    }
   ],
   "source": [
    "lr_learner.train_loop(dl)"
   ]
  },
  {
   "cell_type": "code",
   "execution_count": 24,
   "id": "ca410940",
   "metadata": {
    "execution": {
     "iopub.execute_input": "2021-12-09T20:10:26.254924Z",
     "iopub.status.busy": "2021-12-09T20:10:26.254454Z",
     "iopub.status.idle": "2021-12-09T20:10:26.460641Z",
     "shell.execute_reply": "2021-12-09T20:10:26.459774Z"
    },
    "papermill": {
     "duration": 0.253627,
     "end_time": "2021-12-09T20:10:26.460761",
     "exception": false,
     "start_time": "2021-12-09T20:10:26.207134",
     "status": "completed"
    },
    "tags": []
   },
   "outputs": [
    {
     "data": {
      "text/plain": [
       "<matplotlib.legend.Legend at 0x7f54cd488ba8>"
      ]
     },
     "execution_count": 24,
     "metadata": {},
     "output_type": "execute_result"
    },
    {
     "data": {
      "image/png": "[encoded data removed]",
      "text/plain": [
       "<Figure size 1080x720 with 1 Axes>"
      ]
     },
     "metadata": {
      "needs_background": "light"
     },
     "output_type": "display_data"
    }
   ],
   "source": [
    "#comparing the results of NN and LR\n",
    "plt.figure(figsize=(15,10))\n",
    "\n",
    "# Neural Network plots\n",
    "plt.plot(acc_nn.accuracies, 'r-', label = \"Training Accuracies - NN\")\n",
    "plt.plot(acc_nn.test_accuracies, 'g-', label = \"Testing Accuracies - NN\")\n",
    "\n",
    "# Logistic Regression plots\n",
    "plt.plot(acc_lr.accuracies, 'k-', label = \"Training Accuracies - LR\")\n",
    "plt.plot(acc_lr.test_accuracies, 'b-', label = \"Testing Accuracies - LR\")\n",
    "plt.legend()"
   ]
  },
  {
   "cell_type": "markdown",
   "id": "80dfb35c",
   "metadata": {
    "papermill": {
     "duration": 0.037288,
     "end_time": "2021-12-09T20:10:26.536155",
     "exception": false,
     "start_time": "2021-12-09T20:10:26.498867",
     "status": "completed"
    },
    "tags": []
   },
   "source": [
    "#### Plotting the outputs of this layer of the NN.\n"
   ]
  },
  {
   "cell_type": "code",
   "execution_count": 25,
   "id": "45eb2ff5",
   "metadata": {
    "execution": {
     "iopub.execute_input": "2021-12-09T20:10:26.614726Z",
     "iopub.status.busy": "2021-12-09T20:10:26.614109Z",
     "iopub.status.idle": "2021-12-09T20:10:26.631760Z",
     "shell.execute_reply": "2021-12-09T20:10:26.631305Z"
    },
    "papermill": {
     "duration": 0.058482,
     "end_time": "2021-12-09T20:10:26.631882",
     "exception": false,
     "start_time": "2021-12-09T20:10:26.573400",
     "status": "completed"
    },
    "tags": []
   },
   "outputs": [],
   "source": [
    "new_model = Model(layers[:-2])\n",
    "testing_plot = new_model(testing_data_x)"
   ]
  },
  {
   "cell_type": "code",
   "execution_count": 26,
   "id": "4c0a5485",
   "metadata": {
    "execution": {
     "iopub.execute_input": "2021-12-09T20:10:26.721451Z",
     "iopub.status.busy": "2021-12-09T20:10:26.720941Z",
     "iopub.status.idle": "2021-12-09T20:10:26.888606Z",
     "shell.execute_reply": "2021-12-09T20:10:26.888198Z"
    },
    "papermill": {
     "duration": 0.213334,
     "end_time": "2021-12-09T20:10:26.888715",
     "exception": false,
     "start_time": "2021-12-09T20:10:26.675381",
     "status": "completed"
    },
    "tags": []
   },
   "outputs": [
    {
     "data": {
      "text/plain": [
       "Text(0.5, 1.0, 'Outputs')"
      ]
     },
     "execution_count": 26,
     "metadata": {},
     "output_type": "execute_result"
    },
    {
     "data": {
      "image/png": "[encoded data removed]",
      "text/plain": [
       "<Figure size 576x504 with 1 Axes>"
      ]
     },
     "metadata": {
      "needs_background": "light"
     },
     "output_type": "display_data"
    }
   ],
   "source": [
    "# Plotting the scatter plot of points and color coding by class\n",
    "plt.figure(figsize=(8,7))\n",
    "plt.scatter(testing_plot[:,0], testing_plot[:,1], alpha = 0.1, c = y_test.ravel());\n",
    "plt.title('Outputs')"
   ]
  },
  {
   "cell_type": "markdown",
   "id": "a74fcf8f",
   "metadata": {
    "papermill": {
     "duration": 0.038959,
     "end_time": "2021-12-09T20:10:26.966759",
     "exception": false,
     "start_time": "2021-12-09T20:10:26.927800",
     "status": "completed"
    },
    "tags": []
   },
   "source": [
    "Probability contours"
   ]
  },
  {
   "cell_type": "code",
   "execution_count": 27,
   "id": "d0afc8e3",
   "metadata": {
    "execution": {
     "iopub.execute_input": "2021-12-09T20:10:27.047839Z",
     "iopub.status.busy": "2021-12-09T20:10:27.047362Z",
     "iopub.status.idle": "2021-12-09T20:10:27.058807Z",
     "shell.execute_reply": "2021-12-09T20:10:27.058358Z"
    },
    "papermill": {
     "duration": 0.053301,
     "end_time": "2021-12-09T20:10:27.058905",
     "exception": false,
     "start_time": "2021-12-09T20:10:27.005604",
     "status": "completed"
    },
    "tags": []
   },
   "outputs": [],
   "source": [
    "model_prob = Model(layers[-2:]) "
   ]
  },
  {
   "cell_type": "code",
   "execution_count": 28,
   "id": "9b96e238",
   "metadata": {
    "execution": {
     "iopub.execute_input": "2021-12-09T20:10:27.165325Z",
     "iopub.status.busy": "2021-12-09T20:10:27.164863Z",
     "iopub.status.idle": "2021-12-09T20:10:27.177440Z",
     "shell.execute_reply": "2021-12-09T20:10:27.177832Z"
    },
    "papermill": {
     "duration": 0.080356,
     "end_time": "2021-12-09T20:10:27.177952",
     "exception": false,
     "start_time": "2021-12-09T20:10:27.097596",
     "status": "completed"
    },
    "tags": []
   },
   "outputs": [],
   "source": [
    "#creating the x and y ranges according to the above generated plot.\n",
    "x_range = np.linspace(-4, 1, 100) \n",
    "y_range = np.linspace(-6, 6, 100) \n",
    "x_grid, y_grid = np.meshgrid(x_range, y_range) # x_grid and y_grig are of size 100 X 100\n",
    "\n",
    "# converting x_grid and y_grid to continuous arrays\n",
    "x_gridflat = np.ravel(x_grid)\n",
    "y_gridflat = np.ravel(y_grid)\n",
    "\n",
    "# The last layer of the current model takes two columns as input. Hence transpose of np.vstack() is required.\n",
    "X = np.vstack((x_gridflat, y_gridflat)).T\n",
    "\n",
    "prob_contour = model_prob(X).reshape(100,100) "
   ]
  },
  {
   "cell_type": "code",
   "execution_count": 29,
   "id": "da72499a",
   "metadata": {
    "execution": {
     "iopub.execute_input": "2021-12-09T20:10:27.267300Z",
     "iopub.status.busy": "2021-12-09T20:10:27.266834Z",
     "iopub.status.idle": "2021-12-09T20:10:27.504295Z",
     "shell.execute_reply": "2021-12-09T20:10:27.503472Z"
    },
    "papermill": {
     "duration": 0.286651,
     "end_time": "2021-12-09T20:10:27.504431",
     "exception": false,
     "start_time": "2021-12-09T20:10:27.217780",
     "status": "completed"
    },
    "tags": []
   },
   "outputs": [
    {
     "data": {
      "image/png": "[encoded data removed]",
      "text/plain": [
       "<Figure size 720x648 with 1 Axes>"
      ]
     },
     "metadata": {
      "needs_background": "light"
     },
     "output_type": "display_data"
    }
   ],
   "source": [
    "plt.figure(figsize=(10,9))\n",
    "plt.scatter(testing_plot[:,0], testing_plot[:,1], alpha = 0.1, c = y_test.ravel())\n",
    "contours = plt.contour(x_grid,y_grid,prob_contour)\n",
    "plt.title('Probability Contours')\n",
    "plt.clabel(contours, inline = True );"
   ]
  },
  {
   "cell_type": "code",
   "execution_count": null,
   "id": "e81b4ac7",
   "metadata": {
    "papermill": {
     "duration": 0.041268,
     "end_time": "2021-12-09T20:10:27.588247",
     "exception": false,
     "start_time": "2021-12-09T20:10:27.546979",
     "status": "completed"
    },
    "tags": []
   },
   "outputs": [],
   "source": []
  }
 ],
 "metadata": {
  "kernelspec": {
   "display_name": "Python 3",
   "language": "python",
   "name": "python3"
  },
  "language_info": {
   "codemirror_mode": {
    "name": "ipython",
    "version": 3
   },
   "file_extension": ".py",
   "mimetype": "text/x-python",
   "name": "python",
   "nbconvert_exporter": "python",
   "pygments_lexer": "ipython3",
   "version": "3.6.15"
  },
  "papermill": {
   "default_parameters": {},
   "duration": 90.755062,
   "end_time": "2021-12-09T20:10:27.936812",
   "environment_variables": {},
   "exception": null,
   "input_path": "2020-08-11-part2.ipynb",
   "output_path": "2020-08-11-part2.ipynb",
   "parameters": {},
   "start_time": "2021-12-09T20:08:57.181750",
   "version": "2.3.3"
  }
 },
 "nbformat": 4,
 "nbformat_minor": 5
}