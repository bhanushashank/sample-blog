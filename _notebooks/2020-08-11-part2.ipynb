{
 "cells": [
  {
   "cell_type": "markdown",
   "id": "98380cd3",
   "metadata": {
    "papermill": {
     "duration": 0.038537,
     "end_time": "2022-01-29T10:09:12.236122",
     "exception": false,
     "start_time": "2022-01-29T10:09:12.197585",
     "status": "completed"
    },
    "tags": []
   },
   "source": [
    "# Distinguish Your Own Digits (DYOD)"
   ]
  },
  {
   "cell_type": "markdown",
   "id": "ef31240d",
   "metadata": {
    "papermill": {
     "duration": 0.028705,
     "end_time": "2022-01-29T10:09:12.293981",
     "exception": false,
     "start_time": "2022-01-29T10:09:12.265276",
     "status": "completed"
    },
    "tags": []
   },
   "source": [
    "You are going to write a classifier that distinguishes between the number 3 and number 8."
   ]
  },
  {
   "cell_type": "code",
   "execution_count": 1,
   "id": "b15c8646",
   "metadata": {
    "execution": {
     "iopub.execute_input": "2022-01-29T10:09:12.364013Z",
     "iopub.status.busy": "2022-01-29T10:09:12.363244Z",
     "iopub.status.idle": "2022-01-29T10:09:12.375293Z",
     "shell.execute_reply": "2022-01-29T10:09:12.375774Z"
    },
    "papermill": {
     "duration": 0.05373,
     "end_time": "2022-01-29T10:09:12.375958",
     "exception": false,
     "start_time": "2022-01-29T10:09:12.322228",
     "status": "completed"
    },
    "tags": []
   },
   "outputs": [],
   "source": [
    "%load_ext autoreload\n",
    "%autoreload 2"
   ]
  },
  {
   "cell_type": "code",
   "execution_count": 2,
   "id": "22ef38dc",
   "metadata": {
    "execution": {
     "iopub.execute_input": "2022-01-29T10:09:12.440672Z",
     "iopub.status.busy": "2022-01-29T10:09:12.439997Z",
     "iopub.status.idle": "2022-01-29T10:09:13.133526Z",
     "shell.execute_reply": "2022-01-29T10:09:13.134073Z"
    },
    "papermill": {
     "duration": 0.728661,
     "end_time": "2022-01-29T10:09:13.134242",
     "exception": false,
     "start_time": "2022-01-29T10:09:12.405581",
     "status": "completed"
    },
    "tags": []
   },
   "outputs": [],
   "source": [
    "%matplotlib inline\n",
    "import numpy as np\n",
    "import matplotlib.pyplot as plt\n",
    "import pandas as pd"
   ]
  },
  {
   "cell_type": "markdown",
   "id": "ba036198",
   "metadata": {
    "papermill": {
     "duration": 0.028301,
     "end_time": "2022-01-29T10:09:13.191137",
     "exception": false,
     "start_time": "2022-01-29T10:09:13.162836",
     "status": "completed"
    },
    "tags": []
   },
   "source": [
    "From the command line run `pip install mnist`. This is a library that will help you bring down the mnist dataset. If you run this from a notebook, you need to put  `!pip install mnist` in a cell by itself."
   ]
  },
  {
   "cell_type": "code",
   "execution_count": 3,
   "id": "bb6ad8a1",
   "metadata": {
    "execution": {
     "iopub.execute_input": "2022-01-29T10:09:13.255350Z",
     "iopub.status.busy": "2022-01-29T10:09:13.254528Z",
     "iopub.status.idle": "2022-01-29T10:09:15.462662Z",
     "shell.execute_reply": "2022-01-29T10:09:15.462050Z"
    },
    "papermill": {
     "duration": 2.243417,
     "end_time": "2022-01-29T10:09:15.462815",
     "exception": false,
     "start_time": "2022-01-29T10:09:13.219398",
     "status": "completed"
    },
    "tags": []
   },
   "outputs": [
    {
     "name": "stdout",
     "output_type": "stream",
     "text": [
      "Collecting mnist\r\n"
     ]
    },
    {
     "name": "stdout",
     "output_type": "stream",
     "text": [
      "  Downloading mnist-0.2.2-py2.py3-none-any.whl (3.5 kB)\r\n",
      "Requirement already satisfied: numpy in /opt/hostedtoolcache/Python/3.6.15/x64/lib/python3.6/site-packages (from mnist) (1.19.5)\r\n"
     ]
    },
    {
     "name": "stdout",
     "output_type": "stream",
     "text": [
      "Installing collected packages: mnist\r\n"
     ]
    },
    {
     "name": "stdout",
     "output_type": "stream",
     "text": [
      "Successfully installed mnist-0.2.2\r\n"
     ]
    }
   ],
   "source": [
    "!pip install mnist"
   ]
  },
  {
   "cell_type": "markdown",
   "id": "69df9c9a",
   "metadata": {
    "papermill": {
     "duration": 0.029503,
     "end_time": "2022-01-29T10:09:15.521987",
     "exception": false,
     "start_time": "2022-01-29T10:09:15.492484",
     "status": "completed"
    },
    "tags": []
   },
   "source": [
    "## Preparing the Data"
   ]
  },
  {
   "cell_type": "code",
   "execution_count": 4,
   "id": "7f69d806",
   "metadata": {
    "execution": {
     "iopub.execute_input": "2022-01-29T10:09:15.586914Z",
     "iopub.status.busy": "2022-01-29T10:09:15.586252Z",
     "iopub.status.idle": "2022-01-29T10:09:15.606163Z",
     "shell.execute_reply": "2022-01-29T10:09:15.605463Z"
    },
    "papermill": {
     "duration": 0.055108,
     "end_time": "2022-01-29T10:09:15.606334",
     "exception": false,
     "start_time": "2022-01-29T10:09:15.551226",
     "status": "completed"
    },
    "tags": []
   },
   "outputs": [],
   "source": [
    "import mnist"
   ]
  },
  {
   "cell_type": "code",
   "execution_count": 5,
   "id": "a411e44f",
   "metadata": {
    "execution": {
     "iopub.execute_input": "2022-01-29T10:09:15.671646Z",
     "iopub.status.busy": "2022-01-29T10:09:15.671016Z",
     "iopub.status.idle": "2022-01-29T10:09:16.237533Z",
     "shell.execute_reply": "2022-01-29T10:09:16.236815Z"
    },
    "papermill": {
     "duration": 0.600337,
     "end_time": "2022-01-29T10:09:16.237723",
     "exception": false,
     "start_time": "2022-01-29T10:09:15.637386",
     "status": "completed"
    },
    "tags": []
   },
   "outputs": [],
   "source": [
    "train_images = mnist.train_images()\n",
    "train_labels = mnist.train_labels()"
   ]
  },
  {
   "cell_type": "code",
   "execution_count": 6,
   "id": "dceab3a5",
   "metadata": {
    "execution": {
     "iopub.execute_input": "2022-01-29T10:09:16.303529Z",
     "iopub.status.busy": "2022-01-29T10:09:16.302873Z",
     "iopub.status.idle": "2022-01-29T10:09:16.321712Z",
     "shell.execute_reply": "2022-01-29T10:09:16.321079Z"
    },
    "papermill": {
     "duration": 0.052801,
     "end_time": "2022-01-29T10:09:16.321849",
     "exception": false,
     "start_time": "2022-01-29T10:09:16.269048",
     "status": "completed"
    },
    "tags": []
   },
   "outputs": [
    {
     "data": {
      "text/plain": [
       "((60000, 28, 28), (60000,))"
      ]
     },
     "execution_count": 6,
     "metadata": {},
     "output_type": "execute_result"
    }
   ],
   "source": [
    "train_images.shape, train_labels.shape"
   ]
  },
  {
   "cell_type": "code",
   "execution_count": 7,
   "id": "f50dc2bb",
   "metadata": {
    "execution": {
     "iopub.execute_input": "2022-01-29T10:09:16.391362Z",
     "iopub.status.busy": "2022-01-29T10:09:16.390733Z",
     "iopub.status.idle": "2022-01-29T10:09:16.519116Z",
     "shell.execute_reply": "2022-01-29T10:09:16.518369Z"
    },
    "papermill": {
     "duration": 0.162375,
     "end_time": "2022-01-29T10:09:16.519309",
     "exception": false,
     "start_time": "2022-01-29T10:09:16.356934",
     "status": "completed"
    },
    "tags": []
   },
   "outputs": [],
   "source": [
    "test_images = mnist.test_images()\n",
    "test_labels = mnist.test_labels()"
   ]
  },
  {
   "cell_type": "code",
   "execution_count": 8,
   "id": "fc38cf1b",
   "metadata": {
    "execution": {
     "iopub.execute_input": "2022-01-29T10:09:16.586156Z",
     "iopub.status.busy": "2022-01-29T10:09:16.585527Z",
     "iopub.status.idle": "2022-01-29T10:09:16.601762Z",
     "shell.execute_reply": "2022-01-29T10:09:16.601264Z"
    },
    "papermill": {
     "duration": 0.05064,
     "end_time": "2022-01-29T10:09:16.601899",
     "exception": false,
     "start_time": "2022-01-29T10:09:16.551259",
     "status": "completed"
    },
    "tags": []
   },
   "outputs": [
    {
     "data": {
      "text/plain": [
       "((10000, 28, 28), (10000,))"
      ]
     },
     "execution_count": 8,
     "metadata": {},
     "output_type": "execute_result"
    }
   ],
   "source": [
    "test_images.shape, test_labels.shape"
   ]
  },
  {
   "cell_type": "code",
   "execution_count": 9,
   "id": "f9ed8fe0",
   "metadata": {
    "execution": {
     "iopub.execute_input": "2022-01-29T10:09:16.666597Z",
     "iopub.status.busy": "2022-01-29T10:09:16.665977Z",
     "iopub.status.idle": "2022-01-29T10:09:16.841517Z",
     "shell.execute_reply": "2022-01-29T10:09:16.842346Z"
    },
    "papermill": {
     "duration": 0.210559,
     "end_time": "2022-01-29T10:09:16.842512",
     "exception": false,
     "start_time": "2022-01-29T10:09:16.631953",
     "status": "completed"
    },
    "tags": []
   },
   "outputs": [
    {
     "name": "stdout",
     "output_type": "stream",
     "text": [
      "2\n"
     ]
    },
    {
     "data": {
      "text/plain": [
       "<matplotlib.image.AxesImage at 0x7fbc7ee5ccc0>"
      ]
     },
     "execution_count": 9,
     "metadata": {},
     "output_type": "execute_result"
    },
    {
     "data": {
      "image/png": "[encoded data removed]",
      "text/plain": [
       "<Figure size 432x288 with 1 Axes>"
      ]
     },
     "metadata": {
      "needs_background": "light"
     },
     "output_type": "display_data"
    }
   ],
   "source": [
    "image_index = 7776 # You may select anything up to 60,000\n",
    "print(train_labels[image_index]) \n",
    "plt.imshow(train_images[image_index], cmap='Greys')"
   ]
  },
  {
   "cell_type": "markdown",
   "id": "a8d2388d",
   "metadata": {
    "papermill": {
     "duration": 0.031341,
     "end_time": "2022-01-29T10:09:16.905751",
     "exception": false,
     "start_time": "2022-01-29T10:09:16.874410",
     "status": "completed"
    },
    "tags": []
   },
   "source": [
    "## Filter data to get 3 and 8 out"
   ]
  },
  {
   "cell_type": "code",
   "execution_count": 10,
   "id": "776f7fc7",
   "metadata": {
    "execution": {
     "iopub.execute_input": "2022-01-29T10:09:16.974955Z",
     "iopub.status.busy": "2022-01-29T10:09:16.974276Z",
     "iopub.status.idle": "2022-01-29T10:09:16.991948Z",
     "shell.execute_reply": "2022-01-29T10:09:16.991448Z"
    },
    "papermill": {
     "duration": 0.054986,
     "end_time": "2022-01-29T10:09:16.992087",
     "exception": false,
     "start_time": "2022-01-29T10:09:16.937101",
     "status": "completed"
    },
    "tags": []
   },
   "outputs": [],
   "source": [
    "train_filter = np.where((train_labels == 3 ) | (train_labels == 8))\n",
    "test_filter = np.where((test_labels == 3) | (test_labels == 8))\n",
    "X_train, y_train = train_images[train_filter], train_labels[train_filter]\n",
    "X_test, y_test = test_images[test_filter], test_labels[test_filter]"
   ]
  },
  {
   "cell_type": "markdown",
   "id": "948f0b7e",
   "metadata": {
    "papermill": {
     "duration": 0.031334,
     "end_time": "2022-01-29T10:09:17.055039",
     "exception": false,
     "start_time": "2022-01-29T10:09:17.023705",
     "status": "completed"
    },
    "tags": []
   },
   "source": [
    "We normalize the pizel values in the 0 to 1 range"
   ]
  },
  {
   "cell_type": "code",
   "execution_count": 11,
   "id": "ee4c2166",
   "metadata": {
    "execution": {
     "iopub.execute_input": "2022-01-29T10:09:17.123569Z",
     "iopub.status.busy": "2022-01-29T10:09:17.121928Z",
     "iopub.status.idle": "2022-01-29T10:09:17.178290Z",
     "shell.execute_reply": "2022-01-29T10:09:17.177601Z"
    },
    "papermill": {
     "duration": 0.091923,
     "end_time": "2022-01-29T10:09:17.178435",
     "exception": false,
     "start_time": "2022-01-29T10:09:17.086512",
     "status": "completed"
    },
    "tags": []
   },
   "outputs": [],
   "source": [
    "X_train = X_train/255.\n",
    "X_test = X_test/255."
   ]
  },
  {
   "cell_type": "markdown",
   "id": "ddcf4fab",
   "metadata": {
    "papermill": {
     "duration": 0.033418,
     "end_time": "2022-01-29T10:09:17.245814",
     "exception": false,
     "start_time": "2022-01-29T10:09:17.212396",
     "status": "completed"
    },
    "tags": []
   },
   "source": [
    "And setup the labels as 1 (when the digit is 3) and 0 (when the digit is 8)"
   ]
  },
  {
   "cell_type": "code",
   "execution_count": 12,
   "id": "7dc908f2",
   "metadata": {
    "execution": {
     "iopub.execute_input": "2022-01-29T10:09:17.320404Z",
     "iopub.status.busy": "2022-01-29T10:09:17.319754Z",
     "iopub.status.idle": "2022-01-29T10:09:17.334367Z",
     "shell.execute_reply": "2022-01-29T10:09:17.333858Z"
    },
    "papermill": {
     "duration": 0.056,
     "end_time": "2022-01-29T10:09:17.334508",
     "exception": false,
     "start_time": "2022-01-29T10:09:17.278508",
     "status": "completed"
    },
    "tags": []
   },
   "outputs": [],
   "source": [
    "y_train = 1*(y_train==3)\n",
    "y_test = 1*(y_test==3)"
   ]
  },
  {
   "cell_type": "code",
   "execution_count": 13,
   "id": "01e4e969",
   "metadata": {
    "execution": {
     "iopub.execute_input": "2022-01-29T10:09:17.401757Z",
     "iopub.status.busy": "2022-01-29T10:09:17.401122Z",
     "iopub.status.idle": "2022-01-29T10:09:17.417556Z",
     "shell.execute_reply": "2022-01-29T10:09:17.418067Z"
    },
    "papermill": {
     "duration": 0.052232,
     "end_time": "2022-01-29T10:09:17.418228",
     "exception": false,
     "start_time": "2022-01-29T10:09:17.365996",
     "status": "completed"
    },
    "tags": []
   },
   "outputs": [
    {
     "data": {
      "text/plain": [
       "((11982, 28, 28), (1984, 28, 28))"
      ]
     },
     "execution_count": 13,
     "metadata": {},
     "output_type": "execute_result"
    }
   ],
   "source": [
    "X_train.shape, X_test.shape"
   ]
  },
  {
   "cell_type": "markdown",
   "id": "5ccf3f85",
   "metadata": {
    "papermill": {
     "duration": 0.031615,
     "end_time": "2022-01-29T10:09:17.481552",
     "exception": false,
     "start_time": "2022-01-29T10:09:17.449937",
     "status": "completed"
    },
    "tags": []
   },
   "source": [
    "We reshape the data to flatten the image pixels into a set of features or co-variates:"
   ]
  },
  {
   "cell_type": "code",
   "execution_count": 14,
   "id": "5286a4a3",
   "metadata": {
    "execution": {
     "iopub.execute_input": "2022-01-29T10:09:17.549537Z",
     "iopub.status.busy": "2022-01-29T10:09:17.548910Z",
     "iopub.status.idle": "2022-01-29T10:09:17.564400Z",
     "shell.execute_reply": "2022-01-29T10:09:17.563869Z"
    },
    "papermill": {
     "duration": 0.051214,
     "end_time": "2022-01-29T10:09:17.564533",
     "exception": false,
     "start_time": "2022-01-29T10:09:17.513319",
     "status": "completed"
    },
    "tags": []
   },
   "outputs": [
    {
     "data": {
      "text/plain": [
       "((11982, 784), (1984, 784))"
      ]
     },
     "execution_count": 14,
     "metadata": {},
     "output_type": "execute_result"
    }
   ],
   "source": [
    "X_train = X_train.reshape(X_train.shape[0], -1)\n",
    "X_test = X_test.reshape(X_test.shape[0], -1)\n",
    "X_train.shape, X_test.shape"
   ]
  },
  {
   "cell_type": "code",
   "execution_count": 15,
   "id": "73c5f88a",
   "metadata": {
    "execution": {
     "iopub.execute_input": "2022-01-29T10:09:17.633921Z",
     "iopub.status.busy": "2022-01-29T10:09:17.633281Z",
     "iopub.status.idle": "2022-01-29T10:09:17.654412Z",
     "shell.execute_reply": "2022-01-29T10:09:17.654916Z"
    },
    "papermill": {
     "duration": 0.058398,
     "end_time": "2022-01-29T10:09:17.655080",
     "exception": false,
     "start_time": "2022-01-29T10:09:17.596682",
     "status": "completed"
    },
    "tags": []
   },
   "outputs": [],
   "source": [
    "#Impoting functions from 'Kudzu'\n",
    "from kudzu.model import Model\n",
    "from kudzu.train import Learner\n",
    "from kudzu.optim import GD\n",
    "from kudzu.data import Data, Sampler,Dataloader\n",
    "\n",
    "from kudzu.callbacks import AccCallback\n",
    "from kudzu.callbacks import ClfCallback\n",
    "\n",
    "from kudzu.loss import MSE\n",
    "\n",
    "from kudzu.layer import Sigmoid,Relu\n",
    "from kudzu.layer import Affine"
   ]
  },
  {
   "cell_type": "markdown",
   "id": "bc01172a",
   "metadata": {
    "papermill": {
     "duration": 0.031788,
     "end_time": "2022-01-29T10:09:17.718970",
     "exception": false,
     "start_time": "2022-01-29T10:09:17.687182",
     "status": "completed"
    },
    "tags": []
   },
   "source": [
    "### Let us create a `Config` class, to store important parameters. \n",
    "This class essentially plays the role of a dictionary."
   ]
  },
  {
   "cell_type": "code",
   "execution_count": 16,
   "id": "978281aa",
   "metadata": {
    "execution": {
     "iopub.execute_input": "2022-01-29T10:09:17.788642Z",
     "iopub.status.busy": "2022-01-29T10:09:17.787982Z",
     "iopub.status.idle": "2022-01-29T10:09:17.801908Z",
     "shell.execute_reply": "2022-01-29T10:09:17.802510Z"
    },
    "papermill": {
     "duration": 0.051792,
     "end_time": "2022-01-29T10:09:17.802689",
     "exception": false,
     "start_time": "2022-01-29T10:09:17.750897",
     "status": "completed"
    },
    "tags": []
   },
   "outputs": [],
   "source": [
    "class Config:\n",
    "    pass\n",
    "config = Config()\n",
    "config.lr = 0.001\n",
    "config.num_epochs = 250\n",
    "config.bs = 50"
   ]
  },
  {
   "cell_type": "markdown",
   "id": "1385fa59",
   "metadata": {
    "papermill": {
     "duration": 0.032105,
     "end_time": "2022-01-29T10:09:17.866976",
     "exception": false,
     "start_time": "2022-01-29T10:09:17.834871",
     "status": "completed"
    },
    "tags": []
   },
   "source": [
    "### Running Models with the Training data\n",
    "Details about the network layers:\n",
    "- A first affine layer has 784 inputs and does 100 affine transforms. These are followed by a Relu\n",
    "- A second affine layer has 100 inputs from the 100 activations of the past layer, and does 100 affine transforms. These are followed by a Relu\n",
    "- A third affine layer has 100 activations and does 2 affine transformations to create an embedding for visualization. There is no non-linearity here.\n",
    "- A final \"logistic regression\" which has an affine transform from 2 inputs to 1 output, which is squeezed through a sigmoid.\n"
   ]
  },
  {
   "cell_type": "code",
   "execution_count": 17,
   "id": "2b9c66db",
   "metadata": {
    "execution": {
     "iopub.execute_input": "2022-01-29T10:09:17.935828Z",
     "iopub.status.busy": "2022-01-29T10:09:17.935191Z",
     "iopub.status.idle": "2022-01-29T10:09:17.949564Z",
     "shell.execute_reply": "2022-01-29T10:09:17.949061Z"
    },
    "papermill": {
     "duration": 0.050638,
     "end_time": "2022-01-29T10:09:17.949700",
     "exception": false,
     "start_time": "2022-01-29T10:09:17.899062",
     "status": "completed"
    },
    "tags": []
   },
   "outputs": [],
   "source": [
    "data = Data(X_train, y_train.reshape(-1,1))\n",
    "sampler = Sampler(data, config.bs, shuffle=True)\n",
    "\n",
    "dl = Dataloader(data, sampler)\n",
    "\n",
    "opt = GD(config.lr)\n",
    "loss = MSE()"
   ]
  },
  {
   "cell_type": "code",
   "execution_count": 18,
   "id": "b275e4c2",
   "metadata": {
    "execution": {
     "iopub.execute_input": "2022-01-29T10:09:18.022349Z",
     "iopub.status.busy": "2022-01-29T10:09:18.021697Z",
     "iopub.status.idle": "2022-01-29T10:09:18.036485Z",
     "shell.execute_reply": "2022-01-29T10:09:18.035940Z"
    },
    "papermill": {
     "duration": 0.054768,
     "end_time": "2022-01-29T10:09:18.036619",
     "exception": false,
     "start_time": "2022-01-29T10:09:17.981851",
     "status": "completed"
    },
    "tags": []
   },
   "outputs": [],
   "source": [
    "training_data_x = X_train\n",
    "testing_data_x = X_test\n",
    "training_data_y = y_train.reshape(-1,1)\n",
    "testing_data_y = y_test.reshape(-1,1)"
   ]
  },
  {
   "cell_type": "code",
   "execution_count": 19,
   "id": "76951160",
   "metadata": {
    "execution": {
     "iopub.execute_input": "2022-01-29T10:09:18.107754Z",
     "iopub.status.busy": "2022-01-29T10:09:18.107093Z",
     "iopub.status.idle": "2022-01-29T10:09:18.127861Z",
     "shell.execute_reply": "2022-01-29T10:09:18.127321Z"
    },
    "papermill": {
     "duration": 0.059485,
     "end_time": "2022-01-29T10:09:18.128006",
     "exception": false,
     "start_time": "2022-01-29T10:09:18.068521",
     "status": "completed"
    },
    "tags": []
   },
   "outputs": [
    {
     "name": "stdout",
     "output_type": "stream",
     "text": [
      "xavier\n",
      "xavier\n",
      "xavier\n",
      "xavier\n",
      "xavier\n"
     ]
    }
   ],
   "source": [
    "layers = [Affine(\"first\", 784, 100), Relu(\"first\"), Affine(\"second\", 100, 100), Relu(\"second\"), Affine(\"third\", 100, 2), Affine(\"last\", 2, 1), Sigmoid(\"last\")]\n",
    "model_nn = Model(layers)\n",
    "model_lr = Model([Affine(\"logits\", 784, 1), Sigmoid(\"sigmoid\")])"
   ]
  },
  {
   "cell_type": "code",
   "execution_count": 20,
   "id": "6eede77a",
   "metadata": {
    "execution": {
     "iopub.execute_input": "2022-01-29T10:09:18.199049Z",
     "iopub.status.busy": "2022-01-29T10:09:18.198387Z",
     "iopub.status.idle": "2022-01-29T10:09:18.217668Z",
     "shell.execute_reply": "2022-01-29T10:09:18.217164Z"
    },
    "papermill": {
     "duration": 0.056991,
     "end_time": "2022-01-29T10:09:18.217806",
     "exception": false,
     "start_time": "2022-01-29T10:09:18.160815",
     "status": "completed"
    },
    "tags": []
   },
   "outputs": [],
   "source": [
    "nn_learner = Learner(loss, model_nn, opt, config.num_epochs)\n",
    "acc_nn = ClfCallback(nn_learner, config.bs, training_data_x , testing_data_x, training_data_y, testing_data_y)\n",
    "nn_learner.set_callbacks([acc_nn])"
   ]
  },
  {
   "cell_type": "code",
   "execution_count": 21,
   "id": "877b6cc7",
   "metadata": {
    "execution": {
     "iopub.execute_input": "2022-01-29T10:09:18.288128Z",
     "iopub.status.busy": "2022-01-29T10:09:18.287497Z",
     "iopub.status.idle": "2022-01-29T10:09:18.300992Z",
     "shell.execute_reply": "2022-01-29T10:09:18.301460Z"
    },
    "papermill": {
     "duration": 0.051297,
     "end_time": "2022-01-29T10:09:18.301620",
     "exception": false,
     "start_time": "2022-01-29T10:09:18.250323",
     "status": "completed"
    },
    "tags": []
   },
   "outputs": [],
   "source": [
    "lr_learner = Learner(loss, model_lr, opt, config.num_epochs)\n",
    "acc_lr = ClfCallback(lr_learner, config.bs, training_data_x , testing_data_x, training_data_y, testing_data_y)\n",
    "lr_learner.set_callbacks([acc_lr])"
   ]
  },
  {
   "cell_type": "code",
   "execution_count": 22,
   "id": "d9b133c3",
   "metadata": {
    "execution": {
     "iopub.execute_input": "2022-01-29T10:09:18.371796Z",
     "iopub.status.busy": "2022-01-29T10:09:18.371124Z",
     "iopub.status.idle": "2022-01-29T10:10:48.201753Z",
     "shell.execute_reply": "2022-01-29T10:10:48.202683Z"
    },
    "papermill": {
     "duration": 89.868107,
     "end_time": "2022-01-29T10:10:48.202862",
     "exception": false,
     "start_time": "2022-01-29T10:09:18.334755",
     "status": "completed"
    },
    "tags": []
   },
   "outputs": [
    {
     "name": "stdout",
     "output_type": "stream",
     "text": [
      "Epoch 0, Loss 0.2306\n",
      "Training Accuracy: 0.7539, Testing Accuracy: 0.7858\n",
      "\n"
     ]
    },
    {
     "name": "stdout",
     "output_type": "stream",
     "text": [
      "Epoch 10, Loss 0.0853\n",
      "Training Accuracy: 0.9231, Testing Accuracy: 0.9330\n",
      "\n"
     ]
    },
    {
     "name": "stdout",
     "output_type": "stream",
     "text": [
      "Epoch 20, Loss 0.0537\n",
      "Training Accuracy: 0.9454, Testing Accuracy: 0.9551\n",
      "\n"
     ]
    },
    {
     "name": "stdout",
     "output_type": "stream",
     "text": [
      "Epoch 30, Loss 0.0425\n",
      "Training Accuracy: 0.9545, Testing Accuracy: 0.9647\n",
      "\n"
     ]
    },
    {
     "name": "stdout",
     "output_type": "stream",
     "text": [
      "Epoch 40, Loss 0.0368\n",
      "Training Accuracy: 0.9591, Testing Accuracy: 0.9713\n",
      "\n"
     ]
    },
    {
     "name": "stdout",
     "output_type": "stream",
     "text": [
      "Epoch 50, Loss 0.0333\n",
      "Training Accuracy: 0.9633, Testing Accuracy: 0.9728\n",
      "\n"
     ]
    },
    {
     "name": "stdout",
     "output_type": "stream",
     "text": [
      "Epoch 60, Loss 0.0308\n",
      "Training Accuracy: 0.9659, Testing Accuracy: 0.9733\n",
      "\n"
     ]
    },
    {
     "name": "stdout",
     "output_type": "stream",
     "text": [
      "Epoch 70, Loss 0.0289\n",
      "Training Accuracy: 0.9676, Testing Accuracy: 0.9743\n",
      "\n"
     ]
    },
    {
     "name": "stdout",
     "output_type": "stream",
     "text": [
      "Epoch 80, Loss 0.0275\n",
      "Training Accuracy: 0.9692, Testing Accuracy: 0.9753\n",
      "\n"
     ]
    },
    {
     "name": "stdout",
     "output_type": "stream",
     "text": [
      "Epoch 90, Loss 0.0263\n",
      "Training Accuracy: 0.9708, Testing Accuracy: 0.9743\n",
      "\n"
     ]
    },
    {
     "name": "stdout",
     "output_type": "stream",
     "text": [
      "Epoch 100, Loss 0.0252\n",
      "Training Accuracy: 0.9720, Testing Accuracy: 0.9738\n",
      "\n"
     ]
    },
    {
     "name": "stdout",
     "output_type": "stream",
     "text": [
      "Epoch 110, Loss 0.0243\n",
      "Training Accuracy: 0.9725, Testing Accuracy: 0.9738\n",
      "\n"
     ]
    },
    {
     "name": "stdout",
     "output_type": "stream",
     "text": [
      "Epoch 120, Loss 0.0235\n",
      "Training Accuracy: 0.9736, Testing Accuracy: 0.9743\n",
      "\n"
     ]
    },
    {
     "name": "stdout",
     "output_type": "stream",
     "text": [
      "Epoch 130, Loss 0.0228\n",
      "Training Accuracy: 0.9745, Testing Accuracy: 0.9748\n",
      "\n"
     ]
    },
    {
     "name": "stdout",
     "output_type": "stream",
     "text": [
      "Epoch 140, Loss 0.0222\n",
      "Training Accuracy: 0.9751, Testing Accuracy: 0.9743\n",
      "\n"
     ]
    },
    {
     "name": "stdout",
     "output_type": "stream",
     "text": [
      "Epoch 150, Loss 0.0216\n",
      "Training Accuracy: 0.9762, Testing Accuracy: 0.9743\n",
      "\n"
     ]
    },
    {
     "name": "stdout",
     "output_type": "stream",
     "text": [
      "Epoch 160, Loss 0.021\n",
      "Training Accuracy: 0.9768, Testing Accuracy: 0.9743\n",
      "\n"
     ]
    },
    {
     "name": "stdout",
     "output_type": "stream",
     "text": [
      "Epoch 170, Loss 0.0205\n",
      "Training Accuracy: 0.9769, Testing Accuracy: 0.9748\n",
      "\n"
     ]
    },
    {
     "name": "stdout",
     "output_type": "stream",
     "text": [
      "Epoch 180, Loss 0.02\n",
      "Training Accuracy: 0.9776, Testing Accuracy: 0.9748\n",
      "\n"
     ]
    },
    {
     "name": "stdout",
     "output_type": "stream",
     "text": [
      "Epoch 190, Loss 0.0196\n",
      "Training Accuracy: 0.9780, Testing Accuracy: 0.9758\n",
      "\n"
     ]
    },
    {
     "name": "stdout",
     "output_type": "stream",
     "text": [
      "Epoch 200, Loss 0.0191\n",
      "Training Accuracy: 0.9783, Testing Accuracy: 0.9763\n",
      "\n"
     ]
    },
    {
     "name": "stdout",
     "output_type": "stream",
     "text": [
      "Epoch 210, Loss 0.0187\n",
      "Training Accuracy: 0.9789, Testing Accuracy: 0.9763\n",
      "\n"
     ]
    },
    {
     "name": "stdout",
     "output_type": "stream",
     "text": [
      "Epoch 220, Loss 0.0183\n",
      "Training Accuracy: 0.9795, Testing Accuracy: 0.9758\n",
      "\n"
     ]
    },
    {
     "name": "stdout",
     "output_type": "stream",
     "text": [
      "Epoch 230, Loss 0.018\n",
      "Training Accuracy: 0.9801, Testing Accuracy: 0.9763\n",
      "\n"
     ]
    },
    {
     "name": "stdout",
     "output_type": "stream",
     "text": [
      "Epoch 240, Loss 0.0176\n",
      "Training Accuracy: 0.9804, Testing Accuracy: 0.9768\n",
      "\n"
     ]
    },
    {
     "data": {
      "text/plain": [
       "0.0190069571623964"
      ]
     },
     "execution_count": 22,
     "metadata": {},
     "output_type": "execute_result"
    }
   ],
   "source": [
    "nn_learner.train_loop(dl)"
   ]
  },
  {
   "cell_type": "code",
   "execution_count": 23,
   "id": "e0163366",
   "metadata": {
    "execution": {
     "iopub.execute_input": "2022-01-29T10:10:48.296236Z",
     "iopub.status.busy": "2022-01-29T10:10:48.295603Z",
     "iopub.status.idle": "2022-01-29T10:11:04.460511Z",
     "shell.execute_reply": "2022-01-29T10:11:04.461411Z"
    },
    "papermill": {
     "duration": 16.217549,
     "end_time": "2022-01-29T10:11:04.461586",
     "exception": false,
     "start_time": "2022-01-29T10:10:48.244037",
     "status": "completed"
    },
    "tags": []
   },
   "outputs": [
    {
     "name": "stdout",
     "output_type": "stream",
     "text": [
      "Epoch 0, Loss 0.2509\n",
      "Training Accuracy: 0.6744, Testing Accuracy: 0.6956\n",
      "\n"
     ]
    },
    {
     "name": "stdout",
     "output_type": "stream",
     "text": [
      "Epoch 10, Loss 0.1018\n",
      "Training Accuracy: 0.9160, Testing Accuracy: 0.9254\n",
      "\n"
     ]
    },
    {
     "name": "stdout",
     "output_type": "stream",
     "text": [
      "Epoch 20, Loss 0.078\n",
      "Training Accuracy: 0.9318, Testing Accuracy: 0.9410\n",
      "\n"
     ]
    },
    {
     "name": "stdout",
     "output_type": "stream",
     "text": [
      "Epoch 30, Loss 0.0673\n",
      "Training Accuracy: 0.9392, Testing Accuracy: 0.9501\n",
      "\n"
     ]
    },
    {
     "name": "stdout",
     "output_type": "stream",
     "text": [
      "Epoch 40, Loss 0.0608\n",
      "Training Accuracy: 0.9436, Testing Accuracy: 0.9541\n",
      "\n"
     ]
    },
    {
     "name": "stdout",
     "output_type": "stream",
     "text": [
      "Epoch 50, Loss 0.0564\n",
      "Training Accuracy: 0.9466, Testing Accuracy: 0.9546\n",
      "\n"
     ]
    },
    {
     "name": "stdout",
     "output_type": "stream",
     "text": [
      "Epoch 60, Loss 0.0532\n",
      "Training Accuracy: 0.9482, Testing Accuracy: 0.9577\n",
      "\n"
     ]
    },
    {
     "name": "stdout",
     "output_type": "stream",
     "text": [
      "Epoch 70, Loss 0.0507\n",
      "Training Accuracy: 0.9505, Testing Accuracy: 0.9602\n",
      "\n"
     ]
    },
    {
     "name": "stdout",
     "output_type": "stream",
     "text": [
      "Epoch 80, Loss 0.0487\n",
      "Training Accuracy: 0.9522, Testing Accuracy: 0.9602\n",
      "\n"
     ]
    },
    {
     "name": "stdout",
     "output_type": "stream",
     "text": [
      "Epoch 90, Loss 0.047\n",
      "Training Accuracy: 0.9533, Testing Accuracy: 0.9622\n",
      "\n"
     ]
    },
    {
     "name": "stdout",
     "output_type": "stream",
     "text": [
      "Epoch 100, Loss 0.0456\n",
      "Training Accuracy: 0.9543, Testing Accuracy: 0.9622\n",
      "\n"
     ]
    },
    {
     "name": "stdout",
     "output_type": "stream",
     "text": [
      "Epoch 110, Loss 0.0445\n",
      "Training Accuracy: 0.9551, Testing Accuracy: 0.9622\n",
      "\n"
     ]
    },
    {
     "name": "stdout",
     "output_type": "stream",
     "text": [
      "Epoch 120, Loss 0.0434\n",
      "Training Accuracy: 0.9561, Testing Accuracy: 0.9632\n",
      "\n"
     ]
    },
    {
     "name": "stdout",
     "output_type": "stream",
     "text": [
      "Epoch 130, Loss 0.0425\n",
      "Training Accuracy: 0.9566, Testing Accuracy: 0.9637\n",
      "\n"
     ]
    },
    {
     "name": "stdout",
     "output_type": "stream",
     "text": [
      "Epoch 140, Loss 0.0417\n",
      "Training Accuracy: 0.9571, Testing Accuracy: 0.9637\n",
      "\n"
     ]
    },
    {
     "name": "stdout",
     "output_type": "stream",
     "text": [
      "Epoch 150, Loss 0.041\n",
      "Training Accuracy: 0.9579, Testing Accuracy: 0.9642\n",
      "\n"
     ]
    },
    {
     "name": "stdout",
     "output_type": "stream",
     "text": [
      "Epoch 160, Loss 0.0403\n",
      "Training Accuracy: 0.9586, Testing Accuracy: 0.9647\n",
      "\n"
     ]
    },
    {
     "name": "stdout",
     "output_type": "stream",
     "text": [
      "Epoch 170, Loss 0.0397\n",
      "Training Accuracy: 0.9592, Testing Accuracy: 0.9652\n",
      "\n"
     ]
    },
    {
     "name": "stdout",
     "output_type": "stream",
     "text": [
      "Epoch 180, Loss 0.0391\n",
      "Training Accuracy: 0.9594, Testing Accuracy: 0.9657\n",
      "\n"
     ]
    },
    {
     "name": "stdout",
     "output_type": "stream",
     "text": [
      "Epoch 190, Loss 0.0386\n",
      "Training Accuracy: 0.9598, Testing Accuracy: 0.9657\n",
      "\n"
     ]
    },
    {
     "name": "stdout",
     "output_type": "stream",
     "text": [
      "Epoch 200, Loss 0.0382\n",
      "Training Accuracy: 0.9599, Testing Accuracy: 0.9657\n",
      "\n"
     ]
    },
    {
     "name": "stdout",
     "output_type": "stream",
     "text": [
      "Epoch 210, Loss 0.0377\n",
      "Training Accuracy: 0.9603, Testing Accuracy: 0.9662\n",
      "\n"
     ]
    },
    {
     "name": "stdout",
     "output_type": "stream",
     "text": [
      "Epoch 220, Loss 0.0373\n",
      "Training Accuracy: 0.9606, Testing Accuracy: 0.9667\n",
      "\n"
     ]
    },
    {
     "name": "stdout",
     "output_type": "stream",
     "text": [
      "Epoch 230, Loss 0.0369\n",
      "Training Accuracy: 0.9609, Testing Accuracy: 0.9672\n",
      "\n"
     ]
    },
    {
     "name": "stdout",
     "output_type": "stream",
     "text": [
      "Epoch 240, Loss 0.0366\n",
      "Training Accuracy: 0.9611, Testing Accuracy: 0.9672\n",
      "\n"
     ]
    },
    {
     "data": {
      "text/plain": [
       "0.05108445737596569"
      ]
     },
     "execution_count": 23,
     "metadata": {},
     "output_type": "execute_result"
    }
   ],
   "source": [
    "lr_learner.train_loop(dl)"
   ]
  },
  {
   "cell_type": "code",
   "execution_count": 24,
   "id": "ca410940",
   "metadata": {
    "execution": {
     "iopub.execute_input": "2022-01-29T10:11:04.568782Z",
     "iopub.status.busy": "2022-01-29T10:11:04.568136Z",
     "iopub.status.idle": "2022-01-29T10:11:04.841076Z",
     "shell.execute_reply": "2022-01-29T10:11:04.841581Z"
    },
    "papermill": {
     "duration": 0.330942,
     "end_time": "2022-01-29T10:11:04.841746",
     "exception": false,
     "start_time": "2022-01-29T10:11:04.510804",
     "status": "completed"
    },
    "tags": []
   },
   "outputs": [
    {
     "data": {
      "text/plain": [
       "<matplotlib.legend.Legend at 0x7fbc716403c8>"
      ]
     },
     "execution_count": 24,
     "metadata": {},
     "output_type": "execute_result"
    },
    {
     "data": {
      "image/png": "[encoded data removed]",
      "text/plain": [
       "<Figure size 1080x720 with 1 Axes>"
      ]
     },
     "metadata": {
      "needs_background": "light"
     },
     "output_type": "display_data"
    }
   ],
   "source": [
    "#comparing the results of NN and LR\n",
    "plt.figure(figsize=(15,10))\n",
    "\n",
    "# Neural Network plots\n",
    "plt.plot(acc_nn.accuracies, 'r-', label = \"Training Accuracies - NN\")\n",
    "plt.plot(acc_nn.test_accuracies, 'g-', label = \"Testing Accuracies - NN\")\n",
    "\n",
    "# Logistic Regression plots\n",
    "plt.plot(acc_lr.accuracies, 'k-', label = \"Training Accuracies - LR\")\n",
    "plt.plot(acc_lr.test_accuracies, 'b-', label = \"Testing Accuracies - LR\")\n",
    "plt.legend()"
   ]
  },
  {
   "cell_type": "markdown",
   "id": "80dfb35c",
   "metadata": {
    "papermill": {
     "duration": 0.050019,
     "end_time": "2022-01-29T10:11:04.942333",
     "exception": false,
     "start_time": "2022-01-29T10:11:04.892314",
     "status": "completed"
    },
    "tags": []
   },
   "source": [
    "#### Plotting the outputs of this layer of the NN.\n"
   ]
  },
  {
   "cell_type": "code",
   "execution_count": 25,
   "id": "45eb2ff5",
   "metadata": {
    "execution": {
     "iopub.execute_input": "2022-01-29T10:11:05.048014Z",
     "iopub.status.busy": "2022-01-29T10:11:05.047371Z",
     "iopub.status.idle": "2022-01-29T10:11:05.069374Z",
     "shell.execute_reply": "2022-01-29T10:11:05.069895Z"
    },
    "papermill": {
     "duration": 0.077663,
     "end_time": "2022-01-29T10:11:05.070068",
     "exception": false,
     "start_time": "2022-01-29T10:11:04.992405",
     "status": "completed"
    },
    "tags": []
   },
   "outputs": [],
   "source": [
    "new_model = Model(layers[:-2])\n",
    "testing_plot = new_model(testing_data_x)"
   ]
  },
  {
   "cell_type": "code",
   "execution_count": 26,
   "id": "4c0a5485",
   "metadata": {
    "execution": {
     "iopub.execute_input": "2022-01-29T10:11:05.178339Z",
     "iopub.status.busy": "2022-01-29T10:11:05.177700Z",
     "iopub.status.idle": "2022-01-29T10:11:05.429165Z",
     "shell.execute_reply": "2022-01-29T10:11:05.429678Z"
    },
    "papermill": {
     "duration": 0.309345,
     "end_time": "2022-01-29T10:11:05.429842",
     "exception": false,
     "start_time": "2022-01-29T10:11:05.120497",
     "status": "completed"
    },
    "tags": []
   },
   "outputs": [
    {
     "data": {
      "text/plain": [
       "Text(0.5, 1.0, 'Outputs')"
      ]
     },
     "execution_count": 26,
     "metadata": {},
     "output_type": "execute_result"
    },
    {
     "data": {
      "image/png": "[encoded data removed]",
      "text/plain": [
       "<Figure size 576x504 with 1 Axes>"
      ]
     },
     "metadata": {
      "needs_background": "light"
     },
     "output_type": "display_data"
    }
   ],
   "source": [
    "# Plotting the scatter plot of points and color coding by class\n",
    "plt.figure(figsize=(8,7))\n",
    "plt.scatter(testing_plot[:,0], testing_plot[:,1], alpha = 0.1, c = y_test.ravel());\n",
    "plt.title('Outputs')"
   ]
  },
  {
   "cell_type": "markdown",
   "id": "a74fcf8f",
   "metadata": {
    "papermill": {
     "duration": 0.052363,
     "end_time": "2022-01-29T10:11:05.535246",
     "exception": false,
     "start_time": "2022-01-29T10:11:05.482883",
     "status": "completed"
    },
    "tags": []
   },
   "source": [
    "Probability contours"
   ]
  },
  {
   "cell_type": "code",
   "execution_count": 27,
   "id": "d0afc8e3",
   "metadata": {
    "execution": {
     "iopub.execute_input": "2022-01-29T10:11:05.645823Z",
     "iopub.status.busy": "2022-01-29T10:11:05.644873Z",
     "iopub.status.idle": "2022-01-29T10:11:05.657770Z",
     "shell.execute_reply": "2022-01-29T10:11:05.657263Z"
    },
    "papermill": {
     "duration": 0.070187,
     "end_time": "2022-01-29T10:11:05.657912",
     "exception": false,
     "start_time": "2022-01-29T10:11:05.587725",
     "status": "completed"
    },
    "tags": []
   },
   "outputs": [],
   "source": [
    "model_prob = Model(layers[-2:]) "
   ]
  },
  {
   "cell_type": "code",
   "execution_count": 28,
   "id": "9b96e238",
   "metadata": {
    "execution": {
     "iopub.execute_input": "2022-01-29T10:11:05.800063Z",
     "iopub.status.busy": "2022-01-29T10:11:05.799426Z",
     "iopub.status.idle": "2022-01-29T10:11:05.815621Z",
     "shell.execute_reply": "2022-01-29T10:11:05.816096Z"
    },
    "papermill": {
     "duration": 0.076028,
     "end_time": "2022-01-29T10:11:05.816256",
     "exception": false,
     "start_time": "2022-01-29T10:11:05.740228",
     "status": "completed"
    },
    "tags": []
   },
   "outputs": [],
   "source": [
    "#creating the x and y ranges according to the above generated plot.\n",
    "x_range = np.linspace(-4, 1, 100) \n",
    "y_range = np.linspace(-6, 6, 100) \n",
    "x_grid, y_grid = np.meshgrid(x_range, y_range) # x_grid and y_grig are of size 100 X 100\n",
    "\n",
    "# converting x_grid and y_grid to continuous arrays\n",
    "x_gridflat = np.ravel(x_grid)\n",
    "y_gridflat = np.ravel(y_grid)\n",
    "\n",
    "# The last layer of the current model takes two columns as input. Hence transpose of np.vstack() is required.\n",
    "X = np.vstack((x_gridflat, y_gridflat)).T\n",
    "\n",
    "prob_contour = model_prob(X).reshape(100,100) "
   ]
  },
  {
   "cell_type": "code",
   "execution_count": 29,
   "id": "da72499a",
   "metadata": {
    "execution": {
     "iopub.execute_input": "2022-01-29T10:11:05.941953Z",
     "iopub.status.busy": "2022-01-29T10:11:05.941313Z",
     "iopub.status.idle": "2022-01-29T10:11:06.245929Z",
     "shell.execute_reply": "2022-01-29T10:11:06.245407Z"
    },
    "papermill": {
     "duration": 0.373072,
     "end_time": "2022-01-29T10:11:06.246073",
     "exception": false,
     "start_time": "2022-01-29T10:11:05.873001",
     "status": "completed"
    },
    "tags": []
   },
   "outputs": [
    {
     "data": {
      "image/png": "[encoded data removed]",
      "text/plain": [
       "<Figure size 720x648 with 1 Axes>"
      ]
     },
     "metadata": {
      "needs_background": "light"
     },
     "output_type": "display_data"
    }
   ],
   "source": [
    "plt.figure(figsize=(10,9))\n",
    "plt.scatter(testing_plot[:,0], testing_plot[:,1], alpha = 0.1, c = y_test.ravel())\n",
    "contours = plt.contour(x_grid,y_grid,prob_contour)\n",
    "plt.title('Probability Contours')\n",
    "plt.clabel(contours, inline = True );"
   ]
  },
  {
   "cell_type": "code",
   "execution_count": null,
   "id": "e81b4ac7",
   "metadata": {
    "papermill": {
     "duration": 0.055993,
     "end_time": "2022-01-29T10:11:06.359470",
     "exception": false,
     "start_time": "2022-01-29T10:11:06.303477",
     "status": "completed"
    },
    "tags": []
   },
   "outputs": [],
   "source": []
  }
 ],
 "metadata": {
  "kernelspec": {
   "display_name": "Python 3",
   "language": "python",
   "name": "python3"
  },
  "language_info": {
   "codemirror_mode": {
    "name": "ipython",
    "version": 3
   },
   "file_extension": ".py",
   "mimetype": "text/x-python",
   "name": "python",
   "nbconvert_exporter": "python",
   "pygments_lexer": "ipython3",
   "version": "3.6.15"
  },
  "papermill": {
   "default_parameters": {},
   "duration": 115.943129,
   "end_time": "2022-01-29T10:11:06.836608",
   "environment_variables": {},
   "exception": null,
   "input_path": "2020-08-11-part2.ipynb",
   "output_path": "2020-08-11-part2.ipynb",
   "parameters": {},
   "start_time": "2022-01-29T10:09:10.893479",
   "version": "2.3.3"
  }
 },
 "nbformat": 4,
 "nbformat_minor": 5
}