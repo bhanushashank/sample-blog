{
 "cells": [
  {
   "cell_type": "markdown",
   "id": "98380cd3",
   "metadata": {
    "papermill": {
     "duration": 0.037027,
     "end_time": "2022-06-06T10:11:14.576858",
     "exception": false,
     "start_time": "2022-06-06T10:11:14.539831",
     "status": "completed"
    },
    "tags": []
   },
   "source": [
    "# Distinguish Your Own Digits (DYOD)"
   ]
  },
  {
   "cell_type": "markdown",
   "id": "ef31240d",
   "metadata": {
    "papermill": {
     "duration": 0.031337,
     "end_time": "2022-06-06T10:11:14.640490",
     "exception": false,
     "start_time": "2022-06-06T10:11:14.609153",
     "status": "completed"
    },
    "tags": []
   },
   "source": [
    "You are going to write a classifier that distinguishes between the number 3 and number 8."
   ]
  },
  {
   "cell_type": "code",
   "execution_count": 1,
   "id": "b15c8646",
   "metadata": {
    "execution": {
     "iopub.execute_input": "2022-06-06T10:11:14.717932Z",
     "iopub.status.busy": "2022-06-06T10:11:14.717038Z",
     "iopub.status.idle": "2022-06-06T10:11:14.731261Z",
     "shell.execute_reply": "2022-06-06T10:11:14.730657Z"
    },
    "papermill": {
     "duration": 0.059864,
     "end_time": "2022-06-06T10:11:14.731422",
     "exception": false,
     "start_time": "2022-06-06T10:11:14.671558",
     "status": "completed"
    },
    "tags": []
   },
   "outputs": [],
   "source": [
    "%load_ext autoreload\n",
    "%autoreload 2"
   ]
  },
  {
   "cell_type": "code",
   "execution_count": 2,
   "id": "22ef38dc",
   "metadata": {
    "execution": {
     "iopub.execute_input": "2022-06-06T10:11:14.809311Z",
     "iopub.status.busy": "2022-06-06T10:11:14.808510Z",
     "iopub.status.idle": "2022-06-06T10:11:15.520266Z",
     "shell.execute_reply": "2022-06-06T10:11:15.518740Z"
    },
    "papermill": {
     "duration": 0.756477,
     "end_time": "2022-06-06T10:11:15.520481",
     "exception": false,
     "start_time": "2022-06-06T10:11:14.764004",
     "status": "completed"
    },
    "tags": []
   },
   "outputs": [],
   "source": [
    "%matplotlib inline\n",
    "import numpy as np\n",
    "import matplotlib.pyplot as plt\n",
    "import pandas as pd"
   ]
  },
  {
   "cell_type": "markdown",
   "id": "ba036198",
   "metadata": {
    "papermill": {
     "duration": 0.030982,
     "end_time": "2022-06-06T10:11:15.583426",
     "exception": false,
     "start_time": "2022-06-06T10:11:15.552444",
     "status": "completed"
    },
    "tags": []
   },
   "source": [
    "From the command line run `pip install mnist`. This is a library that will help you bring down the mnist dataset. If you run this from a notebook, you need to put  `!pip install mnist` in a cell by itself."
   ]
  },
  {
   "cell_type": "code",
   "execution_count": 3,
   "id": "bb6ad8a1",
   "metadata": {
    "execution": {
     "iopub.execute_input": "2022-06-06T10:11:15.654280Z",
     "iopub.status.busy": "2022-06-06T10:11:15.653455Z",
     "iopub.status.idle": "2022-06-06T10:11:17.874585Z",
     "shell.execute_reply": "2022-06-06T10:11:17.873975Z"
    },
    "papermill": {
     "duration": 2.258506,
     "end_time": "2022-06-06T10:11:17.874892",
     "exception": false,
     "start_time": "2022-06-06T10:11:15.616386",
     "status": "completed"
    },
    "tags": []
   },
   "outputs": [
    {
     "name": "stdout",
     "output_type": "stream",
     "text": [
      "Collecting mnist\r\n"
     ]
    },
    {
     "name": "stdout",
     "output_type": "stream",
     "text": [
      "  Downloading mnist-0.2.2-py2.py3-none-any.whl (3.5 kB)\r\n",
      "Requirement already satisfied: numpy in /opt/hostedtoolcache/Python/3.6.15/x64/lib/python3.6/site-packages (from mnist) (1.19.5)\r\n"
     ]
    },
    {
     "name": "stdout",
     "output_type": "stream",
     "text": [
      "Installing collected packages: mnist\r\n"
     ]
    },
    {
     "name": "stdout",
     "output_type": "stream",
     "text": [
      "Successfully installed mnist-0.2.2\r\n"
     ]
    }
   ],
   "source": [
    "!pip install mnist"
   ]
  },
  {
   "cell_type": "markdown",
   "id": "69df9c9a",
   "metadata": {
    "papermill": {
     "duration": 0.033905,
     "end_time": "2022-06-06T10:11:17.943272",
     "exception": false,
     "start_time": "2022-06-06T10:11:17.909367",
     "status": "completed"
    },
    "tags": []
   },
   "source": [
    "## Preparing the Data"
   ]
  },
  {
   "cell_type": "code",
   "execution_count": 4,
   "id": "7f69d806",
   "metadata": {
    "execution": {
     "iopub.execute_input": "2022-06-06T10:11:18.015645Z",
     "iopub.status.busy": "2022-06-06T10:11:18.014869Z",
     "iopub.status.idle": "2022-06-06T10:11:18.033891Z",
     "shell.execute_reply": "2022-06-06T10:11:18.033167Z"
    },
    "papermill": {
     "duration": 0.056532,
     "end_time": "2022-06-06T10:11:18.034038",
     "exception": false,
     "start_time": "2022-06-06T10:11:17.977506",
     "status": "completed"
    },
    "tags": []
   },
   "outputs": [],
   "source": [
    "import mnist"
   ]
  },
  {
   "cell_type": "code",
   "execution_count": 5,
   "id": "a411e44f",
   "metadata": {
    "execution": {
     "iopub.execute_input": "2022-06-06T10:11:18.108235Z",
     "iopub.status.busy": "2022-06-06T10:11:18.107450Z",
     "iopub.status.idle": "2022-06-06T10:11:18.770215Z",
     "shell.execute_reply": "2022-06-06T10:11:18.769552Z"
    },
    "papermill": {
     "duration": 0.70216,
     "end_time": "2022-06-06T10:11:18.770369",
     "exception": false,
     "start_time": "2022-06-06T10:11:18.068209",
     "status": "completed"
    },
    "tags": []
   },
   "outputs": [],
   "source": [
    "train_images = mnist.train_images()\n",
    "train_labels = mnist.train_labels()"
   ]
  },
  {
   "cell_type": "code",
   "execution_count": 6,
   "id": "dceab3a5",
   "metadata": {
    "execution": {
     "iopub.execute_input": "2022-06-06T10:11:18.845871Z",
     "iopub.status.busy": "2022-06-06T10:11:18.844494Z",
     "iopub.status.idle": "2022-06-06T10:11:18.868907Z",
     "shell.execute_reply": "2022-06-06T10:11:18.868273Z"
    },
    "papermill": {
     "duration": 0.063701,
     "end_time": "2022-06-06T10:11:18.869070",
     "exception": false,
     "start_time": "2022-06-06T10:11:18.805369",
     "status": "completed"
    },
    "tags": []
   },
   "outputs": [
    {
     "data": {
      "text/plain": [
       "((60000, 28, 28), (60000,))"
      ]
     },
     "execution_count": 6,
     "metadata": {},
     "output_type": "execute_result"
    }
   ],
   "source": [
    "train_images.shape, train_labels.shape"
   ]
  },
  {
   "cell_type": "code",
   "execution_count": 7,
   "id": "f50dc2bb",
   "metadata": {
    "execution": {
     "iopub.execute_input": "2022-06-06T10:11:18.946415Z",
     "iopub.status.busy": "2022-06-06T10:11:18.945480Z",
     "iopub.status.idle": "2022-06-06T10:11:19.155622Z",
     "shell.execute_reply": "2022-06-06T10:11:19.155013Z"
    },
    "papermill": {
     "duration": 0.2521,
     "end_time": "2022-06-06T10:11:19.155807",
     "exception": false,
     "start_time": "2022-06-06T10:11:18.903707",
     "status": "completed"
    },
    "tags": []
   },
   "outputs": [],
   "source": [
    "test_images = mnist.test_images()\n",
    "test_labels = mnist.test_labels()"
   ]
  },
  {
   "cell_type": "code",
   "execution_count": 8,
   "id": "fc38cf1b",
   "metadata": {
    "execution": {
     "iopub.execute_input": "2022-06-06T10:11:19.229563Z",
     "iopub.status.busy": "2022-06-06T10:11:19.228788Z",
     "iopub.status.idle": "2022-06-06T10:11:19.245651Z",
     "shell.execute_reply": "2022-06-06T10:11:19.246217Z"
    },
    "papermill": {
     "duration": 0.056361,
     "end_time": "2022-06-06T10:11:19.246426",
     "exception": false,
     "start_time": "2022-06-06T10:11:19.190065",
     "status": "completed"
    },
    "tags": []
   },
   "outputs": [
    {
     "data": {
      "text/plain": [
       "((10000, 28, 28), (10000,))"
      ]
     },
     "execution_count": 8,
     "metadata": {},
     "output_type": "execute_result"
    }
   ],
   "source": [
    "test_images.shape, test_labels.shape"
   ]
  },
  {
   "cell_type": "code",
   "execution_count": 9,
   "id": "f9ed8fe0",
   "metadata": {
    "execution": {
     "iopub.execute_input": "2022-06-06T10:11:19.323487Z",
     "iopub.status.busy": "2022-06-06T10:11:19.322627Z",
     "iopub.status.idle": "2022-06-06T10:11:19.529362Z",
     "shell.execute_reply": "2022-06-06T10:11:19.528725Z"
    },
    "papermill": {
     "duration": 0.248476,
     "end_time": "2022-06-06T10:11:19.529566",
     "exception": false,
     "start_time": "2022-06-06T10:11:19.281090",
     "status": "completed"
    },
    "tags": []
   },
   "outputs": [
    {
     "name": "stdout",
     "output_type": "stream",
     "text": [
      "2\n"
     ]
    },
    {
     "data": {
      "text/plain": [
       "<matplotlib.image.AxesImage at 0x7f049b913400>"
      ]
     },
     "execution_count": 9,
     "metadata": {},
     "output_type": "execute_result"
    },
    {
     "data": {
      "image/png": "[encoded data removed]",
      "text/plain": [
       "<Figure size 432x288 with 1 Axes>"
      ]
     },
     "metadata": {
      "needs_background": "light"
     },
     "output_type": "display_data"
    }
   ],
   "source": [
    "image_index = 7776 # You may select anything up to 60,000\n",
    "print(train_labels[image_index]) \n",
    "plt.imshow(train_images[image_index], cmap='Greys')"
   ]
  },
  {
   "cell_type": "markdown",
   "id": "a8d2388d",
   "metadata": {
    "papermill": {
     "duration": 0.036614,
     "end_time": "2022-06-06T10:11:19.604007",
     "exception": false,
     "start_time": "2022-06-06T10:11:19.567393",
     "status": "completed"
    },
    "tags": []
   },
   "source": [
    "## Filter data to get 3 and 8 out"
   ]
  },
  {
   "cell_type": "code",
   "execution_count": 10,
   "id": "776f7fc7",
   "metadata": {
    "execution": {
     "iopub.execute_input": "2022-06-06T10:11:19.693001Z",
     "iopub.status.busy": "2022-06-06T10:11:19.685515Z",
     "iopub.status.idle": "2022-06-06T10:11:19.708175Z",
     "shell.execute_reply": "2022-06-06T10:11:19.707446Z"
    },
    "papermill": {
     "duration": 0.068284,
     "end_time": "2022-06-06T10:11:19.708338",
     "exception": false,
     "start_time": "2022-06-06T10:11:19.640054",
     "status": "completed"
    },
    "tags": []
   },
   "outputs": [],
   "source": [
    "train_filter = np.where((train_labels == 3 ) | (train_labels == 8))\n",
    "test_filter = np.where((test_labels == 3) | (test_labels == 8))\n",
    "X_train, y_train = train_images[train_filter], train_labels[train_filter]\n",
    "X_test, y_test = test_images[test_filter], test_labels[test_filter]"
   ]
  },
  {
   "cell_type": "markdown",
   "id": "948f0b7e",
   "metadata": {
    "papermill": {
     "duration": 0.036262,
     "end_time": "2022-06-06T10:11:19.784527",
     "exception": false,
     "start_time": "2022-06-06T10:11:19.748265",
     "status": "completed"
    },
    "tags": []
   },
   "source": [
    "We normalize the pizel values in the 0 to 1 range"
   ]
  },
  {
   "cell_type": "code",
   "execution_count": 11,
   "id": "ee4c2166",
   "metadata": {
    "execution": {
     "iopub.execute_input": "2022-06-06T10:11:19.863103Z",
     "iopub.status.busy": "2022-06-06T10:11:19.862297Z",
     "iopub.status.idle": "2022-06-06T10:11:19.927671Z",
     "shell.execute_reply": "2022-06-06T10:11:19.926994Z"
    },
    "papermill": {
     "duration": 0.106771,
     "end_time": "2022-06-06T10:11:19.927827",
     "exception": false,
     "start_time": "2022-06-06T10:11:19.821056",
     "status": "completed"
    },
    "tags": []
   },
   "outputs": [],
   "source": [
    "X_train = X_train/255.\n",
    "X_test = X_test/255."
   ]
  },
  {
   "cell_type": "markdown",
   "id": "ddcf4fab",
   "metadata": {
    "papermill": {
     "duration": 0.036423,
     "end_time": "2022-06-06T10:11:20.000864",
     "exception": false,
     "start_time": "2022-06-06T10:11:19.964441",
     "status": "completed"
    },
    "tags": []
   },
   "source": [
    "And setup the labels as 1 (when the digit is 3) and 0 (when the digit is 8)"
   ]
  },
  {
   "cell_type": "code",
   "execution_count": 12,
   "id": "7dc908f2",
   "metadata": {
    "execution": {
     "iopub.execute_input": "2022-06-06T10:11:20.078559Z",
     "iopub.status.busy": "2022-06-06T10:11:20.077744Z",
     "iopub.status.idle": "2022-06-06T10:11:20.094764Z",
     "shell.execute_reply": "2022-06-06T10:11:20.094081Z"
    },
    "papermill": {
     "duration": 0.057719,
     "end_time": "2022-06-06T10:11:20.094914",
     "exception": false,
     "start_time": "2022-06-06T10:11:20.037195",
     "status": "completed"
    },
    "tags": []
   },
   "outputs": [],
   "source": [
    "y_train = 1*(y_train==3)\n",
    "y_test = 1*(y_test==3)"
   ]
  },
  {
   "cell_type": "code",
   "execution_count": 13,
   "id": "01e4e969",
   "metadata": {
    "execution": {
     "iopub.execute_input": "2022-06-06T10:11:20.177323Z",
     "iopub.status.busy": "2022-06-06T10:11:20.176522Z",
     "iopub.status.idle": "2022-06-06T10:11:20.192186Z",
     "shell.execute_reply": "2022-06-06T10:11:20.192816Z"
    },
    "papermill": {
     "duration": 0.060752,
     "end_time": "2022-06-06T10:11:20.193172",
     "exception": false,
     "start_time": "2022-06-06T10:11:20.132420",
     "status": "completed"
    },
    "tags": []
   },
   "outputs": [
    {
     "data": {
      "text/plain": [
       "((11982, 28, 28), (1984, 28, 28))"
      ]
     },
     "execution_count": 13,
     "metadata": {},
     "output_type": "execute_result"
    }
   ],
   "source": [
    "X_train.shape, X_test.shape"
   ]
  },
  {
   "cell_type": "markdown",
   "id": "5ccf3f85",
   "metadata": {
    "papermill": {
     "duration": 0.035837,
     "end_time": "2022-06-06T10:11:20.265200",
     "exception": false,
     "start_time": "2022-06-06T10:11:20.229363",
     "status": "completed"
    },
    "tags": []
   },
   "source": [
    "We reshape the data to flatten the image pixels into a set of features or co-variates:"
   ]
  },
  {
   "cell_type": "code",
   "execution_count": 14,
   "id": "5286a4a3",
   "metadata": {
    "execution": {
     "iopub.execute_input": "2022-06-06T10:11:20.354426Z",
     "iopub.status.busy": "2022-06-06T10:11:20.353630Z",
     "iopub.status.idle": "2022-06-06T10:11:20.370479Z",
     "shell.execute_reply": "2022-06-06T10:11:20.371322Z"
    },
    "papermill": {
     "duration": 0.06417,
     "end_time": "2022-06-06T10:11:20.371500",
     "exception": false,
     "start_time": "2022-06-06T10:11:20.307330",
     "status": "completed"
    },
    "tags": []
   },
   "outputs": [
    {
     "data": {
      "text/plain": [
       "((11982, 784), (1984, 784))"
      ]
     },
     "execution_count": 14,
     "metadata": {},
     "output_type": "execute_result"
    }
   ],
   "source": [
    "X_train = X_train.reshape(X_train.shape[0], -1)\n",
    "X_test = X_test.reshape(X_test.shape[0], -1)\n",
    "X_train.shape, X_test.shape"
   ]
  },
  {
   "cell_type": "code",
   "execution_count": 15,
   "id": "73c5f88a",
   "metadata": {
    "execution": {
     "iopub.execute_input": "2022-06-06T10:11:20.462383Z",
     "iopub.status.busy": "2022-06-06T10:11:20.457675Z",
     "iopub.status.idle": "2022-06-06T10:11:20.479746Z",
     "shell.execute_reply": "2022-06-06T10:11:20.479087Z"
    },
    "papermill": {
     "duration": 0.071377,
     "end_time": "2022-06-06T10:11:20.479898",
     "exception": false,
     "start_time": "2022-06-06T10:11:20.408521",
     "status": "completed"
    },
    "tags": []
   },
   "outputs": [],
   "source": [
    "#Impoting functions from 'Kudzu'\n",
    "from kudzu.model import Model\n",
    "from kudzu.train import Learner\n",
    "from kudzu.optim import GD\n",
    "from kudzu.data import Data, Sampler,Dataloader\n",
    "\n",
    "from kudzu.callbacks import AccCallback\n",
    "from kudzu.callbacks import ClfCallback\n",
    "\n",
    "from kudzu.loss import MSE\n",
    "\n",
    "from kudzu.layer import Sigmoid,Relu\n",
    "from kudzu.layer import Affine"
   ]
  },
  {
   "cell_type": "markdown",
   "id": "bc01172a",
   "metadata": {
    "papermill": {
     "duration": 0.036891,
     "end_time": "2022-06-06T10:11:20.553249",
     "exception": false,
     "start_time": "2022-06-06T10:11:20.516358",
     "status": "completed"
    },
    "tags": []
   },
   "source": [
    "### Let us create a `Config` class, to store important parameters. \n",
    "This class essentially plays the role of a dictionary."
   ]
  },
  {
   "cell_type": "code",
   "execution_count": 16,
   "id": "978281aa",
   "metadata": {
    "execution": {
     "iopub.execute_input": "2022-06-06T10:11:20.633623Z",
     "iopub.status.busy": "2022-06-06T10:11:20.632744Z",
     "iopub.status.idle": "2022-06-06T10:11:20.648316Z",
     "shell.execute_reply": "2022-06-06T10:11:20.647684Z"
    },
    "papermill": {
     "duration": 0.058816,
     "end_time": "2022-06-06T10:11:20.648466",
     "exception": false,
     "start_time": "2022-06-06T10:11:20.589650",
     "status": "completed"
    },
    "tags": []
   },
   "outputs": [],
   "source": [
    "class Config:\n",
    "    pass\n",
    "config = Config()\n",
    "config.lr = 0.001\n",
    "config.num_epochs = 250\n",
    "config.bs = 50"
   ]
  },
  {
   "cell_type": "markdown",
   "id": "1385fa59",
   "metadata": {
    "papermill": {
     "duration": 0.03662,
     "end_time": "2022-06-06T10:11:20.721160",
     "exception": false,
     "start_time": "2022-06-06T10:11:20.684540",
     "status": "completed"
    },
    "tags": []
   },
   "source": [
    "### Running Models with the Training data\n",
    "Details about the network layers:\n",
    "- A first affine layer has 784 inputs and does 100 affine transforms. These are followed by a Relu\n",
    "- A second affine layer has 100 inputs from the 100 activations of the past layer, and does 100 affine transforms. These are followed by a Relu\n",
    "- A third affine layer has 100 activations and does 2 affine transformations to create an embedding for visualization. There is no non-linearity here.\n",
    "- A final \"logistic regression\" which has an affine transform from 2 inputs to 1 output, which is squeezed through a sigmoid.\n"
   ]
  },
  {
   "cell_type": "code",
   "execution_count": 17,
   "id": "2b9c66db",
   "metadata": {
    "execution": {
     "iopub.execute_input": "2022-06-06T10:11:20.802907Z",
     "iopub.status.busy": "2022-06-06T10:11:20.802155Z",
     "iopub.status.idle": "2022-06-06T10:11:20.815682Z",
     "shell.execute_reply": "2022-06-06T10:11:20.816293Z"
    },
    "papermill": {
     "duration": 0.058436,
     "end_time": "2022-06-06T10:11:20.816511",
     "exception": false,
     "start_time": "2022-06-06T10:11:20.758075",
     "status": "completed"
    },
    "tags": []
   },
   "outputs": [],
   "source": [
    "data = Data(X_train, y_train.reshape(-1,1))\n",
    "sampler = Sampler(data, config.bs, shuffle=True)\n",
    "\n",
    "dl = Dataloader(data, sampler)\n",
    "\n",
    "opt = GD(config.lr)\n",
    "loss = MSE()"
   ]
  },
  {
   "cell_type": "code",
   "execution_count": 18,
   "id": "b275e4c2",
   "metadata": {
    "execution": {
     "iopub.execute_input": "2022-06-06T10:11:20.896849Z",
     "iopub.status.busy": "2022-06-06T10:11:20.896004Z",
     "iopub.status.idle": "2022-06-06T10:11:20.911723Z",
     "shell.execute_reply": "2022-06-06T10:11:20.911061Z"
    },
    "papermill": {
     "duration": 0.057769,
     "end_time": "2022-06-06T10:11:20.911875",
     "exception": false,
     "start_time": "2022-06-06T10:11:20.854106",
     "status": "completed"
    },
    "tags": []
   },
   "outputs": [],
   "source": [
    "training_data_x = X_train\n",
    "testing_data_x = X_test\n",
    "training_data_y = y_train.reshape(-1,1)\n",
    "testing_data_y = y_test.reshape(-1,1)"
   ]
  },
  {
   "cell_type": "code",
   "execution_count": 19,
   "id": "76951160",
   "metadata": {
    "execution": {
     "iopub.execute_input": "2022-06-06T10:11:20.991834Z",
     "iopub.status.busy": "2022-06-06T10:11:20.990977Z",
     "iopub.status.idle": "2022-06-06T10:11:21.012041Z",
     "shell.execute_reply": "2022-06-06T10:11:21.011267Z"
    },
    "papermill": {
     "duration": 0.062955,
     "end_time": "2022-06-06T10:11:21.012205",
     "exception": false,
     "start_time": "2022-06-06T10:11:20.949250",
     "status": "completed"
    },
    "tags": []
   },
   "outputs": [
    {
     "name": "stdout",
     "output_type": "stream",
     "text": [
      "xavier\n",
      "xavier\n",
      "xavier\n",
      "xavier\n",
      "xavier\n"
     ]
    }
   ],
   "source": [
    "layers = [Affine(\"first\", 784, 100), Relu(\"first\"), Affine(\"second\", 100, 100), Relu(\"second\"), Affine(\"third\", 100, 2), Affine(\"last\", 2, 1), Sigmoid(\"last\")]\n",
    "model_nn = Model(layers)\n",
    "model_lr = Model([Affine(\"logits\", 784, 1), Sigmoid(\"sigmoid\")])"
   ]
  },
  {
   "cell_type": "code",
   "execution_count": 20,
   "id": "6eede77a",
   "metadata": {
    "execution": {
     "iopub.execute_input": "2022-06-06T10:11:21.095520Z",
     "iopub.status.busy": "2022-06-06T10:11:21.094303Z",
     "iopub.status.idle": "2022-06-06T10:11:21.110179Z",
     "shell.execute_reply": "2022-06-06T10:11:21.110783Z"
    },
    "papermill": {
     "duration": 0.060467,
     "end_time": "2022-06-06T10:11:21.110963",
     "exception": false,
     "start_time": "2022-06-06T10:11:21.050496",
     "status": "completed"
    },
    "tags": []
   },
   "outputs": [],
   "source": [
    "nn_learner = Learner(loss, model_nn, opt, config.num_epochs)\n",
    "acc_nn = ClfCallback(nn_learner, config.bs, training_data_x , testing_data_x, training_data_y, testing_data_y)\n",
    "nn_learner.set_callbacks([acc_nn])"
   ]
  },
  {
   "cell_type": "code",
   "execution_count": 21,
   "id": "877b6cc7",
   "metadata": {
    "execution": {
     "iopub.execute_input": "2022-06-06T10:11:21.195117Z",
     "iopub.status.busy": "2022-06-06T10:11:21.194340Z",
     "iopub.status.idle": "2022-06-06T10:11:21.209821Z",
     "shell.execute_reply": "2022-06-06T10:11:21.209127Z"
    },
    "papermill": {
     "duration": 0.061073,
     "end_time": "2022-06-06T10:11:21.209970",
     "exception": false,
     "start_time": "2022-06-06T10:11:21.148897",
     "status": "completed"
    },
    "tags": []
   },
   "outputs": [],
   "source": [
    "lr_learner = Learner(loss, model_lr, opt, config.num_epochs)\n",
    "acc_lr = ClfCallback(lr_learner, config.bs, training_data_x , testing_data_x, training_data_y, testing_data_y)\n",
    "lr_learner.set_callbacks([acc_lr])"
   ]
  },
  {
   "cell_type": "code",
   "execution_count": 22,
   "id": "d9b133c3",
   "metadata": {
    "execution": {
     "iopub.execute_input": "2022-06-06T10:11:21.290906Z",
     "iopub.status.busy": "2022-06-06T10:11:21.290076Z",
     "iopub.status.idle": "2022-06-06T10:13:47.109184Z",
     "shell.execute_reply": "2022-06-06T10:13:47.110405Z"
    },
    "papermill": {
     "duration": 145.863737,
     "end_time": "2022-06-06T10:13:47.110590",
     "exception": false,
     "start_time": "2022-06-06T10:11:21.246853",
     "status": "completed"
    },
    "tags": []
   },
   "outputs": [
    {
     "name": "stdout",
     "output_type": "stream",
     "text": [
      "Epoch 0, Loss 0.2484\n",
      "Training Accuracy: 0.6325, Testing Accuracy: 0.6174\n",
      "\n"
     ]
    },
    {
     "name": "stdout",
     "output_type": "stream",
     "text": [
      "Epoch 10, Loss 0.0968\n",
      "Training Accuracy: 0.9180, Testing Accuracy: 0.9259\n",
      "\n"
     ]
    },
    {
     "name": "stdout",
     "output_type": "stream",
     "text": [
      "Epoch 20, Loss 0.0568\n",
      "Training Accuracy: 0.9434, Testing Accuracy: 0.9521\n",
      "\n"
     ]
    },
    {
     "name": "stdout",
     "output_type": "stream",
     "text": [
      "Epoch 30, Loss 0.044\n",
      "Training Accuracy: 0.9524, Testing Accuracy: 0.9587\n",
      "\n"
     ]
    },
    {
     "name": "stdout",
     "output_type": "stream",
     "text": [
      "Epoch 40, Loss 0.0377\n",
      "Training Accuracy: 0.9583, Testing Accuracy: 0.9637\n",
      "\n"
     ]
    },
    {
     "name": "stdout",
     "output_type": "stream",
     "text": [
      "Epoch 50, Loss 0.0339\n",
      "Training Accuracy: 0.9617, Testing Accuracy: 0.9657\n",
      "\n"
     ]
    },
    {
     "name": "stdout",
     "output_type": "stream",
     "text": [
      "Epoch 60, Loss 0.0313\n",
      "Training Accuracy: 0.9634, Testing Accuracy: 0.9693\n",
      "\n"
     ]
    },
    {
     "name": "stdout",
     "output_type": "stream",
     "text": [
      "Epoch 70, Loss 0.0293\n",
      "Training Accuracy: 0.9654, Testing Accuracy: 0.9698\n",
      "\n"
     ]
    },
    {
     "name": "stdout",
     "output_type": "stream",
     "text": [
      "Epoch 80, Loss 0.0278\n",
      "Training Accuracy: 0.9670, Testing Accuracy: 0.9708\n",
      "\n"
     ]
    },
    {
     "name": "stdout",
     "output_type": "stream",
     "text": [
      "Epoch 90, Loss 0.0265\n",
      "Training Accuracy: 0.9686, Testing Accuracy: 0.9708\n",
      "\n"
     ]
    },
    {
     "name": "stdout",
     "output_type": "stream",
     "text": [
      "Epoch 100, Loss 0.0255\n",
      "Training Accuracy: 0.9702, Testing Accuracy: 0.9713\n",
      "\n"
     ]
    },
    {
     "name": "stdout",
     "output_type": "stream",
     "text": [
      "Epoch 110, Loss 0.0245\n",
      "Training Accuracy: 0.9719, Testing Accuracy: 0.9713\n",
      "\n"
     ]
    },
    {
     "name": "stdout",
     "output_type": "stream",
     "text": [
      "Epoch 120, Loss 0.0237\n",
      "Training Accuracy: 0.9727, Testing Accuracy: 0.9713\n",
      "\n"
     ]
    },
    {
     "name": "stdout",
     "output_type": "stream",
     "text": [
      "Epoch 130, Loss 0.023\n",
      "Training Accuracy: 0.9738, Testing Accuracy: 0.9718\n",
      "\n"
     ]
    },
    {
     "name": "stdout",
     "output_type": "stream",
     "text": [
      "Epoch 140, Loss 0.0223\n",
      "Training Accuracy: 0.9750, Testing Accuracy: 0.9713\n",
      "\n"
     ]
    },
    {
     "name": "stdout",
     "output_type": "stream",
     "text": [
      "Epoch 150, Loss 0.0217\n",
      "Training Accuracy: 0.9757, Testing Accuracy: 0.9723\n",
      "\n"
     ]
    },
    {
     "name": "stdout",
     "output_type": "stream",
     "text": [
      "Epoch 160, Loss 0.0211\n",
      "Training Accuracy: 0.9765, Testing Accuracy: 0.9728\n",
      "\n"
     ]
    },
    {
     "name": "stdout",
     "output_type": "stream",
     "text": [
      "Epoch 170, Loss 0.0206\n",
      "Training Accuracy: 0.9769, Testing Accuracy: 0.9738\n",
      "\n"
     ]
    },
    {
     "name": "stdout",
     "output_type": "stream",
     "text": [
      "Epoch 180, Loss 0.0201\n",
      "Training Accuracy: 0.9784, Testing Accuracy: 0.9743\n",
      "\n"
     ]
    },
    {
     "name": "stdout",
     "output_type": "stream",
     "text": [
      "Epoch 190, Loss 0.0196\n",
      "Training Accuracy: 0.9788, Testing Accuracy: 0.9743\n",
      "\n"
     ]
    },
    {
     "name": "stdout",
     "output_type": "stream",
     "text": [
      "Epoch 200, Loss 0.0192\n",
      "Training Accuracy: 0.9796, Testing Accuracy: 0.9748\n",
      "\n"
     ]
    },
    {
     "name": "stdout",
     "output_type": "stream",
     "text": [
      "Epoch 210, Loss 0.0188\n",
      "Training Accuracy: 0.9800, Testing Accuracy: 0.9753\n",
      "\n"
     ]
    },
    {
     "name": "stdout",
     "output_type": "stream",
     "text": [
      "Epoch 220, Loss 0.0184\n",
      "Training Accuracy: 0.9803, Testing Accuracy: 0.9763\n",
      "\n"
     ]
    },
    {
     "name": "stdout",
     "output_type": "stream",
     "text": [
      "Epoch 230, Loss 0.018\n",
      "Training Accuracy: 0.9806, Testing Accuracy: 0.9768\n",
      "\n"
     ]
    },
    {
     "name": "stdout",
     "output_type": "stream",
     "text": [
      "Epoch 240, Loss 0.0176\n",
      "Training Accuracy: 0.9808, Testing Accuracy: 0.9763\n",
      "\n"
     ]
    },
    {
     "data": {
      "text/plain": [
       "0.010384949754382701"
      ]
     },
     "execution_count": 22,
     "metadata": {},
     "output_type": "execute_result"
    }
   ],
   "source": [
    "nn_learner.train_loop(dl)"
   ]
  },
  {
   "cell_type": "code",
   "execution_count": 23,
   "id": "e0163366",
   "metadata": {
    "execution": {
     "iopub.execute_input": "2022-06-06T10:13:47.211903Z",
     "iopub.status.busy": "2022-06-06T10:13:47.211108Z",
     "iopub.status.idle": "2022-06-06T10:14:08.073333Z",
     "shell.execute_reply": "2022-06-06T10:14:08.074731Z"
    },
    "papermill": {
     "duration": 20.917879,
     "end_time": "2022-06-06T10:14:08.074910",
     "exception": false,
     "start_time": "2022-06-06T10:13:47.157031",
     "status": "completed"
    },
    "tags": []
   },
   "outputs": [
    {
     "name": "stdout",
     "output_type": "stream",
     "text": [
      "Epoch 0, Loss 0.2476\n",
      "Training Accuracy: 0.6624, Testing Accuracy: 0.6557\n",
      "\n"
     ]
    },
    {
     "name": "stdout",
     "output_type": "stream",
     "text": [
      "Epoch 10, Loss 0.1056\n",
      "Training Accuracy: 0.8988, Testing Accuracy: 0.9052\n",
      "\n"
     ]
    },
    {
     "name": "stdout",
     "output_type": "stream",
     "text": [
      "Epoch 20, Loss 0.0806\n",
      "Training Accuracy: 0.9234, Testing Accuracy: 0.9340\n",
      "\n"
     ]
    },
    {
     "name": "stdout",
     "output_type": "stream",
     "text": [
      "Epoch 30, Loss 0.0693\n",
      "Training Accuracy: 0.9337, Testing Accuracy: 0.9461\n",
      "\n"
     ]
    },
    {
     "name": "stdout",
     "output_type": "stream",
     "text": [
      "Epoch 40, Loss 0.0625\n",
      "Training Accuracy: 0.9384, Testing Accuracy: 0.9516\n",
      "\n"
     ]
    },
    {
     "name": "stdout",
     "output_type": "stream",
     "text": [
      "Epoch 50, Loss 0.0579\n",
      "Training Accuracy: 0.9426, Testing Accuracy: 0.9556\n",
      "\n"
     ]
    },
    {
     "name": "stdout",
     "output_type": "stream",
     "text": [
      "Epoch 60, Loss 0.0546\n",
      "Training Accuracy: 0.9455, Testing Accuracy: 0.9551\n",
      "\n"
     ]
    },
    {
     "name": "stdout",
     "output_type": "stream",
     "text": [
      "Epoch 70, Loss 0.052\n",
      "Training Accuracy: 0.9475, Testing Accuracy: 0.9567\n",
      "\n"
     ]
    },
    {
     "name": "stdout",
     "output_type": "stream",
     "text": [
      "Epoch 80, Loss 0.0499\n",
      "Training Accuracy: 0.9493, Testing Accuracy: 0.9597\n",
      "\n"
     ]
    },
    {
     "name": "stdout",
     "output_type": "stream",
     "text": [
      "Epoch 90, Loss 0.0481\n",
      "Training Accuracy: 0.9509, Testing Accuracy: 0.9602\n",
      "\n"
     ]
    },
    {
     "name": "stdout",
     "output_type": "stream",
     "text": [
      "Epoch 100, Loss 0.0467\n",
      "Training Accuracy: 0.9511, Testing Accuracy: 0.9612\n",
      "\n"
     ]
    },
    {
     "name": "stdout",
     "output_type": "stream",
     "text": [
      "Epoch 110, Loss 0.0454\n",
      "Training Accuracy: 0.9522, Testing Accuracy: 0.9617\n",
      "\n"
     ]
    },
    {
     "name": "stdout",
     "output_type": "stream",
     "text": [
      "Epoch 120, Loss 0.0443\n",
      "Training Accuracy: 0.9535, Testing Accuracy: 0.9627\n",
      "\n"
     ]
    },
    {
     "name": "stdout",
     "output_type": "stream",
     "text": [
      "Epoch 130, Loss 0.0434\n",
      "Training Accuracy: 0.9542, Testing Accuracy: 0.9632\n",
      "\n"
     ]
    },
    {
     "name": "stdout",
     "output_type": "stream",
     "text": [
      "Epoch 140, Loss 0.0425\n",
      "Training Accuracy: 0.9549, Testing Accuracy: 0.9632\n",
      "\n"
     ]
    },
    {
     "name": "stdout",
     "output_type": "stream",
     "text": [
      "Epoch 150, Loss 0.0418\n",
      "Training Accuracy: 0.9554, Testing Accuracy: 0.9637\n",
      "\n"
     ]
    },
    {
     "name": "stdout",
     "output_type": "stream",
     "text": [
      "Epoch 160, Loss 0.0411\n",
      "Training Accuracy: 0.9562, Testing Accuracy: 0.9642\n",
      "\n"
     ]
    },
    {
     "name": "stdout",
     "output_type": "stream",
     "text": [
      "Epoch 170, Loss 0.0405\n",
      "Training Accuracy: 0.9571, Testing Accuracy: 0.9652\n",
      "\n"
     ]
    },
    {
     "name": "stdout",
     "output_type": "stream",
     "text": [
      "Epoch 180, Loss 0.0399\n",
      "Training Accuracy: 0.9577, Testing Accuracy: 0.9657\n",
      "\n"
     ]
    },
    {
     "name": "stdout",
     "output_type": "stream",
     "text": [
      "Epoch 190, Loss 0.0393\n",
      "Training Accuracy: 0.9579, Testing Accuracy: 0.9662\n",
      "\n"
     ]
    },
    {
     "name": "stdout",
     "output_type": "stream",
     "text": [
      "Epoch 200, Loss 0.0389\n",
      "Training Accuracy: 0.9583, Testing Accuracy: 0.9662\n",
      "\n"
     ]
    },
    {
     "name": "stdout",
     "output_type": "stream",
     "text": [
      "Epoch 210, Loss 0.0384\n",
      "Training Accuracy: 0.9589, Testing Accuracy: 0.9667\n",
      "\n"
     ]
    },
    {
     "name": "stdout",
     "output_type": "stream",
     "text": [
      "Epoch 220, Loss 0.038\n",
      "Training Accuracy: 0.9594, Testing Accuracy: 0.9667\n",
      "\n"
     ]
    },
    {
     "name": "stdout",
     "output_type": "stream",
     "text": [
      "Epoch 230, Loss 0.0376\n",
      "Training Accuracy: 0.9599, Testing Accuracy: 0.9667\n",
      "\n"
     ]
    },
    {
     "name": "stdout",
     "output_type": "stream",
     "text": [
      "Epoch 240, Loss 0.0372\n",
      "Training Accuracy: 0.9603, Testing Accuracy: 0.9667\n",
      "\n"
     ]
    },
    {
     "data": {
      "text/plain": [
       "0.028468136536172084"
      ]
     },
     "execution_count": 23,
     "metadata": {},
     "output_type": "execute_result"
    }
   ],
   "source": [
    "lr_learner.train_loop(dl)"
   ]
  },
  {
   "cell_type": "code",
   "execution_count": 24,
   "id": "ca410940",
   "metadata": {
    "execution": {
     "iopub.execute_input": "2022-06-06T10:14:08.200948Z",
     "iopub.status.busy": "2022-06-06T10:14:08.200060Z",
     "iopub.status.idle": "2022-06-06T10:14:08.535788Z",
     "shell.execute_reply": "2022-06-06T10:14:08.534957Z"
    },
    "papermill": {
     "duration": 0.40194,
     "end_time": "2022-06-06T10:14:08.535955",
     "exception": false,
     "start_time": "2022-06-06T10:14:08.134015",
     "status": "completed"
    },
    "tags": []
   },
   "outputs": [
    {
     "data": {
      "text/plain": [
       "<matplotlib.legend.Legend at 0x7f049b475b38>"
      ]
     },
     "execution_count": 24,
     "metadata": {},
     "output_type": "execute_result"
    },
    {
     "data": {
      "image/png": "[encoded data removed]",
      "text/plain": [
       "<Figure size 1080x720 with 1 Axes>"
      ]
     },
     "metadata": {
      "needs_background": "light"
     },
     "output_type": "display_data"
    }
   ],
   "source": [
    "#comparing the results of NN and LR\n",
    "plt.figure(figsize=(15,10))\n",
    "\n",
    "# Neural Network plots\n",
    "plt.plot(acc_nn.accuracies, 'r-', label = \"Training Accuracies - NN\")\n",
    "plt.plot(acc_nn.test_accuracies, 'g-', label = \"Testing Accuracies - NN\")\n",
    "\n",
    "# Logistic Regression plots\n",
    "plt.plot(acc_lr.accuracies, 'k-', label = \"Training Accuracies - LR\")\n",
    "plt.plot(acc_lr.test_accuracies, 'b-', label = \"Testing Accuracies - LR\")\n",
    "plt.legend()"
   ]
  },
  {
   "cell_type": "markdown",
   "id": "80dfb35c",
   "metadata": {
    "papermill": {
     "duration": 0.057099,
     "end_time": "2022-06-06T10:14:08.649463",
     "exception": false,
     "start_time": "2022-06-06T10:14:08.592364",
     "status": "completed"
    },
    "tags": []
   },
   "source": [
    "#### Plotting the outputs of this layer of the NN.\n"
   ]
  },
  {
   "cell_type": "code",
   "execution_count": 25,
   "id": "45eb2ff5",
   "metadata": {
    "execution": {
     "iopub.execute_input": "2022-06-06T10:14:08.777619Z",
     "iopub.status.busy": "2022-06-06T10:14:08.775794Z",
     "iopub.status.idle": "2022-06-06T10:14:08.806500Z",
     "shell.execute_reply": "2022-06-06T10:14:08.807129Z"
    },
    "papermill": {
     "duration": 0.103006,
     "end_time": "2022-06-06T10:14:08.807314",
     "exception": false,
     "start_time": "2022-06-06T10:14:08.704308",
     "status": "completed"
    },
    "tags": []
   },
   "outputs": [],
   "source": [
    "new_model = Model(layers[:-2])\n",
    "testing_plot = new_model(testing_data_x)"
   ]
  },
  {
   "cell_type": "code",
   "execution_count": 26,
   "id": "4c0a5485",
   "metadata": {
    "execution": {
     "iopub.execute_input": "2022-06-06T10:14:08.931269Z",
     "iopub.status.busy": "2022-06-06T10:14:08.930436Z",
     "iopub.status.idle": "2022-06-06T10:14:09.196851Z",
     "shell.execute_reply": "2022-06-06T10:14:09.196249Z"
    },
    "papermill": {
     "duration": 0.330842,
     "end_time": "2022-06-06T10:14:09.196988",
     "exception": false,
     "start_time": "2022-06-06T10:14:08.866146",
     "status": "completed"
    },
    "tags": []
   },
   "outputs": [
    {
     "data": {
      "text/plain": [
       "Text(0.5, 1.0, 'Outputs')"
      ]
     },
     "execution_count": 26,
     "metadata": {},
     "output_type": "execute_result"
    },
    {
     "data": {
      "image/png": "[encoded data removed]",
      "text/plain": [
       "<Figure size 576x504 with 1 Axes>"
      ]
     },
     "metadata": {
      "needs_background": "light"
     },
     "output_type": "display_data"
    }
   ],
   "source": [
    "# Plotting the scatter plot of points and color coding by class\n",
    "plt.figure(figsize=(8,7))\n",
    "plt.scatter(testing_plot[:,0], testing_plot[:,1], alpha = 0.1, c = y_test.ravel());\n",
    "plt.title('Outputs')"
   ]
  },
  {
   "cell_type": "markdown",
   "id": "a74fcf8f",
   "metadata": {
    "papermill": {
     "duration": 0.093739,
     "end_time": "2022-06-06T10:14:09.348761",
     "exception": false,
     "start_time": "2022-06-06T10:14:09.255022",
     "status": "completed"
    },
    "tags": []
   },
   "source": [
    "Probability contours"
   ]
  },
  {
   "cell_type": "code",
   "execution_count": 27,
   "id": "d0afc8e3",
   "metadata": {
    "execution": {
     "iopub.execute_input": "2022-06-06T10:14:09.487298Z",
     "iopub.status.busy": "2022-06-06T10:14:09.486517Z",
     "iopub.status.idle": "2022-06-06T10:14:09.500420Z",
     "shell.execute_reply": "2022-06-06T10:14:09.501047Z"
    },
    "papermill": {
     "duration": 0.087695,
     "end_time": "2022-06-06T10:14:09.501225",
     "exception": false,
     "start_time": "2022-06-06T10:14:09.413530",
     "status": "completed"
    },
    "tags": []
   },
   "outputs": [],
   "source": [
    "model_prob = Model(layers[-2:]) "
   ]
  },
  {
   "cell_type": "code",
   "execution_count": 28,
   "id": "9b96e238",
   "metadata": {
    "execution": {
     "iopub.execute_input": "2022-06-06T10:14:09.628266Z",
     "iopub.status.busy": "2022-06-06T10:14:09.627402Z",
     "iopub.status.idle": "2022-06-06T10:14:09.644629Z",
     "shell.execute_reply": "2022-06-06T10:14:09.645273Z"
    },
    "papermill": {
     "duration": 0.085038,
     "end_time": "2022-06-06T10:14:09.645569",
     "exception": false,
     "start_time": "2022-06-06T10:14:09.560531",
     "status": "completed"
    },
    "tags": []
   },
   "outputs": [],
   "source": [
    "#creating the x and y ranges according to the above generated plot.\n",
    "x_range = np.linspace(-4, 1, 100) \n",
    "y_range = np.linspace(-6, 6, 100) \n",
    "x_grid, y_grid = np.meshgrid(x_range, y_range) # x_grid and y_grig are of size 100 X 100\n",
    "\n",
    "# converting x_grid and y_grid to continuous arrays\n",
    "x_gridflat = np.ravel(x_grid)\n",
    "y_gridflat = np.ravel(y_grid)\n",
    "\n",
    "# The last layer of the current model takes two columns as input. Hence transpose of np.vstack() is required.\n",
    "X = np.vstack((x_gridflat, y_gridflat)).T\n",
    "\n",
    "prob_contour = model_prob(X).reshape(100,100) "
   ]
  },
  {
   "cell_type": "code",
   "execution_count": 29,
   "id": "da72499a",
   "metadata": {
    "execution": {
     "iopub.execute_input": "2022-06-06T10:14:09.775322Z",
     "iopub.status.busy": "2022-06-06T10:14:09.774459Z",
     "iopub.status.idle": "2022-06-06T10:14:10.115286Z",
     "shell.execute_reply": "2022-06-06T10:14:10.116019Z"
    },
    "papermill": {
     "duration": 0.409577,
     "end_time": "2022-06-06T10:14:10.116209",
     "exception": false,
     "start_time": "2022-06-06T10:14:09.706632",
     "status": "completed"
    },
    "tags": []
   },
   "outputs": [
    {
     "data": {
      "image/png": "[encoded data removed]",
      "text/plain": [
       "<Figure size 720x648 with 1 Axes>"
      ]
     },
     "metadata": {
      "needs_background": "light"
     },
     "output_type": "display_data"
    }
   ],
   "source": [
    "plt.figure(figsize=(10,9))\n",
    "plt.scatter(testing_plot[:,0], testing_plot[:,1], alpha = 0.1, c = y_test.ravel())\n",
    "contours = plt.contour(x_grid,y_grid,prob_contour)\n",
    "plt.title('Probability Contours')\n",
    "plt.clabel(contours, inline = True );"
   ]
  },
  {
   "cell_type": "code",
   "execution_count": null,
   "id": "e81b4ac7",
   "metadata": {
    "papermill": {
     "duration": 0.062177,
     "end_time": "2022-06-06T10:14:10.240153",
     "exception": false,
     "start_time": "2022-06-06T10:14:10.177976",
     "status": "completed"
    },
    "tags": []
   },
   "outputs": [],
   "source": []
  }
 ],
 "metadata": {
  "kernelspec": {
   "display_name": "Python 3",
   "language": "python",
   "name": "python3"
  },
  "language_info": {
   "codemirror_mode": {
    "name": "ipython",
    "version": 3
   },
   "file_extension": ".py",
   "mimetype": "text/x-python",
   "name": "python",
   "nbconvert_exporter": "python",
   "pygments_lexer": "ipython3",
   "version": "3.6.15"
  },
  "papermill": {
   "default_parameters": {},
   "duration": 177.432113,
   "end_time": "2022-06-06T10:14:10.722077",
   "environment_variables": {},
   "exception": null,
   "input_path": "2020-08-11-part2.ipynb",
   "output_path": "2020-08-11-part2.ipynb",
   "parameters": {},
   "start_time": "2022-06-06T10:11:13.289964",
   "version": "2.3.3"
  }
 },
 "nbformat": 4,
 "nbformat_minor": 5
}