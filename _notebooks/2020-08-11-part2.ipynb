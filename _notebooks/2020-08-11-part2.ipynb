{
 "cells": [
  {
   "cell_type": "markdown",
   "id": "98380cd3",
   "metadata": {
    "papermill": {
     "duration": 0.032712,
     "end_time": "2022-06-21T20:10:53.129185",
     "exception": false,
     "start_time": "2022-06-21T20:10:53.096473",
     "status": "completed"
    },
    "tags": []
   },
   "source": [
    "# Distinguish Your Own Digits (DYOD)"
   ]
  },
  {
   "cell_type": "markdown",
   "id": "ef31240d",
   "metadata": {
    "papermill": {
     "duration": 0.027353,
     "end_time": "2022-06-21T20:10:53.186356",
     "exception": false,
     "start_time": "2022-06-21T20:10:53.159003",
     "status": "completed"
    },
    "tags": []
   },
   "source": [
    "You are going to write a classifier that distinguishes between the number 3 and number 8."
   ]
  },
  {
   "cell_type": "code",
   "execution_count": 1,
   "id": "b15c8646",
   "metadata": {
    "execution": {
     "iopub.execute_input": "2022-06-21T20:10:53.256505Z",
     "iopub.status.busy": "2022-06-21T20:10:53.255759Z",
     "iopub.status.idle": "2022-06-21T20:10:53.268198Z",
     "shell.execute_reply": "2022-06-21T20:10:53.267631Z"
    },
    "papermill": {
     "duration": 0.052225,
     "end_time": "2022-06-21T20:10:53.268345",
     "exception": false,
     "start_time": "2022-06-21T20:10:53.216120",
     "status": "completed"
    },
    "tags": []
   },
   "outputs": [],
   "source": [
    "%load_ext autoreload\n",
    "%autoreload 2"
   ]
  },
  {
   "cell_type": "code",
   "execution_count": 2,
   "id": "22ef38dc",
   "metadata": {
    "execution": {
     "iopub.execute_input": "2022-06-21T20:10:53.332056Z",
     "iopub.status.busy": "2022-06-21T20:10:53.331361Z",
     "iopub.status.idle": "2022-06-21T20:10:53.908845Z",
     "shell.execute_reply": "2022-06-21T20:10:53.908267Z"
    },
    "papermill": {
     "duration": 0.609951,
     "end_time": "2022-06-21T20:10:53.908980",
     "exception": false,
     "start_time": "2022-06-21T20:10:53.299029",
     "status": "completed"
    },
    "tags": []
   },
   "outputs": [],
   "source": [
    "%matplotlib inline\n",
    "import numpy as np\n",
    "import matplotlib.pyplot as plt\n",
    "import pandas as pd"
   ]
  },
  {
   "cell_type": "markdown",
   "id": "ba036198",
   "metadata": {
    "papermill": {
     "duration": 0.02767,
     "end_time": "2022-06-21T20:10:53.965943",
     "exception": false,
     "start_time": "2022-06-21T20:10:53.938273",
     "status": "completed"
    },
    "tags": []
   },
   "source": [
    "From the command line run `pip install mnist`. This is a library that will help you bring down the mnist dataset. If you run this from a notebook, you need to put  `!pip install mnist` in a cell by itself."
   ]
  },
  {
   "cell_type": "code",
   "execution_count": 3,
   "id": "bb6ad8a1",
   "metadata": {
    "execution": {
     "iopub.execute_input": "2022-06-21T20:10:54.027956Z",
     "iopub.status.busy": "2022-06-21T20:10:54.027298Z",
     "iopub.status.idle": "2022-06-21T20:10:55.965067Z",
     "shell.execute_reply": "2022-06-21T20:10:55.965610Z"
    },
    "papermill": {
     "duration": 1.971934,
     "end_time": "2022-06-21T20:10:55.965773",
     "exception": false,
     "start_time": "2022-06-21T20:10:53.993839",
     "status": "completed"
    },
    "tags": []
   },
   "outputs": [
    {
     "name": "stdout",
     "output_type": "stream",
     "text": [
      "Collecting mnist\r\n"
     ]
    },
    {
     "name": "stdout",
     "output_type": "stream",
     "text": [
      "  Downloading mnist-0.2.2-py2.py3-none-any.whl (3.5 kB)\r\n",
      "Requirement already satisfied: numpy in /opt/hostedtoolcache/Python/3.6.15/x64/lib/python3.6/site-packages (from mnist) (1.19.5)\r\n"
     ]
    },
    {
     "name": "stdout",
     "output_type": "stream",
     "text": [
      "Installing collected packages: mnist\r\n",
      "Successfully installed mnist-0.2.2\r\n"
     ]
    }
   ],
   "source": [
    "!pip install mnist"
   ]
  },
  {
   "cell_type": "markdown",
   "id": "69df9c9a",
   "metadata": {
    "papermill": {
     "duration": 0.027967,
     "end_time": "2022-06-21T20:10:56.023806",
     "exception": false,
     "start_time": "2022-06-21T20:10:55.995839",
     "status": "completed"
    },
    "tags": []
   },
   "source": [
    "## Preparing the Data"
   ]
  },
  {
   "cell_type": "code",
   "execution_count": 4,
   "id": "7f69d806",
   "metadata": {
    "execution": {
     "iopub.execute_input": "2022-06-21T20:10:56.093340Z",
     "iopub.status.busy": "2022-06-21T20:10:56.086592Z",
     "iopub.status.idle": "2022-06-21T20:10:56.103964Z",
     "shell.execute_reply": "2022-06-21T20:10:56.103424Z"
    },
    "papermill": {
     "duration": 0.051103,
     "end_time": "2022-06-21T20:10:56.104083",
     "exception": false,
     "start_time": "2022-06-21T20:10:56.052980",
     "status": "completed"
    },
    "tags": []
   },
   "outputs": [],
   "source": [
    "import mnist"
   ]
  },
  {
   "cell_type": "code",
   "execution_count": 5,
   "id": "a411e44f",
   "metadata": {
    "execution": {
     "iopub.execute_input": "2022-06-21T20:10:56.167913Z",
     "iopub.status.busy": "2022-06-21T20:10:56.165807Z",
     "iopub.status.idle": "2022-06-21T20:10:56.765178Z",
     "shell.execute_reply": "2022-06-21T20:10:56.764557Z"
    },
    "papermill": {
     "duration": 0.632511,
     "end_time": "2022-06-21T20:10:56.765334",
     "exception": false,
     "start_time": "2022-06-21T20:10:56.132823",
     "status": "completed"
    },
    "tags": []
   },
   "outputs": [],
   "source": [
    "train_images = mnist.train_images()\n",
    "train_labels = mnist.train_labels()"
   ]
  },
  {
   "cell_type": "code",
   "execution_count": 6,
   "id": "dceab3a5",
   "metadata": {
    "execution": {
     "iopub.execute_input": "2022-06-21T20:10:56.835065Z",
     "iopub.status.busy": "2022-06-21T20:10:56.832907Z",
     "iopub.status.idle": "2022-06-21T20:10:56.851218Z",
     "shell.execute_reply": "2022-06-21T20:10:56.851735Z"
    },
    "papermill": {
     "duration": 0.054814,
     "end_time": "2022-06-21T20:10:56.851866",
     "exception": false,
     "start_time": "2022-06-21T20:10:56.797052",
     "status": "completed"
    },
    "tags": []
   },
   "outputs": [
    {
     "data": {
      "text/plain": [
       "((60000, 28, 28), (60000,))"
      ]
     },
     "execution_count": 6,
     "metadata": {},
     "output_type": "execute_result"
    }
   ],
   "source": [
    "train_images.shape, train_labels.shape"
   ]
  },
  {
   "cell_type": "code",
   "execution_count": 7,
   "id": "f50dc2bb",
   "metadata": {
    "execution": {
     "iopub.execute_input": "2022-06-21T20:10:56.911910Z",
     "iopub.status.busy": "2022-06-21T20:10:56.911254Z",
     "iopub.status.idle": "2022-06-21T20:10:57.021509Z",
     "shell.execute_reply": "2022-06-21T20:10:57.020929Z"
    },
    "papermill": {
     "duration": 0.141179,
     "end_time": "2022-06-21T20:10:57.021644",
     "exception": false,
     "start_time": "2022-06-21T20:10:56.880465",
     "status": "completed"
    },
    "tags": []
   },
   "outputs": [],
   "source": [
    "test_images = mnist.test_images()\n",
    "test_labels = mnist.test_labels()"
   ]
  },
  {
   "cell_type": "code",
   "execution_count": 8,
   "id": "fc38cf1b",
   "metadata": {
    "execution": {
     "iopub.execute_input": "2022-06-21T20:10:57.088119Z",
     "iopub.status.busy": "2022-06-21T20:10:57.087458Z",
     "iopub.status.idle": "2022-06-21T20:10:57.099895Z",
     "shell.execute_reply": "2022-06-21T20:10:57.099172Z"
    },
    "papermill": {
     "duration": 0.049114,
     "end_time": "2022-06-21T20:10:57.100020",
     "exception": false,
     "start_time": "2022-06-21T20:10:57.050906",
     "status": "completed"
    },
    "tags": []
   },
   "outputs": [
    {
     "data": {
      "text/plain": [
       "((10000, 28, 28), (10000,))"
      ]
     },
     "execution_count": 8,
     "metadata": {},
     "output_type": "execute_result"
    }
   ],
   "source": [
    "test_images.shape, test_labels.shape"
   ]
  },
  {
   "cell_type": "code",
   "execution_count": 9,
   "id": "f9ed8fe0",
   "metadata": {
    "execution": {
     "iopub.execute_input": "2022-06-21T20:10:57.163691Z",
     "iopub.status.busy": "2022-06-21T20:10:57.162712Z",
     "iopub.status.idle": "2022-06-21T20:10:57.338433Z",
     "shell.execute_reply": "2022-06-21T20:10:57.337900Z"
    },
    "papermill": {
     "duration": 0.210405,
     "end_time": "2022-06-21T20:10:57.338565",
     "exception": false,
     "start_time": "2022-06-21T20:10:57.128160",
     "status": "completed"
    },
    "tags": []
   },
   "outputs": [
    {
     "name": "stdout",
     "output_type": "stream",
     "text": [
      "2\n"
     ]
    },
    {
     "data": {
      "text/plain": [
       "<matplotlib.image.AxesImage at 0x7f388175b940>"
      ]
     },
     "execution_count": 9,
     "metadata": {},
     "output_type": "execute_result"
    },
    {
     "data": {
      "image/png": "[encoded data removed]",
      "text/plain": [
       "<Figure size 432x288 with 1 Axes>"
      ]
     },
     "metadata": {
      "needs_background": "light"
     },
     "output_type": "display_data"
    }
   ],
   "source": [
    "image_index = 7776 # You may select anything up to 60,000\n",
    "print(train_labels[image_index]) \n",
    "plt.imshow(train_images[image_index], cmap='Greys')"
   ]
  },
  {
   "cell_type": "markdown",
   "id": "a8d2388d",
   "metadata": {
    "papermill": {
     "duration": 0.030318,
     "end_time": "2022-06-21T20:10:57.399500",
     "exception": false,
     "start_time": "2022-06-21T20:10:57.369182",
     "status": "completed"
    },
    "tags": []
   },
   "source": [
    "## Filter data to get 3 and 8 out"
   ]
  },
  {
   "cell_type": "code",
   "execution_count": 10,
   "id": "776f7fc7",
   "metadata": {
    "execution": {
     "iopub.execute_input": "2022-06-21T20:10:57.467596Z",
     "iopub.status.busy": "2022-06-21T20:10:57.464846Z",
     "iopub.status.idle": "2022-06-21T20:10:57.481870Z",
     "shell.execute_reply": "2022-06-21T20:10:57.481302Z"
    },
    "papermill": {
     "duration": 0.053065,
     "end_time": "2022-06-21T20:10:57.482084",
     "exception": false,
     "start_time": "2022-06-21T20:10:57.429019",
     "status": "completed"
    },
    "tags": []
   },
   "outputs": [],
   "source": [
    "train_filter = np.where((train_labels == 3 ) | (train_labels == 8))\n",
    "test_filter = np.where((test_labels == 3) | (test_labels == 8))\n",
    "X_train, y_train = train_images[train_filter], train_labels[train_filter]\n",
    "X_test, y_test = test_images[test_filter], test_labels[test_filter]"
   ]
  },
  {
   "cell_type": "markdown",
   "id": "948f0b7e",
   "metadata": {
    "papermill": {
     "duration": 0.030877,
     "end_time": "2022-06-21T20:10:57.544877",
     "exception": false,
     "start_time": "2022-06-21T20:10:57.514000",
     "status": "completed"
    },
    "tags": []
   },
   "source": [
    "We normalize the pizel values in the 0 to 1 range"
   ]
  },
  {
   "cell_type": "code",
   "execution_count": 11,
   "id": "ee4c2166",
   "metadata": {
    "execution": {
     "iopub.execute_input": "2022-06-21T20:10:57.609463Z",
     "iopub.status.busy": "2022-06-21T20:10:57.608704Z",
     "iopub.status.idle": "2022-06-21T20:10:57.662187Z",
     "shell.execute_reply": "2022-06-21T20:10:57.661629Z"
    },
    "papermill": {
     "duration": 0.087232,
     "end_time": "2022-06-21T20:10:57.662330",
     "exception": false,
     "start_time": "2022-06-21T20:10:57.575098",
     "status": "completed"
    },
    "tags": []
   },
   "outputs": [],
   "source": [
    "X_train = X_train/255.\n",
    "X_test = X_test/255."
   ]
  },
  {
   "cell_type": "markdown",
   "id": "ddcf4fab",
   "metadata": {
    "papermill": {
     "duration": 0.031859,
     "end_time": "2022-06-21T20:10:57.724086",
     "exception": false,
     "start_time": "2022-06-21T20:10:57.692227",
     "status": "completed"
    },
    "tags": []
   },
   "source": [
    "And setup the labels as 1 (when the digit is 3) and 0 (when the digit is 8)"
   ]
  },
  {
   "cell_type": "code",
   "execution_count": 12,
   "id": "7dc908f2",
   "metadata": {
    "execution": {
     "iopub.execute_input": "2022-06-21T20:10:57.789570Z",
     "iopub.status.busy": "2022-06-21T20:10:57.788871Z",
     "iopub.status.idle": "2022-06-21T20:10:57.801591Z",
     "shell.execute_reply": "2022-06-21T20:10:57.801041Z"
    },
    "papermill": {
     "duration": 0.047725,
     "end_time": "2022-06-21T20:10:57.801709",
     "exception": false,
     "start_time": "2022-06-21T20:10:57.753984",
     "status": "completed"
    },
    "tags": []
   },
   "outputs": [],
   "source": [
    "y_train = 1*(y_train==3)\n",
    "y_test = 1*(y_test==3)"
   ]
  },
  {
   "cell_type": "code",
   "execution_count": 13,
   "id": "01e4e969",
   "metadata": {
    "execution": {
     "iopub.execute_input": "2022-06-21T20:10:57.866763Z",
     "iopub.status.busy": "2022-06-21T20:10:57.866008Z",
     "iopub.status.idle": "2022-06-21T20:10:57.879568Z",
     "shell.execute_reply": "2022-06-21T20:10:57.879029Z"
    },
    "papermill": {
     "duration": 0.047858,
     "end_time": "2022-06-21T20:10:57.879683",
     "exception": false,
     "start_time": "2022-06-21T20:10:57.831825",
     "status": "completed"
    },
    "tags": []
   },
   "outputs": [
    {
     "data": {
      "text/plain": [
       "((11982, 28, 28), (1984, 28, 28))"
      ]
     },
     "execution_count": 13,
     "metadata": {},
     "output_type": "execute_result"
    }
   ],
   "source": [
    "X_train.shape, X_test.shape"
   ]
  },
  {
   "cell_type": "markdown",
   "id": "5ccf3f85",
   "metadata": {
    "papermill": {
     "duration": 0.029743,
     "end_time": "2022-06-21T20:10:57.939014",
     "exception": false,
     "start_time": "2022-06-21T20:10:57.909271",
     "status": "completed"
    },
    "tags": []
   },
   "source": [
    "We reshape the data to flatten the image pixels into a set of features or co-variates:"
   ]
  },
  {
   "cell_type": "code",
   "execution_count": 14,
   "id": "5286a4a3",
   "metadata": {
    "execution": {
     "iopub.execute_input": "2022-06-21T20:10:58.008430Z",
     "iopub.status.busy": "2022-06-21T20:10:58.007766Z",
     "iopub.status.idle": "2022-06-21T20:10:58.018753Z",
     "shell.execute_reply": "2022-06-21T20:10:58.018212Z"
    },
    "papermill": {
     "duration": 0.049887,
     "end_time": "2022-06-21T20:10:58.018875",
     "exception": false,
     "start_time": "2022-06-21T20:10:57.968988",
     "status": "completed"
    },
    "tags": []
   },
   "outputs": [
    {
     "data": {
      "text/plain": [
       "((11982, 784), (1984, 784))"
      ]
     },
     "execution_count": 14,
     "metadata": {},
     "output_type": "execute_result"
    }
   ],
   "source": [
    "X_train = X_train.reshape(X_train.shape[0], -1)\n",
    "X_test = X_test.reshape(X_test.shape[0], -1)\n",
    "X_train.shape, X_test.shape"
   ]
  },
  {
   "cell_type": "code",
   "execution_count": 15,
   "id": "73c5f88a",
   "metadata": {
    "execution": {
     "iopub.execute_input": "2022-06-21T20:10:58.096820Z",
     "iopub.status.busy": "2022-06-21T20:10:58.095987Z",
     "iopub.status.idle": "2022-06-21T20:10:58.118377Z",
     "shell.execute_reply": "2022-06-21T20:10:58.117744Z"
    },
    "papermill": {
     "duration": 0.067649,
     "end_time": "2022-06-21T20:10:58.118498",
     "exception": false,
     "start_time": "2022-06-21T20:10:58.050849",
     "status": "completed"
    },
    "tags": []
   },
   "outputs": [],
   "source": [
    "#Impoting functions from 'Kudzu'\n",
    "from kudzu.model import Model\n",
    "from kudzu.train import Learner\n",
    "from kudzu.optim import GD\n",
    "from kudzu.data import Data, Sampler,Dataloader\n",
    "\n",
    "from kudzu.callbacks import AccCallback\n",
    "from kudzu.callbacks import ClfCallback\n",
    "\n",
    "from kudzu.loss import MSE\n",
    "\n",
    "from kudzu.layer import Sigmoid,Relu\n",
    "from kudzu.layer import Affine"
   ]
  },
  {
   "cell_type": "markdown",
   "id": "bc01172a",
   "metadata": {
    "papermill": {
     "duration": 0.030417,
     "end_time": "2022-06-21T20:10:58.180917",
     "exception": false,
     "start_time": "2022-06-21T20:10:58.150500",
     "status": "completed"
    },
    "tags": []
   },
   "source": [
    "### Let us create a `Config` class, to store important parameters. \n",
    "This class essentially plays the role of a dictionary."
   ]
  },
  {
   "cell_type": "code",
   "execution_count": 16,
   "id": "978281aa",
   "metadata": {
    "execution": {
     "iopub.execute_input": "2022-06-21T20:10:58.250958Z",
     "iopub.status.busy": "2022-06-21T20:10:58.250163Z",
     "iopub.status.idle": "2022-06-21T20:10:58.261471Z",
     "shell.execute_reply": "2022-06-21T20:10:58.260900Z"
    },
    "papermill": {
     "duration": 0.049562,
     "end_time": "2022-06-21T20:10:58.261592",
     "exception": false,
     "start_time": "2022-06-21T20:10:58.212030",
     "status": "completed"
    },
    "tags": []
   },
   "outputs": [],
   "source": [
    "class Config:\n",
    "    pass\n",
    "config = Config()\n",
    "config.lr = 0.001\n",
    "config.num_epochs = 250\n",
    "config.bs = 50"
   ]
  },
  {
   "cell_type": "markdown",
   "id": "1385fa59",
   "metadata": {
    "papermill": {
     "duration": 0.031694,
     "end_time": "2022-06-21T20:10:58.323469",
     "exception": false,
     "start_time": "2022-06-21T20:10:58.291775",
     "status": "completed"
    },
    "tags": []
   },
   "source": [
    "### Running Models with the Training data\n",
    "Details about the network layers:\n",
    "- A first affine layer has 784 inputs and does 100 affine transforms. These are followed by a Relu\n",
    "- A second affine layer has 100 inputs from the 100 activations of the past layer, and does 100 affine transforms. These are followed by a Relu\n",
    "- A third affine layer has 100 activations and does 2 affine transformations to create an embedding for visualization. There is no non-linearity here.\n",
    "- A final \"logistic regression\" which has an affine transform from 2 inputs to 1 output, which is squeezed through a sigmoid.\n"
   ]
  },
  {
   "cell_type": "code",
   "execution_count": 17,
   "id": "2b9c66db",
   "metadata": {
    "execution": {
     "iopub.execute_input": "2022-06-21T20:10:58.391583Z",
     "iopub.status.busy": "2022-06-21T20:10:58.390871Z",
     "iopub.status.idle": "2022-06-21T20:10:58.404811Z",
     "shell.execute_reply": "2022-06-21T20:10:58.404225Z"
    },
    "papermill": {
     "duration": 0.049296,
     "end_time": "2022-06-21T20:10:58.404943",
     "exception": false,
     "start_time": "2022-06-21T20:10:58.355647",
     "status": "completed"
    },
    "tags": []
   },
   "outputs": [],
   "source": [
    "data = Data(X_train, y_train.reshape(-1,1))\n",
    "sampler = Sampler(data, config.bs, shuffle=True)\n",
    "\n",
    "dl = Dataloader(data, sampler)\n",
    "\n",
    "opt = GD(config.lr)\n",
    "loss = MSE()"
   ]
  },
  {
   "cell_type": "code",
   "execution_count": 18,
   "id": "b275e4c2",
   "metadata": {
    "execution": {
     "iopub.execute_input": "2022-06-21T20:10:58.476600Z",
     "iopub.status.busy": "2022-06-21T20:10:58.475881Z",
     "iopub.status.idle": "2022-06-21T20:10:58.487038Z",
     "shell.execute_reply": "2022-06-21T20:10:58.487745Z"
    },
    "papermill": {
     "duration": 0.050607,
     "end_time": "2022-06-21T20:10:58.487893",
     "exception": false,
     "start_time": "2022-06-21T20:10:58.437286",
     "status": "completed"
    },
    "tags": []
   },
   "outputs": [],
   "source": [
    "training_data_x = X_train\n",
    "testing_data_x = X_test\n",
    "training_data_y = y_train.reshape(-1,1)\n",
    "testing_data_y = y_test.reshape(-1,1)"
   ]
  },
  {
   "cell_type": "code",
   "execution_count": 19,
   "id": "76951160",
   "metadata": {
    "execution": {
     "iopub.execute_input": "2022-06-21T20:10:58.572838Z",
     "iopub.status.busy": "2022-06-21T20:10:58.572070Z",
     "iopub.status.idle": "2022-06-21T20:10:58.582946Z",
     "shell.execute_reply": "2022-06-21T20:10:58.582288Z"
    },
    "papermill": {
     "duration": 0.061873,
     "end_time": "2022-06-21T20:10:58.583090",
     "exception": false,
     "start_time": "2022-06-21T20:10:58.521217",
     "status": "completed"
    },
    "tags": []
   },
   "outputs": [
    {
     "name": "stdout",
     "output_type": "stream",
     "text": [
      "xavier\n",
      "xavier\n",
      "xavier\n",
      "xavier\n",
      "xavier\n"
     ]
    }
   ],
   "source": [
    "layers = [Affine(\"first\", 784, 100), Relu(\"first\"), Affine(\"second\", 100, 100), Relu(\"second\"), Affine(\"third\", 100, 2), Affine(\"last\", 2, 1), Sigmoid(\"last\")]\n",
    "model_nn = Model(layers)\n",
    "model_lr = Model([Affine(\"logits\", 784, 1), Sigmoid(\"sigmoid\")])"
   ]
  },
  {
   "cell_type": "code",
   "execution_count": 20,
   "id": "6eede77a",
   "metadata": {
    "execution": {
     "iopub.execute_input": "2022-06-21T20:10:58.652779Z",
     "iopub.status.busy": "2022-06-21T20:10:58.652122Z",
     "iopub.status.idle": "2022-06-21T20:10:58.664316Z",
     "shell.execute_reply": "2022-06-21T20:10:58.664804Z"
    },
    "papermill": {
     "duration": 0.048396,
     "end_time": "2022-06-21T20:10:58.664932",
     "exception": false,
     "start_time": "2022-06-21T20:10:58.616536",
     "status": "completed"
    },
    "tags": []
   },
   "outputs": [],
   "source": [
    "nn_learner = Learner(loss, model_nn, opt, config.num_epochs)\n",
    "acc_nn = ClfCallback(nn_learner, config.bs, training_data_x , testing_data_x, training_data_y, testing_data_y)\n",
    "nn_learner.set_callbacks([acc_nn])"
   ]
  },
  {
   "cell_type": "code",
   "execution_count": 21,
   "id": "877b6cc7",
   "metadata": {
    "execution": {
     "iopub.execute_input": "2022-06-21T20:10:58.731567Z",
     "iopub.status.busy": "2022-06-21T20:10:58.729553Z",
     "iopub.status.idle": "2022-06-21T20:10:58.742377Z",
     "shell.execute_reply": "2022-06-21T20:10:58.741839Z"
    },
    "papermill": {
     "duration": 0.047326,
     "end_time": "2022-06-21T20:10:58.742491",
     "exception": false,
     "start_time": "2022-06-21T20:10:58.695165",
     "status": "completed"
    },
    "tags": []
   },
   "outputs": [],
   "source": [
    "lr_learner = Learner(loss, model_lr, opt, config.num_epochs)\n",
    "acc_lr = ClfCallback(lr_learner, config.bs, training_data_x , testing_data_x, training_data_y, testing_data_y)\n",
    "lr_learner.set_callbacks([acc_lr])"
   ]
  },
  {
   "cell_type": "code",
   "execution_count": 22,
   "id": "d9b133c3",
   "metadata": {
    "execution": {
     "iopub.execute_input": "2022-06-21T20:10:58.819070Z",
     "iopub.status.busy": "2022-06-21T20:10:58.815902Z",
     "iopub.status.idle": "2022-06-21T20:13:00.591255Z",
     "shell.execute_reply": "2022-06-21T20:13:00.592055Z"
    },
    "papermill": {
     "duration": 121.818585,
     "end_time": "2022-06-21T20:13:00.592214",
     "exception": false,
     "start_time": "2022-06-21T20:10:58.773629",
     "status": "completed"
    },
    "tags": []
   },
   "outputs": [
    {
     "name": "stdout",
     "output_type": "stream",
     "text": [
      "Epoch 0, Loss 0.2266\n",
      "Training Accuracy: 0.7431, Testing Accuracy: 0.7409\n",
      "\n"
     ]
    },
    {
     "name": "stdout",
     "output_type": "stream",
     "text": [
      "Epoch 10, Loss 0.0793\n",
      "Training Accuracy: 0.9311, Testing Accuracy: 0.9405\n",
      "\n"
     ]
    },
    {
     "name": "stdout",
     "output_type": "stream",
     "text": [
      "Epoch 20, Loss 0.0512\n",
      "Training Accuracy: 0.9455, Testing Accuracy: 0.9607\n",
      "\n"
     ]
    },
    {
     "name": "stdout",
     "output_type": "stream",
     "text": [
      "Epoch 30, Loss 0.0414\n",
      "Training Accuracy: 0.9545, Testing Accuracy: 0.9647\n",
      "\n"
     ]
    },
    {
     "name": "stdout",
     "output_type": "stream",
     "text": [
      "Epoch 40, Loss 0.0364\n",
      "Training Accuracy: 0.9602, Testing Accuracy: 0.9647\n",
      "\n"
     ]
    },
    {
     "name": "stdout",
     "output_type": "stream",
     "text": [
      "Epoch 50, Loss 0.0332\n",
      "Training Accuracy: 0.9633, Testing Accuracy: 0.9662\n",
      "\n"
     ]
    },
    {
     "name": "stdout",
     "output_type": "stream",
     "text": [
      "Epoch 60, Loss 0.0309\n",
      "Training Accuracy: 0.9653, Testing Accuracy: 0.9662\n",
      "\n"
     ]
    },
    {
     "name": "stdout",
     "output_type": "stream",
     "text": [
      "Epoch 70, Loss 0.0292\n",
      "Training Accuracy: 0.9672, Testing Accuracy: 0.9688\n",
      "\n"
     ]
    },
    {
     "name": "stdout",
     "output_type": "stream",
     "text": [
      "Epoch 80, Loss 0.0278\n",
      "Training Accuracy: 0.9683, Testing Accuracy: 0.9688\n",
      "\n"
     ]
    },
    {
     "name": "stdout",
     "output_type": "stream",
     "text": [
      "Epoch 90, Loss 0.0266\n",
      "Training Accuracy: 0.9693, Testing Accuracy: 0.9682\n",
      "\n"
     ]
    },
    {
     "name": "stdout",
     "output_type": "stream",
     "text": [
      "Epoch 100, Loss 0.0256\n",
      "Training Accuracy: 0.9707, Testing Accuracy: 0.9703\n",
      "\n"
     ]
    },
    {
     "name": "stdout",
     "output_type": "stream",
     "text": [
      "Epoch 110, Loss 0.0248\n",
      "Training Accuracy: 0.9717, Testing Accuracy: 0.9703\n",
      "\n"
     ]
    },
    {
     "name": "stdout",
     "output_type": "stream",
     "text": [
      "Epoch 120, Loss 0.024\n",
      "Training Accuracy: 0.9725, Testing Accuracy: 0.9703\n",
      "\n"
     ]
    },
    {
     "name": "stdout",
     "output_type": "stream",
     "text": [
      "Epoch 130, Loss 0.0233\n",
      "Training Accuracy: 0.9730, Testing Accuracy: 0.9708\n",
      "\n"
     ]
    },
    {
     "name": "stdout",
     "output_type": "stream",
     "text": [
      "Epoch 140, Loss 0.0226\n",
      "Training Accuracy: 0.9740, Testing Accuracy: 0.9708\n",
      "\n"
     ]
    },
    {
     "name": "stdout",
     "output_type": "stream",
     "text": [
      "Epoch 150, Loss 0.022\n",
      "Training Accuracy: 0.9748, Testing Accuracy: 0.9713\n",
      "\n"
     ]
    },
    {
     "name": "stdout",
     "output_type": "stream",
     "text": [
      "Epoch 160, Loss 0.0215\n",
      "Training Accuracy: 0.9749, Testing Accuracy: 0.9718\n",
      "\n"
     ]
    },
    {
     "name": "stdout",
     "output_type": "stream",
     "text": [
      "Epoch 170, Loss 0.021\n",
      "Training Accuracy: 0.9754, Testing Accuracy: 0.9723\n",
      "\n"
     ]
    },
    {
     "name": "stdout",
     "output_type": "stream",
     "text": [
      "Epoch 180, Loss 0.0205\n",
      "Training Accuracy: 0.9763, Testing Accuracy: 0.9728\n",
      "\n"
     ]
    },
    {
     "name": "stdout",
     "output_type": "stream",
     "text": [
      "Epoch 190, Loss 0.02\n",
      "Training Accuracy: 0.9771, Testing Accuracy: 0.9733\n",
      "\n"
     ]
    },
    {
     "name": "stdout",
     "output_type": "stream",
     "text": [
      "Epoch 200, Loss 0.0196\n",
      "Training Accuracy: 0.9775, Testing Accuracy: 0.9738\n",
      "\n"
     ]
    },
    {
     "name": "stdout",
     "output_type": "stream",
     "text": [
      "Epoch 210, Loss 0.0191\n",
      "Training Accuracy: 0.9785, Testing Accuracy: 0.9738\n",
      "\n"
     ]
    },
    {
     "name": "stdout",
     "output_type": "stream",
     "text": [
      "Epoch 220, Loss 0.0187\n",
      "Training Accuracy: 0.9792, Testing Accuracy: 0.9738\n",
      "\n"
     ]
    },
    {
     "name": "stdout",
     "output_type": "stream",
     "text": [
      "Epoch 230, Loss 0.0183\n",
      "Training Accuracy: 0.9797, Testing Accuracy: 0.9738\n",
      "\n"
     ]
    },
    {
     "name": "stdout",
     "output_type": "stream",
     "text": [
      "Epoch 240, Loss 0.0179\n",
      "Training Accuracy: 0.9803, Testing Accuracy: 0.9738\n",
      "\n"
     ]
    },
    {
     "data": {
      "text/plain": [
       "0.02740377281115642"
      ]
     },
     "execution_count": 22,
     "metadata": {},
     "output_type": "execute_result"
    }
   ],
   "source": [
    "nn_learner.train_loop(dl)"
   ]
  },
  {
   "cell_type": "code",
   "execution_count": 23,
   "id": "e0163366",
   "metadata": {
    "execution": {
     "iopub.execute_input": "2022-06-21T20:13:00.684465Z",
     "iopub.status.busy": "2022-06-21T20:13:00.683753Z",
     "iopub.status.idle": "2022-06-21T20:13:18.425328Z",
     "shell.execute_reply": "2022-06-21T20:13:18.426338Z"
    },
    "papermill": {
     "duration": 17.793747,
     "end_time": "2022-06-21T20:13:18.426505",
     "exception": false,
     "start_time": "2022-06-21T20:13:00.632758",
     "status": "completed"
    },
    "tags": []
   },
   "outputs": [
    {
     "name": "stdout",
     "output_type": "stream",
     "text": [
      "Epoch 0, Loss 0.2567\n",
      "Training Accuracy: 0.6262, Testing Accuracy: 0.6542\n",
      "\n"
     ]
    },
    {
     "name": "stdout",
     "output_type": "stream",
     "text": [
      "Epoch 10, Loss 0.1069\n",
      "Training Accuracy: 0.9006, Testing Accuracy: 0.9143\n",
      "\n"
     ]
    },
    {
     "name": "stdout",
     "output_type": "stream",
     "text": [
      "Epoch 20, Loss 0.0812\n",
      "Training Accuracy: 0.9255, Testing Accuracy: 0.9345\n",
      "\n"
     ]
    },
    {
     "name": "stdout",
     "output_type": "stream",
     "text": [
      "Epoch 30, Loss 0.0694\n",
      "Training Accuracy: 0.9357, Testing Accuracy: 0.9471\n",
      "\n"
     ]
    },
    {
     "name": "stdout",
     "output_type": "stream",
     "text": [
      "Epoch 40, Loss 0.0625\n",
      "Training Accuracy: 0.9406, Testing Accuracy: 0.9506\n",
      "\n"
     ]
    },
    {
     "name": "stdout",
     "output_type": "stream",
     "text": [
      "Epoch 50, Loss 0.0578\n",
      "Training Accuracy: 0.9447, Testing Accuracy: 0.9516\n",
      "\n"
     ]
    },
    {
     "name": "stdout",
     "output_type": "stream",
     "text": [
      "Epoch 60, Loss 0.0544\n",
      "Training Accuracy: 0.9464, Testing Accuracy: 0.9541\n",
      "\n"
     ]
    },
    {
     "name": "stdout",
     "output_type": "stream",
     "text": [
      "Epoch 70, Loss 0.0517\n",
      "Training Accuracy: 0.9494, Testing Accuracy: 0.9567\n",
      "\n"
     ]
    },
    {
     "name": "stdout",
     "output_type": "stream",
     "text": [
      "Epoch 80, Loss 0.0496\n",
      "Training Accuracy: 0.9511, Testing Accuracy: 0.9577\n",
      "\n"
     ]
    },
    {
     "name": "stdout",
     "output_type": "stream",
     "text": [
      "Epoch 90, Loss 0.0479\n",
      "Training Accuracy: 0.9524, Testing Accuracy: 0.9607\n",
      "\n"
     ]
    },
    {
     "name": "stdout",
     "output_type": "stream",
     "text": [
      "Epoch 100, Loss 0.0464\n",
      "Training Accuracy: 0.9538, Testing Accuracy: 0.9612\n",
      "\n"
     ]
    },
    {
     "name": "stdout",
     "output_type": "stream",
     "text": [
      "Epoch 110, Loss 0.0452\n",
      "Training Accuracy: 0.9546, Testing Accuracy: 0.9632\n",
      "\n"
     ]
    },
    {
     "name": "stdout",
     "output_type": "stream",
     "text": [
      "Epoch 120, Loss 0.0441\n",
      "Training Accuracy: 0.9550, Testing Accuracy: 0.9637\n",
      "\n"
     ]
    },
    {
     "name": "stdout",
     "output_type": "stream",
     "text": [
      "Epoch 130, Loss 0.0431\n",
      "Training Accuracy: 0.9553, Testing Accuracy: 0.9647\n",
      "\n"
     ]
    },
    {
     "name": "stdout",
     "output_type": "stream",
     "text": [
      "Epoch 140, Loss 0.0423\n",
      "Training Accuracy: 0.9562, Testing Accuracy: 0.9642\n",
      "\n"
     ]
    },
    {
     "name": "stdout",
     "output_type": "stream",
     "text": [
      "Epoch 150, Loss 0.0415\n",
      "Training Accuracy: 0.9569, Testing Accuracy: 0.9647\n",
      "\n"
     ]
    },
    {
     "name": "stdout",
     "output_type": "stream",
     "text": [
      "Epoch 160, Loss 0.0408\n",
      "Training Accuracy: 0.9574, Testing Accuracy: 0.9657\n",
      "\n"
     ]
    },
    {
     "name": "stdout",
     "output_type": "stream",
     "text": [
      "Epoch 170, Loss 0.0402\n",
      "Training Accuracy: 0.9577, Testing Accuracy: 0.9662\n",
      "\n"
     ]
    },
    {
     "name": "stdout",
     "output_type": "stream",
     "text": [
      "Epoch 180, Loss 0.0396\n",
      "Training Accuracy: 0.9580, Testing Accuracy: 0.9662\n",
      "\n"
     ]
    },
    {
     "name": "stdout",
     "output_type": "stream",
     "text": [
      "Epoch 190, Loss 0.0391\n",
      "Training Accuracy: 0.9585, Testing Accuracy: 0.9677\n",
      "\n"
     ]
    },
    {
     "name": "stdout",
     "output_type": "stream",
     "text": [
      "Epoch 200, Loss 0.0386\n",
      "Training Accuracy: 0.9590, Testing Accuracy: 0.9672\n",
      "\n"
     ]
    },
    {
     "name": "stdout",
     "output_type": "stream",
     "text": [
      "Epoch 210, Loss 0.0382\n",
      "Training Accuracy: 0.9598, Testing Accuracy: 0.9672\n",
      "\n"
     ]
    },
    {
     "name": "stdout",
     "output_type": "stream",
     "text": [
      "Epoch 220, Loss 0.0378\n",
      "Training Accuracy: 0.9603, Testing Accuracy: 0.9672\n",
      "\n"
     ]
    },
    {
     "name": "stdout",
     "output_type": "stream",
     "text": [
      "Epoch 230, Loss 0.0374\n",
      "Training Accuracy: 0.9603, Testing Accuracy: 0.9672\n",
      "\n"
     ]
    },
    {
     "name": "stdout",
     "output_type": "stream",
     "text": [
      "Epoch 240, Loss 0.037\n",
      "Training Accuracy: 0.9606, Testing Accuracy: 0.9672\n",
      "\n"
     ]
    },
    {
     "data": {
      "text/plain": [
       "0.03612563278079486"
      ]
     },
     "execution_count": 23,
     "metadata": {},
     "output_type": "execute_result"
    }
   ],
   "source": [
    "lr_learner.train_loop(dl)"
   ]
  },
  {
   "cell_type": "code",
   "execution_count": 24,
   "id": "ca410940",
   "metadata": {
    "execution": {
     "iopub.execute_input": "2022-06-21T20:13:18.535872Z",
     "iopub.status.busy": "2022-06-21T20:13:18.535174Z",
     "iopub.status.idle": "2022-06-21T20:13:18.822515Z",
     "shell.execute_reply": "2022-06-21T20:13:18.821964Z"
    },
    "papermill": {
     "duration": 0.344427,
     "end_time": "2022-06-21T20:13:18.822650",
     "exception": false,
     "start_time": "2022-06-21T20:13:18.478223",
     "status": "completed"
    },
    "tags": []
   },
   "outputs": [
    {
     "data": {
      "text/plain": [
       "<matplotlib.legend.Legend at 0x7f3874b1aac8>"
      ]
     },
     "execution_count": 24,
     "metadata": {},
     "output_type": "execute_result"
    },
    {
     "data": {
      "image/png": "[encoded data removed]",
      "text/plain": [
       "<Figure size 1080x720 with 1 Axes>"
      ]
     },
     "metadata": {
      "needs_background": "light"
     },
     "output_type": "display_data"
    }
   ],
   "source": [
    "#comparing the results of NN and LR\n",
    "plt.figure(figsize=(15,10))\n",
    "\n",
    "# Neural Network plots\n",
    "plt.plot(acc_nn.accuracies, 'r-', label = \"Training Accuracies - NN\")\n",
    "plt.plot(acc_nn.test_accuracies, 'g-', label = \"Testing Accuracies - NN\")\n",
    "\n",
    "# Logistic Regression plots\n",
    "plt.plot(acc_lr.accuracies, 'k-', label = \"Training Accuracies - LR\")\n",
    "plt.plot(acc_lr.test_accuracies, 'b-', label = \"Testing Accuracies - LR\")\n",
    "plt.legend()"
   ]
  },
  {
   "cell_type": "markdown",
   "id": "80dfb35c",
   "metadata": {
    "papermill": {
     "duration": 0.047652,
     "end_time": "2022-06-21T20:13:18.920098",
     "exception": false,
     "start_time": "2022-06-21T20:13:18.872446",
     "status": "completed"
    },
    "tags": []
   },
   "source": [
    "#### Plotting the outputs of this layer of the NN.\n"
   ]
  },
  {
   "cell_type": "code",
   "execution_count": 25,
   "id": "45eb2ff5",
   "metadata": {
    "execution": {
     "iopub.execute_input": "2022-06-21T20:13:19.028061Z",
     "iopub.status.busy": "2022-06-21T20:13:19.027340Z",
     "iopub.status.idle": "2022-06-21T20:13:19.056417Z",
     "shell.execute_reply": "2022-06-21T20:13:19.057298Z"
    },
    "papermill": {
     "duration": 0.088935,
     "end_time": "2022-06-21T20:13:19.057484",
     "exception": false,
     "start_time": "2022-06-21T20:13:18.968549",
     "status": "completed"
    },
    "tags": []
   },
   "outputs": [],
   "source": [
    "new_model = Model(layers[:-2])\n",
    "testing_plot = new_model(testing_data_x)"
   ]
  },
  {
   "cell_type": "code",
   "execution_count": 26,
   "id": "4c0a5485",
   "metadata": {
    "execution": {
     "iopub.execute_input": "2022-06-21T20:13:19.167296Z",
     "iopub.status.busy": "2022-06-21T20:13:19.166569Z",
     "iopub.status.idle": "2022-06-21T20:13:19.434267Z",
     "shell.execute_reply": "2022-06-21T20:13:19.433659Z"
    },
    "papermill": {
     "duration": 0.324807,
     "end_time": "2022-06-21T20:13:19.434409",
     "exception": false,
     "start_time": "2022-06-21T20:13:19.109602",
     "status": "completed"
    },
    "tags": []
   },
   "outputs": [
    {
     "data": {
      "text/plain": [
       "Text(0.5, 1.0, 'Outputs')"
      ]
     },
     "execution_count": 26,
     "metadata": {},
     "output_type": "execute_result"
    },
    {
     "data": {
      "image/png": "[encoded data removed]",
      "text/plain": [
       "<Figure size 576x504 with 1 Axes>"
      ]
     },
     "metadata": {
      "needs_background": "light"
     },
     "output_type": "display_data"
    }
   ],
   "source": [
    "# Plotting the scatter plot of points and color coding by class\n",
    "plt.figure(figsize=(8,7))\n",
    "plt.scatter(testing_plot[:,0], testing_plot[:,1], alpha = 0.1, c = y_test.ravel());\n",
    "plt.title('Outputs')"
   ]
  },
  {
   "cell_type": "markdown",
   "id": "a74fcf8f",
   "metadata": {
    "papermill": {
     "duration": 0.048561,
     "end_time": "2022-06-21T20:13:19.532235",
     "exception": false,
     "start_time": "2022-06-21T20:13:19.483674",
     "status": "completed"
    },
    "tags": []
   },
   "source": [
    "Probability contours"
   ]
  },
  {
   "cell_type": "code",
   "execution_count": 27,
   "id": "d0afc8e3",
   "metadata": {
    "execution": {
     "iopub.execute_input": "2022-06-21T20:13:19.639689Z",
     "iopub.status.busy": "2022-06-21T20:13:19.638169Z",
     "iopub.status.idle": "2022-06-21T20:13:19.650127Z",
     "shell.execute_reply": "2022-06-21T20:13:19.649475Z"
    },
    "papermill": {
     "duration": 0.068764,
     "end_time": "2022-06-21T20:13:19.650244",
     "exception": false,
     "start_time": "2022-06-21T20:13:19.581480",
     "status": "completed"
    },
    "tags": []
   },
   "outputs": [],
   "source": [
    "model_prob = Model(layers[-2:]) "
   ]
  },
  {
   "cell_type": "code",
   "execution_count": 28,
   "id": "9b96e238",
   "metadata": {
    "execution": {
     "iopub.execute_input": "2022-06-21T20:13:19.781180Z",
     "iopub.status.busy": "2022-06-21T20:13:19.780479Z",
     "iopub.status.idle": "2022-06-21T20:13:19.795651Z",
     "shell.execute_reply": "2022-06-21T20:13:19.796170Z"
    },
    "papermill": {
     "duration": 0.073325,
     "end_time": "2022-06-21T20:13:19.796317",
     "exception": false,
     "start_time": "2022-06-21T20:13:19.722992",
     "status": "completed"
    },
    "tags": []
   },
   "outputs": [],
   "source": [
    "#creating the x and y ranges according to the above generated plot.\n",
    "x_range = np.linspace(-4, 1, 100) \n",
    "y_range = np.linspace(-6, 6, 100) \n",
    "x_grid, y_grid = np.meshgrid(x_range, y_range) # x_grid and y_grig are of size 100 X 100\n",
    "\n",
    "# converting x_grid and y_grid to continuous arrays\n",
    "x_gridflat = np.ravel(x_grid)\n",
    "y_gridflat = np.ravel(y_grid)\n",
    "\n",
    "# The last layer of the current model takes two columns as input. Hence transpose of np.vstack() is required.\n",
    "X = np.vstack((x_gridflat, y_gridflat)).T\n",
    "\n",
    "prob_contour = model_prob(X).reshape(100,100) "
   ]
  },
  {
   "cell_type": "code",
   "execution_count": 29,
   "id": "da72499a",
   "metadata": {
    "execution": {
     "iopub.execute_input": "2022-06-21T20:13:19.902476Z",
     "iopub.status.busy": "2022-06-21T20:13:19.901818Z",
     "iopub.status.idle": "2022-06-21T20:13:20.220659Z",
     "shell.execute_reply": "2022-06-21T20:13:20.220080Z"
    },
    "papermill": {
     "duration": 0.372575,
     "end_time": "2022-06-21T20:13:20.220790",
     "exception": false,
     "start_time": "2022-06-21T20:13:19.848215",
     "status": "completed"
    },
    "tags": []
   },
   "outputs": [
    {
     "data": {
      "image/png": "[encoded data removed]",
      "text/plain": [
       "<Figure size 720x648 with 1 Axes>"
      ]
     },
     "metadata": {
      "needs_background": "light"
     },
     "output_type": "display_data"
    }
   ],
   "source": [
    "plt.figure(figsize=(10,9))\n",
    "plt.scatter(testing_plot[:,0], testing_plot[:,1], alpha = 0.1, c = y_test.ravel())\n",
    "contours = plt.contour(x_grid,y_grid,prob_contour)\n",
    "plt.title('Probability Contours')\n",
    "plt.clabel(contours, inline = True );"
   ]
  },
  {
   "cell_type": "code",
   "execution_count": null,
   "id": "e81b4ac7",
   "metadata": {
    "papermill": {
     "duration": 0.053394,
     "end_time": "2022-06-21T20:13:20.326246",
     "exception": false,
     "start_time": "2022-06-21T20:13:20.272852",
     "status": "completed"
    },
    "tags": []
   },
   "outputs": [],
   "source": []
  }
 ],
 "metadata": {
  "kernelspec": {
   "display_name": "Python 3",
   "language": "python",
   "name": "python3"
  },
  "language_info": {
   "codemirror_mode": {
    "name": "ipython",
    "version": 3
   },
   "file_extension": ".py",
   "mimetype": "text/x-python",
   "name": "python",
   "nbconvert_exporter": "python",
   "pygments_lexer": "ipython3",
   "version": "3.6.15"
  },
  "papermill": {
   "default_parameters": {},
   "duration": 149.000097,
   "end_time": "2022-06-21T20:13:20.800124",
   "environment_variables": {},
   "exception": null,
   "input_path": "2020-08-11-part2.ipynb",
   "output_path": "2020-08-11-part2.ipynb",
   "parameters": {},
   "start_time": "2022-06-21T20:10:51.800027",
   "version": "2.3.3"
  }
 },
 "nbformat": 4,
 "nbformat_minor": 5
}