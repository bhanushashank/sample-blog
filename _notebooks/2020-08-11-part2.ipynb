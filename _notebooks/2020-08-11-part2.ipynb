{
 "cells": [
  {
   "cell_type": "markdown",
   "id": "98380cd3",
   "metadata": {
    "papermill": {
     "duration": 0.02839,
     "end_time": "2022-04-13T00:33:56.126400",
     "exception": false,
     "start_time": "2022-04-13T00:33:56.098010",
     "status": "completed"
    },
    "tags": []
   },
   "source": [
    "# Distinguish Your Own Digits (DYOD)"
   ]
  },
  {
   "cell_type": "markdown",
   "id": "ef31240d",
   "metadata": {
    "papermill": {
     "duration": 0.025688,
     "end_time": "2022-04-13T00:33:56.177283",
     "exception": false,
     "start_time": "2022-04-13T00:33:56.151595",
     "status": "completed"
    },
    "tags": []
   },
   "source": [
    "You are going to write a classifier that distinguishes between the number 3 and number 8."
   ]
  },
  {
   "cell_type": "code",
   "execution_count": 1,
   "id": "b15c8646",
   "metadata": {
    "execution": {
     "iopub.execute_input": "2022-04-13T00:33:56.235774Z",
     "iopub.status.busy": "2022-04-13T00:33:56.233584Z",
     "iopub.status.idle": "2022-04-13T00:33:56.245555Z",
     "shell.execute_reply": "2022-04-13T00:33:56.245132Z"
    },
    "papermill": {
     "duration": 0.043925,
     "end_time": "2022-04-13T00:33:56.245666",
     "exception": false,
     "start_time": "2022-04-13T00:33:56.201741",
     "status": "completed"
    },
    "tags": []
   },
   "outputs": [],
   "source": [
    "%load_ext autoreload\n",
    "%autoreload 2"
   ]
  },
  {
   "cell_type": "code",
   "execution_count": 2,
   "id": "22ef38dc",
   "metadata": {
    "execution": {
     "iopub.execute_input": "2022-04-13T00:33:56.305832Z",
     "iopub.status.busy": "2022-04-13T00:33:56.298125Z",
     "iopub.status.idle": "2022-04-13T00:33:56.800291Z",
     "shell.execute_reply": "2022-04-13T00:33:56.799351Z"
    },
    "papermill": {
     "duration": 0.530062,
     "end_time": "2022-04-13T00:33:56.800408",
     "exception": false,
     "start_time": "2022-04-13T00:33:56.270346",
     "status": "completed"
    },
    "tags": []
   },
   "outputs": [],
   "source": [
    "%matplotlib inline\n",
    "import numpy as np\n",
    "import matplotlib.pyplot as plt\n",
    "import pandas as pd"
   ]
  },
  {
   "cell_type": "markdown",
   "id": "ba036198",
   "metadata": {
    "papermill": {
     "duration": 0.024655,
     "end_time": "2022-04-13T00:33:56.849746",
     "exception": false,
     "start_time": "2022-04-13T00:33:56.825091",
     "status": "completed"
    },
    "tags": []
   },
   "source": [
    "From the command line run `pip install mnist`. This is a library that will help you bring down the mnist dataset. If you run this from a notebook, you need to put  `!pip install mnist` in a cell by itself."
   ]
  },
  {
   "cell_type": "code",
   "execution_count": 3,
   "id": "bb6ad8a1",
   "metadata": {
    "execution": {
     "iopub.execute_input": "2022-04-13T00:33:56.904502Z",
     "iopub.status.busy": "2022-04-13T00:33:56.903339Z",
     "iopub.status.idle": "2022-04-13T00:33:58.573710Z",
     "shell.execute_reply": "2022-04-13T00:33:58.573256Z"
    },
    "papermill": {
     "duration": 1.699472,
     "end_time": "2022-04-13T00:33:58.573824",
     "exception": false,
     "start_time": "2022-04-13T00:33:56.874352",
     "status": "completed"
    },
    "tags": []
   },
   "outputs": [
    {
     "name": "stdout",
     "output_type": "stream",
     "text": [
      "Collecting mnist\r\n"
     ]
    },
    {
     "name": "stdout",
     "output_type": "stream",
     "text": [
      "  Downloading mnist-0.2.2-py2.py3-none-any.whl (3.5 kB)\r\n",
      "Requirement already satisfied: numpy in /opt/hostedtoolcache/Python/3.6.15/x64/lib/python3.6/site-packages (from mnist) (1.19.5)\r\n"
     ]
    },
    {
     "name": "stdout",
     "output_type": "stream",
     "text": [
      "Installing collected packages: mnist\r\n"
     ]
    },
    {
     "name": "stdout",
     "output_type": "stream",
     "text": [
      "Successfully installed mnist-0.2.2\r\n"
     ]
    }
   ],
   "source": [
    "!pip install mnist"
   ]
  },
  {
   "cell_type": "markdown",
   "id": "69df9c9a",
   "metadata": {
    "papermill": {
     "duration": 0.02591,
     "end_time": "2022-04-13T00:33:58.625741",
     "exception": false,
     "start_time": "2022-04-13T00:33:58.599831",
     "status": "completed"
    },
    "tags": []
   },
   "source": [
    "## Preparing the Data"
   ]
  },
  {
   "cell_type": "code",
   "execution_count": 4,
   "id": "7f69d806",
   "metadata": {
    "execution": {
     "iopub.execute_input": "2022-04-13T00:33:58.682324Z",
     "iopub.status.busy": "2022-04-13T00:33:58.681840Z",
     "iopub.status.idle": "2022-04-13T00:33:58.694059Z",
     "shell.execute_reply": "2022-04-13T00:33:58.693666Z"
    },
    "papermill": {
     "duration": 0.042802,
     "end_time": "2022-04-13T00:33:58.694157",
     "exception": false,
     "start_time": "2022-04-13T00:33:58.651355",
     "status": "completed"
    },
    "tags": []
   },
   "outputs": [],
   "source": [
    "import mnist"
   ]
  },
  {
   "cell_type": "code",
   "execution_count": 5,
   "id": "a411e44f",
   "metadata": {
    "execution": {
     "iopub.execute_input": "2022-04-13T00:33:58.748490Z",
     "iopub.status.busy": "2022-04-13T00:33:58.747999Z",
     "iopub.status.idle": "2022-04-13T00:33:59.450817Z",
     "shell.execute_reply": "2022-04-13T00:33:59.451244Z"
    },
    "papermill": {
     "duration": 0.73142,
     "end_time": "2022-04-13T00:33:59.451369",
     "exception": false,
     "start_time": "2022-04-13T00:33:58.719949",
     "status": "completed"
    },
    "tags": []
   },
   "outputs": [],
   "source": [
    "train_images = mnist.train_images()\n",
    "train_labels = mnist.train_labels()"
   ]
  },
  {
   "cell_type": "code",
   "execution_count": 6,
   "id": "dceab3a5",
   "metadata": {
    "execution": {
     "iopub.execute_input": "2022-04-13T00:33:59.507037Z",
     "iopub.status.busy": "2022-04-13T00:33:59.506540Z",
     "iopub.status.idle": "2022-04-13T00:33:59.521266Z",
     "shell.execute_reply": "2022-04-13T00:33:59.520846Z"
    },
    "papermill": {
     "duration": 0.043549,
     "end_time": "2022-04-13T00:33:59.521371",
     "exception": false,
     "start_time": "2022-04-13T00:33:59.477822",
     "status": "completed"
    },
    "tags": []
   },
   "outputs": [
    {
     "data": {
      "text/plain": [
       "((60000, 28, 28), (60000,))"
      ]
     },
     "execution_count": 6,
     "metadata": {},
     "output_type": "execute_result"
    }
   ],
   "source": [
    "train_images.shape, train_labels.shape"
   ]
  },
  {
   "cell_type": "code",
   "execution_count": 7,
   "id": "f50dc2bb",
   "metadata": {
    "execution": {
     "iopub.execute_input": "2022-04-13T00:33:59.576470Z",
     "iopub.status.busy": "2022-04-13T00:33:59.575984Z",
     "iopub.status.idle": "2022-04-13T00:33:59.856312Z",
     "shell.execute_reply": "2022-04-13T00:33:59.855848Z"
    },
    "papermill": {
     "duration": 0.309056,
     "end_time": "2022-04-13T00:33:59.856419",
     "exception": false,
     "start_time": "2022-04-13T00:33:59.547363",
     "status": "completed"
    },
    "tags": []
   },
   "outputs": [],
   "source": [
    "test_images = mnist.test_images()\n",
    "test_labels = mnist.test_labels()"
   ]
  },
  {
   "cell_type": "code",
   "execution_count": 8,
   "id": "fc38cf1b",
   "metadata": {
    "execution": {
     "iopub.execute_input": "2022-04-13T00:33:59.912536Z",
     "iopub.status.busy": "2022-04-13T00:33:59.912058Z",
     "iopub.status.idle": "2022-04-13T00:33:59.924131Z",
     "shell.execute_reply": "2022-04-13T00:33:59.923725Z"
    },
    "papermill": {
     "duration": 0.041399,
     "end_time": "2022-04-13T00:33:59.924226",
     "exception": false,
     "start_time": "2022-04-13T00:33:59.882827",
     "status": "completed"
    },
    "tags": []
   },
   "outputs": [
    {
     "data": {
      "text/plain": [
       "((10000, 28, 28), (10000,))"
      ]
     },
     "execution_count": 8,
     "metadata": {},
     "output_type": "execute_result"
    }
   ],
   "source": [
    "test_images.shape, test_labels.shape"
   ]
  },
  {
   "cell_type": "code",
   "execution_count": 9,
   "id": "f9ed8fe0",
   "metadata": {
    "execution": {
     "iopub.execute_input": "2022-04-13T00:33:59.980301Z",
     "iopub.status.busy": "2022-04-13T00:33:59.979809Z",
     "iopub.status.idle": "2022-04-13T00:34:00.111935Z",
     "shell.execute_reply": "2022-04-13T00:34:00.112342Z"
    },
    "papermill": {
     "duration": 0.161782,
     "end_time": "2022-04-13T00:34:00.112464",
     "exception": false,
     "start_time": "2022-04-13T00:33:59.950682",
     "status": "completed"
    },
    "tags": []
   },
   "outputs": [
    {
     "name": "stdout",
     "output_type": "stream",
     "text": [
      "2\n"
     ]
    },
    {
     "data": {
      "text/plain": [
       "<matplotlib.image.AxesImage at 0x7f220a601358>"
      ]
     },
     "execution_count": 9,
     "metadata": {},
     "output_type": "execute_result"
    },
    {
     "data": {
      "image/png": "[encoded data removed]",
      "text/plain": [
       "<Figure size 432x288 with 1 Axes>"
      ]
     },
     "metadata": {
      "needs_background": "light"
     },
     "output_type": "display_data"
    }
   ],
   "source": [
    "image_index = 7776 # You may select anything up to 60,000\n",
    "print(train_labels[image_index]) \n",
    "plt.imshow(train_images[image_index], cmap='Greys')"
   ]
  },
  {
   "cell_type": "markdown",
   "id": "a8d2388d",
   "metadata": {
    "papermill": {
     "duration": 0.027285,
     "end_time": "2022-04-13T00:34:00.167424",
     "exception": false,
     "start_time": "2022-04-13T00:34:00.140139",
     "status": "completed"
    },
    "tags": []
   },
   "source": [
    "## Filter data to get 3 and 8 out"
   ]
  },
  {
   "cell_type": "code",
   "execution_count": 10,
   "id": "776f7fc7",
   "metadata": {
    "execution": {
     "iopub.execute_input": "2022-04-13T00:34:00.226243Z",
     "iopub.status.busy": "2022-04-13T00:34:00.225745Z",
     "iopub.status.idle": "2022-04-13T00:34:00.242267Z",
     "shell.execute_reply": "2022-04-13T00:34:00.241841Z"
    },
    "papermill": {
     "duration": 0.047641,
     "end_time": "2022-04-13T00:34:00.242377",
     "exception": false,
     "start_time": "2022-04-13T00:34:00.194736",
     "status": "completed"
    },
    "tags": []
   },
   "outputs": [],
   "source": [
    "train_filter = np.where((train_labels == 3 ) | (train_labels == 8))\n",
    "test_filter = np.where((test_labels == 3) | (test_labels == 8))\n",
    "X_train, y_train = train_images[train_filter], train_labels[train_filter]\n",
    "X_test, y_test = test_images[test_filter], test_labels[test_filter]"
   ]
  },
  {
   "cell_type": "markdown",
   "id": "948f0b7e",
   "metadata": {
    "papermill": {
     "duration": 0.027489,
     "end_time": "2022-04-13T00:34:00.297353",
     "exception": false,
     "start_time": "2022-04-13T00:34:00.269864",
     "status": "completed"
    },
    "tags": []
   },
   "source": [
    "We normalize the pizel values in the 0 to 1 range"
   ]
  },
  {
   "cell_type": "code",
   "execution_count": 11,
   "id": "ee4c2166",
   "metadata": {
    "execution": {
     "iopub.execute_input": "2022-04-13T00:34:00.357947Z",
     "iopub.status.busy": "2022-04-13T00:34:00.357452Z",
     "iopub.status.idle": "2022-04-13T00:34:00.394329Z",
     "shell.execute_reply": "2022-04-13T00:34:00.394730Z"
    },
    "papermill": {
     "duration": 0.070125,
     "end_time": "2022-04-13T00:34:00.394862",
     "exception": false,
     "start_time": "2022-04-13T00:34:00.324737",
     "status": "completed"
    },
    "tags": []
   },
   "outputs": [],
   "source": [
    "X_train = X_train/255.\n",
    "X_test = X_test/255."
   ]
  },
  {
   "cell_type": "markdown",
   "id": "ddcf4fab",
   "metadata": {
    "papermill": {
     "duration": 0.027478,
     "end_time": "2022-04-13T00:34:00.450053",
     "exception": false,
     "start_time": "2022-04-13T00:34:00.422575",
     "status": "completed"
    },
    "tags": []
   },
   "source": [
    "And setup the labels as 1 (when the digit is 3) and 0 (when the digit is 8)"
   ]
  },
  {
   "cell_type": "code",
   "execution_count": 12,
   "id": "7dc908f2",
   "metadata": {
    "execution": {
     "iopub.execute_input": "2022-04-13T00:34:00.509123Z",
     "iopub.status.busy": "2022-04-13T00:34:00.508629Z",
     "iopub.status.idle": "2022-04-13T00:34:00.520125Z",
     "shell.execute_reply": "2022-04-13T00:34:00.519729Z"
    },
    "papermill": {
     "duration": 0.042371,
     "end_time": "2022-04-13T00:34:00.520231",
     "exception": false,
     "start_time": "2022-04-13T00:34:00.477860",
     "status": "completed"
    },
    "tags": []
   },
   "outputs": [],
   "source": [
    "y_train = 1*(y_train==3)\n",
    "y_test = 1*(y_test==3)"
   ]
  },
  {
   "cell_type": "code",
   "execution_count": 13,
   "id": "01e4e969",
   "metadata": {
    "execution": {
     "iopub.execute_input": "2022-04-13T00:34:00.578729Z",
     "iopub.status.busy": "2022-04-13T00:34:00.578225Z",
     "iopub.status.idle": "2022-04-13T00:34:00.590417Z",
     "shell.execute_reply": "2022-04-13T00:34:00.590826Z"
    },
    "papermill": {
     "duration": 0.043166,
     "end_time": "2022-04-13T00:34:00.590944",
     "exception": false,
     "start_time": "2022-04-13T00:34:00.547778",
     "status": "completed"
    },
    "tags": []
   },
   "outputs": [
    {
     "data": {
      "text/plain": [
       "((11982, 28, 28), (1984, 28, 28))"
      ]
     },
     "execution_count": 13,
     "metadata": {},
     "output_type": "execute_result"
    }
   ],
   "source": [
    "X_train.shape, X_test.shape"
   ]
  },
  {
   "cell_type": "markdown",
   "id": "5ccf3f85",
   "metadata": {
    "papermill": {
     "duration": 0.027627,
     "end_time": "2022-04-13T00:34:00.646253",
     "exception": false,
     "start_time": "2022-04-13T00:34:00.618626",
     "status": "completed"
    },
    "tags": []
   },
   "source": [
    "We reshape the data to flatten the image pixels into a set of features or co-variates:"
   ]
  },
  {
   "cell_type": "code",
   "execution_count": 14,
   "id": "5286a4a3",
   "metadata": {
    "execution": {
     "iopub.execute_input": "2022-04-13T00:34:00.705702Z",
     "iopub.status.busy": "2022-04-13T00:34:00.705136Z",
     "iopub.status.idle": "2022-04-13T00:34:00.717721Z",
     "shell.execute_reply": "2022-04-13T00:34:00.718095Z"
    },
    "papermill": {
     "duration": 0.043947,
     "end_time": "2022-04-13T00:34:00.718230",
     "exception": false,
     "start_time": "2022-04-13T00:34:00.674283",
     "status": "completed"
    },
    "tags": []
   },
   "outputs": [
    {
     "data": {
      "text/plain": [
       "((11982, 784), (1984, 784))"
      ]
     },
     "execution_count": 14,
     "metadata": {},
     "output_type": "execute_result"
    }
   ],
   "source": [
    "X_train = X_train.reshape(X_train.shape[0], -1)\n",
    "X_test = X_test.reshape(X_test.shape[0], -1)\n",
    "X_train.shape, X_test.shape"
   ]
  },
  {
   "cell_type": "code",
   "execution_count": 15,
   "id": "73c5f88a",
   "metadata": {
    "execution": {
     "iopub.execute_input": "2022-04-13T00:34:00.777608Z",
     "iopub.status.busy": "2022-04-13T00:34:00.776984Z",
     "iopub.status.idle": "2022-04-13T00:34:00.794056Z",
     "shell.execute_reply": "2022-04-13T00:34:00.794430Z"
    },
    "papermill": {
     "duration": 0.048497,
     "end_time": "2022-04-13T00:34:00.794545",
     "exception": false,
     "start_time": "2022-04-13T00:34:00.746048",
     "status": "completed"
    },
    "tags": []
   },
   "outputs": [],
   "source": [
    "#Impoting functions from 'Kudzu'\n",
    "from kudzu.model import Model\n",
    "from kudzu.train import Learner\n",
    "from kudzu.optim import GD\n",
    "from kudzu.data import Data, Sampler,Dataloader\n",
    "\n",
    "from kudzu.callbacks import AccCallback\n",
    "from kudzu.callbacks import ClfCallback\n",
    "\n",
    "from kudzu.loss import MSE\n",
    "\n",
    "from kudzu.layer import Sigmoid,Relu\n",
    "from kudzu.layer import Affine"
   ]
  },
  {
   "cell_type": "markdown",
   "id": "bc01172a",
   "metadata": {
    "papermill": {
     "duration": 0.027873,
     "end_time": "2022-04-13T00:34:00.850294",
     "exception": false,
     "start_time": "2022-04-13T00:34:00.822421",
     "status": "completed"
    },
    "tags": []
   },
   "source": [
    "### Let us create a `Config` class, to store important parameters. \n",
    "This class essentially plays the role of a dictionary."
   ]
  },
  {
   "cell_type": "code",
   "execution_count": 16,
   "id": "978281aa",
   "metadata": {
    "execution": {
     "iopub.execute_input": "2022-04-13T00:34:00.909066Z",
     "iopub.status.busy": "2022-04-13T00:34:00.908569Z",
     "iopub.status.idle": "2022-04-13T00:34:00.919481Z",
     "shell.execute_reply": "2022-04-13T00:34:00.919845Z"
    },
    "papermill": {
     "duration": 0.041906,
     "end_time": "2022-04-13T00:34:00.919956",
     "exception": false,
     "start_time": "2022-04-13T00:34:00.878050",
     "status": "completed"
    },
    "tags": []
   },
   "outputs": [],
   "source": [
    "class Config:\n",
    "    pass\n",
    "config = Config()\n",
    "config.lr = 0.001\n",
    "config.num_epochs = 250\n",
    "config.bs = 50"
   ]
  },
  {
   "cell_type": "markdown",
   "id": "1385fa59",
   "metadata": {
    "papermill": {
     "duration": 0.030583,
     "end_time": "2022-04-13T00:34:00.978401",
     "exception": false,
     "start_time": "2022-04-13T00:34:00.947818",
     "status": "completed"
    },
    "tags": []
   },
   "source": [
    "### Running Models with the Training data\n",
    "Details about the network layers:\n",
    "- A first affine layer has 784 inputs and does 100 affine transforms. These are followed by a Relu\n",
    "- A second affine layer has 100 inputs from the 100 activations of the past layer, and does 100 affine transforms. These are followed by a Relu\n",
    "- A third affine layer has 100 activations and does 2 affine transformations to create an embedding for visualization. There is no non-linearity here.\n",
    "- A final \"logistic regression\" which has an affine transform from 2 inputs to 1 output, which is squeezed through a sigmoid.\n"
   ]
  },
  {
   "cell_type": "code",
   "execution_count": 17,
   "id": "2b9c66db",
   "metadata": {
    "execution": {
     "iopub.execute_input": "2022-04-13T00:34:01.037954Z",
     "iopub.status.busy": "2022-04-13T00:34:01.037445Z",
     "iopub.status.idle": "2022-04-13T00:34:01.049593Z",
     "shell.execute_reply": "2022-04-13T00:34:01.050225Z"
    },
    "papermill": {
     "duration": 0.044009,
     "end_time": "2022-04-13T00:34:01.050339",
     "exception": false,
     "start_time": "2022-04-13T00:34:01.006330",
     "status": "completed"
    },
    "tags": []
   },
   "outputs": [],
   "source": [
    "data = Data(X_train, y_train.reshape(-1,1))\n",
    "sampler = Sampler(data, config.bs, shuffle=True)\n",
    "\n",
    "dl = Dataloader(data, sampler)\n",
    "\n",
    "opt = GD(config.lr)\n",
    "loss = MSE()"
   ]
  },
  {
   "cell_type": "code",
   "execution_count": 18,
   "id": "b275e4c2",
   "metadata": {
    "execution": {
     "iopub.execute_input": "2022-04-13T00:34:01.109458Z",
     "iopub.status.busy": "2022-04-13T00:34:01.108934Z",
     "iopub.status.idle": "2022-04-13T00:34:01.120785Z",
     "shell.execute_reply": "2022-04-13T00:34:01.120357Z"
    },
    "papermill": {
     "duration": 0.042606,
     "end_time": "2022-04-13T00:34:01.120880",
     "exception": false,
     "start_time": "2022-04-13T00:34:01.078274",
     "status": "completed"
    },
    "tags": []
   },
   "outputs": [],
   "source": [
    "training_data_x = X_train\n",
    "testing_data_x = X_test\n",
    "training_data_y = y_train.reshape(-1,1)\n",
    "testing_data_y = y_test.reshape(-1,1)"
   ]
  },
  {
   "cell_type": "code",
   "execution_count": 19,
   "id": "76951160",
   "metadata": {
    "execution": {
     "iopub.execute_input": "2022-04-13T00:34:01.180536Z",
     "iopub.status.busy": "2022-04-13T00:34:01.180034Z",
     "iopub.status.idle": "2022-04-13T00:34:01.194889Z",
     "shell.execute_reply": "2022-04-13T00:34:01.195263Z"
    },
    "papermill": {
     "duration": 0.046717,
     "end_time": "2022-04-13T00:34:01.195373",
     "exception": false,
     "start_time": "2022-04-13T00:34:01.148656",
     "status": "completed"
    },
    "tags": []
   },
   "outputs": [
    {
     "name": "stdout",
     "output_type": "stream",
     "text": [
      "xavier\n",
      "xavier\n",
      "xavier\n",
      "xavier\n",
      "xavier\n"
     ]
    }
   ],
   "source": [
    "layers = [Affine(\"first\", 784, 100), Relu(\"first\"), Affine(\"second\", 100, 100), Relu(\"second\"), Affine(\"third\", 100, 2), Affine(\"last\", 2, 1), Sigmoid(\"last\")]\n",
    "model_nn = Model(layers)\n",
    "model_lr = Model([Affine(\"logits\", 784, 1), Sigmoid(\"sigmoid\")])"
   ]
  },
  {
   "cell_type": "code",
   "execution_count": 20,
   "id": "6eede77a",
   "metadata": {
    "execution": {
     "iopub.execute_input": "2022-04-13T00:34:01.254859Z",
     "iopub.status.busy": "2022-04-13T00:34:01.254359Z",
     "iopub.status.idle": "2022-04-13T00:34:01.265170Z",
     "shell.execute_reply": "2022-04-13T00:34:01.264766Z"
    },
    "papermill": {
     "duration": 0.041689,
     "end_time": "2022-04-13T00:34:01.265285",
     "exception": false,
     "start_time": "2022-04-13T00:34:01.223596",
     "status": "completed"
    },
    "tags": []
   },
   "outputs": [],
   "source": [
    "nn_learner = Learner(loss, model_nn, opt, config.num_epochs)\n",
    "acc_nn = ClfCallback(nn_learner, config.bs, training_data_x , testing_data_x, training_data_y, testing_data_y)\n",
    "nn_learner.set_callbacks([acc_nn])"
   ]
  },
  {
   "cell_type": "code",
   "execution_count": 21,
   "id": "877b6cc7",
   "metadata": {
    "execution": {
     "iopub.execute_input": "2022-04-13T00:34:01.324657Z",
     "iopub.status.busy": "2022-04-13T00:34:01.324152Z",
     "iopub.status.idle": "2022-04-13T00:34:01.334974Z",
     "shell.execute_reply": "2022-04-13T00:34:01.334569Z"
    },
    "papermill": {
     "duration": 0.041653,
     "end_time": "2022-04-13T00:34:01.335066",
     "exception": false,
     "start_time": "2022-04-13T00:34:01.293413",
     "status": "completed"
    },
    "tags": []
   },
   "outputs": [],
   "source": [
    "lr_learner = Learner(loss, model_lr, opt, config.num_epochs)\n",
    "acc_lr = ClfCallback(lr_learner, config.bs, training_data_x , testing_data_x, training_data_y, testing_data_y)\n",
    "lr_learner.set_callbacks([acc_lr])"
   ]
  },
  {
   "cell_type": "code",
   "execution_count": 22,
   "id": "d9b133c3",
   "metadata": {
    "execution": {
     "iopub.execute_input": "2022-04-13T00:34:01.394064Z",
     "iopub.status.busy": "2022-04-13T00:34:01.393578Z",
     "iopub.status.idle": "2022-04-13T00:36:56.628717Z",
     "shell.execute_reply": "2022-04-13T00:36:56.629130Z"
    },
    "papermill": {
     "duration": 175.265901,
     "end_time": "2022-04-13T00:36:56.629279",
     "exception": false,
     "start_time": "2022-04-13T00:34:01.363378",
     "status": "completed"
    },
    "tags": []
   },
   "outputs": [
    {
     "name": "stdout",
     "output_type": "stream",
     "text": [
      "Epoch 0, Loss 0.2074\n",
      "Training Accuracy: 0.8080, Testing Accuracy: 0.8130\n",
      "\n"
     ]
    },
    {
     "name": "stdout",
     "output_type": "stream",
     "text": [
      "Epoch 10, Loss 0.0712\n",
      "Training Accuracy: 0.9276, Testing Accuracy: 0.9430\n",
      "\n"
     ]
    },
    {
     "name": "stdout",
     "output_type": "stream",
     "text": [
      "Epoch 20, Loss 0.0498\n",
      "Training Accuracy: 0.9455, Testing Accuracy: 0.9597\n",
      "\n"
     ]
    },
    {
     "name": "stdout",
     "output_type": "stream",
     "text": [
      "Epoch 30, Loss 0.0411\n",
      "Training Accuracy: 0.9541, Testing Accuracy: 0.9642\n",
      "\n"
     ]
    },
    {
     "name": "stdout",
     "output_type": "stream",
     "text": [
      "Epoch 40, Loss 0.0363\n",
      "Training Accuracy: 0.9592, Testing Accuracy: 0.9688\n",
      "\n"
     ]
    },
    {
     "name": "stdout",
     "output_type": "stream",
     "text": [
      "Epoch 50, Loss 0.0332\n",
      "Training Accuracy: 0.9616, Testing Accuracy: 0.9703\n",
      "\n"
     ]
    },
    {
     "name": "stdout",
     "output_type": "stream",
     "text": [
      "Epoch 60, Loss 0.0309\n",
      "Training Accuracy: 0.9644, Testing Accuracy: 0.9713\n",
      "\n"
     ]
    },
    {
     "name": "stdout",
     "output_type": "stream",
     "text": [
      "Epoch 70, Loss 0.0291\n",
      "Training Accuracy: 0.9670, Testing Accuracy: 0.9723\n",
      "\n"
     ]
    },
    {
     "name": "stdout",
     "output_type": "stream",
     "text": [
      "Epoch 80, Loss 0.0277\n",
      "Training Accuracy: 0.9687, Testing Accuracy: 0.9728\n",
      "\n"
     ]
    },
    {
     "name": "stdout",
     "output_type": "stream",
     "text": [
      "Epoch 90, Loss 0.0266\n",
      "Training Accuracy: 0.9693, Testing Accuracy: 0.9738\n",
      "\n"
     ]
    },
    {
     "name": "stdout",
     "output_type": "stream",
     "text": [
      "Epoch 100, Loss 0.0256\n",
      "Training Accuracy: 0.9701, Testing Accuracy: 0.9743\n",
      "\n"
     ]
    },
    {
     "name": "stdout",
     "output_type": "stream",
     "text": [
      "Epoch 110, Loss 0.0247\n",
      "Training Accuracy: 0.9715, Testing Accuracy: 0.9743\n",
      "\n"
     ]
    },
    {
     "name": "stdout",
     "output_type": "stream",
     "text": [
      "Epoch 120, Loss 0.0239\n",
      "Training Accuracy: 0.9729, Testing Accuracy: 0.9753\n",
      "\n"
     ]
    },
    {
     "name": "stdout",
     "output_type": "stream",
     "text": [
      "Epoch 130, Loss 0.0232\n",
      "Training Accuracy: 0.9737, Testing Accuracy: 0.9748\n",
      "\n"
     ]
    },
    {
     "name": "stdout",
     "output_type": "stream",
     "text": [
      "Epoch 140, Loss 0.0225\n",
      "Training Accuracy: 0.9745, Testing Accuracy: 0.9748\n",
      "\n"
     ]
    },
    {
     "name": "stdout",
     "output_type": "stream",
     "text": [
      "Epoch 150, Loss 0.0219\n",
      "Training Accuracy: 0.9755, Testing Accuracy: 0.9753\n",
      "\n"
     ]
    },
    {
     "name": "stdout",
     "output_type": "stream",
     "text": [
      "Epoch 160, Loss 0.0214\n",
      "Training Accuracy: 0.9761, Testing Accuracy: 0.9748\n",
      "\n"
     ]
    },
    {
     "name": "stdout",
     "output_type": "stream",
     "text": [
      "Epoch 170, Loss 0.0209\n",
      "Training Accuracy: 0.9771, Testing Accuracy: 0.9738\n",
      "\n"
     ]
    },
    {
     "name": "stdout",
     "output_type": "stream",
     "text": [
      "Epoch 180, Loss 0.0204\n",
      "Training Accuracy: 0.9776, Testing Accuracy: 0.9733\n",
      "\n"
     ]
    },
    {
     "name": "stdout",
     "output_type": "stream",
     "text": [
      "Epoch 190, Loss 0.0199\n",
      "Training Accuracy: 0.9786, Testing Accuracy: 0.9738\n",
      "\n"
     ]
    },
    {
     "name": "stdout",
     "output_type": "stream",
     "text": [
      "Epoch 200, Loss 0.0195\n",
      "Training Accuracy: 0.9791, Testing Accuracy: 0.9743\n",
      "\n"
     ]
    },
    {
     "name": "stdout",
     "output_type": "stream",
     "text": [
      "Epoch 210, Loss 0.0191\n",
      "Training Accuracy: 0.9793, Testing Accuracy: 0.9743\n",
      "\n"
     ]
    },
    {
     "name": "stdout",
     "output_type": "stream",
     "text": [
      "Epoch 220, Loss 0.0187\n",
      "Training Accuracy: 0.9801, Testing Accuracy: 0.9743\n",
      "\n"
     ]
    },
    {
     "name": "stdout",
     "output_type": "stream",
     "text": [
      "Epoch 230, Loss 0.0183\n",
      "Training Accuracy: 0.9801, Testing Accuracy: 0.9743\n",
      "\n"
     ]
    },
    {
     "name": "stdout",
     "output_type": "stream",
     "text": [
      "Epoch 240, Loss 0.018\n",
      "Training Accuracy: 0.9807, Testing Accuracy: 0.9743\n",
      "\n"
     ]
    },
    {
     "data": {
      "text/plain": [
       "0.0015964481549422664"
      ]
     },
     "execution_count": 22,
     "metadata": {},
     "output_type": "execute_result"
    }
   ],
   "source": [
    "nn_learner.train_loop(dl)"
   ]
  },
  {
   "cell_type": "code",
   "execution_count": 23,
   "id": "e0163366",
   "metadata": {
    "execution": {
     "iopub.execute_input": "2022-04-13T00:36:56.705030Z",
     "iopub.status.busy": "2022-04-13T00:36:56.704476Z",
     "iopub.status.idle": "2022-04-13T00:37:09.115862Z",
     "shell.execute_reply": "2022-04-13T00:37:09.116537Z"
    },
    "papermill": {
     "duration": 12.451404,
     "end_time": "2022-04-13T00:37:09.116669",
     "exception": false,
     "start_time": "2022-04-13T00:36:56.665265",
     "status": "completed"
    },
    "tags": []
   },
   "outputs": [
    {
     "name": "stdout",
     "output_type": "stream",
     "text": [
      "Epoch 0, Loss 0.1912\n",
      "Training Accuracy: 0.8235, Testing Accuracy: 0.8221\n",
      "\n"
     ]
    },
    {
     "name": "stdout",
     "output_type": "stream",
     "text": [
      "Epoch 10, Loss 0.0998\n",
      "Training Accuracy: 0.9060, Testing Accuracy: 0.9168\n",
      "\n"
     ]
    },
    {
     "name": "stdout",
     "output_type": "stream",
     "text": [
      "Epoch 20, Loss 0.0786\n",
      "Training Accuracy: 0.9256, Testing Accuracy: 0.9325\n",
      "\n"
     ]
    },
    {
     "name": "stdout",
     "output_type": "stream",
     "text": [
      "Epoch 30, Loss 0.0681\n",
      "Training Accuracy: 0.9343, Testing Accuracy: 0.9400\n",
      "\n"
     ]
    },
    {
     "name": "stdout",
     "output_type": "stream",
     "text": [
      "Epoch 40, Loss 0.0617\n",
      "Training Accuracy: 0.9388, Testing Accuracy: 0.9486\n",
      "\n"
     ]
    },
    {
     "name": "stdout",
     "output_type": "stream",
     "text": [
      "Epoch 50, Loss 0.0572\n",
      "Training Accuracy: 0.9436, Testing Accuracy: 0.9506\n",
      "\n"
     ]
    },
    {
     "name": "stdout",
     "output_type": "stream",
     "text": [
      "Epoch 60, Loss 0.054\n",
      "Training Accuracy: 0.9466, Testing Accuracy: 0.9551\n",
      "\n"
     ]
    },
    {
     "name": "stdout",
     "output_type": "stream",
     "text": [
      "Epoch 70, Loss 0.0514\n",
      "Training Accuracy: 0.9488, Testing Accuracy: 0.9572\n",
      "\n"
     ]
    },
    {
     "name": "stdout",
     "output_type": "stream",
     "text": [
      "Epoch 80, Loss 0.0493\n",
      "Training Accuracy: 0.9498, Testing Accuracy: 0.9592\n",
      "\n"
     ]
    },
    {
     "name": "stdout",
     "output_type": "stream",
     "text": [
      "Epoch 90, Loss 0.0477\n",
      "Training Accuracy: 0.9513, Testing Accuracy: 0.9607\n",
      "\n"
     ]
    },
    {
     "name": "stdout",
     "output_type": "stream",
     "text": [
      "Epoch 100, Loss 0.0462\n",
      "Training Accuracy: 0.9531, Testing Accuracy: 0.9612\n",
      "\n"
     ]
    },
    {
     "name": "stdout",
     "output_type": "stream",
     "text": [
      "Epoch 110, Loss 0.045\n",
      "Training Accuracy: 0.9543, Testing Accuracy: 0.9617\n",
      "\n"
     ]
    },
    {
     "name": "stdout",
     "output_type": "stream",
     "text": [
      "Epoch 120, Loss 0.0439\n",
      "Training Accuracy: 0.9547, Testing Accuracy: 0.9632\n",
      "\n"
     ]
    },
    {
     "name": "stdout",
     "output_type": "stream",
     "text": [
      "Epoch 130, Loss 0.043\n",
      "Training Accuracy: 0.9554, Testing Accuracy: 0.9637\n",
      "\n"
     ]
    },
    {
     "name": "stdout",
     "output_type": "stream",
     "text": [
      "Epoch 140, Loss 0.0422\n",
      "Training Accuracy: 0.9560, Testing Accuracy: 0.9637\n",
      "\n"
     ]
    },
    {
     "name": "stdout",
     "output_type": "stream",
     "text": [
      "Epoch 150, Loss 0.0414\n",
      "Training Accuracy: 0.9564, Testing Accuracy: 0.9642\n",
      "\n"
     ]
    },
    {
     "name": "stdout",
     "output_type": "stream",
     "text": [
      "Epoch 160, Loss 0.0407\n",
      "Training Accuracy: 0.9574, Testing Accuracy: 0.9647\n",
      "\n"
     ]
    },
    {
     "name": "stdout",
     "output_type": "stream",
     "text": [
      "Epoch 170, Loss 0.0401\n",
      "Training Accuracy: 0.9582, Testing Accuracy: 0.9652\n",
      "\n"
     ]
    },
    {
     "name": "stdout",
     "output_type": "stream",
     "text": [
      "Epoch 180, Loss 0.0396\n",
      "Training Accuracy: 0.9589, Testing Accuracy: 0.9652\n",
      "\n"
     ]
    },
    {
     "name": "stdout",
     "output_type": "stream",
     "text": [
      "Epoch 190, Loss 0.039\n",
      "Training Accuracy: 0.9592, Testing Accuracy: 0.9657\n",
      "\n"
     ]
    },
    {
     "name": "stdout",
     "output_type": "stream",
     "text": [
      "Epoch 200, Loss 0.0386\n",
      "Training Accuracy: 0.9597, Testing Accuracy: 0.9652\n",
      "\n"
     ]
    },
    {
     "name": "stdout",
     "output_type": "stream",
     "text": [
      "Epoch 210, Loss 0.0381\n",
      "Training Accuracy: 0.9600, Testing Accuracy: 0.9657\n",
      "\n"
     ]
    },
    {
     "name": "stdout",
     "output_type": "stream",
     "text": [
      "Epoch 220, Loss 0.0377\n",
      "Training Accuracy: 0.9601, Testing Accuracy: 0.9667\n",
      "\n"
     ]
    },
    {
     "name": "stdout",
     "output_type": "stream",
     "text": [
      "Epoch 230, Loss 0.0373\n",
      "Training Accuracy: 0.9606, Testing Accuracy: 0.9672\n",
      "\n"
     ]
    },
    {
     "name": "stdout",
     "output_type": "stream",
     "text": [
      "Epoch 240, Loss 0.0369\n",
      "Training Accuracy: 0.9609, Testing Accuracy: 0.9672\n",
      "\n"
     ]
    },
    {
     "data": {
      "text/plain": [
       "0.030624005420822987"
      ]
     },
     "execution_count": 23,
     "metadata": {},
     "output_type": "execute_result"
    }
   ],
   "source": [
    "lr_learner.train_loop(dl)"
   ]
  },
  {
   "cell_type": "code",
   "execution_count": 24,
   "id": "ca410940",
   "metadata": {
    "execution": {
     "iopub.execute_input": "2022-04-13T00:37:09.210591Z",
     "iopub.status.busy": "2022-04-13T00:37:09.210087Z",
     "iopub.status.idle": "2022-04-13T00:37:09.445663Z",
     "shell.execute_reply": "2022-04-13T00:37:09.446055Z"
    },
    "papermill": {
     "duration": 0.286353,
     "end_time": "2022-04-13T00:37:09.446184",
     "exception": false,
     "start_time": "2022-04-13T00:37:09.159831",
     "status": "completed"
    },
    "tags": []
   },
   "outputs": [
    {
     "data": {
      "text/plain": [
       "<matplotlib.legend.Legend at 0x7f220a1e18d0>"
      ]
     },
     "execution_count": 24,
     "metadata": {},
     "output_type": "execute_result"
    },
    {
     "data": {
      "image/png": "[encoded data removed]",
      "text/plain": [
       "<Figure size 1080x720 with 1 Axes>"
      ]
     },
     "metadata": {
      "needs_background": "light"
     },
     "output_type": "display_data"
    }
   ],
   "source": [
    "#comparing the results of NN and LR\n",
    "plt.figure(figsize=(15,10))\n",
    "\n",
    "# Neural Network plots\n",
    "plt.plot(acc_nn.accuracies, 'r-', label = \"Training Accuracies - NN\")\n",
    "plt.plot(acc_nn.test_accuracies, 'g-', label = \"Testing Accuracies - NN\")\n",
    "\n",
    "# Logistic Regression plots\n",
    "plt.plot(acc_lr.accuracies, 'k-', label = \"Training Accuracies - LR\")\n",
    "plt.plot(acc_lr.test_accuracies, 'b-', label = \"Testing Accuracies - LR\")\n",
    "plt.legend()"
   ]
  },
  {
   "cell_type": "markdown",
   "id": "80dfb35c",
   "metadata": {
    "papermill": {
     "duration": 0.044246,
     "end_time": "2022-04-13T00:37:09.535098",
     "exception": false,
     "start_time": "2022-04-13T00:37:09.490852",
     "status": "completed"
    },
    "tags": []
   },
   "source": [
    "#### Plotting the outputs of this layer of the NN.\n"
   ]
  },
  {
   "cell_type": "code",
   "execution_count": 25,
   "id": "45eb2ff5",
   "metadata": {
    "execution": {
     "iopub.execute_input": "2022-04-13T00:37:09.626256Z",
     "iopub.status.busy": "2022-04-13T00:37:09.625759Z",
     "iopub.status.idle": "2022-04-13T00:37:09.660109Z",
     "shell.execute_reply": "2022-04-13T00:37:09.660797Z"
    },
    "papermill": {
     "duration": 0.082089,
     "end_time": "2022-04-13T00:37:09.660927",
     "exception": false,
     "start_time": "2022-04-13T00:37:09.578838",
     "status": "completed"
    },
    "tags": []
   },
   "outputs": [],
   "source": [
    "new_model = Model(layers[:-2])\n",
    "testing_plot = new_model(testing_data_x)"
   ]
  },
  {
   "cell_type": "code",
   "execution_count": 26,
   "id": "4c0a5485",
   "metadata": {
    "execution": {
     "iopub.execute_input": "2022-04-13T00:37:09.756032Z",
     "iopub.status.busy": "2022-04-13T00:37:09.755551Z",
     "iopub.status.idle": "2022-04-13T00:37:09.934921Z",
     "shell.execute_reply": "2022-04-13T00:37:09.935326Z"
    },
    "papermill": {
     "duration": 0.230166,
     "end_time": "2022-04-13T00:37:09.935453",
     "exception": false,
     "start_time": "2022-04-13T00:37:09.705287",
     "status": "completed"
    },
    "tags": []
   },
   "outputs": [
    {
     "data": {
      "text/plain": [
       "Text(0.5, 1.0, 'Outputs')"
      ]
     },
     "execution_count": 26,
     "metadata": {},
     "output_type": "execute_result"
    },
    {
     "data": {
      "image/png": "[encoded data removed]",
      "text/plain": [
       "<Figure size 576x504 with 1 Axes>"
      ]
     },
     "metadata": {
      "needs_background": "light"
     },
     "output_type": "display_data"
    }
   ],
   "source": [
    "# Plotting the scatter plot of points and color coding by class\n",
    "plt.figure(figsize=(8,7))\n",
    "plt.scatter(testing_plot[:,0], testing_plot[:,1], alpha = 0.1, c = y_test.ravel());\n",
    "plt.title('Outputs')"
   ]
  },
  {
   "cell_type": "markdown",
   "id": "a74fcf8f",
   "metadata": {
    "papermill": {
     "duration": 0.065654,
     "end_time": "2022-04-13T00:37:10.047196",
     "exception": false,
     "start_time": "2022-04-13T00:37:09.981542",
     "status": "completed"
    },
    "tags": []
   },
   "source": [
    "Probability contours"
   ]
  },
  {
   "cell_type": "code",
   "execution_count": 27,
   "id": "d0afc8e3",
   "metadata": {
    "execution": {
     "iopub.execute_input": "2022-04-13T00:37:10.142274Z",
     "iopub.status.busy": "2022-04-13T00:37:10.141776Z",
     "iopub.status.idle": "2022-04-13T00:37:10.153618Z",
     "shell.execute_reply": "2022-04-13T00:37:10.154242Z"
    },
    "papermill": {
     "duration": 0.061332,
     "end_time": "2022-04-13T00:37:10.154362",
     "exception": false,
     "start_time": "2022-04-13T00:37:10.093030",
     "status": "completed"
    },
    "tags": []
   },
   "outputs": [],
   "source": [
    "model_prob = Model(layers[-2:]) "
   ]
  },
  {
   "cell_type": "code",
   "execution_count": 28,
   "id": "9b96e238",
   "metadata": {
    "execution": {
     "iopub.execute_input": "2022-04-13T00:37:10.251680Z",
     "iopub.status.busy": "2022-04-13T00:37:10.250677Z",
     "iopub.status.idle": "2022-04-13T00:37:10.264942Z",
     "shell.execute_reply": "2022-04-13T00:37:10.264544Z"
    },
    "papermill": {
     "duration": 0.064972,
     "end_time": "2022-04-13T00:37:10.265043",
     "exception": false,
     "start_time": "2022-04-13T00:37:10.200071",
     "status": "completed"
    },
    "tags": []
   },
   "outputs": [],
   "source": [
    "#creating the x and y ranges according to the above generated plot.\n",
    "x_range = np.linspace(-4, 1, 100) \n",
    "y_range = np.linspace(-6, 6, 100) \n",
    "x_grid, y_grid = np.meshgrid(x_range, y_range) # x_grid and y_grig are of size 100 X 100\n",
    "\n",
    "# converting x_grid and y_grid to continuous arrays\n",
    "x_gridflat = np.ravel(x_grid)\n",
    "y_gridflat = np.ravel(y_grid)\n",
    "\n",
    "# The last layer of the current model takes two columns as input. Hence transpose of np.vstack() is required.\n",
    "X = np.vstack((x_gridflat, y_gridflat)).T\n",
    "\n",
    "prob_contour = model_prob(X).reshape(100,100) "
   ]
  },
  {
   "cell_type": "code",
   "execution_count": 29,
   "id": "da72499a",
   "metadata": {
    "execution": {
     "iopub.execute_input": "2022-04-13T00:37:10.361712Z",
     "iopub.status.busy": "2022-04-13T00:37:10.361179Z",
     "iopub.status.idle": "2022-04-13T00:37:10.598978Z",
     "shell.execute_reply": "2022-04-13T00:37:10.599376Z"
    },
    "papermill": {
     "duration": 0.288417,
     "end_time": "2022-04-13T00:37:10.599497",
     "exception": false,
     "start_time": "2022-04-13T00:37:10.311080",
     "status": "completed"
    },
    "tags": []
   },
   "outputs": [
    {
     "data": {
      "image/png": "[encoded data removed]",
      "text/plain": [
       "<Figure size 720x648 with 1 Axes>"
      ]
     },
     "metadata": {
      "needs_background": "light"
     },
     "output_type": "display_data"
    }
   ],
   "source": [
    "plt.figure(figsize=(10,9))\n",
    "plt.scatter(testing_plot[:,0], testing_plot[:,1], alpha = 0.1, c = y_test.ravel())\n",
    "contours = plt.contour(x_grid,y_grid,prob_contour)\n",
    "plt.title('Probability Contours')\n",
    "plt.clabel(contours, inline = True );"
   ]
  },
  {
   "cell_type": "code",
   "execution_count": null,
   "id": "e81b4ac7",
   "metadata": {
    "papermill": {
     "duration": 0.048359,
     "end_time": "2022-04-13T00:37:10.696503",
     "exception": false,
     "start_time": "2022-04-13T00:37:10.648144",
     "status": "completed"
    },
    "tags": []
   },
   "outputs": [],
   "source": []
  }
 ],
 "metadata": {
  "kernelspec": {
   "display_name": "Python 3",
   "language": "python",
   "name": "python3"
  },
  "language_info": {
   "codemirror_mode": {
    "name": "ipython",
    "version": 3
   },
   "file_extension": ".py",
   "mimetype": "text/x-python",
   "name": "python",
   "nbconvert_exporter": "python",
   "pygments_lexer": "ipython3",
   "version": "3.6.15"
  },
  "papermill": {
   "default_parameters": {},
   "duration": 195.870813,
   "end_time": "2022-04-13T00:37:11.061614",
   "environment_variables": {},
   "exception": null,
   "input_path": "2020-08-11-part2.ipynb",
   "output_path": "2020-08-11-part2.ipynb",
   "parameters": {},
   "start_time": "2022-04-13T00:33:55.190801",
   "version": "2.3.3"
  }
 },
 "nbformat": 4,
 "nbformat_minor": 5
}