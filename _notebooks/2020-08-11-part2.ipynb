{
 "cells": [
  {
   "cell_type": "markdown",
   "id": "98380cd3",
   "metadata": {
    "papermill": {
     "duration": 0.033556,
     "end_time": "2021-10-31T20:07:35.493121",
     "exception": false,
     "start_time": "2021-10-31T20:07:35.459565",
     "status": "completed"
    },
    "tags": []
   },
   "source": [
    "# Distinguish Your Own Digits (DYOD)"
   ]
  },
  {
   "cell_type": "markdown",
   "id": "ef31240d",
   "metadata": {
    "papermill": {
     "duration": 0.029522,
     "end_time": "2021-10-31T20:07:35.553969",
     "exception": false,
     "start_time": "2021-10-31T20:07:35.524447",
     "status": "completed"
    },
    "tags": []
   },
   "source": [
    "You are going to write a classifier that distinguishes between the number 3 and number 8."
   ]
  },
  {
   "cell_type": "code",
   "execution_count": 1,
   "id": "b15c8646",
   "metadata": {
    "execution": {
     "iopub.execute_input": "2021-10-31T20:07:35.628089Z",
     "iopub.status.busy": "2021-10-31T20:07:35.627453Z",
     "iopub.status.idle": "2021-10-31T20:07:35.639024Z",
     "shell.execute_reply": "2021-10-31T20:07:35.639533Z"
    },
    "papermill": {
     "duration": 0.054112,
     "end_time": "2021-10-31T20:07:35.639705",
     "exception": false,
     "start_time": "2021-10-31T20:07:35.585593",
     "status": "completed"
    },
    "tags": []
   },
   "outputs": [],
   "source": [
    "%load_ext autoreload\n",
    "%autoreload 2"
   ]
  },
  {
   "cell_type": "code",
   "execution_count": 2,
   "id": "22ef38dc",
   "metadata": {
    "execution": {
     "iopub.execute_input": "2021-10-31T20:07:35.709690Z",
     "iopub.status.busy": "2021-10-31T20:07:35.708962Z",
     "iopub.status.idle": "2021-10-31T20:07:36.319576Z",
     "shell.execute_reply": "2021-10-31T20:07:36.320134Z"
    },
    "papermill": {
     "duration": 0.646484,
     "end_time": "2021-10-31T20:07:36.320313",
     "exception": false,
     "start_time": "2021-10-31T20:07:35.673829",
     "status": "completed"
    },
    "tags": []
   },
   "outputs": [],
   "source": [
    "%matplotlib inline\n",
    "import numpy as np\n",
    "import matplotlib.pyplot as plt\n",
    "import pandas as pd"
   ]
  },
  {
   "cell_type": "markdown",
   "id": "ba036198",
   "metadata": {
    "papermill": {
     "duration": 0.029994,
     "end_time": "2021-10-31T20:07:36.380828",
     "exception": false,
     "start_time": "2021-10-31T20:07:36.350834",
     "status": "completed"
    },
    "tags": []
   },
   "source": [
    "From the command line run `pip install mnist`. This is a library that will help you bring down the mnist dataset. If you run this from a notebook, you need to put  `!pip install mnist` in a cell by itself."
   ]
  },
  {
   "cell_type": "code",
   "execution_count": 3,
   "id": "bb6ad8a1",
   "metadata": {
    "execution": {
     "iopub.execute_input": "2021-10-31T20:07:36.446808Z",
     "iopub.status.busy": "2021-10-31T20:07:36.446048Z",
     "iopub.status.idle": "2021-10-31T20:07:38.411247Z",
     "shell.execute_reply": "2021-10-31T20:07:38.411730Z"
    },
    "papermill": {
     "duration": 2.000936,
     "end_time": "2021-10-31T20:07:38.411898",
     "exception": false,
     "start_time": "2021-10-31T20:07:36.410962",
     "status": "completed"
    },
    "tags": []
   },
   "outputs": [
    {
     "name": "stdout",
     "output_type": "stream",
     "text": [
      "Collecting mnist\r\n"
     ]
    },
    {
     "name": "stdout",
     "output_type": "stream",
     "text": [
      "  Downloading mnist-0.2.2-py2.py3-none-any.whl (3.5 kB)\r\n",
      "Requirement already satisfied: numpy in /opt/hostedtoolcache/Python/3.6.15/x64/lib/python3.6/site-packages (from mnist) (1.19.5)\r\n"
     ]
    },
    {
     "name": "stdout",
     "output_type": "stream",
     "text": [
      "Installing collected packages: mnist\r\n"
     ]
    },
    {
     "name": "stdout",
     "output_type": "stream",
     "text": [
      "Successfully installed mnist-0.2.2\r\n"
     ]
    },
    {
     "name": "stdout",
     "output_type": "stream",
     "text": [
      "\u001b[33mWARNING: You are using pip version 21.3; however, version 21.3.1 is available.\r\n",
      "You should consider upgrading via the '/opt/hostedtoolcache/Python/3.6.15/x64/bin/python -m pip install --upgrade pip' command.\u001b[0m\r\n"
     ]
    }
   ],
   "source": [
    "!pip install mnist"
   ]
  },
  {
   "cell_type": "markdown",
   "id": "69df9c9a",
   "metadata": {
    "papermill": {
     "duration": 0.033609,
     "end_time": "2021-10-31T20:07:38.476368",
     "exception": false,
     "start_time": "2021-10-31T20:07:38.442759",
     "status": "completed"
    },
    "tags": []
   },
   "source": [
    "## Preparing the Data"
   ]
  },
  {
   "cell_type": "code",
   "execution_count": 4,
   "id": "7f69d806",
   "metadata": {
    "execution": {
     "iopub.execute_input": "2021-10-31T20:07:38.556691Z",
     "iopub.status.busy": "2021-10-31T20:07:38.552833Z",
     "iopub.status.idle": "2021-10-31T20:07:38.568612Z",
     "shell.execute_reply": "2021-10-31T20:07:38.568102Z"
    },
    "papermill": {
     "duration": 0.058438,
     "end_time": "2021-10-31T20:07:38.568733",
     "exception": false,
     "start_time": "2021-10-31T20:07:38.510295",
     "status": "completed"
    },
    "tags": []
   },
   "outputs": [],
   "source": [
    "import mnist"
   ]
  },
  {
   "cell_type": "code",
   "execution_count": 5,
   "id": "a411e44f",
   "metadata": {
    "execution": {
     "iopub.execute_input": "2021-10-31T20:07:38.639530Z",
     "iopub.status.busy": "2021-10-31T20:07:38.636980Z",
     "iopub.status.idle": "2021-10-31T20:07:39.230222Z",
     "shell.execute_reply": "2021-10-31T20:07:39.230831Z"
    },
    "papermill": {
     "duration": 0.630475,
     "end_time": "2021-10-31T20:07:39.231006",
     "exception": false,
     "start_time": "2021-10-31T20:07:38.600531",
     "status": "completed"
    },
    "tags": []
   },
   "outputs": [],
   "source": [
    "train_images = mnist.train_images()\n",
    "train_labels = mnist.train_labels()"
   ]
  },
  {
   "cell_type": "code",
   "execution_count": 6,
   "id": "dceab3a5",
   "metadata": {
    "execution": {
     "iopub.execute_input": "2021-10-31T20:07:39.303193Z",
     "iopub.status.busy": "2021-10-31T20:07:39.302524Z",
     "iopub.status.idle": "2021-10-31T20:07:39.317762Z",
     "shell.execute_reply": "2021-10-31T20:07:39.318478Z"
    },
    "papermill": {
     "duration": 0.05224,
     "end_time": "2021-10-31T20:07:39.318635",
     "exception": false,
     "start_time": "2021-10-31T20:07:39.266395",
     "status": "completed"
    },
    "tags": []
   },
   "outputs": [
    {
     "data": {
      "text/plain": [
       "((60000, 28, 28), (60000,))"
      ]
     },
     "execution_count": 6,
     "metadata": {},
     "output_type": "execute_result"
    }
   ],
   "source": [
    "train_images.shape, train_labels.shape"
   ]
  },
  {
   "cell_type": "code",
   "execution_count": 7,
   "id": "f50dc2bb",
   "metadata": {
    "execution": {
     "iopub.execute_input": "2021-10-31T20:07:39.386554Z",
     "iopub.status.busy": "2021-10-31T20:07:39.385866Z",
     "iopub.status.idle": "2021-10-31T20:07:39.537548Z",
     "shell.execute_reply": "2021-10-31T20:07:39.538119Z"
    },
    "papermill": {
     "duration": 0.188526,
     "end_time": "2021-10-31T20:07:39.538294",
     "exception": false,
     "start_time": "2021-10-31T20:07:39.349768",
     "status": "completed"
    },
    "tags": []
   },
   "outputs": [],
   "source": [
    "test_images = mnist.test_images()\n",
    "test_labels = mnist.test_labels()"
   ]
  },
  {
   "cell_type": "code",
   "execution_count": 8,
   "id": "fc38cf1b",
   "metadata": {
    "execution": {
     "iopub.execute_input": "2021-10-31T20:07:39.613099Z",
     "iopub.status.busy": "2021-10-31T20:07:39.612405Z",
     "iopub.status.idle": "2021-10-31T20:07:39.627146Z",
     "shell.execute_reply": "2021-10-31T20:07:39.626567Z"
    },
    "papermill": {
     "duration": 0.052272,
     "end_time": "2021-10-31T20:07:39.627287",
     "exception": false,
     "start_time": "2021-10-31T20:07:39.575015",
     "status": "completed"
    },
    "tags": []
   },
   "outputs": [
    {
     "data": {
      "text/plain": [
       "((10000, 28, 28), (10000,))"
      ]
     },
     "execution_count": 8,
     "metadata": {},
     "output_type": "execute_result"
    }
   ],
   "source": [
    "test_images.shape, test_labels.shape"
   ]
  },
  {
   "cell_type": "code",
   "execution_count": 9,
   "id": "f9ed8fe0",
   "metadata": {
    "execution": {
     "iopub.execute_input": "2021-10-31T20:07:39.697249Z",
     "iopub.status.busy": "2021-10-31T20:07:39.696574Z",
     "iopub.status.idle": "2021-10-31T20:07:39.881973Z",
     "shell.execute_reply": "2021-10-31T20:07:39.882562Z"
    },
    "papermill": {
     "duration": 0.222594,
     "end_time": "2021-10-31T20:07:39.882749",
     "exception": false,
     "start_time": "2021-10-31T20:07:39.660155",
     "status": "completed"
    },
    "tags": []
   },
   "outputs": [
    {
     "name": "stdout",
     "output_type": "stream",
     "text": [
      "2\n"
     ]
    },
    {
     "data": {
      "text/plain": [
       "<matplotlib.image.AxesImage at 0x7f48daaa6080>"
      ]
     },
     "execution_count": 9,
     "metadata": {},
     "output_type": "execute_result"
    },
    {
     "data": {
      "image/png": "[encoded data removed]",
      "text/plain": [
       "<Figure size 432x288 with 1 Axes>"
      ]
     },
     "metadata": {
      "needs_background": "light"
     },
     "output_type": "display_data"
    }
   ],
   "source": [
    "image_index = 7776 # You may select anything up to 60,000\n",
    "print(train_labels[image_index]) \n",
    "plt.imshow(train_images[image_index], cmap='Greys')"
   ]
  },
  {
   "cell_type": "markdown",
   "id": "a8d2388d",
   "metadata": {
    "papermill": {
     "duration": 0.036372,
     "end_time": "2021-10-31T20:07:39.956090",
     "exception": false,
     "start_time": "2021-10-31T20:07:39.919718",
     "status": "completed"
    },
    "tags": []
   },
   "source": [
    "## Filter data to get 3 and 8 out"
   ]
  },
  {
   "cell_type": "code",
   "execution_count": 10,
   "id": "776f7fc7",
   "metadata": {
    "execution": {
     "iopub.execute_input": "2021-10-31T20:07:40.033156Z",
     "iopub.status.busy": "2021-10-31T20:07:40.032480Z",
     "iopub.status.idle": "2021-10-31T20:07:40.050936Z",
     "shell.execute_reply": "2021-10-31T20:07:40.050359Z"
    },
    "papermill": {
     "duration": 0.062238,
     "end_time": "2021-10-31T20:07:40.051089",
     "exception": false,
     "start_time": "2021-10-31T20:07:39.988851",
     "status": "completed"
    },
    "tags": []
   },
   "outputs": [],
   "source": [
    "train_filter = np.where((train_labels == 3 ) | (train_labels == 8))\n",
    "test_filter = np.where((test_labels == 3) | (test_labels == 8))\n",
    "X_train, y_train = train_images[train_filter], train_labels[train_filter]\n",
    "X_test, y_test = test_images[test_filter], test_labels[test_filter]"
   ]
  },
  {
   "cell_type": "markdown",
   "id": "948f0b7e",
   "metadata": {
    "papermill": {
     "duration": 0.034836,
     "end_time": "2021-10-31T20:07:40.121349",
     "exception": false,
     "start_time": "2021-10-31T20:07:40.086513",
     "status": "completed"
    },
    "tags": []
   },
   "source": [
    "We normalize the pizel values in the 0 to 1 range"
   ]
  },
  {
   "cell_type": "code",
   "execution_count": 11,
   "id": "ee4c2166",
   "metadata": {
    "execution": {
     "iopub.execute_input": "2021-10-31T20:07:40.195570Z",
     "iopub.status.busy": "2021-10-31T20:07:40.194478Z",
     "iopub.status.idle": "2021-10-31T20:07:40.261140Z",
     "shell.execute_reply": "2021-10-31T20:07:40.261680Z"
    },
    "papermill": {
     "duration": 0.105477,
     "end_time": "2021-10-31T20:07:40.261899",
     "exception": false,
     "start_time": "2021-10-31T20:07:40.156422",
     "status": "completed"
    },
    "tags": []
   },
   "outputs": [],
   "source": [
    "X_train = X_train/255.\n",
    "X_test = X_test/255."
   ]
  },
  {
   "cell_type": "markdown",
   "id": "ddcf4fab",
   "metadata": {
    "papermill": {
     "duration": 0.034943,
     "end_time": "2021-10-31T20:07:40.331149",
     "exception": false,
     "start_time": "2021-10-31T20:07:40.296206",
     "status": "completed"
    },
    "tags": []
   },
   "source": [
    "And setup the labels as 1 (when the digit is 3) and 0 (when the digit is 8)"
   ]
  },
  {
   "cell_type": "code",
   "execution_count": 12,
   "id": "7dc908f2",
   "metadata": {
    "execution": {
     "iopub.execute_input": "2021-10-31T20:07:40.407914Z",
     "iopub.status.busy": "2021-10-31T20:07:40.407141Z",
     "iopub.status.idle": "2021-10-31T20:07:40.419643Z",
     "shell.execute_reply": "2021-10-31T20:07:40.420288Z"
    },
    "papermill": {
     "duration": 0.054887,
     "end_time": "2021-10-31T20:07:40.420462",
     "exception": false,
     "start_time": "2021-10-31T20:07:40.365575",
     "status": "completed"
    },
    "tags": []
   },
   "outputs": [],
   "source": [
    "y_train = 1*(y_train==3)\n",
    "y_test = 1*(y_test==3)"
   ]
  },
  {
   "cell_type": "code",
   "execution_count": 13,
   "id": "01e4e969",
   "metadata": {
    "execution": {
     "iopub.execute_input": "2021-10-31T20:07:40.496064Z",
     "iopub.status.busy": "2021-10-31T20:07:40.495290Z",
     "iopub.status.idle": "2021-10-31T20:07:40.508704Z",
     "shell.execute_reply": "2021-10-31T20:07:40.508032Z"
    },
    "papermill": {
     "duration": 0.053367,
     "end_time": "2021-10-31T20:07:40.508851",
     "exception": false,
     "start_time": "2021-10-31T20:07:40.455484",
     "status": "completed"
    },
    "tags": []
   },
   "outputs": [
    {
     "data": {
      "text/plain": [
       "((11982, 28, 28), (1984, 28, 28))"
      ]
     },
     "execution_count": 13,
     "metadata": {},
     "output_type": "execute_result"
    }
   ],
   "source": [
    "X_train.shape, X_test.shape"
   ]
  },
  {
   "cell_type": "markdown",
   "id": "5ccf3f85",
   "metadata": {
    "papermill": {
     "duration": 0.038153,
     "end_time": "2021-10-31T20:07:40.583919",
     "exception": false,
     "start_time": "2021-10-31T20:07:40.545766",
     "status": "completed"
    },
    "tags": []
   },
   "source": [
    "We reshape the data to flatten the image pixels into a set of features or co-variates:"
   ]
  },
  {
   "cell_type": "code",
   "execution_count": 14,
   "id": "5286a4a3",
   "metadata": {
    "execution": {
     "iopub.execute_input": "2021-10-31T20:07:40.659093Z",
     "iopub.status.busy": "2021-10-31T20:07:40.658439Z",
     "iopub.status.idle": "2021-10-31T20:07:40.673616Z",
     "shell.execute_reply": "2021-10-31T20:07:40.673006Z"
    },
    "papermill": {
     "duration": 0.05603,
     "end_time": "2021-10-31T20:07:40.673779",
     "exception": false,
     "start_time": "2021-10-31T20:07:40.617749",
     "status": "completed"
    },
    "tags": []
   },
   "outputs": [
    {
     "data": {
      "text/plain": [
       "((11982, 784), (1984, 784))"
      ]
     },
     "execution_count": 14,
     "metadata": {},
     "output_type": "execute_result"
    }
   ],
   "source": [
    "X_train = X_train.reshape(X_train.shape[0], -1)\n",
    "X_test = X_test.reshape(X_test.shape[0], -1)\n",
    "X_train.shape, X_test.shape"
   ]
  },
  {
   "cell_type": "code",
   "execution_count": 15,
   "id": "73c5f88a",
   "metadata": {
    "execution": {
     "iopub.execute_input": "2021-10-31T20:07:40.752117Z",
     "iopub.status.busy": "2021-10-31T20:07:40.751424Z",
     "iopub.status.idle": "2021-10-31T20:07:40.771888Z",
     "shell.execute_reply": "2021-10-31T20:07:40.772454Z"
    },
    "papermill": {
     "duration": 0.0608,
     "end_time": "2021-10-31T20:07:40.772599",
     "exception": false,
     "start_time": "2021-10-31T20:07:40.711799",
     "status": "completed"
    },
    "tags": []
   },
   "outputs": [],
   "source": [
    "#Impoting functions from 'Kudzu'\n",
    "from kudzu.model import Model\n",
    "from kudzu.train import Learner\n",
    "from kudzu.optim import GD\n",
    "from kudzu.data import Data, Sampler,Dataloader\n",
    "\n",
    "from kudzu.callbacks import AccCallback\n",
    "from kudzu.callbacks import ClfCallback\n",
    "\n",
    "from kudzu.loss import MSE\n",
    "\n",
    "from kudzu.layer import Sigmoid,Relu\n",
    "from kudzu.layer import Affine"
   ]
  },
  {
   "cell_type": "markdown",
   "id": "bc01172a",
   "metadata": {
    "papermill": {
     "duration": 0.032133,
     "end_time": "2021-10-31T20:07:40.840146",
     "exception": false,
     "start_time": "2021-10-31T20:07:40.808013",
     "status": "completed"
    },
    "tags": []
   },
   "source": [
    "### Let us create a `Config` class, to store important parameters. \n",
    "This class essentially plays the role of a dictionary."
   ]
  },
  {
   "cell_type": "code",
   "execution_count": 16,
   "id": "978281aa",
   "metadata": {
    "execution": {
     "iopub.execute_input": "2021-10-31T20:07:40.918306Z",
     "iopub.status.busy": "2021-10-31T20:07:40.917682Z",
     "iopub.status.idle": "2021-10-31T20:07:40.927789Z",
     "shell.execute_reply": "2021-10-31T20:07:40.928534Z"
    },
    "papermill": {
     "duration": 0.054963,
     "end_time": "2021-10-31T20:07:40.928676",
     "exception": false,
     "start_time": "2021-10-31T20:07:40.873713",
     "status": "completed"
    },
    "tags": []
   },
   "outputs": [],
   "source": [
    "class Config:\n",
    "    pass\n",
    "config = Config()\n",
    "config.lr = 0.001\n",
    "config.num_epochs = 250\n",
    "config.bs = 50"
   ]
  },
  {
   "cell_type": "markdown",
   "id": "1385fa59",
   "metadata": {
    "papermill": {
     "duration": 0.035224,
     "end_time": "2021-10-31T20:07:40.999478",
     "exception": false,
     "start_time": "2021-10-31T20:07:40.964254",
     "status": "completed"
    },
    "tags": []
   },
   "source": [
    "### Running Models with the Training data\n",
    "Details about the network layers:\n",
    "- A first affine layer has 784 inputs and does 100 affine transforms. These are followed by a Relu\n",
    "- A second affine layer has 100 inputs from the 100 activations of the past layer, and does 100 affine transforms. These are followed by a Relu\n",
    "- A third affine layer has 100 activations and does 2 affine transformations to create an embedding for visualization. There is no non-linearity here.\n",
    "- A final \"logistic regression\" which has an affine transform from 2 inputs to 1 output, which is squeezed through a sigmoid.\n"
   ]
  },
  {
   "cell_type": "code",
   "execution_count": 17,
   "id": "2b9c66db",
   "metadata": {
    "execution": {
     "iopub.execute_input": "2021-10-31T20:07:41.073895Z",
     "iopub.status.busy": "2021-10-31T20:07:41.073177Z",
     "iopub.status.idle": "2021-10-31T20:07:41.086483Z",
     "shell.execute_reply": "2021-10-31T20:07:41.087011Z"
    },
    "papermill": {
     "duration": 0.053234,
     "end_time": "2021-10-31T20:07:41.087177",
     "exception": false,
     "start_time": "2021-10-31T20:07:41.033943",
     "status": "completed"
    },
    "tags": []
   },
   "outputs": [],
   "source": [
    "data = Data(X_train, y_train.reshape(-1,1))\n",
    "sampler = Sampler(data, config.bs, shuffle=True)\n",
    "\n",
    "dl = Dataloader(data, sampler)\n",
    "\n",
    "opt = GD(config.lr)\n",
    "loss = MSE()"
   ]
  },
  {
   "cell_type": "code",
   "execution_count": 18,
   "id": "b275e4c2",
   "metadata": {
    "execution": {
     "iopub.execute_input": "2021-10-31T20:07:41.161307Z",
     "iopub.status.busy": "2021-10-31T20:07:41.160696Z",
     "iopub.status.idle": "2021-10-31T20:07:41.172612Z",
     "shell.execute_reply": "2021-10-31T20:07:41.173095Z"
    },
    "papermill": {
     "duration": 0.051782,
     "end_time": "2021-10-31T20:07:41.173227",
     "exception": false,
     "start_time": "2021-10-31T20:07:41.121445",
     "status": "completed"
    },
    "tags": []
   },
   "outputs": [],
   "source": [
    "training_data_x = X_train\n",
    "testing_data_x = X_test\n",
    "training_data_y = y_train.reshape(-1,1)\n",
    "testing_data_y = y_test.reshape(-1,1)"
   ]
  },
  {
   "cell_type": "code",
   "execution_count": 19,
   "id": "76951160",
   "metadata": {
    "execution": {
     "iopub.execute_input": "2021-10-31T20:07:41.246418Z",
     "iopub.status.busy": "2021-10-31T20:07:41.245678Z",
     "iopub.status.idle": "2021-10-31T20:07:41.263754Z",
     "shell.execute_reply": "2021-10-31T20:07:41.263256Z"
    },
    "papermill": {
     "duration": 0.056785,
     "end_time": "2021-10-31T20:07:41.263870",
     "exception": false,
     "start_time": "2021-10-31T20:07:41.207085",
     "status": "completed"
    },
    "tags": []
   },
   "outputs": [
    {
     "name": "stdout",
     "output_type": "stream",
     "text": [
      "xavier\n",
      "xavier\n",
      "xavier\n",
      "xavier\n",
      "xavier\n"
     ]
    }
   ],
   "source": [
    "layers = [Affine(\"first\", 784, 100), Relu(\"first\"), Affine(\"second\", 100, 100), Relu(\"second\"), Affine(\"third\", 100, 2), Affine(\"last\", 2, 1), Sigmoid(\"last\")]\n",
    "model_nn = Model(layers)\n",
    "model_lr = Model([Affine(\"logits\", 784, 1), Sigmoid(\"sigmoid\")])"
   ]
  },
  {
   "cell_type": "code",
   "execution_count": 20,
   "id": "6eede77a",
   "metadata": {
    "execution": {
     "iopub.execute_input": "2021-10-31T20:07:41.336894Z",
     "iopub.status.busy": "2021-10-31T20:07:41.336309Z",
     "iopub.status.idle": "2021-10-31T20:07:41.348100Z",
     "shell.execute_reply": "2021-10-31T20:07:41.348737Z"
    },
    "papermill": {
     "duration": 0.049805,
     "end_time": "2021-10-31T20:07:41.348888",
     "exception": false,
     "start_time": "2021-10-31T20:07:41.299083",
     "status": "completed"
    },
    "tags": []
   },
   "outputs": [],
   "source": [
    "nn_learner = Learner(loss, model_nn, opt, config.num_epochs)\n",
    "acc_nn = ClfCallback(nn_learner, config.bs, training_data_x , testing_data_x, training_data_y, testing_data_y)\n",
    "nn_learner.set_callbacks([acc_nn])"
   ]
  },
  {
   "cell_type": "code",
   "execution_count": 21,
   "id": "877b6cc7",
   "metadata": {
    "execution": {
     "iopub.execute_input": "2021-10-31T20:07:41.418931Z",
     "iopub.status.busy": "2021-10-31T20:07:41.418225Z",
     "iopub.status.idle": "2021-10-31T20:07:41.431097Z",
     "shell.execute_reply": "2021-10-31T20:07:41.430597Z"
    },
    "papermill": {
     "duration": 0.0481,
     "end_time": "2021-10-31T20:07:41.431214",
     "exception": false,
     "start_time": "2021-10-31T20:07:41.383114",
     "status": "completed"
    },
    "tags": []
   },
   "outputs": [],
   "source": [
    "lr_learner = Learner(loss, model_lr, opt, config.num_epochs)\n",
    "acc_lr = ClfCallback(lr_learner, config.bs, training_data_x , testing_data_x, training_data_y, testing_data_y)\n",
    "lr_learner.set_callbacks([acc_lr])"
   ]
  },
  {
   "cell_type": "code",
   "execution_count": 22,
   "id": "d9b133c3",
   "metadata": {
    "execution": {
     "iopub.execute_input": "2021-10-31T20:07:41.507975Z",
     "iopub.status.busy": "2021-10-31T20:07:41.507210Z",
     "iopub.status.idle": "2021-10-31T20:09:48.414847Z",
     "shell.execute_reply": "2021-10-31T20:09:48.415611Z"
    },
    "papermill": {
     "duration": 126.947441,
     "end_time": "2021-10-31T20:09:48.415765",
     "exception": false,
     "start_time": "2021-10-31T20:07:41.468324",
     "status": "completed"
    },
    "tags": []
   },
   "outputs": [
    {
     "name": "stdout",
     "output_type": "stream",
     "text": [
      "Epoch 0, Loss 0.2499\n",
      "Training Accuracy: 0.5290, Testing Accuracy: 0.5595\n",
      "\n"
     ]
    },
    {
     "name": "stdout",
     "output_type": "stream",
     "text": [
      "Epoch 10, Loss 0.2111\n",
      "Training Accuracy: 0.8737, Testing Accuracy: 0.8851\n",
      "\n"
     ]
    },
    {
     "name": "stdout",
     "output_type": "stream",
     "text": [
      "Epoch 20, Loss 0.1111\n",
      "Training Accuracy: 0.9140, Testing Accuracy: 0.9289\n",
      "\n"
     ]
    },
    {
     "name": "stdout",
     "output_type": "stream",
     "text": [
      "Epoch 30, Loss 0.0644\n",
      "Training Accuracy: 0.9353, Testing Accuracy: 0.9451\n",
      "\n"
     ]
    },
    {
     "name": "stdout",
     "output_type": "stream",
     "text": [
      "Epoch 40, Loss 0.0488\n",
      "Training Accuracy: 0.9467, Testing Accuracy: 0.9561\n",
      "\n"
     ]
    },
    {
     "name": "stdout",
     "output_type": "stream",
     "text": [
      "Epoch 50, Loss 0.0412\n",
      "Training Accuracy: 0.9533, Testing Accuracy: 0.9632\n",
      "\n"
     ]
    },
    {
     "name": "stdout",
     "output_type": "stream",
     "text": [
      "Epoch 60, Loss 0.0367\n",
      "Training Accuracy: 0.9572, Testing Accuracy: 0.9652\n",
      "\n"
     ]
    },
    {
     "name": "stdout",
     "output_type": "stream",
     "text": [
      "Epoch 70, Loss 0.0338\n",
      "Training Accuracy: 0.9617, Testing Accuracy: 0.9682\n",
      "\n"
     ]
    },
    {
     "name": "stdout",
     "output_type": "stream",
     "text": [
      "Epoch 80, Loss 0.0317\n",
      "Training Accuracy: 0.9637, Testing Accuracy: 0.9677\n",
      "\n"
     ]
    },
    {
     "name": "stdout",
     "output_type": "stream",
     "text": [
      "Epoch 90, Loss 0.03\n",
      "Training Accuracy: 0.9652, Testing Accuracy: 0.9677\n",
      "\n"
     ]
    },
    {
     "name": "stdout",
     "output_type": "stream",
     "text": [
      "Epoch 100, Loss 0.0287\n",
      "Training Accuracy: 0.9674, Testing Accuracy: 0.9682\n",
      "\n"
     ]
    },
    {
     "name": "stdout",
     "output_type": "stream",
     "text": [
      "Epoch 110, Loss 0.0276\n",
      "Training Accuracy: 0.9683, Testing Accuracy: 0.9693\n",
      "\n"
     ]
    },
    {
     "name": "stdout",
     "output_type": "stream",
     "text": [
      "Epoch 120, Loss 0.0266\n",
      "Training Accuracy: 0.9695, Testing Accuracy: 0.9703\n",
      "\n"
     ]
    },
    {
     "name": "stdout",
     "output_type": "stream",
     "text": [
      "Epoch 130, Loss 0.0258\n",
      "Training Accuracy: 0.9700, Testing Accuracy: 0.9708\n",
      "\n"
     ]
    },
    {
     "name": "stdout",
     "output_type": "stream",
     "text": [
      "Epoch 140, Loss 0.025\n",
      "Training Accuracy: 0.9712, Testing Accuracy: 0.9718\n",
      "\n"
     ]
    },
    {
     "name": "stdout",
     "output_type": "stream",
     "text": [
      "Epoch 150, Loss 0.0244\n",
      "Training Accuracy: 0.9718, Testing Accuracy: 0.9723\n",
      "\n"
     ]
    },
    {
     "name": "stdout",
     "output_type": "stream",
     "text": [
      "Epoch 160, Loss 0.0237\n",
      "Training Accuracy: 0.9727, Testing Accuracy: 0.9723\n",
      "\n"
     ]
    },
    {
     "name": "stdout",
     "output_type": "stream",
     "text": [
      "Epoch 170, Loss 0.0232\n",
      "Training Accuracy: 0.9736, Testing Accuracy: 0.9718\n",
      "\n"
     ]
    },
    {
     "name": "stdout",
     "output_type": "stream",
     "text": [
      "Epoch 180, Loss 0.0226\n",
      "Training Accuracy: 0.9740, Testing Accuracy: 0.9718\n",
      "\n"
     ]
    },
    {
     "name": "stdout",
     "output_type": "stream",
     "text": [
      "Epoch 190, Loss 0.0221\n",
      "Training Accuracy: 0.9744, Testing Accuracy: 0.9718\n",
      "\n"
     ]
    },
    {
     "name": "stdout",
     "output_type": "stream",
     "text": [
      "Epoch 200, Loss 0.0217\n",
      "Training Accuracy: 0.9750, Testing Accuracy: 0.9708\n",
      "\n"
     ]
    },
    {
     "name": "stdout",
     "output_type": "stream",
     "text": [
      "Epoch 210, Loss 0.0212\n",
      "Training Accuracy: 0.9755, Testing Accuracy: 0.9713\n",
      "\n"
     ]
    },
    {
     "name": "stdout",
     "output_type": "stream",
     "text": [
      "Epoch 220, Loss 0.0208\n",
      "Training Accuracy: 0.9762, Testing Accuracy: 0.9718\n",
      "\n"
     ]
    },
    {
     "name": "stdout",
     "output_type": "stream",
     "text": [
      "Epoch 230, Loss 0.0204\n",
      "Training Accuracy: 0.9767, Testing Accuracy: 0.9713\n",
      "\n"
     ]
    },
    {
     "name": "stdout",
     "output_type": "stream",
     "text": [
      "Epoch 240, Loss 0.02\n",
      "Training Accuracy: 0.9771, Testing Accuracy: 0.9713\n",
      "\n"
     ]
    },
    {
     "data": {
      "text/plain": [
       "0.010267839314559801"
      ]
     },
     "execution_count": 22,
     "metadata": {},
     "output_type": "execute_result"
    }
   ],
   "source": [
    "nn_learner.train_loop(dl)"
   ]
  },
  {
   "cell_type": "code",
   "execution_count": 23,
   "id": "e0163366",
   "metadata": {
    "execution": {
     "iopub.execute_input": "2021-10-31T20:09:48.515916Z",
     "iopub.status.busy": "2021-10-31T20:09:48.515235Z",
     "iopub.status.idle": "2021-10-31T20:10:06.847407Z",
     "shell.execute_reply": "2021-10-31T20:10:06.848140Z"
    },
    "papermill": {
     "duration": 18.385686,
     "end_time": "2021-10-31T20:10:06.848309",
     "exception": false,
     "start_time": "2021-10-31T20:09:48.462623",
     "status": "completed"
    },
    "tags": []
   },
   "outputs": [
    {
     "name": "stdout",
     "output_type": "stream",
     "text": [
      "Epoch 0, Loss 0.2108\n",
      "Training Accuracy: 0.7707, Testing Accuracy: 0.7762\n",
      "\n"
     ]
    },
    {
     "name": "stdout",
     "output_type": "stream",
     "text": [
      "Epoch 10, Loss 0.1012\n",
      "Training Accuracy: 0.9083, Testing Accuracy: 0.9143\n",
      "\n"
     ]
    },
    {
     "name": "stdout",
     "output_type": "stream",
     "text": [
      "Epoch 20, Loss 0.0787\n",
      "Training Accuracy: 0.9268, Testing Accuracy: 0.9390\n",
      "\n"
     ]
    },
    {
     "name": "stdout",
     "output_type": "stream",
     "text": [
      "Epoch 30, Loss 0.0681\n",
      "Training Accuracy: 0.9349, Testing Accuracy: 0.9441\n",
      "\n"
     ]
    },
    {
     "name": "stdout",
     "output_type": "stream",
     "text": [
      "Epoch 40, Loss 0.0617\n",
      "Training Accuracy: 0.9400, Testing Accuracy: 0.9491\n",
      "\n"
     ]
    },
    {
     "name": "stdout",
     "output_type": "stream",
     "text": [
      "Epoch 50, Loss 0.0573\n",
      "Training Accuracy: 0.9433, Testing Accuracy: 0.9526\n",
      "\n"
     ]
    },
    {
     "name": "stdout",
     "output_type": "stream",
     "text": [
      "Epoch 60, Loss 0.054\n",
      "Training Accuracy: 0.9457, Testing Accuracy: 0.9567\n",
      "\n"
     ]
    },
    {
     "name": "stdout",
     "output_type": "stream",
     "text": [
      "Epoch 70, Loss 0.0515\n",
      "Training Accuracy: 0.9476, Testing Accuracy: 0.9587\n",
      "\n"
     ]
    },
    {
     "name": "stdout",
     "output_type": "stream",
     "text": [
      "Epoch 80, Loss 0.0494\n",
      "Training Accuracy: 0.9488, Testing Accuracy: 0.9607\n",
      "\n"
     ]
    },
    {
     "name": "stdout",
     "output_type": "stream",
     "text": [
      "Epoch 90, Loss 0.0477\n",
      "Training Accuracy: 0.9508, Testing Accuracy: 0.9622\n",
      "\n"
     ]
    },
    {
     "name": "stdout",
     "output_type": "stream",
     "text": [
      "Epoch 100, Loss 0.0463\n",
      "Training Accuracy: 0.9525, Testing Accuracy: 0.9627\n",
      "\n"
     ]
    },
    {
     "name": "stdout",
     "output_type": "stream",
     "text": [
      "Epoch 110, Loss 0.0451\n",
      "Training Accuracy: 0.9540, Testing Accuracy: 0.9627\n",
      "\n"
     ]
    },
    {
     "name": "stdout",
     "output_type": "stream",
     "text": [
      "Epoch 120, Loss 0.044\n",
      "Training Accuracy: 0.9547, Testing Accuracy: 0.9642\n",
      "\n"
     ]
    },
    {
     "name": "stdout",
     "output_type": "stream",
     "text": [
      "Epoch 130, Loss 0.0431\n",
      "Training Accuracy: 0.9556, Testing Accuracy: 0.9642\n",
      "\n"
     ]
    },
    {
     "name": "stdout",
     "output_type": "stream",
     "text": [
      "Epoch 140, Loss 0.0422\n",
      "Training Accuracy: 0.9564, Testing Accuracy: 0.9647\n",
      "\n"
     ]
    },
    {
     "name": "stdout",
     "output_type": "stream",
     "text": [
      "Epoch 150, Loss 0.0415\n",
      "Training Accuracy: 0.9567, Testing Accuracy: 0.9647\n",
      "\n"
     ]
    },
    {
     "name": "stdout",
     "output_type": "stream",
     "text": [
      "Epoch 160, Loss 0.0408\n",
      "Training Accuracy: 0.9573, Testing Accuracy: 0.9657\n",
      "\n"
     ]
    },
    {
     "name": "stdout",
     "output_type": "stream",
     "text": [
      "Epoch 170, Loss 0.0402\n",
      "Training Accuracy: 0.9583, Testing Accuracy: 0.9657\n",
      "\n"
     ]
    },
    {
     "name": "stdout",
     "output_type": "stream",
     "text": [
      "Epoch 180, Loss 0.0396\n",
      "Training Accuracy: 0.9589, Testing Accuracy: 0.9657\n",
      "\n"
     ]
    },
    {
     "name": "stdout",
     "output_type": "stream",
     "text": [
      "Epoch 190, Loss 0.0391\n",
      "Training Accuracy: 0.9592, Testing Accuracy: 0.9662\n",
      "\n"
     ]
    },
    {
     "name": "stdout",
     "output_type": "stream",
     "text": [
      "Epoch 200, Loss 0.0386\n",
      "Training Accuracy: 0.9594, Testing Accuracy: 0.9667\n",
      "\n"
     ]
    },
    {
     "name": "stdout",
     "output_type": "stream",
     "text": [
      "Epoch 210, Loss 0.0382\n",
      "Training Accuracy: 0.9598, Testing Accuracy: 0.9667\n",
      "\n"
     ]
    },
    {
     "name": "stdout",
     "output_type": "stream",
     "text": [
      "Epoch 220, Loss 0.0377\n",
      "Training Accuracy: 0.9599, Testing Accuracy: 0.9672\n",
      "\n"
     ]
    },
    {
     "name": "stdout",
     "output_type": "stream",
     "text": [
      "Epoch 230, Loss 0.0373\n",
      "Training Accuracy: 0.9601, Testing Accuracy: 0.9677\n",
      "\n"
     ]
    },
    {
     "name": "stdout",
     "output_type": "stream",
     "text": [
      "Epoch 240, Loss 0.037\n",
      "Training Accuracy: 0.9604, Testing Accuracy: 0.9677\n",
      "\n"
     ]
    },
    {
     "data": {
      "text/plain": [
       "0.03491819935155571"
      ]
     },
     "execution_count": 23,
     "metadata": {},
     "output_type": "execute_result"
    }
   ],
   "source": [
    "lr_learner.train_loop(dl)"
   ]
  },
  {
   "cell_type": "code",
   "execution_count": 24,
   "id": "ca410940",
   "metadata": {
    "execution": {
     "iopub.execute_input": "2021-10-31T20:10:06.967282Z",
     "iopub.status.busy": "2021-10-31T20:10:06.966516Z",
     "iopub.status.idle": "2021-10-31T20:10:07.259220Z",
     "shell.execute_reply": "2021-10-31T20:10:07.258295Z"
    },
    "papermill": {
     "duration": 0.35799,
     "end_time": "2021-10-31T20:10:07.259366",
     "exception": false,
     "start_time": "2021-10-31T20:10:06.901376",
     "status": "completed"
    },
    "tags": []
   },
   "outputs": [
    {
     "data": {
      "text/plain": [
       "<matplotlib.legend.Legend at 0x7f48da604780>"
      ]
     },
     "execution_count": 24,
     "metadata": {},
     "output_type": "execute_result"
    },
    {
     "data": {
      "image/png": "[encoded data removed]",
      "text/plain": [
       "<Figure size 1080x720 with 1 Axes>"
      ]
     },
     "metadata": {
      "needs_background": "light"
     },
     "output_type": "display_data"
    }
   ],
   "source": [
    "#comparing the results of NN and LR\n",
    "plt.figure(figsize=(15,10))\n",
    "\n",
    "# Neural Network plots\n",
    "plt.plot(acc_nn.accuracies, 'r-', label = \"Training Accuracies - NN\")\n",
    "plt.plot(acc_nn.test_accuracies, 'g-', label = \"Testing Accuracies - NN\")\n",
    "\n",
    "# Logistic Regression plots\n",
    "plt.plot(acc_lr.accuracies, 'k-', label = \"Training Accuracies - LR\")\n",
    "plt.plot(acc_lr.test_accuracies, 'b-', label = \"Testing Accuracies - LR\")\n",
    "plt.legend()"
   ]
  },
  {
   "cell_type": "markdown",
   "id": "80dfb35c",
   "metadata": {
    "papermill": {
     "duration": 0.054149,
     "end_time": "2021-10-31T20:10:07.367632",
     "exception": false,
     "start_time": "2021-10-31T20:10:07.313483",
     "status": "completed"
    },
    "tags": []
   },
   "source": [
    "#### Plotting the outputs of this layer of the NN.\n"
   ]
  },
  {
   "cell_type": "code",
   "execution_count": 25,
   "id": "45eb2ff5",
   "metadata": {
    "execution": {
     "iopub.execute_input": "2021-10-31T20:10:07.483564Z",
     "iopub.status.busy": "2021-10-31T20:10:07.482829Z",
     "iopub.status.idle": "2021-10-31T20:10:07.510067Z",
     "shell.execute_reply": "2021-10-31T20:10:07.510883Z"
    },
    "papermill": {
     "duration": 0.087967,
     "end_time": "2021-10-31T20:10:07.511043",
     "exception": false,
     "start_time": "2021-10-31T20:10:07.423076",
     "status": "completed"
    },
    "tags": []
   },
   "outputs": [],
   "source": [
    "new_model = Model(layers[:-2])\n",
    "testing_plot = new_model(testing_data_x)"
   ]
  },
  {
   "cell_type": "code",
   "execution_count": 26,
   "id": "4c0a5485",
   "metadata": {
    "execution": {
     "iopub.execute_input": "2021-10-31T20:10:07.643221Z",
     "iopub.status.busy": "2021-10-31T20:10:07.642559Z",
     "iopub.status.idle": "2021-10-31T20:10:07.890683Z",
     "shell.execute_reply": "2021-10-31T20:10:07.891234Z"
    },
    "papermill": {
     "duration": 0.316483,
     "end_time": "2021-10-31T20:10:07.891399",
     "exception": false,
     "start_time": "2021-10-31T20:10:07.574916",
     "status": "completed"
    },
    "tags": []
   },
   "outputs": [
    {
     "data": {
      "text/plain": [
       "Text(0.5, 1.0, 'Outputs')"
      ]
     },
     "execution_count": 26,
     "metadata": {},
     "output_type": "execute_result"
    },
    {
     "data": {
      "image/png": "[encoded data removed]",
      "text/plain": [
       "<Figure size 576x504 with 1 Axes>"
      ]
     },
     "metadata": {
      "needs_background": "light"
     },
     "output_type": "display_data"
    }
   ],
   "source": [
    "# Plotting the scatter plot of points and color coding by class\n",
    "plt.figure(figsize=(8,7))\n",
    "plt.scatter(testing_plot[:,0], testing_plot[:,1], alpha = 0.1, c = y_test.ravel());\n",
    "plt.title('Outputs')"
   ]
  },
  {
   "cell_type": "markdown",
   "id": "a74fcf8f",
   "metadata": {
    "papermill": {
     "duration": 0.059736,
     "end_time": "2021-10-31T20:10:08.006150",
     "exception": false,
     "start_time": "2021-10-31T20:10:07.946414",
     "status": "completed"
    },
    "tags": []
   },
   "source": [
    "Probability contours"
   ]
  },
  {
   "cell_type": "code",
   "execution_count": 27,
   "id": "d0afc8e3",
   "metadata": {
    "execution": {
     "iopub.execute_input": "2021-10-31T20:10:08.157169Z",
     "iopub.status.busy": "2021-10-31T20:10:08.156409Z",
     "iopub.status.idle": "2021-10-31T20:10:08.169969Z",
     "shell.execute_reply": "2021-10-31T20:10:08.170582Z"
    },
    "papermill": {
     "duration": 0.103589,
     "end_time": "2021-10-31T20:10:08.170721",
     "exception": false,
     "start_time": "2021-10-31T20:10:08.067132",
     "status": "completed"
    },
    "tags": []
   },
   "outputs": [],
   "source": [
    "model_prob = Model(layers[-2:]) "
   ]
  },
  {
   "cell_type": "code",
   "execution_count": 28,
   "id": "9b96e238",
   "metadata": {
    "execution": {
     "iopub.execute_input": "2021-10-31T20:10:08.286902Z",
     "iopub.status.busy": "2021-10-31T20:10:08.286161Z",
     "iopub.status.idle": "2021-10-31T20:10:08.301327Z",
     "shell.execute_reply": "2021-10-31T20:10:08.301903Z"
    },
    "papermill": {
     "duration": 0.077477,
     "end_time": "2021-10-31T20:10:08.302057",
     "exception": false,
     "start_time": "2021-10-31T20:10:08.224580",
     "status": "completed"
    },
    "tags": []
   },
   "outputs": [],
   "source": [
    "#creating the x and y ranges according to the above generated plot.\n",
    "x_range = np.linspace(-4, 1, 100) \n",
    "y_range = np.linspace(-6, 6, 100) \n",
    "x_grid, y_grid = np.meshgrid(x_range, y_range) # x_grid and y_grig are of size 100 X 100\n",
    "\n",
    "# converting x_grid and y_grid to continuous arrays\n",
    "x_gridflat = np.ravel(x_grid)\n",
    "y_gridflat = np.ravel(y_grid)\n",
    "\n",
    "# The last layer of the current model takes two columns as input. Hence transpose of np.vstack() is required.\n",
    "X = np.vstack((x_gridflat, y_gridflat)).T\n",
    "\n",
    "prob_contour = model_prob(X).reshape(100,100) "
   ]
  },
  {
   "cell_type": "code",
   "execution_count": 29,
   "id": "da72499a",
   "metadata": {
    "execution": {
     "iopub.execute_input": "2021-10-31T20:10:08.435158Z",
     "iopub.status.busy": "2021-10-31T20:10:08.431063Z",
     "iopub.status.idle": "2021-10-31T20:10:08.754414Z",
     "shell.execute_reply": "2021-10-31T20:10:08.754960Z"
    },
    "papermill": {
     "duration": 0.392364,
     "end_time": "2021-10-31T20:10:08.755128",
     "exception": false,
     "start_time": "2021-10-31T20:10:08.362764",
     "status": "completed"
    },
    "tags": []
   },
   "outputs": [
    {
     "data": {
      "image/png": "[encoded data removed]",
      "text/plain": [
       "<Figure size 720x648 with 1 Axes>"
      ]
     },
     "metadata": {
      "needs_background": "light"
     },
     "output_type": "display_data"
    }
   ],
   "source": [
    "plt.figure(figsize=(10,9))\n",
    "plt.scatter(testing_plot[:,0], testing_plot[:,1], alpha = 0.1, c = y_test.ravel())\n",
    "contours = plt.contour(x_grid,y_grid,prob_contour)\n",
    "plt.title('Probability Contours')\n",
    "plt.clabel(contours, inline = True );"
   ]
  },
  {
   "cell_type": "code",
   "execution_count": null,
   "id": "e81b4ac7",
   "metadata": {
    "papermill": {
     "duration": 0.061053,
     "end_time": "2021-10-31T20:10:08.877902",
     "exception": false,
     "start_time": "2021-10-31T20:10:08.816849",
     "status": "completed"
    },
    "tags": []
   },
   "outputs": [],
   "source": []
  }
 ],
 "metadata": {
  "kernelspec": {
   "display_name": "Python 3",
   "language": "python",
   "name": "python3"
  },
  "language_info": {
   "codemirror_mode": {
    "name": "ipython",
    "version": 3
   },
   "file_extension": ".py",
   "mimetype": "text/x-python",
   "name": "python",
   "nbconvert_exporter": "python",
   "pygments_lexer": "ipython3",
   "version": "3.6.15"
  },
  "papermill": {
   "default_parameters": {},
   "duration": 154.993559,
   "end_time": "2021-10-31T20:10:09.347491",
   "environment_variables": {},
   "exception": null,
   "input_path": "2020-08-11-part2.ipynb",
   "output_path": "2020-08-11-part2.ipynb",
   "parameters": {},
   "start_time": "2021-10-31T20:07:34.353932",
   "version": "2.3.3"
  }
 },
 "nbformat": 4,
 "nbformat_minor": 5
}