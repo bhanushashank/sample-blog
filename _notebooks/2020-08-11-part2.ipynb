{
 "cells": [
  {
   "cell_type": "markdown",
   "id": "98380cd3",
   "metadata": {
    "papermill": {
     "duration": 0.034281,
     "end_time": "2022-06-09T20:10:55.349896",
     "exception": false,
     "start_time": "2022-06-09T20:10:55.315615",
     "status": "completed"
    },
    "tags": []
   },
   "source": [
    "# Distinguish Your Own Digits (DYOD)"
   ]
  },
  {
   "cell_type": "markdown",
   "id": "ef31240d",
   "metadata": {
    "papermill": {
     "duration": 0.027124,
     "end_time": "2022-06-09T20:10:55.404574",
     "exception": false,
     "start_time": "2022-06-09T20:10:55.377450",
     "status": "completed"
    },
    "tags": []
   },
   "source": [
    "You are going to write a classifier that distinguishes between the number 3 and number 8."
   ]
  },
  {
   "cell_type": "code",
   "execution_count": 1,
   "id": "b15c8646",
   "metadata": {
    "execution": {
     "iopub.execute_input": "2022-06-09T20:10:55.472775Z",
     "iopub.status.busy": "2022-06-09T20:10:55.468824Z",
     "iopub.status.idle": "2022-06-09T20:10:55.485154Z",
     "shell.execute_reply": "2022-06-09T20:10:55.484431Z"
    },
    "papermill": {
     "duration": 0.052542,
     "end_time": "2022-06-09T20:10:55.485308",
     "exception": false,
     "start_time": "2022-06-09T20:10:55.432766",
     "status": "completed"
    },
    "tags": []
   },
   "outputs": [],
   "source": [
    "%load_ext autoreload\n",
    "%autoreload 2"
   ]
  },
  {
   "cell_type": "code",
   "execution_count": 2,
   "id": "22ef38dc",
   "metadata": {
    "execution": {
     "iopub.execute_input": "2022-06-09T20:10:55.548031Z",
     "iopub.status.busy": "2022-06-09T20:10:55.547323Z",
     "iopub.status.idle": "2022-06-09T20:10:56.147555Z",
     "shell.execute_reply": "2022-06-09T20:10:56.146028Z"
    },
    "papermill": {
     "duration": 0.634195,
     "end_time": "2022-06-09T20:10:56.147815",
     "exception": false,
     "start_time": "2022-06-09T20:10:55.513620",
     "status": "completed"
    },
    "tags": []
   },
   "outputs": [],
   "source": [
    "%matplotlib inline\n",
    "import numpy as np\n",
    "import matplotlib.pyplot as plt\n",
    "import pandas as pd"
   ]
  },
  {
   "cell_type": "markdown",
   "id": "ba036198",
   "metadata": {
    "papermill": {
     "duration": 0.027641,
     "end_time": "2022-06-09T20:10:56.204838",
     "exception": false,
     "start_time": "2022-06-09T20:10:56.177197",
     "status": "completed"
    },
    "tags": []
   },
   "source": [
    "From the command line run `pip install mnist`. This is a library that will help you bring down the mnist dataset. If you run this from a notebook, you need to put  `!pip install mnist` in a cell by itself."
   ]
  },
  {
   "cell_type": "code",
   "execution_count": 3,
   "id": "bb6ad8a1",
   "metadata": {
    "execution": {
     "iopub.execute_input": "2022-06-09T20:10:56.263331Z",
     "iopub.status.busy": "2022-06-09T20:10:56.262643Z",
     "iopub.status.idle": "2022-06-09T20:10:58.907076Z",
     "shell.execute_reply": "2022-06-09T20:10:58.906433Z"
    },
    "papermill": {
     "duration": 2.675481,
     "end_time": "2022-06-09T20:10:58.907219",
     "exception": false,
     "start_time": "2022-06-09T20:10:56.231738",
     "status": "completed"
    },
    "tags": []
   },
   "outputs": [
    {
     "name": "stdout",
     "output_type": "stream",
     "text": [
      "Collecting mnist\r\n"
     ]
    },
    {
     "name": "stdout",
     "output_type": "stream",
     "text": [
      "  Downloading mnist-0.2.2-py2.py3-none-any.whl (3.5 kB)\r\n",
      "Requirement already satisfied: numpy in /opt/hostedtoolcache/Python/3.6.15/x64/lib/python3.6/site-packages (from mnist) (1.19.5)\r\n"
     ]
    },
    {
     "name": "stdout",
     "output_type": "stream",
     "text": [
      "Installing collected packages: mnist\r\n"
     ]
    },
    {
     "name": "stdout",
     "output_type": "stream",
     "text": [
      "Successfully installed mnist-0.2.2\r\n"
     ]
    }
   ],
   "source": [
    "!pip install mnist"
   ]
  },
  {
   "cell_type": "markdown",
   "id": "69df9c9a",
   "metadata": {
    "papermill": {
     "duration": 0.028304,
     "end_time": "2022-06-09T20:10:58.966490",
     "exception": false,
     "start_time": "2022-06-09T20:10:58.938186",
     "status": "completed"
    },
    "tags": []
   },
   "source": [
    "## Preparing the Data"
   ]
  },
  {
   "cell_type": "code",
   "execution_count": 4,
   "id": "7f69d806",
   "metadata": {
    "execution": {
     "iopub.execute_input": "2022-06-09T20:10:59.035394Z",
     "iopub.status.busy": "2022-06-09T20:10:59.026987Z",
     "iopub.status.idle": "2022-06-09T20:10:59.045896Z",
     "shell.execute_reply": "2022-06-09T20:10:59.045321Z"
    },
    "papermill": {
     "duration": 0.051373,
     "end_time": "2022-06-09T20:10:59.046027",
     "exception": false,
     "start_time": "2022-06-09T20:10:58.994654",
     "status": "completed"
    },
    "tags": []
   },
   "outputs": [],
   "source": [
    "import mnist"
   ]
  },
  {
   "cell_type": "code",
   "execution_count": 5,
   "id": "a411e44f",
   "metadata": {
    "execution": {
     "iopub.execute_input": "2022-06-09T20:10:59.106810Z",
     "iopub.status.busy": "2022-06-09T20:10:59.106081Z",
     "iopub.status.idle": "2022-06-09T20:10:59.706769Z",
     "shell.execute_reply": "2022-06-09T20:10:59.705726Z"
    },
    "papermill": {
     "duration": 0.632724,
     "end_time": "2022-06-09T20:10:59.707003",
     "exception": false,
     "start_time": "2022-06-09T20:10:59.074279",
     "status": "completed"
    },
    "tags": []
   },
   "outputs": [],
   "source": [
    "train_images = mnist.train_images()\n",
    "train_labels = mnist.train_labels()"
   ]
  },
  {
   "cell_type": "code",
   "execution_count": 6,
   "id": "dceab3a5",
   "metadata": {
    "execution": {
     "iopub.execute_input": "2022-06-09T20:10:59.771364Z",
     "iopub.status.busy": "2022-06-09T20:10:59.770681Z",
     "iopub.status.idle": "2022-06-09T20:10:59.784991Z",
     "shell.execute_reply": "2022-06-09T20:10:59.785622Z"
    },
    "papermill": {
     "duration": 0.051376,
     "end_time": "2022-06-09T20:10:59.785765",
     "exception": false,
     "start_time": "2022-06-09T20:10:59.734389",
     "status": "completed"
    },
    "tags": []
   },
   "outputs": [
    {
     "data": {
      "text/plain": [
       "((60000, 28, 28), (60000,))"
      ]
     },
     "execution_count": 6,
     "metadata": {},
     "output_type": "execute_result"
    }
   ],
   "source": [
    "train_images.shape, train_labels.shape"
   ]
  },
  {
   "cell_type": "code",
   "execution_count": 7,
   "id": "f50dc2bb",
   "metadata": {
    "execution": {
     "iopub.execute_input": "2022-06-09T20:10:59.843484Z",
     "iopub.status.busy": "2022-06-09T20:10:59.842932Z",
     "iopub.status.idle": "2022-06-09T20:11:00.045753Z",
     "shell.execute_reply": "2022-06-09T20:11:00.045144Z"
    },
    "papermill": {
     "duration": 0.23371,
     "end_time": "2022-06-09T20:11:00.045899",
     "exception": false,
     "start_time": "2022-06-09T20:10:59.812189",
     "status": "completed"
    },
    "tags": []
   },
   "outputs": [],
   "source": [
    "test_images = mnist.test_images()\n",
    "test_labels = mnist.test_labels()"
   ]
  },
  {
   "cell_type": "code",
   "execution_count": 8,
   "id": "fc38cf1b",
   "metadata": {
    "execution": {
     "iopub.execute_input": "2022-06-09T20:11:00.107015Z",
     "iopub.status.busy": "2022-06-09T20:11:00.106355Z",
     "iopub.status.idle": "2022-06-09T20:11:00.121423Z",
     "shell.execute_reply": "2022-06-09T20:11:00.120869Z"
    },
    "papermill": {
     "duration": 0.047305,
     "end_time": "2022-06-09T20:11:00.121547",
     "exception": false,
     "start_time": "2022-06-09T20:11:00.074242",
     "status": "completed"
    },
    "tags": []
   },
   "outputs": [
    {
     "data": {
      "text/plain": [
       "((10000, 28, 28), (10000,))"
      ]
     },
     "execution_count": 8,
     "metadata": {},
     "output_type": "execute_result"
    }
   ],
   "source": [
    "test_images.shape, test_labels.shape"
   ]
  },
  {
   "cell_type": "code",
   "execution_count": 9,
   "id": "f9ed8fe0",
   "metadata": {
    "execution": {
     "iopub.execute_input": "2022-06-09T20:11:00.185673Z",
     "iopub.status.busy": "2022-06-09T20:11:00.184991Z",
     "iopub.status.idle": "2022-06-09T20:11:00.329633Z",
     "shell.execute_reply": "2022-06-09T20:11:00.330067Z"
    },
    "papermill": {
     "duration": 0.180472,
     "end_time": "2022-06-09T20:11:00.330229",
     "exception": false,
     "start_time": "2022-06-09T20:11:00.149757",
     "status": "completed"
    },
    "tags": []
   },
   "outputs": [
    {
     "name": "stdout",
     "output_type": "stream",
     "text": [
      "2\n"
     ]
    },
    {
     "data": {
      "text/plain": [
       "<matplotlib.image.AxesImage at 0x7fb6362de400>"
      ]
     },
     "execution_count": 9,
     "metadata": {},
     "output_type": "execute_result"
    },
    {
     "data": {
      "image/png": "[encoded data removed]",
      "text/plain": [
       "<Figure size 432x288 with 1 Axes>"
      ]
     },
     "metadata": {
      "needs_background": "light"
     },
     "output_type": "display_data"
    }
   ],
   "source": [
    "image_index = 7776 # You may select anything up to 60,000\n",
    "print(train_labels[image_index]) \n",
    "plt.imshow(train_images[image_index], cmap='Greys')"
   ]
  },
  {
   "cell_type": "markdown",
   "id": "a8d2388d",
   "metadata": {
    "papermill": {
     "duration": 0.028028,
     "end_time": "2022-06-09T20:11:00.390213",
     "exception": false,
     "start_time": "2022-06-09T20:11:00.362185",
     "status": "completed"
    },
    "tags": []
   },
   "source": [
    "## Filter data to get 3 and 8 out"
   ]
  },
  {
   "cell_type": "code",
   "execution_count": 10,
   "id": "776f7fc7",
   "metadata": {
    "execution": {
     "iopub.execute_input": "2022-06-09T20:11:00.452800Z",
     "iopub.status.busy": "2022-06-09T20:11:00.452098Z",
     "iopub.status.idle": "2022-06-09T20:11:00.471228Z",
     "shell.execute_reply": "2022-06-09T20:11:00.470823Z"
    },
    "papermill": {
     "duration": 0.053103,
     "end_time": "2022-06-09T20:11:00.471323",
     "exception": false,
     "start_time": "2022-06-09T20:11:00.418220",
     "status": "completed"
    },
    "tags": []
   },
   "outputs": [],
   "source": [
    "train_filter = np.where((train_labels == 3 ) | (train_labels == 8))\n",
    "test_filter = np.where((test_labels == 3) | (test_labels == 8))\n",
    "X_train, y_train = train_images[train_filter], train_labels[train_filter]\n",
    "X_test, y_test = test_images[test_filter], test_labels[test_filter]"
   ]
  },
  {
   "cell_type": "markdown",
   "id": "948f0b7e",
   "metadata": {
    "papermill": {
     "duration": 0.026055,
     "end_time": "2022-06-09T20:11:00.522312",
     "exception": false,
     "start_time": "2022-06-09T20:11:00.496257",
     "status": "completed"
    },
    "tags": []
   },
   "source": [
    "We normalize the pizel values in the 0 to 1 range"
   ]
  },
  {
   "cell_type": "code",
   "execution_count": 11,
   "id": "ee4c2166",
   "metadata": {
    "execution": {
     "iopub.execute_input": "2022-06-09T20:11:00.582864Z",
     "iopub.status.busy": "2022-06-09T20:11:00.582191Z",
     "iopub.status.idle": "2022-06-09T20:11:00.635298Z",
     "shell.execute_reply": "2022-06-09T20:11:00.634712Z"
    },
    "papermill": {
     "duration": 0.086331,
     "end_time": "2022-06-09T20:11:00.635424",
     "exception": false,
     "start_time": "2022-06-09T20:11:00.549093",
     "status": "completed"
    },
    "tags": []
   },
   "outputs": [],
   "source": [
    "X_train = X_train/255.\n",
    "X_test = X_test/255."
   ]
  },
  {
   "cell_type": "markdown",
   "id": "ddcf4fab",
   "metadata": {
    "papermill": {
     "duration": 0.028514,
     "end_time": "2022-06-09T20:11:00.692810",
     "exception": false,
     "start_time": "2022-06-09T20:11:00.664296",
     "status": "completed"
    },
    "tags": []
   },
   "source": [
    "And setup the labels as 1 (when the digit is 3) and 0 (when the digit is 8)"
   ]
  },
  {
   "cell_type": "code",
   "execution_count": 12,
   "id": "7dc908f2",
   "metadata": {
    "execution": {
     "iopub.execute_input": "2022-06-09T20:11:00.758360Z",
     "iopub.status.busy": "2022-06-09T20:11:00.757648Z",
     "iopub.status.idle": "2022-06-09T20:11:00.771207Z",
     "shell.execute_reply": "2022-06-09T20:11:00.770531Z"
    },
    "papermill": {
     "duration": 0.048826,
     "end_time": "2022-06-09T20:11:00.771333",
     "exception": false,
     "start_time": "2022-06-09T20:11:00.722507",
     "status": "completed"
    },
    "tags": []
   },
   "outputs": [],
   "source": [
    "y_train = 1*(y_train==3)\n",
    "y_test = 1*(y_test==3)"
   ]
  },
  {
   "cell_type": "code",
   "execution_count": 13,
   "id": "01e4e969",
   "metadata": {
    "execution": {
     "iopub.execute_input": "2022-06-09T20:11:00.832302Z",
     "iopub.status.busy": "2022-06-09T20:11:00.831676Z",
     "iopub.status.idle": "2022-06-09T20:11:00.846581Z",
     "shell.execute_reply": "2022-06-09T20:11:00.845993Z"
    },
    "papermill": {
     "duration": 0.046282,
     "end_time": "2022-06-09T20:11:00.846708",
     "exception": false,
     "start_time": "2022-06-09T20:11:00.800426",
     "status": "completed"
    },
    "tags": []
   },
   "outputs": [
    {
     "data": {
      "text/plain": [
       "((11982, 28, 28), (1984, 28, 28))"
      ]
     },
     "execution_count": 13,
     "metadata": {},
     "output_type": "execute_result"
    }
   ],
   "source": [
    "X_train.shape, X_test.shape"
   ]
  },
  {
   "cell_type": "markdown",
   "id": "5ccf3f85",
   "metadata": {
    "papermill": {
     "duration": 0.029618,
     "end_time": "2022-06-09T20:11:00.905290",
     "exception": false,
     "start_time": "2022-06-09T20:11:00.875672",
     "status": "completed"
    },
    "tags": []
   },
   "source": [
    "We reshape the data to flatten the image pixels into a set of features or co-variates:"
   ]
  },
  {
   "cell_type": "code",
   "execution_count": 14,
   "id": "5286a4a3",
   "metadata": {
    "execution": {
     "iopub.execute_input": "2022-06-09T20:11:00.970522Z",
     "iopub.status.busy": "2022-06-09T20:11:00.969797Z",
     "iopub.status.idle": "2022-06-09T20:11:00.983787Z",
     "shell.execute_reply": "2022-06-09T20:11:00.984241Z"
    },
    "papermill": {
     "duration": 0.050778,
     "end_time": "2022-06-09T20:11:00.984366",
     "exception": false,
     "start_time": "2022-06-09T20:11:00.933588",
     "status": "completed"
    },
    "tags": []
   },
   "outputs": [
    {
     "data": {
      "text/plain": [
       "((11982, 784), (1984, 784))"
      ]
     },
     "execution_count": 14,
     "metadata": {},
     "output_type": "execute_result"
    }
   ],
   "source": [
    "X_train = X_train.reshape(X_train.shape[0], -1)\n",
    "X_test = X_test.reshape(X_test.shape[0], -1)\n",
    "X_train.shape, X_test.shape"
   ]
  },
  {
   "cell_type": "code",
   "execution_count": 15,
   "id": "73c5f88a",
   "metadata": {
    "execution": {
     "iopub.execute_input": "2022-06-09T20:11:01.038057Z",
     "iopub.status.busy": "2022-06-09T20:11:01.037436Z",
     "iopub.status.idle": "2022-06-09T20:11:01.059363Z",
     "shell.execute_reply": "2022-06-09T20:11:01.059985Z"
    },
    "papermill": {
     "duration": 0.051849,
     "end_time": "2022-06-09T20:11:01.060142",
     "exception": false,
     "start_time": "2022-06-09T20:11:01.008293",
     "status": "completed"
    },
    "tags": []
   },
   "outputs": [],
   "source": [
    "#Impoting functions from 'Kudzu'\n",
    "from kudzu.model import Model\n",
    "from kudzu.train import Learner\n",
    "from kudzu.optim import GD\n",
    "from kudzu.data import Data, Sampler,Dataloader\n",
    "\n",
    "from kudzu.callbacks import AccCallback\n",
    "from kudzu.callbacks import ClfCallback\n",
    "\n",
    "from kudzu.loss import MSE\n",
    "\n",
    "from kudzu.layer import Sigmoid,Relu\n",
    "from kudzu.layer import Affine"
   ]
  },
  {
   "cell_type": "markdown",
   "id": "bc01172a",
   "metadata": {
    "papermill": {
     "duration": 0.024407,
     "end_time": "2022-06-09T20:11:01.114213",
     "exception": false,
     "start_time": "2022-06-09T20:11:01.089806",
     "status": "completed"
    },
    "tags": []
   },
   "source": [
    "### Let us create a `Config` class, to store important parameters. \n",
    "This class essentially plays the role of a dictionary."
   ]
  },
  {
   "cell_type": "code",
   "execution_count": 16,
   "id": "978281aa",
   "metadata": {
    "execution": {
     "iopub.execute_input": "2022-06-09T20:11:01.171654Z",
     "iopub.status.busy": "2022-06-09T20:11:01.170971Z",
     "iopub.status.idle": "2022-06-09T20:11:01.184673Z",
     "shell.execute_reply": "2022-06-09T20:11:01.184219Z"
    },
    "papermill": {
     "duration": 0.046022,
     "end_time": "2022-06-09T20:11:01.184772",
     "exception": false,
     "start_time": "2022-06-09T20:11:01.138750",
     "status": "completed"
    },
    "tags": []
   },
   "outputs": [],
   "source": [
    "class Config:\n",
    "    pass\n",
    "config = Config()\n",
    "config.lr = 0.001\n",
    "config.num_epochs = 250\n",
    "config.bs = 50"
   ]
  },
  {
   "cell_type": "markdown",
   "id": "1385fa59",
   "metadata": {
    "papermill": {
     "duration": 0.028281,
     "end_time": "2022-06-09T20:11:01.238901",
     "exception": false,
     "start_time": "2022-06-09T20:11:01.210620",
     "status": "completed"
    },
    "tags": []
   },
   "source": [
    "### Running Models with the Training data\n",
    "Details about the network layers:\n",
    "- A first affine layer has 784 inputs and does 100 affine transforms. These are followed by a Relu\n",
    "- A second affine layer has 100 inputs from the 100 activations of the past layer, and does 100 affine transforms. These are followed by a Relu\n",
    "- A third affine layer has 100 activations and does 2 affine transformations to create an embedding for visualization. There is no non-linearity here.\n",
    "- A final \"logistic regression\" which has an affine transform from 2 inputs to 1 output, which is squeezed through a sigmoid.\n"
   ]
  },
  {
   "cell_type": "code",
   "execution_count": 17,
   "id": "2b9c66db",
   "metadata": {
    "execution": {
     "iopub.execute_input": "2022-06-09T20:11:01.295457Z",
     "iopub.status.busy": "2022-06-09T20:11:01.294789Z",
     "iopub.status.idle": "2022-06-09T20:11:01.308019Z",
     "shell.execute_reply": "2022-06-09T20:11:01.307444Z"
    },
    "papermill": {
     "duration": 0.042184,
     "end_time": "2022-06-09T20:11:01.308130",
     "exception": false,
     "start_time": "2022-06-09T20:11:01.265946",
     "status": "completed"
    },
    "tags": []
   },
   "outputs": [],
   "source": [
    "data = Data(X_train, y_train.reshape(-1,1))\n",
    "sampler = Sampler(data, config.bs, shuffle=True)\n",
    "\n",
    "dl = Dataloader(data, sampler)\n",
    "\n",
    "opt = GD(config.lr)\n",
    "loss = MSE()"
   ]
  },
  {
   "cell_type": "code",
   "execution_count": 18,
   "id": "b275e4c2",
   "metadata": {
    "execution": {
     "iopub.execute_input": "2022-06-09T20:11:01.373119Z",
     "iopub.status.busy": "2022-06-09T20:11:01.372499Z",
     "iopub.status.idle": "2022-06-09T20:11:01.385389Z",
     "shell.execute_reply": "2022-06-09T20:11:01.384892Z"
    },
    "papermill": {
     "duration": 0.047242,
     "end_time": "2022-06-09T20:11:01.385506",
     "exception": false,
     "start_time": "2022-06-09T20:11:01.338264",
     "status": "completed"
    },
    "tags": []
   },
   "outputs": [],
   "source": [
    "training_data_x = X_train\n",
    "testing_data_x = X_test\n",
    "training_data_y = y_train.reshape(-1,1)\n",
    "testing_data_y = y_test.reshape(-1,1)"
   ]
  },
  {
   "cell_type": "code",
   "execution_count": 19,
   "id": "76951160",
   "metadata": {
    "execution": {
     "iopub.execute_input": "2022-06-09T20:11:01.440422Z",
     "iopub.status.busy": "2022-06-09T20:11:01.439786Z",
     "iopub.status.idle": "2022-06-09T20:11:01.456979Z",
     "shell.execute_reply": "2022-06-09T20:11:01.456323Z"
    },
    "papermill": {
     "duration": 0.047738,
     "end_time": "2022-06-09T20:11:01.457091",
     "exception": false,
     "start_time": "2022-06-09T20:11:01.409353",
     "status": "completed"
    },
    "tags": []
   },
   "outputs": [
    {
     "name": "stdout",
     "output_type": "stream",
     "text": [
      "xavier\n",
      "xavier\n",
      "xavier\n",
      "xavier\n",
      "xavier\n"
     ]
    }
   ],
   "source": [
    "layers = [Affine(\"first\", 784, 100), Relu(\"first\"), Affine(\"second\", 100, 100), Relu(\"second\"), Affine(\"third\", 100, 2), Affine(\"last\", 2, 1), Sigmoid(\"last\")]\n",
    "model_nn = Model(layers)\n",
    "model_lr = Model([Affine(\"logits\", 784, 1), Sigmoid(\"sigmoid\")])"
   ]
  },
  {
   "cell_type": "code",
   "execution_count": 20,
   "id": "6eede77a",
   "metadata": {
    "execution": {
     "iopub.execute_input": "2022-06-09T20:11:01.514163Z",
     "iopub.status.busy": "2022-06-09T20:11:01.513476Z",
     "iopub.status.idle": "2022-06-09T20:11:01.528402Z",
     "shell.execute_reply": "2022-06-09T20:11:01.527783Z"
    },
    "papermill": {
     "duration": 0.045244,
     "end_time": "2022-06-09T20:11:01.528513",
     "exception": false,
     "start_time": "2022-06-09T20:11:01.483269",
     "status": "completed"
    },
    "tags": []
   },
   "outputs": [],
   "source": [
    "nn_learner = Learner(loss, model_nn, opt, config.num_epochs)\n",
    "acc_nn = ClfCallback(nn_learner, config.bs, training_data_x , testing_data_x, training_data_y, testing_data_y)\n",
    "nn_learner.set_callbacks([acc_nn])"
   ]
  },
  {
   "cell_type": "code",
   "execution_count": 21,
   "id": "877b6cc7",
   "metadata": {
    "execution": {
     "iopub.execute_input": "2022-06-09T20:11:01.592100Z",
     "iopub.status.busy": "2022-06-09T20:11:01.591431Z",
     "iopub.status.idle": "2022-06-09T20:11:01.603612Z",
     "shell.execute_reply": "2022-06-09T20:11:01.604130Z"
    },
    "papermill": {
     "duration": 0.04806,
     "end_time": "2022-06-09T20:11:01.604266",
     "exception": false,
     "start_time": "2022-06-09T20:11:01.556206",
     "status": "completed"
    },
    "tags": []
   },
   "outputs": [],
   "source": [
    "lr_learner = Learner(loss, model_lr, opt, config.num_epochs)\n",
    "acc_lr = ClfCallback(lr_learner, config.bs, training_data_x , testing_data_x, training_data_y, testing_data_y)\n",
    "lr_learner.set_callbacks([acc_lr])"
   ]
  },
  {
   "cell_type": "code",
   "execution_count": 22,
   "id": "d9b133c3",
   "metadata": {
    "execution": {
     "iopub.execute_input": "2022-06-09T20:11:01.669328Z",
     "iopub.status.busy": "2022-06-09T20:11:01.668656Z",
     "iopub.status.idle": "2022-06-09T20:12:27.739609Z",
     "shell.execute_reply": "2022-06-09T20:12:27.740593Z"
    },
    "papermill": {
     "duration": 86.108772,
     "end_time": "2022-06-09T20:12:27.740763",
     "exception": false,
     "start_time": "2022-06-09T20:11:01.631991",
     "status": "completed"
    },
    "tags": []
   },
   "outputs": [
    {
     "name": "stdout",
     "output_type": "stream",
     "text": [
      "Epoch 0, Loss 0.2523\n",
      "Training Accuracy: 0.5139, Testing Accuracy: 0.5171\n",
      "\n"
     ]
    },
    {
     "name": "stdout",
     "output_type": "stream",
     "text": [
      "Epoch 10, Loss 0.1356\n",
      "Training Accuracy: 0.8958, Testing Accuracy: 0.9108\n",
      "\n"
     ]
    },
    {
     "name": "stdout",
     "output_type": "stream",
     "text": [
      "Epoch 20, Loss 0.0715\n",
      "Training Accuracy: 0.9292, Testing Accuracy: 0.9415\n",
      "\n"
     ]
    },
    {
     "name": "stdout",
     "output_type": "stream",
     "text": [
      "Epoch 30, Loss 0.0514\n",
      "Training Accuracy: 0.9444, Testing Accuracy: 0.9531\n",
      "\n"
     ]
    },
    {
     "name": "stdout",
     "output_type": "stream",
     "text": [
      "Epoch 40, Loss 0.0426\n",
      "Training Accuracy: 0.9547, Testing Accuracy: 0.9617\n",
      "\n"
     ]
    },
    {
     "name": "stdout",
     "output_type": "stream",
     "text": [
      "Epoch 50, Loss 0.0376\n",
      "Training Accuracy: 0.9590, Testing Accuracy: 0.9688\n",
      "\n"
     ]
    },
    {
     "name": "stdout",
     "output_type": "stream",
     "text": [
      "Epoch 60, Loss 0.0344\n",
      "Training Accuracy: 0.9611, Testing Accuracy: 0.9723\n",
      "\n"
     ]
    },
    {
     "name": "stdout",
     "output_type": "stream",
     "text": [
      "Epoch 70, Loss 0.0321\n",
      "Training Accuracy: 0.9634, Testing Accuracy: 0.9733\n",
      "\n"
     ]
    },
    {
     "name": "stdout",
     "output_type": "stream",
     "text": [
      "Epoch 80, Loss 0.0303\n",
      "Training Accuracy: 0.9644, Testing Accuracy: 0.9728\n",
      "\n"
     ]
    },
    {
     "name": "stdout",
     "output_type": "stream",
     "text": [
      "Epoch 90, Loss 0.029\n",
      "Training Accuracy: 0.9662, Testing Accuracy: 0.9723\n",
      "\n"
     ]
    },
    {
     "name": "stdout",
     "output_type": "stream",
     "text": [
      "Epoch 100, Loss 0.0278\n",
      "Training Accuracy: 0.9672, Testing Accuracy: 0.9723\n",
      "\n"
     ]
    },
    {
     "name": "stdout",
     "output_type": "stream",
     "text": [
      "Epoch 110, Loss 0.0269\n",
      "Training Accuracy: 0.9689, Testing Accuracy: 0.9738\n",
      "\n"
     ]
    },
    {
     "name": "stdout",
     "output_type": "stream",
     "text": [
      "Epoch 120, Loss 0.026\n",
      "Training Accuracy: 0.9696, Testing Accuracy: 0.9733\n",
      "\n"
     ]
    },
    {
     "name": "stdout",
     "output_type": "stream",
     "text": [
      "Epoch 130, Loss 0.0253\n",
      "Training Accuracy: 0.9707, Testing Accuracy: 0.9728\n",
      "\n"
     ]
    },
    {
     "name": "stdout",
     "output_type": "stream",
     "text": [
      "Epoch 140, Loss 0.0246\n",
      "Training Accuracy: 0.9716, Testing Accuracy: 0.9728\n",
      "\n"
     ]
    },
    {
     "name": "stdout",
     "output_type": "stream",
     "text": [
      "Epoch 150, Loss 0.024\n",
      "Training Accuracy: 0.9726, Testing Accuracy: 0.9738\n",
      "\n"
     ]
    },
    {
     "name": "stdout",
     "output_type": "stream",
     "text": [
      "Epoch 160, Loss 0.0235\n",
      "Training Accuracy: 0.9732, Testing Accuracy: 0.9738\n",
      "\n"
     ]
    },
    {
     "name": "stdout",
     "output_type": "stream",
     "text": [
      "Epoch 170, Loss 0.0229\n",
      "Training Accuracy: 0.9740, Testing Accuracy: 0.9733\n",
      "\n"
     ]
    },
    {
     "name": "stdout",
     "output_type": "stream",
     "text": [
      "Epoch 180, Loss 0.0224\n",
      "Training Accuracy: 0.9745, Testing Accuracy: 0.9728\n",
      "\n"
     ]
    },
    {
     "name": "stdout",
     "output_type": "stream",
     "text": [
      "Epoch 190, Loss 0.022\n",
      "Training Accuracy: 0.9749, Testing Accuracy: 0.9728\n",
      "\n"
     ]
    },
    {
     "name": "stdout",
     "output_type": "stream",
     "text": [
      "Epoch 200, Loss 0.0216\n",
      "Training Accuracy: 0.9756, Testing Accuracy: 0.9723\n",
      "\n"
     ]
    },
    {
     "name": "stdout",
     "output_type": "stream",
     "text": [
      "Epoch 210, Loss 0.0211\n",
      "Training Accuracy: 0.9763, Testing Accuracy: 0.9728\n",
      "\n"
     ]
    },
    {
     "name": "stdout",
     "output_type": "stream",
     "text": [
      "Epoch 220, Loss 0.0208\n",
      "Training Accuracy: 0.9765, Testing Accuracy: 0.9733\n",
      "\n"
     ]
    },
    {
     "name": "stdout",
     "output_type": "stream",
     "text": [
      "Epoch 230, Loss 0.0204\n",
      "Training Accuracy: 0.9772, Testing Accuracy: 0.9728\n",
      "\n"
     ]
    },
    {
     "name": "stdout",
     "output_type": "stream",
     "text": [
      "Epoch 240, Loss 0.02\n",
      "Training Accuracy: 0.9778, Testing Accuracy: 0.9733\n",
      "\n"
     ]
    },
    {
     "data": {
      "text/plain": [
       "0.007081037066154108"
      ]
     },
     "execution_count": 22,
     "metadata": {},
     "output_type": "execute_result"
    }
   ],
   "source": [
    "nn_learner.train_loop(dl)"
   ]
  },
  {
   "cell_type": "code",
   "execution_count": 23,
   "id": "e0163366",
   "metadata": {
    "execution": {
     "iopub.execute_input": "2022-06-09T20:12:27.828418Z",
     "iopub.status.busy": "2022-06-09T20:12:27.827718Z",
     "iopub.status.idle": "2022-06-09T20:12:43.229980Z",
     "shell.execute_reply": "2022-06-09T20:12:43.230922Z"
    },
    "papermill": {
     "duration": 15.450658,
     "end_time": "2022-06-09T20:12:43.231082",
     "exception": false,
     "start_time": "2022-06-09T20:12:27.780424",
     "status": "completed"
    },
    "tags": []
   },
   "outputs": [
    {
     "name": "stdout",
     "output_type": "stream",
     "text": [
      "Epoch 0, Loss 0.2374\n",
      "Training Accuracy: 0.7078, Testing Accuracy: 0.6946\n",
      "\n"
     ]
    },
    {
     "name": "stdout",
     "output_type": "stream",
     "text": [
      "Epoch 10, Loss 0.1023\n",
      "Training Accuracy: 0.9100, Testing Accuracy: 0.9239\n",
      "\n"
     ]
    },
    {
     "name": "stdout",
     "output_type": "stream",
     "text": [
      "Epoch 20, Loss 0.0787\n",
      "Training Accuracy: 0.9269, Testing Accuracy: 0.9410\n",
      "\n"
     ]
    },
    {
     "name": "stdout",
     "output_type": "stream",
     "text": [
      "Epoch 30, Loss 0.0679\n",
      "Training Accuracy: 0.9367, Testing Accuracy: 0.9486\n",
      "\n"
     ]
    },
    {
     "name": "stdout",
     "output_type": "stream",
     "text": [
      "Epoch 40, Loss 0.0614\n",
      "Training Accuracy: 0.9411, Testing Accuracy: 0.9541\n",
      "\n"
     ]
    },
    {
     "name": "stdout",
     "output_type": "stream",
     "text": [
      "Epoch 50, Loss 0.0569\n",
      "Training Accuracy: 0.9437, Testing Accuracy: 0.9572\n",
      "\n"
     ]
    },
    {
     "name": "stdout",
     "output_type": "stream",
     "text": [
      "Epoch 60, Loss 0.0536\n",
      "Training Accuracy: 0.9463, Testing Accuracy: 0.9582\n",
      "\n"
     ]
    },
    {
     "name": "stdout",
     "output_type": "stream",
     "text": [
      "Epoch 70, Loss 0.0511\n",
      "Training Accuracy: 0.9478, Testing Accuracy: 0.9607\n",
      "\n"
     ]
    },
    {
     "name": "stdout",
     "output_type": "stream",
     "text": [
      "Epoch 80, Loss 0.049\n",
      "Training Accuracy: 0.9494, Testing Accuracy: 0.9627\n",
      "\n"
     ]
    },
    {
     "name": "stdout",
     "output_type": "stream",
     "text": [
      "Epoch 90, Loss 0.0474\n",
      "Training Accuracy: 0.9512, Testing Accuracy: 0.9632\n",
      "\n"
     ]
    },
    {
     "name": "stdout",
     "output_type": "stream",
     "text": [
      "Epoch 100, Loss 0.0459\n",
      "Training Accuracy: 0.9528, Testing Accuracy: 0.9632\n",
      "\n"
     ]
    },
    {
     "name": "stdout",
     "output_type": "stream",
     "text": [
      "Epoch 110, Loss 0.0447\n",
      "Training Accuracy: 0.9540, Testing Accuracy: 0.9652\n",
      "\n"
     ]
    },
    {
     "name": "stdout",
     "output_type": "stream",
     "text": [
      "Epoch 120, Loss 0.0437\n",
      "Training Accuracy: 0.9550, Testing Accuracy: 0.9657\n",
      "\n"
     ]
    },
    {
     "name": "stdout",
     "output_type": "stream",
     "text": [
      "Epoch 130, Loss 0.0427\n",
      "Training Accuracy: 0.9553, Testing Accuracy: 0.9657\n",
      "\n"
     ]
    },
    {
     "name": "stdout",
     "output_type": "stream",
     "text": [
      "Epoch 140, Loss 0.0419\n",
      "Training Accuracy: 0.9557, Testing Accuracy: 0.9662\n",
      "\n"
     ]
    },
    {
     "name": "stdout",
     "output_type": "stream",
     "text": [
      "Epoch 150, Loss 0.0412\n",
      "Training Accuracy: 0.9563, Testing Accuracy: 0.9667\n",
      "\n"
     ]
    },
    {
     "name": "stdout",
     "output_type": "stream",
     "text": [
      "Epoch 160, Loss 0.0405\n",
      "Training Accuracy: 0.9564, Testing Accuracy: 0.9672\n",
      "\n"
     ]
    },
    {
     "name": "stdout",
     "output_type": "stream",
     "text": [
      "Epoch 170, Loss 0.0399\n",
      "Training Accuracy: 0.9574, Testing Accuracy: 0.9657\n",
      "\n"
     ]
    },
    {
     "name": "stdout",
     "output_type": "stream",
     "text": [
      "Epoch 180, Loss 0.0393\n",
      "Training Accuracy: 0.9575, Testing Accuracy: 0.9657\n",
      "\n"
     ]
    },
    {
     "name": "stdout",
     "output_type": "stream",
     "text": [
      "Epoch 190, Loss 0.0388\n",
      "Training Accuracy: 0.9581, Testing Accuracy: 0.9662\n",
      "\n"
     ]
    },
    {
     "name": "stdout",
     "output_type": "stream",
     "text": [
      "Epoch 200, Loss 0.0384\n",
      "Training Accuracy: 0.9585, Testing Accuracy: 0.9672\n",
      "\n"
     ]
    },
    {
     "name": "stdout",
     "output_type": "stream",
     "text": [
      "Epoch 210, Loss 0.0379\n",
      "Training Accuracy: 0.9594, Testing Accuracy: 0.9688\n",
      "\n"
     ]
    },
    {
     "name": "stdout",
     "output_type": "stream",
     "text": [
      "Epoch 220, Loss 0.0375\n",
      "Training Accuracy: 0.9596, Testing Accuracy: 0.9693\n",
      "\n"
     ]
    },
    {
     "name": "stdout",
     "output_type": "stream",
     "text": [
      "Epoch 230, Loss 0.0371\n",
      "Training Accuracy: 0.9597, Testing Accuracy: 0.9698\n",
      "\n"
     ]
    },
    {
     "name": "stdout",
     "output_type": "stream",
     "text": [
      "Epoch 240, Loss 0.0368\n",
      "Training Accuracy: 0.9601, Testing Accuracy: 0.9698\n",
      "\n"
     ]
    },
    {
     "data": {
      "text/plain": [
       "0.04950668170052111"
      ]
     },
     "execution_count": 23,
     "metadata": {},
     "output_type": "execute_result"
    }
   ],
   "source": [
    "lr_learner.train_loop(dl)"
   ]
  },
  {
   "cell_type": "code",
   "execution_count": 24,
   "id": "ca410940",
   "metadata": {
    "execution": {
     "iopub.execute_input": "2022-06-09T20:12:43.332523Z",
     "iopub.status.busy": "2022-06-09T20:12:43.331854Z",
     "iopub.status.idle": "2022-06-09T20:12:43.589566Z",
     "shell.execute_reply": "2022-06-09T20:12:43.589031Z"
    },
    "papermill": {
     "duration": 0.312311,
     "end_time": "2022-06-09T20:12:43.589692",
     "exception": false,
     "start_time": "2022-06-09T20:12:43.277381",
     "status": "completed"
    },
    "tags": []
   },
   "outputs": [
    {
     "data": {
      "text/plain": [
       "<matplotlib.legend.Legend at 0x7fb635e3da20>"
      ]
     },
     "execution_count": 24,
     "metadata": {},
     "output_type": "execute_result"
    },
    {
     "data": {
      "image/png": "[encoded data removed]",
      "text/plain": [
       "<Figure size 1080x720 with 1 Axes>"
      ]
     },
     "metadata": {
      "needs_background": "light"
     },
     "output_type": "display_data"
    }
   ],
   "source": [
    "#comparing the results of NN and LR\n",
    "plt.figure(figsize=(15,10))\n",
    "\n",
    "# Neural Network plots\n",
    "plt.plot(acc_nn.accuracies, 'r-', label = \"Training Accuracies - NN\")\n",
    "plt.plot(acc_nn.test_accuracies, 'g-', label = \"Testing Accuracies - NN\")\n",
    "\n",
    "# Logistic Regression plots\n",
    "plt.plot(acc_lr.accuracies, 'k-', label = \"Training Accuracies - LR\")\n",
    "plt.plot(acc_lr.test_accuracies, 'b-', label = \"Testing Accuracies - LR\")\n",
    "plt.legend()"
   ]
  },
  {
   "cell_type": "markdown",
   "id": "80dfb35c",
   "metadata": {
    "papermill": {
     "duration": 0.046856,
     "end_time": "2022-06-09T20:12:43.683895",
     "exception": false,
     "start_time": "2022-06-09T20:12:43.637039",
     "status": "completed"
    },
    "tags": []
   },
   "source": [
    "#### Plotting the outputs of this layer of the NN.\n"
   ]
  },
  {
   "cell_type": "code",
   "execution_count": 25,
   "id": "45eb2ff5",
   "metadata": {
    "execution": {
     "iopub.execute_input": "2022-06-09T20:12:43.781226Z",
     "iopub.status.busy": "2022-06-09T20:12:43.780198Z",
     "iopub.status.idle": "2022-06-09T20:12:43.804458Z",
     "shell.execute_reply": "2022-06-09T20:12:43.805018Z"
    },
    "papermill": {
     "duration": 0.074801,
     "end_time": "2022-06-09T20:12:43.805187",
     "exception": false,
     "start_time": "2022-06-09T20:12:43.730386",
     "status": "completed"
    },
    "tags": []
   },
   "outputs": [],
   "source": [
    "new_model = Model(layers[:-2])\n",
    "testing_plot = new_model(testing_data_x)"
   ]
  },
  {
   "cell_type": "code",
   "execution_count": 26,
   "id": "4c0a5485",
   "metadata": {
    "execution": {
     "iopub.execute_input": "2022-06-09T20:12:43.915096Z",
     "iopub.status.busy": "2022-06-09T20:12:43.908533Z",
     "iopub.status.idle": "2022-06-09T20:12:44.134869Z",
     "shell.execute_reply": "2022-06-09T20:12:44.133902Z"
    },
    "papermill": {
     "duration": 0.281239,
     "end_time": "2022-06-09T20:12:44.135011",
     "exception": false,
     "start_time": "2022-06-09T20:12:43.853772",
     "status": "completed"
    },
    "tags": []
   },
   "outputs": [
    {
     "data": {
      "text/plain": [
       "Text(0.5, 1.0, 'Outputs')"
      ]
     },
     "execution_count": 26,
     "metadata": {},
     "output_type": "execute_result"
    },
    {
     "data": {
      "image/png": "[encoded data removed]",
      "text/plain": [
       "<Figure size 576x504 with 1 Axes>"
      ]
     },
     "metadata": {
      "needs_background": "light"
     },
     "output_type": "display_data"
    }
   ],
   "source": [
    "# Plotting the scatter plot of points and color coding by class\n",
    "plt.figure(figsize=(8,7))\n",
    "plt.scatter(testing_plot[:,0], testing_plot[:,1], alpha = 0.1, c = y_test.ravel());\n",
    "plt.title('Outputs')"
   ]
  },
  {
   "cell_type": "markdown",
   "id": "a74fcf8f",
   "metadata": {
    "papermill": {
     "duration": 0.051275,
     "end_time": "2022-06-09T20:12:44.235875",
     "exception": false,
     "start_time": "2022-06-09T20:12:44.184600",
     "status": "completed"
    },
    "tags": []
   },
   "source": [
    "Probability contours"
   ]
  },
  {
   "cell_type": "code",
   "execution_count": 27,
   "id": "d0afc8e3",
   "metadata": {
    "execution": {
     "iopub.execute_input": "2022-06-09T20:12:44.377186Z",
     "iopub.status.busy": "2022-06-09T20:12:44.373408Z",
     "iopub.status.idle": "2022-06-09T20:12:44.387372Z",
     "shell.execute_reply": "2022-06-09T20:12:44.386810Z"
    },
    "papermill": {
     "duration": 0.070572,
     "end_time": "2022-06-09T20:12:44.387511",
     "exception": false,
     "start_time": "2022-06-09T20:12:44.316939",
     "status": "completed"
    },
    "tags": []
   },
   "outputs": [],
   "source": [
    "model_prob = Model(layers[-2:]) "
   ]
  },
  {
   "cell_type": "code",
   "execution_count": 28,
   "id": "9b96e238",
   "metadata": {
    "execution": {
     "iopub.execute_input": "2022-06-09T20:12:44.492572Z",
     "iopub.status.busy": "2022-06-09T20:12:44.491004Z",
     "iopub.status.idle": "2022-06-09T20:12:44.507175Z",
     "shell.execute_reply": "2022-06-09T20:12:44.507689Z"
    },
    "papermill": {
     "duration": 0.072038,
     "end_time": "2022-06-09T20:12:44.507811",
     "exception": false,
     "start_time": "2022-06-09T20:12:44.435773",
     "status": "completed"
    },
    "tags": []
   },
   "outputs": [],
   "source": [
    "#creating the x and y ranges according to the above generated plot.\n",
    "x_range = np.linspace(-4, 1, 100) \n",
    "y_range = np.linspace(-6, 6, 100) \n",
    "x_grid, y_grid = np.meshgrid(x_range, y_range) # x_grid and y_grig are of size 100 X 100\n",
    "\n",
    "# converting x_grid and y_grid to continuous arrays\n",
    "x_gridflat = np.ravel(x_grid)\n",
    "y_gridflat = np.ravel(y_grid)\n",
    "\n",
    "# The last layer of the current model takes two columns as input. Hence transpose of np.vstack() is required.\n",
    "X = np.vstack((x_gridflat, y_gridflat)).T\n",
    "\n",
    "prob_contour = model_prob(X).reshape(100,100) "
   ]
  },
  {
   "cell_type": "code",
   "execution_count": 29,
   "id": "da72499a",
   "metadata": {
    "execution": {
     "iopub.execute_input": "2022-06-09T20:12:44.601996Z",
     "iopub.status.busy": "2022-06-09T20:12:44.601316Z",
     "iopub.status.idle": "2022-06-09T20:12:44.883971Z",
     "shell.execute_reply": "2022-06-09T20:12:44.884432Z"
    },
    "papermill": {
     "duration": 0.331202,
     "end_time": "2022-06-09T20:12:44.884573",
     "exception": false,
     "start_time": "2022-06-09T20:12:44.553371",
     "status": "completed"
    },
    "tags": []
   },
   "outputs": [
    {
     "data": {
      "image/png": "[encoded data removed]",
      "text/plain": [
       "<Figure size 720x648 with 1 Axes>"
      ]
     },
     "metadata": {
      "needs_background": "light"
     },
     "output_type": "display_data"
    }
   ],
   "source": [
    "plt.figure(figsize=(10,9))\n",
    "plt.scatter(testing_plot[:,0], testing_plot[:,1], alpha = 0.1, c = y_test.ravel())\n",
    "contours = plt.contour(x_grid,y_grid,prob_contour)\n",
    "plt.title('Probability Contours')\n",
    "plt.clabel(contours, inline = True );"
   ]
  },
  {
   "cell_type": "code",
   "execution_count": null,
   "id": "e81b4ac7",
   "metadata": {
    "papermill": {
     "duration": 0.051869,
     "end_time": "2022-06-09T20:12:44.982279",
     "exception": false,
     "start_time": "2022-06-09T20:12:44.930410",
     "status": "completed"
    },
    "tags": []
   },
   "outputs": [],
   "source": []
  }
 ],
 "metadata": {
  "kernelspec": {
   "display_name": "Python 3",
   "language": "python",
   "name": "python3"
  },
  "language_info": {
   "codemirror_mode": {
    "name": "ipython",
    "version": 3
   },
   "file_extension": ".py",
   "mimetype": "text/x-python",
   "name": "python",
   "nbconvert_exporter": "python",
   "pygments_lexer": "ipython3",
   "version": "3.6.15"
  },
  "papermill": {
   "default_parameters": {},
   "duration": 111.435227,
   "end_time": "2022-06-09T20:12:45.453532",
   "environment_variables": {},
   "exception": null,
   "input_path": "2020-08-11-part2.ipynb",
   "output_path": "2020-08-11-part2.ipynb",
   "parameters": {},
   "start_time": "2022-06-09T20:10:54.018305",
   "version": "2.3.3"
  }
 },
 "nbformat": 4,
 "nbformat_minor": 5
}