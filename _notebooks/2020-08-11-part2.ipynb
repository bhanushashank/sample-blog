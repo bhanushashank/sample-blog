{
 "cells": [
  {
   "cell_type": "markdown",
   "id": "98380cd3",
   "metadata": {
    "papermill": {
     "duration": 0.029696,
     "end_time": "2022-11-17T20:12:31.273887",
     "exception": false,
     "start_time": "2022-11-17T20:12:31.244191",
     "status": "completed"
    },
    "tags": []
   },
   "source": [
    "# Distinguish Your Own Digits (DYOD)"
   ]
  },
  {
   "cell_type": "markdown",
   "id": "ef31240d",
   "metadata": {
    "papermill": {
     "duration": 0.024562,
     "end_time": "2022-11-17T20:12:31.323866",
     "exception": false,
     "start_time": "2022-11-17T20:12:31.299304",
     "status": "completed"
    },
    "tags": []
   },
   "source": [
    "You are going to write a classifier that distinguishes between the number 3 and number 8."
   ]
  },
  {
   "cell_type": "code",
   "execution_count": 1,
   "id": "b15c8646",
   "metadata": {
    "execution": {
     "iopub.execute_input": "2022-11-17T20:12:31.383628Z",
     "iopub.status.busy": "2022-11-17T20:12:31.383013Z",
     "iopub.status.idle": "2022-11-17T20:12:31.393799Z",
     "shell.execute_reply": "2022-11-17T20:12:31.394218Z"
    },
    "papermill": {
     "duration": 0.046099,
     "end_time": "2022-11-17T20:12:31.394379",
     "exception": false,
     "start_time": "2022-11-17T20:12:31.348280",
     "status": "completed"
    },
    "tags": []
   },
   "outputs": [],
   "source": [
    "%load_ext autoreload\n",
    "%autoreload 2"
   ]
  },
  {
   "cell_type": "code",
   "execution_count": 2,
   "id": "22ef38dc",
   "metadata": {
    "execution": {
     "iopub.execute_input": "2022-11-17T20:12:31.447854Z",
     "iopub.status.busy": "2022-11-17T20:12:31.447280Z",
     "iopub.status.idle": "2022-11-17T20:12:31.990524Z",
     "shell.execute_reply": "2022-11-17T20:12:31.990015Z"
    },
    "papermill": {
     "duration": 0.571558,
     "end_time": "2022-11-17T20:12:31.990637",
     "exception": false,
     "start_time": "2022-11-17T20:12:31.419079",
     "status": "completed"
    },
    "tags": []
   },
   "outputs": [],
   "source": [
    "%matplotlib inline\n",
    "import numpy as np\n",
    "import matplotlib.pyplot as plt\n",
    "import pandas as pd"
   ]
  },
  {
   "cell_type": "markdown",
   "id": "ba036198",
   "metadata": {
    "papermill": {
     "duration": 0.024718,
     "end_time": "2022-11-17T20:12:32.039996",
     "exception": false,
     "start_time": "2022-11-17T20:12:32.015278",
     "status": "completed"
    },
    "tags": []
   },
   "source": [
    "From the command line run `pip install mnist`. This is a library that will help you bring down the mnist dataset. If you run this from a notebook, you need to put  `!pip install mnist` in a cell by itself."
   ]
  },
  {
   "cell_type": "code",
   "execution_count": 3,
   "id": "bb6ad8a1",
   "metadata": {
    "execution": {
     "iopub.execute_input": "2022-11-17T20:12:32.093728Z",
     "iopub.status.busy": "2022-11-17T20:12:32.093125Z",
     "iopub.status.idle": "2022-11-17T20:12:34.287941Z",
     "shell.execute_reply": "2022-11-17T20:12:34.287151Z"
    },
    "papermill": {
     "duration": 2.223431,
     "end_time": "2022-11-17T20:12:34.288060",
     "exception": false,
     "start_time": "2022-11-17T20:12:32.064629",
     "status": "completed"
    },
    "tags": []
   },
   "outputs": [
    {
     "name": "stdout",
     "output_type": "stream",
     "text": [
      "Collecting mnist\r\n"
     ]
    },
    {
     "name": "stdout",
     "output_type": "stream",
     "text": [
      "  Downloading mnist-0.2.2-py2.py3-none-any.whl (3.5 kB)\r\n",
      "Requirement already satisfied: numpy in /opt/hostedtoolcache/Python/3.6.15/x64/lib/python3.6/site-packages (from mnist) (1.19.5)\r\n"
     ]
    },
    {
     "name": "stdout",
     "output_type": "stream",
     "text": [
      "Installing collected packages: mnist\r\n"
     ]
    },
    {
     "name": "stdout",
     "output_type": "stream",
     "text": [
      "Successfully installed mnist-0.2.2\r\n"
     ]
    }
   ],
   "source": [
    "!pip install mnist"
   ]
  },
  {
   "cell_type": "markdown",
   "id": "69df9c9a",
   "metadata": {
    "papermill": {
     "duration": 0.025663,
     "end_time": "2022-11-17T20:12:34.339631",
     "exception": false,
     "start_time": "2022-11-17T20:12:34.313968",
     "status": "completed"
    },
    "tags": []
   },
   "source": [
    "## Preparing the Data"
   ]
  },
  {
   "cell_type": "code",
   "execution_count": 4,
   "id": "7f69d806",
   "metadata": {
    "execution": {
     "iopub.execute_input": "2022-11-17T20:12:34.398101Z",
     "iopub.status.busy": "2022-11-17T20:12:34.396015Z",
     "iopub.status.idle": "2022-11-17T20:12:34.410383Z",
     "shell.execute_reply": "2022-11-17T20:12:34.409890Z"
    },
    "papermill": {
     "duration": 0.045223,
     "end_time": "2022-11-17T20:12:34.410498",
     "exception": false,
     "start_time": "2022-11-17T20:12:34.365275",
     "status": "completed"
    },
    "tags": []
   },
   "outputs": [],
   "source": [
    "import mnist"
   ]
  },
  {
   "cell_type": "code",
   "execution_count": 5,
   "id": "a411e44f",
   "metadata": {
    "execution": {
     "iopub.execute_input": "2022-11-17T20:12:34.465557Z",
     "iopub.status.busy": "2022-11-17T20:12:34.464976Z",
     "iopub.status.idle": "2022-11-17T20:12:34.996838Z",
     "shell.execute_reply": "2022-11-17T20:12:34.995605Z"
    },
    "papermill": {
     "duration": 0.56074,
     "end_time": "2022-11-17T20:12:34.996967",
     "exception": false,
     "start_time": "2022-11-17T20:12:34.436227",
     "status": "completed"
    },
    "tags": []
   },
   "outputs": [],
   "source": [
    "train_images = mnist.train_images()\n",
    "train_labels = mnist.train_labels()"
   ]
  },
  {
   "cell_type": "code",
   "execution_count": 6,
   "id": "dceab3a5",
   "metadata": {
    "execution": {
     "iopub.execute_input": "2022-11-17T20:12:35.053970Z",
     "iopub.status.busy": "2022-11-17T20:12:35.051329Z",
     "iopub.status.idle": "2022-11-17T20:12:35.065588Z",
     "shell.execute_reply": "2022-11-17T20:12:35.066139Z"
    },
    "papermill": {
     "duration": 0.043557,
     "end_time": "2022-11-17T20:12:35.066268",
     "exception": false,
     "start_time": "2022-11-17T20:12:35.022711",
     "status": "completed"
    },
    "tags": []
   },
   "outputs": [
    {
     "data": {
      "text/plain": [
       "((60000, 28, 28), (60000,))"
      ]
     },
     "execution_count": 6,
     "metadata": {},
     "output_type": "execute_result"
    }
   ],
   "source": [
    "train_images.shape, train_labels.shape"
   ]
  },
  {
   "cell_type": "code",
   "execution_count": 7,
   "id": "f50dc2bb",
   "metadata": {
    "execution": {
     "iopub.execute_input": "2022-11-17T20:12:35.122011Z",
     "iopub.status.busy": "2022-11-17T20:12:35.121433Z",
     "iopub.status.idle": "2022-11-17T20:12:35.285830Z",
     "shell.execute_reply": "2022-11-17T20:12:35.285311Z"
    },
    "papermill": {
     "duration": 0.19381,
     "end_time": "2022-11-17T20:12:35.285944",
     "exception": false,
     "start_time": "2022-11-17T20:12:35.092134",
     "status": "completed"
    },
    "tags": []
   },
   "outputs": [],
   "source": [
    "test_images = mnist.test_images()\n",
    "test_labels = mnist.test_labels()"
   ]
  },
  {
   "cell_type": "code",
   "execution_count": 8,
   "id": "fc38cf1b",
   "metadata": {
    "execution": {
     "iopub.execute_input": "2022-11-17T20:12:35.341772Z",
     "iopub.status.busy": "2022-11-17T20:12:35.341194Z",
     "iopub.status.idle": "2022-11-17T20:12:35.354126Z",
     "shell.execute_reply": "2022-11-17T20:12:35.354596Z"
    },
    "papermill": {
     "duration": 0.042588,
     "end_time": "2022-11-17T20:12:35.354728",
     "exception": false,
     "start_time": "2022-11-17T20:12:35.312140",
     "status": "completed"
    },
    "tags": []
   },
   "outputs": [
    {
     "data": {
      "text/plain": [
       "((10000, 28, 28), (10000,))"
      ]
     },
     "execution_count": 8,
     "metadata": {},
     "output_type": "execute_result"
    }
   ],
   "source": [
    "test_images.shape, test_labels.shape"
   ]
  },
  {
   "cell_type": "code",
   "execution_count": 9,
   "id": "f9ed8fe0",
   "metadata": {
    "execution": {
     "iopub.execute_input": "2022-11-17T20:12:35.411733Z",
     "iopub.status.busy": "2022-11-17T20:12:35.411125Z",
     "iopub.status.idle": "2022-11-17T20:12:35.545923Z",
     "shell.execute_reply": "2022-11-17T20:12:35.546372Z"
    },
    "papermill": {
     "duration": 0.165578,
     "end_time": "2022-11-17T20:12:35.546502",
     "exception": false,
     "start_time": "2022-11-17T20:12:35.380924",
     "status": "completed"
    },
    "tags": []
   },
   "outputs": [
    {
     "name": "stdout",
     "output_type": "stream",
     "text": [
      "2\n"
     ]
    },
    {
     "data": {
      "text/plain": [
       "<matplotlib.image.AxesImage at 0x7fd829f85dd8>"
      ]
     },
     "execution_count": 9,
     "metadata": {},
     "output_type": "execute_result"
    },
    {
     "data": {
      "image/png": "[encoded data removed]",
      "text/plain": [
       "<Figure size 432x288 with 1 Axes>"
      ]
     },
     "metadata": {
      "needs_background": "light"
     },
     "output_type": "display_data"
    }
   ],
   "source": [
    "image_index = 7776 # You may select anything up to 60,000\n",
    "print(train_labels[image_index]) \n",
    "plt.imshow(train_images[image_index], cmap='Greys')"
   ]
  },
  {
   "cell_type": "markdown",
   "id": "a8d2388d",
   "metadata": {
    "papermill": {
     "duration": 0.027148,
     "end_time": "2022-11-17T20:12:35.600980",
     "exception": false,
     "start_time": "2022-11-17T20:12:35.573832",
     "status": "completed"
    },
    "tags": []
   },
   "source": [
    "## Filter data to get 3 and 8 out"
   ]
  },
  {
   "cell_type": "code",
   "execution_count": 10,
   "id": "776f7fc7",
   "metadata": {
    "execution": {
     "iopub.execute_input": "2022-11-17T20:12:35.660055Z",
     "iopub.status.busy": "2022-11-17T20:12:35.659442Z",
     "iopub.status.idle": "2022-11-17T20:12:35.675055Z",
     "shell.execute_reply": "2022-11-17T20:12:35.674564Z"
    },
    "papermill": {
     "duration": 0.046865,
     "end_time": "2022-11-17T20:12:35.675170",
     "exception": false,
     "start_time": "2022-11-17T20:12:35.628305",
     "status": "completed"
    },
    "tags": []
   },
   "outputs": [],
   "source": [
    "train_filter = np.where((train_labels == 3 ) | (train_labels == 8))\n",
    "test_filter = np.where((test_labels == 3) | (test_labels == 8))\n",
    "X_train, y_train = train_images[train_filter], train_labels[train_filter]\n",
    "X_test, y_test = test_images[test_filter], test_labels[test_filter]"
   ]
  },
  {
   "cell_type": "markdown",
   "id": "948f0b7e",
   "metadata": {
    "papermill": {
     "duration": 0.027229,
     "end_time": "2022-11-17T20:12:35.729950",
     "exception": false,
     "start_time": "2022-11-17T20:12:35.702721",
     "status": "completed"
    },
    "tags": []
   },
   "source": [
    "We normalize the pizel values in the 0 to 1 range"
   ]
  },
  {
   "cell_type": "code",
   "execution_count": 11,
   "id": "ee4c2166",
   "metadata": {
    "execution": {
     "iopub.execute_input": "2022-11-17T20:12:35.789791Z",
     "iopub.status.busy": "2022-11-17T20:12:35.789193Z",
     "iopub.status.idle": "2022-11-17T20:12:35.828028Z",
     "shell.execute_reply": "2022-11-17T20:12:35.827517Z"
    },
    "papermill": {
     "duration": 0.070999,
     "end_time": "2022-11-17T20:12:35.828141",
     "exception": false,
     "start_time": "2022-11-17T20:12:35.757142",
     "status": "completed"
    },
    "tags": []
   },
   "outputs": [],
   "source": [
    "X_train = X_train/255.\n",
    "X_test = X_test/255."
   ]
  },
  {
   "cell_type": "markdown",
   "id": "ddcf4fab",
   "metadata": {
    "papermill": {
     "duration": 0.027315,
     "end_time": "2022-11-17T20:12:35.882909",
     "exception": false,
     "start_time": "2022-11-17T20:12:35.855594",
     "status": "completed"
    },
    "tags": []
   },
   "source": [
    "And setup the labels as 1 (when the digit is 3) and 0 (when the digit is 8)"
   ]
  },
  {
   "cell_type": "code",
   "execution_count": 12,
   "id": "7dc908f2",
   "metadata": {
    "execution": {
     "iopub.execute_input": "2022-11-17T20:12:35.940830Z",
     "iopub.status.busy": "2022-11-17T20:12:35.940236Z",
     "iopub.status.idle": "2022-11-17T20:12:35.952671Z",
     "shell.execute_reply": "2022-11-17T20:12:35.952194Z"
    },
    "papermill": {
     "duration": 0.042726,
     "end_time": "2022-11-17T20:12:35.952801",
     "exception": false,
     "start_time": "2022-11-17T20:12:35.910075",
     "status": "completed"
    },
    "tags": []
   },
   "outputs": [],
   "source": [
    "y_train = 1*(y_train==3)\n",
    "y_test = 1*(y_test==3)"
   ]
  },
  {
   "cell_type": "code",
   "execution_count": 13,
   "id": "01e4e969",
   "metadata": {
    "execution": {
     "iopub.execute_input": "2022-11-17T20:12:36.010979Z",
     "iopub.status.busy": "2022-11-17T20:12:36.010407Z",
     "iopub.status.idle": "2022-11-17T20:12:36.023684Z",
     "shell.execute_reply": "2022-11-17T20:12:36.024119Z"
    },
    "papermill": {
     "duration": 0.044125,
     "end_time": "2022-11-17T20:12:36.024251",
     "exception": false,
     "start_time": "2022-11-17T20:12:35.980126",
     "status": "completed"
    },
    "tags": []
   },
   "outputs": [
    {
     "data": {
      "text/plain": [
       "((11982, 28, 28), (1984, 28, 28))"
      ]
     },
     "execution_count": 13,
     "metadata": {},
     "output_type": "execute_result"
    }
   ],
   "source": [
    "X_train.shape, X_test.shape"
   ]
  },
  {
   "cell_type": "markdown",
   "id": "5ccf3f85",
   "metadata": {
    "papermill": {
     "duration": 0.027612,
     "end_time": "2022-11-17T20:12:36.079444",
     "exception": false,
     "start_time": "2022-11-17T20:12:36.051832",
     "status": "completed"
    },
    "tags": []
   },
   "source": [
    "We reshape the data to flatten the image pixels into a set of features or co-variates:"
   ]
  },
  {
   "cell_type": "code",
   "execution_count": 14,
   "id": "5286a4a3",
   "metadata": {
    "execution": {
     "iopub.execute_input": "2022-11-17T20:12:36.138465Z",
     "iopub.status.busy": "2022-11-17T20:12:36.137885Z",
     "iopub.status.idle": "2022-11-17T20:12:36.152013Z",
     "shell.execute_reply": "2022-11-17T20:12:36.151441Z"
    },
    "papermill": {
     "duration": 0.045073,
     "end_time": "2022-11-17T20:12:36.152127",
     "exception": false,
     "start_time": "2022-11-17T20:12:36.107054",
     "status": "completed"
    },
    "tags": []
   },
   "outputs": [
    {
     "data": {
      "text/plain": [
       "((11982, 784), (1984, 784))"
      ]
     },
     "execution_count": 14,
     "metadata": {},
     "output_type": "execute_result"
    }
   ],
   "source": [
    "X_train = X_train.reshape(X_train.shape[0], -1)\n",
    "X_test = X_test.reshape(X_test.shape[0], -1)\n",
    "X_train.shape, X_test.shape"
   ]
  },
  {
   "cell_type": "code",
   "execution_count": 15,
   "id": "73c5f88a",
   "metadata": {
    "execution": {
     "iopub.execute_input": "2022-11-17T20:12:36.212900Z",
     "iopub.status.busy": "2022-11-17T20:12:36.212304Z",
     "iopub.status.idle": "2022-11-17T20:12:36.230634Z",
     "shell.execute_reply": "2022-11-17T20:12:36.231075Z"
    },
    "papermill": {
     "duration": 0.05099,
     "end_time": "2022-11-17T20:12:36.231206",
     "exception": false,
     "start_time": "2022-11-17T20:12:36.180216",
     "status": "completed"
    },
    "tags": []
   },
   "outputs": [],
   "source": [
    "#Impoting functions from 'Kudzu'\n",
    "from kudzu.model import Model\n",
    "from kudzu.train import Learner\n",
    "from kudzu.optim import GD\n",
    "from kudzu.data import Data, Sampler,Dataloader\n",
    "\n",
    "from kudzu.callbacks import AccCallback\n",
    "from kudzu.callbacks import ClfCallback\n",
    "\n",
    "from kudzu.loss import MSE\n",
    "\n",
    "from kudzu.layer import Sigmoid,Relu\n",
    "from kudzu.layer import Affine"
   ]
  },
  {
   "cell_type": "markdown",
   "id": "bc01172a",
   "metadata": {
    "papermill": {
     "duration": 0.027767,
     "end_time": "2022-11-17T20:12:36.287000",
     "exception": false,
     "start_time": "2022-11-17T20:12:36.259233",
     "status": "completed"
    },
    "tags": []
   },
   "source": [
    "### Let us create a `Config` class, to store important parameters. \n",
    "This class essentially plays the role of a dictionary."
   ]
  },
  {
   "cell_type": "code",
   "execution_count": 16,
   "id": "978281aa",
   "metadata": {
    "execution": {
     "iopub.execute_input": "2022-11-17T20:12:36.346651Z",
     "iopub.status.busy": "2022-11-17T20:12:36.346073Z",
     "iopub.status.idle": "2022-11-17T20:12:36.358447Z",
     "shell.execute_reply": "2022-11-17T20:12:36.357998Z"
    },
    "papermill": {
     "duration": 0.043861,
     "end_time": "2022-11-17T20:12:36.358564",
     "exception": false,
     "start_time": "2022-11-17T20:12:36.314703",
     "status": "completed"
    },
    "tags": []
   },
   "outputs": [],
   "source": [
    "class Config:\n",
    "    pass\n",
    "config = Config()\n",
    "config.lr = 0.001\n",
    "config.num_epochs = 250\n",
    "config.bs = 50"
   ]
  },
  {
   "cell_type": "markdown",
   "id": "1385fa59",
   "metadata": {
    "papermill": {
     "duration": 0.028227,
     "end_time": "2022-11-17T20:12:36.414849",
     "exception": false,
     "start_time": "2022-11-17T20:12:36.386622",
     "status": "completed"
    },
    "tags": []
   },
   "source": [
    "### Running Models with the Training data\n",
    "Details about the network layers:\n",
    "- A first affine layer has 784 inputs and does 100 affine transforms. These are followed by a Relu\n",
    "- A second affine layer has 100 inputs from the 100 activations of the past layer, and does 100 affine transforms. These are followed by a Relu\n",
    "- A third affine layer has 100 activations and does 2 affine transformations to create an embedding for visualization. There is no non-linearity here.\n",
    "- A final \"logistic regression\" which has an affine transform from 2 inputs to 1 output, which is squeezed through a sigmoid.\n"
   ]
  },
  {
   "cell_type": "code",
   "execution_count": 17,
   "id": "2b9c66db",
   "metadata": {
    "execution": {
     "iopub.execute_input": "2022-11-17T20:12:36.474876Z",
     "iopub.status.busy": "2022-11-17T20:12:36.474303Z",
     "iopub.status.idle": "2022-11-17T20:12:36.486614Z",
     "shell.execute_reply": "2022-11-17T20:12:36.486147Z"
    },
    "papermill": {
     "duration": 0.043894,
     "end_time": "2022-11-17T20:12:36.486723",
     "exception": false,
     "start_time": "2022-11-17T20:12:36.442829",
     "status": "completed"
    },
    "tags": []
   },
   "outputs": [],
   "source": [
    "data = Data(X_train, y_train.reshape(-1,1))\n",
    "sampler = Sampler(data, config.bs, shuffle=True)\n",
    "\n",
    "dl = Dataloader(data, sampler)\n",
    "\n",
    "opt = GD(config.lr)\n",
    "loss = MSE()"
   ]
  },
  {
   "cell_type": "code",
   "execution_count": 18,
   "id": "b275e4c2",
   "metadata": {
    "execution": {
     "iopub.execute_input": "2022-11-17T20:12:36.546872Z",
     "iopub.status.busy": "2022-11-17T20:12:36.546283Z",
     "iopub.status.idle": "2022-11-17T20:12:36.558071Z",
     "shell.execute_reply": "2022-11-17T20:12:36.558511Z"
    },
    "papermill": {
     "duration": 0.043922,
     "end_time": "2022-11-17T20:12:36.558644",
     "exception": false,
     "start_time": "2022-11-17T20:12:36.514722",
     "status": "completed"
    },
    "tags": []
   },
   "outputs": [],
   "source": [
    "training_data_x = X_train\n",
    "testing_data_x = X_test\n",
    "training_data_y = y_train.reshape(-1,1)\n",
    "testing_data_y = y_test.reshape(-1,1)"
   ]
  },
  {
   "cell_type": "code",
   "execution_count": 19,
   "id": "76951160",
   "metadata": {
    "execution": {
     "iopub.execute_input": "2022-11-17T20:12:36.618974Z",
     "iopub.status.busy": "2022-11-17T20:12:36.618376Z",
     "iopub.status.idle": "2022-11-17T20:12:36.634878Z",
     "shell.execute_reply": "2022-11-17T20:12:36.634412Z"
    },
    "papermill": {
     "duration": 0.048491,
     "end_time": "2022-11-17T20:12:36.634985",
     "exception": false,
     "start_time": "2022-11-17T20:12:36.586494",
     "status": "completed"
    },
    "tags": []
   },
   "outputs": [
    {
     "name": "stdout",
     "output_type": "stream",
     "text": [
      "xavier\n",
      "xavier\n",
      "xavier\n",
      "xavier\n",
      "xavier\n"
     ]
    }
   ],
   "source": [
    "layers = [Affine(\"first\", 784, 100), Relu(\"first\"), Affine(\"second\", 100, 100), Relu(\"second\"), Affine(\"third\", 100, 2), Affine(\"last\", 2, 1), Sigmoid(\"last\")]\n",
    "model_nn = Model(layers)\n",
    "model_lr = Model([Affine(\"logits\", 784, 1), Sigmoid(\"sigmoid\")])"
   ]
  },
  {
   "cell_type": "code",
   "execution_count": 20,
   "id": "6eede77a",
   "metadata": {
    "execution": {
     "iopub.execute_input": "2022-11-17T20:12:36.695419Z",
     "iopub.status.busy": "2022-11-17T20:12:36.694845Z",
     "iopub.status.idle": "2022-11-17T20:12:36.707427Z",
     "shell.execute_reply": "2022-11-17T20:12:36.706959Z"
    },
    "papermill": {
     "duration": 0.044206,
     "end_time": "2022-11-17T20:12:36.707537",
     "exception": false,
     "start_time": "2022-11-17T20:12:36.663331",
     "status": "completed"
    },
    "tags": []
   },
   "outputs": [],
   "source": [
    "nn_learner = Learner(loss, model_nn, opt, config.num_epochs)\n",
    "acc_nn = ClfCallback(nn_learner, config.bs, training_data_x , testing_data_x, training_data_y, testing_data_y)\n",
    "nn_learner.set_callbacks([acc_nn])"
   ]
  },
  {
   "cell_type": "code",
   "execution_count": 21,
   "id": "877b6cc7",
   "metadata": {
    "execution": {
     "iopub.execute_input": "2022-11-17T20:12:36.768319Z",
     "iopub.status.busy": "2022-11-17T20:12:36.767745Z",
     "iopub.status.idle": "2022-11-17T20:12:36.779990Z",
     "shell.execute_reply": "2022-11-17T20:12:36.779513Z"
    },
    "papermill": {
     "duration": 0.044338,
     "end_time": "2022-11-17T20:12:36.780103",
     "exception": false,
     "start_time": "2022-11-17T20:12:36.735765",
     "status": "completed"
    },
    "tags": []
   },
   "outputs": [],
   "source": [
    "lr_learner = Learner(loss, model_lr, opt, config.num_epochs)\n",
    "acc_lr = ClfCallback(lr_learner, config.bs, training_data_x , testing_data_x, training_data_y, testing_data_y)\n",
    "lr_learner.set_callbacks([acc_lr])"
   ]
  },
  {
   "cell_type": "code",
   "execution_count": 22,
   "id": "d9b133c3",
   "metadata": {
    "execution": {
     "iopub.execute_input": "2022-11-17T20:12:36.842831Z",
     "iopub.status.busy": "2022-11-17T20:12:36.841229Z",
     "iopub.status.idle": "2022-11-17T20:15:37.985417Z",
     "shell.execute_reply": "2022-11-17T20:15:37.985874Z"
    },
    "papermill": {
     "duration": 181.177767,
     "end_time": "2022-11-17T20:15:37.986009",
     "exception": false,
     "start_time": "2022-11-17T20:12:36.808242",
     "status": "completed"
    },
    "tags": []
   },
   "outputs": [
    {
     "name": "stdout",
     "output_type": "stream",
     "text": [
      "Epoch 0, Loss 0.258\n",
      "Training Accuracy: 0.4992, Testing Accuracy: 0.5020\n",
      "\n"
     ]
    },
    {
     "name": "stdout",
     "output_type": "stream",
     "text": [
      "Epoch 10, Loss 0.1307\n",
      "Training Accuracy: 0.9016, Testing Accuracy: 0.9163\n",
      "\n"
     ]
    },
    {
     "name": "stdout",
     "output_type": "stream",
     "text": [
      "Epoch 20, Loss 0.0686\n",
      "Training Accuracy: 0.9301, Testing Accuracy: 0.9441\n",
      "\n"
     ]
    },
    {
     "name": "stdout",
     "output_type": "stream",
     "text": [
      "Epoch 30, Loss 0.0503\n",
      "Training Accuracy: 0.9446, Testing Accuracy: 0.9607\n",
      "\n"
     ]
    },
    {
     "name": "stdout",
     "output_type": "stream",
     "text": [
      "Epoch 40, Loss 0.0421\n",
      "Training Accuracy: 0.9523, Testing Accuracy: 0.9652\n",
      "\n"
     ]
    },
    {
     "name": "stdout",
     "output_type": "stream",
     "text": [
      "Epoch 50, Loss 0.0373\n",
      "Training Accuracy: 0.9574, Testing Accuracy: 0.9657\n",
      "\n"
     ]
    },
    {
     "name": "stdout",
     "output_type": "stream",
     "text": [
      "Epoch 60, Loss 0.0342\n",
      "Training Accuracy: 0.9614, Testing Accuracy: 0.9662\n",
      "\n"
     ]
    },
    {
     "name": "stdout",
     "output_type": "stream",
     "text": [
      "Epoch 70, Loss 0.0319\n",
      "Training Accuracy: 0.9639, Testing Accuracy: 0.9698\n",
      "\n"
     ]
    },
    {
     "name": "stdout",
     "output_type": "stream",
     "text": [
      "Epoch 80, Loss 0.0302\n",
      "Training Accuracy: 0.9653, Testing Accuracy: 0.9723\n",
      "\n"
     ]
    },
    {
     "name": "stdout",
     "output_type": "stream",
     "text": [
      "Epoch 90, Loss 0.0288\n",
      "Training Accuracy: 0.9664, Testing Accuracy: 0.9708\n",
      "\n"
     ]
    },
    {
     "name": "stdout",
     "output_type": "stream",
     "text": [
      "Epoch 100, Loss 0.0276\n",
      "Training Accuracy: 0.9675, Testing Accuracy: 0.9718\n",
      "\n"
     ]
    },
    {
     "name": "stdout",
     "output_type": "stream",
     "text": [
      "Epoch 110, Loss 0.0266\n",
      "Training Accuracy: 0.9684, Testing Accuracy: 0.9718\n",
      "\n"
     ]
    },
    {
     "name": "stdout",
     "output_type": "stream",
     "text": [
      "Epoch 120, Loss 0.0257\n",
      "Training Accuracy: 0.9701, Testing Accuracy: 0.9728\n",
      "\n"
     ]
    },
    {
     "name": "stdout",
     "output_type": "stream",
     "text": [
      "Epoch 130, Loss 0.0249\n",
      "Training Accuracy: 0.9715, Testing Accuracy: 0.9733\n",
      "\n"
     ]
    },
    {
     "name": "stdout",
     "output_type": "stream",
     "text": [
      "Epoch 140, Loss 0.0241\n",
      "Training Accuracy: 0.9724, Testing Accuracy: 0.9733\n",
      "\n"
     ]
    },
    {
     "name": "stdout",
     "output_type": "stream",
     "text": [
      "Epoch 150, Loss 0.0235\n",
      "Training Accuracy: 0.9728, Testing Accuracy: 0.9733\n",
      "\n"
     ]
    },
    {
     "name": "stdout",
     "output_type": "stream",
     "text": [
      "Epoch 160, Loss 0.0229\n",
      "Training Accuracy: 0.9737, Testing Accuracy: 0.9733\n",
      "\n"
     ]
    },
    {
     "name": "stdout",
     "output_type": "stream",
     "text": [
      "Epoch 170, Loss 0.0223\n",
      "Training Accuracy: 0.9745, Testing Accuracy: 0.9733\n",
      "\n"
     ]
    },
    {
     "name": "stdout",
     "output_type": "stream",
     "text": [
      "Epoch 180, Loss 0.0217\n",
      "Training Accuracy: 0.9749, Testing Accuracy: 0.9733\n",
      "\n"
     ]
    },
    {
     "name": "stdout",
     "output_type": "stream",
     "text": [
      "Epoch 190, Loss 0.0212\n",
      "Training Accuracy: 0.9754, Testing Accuracy: 0.9743\n",
      "\n"
     ]
    },
    {
     "name": "stdout",
     "output_type": "stream",
     "text": [
      "Epoch 200, Loss 0.0207\n",
      "Training Accuracy: 0.9763, Testing Accuracy: 0.9743\n",
      "\n"
     ]
    },
    {
     "name": "stdout",
     "output_type": "stream",
     "text": [
      "Epoch 210, Loss 0.0203\n",
      "Training Accuracy: 0.9770, Testing Accuracy: 0.9748\n",
      "\n"
     ]
    },
    {
     "name": "stdout",
     "output_type": "stream",
     "text": [
      "Epoch 220, Loss 0.0198\n",
      "Training Accuracy: 0.9775, Testing Accuracy: 0.9748\n",
      "\n"
     ]
    },
    {
     "name": "stdout",
     "output_type": "stream",
     "text": [
      "Epoch 230, Loss 0.0193\n",
      "Training Accuracy: 0.9781, Testing Accuracy: 0.9748\n",
      "\n"
     ]
    },
    {
     "name": "stdout",
     "output_type": "stream",
     "text": [
      "Epoch 240, Loss 0.0189\n",
      "Training Accuracy: 0.9786, Testing Accuracy: 0.9743\n",
      "\n"
     ]
    },
    {
     "data": {
      "text/plain": [
       "0.017732298784798976"
      ]
     },
     "execution_count": 22,
     "metadata": {},
     "output_type": "execute_result"
    }
   ],
   "source": [
    "nn_learner.train_loop(dl)"
   ]
  },
  {
   "cell_type": "code",
   "execution_count": 23,
   "id": "e0163366",
   "metadata": {
    "execution": {
     "iopub.execute_input": "2022-11-17T20:15:38.062141Z",
     "iopub.status.busy": "2022-11-17T20:15:38.061538Z",
     "iopub.status.idle": "2022-11-17T20:15:50.660680Z",
     "shell.execute_reply": "2022-11-17T20:15:50.661243Z"
    },
    "papermill": {
     "duration": 12.639881,
     "end_time": "2022-11-17T20:15:50.661379",
     "exception": false,
     "start_time": "2022-11-17T20:15:38.021498",
     "status": "completed"
    },
    "tags": []
   },
   "outputs": [
    {
     "name": "stdout",
     "output_type": "stream",
     "text": [
      "Epoch 0, Loss 0.237\n",
      "Training Accuracy: 0.7016, Testing Accuracy: 0.7016\n",
      "\n"
     ]
    },
    {
     "name": "stdout",
     "output_type": "stream",
     "text": [
      "Epoch 10, Loss 0.1044\n",
      "Training Accuracy: 0.9039, Testing Accuracy: 0.9194\n",
      "\n"
     ]
    },
    {
     "name": "stdout",
     "output_type": "stream",
     "text": [
      "Epoch 20, Loss 0.0805\n",
      "Training Accuracy: 0.9248, Testing Accuracy: 0.9385\n",
      "\n"
     ]
    },
    {
     "name": "stdout",
     "output_type": "stream",
     "text": [
      "Epoch 30, Loss 0.0694\n",
      "Training Accuracy: 0.9352, Testing Accuracy: 0.9461\n",
      "\n"
     ]
    },
    {
     "name": "stdout",
     "output_type": "stream",
     "text": [
      "Epoch 40, Loss 0.0626\n",
      "Training Accuracy: 0.9393, Testing Accuracy: 0.9536\n",
      "\n"
     ]
    },
    {
     "name": "stdout",
     "output_type": "stream",
     "text": [
      "Epoch 50, Loss 0.058\n",
      "Training Accuracy: 0.9425, Testing Accuracy: 0.9551\n",
      "\n"
     ]
    },
    {
     "name": "stdout",
     "output_type": "stream",
     "text": [
      "Epoch 60, Loss 0.0546\n",
      "Training Accuracy: 0.9450, Testing Accuracy: 0.9561\n",
      "\n"
     ]
    },
    {
     "name": "stdout",
     "output_type": "stream",
     "text": [
      "Epoch 70, Loss 0.052\n",
      "Training Accuracy: 0.9470, Testing Accuracy: 0.9561\n",
      "\n"
     ]
    },
    {
     "name": "stdout",
     "output_type": "stream",
     "text": [
      "Epoch 80, Loss 0.0499\n",
      "Training Accuracy: 0.9484, Testing Accuracy: 0.9572\n",
      "\n"
     ]
    },
    {
     "name": "stdout",
     "output_type": "stream",
     "text": [
      "Epoch 90, Loss 0.0482\n",
      "Training Accuracy: 0.9497, Testing Accuracy: 0.9582\n",
      "\n"
     ]
    },
    {
     "name": "stdout",
     "output_type": "stream",
     "text": [
      "Epoch 100, Loss 0.0467\n",
      "Training Accuracy: 0.9508, Testing Accuracy: 0.9592\n",
      "\n"
     ]
    },
    {
     "name": "stdout",
     "output_type": "stream",
     "text": [
      "Epoch 110, Loss 0.0454\n",
      "Training Accuracy: 0.9522, Testing Accuracy: 0.9602\n",
      "\n"
     ]
    },
    {
     "name": "stdout",
     "output_type": "stream",
     "text": [
      "Epoch 120, Loss 0.0443\n",
      "Training Accuracy: 0.9529, Testing Accuracy: 0.9602\n",
      "\n"
     ]
    },
    {
     "name": "stdout",
     "output_type": "stream",
     "text": [
      "Epoch 130, Loss 0.0434\n",
      "Training Accuracy: 0.9539, Testing Accuracy: 0.9612\n",
      "\n"
     ]
    },
    {
     "name": "stdout",
     "output_type": "stream",
     "text": [
      "Epoch 140, Loss 0.0425\n",
      "Training Accuracy: 0.9550, Testing Accuracy: 0.9622\n",
      "\n"
     ]
    },
    {
     "name": "stdout",
     "output_type": "stream",
     "text": [
      "Epoch 150, Loss 0.0417\n",
      "Training Accuracy: 0.9559, Testing Accuracy: 0.9627\n",
      "\n"
     ]
    },
    {
     "name": "stdout",
     "output_type": "stream",
     "text": [
      "Epoch 160, Loss 0.0411\n",
      "Training Accuracy: 0.9568, Testing Accuracy: 0.9627\n",
      "\n"
     ]
    },
    {
     "name": "stdout",
     "output_type": "stream",
     "text": [
      "Epoch 170, Loss 0.0404\n",
      "Training Accuracy: 0.9573, Testing Accuracy: 0.9632\n",
      "\n"
     ]
    },
    {
     "name": "stdout",
     "output_type": "stream",
     "text": [
      "Epoch 180, Loss 0.0398\n",
      "Training Accuracy: 0.9574, Testing Accuracy: 0.9632\n",
      "\n"
     ]
    },
    {
     "name": "stdout",
     "output_type": "stream",
     "text": [
      "Epoch 190, Loss 0.0393\n",
      "Training Accuracy: 0.9582, Testing Accuracy: 0.9642\n",
      "\n"
     ]
    },
    {
     "name": "stdout",
     "output_type": "stream",
     "text": [
      "Epoch 200, Loss 0.0388\n",
      "Training Accuracy: 0.9586, Testing Accuracy: 0.9642\n",
      "\n"
     ]
    },
    {
     "name": "stdout",
     "output_type": "stream",
     "text": [
      "Epoch 210, Loss 0.0384\n",
      "Training Accuracy: 0.9588, Testing Accuracy: 0.9647\n",
      "\n"
     ]
    },
    {
     "name": "stdout",
     "output_type": "stream",
     "text": [
      "Epoch 220, Loss 0.0379\n",
      "Training Accuracy: 0.9596, Testing Accuracy: 0.9652\n",
      "\n"
     ]
    },
    {
     "name": "stdout",
     "output_type": "stream",
     "text": [
      "Epoch 230, Loss 0.0375\n",
      "Training Accuracy: 0.9600, Testing Accuracy: 0.9652\n",
      "\n"
     ]
    },
    {
     "name": "stdout",
     "output_type": "stream",
     "text": [
      "Epoch 240, Loss 0.0372\n",
      "Training Accuracy: 0.9606, Testing Accuracy: 0.9662\n",
      "\n"
     ]
    },
    {
     "data": {
      "text/plain": [
       "0.03474466975878067"
      ]
     },
     "execution_count": 23,
     "metadata": {},
     "output_type": "execute_result"
    }
   ],
   "source": [
    "lr_learner.train_loop(dl)"
   ]
  },
  {
   "cell_type": "code",
   "execution_count": 24,
   "id": "ca410940",
   "metadata": {
    "execution": {
     "iopub.execute_input": "2022-11-17T20:15:50.749425Z",
     "iopub.status.busy": "2022-11-17T20:15:50.748813Z",
     "iopub.status.idle": "2022-11-17T20:15:50.980167Z",
     "shell.execute_reply": "2022-11-17T20:15:50.979385Z"
    },
    "papermill": {
     "duration": 0.276933,
     "end_time": "2022-11-17T20:15:50.980287",
     "exception": false,
     "start_time": "2022-11-17T20:15:50.703354",
     "status": "completed"
    },
    "tags": []
   },
   "outputs": [
    {
     "data": {
      "text/plain": [
       "<matplotlib.legend.Legend at 0x7fd81d345588>"
      ]
     },
     "execution_count": 24,
     "metadata": {},
     "output_type": "execute_result"
    },
    {
     "data": {
      "image/png": "[encoded data removed]",
      "text/plain": [
       "<Figure size 1080x720 with 1 Axes>"
      ]
     },
     "metadata": {
      "needs_background": "light"
     },
     "output_type": "display_data"
    }
   ],
   "source": [
    "#comparing the results of NN and LR\n",
    "plt.figure(figsize=(15,10))\n",
    "\n",
    "# Neural Network plots\n",
    "plt.plot(acc_nn.accuracies, 'r-', label = \"Training Accuracies - NN\")\n",
    "plt.plot(acc_nn.test_accuracies, 'g-', label = \"Testing Accuracies - NN\")\n",
    "\n",
    "# Logistic Regression plots\n",
    "plt.plot(acc_lr.accuracies, 'k-', label = \"Training Accuracies - LR\")\n",
    "plt.plot(acc_lr.test_accuracies, 'b-', label = \"Testing Accuracies - LR\")\n",
    "plt.legend()"
   ]
  },
  {
   "cell_type": "markdown",
   "id": "80dfb35c",
   "metadata": {
    "papermill": {
     "duration": 0.043368,
     "end_time": "2022-11-17T20:15:51.067566",
     "exception": false,
     "start_time": "2022-11-17T20:15:51.024198",
     "status": "completed"
    },
    "tags": []
   },
   "source": [
    "#### Plotting the outputs of this layer of the NN.\n"
   ]
  },
  {
   "cell_type": "code",
   "execution_count": 25,
   "id": "45eb2ff5",
   "metadata": {
    "execution": {
     "iopub.execute_input": "2022-11-17T20:15:51.158253Z",
     "iopub.status.busy": "2022-11-17T20:15:51.157198Z",
     "iopub.status.idle": "2022-11-17T20:15:51.194535Z",
     "shell.execute_reply": "2022-11-17T20:15:51.194985Z"
    },
    "papermill": {
     "duration": 0.084549,
     "end_time": "2022-11-17T20:15:51.195123",
     "exception": false,
     "start_time": "2022-11-17T20:15:51.110574",
     "status": "completed"
    },
    "tags": []
   },
   "outputs": [],
   "source": [
    "new_model = Model(layers[:-2])\n",
    "testing_plot = new_model(testing_data_x)"
   ]
  },
  {
   "cell_type": "code",
   "execution_count": 26,
   "id": "4c0a5485",
   "metadata": {
    "execution": {
     "iopub.execute_input": "2022-11-17T20:15:51.286496Z",
     "iopub.status.busy": "2022-11-17T20:15:51.285908Z",
     "iopub.status.idle": "2022-11-17T20:15:51.474749Z",
     "shell.execute_reply": "2022-11-17T20:15:51.475201Z"
    },
    "papermill": {
     "duration": 0.236606,
     "end_time": "2022-11-17T20:15:51.475343",
     "exception": false,
     "start_time": "2022-11-17T20:15:51.238737",
     "status": "completed"
    },
    "tags": []
   },
   "outputs": [
    {
     "data": {
      "text/plain": [
       "Text(0.5, 1.0, 'Outputs')"
      ]
     },
     "execution_count": 26,
     "metadata": {},
     "output_type": "execute_result"
    },
    {
     "data": {
      "image/png": "[encoded data removed]",
      "text/plain": [
       "<Figure size 576x504 with 1 Axes>"
      ]
     },
     "metadata": {
      "needs_background": "light"
     },
     "output_type": "display_data"
    }
   ],
   "source": [
    "# Plotting the scatter plot of points and color coding by class\n",
    "plt.figure(figsize=(8,7))\n",
    "plt.scatter(testing_plot[:,0], testing_plot[:,1], alpha = 0.1, c = y_test.ravel());\n",
    "plt.title('Outputs')"
   ]
  },
  {
   "cell_type": "markdown",
   "id": "a74fcf8f",
   "metadata": {
    "papermill": {
     "duration": 0.04511,
     "end_time": "2022-11-17T20:15:51.593282",
     "exception": false,
     "start_time": "2022-11-17T20:15:51.548172",
     "status": "completed"
    },
    "tags": []
   },
   "source": [
    "Probability contours"
   ]
  },
  {
   "cell_type": "code",
   "execution_count": 27,
   "id": "d0afc8e3",
   "metadata": {
    "execution": {
     "iopub.execute_input": "2022-11-17T20:15:51.689299Z",
     "iopub.status.busy": "2022-11-17T20:15:51.687412Z",
     "iopub.status.idle": "2022-11-17T20:15:51.699328Z",
     "shell.execute_reply": "2022-11-17T20:15:51.699782Z"
    },
    "papermill": {
     "duration": 0.061415,
     "end_time": "2022-11-17T20:15:51.699915",
     "exception": false,
     "start_time": "2022-11-17T20:15:51.638500",
     "status": "completed"
    },
    "tags": []
   },
   "outputs": [],
   "source": [
    "model_prob = Model(layers[-2:]) "
   ]
  },
  {
   "cell_type": "code",
   "execution_count": 28,
   "id": "9b96e238",
   "metadata": {
    "execution": {
     "iopub.execute_input": "2022-11-17T20:15:51.796172Z",
     "iopub.status.busy": "2022-11-17T20:15:51.795148Z",
     "iopub.status.idle": "2022-11-17T20:15:51.809579Z",
     "shell.execute_reply": "2022-11-17T20:15:51.810018Z"
    },
    "papermill": {
     "duration": 0.065108,
     "end_time": "2022-11-17T20:15:51.810155",
     "exception": false,
     "start_time": "2022-11-17T20:15:51.745047",
     "status": "completed"
    },
    "tags": []
   },
   "outputs": [],
   "source": [
    "#creating the x and y ranges according to the above generated plot.\n",
    "x_range = np.linspace(-4, 1, 100) \n",
    "y_range = np.linspace(-6, 6, 100) \n",
    "x_grid, y_grid = np.meshgrid(x_range, y_range) # x_grid and y_grig are of size 100 X 100\n",
    "\n",
    "# converting x_grid and y_grid to continuous arrays\n",
    "x_gridflat = np.ravel(x_grid)\n",
    "y_gridflat = np.ravel(y_grid)\n",
    "\n",
    "# The last layer of the current model takes two columns as input. Hence transpose of np.vstack() is required.\n",
    "X = np.vstack((x_gridflat, y_gridflat)).T\n",
    "\n",
    "prob_contour = model_prob(X).reshape(100,100) "
   ]
  },
  {
   "cell_type": "code",
   "execution_count": 29,
   "id": "da72499a",
   "metadata": {
    "execution": {
     "iopub.execute_input": "2022-11-17T20:15:51.908011Z",
     "iopub.status.busy": "2022-11-17T20:15:51.907426Z",
     "iopub.status.idle": "2022-11-17T20:15:52.156381Z",
     "shell.execute_reply": "2022-11-17T20:15:52.156928Z"
    },
    "papermill": {
     "duration": 0.301044,
     "end_time": "2022-11-17T20:15:52.157079",
     "exception": false,
     "start_time": "2022-11-17T20:15:51.856035",
     "status": "completed"
    },
    "tags": []
   },
   "outputs": [
    {
     "data": {
      "image/png": "[encoded data removed]",
      "text/plain": [
       "<Figure size 720x648 with 1 Axes>"
      ]
     },
     "metadata": {
      "needs_background": "light"
     },
     "output_type": "display_data"
    }
   ],
   "source": [
    "plt.figure(figsize=(10,9))\n",
    "plt.scatter(testing_plot[:,0], testing_plot[:,1], alpha = 0.1, c = y_test.ravel())\n",
    "contours = plt.contour(x_grid,y_grid,prob_contour)\n",
    "plt.title('Probability Contours')\n",
    "plt.clabel(contours, inline = True );"
   ]
  },
  {
   "cell_type": "code",
   "execution_count": null,
   "id": "e81b4ac7",
   "metadata": {
    "papermill": {
     "duration": 0.047963,
     "end_time": "2022-11-17T20:15:52.253337",
     "exception": false,
     "start_time": "2022-11-17T20:15:52.205374",
     "status": "completed"
    },
    "tags": []
   },
   "outputs": [],
   "source": []
  }
 ],
 "metadata": {
  "kernelspec": {
   "display_name": "Python 3",
   "language": "python",
   "name": "python3"
  },
  "language_info": {
   "codemirror_mode": {
    "name": "ipython",
    "version": 3
   },
   "file_extension": ".py",
   "mimetype": "text/x-python",
   "name": "python",
   "nbconvert_exporter": "python",
   "pygments_lexer": "ipython3",
   "version": "3.6.15"
  },
  "papermill": {
   "default_parameters": {},
   "duration": 202.634238,
   "end_time": "2022-11-17T20:15:52.718912",
   "environment_variables": {},
   "exception": null,
   "input_path": "2020-08-11-part2.ipynb",
   "output_path": "2020-08-11-part2.ipynb",
   "parameters": {},
   "start_time": "2022-11-17T20:12:30.084674",
   "version": "2.3.3"
  }
 },
 "nbformat": 4,
 "nbformat_minor": 5
}