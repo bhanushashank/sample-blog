{
 "cells": [
  {
   "cell_type": "markdown",
   "id": "98380cd3",
   "metadata": {
    "papermill": {
     "duration": 0.030819,
     "end_time": "2022-09-15T20:12:42.157067",
     "exception": false,
     "start_time": "2022-09-15T20:12:42.126248",
     "status": "completed"
    },
    "tags": []
   },
   "source": [
    "# Distinguish Your Own Digits (DYOD)"
   ]
  },
  {
   "cell_type": "markdown",
   "id": "ef31240d",
   "metadata": {
    "papermill": {
     "duration": 0.02394,
     "end_time": "2022-09-15T20:12:42.205525",
     "exception": false,
     "start_time": "2022-09-15T20:12:42.181585",
     "status": "completed"
    },
    "tags": []
   },
   "source": [
    "You are going to write a classifier that distinguishes between the number 3 and number 8."
   ]
  },
  {
   "cell_type": "code",
   "execution_count": 1,
   "id": "b15c8646",
   "metadata": {
    "execution": {
     "iopub.execute_input": "2022-09-15T20:12:42.264291Z",
     "iopub.status.busy": "2022-09-15T20:12:42.263649Z",
     "iopub.status.idle": "2022-09-15T20:12:42.276217Z",
     "shell.execute_reply": "2022-09-15T20:12:42.275717Z"
    },
    "papermill": {
     "duration": 0.047193,
     "end_time": "2022-09-15T20:12:42.276346",
     "exception": false,
     "start_time": "2022-09-15T20:12:42.229153",
     "status": "completed"
    },
    "tags": []
   },
   "outputs": [],
   "source": [
    "%load_ext autoreload\n",
    "%autoreload 2"
   ]
  },
  {
   "cell_type": "code",
   "execution_count": 2,
   "id": "22ef38dc",
   "metadata": {
    "execution": {
     "iopub.execute_input": "2022-09-15T20:12:42.329083Z",
     "iopub.status.busy": "2022-09-15T20:12:42.328498Z",
     "iopub.status.idle": "2022-09-15T20:12:42.875522Z",
     "shell.execute_reply": "2022-09-15T20:12:42.874887Z"
    },
    "papermill": {
     "duration": 0.575532,
     "end_time": "2022-09-15T20:12:42.875669",
     "exception": false,
     "start_time": "2022-09-15T20:12:42.300137",
     "status": "completed"
    },
    "tags": []
   },
   "outputs": [],
   "source": [
    "%matplotlib inline\n",
    "import numpy as np\n",
    "import matplotlib.pyplot as plt\n",
    "import pandas as pd"
   ]
  },
  {
   "cell_type": "markdown",
   "id": "ba036198",
   "metadata": {
    "papermill": {
     "duration": 0.024093,
     "end_time": "2022-09-15T20:12:42.924116",
     "exception": false,
     "start_time": "2022-09-15T20:12:42.900023",
     "status": "completed"
    },
    "tags": []
   },
   "source": [
    "From the command line run `pip install mnist`. This is a library that will help you bring down the mnist dataset. If you run this from a notebook, you need to put  `!pip install mnist` in a cell by itself."
   ]
  },
  {
   "cell_type": "code",
   "execution_count": 3,
   "id": "bb6ad8a1",
   "metadata": {
    "execution": {
     "iopub.execute_input": "2022-09-15T20:12:42.983528Z",
     "iopub.status.busy": "2022-09-15T20:12:42.982886Z",
     "iopub.status.idle": "2022-09-15T20:12:44.597814Z",
     "shell.execute_reply": "2022-09-15T20:12:44.597227Z"
    },
    "papermill": {
     "duration": 1.649865,
     "end_time": "2022-09-15T20:12:44.597965",
     "exception": false,
     "start_time": "2022-09-15T20:12:42.948100",
     "status": "completed"
    },
    "tags": []
   },
   "outputs": [
    {
     "name": "stdout",
     "output_type": "stream",
     "text": [
      "Collecting mnist\r\n"
     ]
    },
    {
     "name": "stdout",
     "output_type": "stream",
     "text": [
      "  Downloading mnist-0.2.2-py2.py3-none-any.whl (3.5 kB)\r\n",
      "Requirement already satisfied: numpy in /opt/hostedtoolcache/Python/3.6.15/x64/lib/python3.6/site-packages (from mnist) (1.19.5)\r\n"
     ]
    },
    {
     "name": "stdout",
     "output_type": "stream",
     "text": [
      "Installing collected packages: mnist\r\n"
     ]
    },
    {
     "name": "stdout",
     "output_type": "stream",
     "text": [
      "Successfully installed mnist-0.2.2\r\n"
     ]
    }
   ],
   "source": [
    "!pip install mnist"
   ]
  },
  {
   "cell_type": "markdown",
   "id": "69df9c9a",
   "metadata": {
    "papermill": {
     "duration": 0.024691,
     "end_time": "2022-09-15T20:12:44.647801",
     "exception": false,
     "start_time": "2022-09-15T20:12:44.623110",
     "status": "completed"
    },
    "tags": []
   },
   "source": [
    "## Preparing the Data"
   ]
  },
  {
   "cell_type": "code",
   "execution_count": 4,
   "id": "7f69d806",
   "metadata": {
    "execution": {
     "iopub.execute_input": "2022-09-15T20:12:44.701461Z",
     "iopub.status.busy": "2022-09-15T20:12:44.700878Z",
     "iopub.status.idle": "2022-09-15T20:12:44.715663Z",
     "shell.execute_reply": "2022-09-15T20:12:44.715079Z"
    },
    "papermill": {
     "duration": 0.043336,
     "end_time": "2022-09-15T20:12:44.715774",
     "exception": false,
     "start_time": "2022-09-15T20:12:44.672438",
     "status": "completed"
    },
    "tags": []
   },
   "outputs": [],
   "source": [
    "import mnist"
   ]
  },
  {
   "cell_type": "code",
   "execution_count": 5,
   "id": "a411e44f",
   "metadata": {
    "execution": {
     "iopub.execute_input": "2022-09-15T20:12:44.768803Z",
     "iopub.status.busy": "2022-09-15T20:12:44.768215Z",
     "iopub.status.idle": "2022-09-15T20:12:45.341741Z",
     "shell.execute_reply": "2022-09-15T20:12:45.341105Z"
    },
    "papermill": {
     "duration": 0.60135,
     "end_time": "2022-09-15T20:12:45.341876",
     "exception": false,
     "start_time": "2022-09-15T20:12:44.740526",
     "status": "completed"
    },
    "tags": []
   },
   "outputs": [],
   "source": [
    "train_images = mnist.train_images()\n",
    "train_labels = mnist.train_labels()"
   ]
  },
  {
   "cell_type": "code",
   "execution_count": 6,
   "id": "dceab3a5",
   "metadata": {
    "execution": {
     "iopub.execute_input": "2022-09-15T20:12:45.396382Z",
     "iopub.status.busy": "2022-09-15T20:12:45.395788Z",
     "iopub.status.idle": "2022-09-15T20:12:45.411599Z",
     "shell.execute_reply": "2022-09-15T20:12:45.411110Z"
    },
    "papermill": {
     "duration": 0.044564,
     "end_time": "2022-09-15T20:12:45.411710",
     "exception": false,
     "start_time": "2022-09-15T20:12:45.367146",
     "status": "completed"
    },
    "tags": []
   },
   "outputs": [
    {
     "data": {
      "text/plain": [
       "((60000, 28, 28), (60000,))"
      ]
     },
     "execution_count": 6,
     "metadata": {},
     "output_type": "execute_result"
    }
   ],
   "source": [
    "train_images.shape, train_labels.shape"
   ]
  },
  {
   "cell_type": "code",
   "execution_count": 7,
   "id": "f50dc2bb",
   "metadata": {
    "execution": {
     "iopub.execute_input": "2022-09-15T20:12:45.465692Z",
     "iopub.status.busy": "2022-09-15T20:12:45.465117Z",
     "iopub.status.idle": "2022-09-15T20:12:45.629020Z",
     "shell.execute_reply": "2022-09-15T20:12:45.628380Z"
    },
    "papermill": {
     "duration": 0.192315,
     "end_time": "2022-09-15T20:12:45.629151",
     "exception": false,
     "start_time": "2022-09-15T20:12:45.436836",
     "status": "completed"
    },
    "tags": []
   },
   "outputs": [],
   "source": [
    "test_images = mnist.test_images()\n",
    "test_labels = mnist.test_labels()"
   ]
  },
  {
   "cell_type": "code",
   "execution_count": 8,
   "id": "fc38cf1b",
   "metadata": {
    "execution": {
     "iopub.execute_input": "2022-09-15T20:12:45.685789Z",
     "iopub.status.busy": "2022-09-15T20:12:45.685087Z",
     "iopub.status.idle": "2022-09-15T20:12:45.697652Z",
     "shell.execute_reply": "2022-09-15T20:12:45.697181Z"
    },
    "papermill": {
     "duration": 0.043302,
     "end_time": "2022-09-15T20:12:45.697763",
     "exception": false,
     "start_time": "2022-09-15T20:12:45.654461",
     "status": "completed"
    },
    "tags": []
   },
   "outputs": [
    {
     "data": {
      "text/plain": [
       "((10000, 28, 28), (10000,))"
      ]
     },
     "execution_count": 8,
     "metadata": {},
     "output_type": "execute_result"
    }
   ],
   "source": [
    "test_images.shape, test_labels.shape"
   ]
  },
  {
   "cell_type": "code",
   "execution_count": 9,
   "id": "f9ed8fe0",
   "metadata": {
    "execution": {
     "iopub.execute_input": "2022-09-15T20:12:45.751916Z",
     "iopub.status.busy": "2022-09-15T20:12:45.751346Z",
     "iopub.status.idle": "2022-09-15T20:12:45.888753Z",
     "shell.execute_reply": "2022-09-15T20:12:45.889265Z"
    },
    "papermill": {
     "duration": 0.166301,
     "end_time": "2022-09-15T20:12:45.889418",
     "exception": false,
     "start_time": "2022-09-15T20:12:45.723117",
     "status": "completed"
    },
    "tags": []
   },
   "outputs": [
    {
     "name": "stdout",
     "output_type": "stream",
     "text": [
      "2\n"
     ]
    },
    {
     "data": {
      "text/plain": [
       "<matplotlib.image.AxesImage at 0x7f1649fe9940>"
      ]
     },
     "execution_count": 9,
     "metadata": {},
     "output_type": "execute_result"
    },
    {
     "data": {
      "image/png": "[encoded data removed]",
      "text/plain": [
       "<Figure size 432x288 with 1 Axes>"
      ]
     },
     "metadata": {
      "needs_background": "light"
     },
     "output_type": "display_data"
    }
   ],
   "source": [
    "image_index = 7776 # You may select anything up to 60,000\n",
    "print(train_labels[image_index]) \n",
    "plt.imshow(train_images[image_index], cmap='Greys')"
   ]
  },
  {
   "cell_type": "markdown",
   "id": "a8d2388d",
   "metadata": {
    "papermill": {
     "duration": 0.0267,
     "end_time": "2022-09-15T20:12:45.943325",
     "exception": false,
     "start_time": "2022-09-15T20:12:45.916625",
     "status": "completed"
    },
    "tags": []
   },
   "source": [
    "## Filter data to get 3 and 8 out"
   ]
  },
  {
   "cell_type": "code",
   "execution_count": 10,
   "id": "776f7fc7",
   "metadata": {
    "execution": {
     "iopub.execute_input": "2022-09-15T20:12:46.015887Z",
     "iopub.status.busy": "2022-09-15T20:12:46.011836Z",
     "iopub.status.idle": "2022-09-15T20:12:46.021490Z",
     "shell.execute_reply": "2022-09-15T20:12:46.021937Z"
    },
    "papermill": {
     "duration": 0.052265,
     "end_time": "2022-09-15T20:12:46.022066",
     "exception": false,
     "start_time": "2022-09-15T20:12:45.969801",
     "status": "completed"
    },
    "tags": []
   },
   "outputs": [],
   "source": [
    "train_filter = np.where((train_labels == 3 ) | (train_labels == 8))\n",
    "test_filter = np.where((test_labels == 3) | (test_labels == 8))\n",
    "X_train, y_train = train_images[train_filter], train_labels[train_filter]\n",
    "X_test, y_test = test_images[test_filter], test_labels[test_filter]"
   ]
  },
  {
   "cell_type": "markdown",
   "id": "948f0b7e",
   "metadata": {
    "papermill": {
     "duration": 0.026195,
     "end_time": "2022-09-15T20:12:46.074744",
     "exception": false,
     "start_time": "2022-09-15T20:12:46.048549",
     "status": "completed"
    },
    "tags": []
   },
   "source": [
    "We normalize the pizel values in the 0 to 1 range"
   ]
  },
  {
   "cell_type": "code",
   "execution_count": 11,
   "id": "ee4c2166",
   "metadata": {
    "execution": {
     "iopub.execute_input": "2022-09-15T20:12:46.137135Z",
     "iopub.status.busy": "2022-09-15T20:12:46.130660Z",
     "iopub.status.idle": "2022-09-15T20:12:46.178665Z",
     "shell.execute_reply": "2022-09-15T20:12:46.179187Z"
    },
    "papermill": {
     "duration": 0.078295,
     "end_time": "2022-09-15T20:12:46.179359",
     "exception": false,
     "start_time": "2022-09-15T20:12:46.101064",
     "status": "completed"
    },
    "tags": []
   },
   "outputs": [],
   "source": [
    "X_train = X_train/255.\n",
    "X_test = X_test/255."
   ]
  },
  {
   "cell_type": "markdown",
   "id": "ddcf4fab",
   "metadata": {
    "papermill": {
     "duration": 0.026333,
     "end_time": "2022-09-15T20:12:46.233064",
     "exception": false,
     "start_time": "2022-09-15T20:12:46.206731",
     "status": "completed"
    },
    "tags": []
   },
   "source": [
    "And setup the labels as 1 (when the digit is 3) and 0 (when the digit is 8)"
   ]
  },
  {
   "cell_type": "code",
   "execution_count": 12,
   "id": "7dc908f2",
   "metadata": {
    "execution": {
     "iopub.execute_input": "2022-09-15T20:12:46.300521Z",
     "iopub.status.busy": "2022-09-15T20:12:46.299919Z",
     "iopub.status.idle": "2022-09-15T20:12:46.307343Z",
     "shell.execute_reply": "2022-09-15T20:12:46.307792Z"
    },
    "papermill": {
     "duration": 0.048426,
     "end_time": "2022-09-15T20:12:46.307924",
     "exception": false,
     "start_time": "2022-09-15T20:12:46.259498",
     "status": "completed"
    },
    "tags": []
   },
   "outputs": [],
   "source": [
    "y_train = 1*(y_train==3)\n",
    "y_test = 1*(y_test==3)"
   ]
  },
  {
   "cell_type": "code",
   "execution_count": 13,
   "id": "01e4e969",
   "metadata": {
    "execution": {
     "iopub.execute_input": "2022-09-15T20:12:46.370707Z",
     "iopub.status.busy": "2022-09-15T20:12:46.363955Z",
     "iopub.status.idle": "2022-09-15T20:12:46.381191Z",
     "shell.execute_reply": "2022-09-15T20:12:46.380419Z"
    },
    "papermill": {
     "duration": 0.046832,
     "end_time": "2022-09-15T20:12:46.381309",
     "exception": false,
     "start_time": "2022-09-15T20:12:46.334477",
     "status": "completed"
    },
    "tags": []
   },
   "outputs": [
    {
     "data": {
      "text/plain": [
       "((11982, 28, 28), (1984, 28, 28))"
      ]
     },
     "execution_count": 13,
     "metadata": {},
     "output_type": "execute_result"
    }
   ],
   "source": [
    "X_train.shape, X_test.shape"
   ]
  },
  {
   "cell_type": "markdown",
   "id": "5ccf3f85",
   "metadata": {
    "papermill": {
     "duration": 0.026611,
     "end_time": "2022-09-15T20:12:46.434532",
     "exception": false,
     "start_time": "2022-09-15T20:12:46.407921",
     "status": "completed"
    },
    "tags": []
   },
   "source": [
    "We reshape the data to flatten the image pixels into a set of features or co-variates:"
   ]
  },
  {
   "cell_type": "code",
   "execution_count": 14,
   "id": "5286a4a3",
   "metadata": {
    "execution": {
     "iopub.execute_input": "2022-09-15T20:12:46.507063Z",
     "iopub.status.busy": "2022-09-15T20:12:46.503970Z",
     "iopub.status.idle": "2022-09-15T20:12:46.510123Z",
     "shell.execute_reply": "2022-09-15T20:12:46.510540Z"
    },
    "papermill": {
     "duration": 0.049415,
     "end_time": "2022-09-15T20:12:46.510674",
     "exception": false,
     "start_time": "2022-09-15T20:12:46.461259",
     "status": "completed"
    },
    "tags": []
   },
   "outputs": [
    {
     "data": {
      "text/plain": [
       "((11982, 784), (1984, 784))"
      ]
     },
     "execution_count": 14,
     "metadata": {},
     "output_type": "execute_result"
    }
   ],
   "source": [
    "X_train = X_train.reshape(X_train.shape[0], -1)\n",
    "X_test = X_test.reshape(X_test.shape[0], -1)\n",
    "X_train.shape, X_test.shape"
   ]
  },
  {
   "cell_type": "code",
   "execution_count": 15,
   "id": "73c5f88a",
   "metadata": {
    "execution": {
     "iopub.execute_input": "2022-09-15T20:12:46.576280Z",
     "iopub.status.busy": "2022-09-15T20:12:46.575697Z",
     "iopub.status.idle": "2022-09-15T20:12:46.592384Z",
     "shell.execute_reply": "2022-09-15T20:12:46.591802Z"
    },
    "papermill": {
     "duration": 0.05498,
     "end_time": "2022-09-15T20:12:46.592494",
     "exception": false,
     "start_time": "2022-09-15T20:12:46.537514",
     "status": "completed"
    },
    "tags": []
   },
   "outputs": [],
   "source": [
    "#Impoting functions from 'Kudzu'\n",
    "from kudzu.model import Model\n",
    "from kudzu.train import Learner\n",
    "from kudzu.optim import GD\n",
    "from kudzu.data import Data, Sampler,Dataloader\n",
    "\n",
    "from kudzu.callbacks import AccCallback\n",
    "from kudzu.callbacks import ClfCallback\n",
    "\n",
    "from kudzu.loss import MSE\n",
    "\n",
    "from kudzu.layer import Sigmoid,Relu\n",
    "from kudzu.layer import Affine"
   ]
  },
  {
   "cell_type": "markdown",
   "id": "bc01172a",
   "metadata": {
    "papermill": {
     "duration": 0.026831,
     "end_time": "2022-09-15T20:12:46.646309",
     "exception": false,
     "start_time": "2022-09-15T20:12:46.619478",
     "status": "completed"
    },
    "tags": []
   },
   "source": [
    "### Let us create a `Config` class, to store important parameters. \n",
    "This class essentially plays the role of a dictionary."
   ]
  },
  {
   "cell_type": "code",
   "execution_count": 16,
   "id": "978281aa",
   "metadata": {
    "execution": {
     "iopub.execute_input": "2022-09-15T20:12:46.712093Z",
     "iopub.status.busy": "2022-09-15T20:12:46.711482Z",
     "iopub.status.idle": "2022-09-15T20:12:46.720943Z",
     "shell.execute_reply": "2022-09-15T20:12:46.720476Z"
    },
    "papermill": {
     "duration": 0.047928,
     "end_time": "2022-09-15T20:12:46.721053",
     "exception": false,
     "start_time": "2022-09-15T20:12:46.673125",
     "status": "completed"
    },
    "tags": []
   },
   "outputs": [],
   "source": [
    "class Config:\n",
    "    pass\n",
    "config = Config()\n",
    "config.lr = 0.001\n",
    "config.num_epochs = 250\n",
    "config.bs = 50"
   ]
  },
  {
   "cell_type": "markdown",
   "id": "1385fa59",
   "metadata": {
    "papermill": {
     "duration": 0.026666,
     "end_time": "2022-09-15T20:12:46.774594",
     "exception": false,
     "start_time": "2022-09-15T20:12:46.747928",
     "status": "completed"
    },
    "tags": []
   },
   "source": [
    "### Running Models with the Training data\n",
    "Details about the network layers:\n",
    "- A first affine layer has 784 inputs and does 100 affine transforms. These are followed by a Relu\n",
    "- A second affine layer has 100 inputs from the 100 activations of the past layer, and does 100 affine transforms. These are followed by a Relu\n",
    "- A third affine layer has 100 activations and does 2 affine transformations to create an embedding for visualization. There is no non-linearity here.\n",
    "- A final \"logistic regression\" which has an affine transform from 2 inputs to 1 output, which is squeezed through a sigmoid.\n"
   ]
  },
  {
   "cell_type": "code",
   "execution_count": 17,
   "id": "2b9c66db",
   "metadata": {
    "execution": {
     "iopub.execute_input": "2022-09-15T20:12:46.836397Z",
     "iopub.status.busy": "2022-09-15T20:12:46.835805Z",
     "iopub.status.idle": "2022-09-15T20:12:46.846309Z",
     "shell.execute_reply": "2022-09-15T20:12:46.846862Z"
    },
    "papermill": {
     "duration": 0.045526,
     "end_time": "2022-09-15T20:12:46.847017",
     "exception": false,
     "start_time": "2022-09-15T20:12:46.801491",
     "status": "completed"
    },
    "tags": []
   },
   "outputs": [],
   "source": [
    "data = Data(X_train, y_train.reshape(-1,1))\n",
    "sampler = Sampler(data, config.bs, shuffle=True)\n",
    "\n",
    "dl = Dataloader(data, sampler)\n",
    "\n",
    "opt = GD(config.lr)\n",
    "loss = MSE()"
   ]
  },
  {
   "cell_type": "code",
   "execution_count": 18,
   "id": "b275e4c2",
   "metadata": {
    "execution": {
     "iopub.execute_input": "2022-09-15T20:12:46.916737Z",
     "iopub.status.busy": "2022-09-15T20:12:46.915842Z",
     "iopub.status.idle": "2022-09-15T20:12:46.921667Z",
     "shell.execute_reply": "2022-09-15T20:12:46.921200Z"
    },
    "papermill": {
     "duration": 0.047807,
     "end_time": "2022-09-15T20:12:46.921777",
     "exception": false,
     "start_time": "2022-09-15T20:12:46.873970",
     "status": "completed"
    },
    "tags": []
   },
   "outputs": [],
   "source": [
    "training_data_x = X_train\n",
    "testing_data_x = X_test\n",
    "training_data_y = y_train.reshape(-1,1)\n",
    "testing_data_y = y_test.reshape(-1,1)"
   ]
  },
  {
   "cell_type": "code",
   "execution_count": 19,
   "id": "76951160",
   "metadata": {
    "execution": {
     "iopub.execute_input": "2022-09-15T20:12:46.983767Z",
     "iopub.status.busy": "2022-09-15T20:12:46.978834Z",
     "iopub.status.idle": "2022-09-15T20:12:46.995478Z",
     "shell.execute_reply": "2022-09-15T20:12:46.996037Z"
    },
    "papermill": {
     "duration": 0.047711,
     "end_time": "2022-09-15T20:12:46.996171",
     "exception": false,
     "start_time": "2022-09-15T20:12:46.948460",
     "status": "completed"
    },
    "tags": []
   },
   "outputs": [
    {
     "name": "stdout",
     "output_type": "stream",
     "text": [
      "xavier\n",
      "xavier\n",
      "xavier\n",
      "xavier\n",
      "xavier\n"
     ]
    }
   ],
   "source": [
    "layers = [Affine(\"first\", 784, 100), Relu(\"first\"), Affine(\"second\", 100, 100), Relu(\"second\"), Affine(\"third\", 100, 2), Affine(\"last\", 2, 1), Sigmoid(\"last\")]\n",
    "model_nn = Model(layers)\n",
    "model_lr = Model([Affine(\"logits\", 784, 1), Sigmoid(\"sigmoid\")])"
   ]
  },
  {
   "cell_type": "code",
   "execution_count": 20,
   "id": "6eede77a",
   "metadata": {
    "execution": {
     "iopub.execute_input": "2022-09-15T20:12:47.054940Z",
     "iopub.status.busy": "2022-09-15T20:12:47.054368Z",
     "iopub.status.idle": "2022-09-15T20:12:47.066998Z",
     "shell.execute_reply": "2022-09-15T20:12:47.066404Z"
    },
    "papermill": {
     "duration": 0.043697,
     "end_time": "2022-09-15T20:12:47.067116",
     "exception": false,
     "start_time": "2022-09-15T20:12:47.023419",
     "status": "completed"
    },
    "tags": []
   },
   "outputs": [],
   "source": [
    "nn_learner = Learner(loss, model_nn, opt, config.num_epochs)\n",
    "acc_nn = ClfCallback(nn_learner, config.bs, training_data_x , testing_data_x, training_data_y, testing_data_y)\n",
    "nn_learner.set_callbacks([acc_nn])"
   ]
  },
  {
   "cell_type": "code",
   "execution_count": 21,
   "id": "877b6cc7",
   "metadata": {
    "execution": {
     "iopub.execute_input": "2022-09-15T20:12:47.126116Z",
     "iopub.status.busy": "2022-09-15T20:12:47.125530Z",
     "iopub.status.idle": "2022-09-15T20:12:47.138396Z",
     "shell.execute_reply": "2022-09-15T20:12:47.137925Z"
    },
    "papermill": {
     "duration": 0.04403,
     "end_time": "2022-09-15T20:12:47.138510",
     "exception": false,
     "start_time": "2022-09-15T20:12:47.094480",
     "status": "completed"
    },
    "tags": []
   },
   "outputs": [],
   "source": [
    "lr_learner = Learner(loss, model_lr, opt, config.num_epochs)\n",
    "acc_lr = ClfCallback(lr_learner, config.bs, training_data_x , testing_data_x, training_data_y, testing_data_y)\n",
    "lr_learner.set_callbacks([acc_lr])"
   ]
  },
  {
   "cell_type": "code",
   "execution_count": 22,
   "id": "d9b133c3",
   "metadata": {
    "execution": {
     "iopub.execute_input": "2022-09-15T20:12:47.197597Z",
     "iopub.status.busy": "2022-09-15T20:12:47.197020Z",
     "iopub.status.idle": "2022-09-15T20:14:02.445963Z",
     "shell.execute_reply": "2022-09-15T20:14:02.446832Z"
    },
    "papermill": {
     "duration": 75.281154,
     "end_time": "2022-09-15T20:14:02.447015",
     "exception": false,
     "start_time": "2022-09-15T20:12:47.165861",
     "status": "completed"
    },
    "tags": []
   },
   "outputs": [
    {
     "name": "stdout",
     "output_type": "stream",
     "text": [
      "Epoch 0, Loss 0.251\n",
      "Training Accuracy: 0.6177, Testing Accuracy: 0.6048\n",
      "\n"
     ]
    },
    {
     "name": "stdout",
     "output_type": "stream",
     "text": [
      "Epoch 10, Loss 0.1169\n",
      "Training Accuracy: 0.9079, Testing Accuracy: 0.9057\n",
      "\n"
     ]
    },
    {
     "name": "stdout",
     "output_type": "stream",
     "text": [
      "Epoch 20, Loss 0.0646\n",
      "Training Accuracy: 0.9368, Testing Accuracy: 0.9466\n",
      "\n"
     ]
    },
    {
     "name": "stdout",
     "output_type": "stream",
     "text": [
      "Epoch 30, Loss 0.0485\n",
      "Training Accuracy: 0.9490, Testing Accuracy: 0.9551\n",
      "\n"
     ]
    },
    {
     "name": "stdout",
     "output_type": "stream",
     "text": [
      "Epoch 40, Loss 0.0412\n",
      "Training Accuracy: 0.9543, Testing Accuracy: 0.9602\n",
      "\n"
     ]
    },
    {
     "name": "stdout",
     "output_type": "stream",
     "text": [
      "Epoch 50, Loss 0.037\n",
      "Training Accuracy: 0.9579, Testing Accuracy: 0.9642\n",
      "\n"
     ]
    },
    {
     "name": "stdout",
     "output_type": "stream",
     "text": [
      "Epoch 60, Loss 0.0342\n",
      "Training Accuracy: 0.9600, Testing Accuracy: 0.9657\n",
      "\n"
     ]
    },
    {
     "name": "stdout",
     "output_type": "stream",
     "text": [
      "Epoch 70, Loss 0.0321\n",
      "Training Accuracy: 0.9629, Testing Accuracy: 0.9667\n",
      "\n"
     ]
    },
    {
     "name": "stdout",
     "output_type": "stream",
     "text": [
      "Epoch 80, Loss 0.0304\n",
      "Training Accuracy: 0.9649, Testing Accuracy: 0.9677\n",
      "\n"
     ]
    },
    {
     "name": "stdout",
     "output_type": "stream",
     "text": [
      "Epoch 90, Loss 0.0291\n",
      "Training Accuracy: 0.9659, Testing Accuracy: 0.9682\n",
      "\n"
     ]
    },
    {
     "name": "stdout",
     "output_type": "stream",
     "text": [
      "Epoch 100, Loss 0.028\n",
      "Training Accuracy: 0.9665, Testing Accuracy: 0.9693\n",
      "\n"
     ]
    },
    {
     "name": "stdout",
     "output_type": "stream",
     "text": [
      "Epoch 110, Loss 0.027\n",
      "Training Accuracy: 0.9683, Testing Accuracy: 0.9688\n",
      "\n"
     ]
    },
    {
     "name": "stdout",
     "output_type": "stream",
     "text": [
      "Epoch 120, Loss 0.0261\n",
      "Training Accuracy: 0.9694, Testing Accuracy: 0.9703\n",
      "\n"
     ]
    },
    {
     "name": "stdout",
     "output_type": "stream",
     "text": [
      "Epoch 130, Loss 0.0254\n",
      "Training Accuracy: 0.9705, Testing Accuracy: 0.9698\n",
      "\n"
     ]
    },
    {
     "name": "stdout",
     "output_type": "stream",
     "text": [
      "Epoch 140, Loss 0.0247\n",
      "Training Accuracy: 0.9707, Testing Accuracy: 0.9693\n",
      "\n"
     ]
    },
    {
     "name": "stdout",
     "output_type": "stream",
     "text": [
      "Epoch 150, Loss 0.0241\n",
      "Training Accuracy: 0.9717, Testing Accuracy: 0.9688\n",
      "\n"
     ]
    },
    {
     "name": "stdout",
     "output_type": "stream",
     "text": [
      "Epoch 160, Loss 0.0235\n",
      "Training Accuracy: 0.9729, Testing Accuracy: 0.9698\n",
      "\n"
     ]
    },
    {
     "name": "stdout",
     "output_type": "stream",
     "text": [
      "Epoch 170, Loss 0.0229\n",
      "Training Accuracy: 0.9740, Testing Accuracy: 0.9708\n",
      "\n"
     ]
    },
    {
     "name": "stdout",
     "output_type": "stream",
     "text": [
      "Epoch 180, Loss 0.0224\n",
      "Training Accuracy: 0.9746, Testing Accuracy: 0.9708\n",
      "\n"
     ]
    },
    {
     "name": "stdout",
     "output_type": "stream",
     "text": [
      "Epoch 190, Loss 0.022\n",
      "Training Accuracy: 0.9745, Testing Accuracy: 0.9713\n",
      "\n"
     ]
    },
    {
     "name": "stdout",
     "output_type": "stream",
     "text": [
      "Epoch 200, Loss 0.0215\n",
      "Training Accuracy: 0.9754, Testing Accuracy: 0.9713\n",
      "\n"
     ]
    },
    {
     "name": "stdout",
     "output_type": "stream",
     "text": [
      "Epoch 210, Loss 0.0211\n",
      "Training Accuracy: 0.9755, Testing Accuracy: 0.9738\n",
      "\n"
     ]
    },
    {
     "name": "stdout",
     "output_type": "stream",
     "text": [
      "Epoch 220, Loss 0.0207\n",
      "Training Accuracy: 0.9762, Testing Accuracy: 0.9743\n",
      "\n"
     ]
    },
    {
     "name": "stdout",
     "output_type": "stream",
     "text": [
      "Epoch 230, Loss 0.0203\n",
      "Training Accuracy: 0.9766, Testing Accuracy: 0.9748\n",
      "\n"
     ]
    },
    {
     "name": "stdout",
     "output_type": "stream",
     "text": [
      "Epoch 240, Loss 0.0199\n",
      "Training Accuracy: 0.9772, Testing Accuracy: 0.9753\n",
      "\n"
     ]
    },
    {
     "data": {
      "text/plain": [
       "0.011691176342415247"
      ]
     },
     "execution_count": 22,
     "metadata": {},
     "output_type": "execute_result"
    }
   ],
   "source": [
    "nn_learner.train_loop(dl)"
   ]
  },
  {
   "cell_type": "code",
   "execution_count": 23,
   "id": "e0163366",
   "metadata": {
    "execution": {
     "iopub.execute_input": "2022-09-15T20:14:02.531566Z",
     "iopub.status.busy": "2022-09-15T20:14:02.530912Z",
     "iopub.status.idle": "2022-09-15T20:14:16.217615Z",
     "shell.execute_reply": "2022-09-15T20:14:16.218460Z"
    },
    "papermill": {
     "duration": 13.736175,
     "end_time": "2022-09-15T20:14:16.218612",
     "exception": false,
     "start_time": "2022-09-15T20:14:02.482437",
     "status": "completed"
    },
    "tags": []
   },
   "outputs": [
    {
     "name": "stdout",
     "output_type": "stream",
     "text": [
      "Epoch 0, Loss 0.2046\n",
      "Training Accuracy: 0.8114, Testing Accuracy: 0.8175\n",
      "\n"
     ]
    },
    {
     "name": "stdout",
     "output_type": "stream",
     "text": [
      "Epoch 10, Loss 0.0966\n",
      "Training Accuracy: 0.9195, Testing Accuracy: 0.9224\n",
      "\n"
     ]
    },
    {
     "name": "stdout",
     "output_type": "stream",
     "text": [
      "Epoch 20, Loss 0.0761\n",
      "Training Accuracy: 0.9313, Testing Accuracy: 0.9390\n",
      "\n"
     ]
    },
    {
     "name": "stdout",
     "output_type": "stream",
     "text": [
      "Epoch 30, Loss 0.0663\n",
      "Training Accuracy: 0.9370, Testing Accuracy: 0.9456\n",
      "\n"
     ]
    },
    {
     "name": "stdout",
     "output_type": "stream",
     "text": [
      "Epoch 40, Loss 0.0603\n",
      "Training Accuracy: 0.9415, Testing Accuracy: 0.9506\n",
      "\n"
     ]
    },
    {
     "name": "stdout",
     "output_type": "stream",
     "text": [
      "Epoch 50, Loss 0.0561\n",
      "Training Accuracy: 0.9448, Testing Accuracy: 0.9541\n",
      "\n"
     ]
    },
    {
     "name": "stdout",
     "output_type": "stream",
     "text": [
      "Epoch 60, Loss 0.053\n",
      "Training Accuracy: 0.9473, Testing Accuracy: 0.9567\n",
      "\n"
     ]
    },
    {
     "name": "stdout",
     "output_type": "stream",
     "text": [
      "Epoch 70, Loss 0.0506\n",
      "Training Accuracy: 0.9493, Testing Accuracy: 0.9582\n",
      "\n"
     ]
    },
    {
     "name": "stdout",
     "output_type": "stream",
     "text": [
      "Epoch 80, Loss 0.0487\n",
      "Training Accuracy: 0.9507, Testing Accuracy: 0.9597\n",
      "\n"
     ]
    },
    {
     "name": "stdout",
     "output_type": "stream",
     "text": [
      "Epoch 90, Loss 0.047\n",
      "Training Accuracy: 0.9530, Testing Accuracy: 0.9587\n",
      "\n"
     ]
    },
    {
     "name": "stdout",
     "output_type": "stream",
     "text": [
      "Epoch 100, Loss 0.0457\n",
      "Training Accuracy: 0.9540, Testing Accuracy: 0.9602\n",
      "\n"
     ]
    },
    {
     "name": "stdout",
     "output_type": "stream",
     "text": [
      "Epoch 110, Loss 0.0445\n",
      "Training Accuracy: 0.9550, Testing Accuracy: 0.9617\n",
      "\n"
     ]
    },
    {
     "name": "stdout",
     "output_type": "stream",
     "text": [
      "Epoch 120, Loss 0.0435\n",
      "Training Accuracy: 0.9550, Testing Accuracy: 0.9632\n",
      "\n"
     ]
    },
    {
     "name": "stdout",
     "output_type": "stream",
     "text": [
      "Epoch 130, Loss 0.0426\n",
      "Training Accuracy: 0.9560, Testing Accuracy: 0.9632\n",
      "\n"
     ]
    },
    {
     "name": "stdout",
     "output_type": "stream",
     "text": [
      "Epoch 140, Loss 0.0418\n",
      "Training Accuracy: 0.9568, Testing Accuracy: 0.9632\n",
      "\n"
     ]
    },
    {
     "name": "stdout",
     "output_type": "stream",
     "text": [
      "Epoch 150, Loss 0.041\n",
      "Training Accuracy: 0.9577, Testing Accuracy: 0.9637\n",
      "\n"
     ]
    },
    {
     "name": "stdout",
     "output_type": "stream",
     "text": [
      "Epoch 160, Loss 0.0404\n",
      "Training Accuracy: 0.9583, Testing Accuracy: 0.9642\n",
      "\n"
     ]
    },
    {
     "name": "stdout",
     "output_type": "stream",
     "text": [
      "Epoch 170, Loss 0.0398\n",
      "Training Accuracy: 0.9585, Testing Accuracy: 0.9647\n",
      "\n"
     ]
    },
    {
     "name": "stdout",
     "output_type": "stream",
     "text": [
      "Epoch 180, Loss 0.0392\n",
      "Training Accuracy: 0.9588, Testing Accuracy: 0.9657\n",
      "\n"
     ]
    },
    {
     "name": "stdout",
     "output_type": "stream",
     "text": [
      "Epoch 190, Loss 0.0387\n",
      "Training Accuracy: 0.9592, Testing Accuracy: 0.9657\n",
      "\n"
     ]
    },
    {
     "name": "stdout",
     "output_type": "stream",
     "text": [
      "Epoch 200, Loss 0.0383\n",
      "Training Accuracy: 0.9594, Testing Accuracy: 0.9657\n",
      "\n"
     ]
    },
    {
     "name": "stdout",
     "output_type": "stream",
     "text": [
      "Epoch 210, Loss 0.0378\n",
      "Training Accuracy: 0.9596, Testing Accuracy: 0.9657\n",
      "\n"
     ]
    },
    {
     "name": "stdout",
     "output_type": "stream",
     "text": [
      "Epoch 220, Loss 0.0374\n",
      "Training Accuracy: 0.9599, Testing Accuracy: 0.9662\n",
      "\n"
     ]
    },
    {
     "name": "stdout",
     "output_type": "stream",
     "text": [
      "Epoch 230, Loss 0.037\n",
      "Training Accuracy: 0.9605, Testing Accuracy: 0.9657\n",
      "\n"
     ]
    },
    {
     "name": "stdout",
     "output_type": "stream",
     "text": [
      "Epoch 240, Loss 0.0367\n",
      "Training Accuracy: 0.9610, Testing Accuracy: 0.9667\n",
      "\n"
     ]
    },
    {
     "data": {
      "text/plain": [
       "0.0306643719880896"
      ]
     },
     "execution_count": 23,
     "metadata": {},
     "output_type": "execute_result"
    }
   ],
   "source": [
    "lr_learner.train_loop(dl)"
   ]
  },
  {
   "cell_type": "code",
   "execution_count": 24,
   "id": "ca410940",
   "metadata": {
    "execution": {
     "iopub.execute_input": "2022-09-15T20:14:16.312629Z",
     "iopub.status.busy": "2022-09-15T20:14:16.312014Z",
     "iopub.status.idle": "2022-09-15T20:14:16.546502Z",
     "shell.execute_reply": "2022-09-15T20:14:16.545999Z"
    },
    "papermill": {
     "duration": 0.286173,
     "end_time": "2022-09-15T20:14:16.546624",
     "exception": false,
     "start_time": "2022-09-15T20:14:16.260451",
     "status": "completed"
    },
    "tags": []
   },
   "outputs": [
    {
     "data": {
      "text/plain": [
       "<matplotlib.legend.Legend at 0x7f163a6864e0>"
      ]
     },
     "execution_count": 24,
     "metadata": {},
     "output_type": "execute_result"
    },
    {
     "data": {
      "image/png": "[encoded data removed]",
      "text/plain": [
       "<Figure size 1080x720 with 1 Axes>"
      ]
     },
     "metadata": {
      "needs_background": "light"
     },
     "output_type": "display_data"
    }
   ],
   "source": [
    "#comparing the results of NN and LR\n",
    "plt.figure(figsize=(15,10))\n",
    "\n",
    "# Neural Network plots\n",
    "plt.plot(acc_nn.accuracies, 'r-', label = \"Training Accuracies - NN\")\n",
    "plt.plot(acc_nn.test_accuracies, 'g-', label = \"Testing Accuracies - NN\")\n",
    "\n",
    "# Logistic Regression plots\n",
    "plt.plot(acc_lr.accuracies, 'k-', label = \"Training Accuracies - LR\")\n",
    "plt.plot(acc_lr.test_accuracies, 'b-', label = \"Testing Accuracies - LR\")\n",
    "plt.legend()"
   ]
  },
  {
   "cell_type": "markdown",
   "id": "80dfb35c",
   "metadata": {
    "papermill": {
     "duration": 0.041797,
     "end_time": "2022-09-15T20:14:16.630763",
     "exception": false,
     "start_time": "2022-09-15T20:14:16.588966",
     "status": "completed"
    },
    "tags": []
   },
   "source": [
    "#### Plotting the outputs of this layer of the NN.\n"
   ]
  },
  {
   "cell_type": "code",
   "execution_count": 25,
   "id": "45eb2ff5",
   "metadata": {
    "execution": {
     "iopub.execute_input": "2022-09-15T20:14:16.723704Z",
     "iopub.status.busy": "2022-09-15T20:14:16.719782Z",
     "iopub.status.idle": "2022-09-15T20:14:16.741006Z",
     "shell.execute_reply": "2022-09-15T20:14:16.740539Z"
    },
    "papermill": {
     "duration": 0.068519,
     "end_time": "2022-09-15T20:14:16.741127",
     "exception": false,
     "start_time": "2022-09-15T20:14:16.672608",
     "status": "completed"
    },
    "tags": []
   },
   "outputs": [],
   "source": [
    "new_model = Model(layers[:-2])\n",
    "testing_plot = new_model(testing_data_x)"
   ]
  },
  {
   "cell_type": "code",
   "execution_count": 26,
   "id": "4c0a5485",
   "metadata": {
    "execution": {
     "iopub.execute_input": "2022-09-15T20:14:16.831619Z",
     "iopub.status.busy": "2022-09-15T20:14:16.830933Z",
     "iopub.status.idle": "2022-09-15T20:14:17.033994Z",
     "shell.execute_reply": "2022-09-15T20:14:17.034424Z"
    },
    "papermill": {
     "duration": 0.250347,
     "end_time": "2022-09-15T20:14:17.034571",
     "exception": false,
     "start_time": "2022-09-15T20:14:16.784224",
     "status": "completed"
    },
    "tags": []
   },
   "outputs": [
    {
     "data": {
      "text/plain": [
       "Text(0.5, 1.0, 'Outputs')"
      ]
     },
     "execution_count": 26,
     "metadata": {},
     "output_type": "execute_result"
    },
    {
     "data": {
      "image/png": "[encoded data removed]",
      "text/plain": [
       "<Figure size 576x504 with 1 Axes>"
      ]
     },
     "metadata": {
      "needs_background": "light"
     },
     "output_type": "display_data"
    }
   ],
   "source": [
    "# Plotting the scatter plot of points and color coding by class\n",
    "plt.figure(figsize=(8,7))\n",
    "plt.scatter(testing_plot[:,0], testing_plot[:,1], alpha = 0.1, c = y_test.ravel());\n",
    "plt.title('Outputs')"
   ]
  },
  {
   "cell_type": "markdown",
   "id": "a74fcf8f",
   "metadata": {
    "papermill": {
     "duration": 0.043885,
     "end_time": "2022-09-15T20:14:17.122654",
     "exception": false,
     "start_time": "2022-09-15T20:14:17.078769",
     "status": "completed"
    },
    "tags": []
   },
   "source": [
    "Probability contours"
   ]
  },
  {
   "cell_type": "code",
   "execution_count": 27,
   "id": "d0afc8e3",
   "metadata": {
    "execution": {
     "iopub.execute_input": "2022-09-15T20:14:17.245824Z",
     "iopub.status.busy": "2022-09-15T20:14:17.245143Z",
     "iopub.status.idle": "2022-09-15T20:14:17.258451Z",
     "shell.execute_reply": "2022-09-15T20:14:17.259235Z"
    },
    "papermill": {
     "duration": 0.092508,
     "end_time": "2022-09-15T20:14:17.259372",
     "exception": false,
     "start_time": "2022-09-15T20:14:17.166864",
     "status": "completed"
    },
    "tags": []
   },
   "outputs": [],
   "source": [
    "model_prob = Model(layers[-2:]) "
   ]
  },
  {
   "cell_type": "code",
   "execution_count": 28,
   "id": "9b96e238",
   "metadata": {
    "execution": {
     "iopub.execute_input": "2022-09-15T20:14:17.357880Z",
     "iopub.status.busy": "2022-09-15T20:14:17.356968Z",
     "iopub.status.idle": "2022-09-15T20:14:17.370308Z",
     "shell.execute_reply": "2022-09-15T20:14:17.369724Z"
    },
    "papermill": {
     "duration": 0.066944,
     "end_time": "2022-09-15T20:14:17.370425",
     "exception": false,
     "start_time": "2022-09-15T20:14:17.303481",
     "status": "completed"
    },
    "tags": []
   },
   "outputs": [],
   "source": [
    "#creating the x and y ranges according to the above generated plot.\n",
    "x_range = np.linspace(-4, 1, 100) \n",
    "y_range = np.linspace(-6, 6, 100) \n",
    "x_grid, y_grid = np.meshgrid(x_range, y_range) # x_grid and y_grig are of size 100 X 100\n",
    "\n",
    "# converting x_grid and y_grid to continuous arrays\n",
    "x_gridflat = np.ravel(x_grid)\n",
    "y_gridflat = np.ravel(y_grid)\n",
    "\n",
    "# The last layer of the current model takes two columns as input. Hence transpose of np.vstack() is required.\n",
    "X = np.vstack((x_gridflat, y_gridflat)).T\n",
    "\n",
    "prob_contour = model_prob(X).reshape(100,100) "
   ]
  },
  {
   "cell_type": "code",
   "execution_count": 29,
   "id": "da72499a",
   "metadata": {
    "execution": {
     "iopub.execute_input": "2022-09-15T20:14:17.484287Z",
     "iopub.status.busy": "2022-09-15T20:14:17.483685Z",
     "iopub.status.idle": "2022-09-15T20:14:17.728947Z",
     "shell.execute_reply": "2022-09-15T20:14:17.728448Z"
    },
    "papermill": {
     "duration": 0.30125,
     "end_time": "2022-09-15T20:14:17.729070",
     "exception": false,
     "start_time": "2022-09-15T20:14:17.427820",
     "status": "completed"
    },
    "tags": []
   },
   "outputs": [
    {
     "data": {
      "image/png": "[encoded data removed]",
      "text/plain": [
       "<Figure size 720x648 with 1 Axes>"
      ]
     },
     "metadata": {
      "needs_background": "light"
     },
     "output_type": "display_data"
    }
   ],
   "source": [
    "plt.figure(figsize=(10,9))\n",
    "plt.scatter(testing_plot[:,0], testing_plot[:,1], alpha = 0.1, c = y_test.ravel())\n",
    "contours = plt.contour(x_grid,y_grid,prob_contour)\n",
    "plt.title('Probability Contours')\n",
    "plt.clabel(contours, inline = True );"
   ]
  },
  {
   "cell_type": "code",
   "execution_count": null,
   "id": "e81b4ac7",
   "metadata": {
    "papermill": {
     "duration": 0.046519,
     "end_time": "2022-09-15T20:14:17.824536",
     "exception": false,
     "start_time": "2022-09-15T20:14:17.778017",
     "status": "completed"
    },
    "tags": []
   },
   "outputs": [],
   "source": []
  }
 ],
 "metadata": {
  "kernelspec": {
   "display_name": "Python 3",
   "language": "python",
   "name": "python3"
  },
  "language_info": {
   "codemirror_mode": {
    "name": "ipython",
    "version": 3
   },
   "file_extension": ".py",
   "mimetype": "text/x-python",
   "name": "python",
   "nbconvert_exporter": "python",
   "pygments_lexer": "ipython3",
   "version": "3.6.15"
  },
  "papermill": {
   "default_parameters": {},
   "duration": 97.107781,
   "end_time": "2022-09-15T20:14:18.291377",
   "environment_variables": {},
   "exception": null,
   "input_path": "2020-08-11-part2.ipynb",
   "output_path": "2020-08-11-part2.ipynb",
   "parameters": {},
   "start_time": "2022-09-15T20:12:41.183596",
   "version": "2.3.3"
  }
 },
 "nbformat": 4,
 "nbformat_minor": 5
}