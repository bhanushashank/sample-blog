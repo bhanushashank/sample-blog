{
 "cells": [
  {
   "cell_type": "markdown",
   "id": "98380cd3",
   "metadata": {
    "papermill": {
     "duration": 0.027124,
     "end_time": "2022-04-30T00:40:40.058671",
     "exception": false,
     "start_time": "2022-04-30T00:40:40.031547",
     "status": "completed"
    },
    "tags": []
   },
   "source": [
    "# Distinguish Your Own Digits (DYOD)"
   ]
  },
  {
   "cell_type": "markdown",
   "id": "ef31240d",
   "metadata": {
    "papermill": {
     "duration": 0.022641,
     "end_time": "2022-04-30T00:40:40.103265",
     "exception": false,
     "start_time": "2022-04-30T00:40:40.080624",
     "status": "completed"
    },
    "tags": []
   },
   "source": [
    "You are going to write a classifier that distinguishes between the number 3 and number 8."
   ]
  },
  {
   "cell_type": "code",
   "execution_count": 1,
   "id": "b15c8646",
   "metadata": {
    "execution": {
     "iopub.execute_input": "2022-04-30T00:40:40.156110Z",
     "iopub.status.busy": "2022-04-30T00:40:40.155603Z",
     "iopub.status.idle": "2022-04-30T00:40:40.167536Z",
     "shell.execute_reply": "2022-04-30T00:40:40.167986Z"
    },
    "papermill": {
     "duration": 0.043775,
     "end_time": "2022-04-30T00:40:40.168152",
     "exception": false,
     "start_time": "2022-04-30T00:40:40.124377",
     "status": "completed"
    },
    "tags": []
   },
   "outputs": [],
   "source": [
    "%load_ext autoreload\n",
    "%autoreload 2"
   ]
  },
  {
   "cell_type": "code",
   "execution_count": 2,
   "id": "22ef38dc",
   "metadata": {
    "execution": {
     "iopub.execute_input": "2022-04-30T00:40:40.214995Z",
     "iopub.status.busy": "2022-04-30T00:40:40.214531Z",
     "iopub.status.idle": "2022-04-30T00:40:40.711530Z",
     "shell.execute_reply": "2022-04-30T00:40:40.711052Z"
    },
    "papermill": {
     "duration": 0.522188,
     "end_time": "2022-04-30T00:40:40.711660",
     "exception": false,
     "start_time": "2022-04-30T00:40:40.189472",
     "status": "completed"
    },
    "tags": []
   },
   "outputs": [],
   "source": [
    "%matplotlib inline\n",
    "import numpy as np\n",
    "import matplotlib.pyplot as plt\n",
    "import pandas as pd"
   ]
  },
  {
   "cell_type": "markdown",
   "id": "ba036198",
   "metadata": {
    "papermill": {
     "duration": 0.021202,
     "end_time": "2022-04-30T00:40:40.754764",
     "exception": false,
     "start_time": "2022-04-30T00:40:40.733562",
     "status": "completed"
    },
    "tags": []
   },
   "source": [
    "From the command line run `pip install mnist`. This is a library that will help you bring down the mnist dataset. If you run this from a notebook, you need to put  `!pip install mnist` in a cell by itself."
   ]
  },
  {
   "cell_type": "code",
   "execution_count": 3,
   "id": "bb6ad8a1",
   "metadata": {
    "execution": {
     "iopub.execute_input": "2022-04-30T00:40:40.801611Z",
     "iopub.status.busy": "2022-04-30T00:40:40.801145Z",
     "iopub.status.idle": "2022-04-30T00:40:42.805318Z",
     "shell.execute_reply": "2022-04-30T00:40:42.805714Z"
    },
    "papermill": {
     "duration": 2.029867,
     "end_time": "2022-04-30T00:40:42.805848",
     "exception": false,
     "start_time": "2022-04-30T00:40:40.775981",
     "status": "completed"
    },
    "tags": []
   },
   "outputs": [
    {
     "name": "stdout",
     "output_type": "stream",
     "text": [
      "Collecting mnist\r\n",
      "  Downloading mnist-0.2.2-py2.py3-none-any.whl (3.5 kB)\r\n"
     ]
    },
    {
     "name": "stdout",
     "output_type": "stream",
     "text": [
      "Requirement already satisfied: numpy in /opt/hostedtoolcache/Python/3.6.15/x64/lib/python3.6/site-packages (from mnist) (1.19.5)\r\n"
     ]
    },
    {
     "name": "stdout",
     "output_type": "stream",
     "text": [
      "Installing collected packages: mnist\r\n"
     ]
    },
    {
     "name": "stdout",
     "output_type": "stream",
     "text": [
      "Successfully installed mnist-0.2.2\r\n"
     ]
    }
   ],
   "source": [
    "!pip install mnist"
   ]
  },
  {
   "cell_type": "markdown",
   "id": "69df9c9a",
   "metadata": {
    "papermill": {
     "duration": 0.022124,
     "end_time": "2022-04-30T00:40:42.850368",
     "exception": false,
     "start_time": "2022-04-30T00:40:42.828244",
     "status": "completed"
    },
    "tags": []
   },
   "source": [
    "## Preparing the Data"
   ]
  },
  {
   "cell_type": "code",
   "execution_count": 4,
   "id": "7f69d806",
   "metadata": {
    "execution": {
     "iopub.execute_input": "2022-04-30T00:40:42.908746Z",
     "iopub.status.busy": "2022-04-30T00:40:42.907223Z",
     "iopub.status.idle": "2022-04-30T00:40:42.913098Z",
     "shell.execute_reply": "2022-04-30T00:40:42.912702Z"
    },
    "papermill": {
     "duration": 0.040878,
     "end_time": "2022-04-30T00:40:42.913201",
     "exception": false,
     "start_time": "2022-04-30T00:40:42.872323",
     "status": "completed"
    },
    "tags": []
   },
   "outputs": [],
   "source": [
    "import mnist"
   ]
  },
  {
   "cell_type": "code",
   "execution_count": 5,
   "id": "a411e44f",
   "metadata": {
    "execution": {
     "iopub.execute_input": "2022-04-30T00:40:42.973934Z",
     "iopub.status.busy": "2022-04-30T00:40:42.961354Z",
     "iopub.status.idle": "2022-04-30T00:40:43.425705Z",
     "shell.execute_reply": "2022-04-30T00:40:43.426189Z"
    },
    "papermill": {
     "duration": 0.491003,
     "end_time": "2022-04-30T00:40:43.426363",
     "exception": false,
     "start_time": "2022-04-30T00:40:42.935360",
     "status": "completed"
    },
    "tags": []
   },
   "outputs": [],
   "source": [
    "train_images = mnist.train_images()\n",
    "train_labels = mnist.train_labels()"
   ]
  },
  {
   "cell_type": "code",
   "execution_count": 6,
   "id": "dceab3a5",
   "metadata": {
    "execution": {
     "iopub.execute_input": "2022-04-30T00:40:43.475670Z",
     "iopub.status.busy": "2022-04-30T00:40:43.475209Z",
     "iopub.status.idle": "2022-04-30T00:40:43.492650Z",
     "shell.execute_reply": "2022-04-30T00:40:43.492273Z"
    },
    "papermill": {
     "duration": 0.043501,
     "end_time": "2022-04-30T00:40:43.492764",
     "exception": false,
     "start_time": "2022-04-30T00:40:43.449263",
     "status": "completed"
    },
    "tags": []
   },
   "outputs": [
    {
     "data": {
      "text/plain": [
       "((60000, 28, 28), (60000,))"
      ]
     },
     "execution_count": 6,
     "metadata": {},
     "output_type": "execute_result"
    }
   ],
   "source": [
    "train_images.shape, train_labels.shape"
   ]
  },
  {
   "cell_type": "code",
   "execution_count": 7,
   "id": "f50dc2bb",
   "metadata": {
    "execution": {
     "iopub.execute_input": "2022-04-30T00:40:43.541395Z",
     "iopub.status.busy": "2022-04-30T00:40:43.540932Z",
     "iopub.status.idle": "2022-04-30T00:40:43.648174Z",
     "shell.execute_reply": "2022-04-30T00:40:43.647592Z"
    },
    "papermill": {
     "duration": 0.132954,
     "end_time": "2022-04-30T00:40:43.648332",
     "exception": false,
     "start_time": "2022-04-30T00:40:43.515378",
     "status": "completed"
    },
    "tags": []
   },
   "outputs": [],
   "source": [
    "test_images = mnist.test_images()\n",
    "test_labels = mnist.test_labels()"
   ]
  },
  {
   "cell_type": "code",
   "execution_count": 8,
   "id": "fc38cf1b",
   "metadata": {
    "execution": {
     "iopub.execute_input": "2022-04-30T00:40:43.701234Z",
     "iopub.status.busy": "2022-04-30T00:40:43.700775Z",
     "iopub.status.idle": "2022-04-30T00:40:43.711917Z",
     "shell.execute_reply": "2022-04-30T00:40:43.712376Z"
    },
    "papermill": {
     "duration": 0.040089,
     "end_time": "2022-04-30T00:40:43.712504",
     "exception": false,
     "start_time": "2022-04-30T00:40:43.672415",
     "status": "completed"
    },
    "tags": []
   },
   "outputs": [
    {
     "data": {
      "text/plain": [
       "((10000, 28, 28), (10000,))"
      ]
     },
     "execution_count": 8,
     "metadata": {},
     "output_type": "execute_result"
    }
   ],
   "source": [
    "test_images.shape, test_labels.shape"
   ]
  },
  {
   "cell_type": "code",
   "execution_count": 9,
   "id": "f9ed8fe0",
   "metadata": {
    "execution": {
     "iopub.execute_input": "2022-04-30T00:40:43.768265Z",
     "iopub.status.busy": "2022-04-30T00:40:43.767745Z",
     "iopub.status.idle": "2022-04-30T00:40:43.894370Z",
     "shell.execute_reply": "2022-04-30T00:40:43.893949Z"
    },
    "papermill": {
     "duration": 0.159524,
     "end_time": "2022-04-30T00:40:43.894485",
     "exception": false,
     "start_time": "2022-04-30T00:40:43.734961",
     "status": "completed"
    },
    "tags": []
   },
   "outputs": [
    {
     "name": "stdout",
     "output_type": "stream",
     "text": [
      "2\n"
     ]
    },
    {
     "data": {
      "text/plain": [
       "<matplotlib.image.AxesImage at 0x7f7e327dd390>"
      ]
     },
     "execution_count": 9,
     "metadata": {},
     "output_type": "execute_result"
    },
    {
     "data": {
      "image/png": "[encoded data removed]",
      "text/plain": [
       "<Figure size 432x288 with 1 Axes>"
      ]
     },
     "metadata": {
      "needs_background": "light"
     },
     "output_type": "display_data"
    }
   ],
   "source": [
    "image_index = 7776 # You may select anything up to 60,000\n",
    "print(train_labels[image_index]) \n",
    "plt.imshow(train_images[image_index], cmap='Greys')"
   ]
  },
  {
   "cell_type": "markdown",
   "id": "a8d2388d",
   "metadata": {
    "papermill": {
     "duration": 0.023387,
     "end_time": "2022-04-30T00:40:43.941543",
     "exception": false,
     "start_time": "2022-04-30T00:40:43.918156",
     "status": "completed"
    },
    "tags": []
   },
   "source": [
    "## Filter data to get 3 and 8 out"
   ]
  },
  {
   "cell_type": "code",
   "execution_count": 10,
   "id": "776f7fc7",
   "metadata": {
    "execution": {
     "iopub.execute_input": "2022-04-30T00:40:44.000038Z",
     "iopub.status.busy": "2022-04-30T00:40:43.993103Z",
     "iopub.status.idle": "2022-04-30T00:40:44.009357Z",
     "shell.execute_reply": "2022-04-30T00:40:44.008983Z"
    },
    "papermill": {
     "duration": 0.044458,
     "end_time": "2022-04-30T00:40:44.009465",
     "exception": false,
     "start_time": "2022-04-30T00:40:43.965007",
     "status": "completed"
    },
    "tags": []
   },
   "outputs": [],
   "source": [
    "train_filter = np.where((train_labels == 3 ) | (train_labels == 8))\n",
    "test_filter = np.where((test_labels == 3) | (test_labels == 8))\n",
    "X_train, y_train = train_images[train_filter], train_labels[train_filter]\n",
    "X_test, y_test = test_images[test_filter], test_labels[test_filter]"
   ]
  },
  {
   "cell_type": "markdown",
   "id": "948f0b7e",
   "metadata": {
    "papermill": {
     "duration": 0.023364,
     "end_time": "2022-04-30T00:40:44.056223",
     "exception": false,
     "start_time": "2022-04-30T00:40:44.032859",
     "status": "completed"
    },
    "tags": []
   },
   "source": [
    "We normalize the pizel values in the 0 to 1 range"
   ]
  },
  {
   "cell_type": "code",
   "execution_count": 11,
   "id": "ee4c2166",
   "metadata": {
    "execution": {
     "iopub.execute_input": "2022-04-30T00:40:44.120799Z",
     "iopub.status.busy": "2022-04-30T00:40:44.117217Z",
     "iopub.status.idle": "2022-04-30T00:40:44.153159Z",
     "shell.execute_reply": "2022-04-30T00:40:44.152657Z"
    },
    "papermill": {
     "duration": 0.073766,
     "end_time": "2022-04-30T00:40:44.153305",
     "exception": false,
     "start_time": "2022-04-30T00:40:44.079539",
     "status": "completed"
    },
    "tags": []
   },
   "outputs": [],
   "source": [
    "X_train = X_train/255.\n",
    "X_test = X_test/255."
   ]
  },
  {
   "cell_type": "markdown",
   "id": "ddcf4fab",
   "metadata": {
    "papermill": {
     "duration": 0.023446,
     "end_time": "2022-04-30T00:40:44.201068",
     "exception": false,
     "start_time": "2022-04-30T00:40:44.177622",
     "status": "completed"
    },
    "tags": []
   },
   "source": [
    "And setup the labels as 1 (when the digit is 3) and 0 (when the digit is 8)"
   ]
  },
  {
   "cell_type": "code",
   "execution_count": 12,
   "id": "7dc908f2",
   "metadata": {
    "execution": {
     "iopub.execute_input": "2022-04-30T00:40:44.257426Z",
     "iopub.status.busy": "2022-04-30T00:40:44.256949Z",
     "iopub.status.idle": "2022-04-30T00:40:44.265248Z",
     "shell.execute_reply": "2022-04-30T00:40:44.265635Z"
    },
    "papermill": {
     "duration": 0.040726,
     "end_time": "2022-04-30T00:40:44.265761",
     "exception": false,
     "start_time": "2022-04-30T00:40:44.225035",
     "status": "completed"
    },
    "tags": []
   },
   "outputs": [],
   "source": [
    "y_train = 1*(y_train==3)\n",
    "y_test = 1*(y_test==3)"
   ]
  },
  {
   "cell_type": "code",
   "execution_count": 13,
   "id": "01e4e969",
   "metadata": {
    "execution": {
     "iopub.execute_input": "2022-04-30T00:40:44.330537Z",
     "iopub.status.busy": "2022-04-30T00:40:44.329172Z",
     "iopub.status.idle": "2022-04-30T00:40:44.333610Z",
     "shell.execute_reply": "2022-04-30T00:40:44.332980Z"
    },
    "papermill": {
     "duration": 0.044434,
     "end_time": "2022-04-30T00:40:44.333726",
     "exception": false,
     "start_time": "2022-04-30T00:40:44.289292",
     "status": "completed"
    },
    "tags": []
   },
   "outputs": [
    {
     "data": {
      "text/plain": [
       "((11982, 28, 28), (1984, 28, 28))"
      ]
     },
     "execution_count": 13,
     "metadata": {},
     "output_type": "execute_result"
    }
   ],
   "source": [
    "X_train.shape, X_test.shape"
   ]
  },
  {
   "cell_type": "markdown",
   "id": "5ccf3f85",
   "metadata": {
    "papermill": {
     "duration": 0.023647,
     "end_time": "2022-04-30T00:40:44.381028",
     "exception": false,
     "start_time": "2022-04-30T00:40:44.357381",
     "status": "completed"
    },
    "tags": []
   },
   "source": [
    "We reshape the data to flatten the image pixels into a set of features or co-variates:"
   ]
  },
  {
   "cell_type": "code",
   "execution_count": 14,
   "id": "5286a4a3",
   "metadata": {
    "execution": {
     "iopub.execute_input": "2022-04-30T00:40:44.432099Z",
     "iopub.status.busy": "2022-04-30T00:40:44.431624Z",
     "iopub.status.idle": "2022-04-30T00:40:44.445484Z",
     "shell.execute_reply": "2022-04-30T00:40:44.445871Z"
    },
    "papermill": {
     "duration": 0.041317,
     "end_time": "2022-04-30T00:40:44.446000",
     "exception": false,
     "start_time": "2022-04-30T00:40:44.404683",
     "status": "completed"
    },
    "tags": []
   },
   "outputs": [
    {
     "data": {
      "text/plain": [
       "((11982, 784), (1984, 784))"
      ]
     },
     "execution_count": 14,
     "metadata": {},
     "output_type": "execute_result"
    }
   ],
   "source": [
    "X_train = X_train.reshape(X_train.shape[0], -1)\n",
    "X_test = X_test.reshape(X_test.shape[0], -1)\n",
    "X_train.shape, X_test.shape"
   ]
  },
  {
   "cell_type": "code",
   "execution_count": 15,
   "id": "73c5f88a",
   "metadata": {
    "execution": {
     "iopub.execute_input": "2022-04-30T00:40:44.501355Z",
     "iopub.status.busy": "2022-04-30T00:40:44.500890Z",
     "iopub.status.idle": "2022-04-30T00:40:44.516881Z",
     "shell.execute_reply": "2022-04-30T00:40:44.516506Z"
    },
    "papermill": {
     "duration": 0.046755,
     "end_time": "2022-04-30T00:40:44.516993",
     "exception": false,
     "start_time": "2022-04-30T00:40:44.470238",
     "status": "completed"
    },
    "tags": []
   },
   "outputs": [],
   "source": [
    "#Impoting functions from 'Kudzu'\n",
    "from kudzu.model import Model\n",
    "from kudzu.train import Learner\n",
    "from kudzu.optim import GD\n",
    "from kudzu.data import Data, Sampler,Dataloader\n",
    "\n",
    "from kudzu.callbacks import AccCallback\n",
    "from kudzu.callbacks import ClfCallback\n",
    "\n",
    "from kudzu.loss import MSE\n",
    "\n",
    "from kudzu.layer import Sigmoid,Relu\n",
    "from kudzu.layer import Affine"
   ]
  },
  {
   "cell_type": "markdown",
   "id": "bc01172a",
   "metadata": {
    "papermill": {
     "duration": 0.024193,
     "end_time": "2022-04-30T00:40:44.565304",
     "exception": false,
     "start_time": "2022-04-30T00:40:44.541111",
     "status": "completed"
    },
    "tags": []
   },
   "source": [
    "### Let us create a `Config` class, to store important parameters. \n",
    "This class essentially plays the role of a dictionary."
   ]
  },
  {
   "cell_type": "code",
   "execution_count": 16,
   "id": "978281aa",
   "metadata": {
    "execution": {
     "iopub.execute_input": "2022-04-30T00:40:44.618201Z",
     "iopub.status.busy": "2022-04-30T00:40:44.617734Z",
     "iopub.status.idle": "2022-04-30T00:40:44.629037Z",
     "shell.execute_reply": "2022-04-30T00:40:44.629400Z"
    },
    "papermill": {
     "duration": 0.040231,
     "end_time": "2022-04-30T00:40:44.629523",
     "exception": false,
     "start_time": "2022-04-30T00:40:44.589292",
     "status": "completed"
    },
    "tags": []
   },
   "outputs": [],
   "source": [
    "class Config:\n",
    "    pass\n",
    "config = Config()\n",
    "config.lr = 0.001\n",
    "config.num_epochs = 250\n",
    "config.bs = 50"
   ]
  },
  {
   "cell_type": "markdown",
   "id": "1385fa59",
   "metadata": {
    "papermill": {
     "duration": 0.023897,
     "end_time": "2022-04-30T00:40:44.677350",
     "exception": false,
     "start_time": "2022-04-30T00:40:44.653453",
     "status": "completed"
    },
    "tags": []
   },
   "source": [
    "### Running Models with the Training data\n",
    "Details about the network layers:\n",
    "- A first affine layer has 784 inputs and does 100 affine transforms. These are followed by a Relu\n",
    "- A second affine layer has 100 inputs from the 100 activations of the past layer, and does 100 affine transforms. These are followed by a Relu\n",
    "- A third affine layer has 100 activations and does 2 affine transformations to create an embedding for visualization. There is no non-linearity here.\n",
    "- A final \"logistic regression\" which has an affine transform from 2 inputs to 1 output, which is squeezed through a sigmoid.\n"
   ]
  },
  {
   "cell_type": "code",
   "execution_count": 17,
   "id": "2b9c66db",
   "metadata": {
    "execution": {
     "iopub.execute_input": "2022-04-30T00:40:44.732156Z",
     "iopub.status.busy": "2022-04-30T00:40:44.731669Z",
     "iopub.status.idle": "2022-04-30T00:40:44.741828Z",
     "shell.execute_reply": "2022-04-30T00:40:44.742215Z"
    },
    "papermill": {
     "duration": 0.040972,
     "end_time": "2022-04-30T00:40:44.742335",
     "exception": false,
     "start_time": "2022-04-30T00:40:44.701363",
     "status": "completed"
    },
    "tags": []
   },
   "outputs": [],
   "source": [
    "data = Data(X_train, y_train.reshape(-1,1))\n",
    "sampler = Sampler(data, config.bs, shuffle=True)\n",
    "\n",
    "dl = Dataloader(data, sampler)\n",
    "\n",
    "opt = GD(config.lr)\n",
    "loss = MSE()"
   ]
  },
  {
   "cell_type": "code",
   "execution_count": 18,
   "id": "b275e4c2",
   "metadata": {
    "execution": {
     "iopub.execute_input": "2022-04-30T00:40:44.793815Z",
     "iopub.status.busy": "2022-04-30T00:40:44.793361Z",
     "iopub.status.idle": "2022-04-30T00:40:44.804945Z",
     "shell.execute_reply": "2022-04-30T00:40:44.804548Z"
    },
    "papermill": {
     "duration": 0.038702,
     "end_time": "2022-04-30T00:40:44.805049",
     "exception": false,
     "start_time": "2022-04-30T00:40:44.766347",
     "status": "completed"
    },
    "tags": []
   },
   "outputs": [],
   "source": [
    "training_data_x = X_train\n",
    "testing_data_x = X_test\n",
    "training_data_y = y_train.reshape(-1,1)\n",
    "testing_data_y = y_test.reshape(-1,1)"
   ]
  },
  {
   "cell_type": "code",
   "execution_count": 19,
   "id": "76951160",
   "metadata": {
    "execution": {
     "iopub.execute_input": "2022-04-30T00:40:44.856967Z",
     "iopub.status.busy": "2022-04-30T00:40:44.856516Z",
     "iopub.status.idle": "2022-04-30T00:40:44.870857Z",
     "shell.execute_reply": "2022-04-30T00:40:44.871242Z"
    },
    "papermill": {
     "duration": 0.042468,
     "end_time": "2022-04-30T00:40:44.871360",
     "exception": false,
     "start_time": "2022-04-30T00:40:44.828892",
     "status": "completed"
    },
    "tags": []
   },
   "outputs": [
    {
     "name": "stdout",
     "output_type": "stream",
     "text": [
      "xavier\n",
      "xavier\n",
      "xavier\n",
      "xavier\n",
      "xavier\n"
     ]
    }
   ],
   "source": [
    "layers = [Affine(\"first\", 784, 100), Relu(\"first\"), Affine(\"second\", 100, 100), Relu(\"second\"), Affine(\"third\", 100, 2), Affine(\"last\", 2, 1), Sigmoid(\"last\")]\n",
    "model_nn = Model(layers)\n",
    "model_lr = Model([Affine(\"logits\", 784, 1), Sigmoid(\"sigmoid\")])"
   ]
  },
  {
   "cell_type": "code",
   "execution_count": 20,
   "id": "6eede77a",
   "metadata": {
    "execution": {
     "iopub.execute_input": "2022-04-30T00:40:44.932729Z",
     "iopub.status.busy": "2022-04-30T00:40:44.931093Z",
     "iopub.status.idle": "2022-04-30T00:40:44.937871Z",
     "shell.execute_reply": "2022-04-30T00:40:44.937486Z"
    },
    "papermill": {
     "duration": 0.042534,
     "end_time": "2022-04-30T00:40:44.937971",
     "exception": false,
     "start_time": "2022-04-30T00:40:44.895437",
     "status": "completed"
    },
    "tags": []
   },
   "outputs": [],
   "source": [
    "nn_learner = Learner(loss, model_nn, opt, config.num_epochs)\n",
    "acc_nn = ClfCallback(nn_learner, config.bs, training_data_x , testing_data_x, training_data_y, testing_data_y)\n",
    "nn_learner.set_callbacks([acc_nn])"
   ]
  },
  {
   "cell_type": "code",
   "execution_count": 21,
   "id": "877b6cc7",
   "metadata": {
    "execution": {
     "iopub.execute_input": "2022-04-30T00:40:44.993204Z",
     "iopub.status.busy": "2022-04-30T00:40:44.992750Z",
     "iopub.status.idle": "2022-04-30T00:40:45.002761Z",
     "shell.execute_reply": "2022-04-30T00:40:45.003126Z"
    },
    "papermill": {
     "duration": 0.041112,
     "end_time": "2022-04-30T00:40:45.003249",
     "exception": false,
     "start_time": "2022-04-30T00:40:44.962137",
     "status": "completed"
    },
    "tags": []
   },
   "outputs": [],
   "source": [
    "lr_learner = Learner(loss, model_lr, opt, config.num_epochs)\n",
    "acc_lr = ClfCallback(lr_learner, config.bs, training_data_x , testing_data_x, training_data_y, testing_data_y)\n",
    "lr_learner.set_callbacks([acc_lr])"
   ]
  },
  {
   "cell_type": "code",
   "execution_count": 22,
   "id": "d9b133c3",
   "metadata": {
    "execution": {
     "iopub.execute_input": "2022-04-30T00:40:45.058146Z",
     "iopub.status.busy": "2022-04-30T00:40:45.057579Z",
     "iopub.status.idle": "2022-04-30T00:42:02.880254Z",
     "shell.execute_reply": "2022-04-30T00:42:02.880957Z"
    },
    "papermill": {
     "duration": 77.853639,
     "end_time": "2022-04-30T00:42:02.881109",
     "exception": false,
     "start_time": "2022-04-30T00:40:45.027470",
     "status": "completed"
    },
    "tags": []
   },
   "outputs": [
    {
     "name": "stdout",
     "output_type": "stream",
     "text": [
      "Epoch 0, Loss 0.2311\n",
      "Training Accuracy: 0.7561, Testing Accuracy: 0.7833\n",
      "\n"
     ]
    },
    {
     "name": "stdout",
     "output_type": "stream",
     "text": [
      "Epoch 10, Loss 0.0734\n",
      "Training Accuracy: 0.9249, Testing Accuracy: 0.9395\n",
      "\n"
     ]
    },
    {
     "name": "stdout",
     "output_type": "stream",
     "text": [
      "Epoch 20, Loss 0.0485\n",
      "Training Accuracy: 0.9466, Testing Accuracy: 0.9567\n",
      "\n"
     ]
    },
    {
     "name": "stdout",
     "output_type": "stream",
     "text": [
      "Epoch 30, Loss 0.0395\n",
      "Training Accuracy: 0.9558, Testing Accuracy: 0.9632\n",
      "\n"
     ]
    },
    {
     "name": "stdout",
     "output_type": "stream",
     "text": [
      "Epoch 40, Loss 0.0347\n",
      "Training Accuracy: 0.9606, Testing Accuracy: 0.9672\n",
      "\n"
     ]
    },
    {
     "name": "stdout",
     "output_type": "stream",
     "text": [
      "Epoch 50, Loss 0.0316\n",
      "Training Accuracy: 0.9641, Testing Accuracy: 0.9688\n",
      "\n"
     ]
    },
    {
     "name": "stdout",
     "output_type": "stream",
     "text": [
      "Epoch 60, Loss 0.0294\n",
      "Training Accuracy: 0.9672, Testing Accuracy: 0.9698\n",
      "\n"
     ]
    },
    {
     "name": "stdout",
     "output_type": "stream",
     "text": [
      "Epoch 70, Loss 0.0277\n",
      "Training Accuracy: 0.9685, Testing Accuracy: 0.9718\n",
      "\n"
     ]
    },
    {
     "name": "stdout",
     "output_type": "stream",
     "text": [
      "Epoch 80, Loss 0.0264\n",
      "Training Accuracy: 0.9695, Testing Accuracy: 0.9723\n",
      "\n"
     ]
    },
    {
     "name": "stdout",
     "output_type": "stream",
     "text": [
      "Epoch 90, Loss 0.0253\n",
      "Training Accuracy: 0.9710, Testing Accuracy: 0.9723\n",
      "\n"
     ]
    },
    {
     "name": "stdout",
     "output_type": "stream",
     "text": [
      "Epoch 100, Loss 0.0244\n",
      "Training Accuracy: 0.9718, Testing Accuracy: 0.9728\n",
      "\n"
     ]
    },
    {
     "name": "stdout",
     "output_type": "stream",
     "text": [
      "Epoch 110, Loss 0.0236\n",
      "Training Accuracy: 0.9730, Testing Accuracy: 0.9733\n",
      "\n"
     ]
    },
    {
     "name": "stdout",
     "output_type": "stream",
     "text": [
      "Epoch 120, Loss 0.0229\n",
      "Training Accuracy: 0.9743, Testing Accuracy: 0.9738\n",
      "\n"
     ]
    },
    {
     "name": "stdout",
     "output_type": "stream",
     "text": [
      "Epoch 130, Loss 0.0222\n",
      "Training Accuracy: 0.9749, Testing Accuracy: 0.9748\n",
      "\n"
     ]
    },
    {
     "name": "stdout",
     "output_type": "stream",
     "text": [
      "Epoch 140, Loss 0.0216\n",
      "Training Accuracy: 0.9755, Testing Accuracy: 0.9748\n",
      "\n"
     ]
    },
    {
     "name": "stdout",
     "output_type": "stream",
     "text": [
      "Epoch 150, Loss 0.021\n",
      "Training Accuracy: 0.9764, Testing Accuracy: 0.9748\n",
      "\n"
     ]
    },
    {
     "name": "stdout",
     "output_type": "stream",
     "text": [
      "Epoch 160, Loss 0.0205\n",
      "Training Accuracy: 0.9772, Testing Accuracy: 0.9748\n",
      "\n"
     ]
    },
    {
     "name": "stdout",
     "output_type": "stream",
     "text": [
      "Epoch 170, Loss 0.02\n",
      "Training Accuracy: 0.9782, Testing Accuracy: 0.9743\n",
      "\n"
     ]
    },
    {
     "name": "stdout",
     "output_type": "stream",
     "text": [
      "Epoch 180, Loss 0.0196\n",
      "Training Accuracy: 0.9788, Testing Accuracy: 0.9743\n",
      "\n"
     ]
    },
    {
     "name": "stdout",
     "output_type": "stream",
     "text": [
      "Epoch 190, Loss 0.0191\n",
      "Training Accuracy: 0.9793, Testing Accuracy: 0.9743\n",
      "\n"
     ]
    },
    {
     "name": "stdout",
     "output_type": "stream",
     "text": [
      "Epoch 200, Loss 0.0187\n",
      "Training Accuracy: 0.9796, Testing Accuracy: 0.9748\n",
      "\n"
     ]
    },
    {
     "name": "stdout",
     "output_type": "stream",
     "text": [
      "Epoch 210, Loss 0.0183\n",
      "Training Accuracy: 0.9796, Testing Accuracy: 0.9748\n",
      "\n"
     ]
    },
    {
     "name": "stdout",
     "output_type": "stream",
     "text": [
      "Epoch 220, Loss 0.0179\n",
      "Training Accuracy: 0.9802, Testing Accuracy: 0.9758\n",
      "\n"
     ]
    },
    {
     "name": "stdout",
     "output_type": "stream",
     "text": [
      "Epoch 230, Loss 0.0175\n",
      "Training Accuracy: 0.9807, Testing Accuracy: 0.9763\n",
      "\n"
     ]
    },
    {
     "name": "stdout",
     "output_type": "stream",
     "text": [
      "Epoch 240, Loss 0.0172\n",
      "Training Accuracy: 0.9811, Testing Accuracy: 0.9768\n",
      "\n"
     ]
    },
    {
     "data": {
      "text/plain": [
       "0.00429616018092345"
      ]
     },
     "execution_count": 22,
     "metadata": {},
     "output_type": "execute_result"
    }
   ],
   "source": [
    "nn_learner.train_loop(dl)"
   ]
  },
  {
   "cell_type": "code",
   "execution_count": 23,
   "id": "e0163366",
   "metadata": {
    "execution": {
     "iopub.execute_input": "2022-04-30T00:42:02.953233Z",
     "iopub.status.busy": "2022-04-30T00:42:02.952658Z",
     "iopub.status.idle": "2022-04-30T00:42:17.528196Z",
     "shell.execute_reply": "2022-04-30T00:42:17.528886Z"
    },
    "papermill": {
     "duration": 14.616954,
     "end_time": "2022-04-30T00:42:17.529041",
     "exception": false,
     "start_time": "2022-04-30T00:42:02.912087",
     "status": "completed"
    },
    "tags": []
   },
   "outputs": [
    {
     "name": "stdout",
     "output_type": "stream",
     "text": [
      "Epoch 0, Loss 0.2231\n",
      "Training Accuracy: 0.7754, Testing Accuracy: 0.7777\n",
      "\n"
     ]
    },
    {
     "name": "stdout",
     "output_type": "stream",
     "text": [
      "Epoch 10, Loss 0.097\n",
      "Training Accuracy: 0.9231, Testing Accuracy: 0.9385\n",
      "\n"
     ]
    },
    {
     "name": "stdout",
     "output_type": "stream",
     "text": [
      "Epoch 20, Loss 0.0753\n",
      "Training Accuracy: 0.9355, Testing Accuracy: 0.9471\n",
      "\n"
     ]
    },
    {
     "name": "stdout",
     "output_type": "stream",
     "text": [
      "Epoch 30, Loss 0.0653\n",
      "Training Accuracy: 0.9413, Testing Accuracy: 0.9521\n",
      "\n"
     ]
    },
    {
     "name": "stdout",
     "output_type": "stream",
     "text": [
      "Epoch 40, Loss 0.0593\n",
      "Training Accuracy: 0.9458, Testing Accuracy: 0.9582\n",
      "\n"
     ]
    },
    {
     "name": "stdout",
     "output_type": "stream",
     "text": [
      "Epoch 50, Loss 0.0552\n",
      "Training Accuracy: 0.9488, Testing Accuracy: 0.9587\n",
      "\n"
     ]
    },
    {
     "name": "stdout",
     "output_type": "stream",
     "text": [
      "Epoch 60, Loss 0.0521\n",
      "Training Accuracy: 0.9503, Testing Accuracy: 0.9602\n",
      "\n"
     ]
    },
    {
     "name": "stdout",
     "output_type": "stream",
     "text": [
      "Epoch 70, Loss 0.0498\n",
      "Training Accuracy: 0.9522, Testing Accuracy: 0.9602\n",
      "\n"
     ]
    },
    {
     "name": "stdout",
     "output_type": "stream",
     "text": [
      "Epoch 80, Loss 0.0479\n",
      "Training Accuracy: 0.9539, Testing Accuracy: 0.9607\n",
      "\n"
     ]
    },
    {
     "name": "stdout",
     "output_type": "stream",
     "text": [
      "Epoch 90, Loss 0.0463\n",
      "Training Accuracy: 0.9553, Testing Accuracy: 0.9642\n",
      "\n"
     ]
    },
    {
     "name": "stdout",
     "output_type": "stream",
     "text": [
      "Epoch 100, Loss 0.045\n",
      "Training Accuracy: 0.9561, Testing Accuracy: 0.9652\n",
      "\n"
     ]
    },
    {
     "name": "stdout",
     "output_type": "stream",
     "text": [
      "Epoch 110, Loss 0.0438\n",
      "Training Accuracy: 0.9567, Testing Accuracy: 0.9657\n",
      "\n"
     ]
    },
    {
     "name": "stdout",
     "output_type": "stream",
     "text": [
      "Epoch 120, Loss 0.0428\n",
      "Training Accuracy: 0.9578, Testing Accuracy: 0.9662\n",
      "\n"
     ]
    },
    {
     "name": "stdout",
     "output_type": "stream",
     "text": [
      "Epoch 130, Loss 0.042\n",
      "Training Accuracy: 0.9583, Testing Accuracy: 0.9667\n",
      "\n"
     ]
    },
    {
     "name": "stdout",
     "output_type": "stream",
     "text": [
      "Epoch 140, Loss 0.0412\n",
      "Training Accuracy: 0.9588, Testing Accuracy: 0.9667\n",
      "\n"
     ]
    },
    {
     "name": "stdout",
     "output_type": "stream",
     "text": [
      "Epoch 150, Loss 0.0405\n",
      "Training Accuracy: 0.9592, Testing Accuracy: 0.9667\n",
      "\n"
     ]
    },
    {
     "name": "stdout",
     "output_type": "stream",
     "text": [
      "Epoch 160, Loss 0.0399\n",
      "Training Accuracy: 0.9596, Testing Accuracy: 0.9667\n",
      "\n"
     ]
    },
    {
     "name": "stdout",
     "output_type": "stream",
     "text": [
      "Epoch 170, Loss 0.0393\n",
      "Training Accuracy: 0.9599, Testing Accuracy: 0.9667\n",
      "\n"
     ]
    },
    {
     "name": "stdout",
     "output_type": "stream",
     "text": [
      "Epoch 180, Loss 0.0387\n",
      "Training Accuracy: 0.9604, Testing Accuracy: 0.9667\n",
      "\n"
     ]
    },
    {
     "name": "stdout",
     "output_type": "stream",
     "text": [
      "Epoch 190, Loss 0.0383\n",
      "Training Accuracy: 0.9607, Testing Accuracy: 0.9672\n",
      "\n"
     ]
    },
    {
     "name": "stdout",
     "output_type": "stream",
     "text": [
      "Epoch 200, Loss 0.0378\n",
      "Training Accuracy: 0.9612, Testing Accuracy: 0.9677\n",
      "\n"
     ]
    },
    {
     "name": "stdout",
     "output_type": "stream",
     "text": [
      "Epoch 210, Loss 0.0374\n",
      "Training Accuracy: 0.9612, Testing Accuracy: 0.9677\n",
      "\n"
     ]
    },
    {
     "name": "stdout",
     "output_type": "stream",
     "text": [
      "Epoch 220, Loss 0.037\n",
      "Training Accuracy: 0.9614, Testing Accuracy: 0.9682\n",
      "\n"
     ]
    },
    {
     "name": "stdout",
     "output_type": "stream",
     "text": [
      "Epoch 230, Loss 0.0366\n",
      "Training Accuracy: 0.9618, Testing Accuracy: 0.9682\n",
      "\n"
     ]
    },
    {
     "name": "stdout",
     "output_type": "stream",
     "text": [
      "Epoch 240, Loss 0.0363\n",
      "Training Accuracy: 0.9622, Testing Accuracy: 0.9682\n",
      "\n"
     ]
    },
    {
     "data": {
      "text/plain": [
       "0.01870037192222486"
      ]
     },
     "execution_count": 23,
     "metadata": {},
     "output_type": "execute_result"
    }
   ],
   "source": [
    "lr_learner.train_loop(dl)"
   ]
  },
  {
   "cell_type": "code",
   "execution_count": 24,
   "id": "ca410940",
   "metadata": {
    "execution": {
     "iopub.execute_input": "2022-04-30T00:42:17.613298Z",
     "iopub.status.busy": "2022-04-30T00:42:17.612815Z",
     "iopub.status.idle": "2022-04-30T00:42:17.810811Z",
     "shell.execute_reply": "2022-04-30T00:42:17.810415Z"
    },
    "papermill": {
     "duration": 0.245123,
     "end_time": "2022-04-30T00:42:17.810933",
     "exception": false,
     "start_time": "2022-04-30T00:42:17.565810",
     "status": "completed"
    },
    "tags": []
   },
   "outputs": [
    {
     "data": {
      "text/plain": [
       "<matplotlib.legend.Legend at 0x7f7e25c12ac8>"
      ]
     },
     "execution_count": 24,
     "metadata": {},
     "output_type": "execute_result"
    },
    {
     "data": {
      "image/png": "[encoded data removed]",
      "text/plain": [
       "<Figure size 1080x720 with 1 Axes>"
      ]
     },
     "metadata": {
      "needs_background": "light"
     },
     "output_type": "display_data"
    }
   ],
   "source": [
    "#comparing the results of NN and LR\n",
    "plt.figure(figsize=(15,10))\n",
    "\n",
    "# Neural Network plots\n",
    "plt.plot(acc_nn.accuracies, 'r-', label = \"Training Accuracies - NN\")\n",
    "plt.plot(acc_nn.test_accuracies, 'g-', label = \"Testing Accuracies - NN\")\n",
    "\n",
    "# Logistic Regression plots\n",
    "plt.plot(acc_lr.accuracies, 'k-', label = \"Training Accuracies - LR\")\n",
    "plt.plot(acc_lr.test_accuracies, 'b-', label = \"Testing Accuracies - LR\")\n",
    "plt.legend()"
   ]
  },
  {
   "cell_type": "markdown",
   "id": "80dfb35c",
   "metadata": {
    "papermill": {
     "duration": 0.037624,
     "end_time": "2022-04-30T00:42:17.886420",
     "exception": false,
     "start_time": "2022-04-30T00:42:17.848796",
     "status": "completed"
    },
    "tags": []
   },
   "source": [
    "#### Plotting the outputs of this layer of the NN.\n"
   ]
  },
  {
   "cell_type": "code",
   "execution_count": 25,
   "id": "45eb2ff5",
   "metadata": {
    "execution": {
     "iopub.execute_input": "2022-04-30T00:42:17.968263Z",
     "iopub.status.busy": "2022-04-30T00:42:17.967598Z",
     "iopub.status.idle": "2022-04-30T00:42:17.986447Z",
     "shell.execute_reply": "2022-04-30T00:42:17.986851Z"
    },
    "papermill": {
     "duration": 0.063221,
     "end_time": "2022-04-30T00:42:17.986989",
     "exception": false,
     "start_time": "2022-04-30T00:42:17.923768",
     "status": "completed"
    },
    "tags": []
   },
   "outputs": [],
   "source": [
    "new_model = Model(layers[:-2])\n",
    "testing_plot = new_model(testing_data_x)"
   ]
  },
  {
   "cell_type": "code",
   "execution_count": 26,
   "id": "4c0a5485",
   "metadata": {
    "execution": {
     "iopub.execute_input": "2022-04-30T00:42:18.068558Z",
     "iopub.status.busy": "2022-04-30T00:42:18.068049Z",
     "iopub.status.idle": "2022-04-30T00:42:18.255079Z",
     "shell.execute_reply": "2022-04-30T00:42:18.254489Z"
    },
    "papermill": {
     "duration": 0.229358,
     "end_time": "2022-04-30T00:42:18.255217",
     "exception": false,
     "start_time": "2022-04-30T00:42:18.025859",
     "status": "completed"
    },
    "tags": []
   },
   "outputs": [
    {
     "data": {
      "text/plain": [
       "Text(0.5, 1.0, 'Outputs')"
      ]
     },
     "execution_count": 26,
     "metadata": {},
     "output_type": "execute_result"
    },
    {
     "data": {
      "image/png": "[encoded data removed]",
      "text/plain": [
       "<Figure size 576x504 with 1 Axes>"
      ]
     },
     "metadata": {
      "needs_background": "light"
     },
     "output_type": "display_data"
    }
   ],
   "source": [
    "# Plotting the scatter plot of points and color coding by class\n",
    "plt.figure(figsize=(8,7))\n",
    "plt.scatter(testing_plot[:,0], testing_plot[:,1], alpha = 0.1, c = y_test.ravel());\n",
    "plt.title('Outputs')"
   ]
  },
  {
   "cell_type": "markdown",
   "id": "a74fcf8f",
   "metadata": {
    "papermill": {
     "duration": 0.039271,
     "end_time": "2022-04-30T00:42:18.334788",
     "exception": false,
     "start_time": "2022-04-30T00:42:18.295517",
     "status": "completed"
    },
    "tags": []
   },
   "source": [
    "Probability contours"
   ]
  },
  {
   "cell_type": "code",
   "execution_count": 27,
   "id": "d0afc8e3",
   "metadata": {
    "execution": {
     "iopub.execute_input": "2022-04-30T00:42:18.418978Z",
     "iopub.status.busy": "2022-04-30T00:42:18.418480Z",
     "iopub.status.idle": "2022-04-30T00:42:18.431977Z",
     "shell.execute_reply": "2022-04-30T00:42:18.431564Z"
    },
    "papermill": {
     "duration": 0.057915,
     "end_time": "2022-04-30T00:42:18.432114",
     "exception": false,
     "start_time": "2022-04-30T00:42:18.374199",
     "status": "completed"
    },
    "tags": []
   },
   "outputs": [],
   "source": [
    "model_prob = Model(layers[-2:]) "
   ]
  },
  {
   "cell_type": "code",
   "execution_count": 28,
   "id": "9b96e238",
   "metadata": {
    "execution": {
     "iopub.execute_input": "2022-04-30T00:42:18.549039Z",
     "iopub.status.busy": "2022-04-30T00:42:18.548551Z",
     "iopub.status.idle": "2022-04-30T00:42:18.564761Z",
     "shell.execute_reply": "2022-04-30T00:42:18.565119Z"
    },
    "papermill": {
     "duration": 0.06062,
     "end_time": "2022-04-30T00:42:18.565260",
     "exception": false,
     "start_time": "2022-04-30T00:42:18.504640",
     "status": "completed"
    },
    "tags": []
   },
   "outputs": [],
   "source": [
    "#creating the x and y ranges according to the above generated plot.\n",
    "x_range = np.linspace(-4, 1, 100) \n",
    "y_range = np.linspace(-6, 6, 100) \n",
    "x_grid, y_grid = np.meshgrid(x_range, y_range) # x_grid and y_grig are of size 100 X 100\n",
    "\n",
    "# converting x_grid and y_grid to continuous arrays\n",
    "x_gridflat = np.ravel(x_grid)\n",
    "y_gridflat = np.ravel(y_grid)\n",
    "\n",
    "# The last layer of the current model takes two columns as input. Hence transpose of np.vstack() is required.\n",
    "X = np.vstack((x_gridflat, y_gridflat)).T\n",
    "\n",
    "prob_contour = model_prob(X).reshape(100,100) "
   ]
  },
  {
   "cell_type": "code",
   "execution_count": 29,
   "id": "da72499a",
   "metadata": {
    "execution": {
     "iopub.execute_input": "2022-04-30T00:42:18.648522Z",
     "iopub.status.busy": "2022-04-30T00:42:18.647961Z",
     "iopub.status.idle": "2022-04-30T00:42:18.885870Z",
     "shell.execute_reply": "2022-04-30T00:42:18.885452Z"
    },
    "papermill": {
     "duration": 0.280824,
     "end_time": "2022-04-30T00:42:18.885982",
     "exception": false,
     "start_time": "2022-04-30T00:42:18.605158",
     "status": "completed"
    },
    "tags": []
   },
   "outputs": [
    {
     "data": {
      "image/png": "[encoded data removed]",
      "text/plain": [
       "<Figure size 720x648 with 1 Axes>"
      ]
     },
     "metadata": {
      "needs_background": "light"
     },
     "output_type": "display_data"
    }
   ],
   "source": [
    "plt.figure(figsize=(10,9))\n",
    "plt.scatter(testing_plot[:,0], testing_plot[:,1], alpha = 0.1, c = y_test.ravel())\n",
    "contours = plt.contour(x_grid,y_grid,prob_contour)\n",
    "plt.title('Probability Contours')\n",
    "plt.clabel(contours, inline = True );"
   ]
  },
  {
   "cell_type": "code",
   "execution_count": null,
   "id": "e81b4ac7",
   "metadata": {
    "papermill": {
     "duration": 0.042255,
     "end_time": "2022-04-30T00:42:18.970626",
     "exception": false,
     "start_time": "2022-04-30T00:42:18.928371",
     "status": "completed"
    },
    "tags": []
   },
   "outputs": [],
   "source": []
  }
 ],
 "metadata": {
  "kernelspec": {
   "display_name": "Python 3",
   "language": "python",
   "name": "python3"
  },
  "language_info": {
   "codemirror_mode": {
    "name": "ipython",
    "version": 3
   },
   "file_extension": ".py",
   "mimetype": "text/x-python",
   "name": "python",
   "nbconvert_exporter": "python",
   "pygments_lexer": "ipython3",
   "version": "3.6.15"
  },
  "papermill": {
   "default_parameters": {},
   "duration": 100.489781,
   "end_time": "2022-04-30T00:42:19.432579",
   "environment_variables": {},
   "exception": null,
   "input_path": "2020-08-11-part2.ipynb",
   "output_path": "2020-08-11-part2.ipynb",
   "parameters": {},
   "start_time": "2022-04-30T00:40:38.942798",
   "version": "2.3.3"
  }
 },
 "nbformat": 4,
 "nbformat_minor": 5
}