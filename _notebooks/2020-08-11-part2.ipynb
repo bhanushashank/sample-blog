{
 "cells": [
  {
   "cell_type": "markdown",
   "id": "98380cd3",
   "metadata": {
    "papermill": {
     "duration": 0.025785,
     "end_time": "2022-02-24T20:09:07.737251",
     "exception": false,
     "start_time": "2022-02-24T20:09:07.711466",
     "status": "completed"
    },
    "tags": []
   },
   "source": [
    "# Distinguish Your Own Digits (DYOD)"
   ]
  },
  {
   "cell_type": "markdown",
   "id": "ef31240d",
   "metadata": {
    "papermill": {
     "duration": 0.022551,
     "end_time": "2022-02-24T20:09:07.781408",
     "exception": false,
     "start_time": "2022-02-24T20:09:07.758857",
     "status": "completed"
    },
    "tags": []
   },
   "source": [
    "You are going to write a classifier that distinguishes between the number 3 and number 8."
   ]
  },
  {
   "cell_type": "code",
   "execution_count": 1,
   "id": "b15c8646",
   "metadata": {
    "execution": {
     "iopub.execute_input": "2022-02-24T20:09:07.833335Z",
     "iopub.status.busy": "2022-02-24T20:09:07.832850Z",
     "iopub.status.idle": "2022-02-24T20:09:07.842682Z",
     "shell.execute_reply": "2022-02-24T20:09:07.842296Z"
    },
    "papermill": {
     "duration": 0.040511,
     "end_time": "2022-02-24T20:09:07.842804",
     "exception": false,
     "start_time": "2022-02-24T20:09:07.802293",
     "status": "completed"
    },
    "tags": []
   },
   "outputs": [],
   "source": [
    "%load_ext autoreload\n",
    "%autoreload 2"
   ]
  },
  {
   "cell_type": "code",
   "execution_count": 2,
   "id": "22ef38dc",
   "metadata": {
    "execution": {
     "iopub.execute_input": "2022-02-24T20:09:07.893986Z",
     "iopub.status.busy": "2022-02-24T20:09:07.893527Z",
     "iopub.status.idle": "2022-02-24T20:09:08.426940Z",
     "shell.execute_reply": "2022-02-24T20:09:08.426412Z"
    },
    "papermill": {
     "duration": 0.56327,
     "end_time": "2022-02-24T20:09:08.427079",
     "exception": false,
     "start_time": "2022-02-24T20:09:07.863809",
     "status": "completed"
    },
    "tags": []
   },
   "outputs": [],
   "source": [
    "%matplotlib inline\n",
    "import numpy as np\n",
    "import matplotlib.pyplot as plt\n",
    "import pandas as pd"
   ]
  },
  {
   "cell_type": "markdown",
   "id": "ba036198",
   "metadata": {
    "papermill": {
     "duration": 0.021186,
     "end_time": "2022-02-24T20:09:08.469863",
     "exception": false,
     "start_time": "2022-02-24T20:09:08.448677",
     "status": "completed"
    },
    "tags": []
   },
   "source": [
    "From the command line run `pip install mnist`. This is a library that will help you bring down the mnist dataset. If you run this from a notebook, you need to put  `!pip install mnist` in a cell by itself."
   ]
  },
  {
   "cell_type": "code",
   "execution_count": 3,
   "id": "bb6ad8a1",
   "metadata": {
    "execution": {
     "iopub.execute_input": "2022-02-24T20:09:08.517066Z",
     "iopub.status.busy": "2022-02-24T20:09:08.516593Z",
     "iopub.status.idle": "2022-02-24T20:09:10.872307Z",
     "shell.execute_reply": "2022-02-24T20:09:10.871401Z"
    },
    "papermill": {
     "duration": 2.381444,
     "end_time": "2022-02-24T20:09:10.872474",
     "exception": false,
     "start_time": "2022-02-24T20:09:08.491030",
     "status": "completed"
    },
    "tags": []
   },
   "outputs": [
    {
     "name": "stdout",
     "output_type": "stream",
     "text": [
      "Collecting mnist\r\n"
     ]
    },
    {
     "name": "stdout",
     "output_type": "stream",
     "text": [
      "  Downloading mnist-0.2.2-py2.py3-none-any.whl (3.5 kB)\r\n"
     ]
    },
    {
     "name": "stdout",
     "output_type": "stream",
     "text": [
      "Requirement already satisfied: numpy in /opt/hostedtoolcache/Python/3.6.15/x64/lib/python3.6/site-packages (from mnist) (1.19.5)\r\n"
     ]
    },
    {
     "name": "stdout",
     "output_type": "stream",
     "text": [
      "Installing collected packages: mnist\r\n",
      "Successfully installed mnist-0.2.2\r\n"
     ]
    }
   ],
   "source": [
    "!pip install mnist"
   ]
  },
  {
   "cell_type": "markdown",
   "id": "69df9c9a",
   "metadata": {
    "papermill": {
     "duration": 0.022268,
     "end_time": "2022-02-24T20:09:10.918537",
     "exception": false,
     "start_time": "2022-02-24T20:09:10.896269",
     "status": "completed"
    },
    "tags": []
   },
   "source": [
    "## Preparing the Data"
   ]
  },
  {
   "cell_type": "code",
   "execution_count": 4,
   "id": "7f69d806",
   "metadata": {
    "execution": {
     "iopub.execute_input": "2022-02-24T20:09:10.969129Z",
     "iopub.status.busy": "2022-02-24T20:09:10.968662Z",
     "iopub.status.idle": "2022-02-24T20:09:10.980877Z",
     "shell.execute_reply": "2022-02-24T20:09:10.980498Z"
    },
    "papermill": {
     "duration": 0.04026,
     "end_time": "2022-02-24T20:09:10.980984",
     "exception": false,
     "start_time": "2022-02-24T20:09:10.940724",
     "status": "completed"
    },
    "tags": []
   },
   "outputs": [],
   "source": [
    "import mnist"
   ]
  },
  {
   "cell_type": "code",
   "execution_count": 5,
   "id": "a411e44f",
   "metadata": {
    "execution": {
     "iopub.execute_input": "2022-02-24T20:09:11.029034Z",
     "iopub.status.busy": "2022-02-24T20:09:11.028558Z",
     "iopub.status.idle": "2022-02-24T20:09:11.585852Z",
     "shell.execute_reply": "2022-02-24T20:09:11.585318Z"
    },
    "papermill": {
     "duration": 0.582748,
     "end_time": "2022-02-24T20:09:11.585999",
     "exception": false,
     "start_time": "2022-02-24T20:09:11.003251",
     "status": "completed"
    },
    "tags": []
   },
   "outputs": [],
   "source": [
    "train_images = mnist.train_images()\n",
    "train_labels = mnist.train_labels()"
   ]
  },
  {
   "cell_type": "code",
   "execution_count": 6,
   "id": "dceab3a5",
   "metadata": {
    "execution": {
     "iopub.execute_input": "2022-02-24T20:09:11.638655Z",
     "iopub.status.busy": "2022-02-24T20:09:11.638191Z",
     "iopub.status.idle": "2022-02-24T20:09:11.650671Z",
     "shell.execute_reply": "2022-02-24T20:09:11.651097Z"
    },
    "papermill": {
     "duration": 0.041748,
     "end_time": "2022-02-24T20:09:11.651229",
     "exception": false,
     "start_time": "2022-02-24T20:09:11.609481",
     "status": "completed"
    },
    "tags": []
   },
   "outputs": [
    {
     "data": {
      "text/plain": [
       "((60000, 28, 28), (60000,))"
      ]
     },
     "execution_count": 6,
     "metadata": {},
     "output_type": "execute_result"
    }
   ],
   "source": [
    "train_images.shape, train_labels.shape"
   ]
  },
  {
   "cell_type": "code",
   "execution_count": 7,
   "id": "f50dc2bb",
   "metadata": {
    "execution": {
     "iopub.execute_input": "2022-02-24T20:09:11.706938Z",
     "iopub.status.busy": "2022-02-24T20:09:11.706444Z",
     "iopub.status.idle": "2022-02-24T20:09:11.841626Z",
     "shell.execute_reply": "2022-02-24T20:09:11.841091Z"
    },
    "papermill": {
     "duration": 0.168069,
     "end_time": "2022-02-24T20:09:11.841769",
     "exception": false,
     "start_time": "2022-02-24T20:09:11.673700",
     "status": "completed"
    },
    "tags": []
   },
   "outputs": [],
   "source": [
    "test_images = mnist.test_images()\n",
    "test_labels = mnist.test_labels()"
   ]
  },
  {
   "cell_type": "code",
   "execution_count": 8,
   "id": "fc38cf1b",
   "metadata": {
    "execution": {
     "iopub.execute_input": "2022-02-24T20:09:11.891211Z",
     "iopub.status.busy": "2022-02-24T20:09:11.890762Z",
     "iopub.status.idle": "2022-02-24T20:09:11.905176Z",
     "shell.execute_reply": "2022-02-24T20:09:11.904797Z"
    },
    "papermill": {
     "duration": 0.039891,
     "end_time": "2022-02-24T20:09:11.905285",
     "exception": false,
     "start_time": "2022-02-24T20:09:11.865394",
     "status": "completed"
    },
    "tags": []
   },
   "outputs": [
    {
     "data": {
      "text/plain": [
       "((10000, 28, 28), (10000,))"
      ]
     },
     "execution_count": 8,
     "metadata": {},
     "output_type": "execute_result"
    }
   ],
   "source": [
    "test_images.shape, test_labels.shape"
   ]
  },
  {
   "cell_type": "code",
   "execution_count": 9,
   "id": "f9ed8fe0",
   "metadata": {
    "execution": {
     "iopub.execute_input": "2022-02-24T20:09:11.954122Z",
     "iopub.status.busy": "2022-02-24T20:09:11.953667Z",
     "iopub.status.idle": "2022-02-24T20:09:12.087265Z",
     "shell.execute_reply": "2022-02-24T20:09:12.086849Z"
    },
    "papermill": {
     "duration": 0.159491,
     "end_time": "2022-02-24T20:09:12.087377",
     "exception": false,
     "start_time": "2022-02-24T20:09:11.927886",
     "status": "completed"
    },
    "tags": []
   },
   "outputs": [
    {
     "name": "stdout",
     "output_type": "stream",
     "text": [
      "2\n"
     ]
    },
    {
     "data": {
      "text/plain": [
       "<matplotlib.image.AxesImage at 0x7fcf1d7cf5c0>"
      ]
     },
     "execution_count": 9,
     "metadata": {},
     "output_type": "execute_result"
    },
    {
     "data": {
      "image/png": "[encoded data removed]",
      "text/plain": [
       "<Figure size 432x288 with 1 Axes>"
      ]
     },
     "metadata": {
      "needs_background": "light"
     },
     "output_type": "display_data"
    }
   ],
   "source": [
    "image_index = 7776 # You may select anything up to 60,000\n",
    "print(train_labels[image_index]) \n",
    "plt.imshow(train_images[image_index], cmap='Greys')"
   ]
  },
  {
   "cell_type": "markdown",
   "id": "a8d2388d",
   "metadata": {
    "papermill": {
     "duration": 0.023613,
     "end_time": "2022-02-24T20:09:12.134767",
     "exception": false,
     "start_time": "2022-02-24T20:09:12.111154",
     "status": "completed"
    },
    "tags": []
   },
   "source": [
    "## Filter data to get 3 and 8 out"
   ]
  },
  {
   "cell_type": "code",
   "execution_count": 10,
   "id": "776f7fc7",
   "metadata": {
    "execution": {
     "iopub.execute_input": "2022-02-24T20:09:12.187117Z",
     "iopub.status.busy": "2022-02-24T20:09:12.186640Z",
     "iopub.status.idle": "2022-02-24T20:09:12.204483Z",
     "shell.execute_reply": "2022-02-24T20:09:12.204937Z"
    },
    "papermill": {
     "duration": 0.046697,
     "end_time": "2022-02-24T20:09:12.205084",
     "exception": false,
     "start_time": "2022-02-24T20:09:12.158387",
     "status": "completed"
    },
    "tags": []
   },
   "outputs": [],
   "source": [
    "train_filter = np.where((train_labels == 3 ) | (train_labels == 8))\n",
    "test_filter = np.where((test_labels == 3) | (test_labels == 8))\n",
    "X_train, y_train = train_images[train_filter], train_labels[train_filter]\n",
    "X_test, y_test = test_images[test_filter], test_labels[test_filter]"
   ]
  },
  {
   "cell_type": "markdown",
   "id": "948f0b7e",
   "metadata": {
    "papermill": {
     "duration": 0.023601,
     "end_time": "2022-02-24T20:09:12.253372",
     "exception": false,
     "start_time": "2022-02-24T20:09:12.229771",
     "status": "completed"
    },
    "tags": []
   },
   "source": [
    "We normalize the pizel values in the 0 to 1 range"
   ]
  },
  {
   "cell_type": "code",
   "execution_count": 11,
   "id": "ee4c2166",
   "metadata": {
    "execution": {
     "iopub.execute_input": "2022-02-24T20:09:12.314209Z",
     "iopub.status.busy": "2022-02-24T20:09:12.303825Z",
     "iopub.status.idle": "2022-02-24T20:09:12.354755Z",
     "shell.execute_reply": "2022-02-24T20:09:12.354234Z"
    },
    "papermill": {
     "duration": 0.077909,
     "end_time": "2022-02-24T20:09:12.354898",
     "exception": false,
     "start_time": "2022-02-24T20:09:12.276989",
     "status": "completed"
    },
    "tags": []
   },
   "outputs": [],
   "source": [
    "X_train = X_train/255.\n",
    "X_test = X_test/255."
   ]
  },
  {
   "cell_type": "markdown",
   "id": "ddcf4fab",
   "metadata": {
    "papermill": {
     "duration": 0.024682,
     "end_time": "2022-02-24T20:09:12.405359",
     "exception": false,
     "start_time": "2022-02-24T20:09:12.380677",
     "status": "completed"
    },
    "tags": []
   },
   "source": [
    "And setup the labels as 1 (when the digit is 3) and 0 (when the digit is 8)"
   ]
  },
  {
   "cell_type": "code",
   "execution_count": 12,
   "id": "7dc908f2",
   "metadata": {
    "execution": {
     "iopub.execute_input": "2022-02-24T20:09:12.464059Z",
     "iopub.status.busy": "2022-02-24T20:09:12.463559Z",
     "iopub.status.idle": "2022-02-24T20:09:12.471302Z",
     "shell.execute_reply": "2022-02-24T20:09:12.471669Z"
    },
    "papermill": {
     "duration": 0.041972,
     "end_time": "2022-02-24T20:09:12.471795",
     "exception": false,
     "start_time": "2022-02-24T20:09:12.429823",
     "status": "completed"
    },
    "tags": []
   },
   "outputs": [],
   "source": [
    "y_train = 1*(y_train==3)\n",
    "y_test = 1*(y_test==3)"
   ]
  },
  {
   "cell_type": "code",
   "execution_count": 13,
   "id": "01e4e969",
   "metadata": {
    "execution": {
     "iopub.execute_input": "2022-02-24T20:09:12.523392Z",
     "iopub.status.busy": "2022-02-24T20:09:12.522939Z",
     "iopub.status.idle": "2022-02-24T20:09:12.536093Z",
     "shell.execute_reply": "2022-02-24T20:09:12.535717Z"
    },
    "papermill": {
     "duration": 0.040744,
     "end_time": "2022-02-24T20:09:12.536199",
     "exception": false,
     "start_time": "2022-02-24T20:09:12.495455",
     "status": "completed"
    },
    "tags": []
   },
   "outputs": [
    {
     "data": {
      "text/plain": [
       "((11982, 28, 28), (1984, 28, 28))"
      ]
     },
     "execution_count": 13,
     "metadata": {},
     "output_type": "execute_result"
    }
   ],
   "source": [
    "X_train.shape, X_test.shape"
   ]
  },
  {
   "cell_type": "markdown",
   "id": "5ccf3f85",
   "metadata": {
    "papermill": {
     "duration": 0.023749,
     "end_time": "2022-02-24T20:09:12.583799",
     "exception": false,
     "start_time": "2022-02-24T20:09:12.560050",
     "status": "completed"
    },
    "tags": []
   },
   "source": [
    "We reshape the data to flatten the image pixels into a set of features or co-variates:"
   ]
  },
  {
   "cell_type": "code",
   "execution_count": 14,
   "id": "5286a4a3",
   "metadata": {
    "execution": {
     "iopub.execute_input": "2022-02-24T20:09:12.646363Z",
     "iopub.status.busy": "2022-02-24T20:09:12.645876Z",
     "iopub.status.idle": "2022-02-24T20:09:12.651788Z",
     "shell.execute_reply": "2022-02-24T20:09:12.652125Z"
    },
    "papermill": {
     "duration": 0.044421,
     "end_time": "2022-02-24T20:09:12.652253",
     "exception": false,
     "start_time": "2022-02-24T20:09:12.607832",
     "status": "completed"
    },
    "tags": []
   },
   "outputs": [
    {
     "data": {
      "text/plain": [
       "((11982, 784), (1984, 784))"
      ]
     },
     "execution_count": 14,
     "metadata": {},
     "output_type": "execute_result"
    }
   ],
   "source": [
    "X_train = X_train.reshape(X_train.shape[0], -1)\n",
    "X_test = X_test.reshape(X_test.shape[0], -1)\n",
    "X_train.shape, X_test.shape"
   ]
  },
  {
   "cell_type": "code",
   "execution_count": 15,
   "id": "73c5f88a",
   "metadata": {
    "execution": {
     "iopub.execute_input": "2022-02-24T20:09:12.714050Z",
     "iopub.status.busy": "2022-02-24T20:09:12.710707Z",
     "iopub.status.idle": "2022-02-24T20:09:12.725554Z",
     "shell.execute_reply": "2022-02-24T20:09:12.725920Z"
    },
    "papermill": {
     "duration": 0.049626,
     "end_time": "2022-02-24T20:09:12.726060",
     "exception": false,
     "start_time": "2022-02-24T20:09:12.676434",
     "status": "completed"
    },
    "tags": []
   },
   "outputs": [],
   "source": [
    "#Impoting functions from 'Kudzu'\n",
    "from kudzu.model import Model\n",
    "from kudzu.train import Learner\n",
    "from kudzu.optim import GD\n",
    "from kudzu.data import Data, Sampler,Dataloader\n",
    "\n",
    "from kudzu.callbacks import AccCallback\n",
    "from kudzu.callbacks import ClfCallback\n",
    "\n",
    "from kudzu.loss import MSE\n",
    "\n",
    "from kudzu.layer import Sigmoid,Relu\n",
    "from kudzu.layer import Affine"
   ]
  },
  {
   "cell_type": "markdown",
   "id": "bc01172a",
   "metadata": {
    "papermill": {
     "duration": 0.024508,
     "end_time": "2022-02-24T20:09:12.774881",
     "exception": false,
     "start_time": "2022-02-24T20:09:12.750373",
     "status": "completed"
    },
    "tags": []
   },
   "source": [
    "### Let us create a `Config` class, to store important parameters. \n",
    "This class essentially plays the role of a dictionary."
   ]
  },
  {
   "cell_type": "code",
   "execution_count": 16,
   "id": "978281aa",
   "metadata": {
    "execution": {
     "iopub.execute_input": "2022-02-24T20:09:12.840865Z",
     "iopub.status.busy": "2022-02-24T20:09:12.826361Z",
     "iopub.status.idle": "2022-02-24T20:09:12.843820Z",
     "shell.execute_reply": "2022-02-24T20:09:12.843444Z"
    },
    "papermill": {
     "duration": 0.045075,
     "end_time": "2022-02-24T20:09:12.843930",
     "exception": false,
     "start_time": "2022-02-24T20:09:12.798855",
     "status": "completed"
    },
    "tags": []
   },
   "outputs": [],
   "source": [
    "class Config:\n",
    "    pass\n",
    "config = Config()\n",
    "config.lr = 0.001\n",
    "config.num_epochs = 250\n",
    "config.bs = 50"
   ]
  },
  {
   "cell_type": "markdown",
   "id": "1385fa59",
   "metadata": {
    "papermill": {
     "duration": 0.0239,
     "end_time": "2022-02-24T20:09:12.892052",
     "exception": false,
     "start_time": "2022-02-24T20:09:12.868152",
     "status": "completed"
    },
    "tags": []
   },
   "source": [
    "### Running Models with the Training data\n",
    "Details about the network layers:\n",
    "- A first affine layer has 784 inputs and does 100 affine transforms. These are followed by a Relu\n",
    "- A second affine layer has 100 inputs from the 100 activations of the past layer, and does 100 affine transforms. These are followed by a Relu\n",
    "- A third affine layer has 100 activations and does 2 affine transformations to create an embedding for visualization. There is no non-linearity here.\n",
    "- A final \"logistic regression\" which has an affine transform from 2 inputs to 1 output, which is squeezed through a sigmoid.\n"
   ]
  },
  {
   "cell_type": "code",
   "execution_count": 17,
   "id": "2b9c66db",
   "metadata": {
    "execution": {
     "iopub.execute_input": "2022-02-24T20:09:12.945320Z",
     "iopub.status.busy": "2022-02-24T20:09:12.944844Z",
     "iopub.status.idle": "2022-02-24T20:09:12.956723Z",
     "shell.execute_reply": "2022-02-24T20:09:12.956322Z"
    },
    "papermill": {
     "duration": 0.040066,
     "end_time": "2022-02-24T20:09:12.956834",
     "exception": false,
     "start_time": "2022-02-24T20:09:12.916768",
     "status": "completed"
    },
    "tags": []
   },
   "outputs": [],
   "source": [
    "data = Data(X_train, y_train.reshape(-1,1))\n",
    "sampler = Sampler(data, config.bs, shuffle=True)\n",
    "\n",
    "dl = Dataloader(data, sampler)\n",
    "\n",
    "opt = GD(config.lr)\n",
    "loss = MSE()"
   ]
  },
  {
   "cell_type": "code",
   "execution_count": 18,
   "id": "b275e4c2",
   "metadata": {
    "execution": {
     "iopub.execute_input": "2022-02-24T20:09:13.009351Z",
     "iopub.status.busy": "2022-02-24T20:09:13.008873Z",
     "iopub.status.idle": "2022-02-24T20:09:13.020309Z",
     "shell.execute_reply": "2022-02-24T20:09:13.020676Z"
    },
    "papermill": {
     "duration": 0.039894,
     "end_time": "2022-02-24T20:09:13.020803",
     "exception": false,
     "start_time": "2022-02-24T20:09:12.980909",
     "status": "completed"
    },
    "tags": []
   },
   "outputs": [],
   "source": [
    "training_data_x = X_train\n",
    "testing_data_x = X_test\n",
    "training_data_y = y_train.reshape(-1,1)\n",
    "testing_data_y = y_test.reshape(-1,1)"
   ]
  },
  {
   "cell_type": "code",
   "execution_count": 19,
   "id": "76951160",
   "metadata": {
    "execution": {
     "iopub.execute_input": "2022-02-24T20:09:13.074004Z",
     "iopub.status.busy": "2022-02-24T20:09:13.073542Z",
     "iopub.status.idle": "2022-02-24T20:09:13.087679Z",
     "shell.execute_reply": "2022-02-24T20:09:13.088018Z"
    },
    "papermill": {
     "duration": 0.043345,
     "end_time": "2022-02-24T20:09:13.088143",
     "exception": false,
     "start_time": "2022-02-24T20:09:13.044798",
     "status": "completed"
    },
    "tags": []
   },
   "outputs": [
    {
     "name": "stdout",
     "output_type": "stream",
     "text": [
      "xavier\n",
      "xavier\n",
      "xavier\n",
      "xavier\n",
      "xavier\n"
     ]
    }
   ],
   "source": [
    "layers = [Affine(\"first\", 784, 100), Relu(\"first\"), Affine(\"second\", 100, 100), Relu(\"second\"), Affine(\"third\", 100, 2), Affine(\"last\", 2, 1), Sigmoid(\"last\")]\n",
    "model_nn = Model(layers)\n",
    "model_lr = Model([Affine(\"logits\", 784, 1), Sigmoid(\"sigmoid\")])"
   ]
  },
  {
   "cell_type": "code",
   "execution_count": 20,
   "id": "6eede77a",
   "metadata": {
    "execution": {
     "iopub.execute_input": "2022-02-24T20:09:13.155022Z",
     "iopub.status.busy": "2022-02-24T20:09:13.154555Z",
     "iopub.status.idle": "2022-02-24T20:09:13.159239Z",
     "shell.execute_reply": "2022-02-24T20:09:13.158875Z"
    },
    "papermill": {
     "duration": 0.046931,
     "end_time": "2022-02-24T20:09:13.159345",
     "exception": false,
     "start_time": "2022-02-24T20:09:13.112414",
     "status": "completed"
    },
    "tags": []
   },
   "outputs": [],
   "source": [
    "nn_learner = Learner(loss, model_nn, opt, config.num_epochs)\n",
    "acc_nn = ClfCallback(nn_learner, config.bs, training_data_x , testing_data_x, training_data_y, testing_data_y)\n",
    "nn_learner.set_callbacks([acc_nn])"
   ]
  },
  {
   "cell_type": "code",
   "execution_count": 21,
   "id": "877b6cc7",
   "metadata": {
    "execution": {
     "iopub.execute_input": "2022-02-24T20:09:13.211915Z",
     "iopub.status.busy": "2022-02-24T20:09:13.211456Z",
     "iopub.status.idle": "2022-02-24T20:09:13.223637Z",
     "shell.execute_reply": "2022-02-24T20:09:13.224073Z"
    },
    "papermill": {
     "duration": 0.0406,
     "end_time": "2022-02-24T20:09:13.224197",
     "exception": false,
     "start_time": "2022-02-24T20:09:13.183597",
     "status": "completed"
    },
    "tags": []
   },
   "outputs": [],
   "source": [
    "lr_learner = Learner(loss, model_lr, opt, config.num_epochs)\n",
    "acc_lr = ClfCallback(lr_learner, config.bs, training_data_x , testing_data_x, training_data_y, testing_data_y)\n",
    "lr_learner.set_callbacks([acc_lr])"
   ]
  },
  {
   "cell_type": "code",
   "execution_count": 22,
   "id": "d9b133c3",
   "metadata": {
    "execution": {
     "iopub.execute_input": "2022-02-24T20:09:13.276284Z",
     "iopub.status.busy": "2022-02-24T20:09:13.275826Z",
     "iopub.status.idle": "2022-02-24T20:10:37.511696Z",
     "shell.execute_reply": "2022-02-24T20:10:37.512427Z"
    },
    "papermill": {
     "duration": 84.263946,
     "end_time": "2022-02-24T20:10:37.512588",
     "exception": false,
     "start_time": "2022-02-24T20:09:13.248642",
     "status": "completed"
    },
    "tags": []
   },
   "outputs": [
    {
     "name": "stdout",
     "output_type": "stream",
     "text": [
      "Epoch 0, Loss 0.2206\n",
      "Training Accuracy: 0.7723, Testing Accuracy: 0.7772\n",
      "\n"
     ]
    },
    {
     "name": "stdout",
     "output_type": "stream",
     "text": [
      "Epoch 10, Loss 0.073\n",
      "Training Accuracy: 0.9295, Testing Accuracy: 0.9420\n",
      "\n"
     ]
    },
    {
     "name": "stdout",
     "output_type": "stream",
     "text": [
      "Epoch 20, Loss 0.0488\n",
      "Training Accuracy: 0.9469, Testing Accuracy: 0.9592\n",
      "\n"
     ]
    },
    {
     "name": "stdout",
     "output_type": "stream",
     "text": [
      "Epoch 30, Loss 0.0398\n",
      "Training Accuracy: 0.9569, Testing Accuracy: 0.9637\n",
      "\n"
     ]
    },
    {
     "name": "stdout",
     "output_type": "stream",
     "text": [
      "Epoch 40, Loss 0.035\n",
      "Training Accuracy: 0.9605, Testing Accuracy: 0.9652\n",
      "\n"
     ]
    },
    {
     "name": "stdout",
     "output_type": "stream",
     "text": [
      "Epoch 50, Loss 0.0319\n",
      "Training Accuracy: 0.9633, Testing Accuracy: 0.9662\n",
      "\n"
     ]
    },
    {
     "name": "stdout",
     "output_type": "stream",
     "text": [
      "Epoch 60, Loss 0.0298\n",
      "Training Accuracy: 0.9650, Testing Accuracy: 0.9672\n",
      "\n"
     ]
    },
    {
     "name": "stdout",
     "output_type": "stream",
     "text": [
      "Epoch 70, Loss 0.0281\n",
      "Training Accuracy: 0.9669, Testing Accuracy: 0.9688\n",
      "\n"
     ]
    },
    {
     "name": "stdout",
     "output_type": "stream",
     "text": [
      "Epoch 80, Loss 0.0268\n",
      "Training Accuracy: 0.9684, Testing Accuracy: 0.9703\n",
      "\n"
     ]
    },
    {
     "name": "stdout",
     "output_type": "stream",
     "text": [
      "Epoch 90, Loss 0.0258\n",
      "Training Accuracy: 0.9697, Testing Accuracy: 0.9698\n",
      "\n"
     ]
    },
    {
     "name": "stdout",
     "output_type": "stream",
     "text": [
      "Epoch 100, Loss 0.0249\n",
      "Training Accuracy: 0.9709, Testing Accuracy: 0.9708\n",
      "\n"
     ]
    },
    {
     "name": "stdout",
     "output_type": "stream",
     "text": [
      "Epoch 110, Loss 0.0241\n",
      "Training Accuracy: 0.9723, Testing Accuracy: 0.9723\n",
      "\n"
     ]
    },
    {
     "name": "stdout",
     "output_type": "stream",
     "text": [
      "Epoch 120, Loss 0.0233\n",
      "Training Accuracy: 0.9729, Testing Accuracy: 0.9733\n",
      "\n"
     ]
    },
    {
     "name": "stdout",
     "output_type": "stream",
     "text": [
      "Epoch 130, Loss 0.0227\n",
      "Training Accuracy: 0.9740, Testing Accuracy: 0.9733\n",
      "\n"
     ]
    },
    {
     "name": "stdout",
     "output_type": "stream",
     "text": [
      "Epoch 140, Loss 0.0221\n",
      "Training Accuracy: 0.9751, Testing Accuracy: 0.9738\n",
      "\n"
     ]
    },
    {
     "name": "stdout",
     "output_type": "stream",
     "text": [
      "Epoch 150, Loss 0.0216\n",
      "Training Accuracy: 0.9758, Testing Accuracy: 0.9743\n",
      "\n"
     ]
    },
    {
     "name": "stdout",
     "output_type": "stream",
     "text": [
      "Epoch 160, Loss 0.021\n",
      "Training Accuracy: 0.9761, Testing Accuracy: 0.9738\n",
      "\n"
     ]
    },
    {
     "name": "stdout",
     "output_type": "stream",
     "text": [
      "Epoch 170, Loss 0.0206\n",
      "Training Accuracy: 0.9764, Testing Accuracy: 0.9738\n",
      "\n"
     ]
    },
    {
     "name": "stdout",
     "output_type": "stream",
     "text": [
      "Epoch 180, Loss 0.0201\n",
      "Training Accuracy: 0.9776, Testing Accuracy: 0.9743\n",
      "\n"
     ]
    },
    {
     "name": "stdout",
     "output_type": "stream",
     "text": [
      "Epoch 190, Loss 0.0197\n",
      "Training Accuracy: 0.9786, Testing Accuracy: 0.9743\n",
      "\n"
     ]
    },
    {
     "name": "stdout",
     "output_type": "stream",
     "text": [
      "Epoch 200, Loss 0.0193\n",
      "Training Accuracy: 0.9791, Testing Accuracy: 0.9748\n",
      "\n"
     ]
    },
    {
     "name": "stdout",
     "output_type": "stream",
     "text": [
      "Epoch 210, Loss 0.0189\n",
      "Training Accuracy: 0.9792, Testing Accuracy: 0.9753\n",
      "\n"
     ]
    },
    {
     "name": "stdout",
     "output_type": "stream",
     "text": [
      "Epoch 220, Loss 0.0185\n",
      "Training Accuracy: 0.9796, Testing Accuracy: 0.9758\n",
      "\n"
     ]
    },
    {
     "name": "stdout",
     "output_type": "stream",
     "text": [
      "Epoch 230, Loss 0.0181\n",
      "Training Accuracy: 0.9799, Testing Accuracy: 0.9758\n",
      "\n"
     ]
    },
    {
     "name": "stdout",
     "output_type": "stream",
     "text": [
      "Epoch 240, Loss 0.0177\n",
      "Training Accuracy: 0.9804, Testing Accuracy: 0.9768\n",
      "\n"
     ]
    },
    {
     "data": {
      "text/plain": [
       "0.006655285819727415"
      ]
     },
     "execution_count": 22,
     "metadata": {},
     "output_type": "execute_result"
    }
   ],
   "source": [
    "nn_learner.train_loop(dl)"
   ]
  },
  {
   "cell_type": "code",
   "execution_count": 23,
   "id": "e0163366",
   "metadata": {
    "execution": {
     "iopub.execute_input": "2022-02-24T20:10:37.585097Z",
     "iopub.status.busy": "2022-02-24T20:10:37.584613Z",
     "iopub.status.idle": "2022-02-24T20:10:52.745594Z",
     "shell.execute_reply": "2022-02-24T20:10:52.746265Z"
    },
    "papermill": {
     "duration": 15.203107,
     "end_time": "2022-02-24T20:10:52.746407",
     "exception": false,
     "start_time": "2022-02-24T20:10:37.543300",
     "status": "completed"
    },
    "tags": []
   },
   "outputs": [
    {
     "name": "stdout",
     "output_type": "stream",
     "text": [
      "Epoch 0, Loss 0.2644\n",
      "Training Accuracy: 0.5707, Testing Accuracy: 0.5998\n",
      "\n"
     ]
    },
    {
     "name": "stdout",
     "output_type": "stream",
     "text": [
      "Epoch 10, Loss 0.1057\n",
      "Training Accuracy: 0.9053, Testing Accuracy: 0.9183\n",
      "\n"
     ]
    },
    {
     "name": "stdout",
     "output_type": "stream",
     "text": [
      "Epoch 20, Loss 0.0798\n",
      "Training Accuracy: 0.9266, Testing Accuracy: 0.9375\n",
      "\n"
     ]
    },
    {
     "name": "stdout",
     "output_type": "stream",
     "text": [
      "Epoch 30, Loss 0.0683\n",
      "Training Accuracy: 0.9362, Testing Accuracy: 0.9461\n",
      "\n"
     ]
    },
    {
     "name": "stdout",
     "output_type": "stream",
     "text": [
      "Epoch 40, Loss 0.0615\n",
      "Training Accuracy: 0.9427, Testing Accuracy: 0.9506\n",
      "\n"
     ]
    },
    {
     "name": "stdout",
     "output_type": "stream",
     "text": [
      "Epoch 50, Loss 0.0569\n",
      "Training Accuracy: 0.9455, Testing Accuracy: 0.9531\n",
      "\n"
     ]
    },
    {
     "name": "stdout",
     "output_type": "stream",
     "text": [
      "Epoch 60, Loss 0.0535\n",
      "Training Accuracy: 0.9483, Testing Accuracy: 0.9561\n",
      "\n"
     ]
    },
    {
     "name": "stdout",
     "output_type": "stream",
     "text": [
      "Epoch 70, Loss 0.051\n",
      "Training Accuracy: 0.9498, Testing Accuracy: 0.9572\n",
      "\n"
     ]
    },
    {
     "name": "stdout",
     "output_type": "stream",
     "text": [
      "Epoch 80, Loss 0.0489\n",
      "Training Accuracy: 0.9517, Testing Accuracy: 0.9587\n",
      "\n"
     ]
    },
    {
     "name": "stdout",
     "output_type": "stream",
     "text": [
      "Epoch 90, Loss 0.0472\n",
      "Training Accuracy: 0.9541, Testing Accuracy: 0.9597\n",
      "\n"
     ]
    },
    {
     "name": "stdout",
     "output_type": "stream",
     "text": [
      "Epoch 100, Loss 0.0458\n",
      "Training Accuracy: 0.9548, Testing Accuracy: 0.9612\n",
      "\n"
     ]
    },
    {
     "name": "stdout",
     "output_type": "stream",
     "text": [
      "Epoch 110, Loss 0.0446\n",
      "Training Accuracy: 0.9558, Testing Accuracy: 0.9622\n",
      "\n"
     ]
    },
    {
     "name": "stdout",
     "output_type": "stream",
     "text": [
      "Epoch 120, Loss 0.0435\n",
      "Training Accuracy: 0.9560, Testing Accuracy: 0.9627\n",
      "\n"
     ]
    },
    {
     "name": "stdout",
     "output_type": "stream",
     "text": [
      "Epoch 130, Loss 0.0426\n",
      "Training Accuracy: 0.9567, Testing Accuracy: 0.9637\n",
      "\n"
     ]
    },
    {
     "name": "stdout",
     "output_type": "stream",
     "text": [
      "Epoch 140, Loss 0.0418\n",
      "Training Accuracy: 0.9569, Testing Accuracy: 0.9642\n",
      "\n"
     ]
    },
    {
     "name": "stdout",
     "output_type": "stream",
     "text": [
      "Epoch 150, Loss 0.041\n",
      "Training Accuracy: 0.9579, Testing Accuracy: 0.9642\n",
      "\n"
     ]
    },
    {
     "name": "stdout",
     "output_type": "stream",
     "text": [
      "Epoch 160, Loss 0.0403\n",
      "Training Accuracy: 0.9585, Testing Accuracy: 0.9652\n",
      "\n"
     ]
    },
    {
     "name": "stdout",
     "output_type": "stream",
     "text": [
      "Epoch 170, Loss 0.0397\n",
      "Training Accuracy: 0.9591, Testing Accuracy: 0.9657\n",
      "\n"
     ]
    },
    {
     "name": "stdout",
     "output_type": "stream",
     "text": [
      "Epoch 180, Loss 0.0392\n",
      "Training Accuracy: 0.9596, Testing Accuracy: 0.9662\n",
      "\n"
     ]
    },
    {
     "name": "stdout",
     "output_type": "stream",
     "text": [
      "Epoch 190, Loss 0.0387\n",
      "Training Accuracy: 0.9604, Testing Accuracy: 0.9662\n",
      "\n"
     ]
    },
    {
     "name": "stdout",
     "output_type": "stream",
     "text": [
      "Epoch 200, Loss 0.0382\n",
      "Training Accuracy: 0.9609, Testing Accuracy: 0.9662\n",
      "\n"
     ]
    },
    {
     "name": "stdout",
     "output_type": "stream",
     "text": [
      "Epoch 210, Loss 0.0378\n",
      "Training Accuracy: 0.9612, Testing Accuracy: 0.9667\n",
      "\n"
     ]
    },
    {
     "name": "stdout",
     "output_type": "stream",
     "text": [
      "Epoch 220, Loss 0.0373\n",
      "Training Accuracy: 0.9614, Testing Accuracy: 0.9667\n",
      "\n"
     ]
    },
    {
     "name": "stdout",
     "output_type": "stream",
     "text": [
      "Epoch 230, Loss 0.037\n",
      "Training Accuracy: 0.9616, Testing Accuracy: 0.9667\n",
      "\n"
     ]
    },
    {
     "name": "stdout",
     "output_type": "stream",
     "text": [
      "Epoch 240, Loss 0.0366\n",
      "Training Accuracy: 0.9615, Testing Accuracy: 0.9667\n",
      "\n"
     ]
    },
    {
     "data": {
      "text/plain": [
       "0.07630123181595574"
      ]
     },
     "execution_count": 23,
     "metadata": {},
     "output_type": "execute_result"
    }
   ],
   "source": [
    "lr_learner.train_loop(dl)"
   ]
  },
  {
   "cell_type": "code",
   "execution_count": 24,
   "id": "ca410940",
   "metadata": {
    "execution": {
     "iopub.execute_input": "2022-02-24T20:10:52.833800Z",
     "iopub.status.busy": "2022-02-24T20:10:52.833309Z",
     "iopub.status.idle": "2022-02-24T20:10:53.034936Z",
     "shell.execute_reply": "2022-02-24T20:10:53.035317Z"
    },
    "papermill": {
     "duration": 0.252278,
     "end_time": "2022-02-24T20:10:53.035449",
     "exception": false,
     "start_time": "2022-02-24T20:10:52.783171",
     "status": "completed"
    },
    "tags": []
   },
   "outputs": [
    {
     "data": {
      "text/plain": [
       "<matplotlib.legend.Legend at 0x7fcf1d3abc88>"
      ]
     },
     "execution_count": 24,
     "metadata": {},
     "output_type": "execute_result"
    },
    {
     "data": {
      "image/png": "[encoded data removed]",
      "text/plain": [
       "<Figure size 1080x720 with 1 Axes>"
      ]
     },
     "metadata": {
      "needs_background": "light"
     },
     "output_type": "display_data"
    }
   ],
   "source": [
    "#comparing the results of NN and LR\n",
    "plt.figure(figsize=(15,10))\n",
    "\n",
    "# Neural Network plots\n",
    "plt.plot(acc_nn.accuracies, 'r-', label = \"Training Accuracies - NN\")\n",
    "plt.plot(acc_nn.test_accuracies, 'g-', label = \"Testing Accuracies - NN\")\n",
    "\n",
    "# Logistic Regression plots\n",
    "plt.plot(acc_lr.accuracies, 'k-', label = \"Training Accuracies - LR\")\n",
    "plt.plot(acc_lr.test_accuracies, 'b-', label = \"Testing Accuracies - LR\")\n",
    "plt.legend()"
   ]
  },
  {
   "cell_type": "markdown",
   "id": "80dfb35c",
   "metadata": {
    "papermill": {
     "duration": 0.037158,
     "end_time": "2022-02-24T20:10:53.110182",
     "exception": false,
     "start_time": "2022-02-24T20:10:53.073024",
     "status": "completed"
    },
    "tags": []
   },
   "source": [
    "#### Plotting the outputs of this layer of the NN.\n"
   ]
  },
  {
   "cell_type": "code",
   "execution_count": 25,
   "id": "45eb2ff5",
   "metadata": {
    "execution": {
     "iopub.execute_input": "2022-02-24T20:10:53.188533Z",
     "iopub.status.busy": "2022-02-24T20:10:53.188036Z",
     "iopub.status.idle": "2022-02-24T20:10:53.208606Z",
     "shell.execute_reply": "2022-02-24T20:10:53.208994Z"
    },
    "papermill": {
     "duration": 0.061682,
     "end_time": "2022-02-24T20:10:53.209127",
     "exception": false,
     "start_time": "2022-02-24T20:10:53.147445",
     "status": "completed"
    },
    "tags": []
   },
   "outputs": [],
   "source": [
    "new_model = Model(layers[:-2])\n",
    "testing_plot = new_model(testing_data_x)"
   ]
  },
  {
   "cell_type": "code",
   "execution_count": 26,
   "id": "4c0a5485",
   "metadata": {
    "execution": {
     "iopub.execute_input": "2022-02-24T20:10:53.290882Z",
     "iopub.status.busy": "2022-02-24T20:10:53.289742Z",
     "iopub.status.idle": "2022-02-24T20:10:53.486136Z",
     "shell.execute_reply": "2022-02-24T20:10:53.485637Z"
    },
    "papermill": {
     "duration": 0.2394,
     "end_time": "2022-02-24T20:10:53.486275",
     "exception": false,
     "start_time": "2022-02-24T20:10:53.246875",
     "status": "completed"
    },
    "tags": []
   },
   "outputs": [
    {
     "data": {
      "text/plain": [
       "Text(0.5, 1.0, 'Outputs')"
      ]
     },
     "execution_count": 26,
     "metadata": {},
     "output_type": "execute_result"
    },
    {
     "data": {
      "image/png": "[encoded data removed]",
      "text/plain": [
       "<Figure size 576x504 with 1 Axes>"
      ]
     },
     "metadata": {
      "needs_background": "light"
     },
     "output_type": "display_data"
    }
   ],
   "source": [
    "# Plotting the scatter plot of points and color coding by class\n",
    "plt.figure(figsize=(8,7))\n",
    "plt.scatter(testing_plot[:,0], testing_plot[:,1], alpha = 0.1, c = y_test.ravel());\n",
    "plt.title('Outputs')"
   ]
  },
  {
   "cell_type": "markdown",
   "id": "a74fcf8f",
   "metadata": {
    "papermill": {
     "duration": 0.040159,
     "end_time": "2022-02-24T20:10:53.567509",
     "exception": false,
     "start_time": "2022-02-24T20:10:53.527350",
     "status": "completed"
    },
    "tags": []
   },
   "source": [
    "Probability contours"
   ]
  },
  {
   "cell_type": "code",
   "execution_count": 27,
   "id": "d0afc8e3",
   "metadata": {
    "execution": {
     "iopub.execute_input": "2022-02-24T20:10:53.680761Z",
     "iopub.status.busy": "2022-02-24T20:10:53.680266Z",
     "iopub.status.idle": "2022-02-24T20:10:53.691589Z",
     "shell.execute_reply": "2022-02-24T20:10:53.691216Z"
    },
    "papermill": {
     "duration": 0.083826,
     "end_time": "2022-02-24T20:10:53.691695",
     "exception": false,
     "start_time": "2022-02-24T20:10:53.607869",
     "status": "completed"
    },
    "tags": []
   },
   "outputs": [],
   "source": [
    "model_prob = Model(layers[-2:]) "
   ]
  },
  {
   "cell_type": "code",
   "execution_count": 28,
   "id": "9b96e238",
   "metadata": {
    "execution": {
     "iopub.execute_input": "2022-02-24T20:10:53.782022Z",
     "iopub.status.busy": "2022-02-24T20:10:53.781531Z",
     "iopub.status.idle": "2022-02-24T20:10:53.791959Z",
     "shell.execute_reply": "2022-02-24T20:10:53.792297Z"
    },
    "papermill": {
     "duration": 0.06013,
     "end_time": "2022-02-24T20:10:53.792428",
     "exception": false,
     "start_time": "2022-02-24T20:10:53.732298",
     "status": "completed"
    },
    "tags": []
   },
   "outputs": [],
   "source": [
    "#creating the x and y ranges according to the above generated plot.\n",
    "x_range = np.linspace(-4, 1, 100) \n",
    "y_range = np.linspace(-6, 6, 100) \n",
    "x_grid, y_grid = np.meshgrid(x_range, y_range) # x_grid and y_grig are of size 100 X 100\n",
    "\n",
    "# converting x_grid and y_grid to continuous arrays\n",
    "x_gridflat = np.ravel(x_grid)\n",
    "y_gridflat = np.ravel(y_grid)\n",
    "\n",
    "# The last layer of the current model takes two columns as input. Hence transpose of np.vstack() is required.\n",
    "X = np.vstack((x_gridflat, y_gridflat)).T\n",
    "\n",
    "prob_contour = model_prob(X).reshape(100,100) "
   ]
  },
  {
   "cell_type": "code",
   "execution_count": 29,
   "id": "da72499a",
   "metadata": {
    "execution": {
     "iopub.execute_input": "2022-02-24T20:10:53.878057Z",
     "iopub.status.busy": "2022-02-24T20:10:53.877579Z",
     "iopub.status.idle": "2022-02-24T20:10:54.102707Z",
     "shell.execute_reply": "2022-02-24T20:10:54.103143Z"
    },
    "papermill": {
     "duration": 0.270152,
     "end_time": "2022-02-24T20:10:54.103290",
     "exception": false,
     "start_time": "2022-02-24T20:10:53.833138",
     "status": "completed"
    },
    "tags": []
   },
   "outputs": [
    {
     "data": {
      "image/png": "[encoded data removed]",
      "text/plain": [
       "<Figure size 720x648 with 1 Axes>"
      ]
     },
     "metadata": {
      "needs_background": "light"
     },
     "output_type": "display_data"
    }
   ],
   "source": [
    "plt.figure(figsize=(10,9))\n",
    "plt.scatter(testing_plot[:,0], testing_plot[:,1], alpha = 0.1, c = y_test.ravel())\n",
    "contours = plt.contour(x_grid,y_grid,prob_contour)\n",
    "plt.title('Probability Contours')\n",
    "plt.clabel(contours, inline = True );"
   ]
  },
  {
   "cell_type": "code",
   "execution_count": null,
   "id": "e81b4ac7",
   "metadata": {
    "papermill": {
     "duration": 0.04226,
     "end_time": "2022-02-24T20:10:54.190069",
     "exception": false,
     "start_time": "2022-02-24T20:10:54.147809",
     "status": "completed"
    },
    "tags": []
   },
   "outputs": [],
   "source": []
  }
 ],
 "metadata": {
  "kernelspec": {
   "display_name": "Python 3",
   "language": "python",
   "name": "python3"
  },
  "language_info": {
   "codemirror_mode": {
    "name": "ipython",
    "version": 3
   },
   "file_extension": ".py",
   "mimetype": "text/x-python",
   "name": "python",
   "nbconvert_exporter": "python",
   "pygments_lexer": "ipython3",
   "version": "3.6.15"
  },
  "papermill": {
   "default_parameters": {},
   "duration": 108.031406,
   "end_time": "2022-02-24T20:10:54.651645",
   "environment_variables": {},
   "exception": null,
   "input_path": "2020-08-11-part2.ipynb",
   "output_path": "2020-08-11-part2.ipynb",
   "parameters": {},
   "start_time": "2022-02-24T20:09:06.620239",
   "version": "2.3.3"
  }
 },
 "nbformat": 4,
 "nbformat_minor": 5
}