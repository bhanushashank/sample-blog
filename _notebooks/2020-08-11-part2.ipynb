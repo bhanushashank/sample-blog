{
 "cells": [
  {
   "cell_type": "markdown",
   "id": "98380cd3",
   "metadata": {
    "papermill": {
     "duration": 0.033434,
     "end_time": "2022-07-30T20:10:22.418771",
     "exception": false,
     "start_time": "2022-07-30T20:10:22.385337",
     "status": "completed"
    },
    "tags": []
   },
   "source": [
    "# Distinguish Your Own Digits (DYOD)"
   ]
  },
  {
   "cell_type": "markdown",
   "id": "ef31240d",
   "metadata": {
    "papermill": {
     "duration": 0.025323,
     "end_time": "2022-07-30T20:10:22.470394",
     "exception": false,
     "start_time": "2022-07-30T20:10:22.445071",
     "status": "completed"
    },
    "tags": []
   },
   "source": [
    "You are going to write a classifier that distinguishes between the number 3 and number 8."
   ]
  },
  {
   "cell_type": "code",
   "execution_count": 1,
   "id": "b15c8646",
   "metadata": {
    "execution": {
     "iopub.execute_input": "2022-07-30T20:10:22.534603Z",
     "iopub.status.busy": "2022-07-30T20:10:22.533950Z",
     "iopub.status.idle": "2022-07-30T20:10:22.546494Z",
     "shell.execute_reply": "2022-07-30T20:10:22.547157Z"
    },
    "papermill": {
     "duration": 0.051866,
     "end_time": "2022-07-30T20:10:22.547330",
     "exception": false,
     "start_time": "2022-07-30T20:10:22.495464",
     "status": "completed"
    },
    "tags": []
   },
   "outputs": [],
   "source": [
    "%load_ext autoreload\n",
    "%autoreload 2"
   ]
  },
  {
   "cell_type": "code",
   "execution_count": 2,
   "id": "22ef38dc",
   "metadata": {
    "execution": {
     "iopub.execute_input": "2022-07-30T20:10:22.600629Z",
     "iopub.status.busy": "2022-07-30T20:10:22.600077Z",
     "iopub.status.idle": "2022-07-30T20:10:23.198652Z",
     "shell.execute_reply": "2022-07-30T20:10:23.197742Z"
    },
    "papermill": {
     "duration": 0.626661,
     "end_time": "2022-07-30T20:10:23.198788",
     "exception": false,
     "start_time": "2022-07-30T20:10:22.572127",
     "status": "completed"
    },
    "tags": []
   },
   "outputs": [],
   "source": [
    "%matplotlib inline\n",
    "import numpy as np\n",
    "import matplotlib.pyplot as plt\n",
    "import pandas as pd"
   ]
  },
  {
   "cell_type": "markdown",
   "id": "ba036198",
   "metadata": {
    "papermill": {
     "duration": 0.023458,
     "end_time": "2022-07-30T20:10:23.247783",
     "exception": false,
     "start_time": "2022-07-30T20:10:23.224325",
     "status": "completed"
    },
    "tags": []
   },
   "source": [
    "From the command line run `pip install mnist`. This is a library that will help you bring down the mnist dataset. If you run this from a notebook, you need to put  `!pip install mnist` in a cell by itself."
   ]
  },
  {
   "cell_type": "code",
   "execution_count": 3,
   "id": "bb6ad8a1",
   "metadata": {
    "execution": {
     "iopub.execute_input": "2022-07-30T20:10:23.302957Z",
     "iopub.status.busy": "2022-07-30T20:10:23.302315Z",
     "iopub.status.idle": "2022-07-30T20:10:25.281863Z",
     "shell.execute_reply": "2022-07-30T20:10:25.280827Z"
    },
    "papermill": {
     "duration": 2.011233,
     "end_time": "2022-07-30T20:10:25.282018",
     "exception": false,
     "start_time": "2022-07-30T20:10:23.270785",
     "status": "completed"
    },
    "tags": []
   },
   "outputs": [
    {
     "name": "stdout",
     "output_type": "stream",
     "text": [
      "Collecting mnist\r\n"
     ]
    },
    {
     "name": "stdout",
     "output_type": "stream",
     "text": [
      "  Downloading mnist-0.2.2-py2.py3-none-any.whl (3.5 kB)\r\n",
      "Requirement already satisfied: numpy in /opt/hostedtoolcache/Python/3.6.15/x64/lib/python3.6/site-packages (from mnist) (1.19.5)\r\n"
     ]
    },
    {
     "name": "stdout",
     "output_type": "stream",
     "text": [
      "Installing collected packages: mnist\r\n"
     ]
    },
    {
     "name": "stdout",
     "output_type": "stream",
     "text": [
      "Successfully installed mnist-0.2.2\r\n"
     ]
    }
   ],
   "source": [
    "!pip install mnist"
   ]
  },
  {
   "cell_type": "markdown",
   "id": "69df9c9a",
   "metadata": {
    "papermill": {
     "duration": 0.027385,
     "end_time": "2022-07-30T20:10:25.340953",
     "exception": false,
     "start_time": "2022-07-30T20:10:25.313568",
     "status": "completed"
    },
    "tags": []
   },
   "source": [
    "## Preparing the Data"
   ]
  },
  {
   "cell_type": "code",
   "execution_count": 4,
   "id": "7f69d806",
   "metadata": {
    "execution": {
     "iopub.execute_input": "2022-07-30T20:10:25.408699Z",
     "iopub.status.busy": "2022-07-30T20:10:25.406572Z",
     "iopub.status.idle": "2022-07-30T20:10:25.421904Z",
     "shell.execute_reply": "2022-07-30T20:10:25.421406Z"
    },
    "papermill": {
     "duration": 0.048394,
     "end_time": "2022-07-30T20:10:25.422032",
     "exception": false,
     "start_time": "2022-07-30T20:10:25.373638",
     "status": "completed"
    },
    "tags": []
   },
   "outputs": [],
   "source": [
    "import mnist"
   ]
  },
  {
   "cell_type": "code",
   "execution_count": 5,
   "id": "a411e44f",
   "metadata": {
    "execution": {
     "iopub.execute_input": "2022-07-30T20:10:25.478047Z",
     "iopub.status.busy": "2022-07-30T20:10:25.477485Z",
     "iopub.status.idle": "2022-07-30T20:10:26.130144Z",
     "shell.execute_reply": "2022-07-30T20:10:26.129418Z"
    },
    "papermill": {
     "duration": 0.682587,
     "end_time": "2022-07-30T20:10:26.130300",
     "exception": false,
     "start_time": "2022-07-30T20:10:25.447713",
     "status": "completed"
    },
    "tags": []
   },
   "outputs": [],
   "source": [
    "train_images = mnist.train_images()\n",
    "train_labels = mnist.train_labels()"
   ]
  },
  {
   "cell_type": "code",
   "execution_count": 6,
   "id": "dceab3a5",
   "metadata": {
    "execution": {
     "iopub.execute_input": "2022-07-30T20:10:26.189409Z",
     "iopub.status.busy": "2022-07-30T20:10:26.188740Z",
     "iopub.status.idle": "2022-07-30T20:10:26.204274Z",
     "shell.execute_reply": "2022-07-30T20:10:26.203605Z"
    },
    "papermill": {
     "duration": 0.045949,
     "end_time": "2022-07-30T20:10:26.204394",
     "exception": false,
     "start_time": "2022-07-30T20:10:26.158445",
     "status": "completed"
    },
    "tags": []
   },
   "outputs": [
    {
     "data": {
      "text/plain": [
       "((60000, 28, 28), (60000,))"
      ]
     },
     "execution_count": 6,
     "metadata": {},
     "output_type": "execute_result"
    }
   ],
   "source": [
    "train_images.shape, train_labels.shape"
   ]
  },
  {
   "cell_type": "code",
   "execution_count": 7,
   "id": "f50dc2bb",
   "metadata": {
    "execution": {
     "iopub.execute_input": "2022-07-30T20:10:26.264871Z",
     "iopub.status.busy": "2022-07-30T20:10:26.264220Z",
     "iopub.status.idle": "2022-07-30T20:10:26.426713Z",
     "shell.execute_reply": "2022-07-30T20:10:26.426136Z"
    },
    "papermill": {
     "duration": 0.192914,
     "end_time": "2022-07-30T20:10:26.426856",
     "exception": false,
     "start_time": "2022-07-30T20:10:26.233942",
     "status": "completed"
    },
    "tags": []
   },
   "outputs": [],
   "source": [
    "test_images = mnist.test_images()\n",
    "test_labels = mnist.test_labels()"
   ]
  },
  {
   "cell_type": "code",
   "execution_count": 8,
   "id": "fc38cf1b",
   "metadata": {
    "execution": {
     "iopub.execute_input": "2022-07-30T20:10:26.494771Z",
     "iopub.status.busy": "2022-07-30T20:10:26.494128Z",
     "iopub.status.idle": "2022-07-30T20:10:26.508868Z",
     "shell.execute_reply": "2022-07-30T20:10:26.509361Z"
    },
    "papermill": {
     "duration": 0.049484,
     "end_time": "2022-07-30T20:10:26.509503",
     "exception": false,
     "start_time": "2022-07-30T20:10:26.460019",
     "status": "completed"
    },
    "tags": []
   },
   "outputs": [
    {
     "data": {
      "text/plain": [
       "((10000, 28, 28), (10000,))"
      ]
     },
     "execution_count": 8,
     "metadata": {},
     "output_type": "execute_result"
    }
   ],
   "source": [
    "test_images.shape, test_labels.shape"
   ]
  },
  {
   "cell_type": "code",
   "execution_count": 9,
   "id": "f9ed8fe0",
   "metadata": {
    "execution": {
     "iopub.execute_input": "2022-07-30T20:10:26.571120Z",
     "iopub.status.busy": "2022-07-30T20:10:26.570486Z",
     "iopub.status.idle": "2022-07-30T20:10:26.725151Z",
     "shell.execute_reply": "2022-07-30T20:10:26.725658Z"
    },
    "papermill": {
     "duration": 0.188208,
     "end_time": "2022-07-30T20:10:26.725828",
     "exception": false,
     "start_time": "2022-07-30T20:10:26.537620",
     "status": "completed"
    },
    "tags": []
   },
   "outputs": [
    {
     "name": "stdout",
     "output_type": "stream",
     "text": [
      "2\n"
     ]
    },
    {
     "data": {
      "text/plain": [
       "<matplotlib.image.AxesImage at 0x7f18a65c44e0>"
      ]
     },
     "execution_count": 9,
     "metadata": {},
     "output_type": "execute_result"
    },
    {
     "data": {
      "image/png": "[encoded data removed]",
      "text/plain": [
       "<Figure size 432x288 with 1 Axes>"
      ]
     },
     "metadata": {
      "needs_background": "light"
     },
     "output_type": "display_data"
    }
   ],
   "source": [
    "image_index = 7776 # You may select anything up to 60,000\n",
    "print(train_labels[image_index]) \n",
    "plt.imshow(train_images[image_index], cmap='Greys')"
   ]
  },
  {
   "cell_type": "markdown",
   "id": "a8d2388d",
   "metadata": {
    "papermill": {
     "duration": 0.028714,
     "end_time": "2022-07-30T20:10:26.783390",
     "exception": false,
     "start_time": "2022-07-30T20:10:26.754676",
     "status": "completed"
    },
    "tags": []
   },
   "source": [
    "## Filter data to get 3 and 8 out"
   ]
  },
  {
   "cell_type": "code",
   "execution_count": 10,
   "id": "776f7fc7",
   "metadata": {
    "execution": {
     "iopub.execute_input": "2022-07-30T20:10:26.842948Z",
     "iopub.status.busy": "2022-07-30T20:10:26.842257Z",
     "iopub.status.idle": "2022-07-30T20:10:26.863632Z",
     "shell.execute_reply": "2022-07-30T20:10:26.863072Z"
    },
    "papermill": {
     "duration": 0.053286,
     "end_time": "2022-07-30T20:10:26.863792",
     "exception": false,
     "start_time": "2022-07-30T20:10:26.810506",
     "status": "completed"
    },
    "tags": []
   },
   "outputs": [],
   "source": [
    "train_filter = np.where((train_labels == 3 ) | (train_labels == 8))\n",
    "test_filter = np.where((test_labels == 3) | (test_labels == 8))\n",
    "X_train, y_train = train_images[train_filter], train_labels[train_filter]\n",
    "X_test, y_test = test_images[test_filter], test_labels[test_filter]"
   ]
  },
  {
   "cell_type": "markdown",
   "id": "948f0b7e",
   "metadata": {
    "papermill": {
     "duration": 0.028521,
     "end_time": "2022-07-30T20:10:26.920461",
     "exception": false,
     "start_time": "2022-07-30T20:10:26.891940",
     "status": "completed"
    },
    "tags": []
   },
   "source": [
    "We normalize the pizel values in the 0 to 1 range"
   ]
  },
  {
   "cell_type": "code",
   "execution_count": 11,
   "id": "ee4c2166",
   "metadata": {
    "execution": {
     "iopub.execute_input": "2022-07-30T20:10:26.986099Z",
     "iopub.status.busy": "2022-07-30T20:10:26.985466Z",
     "iopub.status.idle": "2022-07-30T20:10:27.039077Z",
     "shell.execute_reply": "2022-07-30T20:10:27.038502Z"
    },
    "papermill": {
     "duration": 0.089632,
     "end_time": "2022-07-30T20:10:27.039242",
     "exception": false,
     "start_time": "2022-07-30T20:10:26.949610",
     "status": "completed"
    },
    "tags": []
   },
   "outputs": [],
   "source": [
    "X_train = X_train/255.\n",
    "X_test = X_test/255."
   ]
  },
  {
   "cell_type": "markdown",
   "id": "ddcf4fab",
   "metadata": {
    "papermill": {
     "duration": 0.029644,
     "end_time": "2022-07-30T20:10:27.098388",
     "exception": false,
     "start_time": "2022-07-30T20:10:27.068744",
     "status": "completed"
    },
    "tags": []
   },
   "source": [
    "And setup the labels as 1 (when the digit is 3) and 0 (when the digit is 8)"
   ]
  },
  {
   "cell_type": "code",
   "execution_count": 12,
   "id": "7dc908f2",
   "metadata": {
    "execution": {
     "iopub.execute_input": "2022-07-30T20:10:27.160291Z",
     "iopub.status.busy": "2022-07-30T20:10:27.159434Z",
     "iopub.status.idle": "2022-07-30T20:10:27.172894Z",
     "shell.execute_reply": "2022-07-30T20:10:27.172218Z"
    },
    "papermill": {
     "duration": 0.046709,
     "end_time": "2022-07-30T20:10:27.173015",
     "exception": false,
     "start_time": "2022-07-30T20:10:27.126306",
     "status": "completed"
    },
    "tags": []
   },
   "outputs": [],
   "source": [
    "y_train = 1*(y_train==3)\n",
    "y_test = 1*(y_test==3)"
   ]
  },
  {
   "cell_type": "code",
   "execution_count": 13,
   "id": "01e4e969",
   "metadata": {
    "execution": {
     "iopub.execute_input": "2022-07-30T20:10:27.239621Z",
     "iopub.status.busy": "2022-07-30T20:10:27.238373Z",
     "iopub.status.idle": "2022-07-30T20:10:27.251494Z",
     "shell.execute_reply": "2022-07-30T20:10:27.250975Z"
    },
    "papermill": {
     "duration": 0.050366,
     "end_time": "2022-07-30T20:10:27.251611",
     "exception": false,
     "start_time": "2022-07-30T20:10:27.201245",
     "status": "completed"
    },
    "tags": []
   },
   "outputs": [
    {
     "data": {
      "text/plain": [
       "((11982, 28, 28), (1984, 28, 28))"
      ]
     },
     "execution_count": 13,
     "metadata": {},
     "output_type": "execute_result"
    }
   ],
   "source": [
    "X_train.shape, X_test.shape"
   ]
  },
  {
   "cell_type": "markdown",
   "id": "5ccf3f85",
   "metadata": {
    "papermill": {
     "duration": 0.026996,
     "end_time": "2022-07-30T20:10:27.308253",
     "exception": false,
     "start_time": "2022-07-30T20:10:27.281257",
     "status": "completed"
    },
    "tags": []
   },
   "source": [
    "We reshape the data to flatten the image pixels into a set of features or co-variates:"
   ]
  },
  {
   "cell_type": "code",
   "execution_count": 14,
   "id": "5286a4a3",
   "metadata": {
    "execution": {
     "iopub.execute_input": "2022-07-30T20:10:27.371295Z",
     "iopub.status.busy": "2022-07-30T20:10:27.370591Z",
     "iopub.status.idle": "2022-07-30T20:10:27.387493Z",
     "shell.execute_reply": "2022-07-30T20:10:27.386936Z"
    },
    "papermill": {
     "duration": 0.051388,
     "end_time": "2022-07-30T20:10:27.387622",
     "exception": false,
     "start_time": "2022-07-30T20:10:27.336234",
     "status": "completed"
    },
    "tags": []
   },
   "outputs": [
    {
     "data": {
      "text/plain": [
       "((11982, 784), (1984, 784))"
      ]
     },
     "execution_count": 14,
     "metadata": {},
     "output_type": "execute_result"
    }
   ],
   "source": [
    "X_train = X_train.reshape(X_train.shape[0], -1)\n",
    "X_test = X_test.reshape(X_test.shape[0], -1)\n",
    "X_train.shape, X_test.shape"
   ]
  },
  {
   "cell_type": "code",
   "execution_count": 15,
   "id": "73c5f88a",
   "metadata": {
    "execution": {
     "iopub.execute_input": "2022-07-30T20:10:27.453589Z",
     "iopub.status.busy": "2022-07-30T20:10:27.452940Z",
     "iopub.status.idle": "2022-07-30T20:10:27.474689Z",
     "shell.execute_reply": "2022-07-30T20:10:27.474222Z"
    },
    "papermill": {
     "duration": 0.057621,
     "end_time": "2022-07-30T20:10:27.474797",
     "exception": false,
     "start_time": "2022-07-30T20:10:27.417176",
     "status": "completed"
    },
    "tags": []
   },
   "outputs": [],
   "source": [
    "#Impoting functions from 'Kudzu'\n",
    "from kudzu.model import Model\n",
    "from kudzu.train import Learner\n",
    "from kudzu.optim import GD\n",
    "from kudzu.data import Data, Sampler,Dataloader\n",
    "\n",
    "from kudzu.callbacks import AccCallback\n",
    "from kudzu.callbacks import ClfCallback\n",
    "\n",
    "from kudzu.loss import MSE\n",
    "\n",
    "from kudzu.layer import Sigmoid,Relu\n",
    "from kudzu.layer import Affine"
   ]
  },
  {
   "cell_type": "markdown",
   "id": "bc01172a",
   "metadata": {
    "papermill": {
     "duration": 0.026603,
     "end_time": "2022-07-30T20:10:27.529712",
     "exception": false,
     "start_time": "2022-07-30T20:10:27.503109",
     "status": "completed"
    },
    "tags": []
   },
   "source": [
    "### Let us create a `Config` class, to store important parameters. \n",
    "This class essentially plays the role of a dictionary."
   ]
  },
  {
   "cell_type": "code",
   "execution_count": 16,
   "id": "978281aa",
   "metadata": {
    "execution": {
     "iopub.execute_input": "2022-07-30T20:10:27.587090Z",
     "iopub.status.busy": "2022-07-30T20:10:27.586529Z",
     "iopub.status.idle": "2022-07-30T20:10:27.599647Z",
     "shell.execute_reply": "2022-07-30T20:10:27.599086Z"
    },
    "papermill": {
     "duration": 0.044095,
     "end_time": "2022-07-30T20:10:27.599806",
     "exception": false,
     "start_time": "2022-07-30T20:10:27.555711",
     "status": "completed"
    },
    "tags": []
   },
   "outputs": [],
   "source": [
    "class Config:\n",
    "    pass\n",
    "config = Config()\n",
    "config.lr = 0.001\n",
    "config.num_epochs = 250\n",
    "config.bs = 50"
   ]
  },
  {
   "cell_type": "markdown",
   "id": "1385fa59",
   "metadata": {
    "papermill": {
     "duration": 0.029692,
     "end_time": "2022-07-30T20:10:27.657150",
     "exception": false,
     "start_time": "2022-07-30T20:10:27.627458",
     "status": "completed"
    },
    "tags": []
   },
   "source": [
    "### Running Models with the Training data\n",
    "Details about the network layers:\n",
    "- A first affine layer has 784 inputs and does 100 affine transforms. These are followed by a Relu\n",
    "- A second affine layer has 100 inputs from the 100 activations of the past layer, and does 100 affine transforms. These are followed by a Relu\n",
    "- A third affine layer has 100 activations and does 2 affine transformations to create an embedding for visualization. There is no non-linearity here.\n",
    "- A final \"logistic regression\" which has an affine transform from 2 inputs to 1 output, which is squeezed through a sigmoid.\n"
   ]
  },
  {
   "cell_type": "code",
   "execution_count": 17,
   "id": "2b9c66db",
   "metadata": {
    "execution": {
     "iopub.execute_input": "2022-07-30T20:10:27.723952Z",
     "iopub.status.busy": "2022-07-30T20:10:27.723218Z",
     "iopub.status.idle": "2022-07-30T20:10:27.740454Z",
     "shell.execute_reply": "2022-07-30T20:10:27.739865Z"
    },
    "papermill": {
     "duration": 0.053546,
     "end_time": "2022-07-30T20:10:27.740594",
     "exception": false,
     "start_time": "2022-07-30T20:10:27.687048",
     "status": "completed"
    },
    "tags": []
   },
   "outputs": [],
   "source": [
    "data = Data(X_train, y_train.reshape(-1,1))\n",
    "sampler = Sampler(data, config.bs, shuffle=True)\n",
    "\n",
    "dl = Dataloader(data, sampler)\n",
    "\n",
    "opt = GD(config.lr)\n",
    "loss = MSE()"
   ]
  },
  {
   "cell_type": "code",
   "execution_count": 18,
   "id": "b275e4c2",
   "metadata": {
    "execution": {
     "iopub.execute_input": "2022-07-30T20:10:27.803759Z",
     "iopub.status.busy": "2022-07-30T20:10:27.803050Z",
     "iopub.status.idle": "2022-07-30T20:10:27.820586Z",
     "shell.execute_reply": "2022-07-30T20:10:27.819965Z"
    },
    "papermill": {
     "duration": 0.05045,
     "end_time": "2022-07-30T20:10:27.820706",
     "exception": false,
     "start_time": "2022-07-30T20:10:27.770256",
     "status": "completed"
    },
    "tags": []
   },
   "outputs": [],
   "source": [
    "training_data_x = X_train\n",
    "testing_data_x = X_test\n",
    "training_data_y = y_train.reshape(-1,1)\n",
    "testing_data_y = y_test.reshape(-1,1)"
   ]
  },
  {
   "cell_type": "code",
   "execution_count": 19,
   "id": "76951160",
   "metadata": {
    "execution": {
     "iopub.execute_input": "2022-07-30T20:10:27.881614Z",
     "iopub.status.busy": "2022-07-30T20:10:27.881051Z",
     "iopub.status.idle": "2022-07-30T20:10:27.899106Z",
     "shell.execute_reply": "2022-07-30T20:10:27.898488Z"
    },
    "papermill": {
     "duration": 0.050198,
     "end_time": "2022-07-30T20:10:27.899224",
     "exception": false,
     "start_time": "2022-07-30T20:10:27.849026",
     "status": "completed"
    },
    "tags": []
   },
   "outputs": [
    {
     "name": "stdout",
     "output_type": "stream",
     "text": [
      "xavier\n",
      "xavier\n",
      "xavier\n",
      "xavier\n",
      "xavier\n"
     ]
    }
   ],
   "source": [
    "layers = [Affine(\"first\", 784, 100), Relu(\"first\"), Affine(\"second\", 100, 100), Relu(\"second\"), Affine(\"third\", 100, 2), Affine(\"last\", 2, 1), Sigmoid(\"last\")]\n",
    "model_nn = Model(layers)\n",
    "model_lr = Model([Affine(\"logits\", 784, 1), Sigmoid(\"sigmoid\")])"
   ]
  },
  {
   "cell_type": "code",
   "execution_count": 20,
   "id": "6eede77a",
   "metadata": {
    "execution": {
     "iopub.execute_input": "2022-07-30T20:10:27.964468Z",
     "iopub.status.busy": "2022-07-30T20:10:27.963798Z",
     "iopub.status.idle": "2022-07-30T20:10:27.978034Z",
     "shell.execute_reply": "2022-07-30T20:10:27.977511Z"
    },
    "papermill": {
     "duration": 0.048751,
     "end_time": "2022-07-30T20:10:27.978154",
     "exception": false,
     "start_time": "2022-07-30T20:10:27.929403",
     "status": "completed"
    },
    "tags": []
   },
   "outputs": [],
   "source": [
    "nn_learner = Learner(loss, model_nn, opt, config.num_epochs)\n",
    "acc_nn = ClfCallback(nn_learner, config.bs, training_data_x , testing_data_x, training_data_y, testing_data_y)\n",
    "nn_learner.set_callbacks([acc_nn])"
   ]
  },
  {
   "cell_type": "code",
   "execution_count": 21,
   "id": "877b6cc7",
   "metadata": {
    "execution": {
     "iopub.execute_input": "2022-07-30T20:10:28.040728Z",
     "iopub.status.busy": "2022-07-30T20:10:28.040136Z",
     "iopub.status.idle": "2022-07-30T20:10:28.055868Z",
     "shell.execute_reply": "2022-07-30T20:10:28.055322Z"
    },
    "papermill": {
     "duration": 0.048762,
     "end_time": "2022-07-30T20:10:28.055998",
     "exception": false,
     "start_time": "2022-07-30T20:10:28.007236",
     "status": "completed"
    },
    "tags": []
   },
   "outputs": [],
   "source": [
    "lr_learner = Learner(loss, model_lr, opt, config.num_epochs)\n",
    "acc_lr = ClfCallback(lr_learner, config.bs, training_data_x , testing_data_x, training_data_y, testing_data_y)\n",
    "lr_learner.set_callbacks([acc_lr])"
   ]
  },
  {
   "cell_type": "code",
   "execution_count": 22,
   "id": "d9b133c3",
   "metadata": {
    "execution": {
     "iopub.execute_input": "2022-07-30T20:10:28.121457Z",
     "iopub.status.busy": "2022-07-30T20:10:28.120272Z",
     "iopub.status.idle": "2022-07-30T20:11:54.290084Z",
     "shell.execute_reply": "2022-07-30T20:11:54.291022Z"
    },
    "papermill": {
     "duration": 86.205742,
     "end_time": "2022-07-30T20:11:54.291181",
     "exception": false,
     "start_time": "2022-07-30T20:10:28.085439",
     "status": "completed"
    },
    "tags": []
   },
   "outputs": [
    {
     "name": "stdout",
     "output_type": "stream",
     "text": [
      "Epoch 0, Loss 0.2418\n",
      "Training Accuracy: 0.6990, Testing Accuracy: 0.7283\n",
      "\n"
     ]
    },
    {
     "name": "stdout",
     "output_type": "stream",
     "text": [
      "Epoch 10, Loss 0.0767\n",
      "Training Accuracy: 0.9286, Testing Accuracy: 0.9430\n",
      "\n"
     ]
    },
    {
     "name": "stdout",
     "output_type": "stream",
     "text": [
      "Epoch 20, Loss 0.0496\n",
      "Training Accuracy: 0.9478, Testing Accuracy: 0.9622\n",
      "\n"
     ]
    },
    {
     "name": "stdout",
     "output_type": "stream",
     "text": [
      "Epoch 30, Loss 0.0401\n",
      "Training Accuracy: 0.9575, Testing Accuracy: 0.9667\n",
      "\n"
     ]
    },
    {
     "name": "stdout",
     "output_type": "stream",
     "text": [
      "Epoch 40, Loss 0.0353\n",
      "Training Accuracy: 0.9609, Testing Accuracy: 0.9677\n",
      "\n"
     ]
    },
    {
     "name": "stdout",
     "output_type": "stream",
     "text": [
      "Epoch 50, Loss 0.0322\n",
      "Training Accuracy: 0.9639, Testing Accuracy: 0.9723\n",
      "\n"
     ]
    },
    {
     "name": "stdout",
     "output_type": "stream",
     "text": [
      "Epoch 60, Loss 0.03\n",
      "Training Accuracy: 0.9659, Testing Accuracy: 0.9728\n",
      "\n"
     ]
    },
    {
     "name": "stdout",
     "output_type": "stream",
     "text": [
      "Epoch 70, Loss 0.0282\n",
      "Training Accuracy: 0.9678, Testing Accuracy: 0.9733\n",
      "\n"
     ]
    },
    {
     "name": "stdout",
     "output_type": "stream",
     "text": [
      "Epoch 80, Loss 0.0268\n",
      "Training Accuracy: 0.9690, Testing Accuracy: 0.9743\n",
      "\n"
     ]
    },
    {
     "name": "stdout",
     "output_type": "stream",
     "text": [
      "Epoch 90, Loss 0.0256\n",
      "Training Accuracy: 0.9704, Testing Accuracy: 0.9748\n",
      "\n"
     ]
    },
    {
     "name": "stdout",
     "output_type": "stream",
     "text": [
      "Epoch 100, Loss 0.0246\n",
      "Training Accuracy: 0.9720, Testing Accuracy: 0.9763\n",
      "\n"
     ]
    },
    {
     "name": "stdout",
     "output_type": "stream",
     "text": [
      "Epoch 110, Loss 0.0237\n",
      "Training Accuracy: 0.9728, Testing Accuracy: 0.9758\n",
      "\n"
     ]
    },
    {
     "name": "stdout",
     "output_type": "stream",
     "text": [
      "Epoch 120, Loss 0.0229\n",
      "Training Accuracy: 0.9737, Testing Accuracy: 0.9768\n",
      "\n"
     ]
    },
    {
     "name": "stdout",
     "output_type": "stream",
     "text": [
      "Epoch 130, Loss 0.0221\n",
      "Training Accuracy: 0.9745, Testing Accuracy: 0.9763\n",
      "\n"
     ]
    },
    {
     "name": "stdout",
     "output_type": "stream",
     "text": [
      "Epoch 140, Loss 0.0214\n",
      "Training Accuracy: 0.9762, Testing Accuracy: 0.9763\n",
      "\n"
     ]
    },
    {
     "name": "stdout",
     "output_type": "stream",
     "text": [
      "Epoch 150, Loss 0.0208\n",
      "Training Accuracy: 0.9770, Testing Accuracy: 0.9763\n",
      "\n"
     ]
    },
    {
     "name": "stdout",
     "output_type": "stream",
     "text": [
      "Epoch 160, Loss 0.0201\n",
      "Training Accuracy: 0.9776, Testing Accuracy: 0.9773\n",
      "\n"
     ]
    },
    {
     "name": "stdout",
     "output_type": "stream",
     "text": [
      "Epoch 170, Loss 0.0196\n",
      "Training Accuracy: 0.9781, Testing Accuracy: 0.9778\n",
      "\n"
     ]
    },
    {
     "name": "stdout",
     "output_type": "stream",
     "text": [
      "Epoch 180, Loss 0.019\n",
      "Training Accuracy: 0.9791, Testing Accuracy: 0.9778\n",
      "\n"
     ]
    },
    {
     "name": "stdout",
     "output_type": "stream",
     "text": [
      "Epoch 190, Loss 0.0185\n",
      "Training Accuracy: 0.9797, Testing Accuracy: 0.9778\n",
      "\n"
     ]
    },
    {
     "name": "stdout",
     "output_type": "stream",
     "text": [
      "Epoch 200, Loss 0.0181\n",
      "Training Accuracy: 0.9806, Testing Accuracy: 0.9783\n",
      "\n"
     ]
    },
    {
     "name": "stdout",
     "output_type": "stream",
     "text": [
      "Epoch 210, Loss 0.0176\n",
      "Training Accuracy: 0.9809, Testing Accuracy: 0.9788\n",
      "\n"
     ]
    },
    {
     "name": "stdout",
     "output_type": "stream",
     "text": [
      "Epoch 220, Loss 0.0172\n",
      "Training Accuracy: 0.9814, Testing Accuracy: 0.9788\n",
      "\n"
     ]
    },
    {
     "name": "stdout",
     "output_type": "stream",
     "text": [
      "Epoch 230, Loss 0.0168\n",
      "Training Accuracy: 0.9819, Testing Accuracy: 0.9788\n",
      "\n"
     ]
    },
    {
     "name": "stdout",
     "output_type": "stream",
     "text": [
      "Epoch 240, Loss 0.0164\n",
      "Training Accuracy: 0.9824, Testing Accuracy: 0.9803\n",
      "\n"
     ]
    },
    {
     "data": {
      "text/plain": [
       "0.008606040443942316"
      ]
     },
     "execution_count": 22,
     "metadata": {},
     "output_type": "execute_result"
    }
   ],
   "source": [
    "nn_learner.train_loop(dl)"
   ]
  },
  {
   "cell_type": "code",
   "execution_count": 23,
   "id": "e0163366",
   "metadata": {
    "execution": {
     "iopub.execute_input": "2022-07-30T20:11:54.381324Z",
     "iopub.status.busy": "2022-07-30T20:11:54.380692Z",
     "iopub.status.idle": "2022-07-30T20:12:09.166405Z",
     "shell.execute_reply": "2022-07-30T20:12:09.167304Z"
    },
    "papermill": {
     "duration": 14.836938,
     "end_time": "2022-07-30T20:12:09.167463",
     "exception": false,
     "start_time": "2022-07-30T20:11:54.330525",
     "status": "completed"
    },
    "tags": []
   },
   "outputs": [
    {
     "name": "stdout",
     "output_type": "stream",
     "text": [
      "Epoch 0, Loss 0.2813\n",
      "Training Accuracy: 0.5315, Testing Accuracy: 0.5338\n",
      "\n"
     ]
    },
    {
     "name": "stdout",
     "output_type": "stream",
     "text": [
      "Epoch 10, Loss 0.1046\n",
      "Training Accuracy: 0.9151, Testing Accuracy: 0.9259\n",
      "\n"
     ]
    },
    {
     "name": "stdout",
     "output_type": "stream",
     "text": [
      "Epoch 20, Loss 0.0795\n",
      "Training Accuracy: 0.9285, Testing Accuracy: 0.9425\n",
      "\n"
     ]
    },
    {
     "name": "stdout",
     "output_type": "stream",
     "text": [
      "Epoch 30, Loss 0.0683\n",
      "Training Accuracy: 0.9370, Testing Accuracy: 0.9496\n",
      "\n"
     ]
    },
    {
     "name": "stdout",
     "output_type": "stream",
     "text": [
      "Epoch 40, Loss 0.0617\n",
      "Training Accuracy: 0.9412, Testing Accuracy: 0.9536\n",
      "\n"
     ]
    },
    {
     "name": "stdout",
     "output_type": "stream",
     "text": [
      "Epoch 50, Loss 0.0572\n",
      "Training Accuracy: 0.9442, Testing Accuracy: 0.9561\n",
      "\n"
     ]
    },
    {
     "name": "stdout",
     "output_type": "stream",
     "text": [
      "Epoch 60, Loss 0.0539\n",
      "Training Accuracy: 0.9468, Testing Accuracy: 0.9572\n",
      "\n"
     ]
    },
    {
     "name": "stdout",
     "output_type": "stream",
     "text": [
      "Epoch 70, Loss 0.0513\n",
      "Training Accuracy: 0.9486, Testing Accuracy: 0.9582\n",
      "\n"
     ]
    },
    {
     "name": "stdout",
     "output_type": "stream",
     "text": [
      "Epoch 80, Loss 0.0493\n",
      "Training Accuracy: 0.9497, Testing Accuracy: 0.9597\n",
      "\n"
     ]
    },
    {
     "name": "stdout",
     "output_type": "stream",
     "text": [
      "Epoch 90, Loss 0.0476\n",
      "Training Accuracy: 0.9510, Testing Accuracy: 0.9607\n",
      "\n"
     ]
    },
    {
     "name": "stdout",
     "output_type": "stream",
     "text": [
      "Epoch 100, Loss 0.0462\n",
      "Training Accuracy: 0.9528, Testing Accuracy: 0.9617\n",
      "\n"
     ]
    },
    {
     "name": "stdout",
     "output_type": "stream",
     "text": [
      "Epoch 110, Loss 0.045\n",
      "Training Accuracy: 0.9538, Testing Accuracy: 0.9632\n",
      "\n"
     ]
    },
    {
     "name": "stdout",
     "output_type": "stream",
     "text": [
      "Epoch 120, Loss 0.0439\n",
      "Training Accuracy: 0.9552, Testing Accuracy: 0.9642\n",
      "\n"
     ]
    },
    {
     "name": "stdout",
     "output_type": "stream",
     "text": [
      "Epoch 130, Loss 0.043\n",
      "Training Accuracy: 0.9556, Testing Accuracy: 0.9642\n",
      "\n"
     ]
    },
    {
     "name": "stdout",
     "output_type": "stream",
     "text": [
      "Epoch 140, Loss 0.0422\n",
      "Training Accuracy: 0.9563, Testing Accuracy: 0.9642\n",
      "\n"
     ]
    },
    {
     "name": "stdout",
     "output_type": "stream",
     "text": [
      "Epoch 150, Loss 0.0414\n",
      "Training Accuracy: 0.9564, Testing Accuracy: 0.9642\n",
      "\n"
     ]
    },
    {
     "name": "stdout",
     "output_type": "stream",
     "text": [
      "Epoch 160, Loss 0.0407\n",
      "Training Accuracy: 0.9570, Testing Accuracy: 0.9647\n",
      "\n"
     ]
    },
    {
     "name": "stdout",
     "output_type": "stream",
     "text": [
      "Epoch 170, Loss 0.0401\n",
      "Training Accuracy: 0.9576, Testing Accuracy: 0.9642\n",
      "\n"
     ]
    },
    {
     "name": "stdout",
     "output_type": "stream",
     "text": [
      "Epoch 180, Loss 0.0396\n",
      "Training Accuracy: 0.9586, Testing Accuracy: 0.9642\n",
      "\n"
     ]
    },
    {
     "name": "stdout",
     "output_type": "stream",
     "text": [
      "Epoch 190, Loss 0.039\n",
      "Training Accuracy: 0.9587, Testing Accuracy: 0.9642\n",
      "\n"
     ]
    },
    {
     "name": "stdout",
     "output_type": "stream",
     "text": [
      "Epoch 200, Loss 0.0386\n",
      "Training Accuracy: 0.9593, Testing Accuracy: 0.9642\n",
      "\n"
     ]
    },
    {
     "name": "stdout",
     "output_type": "stream",
     "text": [
      "Epoch 210, Loss 0.0381\n",
      "Training Accuracy: 0.9595, Testing Accuracy: 0.9642\n",
      "\n"
     ]
    },
    {
     "name": "stdout",
     "output_type": "stream",
     "text": [
      "Epoch 220, Loss 0.0377\n",
      "Training Accuracy: 0.9599, Testing Accuracy: 0.9642\n",
      "\n"
     ]
    },
    {
     "name": "stdout",
     "output_type": "stream",
     "text": [
      "Epoch 230, Loss 0.0373\n",
      "Training Accuracy: 0.9602, Testing Accuracy: 0.9647\n",
      "\n"
     ]
    },
    {
     "name": "stdout",
     "output_type": "stream",
     "text": [
      "Epoch 240, Loss 0.0369\n",
      "Training Accuracy: 0.9607, Testing Accuracy: 0.9647\n",
      "\n"
     ]
    },
    {
     "data": {
      "text/plain": [
       "0.029418511139567373"
      ]
     },
     "execution_count": 23,
     "metadata": {},
     "output_type": "execute_result"
    }
   ],
   "source": [
    "lr_learner.train_loop(dl)"
   ]
  },
  {
   "cell_type": "code",
   "execution_count": 24,
   "id": "ca410940",
   "metadata": {
    "execution": {
     "iopub.execute_input": "2022-07-30T20:12:09.273595Z",
     "iopub.status.busy": "2022-07-30T20:12:09.272887Z",
     "iopub.status.idle": "2022-07-30T20:12:09.519748Z",
     "shell.execute_reply": "2022-07-30T20:12:09.519144Z"
    },
    "papermill": {
     "duration": 0.306843,
     "end_time": "2022-07-30T20:12:09.519890",
     "exception": false,
     "start_time": "2022-07-30T20:12:09.213047",
     "status": "completed"
    },
    "tags": []
   },
   "outputs": [
    {
     "data": {
      "text/plain": [
       "<matplotlib.legend.Legend at 0x7f18a6122be0>"
      ]
     },
     "execution_count": 24,
     "metadata": {},
     "output_type": "execute_result"
    },
    {
     "data": {
      "image/png": "[encoded data removed]",
      "text/plain": [
       "<Figure size 1080x720 with 1 Axes>"
      ]
     },
     "metadata": {
      "needs_background": "light"
     },
     "output_type": "display_data"
    }
   ],
   "source": [
    "#comparing the results of NN and LR\n",
    "plt.figure(figsize=(15,10))\n",
    "\n",
    "# Neural Network plots\n",
    "plt.plot(acc_nn.accuracies, 'r-', label = \"Training Accuracies - NN\")\n",
    "plt.plot(acc_nn.test_accuracies, 'g-', label = \"Testing Accuracies - NN\")\n",
    "\n",
    "# Logistic Regression plots\n",
    "plt.plot(acc_lr.accuracies, 'k-', label = \"Training Accuracies - LR\")\n",
    "plt.plot(acc_lr.test_accuracies, 'b-', label = \"Testing Accuracies - LR\")\n",
    "plt.legend()"
   ]
  },
  {
   "cell_type": "markdown",
   "id": "80dfb35c",
   "metadata": {
    "papermill": {
     "duration": 0.046731,
     "end_time": "2022-07-30T20:12:09.614365",
     "exception": false,
     "start_time": "2022-07-30T20:12:09.567634",
     "status": "completed"
    },
    "tags": []
   },
   "source": [
    "#### Plotting the outputs of this layer of the NN.\n"
   ]
  },
  {
   "cell_type": "code",
   "execution_count": 25,
   "id": "45eb2ff5",
   "metadata": {
    "execution": {
     "iopub.execute_input": "2022-07-30T20:12:09.708237Z",
     "iopub.status.busy": "2022-07-30T20:12:09.707135Z",
     "iopub.status.idle": "2022-07-30T20:12:09.728442Z",
     "shell.execute_reply": "2022-07-30T20:12:09.729134Z"
    },
    "papermill": {
     "duration": 0.071244,
     "end_time": "2022-07-30T20:12:09.729267",
     "exception": false,
     "start_time": "2022-07-30T20:12:09.658023",
     "status": "completed"
    },
    "tags": []
   },
   "outputs": [],
   "source": [
    "new_model = Model(layers[:-2])\n",
    "testing_plot = new_model(testing_data_x)"
   ]
  },
  {
   "cell_type": "code",
   "execution_count": 26,
   "id": "4c0a5485",
   "metadata": {
    "execution": {
     "iopub.execute_input": "2022-07-30T20:12:09.829562Z",
     "iopub.status.busy": "2022-07-30T20:12:09.828933Z",
     "iopub.status.idle": "2022-07-30T20:12:10.039216Z",
     "shell.execute_reply": "2022-07-30T20:12:10.039708Z"
    },
    "papermill": {
     "duration": 0.263218,
     "end_time": "2022-07-30T20:12:10.039877",
     "exception": false,
     "start_time": "2022-07-30T20:12:09.776659",
     "status": "completed"
    },
    "tags": []
   },
   "outputs": [
    {
     "data": {
      "text/plain": [
       "Text(0.5, 1.0, 'Outputs')"
      ]
     },
     "execution_count": 26,
     "metadata": {},
     "output_type": "execute_result"
    },
    {
     "data": {
      "image/png": "[encoded data removed]",
      "text/plain": [
       "<Figure size 576x504 with 1 Axes>"
      ]
     },
     "metadata": {
      "needs_background": "light"
     },
     "output_type": "display_data"
    }
   ],
   "source": [
    "# Plotting the scatter plot of points and color coding by class\n",
    "plt.figure(figsize=(8,7))\n",
    "plt.scatter(testing_plot[:,0], testing_plot[:,1], alpha = 0.1, c = y_test.ravel());\n",
    "plt.title('Outputs')"
   ]
  },
  {
   "cell_type": "markdown",
   "id": "a74fcf8f",
   "metadata": {
    "papermill": {
     "duration": 0.047298,
     "end_time": "2022-07-30T20:12:10.136193",
     "exception": false,
     "start_time": "2022-07-30T20:12:10.088895",
     "status": "completed"
    },
    "tags": []
   },
   "source": [
    "Probability contours"
   ]
  },
  {
   "cell_type": "code",
   "execution_count": 27,
   "id": "d0afc8e3",
   "metadata": {
    "execution": {
     "iopub.execute_input": "2022-07-30T20:12:10.270623Z",
     "iopub.status.busy": "2022-07-30T20:12:10.269407Z",
     "iopub.status.idle": "2022-07-30T20:12:10.280234Z",
     "shell.execute_reply": "2022-07-30T20:12:10.279651Z"
    },
    "papermill": {
     "duration": 0.06485,
     "end_time": "2022-07-30T20:12:10.280346",
     "exception": false,
     "start_time": "2022-07-30T20:12:10.215496",
     "status": "completed"
    },
    "tags": []
   },
   "outputs": [],
   "source": [
    "model_prob = Model(layers[-2:]) "
   ]
  },
  {
   "cell_type": "code",
   "execution_count": 28,
   "id": "9b96e238",
   "metadata": {
    "execution": {
     "iopub.execute_input": "2022-07-30T20:12:10.385223Z",
     "iopub.status.busy": "2022-07-30T20:12:10.384565Z",
     "iopub.status.idle": "2022-07-30T20:12:10.399620Z",
     "shell.execute_reply": "2022-07-30T20:12:10.400145Z"
    },
    "papermill": {
     "duration": 0.072608,
     "end_time": "2022-07-30T20:12:10.400291",
     "exception": false,
     "start_time": "2022-07-30T20:12:10.327683",
     "status": "completed"
    },
    "tags": []
   },
   "outputs": [],
   "source": [
    "#creating the x and y ranges according to the above generated plot.\n",
    "x_range = np.linspace(-4, 1, 100) \n",
    "y_range = np.linspace(-6, 6, 100) \n",
    "x_grid, y_grid = np.meshgrid(x_range, y_range) # x_grid and y_grig are of size 100 X 100\n",
    "\n",
    "# converting x_grid and y_grid to continuous arrays\n",
    "x_gridflat = np.ravel(x_grid)\n",
    "y_gridflat = np.ravel(y_grid)\n",
    "\n",
    "# The last layer of the current model takes two columns as input. Hence transpose of np.vstack() is required.\n",
    "X = np.vstack((x_gridflat, y_gridflat)).T\n",
    "\n",
    "prob_contour = model_prob(X).reshape(100,100) "
   ]
  },
  {
   "cell_type": "code",
   "execution_count": 29,
   "id": "da72499a",
   "metadata": {
    "execution": {
     "iopub.execute_input": "2022-07-30T20:12:10.502506Z",
     "iopub.status.busy": "2022-07-30T20:12:10.501825Z",
     "iopub.status.idle": "2022-07-30T20:12:10.768507Z",
     "shell.execute_reply": "2022-07-30T20:12:10.769008Z"
    },
    "papermill": {
     "duration": 0.319906,
     "end_time": "2022-07-30T20:12:10.769163",
     "exception": false,
     "start_time": "2022-07-30T20:12:10.449257",
     "status": "completed"
    },
    "tags": []
   },
   "outputs": [
    {
     "data": {
      "image/png": "[encoded data removed]",
      "text/plain": [
       "<Figure size 720x648 with 1 Axes>"
      ]
     },
     "metadata": {
      "needs_background": "light"
     },
     "output_type": "display_data"
    }
   ],
   "source": [
    "plt.figure(figsize=(10,9))\n",
    "plt.scatter(testing_plot[:,0], testing_plot[:,1], alpha = 0.1, c = y_test.ravel())\n",
    "contours = plt.contour(x_grid,y_grid,prob_contour)\n",
    "plt.title('Probability Contours')\n",
    "plt.clabel(contours, inline = True );"
   ]
  },
  {
   "cell_type": "code",
   "execution_count": null,
   "id": "e81b4ac7",
   "metadata": {
    "papermill": {
     "duration": 0.050643,
     "end_time": "2022-07-30T20:12:10.872872",
     "exception": false,
     "start_time": "2022-07-30T20:12:10.822229",
     "status": "completed"
    },
    "tags": []
   },
   "outputs": [],
   "source": []
  }
 ],
 "metadata": {
  "kernelspec": {
   "display_name": "Python 3",
   "language": "python",
   "name": "python3"
  },
  "language_info": {
   "codemirror_mode": {
    "name": "ipython",
    "version": 3
   },
   "file_extension": ".py",
   "mimetype": "text/x-python",
   "name": "python",
   "nbconvert_exporter": "python",
   "pygments_lexer": "ipython3",
   "version": "3.6.15"
  },
  "papermill": {
   "default_parameters": {},
   "duration": 110.231798,
   "end_time": "2022-07-30T20:12:11.342503",
   "environment_variables": {},
   "exception": null,
   "input_path": "2020-08-11-part2.ipynb",
   "output_path": "2020-08-11-part2.ipynb",
   "parameters": {},
   "start_time": "2022-07-30T20:10:21.110705",
   "version": "2.3.3"
  }
 },
 "nbformat": 4,
 "nbformat_minor": 5
}