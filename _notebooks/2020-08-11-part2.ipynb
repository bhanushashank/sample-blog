{
 "cells": [
  {
   "cell_type": "markdown",
   "id": "98380cd3",
   "metadata": {
    "papermill": {
     "duration": 0.028876,
     "end_time": "2022-05-16T00:37:45.751456",
     "exception": false,
     "start_time": "2022-05-16T00:37:45.722580",
     "status": "completed"
    },
    "tags": []
   },
   "source": [
    "# Distinguish Your Own Digits (DYOD)"
   ]
  },
  {
   "cell_type": "markdown",
   "id": "ef31240d",
   "metadata": {
    "papermill": {
     "duration": 0.025747,
     "end_time": "2022-05-16T00:37:45.802594",
     "exception": false,
     "start_time": "2022-05-16T00:37:45.776847",
     "status": "completed"
    },
    "tags": []
   },
   "source": [
    "You are going to write a classifier that distinguishes between the number 3 and number 8."
   ]
  },
  {
   "cell_type": "code",
   "execution_count": 1,
   "id": "b15c8646",
   "metadata": {
    "execution": {
     "iopub.execute_input": "2022-05-16T00:37:45.861861Z",
     "iopub.status.busy": "2022-05-16T00:37:45.861363Z",
     "iopub.status.idle": "2022-05-16T00:37:45.871161Z",
     "shell.execute_reply": "2022-05-16T00:37:45.871587Z"
    },
    "papermill": {
     "duration": 0.044391,
     "end_time": "2022-05-16T00:37:45.871723",
     "exception": false,
     "start_time": "2022-05-16T00:37:45.827332",
     "status": "completed"
    },
    "tags": []
   },
   "outputs": [],
   "source": [
    "%load_ext autoreload\n",
    "%autoreload 2"
   ]
  },
  {
   "cell_type": "code",
   "execution_count": 2,
   "id": "22ef38dc",
   "metadata": {
    "execution": {
     "iopub.execute_input": "2022-05-16T00:37:45.924839Z",
     "iopub.status.busy": "2022-05-16T00:37:45.924326Z",
     "iopub.status.idle": "2022-05-16T00:37:46.428126Z",
     "shell.execute_reply": "2022-05-16T00:37:46.428569Z"
    },
    "papermill": {
     "duration": 0.532118,
     "end_time": "2022-05-16T00:37:46.428708",
     "exception": false,
     "start_time": "2022-05-16T00:37:45.896590",
     "status": "completed"
    },
    "tags": []
   },
   "outputs": [],
   "source": [
    "%matplotlib inline\n",
    "import numpy as np\n",
    "import matplotlib.pyplot as plt\n",
    "import pandas as pd"
   ]
  },
  {
   "cell_type": "markdown",
   "id": "ba036198",
   "metadata": {
    "papermill": {
     "duration": 0.025091,
     "end_time": "2022-05-16T00:37:46.478654",
     "exception": false,
     "start_time": "2022-05-16T00:37:46.453563",
     "status": "completed"
    },
    "tags": []
   },
   "source": [
    "From the command line run `pip install mnist`. This is a library that will help you bring down the mnist dataset. If you run this from a notebook, you need to put  `!pip install mnist` in a cell by itself."
   ]
  },
  {
   "cell_type": "code",
   "execution_count": 3,
   "id": "bb6ad8a1",
   "metadata": {
    "execution": {
     "iopub.execute_input": "2022-05-16T00:37:46.532048Z",
     "iopub.status.busy": "2022-05-16T00:37:46.531555Z",
     "iopub.status.idle": "2022-05-16T00:37:48.218970Z",
     "shell.execute_reply": "2022-05-16T00:37:48.219373Z"
    },
    "papermill": {
     "duration": 1.716155,
     "end_time": "2022-05-16T00:37:48.219508",
     "exception": false,
     "start_time": "2022-05-16T00:37:46.503353",
     "status": "completed"
    },
    "tags": []
   },
   "outputs": [
    {
     "name": "stdout",
     "output_type": "stream",
     "text": [
      "Collecting mnist\r\n"
     ]
    },
    {
     "name": "stdout",
     "output_type": "stream",
     "text": [
      "  Downloading mnist-0.2.2-py2.py3-none-any.whl (3.5 kB)\r\n",
      "Requirement already satisfied: numpy in /opt/hostedtoolcache/Python/3.6.15/x64/lib/python3.6/site-packages (from mnist) (1.19.5)\r\n"
     ]
    },
    {
     "name": "stdout",
     "output_type": "stream",
     "text": [
      "Installing collected packages: mnist\r\n"
     ]
    },
    {
     "name": "stdout",
     "output_type": "stream",
     "text": [
      "Successfully installed mnist-0.2.2\r\n"
     ]
    }
   ],
   "source": [
    "!pip install mnist"
   ]
  },
  {
   "cell_type": "markdown",
   "id": "69df9c9a",
   "metadata": {
    "papermill": {
     "duration": 0.026111,
     "end_time": "2022-05-16T00:37:48.271913",
     "exception": false,
     "start_time": "2022-05-16T00:37:48.245802",
     "status": "completed"
    },
    "tags": []
   },
   "source": [
    "## Preparing the Data"
   ]
  },
  {
   "cell_type": "code",
   "execution_count": 4,
   "id": "7f69d806",
   "metadata": {
    "execution": {
     "iopub.execute_input": "2022-05-16T00:37:48.328401Z",
     "iopub.status.busy": "2022-05-16T00:37:48.327888Z",
     "iopub.status.idle": "2022-05-16T00:37:48.340452Z",
     "shell.execute_reply": "2022-05-16T00:37:48.340031Z"
    },
    "papermill": {
     "duration": 0.042824,
     "end_time": "2022-05-16T00:37:48.340557",
     "exception": false,
     "start_time": "2022-05-16T00:37:48.297733",
     "status": "completed"
    },
    "tags": []
   },
   "outputs": [],
   "source": [
    "import mnist"
   ]
  },
  {
   "cell_type": "code",
   "execution_count": 5,
   "id": "a411e44f",
   "metadata": {
    "execution": {
     "iopub.execute_input": "2022-05-16T00:37:48.396424Z",
     "iopub.status.busy": "2022-05-16T00:37:48.395879Z",
     "iopub.status.idle": "2022-05-16T00:37:49.085809Z",
     "shell.execute_reply": "2022-05-16T00:37:49.084839Z"
    },
    "papermill": {
     "duration": 0.719504,
     "end_time": "2022-05-16T00:37:49.085931",
     "exception": false,
     "start_time": "2022-05-16T00:37:48.366427",
     "status": "completed"
    },
    "tags": []
   },
   "outputs": [],
   "source": [
    "train_images = mnist.train_images()\n",
    "train_labels = mnist.train_labels()"
   ]
  },
  {
   "cell_type": "code",
   "execution_count": 6,
   "id": "dceab3a5",
   "metadata": {
    "execution": {
     "iopub.execute_input": "2022-05-16T00:37:49.145245Z",
     "iopub.status.busy": "2022-05-16T00:37:49.141017Z",
     "iopub.status.idle": "2022-05-16T00:37:49.154331Z",
     "shell.execute_reply": "2022-05-16T00:37:49.154791Z"
    },
    "papermill": {
     "duration": 0.042468,
     "end_time": "2022-05-16T00:37:49.154911",
     "exception": false,
     "start_time": "2022-05-16T00:37:49.112443",
     "status": "completed"
    },
    "tags": []
   },
   "outputs": [
    {
     "data": {
      "text/plain": [
       "((60000, 28, 28), (60000,))"
      ]
     },
     "execution_count": 6,
     "metadata": {},
     "output_type": "execute_result"
    }
   ],
   "source": [
    "train_images.shape, train_labels.shape"
   ]
  },
  {
   "cell_type": "code",
   "execution_count": 7,
   "id": "f50dc2bb",
   "metadata": {
    "execution": {
     "iopub.execute_input": "2022-05-16T00:37:49.210421Z",
     "iopub.status.busy": "2022-05-16T00:37:49.209930Z",
     "iopub.status.idle": "2022-05-16T00:37:49.464086Z",
     "shell.execute_reply": "2022-05-16T00:37:49.463616Z"
    },
    "papermill": {
     "duration": 0.283168,
     "end_time": "2022-05-16T00:37:49.464196",
     "exception": false,
     "start_time": "2022-05-16T00:37:49.181028",
     "status": "completed"
    },
    "tags": []
   },
   "outputs": [],
   "source": [
    "test_images = mnist.test_images()\n",
    "test_labels = mnist.test_labels()"
   ]
  },
  {
   "cell_type": "code",
   "execution_count": 8,
   "id": "fc38cf1b",
   "metadata": {
    "execution": {
     "iopub.execute_input": "2022-05-16T00:37:49.525784Z",
     "iopub.status.busy": "2022-05-16T00:37:49.525280Z",
     "iopub.status.idle": "2022-05-16T00:37:49.534407Z",
     "shell.execute_reply": "2022-05-16T00:37:49.533982Z"
    },
    "papermill": {
     "duration": 0.041713,
     "end_time": "2022-05-16T00:37:49.534509",
     "exception": false,
     "start_time": "2022-05-16T00:37:49.492796",
     "status": "completed"
    },
    "tags": []
   },
   "outputs": [
    {
     "data": {
      "text/plain": [
       "((10000, 28, 28), (10000,))"
      ]
     },
     "execution_count": 8,
     "metadata": {},
     "output_type": "execute_result"
    }
   ],
   "source": [
    "test_images.shape, test_labels.shape"
   ]
  },
  {
   "cell_type": "code",
   "execution_count": 9,
   "id": "f9ed8fe0",
   "metadata": {
    "execution": {
     "iopub.execute_input": "2022-05-16T00:37:49.590614Z",
     "iopub.status.busy": "2022-05-16T00:37:49.590129Z",
     "iopub.status.idle": "2022-05-16T00:37:49.721944Z",
     "shell.execute_reply": "2022-05-16T00:37:49.722352Z"
    },
    "papermill": {
     "duration": 0.161565,
     "end_time": "2022-05-16T00:37:49.722480",
     "exception": false,
     "start_time": "2022-05-16T00:37:49.560915",
     "status": "completed"
    },
    "tags": []
   },
   "outputs": [
    {
     "name": "stdout",
     "output_type": "stream",
     "text": [
      "2\n"
     ]
    },
    {
     "data": {
      "text/plain": [
       "<matplotlib.image.AxesImage at 0x7fda03d4c4e0>"
      ]
     },
     "execution_count": 9,
     "metadata": {},
     "output_type": "execute_result"
    },
    {
     "data": {
      "image/png": "[encoded data removed]",
      "text/plain": [
       "<Figure size 432x288 with 1 Axes>"
      ]
     },
     "metadata": {
      "needs_background": "light"
     },
     "output_type": "display_data"
    }
   ],
   "source": [
    "image_index = 7776 # You may select anything up to 60,000\n",
    "print(train_labels[image_index]) \n",
    "plt.imshow(train_images[image_index], cmap='Greys')"
   ]
  },
  {
   "cell_type": "markdown",
   "id": "a8d2388d",
   "metadata": {
    "papermill": {
     "duration": 0.027661,
     "end_time": "2022-05-16T00:37:49.777826",
     "exception": false,
     "start_time": "2022-05-16T00:37:49.750165",
     "status": "completed"
    },
    "tags": []
   },
   "source": [
    "## Filter data to get 3 and 8 out"
   ]
  },
  {
   "cell_type": "code",
   "execution_count": 10,
   "id": "776f7fc7",
   "metadata": {
    "execution": {
     "iopub.execute_input": "2022-05-16T00:37:49.837009Z",
     "iopub.status.busy": "2022-05-16T00:37:49.836502Z",
     "iopub.status.idle": "2022-05-16T00:37:49.852933Z",
     "shell.execute_reply": "2022-05-16T00:37:49.852537Z"
    },
    "papermill": {
     "duration": 0.047624,
     "end_time": "2022-05-16T00:37:49.853038",
     "exception": false,
     "start_time": "2022-05-16T00:37:49.805414",
     "status": "completed"
    },
    "tags": []
   },
   "outputs": [],
   "source": [
    "train_filter = np.where((train_labels == 3 ) | (train_labels == 8))\n",
    "test_filter = np.where((test_labels == 3) | (test_labels == 8))\n",
    "X_train, y_train = train_images[train_filter], train_labels[train_filter]\n",
    "X_test, y_test = test_images[test_filter], test_labels[test_filter]"
   ]
  },
  {
   "cell_type": "markdown",
   "id": "948f0b7e",
   "metadata": {
    "papermill": {
     "duration": 0.027316,
     "end_time": "2022-05-16T00:37:49.907917",
     "exception": false,
     "start_time": "2022-05-16T00:37:49.880601",
     "status": "completed"
    },
    "tags": []
   },
   "source": [
    "We normalize the pizel values in the 0 to 1 range"
   ]
  },
  {
   "cell_type": "code",
   "execution_count": 11,
   "id": "ee4c2166",
   "metadata": {
    "execution": {
     "iopub.execute_input": "2022-05-16T00:37:49.965611Z",
     "iopub.status.busy": "2022-05-16T00:37:49.965126Z",
     "iopub.status.idle": "2022-05-16T00:37:50.004463Z",
     "shell.execute_reply": "2022-05-16T00:37:50.004885Z"
    },
    "papermill": {
     "duration": 0.069734,
     "end_time": "2022-05-16T00:37:50.005012",
     "exception": false,
     "start_time": "2022-05-16T00:37:49.935278",
     "status": "completed"
    },
    "tags": []
   },
   "outputs": [],
   "source": [
    "X_train = X_train/255.\n",
    "X_test = X_test/255."
   ]
  },
  {
   "cell_type": "markdown",
   "id": "ddcf4fab",
   "metadata": {
    "papermill": {
     "duration": 0.027411,
     "end_time": "2022-05-16T00:37:50.060155",
     "exception": false,
     "start_time": "2022-05-16T00:37:50.032744",
     "status": "completed"
    },
    "tags": []
   },
   "source": [
    "And setup the labels as 1 (when the digit is 3) and 0 (when the digit is 8)"
   ]
  },
  {
   "cell_type": "code",
   "execution_count": 12,
   "id": "7dc908f2",
   "metadata": {
    "execution": {
     "iopub.execute_input": "2022-05-16T00:37:50.118970Z",
     "iopub.status.busy": "2022-05-16T00:37:50.118473Z",
     "iopub.status.idle": "2022-05-16T00:37:50.130248Z",
     "shell.execute_reply": "2022-05-16T00:37:50.129856Z"
    },
    "papermill": {
     "duration": 0.042632,
     "end_time": "2022-05-16T00:37:50.130348",
     "exception": false,
     "start_time": "2022-05-16T00:37:50.087716",
     "status": "completed"
    },
    "tags": []
   },
   "outputs": [],
   "source": [
    "y_train = 1*(y_train==3)\n",
    "y_test = 1*(y_test==3)"
   ]
  },
  {
   "cell_type": "code",
   "execution_count": 13,
   "id": "01e4e969",
   "metadata": {
    "execution": {
     "iopub.execute_input": "2022-05-16T00:37:50.188618Z",
     "iopub.status.busy": "2022-05-16T00:37:50.188093Z",
     "iopub.status.idle": "2022-05-16T00:37:50.201230Z",
     "shell.execute_reply": "2022-05-16T00:37:50.200836Z"
    },
    "papermill": {
     "duration": 0.043411,
     "end_time": "2022-05-16T00:37:50.201330",
     "exception": false,
     "start_time": "2022-05-16T00:37:50.157919",
     "status": "completed"
    },
    "tags": []
   },
   "outputs": [
    {
     "data": {
      "text/plain": [
       "((11982, 28, 28), (1984, 28, 28))"
      ]
     },
     "execution_count": 13,
     "metadata": {},
     "output_type": "execute_result"
    }
   ],
   "source": [
    "X_train.shape, X_test.shape"
   ]
  },
  {
   "cell_type": "markdown",
   "id": "5ccf3f85",
   "metadata": {
    "papermill": {
     "duration": 0.027678,
     "end_time": "2022-05-16T00:37:50.256819",
     "exception": false,
     "start_time": "2022-05-16T00:37:50.229141",
     "status": "completed"
    },
    "tags": []
   },
   "source": [
    "We reshape the data to flatten the image pixels into a set of features or co-variates:"
   ]
  },
  {
   "cell_type": "code",
   "execution_count": 14,
   "id": "5286a4a3",
   "metadata": {
    "execution": {
     "iopub.execute_input": "2022-05-16T00:37:50.316790Z",
     "iopub.status.busy": "2022-05-16T00:37:50.315908Z",
     "iopub.status.idle": "2022-05-16T00:37:50.329602Z",
     "shell.execute_reply": "2022-05-16T00:37:50.329195Z"
    },
    "papermill": {
     "duration": 0.045026,
     "end_time": "2022-05-16T00:37:50.329705",
     "exception": false,
     "start_time": "2022-05-16T00:37:50.284679",
     "status": "completed"
    },
    "tags": []
   },
   "outputs": [
    {
     "data": {
      "text/plain": [
       "((11982, 784), (1984, 784))"
      ]
     },
     "execution_count": 14,
     "metadata": {},
     "output_type": "execute_result"
    }
   ],
   "source": [
    "X_train = X_train.reshape(X_train.shape[0], -1)\n",
    "X_test = X_test.reshape(X_test.shape[0], -1)\n",
    "X_train.shape, X_test.shape"
   ]
  },
  {
   "cell_type": "code",
   "execution_count": 15,
   "id": "73c5f88a",
   "metadata": {
    "execution": {
     "iopub.execute_input": "2022-05-16T00:37:50.390008Z",
     "iopub.status.busy": "2022-05-16T00:37:50.389515Z",
     "iopub.status.idle": "2022-05-16T00:37:50.407450Z",
     "shell.execute_reply": "2022-05-16T00:37:50.407020Z"
    },
    "papermill": {
     "duration": 0.049642,
     "end_time": "2022-05-16T00:37:50.407556",
     "exception": false,
     "start_time": "2022-05-16T00:37:50.357914",
     "status": "completed"
    },
    "tags": []
   },
   "outputs": [],
   "source": [
    "#Impoting functions from 'Kudzu'\n",
    "from kudzu.model import Model\n",
    "from kudzu.train import Learner\n",
    "from kudzu.optim import GD\n",
    "from kudzu.data import Data, Sampler,Dataloader\n",
    "\n",
    "from kudzu.callbacks import AccCallback\n",
    "from kudzu.callbacks import ClfCallback\n",
    "\n",
    "from kudzu.loss import MSE\n",
    "\n",
    "from kudzu.layer import Sigmoid,Relu\n",
    "from kudzu.layer import Affine"
   ]
  },
  {
   "cell_type": "markdown",
   "id": "bc01172a",
   "metadata": {
    "papermill": {
     "duration": 0.028321,
     "end_time": "2022-05-16T00:37:50.463969",
     "exception": false,
     "start_time": "2022-05-16T00:37:50.435648",
     "status": "completed"
    },
    "tags": []
   },
   "source": [
    "### Let us create a `Config` class, to store important parameters. \n",
    "This class essentially plays the role of a dictionary."
   ]
  },
  {
   "cell_type": "code",
   "execution_count": 16,
   "id": "978281aa",
   "metadata": {
    "execution": {
     "iopub.execute_input": "2022-05-16T00:37:50.523361Z",
     "iopub.status.busy": "2022-05-16T00:37:50.522839Z",
     "iopub.status.idle": "2022-05-16T00:37:50.535075Z",
     "shell.execute_reply": "2022-05-16T00:37:50.535505Z"
    },
    "papermill": {
     "duration": 0.043705,
     "end_time": "2022-05-16T00:37:50.535618",
     "exception": false,
     "start_time": "2022-05-16T00:37:50.491913",
     "status": "completed"
    },
    "tags": []
   },
   "outputs": [],
   "source": [
    "class Config:\n",
    "    pass\n",
    "config = Config()\n",
    "config.lr = 0.001\n",
    "config.num_epochs = 250\n",
    "config.bs = 50"
   ]
  },
  {
   "cell_type": "markdown",
   "id": "1385fa59",
   "metadata": {
    "papermill": {
     "duration": 0.027892,
     "end_time": "2022-05-16T00:37:50.591568",
     "exception": false,
     "start_time": "2022-05-16T00:37:50.563676",
     "status": "completed"
    },
    "tags": []
   },
   "source": [
    "### Running Models with the Training data\n",
    "Details about the network layers:\n",
    "- A first affine layer has 784 inputs and does 100 affine transforms. These are followed by a Relu\n",
    "- A second affine layer has 100 inputs from the 100 activations of the past layer, and does 100 affine transforms. These are followed by a Relu\n",
    "- A third affine layer has 100 activations and does 2 affine transformations to create an embedding for visualization. There is no non-linearity here.\n",
    "- A final \"logistic regression\" which has an affine transform from 2 inputs to 1 output, which is squeezed through a sigmoid.\n"
   ]
  },
  {
   "cell_type": "code",
   "execution_count": 17,
   "id": "2b9c66db",
   "metadata": {
    "execution": {
     "iopub.execute_input": "2022-05-16T00:37:50.651110Z",
     "iopub.status.busy": "2022-05-16T00:37:50.650617Z",
     "iopub.status.idle": "2022-05-16T00:37:50.662587Z",
     "shell.execute_reply": "2022-05-16T00:37:50.662188Z"
    },
    "papermill": {
     "duration": 0.043042,
     "end_time": "2022-05-16T00:37:50.662686",
     "exception": false,
     "start_time": "2022-05-16T00:37:50.619644",
     "status": "completed"
    },
    "tags": []
   },
   "outputs": [],
   "source": [
    "data = Data(X_train, y_train.reshape(-1,1))\n",
    "sampler = Sampler(data, config.bs, shuffle=True)\n",
    "\n",
    "dl = Dataloader(data, sampler)\n",
    "\n",
    "opt = GD(config.lr)\n",
    "loss = MSE()"
   ]
  },
  {
   "cell_type": "code",
   "execution_count": 18,
   "id": "b275e4c2",
   "metadata": {
    "execution": {
     "iopub.execute_input": "2022-05-16T00:37:50.722029Z",
     "iopub.status.busy": "2022-05-16T00:37:50.721527Z",
     "iopub.status.idle": "2022-05-16T00:37:50.733605Z",
     "shell.execute_reply": "2022-05-16T00:37:50.734021Z"
    },
    "papermill": {
     "duration": 0.043385,
     "end_time": "2022-05-16T00:37:50.734134",
     "exception": false,
     "start_time": "2022-05-16T00:37:50.690749",
     "status": "completed"
    },
    "tags": []
   },
   "outputs": [],
   "source": [
    "training_data_x = X_train\n",
    "testing_data_x = X_test\n",
    "training_data_y = y_train.reshape(-1,1)\n",
    "testing_data_y = y_test.reshape(-1,1)"
   ]
  },
  {
   "cell_type": "code",
   "execution_count": 19,
   "id": "76951160",
   "metadata": {
    "execution": {
     "iopub.execute_input": "2022-05-16T00:37:50.794142Z",
     "iopub.status.busy": "2022-05-16T00:37:50.793631Z",
     "iopub.status.idle": "2022-05-16T00:37:50.810443Z",
     "shell.execute_reply": "2022-05-16T00:37:50.810022Z"
    },
    "papermill": {
     "duration": 0.048407,
     "end_time": "2022-05-16T00:37:50.810539",
     "exception": false,
     "start_time": "2022-05-16T00:37:50.762132",
     "status": "completed"
    },
    "tags": []
   },
   "outputs": [
    {
     "name": "stdout",
     "output_type": "stream",
     "text": [
      "xavier\n",
      "xavier\n",
      "xavier\n",
      "xavier\n",
      "xavier\n"
     ]
    }
   ],
   "source": [
    "layers = [Affine(\"first\", 784, 100), Relu(\"first\"), Affine(\"second\", 100, 100), Relu(\"second\"), Affine(\"third\", 100, 2), Affine(\"last\", 2, 1), Sigmoid(\"last\")]\n",
    "model_nn = Model(layers)\n",
    "model_lr = Model([Affine(\"logits\", 784, 1), Sigmoid(\"sigmoid\")])"
   ]
  },
  {
   "cell_type": "code",
   "execution_count": 20,
   "id": "6eede77a",
   "metadata": {
    "execution": {
     "iopub.execute_input": "2022-05-16T00:37:50.870828Z",
     "iopub.status.busy": "2022-05-16T00:37:50.870325Z",
     "iopub.status.idle": "2022-05-16T00:37:50.881747Z",
     "shell.execute_reply": "2022-05-16T00:37:50.881354Z"
    },
    "papermill": {
     "duration": 0.042878,
     "end_time": "2022-05-16T00:37:50.881846",
     "exception": false,
     "start_time": "2022-05-16T00:37:50.838968",
     "status": "completed"
    },
    "tags": []
   },
   "outputs": [],
   "source": [
    "nn_learner = Learner(loss, model_nn, opt, config.num_epochs)\n",
    "acc_nn = ClfCallback(nn_learner, config.bs, training_data_x , testing_data_x, training_data_y, testing_data_y)\n",
    "nn_learner.set_callbacks([acc_nn])"
   ]
  },
  {
   "cell_type": "code",
   "execution_count": 21,
   "id": "877b6cc7",
   "metadata": {
    "execution": {
     "iopub.execute_input": "2022-05-16T00:37:50.941624Z",
     "iopub.status.busy": "2022-05-16T00:37:50.941137Z",
     "iopub.status.idle": "2022-05-16T00:37:50.952943Z",
     "shell.execute_reply": "2022-05-16T00:37:50.952525Z"
    },
    "papermill": {
     "duration": 0.042901,
     "end_time": "2022-05-16T00:37:50.953037",
     "exception": false,
     "start_time": "2022-05-16T00:37:50.910136",
     "status": "completed"
    },
    "tags": []
   },
   "outputs": [],
   "source": [
    "lr_learner = Learner(loss, model_lr, opt, config.num_epochs)\n",
    "acc_lr = ClfCallback(lr_learner, config.bs, training_data_x , testing_data_x, training_data_y, testing_data_y)\n",
    "lr_learner.set_callbacks([acc_lr])"
   ]
  },
  {
   "cell_type": "code",
   "execution_count": 22,
   "id": "d9b133c3",
   "metadata": {
    "execution": {
     "iopub.execute_input": "2022-05-16T00:37:51.013229Z",
     "iopub.status.busy": "2022-05-16T00:37:51.012730Z",
     "iopub.status.idle": "2022-05-16T00:40:46.640533Z",
     "shell.execute_reply": "2022-05-16T00:40:46.640979Z"
    },
    "papermill": {
     "duration": 175.659275,
     "end_time": "2022-05-16T00:40:46.641106",
     "exception": false,
     "start_time": "2022-05-16T00:37:50.981831",
     "status": "completed"
    },
    "tags": []
   },
   "outputs": [
    {
     "name": "stdout",
     "output_type": "stream",
     "text": [
      "Epoch 0, Loss 0.2445\n",
      "Training Accuracy: 0.6435, Testing Accuracy: 0.6300\n",
      "\n"
     ]
    },
    {
     "name": "stdout",
     "output_type": "stream",
     "text": [
      "Epoch 10, Loss 0.0934\n",
      "Training Accuracy: 0.9231, Testing Accuracy: 0.9315\n",
      "\n"
     ]
    },
    {
     "name": "stdout",
     "output_type": "stream",
     "text": [
      "Epoch 20, Loss 0.0554\n",
      "Training Accuracy: 0.9453, Testing Accuracy: 0.9556\n",
      "\n"
     ]
    },
    {
     "name": "stdout",
     "output_type": "stream",
     "text": [
      "Epoch 30, Loss 0.0435\n",
      "Training Accuracy: 0.9539, Testing Accuracy: 0.9592\n",
      "\n"
     ]
    },
    {
     "name": "stdout",
     "output_type": "stream",
     "text": [
      "Epoch 40, Loss 0.0378\n",
      "Training Accuracy: 0.9577, Testing Accuracy: 0.9627\n",
      "\n"
     ]
    },
    {
     "name": "stdout",
     "output_type": "stream",
     "text": [
      "Epoch 50, Loss 0.0344\n",
      "Training Accuracy: 0.9615, Testing Accuracy: 0.9647\n",
      "\n"
     ]
    },
    {
     "name": "stdout",
     "output_type": "stream",
     "text": [
      "Epoch 60, Loss 0.032\n",
      "Training Accuracy: 0.9638, Testing Accuracy: 0.9657\n",
      "\n"
     ]
    },
    {
     "name": "stdout",
     "output_type": "stream",
     "text": [
      "Epoch 70, Loss 0.0302\n",
      "Training Accuracy: 0.9660, Testing Accuracy: 0.9667\n",
      "\n"
     ]
    },
    {
     "name": "stdout",
     "output_type": "stream",
     "text": [
      "Epoch 80, Loss 0.0288\n",
      "Training Accuracy: 0.9675, Testing Accuracy: 0.9672\n",
      "\n"
     ]
    },
    {
     "name": "stdout",
     "output_type": "stream",
     "text": [
      "Epoch 90, Loss 0.0276\n",
      "Training Accuracy: 0.9684, Testing Accuracy: 0.9682\n",
      "\n"
     ]
    },
    {
     "name": "stdout",
     "output_type": "stream",
     "text": [
      "Epoch 100, Loss 0.0266\n",
      "Training Accuracy: 0.9690, Testing Accuracy: 0.9688\n",
      "\n"
     ]
    },
    {
     "name": "stdout",
     "output_type": "stream",
     "text": [
      "Epoch 110, Loss 0.0257\n",
      "Training Accuracy: 0.9700, Testing Accuracy: 0.9693\n",
      "\n"
     ]
    },
    {
     "name": "stdout",
     "output_type": "stream",
     "text": [
      "Epoch 120, Loss 0.0249\n",
      "Training Accuracy: 0.9710, Testing Accuracy: 0.9688\n",
      "\n"
     ]
    },
    {
     "name": "stdout",
     "output_type": "stream",
     "text": [
      "Epoch 130, Loss 0.0242\n",
      "Training Accuracy: 0.9715, Testing Accuracy: 0.9682\n",
      "\n"
     ]
    },
    {
     "name": "stdout",
     "output_type": "stream",
     "text": [
      "Epoch 140, Loss 0.0235\n",
      "Training Accuracy: 0.9728, Testing Accuracy: 0.9688\n",
      "\n"
     ]
    },
    {
     "name": "stdout",
     "output_type": "stream",
     "text": [
      "Epoch 150, Loss 0.0229\n",
      "Training Accuracy: 0.9732, Testing Accuracy: 0.9693\n",
      "\n"
     ]
    },
    {
     "name": "stdout",
     "output_type": "stream",
     "text": [
      "Epoch 160, Loss 0.0224\n",
      "Training Accuracy: 0.9740, Testing Accuracy: 0.9698\n",
      "\n"
     ]
    },
    {
     "name": "stdout",
     "output_type": "stream",
     "text": [
      "Epoch 170, Loss 0.0218\n",
      "Training Accuracy: 0.9745, Testing Accuracy: 0.9713\n",
      "\n"
     ]
    },
    {
     "name": "stdout",
     "output_type": "stream",
     "text": [
      "Epoch 180, Loss 0.0213\n",
      "Training Accuracy: 0.9749, Testing Accuracy: 0.9708\n",
      "\n"
     ]
    },
    {
     "name": "stdout",
     "output_type": "stream",
     "text": [
      "Epoch 190, Loss 0.0209\n",
      "Training Accuracy: 0.9753, Testing Accuracy: 0.9713\n",
      "\n"
     ]
    },
    {
     "name": "stdout",
     "output_type": "stream",
     "text": [
      "Epoch 200, Loss 0.0204\n",
      "Training Accuracy: 0.9765, Testing Accuracy: 0.9718\n",
      "\n"
     ]
    },
    {
     "name": "stdout",
     "output_type": "stream",
     "text": [
      "Epoch 210, Loss 0.02\n",
      "Training Accuracy: 0.9767, Testing Accuracy: 0.9713\n",
      "\n"
     ]
    },
    {
     "name": "stdout",
     "output_type": "stream",
     "text": [
      "Epoch 220, Loss 0.0195\n",
      "Training Accuracy: 0.9775, Testing Accuracy: 0.9718\n",
      "\n"
     ]
    },
    {
     "name": "stdout",
     "output_type": "stream",
     "text": [
      "Epoch 230, Loss 0.0191\n",
      "Training Accuracy: 0.9777, Testing Accuracy: 0.9718\n",
      "\n"
     ]
    },
    {
     "name": "stdout",
     "output_type": "stream",
     "text": [
      "Epoch 240, Loss 0.0187\n",
      "Training Accuracy: 0.9781, Testing Accuracy: 0.9718\n",
      "\n"
     ]
    },
    {
     "data": {
      "text/plain": [
       "0.00153774866506145"
      ]
     },
     "execution_count": 22,
     "metadata": {},
     "output_type": "execute_result"
    }
   ],
   "source": [
    "nn_learner.train_loop(dl)"
   ]
  },
  {
   "cell_type": "code",
   "execution_count": 23,
   "id": "e0163366",
   "metadata": {
    "execution": {
     "iopub.execute_input": "2022-05-16T00:40:46.717045Z",
     "iopub.status.busy": "2022-05-16T00:40:46.715998Z",
     "iopub.status.idle": "2022-05-16T00:40:58.924832Z",
     "shell.execute_reply": "2022-05-16T00:40:58.925242Z"
    },
    "papermill": {
     "duration": 12.24841,
     "end_time": "2022-05-16T00:40:58.925367",
     "exception": false,
     "start_time": "2022-05-16T00:40:46.676957",
     "status": "completed"
    },
    "tags": []
   },
   "outputs": [
    {
     "name": "stdout",
     "output_type": "stream",
     "text": [
      "Epoch 0, Loss 0.2423\n",
      "Training Accuracy: 0.6695, Testing Accuracy: 0.6754\n",
      "\n"
     ]
    },
    {
     "name": "stdout",
     "output_type": "stream",
     "text": [
      "Epoch 10, Loss 0.1044\n",
      "Training Accuracy: 0.9064, Testing Accuracy: 0.9158\n",
      "\n"
     ]
    },
    {
     "name": "stdout",
     "output_type": "stream",
     "text": [
      "Epoch 20, Loss 0.0795\n",
      "Training Accuracy: 0.9261, Testing Accuracy: 0.9365\n",
      "\n"
     ]
    },
    {
     "name": "stdout",
     "output_type": "stream",
     "text": [
      "Epoch 30, Loss 0.0683\n",
      "Training Accuracy: 0.9367, Testing Accuracy: 0.9471\n",
      "\n"
     ]
    },
    {
     "name": "stdout",
     "output_type": "stream",
     "text": [
      "Epoch 40, Loss 0.0616\n",
      "Training Accuracy: 0.9417, Testing Accuracy: 0.9516\n",
      "\n"
     ]
    },
    {
     "name": "stdout",
     "output_type": "stream",
     "text": [
      "Epoch 50, Loss 0.057\n",
      "Training Accuracy: 0.9457, Testing Accuracy: 0.9536\n",
      "\n"
     ]
    },
    {
     "name": "stdout",
     "output_type": "stream",
     "text": [
      "Epoch 60, Loss 0.0537\n",
      "Training Accuracy: 0.9483, Testing Accuracy: 0.9551\n",
      "\n"
     ]
    },
    {
     "name": "stdout",
     "output_type": "stream",
     "text": [
      "Epoch 70, Loss 0.0511\n",
      "Training Accuracy: 0.9488, Testing Accuracy: 0.9592\n",
      "\n"
     ]
    },
    {
     "name": "stdout",
     "output_type": "stream",
     "text": [
      "Epoch 80, Loss 0.0491\n",
      "Training Accuracy: 0.9509, Testing Accuracy: 0.9597\n",
      "\n"
     ]
    },
    {
     "name": "stdout",
     "output_type": "stream",
     "text": [
      "Epoch 90, Loss 0.0474\n",
      "Training Accuracy: 0.9527, Testing Accuracy: 0.9607\n",
      "\n"
     ]
    },
    {
     "name": "stdout",
     "output_type": "stream",
     "text": [
      "Epoch 100, Loss 0.046\n",
      "Training Accuracy: 0.9534, Testing Accuracy: 0.9602\n",
      "\n"
     ]
    },
    {
     "name": "stdout",
     "output_type": "stream",
     "text": [
      "Epoch 110, Loss 0.0448\n",
      "Training Accuracy: 0.9541, Testing Accuracy: 0.9607\n",
      "\n"
     ]
    },
    {
     "name": "stdout",
     "output_type": "stream",
     "text": [
      "Epoch 120, Loss 0.0437\n",
      "Training Accuracy: 0.9555, Testing Accuracy: 0.9622\n",
      "\n"
     ]
    },
    {
     "name": "stdout",
     "output_type": "stream",
     "text": [
      "Epoch 130, Loss 0.0428\n",
      "Training Accuracy: 0.9559, Testing Accuracy: 0.9632\n",
      "\n"
     ]
    },
    {
     "name": "stdout",
     "output_type": "stream",
     "text": [
      "Epoch 140, Loss 0.0419\n",
      "Training Accuracy: 0.9568, Testing Accuracy: 0.9637\n",
      "\n"
     ]
    },
    {
     "name": "stdout",
     "output_type": "stream",
     "text": [
      "Epoch 150, Loss 0.0412\n",
      "Training Accuracy: 0.9572, Testing Accuracy: 0.9637\n",
      "\n"
     ]
    },
    {
     "name": "stdout",
     "output_type": "stream",
     "text": [
      "Epoch 160, Loss 0.0405\n",
      "Training Accuracy: 0.9574, Testing Accuracy: 0.9642\n",
      "\n"
     ]
    },
    {
     "name": "stdout",
     "output_type": "stream",
     "text": [
      "Epoch 170, Loss 0.0399\n",
      "Training Accuracy: 0.9577, Testing Accuracy: 0.9652\n",
      "\n"
     ]
    },
    {
     "name": "stdout",
     "output_type": "stream",
     "text": [
      "Epoch 180, Loss 0.0394\n",
      "Training Accuracy: 0.9582, Testing Accuracy: 0.9652\n",
      "\n"
     ]
    },
    {
     "name": "stdout",
     "output_type": "stream",
     "text": [
      "Epoch 190, Loss 0.0388\n",
      "Training Accuracy: 0.9588, Testing Accuracy: 0.9657\n",
      "\n"
     ]
    },
    {
     "name": "stdout",
     "output_type": "stream",
     "text": [
      "Epoch 200, Loss 0.0384\n",
      "Training Accuracy: 0.9594, Testing Accuracy: 0.9662\n",
      "\n"
     ]
    },
    {
     "name": "stdout",
     "output_type": "stream",
     "text": [
      "Epoch 210, Loss 0.0379\n",
      "Training Accuracy: 0.9595, Testing Accuracy: 0.9667\n",
      "\n"
     ]
    },
    {
     "name": "stdout",
     "output_type": "stream",
     "text": [
      "Epoch 220, Loss 0.0375\n",
      "Training Accuracy: 0.9600, Testing Accuracy: 0.9672\n",
      "\n"
     ]
    },
    {
     "name": "stdout",
     "output_type": "stream",
     "text": [
      "Epoch 230, Loss 0.0371\n",
      "Training Accuracy: 0.9603, Testing Accuracy: 0.9677\n",
      "\n"
     ]
    },
    {
     "name": "stdout",
     "output_type": "stream",
     "text": [
      "Epoch 240, Loss 0.0368\n",
      "Training Accuracy: 0.9607, Testing Accuracy: 0.9688\n",
      "\n"
     ]
    },
    {
     "data": {
      "text/plain": [
       "0.04826096932656547"
      ]
     },
     "execution_count": 23,
     "metadata": {},
     "output_type": "execute_result"
    }
   ],
   "source": [
    "lr_learner.train_loop(dl)"
   ]
  },
  {
   "cell_type": "code",
   "execution_count": 24,
   "id": "ca410940",
   "metadata": {
    "execution": {
     "iopub.execute_input": "2022-05-16T00:40:59.018882Z",
     "iopub.status.busy": "2022-05-16T00:40:59.017717Z",
     "iopub.status.idle": "2022-05-16T00:40:59.249375Z",
     "shell.execute_reply": "2022-05-16T00:40:59.249776Z"
    },
    "papermill": {
     "duration": 0.28162,
     "end_time": "2022-05-16T00:40:59.249909",
     "exception": false,
     "start_time": "2022-05-16T00:40:58.968289",
     "status": "completed"
    },
    "tags": []
   },
   "outputs": [
    {
     "data": {
      "text/plain": [
       "<matplotlib.legend.Legend at 0x7fda0392bc50>"
      ]
     },
     "execution_count": 24,
     "metadata": {},
     "output_type": "execute_result"
    },
    {
     "data": {
      "image/png": "[encoded data removed]",
      "text/plain": [
       "<Figure size 1080x720 with 1 Axes>"
      ]
     },
     "metadata": {
      "needs_background": "light"
     },
     "output_type": "display_data"
    }
   ],
   "source": [
    "#comparing the results of NN and LR\n",
    "plt.figure(figsize=(15,10))\n",
    "\n",
    "# Neural Network plots\n",
    "plt.plot(acc_nn.accuracies, 'r-', label = \"Training Accuracies - NN\")\n",
    "plt.plot(acc_nn.test_accuracies, 'g-', label = \"Testing Accuracies - NN\")\n",
    "\n",
    "# Logistic Regression plots\n",
    "plt.plot(acc_lr.accuracies, 'k-', label = \"Training Accuracies - LR\")\n",
    "plt.plot(acc_lr.test_accuracies, 'b-', label = \"Testing Accuracies - LR\")\n",
    "plt.legend()"
   ]
  },
  {
   "cell_type": "markdown",
   "id": "80dfb35c",
   "metadata": {
    "papermill": {
     "duration": 0.04377,
     "end_time": "2022-05-16T00:40:59.337531",
     "exception": false,
     "start_time": "2022-05-16T00:40:59.293761",
     "status": "completed"
    },
    "tags": []
   },
   "source": [
    "#### Plotting the outputs of this layer of the NN.\n"
   ]
  },
  {
   "cell_type": "code",
   "execution_count": 25,
   "id": "45eb2ff5",
   "metadata": {
    "execution": {
     "iopub.execute_input": "2022-05-16T00:40:59.428544Z",
     "iopub.status.busy": "2022-05-16T00:40:59.428015Z",
     "iopub.status.idle": "2022-05-16T00:40:59.462882Z",
     "shell.execute_reply": "2022-05-16T00:40:59.463491Z"
    },
    "papermill": {
     "duration": 0.082288,
     "end_time": "2022-05-16T00:40:59.463624",
     "exception": false,
     "start_time": "2022-05-16T00:40:59.381336",
     "status": "completed"
    },
    "tags": []
   },
   "outputs": [],
   "source": [
    "new_model = Model(layers[:-2])\n",
    "testing_plot = new_model(testing_data_x)"
   ]
  },
  {
   "cell_type": "code",
   "execution_count": 26,
   "id": "4c0a5485",
   "metadata": {
    "execution": {
     "iopub.execute_input": "2022-05-16T00:40:59.557592Z",
     "iopub.status.busy": "2022-05-16T00:40:59.557100Z",
     "iopub.status.idle": "2022-05-16T00:40:59.756787Z",
     "shell.execute_reply": "2022-05-16T00:40:59.757196Z"
    },
    "papermill": {
     "duration": 0.249004,
     "end_time": "2022-05-16T00:40:59.757322",
     "exception": false,
     "start_time": "2022-05-16T00:40:59.508318",
     "status": "completed"
    },
    "tags": []
   },
   "outputs": [
    {
     "data": {
      "text/plain": [
       "Text(0.5, 1.0, 'Outputs')"
      ]
     },
     "execution_count": 26,
     "metadata": {},
     "output_type": "execute_result"
    },
    {
     "data": {
      "image/png": "[encoded data removed]",
      "text/plain": [
       "<Figure size 576x504 with 1 Axes>"
      ]
     },
     "metadata": {
      "needs_background": "light"
     },
     "output_type": "display_data"
    }
   ],
   "source": [
    "# Plotting the scatter plot of points and color coding by class\n",
    "plt.figure(figsize=(8,7))\n",
    "plt.scatter(testing_plot[:,0], testing_plot[:,1], alpha = 0.1, c = y_test.ravel());\n",
    "plt.title('Outputs')"
   ]
  },
  {
   "cell_type": "markdown",
   "id": "a74fcf8f",
   "metadata": {
    "papermill": {
     "duration": 0.066355,
     "end_time": "2022-05-16T00:40:59.869649",
     "exception": false,
     "start_time": "2022-05-16T00:40:59.803294",
     "status": "completed"
    },
    "tags": []
   },
   "source": [
    "Probability contours"
   ]
  },
  {
   "cell_type": "code",
   "execution_count": 27,
   "id": "d0afc8e3",
   "metadata": {
    "execution": {
     "iopub.execute_input": "2022-05-16T00:40:59.967107Z",
     "iopub.status.busy": "2022-05-16T00:40:59.965880Z",
     "iopub.status.idle": "2022-05-16T00:40:59.976806Z",
     "shell.execute_reply": "2022-05-16T00:40:59.976401Z"
    },
    "papermill": {
     "duration": 0.061138,
     "end_time": "2022-05-16T00:40:59.976909",
     "exception": false,
     "start_time": "2022-05-16T00:40:59.915771",
     "status": "completed"
    },
    "tags": []
   },
   "outputs": [],
   "source": [
    "model_prob = Model(layers[-2:]) "
   ]
  },
  {
   "cell_type": "code",
   "execution_count": 28,
   "id": "9b96e238",
   "metadata": {
    "execution": {
     "iopub.execute_input": "2022-05-16T00:41:00.073535Z",
     "iopub.status.busy": "2022-05-16T00:41:00.073030Z",
     "iopub.status.idle": "2022-05-16T00:41:00.085723Z",
     "shell.execute_reply": "2022-05-16T00:41:00.086125Z"
    },
    "papermill": {
     "duration": 0.06316,
     "end_time": "2022-05-16T00:41:00.086257",
     "exception": false,
     "start_time": "2022-05-16T00:41:00.023097",
     "status": "completed"
    },
    "tags": []
   },
   "outputs": [],
   "source": [
    "#creating the x and y ranges according to the above generated plot.\n",
    "x_range = np.linspace(-4, 1, 100) \n",
    "y_range = np.linspace(-6, 6, 100) \n",
    "x_grid, y_grid = np.meshgrid(x_range, y_range) # x_grid and y_grig are of size 100 X 100\n",
    "\n",
    "# converting x_grid and y_grid to continuous arrays\n",
    "x_gridflat = np.ravel(x_grid)\n",
    "y_gridflat = np.ravel(y_grid)\n",
    "\n",
    "# The last layer of the current model takes two columns as input. Hence transpose of np.vstack() is required.\n",
    "X = np.vstack((x_gridflat, y_gridflat)).T\n",
    "\n",
    "prob_contour = model_prob(X).reshape(100,100) "
   ]
  },
  {
   "cell_type": "code",
   "execution_count": 29,
   "id": "da72499a",
   "metadata": {
    "execution": {
     "iopub.execute_input": "2022-05-16T00:41:00.184233Z",
     "iopub.status.busy": "2022-05-16T00:41:00.183740Z",
     "iopub.status.idle": "2022-05-16T00:41:00.434554Z",
     "shell.execute_reply": "2022-05-16T00:41:00.434946Z"
    },
    "papermill": {
     "duration": 0.301149,
     "end_time": "2022-05-16T00:41:00.435076",
     "exception": false,
     "start_time": "2022-05-16T00:41:00.133927",
     "status": "completed"
    },
    "tags": []
   },
   "outputs": [
    {
     "data": {
      "image/png": "[encoded data removed]",
      "text/plain": [
       "<Figure size 720x648 with 1 Axes>"
      ]
     },
     "metadata": {
      "needs_background": "light"
     },
     "output_type": "display_data"
    }
   ],
   "source": [
    "plt.figure(figsize=(10,9))\n",
    "plt.scatter(testing_plot[:,0], testing_plot[:,1], alpha = 0.1, c = y_test.ravel())\n",
    "contours = plt.contour(x_grid,y_grid,prob_contour)\n",
    "plt.title('Probability Contours')\n",
    "plt.clabel(contours, inline = True );"
   ]
  },
  {
   "cell_type": "code",
   "execution_count": null,
   "id": "e81b4ac7",
   "metadata": {
    "papermill": {
     "duration": 0.048668,
     "end_time": "2022-05-16T00:41:00.532760",
     "exception": false,
     "start_time": "2022-05-16T00:41:00.484092",
     "status": "completed"
    },
    "tags": []
   },
   "outputs": [],
   "source": []
  }
 ],
 "metadata": {
  "kernelspec": {
   "display_name": "Python 3",
   "language": "python",
   "name": "python3"
  },
  "language_info": {
   "codemirror_mode": {
    "name": "ipython",
    "version": 3
   },
   "file_extension": ".py",
   "mimetype": "text/x-python",
   "name": "python",
   "nbconvert_exporter": "python",
   "pygments_lexer": "ipython3",
   "version": "3.6.15"
  },
  "papermill": {
   "default_parameters": {},
   "duration": 196.084533,
   "end_time": "2022-05-16T00:41:00.900525",
   "environment_variables": {},
   "exception": null,
   "input_path": "2020-08-11-part2.ipynb",
   "output_path": "2020-08-11-part2.ipynb",
   "parameters": {},
   "start_time": "2022-05-16T00:37:44.815992",
   "version": "2.3.3"
  }
 },
 "nbformat": 4,
 "nbformat_minor": 5
}