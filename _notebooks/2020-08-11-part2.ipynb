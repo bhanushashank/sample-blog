{
 "cells": [
  {
   "cell_type": "markdown",
   "id": "98380cd3",
   "metadata": {
    "papermill": {
     "duration": 0.035976,
     "end_time": "2021-12-22T20:09:33.723908",
     "exception": false,
     "start_time": "2021-12-22T20:09:33.687932",
     "status": "completed"
    },
    "tags": []
   },
   "source": [
    "# Distinguish Your Own Digits (DYOD)"
   ]
  },
  {
   "cell_type": "markdown",
   "id": "ef31240d",
   "metadata": {
    "papermill": {
     "duration": 0.028597,
     "end_time": "2021-12-22T20:09:33.786786",
     "exception": false,
     "start_time": "2021-12-22T20:09:33.758189",
     "status": "completed"
    },
    "tags": []
   },
   "source": [
    "You are going to write a classifier that distinguishes between the number 3 and number 8."
   ]
  },
  {
   "cell_type": "code",
   "execution_count": 1,
   "id": "b15c8646",
   "metadata": {
    "execution": {
     "iopub.execute_input": "2021-12-22T20:09:33.857269Z",
     "iopub.status.busy": "2021-12-22T20:09:33.853663Z",
     "iopub.status.idle": "2021-12-22T20:09:33.869102Z",
     "shell.execute_reply": "2021-12-22T20:09:33.868511Z"
    },
    "papermill": {
     "duration": 0.053804,
     "end_time": "2021-12-22T20:09:33.869269",
     "exception": false,
     "start_time": "2021-12-22T20:09:33.815465",
     "status": "completed"
    },
    "tags": []
   },
   "outputs": [],
   "source": [
    "%load_ext autoreload\n",
    "%autoreload 2"
   ]
  },
  {
   "cell_type": "code",
   "execution_count": 2,
   "id": "22ef38dc",
   "metadata": {
    "execution": {
     "iopub.execute_input": "2021-12-22T20:09:33.932785Z",
     "iopub.status.busy": "2021-12-22T20:09:33.932133Z",
     "iopub.status.idle": "2021-12-22T20:09:34.630666Z",
     "shell.execute_reply": "2021-12-22T20:09:34.630058Z"
    },
    "papermill": {
     "duration": 0.732791,
     "end_time": "2021-12-22T20:09:34.630823",
     "exception": false,
     "start_time": "2021-12-22T20:09:33.898032",
     "status": "completed"
    },
    "tags": []
   },
   "outputs": [],
   "source": [
    "%matplotlib inline\n",
    "import numpy as np\n",
    "import matplotlib.pyplot as plt\n",
    "import pandas as pd"
   ]
  },
  {
   "cell_type": "markdown",
   "id": "ba036198",
   "metadata": {
    "papermill": {
     "duration": 0.028552,
     "end_time": "2021-12-22T20:09:34.688526",
     "exception": false,
     "start_time": "2021-12-22T20:09:34.659974",
     "status": "completed"
    },
    "tags": []
   },
   "source": [
    "From the command line run `pip install mnist`. This is a library that will help you bring down the mnist dataset. If you run this from a notebook, you need to put  `!pip install mnist` in a cell by itself."
   ]
  },
  {
   "cell_type": "code",
   "execution_count": 3,
   "id": "bb6ad8a1",
   "metadata": {
    "execution": {
     "iopub.execute_input": "2021-12-22T20:09:34.750052Z",
     "iopub.status.busy": "2021-12-22T20:09:34.748722Z",
     "iopub.status.idle": "2021-12-22T20:09:36.768833Z",
     "shell.execute_reply": "2021-12-22T20:09:36.768260Z"
    },
    "papermill": {
     "duration": 2.052541,
     "end_time": "2021-12-22T20:09:36.768998",
     "exception": false,
     "start_time": "2021-12-22T20:09:34.716457",
     "status": "completed"
    },
    "tags": []
   },
   "outputs": [
    {
     "name": "stdout",
     "output_type": "stream",
     "text": [
      "Collecting mnist\r\n"
     ]
    },
    {
     "name": "stdout",
     "output_type": "stream",
     "text": [
      "  Downloading mnist-0.2.2-py2.py3-none-any.whl (3.5 kB)\r\n",
      "Requirement already satisfied: numpy in /opt/hostedtoolcache/Python/3.6.15/x64/lib/python3.6/site-packages (from mnist) (1.19.5)\r\n"
     ]
    },
    {
     "name": "stdout",
     "output_type": "stream",
     "text": [
      "Installing collected packages: mnist\r\n"
     ]
    },
    {
     "name": "stdout",
     "output_type": "stream",
     "text": [
      "Successfully installed mnist-0.2.2\r\n"
     ]
    }
   ],
   "source": [
    "!pip install mnist"
   ]
  },
  {
   "cell_type": "markdown",
   "id": "69df9c9a",
   "metadata": {
    "papermill": {
     "duration": 0.029437,
     "end_time": "2021-12-22T20:09:36.831589",
     "exception": false,
     "start_time": "2021-12-22T20:09:36.802152",
     "status": "completed"
    },
    "tags": []
   },
   "source": [
    "## Preparing the Data"
   ]
  },
  {
   "cell_type": "code",
   "execution_count": 4,
   "id": "7f69d806",
   "metadata": {
    "execution": {
     "iopub.execute_input": "2021-12-22T20:09:36.898168Z",
     "iopub.status.busy": "2021-12-22T20:09:36.896053Z",
     "iopub.status.idle": "2021-12-22T20:09:36.912347Z",
     "shell.execute_reply": "2021-12-22T20:09:36.911777Z"
    },
    "papermill": {
     "duration": 0.051477,
     "end_time": "2021-12-22T20:09:36.912486",
     "exception": false,
     "start_time": "2021-12-22T20:09:36.861009",
     "status": "completed"
    },
    "tags": []
   },
   "outputs": [],
   "source": [
    "import mnist"
   ]
  },
  {
   "cell_type": "code",
   "execution_count": 5,
   "id": "a411e44f",
   "metadata": {
    "execution": {
     "iopub.execute_input": "2021-12-22T20:09:36.978871Z",
     "iopub.status.busy": "2021-12-22T20:09:36.977767Z",
     "iopub.status.idle": "2021-12-22T20:09:37.553334Z",
     "shell.execute_reply": "2021-12-22T20:09:37.552250Z"
    },
    "papermill": {
     "duration": 0.611361,
     "end_time": "2021-12-22T20:09:37.553494",
     "exception": false,
     "start_time": "2021-12-22T20:09:36.942133",
     "status": "completed"
    },
    "tags": []
   },
   "outputs": [],
   "source": [
    "train_images = mnist.train_images()\n",
    "train_labels = mnist.train_labels()"
   ]
  },
  {
   "cell_type": "code",
   "execution_count": 6,
   "id": "dceab3a5",
   "metadata": {
    "execution": {
     "iopub.execute_input": "2021-12-22T20:09:37.621144Z",
     "iopub.status.busy": "2021-12-22T20:09:37.620495Z",
     "iopub.status.idle": "2021-12-22T20:09:37.638099Z",
     "shell.execute_reply": "2021-12-22T20:09:37.637601Z"
    },
    "papermill": {
     "duration": 0.051705,
     "end_time": "2021-12-22T20:09:37.638233",
     "exception": false,
     "start_time": "2021-12-22T20:09:37.586528",
     "status": "completed"
    },
    "tags": []
   },
   "outputs": [
    {
     "data": {
      "text/plain": [
       "((60000, 28, 28), (60000,))"
      ]
     },
     "execution_count": 6,
     "metadata": {},
     "output_type": "execute_result"
    }
   ],
   "source": [
    "train_images.shape, train_labels.shape"
   ]
  },
  {
   "cell_type": "code",
   "execution_count": 7,
   "id": "f50dc2bb",
   "metadata": {
    "execution": {
     "iopub.execute_input": "2021-12-22T20:09:37.703845Z",
     "iopub.status.busy": "2021-12-22T20:09:37.703221Z",
     "iopub.status.idle": "2021-12-22T20:09:37.842037Z",
     "shell.execute_reply": "2021-12-22T20:09:37.841440Z"
    },
    "papermill": {
     "duration": 0.173128,
     "end_time": "2021-12-22T20:09:37.842179",
     "exception": false,
     "start_time": "2021-12-22T20:09:37.669051",
     "status": "completed"
    },
    "tags": []
   },
   "outputs": [],
   "source": [
    "test_images = mnist.test_images()\n",
    "test_labels = mnist.test_labels()"
   ]
  },
  {
   "cell_type": "code",
   "execution_count": 8,
   "id": "fc38cf1b",
   "metadata": {
    "execution": {
     "iopub.execute_input": "2021-12-22T20:09:37.908684Z",
     "iopub.status.busy": "2021-12-22T20:09:37.908036Z",
     "iopub.status.idle": "2021-12-22T20:09:37.924606Z",
     "shell.execute_reply": "2021-12-22T20:09:37.923799Z"
    },
    "papermill": {
     "duration": 0.051803,
     "end_time": "2021-12-22T20:09:37.924746",
     "exception": false,
     "start_time": "2021-12-22T20:09:37.872943",
     "status": "completed"
    },
    "tags": []
   },
   "outputs": [
    {
     "data": {
      "text/plain": [
       "((10000, 28, 28), (10000,))"
      ]
     },
     "execution_count": 8,
     "metadata": {},
     "output_type": "execute_result"
    }
   ],
   "source": [
    "test_images.shape, test_labels.shape"
   ]
  },
  {
   "cell_type": "code",
   "execution_count": 9,
   "id": "f9ed8fe0",
   "metadata": {
    "execution": {
     "iopub.execute_input": "2021-12-22T20:09:37.989896Z",
     "iopub.status.busy": "2021-12-22T20:09:37.989270Z",
     "iopub.status.idle": "2021-12-22T20:09:38.166106Z",
     "shell.execute_reply": "2021-12-22T20:09:38.166678Z"
    },
    "papermill": {
     "duration": 0.211939,
     "end_time": "2021-12-22T20:09:38.166851",
     "exception": false,
     "start_time": "2021-12-22T20:09:37.954912",
     "status": "completed"
    },
    "tags": []
   },
   "outputs": [
    {
     "name": "stdout",
     "output_type": "stream",
     "text": [
      "2\n"
     ]
    },
    {
     "data": {
      "text/plain": [
       "<matplotlib.image.AxesImage at 0x7fae929cd4a8>"
      ]
     },
     "execution_count": 9,
     "metadata": {},
     "output_type": "execute_result"
    },
    {
     "data": {
      "image/png": "[encoded data removed]",
      "text/plain": [
       "<Figure size 432x288 with 1 Axes>"
      ]
     },
     "metadata": {
      "needs_background": "light"
     },
     "output_type": "display_data"
    }
   ],
   "source": [
    "image_index = 7776 # You may select anything up to 60,000\n",
    "print(train_labels[image_index]) \n",
    "plt.imshow(train_images[image_index], cmap='Greys')"
   ]
  },
  {
   "cell_type": "markdown",
   "id": "a8d2388d",
   "metadata": {
    "papermill": {
     "duration": 0.031801,
     "end_time": "2021-12-22T20:09:38.232083",
     "exception": false,
     "start_time": "2021-12-22T20:09:38.200282",
     "status": "completed"
    },
    "tags": []
   },
   "source": [
    "## Filter data to get 3 and 8 out"
   ]
  },
  {
   "cell_type": "code",
   "execution_count": 10,
   "id": "776f7fc7",
   "metadata": {
    "execution": {
     "iopub.execute_input": "2021-12-22T20:09:38.302998Z",
     "iopub.status.busy": "2021-12-22T20:09:38.302358Z",
     "iopub.status.idle": "2021-12-22T20:09:38.319479Z",
     "shell.execute_reply": "2021-12-22T20:09:38.319979Z"
    },
    "papermill": {
     "duration": 0.056339,
     "end_time": "2021-12-22T20:09:38.320132",
     "exception": false,
     "start_time": "2021-12-22T20:09:38.263793",
     "status": "completed"
    },
    "tags": []
   },
   "outputs": [],
   "source": [
    "train_filter = np.where((train_labels == 3 ) | (train_labels == 8))\n",
    "test_filter = np.where((test_labels == 3) | (test_labels == 8))\n",
    "X_train, y_train = train_images[train_filter], train_labels[train_filter]\n",
    "X_test, y_test = test_images[test_filter], test_labels[test_filter]"
   ]
  },
  {
   "cell_type": "markdown",
   "id": "948f0b7e",
   "metadata": {
    "papermill": {
     "duration": 0.032468,
     "end_time": "2021-12-22T20:09:38.384685",
     "exception": false,
     "start_time": "2021-12-22T20:09:38.352217",
     "status": "completed"
    },
    "tags": []
   },
   "source": [
    "We normalize the pizel values in the 0 to 1 range"
   ]
  },
  {
   "cell_type": "code",
   "execution_count": 11,
   "id": "ee4c2166",
   "metadata": {
    "execution": {
     "iopub.execute_input": "2021-12-22T20:09:38.452833Z",
     "iopub.status.busy": "2021-12-22T20:09:38.452170Z",
     "iopub.status.idle": "2021-12-22T20:09:38.508510Z",
     "shell.execute_reply": "2021-12-22T20:09:38.507431Z"
    },
    "papermill": {
     "duration": 0.092121,
     "end_time": "2021-12-22T20:09:38.508735",
     "exception": false,
     "start_time": "2021-12-22T20:09:38.416614",
     "status": "completed"
    },
    "tags": []
   },
   "outputs": [],
   "source": [
    "X_train = X_train/255.\n",
    "X_test = X_test/255."
   ]
  },
  {
   "cell_type": "markdown",
   "id": "ddcf4fab",
   "metadata": {
    "papermill": {
     "duration": 0.031964,
     "end_time": "2021-12-22T20:09:38.574868",
     "exception": false,
     "start_time": "2021-12-22T20:09:38.542904",
     "status": "completed"
    },
    "tags": []
   },
   "source": [
    "And setup the labels as 1 (when the digit is 3) and 0 (when the digit is 8)"
   ]
  },
  {
   "cell_type": "code",
   "execution_count": 12,
   "id": "7dc908f2",
   "metadata": {
    "execution": {
     "iopub.execute_input": "2021-12-22T20:09:38.645783Z",
     "iopub.status.busy": "2021-12-22T20:09:38.645117Z",
     "iopub.status.idle": "2021-12-22T20:09:38.658519Z",
     "shell.execute_reply": "2021-12-22T20:09:38.659048Z"
    },
    "papermill": {
     "duration": 0.05061,
     "end_time": "2021-12-22T20:09:38.659198",
     "exception": false,
     "start_time": "2021-12-22T20:09:38.608588",
     "status": "completed"
    },
    "tags": []
   },
   "outputs": [],
   "source": [
    "y_train = 1*(y_train==3)\n",
    "y_test = 1*(y_test==3)"
   ]
  },
  {
   "cell_type": "code",
   "execution_count": 13,
   "id": "01e4e969",
   "metadata": {
    "execution": {
     "iopub.execute_input": "2021-12-22T20:09:38.728161Z",
     "iopub.status.busy": "2021-12-22T20:09:38.727506Z",
     "iopub.status.idle": "2021-12-22T20:09:38.742438Z",
     "shell.execute_reply": "2021-12-22T20:09:38.741932Z"
    },
    "papermill": {
     "duration": 0.05154,
     "end_time": "2021-12-22T20:09:38.742573",
     "exception": false,
     "start_time": "2021-12-22T20:09:38.691033",
     "status": "completed"
    },
    "tags": []
   },
   "outputs": [
    {
     "data": {
      "text/plain": [
       "((11982, 28, 28), (1984, 28, 28))"
      ]
     },
     "execution_count": 13,
     "metadata": {},
     "output_type": "execute_result"
    }
   ],
   "source": [
    "X_train.shape, X_test.shape"
   ]
  },
  {
   "cell_type": "markdown",
   "id": "5ccf3f85",
   "metadata": {
    "papermill": {
     "duration": 0.031585,
     "end_time": "2021-12-22T20:09:38.806317",
     "exception": false,
     "start_time": "2021-12-22T20:09:38.774732",
     "status": "completed"
    },
    "tags": []
   },
   "source": [
    "We reshape the data to flatten the image pixels into a set of features or co-variates:"
   ]
  },
  {
   "cell_type": "code",
   "execution_count": 14,
   "id": "5286a4a3",
   "metadata": {
    "execution": {
     "iopub.execute_input": "2021-12-22T20:09:38.875258Z",
     "iopub.status.busy": "2021-12-22T20:09:38.874620Z",
     "iopub.status.idle": "2021-12-22T20:09:38.889726Z",
     "shell.execute_reply": "2021-12-22T20:09:38.889213Z"
    },
    "papermill": {
     "duration": 0.051782,
     "end_time": "2021-12-22T20:09:38.889862",
     "exception": false,
     "start_time": "2021-12-22T20:09:38.838080",
     "status": "completed"
    },
    "tags": []
   },
   "outputs": [
    {
     "data": {
      "text/plain": [
       "((11982, 784), (1984, 784))"
      ]
     },
     "execution_count": 14,
     "metadata": {},
     "output_type": "execute_result"
    }
   ],
   "source": [
    "X_train = X_train.reshape(X_train.shape[0], -1)\n",
    "X_test = X_test.reshape(X_test.shape[0], -1)\n",
    "X_train.shape, X_test.shape"
   ]
  },
  {
   "cell_type": "code",
   "execution_count": 15,
   "id": "73c5f88a",
   "metadata": {
    "execution": {
     "iopub.execute_input": "2021-12-22T20:09:38.958938Z",
     "iopub.status.busy": "2021-12-22T20:09:38.958298Z",
     "iopub.status.idle": "2021-12-22T20:09:38.979804Z",
     "shell.execute_reply": "2021-12-22T20:09:38.980382Z"
    },
    "papermill": {
     "duration": 0.05879,
     "end_time": "2021-12-22T20:09:38.980548",
     "exception": false,
     "start_time": "2021-12-22T20:09:38.921758",
     "status": "completed"
    },
    "tags": []
   },
   "outputs": [],
   "source": [
    "#Impoting functions from 'Kudzu'\n",
    "from kudzu.model import Model\n",
    "from kudzu.train import Learner\n",
    "from kudzu.optim import GD\n",
    "from kudzu.data import Data, Sampler,Dataloader\n",
    "\n",
    "from kudzu.callbacks import AccCallback\n",
    "from kudzu.callbacks import ClfCallback\n",
    "\n",
    "from kudzu.loss import MSE\n",
    "\n",
    "from kudzu.layer import Sigmoid,Relu\n",
    "from kudzu.layer import Affine"
   ]
  },
  {
   "cell_type": "markdown",
   "id": "bc01172a",
   "metadata": {
    "papermill": {
     "duration": 0.031838,
     "end_time": "2021-12-22T20:09:39.045283",
     "exception": false,
     "start_time": "2021-12-22T20:09:39.013445",
     "status": "completed"
    },
    "tags": []
   },
   "source": [
    "### Let us create a `Config` class, to store important parameters. \n",
    "This class essentially plays the role of a dictionary."
   ]
  },
  {
   "cell_type": "code",
   "execution_count": 16,
   "id": "978281aa",
   "metadata": {
    "execution": {
     "iopub.execute_input": "2021-12-22T20:09:39.113387Z",
     "iopub.status.busy": "2021-12-22T20:09:39.112726Z",
     "iopub.status.idle": "2021-12-22T20:09:39.126840Z",
     "shell.execute_reply": "2021-12-22T20:09:39.126318Z"
    },
    "papermill": {
     "duration": 0.049993,
     "end_time": "2021-12-22T20:09:39.126973",
     "exception": false,
     "start_time": "2021-12-22T20:09:39.076980",
     "status": "completed"
    },
    "tags": []
   },
   "outputs": [],
   "source": [
    "class Config:\n",
    "    pass\n",
    "config = Config()\n",
    "config.lr = 0.001\n",
    "config.num_epochs = 250\n",
    "config.bs = 50"
   ]
  },
  {
   "cell_type": "markdown",
   "id": "1385fa59",
   "metadata": {
    "papermill": {
     "duration": 0.031946,
     "end_time": "2021-12-22T20:09:39.190950",
     "exception": false,
     "start_time": "2021-12-22T20:09:39.159004",
     "status": "completed"
    },
    "tags": []
   },
   "source": [
    "### Running Models with the Training data\n",
    "Details about the network layers:\n",
    "- A first affine layer has 784 inputs and does 100 affine transforms. These are followed by a Relu\n",
    "- A second affine layer has 100 inputs from the 100 activations of the past layer, and does 100 affine transforms. These are followed by a Relu\n",
    "- A third affine layer has 100 activations and does 2 affine transformations to create an embedding for visualization. There is no non-linearity here.\n",
    "- A final \"logistic regression\" which has an affine transform from 2 inputs to 1 output, which is squeezed through a sigmoid.\n"
   ]
  },
  {
   "cell_type": "code",
   "execution_count": 17,
   "id": "2b9c66db",
   "metadata": {
    "execution": {
     "iopub.execute_input": "2021-12-22T20:09:39.260671Z",
     "iopub.status.busy": "2021-12-22T20:09:39.260038Z",
     "iopub.status.idle": "2021-12-22T20:09:39.275814Z",
     "shell.execute_reply": "2021-12-22T20:09:39.275266Z"
    },
    "papermill": {
     "duration": 0.053155,
     "end_time": "2021-12-22T20:09:39.275954",
     "exception": false,
     "start_time": "2021-12-22T20:09:39.222799",
     "status": "completed"
    },
    "tags": []
   },
   "outputs": [],
   "source": [
    "data = Data(X_train, y_train.reshape(-1,1))\n",
    "sampler = Sampler(data, config.bs, shuffle=True)\n",
    "\n",
    "dl = Dataloader(data, sampler)\n",
    "\n",
    "opt = GD(config.lr)\n",
    "loss = MSE()"
   ]
  },
  {
   "cell_type": "code",
   "execution_count": 18,
   "id": "b275e4c2",
   "metadata": {
    "execution": {
     "iopub.execute_input": "2021-12-22T20:09:39.345090Z",
     "iopub.status.busy": "2021-12-22T20:09:39.344399Z",
     "iopub.status.idle": "2021-12-22T20:09:39.358564Z",
     "shell.execute_reply": "2021-12-22T20:09:39.358026Z"
    },
    "papermill": {
     "duration": 0.050239,
     "end_time": "2021-12-22T20:09:39.358699",
     "exception": false,
     "start_time": "2021-12-22T20:09:39.308460",
     "status": "completed"
    },
    "tags": []
   },
   "outputs": [],
   "source": [
    "training_data_x = X_train\n",
    "testing_data_x = X_test\n",
    "training_data_y = y_train.reshape(-1,1)\n",
    "testing_data_y = y_test.reshape(-1,1)"
   ]
  },
  {
   "cell_type": "code",
   "execution_count": 19,
   "id": "76951160",
   "metadata": {
    "execution": {
     "iopub.execute_input": "2021-12-22T20:09:39.431710Z",
     "iopub.status.busy": "2021-12-22T20:09:39.431070Z",
     "iopub.status.idle": "2021-12-22T20:09:39.450791Z",
     "shell.execute_reply": "2021-12-22T20:09:39.450283Z"
    },
    "papermill": {
     "duration": 0.060089,
     "end_time": "2021-12-22T20:09:39.450928",
     "exception": false,
     "start_time": "2021-12-22T20:09:39.390839",
     "status": "completed"
    },
    "tags": []
   },
   "outputs": [
    {
     "name": "stdout",
     "output_type": "stream",
     "text": [
      "xavier\n",
      "xavier\n",
      "xavier\n",
      "xavier\n",
      "xavier\n"
     ]
    }
   ],
   "source": [
    "layers = [Affine(\"first\", 784, 100), Relu(\"first\"), Affine(\"second\", 100, 100), Relu(\"second\"), Affine(\"third\", 100, 2), Affine(\"last\", 2, 1), Sigmoid(\"last\")]\n",
    "model_nn = Model(layers)\n",
    "model_lr = Model([Affine(\"logits\", 784, 1), Sigmoid(\"sigmoid\")])"
   ]
  },
  {
   "cell_type": "code",
   "execution_count": 20,
   "id": "6eede77a",
   "metadata": {
    "execution": {
     "iopub.execute_input": "2021-12-22T20:09:39.521519Z",
     "iopub.status.busy": "2021-12-22T20:09:39.520857Z",
     "iopub.status.idle": "2021-12-22T20:09:39.535912Z",
     "shell.execute_reply": "2021-12-22T20:09:39.536448Z"
    },
    "papermill": {
     "duration": 0.053059,
     "end_time": "2021-12-22T20:09:39.536603",
     "exception": false,
     "start_time": "2021-12-22T20:09:39.483544",
     "status": "completed"
    },
    "tags": []
   },
   "outputs": [],
   "source": [
    "nn_learner = Learner(loss, model_nn, opt, config.num_epochs)\n",
    "acc_nn = ClfCallback(nn_learner, config.bs, training_data_x , testing_data_x, training_data_y, testing_data_y)\n",
    "nn_learner.set_callbacks([acc_nn])"
   ]
  },
  {
   "cell_type": "code",
   "execution_count": 21,
   "id": "877b6cc7",
   "metadata": {
    "execution": {
     "iopub.execute_input": "2021-12-22T20:09:39.606027Z",
     "iopub.status.busy": "2021-12-22T20:09:39.605039Z",
     "iopub.status.idle": "2021-12-22T20:09:39.619940Z",
     "shell.execute_reply": "2021-12-22T20:09:39.620468Z"
    },
    "papermill": {
     "duration": 0.051672,
     "end_time": "2021-12-22T20:09:39.620616",
     "exception": false,
     "start_time": "2021-12-22T20:09:39.568944",
     "status": "completed"
    },
    "tags": []
   },
   "outputs": [],
   "source": [
    "lr_learner = Learner(loss, model_lr, opt, config.num_epochs)\n",
    "acc_lr = ClfCallback(lr_learner, config.bs, training_data_x , testing_data_x, training_data_y, testing_data_y)\n",
    "lr_learner.set_callbacks([acc_lr])"
   ]
  },
  {
   "cell_type": "code",
   "execution_count": 22,
   "id": "d9b133c3",
   "metadata": {
    "execution": {
     "iopub.execute_input": "2021-12-22T20:09:39.689996Z",
     "iopub.status.busy": "2021-12-22T20:09:39.689380Z",
     "iopub.status.idle": "2021-12-22T20:11:09.641361Z",
     "shell.execute_reply": "2021-12-22T20:11:09.642244Z"
    },
    "papermill": {
     "duration": 89.989688,
     "end_time": "2021-12-22T20:11:09.642420",
     "exception": false,
     "start_time": "2021-12-22T20:09:39.652732",
     "status": "completed"
    },
    "tags": []
   },
   "outputs": [
    {
     "name": "stdout",
     "output_type": "stream",
     "text": [
      "Epoch 0, Loss 0.206\n",
      "Training Accuracy: 0.8185, Testing Accuracy: 0.8236\n",
      "\n"
     ]
    },
    {
     "name": "stdout",
     "output_type": "stream",
     "text": [
      "Epoch 10, Loss 0.0585\n",
      "Training Accuracy: 0.9354, Testing Accuracy: 0.9486\n",
      "\n"
     ]
    },
    {
     "name": "stdout",
     "output_type": "stream",
     "text": [
      "Epoch 20, Loss 0.0431\n",
      "Training Accuracy: 0.9510, Testing Accuracy: 0.9652\n",
      "\n"
     ]
    },
    {
     "name": "stdout",
     "output_type": "stream",
     "text": [
      "Epoch 30, Loss 0.0365\n",
      "Training Accuracy: 0.9582, Testing Accuracy: 0.9713\n",
      "\n"
     ]
    },
    {
     "name": "stdout",
     "output_type": "stream",
     "text": [
      "Epoch 40, Loss 0.0327\n",
      "Training Accuracy: 0.9626, Testing Accuracy: 0.9728\n",
      "\n"
     ]
    },
    {
     "name": "stdout",
     "output_type": "stream",
     "text": [
      "Epoch 50, Loss 0.0301\n",
      "Training Accuracy: 0.9653, Testing Accuracy: 0.9728\n",
      "\n"
     ]
    },
    {
     "name": "stdout",
     "output_type": "stream",
     "text": [
      "Epoch 60, Loss 0.0281\n",
      "Training Accuracy: 0.9675, Testing Accuracy: 0.9733\n",
      "\n"
     ]
    },
    {
     "name": "stdout",
     "output_type": "stream",
     "text": [
      "Epoch 70, Loss 0.0266\n",
      "Training Accuracy: 0.9700, Testing Accuracy: 0.9753\n",
      "\n"
     ]
    },
    {
     "name": "stdout",
     "output_type": "stream",
     "text": [
      "Epoch 80, Loss 0.0253\n",
      "Training Accuracy: 0.9713, Testing Accuracy: 0.9758\n",
      "\n"
     ]
    },
    {
     "name": "stdout",
     "output_type": "stream",
     "text": [
      "Epoch 90, Loss 0.0242\n",
      "Training Accuracy: 0.9729, Testing Accuracy: 0.9763\n",
      "\n"
     ]
    },
    {
     "name": "stdout",
     "output_type": "stream",
     "text": [
      "Epoch 100, Loss 0.0232\n",
      "Training Accuracy: 0.9736, Testing Accuracy: 0.9778\n",
      "\n"
     ]
    },
    {
     "name": "stdout",
     "output_type": "stream",
     "text": [
      "Epoch 110, Loss 0.0223\n",
      "Training Accuracy: 0.9745, Testing Accuracy: 0.9778\n",
      "\n"
     ]
    },
    {
     "name": "stdout",
     "output_type": "stream",
     "text": [
      "Epoch 120, Loss 0.0215\n",
      "Training Accuracy: 0.9755, Testing Accuracy: 0.9783\n",
      "\n"
     ]
    },
    {
     "name": "stdout",
     "output_type": "stream",
     "text": [
      "Epoch 130, Loss 0.0208\n",
      "Training Accuracy: 0.9762, Testing Accuracy: 0.9773\n",
      "\n"
     ]
    },
    {
     "name": "stdout",
     "output_type": "stream",
     "text": [
      "Epoch 140, Loss 0.0202\n",
      "Training Accuracy: 0.9772, Testing Accuracy: 0.9773\n",
      "\n"
     ]
    },
    {
     "name": "stdout",
     "output_type": "stream",
     "text": [
      "Epoch 150, Loss 0.0195\n",
      "Training Accuracy: 0.9786, Testing Accuracy: 0.9773\n",
      "\n"
     ]
    },
    {
     "name": "stdout",
     "output_type": "stream",
     "text": [
      "Epoch 160, Loss 0.0189\n",
      "Training Accuracy: 0.9793, Testing Accuracy: 0.9773\n",
      "\n"
     ]
    },
    {
     "name": "stdout",
     "output_type": "stream",
     "text": [
      "Epoch 170, Loss 0.0184\n",
      "Training Accuracy: 0.9800, Testing Accuracy: 0.9768\n",
      "\n"
     ]
    },
    {
     "name": "stdout",
     "output_type": "stream",
     "text": [
      "Epoch 180, Loss 0.0178\n",
      "Training Accuracy: 0.9811, Testing Accuracy: 0.9773\n",
      "\n"
     ]
    },
    {
     "name": "stdout",
     "output_type": "stream",
     "text": [
      "Epoch 190, Loss 0.0173\n",
      "Training Accuracy: 0.9815, Testing Accuracy: 0.9778\n",
      "\n"
     ]
    },
    {
     "name": "stdout",
     "output_type": "stream",
     "text": [
      "Epoch 200, Loss 0.0168\n",
      "Training Accuracy: 0.9821, Testing Accuracy: 0.9788\n",
      "\n"
     ]
    },
    {
     "name": "stdout",
     "output_type": "stream",
     "text": [
      "Epoch 210, Loss 0.0164\n",
      "Training Accuracy: 0.9826, Testing Accuracy: 0.9798\n",
      "\n"
     ]
    },
    {
     "name": "stdout",
     "output_type": "stream",
     "text": [
      "Epoch 220, Loss 0.0159\n",
      "Training Accuracy: 0.9831, Testing Accuracy: 0.9798\n",
      "\n"
     ]
    },
    {
     "name": "stdout",
     "output_type": "stream",
     "text": [
      "Epoch 230, Loss 0.0155\n",
      "Training Accuracy: 0.9836, Testing Accuracy: 0.9798\n",
      "\n"
     ]
    },
    {
     "name": "stdout",
     "output_type": "stream",
     "text": [
      "Epoch 240, Loss 0.0151\n",
      "Training Accuracy: 0.9838, Testing Accuracy: 0.9803\n",
      "\n"
     ]
    },
    {
     "data": {
      "text/plain": [
       "0.00046560139154230016"
      ]
     },
     "execution_count": 22,
     "metadata": {},
     "output_type": "execute_result"
    }
   ],
   "source": [
    "nn_learner.train_loop(dl)"
   ]
  },
  {
   "cell_type": "code",
   "execution_count": 23,
   "id": "e0163366",
   "metadata": {
    "execution": {
     "iopub.execute_input": "2021-12-22T20:11:09.738566Z",
     "iopub.status.busy": "2021-12-22T20:11:09.737939Z",
     "iopub.status.idle": "2021-12-22T20:11:25.707750Z",
     "shell.execute_reply": "2021-12-22T20:11:25.708635Z"
    },
    "papermill": {
     "duration": 16.02538,
     "end_time": "2021-12-22T20:11:25.708807",
     "exception": false,
     "start_time": "2021-12-22T20:11:09.683427",
     "status": "completed"
    },
    "tags": []
   },
   "outputs": [
    {
     "name": "stdout",
     "output_type": "stream",
     "text": [
      "Epoch 0, Loss 0.2512\n",
      "Training Accuracy: 0.6107, Testing Accuracy: 0.6154\n",
      "\n"
     ]
    },
    {
     "name": "stdout",
     "output_type": "stream",
     "text": [
      "Epoch 10, Loss 0.1069\n",
      "Training Accuracy: 0.9064, Testing Accuracy: 0.9199\n",
      "\n"
     ]
    },
    {
     "name": "stdout",
     "output_type": "stream",
     "text": [
      "Epoch 20, Loss 0.081\n",
      "Training Accuracy: 0.9283, Testing Accuracy: 0.9360\n",
      "\n"
     ]
    },
    {
     "name": "stdout",
     "output_type": "stream",
     "text": [
      "Epoch 30, Loss 0.0694\n",
      "Training Accuracy: 0.9357, Testing Accuracy: 0.9461\n",
      "\n"
     ]
    },
    {
     "name": "stdout",
     "output_type": "stream",
     "text": [
      "Epoch 40, Loss 0.0625\n",
      "Training Accuracy: 0.9408, Testing Accuracy: 0.9491\n",
      "\n"
     ]
    },
    {
     "name": "stdout",
     "output_type": "stream",
     "text": [
      "Epoch 50, Loss 0.0579\n",
      "Training Accuracy: 0.9437, Testing Accuracy: 0.9506\n",
      "\n"
     ]
    },
    {
     "name": "stdout",
     "output_type": "stream",
     "text": [
      "Epoch 60, Loss 0.0545\n",
      "Training Accuracy: 0.9469, Testing Accuracy: 0.9551\n",
      "\n"
     ]
    },
    {
     "name": "stdout",
     "output_type": "stream",
     "text": [
      "Epoch 70, Loss 0.0519\n",
      "Training Accuracy: 0.9489, Testing Accuracy: 0.9572\n",
      "\n"
     ]
    },
    {
     "name": "stdout",
     "output_type": "stream",
     "text": [
      "Epoch 80, Loss 0.0498\n",
      "Training Accuracy: 0.9510, Testing Accuracy: 0.9597\n",
      "\n"
     ]
    },
    {
     "name": "stdout",
     "output_type": "stream",
     "text": [
      "Epoch 90, Loss 0.048\n",
      "Training Accuracy: 0.9518, Testing Accuracy: 0.9597\n",
      "\n"
     ]
    },
    {
     "name": "stdout",
     "output_type": "stream",
     "text": [
      "Epoch 100, Loss 0.0466\n",
      "Training Accuracy: 0.9530, Testing Accuracy: 0.9597\n",
      "\n"
     ]
    },
    {
     "name": "stdout",
     "output_type": "stream",
     "text": [
      "Epoch 110, Loss 0.0453\n",
      "Training Accuracy: 0.9541, Testing Accuracy: 0.9607\n",
      "\n"
     ]
    },
    {
     "name": "stdout",
     "output_type": "stream",
     "text": [
      "Epoch 120, Loss 0.0442\n",
      "Training Accuracy: 0.9553, Testing Accuracy: 0.9607\n",
      "\n"
     ]
    },
    {
     "name": "stdout",
     "output_type": "stream",
     "text": [
      "Epoch 130, Loss 0.0433\n",
      "Training Accuracy: 0.9558, Testing Accuracy: 0.9622\n",
      "\n"
     ]
    },
    {
     "name": "stdout",
     "output_type": "stream",
     "text": [
      "Epoch 140, Loss 0.0424\n",
      "Training Accuracy: 0.9569, Testing Accuracy: 0.9627\n",
      "\n"
     ]
    },
    {
     "name": "stdout",
     "output_type": "stream",
     "text": [
      "Epoch 150, Loss 0.0417\n",
      "Training Accuracy: 0.9573, Testing Accuracy: 0.9632\n",
      "\n"
     ]
    },
    {
     "name": "stdout",
     "output_type": "stream",
     "text": [
      "Epoch 160, Loss 0.041\n",
      "Training Accuracy: 0.9578, Testing Accuracy: 0.9637\n",
      "\n"
     ]
    },
    {
     "name": "stdout",
     "output_type": "stream",
     "text": [
      "Epoch 170, Loss 0.0404\n",
      "Training Accuracy: 0.9579, Testing Accuracy: 0.9627\n",
      "\n"
     ]
    },
    {
     "name": "stdout",
     "output_type": "stream",
     "text": [
      "Epoch 180, Loss 0.0398\n",
      "Training Accuracy: 0.9584, Testing Accuracy: 0.9632\n",
      "\n"
     ]
    },
    {
     "name": "stdout",
     "output_type": "stream",
     "text": [
      "Epoch 190, Loss 0.0393\n",
      "Training Accuracy: 0.9588, Testing Accuracy: 0.9632\n",
      "\n"
     ]
    },
    {
     "name": "stdout",
     "output_type": "stream",
     "text": [
      "Epoch 200, Loss 0.0388\n",
      "Training Accuracy: 0.9589, Testing Accuracy: 0.9637\n",
      "\n"
     ]
    },
    {
     "name": "stdout",
     "output_type": "stream",
     "text": [
      "Epoch 210, Loss 0.0383\n",
      "Training Accuracy: 0.9590, Testing Accuracy: 0.9642\n",
      "\n"
     ]
    },
    {
     "name": "stdout",
     "output_type": "stream",
     "text": [
      "Epoch 220, Loss 0.0379\n",
      "Training Accuracy: 0.9594, Testing Accuracy: 0.9642\n",
      "\n"
     ]
    },
    {
     "name": "stdout",
     "output_type": "stream",
     "text": [
      "Epoch 230, Loss 0.0375\n",
      "Training Accuracy: 0.9595, Testing Accuracy: 0.9652\n",
      "\n"
     ]
    },
    {
     "name": "stdout",
     "output_type": "stream",
     "text": [
      "Epoch 240, Loss 0.0372\n",
      "Training Accuracy: 0.9599, Testing Accuracy: 0.9652\n",
      "\n"
     ]
    },
    {
     "data": {
      "text/plain": [
       "0.02342525554793317"
      ]
     },
     "execution_count": 23,
     "metadata": {},
     "output_type": "execute_result"
    }
   ],
   "source": [
    "lr_learner.train_loop(dl)"
   ]
  },
  {
   "cell_type": "code",
   "execution_count": 24,
   "id": "ca410940",
   "metadata": {
    "execution": {
     "iopub.execute_input": "2021-12-22T20:11:25.822326Z",
     "iopub.status.busy": "2021-12-22T20:11:25.821683Z",
     "iopub.status.idle": "2021-12-22T20:11:26.102689Z",
     "shell.execute_reply": "2021-12-22T20:11:26.102139Z"
    },
    "papermill": {
     "duration": 0.345333,
     "end_time": "2021-12-22T20:11:26.102830",
     "exception": false,
     "start_time": "2021-12-22T20:11:25.757497",
     "status": "completed"
    },
    "tags": []
   },
   "outputs": [
    {
     "data": {
      "text/plain": [
       "<matplotlib.legend.Legend at 0x7fae8521dbe0>"
      ]
     },
     "execution_count": 24,
     "metadata": {},
     "output_type": "execute_result"
    },
    {
     "data": {
      "image/png": "[encoded data removed]",
      "text/plain": [
       "<Figure size 1080x720 with 1 Axes>"
      ]
     },
     "metadata": {
      "needs_background": "light"
     },
     "output_type": "display_data"
    }
   ],
   "source": [
    "#comparing the results of NN and LR\n",
    "plt.figure(figsize=(15,10))\n",
    "\n",
    "# Neural Network plots\n",
    "plt.plot(acc_nn.accuracies, 'r-', label = \"Training Accuracies - NN\")\n",
    "plt.plot(acc_nn.test_accuracies, 'g-', label = \"Testing Accuracies - NN\")\n",
    "\n",
    "# Logistic Regression plots\n",
    "plt.plot(acc_lr.accuracies, 'k-', label = \"Training Accuracies - LR\")\n",
    "plt.plot(acc_lr.test_accuracies, 'b-', label = \"Testing Accuracies - LR\")\n",
    "plt.legend()"
   ]
  },
  {
   "cell_type": "markdown",
   "id": "80dfb35c",
   "metadata": {
    "papermill": {
     "duration": 0.053551,
     "end_time": "2021-12-22T20:11:26.221486",
     "exception": false,
     "start_time": "2021-12-22T20:11:26.167935",
     "status": "completed"
    },
    "tags": []
   },
   "source": [
    "#### Plotting the outputs of this layer of the NN.\n"
   ]
  },
  {
   "cell_type": "code",
   "execution_count": 25,
   "id": "45eb2ff5",
   "metadata": {
    "execution": {
     "iopub.execute_input": "2021-12-22T20:11:26.327514Z",
     "iopub.status.busy": "2021-12-22T20:11:26.326521Z",
     "iopub.status.idle": "2021-12-22T20:11:26.348351Z",
     "shell.execute_reply": "2021-12-22T20:11:26.348873Z"
    },
    "papermill": {
     "duration": 0.077257,
     "end_time": "2021-12-22T20:11:26.349080",
     "exception": false,
     "start_time": "2021-12-22T20:11:26.271823",
     "status": "completed"
    },
    "tags": []
   },
   "outputs": [],
   "source": [
    "new_model = Model(layers[:-2])\n",
    "testing_plot = new_model(testing_data_x)"
   ]
  },
  {
   "cell_type": "code",
   "execution_count": 26,
   "id": "4c0a5485",
   "metadata": {
    "execution": {
     "iopub.execute_input": "2021-12-22T20:11:26.473525Z",
     "iopub.status.busy": "2021-12-22T20:11:26.472816Z",
     "iopub.status.idle": "2021-12-22T20:11:26.676552Z",
     "shell.execute_reply": "2021-12-22T20:11:26.675999Z"
    },
    "papermill": {
     "duration": 0.270165,
     "end_time": "2021-12-22T20:11:26.676691",
     "exception": false,
     "start_time": "2021-12-22T20:11:26.406526",
     "status": "completed"
    },
    "tags": []
   },
   "outputs": [
    {
     "data": {
      "text/plain": [
       "Text(0.5, 1.0, 'Outputs')"
      ]
     },
     "execution_count": 26,
     "metadata": {},
     "output_type": "execute_result"
    },
    {
     "data": {
      "image/png": "[encoded data removed]",
      "text/plain": [
       "<Figure size 576x504 with 1 Axes>"
      ]
     },
     "metadata": {
      "needs_background": "light"
     },
     "output_type": "display_data"
    }
   ],
   "source": [
    "# Plotting the scatter plot of points and color coding by class\n",
    "plt.figure(figsize=(8,7))\n",
    "plt.scatter(testing_plot[:,0], testing_plot[:,1], alpha = 0.1, c = y_test.ravel());\n",
    "plt.title('Outputs')"
   ]
  },
  {
   "cell_type": "markdown",
   "id": "a74fcf8f",
   "metadata": {
    "papermill": {
     "duration": 0.0544,
     "end_time": "2021-12-22T20:11:26.785570",
     "exception": false,
     "start_time": "2021-12-22T20:11:26.731170",
     "status": "completed"
    },
    "tags": []
   },
   "source": [
    "Probability contours"
   ]
  },
  {
   "cell_type": "code",
   "execution_count": 27,
   "id": "d0afc8e3",
   "metadata": {
    "execution": {
     "iopub.execute_input": "2021-12-22T20:11:26.906989Z",
     "iopub.status.busy": "2021-12-22T20:11:26.906324Z",
     "iopub.status.idle": "2021-12-22T20:11:26.919816Z",
     "shell.execute_reply": "2021-12-22T20:11:26.920300Z"
    },
    "papermill": {
     "duration": 0.076578,
     "end_time": "2021-12-22T20:11:26.920465",
     "exception": false,
     "start_time": "2021-12-22T20:11:26.843887",
     "status": "completed"
    },
    "tags": []
   },
   "outputs": [],
   "source": [
    "model_prob = Model(layers[-2:]) "
   ]
  },
  {
   "cell_type": "code",
   "execution_count": 28,
   "id": "9b96e238",
   "metadata": {
    "execution": {
     "iopub.execute_input": "2021-12-22T20:11:27.066788Z",
     "iopub.status.busy": "2021-12-22T20:11:27.066145Z",
     "iopub.status.idle": "2021-12-22T20:11:27.082807Z",
     "shell.execute_reply": "2021-12-22T20:11:27.083299Z"
    },
    "papermill": {
     "duration": 0.078856,
     "end_time": "2021-12-22T20:11:27.083464",
     "exception": false,
     "start_time": "2021-12-22T20:11:27.004608",
     "status": "completed"
    },
    "tags": []
   },
   "outputs": [],
   "source": [
    "#creating the x and y ranges according to the above generated plot.\n",
    "x_range = np.linspace(-4, 1, 100) \n",
    "y_range = np.linspace(-6, 6, 100) \n",
    "x_grid, y_grid = np.meshgrid(x_range, y_range) # x_grid and y_grig are of size 100 X 100\n",
    "\n",
    "# converting x_grid and y_grid to continuous arrays\n",
    "x_gridflat = np.ravel(x_grid)\n",
    "y_gridflat = np.ravel(y_grid)\n",
    "\n",
    "# The last layer of the current model takes two columns as input. Hence transpose of np.vstack() is required.\n",
    "X = np.vstack((x_gridflat, y_gridflat)).T\n",
    "\n",
    "prob_contour = model_prob(X).reshape(100,100) "
   ]
  },
  {
   "cell_type": "code",
   "execution_count": 29,
   "id": "da72499a",
   "metadata": {
    "execution": {
     "iopub.execute_input": "2021-12-22T20:11:27.199443Z",
     "iopub.status.busy": "2021-12-22T20:11:27.196658Z",
     "iopub.status.idle": "2021-12-22T20:11:27.477851Z",
     "shell.execute_reply": "2021-12-22T20:11:27.477308Z"
    },
    "papermill": {
     "duration": 0.339629,
     "end_time": "2021-12-22T20:11:27.477996",
     "exception": false,
     "start_time": "2021-12-22T20:11:27.138367",
     "status": "completed"
    },
    "tags": []
   },
   "outputs": [
    {
     "data": {
      "image/png": "[encoded data removed]",
      "text/plain": [
       "<Figure size 720x648 with 1 Axes>"
      ]
     },
     "metadata": {
      "needs_background": "light"
     },
     "output_type": "display_data"
    }
   ],
   "source": [
    "plt.figure(figsize=(10,9))\n",
    "plt.scatter(testing_plot[:,0], testing_plot[:,1], alpha = 0.1, c = y_test.ravel())\n",
    "contours = plt.contour(x_grid,y_grid,prob_contour)\n",
    "plt.title('Probability Contours')\n",
    "plt.clabel(contours, inline = True );"
   ]
  },
  {
   "cell_type": "code",
   "execution_count": null,
   "id": "e81b4ac7",
   "metadata": {
    "papermill": {
     "duration": 0.055865,
     "end_time": "2021-12-22T20:11:27.590307",
     "exception": false,
     "start_time": "2021-12-22T20:11:27.534442",
     "status": "completed"
    },
    "tags": []
   },
   "outputs": [],
   "source": []
  }
 ],
 "metadata": {
  "kernelspec": {
   "display_name": "Python 3",
   "language": "python",
   "name": "python3"
  },
  "language_info": {
   "codemirror_mode": {
    "name": "ipython",
    "version": 3
   },
   "file_extension": ".py",
   "mimetype": "text/x-python",
   "name": "python",
   "nbconvert_exporter": "python",
   "pygments_lexer": "ipython3",
   "version": "3.6.15"
  },
  "papermill": {
   "default_parameters": {},
   "duration": 115.67048,
   "end_time": "2021-12-22T20:11:28.057675",
   "environment_variables": {},
   "exception": null,
   "input_path": "2020-08-11-part2.ipynb",
   "output_path": "2020-08-11-part2.ipynb",
   "parameters": {},
   "start_time": "2021-12-22T20:09:32.387195",
   "version": "2.3.3"
  }
 },
 "nbformat": 4,
 "nbformat_minor": 5
}