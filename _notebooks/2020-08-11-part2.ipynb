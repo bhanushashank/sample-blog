{
 "cells": [
  {
   "cell_type": "markdown",
   "id": "98380cd3",
   "metadata": {
    "papermill": {
     "duration": 0.02984,
     "end_time": "2022-08-14T20:09:53.373335",
     "exception": false,
     "start_time": "2022-08-14T20:09:53.343495",
     "status": "completed"
    },
    "tags": []
   },
   "source": [
    "# Distinguish Your Own Digits (DYOD)"
   ]
  },
  {
   "cell_type": "markdown",
   "id": "ef31240d",
   "metadata": {
    "papermill": {
     "duration": 0.024035,
     "end_time": "2022-08-14T20:09:53.421991",
     "exception": false,
     "start_time": "2022-08-14T20:09:53.397956",
     "status": "completed"
    },
    "tags": []
   },
   "source": [
    "You are going to write a classifier that distinguishes between the number 3 and number 8."
   ]
  },
  {
   "cell_type": "code",
   "execution_count": 1,
   "id": "b15c8646",
   "metadata": {
    "execution": {
     "iopub.execute_input": "2022-08-14T20:09:53.481057Z",
     "iopub.status.busy": "2022-08-14T20:09:53.480456Z",
     "iopub.status.idle": "2022-08-14T20:09:53.491676Z",
     "shell.execute_reply": "2022-08-14T20:09:53.491090Z"
    },
    "papermill": {
     "duration": 0.045634,
     "end_time": "2022-08-14T20:09:53.491803",
     "exception": false,
     "start_time": "2022-08-14T20:09:53.446169",
     "status": "completed"
    },
    "tags": []
   },
   "outputs": [],
   "source": [
    "%load_ext autoreload\n",
    "%autoreload 2"
   ]
  },
  {
   "cell_type": "code",
   "execution_count": 2,
   "id": "22ef38dc",
   "metadata": {
    "execution": {
     "iopub.execute_input": "2022-08-14T20:09:53.544466Z",
     "iopub.status.busy": "2022-08-14T20:09:53.543892Z",
     "iopub.status.idle": "2022-08-14T20:09:54.089641Z",
     "shell.execute_reply": "2022-08-14T20:09:54.089048Z"
    },
    "papermill": {
     "duration": 0.573085,
     "end_time": "2022-08-14T20:09:54.089818",
     "exception": false,
     "start_time": "2022-08-14T20:09:53.516733",
     "status": "completed"
    },
    "tags": []
   },
   "outputs": [],
   "source": [
    "%matplotlib inline\n",
    "import numpy as np\n",
    "import matplotlib.pyplot as plt\n",
    "import pandas as pd"
   ]
  },
  {
   "cell_type": "markdown",
   "id": "ba036198",
   "metadata": {
    "papermill": {
     "duration": 0.023755,
     "end_time": "2022-08-14T20:09:54.137539",
     "exception": false,
     "start_time": "2022-08-14T20:09:54.113784",
     "status": "completed"
    },
    "tags": []
   },
   "source": [
    "From the command line run `pip install mnist`. This is a library that will help you bring down the mnist dataset. If you run this from a notebook, you need to put  `!pip install mnist` in a cell by itself."
   ]
  },
  {
   "cell_type": "code",
   "execution_count": 3,
   "id": "bb6ad8a1",
   "metadata": {
    "execution": {
     "iopub.execute_input": "2022-08-14T20:09:54.190190Z",
     "iopub.status.busy": "2022-08-14T20:09:54.189576Z",
     "iopub.status.idle": "2022-08-14T20:09:55.885269Z",
     "shell.execute_reply": "2022-08-14T20:09:55.884634Z"
    },
    "papermill": {
     "duration": 1.724077,
     "end_time": "2022-08-14T20:09:55.885412",
     "exception": false,
     "start_time": "2022-08-14T20:09:54.161335",
     "status": "completed"
    },
    "tags": []
   },
   "outputs": [
    {
     "name": "stdout",
     "output_type": "stream",
     "text": [
      "Collecting mnist\r\n"
     ]
    },
    {
     "name": "stdout",
     "output_type": "stream",
     "text": [
      "  Downloading mnist-0.2.2-py2.py3-none-any.whl (3.5 kB)\r\n",
      "Requirement already satisfied: numpy in /opt/hostedtoolcache/Python/3.6.15/x64/lib/python3.6/site-packages (from mnist) (1.19.5)\r\n"
     ]
    },
    {
     "name": "stdout",
     "output_type": "stream",
     "text": [
      "Installing collected packages: mnist\r\n"
     ]
    },
    {
     "name": "stdout",
     "output_type": "stream",
     "text": [
      "Successfully installed mnist-0.2.2\r\n"
     ]
    }
   ],
   "source": [
    "!pip install mnist"
   ]
  },
  {
   "cell_type": "markdown",
   "id": "69df9c9a",
   "metadata": {
    "papermill": {
     "duration": 0.024616,
     "end_time": "2022-08-14T20:09:55.935805",
     "exception": false,
     "start_time": "2022-08-14T20:09:55.911189",
     "status": "completed"
    },
    "tags": []
   },
   "source": [
    "## Preparing the Data"
   ]
  },
  {
   "cell_type": "code",
   "execution_count": 4,
   "id": "7f69d806",
   "metadata": {
    "execution": {
     "iopub.execute_input": "2022-08-14T20:09:55.990358Z",
     "iopub.status.busy": "2022-08-14T20:09:55.989756Z",
     "iopub.status.idle": "2022-08-14T20:09:56.004465Z",
     "shell.execute_reply": "2022-08-14T20:09:56.003990Z"
    },
    "papermill": {
     "duration": 0.044158,
     "end_time": "2022-08-14T20:09:56.004577",
     "exception": false,
     "start_time": "2022-08-14T20:09:55.960419",
     "status": "completed"
    },
    "tags": []
   },
   "outputs": [],
   "source": [
    "import mnist"
   ]
  },
  {
   "cell_type": "code",
   "execution_count": 5,
   "id": "a411e44f",
   "metadata": {
    "execution": {
     "iopub.execute_input": "2022-08-14T20:09:56.057878Z",
     "iopub.status.busy": "2022-08-14T20:09:56.057258Z",
     "iopub.status.idle": "2022-08-14T20:09:56.648006Z",
     "shell.execute_reply": "2022-08-14T20:09:56.648514Z"
    },
    "papermill": {
     "duration": 0.619474,
     "end_time": "2022-08-14T20:09:56.648713",
     "exception": false,
     "start_time": "2022-08-14T20:09:56.029239",
     "status": "completed"
    },
    "tags": []
   },
   "outputs": [],
   "source": [
    "train_images = mnist.train_images()\n",
    "train_labels = mnist.train_labels()"
   ]
  },
  {
   "cell_type": "code",
   "execution_count": 6,
   "id": "dceab3a5",
   "metadata": {
    "execution": {
     "iopub.execute_input": "2022-08-14T20:09:56.710480Z",
     "iopub.status.busy": "2022-08-14T20:09:56.709064Z",
     "iopub.status.idle": "2022-08-14T20:09:56.722246Z",
     "shell.execute_reply": "2022-08-14T20:09:56.721767Z"
    },
    "papermill": {
     "duration": 0.048647,
     "end_time": "2022-08-14T20:09:56.722357",
     "exception": false,
     "start_time": "2022-08-14T20:09:56.673710",
     "status": "completed"
    },
    "tags": []
   },
   "outputs": [
    {
     "data": {
      "text/plain": [
       "((60000, 28, 28), (60000,))"
      ]
     },
     "execution_count": 6,
     "metadata": {},
     "output_type": "execute_result"
    }
   ],
   "source": [
    "train_images.shape, train_labels.shape"
   ]
  },
  {
   "cell_type": "code",
   "execution_count": 7,
   "id": "f50dc2bb",
   "metadata": {
    "execution": {
     "iopub.execute_input": "2022-08-14T20:09:56.776481Z",
     "iopub.status.busy": "2022-08-14T20:09:56.775921Z",
     "iopub.status.idle": "2022-08-14T20:09:56.969106Z",
     "shell.execute_reply": "2022-08-14T20:09:56.968481Z"
    },
    "papermill": {
     "duration": 0.221022,
     "end_time": "2022-08-14T20:09:56.969245",
     "exception": false,
     "start_time": "2022-08-14T20:09:56.748223",
     "status": "completed"
    },
    "tags": []
   },
   "outputs": [],
   "source": [
    "test_images = mnist.test_images()\n",
    "test_labels = mnist.test_labels()"
   ]
  },
  {
   "cell_type": "code",
   "execution_count": 8,
   "id": "fc38cf1b",
   "metadata": {
    "execution": {
     "iopub.execute_input": "2022-08-14T20:09:57.023725Z",
     "iopub.status.busy": "2022-08-14T20:09:57.023156Z",
     "iopub.status.idle": "2022-08-14T20:09:57.037636Z",
     "shell.execute_reply": "2022-08-14T20:09:57.037164Z"
    },
    "papermill": {
     "duration": 0.043021,
     "end_time": "2022-08-14T20:09:57.037775",
     "exception": false,
     "start_time": "2022-08-14T20:09:56.994754",
     "status": "completed"
    },
    "tags": []
   },
   "outputs": [
    {
     "data": {
      "text/plain": [
       "((10000, 28, 28), (10000,))"
      ]
     },
     "execution_count": 8,
     "metadata": {},
     "output_type": "execute_result"
    }
   ],
   "source": [
    "test_images.shape, test_labels.shape"
   ]
  },
  {
   "cell_type": "code",
   "execution_count": 9,
   "id": "f9ed8fe0",
   "metadata": {
    "execution": {
     "iopub.execute_input": "2022-08-14T20:09:57.092191Z",
     "iopub.status.busy": "2022-08-14T20:09:57.091608Z",
     "iopub.status.idle": "2022-08-14T20:09:57.231148Z",
     "shell.execute_reply": "2022-08-14T20:09:57.231602Z"
    },
    "papermill": {
     "duration": 0.168745,
     "end_time": "2022-08-14T20:09:57.231755",
     "exception": false,
     "start_time": "2022-08-14T20:09:57.063010",
     "status": "completed"
    },
    "tags": []
   },
   "outputs": [
    {
     "name": "stdout",
     "output_type": "stream",
     "text": [
      "2\n"
     ]
    },
    {
     "data": {
      "text/plain": [
       "<matplotlib.image.AxesImage at 0x7f3dec7325c0>"
      ]
     },
     "execution_count": 9,
     "metadata": {},
     "output_type": "execute_result"
    },
    {
     "data": {
      "image/png": "[encoded data removed]",
      "text/plain": [
       "<Figure size 432x288 with 1 Axes>"
      ]
     },
     "metadata": {
      "needs_background": "light"
     },
     "output_type": "display_data"
    }
   ],
   "source": [
    "image_index = 7776 # You may select anything up to 60,000\n",
    "print(train_labels[image_index]) \n",
    "plt.imshow(train_images[image_index], cmap='Greys')"
   ]
  },
  {
   "cell_type": "markdown",
   "id": "a8d2388d",
   "metadata": {
    "papermill": {
     "duration": 0.027943,
     "end_time": "2022-08-14T20:09:57.286255",
     "exception": false,
     "start_time": "2022-08-14T20:09:57.258312",
     "status": "completed"
    },
    "tags": []
   },
   "source": [
    "## Filter data to get 3 and 8 out"
   ]
  },
  {
   "cell_type": "code",
   "execution_count": 10,
   "id": "776f7fc7",
   "metadata": {
    "execution": {
     "iopub.execute_input": "2022-08-14T20:09:57.348025Z",
     "iopub.status.busy": "2022-08-14T20:09:57.347394Z",
     "iopub.status.idle": "2022-08-14T20:09:57.364358Z",
     "shell.execute_reply": "2022-08-14T20:09:57.363862Z"
    },
    "papermill": {
     "duration": 0.052165,
     "end_time": "2022-08-14T20:09:57.364482",
     "exception": false,
     "start_time": "2022-08-14T20:09:57.312317",
     "status": "completed"
    },
    "tags": []
   },
   "outputs": [],
   "source": [
    "train_filter = np.where((train_labels == 3 ) | (train_labels == 8))\n",
    "test_filter = np.where((test_labels == 3) | (test_labels == 8))\n",
    "X_train, y_train = train_images[train_filter], train_labels[train_filter]\n",
    "X_test, y_test = test_images[test_filter], test_labels[test_filter]"
   ]
  },
  {
   "cell_type": "markdown",
   "id": "948f0b7e",
   "metadata": {
    "papermill": {
     "duration": 0.027102,
     "end_time": "2022-08-14T20:09:57.418684",
     "exception": false,
     "start_time": "2022-08-14T20:09:57.391582",
     "status": "completed"
    },
    "tags": []
   },
   "source": [
    "We normalize the pizel values in the 0 to 1 range"
   ]
  },
  {
   "cell_type": "code",
   "execution_count": 11,
   "id": "ee4c2166",
   "metadata": {
    "execution": {
     "iopub.execute_input": "2022-08-14T20:09:57.488022Z",
     "iopub.status.busy": "2022-08-14T20:09:57.487433Z",
     "iopub.status.idle": "2022-08-14T20:09:57.529625Z",
     "shell.execute_reply": "2022-08-14T20:09:57.529025Z"
    },
    "papermill": {
     "duration": 0.085016,
     "end_time": "2022-08-14T20:09:57.529780",
     "exception": false,
     "start_time": "2022-08-14T20:09:57.444764",
     "status": "completed"
    },
    "tags": []
   },
   "outputs": [],
   "source": [
    "X_train = X_train/255.\n",
    "X_test = X_test/255."
   ]
  },
  {
   "cell_type": "markdown",
   "id": "ddcf4fab",
   "metadata": {
    "papermill": {
     "duration": 0.026796,
     "end_time": "2022-08-14T20:09:57.583307",
     "exception": false,
     "start_time": "2022-08-14T20:09:57.556511",
     "status": "completed"
    },
    "tags": []
   },
   "source": [
    "And setup the labels as 1 (when the digit is 3) and 0 (when the digit is 8)"
   ]
  },
  {
   "cell_type": "code",
   "execution_count": 12,
   "id": "7dc908f2",
   "metadata": {
    "execution": {
     "iopub.execute_input": "2022-08-14T20:09:57.642258Z",
     "iopub.status.busy": "2022-08-14T20:09:57.641641Z",
     "iopub.status.idle": "2022-08-14T20:09:57.654581Z",
     "shell.execute_reply": "2022-08-14T20:09:57.654098Z"
    },
    "papermill": {
     "duration": 0.045168,
     "end_time": "2022-08-14T20:09:57.654698",
     "exception": false,
     "start_time": "2022-08-14T20:09:57.609530",
     "status": "completed"
    },
    "tags": []
   },
   "outputs": [],
   "source": [
    "y_train = 1*(y_train==3)\n",
    "y_test = 1*(y_test==3)"
   ]
  },
  {
   "cell_type": "code",
   "execution_count": 13,
   "id": "01e4e969",
   "metadata": {
    "execution": {
     "iopub.execute_input": "2022-08-14T20:09:57.712361Z",
     "iopub.status.busy": "2022-08-14T20:09:57.711776Z",
     "iopub.status.idle": "2022-08-14T20:09:57.725818Z",
     "shell.execute_reply": "2022-08-14T20:09:57.726252Z"
    },
    "papermill": {
     "duration": 0.045218,
     "end_time": "2022-08-14T20:09:57.726395",
     "exception": false,
     "start_time": "2022-08-14T20:09:57.681177",
     "status": "completed"
    },
    "tags": []
   },
   "outputs": [
    {
     "data": {
      "text/plain": [
       "((11982, 28, 28), (1984, 28, 28))"
      ]
     },
     "execution_count": 13,
     "metadata": {},
     "output_type": "execute_result"
    }
   ],
   "source": [
    "X_train.shape, X_test.shape"
   ]
  },
  {
   "cell_type": "markdown",
   "id": "5ccf3f85",
   "metadata": {
    "papermill": {
     "duration": 0.026418,
     "end_time": "2022-08-14T20:09:57.780881",
     "exception": false,
     "start_time": "2022-08-14T20:09:57.754463",
     "status": "completed"
    },
    "tags": []
   },
   "source": [
    "We reshape the data to flatten the image pixels into a set of features or co-variates:"
   ]
  },
  {
   "cell_type": "code",
   "execution_count": 14,
   "id": "5286a4a3",
   "metadata": {
    "execution": {
     "iopub.execute_input": "2022-08-14T20:09:57.841981Z",
     "iopub.status.busy": "2022-08-14T20:09:57.841357Z",
     "iopub.status.idle": "2022-08-14T20:09:57.856332Z",
     "shell.execute_reply": "2022-08-14T20:09:57.855856Z"
    },
    "papermill": {
     "duration": 0.048033,
     "end_time": "2022-08-14T20:09:57.856448",
     "exception": false,
     "start_time": "2022-08-14T20:09:57.808415",
     "status": "completed"
    },
    "tags": []
   },
   "outputs": [
    {
     "data": {
      "text/plain": [
       "((11982, 784), (1984, 784))"
      ]
     },
     "execution_count": 14,
     "metadata": {},
     "output_type": "execute_result"
    }
   ],
   "source": [
    "X_train = X_train.reshape(X_train.shape[0], -1)\n",
    "X_test = X_test.reshape(X_test.shape[0], -1)\n",
    "X_train.shape, X_test.shape"
   ]
  },
  {
   "cell_type": "code",
   "execution_count": 15,
   "id": "73c5f88a",
   "metadata": {
    "execution": {
     "iopub.execute_input": "2022-08-14T20:09:57.917746Z",
     "iopub.status.busy": "2022-08-14T20:09:57.917127Z",
     "iopub.status.idle": "2022-08-14T20:09:57.934427Z",
     "shell.execute_reply": "2022-08-14T20:09:57.934899Z"
    },
    "papermill": {
     "duration": 0.051615,
     "end_time": "2022-08-14T20:09:57.935031",
     "exception": false,
     "start_time": "2022-08-14T20:09:57.883416",
     "status": "completed"
    },
    "tags": []
   },
   "outputs": [],
   "source": [
    "#Impoting functions from 'Kudzu'\n",
    "from kudzu.model import Model\n",
    "from kudzu.train import Learner\n",
    "from kudzu.optim import GD\n",
    "from kudzu.data import Data, Sampler,Dataloader\n",
    "\n",
    "from kudzu.callbacks import AccCallback\n",
    "from kudzu.callbacks import ClfCallback\n",
    "\n",
    "from kudzu.loss import MSE\n",
    "\n",
    "from kudzu.layer import Sigmoid,Relu\n",
    "from kudzu.layer import Affine"
   ]
  },
  {
   "cell_type": "markdown",
   "id": "bc01172a",
   "metadata": {
    "papermill": {
     "duration": 0.029406,
     "end_time": "2022-08-14T20:09:57.991302",
     "exception": false,
     "start_time": "2022-08-14T20:09:57.961896",
     "status": "completed"
    },
    "tags": []
   },
   "source": [
    "### Let us create a `Config` class, to store important parameters. \n",
    "This class essentially plays the role of a dictionary."
   ]
  },
  {
   "cell_type": "code",
   "execution_count": 16,
   "id": "978281aa",
   "metadata": {
    "execution": {
     "iopub.execute_input": "2022-08-14T20:09:58.049930Z",
     "iopub.status.busy": "2022-08-14T20:09:58.049282Z",
     "iopub.status.idle": "2022-08-14T20:09:58.061898Z",
     "shell.execute_reply": "2022-08-14T20:09:58.061401Z"
    },
    "papermill": {
     "duration": 0.043922,
     "end_time": "2022-08-14T20:09:58.062015",
     "exception": false,
     "start_time": "2022-08-14T20:09:58.018093",
     "status": "completed"
    },
    "tags": []
   },
   "outputs": [],
   "source": [
    "class Config:\n",
    "    pass\n",
    "config = Config()\n",
    "config.lr = 0.001\n",
    "config.num_epochs = 250\n",
    "config.bs = 50"
   ]
  },
  {
   "cell_type": "markdown",
   "id": "1385fa59",
   "metadata": {
    "papermill": {
     "duration": 0.02711,
     "end_time": "2022-08-14T20:09:58.115925",
     "exception": false,
     "start_time": "2022-08-14T20:09:58.088815",
     "status": "completed"
    },
    "tags": []
   },
   "source": [
    "### Running Models with the Training data\n",
    "Details about the network layers:\n",
    "- A first affine layer has 784 inputs and does 100 affine transforms. These are followed by a Relu\n",
    "- A second affine layer has 100 inputs from the 100 activations of the past layer, and does 100 affine transforms. These are followed by a Relu\n",
    "- A third affine layer has 100 activations and does 2 affine transformations to create an embedding for visualization. There is no non-linearity here.\n",
    "- A final \"logistic regression\" which has an affine transform from 2 inputs to 1 output, which is squeezed through a sigmoid.\n"
   ]
  },
  {
   "cell_type": "code",
   "execution_count": 17,
   "id": "2b9c66db",
   "metadata": {
    "execution": {
     "iopub.execute_input": "2022-08-14T20:09:58.174171Z",
     "iopub.status.busy": "2022-08-14T20:09:58.173551Z",
     "iopub.status.idle": "2022-08-14T20:09:58.187466Z",
     "shell.execute_reply": "2022-08-14T20:09:58.186993Z"
    },
    "papermill": {
     "duration": 0.044831,
     "end_time": "2022-08-14T20:09:58.187578",
     "exception": false,
     "start_time": "2022-08-14T20:09:58.142747",
     "status": "completed"
    },
    "tags": []
   },
   "outputs": [],
   "source": [
    "data = Data(X_train, y_train.reshape(-1,1))\n",
    "sampler = Sampler(data, config.bs, shuffle=True)\n",
    "\n",
    "dl = Dataloader(data, sampler)\n",
    "\n",
    "opt = GD(config.lr)\n",
    "loss = MSE()"
   ]
  },
  {
   "cell_type": "code",
   "execution_count": 18,
   "id": "b275e4c2",
   "metadata": {
    "execution": {
     "iopub.execute_input": "2022-08-14T20:09:58.246293Z",
     "iopub.status.busy": "2022-08-14T20:09:58.245671Z",
     "iopub.status.idle": "2022-08-14T20:09:58.259086Z",
     "shell.execute_reply": "2022-08-14T20:09:58.259553Z"
    },
    "papermill": {
     "duration": 0.045208,
     "end_time": "2022-08-14T20:09:58.259691",
     "exception": false,
     "start_time": "2022-08-14T20:09:58.214483",
     "status": "completed"
    },
    "tags": []
   },
   "outputs": [],
   "source": [
    "training_data_x = X_train\n",
    "testing_data_x = X_test\n",
    "training_data_y = y_train.reshape(-1,1)\n",
    "testing_data_y = y_test.reshape(-1,1)"
   ]
  },
  {
   "cell_type": "code",
   "execution_count": 19,
   "id": "76951160",
   "metadata": {
    "execution": {
     "iopub.execute_input": "2022-08-14T20:09:58.326515Z",
     "iopub.status.busy": "2022-08-14T20:09:58.324027Z",
     "iopub.status.idle": "2022-08-14T20:09:58.337082Z",
     "shell.execute_reply": "2022-08-14T20:09:58.336517Z"
    },
    "papermill": {
     "duration": 0.050447,
     "end_time": "2022-08-14T20:09:58.337199",
     "exception": false,
     "start_time": "2022-08-14T20:09:58.286752",
     "status": "completed"
    },
    "tags": []
   },
   "outputs": [
    {
     "name": "stdout",
     "output_type": "stream",
     "text": [
      "xavier\n",
      "xavier\n",
      "xavier\n",
      "xavier\n",
      "xavier\n"
     ]
    }
   ],
   "source": [
    "layers = [Affine(\"first\", 784, 100), Relu(\"first\"), Affine(\"second\", 100, 100), Relu(\"second\"), Affine(\"third\", 100, 2), Affine(\"last\", 2, 1), Sigmoid(\"last\")]\n",
    "model_nn = Model(layers)\n",
    "model_lr = Model([Affine(\"logits\", 784, 1), Sigmoid(\"sigmoid\")])"
   ]
  },
  {
   "cell_type": "code",
   "execution_count": 20,
   "id": "6eede77a",
   "metadata": {
    "execution": {
     "iopub.execute_input": "2022-08-14T20:09:58.402846Z",
     "iopub.status.busy": "2022-08-14T20:09:58.395642Z",
     "iopub.status.idle": "2022-08-14T20:09:58.410170Z",
     "shell.execute_reply": "2022-08-14T20:09:58.409067Z"
    },
    "papermill": {
     "duration": 0.046002,
     "end_time": "2022-08-14T20:09:58.410285",
     "exception": false,
     "start_time": "2022-08-14T20:09:58.364283",
     "status": "completed"
    },
    "tags": []
   },
   "outputs": [],
   "source": [
    "nn_learner = Learner(loss, model_nn, opt, config.num_epochs)\n",
    "acc_nn = ClfCallback(nn_learner, config.bs, training_data_x , testing_data_x, training_data_y, testing_data_y)\n",
    "nn_learner.set_callbacks([acc_nn])"
   ]
  },
  {
   "cell_type": "code",
   "execution_count": 21,
   "id": "877b6cc7",
   "metadata": {
    "execution": {
     "iopub.execute_input": "2022-08-14T20:09:58.481241Z",
     "iopub.status.busy": "2022-08-14T20:09:58.478581Z",
     "iopub.status.idle": "2022-08-14T20:09:58.484056Z",
     "shell.execute_reply": "2022-08-14T20:09:58.483582Z"
    },
    "papermill": {
     "duration": 0.046779,
     "end_time": "2022-08-14T20:09:58.484169",
     "exception": false,
     "start_time": "2022-08-14T20:09:58.437390",
     "status": "completed"
    },
    "tags": []
   },
   "outputs": [],
   "source": [
    "lr_learner = Learner(loss, model_lr, opt, config.num_epochs)\n",
    "acc_lr = ClfCallback(lr_learner, config.bs, training_data_x , testing_data_x, training_data_y, testing_data_y)\n",
    "lr_learner.set_callbacks([acc_lr])"
   ]
  },
  {
   "cell_type": "code",
   "execution_count": 22,
   "id": "d9b133c3",
   "metadata": {
    "execution": {
     "iopub.execute_input": "2022-08-14T20:09:58.542150Z",
     "iopub.status.busy": "2022-08-14T20:09:58.541528Z",
     "iopub.status.idle": "2022-08-14T20:11:15.747077Z",
     "shell.execute_reply": "2022-08-14T20:11:15.747927Z"
    },
    "papermill": {
     "duration": 77.236753,
     "end_time": "2022-08-14T20:11:15.748086",
     "exception": false,
     "start_time": "2022-08-14T20:09:58.511333",
     "status": "completed"
    },
    "tags": []
   },
   "outputs": [
    {
     "name": "stdout",
     "output_type": "stream",
     "text": [
      "Epoch 0, Loss 0.2452\n",
      "Training Accuracy: 0.6834, Testing Accuracy: 0.7117\n",
      "\n"
     ]
    },
    {
     "name": "stdout",
     "output_type": "stream",
     "text": [
      "Epoch 10, Loss 0.2139\n",
      "Training Accuracy: 0.8706, Testing Accuracy: 0.8775\n",
      "\n"
     ]
    },
    {
     "name": "stdout",
     "output_type": "stream",
     "text": [
      "Epoch 20, Loss 0.1173\n",
      "Training Accuracy: 0.9051, Testing Accuracy: 0.9158\n",
      "\n"
     ]
    },
    {
     "name": "stdout",
     "output_type": "stream",
     "text": [
      "Epoch 30, Loss 0.0678\n",
      "Training Accuracy: 0.9285, Testing Accuracy: 0.9425\n",
      "\n"
     ]
    },
    {
     "name": "stdout",
     "output_type": "stream",
     "text": [
      "Epoch 40, Loss 0.0509\n",
      "Training Accuracy: 0.9441, Testing Accuracy: 0.9536\n",
      "\n"
     ]
    },
    {
     "name": "stdout",
     "output_type": "stream",
     "text": [
      "Epoch 50, Loss 0.0428\n",
      "Training Accuracy: 0.9515, Testing Accuracy: 0.9597\n",
      "\n"
     ]
    },
    {
     "name": "stdout",
     "output_type": "stream",
     "text": [
      "Epoch 60, Loss 0.0381\n",
      "Training Accuracy: 0.9556, Testing Accuracy: 0.9612\n",
      "\n"
     ]
    },
    {
     "name": "stdout",
     "output_type": "stream",
     "text": [
      "Epoch 70, Loss 0.0351\n",
      "Training Accuracy: 0.9583, Testing Accuracy: 0.9642\n",
      "\n"
     ]
    },
    {
     "name": "stdout",
     "output_type": "stream",
     "text": [
      "Epoch 80, Loss 0.0328\n",
      "Training Accuracy: 0.9607, Testing Accuracy: 0.9693\n",
      "\n"
     ]
    },
    {
     "name": "stdout",
     "output_type": "stream",
     "text": [
      "Epoch 90, Loss 0.031\n",
      "Training Accuracy: 0.9629, Testing Accuracy: 0.9708\n",
      "\n"
     ]
    },
    {
     "name": "stdout",
     "output_type": "stream",
     "text": [
      "Epoch 100, Loss 0.0296\n",
      "Training Accuracy: 0.9645, Testing Accuracy: 0.9723\n",
      "\n"
     ]
    },
    {
     "name": "stdout",
     "output_type": "stream",
     "text": [
      "Epoch 110, Loss 0.0283\n",
      "Training Accuracy: 0.9665, Testing Accuracy: 0.9718\n",
      "\n"
     ]
    },
    {
     "name": "stdout",
     "output_type": "stream",
     "text": [
      "Epoch 120, Loss 0.0273\n",
      "Training Accuracy: 0.9672, Testing Accuracy: 0.9723\n",
      "\n"
     ]
    },
    {
     "name": "stdout",
     "output_type": "stream",
     "text": [
      "Epoch 130, Loss 0.0264\n",
      "Training Accuracy: 0.9686, Testing Accuracy: 0.9723\n",
      "\n"
     ]
    },
    {
     "name": "stdout",
     "output_type": "stream",
     "text": [
      "Epoch 140, Loss 0.0255\n",
      "Training Accuracy: 0.9696, Testing Accuracy: 0.9723\n",
      "\n"
     ]
    },
    {
     "name": "stdout",
     "output_type": "stream",
     "text": [
      "Epoch 150, Loss 0.0248\n",
      "Training Accuracy: 0.9704, Testing Accuracy: 0.9723\n",
      "\n"
     ]
    },
    {
     "name": "stdout",
     "output_type": "stream",
     "text": [
      "Epoch 160, Loss 0.0241\n",
      "Training Accuracy: 0.9708, Testing Accuracy: 0.9728\n",
      "\n"
     ]
    },
    {
     "name": "stdout",
     "output_type": "stream",
     "text": [
      "Epoch 170, Loss 0.0235\n",
      "Training Accuracy: 0.9715, Testing Accuracy: 0.9713\n",
      "\n"
     ]
    },
    {
     "name": "stdout",
     "output_type": "stream",
     "text": [
      "Epoch 180, Loss 0.0229\n",
      "Training Accuracy: 0.9720, Testing Accuracy: 0.9718\n",
      "\n"
     ]
    },
    {
     "name": "stdout",
     "output_type": "stream",
     "text": [
      "Epoch 190, Loss 0.0224\n",
      "Training Accuracy: 0.9730, Testing Accuracy: 0.9733\n",
      "\n"
     ]
    },
    {
     "name": "stdout",
     "output_type": "stream",
     "text": [
      "Epoch 200, Loss 0.0219\n",
      "Training Accuracy: 0.9741, Testing Accuracy: 0.9733\n",
      "\n"
     ]
    },
    {
     "name": "stdout",
     "output_type": "stream",
     "text": [
      "Epoch 210, Loss 0.0214\n",
      "Training Accuracy: 0.9745, Testing Accuracy: 0.9743\n",
      "\n"
     ]
    },
    {
     "name": "stdout",
     "output_type": "stream",
     "text": [
      "Epoch 220, Loss 0.0209\n",
      "Training Accuracy: 0.9752, Testing Accuracy: 0.9748\n",
      "\n"
     ]
    },
    {
     "name": "stdout",
     "output_type": "stream",
     "text": [
      "Epoch 230, Loss 0.0205\n",
      "Training Accuracy: 0.9759, Testing Accuracy: 0.9748\n",
      "\n"
     ]
    },
    {
     "name": "stdout",
     "output_type": "stream",
     "text": [
      "Epoch 240, Loss 0.0201\n",
      "Training Accuracy: 0.9765, Testing Accuracy: 0.9753\n",
      "\n"
     ]
    },
    {
     "data": {
      "text/plain": [
       "0.013447559374977934"
      ]
     },
     "execution_count": 22,
     "metadata": {},
     "output_type": "execute_result"
    }
   ],
   "source": [
    "nn_learner.train_loop(dl)"
   ]
  },
  {
   "cell_type": "code",
   "execution_count": 23,
   "id": "e0163366",
   "metadata": {
    "execution": {
     "iopub.execute_input": "2022-08-14T20:11:15.831409Z",
     "iopub.status.busy": "2022-08-14T20:11:15.830790Z",
     "iopub.status.idle": "2022-08-14T20:11:29.700338Z",
     "shell.execute_reply": "2022-08-14T20:11:29.701193Z"
    },
    "papermill": {
     "duration": 13.918302,
     "end_time": "2022-08-14T20:11:29.701354",
     "exception": false,
     "start_time": "2022-08-14T20:11:15.783052",
     "status": "completed"
    },
    "tags": []
   },
   "outputs": [
    {
     "name": "stdout",
     "output_type": "stream",
     "text": [
      "Epoch 0, Loss 0.2385\n",
      "Training Accuracy: 0.6977, Testing Accuracy: 0.7288\n",
      "\n"
     ]
    },
    {
     "name": "stdout",
     "output_type": "stream",
     "text": [
      "Epoch 10, Loss 0.1036\n",
      "Training Accuracy: 0.9099, Testing Accuracy: 0.9199\n",
      "\n"
     ]
    },
    {
     "name": "stdout",
     "output_type": "stream",
     "text": [
      "Epoch 20, Loss 0.0797\n",
      "Training Accuracy: 0.9269, Testing Accuracy: 0.9345\n",
      "\n"
     ]
    },
    {
     "name": "stdout",
     "output_type": "stream",
     "text": [
      "Epoch 30, Loss 0.0687\n",
      "Training Accuracy: 0.9352, Testing Accuracy: 0.9446\n",
      "\n"
     ]
    },
    {
     "name": "stdout",
     "output_type": "stream",
     "text": [
      "Epoch 40, Loss 0.062\n",
      "Training Accuracy: 0.9402, Testing Accuracy: 0.9491\n",
      "\n"
     ]
    },
    {
     "name": "stdout",
     "output_type": "stream",
     "text": [
      "Epoch 50, Loss 0.0575\n",
      "Training Accuracy: 0.9432, Testing Accuracy: 0.9506\n",
      "\n"
     ]
    },
    {
     "name": "stdout",
     "output_type": "stream",
     "text": [
      "Epoch 60, Loss 0.0542\n",
      "Training Accuracy: 0.9458, Testing Accuracy: 0.9531\n",
      "\n"
     ]
    },
    {
     "name": "stdout",
     "output_type": "stream",
     "text": [
      "Epoch 70, Loss 0.0517\n",
      "Training Accuracy: 0.9480, Testing Accuracy: 0.9561\n",
      "\n"
     ]
    },
    {
     "name": "stdout",
     "output_type": "stream",
     "text": [
      "Epoch 80, Loss 0.0496\n",
      "Training Accuracy: 0.9493, Testing Accuracy: 0.9592\n",
      "\n"
     ]
    },
    {
     "name": "stdout",
     "output_type": "stream",
     "text": [
      "Epoch 90, Loss 0.0479\n",
      "Training Accuracy: 0.9501, Testing Accuracy: 0.9592\n",
      "\n"
     ]
    },
    {
     "name": "stdout",
     "output_type": "stream",
     "text": [
      "Epoch 100, Loss 0.0464\n",
      "Training Accuracy: 0.9512, Testing Accuracy: 0.9602\n",
      "\n"
     ]
    },
    {
     "name": "stdout",
     "output_type": "stream",
     "text": [
      "Epoch 110, Loss 0.0452\n",
      "Training Accuracy: 0.9520, Testing Accuracy: 0.9617\n",
      "\n"
     ]
    },
    {
     "name": "stdout",
     "output_type": "stream",
     "text": [
      "Epoch 120, Loss 0.0441\n",
      "Training Accuracy: 0.9542, Testing Accuracy: 0.9617\n",
      "\n"
     ]
    },
    {
     "name": "stdout",
     "output_type": "stream",
     "text": [
      "Epoch 130, Loss 0.0432\n",
      "Training Accuracy: 0.9548, Testing Accuracy: 0.9617\n",
      "\n"
     ]
    },
    {
     "name": "stdout",
     "output_type": "stream",
     "text": [
      "Epoch 140, Loss 0.0423\n",
      "Training Accuracy: 0.9559, Testing Accuracy: 0.9632\n",
      "\n"
     ]
    },
    {
     "name": "stdout",
     "output_type": "stream",
     "text": [
      "Epoch 150, Loss 0.0416\n",
      "Training Accuracy: 0.9564, Testing Accuracy: 0.9637\n",
      "\n"
     ]
    },
    {
     "name": "stdout",
     "output_type": "stream",
     "text": [
      "Epoch 160, Loss 0.0409\n",
      "Training Accuracy: 0.9564, Testing Accuracy: 0.9642\n",
      "\n"
     ]
    },
    {
     "name": "stdout",
     "output_type": "stream",
     "text": [
      "Epoch 170, Loss 0.0403\n",
      "Training Accuracy: 0.9568, Testing Accuracy: 0.9642\n",
      "\n"
     ]
    },
    {
     "name": "stdout",
     "output_type": "stream",
     "text": [
      "Epoch 180, Loss 0.0397\n",
      "Training Accuracy: 0.9575, Testing Accuracy: 0.9652\n",
      "\n"
     ]
    },
    {
     "name": "stdout",
     "output_type": "stream",
     "text": [
      "Epoch 190, Loss 0.0392\n",
      "Training Accuracy: 0.9583, Testing Accuracy: 0.9652\n",
      "\n"
     ]
    },
    {
     "name": "stdout",
     "output_type": "stream",
     "text": [
      "Epoch 200, Loss 0.0387\n",
      "Training Accuracy: 0.9586, Testing Accuracy: 0.9647\n",
      "\n"
     ]
    },
    {
     "name": "stdout",
     "output_type": "stream",
     "text": [
      "Epoch 210, Loss 0.0382\n",
      "Training Accuracy: 0.9587, Testing Accuracy: 0.9652\n",
      "\n"
     ]
    },
    {
     "name": "stdout",
     "output_type": "stream",
     "text": [
      "Epoch 220, Loss 0.0378\n",
      "Training Accuracy: 0.9590, Testing Accuracy: 0.9657\n",
      "\n"
     ]
    },
    {
     "name": "stdout",
     "output_type": "stream",
     "text": [
      "Epoch 230, Loss 0.0374\n",
      "Training Accuracy: 0.9598, Testing Accuracy: 0.9662\n",
      "\n"
     ]
    },
    {
     "name": "stdout",
     "output_type": "stream",
     "text": [
      "Epoch 240, Loss 0.037\n",
      "Training Accuracy: 0.9599, Testing Accuracy: 0.9677\n",
      "\n"
     ]
    },
    {
     "data": {
      "text/plain": [
       "0.023786547270706386"
      ]
     },
     "execution_count": 23,
     "metadata": {},
     "output_type": "execute_result"
    }
   ],
   "source": [
    "lr_learner.train_loop(dl)"
   ]
  },
  {
   "cell_type": "code",
   "execution_count": 24,
   "id": "ca410940",
   "metadata": {
    "execution": {
     "iopub.execute_input": "2022-08-14T20:11:29.798822Z",
     "iopub.status.busy": "2022-08-14T20:11:29.798148Z",
     "iopub.status.idle": "2022-08-14T20:11:30.023897Z",
     "shell.execute_reply": "2022-08-14T20:11:30.023400Z"
    },
    "papermill": {
     "duration": 0.281332,
     "end_time": "2022-08-14T20:11:30.024022",
     "exception": false,
     "start_time": "2022-08-14T20:11:29.742690",
     "status": "completed"
    },
    "tags": []
   },
   "outputs": [
    {
     "data": {
      "text/plain": [
       "<matplotlib.legend.Legend at 0x7f3dec292cc0>"
      ]
     },
     "execution_count": 24,
     "metadata": {},
     "output_type": "execute_result"
    },
    {
     "data": {
      "image/png": "[encoded data removed]",
      "text/plain": [
       "<Figure size 1080x720 with 1 Axes>"
      ]
     },
     "metadata": {
      "needs_background": "light"
     },
     "output_type": "display_data"
    }
   ],
   "source": [
    "#comparing the results of NN and LR\n",
    "plt.figure(figsize=(15,10))\n",
    "\n",
    "# Neural Network plots\n",
    "plt.plot(acc_nn.accuracies, 'r-', label = \"Training Accuracies - NN\")\n",
    "plt.plot(acc_nn.test_accuracies, 'g-', label = \"Testing Accuracies - NN\")\n",
    "\n",
    "# Logistic Regression plots\n",
    "plt.plot(acc_lr.accuracies, 'k-', label = \"Training Accuracies - LR\")\n",
    "plt.plot(acc_lr.test_accuracies, 'b-', label = \"Testing Accuracies - LR\")\n",
    "plt.legend()"
   ]
  },
  {
   "cell_type": "markdown",
   "id": "80dfb35c",
   "metadata": {
    "papermill": {
     "duration": 0.042444,
     "end_time": "2022-08-14T20:11:30.108710",
     "exception": false,
     "start_time": "2022-08-14T20:11:30.066266",
     "status": "completed"
    },
    "tags": []
   },
   "source": [
    "#### Plotting the outputs of this layer of the NN.\n"
   ]
  },
  {
   "cell_type": "code",
   "execution_count": 25,
   "id": "45eb2ff5",
   "metadata": {
    "execution": {
     "iopub.execute_input": "2022-08-14T20:11:30.197067Z",
     "iopub.status.busy": "2022-08-14T20:11:30.196351Z",
     "iopub.status.idle": "2022-08-14T20:11:30.219999Z",
     "shell.execute_reply": "2022-08-14T20:11:30.218917Z"
    },
    "papermill": {
     "duration": 0.069499,
     "end_time": "2022-08-14T20:11:30.220136",
     "exception": false,
     "start_time": "2022-08-14T20:11:30.150637",
     "status": "completed"
    },
    "tags": []
   },
   "outputs": [],
   "source": [
    "new_model = Model(layers[:-2])\n",
    "testing_plot = new_model(testing_data_x)"
   ]
  },
  {
   "cell_type": "code",
   "execution_count": 26,
   "id": "4c0a5485",
   "metadata": {
    "execution": {
     "iopub.execute_input": "2022-08-14T20:11:30.320005Z",
     "iopub.status.busy": "2022-08-14T20:11:30.319383Z",
     "iopub.status.idle": "2022-08-14T20:11:30.520220Z",
     "shell.execute_reply": "2022-08-14T20:11:30.520655Z"
    },
    "papermill": {
     "duration": 0.256582,
     "end_time": "2022-08-14T20:11:30.520811",
     "exception": false,
     "start_time": "2022-08-14T20:11:30.264229",
     "status": "completed"
    },
    "tags": []
   },
   "outputs": [
    {
     "data": {
      "text/plain": [
       "Text(0.5, 1.0, 'Outputs')"
      ]
     },
     "execution_count": 26,
     "metadata": {},
     "output_type": "execute_result"
    },
    {
     "data": {
      "image/png": "[encoded data removed]",
      "text/plain": [
       "<Figure size 576x504 with 1 Axes>"
      ]
     },
     "metadata": {
      "needs_background": "light"
     },
     "output_type": "display_data"
    }
   ],
   "source": [
    "# Plotting the scatter plot of points and color coding by class\n",
    "plt.figure(figsize=(8,7))\n",
    "plt.scatter(testing_plot[:,0], testing_plot[:,1], alpha = 0.1, c = y_test.ravel());\n",
    "plt.title('Outputs')"
   ]
  },
  {
   "cell_type": "markdown",
   "id": "a74fcf8f",
   "metadata": {
    "papermill": {
     "duration": 0.04418,
     "end_time": "2022-08-14T20:11:30.609504",
     "exception": false,
     "start_time": "2022-08-14T20:11:30.565324",
     "status": "completed"
    },
    "tags": []
   },
   "source": [
    "Probability contours"
   ]
  },
  {
   "cell_type": "code",
   "execution_count": 27,
   "id": "d0afc8e3",
   "metadata": {
    "execution": {
     "iopub.execute_input": "2022-08-14T20:11:30.735979Z",
     "iopub.status.busy": "2022-08-14T20:11:30.735396Z",
     "iopub.status.idle": "2022-08-14T20:11:30.747727Z",
     "shell.execute_reply": "2022-08-14T20:11:30.748289Z"
    },
    "papermill": {
     "duration": 0.094454,
     "end_time": "2022-08-14T20:11:30.748428",
     "exception": false,
     "start_time": "2022-08-14T20:11:30.653974",
     "status": "completed"
    },
    "tags": []
   },
   "outputs": [],
   "source": [
    "model_prob = Model(layers[-2:]) "
   ]
  },
  {
   "cell_type": "code",
   "execution_count": 28,
   "id": "9b96e238",
   "metadata": {
    "execution": {
     "iopub.execute_input": "2022-08-14T20:11:30.844426Z",
     "iopub.status.busy": "2022-08-14T20:11:30.843817Z",
     "iopub.status.idle": "2022-08-14T20:11:30.858525Z",
     "shell.execute_reply": "2022-08-14T20:11:30.858968Z"
    },
    "papermill": {
     "duration": 0.065458,
     "end_time": "2022-08-14T20:11:30.859119",
     "exception": false,
     "start_time": "2022-08-14T20:11:30.793661",
     "status": "completed"
    },
    "tags": []
   },
   "outputs": [],
   "source": [
    "#creating the x and y ranges according to the above generated plot.\n",
    "x_range = np.linspace(-4, 1, 100) \n",
    "y_range = np.linspace(-6, 6, 100) \n",
    "x_grid, y_grid = np.meshgrid(x_range, y_range) # x_grid and y_grig are of size 100 X 100\n",
    "\n",
    "# converting x_grid and y_grid to continuous arrays\n",
    "x_gridflat = np.ravel(x_grid)\n",
    "y_gridflat = np.ravel(y_grid)\n",
    "\n",
    "# The last layer of the current model takes two columns as input. Hence transpose of np.vstack() is required.\n",
    "X = np.vstack((x_gridflat, y_gridflat)).T\n",
    "\n",
    "prob_contour = model_prob(X).reshape(100,100) "
   ]
  },
  {
   "cell_type": "code",
   "execution_count": 29,
   "id": "da72499a",
   "metadata": {
    "execution": {
     "iopub.execute_input": "2022-08-14T20:11:30.959051Z",
     "iopub.status.busy": "2022-08-14T20:11:30.958439Z",
     "iopub.status.idle": "2022-08-14T20:11:31.212623Z",
     "shell.execute_reply": "2022-08-14T20:11:31.212118Z"
    },
    "papermill": {
     "duration": 0.308696,
     "end_time": "2022-08-14T20:11:31.212748",
     "exception": false,
     "start_time": "2022-08-14T20:11:30.904052",
     "status": "completed"
    },
    "tags": []
   },
   "outputs": [
    {
     "data": {
      "image/png": "[encoded data removed]",
      "text/plain": [
       "<Figure size 720x648 with 1 Axes>"
      ]
     },
     "metadata": {
      "needs_background": "light"
     },
     "output_type": "display_data"
    }
   ],
   "source": [
    "plt.figure(figsize=(10,9))\n",
    "plt.scatter(testing_plot[:,0], testing_plot[:,1], alpha = 0.1, c = y_test.ravel())\n",
    "contours = plt.contour(x_grid,y_grid,prob_contour)\n",
    "plt.title('Probability Contours')\n",
    "plt.clabel(contours, inline = True );"
   ]
  },
  {
   "cell_type": "code",
   "execution_count": null,
   "id": "e81b4ac7",
   "metadata": {
    "papermill": {
     "duration": 0.046898,
     "end_time": "2022-08-14T20:11:31.307303",
     "exception": false,
     "start_time": "2022-08-14T20:11:31.260405",
     "status": "completed"
    },
    "tags": []
   },
   "outputs": [],
   "source": []
  }
 ],
 "metadata": {
  "kernelspec": {
   "display_name": "Python 3",
   "language": "python",
   "name": "python3"
  },
  "language_info": {
   "codemirror_mode": {
    "name": "ipython",
    "version": 3
   },
   "file_extension": ".py",
   "mimetype": "text/x-python",
   "name": "python",
   "nbconvert_exporter": "python",
   "pygments_lexer": "ipython3",
   "version": "3.6.15"
  },
  "papermill": {
   "default_parameters": {},
   "duration": 99.372967,
   "end_time": "2022-08-14T20:11:31.774049",
   "environment_variables": {},
   "exception": null,
   "input_path": "2020-08-11-part2.ipynb",
   "output_path": "2020-08-11-part2.ipynb",
   "parameters": {},
   "start_time": "2022-08-14T20:09:52.401082",
   "version": "2.3.3"
  }
 },
 "nbformat": 4,
 "nbformat_minor": 5
}