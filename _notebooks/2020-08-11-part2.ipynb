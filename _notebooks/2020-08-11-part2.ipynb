{
 "cells": [
  {
   "cell_type": "markdown",
   "id": "98380cd3",
   "metadata": {
    "papermill": {
     "duration": 0.02847,
     "end_time": "2021-10-19T00:21:53.795304",
     "exception": false,
     "start_time": "2021-10-19T00:21:53.766834",
     "status": "completed"
    },
    "tags": []
   },
   "source": [
    "# Distinguish Your Own Digits (DYOD)"
   ]
  },
  {
   "cell_type": "markdown",
   "id": "ef31240d",
   "metadata": {
    "papermill": {
     "duration": 0.023805,
     "end_time": "2021-10-19T00:21:53.843721",
     "exception": false,
     "start_time": "2021-10-19T00:21:53.819916",
     "status": "completed"
    },
    "tags": []
   },
   "source": [
    "You are going to write a classifier that distinguishes between the number 3 and number 8."
   ]
  },
  {
   "cell_type": "code",
   "execution_count": 1,
   "id": "b15c8646",
   "metadata": {
    "execution": {
     "iopub.execute_input": "2021-10-19T00:21:53.903011Z",
     "iopub.status.busy": "2021-10-19T00:21:53.902475Z",
     "iopub.status.idle": "2021-10-19T00:21:53.912795Z",
     "shell.execute_reply": "2021-10-19T00:21:53.912338Z"
    },
    "papermill": {
     "duration": 0.045419,
     "end_time": "2021-10-19T00:21:53.912924",
     "exception": false,
     "start_time": "2021-10-19T00:21:53.867505",
     "status": "completed"
    },
    "tags": []
   },
   "outputs": [],
   "source": [
    "%load_ext autoreload\n",
    "%autoreload 2"
   ]
  },
  {
   "cell_type": "code",
   "execution_count": 2,
   "id": "22ef38dc",
   "metadata": {
    "execution": {
     "iopub.execute_input": "2021-10-19T00:21:53.973405Z",
     "iopub.status.busy": "2021-10-19T00:21:53.970873Z",
     "iopub.status.idle": "2021-10-19T00:21:54.484557Z",
     "shell.execute_reply": "2021-10-19T00:21:54.483951Z"
    },
    "papermill": {
     "duration": 0.547623,
     "end_time": "2021-10-19T00:21:54.484707",
     "exception": false,
     "start_time": "2021-10-19T00:21:53.937084",
     "status": "completed"
    },
    "tags": []
   },
   "outputs": [],
   "source": [
    "%matplotlib inline\n",
    "import numpy as np\n",
    "import matplotlib.pyplot as plt\n",
    "import pandas as pd"
   ]
  },
  {
   "cell_type": "markdown",
   "id": "ba036198",
   "metadata": {
    "papermill": {
     "duration": 0.024264,
     "end_time": "2021-10-19T00:21:54.533165",
     "exception": false,
     "start_time": "2021-10-19T00:21:54.508901",
     "status": "completed"
    },
    "tags": []
   },
   "source": [
    "From the command line run `pip install mnist`. This is a library that will help you bring down the mnist dataset. If you run this from a notebook, you need to put  `!pip install mnist` in a cell by itself."
   ]
  },
  {
   "cell_type": "code",
   "execution_count": 3,
   "id": "bb6ad8a1",
   "metadata": {
    "execution": {
     "iopub.execute_input": "2021-10-19T00:21:54.605100Z",
     "iopub.status.busy": "2021-10-19T00:21:54.599926Z",
     "iopub.status.idle": "2021-10-19T00:21:57.058627Z",
     "shell.execute_reply": "2021-10-19T00:21:57.059123Z"
    },
    "papermill": {
     "duration": 2.50201,
     "end_time": "2021-10-19T00:21:57.059293",
     "exception": false,
     "start_time": "2021-10-19T00:21:54.557283",
     "status": "completed"
    },
    "tags": []
   },
   "outputs": [
    {
     "name": "stdout",
     "output_type": "stream",
     "text": [
      "Collecting mnist\r\n"
     ]
    },
    {
     "name": "stdout",
     "output_type": "stream",
     "text": [
      "  Downloading mnist-0.2.2-py2.py3-none-any.whl (3.5 kB)\r\n",
      "Requirement already satisfied: numpy in /opt/hostedtoolcache/Python/3.6.15/x64/lib/python3.6/site-packages (from mnist) (1.19.5)\r\n"
     ]
    },
    {
     "name": "stdout",
     "output_type": "stream",
     "text": [
      "Installing collected packages: mnist\r\n"
     ]
    },
    {
     "name": "stdout",
     "output_type": "stream",
     "text": [
      "Successfully installed mnist-0.2.2\r\n"
     ]
    },
    {
     "name": "stdout",
     "output_type": "stream",
     "text": [
      "\u001b[33mWARNING: You are using pip version 21.2.4; however, version 21.3 is available.\r\n",
      "You should consider upgrading via the '/opt/hostedtoolcache/Python/3.6.15/x64/bin/python -m pip install --upgrade pip' command.\u001b[0m\r\n"
     ]
    }
   ],
   "source": [
    "!pip install mnist"
   ]
  },
  {
   "cell_type": "markdown",
   "id": "69df9c9a",
   "metadata": {
    "papermill": {
     "duration": 0.025241,
     "end_time": "2021-10-19T00:21:57.110494",
     "exception": false,
     "start_time": "2021-10-19T00:21:57.085253",
     "status": "completed"
    },
    "tags": []
   },
   "source": [
    "## Preparing the Data"
   ]
  },
  {
   "cell_type": "code",
   "execution_count": 4,
   "id": "7f69d806",
   "metadata": {
    "execution": {
     "iopub.execute_input": "2021-10-19T00:21:57.181567Z",
     "iopub.status.busy": "2021-10-19T00:21:57.180469Z",
     "iopub.status.idle": "2021-10-19T00:21:57.184379Z",
     "shell.execute_reply": "2021-10-19T00:21:57.183297Z"
    },
    "papermill": {
     "duration": 0.048773,
     "end_time": "2021-10-19T00:21:57.184501",
     "exception": false,
     "start_time": "2021-10-19T00:21:57.135728",
     "status": "completed"
    },
    "tags": []
   },
   "outputs": [],
   "source": [
    "import mnist"
   ]
  },
  {
   "cell_type": "code",
   "execution_count": 5,
   "id": "a411e44f",
   "metadata": {
    "execution": {
     "iopub.execute_input": "2021-10-19T00:21:57.241099Z",
     "iopub.status.busy": "2021-10-19T00:21:57.238050Z",
     "iopub.status.idle": "2021-10-19T00:21:57.773971Z",
     "shell.execute_reply": "2021-10-19T00:21:57.773472Z"
    },
    "papermill": {
     "duration": 0.56431,
     "end_time": "2021-10-19T00:21:57.774108",
     "exception": false,
     "start_time": "2021-10-19T00:21:57.209798",
     "status": "completed"
    },
    "tags": []
   },
   "outputs": [],
   "source": [
    "train_images = mnist.train_images()\n",
    "train_labels = mnist.train_labels()"
   ]
  },
  {
   "cell_type": "code",
   "execution_count": 6,
   "id": "dceab3a5",
   "metadata": {
    "execution": {
     "iopub.execute_input": "2021-10-19T00:21:57.845106Z",
     "iopub.status.busy": "2021-10-19T00:21:57.840993Z",
     "iopub.status.idle": "2021-10-19T00:21:57.847762Z",
     "shell.execute_reply": "2021-10-19T00:21:57.848183Z"
    },
    "papermill": {
     "duration": 0.048356,
     "end_time": "2021-10-19T00:21:57.848328",
     "exception": false,
     "start_time": "2021-10-19T00:21:57.799972",
     "status": "completed"
    },
    "tags": []
   },
   "outputs": [
    {
     "data": {
      "text/plain": [
       "((60000, 28, 28), (60000,))"
      ]
     },
     "execution_count": 6,
     "metadata": {},
     "output_type": "execute_result"
    }
   ],
   "source": [
    "train_images.shape, train_labels.shape"
   ]
  },
  {
   "cell_type": "code",
   "execution_count": 7,
   "id": "f50dc2bb",
   "metadata": {
    "execution": {
     "iopub.execute_input": "2021-10-19T00:21:57.903154Z",
     "iopub.status.busy": "2021-10-19T00:21:57.902643Z",
     "iopub.status.idle": "2021-10-19T00:21:58.069948Z",
     "shell.execute_reply": "2021-10-19T00:21:58.069368Z"
    },
    "papermill": {
     "duration": 0.196143,
     "end_time": "2021-10-19T00:21:58.070081",
     "exception": false,
     "start_time": "2021-10-19T00:21:57.873938",
     "status": "completed"
    },
    "tags": []
   },
   "outputs": [],
   "source": [
    "test_images = mnist.test_images()\n",
    "test_labels = mnist.test_labels()"
   ]
  },
  {
   "cell_type": "code",
   "execution_count": 8,
   "id": "fc38cf1b",
   "metadata": {
    "execution": {
     "iopub.execute_input": "2021-10-19T00:21:58.134647Z",
     "iopub.status.busy": "2021-10-19T00:21:58.134141Z",
     "iopub.status.idle": "2021-10-19T00:21:58.141690Z",
     "shell.execute_reply": "2021-10-19T00:21:58.141283Z"
    },
    "papermill": {
     "duration": 0.045059,
     "end_time": "2021-10-19T00:21:58.141801",
     "exception": false,
     "start_time": "2021-10-19T00:21:58.096742",
     "status": "completed"
    },
    "tags": []
   },
   "outputs": [
    {
     "data": {
      "text/plain": [
       "((10000, 28, 28), (10000,))"
      ]
     },
     "execution_count": 8,
     "metadata": {},
     "output_type": "execute_result"
    }
   ],
   "source": [
    "test_images.shape, test_labels.shape"
   ]
  },
  {
   "cell_type": "code",
   "execution_count": 9,
   "id": "f9ed8fe0",
   "metadata": {
    "execution": {
     "iopub.execute_input": "2021-10-19T00:21:58.196662Z",
     "iopub.status.busy": "2021-10-19T00:21:58.196152Z",
     "iopub.status.idle": "2021-10-19T00:21:58.333292Z",
     "shell.execute_reply": "2021-10-19T00:21:58.333763Z"
    },
    "papermill": {
     "duration": 0.166443,
     "end_time": "2021-10-19T00:21:58.333916",
     "exception": false,
     "start_time": "2021-10-19T00:21:58.167473",
     "status": "completed"
    },
    "tags": []
   },
   "outputs": [
    {
     "name": "stdout",
     "output_type": "stream",
     "text": [
      "2\n"
     ]
    },
    {
     "data": {
      "text/plain": [
       "<matplotlib.image.AxesImage at 0x7fb32bc119b0>"
      ]
     },
     "execution_count": 9,
     "metadata": {},
     "output_type": "execute_result"
    },
    {
     "data": {
      "image/png": "[encoded data removed]",
      "text/plain": [
       "<Figure size 432x288 with 1 Axes>"
      ]
     },
     "metadata": {
      "needs_background": "light"
     },
     "output_type": "display_data"
    }
   ],
   "source": [
    "image_index = 7776 # You may select anything up to 60,000\n",
    "print(train_labels[image_index]) \n",
    "plt.imshow(train_images[image_index], cmap='Greys')"
   ]
  },
  {
   "cell_type": "markdown",
   "id": "a8d2388d",
   "metadata": {
    "papermill": {
     "duration": 0.026727,
     "end_time": "2021-10-19T00:21:58.388483",
     "exception": false,
     "start_time": "2021-10-19T00:21:58.361756",
     "status": "completed"
    },
    "tags": []
   },
   "source": [
    "## Filter data to get 3 and 8 out"
   ]
  },
  {
   "cell_type": "code",
   "execution_count": 10,
   "id": "776f7fc7",
   "metadata": {
    "execution": {
     "iopub.execute_input": "2021-10-19T00:21:58.461598Z",
     "iopub.status.busy": "2021-10-19T00:21:58.461061Z",
     "iopub.status.idle": "2021-10-19T00:21:58.471389Z",
     "shell.execute_reply": "2021-10-19T00:21:58.470970Z"
    },
    "papermill": {
     "duration": 0.056333,
     "end_time": "2021-10-19T00:21:58.471505",
     "exception": false,
     "start_time": "2021-10-19T00:21:58.415172",
     "status": "completed"
    },
    "tags": []
   },
   "outputs": [],
   "source": [
    "train_filter = np.where((train_labels == 3 ) | (train_labels == 8))\n",
    "test_filter = np.where((test_labels == 3) | (test_labels == 8))\n",
    "X_train, y_train = train_images[train_filter], train_labels[train_filter]\n",
    "X_test, y_test = test_images[test_filter], test_labels[test_filter]"
   ]
  },
  {
   "cell_type": "markdown",
   "id": "948f0b7e",
   "metadata": {
    "papermill": {
     "duration": 0.026659,
     "end_time": "2021-10-19T00:21:58.525064",
     "exception": false,
     "start_time": "2021-10-19T00:21:58.498405",
     "status": "completed"
    },
    "tags": []
   },
   "source": [
    "We normalize the pizel values in the 0 to 1 range"
   ]
  },
  {
   "cell_type": "code",
   "execution_count": 11,
   "id": "ee4c2166",
   "metadata": {
    "execution": {
     "iopub.execute_input": "2021-10-19T00:21:58.582332Z",
     "iopub.status.busy": "2021-10-19T00:21:58.581821Z",
     "iopub.status.idle": "2021-10-19T00:21:58.630626Z",
     "shell.execute_reply": "2021-10-19T00:21:58.630149Z"
    },
    "papermill": {
     "duration": 0.079069,
     "end_time": "2021-10-19T00:21:58.630762",
     "exception": false,
     "start_time": "2021-10-19T00:21:58.551693",
     "status": "completed"
    },
    "tags": []
   },
   "outputs": [],
   "source": [
    "X_train = X_train/255.\n",
    "X_test = X_test/255."
   ]
  },
  {
   "cell_type": "markdown",
   "id": "ddcf4fab",
   "metadata": {
    "papermill": {
     "duration": 0.02691,
     "end_time": "2021-10-19T00:21:58.684739",
     "exception": false,
     "start_time": "2021-10-19T00:21:58.657829",
     "status": "completed"
    },
    "tags": []
   },
   "source": [
    "And setup the labels as 1 (when the digit is 3) and 0 (when the digit is 8)"
   ]
  },
  {
   "cell_type": "code",
   "execution_count": 12,
   "id": "7dc908f2",
   "metadata": {
    "execution": {
     "iopub.execute_input": "2021-10-19T00:21:58.748836Z",
     "iopub.status.busy": "2021-10-19T00:21:58.748296Z",
     "iopub.status.idle": "2021-10-19T00:21:58.755873Z",
     "shell.execute_reply": "2021-10-19T00:21:58.756312Z"
    },
    "papermill": {
     "duration": 0.044966,
     "end_time": "2021-10-19T00:21:58.756445",
     "exception": false,
     "start_time": "2021-10-19T00:21:58.711479",
     "status": "completed"
    },
    "tags": []
   },
   "outputs": [],
   "source": [
    "y_train = 1*(y_train==3)\n",
    "y_test = 1*(y_test==3)"
   ]
  },
  {
   "cell_type": "code",
   "execution_count": 13,
   "id": "01e4e969",
   "metadata": {
    "execution": {
     "iopub.execute_input": "2021-10-19T00:21:58.825022Z",
     "iopub.status.busy": "2021-10-19T00:21:58.815246Z",
     "iopub.status.idle": "2021-10-19T00:21:58.829786Z",
     "shell.execute_reply": "2021-10-19T00:21:58.829285Z"
    },
    "papermill": {
     "duration": 0.046824,
     "end_time": "2021-10-19T00:21:58.829897",
     "exception": false,
     "start_time": "2021-10-19T00:21:58.783073",
     "status": "completed"
    },
    "tags": []
   },
   "outputs": [
    {
     "data": {
      "text/plain": [
       "((11982, 28, 28), (1984, 28, 28))"
      ]
     },
     "execution_count": 13,
     "metadata": {},
     "output_type": "execute_result"
    }
   ],
   "source": [
    "X_train.shape, X_test.shape"
   ]
  },
  {
   "cell_type": "markdown",
   "id": "5ccf3f85",
   "metadata": {
    "papermill": {
     "duration": 0.026943,
     "end_time": "2021-10-19T00:21:58.883779",
     "exception": false,
     "start_time": "2021-10-19T00:21:58.856836",
     "status": "completed"
    },
    "tags": []
   },
   "source": [
    "We reshape the data to flatten the image pixels into a set of features or co-variates:"
   ]
  },
  {
   "cell_type": "code",
   "execution_count": 14,
   "id": "5286a4a3",
   "metadata": {
    "execution": {
     "iopub.execute_input": "2021-10-19T00:21:58.944067Z",
     "iopub.status.busy": "2021-10-19T00:21:58.943529Z",
     "iopub.status.idle": "2021-10-19T00:21:58.955968Z",
     "shell.execute_reply": "2021-10-19T00:21:58.956408Z"
    },
    "papermill": {
     "duration": 0.045577,
     "end_time": "2021-10-19T00:21:58.956538",
     "exception": false,
     "start_time": "2021-10-19T00:21:58.910961",
     "status": "completed"
    },
    "tags": []
   },
   "outputs": [
    {
     "data": {
      "text/plain": [
       "((11982, 784), (1984, 784))"
      ]
     },
     "execution_count": 14,
     "metadata": {},
     "output_type": "execute_result"
    }
   ],
   "source": [
    "X_train = X_train.reshape(X_train.shape[0], -1)\n",
    "X_test = X_test.reshape(X_test.shape[0], -1)\n",
    "X_train.shape, X_test.shape"
   ]
  },
  {
   "cell_type": "code",
   "execution_count": 15,
   "id": "73c5f88a",
   "metadata": {
    "execution": {
     "iopub.execute_input": "2021-10-19T00:21:59.037300Z",
     "iopub.status.busy": "2021-10-19T00:21:59.030319Z",
     "iopub.status.idle": "2021-10-19T00:21:59.039144Z",
     "shell.execute_reply": "2021-10-19T00:21:59.039530Z"
    },
    "papermill": {
     "duration": 0.056026,
     "end_time": "2021-10-19T00:21:59.039672",
     "exception": false,
     "start_time": "2021-10-19T00:21:58.983646",
     "status": "completed"
    },
    "tags": []
   },
   "outputs": [],
   "source": [
    "#Impoting functions from 'Kudzu'\n",
    "from kudzu.model import Model\n",
    "from kudzu.train import Learner\n",
    "from kudzu.optim import GD\n",
    "from kudzu.data import Data, Sampler,Dataloader\n",
    "\n",
    "from kudzu.callbacks import AccCallback\n",
    "from kudzu.callbacks import ClfCallback\n",
    "\n",
    "from kudzu.loss import MSE\n",
    "\n",
    "from kudzu.layer import Sigmoid,Relu\n",
    "from kudzu.layer import Affine"
   ]
  },
  {
   "cell_type": "markdown",
   "id": "bc01172a",
   "metadata": {
    "papermill": {
     "duration": 0.027501,
     "end_time": "2021-10-19T00:21:59.094858",
     "exception": false,
     "start_time": "2021-10-19T00:21:59.067357",
     "status": "completed"
    },
    "tags": []
   },
   "source": [
    "### Let us create a `Config` class, to store important parameters. \n",
    "This class essentially plays the role of a dictionary."
   ]
  },
  {
   "cell_type": "code",
   "execution_count": 16,
   "id": "978281aa",
   "metadata": {
    "execution": {
     "iopub.execute_input": "2021-10-19T00:21:59.157352Z",
     "iopub.status.busy": "2021-10-19T00:21:59.156824Z",
     "iopub.status.idle": "2021-10-19T00:21:59.166455Z",
     "shell.execute_reply": "2021-10-19T00:21:59.166842Z"
    },
    "papermill": {
     "duration": 0.044714,
     "end_time": "2021-10-19T00:21:59.166978",
     "exception": false,
     "start_time": "2021-10-19T00:21:59.122264",
     "status": "completed"
    },
    "tags": []
   },
   "outputs": [],
   "source": [
    "class Config:\n",
    "    pass\n",
    "config = Config()\n",
    "config.lr = 0.001\n",
    "config.num_epochs = 250\n",
    "config.bs = 50"
   ]
  },
  {
   "cell_type": "markdown",
   "id": "1385fa59",
   "metadata": {
    "papermill": {
     "duration": 0.027275,
     "end_time": "2021-10-19T00:21:59.221574",
     "exception": false,
     "start_time": "2021-10-19T00:21:59.194299",
     "status": "completed"
    },
    "tags": []
   },
   "source": [
    "### Running Models with the Training data\n",
    "Details about the network layers:\n",
    "- A first affine layer has 784 inputs and does 100 affine transforms. These are followed by a Relu\n",
    "- A second affine layer has 100 inputs from the 100 activations of the past layer, and does 100 affine transforms. These are followed by a Relu\n",
    "- A third affine layer has 100 activations and does 2 affine transformations to create an embedding for visualization. There is no non-linearity here.\n",
    "- A final \"logistic regression\" which has an affine transform from 2 inputs to 1 output, which is squeezed through a sigmoid.\n"
   ]
  },
  {
   "cell_type": "code",
   "execution_count": 17,
   "id": "2b9c66db",
   "metadata": {
    "execution": {
     "iopub.execute_input": "2021-10-19T00:21:59.281412Z",
     "iopub.status.busy": "2021-10-19T00:21:59.280821Z",
     "iopub.status.idle": "2021-10-19T00:21:59.293425Z",
     "shell.execute_reply": "2021-10-19T00:21:59.293012Z"
    },
    "papermill": {
     "duration": 0.04478,
     "end_time": "2021-10-19T00:21:59.293542",
     "exception": false,
     "start_time": "2021-10-19T00:21:59.248762",
     "status": "completed"
    },
    "tags": []
   },
   "outputs": [],
   "source": [
    "data = Data(X_train, y_train.reshape(-1,1))\n",
    "sampler = Sampler(data, config.bs, shuffle=True)\n",
    "\n",
    "dl = Dataloader(data, sampler)\n",
    "\n",
    "opt = GD(config.lr)\n",
    "loss = MSE()"
   ]
  },
  {
   "cell_type": "code",
   "execution_count": 18,
   "id": "b275e4c2",
   "metadata": {
    "execution": {
     "iopub.execute_input": "2021-10-19T00:21:59.357183Z",
     "iopub.status.busy": "2021-10-19T00:21:59.356669Z",
     "iopub.status.idle": "2021-10-19T00:21:59.365643Z",
     "shell.execute_reply": "2021-10-19T00:21:59.365235Z"
    },
    "papermill": {
     "duration": 0.044753,
     "end_time": "2021-10-19T00:21:59.365756",
     "exception": false,
     "start_time": "2021-10-19T00:21:59.321003",
     "status": "completed"
    },
    "tags": []
   },
   "outputs": [],
   "source": [
    "training_data_x = X_train\n",
    "testing_data_x = X_test\n",
    "training_data_y = y_train.reshape(-1,1)\n",
    "testing_data_y = y_test.reshape(-1,1)"
   ]
  },
  {
   "cell_type": "code",
   "execution_count": 19,
   "id": "76951160",
   "metadata": {
    "execution": {
     "iopub.execute_input": "2021-10-19T00:21:59.424352Z",
     "iopub.status.busy": "2021-10-19T00:21:59.423795Z",
     "iopub.status.idle": "2021-10-19T00:21:59.440382Z",
     "shell.execute_reply": "2021-10-19T00:21:59.439934Z"
    },
    "papermill": {
     "duration": 0.04766,
     "end_time": "2021-10-19T00:21:59.440501",
     "exception": false,
     "start_time": "2021-10-19T00:21:59.392841",
     "status": "completed"
    },
    "tags": []
   },
   "outputs": [
    {
     "name": "stdout",
     "output_type": "stream",
     "text": [
      "xavier\n",
      "xavier\n",
      "xavier\n",
      "xavier\n",
      "xavier\n"
     ]
    }
   ],
   "source": [
    "layers = [Affine(\"first\", 784, 100), Relu(\"first\"), Affine(\"second\", 100, 100), Relu(\"second\"), Affine(\"third\", 100, 2), Affine(\"last\", 2, 1), Sigmoid(\"last\")]\n",
    "model_nn = Model(layers)\n",
    "model_lr = Model([Affine(\"logits\", 784, 1), Sigmoid(\"sigmoid\")])"
   ]
  },
  {
   "cell_type": "code",
   "execution_count": 20,
   "id": "6eede77a",
   "metadata": {
    "execution": {
     "iopub.execute_input": "2021-10-19T00:21:59.499971Z",
     "iopub.status.busy": "2021-10-19T00:21:59.499471Z",
     "iopub.status.idle": "2021-10-19T00:21:59.511066Z",
     "shell.execute_reply": "2021-10-19T00:21:59.511450Z"
    },
    "papermill": {
     "duration": 0.043138,
     "end_time": "2021-10-19T00:21:59.511579",
     "exception": false,
     "start_time": "2021-10-19T00:21:59.468441",
     "status": "completed"
    },
    "tags": []
   },
   "outputs": [],
   "source": [
    "nn_learner = Learner(loss, model_nn, opt, config.num_epochs)\n",
    "acc_nn = ClfCallback(nn_learner, config.bs, training_data_x , testing_data_x, training_data_y, testing_data_y)\n",
    "nn_learner.set_callbacks([acc_nn])"
   ]
  },
  {
   "cell_type": "code",
   "execution_count": 21,
   "id": "877b6cc7",
   "metadata": {
    "execution": {
     "iopub.execute_input": "2021-10-19T00:21:59.571687Z",
     "iopub.status.busy": "2021-10-19T00:21:59.570900Z",
     "iopub.status.idle": "2021-10-19T00:21:59.582245Z",
     "shell.execute_reply": "2021-10-19T00:21:59.581815Z"
    },
    "papermill": {
     "duration": 0.043303,
     "end_time": "2021-10-19T00:21:59.582356",
     "exception": false,
     "start_time": "2021-10-19T00:21:59.539053",
     "status": "completed"
    },
    "tags": []
   },
   "outputs": [],
   "source": [
    "lr_learner = Learner(loss, model_lr, opt, config.num_epochs)\n",
    "acc_lr = ClfCallback(lr_learner, config.bs, training_data_x , testing_data_x, training_data_y, testing_data_y)\n",
    "lr_learner.set_callbacks([acc_lr])"
   ]
  },
  {
   "cell_type": "code",
   "execution_count": 22,
   "id": "d9b133c3",
   "metadata": {
    "execution": {
     "iopub.execute_input": "2021-10-19T00:21:59.652778Z",
     "iopub.status.busy": "2021-10-19T00:21:59.651358Z",
     "iopub.status.idle": "2021-10-19T00:23:17.278530Z",
     "shell.execute_reply": "2021-10-19T00:23:17.279278Z"
    },
    "papermill": {
     "duration": 77.669334,
     "end_time": "2021-10-19T00:23:17.279429",
     "exception": false,
     "start_time": "2021-10-19T00:21:59.610095",
     "status": "completed"
    },
    "tags": []
   },
   "outputs": [
    {
     "name": "stdout",
     "output_type": "stream",
     "text": [
      "Epoch 0, Loss 0.248\n",
      "Training Accuracy: 0.5860, Testing Accuracy: 0.5877\n",
      "\n"
     ]
    },
    {
     "name": "stdout",
     "output_type": "stream",
     "text": [
      "Epoch 10, Loss 0.112\n",
      "Training Accuracy: 0.9050, Testing Accuracy: 0.9108\n",
      "\n"
     ]
    },
    {
     "name": "stdout",
     "output_type": "stream",
     "text": [
      "Epoch 20, Loss 0.0631\n",
      "Training Accuracy: 0.9346, Testing Accuracy: 0.9420\n",
      "\n"
     ]
    },
    {
     "name": "stdout",
     "output_type": "stream",
     "text": [
      "Epoch 30, Loss 0.0476\n",
      "Training Accuracy: 0.9481, Testing Accuracy: 0.9536\n",
      "\n"
     ]
    },
    {
     "name": "stdout",
     "output_type": "stream",
     "text": [
      "Epoch 40, Loss 0.0404\n",
      "Training Accuracy: 0.9543, Testing Accuracy: 0.9612\n",
      "\n"
     ]
    },
    {
     "name": "stdout",
     "output_type": "stream",
     "text": [
      "Epoch 50, Loss 0.0362\n",
      "Training Accuracy: 0.9592, Testing Accuracy: 0.9642\n",
      "\n"
     ]
    },
    {
     "name": "stdout",
     "output_type": "stream",
     "text": [
      "Epoch 60, Loss 0.0334\n",
      "Training Accuracy: 0.9623, Testing Accuracy: 0.9667\n",
      "\n"
     ]
    },
    {
     "name": "stdout",
     "output_type": "stream",
     "text": [
      "Epoch 70, Loss 0.0313\n",
      "Training Accuracy: 0.9643, Testing Accuracy: 0.9672\n",
      "\n"
     ]
    },
    {
     "name": "stdout",
     "output_type": "stream",
     "text": [
      "Epoch 80, Loss 0.0297\n",
      "Training Accuracy: 0.9655, Testing Accuracy: 0.9703\n",
      "\n"
     ]
    },
    {
     "name": "stdout",
     "output_type": "stream",
     "text": [
      "Epoch 90, Loss 0.0284\n",
      "Training Accuracy: 0.9680, Testing Accuracy: 0.9703\n",
      "\n"
     ]
    },
    {
     "name": "stdout",
     "output_type": "stream",
     "text": [
      "Epoch 100, Loss 0.0273\n",
      "Training Accuracy: 0.9690, Testing Accuracy: 0.9703\n",
      "\n"
     ]
    },
    {
     "name": "stdout",
     "output_type": "stream",
     "text": [
      "Epoch 110, Loss 0.0263\n",
      "Training Accuracy: 0.9696, Testing Accuracy: 0.9703\n",
      "\n"
     ]
    },
    {
     "name": "stdout",
     "output_type": "stream",
     "text": [
      "Epoch 120, Loss 0.0254\n",
      "Training Accuracy: 0.9704, Testing Accuracy: 0.9708\n",
      "\n"
     ]
    },
    {
     "name": "stdout",
     "output_type": "stream",
     "text": [
      "Epoch 130, Loss 0.0247\n",
      "Training Accuracy: 0.9715, Testing Accuracy: 0.9718\n",
      "\n"
     ]
    },
    {
     "name": "stdout",
     "output_type": "stream",
     "text": [
      "Epoch 140, Loss 0.024\n",
      "Training Accuracy: 0.9720, Testing Accuracy: 0.9718\n",
      "\n"
     ]
    },
    {
     "name": "stdout",
     "output_type": "stream",
     "text": [
      "Epoch 150, Loss 0.0233\n",
      "Training Accuracy: 0.9731, Testing Accuracy: 0.9723\n",
      "\n"
     ]
    },
    {
     "name": "stdout",
     "output_type": "stream",
     "text": [
      "Epoch 160, Loss 0.0227\n",
      "Training Accuracy: 0.9738, Testing Accuracy: 0.9723\n",
      "\n"
     ]
    },
    {
     "name": "stdout",
     "output_type": "stream",
     "text": [
      "Epoch 170, Loss 0.0222\n",
      "Training Accuracy: 0.9741, Testing Accuracy: 0.9718\n",
      "\n"
     ]
    },
    {
     "name": "stdout",
     "output_type": "stream",
     "text": [
      "Epoch 180, Loss 0.0216\n",
      "Training Accuracy: 0.9750, Testing Accuracy: 0.9718\n",
      "\n"
     ]
    },
    {
     "name": "stdout",
     "output_type": "stream",
     "text": [
      "Epoch 190, Loss 0.0211\n",
      "Training Accuracy: 0.9755, Testing Accuracy: 0.9718\n",
      "\n"
     ]
    },
    {
     "name": "stdout",
     "output_type": "stream",
     "text": [
      "Epoch 200, Loss 0.0206\n",
      "Training Accuracy: 0.9756, Testing Accuracy: 0.9728\n",
      "\n"
     ]
    },
    {
     "name": "stdout",
     "output_type": "stream",
     "text": [
      "Epoch 210, Loss 0.0202\n",
      "Training Accuracy: 0.9766, Testing Accuracy: 0.9728\n",
      "\n"
     ]
    },
    {
     "name": "stdout",
     "output_type": "stream",
     "text": [
      "Epoch 220, Loss 0.0197\n",
      "Training Accuracy: 0.9779, Testing Accuracy: 0.9728\n",
      "\n"
     ]
    },
    {
     "name": "stdout",
     "output_type": "stream",
     "text": [
      "Epoch 230, Loss 0.0193\n",
      "Training Accuracy: 0.9781, Testing Accuracy: 0.9728\n",
      "\n"
     ]
    },
    {
     "name": "stdout",
     "output_type": "stream",
     "text": [
      "Epoch 240, Loss 0.0189\n",
      "Training Accuracy: 0.9786, Testing Accuracy: 0.9733\n",
      "\n"
     ]
    },
    {
     "data": {
      "text/plain": [
       "0.017591841150465068"
      ]
     },
     "execution_count": 22,
     "metadata": {},
     "output_type": "execute_result"
    }
   ],
   "source": [
    "nn_learner.train_loop(dl)"
   ]
  },
  {
   "cell_type": "code",
   "execution_count": 23,
   "id": "e0163366",
   "metadata": {
    "execution": {
     "iopub.execute_input": "2021-10-19T00:23:17.361595Z",
     "iopub.status.busy": "2021-10-19T00:23:17.359916Z",
     "iopub.status.idle": "2021-10-19T00:23:31.566369Z",
     "shell.execute_reply": "2021-10-19T00:23:31.567122Z"
    },
    "papermill": {
     "duration": 14.252705,
     "end_time": "2021-10-19T00:23:31.567278",
     "exception": false,
     "start_time": "2021-10-19T00:23:17.314573",
     "status": "completed"
    },
    "tags": []
   },
   "outputs": [
    {
     "name": "stdout",
     "output_type": "stream",
     "text": [
      "Epoch 0, Loss 0.231\n",
      "Training Accuracy: 0.7376, Testing Accuracy: 0.7208\n",
      "\n"
     ]
    },
    {
     "name": "stdout",
     "output_type": "stream",
     "text": [
      "Epoch 10, Loss 0.0995\n",
      "Training Accuracy: 0.9170, Testing Accuracy: 0.9294\n",
      "\n"
     ]
    },
    {
     "name": "stdout",
     "output_type": "stream",
     "text": [
      "Epoch 20, Loss 0.0773\n",
      "Training Accuracy: 0.9300, Testing Accuracy: 0.9441\n",
      "\n"
     ]
    },
    {
     "name": "stdout",
     "output_type": "stream",
     "text": [
      "Epoch 30, Loss 0.0671\n",
      "Training Accuracy: 0.9394, Testing Accuracy: 0.9501\n",
      "\n"
     ]
    },
    {
     "name": "stdout",
     "output_type": "stream",
     "text": [
      "Epoch 40, Loss 0.0608\n",
      "Training Accuracy: 0.9437, Testing Accuracy: 0.9561\n",
      "\n"
     ]
    },
    {
     "name": "stdout",
     "output_type": "stream",
     "text": [
      "Epoch 50, Loss 0.0566\n",
      "Training Accuracy: 0.9459, Testing Accuracy: 0.9577\n",
      "\n"
     ]
    },
    {
     "name": "stdout",
     "output_type": "stream",
     "text": [
      "Epoch 60, Loss 0.0534\n",
      "Training Accuracy: 0.9483, Testing Accuracy: 0.9597\n",
      "\n"
     ]
    },
    {
     "name": "stdout",
     "output_type": "stream",
     "text": [
      "Epoch 70, Loss 0.0509\n",
      "Training Accuracy: 0.9501, Testing Accuracy: 0.9617\n",
      "\n"
     ]
    },
    {
     "name": "stdout",
     "output_type": "stream",
     "text": [
      "Epoch 80, Loss 0.0489\n",
      "Training Accuracy: 0.9515, Testing Accuracy: 0.9632\n",
      "\n"
     ]
    },
    {
     "name": "stdout",
     "output_type": "stream",
     "text": [
      "Epoch 90, Loss 0.0473\n",
      "Training Accuracy: 0.9525, Testing Accuracy: 0.9632\n",
      "\n"
     ]
    },
    {
     "name": "stdout",
     "output_type": "stream",
     "text": [
      "Epoch 100, Loss 0.0459\n",
      "Training Accuracy: 0.9539, Testing Accuracy: 0.9632\n",
      "\n"
     ]
    },
    {
     "name": "stdout",
     "output_type": "stream",
     "text": [
      "Epoch 110, Loss 0.0447\n",
      "Training Accuracy: 0.9552, Testing Accuracy: 0.9647\n",
      "\n"
     ]
    },
    {
     "name": "stdout",
     "output_type": "stream",
     "text": [
      "Epoch 120, Loss 0.0436\n",
      "Training Accuracy: 0.9559, Testing Accuracy: 0.9657\n",
      "\n"
     ]
    },
    {
     "name": "stdout",
     "output_type": "stream",
     "text": [
      "Epoch 130, Loss 0.0427\n",
      "Training Accuracy: 0.9564, Testing Accuracy: 0.9657\n",
      "\n"
     ]
    },
    {
     "name": "stdout",
     "output_type": "stream",
     "text": [
      "Epoch 140, Loss 0.0419\n",
      "Training Accuracy: 0.9569, Testing Accuracy: 0.9662\n",
      "\n"
     ]
    },
    {
     "name": "stdout",
     "output_type": "stream",
     "text": [
      "Epoch 150, Loss 0.0412\n",
      "Training Accuracy: 0.9574, Testing Accuracy: 0.9672\n",
      "\n"
     ]
    },
    {
     "name": "stdout",
     "output_type": "stream",
     "text": [
      "Epoch 160, Loss 0.0405\n",
      "Training Accuracy: 0.9579, Testing Accuracy: 0.9672\n",
      "\n"
     ]
    },
    {
     "name": "stdout",
     "output_type": "stream",
     "text": [
      "Epoch 170, Loss 0.0399\n",
      "Training Accuracy: 0.9580, Testing Accuracy: 0.9672\n",
      "\n"
     ]
    },
    {
     "name": "stdout",
     "output_type": "stream",
     "text": [
      "Epoch 180, Loss 0.0393\n",
      "Training Accuracy: 0.9588, Testing Accuracy: 0.9672\n",
      "\n"
     ]
    },
    {
     "name": "stdout",
     "output_type": "stream",
     "text": [
      "Epoch 190, Loss 0.0388\n",
      "Training Accuracy: 0.9592, Testing Accuracy: 0.9672\n",
      "\n"
     ]
    },
    {
     "name": "stdout",
     "output_type": "stream",
     "text": [
      "Epoch 200, Loss 0.0384\n",
      "Training Accuracy: 0.9597, Testing Accuracy: 0.9677\n",
      "\n"
     ]
    },
    {
     "name": "stdout",
     "output_type": "stream",
     "text": [
      "Epoch 210, Loss 0.0379\n",
      "Training Accuracy: 0.9599, Testing Accuracy: 0.9677\n",
      "\n"
     ]
    },
    {
     "name": "stdout",
     "output_type": "stream",
     "text": [
      "Epoch 220, Loss 0.0375\n",
      "Training Accuracy: 0.9602, Testing Accuracy: 0.9677\n",
      "\n"
     ]
    },
    {
     "name": "stdout",
     "output_type": "stream",
     "text": [
      "Epoch 230, Loss 0.0371\n",
      "Training Accuracy: 0.9608, Testing Accuracy: 0.9677\n",
      "\n"
     ]
    },
    {
     "name": "stdout",
     "output_type": "stream",
     "text": [
      "Epoch 240, Loss 0.0368\n",
      "Training Accuracy: 0.9611, Testing Accuracy: 0.9677\n",
      "\n"
     ]
    },
    {
     "data": {
      "text/plain": [
       "0.042214749224517845"
      ]
     },
     "execution_count": 23,
     "metadata": {},
     "output_type": "execute_result"
    }
   ],
   "source": [
    "lr_learner.train_loop(dl)"
   ]
  },
  {
   "cell_type": "code",
   "execution_count": 24,
   "id": "ca410940",
   "metadata": {
    "execution": {
     "iopub.execute_input": "2021-10-19T00:23:31.656634Z",
     "iopub.status.busy": "2021-10-19T00:23:31.656101Z",
     "iopub.status.idle": "2021-10-19T00:23:31.896005Z",
     "shell.execute_reply": "2021-10-19T00:23:31.896781Z"
    },
    "papermill": {
     "duration": 0.287402,
     "end_time": "2021-10-19T00:23:31.896940",
     "exception": false,
     "start_time": "2021-10-19T00:23:31.609538",
     "status": "completed"
    },
    "tags": []
   },
   "outputs": [
    {
     "data": {
      "text/plain": [
       "<matplotlib.legend.Legend at 0x7fb32b773eb8>"
      ]
     },
     "execution_count": 24,
     "metadata": {},
     "output_type": "execute_result"
    },
    {
     "data": {
      "image/png": "[encoded data removed]",
      "text/plain": [
       "<Figure size 1080x720 with 1 Axes>"
      ]
     },
     "metadata": {
      "needs_background": "light"
     },
     "output_type": "display_data"
    }
   ],
   "source": [
    "#comparing the results of NN and LR\n",
    "plt.figure(figsize=(15,10))\n",
    "\n",
    "# Neural Network plots\n",
    "plt.plot(acc_nn.accuracies, 'r-', label = \"Training Accuracies - NN\")\n",
    "plt.plot(acc_nn.test_accuracies, 'g-', label = \"Testing Accuracies - NN\")\n",
    "\n",
    "# Logistic Regression plots\n",
    "plt.plot(acc_lr.accuracies, 'k-', label = \"Training Accuracies - LR\")\n",
    "plt.plot(acc_lr.test_accuracies, 'b-', label = \"Testing Accuracies - LR\")\n",
    "plt.legend()"
   ]
  },
  {
   "cell_type": "markdown",
   "id": "80dfb35c",
   "metadata": {
    "papermill": {
     "duration": 0.042585,
     "end_time": "2021-10-19T00:23:31.982319",
     "exception": false,
     "start_time": "2021-10-19T00:23:31.939734",
     "status": "completed"
    },
    "tags": []
   },
   "source": [
    "#### Plotting the outputs of this layer of the NN.\n"
   ]
  },
  {
   "cell_type": "code",
   "execution_count": 25,
   "id": "45eb2ff5",
   "metadata": {
    "execution": {
     "iopub.execute_input": "2021-10-19T00:23:32.087338Z",
     "iopub.status.busy": "2021-10-19T00:23:32.076897Z",
     "iopub.status.idle": "2021-10-19T00:23:32.105113Z",
     "shell.execute_reply": "2021-10-19T00:23:32.105962Z"
    },
    "papermill": {
     "duration": 0.081593,
     "end_time": "2021-10-19T00:23:32.106124",
     "exception": false,
     "start_time": "2021-10-19T00:23:32.024531",
     "status": "completed"
    },
    "tags": []
   },
   "outputs": [],
   "source": [
    "new_model = Model(layers[:-2])\n",
    "testing_plot = new_model(testing_data_x)"
   ]
  },
  {
   "cell_type": "code",
   "execution_count": 26,
   "id": "4c0a5485",
   "metadata": {
    "execution": {
     "iopub.execute_input": "2021-10-19T00:23:32.201138Z",
     "iopub.status.busy": "2021-10-19T00:23:32.200592Z",
     "iopub.status.idle": "2021-10-19T00:23:32.400914Z",
     "shell.execute_reply": "2021-10-19T00:23:32.401327Z"
    },
    "papermill": {
     "duration": 0.24823,
     "end_time": "2021-10-19T00:23:32.401468",
     "exception": false,
     "start_time": "2021-10-19T00:23:32.153238",
     "status": "completed"
    },
    "tags": []
   },
   "outputs": [
    {
     "data": {
      "text/plain": [
       "Text(0.5, 1.0, 'Outputs')"
      ]
     },
     "execution_count": 26,
     "metadata": {},
     "output_type": "execute_result"
    },
    {
     "data": {
      "image/png": "[encoded data removed]",
      "text/plain": [
       "<Figure size 576x504 with 1 Axes>"
      ]
     },
     "metadata": {
      "needs_background": "light"
     },
     "output_type": "display_data"
    }
   ],
   "source": [
    "# Plotting the scatter plot of points and color coding by class\n",
    "plt.figure(figsize=(8,7))\n",
    "plt.scatter(testing_plot[:,0], testing_plot[:,1], alpha = 0.1, c = y_test.ravel());\n",
    "plt.title('Outputs')"
   ]
  },
  {
   "cell_type": "markdown",
   "id": "a74fcf8f",
   "metadata": {
    "papermill": {
     "duration": 0.044457,
     "end_time": "2021-10-19T00:23:32.490679",
     "exception": false,
     "start_time": "2021-10-19T00:23:32.446222",
     "status": "completed"
    },
    "tags": []
   },
   "source": [
    "Probability contours"
   ]
  },
  {
   "cell_type": "code",
   "execution_count": 27,
   "id": "d0afc8e3",
   "metadata": {
    "execution": {
     "iopub.execute_input": "2021-10-19T00:23:32.589367Z",
     "iopub.status.busy": "2021-10-19T00:23:32.588848Z",
     "iopub.status.idle": "2021-10-19T00:23:32.597154Z",
     "shell.execute_reply": "2021-10-19T00:23:32.596739Z"
    },
    "papermill": {
     "duration": 0.06211,
     "end_time": "2021-10-19T00:23:32.597275",
     "exception": false,
     "start_time": "2021-10-19T00:23:32.535165",
     "status": "completed"
    },
    "tags": []
   },
   "outputs": [],
   "source": [
    "model_prob = Model(layers[-2:]) "
   ]
  },
  {
   "cell_type": "code",
   "execution_count": 28,
   "id": "9b96e238",
   "metadata": {
    "execution": {
     "iopub.execute_input": "2021-10-19T00:23:32.729426Z",
     "iopub.status.busy": "2021-10-19T00:23:32.728892Z",
     "iopub.status.idle": "2021-10-19T00:23:32.738539Z",
     "shell.execute_reply": "2021-10-19T00:23:32.738135Z"
    },
    "papermill": {
     "duration": 0.096578,
     "end_time": "2021-10-19T00:23:32.738653",
     "exception": false,
     "start_time": "2021-10-19T00:23:32.642075",
     "status": "completed"
    },
    "tags": []
   },
   "outputs": [],
   "source": [
    "#creating the x and y ranges according to the above generated plot.\n",
    "x_range = np.linspace(-4, 1, 100) \n",
    "y_range = np.linspace(-6, 6, 100) \n",
    "x_grid, y_grid = np.meshgrid(x_range, y_range) # x_grid and y_grig are of size 100 X 100\n",
    "\n",
    "# converting x_grid and y_grid to continuous arrays\n",
    "x_gridflat = np.ravel(x_grid)\n",
    "y_gridflat = np.ravel(y_grid)\n",
    "\n",
    "# The last layer of the current model takes two columns as input. Hence transpose of np.vstack() is required.\n",
    "X = np.vstack((x_gridflat, y_gridflat)).T\n",
    "\n",
    "prob_contour = model_prob(X).reshape(100,100) "
   ]
  },
  {
   "cell_type": "code",
   "execution_count": 29,
   "id": "da72499a",
   "metadata": {
    "execution": {
     "iopub.execute_input": "2021-10-19T00:23:32.840942Z",
     "iopub.status.busy": "2021-10-19T00:23:32.840398Z",
     "iopub.status.idle": "2021-10-19T00:23:33.096383Z",
     "shell.execute_reply": "2021-10-19T00:23:33.095876Z"
    },
    "papermill": {
     "duration": 0.304479,
     "end_time": "2021-10-19T00:23:33.096513",
     "exception": false,
     "start_time": "2021-10-19T00:23:32.792034",
     "status": "completed"
    },
    "tags": []
   },
   "outputs": [
    {
     "data": {
      "image/png": "[encoded data removed]",
      "text/plain": [
       "<Figure size 720x648 with 1 Axes>"
      ]
     },
     "metadata": {
      "needs_background": "light"
     },
     "output_type": "display_data"
    }
   ],
   "source": [
    "plt.figure(figsize=(10,9))\n",
    "plt.scatter(testing_plot[:,0], testing_plot[:,1], alpha = 0.1, c = y_test.ravel())\n",
    "contours = plt.contour(x_grid,y_grid,prob_contour)\n",
    "plt.title('Probability Contours')\n",
    "plt.clabel(contours, inline = True );"
   ]
  },
  {
   "cell_type": "code",
   "execution_count": null,
   "id": "e81b4ac7",
   "metadata": {
    "papermill": {
     "duration": 0.047151,
     "end_time": "2021-10-19T00:23:33.192073",
     "exception": false,
     "start_time": "2021-10-19T00:23:33.144922",
     "status": "completed"
    },
    "tags": []
   },
   "outputs": [],
   "source": []
  }
 ],
 "metadata": {
  "kernelspec": {
   "display_name": "Python 3",
   "language": "python",
   "name": "python3"
  },
  "language_info": {
   "codemirror_mode": {
    "name": "ipython",
    "version": 3
   },
   "file_extension": ".py",
   "mimetype": "text/x-python",
   "name": "python",
   "nbconvert_exporter": "python",
   "pygments_lexer": "ipython3",
   "version": "3.6.15"
  },
  "papermill": {
   "default_parameters": {},
   "duration": 100.913693,
   "end_time": "2021-10-19T00:23:33.647117",
   "environment_variables": {},
   "exception": null,
   "input_path": "2020-08-11-part2.ipynb",
   "output_path": "2020-08-11-part2.ipynb",
   "parameters": {},
   "start_time": "2021-10-19T00:21:52.733424",
   "version": "2.3.3"
  }
 },
 "nbformat": 4,
 "nbformat_minor": 5
}