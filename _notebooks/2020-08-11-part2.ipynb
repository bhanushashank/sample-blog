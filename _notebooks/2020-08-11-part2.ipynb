{
 "cells": [
  {
   "cell_type": "markdown",
   "id": "98380cd3",
   "metadata": {
    "papermill": {
     "duration": 0.030109,
     "end_time": "2022-11-24T00:41:22.341523",
     "exception": false,
     "start_time": "2022-11-24T00:41:22.311414",
     "status": "completed"
    },
    "tags": []
   },
   "source": [
    "# Distinguish Your Own Digits (DYOD)"
   ]
  },
  {
   "cell_type": "markdown",
   "id": "ef31240d",
   "metadata": {
    "papermill": {
     "duration": 0.023928,
     "end_time": "2022-11-24T00:41:22.390136",
     "exception": false,
     "start_time": "2022-11-24T00:41:22.366208",
     "status": "completed"
    },
    "tags": []
   },
   "source": [
    "You are going to write a classifier that distinguishes between the number 3 and number 8."
   ]
  },
  {
   "cell_type": "code",
   "execution_count": 1,
   "id": "b15c8646",
   "metadata": {
    "execution": {
     "iopub.execute_input": "2022-11-24T00:41:22.449765Z",
     "iopub.status.busy": "2022-11-24T00:41:22.449126Z",
     "iopub.status.idle": "2022-11-24T00:41:22.460748Z",
     "shell.execute_reply": "2022-11-24T00:41:22.460226Z"
    },
    "papermill": {
     "duration": 0.046866,
     "end_time": "2022-11-24T00:41:22.460898",
     "exception": false,
     "start_time": "2022-11-24T00:41:22.414032",
     "status": "completed"
    },
    "tags": []
   },
   "outputs": [],
   "source": [
    "%load_ext autoreload\n",
    "%autoreload 2"
   ]
  },
  {
   "cell_type": "code",
   "execution_count": 2,
   "id": "22ef38dc",
   "metadata": {
    "execution": {
     "iopub.execute_input": "2022-11-24T00:41:22.517944Z",
     "iopub.status.busy": "2022-11-24T00:41:22.517180Z",
     "iopub.status.idle": "2022-11-24T00:41:23.090705Z",
     "shell.execute_reply": "2022-11-24T00:41:23.091237Z"
    },
    "papermill": {
     "duration": 0.606234,
     "end_time": "2022-11-24T00:41:23.091397",
     "exception": false,
     "start_time": "2022-11-24T00:41:22.485163",
     "status": "completed"
    },
    "tags": []
   },
   "outputs": [],
   "source": [
    "%matplotlib inline\n",
    "import numpy as np\n",
    "import matplotlib.pyplot as plt\n",
    "import pandas as pd"
   ]
  },
  {
   "cell_type": "markdown",
   "id": "ba036198",
   "metadata": {
    "papermill": {
     "duration": 0.024138,
     "end_time": "2022-11-24T00:41:23.139703",
     "exception": false,
     "start_time": "2022-11-24T00:41:23.115565",
     "status": "completed"
    },
    "tags": []
   },
   "source": [
    "From the command line run `pip install mnist`. This is a library that will help you bring down the mnist dataset. If you run this from a notebook, you need to put  `!pip install mnist` in a cell by itself."
   ]
  },
  {
   "cell_type": "code",
   "execution_count": 3,
   "id": "bb6ad8a1",
   "metadata": {
    "execution": {
     "iopub.execute_input": "2022-11-24T00:41:23.199552Z",
     "iopub.status.busy": "2022-11-24T00:41:23.196653Z",
     "iopub.status.idle": "2022-11-24T00:41:24.817923Z",
     "shell.execute_reply": "2022-11-24T00:41:24.817296Z"
    },
    "papermill": {
     "duration": 1.654157,
     "end_time": "2022-11-24T00:41:24.818084",
     "exception": false,
     "start_time": "2022-11-24T00:41:23.163927",
     "status": "completed"
    },
    "tags": []
   },
   "outputs": [
    {
     "name": "stdout",
     "output_type": "stream",
     "text": [
      "Collecting mnist\r\n",
      "  Downloading mnist-0.2.2-py2.py3-none-any.whl (3.5 kB)\r\n",
      "Requirement already satisfied: numpy in /opt/hostedtoolcache/Python/3.6.15/x64/lib/python3.6/site-packages (from mnist) (1.19.5)\r\n"
     ]
    },
    {
     "name": "stdout",
     "output_type": "stream",
     "text": [
      "Installing collected packages: mnist\r\n",
      "Successfully installed mnist-0.2.2\r\n"
     ]
    }
   ],
   "source": [
    "!pip install mnist"
   ]
  },
  {
   "cell_type": "markdown",
   "id": "69df9c9a",
   "metadata": {
    "papermill": {
     "duration": 0.024634,
     "end_time": "2022-11-24T00:41:24.868130",
     "exception": false,
     "start_time": "2022-11-24T00:41:24.843496",
     "status": "completed"
    },
    "tags": []
   },
   "source": [
    "## Preparing the Data"
   ]
  },
  {
   "cell_type": "code",
   "execution_count": 4,
   "id": "7f69d806",
   "metadata": {
    "execution": {
     "iopub.execute_input": "2022-11-24T00:41:24.935017Z",
     "iopub.status.busy": "2022-11-24T00:41:24.929294Z",
     "iopub.status.idle": "2022-11-24T00:41:24.940693Z",
     "shell.execute_reply": "2022-11-24T00:41:24.941153Z"
    },
    "papermill": {
     "duration": 0.048666,
     "end_time": "2022-11-24T00:41:24.941301",
     "exception": false,
     "start_time": "2022-11-24T00:41:24.892635",
     "status": "completed"
    },
    "tags": []
   },
   "outputs": [],
   "source": [
    "import mnist"
   ]
  },
  {
   "cell_type": "code",
   "execution_count": 5,
   "id": "a411e44f",
   "metadata": {
    "execution": {
     "iopub.execute_input": "2022-11-24T00:41:25.006094Z",
     "iopub.status.busy": "2022-11-24T00:41:24.998040Z",
     "iopub.status.idle": "2022-11-24T00:41:25.488664Z",
     "shell.execute_reply": "2022-11-24T00:41:25.488077Z"
    },
    "papermill": {
     "duration": 0.523019,
     "end_time": "2022-11-24T00:41:25.488791",
     "exception": false,
     "start_time": "2022-11-24T00:41:24.965772",
     "status": "completed"
    },
    "tags": []
   },
   "outputs": [],
   "source": [
    "train_images = mnist.train_images()\n",
    "train_labels = mnist.train_labels()"
   ]
  },
  {
   "cell_type": "code",
   "execution_count": 6,
   "id": "dceab3a5",
   "metadata": {
    "execution": {
     "iopub.execute_input": "2022-11-24T00:41:25.560291Z",
     "iopub.status.busy": "2022-11-24T00:41:25.559656Z",
     "iopub.status.idle": "2022-11-24T00:41:25.566670Z",
     "shell.execute_reply": "2022-11-24T00:41:25.565536Z"
    },
    "papermill": {
     "duration": 0.0532,
     "end_time": "2022-11-24T00:41:25.566795",
     "exception": false,
     "start_time": "2022-11-24T00:41:25.513595",
     "status": "completed"
    },
    "tags": []
   },
   "outputs": [
    {
     "data": {
      "text/plain": [
       "((60000, 28, 28), (60000,))"
      ]
     },
     "execution_count": 6,
     "metadata": {},
     "output_type": "execute_result"
    }
   ],
   "source": [
    "train_images.shape, train_labels.shape"
   ]
  },
  {
   "cell_type": "code",
   "execution_count": 7,
   "id": "f50dc2bb",
   "metadata": {
    "execution": {
     "iopub.execute_input": "2022-11-24T00:41:25.621103Z",
     "iopub.status.busy": "2022-11-24T00:41:25.620502Z",
     "iopub.status.idle": "2022-11-24T00:41:25.744079Z",
     "shell.execute_reply": "2022-11-24T00:41:25.743450Z"
    },
    "papermill": {
     "duration": 0.152453,
     "end_time": "2022-11-24T00:41:25.744221",
     "exception": false,
     "start_time": "2022-11-24T00:41:25.591768",
     "status": "completed"
    },
    "tags": []
   },
   "outputs": [],
   "source": [
    "test_images = mnist.test_images()\n",
    "test_labels = mnist.test_labels()"
   ]
  },
  {
   "cell_type": "code",
   "execution_count": 8,
   "id": "fc38cf1b",
   "metadata": {
    "execution": {
     "iopub.execute_input": "2022-11-24T00:41:25.803575Z",
     "iopub.status.busy": "2022-11-24T00:41:25.802946Z",
     "iopub.status.idle": "2022-11-24T00:41:25.813479Z",
     "shell.execute_reply": "2022-11-24T00:41:25.814063Z"
    },
    "papermill": {
     "duration": 0.044249,
     "end_time": "2022-11-24T00:41:25.814210",
     "exception": false,
     "start_time": "2022-11-24T00:41:25.769961",
     "status": "completed"
    },
    "tags": []
   },
   "outputs": [
    {
     "data": {
      "text/plain": [
       "((10000, 28, 28), (10000,))"
      ]
     },
     "execution_count": 8,
     "metadata": {},
     "output_type": "execute_result"
    }
   ],
   "source": [
    "test_images.shape, test_labels.shape"
   ]
  },
  {
   "cell_type": "code",
   "execution_count": 9,
   "id": "f9ed8fe0",
   "metadata": {
    "execution": {
     "iopub.execute_input": "2022-11-24T00:41:25.868278Z",
     "iopub.status.busy": "2022-11-24T00:41:25.867682Z",
     "iopub.status.idle": "2022-11-24T00:41:26.007609Z",
     "shell.execute_reply": "2022-11-24T00:41:26.008114Z"
    },
    "papermill": {
     "duration": 0.169193,
     "end_time": "2022-11-24T00:41:26.008270",
     "exception": false,
     "start_time": "2022-11-24T00:41:25.839077",
     "status": "completed"
    },
    "tags": []
   },
   "outputs": [
    {
     "name": "stdout",
     "output_type": "stream",
     "text": [
      "2\n"
     ]
    },
    {
     "data": {
      "text/plain": [
       "<matplotlib.image.AxesImage at 0x7f7f53c30d68>"
      ]
     },
     "execution_count": 9,
     "metadata": {},
     "output_type": "execute_result"
    },
    {
     "data": {
      "image/png": "[encoded data removed]",
      "text/plain": [
       "<Figure size 432x288 with 1 Axes>"
      ]
     },
     "metadata": {
      "needs_background": "light"
     },
     "output_type": "display_data"
    }
   ],
   "source": [
    "image_index = 7776 # You may select anything up to 60,000\n",
    "print(train_labels[image_index]) \n",
    "plt.imshow(train_images[image_index], cmap='Greys')"
   ]
  },
  {
   "cell_type": "markdown",
   "id": "a8d2388d",
   "metadata": {
    "papermill": {
     "duration": 0.026198,
     "end_time": "2022-11-24T00:41:26.061854",
     "exception": false,
     "start_time": "2022-11-24T00:41:26.035656",
     "status": "completed"
    },
    "tags": []
   },
   "source": [
    "## Filter data to get 3 and 8 out"
   ]
  },
  {
   "cell_type": "code",
   "execution_count": 10,
   "id": "776f7fc7",
   "metadata": {
    "execution": {
     "iopub.execute_input": "2022-11-24T00:41:26.119427Z",
     "iopub.status.busy": "2022-11-24T00:41:26.118802Z",
     "iopub.status.idle": "2022-11-24T00:41:26.138764Z",
     "shell.execute_reply": "2022-11-24T00:41:26.139251Z"
    },
    "papermill": {
     "duration": 0.051454,
     "end_time": "2022-11-24T00:41:26.139412",
     "exception": false,
     "start_time": "2022-11-24T00:41:26.087958",
     "status": "completed"
    },
    "tags": []
   },
   "outputs": [],
   "source": [
    "train_filter = np.where((train_labels == 3 ) | (train_labels == 8))\n",
    "test_filter = np.where((test_labels == 3) | (test_labels == 8))\n",
    "X_train, y_train = train_images[train_filter], train_labels[train_filter]\n",
    "X_test, y_test = test_images[test_filter], test_labels[test_filter]"
   ]
  },
  {
   "cell_type": "markdown",
   "id": "948f0b7e",
   "metadata": {
    "papermill": {
     "duration": 0.026465,
     "end_time": "2022-11-24T00:41:26.192344",
     "exception": false,
     "start_time": "2022-11-24T00:41:26.165879",
     "status": "completed"
    },
    "tags": []
   },
   "source": [
    "We normalize the pizel values in the 0 to 1 range"
   ]
  },
  {
   "cell_type": "code",
   "execution_count": 11,
   "id": "ee4c2166",
   "metadata": {
    "execution": {
     "iopub.execute_input": "2022-11-24T00:41:26.252078Z",
     "iopub.status.busy": "2022-11-24T00:41:26.251433Z",
     "iopub.status.idle": "2022-11-24T00:41:26.302692Z",
     "shell.execute_reply": "2022-11-24T00:41:26.302091Z"
    },
    "papermill": {
     "duration": 0.083687,
     "end_time": "2022-11-24T00:41:26.302838",
     "exception": false,
     "start_time": "2022-11-24T00:41:26.219151",
     "status": "completed"
    },
    "tags": []
   },
   "outputs": [],
   "source": [
    "X_train = X_train/255.\n",
    "X_test = X_test/255."
   ]
  },
  {
   "cell_type": "markdown",
   "id": "ddcf4fab",
   "metadata": {
    "papermill": {
     "duration": 0.026265,
     "end_time": "2022-11-24T00:41:26.355861",
     "exception": false,
     "start_time": "2022-11-24T00:41:26.329596",
     "status": "completed"
    },
    "tags": []
   },
   "source": [
    "And setup the labels as 1 (when the digit is 3) and 0 (when the digit is 8)"
   ]
  },
  {
   "cell_type": "code",
   "execution_count": 12,
   "id": "7dc908f2",
   "metadata": {
    "execution": {
     "iopub.execute_input": "2022-11-24T00:41:26.412684Z",
     "iopub.status.busy": "2022-11-24T00:41:26.412080Z",
     "iopub.status.idle": "2022-11-24T00:41:26.425131Z",
     "shell.execute_reply": "2022-11-24T00:41:26.424644Z"
    },
    "papermill": {
     "duration": 0.043201,
     "end_time": "2022-11-24T00:41:26.425267",
     "exception": false,
     "start_time": "2022-11-24T00:41:26.382066",
     "status": "completed"
    },
    "tags": []
   },
   "outputs": [],
   "source": [
    "y_train = 1*(y_train==3)\n",
    "y_test = 1*(y_test==3)"
   ]
  },
  {
   "cell_type": "code",
   "execution_count": 13,
   "id": "01e4e969",
   "metadata": {
    "execution": {
     "iopub.execute_input": "2022-11-24T00:41:26.482527Z",
     "iopub.status.busy": "2022-11-24T00:41:26.481863Z",
     "iopub.status.idle": "2022-11-24T00:41:26.496029Z",
     "shell.execute_reply": "2022-11-24T00:41:26.496489Z"
    },
    "papermill": {
     "duration": 0.044948,
     "end_time": "2022-11-24T00:41:26.496637",
     "exception": false,
     "start_time": "2022-11-24T00:41:26.451689",
     "status": "completed"
    },
    "tags": []
   },
   "outputs": [
    {
     "data": {
      "text/plain": [
       "((11982, 28, 28), (1984, 28, 28))"
      ]
     },
     "execution_count": 13,
     "metadata": {},
     "output_type": "execute_result"
    }
   ],
   "source": [
    "X_train.shape, X_test.shape"
   ]
  },
  {
   "cell_type": "markdown",
   "id": "5ccf3f85",
   "metadata": {
    "papermill": {
     "duration": 0.026907,
     "end_time": "2022-11-24T00:41:26.550074",
     "exception": false,
     "start_time": "2022-11-24T00:41:26.523167",
     "status": "completed"
    },
    "tags": []
   },
   "source": [
    "We reshape the data to flatten the image pixels into a set of features or co-variates:"
   ]
  },
  {
   "cell_type": "code",
   "execution_count": 14,
   "id": "5286a4a3",
   "metadata": {
    "execution": {
     "iopub.execute_input": "2022-11-24T00:41:26.608872Z",
     "iopub.status.busy": "2022-11-24T00:41:26.608276Z",
     "iopub.status.idle": "2022-11-24T00:41:26.621492Z",
     "shell.execute_reply": "2022-11-24T00:41:26.621968Z"
    },
    "papermill": {
     "duration": 0.045282,
     "end_time": "2022-11-24T00:41:26.622119",
     "exception": false,
     "start_time": "2022-11-24T00:41:26.576837",
     "status": "completed"
    },
    "tags": []
   },
   "outputs": [
    {
     "data": {
      "text/plain": [
       "((11982, 784), (1984, 784))"
      ]
     },
     "execution_count": 14,
     "metadata": {},
     "output_type": "execute_result"
    }
   ],
   "source": [
    "X_train = X_train.reshape(X_train.shape[0], -1)\n",
    "X_test = X_test.reshape(X_test.shape[0], -1)\n",
    "X_train.shape, X_test.shape"
   ]
  },
  {
   "cell_type": "code",
   "execution_count": 15,
   "id": "73c5f88a",
   "metadata": {
    "execution": {
     "iopub.execute_input": "2022-11-24T00:41:26.680083Z",
     "iopub.status.busy": "2022-11-24T00:41:26.679466Z",
     "iopub.status.idle": "2022-11-24T00:41:26.700826Z",
     "shell.execute_reply": "2022-11-24T00:41:26.700274Z"
    },
    "papermill": {
     "duration": 0.05228,
     "end_time": "2022-11-24T00:41:26.700966",
     "exception": false,
     "start_time": "2022-11-24T00:41:26.648686",
     "status": "completed"
    },
    "tags": []
   },
   "outputs": [],
   "source": [
    "#Impoting functions from 'Kudzu'\n",
    "from kudzu.model import Model\n",
    "from kudzu.train import Learner\n",
    "from kudzu.optim import GD\n",
    "from kudzu.data import Data, Sampler,Dataloader\n",
    "\n",
    "from kudzu.callbacks import AccCallback\n",
    "from kudzu.callbacks import ClfCallback\n",
    "\n",
    "from kudzu.loss import MSE\n",
    "\n",
    "from kudzu.layer import Sigmoid,Relu\n",
    "from kudzu.layer import Affine"
   ]
  },
  {
   "cell_type": "markdown",
   "id": "bc01172a",
   "metadata": {
    "papermill": {
     "duration": 0.026431,
     "end_time": "2022-11-24T00:41:26.755057",
     "exception": false,
     "start_time": "2022-11-24T00:41:26.728626",
     "status": "completed"
    },
    "tags": []
   },
   "source": [
    "### Let us create a `Config` class, to store important parameters. \n",
    "This class essentially plays the role of a dictionary."
   ]
  },
  {
   "cell_type": "code",
   "execution_count": 16,
   "id": "978281aa",
   "metadata": {
    "execution": {
     "iopub.execute_input": "2022-11-24T00:41:26.821665Z",
     "iopub.status.busy": "2022-11-24T00:41:26.821036Z",
     "iopub.status.idle": "2022-11-24T00:41:26.828273Z",
     "shell.execute_reply": "2022-11-24T00:41:26.828746Z"
    },
    "papermill": {
     "duration": 0.047287,
     "end_time": "2022-11-24T00:41:26.828894",
     "exception": false,
     "start_time": "2022-11-24T00:41:26.781607",
     "status": "completed"
    },
    "tags": []
   },
   "outputs": [],
   "source": [
    "class Config:\n",
    "    pass\n",
    "config = Config()\n",
    "config.lr = 0.001\n",
    "config.num_epochs = 250\n",
    "config.bs = 50"
   ]
  },
  {
   "cell_type": "markdown",
   "id": "1385fa59",
   "metadata": {
    "papermill": {
     "duration": 0.026525,
     "end_time": "2022-11-24T00:41:26.882218",
     "exception": false,
     "start_time": "2022-11-24T00:41:26.855693",
     "status": "completed"
    },
    "tags": []
   },
   "source": [
    "### Running Models with the Training data\n",
    "Details about the network layers:\n",
    "- A first affine layer has 784 inputs and does 100 affine transforms. These are followed by a Relu\n",
    "- A second affine layer has 100 inputs from the 100 activations of the past layer, and does 100 affine transforms. These are followed by a Relu\n",
    "- A third affine layer has 100 activations and does 2 affine transformations to create an embedding for visualization. There is no non-linearity here.\n",
    "- A final \"logistic regression\" which has an affine transform from 2 inputs to 1 output, which is squeezed through a sigmoid.\n"
   ]
  },
  {
   "cell_type": "code",
   "execution_count": 17,
   "id": "2b9c66db",
   "metadata": {
    "execution": {
     "iopub.execute_input": "2022-11-24T00:41:26.944761Z",
     "iopub.status.busy": "2022-11-24T00:41:26.944131Z",
     "iopub.status.idle": "2022-11-24T00:41:26.956919Z",
     "shell.execute_reply": "2022-11-24T00:41:26.956415Z"
    },
    "papermill": {
     "duration": 0.048256,
     "end_time": "2022-11-24T00:41:26.957040",
     "exception": false,
     "start_time": "2022-11-24T00:41:26.908784",
     "status": "completed"
    },
    "tags": []
   },
   "outputs": [],
   "source": [
    "data = Data(X_train, y_train.reshape(-1,1))\n",
    "sampler = Sampler(data, config.bs, shuffle=True)\n",
    "\n",
    "dl = Dataloader(data, sampler)\n",
    "\n",
    "opt = GD(config.lr)\n",
    "loss = MSE()"
   ]
  },
  {
   "cell_type": "code",
   "execution_count": 18,
   "id": "b275e4c2",
   "metadata": {
    "execution": {
     "iopub.execute_input": "2022-11-24T00:41:27.016341Z",
     "iopub.status.busy": "2022-11-24T00:41:27.015716Z",
     "iopub.status.idle": "2022-11-24T00:41:27.028672Z",
     "shell.execute_reply": "2022-11-24T00:41:27.028176Z"
    },
    "papermill": {
     "duration": 0.044774,
     "end_time": "2022-11-24T00:41:27.028794",
     "exception": false,
     "start_time": "2022-11-24T00:41:26.984020",
     "status": "completed"
    },
    "tags": []
   },
   "outputs": [],
   "source": [
    "training_data_x = X_train\n",
    "testing_data_x = X_test\n",
    "training_data_y = y_train.reshape(-1,1)\n",
    "testing_data_y = y_test.reshape(-1,1)"
   ]
  },
  {
   "cell_type": "code",
   "execution_count": 19,
   "id": "76951160",
   "metadata": {
    "execution": {
     "iopub.execute_input": "2022-11-24T00:41:27.087781Z",
     "iopub.status.busy": "2022-11-24T00:41:27.087157Z",
     "iopub.status.idle": "2022-11-24T00:41:27.103471Z",
     "shell.execute_reply": "2022-11-24T00:41:27.103925Z"
    },
    "papermill": {
     "duration": 0.048487,
     "end_time": "2022-11-24T00:41:27.104071",
     "exception": false,
     "start_time": "2022-11-24T00:41:27.055584",
     "status": "completed"
    },
    "tags": []
   },
   "outputs": [
    {
     "name": "stdout",
     "output_type": "stream",
     "text": [
      "xavier\n",
      "xavier\n",
      "xavier\n",
      "xavier\n",
      "xavier\n"
     ]
    }
   ],
   "source": [
    "layers = [Affine(\"first\", 784, 100), Relu(\"first\"), Affine(\"second\", 100, 100), Relu(\"second\"), Affine(\"third\", 100, 2), Affine(\"last\", 2, 1), Sigmoid(\"last\")]\n",
    "model_nn = Model(layers)\n",
    "model_lr = Model([Affine(\"logits\", 784, 1), Sigmoid(\"sigmoid\")])"
   ]
  },
  {
   "cell_type": "code",
   "execution_count": 20,
   "id": "6eede77a",
   "metadata": {
    "execution": {
     "iopub.execute_input": "2022-11-24T00:41:27.176105Z",
     "iopub.status.busy": "2022-11-24T00:41:27.170901Z",
     "iopub.status.idle": "2022-11-24T00:41:27.178933Z",
     "shell.execute_reply": "2022-11-24T00:41:27.178335Z"
    },
    "papermill": {
     "duration": 0.047865,
     "end_time": "2022-11-24T00:41:27.179061",
     "exception": false,
     "start_time": "2022-11-24T00:41:27.131196",
     "status": "completed"
    },
    "tags": []
   },
   "outputs": [],
   "source": [
    "nn_learner = Learner(loss, model_nn, opt, config.num_epochs)\n",
    "acc_nn = ClfCallback(nn_learner, config.bs, training_data_x , testing_data_x, training_data_y, testing_data_y)\n",
    "nn_learner.set_callbacks([acc_nn])"
   ]
  },
  {
   "cell_type": "code",
   "execution_count": 21,
   "id": "877b6cc7",
   "metadata": {
    "execution": {
     "iopub.execute_input": "2022-11-24T00:41:27.247731Z",
     "iopub.status.busy": "2022-11-24T00:41:27.247093Z",
     "iopub.status.idle": "2022-11-24T00:41:27.251051Z",
     "shell.execute_reply": "2022-11-24T00:41:27.250554Z"
    },
    "papermill": {
     "duration": 0.045047,
     "end_time": "2022-11-24T00:41:27.251174",
     "exception": false,
     "start_time": "2022-11-24T00:41:27.206127",
     "status": "completed"
    },
    "tags": []
   },
   "outputs": [],
   "source": [
    "lr_learner = Learner(loss, model_lr, opt, config.num_epochs)\n",
    "acc_lr = ClfCallback(lr_learner, config.bs, training_data_x , testing_data_x, training_data_y, testing_data_y)\n",
    "lr_learner.set_callbacks([acc_lr])"
   ]
  },
  {
   "cell_type": "code",
   "execution_count": 22,
   "id": "d9b133c3",
   "metadata": {
    "execution": {
     "iopub.execute_input": "2022-11-24T00:41:27.319085Z",
     "iopub.status.busy": "2022-11-24T00:41:27.309859Z",
     "iopub.status.idle": "2022-11-24T00:42:47.284954Z",
     "shell.execute_reply": "2022-11-24T00:42:47.285526Z"
    },
    "papermill": {
     "duration": 80.007494,
     "end_time": "2022-11-24T00:42:47.285679",
     "exception": false,
     "start_time": "2022-11-24T00:41:27.278185",
     "status": "completed"
    },
    "tags": []
   },
   "outputs": [
    {
     "name": "stdout",
     "output_type": "stream",
     "text": [
      "Epoch 0, Loss 0.2357\n",
      "Training Accuracy: 0.5926, Testing Accuracy: 0.5932\n",
      "\n"
     ]
    },
    {
     "name": "stdout",
     "output_type": "stream",
     "text": [
      "Epoch 10, Loss 0.1002\n",
      "Training Accuracy: 0.9064, Testing Accuracy: 0.9133\n",
      "\n"
     ]
    },
    {
     "name": "stdout",
     "output_type": "stream",
     "text": [
      "Epoch 20, Loss 0.0603\n",
      "Training Accuracy: 0.9352, Testing Accuracy: 0.9446\n",
      "\n"
     ]
    },
    {
     "name": "stdout",
     "output_type": "stream",
     "text": [
      "Epoch 30, Loss 0.046\n",
      "Training Accuracy: 0.9481, Testing Accuracy: 0.9541\n",
      "\n"
     ]
    },
    {
     "name": "stdout",
     "output_type": "stream",
     "text": [
      "Epoch 40, Loss 0.0393\n",
      "Training Accuracy: 0.9554, Testing Accuracy: 0.9607\n",
      "\n"
     ]
    },
    {
     "name": "stdout",
     "output_type": "stream",
     "text": [
      "Epoch 50, Loss 0.0354\n",
      "Training Accuracy: 0.9596, Testing Accuracy: 0.9642\n",
      "\n"
     ]
    },
    {
     "name": "stdout",
     "output_type": "stream",
     "text": [
      "Epoch 60, Loss 0.0329\n",
      "Training Accuracy: 0.9629, Testing Accuracy: 0.9667\n",
      "\n"
     ]
    },
    {
     "name": "stdout",
     "output_type": "stream",
     "text": [
      "Epoch 70, Loss 0.031\n",
      "Training Accuracy: 0.9641, Testing Accuracy: 0.9677\n",
      "\n"
     ]
    },
    {
     "name": "stdout",
     "output_type": "stream",
     "text": [
      "Epoch 80, Loss 0.0295\n",
      "Training Accuracy: 0.9654, Testing Accuracy: 0.9677\n",
      "\n"
     ]
    },
    {
     "name": "stdout",
     "output_type": "stream",
     "text": [
      "Epoch 90, Loss 0.0282\n",
      "Training Accuracy: 0.9664, Testing Accuracy: 0.9688\n",
      "\n"
     ]
    },
    {
     "name": "stdout",
     "output_type": "stream",
     "text": [
      "Epoch 100, Loss 0.0272\n",
      "Training Accuracy: 0.9680, Testing Accuracy: 0.9693\n",
      "\n"
     ]
    },
    {
     "name": "stdout",
     "output_type": "stream",
     "text": [
      "Epoch 110, Loss 0.0263\n",
      "Training Accuracy: 0.9696, Testing Accuracy: 0.9693\n",
      "\n"
     ]
    },
    {
     "name": "stdout",
     "output_type": "stream",
     "text": [
      "Epoch 120, Loss 0.0255\n",
      "Training Accuracy: 0.9706, Testing Accuracy: 0.9703\n",
      "\n"
     ]
    },
    {
     "name": "stdout",
     "output_type": "stream",
     "text": [
      "Epoch 130, Loss 0.0248\n",
      "Training Accuracy: 0.9715, Testing Accuracy: 0.9698\n",
      "\n"
     ]
    },
    {
     "name": "stdout",
     "output_type": "stream",
     "text": [
      "Epoch 140, Loss 0.0241\n",
      "Training Accuracy: 0.9725, Testing Accuracy: 0.9698\n",
      "\n"
     ]
    },
    {
     "name": "stdout",
     "output_type": "stream",
     "text": [
      "Epoch 150, Loss 0.0235\n",
      "Training Accuracy: 0.9730, Testing Accuracy: 0.9703\n",
      "\n"
     ]
    },
    {
     "name": "stdout",
     "output_type": "stream",
     "text": [
      "Epoch 160, Loss 0.0229\n",
      "Training Accuracy: 0.9737, Testing Accuracy: 0.9708\n",
      "\n"
     ]
    },
    {
     "name": "stdout",
     "output_type": "stream",
     "text": [
      "Epoch 170, Loss 0.0224\n",
      "Training Accuracy: 0.9743, Testing Accuracy: 0.9703\n",
      "\n"
     ]
    },
    {
     "name": "stdout",
     "output_type": "stream",
     "text": [
      "Epoch 180, Loss 0.0219\n",
      "Training Accuracy: 0.9745, Testing Accuracy: 0.9708\n",
      "\n"
     ]
    },
    {
     "name": "stdout",
     "output_type": "stream",
     "text": [
      "Epoch 190, Loss 0.0214\n",
      "Training Accuracy: 0.9751, Testing Accuracy: 0.9708\n",
      "\n"
     ]
    },
    {
     "name": "stdout",
     "output_type": "stream",
     "text": [
      "Epoch 200, Loss 0.0209\n",
      "Training Accuracy: 0.9753, Testing Accuracy: 0.9708\n",
      "\n"
     ]
    },
    {
     "name": "stdout",
     "output_type": "stream",
     "text": [
      "Epoch 210, Loss 0.0205\n",
      "Training Accuracy: 0.9762, Testing Accuracy: 0.9703\n",
      "\n"
     ]
    },
    {
     "name": "stdout",
     "output_type": "stream",
     "text": [
      "Epoch 220, Loss 0.0201\n",
      "Training Accuracy: 0.9768, Testing Accuracy: 0.9708\n",
      "\n"
     ]
    },
    {
     "name": "stdout",
     "output_type": "stream",
     "text": [
      "Epoch 230, Loss 0.0197\n",
      "Training Accuracy: 0.9774, Testing Accuracy: 0.9703\n",
      "\n"
     ]
    },
    {
     "name": "stdout",
     "output_type": "stream",
     "text": [
      "Epoch 240, Loss 0.0193\n",
      "Training Accuracy: 0.9780, Testing Accuracy: 0.9713\n",
      "\n"
     ]
    },
    {
     "data": {
      "text/plain": [
       "0.011428775567386255"
      ]
     },
     "execution_count": 22,
     "metadata": {},
     "output_type": "execute_result"
    }
   ],
   "source": [
    "nn_learner.train_loop(dl)"
   ]
  },
  {
   "cell_type": "code",
   "execution_count": 23,
   "id": "e0163366",
   "metadata": {
    "execution": {
     "iopub.execute_input": "2022-11-24T00:42:47.363718Z",
     "iopub.status.busy": "2022-11-24T00:42:47.363096Z",
     "iopub.status.idle": "2022-11-24T00:43:01.677226Z",
     "shell.execute_reply": "2022-11-24T00:43:01.678148Z"
    },
    "papermill": {
     "duration": 14.35794,
     "end_time": "2022-11-24T00:43:01.678314",
     "exception": false,
     "start_time": "2022-11-24T00:42:47.320374",
     "status": "completed"
    },
    "tags": []
   },
   "outputs": [
    {
     "name": "stdout",
     "output_type": "stream",
     "text": [
      "Epoch 0, Loss 0.2768\n",
      "Training Accuracy: 0.5463, Testing Accuracy: 0.5580\n",
      "\n"
     ]
    },
    {
     "name": "stdout",
     "output_type": "stream",
     "text": [
      "Epoch 10, Loss 0.1039\n",
      "Training Accuracy: 0.9094, Testing Accuracy: 0.9249\n",
      "\n"
     ]
    },
    {
     "name": "stdout",
     "output_type": "stream",
     "text": [
      "Epoch 20, Loss 0.0794\n",
      "Training Accuracy: 0.9257, Testing Accuracy: 0.9365\n",
      "\n"
     ]
    },
    {
     "name": "stdout",
     "output_type": "stream",
     "text": [
      "Epoch 30, Loss 0.0685\n",
      "Training Accuracy: 0.9330, Testing Accuracy: 0.9456\n",
      "\n"
     ]
    },
    {
     "name": "stdout",
     "output_type": "stream",
     "text": [
      "Epoch 40, Loss 0.062\n",
      "Training Accuracy: 0.9387, Testing Accuracy: 0.9471\n",
      "\n"
     ]
    },
    {
     "name": "stdout",
     "output_type": "stream",
     "text": [
      "Epoch 50, Loss 0.0575\n",
      "Training Accuracy: 0.9427, Testing Accuracy: 0.9501\n",
      "\n"
     ]
    },
    {
     "name": "stdout",
     "output_type": "stream",
     "text": [
      "Epoch 60, Loss 0.0542\n",
      "Training Accuracy: 0.9458, Testing Accuracy: 0.9541\n",
      "\n"
     ]
    },
    {
     "name": "stdout",
     "output_type": "stream",
     "text": [
      "Epoch 70, Loss 0.0516\n",
      "Training Accuracy: 0.9476, Testing Accuracy: 0.9577\n",
      "\n"
     ]
    },
    {
     "name": "stdout",
     "output_type": "stream",
     "text": [
      "Epoch 80, Loss 0.0496\n",
      "Training Accuracy: 0.9501, Testing Accuracy: 0.9577\n",
      "\n"
     ]
    },
    {
     "name": "stdout",
     "output_type": "stream",
     "text": [
      "Epoch 90, Loss 0.0479\n",
      "Training Accuracy: 0.9519, Testing Accuracy: 0.9577\n",
      "\n"
     ]
    },
    {
     "name": "stdout",
     "output_type": "stream",
     "text": [
      "Epoch 100, Loss 0.0465\n",
      "Training Accuracy: 0.9531, Testing Accuracy: 0.9597\n",
      "\n"
     ]
    },
    {
     "name": "stdout",
     "output_type": "stream",
     "text": [
      "Epoch 110, Loss 0.0452\n",
      "Training Accuracy: 0.9540, Testing Accuracy: 0.9612\n",
      "\n"
     ]
    },
    {
     "name": "stdout",
     "output_type": "stream",
     "text": [
      "Epoch 120, Loss 0.0442\n",
      "Training Accuracy: 0.9542, Testing Accuracy: 0.9617\n",
      "\n"
     ]
    },
    {
     "name": "stdout",
     "output_type": "stream",
     "text": [
      "Epoch 130, Loss 0.0432\n",
      "Training Accuracy: 0.9553, Testing Accuracy: 0.9622\n",
      "\n"
     ]
    },
    {
     "name": "stdout",
     "output_type": "stream",
     "text": [
      "Epoch 140, Loss 0.0424\n",
      "Training Accuracy: 0.9559, Testing Accuracy: 0.9642\n",
      "\n"
     ]
    },
    {
     "name": "stdout",
     "output_type": "stream",
     "text": [
      "Epoch 150, Loss 0.0416\n",
      "Training Accuracy: 0.9566, Testing Accuracy: 0.9647\n",
      "\n"
     ]
    },
    {
     "name": "stdout",
     "output_type": "stream",
     "text": [
      "Epoch 160, Loss 0.041\n",
      "Training Accuracy: 0.9571, Testing Accuracy: 0.9647\n",
      "\n"
     ]
    },
    {
     "name": "stdout",
     "output_type": "stream",
     "text": [
      "Epoch 170, Loss 0.0403\n",
      "Training Accuracy: 0.9575, Testing Accuracy: 0.9647\n",
      "\n"
     ]
    },
    {
     "name": "stdout",
     "output_type": "stream",
     "text": [
      "Epoch 180, Loss 0.0398\n",
      "Training Accuracy: 0.9579, Testing Accuracy: 0.9647\n",
      "\n"
     ]
    },
    {
     "name": "stdout",
     "output_type": "stream",
     "text": [
      "Epoch 190, Loss 0.0392\n",
      "Training Accuracy: 0.9582, Testing Accuracy: 0.9667\n",
      "\n"
     ]
    },
    {
     "name": "stdout",
     "output_type": "stream",
     "text": [
      "Epoch 200, Loss 0.0388\n",
      "Training Accuracy: 0.9588, Testing Accuracy: 0.9672\n",
      "\n"
     ]
    },
    {
     "name": "stdout",
     "output_type": "stream",
     "text": [
      "Epoch 210, Loss 0.0383\n",
      "Training Accuracy: 0.9591, Testing Accuracy: 0.9682\n",
      "\n"
     ]
    },
    {
     "name": "stdout",
     "output_type": "stream",
     "text": [
      "Epoch 220, Loss 0.0379\n",
      "Training Accuracy: 0.9595, Testing Accuracy: 0.9682\n",
      "\n"
     ]
    },
    {
     "name": "stdout",
     "output_type": "stream",
     "text": [
      "Epoch 230, Loss 0.0375\n",
      "Training Accuracy: 0.9597, Testing Accuracy: 0.9677\n",
      "\n"
     ]
    },
    {
     "name": "stdout",
     "output_type": "stream",
     "text": [
      "Epoch 240, Loss 0.0371\n",
      "Training Accuracy: 0.9600, Testing Accuracy: 0.9677\n",
      "\n"
     ]
    },
    {
     "data": {
      "text/plain": [
       "0.03891666445461012"
      ]
     },
     "execution_count": 23,
     "metadata": {},
     "output_type": "execute_result"
    }
   ],
   "source": [
    "lr_learner.train_loop(dl)"
   ]
  },
  {
   "cell_type": "code",
   "execution_count": 24,
   "id": "ca410940",
   "metadata": {
    "execution": {
     "iopub.execute_input": "2022-11-24T00:43:01.775657Z",
     "iopub.status.busy": "2022-11-24T00:43:01.775015Z",
     "iopub.status.idle": "2022-11-24T00:43:01.993252Z",
     "shell.execute_reply": "2022-11-24T00:43:01.993746Z"
    },
    "papermill": {
     "duration": 0.274164,
     "end_time": "2022-11-24T00:43:01.993925",
     "exception": false,
     "start_time": "2022-11-24T00:43:01.719761",
     "status": "completed"
    },
    "tags": []
   },
   "outputs": [
    {
     "data": {
      "text/plain": [
       "<matplotlib.legend.Legend at 0x7f7f5379e4e0>"
      ]
     },
     "execution_count": 24,
     "metadata": {},
     "output_type": "execute_result"
    },
    {
     "data": {
      "image/png": "[encoded data removed]",
      "text/plain": [
       "<Figure size 1080x720 with 1 Axes>"
      ]
     },
     "metadata": {
      "needs_background": "light"
     },
     "output_type": "display_data"
    }
   ],
   "source": [
    "#comparing the results of NN and LR\n",
    "plt.figure(figsize=(15,10))\n",
    "\n",
    "# Neural Network plots\n",
    "plt.plot(acc_nn.accuracies, 'r-', label = \"Training Accuracies - NN\")\n",
    "plt.plot(acc_nn.test_accuracies, 'g-', label = \"Testing Accuracies - NN\")\n",
    "\n",
    "# Logistic Regression plots\n",
    "plt.plot(acc_lr.accuracies, 'k-', label = \"Training Accuracies - LR\")\n",
    "plt.plot(acc_lr.test_accuracies, 'b-', label = \"Testing Accuracies - LR\")\n",
    "plt.legend()"
   ]
  },
  {
   "cell_type": "markdown",
   "id": "80dfb35c",
   "metadata": {
    "papermill": {
     "duration": 0.041567,
     "end_time": "2022-11-24T00:43:02.077662",
     "exception": false,
     "start_time": "2022-11-24T00:43:02.036095",
     "status": "completed"
    },
    "tags": []
   },
   "source": [
    "#### Plotting the outputs of this layer of the NN.\n"
   ]
  },
  {
   "cell_type": "code",
   "execution_count": 25,
   "id": "45eb2ff5",
   "metadata": {
    "execution": {
     "iopub.execute_input": "2022-11-24T00:43:02.166629Z",
     "iopub.status.busy": "2022-11-24T00:43:02.165978Z",
     "iopub.status.idle": "2022-11-24T00:43:02.188561Z",
     "shell.execute_reply": "2022-11-24T00:43:02.188002Z"
    },
    "papermill": {
     "duration": 0.069262,
     "end_time": "2022-11-24T00:43:02.188696",
     "exception": false,
     "start_time": "2022-11-24T00:43:02.119434",
     "status": "completed"
    },
    "tags": []
   },
   "outputs": [],
   "source": [
    "new_model = Model(layers[:-2])\n",
    "testing_plot = new_model(testing_data_x)"
   ]
  },
  {
   "cell_type": "code",
   "execution_count": 26,
   "id": "4c0a5485",
   "metadata": {
    "execution": {
     "iopub.execute_input": "2022-11-24T00:43:02.279031Z",
     "iopub.status.busy": "2022-11-24T00:43:02.278393Z",
     "iopub.status.idle": "2022-11-24T00:43:02.493527Z",
     "shell.execute_reply": "2022-11-24T00:43:02.493029Z"
    },
    "papermill": {
     "duration": 0.262083,
     "end_time": "2022-11-24T00:43:02.493662",
     "exception": false,
     "start_time": "2022-11-24T00:43:02.231579",
     "status": "completed"
    },
    "tags": []
   },
   "outputs": [
    {
     "data": {
      "text/plain": [
       "Text(0.5, 1.0, 'Outputs')"
      ]
     },
     "execution_count": 26,
     "metadata": {},
     "output_type": "execute_result"
    },
    {
     "data": {
      "image/png": "[encoded data removed]",
      "text/plain": [
       "<Figure size 576x504 with 1 Axes>"
      ]
     },
     "metadata": {
      "needs_background": "light"
     },
     "output_type": "display_data"
    }
   ],
   "source": [
    "# Plotting the scatter plot of points and color coding by class\n",
    "plt.figure(figsize=(8,7))\n",
    "plt.scatter(testing_plot[:,0], testing_plot[:,1], alpha = 0.1, c = y_test.ravel());\n",
    "plt.title('Outputs')"
   ]
  },
  {
   "cell_type": "markdown",
   "id": "a74fcf8f",
   "metadata": {
    "papermill": {
     "duration": 0.044427,
     "end_time": "2022-11-24T00:43:02.582585",
     "exception": false,
     "start_time": "2022-11-24T00:43:02.538158",
     "status": "completed"
    },
    "tags": []
   },
   "source": [
    "Probability contours"
   ]
  },
  {
   "cell_type": "code",
   "execution_count": 27,
   "id": "d0afc8e3",
   "metadata": {
    "execution": {
     "iopub.execute_input": "2022-11-24T00:43:02.683021Z",
     "iopub.status.busy": "2022-11-24T00:43:02.682368Z",
     "iopub.status.idle": "2022-11-24T00:43:02.692011Z",
     "shell.execute_reply": "2022-11-24T00:43:02.691477Z"
    },
    "papermill": {
     "duration": 0.064208,
     "end_time": "2022-11-24T00:43:02.692145",
     "exception": false,
     "start_time": "2022-11-24T00:43:02.627937",
     "status": "completed"
    },
    "tags": []
   },
   "outputs": [],
   "source": [
    "model_prob = Model(layers[-2:]) "
   ]
  },
  {
   "cell_type": "code",
   "execution_count": 28,
   "id": "9b96e238",
   "metadata": {
    "execution": {
     "iopub.execute_input": "2022-11-24T00:43:02.787286Z",
     "iopub.status.busy": "2022-11-24T00:43:02.786618Z",
     "iopub.status.idle": "2022-11-24T00:43:02.801849Z",
     "shell.execute_reply": "2022-11-24T00:43:02.801352Z"
    },
    "papermill": {
     "duration": 0.065765,
     "end_time": "2022-11-24T00:43:02.802008",
     "exception": false,
     "start_time": "2022-11-24T00:43:02.736243",
     "status": "completed"
    },
    "tags": []
   },
   "outputs": [],
   "source": [
    "#creating the x and y ranges according to the above generated plot.\n",
    "x_range = np.linspace(-4, 1, 100) \n",
    "y_range = np.linspace(-6, 6, 100) \n",
    "x_grid, y_grid = np.meshgrid(x_range, y_range) # x_grid and y_grig are of size 100 X 100\n",
    "\n",
    "# converting x_grid and y_grid to continuous arrays\n",
    "x_gridflat = np.ravel(x_grid)\n",
    "y_gridflat = np.ravel(y_grid)\n",
    "\n",
    "# The last layer of the current model takes two columns as input. Hence transpose of np.vstack() is required.\n",
    "X = np.vstack((x_gridflat, y_gridflat)).T\n",
    "\n",
    "prob_contour = model_prob(X).reshape(100,100) "
   ]
  },
  {
   "cell_type": "code",
   "execution_count": 29,
   "id": "da72499a",
   "metadata": {
    "execution": {
     "iopub.execute_input": "2022-11-24T00:43:02.930986Z",
     "iopub.status.busy": "2022-11-24T00:43:02.930366Z",
     "iopub.status.idle": "2022-11-24T00:43:03.193356Z",
     "shell.execute_reply": "2022-11-24T00:43:03.192534Z"
    },
    "papermill": {
     "duration": 0.312117,
     "end_time": "2022-11-24T00:43:03.193489",
     "exception": false,
     "start_time": "2022-11-24T00:43:02.881372",
     "status": "completed"
    },
    "tags": []
   },
   "outputs": [
    {
     "data": {
      "image/png": "[encoded data removed]",
      "text/plain": [
       "<Figure size 720x648 with 1 Axes>"
      ]
     },
     "metadata": {
      "needs_background": "light"
     },
     "output_type": "display_data"
    }
   ],
   "source": [
    "plt.figure(figsize=(10,9))\n",
    "plt.scatter(testing_plot[:,0], testing_plot[:,1], alpha = 0.1, c = y_test.ravel())\n",
    "contours = plt.contour(x_grid,y_grid,prob_contour)\n",
    "plt.title('Probability Contours')\n",
    "plt.clabel(contours, inline = True );"
   ]
  },
  {
   "cell_type": "code",
   "execution_count": null,
   "id": "e81b4ac7",
   "metadata": {
    "papermill": {
     "duration": 0.046818,
     "end_time": "2022-11-24T00:43:03.287605",
     "exception": false,
     "start_time": "2022-11-24T00:43:03.240787",
     "status": "completed"
    },
    "tags": []
   },
   "outputs": [],
   "source": []
  }
 ],
 "metadata": {
  "kernelspec": {
   "display_name": "Python 3",
   "language": "python",
   "name": "python3"
  },
  "language_info": {
   "codemirror_mode": {
    "name": "ipython",
    "version": 3
   },
   "file_extension": ".py",
   "mimetype": "text/x-python",
   "name": "python",
   "nbconvert_exporter": "python",
   "pygments_lexer": "ipython3",
   "version": "3.6.15"
  },
  "papermill": {
   "default_parameters": {},
   "duration": 102.493658,
   "end_time": "2022-11-24T00:43:03.753435",
   "environment_variables": {},
   "exception": null,
   "input_path": "2020-08-11-part2.ipynb",
   "output_path": "2020-08-11-part2.ipynb",
   "parameters": {},
   "start_time": "2022-11-24T00:41:21.259777",
   "version": "2.3.3"
  }
 },
 "nbformat": 4,
 "nbformat_minor": 5
}