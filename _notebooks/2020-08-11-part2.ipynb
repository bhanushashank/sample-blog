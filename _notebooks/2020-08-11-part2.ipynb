{
 "cells": [
  {
   "cell_type": "markdown",
   "id": "98380cd3",
   "metadata": {
    "papermill": {
     "duration": 0.03803,
     "end_time": "2022-03-15T00:31:01.924494",
     "exception": false,
     "start_time": "2022-03-15T00:31:01.886464",
     "status": "completed"
    },
    "tags": []
   },
   "source": [
    "# Distinguish Your Own Digits (DYOD)"
   ]
  },
  {
   "cell_type": "markdown",
   "id": "ef31240d",
   "metadata": {
    "papermill": {
     "duration": 0.028678,
     "end_time": "2022-03-15T00:31:01.981304",
     "exception": false,
     "start_time": "2022-03-15T00:31:01.952626",
     "status": "completed"
    },
    "tags": []
   },
   "source": [
    "You are going to write a classifier that distinguishes between the number 3 and number 8."
   ]
  },
  {
   "cell_type": "code",
   "execution_count": 1,
   "id": "b15c8646",
   "metadata": {
    "execution": {
     "iopub.execute_input": "2022-03-15T00:31:02.047076Z",
     "iopub.status.busy": "2022-03-15T00:31:02.046336Z",
     "iopub.status.idle": "2022-03-15T00:31:02.058673Z",
     "shell.execute_reply": "2022-03-15T00:31:02.058122Z"
    },
    "papermill": {
     "duration": 0.050428,
     "end_time": "2022-03-15T00:31:02.058837",
     "exception": false,
     "start_time": "2022-03-15T00:31:02.008409",
     "status": "completed"
    },
    "tags": []
   },
   "outputs": [],
   "source": [
    "%load_ext autoreload\n",
    "%autoreload 2"
   ]
  },
  {
   "cell_type": "code",
   "execution_count": 2,
   "id": "22ef38dc",
   "metadata": {
    "execution": {
     "iopub.execute_input": "2022-03-15T00:31:02.121440Z",
     "iopub.status.busy": "2022-03-15T00:31:02.120664Z",
     "iopub.status.idle": "2022-03-15T00:31:02.827474Z",
     "shell.execute_reply": "2022-03-15T00:31:02.827990Z"
    },
    "papermill": {
     "duration": 0.742022,
     "end_time": "2022-03-15T00:31:02.828155",
     "exception": false,
     "start_time": "2022-03-15T00:31:02.086133",
     "status": "completed"
    },
    "tags": []
   },
   "outputs": [],
   "source": [
    "%matplotlib inline\n",
    "import numpy as np\n",
    "import matplotlib.pyplot as plt\n",
    "import pandas as pd"
   ]
  },
  {
   "cell_type": "markdown",
   "id": "ba036198",
   "metadata": {
    "papermill": {
     "duration": 0.027324,
     "end_time": "2022-03-15T00:31:02.882886",
     "exception": false,
     "start_time": "2022-03-15T00:31:02.855562",
     "status": "completed"
    },
    "tags": []
   },
   "source": [
    "From the command line run `pip install mnist`. This is a library that will help you bring down the mnist dataset. If you run this from a notebook, you need to put  `!pip install mnist` in a cell by itself."
   ]
  },
  {
   "cell_type": "code",
   "execution_count": 3,
   "id": "bb6ad8a1",
   "metadata": {
    "execution": {
     "iopub.execute_input": "2022-03-15T00:31:02.942781Z",
     "iopub.status.busy": "2022-03-15T00:31:02.942124Z",
     "iopub.status.idle": "2022-03-15T00:31:04.922734Z",
     "shell.execute_reply": "2022-03-15T00:31:04.921550Z"
    },
    "papermill": {
     "duration": 2.012897,
     "end_time": "2022-03-15T00:31:04.922985",
     "exception": false,
     "start_time": "2022-03-15T00:31:02.910088",
     "status": "completed"
    },
    "tags": []
   },
   "outputs": [
    {
     "name": "stdout",
     "output_type": "stream",
     "text": [
      "Collecting mnist\r\n"
     ]
    },
    {
     "name": "stdout",
     "output_type": "stream",
     "text": [
      "  Downloading mnist-0.2.2-py2.py3-none-any.whl (3.5 kB)\r\n",
      "Requirement already satisfied: numpy in /opt/hostedtoolcache/Python/3.6.15/x64/lib/python3.6/site-packages (from mnist) (1.19.5)\r\n"
     ]
    },
    {
     "name": "stdout",
     "output_type": "stream",
     "text": [
      "Installing collected packages: mnist\r\n"
     ]
    },
    {
     "name": "stdout",
     "output_type": "stream",
     "text": [
      "Successfully installed mnist-0.2.2\r\n"
     ]
    }
   ],
   "source": [
    "!pip install mnist"
   ]
  },
  {
   "cell_type": "markdown",
   "id": "69df9c9a",
   "metadata": {
    "papermill": {
     "duration": 0.032473,
     "end_time": "2022-03-15T00:31:04.986139",
     "exception": false,
     "start_time": "2022-03-15T00:31:04.953666",
     "status": "completed"
    },
    "tags": []
   },
   "source": [
    "## Preparing the Data"
   ]
  },
  {
   "cell_type": "code",
   "execution_count": 4,
   "id": "7f69d806",
   "metadata": {
    "execution": {
     "iopub.execute_input": "2022-03-15T00:31:05.051517Z",
     "iopub.status.busy": "2022-03-15T00:31:05.050873Z",
     "iopub.status.idle": "2022-03-15T00:31:05.068114Z",
     "shell.execute_reply": "2022-03-15T00:31:05.067592Z"
    },
    "papermill": {
     "duration": 0.04959,
     "end_time": "2022-03-15T00:31:05.068259",
     "exception": false,
     "start_time": "2022-03-15T00:31:05.018669",
     "status": "completed"
    },
    "tags": []
   },
   "outputs": [],
   "source": [
    "import mnist"
   ]
  },
  {
   "cell_type": "code",
   "execution_count": 5,
   "id": "a411e44f",
   "metadata": {
    "execution": {
     "iopub.execute_input": "2022-03-15T00:31:05.130778Z",
     "iopub.status.busy": "2022-03-15T00:31:05.130124Z",
     "iopub.status.idle": "2022-03-15T00:31:05.705158Z",
     "shell.execute_reply": "2022-03-15T00:31:05.704541Z"
    },
    "papermill": {
     "duration": 0.60759,
     "end_time": "2022-03-15T00:31:05.705322",
     "exception": false,
     "start_time": "2022-03-15T00:31:05.097732",
     "status": "completed"
    },
    "tags": []
   },
   "outputs": [],
   "source": [
    "train_images = mnist.train_images()\n",
    "train_labels = mnist.train_labels()"
   ]
  },
  {
   "cell_type": "code",
   "execution_count": 6,
   "id": "dceab3a5",
   "metadata": {
    "execution": {
     "iopub.execute_input": "2022-03-15T00:31:05.774165Z",
     "iopub.status.busy": "2022-03-15T00:31:05.773443Z",
     "iopub.status.idle": "2022-03-15T00:31:05.786328Z",
     "shell.execute_reply": "2022-03-15T00:31:05.785835Z"
    },
    "papermill": {
     "duration": 0.050634,
     "end_time": "2022-03-15T00:31:05.786488",
     "exception": false,
     "start_time": "2022-03-15T00:31:05.735854",
     "status": "completed"
    },
    "tags": []
   },
   "outputs": [
    {
     "data": {
      "text/plain": [
       "((60000, 28, 28), (60000,))"
      ]
     },
     "execution_count": 6,
     "metadata": {},
     "output_type": "execute_result"
    }
   ],
   "source": [
    "train_images.shape, train_labels.shape"
   ]
  },
  {
   "cell_type": "code",
   "execution_count": 7,
   "id": "f50dc2bb",
   "metadata": {
    "execution": {
     "iopub.execute_input": "2022-03-15T00:31:05.850930Z",
     "iopub.status.busy": "2022-03-15T00:31:05.850247Z",
     "iopub.status.idle": "2022-03-15T00:31:05.990385Z",
     "shell.execute_reply": "2022-03-15T00:31:05.989762Z"
    },
    "papermill": {
     "duration": 0.175077,
     "end_time": "2022-03-15T00:31:05.990576",
     "exception": false,
     "start_time": "2022-03-15T00:31:05.815499",
     "status": "completed"
    },
    "tags": []
   },
   "outputs": [],
   "source": [
    "test_images = mnist.test_images()\n",
    "test_labels = mnist.test_labels()"
   ]
  },
  {
   "cell_type": "code",
   "execution_count": 8,
   "id": "fc38cf1b",
   "metadata": {
    "execution": {
     "iopub.execute_input": "2022-03-15T00:31:06.055447Z",
     "iopub.status.busy": "2022-03-15T00:31:06.054814Z",
     "iopub.status.idle": "2022-03-15T00:31:06.069883Z",
     "shell.execute_reply": "2022-03-15T00:31:06.069354Z"
    },
    "papermill": {
     "duration": 0.049377,
     "end_time": "2022-03-15T00:31:06.070016",
     "exception": false,
     "start_time": "2022-03-15T00:31:06.020639",
     "status": "completed"
    },
    "tags": []
   },
   "outputs": [
    {
     "data": {
      "text/plain": [
       "((10000, 28, 28), (10000,))"
      ]
     },
     "execution_count": 8,
     "metadata": {},
     "output_type": "execute_result"
    }
   ],
   "source": [
    "test_images.shape, test_labels.shape"
   ]
  },
  {
   "cell_type": "code",
   "execution_count": 9,
   "id": "f9ed8fe0",
   "metadata": {
    "execution": {
     "iopub.execute_input": "2022-03-15T00:31:06.133438Z",
     "iopub.status.busy": "2022-03-15T00:31:06.132815Z",
     "iopub.status.idle": "2022-03-15T00:31:06.295764Z",
     "shell.execute_reply": "2022-03-15T00:31:06.296328Z"
    },
    "papermill": {
     "duration": 0.196805,
     "end_time": "2022-03-15T00:31:06.296507",
     "exception": false,
     "start_time": "2022-03-15T00:31:06.099702",
     "status": "completed"
    },
    "tags": []
   },
   "outputs": [
    {
     "name": "stdout",
     "output_type": "stream",
     "text": [
      "2\n"
     ]
    },
    {
     "data": {
      "text/plain": [
       "<matplotlib.image.AxesImage at 0x7f7dc8238588>"
      ]
     },
     "execution_count": 9,
     "metadata": {},
     "output_type": "execute_result"
    },
    {
     "data": {
      "image/png": "[encoded data removed]",
      "text/plain": [
       "<Figure size 432x288 with 1 Axes>"
      ]
     },
     "metadata": {
      "needs_background": "light"
     },
     "output_type": "display_data"
    }
   ],
   "source": [
    "image_index = 7776 # You may select anything up to 60,000\n",
    "print(train_labels[image_index]) \n",
    "plt.imshow(train_images[image_index], cmap='Greys')"
   ]
  },
  {
   "cell_type": "markdown",
   "id": "a8d2388d",
   "metadata": {
    "papermill": {
     "duration": 0.030441,
     "end_time": "2022-03-15T00:31:06.358789",
     "exception": false,
     "start_time": "2022-03-15T00:31:06.328348",
     "status": "completed"
    },
    "tags": []
   },
   "source": [
    "## Filter data to get 3 and 8 out"
   ]
  },
  {
   "cell_type": "code",
   "execution_count": 10,
   "id": "776f7fc7",
   "metadata": {
    "execution": {
     "iopub.execute_input": "2022-03-15T00:31:06.427772Z",
     "iopub.status.busy": "2022-03-15T00:31:06.427127Z",
     "iopub.status.idle": "2022-03-15T00:31:06.449402Z",
     "shell.execute_reply": "2022-03-15T00:31:06.448821Z"
    },
    "papermill": {
     "duration": 0.059033,
     "end_time": "2022-03-15T00:31:06.449542",
     "exception": false,
     "start_time": "2022-03-15T00:31:06.390509",
     "status": "completed"
    },
    "tags": []
   },
   "outputs": [],
   "source": [
    "train_filter = np.where((train_labels == 3 ) | (train_labels == 8))\n",
    "test_filter = np.where((test_labels == 3) | (test_labels == 8))\n",
    "X_train, y_train = train_images[train_filter], train_labels[train_filter]\n",
    "X_test, y_test = test_images[test_filter], test_labels[test_filter]"
   ]
  },
  {
   "cell_type": "markdown",
   "id": "948f0b7e",
   "metadata": {
    "papermill": {
     "duration": 0.031948,
     "end_time": "2022-03-15T00:31:06.512914",
     "exception": false,
     "start_time": "2022-03-15T00:31:06.480966",
     "status": "completed"
    },
    "tags": []
   },
   "source": [
    "We normalize the pizel values in the 0 to 1 range"
   ]
  },
  {
   "cell_type": "code",
   "execution_count": 11,
   "id": "ee4c2166",
   "metadata": {
    "execution": {
     "iopub.execute_input": "2022-03-15T00:31:06.580631Z",
     "iopub.status.busy": "2022-03-15T00:31:06.579996Z",
     "iopub.status.idle": "2022-03-15T00:31:06.637605Z",
     "shell.execute_reply": "2022-03-15T00:31:06.638332Z"
    },
    "papermill": {
     "duration": 0.093188,
     "end_time": "2022-03-15T00:31:06.638581",
     "exception": false,
     "start_time": "2022-03-15T00:31:06.545393",
     "status": "completed"
    },
    "tags": []
   },
   "outputs": [],
   "source": [
    "X_train = X_train/255.\n",
    "X_test = X_test/255."
   ]
  },
  {
   "cell_type": "markdown",
   "id": "ddcf4fab",
   "metadata": {
    "papermill": {
     "duration": 0.033275,
     "end_time": "2022-03-15T00:31:06.704312",
     "exception": false,
     "start_time": "2022-03-15T00:31:06.671037",
     "status": "completed"
    },
    "tags": []
   },
   "source": [
    "And setup the labels as 1 (when the digit is 3) and 0 (when the digit is 8)"
   ]
  },
  {
   "cell_type": "code",
   "execution_count": 12,
   "id": "7dc908f2",
   "metadata": {
    "execution": {
     "iopub.execute_input": "2022-03-15T00:31:06.775343Z",
     "iopub.status.busy": "2022-03-15T00:31:06.774692Z",
     "iopub.status.idle": "2022-03-15T00:31:06.787201Z",
     "shell.execute_reply": "2022-03-15T00:31:06.787681Z"
    },
    "papermill": {
     "duration": 0.048892,
     "end_time": "2022-03-15T00:31:06.787846",
     "exception": false,
     "start_time": "2022-03-15T00:31:06.738954",
     "status": "completed"
    },
    "tags": []
   },
   "outputs": [],
   "source": [
    "y_train = 1*(y_train==3)\n",
    "y_test = 1*(y_test==3)"
   ]
  },
  {
   "cell_type": "code",
   "execution_count": 13,
   "id": "01e4e969",
   "metadata": {
    "execution": {
     "iopub.execute_input": "2022-03-15T00:31:06.853609Z",
     "iopub.status.busy": "2022-03-15T00:31:06.852998Z",
     "iopub.status.idle": "2022-03-15T00:31:06.868195Z",
     "shell.execute_reply": "2022-03-15T00:31:06.867698Z"
    },
    "papermill": {
     "duration": 0.049353,
     "end_time": "2022-03-15T00:31:06.868334",
     "exception": false,
     "start_time": "2022-03-15T00:31:06.818981",
     "status": "completed"
    },
    "tags": []
   },
   "outputs": [
    {
     "data": {
      "text/plain": [
       "((11982, 28, 28), (1984, 28, 28))"
      ]
     },
     "execution_count": 13,
     "metadata": {},
     "output_type": "execute_result"
    }
   ],
   "source": [
    "X_train.shape, X_test.shape"
   ]
  },
  {
   "cell_type": "markdown",
   "id": "5ccf3f85",
   "metadata": {
    "papermill": {
     "duration": 0.030523,
     "end_time": "2022-03-15T00:31:06.929474",
     "exception": false,
     "start_time": "2022-03-15T00:31:06.898951",
     "status": "completed"
    },
    "tags": []
   },
   "source": [
    "We reshape the data to flatten the image pixels into a set of features or co-variates:"
   ]
  },
  {
   "cell_type": "code",
   "execution_count": 14,
   "id": "5286a4a3",
   "metadata": {
    "execution": {
     "iopub.execute_input": "2022-03-15T00:31:06.996356Z",
     "iopub.status.busy": "2022-03-15T00:31:06.995726Z",
     "iopub.status.idle": "2022-03-15T00:31:07.013010Z",
     "shell.execute_reply": "2022-03-15T00:31:07.012485Z"
    },
    "papermill": {
     "duration": 0.052378,
     "end_time": "2022-03-15T00:31:07.013149",
     "exception": false,
     "start_time": "2022-03-15T00:31:06.960771",
     "status": "completed"
    },
    "tags": []
   },
   "outputs": [
    {
     "data": {
      "text/plain": [
       "((11982, 784), (1984, 784))"
      ]
     },
     "execution_count": 14,
     "metadata": {},
     "output_type": "execute_result"
    }
   ],
   "source": [
    "X_train = X_train.reshape(X_train.shape[0], -1)\n",
    "X_test = X_test.reshape(X_test.shape[0], -1)\n",
    "X_train.shape, X_test.shape"
   ]
  },
  {
   "cell_type": "code",
   "execution_count": 15,
   "id": "73c5f88a",
   "metadata": {
    "execution": {
     "iopub.execute_input": "2022-03-15T00:31:07.081343Z",
     "iopub.status.busy": "2022-03-15T00:31:07.080696Z",
     "iopub.status.idle": "2022-03-15T00:31:07.103601Z",
     "shell.execute_reply": "2022-03-15T00:31:07.102993Z"
    },
    "papermill": {
     "duration": 0.05962,
     "end_time": "2022-03-15T00:31:07.103763",
     "exception": false,
     "start_time": "2022-03-15T00:31:07.044143",
     "status": "completed"
    },
    "tags": []
   },
   "outputs": [],
   "source": [
    "#Impoting functions from 'Kudzu'\n",
    "from kudzu.model import Model\n",
    "from kudzu.train import Learner\n",
    "from kudzu.optim import GD\n",
    "from kudzu.data import Data, Sampler,Dataloader\n",
    "\n",
    "from kudzu.callbacks import AccCallback\n",
    "from kudzu.callbacks import ClfCallback\n",
    "\n",
    "from kudzu.loss import MSE\n",
    "\n",
    "from kudzu.layer import Sigmoid,Relu\n",
    "from kudzu.layer import Affine"
   ]
  },
  {
   "cell_type": "markdown",
   "id": "bc01172a",
   "metadata": {
    "papermill": {
     "duration": 0.031154,
     "end_time": "2022-03-15T00:31:07.167570",
     "exception": false,
     "start_time": "2022-03-15T00:31:07.136416",
     "status": "completed"
    },
    "tags": []
   },
   "source": [
    "### Let us create a `Config` class, to store important parameters. \n",
    "This class essentially plays the role of a dictionary."
   ]
  },
  {
   "cell_type": "code",
   "execution_count": 16,
   "id": "978281aa",
   "metadata": {
    "execution": {
     "iopub.execute_input": "2022-03-15T00:31:07.234084Z",
     "iopub.status.busy": "2022-03-15T00:31:07.233447Z",
     "iopub.status.idle": "2022-03-15T00:31:07.248093Z",
     "shell.execute_reply": "2022-03-15T00:31:07.247556Z"
    },
    "papermill": {
     "duration": 0.049948,
     "end_time": "2022-03-15T00:31:07.248239",
     "exception": false,
     "start_time": "2022-03-15T00:31:07.198291",
     "status": "completed"
    },
    "tags": []
   },
   "outputs": [],
   "source": [
    "class Config:\n",
    "    pass\n",
    "config = Config()\n",
    "config.lr = 0.001\n",
    "config.num_epochs = 250\n",
    "config.bs = 50"
   ]
  },
  {
   "cell_type": "markdown",
   "id": "1385fa59",
   "metadata": {
    "papermill": {
     "duration": 0.031065,
     "end_time": "2022-03-15T00:31:07.310729",
     "exception": false,
     "start_time": "2022-03-15T00:31:07.279664",
     "status": "completed"
    },
    "tags": []
   },
   "source": [
    "### Running Models with the Training data\n",
    "Details about the network layers:\n",
    "- A first affine layer has 784 inputs and does 100 affine transforms. These are followed by a Relu\n",
    "- A second affine layer has 100 inputs from the 100 activations of the past layer, and does 100 affine transforms. These are followed by a Relu\n",
    "- A third affine layer has 100 activations and does 2 affine transformations to create an embedding for visualization. There is no non-linearity here.\n",
    "- A final \"logistic regression\" which has an affine transform from 2 inputs to 1 output, which is squeezed through a sigmoid.\n"
   ]
  },
  {
   "cell_type": "code",
   "execution_count": 17,
   "id": "2b9c66db",
   "metadata": {
    "execution": {
     "iopub.execute_input": "2022-03-15T00:31:07.379037Z",
     "iopub.status.busy": "2022-03-15T00:31:07.378328Z",
     "iopub.status.idle": "2022-03-15T00:31:07.393158Z",
     "shell.execute_reply": "2022-03-15T00:31:07.392625Z"
    },
    "papermill": {
     "duration": 0.051576,
     "end_time": "2022-03-15T00:31:07.393302",
     "exception": false,
     "start_time": "2022-03-15T00:31:07.341726",
     "status": "completed"
    },
    "tags": []
   },
   "outputs": [],
   "source": [
    "data = Data(X_train, y_train.reshape(-1,1))\n",
    "sampler = Sampler(data, config.bs, shuffle=True)\n",
    "\n",
    "dl = Dataloader(data, sampler)\n",
    "\n",
    "opt = GD(config.lr)\n",
    "loss = MSE()"
   ]
  },
  {
   "cell_type": "code",
   "execution_count": 18,
   "id": "b275e4c2",
   "metadata": {
    "execution": {
     "iopub.execute_input": "2022-03-15T00:31:07.459916Z",
     "iopub.status.busy": "2022-03-15T00:31:07.459289Z",
     "iopub.status.idle": "2022-03-15T00:31:07.473097Z",
     "shell.execute_reply": "2022-03-15T00:31:07.472600Z"
    },
    "papermill": {
     "duration": 0.04882,
     "end_time": "2022-03-15T00:31:07.473231",
     "exception": false,
     "start_time": "2022-03-15T00:31:07.424411",
     "status": "completed"
    },
    "tags": []
   },
   "outputs": [],
   "source": [
    "training_data_x = X_train\n",
    "testing_data_x = X_test\n",
    "training_data_y = y_train.reshape(-1,1)\n",
    "testing_data_y = y_test.reshape(-1,1)"
   ]
  },
  {
   "cell_type": "code",
   "execution_count": 19,
   "id": "76951160",
   "metadata": {
    "execution": {
     "iopub.execute_input": "2022-03-15T00:31:07.539842Z",
     "iopub.status.busy": "2022-03-15T00:31:07.539239Z",
     "iopub.status.idle": "2022-03-15T00:31:07.558113Z",
     "shell.execute_reply": "2022-03-15T00:31:07.558640Z"
    },
    "papermill": {
     "duration": 0.054534,
     "end_time": "2022-03-15T00:31:07.558785",
     "exception": false,
     "start_time": "2022-03-15T00:31:07.504251",
     "status": "completed"
    },
    "tags": []
   },
   "outputs": [
    {
     "name": "stdout",
     "output_type": "stream",
     "text": [
      "xavier\n",
      "xavier\n",
      "xavier\n",
      "xavier\n",
      "xavier\n"
     ]
    }
   ],
   "source": [
    "layers = [Affine(\"first\", 784, 100), Relu(\"first\"), Affine(\"second\", 100, 100), Relu(\"second\"), Affine(\"third\", 100, 2), Affine(\"last\", 2, 1), Sigmoid(\"last\")]\n",
    "model_nn = Model(layers)\n",
    "model_lr = Model([Affine(\"logits\", 784, 1), Sigmoid(\"sigmoid\")])"
   ]
  },
  {
   "cell_type": "code",
   "execution_count": 20,
   "id": "6eede77a",
   "metadata": {
    "execution": {
     "iopub.execute_input": "2022-03-15T00:31:07.626264Z",
     "iopub.status.busy": "2022-03-15T00:31:07.625668Z",
     "iopub.status.idle": "2022-03-15T00:31:07.639089Z",
     "shell.execute_reply": "2022-03-15T00:31:07.638580Z"
    },
    "papermill": {
     "duration": 0.048958,
     "end_time": "2022-03-15T00:31:07.639210",
     "exception": false,
     "start_time": "2022-03-15T00:31:07.590252",
     "status": "completed"
    },
    "tags": []
   },
   "outputs": [],
   "source": [
    "nn_learner = Learner(loss, model_nn, opt, config.num_epochs)\n",
    "acc_nn = ClfCallback(nn_learner, config.bs, training_data_x , testing_data_x, training_data_y, testing_data_y)\n",
    "nn_learner.set_callbacks([acc_nn])"
   ]
  },
  {
   "cell_type": "code",
   "execution_count": 21,
   "id": "877b6cc7",
   "metadata": {
    "execution": {
     "iopub.execute_input": "2022-03-15T00:31:07.707698Z",
     "iopub.status.busy": "2022-03-15T00:31:07.707113Z",
     "iopub.status.idle": "2022-03-15T00:31:07.720546Z",
     "shell.execute_reply": "2022-03-15T00:31:07.720063Z"
    },
    "papermill": {
     "duration": 0.0502,
     "end_time": "2022-03-15T00:31:07.720677",
     "exception": false,
     "start_time": "2022-03-15T00:31:07.670477",
     "status": "completed"
    },
    "tags": []
   },
   "outputs": [],
   "source": [
    "lr_learner = Learner(loss, model_lr, opt, config.num_epochs)\n",
    "acc_lr = ClfCallback(lr_learner, config.bs, training_data_x , testing_data_x, training_data_y, testing_data_y)\n",
    "lr_learner.set_callbacks([acc_lr])"
   ]
  },
  {
   "cell_type": "code",
   "execution_count": 22,
   "id": "d9b133c3",
   "metadata": {
    "execution": {
     "iopub.execute_input": "2022-03-15T00:31:07.787973Z",
     "iopub.status.busy": "2022-03-15T00:31:07.787386Z",
     "iopub.status.idle": "2022-03-15T00:32:44.510308Z",
     "shell.execute_reply": "2022-03-15T00:32:44.511198Z"
    },
    "papermill": {
     "duration": 96.759583,
     "end_time": "2022-03-15T00:32:44.511368",
     "exception": false,
     "start_time": "2022-03-15T00:31:07.751785",
     "status": "completed"
    },
    "tags": []
   },
   "outputs": [
    {
     "name": "stdout",
     "output_type": "stream",
     "text": [
      "Epoch 0, Loss 0.2319\n",
      "Training Accuracy: 0.7591, Testing Accuracy: 0.7812\n",
      "\n"
     ]
    },
    {
     "name": "stdout",
     "output_type": "stream",
     "text": [
      "Epoch 10, Loss 0.0818\n",
      "Training Accuracy: 0.9227, Testing Accuracy: 0.9325\n",
      "\n"
     ]
    },
    {
     "name": "stdout",
     "output_type": "stream",
     "text": [
      "Epoch 20, Loss 0.0513\n",
      "Training Accuracy: 0.9483, Testing Accuracy: 0.9561\n",
      "\n"
     ]
    },
    {
     "name": "stdout",
     "output_type": "stream",
     "text": [
      "Epoch 30, Loss 0.0405\n",
      "Training Accuracy: 0.9565, Testing Accuracy: 0.9637\n",
      "\n"
     ]
    },
    {
     "name": "stdout",
     "output_type": "stream",
     "text": [
      "Epoch 40, Loss 0.0351\n",
      "Training Accuracy: 0.9624, Testing Accuracy: 0.9682\n",
      "\n"
     ]
    },
    {
     "name": "stdout",
     "output_type": "stream",
     "text": [
      "Epoch 50, Loss 0.0319\n",
      "Training Accuracy: 0.9651, Testing Accuracy: 0.9708\n",
      "\n"
     ]
    },
    {
     "name": "stdout",
     "output_type": "stream",
     "text": [
      "Epoch 60, Loss 0.0297\n",
      "Training Accuracy: 0.9672, Testing Accuracy: 0.9728\n",
      "\n"
     ]
    },
    {
     "name": "stdout",
     "output_type": "stream",
     "text": [
      "Epoch 70, Loss 0.028\n",
      "Training Accuracy: 0.9691, Testing Accuracy: 0.9728\n",
      "\n"
     ]
    },
    {
     "name": "stdout",
     "output_type": "stream",
     "text": [
      "Epoch 80, Loss 0.0267\n",
      "Training Accuracy: 0.9710, Testing Accuracy: 0.9733\n",
      "\n"
     ]
    },
    {
     "name": "stdout",
     "output_type": "stream",
     "text": [
      "Epoch 90, Loss 0.0256\n",
      "Training Accuracy: 0.9718, Testing Accuracy: 0.9733\n",
      "\n"
     ]
    },
    {
     "name": "stdout",
     "output_type": "stream",
     "text": [
      "Epoch 100, Loss 0.0246\n",
      "Training Accuracy: 0.9726, Testing Accuracy: 0.9733\n",
      "\n"
     ]
    },
    {
     "name": "stdout",
     "output_type": "stream",
     "text": [
      "Epoch 110, Loss 0.0238\n",
      "Training Accuracy: 0.9734, Testing Accuracy: 0.9738\n",
      "\n"
     ]
    },
    {
     "name": "stdout",
     "output_type": "stream",
     "text": [
      "Epoch 120, Loss 0.0231\n",
      "Training Accuracy: 0.9745, Testing Accuracy: 0.9738\n",
      "\n"
     ]
    },
    {
     "name": "stdout",
     "output_type": "stream",
     "text": [
      "Epoch 130, Loss 0.0224\n",
      "Training Accuracy: 0.9751, Testing Accuracy: 0.9743\n",
      "\n"
     ]
    },
    {
     "name": "stdout",
     "output_type": "stream",
     "text": [
      "Epoch 140, Loss 0.0218\n",
      "Training Accuracy: 0.9757, Testing Accuracy: 0.9743\n",
      "\n"
     ]
    },
    {
     "name": "stdout",
     "output_type": "stream",
     "text": [
      "Epoch 150, Loss 0.0213\n",
      "Training Accuracy: 0.9760, Testing Accuracy: 0.9748\n",
      "\n"
     ]
    },
    {
     "name": "stdout",
     "output_type": "stream",
     "text": [
      "Epoch 160, Loss 0.0208\n",
      "Training Accuracy: 0.9763, Testing Accuracy: 0.9753\n",
      "\n"
     ]
    },
    {
     "name": "stdout",
     "output_type": "stream",
     "text": [
      "Epoch 170, Loss 0.0203\n",
      "Training Accuracy: 0.9773, Testing Accuracy: 0.9758\n",
      "\n"
     ]
    },
    {
     "name": "stdout",
     "output_type": "stream",
     "text": [
      "Epoch 180, Loss 0.0198\n",
      "Training Accuracy: 0.9778, Testing Accuracy: 0.9753\n",
      "\n"
     ]
    },
    {
     "name": "stdout",
     "output_type": "stream",
     "text": [
      "Epoch 190, Loss 0.0194\n",
      "Training Accuracy: 0.9782, Testing Accuracy: 0.9758\n",
      "\n"
     ]
    },
    {
     "name": "stdout",
     "output_type": "stream",
     "text": [
      "Epoch 200, Loss 0.019\n",
      "Training Accuracy: 0.9790, Testing Accuracy: 0.9758\n",
      "\n"
     ]
    },
    {
     "name": "stdout",
     "output_type": "stream",
     "text": [
      "Epoch 210, Loss 0.0186\n",
      "Training Accuracy: 0.9793, Testing Accuracy: 0.9758\n",
      "\n"
     ]
    },
    {
     "name": "stdout",
     "output_type": "stream",
     "text": [
      "Epoch 220, Loss 0.0182\n",
      "Training Accuracy: 0.9796, Testing Accuracy: 0.9753\n",
      "\n"
     ]
    },
    {
     "name": "stdout",
     "output_type": "stream",
     "text": [
      "Epoch 230, Loss 0.0178\n",
      "Training Accuracy: 0.9801, Testing Accuracy: 0.9748\n",
      "\n"
     ]
    },
    {
     "name": "stdout",
     "output_type": "stream",
     "text": [
      "Epoch 240, Loss 0.0175\n",
      "Training Accuracy: 0.9805, Testing Accuracy: 0.9758\n",
      "\n"
     ]
    },
    {
     "data": {
      "text/plain": [
       "0.03675180886763319"
      ]
     },
     "execution_count": 22,
     "metadata": {},
     "output_type": "execute_result"
    }
   ],
   "source": [
    "nn_learner.train_loop(dl)"
   ]
  },
  {
   "cell_type": "code",
   "execution_count": 23,
   "id": "e0163366",
   "metadata": {
    "execution": {
     "iopub.execute_input": "2022-03-15T00:32:44.600153Z",
     "iopub.status.busy": "2022-03-15T00:32:44.599520Z",
     "iopub.status.idle": "2022-03-15T00:33:01.762610Z",
     "shell.execute_reply": "2022-03-15T00:33:01.763516Z"
    },
    "papermill": {
     "duration": 17.213295,
     "end_time": "2022-03-15T00:33:01.763684",
     "exception": false,
     "start_time": "2022-03-15T00:32:44.550389",
     "status": "completed"
    },
    "tags": []
   },
   "outputs": [
    {
     "name": "stdout",
     "output_type": "stream",
     "text": [
      "Epoch 0, Loss 0.2254\n",
      "Training Accuracy: 0.7432, Testing Accuracy: 0.7384\n",
      "\n"
     ]
    },
    {
     "name": "stdout",
     "output_type": "stream",
     "text": [
      "Epoch 10, Loss 0.1027\n",
      "Training Accuracy: 0.9066, Testing Accuracy: 0.9189\n",
      "\n"
     ]
    },
    {
     "name": "stdout",
     "output_type": "stream",
     "text": [
      "Epoch 20, Loss 0.0796\n",
      "Training Accuracy: 0.9251, Testing Accuracy: 0.9385\n",
      "\n"
     ]
    },
    {
     "name": "stdout",
     "output_type": "stream",
     "text": [
      "Epoch 30, Loss 0.0688\n",
      "Training Accuracy: 0.9341, Testing Accuracy: 0.9466\n",
      "\n"
     ]
    },
    {
     "name": "stdout",
     "output_type": "stream",
     "text": [
      "Epoch 40, Loss 0.0623\n",
      "Training Accuracy: 0.9382, Testing Accuracy: 0.9516\n",
      "\n"
     ]
    },
    {
     "name": "stdout",
     "output_type": "stream",
     "text": [
      "Epoch 50, Loss 0.0578\n",
      "Training Accuracy: 0.9427, Testing Accuracy: 0.9551\n",
      "\n"
     ]
    },
    {
     "name": "stdout",
     "output_type": "stream",
     "text": [
      "Epoch 60, Loss 0.0544\n",
      "Training Accuracy: 0.9455, Testing Accuracy: 0.9592\n",
      "\n"
     ]
    },
    {
     "name": "stdout",
     "output_type": "stream",
     "text": [
      "Epoch 70, Loss 0.0518\n",
      "Training Accuracy: 0.9469, Testing Accuracy: 0.9602\n",
      "\n"
     ]
    },
    {
     "name": "stdout",
     "output_type": "stream",
     "text": [
      "Epoch 80, Loss 0.0498\n",
      "Training Accuracy: 0.9492, Testing Accuracy: 0.9617\n",
      "\n"
     ]
    },
    {
     "name": "stdout",
     "output_type": "stream",
     "text": [
      "Epoch 90, Loss 0.048\n",
      "Training Accuracy: 0.9508, Testing Accuracy: 0.9627\n",
      "\n"
     ]
    },
    {
     "name": "stdout",
     "output_type": "stream",
     "text": [
      "Epoch 100, Loss 0.0466\n",
      "Training Accuracy: 0.9516, Testing Accuracy: 0.9637\n",
      "\n"
     ]
    },
    {
     "name": "stdout",
     "output_type": "stream",
     "text": [
      "Epoch 110, Loss 0.0453\n",
      "Training Accuracy: 0.9530, Testing Accuracy: 0.9642\n",
      "\n"
     ]
    },
    {
     "name": "stdout",
     "output_type": "stream",
     "text": [
      "Epoch 120, Loss 0.0442\n",
      "Training Accuracy: 0.9540, Testing Accuracy: 0.9667\n",
      "\n"
     ]
    },
    {
     "name": "stdout",
     "output_type": "stream",
     "text": [
      "Epoch 130, Loss 0.0433\n",
      "Training Accuracy: 0.9550, Testing Accuracy: 0.9672\n",
      "\n"
     ]
    },
    {
     "name": "stdout",
     "output_type": "stream",
     "text": [
      "Epoch 140, Loss 0.0424\n",
      "Training Accuracy: 0.9558, Testing Accuracy: 0.9672\n",
      "\n"
     ]
    },
    {
     "name": "stdout",
     "output_type": "stream",
     "text": [
      "Epoch 150, Loss 0.0417\n",
      "Training Accuracy: 0.9564, Testing Accuracy: 0.9672\n",
      "\n"
     ]
    },
    {
     "name": "stdout",
     "output_type": "stream",
     "text": [
      "Epoch 160, Loss 0.041\n",
      "Training Accuracy: 0.9570, Testing Accuracy: 0.9677\n",
      "\n"
     ]
    },
    {
     "name": "stdout",
     "output_type": "stream",
     "text": [
      "Epoch 170, Loss 0.0403\n",
      "Training Accuracy: 0.9579, Testing Accuracy: 0.9688\n",
      "\n"
     ]
    },
    {
     "name": "stdout",
     "output_type": "stream",
     "text": [
      "Epoch 180, Loss 0.0398\n",
      "Training Accuracy: 0.9580, Testing Accuracy: 0.9688\n",
      "\n"
     ]
    },
    {
     "name": "stdout",
     "output_type": "stream",
     "text": [
      "Epoch 190, Loss 0.0392\n",
      "Training Accuracy: 0.9588, Testing Accuracy: 0.9688\n",
      "\n"
     ]
    },
    {
     "name": "stdout",
     "output_type": "stream",
     "text": [
      "Epoch 200, Loss 0.0387\n",
      "Training Accuracy: 0.9593, Testing Accuracy: 0.9688\n",
      "\n"
     ]
    },
    {
     "name": "stdout",
     "output_type": "stream",
     "text": [
      "Epoch 210, Loss 0.0383\n",
      "Training Accuracy: 0.9597, Testing Accuracy: 0.9688\n",
      "\n"
     ]
    },
    {
     "name": "stdout",
     "output_type": "stream",
     "text": [
      "Epoch 220, Loss 0.0379\n",
      "Training Accuracy: 0.9603, Testing Accuracy: 0.9688\n",
      "\n"
     ]
    },
    {
     "name": "stdout",
     "output_type": "stream",
     "text": [
      "Epoch 230, Loss 0.0375\n",
      "Training Accuracy: 0.9604, Testing Accuracy: 0.9693\n",
      "\n"
     ]
    },
    {
     "name": "stdout",
     "output_type": "stream",
     "text": [
      "Epoch 240, Loss 0.0371\n",
      "Training Accuracy: 0.9605, Testing Accuracy: 0.9693\n",
      "\n"
     ]
    },
    {
     "data": {
      "text/plain": [
       "0.04060341873958206"
      ]
     },
     "execution_count": 23,
     "metadata": {},
     "output_type": "execute_result"
    }
   ],
   "source": [
    "lr_learner.train_loop(dl)"
   ]
  },
  {
   "cell_type": "code",
   "execution_count": 24,
   "id": "ca410940",
   "metadata": {
    "execution": {
     "iopub.execute_input": "2022-03-15T00:33:01.868127Z",
     "iopub.status.busy": "2022-03-15T00:33:01.867485Z",
     "iopub.status.idle": "2022-03-15T00:33:02.124904Z",
     "shell.execute_reply": "2022-03-15T00:33:02.125400Z"
    },
    "papermill": {
     "duration": 0.314996,
     "end_time": "2022-03-15T00:33:02.125562",
     "exception": false,
     "start_time": "2022-03-15T00:33:01.810566",
     "status": "completed"
    },
    "tags": []
   },
   "outputs": [
    {
     "data": {
      "text/plain": [
       "<matplotlib.legend.Legend at 0x7f7dc7e15cc0>"
      ]
     },
     "execution_count": 24,
     "metadata": {},
     "output_type": "execute_result"
    },
    {
     "data": {
      "image/png": "[encoded data removed]",
      "text/plain": [
       "<Figure size 1080x720 with 1 Axes>"
      ]
     },
     "metadata": {
      "needs_background": "light"
     },
     "output_type": "display_data"
    }
   ],
   "source": [
    "#comparing the results of NN and LR\n",
    "plt.figure(figsize=(15,10))\n",
    "\n",
    "# Neural Network plots\n",
    "plt.plot(acc_nn.accuracies, 'r-', label = \"Training Accuracies - NN\")\n",
    "plt.plot(acc_nn.test_accuracies, 'g-', label = \"Testing Accuracies - NN\")\n",
    "\n",
    "# Logistic Regression plots\n",
    "plt.plot(acc_lr.accuracies, 'k-', label = \"Training Accuracies - LR\")\n",
    "plt.plot(acc_lr.test_accuracies, 'b-', label = \"Testing Accuracies - LR\")\n",
    "plt.legend()"
   ]
  },
  {
   "cell_type": "markdown",
   "id": "80dfb35c",
   "metadata": {
    "papermill": {
     "duration": 0.049405,
     "end_time": "2022-03-15T00:33:02.223215",
     "exception": false,
     "start_time": "2022-03-15T00:33:02.173810",
     "status": "completed"
    },
    "tags": []
   },
   "source": [
    "#### Plotting the outputs of this layer of the NN.\n"
   ]
  },
  {
   "cell_type": "code",
   "execution_count": 25,
   "id": "45eb2ff5",
   "metadata": {
    "execution": {
     "iopub.execute_input": "2022-03-15T00:33:02.327322Z",
     "iopub.status.busy": "2022-03-15T00:33:02.325358Z",
     "iopub.status.idle": "2022-03-15T00:33:02.348435Z",
     "shell.execute_reply": "2022-03-15T00:33:02.348929Z"
    },
    "papermill": {
     "duration": 0.077597,
     "end_time": "2022-03-15T00:33:02.349088",
     "exception": false,
     "start_time": "2022-03-15T00:33:02.271491",
     "status": "completed"
    },
    "tags": []
   },
   "outputs": [],
   "source": [
    "new_model = Model(layers[:-2])\n",
    "testing_plot = new_model(testing_data_x)"
   ]
  },
  {
   "cell_type": "code",
   "execution_count": 26,
   "id": "4c0a5485",
   "metadata": {
    "execution": {
     "iopub.execute_input": "2022-03-15T00:33:02.454813Z",
     "iopub.status.busy": "2022-03-15T00:33:02.451646Z",
     "iopub.status.idle": "2022-03-15T00:33:02.684531Z",
     "shell.execute_reply": "2022-03-15T00:33:02.684002Z"
    },
    "papermill": {
     "duration": 0.287158,
     "end_time": "2022-03-15T00:33:02.684667",
     "exception": false,
     "start_time": "2022-03-15T00:33:02.397509",
     "status": "completed"
    },
    "tags": []
   },
   "outputs": [
    {
     "data": {
      "text/plain": [
       "Text(0.5, 1.0, 'Outputs')"
      ]
     },
     "execution_count": 26,
     "metadata": {},
     "output_type": "execute_result"
    },
    {
     "data": {
      "image/png": "[encoded data removed]",
      "text/plain": [
       "<Figure size 576x504 with 1 Axes>"
      ]
     },
     "metadata": {
      "needs_background": "light"
     },
     "output_type": "display_data"
    }
   ],
   "source": [
    "# Plotting the scatter plot of points and color coding by class\n",
    "plt.figure(figsize=(8,7))\n",
    "plt.scatter(testing_plot[:,0], testing_plot[:,1], alpha = 0.1, c = y_test.ravel());\n",
    "plt.title('Outputs')"
   ]
  },
  {
   "cell_type": "markdown",
   "id": "a74fcf8f",
   "metadata": {
    "papermill": {
     "duration": 0.051313,
     "end_time": "2022-03-15T00:33:02.788039",
     "exception": false,
     "start_time": "2022-03-15T00:33:02.736726",
     "status": "completed"
    },
    "tags": []
   },
   "source": [
    "Probability contours"
   ]
  },
  {
   "cell_type": "code",
   "execution_count": 27,
   "id": "d0afc8e3",
   "metadata": {
    "execution": {
     "iopub.execute_input": "2022-03-15T00:33:02.928001Z",
     "iopub.status.busy": "2022-03-15T00:33:02.926980Z",
     "iopub.status.idle": "2022-03-15T00:33:02.940650Z",
     "shell.execute_reply": "2022-03-15T00:33:02.940137Z"
    },
    "papermill": {
     "duration": 0.101139,
     "end_time": "2022-03-15T00:33:02.940776",
     "exception": false,
     "start_time": "2022-03-15T00:33:02.839637",
     "status": "completed"
    },
    "tags": []
   },
   "outputs": [],
   "source": [
    "model_prob = Model(layers[-2:]) "
   ]
  },
  {
   "cell_type": "code",
   "execution_count": 28,
   "id": "9b96e238",
   "metadata": {
    "execution": {
     "iopub.execute_input": "2022-03-15T00:33:03.052975Z",
     "iopub.status.busy": "2022-03-15T00:33:03.051314Z",
     "iopub.status.idle": "2022-03-15T00:33:03.067248Z",
     "shell.execute_reply": "2022-03-15T00:33:03.067709Z"
    },
    "papermill": {
     "duration": 0.075751,
     "end_time": "2022-03-15T00:33:03.067870",
     "exception": false,
     "start_time": "2022-03-15T00:33:02.992119",
     "status": "completed"
    },
    "tags": []
   },
   "outputs": [],
   "source": [
    "#creating the x and y ranges according to the above generated plot.\n",
    "x_range = np.linspace(-4, 1, 100) \n",
    "y_range = np.linspace(-6, 6, 100) \n",
    "x_grid, y_grid = np.meshgrid(x_range, y_range) # x_grid and y_grig are of size 100 X 100\n",
    "\n",
    "# converting x_grid and y_grid to continuous arrays\n",
    "x_gridflat = np.ravel(x_grid)\n",
    "y_gridflat = np.ravel(y_grid)\n",
    "\n",
    "# The last layer of the current model takes two columns as input. Hence transpose of np.vstack() is required.\n",
    "X = np.vstack((x_gridflat, y_gridflat)).T\n",
    "\n",
    "prob_contour = model_prob(X).reshape(100,100) "
   ]
  },
  {
   "cell_type": "code",
   "execution_count": 29,
   "id": "da72499a",
   "metadata": {
    "execution": {
     "iopub.execute_input": "2022-03-15T00:33:03.176518Z",
     "iopub.status.busy": "2022-03-15T00:33:03.175813Z",
     "iopub.status.idle": "2022-03-15T00:33:03.461234Z",
     "shell.execute_reply": "2022-03-15T00:33:03.461903Z"
    },
    "papermill": {
     "duration": 0.343021,
     "end_time": "2022-03-15T00:33:03.462133",
     "exception": false,
     "start_time": "2022-03-15T00:33:03.119112",
     "status": "completed"
    },
    "tags": []
   },
   "outputs": [
    {
     "data": {
      "image/png": "[encoded data removed]",
      "text/plain": [
       "<Figure size 720x648 with 1 Axes>"
      ]
     },
     "metadata": {
      "needs_background": "light"
     },
     "output_type": "display_data"
    }
   ],
   "source": [
    "plt.figure(figsize=(10,9))\n",
    "plt.scatter(testing_plot[:,0], testing_plot[:,1], alpha = 0.1, c = y_test.ravel())\n",
    "contours = plt.contour(x_grid,y_grid,prob_contour)\n",
    "plt.title('Probability Contours')\n",
    "plt.clabel(contours, inline = True );"
   ]
  },
  {
   "cell_type": "code",
   "execution_count": null,
   "id": "e81b4ac7",
   "metadata": {
    "papermill": {
     "duration": 0.053255,
     "end_time": "2022-03-15T00:33:03.570070",
     "exception": false,
     "start_time": "2022-03-15T00:33:03.516815",
     "status": "completed"
    },
    "tags": []
   },
   "outputs": [],
   "source": []
  }
 ],
 "metadata": {
  "kernelspec": {
   "display_name": "Python 3",
   "language": "python",
   "name": "python3"
  },
  "language_info": {
   "codemirror_mode": {
    "name": "ipython",
    "version": 3
   },
   "file_extension": ".py",
   "mimetype": "text/x-python",
   "name": "python",
   "nbconvert_exporter": "python",
   "pygments_lexer": "ipython3",
   "version": "3.6.15"
  },
  "papermill": {
   "default_parameters": {},
   "duration": 123.557347,
   "end_time": "2022-03-15T00:33:04.143636",
   "environment_variables": {},
   "exception": null,
   "input_path": "2020-08-11-part2.ipynb",
   "output_path": "2020-08-11-part2.ipynb",
   "parameters": {},
   "start_time": "2022-03-15T00:31:00.586289",
   "version": "2.3.3"
  }
 },
 "nbformat": 4,
 "nbformat_minor": 5
}