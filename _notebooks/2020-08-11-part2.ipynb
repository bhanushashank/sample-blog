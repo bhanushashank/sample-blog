{
 "cells": [
  {
   "cell_type": "markdown",
   "id": "98380cd3",
   "metadata": {
    "papermill": {
     "duration": 0.028865,
     "end_time": "2022-04-03T20:10:17.912000",
     "exception": false,
     "start_time": "2022-04-03T20:10:17.883135",
     "status": "completed"
    },
    "tags": []
   },
   "source": [
    "# Distinguish Your Own Digits (DYOD)"
   ]
  },
  {
   "cell_type": "markdown",
   "id": "ef31240d",
   "metadata": {
    "papermill": {
     "duration": 0.025202,
     "end_time": "2022-04-03T20:10:17.961618",
     "exception": false,
     "start_time": "2022-04-03T20:10:17.936416",
     "status": "completed"
    },
    "tags": []
   },
   "source": [
    "You are going to write a classifier that distinguishes between the number 3 and number 8."
   ]
  },
  {
   "cell_type": "code",
   "execution_count": 1,
   "id": "b15c8646",
   "metadata": {
    "execution": {
     "iopub.execute_input": "2022-04-03T20:10:18.019303Z",
     "iopub.status.busy": "2022-04-03T20:10:18.018826Z",
     "iopub.status.idle": "2022-04-03T20:10:18.027592Z",
     "shell.execute_reply": "2022-04-03T20:10:18.027963Z"
    },
    "papermill": {
     "duration": 0.042709,
     "end_time": "2022-04-03T20:10:18.028102",
     "exception": false,
     "start_time": "2022-04-03T20:10:17.985393",
     "status": "completed"
    },
    "tags": []
   },
   "outputs": [],
   "source": [
    "%load_ext autoreload\n",
    "%autoreload 2"
   ]
  },
  {
   "cell_type": "code",
   "execution_count": 2,
   "id": "22ef38dc",
   "metadata": {
    "execution": {
     "iopub.execute_input": "2022-04-03T20:10:18.081918Z",
     "iopub.status.busy": "2022-04-03T20:10:18.081378Z",
     "iopub.status.idle": "2022-04-03T20:10:18.612148Z",
     "shell.execute_reply": "2022-04-03T20:10:18.611721Z"
    },
    "papermill": {
     "duration": 0.559035,
     "end_time": "2022-04-03T20:10:18.612266",
     "exception": false,
     "start_time": "2022-04-03T20:10:18.053231",
     "status": "completed"
    },
    "tags": []
   },
   "outputs": [],
   "source": [
    "%matplotlib inline\n",
    "import numpy as np\n",
    "import matplotlib.pyplot as plt\n",
    "import pandas as pd"
   ]
  },
  {
   "cell_type": "markdown",
   "id": "ba036198",
   "metadata": {
    "papermill": {
     "duration": 0.021017,
     "end_time": "2022-04-03T20:10:18.654444",
     "exception": false,
     "start_time": "2022-04-03T20:10:18.633427",
     "status": "completed"
    },
    "tags": []
   },
   "source": [
    "From the command line run `pip install mnist`. This is a library that will help you bring down the mnist dataset. If you run this from a notebook, you need to put  `!pip install mnist` in a cell by itself."
   ]
  },
  {
   "cell_type": "code",
   "execution_count": 3,
   "id": "bb6ad8a1",
   "metadata": {
    "execution": {
     "iopub.execute_input": "2022-04-03T20:10:18.701954Z",
     "iopub.status.busy": "2022-04-03T20:10:18.701490Z",
     "iopub.status.idle": "2022-04-03T20:10:20.325705Z",
     "shell.execute_reply": "2022-04-03T20:10:20.325127Z"
    },
    "papermill": {
     "duration": 1.650331,
     "end_time": "2022-04-03T20:10:20.325845",
     "exception": false,
     "start_time": "2022-04-03T20:10:18.675514",
     "status": "completed"
    },
    "tags": []
   },
   "outputs": [
    {
     "name": "stdout",
     "output_type": "stream",
     "text": [
      "Collecting mnist\r\n"
     ]
    },
    {
     "name": "stdout",
     "output_type": "stream",
     "text": [
      "  Downloading mnist-0.2.2-py2.py3-none-any.whl (3.5 kB)\r\n",
      "Requirement already satisfied: numpy in /opt/hostedtoolcache/Python/3.6.15/x64/lib/python3.6/site-packages (from mnist) (1.19.5)\r\n"
     ]
    },
    {
     "name": "stdout",
     "output_type": "stream",
     "text": [
      "Installing collected packages: mnist\r\n",
      "Successfully installed mnist-0.2.2\r\n"
     ]
    }
   ],
   "source": [
    "!pip install mnist"
   ]
  },
  {
   "cell_type": "markdown",
   "id": "69df9c9a",
   "metadata": {
    "papermill": {
     "duration": 0.026443,
     "end_time": "2022-04-03T20:10:20.378175",
     "exception": false,
     "start_time": "2022-04-03T20:10:20.351732",
     "status": "completed"
    },
    "tags": []
   },
   "source": [
    "## Preparing the Data"
   ]
  },
  {
   "cell_type": "code",
   "execution_count": 4,
   "id": "7f69d806",
   "metadata": {
    "execution": {
     "iopub.execute_input": "2022-04-03T20:10:20.433741Z",
     "iopub.status.busy": "2022-04-03T20:10:20.433155Z",
     "iopub.status.idle": "2022-04-03T20:10:20.445210Z",
     "shell.execute_reply": "2022-04-03T20:10:20.444796Z"
    },
    "papermill": {
     "duration": 0.041595,
     "end_time": "2022-04-03T20:10:20.445313",
     "exception": false,
     "start_time": "2022-04-03T20:10:20.403718",
     "status": "completed"
    },
    "tags": []
   },
   "outputs": [],
   "source": [
    "import mnist"
   ]
  },
  {
   "cell_type": "code",
   "execution_count": 5,
   "id": "a411e44f",
   "metadata": {
    "execution": {
     "iopub.execute_input": "2022-04-03T20:10:20.492536Z",
     "iopub.status.busy": "2022-04-03T20:10:20.492084Z",
     "iopub.status.idle": "2022-04-03T20:10:21.161612Z",
     "shell.execute_reply": "2022-04-03T20:10:21.160742Z"
    },
    "papermill": {
     "duration": 0.694272,
     "end_time": "2022-04-03T20:10:21.161744",
     "exception": false,
     "start_time": "2022-04-03T20:10:20.467472",
     "status": "completed"
    },
    "tags": []
   },
   "outputs": [],
   "source": [
    "train_images = mnist.train_images()\n",
    "train_labels = mnist.train_labels()"
   ]
  },
  {
   "cell_type": "code",
   "execution_count": 6,
   "id": "dceab3a5",
   "metadata": {
    "execution": {
     "iopub.execute_input": "2022-04-03T20:10:21.217015Z",
     "iopub.status.busy": "2022-04-03T20:10:21.216494Z",
     "iopub.status.idle": "2022-04-03T20:10:21.230028Z",
     "shell.execute_reply": "2022-04-03T20:10:21.230432Z"
    },
    "papermill": {
     "duration": 0.043639,
     "end_time": "2022-04-03T20:10:21.230564",
     "exception": false,
     "start_time": "2022-04-03T20:10:21.186925",
     "status": "completed"
    },
    "tags": []
   },
   "outputs": [
    {
     "data": {
      "text/plain": [
       "((60000, 28, 28), (60000,))"
      ]
     },
     "execution_count": 6,
     "metadata": {},
     "output_type": "execute_result"
    }
   ],
   "source": [
    "train_images.shape, train_labels.shape"
   ]
  },
  {
   "cell_type": "code",
   "execution_count": 7,
   "id": "f50dc2bb",
   "metadata": {
    "execution": {
     "iopub.execute_input": "2022-04-03T20:10:21.284768Z",
     "iopub.status.busy": "2022-04-03T20:10:21.284253Z",
     "iopub.status.idle": "2022-04-03T20:10:21.650300Z",
     "shell.execute_reply": "2022-04-03T20:10:21.649776Z"
    },
    "papermill": {
     "duration": 0.394663,
     "end_time": "2022-04-03T20:10:21.650438",
     "exception": false,
     "start_time": "2022-04-03T20:10:21.255775",
     "status": "completed"
    },
    "tags": []
   },
   "outputs": [],
   "source": [
    "test_images = mnist.test_images()\n",
    "test_labels = mnist.test_labels()"
   ]
  },
  {
   "cell_type": "code",
   "execution_count": 8,
   "id": "fc38cf1b",
   "metadata": {
    "execution": {
     "iopub.execute_input": "2022-04-03T20:10:21.711016Z",
     "iopub.status.busy": "2022-04-03T20:10:21.706922Z",
     "iopub.status.idle": "2022-04-03T20:10:21.720733Z",
     "shell.execute_reply": "2022-04-03T20:10:21.720269Z"
    },
    "papermill": {
     "duration": 0.044027,
     "end_time": "2022-04-03T20:10:21.720847",
     "exception": false,
     "start_time": "2022-04-03T20:10:21.676820",
     "status": "completed"
    },
    "tags": []
   },
   "outputs": [
    {
     "data": {
      "text/plain": [
       "((10000, 28, 28), (10000,))"
      ]
     },
     "execution_count": 8,
     "metadata": {},
     "output_type": "execute_result"
    }
   ],
   "source": [
    "test_images.shape, test_labels.shape"
   ]
  },
  {
   "cell_type": "code",
   "execution_count": 9,
   "id": "f9ed8fe0",
   "metadata": {
    "execution": {
     "iopub.execute_input": "2022-04-03T20:10:21.775883Z",
     "iopub.status.busy": "2022-04-03T20:10:21.775369Z",
     "iopub.status.idle": "2022-04-03T20:10:21.912737Z",
     "shell.execute_reply": "2022-04-03T20:10:21.913241Z"
    },
    "papermill": {
     "duration": 0.167027,
     "end_time": "2022-04-03T20:10:21.913391",
     "exception": false,
     "start_time": "2022-04-03T20:10:21.746364",
     "status": "completed"
    },
    "tags": []
   },
   "outputs": [
    {
     "name": "stdout",
     "output_type": "stream",
     "text": [
      "2\n"
     ]
    },
    {
     "data": {
      "text/plain": [
       "<matplotlib.image.AxesImage at 0x7f4b15d915f8>"
      ]
     },
     "execution_count": 9,
     "metadata": {},
     "output_type": "execute_result"
    },
    {
     "data": {
      "image/png": "[encoded data removed]",
      "text/plain": [
       "<Figure size 432x288 with 1 Axes>"
      ]
     },
     "metadata": {
      "needs_background": "light"
     },
     "output_type": "display_data"
    }
   ],
   "source": [
    "image_index = 7776 # You may select anything up to 60,000\n",
    "print(train_labels[image_index]) \n",
    "plt.imshow(train_images[image_index], cmap='Greys')"
   ]
  },
  {
   "cell_type": "markdown",
   "id": "a8d2388d",
   "metadata": {
    "papermill": {
     "duration": 0.02666,
     "end_time": "2022-04-03T20:10:21.966644",
     "exception": false,
     "start_time": "2022-04-03T20:10:21.939984",
     "status": "completed"
    },
    "tags": []
   },
   "source": [
    "## Filter data to get 3 and 8 out"
   ]
  },
  {
   "cell_type": "code",
   "execution_count": 10,
   "id": "776f7fc7",
   "metadata": {
    "execution": {
     "iopub.execute_input": "2022-04-03T20:10:22.033941Z",
     "iopub.status.busy": "2022-04-03T20:10:22.029850Z",
     "iopub.status.idle": "2022-04-03T20:10:22.043517Z",
     "shell.execute_reply": "2022-04-03T20:10:22.043096Z"
    },
    "papermill": {
     "duration": 0.050744,
     "end_time": "2022-04-03T20:10:22.043636",
     "exception": false,
     "start_time": "2022-04-03T20:10:21.992892",
     "status": "completed"
    },
    "tags": []
   },
   "outputs": [],
   "source": [
    "train_filter = np.where((train_labels == 3 ) | (train_labels == 8))\n",
    "test_filter = np.where((test_labels == 3) | (test_labels == 8))\n",
    "X_train, y_train = train_images[train_filter], train_labels[train_filter]\n",
    "X_test, y_test = test_images[test_filter], test_labels[test_filter]"
   ]
  },
  {
   "cell_type": "markdown",
   "id": "948f0b7e",
   "metadata": {
    "papermill": {
     "duration": 0.026567,
     "end_time": "2022-04-03T20:10:22.097485",
     "exception": false,
     "start_time": "2022-04-03T20:10:22.070918",
     "status": "completed"
    },
    "tags": []
   },
   "source": [
    "We normalize the pizel values in the 0 to 1 range"
   ]
  },
  {
   "cell_type": "code",
   "execution_count": 11,
   "id": "ee4c2166",
   "metadata": {
    "execution": {
     "iopub.execute_input": "2022-04-03T20:10:22.154376Z",
     "iopub.status.busy": "2022-04-03T20:10:22.153862Z",
     "iopub.status.idle": "2022-04-03T20:10:22.202168Z",
     "shell.execute_reply": "2022-04-03T20:10:22.201644Z"
    },
    "papermill": {
     "duration": 0.07823,
     "end_time": "2022-04-03T20:10:22.202306",
     "exception": false,
     "start_time": "2022-04-03T20:10:22.124076",
     "status": "completed"
    },
    "tags": []
   },
   "outputs": [],
   "source": [
    "X_train = X_train/255.\n",
    "X_test = X_test/255."
   ]
  },
  {
   "cell_type": "markdown",
   "id": "ddcf4fab",
   "metadata": {
    "papermill": {
     "duration": 0.026374,
     "end_time": "2022-04-03T20:10:22.256520",
     "exception": false,
     "start_time": "2022-04-03T20:10:22.230146",
     "status": "completed"
    },
    "tags": []
   },
   "source": [
    "And setup the labels as 1 (when the digit is 3) and 0 (when the digit is 8)"
   ]
  },
  {
   "cell_type": "code",
   "execution_count": 12,
   "id": "7dc908f2",
   "metadata": {
    "execution": {
     "iopub.execute_input": "2022-04-03T20:10:22.322475Z",
     "iopub.status.busy": "2022-04-03T20:10:22.321463Z",
     "iopub.status.idle": "2022-04-03T20:10:22.327508Z",
     "shell.execute_reply": "2022-04-03T20:10:22.327915Z"
    },
    "papermill": {
     "duration": 0.045269,
     "end_time": "2022-04-03T20:10:22.328048",
     "exception": false,
     "start_time": "2022-04-03T20:10:22.282779",
     "status": "completed"
    },
    "tags": []
   },
   "outputs": [],
   "source": [
    "y_train = 1*(y_train==3)\n",
    "y_test = 1*(y_test==3)"
   ]
  },
  {
   "cell_type": "code",
   "execution_count": 13,
   "id": "01e4e969",
   "metadata": {
    "execution": {
     "iopub.execute_input": "2022-04-03T20:10:22.389233Z",
     "iopub.status.busy": "2022-04-03T20:10:22.383953Z",
     "iopub.status.idle": "2022-04-03T20:10:22.399357Z",
     "shell.execute_reply": "2022-04-03T20:10:22.398937Z"
    },
    "papermill": {
     "duration": 0.045021,
     "end_time": "2022-04-03T20:10:22.399471",
     "exception": false,
     "start_time": "2022-04-03T20:10:22.354450",
     "status": "completed"
    },
    "tags": []
   },
   "outputs": [
    {
     "data": {
      "text/plain": [
       "((11982, 28, 28), (1984, 28, 28))"
      ]
     },
     "execution_count": 13,
     "metadata": {},
     "output_type": "execute_result"
    }
   ],
   "source": [
    "X_train.shape, X_test.shape"
   ]
  },
  {
   "cell_type": "markdown",
   "id": "5ccf3f85",
   "metadata": {
    "papermill": {
     "duration": 0.026673,
     "end_time": "2022-04-03T20:10:22.452806",
     "exception": false,
     "start_time": "2022-04-03T20:10:22.426133",
     "status": "completed"
    },
    "tags": []
   },
   "source": [
    "We reshape the data to flatten the image pixels into a set of features or co-variates:"
   ]
  },
  {
   "cell_type": "code",
   "execution_count": 14,
   "id": "5286a4a3",
   "metadata": {
    "execution": {
     "iopub.execute_input": "2022-04-03T20:10:22.511548Z",
     "iopub.status.busy": "2022-04-03T20:10:22.511036Z",
     "iopub.status.idle": "2022-04-03T20:10:22.523453Z",
     "shell.execute_reply": "2022-04-03T20:10:22.523882Z"
    },
    "papermill": {
     "duration": 0.044173,
     "end_time": "2022-04-03T20:10:22.524012",
     "exception": false,
     "start_time": "2022-04-03T20:10:22.479839",
     "status": "completed"
    },
    "tags": []
   },
   "outputs": [
    {
     "data": {
      "text/plain": [
       "((11982, 784), (1984, 784))"
      ]
     },
     "execution_count": 14,
     "metadata": {},
     "output_type": "execute_result"
    }
   ],
   "source": [
    "X_train = X_train.reshape(X_train.shape[0], -1)\n",
    "X_test = X_test.reshape(X_test.shape[0], -1)\n",
    "X_train.shape, X_test.shape"
   ]
  },
  {
   "cell_type": "code",
   "execution_count": 15,
   "id": "73c5f88a",
   "metadata": {
    "execution": {
     "iopub.execute_input": "2022-04-03T20:10:22.582171Z",
     "iopub.status.busy": "2022-04-03T20:10:22.581660Z",
     "iopub.status.idle": "2022-04-03T20:10:22.600664Z",
     "shell.execute_reply": "2022-04-03T20:10:22.600184Z"
    },
    "papermill": {
     "duration": 0.0498,
     "end_time": "2022-04-03T20:10:22.600793",
     "exception": false,
     "start_time": "2022-04-03T20:10:22.550993",
     "status": "completed"
    },
    "tags": []
   },
   "outputs": [],
   "source": [
    "#Impoting functions from 'Kudzu'\n",
    "from kudzu.model import Model\n",
    "from kudzu.train import Learner\n",
    "from kudzu.optim import GD\n",
    "from kudzu.data import Data, Sampler,Dataloader\n",
    "\n",
    "from kudzu.callbacks import AccCallback\n",
    "from kudzu.callbacks import ClfCallback\n",
    "\n",
    "from kudzu.loss import MSE\n",
    "\n",
    "from kudzu.layer import Sigmoid,Relu\n",
    "from kudzu.layer import Affine"
   ]
  },
  {
   "cell_type": "markdown",
   "id": "bc01172a",
   "metadata": {
    "papermill": {
     "duration": 0.02715,
     "end_time": "2022-04-03T20:10:22.655989",
     "exception": false,
     "start_time": "2022-04-03T20:10:22.628839",
     "status": "completed"
    },
    "tags": []
   },
   "source": [
    "### Let us create a `Config` class, to store important parameters. \n",
    "This class essentially plays the role of a dictionary."
   ]
  },
  {
   "cell_type": "code",
   "execution_count": 16,
   "id": "978281aa",
   "metadata": {
    "execution": {
     "iopub.execute_input": "2022-04-03T20:10:22.715686Z",
     "iopub.status.busy": "2022-04-03T20:10:22.715154Z",
     "iopub.status.idle": "2022-04-03T20:10:22.727526Z",
     "shell.execute_reply": "2022-04-03T20:10:22.727108Z"
    },
    "papermill": {
     "duration": 0.044801,
     "end_time": "2022-04-03T20:10:22.727641",
     "exception": false,
     "start_time": "2022-04-03T20:10:22.682840",
     "status": "completed"
    },
    "tags": []
   },
   "outputs": [],
   "source": [
    "class Config:\n",
    "    pass\n",
    "config = Config()\n",
    "config.lr = 0.001\n",
    "config.num_epochs = 250\n",
    "config.bs = 50"
   ]
  },
  {
   "cell_type": "markdown",
   "id": "1385fa59",
   "metadata": {
    "papermill": {
     "duration": 0.026861,
     "end_time": "2022-04-03T20:10:22.781465",
     "exception": false,
     "start_time": "2022-04-03T20:10:22.754604",
     "status": "completed"
    },
    "tags": []
   },
   "source": [
    "### Running Models with the Training data\n",
    "Details about the network layers:\n",
    "- A first affine layer has 784 inputs and does 100 affine transforms. These are followed by a Relu\n",
    "- A second affine layer has 100 inputs from the 100 activations of the past layer, and does 100 affine transforms. These are followed by a Relu\n",
    "- A third affine layer has 100 activations and does 2 affine transformations to create an embedding for visualization. There is no non-linearity here.\n",
    "- A final \"logistic regression\" which has an affine transform from 2 inputs to 1 output, which is squeezed through a sigmoid.\n"
   ]
  },
  {
   "cell_type": "code",
   "execution_count": 17,
   "id": "2b9c66db",
   "metadata": {
    "execution": {
     "iopub.execute_input": "2022-04-03T20:10:22.839471Z",
     "iopub.status.busy": "2022-04-03T20:10:22.838949Z",
     "iopub.status.idle": "2022-04-03T20:10:22.851779Z",
     "shell.execute_reply": "2022-04-03T20:10:22.851326Z"
    },
    "papermill": {
     "duration": 0.043476,
     "end_time": "2022-04-03T20:10:22.851893",
     "exception": false,
     "start_time": "2022-04-03T20:10:22.808417",
     "status": "completed"
    },
    "tags": []
   },
   "outputs": [],
   "source": [
    "data = Data(X_train, y_train.reshape(-1,1))\n",
    "sampler = Sampler(data, config.bs, shuffle=True)\n",
    "\n",
    "dl = Dataloader(data, sampler)\n",
    "\n",
    "opt = GD(config.lr)\n",
    "loss = MSE()"
   ]
  },
  {
   "cell_type": "code",
   "execution_count": 18,
   "id": "b275e4c2",
   "metadata": {
    "execution": {
     "iopub.execute_input": "2022-04-03T20:10:22.909966Z",
     "iopub.status.busy": "2022-04-03T20:10:22.909448Z",
     "iopub.status.idle": "2022-04-03T20:10:22.921289Z",
     "shell.execute_reply": "2022-04-03T20:10:22.920852Z"
    },
    "papermill": {
     "duration": 0.042285,
     "end_time": "2022-04-03T20:10:22.921407",
     "exception": false,
     "start_time": "2022-04-03T20:10:22.879122",
     "status": "completed"
    },
    "tags": []
   },
   "outputs": [],
   "source": [
    "training_data_x = X_train\n",
    "testing_data_x = X_test\n",
    "training_data_y = y_train.reshape(-1,1)\n",
    "testing_data_y = y_test.reshape(-1,1)"
   ]
  },
  {
   "cell_type": "code",
   "execution_count": 19,
   "id": "76951160",
   "metadata": {
    "execution": {
     "iopub.execute_input": "2022-04-03T20:10:22.986845Z",
     "iopub.status.busy": "2022-04-03T20:10:22.986337Z",
     "iopub.status.idle": "2022-04-03T20:10:22.998351Z",
     "shell.execute_reply": "2022-04-03T20:10:22.997978Z"
    },
    "papermill": {
     "duration": 0.050272,
     "end_time": "2022-04-03T20:10:22.998457",
     "exception": false,
     "start_time": "2022-04-03T20:10:22.948185",
     "status": "completed"
    },
    "tags": []
   },
   "outputs": [
    {
     "name": "stdout",
     "output_type": "stream",
     "text": [
      "xavier\n",
      "xavier\n",
      "xavier\n",
      "xavier\n",
      "xavier\n"
     ]
    }
   ],
   "source": [
    "layers = [Affine(\"first\", 784, 100), Relu(\"first\"), Affine(\"second\", 100, 100), Relu(\"second\"), Affine(\"third\", 100, 2), Affine(\"last\", 2, 1), Sigmoid(\"last\")]\n",
    "model_nn = Model(layers)\n",
    "model_lr = Model([Affine(\"logits\", 784, 1), Sigmoid(\"sigmoid\")])"
   ]
  },
  {
   "cell_type": "code",
   "execution_count": 20,
   "id": "6eede77a",
   "metadata": {
    "execution": {
     "iopub.execute_input": "2022-04-03T20:10:23.055224Z",
     "iopub.status.busy": "2022-04-03T20:10:23.054618Z",
     "iopub.status.idle": "2022-04-03T20:10:23.063332Z",
     "shell.execute_reply": "2022-04-03T20:10:23.062921Z"
    },
    "papermill": {
     "duration": 0.040808,
     "end_time": "2022-04-03T20:10:23.063445",
     "exception": false,
     "start_time": "2022-04-03T20:10:23.022637",
     "status": "completed"
    },
    "tags": []
   },
   "outputs": [],
   "source": [
    "nn_learner = Learner(loss, model_nn, opt, config.num_epochs)\n",
    "acc_nn = ClfCallback(nn_learner, config.bs, training_data_x , testing_data_x, training_data_y, testing_data_y)\n",
    "nn_learner.set_callbacks([acc_nn])"
   ]
  },
  {
   "cell_type": "code",
   "execution_count": 21,
   "id": "877b6cc7",
   "metadata": {
    "execution": {
     "iopub.execute_input": "2022-04-03T20:10:23.124347Z",
     "iopub.status.busy": "2022-04-03T20:10:23.123845Z",
     "iopub.status.idle": "2022-04-03T20:10:23.134579Z",
     "shell.execute_reply": "2022-04-03T20:10:23.134166Z"
    },
    "papermill": {
     "duration": 0.043627,
     "end_time": "2022-04-03T20:10:23.134691",
     "exception": false,
     "start_time": "2022-04-03T20:10:23.091064",
     "status": "completed"
    },
    "tags": []
   },
   "outputs": [],
   "source": [
    "lr_learner = Learner(loss, model_lr, opt, config.num_epochs)\n",
    "acc_lr = ClfCallback(lr_learner, config.bs, training_data_x , testing_data_x, training_data_y, testing_data_y)\n",
    "lr_learner.set_callbacks([acc_lr])"
   ]
  },
  {
   "cell_type": "code",
   "execution_count": 22,
   "id": "d9b133c3",
   "metadata": {
    "execution": {
     "iopub.execute_input": "2022-04-03T20:10:23.201872Z",
     "iopub.status.busy": "2022-04-03T20:10:23.200229Z",
     "iopub.status.idle": "2022-04-03T20:11:39.594787Z",
     "shell.execute_reply": "2022-04-03T20:11:39.595541Z"
    },
    "papermill": {
     "duration": 76.433585,
     "end_time": "2022-04-03T20:11:39.595690",
     "exception": false,
     "start_time": "2022-04-03T20:10:23.162105",
     "status": "completed"
    },
    "tags": []
   },
   "outputs": [
    {
     "name": "stdout",
     "output_type": "stream",
     "text": [
      "Epoch 0, Loss 0.2487\n",
      "Training Accuracy: 0.5727, Testing Accuracy: 0.5938\n",
      "\n"
     ]
    },
    {
     "name": "stdout",
     "output_type": "stream",
     "text": [
      "Epoch 10, Loss 0.1412\n",
      "Training Accuracy: 0.8989, Testing Accuracy: 0.9128\n",
      "\n"
     ]
    },
    {
     "name": "stdout",
     "output_type": "stream",
     "text": [
      "Epoch 20, Loss 0.0736\n",
      "Training Accuracy: 0.9276, Testing Accuracy: 0.9385\n",
      "\n"
     ]
    },
    {
     "name": "stdout",
     "output_type": "stream",
     "text": [
      "Epoch 30, Loss 0.0528\n",
      "Training Accuracy: 0.9431, Testing Accuracy: 0.9551\n",
      "\n"
     ]
    },
    {
     "name": "stdout",
     "output_type": "stream",
     "text": [
      "Epoch 40, Loss 0.0435\n",
      "Training Accuracy: 0.9522, Testing Accuracy: 0.9622\n",
      "\n"
     ]
    },
    {
     "name": "stdout",
     "output_type": "stream",
     "text": [
      "Epoch 50, Loss 0.0385\n",
      "Training Accuracy: 0.9569, Testing Accuracy: 0.9672\n",
      "\n"
     ]
    },
    {
     "name": "stdout",
     "output_type": "stream",
     "text": [
      "Epoch 60, Loss 0.0353\n",
      "Training Accuracy: 0.9598, Testing Accuracy: 0.9693\n",
      "\n"
     ]
    },
    {
     "name": "stdout",
     "output_type": "stream",
     "text": [
      "Epoch 70, Loss 0.033\n",
      "Training Accuracy: 0.9617, Testing Accuracy: 0.9723\n",
      "\n"
     ]
    },
    {
     "name": "stdout",
     "output_type": "stream",
     "text": [
      "Epoch 80, Loss 0.0313\n",
      "Training Accuracy: 0.9633, Testing Accuracy: 0.9718\n",
      "\n"
     ]
    },
    {
     "name": "stdout",
     "output_type": "stream",
     "text": [
      "Epoch 90, Loss 0.0299\n",
      "Training Accuracy: 0.9649, Testing Accuracy: 0.9713\n",
      "\n"
     ]
    },
    {
     "name": "stdout",
     "output_type": "stream",
     "text": [
      "Epoch 100, Loss 0.0287\n",
      "Training Accuracy: 0.9669, Testing Accuracy: 0.9718\n",
      "\n"
     ]
    },
    {
     "name": "stdout",
     "output_type": "stream",
     "text": [
      "Epoch 110, Loss 0.0276\n",
      "Training Accuracy: 0.9684, Testing Accuracy: 0.9708\n",
      "\n"
     ]
    },
    {
     "name": "stdout",
     "output_type": "stream",
     "text": [
      "Epoch 120, Loss 0.0267\n",
      "Training Accuracy: 0.9695, Testing Accuracy: 0.9713\n",
      "\n"
     ]
    },
    {
     "name": "stdout",
     "output_type": "stream",
     "text": [
      "Epoch 130, Loss 0.026\n",
      "Training Accuracy: 0.9704, Testing Accuracy: 0.9708\n",
      "\n"
     ]
    },
    {
     "name": "stdout",
     "output_type": "stream",
     "text": [
      "Epoch 140, Loss 0.0252\n",
      "Training Accuracy: 0.9714, Testing Accuracy: 0.9703\n",
      "\n"
     ]
    },
    {
     "name": "stdout",
     "output_type": "stream",
     "text": [
      "Epoch 150, Loss 0.0246\n",
      "Training Accuracy: 0.9718, Testing Accuracy: 0.9703\n",
      "\n"
     ]
    },
    {
     "name": "stdout",
     "output_type": "stream",
     "text": [
      "Epoch 160, Loss 0.024\n",
      "Training Accuracy: 0.9722, Testing Accuracy: 0.9713\n",
      "\n"
     ]
    },
    {
     "name": "stdout",
     "output_type": "stream",
     "text": [
      "Epoch 170, Loss 0.0234\n",
      "Training Accuracy: 0.9732, Testing Accuracy: 0.9713\n",
      "\n"
     ]
    },
    {
     "name": "stdout",
     "output_type": "stream",
     "text": [
      "Epoch 180, Loss 0.0229\n",
      "Training Accuracy: 0.9735, Testing Accuracy: 0.9718\n",
      "\n"
     ]
    },
    {
     "name": "stdout",
     "output_type": "stream",
     "text": [
      "Epoch 190, Loss 0.0224\n",
      "Training Accuracy: 0.9740, Testing Accuracy: 0.9713\n",
      "\n"
     ]
    },
    {
     "name": "stdout",
     "output_type": "stream",
     "text": [
      "Epoch 200, Loss 0.022\n",
      "Training Accuracy: 0.9746, Testing Accuracy: 0.9718\n",
      "\n"
     ]
    },
    {
     "name": "stdout",
     "output_type": "stream",
     "text": [
      "Epoch 210, Loss 0.0215\n",
      "Training Accuracy: 0.9754, Testing Accuracy: 0.9718\n",
      "\n"
     ]
    },
    {
     "name": "stdout",
     "output_type": "stream",
     "text": [
      "Epoch 220, Loss 0.0211\n",
      "Training Accuracy: 0.9759, Testing Accuracy: 0.9718\n",
      "\n"
     ]
    },
    {
     "name": "stdout",
     "output_type": "stream",
     "text": [
      "Epoch 230, Loss 0.0207\n",
      "Training Accuracy: 0.9768, Testing Accuracy: 0.9723\n",
      "\n"
     ]
    },
    {
     "name": "stdout",
     "output_type": "stream",
     "text": [
      "Epoch 240, Loss 0.0203\n",
      "Training Accuracy: 0.9773, Testing Accuracy: 0.9728\n",
      "\n"
     ]
    },
    {
     "data": {
      "text/plain": [
       "0.0013425563440298037"
      ]
     },
     "execution_count": 22,
     "metadata": {},
     "output_type": "execute_result"
    }
   ],
   "source": [
    "nn_learner.train_loop(dl)"
   ]
  },
  {
   "cell_type": "code",
   "execution_count": 23,
   "id": "e0163366",
   "metadata": {
    "execution": {
     "iopub.execute_input": "2022-04-03T20:11:39.676952Z",
     "iopub.status.busy": "2022-04-03T20:11:39.676421Z",
     "iopub.status.idle": "2022-04-03T20:11:53.443916Z",
     "shell.execute_reply": "2022-04-03T20:11:53.444658Z"
    },
    "papermill": {
     "duration": 13.814367,
     "end_time": "2022-04-03T20:11:53.444804",
     "exception": false,
     "start_time": "2022-04-03T20:11:39.630437",
     "status": "completed"
    },
    "tags": []
   },
   "outputs": [
    {
     "name": "stdout",
     "output_type": "stream",
     "text": [
      "Epoch 0, Loss 0.2359\n",
      "Training Accuracy: 0.7003, Testing Accuracy: 0.7394\n",
      "\n"
     ]
    },
    {
     "name": "stdout",
     "output_type": "stream",
     "text": [
      "Epoch 10, Loss 0.1048\n",
      "Training Accuracy: 0.9022, Testing Accuracy: 0.9153\n",
      "\n"
     ]
    },
    {
     "name": "stdout",
     "output_type": "stream",
     "text": [
      "Epoch 20, Loss 0.0812\n",
      "Training Accuracy: 0.9223, Testing Accuracy: 0.9390\n",
      "\n"
     ]
    },
    {
     "name": "stdout",
     "output_type": "stream",
     "text": [
      "Epoch 30, Loss 0.0699\n",
      "Training Accuracy: 0.9333, Testing Accuracy: 0.9486\n",
      "\n"
     ]
    },
    {
     "name": "stdout",
     "output_type": "stream",
     "text": [
      "Epoch 40, Loss 0.063\n",
      "Training Accuracy: 0.9389, Testing Accuracy: 0.9516\n",
      "\n"
     ]
    },
    {
     "name": "stdout",
     "output_type": "stream",
     "text": [
      "Epoch 50, Loss 0.0583\n",
      "Training Accuracy: 0.9418, Testing Accuracy: 0.9551\n",
      "\n"
     ]
    },
    {
     "name": "stdout",
     "output_type": "stream",
     "text": [
      "Epoch 60, Loss 0.0548\n",
      "Training Accuracy: 0.9451, Testing Accuracy: 0.9572\n",
      "\n"
     ]
    },
    {
     "name": "stdout",
     "output_type": "stream",
     "text": [
      "Epoch 70, Loss 0.0521\n",
      "Training Accuracy: 0.9471, Testing Accuracy: 0.9592\n",
      "\n"
     ]
    },
    {
     "name": "stdout",
     "output_type": "stream",
     "text": [
      "Epoch 80, Loss 0.05\n",
      "Training Accuracy: 0.9498, Testing Accuracy: 0.9607\n",
      "\n"
     ]
    },
    {
     "name": "stdout",
     "output_type": "stream",
     "text": [
      "Epoch 90, Loss 0.0482\n",
      "Training Accuracy: 0.9515, Testing Accuracy: 0.9612\n",
      "\n"
     ]
    },
    {
     "name": "stdout",
     "output_type": "stream",
     "text": [
      "Epoch 100, Loss 0.0467\n",
      "Training Accuracy: 0.9528, Testing Accuracy: 0.9617\n",
      "\n"
     ]
    },
    {
     "name": "stdout",
     "output_type": "stream",
     "text": [
      "Epoch 110, Loss 0.0454\n",
      "Training Accuracy: 0.9538, Testing Accuracy: 0.9617\n",
      "\n"
     ]
    },
    {
     "name": "stdout",
     "output_type": "stream",
     "text": [
      "Epoch 120, Loss 0.0443\n",
      "Training Accuracy: 0.9545, Testing Accuracy: 0.9637\n",
      "\n"
     ]
    },
    {
     "name": "stdout",
     "output_type": "stream",
     "text": [
      "Epoch 130, Loss 0.0433\n",
      "Training Accuracy: 0.9551, Testing Accuracy: 0.9632\n",
      "\n"
     ]
    },
    {
     "name": "stdout",
     "output_type": "stream",
     "text": [
      "Epoch 140, Loss 0.0425\n",
      "Training Accuracy: 0.9555, Testing Accuracy: 0.9637\n",
      "\n"
     ]
    },
    {
     "name": "stdout",
     "output_type": "stream",
     "text": [
      "Epoch 150, Loss 0.0417\n",
      "Training Accuracy: 0.9562, Testing Accuracy: 0.9642\n",
      "\n"
     ]
    },
    {
     "name": "stdout",
     "output_type": "stream",
     "text": [
      "Epoch 160, Loss 0.041\n",
      "Training Accuracy: 0.9566, Testing Accuracy: 0.9652\n",
      "\n"
     ]
    },
    {
     "name": "stdout",
     "output_type": "stream",
     "text": [
      "Epoch 170, Loss 0.0403\n",
      "Training Accuracy: 0.9574, Testing Accuracy: 0.9667\n",
      "\n"
     ]
    },
    {
     "name": "stdout",
     "output_type": "stream",
     "text": [
      "Epoch 180, Loss 0.0398\n",
      "Training Accuracy: 0.9584, Testing Accuracy: 0.9672\n",
      "\n"
     ]
    },
    {
     "name": "stdout",
     "output_type": "stream",
     "text": [
      "Epoch 190, Loss 0.0392\n",
      "Training Accuracy: 0.9588, Testing Accuracy: 0.9672\n",
      "\n"
     ]
    },
    {
     "name": "stdout",
     "output_type": "stream",
     "text": [
      "Epoch 200, Loss 0.0387\n",
      "Training Accuracy: 0.9590, Testing Accuracy: 0.9677\n",
      "\n"
     ]
    },
    {
     "name": "stdout",
     "output_type": "stream",
     "text": [
      "Epoch 210, Loss 0.0383\n",
      "Training Accuracy: 0.9594, Testing Accuracy: 0.9672\n",
      "\n"
     ]
    },
    {
     "name": "stdout",
     "output_type": "stream",
     "text": [
      "Epoch 220, Loss 0.0378\n",
      "Training Accuracy: 0.9597, Testing Accuracy: 0.9672\n",
      "\n"
     ]
    },
    {
     "name": "stdout",
     "output_type": "stream",
     "text": [
      "Epoch 230, Loss 0.0374\n",
      "Training Accuracy: 0.9596, Testing Accuracy: 0.9682\n",
      "\n"
     ]
    },
    {
     "name": "stdout",
     "output_type": "stream",
     "text": [
      "Epoch 240, Loss 0.0371\n",
      "Training Accuracy: 0.9599, Testing Accuracy: 0.9677\n",
      "\n"
     ]
    },
    {
     "data": {
      "text/plain": [
       "0.08763496460926072"
      ]
     },
     "execution_count": 23,
     "metadata": {},
     "output_type": "execute_result"
    }
   ],
   "source": [
    "lr_learner.train_loop(dl)"
   ]
  },
  {
   "cell_type": "code",
   "execution_count": 24,
   "id": "ca410940",
   "metadata": {
    "execution": {
     "iopub.execute_input": "2022-04-03T20:11:53.538469Z",
     "iopub.status.busy": "2022-04-03T20:11:53.537935Z",
     "iopub.status.idle": "2022-04-03T20:11:53.768125Z",
     "shell.execute_reply": "2022-04-03T20:11:53.767417Z"
    },
    "papermill": {
     "duration": 0.282413,
     "end_time": "2022-04-03T20:11:53.768251",
     "exception": false,
     "start_time": "2022-04-03T20:11:53.485838",
     "status": "completed"
    },
    "tags": []
   },
   "outputs": [
    {
     "data": {
      "text/plain": [
       "<matplotlib.legend.Legend at 0x7f4b1596bd68>"
      ]
     },
     "execution_count": 24,
     "metadata": {},
     "output_type": "execute_result"
    },
    {
     "data": {
      "image/png": "[encoded data removed]",
      "text/plain": [
       "<Figure size 1080x720 with 1 Axes>"
      ]
     },
     "metadata": {
      "needs_background": "light"
     },
     "output_type": "display_data"
    }
   ],
   "source": [
    "#comparing the results of NN and LR\n",
    "plt.figure(figsize=(15,10))\n",
    "\n",
    "# Neural Network plots\n",
    "plt.plot(acc_nn.accuracies, 'r-', label = \"Training Accuracies - NN\")\n",
    "plt.plot(acc_nn.test_accuracies, 'g-', label = \"Testing Accuracies - NN\")\n",
    "\n",
    "# Logistic Regression plots\n",
    "plt.plot(acc_lr.accuracies, 'k-', label = \"Training Accuracies - LR\")\n",
    "plt.plot(acc_lr.test_accuracies, 'b-', label = \"Testing Accuracies - LR\")\n",
    "plt.legend()"
   ]
  },
  {
   "cell_type": "markdown",
   "id": "80dfb35c",
   "metadata": {
    "papermill": {
     "duration": 0.037137,
     "end_time": "2022-04-03T20:11:53.843100",
     "exception": false,
     "start_time": "2022-04-03T20:11:53.805963",
     "status": "completed"
    },
    "tags": []
   },
   "source": [
    "#### Plotting the outputs of this layer of the NN.\n"
   ]
  },
  {
   "cell_type": "code",
   "execution_count": 25,
   "id": "45eb2ff5",
   "metadata": {
    "execution": {
     "iopub.execute_input": "2022-04-03T20:11:53.923357Z",
     "iopub.status.busy": "2022-04-03T20:11:53.921864Z",
     "iopub.status.idle": "2022-04-03T20:11:53.941872Z",
     "shell.execute_reply": "2022-04-03T20:11:53.942264Z"
    },
    "papermill": {
     "duration": 0.062314,
     "end_time": "2022-04-03T20:11:53.942395",
     "exception": false,
     "start_time": "2022-04-03T20:11:53.880081",
     "status": "completed"
    },
    "tags": []
   },
   "outputs": [],
   "source": [
    "new_model = Model(layers[:-2])\n",
    "testing_plot = new_model(testing_data_x)"
   ]
  },
  {
   "cell_type": "code",
   "execution_count": 26,
   "id": "4c0a5485",
   "metadata": {
    "execution": {
     "iopub.execute_input": "2022-04-03T20:11:54.023873Z",
     "iopub.status.busy": "2022-04-03T20:11:54.023369Z",
     "iopub.status.idle": "2022-04-03T20:11:54.235949Z",
     "shell.execute_reply": "2022-04-03T20:11:54.235503Z"
    },
    "papermill": {
     "duration": 0.253692,
     "end_time": "2022-04-03T20:11:54.236064",
     "exception": false,
     "start_time": "2022-04-03T20:11:53.982372",
     "status": "completed"
    },
    "tags": []
   },
   "outputs": [
    {
     "data": {
      "text/plain": [
       "Text(0.5, 1.0, 'Outputs')"
      ]
     },
     "execution_count": 26,
     "metadata": {},
     "output_type": "execute_result"
    },
    {
     "data": {
      "image/png": "[encoded data removed]",
      "text/plain": [
       "<Figure size 576x504 with 1 Axes>"
      ]
     },
     "metadata": {
      "needs_background": "light"
     },
     "output_type": "display_data"
    }
   ],
   "source": [
    "# Plotting the scatter plot of points and color coding by class\n",
    "plt.figure(figsize=(8,7))\n",
    "plt.scatter(testing_plot[:,0], testing_plot[:,1], alpha = 0.1, c = y_test.ravel());\n",
    "plt.title('Outputs')"
   ]
  },
  {
   "cell_type": "markdown",
   "id": "a74fcf8f",
   "metadata": {
    "papermill": {
     "duration": 0.045288,
     "end_time": "2022-04-03T20:11:54.326057",
     "exception": false,
     "start_time": "2022-04-03T20:11:54.280769",
     "status": "completed"
    },
    "tags": []
   },
   "source": [
    "Probability contours"
   ]
  },
  {
   "cell_type": "code",
   "execution_count": 27,
   "id": "d0afc8e3",
   "metadata": {
    "execution": {
     "iopub.execute_input": "2022-04-03T20:11:54.418907Z",
     "iopub.status.busy": "2022-04-03T20:11:54.418389Z",
     "iopub.status.idle": "2022-04-03T20:11:54.429736Z",
     "shell.execute_reply": "2022-04-03T20:11:54.429288Z"
    },
    "papermill": {
     "duration": 0.059298,
     "end_time": "2022-04-03T20:11:54.429851",
     "exception": false,
     "start_time": "2022-04-03T20:11:54.370553",
     "status": "completed"
    },
    "tags": []
   },
   "outputs": [],
   "source": [
    "model_prob = Model(layers[-2:]) "
   ]
  },
  {
   "cell_type": "code",
   "execution_count": 28,
   "id": "9b96e238",
   "metadata": {
    "execution": {
     "iopub.execute_input": "2022-04-03T20:11:54.523598Z",
     "iopub.status.busy": "2022-04-03T20:11:54.523076Z",
     "iopub.status.idle": "2022-04-03T20:11:54.534570Z",
     "shell.execute_reply": "2022-04-03T20:11:54.534920Z"
    },
    "papermill": {
     "duration": 0.060478,
     "end_time": "2022-04-03T20:11:54.535047",
     "exception": false,
     "start_time": "2022-04-03T20:11:54.474569",
     "status": "completed"
    },
    "tags": []
   },
   "outputs": [],
   "source": [
    "#creating the x and y ranges according to the above generated plot.\n",
    "x_range = np.linspace(-4, 1, 100) \n",
    "y_range = np.linspace(-6, 6, 100) \n",
    "x_grid, y_grid = np.meshgrid(x_range, y_range) # x_grid and y_grig are of size 100 X 100\n",
    "\n",
    "# converting x_grid and y_grid to continuous arrays\n",
    "x_gridflat = np.ravel(x_grid)\n",
    "y_gridflat = np.ravel(y_grid)\n",
    "\n",
    "# The last layer of the current model takes two columns as input. Hence transpose of np.vstack() is required.\n",
    "X = np.vstack((x_gridflat, y_gridflat)).T\n",
    "\n",
    "prob_contour = model_prob(X).reshape(100,100) "
   ]
  },
  {
   "cell_type": "code",
   "execution_count": 29,
   "id": "da72499a",
   "metadata": {
    "execution": {
     "iopub.execute_input": "2022-04-03T20:11:54.643155Z",
     "iopub.status.busy": "2022-04-03T20:11:54.642634Z",
     "iopub.status.idle": "2022-04-03T20:11:54.871381Z",
     "shell.execute_reply": "2022-04-03T20:11:54.871758Z"
    },
    "papermill": {
     "duration": 0.296888,
     "end_time": "2022-04-03T20:11:54.871886",
     "exception": false,
     "start_time": "2022-04-03T20:11:54.574998",
     "status": "completed"
    },
    "tags": []
   },
   "outputs": [
    {
     "data": {
      "image/png": "[encoded data removed]",
      "text/plain": [
       "<Figure size 720x648 with 1 Axes>"
      ]
     },
     "metadata": {
      "needs_background": "light"
     },
     "output_type": "display_data"
    }
   ],
   "source": [
    "plt.figure(figsize=(10,9))\n",
    "plt.scatter(testing_plot[:,0], testing_plot[:,1], alpha = 0.1, c = y_test.ravel())\n",
    "contours = plt.contour(x_grid,y_grid,prob_contour)\n",
    "plt.title('Probability Contours')\n",
    "plt.clabel(contours, inline = True );"
   ]
  },
  {
   "cell_type": "code",
   "execution_count": null,
   "id": "e81b4ac7",
   "metadata": {
    "papermill": {
     "duration": 0.041321,
     "end_time": "2022-04-03T20:11:54.955805",
     "exception": false,
     "start_time": "2022-04-03T20:11:54.914484",
     "status": "completed"
    },
    "tags": []
   },
   "outputs": [],
   "source": []
  }
 ],
 "metadata": {
  "kernelspec": {
   "display_name": "Python 3",
   "language": "python",
   "name": "python3"
  },
  "language_info": {
   "codemirror_mode": {
    "name": "ipython",
    "version": 3
   },
   "file_extension": ".py",
   "mimetype": "text/x-python",
   "name": "python",
   "nbconvert_exporter": "python",
   "pygments_lexer": "ipython3",
   "version": "3.6.15"
  },
  "papermill": {
   "default_parameters": {},
   "duration": 98.645678,
   "end_time": "2022-04-03T20:11:55.415367",
   "environment_variables": {},
   "exception": null,
   "input_path": "2020-08-11-part2.ipynb",
   "output_path": "2020-08-11-part2.ipynb",
   "parameters": {},
   "start_time": "2022-04-03T20:10:16.769689",
   "version": "2.3.3"
  }
 },
 "nbformat": 4,
 "nbformat_minor": 5
}