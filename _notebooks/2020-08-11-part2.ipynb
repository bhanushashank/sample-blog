{
 "cells": [
  {
   "cell_type": "markdown",
   "id": "98380cd3",
   "metadata": {
    "papermill": {
     "duration": 0.030351,
     "end_time": "2022-06-29T10:10:07.435421",
     "exception": false,
     "start_time": "2022-06-29T10:10:07.405070",
     "status": "completed"
    },
    "tags": []
   },
   "source": [
    "# Distinguish Your Own Digits (DYOD)"
   ]
  },
  {
   "cell_type": "markdown",
   "id": "ef31240d",
   "metadata": {
    "papermill": {
     "duration": 0.024101,
     "end_time": "2022-06-29T10:10:07.487789",
     "exception": false,
     "start_time": "2022-06-29T10:10:07.463688",
     "status": "completed"
    },
    "tags": []
   },
   "source": [
    "You are going to write a classifier that distinguishes between the number 3 and number 8."
   ]
  },
  {
   "cell_type": "code",
   "execution_count": 1,
   "id": "b15c8646",
   "metadata": {
    "execution": {
     "iopub.execute_input": "2022-06-29T10:10:07.550749Z",
     "iopub.status.busy": "2022-06-29T10:10:07.550126Z",
     "iopub.status.idle": "2022-06-29T10:10:07.561396Z",
     "shell.execute_reply": "2022-06-29T10:10:07.560895Z"
    },
    "papermill": {
     "duration": 0.046585,
     "end_time": "2022-06-29T10:10:07.561531",
     "exception": false,
     "start_time": "2022-06-29T10:10:07.514946",
     "status": "completed"
    },
    "tags": []
   },
   "outputs": [],
   "source": [
    "%load_ext autoreload\n",
    "%autoreload 2"
   ]
  },
  {
   "cell_type": "code",
   "execution_count": 2,
   "id": "22ef38dc",
   "metadata": {
    "execution": {
     "iopub.execute_input": "2022-06-29T10:10:07.624675Z",
     "iopub.status.busy": "2022-06-29T10:10:07.619881Z",
     "iopub.status.idle": "2022-06-29T10:10:08.159584Z",
     "shell.execute_reply": "2022-06-29T10:10:08.160068Z"
    },
    "papermill": {
     "duration": 0.574317,
     "end_time": "2022-06-29T10:10:08.160230",
     "exception": false,
     "start_time": "2022-06-29T10:10:07.585913",
     "status": "completed"
    },
    "tags": []
   },
   "outputs": [],
   "source": [
    "%matplotlib inline\n",
    "import numpy as np\n",
    "import matplotlib.pyplot as plt\n",
    "import pandas as pd"
   ]
  },
  {
   "cell_type": "markdown",
   "id": "ba036198",
   "metadata": {
    "papermill": {
     "duration": 0.02434,
     "end_time": "2022-06-29T10:10:08.208648",
     "exception": false,
     "start_time": "2022-06-29T10:10:08.184308",
     "status": "completed"
    },
    "tags": []
   },
   "source": [
    "From the command line run `pip install mnist`. This is a library that will help you bring down the mnist dataset. If you run this from a notebook, you need to put  `!pip install mnist` in a cell by itself."
   ]
  },
  {
   "cell_type": "code",
   "execution_count": 3,
   "id": "bb6ad8a1",
   "metadata": {
    "execution": {
     "iopub.execute_input": "2022-06-29T10:10:08.279362Z",
     "iopub.status.busy": "2022-06-29T10:10:08.275292Z",
     "iopub.status.idle": "2022-06-29T10:10:10.078396Z",
     "shell.execute_reply": "2022-06-29T10:10:10.077321Z"
    },
    "papermill": {
     "duration": 1.845773,
     "end_time": "2022-06-29T10:10:10.078545",
     "exception": false,
     "start_time": "2022-06-29T10:10:08.232772",
     "status": "completed"
    },
    "tags": []
   },
   "outputs": [
    {
     "name": "stdout",
     "output_type": "stream",
     "text": [
      "Collecting mnist\r\n"
     ]
    },
    {
     "name": "stdout",
     "output_type": "stream",
     "text": [
      "  Downloading mnist-0.2.2-py2.py3-none-any.whl (3.5 kB)\r\n",
      "Requirement already satisfied: numpy in /opt/hostedtoolcache/Python/3.6.15/x64/lib/python3.6/site-packages (from mnist) (1.19.5)\r\n"
     ]
    },
    {
     "name": "stdout",
     "output_type": "stream",
     "text": [
      "Installing collected packages: mnist\r\n"
     ]
    },
    {
     "name": "stdout",
     "output_type": "stream",
     "text": [
      "Successfully installed mnist-0.2.2\r\n"
     ]
    }
   ],
   "source": [
    "!pip install mnist"
   ]
  },
  {
   "cell_type": "markdown",
   "id": "69df9c9a",
   "metadata": {
    "papermill": {
     "duration": 0.025323,
     "end_time": "2022-06-29T10:10:10.129519",
     "exception": false,
     "start_time": "2022-06-29T10:10:10.104196",
     "status": "completed"
    },
    "tags": []
   },
   "source": [
    "## Preparing the Data"
   ]
  },
  {
   "cell_type": "code",
   "execution_count": 4,
   "id": "7f69d806",
   "metadata": {
    "execution": {
     "iopub.execute_input": "2022-06-29T10:10:10.185381Z",
     "iopub.status.busy": "2022-06-29T10:10:10.184652Z",
     "iopub.status.idle": "2022-06-29T10:10:10.200500Z",
     "shell.execute_reply": "2022-06-29T10:10:10.199597Z"
    },
    "papermill": {
     "duration": 0.04592,
     "end_time": "2022-06-29T10:10:10.200628",
     "exception": false,
     "start_time": "2022-06-29T10:10:10.154708",
     "status": "completed"
    },
    "tags": []
   },
   "outputs": [],
   "source": [
    "import mnist"
   ]
  },
  {
   "cell_type": "code",
   "execution_count": 5,
   "id": "a411e44f",
   "metadata": {
    "execution": {
     "iopub.execute_input": "2022-06-29T10:10:10.260120Z",
     "iopub.status.busy": "2022-06-29T10:10:10.255182Z",
     "iopub.status.idle": "2022-06-29T10:10:10.928011Z",
     "shell.execute_reply": "2022-06-29T10:10:10.927219Z"
    },
    "papermill": {
     "duration": 0.702189,
     "end_time": "2022-06-29T10:10:10.928153",
     "exception": false,
     "start_time": "2022-06-29T10:10:10.225964",
     "status": "completed"
    },
    "tags": []
   },
   "outputs": [],
   "source": [
    "train_images = mnist.train_images()\n",
    "train_labels = mnist.train_labels()"
   ]
  },
  {
   "cell_type": "code",
   "execution_count": 6,
   "id": "dceab3a5",
   "metadata": {
    "execution": {
     "iopub.execute_input": "2022-06-29T10:10:10.998710Z",
     "iopub.status.busy": "2022-06-29T10:10:10.991916Z",
     "iopub.status.idle": "2022-06-29T10:10:11.003963Z",
     "shell.execute_reply": "2022-06-29T10:10:11.003201Z"
    },
    "papermill": {
     "duration": 0.049773,
     "end_time": "2022-06-29T10:10:11.004097",
     "exception": false,
     "start_time": "2022-06-29T10:10:10.954324",
     "status": "completed"
    },
    "tags": []
   },
   "outputs": [
    {
     "data": {
      "text/plain": [
       "((60000, 28, 28), (60000,))"
      ]
     },
     "execution_count": 6,
     "metadata": {},
     "output_type": "execute_result"
    }
   ],
   "source": [
    "train_images.shape, train_labels.shape"
   ]
  },
  {
   "cell_type": "code",
   "execution_count": 7,
   "id": "f50dc2bb",
   "metadata": {
    "execution": {
     "iopub.execute_input": "2022-06-29T10:10:11.059684Z",
     "iopub.status.busy": "2022-06-29T10:10:11.058985Z",
     "iopub.status.idle": "2022-06-29T10:10:11.297942Z",
     "shell.execute_reply": "2022-06-29T10:10:11.297330Z"
    },
    "papermill": {
     "duration": 0.26841,
     "end_time": "2022-06-29T10:10:11.298078",
     "exception": false,
     "start_time": "2022-06-29T10:10:11.029668",
     "status": "completed"
    },
    "tags": []
   },
   "outputs": [],
   "source": [
    "test_images = mnist.test_images()\n",
    "test_labels = mnist.test_labels()"
   ]
  },
  {
   "cell_type": "code",
   "execution_count": 8,
   "id": "fc38cf1b",
   "metadata": {
    "execution": {
     "iopub.execute_input": "2022-06-29T10:10:11.355023Z",
     "iopub.status.busy": "2022-06-29T10:10:11.354407Z",
     "iopub.status.idle": "2022-06-29T10:10:11.367744Z",
     "shell.execute_reply": "2022-06-29T10:10:11.368203Z"
    },
    "papermill": {
     "duration": 0.043974,
     "end_time": "2022-06-29T10:10:11.368348",
     "exception": false,
     "start_time": "2022-06-29T10:10:11.324374",
     "status": "completed"
    },
    "tags": []
   },
   "outputs": [
    {
     "data": {
      "text/plain": [
       "((10000, 28, 28), (10000,))"
      ]
     },
     "execution_count": 8,
     "metadata": {},
     "output_type": "execute_result"
    }
   ],
   "source": [
    "test_images.shape, test_labels.shape"
   ]
  },
  {
   "cell_type": "code",
   "execution_count": 9,
   "id": "f9ed8fe0",
   "metadata": {
    "execution": {
     "iopub.execute_input": "2022-06-29T10:10:11.428364Z",
     "iopub.status.busy": "2022-06-29T10:10:11.427750Z",
     "iopub.status.idle": "2022-06-29T10:10:11.563459Z",
     "shell.execute_reply": "2022-06-29T10:10:11.563976Z"
    },
    "papermill": {
     "duration": 0.169899,
     "end_time": "2022-06-29T10:10:11.564134",
     "exception": false,
     "start_time": "2022-06-29T10:10:11.394235",
     "status": "completed"
    },
    "tags": []
   },
   "outputs": [
    {
     "name": "stdout",
     "output_type": "stream",
     "text": [
      "2\n"
     ]
    },
    {
     "data": {
      "text/plain": [
       "<matplotlib.image.AxesImage at 0x7f54b7d42978>"
      ]
     },
     "execution_count": 9,
     "metadata": {},
     "output_type": "execute_result"
    },
    {
     "data": {
      "image/png": "[encoded data removed]",
      "text/plain": [
       "<Figure size 432x288 with 1 Axes>"
      ]
     },
     "metadata": {
      "needs_background": "light"
     },
     "output_type": "display_data"
    }
   ],
   "source": [
    "image_index = 7776 # You may select anything up to 60,000\n",
    "print(train_labels[image_index]) \n",
    "plt.imshow(train_images[image_index], cmap='Greys')"
   ]
  },
  {
   "cell_type": "markdown",
   "id": "a8d2388d",
   "metadata": {
    "papermill": {
     "duration": 0.027142,
     "end_time": "2022-06-29T10:10:11.618612",
     "exception": false,
     "start_time": "2022-06-29T10:10:11.591470",
     "status": "completed"
    },
    "tags": []
   },
   "source": [
    "## Filter data to get 3 and 8 out"
   ]
  },
  {
   "cell_type": "code",
   "execution_count": 10,
   "id": "776f7fc7",
   "metadata": {
    "execution": {
     "iopub.execute_input": "2022-06-29T10:10:11.684089Z",
     "iopub.status.busy": "2022-06-29T10:10:11.683433Z",
     "iopub.status.idle": "2022-06-29T10:10:11.698753Z",
     "shell.execute_reply": "2022-06-29T10:10:11.698272Z"
    },
    "papermill": {
     "duration": 0.053495,
     "end_time": "2022-06-29T10:10:11.698880",
     "exception": false,
     "start_time": "2022-06-29T10:10:11.645385",
     "status": "completed"
    },
    "tags": []
   },
   "outputs": [],
   "source": [
    "train_filter = np.where((train_labels == 3 ) | (train_labels == 8))\n",
    "test_filter = np.where((test_labels == 3) | (test_labels == 8))\n",
    "X_train, y_train = train_images[train_filter], train_labels[train_filter]\n",
    "X_test, y_test = test_images[test_filter], test_labels[test_filter]"
   ]
  },
  {
   "cell_type": "markdown",
   "id": "948f0b7e",
   "metadata": {
    "papermill": {
     "duration": 0.027633,
     "end_time": "2022-06-29T10:10:11.753926",
     "exception": false,
     "start_time": "2022-06-29T10:10:11.726293",
     "status": "completed"
    },
    "tags": []
   },
   "source": [
    "We normalize the pizel values in the 0 to 1 range"
   ]
  },
  {
   "cell_type": "code",
   "execution_count": 11,
   "id": "ee4c2166",
   "metadata": {
    "execution": {
     "iopub.execute_input": "2022-06-29T10:10:11.824915Z",
     "iopub.status.busy": "2022-06-29T10:10:11.824279Z",
     "iopub.status.idle": "2022-06-29T10:10:11.866757Z",
     "shell.execute_reply": "2022-06-29T10:10:11.866193Z"
    },
    "papermill": {
     "duration": 0.085976,
     "end_time": "2022-06-29T10:10:11.866903",
     "exception": false,
     "start_time": "2022-06-29T10:10:11.780927",
     "status": "completed"
    },
    "tags": []
   },
   "outputs": [],
   "source": [
    "X_train = X_train/255.\n",
    "X_test = X_test/255."
   ]
  },
  {
   "cell_type": "markdown",
   "id": "ddcf4fab",
   "metadata": {
    "papermill": {
     "duration": 0.027013,
     "end_time": "2022-06-29T10:10:11.921725",
     "exception": false,
     "start_time": "2022-06-29T10:10:11.894712",
     "status": "completed"
    },
    "tags": []
   },
   "source": [
    "And setup the labels as 1 (when the digit is 3) and 0 (when the digit is 8)"
   ]
  },
  {
   "cell_type": "code",
   "execution_count": 12,
   "id": "7dc908f2",
   "metadata": {
    "execution": {
     "iopub.execute_input": "2022-06-29T10:10:11.981297Z",
     "iopub.status.busy": "2022-06-29T10:10:11.980589Z",
     "iopub.status.idle": "2022-06-29T10:10:11.994571Z",
     "shell.execute_reply": "2022-06-29T10:10:11.994075Z"
    },
    "papermill": {
     "duration": 0.045912,
     "end_time": "2022-06-29T10:10:11.994693",
     "exception": false,
     "start_time": "2022-06-29T10:10:11.948781",
     "status": "completed"
    },
    "tags": []
   },
   "outputs": [],
   "source": [
    "y_train = 1*(y_train==3)\n",
    "y_test = 1*(y_test==3)"
   ]
  },
  {
   "cell_type": "code",
   "execution_count": 13,
   "id": "01e4e969",
   "metadata": {
    "execution": {
     "iopub.execute_input": "2022-06-29T10:10:12.054309Z",
     "iopub.status.busy": "2022-06-29T10:10:12.053719Z",
     "iopub.status.idle": "2022-06-29T10:10:12.067541Z",
     "shell.execute_reply": "2022-06-29T10:10:12.066941Z"
    },
    "papermill": {
     "duration": 0.045551,
     "end_time": "2022-06-29T10:10:12.067664",
     "exception": false,
     "start_time": "2022-06-29T10:10:12.022113",
     "status": "completed"
    },
    "tags": []
   },
   "outputs": [
    {
     "data": {
      "text/plain": [
       "((11982, 28, 28), (1984, 28, 28))"
      ]
     },
     "execution_count": 13,
     "metadata": {},
     "output_type": "execute_result"
    }
   ],
   "source": [
    "X_train.shape, X_test.shape"
   ]
  },
  {
   "cell_type": "markdown",
   "id": "5ccf3f85",
   "metadata": {
    "papermill": {
     "duration": 0.029541,
     "end_time": "2022-06-29T10:10:12.124394",
     "exception": false,
     "start_time": "2022-06-29T10:10:12.094853",
     "status": "completed"
    },
    "tags": []
   },
   "source": [
    "We reshape the data to flatten the image pixels into a set of features or co-variates:"
   ]
  },
  {
   "cell_type": "code",
   "execution_count": 14,
   "id": "5286a4a3",
   "metadata": {
    "execution": {
     "iopub.execute_input": "2022-06-29T10:10:12.188261Z",
     "iopub.status.busy": "2022-06-29T10:10:12.187656Z",
     "iopub.status.idle": "2022-06-29T10:10:12.199178Z",
     "shell.execute_reply": "2022-06-29T10:10:12.198677Z"
    },
    "papermill": {
     "duration": 0.047703,
     "end_time": "2022-06-29T10:10:12.199304",
     "exception": false,
     "start_time": "2022-06-29T10:10:12.151601",
     "status": "completed"
    },
    "tags": []
   },
   "outputs": [
    {
     "data": {
      "text/plain": [
       "((11982, 784), (1984, 784))"
      ]
     },
     "execution_count": 14,
     "metadata": {},
     "output_type": "execute_result"
    }
   ],
   "source": [
    "X_train = X_train.reshape(X_train.shape[0], -1)\n",
    "X_test = X_test.reshape(X_test.shape[0], -1)\n",
    "X_train.shape, X_test.shape"
   ]
  },
  {
   "cell_type": "code",
   "execution_count": 15,
   "id": "73c5f88a",
   "metadata": {
    "execution": {
     "iopub.execute_input": "2022-06-29T10:10:12.260198Z",
     "iopub.status.busy": "2022-06-29T10:10:12.259474Z",
     "iopub.status.idle": "2022-06-29T10:10:12.280871Z",
     "shell.execute_reply": "2022-06-29T10:10:12.280316Z"
    },
    "papermill": {
     "duration": 0.054216,
     "end_time": "2022-06-29T10:10:12.281002",
     "exception": false,
     "start_time": "2022-06-29T10:10:12.226786",
     "status": "completed"
    },
    "tags": []
   },
   "outputs": [],
   "source": [
    "#Impoting functions from 'Kudzu'\n",
    "from kudzu.model import Model\n",
    "from kudzu.train import Learner\n",
    "from kudzu.optim import GD\n",
    "from kudzu.data import Data, Sampler,Dataloader\n",
    "\n",
    "from kudzu.callbacks import AccCallback\n",
    "from kudzu.callbacks import ClfCallback\n",
    "\n",
    "from kudzu.loss import MSE\n",
    "\n",
    "from kudzu.layer import Sigmoid,Relu\n",
    "from kudzu.layer import Affine"
   ]
  },
  {
   "cell_type": "markdown",
   "id": "bc01172a",
   "metadata": {
    "papermill": {
     "duration": 0.027913,
     "end_time": "2022-06-29T10:10:12.337286",
     "exception": false,
     "start_time": "2022-06-29T10:10:12.309373",
     "status": "completed"
    },
    "tags": []
   },
   "source": [
    "### Let us create a `Config` class, to store important parameters. \n",
    "This class essentially plays the role of a dictionary."
   ]
  },
  {
   "cell_type": "code",
   "execution_count": 16,
   "id": "978281aa",
   "metadata": {
    "execution": {
     "iopub.execute_input": "2022-06-29T10:10:12.403404Z",
     "iopub.status.busy": "2022-06-29T10:10:12.402712Z",
     "iopub.status.idle": "2022-06-29T10:10:12.411465Z",
     "shell.execute_reply": "2022-06-29T10:10:12.411896Z"
    },
    "papermill": {
     "duration": 0.047365,
     "end_time": "2022-06-29T10:10:12.412040",
     "exception": false,
     "start_time": "2022-06-29T10:10:12.364675",
     "status": "completed"
    },
    "tags": []
   },
   "outputs": [],
   "source": [
    "class Config:\n",
    "    pass\n",
    "config = Config()\n",
    "config.lr = 0.001\n",
    "config.num_epochs = 250\n",
    "config.bs = 50"
   ]
  },
  {
   "cell_type": "markdown",
   "id": "1385fa59",
   "metadata": {
    "papermill": {
     "duration": 0.02767,
     "end_time": "2022-06-29T10:10:12.467458",
     "exception": false,
     "start_time": "2022-06-29T10:10:12.439788",
     "status": "completed"
    },
    "tags": []
   },
   "source": [
    "### Running Models with the Training data\n",
    "Details about the network layers:\n",
    "- A first affine layer has 784 inputs and does 100 affine transforms. These are followed by a Relu\n",
    "- A second affine layer has 100 inputs from the 100 activations of the past layer, and does 100 affine transforms. These are followed by a Relu\n",
    "- A third affine layer has 100 activations and does 2 affine transformations to create an embedding for visualization. There is no non-linearity here.\n",
    "- A final \"logistic regression\" which has an affine transform from 2 inputs to 1 output, which is squeezed through a sigmoid.\n"
   ]
  },
  {
   "cell_type": "code",
   "execution_count": 17,
   "id": "2b9c66db",
   "metadata": {
    "execution": {
     "iopub.execute_input": "2022-06-29T10:10:12.541447Z",
     "iopub.status.busy": "2022-06-29T10:10:12.540757Z",
     "iopub.status.idle": "2022-06-29T10:10:12.543659Z",
     "shell.execute_reply": "2022-06-29T10:10:12.544157Z"
    },
    "papermill": {
     "duration": 0.049308,
     "end_time": "2022-06-29T10:10:12.544306",
     "exception": false,
     "start_time": "2022-06-29T10:10:12.494998",
     "status": "completed"
    },
    "tags": []
   },
   "outputs": [],
   "source": [
    "data = Data(X_train, y_train.reshape(-1,1))\n",
    "sampler = Sampler(data, config.bs, shuffle=True)\n",
    "\n",
    "dl = Dataloader(data, sampler)\n",
    "\n",
    "opt = GD(config.lr)\n",
    "loss = MSE()"
   ]
  },
  {
   "cell_type": "code",
   "execution_count": 18,
   "id": "b275e4c2",
   "metadata": {
    "execution": {
     "iopub.execute_input": "2022-06-29T10:10:12.616781Z",
     "iopub.status.busy": "2022-06-29T10:10:12.616122Z",
     "iopub.status.idle": "2022-06-29T10:10:12.623106Z",
     "shell.execute_reply": "2022-06-29T10:10:12.622596Z"
    },
    "papermill": {
     "duration": 0.051112,
     "end_time": "2022-06-29T10:10:12.623231",
     "exception": false,
     "start_time": "2022-06-29T10:10:12.572119",
     "status": "completed"
    },
    "tags": []
   },
   "outputs": [],
   "source": [
    "training_data_x = X_train\n",
    "testing_data_x = X_test\n",
    "training_data_y = y_train.reshape(-1,1)\n",
    "testing_data_y = y_test.reshape(-1,1)"
   ]
  },
  {
   "cell_type": "code",
   "execution_count": 19,
   "id": "76951160",
   "metadata": {
    "execution": {
     "iopub.execute_input": "2022-06-29T10:10:12.687043Z",
     "iopub.status.busy": "2022-06-29T10:10:12.686403Z",
     "iopub.status.idle": "2022-06-29T10:10:12.701438Z",
     "shell.execute_reply": "2022-06-29T10:10:12.700865Z"
    },
    "papermill": {
     "duration": 0.050891,
     "end_time": "2022-06-29T10:10:12.701558",
     "exception": false,
     "start_time": "2022-06-29T10:10:12.650667",
     "status": "completed"
    },
    "tags": []
   },
   "outputs": [
    {
     "name": "stdout",
     "output_type": "stream",
     "text": [
      "xavier\n",
      "xavier\n",
      "xavier\n",
      "xavier\n",
      "xavier\n"
     ]
    }
   ],
   "source": [
    "layers = [Affine(\"first\", 784, 100), Relu(\"first\"), Affine(\"second\", 100, 100), Relu(\"second\"), Affine(\"third\", 100, 2), Affine(\"last\", 2, 1), Sigmoid(\"last\")]\n",
    "model_nn = Model(layers)\n",
    "model_lr = Model([Affine(\"logits\", 784, 1), Sigmoid(\"sigmoid\")])"
   ]
  },
  {
   "cell_type": "code",
   "execution_count": 20,
   "id": "6eede77a",
   "metadata": {
    "execution": {
     "iopub.execute_input": "2022-06-29T10:10:12.775494Z",
     "iopub.status.busy": "2022-06-29T10:10:12.772415Z",
     "iopub.status.idle": "2022-06-29T10:10:12.778280Z",
     "shell.execute_reply": "2022-06-29T10:10:12.777802Z"
    },
    "papermill": {
     "duration": 0.048919,
     "end_time": "2022-06-29T10:10:12.778398",
     "exception": false,
     "start_time": "2022-06-29T10:10:12.729479",
     "status": "completed"
    },
    "tags": []
   },
   "outputs": [],
   "source": [
    "nn_learner = Learner(loss, model_nn, opt, config.num_epochs)\n",
    "acc_nn = ClfCallback(nn_learner, config.bs, training_data_x , testing_data_x, training_data_y, testing_data_y)\n",
    "nn_learner.set_callbacks([acc_nn])"
   ]
  },
  {
   "cell_type": "code",
   "execution_count": 21,
   "id": "877b6cc7",
   "metadata": {
    "execution": {
     "iopub.execute_input": "2022-06-29T10:10:12.848887Z",
     "iopub.status.busy": "2022-06-29T10:10:12.848266Z",
     "iopub.status.idle": "2022-06-29T10:10:12.855236Z",
     "shell.execute_reply": "2022-06-29T10:10:12.854727Z"
    },
    "papermill": {
     "duration": 0.049179,
     "end_time": "2022-06-29T10:10:12.855362",
     "exception": false,
     "start_time": "2022-06-29T10:10:12.806183",
     "status": "completed"
    },
    "tags": []
   },
   "outputs": [],
   "source": [
    "lr_learner = Learner(loss, model_lr, opt, config.num_epochs)\n",
    "acc_lr = ClfCallback(lr_learner, config.bs, training_data_x , testing_data_x, training_data_y, testing_data_y)\n",
    "lr_learner.set_callbacks([acc_lr])"
   ]
  },
  {
   "cell_type": "code",
   "execution_count": 22,
   "id": "d9b133c3",
   "metadata": {
    "execution": {
     "iopub.execute_input": "2022-06-29T10:10:12.916480Z",
     "iopub.status.busy": "2022-06-29T10:10:12.915893Z",
     "iopub.status.idle": "2022-06-29T10:11:29.831937Z",
     "shell.execute_reply": "2022-06-29T10:11:29.832772Z"
    },
    "papermill": {
     "duration": 76.949664,
     "end_time": "2022-06-29T10:11:29.832926",
     "exception": false,
     "start_time": "2022-06-29T10:10:12.883262",
     "status": "completed"
    },
    "tags": []
   },
   "outputs": [
    {
     "name": "stdout",
     "output_type": "stream",
     "text": [
      "Epoch 0, Loss 0.2231\n",
      "Training Accuracy: 0.7878, Testing Accuracy: 0.8044\n",
      "\n"
     ]
    },
    {
     "name": "stdout",
     "output_type": "stream",
     "text": [
      "Epoch 10, Loss 0.0699\n",
      "Training Accuracy: 0.9321, Testing Accuracy: 0.9441\n",
      "\n"
     ]
    },
    {
     "name": "stdout",
     "output_type": "stream",
     "text": [
      "Epoch 20, Loss 0.0473\n",
      "Training Accuracy: 0.9501, Testing Accuracy: 0.9592\n",
      "\n"
     ]
    },
    {
     "name": "stdout",
     "output_type": "stream",
     "text": [
      "Epoch 30, Loss 0.0391\n",
      "Training Accuracy: 0.9565, Testing Accuracy: 0.9662\n",
      "\n"
     ]
    },
    {
     "name": "stdout",
     "output_type": "stream",
     "text": [
      "Epoch 40, Loss 0.0347\n",
      "Training Accuracy: 0.9612, Testing Accuracy: 0.9667\n",
      "\n"
     ]
    },
    {
     "name": "stdout",
     "output_type": "stream",
     "text": [
      "Epoch 50, Loss 0.0319\n",
      "Training Accuracy: 0.9634, Testing Accuracy: 0.9682\n",
      "\n"
     ]
    },
    {
     "name": "stdout",
     "output_type": "stream",
     "text": [
      "Epoch 60, Loss 0.0299\n",
      "Training Accuracy: 0.9650, Testing Accuracy: 0.9703\n",
      "\n"
     ]
    },
    {
     "name": "stdout",
     "output_type": "stream",
     "text": [
      "Epoch 70, Loss 0.0284\n",
      "Training Accuracy: 0.9678, Testing Accuracy: 0.9723\n",
      "\n"
     ]
    },
    {
     "name": "stdout",
     "output_type": "stream",
     "text": [
      "Epoch 80, Loss 0.0271\n",
      "Training Accuracy: 0.9687, Testing Accuracy: 0.9733\n",
      "\n"
     ]
    },
    {
     "name": "stdout",
     "output_type": "stream",
     "text": [
      "Epoch 90, Loss 0.0261\n",
      "Training Accuracy: 0.9701, Testing Accuracy: 0.9733\n",
      "\n"
     ]
    },
    {
     "name": "stdout",
     "output_type": "stream",
     "text": [
      "Epoch 100, Loss 0.0251\n",
      "Training Accuracy: 0.9710, Testing Accuracy: 0.9743\n",
      "\n"
     ]
    },
    {
     "name": "stdout",
     "output_type": "stream",
     "text": [
      "Epoch 110, Loss 0.0243\n",
      "Training Accuracy: 0.9719, Testing Accuracy: 0.9733\n",
      "\n"
     ]
    },
    {
     "name": "stdout",
     "output_type": "stream",
     "text": [
      "Epoch 120, Loss 0.0236\n",
      "Training Accuracy: 0.9731, Testing Accuracy: 0.9743\n",
      "\n"
     ]
    },
    {
     "name": "stdout",
     "output_type": "stream",
     "text": [
      "Epoch 130, Loss 0.0229\n",
      "Training Accuracy: 0.9735, Testing Accuracy: 0.9733\n",
      "\n"
     ]
    },
    {
     "name": "stdout",
     "output_type": "stream",
     "text": [
      "Epoch 140, Loss 0.0223\n",
      "Training Accuracy: 0.9741, Testing Accuracy: 0.9738\n",
      "\n"
     ]
    },
    {
     "name": "stdout",
     "output_type": "stream",
     "text": [
      "Epoch 150, Loss 0.0218\n",
      "Training Accuracy: 0.9748, Testing Accuracy: 0.9738\n",
      "\n"
     ]
    },
    {
     "name": "stdout",
     "output_type": "stream",
     "text": [
      "Epoch 160, Loss 0.0212\n",
      "Training Accuracy: 0.9756, Testing Accuracy: 0.9738\n",
      "\n"
     ]
    },
    {
     "name": "stdout",
     "output_type": "stream",
     "text": [
      "Epoch 170, Loss 0.0207\n",
      "Training Accuracy: 0.9757, Testing Accuracy: 0.9743\n",
      "\n"
     ]
    },
    {
     "name": "stdout",
     "output_type": "stream",
     "text": [
      "Epoch 180, Loss 0.0202\n",
      "Training Accuracy: 0.9767, Testing Accuracy: 0.9748\n",
      "\n"
     ]
    },
    {
     "name": "stdout",
     "output_type": "stream",
     "text": [
      "Epoch 190, Loss 0.0198\n",
      "Training Accuracy: 0.9775, Testing Accuracy: 0.9748\n",
      "\n"
     ]
    },
    {
     "name": "stdout",
     "output_type": "stream",
     "text": [
      "Epoch 200, Loss 0.0194\n",
      "Training Accuracy: 0.9779, Testing Accuracy: 0.9748\n",
      "\n"
     ]
    },
    {
     "name": "stdout",
     "output_type": "stream",
     "text": [
      "Epoch 210, Loss 0.019\n",
      "Training Accuracy: 0.9781, Testing Accuracy: 0.9758\n",
      "\n"
     ]
    },
    {
     "name": "stdout",
     "output_type": "stream",
     "text": [
      "Epoch 220, Loss 0.0186\n",
      "Training Accuracy: 0.9792, Testing Accuracy: 0.9758\n",
      "\n"
     ]
    },
    {
     "name": "stdout",
     "output_type": "stream",
     "text": [
      "Epoch 230, Loss 0.0182\n",
      "Training Accuracy: 0.9797, Testing Accuracy: 0.9758\n",
      "\n"
     ]
    },
    {
     "name": "stdout",
     "output_type": "stream",
     "text": [
      "Epoch 240, Loss 0.0178\n",
      "Training Accuracy: 0.9804, Testing Accuracy: 0.9758\n",
      "\n"
     ]
    },
    {
     "data": {
      "text/plain": [
       "0.02423510932745325"
      ]
     },
     "execution_count": 22,
     "metadata": {},
     "output_type": "execute_result"
    }
   ],
   "source": [
    "nn_learner.train_loop(dl)"
   ]
  },
  {
   "cell_type": "code",
   "execution_count": 23,
   "id": "e0163366",
   "metadata": {
    "execution": {
     "iopub.execute_input": "2022-06-29T10:11:29.924584Z",
     "iopub.status.busy": "2022-06-29T10:11:29.923956Z",
     "iopub.status.idle": "2022-06-29T10:11:44.294818Z",
     "shell.execute_reply": "2022-06-29T10:11:44.295700Z"
    },
    "papermill": {
     "duration": 14.422126,
     "end_time": "2022-06-29T10:11:44.295853",
     "exception": false,
     "start_time": "2022-06-29T10:11:29.873727",
     "status": "completed"
    },
    "tags": []
   },
   "outputs": [
    {
     "name": "stdout",
     "output_type": "stream",
     "text": [
      "Epoch 0, Loss 0.2409\n",
      "Training Accuracy: 0.6812, Testing Accuracy: 0.7036\n",
      "\n"
     ]
    },
    {
     "name": "stdout",
     "output_type": "stream",
     "text": [
      "Epoch 10, Loss 0.1019\n",
      "Training Accuracy: 0.9123, Testing Accuracy: 0.9274\n",
      "\n"
     ]
    },
    {
     "name": "stdout",
     "output_type": "stream",
     "text": [
      "Epoch 20, Loss 0.0789\n",
      "Training Accuracy: 0.9285, Testing Accuracy: 0.9395\n",
      "\n"
     ]
    },
    {
     "name": "stdout",
     "output_type": "stream",
     "text": [
      "Epoch 30, Loss 0.0682\n",
      "Training Accuracy: 0.9357, Testing Accuracy: 0.9486\n",
      "\n"
     ]
    },
    {
     "name": "stdout",
     "output_type": "stream",
     "text": [
      "Epoch 40, Loss 0.0617\n",
      "Training Accuracy: 0.9412, Testing Accuracy: 0.9521\n",
      "\n"
     ]
    },
    {
     "name": "stdout",
     "output_type": "stream",
     "text": [
      "Epoch 50, Loss 0.0572\n",
      "Training Accuracy: 0.9444, Testing Accuracy: 0.9526\n",
      "\n"
     ]
    },
    {
     "name": "stdout",
     "output_type": "stream",
     "text": [
      "Epoch 60, Loss 0.0539\n",
      "Training Accuracy: 0.9465, Testing Accuracy: 0.9546\n",
      "\n"
     ]
    },
    {
     "name": "stdout",
     "output_type": "stream",
     "text": [
      "Epoch 70, Loss 0.0514\n",
      "Training Accuracy: 0.9483, Testing Accuracy: 0.9561\n",
      "\n"
     ]
    },
    {
     "name": "stdout",
     "output_type": "stream",
     "text": [
      "Epoch 80, Loss 0.0493\n",
      "Training Accuracy: 0.9496, Testing Accuracy: 0.9582\n",
      "\n"
     ]
    },
    {
     "name": "stdout",
     "output_type": "stream",
     "text": [
      "Epoch 90, Loss 0.0476\n",
      "Training Accuracy: 0.9515, Testing Accuracy: 0.9602\n",
      "\n"
     ]
    },
    {
     "name": "stdout",
     "output_type": "stream",
     "text": [
      "Epoch 100, Loss 0.0462\n",
      "Training Accuracy: 0.9529, Testing Accuracy: 0.9602\n",
      "\n"
     ]
    },
    {
     "name": "stdout",
     "output_type": "stream",
     "text": [
      "Epoch 110, Loss 0.0449\n",
      "Training Accuracy: 0.9537, Testing Accuracy: 0.9632\n",
      "\n"
     ]
    },
    {
     "name": "stdout",
     "output_type": "stream",
     "text": [
      "Epoch 120, Loss 0.0439\n",
      "Training Accuracy: 0.9540, Testing Accuracy: 0.9637\n",
      "\n"
     ]
    },
    {
     "name": "stdout",
     "output_type": "stream",
     "text": [
      "Epoch 130, Loss 0.0429\n",
      "Training Accuracy: 0.9548, Testing Accuracy: 0.9637\n",
      "\n"
     ]
    },
    {
     "name": "stdout",
     "output_type": "stream",
     "text": [
      "Epoch 140, Loss 0.0421\n",
      "Training Accuracy: 0.9558, Testing Accuracy: 0.9647\n",
      "\n"
     ]
    },
    {
     "name": "stdout",
     "output_type": "stream",
     "text": [
      "Epoch 150, Loss 0.0414\n",
      "Training Accuracy: 0.9560, Testing Accuracy: 0.9652\n",
      "\n"
     ]
    },
    {
     "name": "stdout",
     "output_type": "stream",
     "text": [
      "Epoch 160, Loss 0.0407\n",
      "Training Accuracy: 0.9567, Testing Accuracy: 0.9657\n",
      "\n"
     ]
    },
    {
     "name": "stdout",
     "output_type": "stream",
     "text": [
      "Epoch 170, Loss 0.0401\n",
      "Training Accuracy: 0.9574, Testing Accuracy: 0.9657\n",
      "\n"
     ]
    },
    {
     "name": "stdout",
     "output_type": "stream",
     "text": [
      "Epoch 180, Loss 0.0395\n",
      "Training Accuracy: 0.9574, Testing Accuracy: 0.9657\n",
      "\n"
     ]
    },
    {
     "name": "stdout",
     "output_type": "stream",
     "text": [
      "Epoch 190, Loss 0.039\n",
      "Training Accuracy: 0.9579, Testing Accuracy: 0.9662\n",
      "\n"
     ]
    },
    {
     "name": "stdout",
     "output_type": "stream",
     "text": [
      "Epoch 200, Loss 0.0385\n",
      "Training Accuracy: 0.9586, Testing Accuracy: 0.9667\n",
      "\n"
     ]
    },
    {
     "name": "stdout",
     "output_type": "stream",
     "text": [
      "Epoch 210, Loss 0.038\n",
      "Training Accuracy: 0.9591, Testing Accuracy: 0.9672\n",
      "\n"
     ]
    },
    {
     "name": "stdout",
     "output_type": "stream",
     "text": [
      "Epoch 220, Loss 0.0376\n",
      "Training Accuracy: 0.9597, Testing Accuracy: 0.9677\n",
      "\n"
     ]
    },
    {
     "name": "stdout",
     "output_type": "stream",
     "text": [
      "Epoch 230, Loss 0.0372\n",
      "Training Accuracy: 0.9600, Testing Accuracy: 0.9677\n",
      "\n"
     ]
    },
    {
     "name": "stdout",
     "output_type": "stream",
     "text": [
      "Epoch 240, Loss 0.0369\n",
      "Training Accuracy: 0.9604, Testing Accuracy: 0.9677\n",
      "\n"
     ]
    },
    {
     "data": {
      "text/plain": [
       "0.008876478319639409"
      ]
     },
     "execution_count": 23,
     "metadata": {},
     "output_type": "execute_result"
    }
   ],
   "source": [
    "lr_learner.train_loop(dl)"
   ]
  },
  {
   "cell_type": "code",
   "execution_count": 24,
   "id": "ca410940",
   "metadata": {
    "execution": {
     "iopub.execute_input": "2022-06-29T10:11:44.389110Z",
     "iopub.status.busy": "2022-06-29T10:11:44.388509Z",
     "iopub.status.idle": "2022-06-29T10:11:44.614483Z",
     "shell.execute_reply": "2022-06-29T10:11:44.615328Z"
    },
    "papermill": {
     "duration": 0.277446,
     "end_time": "2022-06-29T10:11:44.615498",
     "exception": false,
     "start_time": "2022-06-29T10:11:44.338052",
     "status": "completed"
    },
    "tags": []
   },
   "outputs": [
    {
     "data": {
      "text/plain": [
       "<matplotlib.legend.Legend at 0x7f54b78b4b00>"
      ]
     },
     "execution_count": 24,
     "metadata": {},
     "output_type": "execute_result"
    },
    {
     "data": {
      "image/png": "[encoded data removed]",
      "text/plain": [
       "<Figure size 1080x720 with 1 Axes>"
      ]
     },
     "metadata": {
      "needs_background": "light"
     },
     "output_type": "display_data"
    }
   ],
   "source": [
    "#comparing the results of NN and LR\n",
    "plt.figure(figsize=(15,10))\n",
    "\n",
    "# Neural Network plots\n",
    "plt.plot(acc_nn.accuracies, 'r-', label = \"Training Accuracies - NN\")\n",
    "plt.plot(acc_nn.test_accuracies, 'g-', label = \"Testing Accuracies - NN\")\n",
    "\n",
    "# Logistic Regression plots\n",
    "plt.plot(acc_lr.accuracies, 'k-', label = \"Training Accuracies - LR\")\n",
    "plt.plot(acc_lr.test_accuracies, 'b-', label = \"Testing Accuracies - LR\")\n",
    "plt.legend()"
   ]
  },
  {
   "cell_type": "markdown",
   "id": "80dfb35c",
   "metadata": {
    "papermill": {
     "duration": 0.042396,
     "end_time": "2022-06-29T10:11:44.700873",
     "exception": false,
     "start_time": "2022-06-29T10:11:44.658477",
     "status": "completed"
    },
    "tags": []
   },
   "source": [
    "#### Plotting the outputs of this layer of the NN.\n"
   ]
  },
  {
   "cell_type": "code",
   "execution_count": 25,
   "id": "45eb2ff5",
   "metadata": {
    "execution": {
     "iopub.execute_input": "2022-06-29T10:11:44.797911Z",
     "iopub.status.busy": "2022-06-29T10:11:44.795820Z",
     "iopub.status.idle": "2022-06-29T10:11:44.814541Z",
     "shell.execute_reply": "2022-06-29T10:11:44.814053Z"
    },
    "papermill": {
     "duration": 0.071089,
     "end_time": "2022-06-29T10:11:44.814667",
     "exception": false,
     "start_time": "2022-06-29T10:11:44.743578",
     "status": "completed"
    },
    "tags": []
   },
   "outputs": [],
   "source": [
    "new_model = Model(layers[:-2])\n",
    "testing_plot = new_model(testing_data_x)"
   ]
  },
  {
   "cell_type": "code",
   "execution_count": 26,
   "id": "4c0a5485",
   "metadata": {
    "execution": {
     "iopub.execute_input": "2022-06-29T10:11:44.914498Z",
     "iopub.status.busy": "2022-06-29T10:11:44.913904Z",
     "iopub.status.idle": "2022-06-29T10:11:45.109990Z",
     "shell.execute_reply": "2022-06-29T10:11:45.109389Z"
    },
    "papermill": {
     "duration": 0.252252,
     "end_time": "2022-06-29T10:11:45.110116",
     "exception": false,
     "start_time": "2022-06-29T10:11:44.857864",
     "status": "completed"
    },
    "tags": []
   },
   "outputs": [
    {
     "data": {
      "text/plain": [
       "Text(0.5, 1.0, 'Outputs')"
      ]
     },
     "execution_count": 26,
     "metadata": {},
     "output_type": "execute_result"
    },
    {
     "data": {
      "image/png": "[encoded data removed]",
      "text/plain": [
       "<Figure size 576x504 with 1 Axes>"
      ]
     },
     "metadata": {
      "needs_background": "light"
     },
     "output_type": "display_data"
    }
   ],
   "source": [
    "# Plotting the scatter plot of points and color coding by class\n",
    "plt.figure(figsize=(8,7))\n",
    "plt.scatter(testing_plot[:,0], testing_plot[:,1], alpha = 0.1, c = y_test.ravel());\n",
    "plt.title('Outputs')"
   ]
  },
  {
   "cell_type": "markdown",
   "id": "a74fcf8f",
   "metadata": {
    "papermill": {
     "duration": 0.045191,
     "end_time": "2022-06-29T10:11:45.200835",
     "exception": false,
     "start_time": "2022-06-29T10:11:45.155644",
     "status": "completed"
    },
    "tags": []
   },
   "source": [
    "Probability contours"
   ]
  },
  {
   "cell_type": "code",
   "execution_count": 27,
   "id": "d0afc8e3",
   "metadata": {
    "execution": {
     "iopub.execute_input": "2022-06-29T10:11:45.336999Z",
     "iopub.status.busy": "2022-06-29T10:11:45.335886Z",
     "iopub.status.idle": "2022-06-29T10:11:45.344414Z",
     "shell.execute_reply": "2022-06-29T10:11:45.344861Z"
    },
    "papermill": {
     "duration": 0.096442,
     "end_time": "2022-06-29T10:11:45.344999",
     "exception": false,
     "start_time": "2022-06-29T10:11:45.248557",
     "status": "completed"
    },
    "tags": []
   },
   "outputs": [],
   "source": [
    "model_prob = Model(layers[-2:]) "
   ]
  },
  {
   "cell_type": "code",
   "execution_count": 28,
   "id": "9b96e238",
   "metadata": {
    "execution": {
     "iopub.execute_input": "2022-06-29T10:11:45.448016Z",
     "iopub.status.busy": "2022-06-29T10:11:45.447380Z",
     "iopub.status.idle": "2022-06-29T10:11:45.458271Z",
     "shell.execute_reply": "2022-06-29T10:11:45.457703Z"
    },
    "papermill": {
     "duration": 0.068093,
     "end_time": "2022-06-29T10:11:45.458387",
     "exception": false,
     "start_time": "2022-06-29T10:11:45.390294",
     "status": "completed"
    },
    "tags": []
   },
   "outputs": [],
   "source": [
    "#creating the x and y ranges according to the above generated plot.\n",
    "x_range = np.linspace(-4, 1, 100) \n",
    "y_range = np.linspace(-6, 6, 100) \n",
    "x_grid, y_grid = np.meshgrid(x_range, y_range) # x_grid and y_grig are of size 100 X 100\n",
    "\n",
    "# converting x_grid and y_grid to continuous arrays\n",
    "x_gridflat = np.ravel(x_grid)\n",
    "y_gridflat = np.ravel(y_grid)\n",
    "\n",
    "# The last layer of the current model takes two columns as input. Hence transpose of np.vstack() is required.\n",
    "X = np.vstack((x_gridflat, y_gridflat)).T\n",
    "\n",
    "prob_contour = model_prob(X).reshape(100,100) "
   ]
  },
  {
   "cell_type": "code",
   "execution_count": 29,
   "id": "da72499a",
   "metadata": {
    "execution": {
     "iopub.execute_input": "2022-06-29T10:11:45.555721Z",
     "iopub.status.busy": "2022-06-29T10:11:45.555102Z",
     "iopub.status.idle": "2022-06-29T10:11:45.794340Z",
     "shell.execute_reply": "2022-06-29T10:11:45.793866Z"
    },
    "papermill": {
     "duration": 0.290633,
     "end_time": "2022-06-29T10:11:45.794471",
     "exception": false,
     "start_time": "2022-06-29T10:11:45.503838",
     "status": "completed"
    },
    "tags": []
   },
   "outputs": [
    {
     "data": {
      "image/png": "[encoded data removed]",
      "text/plain": [
       "<Figure size 720x648 with 1 Axes>"
      ]
     },
     "metadata": {
      "needs_background": "light"
     },
     "output_type": "display_data"
    }
   ],
   "source": [
    "plt.figure(figsize=(10,9))\n",
    "plt.scatter(testing_plot[:,0], testing_plot[:,1], alpha = 0.1, c = y_test.ravel())\n",
    "contours = plt.contour(x_grid,y_grid,prob_contour)\n",
    "plt.title('Probability Contours')\n",
    "plt.clabel(contours, inline = True );"
   ]
  },
  {
   "cell_type": "code",
   "execution_count": null,
   "id": "e81b4ac7",
   "metadata": {
    "papermill": {
     "duration": 0.048043,
     "end_time": "2022-06-29T10:11:45.891614",
     "exception": false,
     "start_time": "2022-06-29T10:11:45.843571",
     "status": "completed"
    },
    "tags": []
   },
   "outputs": [],
   "source": []
  }
 ],
 "metadata": {
  "kernelspec": {
   "display_name": "Python 3",
   "language": "python",
   "name": "python3"
  },
  "language_info": {
   "codemirror_mode": {
    "name": "ipython",
    "version": 3
   },
   "file_extension": ".py",
   "mimetype": "text/x-python",
   "name": "python",
   "nbconvert_exporter": "python",
   "pygments_lexer": "ipython3",
   "version": "3.6.15"
  },
  "papermill": {
   "default_parameters": {},
   "duration": 99.901686,
   "end_time": "2022-06-29T10:11:46.361742",
   "environment_variables": {},
   "exception": null,
   "input_path": "2020-08-11-part2.ipynb",
   "output_path": "2020-08-11-part2.ipynb",
   "parameters": {},
   "start_time": "2022-06-29T10:10:06.460056",
   "version": "2.3.3"
  }
 },
 "nbformat": 4,
 "nbformat_minor": 5
}