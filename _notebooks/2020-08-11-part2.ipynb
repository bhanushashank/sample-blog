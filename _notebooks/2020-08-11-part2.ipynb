{
 "cells": [
  {
   "cell_type": "markdown",
   "id": "98380cd3",
   "metadata": {
    "papermill": {
     "duration": 0.030306,
     "end_time": "2022-09-23T10:10:43.832576",
     "exception": false,
     "start_time": "2022-09-23T10:10:43.802270",
     "status": "completed"
    },
    "tags": []
   },
   "source": [
    "# Distinguish Your Own Digits (DYOD)"
   ]
  },
  {
   "cell_type": "markdown",
   "id": "ef31240d",
   "metadata": {
    "papermill": {
     "duration": 0.023699,
     "end_time": "2022-09-23T10:10:43.881164",
     "exception": false,
     "start_time": "2022-09-23T10:10:43.857465",
     "status": "completed"
    },
    "tags": []
   },
   "source": [
    "You are going to write a classifier that distinguishes between the number 3 and number 8."
   ]
  },
  {
   "cell_type": "code",
   "execution_count": 1,
   "id": "b15c8646",
   "metadata": {
    "execution": {
     "iopub.execute_input": "2022-09-23T10:10:43.942965Z",
     "iopub.status.busy": "2022-09-23T10:10:43.940727Z",
     "iopub.status.idle": "2022-09-23T10:10:43.953479Z",
     "shell.execute_reply": "2022-09-23T10:10:43.952891Z"
    },
    "papermill": {
     "duration": 0.044528,
     "end_time": "2022-09-23T10:10:43.953609",
     "exception": false,
     "start_time": "2022-09-23T10:10:43.909081",
     "status": "completed"
    },
    "tags": []
   },
   "outputs": [],
   "source": [
    "%load_ext autoreload\n",
    "%autoreload 2"
   ]
  },
  {
   "cell_type": "code",
   "execution_count": 2,
   "id": "22ef38dc",
   "metadata": {
    "execution": {
     "iopub.execute_input": "2022-09-23T10:10:44.010171Z",
     "iopub.status.busy": "2022-09-23T10:10:44.009571Z",
     "iopub.status.idle": "2022-09-23T10:10:44.562625Z",
     "shell.execute_reply": "2022-09-23T10:10:44.561621Z"
    },
    "papermill": {
     "duration": 0.585227,
     "end_time": "2022-09-23T10:10:44.562769",
     "exception": false,
     "start_time": "2022-09-23T10:10:43.977542",
     "status": "completed"
    },
    "tags": []
   },
   "outputs": [],
   "source": [
    "%matplotlib inline\n",
    "import numpy as np\n",
    "import matplotlib.pyplot as plt\n",
    "import pandas as pd"
   ]
  },
  {
   "cell_type": "markdown",
   "id": "ba036198",
   "metadata": {
    "papermill": {
     "duration": 0.023781,
     "end_time": "2022-09-23T10:10:44.612746",
     "exception": false,
     "start_time": "2022-09-23T10:10:44.588965",
     "status": "completed"
    },
    "tags": []
   },
   "source": [
    "From the command line run `pip install mnist`. This is a library that will help you bring down the mnist dataset. If you run this from a notebook, you need to put  `!pip install mnist` in a cell by itself."
   ]
  },
  {
   "cell_type": "code",
   "execution_count": 3,
   "id": "bb6ad8a1",
   "metadata": {
    "execution": {
     "iopub.execute_input": "2022-09-23T10:10:44.665648Z",
     "iopub.status.busy": "2022-09-23T10:10:44.664178Z",
     "iopub.status.idle": "2022-09-23T10:10:46.297909Z",
     "shell.execute_reply": "2022-09-23T10:10:46.297373Z"
    },
    "papermill": {
     "duration": 1.661413,
     "end_time": "2022-09-23T10:10:46.298033",
     "exception": false,
     "start_time": "2022-09-23T10:10:44.636620",
     "status": "completed"
    },
    "tags": []
   },
   "outputs": [
    {
     "name": "stdout",
     "output_type": "stream",
     "text": [
      "Collecting mnist\r\n"
     ]
    },
    {
     "name": "stdout",
     "output_type": "stream",
     "text": [
      "  Downloading mnist-0.2.2-py2.py3-none-any.whl (3.5 kB)\r\n",
      "Requirement already satisfied: numpy in /opt/hostedtoolcache/Python/3.6.15/x64/lib/python3.6/site-packages (from mnist) (1.19.5)\r\n"
     ]
    },
    {
     "name": "stdout",
     "output_type": "stream",
     "text": [
      "Installing collected packages: mnist\r\n"
     ]
    },
    {
     "name": "stdout",
     "output_type": "stream",
     "text": [
      "Successfully installed mnist-0.2.2\r\n"
     ]
    }
   ],
   "source": [
    "!pip install mnist"
   ]
  },
  {
   "cell_type": "markdown",
   "id": "69df9c9a",
   "metadata": {
    "papermill": {
     "duration": 0.024974,
     "end_time": "2022-09-23T10:10:46.348210",
     "exception": false,
     "start_time": "2022-09-23T10:10:46.323236",
     "status": "completed"
    },
    "tags": []
   },
   "source": [
    "## Preparing the Data"
   ]
  },
  {
   "cell_type": "code",
   "execution_count": 4,
   "id": "7f69d806",
   "metadata": {
    "execution": {
     "iopub.execute_input": "2022-09-23T10:10:46.408872Z",
     "iopub.status.busy": "2022-09-23T10:10:46.403815Z",
     "iopub.status.idle": "2022-09-23T10:10:46.417481Z",
     "shell.execute_reply": "2022-09-23T10:10:46.416899Z"
    },
    "papermill": {
     "duration": 0.044518,
     "end_time": "2022-09-23T10:10:46.417598",
     "exception": false,
     "start_time": "2022-09-23T10:10:46.373080",
     "status": "completed"
    },
    "tags": []
   },
   "outputs": [],
   "source": [
    "import mnist"
   ]
  },
  {
   "cell_type": "code",
   "execution_count": 5,
   "id": "a411e44f",
   "metadata": {
    "execution": {
     "iopub.execute_input": "2022-09-23T10:10:46.472890Z",
     "iopub.status.busy": "2022-09-23T10:10:46.472304Z",
     "iopub.status.idle": "2022-09-23T10:10:48.010941Z",
     "shell.execute_reply": "2022-09-23T10:10:48.010410Z"
    },
    "papermill": {
     "duration": 1.568575,
     "end_time": "2022-09-23T10:10:48.011060",
     "exception": false,
     "start_time": "2022-09-23T10:10:46.442485",
     "status": "completed"
    },
    "tags": []
   },
   "outputs": [],
   "source": [
    "train_images = mnist.train_images()\n",
    "train_labels = mnist.train_labels()"
   ]
  },
  {
   "cell_type": "code",
   "execution_count": 6,
   "id": "dceab3a5",
   "metadata": {
    "execution": {
     "iopub.execute_input": "2022-09-23T10:10:48.068976Z",
     "iopub.status.busy": "2022-09-23T10:10:48.068363Z",
     "iopub.status.idle": "2022-09-23T10:10:48.083580Z",
     "shell.execute_reply": "2022-09-23T10:10:48.083065Z"
    },
    "papermill": {
     "duration": 0.046649,
     "end_time": "2022-09-23T10:10:48.083700",
     "exception": false,
     "start_time": "2022-09-23T10:10:48.037051",
     "status": "completed"
    },
    "tags": []
   },
   "outputs": [
    {
     "data": {
      "text/plain": [
       "((60000, 28, 28), (60000,))"
      ]
     },
     "execution_count": 6,
     "metadata": {},
     "output_type": "execute_result"
    }
   ],
   "source": [
    "train_images.shape, train_labels.shape"
   ]
  },
  {
   "cell_type": "code",
   "execution_count": 7,
   "id": "f50dc2bb",
   "metadata": {
    "execution": {
     "iopub.execute_input": "2022-09-23T10:10:48.140895Z",
     "iopub.status.busy": "2022-09-23T10:10:48.140303Z",
     "iopub.status.idle": "2022-09-23T10:10:48.254450Z",
     "shell.execute_reply": "2022-09-23T10:10:48.253915Z"
    },
    "papermill": {
     "duration": 0.14294,
     "end_time": "2022-09-23T10:10:48.254571",
     "exception": false,
     "start_time": "2022-09-23T10:10:48.111631",
     "status": "completed"
    },
    "tags": []
   },
   "outputs": [],
   "source": [
    "test_images = mnist.test_images()\n",
    "test_labels = mnist.test_labels()"
   ]
  },
  {
   "cell_type": "code",
   "execution_count": 8,
   "id": "fc38cf1b",
   "metadata": {
    "execution": {
     "iopub.execute_input": "2022-09-23T10:10:48.315582Z",
     "iopub.status.busy": "2022-09-23T10:10:48.314987Z",
     "iopub.status.idle": "2022-09-23T10:10:48.329409Z",
     "shell.execute_reply": "2022-09-23T10:10:48.328212Z"
    },
    "papermill": {
     "duration": 0.047639,
     "end_time": "2022-09-23T10:10:48.329528",
     "exception": false,
     "start_time": "2022-09-23T10:10:48.281889",
     "status": "completed"
    },
    "tags": []
   },
   "outputs": [
    {
     "data": {
      "text/plain": [
       "((10000, 28, 28), (10000,))"
      ]
     },
     "execution_count": 8,
     "metadata": {},
     "output_type": "execute_result"
    }
   ],
   "source": [
    "test_images.shape, test_labels.shape"
   ]
  },
  {
   "cell_type": "code",
   "execution_count": 9,
   "id": "f9ed8fe0",
   "metadata": {
    "execution": {
     "iopub.execute_input": "2022-09-23T10:10:48.389302Z",
     "iopub.status.busy": "2022-09-23T10:10:48.388701Z",
     "iopub.status.idle": "2022-09-23T10:10:48.530294Z",
     "shell.execute_reply": "2022-09-23T10:10:48.530839Z"
    },
    "papermill": {
     "duration": 0.17511,
     "end_time": "2022-09-23T10:10:48.530987",
     "exception": false,
     "start_time": "2022-09-23T10:10:48.355877",
     "status": "completed"
    },
    "tags": []
   },
   "outputs": [
    {
     "name": "stdout",
     "output_type": "stream",
     "text": [
      "2\n"
     ]
    },
    {
     "data": {
      "text/plain": [
       "<matplotlib.image.AxesImage at 0x7f891e696cf8>"
      ]
     },
     "execution_count": 9,
     "metadata": {},
     "output_type": "execute_result"
    },
    {
     "data": {
      "image/png": "[encoded data removed]",
      "text/plain": [
       "<Figure size 432x288 with 1 Axes>"
      ]
     },
     "metadata": {
      "needs_background": "light"
     },
     "output_type": "display_data"
    }
   ],
   "source": [
    "image_index = 7776 # You may select anything up to 60,000\n",
    "print(train_labels[image_index]) \n",
    "plt.imshow(train_images[image_index], cmap='Greys')"
   ]
  },
  {
   "cell_type": "markdown",
   "id": "a8d2388d",
   "metadata": {
    "papermill": {
     "duration": 0.026955,
     "end_time": "2022-09-23T10:10:48.585290",
     "exception": false,
     "start_time": "2022-09-23T10:10:48.558335",
     "status": "completed"
    },
    "tags": []
   },
   "source": [
    "## Filter data to get 3 and 8 out"
   ]
  },
  {
   "cell_type": "code",
   "execution_count": 10,
   "id": "776f7fc7",
   "metadata": {
    "execution": {
     "iopub.execute_input": "2022-09-23T10:10:48.643578Z",
     "iopub.status.busy": "2022-09-23T10:10:48.642976Z",
     "iopub.status.idle": "2022-09-23T10:10:48.659509Z",
     "shell.execute_reply": "2022-09-23T10:10:48.658987Z"
    },
    "papermill": {
     "duration": 0.047502,
     "end_time": "2022-09-23T10:10:48.659626",
     "exception": false,
     "start_time": "2022-09-23T10:10:48.612124",
     "status": "completed"
    },
    "tags": []
   },
   "outputs": [],
   "source": [
    "train_filter = np.where((train_labels == 3 ) | (train_labels == 8))\n",
    "test_filter = np.where((test_labels == 3) | (test_labels == 8))\n",
    "X_train, y_train = train_images[train_filter], train_labels[train_filter]\n",
    "X_test, y_test = test_images[test_filter], test_labels[test_filter]"
   ]
  },
  {
   "cell_type": "markdown",
   "id": "948f0b7e",
   "metadata": {
    "papermill": {
     "duration": 0.02727,
     "end_time": "2022-09-23T10:10:48.713656",
     "exception": false,
     "start_time": "2022-09-23T10:10:48.686386",
     "status": "completed"
    },
    "tags": []
   },
   "source": [
    "We normalize the pizel values in the 0 to 1 range"
   ]
  },
  {
   "cell_type": "code",
   "execution_count": 11,
   "id": "ee4c2166",
   "metadata": {
    "execution": {
     "iopub.execute_input": "2022-09-23T10:10:48.772069Z",
     "iopub.status.busy": "2022-09-23T10:10:48.771445Z",
     "iopub.status.idle": "2022-09-23T10:10:48.816182Z",
     "shell.execute_reply": "2022-09-23T10:10:48.815554Z"
    },
    "papermill": {
     "duration": 0.076136,
     "end_time": "2022-09-23T10:10:48.816317",
     "exception": false,
     "start_time": "2022-09-23T10:10:48.740181",
     "status": "completed"
    },
    "tags": []
   },
   "outputs": [],
   "source": [
    "X_train = X_train/255.\n",
    "X_test = X_test/255."
   ]
  },
  {
   "cell_type": "markdown",
   "id": "ddcf4fab",
   "metadata": {
    "papermill": {
     "duration": 0.027033,
     "end_time": "2022-09-23T10:10:48.871080",
     "exception": false,
     "start_time": "2022-09-23T10:10:48.844047",
     "status": "completed"
    },
    "tags": []
   },
   "source": [
    "And setup the labels as 1 (when the digit is 3) and 0 (when the digit is 8)"
   ]
  },
  {
   "cell_type": "code",
   "execution_count": 12,
   "id": "7dc908f2",
   "metadata": {
    "execution": {
     "iopub.execute_input": "2022-09-23T10:10:48.928039Z",
     "iopub.status.busy": "2022-09-23T10:10:48.927424Z",
     "iopub.status.idle": "2022-09-23T10:10:48.940644Z",
     "shell.execute_reply": "2022-09-23T10:10:48.940159Z"
    },
    "papermill": {
     "duration": 0.043194,
     "end_time": "2022-09-23T10:10:48.940754",
     "exception": false,
     "start_time": "2022-09-23T10:10:48.897560",
     "status": "completed"
    },
    "tags": []
   },
   "outputs": [],
   "source": [
    "y_train = 1*(y_train==3)\n",
    "y_test = 1*(y_test==3)"
   ]
  },
  {
   "cell_type": "code",
   "execution_count": 13,
   "id": "01e4e969",
   "metadata": {
    "execution": {
     "iopub.execute_input": "2022-09-23T10:10:48.997897Z",
     "iopub.status.busy": "2022-09-23T10:10:48.997303Z",
     "iopub.status.idle": "2022-09-23T10:10:49.010076Z",
     "shell.execute_reply": "2022-09-23T10:10:49.009507Z"
    },
    "papermill": {
     "duration": 0.043102,
     "end_time": "2022-09-23T10:10:49.010185",
     "exception": false,
     "start_time": "2022-09-23T10:10:48.967083",
     "status": "completed"
    },
    "tags": []
   },
   "outputs": [
    {
     "data": {
      "text/plain": [
       "((11982, 28, 28), (1984, 28, 28))"
      ]
     },
     "execution_count": 13,
     "metadata": {},
     "output_type": "execute_result"
    }
   ],
   "source": [
    "X_train.shape, X_test.shape"
   ]
  },
  {
   "cell_type": "markdown",
   "id": "5ccf3f85",
   "metadata": {
    "papermill": {
     "duration": 0.026688,
     "end_time": "2022-09-23T10:10:49.063481",
     "exception": false,
     "start_time": "2022-09-23T10:10:49.036793",
     "status": "completed"
    },
    "tags": []
   },
   "source": [
    "We reshape the data to flatten the image pixels into a set of features or co-variates:"
   ]
  },
  {
   "cell_type": "code",
   "execution_count": 14,
   "id": "5286a4a3",
   "metadata": {
    "execution": {
     "iopub.execute_input": "2022-09-23T10:10:49.125950Z",
     "iopub.status.busy": "2022-09-23T10:10:49.125355Z",
     "iopub.status.idle": "2022-09-23T10:10:49.139526Z",
     "shell.execute_reply": "2022-09-23T10:10:49.140041Z"
    },
    "papermill": {
     "duration": 0.045453,
     "end_time": "2022-09-23T10:10:49.140178",
     "exception": false,
     "start_time": "2022-09-23T10:10:49.094725",
     "status": "completed"
    },
    "tags": []
   },
   "outputs": [
    {
     "data": {
      "text/plain": [
       "((11982, 784), (1984, 784))"
      ]
     },
     "execution_count": 14,
     "metadata": {},
     "output_type": "execute_result"
    }
   ],
   "source": [
    "X_train = X_train.reshape(X_train.shape[0], -1)\n",
    "X_test = X_test.reshape(X_test.shape[0], -1)\n",
    "X_train.shape, X_test.shape"
   ]
  },
  {
   "cell_type": "code",
   "execution_count": 15,
   "id": "73c5f88a",
   "metadata": {
    "execution": {
     "iopub.execute_input": "2022-09-23T10:10:49.203124Z",
     "iopub.status.busy": "2022-09-23T10:10:49.202524Z",
     "iopub.status.idle": "2022-09-23T10:10:49.221348Z",
     "shell.execute_reply": "2022-09-23T10:10:49.220864Z"
    },
    "papermill": {
     "duration": 0.054224,
     "end_time": "2022-09-23T10:10:49.221462",
     "exception": false,
     "start_time": "2022-09-23T10:10:49.167238",
     "status": "completed"
    },
    "tags": []
   },
   "outputs": [],
   "source": [
    "#Impoting functions from 'Kudzu'\n",
    "from kudzu.model import Model\n",
    "from kudzu.train import Learner\n",
    "from kudzu.optim import GD\n",
    "from kudzu.data import Data, Sampler,Dataloader\n",
    "\n",
    "from kudzu.callbacks import AccCallback\n",
    "from kudzu.callbacks import ClfCallback\n",
    "\n",
    "from kudzu.loss import MSE\n",
    "\n",
    "from kudzu.layer import Sigmoid,Relu\n",
    "from kudzu.layer import Affine"
   ]
  },
  {
   "cell_type": "markdown",
   "id": "bc01172a",
   "metadata": {
    "papermill": {
     "duration": 0.026801,
     "end_time": "2022-09-23T10:10:49.275288",
     "exception": false,
     "start_time": "2022-09-23T10:10:49.248487",
     "status": "completed"
    },
    "tags": []
   },
   "source": [
    "### Let us create a `Config` class, to store important parameters. \n",
    "This class essentially plays the role of a dictionary."
   ]
  },
  {
   "cell_type": "code",
   "execution_count": 16,
   "id": "978281aa",
   "metadata": {
    "execution": {
     "iopub.execute_input": "2022-09-23T10:10:49.338136Z",
     "iopub.status.busy": "2022-09-23T10:10:49.337527Z",
     "iopub.status.idle": "2022-09-23T10:10:49.350609Z",
     "shell.execute_reply": "2022-09-23T10:10:49.350024Z"
    },
    "papermill": {
     "duration": 0.044384,
     "end_time": "2022-09-23T10:10:49.350725",
     "exception": false,
     "start_time": "2022-09-23T10:10:49.306341",
     "status": "completed"
    },
    "tags": []
   },
   "outputs": [],
   "source": [
    "class Config:\n",
    "    pass\n",
    "config = Config()\n",
    "config.lr = 0.001\n",
    "config.num_epochs = 250\n",
    "config.bs = 50"
   ]
  },
  {
   "cell_type": "markdown",
   "id": "1385fa59",
   "metadata": {
    "papermill": {
     "duration": 0.032276,
     "end_time": "2022-09-23T10:10:49.410025",
     "exception": false,
     "start_time": "2022-09-23T10:10:49.377749",
     "status": "completed"
    },
    "tags": []
   },
   "source": [
    "### Running Models with the Training data\n",
    "Details about the network layers:\n",
    "- A first affine layer has 784 inputs and does 100 affine transforms. These are followed by a Relu\n",
    "- A second affine layer has 100 inputs from the 100 activations of the past layer, and does 100 affine transforms. These are followed by a Relu\n",
    "- A third affine layer has 100 activations and does 2 affine transformations to create an embedding for visualization. There is no non-linearity here.\n",
    "- A final \"logistic regression\" which has an affine transform from 2 inputs to 1 output, which is squeezed through a sigmoid.\n"
   ]
  },
  {
   "cell_type": "code",
   "execution_count": 17,
   "id": "2b9c66db",
   "metadata": {
    "execution": {
     "iopub.execute_input": "2022-09-23T10:10:49.468532Z",
     "iopub.status.busy": "2022-09-23T10:10:49.467919Z",
     "iopub.status.idle": "2022-09-23T10:10:49.480611Z",
     "shell.execute_reply": "2022-09-23T10:10:49.480105Z"
    },
    "papermill": {
     "duration": 0.043596,
     "end_time": "2022-09-23T10:10:49.480729",
     "exception": false,
     "start_time": "2022-09-23T10:10:49.437133",
     "status": "completed"
    },
    "tags": []
   },
   "outputs": [],
   "source": [
    "data = Data(X_train, y_train.reshape(-1,1))\n",
    "sampler = Sampler(data, config.bs, shuffle=True)\n",
    "\n",
    "dl = Dataloader(data, sampler)\n",
    "\n",
    "opt = GD(config.lr)\n",
    "loss = MSE()"
   ]
  },
  {
   "cell_type": "code",
   "execution_count": 18,
   "id": "b275e4c2",
   "metadata": {
    "execution": {
     "iopub.execute_input": "2022-09-23T10:10:49.545268Z",
     "iopub.status.busy": "2022-09-23T10:10:49.542962Z",
     "iopub.status.idle": "2022-09-23T10:10:49.555982Z",
     "shell.execute_reply": "2022-09-23T10:10:49.555459Z"
    },
    "papermill": {
     "duration": 0.043822,
     "end_time": "2022-09-23T10:10:49.556102",
     "exception": false,
     "start_time": "2022-09-23T10:10:49.512280",
     "status": "completed"
    },
    "tags": []
   },
   "outputs": [],
   "source": [
    "training_data_x = X_train\n",
    "testing_data_x = X_test\n",
    "training_data_y = y_train.reshape(-1,1)\n",
    "testing_data_y = y_test.reshape(-1,1)"
   ]
  },
  {
   "cell_type": "code",
   "execution_count": 19,
   "id": "76951160",
   "metadata": {
    "execution": {
     "iopub.execute_input": "2022-09-23T10:10:49.621998Z",
     "iopub.status.busy": "2022-09-23T10:10:49.621335Z",
     "iopub.status.idle": "2022-09-23T10:10:49.637628Z",
     "shell.execute_reply": "2022-09-23T10:10:49.637151Z"
    },
    "papermill": {
     "duration": 0.047882,
     "end_time": "2022-09-23T10:10:49.637745",
     "exception": false,
     "start_time": "2022-09-23T10:10:49.589863",
     "status": "completed"
    },
    "tags": []
   },
   "outputs": [
    {
     "name": "stdout",
     "output_type": "stream",
     "text": [
      "xavier\n",
      "xavier\n",
      "xavier\n",
      "xavier\n",
      "xavier\n"
     ]
    }
   ],
   "source": [
    "layers = [Affine(\"first\", 784, 100), Relu(\"first\"), Affine(\"second\", 100, 100), Relu(\"second\"), Affine(\"third\", 100, 2), Affine(\"last\", 2, 1), Sigmoid(\"last\")]\n",
    "model_nn = Model(layers)\n",
    "model_lr = Model([Affine(\"logits\", 784, 1), Sigmoid(\"sigmoid\")])"
   ]
  },
  {
   "cell_type": "code",
   "execution_count": 20,
   "id": "6eede77a",
   "metadata": {
    "execution": {
     "iopub.execute_input": "2022-09-23T10:10:49.703402Z",
     "iopub.status.busy": "2022-09-23T10:10:49.702814Z",
     "iopub.status.idle": "2022-09-23T10:10:49.715277Z",
     "shell.execute_reply": "2022-09-23T10:10:49.714792Z"
    },
    "papermill": {
     "duration": 0.04843,
     "end_time": "2022-09-23T10:10:49.715389",
     "exception": false,
     "start_time": "2022-09-23T10:10:49.666959",
     "status": "completed"
    },
    "tags": []
   },
   "outputs": [],
   "source": [
    "nn_learner = Learner(loss, model_nn, opt, config.num_epochs)\n",
    "acc_nn = ClfCallback(nn_learner, config.bs, training_data_x , testing_data_x, training_data_y, testing_data_y)\n",
    "nn_learner.set_callbacks([acc_nn])"
   ]
  },
  {
   "cell_type": "code",
   "execution_count": 21,
   "id": "877b6cc7",
   "metadata": {
    "execution": {
     "iopub.execute_input": "2022-09-23T10:10:49.775987Z",
     "iopub.status.busy": "2022-09-23T10:10:49.775369Z",
     "iopub.status.idle": "2022-09-23T10:10:49.788690Z",
     "shell.execute_reply": "2022-09-23T10:10:49.789121Z"
    },
    "papermill": {
     "duration": 0.046552,
     "end_time": "2022-09-23T10:10:49.789258",
     "exception": false,
     "start_time": "2022-09-23T10:10:49.742706",
     "status": "completed"
    },
    "tags": []
   },
   "outputs": [],
   "source": [
    "lr_learner = Learner(loss, model_lr, opt, config.num_epochs)\n",
    "acc_lr = ClfCallback(lr_learner, config.bs, training_data_x , testing_data_x, training_data_y, testing_data_y)\n",
    "lr_learner.set_callbacks([acc_lr])"
   ]
  },
  {
   "cell_type": "code",
   "execution_count": 22,
   "id": "d9b133c3",
   "metadata": {
    "execution": {
     "iopub.execute_input": "2022-09-23T10:10:49.848344Z",
     "iopub.status.busy": "2022-09-23T10:10:49.847717Z",
     "iopub.status.idle": "2022-09-23T10:12:09.461108Z",
     "shell.execute_reply": "2022-09-23T10:12:09.461913Z"
    },
    "papermill": {
     "duration": 79.645357,
     "end_time": "2022-09-23T10:12:09.462069",
     "exception": false,
     "start_time": "2022-09-23T10:10:49.816712",
     "status": "completed"
    },
    "tags": []
   },
   "outputs": [
    {
     "name": "stdout",
     "output_type": "stream",
     "text": [
      "Epoch 0, Loss 0.2274\n",
      "Training Accuracy: 0.7336, Testing Accuracy: 0.7374\n",
      "\n"
     ]
    },
    {
     "name": "stdout",
     "output_type": "stream",
     "text": [
      "Epoch 10, Loss 0.0647\n",
      "Training Accuracy: 0.9366, Testing Accuracy: 0.9506\n",
      "\n"
     ]
    },
    {
     "name": "stdout",
     "output_type": "stream",
     "text": [
      "Epoch 20, Loss 0.0438\n",
      "Training Accuracy: 0.9518, Testing Accuracy: 0.9622\n",
      "\n"
     ]
    },
    {
     "name": "stdout",
     "output_type": "stream",
     "text": [
      "Epoch 30, Loss 0.0362\n",
      "Training Accuracy: 0.9589, Testing Accuracy: 0.9657\n",
      "\n"
     ]
    },
    {
     "name": "stdout",
     "output_type": "stream",
     "text": [
      "Epoch 40, Loss 0.0322\n",
      "Training Accuracy: 0.9639, Testing Accuracy: 0.9682\n",
      "\n"
     ]
    },
    {
     "name": "stdout",
     "output_type": "stream",
     "text": [
      "Epoch 50, Loss 0.0295\n",
      "Training Accuracy: 0.9662, Testing Accuracy: 0.9698\n",
      "\n"
     ]
    },
    {
     "name": "stdout",
     "output_type": "stream",
     "text": [
      "Epoch 60, Loss 0.0276\n",
      "Training Accuracy: 0.9680, Testing Accuracy: 0.9703\n",
      "\n"
     ]
    },
    {
     "name": "stdout",
     "output_type": "stream",
     "text": [
      "Epoch 70, Loss 0.0262\n",
      "Training Accuracy: 0.9703, Testing Accuracy: 0.9703\n",
      "\n"
     ]
    },
    {
     "name": "stdout",
     "output_type": "stream",
     "text": [
      "Epoch 80, Loss 0.025\n",
      "Training Accuracy: 0.9713, Testing Accuracy: 0.9718\n",
      "\n"
     ]
    },
    {
     "name": "stdout",
     "output_type": "stream",
     "text": [
      "Epoch 90, Loss 0.024\n",
      "Training Accuracy: 0.9729, Testing Accuracy: 0.9728\n",
      "\n"
     ]
    },
    {
     "name": "stdout",
     "output_type": "stream",
     "text": [
      "Epoch 100, Loss 0.0231\n",
      "Training Accuracy: 0.9737, Testing Accuracy: 0.9723\n",
      "\n"
     ]
    },
    {
     "name": "stdout",
     "output_type": "stream",
     "text": [
      "Epoch 110, Loss 0.0223\n",
      "Training Accuracy: 0.9743, Testing Accuracy: 0.9723\n",
      "\n"
     ]
    },
    {
     "name": "stdout",
     "output_type": "stream",
     "text": [
      "Epoch 120, Loss 0.0216\n",
      "Training Accuracy: 0.9749, Testing Accuracy: 0.9743\n",
      "\n"
     ]
    },
    {
     "name": "stdout",
     "output_type": "stream",
     "text": [
      "Epoch 130, Loss 0.021\n",
      "Training Accuracy: 0.9757, Testing Accuracy: 0.9753\n",
      "\n"
     ]
    },
    {
     "name": "stdout",
     "output_type": "stream",
     "text": [
      "Epoch 140, Loss 0.0204\n",
      "Training Accuracy: 0.9760, Testing Accuracy: 0.9748\n",
      "\n"
     ]
    },
    {
     "name": "stdout",
     "output_type": "stream",
     "text": [
      "Epoch 150, Loss 0.0198\n",
      "Training Accuracy: 0.9770, Testing Accuracy: 0.9763\n",
      "\n"
     ]
    },
    {
     "name": "stdout",
     "output_type": "stream",
     "text": [
      "Epoch 160, Loss 0.0193\n",
      "Training Accuracy: 0.9781, Testing Accuracy: 0.9758\n",
      "\n"
     ]
    },
    {
     "name": "stdout",
     "output_type": "stream",
     "text": [
      "Epoch 170, Loss 0.0188\n",
      "Training Accuracy: 0.9788, Testing Accuracy: 0.9763\n",
      "\n"
     ]
    },
    {
     "name": "stdout",
     "output_type": "stream",
     "text": [
      "Epoch 180, Loss 0.0183\n",
      "Training Accuracy: 0.9795, Testing Accuracy: 0.9763\n",
      "\n"
     ]
    },
    {
     "name": "stdout",
     "output_type": "stream",
     "text": [
      "Epoch 190, Loss 0.0179\n",
      "Training Accuracy: 0.9801, Testing Accuracy: 0.9763\n",
      "\n"
     ]
    },
    {
     "name": "stdout",
     "output_type": "stream",
     "text": [
      "Epoch 200, Loss 0.0174\n",
      "Training Accuracy: 0.9808, Testing Accuracy: 0.9763\n",
      "\n"
     ]
    },
    {
     "name": "stdout",
     "output_type": "stream",
     "text": [
      "Epoch 210, Loss 0.017\n",
      "Training Accuracy: 0.9810, Testing Accuracy: 0.9773\n",
      "\n"
     ]
    },
    {
     "name": "stdout",
     "output_type": "stream",
     "text": [
      "Epoch 220, Loss 0.0166\n",
      "Training Accuracy: 0.9819, Testing Accuracy: 0.9783\n",
      "\n"
     ]
    },
    {
     "name": "stdout",
     "output_type": "stream",
     "text": [
      "Epoch 230, Loss 0.0162\n",
      "Training Accuracy: 0.9824, Testing Accuracy: 0.9793\n",
      "\n"
     ]
    },
    {
     "name": "stdout",
     "output_type": "stream",
     "text": [
      "Epoch 240, Loss 0.0158\n",
      "Training Accuracy: 0.9831, Testing Accuracy: 0.9793\n",
      "\n"
     ]
    },
    {
     "data": {
      "text/plain": [
       "0.0025297985956860393"
      ]
     },
     "execution_count": 22,
     "metadata": {},
     "output_type": "execute_result"
    }
   ],
   "source": [
    "nn_learner.train_loop(dl)"
   ]
  },
  {
   "cell_type": "code",
   "execution_count": 23,
   "id": "e0163366",
   "metadata": {
    "execution": {
     "iopub.execute_input": "2022-09-23T10:12:09.544687Z",
     "iopub.status.busy": "2022-09-23T10:12:09.544045Z",
     "iopub.status.idle": "2022-09-23T10:12:24.287966Z",
     "shell.execute_reply": "2022-09-23T10:12:24.288818Z"
    },
    "papermill": {
     "duration": 14.791905,
     "end_time": "2022-09-23T10:12:24.288962",
     "exception": false,
     "start_time": "2022-09-23T10:12:09.497057",
     "status": "completed"
    },
    "tags": []
   },
   "outputs": [
    {
     "name": "stdout",
     "output_type": "stream",
     "text": [
      "Epoch 0, Loss 0.2559\n",
      "Training Accuracy: 0.6315, Testing Accuracy: 0.6381\n",
      "\n"
     ]
    },
    {
     "name": "stdout",
     "output_type": "stream",
     "text": [
      "Epoch 10, Loss 0.1031\n",
      "Training Accuracy: 0.9135, Testing Accuracy: 0.9294\n",
      "\n"
     ]
    },
    {
     "name": "stdout",
     "output_type": "stream",
     "text": [
      "Epoch 20, Loss 0.0791\n",
      "Training Accuracy: 0.9289, Testing Accuracy: 0.9385\n",
      "\n"
     ]
    },
    {
     "name": "stdout",
     "output_type": "stream",
     "text": [
      "Epoch 30, Loss 0.0681\n",
      "Training Accuracy: 0.9362, Testing Accuracy: 0.9461\n",
      "\n"
     ]
    },
    {
     "name": "stdout",
     "output_type": "stream",
     "text": [
      "Epoch 40, Loss 0.0616\n",
      "Training Accuracy: 0.9418, Testing Accuracy: 0.9521\n",
      "\n"
     ]
    },
    {
     "name": "stdout",
     "output_type": "stream",
     "text": [
      "Epoch 50, Loss 0.0571\n",
      "Training Accuracy: 0.9453, Testing Accuracy: 0.9516\n",
      "\n"
     ]
    },
    {
     "name": "stdout",
     "output_type": "stream",
     "text": [
      "Epoch 60, Loss 0.0538\n",
      "Training Accuracy: 0.9479, Testing Accuracy: 0.9531\n",
      "\n"
     ]
    },
    {
     "name": "stdout",
     "output_type": "stream",
     "text": [
      "Epoch 70, Loss 0.0513\n",
      "Training Accuracy: 0.9493, Testing Accuracy: 0.9551\n",
      "\n"
     ]
    },
    {
     "name": "stdout",
     "output_type": "stream",
     "text": [
      "Epoch 80, Loss 0.0492\n",
      "Training Accuracy: 0.9508, Testing Accuracy: 0.9561\n",
      "\n"
     ]
    },
    {
     "name": "stdout",
     "output_type": "stream",
     "text": [
      "Epoch 90, Loss 0.0476\n",
      "Training Accuracy: 0.9516, Testing Accuracy: 0.9577\n",
      "\n"
     ]
    },
    {
     "name": "stdout",
     "output_type": "stream",
     "text": [
      "Epoch 100, Loss 0.0462\n",
      "Training Accuracy: 0.9524, Testing Accuracy: 0.9597\n",
      "\n"
     ]
    },
    {
     "name": "stdout",
     "output_type": "stream",
     "text": [
      "Epoch 110, Loss 0.0449\n",
      "Training Accuracy: 0.9537, Testing Accuracy: 0.9612\n",
      "\n"
     ]
    },
    {
     "name": "stdout",
     "output_type": "stream",
     "text": [
      "Epoch 120, Loss 0.0439\n",
      "Training Accuracy: 0.9543, Testing Accuracy: 0.9622\n",
      "\n"
     ]
    },
    {
     "name": "stdout",
     "output_type": "stream",
     "text": [
      "Epoch 130, Loss 0.043\n",
      "Training Accuracy: 0.9548, Testing Accuracy: 0.9632\n",
      "\n"
     ]
    },
    {
     "name": "stdout",
     "output_type": "stream",
     "text": [
      "Epoch 140, Loss 0.0421\n",
      "Training Accuracy: 0.9557, Testing Accuracy: 0.9637\n",
      "\n"
     ]
    },
    {
     "name": "stdout",
     "output_type": "stream",
     "text": [
      "Epoch 150, Loss 0.0414\n",
      "Training Accuracy: 0.9566, Testing Accuracy: 0.9652\n",
      "\n"
     ]
    },
    {
     "name": "stdout",
     "output_type": "stream",
     "text": [
      "Epoch 160, Loss 0.0407\n",
      "Training Accuracy: 0.9570, Testing Accuracy: 0.9652\n",
      "\n"
     ]
    },
    {
     "name": "stdout",
     "output_type": "stream",
     "text": [
      "Epoch 170, Loss 0.0401\n",
      "Training Accuracy: 0.9576, Testing Accuracy: 0.9652\n",
      "\n"
     ]
    },
    {
     "name": "stdout",
     "output_type": "stream",
     "text": [
      "Epoch 180, Loss 0.0396\n",
      "Training Accuracy: 0.9584, Testing Accuracy: 0.9647\n",
      "\n"
     ]
    },
    {
     "name": "stdout",
     "output_type": "stream",
     "text": [
      "Epoch 190, Loss 0.0391\n",
      "Training Accuracy: 0.9588, Testing Accuracy: 0.9652\n",
      "\n"
     ]
    },
    {
     "name": "stdout",
     "output_type": "stream",
     "text": [
      "Epoch 200, Loss 0.0386\n",
      "Training Accuracy: 0.9591, Testing Accuracy: 0.9647\n",
      "\n"
     ]
    },
    {
     "name": "stdout",
     "output_type": "stream",
     "text": [
      "Epoch 210, Loss 0.0381\n",
      "Training Accuracy: 0.9592, Testing Accuracy: 0.9652\n",
      "\n"
     ]
    },
    {
     "name": "stdout",
     "output_type": "stream",
     "text": [
      "Epoch 220, Loss 0.0377\n",
      "Training Accuracy: 0.9596, Testing Accuracy: 0.9652\n",
      "\n"
     ]
    },
    {
     "name": "stdout",
     "output_type": "stream",
     "text": [
      "Epoch 230, Loss 0.0373\n",
      "Training Accuracy: 0.9598, Testing Accuracy: 0.9652\n",
      "\n"
     ]
    },
    {
     "name": "stdout",
     "output_type": "stream",
     "text": [
      "Epoch 240, Loss 0.037\n",
      "Training Accuracy: 0.9607, Testing Accuracy: 0.9657\n",
      "\n"
     ]
    },
    {
     "data": {
      "text/plain": [
       "0.019752555340828367"
      ]
     },
     "execution_count": 23,
     "metadata": {},
     "output_type": "execute_result"
    }
   ],
   "source": [
    "lr_learner.train_loop(dl)"
   ]
  },
  {
   "cell_type": "code",
   "execution_count": 24,
   "id": "ca410940",
   "metadata": {
    "execution": {
     "iopub.execute_input": "2022-09-23T10:12:24.386545Z",
     "iopub.status.busy": "2022-09-23T10:12:24.385889Z",
     "iopub.status.idle": "2022-09-23T10:12:24.619510Z",
     "shell.execute_reply": "2022-09-23T10:12:24.619007Z"
    },
    "papermill": {
     "duration": 0.288699,
     "end_time": "2022-09-23T10:12:24.619631",
     "exception": false,
     "start_time": "2022-09-23T10:12:24.330932",
     "status": "completed"
    },
    "tags": []
   },
   "outputs": [
    {
     "data": {
      "text/plain": [
       "<matplotlib.legend.Legend at 0x7f8911a58358>"
      ]
     },
     "execution_count": 24,
     "metadata": {},
     "output_type": "execute_result"
    },
    {
     "data": {
      "image/png": "[encoded data removed]",
      "text/plain": [
       "<Figure size 1080x720 with 1 Axes>"
      ]
     },
     "metadata": {
      "needs_background": "light"
     },
     "output_type": "display_data"
    }
   ],
   "source": [
    "#comparing the results of NN and LR\n",
    "plt.figure(figsize=(15,10))\n",
    "\n",
    "# Neural Network plots\n",
    "plt.plot(acc_nn.accuracies, 'r-', label = \"Training Accuracies - NN\")\n",
    "plt.plot(acc_nn.test_accuracies, 'g-', label = \"Testing Accuracies - NN\")\n",
    "\n",
    "# Logistic Regression plots\n",
    "plt.plot(acc_lr.accuracies, 'k-', label = \"Training Accuracies - LR\")\n",
    "plt.plot(acc_lr.test_accuracies, 'b-', label = \"Testing Accuracies - LR\")\n",
    "plt.legend()"
   ]
  },
  {
   "cell_type": "markdown",
   "id": "80dfb35c",
   "metadata": {
    "papermill": {
     "duration": 0.042177,
     "end_time": "2022-09-23T10:12:24.704556",
     "exception": false,
     "start_time": "2022-09-23T10:12:24.662379",
     "status": "completed"
    },
    "tags": []
   },
   "source": [
    "#### Plotting the outputs of this layer of the NN.\n"
   ]
  },
  {
   "cell_type": "code",
   "execution_count": 25,
   "id": "45eb2ff5",
   "metadata": {
    "execution": {
     "iopub.execute_input": "2022-09-23T10:12:24.795596Z",
     "iopub.status.busy": "2022-09-23T10:12:24.794038Z",
     "iopub.status.idle": "2022-09-23T10:12:24.814779Z",
     "shell.execute_reply": "2022-09-23T10:12:24.815262Z"
    },
    "papermill": {
     "duration": 0.068513,
     "end_time": "2022-09-23T10:12:24.815403",
     "exception": false,
     "start_time": "2022-09-23T10:12:24.746890",
     "status": "completed"
    },
    "tags": []
   },
   "outputs": [],
   "source": [
    "new_model = Model(layers[:-2])\n",
    "testing_plot = new_model(testing_data_x)"
   ]
  },
  {
   "cell_type": "code",
   "execution_count": 26,
   "id": "4c0a5485",
   "metadata": {
    "execution": {
     "iopub.execute_input": "2022-09-23T10:12:24.912519Z",
     "iopub.status.busy": "2022-09-23T10:12:24.905120Z",
     "iopub.status.idle": "2022-09-23T10:12:25.094966Z",
     "shell.execute_reply": "2022-09-23T10:12:25.095619Z"
    },
    "papermill": {
     "duration": 0.237729,
     "end_time": "2022-09-23T10:12:25.095780",
     "exception": false,
     "start_time": "2022-09-23T10:12:24.858051",
     "status": "completed"
    },
    "tags": []
   },
   "outputs": [
    {
     "data": {
      "text/plain": [
       "Text(0.5, 1.0, 'Outputs')"
      ]
     },
     "execution_count": 26,
     "metadata": {},
     "output_type": "execute_result"
    },
    {
     "data": {
      "image/png": "[encoded data removed]",
      "text/plain": [
       "<Figure size 576x504 with 1 Axes>"
      ]
     },
     "metadata": {
      "needs_background": "light"
     },
     "output_type": "display_data"
    }
   ],
   "source": [
    "# Plotting the scatter plot of points and color coding by class\n",
    "plt.figure(figsize=(8,7))\n",
    "plt.scatter(testing_plot[:,0], testing_plot[:,1], alpha = 0.1, c = y_test.ravel());\n",
    "plt.title('Outputs')"
   ]
  },
  {
   "cell_type": "markdown",
   "id": "a74fcf8f",
   "metadata": {
    "papermill": {
     "duration": 0.044241,
     "end_time": "2022-09-23T10:12:25.185520",
     "exception": false,
     "start_time": "2022-09-23T10:12:25.141279",
     "status": "completed"
    },
    "tags": []
   },
   "source": [
    "Probability contours"
   ]
  },
  {
   "cell_type": "code",
   "execution_count": 27,
   "id": "d0afc8e3",
   "metadata": {
    "execution": {
     "iopub.execute_input": "2022-09-23T10:12:25.309968Z",
     "iopub.status.busy": "2022-09-23T10:12:25.309384Z",
     "iopub.status.idle": "2022-09-23T10:12:25.320955Z",
     "shell.execute_reply": "2022-09-23T10:12:25.321442Z"
    },
    "papermill": {
     "duration": 0.091331,
     "end_time": "2022-09-23T10:12:25.321574",
     "exception": false,
     "start_time": "2022-09-23T10:12:25.230243",
     "status": "completed"
    },
    "tags": []
   },
   "outputs": [],
   "source": [
    "model_prob = Model(layers[-2:]) "
   ]
  },
  {
   "cell_type": "code",
   "execution_count": 28,
   "id": "9b96e238",
   "metadata": {
    "execution": {
     "iopub.execute_input": "2022-09-23T10:12:25.415571Z",
     "iopub.status.busy": "2022-09-23T10:12:25.414978Z",
     "iopub.status.idle": "2022-09-23T10:12:25.428680Z",
     "shell.execute_reply": "2022-09-23T10:12:25.429121Z"
    },
    "papermill": {
     "duration": 0.063125,
     "end_time": "2022-09-23T10:12:25.429262",
     "exception": false,
     "start_time": "2022-09-23T10:12:25.366137",
     "status": "completed"
    },
    "tags": []
   },
   "outputs": [],
   "source": [
    "#creating the x and y ranges according to the above generated plot.\n",
    "x_range = np.linspace(-4, 1, 100) \n",
    "y_range = np.linspace(-6, 6, 100) \n",
    "x_grid, y_grid = np.meshgrid(x_range, y_range) # x_grid and y_grig are of size 100 X 100\n",
    "\n",
    "# converting x_grid and y_grid to continuous arrays\n",
    "x_gridflat = np.ravel(x_grid)\n",
    "y_gridflat = np.ravel(y_grid)\n",
    "\n",
    "# The last layer of the current model takes two columns as input. Hence transpose of np.vstack() is required.\n",
    "X = np.vstack((x_gridflat, y_gridflat)).T\n",
    "\n",
    "prob_contour = model_prob(X).reshape(100,100) "
   ]
  },
  {
   "cell_type": "code",
   "execution_count": 29,
   "id": "da72499a",
   "metadata": {
    "execution": {
     "iopub.execute_input": "2022-09-23T10:12:25.525567Z",
     "iopub.status.busy": "2022-09-23T10:12:25.524965Z",
     "iopub.status.idle": "2022-09-23T10:12:25.765955Z",
     "shell.execute_reply": "2022-09-23T10:12:25.766412Z"
    },
    "papermill": {
     "duration": 0.292092,
     "end_time": "2022-09-23T10:12:25.766548",
     "exception": false,
     "start_time": "2022-09-23T10:12:25.474456",
     "status": "completed"
    },
    "tags": []
   },
   "outputs": [
    {
     "data": {
      "image/png": "[encoded data removed]",
      "text/plain": [
       "<Figure size 720x648 with 1 Axes>"
      ]
     },
     "metadata": {
      "needs_background": "light"
     },
     "output_type": "display_data"
    }
   ],
   "source": [
    "plt.figure(figsize=(10,9))\n",
    "plt.scatter(testing_plot[:,0], testing_plot[:,1], alpha = 0.1, c = y_test.ravel())\n",
    "contours = plt.contour(x_grid,y_grid,prob_contour)\n",
    "plt.title('Probability Contours')\n",
    "plt.clabel(contours, inline = True );"
   ]
  },
  {
   "cell_type": "code",
   "execution_count": null,
   "id": "e81b4ac7",
   "metadata": {
    "papermill": {
     "duration": 0.04781,
     "end_time": "2022-09-23T10:12:25.862118",
     "exception": false,
     "start_time": "2022-09-23T10:12:25.814308",
     "status": "completed"
    },
    "tags": []
   },
   "outputs": [],
   "source": []
  }
 ],
 "metadata": {
  "kernelspec": {
   "display_name": "Python 3",
   "language": "python",
   "name": "python3"
  },
  "language_info": {
   "codemirror_mode": {
    "name": "ipython",
    "version": 3
   },
   "file_extension": ".py",
   "mimetype": "text/x-python",
   "name": "python",
   "nbconvert_exporter": "python",
   "pygments_lexer": "ipython3",
   "version": "3.6.15"
  },
  "papermill": {
   "default_parameters": {},
   "duration": 103.777143,
   "end_time": "2022-09-23T10:12:26.329177",
   "environment_variables": {},
   "exception": null,
   "input_path": "2020-08-11-part2.ipynb",
   "output_path": "2020-08-11-part2.ipynb",
   "parameters": {},
   "start_time": "2022-09-23T10:10:42.552034",
   "version": "2.3.3"
  }
 },
 "nbformat": 4,
 "nbformat_minor": 5
}