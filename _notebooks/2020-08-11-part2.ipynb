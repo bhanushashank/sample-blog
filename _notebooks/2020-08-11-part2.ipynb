{
 "cells": [
  {
   "cell_type": "markdown",
   "id": "98380cd3",
   "metadata": {
    "papermill": {
     "duration": 0.040127,
     "end_time": "2022-10-02T00:57:10.761294",
     "exception": false,
     "start_time": "2022-10-02T00:57:10.721167",
     "status": "completed"
    },
    "tags": []
   },
   "source": [
    "# Distinguish Your Own Digits (DYOD)"
   ]
  },
  {
   "cell_type": "markdown",
   "id": "ef31240d",
   "metadata": {
    "papermill": {
     "duration": 0.028831,
     "end_time": "2022-10-02T00:57:10.822808",
     "exception": false,
     "start_time": "2022-10-02T00:57:10.793977",
     "status": "completed"
    },
    "tags": []
   },
   "source": [
    "You are going to write a classifier that distinguishes between the number 3 and number 8."
   ]
  },
  {
   "cell_type": "code",
   "execution_count": 1,
   "id": "b15c8646",
   "metadata": {
    "execution": {
     "iopub.execute_input": "2022-10-02T00:57:10.894261Z",
     "iopub.status.busy": "2022-10-02T00:57:10.893424Z",
     "iopub.status.idle": "2022-10-02T00:57:10.909231Z",
     "shell.execute_reply": "2022-10-02T00:57:10.908551Z"
    },
    "papermill": {
     "duration": 0.056918,
     "end_time": "2022-10-02T00:57:10.909415",
     "exception": false,
     "start_time": "2022-10-02T00:57:10.852497",
     "status": "completed"
    },
    "tags": []
   },
   "outputs": [],
   "source": [
    "%load_ext autoreload\n",
    "%autoreload 2"
   ]
  },
  {
   "cell_type": "code",
   "execution_count": 2,
   "id": "22ef38dc",
   "metadata": {
    "execution": {
     "iopub.execute_input": "2022-10-02T00:57:10.978327Z",
     "iopub.status.busy": "2022-10-02T00:57:10.976908Z",
     "iopub.status.idle": "2022-10-02T00:57:11.669255Z",
     "shell.execute_reply": "2022-10-02T00:57:11.669892Z"
    },
    "papermill": {
     "duration": 0.729045,
     "end_time": "2022-10-02T00:57:11.670074",
     "exception": false,
     "start_time": "2022-10-02T00:57:10.941029",
     "status": "completed"
    },
    "tags": []
   },
   "outputs": [],
   "source": [
    "%matplotlib inline\n",
    "import numpy as np\n",
    "import matplotlib.pyplot as plt\n",
    "import pandas as pd"
   ]
  },
  {
   "cell_type": "markdown",
   "id": "ba036198",
   "metadata": {
    "papermill": {
     "duration": 0.030965,
     "end_time": "2022-10-02T00:57:11.732586",
     "exception": false,
     "start_time": "2022-10-02T00:57:11.701621",
     "status": "completed"
    },
    "tags": []
   },
   "source": [
    "From the command line run `pip install mnist`. This is a library that will help you bring down the mnist dataset. If you run this from a notebook, you need to put  `!pip install mnist` in a cell by itself."
   ]
  },
  {
   "cell_type": "code",
   "execution_count": 3,
   "id": "bb6ad8a1",
   "metadata": {
    "execution": {
     "iopub.execute_input": "2022-10-02T00:57:11.815060Z",
     "iopub.status.busy": "2022-10-02T00:57:11.814067Z",
     "iopub.status.idle": "2022-10-02T00:57:14.733110Z",
     "shell.execute_reply": "2022-10-02T00:57:14.732325Z"
    },
    "papermill": {
     "duration": 2.964217,
     "end_time": "2022-10-02T00:57:14.733302",
     "exception": false,
     "start_time": "2022-10-02T00:57:11.769085",
     "status": "completed"
    },
    "tags": []
   },
   "outputs": [
    {
     "name": "stdout",
     "output_type": "stream",
     "text": [
      "Collecting mnist\r\n"
     ]
    },
    {
     "name": "stdout",
     "output_type": "stream",
     "text": [
      "  Downloading mnist-0.2.2-py2.py3-none-any.whl (3.5 kB)\r\n",
      "Requirement already satisfied: numpy in /opt/hostedtoolcache/Python/3.6.15/x64/lib/python3.6/site-packages (from mnist) (1.19.5)\r\n"
     ]
    },
    {
     "name": "stdout",
     "output_type": "stream",
     "text": [
      "Installing collected packages: mnist\r\n"
     ]
    },
    {
     "name": "stdout",
     "output_type": "stream",
     "text": [
      "Successfully installed mnist-0.2.2\r\n"
     ]
    }
   ],
   "source": [
    "!pip install mnist"
   ]
  },
  {
   "cell_type": "markdown",
   "id": "69df9c9a",
   "metadata": {
    "papermill": {
     "duration": 0.032452,
     "end_time": "2022-10-02T00:57:14.801965",
     "exception": false,
     "start_time": "2022-10-02T00:57:14.769513",
     "status": "completed"
    },
    "tags": []
   },
   "source": [
    "## Preparing the Data"
   ]
  },
  {
   "cell_type": "code",
   "execution_count": 4,
   "id": "7f69d806",
   "metadata": {
    "execution": {
     "iopub.execute_input": "2022-10-02T00:57:14.877230Z",
     "iopub.status.busy": "2022-10-02T00:57:14.870370Z",
     "iopub.status.idle": "2022-10-02T00:57:14.892324Z",
     "shell.execute_reply": "2022-10-02T00:57:14.891709Z"
    },
    "papermill": {
     "duration": 0.05938,
     "end_time": "2022-10-02T00:57:14.892460",
     "exception": false,
     "start_time": "2022-10-02T00:57:14.833080",
     "status": "completed"
    },
    "tags": []
   },
   "outputs": [],
   "source": [
    "import mnist"
   ]
  },
  {
   "cell_type": "code",
   "execution_count": 5,
   "id": "a411e44f",
   "metadata": {
    "execution": {
     "iopub.execute_input": "2022-10-02T00:57:14.961463Z",
     "iopub.status.busy": "2022-10-02T00:57:14.960722Z",
     "iopub.status.idle": "2022-10-02T00:57:15.520824Z",
     "shell.execute_reply": "2022-10-02T00:57:15.520185Z"
    },
    "papermill": {
     "duration": 0.596885,
     "end_time": "2022-10-02T00:57:15.520973",
     "exception": false,
     "start_time": "2022-10-02T00:57:14.924088",
     "status": "completed"
    },
    "tags": []
   },
   "outputs": [],
   "source": [
    "train_images = mnist.train_images()\n",
    "train_labels = mnist.train_labels()"
   ]
  },
  {
   "cell_type": "code",
   "execution_count": 6,
   "id": "dceab3a5",
   "metadata": {
    "execution": {
     "iopub.execute_input": "2022-10-02T00:57:15.593236Z",
     "iopub.status.busy": "2022-10-02T00:57:15.592483Z",
     "iopub.status.idle": "2022-10-02T00:57:15.609754Z",
     "shell.execute_reply": "2022-10-02T00:57:15.609083Z"
    },
    "papermill": {
     "duration": 0.054763,
     "end_time": "2022-10-02T00:57:15.609896",
     "exception": false,
     "start_time": "2022-10-02T00:57:15.555133",
     "status": "completed"
    },
    "tags": []
   },
   "outputs": [
    {
     "data": {
      "text/plain": [
       "((60000, 28, 28), (60000,))"
      ]
     },
     "execution_count": 6,
     "metadata": {},
     "output_type": "execute_result"
    }
   ],
   "source": [
    "train_images.shape, train_labels.shape"
   ]
  },
  {
   "cell_type": "code",
   "execution_count": 7,
   "id": "f50dc2bb",
   "metadata": {
    "execution": {
     "iopub.execute_input": "2022-10-02T00:57:15.685094Z",
     "iopub.status.busy": "2022-10-02T00:57:15.683721Z",
     "iopub.status.idle": "2022-10-02T00:57:15.838062Z",
     "shell.execute_reply": "2022-10-02T00:57:15.837381Z"
    },
    "papermill": {
     "duration": 0.19457,
     "end_time": "2022-10-02T00:57:15.838213",
     "exception": false,
     "start_time": "2022-10-02T00:57:15.643643",
     "status": "completed"
    },
    "tags": []
   },
   "outputs": [],
   "source": [
    "test_images = mnist.test_images()\n",
    "test_labels = mnist.test_labels()"
   ]
  },
  {
   "cell_type": "code",
   "execution_count": 8,
   "id": "fc38cf1b",
   "metadata": {
    "execution": {
     "iopub.execute_input": "2022-10-02T00:57:15.909288Z",
     "iopub.status.busy": "2022-10-02T00:57:15.908542Z",
     "iopub.status.idle": "2022-10-02T00:57:15.924749Z",
     "shell.execute_reply": "2022-10-02T00:57:15.925470Z"
    },
    "papermill": {
     "duration": 0.053456,
     "end_time": "2022-10-02T00:57:15.925637",
     "exception": false,
     "start_time": "2022-10-02T00:57:15.872181",
     "status": "completed"
    },
    "tags": []
   },
   "outputs": [
    {
     "data": {
      "text/plain": [
       "((10000, 28, 28), (10000,))"
      ]
     },
     "execution_count": 8,
     "metadata": {},
     "output_type": "execute_result"
    }
   ],
   "source": [
    "test_images.shape, test_labels.shape"
   ]
  },
  {
   "cell_type": "code",
   "execution_count": 9,
   "id": "f9ed8fe0",
   "metadata": {
    "execution": {
     "iopub.execute_input": "2022-10-02T00:57:15.999577Z",
     "iopub.status.busy": "2022-10-02T00:57:15.998834Z",
     "iopub.status.idle": "2022-10-02T00:57:16.190785Z",
     "shell.execute_reply": "2022-10-02T00:57:16.189861Z"
    },
    "papermill": {
     "duration": 0.231714,
     "end_time": "2022-10-02T00:57:16.190933",
     "exception": false,
     "start_time": "2022-10-02T00:57:15.959219",
     "status": "completed"
    },
    "tags": []
   },
   "outputs": [
    {
     "name": "stdout",
     "output_type": "stream",
     "text": [
      "2\n"
     ]
    },
    {
     "data": {
      "text/plain": [
       "<matplotlib.image.AxesImage at 0x7ff437be8cf8>"
      ]
     },
     "execution_count": 9,
     "metadata": {},
     "output_type": "execute_result"
    },
    {
     "data": {
      "image/png": "[encoded data removed]",
      "text/plain": [
       "<Figure size 432x288 with 1 Axes>"
      ]
     },
     "metadata": {
      "needs_background": "light"
     },
     "output_type": "display_data"
    }
   ],
   "source": [
    "image_index = 7776 # You may select anything up to 60,000\n",
    "print(train_labels[image_index]) \n",
    "plt.imshow(train_images[image_index], cmap='Greys')"
   ]
  },
  {
   "cell_type": "markdown",
   "id": "a8d2388d",
   "metadata": {
    "papermill": {
     "duration": 0.035735,
     "end_time": "2022-10-02T00:57:16.264765",
     "exception": false,
     "start_time": "2022-10-02T00:57:16.229030",
     "status": "completed"
    },
    "tags": []
   },
   "source": [
    "## Filter data to get 3 and 8 out"
   ]
  },
  {
   "cell_type": "code",
   "execution_count": 10,
   "id": "776f7fc7",
   "metadata": {
    "execution": {
     "iopub.execute_input": "2022-10-02T00:57:16.343343Z",
     "iopub.status.busy": "2022-10-02T00:57:16.342581Z",
     "iopub.status.idle": "2022-10-02T00:57:16.363300Z",
     "shell.execute_reply": "2022-10-02T00:57:16.362634Z"
    },
    "papermill": {
     "duration": 0.063918,
     "end_time": "2022-10-02T00:57:16.363451",
     "exception": false,
     "start_time": "2022-10-02T00:57:16.299533",
     "status": "completed"
    },
    "tags": []
   },
   "outputs": [],
   "source": [
    "train_filter = np.where((train_labels == 3 ) | (train_labels == 8))\n",
    "test_filter = np.where((test_labels == 3) | (test_labels == 8))\n",
    "X_train, y_train = train_images[train_filter], train_labels[train_filter]\n",
    "X_test, y_test = test_images[test_filter], test_labels[test_filter]"
   ]
  },
  {
   "cell_type": "markdown",
   "id": "948f0b7e",
   "metadata": {
    "papermill": {
     "duration": 0.035341,
     "end_time": "2022-10-02T00:57:16.433578",
     "exception": false,
     "start_time": "2022-10-02T00:57:16.398237",
     "status": "completed"
    },
    "tags": []
   },
   "source": [
    "We normalize the pizel values in the 0 to 1 range"
   ]
  },
  {
   "cell_type": "code",
   "execution_count": 11,
   "id": "ee4c2166",
   "metadata": {
    "execution": {
     "iopub.execute_input": "2022-10-02T00:57:16.511034Z",
     "iopub.status.busy": "2022-10-02T00:57:16.510282Z",
     "iopub.status.idle": "2022-10-02T00:57:16.575718Z",
     "shell.execute_reply": "2022-10-02T00:57:16.575065Z"
    },
    "papermill": {
     "duration": 0.10497,
     "end_time": "2022-10-02T00:57:16.575869",
     "exception": false,
     "start_time": "2022-10-02T00:57:16.470899",
     "status": "completed"
    },
    "tags": []
   },
   "outputs": [],
   "source": [
    "X_train = X_train/255.\n",
    "X_test = X_test/255."
   ]
  },
  {
   "cell_type": "markdown",
   "id": "ddcf4fab",
   "metadata": {
    "papermill": {
     "duration": 0.035448,
     "end_time": "2022-10-02T00:57:16.645842",
     "exception": false,
     "start_time": "2022-10-02T00:57:16.610394",
     "status": "completed"
    },
    "tags": []
   },
   "source": [
    "And setup the labels as 1 (when the digit is 3) and 0 (when the digit is 8)"
   ]
  },
  {
   "cell_type": "code",
   "execution_count": 12,
   "id": "7dc908f2",
   "metadata": {
    "execution": {
     "iopub.execute_input": "2022-10-02T00:57:16.722635Z",
     "iopub.status.busy": "2022-10-02T00:57:16.721877Z",
     "iopub.status.idle": "2022-10-02T00:57:16.734527Z",
     "shell.execute_reply": "2022-10-02T00:57:16.733892Z"
    },
    "papermill": {
     "duration": 0.0548,
     "end_time": "2022-10-02T00:57:16.734667",
     "exception": false,
     "start_time": "2022-10-02T00:57:16.679867",
     "status": "completed"
    },
    "tags": []
   },
   "outputs": [],
   "source": [
    "y_train = 1*(y_train==3)\n",
    "y_test = 1*(y_test==3)"
   ]
  },
  {
   "cell_type": "code",
   "execution_count": 13,
   "id": "01e4e969",
   "metadata": {
    "execution": {
     "iopub.execute_input": "2022-10-02T00:57:16.814736Z",
     "iopub.status.busy": "2022-10-02T00:57:16.813982Z",
     "iopub.status.idle": "2022-10-02T00:57:16.827077Z",
     "shell.execute_reply": "2022-10-02T00:57:16.827795Z"
    },
    "papermill": {
     "duration": 0.055941,
     "end_time": "2022-10-02T00:57:16.827956",
     "exception": false,
     "start_time": "2022-10-02T00:57:16.772015",
     "status": "completed"
    },
    "tags": []
   },
   "outputs": [
    {
     "data": {
      "text/plain": [
       "((11982, 28, 28), (1984, 28, 28))"
      ]
     },
     "execution_count": 13,
     "metadata": {},
     "output_type": "execute_result"
    }
   ],
   "source": [
    "X_train.shape, X_test.shape"
   ]
  },
  {
   "cell_type": "markdown",
   "id": "5ccf3f85",
   "metadata": {
    "papermill": {
     "duration": 0.03462,
     "end_time": "2022-10-02T00:57:16.899822",
     "exception": false,
     "start_time": "2022-10-02T00:57:16.865202",
     "status": "completed"
    },
    "tags": []
   },
   "source": [
    "We reshape the data to flatten the image pixels into a set of features or co-variates:"
   ]
  },
  {
   "cell_type": "code",
   "execution_count": 14,
   "id": "5286a4a3",
   "metadata": {
    "execution": {
     "iopub.execute_input": "2022-10-02T00:57:16.976726Z",
     "iopub.status.busy": "2022-10-02T00:57:16.975863Z",
     "iopub.status.idle": "2022-10-02T00:57:16.990585Z",
     "shell.execute_reply": "2022-10-02T00:57:16.991205Z"
    },
    "papermill": {
     "duration": 0.05709,
     "end_time": "2022-10-02T00:57:16.991372",
     "exception": false,
     "start_time": "2022-10-02T00:57:16.934282",
     "status": "completed"
    },
    "tags": []
   },
   "outputs": [
    {
     "data": {
      "text/plain": [
       "((11982, 784), (1984, 784))"
      ]
     },
     "execution_count": 14,
     "metadata": {},
     "output_type": "execute_result"
    }
   ],
   "source": [
    "X_train = X_train.reshape(X_train.shape[0], -1)\n",
    "X_test = X_test.reshape(X_test.shape[0], -1)\n",
    "X_train.shape, X_test.shape"
   ]
  },
  {
   "cell_type": "code",
   "execution_count": 15,
   "id": "73c5f88a",
   "metadata": {
    "execution": {
     "iopub.execute_input": "2022-10-02T00:57:17.067651Z",
     "iopub.status.busy": "2022-10-02T00:57:17.066685Z",
     "iopub.status.idle": "2022-10-02T00:57:17.091359Z",
     "shell.execute_reply": "2022-10-02T00:57:17.091964Z"
    },
    "papermill": {
     "duration": 0.066711,
     "end_time": "2022-10-02T00:57:17.092140",
     "exception": false,
     "start_time": "2022-10-02T00:57:17.025429",
     "status": "completed"
    },
    "tags": []
   },
   "outputs": [],
   "source": [
    "#Impoting functions from 'Kudzu'\n",
    "from kudzu.model import Model\n",
    "from kudzu.train import Learner\n",
    "from kudzu.optim import GD\n",
    "from kudzu.data import Data, Sampler,Dataloader\n",
    "\n",
    "from kudzu.callbacks import AccCallback\n",
    "from kudzu.callbacks import ClfCallback\n",
    "\n",
    "from kudzu.loss import MSE\n",
    "\n",
    "from kudzu.layer import Sigmoid,Relu\n",
    "from kudzu.layer import Affine"
   ]
  },
  {
   "cell_type": "markdown",
   "id": "bc01172a",
   "metadata": {
    "papermill": {
     "duration": 0.034666,
     "end_time": "2022-10-02T00:57:17.162094",
     "exception": false,
     "start_time": "2022-10-02T00:57:17.127428",
     "status": "completed"
    },
    "tags": []
   },
   "source": [
    "### Let us create a `Config` class, to store important parameters. \n",
    "This class essentially plays the role of a dictionary."
   ]
  },
  {
   "cell_type": "code",
   "execution_count": 16,
   "id": "978281aa",
   "metadata": {
    "execution": {
     "iopub.execute_input": "2022-10-02T00:57:17.241279Z",
     "iopub.status.busy": "2022-10-02T00:57:17.239968Z",
     "iopub.status.idle": "2022-10-02T00:57:17.256176Z",
     "shell.execute_reply": "2022-10-02T00:57:17.255539Z"
    },
    "papermill": {
     "duration": 0.056408,
     "end_time": "2022-10-02T00:57:17.256324",
     "exception": false,
     "start_time": "2022-10-02T00:57:17.199916",
     "status": "completed"
    },
    "tags": []
   },
   "outputs": [],
   "source": [
    "class Config:\n",
    "    pass\n",
    "config = Config()\n",
    "config.lr = 0.001\n",
    "config.num_epochs = 250\n",
    "config.bs = 50"
   ]
  },
  {
   "cell_type": "markdown",
   "id": "1385fa59",
   "metadata": {
    "papermill": {
     "duration": 0.036625,
     "end_time": "2022-10-02T00:57:17.328173",
     "exception": false,
     "start_time": "2022-10-02T00:57:17.291548",
     "status": "completed"
    },
    "tags": []
   },
   "source": [
    "### Running Models with the Training data\n",
    "Details about the network layers:\n",
    "- A first affine layer has 784 inputs and does 100 affine transforms. These are followed by a Relu\n",
    "- A second affine layer has 100 inputs from the 100 activations of the past layer, and does 100 affine transforms. These are followed by a Relu\n",
    "- A third affine layer has 100 activations and does 2 affine transformations to create an embedding for visualization. There is no non-linearity here.\n",
    "- A final \"logistic regression\" which has an affine transform from 2 inputs to 1 output, which is squeezed through a sigmoid.\n"
   ]
  },
  {
   "cell_type": "code",
   "execution_count": 17,
   "id": "2b9c66db",
   "metadata": {
    "execution": {
     "iopub.execute_input": "2022-10-02T00:57:17.406798Z",
     "iopub.status.busy": "2022-10-02T00:57:17.405952Z",
     "iopub.status.idle": "2022-10-02T00:57:17.423112Z",
     "shell.execute_reply": "2022-10-02T00:57:17.422397Z"
    },
    "papermill": {
     "duration": 0.059649,
     "end_time": "2022-10-02T00:57:17.423260",
     "exception": false,
     "start_time": "2022-10-02T00:57:17.363611",
     "status": "completed"
    },
    "tags": []
   },
   "outputs": [],
   "source": [
    "data = Data(X_train, y_train.reshape(-1,1))\n",
    "sampler = Sampler(data, config.bs, shuffle=True)\n",
    "\n",
    "dl = Dataloader(data, sampler)\n",
    "\n",
    "opt = GD(config.lr)\n",
    "loss = MSE()"
   ]
  },
  {
   "cell_type": "code",
   "execution_count": 18,
   "id": "b275e4c2",
   "metadata": {
    "execution": {
     "iopub.execute_input": "2022-10-02T00:57:17.498253Z",
     "iopub.status.busy": "2022-10-02T00:57:17.497486Z",
     "iopub.status.idle": "2022-10-02T00:57:17.511971Z",
     "shell.execute_reply": "2022-10-02T00:57:17.512664Z"
    },
    "papermill": {
     "duration": 0.054671,
     "end_time": "2022-10-02T00:57:17.512820",
     "exception": false,
     "start_time": "2022-10-02T00:57:17.458149",
     "status": "completed"
    },
    "tags": []
   },
   "outputs": [],
   "source": [
    "training_data_x = X_train\n",
    "testing_data_x = X_test\n",
    "training_data_y = y_train.reshape(-1,1)\n",
    "testing_data_y = y_test.reshape(-1,1)"
   ]
  },
  {
   "cell_type": "code",
   "execution_count": 19,
   "id": "76951160",
   "metadata": {
    "execution": {
     "iopub.execute_input": "2022-10-02T00:57:17.588041Z",
     "iopub.status.busy": "2022-10-02T00:57:17.587235Z",
     "iopub.status.idle": "2022-10-02T00:57:17.607369Z",
     "shell.execute_reply": "2022-10-02T00:57:17.607950Z"
    },
    "papermill": {
     "duration": 0.059314,
     "end_time": "2022-10-02T00:57:17.608116",
     "exception": false,
     "start_time": "2022-10-02T00:57:17.548802",
     "status": "completed"
    },
    "tags": []
   },
   "outputs": [
    {
     "name": "stdout",
     "output_type": "stream",
     "text": [
      "xavier\n",
      "xavier\n",
      "xavier\n",
      "xavier\n",
      "xavier\n"
     ]
    }
   ],
   "source": [
    "layers = [Affine(\"first\", 784, 100), Relu(\"first\"), Affine(\"second\", 100, 100), Relu(\"second\"), Affine(\"third\", 100, 2), Affine(\"last\", 2, 1), Sigmoid(\"last\")]\n",
    "model_nn = Model(layers)\n",
    "model_lr = Model([Affine(\"logits\", 784, 1), Sigmoid(\"sigmoid\")])"
   ]
  },
  {
   "cell_type": "code",
   "execution_count": 20,
   "id": "6eede77a",
   "metadata": {
    "execution": {
     "iopub.execute_input": "2022-10-02T00:57:17.687635Z",
     "iopub.status.busy": "2022-10-02T00:57:17.686892Z",
     "iopub.status.idle": "2022-10-02T00:57:17.700738Z",
     "shell.execute_reply": "2022-10-02T00:57:17.701435Z"
    },
    "papermill": {
     "duration": 0.054848,
     "end_time": "2022-10-02T00:57:17.701593",
     "exception": false,
     "start_time": "2022-10-02T00:57:17.646745",
     "status": "completed"
    },
    "tags": []
   },
   "outputs": [],
   "source": [
    "nn_learner = Learner(loss, model_nn, opt, config.num_epochs)\n",
    "acc_nn = ClfCallback(nn_learner, config.bs, training_data_x , testing_data_x, training_data_y, testing_data_y)\n",
    "nn_learner.set_callbacks([acc_nn])"
   ]
  },
  {
   "cell_type": "code",
   "execution_count": 21,
   "id": "877b6cc7",
   "metadata": {
    "execution": {
     "iopub.execute_input": "2022-10-02T00:57:17.777718Z",
     "iopub.status.busy": "2022-10-02T00:57:17.776986Z",
     "iopub.status.idle": "2022-10-02T00:57:17.791458Z",
     "shell.execute_reply": "2022-10-02T00:57:17.792016Z"
    },
    "papermill": {
     "duration": 0.055835,
     "end_time": "2022-10-02T00:57:17.792535",
     "exception": false,
     "start_time": "2022-10-02T00:57:17.736700",
     "status": "completed"
    },
    "tags": []
   },
   "outputs": [],
   "source": [
    "lr_learner = Learner(loss, model_lr, opt, config.num_epochs)\n",
    "acc_lr = ClfCallback(lr_learner, config.bs, training_data_x , testing_data_x, training_data_y, testing_data_y)\n",
    "lr_learner.set_callbacks([acc_lr])"
   ]
  },
  {
   "cell_type": "code",
   "execution_count": 22,
   "id": "d9b133c3",
   "metadata": {
    "execution": {
     "iopub.execute_input": "2022-10-02T00:57:17.869207Z",
     "iopub.status.busy": "2022-10-02T00:57:17.868476Z",
     "iopub.status.idle": "2022-10-02T00:59:30.889434Z",
     "shell.execute_reply": "2022-10-02T00:59:30.890448Z"
    },
    "papermill": {
     "duration": 133.062918,
     "end_time": "2022-10-02T00:59:30.890620",
     "exception": false,
     "start_time": "2022-10-02T00:57:17.827702",
     "status": "completed"
    },
    "tags": []
   },
   "outputs": [
    {
     "name": "stdout",
     "output_type": "stream",
     "text": [
      "Epoch 0, Loss 0.2539\n",
      "Training Accuracy: 0.5425, Testing Accuracy: 0.5444\n",
      "\n"
     ]
    },
    {
     "name": "stdout",
     "output_type": "stream",
     "text": [
      "Epoch 10, Loss 0.1325\n",
      "Training Accuracy: 0.8867, Testing Accuracy: 0.8982\n",
      "\n"
     ]
    },
    {
     "name": "stdout",
     "output_type": "stream",
     "text": [
      "Epoch 20, Loss 0.0693\n",
      "Training Accuracy: 0.9296, Testing Accuracy: 0.9435\n",
      "\n"
     ]
    },
    {
     "name": "stdout",
     "output_type": "stream",
     "text": [
      "Epoch 30, Loss 0.0493\n",
      "Training Accuracy: 0.9481, Testing Accuracy: 0.9597\n",
      "\n"
     ]
    },
    {
     "name": "stdout",
     "output_type": "stream",
     "text": [
      "Epoch 40, Loss 0.0406\n",
      "Training Accuracy: 0.9563, Testing Accuracy: 0.9662\n",
      "\n"
     ]
    },
    {
     "name": "stdout",
     "output_type": "stream",
     "text": [
      "Epoch 50, Loss 0.0359\n",
      "Training Accuracy: 0.9609, Testing Accuracy: 0.9693\n",
      "\n"
     ]
    },
    {
     "name": "stdout",
     "output_type": "stream",
     "text": [
      "Epoch 60, Loss 0.0329\n",
      "Training Accuracy: 0.9634, Testing Accuracy: 0.9688\n",
      "\n"
     ]
    },
    {
     "name": "stdout",
     "output_type": "stream",
     "text": [
      "Epoch 70, Loss 0.0309\n",
      "Training Accuracy: 0.9664, Testing Accuracy: 0.9693\n",
      "\n"
     ]
    },
    {
     "name": "stdout",
     "output_type": "stream",
     "text": [
      "Epoch 80, Loss 0.0293\n",
      "Training Accuracy: 0.9678, Testing Accuracy: 0.9708\n",
      "\n"
     ]
    },
    {
     "name": "stdout",
     "output_type": "stream",
     "text": [
      "Epoch 90, Loss 0.0281\n",
      "Training Accuracy: 0.9687, Testing Accuracy: 0.9708\n",
      "\n"
     ]
    },
    {
     "name": "stdout",
     "output_type": "stream",
     "text": [
      "Epoch 100, Loss 0.0271\n",
      "Training Accuracy: 0.9695, Testing Accuracy: 0.9703\n",
      "\n"
     ]
    },
    {
     "name": "stdout",
     "output_type": "stream",
     "text": [
      "Epoch 110, Loss 0.0262\n",
      "Training Accuracy: 0.9700, Testing Accuracy: 0.9713\n",
      "\n"
     ]
    },
    {
     "name": "stdout",
     "output_type": "stream",
     "text": [
      "Epoch 120, Loss 0.0254\n",
      "Training Accuracy: 0.9705, Testing Accuracy: 0.9728\n",
      "\n"
     ]
    },
    {
     "name": "stdout",
     "output_type": "stream",
     "text": [
      "Epoch 130, Loss 0.0247\n",
      "Training Accuracy: 0.9714, Testing Accuracy: 0.9728\n",
      "\n"
     ]
    },
    {
     "name": "stdout",
     "output_type": "stream",
     "text": [
      "Epoch 140, Loss 0.0241\n",
      "Training Accuracy: 0.9723, Testing Accuracy: 0.9733\n",
      "\n"
     ]
    },
    {
     "name": "stdout",
     "output_type": "stream",
     "text": [
      "Epoch 150, Loss 0.0235\n",
      "Training Accuracy: 0.9730, Testing Accuracy: 0.9728\n",
      "\n"
     ]
    },
    {
     "name": "stdout",
     "output_type": "stream",
     "text": [
      "Epoch 160, Loss 0.023\n",
      "Training Accuracy: 0.9737, Testing Accuracy: 0.9728\n",
      "\n"
     ]
    },
    {
     "name": "stdout",
     "output_type": "stream",
     "text": [
      "Epoch 170, Loss 0.0225\n",
      "Training Accuracy: 0.9740, Testing Accuracy: 0.9728\n",
      "\n"
     ]
    },
    {
     "name": "stdout",
     "output_type": "stream",
     "text": [
      "Epoch 180, Loss 0.022\n",
      "Training Accuracy: 0.9740, Testing Accuracy: 0.9733\n",
      "\n"
     ]
    },
    {
     "name": "stdout",
     "output_type": "stream",
     "text": [
      "Epoch 190, Loss 0.0216\n",
      "Training Accuracy: 0.9745, Testing Accuracy: 0.9728\n",
      "\n"
     ]
    },
    {
     "name": "stdout",
     "output_type": "stream",
     "text": [
      "Epoch 200, Loss 0.0212\n",
      "Training Accuracy: 0.9749, Testing Accuracy: 0.9728\n",
      "\n"
     ]
    },
    {
     "name": "stdout",
     "output_type": "stream",
     "text": [
      "Epoch 210, Loss 0.0208\n",
      "Training Accuracy: 0.9751, Testing Accuracy: 0.9728\n",
      "\n"
     ]
    },
    {
     "name": "stdout",
     "output_type": "stream",
     "text": [
      "Epoch 220, Loss 0.0204\n",
      "Training Accuracy: 0.9759, Testing Accuracy: 0.9728\n",
      "\n"
     ]
    },
    {
     "name": "stdout",
     "output_type": "stream",
     "text": [
      "Epoch 230, Loss 0.02\n",
      "Training Accuracy: 0.9762, Testing Accuracy: 0.9738\n",
      "\n"
     ]
    },
    {
     "name": "stdout",
     "output_type": "stream",
     "text": [
      "Epoch 240, Loss 0.0196\n",
      "Training Accuracy: 0.9767, Testing Accuracy: 0.9743\n",
      "\n"
     ]
    },
    {
     "data": {
      "text/plain": [
       "0.031352794753462"
      ]
     },
     "execution_count": 22,
     "metadata": {},
     "output_type": "execute_result"
    }
   ],
   "source": [
    "nn_learner.train_loop(dl)"
   ]
  },
  {
   "cell_type": "code",
   "execution_count": 23,
   "id": "e0163366",
   "metadata": {
    "execution": {
     "iopub.execute_input": "2022-10-02T00:59:30.992129Z",
     "iopub.status.busy": "2022-10-02T00:59:30.991366Z",
     "iopub.status.idle": "2022-10-02T00:59:50.959413Z",
     "shell.execute_reply": "2022-10-02T00:59:50.960458Z"
    },
    "papermill": {
     "duration": 20.024219,
     "end_time": "2022-10-02T00:59:50.960632",
     "exception": false,
     "start_time": "2022-10-02T00:59:30.936413",
     "status": "completed"
    },
    "tags": []
   },
   "outputs": [
    {
     "name": "stdout",
     "output_type": "stream",
     "text": [
      "Epoch 0, Loss 0.2272\n",
      "Training Accuracy: 0.7606, Testing Accuracy: 0.7656\n",
      "\n"
     ]
    },
    {
     "name": "stdout",
     "output_type": "stream",
     "text": [
      "Epoch 10, Loss 0.1016\n",
      "Training Accuracy: 0.9113, Testing Accuracy: 0.9158\n",
      "\n"
     ]
    },
    {
     "name": "stdout",
     "output_type": "stream",
     "text": [
      "Epoch 20, Loss 0.0791\n",
      "Training Accuracy: 0.9276, Testing Accuracy: 0.9345\n",
      "\n"
     ]
    },
    {
     "name": "stdout",
     "output_type": "stream",
     "text": [
      "Epoch 30, Loss 0.0684\n",
      "Training Accuracy: 0.9353, Testing Accuracy: 0.9420\n",
      "\n"
     ]
    },
    {
     "name": "stdout",
     "output_type": "stream",
     "text": [
      "Epoch 40, Loss 0.0619\n",
      "Training Accuracy: 0.9394, Testing Accuracy: 0.9481\n",
      "\n"
     ]
    },
    {
     "name": "stdout",
     "output_type": "stream",
     "text": [
      "Epoch 50, Loss 0.0574\n",
      "Training Accuracy: 0.9430, Testing Accuracy: 0.9516\n",
      "\n"
     ]
    },
    {
     "name": "stdout",
     "output_type": "stream",
     "text": [
      "Epoch 60, Loss 0.0541\n",
      "Training Accuracy: 0.9463, Testing Accuracy: 0.9546\n",
      "\n"
     ]
    },
    {
     "name": "stdout",
     "output_type": "stream",
     "text": [
      "Epoch 70, Loss 0.0516\n",
      "Training Accuracy: 0.9479, Testing Accuracy: 0.9572\n",
      "\n"
     ]
    },
    {
     "name": "stdout",
     "output_type": "stream",
     "text": [
      "Epoch 80, Loss 0.0495\n",
      "Training Accuracy: 0.9493, Testing Accuracy: 0.9587\n",
      "\n"
     ]
    },
    {
     "name": "stdout",
     "output_type": "stream",
     "text": [
      "Epoch 90, Loss 0.0478\n",
      "Training Accuracy: 0.9502, Testing Accuracy: 0.9612\n",
      "\n"
     ]
    },
    {
     "name": "stdout",
     "output_type": "stream",
     "text": [
      "Epoch 100, Loss 0.0464\n",
      "Training Accuracy: 0.9517, Testing Accuracy: 0.9617\n",
      "\n"
     ]
    },
    {
     "name": "stdout",
     "output_type": "stream",
     "text": [
      "Epoch 110, Loss 0.0452\n",
      "Training Accuracy: 0.9529, Testing Accuracy: 0.9632\n",
      "\n"
     ]
    },
    {
     "name": "stdout",
     "output_type": "stream",
     "text": [
      "Epoch 120, Loss 0.0441\n",
      "Training Accuracy: 0.9536, Testing Accuracy: 0.9642\n",
      "\n"
     ]
    },
    {
     "name": "stdout",
     "output_type": "stream",
     "text": [
      "Epoch 130, Loss 0.0432\n",
      "Training Accuracy: 0.9548, Testing Accuracy: 0.9642\n",
      "\n"
     ]
    },
    {
     "name": "stdout",
     "output_type": "stream",
     "text": [
      "Epoch 140, Loss 0.0423\n",
      "Training Accuracy: 0.9557, Testing Accuracy: 0.9652\n",
      "\n"
     ]
    },
    {
     "name": "stdout",
     "output_type": "stream",
     "text": [
      "Epoch 150, Loss 0.0416\n",
      "Training Accuracy: 0.9566, Testing Accuracy: 0.9647\n",
      "\n"
     ]
    },
    {
     "name": "stdout",
     "output_type": "stream",
     "text": [
      "Epoch 160, Loss 0.0409\n",
      "Training Accuracy: 0.9575, Testing Accuracy: 0.9647\n",
      "\n"
     ]
    },
    {
     "name": "stdout",
     "output_type": "stream",
     "text": [
      "Epoch 170, Loss 0.0403\n",
      "Training Accuracy: 0.9579, Testing Accuracy: 0.9647\n",
      "\n"
     ]
    },
    {
     "name": "stdout",
     "output_type": "stream",
     "text": [
      "Epoch 180, Loss 0.0397\n",
      "Training Accuracy: 0.9584, Testing Accuracy: 0.9647\n",
      "\n"
     ]
    },
    {
     "name": "stdout",
     "output_type": "stream",
     "text": [
      "Epoch 190, Loss 0.0392\n",
      "Training Accuracy: 0.9585, Testing Accuracy: 0.9647\n",
      "\n"
     ]
    },
    {
     "name": "stdout",
     "output_type": "stream",
     "text": [
      "Epoch 200, Loss 0.0387\n",
      "Training Accuracy: 0.9593, Testing Accuracy: 0.9662\n",
      "\n"
     ]
    },
    {
     "name": "stdout",
     "output_type": "stream",
     "text": [
      "Epoch 210, Loss 0.0383\n",
      "Training Accuracy: 0.9598, Testing Accuracy: 0.9667\n",
      "\n"
     ]
    },
    {
     "name": "stdout",
     "output_type": "stream",
     "text": [
      "Epoch 220, Loss 0.0378\n",
      "Training Accuracy: 0.9603, Testing Accuracy: 0.9667\n",
      "\n"
     ]
    },
    {
     "name": "stdout",
     "output_type": "stream",
     "text": [
      "Epoch 230, Loss 0.0375\n",
      "Training Accuracy: 0.9606, Testing Accuracy: 0.9667\n",
      "\n"
     ]
    },
    {
     "name": "stdout",
     "output_type": "stream",
     "text": [
      "Epoch 240, Loss 0.0371\n",
      "Training Accuracy: 0.9608, Testing Accuracy: 0.9657\n",
      "\n"
     ]
    },
    {
     "data": {
      "text/plain": [
       "0.019793855474327774"
      ]
     },
     "execution_count": 23,
     "metadata": {},
     "output_type": "execute_result"
    }
   ],
   "source": [
    "lr_learner.train_loop(dl)"
   ]
  },
  {
   "cell_type": "code",
   "execution_count": 24,
   "id": "ca410940",
   "metadata": {
    "execution": {
     "iopub.execute_input": "2022-10-02T00:59:51.082399Z",
     "iopub.status.busy": "2022-10-02T00:59:51.081598Z",
     "iopub.status.idle": "2022-10-02T00:59:51.372292Z",
     "shell.execute_reply": "2022-10-02T00:59:51.372880Z"
    },
    "papermill": {
     "duration": 0.35565,
     "end_time": "2022-10-02T00:59:51.373048",
     "exception": false,
     "start_time": "2022-10-02T00:59:51.017398",
     "status": "completed"
    },
    "tags": []
   },
   "outputs": [
    {
     "data": {
      "text/plain": [
       "<matplotlib.legend.Legend at 0x7ff437758390>"
      ]
     },
     "execution_count": 24,
     "metadata": {},
     "output_type": "execute_result"
    },
    {
     "data": {
      "image/png": "[encoded data removed]",
      "text/plain": [
       "<Figure size 1080x720 with 1 Axes>"
      ]
     },
     "metadata": {
      "needs_background": "light"
     },
     "output_type": "display_data"
    }
   ],
   "source": [
    "#comparing the results of NN and LR\n",
    "plt.figure(figsize=(15,10))\n",
    "\n",
    "# Neural Network plots\n",
    "plt.plot(acc_nn.accuracies, 'r-', label = \"Training Accuracies - NN\")\n",
    "plt.plot(acc_nn.test_accuracies, 'g-', label = \"Testing Accuracies - NN\")\n",
    "\n",
    "# Logistic Regression plots\n",
    "plt.plot(acc_lr.accuracies, 'k-', label = \"Training Accuracies - LR\")\n",
    "plt.plot(acc_lr.test_accuracies, 'b-', label = \"Testing Accuracies - LR\")\n",
    "plt.legend()"
   ]
  },
  {
   "cell_type": "markdown",
   "id": "80dfb35c",
   "metadata": {
    "papermill": {
     "duration": 0.053986,
     "end_time": "2022-10-02T00:59:51.482768",
     "exception": false,
     "start_time": "2022-10-02T00:59:51.428782",
     "status": "completed"
    },
    "tags": []
   },
   "source": [
    "#### Plotting the outputs of this layer of the NN.\n"
   ]
  },
  {
   "cell_type": "code",
   "execution_count": 25,
   "id": "45eb2ff5",
   "metadata": {
    "execution": {
     "iopub.execute_input": "2022-10-02T00:59:51.608646Z",
     "iopub.status.busy": "2022-10-02T00:59:51.606142Z",
     "iopub.status.idle": "2022-10-02T00:59:51.631722Z",
     "shell.execute_reply": "2022-10-02T00:59:51.631123Z"
    },
    "papermill": {
     "duration": 0.096398,
     "end_time": "2022-10-02T00:59:51.631859",
     "exception": false,
     "start_time": "2022-10-02T00:59:51.535461",
     "status": "completed"
    },
    "tags": []
   },
   "outputs": [],
   "source": [
    "new_model = Model(layers[:-2])\n",
    "testing_plot = new_model(testing_data_x)"
   ]
  },
  {
   "cell_type": "code",
   "execution_count": 26,
   "id": "4c0a5485",
   "metadata": {
    "execution": {
     "iopub.execute_input": "2022-10-02T00:59:51.758498Z",
     "iopub.status.busy": "2022-10-02T00:59:51.757783Z",
     "iopub.status.idle": "2022-10-02T00:59:52.029942Z",
     "shell.execute_reply": "2022-10-02T00:59:52.029217Z"
    },
    "papermill": {
     "duration": 0.340584,
     "end_time": "2022-10-02T00:59:52.030089",
     "exception": false,
     "start_time": "2022-10-02T00:59:51.689505",
     "status": "completed"
    },
    "tags": []
   },
   "outputs": [
    {
     "data": {
      "text/plain": [
       "Text(0.5, 1.0, 'Outputs')"
      ]
     },
     "execution_count": 26,
     "metadata": {},
     "output_type": "execute_result"
    },
    {
     "data": {
      "image/png": "[encoded data removed]",
      "text/plain": [
       "<Figure size 576x504 with 1 Axes>"
      ]
     },
     "metadata": {
      "needs_background": "light"
     },
     "output_type": "display_data"
    }
   ],
   "source": [
    "# Plotting the scatter plot of points and color coding by class\n",
    "plt.figure(figsize=(8,7))\n",
    "plt.scatter(testing_plot[:,0], testing_plot[:,1], alpha = 0.1, c = y_test.ravel());\n",
    "plt.title('Outputs')"
   ]
  },
  {
   "cell_type": "markdown",
   "id": "a74fcf8f",
   "metadata": {
    "papermill": {
     "duration": 0.084079,
     "end_time": "2022-10-02T00:59:52.174568",
     "exception": false,
     "start_time": "2022-10-02T00:59:52.090489",
     "status": "completed"
    },
    "tags": []
   },
   "source": [
    "Probability contours"
   ]
  },
  {
   "cell_type": "code",
   "execution_count": 27,
   "id": "d0afc8e3",
   "metadata": {
    "execution": {
     "iopub.execute_input": "2022-10-02T00:59:52.298557Z",
     "iopub.status.busy": "2022-10-02T00:59:52.297787Z",
     "iopub.status.idle": "2022-10-02T00:59:52.312168Z",
     "shell.execute_reply": "2022-10-02T00:59:52.311534Z"
    },
    "papermill": {
     "duration": 0.081783,
     "end_time": "2022-10-02T00:59:52.312309",
     "exception": false,
     "start_time": "2022-10-02T00:59:52.230526",
     "status": "completed"
    },
    "tags": []
   },
   "outputs": [],
   "source": [
    "model_prob = Model(layers[-2:]) "
   ]
  },
  {
   "cell_type": "code",
   "execution_count": 28,
   "id": "9b96e238",
   "metadata": {
    "execution": {
     "iopub.execute_input": "2022-10-02T00:59:52.441832Z",
     "iopub.status.busy": "2022-10-02T00:59:52.439240Z",
     "iopub.status.idle": "2022-10-02T00:59:52.454403Z",
     "shell.execute_reply": "2022-10-02T00:59:52.453818Z"
    },
    "papermill": {
     "duration": 0.086422,
     "end_time": "2022-10-02T00:59:52.454536",
     "exception": false,
     "start_time": "2022-10-02T00:59:52.368114",
     "status": "completed"
    },
    "tags": []
   },
   "outputs": [],
   "source": [
    "#creating the x and y ranges according to the above generated plot.\n",
    "x_range = np.linspace(-4, 1, 100) \n",
    "y_range = np.linspace(-6, 6, 100) \n",
    "x_grid, y_grid = np.meshgrid(x_range, y_range) # x_grid and y_grig are of size 100 X 100\n",
    "\n",
    "# converting x_grid and y_grid to continuous arrays\n",
    "x_gridflat = np.ravel(x_grid)\n",
    "y_gridflat = np.ravel(y_grid)\n",
    "\n",
    "# The last layer of the current model takes two columns as input. Hence transpose of np.vstack() is required.\n",
    "X = np.vstack((x_gridflat, y_gridflat)).T\n",
    "\n",
    "prob_contour = model_prob(X).reshape(100,100) "
   ]
  },
  {
   "cell_type": "code",
   "execution_count": 29,
   "id": "da72499a",
   "metadata": {
    "execution": {
     "iopub.execute_input": "2022-10-02T00:59:52.600142Z",
     "iopub.status.busy": "2022-10-02T00:59:52.598854Z",
     "iopub.status.idle": "2022-10-02T00:59:52.928766Z",
     "shell.execute_reply": "2022-10-02T00:59:52.929525Z"
    },
    "papermill": {
     "duration": 0.397077,
     "end_time": "2022-10-02T00:59:52.929703",
     "exception": false,
     "start_time": "2022-10-02T00:59:52.532626",
     "status": "completed"
    },
    "tags": []
   },
   "outputs": [
    {
     "data": {
      "image/png": "[encoded data removed]",
      "text/plain": [
       "<Figure size 720x648 with 1 Axes>"
      ]
     },
     "metadata": {
      "needs_background": "light"
     },
     "output_type": "display_data"
    }
   ],
   "source": [
    "plt.figure(figsize=(10,9))\n",
    "plt.scatter(testing_plot[:,0], testing_plot[:,1], alpha = 0.1, c = y_test.ravel())\n",
    "contours = plt.contour(x_grid,y_grid,prob_contour)\n",
    "plt.title('Probability Contours')\n",
    "plt.clabel(contours, inline = True );"
   ]
  },
  {
   "cell_type": "code",
   "execution_count": null,
   "id": "e81b4ac7",
   "metadata": {
    "papermill": {
     "duration": 0.058326,
     "end_time": "2022-10-02T00:59:53.043391",
     "exception": false,
     "start_time": "2022-10-02T00:59:52.985065",
     "status": "completed"
    },
    "tags": []
   },
   "outputs": [],
   "source": []
  }
 ],
 "metadata": {
  "kernelspec": {
   "display_name": "Python 3",
   "language": "python",
   "name": "python3"
  },
  "language_info": {
   "codemirror_mode": {
    "name": "ipython",
    "version": 3
   },
   "file_extension": ".py",
   "mimetype": "text/x-python",
   "name": "python",
   "nbconvert_exporter": "python",
   "pygments_lexer": "ipython3",
   "version": "3.6.15"
  },
  "papermill": {
   "default_parameters": {},
   "duration": 164.176003,
   "end_time": "2022-10-02T00:59:53.527009",
   "environment_variables": {},
   "exception": null,
   "input_path": "2020-08-11-part2.ipynb",
   "output_path": "2020-08-11-part2.ipynb",
   "parameters": {},
   "start_time": "2022-10-02T00:57:09.351006",
   "version": "2.3.3"
  }
 },
 "nbformat": 4,
 "nbformat_minor": 5
}