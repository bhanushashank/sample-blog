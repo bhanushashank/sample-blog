{
 "cells": [
  {
   "cell_type": "markdown",
   "id": "98380cd3",
   "metadata": {
    "papermill": {
     "duration": 0.031029,
     "end_time": "2022-07-31T10:09:59.631117",
     "exception": false,
     "start_time": "2022-07-31T10:09:59.600088",
     "status": "completed"
    },
    "tags": []
   },
   "source": [
    "# Distinguish Your Own Digits (DYOD)"
   ]
  },
  {
   "cell_type": "markdown",
   "id": "ef31240d",
   "metadata": {
    "papermill": {
     "duration": 0.024114,
     "end_time": "2022-07-31T10:09:59.680627",
     "exception": false,
     "start_time": "2022-07-31T10:09:59.656513",
     "status": "completed"
    },
    "tags": []
   },
   "source": [
    "You are going to write a classifier that distinguishes between the number 3 and number 8."
   ]
  },
  {
   "cell_type": "code",
   "execution_count": 1,
   "id": "b15c8646",
   "metadata": {
    "execution": {
     "iopub.execute_input": "2022-07-31T10:09:59.740677Z",
     "iopub.status.busy": "2022-07-31T10:09:59.740054Z",
     "iopub.status.idle": "2022-07-31T10:09:59.751713Z",
     "shell.execute_reply": "2022-07-31T10:09:59.751204Z"
    },
    "papermill": {
     "duration": 0.046903,
     "end_time": "2022-07-31T10:09:59.751849",
     "exception": false,
     "start_time": "2022-07-31T10:09:59.704946",
     "status": "completed"
    },
    "tags": []
   },
   "outputs": [],
   "source": [
    "%load_ext autoreload\n",
    "%autoreload 2"
   ]
  },
  {
   "cell_type": "code",
   "execution_count": 2,
   "id": "22ef38dc",
   "metadata": {
    "execution": {
     "iopub.execute_input": "2022-07-31T10:09:59.808166Z",
     "iopub.status.busy": "2022-07-31T10:09:59.807553Z",
     "iopub.status.idle": "2022-07-31T10:10:00.386233Z",
     "shell.execute_reply": "2022-07-31T10:10:00.385653Z"
    },
    "papermill": {
     "duration": 0.610341,
     "end_time": "2022-07-31T10:10:00.386374",
     "exception": false,
     "start_time": "2022-07-31T10:09:59.776033",
     "status": "completed"
    },
    "tags": []
   },
   "outputs": [],
   "source": [
    "%matplotlib inline\n",
    "import numpy as np\n",
    "import matplotlib.pyplot as plt\n",
    "import pandas as pd"
   ]
  },
  {
   "cell_type": "markdown",
   "id": "ba036198",
   "metadata": {
    "papermill": {
     "duration": 0.024143,
     "end_time": "2022-07-31T10:10:00.434552",
     "exception": false,
     "start_time": "2022-07-31T10:10:00.410409",
     "status": "completed"
    },
    "tags": []
   },
   "source": [
    "From the command line run `pip install mnist`. This is a library that will help you bring down the mnist dataset. If you run this from a notebook, you need to put  `!pip install mnist` in a cell by itself."
   ]
  },
  {
   "cell_type": "code",
   "execution_count": 3,
   "id": "bb6ad8a1",
   "metadata": {
    "execution": {
     "iopub.execute_input": "2022-07-31T10:10:00.487958Z",
     "iopub.status.busy": "2022-07-31T10:10:00.487361Z",
     "iopub.status.idle": "2022-07-31T10:10:02.976540Z",
     "shell.execute_reply": "2022-07-31T10:10:02.975957Z"
    },
    "papermill": {
     "duration": 2.517956,
     "end_time": "2022-07-31T10:10:02.976686",
     "exception": false,
     "start_time": "2022-07-31T10:10:00.458730",
     "status": "completed"
    },
    "tags": []
   },
   "outputs": [
    {
     "name": "stdout",
     "output_type": "stream",
     "text": [
      "Collecting mnist\r\n"
     ]
    },
    {
     "name": "stdout",
     "output_type": "stream",
     "text": [
      "  Downloading mnist-0.2.2-py2.py3-none-any.whl (3.5 kB)\r\n",
      "Requirement already satisfied: numpy in /opt/hostedtoolcache/Python/3.6.15/x64/lib/python3.6/site-packages (from mnist) (1.19.5)\r\n"
     ]
    },
    {
     "name": "stdout",
     "output_type": "stream",
     "text": [
      "Installing collected packages: mnist\r\n"
     ]
    },
    {
     "name": "stdout",
     "output_type": "stream",
     "text": [
      "Successfully installed mnist-0.2.2\r\n"
     ]
    }
   ],
   "source": [
    "!pip install mnist"
   ]
  },
  {
   "cell_type": "markdown",
   "id": "69df9c9a",
   "metadata": {
    "papermill": {
     "duration": 0.025448,
     "end_time": "2022-07-31T10:10:03.027422",
     "exception": false,
     "start_time": "2022-07-31T10:10:03.001974",
     "status": "completed"
    },
    "tags": []
   },
   "source": [
    "## Preparing the Data"
   ]
  },
  {
   "cell_type": "code",
   "execution_count": 4,
   "id": "7f69d806",
   "metadata": {
    "execution": {
     "iopub.execute_input": "2022-07-31T10:10:03.091012Z",
     "iopub.status.busy": "2022-07-31T10:10:03.086657Z",
     "iopub.status.idle": "2022-07-31T10:10:03.099397Z",
     "shell.execute_reply": "2022-07-31T10:10:03.098912Z"
    },
    "papermill": {
     "duration": 0.046984,
     "end_time": "2022-07-31T10:10:03.099519",
     "exception": false,
     "start_time": "2022-07-31T10:10:03.052535",
     "status": "completed"
    },
    "tags": []
   },
   "outputs": [],
   "source": [
    "import mnist"
   ]
  },
  {
   "cell_type": "code",
   "execution_count": 5,
   "id": "a411e44f",
   "metadata": {
    "execution": {
     "iopub.execute_input": "2022-07-31T10:10:03.167448Z",
     "iopub.status.busy": "2022-07-31T10:10:03.166807Z",
     "iopub.status.idle": "2022-07-31T10:10:03.611482Z",
     "shell.execute_reply": "2022-07-31T10:10:03.610430Z"
    },
    "papermill": {
     "duration": 0.486814,
     "end_time": "2022-07-31T10:10:03.611632",
     "exception": false,
     "start_time": "2022-07-31T10:10:03.124818",
     "status": "completed"
    },
    "tags": []
   },
   "outputs": [],
   "source": [
    "train_images = mnist.train_images()\n",
    "train_labels = mnist.train_labels()"
   ]
  },
  {
   "cell_type": "code",
   "execution_count": 6,
   "id": "dceab3a5",
   "metadata": {
    "execution": {
     "iopub.execute_input": "2022-07-31T10:10:03.669423Z",
     "iopub.status.busy": "2022-07-31T10:10:03.668697Z",
     "iopub.status.idle": "2022-07-31T10:10:03.682687Z",
     "shell.execute_reply": "2022-07-31T10:10:03.682208Z"
    },
    "papermill": {
     "duration": 0.045816,
     "end_time": "2022-07-31T10:10:03.682808",
     "exception": false,
     "start_time": "2022-07-31T10:10:03.636992",
     "status": "completed"
    },
    "tags": []
   },
   "outputs": [
    {
     "data": {
      "text/plain": [
       "((60000, 28, 28), (60000,))"
      ]
     },
     "execution_count": 6,
     "metadata": {},
     "output_type": "execute_result"
    }
   ],
   "source": [
    "train_images.shape, train_labels.shape"
   ]
  },
  {
   "cell_type": "code",
   "execution_count": 7,
   "id": "f50dc2bb",
   "metadata": {
    "execution": {
     "iopub.execute_input": "2022-07-31T10:10:03.737410Z",
     "iopub.status.busy": "2022-07-31T10:10:03.736822Z",
     "iopub.status.idle": "2022-07-31T10:10:03.853515Z",
     "shell.execute_reply": "2022-07-31T10:10:03.852890Z"
    },
    "papermill": {
     "duration": 0.145719,
     "end_time": "2022-07-31T10:10:03.853652",
     "exception": false,
     "start_time": "2022-07-31T10:10:03.707933",
     "status": "completed"
    },
    "tags": []
   },
   "outputs": [],
   "source": [
    "test_images = mnist.test_images()\n",
    "test_labels = mnist.test_labels()"
   ]
  },
  {
   "cell_type": "code",
   "execution_count": 8,
   "id": "fc38cf1b",
   "metadata": {
    "execution": {
     "iopub.execute_input": "2022-07-31T10:10:03.909928Z",
     "iopub.status.busy": "2022-07-31T10:10:03.909198Z",
     "iopub.status.idle": "2022-07-31T10:10:03.923449Z",
     "shell.execute_reply": "2022-07-31T10:10:03.922961Z"
    },
    "papermill": {
     "duration": 0.04415,
     "end_time": "2022-07-31T10:10:03.923567",
     "exception": false,
     "start_time": "2022-07-31T10:10:03.879417",
     "status": "completed"
    },
    "tags": []
   },
   "outputs": [
    {
     "data": {
      "text/plain": [
       "((10000, 28, 28), (10000,))"
      ]
     },
     "execution_count": 8,
     "metadata": {},
     "output_type": "execute_result"
    }
   ],
   "source": [
    "test_images.shape, test_labels.shape"
   ]
  },
  {
   "cell_type": "code",
   "execution_count": 9,
   "id": "f9ed8fe0",
   "metadata": {
    "execution": {
     "iopub.execute_input": "2022-07-31T10:10:03.979832Z",
     "iopub.status.busy": "2022-07-31T10:10:03.979236Z",
     "iopub.status.idle": "2022-07-31T10:10:04.117347Z",
     "shell.execute_reply": "2022-07-31T10:10:04.117914Z"
    },
    "papermill": {
     "duration": 0.168874,
     "end_time": "2022-07-31T10:10:04.118084",
     "exception": false,
     "start_time": "2022-07-31T10:10:03.949210",
     "status": "completed"
    },
    "tags": []
   },
   "outputs": [
    {
     "name": "stdout",
     "output_type": "stream",
     "text": [
      "2\n"
     ]
    },
    {
     "data": {
      "text/plain": [
       "<matplotlib.image.AxesImage at 0x7fba85231470>"
      ]
     },
     "execution_count": 9,
     "metadata": {},
     "output_type": "execute_result"
    },
    {
     "data": {
      "image/png": "[encoded data removed]",
      "text/plain": [
       "<Figure size 432x288 with 1 Axes>"
      ]
     },
     "metadata": {
      "needs_background": "light"
     },
     "output_type": "display_data"
    }
   ],
   "source": [
    "image_index = 7776 # You may select anything up to 60,000\n",
    "print(train_labels[image_index]) \n",
    "plt.imshow(train_images[image_index], cmap='Greys')"
   ]
  },
  {
   "cell_type": "markdown",
   "id": "a8d2388d",
   "metadata": {
    "papermill": {
     "duration": 0.02687,
     "end_time": "2022-07-31T10:10:04.172125",
     "exception": false,
     "start_time": "2022-07-31T10:10:04.145255",
     "status": "completed"
    },
    "tags": []
   },
   "source": [
    "## Filter data to get 3 and 8 out"
   ]
  },
  {
   "cell_type": "code",
   "execution_count": 10,
   "id": "776f7fc7",
   "metadata": {
    "execution": {
     "iopub.execute_input": "2022-07-31T10:10:04.230826Z",
     "iopub.status.busy": "2022-07-31T10:10:04.230188Z",
     "iopub.status.idle": "2022-07-31T10:10:04.249947Z",
     "shell.execute_reply": "2022-07-31T10:10:04.249422Z"
    },
    "papermill": {
     "duration": 0.051442,
     "end_time": "2022-07-31T10:10:04.250071",
     "exception": false,
     "start_time": "2022-07-31T10:10:04.198629",
     "status": "completed"
    },
    "tags": []
   },
   "outputs": [],
   "source": [
    "train_filter = np.where((train_labels == 3 ) | (train_labels == 8))\n",
    "test_filter = np.where((test_labels == 3) | (test_labels == 8))\n",
    "X_train, y_train = train_images[train_filter], train_labels[train_filter]\n",
    "X_test, y_test = test_images[test_filter], test_labels[test_filter]"
   ]
  },
  {
   "cell_type": "markdown",
   "id": "948f0b7e",
   "metadata": {
    "papermill": {
     "duration": 0.026628,
     "end_time": "2022-07-31T10:10:04.303556",
     "exception": false,
     "start_time": "2022-07-31T10:10:04.276928",
     "status": "completed"
    },
    "tags": []
   },
   "source": [
    "We normalize the pizel values in the 0 to 1 range"
   ]
  },
  {
   "cell_type": "code",
   "execution_count": 11,
   "id": "ee4c2166",
   "metadata": {
    "execution": {
     "iopub.execute_input": "2022-07-31T10:10:04.363191Z",
     "iopub.status.busy": "2022-07-31T10:10:04.362586Z",
     "iopub.status.idle": "2022-07-31T10:10:04.412485Z",
     "shell.execute_reply": "2022-07-31T10:10:04.411924Z"
    },
    "papermill": {
     "duration": 0.082444,
     "end_time": "2022-07-31T10:10:04.412627",
     "exception": false,
     "start_time": "2022-07-31T10:10:04.330183",
     "status": "completed"
    },
    "tags": []
   },
   "outputs": [],
   "source": [
    "X_train = X_train/255.\n",
    "X_test = X_test/255."
   ]
  },
  {
   "cell_type": "markdown",
   "id": "ddcf4fab",
   "metadata": {
    "papermill": {
     "duration": 0.026745,
     "end_time": "2022-07-31T10:10:04.466929",
     "exception": false,
     "start_time": "2022-07-31T10:10:04.440184",
     "status": "completed"
    },
    "tags": []
   },
   "source": [
    "And setup the labels as 1 (when the digit is 3) and 0 (when the digit is 8)"
   ]
  },
  {
   "cell_type": "code",
   "execution_count": 12,
   "id": "7dc908f2",
   "metadata": {
    "execution": {
     "iopub.execute_input": "2022-07-31T10:10:04.524397Z",
     "iopub.status.busy": "2022-07-31T10:10:04.523796Z",
     "iopub.status.idle": "2022-07-31T10:10:04.537382Z",
     "shell.execute_reply": "2022-07-31T10:10:04.536884Z"
    },
    "papermill": {
     "duration": 0.044039,
     "end_time": "2022-07-31T10:10:04.537501",
     "exception": false,
     "start_time": "2022-07-31T10:10:04.493462",
     "status": "completed"
    },
    "tags": []
   },
   "outputs": [],
   "source": [
    "y_train = 1*(y_train==3)\n",
    "y_test = 1*(y_test==3)"
   ]
  },
  {
   "cell_type": "code",
   "execution_count": 13,
   "id": "01e4e969",
   "metadata": {
    "execution": {
     "iopub.execute_input": "2022-07-31T10:10:04.595300Z",
     "iopub.status.busy": "2022-07-31T10:10:04.594712Z",
     "iopub.status.idle": "2022-07-31T10:10:04.609505Z",
     "shell.execute_reply": "2022-07-31T10:10:04.608928Z"
    },
    "papermill": {
     "duration": 0.045252,
     "end_time": "2022-07-31T10:10:04.609620",
     "exception": false,
     "start_time": "2022-07-31T10:10:04.564368",
     "status": "completed"
    },
    "tags": []
   },
   "outputs": [
    {
     "data": {
      "text/plain": [
       "((11982, 28, 28), (1984, 28, 28))"
      ]
     },
     "execution_count": 13,
     "metadata": {},
     "output_type": "execute_result"
    }
   ],
   "source": [
    "X_train.shape, X_test.shape"
   ]
  },
  {
   "cell_type": "markdown",
   "id": "5ccf3f85",
   "metadata": {
    "papermill": {
     "duration": 0.026718,
     "end_time": "2022-07-31T10:10:04.663120",
     "exception": false,
     "start_time": "2022-07-31T10:10:04.636402",
     "status": "completed"
    },
    "tags": []
   },
   "source": [
    "We reshape the data to flatten the image pixels into a set of features or co-variates:"
   ]
  },
  {
   "cell_type": "code",
   "execution_count": 14,
   "id": "5286a4a3",
   "metadata": {
    "execution": {
     "iopub.execute_input": "2022-07-31T10:10:04.722866Z",
     "iopub.status.busy": "2022-07-31T10:10:04.722139Z",
     "iopub.status.idle": "2022-07-31T10:10:04.736807Z",
     "shell.execute_reply": "2022-07-31T10:10:04.737258Z"
    },
    "papermill": {
     "duration": 0.046911,
     "end_time": "2022-07-31T10:10:04.737397",
     "exception": false,
     "start_time": "2022-07-31T10:10:04.690486",
     "status": "completed"
    },
    "tags": []
   },
   "outputs": [
    {
     "data": {
      "text/plain": [
       "((11982, 784), (1984, 784))"
      ]
     },
     "execution_count": 14,
     "metadata": {},
     "output_type": "execute_result"
    }
   ],
   "source": [
    "X_train = X_train.reshape(X_train.shape[0], -1)\n",
    "X_test = X_test.reshape(X_test.shape[0], -1)\n",
    "X_train.shape, X_test.shape"
   ]
  },
  {
   "cell_type": "code",
   "execution_count": 15,
   "id": "73c5f88a",
   "metadata": {
    "execution": {
     "iopub.execute_input": "2022-07-31T10:10:04.798144Z",
     "iopub.status.busy": "2022-07-31T10:10:04.797510Z",
     "iopub.status.idle": "2022-07-31T10:10:04.816733Z",
     "shell.execute_reply": "2022-07-31T10:10:04.817227Z"
    },
    "papermill": {
     "duration": 0.052209,
     "end_time": "2022-07-31T10:10:04.817382",
     "exception": false,
     "start_time": "2022-07-31T10:10:04.765173",
     "status": "completed"
    },
    "tags": []
   },
   "outputs": [],
   "source": [
    "#Impoting functions from 'Kudzu'\n",
    "from kudzu.model import Model\n",
    "from kudzu.train import Learner\n",
    "from kudzu.optim import GD\n",
    "from kudzu.data import Data, Sampler,Dataloader\n",
    "\n",
    "from kudzu.callbacks import AccCallback\n",
    "from kudzu.callbacks import ClfCallback\n",
    "\n",
    "from kudzu.loss import MSE\n",
    "\n",
    "from kudzu.layer import Sigmoid,Relu\n",
    "from kudzu.layer import Affine"
   ]
  },
  {
   "cell_type": "markdown",
   "id": "bc01172a",
   "metadata": {
    "papermill": {
     "duration": 0.027246,
     "end_time": "2022-07-31T10:10:04.872042",
     "exception": false,
     "start_time": "2022-07-31T10:10:04.844796",
     "status": "completed"
    },
    "tags": []
   },
   "source": [
    "### Let us create a `Config` class, to store important parameters. \n",
    "This class essentially plays the role of a dictionary."
   ]
  },
  {
   "cell_type": "code",
   "execution_count": 16,
   "id": "978281aa",
   "metadata": {
    "execution": {
     "iopub.execute_input": "2022-07-31T10:10:04.931075Z",
     "iopub.status.busy": "2022-07-31T10:10:04.930468Z",
     "iopub.status.idle": "2022-07-31T10:10:04.943380Z",
     "shell.execute_reply": "2022-07-31T10:10:04.942788Z"
    },
    "papermill": {
     "duration": 0.044428,
     "end_time": "2022-07-31T10:10:04.943499",
     "exception": false,
     "start_time": "2022-07-31T10:10:04.899071",
     "status": "completed"
    },
    "tags": []
   },
   "outputs": [],
   "source": [
    "class Config:\n",
    "    pass\n",
    "config = Config()\n",
    "config.lr = 0.001\n",
    "config.num_epochs = 250\n",
    "config.bs = 50"
   ]
  },
  {
   "cell_type": "markdown",
   "id": "1385fa59",
   "metadata": {
    "papermill": {
     "duration": 0.027223,
     "end_time": "2022-07-31T10:10:04.997892",
     "exception": false,
     "start_time": "2022-07-31T10:10:04.970669",
     "status": "completed"
    },
    "tags": []
   },
   "source": [
    "### Running Models with the Training data\n",
    "Details about the network layers:\n",
    "- A first affine layer has 784 inputs and does 100 affine transforms. These are followed by a Relu\n",
    "- A second affine layer has 100 inputs from the 100 activations of the past layer, and does 100 affine transforms. These are followed by a Relu\n",
    "- A third affine layer has 100 activations and does 2 affine transformations to create an embedding for visualization. There is no non-linearity here.\n",
    "- A final \"logistic regression\" which has an affine transform from 2 inputs to 1 output, which is squeezed through a sigmoid.\n"
   ]
  },
  {
   "cell_type": "code",
   "execution_count": 17,
   "id": "2b9c66db",
   "metadata": {
    "execution": {
     "iopub.execute_input": "2022-07-31T10:10:05.061641Z",
     "iopub.status.busy": "2022-07-31T10:10:05.061030Z",
     "iopub.status.idle": "2022-07-31T10:10:05.072113Z",
     "shell.execute_reply": "2022-07-31T10:10:05.071627Z"
    },
    "papermill": {
     "duration": 0.04725,
     "end_time": "2022-07-31T10:10:05.072229",
     "exception": false,
     "start_time": "2022-07-31T10:10:05.024979",
     "status": "completed"
    },
    "tags": []
   },
   "outputs": [],
   "source": [
    "data = Data(X_train, y_train.reshape(-1,1))\n",
    "sampler = Sampler(data, config.bs, shuffle=True)\n",
    "\n",
    "dl = Dataloader(data, sampler)\n",
    "\n",
    "opt = GD(config.lr)\n",
    "loss = MSE()"
   ]
  },
  {
   "cell_type": "code",
   "execution_count": 18,
   "id": "b275e4c2",
   "metadata": {
    "execution": {
     "iopub.execute_input": "2022-07-31T10:10:05.130914Z",
     "iopub.status.busy": "2022-07-31T10:10:05.130305Z",
     "iopub.status.idle": "2022-07-31T10:10:05.143505Z",
     "shell.execute_reply": "2022-07-31T10:10:05.143020Z"
    },
    "papermill": {
     "duration": 0.044202,
     "end_time": "2022-07-31T10:10:05.143627",
     "exception": false,
     "start_time": "2022-07-31T10:10:05.099425",
     "status": "completed"
    },
    "tags": []
   },
   "outputs": [],
   "source": [
    "training_data_x = X_train\n",
    "testing_data_x = X_test\n",
    "training_data_y = y_train.reshape(-1,1)\n",
    "testing_data_y = y_test.reshape(-1,1)"
   ]
  },
  {
   "cell_type": "code",
   "execution_count": 19,
   "id": "76951160",
   "metadata": {
    "execution": {
     "iopub.execute_input": "2022-07-31T10:10:05.205016Z",
     "iopub.status.busy": "2022-07-31T10:10:05.204409Z",
     "iopub.status.idle": "2022-07-31T10:10:05.221073Z",
     "shell.execute_reply": "2022-07-31T10:10:05.221555Z"
    },
    "papermill": {
     "duration": 0.050941,
     "end_time": "2022-07-31T10:10:05.221697",
     "exception": false,
     "start_time": "2022-07-31T10:10:05.170756",
     "status": "completed"
    },
    "tags": []
   },
   "outputs": [
    {
     "name": "stdout",
     "output_type": "stream",
     "text": [
      "xavier\n",
      "xavier\n",
      "xavier\n",
      "xavier\n",
      "xavier\n"
     ]
    }
   ],
   "source": [
    "layers = [Affine(\"first\", 784, 100), Relu(\"first\"), Affine(\"second\", 100, 100), Relu(\"second\"), Affine(\"third\", 100, 2), Affine(\"last\", 2, 1), Sigmoid(\"last\")]\n",
    "model_nn = Model(layers)\n",
    "model_lr = Model([Affine(\"logits\", 784, 1), Sigmoid(\"sigmoid\")])"
   ]
  },
  {
   "cell_type": "code",
   "execution_count": 20,
   "id": "6eede77a",
   "metadata": {
    "execution": {
     "iopub.execute_input": "2022-07-31T10:10:05.281309Z",
     "iopub.status.busy": "2022-07-31T10:10:05.280700Z",
     "iopub.status.idle": "2022-07-31T10:10:05.294578Z",
     "shell.execute_reply": "2022-07-31T10:10:05.294077Z"
    },
    "papermill": {
     "duration": 0.045515,
     "end_time": "2022-07-31T10:10:05.294702",
     "exception": false,
     "start_time": "2022-07-31T10:10:05.249187",
     "status": "completed"
    },
    "tags": []
   },
   "outputs": [],
   "source": [
    "nn_learner = Learner(loss, model_nn, opt, config.num_epochs)\n",
    "acc_nn = ClfCallback(nn_learner, config.bs, training_data_x , testing_data_x, training_data_y, testing_data_y)\n",
    "nn_learner.set_callbacks([acc_nn])"
   ]
  },
  {
   "cell_type": "code",
   "execution_count": 21,
   "id": "877b6cc7",
   "metadata": {
    "execution": {
     "iopub.execute_input": "2022-07-31T10:10:05.354415Z",
     "iopub.status.busy": "2022-07-31T10:10:05.353799Z",
     "iopub.status.idle": "2022-07-31T10:10:05.367213Z",
     "shell.execute_reply": "2022-07-31T10:10:05.366717Z"
    },
    "papermill": {
     "duration": 0.045038,
     "end_time": "2022-07-31T10:10:05.367335",
     "exception": false,
     "start_time": "2022-07-31T10:10:05.322297",
     "status": "completed"
    },
    "tags": []
   },
   "outputs": [],
   "source": [
    "lr_learner = Learner(loss, model_lr, opt, config.num_epochs)\n",
    "acc_lr = ClfCallback(lr_learner, config.bs, training_data_x , testing_data_x, training_data_y, testing_data_y)\n",
    "lr_learner.set_callbacks([acc_lr])"
   ]
  },
  {
   "cell_type": "code",
   "execution_count": 22,
   "id": "d9b133c3",
   "metadata": {
    "execution": {
     "iopub.execute_input": "2022-07-31T10:10:05.441300Z",
     "iopub.status.busy": "2022-07-31T10:10:05.437675Z",
     "iopub.status.idle": "2022-07-31T10:11:25.825003Z",
     "shell.execute_reply": "2022-07-31T10:11:25.825948Z"
    },
    "papermill": {
     "duration": 80.43096,
     "end_time": "2022-07-31T10:11:25.826106",
     "exception": false,
     "start_time": "2022-07-31T10:10:05.395146",
     "status": "completed"
    },
    "tags": []
   },
   "outputs": [
    {
     "name": "stdout",
     "output_type": "stream",
     "text": [
      "Epoch 0, Loss 0.2432\n",
      "Training Accuracy: 0.6367, Testing Accuracy: 0.6401\n",
      "\n"
     ]
    },
    {
     "name": "stdout",
     "output_type": "stream",
     "text": [
      "Epoch 10, Loss 0.1325\n",
      "Training Accuracy: 0.9019, Testing Accuracy: 0.9078\n",
      "\n"
     ]
    },
    {
     "name": "stdout",
     "output_type": "stream",
     "text": [
      "Epoch 20, Loss 0.0694\n",
      "Training Accuracy: 0.9327, Testing Accuracy: 0.9466\n",
      "\n"
     ]
    },
    {
     "name": "stdout",
     "output_type": "stream",
     "text": [
      "Epoch 30, Loss 0.0505\n",
      "Training Accuracy: 0.9470, Testing Accuracy: 0.9516\n",
      "\n"
     ]
    },
    {
     "name": "stdout",
     "output_type": "stream",
     "text": [
      "Epoch 40, Loss 0.0422\n",
      "Training Accuracy: 0.9535, Testing Accuracy: 0.9592\n",
      "\n"
     ]
    },
    {
     "name": "stdout",
     "output_type": "stream",
     "text": [
      "Epoch 50, Loss 0.0375\n",
      "Training Accuracy: 0.9578, Testing Accuracy: 0.9642\n",
      "\n"
     ]
    },
    {
     "name": "stdout",
     "output_type": "stream",
     "text": [
      "Epoch 60, Loss 0.0345\n",
      "Training Accuracy: 0.9604, Testing Accuracy: 0.9657\n",
      "\n"
     ]
    },
    {
     "name": "stdout",
     "output_type": "stream",
     "text": [
      "Epoch 70, Loss 0.0324\n",
      "Training Accuracy: 0.9624, Testing Accuracy: 0.9672\n",
      "\n"
     ]
    },
    {
     "name": "stdout",
     "output_type": "stream",
     "text": [
      "Epoch 80, Loss 0.0308\n",
      "Training Accuracy: 0.9645, Testing Accuracy: 0.9682\n",
      "\n"
     ]
    },
    {
     "name": "stdout",
     "output_type": "stream",
     "text": [
      "Epoch 90, Loss 0.0294\n",
      "Training Accuracy: 0.9656, Testing Accuracy: 0.9698\n",
      "\n"
     ]
    },
    {
     "name": "stdout",
     "output_type": "stream",
     "text": [
      "Epoch 100, Loss 0.0283\n",
      "Training Accuracy: 0.9663, Testing Accuracy: 0.9703\n",
      "\n"
     ]
    },
    {
     "name": "stdout",
     "output_type": "stream",
     "text": [
      "Epoch 110, Loss 0.0274\n",
      "Training Accuracy: 0.9673, Testing Accuracy: 0.9698\n",
      "\n"
     ]
    },
    {
     "name": "stdout",
     "output_type": "stream",
     "text": [
      "Epoch 120, Loss 0.0265\n",
      "Training Accuracy: 0.9685, Testing Accuracy: 0.9688\n",
      "\n"
     ]
    },
    {
     "name": "stdout",
     "output_type": "stream",
     "text": [
      "Epoch 130, Loss 0.0258\n",
      "Training Accuracy: 0.9695, Testing Accuracy: 0.9698\n",
      "\n"
     ]
    },
    {
     "name": "stdout",
     "output_type": "stream",
     "text": [
      "Epoch 140, Loss 0.0251\n",
      "Training Accuracy: 0.9704, Testing Accuracy: 0.9723\n",
      "\n"
     ]
    },
    {
     "name": "stdout",
     "output_type": "stream",
     "text": [
      "Epoch 150, Loss 0.0245\n",
      "Training Accuracy: 0.9707, Testing Accuracy: 0.9733\n",
      "\n"
     ]
    },
    {
     "name": "stdout",
     "output_type": "stream",
     "text": [
      "Epoch 160, Loss 0.0239\n",
      "Training Accuracy: 0.9712, Testing Accuracy: 0.9728\n",
      "\n"
     ]
    },
    {
     "name": "stdout",
     "output_type": "stream",
     "text": [
      "Epoch 170, Loss 0.0234\n",
      "Training Accuracy: 0.9714, Testing Accuracy: 0.9738\n",
      "\n"
     ]
    },
    {
     "name": "stdout",
     "output_type": "stream",
     "text": [
      "Epoch 180, Loss 0.0229\n",
      "Training Accuracy: 0.9723, Testing Accuracy: 0.9728\n",
      "\n"
     ]
    },
    {
     "name": "stdout",
     "output_type": "stream",
     "text": [
      "Epoch 190, Loss 0.0224\n",
      "Training Accuracy: 0.9728, Testing Accuracy: 0.9733\n",
      "\n"
     ]
    },
    {
     "name": "stdout",
     "output_type": "stream",
     "text": [
      "Epoch 200, Loss 0.0219\n",
      "Training Accuracy: 0.9740, Testing Accuracy: 0.9738\n",
      "\n"
     ]
    },
    {
     "name": "stdout",
     "output_type": "stream",
     "text": [
      "Epoch 210, Loss 0.0215\n",
      "Training Accuracy: 0.9744, Testing Accuracy: 0.9733\n",
      "\n"
     ]
    },
    {
     "name": "stdout",
     "output_type": "stream",
     "text": [
      "Epoch 220, Loss 0.0211\n",
      "Training Accuracy: 0.9749, Testing Accuracy: 0.9733\n",
      "\n"
     ]
    },
    {
     "name": "stdout",
     "output_type": "stream",
     "text": [
      "Epoch 230, Loss 0.0207\n",
      "Training Accuracy: 0.9752, Testing Accuracy: 0.9738\n",
      "\n"
     ]
    },
    {
     "name": "stdout",
     "output_type": "stream",
     "text": [
      "Epoch 240, Loss 0.0204\n",
      "Training Accuracy: 0.9760, Testing Accuracy: 0.9748\n",
      "\n"
     ]
    },
    {
     "data": {
      "text/plain": [
       "0.042330515141529565"
      ]
     },
     "execution_count": 22,
     "metadata": {},
     "output_type": "execute_result"
    }
   ],
   "source": [
    "nn_learner.train_loop(dl)"
   ]
  },
  {
   "cell_type": "code",
   "execution_count": 23,
   "id": "e0163366",
   "metadata": {
    "execution": {
     "iopub.execute_input": "2022-07-31T10:11:25.907194Z",
     "iopub.status.busy": "2022-07-31T10:11:25.906559Z",
     "iopub.status.idle": "2022-07-31T10:11:40.541775Z",
     "shell.execute_reply": "2022-07-31T10:11:40.542617Z"
    },
    "papermill": {
     "duration": 14.681773,
     "end_time": "2022-07-31T10:11:40.542769",
     "exception": false,
     "start_time": "2022-07-31T10:11:25.860996",
     "status": "completed"
    },
    "tags": []
   },
   "outputs": [
    {
     "name": "stdout",
     "output_type": "stream",
     "text": [
      "Epoch 0, Loss 0.2373\n",
      "Training Accuracy: 0.6865, Testing Accuracy: 0.6820\n",
      "\n"
     ]
    },
    {
     "name": "stdout",
     "output_type": "stream",
     "text": [
      "Epoch 10, Loss 0.1053\n",
      "Training Accuracy: 0.9003, Testing Accuracy: 0.9098\n",
      "\n"
     ]
    },
    {
     "name": "stdout",
     "output_type": "stream",
     "text": [
      "Epoch 20, Loss 0.0806\n",
      "Training Accuracy: 0.9238, Testing Accuracy: 0.9320\n",
      "\n"
     ]
    },
    {
     "name": "stdout",
     "output_type": "stream",
     "text": [
      "Epoch 30, Loss 0.0691\n",
      "Training Accuracy: 0.9354, Testing Accuracy: 0.9441\n",
      "\n"
     ]
    },
    {
     "name": "stdout",
     "output_type": "stream",
     "text": [
      "Epoch 40, Loss 0.0622\n",
      "Training Accuracy: 0.9408, Testing Accuracy: 0.9471\n",
      "\n"
     ]
    },
    {
     "name": "stdout",
     "output_type": "stream",
     "text": [
      "Epoch 50, Loss 0.0576\n",
      "Training Accuracy: 0.9441, Testing Accuracy: 0.9506\n",
      "\n"
     ]
    },
    {
     "name": "stdout",
     "output_type": "stream",
     "text": [
      "Epoch 60, Loss 0.0542\n",
      "Training Accuracy: 0.9468, Testing Accuracy: 0.9526\n",
      "\n"
     ]
    },
    {
     "name": "stdout",
     "output_type": "stream",
     "text": [
      "Epoch 70, Loss 0.0515\n",
      "Training Accuracy: 0.9484, Testing Accuracy: 0.9551\n",
      "\n"
     ]
    },
    {
     "name": "stdout",
     "output_type": "stream",
     "text": [
      "Epoch 80, Loss 0.0494\n",
      "Training Accuracy: 0.9499, Testing Accuracy: 0.9582\n",
      "\n"
     ]
    },
    {
     "name": "stdout",
     "output_type": "stream",
     "text": [
      "Epoch 90, Loss 0.0477\n",
      "Training Accuracy: 0.9513, Testing Accuracy: 0.9582\n",
      "\n"
     ]
    },
    {
     "name": "stdout",
     "output_type": "stream",
     "text": [
      "Epoch 100, Loss 0.0463\n",
      "Training Accuracy: 0.9525, Testing Accuracy: 0.9617\n",
      "\n"
     ]
    },
    {
     "name": "stdout",
     "output_type": "stream",
     "text": [
      "Epoch 110, Loss 0.045\n",
      "Training Accuracy: 0.9533, Testing Accuracy: 0.9617\n",
      "\n"
     ]
    },
    {
     "name": "stdout",
     "output_type": "stream",
     "text": [
      "Epoch 120, Loss 0.044\n",
      "Training Accuracy: 0.9548, Testing Accuracy: 0.9617\n",
      "\n"
     ]
    },
    {
     "name": "stdout",
     "output_type": "stream",
     "text": [
      "Epoch 130, Loss 0.043\n",
      "Training Accuracy: 0.9552, Testing Accuracy: 0.9617\n",
      "\n"
     ]
    },
    {
     "name": "stdout",
     "output_type": "stream",
     "text": [
      "Epoch 140, Loss 0.0422\n",
      "Training Accuracy: 0.9558, Testing Accuracy: 0.9627\n",
      "\n"
     ]
    },
    {
     "name": "stdout",
     "output_type": "stream",
     "text": [
      "Epoch 150, Loss 0.0414\n",
      "Training Accuracy: 0.9564, Testing Accuracy: 0.9632\n",
      "\n"
     ]
    },
    {
     "name": "stdout",
     "output_type": "stream",
     "text": [
      "Epoch 160, Loss 0.0407\n",
      "Training Accuracy: 0.9572, Testing Accuracy: 0.9642\n",
      "\n"
     ]
    },
    {
     "name": "stdout",
     "output_type": "stream",
     "text": [
      "Epoch 170, Loss 0.0401\n",
      "Training Accuracy: 0.9574, Testing Accuracy: 0.9647\n",
      "\n"
     ]
    },
    {
     "name": "stdout",
     "output_type": "stream",
     "text": [
      "Epoch 180, Loss 0.0395\n",
      "Training Accuracy: 0.9579, Testing Accuracy: 0.9647\n",
      "\n"
     ]
    },
    {
     "name": "stdout",
     "output_type": "stream",
     "text": [
      "Epoch 190, Loss 0.039\n",
      "Training Accuracy: 0.9584, Testing Accuracy: 0.9657\n",
      "\n"
     ]
    },
    {
     "name": "stdout",
     "output_type": "stream",
     "text": [
      "Epoch 200, Loss 0.0385\n",
      "Training Accuracy: 0.9588, Testing Accuracy: 0.9662\n",
      "\n"
     ]
    },
    {
     "name": "stdout",
     "output_type": "stream",
     "text": [
      "Epoch 210, Loss 0.0381\n",
      "Training Accuracy: 0.9593, Testing Accuracy: 0.9667\n",
      "\n"
     ]
    },
    {
     "name": "stdout",
     "output_type": "stream",
     "text": [
      "Epoch 220, Loss 0.0377\n",
      "Training Accuracy: 0.9598, Testing Accuracy: 0.9672\n",
      "\n"
     ]
    },
    {
     "name": "stdout",
     "output_type": "stream",
     "text": [
      "Epoch 230, Loss 0.0373\n",
      "Training Accuracy: 0.9600, Testing Accuracy: 0.9677\n",
      "\n"
     ]
    },
    {
     "name": "stdout",
     "output_type": "stream",
     "text": [
      "Epoch 240, Loss 0.0369\n",
      "Training Accuracy: 0.9603, Testing Accuracy: 0.9677\n",
      "\n"
     ]
    },
    {
     "data": {
      "text/plain": [
       "0.027924884354063734"
      ]
     },
     "execution_count": 23,
     "metadata": {},
     "output_type": "execute_result"
    }
   ],
   "source": [
    "lr_learner.train_loop(dl)"
   ]
  },
  {
   "cell_type": "code",
   "execution_count": 24,
   "id": "ca410940",
   "metadata": {
    "execution": {
     "iopub.execute_input": "2022-07-31T10:11:40.639396Z",
     "iopub.status.busy": "2022-07-31T10:11:40.638769Z",
     "iopub.status.idle": "2022-07-31T10:11:40.868185Z",
     "shell.execute_reply": "2022-07-31T10:11:40.867676Z"
    },
    "papermill": {
     "duration": 0.283424,
     "end_time": "2022-07-31T10:11:40.868308",
     "exception": false,
     "start_time": "2022-07-31T10:11:40.584884",
     "status": "completed"
    },
    "tags": []
   },
   "outputs": [
    {
     "data": {
      "text/plain": [
       "<matplotlib.legend.Legend at 0x7fba84d91ac8>"
      ]
     },
     "execution_count": 24,
     "metadata": {},
     "output_type": "execute_result"
    },
    {
     "data": {
      "image/png": "[encoded data removed]",
      "text/plain": [
       "<Figure size 1080x720 with 1 Axes>"
      ]
     },
     "metadata": {
      "needs_background": "light"
     },
     "output_type": "display_data"
    }
   ],
   "source": [
    "#comparing the results of NN and LR\n",
    "plt.figure(figsize=(15,10))\n",
    "\n",
    "# Neural Network plots\n",
    "plt.plot(acc_nn.accuracies, 'r-', label = \"Training Accuracies - NN\")\n",
    "plt.plot(acc_nn.test_accuracies, 'g-', label = \"Testing Accuracies - NN\")\n",
    "\n",
    "# Logistic Regression plots\n",
    "plt.plot(acc_lr.accuracies, 'k-', label = \"Training Accuracies - LR\")\n",
    "plt.plot(acc_lr.test_accuracies, 'b-', label = \"Testing Accuracies - LR\")\n",
    "plt.legend()"
   ]
  },
  {
   "cell_type": "markdown",
   "id": "80dfb35c",
   "metadata": {
    "papermill": {
     "duration": 0.042235,
     "end_time": "2022-07-31T10:11:40.954114",
     "exception": false,
     "start_time": "2022-07-31T10:11:40.911879",
     "status": "completed"
    },
    "tags": []
   },
   "source": [
    "#### Plotting the outputs of this layer of the NN.\n"
   ]
  },
  {
   "cell_type": "code",
   "execution_count": 25,
   "id": "45eb2ff5",
   "metadata": {
    "execution": {
     "iopub.execute_input": "2022-07-31T10:11:41.043233Z",
     "iopub.status.busy": "2022-07-31T10:11:41.042619Z",
     "iopub.status.idle": "2022-07-31T10:11:41.064785Z",
     "shell.execute_reply": "2022-07-31T10:11:41.065282Z"
    },
    "papermill": {
     "duration": 0.069299,
     "end_time": "2022-07-31T10:11:41.065428",
     "exception": false,
     "start_time": "2022-07-31T10:11:40.996129",
     "status": "completed"
    },
    "tags": []
   },
   "outputs": [],
   "source": [
    "new_model = Model(layers[:-2])\n",
    "testing_plot = new_model(testing_data_x)"
   ]
  },
  {
   "cell_type": "code",
   "execution_count": 26,
   "id": "4c0a5485",
   "metadata": {
    "execution": {
     "iopub.execute_input": "2022-07-31T10:11:41.169594Z",
     "iopub.status.busy": "2022-07-31T10:11:41.168903Z",
     "iopub.status.idle": "2022-07-31T10:11:41.371797Z",
     "shell.execute_reply": "2022-07-31T10:11:41.371298Z"
    },
    "papermill": {
     "duration": 0.263895,
     "end_time": "2022-07-31T10:11:41.371918",
     "exception": false,
     "start_time": "2022-07-31T10:11:41.108023",
     "status": "completed"
    },
    "tags": []
   },
   "outputs": [
    {
     "data": {
      "text/plain": [
       "Text(0.5, 1.0, 'Outputs')"
      ]
     },
     "execution_count": 26,
     "metadata": {},
     "output_type": "execute_result"
    },
    {
     "data": {
      "image/png": "[encoded data removed]",
      "text/plain": [
       "<Figure size 576x504 with 1 Axes>"
      ]
     },
     "metadata": {
      "needs_background": "light"
     },
     "output_type": "display_data"
    }
   ],
   "source": [
    "# Plotting the scatter plot of points and color coding by class\n",
    "plt.figure(figsize=(8,7))\n",
    "plt.scatter(testing_plot[:,0], testing_plot[:,1], alpha = 0.1, c = y_test.ravel());\n",
    "plt.title('Outputs')"
   ]
  },
  {
   "cell_type": "markdown",
   "id": "a74fcf8f",
   "metadata": {
    "papermill": {
     "duration": 0.044006,
     "end_time": "2022-07-31T10:11:41.460550",
     "exception": false,
     "start_time": "2022-07-31T10:11:41.416544",
     "status": "completed"
    },
    "tags": []
   },
   "source": [
    "Probability contours"
   ]
  },
  {
   "cell_type": "code",
   "execution_count": 27,
   "id": "d0afc8e3",
   "metadata": {
    "execution": {
     "iopub.execute_input": "2022-07-31T10:11:41.598892Z",
     "iopub.status.busy": "2022-07-31T10:11:41.597440Z",
     "iopub.status.idle": "2022-07-31T10:11:41.603927Z",
     "shell.execute_reply": "2022-07-31T10:11:41.604392Z"
    },
    "papermill": {
     "duration": 0.09969,
     "end_time": "2022-07-31T10:11:41.604539",
     "exception": false,
     "start_time": "2022-07-31T10:11:41.504849",
     "status": "completed"
    },
    "tags": []
   },
   "outputs": [],
   "source": [
    "model_prob = Model(layers[-2:]) "
   ]
  },
  {
   "cell_type": "code",
   "execution_count": 28,
   "id": "9b96e238",
   "metadata": {
    "execution": {
     "iopub.execute_input": "2022-07-31T10:11:41.699125Z",
     "iopub.status.busy": "2022-07-31T10:11:41.698066Z",
     "iopub.status.idle": "2022-07-31T10:11:41.712995Z",
     "shell.execute_reply": "2022-07-31T10:11:41.712518Z"
    },
    "papermill": {
     "duration": 0.064367,
     "end_time": "2022-07-31T10:11:41.713113",
     "exception": false,
     "start_time": "2022-07-31T10:11:41.648746",
     "status": "completed"
    },
    "tags": []
   },
   "outputs": [],
   "source": [
    "#creating the x and y ranges according to the above generated plot.\n",
    "x_range = np.linspace(-4, 1, 100) \n",
    "y_range = np.linspace(-6, 6, 100) \n",
    "x_grid, y_grid = np.meshgrid(x_range, y_range) # x_grid and y_grig are of size 100 X 100\n",
    "\n",
    "# converting x_grid and y_grid to continuous arrays\n",
    "x_gridflat = np.ravel(x_grid)\n",
    "y_gridflat = np.ravel(y_grid)\n",
    "\n",
    "# The last layer of the current model takes two columns as input. Hence transpose of np.vstack() is required.\n",
    "X = np.vstack((x_gridflat, y_gridflat)).T\n",
    "\n",
    "prob_contour = model_prob(X).reshape(100,100) "
   ]
  },
  {
   "cell_type": "code",
   "execution_count": 29,
   "id": "da72499a",
   "metadata": {
    "execution": {
     "iopub.execute_input": "2022-07-31T10:11:41.818684Z",
     "iopub.status.busy": "2022-07-31T10:11:41.816823Z",
     "iopub.status.idle": "2022-07-31T10:11:42.064817Z",
     "shell.execute_reply": "2022-07-31T10:11:42.065273Z"
    },
    "papermill": {
     "duration": 0.30137,
     "end_time": "2022-07-31T10:11:42.065418",
     "exception": false,
     "start_time": "2022-07-31T10:11:41.764048",
     "status": "completed"
    },
    "tags": []
   },
   "outputs": [
    {
     "data": {
      "image/png": "[encoded data removed]",
      "text/plain": [
       "<Figure size 720x648 with 1 Axes>"
      ]
     },
     "metadata": {
      "needs_background": "light"
     },
     "output_type": "display_data"
    }
   ],
   "source": [
    "plt.figure(figsize=(10,9))\n",
    "plt.scatter(testing_plot[:,0], testing_plot[:,1], alpha = 0.1, c = y_test.ravel())\n",
    "contours = plt.contour(x_grid,y_grid,prob_contour)\n",
    "plt.title('Probability Contours')\n",
    "plt.clabel(contours, inline = True );"
   ]
  },
  {
   "cell_type": "code",
   "execution_count": null,
   "id": "e81b4ac7",
   "metadata": {
    "papermill": {
     "duration": 0.046767,
     "end_time": "2022-07-31T10:11:42.159389",
     "exception": false,
     "start_time": "2022-07-31T10:11:42.112622",
     "status": "completed"
    },
    "tags": []
   },
   "outputs": [],
   "source": []
  }
 ],
 "metadata": {
  "kernelspec": {
   "display_name": "Python 3",
   "language": "python",
   "name": "python3"
  },
  "language_info": {
   "codemirror_mode": {
    "name": "ipython",
    "version": 3
   },
   "file_extension": ".py",
   "mimetype": "text/x-python",
   "name": "python",
   "nbconvert_exporter": "python",
   "pygments_lexer": "ipython3",
   "version": "3.6.15"
  },
  "papermill": {
   "default_parameters": {},
   "duration": 104.279216,
   "end_time": "2022-07-31T10:11:42.625995",
   "environment_variables": {},
   "exception": null,
   "input_path": "2020-08-11-part2.ipynb",
   "output_path": "2020-08-11-part2.ipynb",
   "parameters": {},
   "start_time": "2022-07-31T10:09:58.346779",
   "version": "2.3.3"
  }
 },
 "nbformat": 4,
 "nbformat_minor": 5
}