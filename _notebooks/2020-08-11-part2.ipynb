{
 "cells": [
  {
   "cell_type": "markdown",
   "id": "98380cd3",
   "metadata": {
    "papermill": {
     "duration": 0.030214,
     "end_time": "2022-02-28T00:31:06.165175",
     "exception": false,
     "start_time": "2022-02-28T00:31:06.134961",
     "status": "completed"
    },
    "tags": []
   },
   "source": [
    "# Distinguish Your Own Digits (DYOD)"
   ]
  },
  {
   "cell_type": "markdown",
   "id": "ef31240d",
   "metadata": {
    "papermill": {
     "duration": 0.022563,
     "end_time": "2022-02-28T00:31:06.211451",
     "exception": false,
     "start_time": "2022-02-28T00:31:06.188888",
     "status": "completed"
    },
    "tags": []
   },
   "source": [
    "You are going to write a classifier that distinguishes between the number 3 and number 8."
   ]
  },
  {
   "cell_type": "code",
   "execution_count": 1,
   "id": "b15c8646",
   "metadata": {
    "execution": {
     "iopub.execute_input": "2022-02-28T00:31:06.272356Z",
     "iopub.status.busy": "2022-02-28T00:31:06.271727Z",
     "iopub.status.idle": "2022-02-28T00:31:06.281176Z",
     "shell.execute_reply": "2022-02-28T00:31:06.281635Z"
    },
    "papermill": {
     "duration": 0.048029,
     "end_time": "2022-02-28T00:31:06.281802",
     "exception": false,
     "start_time": "2022-02-28T00:31:06.233773",
     "status": "completed"
    },
    "tags": []
   },
   "outputs": [],
   "source": [
    "%load_ext autoreload\n",
    "%autoreload 2"
   ]
  },
  {
   "cell_type": "code",
   "execution_count": 2,
   "id": "22ef38dc",
   "metadata": {
    "execution": {
     "iopub.execute_input": "2022-02-28T00:31:06.333445Z",
     "iopub.status.busy": "2022-02-28T00:31:06.332818Z",
     "iopub.status.idle": "2022-02-28T00:31:06.941151Z",
     "shell.execute_reply": "2022-02-28T00:31:06.940201Z"
    },
    "papermill": {
     "duration": 0.636606,
     "end_time": "2022-02-28T00:31:06.941384",
     "exception": false,
     "start_time": "2022-02-28T00:31:06.304778",
     "status": "completed"
    },
    "tags": []
   },
   "outputs": [],
   "source": [
    "%matplotlib inline\n",
    "import numpy as np\n",
    "import matplotlib.pyplot as plt\n",
    "import pandas as pd"
   ]
  },
  {
   "cell_type": "markdown",
   "id": "ba036198",
   "metadata": {
    "papermill": {
     "duration": 0.025598,
     "end_time": "2022-02-28T00:31:06.992032",
     "exception": false,
     "start_time": "2022-02-28T00:31:06.966434",
     "status": "completed"
    },
    "tags": []
   },
   "source": [
    "From the command line run `pip install mnist`. This is a library that will help you bring down the mnist dataset. If you run this from a notebook, you need to put  `!pip install mnist` in a cell by itself."
   ]
  },
  {
   "cell_type": "code",
   "execution_count": 3,
   "id": "bb6ad8a1",
   "metadata": {
    "execution": {
     "iopub.execute_input": "2022-02-28T00:31:07.047099Z",
     "iopub.status.busy": "2022-02-28T00:31:07.046583Z",
     "iopub.status.idle": "2022-02-28T00:31:09.558470Z",
     "shell.execute_reply": "2022-02-28T00:31:09.559300Z"
    },
    "papermill": {
     "duration": 2.541469,
     "end_time": "2022-02-28T00:31:09.559560",
     "exception": false,
     "start_time": "2022-02-28T00:31:07.018091",
     "status": "completed"
    },
    "tags": []
   },
   "outputs": [
    {
     "name": "stdout",
     "output_type": "stream",
     "text": [
      "Collecting mnist\r\n"
     ]
    },
    {
     "name": "stdout",
     "output_type": "stream",
     "text": [
      "  Downloading mnist-0.2.2-py2.py3-none-any.whl (3.5 kB)\r\n",
      "Requirement already satisfied: numpy in /opt/hostedtoolcache/Python/3.6.15/x64/lib/python3.6/site-packages (from mnist) (1.19.5)\r\n"
     ]
    },
    {
     "name": "stdout",
     "output_type": "stream",
     "text": [
      "Installing collected packages: mnist\r\n",
      "Successfully installed mnist-0.2.2\r\n"
     ]
    }
   ],
   "source": [
    "!pip install mnist"
   ]
  },
  {
   "cell_type": "markdown",
   "id": "69df9c9a",
   "metadata": {
    "papermill": {
     "duration": 0.023378,
     "end_time": "2022-02-28T00:31:09.609215",
     "exception": false,
     "start_time": "2022-02-28T00:31:09.585837",
     "status": "completed"
    },
    "tags": []
   },
   "source": [
    "## Preparing the Data"
   ]
  },
  {
   "cell_type": "code",
   "execution_count": 4,
   "id": "7f69d806",
   "metadata": {
    "execution": {
     "iopub.execute_input": "2022-02-28T00:31:09.662622Z",
     "iopub.status.busy": "2022-02-28T00:31:09.662081Z",
     "iopub.status.idle": "2022-02-28T00:31:09.678125Z",
     "shell.execute_reply": "2022-02-28T00:31:09.677178Z"
    },
    "papermill": {
     "duration": 0.043785,
     "end_time": "2022-02-28T00:31:09.678265",
     "exception": false,
     "start_time": "2022-02-28T00:31:09.634480",
     "status": "completed"
    },
    "tags": []
   },
   "outputs": [],
   "source": [
    "import mnist"
   ]
  },
  {
   "cell_type": "code",
   "execution_count": 5,
   "id": "a411e44f",
   "metadata": {
    "execution": {
     "iopub.execute_input": "2022-02-28T00:31:09.734514Z",
     "iopub.status.busy": "2022-02-28T00:31:09.730016Z",
     "iopub.status.idle": "2022-02-28T00:31:10.341648Z",
     "shell.execute_reply": "2022-02-28T00:31:10.340718Z"
    },
    "papermill": {
     "duration": 0.640241,
     "end_time": "2022-02-28T00:31:10.341791",
     "exception": false,
     "start_time": "2022-02-28T00:31:09.701550",
     "status": "completed"
    },
    "tags": []
   },
   "outputs": [],
   "source": [
    "train_images = mnist.train_images()\n",
    "train_labels = mnist.train_labels()"
   ]
  },
  {
   "cell_type": "code",
   "execution_count": 6,
   "id": "dceab3a5",
   "metadata": {
    "execution": {
     "iopub.execute_input": "2022-02-28T00:31:10.393001Z",
     "iopub.status.busy": "2022-02-28T00:31:10.392425Z",
     "iopub.status.idle": "2022-02-28T00:31:10.407207Z",
     "shell.execute_reply": "2022-02-28T00:31:10.406748Z"
    },
    "papermill": {
     "duration": 0.040964,
     "end_time": "2022-02-28T00:31:10.407322",
     "exception": false,
     "start_time": "2022-02-28T00:31:10.366358",
     "status": "completed"
    },
    "tags": []
   },
   "outputs": [
    {
     "data": {
      "text/plain": [
       "((60000, 28, 28), (60000,))"
      ]
     },
     "execution_count": 6,
     "metadata": {},
     "output_type": "execute_result"
    }
   ],
   "source": [
    "train_images.shape, train_labels.shape"
   ]
  },
  {
   "cell_type": "code",
   "execution_count": 7,
   "id": "f50dc2bb",
   "metadata": {
    "execution": {
     "iopub.execute_input": "2022-02-28T00:31:10.467120Z",
     "iopub.status.busy": "2022-02-28T00:31:10.466530Z",
     "iopub.status.idle": "2022-02-28T00:31:10.634691Z",
     "shell.execute_reply": "2022-02-28T00:31:10.633648Z"
    },
    "papermill": {
     "duration": 0.200859,
     "end_time": "2022-02-28T00:31:10.634916",
     "exception": false,
     "start_time": "2022-02-28T00:31:10.434057",
     "status": "completed"
    },
    "tags": []
   },
   "outputs": [],
   "source": [
    "test_images = mnist.test_images()\n",
    "test_labels = mnist.test_labels()"
   ]
  },
  {
   "cell_type": "code",
   "execution_count": 8,
   "id": "fc38cf1b",
   "metadata": {
    "execution": {
     "iopub.execute_input": "2022-02-28T00:31:10.692899Z",
     "iopub.status.busy": "2022-02-28T00:31:10.692305Z",
     "iopub.status.idle": "2022-02-28T00:31:10.705891Z",
     "shell.execute_reply": "2022-02-28T00:31:10.706422Z"
    },
    "papermill": {
     "duration": 0.043075,
     "end_time": "2022-02-28T00:31:10.706556",
     "exception": false,
     "start_time": "2022-02-28T00:31:10.663481",
     "status": "completed"
    },
    "tags": []
   },
   "outputs": [
    {
     "data": {
      "text/plain": [
       "((10000, 28, 28), (10000,))"
      ]
     },
     "execution_count": 8,
     "metadata": {},
     "output_type": "execute_result"
    }
   ],
   "source": [
    "test_images.shape, test_labels.shape"
   ]
  },
  {
   "cell_type": "code",
   "execution_count": 9,
   "id": "f9ed8fe0",
   "metadata": {
    "execution": {
     "iopub.execute_input": "2022-02-28T00:31:10.763800Z",
     "iopub.status.busy": "2022-02-28T00:31:10.763313Z",
     "iopub.status.idle": "2022-02-28T00:31:10.907355Z",
     "shell.execute_reply": "2022-02-28T00:31:10.907820Z"
    },
    "papermill": {
     "duration": 0.17514,
     "end_time": "2022-02-28T00:31:10.907973",
     "exception": false,
     "start_time": "2022-02-28T00:31:10.732833",
     "status": "completed"
    },
    "tags": []
   },
   "outputs": [
    {
     "name": "stdout",
     "output_type": "stream",
     "text": [
      "2\n"
     ]
    },
    {
     "data": {
      "text/plain": [
       "<matplotlib.image.AxesImage at 0x7f7b85bb9518>"
      ]
     },
     "execution_count": 9,
     "metadata": {},
     "output_type": "execute_result"
    },
    {
     "data": {
      "image/png": "[encoded data removed]",
      "text/plain": [
       "<Figure size 432x288 with 1 Axes>"
      ]
     },
     "metadata": {
      "needs_background": "light"
     },
     "output_type": "display_data"
    }
   ],
   "source": [
    "image_index = 7776 # You may select anything up to 60,000\n",
    "print(train_labels[image_index]) \n",
    "plt.imshow(train_images[image_index], cmap='Greys')"
   ]
  },
  {
   "cell_type": "markdown",
   "id": "a8d2388d",
   "metadata": {
    "papermill": {
     "duration": 0.02477,
     "end_time": "2022-02-28T00:31:10.960075",
     "exception": false,
     "start_time": "2022-02-28T00:31:10.935305",
     "status": "completed"
    },
    "tags": []
   },
   "source": [
    "## Filter data to get 3 and 8 out"
   ]
  },
  {
   "cell_type": "code",
   "execution_count": 10,
   "id": "776f7fc7",
   "metadata": {
    "execution": {
     "iopub.execute_input": "2022-02-28T00:31:11.016815Z",
     "iopub.status.busy": "2022-02-28T00:31:11.016177Z",
     "iopub.status.idle": "2022-02-28T00:31:11.033969Z",
     "shell.execute_reply": "2022-02-28T00:31:11.034474Z"
    },
    "papermill": {
     "duration": 0.05045,
     "end_time": "2022-02-28T00:31:11.034614",
     "exception": false,
     "start_time": "2022-02-28T00:31:10.984164",
     "status": "completed"
    },
    "tags": []
   },
   "outputs": [],
   "source": [
    "train_filter = np.where((train_labels == 3 ) | (train_labels == 8))\n",
    "test_filter = np.where((test_labels == 3) | (test_labels == 8))\n",
    "X_train, y_train = train_images[train_filter], train_labels[train_filter]\n",
    "X_test, y_test = test_images[test_filter], test_labels[test_filter]"
   ]
  },
  {
   "cell_type": "markdown",
   "id": "948f0b7e",
   "metadata": {
    "papermill": {
     "duration": 0.026045,
     "end_time": "2022-02-28T00:31:11.087074",
     "exception": false,
     "start_time": "2022-02-28T00:31:11.061029",
     "status": "completed"
    },
    "tags": []
   },
   "source": [
    "We normalize the pizel values in the 0 to 1 range"
   ]
  },
  {
   "cell_type": "code",
   "execution_count": 11,
   "id": "ee4c2166",
   "metadata": {
    "execution": {
     "iopub.execute_input": "2022-02-28T00:31:11.140829Z",
     "iopub.status.busy": "2022-02-28T00:31:11.140247Z",
     "iopub.status.idle": "2022-02-28T00:31:11.192830Z",
     "shell.execute_reply": "2022-02-28T00:31:11.191792Z"
    },
    "papermill": {
     "duration": 0.081578,
     "end_time": "2022-02-28T00:31:11.193059",
     "exception": false,
     "start_time": "2022-02-28T00:31:11.111481",
     "status": "completed"
    },
    "tags": []
   },
   "outputs": [],
   "source": [
    "X_train = X_train/255.\n",
    "X_test = X_test/255."
   ]
  },
  {
   "cell_type": "markdown",
   "id": "ddcf4fab",
   "metadata": {
    "papermill": {
     "duration": 0.027413,
     "end_time": "2022-02-28T00:31:11.249483",
     "exception": false,
     "start_time": "2022-02-28T00:31:11.222070",
     "status": "completed"
    },
    "tags": []
   },
   "source": [
    "And setup the labels as 1 (when the digit is 3) and 0 (when the digit is 8)"
   ]
  },
  {
   "cell_type": "code",
   "execution_count": 12,
   "id": "7dc908f2",
   "metadata": {
    "execution": {
     "iopub.execute_input": "2022-02-28T00:31:11.302760Z",
     "iopub.status.busy": "2022-02-28T00:31:11.302200Z",
     "iopub.status.idle": "2022-02-28T00:31:11.313966Z",
     "shell.execute_reply": "2022-02-28T00:31:11.314328Z"
    },
    "papermill": {
     "duration": 0.040272,
     "end_time": "2022-02-28T00:31:11.314436",
     "exception": false,
     "start_time": "2022-02-28T00:31:11.274164",
     "status": "completed"
    },
    "tags": []
   },
   "outputs": [],
   "source": [
    "y_train = 1*(y_train==3)\n",
    "y_test = 1*(y_test==3)"
   ]
  },
  {
   "cell_type": "code",
   "execution_count": 13,
   "id": "01e4e969",
   "metadata": {
    "execution": {
     "iopub.execute_input": "2022-02-28T00:31:11.373986Z",
     "iopub.status.busy": "2022-02-28T00:31:11.373348Z",
     "iopub.status.idle": "2022-02-28T00:31:11.382668Z",
     "shell.execute_reply": "2022-02-28T00:31:11.383057Z"
    },
    "papermill": {
     "duration": 0.043707,
     "end_time": "2022-02-28T00:31:11.383172",
     "exception": false,
     "start_time": "2022-02-28T00:31:11.339465",
     "status": "completed"
    },
    "tags": []
   },
   "outputs": [
    {
     "data": {
      "text/plain": [
       "((11982, 28, 28), (1984, 28, 28))"
      ]
     },
     "execution_count": 13,
     "metadata": {},
     "output_type": "execute_result"
    }
   ],
   "source": [
    "X_train.shape, X_test.shape"
   ]
  },
  {
   "cell_type": "markdown",
   "id": "5ccf3f85",
   "metadata": {
    "papermill": {
     "duration": 0.025229,
     "end_time": "2022-02-28T00:31:11.433416",
     "exception": false,
     "start_time": "2022-02-28T00:31:11.408187",
     "status": "completed"
    },
    "tags": []
   },
   "source": [
    "We reshape the data to flatten the image pixels into a set of features or co-variates:"
   ]
  },
  {
   "cell_type": "code",
   "execution_count": 14,
   "id": "5286a4a3",
   "metadata": {
    "execution": {
     "iopub.execute_input": "2022-02-28T00:31:11.490301Z",
     "iopub.status.busy": "2022-02-28T00:31:11.489744Z",
     "iopub.status.idle": "2022-02-28T00:31:11.505121Z",
     "shell.execute_reply": "2022-02-28T00:31:11.504646Z"
    },
    "papermill": {
     "duration": 0.046435,
     "end_time": "2022-02-28T00:31:11.505245",
     "exception": false,
     "start_time": "2022-02-28T00:31:11.458810",
     "status": "completed"
    },
    "tags": []
   },
   "outputs": [
    {
     "data": {
      "text/plain": [
       "((11982, 784), (1984, 784))"
      ]
     },
     "execution_count": 14,
     "metadata": {},
     "output_type": "execute_result"
    }
   ],
   "source": [
    "X_train = X_train.reshape(X_train.shape[0], -1)\n",
    "X_test = X_test.reshape(X_test.shape[0], -1)\n",
    "X_train.shape, X_test.shape"
   ]
  },
  {
   "cell_type": "code",
   "execution_count": 15,
   "id": "73c5f88a",
   "metadata": {
    "execution": {
     "iopub.execute_input": "2022-02-28T00:31:11.567438Z",
     "iopub.status.busy": "2022-02-28T00:31:11.566858Z",
     "iopub.status.idle": "2022-02-28T00:31:11.586352Z",
     "shell.execute_reply": "2022-02-28T00:31:11.585919Z"
    },
    "papermill": {
     "duration": 0.052962,
     "end_time": "2022-02-28T00:31:11.586460",
     "exception": false,
     "start_time": "2022-02-28T00:31:11.533498",
     "status": "completed"
    },
    "tags": []
   },
   "outputs": [],
   "source": [
    "#Impoting functions from 'Kudzu'\n",
    "from kudzu.model import Model\n",
    "from kudzu.train import Learner\n",
    "from kudzu.optim import GD\n",
    "from kudzu.data import Data, Sampler,Dataloader\n",
    "\n",
    "from kudzu.callbacks import AccCallback\n",
    "from kudzu.callbacks import ClfCallback\n",
    "\n",
    "from kudzu.loss import MSE\n",
    "\n",
    "from kudzu.layer import Sigmoid,Relu\n",
    "from kudzu.layer import Affine"
   ]
  },
  {
   "cell_type": "markdown",
   "id": "bc01172a",
   "metadata": {
    "papermill": {
     "duration": 0.026961,
     "end_time": "2022-02-28T00:31:11.637814",
     "exception": false,
     "start_time": "2022-02-28T00:31:11.610853",
     "status": "completed"
    },
    "tags": []
   },
   "source": [
    "### Let us create a `Config` class, to store important parameters. \n",
    "This class essentially plays the role of a dictionary."
   ]
  },
  {
   "cell_type": "code",
   "execution_count": 16,
   "id": "978281aa",
   "metadata": {
    "execution": {
     "iopub.execute_input": "2022-02-28T00:31:11.689832Z",
     "iopub.status.busy": "2022-02-28T00:31:11.689394Z",
     "iopub.status.idle": "2022-02-28T00:31:11.702460Z",
     "shell.execute_reply": "2022-02-28T00:31:11.702045Z"
    },
    "papermill": {
     "duration": 0.040627,
     "end_time": "2022-02-28T00:31:11.702561",
     "exception": false,
     "start_time": "2022-02-28T00:31:11.661934",
     "status": "completed"
    },
    "tags": []
   },
   "outputs": [],
   "source": [
    "class Config:\n",
    "    pass\n",
    "config = Config()\n",
    "config.lr = 0.001\n",
    "config.num_epochs = 250\n",
    "config.bs = 50"
   ]
  },
  {
   "cell_type": "markdown",
   "id": "1385fa59",
   "metadata": {
    "papermill": {
     "duration": 0.026387,
     "end_time": "2022-02-28T00:31:11.752833",
     "exception": false,
     "start_time": "2022-02-28T00:31:11.726446",
     "status": "completed"
    },
    "tags": []
   },
   "source": [
    "### Running Models with the Training data\n",
    "Details about the network layers:\n",
    "- A first affine layer has 784 inputs and does 100 affine transforms. These are followed by a Relu\n",
    "- A second affine layer has 100 inputs from the 100 activations of the past layer, and does 100 affine transforms. These are followed by a Relu\n",
    "- A third affine layer has 100 activations and does 2 affine transformations to create an embedding for visualization. There is no non-linearity here.\n",
    "- A final \"logistic regression\" which has an affine transform from 2 inputs to 1 output, which is squeezed through a sigmoid.\n"
   ]
  },
  {
   "cell_type": "code",
   "execution_count": 17,
   "id": "2b9c66db",
   "metadata": {
    "execution": {
     "iopub.execute_input": "2022-02-28T00:31:11.808454Z",
     "iopub.status.busy": "2022-02-28T00:31:11.807900Z",
     "iopub.status.idle": "2022-02-28T00:31:11.819838Z",
     "shell.execute_reply": "2022-02-28T00:31:11.819445Z"
    },
    "papermill": {
     "duration": 0.040919,
     "end_time": "2022-02-28T00:31:11.819939",
     "exception": false,
     "start_time": "2022-02-28T00:31:11.779020",
     "status": "completed"
    },
    "tags": []
   },
   "outputs": [],
   "source": [
    "data = Data(X_train, y_train.reshape(-1,1))\n",
    "sampler = Sampler(data, config.bs, shuffle=True)\n",
    "\n",
    "dl = Dataloader(data, sampler)\n",
    "\n",
    "opt = GD(config.lr)\n",
    "loss = MSE()"
   ]
  },
  {
   "cell_type": "code",
   "execution_count": 18,
   "id": "b275e4c2",
   "metadata": {
    "execution": {
     "iopub.execute_input": "2022-02-28T00:31:11.878900Z",
     "iopub.status.busy": "2022-02-28T00:31:11.878342Z",
     "iopub.status.idle": "2022-02-28T00:31:11.891378Z",
     "shell.execute_reply": "2022-02-28T00:31:11.890978Z"
    },
    "papermill": {
     "duration": 0.045401,
     "end_time": "2022-02-28T00:31:11.891486",
     "exception": false,
     "start_time": "2022-02-28T00:31:11.846085",
     "status": "completed"
    },
    "tags": []
   },
   "outputs": [],
   "source": [
    "training_data_x = X_train\n",
    "testing_data_x = X_test\n",
    "training_data_y = y_train.reshape(-1,1)\n",
    "testing_data_y = y_test.reshape(-1,1)"
   ]
  },
  {
   "cell_type": "code",
   "execution_count": 19,
   "id": "76951160",
   "metadata": {
    "execution": {
     "iopub.execute_input": "2022-02-28T00:31:11.948568Z",
     "iopub.status.busy": "2022-02-28T00:31:11.947927Z",
     "iopub.status.idle": "2022-02-28T00:31:11.964984Z",
     "shell.execute_reply": "2022-02-28T00:31:11.964555Z"
    },
    "papermill": {
     "duration": 0.047667,
     "end_time": "2022-02-28T00:31:11.965088",
     "exception": false,
     "start_time": "2022-02-28T00:31:11.917421",
     "status": "completed"
    },
    "tags": []
   },
   "outputs": [
    {
     "name": "stdout",
     "output_type": "stream",
     "text": [
      "xavier\n",
      "xavier\n",
      "xavier\n",
      "xavier\n",
      "xavier\n"
     ]
    }
   ],
   "source": [
    "layers = [Affine(\"first\", 784, 100), Relu(\"first\"), Affine(\"second\", 100, 100), Relu(\"second\"), Affine(\"third\", 100, 2), Affine(\"last\", 2, 1), Sigmoid(\"last\")]\n",
    "model_nn = Model(layers)\n",
    "model_lr = Model([Affine(\"logits\", 784, 1), Sigmoid(\"sigmoid\")])"
   ]
  },
  {
   "cell_type": "code",
   "execution_count": 20,
   "id": "6eede77a",
   "metadata": {
    "execution": {
     "iopub.execute_input": "2022-02-28T00:31:12.017168Z",
     "iopub.status.busy": "2022-02-28T00:31:12.016588Z",
     "iopub.status.idle": "2022-02-28T00:31:12.030628Z",
     "shell.execute_reply": "2022-02-28T00:31:12.030156Z"
    },
    "papermill": {
     "duration": 0.042891,
     "end_time": "2022-02-28T00:31:12.030725",
     "exception": false,
     "start_time": "2022-02-28T00:31:11.987834",
     "status": "completed"
    },
    "tags": []
   },
   "outputs": [],
   "source": [
    "nn_learner = Learner(loss, model_nn, opt, config.num_epochs)\n",
    "acc_nn = ClfCallback(nn_learner, config.bs, training_data_x , testing_data_x, training_data_y, testing_data_y)\n",
    "nn_learner.set_callbacks([acc_nn])"
   ]
  },
  {
   "cell_type": "code",
   "execution_count": 21,
   "id": "877b6cc7",
   "metadata": {
    "execution": {
     "iopub.execute_input": "2022-02-28T00:31:12.089435Z",
     "iopub.status.busy": "2022-02-28T00:31:12.088906Z",
     "iopub.status.idle": "2022-02-28T00:31:12.101401Z",
     "shell.execute_reply": "2022-02-28T00:31:12.101037Z"
    },
    "papermill": {
     "duration": 0.044701,
     "end_time": "2022-02-28T00:31:12.101492",
     "exception": false,
     "start_time": "2022-02-28T00:31:12.056791",
     "status": "completed"
    },
    "tags": []
   },
   "outputs": [],
   "source": [
    "lr_learner = Learner(loss, model_lr, opt, config.num_epochs)\n",
    "acc_lr = ClfCallback(lr_learner, config.bs, training_data_x , testing_data_x, training_data_y, testing_data_y)\n",
    "lr_learner.set_callbacks([acc_lr])"
   ]
  },
  {
   "cell_type": "code",
   "execution_count": 22,
   "id": "d9b133c3",
   "metadata": {
    "execution": {
     "iopub.execute_input": "2022-02-28T00:31:12.157860Z",
     "iopub.status.busy": "2022-02-28T00:31:12.156815Z",
     "iopub.status.idle": "2022-02-28T00:32:35.074711Z",
     "shell.execute_reply": "2022-02-28T00:32:35.075561Z"
    },
    "papermill": {
     "duration": 82.948379,
     "end_time": "2022-02-28T00:32:35.075728",
     "exception": false,
     "start_time": "2022-02-28T00:31:12.127349",
     "status": "completed"
    },
    "tags": []
   },
   "outputs": [
    {
     "name": "stdout",
     "output_type": "stream",
     "text": [
      "Epoch 0, Loss 0.2449\n",
      "Training Accuracy: 0.6150, Testing Accuracy: 0.6200\n",
      "\n"
     ]
    },
    {
     "name": "stdout",
     "output_type": "stream",
     "text": [
      "Epoch 10, Loss 0.1008\n",
      "Training Accuracy: 0.9049, Testing Accuracy: 0.9183\n",
      "\n"
     ]
    },
    {
     "name": "stdout",
     "output_type": "stream",
     "text": [
      "Epoch 20, Loss 0.0593\n",
      "Training Accuracy: 0.9394, Testing Accuracy: 0.9496\n",
      "\n"
     ]
    },
    {
     "name": "stdout",
     "output_type": "stream",
     "text": [
      "Epoch 30, Loss 0.0453\n",
      "Training Accuracy: 0.9504, Testing Accuracy: 0.9587\n",
      "\n"
     ]
    },
    {
     "name": "stdout",
     "output_type": "stream",
     "text": [
      "Epoch 40, Loss 0.0386\n",
      "Training Accuracy: 0.9576, Testing Accuracy: 0.9642\n",
      "\n"
     ]
    },
    {
     "name": "stdout",
     "output_type": "stream",
     "text": [
      "Epoch 50, Loss 0.0345\n",
      "Training Accuracy: 0.9612, Testing Accuracy: 0.9652\n",
      "\n"
     ]
    },
    {
     "name": "stdout",
     "output_type": "stream",
     "text": [
      "Epoch 60, Loss 0.0318\n",
      "Training Accuracy: 0.9643, Testing Accuracy: 0.9662\n",
      "\n"
     ]
    },
    {
     "name": "stdout",
     "output_type": "stream",
     "text": [
      "Epoch 70, Loss 0.0297\n",
      "Training Accuracy: 0.9666, Testing Accuracy: 0.9682\n",
      "\n"
     ]
    },
    {
     "name": "stdout",
     "output_type": "stream",
     "text": [
      "Epoch 80, Loss 0.0281\n",
      "Training Accuracy: 0.9680, Testing Accuracy: 0.9688\n",
      "\n"
     ]
    },
    {
     "name": "stdout",
     "output_type": "stream",
     "text": [
      "Epoch 90, Loss 0.0268\n",
      "Training Accuracy: 0.9696, Testing Accuracy: 0.9688\n",
      "\n"
     ]
    },
    {
     "name": "stdout",
     "output_type": "stream",
     "text": [
      "Epoch 100, Loss 0.0257\n",
      "Training Accuracy: 0.9708, Testing Accuracy: 0.9708\n",
      "\n"
     ]
    },
    {
     "name": "stdout",
     "output_type": "stream",
     "text": [
      "Epoch 110, Loss 0.0247\n",
      "Training Accuracy: 0.9720, Testing Accuracy: 0.9723\n",
      "\n"
     ]
    },
    {
     "name": "stdout",
     "output_type": "stream",
     "text": [
      "Epoch 120, Loss 0.0238\n",
      "Training Accuracy: 0.9731, Testing Accuracy: 0.9723\n",
      "\n"
     ]
    },
    {
     "name": "stdout",
     "output_type": "stream",
     "text": [
      "Epoch 130, Loss 0.023\n",
      "Training Accuracy: 0.9740, Testing Accuracy: 0.9723\n",
      "\n"
     ]
    },
    {
     "name": "stdout",
     "output_type": "stream",
     "text": [
      "Epoch 140, Loss 0.0223\n",
      "Training Accuracy: 0.9747, Testing Accuracy: 0.9723\n",
      "\n"
     ]
    },
    {
     "name": "stdout",
     "output_type": "stream",
     "text": [
      "Epoch 150, Loss 0.0216\n",
      "Training Accuracy: 0.9752, Testing Accuracy: 0.9738\n",
      "\n"
     ]
    },
    {
     "name": "stdout",
     "output_type": "stream",
     "text": [
      "Epoch 160, Loss 0.021\n",
      "Training Accuracy: 0.9765, Testing Accuracy: 0.9758\n",
      "\n"
     ]
    },
    {
     "name": "stdout",
     "output_type": "stream",
     "text": [
      "Epoch 170, Loss 0.0204\n",
      "Training Accuracy: 0.9771, Testing Accuracy: 0.9753\n",
      "\n"
     ]
    },
    {
     "name": "stdout",
     "output_type": "stream",
     "text": [
      "Epoch 180, Loss 0.0199\n",
      "Training Accuracy: 0.9780, Testing Accuracy: 0.9758\n",
      "\n"
     ]
    },
    {
     "name": "stdout",
     "output_type": "stream",
     "text": [
      "Epoch 190, Loss 0.0194\n",
      "Training Accuracy: 0.9789, Testing Accuracy: 0.9768\n",
      "\n"
     ]
    },
    {
     "name": "stdout",
     "output_type": "stream",
     "text": [
      "Epoch 200, Loss 0.0189\n",
      "Training Accuracy: 0.9796, Testing Accuracy: 0.9778\n",
      "\n"
     ]
    },
    {
     "name": "stdout",
     "output_type": "stream",
     "text": [
      "Epoch 210, Loss 0.0184\n",
      "Training Accuracy: 0.9805, Testing Accuracy: 0.9793\n",
      "\n"
     ]
    },
    {
     "name": "stdout",
     "output_type": "stream",
     "text": [
      "Epoch 220, Loss 0.018\n",
      "Training Accuracy: 0.9807, Testing Accuracy: 0.9803\n",
      "\n"
     ]
    },
    {
     "name": "stdout",
     "output_type": "stream",
     "text": [
      "Epoch 230, Loss 0.0176\n",
      "Training Accuracy: 0.9814, Testing Accuracy: 0.9798\n",
      "\n"
     ]
    },
    {
     "name": "stdout",
     "output_type": "stream",
     "text": [
      "Epoch 240, Loss 0.0172\n",
      "Training Accuracy: 0.9817, Testing Accuracy: 0.9798\n",
      "\n"
     ]
    },
    {
     "data": {
      "text/plain": [
       "0.033676972314710965"
      ]
     },
     "execution_count": 22,
     "metadata": {},
     "output_type": "execute_result"
    }
   ],
   "source": [
    "nn_learner.train_loop(dl)"
   ]
  },
  {
   "cell_type": "code",
   "execution_count": 23,
   "id": "e0163366",
   "metadata": {
    "execution": {
     "iopub.execute_input": "2022-02-28T00:32:35.165228Z",
     "iopub.status.busy": "2022-02-28T00:32:35.164581Z",
     "iopub.status.idle": "2022-02-28T00:32:49.595189Z",
     "shell.execute_reply": "2022-02-28T00:32:49.595893Z"
    },
    "papermill": {
     "duration": 14.4837,
     "end_time": "2022-02-28T00:32:49.596047",
     "exception": false,
     "start_time": "2022-02-28T00:32:35.112347",
     "status": "completed"
    },
    "tags": []
   },
   "outputs": [
    {
     "name": "stdout",
     "output_type": "stream",
     "text": [
      "Epoch 0, Loss 0.2066\n",
      "Training Accuracy: 0.8076, Testing Accuracy: 0.8175\n",
      "\n"
     ]
    },
    {
     "name": "stdout",
     "output_type": "stream",
     "text": [
      "Epoch 10, Loss 0.0969\n",
      "Training Accuracy: 0.9236, Testing Accuracy: 0.9325\n",
      "\n"
     ]
    },
    {
     "name": "stdout",
     "output_type": "stream",
     "text": [
      "Epoch 20, Loss 0.0765\n",
      "Training Accuracy: 0.9342, Testing Accuracy: 0.9430\n",
      "\n"
     ]
    },
    {
     "name": "stdout",
     "output_type": "stream",
     "text": [
      "Epoch 30, Loss 0.0666\n",
      "Training Accuracy: 0.9392, Testing Accuracy: 0.9491\n",
      "\n"
     ]
    },
    {
     "name": "stdout",
     "output_type": "stream",
     "text": [
      "Epoch 40, Loss 0.0605\n",
      "Training Accuracy: 0.9431, Testing Accuracy: 0.9526\n",
      "\n"
     ]
    },
    {
     "name": "stdout",
     "output_type": "stream",
     "text": [
      "Epoch 50, Loss 0.0563\n",
      "Training Accuracy: 0.9458, Testing Accuracy: 0.9556\n",
      "\n"
     ]
    },
    {
     "name": "stdout",
     "output_type": "stream",
     "text": [
      "Epoch 60, Loss 0.0532\n",
      "Training Accuracy: 0.9488, Testing Accuracy: 0.9567\n",
      "\n"
     ]
    },
    {
     "name": "stdout",
     "output_type": "stream",
     "text": [
      "Epoch 70, Loss 0.0508\n",
      "Training Accuracy: 0.9512, Testing Accuracy: 0.9592\n",
      "\n"
     ]
    },
    {
     "name": "stdout",
     "output_type": "stream",
     "text": [
      "Epoch 80, Loss 0.0488\n",
      "Training Accuracy: 0.9517, Testing Accuracy: 0.9627\n",
      "\n"
     ]
    },
    {
     "name": "stdout",
     "output_type": "stream",
     "text": [
      "Epoch 90, Loss 0.0472\n",
      "Training Accuracy: 0.9527, Testing Accuracy: 0.9637\n",
      "\n"
     ]
    },
    {
     "name": "stdout",
     "output_type": "stream",
     "text": [
      "Epoch 100, Loss 0.0458\n",
      "Training Accuracy: 0.9536, Testing Accuracy: 0.9642\n",
      "\n"
     ]
    },
    {
     "name": "stdout",
     "output_type": "stream",
     "text": [
      "Epoch 110, Loss 0.0446\n",
      "Training Accuracy: 0.9548, Testing Accuracy: 0.9647\n",
      "\n"
     ]
    },
    {
     "name": "stdout",
     "output_type": "stream",
     "text": [
      "Epoch 120, Loss 0.0436\n",
      "Training Accuracy: 0.9552, Testing Accuracy: 0.9652\n",
      "\n"
     ]
    },
    {
     "name": "stdout",
     "output_type": "stream",
     "text": [
      "Epoch 130, Loss 0.0427\n",
      "Training Accuracy: 0.9560, Testing Accuracy: 0.9652\n",
      "\n"
     ]
    },
    {
     "name": "stdout",
     "output_type": "stream",
     "text": [
      "Epoch 140, Loss 0.0419\n",
      "Training Accuracy: 0.9569, Testing Accuracy: 0.9662\n",
      "\n"
     ]
    },
    {
     "name": "stdout",
     "output_type": "stream",
     "text": [
      "Epoch 150, Loss 0.0411\n",
      "Training Accuracy: 0.9573, Testing Accuracy: 0.9667\n",
      "\n"
     ]
    },
    {
     "name": "stdout",
     "output_type": "stream",
     "text": [
      "Epoch 160, Loss 0.0405\n",
      "Training Accuracy: 0.9580, Testing Accuracy: 0.9672\n",
      "\n"
     ]
    },
    {
     "name": "stdout",
     "output_type": "stream",
     "text": [
      "Epoch 170, Loss 0.0399\n",
      "Training Accuracy: 0.9581, Testing Accuracy: 0.9677\n",
      "\n"
     ]
    },
    {
     "name": "stdout",
     "output_type": "stream",
     "text": [
      "Epoch 180, Loss 0.0393\n",
      "Training Accuracy: 0.9584, Testing Accuracy: 0.9677\n",
      "\n"
     ]
    },
    {
     "name": "stdout",
     "output_type": "stream",
     "text": [
      "Epoch 190, Loss 0.0388\n",
      "Training Accuracy: 0.9589, Testing Accuracy: 0.9677\n",
      "\n"
     ]
    },
    {
     "name": "stdout",
     "output_type": "stream",
     "text": [
      "Epoch 200, Loss 0.0383\n",
      "Training Accuracy: 0.9595, Testing Accuracy: 0.9677\n",
      "\n"
     ]
    },
    {
     "name": "stdout",
     "output_type": "stream",
     "text": [
      "Epoch 210, Loss 0.0379\n",
      "Training Accuracy: 0.9599, Testing Accuracy: 0.9677\n",
      "\n"
     ]
    },
    {
     "name": "stdout",
     "output_type": "stream",
     "text": [
      "Epoch 220, Loss 0.0375\n",
      "Training Accuracy: 0.9600, Testing Accuracy: 0.9677\n",
      "\n"
     ]
    },
    {
     "name": "stdout",
     "output_type": "stream",
     "text": [
      "Epoch 230, Loss 0.0371\n",
      "Training Accuracy: 0.9603, Testing Accuracy: 0.9677\n",
      "\n"
     ]
    },
    {
     "name": "stdout",
     "output_type": "stream",
     "text": [
      "Epoch 240, Loss 0.0368\n",
      "Training Accuracy: 0.9607, Testing Accuracy: 0.9672\n",
      "\n"
     ]
    },
    {
     "data": {
      "text/plain": [
       "0.045775140563589056"
      ]
     },
     "execution_count": 23,
     "metadata": {},
     "output_type": "execute_result"
    }
   ],
   "source": [
    "lr_learner.train_loop(dl)"
   ]
  },
  {
   "cell_type": "code",
   "execution_count": 24,
   "id": "ca410940",
   "metadata": {
    "execution": {
     "iopub.execute_input": "2022-02-28T00:32:49.686269Z",
     "iopub.status.busy": "2022-02-28T00:32:49.685761Z",
     "iopub.status.idle": "2022-02-28T00:32:49.922809Z",
     "shell.execute_reply": "2022-02-28T00:32:49.923272Z"
    },
    "papermill": {
     "duration": 0.285546,
     "end_time": "2022-02-28T00:32:49.923426",
     "exception": false,
     "start_time": "2022-02-28T00:32:49.637880",
     "status": "completed"
    },
    "tags": []
   },
   "outputs": [
    {
     "data": {
      "text/plain": [
       "<matplotlib.legend.Legend at 0x7f7b85796cc0>"
      ]
     },
     "execution_count": 24,
     "metadata": {},
     "output_type": "execute_result"
    },
    {
     "data": {
      "image/png": "[encoded data removed]",
      "text/plain": [
       "<Figure size 1080x720 with 1 Axes>"
      ]
     },
     "metadata": {
      "needs_background": "light"
     },
     "output_type": "display_data"
    }
   ],
   "source": [
    "#comparing the results of NN and LR\n",
    "plt.figure(figsize=(15,10))\n",
    "\n",
    "# Neural Network plots\n",
    "plt.plot(acc_nn.accuracies, 'r-', label = \"Training Accuracies - NN\")\n",
    "plt.plot(acc_nn.test_accuracies, 'g-', label = \"Testing Accuracies - NN\")\n",
    "\n",
    "# Logistic Regression plots\n",
    "plt.plot(acc_lr.accuracies, 'k-', label = \"Training Accuracies - LR\")\n",
    "plt.plot(acc_lr.test_accuracies, 'b-', label = \"Testing Accuracies - LR\")\n",
    "plt.legend()"
   ]
  },
  {
   "cell_type": "markdown",
   "id": "80dfb35c",
   "metadata": {
    "papermill": {
     "duration": 0.040202,
     "end_time": "2022-02-28T00:32:50.003631",
     "exception": false,
     "start_time": "2022-02-28T00:32:49.963429",
     "status": "completed"
    },
    "tags": []
   },
   "source": [
    "#### Plotting the outputs of this layer of the NN.\n"
   ]
  },
  {
   "cell_type": "code",
   "execution_count": 25,
   "id": "45eb2ff5",
   "metadata": {
    "execution": {
     "iopub.execute_input": "2022-02-28T00:32:50.096163Z",
     "iopub.status.busy": "2022-02-28T00:32:50.095626Z",
     "iopub.status.idle": "2022-02-28T00:32:50.114666Z",
     "shell.execute_reply": "2022-02-28T00:32:50.115118Z"
    },
    "papermill": {
     "duration": 0.068583,
     "end_time": "2022-02-28T00:32:50.115265",
     "exception": false,
     "start_time": "2022-02-28T00:32:50.046682",
     "status": "completed"
    },
    "tags": []
   },
   "outputs": [],
   "source": [
    "new_model = Model(layers[:-2])\n",
    "testing_plot = new_model(testing_data_x)"
   ]
  },
  {
   "cell_type": "code",
   "execution_count": 26,
   "id": "4c0a5485",
   "metadata": {
    "execution": {
     "iopub.execute_input": "2022-02-28T00:32:50.206728Z",
     "iopub.status.busy": "2022-02-28T00:32:50.206099Z",
     "iopub.status.idle": "2022-02-28T00:32:50.431388Z",
     "shell.execute_reply": "2022-02-28T00:32:50.430905Z"
    },
    "papermill": {
     "duration": 0.274603,
     "end_time": "2022-02-28T00:32:50.431521",
     "exception": false,
     "start_time": "2022-02-28T00:32:50.156918",
     "status": "completed"
    },
    "tags": []
   },
   "outputs": [
    {
     "data": {
      "text/plain": [
       "Text(0.5, 1.0, 'Outputs')"
      ]
     },
     "execution_count": 26,
     "metadata": {},
     "output_type": "execute_result"
    },
    {
     "data": {
      "image/png": "[encoded data removed]",
      "text/plain": [
       "<Figure size 576x504 with 1 Axes>"
      ]
     },
     "metadata": {
      "needs_background": "light"
     },
     "output_type": "display_data"
    }
   ],
   "source": [
    "# Plotting the scatter plot of points and color coding by class\n",
    "plt.figure(figsize=(8,7))\n",
    "plt.scatter(testing_plot[:,0], testing_plot[:,1], alpha = 0.1, c = y_test.ravel());\n",
    "plt.title('Outputs')"
   ]
  },
  {
   "cell_type": "markdown",
   "id": "a74fcf8f",
   "metadata": {
    "papermill": {
     "duration": 0.045738,
     "end_time": "2022-02-28T00:32:50.525139",
     "exception": false,
     "start_time": "2022-02-28T00:32:50.479401",
     "status": "completed"
    },
    "tags": []
   },
   "source": [
    "Probability contours"
   ]
  },
  {
   "cell_type": "code",
   "execution_count": 27,
   "id": "d0afc8e3",
   "metadata": {
    "execution": {
     "iopub.execute_input": "2022-02-28T00:32:50.628342Z",
     "iopub.status.busy": "2022-02-28T00:32:50.627484Z",
     "iopub.status.idle": "2022-02-28T00:32:50.638702Z",
     "shell.execute_reply": "2022-02-28T00:32:50.638217Z"
    },
    "papermill": {
     "duration": 0.064983,
     "end_time": "2022-02-28T00:32:50.638836",
     "exception": false,
     "start_time": "2022-02-28T00:32:50.573853",
     "status": "completed"
    },
    "tags": []
   },
   "outputs": [],
   "source": [
    "model_prob = Model(layers[-2:]) "
   ]
  },
  {
   "cell_type": "code",
   "execution_count": 28,
   "id": "9b96e238",
   "metadata": {
    "execution": {
     "iopub.execute_input": "2022-02-28T00:32:50.731274Z",
     "iopub.status.busy": "2022-02-28T00:32:50.730210Z",
     "iopub.status.idle": "2022-02-28T00:32:50.744347Z",
     "shell.execute_reply": "2022-02-28T00:32:50.744695Z"
    },
    "papermill": {
     "duration": 0.058945,
     "end_time": "2022-02-28T00:32:50.744831",
     "exception": false,
     "start_time": "2022-02-28T00:32:50.685886",
     "status": "completed"
    },
    "tags": []
   },
   "outputs": [],
   "source": [
    "#creating the x and y ranges according to the above generated plot.\n",
    "x_range = np.linspace(-4, 1, 100) \n",
    "y_range = np.linspace(-6, 6, 100) \n",
    "x_grid, y_grid = np.meshgrid(x_range, y_range) # x_grid and y_grig are of size 100 X 100\n",
    "\n",
    "# converting x_grid and y_grid to continuous arrays\n",
    "x_gridflat = np.ravel(x_grid)\n",
    "y_gridflat = np.ravel(y_grid)\n",
    "\n",
    "# The last layer of the current model takes two columns as input. Hence transpose of np.vstack() is required.\n",
    "X = np.vstack((x_gridflat, y_gridflat)).T\n",
    "\n",
    "prob_contour = model_prob(X).reshape(100,100) "
   ]
  },
  {
   "cell_type": "code",
   "execution_count": 29,
   "id": "da72499a",
   "metadata": {
    "execution": {
     "iopub.execute_input": "2022-02-28T00:32:50.867209Z",
     "iopub.status.busy": "2022-02-28T00:32:50.866681Z",
     "iopub.status.idle": "2022-02-28T00:32:51.127138Z",
     "shell.execute_reply": "2022-02-28T00:32:51.127618Z"
    },
    "papermill": {
     "duration": 0.310461,
     "end_time": "2022-02-28T00:32:51.127769",
     "exception": false,
     "start_time": "2022-02-28T00:32:50.817308",
     "status": "completed"
    },
    "tags": []
   },
   "outputs": [
    {
     "data": {
      "image/png": "[encoded data removed]",
      "text/plain": [
       "<Figure size 720x648 with 1 Axes>"
      ]
     },
     "metadata": {
      "needs_background": "light"
     },
     "output_type": "display_data"
    }
   ],
   "source": [
    "plt.figure(figsize=(10,9))\n",
    "plt.scatter(testing_plot[:,0], testing_plot[:,1], alpha = 0.1, c = y_test.ravel())\n",
    "contours = plt.contour(x_grid,y_grid,prob_contour)\n",
    "plt.title('Probability Contours')\n",
    "plt.clabel(contours, inline = True );"
   ]
  },
  {
   "cell_type": "code",
   "execution_count": null,
   "id": "e81b4ac7",
   "metadata": {
    "papermill": {
     "duration": 0.051217,
     "end_time": "2022-02-28T00:32:51.232396",
     "exception": false,
     "start_time": "2022-02-28T00:32:51.181179",
     "status": "completed"
    },
    "tags": []
   },
   "outputs": [],
   "source": []
  }
 ],
 "metadata": {
  "kernelspec": {
   "display_name": "Python 3",
   "language": "python",
   "name": "python3"
  },
  "language_info": {
   "codemirror_mode": {
    "name": "ipython",
    "version": 3
   },
   "file_extension": ".py",
   "mimetype": "text/x-python",
   "name": "python",
   "nbconvert_exporter": "python",
   "pygments_lexer": "ipython3",
   "version": "3.6.15"
  },
  "papermill": {
   "default_parameters": {},
   "duration": 106.824525,
   "end_time": "2022-02-28T00:32:51.702150",
   "environment_variables": {},
   "exception": null,
   "input_path": "2020-08-11-part2.ipynb",
   "output_path": "2020-08-11-part2.ipynb",
   "parameters": {},
   "start_time": "2022-02-28T00:31:04.877625",
   "version": "2.3.3"
  }
 },
 "nbformat": 4,
 "nbformat_minor": 5
}