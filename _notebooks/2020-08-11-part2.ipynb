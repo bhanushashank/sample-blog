{
 "cells": [
  {
   "cell_type": "markdown",
   "id": "98380cd3",
   "metadata": {
    "papermill": {
     "duration": 0.028609,
     "end_time": "2022-05-06T00:34:47.129800",
     "exception": false,
     "start_time": "2022-05-06T00:34:47.101191",
     "status": "completed"
    },
    "tags": []
   },
   "source": [
    "# Distinguish Your Own Digits (DYOD)"
   ]
  },
  {
   "cell_type": "markdown",
   "id": "ef31240d",
   "metadata": {
    "papermill": {
     "duration": 0.02687,
     "end_time": "2022-05-06T00:34:47.180815",
     "exception": false,
     "start_time": "2022-05-06T00:34:47.153945",
     "status": "completed"
    },
    "tags": []
   },
   "source": [
    "You are going to write a classifier that distinguishes between the number 3 and number 8."
   ]
  },
  {
   "cell_type": "code",
   "execution_count": 1,
   "id": "b15c8646",
   "metadata": {
    "execution": {
     "iopub.execute_input": "2022-05-06T00:34:47.237450Z",
     "iopub.status.busy": "2022-05-06T00:34:47.236929Z",
     "iopub.status.idle": "2022-05-06T00:34:47.247142Z",
     "shell.execute_reply": "2022-05-06T00:34:47.247575Z"
    },
    "papermill": {
     "duration": 0.043534,
     "end_time": "2022-05-06T00:34:47.247711",
     "exception": false,
     "start_time": "2022-05-06T00:34:47.204177",
     "status": "completed"
    },
    "tags": []
   },
   "outputs": [],
   "source": [
    "%load_ext autoreload\n",
    "%autoreload 2"
   ]
  },
  {
   "cell_type": "code",
   "execution_count": 2,
   "id": "22ef38dc",
   "metadata": {
    "execution": {
     "iopub.execute_input": "2022-05-06T00:34:47.297960Z",
     "iopub.status.busy": "2022-05-06T00:34:47.297423Z",
     "iopub.status.idle": "2022-05-06T00:34:47.808596Z",
     "shell.execute_reply": "2022-05-06T00:34:47.808064Z"
    },
    "papermill": {
     "duration": 0.537668,
     "end_time": "2022-05-06T00:34:47.808735",
     "exception": false,
     "start_time": "2022-05-06T00:34:47.271067",
     "status": "completed"
    },
    "tags": []
   },
   "outputs": [],
   "source": [
    "%matplotlib inline\n",
    "import numpy as np\n",
    "import matplotlib.pyplot as plt\n",
    "import pandas as pd"
   ]
  },
  {
   "cell_type": "markdown",
   "id": "ba036198",
   "metadata": {
    "papermill": {
     "duration": 0.02353,
     "end_time": "2022-05-06T00:34:47.855888",
     "exception": false,
     "start_time": "2022-05-06T00:34:47.832358",
     "status": "completed"
    },
    "tags": []
   },
   "source": [
    "From the command line run `pip install mnist`. This is a library that will help you bring down the mnist dataset. If you run this from a notebook, you need to put  `!pip install mnist` in a cell by itself."
   ]
  },
  {
   "cell_type": "code",
   "execution_count": 3,
   "id": "bb6ad8a1",
   "metadata": {
    "execution": {
     "iopub.execute_input": "2022-05-06T00:34:47.910081Z",
     "iopub.status.busy": "2022-05-06T00:34:47.909545Z",
     "iopub.status.idle": "2022-05-06T00:34:49.633377Z",
     "shell.execute_reply": "2022-05-06T00:34:49.633884Z"
    },
    "papermill": {
     "duration": 1.754694,
     "end_time": "2022-05-06T00:34:49.634053",
     "exception": false,
     "start_time": "2022-05-06T00:34:47.879359",
     "status": "completed"
    },
    "tags": []
   },
   "outputs": [
    {
     "name": "stdout",
     "output_type": "stream",
     "text": [
      "Collecting mnist\r\n"
     ]
    },
    {
     "name": "stdout",
     "output_type": "stream",
     "text": [
      "  Downloading mnist-0.2.2-py2.py3-none-any.whl (3.5 kB)\r\n",
      "Requirement already satisfied: numpy in /opt/hostedtoolcache/Python/3.6.15/x64/lib/python3.6/site-packages (from mnist) (1.19.5)\r\n"
     ]
    },
    {
     "name": "stdout",
     "output_type": "stream",
     "text": [
      "Installing collected packages: mnist\r\n",
      "Successfully installed mnist-0.2.2\r\n"
     ]
    }
   ],
   "source": [
    "!pip install mnist"
   ]
  },
  {
   "cell_type": "markdown",
   "id": "69df9c9a",
   "metadata": {
    "papermill": {
     "duration": 0.024463,
     "end_time": "2022-05-06T00:34:49.683793",
     "exception": false,
     "start_time": "2022-05-06T00:34:49.659330",
     "status": "completed"
    },
    "tags": []
   },
   "source": [
    "## Preparing the Data"
   ]
  },
  {
   "cell_type": "code",
   "execution_count": 4,
   "id": "7f69d806",
   "metadata": {
    "execution": {
     "iopub.execute_input": "2022-05-06T00:34:49.736593Z",
     "iopub.status.busy": "2022-05-06T00:34:49.736085Z",
     "iopub.status.idle": "2022-05-06T00:34:49.750631Z",
     "shell.execute_reply": "2022-05-06T00:34:49.750219Z"
    },
    "papermill": {
     "duration": 0.042696,
     "end_time": "2022-05-06T00:34:49.750739",
     "exception": false,
     "start_time": "2022-05-06T00:34:49.708043",
     "status": "completed"
    },
    "tags": []
   },
   "outputs": [],
   "source": [
    "import mnist"
   ]
  },
  {
   "cell_type": "code",
   "execution_count": 5,
   "id": "a411e44f",
   "metadata": {
    "execution": {
     "iopub.execute_input": "2022-05-06T00:34:49.806747Z",
     "iopub.status.busy": "2022-05-06T00:34:49.806247Z",
     "iopub.status.idle": "2022-05-06T00:34:50.475693Z",
     "shell.execute_reply": "2022-05-06T00:34:50.475212Z"
    },
    "papermill": {
     "duration": 0.70079,
     "end_time": "2022-05-06T00:34:50.475812",
     "exception": false,
     "start_time": "2022-05-06T00:34:49.775022",
     "status": "completed"
    },
    "tags": []
   },
   "outputs": [],
   "source": [
    "train_images = mnist.train_images()\n",
    "train_labels = mnist.train_labels()"
   ]
  },
  {
   "cell_type": "code",
   "execution_count": 6,
   "id": "dceab3a5",
   "metadata": {
    "execution": {
     "iopub.execute_input": "2022-05-06T00:34:50.530841Z",
     "iopub.status.busy": "2022-05-06T00:34:50.530319Z",
     "iopub.status.idle": "2022-05-06T00:34:50.543209Z",
     "shell.execute_reply": "2022-05-06T00:34:50.542782Z"
    },
    "papermill": {
     "duration": 0.04301,
     "end_time": "2022-05-06T00:34:50.543312",
     "exception": false,
     "start_time": "2022-05-06T00:34:50.500302",
     "status": "completed"
    },
    "tags": []
   },
   "outputs": [
    {
     "data": {
      "text/plain": [
       "((60000, 28, 28), (60000,))"
      ]
     },
     "execution_count": 6,
     "metadata": {},
     "output_type": "execute_result"
    }
   ],
   "source": [
    "train_images.shape, train_labels.shape"
   ]
  },
  {
   "cell_type": "code",
   "execution_count": 7,
   "id": "f50dc2bb",
   "metadata": {
    "execution": {
     "iopub.execute_input": "2022-05-06T00:34:50.595473Z",
     "iopub.status.busy": "2022-05-06T00:34:50.594977Z",
     "iopub.status.idle": "2022-05-06T00:34:50.826192Z",
     "shell.execute_reply": "2022-05-06T00:34:50.825089Z"
    },
    "papermill": {
     "duration": 0.258624,
     "end_time": "2022-05-06T00:34:50.826328",
     "exception": false,
     "start_time": "2022-05-06T00:34:50.567704",
     "status": "completed"
    },
    "tags": []
   },
   "outputs": [],
   "source": [
    "test_images = mnist.test_images()\n",
    "test_labels = mnist.test_labels()"
   ]
  },
  {
   "cell_type": "code",
   "execution_count": 8,
   "id": "fc38cf1b",
   "metadata": {
    "execution": {
     "iopub.execute_input": "2022-05-06T00:34:50.882744Z",
     "iopub.status.busy": "2022-05-06T00:34:50.879033Z",
     "iopub.status.idle": "2022-05-06T00:34:50.891503Z",
     "shell.execute_reply": "2022-05-06T00:34:50.891076Z"
    },
    "papermill": {
     "duration": 0.039988,
     "end_time": "2022-05-06T00:34:50.891605",
     "exception": false,
     "start_time": "2022-05-06T00:34:50.851617",
     "status": "completed"
    },
    "tags": []
   },
   "outputs": [
    {
     "data": {
      "text/plain": [
       "((10000, 28, 28), (10000,))"
      ]
     },
     "execution_count": 8,
     "metadata": {},
     "output_type": "execute_result"
    }
   ],
   "source": [
    "test_images.shape, test_labels.shape"
   ]
  },
  {
   "cell_type": "code",
   "execution_count": 9,
   "id": "f9ed8fe0",
   "metadata": {
    "execution": {
     "iopub.execute_input": "2022-05-06T00:34:50.944179Z",
     "iopub.status.busy": "2022-05-06T00:34:50.943681Z",
     "iopub.status.idle": "2022-05-06T00:34:51.077347Z",
     "shell.execute_reply": "2022-05-06T00:34:51.077844Z"
    },
    "papermill": {
     "duration": 0.161576,
     "end_time": "2022-05-06T00:34:51.078000",
     "exception": false,
     "start_time": "2022-05-06T00:34:50.916424",
     "status": "completed"
    },
    "tags": []
   },
   "outputs": [
    {
     "name": "stdout",
     "output_type": "stream",
     "text": [
      "2\n"
     ]
    },
    {
     "data": {
      "text/plain": [
       "<matplotlib.image.AxesImage at 0x7f4ff28ba390>"
      ]
     },
     "execution_count": 9,
     "metadata": {},
     "output_type": "execute_result"
    },
    {
     "data": {
      "image/png": "[encoded data removed]",
      "text/plain": [
       "<Figure size 432x288 with 1 Axes>"
      ]
     },
     "metadata": {
      "needs_background": "light"
     },
     "output_type": "display_data"
    }
   ],
   "source": [
    "image_index = 7776 # You may select anything up to 60,000\n",
    "print(train_labels[image_index]) \n",
    "plt.imshow(train_images[image_index], cmap='Greys')"
   ]
  },
  {
   "cell_type": "markdown",
   "id": "a8d2388d",
   "metadata": {
    "papermill": {
     "duration": 0.026605,
     "end_time": "2022-05-06T00:34:51.131003",
     "exception": false,
     "start_time": "2022-05-06T00:34:51.104398",
     "status": "completed"
    },
    "tags": []
   },
   "source": [
    "## Filter data to get 3 and 8 out"
   ]
  },
  {
   "cell_type": "code",
   "execution_count": 10,
   "id": "776f7fc7",
   "metadata": {
    "execution": {
     "iopub.execute_input": "2022-05-06T00:34:51.187306Z",
     "iopub.status.busy": "2022-05-06T00:34:51.186783Z",
     "iopub.status.idle": "2022-05-06T00:34:51.202053Z",
     "shell.execute_reply": "2022-05-06T00:34:51.202488Z"
    },
    "papermill": {
     "duration": 0.04545,
     "end_time": "2022-05-06T00:34:51.202614",
     "exception": false,
     "start_time": "2022-05-06T00:34:51.157164",
     "status": "completed"
    },
    "tags": []
   },
   "outputs": [],
   "source": [
    "train_filter = np.where((train_labels == 3 ) | (train_labels == 8))\n",
    "test_filter = np.where((test_labels == 3) | (test_labels == 8))\n",
    "X_train, y_train = train_images[train_filter], train_labels[train_filter]\n",
    "X_test, y_test = test_images[test_filter], test_labels[test_filter]"
   ]
  },
  {
   "cell_type": "markdown",
   "id": "948f0b7e",
   "metadata": {
    "papermill": {
     "duration": 0.025754,
     "end_time": "2022-05-06T00:34:51.254193",
     "exception": false,
     "start_time": "2022-05-06T00:34:51.228439",
     "status": "completed"
    },
    "tags": []
   },
   "source": [
    "We normalize the pizel values in the 0 to 1 range"
   ]
  },
  {
   "cell_type": "code",
   "execution_count": 11,
   "id": "ee4c2166",
   "metadata": {
    "execution": {
     "iopub.execute_input": "2022-05-06T00:34:51.322295Z",
     "iopub.status.busy": "2022-05-06T00:34:51.318355Z",
     "iopub.status.idle": "2022-05-06T00:34:51.356543Z",
     "shell.execute_reply": "2022-05-06T00:34:51.356046Z"
    },
    "papermill": {
     "duration": 0.076726,
     "end_time": "2022-05-06T00:34:51.356677",
     "exception": false,
     "start_time": "2022-05-06T00:34:51.279951",
     "status": "completed"
    },
    "tags": []
   },
   "outputs": [],
   "source": [
    "X_train = X_train/255.\n",
    "X_test = X_test/255."
   ]
  },
  {
   "cell_type": "markdown",
   "id": "ddcf4fab",
   "metadata": {
    "papermill": {
     "duration": 0.026034,
     "end_time": "2022-05-06T00:34:51.410096",
     "exception": false,
     "start_time": "2022-05-06T00:34:51.384062",
     "status": "completed"
    },
    "tags": []
   },
   "source": [
    "And setup the labels as 1 (when the digit is 3) and 0 (when the digit is 8)"
   ]
  },
  {
   "cell_type": "code",
   "execution_count": 12,
   "id": "7dc908f2",
   "metadata": {
    "execution": {
     "iopub.execute_input": "2022-05-06T00:34:51.465483Z",
     "iopub.status.busy": "2022-05-06T00:34:51.464979Z",
     "iopub.status.idle": "2022-05-06T00:34:51.476950Z",
     "shell.execute_reply": "2022-05-06T00:34:51.476542Z"
    },
    "papermill": {
     "duration": 0.041122,
     "end_time": "2022-05-06T00:34:51.477056",
     "exception": false,
     "start_time": "2022-05-06T00:34:51.435934",
     "status": "completed"
    },
    "tags": []
   },
   "outputs": [],
   "source": [
    "y_train = 1*(y_train==3)\n",
    "y_test = 1*(y_test==3)"
   ]
  },
  {
   "cell_type": "code",
   "execution_count": 13,
   "id": "01e4e969",
   "metadata": {
    "execution": {
     "iopub.execute_input": "2022-05-06T00:34:51.542353Z",
     "iopub.status.busy": "2022-05-06T00:34:51.537932Z",
     "iopub.status.idle": "2022-05-06T00:34:51.547084Z",
     "shell.execute_reply": "2022-05-06T00:34:51.546405Z"
    },
    "papermill": {
     "duration": 0.044156,
     "end_time": "2022-05-06T00:34:51.547190",
     "exception": false,
     "start_time": "2022-05-06T00:34:51.503034",
     "status": "completed"
    },
    "tags": []
   },
   "outputs": [
    {
     "data": {
      "text/plain": [
       "((11982, 28, 28), (1984, 28, 28))"
      ]
     },
     "execution_count": 13,
     "metadata": {},
     "output_type": "execute_result"
    }
   ],
   "source": [
    "X_train.shape, X_test.shape"
   ]
  },
  {
   "cell_type": "markdown",
   "id": "5ccf3f85",
   "metadata": {
    "papermill": {
     "duration": 0.025938,
     "end_time": "2022-05-06T00:34:51.599114",
     "exception": false,
     "start_time": "2022-05-06T00:34:51.573176",
     "status": "completed"
    },
    "tags": []
   },
   "source": [
    "We reshape the data to flatten the image pixels into a set of features or co-variates:"
   ]
  },
  {
   "cell_type": "code",
   "execution_count": 14,
   "id": "5286a4a3",
   "metadata": {
    "execution": {
     "iopub.execute_input": "2022-05-06T00:34:51.655935Z",
     "iopub.status.busy": "2022-05-06T00:34:51.655439Z",
     "iopub.status.idle": "2022-05-06T00:34:51.667541Z",
     "shell.execute_reply": "2022-05-06T00:34:51.667968Z"
    },
    "papermill": {
     "duration": 0.042872,
     "end_time": "2022-05-06T00:34:51.668083",
     "exception": false,
     "start_time": "2022-05-06T00:34:51.625211",
     "status": "completed"
    },
    "tags": []
   },
   "outputs": [
    {
     "data": {
      "text/plain": [
       "((11982, 784), (1984, 784))"
      ]
     },
     "execution_count": 14,
     "metadata": {},
     "output_type": "execute_result"
    }
   ],
   "source": [
    "X_train = X_train.reshape(X_train.shape[0], -1)\n",
    "X_test = X_test.reshape(X_test.shape[0], -1)\n",
    "X_train.shape, X_test.shape"
   ]
  },
  {
   "cell_type": "code",
   "execution_count": 15,
   "id": "73c5f88a",
   "metadata": {
    "execution": {
     "iopub.execute_input": "2022-05-06T00:34:51.724612Z",
     "iopub.status.busy": "2022-05-06T00:34:51.724114Z",
     "iopub.status.idle": "2022-05-06T00:34:51.742022Z",
     "shell.execute_reply": "2022-05-06T00:34:51.742441Z"
    },
    "papermill": {
     "duration": 0.048096,
     "end_time": "2022-05-06T00:34:51.742567",
     "exception": false,
     "start_time": "2022-05-06T00:34:51.694471",
     "status": "completed"
    },
    "tags": []
   },
   "outputs": [],
   "source": [
    "#Impoting functions from 'Kudzu'\n",
    "from kudzu.model import Model\n",
    "from kudzu.train import Learner\n",
    "from kudzu.optim import GD\n",
    "from kudzu.data import Data, Sampler,Dataloader\n",
    "\n",
    "from kudzu.callbacks import AccCallback\n",
    "from kudzu.callbacks import ClfCallback\n",
    "\n",
    "from kudzu.loss import MSE\n",
    "\n",
    "from kudzu.layer import Sigmoid,Relu\n",
    "from kudzu.layer import Affine"
   ]
  },
  {
   "cell_type": "markdown",
   "id": "bc01172a",
   "metadata": {
    "papermill": {
     "duration": 0.026363,
     "end_time": "2022-05-06T00:34:51.796084",
     "exception": false,
     "start_time": "2022-05-06T00:34:51.769721",
     "status": "completed"
    },
    "tags": []
   },
   "source": [
    "### Let us create a `Config` class, to store important parameters. \n",
    "This class essentially plays the role of a dictionary."
   ]
  },
  {
   "cell_type": "code",
   "execution_count": 16,
   "id": "978281aa",
   "metadata": {
    "execution": {
     "iopub.execute_input": "2022-05-06T00:34:51.852139Z",
     "iopub.status.busy": "2022-05-06T00:34:51.851638Z",
     "iopub.status.idle": "2022-05-06T00:34:51.863381Z",
     "shell.execute_reply": "2022-05-06T00:34:51.862981Z"
    },
    "papermill": {
     "duration": 0.040976,
     "end_time": "2022-05-06T00:34:51.863481",
     "exception": false,
     "start_time": "2022-05-06T00:34:51.822505",
     "status": "completed"
    },
    "tags": []
   },
   "outputs": [],
   "source": [
    "class Config:\n",
    "    pass\n",
    "config = Config()\n",
    "config.lr = 0.001\n",
    "config.num_epochs = 250\n",
    "config.bs = 50"
   ]
  },
  {
   "cell_type": "markdown",
   "id": "1385fa59",
   "metadata": {
    "papermill": {
     "duration": 0.026561,
     "end_time": "2022-05-06T00:34:51.916513",
     "exception": false,
     "start_time": "2022-05-06T00:34:51.889952",
     "status": "completed"
    },
    "tags": []
   },
   "source": [
    "### Running Models with the Training data\n",
    "Details about the network layers:\n",
    "- A first affine layer has 784 inputs and does 100 affine transforms. These are followed by a Relu\n",
    "- A second affine layer has 100 inputs from the 100 activations of the past layer, and does 100 affine transforms. These are followed by a Relu\n",
    "- A third affine layer has 100 activations and does 2 affine transformations to create an embedding for visualization. There is no non-linearity here.\n",
    "- A final \"logistic regression\" which has an affine transform from 2 inputs to 1 output, which is squeezed through a sigmoid.\n"
   ]
  },
  {
   "cell_type": "code",
   "execution_count": 17,
   "id": "2b9c66db",
   "metadata": {
    "execution": {
     "iopub.execute_input": "2022-05-06T00:34:51.976758Z",
     "iopub.status.busy": "2022-05-06T00:34:51.976250Z",
     "iopub.status.idle": "2022-05-06T00:34:51.985409Z",
     "shell.execute_reply": "2022-05-06T00:34:51.985834Z"
    },
    "papermill": {
     "duration": 0.042969,
     "end_time": "2022-05-06T00:34:51.985947",
     "exception": false,
     "start_time": "2022-05-06T00:34:51.942978",
     "status": "completed"
    },
    "tags": []
   },
   "outputs": [],
   "source": [
    "data = Data(X_train, y_train.reshape(-1,1))\n",
    "sampler = Sampler(data, config.bs, shuffle=True)\n",
    "\n",
    "dl = Dataloader(data, sampler)\n",
    "\n",
    "opt = GD(config.lr)\n",
    "loss = MSE()"
   ]
  },
  {
   "cell_type": "code",
   "execution_count": 18,
   "id": "b275e4c2",
   "metadata": {
    "execution": {
     "iopub.execute_input": "2022-05-06T00:34:52.041887Z",
     "iopub.status.busy": "2022-05-06T00:34:52.041353Z",
     "iopub.status.idle": "2022-05-06T00:34:52.052795Z",
     "shell.execute_reply": "2022-05-06T00:34:52.052394Z"
    },
    "papermill": {
     "duration": 0.040456,
     "end_time": "2022-05-06T00:34:52.052895",
     "exception": false,
     "start_time": "2022-05-06T00:34:52.012439",
     "status": "completed"
    },
    "tags": []
   },
   "outputs": [],
   "source": [
    "training_data_x = X_train\n",
    "testing_data_x = X_test\n",
    "training_data_y = y_train.reshape(-1,1)\n",
    "testing_data_y = y_test.reshape(-1,1)"
   ]
  },
  {
   "cell_type": "code",
   "execution_count": 19,
   "id": "76951160",
   "metadata": {
    "execution": {
     "iopub.execute_input": "2022-05-06T00:34:52.109139Z",
     "iopub.status.busy": "2022-05-06T00:34:52.108633Z",
     "iopub.status.idle": "2022-05-06T00:34:52.124542Z",
     "shell.execute_reply": "2022-05-06T00:34:52.124142Z"
    },
    "papermill": {
     "duration": 0.045421,
     "end_time": "2022-05-06T00:34:52.124643",
     "exception": false,
     "start_time": "2022-05-06T00:34:52.079222",
     "status": "completed"
    },
    "tags": []
   },
   "outputs": [
    {
     "name": "stdout",
     "output_type": "stream",
     "text": [
      "xavier\n",
      "xavier\n",
      "xavier\n",
      "xavier\n",
      "xavier\n"
     ]
    }
   ],
   "source": [
    "layers = [Affine(\"first\", 784, 100), Relu(\"first\"), Affine(\"second\", 100, 100), Relu(\"second\"), Affine(\"third\", 100, 2), Affine(\"last\", 2, 1), Sigmoid(\"last\")]\n",
    "model_nn = Model(layers)\n",
    "model_lr = Model([Affine(\"logits\", 784, 1), Sigmoid(\"sigmoid\")])"
   ]
  },
  {
   "cell_type": "code",
   "execution_count": 20,
   "id": "6eede77a",
   "metadata": {
    "execution": {
     "iopub.execute_input": "2022-05-06T00:34:52.184296Z",
     "iopub.status.busy": "2022-05-06T00:34:52.183799Z",
     "iopub.status.idle": "2022-05-06T00:34:52.194077Z",
     "shell.execute_reply": "2022-05-06T00:34:52.193673Z"
    },
    "papermill": {
     "duration": 0.042883,
     "end_time": "2022-05-06T00:34:52.194179",
     "exception": false,
     "start_time": "2022-05-06T00:34:52.151296",
     "status": "completed"
    },
    "tags": []
   },
   "outputs": [],
   "source": [
    "nn_learner = Learner(loss, model_nn, opt, config.num_epochs)\n",
    "acc_nn = ClfCallback(nn_learner, config.bs, training_data_x , testing_data_x, training_data_y, testing_data_y)\n",
    "nn_learner.set_callbacks([acc_nn])"
   ]
  },
  {
   "cell_type": "code",
   "execution_count": 21,
   "id": "877b6cc7",
   "metadata": {
    "execution": {
     "iopub.execute_input": "2022-05-06T00:34:52.260526Z",
     "iopub.status.busy": "2022-05-06T00:34:52.260029Z",
     "iopub.status.idle": "2022-05-06T00:34:52.266533Z",
     "shell.execute_reply": "2022-05-06T00:34:52.266131Z"
    },
    "papermill": {
     "duration": 0.045764,
     "end_time": "2022-05-06T00:34:52.266631",
     "exception": false,
     "start_time": "2022-05-06T00:34:52.220867",
     "status": "completed"
    },
    "tags": []
   },
   "outputs": [],
   "source": [
    "lr_learner = Learner(loss, model_lr, opt, config.num_epochs)\n",
    "acc_lr = ClfCallback(lr_learner, config.bs, training_data_x , testing_data_x, training_data_y, testing_data_y)\n",
    "lr_learner.set_callbacks([acc_lr])"
   ]
  },
  {
   "cell_type": "code",
   "execution_count": 22,
   "id": "d9b133c3",
   "metadata": {
    "execution": {
     "iopub.execute_input": "2022-05-06T00:34:52.322918Z",
     "iopub.status.busy": "2022-05-06T00:34:52.322348Z",
     "iopub.status.idle": "2022-05-06T00:36:05.998002Z",
     "shell.execute_reply": "2022-05-06T00:36:05.998458Z"
    },
    "papermill": {
     "duration": 73.7053,
     "end_time": "2022-05-06T00:36:05.998607",
     "exception": false,
     "start_time": "2022-05-06T00:34:52.293307",
     "status": "completed"
    },
    "tags": []
   },
   "outputs": [
    {
     "name": "stdout",
     "output_type": "stream",
     "text": [
      "Epoch 0, Loss 0.245\n",
      "Training Accuracy: 0.6285, Testing Accuracy: 0.6144\n",
      "\n"
     ]
    },
    {
     "name": "stdout",
     "output_type": "stream",
     "text": [
      "Epoch 10, Loss 0.2017\n",
      "Training Accuracy: 0.8676, Testing Accuracy: 0.8679\n",
      "\n"
     ]
    },
    {
     "name": "stdout",
     "output_type": "stream",
     "text": [
      "Epoch 20, Loss 0.1082\n",
      "Training Accuracy: 0.9040, Testing Accuracy: 0.9138\n",
      "\n"
     ]
    },
    {
     "name": "stdout",
     "output_type": "stream",
     "text": [
      "Epoch 30, Loss 0.0673\n",
      "Training Accuracy: 0.9281, Testing Accuracy: 0.9345\n",
      "\n"
     ]
    },
    {
     "name": "stdout",
     "output_type": "stream",
     "text": [
      "Epoch 40, Loss 0.0516\n",
      "Training Accuracy: 0.9417, Testing Accuracy: 0.9466\n",
      "\n"
     ]
    },
    {
     "name": "stdout",
     "output_type": "stream",
     "text": [
      "Epoch 50, Loss 0.0435\n",
      "Training Accuracy: 0.9498, Testing Accuracy: 0.9556\n",
      "\n"
     ]
    },
    {
     "name": "stdout",
     "output_type": "stream",
     "text": [
      "Epoch 60, Loss 0.0387\n",
      "Training Accuracy: 0.9547, Testing Accuracy: 0.9572\n",
      "\n"
     ]
    },
    {
     "name": "stdout",
     "output_type": "stream",
     "text": [
      "Epoch 70, Loss 0.0354\n",
      "Training Accuracy: 0.9584, Testing Accuracy: 0.9612\n",
      "\n"
     ]
    },
    {
     "name": "stdout",
     "output_type": "stream",
     "text": [
      "Epoch 80, Loss 0.0331\n",
      "Training Accuracy: 0.9616, Testing Accuracy: 0.9617\n",
      "\n"
     ]
    },
    {
     "name": "stdout",
     "output_type": "stream",
     "text": [
      "Epoch 90, Loss 0.0313\n",
      "Training Accuracy: 0.9631, Testing Accuracy: 0.9647\n",
      "\n"
     ]
    },
    {
     "name": "stdout",
     "output_type": "stream",
     "text": [
      "Epoch 100, Loss 0.0298\n",
      "Training Accuracy: 0.9652, Testing Accuracy: 0.9647\n",
      "\n"
     ]
    },
    {
     "name": "stdout",
     "output_type": "stream",
     "text": [
      "Epoch 110, Loss 0.0286\n",
      "Training Accuracy: 0.9670, Testing Accuracy: 0.9657\n",
      "\n"
     ]
    },
    {
     "name": "stdout",
     "output_type": "stream",
     "text": [
      "Epoch 120, Loss 0.0276\n",
      "Training Accuracy: 0.9679, Testing Accuracy: 0.9672\n",
      "\n"
     ]
    },
    {
     "name": "stdout",
     "output_type": "stream",
     "text": [
      "Epoch 130, Loss 0.0266\n",
      "Training Accuracy: 0.9694, Testing Accuracy: 0.9677\n",
      "\n"
     ]
    },
    {
     "name": "stdout",
     "output_type": "stream",
     "text": [
      "Epoch 140, Loss 0.0258\n",
      "Training Accuracy: 0.9705, Testing Accuracy: 0.9688\n",
      "\n"
     ]
    },
    {
     "name": "stdout",
     "output_type": "stream",
     "text": [
      "Epoch 150, Loss 0.0251\n",
      "Training Accuracy: 0.9714, Testing Accuracy: 0.9693\n",
      "\n"
     ]
    },
    {
     "name": "stdout",
     "output_type": "stream",
     "text": [
      "Epoch 160, Loss 0.0244\n",
      "Training Accuracy: 0.9725, Testing Accuracy: 0.9682\n",
      "\n"
     ]
    },
    {
     "name": "stdout",
     "output_type": "stream",
     "text": [
      "Epoch 170, Loss 0.0237\n",
      "Training Accuracy: 0.9736, Testing Accuracy: 0.9682\n",
      "\n"
     ]
    },
    {
     "name": "stdout",
     "output_type": "stream",
     "text": [
      "Epoch 180, Loss 0.0232\n",
      "Training Accuracy: 0.9741, Testing Accuracy: 0.9688\n",
      "\n"
     ]
    },
    {
     "name": "stdout",
     "output_type": "stream",
     "text": [
      "Epoch 190, Loss 0.0226\n",
      "Training Accuracy: 0.9745, Testing Accuracy: 0.9703\n",
      "\n"
     ]
    },
    {
     "name": "stdout",
     "output_type": "stream",
     "text": [
      "Epoch 200, Loss 0.0221\n",
      "Training Accuracy: 0.9750, Testing Accuracy: 0.9703\n",
      "\n"
     ]
    },
    {
     "name": "stdout",
     "output_type": "stream",
     "text": [
      "Epoch 210, Loss 0.0216\n",
      "Training Accuracy: 0.9755, Testing Accuracy: 0.9708\n",
      "\n"
     ]
    },
    {
     "name": "stdout",
     "output_type": "stream",
     "text": [
      "Epoch 220, Loss 0.0212\n",
      "Training Accuracy: 0.9761, Testing Accuracy: 0.9708\n",
      "\n"
     ]
    },
    {
     "name": "stdout",
     "output_type": "stream",
     "text": [
      "Epoch 230, Loss 0.0208\n",
      "Training Accuracy: 0.9765, Testing Accuracy: 0.9713\n",
      "\n"
     ]
    },
    {
     "name": "stdout",
     "output_type": "stream",
     "text": [
      "Epoch 240, Loss 0.0203\n",
      "Training Accuracy: 0.9775, Testing Accuracy: 0.9718\n",
      "\n"
     ]
    },
    {
     "data": {
      "text/plain": [
       "0.004234525285603308"
      ]
     },
     "execution_count": 22,
     "metadata": {},
     "output_type": "execute_result"
    }
   ],
   "source": [
    "nn_learner.train_loop(dl)"
   ]
  },
  {
   "cell_type": "code",
   "execution_count": 23,
   "id": "e0163366",
   "metadata": {
    "execution": {
     "iopub.execute_input": "2022-05-06T00:36:06.096342Z",
     "iopub.status.busy": "2022-05-06T00:36:06.095778Z",
     "iopub.status.idle": "2022-05-06T00:36:19.154499Z",
     "shell.execute_reply": "2022-05-06T00:36:19.154986Z"
    },
    "papermill": {
     "duration": 13.122158,
     "end_time": "2022-05-06T00:36:19.155121",
     "exception": false,
     "start_time": "2022-05-06T00:36:06.032963",
     "status": "completed"
    },
    "tags": []
   },
   "outputs": [
    {
     "name": "stdout",
     "output_type": "stream",
     "text": [
      "Epoch 0, Loss 0.2371\n",
      "Training Accuracy: 0.6970, Testing Accuracy: 0.7263\n",
      "\n"
     ]
    },
    {
     "name": "stdout",
     "output_type": "stream",
     "text": [
      "Epoch 10, Loss 0.099\n",
      "Training Accuracy: 0.9176, Testing Accuracy: 0.9289\n",
      "\n"
     ]
    },
    {
     "name": "stdout",
     "output_type": "stream",
     "text": [
      "Epoch 20, Loss 0.0772\n",
      "Training Accuracy: 0.9291, Testing Accuracy: 0.9390\n",
      "\n"
     ]
    },
    {
     "name": "stdout",
     "output_type": "stream",
     "text": [
      "Epoch 30, Loss 0.0672\n",
      "Training Accuracy: 0.9362, Testing Accuracy: 0.9441\n",
      "\n"
     ]
    },
    {
     "name": "stdout",
     "output_type": "stream",
     "text": [
      "Epoch 40, Loss 0.0611\n",
      "Training Accuracy: 0.9399, Testing Accuracy: 0.9481\n",
      "\n"
     ]
    },
    {
     "name": "stdout",
     "output_type": "stream",
     "text": [
      "Epoch 50, Loss 0.057\n",
      "Training Accuracy: 0.9434, Testing Accuracy: 0.9516\n",
      "\n"
     ]
    },
    {
     "name": "stdout",
     "output_type": "stream",
     "text": [
      "Epoch 60, Loss 0.0538\n",
      "Training Accuracy: 0.9457, Testing Accuracy: 0.9541\n",
      "\n"
     ]
    },
    {
     "name": "stdout",
     "output_type": "stream",
     "text": [
      "Epoch 70, Loss 0.0514\n",
      "Training Accuracy: 0.9473, Testing Accuracy: 0.9567\n",
      "\n"
     ]
    },
    {
     "name": "stdout",
     "output_type": "stream",
     "text": [
      "Epoch 80, Loss 0.0494\n",
      "Training Accuracy: 0.9493, Testing Accuracy: 0.9572\n",
      "\n"
     ]
    },
    {
     "name": "stdout",
     "output_type": "stream",
     "text": [
      "Epoch 90, Loss 0.0478\n",
      "Training Accuracy: 0.9503, Testing Accuracy: 0.9587\n",
      "\n"
     ]
    },
    {
     "name": "stdout",
     "output_type": "stream",
     "text": [
      "Epoch 100, Loss 0.0464\n",
      "Training Accuracy: 0.9512, Testing Accuracy: 0.9582\n",
      "\n"
     ]
    },
    {
     "name": "stdout",
     "output_type": "stream",
     "text": [
      "Epoch 110, Loss 0.0452\n",
      "Training Accuracy: 0.9523, Testing Accuracy: 0.9597\n",
      "\n"
     ]
    },
    {
     "name": "stdout",
     "output_type": "stream",
     "text": [
      "Epoch 120, Loss 0.0442\n",
      "Training Accuracy: 0.9535, Testing Accuracy: 0.9612\n",
      "\n"
     ]
    },
    {
     "name": "stdout",
     "output_type": "stream",
     "text": [
      "Epoch 130, Loss 0.0432\n",
      "Training Accuracy: 0.9542, Testing Accuracy: 0.9612\n",
      "\n"
     ]
    },
    {
     "name": "stdout",
     "output_type": "stream",
     "text": [
      "Epoch 140, Loss 0.0424\n",
      "Training Accuracy: 0.9548, Testing Accuracy: 0.9612\n",
      "\n"
     ]
    },
    {
     "name": "stdout",
     "output_type": "stream",
     "text": [
      "Epoch 150, Loss 0.0417\n",
      "Training Accuracy: 0.9552, Testing Accuracy: 0.9617\n",
      "\n"
     ]
    },
    {
     "name": "stdout",
     "output_type": "stream",
     "text": [
      "Epoch 160, Loss 0.041\n",
      "Training Accuracy: 0.9562, Testing Accuracy: 0.9617\n",
      "\n"
     ]
    },
    {
     "name": "stdout",
     "output_type": "stream",
     "text": [
      "Epoch 170, Loss 0.0404\n",
      "Training Accuracy: 0.9569, Testing Accuracy: 0.9622\n",
      "\n"
     ]
    },
    {
     "name": "stdout",
     "output_type": "stream",
     "text": [
      "Epoch 180, Loss 0.0398\n",
      "Training Accuracy: 0.9576, Testing Accuracy: 0.9632\n",
      "\n"
     ]
    },
    {
     "name": "stdout",
     "output_type": "stream",
     "text": [
      "Epoch 190, Loss 0.0393\n",
      "Training Accuracy: 0.9579, Testing Accuracy: 0.9632\n",
      "\n"
     ]
    },
    {
     "name": "stdout",
     "output_type": "stream",
     "text": [
      "Epoch 200, Loss 0.0388\n",
      "Training Accuracy: 0.9584, Testing Accuracy: 0.9632\n",
      "\n"
     ]
    },
    {
     "name": "stdout",
     "output_type": "stream",
     "text": [
      "Epoch 210, Loss 0.0384\n",
      "Training Accuracy: 0.9587, Testing Accuracy: 0.9642\n",
      "\n"
     ]
    },
    {
     "name": "stdout",
     "output_type": "stream",
     "text": [
      "Epoch 220, Loss 0.038\n",
      "Training Accuracy: 0.9589, Testing Accuracy: 0.9642\n",
      "\n"
     ]
    },
    {
     "name": "stdout",
     "output_type": "stream",
     "text": [
      "Epoch 230, Loss 0.0376\n",
      "Training Accuracy: 0.9595, Testing Accuracy: 0.9647\n",
      "\n"
     ]
    },
    {
     "name": "stdout",
     "output_type": "stream",
     "text": [
      "Epoch 240, Loss 0.0372\n",
      "Training Accuracy: 0.9599, Testing Accuracy: 0.9657\n",
      "\n"
     ]
    },
    {
     "data": {
      "text/plain": [
       "0.02579693916436513"
      ]
     },
     "execution_count": 23,
     "metadata": {},
     "output_type": "execute_result"
    }
   ],
   "source": [
    "lr_learner.train_loop(dl)"
   ]
  },
  {
   "cell_type": "code",
   "execution_count": 24,
   "id": "ca410940",
   "metadata": {
    "execution": {
     "iopub.execute_input": "2022-05-06T00:36:19.246930Z",
     "iopub.status.busy": "2022-05-06T00:36:19.246416Z",
     "iopub.status.idle": "2022-05-06T00:36:19.472041Z",
     "shell.execute_reply": "2022-05-06T00:36:19.471375Z"
    },
    "papermill": {
     "duration": 0.276358,
     "end_time": "2022-05-06T00:36:19.472161",
     "exception": false,
     "start_time": "2022-05-06T00:36:19.195803",
     "status": "completed"
    },
    "tags": []
   },
   "outputs": [
    {
     "data": {
      "text/plain": [
       "<matplotlib.legend.Legend at 0x7f4fe5cebb70>"
      ]
     },
     "execution_count": 24,
     "metadata": {},
     "output_type": "execute_result"
    },
    {
     "data": {
      "image/png": "[encoded data removed]",
      "text/plain": [
       "<Figure size 1080x720 with 1 Axes>"
      ]
     },
     "metadata": {
      "needs_background": "light"
     },
     "output_type": "display_data"
    }
   ],
   "source": [
    "#comparing the results of NN and LR\n",
    "plt.figure(figsize=(15,10))\n",
    "\n",
    "# Neural Network plots\n",
    "plt.plot(acc_nn.accuracies, 'r-', label = \"Training Accuracies - NN\")\n",
    "plt.plot(acc_nn.test_accuracies, 'g-', label = \"Testing Accuracies - NN\")\n",
    "\n",
    "# Logistic Regression plots\n",
    "plt.plot(acc_lr.accuracies, 'k-', label = \"Training Accuracies - LR\")\n",
    "plt.plot(acc_lr.test_accuracies, 'b-', label = \"Testing Accuracies - LR\")\n",
    "plt.legend()"
   ]
  },
  {
   "cell_type": "markdown",
   "id": "80dfb35c",
   "metadata": {
    "papermill": {
     "duration": 0.041232,
     "end_time": "2022-05-06T00:36:19.555653",
     "exception": false,
     "start_time": "2022-05-06T00:36:19.514421",
     "status": "completed"
    },
    "tags": []
   },
   "source": [
    "#### Plotting the outputs of this layer of the NN.\n"
   ]
  },
  {
   "cell_type": "code",
   "execution_count": 25,
   "id": "45eb2ff5",
   "metadata": {
    "execution": {
     "iopub.execute_input": "2022-05-06T00:36:19.642534Z",
     "iopub.status.busy": "2022-05-06T00:36:19.642006Z",
     "iopub.status.idle": "2022-05-06T00:36:19.660676Z",
     "shell.execute_reply": "2022-05-06T00:36:19.661082Z"
    },
    "papermill": {
     "duration": 0.064299,
     "end_time": "2022-05-06T00:36:19.661202",
     "exception": false,
     "start_time": "2022-05-06T00:36:19.596903",
     "status": "completed"
    },
    "tags": []
   },
   "outputs": [],
   "source": [
    "new_model = Model(layers[:-2])\n",
    "testing_plot = new_model(testing_data_x)"
   ]
  },
  {
   "cell_type": "code",
   "execution_count": 26,
   "id": "4c0a5485",
   "metadata": {
    "execution": {
     "iopub.execute_input": "2022-05-06T00:36:19.747967Z",
     "iopub.status.busy": "2022-05-06T00:36:19.747461Z",
     "iopub.status.idle": "2022-05-06T00:36:19.939926Z",
     "shell.execute_reply": "2022-05-06T00:36:19.940313Z"
    },
    "papermill": {
     "duration": 0.237755,
     "end_time": "2022-05-06T00:36:19.940447",
     "exception": false,
     "start_time": "2022-05-06T00:36:19.702692",
     "status": "completed"
    },
    "tags": []
   },
   "outputs": [
    {
     "data": {
      "text/plain": [
       "Text(0.5, 1.0, 'Outputs')"
      ]
     },
     "execution_count": 26,
     "metadata": {},
     "output_type": "execute_result"
    },
    {
     "data": {
      "image/png": "[encoded data removed]",
      "text/plain": [
       "<Figure size 576x504 with 1 Axes>"
      ]
     },
     "metadata": {
      "needs_background": "light"
     },
     "output_type": "display_data"
    }
   ],
   "source": [
    "# Plotting the scatter plot of points and color coding by class\n",
    "plt.figure(figsize=(8,7))\n",
    "plt.scatter(testing_plot[:,0], testing_plot[:,1], alpha = 0.1, c = y_test.ravel());\n",
    "plt.title('Outputs')"
   ]
  },
  {
   "cell_type": "markdown",
   "id": "a74fcf8f",
   "metadata": {
    "papermill": {
     "duration": 0.042945,
     "end_time": "2022-05-06T00:36:20.026728",
     "exception": false,
     "start_time": "2022-05-06T00:36:19.983783",
     "status": "completed"
    },
    "tags": []
   },
   "source": [
    "Probability contours"
   ]
  },
  {
   "cell_type": "code",
   "execution_count": 27,
   "id": "d0afc8e3",
   "metadata": {
    "execution": {
     "iopub.execute_input": "2022-05-06T00:36:20.127581Z",
     "iopub.status.busy": "2022-05-06T00:36:20.126722Z",
     "iopub.status.idle": "2022-05-06T00:36:20.131806Z",
     "shell.execute_reply": "2022-05-06T00:36:20.132186Z"
    },
    "papermill": {
     "duration": 0.062432,
     "end_time": "2022-05-06T00:36:20.132310",
     "exception": false,
     "start_time": "2022-05-06T00:36:20.069878",
     "status": "completed"
    },
    "tags": []
   },
   "outputs": [],
   "source": [
    "model_prob = Model(layers[-2:]) "
   ]
  },
  {
   "cell_type": "code",
   "execution_count": 28,
   "id": "9b96e238",
   "metadata": {
    "execution": {
     "iopub.execute_input": "2022-05-06T00:36:20.233352Z",
     "iopub.status.busy": "2022-05-06T00:36:20.232837Z",
     "iopub.status.idle": "2022-05-06T00:36:20.240864Z",
     "shell.execute_reply": "2022-05-06T00:36:20.240366Z"
    },
    "papermill": {
     "duration": 0.065378,
     "end_time": "2022-05-06T00:36:20.240968",
     "exception": false,
     "start_time": "2022-05-06T00:36:20.175590",
     "status": "completed"
    },
    "tags": []
   },
   "outputs": [],
   "source": [
    "#creating the x and y ranges according to the above generated plot.\n",
    "x_range = np.linspace(-4, 1, 100) \n",
    "y_range = np.linspace(-6, 6, 100) \n",
    "x_grid, y_grid = np.meshgrid(x_range, y_range) # x_grid and y_grig are of size 100 X 100\n",
    "\n",
    "# converting x_grid and y_grid to continuous arrays\n",
    "x_gridflat = np.ravel(x_grid)\n",
    "y_gridflat = np.ravel(y_grid)\n",
    "\n",
    "# The last layer of the current model takes two columns as input. Hence transpose of np.vstack() is required.\n",
    "X = np.vstack((x_gridflat, y_gridflat)).T\n",
    "\n",
    "prob_contour = model_prob(X).reshape(100,100) "
   ]
  },
  {
   "cell_type": "code",
   "execution_count": 29,
   "id": "da72499a",
   "metadata": {
    "execution": {
     "iopub.execute_input": "2022-05-06T00:36:20.356731Z",
     "iopub.status.busy": "2022-05-06T00:36:20.356215Z",
     "iopub.status.idle": "2022-05-06T00:36:20.600814Z",
     "shell.execute_reply": "2022-05-06T00:36:20.601284Z"
    },
    "papermill": {
     "duration": 0.316775,
     "end_time": "2022-05-06T00:36:20.601430",
     "exception": false,
     "start_time": "2022-05-06T00:36:20.284655",
     "status": "completed"
    },
    "tags": []
   },
   "outputs": [
    {
     "data": {
      "image/png": "[encoded data removed]",
      "text/plain": [
       "<Figure size 720x648 with 1 Axes>"
      ]
     },
     "metadata": {
      "needs_background": "light"
     },
     "output_type": "display_data"
    }
   ],
   "source": [
    "plt.figure(figsize=(10,9))\n",
    "plt.scatter(testing_plot[:,0], testing_plot[:,1], alpha = 0.1, c = y_test.ravel())\n",
    "contours = plt.contour(x_grid,y_grid,prob_contour)\n",
    "plt.title('Probability Contours')\n",
    "plt.clabel(contours, inline = True );"
   ]
  },
  {
   "cell_type": "code",
   "execution_count": null,
   "id": "e81b4ac7",
   "metadata": {
    "papermill": {
     "duration": 0.045565,
     "end_time": "2022-05-06T00:36:20.693311",
     "exception": false,
     "start_time": "2022-05-06T00:36:20.647746",
     "status": "completed"
    },
    "tags": []
   },
   "outputs": [],
   "source": []
  }
 ],
 "metadata": {
  "kernelspec": {
   "display_name": "Python 3",
   "language": "python",
   "name": "python3"
  },
  "language_info": {
   "codemirror_mode": {
    "name": "ipython",
    "version": 3
   },
   "file_extension": ".py",
   "mimetype": "text/x-python",
   "name": "python",
   "nbconvert_exporter": "python",
   "pygments_lexer": "ipython3",
   "version": "3.6.15"
  },
  "papermill": {
   "default_parameters": {},
   "duration": 94.868886,
   "end_time": "2022-05-06T00:36:21.056582",
   "environment_variables": {},
   "exception": null,
   "input_path": "2020-08-11-part2.ipynb",
   "output_path": "2020-08-11-part2.ipynb",
   "parameters": {},
   "start_time": "2022-05-06T00:34:46.187696",
   "version": "2.3.3"
  }
 },
 "nbformat": 4,
 "nbformat_minor": 5
}