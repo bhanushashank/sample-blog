{
 "cells": [
  {
   "cell_type": "markdown",
   "id": "98380cd3",
   "metadata": {
    "papermill": {
     "duration": 0.031369,
     "end_time": "2021-11-14T10:07:53.012186",
     "exception": false,
     "start_time": "2021-11-14T10:07:52.980817",
     "status": "completed"
    },
    "tags": []
   },
   "source": [
    "# Distinguish Your Own Digits (DYOD)"
   ]
  },
  {
   "cell_type": "markdown",
   "id": "ef31240d",
   "metadata": {
    "papermill": {
     "duration": 0.028187,
     "end_time": "2021-11-14T10:07:53.066180",
     "exception": false,
     "start_time": "2021-11-14T10:07:53.037993",
     "status": "completed"
    },
    "tags": []
   },
   "source": [
    "You are going to write a classifier that distinguishes between the number 3 and number 8."
   ]
  },
  {
   "cell_type": "code",
   "execution_count": 1,
   "id": "b15c8646",
   "metadata": {
    "execution": {
     "iopub.execute_input": "2021-11-14T10:07:53.129622Z",
     "iopub.status.busy": "2021-11-14T10:07:53.129037Z",
     "iopub.status.idle": "2021-11-14T10:07:53.139145Z",
     "shell.execute_reply": "2021-11-14T10:07:53.139774Z"
    },
    "papermill": {
     "duration": 0.049152,
     "end_time": "2021-11-14T10:07:53.139942",
     "exception": false,
     "start_time": "2021-11-14T10:07:53.090790",
     "status": "completed"
    },
    "tags": []
   },
   "outputs": [],
   "source": [
    "%load_ext autoreload\n",
    "%autoreload 2"
   ]
  },
  {
   "cell_type": "code",
   "execution_count": 2,
   "id": "22ef38dc",
   "metadata": {
    "execution": {
     "iopub.execute_input": "2021-11-14T10:07:53.203102Z",
     "iopub.status.busy": "2021-11-14T10:07:53.202495Z",
     "iopub.status.idle": "2021-11-14T10:07:53.761305Z",
     "shell.execute_reply": "2021-11-14T10:07:53.760789Z"
    },
    "papermill": {
     "duration": 0.593378,
     "end_time": "2021-11-14T10:07:53.761517",
     "exception": false,
     "start_time": "2021-11-14T10:07:53.168139",
     "status": "completed"
    },
    "tags": []
   },
   "outputs": [],
   "source": [
    "%matplotlib inline\n",
    "import numpy as np\n",
    "import matplotlib.pyplot as plt\n",
    "import pandas as pd"
   ]
  },
  {
   "cell_type": "markdown",
   "id": "ba036198",
   "metadata": {
    "papermill": {
     "duration": 0.027516,
     "end_time": "2021-11-14T10:07:53.819877",
     "exception": false,
     "start_time": "2021-11-14T10:07:53.792361",
     "status": "completed"
    },
    "tags": []
   },
   "source": [
    "From the command line run `pip install mnist`. This is a library that will help you bring down the mnist dataset. If you run this from a notebook, you need to put  `!pip install mnist` in a cell by itself."
   ]
  },
  {
   "cell_type": "code",
   "execution_count": 3,
   "id": "bb6ad8a1",
   "metadata": {
    "execution": {
     "iopub.execute_input": "2021-11-14T10:07:53.884018Z",
     "iopub.status.busy": "2021-11-14T10:07:53.883401Z",
     "iopub.status.idle": "2021-11-14T10:07:55.818301Z",
     "shell.execute_reply": "2021-11-14T10:07:55.818976Z"
    },
    "papermill": {
     "duration": 1.972052,
     "end_time": "2021-11-14T10:07:55.819130",
     "exception": false,
     "start_time": "2021-11-14T10:07:53.847078",
     "status": "completed"
    },
    "tags": []
   },
   "outputs": [
    {
     "name": "stdout",
     "output_type": "stream",
     "text": [
      "Collecting mnist\r\n"
     ]
    },
    {
     "name": "stdout",
     "output_type": "stream",
     "text": [
      "  Downloading mnist-0.2.2-py2.py3-none-any.whl (3.5 kB)\r\n",
      "Requirement already satisfied: numpy in /opt/hostedtoolcache/Python/3.6.15/x64/lib/python3.6/site-packages (from mnist) (1.19.5)\r\n"
     ]
    },
    {
     "name": "stdout",
     "output_type": "stream",
     "text": [
      "Installing collected packages: mnist\r\n",
      "Successfully installed mnist-0.2.2\r\n"
     ]
    }
   ],
   "source": [
    "!pip install mnist"
   ]
  },
  {
   "cell_type": "markdown",
   "id": "69df9c9a",
   "metadata": {
    "papermill": {
     "duration": 0.030837,
     "end_time": "2021-11-14T10:07:55.879158",
     "exception": false,
     "start_time": "2021-11-14T10:07:55.848321",
     "status": "completed"
    },
    "tags": []
   },
   "source": [
    "## Preparing the Data"
   ]
  },
  {
   "cell_type": "code",
   "execution_count": 4,
   "id": "7f69d806",
   "metadata": {
    "execution": {
     "iopub.execute_input": "2021-11-14T10:07:55.940859Z",
     "iopub.status.busy": "2021-11-14T10:07:55.940183Z",
     "iopub.status.idle": "2021-11-14T10:07:55.955623Z",
     "shell.execute_reply": "2021-11-14T10:07:55.956250Z"
    },
    "papermill": {
     "duration": 0.049015,
     "end_time": "2021-11-14T10:07:55.956386",
     "exception": false,
     "start_time": "2021-11-14T10:07:55.907371",
     "status": "completed"
    },
    "tags": []
   },
   "outputs": [],
   "source": [
    "import mnist"
   ]
  },
  {
   "cell_type": "code",
   "execution_count": 5,
   "id": "a411e44f",
   "metadata": {
    "execution": {
     "iopub.execute_input": "2021-11-14T10:07:56.022201Z",
     "iopub.status.busy": "2021-11-14T10:07:56.021489Z",
     "iopub.status.idle": "2021-11-14T10:07:56.671315Z",
     "shell.execute_reply": "2021-11-14T10:07:56.669956Z"
    },
    "papermill": {
     "duration": 0.684297,
     "end_time": "2021-11-14T10:07:56.671494",
     "exception": false,
     "start_time": "2021-11-14T10:07:55.987197",
     "status": "completed"
    },
    "tags": []
   },
   "outputs": [],
   "source": [
    "train_images = mnist.train_images()\n",
    "train_labels = mnist.train_labels()"
   ]
  },
  {
   "cell_type": "code",
   "execution_count": 6,
   "id": "dceab3a5",
   "metadata": {
    "execution": {
     "iopub.execute_input": "2021-11-14T10:07:56.745983Z",
     "iopub.status.busy": "2021-11-14T10:07:56.739861Z",
     "iopub.status.idle": "2021-11-14T10:07:56.757858Z",
     "shell.execute_reply": "2021-11-14T10:07:56.757221Z"
    },
    "papermill": {
     "duration": 0.054259,
     "end_time": "2021-11-14T10:07:56.757984",
     "exception": false,
     "start_time": "2021-11-14T10:07:56.703725",
     "status": "completed"
    },
    "tags": []
   },
   "outputs": [
    {
     "data": {
      "text/plain": [
       "((60000, 28, 28), (60000,))"
      ]
     },
     "execution_count": 6,
     "metadata": {},
     "output_type": "execute_result"
    }
   ],
   "source": [
    "train_images.shape, train_labels.shape"
   ]
  },
  {
   "cell_type": "code",
   "execution_count": 7,
   "id": "f50dc2bb",
   "metadata": {
    "execution": {
     "iopub.execute_input": "2021-11-14T10:07:56.827203Z",
     "iopub.status.busy": "2021-11-14T10:07:56.826571Z",
     "iopub.status.idle": "2021-11-14T10:07:57.035497Z",
     "shell.execute_reply": "2021-11-14T10:07:57.036023Z"
    },
    "papermill": {
     "duration": 0.245118,
     "end_time": "2021-11-14T10:07:57.036180",
     "exception": false,
     "start_time": "2021-11-14T10:07:56.791062",
     "status": "completed"
    },
    "tags": []
   },
   "outputs": [],
   "source": [
    "test_images = mnist.test_images()\n",
    "test_labels = mnist.test_labels()"
   ]
  },
  {
   "cell_type": "code",
   "execution_count": 8,
   "id": "fc38cf1b",
   "metadata": {
    "execution": {
     "iopub.execute_input": "2021-11-14T10:07:57.105326Z",
     "iopub.status.busy": "2021-11-14T10:07:57.104510Z",
     "iopub.status.idle": "2021-11-14T10:07:57.120341Z",
     "shell.execute_reply": "2021-11-14T10:07:57.119814Z"
    },
    "papermill": {
     "duration": 0.05239,
     "end_time": "2021-11-14T10:07:57.120489",
     "exception": false,
     "start_time": "2021-11-14T10:07:57.068099",
     "status": "completed"
    },
    "tags": []
   },
   "outputs": [
    {
     "data": {
      "text/plain": [
       "((10000, 28, 28), (10000,))"
      ]
     },
     "execution_count": 8,
     "metadata": {},
     "output_type": "execute_result"
    }
   ],
   "source": [
    "test_images.shape, test_labels.shape"
   ]
  },
  {
   "cell_type": "code",
   "execution_count": 9,
   "id": "f9ed8fe0",
   "metadata": {
    "execution": {
     "iopub.execute_input": "2021-11-14T10:07:57.192706Z",
     "iopub.status.busy": "2021-11-14T10:07:57.191917Z",
     "iopub.status.idle": "2021-11-14T10:07:57.380239Z",
     "shell.execute_reply": "2021-11-14T10:07:57.379770Z"
    },
    "papermill": {
     "duration": 0.226446,
     "end_time": "2021-11-14T10:07:57.380367",
     "exception": false,
     "start_time": "2021-11-14T10:07:57.153921",
     "status": "completed"
    },
    "tags": []
   },
   "outputs": [
    {
     "name": "stdout",
     "output_type": "stream",
     "text": [
      "2\n"
     ]
    },
    {
     "data": {
      "text/plain": [
       "<matplotlib.image.AxesImage at 0x7faf31067160>"
      ]
     },
     "execution_count": 9,
     "metadata": {},
     "output_type": "execute_result"
    },
    {
     "data": {
      "image/png": "[encoded data removed]",
      "text/plain": [
       "<Figure size 432x288 with 1 Axes>"
      ]
     },
     "metadata": {
      "needs_background": "light"
     },
     "output_type": "display_data"
    }
   ],
   "source": [
    "image_index = 7776 # You may select anything up to 60,000\n",
    "print(train_labels[image_index]) \n",
    "plt.imshow(train_images[image_index], cmap='Greys')"
   ]
  },
  {
   "cell_type": "markdown",
   "id": "a8d2388d",
   "metadata": {
    "papermill": {
     "duration": 0.029702,
     "end_time": "2021-11-14T10:07:57.443521",
     "exception": false,
     "start_time": "2021-11-14T10:07:57.413819",
     "status": "completed"
    },
    "tags": []
   },
   "source": [
    "## Filter data to get 3 and 8 out"
   ]
  },
  {
   "cell_type": "code",
   "execution_count": 10,
   "id": "776f7fc7",
   "metadata": {
    "execution": {
     "iopub.execute_input": "2021-11-14T10:07:57.505653Z",
     "iopub.status.busy": "2021-11-14T10:07:57.505083Z",
     "iopub.status.idle": "2021-11-14T10:07:57.524505Z",
     "shell.execute_reply": "2021-11-14T10:07:57.524942Z"
    },
    "papermill": {
     "duration": 0.052614,
     "end_time": "2021-11-14T10:07:57.525068",
     "exception": false,
     "start_time": "2021-11-14T10:07:57.472454",
     "status": "completed"
    },
    "tags": []
   },
   "outputs": [],
   "source": [
    "train_filter = np.where((train_labels == 3 ) | (train_labels == 8))\n",
    "test_filter = np.where((test_labels == 3) | (test_labels == 8))\n",
    "X_train, y_train = train_images[train_filter], train_labels[train_filter]\n",
    "X_test, y_test = test_images[test_filter], test_labels[test_filter]"
   ]
  },
  {
   "cell_type": "markdown",
   "id": "948f0b7e",
   "metadata": {
    "papermill": {
     "duration": 0.029124,
     "end_time": "2021-11-14T10:07:57.586708",
     "exception": false,
     "start_time": "2021-11-14T10:07:57.557584",
     "status": "completed"
    },
    "tags": []
   },
   "source": [
    "We normalize the pizel values in the 0 to 1 range"
   ]
  },
  {
   "cell_type": "code",
   "execution_count": 11,
   "id": "ee4c2166",
   "metadata": {
    "execution": {
     "iopub.execute_input": "2021-11-14T10:07:57.650000Z",
     "iopub.status.busy": "2021-11-14T10:07:57.649424Z",
     "iopub.status.idle": "2021-11-14T10:07:57.712204Z",
     "shell.execute_reply": "2021-11-14T10:07:57.712716Z"
    },
    "papermill": {
     "duration": 0.095761,
     "end_time": "2021-11-14T10:07:57.712869",
     "exception": false,
     "start_time": "2021-11-14T10:07:57.617108",
     "status": "completed"
    },
    "tags": []
   },
   "outputs": [],
   "source": [
    "X_train = X_train/255.\n",
    "X_test = X_test/255."
   ]
  },
  {
   "cell_type": "markdown",
   "id": "ddcf4fab",
   "metadata": {
    "papermill": {
     "duration": 0.027311,
     "end_time": "2021-11-14T10:07:57.770479",
     "exception": false,
     "start_time": "2021-11-14T10:07:57.743168",
     "status": "completed"
    },
    "tags": []
   },
   "source": [
    "And setup the labels as 1 (when the digit is 3) and 0 (when the digit is 8)"
   ]
  },
  {
   "cell_type": "code",
   "execution_count": 12,
   "id": "7dc908f2",
   "metadata": {
    "execution": {
     "iopub.execute_input": "2021-11-14T10:07:57.825972Z",
     "iopub.status.busy": "2021-11-14T10:07:57.825293Z",
     "iopub.status.idle": "2021-11-14T10:07:57.837958Z",
     "shell.execute_reply": "2021-11-14T10:07:57.838462Z"
    },
    "papermill": {
     "duration": 0.042545,
     "end_time": "2021-11-14T10:07:57.838573",
     "exception": false,
     "start_time": "2021-11-14T10:07:57.796028",
     "status": "completed"
    },
    "tags": []
   },
   "outputs": [],
   "source": [
    "y_train = 1*(y_train==3)\n",
    "y_test = 1*(y_test==3)"
   ]
  },
  {
   "cell_type": "code",
   "execution_count": 13,
   "id": "01e4e969",
   "metadata": {
    "execution": {
     "iopub.execute_input": "2021-11-14T10:07:57.895964Z",
     "iopub.status.busy": "2021-11-14T10:07:57.895352Z",
     "iopub.status.idle": "2021-11-14T10:07:57.907014Z",
     "shell.execute_reply": "2021-11-14T10:07:57.907556Z"
    },
    "papermill": {
     "duration": 0.042238,
     "end_time": "2021-11-14T10:07:57.907669",
     "exception": false,
     "start_time": "2021-11-14T10:07:57.865431",
     "status": "completed"
    },
    "tags": []
   },
   "outputs": [
    {
     "data": {
      "text/plain": [
       "((11982, 28, 28), (1984, 28, 28))"
      ]
     },
     "execution_count": 13,
     "metadata": {},
     "output_type": "execute_result"
    }
   ],
   "source": [
    "X_train.shape, X_test.shape"
   ]
  },
  {
   "cell_type": "markdown",
   "id": "5ccf3f85",
   "metadata": {
    "papermill": {
     "duration": 0.028788,
     "end_time": "2021-11-14T10:07:57.965514",
     "exception": false,
     "start_time": "2021-11-14T10:07:57.936726",
     "status": "completed"
    },
    "tags": []
   },
   "source": [
    "We reshape the data to flatten the image pixels into a set of features or co-variates:"
   ]
  },
  {
   "cell_type": "code",
   "execution_count": 14,
   "id": "5286a4a3",
   "metadata": {
    "execution": {
     "iopub.execute_input": "2021-11-14T10:07:58.028315Z",
     "iopub.status.busy": "2021-11-14T10:07:58.027763Z",
     "iopub.status.idle": "2021-11-14T10:07:58.040241Z",
     "shell.execute_reply": "2021-11-14T10:07:58.040944Z"
    },
    "papermill": {
     "duration": 0.04714,
     "end_time": "2021-11-14T10:07:58.041100",
     "exception": false,
     "start_time": "2021-11-14T10:07:57.993960",
     "status": "completed"
    },
    "tags": []
   },
   "outputs": [
    {
     "data": {
      "text/plain": [
       "((11982, 784), (1984, 784))"
      ]
     },
     "execution_count": 14,
     "metadata": {},
     "output_type": "execute_result"
    }
   ],
   "source": [
    "X_train = X_train.reshape(X_train.shape[0], -1)\n",
    "X_test = X_test.reshape(X_test.shape[0], -1)\n",
    "X_train.shape, X_test.shape"
   ]
  },
  {
   "cell_type": "code",
   "execution_count": 15,
   "id": "73c5f88a",
   "metadata": {
    "execution": {
     "iopub.execute_input": "2021-11-14T10:07:58.102472Z",
     "iopub.status.busy": "2021-11-14T10:07:58.101927Z",
     "iopub.status.idle": "2021-11-14T10:07:58.119191Z",
     "shell.execute_reply": "2021-11-14T10:07:58.120013Z"
    },
    "papermill": {
     "duration": 0.05019,
     "end_time": "2021-11-14T10:07:58.120218",
     "exception": false,
     "start_time": "2021-11-14T10:07:58.070028",
     "status": "completed"
    },
    "tags": []
   },
   "outputs": [],
   "source": [
    "#Impoting functions from 'Kudzu'\n",
    "from kudzu.model import Model\n",
    "from kudzu.train import Learner\n",
    "from kudzu.optim import GD\n",
    "from kudzu.data import Data, Sampler,Dataloader\n",
    "\n",
    "from kudzu.callbacks import AccCallback\n",
    "from kudzu.callbacks import ClfCallback\n",
    "\n",
    "from kudzu.loss import MSE\n",
    "\n",
    "from kudzu.layer import Sigmoid,Relu\n",
    "from kudzu.layer import Affine"
   ]
  },
  {
   "cell_type": "markdown",
   "id": "bc01172a",
   "metadata": {
    "papermill": {
     "duration": 0.027755,
     "end_time": "2021-11-14T10:07:58.179347",
     "exception": false,
     "start_time": "2021-11-14T10:07:58.151592",
     "status": "completed"
    },
    "tags": []
   },
   "source": [
    "### Let us create a `Config` class, to store important parameters. \n",
    "This class essentially plays the role of a dictionary."
   ]
  },
  {
   "cell_type": "code",
   "execution_count": 16,
   "id": "978281aa",
   "metadata": {
    "execution": {
     "iopub.execute_input": "2021-11-14T10:07:58.243647Z",
     "iopub.status.busy": "2021-11-14T10:07:58.243040Z",
     "iopub.status.idle": "2021-11-14T10:07:58.257536Z",
     "shell.execute_reply": "2021-11-14T10:07:58.256923Z"
    },
    "papermill": {
     "duration": 0.049936,
     "end_time": "2021-11-14T10:07:58.257659",
     "exception": false,
     "start_time": "2021-11-14T10:07:58.207723",
     "status": "completed"
    },
    "tags": []
   },
   "outputs": [],
   "source": [
    "class Config:\n",
    "    pass\n",
    "config = Config()\n",
    "config.lr = 0.001\n",
    "config.num_epochs = 250\n",
    "config.bs = 50"
   ]
  },
  {
   "cell_type": "markdown",
   "id": "1385fa59",
   "metadata": {
    "papermill": {
     "duration": 0.031968,
     "end_time": "2021-11-14T10:07:58.320403",
     "exception": false,
     "start_time": "2021-11-14T10:07:58.288435",
     "status": "completed"
    },
    "tags": []
   },
   "source": [
    "### Running Models with the Training data\n",
    "Details about the network layers:\n",
    "- A first affine layer has 784 inputs and does 100 affine transforms. These are followed by a Relu\n",
    "- A second affine layer has 100 inputs from the 100 activations of the past layer, and does 100 affine transforms. These are followed by a Relu\n",
    "- A third affine layer has 100 activations and does 2 affine transformations to create an embedding for visualization. There is no non-linearity here.\n",
    "- A final \"logistic regression\" which has an affine transform from 2 inputs to 1 output, which is squeezed through a sigmoid.\n"
   ]
  },
  {
   "cell_type": "code",
   "execution_count": 17,
   "id": "2b9c66db",
   "metadata": {
    "execution": {
     "iopub.execute_input": "2021-11-14T10:07:58.387046Z",
     "iopub.status.busy": "2021-11-14T10:07:58.386325Z",
     "iopub.status.idle": "2021-11-14T10:07:58.402083Z",
     "shell.execute_reply": "2021-11-14T10:07:58.401327Z"
    },
    "papermill": {
     "duration": 0.050597,
     "end_time": "2021-11-14T10:07:58.402211",
     "exception": false,
     "start_time": "2021-11-14T10:07:58.351614",
     "status": "completed"
    },
    "tags": []
   },
   "outputs": [],
   "source": [
    "data = Data(X_train, y_train.reshape(-1,1))\n",
    "sampler = Sampler(data, config.bs, shuffle=True)\n",
    "\n",
    "dl = Dataloader(data, sampler)\n",
    "\n",
    "opt = GD(config.lr)\n",
    "loss = MSE()"
   ]
  },
  {
   "cell_type": "code",
   "execution_count": 18,
   "id": "b275e4c2",
   "metadata": {
    "execution": {
     "iopub.execute_input": "2021-11-14T10:07:58.467101Z",
     "iopub.status.busy": "2021-11-14T10:07:58.466431Z",
     "iopub.status.idle": "2021-11-14T10:07:58.478208Z",
     "shell.execute_reply": "2021-11-14T10:07:58.477713Z"
    },
    "papermill": {
     "duration": 0.043117,
     "end_time": "2021-11-14T10:07:58.478310",
     "exception": false,
     "start_time": "2021-11-14T10:07:58.435193",
     "status": "completed"
    },
    "tags": []
   },
   "outputs": [],
   "source": [
    "training_data_x = X_train\n",
    "testing_data_x = X_test\n",
    "training_data_y = y_train.reshape(-1,1)\n",
    "testing_data_y = y_test.reshape(-1,1)"
   ]
  },
  {
   "cell_type": "code",
   "execution_count": 19,
   "id": "76951160",
   "metadata": {
    "execution": {
     "iopub.execute_input": "2021-11-14T10:07:58.541950Z",
     "iopub.status.busy": "2021-11-14T10:07:58.541391Z",
     "iopub.status.idle": "2021-11-14T10:07:58.557543Z",
     "shell.execute_reply": "2021-11-14T10:07:58.557056Z"
    },
    "papermill": {
     "duration": 0.049107,
     "end_time": "2021-11-14T10:07:58.557657",
     "exception": false,
     "start_time": "2021-11-14T10:07:58.508550",
     "status": "completed"
    },
    "tags": []
   },
   "outputs": [
    {
     "name": "stdout",
     "output_type": "stream",
     "text": [
      "xavier\n",
      "xavier\n",
      "xavier\n",
      "xavier\n",
      "xavier\n"
     ]
    }
   ],
   "source": [
    "layers = [Affine(\"first\", 784, 100), Relu(\"first\"), Affine(\"second\", 100, 100), Relu(\"second\"), Affine(\"third\", 100, 2), Affine(\"last\", 2, 1), Sigmoid(\"last\")]\n",
    "model_nn = Model(layers)\n",
    "model_lr = Model([Affine(\"logits\", 784, 1), Sigmoid(\"sigmoid\")])"
   ]
  },
  {
   "cell_type": "code",
   "execution_count": 20,
   "id": "6eede77a",
   "metadata": {
    "execution": {
     "iopub.execute_input": "2021-11-14T10:07:58.620551Z",
     "iopub.status.busy": "2021-11-14T10:07:58.619950Z",
     "iopub.status.idle": "2021-11-14T10:07:58.632624Z",
     "shell.execute_reply": "2021-11-14T10:07:58.633206Z"
    },
    "papermill": {
     "duration": 0.046984,
     "end_time": "2021-11-14T10:07:58.633328",
     "exception": false,
     "start_time": "2021-11-14T10:07:58.586344",
     "status": "completed"
    },
    "tags": []
   },
   "outputs": [],
   "source": [
    "nn_learner = Learner(loss, model_nn, opt, config.num_epochs)\n",
    "acc_nn = ClfCallback(nn_learner, config.bs, training_data_x , testing_data_x, training_data_y, testing_data_y)\n",
    "nn_learner.set_callbacks([acc_nn])"
   ]
  },
  {
   "cell_type": "code",
   "execution_count": 21,
   "id": "877b6cc7",
   "metadata": {
    "execution": {
     "iopub.execute_input": "2021-11-14T10:07:58.694194Z",
     "iopub.status.busy": "2021-11-14T10:07:58.693559Z",
     "iopub.status.idle": "2021-11-14T10:07:58.704704Z",
     "shell.execute_reply": "2021-11-14T10:07:58.704107Z"
    },
    "papermill": {
     "duration": 0.042197,
     "end_time": "2021-11-14T10:07:58.704852",
     "exception": false,
     "start_time": "2021-11-14T10:07:58.662655",
     "status": "completed"
    },
    "tags": []
   },
   "outputs": [],
   "source": [
    "lr_learner = Learner(loss, model_lr, opt, config.num_epochs)\n",
    "acc_lr = ClfCallback(lr_learner, config.bs, training_data_x , testing_data_x, training_data_y, testing_data_y)\n",
    "lr_learner.set_callbacks([acc_lr])"
   ]
  },
  {
   "cell_type": "code",
   "execution_count": 22,
   "id": "d9b133c3",
   "metadata": {
    "execution": {
     "iopub.execute_input": "2021-11-14T10:07:58.767779Z",
     "iopub.status.busy": "2021-11-14T10:07:58.767135Z",
     "iopub.status.idle": "2021-11-14T10:10:17.840954Z",
     "shell.execute_reply": "2021-11-14T10:10:17.841651Z"
    },
    "papermill": {
     "duration": 139.106268,
     "end_time": "2021-11-14T10:10:17.841817",
     "exception": false,
     "start_time": "2021-11-14T10:07:58.735549",
     "status": "completed"
    },
    "tags": []
   },
   "outputs": [
    {
     "name": "stdout",
     "output_type": "stream",
     "text": [
      "Epoch 0, Loss 0.2643\n",
      "Training Accuracy: 0.4634, Testing Accuracy: 0.4486\n",
      "\n"
     ]
    },
    {
     "name": "stdout",
     "output_type": "stream",
     "text": [
      "Epoch 10, Loss 0.1586\n",
      "Training Accuracy: 0.8826, Testing Accuracy: 0.8942\n",
      "\n"
     ]
    },
    {
     "name": "stdout",
     "output_type": "stream",
     "text": [
      "Epoch 20, Loss 0.079\n",
      "Training Accuracy: 0.9254, Testing Accuracy: 0.9395\n",
      "\n"
     ]
    },
    {
     "name": "stdout",
     "output_type": "stream",
     "text": [
      "Epoch 30, Loss 0.0537\n",
      "Training Accuracy: 0.9448, Testing Accuracy: 0.9516\n",
      "\n"
     ]
    },
    {
     "name": "stdout",
     "output_type": "stream",
     "text": [
      "Epoch 40, Loss 0.0432\n",
      "Training Accuracy: 0.9533, Testing Accuracy: 0.9587\n",
      "\n"
     ]
    },
    {
     "name": "stdout",
     "output_type": "stream",
     "text": [
      "Epoch 50, Loss 0.0376\n",
      "Training Accuracy: 0.9584, Testing Accuracy: 0.9652\n",
      "\n"
     ]
    },
    {
     "name": "stdout",
     "output_type": "stream",
     "text": [
      "Epoch 60, Loss 0.0342\n",
      "Training Accuracy: 0.9620, Testing Accuracy: 0.9672\n",
      "\n"
     ]
    },
    {
     "name": "stdout",
     "output_type": "stream",
     "text": [
      "Epoch 70, Loss 0.0318\n",
      "Training Accuracy: 0.9646, Testing Accuracy: 0.9693\n",
      "\n"
     ]
    },
    {
     "name": "stdout",
     "output_type": "stream",
     "text": [
      "Epoch 80, Loss 0.0301\n",
      "Training Accuracy: 0.9659, Testing Accuracy: 0.9693\n",
      "\n"
     ]
    },
    {
     "name": "stdout",
     "output_type": "stream",
     "text": [
      "Epoch 90, Loss 0.0287\n",
      "Training Accuracy: 0.9673, Testing Accuracy: 0.9718\n",
      "\n"
     ]
    },
    {
     "name": "stdout",
     "output_type": "stream",
     "text": [
      "Epoch 100, Loss 0.0276\n",
      "Training Accuracy: 0.9682, Testing Accuracy: 0.9723\n",
      "\n"
     ]
    },
    {
     "name": "stdout",
     "output_type": "stream",
     "text": [
      "Epoch 110, Loss 0.0266\n",
      "Training Accuracy: 0.9692, Testing Accuracy: 0.9728\n",
      "\n"
     ]
    },
    {
     "name": "stdout",
     "output_type": "stream",
     "text": [
      "Epoch 120, Loss 0.0258\n",
      "Training Accuracy: 0.9705, Testing Accuracy: 0.9718\n",
      "\n"
     ]
    },
    {
     "name": "stdout",
     "output_type": "stream",
     "text": [
      "Epoch 130, Loss 0.0251\n",
      "Training Accuracy: 0.9711, Testing Accuracy: 0.9723\n",
      "\n"
     ]
    },
    {
     "name": "stdout",
     "output_type": "stream",
     "text": [
      "Epoch 140, Loss 0.0244\n",
      "Training Accuracy: 0.9719, Testing Accuracy: 0.9723\n",
      "\n"
     ]
    },
    {
     "name": "stdout",
     "output_type": "stream",
     "text": [
      "Epoch 150, Loss 0.0238\n",
      "Training Accuracy: 0.9726, Testing Accuracy: 0.9728\n",
      "\n"
     ]
    },
    {
     "name": "stdout",
     "output_type": "stream",
     "text": [
      "Epoch 160, Loss 0.0233\n",
      "Training Accuracy: 0.9731, Testing Accuracy: 0.9723\n",
      "\n"
     ]
    },
    {
     "name": "stdout",
     "output_type": "stream",
     "text": [
      "Epoch 170, Loss 0.0228\n",
      "Training Accuracy: 0.9737, Testing Accuracy: 0.9728\n",
      "\n"
     ]
    },
    {
     "name": "stdout",
     "output_type": "stream",
     "text": [
      "Epoch 180, Loss 0.0223\n",
      "Training Accuracy: 0.9745, Testing Accuracy: 0.9723\n",
      "\n"
     ]
    },
    {
     "name": "stdout",
     "output_type": "stream",
     "text": [
      "Epoch 190, Loss 0.0219\n",
      "Training Accuracy: 0.9750, Testing Accuracy: 0.9723\n",
      "\n"
     ]
    },
    {
     "name": "stdout",
     "output_type": "stream",
     "text": [
      "Epoch 200, Loss 0.0214\n",
      "Training Accuracy: 0.9753, Testing Accuracy: 0.9723\n",
      "\n"
     ]
    },
    {
     "name": "stdout",
     "output_type": "stream",
     "text": [
      "Epoch 210, Loss 0.021\n",
      "Training Accuracy: 0.9761, Testing Accuracy: 0.9723\n",
      "\n"
     ]
    },
    {
     "name": "stdout",
     "output_type": "stream",
     "text": [
      "Epoch 220, Loss 0.0207\n",
      "Training Accuracy: 0.9764, Testing Accuracy: 0.9723\n",
      "\n"
     ]
    },
    {
     "name": "stdout",
     "output_type": "stream",
     "text": [
      "Epoch 230, Loss 0.0203\n",
      "Training Accuracy: 0.9767, Testing Accuracy: 0.9723\n",
      "\n"
     ]
    },
    {
     "name": "stdout",
     "output_type": "stream",
     "text": [
      "Epoch 240, Loss 0.0199\n",
      "Training Accuracy: 0.9771, Testing Accuracy: 0.9718\n",
      "\n"
     ]
    },
    {
     "data": {
      "text/plain": [
       "0.0040478664597621145"
      ]
     },
     "execution_count": 22,
     "metadata": {},
     "output_type": "execute_result"
    }
   ],
   "source": [
    "nn_learner.train_loop(dl)"
   ]
  },
  {
   "cell_type": "code",
   "execution_count": 23,
   "id": "e0163366",
   "metadata": {
    "execution": {
     "iopub.execute_input": "2021-11-14T10:10:17.928378Z",
     "iopub.status.busy": "2021-11-14T10:10:17.927816Z",
     "iopub.status.idle": "2021-11-14T10:10:37.931638Z",
     "shell.execute_reply": "2021-11-14T10:10:37.932589Z"
    },
    "papermill": {
     "duration": 20.047975,
     "end_time": "2021-11-14T10:10:37.932758",
     "exception": false,
     "start_time": "2021-11-14T10:10:17.884783",
     "status": "completed"
    },
    "tags": []
   },
   "outputs": [
    {
     "name": "stdout",
     "output_type": "stream",
     "text": [
      "Epoch 0, Loss 0.2545\n",
      "Training Accuracy: 0.6353, Testing Accuracy: 0.6467\n",
      "\n"
     ]
    },
    {
     "name": "stdout",
     "output_type": "stream",
     "text": [
      "Epoch 10, Loss 0.1056\n",
      "Training Accuracy: 0.9022, Testing Accuracy: 0.9123\n",
      "\n"
     ]
    },
    {
     "name": "stdout",
     "output_type": "stream",
     "text": [
      "Epoch 20, Loss 0.0803\n",
      "Training Accuracy: 0.9236, Testing Accuracy: 0.9370\n",
      "\n"
     ]
    },
    {
     "name": "stdout",
     "output_type": "stream",
     "text": [
      "Epoch 30, Loss 0.0689\n",
      "Training Accuracy: 0.9345, Testing Accuracy: 0.9491\n",
      "\n"
     ]
    },
    {
     "name": "stdout",
     "output_type": "stream",
     "text": [
      "Epoch 40, Loss 0.062\n",
      "Training Accuracy: 0.9410, Testing Accuracy: 0.9546\n",
      "\n"
     ]
    },
    {
     "name": "stdout",
     "output_type": "stream",
     "text": [
      "Epoch 50, Loss 0.0574\n",
      "Training Accuracy: 0.9448, Testing Accuracy: 0.9577\n",
      "\n"
     ]
    },
    {
     "name": "stdout",
     "output_type": "stream",
     "text": [
      "Epoch 60, Loss 0.054\n",
      "Training Accuracy: 0.9477, Testing Accuracy: 0.9602\n",
      "\n"
     ]
    },
    {
     "name": "stdout",
     "output_type": "stream",
     "text": [
      "Epoch 70, Loss 0.0514\n",
      "Training Accuracy: 0.9497, Testing Accuracy: 0.9602\n",
      "\n"
     ]
    },
    {
     "name": "stdout",
     "output_type": "stream",
     "text": [
      "Epoch 80, Loss 0.0493\n",
      "Training Accuracy: 0.9510, Testing Accuracy: 0.9632\n",
      "\n"
     ]
    },
    {
     "name": "stdout",
     "output_type": "stream",
     "text": [
      "Epoch 90, Loss 0.0476\n",
      "Training Accuracy: 0.9522, Testing Accuracy: 0.9632\n",
      "\n"
     ]
    },
    {
     "name": "stdout",
     "output_type": "stream",
     "text": [
      "Epoch 100, Loss 0.0461\n",
      "Training Accuracy: 0.9529, Testing Accuracy: 0.9637\n",
      "\n"
     ]
    },
    {
     "name": "stdout",
     "output_type": "stream",
     "text": [
      "Epoch 110, Loss 0.0449\n",
      "Training Accuracy: 0.9540, Testing Accuracy: 0.9647\n",
      "\n"
     ]
    },
    {
     "name": "stdout",
     "output_type": "stream",
     "text": [
      "Epoch 120, Loss 0.0438\n",
      "Training Accuracy: 0.9548, Testing Accuracy: 0.9652\n",
      "\n"
     ]
    },
    {
     "name": "stdout",
     "output_type": "stream",
     "text": [
      "Epoch 130, Loss 0.0429\n",
      "Training Accuracy: 0.9556, Testing Accuracy: 0.9657\n",
      "\n"
     ]
    },
    {
     "name": "stdout",
     "output_type": "stream",
     "text": [
      "Epoch 140, Loss 0.0421\n",
      "Training Accuracy: 0.9563, Testing Accuracy: 0.9657\n",
      "\n"
     ]
    },
    {
     "name": "stdout",
     "output_type": "stream",
     "text": [
      "Epoch 150, Loss 0.0413\n",
      "Training Accuracy: 0.9574, Testing Accuracy: 0.9667\n",
      "\n"
     ]
    },
    {
     "name": "stdout",
     "output_type": "stream",
     "text": [
      "Epoch 160, Loss 0.0407\n",
      "Training Accuracy: 0.9581, Testing Accuracy: 0.9662\n",
      "\n"
     ]
    },
    {
     "name": "stdout",
     "output_type": "stream",
     "text": [
      "Epoch 170, Loss 0.04\n",
      "Training Accuracy: 0.9589, Testing Accuracy: 0.9667\n",
      "\n"
     ]
    },
    {
     "name": "stdout",
     "output_type": "stream",
     "text": [
      "Epoch 180, Loss 0.0395\n",
      "Training Accuracy: 0.9594, Testing Accuracy: 0.9667\n",
      "\n"
     ]
    },
    {
     "name": "stdout",
     "output_type": "stream",
     "text": [
      "Epoch 190, Loss 0.039\n",
      "Training Accuracy: 0.9599, Testing Accuracy: 0.9662\n",
      "\n"
     ]
    },
    {
     "name": "stdout",
     "output_type": "stream",
     "text": [
      "Epoch 200, Loss 0.0385\n",
      "Training Accuracy: 0.9602, Testing Accuracy: 0.9657\n",
      "\n"
     ]
    },
    {
     "name": "stdout",
     "output_type": "stream",
     "text": [
      "Epoch 210, Loss 0.038\n",
      "Training Accuracy: 0.9604, Testing Accuracy: 0.9657\n",
      "\n"
     ]
    },
    {
     "name": "stdout",
     "output_type": "stream",
     "text": [
      "Epoch 220, Loss 0.0376\n",
      "Training Accuracy: 0.9604, Testing Accuracy: 0.9662\n",
      "\n"
     ]
    },
    {
     "name": "stdout",
     "output_type": "stream",
     "text": [
      "Epoch 230, Loss 0.0372\n",
      "Training Accuracy: 0.9608, Testing Accuracy: 0.9662\n",
      "\n"
     ]
    },
    {
     "name": "stdout",
     "output_type": "stream",
     "text": [
      "Epoch 240, Loss 0.0369\n",
      "Training Accuracy: 0.9611, Testing Accuracy: 0.9662\n",
      "\n"
     ]
    },
    {
     "data": {
      "text/plain": [
       "0.02946929077184099"
      ]
     },
     "execution_count": 23,
     "metadata": {},
     "output_type": "execute_result"
    }
   ],
   "source": [
    "lr_learner.train_loop(dl)"
   ]
  },
  {
   "cell_type": "code",
   "execution_count": 24,
   "id": "ca410940",
   "metadata": {
    "execution": {
     "iopub.execute_input": "2021-11-14T10:10:38.052817Z",
     "iopub.status.busy": "2021-11-14T10:10:38.052155Z",
     "iopub.status.idle": "2021-11-14T10:10:38.362494Z",
     "shell.execute_reply": "2021-11-14T10:10:38.363634Z"
    },
    "papermill": {
     "duration": 0.368046,
     "end_time": "2021-11-14T10:10:38.363842",
     "exception": false,
     "start_time": "2021-11-14T10:10:37.995796",
     "status": "completed"
    },
    "tags": []
   },
   "outputs": [
    {
     "data": {
      "text/plain": [
       "<matplotlib.legend.Legend at 0x7faf30bc97b8>"
      ]
     },
     "execution_count": 24,
     "metadata": {},
     "output_type": "execute_result"
    },
    {
     "data": {
      "image/png": "[encoded data removed]",
      "text/plain": [
       "<Figure size 1080x720 with 1 Axes>"
      ]
     },
     "metadata": {
      "needs_background": "light"
     },
     "output_type": "display_data"
    }
   ],
   "source": [
    "#comparing the results of NN and LR\n",
    "plt.figure(figsize=(15,10))\n",
    "\n",
    "# Neural Network plots\n",
    "plt.plot(acc_nn.accuracies, 'r-', label = \"Training Accuracies - NN\")\n",
    "plt.plot(acc_nn.test_accuracies, 'g-', label = \"Testing Accuracies - NN\")\n",
    "\n",
    "# Logistic Regression plots\n",
    "plt.plot(acc_lr.accuracies, 'k-', label = \"Training Accuracies - LR\")\n",
    "plt.plot(acc_lr.test_accuracies, 'b-', label = \"Testing Accuracies - LR\")\n",
    "plt.legend()"
   ]
  },
  {
   "cell_type": "markdown",
   "id": "80dfb35c",
   "metadata": {
    "papermill": {
     "duration": 0.052119,
     "end_time": "2021-11-14T10:10:38.469109",
     "exception": false,
     "start_time": "2021-11-14T10:10:38.416990",
     "status": "completed"
    },
    "tags": []
   },
   "source": [
    "#### Plotting the outputs of this layer of the NN.\n"
   ]
  },
  {
   "cell_type": "code",
   "execution_count": 25,
   "id": "45eb2ff5",
   "metadata": {
    "execution": {
     "iopub.execute_input": "2021-11-14T10:10:38.577381Z",
     "iopub.status.busy": "2021-11-14T10:10:38.576368Z",
     "iopub.status.idle": "2021-11-14T10:10:38.603640Z",
     "shell.execute_reply": "2021-11-14T10:10:38.604276Z"
    },
    "papermill": {
     "duration": 0.082844,
     "end_time": "2021-11-14T10:10:38.604557",
     "exception": false,
     "start_time": "2021-11-14T10:10:38.521713",
     "status": "completed"
    },
    "tags": []
   },
   "outputs": [],
   "source": [
    "new_model = Model(layers[:-2])\n",
    "testing_plot = new_model(testing_data_x)"
   ]
  },
  {
   "cell_type": "code",
   "execution_count": 26,
   "id": "4c0a5485",
   "metadata": {
    "execution": {
     "iopub.execute_input": "2021-11-14T10:10:38.713424Z",
     "iopub.status.busy": "2021-11-14T10:10:38.712790Z",
     "iopub.status.idle": "2021-11-14T10:10:39.042048Z",
     "shell.execute_reply": "2021-11-14T10:10:39.042954Z"
    },
    "papermill": {
     "duration": 0.386661,
     "end_time": "2021-11-14T10:10:39.043143",
     "exception": false,
     "start_time": "2021-11-14T10:10:38.656482",
     "status": "completed"
    },
    "tags": []
   },
   "outputs": [
    {
     "data": {
      "text/plain": [
       "Text(0.5, 1.0, 'Outputs')"
      ]
     },
     "execution_count": 26,
     "metadata": {},
     "output_type": "execute_result"
    },
    {
     "data": {
      "image/png": "[encoded data removed]",
      "text/plain": [
       "<Figure size 576x504 with 1 Axes>"
      ]
     },
     "metadata": {
      "needs_background": "light"
     },
     "output_type": "display_data"
    }
   ],
   "source": [
    "# Plotting the scatter plot of points and color coding by class\n",
    "plt.figure(figsize=(8,7))\n",
    "plt.scatter(testing_plot[:,0], testing_plot[:,1], alpha = 0.1, c = y_test.ravel());\n",
    "plt.title('Outputs')"
   ]
  },
  {
   "cell_type": "markdown",
   "id": "a74fcf8f",
   "metadata": {
    "papermill": {
     "duration": 0.054175,
     "end_time": "2021-11-14T10:10:39.154956",
     "exception": false,
     "start_time": "2021-11-14T10:10:39.100781",
     "status": "completed"
    },
    "tags": []
   },
   "source": [
    "Probability contours"
   ]
  },
  {
   "cell_type": "code",
   "execution_count": 27,
   "id": "d0afc8e3",
   "metadata": {
    "execution": {
     "iopub.execute_input": "2021-11-14T10:10:39.273436Z",
     "iopub.status.busy": "2021-11-14T10:10:39.272703Z",
     "iopub.status.idle": "2021-11-14T10:10:39.285112Z",
     "shell.execute_reply": "2021-11-14T10:10:39.284504Z"
    },
    "papermill": {
     "duration": 0.076192,
     "end_time": "2021-11-14T10:10:39.285323",
     "exception": false,
     "start_time": "2021-11-14T10:10:39.209131",
     "status": "completed"
    },
    "tags": []
   },
   "outputs": [],
   "source": [
    "model_prob = Model(layers[-2:]) "
   ]
  },
  {
   "cell_type": "code",
   "execution_count": 28,
   "id": "9b96e238",
   "metadata": {
    "execution": {
     "iopub.execute_input": "2021-11-14T10:10:39.422969Z",
     "iopub.status.busy": "2021-11-14T10:10:39.421841Z",
     "iopub.status.idle": "2021-11-14T10:10:39.439133Z",
     "shell.execute_reply": "2021-11-14T10:10:39.439783Z"
    },
    "papermill": {
     "duration": 0.101793,
     "end_time": "2021-11-14T10:10:39.439956",
     "exception": false,
     "start_time": "2021-11-14T10:10:39.338163",
     "status": "completed"
    },
    "tags": []
   },
   "outputs": [],
   "source": [
    "#creating the x and y ranges according to the above generated plot.\n",
    "x_range = np.linspace(-4, 1, 100) \n",
    "y_range = np.linspace(-6, 6, 100) \n",
    "x_grid, y_grid = np.meshgrid(x_range, y_range) # x_grid and y_grig are of size 100 X 100\n",
    "\n",
    "# converting x_grid and y_grid to continuous arrays\n",
    "x_gridflat = np.ravel(x_grid)\n",
    "y_gridflat = np.ravel(y_grid)\n",
    "\n",
    "# The last layer of the current model takes two columns as input. Hence transpose of np.vstack() is required.\n",
    "X = np.vstack((x_gridflat, y_gridflat)).T\n",
    "\n",
    "prob_contour = model_prob(X).reshape(100,100) "
   ]
  },
  {
   "cell_type": "code",
   "execution_count": 29,
   "id": "da72499a",
   "metadata": {
    "execution": {
     "iopub.execute_input": "2021-11-14T10:10:39.560360Z",
     "iopub.status.busy": "2021-11-14T10:10:39.559463Z",
     "iopub.status.idle": "2021-11-14T10:10:39.910036Z",
     "shell.execute_reply": "2021-11-14T10:10:39.909506Z"
    },
    "papermill": {
     "duration": 0.413942,
     "end_time": "2021-11-14T10:10:39.910201",
     "exception": false,
     "start_time": "2021-11-14T10:10:39.496259",
     "status": "completed"
    },
    "tags": []
   },
   "outputs": [
    {
     "data": {
      "image/png": "[encoded data removed]",
      "text/plain": [
       "<Figure size 720x648 with 1 Axes>"
      ]
     },
     "metadata": {
      "needs_background": "light"
     },
     "output_type": "display_data"
    }
   ],
   "source": [
    "plt.figure(figsize=(10,9))\n",
    "plt.scatter(testing_plot[:,0], testing_plot[:,1], alpha = 0.1, c = y_test.ravel())\n",
    "contours = plt.contour(x_grid,y_grid,prob_contour)\n",
    "plt.title('Probability Contours')\n",
    "plt.clabel(contours, inline = True );"
   ]
  },
  {
   "cell_type": "code",
   "execution_count": null,
   "id": "e81b4ac7",
   "metadata": {
    "papermill": {
     "duration": 0.060506,
     "end_time": "2021-11-14T10:10:40.028480",
     "exception": false,
     "start_time": "2021-11-14T10:10:39.967974",
     "status": "completed"
    },
    "tags": []
   },
   "outputs": [],
   "source": []
  }
 ],
 "metadata": {
  "kernelspec": {
   "display_name": "Python 3",
   "language": "python",
   "name": "python3"
  },
  "language_info": {
   "codemirror_mode": {
    "name": "ipython",
    "version": 3
   },
   "file_extension": ".py",
   "mimetype": "text/x-python",
   "name": "python",
   "nbconvert_exporter": "python",
   "pygments_lexer": "ipython3",
   "version": "3.6.15"
  },
  "papermill": {
   "default_parameters": {},
   "duration": 168.798041,
   "end_time": "2021-11-14T10:10:40.502276",
   "environment_variables": {},
   "exception": null,
   "input_path": "2020-08-11-part2.ipynb",
   "output_path": "2020-08-11-part2.ipynb",
   "parameters": {},
   "start_time": "2021-11-14T10:07:51.704235",
   "version": "2.3.3"
  }
 },
 "nbformat": 4,
 "nbformat_minor": 5
}