{
 "cells": [
  {
   "cell_type": "markdown",
   "id": "98380cd3",
   "metadata": {
    "papermill": {
     "duration": 0.028261,
     "end_time": "2022-05-12T10:12:04.720971",
     "exception": false,
     "start_time": "2022-05-12T10:12:04.692710",
     "status": "completed"
    },
    "tags": []
   },
   "source": [
    "# Distinguish Your Own Digits (DYOD)"
   ]
  },
  {
   "cell_type": "markdown",
   "id": "ef31240d",
   "metadata": {
    "papermill": {
     "duration": 0.025604,
     "end_time": "2022-05-12T10:12:04.771520",
     "exception": false,
     "start_time": "2022-05-12T10:12:04.745916",
     "status": "completed"
    },
    "tags": []
   },
   "source": [
    "You are going to write a classifier that distinguishes between the number 3 and number 8."
   ]
  },
  {
   "cell_type": "code",
   "execution_count": 1,
   "id": "b15c8646",
   "metadata": {
    "execution": {
     "iopub.execute_input": "2022-05-12T10:12:04.830151Z",
     "iopub.status.busy": "2022-05-12T10:12:04.829607Z",
     "iopub.status.idle": "2022-05-12T10:12:04.840153Z",
     "shell.execute_reply": "2022-05-12T10:12:04.839713Z"
    },
    "papermill": {
     "duration": 0.044677,
     "end_time": "2022-05-12T10:12:04.840286",
     "exception": false,
     "start_time": "2022-05-12T10:12:04.795609",
     "status": "completed"
    },
    "tags": []
   },
   "outputs": [],
   "source": [
    "%load_ext autoreload\n",
    "%autoreload 2"
   ]
  },
  {
   "cell_type": "code",
   "execution_count": 2,
   "id": "22ef38dc",
   "metadata": {
    "execution": {
     "iopub.execute_input": "2022-05-12T10:12:04.912136Z",
     "iopub.status.busy": "2022-05-12T10:12:04.902529Z",
     "iopub.status.idle": "2022-05-12T10:12:05.433047Z",
     "shell.execute_reply": "2022-05-12T10:12:05.432496Z"
    },
    "papermill": {
     "duration": 0.568696,
     "end_time": "2022-05-12T10:12:05.433172",
     "exception": false,
     "start_time": "2022-05-12T10:12:04.864476",
     "status": "completed"
    },
    "tags": []
   },
   "outputs": [],
   "source": [
    "%matplotlib inline\n",
    "import numpy as np\n",
    "import matplotlib.pyplot as plt\n",
    "import pandas as pd"
   ]
  },
  {
   "cell_type": "markdown",
   "id": "ba036198",
   "metadata": {
    "papermill": {
     "duration": 0.02416,
     "end_time": "2022-05-12T10:12:05.481414",
     "exception": false,
     "start_time": "2022-05-12T10:12:05.457254",
     "status": "completed"
    },
    "tags": []
   },
   "source": [
    "From the command line run `pip install mnist`. This is a library that will help you bring down the mnist dataset. If you run this from a notebook, you need to put  `!pip install mnist` in a cell by itself."
   ]
  },
  {
   "cell_type": "code",
   "execution_count": 3,
   "id": "bb6ad8a1",
   "metadata": {
    "execution": {
     "iopub.execute_input": "2022-05-12T10:12:05.534148Z",
     "iopub.status.busy": "2022-05-12T10:12:05.533631Z",
     "iopub.status.idle": "2022-05-12T10:12:07.451135Z",
     "shell.execute_reply": "2022-05-12T10:12:07.450226Z"
    },
    "papermill": {
     "duration": 1.945621,
     "end_time": "2022-05-12T10:12:07.451275",
     "exception": false,
     "start_time": "2022-05-12T10:12:05.505654",
     "status": "completed"
    },
    "tags": []
   },
   "outputs": [
    {
     "name": "stdout",
     "output_type": "stream",
     "text": [
      "Collecting mnist\r\n"
     ]
    },
    {
     "name": "stdout",
     "output_type": "stream",
     "text": [
      "  Downloading mnist-0.2.2-py2.py3-none-any.whl (3.5 kB)\r\n",
      "Requirement already satisfied: numpy in /opt/hostedtoolcache/Python/3.6.15/x64/lib/python3.6/site-packages (from mnist) (1.19.5)\r\n"
     ]
    },
    {
     "name": "stdout",
     "output_type": "stream",
     "text": [
      "Installing collected packages: mnist\r\n",
      "Successfully installed mnist-0.2.2\r\n"
     ]
    }
   ],
   "source": [
    "!pip install mnist"
   ]
  },
  {
   "cell_type": "markdown",
   "id": "69df9c9a",
   "metadata": {
    "papermill": {
     "duration": 0.025001,
     "end_time": "2022-05-12T10:12:07.501464",
     "exception": false,
     "start_time": "2022-05-12T10:12:07.476463",
     "status": "completed"
    },
    "tags": []
   },
   "source": [
    "## Preparing the Data"
   ]
  },
  {
   "cell_type": "code",
   "execution_count": 4,
   "id": "7f69d806",
   "metadata": {
    "execution": {
     "iopub.execute_input": "2022-05-12T10:12:07.556467Z",
     "iopub.status.busy": "2022-05-12T10:12:07.555944Z",
     "iopub.status.idle": "2022-05-12T10:12:07.569157Z",
     "shell.execute_reply": "2022-05-12T10:12:07.568608Z"
    },
    "papermill": {
     "duration": 0.042938,
     "end_time": "2022-05-12T10:12:07.569268",
     "exception": false,
     "start_time": "2022-05-12T10:12:07.526330",
     "status": "completed"
    },
    "tags": []
   },
   "outputs": [],
   "source": [
    "import mnist"
   ]
  },
  {
   "cell_type": "code",
   "execution_count": 5,
   "id": "a411e44f",
   "metadata": {
    "execution": {
     "iopub.execute_input": "2022-05-12T10:12:07.623625Z",
     "iopub.status.busy": "2022-05-12T10:12:07.623113Z",
     "iopub.status.idle": "2022-05-12T10:12:08.139784Z",
     "shell.execute_reply": "2022-05-12T10:12:08.139311Z"
    },
    "papermill": {
     "duration": 0.545636,
     "end_time": "2022-05-12T10:12:08.139910",
     "exception": false,
     "start_time": "2022-05-12T10:12:07.594274",
     "status": "completed"
    },
    "tags": []
   },
   "outputs": [],
   "source": [
    "train_images = mnist.train_images()\n",
    "train_labels = mnist.train_labels()"
   ]
  },
  {
   "cell_type": "code",
   "execution_count": 6,
   "id": "dceab3a5",
   "metadata": {
    "execution": {
     "iopub.execute_input": "2022-05-12T10:12:08.196539Z",
     "iopub.status.busy": "2022-05-12T10:12:08.195861Z",
     "iopub.status.idle": "2022-05-12T10:12:08.209997Z",
     "shell.execute_reply": "2022-05-12T10:12:08.209521Z"
    },
    "papermill": {
     "duration": 0.043219,
     "end_time": "2022-05-12T10:12:08.210123",
     "exception": false,
     "start_time": "2022-05-12T10:12:08.166904",
     "status": "completed"
    },
    "tags": []
   },
   "outputs": [
    {
     "data": {
      "text/plain": [
       "((60000, 28, 28), (60000,))"
      ]
     },
     "execution_count": 6,
     "metadata": {},
     "output_type": "execute_result"
    }
   ],
   "source": [
    "train_images.shape, train_labels.shape"
   ]
  },
  {
   "cell_type": "code",
   "execution_count": 7,
   "id": "f50dc2bb",
   "metadata": {
    "execution": {
     "iopub.execute_input": "2022-05-12T10:12:08.265974Z",
     "iopub.status.busy": "2022-05-12T10:12:08.265459Z",
     "iopub.status.idle": "2022-05-12T10:12:08.408292Z",
     "shell.execute_reply": "2022-05-12T10:12:08.407767Z"
    },
    "papermill": {
     "duration": 0.171349,
     "end_time": "2022-05-12T10:12:08.408428",
     "exception": false,
     "start_time": "2022-05-12T10:12:08.237079",
     "status": "completed"
    },
    "tags": []
   },
   "outputs": [],
   "source": [
    "test_images = mnist.test_images()\n",
    "test_labels = mnist.test_labels()"
   ]
  },
  {
   "cell_type": "code",
   "execution_count": 8,
   "id": "fc38cf1b",
   "metadata": {
    "execution": {
     "iopub.execute_input": "2022-05-12T10:12:08.464812Z",
     "iopub.status.busy": "2022-05-12T10:12:08.464266Z",
     "iopub.status.idle": "2022-05-12T10:12:08.477970Z",
     "shell.execute_reply": "2022-05-12T10:12:08.477529Z"
    },
    "papermill": {
     "duration": 0.043615,
     "end_time": "2022-05-12T10:12:08.478080",
     "exception": false,
     "start_time": "2022-05-12T10:12:08.434465",
     "status": "completed"
    },
    "tags": []
   },
   "outputs": [
    {
     "data": {
      "text/plain": [
       "((10000, 28, 28), (10000,))"
      ]
     },
     "execution_count": 8,
     "metadata": {},
     "output_type": "execute_result"
    }
   ],
   "source": [
    "test_images.shape, test_labels.shape"
   ]
  },
  {
   "cell_type": "code",
   "execution_count": 9,
   "id": "f9ed8fe0",
   "metadata": {
    "execution": {
     "iopub.execute_input": "2022-05-12T10:12:08.532609Z",
     "iopub.status.busy": "2022-05-12T10:12:08.532098Z",
     "iopub.status.idle": "2022-05-12T10:12:08.668115Z",
     "shell.execute_reply": "2022-05-12T10:12:08.668589Z"
    },
    "papermill": {
     "duration": 0.165345,
     "end_time": "2022-05-12T10:12:08.668773",
     "exception": false,
     "start_time": "2022-05-12T10:12:08.503428",
     "status": "completed"
    },
    "tags": []
   },
   "outputs": [
    {
     "name": "stdout",
     "output_type": "stream",
     "text": [
      "2\n"
     ]
    },
    {
     "data": {
      "text/plain": [
       "<matplotlib.image.AxesImage at 0x7fc4ea2a14a8>"
      ]
     },
     "execution_count": 9,
     "metadata": {},
     "output_type": "execute_result"
    },
    {
     "data": {
      "image/png": "[encoded data removed]",
      "text/plain": [
       "<Figure size 432x288 with 1 Axes>"
      ]
     },
     "metadata": {
      "needs_background": "light"
     },
     "output_type": "display_data"
    }
   ],
   "source": [
    "image_index = 7776 # You may select anything up to 60,000\n",
    "print(train_labels[image_index]) \n",
    "plt.imshow(train_images[image_index], cmap='Greys')"
   ]
  },
  {
   "cell_type": "markdown",
   "id": "a8d2388d",
   "metadata": {
    "papermill": {
     "duration": 0.026679,
     "end_time": "2022-05-12T10:12:08.722825",
     "exception": false,
     "start_time": "2022-05-12T10:12:08.696146",
     "status": "completed"
    },
    "tags": []
   },
   "source": [
    "## Filter data to get 3 and 8 out"
   ]
  },
  {
   "cell_type": "code",
   "execution_count": 10,
   "id": "776f7fc7",
   "metadata": {
    "execution": {
     "iopub.execute_input": "2022-05-12T10:12:08.782235Z",
     "iopub.status.busy": "2022-05-12T10:12:08.781702Z",
     "iopub.status.idle": "2022-05-12T10:12:08.797815Z",
     "shell.execute_reply": "2022-05-12T10:12:08.798298Z"
    },
    "papermill": {
     "duration": 0.049198,
     "end_time": "2022-05-12T10:12:08.798427",
     "exception": false,
     "start_time": "2022-05-12T10:12:08.749229",
     "status": "completed"
    },
    "tags": []
   },
   "outputs": [],
   "source": [
    "train_filter = np.where((train_labels == 3 ) | (train_labels == 8))\n",
    "test_filter = np.where((test_labels == 3) | (test_labels == 8))\n",
    "X_train, y_train = train_images[train_filter], train_labels[train_filter]\n",
    "X_test, y_test = test_images[test_filter], test_labels[test_filter]"
   ]
  },
  {
   "cell_type": "markdown",
   "id": "948f0b7e",
   "metadata": {
    "papermill": {
     "duration": 0.02642,
     "end_time": "2022-05-12T10:12:08.851405",
     "exception": false,
     "start_time": "2022-05-12T10:12:08.824985",
     "status": "completed"
    },
    "tags": []
   },
   "source": [
    "We normalize the pizel values in the 0 to 1 range"
   ]
  },
  {
   "cell_type": "code",
   "execution_count": 11,
   "id": "ee4c2166",
   "metadata": {
    "execution": {
     "iopub.execute_input": "2022-05-12T10:12:08.907622Z",
     "iopub.status.busy": "2022-05-12T10:12:08.907063Z",
     "iopub.status.idle": "2022-05-12T10:12:08.955300Z",
     "shell.execute_reply": "2022-05-12T10:12:08.954773Z"
    },
    "papermill": {
     "duration": 0.077758,
     "end_time": "2022-05-12T10:12:08.955436",
     "exception": false,
     "start_time": "2022-05-12T10:12:08.877678",
     "status": "completed"
    },
    "tags": []
   },
   "outputs": [],
   "source": [
    "X_train = X_train/255.\n",
    "X_test = X_test/255."
   ]
  },
  {
   "cell_type": "markdown",
   "id": "ddcf4fab",
   "metadata": {
    "papermill": {
     "duration": 0.026904,
     "end_time": "2022-05-12T10:12:09.009455",
     "exception": false,
     "start_time": "2022-05-12T10:12:08.982551",
     "status": "completed"
    },
    "tags": []
   },
   "source": [
    "And setup the labels as 1 (when the digit is 3) and 0 (when the digit is 8)"
   ]
  },
  {
   "cell_type": "code",
   "execution_count": 12,
   "id": "7dc908f2",
   "metadata": {
    "execution": {
     "iopub.execute_input": "2022-05-12T10:12:09.066822Z",
     "iopub.status.busy": "2022-05-12T10:12:09.066306Z",
     "iopub.status.idle": "2022-05-12T10:12:09.079219Z",
     "shell.execute_reply": "2022-05-12T10:12:09.078798Z"
    },
    "papermill": {
     "duration": 0.043395,
     "end_time": "2022-05-12T10:12:09.079331",
     "exception": false,
     "start_time": "2022-05-12T10:12:09.035936",
     "status": "completed"
    },
    "tags": []
   },
   "outputs": [],
   "source": [
    "y_train = 1*(y_train==3)\n",
    "y_test = 1*(y_test==3)"
   ]
  },
  {
   "cell_type": "code",
   "execution_count": 13,
   "id": "01e4e969",
   "metadata": {
    "execution": {
     "iopub.execute_input": "2022-05-12T10:12:09.150384Z",
     "iopub.status.busy": "2022-05-12T10:12:09.146684Z",
     "iopub.status.idle": "2022-05-12T10:12:09.153086Z",
     "shell.execute_reply": "2022-05-12T10:12:09.153474Z"
    },
    "papermill": {
     "duration": 0.047614,
     "end_time": "2022-05-12T10:12:09.153609",
     "exception": false,
     "start_time": "2022-05-12T10:12:09.105995",
     "status": "completed"
    },
    "tags": []
   },
   "outputs": [
    {
     "data": {
      "text/plain": [
       "((11982, 28, 28), (1984, 28, 28))"
      ]
     },
     "execution_count": 13,
     "metadata": {},
     "output_type": "execute_result"
    }
   ],
   "source": [
    "X_train.shape, X_test.shape"
   ]
  },
  {
   "cell_type": "markdown",
   "id": "5ccf3f85",
   "metadata": {
    "papermill": {
     "duration": 0.026649,
     "end_time": "2022-05-12T10:12:09.207092",
     "exception": false,
     "start_time": "2022-05-12T10:12:09.180443",
     "status": "completed"
    },
    "tags": []
   },
   "source": [
    "We reshape the data to flatten the image pixels into a set of features or co-variates:"
   ]
  },
  {
   "cell_type": "code",
   "execution_count": 14,
   "id": "5286a4a3",
   "metadata": {
    "execution": {
     "iopub.execute_input": "2022-05-12T10:12:09.264328Z",
     "iopub.status.busy": "2022-05-12T10:12:09.263812Z",
     "iopub.status.idle": "2022-05-12T10:12:09.278190Z",
     "shell.execute_reply": "2022-05-12T10:12:09.278629Z"
    },
    "papermill": {
     "duration": 0.044917,
     "end_time": "2022-05-12T10:12:09.278759",
     "exception": false,
     "start_time": "2022-05-12T10:12:09.233842",
     "status": "completed"
    },
    "tags": []
   },
   "outputs": [
    {
     "data": {
      "text/plain": [
       "((11982, 784), (1984, 784))"
      ]
     },
     "execution_count": 14,
     "metadata": {},
     "output_type": "execute_result"
    }
   ],
   "source": [
    "X_train = X_train.reshape(X_train.shape[0], -1)\n",
    "X_test = X_test.reshape(X_test.shape[0], -1)\n",
    "X_train.shape, X_test.shape"
   ]
  },
  {
   "cell_type": "code",
   "execution_count": 15,
   "id": "73c5f88a",
   "metadata": {
    "execution": {
     "iopub.execute_input": "2022-05-12T10:12:09.337417Z",
     "iopub.status.busy": "2022-05-12T10:12:09.336881Z",
     "iopub.status.idle": "2022-05-12T10:12:09.357124Z",
     "shell.execute_reply": "2022-05-12T10:12:09.356651Z"
    },
    "papermill": {
     "duration": 0.05148,
     "end_time": "2022-05-12T10:12:09.357243",
     "exception": false,
     "start_time": "2022-05-12T10:12:09.305763",
     "status": "completed"
    },
    "tags": []
   },
   "outputs": [],
   "source": [
    "#Impoting functions from 'Kudzu'\n",
    "from kudzu.model import Model\n",
    "from kudzu.train import Learner\n",
    "from kudzu.optim import GD\n",
    "from kudzu.data import Data, Sampler,Dataloader\n",
    "\n",
    "from kudzu.callbacks import AccCallback\n",
    "from kudzu.callbacks import ClfCallback\n",
    "\n",
    "from kudzu.loss import MSE\n",
    "\n",
    "from kudzu.layer import Sigmoid,Relu\n",
    "from kudzu.layer import Affine"
   ]
  },
  {
   "cell_type": "markdown",
   "id": "bc01172a",
   "metadata": {
    "papermill": {
     "duration": 0.027089,
     "end_time": "2022-05-12T10:12:09.411509",
     "exception": false,
     "start_time": "2022-05-12T10:12:09.384420",
     "status": "completed"
    },
    "tags": []
   },
   "source": [
    "### Let us create a `Config` class, to store important parameters. \n",
    "This class essentially plays the role of a dictionary."
   ]
  },
  {
   "cell_type": "code",
   "execution_count": 16,
   "id": "978281aa",
   "metadata": {
    "execution": {
     "iopub.execute_input": "2022-05-12T10:12:09.473021Z",
     "iopub.status.busy": "2022-05-12T10:12:09.472454Z",
     "iopub.status.idle": "2022-05-12T10:12:09.482487Z",
     "shell.execute_reply": "2022-05-12T10:12:09.482067Z"
    },
    "papermill": {
     "duration": 0.044139,
     "end_time": "2022-05-12T10:12:09.482601",
     "exception": false,
     "start_time": "2022-05-12T10:12:09.438462",
     "status": "completed"
    },
    "tags": []
   },
   "outputs": [],
   "source": [
    "class Config:\n",
    "    pass\n",
    "config = Config()\n",
    "config.lr = 0.001\n",
    "config.num_epochs = 250\n",
    "config.bs = 50"
   ]
  },
  {
   "cell_type": "markdown",
   "id": "1385fa59",
   "metadata": {
    "papermill": {
     "duration": 0.027037,
     "end_time": "2022-05-12T10:12:09.536797",
     "exception": false,
     "start_time": "2022-05-12T10:12:09.509760",
     "status": "completed"
    },
    "tags": []
   },
   "source": [
    "### Running Models with the Training data\n",
    "Details about the network layers:\n",
    "- A first affine layer has 784 inputs and does 100 affine transforms. These are followed by a Relu\n",
    "- A second affine layer has 100 inputs from the 100 activations of the past layer, and does 100 affine transforms. These are followed by a Relu\n",
    "- A third affine layer has 100 activations and does 2 affine transformations to create an embedding for visualization. There is no non-linearity here.\n",
    "- A final \"logistic regression\" which has an affine transform from 2 inputs to 1 output, which is squeezed through a sigmoid.\n"
   ]
  },
  {
   "cell_type": "code",
   "execution_count": 17,
   "id": "2b9c66db",
   "metadata": {
    "execution": {
     "iopub.execute_input": "2022-05-12T10:12:09.597700Z",
     "iopub.status.busy": "2022-05-12T10:12:09.597161Z",
     "iopub.status.idle": "2022-05-12T10:12:09.608922Z",
     "shell.execute_reply": "2022-05-12T10:12:09.608476Z"
    },
    "papermill": {
     "duration": 0.045277,
     "end_time": "2022-05-12T10:12:09.609039",
     "exception": false,
     "start_time": "2022-05-12T10:12:09.563762",
     "status": "completed"
    },
    "tags": []
   },
   "outputs": [],
   "source": [
    "data = Data(X_train, y_train.reshape(-1,1))\n",
    "sampler = Sampler(data, config.bs, shuffle=True)\n",
    "\n",
    "dl = Dataloader(data, sampler)\n",
    "\n",
    "opt = GD(config.lr)\n",
    "loss = MSE()"
   ]
  },
  {
   "cell_type": "code",
   "execution_count": 18,
   "id": "b275e4c2",
   "metadata": {
    "execution": {
     "iopub.execute_input": "2022-05-12T10:12:09.666800Z",
     "iopub.status.busy": "2022-05-12T10:12:09.666287Z",
     "iopub.status.idle": "2022-05-12T10:12:09.678956Z",
     "shell.execute_reply": "2022-05-12T10:12:09.678509Z"
    },
    "papermill": {
     "duration": 0.042819,
     "end_time": "2022-05-12T10:12:09.679065",
     "exception": false,
     "start_time": "2022-05-12T10:12:09.636246",
     "status": "completed"
    },
    "tags": []
   },
   "outputs": [],
   "source": [
    "training_data_x = X_train\n",
    "testing_data_x = X_test\n",
    "training_data_y = y_train.reshape(-1,1)\n",
    "testing_data_y = y_test.reshape(-1,1)"
   ]
  },
  {
   "cell_type": "code",
   "execution_count": 19,
   "id": "76951160",
   "metadata": {
    "execution": {
     "iopub.execute_input": "2022-05-12T10:12:09.740014Z",
     "iopub.status.busy": "2022-05-12T10:12:09.739478Z",
     "iopub.status.idle": "2022-05-12T10:12:09.753645Z",
     "shell.execute_reply": "2022-05-12T10:12:09.754083Z"
    },
    "papermill": {
     "duration": 0.048304,
     "end_time": "2022-05-12T10:12:09.754212",
     "exception": false,
     "start_time": "2022-05-12T10:12:09.705908",
     "status": "completed"
    },
    "tags": []
   },
   "outputs": [
    {
     "name": "stdout",
     "output_type": "stream",
     "text": [
      "xavier\n",
      "xavier\n",
      "xavier\n",
      "xavier\n",
      "xavier\n"
     ]
    }
   ],
   "source": [
    "layers = [Affine(\"first\", 784, 100), Relu(\"first\"), Affine(\"second\", 100, 100), Relu(\"second\"), Affine(\"third\", 100, 2), Affine(\"last\", 2, 1), Sigmoid(\"last\")]\n",
    "model_nn = Model(layers)\n",
    "model_lr = Model([Affine(\"logits\", 784, 1), Sigmoid(\"sigmoid\")])"
   ]
  },
  {
   "cell_type": "code",
   "execution_count": 20,
   "id": "6eede77a",
   "metadata": {
    "execution": {
     "iopub.execute_input": "2022-05-12T10:12:09.812508Z",
     "iopub.status.busy": "2022-05-12T10:12:09.811992Z",
     "iopub.status.idle": "2022-05-12T10:12:09.824099Z",
     "shell.execute_reply": "2022-05-12T10:12:09.823655Z"
    },
    "papermill": {
     "duration": 0.04281,
     "end_time": "2022-05-12T10:12:09.824206",
     "exception": false,
     "start_time": "2022-05-12T10:12:09.781396",
     "status": "completed"
    },
    "tags": []
   },
   "outputs": [],
   "source": [
    "nn_learner = Learner(loss, model_nn, opt, config.num_epochs)\n",
    "acc_nn = ClfCallback(nn_learner, config.bs, training_data_x , testing_data_x, training_data_y, testing_data_y)\n",
    "nn_learner.set_callbacks([acc_nn])"
   ]
  },
  {
   "cell_type": "code",
   "execution_count": 21,
   "id": "877b6cc7",
   "metadata": {
    "execution": {
     "iopub.execute_input": "2022-05-12T10:12:09.893888Z",
     "iopub.status.busy": "2022-05-12T10:12:09.887252Z",
     "iopub.status.idle": "2022-05-12T10:12:09.895709Z",
     "shell.execute_reply": "2022-05-12T10:12:09.896093Z"
    },
    "papermill": {
     "duration": 0.044835,
     "end_time": "2022-05-12T10:12:09.896221",
     "exception": false,
     "start_time": "2022-05-12T10:12:09.851386",
     "status": "completed"
    },
    "tags": []
   },
   "outputs": [],
   "source": [
    "lr_learner = Learner(loss, model_lr, opt, config.num_epochs)\n",
    "acc_lr = ClfCallback(lr_learner, config.bs, training_data_x , testing_data_x, training_data_y, testing_data_y)\n",
    "lr_learner.set_callbacks([acc_lr])"
   ]
  },
  {
   "cell_type": "code",
   "execution_count": 22,
   "id": "d9b133c3",
   "metadata": {
    "execution": {
     "iopub.execute_input": "2022-05-12T10:12:09.953670Z",
     "iopub.status.busy": "2022-05-12T10:12:09.953148Z",
     "iopub.status.idle": "2022-05-12T10:13:28.879185Z",
     "shell.execute_reply": "2022-05-12T10:13:28.879954Z"
    },
    "papermill": {
     "duration": 78.956749,
     "end_time": "2022-05-12T10:13:28.880106",
     "exception": false,
     "start_time": "2022-05-12T10:12:09.923357",
     "status": "completed"
    },
    "tags": []
   },
   "outputs": [
    {
     "name": "stdout",
     "output_type": "stream",
     "text": [
      "Epoch 0, Loss 0.217\n",
      "Training Accuracy: 0.7969, Testing Accuracy: 0.8271\n",
      "\n"
     ]
    },
    {
     "name": "stdout",
     "output_type": "stream",
     "text": [
      "Epoch 10, Loss 0.0721\n",
      "Training Accuracy: 0.9290, Testing Accuracy: 0.9390\n",
      "\n"
     ]
    },
    {
     "name": "stdout",
     "output_type": "stream",
     "text": [
      "Epoch 20, Loss 0.0497\n",
      "Training Accuracy: 0.9457, Testing Accuracy: 0.9582\n",
      "\n"
     ]
    },
    {
     "name": "stdout",
     "output_type": "stream",
     "text": [
      "Epoch 30, Loss 0.041\n",
      "Training Accuracy: 0.9538, Testing Accuracy: 0.9627\n",
      "\n"
     ]
    },
    {
     "name": "stdout",
     "output_type": "stream",
     "text": [
      "Epoch 40, Loss 0.0362\n",
      "Training Accuracy: 0.9594, Testing Accuracy: 0.9662\n",
      "\n"
     ]
    },
    {
     "name": "stdout",
     "output_type": "stream",
     "text": [
      "Epoch 50, Loss 0.0331\n",
      "Training Accuracy: 0.9609, Testing Accuracy: 0.9703\n",
      "\n"
     ]
    },
    {
     "name": "stdout",
     "output_type": "stream",
     "text": [
      "Epoch 60, Loss 0.0309\n",
      "Training Accuracy: 0.9636, Testing Accuracy: 0.9703\n",
      "\n"
     ]
    },
    {
     "name": "stdout",
     "output_type": "stream",
     "text": [
      "Epoch 70, Loss 0.0292\n",
      "Training Accuracy: 0.9652, Testing Accuracy: 0.9688\n",
      "\n"
     ]
    },
    {
     "name": "stdout",
     "output_type": "stream",
     "text": [
      "Epoch 80, Loss 0.0278\n",
      "Training Accuracy: 0.9668, Testing Accuracy: 0.9688\n",
      "\n"
     ]
    },
    {
     "name": "stdout",
     "output_type": "stream",
     "text": [
      "Epoch 90, Loss 0.0265\n",
      "Training Accuracy: 0.9685, Testing Accuracy: 0.9698\n",
      "\n"
     ]
    },
    {
     "name": "stdout",
     "output_type": "stream",
     "text": [
      "Epoch 100, Loss 0.0255\n",
      "Training Accuracy: 0.9695, Testing Accuracy: 0.9713\n",
      "\n"
     ]
    },
    {
     "name": "stdout",
     "output_type": "stream",
     "text": [
      "Epoch 110, Loss 0.0245\n",
      "Training Accuracy: 0.9708, Testing Accuracy: 0.9718\n",
      "\n"
     ]
    },
    {
     "name": "stdout",
     "output_type": "stream",
     "text": [
      "Epoch 120, Loss 0.0237\n",
      "Training Accuracy: 0.9715, Testing Accuracy: 0.9713\n",
      "\n"
     ]
    },
    {
     "name": "stdout",
     "output_type": "stream",
     "text": [
      "Epoch 130, Loss 0.0229\n",
      "Training Accuracy: 0.9730, Testing Accuracy: 0.9713\n",
      "\n"
     ]
    },
    {
     "name": "stdout",
     "output_type": "stream",
     "text": [
      "Epoch 140, Loss 0.0222\n",
      "Training Accuracy: 0.9741, Testing Accuracy: 0.9723\n",
      "\n"
     ]
    },
    {
     "name": "stdout",
     "output_type": "stream",
     "text": [
      "Epoch 150, Loss 0.0216\n",
      "Training Accuracy: 0.9751, Testing Accuracy: 0.9723\n",
      "\n"
     ]
    },
    {
     "name": "stdout",
     "output_type": "stream",
     "text": [
      "Epoch 160, Loss 0.021\n",
      "Training Accuracy: 0.9761, Testing Accuracy: 0.9728\n",
      "\n"
     ]
    },
    {
     "name": "stdout",
     "output_type": "stream",
     "text": [
      "Epoch 170, Loss 0.0204\n",
      "Training Accuracy: 0.9771, Testing Accuracy: 0.9738\n",
      "\n"
     ]
    },
    {
     "name": "stdout",
     "output_type": "stream",
     "text": [
      "Epoch 180, Loss 0.0199\n",
      "Training Accuracy: 0.9775, Testing Accuracy: 0.9733\n",
      "\n"
     ]
    },
    {
     "name": "stdout",
     "output_type": "stream",
     "text": [
      "Epoch 190, Loss 0.0194\n",
      "Training Accuracy: 0.9783, Testing Accuracy: 0.9728\n",
      "\n"
     ]
    },
    {
     "name": "stdout",
     "output_type": "stream",
     "text": [
      "Epoch 200, Loss 0.0189\n",
      "Training Accuracy: 0.9791, Testing Accuracy: 0.9733\n",
      "\n"
     ]
    },
    {
     "name": "stdout",
     "output_type": "stream",
     "text": [
      "Epoch 210, Loss 0.0185\n",
      "Training Accuracy: 0.9801, Testing Accuracy: 0.9733\n",
      "\n"
     ]
    },
    {
     "name": "stdout",
     "output_type": "stream",
     "text": [
      "Epoch 220, Loss 0.018\n",
      "Training Accuracy: 0.9808, Testing Accuracy: 0.9733\n",
      "\n"
     ]
    },
    {
     "name": "stdout",
     "output_type": "stream",
     "text": [
      "Epoch 230, Loss 0.0176\n",
      "Training Accuracy: 0.9816, Testing Accuracy: 0.9743\n",
      "\n"
     ]
    },
    {
     "name": "stdout",
     "output_type": "stream",
     "text": [
      "Epoch 240, Loss 0.0172\n",
      "Training Accuracy: 0.9820, Testing Accuracy: 0.9743\n",
      "\n"
     ]
    },
    {
     "data": {
      "text/plain": [
       "0.02404578086885704"
      ]
     },
     "execution_count": 22,
     "metadata": {},
     "output_type": "execute_result"
    }
   ],
   "source": [
    "nn_learner.train_loop(dl)"
   ]
  },
  {
   "cell_type": "code",
   "execution_count": 23,
   "id": "e0163366",
   "metadata": {
    "execution": {
     "iopub.execute_input": "2022-05-12T10:13:28.972484Z",
     "iopub.status.busy": "2022-05-12T10:13:28.971940Z",
     "iopub.status.idle": "2022-05-12T10:13:42.999892Z",
     "shell.execute_reply": "2022-05-12T10:13:43.000662Z"
    },
    "papermill": {
     "duration": 14.086252,
     "end_time": "2022-05-12T10:13:43.000832",
     "exception": false,
     "start_time": "2022-05-12T10:13:28.914580",
     "status": "completed"
    },
    "tags": []
   },
   "outputs": [
    {
     "name": "stdout",
     "output_type": "stream",
     "text": [
      "Epoch 0, Loss 0.2112\n",
      "Training Accuracy: 0.7622, Testing Accuracy: 0.7918\n",
      "\n"
     ]
    },
    {
     "name": "stdout",
     "output_type": "stream",
     "text": [
      "Epoch 10, Loss 0.1015\n",
      "Training Accuracy: 0.9062, Testing Accuracy: 0.9168\n",
      "\n"
     ]
    },
    {
     "name": "stdout",
     "output_type": "stream",
     "text": [
      "Epoch 20, Loss 0.079\n",
      "Training Accuracy: 0.9241, Testing Accuracy: 0.9360\n",
      "\n"
     ]
    },
    {
     "name": "stdout",
     "output_type": "stream",
     "text": [
      "Epoch 30, Loss 0.0683\n",
      "Training Accuracy: 0.9340, Testing Accuracy: 0.9476\n",
      "\n"
     ]
    },
    {
     "name": "stdout",
     "output_type": "stream",
     "text": [
      "Epoch 40, Loss 0.0617\n",
      "Training Accuracy: 0.9394, Testing Accuracy: 0.9516\n",
      "\n"
     ]
    },
    {
     "name": "stdout",
     "output_type": "stream",
     "text": [
      "Epoch 50, Loss 0.0572\n",
      "Training Accuracy: 0.9425, Testing Accuracy: 0.9546\n",
      "\n"
     ]
    },
    {
     "name": "stdout",
     "output_type": "stream",
     "text": [
      "Epoch 60, Loss 0.0539\n",
      "Training Accuracy: 0.9455, Testing Accuracy: 0.9551\n",
      "\n"
     ]
    },
    {
     "name": "stdout",
     "output_type": "stream",
     "text": [
      "Epoch 70, Loss 0.0514\n",
      "Training Accuracy: 0.9483, Testing Accuracy: 0.9577\n",
      "\n"
     ]
    },
    {
     "name": "stdout",
     "output_type": "stream",
     "text": [
      "Epoch 80, Loss 0.0493\n",
      "Training Accuracy: 0.9493, Testing Accuracy: 0.9602\n",
      "\n"
     ]
    },
    {
     "name": "stdout",
     "output_type": "stream",
     "text": [
      "Epoch 90, Loss 0.0476\n",
      "Training Accuracy: 0.9509, Testing Accuracy: 0.9612\n",
      "\n"
     ]
    },
    {
     "name": "stdout",
     "output_type": "stream",
     "text": [
      "Epoch 100, Loss 0.0462\n",
      "Training Accuracy: 0.9523, Testing Accuracy: 0.9632\n",
      "\n"
     ]
    },
    {
     "name": "stdout",
     "output_type": "stream",
     "text": [
      "Epoch 110, Loss 0.045\n",
      "Training Accuracy: 0.9532, Testing Accuracy: 0.9642\n",
      "\n"
     ]
    },
    {
     "name": "stdout",
     "output_type": "stream",
     "text": [
      "Epoch 120, Loss 0.0439\n",
      "Training Accuracy: 0.9543, Testing Accuracy: 0.9652\n",
      "\n"
     ]
    },
    {
     "name": "stdout",
     "output_type": "stream",
     "text": [
      "Epoch 130, Loss 0.043\n",
      "Training Accuracy: 0.9551, Testing Accuracy: 0.9657\n",
      "\n"
     ]
    },
    {
     "name": "stdout",
     "output_type": "stream",
     "text": [
      "Epoch 140, Loss 0.0422\n",
      "Training Accuracy: 0.9559, Testing Accuracy: 0.9657\n",
      "\n"
     ]
    },
    {
     "name": "stdout",
     "output_type": "stream",
     "text": [
      "Epoch 150, Loss 0.0414\n",
      "Training Accuracy: 0.9562, Testing Accuracy: 0.9657\n",
      "\n"
     ]
    },
    {
     "name": "stdout",
     "output_type": "stream",
     "text": [
      "Epoch 160, Loss 0.0407\n",
      "Training Accuracy: 0.9566, Testing Accuracy: 0.9657\n",
      "\n"
     ]
    },
    {
     "name": "stdout",
     "output_type": "stream",
     "text": [
      "Epoch 170, Loss 0.0401\n",
      "Training Accuracy: 0.9571, Testing Accuracy: 0.9662\n",
      "\n"
     ]
    },
    {
     "name": "stdout",
     "output_type": "stream",
     "text": [
      "Epoch 180, Loss 0.0396\n",
      "Training Accuracy: 0.9574, Testing Accuracy: 0.9662\n",
      "\n"
     ]
    },
    {
     "name": "stdout",
     "output_type": "stream",
     "text": [
      "Epoch 190, Loss 0.0391\n",
      "Training Accuracy: 0.9580, Testing Accuracy: 0.9667\n",
      "\n"
     ]
    },
    {
     "name": "stdout",
     "output_type": "stream",
     "text": [
      "Epoch 200, Loss 0.0386\n",
      "Training Accuracy: 0.9583, Testing Accuracy: 0.9667\n",
      "\n"
     ]
    },
    {
     "name": "stdout",
     "output_type": "stream",
     "text": [
      "Epoch 210, Loss 0.0381\n",
      "Training Accuracy: 0.9585, Testing Accuracy: 0.9667\n",
      "\n"
     ]
    },
    {
     "name": "stdout",
     "output_type": "stream",
     "text": [
      "Epoch 220, Loss 0.0377\n",
      "Training Accuracy: 0.9592, Testing Accuracy: 0.9667\n",
      "\n"
     ]
    },
    {
     "name": "stdout",
     "output_type": "stream",
     "text": [
      "Epoch 230, Loss 0.0373\n",
      "Training Accuracy: 0.9599, Testing Accuracy: 0.9672\n",
      "\n"
     ]
    },
    {
     "name": "stdout",
     "output_type": "stream",
     "text": [
      "Epoch 240, Loss 0.037\n",
      "Training Accuracy: 0.9604, Testing Accuracy: 0.9677\n",
      "\n"
     ]
    },
    {
     "data": {
      "text/plain": [
       "0.05353092210648175"
      ]
     },
     "execution_count": 23,
     "metadata": {},
     "output_type": "execute_result"
    }
   ],
   "source": [
    "lr_learner.train_loop(dl)"
   ]
  },
  {
   "cell_type": "code",
   "execution_count": 24,
   "id": "ca410940",
   "metadata": {
    "execution": {
     "iopub.execute_input": "2022-05-12T10:13:43.090652Z",
     "iopub.status.busy": "2022-05-12T10:13:43.090123Z",
     "iopub.status.idle": "2022-05-12T10:13:43.311073Z",
     "shell.execute_reply": "2022-05-12T10:13:43.310606Z"
    },
    "papermill": {
     "duration": 0.269101,
     "end_time": "2022-05-12T10:13:43.311191",
     "exception": false,
     "start_time": "2022-05-12T10:13:43.042090",
     "status": "completed"
    },
    "tags": []
   },
   "outputs": [
    {
     "data": {
      "text/plain": [
       "<matplotlib.legend.Legend at 0x7fc4dcaf5c50>"
      ]
     },
     "execution_count": 24,
     "metadata": {},
     "output_type": "execute_result"
    },
    {
     "data": {
      "image/png": "[encoded data removed]",
      "text/plain": [
       "<Figure size 1080x720 with 1 Axes>"
      ]
     },
     "metadata": {
      "needs_background": "light"
     },
     "output_type": "display_data"
    }
   ],
   "source": [
    "#comparing the results of NN and LR\n",
    "plt.figure(figsize=(15,10))\n",
    "\n",
    "# Neural Network plots\n",
    "plt.plot(acc_nn.accuracies, 'r-', label = \"Training Accuracies - NN\")\n",
    "plt.plot(acc_nn.test_accuracies, 'g-', label = \"Testing Accuracies - NN\")\n",
    "\n",
    "# Logistic Regression plots\n",
    "plt.plot(acc_lr.accuracies, 'k-', label = \"Training Accuracies - LR\")\n",
    "plt.plot(acc_lr.test_accuracies, 'b-', label = \"Testing Accuracies - LR\")\n",
    "plt.legend()"
   ]
  },
  {
   "cell_type": "markdown",
   "id": "80dfb35c",
   "metadata": {
    "papermill": {
     "duration": 0.04207,
     "end_time": "2022-05-12T10:13:43.395976",
     "exception": false,
     "start_time": "2022-05-12T10:13:43.353906",
     "status": "completed"
    },
    "tags": []
   },
   "source": [
    "#### Plotting the outputs of this layer of the NN.\n"
   ]
  },
  {
   "cell_type": "code",
   "execution_count": 25,
   "id": "45eb2ff5",
   "metadata": {
    "execution": {
     "iopub.execute_input": "2022-05-12T10:13:43.484465Z",
     "iopub.status.busy": "2022-05-12T10:13:43.483929Z",
     "iopub.status.idle": "2022-05-12T10:13:43.503948Z",
     "shell.execute_reply": "2022-05-12T10:13:43.504415Z"
    },
    "papermill": {
     "duration": 0.066415,
     "end_time": "2022-05-12T10:13:43.504559",
     "exception": false,
     "start_time": "2022-05-12T10:13:43.438144",
     "status": "completed"
    },
    "tags": []
   },
   "outputs": [],
   "source": [
    "new_model = Model(layers[:-2])\n",
    "testing_plot = new_model(testing_data_x)"
   ]
  },
  {
   "cell_type": "code",
   "execution_count": 26,
   "id": "4c0a5485",
   "metadata": {
    "execution": {
     "iopub.execute_input": "2022-05-12T10:13:43.596982Z",
     "iopub.status.busy": "2022-05-12T10:13:43.596444Z",
     "iopub.status.idle": "2022-05-12T10:13:43.785753Z",
     "shell.execute_reply": "2022-05-12T10:13:43.785321Z"
    },
    "papermill": {
     "duration": 0.23712,
     "end_time": "2022-05-12T10:13:43.785872",
     "exception": false,
     "start_time": "2022-05-12T10:13:43.548752",
     "status": "completed"
    },
    "tags": []
   },
   "outputs": [
    {
     "data": {
      "text/plain": [
       "Text(0.5, 1.0, 'Outputs')"
      ]
     },
     "execution_count": 26,
     "metadata": {},
     "output_type": "execute_result"
    },
    {
     "data": {
      "image/png": "[encoded data removed]",
      "text/plain": [
       "<Figure size 576x504 with 1 Axes>"
      ]
     },
     "metadata": {
      "needs_background": "light"
     },
     "output_type": "display_data"
    }
   ],
   "source": [
    "# Plotting the scatter plot of points and color coding by class\n",
    "plt.figure(figsize=(8,7))\n",
    "plt.scatter(testing_plot[:,0], testing_plot[:,1], alpha = 0.1, c = y_test.ravel());\n",
    "plt.title('Outputs')"
   ]
  },
  {
   "cell_type": "markdown",
   "id": "a74fcf8f",
   "metadata": {
    "papermill": {
     "duration": 0.044229,
     "end_time": "2022-05-12T10:13:43.874469",
     "exception": false,
     "start_time": "2022-05-12T10:13:43.830240",
     "status": "completed"
    },
    "tags": []
   },
   "source": [
    "Probability contours"
   ]
  },
  {
   "cell_type": "code",
   "execution_count": 27,
   "id": "d0afc8e3",
   "metadata": {
    "execution": {
     "iopub.execute_input": "2022-05-12T10:13:43.980634Z",
     "iopub.status.busy": "2022-05-12T10:13:43.977900Z",
     "iopub.status.idle": "2022-05-12T10:13:43.982494Z",
     "shell.execute_reply": "2022-05-12T10:13:43.982877Z"
    },
    "papermill": {
     "duration": 0.063978,
     "end_time": "2022-05-12T10:13:43.983006",
     "exception": false,
     "start_time": "2022-05-12T10:13:43.919028",
     "status": "completed"
    },
    "tags": []
   },
   "outputs": [],
   "source": [
    "model_prob = Model(layers[-2:]) "
   ]
  },
  {
   "cell_type": "code",
   "execution_count": 28,
   "id": "9b96e238",
   "metadata": {
    "execution": {
     "iopub.execute_input": "2022-05-12T10:13:44.086243Z",
     "iopub.status.busy": "2022-05-12T10:13:44.085701Z",
     "iopub.status.idle": "2022-05-12T10:13:44.092502Z",
     "shell.execute_reply": "2022-05-12T10:13:44.093013Z"
    },
    "papermill": {
     "duration": 0.06598,
     "end_time": "2022-05-12T10:13:44.093146",
     "exception": false,
     "start_time": "2022-05-12T10:13:44.027166",
     "status": "completed"
    },
    "tags": []
   },
   "outputs": [],
   "source": [
    "#creating the x and y ranges according to the above generated plot.\n",
    "x_range = np.linspace(-4, 1, 100) \n",
    "y_range = np.linspace(-6, 6, 100) \n",
    "x_grid, y_grid = np.meshgrid(x_range, y_range) # x_grid and y_grig are of size 100 X 100\n",
    "\n",
    "# converting x_grid and y_grid to continuous arrays\n",
    "x_gridflat = np.ravel(x_grid)\n",
    "y_gridflat = np.ravel(y_grid)\n",
    "\n",
    "# The last layer of the current model takes two columns as input. Hence transpose of np.vstack() is required.\n",
    "X = np.vstack((x_gridflat, y_gridflat)).T\n",
    "\n",
    "prob_contour = model_prob(X).reshape(100,100) "
   ]
  },
  {
   "cell_type": "code",
   "execution_count": 29,
   "id": "da72499a",
   "metadata": {
    "execution": {
     "iopub.execute_input": "2022-05-12T10:13:44.211965Z",
     "iopub.status.busy": "2022-05-12T10:13:44.211451Z",
     "iopub.status.idle": "2022-05-12T10:13:44.467288Z",
     "shell.execute_reply": "2022-05-12T10:13:44.467686Z"
    },
    "papermill": {
     "duration": 0.330209,
     "end_time": "2022-05-12T10:13:44.467831",
     "exception": false,
     "start_time": "2022-05-12T10:13:44.137622",
     "status": "completed"
    },
    "tags": []
   },
   "outputs": [
    {
     "data": {
      "image/png": "[encoded data removed]",
      "text/plain": [
       "<Figure size 720x648 with 1 Axes>"
      ]
     },
     "metadata": {
      "needs_background": "light"
     },
     "output_type": "display_data"
    }
   ],
   "source": [
    "plt.figure(figsize=(10,9))\n",
    "plt.scatter(testing_plot[:,0], testing_plot[:,1], alpha = 0.1, c = y_test.ravel())\n",
    "contours = plt.contour(x_grid,y_grid,prob_contour)\n",
    "plt.title('Probability Contours')\n",
    "plt.clabel(contours, inline = True );"
   ]
  },
  {
   "cell_type": "code",
   "execution_count": null,
   "id": "e81b4ac7",
   "metadata": {
    "papermill": {
     "duration": 0.047243,
     "end_time": "2022-05-12T10:13:44.562782",
     "exception": false,
     "start_time": "2022-05-12T10:13:44.515539",
     "status": "completed"
    },
    "tags": []
   },
   "outputs": [],
   "source": []
  }
 ],
 "metadata": {
  "kernelspec": {
   "display_name": "Python 3",
   "language": "python",
   "name": "python3"
  },
  "language_info": {
   "codemirror_mode": {
    "name": "ipython",
    "version": 3
   },
   "file_extension": ".py",
   "mimetype": "text/x-python",
   "name": "python",
   "nbconvert_exporter": "python",
   "pygments_lexer": "ipython3",
   "version": "3.6.15"
  },
  "papermill": {
   "default_parameters": {},
   "duration": 101.27493,
   "end_time": "2022-05-12T10:13:45.028598",
   "environment_variables": {},
   "exception": null,
   "input_path": "2020-08-11-part2.ipynb",
   "output_path": "2020-08-11-part2.ipynb",
   "parameters": {},
   "start_time": "2022-05-12T10:12:03.753668",
   "version": "2.3.3"
  }
 },
 "nbformat": 4,
 "nbformat_minor": 5
}