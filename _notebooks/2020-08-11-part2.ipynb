{
 "cells": [
  {
   "cell_type": "markdown",
   "id": "98380cd3",
   "metadata": {
    "papermill": {
     "duration": 0.028179,
     "end_time": "2022-01-26T20:07:32.178304",
     "exception": false,
     "start_time": "2022-01-26T20:07:32.150125",
     "status": "completed"
    },
    "tags": []
   },
   "source": [
    "# Distinguish Your Own Digits (DYOD)"
   ]
  },
  {
   "cell_type": "markdown",
   "id": "ef31240d",
   "metadata": {
    "papermill": {
     "duration": 0.023601,
     "end_time": "2022-01-26T20:07:32.226131",
     "exception": false,
     "start_time": "2022-01-26T20:07:32.202530",
     "status": "completed"
    },
    "tags": []
   },
   "source": [
    "You are going to write a classifier that distinguishes between the number 3 and number 8."
   ]
  },
  {
   "cell_type": "code",
   "execution_count": 1,
   "id": "b15c8646",
   "metadata": {
    "execution": {
     "iopub.execute_input": "2022-01-26T20:07:32.284342Z",
     "iopub.status.busy": "2022-01-26T20:07:32.283815Z",
     "iopub.status.idle": "2022-01-26T20:07:32.293365Z",
     "shell.execute_reply": "2022-01-26T20:07:32.292934Z"
    },
    "papermill": {
     "duration": 0.043865,
     "end_time": "2022-01-26T20:07:32.293490",
     "exception": false,
     "start_time": "2022-01-26T20:07:32.249625",
     "status": "completed"
    },
    "tags": []
   },
   "outputs": [],
   "source": [
    "%load_ext autoreload\n",
    "%autoreload 2"
   ]
  },
  {
   "cell_type": "code",
   "execution_count": 2,
   "id": "22ef38dc",
   "metadata": {
    "execution": {
     "iopub.execute_input": "2022-01-26T20:07:32.344934Z",
     "iopub.status.busy": "2022-01-26T20:07:32.344418Z",
     "iopub.status.idle": "2022-01-26T20:07:32.870194Z",
     "shell.execute_reply": "2022-01-26T20:07:32.870647Z"
    },
    "papermill": {
     "duration": 0.553472,
     "end_time": "2022-01-26T20:07:32.870814",
     "exception": false,
     "start_time": "2022-01-26T20:07:32.317342",
     "status": "completed"
    },
    "tags": []
   },
   "outputs": [],
   "source": [
    "%matplotlib inline\n",
    "import numpy as np\n",
    "import matplotlib.pyplot as plt\n",
    "import pandas as pd"
   ]
  },
  {
   "cell_type": "markdown",
   "id": "ba036198",
   "metadata": {
    "papermill": {
     "duration": 0.023783,
     "end_time": "2022-01-26T20:07:32.918524",
     "exception": false,
     "start_time": "2022-01-26T20:07:32.894741",
     "status": "completed"
    },
    "tags": []
   },
   "source": [
    "From the command line run `pip install mnist`. This is a library that will help you bring down the mnist dataset. If you run this from a notebook, you need to put  `!pip install mnist` in a cell by itself."
   ]
  },
  {
   "cell_type": "code",
   "execution_count": 3,
   "id": "bb6ad8a1",
   "metadata": {
    "execution": {
     "iopub.execute_input": "2022-01-26T20:07:32.970027Z",
     "iopub.status.busy": "2022-01-26T20:07:32.969485Z",
     "iopub.status.idle": "2022-01-26T20:07:34.656947Z",
     "shell.execute_reply": "2022-01-26T20:07:34.655897Z"
    },
    "papermill": {
     "duration": 1.714794,
     "end_time": "2022-01-26T20:07:34.657072",
     "exception": false,
     "start_time": "2022-01-26T20:07:32.942278",
     "status": "completed"
    },
    "tags": []
   },
   "outputs": [
    {
     "name": "stdout",
     "output_type": "stream",
     "text": [
      "Collecting mnist\r\n"
     ]
    },
    {
     "name": "stdout",
     "output_type": "stream",
     "text": [
      "  Downloading mnist-0.2.2-py2.py3-none-any.whl (3.5 kB)\r\n",
      "Requirement already satisfied: numpy in /opt/hostedtoolcache/Python/3.6.15/x64/lib/python3.6/site-packages (from mnist) (1.19.5)\r\n"
     ]
    },
    {
     "name": "stdout",
     "output_type": "stream",
     "text": [
      "Installing collected packages: mnist\r\n"
     ]
    },
    {
     "name": "stdout",
     "output_type": "stream",
     "text": [
      "Successfully installed mnist-0.2.2\r\n"
     ]
    }
   ],
   "source": [
    "!pip install mnist"
   ]
  },
  {
   "cell_type": "markdown",
   "id": "69df9c9a",
   "metadata": {
    "papermill": {
     "duration": 0.021816,
     "end_time": "2022-01-26T20:07:34.701182",
     "exception": false,
     "start_time": "2022-01-26T20:07:34.679366",
     "status": "completed"
    },
    "tags": []
   },
   "source": [
    "## Preparing the Data"
   ]
  },
  {
   "cell_type": "code",
   "execution_count": 4,
   "id": "7f69d806",
   "metadata": {
    "execution": {
     "iopub.execute_input": "2022-01-26T20:07:34.748862Z",
     "iopub.status.busy": "2022-01-26T20:07:34.748400Z",
     "iopub.status.idle": "2022-01-26T20:07:34.762463Z",
     "shell.execute_reply": "2022-01-26T20:07:34.762062Z"
    },
    "papermill": {
     "duration": 0.03959,
     "end_time": "2022-01-26T20:07:34.762566",
     "exception": false,
     "start_time": "2022-01-26T20:07:34.722976",
     "status": "completed"
    },
    "tags": []
   },
   "outputs": [],
   "source": [
    "import mnist"
   ]
  },
  {
   "cell_type": "code",
   "execution_count": 5,
   "id": "a411e44f",
   "metadata": {
    "execution": {
     "iopub.execute_input": "2022-01-26T20:07:34.813602Z",
     "iopub.status.busy": "2022-01-26T20:07:34.813133Z",
     "iopub.status.idle": "2022-01-26T20:07:35.337341Z",
     "shell.execute_reply": "2022-01-26T20:07:35.336825Z"
    },
    "papermill": {
     "duration": 0.553122,
     "end_time": "2022-01-26T20:07:35.337487",
     "exception": false,
     "start_time": "2022-01-26T20:07:34.784365",
     "status": "completed"
    },
    "tags": []
   },
   "outputs": [],
   "source": [
    "train_images = mnist.train_images()\n",
    "train_labels = mnist.train_labels()"
   ]
  },
  {
   "cell_type": "code",
   "execution_count": 6,
   "id": "dceab3a5",
   "metadata": {
    "execution": {
     "iopub.execute_input": "2022-01-26T20:07:35.385398Z",
     "iopub.status.busy": "2022-01-26T20:07:35.384937Z",
     "iopub.status.idle": "2022-01-26T20:07:35.399582Z",
     "shell.execute_reply": "2022-01-26T20:07:35.399222Z"
    },
    "papermill": {
     "duration": 0.039836,
     "end_time": "2022-01-26T20:07:35.399684",
     "exception": false,
     "start_time": "2022-01-26T20:07:35.359848",
     "status": "completed"
    },
    "tags": []
   },
   "outputs": [
    {
     "data": {
      "text/plain": [
       "((60000, 28, 28), (60000,))"
      ]
     },
     "execution_count": 6,
     "metadata": {},
     "output_type": "execute_result"
    }
   ],
   "source": [
    "train_images.shape, train_labels.shape"
   ]
  },
  {
   "cell_type": "code",
   "execution_count": 7,
   "id": "f50dc2bb",
   "metadata": {
    "execution": {
     "iopub.execute_input": "2022-01-26T20:07:35.447146Z",
     "iopub.status.busy": "2022-01-26T20:07:35.446541Z",
     "iopub.status.idle": "2022-01-26T20:07:35.589771Z",
     "shell.execute_reply": "2022-01-26T20:07:35.589201Z"
    },
    "papermill": {
     "duration": 0.168358,
     "end_time": "2022-01-26T20:07:35.589939",
     "exception": false,
     "start_time": "2022-01-26T20:07:35.421581",
     "status": "completed"
    },
    "tags": []
   },
   "outputs": [],
   "source": [
    "test_images = mnist.test_images()\n",
    "test_labels = mnist.test_labels()"
   ]
  },
  {
   "cell_type": "code",
   "execution_count": 8,
   "id": "fc38cf1b",
   "metadata": {
    "execution": {
     "iopub.execute_input": "2022-01-26T20:07:35.648113Z",
     "iopub.status.busy": "2022-01-26T20:07:35.647606Z",
     "iopub.status.idle": "2022-01-26T20:07:35.657575Z",
     "shell.execute_reply": "2022-01-26T20:07:35.657165Z"
    },
    "papermill": {
     "duration": 0.041747,
     "end_time": "2022-01-26T20:07:35.657686",
     "exception": false,
     "start_time": "2022-01-26T20:07:35.615939",
     "status": "completed"
    },
    "tags": []
   },
   "outputs": [
    {
     "data": {
      "text/plain": [
       "((10000, 28, 28), (10000,))"
      ]
     },
     "execution_count": 8,
     "metadata": {},
     "output_type": "execute_result"
    }
   ],
   "source": [
    "test_images.shape, test_labels.shape"
   ]
  },
  {
   "cell_type": "code",
   "execution_count": 9,
   "id": "f9ed8fe0",
   "metadata": {
    "execution": {
     "iopub.execute_input": "2022-01-26T20:07:35.711653Z",
     "iopub.status.busy": "2022-01-26T20:07:35.711138Z",
     "iopub.status.idle": "2022-01-26T20:07:35.835246Z",
     "shell.execute_reply": "2022-01-26T20:07:35.835716Z"
    },
    "papermill": {
     "duration": 0.153052,
     "end_time": "2022-01-26T20:07:35.835871",
     "exception": false,
     "start_time": "2022-01-26T20:07:35.682819",
     "status": "completed"
    },
    "tags": []
   },
   "outputs": [
    {
     "name": "stdout",
     "output_type": "stream",
     "text": [
      "2\n"
     ]
    },
    {
     "data": {
      "text/plain": [
       "<matplotlib.image.AxesImage at 0x7ff460f72ac8>"
      ]
     },
     "execution_count": 9,
     "metadata": {},
     "output_type": "execute_result"
    },
    {
     "data": {
      "image/png": "[encoded data removed]",
      "text/plain": [
       "<Figure size 432x288 with 1 Axes>"
      ]
     },
     "metadata": {
      "needs_background": "light"
     },
     "output_type": "display_data"
    }
   ],
   "source": [
    "image_index = 7776 # You may select anything up to 60,000\n",
    "print(train_labels[image_index]) \n",
    "plt.imshow(train_images[image_index], cmap='Greys')"
   ]
  },
  {
   "cell_type": "markdown",
   "id": "a8d2388d",
   "metadata": {
    "papermill": {
     "duration": 0.025966,
     "end_time": "2022-01-26T20:07:35.888676",
     "exception": false,
     "start_time": "2022-01-26T20:07:35.862710",
     "status": "completed"
    },
    "tags": []
   },
   "source": [
    "## Filter data to get 3 and 8 out"
   ]
  },
  {
   "cell_type": "code",
   "execution_count": 10,
   "id": "776f7fc7",
   "metadata": {
    "execution": {
     "iopub.execute_input": "2022-01-26T20:07:35.947801Z",
     "iopub.status.busy": "2022-01-26T20:07:35.947273Z",
     "iopub.status.idle": "2022-01-26T20:07:35.964416Z",
     "shell.execute_reply": "2022-01-26T20:07:35.964813Z"
    },
    "papermill": {
     "duration": 0.050233,
     "end_time": "2022-01-26T20:07:35.964951",
     "exception": false,
     "start_time": "2022-01-26T20:07:35.914718",
     "status": "completed"
    },
    "tags": []
   },
   "outputs": [],
   "source": [
    "train_filter = np.where((train_labels == 3 ) | (train_labels == 8))\n",
    "test_filter = np.where((test_labels == 3) | (test_labels == 8))\n",
    "X_train, y_train = train_images[train_filter], train_labels[train_filter]\n",
    "X_test, y_test = test_images[test_filter], test_labels[test_filter]"
   ]
  },
  {
   "cell_type": "markdown",
   "id": "948f0b7e",
   "metadata": {
    "papermill": {
     "duration": 0.026039,
     "end_time": "2022-01-26T20:07:36.017638",
     "exception": false,
     "start_time": "2022-01-26T20:07:35.991599",
     "status": "completed"
    },
    "tags": []
   },
   "source": [
    "We normalize the pizel values in the 0 to 1 range"
   ]
  },
  {
   "cell_type": "code",
   "execution_count": 11,
   "id": "ee4c2166",
   "metadata": {
    "execution": {
     "iopub.execute_input": "2022-01-26T20:07:36.073780Z",
     "iopub.status.busy": "2022-01-26T20:07:36.073256Z",
     "iopub.status.idle": "2022-01-26T20:07:36.119029Z",
     "shell.execute_reply": "2022-01-26T20:07:36.118480Z"
    },
    "papermill": {
     "duration": 0.075379,
     "end_time": "2022-01-26T20:07:36.119169",
     "exception": false,
     "start_time": "2022-01-26T20:07:36.043790",
     "status": "completed"
    },
    "tags": []
   },
   "outputs": [],
   "source": [
    "X_train = X_train/255.\n",
    "X_test = X_test/255."
   ]
  },
  {
   "cell_type": "markdown",
   "id": "ddcf4fab",
   "metadata": {
    "papermill": {
     "duration": 0.026062,
     "end_time": "2022-01-26T20:07:36.172741",
     "exception": false,
     "start_time": "2022-01-26T20:07:36.146679",
     "status": "completed"
    },
    "tags": []
   },
   "source": [
    "And setup the labels as 1 (when the digit is 3) and 0 (when the digit is 8)"
   ]
  },
  {
   "cell_type": "code",
   "execution_count": 12,
   "id": "7dc908f2",
   "metadata": {
    "execution": {
     "iopub.execute_input": "2022-01-26T20:07:36.230807Z",
     "iopub.status.busy": "2022-01-26T20:07:36.230267Z",
     "iopub.status.idle": "2022-01-26T20:07:36.239703Z",
     "shell.execute_reply": "2022-01-26T20:07:36.240112Z"
    },
    "papermill": {
     "duration": 0.041452,
     "end_time": "2022-01-26T20:07:36.240239",
     "exception": false,
     "start_time": "2022-01-26T20:07:36.198787",
     "status": "completed"
    },
    "tags": []
   },
   "outputs": [],
   "source": [
    "y_train = 1*(y_train==3)\n",
    "y_test = 1*(y_test==3)"
   ]
  },
  {
   "cell_type": "code",
   "execution_count": 13,
   "id": "01e4e969",
   "metadata": {
    "execution": {
     "iopub.execute_input": "2022-01-26T20:07:36.294870Z",
     "iopub.status.busy": "2022-01-26T20:07:36.294364Z",
     "iopub.status.idle": "2022-01-26T20:07:36.307490Z",
     "shell.execute_reply": "2022-01-26T20:07:36.307871Z"
    },
    "papermill": {
     "duration": 0.041633,
     "end_time": "2022-01-26T20:07:36.307997",
     "exception": false,
     "start_time": "2022-01-26T20:07:36.266364",
     "status": "completed"
    },
    "tags": []
   },
   "outputs": [
    {
     "data": {
      "text/plain": [
       "((11982, 28, 28), (1984, 28, 28))"
      ]
     },
     "execution_count": 13,
     "metadata": {},
     "output_type": "execute_result"
    }
   ],
   "source": [
    "X_train.shape, X_test.shape"
   ]
  },
  {
   "cell_type": "markdown",
   "id": "5ccf3f85",
   "metadata": {
    "papermill": {
     "duration": 0.026182,
     "end_time": "2022-01-26T20:07:36.360889",
     "exception": false,
     "start_time": "2022-01-26T20:07:36.334707",
     "status": "completed"
    },
    "tags": []
   },
   "source": [
    "We reshape the data to flatten the image pixels into a set of features or co-variates:"
   ]
  },
  {
   "cell_type": "code",
   "execution_count": 14,
   "id": "5286a4a3",
   "metadata": {
    "execution": {
     "iopub.execute_input": "2022-01-26T20:07:36.426818Z",
     "iopub.status.busy": "2022-01-26T20:07:36.422357Z",
     "iopub.status.idle": "2022-01-26T20:07:36.432589Z",
     "shell.execute_reply": "2022-01-26T20:07:36.432159Z"
    },
    "papermill": {
     "duration": 0.043894,
     "end_time": "2022-01-26T20:07:36.432693",
     "exception": false,
     "start_time": "2022-01-26T20:07:36.388799",
     "status": "completed"
    },
    "tags": []
   },
   "outputs": [
    {
     "data": {
      "text/plain": [
       "((11982, 784), (1984, 784))"
      ]
     },
     "execution_count": 14,
     "metadata": {},
     "output_type": "execute_result"
    }
   ],
   "source": [
    "X_train = X_train.reshape(X_train.shape[0], -1)\n",
    "X_test = X_test.reshape(X_test.shape[0], -1)\n",
    "X_train.shape, X_test.shape"
   ]
  },
  {
   "cell_type": "code",
   "execution_count": 15,
   "id": "73c5f88a",
   "metadata": {
    "execution": {
     "iopub.execute_input": "2022-01-26T20:07:36.490088Z",
     "iopub.status.busy": "2022-01-26T20:07:36.489542Z",
     "iopub.status.idle": "2022-01-26T20:07:36.505561Z",
     "shell.execute_reply": "2022-01-26T20:07:36.505148Z"
    },
    "papermill": {
     "duration": 0.046385,
     "end_time": "2022-01-26T20:07:36.505670",
     "exception": false,
     "start_time": "2022-01-26T20:07:36.459285",
     "status": "completed"
    },
    "tags": []
   },
   "outputs": [],
   "source": [
    "#Impoting functions from 'Kudzu'\n",
    "from kudzu.model import Model\n",
    "from kudzu.train import Learner\n",
    "from kudzu.optim import GD\n",
    "from kudzu.data import Data, Sampler,Dataloader\n",
    "\n",
    "from kudzu.callbacks import AccCallback\n",
    "from kudzu.callbacks import ClfCallback\n",
    "\n",
    "from kudzu.loss import MSE\n",
    "\n",
    "from kudzu.layer import Sigmoid,Relu\n",
    "from kudzu.layer import Affine"
   ]
  },
  {
   "cell_type": "markdown",
   "id": "bc01172a",
   "metadata": {
    "papermill": {
     "duration": 0.026554,
     "end_time": "2022-01-26T20:07:36.558978",
     "exception": false,
     "start_time": "2022-01-26T20:07:36.532424",
     "status": "completed"
    },
    "tags": []
   },
   "source": [
    "### Let us create a `Config` class, to store important parameters. \n",
    "This class essentially plays the role of a dictionary."
   ]
  },
  {
   "cell_type": "code",
   "execution_count": 16,
   "id": "978281aa",
   "metadata": {
    "execution": {
     "iopub.execute_input": "2022-01-26T20:07:36.615683Z",
     "iopub.status.busy": "2022-01-26T20:07:36.615173Z",
     "iopub.status.idle": "2022-01-26T20:07:36.625912Z",
     "shell.execute_reply": "2022-01-26T20:07:36.625484Z"
    },
    "papermill": {
     "duration": 0.04048,
     "end_time": "2022-01-26T20:07:36.626023",
     "exception": false,
     "start_time": "2022-01-26T20:07:36.585543",
     "status": "completed"
    },
    "tags": []
   },
   "outputs": [],
   "source": [
    "class Config:\n",
    "    pass\n",
    "config = Config()\n",
    "config.lr = 0.001\n",
    "config.num_epochs = 250\n",
    "config.bs = 50"
   ]
  },
  {
   "cell_type": "markdown",
   "id": "1385fa59",
   "metadata": {
    "papermill": {
     "duration": 0.026542,
     "end_time": "2022-01-26T20:07:36.679277",
     "exception": false,
     "start_time": "2022-01-26T20:07:36.652735",
     "status": "completed"
    },
    "tags": []
   },
   "source": [
    "### Running Models with the Training data\n",
    "Details about the network layers:\n",
    "- A first affine layer has 784 inputs and does 100 affine transforms. These are followed by a Relu\n",
    "- A second affine layer has 100 inputs from the 100 activations of the past layer, and does 100 affine transforms. These are followed by a Relu\n",
    "- A third affine layer has 100 activations and does 2 affine transformations to create an embedding for visualization. There is no non-linearity here.\n",
    "- A final \"logistic regression\" which has an affine transform from 2 inputs to 1 output, which is squeezed through a sigmoid.\n"
   ]
  },
  {
   "cell_type": "code",
   "execution_count": 17,
   "id": "2b9c66db",
   "metadata": {
    "execution": {
     "iopub.execute_input": "2022-01-26T20:07:36.737521Z",
     "iopub.status.busy": "2022-01-26T20:07:36.737008Z",
     "iopub.status.idle": "2022-01-26T20:07:36.747135Z",
     "shell.execute_reply": "2022-01-26T20:07:36.746701Z"
    },
    "papermill": {
     "duration": 0.041361,
     "end_time": "2022-01-26T20:07:36.747237",
     "exception": false,
     "start_time": "2022-01-26T20:07:36.705876",
     "status": "completed"
    },
    "tags": []
   },
   "outputs": [],
   "source": [
    "data = Data(X_train, y_train.reshape(-1,1))\n",
    "sampler = Sampler(data, config.bs, shuffle=True)\n",
    "\n",
    "dl = Dataloader(data, sampler)\n",
    "\n",
    "opt = GD(config.lr)\n",
    "loss = MSE()"
   ]
  },
  {
   "cell_type": "code",
   "execution_count": 18,
   "id": "b275e4c2",
   "metadata": {
    "execution": {
     "iopub.execute_input": "2022-01-26T20:07:36.805381Z",
     "iopub.status.busy": "2022-01-26T20:07:36.804798Z",
     "iopub.status.idle": "2022-01-26T20:07:36.816831Z",
     "shell.execute_reply": "2022-01-26T20:07:36.816251Z"
    },
    "papermill": {
     "duration": 0.043137,
     "end_time": "2022-01-26T20:07:36.816926",
     "exception": false,
     "start_time": "2022-01-26T20:07:36.773789",
     "status": "completed"
    },
    "tags": []
   },
   "outputs": [],
   "source": [
    "training_data_x = X_train\n",
    "testing_data_x = X_test\n",
    "training_data_y = y_train.reshape(-1,1)\n",
    "testing_data_y = y_test.reshape(-1,1)"
   ]
  },
  {
   "cell_type": "code",
   "execution_count": 19,
   "id": "76951160",
   "metadata": {
    "execution": {
     "iopub.execute_input": "2022-01-26T20:07:36.867400Z",
     "iopub.status.busy": "2022-01-26T20:07:36.866866Z",
     "iopub.status.idle": "2022-01-26T20:07:36.881669Z",
     "shell.execute_reply": "2022-01-26T20:07:36.881338Z"
    },
    "papermill": {
     "duration": 0.041668,
     "end_time": "2022-01-26T20:07:36.881771",
     "exception": false,
     "start_time": "2022-01-26T20:07:36.840103",
     "status": "completed"
    },
    "tags": []
   },
   "outputs": [
    {
     "name": "stdout",
     "output_type": "stream",
     "text": [
      "xavier\n",
      "xavier\n",
      "xavier\n",
      "xavier\n",
      "xavier\n"
     ]
    }
   ],
   "source": [
    "layers = [Affine(\"first\", 784, 100), Relu(\"first\"), Affine(\"second\", 100, 100), Relu(\"second\"), Affine(\"third\", 100, 2), Affine(\"last\", 2, 1), Sigmoid(\"last\")]\n",
    "model_nn = Model(layers)\n",
    "model_lr = Model([Affine(\"logits\", 784, 1), Sigmoid(\"sigmoid\")])"
   ]
  },
  {
   "cell_type": "code",
   "execution_count": 20,
   "id": "6eede77a",
   "metadata": {
    "execution": {
     "iopub.execute_input": "2022-01-26T20:07:36.934544Z",
     "iopub.status.busy": "2022-01-26T20:07:36.934057Z",
     "iopub.status.idle": "2022-01-26T20:07:36.946023Z",
     "shell.execute_reply": "2022-01-26T20:07:36.945631Z"
    },
    "papermill": {
     "duration": 0.04047,
     "end_time": "2022-01-26T20:07:36.946119",
     "exception": false,
     "start_time": "2022-01-26T20:07:36.905649",
     "status": "completed"
    },
    "tags": []
   },
   "outputs": [],
   "source": [
    "nn_learner = Learner(loss, model_nn, opt, config.num_epochs)\n",
    "acc_nn = ClfCallback(nn_learner, config.bs, training_data_x , testing_data_x, training_data_y, testing_data_y)\n",
    "nn_learner.set_callbacks([acc_nn])"
   ]
  },
  {
   "cell_type": "code",
   "execution_count": 21,
   "id": "877b6cc7",
   "metadata": {
    "execution": {
     "iopub.execute_input": "2022-01-26T20:07:36.997075Z",
     "iopub.status.busy": "2022-01-26T20:07:36.996609Z",
     "iopub.status.idle": "2022-01-26T20:07:37.007743Z",
     "shell.execute_reply": "2022-01-26T20:07:37.007364Z"
    },
    "papermill": {
     "duration": 0.038198,
     "end_time": "2022-01-26T20:07:37.007839",
     "exception": false,
     "start_time": "2022-01-26T20:07:36.969641",
     "status": "completed"
    },
    "tags": []
   },
   "outputs": [],
   "source": [
    "lr_learner = Learner(loss, model_lr, opt, config.num_epochs)\n",
    "acc_lr = ClfCallback(lr_learner, config.bs, training_data_x , testing_data_x, training_data_y, testing_data_y)\n",
    "lr_learner.set_callbacks([acc_lr])"
   ]
  },
  {
   "cell_type": "code",
   "execution_count": 22,
   "id": "d9b133c3",
   "metadata": {
    "execution": {
     "iopub.execute_input": "2022-01-26T20:07:37.058888Z",
     "iopub.status.busy": "2022-01-26T20:07:37.058418Z",
     "iopub.status.idle": "2022-01-26T20:08:54.065391Z",
     "shell.execute_reply": "2022-01-26T20:08:54.065858Z"
    },
    "papermill": {
     "duration": 77.034416,
     "end_time": "2022-01-26T20:08:54.065997",
     "exception": false,
     "start_time": "2022-01-26T20:07:37.031581",
     "status": "completed"
    },
    "tags": []
   },
   "outputs": [
    {
     "name": "stdout",
     "output_type": "stream",
     "text": [
      "Epoch 0, Loss 0.2561\n",
      "Training Accuracy: 0.5466, Testing Accuracy: 0.5408\n",
      "\n"
     ]
    },
    {
     "name": "stdout",
     "output_type": "stream",
     "text": [
      "Epoch 10, Loss 0.1141\n",
      "Training Accuracy: 0.8992, Testing Accuracy: 0.9108\n",
      "\n"
     ]
    },
    {
     "name": "stdout",
     "output_type": "stream",
     "text": [
      "Epoch 20, Loss 0.0643\n",
      "Training Accuracy: 0.9347, Testing Accuracy: 0.9446\n",
      "\n"
     ]
    },
    {
     "name": "stdout",
     "output_type": "stream",
     "text": [
      "Epoch 30, Loss 0.0478\n",
      "Training Accuracy: 0.9488, Testing Accuracy: 0.9582\n",
      "\n"
     ]
    },
    {
     "name": "stdout",
     "output_type": "stream",
     "text": [
      "Epoch 40, Loss 0.0402\n",
      "Training Accuracy: 0.9552, Testing Accuracy: 0.9592\n",
      "\n"
     ]
    },
    {
     "name": "stdout",
     "output_type": "stream",
     "text": [
      "Epoch 50, Loss 0.036\n",
      "Training Accuracy: 0.9592, Testing Accuracy: 0.9607\n",
      "\n"
     ]
    },
    {
     "name": "stdout",
     "output_type": "stream",
     "text": [
      "Epoch 60, Loss 0.0332\n",
      "Training Accuracy: 0.9618, Testing Accuracy: 0.9622\n",
      "\n"
     ]
    },
    {
     "name": "stdout",
     "output_type": "stream",
     "text": [
      "Epoch 70, Loss 0.0311\n",
      "Training Accuracy: 0.9645, Testing Accuracy: 0.9632\n",
      "\n"
     ]
    },
    {
     "name": "stdout",
     "output_type": "stream",
     "text": [
      "Epoch 80, Loss 0.0296\n",
      "Training Accuracy: 0.9665, Testing Accuracy: 0.9647\n",
      "\n"
     ]
    },
    {
     "name": "stdout",
     "output_type": "stream",
     "text": [
      "Epoch 90, Loss 0.0283\n",
      "Training Accuracy: 0.9674, Testing Accuracy: 0.9667\n",
      "\n"
     ]
    },
    {
     "name": "stdout",
     "output_type": "stream",
     "text": [
      "Epoch 100, Loss 0.0273\n",
      "Training Accuracy: 0.9689, Testing Accuracy: 0.9672\n",
      "\n"
     ]
    },
    {
     "name": "stdout",
     "output_type": "stream",
     "text": [
      "Epoch 110, Loss 0.0264\n",
      "Training Accuracy: 0.9698, Testing Accuracy: 0.9677\n",
      "\n"
     ]
    },
    {
     "name": "stdout",
     "output_type": "stream",
     "text": [
      "Epoch 120, Loss 0.0256\n",
      "Training Accuracy: 0.9706, Testing Accuracy: 0.9677\n",
      "\n"
     ]
    },
    {
     "name": "stdout",
     "output_type": "stream",
     "text": [
      "Epoch 130, Loss 0.0249\n",
      "Training Accuracy: 0.9715, Testing Accuracy: 0.9672\n",
      "\n"
     ]
    },
    {
     "name": "stdout",
     "output_type": "stream",
     "text": [
      "Epoch 140, Loss 0.0243\n",
      "Training Accuracy: 0.9725, Testing Accuracy: 0.9682\n",
      "\n"
     ]
    },
    {
     "name": "stdout",
     "output_type": "stream",
     "text": [
      "Epoch 150, Loss 0.0237\n",
      "Training Accuracy: 0.9735, Testing Accuracy: 0.9693\n",
      "\n"
     ]
    },
    {
     "name": "stdout",
     "output_type": "stream",
     "text": [
      "Epoch 160, Loss 0.0232\n",
      "Training Accuracy: 0.9742, Testing Accuracy: 0.9698\n",
      "\n"
     ]
    },
    {
     "name": "stdout",
     "output_type": "stream",
     "text": [
      "Epoch 170, Loss 0.0227\n",
      "Training Accuracy: 0.9746, Testing Accuracy: 0.9698\n",
      "\n"
     ]
    },
    {
     "name": "stdout",
     "output_type": "stream",
     "text": [
      "Epoch 180, Loss 0.0222\n",
      "Training Accuracy: 0.9752, Testing Accuracy: 0.9698\n",
      "\n"
     ]
    },
    {
     "name": "stdout",
     "output_type": "stream",
     "text": [
      "Epoch 190, Loss 0.0218\n",
      "Training Accuracy: 0.9756, Testing Accuracy: 0.9703\n",
      "\n"
     ]
    },
    {
     "name": "stdout",
     "output_type": "stream",
     "text": [
      "Epoch 200, Loss 0.0214\n",
      "Training Accuracy: 0.9760, Testing Accuracy: 0.9708\n",
      "\n"
     ]
    },
    {
     "name": "stdout",
     "output_type": "stream",
     "text": [
      "Epoch 210, Loss 0.021\n",
      "Training Accuracy: 0.9764, Testing Accuracy: 0.9713\n",
      "\n"
     ]
    },
    {
     "name": "stdout",
     "output_type": "stream",
     "text": [
      "Epoch 220, Loss 0.0206\n",
      "Training Accuracy: 0.9768, Testing Accuracy: 0.9718\n",
      "\n"
     ]
    },
    {
     "name": "stdout",
     "output_type": "stream",
     "text": [
      "Epoch 230, Loss 0.0202\n",
      "Training Accuracy: 0.9773, Testing Accuracy: 0.9718\n",
      "\n"
     ]
    },
    {
     "name": "stdout",
     "output_type": "stream",
     "text": [
      "Epoch 240, Loss 0.0199\n",
      "Training Accuracy: 0.9775, Testing Accuracy: 0.9718\n",
      "\n"
     ]
    },
    {
     "data": {
      "text/plain": [
       "0.011138749116174"
      ]
     },
     "execution_count": 22,
     "metadata": {},
     "output_type": "execute_result"
    }
   ],
   "source": [
    "nn_learner.train_loop(dl)"
   ]
  },
  {
   "cell_type": "code",
   "execution_count": 23,
   "id": "e0163366",
   "metadata": {
    "execution": {
     "iopub.execute_input": "2022-01-26T20:08:54.131161Z",
     "iopub.status.busy": "2022-01-26T20:08:54.130695Z",
     "iopub.status.idle": "2022-01-26T20:09:08.210221Z",
     "shell.execute_reply": "2022-01-26T20:09:08.210912Z"
    },
    "papermill": {
     "duration": 14.114633,
     "end_time": "2022-01-26T20:09:08.211056",
     "exception": false,
     "start_time": "2022-01-26T20:08:54.096423",
     "status": "completed"
    },
    "tags": []
   },
   "outputs": [
    {
     "name": "stdout",
     "output_type": "stream",
     "text": [
      "Epoch 0, Loss 0.2579\n",
      "Training Accuracy: 0.6670, Testing Accuracy: 0.6396\n",
      "\n"
     ]
    },
    {
     "name": "stdout",
     "output_type": "stream",
     "text": [
      "Epoch 10, Loss 0.1054\n",
      "Training Accuracy: 0.9036, Testing Accuracy: 0.9153\n",
      "\n"
     ]
    },
    {
     "name": "stdout",
     "output_type": "stream",
     "text": [
      "Epoch 20, Loss 0.0809\n",
      "Training Accuracy: 0.9224, Testing Accuracy: 0.9375\n",
      "\n"
     ]
    },
    {
     "name": "stdout",
     "output_type": "stream",
     "text": [
      "Epoch 30, Loss 0.0697\n",
      "Training Accuracy: 0.9333, Testing Accuracy: 0.9446\n",
      "\n"
     ]
    },
    {
     "name": "stdout",
     "output_type": "stream",
     "text": [
      "Epoch 40, Loss 0.0629\n",
      "Training Accuracy: 0.9382, Testing Accuracy: 0.9496\n",
      "\n"
     ]
    },
    {
     "name": "stdout",
     "output_type": "stream",
     "text": [
      "Epoch 50, Loss 0.0583\n",
      "Training Accuracy: 0.9417, Testing Accuracy: 0.9531\n",
      "\n"
     ]
    },
    {
     "name": "stdout",
     "output_type": "stream",
     "text": [
      "Epoch 60, Loss 0.0549\n",
      "Training Accuracy: 0.9448, Testing Accuracy: 0.9541\n",
      "\n"
     ]
    },
    {
     "name": "stdout",
     "output_type": "stream",
     "text": [
      "Epoch 70, Loss 0.0523\n",
      "Training Accuracy: 0.9469, Testing Accuracy: 0.9567\n",
      "\n"
     ]
    },
    {
     "name": "stdout",
     "output_type": "stream",
     "text": [
      "Epoch 80, Loss 0.0502\n",
      "Training Accuracy: 0.9493, Testing Accuracy: 0.9582\n",
      "\n"
     ]
    },
    {
     "name": "stdout",
     "output_type": "stream",
     "text": [
      "Epoch 90, Loss 0.0484\n",
      "Training Accuracy: 0.9507, Testing Accuracy: 0.9607\n",
      "\n"
     ]
    },
    {
     "name": "stdout",
     "output_type": "stream",
     "text": [
      "Epoch 100, Loss 0.0469\n",
      "Training Accuracy: 0.9519, Testing Accuracy: 0.9627\n",
      "\n"
     ]
    },
    {
     "name": "stdout",
     "output_type": "stream",
     "text": [
      "Epoch 110, Loss 0.0457\n",
      "Training Accuracy: 0.9524, Testing Accuracy: 0.9642\n",
      "\n"
     ]
    },
    {
     "name": "stdout",
     "output_type": "stream",
     "text": [
      "Epoch 120, Loss 0.0446\n",
      "Training Accuracy: 0.9539, Testing Accuracy: 0.9642\n",
      "\n"
     ]
    },
    {
     "name": "stdout",
     "output_type": "stream",
     "text": [
      "Epoch 130, Loss 0.0436\n",
      "Training Accuracy: 0.9544, Testing Accuracy: 0.9647\n",
      "\n"
     ]
    },
    {
     "name": "stdout",
     "output_type": "stream",
     "text": [
      "Epoch 140, Loss 0.0427\n",
      "Training Accuracy: 0.9550, Testing Accuracy: 0.9657\n",
      "\n"
     ]
    },
    {
     "name": "stdout",
     "output_type": "stream",
     "text": [
      "Epoch 150, Loss 0.0419\n",
      "Training Accuracy: 0.9559, Testing Accuracy: 0.9662\n",
      "\n"
     ]
    },
    {
     "name": "stdout",
     "output_type": "stream",
     "text": [
      "Epoch 160, Loss 0.0412\n",
      "Training Accuracy: 0.9561, Testing Accuracy: 0.9662\n",
      "\n"
     ]
    },
    {
     "name": "stdout",
     "output_type": "stream",
     "text": [
      "Epoch 170, Loss 0.0406\n",
      "Training Accuracy: 0.9569, Testing Accuracy: 0.9657\n",
      "\n"
     ]
    },
    {
     "name": "stdout",
     "output_type": "stream",
     "text": [
      "Epoch 180, Loss 0.04\n",
      "Training Accuracy: 0.9575, Testing Accuracy: 0.9662\n",
      "\n"
     ]
    },
    {
     "name": "stdout",
     "output_type": "stream",
     "text": [
      "Epoch 190, Loss 0.0395\n",
      "Training Accuracy: 0.9579, Testing Accuracy: 0.9662\n",
      "\n"
     ]
    },
    {
     "name": "stdout",
     "output_type": "stream",
     "text": [
      "Epoch 200, Loss 0.039\n",
      "Training Accuracy: 0.9583, Testing Accuracy: 0.9662\n",
      "\n"
     ]
    },
    {
     "name": "stdout",
     "output_type": "stream",
     "text": [
      "Epoch 210, Loss 0.0385\n",
      "Training Accuracy: 0.9585, Testing Accuracy: 0.9662\n",
      "\n"
     ]
    },
    {
     "name": "stdout",
     "output_type": "stream",
     "text": [
      "Epoch 220, Loss 0.0381\n",
      "Training Accuracy: 0.9589, Testing Accuracy: 0.9667\n",
      "\n"
     ]
    },
    {
     "name": "stdout",
     "output_type": "stream",
     "text": [
      "Epoch 230, Loss 0.0377\n",
      "Training Accuracy: 0.9593, Testing Accuracy: 0.9667\n",
      "\n"
     ]
    },
    {
     "name": "stdout",
     "output_type": "stream",
     "text": [
      "Epoch 240, Loss 0.0373\n",
      "Training Accuracy: 0.9594, Testing Accuracy: 0.9667\n",
      "\n"
     ]
    },
    {
     "data": {
      "text/plain": [
       "0.044094705652949304"
      ]
     },
     "execution_count": 23,
     "metadata": {},
     "output_type": "execute_result"
    }
   ],
   "source": [
    "lr_learner.train_loop(dl)"
   ]
  },
  {
   "cell_type": "code",
   "execution_count": 24,
   "id": "ca410940",
   "metadata": {
    "execution": {
     "iopub.execute_input": "2022-01-26T20:09:08.293950Z",
     "iopub.status.busy": "2022-01-26T20:09:08.293459Z",
     "iopub.status.idle": "2022-01-26T20:09:08.489871Z",
     "shell.execute_reply": "2022-01-26T20:09:08.490302Z"
    },
    "papermill": {
     "duration": 0.24252,
     "end_time": "2022-01-26T20:09:08.490453",
     "exception": false,
     "start_time": "2022-01-26T20:09:08.247933",
     "status": "completed"
    },
    "tags": []
   },
   "outputs": [
    {
     "data": {
      "text/plain": [
       "<matplotlib.legend.Legend at 0x7ff460acdf28>"
      ]
     },
     "execution_count": 24,
     "metadata": {},
     "output_type": "execute_result"
    },
    {
     "data": {
      "image/png": "[encoded data removed]",
      "text/plain": [
       "<Figure size 1080x720 with 1 Axes>"
      ]
     },
     "metadata": {
      "needs_background": "light"
     },
     "output_type": "display_data"
    }
   ],
   "source": [
    "#comparing the results of NN and LR\n",
    "plt.figure(figsize=(15,10))\n",
    "\n",
    "# Neural Network plots\n",
    "plt.plot(acc_nn.accuracies, 'r-', label = \"Training Accuracies - NN\")\n",
    "plt.plot(acc_nn.test_accuracies, 'g-', label = \"Testing Accuracies - NN\")\n",
    "\n",
    "# Logistic Regression plots\n",
    "plt.plot(acc_lr.accuracies, 'k-', label = \"Training Accuracies - LR\")\n",
    "plt.plot(acc_lr.test_accuracies, 'b-', label = \"Testing Accuracies - LR\")\n",
    "plt.legend()"
   ]
  },
  {
   "cell_type": "markdown",
   "id": "80dfb35c",
   "metadata": {
    "papermill": {
     "duration": 0.041739,
     "end_time": "2022-01-26T20:09:08.574344",
     "exception": false,
     "start_time": "2022-01-26T20:09:08.532605",
     "status": "completed"
    },
    "tags": []
   },
   "source": [
    "#### Plotting the outputs of this layer of the NN.\n"
   ]
  },
  {
   "cell_type": "code",
   "execution_count": 25,
   "id": "45eb2ff5",
   "metadata": {
    "execution": {
     "iopub.execute_input": "2022-01-26T20:09:08.662525Z",
     "iopub.status.busy": "2022-01-26T20:09:08.661972Z",
     "iopub.status.idle": "2022-01-26T20:09:08.680782Z",
     "shell.execute_reply": "2022-01-26T20:09:08.681184Z"
    },
    "papermill": {
     "duration": 0.065384,
     "end_time": "2022-01-26T20:09:08.681334",
     "exception": false,
     "start_time": "2022-01-26T20:09:08.615950",
     "status": "completed"
    },
    "tags": []
   },
   "outputs": [],
   "source": [
    "new_model = Model(layers[:-2])\n",
    "testing_plot = new_model(testing_data_x)"
   ]
  },
  {
   "cell_type": "code",
   "execution_count": 26,
   "id": "4c0a5485",
   "metadata": {
    "execution": {
     "iopub.execute_input": "2022-01-26T20:09:08.774743Z",
     "iopub.status.busy": "2022-01-26T20:09:08.774267Z",
     "iopub.status.idle": "2022-01-26T20:09:08.976873Z",
     "shell.execute_reply": "2022-01-26T20:09:08.976388Z"
    },
    "papermill": {
     "duration": 0.253578,
     "end_time": "2022-01-26T20:09:08.977012",
     "exception": false,
     "start_time": "2022-01-26T20:09:08.723434",
     "status": "completed"
    },
    "tags": []
   },
   "outputs": [
    {
     "data": {
      "text/plain": [
       "Text(0.5, 1.0, 'Outputs')"
      ]
     },
     "execution_count": 26,
     "metadata": {},
     "output_type": "execute_result"
    },
    {
     "data": {
      "image/png": "[encoded data removed]",
      "text/plain": [
       "<Figure size 576x504 with 1 Axes>"
      ]
     },
     "metadata": {
      "needs_background": "light"
     },
     "output_type": "display_data"
    }
   ],
   "source": [
    "# Plotting the scatter plot of points and color coding by class\n",
    "plt.figure(figsize=(8,7))\n",
    "plt.scatter(testing_plot[:,0], testing_plot[:,1], alpha = 0.1, c = y_test.ravel());\n",
    "plt.title('Outputs')"
   ]
  },
  {
   "cell_type": "markdown",
   "id": "a74fcf8f",
   "metadata": {
    "papermill": {
     "duration": 0.038846,
     "end_time": "2022-01-26T20:09:09.055347",
     "exception": false,
     "start_time": "2022-01-26T20:09:09.016501",
     "status": "completed"
    },
    "tags": []
   },
   "source": [
    "Probability contours"
   ]
  },
  {
   "cell_type": "code",
   "execution_count": 27,
   "id": "d0afc8e3",
   "metadata": {
    "execution": {
     "iopub.execute_input": "2022-01-26T20:09:09.139334Z",
     "iopub.status.busy": "2022-01-26T20:09:09.138719Z",
     "iopub.status.idle": "2022-01-26T20:09:09.148347Z",
     "shell.execute_reply": "2022-01-26T20:09:09.148770Z"
    },
    "papermill": {
     "duration": 0.054675,
     "end_time": "2022-01-26T20:09:09.148907",
     "exception": false,
     "start_time": "2022-01-26T20:09:09.094232",
     "status": "completed"
    },
    "tags": []
   },
   "outputs": [],
   "source": [
    "model_prob = Model(layers[-2:]) "
   ]
  },
  {
   "cell_type": "code",
   "execution_count": 28,
   "id": "9b96e238",
   "metadata": {
    "execution": {
     "iopub.execute_input": "2022-01-26T20:09:09.283086Z",
     "iopub.status.busy": "2022-01-26T20:09:09.278558Z",
     "iopub.status.idle": "2022-01-26T20:09:09.284847Z",
     "shell.execute_reply": "2022-01-26T20:09:09.285189Z"
    },
    "papermill": {
     "duration": 0.092607,
     "end_time": "2022-01-26T20:09:09.285301",
     "exception": false,
     "start_time": "2022-01-26T20:09:09.192694",
     "status": "completed"
    },
    "tags": []
   },
   "outputs": [],
   "source": [
    "#creating the x and y ranges according to the above generated plot.\n",
    "x_range = np.linspace(-4, 1, 100) \n",
    "y_range = np.linspace(-6, 6, 100) \n",
    "x_grid, y_grid = np.meshgrid(x_range, y_range) # x_grid and y_grig are of size 100 X 100\n",
    "\n",
    "# converting x_grid and y_grid to continuous arrays\n",
    "x_gridflat = np.ravel(x_grid)\n",
    "y_gridflat = np.ravel(y_grid)\n",
    "\n",
    "# The last layer of the current model takes two columns as input. Hence transpose of np.vstack() is required.\n",
    "X = np.vstack((x_gridflat, y_gridflat)).T\n",
    "\n",
    "prob_contour = model_prob(X).reshape(100,100) "
   ]
  },
  {
   "cell_type": "code",
   "execution_count": 29,
   "id": "da72499a",
   "metadata": {
    "execution": {
     "iopub.execute_input": "2022-01-26T20:09:09.378250Z",
     "iopub.status.busy": "2022-01-26T20:09:09.368233Z",
     "iopub.status.idle": "2022-01-26T20:09:09.595164Z",
     "shell.execute_reply": "2022-01-26T20:09:09.594757Z"
    },
    "papermill": {
     "duration": 0.270936,
     "end_time": "2022-01-26T20:09:09.595273",
     "exception": false,
     "start_time": "2022-01-26T20:09:09.324337",
     "status": "completed"
    },
    "tags": []
   },
   "outputs": [
    {
     "data": {
      "image/png": "[encoded data removed]",
      "text/plain": [
       "<Figure size 720x648 with 1 Axes>"
      ]
     },
     "metadata": {
      "needs_background": "light"
     },
     "output_type": "display_data"
    }
   ],
   "source": [
    "plt.figure(figsize=(10,9))\n",
    "plt.scatter(testing_plot[:,0], testing_plot[:,1], alpha = 0.1, c = y_test.ravel())\n",
    "contours = plt.contour(x_grid,y_grid,prob_contour)\n",
    "plt.title('Probability Contours')\n",
    "plt.clabel(contours, inline = True );"
   ]
  },
  {
   "cell_type": "code",
   "execution_count": null,
   "id": "e81b4ac7",
   "metadata": {
    "papermill": {
     "duration": 0.041485,
     "end_time": "2022-01-26T20:09:09.678611",
     "exception": false,
     "start_time": "2022-01-26T20:09:09.637126",
     "status": "completed"
    },
    "tags": []
   },
   "outputs": [],
   "source": []
  }
 ],
 "metadata": {
  "kernelspec": {
   "display_name": "Python 3",
   "language": "python",
   "name": "python3"
  },
  "language_info": {
   "codemirror_mode": {
    "name": "ipython",
    "version": 3
   },
   "file_extension": ".py",
   "mimetype": "text/x-python",
   "name": "python",
   "nbconvert_exporter": "python",
   "pygments_lexer": "ipython3",
   "version": "3.6.15"
  },
  "papermill": {
   "default_parameters": {},
   "duration": 99.098459,
   "end_time": "2022-01-26T20:09:10.138688",
   "environment_variables": {},
   "exception": null,
   "input_path": "2020-08-11-part2.ipynb",
   "output_path": "2020-08-11-part2.ipynb",
   "parameters": {},
   "start_time": "2022-01-26T20:07:31.040229",
   "version": "2.3.3"
  }
 },
 "nbformat": 4,
 "nbformat_minor": 5
}