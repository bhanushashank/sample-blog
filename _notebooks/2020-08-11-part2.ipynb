{
 "cells": [
  {
   "cell_type": "markdown",
   "id": "98380cd3",
   "metadata": {
    "papermill": {
     "duration": 0.027794,
     "end_time": "2021-10-13T10:08:07.082398",
     "exception": false,
     "start_time": "2021-10-13T10:08:07.054604",
     "status": "completed"
    },
    "tags": []
   },
   "source": [
    "# Distinguish Your Own Digits (DYOD)"
   ]
  },
  {
   "cell_type": "markdown",
   "id": "ef31240d",
   "metadata": {
    "papermill": {
     "duration": 0.02349,
     "end_time": "2021-10-13T10:08:07.130281",
     "exception": false,
     "start_time": "2021-10-13T10:08:07.106791",
     "status": "completed"
    },
    "tags": []
   },
   "source": [
    "You are going to write a classifier that distinguishes between the number 3 and number 8."
   ]
  },
  {
   "cell_type": "code",
   "execution_count": 1,
   "id": "b15c8646",
   "metadata": {
    "execution": {
     "iopub.execute_input": "2021-10-13T10:08:07.192359Z",
     "iopub.status.busy": "2021-10-13T10:08:07.191833Z",
     "iopub.status.idle": "2021-10-13T10:08:07.202406Z",
     "shell.execute_reply": "2021-10-13T10:08:07.201984Z"
    },
    "papermill": {
     "duration": 0.048671,
     "end_time": "2021-10-13T10:08:07.202524",
     "exception": false,
     "start_time": "2021-10-13T10:08:07.153853",
     "status": "completed"
    },
    "tags": []
   },
   "outputs": [],
   "source": [
    "%load_ext autoreload\n",
    "%autoreload 2"
   ]
  },
  {
   "cell_type": "code",
   "execution_count": 2,
   "id": "22ef38dc",
   "metadata": {
    "execution": {
     "iopub.execute_input": "2021-10-13T10:08:07.260650Z",
     "iopub.status.busy": "2021-10-13T10:08:07.260139Z",
     "iopub.status.idle": "2021-10-13T10:08:07.762500Z",
     "shell.execute_reply": "2021-10-13T10:08:07.761969Z"
    },
    "papermill": {
     "duration": 0.536321,
     "end_time": "2021-10-13T10:08:07.762646",
     "exception": false,
     "start_time": "2021-10-13T10:08:07.226325",
     "status": "completed"
    },
    "tags": []
   },
   "outputs": [],
   "source": [
    "%matplotlib inline\n",
    "import numpy as np\n",
    "import matplotlib.pyplot as plt\n",
    "import pandas as pd"
   ]
  },
  {
   "cell_type": "markdown",
   "id": "ba036198",
   "metadata": {
    "papermill": {
     "duration": 0.023662,
     "end_time": "2021-10-13T10:08:07.810594",
     "exception": false,
     "start_time": "2021-10-13T10:08:07.786932",
     "status": "completed"
    },
    "tags": []
   },
   "source": [
    "From the command line run `pip install mnist`. This is a library that will help you bring down the mnist dataset. If you run this from a notebook, you need to put  `!pip install mnist` in a cell by itself."
   ]
  },
  {
   "cell_type": "code",
   "execution_count": 3,
   "id": "bb6ad8a1",
   "metadata": {
    "execution": {
     "iopub.execute_input": "2021-10-13T10:08:07.869110Z",
     "iopub.status.busy": "2021-10-13T10:08:07.868192Z",
     "iopub.status.idle": "2021-10-13T10:08:09.548946Z",
     "shell.execute_reply": "2021-10-13T10:08:09.548420Z"
    },
    "papermill": {
     "duration": 1.714717,
     "end_time": "2021-10-13T10:08:09.549094",
     "exception": false,
     "start_time": "2021-10-13T10:08:07.834377",
     "status": "completed"
    },
    "tags": []
   },
   "outputs": [
    {
     "name": "stdout",
     "output_type": "stream",
     "text": [
      "Collecting mnist\r\n"
     ]
    },
    {
     "name": "stdout",
     "output_type": "stream",
     "text": [
      "  Downloading mnist-0.2.2-py2.py3-none-any.whl (3.5 kB)\r\n",
      "Requirement already satisfied: numpy in /opt/hostedtoolcache/Python/3.6.15/x64/lib/python3.6/site-packages (from mnist) (1.19.5)\r\n"
     ]
    },
    {
     "name": "stdout",
     "output_type": "stream",
     "text": [
      "Installing collected packages: mnist\r\n",
      "Successfully installed mnist-0.2.2\r\n"
     ]
    },
    {
     "name": "stdout",
     "output_type": "stream",
     "text": [
      "\u001b[33mWARNING: You are using pip version 21.2.4; however, version 21.3 is available.\r\n",
      "You should consider upgrading via the '/opt/hostedtoolcache/Python/3.6.15/x64/bin/python -m pip install --upgrade pip' command.\u001b[0m\r\n"
     ]
    }
   ],
   "source": [
    "!pip install mnist"
   ]
  },
  {
   "cell_type": "markdown",
   "id": "69df9c9a",
   "metadata": {
    "papermill": {
     "duration": 0.024895,
     "end_time": "2021-10-13T10:08:09.599698",
     "exception": false,
     "start_time": "2021-10-13T10:08:09.574803",
     "status": "completed"
    },
    "tags": []
   },
   "source": [
    "## Preparing the Data"
   ]
  },
  {
   "cell_type": "code",
   "execution_count": 4,
   "id": "7f69d806",
   "metadata": {
    "execution": {
     "iopub.execute_input": "2021-10-13T10:08:09.652745Z",
     "iopub.status.busy": "2021-10-13T10:08:09.652242Z",
     "iopub.status.idle": "2021-10-13T10:08:09.666179Z",
     "shell.execute_reply": "2021-10-13T10:08:09.665749Z"
    },
    "papermill": {
     "duration": 0.042015,
     "end_time": "2021-10-13T10:08:09.666287",
     "exception": false,
     "start_time": "2021-10-13T10:08:09.624272",
     "status": "completed"
    },
    "tags": []
   },
   "outputs": [],
   "source": [
    "import mnist"
   ]
  },
  {
   "cell_type": "code",
   "execution_count": 5,
   "id": "a411e44f",
   "metadata": {
    "execution": {
     "iopub.execute_input": "2021-10-13T10:08:09.730006Z",
     "iopub.status.busy": "2021-10-13T10:08:09.724134Z",
     "iopub.status.idle": "2021-10-13T10:08:10.349098Z",
     "shell.execute_reply": "2021-10-13T10:08:10.349614Z"
    },
    "papermill": {
     "duration": 0.658541,
     "end_time": "2021-10-13T10:08:10.349778",
     "exception": false,
     "start_time": "2021-10-13T10:08:09.691237",
     "status": "completed"
    },
    "tags": []
   },
   "outputs": [],
   "source": [
    "train_images = mnist.train_images()\n",
    "train_labels = mnist.train_labels()"
   ]
  },
  {
   "cell_type": "code",
   "execution_count": 6,
   "id": "dceab3a5",
   "metadata": {
    "execution": {
     "iopub.execute_input": "2021-10-13T10:08:10.420486Z",
     "iopub.status.busy": "2021-10-13T10:08:10.419713Z",
     "iopub.status.idle": "2021-10-13T10:08:10.425183Z",
     "shell.execute_reply": "2021-10-13T10:08:10.424774Z"
    },
    "papermill": {
     "duration": 0.049914,
     "end_time": "2021-10-13T10:08:10.425296",
     "exception": false,
     "start_time": "2021-10-13T10:08:10.375382",
     "status": "completed"
    },
    "tags": []
   },
   "outputs": [
    {
     "data": {
      "text/plain": [
       "((60000, 28, 28), (60000,))"
      ]
     },
     "execution_count": 6,
     "metadata": {},
     "output_type": "execute_result"
    }
   ],
   "source": [
    "train_images.shape, train_labels.shape"
   ]
  },
  {
   "cell_type": "code",
   "execution_count": 7,
   "id": "f50dc2bb",
   "metadata": {
    "execution": {
     "iopub.execute_input": "2021-10-13T10:08:10.490021Z",
     "iopub.status.busy": "2021-10-13T10:08:10.489519Z",
     "iopub.status.idle": "2021-10-13T10:08:10.725878Z",
     "shell.execute_reply": "2021-10-13T10:08:10.725344Z"
    },
    "papermill": {
     "duration": 0.275831,
     "end_time": "2021-10-13T10:08:10.726026",
     "exception": false,
     "start_time": "2021-10-13T10:08:10.450195",
     "status": "completed"
    },
    "tags": []
   },
   "outputs": [],
   "source": [
    "test_images = mnist.test_images()\n",
    "test_labels = mnist.test_labels()"
   ]
  },
  {
   "cell_type": "code",
   "execution_count": 8,
   "id": "fc38cf1b",
   "metadata": {
    "execution": {
     "iopub.execute_input": "2021-10-13T10:08:10.793993Z",
     "iopub.status.busy": "2021-10-13T10:08:10.788545Z",
     "iopub.status.idle": "2021-10-13T10:08:10.796930Z",
     "shell.execute_reply": "2021-10-13T10:08:10.796519Z"
    },
    "papermill": {
     "duration": 0.045274,
     "end_time": "2021-10-13T10:08:10.797046",
     "exception": false,
     "start_time": "2021-10-13T10:08:10.751772",
     "status": "completed"
    },
    "tags": []
   },
   "outputs": [
    {
     "data": {
      "text/plain": [
       "((10000, 28, 28), (10000,))"
      ]
     },
     "execution_count": 8,
     "metadata": {},
     "output_type": "execute_result"
    }
   ],
   "source": [
    "test_images.shape, test_labels.shape"
   ]
  },
  {
   "cell_type": "code",
   "execution_count": 9,
   "id": "f9ed8fe0",
   "metadata": {
    "execution": {
     "iopub.execute_input": "2021-10-13T10:08:10.860092Z",
     "iopub.status.busy": "2021-10-13T10:08:10.858580Z",
     "iopub.status.idle": "2021-10-13T10:08:10.988771Z",
     "shell.execute_reply": "2021-10-13T10:08:10.989236Z"
    },
    "papermill": {
     "duration": 0.167068,
     "end_time": "2021-10-13T10:08:10.989385",
     "exception": false,
     "start_time": "2021-10-13T10:08:10.822317",
     "status": "completed"
    },
    "tags": []
   },
   "outputs": [
    {
     "name": "stdout",
     "output_type": "stream",
     "text": [
      "2\n"
     ]
    },
    {
     "data": {
      "text/plain": [
       "<matplotlib.image.AxesImage at 0x7f73ab441898>"
      ]
     },
     "execution_count": 9,
     "metadata": {},
     "output_type": "execute_result"
    },
    {
     "data": {
      "image/png": "[encoded data removed]",
      "text/plain": [
       "<Figure size 432x288 with 1 Axes>"
      ]
     },
     "metadata": {
      "needs_background": "light"
     },
     "output_type": "display_data"
    }
   ],
   "source": [
    "image_index = 7776 # You may select anything up to 60,000\n",
    "print(train_labels[image_index]) \n",
    "plt.imshow(train_images[image_index], cmap='Greys')"
   ]
  },
  {
   "cell_type": "markdown",
   "id": "a8d2388d",
   "metadata": {
    "papermill": {
     "duration": 0.026126,
     "end_time": "2021-10-13T10:08:11.042324",
     "exception": false,
     "start_time": "2021-10-13T10:08:11.016198",
     "status": "completed"
    },
    "tags": []
   },
   "source": [
    "## Filter data to get 3 and 8 out"
   ]
  },
  {
   "cell_type": "code",
   "execution_count": 10,
   "id": "776f7fc7",
   "metadata": {
    "execution": {
     "iopub.execute_input": "2021-10-13T10:08:11.100700Z",
     "iopub.status.busy": "2021-10-13T10:08:11.100178Z",
     "iopub.status.idle": "2021-10-13T10:08:11.118685Z",
     "shell.execute_reply": "2021-10-13T10:08:11.118217Z"
    },
    "papermill": {
     "duration": 0.050183,
     "end_time": "2021-10-13T10:08:11.118810",
     "exception": false,
     "start_time": "2021-10-13T10:08:11.068627",
     "status": "completed"
    },
    "tags": []
   },
   "outputs": [],
   "source": [
    "train_filter = np.where((train_labels == 3 ) | (train_labels == 8))\n",
    "test_filter = np.where((test_labels == 3) | (test_labels == 8))\n",
    "X_train, y_train = train_images[train_filter], train_labels[train_filter]\n",
    "X_test, y_test = test_images[test_filter], test_labels[test_filter]"
   ]
  },
  {
   "cell_type": "markdown",
   "id": "948f0b7e",
   "metadata": {
    "papermill": {
     "duration": 0.02624,
     "end_time": "2021-10-13T10:08:11.172124",
     "exception": false,
     "start_time": "2021-10-13T10:08:11.145884",
     "status": "completed"
    },
    "tags": []
   },
   "source": [
    "We normalize the pizel values in the 0 to 1 range"
   ]
  },
  {
   "cell_type": "code",
   "execution_count": 11,
   "id": "ee4c2166",
   "metadata": {
    "execution": {
     "iopub.execute_input": "2021-10-13T10:08:11.232186Z",
     "iopub.status.busy": "2021-10-13T10:08:11.231661Z",
     "iopub.status.idle": "2021-10-13T10:08:11.277570Z",
     "shell.execute_reply": "2021-10-13T10:08:11.277048Z"
    },
    "papermill": {
     "duration": 0.079316,
     "end_time": "2021-10-13T10:08:11.277708",
     "exception": false,
     "start_time": "2021-10-13T10:08:11.198392",
     "status": "completed"
    },
    "tags": []
   },
   "outputs": [],
   "source": [
    "X_train = X_train/255.\n",
    "X_test = X_test/255."
   ]
  },
  {
   "cell_type": "markdown",
   "id": "ddcf4fab",
   "metadata": {
    "papermill": {
     "duration": 0.026314,
     "end_time": "2021-10-13T10:08:11.332363",
     "exception": false,
     "start_time": "2021-10-13T10:08:11.306049",
     "status": "completed"
    },
    "tags": []
   },
   "source": [
    "And setup the labels as 1 (when the digit is 3) and 0 (when the digit is 8)"
   ]
  },
  {
   "cell_type": "code",
   "execution_count": 12,
   "id": "7dc908f2",
   "metadata": {
    "execution": {
     "iopub.execute_input": "2021-10-13T10:08:11.402349Z",
     "iopub.status.busy": "2021-10-13T10:08:11.400224Z",
     "iopub.status.idle": "2021-10-13T10:08:11.404215Z",
     "shell.execute_reply": "2021-10-13T10:08:11.404591Z"
    },
    "papermill": {
     "duration": 0.046175,
     "end_time": "2021-10-13T10:08:11.404723",
     "exception": false,
     "start_time": "2021-10-13T10:08:11.358548",
     "status": "completed"
    },
    "tags": []
   },
   "outputs": [],
   "source": [
    "y_train = 1*(y_train==3)\n",
    "y_test = 1*(y_test==3)"
   ]
  },
  {
   "cell_type": "code",
   "execution_count": 13,
   "id": "01e4e969",
   "metadata": {
    "execution": {
     "iopub.execute_input": "2021-10-13T10:08:11.474827Z",
     "iopub.status.busy": "2021-10-13T10:08:11.472192Z",
     "iopub.status.idle": "2021-10-13T10:08:11.477797Z",
     "shell.execute_reply": "2021-10-13T10:08:11.477369Z"
    },
    "papermill": {
     "duration": 0.046954,
     "end_time": "2021-10-13T10:08:11.477905",
     "exception": false,
     "start_time": "2021-10-13T10:08:11.430951",
     "status": "completed"
    },
    "tags": []
   },
   "outputs": [
    {
     "data": {
      "text/plain": [
       "((11982, 28, 28), (1984, 28, 28))"
      ]
     },
     "execution_count": 13,
     "metadata": {},
     "output_type": "execute_result"
    }
   ],
   "source": [
    "X_train.shape, X_test.shape"
   ]
  },
  {
   "cell_type": "markdown",
   "id": "5ccf3f85",
   "metadata": {
    "papermill": {
     "duration": 0.026499,
     "end_time": "2021-10-13T10:08:11.530963",
     "exception": false,
     "start_time": "2021-10-13T10:08:11.504464",
     "status": "completed"
    },
    "tags": []
   },
   "source": [
    "We reshape the data to flatten the image pixels into a set of features or co-variates:"
   ]
  },
  {
   "cell_type": "code",
   "execution_count": 14,
   "id": "5286a4a3",
   "metadata": {
    "execution": {
     "iopub.execute_input": "2021-10-13T10:08:11.588456Z",
     "iopub.status.busy": "2021-10-13T10:08:11.587903Z",
     "iopub.status.idle": "2021-10-13T10:08:11.602307Z",
     "shell.execute_reply": "2021-10-13T10:08:11.602741Z"
    },
    "papermill": {
     "duration": 0.045257,
     "end_time": "2021-10-13T10:08:11.602872",
     "exception": false,
     "start_time": "2021-10-13T10:08:11.557615",
     "status": "completed"
    },
    "tags": []
   },
   "outputs": [
    {
     "data": {
      "text/plain": [
       "((11982, 784), (1984, 784))"
      ]
     },
     "execution_count": 14,
     "metadata": {},
     "output_type": "execute_result"
    }
   ],
   "source": [
    "X_train = X_train.reshape(X_train.shape[0], -1)\n",
    "X_test = X_test.reshape(X_test.shape[0], -1)\n",
    "X_train.shape, X_test.shape"
   ]
  },
  {
   "cell_type": "code",
   "execution_count": 15,
   "id": "73c5f88a",
   "metadata": {
    "execution": {
     "iopub.execute_input": "2021-10-13T10:08:11.660458Z",
     "iopub.status.busy": "2021-10-13T10:08:11.659944Z",
     "iopub.status.idle": "2021-10-13T10:08:11.678206Z",
     "shell.execute_reply": "2021-10-13T10:08:11.677797Z"
    },
    "papermill": {
     "duration": 0.0487,
     "end_time": "2021-10-13T10:08:11.678315",
     "exception": false,
     "start_time": "2021-10-13T10:08:11.629615",
     "status": "completed"
    },
    "tags": []
   },
   "outputs": [],
   "source": [
    "#Impoting functions from 'Kudzu'\n",
    "from kudzu.model import Model\n",
    "from kudzu.train import Learner\n",
    "from kudzu.optim import GD\n",
    "from kudzu.data import Data, Sampler,Dataloader\n",
    "\n",
    "from kudzu.callbacks import AccCallback\n",
    "from kudzu.callbacks import ClfCallback\n",
    "\n",
    "from kudzu.loss import MSE\n",
    "\n",
    "from kudzu.layer import Sigmoid,Relu\n",
    "from kudzu.layer import Affine"
   ]
  },
  {
   "cell_type": "markdown",
   "id": "bc01172a",
   "metadata": {
    "papermill": {
     "duration": 0.026642,
     "end_time": "2021-10-13T10:08:11.731795",
     "exception": false,
     "start_time": "2021-10-13T10:08:11.705153",
     "status": "completed"
    },
    "tags": []
   },
   "source": [
    "### Let us create a `Config` class, to store important parameters. \n",
    "This class essentially plays the role of a dictionary."
   ]
  },
  {
   "cell_type": "code",
   "execution_count": 16,
   "id": "978281aa",
   "metadata": {
    "execution": {
     "iopub.execute_input": "2021-10-13T10:08:11.794289Z",
     "iopub.status.busy": "2021-10-13T10:08:11.793764Z",
     "iopub.status.idle": "2021-10-13T10:08:11.802761Z",
     "shell.execute_reply": "2021-10-13T10:08:11.802358Z"
    },
    "papermill": {
     "duration": 0.044457,
     "end_time": "2021-10-13T10:08:11.802866",
     "exception": false,
     "start_time": "2021-10-13T10:08:11.758409",
     "status": "completed"
    },
    "tags": []
   },
   "outputs": [],
   "source": [
    "class Config:\n",
    "    pass\n",
    "config = Config()\n",
    "config.lr = 0.001\n",
    "config.num_epochs = 250\n",
    "config.bs = 50"
   ]
  },
  {
   "cell_type": "markdown",
   "id": "1385fa59",
   "metadata": {
    "papermill": {
     "duration": 0.026674,
     "end_time": "2021-10-13T10:08:11.856304",
     "exception": false,
     "start_time": "2021-10-13T10:08:11.829630",
     "status": "completed"
    },
    "tags": []
   },
   "source": [
    "### Running Models with the Training data\n",
    "Details about the network layers:\n",
    "- A first affine layer has 784 inputs and does 100 affine transforms. These are followed by a Relu\n",
    "- A second affine layer has 100 inputs from the 100 activations of the past layer, and does 100 affine transforms. These are followed by a Relu\n",
    "- A third affine layer has 100 activations and does 2 affine transformations to create an embedding for visualization. There is no non-linearity here.\n",
    "- A final \"logistic regression\" which has an affine transform from 2 inputs to 1 output, which is squeezed through a sigmoid.\n"
   ]
  },
  {
   "cell_type": "code",
   "execution_count": 17,
   "id": "2b9c66db",
   "metadata": {
    "execution": {
     "iopub.execute_input": "2021-10-13T10:08:11.916177Z",
     "iopub.status.busy": "2021-10-13T10:08:11.915657Z",
     "iopub.status.idle": "2021-10-13T10:08:11.926189Z",
     "shell.execute_reply": "2021-10-13T10:08:11.925765Z"
    },
    "papermill": {
     "duration": 0.043206,
     "end_time": "2021-10-13T10:08:11.926294",
     "exception": false,
     "start_time": "2021-10-13T10:08:11.883088",
     "status": "completed"
    },
    "tags": []
   },
   "outputs": [],
   "source": [
    "data = Data(X_train, y_train.reshape(-1,1))\n",
    "sampler = Sampler(data, config.bs, shuffle=True)\n",
    "\n",
    "dl = Dataloader(data, sampler)\n",
    "\n",
    "opt = GD(config.lr)\n",
    "loss = MSE()"
   ]
  },
  {
   "cell_type": "code",
   "execution_count": 18,
   "id": "b275e4c2",
   "metadata": {
    "execution": {
     "iopub.execute_input": "2021-10-13T10:08:11.987185Z",
     "iopub.status.busy": "2021-10-13T10:08:11.986681Z",
     "iopub.status.idle": "2021-10-13T10:08:11.996074Z",
     "shell.execute_reply": "2021-10-13T10:08:11.995665Z"
    },
    "papermill": {
     "duration": 0.043166,
     "end_time": "2021-10-13T10:08:11.996184",
     "exception": false,
     "start_time": "2021-10-13T10:08:11.953018",
     "status": "completed"
    },
    "tags": []
   },
   "outputs": [],
   "source": [
    "training_data_x = X_train\n",
    "testing_data_x = X_test\n",
    "training_data_y = y_train.reshape(-1,1)\n",
    "testing_data_y = y_test.reshape(-1,1)"
   ]
  },
  {
   "cell_type": "code",
   "execution_count": 19,
   "id": "76951160",
   "metadata": {
    "execution": {
     "iopub.execute_input": "2021-10-13T10:08:12.054709Z",
     "iopub.status.busy": "2021-10-13T10:08:12.054197Z",
     "iopub.status.idle": "2021-10-13T10:08:12.069331Z",
     "shell.execute_reply": "2021-10-13T10:08:12.068906Z"
    },
    "papermill": {
     "duration": 0.046706,
     "end_time": "2021-10-13T10:08:12.069437",
     "exception": false,
     "start_time": "2021-10-13T10:08:12.022731",
     "status": "completed"
    },
    "tags": []
   },
   "outputs": [
    {
     "name": "stdout",
     "output_type": "stream",
     "text": [
      "xavier\n",
      "xavier\n",
      "xavier\n",
      "xavier\n",
      "xavier\n"
     ]
    }
   ],
   "source": [
    "layers = [Affine(\"first\", 784, 100), Relu(\"first\"), Affine(\"second\", 100, 100), Relu(\"second\"), Affine(\"third\", 100, 2), Affine(\"last\", 2, 1), Sigmoid(\"last\")]\n",
    "model_nn = Model(layers)\n",
    "model_lr = Model([Affine(\"logits\", 784, 1), Sigmoid(\"sigmoid\")])"
   ]
  },
  {
   "cell_type": "code",
   "execution_count": 20,
   "id": "6eede77a",
   "metadata": {
    "execution": {
     "iopub.execute_input": "2021-10-13T10:08:12.139991Z",
     "iopub.status.busy": "2021-10-13T10:08:12.135381Z",
     "iopub.status.idle": "2021-10-13T10:08:12.142308Z",
     "shell.execute_reply": "2021-10-13T10:08:12.141808Z"
    },
    "papermill": {
     "duration": 0.045811,
     "end_time": "2021-10-13T10:08:12.142416",
     "exception": false,
     "start_time": "2021-10-13T10:08:12.096605",
     "status": "completed"
    },
    "tags": []
   },
   "outputs": [],
   "source": [
    "nn_learner = Learner(loss, model_nn, opt, config.num_epochs)\n",
    "acc_nn = ClfCallback(nn_learner, config.bs, training_data_x , testing_data_x, training_data_y, testing_data_y)\n",
    "nn_learner.set_callbacks([acc_nn])"
   ]
  },
  {
   "cell_type": "code",
   "execution_count": 21,
   "id": "877b6cc7",
   "metadata": {
    "execution": {
     "iopub.execute_input": "2021-10-13T10:08:12.199846Z",
     "iopub.status.busy": "2021-10-13T10:08:12.199314Z",
     "iopub.status.idle": "2021-10-13T10:08:12.211345Z",
     "shell.execute_reply": "2021-10-13T10:08:12.210922Z"
    },
    "papermill": {
     "duration": 0.041989,
     "end_time": "2021-10-13T10:08:12.211477",
     "exception": false,
     "start_time": "2021-10-13T10:08:12.169488",
     "status": "completed"
    },
    "tags": []
   },
   "outputs": [],
   "source": [
    "lr_learner = Learner(loss, model_lr, opt, config.num_epochs)\n",
    "acc_lr = ClfCallback(lr_learner, config.bs, training_data_x , testing_data_x, training_data_y, testing_data_y)\n",
    "lr_learner.set_callbacks([acc_lr])"
   ]
  },
  {
   "cell_type": "code",
   "execution_count": 22,
   "id": "d9b133c3",
   "metadata": {
    "execution": {
     "iopub.execute_input": "2021-10-13T10:08:12.280595Z",
     "iopub.status.busy": "2021-10-13T10:08:12.276452Z",
     "iopub.status.idle": "2021-10-13T10:09:29.097769Z",
     "shell.execute_reply": "2021-10-13T10:09:29.098554Z"
    },
    "papermill": {
     "duration": 76.860194,
     "end_time": "2021-10-13T10:09:29.098712",
     "exception": false,
     "start_time": "2021-10-13T10:08:12.238518",
     "status": "completed"
    },
    "tags": []
   },
   "outputs": [
    {
     "name": "stdout",
     "output_type": "stream",
     "text": [
      "Epoch 0, Loss 0.2663\n",
      "Training Accuracy: 0.5742, Testing Accuracy: 0.5761\n",
      "\n"
     ]
    },
    {
     "name": "stdout",
     "output_type": "stream",
     "text": [
      "Epoch 10, Loss 0.084\n",
      "Training Accuracy: 0.9261, Testing Accuracy: 0.9370\n",
      "\n"
     ]
    },
    {
     "name": "stdout",
     "output_type": "stream",
     "text": [
      "Epoch 20, Loss 0.0519\n",
      "Training Accuracy: 0.9469, Testing Accuracy: 0.9617\n",
      "\n"
     ]
    },
    {
     "name": "stdout",
     "output_type": "stream",
     "text": [
      "Epoch 30, Loss 0.041\n",
      "Training Accuracy: 0.9557, Testing Accuracy: 0.9657\n",
      "\n"
     ]
    },
    {
     "name": "stdout",
     "output_type": "stream",
     "text": [
      "Epoch 40, Loss 0.0356\n",
      "Training Accuracy: 0.9615, Testing Accuracy: 0.9698\n",
      "\n"
     ]
    },
    {
     "name": "stdout",
     "output_type": "stream",
     "text": [
      "Epoch 50, Loss 0.0323\n",
      "Training Accuracy: 0.9649, Testing Accuracy: 0.9703\n",
      "\n"
     ]
    },
    {
     "name": "stdout",
     "output_type": "stream",
     "text": [
      "Epoch 60, Loss 0.03\n",
      "Training Accuracy: 0.9662, Testing Accuracy: 0.9708\n",
      "\n"
     ]
    },
    {
     "name": "stdout",
     "output_type": "stream",
     "text": [
      "Epoch 70, Loss 0.0284\n",
      "Training Accuracy: 0.9680, Testing Accuracy: 0.9718\n",
      "\n"
     ]
    },
    {
     "name": "stdout",
     "output_type": "stream",
     "text": [
      "Epoch 80, Loss 0.0271\n",
      "Training Accuracy: 0.9695, Testing Accuracy: 0.9738\n",
      "\n"
     ]
    },
    {
     "name": "stdout",
     "output_type": "stream",
     "text": [
      "Epoch 90, Loss 0.026\n",
      "Training Accuracy: 0.9705, Testing Accuracy: 0.9743\n",
      "\n"
     ]
    },
    {
     "name": "stdout",
     "output_type": "stream",
     "text": [
      "Epoch 100, Loss 0.025\n",
      "Training Accuracy: 0.9715, Testing Accuracy: 0.9748\n",
      "\n"
     ]
    },
    {
     "name": "stdout",
     "output_type": "stream",
     "text": [
      "Epoch 110, Loss 0.0242\n",
      "Training Accuracy: 0.9725, Testing Accuracy: 0.9733\n",
      "\n"
     ]
    },
    {
     "name": "stdout",
     "output_type": "stream",
     "text": [
      "Epoch 120, Loss 0.0235\n",
      "Training Accuracy: 0.9734, Testing Accuracy: 0.9733\n",
      "\n"
     ]
    },
    {
     "name": "stdout",
     "output_type": "stream",
     "text": [
      "Epoch 130, Loss 0.0228\n",
      "Training Accuracy: 0.9739, Testing Accuracy: 0.9738\n",
      "\n"
     ]
    },
    {
     "name": "stdout",
     "output_type": "stream",
     "text": [
      "Epoch 140, Loss 0.0222\n",
      "Training Accuracy: 0.9747, Testing Accuracy: 0.9748\n",
      "\n"
     ]
    },
    {
     "name": "stdout",
     "output_type": "stream",
     "text": [
      "Epoch 150, Loss 0.0217\n",
      "Training Accuracy: 0.9755, Testing Accuracy: 0.9753\n",
      "\n"
     ]
    },
    {
     "name": "stdout",
     "output_type": "stream",
     "text": [
      "Epoch 160, Loss 0.0211\n",
      "Training Accuracy: 0.9759, Testing Accuracy: 0.9758\n",
      "\n"
     ]
    },
    {
     "name": "stdout",
     "output_type": "stream",
     "text": [
      "Epoch 170, Loss 0.0206\n",
      "Training Accuracy: 0.9765, Testing Accuracy: 0.9753\n",
      "\n"
     ]
    },
    {
     "name": "stdout",
     "output_type": "stream",
     "text": [
      "Epoch 180, Loss 0.0201\n",
      "Training Accuracy: 0.9772, Testing Accuracy: 0.9753\n",
      "\n"
     ]
    },
    {
     "name": "stdout",
     "output_type": "stream",
     "text": [
      "Epoch 190, Loss 0.0196\n",
      "Training Accuracy: 0.9781, Testing Accuracy: 0.9753\n",
      "\n"
     ]
    },
    {
     "name": "stdout",
     "output_type": "stream",
     "text": [
      "Epoch 200, Loss 0.0192\n",
      "Training Accuracy: 0.9784, Testing Accuracy: 0.9758\n",
      "\n"
     ]
    },
    {
     "name": "stdout",
     "output_type": "stream",
     "text": [
      "Epoch 210, Loss 0.0188\n",
      "Training Accuracy: 0.9789, Testing Accuracy: 0.9763\n",
      "\n"
     ]
    },
    {
     "name": "stdout",
     "output_type": "stream",
     "text": [
      "Epoch 220, Loss 0.0183\n",
      "Training Accuracy: 0.9796, Testing Accuracy: 0.9758\n",
      "\n"
     ]
    },
    {
     "name": "stdout",
     "output_type": "stream",
     "text": [
      "Epoch 230, Loss 0.0179\n",
      "Training Accuracy: 0.9800, Testing Accuracy: 0.9758\n",
      "\n"
     ]
    },
    {
     "name": "stdout",
     "output_type": "stream",
     "text": [
      "Epoch 240, Loss 0.0175\n",
      "Training Accuracy: 0.9805, Testing Accuracy: 0.9768\n",
      "\n"
     ]
    },
    {
     "data": {
      "text/plain": [
       "0.07188677546390865"
      ]
     },
     "execution_count": 22,
     "metadata": {},
     "output_type": "execute_result"
    }
   ],
   "source": [
    "nn_learner.train_loop(dl)"
   ]
  },
  {
   "cell_type": "code",
   "execution_count": 23,
   "id": "e0163366",
   "metadata": {
    "execution": {
     "iopub.execute_input": "2021-10-13T10:09:29.179724Z",
     "iopub.status.busy": "2021-10-13T10:09:29.179185Z",
     "iopub.status.idle": "2021-10-13T10:09:43.037065Z",
     "shell.execute_reply": "2021-10-13T10:09:43.037785Z"
    },
    "papermill": {
     "duration": 13.904447,
     "end_time": "2021-10-13T10:09:43.037931",
     "exception": false,
     "start_time": "2021-10-13T10:09:29.133484",
     "status": "completed"
    },
    "tags": []
   },
   "outputs": [
    {
     "name": "stdout",
     "output_type": "stream",
     "text": [
      "Epoch 0, Loss 0.2411\n",
      "Training Accuracy: 0.6985, Testing Accuracy: 0.6870\n",
      "\n"
     ]
    },
    {
     "name": "stdout",
     "output_type": "stream",
     "text": [
      "Epoch 10, Loss 0.1002\n",
      "Training Accuracy: 0.9182, Testing Accuracy: 0.9269\n",
      "\n"
     ]
    },
    {
     "name": "stdout",
     "output_type": "stream",
     "text": [
      "Epoch 20, Loss 0.0776\n",
      "Training Accuracy: 0.9311, Testing Accuracy: 0.9420\n",
      "\n"
     ]
    },
    {
     "name": "stdout",
     "output_type": "stream",
     "text": [
      "Epoch 30, Loss 0.0673\n",
      "Training Accuracy: 0.9372, Testing Accuracy: 0.9466\n",
      "\n"
     ]
    },
    {
     "name": "stdout",
     "output_type": "stream",
     "text": [
      "Epoch 40, Loss 0.061\n",
      "Training Accuracy: 0.9415, Testing Accuracy: 0.9501\n",
      "\n"
     ]
    },
    {
     "name": "stdout",
     "output_type": "stream",
     "text": [
      "Epoch 50, Loss 0.0567\n",
      "Training Accuracy: 0.9447, Testing Accuracy: 0.9551\n",
      "\n"
     ]
    },
    {
     "name": "stdout",
     "output_type": "stream",
     "text": [
      "Epoch 60, Loss 0.0536\n",
      "Training Accuracy: 0.9464, Testing Accuracy: 0.9556\n",
      "\n"
     ]
    },
    {
     "name": "stdout",
     "output_type": "stream",
     "text": [
      "Epoch 70, Loss 0.0511\n",
      "Training Accuracy: 0.9497, Testing Accuracy: 0.9561\n",
      "\n"
     ]
    },
    {
     "name": "stdout",
     "output_type": "stream",
     "text": [
      "Epoch 80, Loss 0.0491\n",
      "Training Accuracy: 0.9509, Testing Accuracy: 0.9572\n",
      "\n"
     ]
    },
    {
     "name": "stdout",
     "output_type": "stream",
     "text": [
      "Epoch 90, Loss 0.0474\n",
      "Training Accuracy: 0.9524, Testing Accuracy: 0.9587\n",
      "\n"
     ]
    },
    {
     "name": "stdout",
     "output_type": "stream",
     "text": [
      "Epoch 100, Loss 0.0461\n",
      "Training Accuracy: 0.9533, Testing Accuracy: 0.9592\n",
      "\n"
     ]
    },
    {
     "name": "stdout",
     "output_type": "stream",
     "text": [
      "Epoch 110, Loss 0.0449\n",
      "Training Accuracy: 0.9537, Testing Accuracy: 0.9597\n",
      "\n"
     ]
    },
    {
     "name": "stdout",
     "output_type": "stream",
     "text": [
      "Epoch 120, Loss 0.0438\n",
      "Training Accuracy: 0.9542, Testing Accuracy: 0.9602\n",
      "\n"
     ]
    },
    {
     "name": "stdout",
     "output_type": "stream",
     "text": [
      "Epoch 130, Loss 0.0429\n",
      "Training Accuracy: 0.9548, Testing Accuracy: 0.9617\n",
      "\n"
     ]
    },
    {
     "name": "stdout",
     "output_type": "stream",
     "text": [
      "Epoch 140, Loss 0.0421\n",
      "Training Accuracy: 0.9553, Testing Accuracy: 0.9622\n",
      "\n"
     ]
    },
    {
     "name": "stdout",
     "output_type": "stream",
     "text": [
      "Epoch 150, Loss 0.0413\n",
      "Training Accuracy: 0.9559, Testing Accuracy: 0.9627\n",
      "\n"
     ]
    },
    {
     "name": "stdout",
     "output_type": "stream",
     "text": [
      "Epoch 160, Loss 0.0407\n",
      "Training Accuracy: 0.9569, Testing Accuracy: 0.9627\n",
      "\n"
     ]
    },
    {
     "name": "stdout",
     "output_type": "stream",
     "text": [
      "Epoch 170, Loss 0.0401\n",
      "Training Accuracy: 0.9575, Testing Accuracy: 0.9637\n",
      "\n"
     ]
    },
    {
     "name": "stdout",
     "output_type": "stream",
     "text": [
      "Epoch 180, Loss 0.0395\n",
      "Training Accuracy: 0.9579, Testing Accuracy: 0.9637\n",
      "\n"
     ]
    },
    {
     "name": "stdout",
     "output_type": "stream",
     "text": [
      "Epoch 190, Loss 0.039\n",
      "Training Accuracy: 0.9589, Testing Accuracy: 0.9647\n",
      "\n"
     ]
    },
    {
     "name": "stdout",
     "output_type": "stream",
     "text": [
      "Epoch 200, Loss 0.0385\n",
      "Training Accuracy: 0.9594, Testing Accuracy: 0.9652\n",
      "\n"
     ]
    },
    {
     "name": "stdout",
     "output_type": "stream",
     "text": [
      "Epoch 210, Loss 0.0381\n",
      "Training Accuracy: 0.9598, Testing Accuracy: 0.9647\n",
      "\n"
     ]
    },
    {
     "name": "stdout",
     "output_type": "stream",
     "text": [
      "Epoch 220, Loss 0.0377\n",
      "Training Accuracy: 0.9601, Testing Accuracy: 0.9652\n",
      "\n"
     ]
    },
    {
     "name": "stdout",
     "output_type": "stream",
     "text": [
      "Epoch 230, Loss 0.0373\n",
      "Training Accuracy: 0.9603, Testing Accuracy: 0.9652\n",
      "\n"
     ]
    },
    {
     "name": "stdout",
     "output_type": "stream",
     "text": [
      "Epoch 240, Loss 0.0369\n",
      "Training Accuracy: 0.9604, Testing Accuracy: 0.9657\n",
      "\n"
     ]
    },
    {
     "data": {
      "text/plain": [
       "0.04580390388020291"
      ]
     },
     "execution_count": 23,
     "metadata": {},
     "output_type": "execute_result"
    }
   ],
   "source": [
    "lr_learner.train_loop(dl)"
   ]
  },
  {
   "cell_type": "code",
   "execution_count": 24,
   "id": "ca410940",
   "metadata": {
    "execution": {
     "iopub.execute_input": "2021-10-13T10:09:43.129156Z",
     "iopub.status.busy": "2021-10-13T10:09:43.128626Z",
     "iopub.status.idle": "2021-10-13T10:09:43.366491Z",
     "shell.execute_reply": "2021-10-13T10:09:43.365681Z"
    },
    "papermill": {
     "duration": 0.287326,
     "end_time": "2021-10-13T10:09:43.366628",
     "exception": false,
     "start_time": "2021-10-13T10:09:43.079302",
     "status": "completed"
    },
    "tags": []
   },
   "outputs": [
    {
     "data": {
      "text/plain": [
       "<matplotlib.legend.Legend at 0x7f73aafa38d0>"
      ]
     },
     "execution_count": 24,
     "metadata": {},
     "output_type": "execute_result"
    },
    {
     "data": {
      "image/png": "[encoded data removed]",
      "text/plain": [
       "<Figure size 1080x720 with 1 Axes>"
      ]
     },
     "metadata": {
      "needs_background": "light"
     },
     "output_type": "display_data"
    }
   ],
   "source": [
    "#comparing the results of NN and LR\n",
    "plt.figure(figsize=(15,10))\n",
    "\n",
    "# Neural Network plots\n",
    "plt.plot(acc_nn.accuracies, 'r-', label = \"Training Accuracies - NN\")\n",
    "plt.plot(acc_nn.test_accuracies, 'g-', label = \"Testing Accuracies - NN\")\n",
    "\n",
    "# Logistic Regression plots\n",
    "plt.plot(acc_lr.accuracies, 'k-', label = \"Training Accuracies - LR\")\n",
    "plt.plot(acc_lr.test_accuracies, 'b-', label = \"Testing Accuracies - LR\")\n",
    "plt.legend()"
   ]
  },
  {
   "cell_type": "markdown",
   "id": "80dfb35c",
   "metadata": {
    "papermill": {
     "duration": 0.041885,
     "end_time": "2021-10-13T10:09:43.450759",
     "exception": false,
     "start_time": "2021-10-13T10:09:43.408874",
     "status": "completed"
    },
    "tags": []
   },
   "source": [
    "#### Plotting the outputs of this layer of the NN.\n"
   ]
  },
  {
   "cell_type": "code",
   "execution_count": 25,
   "id": "45eb2ff5",
   "metadata": {
    "execution": {
     "iopub.execute_input": "2021-10-13T10:09:43.544668Z",
     "iopub.status.busy": "2021-10-13T10:09:43.544138Z",
     "iopub.status.idle": "2021-10-13T10:09:43.557680Z",
     "shell.execute_reply": "2021-10-13T10:09:43.558339Z"
    },
    "papermill": {
     "duration": 0.065995,
     "end_time": "2021-10-13T10:09:43.558484",
     "exception": false,
     "start_time": "2021-10-13T10:09:43.492489",
     "status": "completed"
    },
    "tags": []
   },
   "outputs": [],
   "source": [
    "new_model = Model(layers[:-2])\n",
    "testing_plot = new_model(testing_data_x)"
   ]
  },
  {
   "cell_type": "code",
   "execution_count": 26,
   "id": "4c0a5485",
   "metadata": {
    "execution": {
     "iopub.execute_input": "2021-10-13T10:09:43.686266Z",
     "iopub.status.busy": "2021-10-13T10:09:43.680428Z",
     "iopub.status.idle": "2021-10-13T10:09:43.857096Z",
     "shell.execute_reply": "2021-10-13T10:09:43.856671Z"
    },
    "papermill": {
     "duration": 0.248434,
     "end_time": "2021-10-13T10:09:43.857221",
     "exception": false,
     "start_time": "2021-10-13T10:09:43.608787",
     "status": "completed"
    },
    "tags": []
   },
   "outputs": [
    {
     "data": {
      "text/plain": [
       "Text(0.5, 1.0, 'Outputs')"
      ]
     },
     "execution_count": 26,
     "metadata": {},
     "output_type": "execute_result"
    },
    {
     "data": {
      "image/png": "[encoded data removed]",
      "text/plain": [
       "<Figure size 576x504 with 1 Axes>"
      ]
     },
     "metadata": {
      "needs_background": "light"
     },
     "output_type": "display_data"
    }
   ],
   "source": [
    "# Plotting the scatter plot of points and color coding by class\n",
    "plt.figure(figsize=(8,7))\n",
    "plt.scatter(testing_plot[:,0], testing_plot[:,1], alpha = 0.1, c = y_test.ravel());\n",
    "plt.title('Outputs')"
   ]
  },
  {
   "cell_type": "markdown",
   "id": "a74fcf8f",
   "metadata": {
    "papermill": {
     "duration": 0.043977,
     "end_time": "2021-10-13T10:09:43.945650",
     "exception": false,
     "start_time": "2021-10-13T10:09:43.901673",
     "status": "completed"
    },
    "tags": []
   },
   "source": [
    "Probability contours"
   ]
  },
  {
   "cell_type": "code",
   "execution_count": 27,
   "id": "d0afc8e3",
   "metadata": {
    "execution": {
     "iopub.execute_input": "2021-10-13T10:09:44.037693Z",
     "iopub.status.busy": "2021-10-13T10:09:44.037162Z",
     "iopub.status.idle": "2021-10-13T10:09:44.049810Z",
     "shell.execute_reply": "2021-10-13T10:09:44.049396Z"
    },
    "papermill": {
     "duration": 0.060349,
     "end_time": "2021-10-13T10:09:44.049926",
     "exception": false,
     "start_time": "2021-10-13T10:09:43.989577",
     "status": "completed"
    },
    "tags": []
   },
   "outputs": [],
   "source": [
    "model_prob = Model(layers[-2:]) "
   ]
  },
  {
   "cell_type": "code",
   "execution_count": 28,
   "id": "9b96e238",
   "metadata": {
    "execution": {
     "iopub.execute_input": "2021-10-13T10:09:44.171807Z",
     "iopub.status.busy": "2021-10-13T10:09:44.170726Z",
     "iopub.status.idle": "2021-10-13T10:09:44.184719Z",
     "shell.execute_reply": "2021-10-13T10:09:44.185124Z"
    },
    "papermill": {
     "duration": 0.090893,
     "end_time": "2021-10-13T10:09:44.185244",
     "exception": false,
     "start_time": "2021-10-13T10:09:44.094351",
     "status": "completed"
    },
    "tags": []
   },
   "outputs": [],
   "source": [
    "#creating the x and y ranges according to the above generated plot.\n",
    "x_range = np.linspace(-4, 1, 100) \n",
    "y_range = np.linspace(-6, 6, 100) \n",
    "x_grid, y_grid = np.meshgrid(x_range, y_range) # x_grid and y_grig are of size 100 X 100\n",
    "\n",
    "# converting x_grid and y_grid to continuous arrays\n",
    "x_gridflat = np.ravel(x_grid)\n",
    "y_gridflat = np.ravel(y_grid)\n",
    "\n",
    "# The last layer of the current model takes two columns as input. Hence transpose of np.vstack() is required.\n",
    "X = np.vstack((x_gridflat, y_gridflat)).T\n",
    "\n",
    "prob_contour = model_prob(X).reshape(100,100) "
   ]
  },
  {
   "cell_type": "code",
   "execution_count": 29,
   "id": "da72499a",
   "metadata": {
    "execution": {
     "iopub.execute_input": "2021-10-13T10:09:44.278803Z",
     "iopub.status.busy": "2021-10-13T10:09:44.278272Z",
     "iopub.status.idle": "2021-10-13T10:09:44.525874Z",
     "shell.execute_reply": "2021-10-13T10:09:44.524942Z"
    },
    "papermill": {
     "duration": 0.296932,
     "end_time": "2021-10-13T10:09:44.526002",
     "exception": false,
     "start_time": "2021-10-13T10:09:44.229070",
     "status": "completed"
    },
    "tags": []
   },
   "outputs": [
    {
     "data": {
      "image/png": "[encoded data removed]",
      "text/plain": [
       "<Figure size 720x648 with 1 Axes>"
      ]
     },
     "metadata": {
      "needs_background": "light"
     },
     "output_type": "display_data"
    }
   ],
   "source": [
    "plt.figure(figsize=(10,9))\n",
    "plt.scatter(testing_plot[:,0], testing_plot[:,1], alpha = 0.1, c = y_test.ravel())\n",
    "contours = plt.contour(x_grid,y_grid,prob_contour)\n",
    "plt.title('Probability Contours')\n",
    "plt.clabel(contours, inline = True );"
   ]
  },
  {
   "cell_type": "code",
   "execution_count": null,
   "id": "e81b4ac7",
   "metadata": {
    "papermill": {
     "duration": 0.046917,
     "end_time": "2021-10-13T10:09:44.620511",
     "exception": false,
     "start_time": "2021-10-13T10:09:44.573594",
     "status": "completed"
    },
    "tags": []
   },
   "outputs": [],
   "source": []
  }
 ],
 "metadata": {
  "kernelspec": {
   "display_name": "Python 3",
   "language": "python",
   "name": "python3"
  },
  "language_info": {
   "codemirror_mode": {
    "name": "ipython",
    "version": 3
   },
   "file_extension": ".py",
   "mimetype": "text/x-python",
   "name": "python",
   "nbconvert_exporter": "python",
   "pygments_lexer": "ipython3",
   "version": "3.6.15"
  },
  "papermill": {
   "default_parameters": {},
   "duration": 99.052705,
   "end_time": "2021-10-13T10:09:45.076514",
   "environment_variables": {},
   "exception": null,
   "input_path": "2020-08-11-part2.ipynb",
   "output_path": "2020-08-11-part2.ipynb",
   "parameters": {},
   "start_time": "2021-10-13T10:08:06.023809",
   "version": "2.3.3"
  }
 },
 "nbformat": 4,
 "nbformat_minor": 5
}