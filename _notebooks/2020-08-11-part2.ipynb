{
 "cells": [
  {
   "cell_type": "markdown",
   "id": "98380cd3",
   "metadata": {
    "papermill": {
     "duration": 0.03323,
     "end_time": "2021-10-19T20:07:49.712911",
     "exception": false,
     "start_time": "2021-10-19T20:07:49.679681",
     "status": "completed"
    },
    "tags": []
   },
   "source": [
    "# Distinguish Your Own Digits (DYOD)"
   ]
  },
  {
   "cell_type": "markdown",
   "id": "ef31240d",
   "metadata": {
    "papermill": {
     "duration": 0.026617,
     "end_time": "2021-10-19T20:07:49.766892",
     "exception": false,
     "start_time": "2021-10-19T20:07:49.740275",
     "status": "completed"
    },
    "tags": []
   },
   "source": [
    "You are going to write a classifier that distinguishes between the number 3 and number 8."
   ]
  },
  {
   "cell_type": "code",
   "execution_count": 1,
   "id": "b15c8646",
   "metadata": {
    "execution": {
     "iopub.execute_input": "2021-10-19T20:07:49.833661Z",
     "iopub.status.busy": "2021-10-19T20:07:49.833060Z",
     "iopub.status.idle": "2021-10-19T20:07:49.844635Z",
     "shell.execute_reply": "2021-10-19T20:07:49.844117Z"
    },
    "papermill": {
     "duration": 0.051762,
     "end_time": "2021-10-19T20:07:49.844783",
     "exception": false,
     "start_time": "2021-10-19T20:07:49.793021",
     "status": "completed"
    },
    "tags": []
   },
   "outputs": [],
   "source": [
    "%load_ext autoreload\n",
    "%autoreload 2"
   ]
  },
  {
   "cell_type": "code",
   "execution_count": 2,
   "id": "22ef38dc",
   "metadata": {
    "execution": {
     "iopub.execute_input": "2021-10-19T20:07:49.902392Z",
     "iopub.status.busy": "2021-10-19T20:07:49.901791Z",
     "iopub.status.idle": "2021-10-19T20:07:50.473299Z",
     "shell.execute_reply": "2021-10-19T20:07:50.472650Z"
    },
    "papermill": {
     "duration": 0.602379,
     "end_time": "2021-10-19T20:07:50.473470",
     "exception": false,
     "start_time": "2021-10-19T20:07:49.871091",
     "status": "completed"
    },
    "tags": []
   },
   "outputs": [],
   "source": [
    "%matplotlib inline\n",
    "import numpy as np\n",
    "import matplotlib.pyplot as plt\n",
    "import pandas as pd"
   ]
  },
  {
   "cell_type": "markdown",
   "id": "ba036198",
   "metadata": {
    "papermill": {
     "duration": 0.026034,
     "end_time": "2021-10-19T20:07:50.526781",
     "exception": false,
     "start_time": "2021-10-19T20:07:50.500747",
     "status": "completed"
    },
    "tags": []
   },
   "source": [
    "From the command line run `pip install mnist`. This is a library that will help you bring down the mnist dataset. If you run this from a notebook, you need to put  `!pip install mnist` in a cell by itself."
   ]
  },
  {
   "cell_type": "code",
   "execution_count": 3,
   "id": "bb6ad8a1",
   "metadata": {
    "execution": {
     "iopub.execute_input": "2021-10-19T20:07:50.581614Z",
     "iopub.status.busy": "2021-10-19T20:07:50.581011Z",
     "iopub.status.idle": "2021-10-19T20:07:52.335666Z",
     "shell.execute_reply": "2021-10-19T20:07:52.335125Z"
    },
    "papermill": {
     "duration": 1.783656,
     "end_time": "2021-10-19T20:07:52.335798",
     "exception": false,
     "start_time": "2021-10-19T20:07:50.552142",
     "status": "completed"
    },
    "tags": []
   },
   "outputs": [
    {
     "name": "stdout",
     "output_type": "stream",
     "text": [
      "Collecting mnist\r\n"
     ]
    },
    {
     "name": "stdout",
     "output_type": "stream",
     "text": [
      "  Downloading mnist-0.2.2-py2.py3-none-any.whl (3.5 kB)\r\n",
      "Requirement already satisfied: numpy in /opt/hostedtoolcache/Python/3.6.15/x64/lib/python3.6/site-packages (from mnist) (1.19.5)\r\n"
     ]
    },
    {
     "name": "stdout",
     "output_type": "stream",
     "text": [
      "Installing collected packages: mnist\r\n",
      "Successfully installed mnist-0.2.2\r\n"
     ]
    },
    {
     "name": "stdout",
     "output_type": "stream",
     "text": [
      "\u001b[33mWARNING: You are using pip version 21.2.4; however, version 21.3 is available.\r\n",
      "You should consider upgrading via the '/opt/hostedtoolcache/Python/3.6.15/x64/bin/python -m pip install --upgrade pip' command.\u001b[0m\r\n"
     ]
    }
   ],
   "source": [
    "!pip install mnist"
   ]
  },
  {
   "cell_type": "markdown",
   "id": "69df9c9a",
   "metadata": {
    "papermill": {
     "duration": 0.026986,
     "end_time": "2021-10-19T20:07:52.389279",
     "exception": false,
     "start_time": "2021-10-19T20:07:52.362293",
     "status": "completed"
    },
    "tags": []
   },
   "source": [
    "## Preparing the Data"
   ]
  },
  {
   "cell_type": "code",
   "execution_count": 4,
   "id": "7f69d806",
   "metadata": {
    "execution": {
     "iopub.execute_input": "2021-10-19T20:07:52.446337Z",
     "iopub.status.busy": "2021-10-19T20:07:52.445753Z",
     "iopub.status.idle": "2021-10-19T20:07:52.461350Z",
     "shell.execute_reply": "2021-10-19T20:07:52.460869Z"
    },
    "papermill": {
     "duration": 0.045559,
     "end_time": "2021-10-19T20:07:52.461474",
     "exception": false,
     "start_time": "2021-10-19T20:07:52.415915",
     "status": "completed"
    },
    "tags": []
   },
   "outputs": [],
   "source": [
    "import mnist"
   ]
  },
  {
   "cell_type": "code",
   "execution_count": 5,
   "id": "a411e44f",
   "metadata": {
    "execution": {
     "iopub.execute_input": "2021-10-19T20:07:52.517448Z",
     "iopub.status.busy": "2021-10-19T20:07:52.516857Z",
     "iopub.status.idle": "2021-10-19T20:07:53.164467Z",
     "shell.execute_reply": "2021-10-19T20:07:53.163920Z"
    },
    "papermill": {
     "duration": 0.677059,
     "end_time": "2021-10-19T20:07:53.164618",
     "exception": false,
     "start_time": "2021-10-19T20:07:52.487559",
     "status": "completed"
    },
    "tags": []
   },
   "outputs": [],
   "source": [
    "train_images = mnist.train_images()\n",
    "train_labels = mnist.train_labels()"
   ]
  },
  {
   "cell_type": "code",
   "execution_count": 6,
   "id": "dceab3a5",
   "metadata": {
    "execution": {
     "iopub.execute_input": "2021-10-19T20:07:53.223001Z",
     "iopub.status.busy": "2021-10-19T20:07:53.222479Z",
     "iopub.status.idle": "2021-10-19T20:07:53.241882Z",
     "shell.execute_reply": "2021-10-19T20:07:53.241334Z"
    },
    "papermill": {
     "duration": 0.049692,
     "end_time": "2021-10-19T20:07:53.242004",
     "exception": false,
     "start_time": "2021-10-19T20:07:53.192312",
     "status": "completed"
    },
    "tags": []
   },
   "outputs": [
    {
     "data": {
      "text/plain": [
       "((60000, 28, 28), (60000,))"
      ]
     },
     "execution_count": 6,
     "metadata": {},
     "output_type": "execute_result"
    }
   ],
   "source": [
    "train_images.shape, train_labels.shape"
   ]
  },
  {
   "cell_type": "code",
   "execution_count": 7,
   "id": "f50dc2bb",
   "metadata": {
    "execution": {
     "iopub.execute_input": "2021-10-19T20:07:53.298579Z",
     "iopub.status.busy": "2021-10-19T20:07:53.297997Z",
     "iopub.status.idle": "2021-10-19T20:07:53.459997Z",
     "shell.execute_reply": "2021-10-19T20:07:53.459381Z"
    },
    "papermill": {
     "duration": 0.191874,
     "end_time": "2021-10-19T20:07:53.460148",
     "exception": false,
     "start_time": "2021-10-19T20:07:53.268274",
     "status": "completed"
    },
    "tags": []
   },
   "outputs": [],
   "source": [
    "test_images = mnist.test_images()\n",
    "test_labels = mnist.test_labels()"
   ]
  },
  {
   "cell_type": "code",
   "execution_count": 8,
   "id": "fc38cf1b",
   "metadata": {
    "execution": {
     "iopub.execute_input": "2021-10-19T20:07:53.519399Z",
     "iopub.status.busy": "2021-10-19T20:07:53.518788Z",
     "iopub.status.idle": "2021-10-19T20:07:53.532171Z",
     "shell.execute_reply": "2021-10-19T20:07:53.532699Z"
    },
    "papermill": {
     "duration": 0.044371,
     "end_time": "2021-10-19T20:07:53.532827",
     "exception": false,
     "start_time": "2021-10-19T20:07:53.488456",
     "status": "completed"
    },
    "tags": []
   },
   "outputs": [
    {
     "data": {
      "text/plain": [
       "((10000, 28, 28), (10000,))"
      ]
     },
     "execution_count": 8,
     "metadata": {},
     "output_type": "execute_result"
    }
   ],
   "source": [
    "test_images.shape, test_labels.shape"
   ]
  },
  {
   "cell_type": "code",
   "execution_count": 9,
   "id": "f9ed8fe0",
   "metadata": {
    "execution": {
     "iopub.execute_input": "2021-10-19T20:07:53.589528Z",
     "iopub.status.busy": "2021-10-19T20:07:53.588943Z",
     "iopub.status.idle": "2021-10-19T20:07:53.741576Z",
     "shell.execute_reply": "2021-10-19T20:07:53.742148Z"
    },
    "papermill": {
     "duration": 0.183406,
     "end_time": "2021-10-19T20:07:53.742298",
     "exception": false,
     "start_time": "2021-10-19T20:07:53.558892",
     "status": "completed"
    },
    "tags": []
   },
   "outputs": [
    {
     "name": "stdout",
     "output_type": "stream",
     "text": [
      "2\n"
     ]
    },
    {
     "data": {
      "text/plain": [
       "<matplotlib.image.AxesImage at 0x7f5c71edf978>"
      ]
     },
     "execution_count": 9,
     "metadata": {},
     "output_type": "execute_result"
    },
    {
     "data": {
      "image/png": "[encoded data removed]",
      "text/plain": [
       "<Figure size 432x288 with 1 Axes>"
      ]
     },
     "metadata": {
      "needs_background": "light"
     },
     "output_type": "display_data"
    }
   ],
   "source": [
    "image_index = 7776 # You may select anything up to 60,000\n",
    "print(train_labels[image_index]) \n",
    "plt.imshow(train_images[image_index], cmap='Greys')"
   ]
  },
  {
   "cell_type": "markdown",
   "id": "a8d2388d",
   "metadata": {
    "papermill": {
     "duration": 0.028858,
     "end_time": "2021-10-19T20:07:53.803034",
     "exception": false,
     "start_time": "2021-10-19T20:07:53.774176",
     "status": "completed"
    },
    "tags": []
   },
   "source": [
    "## Filter data to get 3 and 8 out"
   ]
  },
  {
   "cell_type": "code",
   "execution_count": 10,
   "id": "776f7fc7",
   "metadata": {
    "execution": {
     "iopub.execute_input": "2021-10-19T20:07:53.865908Z",
     "iopub.status.busy": "2021-10-19T20:07:53.865299Z",
     "iopub.status.idle": "2021-10-19T20:07:53.884495Z",
     "shell.execute_reply": "2021-10-19T20:07:53.884019Z"
    },
    "papermill": {
     "duration": 0.052179,
     "end_time": "2021-10-19T20:07:53.884648",
     "exception": false,
     "start_time": "2021-10-19T20:07:53.832469",
     "status": "completed"
    },
    "tags": []
   },
   "outputs": [],
   "source": [
    "train_filter = np.where((train_labels == 3 ) | (train_labels == 8))\n",
    "test_filter = np.where((test_labels == 3) | (test_labels == 8))\n",
    "X_train, y_train = train_images[train_filter], train_labels[train_filter]\n",
    "X_test, y_test = test_images[test_filter], test_labels[test_filter]"
   ]
  },
  {
   "cell_type": "markdown",
   "id": "948f0b7e",
   "metadata": {
    "papermill": {
     "duration": 0.029956,
     "end_time": "2021-10-19T20:07:53.943207",
     "exception": false,
     "start_time": "2021-10-19T20:07:53.913251",
     "status": "completed"
    },
    "tags": []
   },
   "source": [
    "We normalize the pizel values in the 0 to 1 range"
   ]
  },
  {
   "cell_type": "code",
   "execution_count": 11,
   "id": "ee4c2166",
   "metadata": {
    "execution": {
     "iopub.execute_input": "2021-10-19T20:07:54.006488Z",
     "iopub.status.busy": "2021-10-19T20:07:54.005889Z",
     "iopub.status.idle": "2021-10-19T20:07:54.057417Z",
     "shell.execute_reply": "2021-10-19T20:07:54.056855Z"
    },
    "papermill": {
     "duration": 0.084892,
     "end_time": "2021-10-19T20:07:54.057563",
     "exception": false,
     "start_time": "2021-10-19T20:07:53.972671",
     "status": "completed"
    },
    "tags": []
   },
   "outputs": [],
   "source": [
    "X_train = X_train/255.\n",
    "X_test = X_test/255."
   ]
  },
  {
   "cell_type": "markdown",
   "id": "ddcf4fab",
   "metadata": {
    "papermill": {
     "duration": 0.028337,
     "end_time": "2021-10-19T20:07:54.115508",
     "exception": false,
     "start_time": "2021-10-19T20:07:54.087171",
     "status": "completed"
    },
    "tags": []
   },
   "source": [
    "And setup the labels as 1 (when the digit is 3) and 0 (when the digit is 8)"
   ]
  },
  {
   "cell_type": "code",
   "execution_count": 12,
   "id": "7dc908f2",
   "metadata": {
    "execution": {
     "iopub.execute_input": "2021-10-19T20:07:54.176786Z",
     "iopub.status.busy": "2021-10-19T20:07:54.176178Z",
     "iopub.status.idle": "2021-10-19T20:07:54.190003Z",
     "shell.execute_reply": "2021-10-19T20:07:54.189496Z"
    },
    "papermill": {
     "duration": 0.045828,
     "end_time": "2021-10-19T20:07:54.190124",
     "exception": false,
     "start_time": "2021-10-19T20:07:54.144296",
     "status": "completed"
    },
    "tags": []
   },
   "outputs": [],
   "source": [
    "y_train = 1*(y_train==3)\n",
    "y_test = 1*(y_test==3)"
   ]
  },
  {
   "cell_type": "code",
   "execution_count": 13,
   "id": "01e4e969",
   "metadata": {
    "execution": {
     "iopub.execute_input": "2021-10-19T20:07:54.251632Z",
     "iopub.status.busy": "2021-10-19T20:07:54.251076Z",
     "iopub.status.idle": "2021-10-19T20:07:54.264023Z",
     "shell.execute_reply": "2021-10-19T20:07:54.264436Z"
    },
    "papermill": {
     "duration": 0.045315,
     "end_time": "2021-10-19T20:07:54.264569",
     "exception": false,
     "start_time": "2021-10-19T20:07:54.219254",
     "status": "completed"
    },
    "tags": []
   },
   "outputs": [
    {
     "data": {
      "text/plain": [
       "((11982, 28, 28), (1984, 28, 28))"
      ]
     },
     "execution_count": 13,
     "metadata": {},
     "output_type": "execute_result"
    }
   ],
   "source": [
    "X_train.shape, X_test.shape"
   ]
  },
  {
   "cell_type": "markdown",
   "id": "5ccf3f85",
   "metadata": {
    "papermill": {
     "duration": 0.029496,
     "end_time": "2021-10-19T20:07:54.323166",
     "exception": false,
     "start_time": "2021-10-19T20:07:54.293670",
     "status": "completed"
    },
    "tags": []
   },
   "source": [
    "We reshape the data to flatten the image pixels into a set of features or co-variates:"
   ]
  },
  {
   "cell_type": "code",
   "execution_count": 14,
   "id": "5286a4a3",
   "metadata": {
    "execution": {
     "iopub.execute_input": "2021-10-19T20:07:54.387084Z",
     "iopub.status.busy": "2021-10-19T20:07:54.386496Z",
     "iopub.status.idle": "2021-10-19T20:07:54.399942Z",
     "shell.execute_reply": "2021-10-19T20:07:54.399419Z"
    },
    "papermill": {
     "duration": 0.047797,
     "end_time": "2021-10-19T20:07:54.400061",
     "exception": false,
     "start_time": "2021-10-19T20:07:54.352264",
     "status": "completed"
    },
    "tags": []
   },
   "outputs": [
    {
     "data": {
      "text/plain": [
       "((11982, 784), (1984, 784))"
      ]
     },
     "execution_count": 14,
     "metadata": {},
     "output_type": "execute_result"
    }
   ],
   "source": [
    "X_train = X_train.reshape(X_train.shape[0], -1)\n",
    "X_test = X_test.reshape(X_test.shape[0], -1)\n",
    "X_train.shape, X_test.shape"
   ]
  },
  {
   "cell_type": "code",
   "execution_count": 15,
   "id": "73c5f88a",
   "metadata": {
    "execution": {
     "iopub.execute_input": "2021-10-19T20:07:54.463122Z",
     "iopub.status.busy": "2021-10-19T20:07:54.462527Z",
     "iopub.status.idle": "2021-10-19T20:07:54.482030Z",
     "shell.execute_reply": "2021-10-19T20:07:54.481553Z"
    },
    "papermill": {
     "duration": 0.052357,
     "end_time": "2021-10-19T20:07:54.482153",
     "exception": false,
     "start_time": "2021-10-19T20:07:54.429796",
     "status": "completed"
    },
    "tags": []
   },
   "outputs": [],
   "source": [
    "#Impoting functions from 'Kudzu'\n",
    "from kudzu.model import Model\n",
    "from kudzu.train import Learner\n",
    "from kudzu.optim import GD\n",
    "from kudzu.data import Data, Sampler,Dataloader\n",
    "\n",
    "from kudzu.callbacks import AccCallback\n",
    "from kudzu.callbacks import ClfCallback\n",
    "\n",
    "from kudzu.loss import MSE\n",
    "\n",
    "from kudzu.layer import Sigmoid,Relu\n",
    "from kudzu.layer import Affine"
   ]
  },
  {
   "cell_type": "markdown",
   "id": "bc01172a",
   "metadata": {
    "papermill": {
     "duration": 0.029485,
     "end_time": "2021-10-19T20:07:54.541036",
     "exception": false,
     "start_time": "2021-10-19T20:07:54.511551",
     "status": "completed"
    },
    "tags": []
   },
   "source": [
    "### Let us create a `Config` class, to store important parameters. \n",
    "This class essentially plays the role of a dictionary."
   ]
  },
  {
   "cell_type": "code",
   "execution_count": 16,
   "id": "978281aa",
   "metadata": {
    "execution": {
     "iopub.execute_input": "2021-10-19T20:07:54.605253Z",
     "iopub.status.busy": "2021-10-19T20:07:54.604622Z",
     "iopub.status.idle": "2021-10-19T20:07:54.617156Z",
     "shell.execute_reply": "2021-10-19T20:07:54.616620Z"
    },
    "papermill": {
     "duration": 0.046597,
     "end_time": "2021-10-19T20:07:54.617279",
     "exception": false,
     "start_time": "2021-10-19T20:07:54.570682",
     "status": "completed"
    },
    "tags": []
   },
   "outputs": [],
   "source": [
    "class Config:\n",
    "    pass\n",
    "config = Config()\n",
    "config.lr = 0.001\n",
    "config.num_epochs = 250\n",
    "config.bs = 50"
   ]
  },
  {
   "cell_type": "markdown",
   "id": "1385fa59",
   "metadata": {
    "papermill": {
     "duration": 0.029575,
     "end_time": "2021-10-19T20:07:54.676150",
     "exception": false,
     "start_time": "2021-10-19T20:07:54.646575",
     "status": "completed"
    },
    "tags": []
   },
   "source": [
    "### Running Models with the Training data\n",
    "Details about the network layers:\n",
    "- A first affine layer has 784 inputs and does 100 affine transforms. These are followed by a Relu\n",
    "- A second affine layer has 100 inputs from the 100 activations of the past layer, and does 100 affine transforms. These are followed by a Relu\n",
    "- A third affine layer has 100 activations and does 2 affine transformations to create an embedding for visualization. There is no non-linearity here.\n",
    "- A final \"logistic regression\" which has an affine transform from 2 inputs to 1 output, which is squeezed through a sigmoid.\n"
   ]
  },
  {
   "cell_type": "code",
   "execution_count": 17,
   "id": "2b9c66db",
   "metadata": {
    "execution": {
     "iopub.execute_input": "2021-10-19T20:07:54.740717Z",
     "iopub.status.busy": "2021-10-19T20:07:54.740130Z",
     "iopub.status.idle": "2021-10-19T20:07:54.757539Z",
     "shell.execute_reply": "2021-10-19T20:07:54.757034Z"
    },
    "papermill": {
     "duration": 0.051332,
     "end_time": "2021-10-19T20:07:54.757665",
     "exception": false,
     "start_time": "2021-10-19T20:07:54.706333",
     "status": "completed"
    },
    "tags": []
   },
   "outputs": [],
   "source": [
    "data = Data(X_train, y_train.reshape(-1,1))\n",
    "sampler = Sampler(data, config.bs, shuffle=True)\n",
    "\n",
    "dl = Dataloader(data, sampler)\n",
    "\n",
    "opt = GD(config.lr)\n",
    "loss = MSE()"
   ]
  },
  {
   "cell_type": "code",
   "execution_count": 18,
   "id": "b275e4c2",
   "metadata": {
    "execution": {
     "iopub.execute_input": "2021-10-19T20:07:54.821898Z",
     "iopub.status.busy": "2021-10-19T20:07:54.821295Z",
     "iopub.status.idle": "2021-10-19T20:07:54.834045Z",
     "shell.execute_reply": "2021-10-19T20:07:54.833573Z"
    },
    "papermill": {
     "duration": 0.046216,
     "end_time": "2021-10-19T20:07:54.834166",
     "exception": false,
     "start_time": "2021-10-19T20:07:54.787950",
     "status": "completed"
    },
    "tags": []
   },
   "outputs": [],
   "source": [
    "training_data_x = X_train\n",
    "testing_data_x = X_test\n",
    "training_data_y = y_train.reshape(-1,1)\n",
    "testing_data_y = y_test.reshape(-1,1)"
   ]
  },
  {
   "cell_type": "code",
   "execution_count": 19,
   "id": "76951160",
   "metadata": {
    "execution": {
     "iopub.execute_input": "2021-10-19T20:07:54.898743Z",
     "iopub.status.busy": "2021-10-19T20:07:54.898145Z",
     "iopub.status.idle": "2021-10-19T20:07:54.915214Z",
     "shell.execute_reply": "2021-10-19T20:07:54.914722Z"
    },
    "papermill": {
     "duration": 0.05113,
     "end_time": "2021-10-19T20:07:54.915340",
     "exception": false,
     "start_time": "2021-10-19T20:07:54.864210",
     "status": "completed"
    },
    "tags": []
   },
   "outputs": [
    {
     "name": "stdout",
     "output_type": "stream",
     "text": [
      "xavier\n",
      "xavier\n",
      "xavier\n",
      "xavier\n",
      "xavier\n"
     ]
    }
   ],
   "source": [
    "layers = [Affine(\"first\", 784, 100), Relu(\"first\"), Affine(\"second\", 100, 100), Relu(\"second\"), Affine(\"third\", 100, 2), Affine(\"last\", 2, 1), Sigmoid(\"last\")]\n",
    "model_nn = Model(layers)\n",
    "model_lr = Model([Affine(\"logits\", 784, 1), Sigmoid(\"sigmoid\")])"
   ]
  },
  {
   "cell_type": "code",
   "execution_count": 20,
   "id": "6eede77a",
   "metadata": {
    "execution": {
     "iopub.execute_input": "2021-10-19T20:07:54.978484Z",
     "iopub.status.busy": "2021-10-19T20:07:54.977904Z",
     "iopub.status.idle": "2021-10-19T20:07:54.989743Z",
     "shell.execute_reply": "2021-10-19T20:07:54.990239Z"
    },
    "papermill": {
     "duration": 0.045387,
     "end_time": "2021-10-19T20:07:54.990369",
     "exception": false,
     "start_time": "2021-10-19T20:07:54.944982",
     "status": "completed"
    },
    "tags": []
   },
   "outputs": [],
   "source": [
    "nn_learner = Learner(loss, model_nn, opt, config.num_epochs)\n",
    "acc_nn = ClfCallback(nn_learner, config.bs, training_data_x , testing_data_x, training_data_y, testing_data_y)\n",
    "nn_learner.set_callbacks([acc_nn])"
   ]
  },
  {
   "cell_type": "code",
   "execution_count": 21,
   "id": "877b6cc7",
   "metadata": {
    "execution": {
     "iopub.execute_input": "2021-10-19T20:07:55.055005Z",
     "iopub.status.busy": "2021-10-19T20:07:55.054422Z",
     "iopub.status.idle": "2021-10-19T20:07:55.068123Z",
     "shell.execute_reply": "2021-10-19T20:07:55.067584Z"
    },
    "papermill": {
     "duration": 0.04769,
     "end_time": "2021-10-19T20:07:55.068247",
     "exception": false,
     "start_time": "2021-10-19T20:07:55.020557",
     "status": "completed"
    },
    "tags": []
   },
   "outputs": [],
   "source": [
    "lr_learner = Learner(loss, model_lr, opt, config.num_epochs)\n",
    "acc_lr = ClfCallback(lr_learner, config.bs, training_data_x , testing_data_x, training_data_y, testing_data_y)\n",
    "lr_learner.set_callbacks([acc_lr])"
   ]
  },
  {
   "cell_type": "code",
   "execution_count": 22,
   "id": "d9b133c3",
   "metadata": {
    "execution": {
     "iopub.execute_input": "2021-10-19T20:07:55.133124Z",
     "iopub.status.busy": "2021-10-19T20:07:55.132491Z",
     "iopub.status.idle": "2021-10-19T20:09:19.345974Z",
     "shell.execute_reply": "2021-10-19T20:09:19.346869Z"
    },
    "papermill": {
     "duration": 84.248086,
     "end_time": "2021-10-19T20:09:19.347045",
     "exception": false,
     "start_time": "2021-10-19T20:07:55.098959",
     "status": "completed"
    },
    "tags": []
   },
   "outputs": [
    {
     "name": "stdout",
     "output_type": "stream",
     "text": [
      "Epoch 0, Loss 0.2514\n",
      "Training Accuracy: 0.5255, Testing Accuracy: 0.5197\n",
      "\n"
     ]
    },
    {
     "name": "stdout",
     "output_type": "stream",
     "text": [
      "Epoch 10, Loss 0.1266\n",
      "Training Accuracy: 0.8963, Testing Accuracy: 0.9068\n",
      "\n"
     ]
    },
    {
     "name": "stdout",
     "output_type": "stream",
     "text": [
      "Epoch 20, Loss 0.0691\n",
      "Training Accuracy: 0.9311, Testing Accuracy: 0.9390\n",
      "\n"
     ]
    },
    {
     "name": "stdout",
     "output_type": "stream",
     "text": [
      "Epoch 30, Loss 0.0509\n",
      "Training Accuracy: 0.9465, Testing Accuracy: 0.9526\n",
      "\n"
     ]
    },
    {
     "name": "stdout",
     "output_type": "stream",
     "text": [
      "Epoch 40, Loss 0.0423\n",
      "Training Accuracy: 0.9539, Testing Accuracy: 0.9607\n",
      "\n"
     ]
    },
    {
     "name": "stdout",
     "output_type": "stream",
     "text": [
      "Epoch 50, Loss 0.0372\n",
      "Training Accuracy: 0.9592, Testing Accuracy: 0.9627\n",
      "\n"
     ]
    },
    {
     "name": "stdout",
     "output_type": "stream",
     "text": [
      "Epoch 60, Loss 0.0339\n",
      "Training Accuracy: 0.9616, Testing Accuracy: 0.9662\n",
      "\n"
     ]
    },
    {
     "name": "stdout",
     "output_type": "stream",
     "text": [
      "Epoch 70, Loss 0.0315\n",
      "Training Accuracy: 0.9648, Testing Accuracy: 0.9688\n",
      "\n"
     ]
    },
    {
     "name": "stdout",
     "output_type": "stream",
     "text": [
      "Epoch 80, Loss 0.0296\n",
      "Training Accuracy: 0.9670, Testing Accuracy: 0.9693\n",
      "\n"
     ]
    },
    {
     "name": "stdout",
     "output_type": "stream",
     "text": [
      "Epoch 90, Loss 0.0282\n",
      "Training Accuracy: 0.9685, Testing Accuracy: 0.9703\n",
      "\n"
     ]
    },
    {
     "name": "stdout",
     "output_type": "stream",
     "text": [
      "Epoch 100, Loss 0.027\n",
      "Training Accuracy: 0.9695, Testing Accuracy: 0.9698\n",
      "\n"
     ]
    },
    {
     "name": "stdout",
     "output_type": "stream",
     "text": [
      "Epoch 110, Loss 0.0259\n",
      "Training Accuracy: 0.9709, Testing Accuracy: 0.9703\n",
      "\n"
     ]
    },
    {
     "name": "stdout",
     "output_type": "stream",
     "text": [
      "Epoch 120, Loss 0.0251\n",
      "Training Accuracy: 0.9720, Testing Accuracy: 0.9708\n",
      "\n"
     ]
    },
    {
     "name": "stdout",
     "output_type": "stream",
     "text": [
      "Epoch 130, Loss 0.0243\n",
      "Training Accuracy: 0.9727, Testing Accuracy: 0.9708\n",
      "\n"
     ]
    },
    {
     "name": "stdout",
     "output_type": "stream",
     "text": [
      "Epoch 140, Loss 0.0236\n",
      "Training Accuracy: 0.9733, Testing Accuracy: 0.9698\n",
      "\n"
     ]
    },
    {
     "name": "stdout",
     "output_type": "stream",
     "text": [
      "Epoch 150, Loss 0.023\n",
      "Training Accuracy: 0.9742, Testing Accuracy: 0.9693\n",
      "\n"
     ]
    },
    {
     "name": "stdout",
     "output_type": "stream",
     "text": [
      "Epoch 160, Loss 0.0224\n",
      "Training Accuracy: 0.9752, Testing Accuracy: 0.9698\n",
      "\n"
     ]
    },
    {
     "name": "stdout",
     "output_type": "stream",
     "text": [
      "Epoch 170, Loss 0.0219\n",
      "Training Accuracy: 0.9757, Testing Accuracy: 0.9708\n",
      "\n"
     ]
    },
    {
     "name": "stdout",
     "output_type": "stream",
     "text": [
      "Epoch 180, Loss 0.0214\n",
      "Training Accuracy: 0.9760, Testing Accuracy: 0.9713\n",
      "\n"
     ]
    },
    {
     "name": "stdout",
     "output_type": "stream",
     "text": [
      "Epoch 190, Loss 0.0209\n",
      "Training Accuracy: 0.9768, Testing Accuracy: 0.9713\n",
      "\n"
     ]
    },
    {
     "name": "stdout",
     "output_type": "stream",
     "text": [
      "Epoch 200, Loss 0.0205\n",
      "Training Accuracy: 0.9773, Testing Accuracy: 0.9718\n",
      "\n"
     ]
    },
    {
     "name": "stdout",
     "output_type": "stream",
     "text": [
      "Epoch 210, Loss 0.0201\n",
      "Training Accuracy: 0.9778, Testing Accuracy: 0.9718\n",
      "\n"
     ]
    },
    {
     "name": "stdout",
     "output_type": "stream",
     "text": [
      "Epoch 220, Loss 0.0197\n",
      "Training Accuracy: 0.9784, Testing Accuracy: 0.9718\n",
      "\n"
     ]
    },
    {
     "name": "stdout",
     "output_type": "stream",
     "text": [
      "Epoch 230, Loss 0.0193\n",
      "Training Accuracy: 0.9789, Testing Accuracy: 0.9733\n",
      "\n"
     ]
    },
    {
     "name": "stdout",
     "output_type": "stream",
     "text": [
      "Epoch 240, Loss 0.0189\n",
      "Training Accuracy: 0.9788, Testing Accuracy: 0.9738\n",
      "\n"
     ]
    },
    {
     "data": {
      "text/plain": [
       "0.009365109099486997"
      ]
     },
     "execution_count": 22,
     "metadata": {},
     "output_type": "execute_result"
    }
   ],
   "source": [
    "nn_learner.train_loop(dl)"
   ]
  },
  {
   "cell_type": "code",
   "execution_count": 23,
   "id": "e0163366",
   "metadata": {
    "execution": {
     "iopub.execute_input": "2021-10-19T20:09:19.430854Z",
     "iopub.status.busy": "2021-10-19T20:09:19.430292Z",
     "iopub.status.idle": "2021-10-19T20:09:34.333898Z",
     "shell.execute_reply": "2021-10-19T20:09:34.334731Z"
    },
    "papermill": {
     "duration": 14.950006,
     "end_time": "2021-10-19T20:09:34.334903",
     "exception": false,
     "start_time": "2021-10-19T20:09:19.384897",
     "status": "completed"
    },
    "tags": []
   },
   "outputs": [
    {
     "name": "stdout",
     "output_type": "stream",
     "text": [
      "Epoch 0, Loss 0.2388\n",
      "Training Accuracy: 0.7104, Testing Accuracy: 0.7026\n",
      "\n"
     ]
    },
    {
     "name": "stdout",
     "output_type": "stream",
     "text": [
      "Epoch 10, Loss 0.1032\n",
      "Training Accuracy: 0.9072, Testing Accuracy: 0.9148\n",
      "\n"
     ]
    },
    {
     "name": "stdout",
     "output_type": "stream",
     "text": [
      "Epoch 20, Loss 0.08\n",
      "Training Accuracy: 0.9236, Testing Accuracy: 0.9335\n",
      "\n"
     ]
    },
    {
     "name": "stdout",
     "output_type": "stream",
     "text": [
      "Epoch 30, Loss 0.0691\n",
      "Training Accuracy: 0.9335, Testing Accuracy: 0.9446\n",
      "\n"
     ]
    },
    {
     "name": "stdout",
     "output_type": "stream",
     "text": [
      "Epoch 40, Loss 0.0625\n",
      "Training Accuracy: 0.9392, Testing Accuracy: 0.9491\n",
      "\n"
     ]
    },
    {
     "name": "stdout",
     "output_type": "stream",
     "text": [
      "Epoch 50, Loss 0.0579\n",
      "Training Accuracy: 0.9427, Testing Accuracy: 0.9511\n",
      "\n"
     ]
    },
    {
     "name": "stdout",
     "output_type": "stream",
     "text": [
      "Epoch 60, Loss 0.0546\n",
      "Training Accuracy: 0.9461, Testing Accuracy: 0.9541\n",
      "\n"
     ]
    },
    {
     "name": "stdout",
     "output_type": "stream",
     "text": [
      "Epoch 70, Loss 0.052\n",
      "Training Accuracy: 0.9484, Testing Accuracy: 0.9561\n",
      "\n"
     ]
    },
    {
     "name": "stdout",
     "output_type": "stream",
     "text": [
      "Epoch 80, Loss 0.0499\n",
      "Training Accuracy: 0.9499, Testing Accuracy: 0.9587\n",
      "\n"
     ]
    },
    {
     "name": "stdout",
     "output_type": "stream",
     "text": [
      "Epoch 90, Loss 0.0481\n",
      "Training Accuracy: 0.9521, Testing Accuracy: 0.9612\n",
      "\n"
     ]
    },
    {
     "name": "stdout",
     "output_type": "stream",
     "text": [
      "Epoch 100, Loss 0.0467\n",
      "Training Accuracy: 0.9527, Testing Accuracy: 0.9622\n",
      "\n"
     ]
    },
    {
     "name": "stdout",
     "output_type": "stream",
     "text": [
      "Epoch 110, Loss 0.0454\n",
      "Training Accuracy: 0.9541, Testing Accuracy: 0.9622\n",
      "\n"
     ]
    },
    {
     "name": "stdout",
     "output_type": "stream",
     "text": [
      "Epoch 120, Loss 0.0443\n",
      "Training Accuracy: 0.9550, Testing Accuracy: 0.9632\n",
      "\n"
     ]
    },
    {
     "name": "stdout",
     "output_type": "stream",
     "text": [
      "Epoch 130, Loss 0.0433\n",
      "Training Accuracy: 0.9559, Testing Accuracy: 0.9632\n",
      "\n"
     ]
    },
    {
     "name": "stdout",
     "output_type": "stream",
     "text": [
      "Epoch 140, Loss 0.0425\n",
      "Training Accuracy: 0.9569, Testing Accuracy: 0.9637\n",
      "\n"
     ]
    },
    {
     "name": "stdout",
     "output_type": "stream",
     "text": [
      "Epoch 150, Loss 0.0417\n",
      "Training Accuracy: 0.9579, Testing Accuracy: 0.9647\n",
      "\n"
     ]
    },
    {
     "name": "stdout",
     "output_type": "stream",
     "text": [
      "Epoch 160, Loss 0.041\n",
      "Training Accuracy: 0.9587, Testing Accuracy: 0.9647\n",
      "\n"
     ]
    },
    {
     "name": "stdout",
     "output_type": "stream",
     "text": [
      "Epoch 170, Loss 0.0404\n",
      "Training Accuracy: 0.9589, Testing Accuracy: 0.9662\n",
      "\n"
     ]
    },
    {
     "name": "stdout",
     "output_type": "stream",
     "text": [
      "Epoch 180, Loss 0.0398\n",
      "Training Accuracy: 0.9599, Testing Accuracy: 0.9662\n",
      "\n"
     ]
    },
    {
     "name": "stdout",
     "output_type": "stream",
     "text": [
      "Epoch 190, Loss 0.0393\n",
      "Training Accuracy: 0.9598, Testing Accuracy: 0.9662\n",
      "\n"
     ]
    },
    {
     "name": "stdout",
     "output_type": "stream",
     "text": [
      "Epoch 200, Loss 0.0388\n",
      "Training Accuracy: 0.9599, Testing Accuracy: 0.9662\n",
      "\n"
     ]
    },
    {
     "name": "stdout",
     "output_type": "stream",
     "text": [
      "Epoch 210, Loss 0.0383\n",
      "Training Accuracy: 0.9602, Testing Accuracy: 0.9662\n",
      "\n"
     ]
    },
    {
     "name": "stdout",
     "output_type": "stream",
     "text": [
      "Epoch 220, Loss 0.0379\n",
      "Training Accuracy: 0.9604, Testing Accuracy: 0.9662\n",
      "\n"
     ]
    },
    {
     "name": "stdout",
     "output_type": "stream",
     "text": [
      "Epoch 230, Loss 0.0375\n",
      "Training Accuracy: 0.9606, Testing Accuracy: 0.9662\n",
      "\n"
     ]
    },
    {
     "name": "stdout",
     "output_type": "stream",
     "text": [
      "Epoch 240, Loss 0.0371\n",
      "Training Accuracy: 0.9609, Testing Accuracy: 0.9662\n",
      "\n"
     ]
    },
    {
     "data": {
      "text/plain": [
       "0.04105081051168133"
      ]
     },
     "execution_count": 23,
     "metadata": {},
     "output_type": "execute_result"
    }
   ],
   "source": [
    "lr_learner.train_loop(dl)"
   ]
  },
  {
   "cell_type": "code",
   "execution_count": 24,
   "id": "ca410940",
   "metadata": {
    "execution": {
     "iopub.execute_input": "2021-10-19T20:09:34.438543Z",
     "iopub.status.busy": "2021-10-19T20:09:34.437941Z",
     "iopub.status.idle": "2021-10-19T20:09:34.692348Z",
     "shell.execute_reply": "2021-10-19T20:09:34.691846Z"
    },
    "papermill": {
     "duration": 0.311175,
     "end_time": "2021-10-19T20:09:34.692489",
     "exception": false,
     "start_time": "2021-10-19T20:09:34.381314",
     "status": "completed"
    },
    "tags": []
   },
   "outputs": [
    {
     "data": {
      "text/plain": [
       "<matplotlib.legend.Legend at 0x7f5c71a42e80>"
      ]
     },
     "execution_count": 24,
     "metadata": {},
     "output_type": "execute_result"
    },
    {
     "data": {
      "image/png": "[encoded data removed]",
      "text/plain": [
       "<Figure size 1080x720 with 1 Axes>"
      ]
     },
     "metadata": {
      "needs_background": "light"
     },
     "output_type": "display_data"
    }
   ],
   "source": [
    "#comparing the results of NN and LR\n",
    "plt.figure(figsize=(15,10))\n",
    "\n",
    "# Neural Network plots\n",
    "plt.plot(acc_nn.accuracies, 'r-', label = \"Training Accuracies - NN\")\n",
    "plt.plot(acc_nn.test_accuracies, 'g-', label = \"Testing Accuracies - NN\")\n",
    "\n",
    "# Logistic Regression plots\n",
    "plt.plot(acc_lr.accuracies, 'k-', label = \"Training Accuracies - LR\")\n",
    "plt.plot(acc_lr.test_accuracies, 'b-', label = \"Testing Accuracies - LR\")\n",
    "plt.legend()"
   ]
  },
  {
   "cell_type": "markdown",
   "id": "80dfb35c",
   "metadata": {
    "papermill": {
     "duration": 0.047134,
     "end_time": "2021-10-19T20:09:34.787344",
     "exception": false,
     "start_time": "2021-10-19T20:09:34.740210",
     "status": "completed"
    },
    "tags": []
   },
   "source": [
    "#### Plotting the outputs of this layer of the NN.\n"
   ]
  },
  {
   "cell_type": "code",
   "execution_count": 25,
   "id": "45eb2ff5",
   "metadata": {
    "execution": {
     "iopub.execute_input": "2021-10-19T20:09:34.885974Z",
     "iopub.status.busy": "2021-10-19T20:09:34.885357Z",
     "iopub.status.idle": "2021-10-19T20:09:34.906589Z",
     "shell.execute_reply": "2021-10-19T20:09:34.907082Z"
    },
    "papermill": {
     "duration": 0.07307,
     "end_time": "2021-10-19T20:09:34.907241",
     "exception": false,
     "start_time": "2021-10-19T20:09:34.834171",
     "status": "completed"
    },
    "tags": []
   },
   "outputs": [],
   "source": [
    "new_model = Model(layers[:-2])\n",
    "testing_plot = new_model(testing_data_x)"
   ]
  },
  {
   "cell_type": "code",
   "execution_count": 26,
   "id": "4c0a5485",
   "metadata": {
    "execution": {
     "iopub.execute_input": "2021-10-19T20:09:35.016188Z",
     "iopub.status.busy": "2021-10-19T20:09:35.015583Z",
     "iopub.status.idle": "2021-10-19T20:09:35.245548Z",
     "shell.execute_reply": "2021-10-19T20:09:35.244871Z"
    },
    "papermill": {
     "duration": 0.284145,
     "end_time": "2021-10-19T20:09:35.245687",
     "exception": false,
     "start_time": "2021-10-19T20:09:34.961542",
     "status": "completed"
    },
    "tags": []
   },
   "outputs": [
    {
     "data": {
      "text/plain": [
       "Text(0.5, 1.0, 'Outputs')"
      ]
     },
     "execution_count": 26,
     "metadata": {},
     "output_type": "execute_result"
    },
    {
     "data": {
      "image/png": "[encoded data removed]",
      "text/plain": [
       "<Figure size 576x504 with 1 Axes>"
      ]
     },
     "metadata": {
      "needs_background": "light"
     },
     "output_type": "display_data"
    }
   ],
   "source": [
    "# Plotting the scatter plot of points and color coding by class\n",
    "plt.figure(figsize=(8,7))\n",
    "plt.scatter(testing_plot[:,0], testing_plot[:,1], alpha = 0.1, c = y_test.ravel());\n",
    "plt.title('Outputs')"
   ]
  },
  {
   "cell_type": "markdown",
   "id": "a74fcf8f",
   "metadata": {
    "papermill": {
     "duration": 0.04996,
     "end_time": "2021-10-19T20:09:35.345893",
     "exception": false,
     "start_time": "2021-10-19T20:09:35.295933",
     "status": "completed"
    },
    "tags": []
   },
   "source": [
    "Probability contours"
   ]
  },
  {
   "cell_type": "code",
   "execution_count": 27,
   "id": "d0afc8e3",
   "metadata": {
    "execution": {
     "iopub.execute_input": "2021-10-19T20:09:35.449919Z",
     "iopub.status.busy": "2021-10-19T20:09:35.449304Z",
     "iopub.status.idle": "2021-10-19T20:09:35.463876Z",
     "shell.execute_reply": "2021-10-19T20:09:35.464375Z"
    },
    "papermill": {
     "duration": 0.068793,
     "end_time": "2021-10-19T20:09:35.464533",
     "exception": false,
     "start_time": "2021-10-19T20:09:35.395740",
     "status": "completed"
    },
    "tags": []
   },
   "outputs": [],
   "source": [
    "model_prob = Model(layers[-2:]) "
   ]
  },
  {
   "cell_type": "code",
   "execution_count": 28,
   "id": "9b96e238",
   "metadata": {
    "execution": {
     "iopub.execute_input": "2021-10-19T20:09:35.602161Z",
     "iopub.status.busy": "2021-10-19T20:09:35.601535Z",
     "iopub.status.idle": "2021-10-19T20:09:35.613938Z",
     "shell.execute_reply": "2021-10-19T20:09:35.614377Z"
    },
    "papermill": {
     "duration": 0.071523,
     "end_time": "2021-10-19T20:09:35.614513",
     "exception": false,
     "start_time": "2021-10-19T20:09:35.542990",
     "status": "completed"
    },
    "tags": []
   },
   "outputs": [],
   "source": [
    "#creating the x and y ranges according to the above generated plot.\n",
    "x_range = np.linspace(-4, 1, 100) \n",
    "y_range = np.linspace(-6, 6, 100) \n",
    "x_grid, y_grid = np.meshgrid(x_range, y_range) # x_grid and y_grig are of size 100 X 100\n",
    "\n",
    "# converting x_grid and y_grid to continuous arrays\n",
    "x_gridflat = np.ravel(x_grid)\n",
    "y_gridflat = np.ravel(y_grid)\n",
    "\n",
    "# The last layer of the current model takes two columns as input. Hence transpose of np.vstack() is required.\n",
    "X = np.vstack((x_gridflat, y_gridflat)).T\n",
    "\n",
    "prob_contour = model_prob(X).reshape(100,100) "
   ]
  },
  {
   "cell_type": "code",
   "execution_count": 29,
   "id": "da72499a",
   "metadata": {
    "execution": {
     "iopub.execute_input": "2021-10-19T20:09:35.738898Z",
     "iopub.status.busy": "2021-10-19T20:09:35.738296Z",
     "iopub.status.idle": "2021-10-19T20:09:36.014430Z",
     "shell.execute_reply": "2021-10-19T20:09:36.014910Z"
    },
    "papermill": {
     "duration": 0.336029,
     "end_time": "2021-10-19T20:09:36.015072",
     "exception": false,
     "start_time": "2021-10-19T20:09:35.679043",
     "status": "completed"
    },
    "tags": []
   },
   "outputs": [
    {
     "data": {
      "image/png": "[encoded data removed]",
      "text/plain": [
       "<Figure size 720x648 with 1 Axes>"
      ]
     },
     "metadata": {
      "needs_background": "light"
     },
     "output_type": "display_data"
    }
   ],
   "source": [
    "plt.figure(figsize=(10,9))\n",
    "plt.scatter(testing_plot[:,0], testing_plot[:,1], alpha = 0.1, c = y_test.ravel())\n",
    "contours = plt.contour(x_grid,y_grid,prob_contour)\n",
    "plt.title('Probability Contours')\n",
    "plt.clabel(contours, inline = True );"
   ]
  },
  {
   "cell_type": "code",
   "execution_count": null,
   "id": "e81b4ac7",
   "metadata": {
    "papermill": {
     "duration": 0.052358,
     "end_time": "2021-10-19T20:09:36.120816",
     "exception": false,
     "start_time": "2021-10-19T20:09:36.068458",
     "status": "completed"
    },
    "tags": []
   },
   "outputs": [],
   "source": []
  }
 ],
 "metadata": {
  "kernelspec": {
   "display_name": "Python 3",
   "language": "python",
   "name": "python3"
  },
  "language_info": {
   "codemirror_mode": {
    "name": "ipython",
    "version": 3
   },
   "file_extension": ".py",
   "mimetype": "text/x-python",
   "name": "python",
   "nbconvert_exporter": "python",
   "pygments_lexer": "ipython3",
   "version": "3.6.15"
  },
  "papermill": {
   "default_parameters": {},
   "duration": 107.966085,
   "end_time": "2021-10-19T20:09:36.581937",
   "environment_variables": {},
   "exception": null,
   "input_path": "2020-08-11-part2.ipynb",
   "output_path": "2020-08-11-part2.ipynb",
   "parameters": {},
   "start_time": "2021-10-19T20:07:48.615852",
   "version": "2.3.3"
  }
 },
 "nbformat": 4,
 "nbformat_minor": 5
}