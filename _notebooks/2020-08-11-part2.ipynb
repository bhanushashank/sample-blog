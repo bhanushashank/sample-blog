{
 "cells": [
  {
   "cell_type": "markdown",
   "id": "98380cd3",
   "metadata": {
    "papermill": {
     "duration": 0.029945,
     "end_time": "2022-06-25T00:39:37.872175",
     "exception": false,
     "start_time": "2022-06-25T00:39:37.842230",
     "status": "completed"
    },
    "tags": []
   },
   "source": [
    "# Distinguish Your Own Digits (DYOD)"
   ]
  },
  {
   "cell_type": "markdown",
   "id": "ef31240d",
   "metadata": {
    "papermill": {
     "duration": 0.023502,
     "end_time": "2022-06-25T00:39:37.920010",
     "exception": false,
     "start_time": "2022-06-25T00:39:37.896508",
     "status": "completed"
    },
    "tags": []
   },
   "source": [
    "You are going to write a classifier that distinguishes between the number 3 and number 8."
   ]
  },
  {
   "cell_type": "code",
   "execution_count": 1,
   "id": "b15c8646",
   "metadata": {
    "execution": {
     "iopub.execute_input": "2022-06-25T00:39:37.978089Z",
     "iopub.status.busy": "2022-06-25T00:39:37.977486Z",
     "iopub.status.idle": "2022-06-25T00:39:37.988522Z",
     "shell.execute_reply": "2022-06-25T00:39:37.987989Z"
    },
    "papermill": {
     "duration": 0.045174,
     "end_time": "2022-06-25T00:39:37.988653",
     "exception": false,
     "start_time": "2022-06-25T00:39:37.943479",
     "status": "completed"
    },
    "tags": []
   },
   "outputs": [],
   "source": [
    "%load_ext autoreload\n",
    "%autoreload 2"
   ]
  },
  {
   "cell_type": "code",
   "execution_count": 2,
   "id": "22ef38dc",
   "metadata": {
    "execution": {
     "iopub.execute_input": "2022-06-25T00:39:38.043571Z",
     "iopub.status.busy": "2022-06-25T00:39:38.042974Z",
     "iopub.status.idle": "2022-06-25T00:39:38.584369Z",
     "shell.execute_reply": "2022-06-25T00:39:38.583819Z"
    },
    "papermill": {
     "duration": 0.572349,
     "end_time": "2022-06-25T00:39:38.584513",
     "exception": false,
     "start_time": "2022-06-25T00:39:38.012164",
     "status": "completed"
    },
    "tags": []
   },
   "outputs": [],
   "source": [
    "%matplotlib inline\n",
    "import numpy as np\n",
    "import matplotlib.pyplot as plt\n",
    "import pandas as pd"
   ]
  },
  {
   "cell_type": "markdown",
   "id": "ba036198",
   "metadata": {
    "papermill": {
     "duration": 0.023499,
     "end_time": "2022-06-25T00:39:38.631758",
     "exception": false,
     "start_time": "2022-06-25T00:39:38.608259",
     "status": "completed"
    },
    "tags": []
   },
   "source": [
    "From the command line run `pip install mnist`. This is a library that will help you bring down the mnist dataset. If you run this from a notebook, you need to put  `!pip install mnist` in a cell by itself."
   ]
  },
  {
   "cell_type": "code",
   "execution_count": 3,
   "id": "bb6ad8a1",
   "metadata": {
    "execution": {
     "iopub.execute_input": "2022-06-25T00:39:38.683343Z",
     "iopub.status.busy": "2022-06-25T00:39:38.682758Z",
     "iopub.status.idle": "2022-06-25T00:39:40.390444Z",
     "shell.execute_reply": "2022-06-25T00:39:40.389894Z"
    },
    "papermill": {
     "duration": 1.735044,
     "end_time": "2022-06-25T00:39:40.390572",
     "exception": false,
     "start_time": "2022-06-25T00:39:38.655528",
     "status": "completed"
    },
    "tags": []
   },
   "outputs": [
    {
     "name": "stdout",
     "output_type": "stream",
     "text": [
      "Collecting mnist\r\n"
     ]
    },
    {
     "name": "stdout",
     "output_type": "stream",
     "text": [
      "  Downloading mnist-0.2.2-py2.py3-none-any.whl (3.5 kB)\r\n",
      "Requirement already satisfied: numpy in /opt/hostedtoolcache/Python/3.6.15/x64/lib/python3.6/site-packages (from mnist) (1.19.5)\r\n"
     ]
    },
    {
     "name": "stdout",
     "output_type": "stream",
     "text": [
      "Installing collected packages: mnist\r\n",
      "Successfully installed mnist-0.2.2\r\n"
     ]
    }
   ],
   "source": [
    "!pip install mnist"
   ]
  },
  {
   "cell_type": "markdown",
   "id": "69df9c9a",
   "metadata": {
    "papermill": {
     "duration": 0.024391,
     "end_time": "2022-06-25T00:39:40.439491",
     "exception": false,
     "start_time": "2022-06-25T00:39:40.415100",
     "status": "completed"
    },
    "tags": []
   },
   "source": [
    "## Preparing the Data"
   ]
  },
  {
   "cell_type": "code",
   "execution_count": 4,
   "id": "7f69d806",
   "metadata": {
    "execution": {
     "iopub.execute_input": "2022-06-25T00:39:40.503675Z",
     "iopub.status.busy": "2022-06-25T00:39:40.491281Z",
     "iopub.status.idle": "2022-06-25T00:39:40.510091Z",
     "shell.execute_reply": "2022-06-25T00:39:40.509617Z"
    },
    "papermill": {
     "duration": 0.046569,
     "end_time": "2022-06-25T00:39:40.510208",
     "exception": false,
     "start_time": "2022-06-25T00:39:40.463639",
     "status": "completed"
    },
    "tags": []
   },
   "outputs": [],
   "source": [
    "import mnist"
   ]
  },
  {
   "cell_type": "code",
   "execution_count": 5,
   "id": "a411e44f",
   "metadata": {
    "execution": {
     "iopub.execute_input": "2022-06-25T00:39:40.566691Z",
     "iopub.status.busy": "2022-06-25T00:39:40.566093Z",
     "iopub.status.idle": "2022-06-25T00:39:41.067136Z",
     "shell.execute_reply": "2022-06-25T00:39:41.066515Z"
    },
    "papermill": {
     "duration": 0.532269,
     "end_time": "2022-06-25T00:39:41.067279",
     "exception": false,
     "start_time": "2022-06-25T00:39:40.535010",
     "status": "completed"
    },
    "tags": []
   },
   "outputs": [],
   "source": [
    "train_images = mnist.train_images()\n",
    "train_labels = mnist.train_labels()"
   ]
  },
  {
   "cell_type": "code",
   "execution_count": 6,
   "id": "dceab3a5",
   "metadata": {
    "execution": {
     "iopub.execute_input": "2022-06-25T00:39:41.126241Z",
     "iopub.status.busy": "2022-06-25T00:39:41.125313Z",
     "iopub.status.idle": "2022-06-25T00:39:41.138618Z",
     "shell.execute_reply": "2022-06-25T00:39:41.138133Z"
    },
    "papermill": {
     "duration": 0.046356,
     "end_time": "2022-06-25T00:39:41.138736",
     "exception": false,
     "start_time": "2022-06-25T00:39:41.092380",
     "status": "completed"
    },
    "tags": []
   },
   "outputs": [
    {
     "data": {
      "text/plain": [
       "((60000, 28, 28), (60000,))"
      ]
     },
     "execution_count": 6,
     "metadata": {},
     "output_type": "execute_result"
    }
   ],
   "source": [
    "train_images.shape, train_labels.shape"
   ]
  },
  {
   "cell_type": "code",
   "execution_count": 7,
   "id": "f50dc2bb",
   "metadata": {
    "execution": {
     "iopub.execute_input": "2022-06-25T00:39:41.201751Z",
     "iopub.status.busy": "2022-06-25T00:39:41.201164Z",
     "iopub.status.idle": "2022-06-25T00:39:41.347971Z",
     "shell.execute_reply": "2022-06-25T00:39:41.347315Z"
    },
    "papermill": {
     "duration": 0.184849,
     "end_time": "2022-06-25T00:39:41.348128",
     "exception": false,
     "start_time": "2022-06-25T00:39:41.163279",
     "status": "completed"
    },
    "tags": []
   },
   "outputs": [],
   "source": [
    "test_images = mnist.test_images()\n",
    "test_labels = mnist.test_labels()"
   ]
  },
  {
   "cell_type": "code",
   "execution_count": 8,
   "id": "fc38cf1b",
   "metadata": {
    "execution": {
     "iopub.execute_input": "2022-06-25T00:39:41.410110Z",
     "iopub.status.busy": "2022-06-25T00:39:41.409175Z",
     "iopub.status.idle": "2022-06-25T00:39:41.418940Z",
     "shell.execute_reply": "2022-06-25T00:39:41.419387Z"
    },
    "papermill": {
     "duration": 0.045737,
     "end_time": "2022-06-25T00:39:41.419526",
     "exception": false,
     "start_time": "2022-06-25T00:39:41.373789",
     "status": "completed"
    },
    "tags": []
   },
   "outputs": [
    {
     "data": {
      "text/plain": [
       "((10000, 28, 28), (10000,))"
      ]
     },
     "execution_count": 8,
     "metadata": {},
     "output_type": "execute_result"
    }
   ],
   "source": [
    "test_images.shape, test_labels.shape"
   ]
  },
  {
   "cell_type": "code",
   "execution_count": 9,
   "id": "f9ed8fe0",
   "metadata": {
    "execution": {
     "iopub.execute_input": "2022-06-25T00:39:41.485418Z",
     "iopub.status.busy": "2022-06-25T00:39:41.473254Z",
     "iopub.status.idle": "2022-06-25T00:39:41.618947Z",
     "shell.execute_reply": "2022-06-25T00:39:41.619723Z"
    },
    "papermill": {
     "duration": 0.175488,
     "end_time": "2022-06-25T00:39:41.619891",
     "exception": false,
     "start_time": "2022-06-25T00:39:41.444403",
     "status": "completed"
    },
    "tags": []
   },
   "outputs": [
    {
     "name": "stdout",
     "output_type": "stream",
     "text": [
      "2\n"
     ]
    },
    {
     "data": {
      "text/plain": [
       "<matplotlib.image.AxesImage at 0x7f1d379c54a8>"
      ]
     },
     "execution_count": 9,
     "metadata": {},
     "output_type": "execute_result"
    },
    {
     "data": {
      "image/png": "[encoded data removed]",
      "text/plain": [
       "<Figure size 432x288 with 1 Axes>"
      ]
     },
     "metadata": {
      "needs_background": "light"
     },
     "output_type": "display_data"
    }
   ],
   "source": [
    "image_index = 7776 # You may select anything up to 60,000\n",
    "print(train_labels[image_index]) \n",
    "plt.imshow(train_images[image_index], cmap='Greys')"
   ]
  },
  {
   "cell_type": "markdown",
   "id": "a8d2388d",
   "metadata": {
    "papermill": {
     "duration": 0.02583,
     "end_time": "2022-06-25T00:39:41.671909",
     "exception": false,
     "start_time": "2022-06-25T00:39:41.646079",
     "status": "completed"
    },
    "tags": []
   },
   "source": [
    "## Filter data to get 3 and 8 out"
   ]
  },
  {
   "cell_type": "code",
   "execution_count": 10,
   "id": "776f7fc7",
   "metadata": {
    "execution": {
     "iopub.execute_input": "2022-06-25T00:39:41.729257Z",
     "iopub.status.busy": "2022-06-25T00:39:41.727545Z",
     "iopub.status.idle": "2022-06-25T00:39:41.747375Z",
     "shell.execute_reply": "2022-06-25T00:39:41.746863Z"
    },
    "papermill": {
     "duration": 0.049832,
     "end_time": "2022-06-25T00:39:41.747502",
     "exception": false,
     "start_time": "2022-06-25T00:39:41.697670",
     "status": "completed"
    },
    "tags": []
   },
   "outputs": [],
   "source": [
    "train_filter = np.where((train_labels == 3 ) | (train_labels == 8))\n",
    "test_filter = np.where((test_labels == 3) | (test_labels == 8))\n",
    "X_train, y_train = train_images[train_filter], train_labels[train_filter]\n",
    "X_test, y_test = test_images[test_filter], test_labels[test_filter]"
   ]
  },
  {
   "cell_type": "markdown",
   "id": "948f0b7e",
   "metadata": {
    "papermill": {
     "duration": 0.025986,
     "end_time": "2022-06-25T00:39:41.799519",
     "exception": false,
     "start_time": "2022-06-25T00:39:41.773533",
     "status": "completed"
    },
    "tags": []
   },
   "source": [
    "We normalize the pizel values in the 0 to 1 range"
   ]
  },
  {
   "cell_type": "code",
   "execution_count": 11,
   "id": "ee4c2166",
   "metadata": {
    "execution": {
     "iopub.execute_input": "2022-06-25T00:39:41.854879Z",
     "iopub.status.busy": "2022-06-25T00:39:41.854292Z",
     "iopub.status.idle": "2022-06-25T00:39:41.903251Z",
     "shell.execute_reply": "2022-06-25T00:39:41.902624Z"
    },
    "papermill": {
     "duration": 0.078259,
     "end_time": "2022-06-25T00:39:41.903396",
     "exception": false,
     "start_time": "2022-06-25T00:39:41.825137",
     "status": "completed"
    },
    "tags": []
   },
   "outputs": [],
   "source": [
    "X_train = X_train/255.\n",
    "X_test = X_test/255."
   ]
  },
  {
   "cell_type": "markdown",
   "id": "ddcf4fab",
   "metadata": {
    "papermill": {
     "duration": 0.025793,
     "end_time": "2022-06-25T00:39:41.955478",
     "exception": false,
     "start_time": "2022-06-25T00:39:41.929685",
     "status": "completed"
    },
    "tags": []
   },
   "source": [
    "And setup the labels as 1 (when the digit is 3) and 0 (when the digit is 8)"
   ]
  },
  {
   "cell_type": "code",
   "execution_count": 12,
   "id": "7dc908f2",
   "metadata": {
    "execution": {
     "iopub.execute_input": "2022-06-25T00:39:42.021864Z",
     "iopub.status.busy": "2022-06-25T00:39:42.021248Z",
     "iopub.status.idle": "2022-06-25T00:39:42.028171Z",
     "shell.execute_reply": "2022-06-25T00:39:42.028653Z"
    },
    "papermill": {
     "duration": 0.047714,
     "end_time": "2022-06-25T00:39:42.028790",
     "exception": false,
     "start_time": "2022-06-25T00:39:41.981076",
     "status": "completed"
    },
    "tags": []
   },
   "outputs": [],
   "source": [
    "y_train = 1*(y_train==3)\n",
    "y_test = 1*(y_test==3)"
   ]
  },
  {
   "cell_type": "code",
   "execution_count": 13,
   "id": "01e4e969",
   "metadata": {
    "execution": {
     "iopub.execute_input": "2022-06-25T00:39:42.092232Z",
     "iopub.status.busy": "2022-06-25T00:39:42.083287Z",
     "iopub.status.idle": "2022-06-25T00:39:42.101578Z",
     "shell.execute_reply": "2022-06-25T00:39:42.101094Z"
    },
    "papermill": {
     "duration": 0.047282,
     "end_time": "2022-06-25T00:39:42.101698",
     "exception": false,
     "start_time": "2022-06-25T00:39:42.054416",
     "status": "completed"
    },
    "tags": []
   },
   "outputs": [
    {
     "data": {
      "text/plain": [
       "((11982, 28, 28), (1984, 28, 28))"
      ]
     },
     "execution_count": 13,
     "metadata": {},
     "output_type": "execute_result"
    }
   ],
   "source": [
    "X_train.shape, X_test.shape"
   ]
  },
  {
   "cell_type": "markdown",
   "id": "5ccf3f85",
   "metadata": {
    "papermill": {
     "duration": 0.026128,
     "end_time": "2022-06-25T00:39:42.153805",
     "exception": false,
     "start_time": "2022-06-25T00:39:42.127677",
     "status": "completed"
    },
    "tags": []
   },
   "source": [
    "We reshape the data to flatten the image pixels into a set of features or co-variates:"
   ]
  },
  {
   "cell_type": "code",
   "execution_count": 14,
   "id": "5286a4a3",
   "metadata": {
    "execution": {
     "iopub.execute_input": "2022-06-25T00:39:42.222805Z",
     "iopub.status.busy": "2022-06-25T00:39:42.216230Z",
     "iopub.status.idle": "2022-06-25T00:39:42.225962Z",
     "shell.execute_reply": "2022-06-25T00:39:42.226387Z"
    },
    "papermill": {
     "duration": 0.046663,
     "end_time": "2022-06-25T00:39:42.226529",
     "exception": false,
     "start_time": "2022-06-25T00:39:42.179866",
     "status": "completed"
    },
    "tags": []
   },
   "outputs": [
    {
     "data": {
      "text/plain": [
       "((11982, 784), (1984, 784))"
      ]
     },
     "execution_count": 14,
     "metadata": {},
     "output_type": "execute_result"
    }
   ],
   "source": [
    "X_train = X_train.reshape(X_train.shape[0], -1)\n",
    "X_test = X_test.reshape(X_test.shape[0], -1)\n",
    "X_train.shape, X_test.shape"
   ]
  },
  {
   "cell_type": "code",
   "execution_count": 15,
   "id": "73c5f88a",
   "metadata": {
    "execution": {
     "iopub.execute_input": "2022-06-25T00:39:42.284069Z",
     "iopub.status.busy": "2022-06-25T00:39:42.283484Z",
     "iopub.status.idle": "2022-06-25T00:39:42.302506Z",
     "shell.execute_reply": "2022-06-25T00:39:42.302025Z"
    },
    "papermill": {
     "duration": 0.049782,
     "end_time": "2022-06-25T00:39:42.302624",
     "exception": false,
     "start_time": "2022-06-25T00:39:42.252842",
     "status": "completed"
    },
    "tags": []
   },
   "outputs": [],
   "source": [
    "#Impoting functions from 'Kudzu'\n",
    "from kudzu.model import Model\n",
    "from kudzu.train import Learner\n",
    "from kudzu.optim import GD\n",
    "from kudzu.data import Data, Sampler,Dataloader\n",
    "\n",
    "from kudzu.callbacks import AccCallback\n",
    "from kudzu.callbacks import ClfCallback\n",
    "\n",
    "from kudzu.loss import MSE\n",
    "\n",
    "from kudzu.layer import Sigmoid,Relu\n",
    "from kudzu.layer import Affine"
   ]
  },
  {
   "cell_type": "markdown",
   "id": "bc01172a",
   "metadata": {
    "papermill": {
     "duration": 0.026178,
     "end_time": "2022-06-25T00:39:42.355174",
     "exception": false,
     "start_time": "2022-06-25T00:39:42.328996",
     "status": "completed"
    },
    "tags": []
   },
   "source": [
    "### Let us create a `Config` class, to store important parameters. \n",
    "This class essentially plays the role of a dictionary."
   ]
  },
  {
   "cell_type": "code",
   "execution_count": 16,
   "id": "978281aa",
   "metadata": {
    "execution": {
     "iopub.execute_input": "2022-06-25T00:39:42.414051Z",
     "iopub.status.busy": "2022-06-25T00:39:42.413346Z",
     "iopub.status.idle": "2022-06-25T00:39:42.425176Z",
     "shell.execute_reply": "2022-06-25T00:39:42.424678Z"
    },
    "papermill": {
     "duration": 0.044015,
     "end_time": "2022-06-25T00:39:42.425306",
     "exception": false,
     "start_time": "2022-06-25T00:39:42.381291",
     "status": "completed"
    },
    "tags": []
   },
   "outputs": [],
   "source": [
    "class Config:\n",
    "    pass\n",
    "config = Config()\n",
    "config.lr = 0.001\n",
    "config.num_epochs = 250\n",
    "config.bs = 50"
   ]
  },
  {
   "cell_type": "markdown",
   "id": "1385fa59",
   "metadata": {
    "papermill": {
     "duration": 0.026263,
     "end_time": "2022-06-25T00:39:42.477894",
     "exception": false,
     "start_time": "2022-06-25T00:39:42.451631",
     "status": "completed"
    },
    "tags": []
   },
   "source": [
    "### Running Models with the Training data\n",
    "Details about the network layers:\n",
    "- A first affine layer has 784 inputs and does 100 affine transforms. These are followed by a Relu\n",
    "- A second affine layer has 100 inputs from the 100 activations of the past layer, and does 100 affine transforms. These are followed by a Relu\n",
    "- A third affine layer has 100 activations and does 2 affine transformations to create an embedding for visualization. There is no non-linearity here.\n",
    "- A final \"logistic regression\" which has an affine transform from 2 inputs to 1 output, which is squeezed through a sigmoid.\n"
   ]
  },
  {
   "cell_type": "code",
   "execution_count": 17,
   "id": "2b9c66db",
   "metadata": {
    "execution": {
     "iopub.execute_input": "2022-06-25T00:39:42.534817Z",
     "iopub.status.busy": "2022-06-25T00:39:42.534223Z",
     "iopub.status.idle": "2022-06-25T00:39:42.547334Z",
     "shell.execute_reply": "2022-06-25T00:39:42.546852Z"
    },
    "papermill": {
     "duration": 0.043413,
     "end_time": "2022-06-25T00:39:42.547451",
     "exception": false,
     "start_time": "2022-06-25T00:39:42.504038",
     "status": "completed"
    },
    "tags": []
   },
   "outputs": [],
   "source": [
    "data = Data(X_train, y_train.reshape(-1,1))\n",
    "sampler = Sampler(data, config.bs, shuffle=True)\n",
    "\n",
    "dl = Dataloader(data, sampler)\n",
    "\n",
    "opt = GD(config.lr)\n",
    "loss = MSE()"
   ]
  },
  {
   "cell_type": "code",
   "execution_count": 18,
   "id": "b275e4c2",
   "metadata": {
    "execution": {
     "iopub.execute_input": "2022-06-25T00:39:42.603730Z",
     "iopub.status.busy": "2022-06-25T00:39:42.603143Z",
     "iopub.status.idle": "2022-06-25T00:39:42.616116Z",
     "shell.execute_reply": "2022-06-25T00:39:42.615639Z"
    },
    "papermill": {
     "duration": 0.042507,
     "end_time": "2022-06-25T00:39:42.616232",
     "exception": false,
     "start_time": "2022-06-25T00:39:42.573725",
     "status": "completed"
    },
    "tags": []
   },
   "outputs": [],
   "source": [
    "training_data_x = X_train\n",
    "testing_data_x = X_test\n",
    "training_data_y = y_train.reshape(-1,1)\n",
    "testing_data_y = y_test.reshape(-1,1)"
   ]
  },
  {
   "cell_type": "code",
   "execution_count": 19,
   "id": "76951160",
   "metadata": {
    "execution": {
     "iopub.execute_input": "2022-06-25T00:39:42.673585Z",
     "iopub.status.busy": "2022-06-25T00:39:42.673002Z",
     "iopub.status.idle": "2022-06-25T00:39:42.691133Z",
     "shell.execute_reply": "2022-06-25T00:39:42.690558Z"
    },
    "papermill": {
     "duration": 0.048821,
     "end_time": "2022-06-25T00:39:42.691251",
     "exception": false,
     "start_time": "2022-06-25T00:39:42.642430",
     "status": "completed"
    },
    "tags": []
   },
   "outputs": [
    {
     "name": "stdout",
     "output_type": "stream",
     "text": [
      "xavier\n",
      "xavier\n",
      "xavier\n",
      "xavier\n",
      "xavier\n"
     ]
    }
   ],
   "source": [
    "layers = [Affine(\"first\", 784, 100), Relu(\"first\"), Affine(\"second\", 100, 100), Relu(\"second\"), Affine(\"third\", 100, 2), Affine(\"last\", 2, 1), Sigmoid(\"last\")]\n",
    "model_nn = Model(layers)\n",
    "model_lr = Model([Affine(\"logits\", 784, 1), Sigmoid(\"sigmoid\")])"
   ]
  },
  {
   "cell_type": "code",
   "execution_count": 20,
   "id": "6eede77a",
   "metadata": {
    "execution": {
     "iopub.execute_input": "2022-06-25T00:39:42.761688Z",
     "iopub.status.busy": "2022-06-25T00:39:42.753244Z",
     "iopub.status.idle": "2022-06-25T00:39:42.764034Z",
     "shell.execute_reply": "2022-06-25T00:39:42.764499Z"
    },
    "papermill": {
     "duration": 0.046573,
     "end_time": "2022-06-25T00:39:42.764648",
     "exception": false,
     "start_time": "2022-06-25T00:39:42.718075",
     "status": "completed"
    },
    "tags": []
   },
   "outputs": [],
   "source": [
    "nn_learner = Learner(loss, model_nn, opt, config.num_epochs)\n",
    "acc_nn = ClfCallback(nn_learner, config.bs, training_data_x , testing_data_x, training_data_y, testing_data_y)\n",
    "nn_learner.set_callbacks([acc_nn])"
   ]
  },
  {
   "cell_type": "code",
   "execution_count": 21,
   "id": "877b6cc7",
   "metadata": {
    "execution": {
     "iopub.execute_input": "2022-06-25T00:39:42.832836Z",
     "iopub.status.busy": "2022-06-25T00:39:42.821477Z",
     "iopub.status.idle": "2022-06-25T00:39:42.835107Z",
     "shell.execute_reply": "2022-06-25T00:39:42.835530Z"
    },
    "papermill": {
     "duration": 0.044264,
     "end_time": "2022-06-25T00:39:42.835667",
     "exception": false,
     "start_time": "2022-06-25T00:39:42.791403",
     "status": "completed"
    },
    "tags": []
   },
   "outputs": [],
   "source": [
    "lr_learner = Learner(loss, model_lr, opt, config.num_epochs)\n",
    "acc_lr = ClfCallback(lr_learner, config.bs, training_data_x , testing_data_x, training_data_y, testing_data_y)\n",
    "lr_learner.set_callbacks([acc_lr])"
   ]
  },
  {
   "cell_type": "code",
   "execution_count": 22,
   "id": "d9b133c3",
   "metadata": {
    "execution": {
     "iopub.execute_input": "2022-06-25T00:39:42.904836Z",
     "iopub.status.busy": "2022-06-25T00:39:42.899558Z",
     "iopub.status.idle": "2022-06-25T00:41:03.007154Z",
     "shell.execute_reply": "2022-06-25T00:41:03.008025Z"
    },
    "papermill": {
     "duration": 80.145973,
     "end_time": "2022-06-25T00:41:03.008194",
     "exception": false,
     "start_time": "2022-06-25T00:39:42.862221",
     "status": "completed"
    },
    "tags": []
   },
   "outputs": [
    {
     "name": "stdout",
     "output_type": "stream",
     "text": [
      "Epoch 0, Loss 0.2426\n",
      "Training Accuracy: 0.5973, Testing Accuracy: 0.5892\n",
      "\n"
     ]
    },
    {
     "name": "stdout",
     "output_type": "stream",
     "text": [
      "Epoch 10, Loss 0.1563\n",
      "Training Accuracy: 0.9036, Testing Accuracy: 0.9103\n",
      "\n"
     ]
    },
    {
     "name": "stdout",
     "output_type": "stream",
     "text": [
      "Epoch 20, Loss 0.0745\n",
      "Training Accuracy: 0.9313, Testing Accuracy: 0.9385\n",
      "\n"
     ]
    },
    {
     "name": "stdout",
     "output_type": "stream",
     "text": [
      "Epoch 30, Loss 0.052\n",
      "Training Accuracy: 0.9446, Testing Accuracy: 0.9567\n",
      "\n"
     ]
    },
    {
     "name": "stdout",
     "output_type": "stream",
     "text": [
      "Epoch 40, Loss 0.0428\n",
      "Training Accuracy: 0.9528, Testing Accuracy: 0.9602\n",
      "\n"
     ]
    },
    {
     "name": "stdout",
     "output_type": "stream",
     "text": [
      "Epoch 50, Loss 0.0378\n",
      "Training Accuracy: 0.9569, Testing Accuracy: 0.9642\n",
      "\n"
     ]
    },
    {
     "name": "stdout",
     "output_type": "stream",
     "text": [
      "Epoch 60, Loss 0.0347\n",
      "Training Accuracy: 0.9599, Testing Accuracy: 0.9652\n",
      "\n"
     ]
    },
    {
     "name": "stdout",
     "output_type": "stream",
     "text": [
      "Epoch 70, Loss 0.0324\n",
      "Training Accuracy: 0.9621, Testing Accuracy: 0.9688\n",
      "\n"
     ]
    },
    {
     "name": "stdout",
     "output_type": "stream",
     "text": [
      "Epoch 80, Loss 0.0307\n",
      "Training Accuracy: 0.9644, Testing Accuracy: 0.9677\n",
      "\n"
     ]
    },
    {
     "name": "stdout",
     "output_type": "stream",
     "text": [
      "Epoch 90, Loss 0.0293\n",
      "Training Accuracy: 0.9659, Testing Accuracy: 0.9682\n",
      "\n"
     ]
    },
    {
     "name": "stdout",
     "output_type": "stream",
     "text": [
      "Epoch 100, Loss 0.0281\n",
      "Training Accuracy: 0.9674, Testing Accuracy: 0.9693\n",
      "\n"
     ]
    },
    {
     "name": "stdout",
     "output_type": "stream",
     "text": [
      "Epoch 110, Loss 0.0271\n",
      "Training Accuracy: 0.9690, Testing Accuracy: 0.9698\n",
      "\n"
     ]
    },
    {
     "name": "stdout",
     "output_type": "stream",
     "text": [
      "Epoch 120, Loss 0.0262\n",
      "Training Accuracy: 0.9696, Testing Accuracy: 0.9703\n",
      "\n"
     ]
    },
    {
     "name": "stdout",
     "output_type": "stream",
     "text": [
      "Epoch 130, Loss 0.0254\n",
      "Training Accuracy: 0.9700, Testing Accuracy: 0.9708\n",
      "\n"
     ]
    },
    {
     "name": "stdout",
     "output_type": "stream",
     "text": [
      "Epoch 140, Loss 0.0247\n",
      "Training Accuracy: 0.9706, Testing Accuracy: 0.9708\n",
      "\n"
     ]
    },
    {
     "name": "stdout",
     "output_type": "stream",
     "text": [
      "Epoch 150, Loss 0.0241\n",
      "Training Accuracy: 0.9720, Testing Accuracy: 0.9713\n",
      "\n"
     ]
    },
    {
     "name": "stdout",
     "output_type": "stream",
     "text": [
      "Epoch 160, Loss 0.0235\n",
      "Training Accuracy: 0.9730, Testing Accuracy: 0.9713\n",
      "\n"
     ]
    },
    {
     "name": "stdout",
     "output_type": "stream",
     "text": [
      "Epoch 170, Loss 0.0229\n",
      "Training Accuracy: 0.9735, Testing Accuracy: 0.9713\n",
      "\n"
     ]
    },
    {
     "name": "stdout",
     "output_type": "stream",
     "text": [
      "Epoch 180, Loss 0.0224\n",
      "Training Accuracy: 0.9740, Testing Accuracy: 0.9718\n",
      "\n"
     ]
    },
    {
     "name": "stdout",
     "output_type": "stream",
     "text": [
      "Epoch 190, Loss 0.0219\n",
      "Training Accuracy: 0.9750, Testing Accuracy: 0.9713\n",
      "\n"
     ]
    },
    {
     "name": "stdout",
     "output_type": "stream",
     "text": [
      "Epoch 200, Loss 0.0215\n",
      "Training Accuracy: 0.9753, Testing Accuracy: 0.9728\n",
      "\n"
     ]
    },
    {
     "name": "stdout",
     "output_type": "stream",
     "text": [
      "Epoch 210, Loss 0.021\n",
      "Training Accuracy: 0.9757, Testing Accuracy: 0.9723\n",
      "\n"
     ]
    },
    {
     "name": "stdout",
     "output_type": "stream",
     "text": [
      "Epoch 220, Loss 0.0206\n",
      "Training Accuracy: 0.9761, Testing Accuracy: 0.9723\n",
      "\n"
     ]
    },
    {
     "name": "stdout",
     "output_type": "stream",
     "text": [
      "Epoch 230, Loss 0.0202\n",
      "Training Accuracy: 0.9771, Testing Accuracy: 0.9723\n",
      "\n"
     ]
    },
    {
     "name": "stdout",
     "output_type": "stream",
     "text": [
      "Epoch 240, Loss 0.0198\n",
      "Training Accuracy: 0.9775, Testing Accuracy: 0.9723\n",
      "\n"
     ]
    },
    {
     "data": {
      "text/plain": [
       "0.03671414036315106"
      ]
     },
     "execution_count": 22,
     "metadata": {},
     "output_type": "execute_result"
    }
   ],
   "source": [
    "nn_learner.train_loop(dl)"
   ]
  },
  {
   "cell_type": "code",
   "execution_count": 23,
   "id": "e0163366",
   "metadata": {
    "execution": {
     "iopub.execute_input": "2022-06-25T00:41:03.082466Z",
     "iopub.status.busy": "2022-06-25T00:41:03.081864Z",
     "iopub.status.idle": "2022-06-25T00:41:17.939016Z",
     "shell.execute_reply": "2022-06-25T00:41:17.939900Z"
    },
    "papermill": {
     "duration": 14.897644,
     "end_time": "2022-06-25T00:41:17.940065",
     "exception": false,
     "start_time": "2022-06-25T00:41:03.042421",
     "status": "completed"
    },
    "tags": []
   },
   "outputs": [
    {
     "name": "stdout",
     "output_type": "stream",
     "text": [
      "Epoch 0, Loss 0.2467\n",
      "Training Accuracy: 0.6672, Testing Accuracy: 0.6613\n",
      "\n"
     ]
    },
    {
     "name": "stdout",
     "output_type": "stream",
     "text": [
      "Epoch 10, Loss 0.1045\n",
      "Training Accuracy: 0.9026, Testing Accuracy: 0.9098\n",
      "\n"
     ]
    },
    {
     "name": "stdout",
     "output_type": "stream",
     "text": [
      "Epoch 20, Loss 0.0796\n",
      "Training Accuracy: 0.9230, Testing Accuracy: 0.9340\n",
      "\n"
     ]
    },
    {
     "name": "stdout",
     "output_type": "stream",
     "text": [
      "Epoch 30, Loss 0.0683\n",
      "Training Accuracy: 0.9337, Testing Accuracy: 0.9466\n",
      "\n"
     ]
    },
    {
     "name": "stdout",
     "output_type": "stream",
     "text": [
      "Epoch 40, Loss 0.0615\n",
      "Training Accuracy: 0.9416, Testing Accuracy: 0.9546\n",
      "\n"
     ]
    },
    {
     "name": "stdout",
     "output_type": "stream",
     "text": [
      "Epoch 50, Loss 0.0569\n",
      "Training Accuracy: 0.9455, Testing Accuracy: 0.9577\n",
      "\n"
     ]
    },
    {
     "name": "stdout",
     "output_type": "stream",
     "text": [
      "Epoch 60, Loss 0.0536\n",
      "Training Accuracy: 0.9484, Testing Accuracy: 0.9587\n",
      "\n"
     ]
    },
    {
     "name": "stdout",
     "output_type": "stream",
     "text": [
      "Epoch 70, Loss 0.051\n",
      "Training Accuracy: 0.9503, Testing Accuracy: 0.9622\n",
      "\n"
     ]
    },
    {
     "name": "stdout",
     "output_type": "stream",
     "text": [
      "Epoch 80, Loss 0.0489\n",
      "Training Accuracy: 0.9522, Testing Accuracy: 0.9627\n",
      "\n"
     ]
    },
    {
     "name": "stdout",
     "output_type": "stream",
     "text": [
      "Epoch 90, Loss 0.0473\n",
      "Training Accuracy: 0.9528, Testing Accuracy: 0.9632\n",
      "\n"
     ]
    },
    {
     "name": "stdout",
     "output_type": "stream",
     "text": [
      "Epoch 100, Loss 0.0458\n",
      "Training Accuracy: 0.9539, Testing Accuracy: 0.9642\n",
      "\n"
     ]
    },
    {
     "name": "stdout",
     "output_type": "stream",
     "text": [
      "Epoch 110, Loss 0.0446\n",
      "Training Accuracy: 0.9550, Testing Accuracy: 0.9642\n",
      "\n"
     ]
    },
    {
     "name": "stdout",
     "output_type": "stream",
     "text": [
      "Epoch 120, Loss 0.0436\n",
      "Training Accuracy: 0.9555, Testing Accuracy: 0.9647\n",
      "\n"
     ]
    },
    {
     "name": "stdout",
     "output_type": "stream",
     "text": [
      "Epoch 130, Loss 0.0426\n",
      "Training Accuracy: 0.9566, Testing Accuracy: 0.9652\n",
      "\n"
     ]
    },
    {
     "name": "stdout",
     "output_type": "stream",
     "text": [
      "Epoch 140, Loss 0.0418\n",
      "Training Accuracy: 0.9574, Testing Accuracy: 0.9642\n",
      "\n"
     ]
    },
    {
     "name": "stdout",
     "output_type": "stream",
     "text": [
      "Epoch 150, Loss 0.0411\n",
      "Training Accuracy: 0.9579, Testing Accuracy: 0.9642\n",
      "\n"
     ]
    },
    {
     "name": "stdout",
     "output_type": "stream",
     "text": [
      "Epoch 160, Loss 0.0404\n",
      "Training Accuracy: 0.9585, Testing Accuracy: 0.9657\n",
      "\n"
     ]
    },
    {
     "name": "stdout",
     "output_type": "stream",
     "text": [
      "Epoch 170, Loss 0.0398\n",
      "Training Accuracy: 0.9590, Testing Accuracy: 0.9657\n",
      "\n"
     ]
    },
    {
     "name": "stdout",
     "output_type": "stream",
     "text": [
      "Epoch 180, Loss 0.0392\n",
      "Training Accuracy: 0.9594, Testing Accuracy: 0.9657\n",
      "\n"
     ]
    },
    {
     "name": "stdout",
     "output_type": "stream",
     "text": [
      "Epoch 190, Loss 0.0387\n",
      "Training Accuracy: 0.9597, Testing Accuracy: 0.9657\n",
      "\n"
     ]
    },
    {
     "name": "stdout",
     "output_type": "stream",
     "text": [
      "Epoch 200, Loss 0.0383\n",
      "Training Accuracy: 0.9599, Testing Accuracy: 0.9657\n",
      "\n"
     ]
    },
    {
     "name": "stdout",
     "output_type": "stream",
     "text": [
      "Epoch 210, Loss 0.0378\n",
      "Training Accuracy: 0.9602, Testing Accuracy: 0.9657\n",
      "\n"
     ]
    },
    {
     "name": "stdout",
     "output_type": "stream",
     "text": [
      "Epoch 220, Loss 0.0374\n",
      "Training Accuracy: 0.9608, Testing Accuracy: 0.9657\n",
      "\n"
     ]
    },
    {
     "name": "stdout",
     "output_type": "stream",
     "text": [
      "Epoch 230, Loss 0.037\n",
      "Training Accuracy: 0.9612, Testing Accuracy: 0.9667\n",
      "\n"
     ]
    },
    {
     "name": "stdout",
     "output_type": "stream",
     "text": [
      "Epoch 240, Loss 0.0367\n",
      "Training Accuracy: 0.9616, Testing Accuracy: 0.9667\n",
      "\n"
     ]
    },
    {
     "data": {
      "text/plain": [
       "0.0520040718708589"
      ]
     },
     "execution_count": 23,
     "metadata": {},
     "output_type": "execute_result"
    }
   ],
   "source": [
    "lr_learner.train_loop(dl)"
   ]
  },
  {
   "cell_type": "code",
   "execution_count": 24,
   "id": "ca410940",
   "metadata": {
    "execution": {
     "iopub.execute_input": "2022-06-25T00:41:18.033818Z",
     "iopub.status.busy": "2022-06-25T00:41:18.033196Z",
     "iopub.status.idle": "2022-06-25T00:41:18.267177Z",
     "shell.execute_reply": "2022-06-25T00:41:18.267637Z"
    },
    "papermill": {
     "duration": 0.287074,
     "end_time": "2022-06-25T00:41:18.267788",
     "exception": false,
     "start_time": "2022-06-25T00:41:17.980714",
     "status": "completed"
    },
    "tags": []
   },
   "outputs": [
    {
     "data": {
      "text/plain": [
       "<matplotlib.legend.Legend at 0x7f1d37524a90>"
      ]
     },
     "execution_count": 24,
     "metadata": {},
     "output_type": "execute_result"
    },
    {
     "data": {
      "image/png": "[encoded data removed]",
      "text/plain": [
       "<Figure size 1080x720 with 1 Axes>"
      ]
     },
     "metadata": {
      "needs_background": "light"
     },
     "output_type": "display_data"
    }
   ],
   "source": [
    "#comparing the results of NN and LR\n",
    "plt.figure(figsize=(15,10))\n",
    "\n",
    "# Neural Network plots\n",
    "plt.plot(acc_nn.accuracies, 'r-', label = \"Training Accuracies - NN\")\n",
    "plt.plot(acc_nn.test_accuracies, 'g-', label = \"Testing Accuracies - NN\")\n",
    "\n",
    "# Logistic Regression plots\n",
    "plt.plot(acc_lr.accuracies, 'k-', label = \"Training Accuracies - LR\")\n",
    "plt.plot(acc_lr.test_accuracies, 'b-', label = \"Testing Accuracies - LR\")\n",
    "plt.legend()"
   ]
  },
  {
   "cell_type": "markdown",
   "id": "80dfb35c",
   "metadata": {
    "papermill": {
     "duration": 0.041236,
     "end_time": "2022-06-25T00:41:18.350669",
     "exception": false,
     "start_time": "2022-06-25T00:41:18.309433",
     "status": "completed"
    },
    "tags": []
   },
   "source": [
    "#### Plotting the outputs of this layer of the NN.\n"
   ]
  },
  {
   "cell_type": "code",
   "execution_count": 25,
   "id": "45eb2ff5",
   "metadata": {
    "execution": {
     "iopub.execute_input": "2022-06-25T00:41:18.442165Z",
     "iopub.status.busy": "2022-06-25T00:41:18.441533Z",
     "iopub.status.idle": "2022-06-25T00:41:18.462044Z",
     "shell.execute_reply": "2022-06-25T00:41:18.461491Z"
    },
    "papermill": {
     "duration": 0.070439,
     "end_time": "2022-06-25T00:41:18.462176",
     "exception": false,
     "start_time": "2022-06-25T00:41:18.391737",
     "status": "completed"
    },
    "tags": []
   },
   "outputs": [],
   "source": [
    "new_model = Model(layers[:-2])\n",
    "testing_plot = new_model(testing_data_x)"
   ]
  },
  {
   "cell_type": "code",
   "execution_count": 26,
   "id": "4c0a5485",
   "metadata": {
    "execution": {
     "iopub.execute_input": "2022-06-25T00:41:18.550709Z",
     "iopub.status.busy": "2022-06-25T00:41:18.550087Z",
     "iopub.status.idle": "2022-06-25T00:41:18.739806Z",
     "shell.execute_reply": "2022-06-25T00:41:18.739289Z"
    },
    "papermill": {
     "duration": 0.235828,
     "end_time": "2022-06-25T00:41:18.739933",
     "exception": false,
     "start_time": "2022-06-25T00:41:18.504105",
     "status": "completed"
    },
    "tags": []
   },
   "outputs": [
    {
     "data": {
      "text/plain": [
       "Text(0.5, 1.0, 'Outputs')"
      ]
     },
     "execution_count": 26,
     "metadata": {},
     "output_type": "execute_result"
    },
    {
     "data": {
      "image/png": "[encoded data removed]",
      "text/plain": [
       "<Figure size 576x504 with 1 Axes>"
      ]
     },
     "metadata": {
      "needs_background": "light"
     },
     "output_type": "display_data"
    }
   ],
   "source": [
    "# Plotting the scatter plot of points and color coding by class\n",
    "plt.figure(figsize=(8,7))\n",
    "plt.scatter(testing_plot[:,0], testing_plot[:,1], alpha = 0.1, c = y_test.ravel());\n",
    "plt.title('Outputs')"
   ]
  },
  {
   "cell_type": "markdown",
   "id": "a74fcf8f",
   "metadata": {
    "papermill": {
     "duration": 0.043494,
     "end_time": "2022-06-25T00:41:18.826847",
     "exception": false,
     "start_time": "2022-06-25T00:41:18.783353",
     "status": "completed"
    },
    "tags": []
   },
   "source": [
    "Probability contours"
   ]
  },
  {
   "cell_type": "code",
   "execution_count": 27,
   "id": "d0afc8e3",
   "metadata": {
    "execution": {
     "iopub.execute_input": "2022-06-25T00:41:18.925580Z",
     "iopub.status.busy": "2022-06-25T00:41:18.922010Z",
     "iopub.status.idle": "2022-06-25T00:41:18.931645Z",
     "shell.execute_reply": "2022-06-25T00:41:18.932097Z"
    },
    "papermill": {
     "duration": 0.061987,
     "end_time": "2022-06-25T00:41:18.932241",
     "exception": false,
     "start_time": "2022-06-25T00:41:18.870254",
     "status": "completed"
    },
    "tags": []
   },
   "outputs": [],
   "source": [
    "model_prob = Model(layers[-2:]) "
   ]
  },
  {
   "cell_type": "code",
   "execution_count": 28,
   "id": "9b96e238",
   "metadata": {
    "execution": {
     "iopub.execute_input": "2022-06-25T00:41:19.038012Z",
     "iopub.status.busy": "2022-06-25T00:41:19.033372Z",
     "iopub.status.idle": "2022-06-25T00:41:19.042358Z",
     "shell.execute_reply": "2022-06-25T00:41:19.041786Z"
    },
    "papermill": {
     "duration": 0.066797,
     "end_time": "2022-06-25T00:41:19.042485",
     "exception": false,
     "start_time": "2022-06-25T00:41:18.975688",
     "status": "completed"
    },
    "tags": []
   },
   "outputs": [],
   "source": [
    "#creating the x and y ranges according to the above generated plot.\n",
    "x_range = np.linspace(-4, 1, 100) \n",
    "y_range = np.linspace(-6, 6, 100) \n",
    "x_grid, y_grid = np.meshgrid(x_range, y_range) # x_grid and y_grig are of size 100 X 100\n",
    "\n",
    "# converting x_grid and y_grid to continuous arrays\n",
    "x_gridflat = np.ravel(x_grid)\n",
    "y_gridflat = np.ravel(y_grid)\n",
    "\n",
    "# The last layer of the current model takes two columns as input. Hence transpose of np.vstack() is required.\n",
    "X = np.vstack((x_gridflat, y_gridflat)).T\n",
    "\n",
    "prob_contour = model_prob(X).reshape(100,100) "
   ]
  },
  {
   "cell_type": "code",
   "execution_count": 29,
   "id": "da72499a",
   "metadata": {
    "execution": {
     "iopub.execute_input": "2022-06-25T00:41:19.178694Z",
     "iopub.status.busy": "2022-06-25T00:41:19.178003Z",
     "iopub.status.idle": "2022-06-25T00:41:19.417151Z",
     "shell.execute_reply": "2022-06-25T00:41:19.417671Z"
    },
    "papermill": {
     "duration": 0.28804,
     "end_time": "2022-06-25T00:41:19.417835",
     "exception": false,
     "start_time": "2022-06-25T00:41:19.129795",
     "status": "completed"
    },
    "tags": []
   },
   "outputs": [
    {
     "data": {
      "image/png": "[encoded data removed]",
      "text/plain": [
       "<Figure size 720x648 with 1 Axes>"
      ]
     },
     "metadata": {
      "needs_background": "light"
     },
     "output_type": "display_data"
    }
   ],
   "source": [
    "plt.figure(figsize=(10,9))\n",
    "plt.scatter(testing_plot[:,0], testing_plot[:,1], alpha = 0.1, c = y_test.ravel())\n",
    "contours = plt.contour(x_grid,y_grid,prob_contour)\n",
    "plt.title('Probability Contours')\n",
    "plt.clabel(contours, inline = True );"
   ]
  },
  {
   "cell_type": "code",
   "execution_count": null,
   "id": "e81b4ac7",
   "metadata": {
    "papermill": {
     "duration": 0.045795,
     "end_time": "2022-06-25T00:41:19.510218",
     "exception": false,
     "start_time": "2022-06-25T00:41:19.464423",
     "status": "completed"
    },
    "tags": []
   },
   "outputs": [],
   "source": []
  }
 ],
 "metadata": {
  "kernelspec": {
   "display_name": "Python 3",
   "language": "python",
   "name": "python3"
  },
  "language_info": {
   "codemirror_mode": {
    "name": "ipython",
    "version": 3
   },
   "file_extension": ".py",
   "mimetype": "text/x-python",
   "name": "python",
   "nbconvert_exporter": "python",
   "pygments_lexer": "ipython3",
   "version": "3.6.15"
  },
  "papermill": {
   "default_parameters": {},
   "duration": 103.078408,
   "end_time": "2022-06-25T00:41:19.975985",
   "environment_variables": {},
   "exception": null,
   "input_path": "2020-08-11-part2.ipynb",
   "output_path": "2020-08-11-part2.ipynb",
   "parameters": {},
   "start_time": "2022-06-25T00:39:36.897577",
   "version": "2.3.3"
  }
 },
 "nbformat": 4,
 "nbformat_minor": 5
}