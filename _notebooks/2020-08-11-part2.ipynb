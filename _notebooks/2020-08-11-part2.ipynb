{
 "cells": [
  {
   "cell_type": "markdown",
   "id": "98380cd3",
   "metadata": {
    "papermill": {
     "duration": 0.030633,
     "end_time": "2022-10-15T10:10:49.267898",
     "exception": false,
     "start_time": "2022-10-15T10:10:49.237265",
     "status": "completed"
    },
    "tags": []
   },
   "source": [
    "# Distinguish Your Own Digits (DYOD)"
   ]
  },
  {
   "cell_type": "markdown",
   "id": "ef31240d",
   "metadata": {
    "papermill": {
     "duration": 0.024719,
     "end_time": "2022-10-15T10:10:49.317678",
     "exception": false,
     "start_time": "2022-10-15T10:10:49.292959",
     "status": "completed"
    },
    "tags": []
   },
   "source": [
    "You are going to write a classifier that distinguishes between the number 3 and number 8."
   ]
  },
  {
   "cell_type": "code",
   "execution_count": 1,
   "id": "b15c8646",
   "metadata": {
    "execution": {
     "iopub.execute_input": "2022-10-15T10:10:49.377621Z",
     "iopub.status.busy": "2022-10-15T10:10:49.376982Z",
     "iopub.status.idle": "2022-10-15T10:10:49.388334Z",
     "shell.execute_reply": "2022-10-15T10:10:49.387858Z"
    },
    "papermill": {
     "duration": 0.046753,
     "end_time": "2022-10-15T10:10:49.388472",
     "exception": false,
     "start_time": "2022-10-15T10:10:49.341719",
     "status": "completed"
    },
    "tags": []
   },
   "outputs": [],
   "source": [
    "%load_ext autoreload\n",
    "%autoreload 2"
   ]
  },
  {
   "cell_type": "code",
   "execution_count": 2,
   "id": "22ef38dc",
   "metadata": {
    "execution": {
     "iopub.execute_input": "2022-10-15T10:10:49.454769Z",
     "iopub.status.busy": "2022-10-15T10:10:49.450999Z",
     "iopub.status.idle": "2022-10-15T10:10:49.988746Z",
     "shell.execute_reply": "2022-10-15T10:10:49.988222Z"
    },
    "papermill": {
     "duration": 0.576208,
     "end_time": "2022-10-15T10:10:49.988873",
     "exception": false,
     "start_time": "2022-10-15T10:10:49.412665",
     "status": "completed"
    },
    "tags": []
   },
   "outputs": [],
   "source": [
    "%matplotlib inline\n",
    "import numpy as np\n",
    "import matplotlib.pyplot as plt\n",
    "import pandas as pd"
   ]
  },
  {
   "cell_type": "markdown",
   "id": "ba036198",
   "metadata": {
    "papermill": {
     "duration": 0.024044,
     "end_time": "2022-10-15T10:10:50.037176",
     "exception": false,
     "start_time": "2022-10-15T10:10:50.013132",
     "status": "completed"
    },
    "tags": []
   },
   "source": [
    "From the command line run `pip install mnist`. This is a library that will help you bring down the mnist dataset. If you run this from a notebook, you need to put  `!pip install mnist` in a cell by itself."
   ]
  },
  {
   "cell_type": "code",
   "execution_count": 3,
   "id": "bb6ad8a1",
   "metadata": {
    "execution": {
     "iopub.execute_input": "2022-10-15T10:10:50.090769Z",
     "iopub.status.busy": "2022-10-15T10:10:50.090183Z",
     "iopub.status.idle": "2022-10-15T10:10:51.713744Z",
     "shell.execute_reply": "2022-10-15T10:10:51.713088Z"
    },
    "papermill": {
     "duration": 1.652443,
     "end_time": "2022-10-15T10:10:51.713886",
     "exception": false,
     "start_time": "2022-10-15T10:10:50.061443",
     "status": "completed"
    },
    "tags": []
   },
   "outputs": [
    {
     "name": "stdout",
     "output_type": "stream",
     "text": [
      "Collecting mnist\r\n"
     ]
    },
    {
     "name": "stdout",
     "output_type": "stream",
     "text": [
      "  Downloading mnist-0.2.2-py2.py3-none-any.whl (3.5 kB)\r\n",
      "Requirement already satisfied: numpy in /opt/hostedtoolcache/Python/3.6.15/x64/lib/python3.6/site-packages (from mnist) (1.19.5)\r\n"
     ]
    },
    {
     "name": "stdout",
     "output_type": "stream",
     "text": [
      "Installing collected packages: mnist\r\n",
      "Successfully installed mnist-0.2.2\r\n"
     ]
    }
   ],
   "source": [
    "!pip install mnist"
   ]
  },
  {
   "cell_type": "markdown",
   "id": "69df9c9a",
   "metadata": {
    "papermill": {
     "duration": 0.024988,
     "end_time": "2022-10-15T10:10:51.764356",
     "exception": false,
     "start_time": "2022-10-15T10:10:51.739368",
     "status": "completed"
    },
    "tags": []
   },
   "source": [
    "## Preparing the Data"
   ]
  },
  {
   "cell_type": "code",
   "execution_count": 4,
   "id": "7f69d806",
   "metadata": {
    "execution": {
     "iopub.execute_input": "2022-10-15T10:10:51.834817Z",
     "iopub.status.busy": "2022-10-15T10:10:51.832861Z",
     "iopub.status.idle": "2022-10-15T10:10:51.839535Z",
     "shell.execute_reply": "2022-10-15T10:10:51.839049Z"
    },
    "papermill": {
     "duration": 0.050366,
     "end_time": "2022-10-15T10:10:51.839653",
     "exception": false,
     "start_time": "2022-10-15T10:10:51.789287",
     "status": "completed"
    },
    "tags": []
   },
   "outputs": [],
   "source": [
    "import mnist"
   ]
  },
  {
   "cell_type": "code",
   "execution_count": 5,
   "id": "a411e44f",
   "metadata": {
    "execution": {
     "iopub.execute_input": "2022-10-15T10:10:51.894269Z",
     "iopub.status.busy": "2022-10-15T10:10:51.893659Z",
     "iopub.status.idle": "2022-10-15T10:10:52.428759Z",
     "shell.execute_reply": "2022-10-15T10:10:52.427565Z"
    },
    "papermill": {
     "duration": 0.564083,
     "end_time": "2022-10-15T10:10:52.428900",
     "exception": false,
     "start_time": "2022-10-15T10:10:51.864817",
     "status": "completed"
    },
    "tags": []
   },
   "outputs": [],
   "source": [
    "train_images = mnist.train_images()\n",
    "train_labels = mnist.train_labels()"
   ]
  },
  {
   "cell_type": "code",
   "execution_count": 6,
   "id": "dceab3a5",
   "metadata": {
    "execution": {
     "iopub.execute_input": "2022-10-15T10:10:52.486851Z",
     "iopub.status.busy": "2022-10-15T10:10:52.485176Z",
     "iopub.status.idle": "2022-10-15T10:10:52.499616Z",
     "shell.execute_reply": "2022-10-15T10:10:52.500081Z"
    },
    "papermill": {
     "duration": 0.046108,
     "end_time": "2022-10-15T10:10:52.500219",
     "exception": false,
     "start_time": "2022-10-15T10:10:52.454111",
     "status": "completed"
    },
    "tags": []
   },
   "outputs": [
    {
     "data": {
      "text/plain": [
       "((60000, 28, 28), (60000,))"
      ]
     },
     "execution_count": 6,
     "metadata": {},
     "output_type": "execute_result"
    }
   ],
   "source": [
    "train_images.shape, train_labels.shape"
   ]
  },
  {
   "cell_type": "code",
   "execution_count": 7,
   "id": "f50dc2bb",
   "metadata": {
    "execution": {
     "iopub.execute_input": "2022-10-15T10:10:52.566557Z",
     "iopub.status.busy": "2022-10-15T10:10:52.563320Z",
     "iopub.status.idle": "2022-10-15T10:10:52.674825Z",
     "shell.execute_reply": "2022-10-15T10:10:52.674296Z"
    },
    "papermill": {
     "duration": 0.149518,
     "end_time": "2022-10-15T10:10:52.674948",
     "exception": false,
     "start_time": "2022-10-15T10:10:52.525430",
     "status": "completed"
    },
    "tags": []
   },
   "outputs": [],
   "source": [
    "test_images = mnist.test_images()\n",
    "test_labels = mnist.test_labels()"
   ]
  },
  {
   "cell_type": "code",
   "execution_count": 8,
   "id": "fc38cf1b",
   "metadata": {
    "execution": {
     "iopub.execute_input": "2022-10-15T10:10:52.739613Z",
     "iopub.status.busy": "2022-10-15T10:10:52.738673Z",
     "iopub.status.idle": "2022-10-15T10:10:52.747852Z",
     "shell.execute_reply": "2022-10-15T10:10:52.747378Z"
    },
    "papermill": {
     "duration": 0.047451,
     "end_time": "2022-10-15T10:10:52.747963",
     "exception": false,
     "start_time": "2022-10-15T10:10:52.700512",
     "status": "completed"
    },
    "tags": []
   },
   "outputs": [
    {
     "data": {
      "text/plain": [
       "((10000, 28, 28), (10000,))"
      ]
     },
     "execution_count": 8,
     "metadata": {},
     "output_type": "execute_result"
    }
   ],
   "source": [
    "test_images.shape, test_labels.shape"
   ]
  },
  {
   "cell_type": "code",
   "execution_count": 9,
   "id": "f9ed8fe0",
   "metadata": {
    "execution": {
     "iopub.execute_input": "2022-10-15T10:10:52.805517Z",
     "iopub.status.busy": "2022-10-15T10:10:52.802214Z",
     "iopub.status.idle": "2022-10-15T10:10:52.944098Z",
     "shell.execute_reply": "2022-10-15T10:10:52.943593Z"
    },
    "papermill": {
     "duration": 0.170961,
     "end_time": "2022-10-15T10:10:52.944219",
     "exception": false,
     "start_time": "2022-10-15T10:10:52.773258",
     "status": "completed"
    },
    "tags": []
   },
   "outputs": [
    {
     "name": "stdout",
     "output_type": "stream",
     "text": [
      "2\n"
     ]
    },
    {
     "data": {
      "text/plain": [
       "<matplotlib.image.AxesImage at 0x7f56abd18cf8>"
      ]
     },
     "execution_count": 9,
     "metadata": {},
     "output_type": "execute_result"
    },
    {
     "data": {
      "image/png": "[encoded data removed]",
      "text/plain": [
       "<Figure size 432x288 with 1 Axes>"
      ]
     },
     "metadata": {
      "needs_background": "light"
     },
     "output_type": "display_data"
    }
   ],
   "source": [
    "image_index = 7776 # You may select anything up to 60,000\n",
    "print(train_labels[image_index]) \n",
    "plt.imshow(train_images[image_index], cmap='Greys')"
   ]
  },
  {
   "cell_type": "markdown",
   "id": "a8d2388d",
   "metadata": {
    "papermill": {
     "duration": 0.026799,
     "end_time": "2022-10-15T10:10:52.997770",
     "exception": false,
     "start_time": "2022-10-15T10:10:52.970971",
     "status": "completed"
    },
    "tags": []
   },
   "source": [
    "## Filter data to get 3 and 8 out"
   ]
  },
  {
   "cell_type": "code",
   "execution_count": 10,
   "id": "776f7fc7",
   "metadata": {
    "execution": {
     "iopub.execute_input": "2022-10-15T10:10:53.064056Z",
     "iopub.status.busy": "2022-10-15T10:10:53.063444Z",
     "iopub.status.idle": "2022-10-15T10:10:53.079246Z",
     "shell.execute_reply": "2022-10-15T10:10:53.078767Z"
    },
    "papermill": {
     "duration": 0.054917,
     "end_time": "2022-10-15T10:10:53.079369",
     "exception": false,
     "start_time": "2022-10-15T10:10:53.024452",
     "status": "completed"
    },
    "tags": []
   },
   "outputs": [],
   "source": [
    "train_filter = np.where((train_labels == 3 ) | (train_labels == 8))\n",
    "test_filter = np.where((test_labels == 3) | (test_labels == 8))\n",
    "X_train, y_train = train_images[train_filter], train_labels[train_filter]\n",
    "X_test, y_test = test_images[test_filter], test_labels[test_filter]"
   ]
  },
  {
   "cell_type": "markdown",
   "id": "948f0b7e",
   "metadata": {
    "papermill": {
     "duration": 0.02663,
     "end_time": "2022-10-15T10:10:53.132841",
     "exception": false,
     "start_time": "2022-10-15T10:10:53.106211",
     "status": "completed"
    },
    "tags": []
   },
   "source": [
    "We normalize the pizel values in the 0 to 1 range"
   ]
  },
  {
   "cell_type": "code",
   "execution_count": 11,
   "id": "ee4c2166",
   "metadata": {
    "execution": {
     "iopub.execute_input": "2022-10-15T10:10:53.190572Z",
     "iopub.status.busy": "2022-10-15T10:10:53.189969Z",
     "iopub.status.idle": "2022-10-15T10:10:53.238768Z",
     "shell.execute_reply": "2022-10-15T10:10:53.238185Z"
    },
    "papermill": {
     "duration": 0.079742,
     "end_time": "2022-10-15T10:10:53.238904",
     "exception": false,
     "start_time": "2022-10-15T10:10:53.159162",
     "status": "completed"
    },
    "tags": []
   },
   "outputs": [],
   "source": [
    "X_train = X_train/255.\n",
    "X_test = X_test/255."
   ]
  },
  {
   "cell_type": "markdown",
   "id": "ddcf4fab",
   "metadata": {
    "papermill": {
     "duration": 0.026646,
     "end_time": "2022-10-15T10:10:53.292905",
     "exception": false,
     "start_time": "2022-10-15T10:10:53.266259",
     "status": "completed"
    },
    "tags": []
   },
   "source": [
    "And setup the labels as 1 (when the digit is 3) and 0 (when the digit is 8)"
   ]
  },
  {
   "cell_type": "code",
   "execution_count": 12,
   "id": "7dc908f2",
   "metadata": {
    "execution": {
     "iopub.execute_input": "2022-10-15T10:10:53.358490Z",
     "iopub.status.busy": "2022-10-15T10:10:53.357848Z",
     "iopub.status.idle": "2022-10-15T10:10:53.365841Z",
     "shell.execute_reply": "2022-10-15T10:10:53.365234Z"
    },
    "papermill": {
     "duration": 0.046583,
     "end_time": "2022-10-15T10:10:53.365958",
     "exception": false,
     "start_time": "2022-10-15T10:10:53.319375",
     "status": "completed"
    },
    "tags": []
   },
   "outputs": [],
   "source": [
    "y_train = 1*(y_train==3)\n",
    "y_test = 1*(y_test==3)"
   ]
  },
  {
   "cell_type": "code",
   "execution_count": 13,
   "id": "01e4e969",
   "metadata": {
    "execution": {
     "iopub.execute_input": "2022-10-15T10:10:53.424119Z",
     "iopub.status.busy": "2022-10-15T10:10:53.423526Z",
     "iopub.status.idle": "2022-10-15T10:10:53.437904Z",
     "shell.execute_reply": "2022-10-15T10:10:53.437390Z"
    },
    "papermill": {
     "duration": 0.044934,
     "end_time": "2022-10-15T10:10:53.438024",
     "exception": false,
     "start_time": "2022-10-15T10:10:53.393090",
     "status": "completed"
    },
    "tags": []
   },
   "outputs": [
    {
     "data": {
      "text/plain": [
       "((11982, 28, 28), (1984, 28, 28))"
      ]
     },
     "execution_count": 13,
     "metadata": {},
     "output_type": "execute_result"
    }
   ],
   "source": [
    "X_train.shape, X_test.shape"
   ]
  },
  {
   "cell_type": "markdown",
   "id": "5ccf3f85",
   "metadata": {
    "papermill": {
     "duration": 0.029269,
     "end_time": "2022-10-15T10:10:53.494171",
     "exception": false,
     "start_time": "2022-10-15T10:10:53.464902",
     "status": "completed"
    },
    "tags": []
   },
   "source": [
    "We reshape the data to flatten the image pixels into a set of features or co-variates:"
   ]
  },
  {
   "cell_type": "code",
   "execution_count": 14,
   "id": "5286a4a3",
   "metadata": {
    "execution": {
     "iopub.execute_input": "2022-10-15T10:10:53.555376Z",
     "iopub.status.busy": "2022-10-15T10:10:53.554766Z",
     "iopub.status.idle": "2022-10-15T10:10:53.567655Z",
     "shell.execute_reply": "2022-10-15T10:10:53.568126Z"
    },
    "papermill": {
     "duration": 0.047356,
     "end_time": "2022-10-15T10:10:53.568259",
     "exception": false,
     "start_time": "2022-10-15T10:10:53.520903",
     "status": "completed"
    },
    "tags": []
   },
   "outputs": [
    {
     "data": {
      "text/plain": [
       "((11982, 784), (1984, 784))"
      ]
     },
     "execution_count": 14,
     "metadata": {},
     "output_type": "execute_result"
    }
   ],
   "source": [
    "X_train = X_train.reshape(X_train.shape[0], -1)\n",
    "X_test = X_test.reshape(X_test.shape[0], -1)\n",
    "X_train.shape, X_test.shape"
   ]
  },
  {
   "cell_type": "code",
   "execution_count": 15,
   "id": "73c5f88a",
   "metadata": {
    "execution": {
     "iopub.execute_input": "2022-10-15T10:10:53.626621Z",
     "iopub.status.busy": "2022-10-15T10:10:53.626021Z",
     "iopub.status.idle": "2022-10-15T10:10:53.645739Z",
     "shell.execute_reply": "2022-10-15T10:10:53.645191Z"
    },
    "papermill": {
     "duration": 0.05054,
     "end_time": "2022-10-15T10:10:53.645859",
     "exception": false,
     "start_time": "2022-10-15T10:10:53.595319",
     "status": "completed"
    },
    "tags": []
   },
   "outputs": [],
   "source": [
    "#Impoting functions from 'Kudzu'\n",
    "from kudzu.model import Model\n",
    "from kudzu.train import Learner\n",
    "from kudzu.optim import GD\n",
    "from kudzu.data import Data, Sampler,Dataloader\n",
    "\n",
    "from kudzu.callbacks import AccCallback\n",
    "from kudzu.callbacks import ClfCallback\n",
    "\n",
    "from kudzu.loss import MSE\n",
    "\n",
    "from kudzu.layer import Sigmoid,Relu\n",
    "from kudzu.layer import Affine"
   ]
  },
  {
   "cell_type": "markdown",
   "id": "bc01172a",
   "metadata": {
    "papermill": {
     "duration": 0.026797,
     "end_time": "2022-10-15T10:10:53.700141",
     "exception": false,
     "start_time": "2022-10-15T10:10:53.673344",
     "status": "completed"
    },
    "tags": []
   },
   "source": [
    "### Let us create a `Config` class, to store important parameters. \n",
    "This class essentially plays the role of a dictionary."
   ]
  },
  {
   "cell_type": "code",
   "execution_count": 16,
   "id": "978281aa",
   "metadata": {
    "execution": {
     "iopub.execute_input": "2022-10-15T10:10:53.764606Z",
     "iopub.status.busy": "2022-10-15T10:10:53.763995Z",
     "iopub.status.idle": "2022-10-15T10:10:53.774614Z",
     "shell.execute_reply": "2022-10-15T10:10:53.775061Z"
    },
    "papermill": {
     "duration": 0.044872,
     "end_time": "2022-10-15T10:10:53.775197",
     "exception": false,
     "start_time": "2022-10-15T10:10:53.730325",
     "status": "completed"
    },
    "tags": []
   },
   "outputs": [],
   "source": [
    "class Config:\n",
    "    pass\n",
    "config = Config()\n",
    "config.lr = 0.001\n",
    "config.num_epochs = 250\n",
    "config.bs = 50"
   ]
  },
  {
   "cell_type": "markdown",
   "id": "1385fa59",
   "metadata": {
    "papermill": {
     "duration": 0.027085,
     "end_time": "2022-10-15T10:10:53.829721",
     "exception": false,
     "start_time": "2022-10-15T10:10:53.802636",
     "status": "completed"
    },
    "tags": []
   },
   "source": [
    "### Running Models with the Training data\n",
    "Details about the network layers:\n",
    "- A first affine layer has 784 inputs and does 100 affine transforms. These are followed by a Relu\n",
    "- A second affine layer has 100 inputs from the 100 activations of the past layer, and does 100 affine transforms. These are followed by a Relu\n",
    "- A third affine layer has 100 activations and does 2 affine transformations to create an embedding for visualization. There is no non-linearity here.\n",
    "- A final \"logistic regression\" which has an affine transform from 2 inputs to 1 output, which is squeezed through a sigmoid.\n"
   ]
  },
  {
   "cell_type": "code",
   "execution_count": 17,
   "id": "2b9c66db",
   "metadata": {
    "execution": {
     "iopub.execute_input": "2022-10-15T10:10:53.904422Z",
     "iopub.status.busy": "2022-10-15T10:10:53.902580Z",
     "iopub.status.idle": "2022-10-15T10:10:53.907803Z",
     "shell.execute_reply": "2022-10-15T10:10:53.906617Z"
    },
    "papermill": {
     "duration": 0.0512,
     "end_time": "2022-10-15T10:10:53.907925",
     "exception": false,
     "start_time": "2022-10-15T10:10:53.856725",
     "status": "completed"
    },
    "tags": []
   },
   "outputs": [],
   "source": [
    "data = Data(X_train, y_train.reshape(-1,1))\n",
    "sampler = Sampler(data, config.bs, shuffle=True)\n",
    "\n",
    "dl = Dataloader(data, sampler)\n",
    "\n",
    "opt = GD(config.lr)\n",
    "loss = MSE()"
   ]
  },
  {
   "cell_type": "code",
   "execution_count": 18,
   "id": "b275e4c2",
   "metadata": {
    "execution": {
     "iopub.execute_input": "2022-10-15T10:10:53.966305Z",
     "iopub.status.busy": "2022-10-15T10:10:53.965705Z",
     "iopub.status.idle": "2022-10-15T10:10:53.978493Z",
     "shell.execute_reply": "2022-10-15T10:10:53.978011Z"
    },
    "papermill": {
     "duration": 0.043472,
     "end_time": "2022-10-15T10:10:53.978605",
     "exception": false,
     "start_time": "2022-10-15T10:10:53.935133",
     "status": "completed"
    },
    "tags": []
   },
   "outputs": [],
   "source": [
    "training_data_x = X_train\n",
    "testing_data_x = X_test\n",
    "training_data_y = y_train.reshape(-1,1)\n",
    "testing_data_y = y_test.reshape(-1,1)"
   ]
  },
  {
   "cell_type": "code",
   "execution_count": 19,
   "id": "76951160",
   "metadata": {
    "execution": {
     "iopub.execute_input": "2022-10-15T10:10:54.039531Z",
     "iopub.status.busy": "2022-10-15T10:10:54.038917Z",
     "iopub.status.idle": "2022-10-15T10:10:54.055104Z",
     "shell.execute_reply": "2022-10-15T10:10:54.054521Z"
    },
    "papermill": {
     "duration": 0.049582,
     "end_time": "2022-10-15T10:10:54.055217",
     "exception": false,
     "start_time": "2022-10-15T10:10:54.005635",
     "status": "completed"
    },
    "tags": []
   },
   "outputs": [
    {
     "name": "stdout",
     "output_type": "stream",
     "text": [
      "xavier\n",
      "xavier\n",
      "xavier\n",
      "xavier\n",
      "xavier\n"
     ]
    }
   ],
   "source": [
    "layers = [Affine(\"first\", 784, 100), Relu(\"first\"), Affine(\"second\", 100, 100), Relu(\"second\"), Affine(\"third\", 100, 2), Affine(\"last\", 2, 1), Sigmoid(\"last\")]\n",
    "model_nn = Model(layers)\n",
    "model_lr = Model([Affine(\"logits\", 784, 1), Sigmoid(\"sigmoid\")])"
   ]
  },
  {
   "cell_type": "code",
   "execution_count": 20,
   "id": "6eede77a",
   "metadata": {
    "execution": {
     "iopub.execute_input": "2022-10-15T10:10:54.127639Z",
     "iopub.status.busy": "2022-10-15T10:10:54.127018Z",
     "iopub.status.idle": "2022-10-15T10:10:54.133520Z",
     "shell.execute_reply": "2022-10-15T10:10:54.133977Z"
    },
    "papermill": {
     "duration": 0.051222,
     "end_time": "2022-10-15T10:10:54.134121",
     "exception": false,
     "start_time": "2022-10-15T10:10:54.082899",
     "status": "completed"
    },
    "tags": []
   },
   "outputs": [],
   "source": [
    "nn_learner = Learner(loss, model_nn, opt, config.num_epochs)\n",
    "acc_nn = ClfCallback(nn_learner, config.bs, training_data_x , testing_data_x, training_data_y, testing_data_y)\n",
    "nn_learner.set_callbacks([acc_nn])"
   ]
  },
  {
   "cell_type": "code",
   "execution_count": 21,
   "id": "877b6cc7",
   "metadata": {
    "execution": {
     "iopub.execute_input": "2022-10-15T10:10:54.194378Z",
     "iopub.status.busy": "2022-10-15T10:10:54.192432Z",
     "iopub.status.idle": "2022-10-15T10:10:54.206294Z",
     "shell.execute_reply": "2022-10-15T10:10:54.205815Z"
    },
    "papermill": {
     "duration": 0.044906,
     "end_time": "2022-10-15T10:10:54.206406",
     "exception": false,
     "start_time": "2022-10-15T10:10:54.161500",
     "status": "completed"
    },
    "tags": []
   },
   "outputs": [],
   "source": [
    "lr_learner = Learner(loss, model_lr, opt, config.num_epochs)\n",
    "acc_lr = ClfCallback(lr_learner, config.bs, training_data_x , testing_data_x, training_data_y, testing_data_y)\n",
    "lr_learner.set_callbacks([acc_lr])"
   ]
  },
  {
   "cell_type": "code",
   "execution_count": 22,
   "id": "d9b133c3",
   "metadata": {
    "execution": {
     "iopub.execute_input": "2022-10-15T10:10:54.278148Z",
     "iopub.status.busy": "2022-10-15T10:10:54.265088Z",
     "iopub.status.idle": "2022-10-15T10:12:09.601246Z",
     "shell.execute_reply": "2022-10-15T10:12:09.601825Z"
    },
    "papermill": {
     "duration": 75.368,
     "end_time": "2022-10-15T10:12:09.601971",
     "exception": false,
     "start_time": "2022-10-15T10:10:54.233971",
     "status": "completed"
    },
    "tags": []
   },
   "outputs": [
    {
     "name": "stdout",
     "output_type": "stream",
     "text": [
      "Epoch 0, Loss 0.2483\n",
      "Training Accuracy: 0.6430, Testing Accuracy: 0.6452\n",
      "\n"
     ]
    },
    {
     "name": "stdout",
     "output_type": "stream",
     "text": [
      "Epoch 10, Loss 0.0703\n",
      "Training Accuracy: 0.9383, Testing Accuracy: 0.9486\n",
      "\n"
     ]
    },
    {
     "name": "stdout",
     "output_type": "stream",
     "text": [
      "Epoch 20, Loss 0.0457\n",
      "Training Accuracy: 0.9517, Testing Accuracy: 0.9607\n",
      "\n"
     ]
    },
    {
     "name": "stdout",
     "output_type": "stream",
     "text": [
      "Epoch 30, Loss 0.0377\n",
      "Training Accuracy: 0.9584, Testing Accuracy: 0.9657\n",
      "\n"
     ]
    },
    {
     "name": "stdout",
     "output_type": "stream",
     "text": [
      "Epoch 40, Loss 0.0335\n",
      "Training Accuracy: 0.9628, Testing Accuracy: 0.9677\n",
      "\n"
     ]
    },
    {
     "name": "stdout",
     "output_type": "stream",
     "text": [
      "Epoch 50, Loss 0.0307\n",
      "Training Accuracy: 0.9656, Testing Accuracy: 0.9693\n",
      "\n"
     ]
    },
    {
     "name": "stdout",
     "output_type": "stream",
     "text": [
      "Epoch 60, Loss 0.0287\n",
      "Training Accuracy: 0.9670, Testing Accuracy: 0.9698\n",
      "\n"
     ]
    },
    {
     "name": "stdout",
     "output_type": "stream",
     "text": [
      "Epoch 70, Loss 0.0271\n",
      "Training Accuracy: 0.9687, Testing Accuracy: 0.9703\n",
      "\n"
     ]
    },
    {
     "name": "stdout",
     "output_type": "stream",
     "text": [
      "Epoch 80, Loss 0.0257\n",
      "Training Accuracy: 0.9703, Testing Accuracy: 0.9713\n",
      "\n"
     ]
    },
    {
     "name": "stdout",
     "output_type": "stream",
     "text": [
      "Epoch 90, Loss 0.0246\n",
      "Training Accuracy: 0.9713, Testing Accuracy: 0.9718\n",
      "\n"
     ]
    },
    {
     "name": "stdout",
     "output_type": "stream",
     "text": [
      "Epoch 100, Loss 0.0236\n",
      "Training Accuracy: 0.9724, Testing Accuracy: 0.9718\n",
      "\n"
     ]
    },
    {
     "name": "stdout",
     "output_type": "stream",
     "text": [
      "Epoch 110, Loss 0.0227\n",
      "Training Accuracy: 0.9741, Testing Accuracy: 0.9718\n",
      "\n"
     ]
    },
    {
     "name": "stdout",
     "output_type": "stream",
     "text": [
      "Epoch 120, Loss 0.0219\n",
      "Training Accuracy: 0.9756, Testing Accuracy: 0.9728\n",
      "\n"
     ]
    },
    {
     "name": "stdout",
     "output_type": "stream",
     "text": [
      "Epoch 130, Loss 0.0211\n",
      "Training Accuracy: 0.9760, Testing Accuracy: 0.9728\n",
      "\n"
     ]
    },
    {
     "name": "stdout",
     "output_type": "stream",
     "text": [
      "Epoch 140, Loss 0.0205\n",
      "Training Accuracy: 0.9776, Testing Accuracy: 0.9733\n",
      "\n"
     ]
    },
    {
     "name": "stdout",
     "output_type": "stream",
     "text": [
      "Epoch 150, Loss 0.0198\n",
      "Training Accuracy: 0.9778, Testing Accuracy: 0.9728\n",
      "\n"
     ]
    },
    {
     "name": "stdout",
     "output_type": "stream",
     "text": [
      "Epoch 160, Loss 0.0192\n",
      "Training Accuracy: 0.9784, Testing Accuracy: 0.9723\n",
      "\n"
     ]
    },
    {
     "name": "stdout",
     "output_type": "stream",
     "text": [
      "Epoch 170, Loss 0.0187\n",
      "Training Accuracy: 0.9790, Testing Accuracy: 0.9728\n",
      "\n"
     ]
    },
    {
     "name": "stdout",
     "output_type": "stream",
     "text": [
      "Epoch 180, Loss 0.0182\n",
      "Training Accuracy: 0.9794, Testing Accuracy: 0.9733\n",
      "\n"
     ]
    },
    {
     "name": "stdout",
     "output_type": "stream",
     "text": [
      "Epoch 190, Loss 0.0176\n",
      "Training Accuracy: 0.9798, Testing Accuracy: 0.9738\n",
      "\n"
     ]
    },
    {
     "name": "stdout",
     "output_type": "stream",
     "text": [
      "Epoch 200, Loss 0.0172\n",
      "Training Accuracy: 0.9804, Testing Accuracy: 0.9748\n",
      "\n"
     ]
    },
    {
     "name": "stdout",
     "output_type": "stream",
     "text": [
      "Epoch 210, Loss 0.0167\n",
      "Training Accuracy: 0.9814, Testing Accuracy: 0.9768\n",
      "\n"
     ]
    },
    {
     "name": "stdout",
     "output_type": "stream",
     "text": [
      "Epoch 220, Loss 0.0163\n",
      "Training Accuracy: 0.9824, Testing Accuracy: 0.9773\n",
      "\n"
     ]
    },
    {
     "name": "stdout",
     "output_type": "stream",
     "text": [
      "Epoch 230, Loss 0.0159\n",
      "Training Accuracy: 0.9827, Testing Accuracy: 0.9778\n",
      "\n"
     ]
    },
    {
     "name": "stdout",
     "output_type": "stream",
     "text": [
      "Epoch 240, Loss 0.0155\n",
      "Training Accuracy: 0.9832, Testing Accuracy: 0.9778\n",
      "\n"
     ]
    },
    {
     "data": {
      "text/plain": [
       "0.02082495390129478"
      ]
     },
     "execution_count": 22,
     "metadata": {},
     "output_type": "execute_result"
    }
   ],
   "source": [
    "nn_learner.train_loop(dl)"
   ]
  },
  {
   "cell_type": "code",
   "execution_count": 23,
   "id": "e0163366",
   "metadata": {
    "execution": {
     "iopub.execute_input": "2022-10-15T10:12:09.676672Z",
     "iopub.status.busy": "2022-10-15T10:12:09.676090Z",
     "iopub.status.idle": "2022-10-15T10:12:23.450986Z",
     "shell.execute_reply": "2022-10-15T10:12:23.451833Z"
    },
    "papermill": {
     "duration": 13.815121,
     "end_time": "2022-10-15T10:12:23.451984",
     "exception": false,
     "start_time": "2022-10-15T10:12:09.636863",
     "status": "completed"
    },
    "tags": []
   },
   "outputs": [
    {
     "name": "stdout",
     "output_type": "stream",
     "text": [
      "Epoch 0, Loss 0.2187\n",
      "Training Accuracy: 0.7470, Testing Accuracy: 0.7712\n",
      "\n"
     ]
    },
    {
     "name": "stdout",
     "output_type": "stream",
     "text": [
      "Epoch 10, Loss 0.1034\n",
      "Training Accuracy: 0.9052, Testing Accuracy: 0.9103\n",
      "\n"
     ]
    },
    {
     "name": "stdout",
     "output_type": "stream",
     "text": [
      "Epoch 20, Loss 0.0797\n",
      "Training Accuracy: 0.9265, Testing Accuracy: 0.9365\n",
      "\n"
     ]
    },
    {
     "name": "stdout",
     "output_type": "stream",
     "text": [
      "Epoch 30, Loss 0.0685\n",
      "Training Accuracy: 0.9357, Testing Accuracy: 0.9456\n",
      "\n"
     ]
    },
    {
     "name": "stdout",
     "output_type": "stream",
     "text": [
      "Epoch 40, Loss 0.0618\n",
      "Training Accuracy: 0.9397, Testing Accuracy: 0.9521\n",
      "\n"
     ]
    },
    {
     "name": "stdout",
     "output_type": "stream",
     "text": [
      "Epoch 50, Loss 0.0573\n",
      "Training Accuracy: 0.9438, Testing Accuracy: 0.9577\n",
      "\n"
     ]
    },
    {
     "name": "stdout",
     "output_type": "stream",
     "text": [
      "Epoch 60, Loss 0.0539\n",
      "Training Accuracy: 0.9463, Testing Accuracy: 0.9597\n",
      "\n"
     ]
    },
    {
     "name": "stdout",
     "output_type": "stream",
     "text": [
      "Epoch 70, Loss 0.0514\n",
      "Training Accuracy: 0.9479, Testing Accuracy: 0.9607\n",
      "\n"
     ]
    },
    {
     "name": "stdout",
     "output_type": "stream",
     "text": [
      "Epoch 80, Loss 0.0493\n",
      "Training Accuracy: 0.9492, Testing Accuracy: 0.9627\n",
      "\n"
     ]
    },
    {
     "name": "stdout",
     "output_type": "stream",
     "text": [
      "Epoch 90, Loss 0.0476\n",
      "Training Accuracy: 0.9508, Testing Accuracy: 0.9632\n",
      "\n"
     ]
    },
    {
     "name": "stdout",
     "output_type": "stream",
     "text": [
      "Epoch 100, Loss 0.0462\n",
      "Training Accuracy: 0.9521, Testing Accuracy: 0.9642\n",
      "\n"
     ]
    },
    {
     "name": "stdout",
     "output_type": "stream",
     "text": [
      "Epoch 110, Loss 0.045\n",
      "Training Accuracy: 0.9533, Testing Accuracy: 0.9647\n",
      "\n"
     ]
    },
    {
     "name": "stdout",
     "output_type": "stream",
     "text": [
      "Epoch 120, Loss 0.0439\n",
      "Training Accuracy: 0.9540, Testing Accuracy: 0.9652\n",
      "\n"
     ]
    },
    {
     "name": "stdout",
     "output_type": "stream",
     "text": [
      "Epoch 130, Loss 0.043\n",
      "Training Accuracy: 0.9546, Testing Accuracy: 0.9662\n",
      "\n"
     ]
    },
    {
     "name": "stdout",
     "output_type": "stream",
     "text": [
      "Epoch 140, Loss 0.0421\n",
      "Training Accuracy: 0.9550, Testing Accuracy: 0.9667\n",
      "\n"
     ]
    },
    {
     "name": "stdout",
     "output_type": "stream",
     "text": [
      "Epoch 150, Loss 0.0414\n",
      "Training Accuracy: 0.9563, Testing Accuracy: 0.9667\n",
      "\n"
     ]
    },
    {
     "name": "stdout",
     "output_type": "stream",
     "text": [
      "Epoch 160, Loss 0.0407\n",
      "Training Accuracy: 0.9567, Testing Accuracy: 0.9662\n",
      "\n"
     ]
    },
    {
     "name": "stdout",
     "output_type": "stream",
     "text": [
      "Epoch 170, Loss 0.0401\n",
      "Training Accuracy: 0.9569, Testing Accuracy: 0.9667\n",
      "\n"
     ]
    },
    {
     "name": "stdout",
     "output_type": "stream",
     "text": [
      "Epoch 180, Loss 0.0396\n",
      "Training Accuracy: 0.9573, Testing Accuracy: 0.9677\n",
      "\n"
     ]
    },
    {
     "name": "stdout",
     "output_type": "stream",
     "text": [
      "Epoch 190, Loss 0.039\n",
      "Training Accuracy: 0.9578, Testing Accuracy: 0.9688\n",
      "\n"
     ]
    },
    {
     "name": "stdout",
     "output_type": "stream",
     "text": [
      "Epoch 200, Loss 0.0386\n",
      "Training Accuracy: 0.9582, Testing Accuracy: 0.9688\n",
      "\n"
     ]
    },
    {
     "name": "stdout",
     "output_type": "stream",
     "text": [
      "Epoch 210, Loss 0.0381\n",
      "Training Accuracy: 0.9586, Testing Accuracy: 0.9682\n",
      "\n"
     ]
    },
    {
     "name": "stdout",
     "output_type": "stream",
     "text": [
      "Epoch 220, Loss 0.0377\n",
      "Training Accuracy: 0.9589, Testing Accuracy: 0.9682\n",
      "\n"
     ]
    },
    {
     "name": "stdout",
     "output_type": "stream",
     "text": [
      "Epoch 230, Loss 0.0373\n",
      "Training Accuracy: 0.9593, Testing Accuracy: 0.9682\n",
      "\n"
     ]
    },
    {
     "name": "stdout",
     "output_type": "stream",
     "text": [
      "Epoch 240, Loss 0.037\n",
      "Training Accuracy: 0.9595, Testing Accuracy: 0.9688\n",
      "\n"
     ]
    },
    {
     "data": {
      "text/plain": [
       "0.027002288702736705"
      ]
     },
     "execution_count": 23,
     "metadata": {},
     "output_type": "execute_result"
    }
   ],
   "source": [
    "lr_learner.train_loop(dl)"
   ]
  },
  {
   "cell_type": "code",
   "execution_count": 24,
   "id": "ca410940",
   "metadata": {
    "execution": {
     "iopub.execute_input": "2022-10-15T10:12:23.547224Z",
     "iopub.status.busy": "2022-10-15T10:12:23.546612Z",
     "iopub.status.idle": "2022-10-15T10:12:23.783315Z",
     "shell.execute_reply": "2022-10-15T10:12:23.782799Z"
    },
    "papermill": {
     "duration": 0.28966,
     "end_time": "2022-10-15T10:12:23.783438",
     "exception": false,
     "start_time": "2022-10-15T10:12:23.493778",
     "status": "completed"
    },
    "tags": []
   },
   "outputs": [
    {
     "data": {
      "text/plain": [
       "<matplotlib.legend.Legend at 0x7f56ab8854a8>"
      ]
     },
     "execution_count": 24,
     "metadata": {},
     "output_type": "execute_result"
    },
    {
     "data": {
      "image/png": "[encoded data removed]",
      "text/plain": [
       "<Figure size 1080x720 with 1 Axes>"
      ]
     },
     "metadata": {
      "needs_background": "light"
     },
     "output_type": "display_data"
    }
   ],
   "source": [
    "#comparing the results of NN and LR\n",
    "plt.figure(figsize=(15,10))\n",
    "\n",
    "# Neural Network plots\n",
    "plt.plot(acc_nn.accuracies, 'r-', label = \"Training Accuracies - NN\")\n",
    "plt.plot(acc_nn.test_accuracies, 'g-', label = \"Testing Accuracies - NN\")\n",
    "\n",
    "# Logistic Regression plots\n",
    "plt.plot(acc_lr.accuracies, 'k-', label = \"Training Accuracies - LR\")\n",
    "plt.plot(acc_lr.test_accuracies, 'b-', label = \"Testing Accuracies - LR\")\n",
    "plt.legend()"
   ]
  },
  {
   "cell_type": "markdown",
   "id": "80dfb35c",
   "metadata": {
    "papermill": {
     "duration": 0.04499,
     "end_time": "2022-10-15T10:12:23.875727",
     "exception": false,
     "start_time": "2022-10-15T10:12:23.830737",
     "status": "completed"
    },
    "tags": []
   },
   "source": [
    "#### Plotting the outputs of this layer of the NN.\n"
   ]
  },
  {
   "cell_type": "code",
   "execution_count": 25,
   "id": "45eb2ff5",
   "metadata": {
    "execution": {
     "iopub.execute_input": "2022-10-15T10:12:23.971209Z",
     "iopub.status.busy": "2022-10-15T10:12:23.968922Z",
     "iopub.status.idle": "2022-10-15T10:12:23.989693Z",
     "shell.execute_reply": "2022-10-15T10:12:23.988819Z"
    },
    "papermill": {
     "duration": 0.069478,
     "end_time": "2022-10-15T10:12:23.989821",
     "exception": false,
     "start_time": "2022-10-15T10:12:23.920343",
     "status": "completed"
    },
    "tags": []
   },
   "outputs": [],
   "source": [
    "new_model = Model(layers[:-2])\n",
    "testing_plot = new_model(testing_data_x)"
   ]
  },
  {
   "cell_type": "code",
   "execution_count": 26,
   "id": "4c0a5485",
   "metadata": {
    "execution": {
     "iopub.execute_input": "2022-10-15T10:12:24.089907Z",
     "iopub.status.busy": "2022-10-15T10:12:24.089272Z",
     "iopub.status.idle": "2022-10-15T10:12:24.268941Z",
     "shell.execute_reply": "2022-10-15T10:12:24.268462Z"
    },
    "papermill": {
     "duration": 0.227613,
     "end_time": "2022-10-15T10:12:24.269065",
     "exception": false,
     "start_time": "2022-10-15T10:12:24.041452",
     "status": "completed"
    },
    "tags": []
   },
   "outputs": [
    {
     "data": {
      "text/plain": [
       "Text(0.5, 1.0, 'Outputs')"
      ]
     },
     "execution_count": 26,
     "metadata": {},
     "output_type": "execute_result"
    },
    {
     "data": {
      "image/png": "[encoded data removed]",
      "text/plain": [
       "<Figure size 576x504 with 1 Axes>"
      ]
     },
     "metadata": {
      "needs_background": "light"
     },
     "output_type": "display_data"
    }
   ],
   "source": [
    "# Plotting the scatter plot of points and color coding by class\n",
    "plt.figure(figsize=(8,7))\n",
    "plt.scatter(testing_plot[:,0], testing_plot[:,1], alpha = 0.1, c = y_test.ravel());\n",
    "plt.title('Outputs')"
   ]
  },
  {
   "cell_type": "markdown",
   "id": "a74fcf8f",
   "metadata": {
    "papermill": {
     "duration": 0.044252,
     "end_time": "2022-10-15T10:12:24.357904",
     "exception": false,
     "start_time": "2022-10-15T10:12:24.313652",
     "status": "completed"
    },
    "tags": []
   },
   "source": [
    "Probability contours"
   ]
  },
  {
   "cell_type": "code",
   "execution_count": 27,
   "id": "d0afc8e3",
   "metadata": {
    "execution": {
     "iopub.execute_input": "2022-10-15T10:12:24.453748Z",
     "iopub.status.busy": "2022-10-15T10:12:24.453125Z",
     "iopub.status.idle": "2022-10-15T10:12:24.464791Z",
     "shell.execute_reply": "2022-10-15T10:12:24.465240Z"
    },
    "papermill": {
     "duration": 0.063049,
     "end_time": "2022-10-15T10:12:24.465375",
     "exception": false,
     "start_time": "2022-10-15T10:12:24.402326",
     "status": "completed"
    },
    "tags": []
   },
   "outputs": [],
   "source": [
    "model_prob = Model(layers[-2:]) "
   ]
  },
  {
   "cell_type": "code",
   "execution_count": 28,
   "id": "9b96e238",
   "metadata": {
    "execution": {
     "iopub.execute_input": "2022-10-15T10:12:24.573663Z",
     "iopub.status.busy": "2022-10-15T10:12:24.573014Z",
     "iopub.status.idle": "2022-10-15T10:12:24.577977Z",
     "shell.execute_reply": "2022-10-15T10:12:24.577375Z"
    },
    "papermill": {
     "duration": 0.068314,
     "end_time": "2022-10-15T10:12:24.578094",
     "exception": false,
     "start_time": "2022-10-15T10:12:24.509780",
     "status": "completed"
    },
    "tags": []
   },
   "outputs": [],
   "source": [
    "#creating the x and y ranges according to the above generated plot.\n",
    "x_range = np.linspace(-4, 1, 100) \n",
    "y_range = np.linspace(-6, 6, 100) \n",
    "x_grid, y_grid = np.meshgrid(x_range, y_range) # x_grid and y_grig are of size 100 X 100\n",
    "\n",
    "# converting x_grid and y_grid to continuous arrays\n",
    "x_gridflat = np.ravel(x_grid)\n",
    "y_gridflat = np.ravel(y_grid)\n",
    "\n",
    "# The last layer of the current model takes two columns as input. Hence transpose of np.vstack() is required.\n",
    "X = np.vstack((x_gridflat, y_gridflat)).T\n",
    "\n",
    "prob_contour = model_prob(X).reshape(100,100) "
   ]
  },
  {
   "cell_type": "code",
   "execution_count": 29,
   "id": "da72499a",
   "metadata": {
    "execution": {
     "iopub.execute_input": "2022-10-15T10:12:24.710952Z",
     "iopub.status.busy": "2022-10-15T10:12:24.710292Z",
     "iopub.status.idle": "2022-10-15T10:12:24.964621Z",
     "shell.execute_reply": "2022-10-15T10:12:24.965104Z"
    },
    "papermill": {
     "duration": 0.308282,
     "end_time": "2022-10-15T10:12:24.965275",
     "exception": false,
     "start_time": "2022-10-15T10:12:24.656993",
     "status": "completed"
    },
    "tags": []
   },
   "outputs": [
    {
     "data": {
      "image/png": "[encoded data removed]",
      "text/plain": [
       "<Figure size 720x648 with 1 Axes>"
      ]
     },
     "metadata": {
      "needs_background": "light"
     },
     "output_type": "display_data"
    }
   ],
   "source": [
    "plt.figure(figsize=(10,9))\n",
    "plt.scatter(testing_plot[:,0], testing_plot[:,1], alpha = 0.1, c = y_test.ravel())\n",
    "contours = plt.contour(x_grid,y_grid,prob_contour)\n",
    "plt.title('Probability Contours')\n",
    "plt.clabel(contours, inline = True );"
   ]
  },
  {
   "cell_type": "code",
   "execution_count": null,
   "id": "e81b4ac7",
   "metadata": {
    "papermill": {
     "duration": 0.047109,
     "end_time": "2022-10-15T10:12:25.060052",
     "exception": false,
     "start_time": "2022-10-15T10:12:25.012943",
     "status": "completed"
    },
    "tags": []
   },
   "outputs": [],
   "source": []
  }
 ],
 "metadata": {
  "kernelspec": {
   "display_name": "Python 3",
   "language": "python",
   "name": "python3"
  },
  "language_info": {
   "codemirror_mode": {
    "name": "ipython",
    "version": 3
   },
   "file_extension": ".py",
   "mimetype": "text/x-python",
   "name": "python",
   "nbconvert_exporter": "python",
   "pygments_lexer": "ipython3",
   "version": "3.6.15"
  },
  "papermill": {
   "default_parameters": {},
   "duration": 97.442804,
   "end_time": "2022-10-15T10:12:25.526939",
   "environment_variables": {},
   "exception": null,
   "input_path": "2020-08-11-part2.ipynb",
   "output_path": "2020-08-11-part2.ipynb",
   "parameters": {},
   "start_time": "2022-10-15T10:10:48.084135",
   "version": "2.3.3"
  }
 },
 "nbformat": 4,
 "nbformat_minor": 5
}