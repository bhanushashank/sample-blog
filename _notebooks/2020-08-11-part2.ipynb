{
 "cells": [
  {
   "cell_type": "markdown",
   "id": "98380cd3",
   "metadata": {
    "papermill": {
     "duration": 0.035749,
     "end_time": "2022-05-20T20:10:21.146902",
     "exception": false,
     "start_time": "2022-05-20T20:10:21.111153",
     "status": "completed"
    },
    "tags": []
   },
   "source": [
    "# Distinguish Your Own Digits (DYOD)"
   ]
  },
  {
   "cell_type": "markdown",
   "id": "ef31240d",
   "metadata": {
    "papermill": {
     "duration": 0.026979,
     "end_time": "2022-05-20T20:10:21.201643",
     "exception": false,
     "start_time": "2022-05-20T20:10:21.174664",
     "status": "completed"
    },
    "tags": []
   },
   "source": [
    "You are going to write a classifier that distinguishes between the number 3 and number 8."
   ]
  },
  {
   "cell_type": "code",
   "execution_count": 1,
   "id": "b15c8646",
   "metadata": {
    "execution": {
     "iopub.execute_input": "2022-05-20T20:10:21.260161Z",
     "iopub.status.busy": "2022-05-20T20:10:21.259449Z",
     "iopub.status.idle": "2022-05-20T20:10:21.282397Z",
     "shell.execute_reply": "2022-05-20T20:10:21.281791Z"
    },
    "papermill": {
     "duration": 0.05388,
     "end_time": "2022-05-20T20:10:21.282574",
     "exception": false,
     "start_time": "2022-05-20T20:10:21.228694",
     "status": "completed"
    },
    "tags": []
   },
   "outputs": [],
   "source": [
    "%load_ext autoreload\n",
    "%autoreload 2"
   ]
  },
  {
   "cell_type": "code",
   "execution_count": 2,
   "id": "22ef38dc",
   "metadata": {
    "execution": {
     "iopub.execute_input": "2022-05-20T20:10:21.344888Z",
     "iopub.status.busy": "2022-05-20T20:10:21.344186Z",
     "iopub.status.idle": "2022-05-20T20:10:21.979865Z",
     "shell.execute_reply": "2022-05-20T20:10:21.978797Z"
    },
    "papermill": {
     "duration": 0.670384,
     "end_time": "2022-05-20T20:10:21.980136",
     "exception": false,
     "start_time": "2022-05-20T20:10:21.309752",
     "status": "completed"
    },
    "tags": []
   },
   "outputs": [],
   "source": [
    "%matplotlib inline\n",
    "import numpy as np\n",
    "import matplotlib.pyplot as plt\n",
    "import pandas as pd"
   ]
  },
  {
   "cell_type": "markdown",
   "id": "ba036198",
   "metadata": {
    "papermill": {
     "duration": 0.027151,
     "end_time": "2022-05-20T20:10:22.034901",
     "exception": false,
     "start_time": "2022-05-20T20:10:22.007750",
     "status": "completed"
    },
    "tags": []
   },
   "source": [
    "From the command line run `pip install mnist`. This is a library that will help you bring down the mnist dataset. If you run this from a notebook, you need to put  `!pip install mnist` in a cell by itself."
   ]
  },
  {
   "cell_type": "code",
   "execution_count": 3,
   "id": "bb6ad8a1",
   "metadata": {
    "execution": {
     "iopub.execute_input": "2022-05-20T20:10:22.098377Z",
     "iopub.status.busy": "2022-05-20T20:10:22.095605Z",
     "iopub.status.idle": "2022-05-20T20:10:24.031926Z",
     "shell.execute_reply": "2022-05-20T20:10:24.030254Z"
    },
    "papermill": {
     "duration": 1.970278,
     "end_time": "2022-05-20T20:10:24.032123",
     "exception": false,
     "start_time": "2022-05-20T20:10:22.061845",
     "status": "completed"
    },
    "tags": []
   },
   "outputs": [
    {
     "name": "stdout",
     "output_type": "stream",
     "text": [
      "Collecting mnist\r\n"
     ]
    },
    {
     "name": "stdout",
     "output_type": "stream",
     "text": [
      "  Downloading mnist-0.2.2-py2.py3-none-any.whl (3.5 kB)\r\n"
     ]
    },
    {
     "name": "stdout",
     "output_type": "stream",
     "text": [
      "Requirement already satisfied: numpy in /opt/hostedtoolcache/Python/3.6.15/x64/lib/python3.6/site-packages (from mnist) (1.19.5)\r\n"
     ]
    },
    {
     "name": "stdout",
     "output_type": "stream",
     "text": [
      "Installing collected packages: mnist\r\n"
     ]
    },
    {
     "name": "stdout",
     "output_type": "stream",
     "text": [
      "Successfully installed mnist-0.2.2\r\n"
     ]
    }
   ],
   "source": [
    "!pip install mnist"
   ]
  },
  {
   "cell_type": "markdown",
   "id": "69df9c9a",
   "metadata": {
    "papermill": {
     "duration": 0.028143,
     "end_time": "2022-05-20T20:10:24.088299",
     "exception": false,
     "start_time": "2022-05-20T20:10:24.060156",
     "status": "completed"
    },
    "tags": []
   },
   "source": [
    "## Preparing the Data"
   ]
  },
  {
   "cell_type": "code",
   "execution_count": 4,
   "id": "7f69d806",
   "metadata": {
    "execution": {
     "iopub.execute_input": "2022-05-20T20:10:24.160082Z",
     "iopub.status.busy": "2022-05-20T20:10:24.151581Z",
     "iopub.status.idle": "2022-05-20T20:10:24.169056Z",
     "shell.execute_reply": "2022-05-20T20:10:24.168520Z"
    },
    "papermill": {
     "duration": 0.052994,
     "end_time": "2022-05-20T20:10:24.169186",
     "exception": false,
     "start_time": "2022-05-20T20:10:24.116192",
     "status": "completed"
    },
    "tags": []
   },
   "outputs": [],
   "source": [
    "import mnist"
   ]
  },
  {
   "cell_type": "code",
   "execution_count": 5,
   "id": "a411e44f",
   "metadata": {
    "execution": {
     "iopub.execute_input": "2022-05-20T20:10:24.235978Z",
     "iopub.status.busy": "2022-05-20T20:10:24.231988Z",
     "iopub.status.idle": "2022-05-20T20:10:24.888997Z",
     "shell.execute_reply": "2022-05-20T20:10:24.888373Z"
    },
    "papermill": {
     "duration": 0.691385,
     "end_time": "2022-05-20T20:10:24.889128",
     "exception": false,
     "start_time": "2022-05-20T20:10:24.197743",
     "status": "completed"
    },
    "tags": []
   },
   "outputs": [],
   "source": [
    "train_images = mnist.train_images()\n",
    "train_labels = mnist.train_labels()"
   ]
  },
  {
   "cell_type": "code",
   "execution_count": 6,
   "id": "dceab3a5",
   "metadata": {
    "execution": {
     "iopub.execute_input": "2022-05-20T20:10:24.955806Z",
     "iopub.status.busy": "2022-05-20T20:10:24.952138Z",
     "iopub.status.idle": "2022-05-20T20:10:24.971109Z",
     "shell.execute_reply": "2022-05-20T20:10:24.971689Z"
    },
    "papermill": {
     "duration": 0.054137,
     "end_time": "2022-05-20T20:10:24.971851",
     "exception": false,
     "start_time": "2022-05-20T20:10:24.917714",
     "status": "completed"
    },
    "tags": []
   },
   "outputs": [
    {
     "data": {
      "text/plain": [
       "((60000, 28, 28), (60000,))"
      ]
     },
     "execution_count": 6,
     "metadata": {},
     "output_type": "execute_result"
    }
   ],
   "source": [
    "train_images.shape, train_labels.shape"
   ]
  },
  {
   "cell_type": "code",
   "execution_count": 7,
   "id": "f50dc2bb",
   "metadata": {
    "execution": {
     "iopub.execute_input": "2022-05-20T20:10:25.037043Z",
     "iopub.status.busy": "2022-05-20T20:10:25.032897Z",
     "iopub.status.idle": "2022-05-20T20:10:25.198531Z",
     "shell.execute_reply": "2022-05-20T20:10:25.197495Z"
    },
    "papermill": {
     "duration": 0.198571,
     "end_time": "2022-05-20T20:10:25.198750",
     "exception": false,
     "start_time": "2022-05-20T20:10:25.000179",
     "status": "completed"
    },
    "tags": []
   },
   "outputs": [],
   "source": [
    "test_images = mnist.test_images()\n",
    "test_labels = mnist.test_labels()"
   ]
  },
  {
   "cell_type": "code",
   "execution_count": 8,
   "id": "fc38cf1b",
   "metadata": {
    "execution": {
     "iopub.execute_input": "2022-05-20T20:10:25.263520Z",
     "iopub.status.busy": "2022-05-20T20:10:25.261023Z",
     "iopub.status.idle": "2022-05-20T20:10:25.277614Z",
     "shell.execute_reply": "2022-05-20T20:10:25.277048Z"
    },
    "papermill": {
     "duration": 0.049809,
     "end_time": "2022-05-20T20:10:25.277745",
     "exception": false,
     "start_time": "2022-05-20T20:10:25.227936",
     "status": "completed"
    },
    "tags": []
   },
   "outputs": [
    {
     "data": {
      "text/plain": [
       "((10000, 28, 28), (10000,))"
      ]
     },
     "execution_count": 8,
     "metadata": {},
     "output_type": "execute_result"
    }
   ],
   "source": [
    "test_images.shape, test_labels.shape"
   ]
  },
  {
   "cell_type": "code",
   "execution_count": 9,
   "id": "f9ed8fe0",
   "metadata": {
    "execution": {
     "iopub.execute_input": "2022-05-20T20:10:25.341819Z",
     "iopub.status.busy": "2022-05-20T20:10:25.341140Z",
     "iopub.status.idle": "2022-05-20T20:10:25.504569Z",
     "shell.execute_reply": "2022-05-20T20:10:25.505122Z"
    },
    "papermill": {
     "duration": 0.198581,
     "end_time": "2022-05-20T20:10:25.505286",
     "exception": false,
     "start_time": "2022-05-20T20:10:25.306705",
     "status": "completed"
    },
    "tags": []
   },
   "outputs": [
    {
     "name": "stdout",
     "output_type": "stream",
     "text": [
      "2\n"
     ]
    },
    {
     "data": {
      "text/plain": [
       "<matplotlib.image.AxesImage at 0x7f1ab7d8fe80>"
      ]
     },
     "execution_count": 9,
     "metadata": {},
     "output_type": "execute_result"
    },
    {
     "data": {
      "image/png": "[encoded data removed]",
      "text/plain": [
       "<Figure size 432x288 with 1 Axes>"
      ]
     },
     "metadata": {
      "needs_background": "light"
     },
     "output_type": "display_data"
    }
   ],
   "source": [
    "image_index = 7776 # You may select anything up to 60,000\n",
    "print(train_labels[image_index]) \n",
    "plt.imshow(train_images[image_index], cmap='Greys')"
   ]
  },
  {
   "cell_type": "markdown",
   "id": "a8d2388d",
   "metadata": {
    "papermill": {
     "duration": 0.030621,
     "end_time": "2022-05-20T20:10:25.565759",
     "exception": false,
     "start_time": "2022-05-20T20:10:25.535138",
     "status": "completed"
    },
    "tags": []
   },
   "source": [
    "## Filter data to get 3 and 8 out"
   ]
  },
  {
   "cell_type": "code",
   "execution_count": 10,
   "id": "776f7fc7",
   "metadata": {
    "execution": {
     "iopub.execute_input": "2022-05-20T20:10:25.639922Z",
     "iopub.status.busy": "2022-05-20T20:10:25.632677Z",
     "iopub.status.idle": "2022-05-20T20:10:25.654409Z",
     "shell.execute_reply": "2022-05-20T20:10:25.653813Z"
    },
    "papermill": {
     "duration": 0.059174,
     "end_time": "2022-05-20T20:10:25.654575",
     "exception": false,
     "start_time": "2022-05-20T20:10:25.595401",
     "status": "completed"
    },
    "tags": []
   },
   "outputs": [],
   "source": [
    "train_filter = np.where((train_labels == 3 ) | (train_labels == 8))\n",
    "test_filter = np.where((test_labels == 3) | (test_labels == 8))\n",
    "X_train, y_train = train_images[train_filter], train_labels[train_filter]\n",
    "X_test, y_test = test_images[test_filter], test_labels[test_filter]"
   ]
  },
  {
   "cell_type": "markdown",
   "id": "948f0b7e",
   "metadata": {
    "papermill": {
     "duration": 0.030116,
     "end_time": "2022-05-20T20:10:25.714994",
     "exception": false,
     "start_time": "2022-05-20T20:10:25.684878",
     "status": "completed"
    },
    "tags": []
   },
   "source": [
    "We normalize the pizel values in the 0 to 1 range"
   ]
  },
  {
   "cell_type": "code",
   "execution_count": 11,
   "id": "ee4c2166",
   "metadata": {
    "execution": {
     "iopub.execute_input": "2022-05-20T20:10:25.779830Z",
     "iopub.status.busy": "2022-05-20T20:10:25.779138Z",
     "iopub.status.idle": "2022-05-20T20:10:25.835175Z",
     "shell.execute_reply": "2022-05-20T20:10:25.834527Z"
    },
    "papermill": {
     "duration": 0.090272,
     "end_time": "2022-05-20T20:10:25.835315",
     "exception": false,
     "start_time": "2022-05-20T20:10:25.745043",
     "status": "completed"
    },
    "tags": []
   },
   "outputs": [],
   "source": [
    "X_train = X_train/255.\n",
    "X_test = X_test/255."
   ]
  },
  {
   "cell_type": "markdown",
   "id": "ddcf4fab",
   "metadata": {
    "papermill": {
     "duration": 0.030179,
     "end_time": "2022-05-20T20:10:25.895866",
     "exception": false,
     "start_time": "2022-05-20T20:10:25.865687",
     "status": "completed"
    },
    "tags": []
   },
   "source": [
    "And setup the labels as 1 (when the digit is 3) and 0 (when the digit is 8)"
   ]
  },
  {
   "cell_type": "code",
   "execution_count": 12,
   "id": "7dc908f2",
   "metadata": {
    "execution": {
     "iopub.execute_input": "2022-05-20T20:10:25.960965Z",
     "iopub.status.busy": "2022-05-20T20:10:25.960276Z",
     "iopub.status.idle": "2022-05-20T20:10:25.974990Z",
     "shell.execute_reply": "2022-05-20T20:10:25.974365Z"
    },
    "papermill": {
     "duration": 0.049354,
     "end_time": "2022-05-20T20:10:25.975128",
     "exception": false,
     "start_time": "2022-05-20T20:10:25.925774",
     "status": "completed"
    },
    "tags": []
   },
   "outputs": [],
   "source": [
    "y_train = 1*(y_train==3)\n",
    "y_test = 1*(y_test==3)"
   ]
  },
  {
   "cell_type": "code",
   "execution_count": 13,
   "id": "01e4e969",
   "metadata": {
    "execution": {
     "iopub.execute_input": "2022-05-20T20:10:26.041757Z",
     "iopub.status.busy": "2022-05-20T20:10:26.041075Z",
     "iopub.status.idle": "2022-05-20T20:10:26.056515Z",
     "shell.execute_reply": "2022-05-20T20:10:26.055942Z"
    },
    "papermill": {
     "duration": 0.051089,
     "end_time": "2022-05-20T20:10:26.056649",
     "exception": false,
     "start_time": "2022-05-20T20:10:26.005560",
     "status": "completed"
    },
    "tags": []
   },
   "outputs": [
    {
     "data": {
      "text/plain": [
       "((11982, 28, 28), (1984, 28, 28))"
      ]
     },
     "execution_count": 13,
     "metadata": {},
     "output_type": "execute_result"
    }
   ],
   "source": [
    "X_train.shape, X_test.shape"
   ]
  },
  {
   "cell_type": "markdown",
   "id": "5ccf3f85",
   "metadata": {
    "papermill": {
     "duration": 0.030348,
     "end_time": "2022-05-20T20:10:26.117457",
     "exception": false,
     "start_time": "2022-05-20T20:10:26.087109",
     "status": "completed"
    },
    "tags": []
   },
   "source": [
    "We reshape the data to flatten the image pixels into a set of features or co-variates:"
   ]
  },
  {
   "cell_type": "code",
   "execution_count": 14,
   "id": "5286a4a3",
   "metadata": {
    "execution": {
     "iopub.execute_input": "2022-05-20T20:10:26.185276Z",
     "iopub.status.busy": "2022-05-20T20:10:26.184583Z",
     "iopub.status.idle": "2022-05-20T20:10:26.201059Z",
     "shell.execute_reply": "2022-05-20T20:10:26.200365Z"
    },
    "papermill": {
     "duration": 0.053024,
     "end_time": "2022-05-20T20:10:26.201197",
     "exception": false,
     "start_time": "2022-05-20T20:10:26.148173",
     "status": "completed"
    },
    "tags": []
   },
   "outputs": [
    {
     "data": {
      "text/plain": [
       "((11982, 784), (1984, 784))"
      ]
     },
     "execution_count": 14,
     "metadata": {},
     "output_type": "execute_result"
    }
   ],
   "source": [
    "X_train = X_train.reshape(X_train.shape[0], -1)\n",
    "X_test = X_test.reshape(X_test.shape[0], -1)\n",
    "X_train.shape, X_test.shape"
   ]
  },
  {
   "cell_type": "code",
   "execution_count": 15,
   "id": "73c5f88a",
   "metadata": {
    "execution": {
     "iopub.execute_input": "2022-05-20T20:10:26.271658Z",
     "iopub.status.busy": "2022-05-20T20:10:26.270917Z",
     "iopub.status.idle": "2022-05-20T20:10:26.294138Z",
     "shell.execute_reply": "2022-05-20T20:10:26.293528Z"
    },
    "papermill": {
     "duration": 0.062126,
     "end_time": "2022-05-20T20:10:26.294289",
     "exception": false,
     "start_time": "2022-05-20T20:10:26.232163",
     "status": "completed"
    },
    "tags": []
   },
   "outputs": [],
   "source": [
    "#Impoting functions from 'Kudzu'\n",
    "from kudzu.model import Model\n",
    "from kudzu.train import Learner\n",
    "from kudzu.optim import GD\n",
    "from kudzu.data import Data, Sampler,Dataloader\n",
    "\n",
    "from kudzu.callbacks import AccCallback\n",
    "from kudzu.callbacks import ClfCallback\n",
    "\n",
    "from kudzu.loss import MSE\n",
    "\n",
    "from kudzu.layer import Sigmoid,Relu\n",
    "from kudzu.layer import Affine"
   ]
  },
  {
   "cell_type": "markdown",
   "id": "bc01172a",
   "metadata": {
    "papermill": {
     "duration": 0.030699,
     "end_time": "2022-05-20T20:10:26.356066",
     "exception": false,
     "start_time": "2022-05-20T20:10:26.325367",
     "status": "completed"
    },
    "tags": []
   },
   "source": [
    "### Let us create a `Config` class, to store important parameters. \n",
    "This class essentially plays the role of a dictionary."
   ]
  },
  {
   "cell_type": "code",
   "execution_count": 16,
   "id": "978281aa",
   "metadata": {
    "execution": {
     "iopub.execute_input": "2022-05-20T20:10:26.427082Z",
     "iopub.status.busy": "2022-05-20T20:10:26.426314Z",
     "iopub.status.idle": "2022-05-20T20:10:26.439849Z",
     "shell.execute_reply": "2022-05-20T20:10:26.439279Z"
    },
    "papermill": {
     "duration": 0.053074,
     "end_time": "2022-05-20T20:10:26.439996",
     "exception": false,
     "start_time": "2022-05-20T20:10:26.386922",
     "status": "completed"
    },
    "tags": []
   },
   "outputs": [],
   "source": [
    "class Config:\n",
    "    pass\n",
    "config = Config()\n",
    "config.lr = 0.001\n",
    "config.num_epochs = 250\n",
    "config.bs = 50"
   ]
  },
  {
   "cell_type": "markdown",
   "id": "1385fa59",
   "metadata": {
    "papermill": {
     "duration": 0.030596,
     "end_time": "2022-05-20T20:10:26.501449",
     "exception": false,
     "start_time": "2022-05-20T20:10:26.470853",
     "status": "completed"
    },
    "tags": []
   },
   "source": [
    "### Running Models with the Training data\n",
    "Details about the network layers:\n",
    "- A first affine layer has 784 inputs and does 100 affine transforms. These are followed by a Relu\n",
    "- A second affine layer has 100 inputs from the 100 activations of the past layer, and does 100 affine transforms. These are followed by a Relu\n",
    "- A third affine layer has 100 activations and does 2 affine transformations to create an embedding for visualization. There is no non-linearity here.\n",
    "- A final \"logistic regression\" which has an affine transform from 2 inputs to 1 output, which is squeezed through a sigmoid.\n"
   ]
  },
  {
   "cell_type": "code",
   "execution_count": 17,
   "id": "2b9c66db",
   "metadata": {
    "execution": {
     "iopub.execute_input": "2022-05-20T20:10:26.569392Z",
     "iopub.status.busy": "2022-05-20T20:10:26.568692Z",
     "iopub.status.idle": "2022-05-20T20:10:26.582675Z",
     "shell.execute_reply": "2022-05-20T20:10:26.582062Z"
    },
    "papermill": {
     "duration": 0.050583,
     "end_time": "2022-05-20T20:10:26.582817",
     "exception": false,
     "start_time": "2022-05-20T20:10:26.532234",
     "status": "completed"
    },
    "tags": []
   },
   "outputs": [],
   "source": [
    "data = Data(X_train, y_train.reshape(-1,1))\n",
    "sampler = Sampler(data, config.bs, shuffle=True)\n",
    "\n",
    "dl = Dataloader(data, sampler)\n",
    "\n",
    "opt = GD(config.lr)\n",
    "loss = MSE()"
   ]
  },
  {
   "cell_type": "code",
   "execution_count": 18,
   "id": "b275e4c2",
   "metadata": {
    "execution": {
     "iopub.execute_input": "2022-05-20T20:10:26.650050Z",
     "iopub.status.busy": "2022-05-20T20:10:26.649360Z",
     "iopub.status.idle": "2022-05-20T20:10:26.663573Z",
     "shell.execute_reply": "2022-05-20T20:10:26.662993Z"
    },
    "papermill": {
     "duration": 0.049985,
     "end_time": "2022-05-20T20:10:26.663708",
     "exception": false,
     "start_time": "2022-05-20T20:10:26.613723",
     "status": "completed"
    },
    "tags": []
   },
   "outputs": [],
   "source": [
    "training_data_x = X_train\n",
    "testing_data_x = X_test\n",
    "training_data_y = y_train.reshape(-1,1)\n",
    "testing_data_y = y_test.reshape(-1,1)"
   ]
  },
  {
   "cell_type": "code",
   "execution_count": 19,
   "id": "76951160",
   "metadata": {
    "execution": {
     "iopub.execute_input": "2022-05-20T20:10:26.731615Z",
     "iopub.status.busy": "2022-05-20T20:10:26.730893Z",
     "iopub.status.idle": "2022-05-20T20:10:26.751203Z",
     "shell.execute_reply": "2022-05-20T20:10:26.750593Z"
    },
    "papermill": {
     "duration": 0.056938,
     "end_time": "2022-05-20T20:10:26.751346",
     "exception": false,
     "start_time": "2022-05-20T20:10:26.694408",
     "status": "completed"
    },
    "tags": []
   },
   "outputs": [
    {
     "name": "stdout",
     "output_type": "stream",
     "text": [
      "xavier\n",
      "xavier\n",
      "xavier\n",
      "xavier\n",
      "xavier\n"
     ]
    }
   ],
   "source": [
    "layers = [Affine(\"first\", 784, 100), Relu(\"first\"), Affine(\"second\", 100, 100), Relu(\"second\"), Affine(\"third\", 100, 2), Affine(\"last\", 2, 1), Sigmoid(\"last\")]\n",
    "model_nn = Model(layers)\n",
    "model_lr = Model([Affine(\"logits\", 784, 1), Sigmoid(\"sigmoid\")])"
   ]
  },
  {
   "cell_type": "code",
   "execution_count": 20,
   "id": "6eede77a",
   "metadata": {
    "execution": {
     "iopub.execute_input": "2022-05-20T20:10:26.822659Z",
     "iopub.status.busy": "2022-05-20T20:10:26.821942Z",
     "iopub.status.idle": "2022-05-20T20:10:26.836513Z",
     "shell.execute_reply": "2022-05-20T20:10:26.837056Z"
    },
    "papermill": {
     "duration": 0.054478,
     "end_time": "2022-05-20T20:10:26.837216",
     "exception": false,
     "start_time": "2022-05-20T20:10:26.782738",
     "status": "completed"
    },
    "tags": []
   },
   "outputs": [],
   "source": [
    "nn_learner = Learner(loss, model_nn, opt, config.num_epochs)\n",
    "acc_nn = ClfCallback(nn_learner, config.bs, training_data_x , testing_data_x, training_data_y, testing_data_y)\n",
    "nn_learner.set_callbacks([acc_nn])"
   ]
  },
  {
   "cell_type": "code",
   "execution_count": 21,
   "id": "877b6cc7",
   "metadata": {
    "execution": {
     "iopub.execute_input": "2022-05-20T20:10:26.905135Z",
     "iopub.status.busy": "2022-05-20T20:10:26.904459Z",
     "iopub.status.idle": "2022-05-20T20:10:26.918407Z",
     "shell.execute_reply": "2022-05-20T20:10:26.917843Z"
    },
    "papermill": {
     "duration": 0.050271,
     "end_time": "2022-05-20T20:10:26.918567",
     "exception": false,
     "start_time": "2022-05-20T20:10:26.868296",
     "status": "completed"
    },
    "tags": []
   },
   "outputs": [],
   "source": [
    "lr_learner = Learner(loss, model_lr, opt, config.num_epochs)\n",
    "acc_lr = ClfCallback(lr_learner, config.bs, training_data_x , testing_data_x, training_data_y, testing_data_y)\n",
    "lr_learner.set_callbacks([acc_lr])"
   ]
  },
  {
   "cell_type": "code",
   "execution_count": 22,
   "id": "d9b133c3",
   "metadata": {
    "execution": {
     "iopub.execute_input": "2022-05-20T20:10:26.985296Z",
     "iopub.status.busy": "2022-05-20T20:10:26.984632Z",
     "iopub.status.idle": "2022-05-20T20:11:57.255276Z",
     "shell.execute_reply": "2022-05-20T20:11:57.255949Z"
    },
    "papermill": {
     "duration": 90.306757,
     "end_time": "2022-05-20T20:11:57.256112",
     "exception": false,
     "start_time": "2022-05-20T20:10:26.949355",
     "status": "completed"
    },
    "tags": []
   },
   "outputs": [
    {
     "name": "stdout",
     "output_type": "stream",
     "text": [
      "Epoch 0, Loss 0.2393\n",
      "Training Accuracy: 0.6810, Testing Accuracy: 0.6668\n",
      "\n"
     ]
    },
    {
     "name": "stdout",
     "output_type": "stream",
     "text": [
      "Epoch 10, Loss 0.1068\n",
      "Training Accuracy: 0.9137, Testing Accuracy: 0.9158\n",
      "\n"
     ]
    },
    {
     "name": "stdout",
     "output_type": "stream",
     "text": [
      "Epoch 20, Loss 0.0615\n",
      "Training Accuracy: 0.9377, Testing Accuracy: 0.9441\n",
      "\n"
     ]
    },
    {
     "name": "stdout",
     "output_type": "stream",
     "text": [
      "Epoch 30, Loss 0.0472\n",
      "Training Accuracy: 0.9488, Testing Accuracy: 0.9561\n",
      "\n"
     ]
    },
    {
     "name": "stdout",
     "output_type": "stream",
     "text": [
      "Epoch 40, Loss 0.0403\n",
      "Training Accuracy: 0.9548, Testing Accuracy: 0.9627\n",
      "\n"
     ]
    },
    {
     "name": "stdout",
     "output_type": "stream",
     "text": [
      "Epoch 50, Loss 0.0362\n",
      "Training Accuracy: 0.9588, Testing Accuracy: 0.9657\n",
      "\n"
     ]
    },
    {
     "name": "stdout",
     "output_type": "stream",
     "text": [
      "Epoch 60, Loss 0.0334\n",
      "Training Accuracy: 0.9613, Testing Accuracy: 0.9667\n",
      "\n"
     ]
    },
    {
     "name": "stdout",
     "output_type": "stream",
     "text": [
      "Epoch 70, Loss 0.0313\n",
      "Training Accuracy: 0.9640, Testing Accuracy: 0.9682\n",
      "\n"
     ]
    },
    {
     "name": "stdout",
     "output_type": "stream",
     "text": [
      "Epoch 80, Loss 0.0297\n",
      "Training Accuracy: 0.9660, Testing Accuracy: 0.9703\n",
      "\n"
     ]
    },
    {
     "name": "stdout",
     "output_type": "stream",
     "text": [
      "Epoch 90, Loss 0.0284\n",
      "Training Accuracy: 0.9672, Testing Accuracy: 0.9708\n",
      "\n"
     ]
    },
    {
     "name": "stdout",
     "output_type": "stream",
     "text": [
      "Epoch 100, Loss 0.0273\n",
      "Training Accuracy: 0.9683, Testing Accuracy: 0.9703\n",
      "\n"
     ]
    },
    {
     "name": "stdout",
     "output_type": "stream",
     "text": [
      "Epoch 110, Loss 0.0263\n",
      "Training Accuracy: 0.9697, Testing Accuracy: 0.9693\n",
      "\n"
     ]
    },
    {
     "name": "stdout",
     "output_type": "stream",
     "text": [
      "Epoch 120, Loss 0.0255\n",
      "Training Accuracy: 0.9709, Testing Accuracy: 0.9693\n",
      "\n"
     ]
    },
    {
     "name": "stdout",
     "output_type": "stream",
     "text": [
      "Epoch 130, Loss 0.0247\n",
      "Training Accuracy: 0.9713, Testing Accuracy: 0.9677\n",
      "\n"
     ]
    },
    {
     "name": "stdout",
     "output_type": "stream",
     "text": [
      "Epoch 140, Loss 0.0241\n",
      "Training Accuracy: 0.9720, Testing Accuracy: 0.9693\n",
      "\n"
     ]
    },
    {
     "name": "stdout",
     "output_type": "stream",
     "text": [
      "Epoch 150, Loss 0.0234\n",
      "Training Accuracy: 0.9735, Testing Accuracy: 0.9708\n",
      "\n"
     ]
    },
    {
     "name": "stdout",
     "output_type": "stream",
     "text": [
      "Epoch 160, Loss 0.0229\n",
      "Training Accuracy: 0.9741, Testing Accuracy: 0.9713\n",
      "\n"
     ]
    },
    {
     "name": "stdout",
     "output_type": "stream",
     "text": [
      "Epoch 170, Loss 0.0223\n",
      "Training Accuracy: 0.9745, Testing Accuracy: 0.9713\n",
      "\n"
     ]
    },
    {
     "name": "stdout",
     "output_type": "stream",
     "text": [
      "Epoch 180, Loss 0.0218\n",
      "Training Accuracy: 0.9750, Testing Accuracy: 0.9718\n",
      "\n"
     ]
    },
    {
     "name": "stdout",
     "output_type": "stream",
     "text": [
      "Epoch 190, Loss 0.0213\n",
      "Training Accuracy: 0.9757, Testing Accuracy: 0.9728\n",
      "\n"
     ]
    },
    {
     "name": "stdout",
     "output_type": "stream",
     "text": [
      "Epoch 200, Loss 0.0209\n",
      "Training Accuracy: 0.9760, Testing Accuracy: 0.9728\n",
      "\n"
     ]
    },
    {
     "name": "stdout",
     "output_type": "stream",
     "text": [
      "Epoch 210, Loss 0.0205\n",
      "Training Accuracy: 0.9767, Testing Accuracy: 0.9728\n",
      "\n"
     ]
    },
    {
     "name": "stdout",
     "output_type": "stream",
     "text": [
      "Epoch 220, Loss 0.02\n",
      "Training Accuracy: 0.9775, Testing Accuracy: 0.9733\n",
      "\n"
     ]
    },
    {
     "name": "stdout",
     "output_type": "stream",
     "text": [
      "Epoch 230, Loss 0.0196\n",
      "Training Accuracy: 0.9779, Testing Accuracy: 0.9733\n",
      "\n"
     ]
    },
    {
     "name": "stdout",
     "output_type": "stream",
     "text": [
      "Epoch 240, Loss 0.0193\n",
      "Training Accuracy: 0.9786, Testing Accuracy: 0.9733\n",
      "\n"
     ]
    },
    {
     "data": {
      "text/plain": [
       "0.020458926653534867"
      ]
     },
     "execution_count": 22,
     "metadata": {},
     "output_type": "execute_result"
    }
   ],
   "source": [
    "nn_learner.train_loop(dl)"
   ]
  },
  {
   "cell_type": "code",
   "execution_count": 23,
   "id": "e0163366",
   "metadata": {
    "execution": {
     "iopub.execute_input": "2022-05-20T20:11:57.344618Z",
     "iopub.status.busy": "2022-05-20T20:11:57.343901Z",
     "iopub.status.idle": "2022-05-20T20:12:13.156534Z",
     "shell.execute_reply": "2022-05-20T20:12:13.157531Z"
    },
    "papermill": {
     "duration": 15.862488,
     "end_time": "2022-05-20T20:12:13.157707",
     "exception": false,
     "start_time": "2022-05-20T20:11:57.295219",
     "status": "completed"
    },
    "tags": []
   },
   "outputs": [
    {
     "name": "stdout",
     "output_type": "stream",
     "text": [
      "Epoch 0, Loss 0.291\n",
      "Training Accuracy: 0.4774, Testing Accuracy: 0.5106\n",
      "\n"
     ]
    },
    {
     "name": "stdout",
     "output_type": "stream",
     "text": [
      "Epoch 10, Loss 0.105\n",
      "Training Accuracy: 0.9135, Testing Accuracy: 0.9269\n",
      "\n"
     ]
    },
    {
     "name": "stdout",
     "output_type": "stream",
     "text": [
      "Epoch 20, Loss 0.0792\n",
      "Training Accuracy: 0.9293, Testing Accuracy: 0.9370\n",
      "\n"
     ]
    },
    {
     "name": "stdout",
     "output_type": "stream",
     "text": [
      "Epoch 30, Loss 0.0679\n",
      "Training Accuracy: 0.9372, Testing Accuracy: 0.9471\n",
      "\n"
     ]
    },
    {
     "name": "stdout",
     "output_type": "stream",
     "text": [
      "Epoch 40, Loss 0.0613\n",
      "Training Accuracy: 0.9425, Testing Accuracy: 0.9506\n",
      "\n"
     ]
    },
    {
     "name": "stdout",
     "output_type": "stream",
     "text": [
      "Epoch 50, Loss 0.0568\n",
      "Training Accuracy: 0.9456, Testing Accuracy: 0.9556\n",
      "\n"
     ]
    },
    {
     "name": "stdout",
     "output_type": "stream",
     "text": [
      "Epoch 60, Loss 0.0535\n",
      "Training Accuracy: 0.9476, Testing Accuracy: 0.9587\n",
      "\n"
     ]
    },
    {
     "name": "stdout",
     "output_type": "stream",
     "text": [
      "Epoch 70, Loss 0.051\n",
      "Training Accuracy: 0.9493, Testing Accuracy: 0.9592\n",
      "\n"
     ]
    },
    {
     "name": "stdout",
     "output_type": "stream",
     "text": [
      "Epoch 80, Loss 0.049\n",
      "Training Accuracy: 0.9507, Testing Accuracy: 0.9617\n",
      "\n"
     ]
    },
    {
     "name": "stdout",
     "output_type": "stream",
     "text": [
      "Epoch 90, Loss 0.0473\n",
      "Training Accuracy: 0.9522, Testing Accuracy: 0.9622\n",
      "\n"
     ]
    },
    {
     "name": "stdout",
     "output_type": "stream",
     "text": [
      "Epoch 100, Loss 0.0459\n",
      "Training Accuracy: 0.9533, Testing Accuracy: 0.9642\n",
      "\n"
     ]
    },
    {
     "name": "stdout",
     "output_type": "stream",
     "text": [
      "Epoch 110, Loss 0.0447\n",
      "Training Accuracy: 0.9542, Testing Accuracy: 0.9647\n",
      "\n"
     ]
    },
    {
     "name": "stdout",
     "output_type": "stream",
     "text": [
      "Epoch 120, Loss 0.0436\n",
      "Training Accuracy: 0.9554, Testing Accuracy: 0.9652\n",
      "\n"
     ]
    },
    {
     "name": "stdout",
     "output_type": "stream",
     "text": [
      "Epoch 130, Loss 0.0427\n",
      "Training Accuracy: 0.9558, Testing Accuracy: 0.9652\n",
      "\n"
     ]
    },
    {
     "name": "stdout",
     "output_type": "stream",
     "text": [
      "Epoch 140, Loss 0.0419\n",
      "Training Accuracy: 0.9566, Testing Accuracy: 0.9657\n",
      "\n"
     ]
    },
    {
     "name": "stdout",
     "output_type": "stream",
     "text": [
      "Epoch 150, Loss 0.0412\n",
      "Training Accuracy: 0.9574, Testing Accuracy: 0.9652\n",
      "\n"
     ]
    },
    {
     "name": "stdout",
     "output_type": "stream",
     "text": [
      "Epoch 160, Loss 0.0405\n",
      "Training Accuracy: 0.9581, Testing Accuracy: 0.9652\n",
      "\n"
     ]
    },
    {
     "name": "stdout",
     "output_type": "stream",
     "text": [
      "Epoch 170, Loss 0.0399\n",
      "Training Accuracy: 0.9581, Testing Accuracy: 0.9652\n",
      "\n"
     ]
    },
    {
     "name": "stdout",
     "output_type": "stream",
     "text": [
      "Epoch 180, Loss 0.0393\n",
      "Training Accuracy: 0.9584, Testing Accuracy: 0.9652\n",
      "\n"
     ]
    },
    {
     "name": "stdout",
     "output_type": "stream",
     "text": [
      "Epoch 190, Loss 0.0388\n",
      "Training Accuracy: 0.9587, Testing Accuracy: 0.9657\n",
      "\n"
     ]
    },
    {
     "name": "stdout",
     "output_type": "stream",
     "text": [
      "Epoch 200, Loss 0.0383\n",
      "Training Accuracy: 0.9590, Testing Accuracy: 0.9667\n",
      "\n"
     ]
    },
    {
     "name": "stdout",
     "output_type": "stream",
     "text": [
      "Epoch 210, Loss 0.0379\n",
      "Training Accuracy: 0.9594, Testing Accuracy: 0.9662\n",
      "\n"
     ]
    },
    {
     "name": "stdout",
     "output_type": "stream",
     "text": [
      "Epoch 220, Loss 0.0375\n",
      "Training Accuracy: 0.9598, Testing Accuracy: 0.9667\n",
      "\n"
     ]
    },
    {
     "name": "stdout",
     "output_type": "stream",
     "text": [
      "Epoch 230, Loss 0.0371\n",
      "Training Accuracy: 0.9600, Testing Accuracy: 0.9672\n",
      "\n"
     ]
    },
    {
     "name": "stdout",
     "output_type": "stream",
     "text": [
      "Epoch 240, Loss 0.0368\n",
      "Training Accuracy: 0.9599, Testing Accuracy: 0.9672\n",
      "\n"
     ]
    },
    {
     "data": {
      "text/plain": [
       "0.01944504562938948"
      ]
     },
     "execution_count": 23,
     "metadata": {},
     "output_type": "execute_result"
    }
   ],
   "source": [
    "lr_learner.train_loop(dl)"
   ]
  },
  {
   "cell_type": "code",
   "execution_count": 24,
   "id": "ca410940",
   "metadata": {
    "execution": {
     "iopub.execute_input": "2022-05-20T20:12:13.268161Z",
     "iopub.status.busy": "2022-05-20T20:12:13.267435Z",
     "iopub.status.idle": "2022-05-20T20:12:13.521568Z",
     "shell.execute_reply": "2022-05-20T20:12:13.522110Z"
    },
    "papermill": {
     "duration": 0.317755,
     "end_time": "2022-05-20T20:12:13.522279",
     "exception": false,
     "start_time": "2022-05-20T20:12:13.204524",
     "status": "completed"
    },
    "tags": []
   },
   "outputs": [
    {
     "data": {
      "text/plain": [
       "<matplotlib.legend.Legend at 0x7f1ab79014e0>"
      ]
     },
     "execution_count": 24,
     "metadata": {},
     "output_type": "execute_result"
    },
    {
     "data": {
      "image/png": "[encoded data removed]",
      "text/plain": [
       "<Figure size 1080x720 with 1 Axes>"
      ]
     },
     "metadata": {
      "needs_background": "light"
     },
     "output_type": "display_data"
    }
   ],
   "source": [
    "#comparing the results of NN and LR\n",
    "plt.figure(figsize=(15,10))\n",
    "\n",
    "# Neural Network plots\n",
    "plt.plot(acc_nn.accuracies, 'r-', label = \"Training Accuracies - NN\")\n",
    "plt.plot(acc_nn.test_accuracies, 'g-', label = \"Testing Accuracies - NN\")\n",
    "\n",
    "# Logistic Regression plots\n",
    "plt.plot(acc_lr.accuracies, 'k-', label = \"Training Accuracies - LR\")\n",
    "plt.plot(acc_lr.test_accuracies, 'b-', label = \"Testing Accuracies - LR\")\n",
    "plt.legend()"
   ]
  },
  {
   "cell_type": "markdown",
   "id": "80dfb35c",
   "metadata": {
    "papermill": {
     "duration": 0.046561,
     "end_time": "2022-05-20T20:12:13.615602",
     "exception": false,
     "start_time": "2022-05-20T20:12:13.569041",
     "status": "completed"
    },
    "tags": []
   },
   "source": [
    "#### Plotting the outputs of this layer of the NN.\n"
   ]
  },
  {
   "cell_type": "code",
   "execution_count": 25,
   "id": "45eb2ff5",
   "metadata": {
    "execution": {
     "iopub.execute_input": "2022-05-20T20:12:13.715739Z",
     "iopub.status.busy": "2022-05-20T20:12:13.714980Z",
     "iopub.status.idle": "2022-05-20T20:12:13.741271Z",
     "shell.execute_reply": "2022-05-20T20:12:13.740632Z"
    },
    "papermill": {
     "duration": 0.079514,
     "end_time": "2022-05-20T20:12:13.741412",
     "exception": false,
     "start_time": "2022-05-20T20:12:13.661898",
     "status": "completed"
    },
    "tags": []
   },
   "outputs": [],
   "source": [
    "new_model = Model(layers[:-2])\n",
    "testing_plot = new_model(testing_data_x)"
   ]
  },
  {
   "cell_type": "code",
   "execution_count": 26,
   "id": "4c0a5485",
   "metadata": {
    "execution": {
     "iopub.execute_input": "2022-05-20T20:12:13.842320Z",
     "iopub.status.busy": "2022-05-20T20:12:13.841621Z",
     "iopub.status.idle": "2022-05-20T20:12:14.111127Z",
     "shell.execute_reply": "2022-05-20T20:12:14.111685Z"
    },
    "papermill": {
     "duration": 0.322605,
     "end_time": "2022-05-20T20:12:14.111846",
     "exception": false,
     "start_time": "2022-05-20T20:12:13.789241",
     "status": "completed"
    },
    "tags": []
   },
   "outputs": [
    {
     "data": {
      "text/plain": [
       "Text(0.5, 1.0, 'Outputs')"
      ]
     },
     "execution_count": 26,
     "metadata": {},
     "output_type": "execute_result"
    },
    {
     "data": {
      "image/png": "[encoded data removed]",
      "text/plain": [
       "<Figure size 576x504 with 1 Axes>"
      ]
     },
     "metadata": {
      "needs_background": "light"
     },
     "output_type": "display_data"
    }
   ],
   "source": [
    "# Plotting the scatter plot of points and color coding by class\n",
    "plt.figure(figsize=(8,7))\n",
    "plt.scatter(testing_plot[:,0], testing_plot[:,1], alpha = 0.1, c = y_test.ravel());\n",
    "plt.title('Outputs')"
   ]
  },
  {
   "cell_type": "markdown",
   "id": "a74fcf8f",
   "metadata": {
    "papermill": {
     "duration": 0.051073,
     "end_time": "2022-05-20T20:12:14.212793",
     "exception": false,
     "start_time": "2022-05-20T20:12:14.161720",
     "status": "completed"
    },
    "tags": []
   },
   "source": [
    "Probability contours"
   ]
  },
  {
   "cell_type": "code",
   "execution_count": 27,
   "id": "d0afc8e3",
   "metadata": {
    "execution": {
     "iopub.execute_input": "2022-05-20T20:12:14.355399Z",
     "iopub.status.busy": "2022-05-20T20:12:14.354697Z",
     "iopub.status.idle": "2022-05-20T20:12:14.369408Z",
     "shell.execute_reply": "2022-05-20T20:12:14.368835Z"
    },
    "papermill": {
     "duration": 0.069868,
     "end_time": "2022-05-20T20:12:14.369538",
     "exception": false,
     "start_time": "2022-05-20T20:12:14.299670",
     "status": "completed"
    },
    "tags": []
   },
   "outputs": [],
   "source": [
    "model_prob = Model(layers[-2:]) "
   ]
  },
  {
   "cell_type": "code",
   "execution_count": 28,
   "id": "9b96e238",
   "metadata": {
    "execution": {
     "iopub.execute_input": "2022-05-20T20:12:14.476019Z",
     "iopub.status.busy": "2022-05-20T20:12:14.475304Z",
     "iopub.status.idle": "2022-05-20T20:12:14.492025Z",
     "shell.execute_reply": "2022-05-20T20:12:14.493089Z"
    },
    "papermill": {
     "duration": 0.073446,
     "end_time": "2022-05-20T20:12:14.493254",
     "exception": false,
     "start_time": "2022-05-20T20:12:14.419808",
     "status": "completed"
    },
    "tags": []
   },
   "outputs": [],
   "source": [
    "#creating the x and y ranges according to the above generated plot.\n",
    "x_range = np.linspace(-4, 1, 100) \n",
    "y_range = np.linspace(-6, 6, 100) \n",
    "x_grid, y_grid = np.meshgrid(x_range, y_range) # x_grid and y_grig are of size 100 X 100\n",
    "\n",
    "# converting x_grid and y_grid to continuous arrays\n",
    "x_gridflat = np.ravel(x_grid)\n",
    "y_gridflat = np.ravel(y_grid)\n",
    "\n",
    "# The last layer of the current model takes two columns as input. Hence transpose of np.vstack() is required.\n",
    "X = np.vstack((x_gridflat, y_gridflat)).T\n",
    "\n",
    "prob_contour = model_prob(X).reshape(100,100) "
   ]
  },
  {
   "cell_type": "code",
   "execution_count": 29,
   "id": "da72499a",
   "metadata": {
    "execution": {
     "iopub.execute_input": "2022-05-20T20:12:14.605628Z",
     "iopub.status.busy": "2022-05-20T20:12:14.604919Z",
     "iopub.status.idle": "2022-05-20T20:12:14.907214Z",
     "shell.execute_reply": "2022-05-20T20:12:14.907781Z"
    },
    "papermill": {
     "duration": 0.360563,
     "end_time": "2022-05-20T20:12:14.907940",
     "exception": false,
     "start_time": "2022-05-20T20:12:14.547377",
     "status": "completed"
    },
    "tags": []
   },
   "outputs": [
    {
     "data": {
      "image/png": "[encoded data removed]",
      "text/plain": [
       "<Figure size 720x648 with 1 Axes>"
      ]
     },
     "metadata": {
      "needs_background": "light"
     },
     "output_type": "display_data"
    }
   ],
   "source": [
    "plt.figure(figsize=(10,9))\n",
    "plt.scatter(testing_plot[:,0], testing_plot[:,1], alpha = 0.1, c = y_test.ravel())\n",
    "contours = plt.contour(x_grid,y_grid,prob_contour)\n",
    "plt.title('Probability Contours')\n",
    "plt.clabel(contours, inline = True );"
   ]
  },
  {
   "cell_type": "code",
   "execution_count": null,
   "id": "e81b4ac7",
   "metadata": {
    "papermill": {
     "duration": 0.055193,
     "end_time": "2022-05-20T20:12:15.020132",
     "exception": false,
     "start_time": "2022-05-20T20:12:14.964939",
     "status": "completed"
    },
    "tags": []
   },
   "outputs": [],
   "source": []
  }
 ],
 "metadata": {
  "kernelspec": {
   "display_name": "Python 3",
   "language": "python",
   "name": "python3"
  },
  "language_info": {
   "codemirror_mode": {
    "name": "ipython",
    "version": 3
   },
   "file_extension": ".py",
   "mimetype": "text/x-python",
   "name": "python",
   "nbconvert_exporter": "python",
   "pygments_lexer": "ipython3",
   "version": "3.6.15"
  },
  "papermill": {
   "default_parameters": {},
   "duration": 115.685761,
   "end_time": "2022-05-20T20:12:15.498415",
   "environment_variables": {},
   "exception": null,
   "input_path": "2020-08-11-part2.ipynb",
   "output_path": "2020-08-11-part2.ipynb",
   "parameters": {},
   "start_time": "2022-05-20T20:10:19.812654",
   "version": "2.3.3"
  }
 },
 "nbformat": 4,
 "nbformat_minor": 5
}