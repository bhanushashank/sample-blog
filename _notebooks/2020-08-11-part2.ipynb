{
 "cells": [
  {
   "cell_type": "markdown",
   "id": "98380cd3",
   "metadata": {
    "papermill": {
     "duration": 0.031932,
     "end_time": "2022-05-10T00:38:20.967833",
     "exception": false,
     "start_time": "2022-05-10T00:38:20.935901",
     "status": "completed"
    },
    "tags": []
   },
   "source": [
    "# Distinguish Your Own Digits (DYOD)"
   ]
  },
  {
   "cell_type": "markdown",
   "id": "ef31240d",
   "metadata": {
    "papermill": {
     "duration": 0.027408,
     "end_time": "2022-05-10T00:38:21.021871",
     "exception": false,
     "start_time": "2022-05-10T00:38:20.994463",
     "status": "completed"
    },
    "tags": []
   },
   "source": [
    "You are going to write a classifier that distinguishes between the number 3 and number 8."
   ]
  },
  {
   "cell_type": "code",
   "execution_count": 1,
   "id": "b15c8646",
   "metadata": {
    "execution": {
     "iopub.execute_input": "2022-05-10T00:38:21.087000Z",
     "iopub.status.busy": "2022-05-10T00:38:21.086421Z",
     "iopub.status.idle": "2022-05-10T00:38:21.097601Z",
     "shell.execute_reply": "2022-05-10T00:38:21.098112Z"
    },
    "papermill": {
     "duration": 0.051022,
     "end_time": "2022-05-10T00:38:21.098268",
     "exception": false,
     "start_time": "2022-05-10T00:38:21.047246",
     "status": "completed"
    },
    "tags": []
   },
   "outputs": [],
   "source": [
    "%load_ext autoreload\n",
    "%autoreload 2"
   ]
  },
  {
   "cell_type": "code",
   "execution_count": 2,
   "id": "22ef38dc",
   "metadata": {
    "execution": {
     "iopub.execute_input": "2022-05-10T00:38:21.153807Z",
     "iopub.status.busy": "2022-05-10T00:38:21.153228Z",
     "iopub.status.idle": "2022-05-10T00:38:21.736840Z",
     "shell.execute_reply": "2022-05-10T00:38:21.736296Z"
    },
    "papermill": {
     "duration": 0.613493,
     "end_time": "2022-05-10T00:38:21.736981",
     "exception": false,
     "start_time": "2022-05-10T00:38:21.123488",
     "status": "completed"
    },
    "tags": []
   },
   "outputs": [],
   "source": [
    "%matplotlib inline\n",
    "import numpy as np\n",
    "import matplotlib.pyplot as plt\n",
    "import pandas as pd"
   ]
  },
  {
   "cell_type": "markdown",
   "id": "ba036198",
   "metadata": {
    "papermill": {
     "duration": 0.025749,
     "end_time": "2022-05-10T00:38:21.788695",
     "exception": false,
     "start_time": "2022-05-10T00:38:21.762946",
     "status": "completed"
    },
    "tags": []
   },
   "source": [
    "From the command line run `pip install mnist`. This is a library that will help you bring down the mnist dataset. If you run this from a notebook, you need to put  `!pip install mnist` in a cell by itself."
   ]
  },
  {
   "cell_type": "code",
   "execution_count": 3,
   "id": "bb6ad8a1",
   "metadata": {
    "execution": {
     "iopub.execute_input": "2022-05-10T00:38:21.845396Z",
     "iopub.status.busy": "2022-05-10T00:38:21.844809Z",
     "iopub.status.idle": "2022-05-10T00:38:23.781482Z",
     "shell.execute_reply": "2022-05-10T00:38:23.780593Z"
    },
    "papermill": {
     "duration": 1.967277,
     "end_time": "2022-05-10T00:38:23.781629",
     "exception": false,
     "start_time": "2022-05-10T00:38:21.814352",
     "status": "completed"
    },
    "tags": []
   },
   "outputs": [
    {
     "name": "stdout",
     "output_type": "stream",
     "text": [
      "Collecting mnist\r\n"
     ]
    },
    {
     "name": "stdout",
     "output_type": "stream",
     "text": [
      "  Downloading mnist-0.2.2-py2.py3-none-any.whl (3.5 kB)\r\n",
      "Requirement already satisfied: numpy in /opt/hostedtoolcache/Python/3.6.15/x64/lib/python3.6/site-packages (from mnist) (1.19.5)\r\n"
     ]
    },
    {
     "name": "stdout",
     "output_type": "stream",
     "text": [
      "Installing collected packages: mnist\r\n",
      "Successfully installed mnist-0.2.2\r\n"
     ]
    }
   ],
   "source": [
    "!pip install mnist"
   ]
  },
  {
   "cell_type": "markdown",
   "id": "69df9c9a",
   "metadata": {
    "papermill": {
     "duration": 0.027703,
     "end_time": "2022-05-10T00:38:23.837362",
     "exception": false,
     "start_time": "2022-05-10T00:38:23.809659",
     "status": "completed"
    },
    "tags": []
   },
   "source": [
    "## Preparing the Data"
   ]
  },
  {
   "cell_type": "code",
   "execution_count": 4,
   "id": "7f69d806",
   "metadata": {
    "execution": {
     "iopub.execute_input": "2022-05-10T00:38:23.897968Z",
     "iopub.status.busy": "2022-05-10T00:38:23.897290Z",
     "iopub.status.idle": "2022-05-10T00:38:23.915014Z",
     "shell.execute_reply": "2022-05-10T00:38:23.914520Z"
    },
    "papermill": {
     "duration": 0.049995,
     "end_time": "2022-05-10T00:38:23.915145",
     "exception": false,
     "start_time": "2022-05-10T00:38:23.865150",
     "status": "completed"
    },
    "tags": []
   },
   "outputs": [],
   "source": [
    "import mnist"
   ]
  },
  {
   "cell_type": "code",
   "execution_count": 5,
   "id": "a411e44f",
   "metadata": {
    "execution": {
     "iopub.execute_input": "2022-05-10T00:38:23.977013Z",
     "iopub.status.busy": "2022-05-10T00:38:23.976428Z",
     "iopub.status.idle": "2022-05-10T00:38:24.606686Z",
     "shell.execute_reply": "2022-05-10T00:38:24.606040Z"
    },
    "papermill": {
     "duration": 0.663639,
     "end_time": "2022-05-10T00:38:24.606820",
     "exception": false,
     "start_time": "2022-05-10T00:38:23.943181",
     "status": "completed"
    },
    "tags": []
   },
   "outputs": [],
   "source": [
    "train_images = mnist.train_images()\n",
    "train_labels = mnist.train_labels()"
   ]
  },
  {
   "cell_type": "code",
   "execution_count": 6,
   "id": "dceab3a5",
   "metadata": {
    "execution": {
     "iopub.execute_input": "2022-05-10T00:38:24.667027Z",
     "iopub.status.busy": "2022-05-10T00:38:24.666475Z",
     "iopub.status.idle": "2022-05-10T00:38:24.681487Z",
     "shell.execute_reply": "2022-05-10T00:38:24.680983Z"
    },
    "papermill": {
     "duration": 0.04816,
     "end_time": "2022-05-10T00:38:24.681609",
     "exception": false,
     "start_time": "2022-05-10T00:38:24.633449",
     "status": "completed"
    },
    "tags": []
   },
   "outputs": [
    {
     "data": {
      "text/plain": [
       "((60000, 28, 28), (60000,))"
      ]
     },
     "execution_count": 6,
     "metadata": {},
     "output_type": "execute_result"
    }
   ],
   "source": [
    "train_images.shape, train_labels.shape"
   ]
  },
  {
   "cell_type": "code",
   "execution_count": 7,
   "id": "f50dc2bb",
   "metadata": {
    "execution": {
     "iopub.execute_input": "2022-05-10T00:38:24.739971Z",
     "iopub.status.busy": "2022-05-10T00:38:24.739380Z",
     "iopub.status.idle": "2022-05-10T00:38:24.897995Z",
     "shell.execute_reply": "2022-05-10T00:38:24.897014Z"
    },
    "papermill": {
     "duration": 0.189822,
     "end_time": "2022-05-10T00:38:24.898219",
     "exception": false,
     "start_time": "2022-05-10T00:38:24.708397",
     "status": "completed"
    },
    "tags": []
   },
   "outputs": [],
   "source": [
    "test_images = mnist.test_images()\n",
    "test_labels = mnist.test_labels()"
   ]
  },
  {
   "cell_type": "code",
   "execution_count": 8,
   "id": "fc38cf1b",
   "metadata": {
    "execution": {
     "iopub.execute_input": "2022-05-10T00:38:24.962523Z",
     "iopub.status.busy": "2022-05-10T00:38:24.961902Z",
     "iopub.status.idle": "2022-05-10T00:38:24.975557Z",
     "shell.execute_reply": "2022-05-10T00:38:24.976129Z"
    },
    "papermill": {
     "duration": 0.048827,
     "end_time": "2022-05-10T00:38:24.976274",
     "exception": false,
     "start_time": "2022-05-10T00:38:24.927447",
     "status": "completed"
    },
    "tags": []
   },
   "outputs": [
    {
     "data": {
      "text/plain": [
       "((10000, 28, 28), (10000,))"
      ]
     },
     "execution_count": 8,
     "metadata": {},
     "output_type": "execute_result"
    }
   ],
   "source": [
    "test_images.shape, test_labels.shape"
   ]
  },
  {
   "cell_type": "code",
   "execution_count": 9,
   "id": "f9ed8fe0",
   "metadata": {
    "execution": {
     "iopub.execute_input": "2022-05-10T00:38:25.035417Z",
     "iopub.status.busy": "2022-05-10T00:38:25.034337Z",
     "iopub.status.idle": "2022-05-10T00:38:25.190417Z",
     "shell.execute_reply": "2022-05-10T00:38:25.191261Z"
    },
    "papermill": {
     "duration": 0.187562,
     "end_time": "2022-05-10T00:38:25.191506",
     "exception": false,
     "start_time": "2022-05-10T00:38:25.003944",
     "status": "completed"
    },
    "tags": []
   },
   "outputs": [
    {
     "name": "stdout",
     "output_type": "stream",
     "text": [
      "2\n"
     ]
    },
    {
     "data": {
      "text/plain": [
       "<matplotlib.image.AxesImage at 0x7f0490210898>"
      ]
     },
     "execution_count": 9,
     "metadata": {},
     "output_type": "execute_result"
    },
    {
     "data": {
      "image/png": "[encoded data removed]",
      "text/plain": [
       "<Figure size 432x288 with 1 Axes>"
      ]
     },
     "metadata": {
      "needs_background": "light"
     },
     "output_type": "display_data"
    }
   ],
   "source": [
    "image_index = 7776 # You may select anything up to 60,000\n",
    "print(train_labels[image_index]) \n",
    "plt.imshow(train_images[image_index], cmap='Greys')"
   ]
  },
  {
   "cell_type": "markdown",
   "id": "a8d2388d",
   "metadata": {
    "papermill": {
     "duration": 0.028575,
     "end_time": "2022-05-10T00:38:25.249440",
     "exception": false,
     "start_time": "2022-05-10T00:38:25.220865",
     "status": "completed"
    },
    "tags": []
   },
   "source": [
    "## Filter data to get 3 and 8 out"
   ]
  },
  {
   "cell_type": "code",
   "execution_count": 10,
   "id": "776f7fc7",
   "metadata": {
    "execution": {
     "iopub.execute_input": "2022-05-10T00:38:25.309641Z",
     "iopub.status.busy": "2022-05-10T00:38:25.309080Z",
     "iopub.status.idle": "2022-05-10T00:38:25.328054Z",
     "shell.execute_reply": "2022-05-10T00:38:25.328607Z"
    },
    "papermill": {
     "duration": 0.051398,
     "end_time": "2022-05-10T00:38:25.328781",
     "exception": false,
     "start_time": "2022-05-10T00:38:25.277383",
     "status": "completed"
    },
    "tags": []
   },
   "outputs": [],
   "source": [
    "train_filter = np.where((train_labels == 3 ) | (train_labels == 8))\n",
    "test_filter = np.where((test_labels == 3) | (test_labels == 8))\n",
    "X_train, y_train = train_images[train_filter], train_labels[train_filter]\n",
    "X_test, y_test = test_images[test_filter], test_labels[test_filter]"
   ]
  },
  {
   "cell_type": "markdown",
   "id": "948f0b7e",
   "metadata": {
    "papermill": {
     "duration": 0.028921,
     "end_time": "2022-05-10T00:38:25.387944",
     "exception": false,
     "start_time": "2022-05-10T00:38:25.359023",
     "status": "completed"
    },
    "tags": []
   },
   "source": [
    "We normalize the pizel values in the 0 to 1 range"
   ]
  },
  {
   "cell_type": "code",
   "execution_count": 11,
   "id": "ee4c2166",
   "metadata": {
    "execution": {
     "iopub.execute_input": "2022-05-10T00:38:25.448915Z",
     "iopub.status.busy": "2022-05-10T00:38:25.448348Z",
     "iopub.status.idle": "2022-05-10T00:38:25.501380Z",
     "shell.execute_reply": "2022-05-10T00:38:25.500518Z"
    },
    "papermill": {
     "duration": 0.085776,
     "end_time": "2022-05-10T00:38:25.501596",
     "exception": false,
     "start_time": "2022-05-10T00:38:25.415820",
     "status": "completed"
    },
    "tags": []
   },
   "outputs": [],
   "source": [
    "X_train = X_train/255.\n",
    "X_test = X_test/255."
   ]
  },
  {
   "cell_type": "markdown",
   "id": "ddcf4fab",
   "metadata": {
    "papermill": {
     "duration": 0.028558,
     "end_time": "2022-05-10T00:38:25.561308",
     "exception": false,
     "start_time": "2022-05-10T00:38:25.532750",
     "status": "completed"
    },
    "tags": []
   },
   "source": [
    "And setup the labels as 1 (when the digit is 3) and 0 (when the digit is 8)"
   ]
  },
  {
   "cell_type": "code",
   "execution_count": 12,
   "id": "7dc908f2",
   "metadata": {
    "execution": {
     "iopub.execute_input": "2022-05-10T00:38:25.622029Z",
     "iopub.status.busy": "2022-05-10T00:38:25.620946Z",
     "iopub.status.idle": "2022-05-10T00:38:25.637613Z",
     "shell.execute_reply": "2022-05-10T00:38:25.637165Z"
    },
    "papermill": {
     "duration": 0.048236,
     "end_time": "2022-05-10T00:38:25.637764",
     "exception": false,
     "start_time": "2022-05-10T00:38:25.589528",
     "status": "completed"
    },
    "tags": []
   },
   "outputs": [],
   "source": [
    "y_train = 1*(y_train==3)\n",
    "y_test = 1*(y_test==3)"
   ]
  },
  {
   "cell_type": "code",
   "execution_count": 13,
   "id": "01e4e969",
   "metadata": {
    "execution": {
     "iopub.execute_input": "2022-05-10T00:38:25.699009Z",
     "iopub.status.busy": "2022-05-10T00:38:25.698398Z",
     "iopub.status.idle": "2022-05-10T00:38:25.713010Z",
     "shell.execute_reply": "2022-05-10T00:38:25.712567Z"
    },
    "papermill": {
     "duration": 0.047318,
     "end_time": "2022-05-10T00:38:25.713124",
     "exception": false,
     "start_time": "2022-05-10T00:38:25.665806",
     "status": "completed"
    },
    "tags": []
   },
   "outputs": [
    {
     "data": {
      "text/plain": [
       "((11982, 28, 28), (1984, 28, 28))"
      ]
     },
     "execution_count": 13,
     "metadata": {},
     "output_type": "execute_result"
    }
   ],
   "source": [
    "X_train.shape, X_test.shape"
   ]
  },
  {
   "cell_type": "markdown",
   "id": "5ccf3f85",
   "metadata": {
    "papermill": {
     "duration": 0.028413,
     "end_time": "2022-05-10T00:38:25.769355",
     "exception": false,
     "start_time": "2022-05-10T00:38:25.740942",
     "status": "completed"
    },
    "tags": []
   },
   "source": [
    "We reshape the data to flatten the image pixels into a set of features or co-variates:"
   ]
  },
  {
   "cell_type": "code",
   "execution_count": 14,
   "id": "5286a4a3",
   "metadata": {
    "execution": {
     "iopub.execute_input": "2022-05-10T00:38:25.830438Z",
     "iopub.status.busy": "2022-05-10T00:38:25.829881Z",
     "iopub.status.idle": "2022-05-10T00:38:25.845118Z",
     "shell.execute_reply": "2022-05-10T00:38:25.844677Z"
    },
    "papermill": {
     "duration": 0.047622,
     "end_time": "2022-05-10T00:38:25.845232",
     "exception": false,
     "start_time": "2022-05-10T00:38:25.797610",
     "status": "completed"
    },
    "tags": []
   },
   "outputs": [
    {
     "data": {
      "text/plain": [
       "((11982, 784), (1984, 784))"
      ]
     },
     "execution_count": 14,
     "metadata": {},
     "output_type": "execute_result"
    }
   ],
   "source": [
    "X_train = X_train.reshape(X_train.shape[0], -1)\n",
    "X_test = X_test.reshape(X_test.shape[0], -1)\n",
    "X_train.shape, X_test.shape"
   ]
  },
  {
   "cell_type": "code",
   "execution_count": 15,
   "id": "73c5f88a",
   "metadata": {
    "execution": {
     "iopub.execute_input": "2022-05-10T00:38:25.913280Z",
     "iopub.status.busy": "2022-05-10T00:38:25.912685Z",
     "iopub.status.idle": "2022-05-10T00:38:25.931838Z",
     "shell.execute_reply": "2022-05-10T00:38:25.931335Z"
    },
    "papermill": {
     "duration": 0.057548,
     "end_time": "2022-05-10T00:38:25.931955",
     "exception": false,
     "start_time": "2022-05-10T00:38:25.874407",
     "status": "completed"
    },
    "tags": []
   },
   "outputs": [],
   "source": [
    "#Impoting functions from 'Kudzu'\n",
    "from kudzu.model import Model\n",
    "from kudzu.train import Learner\n",
    "from kudzu.optim import GD\n",
    "from kudzu.data import Data, Sampler,Dataloader\n",
    "\n",
    "from kudzu.callbacks import AccCallback\n",
    "from kudzu.callbacks import ClfCallback\n",
    "\n",
    "from kudzu.loss import MSE\n",
    "\n",
    "from kudzu.layer import Sigmoid,Relu\n",
    "from kudzu.layer import Affine"
   ]
  },
  {
   "cell_type": "markdown",
   "id": "bc01172a",
   "metadata": {
    "papermill": {
     "duration": 0.030435,
     "end_time": "2022-05-10T00:38:25.992528",
     "exception": false,
     "start_time": "2022-05-10T00:38:25.962093",
     "status": "completed"
    },
    "tags": []
   },
   "source": [
    "### Let us create a `Config` class, to store important parameters. \n",
    "This class essentially plays the role of a dictionary."
   ]
  },
  {
   "cell_type": "code",
   "execution_count": 16,
   "id": "978281aa",
   "metadata": {
    "execution": {
     "iopub.execute_input": "2022-05-10T00:38:26.056421Z",
     "iopub.status.busy": "2022-05-10T00:38:26.055809Z",
     "iopub.status.idle": "2022-05-10T00:38:26.069891Z",
     "shell.execute_reply": "2022-05-10T00:38:26.070378Z"
    },
    "papermill": {
     "duration": 0.048175,
     "end_time": "2022-05-10T00:38:26.070521",
     "exception": false,
     "start_time": "2022-05-10T00:38:26.022346",
     "status": "completed"
    },
    "tags": []
   },
   "outputs": [],
   "source": [
    "class Config:\n",
    "    pass\n",
    "config = Config()\n",
    "config.lr = 0.001\n",
    "config.num_epochs = 250\n",
    "config.bs = 50"
   ]
  },
  {
   "cell_type": "markdown",
   "id": "1385fa59",
   "metadata": {
    "papermill": {
     "duration": 0.028709,
     "end_time": "2022-05-10T00:38:26.127925",
     "exception": false,
     "start_time": "2022-05-10T00:38:26.099216",
     "status": "completed"
    },
    "tags": []
   },
   "source": [
    "### Running Models with the Training data\n",
    "Details about the network layers:\n",
    "- A first affine layer has 784 inputs and does 100 affine transforms. These are followed by a Relu\n",
    "- A second affine layer has 100 inputs from the 100 activations of the past layer, and does 100 affine transforms. These are followed by a Relu\n",
    "- A third affine layer has 100 activations and does 2 affine transformations to create an embedding for visualization. There is no non-linearity here.\n",
    "- A final \"logistic regression\" which has an affine transform from 2 inputs to 1 output, which is squeezed through a sigmoid.\n"
   ]
  },
  {
   "cell_type": "code",
   "execution_count": 17,
   "id": "2b9c66db",
   "metadata": {
    "execution": {
     "iopub.execute_input": "2022-05-10T00:38:26.198527Z",
     "iopub.status.busy": "2022-05-10T00:38:26.196668Z",
     "iopub.status.idle": "2022-05-10T00:38:26.207678Z",
     "shell.execute_reply": "2022-05-10T00:38:26.207152Z"
    },
    "papermill": {
     "duration": 0.051171,
     "end_time": "2022-05-10T00:38:26.207798",
     "exception": false,
     "start_time": "2022-05-10T00:38:26.156627",
     "status": "completed"
    },
    "tags": []
   },
   "outputs": [],
   "source": [
    "data = Data(X_train, y_train.reshape(-1,1))\n",
    "sampler = Sampler(data, config.bs, shuffle=True)\n",
    "\n",
    "dl = Dataloader(data, sampler)\n",
    "\n",
    "opt = GD(config.lr)\n",
    "loss = MSE()"
   ]
  },
  {
   "cell_type": "code",
   "execution_count": 18,
   "id": "b275e4c2",
   "metadata": {
    "execution": {
     "iopub.execute_input": "2022-05-10T00:38:26.272276Z",
     "iopub.status.busy": "2022-05-10T00:38:26.271674Z",
     "iopub.status.idle": "2022-05-10T00:38:26.287545Z",
     "shell.execute_reply": "2022-05-10T00:38:26.287986Z"
    },
    "papermill": {
     "duration": 0.050542,
     "end_time": "2022-05-10T00:38:26.288124",
     "exception": false,
     "start_time": "2022-05-10T00:38:26.237582",
     "status": "completed"
    },
    "tags": []
   },
   "outputs": [],
   "source": [
    "training_data_x = X_train\n",
    "testing_data_x = X_test\n",
    "training_data_y = y_train.reshape(-1,1)\n",
    "testing_data_y = y_test.reshape(-1,1)"
   ]
  },
  {
   "cell_type": "code",
   "execution_count": 19,
   "id": "76951160",
   "metadata": {
    "execution": {
     "iopub.execute_input": "2022-05-10T00:38:26.351406Z",
     "iopub.status.busy": "2022-05-10T00:38:26.350798Z",
     "iopub.status.idle": "2022-05-10T00:38:26.368363Z",
     "shell.execute_reply": "2022-05-10T00:38:26.367911Z"
    },
    "papermill": {
     "duration": 0.051222,
     "end_time": "2022-05-10T00:38:26.368483",
     "exception": false,
     "start_time": "2022-05-10T00:38:26.317261",
     "status": "completed"
    },
    "tags": []
   },
   "outputs": [
    {
     "name": "stdout",
     "output_type": "stream",
     "text": [
      "xavier\n",
      "xavier\n",
      "xavier\n",
      "xavier\n",
      "xavier\n"
     ]
    }
   ],
   "source": [
    "layers = [Affine(\"first\", 784, 100), Relu(\"first\"), Affine(\"second\", 100, 100), Relu(\"second\"), Affine(\"third\", 100, 2), Affine(\"last\", 2, 1), Sigmoid(\"last\")]\n",
    "model_nn = Model(layers)\n",
    "model_lr = Model([Affine(\"logits\", 784, 1), Sigmoid(\"sigmoid\")])"
   ]
  },
  {
   "cell_type": "code",
   "execution_count": 20,
   "id": "6eede77a",
   "metadata": {
    "execution": {
     "iopub.execute_input": "2022-05-10T00:38:26.435428Z",
     "iopub.status.busy": "2022-05-10T00:38:26.434825Z",
     "iopub.status.idle": "2022-05-10T00:38:26.449706Z",
     "shell.execute_reply": "2022-05-10T00:38:26.449195Z"
    },
    "papermill": {
     "duration": 0.052481,
     "end_time": "2022-05-10T00:38:26.449843",
     "exception": false,
     "start_time": "2022-05-10T00:38:26.397362",
     "status": "completed"
    },
    "tags": []
   },
   "outputs": [],
   "source": [
    "nn_learner = Learner(loss, model_nn, opt, config.num_epochs)\n",
    "acc_nn = ClfCallback(nn_learner, config.bs, training_data_x , testing_data_x, training_data_y, testing_data_y)\n",
    "nn_learner.set_callbacks([acc_nn])"
   ]
  },
  {
   "cell_type": "code",
   "execution_count": 21,
   "id": "877b6cc7",
   "metadata": {
    "execution": {
     "iopub.execute_input": "2022-05-10T00:38:26.522367Z",
     "iopub.status.busy": "2022-05-10T00:38:26.521755Z",
     "iopub.status.idle": "2022-05-10T00:38:26.533225Z",
     "shell.execute_reply": "2022-05-10T00:38:26.532739Z"
    },
    "papermill": {
     "duration": 0.052617,
     "end_time": "2022-05-10T00:38:26.533353",
     "exception": false,
     "start_time": "2022-05-10T00:38:26.480736",
     "status": "completed"
    },
    "tags": []
   },
   "outputs": [],
   "source": [
    "lr_learner = Learner(loss, model_lr, opt, config.num_epochs)\n",
    "acc_lr = ClfCallback(lr_learner, config.bs, training_data_x , testing_data_x, training_data_y, testing_data_y)\n",
    "lr_learner.set_callbacks([acc_lr])"
   ]
  },
  {
   "cell_type": "code",
   "execution_count": 22,
   "id": "d9b133c3",
   "metadata": {
    "execution": {
     "iopub.execute_input": "2022-05-10T00:38:26.598531Z",
     "iopub.status.busy": "2022-05-10T00:38:26.597943Z",
     "iopub.status.idle": "2022-05-10T00:39:53.155409Z",
     "shell.execute_reply": "2022-05-10T00:39:53.156217Z"
    },
    "papermill": {
     "duration": 86.592569,
     "end_time": "2022-05-10T00:39:53.156375",
     "exception": false,
     "start_time": "2022-05-10T00:38:26.563806",
     "status": "completed"
    },
    "tags": []
   },
   "outputs": [
    {
     "name": "stdout",
     "output_type": "stream",
     "text": [
      "Epoch 0, Loss 0.203\n",
      "Training Accuracy: 0.8196, Testing Accuracy: 0.8054\n",
      "\n"
     ]
    },
    {
     "name": "stdout",
     "output_type": "stream",
     "text": [
      "Epoch 10, Loss 0.0713\n",
      "Training Accuracy: 0.9306, Testing Accuracy: 0.9385\n",
      "\n"
     ]
    },
    {
     "name": "stdout",
     "output_type": "stream",
     "text": [
      "Epoch 20, Loss 0.0478\n",
      "Training Accuracy: 0.9503, Testing Accuracy: 0.9536\n",
      "\n"
     ]
    },
    {
     "name": "stdout",
     "output_type": "stream",
     "text": [
      "Epoch 30, Loss 0.0392\n",
      "Training Accuracy: 0.9562, Testing Accuracy: 0.9617\n",
      "\n"
     ]
    },
    {
     "name": "stdout",
     "output_type": "stream",
     "text": [
      "Epoch 40, Loss 0.0347\n",
      "Training Accuracy: 0.9604, Testing Accuracy: 0.9647\n",
      "\n"
     ]
    },
    {
     "name": "stdout",
     "output_type": "stream",
     "text": [
      "Epoch 50, Loss 0.0318\n",
      "Training Accuracy: 0.9638, Testing Accuracy: 0.9682\n",
      "\n"
     ]
    },
    {
     "name": "stdout",
     "output_type": "stream",
     "text": [
      "Epoch 60, Loss 0.0297\n",
      "Training Accuracy: 0.9663, Testing Accuracy: 0.9688\n",
      "\n"
     ]
    },
    {
     "name": "stdout",
     "output_type": "stream",
     "text": [
      "Epoch 70, Loss 0.0281\n",
      "Training Accuracy: 0.9681, Testing Accuracy: 0.9682\n",
      "\n"
     ]
    },
    {
     "name": "stdout",
     "output_type": "stream",
     "text": [
      "Epoch 80, Loss 0.0268\n",
      "Training Accuracy: 0.9692, Testing Accuracy: 0.9703\n",
      "\n"
     ]
    },
    {
     "name": "stdout",
     "output_type": "stream",
     "text": [
      "Epoch 90, Loss 0.0257\n",
      "Training Accuracy: 0.9704, Testing Accuracy: 0.9718\n",
      "\n"
     ]
    },
    {
     "name": "stdout",
     "output_type": "stream",
     "text": [
      "Epoch 100, Loss 0.0248\n",
      "Training Accuracy: 0.9711, Testing Accuracy: 0.9723\n",
      "\n"
     ]
    },
    {
     "name": "stdout",
     "output_type": "stream",
     "text": [
      "Epoch 110, Loss 0.0239\n",
      "Training Accuracy: 0.9722, Testing Accuracy: 0.9723\n",
      "\n"
     ]
    },
    {
     "name": "stdout",
     "output_type": "stream",
     "text": [
      "Epoch 120, Loss 0.0231\n",
      "Training Accuracy: 0.9729, Testing Accuracy: 0.9733\n",
      "\n"
     ]
    },
    {
     "name": "stdout",
     "output_type": "stream",
     "text": [
      "Epoch 130, Loss 0.0224\n",
      "Training Accuracy: 0.9736, Testing Accuracy: 0.9738\n",
      "\n"
     ]
    },
    {
     "name": "stdout",
     "output_type": "stream",
     "text": [
      "Epoch 140, Loss 0.0218\n",
      "Training Accuracy: 0.9751, Testing Accuracy: 0.9743\n",
      "\n"
     ]
    },
    {
     "name": "stdout",
     "output_type": "stream",
     "text": [
      "Epoch 150, Loss 0.0212\n",
      "Training Accuracy: 0.9756, Testing Accuracy: 0.9743\n",
      "\n"
     ]
    },
    {
     "name": "stdout",
     "output_type": "stream",
     "text": [
      "Epoch 160, Loss 0.0206\n",
      "Training Accuracy: 0.9770, Testing Accuracy: 0.9758\n",
      "\n"
     ]
    },
    {
     "name": "stdout",
     "output_type": "stream",
     "text": [
      "Epoch 170, Loss 0.0201\n",
      "Training Accuracy: 0.9775, Testing Accuracy: 0.9758\n",
      "\n"
     ]
    },
    {
     "name": "stdout",
     "output_type": "stream",
     "text": [
      "Epoch 180, Loss 0.0196\n",
      "Training Accuracy: 0.9786, Testing Accuracy: 0.9753\n",
      "\n"
     ]
    },
    {
     "name": "stdout",
     "output_type": "stream",
     "text": [
      "Epoch 190, Loss 0.0191\n",
      "Training Accuracy: 0.9791, Testing Accuracy: 0.9758\n",
      "\n"
     ]
    },
    {
     "name": "stdout",
     "output_type": "stream",
     "text": [
      "Epoch 200, Loss 0.0187\n",
      "Training Accuracy: 0.9791, Testing Accuracy: 0.9758\n",
      "\n"
     ]
    },
    {
     "name": "stdout",
     "output_type": "stream",
     "text": [
      "Epoch 210, Loss 0.0183\n",
      "Training Accuracy: 0.9800, Testing Accuracy: 0.9758\n",
      "\n"
     ]
    },
    {
     "name": "stdout",
     "output_type": "stream",
     "text": [
      "Epoch 220, Loss 0.0179\n",
      "Training Accuracy: 0.9804, Testing Accuracy: 0.9753\n",
      "\n"
     ]
    },
    {
     "name": "stdout",
     "output_type": "stream",
     "text": [
      "Epoch 230, Loss 0.0175\n",
      "Training Accuracy: 0.9811, Testing Accuracy: 0.9758\n",
      "\n"
     ]
    },
    {
     "name": "stdout",
     "output_type": "stream",
     "text": [
      "Epoch 240, Loss 0.0171\n",
      "Training Accuracy: 0.9817, Testing Accuracy: 0.9758\n",
      "\n"
     ]
    },
    {
     "data": {
      "text/plain": [
       "0.010448674947489914"
      ]
     },
     "execution_count": 22,
     "metadata": {},
     "output_type": "execute_result"
    }
   ],
   "source": [
    "nn_learner.train_loop(dl)"
   ]
  },
  {
   "cell_type": "code",
   "execution_count": 23,
   "id": "e0163366",
   "metadata": {
    "execution": {
     "iopub.execute_input": "2022-05-10T00:39:53.243324Z",
     "iopub.status.busy": "2022-05-10T00:39:53.241519Z",
     "iopub.status.idle": "2022-05-10T00:40:08.592979Z",
     "shell.execute_reply": "2022-05-10T00:40:08.593834Z"
    },
    "papermill": {
     "duration": 15.399604,
     "end_time": "2022-05-10T00:40:08.593996",
     "exception": false,
     "start_time": "2022-05-10T00:39:53.194392",
     "status": "completed"
    },
    "tags": []
   },
   "outputs": [
    {
     "name": "stdout",
     "output_type": "stream",
     "text": [
      "Epoch 0, Loss 0.2008\n",
      "Training Accuracy: 0.7790, Testing Accuracy: 0.7732\n",
      "\n"
     ]
    },
    {
     "name": "stdout",
     "output_type": "stream",
     "text": [
      "Epoch 10, Loss 0.1022\n",
      "Training Accuracy: 0.9086, Testing Accuracy: 0.9103\n",
      "\n"
     ]
    },
    {
     "name": "stdout",
     "output_type": "stream",
     "text": [
      "Epoch 20, Loss 0.0795\n",
      "Training Accuracy: 0.9267, Testing Accuracy: 0.9335\n",
      "\n"
     ]
    },
    {
     "name": "stdout",
     "output_type": "stream",
     "text": [
      "Epoch 30, Loss 0.0686\n",
      "Training Accuracy: 0.9357, Testing Accuracy: 0.9471\n",
      "\n"
     ]
    },
    {
     "name": "stdout",
     "output_type": "stream",
     "text": [
      "Epoch 40, Loss 0.0619\n",
      "Training Accuracy: 0.9414, Testing Accuracy: 0.9501\n",
      "\n"
     ]
    },
    {
     "name": "stdout",
     "output_type": "stream",
     "text": [
      "Epoch 50, Loss 0.0574\n",
      "Training Accuracy: 0.9448, Testing Accuracy: 0.9541\n",
      "\n"
     ]
    },
    {
     "name": "stdout",
     "output_type": "stream",
     "text": [
      "Epoch 60, Loss 0.054\n",
      "Training Accuracy: 0.9477, Testing Accuracy: 0.9551\n",
      "\n"
     ]
    },
    {
     "name": "stdout",
     "output_type": "stream",
     "text": [
      "Epoch 70, Loss 0.0514\n",
      "Training Accuracy: 0.9503, Testing Accuracy: 0.9592\n",
      "\n"
     ]
    },
    {
     "name": "stdout",
     "output_type": "stream",
     "text": [
      "Epoch 80, Loss 0.0494\n",
      "Training Accuracy: 0.9518, Testing Accuracy: 0.9602\n",
      "\n"
     ]
    },
    {
     "name": "stdout",
     "output_type": "stream",
     "text": [
      "Epoch 90, Loss 0.0477\n",
      "Training Accuracy: 0.9529, Testing Accuracy: 0.9607\n",
      "\n"
     ]
    },
    {
     "name": "stdout",
     "output_type": "stream",
     "text": [
      "Epoch 100, Loss 0.0462\n",
      "Training Accuracy: 0.9535, Testing Accuracy: 0.9627\n",
      "\n"
     ]
    },
    {
     "name": "stdout",
     "output_type": "stream",
     "text": [
      "Epoch 110, Loss 0.045\n",
      "Training Accuracy: 0.9539, Testing Accuracy: 0.9632\n",
      "\n"
     ]
    },
    {
     "name": "stdout",
     "output_type": "stream",
     "text": [
      "Epoch 120, Loss 0.0439\n",
      "Training Accuracy: 0.9550, Testing Accuracy: 0.9627\n",
      "\n"
     ]
    },
    {
     "name": "stdout",
     "output_type": "stream",
     "text": [
      "Epoch 130, Loss 0.043\n",
      "Training Accuracy: 0.9564, Testing Accuracy: 0.9627\n",
      "\n"
     ]
    },
    {
     "name": "stdout",
     "output_type": "stream",
     "text": [
      "Epoch 140, Loss 0.0421\n",
      "Training Accuracy: 0.9575, Testing Accuracy: 0.9632\n",
      "\n"
     ]
    },
    {
     "name": "stdout",
     "output_type": "stream",
     "text": [
      "Epoch 150, Loss 0.0414\n",
      "Training Accuracy: 0.9584, Testing Accuracy: 0.9647\n",
      "\n"
     ]
    },
    {
     "name": "stdout",
     "output_type": "stream",
     "text": [
      "Epoch 160, Loss 0.0407\n",
      "Training Accuracy: 0.9585, Testing Accuracy: 0.9642\n",
      "\n"
     ]
    },
    {
     "name": "stdout",
     "output_type": "stream",
     "text": [
      "Epoch 170, Loss 0.0401\n",
      "Training Accuracy: 0.9593, Testing Accuracy: 0.9642\n",
      "\n"
     ]
    },
    {
     "name": "stdout",
     "output_type": "stream",
     "text": [
      "Epoch 180, Loss 0.0395\n",
      "Training Accuracy: 0.9597, Testing Accuracy: 0.9642\n",
      "\n"
     ]
    },
    {
     "name": "stdout",
     "output_type": "stream",
     "text": [
      "Epoch 190, Loss 0.039\n",
      "Training Accuracy: 0.9598, Testing Accuracy: 0.9647\n",
      "\n"
     ]
    },
    {
     "name": "stdout",
     "output_type": "stream",
     "text": [
      "Epoch 200, Loss 0.0385\n",
      "Training Accuracy: 0.9600, Testing Accuracy: 0.9657\n",
      "\n"
     ]
    },
    {
     "name": "stdout",
     "output_type": "stream",
     "text": [
      "Epoch 210, Loss 0.0381\n",
      "Training Accuracy: 0.9601, Testing Accuracy: 0.9647\n",
      "\n"
     ]
    },
    {
     "name": "stdout",
     "output_type": "stream",
     "text": [
      "Epoch 220, Loss 0.0377\n",
      "Training Accuracy: 0.9603, Testing Accuracy: 0.9652\n",
      "\n"
     ]
    },
    {
     "name": "stdout",
     "output_type": "stream",
     "text": [
      "Epoch 230, Loss 0.0373\n",
      "Training Accuracy: 0.9604, Testing Accuracy: 0.9652\n",
      "\n"
     ]
    },
    {
     "name": "stdout",
     "output_type": "stream",
     "text": [
      "Epoch 240, Loss 0.0369\n",
      "Training Accuracy: 0.9609, Testing Accuracy: 0.9657\n",
      "\n"
     ]
    },
    {
     "data": {
      "text/plain": [
       "0.033984847124970415"
      ]
     },
     "execution_count": 23,
     "metadata": {},
     "output_type": "execute_result"
    }
   ],
   "source": [
    "lr_learner.train_loop(dl)"
   ]
  },
  {
   "cell_type": "code",
   "execution_count": 24,
   "id": "ca410940",
   "metadata": {
    "execution": {
     "iopub.execute_input": "2022-05-10T00:40:08.699169Z",
     "iopub.status.busy": "2022-05-10T00:40:08.698566Z",
     "iopub.status.idle": "2022-05-10T00:40:08.941609Z",
     "shell.execute_reply": "2022-05-10T00:40:08.941082Z"
    },
    "papermill": {
     "duration": 0.30174,
     "end_time": "2022-05-10T00:40:08.941765",
     "exception": false,
     "start_time": "2022-05-10T00:40:08.640025",
     "status": "completed"
    },
    "tags": []
   },
   "outputs": [
    {
     "data": {
      "text/plain": [
       "<matplotlib.legend.Legend at 0x7f048fd7ea20>"
      ]
     },
     "execution_count": 24,
     "metadata": {},
     "output_type": "execute_result"
    },
    {
     "data": {
      "image/png": "[encoded data removed]",
      "text/plain": [
       "<Figure size 1080x720 with 1 Axes>"
      ]
     },
     "metadata": {
      "needs_background": "light"
     },
     "output_type": "display_data"
    }
   ],
   "source": [
    "#comparing the results of NN and LR\n",
    "plt.figure(figsize=(15,10))\n",
    "\n",
    "# Neural Network plots\n",
    "plt.plot(acc_nn.accuracies, 'r-', label = \"Training Accuracies - NN\")\n",
    "plt.plot(acc_nn.test_accuracies, 'g-', label = \"Testing Accuracies - NN\")\n",
    "\n",
    "# Logistic Regression plots\n",
    "plt.plot(acc_lr.accuracies, 'k-', label = \"Training Accuracies - LR\")\n",
    "plt.plot(acc_lr.test_accuracies, 'b-', label = \"Testing Accuracies - LR\")\n",
    "plt.legend()"
   ]
  },
  {
   "cell_type": "markdown",
   "id": "80dfb35c",
   "metadata": {
    "papermill": {
     "duration": 0.04649,
     "end_time": "2022-05-10T00:40:09.034673",
     "exception": false,
     "start_time": "2022-05-10T00:40:08.988183",
     "status": "completed"
    },
    "tags": []
   },
   "source": [
    "#### Plotting the outputs of this layer of the NN.\n"
   ]
  },
  {
   "cell_type": "code",
   "execution_count": 25,
   "id": "45eb2ff5",
   "metadata": {
    "execution": {
     "iopub.execute_input": "2022-05-10T00:40:09.137630Z",
     "iopub.status.busy": "2022-05-10T00:40:09.137020Z",
     "iopub.status.idle": "2022-05-10T00:40:09.155508Z",
     "shell.execute_reply": "2022-05-10T00:40:09.155991Z"
    },
    "papermill": {
     "duration": 0.075527,
     "end_time": "2022-05-10T00:40:09.156146",
     "exception": false,
     "start_time": "2022-05-10T00:40:09.080619",
     "status": "completed"
    },
    "tags": []
   },
   "outputs": [],
   "source": [
    "new_model = Model(layers[:-2])\n",
    "testing_plot = new_model(testing_data_x)"
   ]
  },
  {
   "cell_type": "code",
   "execution_count": 26,
   "id": "4c0a5485",
   "metadata": {
    "execution": {
     "iopub.execute_input": "2022-05-10T00:40:09.258252Z",
     "iopub.status.busy": "2022-05-10T00:40:09.256710Z",
     "iopub.status.idle": "2022-05-10T00:40:09.466193Z",
     "shell.execute_reply": "2022-05-10T00:40:09.466674Z"
    },
    "papermill": {
     "duration": 0.262603,
     "end_time": "2022-05-10T00:40:09.466830",
     "exception": false,
     "start_time": "2022-05-10T00:40:09.204227",
     "status": "completed"
    },
    "tags": []
   },
   "outputs": [
    {
     "data": {
      "text/plain": [
       "Text(0.5, 1.0, 'Outputs')"
      ]
     },
     "execution_count": 26,
     "metadata": {},
     "output_type": "execute_result"
    },
    {
     "data": {
      "image/png": "[encoded data removed]",
      "text/plain": [
       "<Figure size 576x504 with 1 Axes>"
      ]
     },
     "metadata": {
      "needs_background": "light"
     },
     "output_type": "display_data"
    }
   ],
   "source": [
    "# Plotting the scatter plot of points and color coding by class\n",
    "plt.figure(figsize=(8,7))\n",
    "plt.scatter(testing_plot[:,0], testing_plot[:,1], alpha = 0.1, c = y_test.ravel());\n",
    "plt.title('Outputs')"
   ]
  },
  {
   "cell_type": "markdown",
   "id": "a74fcf8f",
   "metadata": {
    "papermill": {
     "duration": 0.048131,
     "end_time": "2022-05-10T00:40:09.562954",
     "exception": false,
     "start_time": "2022-05-10T00:40:09.514823",
     "status": "completed"
    },
    "tags": []
   },
   "source": [
    "Probability contours"
   ]
  },
  {
   "cell_type": "code",
   "execution_count": 27,
   "id": "d0afc8e3",
   "metadata": {
    "execution": {
     "iopub.execute_input": "2022-05-10T00:40:09.667301Z",
     "iopub.status.busy": "2022-05-10T00:40:09.666598Z",
     "iopub.status.idle": "2022-05-10T00:40:09.675664Z",
     "shell.execute_reply": "2022-05-10T00:40:09.675184Z"
    },
    "papermill": {
     "duration": 0.065538,
     "end_time": "2022-05-10T00:40:09.675788",
     "exception": false,
     "start_time": "2022-05-10T00:40:09.610250",
     "status": "completed"
    },
    "tags": []
   },
   "outputs": [],
   "source": [
    "model_prob = Model(layers[-2:]) "
   ]
  },
  {
   "cell_type": "code",
   "execution_count": 28,
   "id": "9b96e238",
   "metadata": {
    "execution": {
     "iopub.execute_input": "2022-05-10T00:40:09.780684Z",
     "iopub.status.busy": "2022-05-10T00:40:09.780090Z",
     "iopub.status.idle": "2022-05-10T00:40:09.797379Z",
     "shell.execute_reply": "2022-05-10T00:40:09.797861Z"
    },
    "papermill": {
     "duration": 0.073888,
     "end_time": "2022-05-10T00:40:09.798006",
     "exception": false,
     "start_time": "2022-05-10T00:40:09.724118",
     "status": "completed"
    },
    "tags": []
   },
   "outputs": [],
   "source": [
    "#creating the x and y ranges according to the above generated plot.\n",
    "x_range = np.linspace(-4, 1, 100) \n",
    "y_range = np.linspace(-6, 6, 100) \n",
    "x_grid, y_grid = np.meshgrid(x_range, y_range) # x_grid and y_grig are of size 100 X 100\n",
    "\n",
    "# converting x_grid and y_grid to continuous arrays\n",
    "x_gridflat = np.ravel(x_grid)\n",
    "y_gridflat = np.ravel(y_grid)\n",
    "\n",
    "# The last layer of the current model takes two columns as input. Hence transpose of np.vstack() is required.\n",
    "X = np.vstack((x_gridflat, y_gridflat)).T\n",
    "\n",
    "prob_contour = model_prob(X).reshape(100,100) "
   ]
  },
  {
   "cell_type": "code",
   "execution_count": 29,
   "id": "da72499a",
   "metadata": {
    "execution": {
     "iopub.execute_input": "2022-05-10T00:40:09.930311Z",
     "iopub.status.busy": "2022-05-10T00:40:09.929724Z",
     "iopub.status.idle": "2022-05-10T00:40:10.203606Z",
     "shell.execute_reply": "2022-05-10T00:40:10.204080Z"
    },
    "papermill": {
     "duration": 0.327813,
     "end_time": "2022-05-10T00:40:10.204234",
     "exception": false,
     "start_time": "2022-05-10T00:40:09.876421",
     "status": "completed"
    },
    "tags": []
   },
   "outputs": [
    {
     "data": {
      "image/png": "[encoded data removed]",
      "text/plain": [
       "<Figure size 720x648 with 1 Axes>"
      ]
     },
     "metadata": {
      "needs_background": "light"
     },
     "output_type": "display_data"
    }
   ],
   "source": [
    "plt.figure(figsize=(10,9))\n",
    "plt.scatter(testing_plot[:,0], testing_plot[:,1], alpha = 0.1, c = y_test.ravel())\n",
    "contours = plt.contour(x_grid,y_grid,prob_contour)\n",
    "plt.title('Probability Contours')\n",
    "plt.clabel(contours, inline = True );"
   ]
  },
  {
   "cell_type": "code",
   "execution_count": null,
   "id": "e81b4ac7",
   "metadata": {
    "papermill": {
     "duration": 0.052068,
     "end_time": "2022-05-10T00:40:10.308945",
     "exception": false,
     "start_time": "2022-05-10T00:40:10.256877",
     "status": "completed"
    },
    "tags": []
   },
   "outputs": [],
   "source": []
  }
 ],
 "metadata": {
  "kernelspec": {
   "display_name": "Python 3",
   "language": "python",
   "name": "python3"
  },
  "language_info": {
   "codemirror_mode": {
    "name": "ipython",
    "version": 3
   },
   "file_extension": ".py",
   "mimetype": "text/x-python",
   "name": "python",
   "nbconvert_exporter": "python",
   "pygments_lexer": "ipython3",
   "version": "3.6.15"
  },
  "papermill": {
   "default_parameters": {},
   "duration": 111.139892,
   "end_time": "2022-05-10T00:40:10.781829",
   "environment_variables": {},
   "exception": null,
   "input_path": "2020-08-11-part2.ipynb",
   "output_path": "2020-08-11-part2.ipynb",
   "parameters": {},
   "start_time": "2022-05-10T00:38:19.641937",
   "version": "2.3.3"
  }
 },
 "nbformat": 4,
 "nbformat_minor": 5
}