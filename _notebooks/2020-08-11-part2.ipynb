{
 "cells": [
  {
   "cell_type": "markdown",
   "id": "98380cd3",
   "metadata": {
    "papermill": {
     "duration": 0.029803,
     "end_time": "2022-11-01T10:09:45.506823",
     "exception": false,
     "start_time": "2022-11-01T10:09:45.477020",
     "status": "completed"
    },
    "tags": []
   },
   "source": [
    "# Distinguish Your Own Digits (DYOD)"
   ]
  },
  {
   "cell_type": "markdown",
   "id": "ef31240d",
   "metadata": {
    "papermill": {
     "duration": 0.0266,
     "end_time": "2022-11-01T10:09:45.557974",
     "exception": false,
     "start_time": "2022-11-01T10:09:45.531374",
     "status": "completed"
    },
    "tags": []
   },
   "source": [
    "You are going to write a classifier that distinguishes between the number 3 and number 8."
   ]
  },
  {
   "cell_type": "code",
   "execution_count": 1,
   "id": "b15c8646",
   "metadata": {
    "execution": {
     "iopub.execute_input": "2022-11-01T10:09:45.616739Z",
     "iopub.status.busy": "2022-11-01T10:09:45.616117Z",
     "iopub.status.idle": "2022-11-01T10:09:45.627149Z",
     "shell.execute_reply": "2022-11-01T10:09:45.626653Z"
    },
    "papermill": {
     "duration": 0.045678,
     "end_time": "2022-11-01T10:09:45.627275",
     "exception": false,
     "start_time": "2022-11-01T10:09:45.581597",
     "status": "completed"
    },
    "tags": []
   },
   "outputs": [],
   "source": [
    "%load_ext autoreload\n",
    "%autoreload 2"
   ]
  },
  {
   "cell_type": "code",
   "execution_count": 2,
   "id": "22ef38dc",
   "metadata": {
    "execution": {
     "iopub.execute_input": "2022-11-01T10:09:45.687277Z",
     "iopub.status.busy": "2022-11-01T10:09:45.683002Z",
     "iopub.status.idle": "2022-11-01T10:09:46.229120Z",
     "shell.execute_reply": "2022-11-01T10:09:46.228510Z"
    },
    "papermill": {
     "duration": 0.578279,
     "end_time": "2022-11-01T10:09:46.229274",
     "exception": false,
     "start_time": "2022-11-01T10:09:45.650995",
     "status": "completed"
    },
    "tags": []
   },
   "outputs": [],
   "source": [
    "%matplotlib inline\n",
    "import numpy as np\n",
    "import matplotlib.pyplot as plt\n",
    "import pandas as pd"
   ]
  },
  {
   "cell_type": "markdown",
   "id": "ba036198",
   "metadata": {
    "papermill": {
     "duration": 0.023714,
     "end_time": "2022-11-01T10:09:46.277791",
     "exception": false,
     "start_time": "2022-11-01T10:09:46.254077",
     "status": "completed"
    },
    "tags": []
   },
   "source": [
    "From the command line run `pip install mnist`. This is a library that will help you bring down the mnist dataset. If you run this from a notebook, you need to put  `!pip install mnist` in a cell by itself."
   ]
  },
  {
   "cell_type": "code",
   "execution_count": 3,
   "id": "bb6ad8a1",
   "metadata": {
    "execution": {
     "iopub.execute_input": "2022-11-01T10:09:46.329536Z",
     "iopub.status.busy": "2022-11-01T10:09:46.328938Z",
     "iopub.status.idle": "2022-11-01T10:09:47.926233Z",
     "shell.execute_reply": "2022-11-01T10:09:47.925590Z"
    },
    "papermill": {
     "duration": 1.624812,
     "end_time": "2022-11-01T10:09:47.926364",
     "exception": false,
     "start_time": "2022-11-01T10:09:46.301552",
     "status": "completed"
    },
    "tags": []
   },
   "outputs": [
    {
     "name": "stdout",
     "output_type": "stream",
     "text": [
      "Collecting mnist\r\n",
      "  Downloading mnist-0.2.2-py2.py3-none-any.whl (3.5 kB)\r\n"
     ]
    },
    {
     "name": "stdout",
     "output_type": "stream",
     "text": [
      "Requirement already satisfied: numpy in /opt/hostedtoolcache/Python/3.6.15/x64/lib/python3.6/site-packages (from mnist) (1.19.5)\r\n"
     ]
    },
    {
     "name": "stdout",
     "output_type": "stream",
     "text": [
      "Installing collected packages: mnist\r\n",
      "Successfully installed mnist-0.2.2\r\n"
     ]
    }
   ],
   "source": [
    "!pip install mnist"
   ]
  },
  {
   "cell_type": "markdown",
   "id": "69df9c9a",
   "metadata": {
    "papermill": {
     "duration": 0.024885,
     "end_time": "2022-11-01T10:09:47.976066",
     "exception": false,
     "start_time": "2022-11-01T10:09:47.951181",
     "status": "completed"
    },
    "tags": []
   },
   "source": [
    "## Preparing the Data"
   ]
  },
  {
   "cell_type": "code",
   "execution_count": 4,
   "id": "7f69d806",
   "metadata": {
    "execution": {
     "iopub.execute_input": "2022-11-01T10:09:48.030454Z",
     "iopub.status.busy": "2022-11-01T10:09:48.028155Z",
     "iopub.status.idle": "2022-11-01T10:09:48.045496Z",
     "shell.execute_reply": "2022-11-01T10:09:48.044394Z"
    },
    "papermill": {
     "duration": 0.045204,
     "end_time": "2022-11-01T10:09:48.045607",
     "exception": false,
     "start_time": "2022-11-01T10:09:48.000403",
     "status": "completed"
    },
    "tags": []
   },
   "outputs": [],
   "source": [
    "import mnist"
   ]
  },
  {
   "cell_type": "code",
   "execution_count": 5,
   "id": "a411e44f",
   "metadata": {
    "execution": {
     "iopub.execute_input": "2022-11-01T10:09:48.097960Z",
     "iopub.status.busy": "2022-11-01T10:09:48.097351Z",
     "iopub.status.idle": "2022-11-01T10:09:48.609412Z",
     "shell.execute_reply": "2022-11-01T10:09:48.608797Z"
    },
    "papermill": {
     "duration": 0.539492,
     "end_time": "2022-11-01T10:09:48.609552",
     "exception": false,
     "start_time": "2022-11-01T10:09:48.070060",
     "status": "completed"
    },
    "tags": []
   },
   "outputs": [],
   "source": [
    "train_images = mnist.train_images()\n",
    "train_labels = mnist.train_labels()"
   ]
  },
  {
   "cell_type": "code",
   "execution_count": 6,
   "id": "dceab3a5",
   "metadata": {
    "execution": {
     "iopub.execute_input": "2022-11-01T10:09:48.675063Z",
     "iopub.status.busy": "2022-11-01T10:09:48.671309Z",
     "iopub.status.idle": "2022-11-01T10:09:48.683796Z",
     "shell.execute_reply": "2022-11-01T10:09:48.683315Z"
    },
    "papermill": {
     "duration": 0.048636,
     "end_time": "2022-11-01T10:09:48.683908",
     "exception": false,
     "start_time": "2022-11-01T10:09:48.635272",
     "status": "completed"
    },
    "tags": []
   },
   "outputs": [
    {
     "data": {
      "text/plain": [
       "((60000, 28, 28), (60000,))"
      ]
     },
     "execution_count": 6,
     "metadata": {},
     "output_type": "execute_result"
    }
   ],
   "source": [
    "train_images.shape, train_labels.shape"
   ]
  },
  {
   "cell_type": "code",
   "execution_count": 7,
   "id": "f50dc2bb",
   "metadata": {
    "execution": {
     "iopub.execute_input": "2022-11-01T10:09:48.736718Z",
     "iopub.status.busy": "2022-11-01T10:09:48.736142Z",
     "iopub.status.idle": "2022-11-01T10:09:48.847509Z",
     "shell.execute_reply": "2022-11-01T10:09:48.846884Z"
    },
    "papermill": {
     "duration": 0.139099,
     "end_time": "2022-11-01T10:09:48.847647",
     "exception": false,
     "start_time": "2022-11-01T10:09:48.708548",
     "status": "completed"
    },
    "tags": []
   },
   "outputs": [],
   "source": [
    "test_images = mnist.test_images()\n",
    "test_labels = mnist.test_labels()"
   ]
  },
  {
   "cell_type": "code",
   "execution_count": 8,
   "id": "fc38cf1b",
   "metadata": {
    "execution": {
     "iopub.execute_input": "2022-11-01T10:09:48.901932Z",
     "iopub.status.busy": "2022-11-01T10:09:48.901309Z",
     "iopub.status.idle": "2022-11-01T10:09:48.915042Z",
     "shell.execute_reply": "2022-11-01T10:09:48.914564Z"
    },
    "papermill": {
     "duration": 0.041779,
     "end_time": "2022-11-01T10:09:48.915156",
     "exception": false,
     "start_time": "2022-11-01T10:09:48.873377",
     "status": "completed"
    },
    "tags": []
   },
   "outputs": [
    {
     "data": {
      "text/plain": [
       "((10000, 28, 28), (10000,))"
      ]
     },
     "execution_count": 8,
     "metadata": {},
     "output_type": "execute_result"
    }
   ],
   "source": [
    "test_images.shape, test_labels.shape"
   ]
  },
  {
   "cell_type": "code",
   "execution_count": 9,
   "id": "f9ed8fe0",
   "metadata": {
    "execution": {
     "iopub.execute_input": "2022-11-01T10:09:48.968805Z",
     "iopub.status.busy": "2022-11-01T10:09:48.968218Z",
     "iopub.status.idle": "2022-11-01T10:09:49.107131Z",
     "shell.execute_reply": "2022-11-01T10:09:49.106638Z"
    },
    "papermill": {
     "duration": 0.167192,
     "end_time": "2022-11-01T10:09:49.107249",
     "exception": false,
     "start_time": "2022-11-01T10:09:48.940057",
     "status": "completed"
    },
    "tags": []
   },
   "outputs": [
    {
     "name": "stdout",
     "output_type": "stream",
     "text": [
      "2\n"
     ]
    },
    {
     "data": {
      "text/plain": [
       "<matplotlib.image.AxesImage at 0x7f449087bcc0>"
      ]
     },
     "execution_count": 9,
     "metadata": {},
     "output_type": "execute_result"
    },
    {
     "data": {
      "image/png": "[encoded data removed]",
      "text/plain": [
       "<Figure size 432x288 with 1 Axes>"
      ]
     },
     "metadata": {
      "needs_background": "light"
     },
     "output_type": "display_data"
    }
   ],
   "source": [
    "image_index = 7776 # You may select anything up to 60,000\n",
    "print(train_labels[image_index]) \n",
    "plt.imshow(train_images[image_index], cmap='Greys')"
   ]
  },
  {
   "cell_type": "markdown",
   "id": "a8d2388d",
   "metadata": {
    "papermill": {
     "duration": 0.026134,
     "end_time": "2022-11-01T10:09:49.159842",
     "exception": false,
     "start_time": "2022-11-01T10:09:49.133708",
     "status": "completed"
    },
    "tags": []
   },
   "source": [
    "## Filter data to get 3 and 8 out"
   ]
  },
  {
   "cell_type": "code",
   "execution_count": 10,
   "id": "776f7fc7",
   "metadata": {
    "execution": {
     "iopub.execute_input": "2022-11-01T10:09:49.217339Z",
     "iopub.status.busy": "2022-11-01T10:09:49.216728Z",
     "iopub.status.idle": "2022-11-01T10:09:49.236597Z",
     "shell.execute_reply": "2022-11-01T10:09:49.236102Z"
    },
    "papermill": {
     "duration": 0.050748,
     "end_time": "2022-11-01T10:09:49.236718",
     "exception": false,
     "start_time": "2022-11-01T10:09:49.185970",
     "status": "completed"
    },
    "tags": []
   },
   "outputs": [],
   "source": [
    "train_filter = np.where((train_labels == 3 ) | (train_labels == 8))\n",
    "test_filter = np.where((test_labels == 3) | (test_labels == 8))\n",
    "X_train, y_train = train_images[train_filter], train_labels[train_filter]\n",
    "X_test, y_test = test_images[test_filter], test_labels[test_filter]"
   ]
  },
  {
   "cell_type": "markdown",
   "id": "948f0b7e",
   "metadata": {
    "papermill": {
     "duration": 0.026442,
     "end_time": "2022-11-01T10:09:49.289725",
     "exception": false,
     "start_time": "2022-11-01T10:09:49.263283",
     "status": "completed"
    },
    "tags": []
   },
   "source": [
    "We normalize the pizel values in the 0 to 1 range"
   ]
  },
  {
   "cell_type": "code",
   "execution_count": 11,
   "id": "ee4c2166",
   "metadata": {
    "execution": {
     "iopub.execute_input": "2022-11-01T10:09:49.359448Z",
     "iopub.status.busy": "2022-11-01T10:09:49.358808Z",
     "iopub.status.idle": "2022-11-01T10:09:49.398037Z",
     "shell.execute_reply": "2022-11-01T10:09:49.397419Z"
    },
    "papermill": {
     "duration": 0.082263,
     "end_time": "2022-11-01T10:09:49.398176",
     "exception": false,
     "start_time": "2022-11-01T10:09:49.315913",
     "status": "completed"
    },
    "tags": []
   },
   "outputs": [],
   "source": [
    "X_train = X_train/255.\n",
    "X_test = X_test/255."
   ]
  },
  {
   "cell_type": "markdown",
   "id": "ddcf4fab",
   "metadata": {
    "papermill": {
     "duration": 0.026384,
     "end_time": "2022-11-01T10:09:49.451500",
     "exception": false,
     "start_time": "2022-11-01T10:09:49.425116",
     "status": "completed"
    },
    "tags": []
   },
   "source": [
    "And setup the labels as 1 (when the digit is 3) and 0 (when the digit is 8)"
   ]
  },
  {
   "cell_type": "code",
   "execution_count": 12,
   "id": "7dc908f2",
   "metadata": {
    "execution": {
     "iopub.execute_input": "2022-11-01T10:09:49.511974Z",
     "iopub.status.busy": "2022-11-01T10:09:49.511363Z",
     "iopub.status.idle": "2022-11-01T10:09:49.522278Z",
     "shell.execute_reply": "2022-11-01T10:09:49.522763Z"
    },
    "papermill": {
     "duration": 0.045027,
     "end_time": "2022-11-01T10:09:49.522903",
     "exception": false,
     "start_time": "2022-11-01T10:09:49.477876",
     "status": "completed"
    },
    "tags": []
   },
   "outputs": [],
   "source": [
    "y_train = 1*(y_train==3)\n",
    "y_test = 1*(y_test==3)"
   ]
  },
  {
   "cell_type": "code",
   "execution_count": 13,
   "id": "01e4e969",
   "metadata": {
    "execution": {
     "iopub.execute_input": "2022-11-01T10:09:49.580384Z",
     "iopub.status.busy": "2022-11-01T10:09:49.579793Z",
     "iopub.status.idle": "2022-11-01T10:09:49.594039Z",
     "shell.execute_reply": "2022-11-01T10:09:49.593526Z"
    },
    "papermill": {
     "duration": 0.044621,
     "end_time": "2022-11-01T10:09:49.594156",
     "exception": false,
     "start_time": "2022-11-01T10:09:49.549535",
     "status": "completed"
    },
    "tags": []
   },
   "outputs": [
    {
     "data": {
      "text/plain": [
       "((11982, 28, 28), (1984, 28, 28))"
      ]
     },
     "execution_count": 13,
     "metadata": {},
     "output_type": "execute_result"
    }
   ],
   "source": [
    "X_train.shape, X_test.shape"
   ]
  },
  {
   "cell_type": "markdown",
   "id": "5ccf3f85",
   "metadata": {
    "papermill": {
     "duration": 0.026356,
     "end_time": "2022-11-01T10:09:49.646781",
     "exception": false,
     "start_time": "2022-11-01T10:09:49.620425",
     "status": "completed"
    },
    "tags": []
   },
   "source": [
    "We reshape the data to flatten the image pixels into a set of features or co-variates:"
   ]
  },
  {
   "cell_type": "code",
   "execution_count": 14,
   "id": "5286a4a3",
   "metadata": {
    "execution": {
     "iopub.execute_input": "2022-11-01T10:09:49.703860Z",
     "iopub.status.busy": "2022-11-01T10:09:49.703274Z",
     "iopub.status.idle": "2022-11-01T10:09:49.718159Z",
     "shell.execute_reply": "2022-11-01T10:09:49.717652Z"
    },
    "papermill": {
     "duration": 0.045114,
     "end_time": "2022-11-01T10:09:49.718273",
     "exception": false,
     "start_time": "2022-11-01T10:09:49.673159",
     "status": "completed"
    },
    "tags": []
   },
   "outputs": [
    {
     "data": {
      "text/plain": [
       "((11982, 784), (1984, 784))"
      ]
     },
     "execution_count": 14,
     "metadata": {},
     "output_type": "execute_result"
    }
   ],
   "source": [
    "X_train = X_train.reshape(X_train.shape[0], -1)\n",
    "X_test = X_test.reshape(X_test.shape[0], -1)\n",
    "X_train.shape, X_test.shape"
   ]
  },
  {
   "cell_type": "code",
   "execution_count": 15,
   "id": "73c5f88a",
   "metadata": {
    "execution": {
     "iopub.execute_input": "2022-11-01T10:09:49.798280Z",
     "iopub.status.busy": "2022-11-01T10:09:49.790349Z",
     "iopub.status.idle": "2022-11-01T10:09:49.800686Z",
     "shell.execute_reply": "2022-11-01T10:09:49.801115Z"
    },
    "papermill": {
     "duration": 0.05622,
     "end_time": "2022-11-01T10:09:49.801254",
     "exception": false,
     "start_time": "2022-11-01T10:09:49.745034",
     "status": "completed"
    },
    "tags": []
   },
   "outputs": [],
   "source": [
    "#Impoting functions from 'Kudzu'\n",
    "from kudzu.model import Model\n",
    "from kudzu.train import Learner\n",
    "from kudzu.optim import GD\n",
    "from kudzu.data import Data, Sampler,Dataloader\n",
    "\n",
    "from kudzu.callbacks import AccCallback\n",
    "from kudzu.callbacks import ClfCallback\n",
    "\n",
    "from kudzu.loss import MSE\n",
    "\n",
    "from kudzu.layer import Sigmoid,Relu\n",
    "from kudzu.layer import Affine"
   ]
  },
  {
   "cell_type": "markdown",
   "id": "bc01172a",
   "metadata": {
    "papermill": {
     "duration": 0.026809,
     "end_time": "2022-11-01T10:09:49.855405",
     "exception": false,
     "start_time": "2022-11-01T10:09:49.828596",
     "status": "completed"
    },
    "tags": []
   },
   "source": [
    "### Let us create a `Config` class, to store important parameters. \n",
    "This class essentially plays the role of a dictionary."
   ]
  },
  {
   "cell_type": "code",
   "execution_count": 16,
   "id": "978281aa",
   "metadata": {
    "execution": {
     "iopub.execute_input": "2022-11-01T10:09:49.916692Z",
     "iopub.status.busy": "2022-11-01T10:09:49.916090Z",
     "iopub.status.idle": "2022-11-01T10:09:49.927383Z",
     "shell.execute_reply": "2022-11-01T10:09:49.926901Z"
    },
    "papermill": {
     "duration": 0.045432,
     "end_time": "2022-11-01T10:09:49.927498",
     "exception": false,
     "start_time": "2022-11-01T10:09:49.882066",
     "status": "completed"
    },
    "tags": []
   },
   "outputs": [],
   "source": [
    "class Config:\n",
    "    pass\n",
    "config = Config()\n",
    "config.lr = 0.001\n",
    "config.num_epochs = 250\n",
    "config.bs = 50"
   ]
  },
  {
   "cell_type": "markdown",
   "id": "1385fa59",
   "metadata": {
    "papermill": {
     "duration": 0.026509,
     "end_time": "2022-11-01T10:09:49.980639",
     "exception": false,
     "start_time": "2022-11-01T10:09:49.954130",
     "status": "completed"
    },
    "tags": []
   },
   "source": [
    "### Running Models with the Training data\n",
    "Details about the network layers:\n",
    "- A first affine layer has 784 inputs and does 100 affine transforms. These are followed by a Relu\n",
    "- A second affine layer has 100 inputs from the 100 activations of the past layer, and does 100 affine transforms. These are followed by a Relu\n",
    "- A third affine layer has 100 activations and does 2 affine transformations to create an embedding for visualization. There is no non-linearity here.\n",
    "- A final \"logistic regression\" which has an affine transform from 2 inputs to 1 output, which is squeezed through a sigmoid.\n"
   ]
  },
  {
   "cell_type": "code",
   "execution_count": 17,
   "id": "2b9c66db",
   "metadata": {
    "execution": {
     "iopub.execute_input": "2022-11-01T10:09:50.038426Z",
     "iopub.status.busy": "2022-11-01T10:09:50.037825Z",
     "iopub.status.idle": "2022-11-01T10:09:50.051564Z",
     "shell.execute_reply": "2022-11-01T10:09:50.051086Z"
    },
    "papermill": {
     "duration": 0.044587,
     "end_time": "2022-11-01T10:09:50.051673",
     "exception": false,
     "start_time": "2022-11-01T10:09:50.007086",
     "status": "completed"
    },
    "tags": []
   },
   "outputs": [],
   "source": [
    "data = Data(X_train, y_train.reshape(-1,1))\n",
    "sampler = Sampler(data, config.bs, shuffle=True)\n",
    "\n",
    "dl = Dataloader(data, sampler)\n",
    "\n",
    "opt = GD(config.lr)\n",
    "loss = MSE()"
   ]
  },
  {
   "cell_type": "code",
   "execution_count": 18,
   "id": "b275e4c2",
   "metadata": {
    "execution": {
     "iopub.execute_input": "2022-11-01T10:09:50.108674Z",
     "iopub.status.busy": "2022-11-01T10:09:50.108096Z",
     "iopub.status.idle": "2022-11-01T10:09:50.121129Z",
     "shell.execute_reply": "2022-11-01T10:09:50.120651Z"
    },
    "papermill": {
     "duration": 0.042994,
     "end_time": "2022-11-01T10:09:50.121239",
     "exception": false,
     "start_time": "2022-11-01T10:09:50.078245",
     "status": "completed"
    },
    "tags": []
   },
   "outputs": [],
   "source": [
    "training_data_x = X_train\n",
    "testing_data_x = X_test\n",
    "training_data_y = y_train.reshape(-1,1)\n",
    "testing_data_y = y_test.reshape(-1,1)"
   ]
  },
  {
   "cell_type": "code",
   "execution_count": 19,
   "id": "76951160",
   "metadata": {
    "execution": {
     "iopub.execute_input": "2022-11-01T10:09:50.185108Z",
     "iopub.status.busy": "2022-11-01T10:09:50.184519Z",
     "iopub.status.idle": "2022-11-01T10:09:50.197585Z",
     "shell.execute_reply": "2022-11-01T10:09:50.197013Z"
    },
    "papermill": {
     "duration": 0.050059,
     "end_time": "2022-11-01T10:09:50.197716",
     "exception": false,
     "start_time": "2022-11-01T10:09:50.147657",
     "status": "completed"
    },
    "tags": []
   },
   "outputs": [
    {
     "name": "stdout",
     "output_type": "stream",
     "text": [
      "xavier\n",
      "xavier\n",
      "xavier\n",
      "xavier\n",
      "xavier\n"
     ]
    }
   ],
   "source": [
    "layers = [Affine(\"first\", 784, 100), Relu(\"first\"), Affine(\"second\", 100, 100), Relu(\"second\"), Affine(\"third\", 100, 2), Affine(\"last\", 2, 1), Sigmoid(\"last\")]\n",
    "model_nn = Model(layers)\n",
    "model_lr = Model([Affine(\"logits\", 784, 1), Sigmoid(\"sigmoid\")])"
   ]
  },
  {
   "cell_type": "code",
   "execution_count": 20,
   "id": "6eede77a",
   "metadata": {
    "execution": {
     "iopub.execute_input": "2022-11-01T10:09:50.256432Z",
     "iopub.status.busy": "2022-11-01T10:09:50.255247Z",
     "iopub.status.idle": "2022-11-01T10:09:50.267609Z",
     "shell.execute_reply": "2022-11-01T10:09:50.267125Z"
    },
    "papermill": {
     "duration": 0.042876,
     "end_time": "2022-11-01T10:09:50.267720",
     "exception": false,
     "start_time": "2022-11-01T10:09:50.224844",
     "status": "completed"
    },
    "tags": []
   },
   "outputs": [],
   "source": [
    "nn_learner = Learner(loss, model_nn, opt, config.num_epochs)\n",
    "acc_nn = ClfCallback(nn_learner, config.bs, training_data_x , testing_data_x, training_data_y, testing_data_y)\n",
    "nn_learner.set_callbacks([acc_nn])"
   ]
  },
  {
   "cell_type": "code",
   "execution_count": 21,
   "id": "877b6cc7",
   "metadata": {
    "execution": {
     "iopub.execute_input": "2022-11-01T10:09:50.325125Z",
     "iopub.status.busy": "2022-11-01T10:09:50.324547Z",
     "iopub.status.idle": "2022-11-01T10:09:50.337620Z",
     "shell.execute_reply": "2022-11-01T10:09:50.336992Z"
    },
    "papermill": {
     "duration": 0.043126,
     "end_time": "2022-11-01T10:09:50.337760",
     "exception": false,
     "start_time": "2022-11-01T10:09:50.294634",
     "status": "completed"
    },
    "tags": []
   },
   "outputs": [],
   "source": [
    "lr_learner = Learner(loss, model_lr, opt, config.num_epochs)\n",
    "acc_lr = ClfCallback(lr_learner, config.bs, training_data_x , testing_data_x, training_data_y, testing_data_y)\n",
    "lr_learner.set_callbacks([acc_lr])"
   ]
  },
  {
   "cell_type": "code",
   "execution_count": 22,
   "id": "d9b133c3",
   "metadata": {
    "execution": {
     "iopub.execute_input": "2022-11-01T10:09:50.395392Z",
     "iopub.status.busy": "2022-11-01T10:09:50.394821Z",
     "iopub.status.idle": "2022-11-01T10:11:05.496191Z",
     "shell.execute_reply": "2022-11-01T10:11:05.497054Z"
    },
    "papermill": {
     "duration": 75.131807,
     "end_time": "2022-11-01T10:11:05.497209",
     "exception": false,
     "start_time": "2022-11-01T10:09:50.365402",
     "status": "completed"
    },
    "tags": []
   },
   "outputs": [
    {
     "name": "stdout",
     "output_type": "stream",
     "text": [
      "Epoch 0, Loss 0.2519\n",
      "Training Accuracy: 0.4900, Testing Accuracy: 0.4924\n",
      "\n"
     ]
    },
    {
     "name": "stdout",
     "output_type": "stream",
     "text": [
      "Epoch 10, Loss 0.1436\n",
      "Training Accuracy: 0.8944, Testing Accuracy: 0.8982\n",
      "\n"
     ]
    },
    {
     "name": "stdout",
     "output_type": "stream",
     "text": [
      "Epoch 20, Loss 0.0711\n",
      "Training Accuracy: 0.9359, Testing Accuracy: 0.9456\n",
      "\n"
     ]
    },
    {
     "name": "stdout",
     "output_type": "stream",
     "text": [
      "Epoch 30, Loss 0.0497\n",
      "Training Accuracy: 0.9489, Testing Accuracy: 0.9556\n",
      "\n"
     ]
    },
    {
     "name": "stdout",
     "output_type": "stream",
     "text": [
      "Epoch 40, Loss 0.041\n",
      "Training Accuracy: 0.9553, Testing Accuracy: 0.9607\n",
      "\n"
     ]
    },
    {
     "name": "stdout",
     "output_type": "stream",
     "text": [
      "Epoch 50, Loss 0.0365\n",
      "Training Accuracy: 0.9595, Testing Accuracy: 0.9647\n",
      "\n"
     ]
    },
    {
     "name": "stdout",
     "output_type": "stream",
     "text": [
      "Epoch 60, Loss 0.0337\n",
      "Training Accuracy: 0.9619, Testing Accuracy: 0.9688\n",
      "\n"
     ]
    },
    {
     "name": "stdout",
     "output_type": "stream",
     "text": [
      "Epoch 70, Loss 0.0317\n",
      "Training Accuracy: 0.9639, Testing Accuracy: 0.9693\n",
      "\n"
     ]
    },
    {
     "name": "stdout",
     "output_type": "stream",
     "text": [
      "Epoch 80, Loss 0.0302\n",
      "Training Accuracy: 0.9651, Testing Accuracy: 0.9693\n",
      "\n"
     ]
    },
    {
     "name": "stdout",
     "output_type": "stream",
     "text": [
      "Epoch 90, Loss 0.029\n",
      "Training Accuracy: 0.9661, Testing Accuracy: 0.9693\n",
      "\n"
     ]
    },
    {
     "name": "stdout",
     "output_type": "stream",
     "text": [
      "Epoch 100, Loss 0.028\n",
      "Training Accuracy: 0.9673, Testing Accuracy: 0.9693\n",
      "\n"
     ]
    },
    {
     "name": "stdout",
     "output_type": "stream",
     "text": [
      "Epoch 110, Loss 0.0271\n",
      "Training Accuracy: 0.9684, Testing Accuracy: 0.9698\n",
      "\n"
     ]
    },
    {
     "name": "stdout",
     "output_type": "stream",
     "text": [
      "Epoch 120, Loss 0.0264\n",
      "Training Accuracy: 0.9690, Testing Accuracy: 0.9698\n",
      "\n"
     ]
    },
    {
     "name": "stdout",
     "output_type": "stream",
     "text": [
      "Epoch 130, Loss 0.0257\n",
      "Training Accuracy: 0.9699, Testing Accuracy: 0.9703\n",
      "\n"
     ]
    },
    {
     "name": "stdout",
     "output_type": "stream",
     "text": [
      "Epoch 140, Loss 0.0251\n",
      "Training Accuracy: 0.9705, Testing Accuracy: 0.9708\n",
      "\n"
     ]
    },
    {
     "name": "stdout",
     "output_type": "stream",
     "text": [
      "Epoch 150, Loss 0.0246\n",
      "Training Accuracy: 0.9714, Testing Accuracy: 0.9718\n",
      "\n"
     ]
    },
    {
     "name": "stdout",
     "output_type": "stream",
     "text": [
      "Epoch 160, Loss 0.0241\n",
      "Training Accuracy: 0.9719, Testing Accuracy: 0.9713\n",
      "\n"
     ]
    },
    {
     "name": "stdout",
     "output_type": "stream",
     "text": [
      "Epoch 170, Loss 0.0236\n",
      "Training Accuracy: 0.9724, Testing Accuracy: 0.9723\n",
      "\n"
     ]
    },
    {
     "name": "stdout",
     "output_type": "stream",
     "text": [
      "Epoch 180, Loss 0.0232\n",
      "Training Accuracy: 0.9732, Testing Accuracy: 0.9728\n",
      "\n"
     ]
    },
    {
     "name": "stdout",
     "output_type": "stream",
     "text": [
      "Epoch 190, Loss 0.0228\n",
      "Training Accuracy: 0.9740, Testing Accuracy: 0.9728\n",
      "\n"
     ]
    },
    {
     "name": "stdout",
     "output_type": "stream",
     "text": [
      "Epoch 200, Loss 0.0224\n",
      "Training Accuracy: 0.9743, Testing Accuracy: 0.9723\n",
      "\n"
     ]
    },
    {
     "name": "stdout",
     "output_type": "stream",
     "text": [
      "Epoch 210, Loss 0.022\n",
      "Training Accuracy: 0.9745, Testing Accuracy: 0.9723\n",
      "\n"
     ]
    },
    {
     "name": "stdout",
     "output_type": "stream",
     "text": [
      "Epoch 220, Loss 0.0216\n",
      "Training Accuracy: 0.9750, Testing Accuracy: 0.9723\n",
      "\n"
     ]
    },
    {
     "name": "stdout",
     "output_type": "stream",
     "text": [
      "Epoch 230, Loss 0.0212\n",
      "Training Accuracy: 0.9752, Testing Accuracy: 0.9733\n",
      "\n"
     ]
    },
    {
     "name": "stdout",
     "output_type": "stream",
     "text": [
      "Epoch 240, Loss 0.0209\n",
      "Training Accuracy: 0.9755, Testing Accuracy: 0.9728\n",
      "\n"
     ]
    },
    {
     "data": {
      "text/plain": [
       "0.02466040634018665"
      ]
     },
     "execution_count": 22,
     "metadata": {},
     "output_type": "execute_result"
    }
   ],
   "source": [
    "nn_learner.train_loop(dl)"
   ]
  },
  {
   "cell_type": "code",
   "execution_count": 23,
   "id": "e0163366",
   "metadata": {
    "execution": {
     "iopub.execute_input": "2022-11-01T10:11:05.575759Z",
     "iopub.status.busy": "2022-11-01T10:11:05.575159Z",
     "iopub.status.idle": "2022-11-01T10:11:19.324785Z",
     "shell.execute_reply": "2022-11-01T10:11:19.325634Z"
    },
    "papermill": {
     "duration": 13.794015,
     "end_time": "2022-11-01T10:11:19.325803",
     "exception": false,
     "start_time": "2022-11-01T10:11:05.531788",
     "status": "completed"
    },
    "tags": []
   },
   "outputs": [
    {
     "name": "stdout",
     "output_type": "stream",
     "text": [
      "Epoch 0, Loss 0.2423\n",
      "Training Accuracy: 0.6721, Testing Accuracy: 0.6683\n",
      "\n"
     ]
    },
    {
     "name": "stdout",
     "output_type": "stream",
     "text": [
      "Epoch 10, Loss 0.1054\n",
      "Training Accuracy: 0.9027, Testing Accuracy: 0.9118\n",
      "\n"
     ]
    },
    {
     "name": "stdout",
     "output_type": "stream",
     "text": [
      "Epoch 20, Loss 0.0811\n",
      "Training Accuracy: 0.9231, Testing Accuracy: 0.9309\n",
      "\n"
     ]
    },
    {
     "name": "stdout",
     "output_type": "stream",
     "text": [
      "Epoch 30, Loss 0.0699\n",
      "Training Accuracy: 0.9324, Testing Accuracy: 0.9405\n",
      "\n"
     ]
    },
    {
     "name": "stdout",
     "output_type": "stream",
     "text": [
      "Epoch 40, Loss 0.0631\n",
      "Training Accuracy: 0.9382, Testing Accuracy: 0.9481\n",
      "\n"
     ]
    },
    {
     "name": "stdout",
     "output_type": "stream",
     "text": [
      "Epoch 50, Loss 0.0584\n",
      "Training Accuracy: 0.9428, Testing Accuracy: 0.9516\n",
      "\n"
     ]
    },
    {
     "name": "stdout",
     "output_type": "stream",
     "text": [
      "Epoch 60, Loss 0.055\n",
      "Training Accuracy: 0.9446, Testing Accuracy: 0.9551\n",
      "\n"
     ]
    },
    {
     "name": "stdout",
     "output_type": "stream",
     "text": [
      "Epoch 70, Loss 0.0523\n",
      "Training Accuracy: 0.9463, Testing Accuracy: 0.9577\n",
      "\n"
     ]
    },
    {
     "name": "stdout",
     "output_type": "stream",
     "text": [
      "Epoch 80, Loss 0.0502\n",
      "Training Accuracy: 0.9483, Testing Accuracy: 0.9592\n",
      "\n"
     ]
    },
    {
     "name": "stdout",
     "output_type": "stream",
     "text": [
      "Epoch 90, Loss 0.0484\n",
      "Training Accuracy: 0.9503, Testing Accuracy: 0.9597\n",
      "\n"
     ]
    },
    {
     "name": "stdout",
     "output_type": "stream",
     "text": [
      "Epoch 100, Loss 0.0469\n",
      "Training Accuracy: 0.9516, Testing Accuracy: 0.9612\n",
      "\n"
     ]
    },
    {
     "name": "stdout",
     "output_type": "stream",
     "text": [
      "Epoch 110, Loss 0.0457\n",
      "Training Accuracy: 0.9520, Testing Accuracy: 0.9617\n",
      "\n"
     ]
    },
    {
     "name": "stdout",
     "output_type": "stream",
     "text": [
      "Epoch 120, Loss 0.0446\n",
      "Training Accuracy: 0.9531, Testing Accuracy: 0.9612\n",
      "\n"
     ]
    },
    {
     "name": "stdout",
     "output_type": "stream",
     "text": [
      "Epoch 130, Loss 0.0436\n",
      "Training Accuracy: 0.9540, Testing Accuracy: 0.9617\n",
      "\n"
     ]
    },
    {
     "name": "stdout",
     "output_type": "stream",
     "text": [
      "Epoch 140, Loss 0.0427\n",
      "Training Accuracy: 0.9544, Testing Accuracy: 0.9622\n",
      "\n"
     ]
    },
    {
     "name": "stdout",
     "output_type": "stream",
     "text": [
      "Epoch 150, Loss 0.0419\n",
      "Training Accuracy: 0.9549, Testing Accuracy: 0.9627\n",
      "\n"
     ]
    },
    {
     "name": "stdout",
     "output_type": "stream",
     "text": [
      "Epoch 160, Loss 0.0412\n",
      "Training Accuracy: 0.9559, Testing Accuracy: 0.9632\n",
      "\n"
     ]
    },
    {
     "name": "stdout",
     "output_type": "stream",
     "text": [
      "Epoch 170, Loss 0.0406\n",
      "Training Accuracy: 0.9567, Testing Accuracy: 0.9632\n",
      "\n"
     ]
    },
    {
     "name": "stdout",
     "output_type": "stream",
     "text": [
      "Epoch 180, Loss 0.04\n",
      "Training Accuracy: 0.9573, Testing Accuracy: 0.9642\n",
      "\n"
     ]
    },
    {
     "name": "stdout",
     "output_type": "stream",
     "text": [
      "Epoch 190, Loss 0.0394\n",
      "Training Accuracy: 0.9575, Testing Accuracy: 0.9637\n",
      "\n"
     ]
    },
    {
     "name": "stdout",
     "output_type": "stream",
     "text": [
      "Epoch 200, Loss 0.0389\n",
      "Training Accuracy: 0.9582, Testing Accuracy: 0.9637\n",
      "\n"
     ]
    },
    {
     "name": "stdout",
     "output_type": "stream",
     "text": [
      "Epoch 210, Loss 0.0385\n",
      "Training Accuracy: 0.9583, Testing Accuracy: 0.9637\n",
      "\n"
     ]
    },
    {
     "name": "stdout",
     "output_type": "stream",
     "text": [
      "Epoch 220, Loss 0.0381\n",
      "Training Accuracy: 0.9586, Testing Accuracy: 0.9637\n",
      "\n"
     ]
    },
    {
     "name": "stdout",
     "output_type": "stream",
     "text": [
      "Epoch 230, Loss 0.0376\n",
      "Training Accuracy: 0.9591, Testing Accuracy: 0.9642\n",
      "\n"
     ]
    },
    {
     "name": "stdout",
     "output_type": "stream",
     "text": [
      "Epoch 240, Loss 0.0373\n",
      "Training Accuracy: 0.9594, Testing Accuracy: 0.9642\n",
      "\n"
     ]
    },
    {
     "data": {
      "text/plain": [
       "0.021219008283296207"
      ]
     },
     "execution_count": 23,
     "metadata": {},
     "output_type": "execute_result"
    }
   ],
   "source": [
    "lr_learner.train_loop(dl)"
   ]
  },
  {
   "cell_type": "code",
   "execution_count": 24,
   "id": "ca410940",
   "metadata": {
    "execution": {
     "iopub.execute_input": "2022-11-01T10:11:19.416417Z",
     "iopub.status.busy": "2022-11-01T10:11:19.415788Z",
     "iopub.status.idle": "2022-11-01T10:11:19.640658Z",
     "shell.execute_reply": "2022-11-01T10:11:19.641122Z"
    },
    "papermill": {
     "duration": 0.274417,
     "end_time": "2022-11-01T10:11:19.641269",
     "exception": false,
     "start_time": "2022-11-01T10:11:19.366852",
     "status": "completed"
    },
    "tags": []
   },
   "outputs": [
    {
     "data": {
      "text/plain": [
       "<matplotlib.legend.Legend at 0x7f44903ea320>"
      ]
     },
     "execution_count": 24,
     "metadata": {},
     "output_type": "execute_result"
    },
    {
     "data": {
      "image/png": "[encoded data removed]",
      "text/plain": [
       "<Figure size 1080x720 with 1 Axes>"
      ]
     },
     "metadata": {
      "needs_background": "light"
     },
     "output_type": "display_data"
    }
   ],
   "source": [
    "#comparing the results of NN and LR\n",
    "plt.figure(figsize=(15,10))\n",
    "\n",
    "# Neural Network plots\n",
    "plt.plot(acc_nn.accuracies, 'r-', label = \"Training Accuracies - NN\")\n",
    "plt.plot(acc_nn.test_accuracies, 'g-', label = \"Testing Accuracies - NN\")\n",
    "\n",
    "# Logistic Regression plots\n",
    "plt.plot(acc_lr.accuracies, 'k-', label = \"Training Accuracies - LR\")\n",
    "plt.plot(acc_lr.test_accuracies, 'b-', label = \"Testing Accuracies - LR\")\n",
    "plt.legend()"
   ]
  },
  {
   "cell_type": "markdown",
   "id": "80dfb35c",
   "metadata": {
    "papermill": {
     "duration": 0.041474,
     "end_time": "2022-11-01T10:11:19.724643",
     "exception": false,
     "start_time": "2022-11-01T10:11:19.683169",
     "status": "completed"
    },
    "tags": []
   },
   "source": [
    "#### Plotting the outputs of this layer of the NN.\n"
   ]
  },
  {
   "cell_type": "code",
   "execution_count": 25,
   "id": "45eb2ff5",
   "metadata": {
    "execution": {
     "iopub.execute_input": "2022-11-01T10:11:19.815490Z",
     "iopub.status.busy": "2022-11-01T10:11:19.814756Z",
     "iopub.status.idle": "2022-11-01T10:11:19.835520Z",
     "shell.execute_reply": "2022-11-01T10:11:19.836375Z"
    },
    "papermill": {
     "duration": 0.070085,
     "end_time": "2022-11-01T10:11:19.836598",
     "exception": false,
     "start_time": "2022-11-01T10:11:19.766513",
     "status": "completed"
    },
    "tags": []
   },
   "outputs": [],
   "source": [
    "new_model = Model(layers[:-2])\n",
    "testing_plot = new_model(testing_data_x)"
   ]
  },
  {
   "cell_type": "code",
   "execution_count": 26,
   "id": "4c0a5485",
   "metadata": {
    "execution": {
     "iopub.execute_input": "2022-11-01T10:11:19.935042Z",
     "iopub.status.busy": "2022-11-01T10:11:19.934374Z",
     "iopub.status.idle": "2022-11-01T10:11:20.149288Z",
     "shell.execute_reply": "2022-11-01T10:11:20.149759Z"
    },
    "papermill": {
     "duration": 0.270309,
     "end_time": "2022-11-01T10:11:20.149914",
     "exception": false,
     "start_time": "2022-11-01T10:11:19.879605",
     "status": "completed"
    },
    "tags": []
   },
   "outputs": [
    {
     "data": {
      "text/plain": [
       "Text(0.5, 1.0, 'Outputs')"
      ]
     },
     "execution_count": 26,
     "metadata": {},
     "output_type": "execute_result"
    },
    {
     "data": {
      "image/png": "[encoded data removed]",
      "text/plain": [
       "<Figure size 576x504 with 1 Axes>"
      ]
     },
     "metadata": {
      "needs_background": "light"
     },
     "output_type": "display_data"
    }
   ],
   "source": [
    "# Plotting the scatter plot of points and color coding by class\n",
    "plt.figure(figsize=(8,7))\n",
    "plt.scatter(testing_plot[:,0], testing_plot[:,1], alpha = 0.1, c = y_test.ravel());\n",
    "plt.title('Outputs')"
   ]
  },
  {
   "cell_type": "markdown",
   "id": "a74fcf8f",
   "metadata": {
    "papermill": {
     "duration": 0.044517,
     "end_time": "2022-11-01T10:11:20.239350",
     "exception": false,
     "start_time": "2022-11-01T10:11:20.194833",
     "status": "completed"
    },
    "tags": []
   },
   "source": [
    "Probability contours"
   ]
  },
  {
   "cell_type": "code",
   "execution_count": 27,
   "id": "d0afc8e3",
   "metadata": {
    "execution": {
     "iopub.execute_input": "2022-11-01T10:11:20.338591Z",
     "iopub.status.busy": "2022-11-01T10:11:20.337947Z",
     "iopub.status.idle": "2022-11-01T10:11:20.346862Z",
     "shell.execute_reply": "2022-11-01T10:11:20.347290Z"
    },
    "papermill": {
     "duration": 0.063361,
     "end_time": "2022-11-01T10:11:20.347427",
     "exception": false,
     "start_time": "2022-11-01T10:11:20.284066",
     "status": "completed"
    },
    "tags": []
   },
   "outputs": [],
   "source": [
    "model_prob = Model(layers[-2:]) "
   ]
  },
  {
   "cell_type": "code",
   "execution_count": 28,
   "id": "9b96e238",
   "metadata": {
    "execution": {
     "iopub.execute_input": "2022-11-01T10:11:20.442013Z",
     "iopub.status.busy": "2022-11-01T10:11:20.441392Z",
     "iopub.status.idle": "2022-11-01T10:11:20.455391Z",
     "shell.execute_reply": "2022-11-01T10:11:20.455824Z"
    },
    "papermill": {
     "duration": 0.063639,
     "end_time": "2022-11-01T10:11:20.455960",
     "exception": false,
     "start_time": "2022-11-01T10:11:20.392321",
     "status": "completed"
    },
    "tags": []
   },
   "outputs": [],
   "source": [
    "#creating the x and y ranges according to the above generated plot.\n",
    "x_range = np.linspace(-4, 1, 100) \n",
    "y_range = np.linspace(-6, 6, 100) \n",
    "x_grid, y_grid = np.meshgrid(x_range, y_range) # x_grid and y_grig are of size 100 X 100\n",
    "\n",
    "# converting x_grid and y_grid to continuous arrays\n",
    "x_gridflat = np.ravel(x_grid)\n",
    "y_gridflat = np.ravel(y_grid)\n",
    "\n",
    "# The last layer of the current model takes two columns as input. Hence transpose of np.vstack() is required.\n",
    "X = np.vstack((x_gridflat, y_gridflat)).T\n",
    "\n",
    "prob_contour = model_prob(X).reshape(100,100) "
   ]
  },
  {
   "cell_type": "code",
   "execution_count": 29,
   "id": "da72499a",
   "metadata": {
    "execution": {
     "iopub.execute_input": "2022-11-01T10:11:20.580078Z",
     "iopub.status.busy": "2022-11-01T10:11:20.579470Z",
     "iopub.status.idle": "2022-11-01T10:11:20.820271Z",
     "shell.execute_reply": "2022-11-01T10:11:20.820821Z"
    },
    "papermill": {
     "duration": 0.290816,
     "end_time": "2022-11-01T10:11:20.820981",
     "exception": false,
     "start_time": "2022-11-01T10:11:20.530165",
     "status": "completed"
    },
    "tags": []
   },
   "outputs": [
    {
     "data": {
      "image/png": "[encoded data removed]",
      "text/plain": [
       "<Figure size 720x648 with 1 Axes>"
      ]
     },
     "metadata": {
      "needs_background": "light"
     },
     "output_type": "display_data"
    }
   ],
   "source": [
    "plt.figure(figsize=(10,9))\n",
    "plt.scatter(testing_plot[:,0], testing_plot[:,1], alpha = 0.1, c = y_test.ravel())\n",
    "contours = plt.contour(x_grid,y_grid,prob_contour)\n",
    "plt.title('Probability Contours')\n",
    "plt.clabel(contours, inline = True );"
   ]
  },
  {
   "cell_type": "code",
   "execution_count": null,
   "id": "e81b4ac7",
   "metadata": {
    "papermill": {
     "duration": 0.047679,
     "end_time": "2022-11-01T10:11:20.917138",
     "exception": false,
     "start_time": "2022-11-01T10:11:20.869459",
     "status": "completed"
    },
    "tags": []
   },
   "outputs": [],
   "source": []
  }
 ],
 "metadata": {
  "kernelspec": {
   "display_name": "Python 3",
   "language": "python",
   "name": "python3"
  },
  "language_info": {
   "codemirror_mode": {
    "name": "ipython",
    "version": 3
   },
   "file_extension": ".py",
   "mimetype": "text/x-python",
   "name": "python",
   "nbconvert_exporter": "python",
   "pygments_lexer": "ipython3",
   "version": "3.6.15"
  },
  "papermill": {
   "default_parameters": {},
   "duration": 96.866739,
   "end_time": "2022-11-01T10:11:21.396597",
   "environment_variables": {},
   "exception": null,
   "input_path": "2020-08-11-part2.ipynb",
   "output_path": "2020-08-11-part2.ipynb",
   "parameters": {},
   "start_time": "2022-11-01T10:09:44.529858",
   "version": "2.3.3"
  }
 },
 "nbformat": 4,
 "nbformat_minor": 5
}