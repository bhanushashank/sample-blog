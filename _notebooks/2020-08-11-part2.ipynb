{
 "cells": [
  {
   "cell_type": "markdown",
   "id": "98380cd3",
   "metadata": {
    "papermill": {
     "duration": 0.028527,
     "end_time": "2021-11-21T20:07:56.749796",
     "exception": false,
     "start_time": "2021-11-21T20:07:56.721269",
     "status": "completed"
    },
    "tags": []
   },
   "source": [
    "# Distinguish Your Own Digits (DYOD)"
   ]
  },
  {
   "cell_type": "markdown",
   "id": "ef31240d",
   "metadata": {
    "papermill": {
     "duration": 0.024832,
     "end_time": "2021-11-21T20:07:56.798686",
     "exception": false,
     "start_time": "2021-11-21T20:07:56.773854",
     "status": "completed"
    },
    "tags": []
   },
   "source": [
    "You are going to write a classifier that distinguishes between the number 3 and number 8."
   ]
  },
  {
   "cell_type": "code",
   "execution_count": 1,
   "id": "b15c8646",
   "metadata": {
    "execution": {
     "iopub.execute_input": "2021-11-21T20:07:56.855580Z",
     "iopub.status.busy": "2021-11-21T20:07:56.855065Z",
     "iopub.status.idle": "2021-11-21T20:07:56.865730Z",
     "shell.execute_reply": "2021-11-21T20:07:56.866126Z"
    },
    "papermill": {
     "duration": 0.044271,
     "end_time": "2021-11-21T20:07:56.866263",
     "exception": false,
     "start_time": "2021-11-21T20:07:56.821992",
     "status": "completed"
    },
    "tags": []
   },
   "outputs": [],
   "source": [
    "%load_ext autoreload\n",
    "%autoreload 2"
   ]
  },
  {
   "cell_type": "code",
   "execution_count": 2,
   "id": "22ef38dc",
   "metadata": {
    "execution": {
     "iopub.execute_input": "2021-11-21T20:07:56.918372Z",
     "iopub.status.busy": "2021-11-21T20:07:56.917854Z",
     "iopub.status.idle": "2021-11-21T20:07:57.486881Z",
     "shell.execute_reply": "2021-11-21T20:07:57.486351Z"
    },
    "papermill": {
     "duration": 0.597252,
     "end_time": "2021-11-21T20:07:57.487017",
     "exception": false,
     "start_time": "2021-11-21T20:07:56.889765",
     "status": "completed"
    },
    "tags": []
   },
   "outputs": [],
   "source": [
    "%matplotlib inline\n",
    "import numpy as np\n",
    "import matplotlib.pyplot as plt\n",
    "import pandas as pd"
   ]
  },
  {
   "cell_type": "markdown",
   "id": "ba036198",
   "metadata": {
    "papermill": {
     "duration": 0.023533,
     "end_time": "2021-11-21T20:07:57.534980",
     "exception": false,
     "start_time": "2021-11-21T20:07:57.511447",
     "status": "completed"
    },
    "tags": []
   },
   "source": [
    "From the command line run `pip install mnist`. This is a library that will help you bring down the mnist dataset. If you run this from a notebook, you need to put  `!pip install mnist` in a cell by itself."
   ]
  },
  {
   "cell_type": "code",
   "execution_count": 3,
   "id": "bb6ad8a1",
   "metadata": {
    "execution": {
     "iopub.execute_input": "2021-11-21T20:07:57.595520Z",
     "iopub.status.busy": "2021-11-21T20:07:57.594994Z",
     "iopub.status.idle": "2021-11-21T20:07:59.287166Z",
     "shell.execute_reply": "2021-11-21T20:07:59.287652Z"
    },
    "papermill": {
     "duration": 1.729292,
     "end_time": "2021-11-21T20:07:59.287816",
     "exception": false,
     "start_time": "2021-11-21T20:07:57.558524",
     "status": "completed"
    },
    "tags": []
   },
   "outputs": [
    {
     "name": "stdout",
     "output_type": "stream",
     "text": [
      "Collecting mnist\r\n"
     ]
    },
    {
     "name": "stdout",
     "output_type": "stream",
     "text": [
      "  Downloading mnist-0.2.2-py2.py3-none-any.whl (3.5 kB)\r\n",
      "Requirement already satisfied: numpy in /opt/hostedtoolcache/Python/3.6.15/x64/lib/python3.6/site-packages (from mnist) (1.19.5)\r\n"
     ]
    },
    {
     "name": "stdout",
     "output_type": "stream",
     "text": [
      "Installing collected packages: mnist\r\n"
     ]
    },
    {
     "name": "stdout",
     "output_type": "stream",
     "text": [
      "Successfully installed mnist-0.2.2\r\n"
     ]
    }
   ],
   "source": [
    "!pip install mnist"
   ]
  },
  {
   "cell_type": "markdown",
   "id": "69df9c9a",
   "metadata": {
    "papermill": {
     "duration": 0.024614,
     "end_time": "2021-11-21T20:07:59.337910",
     "exception": false,
     "start_time": "2021-11-21T20:07:59.313296",
     "status": "completed"
    },
    "tags": []
   },
   "source": [
    "## Preparing the Data"
   ]
  },
  {
   "cell_type": "code",
   "execution_count": 4,
   "id": "7f69d806",
   "metadata": {
    "execution": {
     "iopub.execute_input": "2021-11-21T20:07:59.390309Z",
     "iopub.status.busy": "2021-11-21T20:07:59.389778Z",
     "iopub.status.idle": "2021-11-21T20:07:59.405384Z",
     "shell.execute_reply": "2021-11-21T20:07:59.404956Z"
    },
    "papermill": {
     "duration": 0.04326,
     "end_time": "2021-11-21T20:07:59.405483",
     "exception": false,
     "start_time": "2021-11-21T20:07:59.362223",
     "status": "completed"
    },
    "tags": []
   },
   "outputs": [],
   "source": [
    "import mnist"
   ]
  },
  {
   "cell_type": "code",
   "execution_count": 5,
   "id": "a411e44f",
   "metadata": {
    "execution": {
     "iopub.execute_input": "2021-11-21T20:07:59.465732Z",
     "iopub.status.busy": "2021-11-21T20:07:59.464825Z",
     "iopub.status.idle": "2021-11-21T20:08:00.131462Z",
     "shell.execute_reply": "2021-11-21T20:08:00.130902Z"
    },
    "papermill": {
     "duration": 0.701542,
     "end_time": "2021-11-21T20:08:00.131607",
     "exception": false,
     "start_time": "2021-11-21T20:07:59.430065",
     "status": "completed"
    },
    "tags": []
   },
   "outputs": [],
   "source": [
    "train_images = mnist.train_images()\n",
    "train_labels = mnist.train_labels()"
   ]
  },
  {
   "cell_type": "code",
   "execution_count": 6,
   "id": "dceab3a5",
   "metadata": {
    "execution": {
     "iopub.execute_input": "2021-11-21T20:08:00.186328Z",
     "iopub.status.busy": "2021-11-21T20:08:00.185184Z",
     "iopub.status.idle": "2021-11-21T20:08:00.199320Z",
     "shell.execute_reply": "2021-11-21T20:08:00.198916Z"
    },
    "papermill": {
     "duration": 0.042572,
     "end_time": "2021-11-21T20:08:00.199423",
     "exception": false,
     "start_time": "2021-11-21T20:08:00.156851",
     "status": "completed"
    },
    "tags": []
   },
   "outputs": [
    {
     "data": {
      "text/plain": [
       "((60000, 28, 28), (60000,))"
      ]
     },
     "execution_count": 6,
     "metadata": {},
     "output_type": "execute_result"
    }
   ],
   "source": [
    "train_images.shape, train_labels.shape"
   ]
  },
  {
   "cell_type": "code",
   "execution_count": 7,
   "id": "f50dc2bb",
   "metadata": {
    "execution": {
     "iopub.execute_input": "2021-11-21T20:08:00.251912Z",
     "iopub.status.busy": "2021-11-21T20:08:00.251339Z",
     "iopub.status.idle": "2021-11-21T20:08:00.519581Z",
     "shell.execute_reply": "2021-11-21T20:08:00.519059Z"
    },
    "papermill": {
     "duration": 0.295641,
     "end_time": "2021-11-21T20:08:00.519701",
     "exception": false,
     "start_time": "2021-11-21T20:08:00.224060",
     "status": "completed"
    },
    "tags": []
   },
   "outputs": [],
   "source": [
    "test_images = mnist.test_images()\n",
    "test_labels = mnist.test_labels()"
   ]
  },
  {
   "cell_type": "code",
   "execution_count": 8,
   "id": "fc38cf1b",
   "metadata": {
    "execution": {
     "iopub.execute_input": "2021-11-21T20:08:00.582758Z",
     "iopub.status.busy": "2021-11-21T20:08:00.582244Z",
     "iopub.status.idle": "2021-11-21T20:08:00.590979Z",
     "shell.execute_reply": "2021-11-21T20:08:00.591391Z"
    },
    "papermill": {
     "duration": 0.041652,
     "end_time": "2021-11-21T20:08:00.591518",
     "exception": false,
     "start_time": "2021-11-21T20:08:00.549866",
     "status": "completed"
    },
    "tags": []
   },
   "outputs": [
    {
     "data": {
      "text/plain": [
       "((10000, 28, 28), (10000,))"
      ]
     },
     "execution_count": 8,
     "metadata": {},
     "output_type": "execute_result"
    }
   ],
   "source": [
    "test_images.shape, test_labels.shape"
   ]
  },
  {
   "cell_type": "code",
   "execution_count": 9,
   "id": "f9ed8fe0",
   "metadata": {
    "execution": {
     "iopub.execute_input": "2021-11-21T20:08:00.647614Z",
     "iopub.status.busy": "2021-11-21T20:08:00.647110Z",
     "iopub.status.idle": "2021-11-21T20:08:00.779499Z",
     "shell.execute_reply": "2021-11-21T20:08:00.779970Z"
    },
    "papermill": {
     "duration": 0.163595,
     "end_time": "2021-11-21T20:08:00.780118",
     "exception": false,
     "start_time": "2021-11-21T20:08:00.616523",
     "status": "completed"
    },
    "tags": []
   },
   "outputs": [
    {
     "name": "stdout",
     "output_type": "stream",
     "text": [
      "2\n"
     ]
    },
    {
     "data": {
      "text/plain": [
       "<matplotlib.image.AxesImage at 0x7f6c216a4048>"
      ]
     },
     "execution_count": 9,
     "metadata": {},
     "output_type": "execute_result"
    },
    {
     "data": {
      "image/png": "[encoded data removed]",
      "text/plain": [
       "<Figure size 432x288 with 1 Axes>"
      ]
     },
     "metadata": {
      "needs_background": "light"
     },
     "output_type": "display_data"
    }
   ],
   "source": [
    "image_index = 7776 # You may select anything up to 60,000\n",
    "print(train_labels[image_index]) \n",
    "plt.imshow(train_images[image_index], cmap='Greys')"
   ]
  },
  {
   "cell_type": "markdown",
   "id": "a8d2388d",
   "metadata": {
    "papermill": {
     "duration": 0.02597,
     "end_time": "2021-11-21T20:08:00.832593",
     "exception": false,
     "start_time": "2021-11-21T20:08:00.806623",
     "status": "completed"
    },
    "tags": []
   },
   "source": [
    "## Filter data to get 3 and 8 out"
   ]
  },
  {
   "cell_type": "code",
   "execution_count": 10,
   "id": "776f7fc7",
   "metadata": {
    "execution": {
     "iopub.execute_input": "2021-11-21T20:08:00.888389Z",
     "iopub.status.busy": "2021-11-21T20:08:00.887874Z",
     "iopub.status.idle": "2021-11-21T20:08:00.905565Z",
     "shell.execute_reply": "2021-11-21T20:08:00.905114Z"
    },
    "papermill": {
     "duration": 0.0472,
     "end_time": "2021-11-21T20:08:00.905671",
     "exception": false,
     "start_time": "2021-11-21T20:08:00.858471",
     "status": "completed"
    },
    "tags": []
   },
   "outputs": [],
   "source": [
    "train_filter = np.where((train_labels == 3 ) | (train_labels == 8))\n",
    "test_filter = np.where((test_labels == 3) | (test_labels == 8))\n",
    "X_train, y_train = train_images[train_filter], train_labels[train_filter]\n",
    "X_test, y_test = test_images[test_filter], test_labels[test_filter]"
   ]
  },
  {
   "cell_type": "markdown",
   "id": "948f0b7e",
   "metadata": {
    "papermill": {
     "duration": 0.025875,
     "end_time": "2021-11-21T20:08:00.957574",
     "exception": false,
     "start_time": "2021-11-21T20:08:00.931699",
     "status": "completed"
    },
    "tags": []
   },
   "source": [
    "We normalize the pizel values in the 0 to 1 range"
   ]
  },
  {
   "cell_type": "code",
   "execution_count": 11,
   "id": "ee4c2166",
   "metadata": {
    "execution": {
     "iopub.execute_input": "2021-11-21T20:08:01.012707Z",
     "iopub.status.busy": "2021-11-21T20:08:01.012197Z",
     "iopub.status.idle": "2021-11-21T20:08:01.060936Z",
     "shell.execute_reply": "2021-11-21T20:08:01.060420Z"
    },
    "papermill": {
     "duration": 0.077276,
     "end_time": "2021-11-21T20:08:01.061076",
     "exception": false,
     "start_time": "2021-11-21T20:08:00.983800",
     "status": "completed"
    },
    "tags": []
   },
   "outputs": [],
   "source": [
    "X_train = X_train/255.\n",
    "X_test = X_test/255."
   ]
  },
  {
   "cell_type": "markdown",
   "id": "ddcf4fab",
   "metadata": {
    "papermill": {
     "duration": 0.026021,
     "end_time": "2021-11-21T20:08:01.114335",
     "exception": false,
     "start_time": "2021-11-21T20:08:01.088314",
     "status": "completed"
    },
    "tags": []
   },
   "source": [
    "And setup the labels as 1 (when the digit is 3) and 0 (when the digit is 8)"
   ]
  },
  {
   "cell_type": "code",
   "execution_count": 12,
   "id": "7dc908f2",
   "metadata": {
    "execution": {
     "iopub.execute_input": "2021-11-21T20:08:01.170636Z",
     "iopub.status.busy": "2021-11-21T20:08:01.170102Z",
     "iopub.status.idle": "2021-11-21T20:08:01.183377Z",
     "shell.execute_reply": "2021-11-21T20:08:01.182938Z"
    },
    "papermill": {
     "duration": 0.043162,
     "end_time": "2021-11-21T20:08:01.183488",
     "exception": false,
     "start_time": "2021-11-21T20:08:01.140326",
     "status": "completed"
    },
    "tags": []
   },
   "outputs": [],
   "source": [
    "y_train = 1*(y_train==3)\n",
    "y_test = 1*(y_test==3)"
   ]
  },
  {
   "cell_type": "code",
   "execution_count": 13,
   "id": "01e4e969",
   "metadata": {
    "execution": {
     "iopub.execute_input": "2021-11-21T20:08:01.240271Z",
     "iopub.status.busy": "2021-11-21T20:08:01.239238Z",
     "iopub.status.idle": "2021-11-21T20:08:01.252556Z",
     "shell.execute_reply": "2021-11-21T20:08:01.252960Z"
    },
    "papermill": {
     "duration": 0.043369,
     "end_time": "2021-11-21T20:08:01.253089",
     "exception": false,
     "start_time": "2021-11-21T20:08:01.209720",
     "status": "completed"
    },
    "tags": []
   },
   "outputs": [
    {
     "data": {
      "text/plain": [
       "((11982, 28, 28), (1984, 28, 28))"
      ]
     },
     "execution_count": 13,
     "metadata": {},
     "output_type": "execute_result"
    }
   ],
   "source": [
    "X_train.shape, X_test.shape"
   ]
  },
  {
   "cell_type": "markdown",
   "id": "5ccf3f85",
   "metadata": {
    "papermill": {
     "duration": 0.026144,
     "end_time": "2021-11-21T20:08:01.305518",
     "exception": false,
     "start_time": "2021-11-21T20:08:01.279374",
     "status": "completed"
    },
    "tags": []
   },
   "source": [
    "We reshape the data to flatten the image pixels into a set of features or co-variates:"
   ]
  },
  {
   "cell_type": "code",
   "execution_count": 14,
   "id": "5286a4a3",
   "metadata": {
    "execution": {
     "iopub.execute_input": "2021-11-21T20:08:01.365997Z",
     "iopub.status.busy": "2021-11-21T20:08:01.365453Z",
     "iopub.status.idle": "2021-11-21T20:08:01.375989Z",
     "shell.execute_reply": "2021-11-21T20:08:01.376418Z"
    },
    "papermill": {
     "duration": 0.044743,
     "end_time": "2021-11-21T20:08:01.376537",
     "exception": false,
     "start_time": "2021-11-21T20:08:01.331794",
     "status": "completed"
    },
    "tags": []
   },
   "outputs": [
    {
     "data": {
      "text/plain": [
       "((11982, 784), (1984, 784))"
      ]
     },
     "execution_count": 14,
     "metadata": {},
     "output_type": "execute_result"
    }
   ],
   "source": [
    "X_train = X_train.reshape(X_train.shape[0], -1)\n",
    "X_test = X_test.reshape(X_test.shape[0], -1)\n",
    "X_train.shape, X_test.shape"
   ]
  },
  {
   "cell_type": "code",
   "execution_count": 15,
   "id": "73c5f88a",
   "metadata": {
    "execution": {
     "iopub.execute_input": "2021-11-21T20:08:01.434431Z",
     "iopub.status.busy": "2021-11-21T20:08:01.433920Z",
     "iopub.status.idle": "2021-11-21T20:08:01.451073Z",
     "shell.execute_reply": "2021-11-21T20:08:01.450668Z"
    },
    "papermill": {
     "duration": 0.048038,
     "end_time": "2021-11-21T20:08:01.451179",
     "exception": false,
     "start_time": "2021-11-21T20:08:01.403141",
     "status": "completed"
    },
    "tags": []
   },
   "outputs": [],
   "source": [
    "#Impoting functions from 'Kudzu'\n",
    "from kudzu.model import Model\n",
    "from kudzu.train import Learner\n",
    "from kudzu.optim import GD\n",
    "from kudzu.data import Data, Sampler,Dataloader\n",
    "\n",
    "from kudzu.callbacks import AccCallback\n",
    "from kudzu.callbacks import ClfCallback\n",
    "\n",
    "from kudzu.loss import MSE\n",
    "\n",
    "from kudzu.layer import Sigmoid,Relu\n",
    "from kudzu.layer import Affine"
   ]
  },
  {
   "cell_type": "markdown",
   "id": "bc01172a",
   "metadata": {
    "papermill": {
     "duration": 0.026481,
     "end_time": "2021-11-21T20:08:01.504462",
     "exception": false,
     "start_time": "2021-11-21T20:08:01.477981",
     "status": "completed"
    },
    "tags": []
   },
   "source": [
    "### Let us create a `Config` class, to store important parameters. \n",
    "This class essentially plays the role of a dictionary."
   ]
  },
  {
   "cell_type": "code",
   "execution_count": 16,
   "id": "978281aa",
   "metadata": {
    "execution": {
     "iopub.execute_input": "2021-11-21T20:08:01.560888Z",
     "iopub.status.busy": "2021-11-21T20:08:01.560376Z",
     "iopub.status.idle": "2021-11-21T20:08:01.573245Z",
     "shell.execute_reply": "2021-11-21T20:08:01.572843Z"
    },
    "papermill": {
     "duration": 0.042402,
     "end_time": "2021-11-21T20:08:01.573349",
     "exception": false,
     "start_time": "2021-11-21T20:08:01.530947",
     "status": "completed"
    },
    "tags": []
   },
   "outputs": [],
   "source": [
    "class Config:\n",
    "    pass\n",
    "config = Config()\n",
    "config.lr = 0.001\n",
    "config.num_epochs = 250\n",
    "config.bs = 50"
   ]
  },
  {
   "cell_type": "markdown",
   "id": "1385fa59",
   "metadata": {
    "papermill": {
     "duration": 0.026684,
     "end_time": "2021-11-21T20:08:01.626692",
     "exception": false,
     "start_time": "2021-11-21T20:08:01.600008",
     "status": "completed"
    },
    "tags": []
   },
   "source": [
    "### Running Models with the Training data\n",
    "Details about the network layers:\n",
    "- A first affine layer has 784 inputs and does 100 affine transforms. These are followed by a Relu\n",
    "- A second affine layer has 100 inputs from the 100 activations of the past layer, and does 100 affine transforms. These are followed by a Relu\n",
    "- A third affine layer has 100 activations and does 2 affine transformations to create an embedding for visualization. There is no non-linearity here.\n",
    "- A final \"logistic regression\" which has an affine transform from 2 inputs to 1 output, which is squeezed through a sigmoid.\n"
   ]
  },
  {
   "cell_type": "code",
   "execution_count": 17,
   "id": "2b9c66db",
   "metadata": {
    "execution": {
     "iopub.execute_input": "2021-11-21T20:08:01.686735Z",
     "iopub.status.busy": "2021-11-21T20:08:01.686220Z",
     "iopub.status.idle": "2021-11-21T20:08:01.696983Z",
     "shell.execute_reply": "2021-11-21T20:08:01.696555Z"
    },
    "papermill": {
     "duration": 0.043828,
     "end_time": "2021-11-21T20:08:01.697088",
     "exception": false,
     "start_time": "2021-11-21T20:08:01.653260",
     "status": "completed"
    },
    "tags": []
   },
   "outputs": [],
   "source": [
    "data = Data(X_train, y_train.reshape(-1,1))\n",
    "sampler = Sampler(data, config.bs, shuffle=True)\n",
    "\n",
    "dl = Dataloader(data, sampler)\n",
    "\n",
    "opt = GD(config.lr)\n",
    "loss = MSE()"
   ]
  },
  {
   "cell_type": "code",
   "execution_count": 18,
   "id": "b275e4c2",
   "metadata": {
    "execution": {
     "iopub.execute_input": "2021-11-21T20:08:01.754065Z",
     "iopub.status.busy": "2021-11-21T20:08:01.753537Z",
     "iopub.status.idle": "2021-11-21T20:08:01.765313Z",
     "shell.execute_reply": "2021-11-21T20:08:01.765771Z"
    },
    "papermill": {
     "duration": 0.042082,
     "end_time": "2021-11-21T20:08:01.765890",
     "exception": false,
     "start_time": "2021-11-21T20:08:01.723808",
     "status": "completed"
    },
    "tags": []
   },
   "outputs": [],
   "source": [
    "training_data_x = X_train\n",
    "testing_data_x = X_test\n",
    "training_data_y = y_train.reshape(-1,1)\n",
    "testing_data_y = y_test.reshape(-1,1)"
   ]
  },
  {
   "cell_type": "code",
   "execution_count": 19,
   "id": "76951160",
   "metadata": {
    "execution": {
     "iopub.execute_input": "2021-11-21T20:08:01.822553Z",
     "iopub.status.busy": "2021-11-21T20:08:01.822053Z",
     "iopub.status.idle": "2021-11-21T20:08:01.838387Z",
     "shell.execute_reply": "2021-11-21T20:08:01.837937Z"
    },
    "papermill": {
     "duration": 0.046118,
     "end_time": "2021-11-21T20:08:01.838485",
     "exception": false,
     "start_time": "2021-11-21T20:08:01.792367",
     "status": "completed"
    },
    "tags": []
   },
   "outputs": [
    {
     "name": "stdout",
     "output_type": "stream",
     "text": [
      "xavier\n",
      "xavier\n",
      "xavier\n",
      "xavier\n",
      "xavier\n"
     ]
    }
   ],
   "source": [
    "layers = [Affine(\"first\", 784, 100), Relu(\"first\"), Affine(\"second\", 100, 100), Relu(\"second\"), Affine(\"third\", 100, 2), Affine(\"last\", 2, 1), Sigmoid(\"last\")]\n",
    "model_nn = Model(layers)\n",
    "model_lr = Model([Affine(\"logits\", 784, 1), Sigmoid(\"sigmoid\")])"
   ]
  },
  {
   "cell_type": "code",
   "execution_count": 20,
   "id": "6eede77a",
   "metadata": {
    "execution": {
     "iopub.execute_input": "2021-11-21T20:08:01.903274Z",
     "iopub.status.busy": "2021-11-21T20:08:01.899335Z",
     "iopub.status.idle": "2021-11-21T20:08:01.908873Z",
     "shell.execute_reply": "2021-11-21T20:08:01.908449Z"
    },
    "papermill": {
     "duration": 0.043521,
     "end_time": "2021-11-21T20:08:01.908970",
     "exception": false,
     "start_time": "2021-11-21T20:08:01.865449",
     "status": "completed"
    },
    "tags": []
   },
   "outputs": [],
   "source": [
    "nn_learner = Learner(loss, model_nn, opt, config.num_epochs)\n",
    "acc_nn = ClfCallback(nn_learner, config.bs, training_data_x , testing_data_x, training_data_y, testing_data_y)\n",
    "nn_learner.set_callbacks([acc_nn])"
   ]
  },
  {
   "cell_type": "code",
   "execution_count": 21,
   "id": "877b6cc7",
   "metadata": {
    "execution": {
     "iopub.execute_input": "2021-11-21T20:08:01.965875Z",
     "iopub.status.busy": "2021-11-21T20:08:01.965317Z",
     "iopub.status.idle": "2021-11-21T20:08:01.977404Z",
     "shell.execute_reply": "2021-11-21T20:08:01.976902Z"
    },
    "papermill": {
     "duration": 0.041719,
     "end_time": "2021-11-21T20:08:01.977524",
     "exception": false,
     "start_time": "2021-11-21T20:08:01.935805",
     "status": "completed"
    },
    "tags": []
   },
   "outputs": [],
   "source": [
    "lr_learner = Learner(loss, model_lr, opt, config.num_epochs)\n",
    "acc_lr = ClfCallback(lr_learner, config.bs, training_data_x , testing_data_x, training_data_y, testing_data_y)\n",
    "lr_learner.set_callbacks([acc_lr])"
   ]
  },
  {
   "cell_type": "code",
   "execution_count": 22,
   "id": "d9b133c3",
   "metadata": {
    "execution": {
     "iopub.execute_input": "2021-11-21T20:08:02.045433Z",
     "iopub.status.busy": "2021-11-21T20:08:02.038687Z",
     "iopub.status.idle": "2021-11-21T20:09:17.093288Z",
     "shell.execute_reply": "2021-11-21T20:09:17.094057Z"
    },
    "papermill": {
     "duration": 75.089488,
     "end_time": "2021-11-21T20:09:17.094206",
     "exception": false,
     "start_time": "2021-11-21T20:08:02.004718",
     "status": "completed"
    },
    "tags": []
   },
   "outputs": [
    {
     "name": "stdout",
     "output_type": "stream",
     "text": [
      "Epoch 0, Loss 0.2514\n",
      "Training Accuracy: 0.5339, Testing Accuracy: 0.5297\n",
      "\n"
     ]
    },
    {
     "name": "stdout",
     "output_type": "stream",
     "text": [
      "Epoch 10, Loss 0.1589\n",
      "Training Accuracy: 0.8883, Testing Accuracy: 0.8962\n",
      "\n"
     ]
    },
    {
     "name": "stdout",
     "output_type": "stream",
     "text": [
      "Epoch 20, Loss 0.0776\n",
      "Training Accuracy: 0.9264, Testing Accuracy: 0.9405\n",
      "\n"
     ]
    },
    {
     "name": "stdout",
     "output_type": "stream",
     "text": [
      "Epoch 30, Loss 0.0535\n",
      "Training Accuracy: 0.9432, Testing Accuracy: 0.9526\n",
      "\n"
     ]
    },
    {
     "name": "stdout",
     "output_type": "stream",
     "text": [
      "Epoch 40, Loss 0.0435\n",
      "Training Accuracy: 0.9519, Testing Accuracy: 0.9607\n",
      "\n"
     ]
    },
    {
     "name": "stdout",
     "output_type": "stream",
     "text": [
      "Epoch 50, Loss 0.0382\n",
      "Training Accuracy: 0.9564, Testing Accuracy: 0.9642\n",
      "\n"
     ]
    },
    {
     "name": "stdout",
     "output_type": "stream",
     "text": [
      "Epoch 60, Loss 0.0349\n",
      "Training Accuracy: 0.9600, Testing Accuracy: 0.9652\n",
      "\n"
     ]
    },
    {
     "name": "stdout",
     "output_type": "stream",
     "text": [
      "Epoch 70, Loss 0.0326\n",
      "Training Accuracy: 0.9626, Testing Accuracy: 0.9672\n",
      "\n"
     ]
    },
    {
     "name": "stdout",
     "output_type": "stream",
     "text": [
      "Epoch 80, Loss 0.0309\n",
      "Training Accuracy: 0.9643, Testing Accuracy: 0.9672\n",
      "\n"
     ]
    },
    {
     "name": "stdout",
     "output_type": "stream",
     "text": [
      "Epoch 90, Loss 0.0295\n",
      "Training Accuracy: 0.9654, Testing Accuracy: 0.9667\n",
      "\n"
     ]
    },
    {
     "name": "stdout",
     "output_type": "stream",
     "text": [
      "Epoch 100, Loss 0.0283\n",
      "Training Accuracy: 0.9679, Testing Accuracy: 0.9672\n",
      "\n"
     ]
    },
    {
     "name": "stdout",
     "output_type": "stream",
     "text": [
      "Epoch 110, Loss 0.0273\n",
      "Training Accuracy: 0.9690, Testing Accuracy: 0.9677\n",
      "\n"
     ]
    },
    {
     "name": "stdout",
     "output_type": "stream",
     "text": [
      "Epoch 120, Loss 0.0265\n",
      "Training Accuracy: 0.9698, Testing Accuracy: 0.9672\n",
      "\n"
     ]
    },
    {
     "name": "stdout",
     "output_type": "stream",
     "text": [
      "Epoch 130, Loss 0.0257\n",
      "Training Accuracy: 0.9706, Testing Accuracy: 0.9667\n",
      "\n"
     ]
    },
    {
     "name": "stdout",
     "output_type": "stream",
     "text": [
      "Epoch 140, Loss 0.025\n",
      "Training Accuracy: 0.9713, Testing Accuracy: 0.9688\n",
      "\n"
     ]
    },
    {
     "name": "stdout",
     "output_type": "stream",
     "text": [
      "Epoch 150, Loss 0.0244\n",
      "Training Accuracy: 0.9718, Testing Accuracy: 0.9703\n",
      "\n"
     ]
    },
    {
     "name": "stdout",
     "output_type": "stream",
     "text": [
      "Epoch 160, Loss 0.0238\n",
      "Training Accuracy: 0.9725, Testing Accuracy: 0.9713\n",
      "\n"
     ]
    },
    {
     "name": "stdout",
     "output_type": "stream",
     "text": [
      "Epoch 170, Loss 0.0233\n",
      "Training Accuracy: 0.9735, Testing Accuracy: 0.9713\n",
      "\n"
     ]
    },
    {
     "name": "stdout",
     "output_type": "stream",
     "text": [
      "Epoch 180, Loss 0.0228\n",
      "Training Accuracy: 0.9745, Testing Accuracy: 0.9723\n",
      "\n"
     ]
    },
    {
     "name": "stdout",
     "output_type": "stream",
     "text": [
      "Epoch 190, Loss 0.0223\n",
      "Training Accuracy: 0.9747, Testing Accuracy: 0.9723\n",
      "\n"
     ]
    },
    {
     "name": "stdout",
     "output_type": "stream",
     "text": [
      "Epoch 200, Loss 0.0218\n",
      "Training Accuracy: 0.9753, Testing Accuracy: 0.9728\n",
      "\n"
     ]
    },
    {
     "name": "stdout",
     "output_type": "stream",
     "text": [
      "Epoch 210, Loss 0.0214\n",
      "Training Accuracy: 0.9757, Testing Accuracy: 0.9728\n",
      "\n"
     ]
    },
    {
     "name": "stdout",
     "output_type": "stream",
     "text": [
      "Epoch 220, Loss 0.021\n",
      "Training Accuracy: 0.9761, Testing Accuracy: 0.9728\n",
      "\n"
     ]
    },
    {
     "name": "stdout",
     "output_type": "stream",
     "text": [
      "Epoch 230, Loss 0.0206\n",
      "Training Accuracy: 0.9765, Testing Accuracy: 0.9728\n",
      "\n"
     ]
    },
    {
     "name": "stdout",
     "output_type": "stream",
     "text": [
      "Epoch 240, Loss 0.0203\n",
      "Training Accuracy: 0.9769, Testing Accuracy: 0.9728\n",
      "\n"
     ]
    },
    {
     "data": {
      "text/plain": [
       "0.03816618835890877"
      ]
     },
     "execution_count": 22,
     "metadata": {},
     "output_type": "execute_result"
    }
   ],
   "source": [
    "nn_learner.train_loop(dl)"
   ]
  },
  {
   "cell_type": "code",
   "execution_count": 23,
   "id": "e0163366",
   "metadata": {
    "execution": {
     "iopub.execute_input": "2021-11-21T20:09:17.171210Z",
     "iopub.status.busy": "2021-11-21T20:09:17.170689Z",
     "iopub.status.idle": "2021-11-21T20:09:30.688966Z",
     "shell.execute_reply": "2021-11-21T20:09:30.689754Z"
    },
    "papermill": {
     "duration": 13.561382,
     "end_time": "2021-11-21T20:09:30.689906",
     "exception": false,
     "start_time": "2021-11-21T20:09:17.128524",
     "status": "completed"
    },
    "tags": []
   },
   "outputs": [
    {
     "name": "stdout",
     "output_type": "stream",
     "text": [
      "Epoch 0, Loss 0.2648\n",
      "Training Accuracy: 0.5810, Testing Accuracy: 0.5988\n",
      "\n"
     ]
    },
    {
     "name": "stdout",
     "output_type": "stream",
     "text": [
      "Epoch 10, Loss 0.1054\n",
      "Training Accuracy: 0.9044, Testing Accuracy: 0.9173\n",
      "\n"
     ]
    },
    {
     "name": "stdout",
     "output_type": "stream",
     "text": [
      "Epoch 20, Loss 0.0802\n",
      "Training Accuracy: 0.9252, Testing Accuracy: 0.9410\n",
      "\n"
     ]
    },
    {
     "name": "stdout",
     "output_type": "stream",
     "text": [
      "Epoch 30, Loss 0.0688\n",
      "Training Accuracy: 0.9357, Testing Accuracy: 0.9461\n",
      "\n"
     ]
    },
    {
     "name": "stdout",
     "output_type": "stream",
     "text": [
      "Epoch 40, Loss 0.062\n",
      "Training Accuracy: 0.9422, Testing Accuracy: 0.9536\n",
      "\n"
     ]
    },
    {
     "name": "stdout",
     "output_type": "stream",
     "text": [
      "Epoch 50, Loss 0.0574\n",
      "Training Accuracy: 0.9452, Testing Accuracy: 0.9556\n",
      "\n"
     ]
    },
    {
     "name": "stdout",
     "output_type": "stream",
     "text": [
      "Epoch 60, Loss 0.054\n",
      "Training Accuracy: 0.9480, Testing Accuracy: 0.9582\n",
      "\n"
     ]
    },
    {
     "name": "stdout",
     "output_type": "stream",
     "text": [
      "Epoch 70, Loss 0.0514\n",
      "Training Accuracy: 0.9498, Testing Accuracy: 0.9602\n",
      "\n"
     ]
    },
    {
     "name": "stdout",
     "output_type": "stream",
     "text": [
      "Epoch 80, Loss 0.0493\n",
      "Training Accuracy: 0.9514, Testing Accuracy: 0.9612\n",
      "\n"
     ]
    },
    {
     "name": "stdout",
     "output_type": "stream",
     "text": [
      "Epoch 90, Loss 0.0476\n",
      "Training Accuracy: 0.9523, Testing Accuracy: 0.9642\n",
      "\n"
     ]
    },
    {
     "name": "stdout",
     "output_type": "stream",
     "text": [
      "Epoch 100, Loss 0.0461\n",
      "Training Accuracy: 0.9535, Testing Accuracy: 0.9637\n",
      "\n"
     ]
    },
    {
     "name": "stdout",
     "output_type": "stream",
     "text": [
      "Epoch 110, Loss 0.0449\n",
      "Training Accuracy: 0.9543, Testing Accuracy: 0.9642\n",
      "\n"
     ]
    },
    {
     "name": "stdout",
     "output_type": "stream",
     "text": [
      "Epoch 120, Loss 0.0438\n",
      "Training Accuracy: 0.9551, Testing Accuracy: 0.9657\n",
      "\n"
     ]
    },
    {
     "name": "stdout",
     "output_type": "stream",
     "text": [
      "Epoch 130, Loss 0.0429\n",
      "Training Accuracy: 0.9559, Testing Accuracy: 0.9667\n",
      "\n"
     ]
    },
    {
     "name": "stdout",
     "output_type": "stream",
     "text": [
      "Epoch 140, Loss 0.042\n",
      "Training Accuracy: 0.9564, Testing Accuracy: 0.9662\n",
      "\n"
     ]
    },
    {
     "name": "stdout",
     "output_type": "stream",
     "text": [
      "Epoch 150, Loss 0.0413\n",
      "Training Accuracy: 0.9565, Testing Accuracy: 0.9662\n",
      "\n"
     ]
    },
    {
     "name": "stdout",
     "output_type": "stream",
     "text": [
      "Epoch 160, Loss 0.0406\n",
      "Training Accuracy: 0.9577, Testing Accuracy: 0.9662\n",
      "\n"
     ]
    },
    {
     "name": "stdout",
     "output_type": "stream",
     "text": [
      "Epoch 170, Loss 0.04\n",
      "Training Accuracy: 0.9585, Testing Accuracy: 0.9667\n",
      "\n"
     ]
    },
    {
     "name": "stdout",
     "output_type": "stream",
     "text": [
      "Epoch 180, Loss 0.0394\n",
      "Training Accuracy: 0.9589, Testing Accuracy: 0.9672\n",
      "\n"
     ]
    },
    {
     "name": "stdout",
     "output_type": "stream",
     "text": [
      "Epoch 190, Loss 0.0389\n",
      "Training Accuracy: 0.9594, Testing Accuracy: 0.9677\n",
      "\n"
     ]
    },
    {
     "name": "stdout",
     "output_type": "stream",
     "text": [
      "Epoch 200, Loss 0.0384\n",
      "Training Accuracy: 0.9598, Testing Accuracy: 0.9677\n",
      "\n"
     ]
    },
    {
     "name": "stdout",
     "output_type": "stream",
     "text": [
      "Epoch 210, Loss 0.0379\n",
      "Training Accuracy: 0.9604, Testing Accuracy: 0.9682\n",
      "\n"
     ]
    },
    {
     "name": "stdout",
     "output_type": "stream",
     "text": [
      "Epoch 220, Loss 0.0375\n",
      "Training Accuracy: 0.9608, Testing Accuracy: 0.9688\n",
      "\n"
     ]
    },
    {
     "name": "stdout",
     "output_type": "stream",
     "text": [
      "Epoch 230, Loss 0.0371\n",
      "Training Accuracy: 0.9610, Testing Accuracy: 0.9693\n",
      "\n"
     ]
    },
    {
     "name": "stdout",
     "output_type": "stream",
     "text": [
      "Epoch 240, Loss 0.0368\n",
      "Training Accuracy: 0.9613, Testing Accuracy: 0.9688\n",
      "\n"
     ]
    },
    {
     "data": {
      "text/plain": [
       "0.050766377252687414"
      ]
     },
     "execution_count": 23,
     "metadata": {},
     "output_type": "execute_result"
    }
   ],
   "source": [
    "lr_learner.train_loop(dl)"
   ]
  },
  {
   "cell_type": "code",
   "execution_count": 24,
   "id": "ca410940",
   "metadata": {
    "execution": {
     "iopub.execute_input": "2021-11-21T20:09:30.786592Z",
     "iopub.status.busy": "2021-11-21T20:09:30.786074Z",
     "iopub.status.idle": "2021-11-21T20:09:30.991319Z",
     "shell.execute_reply": "2021-11-21T20:09:30.991712Z"
    },
    "papermill": {
     "duration": 0.260803,
     "end_time": "2021-11-21T20:09:30.991852",
     "exception": false,
     "start_time": "2021-11-21T20:09:30.731049",
     "status": "completed"
    },
    "tags": []
   },
   "outputs": [
    {
     "data": {
      "text/plain": [
       "<matplotlib.legend.Legend at 0x7f6c212037b8>"
      ]
     },
     "execution_count": 24,
     "metadata": {},
     "output_type": "execute_result"
    },
    {
     "data": {
      "image/png": "[encoded data removed]",
      "text/plain": [
       "<Figure size 1080x720 with 1 Axes>"
      ]
     },
     "metadata": {
      "needs_background": "light"
     },
     "output_type": "display_data"
    }
   ],
   "source": [
    "#comparing the results of NN and LR\n",
    "plt.figure(figsize=(15,10))\n",
    "\n",
    "# Neural Network plots\n",
    "plt.plot(acc_nn.accuracies, 'r-', label = \"Training Accuracies - NN\")\n",
    "plt.plot(acc_nn.test_accuracies, 'g-', label = \"Testing Accuracies - NN\")\n",
    "\n",
    "# Logistic Regression plots\n",
    "plt.plot(acc_lr.accuracies, 'k-', label = \"Training Accuracies - LR\")\n",
    "plt.plot(acc_lr.test_accuracies, 'b-', label = \"Testing Accuracies - LR\")\n",
    "plt.legend()"
   ]
  },
  {
   "cell_type": "markdown",
   "id": "80dfb35c",
   "metadata": {
    "papermill": {
     "duration": 0.041417,
     "end_time": "2021-11-21T20:09:31.075416",
     "exception": false,
     "start_time": "2021-11-21T20:09:31.033999",
     "status": "completed"
    },
    "tags": []
   },
   "source": [
    "#### Plotting the outputs of this layer of the NN.\n"
   ]
  },
  {
   "cell_type": "code",
   "execution_count": 25,
   "id": "45eb2ff5",
   "metadata": {
    "execution": {
     "iopub.execute_input": "2021-11-21T20:09:31.163346Z",
     "iopub.status.busy": "2021-11-21T20:09:31.162812Z",
     "iopub.status.idle": "2021-11-21T20:09:31.181724Z",
     "shell.execute_reply": "2021-11-21T20:09:31.181257Z"
    },
    "papermill": {
     "duration": 0.065059,
     "end_time": "2021-11-21T20:09:31.181834",
     "exception": false,
     "start_time": "2021-11-21T20:09:31.116775",
     "status": "completed"
    },
    "tags": []
   },
   "outputs": [],
   "source": [
    "new_model = Model(layers[:-2])\n",
    "testing_plot = new_model(testing_data_x)"
   ]
  },
  {
   "cell_type": "code",
   "execution_count": 26,
   "id": "4c0a5485",
   "metadata": {
    "execution": {
     "iopub.execute_input": "2021-11-21T20:09:31.274215Z",
     "iopub.status.busy": "2021-11-21T20:09:31.271321Z",
     "iopub.status.idle": "2021-11-21T20:09:31.460446Z",
     "shell.execute_reply": "2021-11-21T20:09:31.459680Z"
    },
    "papermill": {
     "duration": 0.237021,
     "end_time": "2021-11-21T20:09:31.460561",
     "exception": false,
     "start_time": "2021-11-21T20:09:31.223540",
     "status": "completed"
    },
    "tags": []
   },
   "outputs": [
    {
     "data": {
      "text/plain": [
       "Text(0.5, 1.0, 'Outputs')"
      ]
     },
     "execution_count": 26,
     "metadata": {},
     "output_type": "execute_result"
    },
    {
     "data": {
      "image/png": "[encoded data removed]",
      "text/plain": [
       "<Figure size 576x504 with 1 Axes>"
      ]
     },
     "metadata": {
      "needs_background": "light"
     },
     "output_type": "display_data"
    }
   ],
   "source": [
    "# Plotting the scatter plot of points and color coding by class\n",
    "plt.figure(figsize=(8,7))\n",
    "plt.scatter(testing_plot[:,0], testing_plot[:,1], alpha = 0.1, c = y_test.ravel());\n",
    "plt.title('Outputs')"
   ]
  },
  {
   "cell_type": "markdown",
   "id": "a74fcf8f",
   "metadata": {
    "papermill": {
     "duration": 0.043239,
     "end_time": "2021-11-21T20:09:31.547342",
     "exception": false,
     "start_time": "2021-11-21T20:09:31.504103",
     "status": "completed"
    },
    "tags": []
   },
   "source": [
    "Probability contours"
   ]
  },
  {
   "cell_type": "code",
   "execution_count": 27,
   "id": "d0afc8e3",
   "metadata": {
    "execution": {
     "iopub.execute_input": "2021-11-21T20:09:31.643276Z",
     "iopub.status.busy": "2021-11-21T20:09:31.640015Z",
     "iopub.status.idle": "2021-11-21T20:09:31.650797Z",
     "shell.execute_reply": "2021-11-21T20:09:31.650368Z"
    },
    "papermill": {
     "duration": 0.060319,
     "end_time": "2021-11-21T20:09:31.650898",
     "exception": false,
     "start_time": "2021-11-21T20:09:31.590579",
     "status": "completed"
    },
    "tags": []
   },
   "outputs": [],
   "source": [
    "model_prob = Model(layers[-2:]) "
   ]
  },
  {
   "cell_type": "code",
   "execution_count": 28,
   "id": "9b96e238",
   "metadata": {
    "execution": {
     "iopub.execute_input": "2021-11-21T20:09:31.775499Z",
     "iopub.status.busy": "2021-11-21T20:09:31.773750Z",
     "iopub.status.idle": "2021-11-21T20:09:31.788549Z",
     "shell.execute_reply": "2021-11-21T20:09:31.788137Z"
    },
    "papermill": {
     "duration": 0.066405,
     "end_time": "2021-11-21T20:09:31.788658",
     "exception": false,
     "start_time": "2021-11-21T20:09:31.722253",
     "status": "completed"
    },
    "tags": []
   },
   "outputs": [],
   "source": [
    "#creating the x and y ranges according to the above generated plot.\n",
    "x_range = np.linspace(-4, 1, 100) \n",
    "y_range = np.linspace(-6, 6, 100) \n",
    "x_grid, y_grid = np.meshgrid(x_range, y_range) # x_grid and y_grig are of size 100 X 100\n",
    "\n",
    "# converting x_grid and y_grid to continuous arrays\n",
    "x_gridflat = np.ravel(x_grid)\n",
    "y_gridflat = np.ravel(y_grid)\n",
    "\n",
    "# The last layer of the current model takes two columns as input. Hence transpose of np.vstack() is required.\n",
    "X = np.vstack((x_gridflat, y_gridflat)).T\n",
    "\n",
    "prob_contour = model_prob(X).reshape(100,100) "
   ]
  },
  {
   "cell_type": "code",
   "execution_count": 29,
   "id": "da72499a",
   "metadata": {
    "execution": {
     "iopub.execute_input": "2021-11-21T20:09:31.886697Z",
     "iopub.status.busy": "2021-11-21T20:09:31.886200Z",
     "iopub.status.idle": "2021-11-21T20:09:32.124562Z",
     "shell.execute_reply": "2021-11-21T20:09:32.124047Z"
    },
    "papermill": {
     "duration": 0.292359,
     "end_time": "2021-11-21T20:09:32.124691",
     "exception": false,
     "start_time": "2021-11-21T20:09:31.832332",
     "status": "completed"
    },
    "tags": []
   },
   "outputs": [
    {
     "data": {
      "image/png": "[encoded data removed]",
      "text/plain": [
       "<Figure size 720x648 with 1 Axes>"
      ]
     },
     "metadata": {
      "needs_background": "light"
     },
     "output_type": "display_data"
    }
   ],
   "source": [
    "plt.figure(figsize=(10,9))\n",
    "plt.scatter(testing_plot[:,0], testing_plot[:,1], alpha = 0.1, c = y_test.ravel())\n",
    "contours = plt.contour(x_grid,y_grid,prob_contour)\n",
    "plt.title('Probability Contours')\n",
    "plt.clabel(contours, inline = True );"
   ]
  },
  {
   "cell_type": "code",
   "execution_count": null,
   "id": "e81b4ac7",
   "metadata": {
    "papermill": {
     "duration": 0.045939,
     "end_time": "2021-11-21T20:09:32.217317",
     "exception": false,
     "start_time": "2021-11-21T20:09:32.171378",
     "status": "completed"
    },
    "tags": []
   },
   "outputs": [],
   "source": []
  }
 ],
 "metadata": {
  "kernelspec": {
   "display_name": "Python 3",
   "language": "python",
   "name": "python3"
  },
  "language_info": {
   "codemirror_mode": {
    "name": "ipython",
    "version": 3
   },
   "file_extension": ".py",
   "mimetype": "text/x-python",
   "name": "python",
   "nbconvert_exporter": "python",
   "pygments_lexer": "ipython3",
   "version": "3.6.15"
  },
  "papermill": {
   "default_parameters": {},
   "duration": 96.982244,
   "end_time": "2021-11-21T20:09:32.670928",
   "environment_variables": {},
   "exception": null,
   "input_path": "2020-08-11-part2.ipynb",
   "output_path": "2020-08-11-part2.ipynb",
   "parameters": {},
   "start_time": "2021-11-21T20:07:55.688684",
   "version": "2.3.3"
  }
 },
 "nbformat": 4,
 "nbformat_minor": 5
}