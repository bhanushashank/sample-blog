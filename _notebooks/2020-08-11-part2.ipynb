{
 "cells": [
  {
   "cell_type": "markdown",
   "id": "98380cd3",
   "metadata": {
    "papermill": {
     "duration": 0.029923,
     "end_time": "2022-11-26T00:34:14.597073",
     "exception": false,
     "start_time": "2022-11-26T00:34:14.567150",
     "status": "completed"
    },
    "tags": []
   },
   "source": [
    "# Distinguish Your Own Digits (DYOD)"
   ]
  },
  {
   "cell_type": "markdown",
   "id": "ef31240d",
   "metadata": {
    "papermill": {
     "duration": 0.023586,
     "end_time": "2022-11-26T00:34:14.644801",
     "exception": false,
     "start_time": "2022-11-26T00:34:14.621215",
     "status": "completed"
    },
    "tags": []
   },
   "source": [
    "You are going to write a classifier that distinguishes between the number 3 and number 8."
   ]
  },
  {
   "cell_type": "code",
   "execution_count": 1,
   "id": "b15c8646",
   "metadata": {
    "execution": {
     "iopub.execute_input": "2022-11-26T00:34:14.702462Z",
     "iopub.status.busy": "2022-11-26T00:34:14.701856Z",
     "iopub.status.idle": "2022-11-26T00:34:14.713175Z",
     "shell.execute_reply": "2022-11-26T00:34:14.712698Z"
    },
    "papermill": {
     "duration": 0.045165,
     "end_time": "2022-11-26T00:34:14.713304",
     "exception": false,
     "start_time": "2022-11-26T00:34:14.668139",
     "status": "completed"
    },
    "tags": []
   },
   "outputs": [],
   "source": [
    "%load_ext autoreload\n",
    "%autoreload 2"
   ]
  },
  {
   "cell_type": "code",
   "execution_count": 2,
   "id": "22ef38dc",
   "metadata": {
    "execution": {
     "iopub.execute_input": "2022-11-26T00:34:14.770617Z",
     "iopub.status.busy": "2022-11-26T00:34:14.770011Z",
     "iopub.status.idle": "2022-11-26T00:34:15.302003Z",
     "shell.execute_reply": "2022-11-26T00:34:15.301347Z"
    },
    "papermill": {
     "duration": 0.565294,
     "end_time": "2022-11-26T00:34:15.302148",
     "exception": false,
     "start_time": "2022-11-26T00:34:14.736854",
     "status": "completed"
    },
    "tags": []
   },
   "outputs": [],
   "source": [
    "%matplotlib inline\n",
    "import numpy as np\n",
    "import matplotlib.pyplot as plt\n",
    "import pandas as pd"
   ]
  },
  {
   "cell_type": "markdown",
   "id": "ba036198",
   "metadata": {
    "papermill": {
     "duration": 0.023927,
     "end_time": "2022-11-26T00:34:15.354145",
     "exception": false,
     "start_time": "2022-11-26T00:34:15.330218",
     "status": "completed"
    },
    "tags": []
   },
   "source": [
    "From the command line run `pip install mnist`. This is a library that will help you bring down the mnist dataset. If you run this from a notebook, you need to put  `!pip install mnist` in a cell by itself."
   ]
  },
  {
   "cell_type": "code",
   "execution_count": 3,
   "id": "bb6ad8a1",
   "metadata": {
    "execution": {
     "iopub.execute_input": "2022-11-26T00:34:15.405898Z",
     "iopub.status.busy": "2022-11-26T00:34:15.405284Z",
     "iopub.status.idle": "2022-11-26T00:34:16.975568Z",
     "shell.execute_reply": "2022-11-26T00:34:16.975017Z"
    },
    "papermill": {
     "duration": 1.597721,
     "end_time": "2022-11-26T00:34:16.975696",
     "exception": false,
     "start_time": "2022-11-26T00:34:15.377975",
     "status": "completed"
    },
    "tags": []
   },
   "outputs": [
    {
     "name": "stdout",
     "output_type": "stream",
     "text": [
      "Collecting mnist\r\n"
     ]
    },
    {
     "name": "stdout",
     "output_type": "stream",
     "text": [
      "  Downloading mnist-0.2.2-py2.py3-none-any.whl (3.5 kB)\r\n",
      "Requirement already satisfied: numpy in /opt/hostedtoolcache/Python/3.6.15/x64/lib/python3.6/site-packages (from mnist) (1.19.5)\r\n"
     ]
    },
    {
     "name": "stdout",
     "output_type": "stream",
     "text": [
      "Installing collected packages: mnist\r\n"
     ]
    },
    {
     "name": "stdout",
     "output_type": "stream",
     "text": [
      "Successfully installed mnist-0.2.2\r\n"
     ]
    }
   ],
   "source": [
    "!pip install mnist"
   ]
  },
  {
   "cell_type": "markdown",
   "id": "69df9c9a",
   "metadata": {
    "papermill": {
     "duration": 0.025244,
     "end_time": "2022-11-26T00:34:17.026037",
     "exception": false,
     "start_time": "2022-11-26T00:34:17.000793",
     "status": "completed"
    },
    "tags": []
   },
   "source": [
    "## Preparing the Data"
   ]
  },
  {
   "cell_type": "code",
   "execution_count": 4,
   "id": "7f69d806",
   "metadata": {
    "execution": {
     "iopub.execute_input": "2022-11-26T00:34:17.094152Z",
     "iopub.status.busy": "2022-11-26T00:34:17.091175Z",
     "iopub.status.idle": "2022-11-26T00:34:17.098421Z",
     "shell.execute_reply": "2022-11-26T00:34:17.097864Z"
    },
    "papermill": {
     "duration": 0.047909,
     "end_time": "2022-11-26T00:34:17.098531",
     "exception": false,
     "start_time": "2022-11-26T00:34:17.050622",
     "status": "completed"
    },
    "tags": []
   },
   "outputs": [],
   "source": [
    "import mnist"
   ]
  },
  {
   "cell_type": "code",
   "execution_count": 5,
   "id": "a411e44f",
   "metadata": {
    "execution": {
     "iopub.execute_input": "2022-11-26T00:34:17.157538Z",
     "iopub.status.busy": "2022-11-26T00:34:17.152232Z",
     "iopub.status.idle": "2022-11-26T00:34:17.668440Z",
     "shell.execute_reply": "2022-11-26T00:34:17.667891Z"
    },
    "papermill": {
     "duration": 0.545447,
     "end_time": "2022-11-26T00:34:17.668569",
     "exception": false,
     "start_time": "2022-11-26T00:34:17.123122",
     "status": "completed"
    },
    "tags": []
   },
   "outputs": [],
   "source": [
    "train_images = mnist.train_images()\n",
    "train_labels = mnist.train_labels()"
   ]
  },
  {
   "cell_type": "code",
   "execution_count": 6,
   "id": "dceab3a5",
   "metadata": {
    "execution": {
     "iopub.execute_input": "2022-11-26T00:34:17.727992Z",
     "iopub.status.busy": "2022-11-26T00:34:17.721541Z",
     "iopub.status.idle": "2022-11-26T00:34:17.738966Z",
     "shell.execute_reply": "2022-11-26T00:34:17.738215Z"
    },
    "papermill": {
     "duration": 0.045399,
     "end_time": "2022-11-26T00:34:17.739075",
     "exception": false,
     "start_time": "2022-11-26T00:34:17.693676",
     "status": "completed"
    },
    "tags": []
   },
   "outputs": [
    {
     "data": {
      "text/plain": [
       "((60000, 28, 28), (60000,))"
      ]
     },
     "execution_count": 6,
     "metadata": {},
     "output_type": "execute_result"
    }
   ],
   "source": [
    "train_images.shape, train_labels.shape"
   ]
  },
  {
   "cell_type": "code",
   "execution_count": 7,
   "id": "f50dc2bb",
   "metadata": {
    "execution": {
     "iopub.execute_input": "2022-11-26T00:34:17.792432Z",
     "iopub.status.busy": "2022-11-26T00:34:17.791860Z",
     "iopub.status.idle": "2022-11-26T00:34:17.921864Z",
     "shell.execute_reply": "2022-11-26T00:34:17.921172Z"
    },
    "papermill": {
     "duration": 0.15812,
     "end_time": "2022-11-26T00:34:17.921989",
     "exception": false,
     "start_time": "2022-11-26T00:34:17.763869",
     "status": "completed"
    },
    "tags": []
   },
   "outputs": [],
   "source": [
    "test_images = mnist.test_images()\n",
    "test_labels = mnist.test_labels()"
   ]
  },
  {
   "cell_type": "code",
   "execution_count": 8,
   "id": "fc38cf1b",
   "metadata": {
    "execution": {
     "iopub.execute_input": "2022-11-26T00:34:17.978726Z",
     "iopub.status.busy": "2022-11-26T00:34:17.978148Z",
     "iopub.status.idle": "2022-11-26T00:34:17.990642Z",
     "shell.execute_reply": "2022-11-26T00:34:17.990173Z"
    },
    "papermill": {
     "duration": 0.043487,
     "end_time": "2022-11-26T00:34:17.990751",
     "exception": false,
     "start_time": "2022-11-26T00:34:17.947264",
     "status": "completed"
    },
    "tags": []
   },
   "outputs": [
    {
     "data": {
      "text/plain": [
       "((10000, 28, 28), (10000,))"
      ]
     },
     "execution_count": 8,
     "metadata": {},
     "output_type": "execute_result"
    }
   ],
   "source": [
    "test_images.shape, test_labels.shape"
   ]
  },
  {
   "cell_type": "code",
   "execution_count": 9,
   "id": "f9ed8fe0",
   "metadata": {
    "execution": {
     "iopub.execute_input": "2022-11-26T00:34:18.054215Z",
     "iopub.status.busy": "2022-11-26T00:34:18.053644Z",
     "iopub.status.idle": "2022-11-26T00:34:18.186905Z",
     "shell.execute_reply": "2022-11-26T00:34:18.186407Z"
    },
    "papermill": {
     "duration": 0.171203,
     "end_time": "2022-11-26T00:34:18.187028",
     "exception": false,
     "start_time": "2022-11-26T00:34:18.015825",
     "status": "completed"
    },
    "tags": []
   },
   "outputs": [
    {
     "name": "stdout",
     "output_type": "stream",
     "text": [
      "2\n"
     ]
    },
    {
     "data": {
      "text/plain": [
       "<matplotlib.image.AxesImage at 0x7fdc64ce9d68>"
      ]
     },
     "execution_count": 9,
     "metadata": {},
     "output_type": "execute_result"
    },
    {
     "data": {
      "image/png": "[encoded data removed]",
      "text/plain": [
       "<Figure size 432x288 with 1 Axes>"
      ]
     },
     "metadata": {
      "needs_background": "light"
     },
     "output_type": "display_data"
    }
   ],
   "source": [
    "image_index = 7776 # You may select anything up to 60,000\n",
    "print(train_labels[image_index]) \n",
    "plt.imshow(train_images[image_index], cmap='Greys')"
   ]
  },
  {
   "cell_type": "markdown",
   "id": "a8d2388d",
   "metadata": {
    "papermill": {
     "duration": 0.026569,
     "end_time": "2022-11-26T00:34:18.240102",
     "exception": false,
     "start_time": "2022-11-26T00:34:18.213533",
     "status": "completed"
    },
    "tags": []
   },
   "source": [
    "## Filter data to get 3 and 8 out"
   ]
  },
  {
   "cell_type": "code",
   "execution_count": 10,
   "id": "776f7fc7",
   "metadata": {
    "execution": {
     "iopub.execute_input": "2022-11-26T00:34:18.299158Z",
     "iopub.status.busy": "2022-11-26T00:34:18.298510Z",
     "iopub.status.idle": "2022-11-26T00:34:18.313486Z",
     "shell.execute_reply": "2022-11-26T00:34:18.312956Z"
    },
    "papermill": {
     "duration": 0.047312,
     "end_time": "2022-11-26T00:34:18.313606",
     "exception": false,
     "start_time": "2022-11-26T00:34:18.266294",
     "status": "completed"
    },
    "tags": []
   },
   "outputs": [],
   "source": [
    "train_filter = np.where((train_labels == 3 ) | (train_labels == 8))\n",
    "test_filter = np.where((test_labels == 3) | (test_labels == 8))\n",
    "X_train, y_train = train_images[train_filter], train_labels[train_filter]\n",
    "X_test, y_test = test_images[test_filter], test_labels[test_filter]"
   ]
  },
  {
   "cell_type": "markdown",
   "id": "948f0b7e",
   "metadata": {
    "papermill": {
     "duration": 0.026026,
     "end_time": "2022-11-26T00:34:18.365829",
     "exception": false,
     "start_time": "2022-11-26T00:34:18.339803",
     "status": "completed"
    },
    "tags": []
   },
   "source": [
    "We normalize the pizel values in the 0 to 1 range"
   ]
  },
  {
   "cell_type": "code",
   "execution_count": 11,
   "id": "ee4c2166",
   "metadata": {
    "execution": {
     "iopub.execute_input": "2022-11-26T00:34:18.421984Z",
     "iopub.status.busy": "2022-11-26T00:34:18.421364Z",
     "iopub.status.idle": "2022-11-26T00:34:18.467537Z",
     "shell.execute_reply": "2022-11-26T00:34:18.468074Z"
    },
    "papermill": {
     "duration": 0.0764,
     "end_time": "2022-11-26T00:34:18.468231",
     "exception": false,
     "start_time": "2022-11-26T00:34:18.391831",
     "status": "completed"
    },
    "tags": []
   },
   "outputs": [],
   "source": [
    "X_train = X_train/255.\n",
    "X_test = X_test/255."
   ]
  },
  {
   "cell_type": "markdown",
   "id": "ddcf4fab",
   "metadata": {
    "papermill": {
     "duration": 0.026362,
     "end_time": "2022-11-26T00:34:18.521411",
     "exception": false,
     "start_time": "2022-11-26T00:34:18.495049",
     "status": "completed"
    },
    "tags": []
   },
   "source": [
    "And setup the labels as 1 (when the digit is 3) and 0 (when the digit is 8)"
   ]
  },
  {
   "cell_type": "code",
   "execution_count": 12,
   "id": "7dc908f2",
   "metadata": {
    "execution": {
     "iopub.execute_input": "2022-11-26T00:34:18.577568Z",
     "iopub.status.busy": "2022-11-26T00:34:18.576966Z",
     "iopub.status.idle": "2022-11-26T00:34:18.589220Z",
     "shell.execute_reply": "2022-11-26T00:34:18.589803Z"
    },
    "papermill": {
     "duration": 0.042358,
     "end_time": "2022-11-26T00:34:18.589927",
     "exception": false,
     "start_time": "2022-11-26T00:34:18.547569",
     "status": "completed"
    },
    "tags": []
   },
   "outputs": [],
   "source": [
    "y_train = 1*(y_train==3)\n",
    "y_test = 1*(y_test==3)"
   ]
  },
  {
   "cell_type": "code",
   "execution_count": 13,
   "id": "01e4e969",
   "metadata": {
    "execution": {
     "iopub.execute_input": "2022-11-26T00:34:18.646887Z",
     "iopub.status.busy": "2022-11-26T00:34:18.646324Z",
     "iopub.status.idle": "2022-11-26T00:34:18.660631Z",
     "shell.execute_reply": "2022-11-26T00:34:18.660073Z"
    },
    "papermill": {
     "duration": 0.044671,
     "end_time": "2022-11-26T00:34:18.660738",
     "exception": false,
     "start_time": "2022-11-26T00:34:18.616067",
     "status": "completed"
    },
    "tags": []
   },
   "outputs": [
    {
     "data": {
      "text/plain": [
       "((11982, 28, 28), (1984, 28, 28))"
      ]
     },
     "execution_count": 13,
     "metadata": {},
     "output_type": "execute_result"
    }
   ],
   "source": [
    "X_train.shape, X_test.shape"
   ]
  },
  {
   "cell_type": "markdown",
   "id": "5ccf3f85",
   "metadata": {
    "papermill": {
     "duration": 0.026305,
     "end_time": "2022-11-26T00:34:18.713300",
     "exception": false,
     "start_time": "2022-11-26T00:34:18.686995",
     "status": "completed"
    },
    "tags": []
   },
   "source": [
    "We reshape the data to flatten the image pixels into a set of features or co-variates:"
   ]
  },
  {
   "cell_type": "code",
   "execution_count": 14,
   "id": "5286a4a3",
   "metadata": {
    "execution": {
     "iopub.execute_input": "2022-11-26T00:34:18.774578Z",
     "iopub.status.busy": "2022-11-26T00:34:18.773996Z",
     "iopub.status.idle": "2022-11-26T00:34:18.784730Z",
     "shell.execute_reply": "2022-11-26T00:34:18.785169Z"
    },
    "papermill": {
     "duration": 0.045474,
     "end_time": "2022-11-26T00:34:18.785292",
     "exception": false,
     "start_time": "2022-11-26T00:34:18.739818",
     "status": "completed"
    },
    "tags": []
   },
   "outputs": [
    {
     "data": {
      "text/plain": [
       "((11982, 784), (1984, 784))"
      ]
     },
     "execution_count": 14,
     "metadata": {},
     "output_type": "execute_result"
    }
   ],
   "source": [
    "X_train = X_train.reshape(X_train.shape[0], -1)\n",
    "X_test = X_test.reshape(X_test.shape[0], -1)\n",
    "X_train.shape, X_test.shape"
   ]
  },
  {
   "cell_type": "code",
   "execution_count": 15,
   "id": "73c5f88a",
   "metadata": {
    "execution": {
     "iopub.execute_input": "2022-11-26T00:34:18.854568Z",
     "iopub.status.busy": "2022-11-26T00:34:18.849906Z",
     "iopub.status.idle": "2022-11-26T00:34:18.865136Z",
     "shell.execute_reply": "2022-11-26T00:34:18.864185Z"
    },
    "papermill": {
     "duration": 0.05333,
     "end_time": "2022-11-26T00:34:18.865246",
     "exception": false,
     "start_time": "2022-11-26T00:34:18.811916",
     "status": "completed"
    },
    "tags": []
   },
   "outputs": [],
   "source": [
    "#Impoting functions from 'Kudzu'\n",
    "from kudzu.model import Model\n",
    "from kudzu.train import Learner\n",
    "from kudzu.optim import GD\n",
    "from kudzu.data import Data, Sampler,Dataloader\n",
    "\n",
    "from kudzu.callbacks import AccCallback\n",
    "from kudzu.callbacks import ClfCallback\n",
    "\n",
    "from kudzu.loss import MSE\n",
    "\n",
    "from kudzu.layer import Sigmoid,Relu\n",
    "from kudzu.layer import Affine"
   ]
  },
  {
   "cell_type": "markdown",
   "id": "bc01172a",
   "metadata": {
    "papermill": {
     "duration": 0.026989,
     "end_time": "2022-11-26T00:34:18.919879",
     "exception": false,
     "start_time": "2022-11-26T00:34:18.892890",
     "status": "completed"
    },
    "tags": []
   },
   "source": [
    "### Let us create a `Config` class, to store important parameters. \n",
    "This class essentially plays the role of a dictionary."
   ]
  },
  {
   "cell_type": "code",
   "execution_count": 16,
   "id": "978281aa",
   "metadata": {
    "execution": {
     "iopub.execute_input": "2022-11-26T00:34:18.976734Z",
     "iopub.status.busy": "2022-11-26T00:34:18.976155Z",
     "iopub.status.idle": "2022-11-26T00:34:18.988898Z",
     "shell.execute_reply": "2022-11-26T00:34:18.988433Z"
    },
    "papermill": {
     "duration": 0.042723,
     "end_time": "2022-11-26T00:34:18.989002",
     "exception": false,
     "start_time": "2022-11-26T00:34:18.946279",
     "status": "completed"
    },
    "tags": []
   },
   "outputs": [],
   "source": [
    "class Config:\n",
    "    pass\n",
    "config = Config()\n",
    "config.lr = 0.001\n",
    "config.num_epochs = 250\n",
    "config.bs = 50"
   ]
  },
  {
   "cell_type": "markdown",
   "id": "1385fa59",
   "metadata": {
    "papermill": {
     "duration": 0.026854,
     "end_time": "2022-11-26T00:34:19.042331",
     "exception": false,
     "start_time": "2022-11-26T00:34:19.015477",
     "status": "completed"
    },
    "tags": []
   },
   "source": [
    "### Running Models with the Training data\n",
    "Details about the network layers:\n",
    "- A first affine layer has 784 inputs and does 100 affine transforms. These are followed by a Relu\n",
    "- A second affine layer has 100 inputs from the 100 activations of the past layer, and does 100 affine transforms. These are followed by a Relu\n",
    "- A third affine layer has 100 activations and does 2 affine transformations to create an embedding for visualization. There is no non-linearity here.\n",
    "- A final \"logistic regression\" which has an affine transform from 2 inputs to 1 output, which is squeezed through a sigmoid.\n"
   ]
  },
  {
   "cell_type": "code",
   "execution_count": 17,
   "id": "2b9c66db",
   "metadata": {
    "execution": {
     "iopub.execute_input": "2022-11-26T00:34:19.099784Z",
     "iopub.status.busy": "2022-11-26T00:34:19.099203Z",
     "iopub.status.idle": "2022-11-26T00:34:19.112046Z",
     "shell.execute_reply": "2022-11-26T00:34:19.111574Z"
    },
    "papermill": {
     "duration": 0.043222,
     "end_time": "2022-11-26T00:34:19.112152",
     "exception": false,
     "start_time": "2022-11-26T00:34:19.068930",
     "status": "completed"
    },
    "tags": []
   },
   "outputs": [],
   "source": [
    "data = Data(X_train, y_train.reshape(-1,1))\n",
    "sampler = Sampler(data, config.bs, shuffle=True)\n",
    "\n",
    "dl = Dataloader(data, sampler)\n",
    "\n",
    "opt = GD(config.lr)\n",
    "loss = MSE()"
   ]
  },
  {
   "cell_type": "code",
   "execution_count": 18,
   "id": "b275e4c2",
   "metadata": {
    "execution": {
     "iopub.execute_input": "2022-11-26T00:34:19.169283Z",
     "iopub.status.busy": "2022-11-26T00:34:19.168702Z",
     "iopub.status.idle": "2022-11-26T00:34:19.181529Z",
     "shell.execute_reply": "2022-11-26T00:34:19.180941Z"
    },
    "papermill": {
     "duration": 0.04286,
     "end_time": "2022-11-26T00:34:19.181639",
     "exception": false,
     "start_time": "2022-11-26T00:34:19.138779",
     "status": "completed"
    },
    "tags": []
   },
   "outputs": [],
   "source": [
    "training_data_x = X_train\n",
    "testing_data_x = X_test\n",
    "training_data_y = y_train.reshape(-1,1)\n",
    "testing_data_y = y_test.reshape(-1,1)"
   ]
  },
  {
   "cell_type": "code",
   "execution_count": 19,
   "id": "76951160",
   "metadata": {
    "execution": {
     "iopub.execute_input": "2022-11-26T00:34:19.238732Z",
     "iopub.status.busy": "2022-11-26T00:34:19.238160Z",
     "iopub.status.idle": "2022-11-26T00:34:19.255120Z",
     "shell.execute_reply": "2022-11-26T00:34:19.254558Z"
    },
    "papermill": {
     "duration": 0.047152,
     "end_time": "2022-11-26T00:34:19.255224",
     "exception": false,
     "start_time": "2022-11-26T00:34:19.208072",
     "status": "completed"
    },
    "tags": []
   },
   "outputs": [
    {
     "name": "stdout",
     "output_type": "stream",
     "text": [
      "xavier\n",
      "xavier\n",
      "xavier\n",
      "xavier\n",
      "xavier\n"
     ]
    }
   ],
   "source": [
    "layers = [Affine(\"first\", 784, 100), Relu(\"first\"), Affine(\"second\", 100, 100), Relu(\"second\"), Affine(\"third\", 100, 2), Affine(\"last\", 2, 1), Sigmoid(\"last\")]\n",
    "model_nn = Model(layers)\n",
    "model_lr = Model([Affine(\"logits\", 784, 1), Sigmoid(\"sigmoid\")])"
   ]
  },
  {
   "cell_type": "code",
   "execution_count": 20,
   "id": "6eede77a",
   "metadata": {
    "execution": {
     "iopub.execute_input": "2022-11-26T00:34:19.313003Z",
     "iopub.status.busy": "2022-11-26T00:34:19.312433Z",
     "iopub.status.idle": "2022-11-26T00:34:19.324766Z",
     "shell.execute_reply": "2022-11-26T00:34:19.324203Z"
    },
    "papermill": {
     "duration": 0.042561,
     "end_time": "2022-11-26T00:34:19.324870",
     "exception": false,
     "start_time": "2022-11-26T00:34:19.282309",
     "status": "completed"
    },
    "tags": []
   },
   "outputs": [],
   "source": [
    "nn_learner = Learner(loss, model_nn, opt, config.num_epochs)\n",
    "acc_nn = ClfCallback(nn_learner, config.bs, training_data_x , testing_data_x, training_data_y, testing_data_y)\n",
    "nn_learner.set_callbacks([acc_nn])"
   ]
  },
  {
   "cell_type": "code",
   "execution_count": 21,
   "id": "877b6cc7",
   "metadata": {
    "execution": {
     "iopub.execute_input": "2022-11-26T00:34:19.383375Z",
     "iopub.status.busy": "2022-11-26T00:34:19.382787Z",
     "iopub.status.idle": "2022-11-26T00:34:19.395184Z",
     "shell.execute_reply": "2022-11-26T00:34:19.394720Z"
    },
    "papermill": {
     "duration": 0.04355,
     "end_time": "2022-11-26T00:34:19.395289",
     "exception": false,
     "start_time": "2022-11-26T00:34:19.351739",
     "status": "completed"
    },
    "tags": []
   },
   "outputs": [],
   "source": [
    "lr_learner = Learner(loss, model_lr, opt, config.num_epochs)\n",
    "acc_lr = ClfCallback(lr_learner, config.bs, training_data_x , testing_data_x, training_data_y, testing_data_y)\n",
    "lr_learner.set_callbacks([acc_lr])"
   ]
  },
  {
   "cell_type": "code",
   "execution_count": 22,
   "id": "d9b133c3",
   "metadata": {
    "execution": {
     "iopub.execute_input": "2022-11-26T00:34:19.452288Z",
     "iopub.status.busy": "2022-11-26T00:34:19.451721Z",
     "iopub.status.idle": "2022-11-26T00:35:34.951566Z",
     "shell.execute_reply": "2022-11-26T00:35:34.952198Z"
    },
    "papermill": {
     "duration": 75.530141,
     "end_time": "2022-11-26T00:35:34.952347",
     "exception": false,
     "start_time": "2022-11-26T00:34:19.422206",
     "status": "completed"
    },
    "tags": []
   },
   "outputs": [
    {
     "name": "stdout",
     "output_type": "stream",
     "text": [
      "Epoch 0, Loss 0.229\n",
      "Training Accuracy: 0.7480, Testing Accuracy: 0.7409\n",
      "\n"
     ]
    },
    {
     "name": "stdout",
     "output_type": "stream",
     "text": [
      "Epoch 10, Loss 0.0709\n",
      "Training Accuracy: 0.9291, Testing Accuracy: 0.9360\n",
      "\n"
     ]
    },
    {
     "name": "stdout",
     "output_type": "stream",
     "text": [
      "Epoch 20, Loss 0.0481\n",
      "Training Accuracy: 0.9491, Testing Accuracy: 0.9526\n",
      "\n"
     ]
    },
    {
     "name": "stdout",
     "output_type": "stream",
     "text": [
      "Epoch 30, Loss 0.0395\n",
      "Training Accuracy: 0.9569, Testing Accuracy: 0.9612\n",
      "\n"
     ]
    },
    {
     "name": "stdout",
     "output_type": "stream",
     "text": [
      "Epoch 40, Loss 0.035\n",
      "Training Accuracy: 0.9603, Testing Accuracy: 0.9652\n",
      "\n"
     ]
    },
    {
     "name": "stdout",
     "output_type": "stream",
     "text": [
      "Epoch 50, Loss 0.032\n",
      "Training Accuracy: 0.9647, Testing Accuracy: 0.9672\n",
      "\n"
     ]
    },
    {
     "name": "stdout",
     "output_type": "stream",
     "text": [
      "Epoch 60, Loss 0.0298\n",
      "Training Accuracy: 0.9663, Testing Accuracy: 0.9677\n",
      "\n"
     ]
    },
    {
     "name": "stdout",
     "output_type": "stream",
     "text": [
      "Epoch 70, Loss 0.0282\n",
      "Training Accuracy: 0.9688, Testing Accuracy: 0.9693\n",
      "\n"
     ]
    },
    {
     "name": "stdout",
     "output_type": "stream",
     "text": [
      "Epoch 80, Loss 0.0268\n",
      "Training Accuracy: 0.9698, Testing Accuracy: 0.9703\n",
      "\n"
     ]
    },
    {
     "name": "stdout",
     "output_type": "stream",
     "text": [
      "Epoch 90, Loss 0.0256\n",
      "Training Accuracy: 0.9705, Testing Accuracy: 0.9708\n",
      "\n"
     ]
    },
    {
     "name": "stdout",
     "output_type": "stream",
     "text": [
      "Epoch 100, Loss 0.0246\n",
      "Training Accuracy: 0.9717, Testing Accuracy: 0.9708\n",
      "\n"
     ]
    },
    {
     "name": "stdout",
     "output_type": "stream",
     "text": [
      "Epoch 110, Loss 0.0237\n",
      "Training Accuracy: 0.9725, Testing Accuracy: 0.9718\n",
      "\n"
     ]
    },
    {
     "name": "stdout",
     "output_type": "stream",
     "text": [
      "Epoch 120, Loss 0.0229\n",
      "Training Accuracy: 0.9736, Testing Accuracy: 0.9728\n",
      "\n"
     ]
    },
    {
     "name": "stdout",
     "output_type": "stream",
     "text": [
      "Epoch 130, Loss 0.0222\n",
      "Training Accuracy: 0.9742, Testing Accuracy: 0.9723\n",
      "\n"
     ]
    },
    {
     "name": "stdout",
     "output_type": "stream",
     "text": [
      "Epoch 140, Loss 0.0216\n",
      "Training Accuracy: 0.9753, Testing Accuracy: 0.9733\n",
      "\n"
     ]
    },
    {
     "name": "stdout",
     "output_type": "stream",
     "text": [
      "Epoch 150, Loss 0.021\n",
      "Training Accuracy: 0.9760, Testing Accuracy: 0.9733\n",
      "\n"
     ]
    },
    {
     "name": "stdout",
     "output_type": "stream",
     "text": [
      "Epoch 160, Loss 0.0204\n",
      "Training Accuracy: 0.9760, Testing Accuracy: 0.9728\n",
      "\n"
     ]
    },
    {
     "name": "stdout",
     "output_type": "stream",
     "text": [
      "Epoch 170, Loss 0.0199\n",
      "Training Accuracy: 0.9770, Testing Accuracy: 0.9728\n",
      "\n"
     ]
    },
    {
     "name": "stdout",
     "output_type": "stream",
     "text": [
      "Epoch 180, Loss 0.0194\n",
      "Training Accuracy: 0.9781, Testing Accuracy: 0.9738\n",
      "\n"
     ]
    },
    {
     "name": "stdout",
     "output_type": "stream",
     "text": [
      "Epoch 190, Loss 0.019\n",
      "Training Accuracy: 0.9788, Testing Accuracy: 0.9753\n",
      "\n"
     ]
    },
    {
     "name": "stdout",
     "output_type": "stream",
     "text": [
      "Epoch 200, Loss 0.0185\n",
      "Training Accuracy: 0.9791, Testing Accuracy: 0.9753\n",
      "\n"
     ]
    },
    {
     "name": "stdout",
     "output_type": "stream",
     "text": [
      "Epoch 210, Loss 0.0181\n",
      "Training Accuracy: 0.9797, Testing Accuracy: 0.9768\n",
      "\n"
     ]
    },
    {
     "name": "stdout",
     "output_type": "stream",
     "text": [
      "Epoch 220, Loss 0.0177\n",
      "Training Accuracy: 0.9799, Testing Accuracy: 0.9773\n",
      "\n"
     ]
    },
    {
     "name": "stdout",
     "output_type": "stream",
     "text": [
      "Epoch 230, Loss 0.0174\n",
      "Training Accuracy: 0.9804, Testing Accuracy: 0.9768\n",
      "\n"
     ]
    },
    {
     "name": "stdout",
     "output_type": "stream",
     "text": [
      "Epoch 240, Loss 0.017\n",
      "Training Accuracy: 0.9808, Testing Accuracy: 0.9768\n",
      "\n"
     ]
    },
    {
     "data": {
      "text/plain": [
       "0.037119526458289545"
      ]
     },
     "execution_count": 22,
     "metadata": {},
     "output_type": "execute_result"
    }
   ],
   "source": [
    "nn_learner.train_loop(dl)"
   ]
  },
  {
   "cell_type": "code",
   "execution_count": 23,
   "id": "e0163366",
   "metadata": {
    "execution": {
     "iopub.execute_input": "2022-11-26T00:35:35.031180Z",
     "iopub.status.busy": "2022-11-26T00:35:35.030547Z",
     "iopub.status.idle": "2022-11-26T00:35:48.604768Z",
     "shell.execute_reply": "2022-11-26T00:35:48.605331Z"
    },
    "papermill": {
     "duration": 13.619063,
     "end_time": "2022-11-26T00:35:48.605508",
     "exception": false,
     "start_time": "2022-11-26T00:35:34.986445",
     "status": "completed"
    },
    "tags": []
   },
   "outputs": [
    {
     "name": "stdout",
     "output_type": "stream",
     "text": [
      "Epoch 0, Loss 0.2458\n",
      "Training Accuracy: 0.6702, Testing Accuracy: 0.6905\n",
      "\n"
     ]
    },
    {
     "name": "stdout",
     "output_type": "stream",
     "text": [
      "Epoch 10, Loss 0.1033\n",
      "Training Accuracy: 0.9126, Testing Accuracy: 0.9315\n",
      "\n"
     ]
    },
    {
     "name": "stdout",
     "output_type": "stream",
     "text": [
      "Epoch 20, Loss 0.0792\n",
      "Training Accuracy: 0.9282, Testing Accuracy: 0.9446\n",
      "\n"
     ]
    },
    {
     "name": "stdout",
     "output_type": "stream",
     "text": [
      "Epoch 30, Loss 0.0681\n",
      "Training Accuracy: 0.9354, Testing Accuracy: 0.9536\n",
      "\n"
     ]
    },
    {
     "name": "stdout",
     "output_type": "stream",
     "text": [
      "Epoch 40, Loss 0.0614\n",
      "Training Accuracy: 0.9416, Testing Accuracy: 0.9556\n",
      "\n"
     ]
    },
    {
     "name": "stdout",
     "output_type": "stream",
     "text": [
      "Epoch 50, Loss 0.0569\n",
      "Training Accuracy: 0.9445, Testing Accuracy: 0.9582\n",
      "\n"
     ]
    },
    {
     "name": "stdout",
     "output_type": "stream",
     "text": [
      "Epoch 60, Loss 0.0536\n",
      "Training Accuracy: 0.9475, Testing Accuracy: 0.9612\n",
      "\n"
     ]
    },
    {
     "name": "stdout",
     "output_type": "stream",
     "text": [
      "Epoch 70, Loss 0.051\n",
      "Training Accuracy: 0.9494, Testing Accuracy: 0.9617\n",
      "\n"
     ]
    },
    {
     "name": "stdout",
     "output_type": "stream",
     "text": [
      "Epoch 80, Loss 0.049\n",
      "Training Accuracy: 0.9501, Testing Accuracy: 0.9632\n",
      "\n"
     ]
    },
    {
     "name": "stdout",
     "output_type": "stream",
     "text": [
      "Epoch 90, Loss 0.0473\n",
      "Training Accuracy: 0.9519, Testing Accuracy: 0.9637\n",
      "\n"
     ]
    },
    {
     "name": "stdout",
     "output_type": "stream",
     "text": [
      "Epoch 100, Loss 0.0459\n",
      "Training Accuracy: 0.9535, Testing Accuracy: 0.9662\n",
      "\n"
     ]
    },
    {
     "name": "stdout",
     "output_type": "stream",
     "text": [
      "Epoch 110, Loss 0.0446\n",
      "Training Accuracy: 0.9548, Testing Accuracy: 0.9662\n",
      "\n"
     ]
    },
    {
     "name": "stdout",
     "output_type": "stream",
     "text": [
      "Epoch 120, Loss 0.0436\n",
      "Training Accuracy: 0.9559, Testing Accuracy: 0.9662\n",
      "\n"
     ]
    },
    {
     "name": "stdout",
     "output_type": "stream",
     "text": [
      "Epoch 130, Loss 0.0427\n",
      "Training Accuracy: 0.9560, Testing Accuracy: 0.9672\n",
      "\n"
     ]
    },
    {
     "name": "stdout",
     "output_type": "stream",
     "text": [
      "Epoch 140, Loss 0.0418\n",
      "Training Accuracy: 0.9568, Testing Accuracy: 0.9677\n",
      "\n"
     ]
    },
    {
     "name": "stdout",
     "output_type": "stream",
     "text": [
      "Epoch 150, Loss 0.0411\n",
      "Training Accuracy: 0.9570, Testing Accuracy: 0.9682\n",
      "\n"
     ]
    },
    {
     "name": "stdout",
     "output_type": "stream",
     "text": [
      "Epoch 160, Loss 0.0404\n",
      "Training Accuracy: 0.9578, Testing Accuracy: 0.9682\n",
      "\n"
     ]
    },
    {
     "name": "stdout",
     "output_type": "stream",
     "text": [
      "Epoch 170, Loss 0.0398\n",
      "Training Accuracy: 0.9588, Testing Accuracy: 0.9677\n",
      "\n"
     ]
    },
    {
     "name": "stdout",
     "output_type": "stream",
     "text": [
      "Epoch 180, Loss 0.0393\n",
      "Training Accuracy: 0.9594, Testing Accuracy: 0.9682\n",
      "\n"
     ]
    },
    {
     "name": "stdout",
     "output_type": "stream",
     "text": [
      "Epoch 190, Loss 0.0388\n",
      "Training Accuracy: 0.9603, Testing Accuracy: 0.9682\n",
      "\n"
     ]
    },
    {
     "name": "stdout",
     "output_type": "stream",
     "text": [
      "Epoch 200, Loss 0.0383\n",
      "Training Accuracy: 0.9606, Testing Accuracy: 0.9677\n",
      "\n"
     ]
    },
    {
     "name": "stdout",
     "output_type": "stream",
     "text": [
      "Epoch 210, Loss 0.0378\n",
      "Training Accuracy: 0.9609, Testing Accuracy: 0.9677\n",
      "\n"
     ]
    },
    {
     "name": "stdout",
     "output_type": "stream",
     "text": [
      "Epoch 220, Loss 0.0374\n",
      "Training Accuracy: 0.9609, Testing Accuracy: 0.9677\n",
      "\n"
     ]
    },
    {
     "name": "stdout",
     "output_type": "stream",
     "text": [
      "Epoch 230, Loss 0.0371\n",
      "Training Accuracy: 0.9614, Testing Accuracy: 0.9677\n",
      "\n"
     ]
    },
    {
     "name": "stdout",
     "output_type": "stream",
     "text": [
      "Epoch 240, Loss 0.0367\n",
      "Training Accuracy: 0.9619, Testing Accuracy: 0.9677\n",
      "\n"
     ]
    },
    {
     "data": {
      "text/plain": [
       "0.03664130559526939"
      ]
     },
     "execution_count": 23,
     "metadata": {},
     "output_type": "execute_result"
    }
   ],
   "source": [
    "lr_learner.train_loop(dl)"
   ]
  },
  {
   "cell_type": "code",
   "execution_count": 24,
   "id": "ca410940",
   "metadata": {
    "execution": {
     "iopub.execute_input": "2022-11-26T00:35:48.695025Z",
     "iopub.status.busy": "2022-11-26T00:35:48.694411Z",
     "iopub.status.idle": "2022-11-26T00:35:48.919171Z",
     "shell.execute_reply": "2022-11-26T00:35:48.919601Z"
    },
    "papermill": {
     "duration": 0.27359,
     "end_time": "2022-11-26T00:35:48.919751",
     "exception": false,
     "start_time": "2022-11-26T00:35:48.646161",
     "status": "completed"
    },
    "tags": []
   },
   "outputs": [
    {
     "data": {
      "text/plain": [
       "<matplotlib.legend.Legend at 0x7fdc580ac470>"
      ]
     },
     "execution_count": 24,
     "metadata": {},
     "output_type": "execute_result"
    },
    {
     "data": {
      "image/png": "[encoded data removed]",
      "text/plain": [
       "<Figure size 1080x720 with 1 Axes>"
      ]
     },
     "metadata": {
      "needs_background": "light"
     },
     "output_type": "display_data"
    }
   ],
   "source": [
    "#comparing the results of NN and LR\n",
    "plt.figure(figsize=(15,10))\n",
    "\n",
    "# Neural Network plots\n",
    "plt.plot(acc_nn.accuracies, 'r-', label = \"Training Accuracies - NN\")\n",
    "plt.plot(acc_nn.test_accuracies, 'g-', label = \"Testing Accuracies - NN\")\n",
    "\n",
    "# Logistic Regression plots\n",
    "plt.plot(acc_lr.accuracies, 'k-', label = \"Training Accuracies - LR\")\n",
    "plt.plot(acc_lr.test_accuracies, 'b-', label = \"Testing Accuracies - LR\")\n",
    "plt.legend()"
   ]
  },
  {
   "cell_type": "markdown",
   "id": "80dfb35c",
   "metadata": {
    "papermill": {
     "duration": 0.04196,
     "end_time": "2022-11-26T00:35:49.004290",
     "exception": false,
     "start_time": "2022-11-26T00:35:48.962330",
     "status": "completed"
    },
    "tags": []
   },
   "source": [
    "#### Plotting the outputs of this layer of the NN.\n"
   ]
  },
  {
   "cell_type": "code",
   "execution_count": 25,
   "id": "45eb2ff5",
   "metadata": {
    "execution": {
     "iopub.execute_input": "2022-11-26T00:35:49.098858Z",
     "iopub.status.busy": "2022-11-26T00:35:49.098239Z",
     "iopub.status.idle": "2022-11-26T00:35:49.116271Z",
     "shell.execute_reply": "2022-11-26T00:35:49.115738Z"
    },
    "papermill": {
     "duration": 0.070698,
     "end_time": "2022-11-26T00:35:49.116393",
     "exception": false,
     "start_time": "2022-11-26T00:35:49.045695",
     "status": "completed"
    },
    "tags": []
   },
   "outputs": [],
   "source": [
    "new_model = Model(layers[:-2])\n",
    "testing_plot = new_model(testing_data_x)"
   ]
  },
  {
   "cell_type": "code",
   "execution_count": 26,
   "id": "4c0a5485",
   "metadata": {
    "execution": {
     "iopub.execute_input": "2022-11-26T00:35:49.217025Z",
     "iopub.status.busy": "2022-11-26T00:35:49.216422Z",
     "iopub.status.idle": "2022-11-26T00:35:49.415480Z",
     "shell.execute_reply": "2022-11-26T00:35:49.414894Z"
    },
    "papermill": {
     "duration": 0.256396,
     "end_time": "2022-11-26T00:35:49.415616",
     "exception": false,
     "start_time": "2022-11-26T00:35:49.159220",
     "status": "completed"
    },
    "tags": []
   },
   "outputs": [
    {
     "data": {
      "text/plain": [
       "Text(0.5, 1.0, 'Outputs')"
      ]
     },
     "execution_count": 26,
     "metadata": {},
     "output_type": "execute_result"
    },
    {
     "data": {
      "image/png": "[encoded data removed]",
      "text/plain": [
       "<Figure size 576x504 with 1 Axes>"
      ]
     },
     "metadata": {
      "needs_background": "light"
     },
     "output_type": "display_data"
    }
   ],
   "source": [
    "# Plotting the scatter plot of points and color coding by class\n",
    "plt.figure(figsize=(8,7))\n",
    "plt.scatter(testing_plot[:,0], testing_plot[:,1], alpha = 0.1, c = y_test.ravel());\n",
    "plt.title('Outputs')"
   ]
  },
  {
   "cell_type": "markdown",
   "id": "a74fcf8f",
   "metadata": {
    "papermill": {
     "duration": 0.043851,
     "end_time": "2022-11-26T00:35:49.504482",
     "exception": false,
     "start_time": "2022-11-26T00:35:49.460631",
     "status": "completed"
    },
    "tags": []
   },
   "source": [
    "Probability contours"
   ]
  },
  {
   "cell_type": "code",
   "execution_count": 27,
   "id": "d0afc8e3",
   "metadata": {
    "execution": {
     "iopub.execute_input": "2022-11-26T00:35:49.630620Z",
     "iopub.status.busy": "2022-11-26T00:35:49.630026Z",
     "iopub.status.idle": "2022-11-26T00:35:49.640017Z",
     "shell.execute_reply": "2022-11-26T00:35:49.639434Z"
    },
    "papermill": {
     "duration": 0.091697,
     "end_time": "2022-11-26T00:35:49.640125",
     "exception": false,
     "start_time": "2022-11-26T00:35:49.548428",
     "status": "completed"
    },
    "tags": []
   },
   "outputs": [],
   "source": [
    "model_prob = Model(layers[-2:]) "
   ]
  },
  {
   "cell_type": "code",
   "execution_count": 28,
   "id": "9b96e238",
   "metadata": {
    "execution": {
     "iopub.execute_input": "2022-11-26T00:35:49.735005Z",
     "iopub.status.busy": "2022-11-26T00:35:49.734314Z",
     "iopub.status.idle": "2022-11-26T00:35:49.747530Z",
     "shell.execute_reply": "2022-11-26T00:35:49.748370Z"
    },
    "papermill": {
     "duration": 0.064213,
     "end_time": "2022-11-26T00:35:49.748499",
     "exception": false,
     "start_time": "2022-11-26T00:35:49.684286",
     "status": "completed"
    },
    "tags": []
   },
   "outputs": [],
   "source": [
    "#creating the x and y ranges according to the above generated plot.\n",
    "x_range = np.linspace(-4, 1, 100) \n",
    "y_range = np.linspace(-6, 6, 100) \n",
    "x_grid, y_grid = np.meshgrid(x_range, y_range) # x_grid and y_grig are of size 100 X 100\n",
    "\n",
    "# converting x_grid and y_grid to continuous arrays\n",
    "x_gridflat = np.ravel(x_grid)\n",
    "y_gridflat = np.ravel(y_grid)\n",
    "\n",
    "# The last layer of the current model takes two columns as input. Hence transpose of np.vstack() is required.\n",
    "X = np.vstack((x_gridflat, y_gridflat)).T\n",
    "\n",
    "prob_contour = model_prob(X).reshape(100,100) "
   ]
  },
  {
   "cell_type": "code",
   "execution_count": 29,
   "id": "da72499a",
   "metadata": {
    "execution": {
     "iopub.execute_input": "2022-11-26T00:35:49.849152Z",
     "iopub.status.busy": "2022-11-26T00:35:49.848575Z",
     "iopub.status.idle": "2022-11-26T00:35:50.076691Z",
     "shell.execute_reply": "2022-11-26T00:35:50.076197Z"
    },
    "papermill": {
     "duration": 0.283573,
     "end_time": "2022-11-26T00:35:50.076814",
     "exception": false,
     "start_time": "2022-11-26T00:35:49.793241",
     "status": "completed"
    },
    "tags": []
   },
   "outputs": [
    {
     "data": {
      "image/png": "[encoded data removed]",
      "text/plain": [
       "<Figure size 720x648 with 1 Axes>"
      ]
     },
     "metadata": {
      "needs_background": "light"
     },
     "output_type": "display_data"
    }
   ],
   "source": [
    "plt.figure(figsize=(10,9))\n",
    "plt.scatter(testing_plot[:,0], testing_plot[:,1], alpha = 0.1, c = y_test.ravel())\n",
    "contours = plt.contour(x_grid,y_grid,prob_contour)\n",
    "plt.title('Probability Contours')\n",
    "plt.clabel(contours, inline = True );"
   ]
  },
  {
   "cell_type": "code",
   "execution_count": null,
   "id": "e81b4ac7",
   "metadata": {
    "papermill": {
     "duration": 0.046948,
     "end_time": "2022-11-26T00:35:50.171270",
     "exception": false,
     "start_time": "2022-11-26T00:35:50.124322",
     "status": "completed"
    },
    "tags": []
   },
   "outputs": [],
   "source": []
  }
 ],
 "metadata": {
  "kernelspec": {
   "display_name": "Python 3",
   "language": "python",
   "name": "python3"
  },
  "language_info": {
   "codemirror_mode": {
    "name": "ipython",
    "version": 3
   },
   "file_extension": ".py",
   "mimetype": "text/x-python",
   "name": "python",
   "nbconvert_exporter": "python",
   "pygments_lexer": "ipython3",
   "version": "3.6.15"
  },
  "papermill": {
   "default_parameters": {},
   "duration": 97.005263,
   "end_time": "2022-11-26T00:35:50.637923",
   "environment_variables": {},
   "exception": null,
   "input_path": "2020-08-11-part2.ipynb",
   "output_path": "2020-08-11-part2.ipynb",
   "parameters": {},
   "start_time": "2022-11-26T00:34:13.632660",
   "version": "2.3.3"
  }
 },
 "nbformat": 4,
 "nbformat_minor": 5
}