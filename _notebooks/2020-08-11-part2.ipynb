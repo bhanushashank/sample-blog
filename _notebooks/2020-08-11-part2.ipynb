{
 "cells": [
  {
   "cell_type": "markdown",
   "id": "98380cd3",
   "metadata": {
    "papermill": {
     "duration": 0.030681,
     "end_time": "2021-11-07T20:07:19.530433",
     "exception": false,
     "start_time": "2021-11-07T20:07:19.499752",
     "status": "completed"
    },
    "tags": []
   },
   "source": [
    "# Distinguish Your Own Digits (DYOD)"
   ]
  },
  {
   "cell_type": "markdown",
   "id": "ef31240d",
   "metadata": {
    "papermill": {
     "duration": 0.026329,
     "end_time": "2021-11-07T20:07:19.582775",
     "exception": false,
     "start_time": "2021-11-07T20:07:19.556446",
     "status": "completed"
    },
    "tags": []
   },
   "source": [
    "You are going to write a classifier that distinguishes between the number 3 and number 8."
   ]
  },
  {
   "cell_type": "code",
   "execution_count": 1,
   "id": "b15c8646",
   "metadata": {
    "execution": {
     "iopub.execute_input": "2021-11-07T20:07:19.644134Z",
     "iopub.status.busy": "2021-11-07T20:07:19.641035Z",
     "iopub.status.idle": "2021-11-07T20:07:19.654909Z",
     "shell.execute_reply": "2021-11-07T20:07:19.655427Z"
    },
    "papermill": {
     "duration": 0.047389,
     "end_time": "2021-11-07T20:07:19.655595",
     "exception": false,
     "start_time": "2021-11-07T20:07:19.608206",
     "status": "completed"
    },
    "tags": []
   },
   "outputs": [],
   "source": [
    "%load_ext autoreload\n",
    "%autoreload 2"
   ]
  },
  {
   "cell_type": "code",
   "execution_count": 2,
   "id": "22ef38dc",
   "metadata": {
    "execution": {
     "iopub.execute_input": "2021-11-07T20:07:19.711086Z",
     "iopub.status.busy": "2021-11-07T20:07:19.710504Z",
     "iopub.status.idle": "2021-11-07T20:07:20.275351Z",
     "shell.execute_reply": "2021-11-07T20:07:20.274440Z"
    },
    "papermill": {
     "duration": 0.595322,
     "end_time": "2021-11-07T20:07:20.275580",
     "exception": false,
     "start_time": "2021-11-07T20:07:19.680258",
     "status": "completed"
    },
    "tags": []
   },
   "outputs": [],
   "source": [
    "%matplotlib inline\n",
    "import numpy as np\n",
    "import matplotlib.pyplot as plt\n",
    "import pandas as pd"
   ]
  },
  {
   "cell_type": "markdown",
   "id": "ba036198",
   "metadata": {
    "papermill": {
     "duration": 0.024428,
     "end_time": "2021-11-07T20:07:20.330929",
     "exception": false,
     "start_time": "2021-11-07T20:07:20.306501",
     "status": "completed"
    },
    "tags": []
   },
   "source": [
    "From the command line run `pip install mnist`. This is a library that will help you bring down the mnist dataset. If you run this from a notebook, you need to put  `!pip install mnist` in a cell by itself."
   ]
  },
  {
   "cell_type": "code",
   "execution_count": 3,
   "id": "bb6ad8a1",
   "metadata": {
    "execution": {
     "iopub.execute_input": "2021-11-07T20:07:20.397375Z",
     "iopub.status.busy": "2021-11-07T20:07:20.393603Z",
     "iopub.status.idle": "2021-11-07T20:07:22.256256Z",
     "shell.execute_reply": "2021-11-07T20:07:22.255012Z"
    },
    "papermill": {
     "duration": 1.899753,
     "end_time": "2021-11-07T20:07:22.256409",
     "exception": false,
     "start_time": "2021-11-07T20:07:20.356656",
     "status": "completed"
    },
    "tags": []
   },
   "outputs": [
    {
     "name": "stdout",
     "output_type": "stream",
     "text": [
      "Collecting mnist\r\n"
     ]
    },
    {
     "name": "stdout",
     "output_type": "stream",
     "text": [
      "  Downloading mnist-0.2.2-py2.py3-none-any.whl (3.5 kB)\r\n",
      "Requirement already satisfied: numpy in /opt/hostedtoolcache/Python/3.6.15/x64/lib/python3.6/site-packages (from mnist) (1.19.5)\r\n"
     ]
    },
    {
     "name": "stdout",
     "output_type": "stream",
     "text": [
      "Installing collected packages: mnist\r\n",
      "Successfully installed mnist-0.2.2\r\n"
     ]
    }
   ],
   "source": [
    "!pip install mnist"
   ]
  },
  {
   "cell_type": "markdown",
   "id": "69df9c9a",
   "metadata": {
    "papermill": {
     "duration": 0.025933,
     "end_time": "2021-11-07T20:07:22.309407",
     "exception": false,
     "start_time": "2021-11-07T20:07:22.283474",
     "status": "completed"
    },
    "tags": []
   },
   "source": [
    "## Preparing the Data"
   ]
  },
  {
   "cell_type": "code",
   "execution_count": 4,
   "id": "7f69d806",
   "metadata": {
    "execution": {
     "iopub.execute_input": "2021-11-07T20:07:22.367592Z",
     "iopub.status.busy": "2021-11-07T20:07:22.365720Z",
     "iopub.status.idle": "2021-11-07T20:07:22.380517Z",
     "shell.execute_reply": "2021-11-07T20:07:22.379918Z"
    },
    "papermill": {
     "duration": 0.046036,
     "end_time": "2021-11-07T20:07:22.380664",
     "exception": false,
     "start_time": "2021-11-07T20:07:22.334628",
     "status": "completed"
    },
    "tags": []
   },
   "outputs": [],
   "source": [
    "import mnist"
   ]
  },
  {
   "cell_type": "code",
   "execution_count": 5,
   "id": "a411e44f",
   "metadata": {
    "execution": {
     "iopub.execute_input": "2021-11-07T20:07:22.445442Z",
     "iopub.status.busy": "2021-11-07T20:07:22.443059Z",
     "iopub.status.idle": "2021-11-07T20:07:23.203784Z",
     "shell.execute_reply": "2021-11-07T20:07:23.204493Z"
    },
    "papermill": {
     "duration": 0.794552,
     "end_time": "2021-11-07T20:07:23.204734",
     "exception": false,
     "start_time": "2021-11-07T20:07:22.410182",
     "status": "completed"
    },
    "tags": []
   },
   "outputs": [],
   "source": [
    "train_images = mnist.train_images()\n",
    "train_labels = mnist.train_labels()"
   ]
  },
  {
   "cell_type": "code",
   "execution_count": 6,
   "id": "dceab3a5",
   "metadata": {
    "execution": {
     "iopub.execute_input": "2021-11-07T20:07:23.263401Z",
     "iopub.status.busy": "2021-11-07T20:07:23.262773Z",
     "iopub.status.idle": "2021-11-07T20:07:23.281226Z",
     "shell.execute_reply": "2021-11-07T20:07:23.279641Z"
    },
    "papermill": {
     "duration": 0.049718,
     "end_time": "2021-11-07T20:07:23.281411",
     "exception": false,
     "start_time": "2021-11-07T20:07:23.231693",
     "status": "completed"
    },
    "tags": []
   },
   "outputs": [
    {
     "data": {
      "text/plain": [
       "((60000, 28, 28), (60000,))"
      ]
     },
     "execution_count": 6,
     "metadata": {},
     "output_type": "execute_result"
    }
   ],
   "source": [
    "train_images.shape, train_labels.shape"
   ]
  },
  {
   "cell_type": "code",
   "execution_count": 7,
   "id": "f50dc2bb",
   "metadata": {
    "execution": {
     "iopub.execute_input": "2021-11-07T20:07:23.341250Z",
     "iopub.status.busy": "2021-11-07T20:07:23.340134Z",
     "iopub.status.idle": "2021-11-07T20:07:23.570097Z",
     "shell.execute_reply": "2021-11-07T20:07:23.569174Z"
    },
    "papermill": {
     "duration": 0.26044,
     "end_time": "2021-11-07T20:07:23.570277",
     "exception": false,
     "start_time": "2021-11-07T20:07:23.309837",
     "status": "completed"
    },
    "tags": []
   },
   "outputs": [],
   "source": [
    "test_images = mnist.test_images()\n",
    "test_labels = mnist.test_labels()"
   ]
  },
  {
   "cell_type": "code",
   "execution_count": 8,
   "id": "fc38cf1b",
   "metadata": {
    "execution": {
     "iopub.execute_input": "2021-11-07T20:07:23.630176Z",
     "iopub.status.busy": "2021-11-07T20:07:23.629153Z",
     "iopub.status.idle": "2021-11-07T20:07:23.646987Z",
     "shell.execute_reply": "2021-11-07T20:07:23.646516Z"
    },
    "papermill": {
     "duration": 0.048004,
     "end_time": "2021-11-07T20:07:23.647107",
     "exception": false,
     "start_time": "2021-11-07T20:07:23.599103",
     "status": "completed"
    },
    "tags": []
   },
   "outputs": [
    {
     "data": {
      "text/plain": [
       "((10000, 28, 28), (10000,))"
      ]
     },
     "execution_count": 8,
     "metadata": {},
     "output_type": "execute_result"
    }
   ],
   "source": [
    "test_images.shape, test_labels.shape"
   ]
  },
  {
   "cell_type": "code",
   "execution_count": 9,
   "id": "f9ed8fe0",
   "metadata": {
    "execution": {
     "iopub.execute_input": "2021-11-07T20:07:23.704937Z",
     "iopub.status.busy": "2021-11-07T20:07:23.704290Z",
     "iopub.status.idle": "2021-11-07T20:07:23.860018Z",
     "shell.execute_reply": "2021-11-07T20:07:23.860468Z"
    },
    "papermill": {
     "duration": 0.187021,
     "end_time": "2021-11-07T20:07:23.860651",
     "exception": false,
     "start_time": "2021-11-07T20:07:23.673630",
     "status": "completed"
    },
    "tags": []
   },
   "outputs": [
    {
     "name": "stdout",
     "output_type": "stream",
     "text": [
      "2\n"
     ]
    },
    {
     "data": {
      "text/plain": [
       "<matplotlib.image.AxesImage at 0x7f2e90c740f0>"
      ]
     },
     "execution_count": 9,
     "metadata": {},
     "output_type": "execute_result"
    },
    {
     "data": {
      "image/png": "[encoded data removed]",
      "text/plain": [
       "<Figure size 432x288 with 1 Axes>"
      ]
     },
     "metadata": {
      "needs_background": "light"
     },
     "output_type": "display_data"
    }
   ],
   "source": [
    "image_index = 7776 # You may select anything up to 60,000\n",
    "print(train_labels[image_index]) \n",
    "plt.imshow(train_images[image_index], cmap='Greys')"
   ]
  },
  {
   "cell_type": "markdown",
   "id": "a8d2388d",
   "metadata": {
    "papermill": {
     "duration": 0.028211,
     "end_time": "2021-11-07T20:07:23.916974",
     "exception": false,
     "start_time": "2021-11-07T20:07:23.888763",
     "status": "completed"
    },
    "tags": []
   },
   "source": [
    "## Filter data to get 3 and 8 out"
   ]
  },
  {
   "cell_type": "code",
   "execution_count": 10,
   "id": "776f7fc7",
   "metadata": {
    "execution": {
     "iopub.execute_input": "2021-11-07T20:07:23.983436Z",
     "iopub.status.busy": "2021-11-07T20:07:23.982848Z",
     "iopub.status.idle": "2021-11-07T20:07:24.001167Z",
     "shell.execute_reply": "2021-11-07T20:07:24.000658Z"
    },
    "papermill": {
     "duration": 0.056625,
     "end_time": "2021-11-07T20:07:24.001306",
     "exception": false,
     "start_time": "2021-11-07T20:07:23.944681",
     "status": "completed"
    },
    "tags": []
   },
   "outputs": [],
   "source": [
    "train_filter = np.where((train_labels == 3 ) | (train_labels == 8))\n",
    "test_filter = np.where((test_labels == 3) | (test_labels == 8))\n",
    "X_train, y_train = train_images[train_filter], train_labels[train_filter]\n",
    "X_test, y_test = test_images[test_filter], test_labels[test_filter]"
   ]
  },
  {
   "cell_type": "markdown",
   "id": "948f0b7e",
   "metadata": {
    "papermill": {
     "duration": 0.027972,
     "end_time": "2021-11-07T20:07:24.056937",
     "exception": false,
     "start_time": "2021-11-07T20:07:24.028965",
     "status": "completed"
    },
    "tags": []
   },
   "source": [
    "We normalize the pizel values in the 0 to 1 range"
   ]
  },
  {
   "cell_type": "code",
   "execution_count": 11,
   "id": "ee4c2166",
   "metadata": {
    "execution": {
     "iopub.execute_input": "2021-11-07T20:07:24.116293Z",
     "iopub.status.busy": "2021-11-07T20:07:24.115720Z",
     "iopub.status.idle": "2021-11-07T20:07:24.169581Z",
     "shell.execute_reply": "2021-11-07T20:07:24.168679Z"
    },
    "papermill": {
     "duration": 0.085435,
     "end_time": "2021-11-07T20:07:24.169730",
     "exception": false,
     "start_time": "2021-11-07T20:07:24.084295",
     "status": "completed"
    },
    "tags": []
   },
   "outputs": [],
   "source": [
    "X_train = X_train/255.\n",
    "X_test = X_test/255."
   ]
  },
  {
   "cell_type": "markdown",
   "id": "ddcf4fab",
   "metadata": {
    "papermill": {
     "duration": 0.027253,
     "end_time": "2021-11-07T20:07:24.223924",
     "exception": false,
     "start_time": "2021-11-07T20:07:24.196671",
     "status": "completed"
    },
    "tags": []
   },
   "source": [
    "And setup the labels as 1 (when the digit is 3) and 0 (when the digit is 8)"
   ]
  },
  {
   "cell_type": "code",
   "execution_count": 12,
   "id": "7dc908f2",
   "metadata": {
    "execution": {
     "iopub.execute_input": "2021-11-07T20:07:24.282775Z",
     "iopub.status.busy": "2021-11-07T20:07:24.282189Z",
     "iopub.status.idle": "2021-11-07T20:07:24.296649Z",
     "shell.execute_reply": "2021-11-07T20:07:24.296139Z"
    },
    "papermill": {
     "duration": 0.045771,
     "end_time": "2021-11-07T20:07:24.296781",
     "exception": false,
     "start_time": "2021-11-07T20:07:24.251010",
     "status": "completed"
    },
    "tags": []
   },
   "outputs": [],
   "source": [
    "y_train = 1*(y_train==3)\n",
    "y_test = 1*(y_test==3)"
   ]
  },
  {
   "cell_type": "code",
   "execution_count": 13,
   "id": "01e4e969",
   "metadata": {
    "execution": {
     "iopub.execute_input": "2021-11-07T20:07:24.357263Z",
     "iopub.status.busy": "2021-11-07T20:07:24.356682Z",
     "iopub.status.idle": "2021-11-07T20:07:24.370324Z",
     "shell.execute_reply": "2021-11-07T20:07:24.370795Z"
    },
    "papermill": {
     "duration": 0.046681,
     "end_time": "2021-11-07T20:07:24.370968",
     "exception": false,
     "start_time": "2021-11-07T20:07:24.324287",
     "status": "completed"
    },
    "tags": []
   },
   "outputs": [
    {
     "data": {
      "text/plain": [
       "((11982, 28, 28), (1984, 28, 28))"
      ]
     },
     "execution_count": 13,
     "metadata": {},
     "output_type": "execute_result"
    }
   ],
   "source": [
    "X_train.shape, X_test.shape"
   ]
  },
  {
   "cell_type": "markdown",
   "id": "5ccf3f85",
   "metadata": {
    "papermill": {
     "duration": 0.028715,
     "end_time": "2021-11-07T20:07:24.428522",
     "exception": false,
     "start_time": "2021-11-07T20:07:24.399807",
     "status": "completed"
    },
    "tags": []
   },
   "source": [
    "We reshape the data to flatten the image pixels into a set of features or co-variates:"
   ]
  },
  {
   "cell_type": "code",
   "execution_count": 14,
   "id": "5286a4a3",
   "metadata": {
    "execution": {
     "iopub.execute_input": "2021-11-07T20:07:24.491958Z",
     "iopub.status.busy": "2021-11-07T20:07:24.491312Z",
     "iopub.status.idle": "2021-11-07T20:07:24.507732Z",
     "shell.execute_reply": "2021-11-07T20:07:24.507289Z"
    },
    "papermill": {
     "duration": 0.050657,
     "end_time": "2021-11-07T20:07:24.507852",
     "exception": false,
     "start_time": "2021-11-07T20:07:24.457195",
     "status": "completed"
    },
    "tags": []
   },
   "outputs": [
    {
     "data": {
      "text/plain": [
       "((11982, 784), (1984, 784))"
      ]
     },
     "execution_count": 14,
     "metadata": {},
     "output_type": "execute_result"
    }
   ],
   "source": [
    "X_train = X_train.reshape(X_train.shape[0], -1)\n",
    "X_test = X_test.reshape(X_test.shape[0], -1)\n",
    "X_train.shape, X_test.shape"
   ]
  },
  {
   "cell_type": "code",
   "execution_count": 15,
   "id": "73c5f88a",
   "metadata": {
    "execution": {
     "iopub.execute_input": "2021-11-07T20:07:24.569148Z",
     "iopub.status.busy": "2021-11-07T20:07:24.568575Z",
     "iopub.status.idle": "2021-11-07T20:07:24.588455Z",
     "shell.execute_reply": "2021-11-07T20:07:24.588010Z"
    },
    "papermill": {
     "duration": 0.053391,
     "end_time": "2021-11-07T20:07:24.588600",
     "exception": false,
     "start_time": "2021-11-07T20:07:24.535209",
     "status": "completed"
    },
    "tags": []
   },
   "outputs": [],
   "source": [
    "#Impoting functions from 'Kudzu'\n",
    "from kudzu.model import Model\n",
    "from kudzu.train import Learner\n",
    "from kudzu.optim import GD\n",
    "from kudzu.data import Data, Sampler,Dataloader\n",
    "\n",
    "from kudzu.callbacks import AccCallback\n",
    "from kudzu.callbacks import ClfCallback\n",
    "\n",
    "from kudzu.loss import MSE\n",
    "\n",
    "from kudzu.layer import Sigmoid,Relu\n",
    "from kudzu.layer import Affine"
   ]
  },
  {
   "cell_type": "markdown",
   "id": "bc01172a",
   "metadata": {
    "papermill": {
     "duration": 0.027889,
     "end_time": "2021-11-07T20:07:24.644571",
     "exception": false,
     "start_time": "2021-11-07T20:07:24.616682",
     "status": "completed"
    },
    "tags": []
   },
   "source": [
    "### Let us create a `Config` class, to store important parameters. \n",
    "This class essentially plays the role of a dictionary."
   ]
  },
  {
   "cell_type": "code",
   "execution_count": 16,
   "id": "978281aa",
   "metadata": {
    "execution": {
     "iopub.execute_input": "2021-11-07T20:07:24.704483Z",
     "iopub.status.busy": "2021-11-07T20:07:24.703478Z",
     "iopub.status.idle": "2021-11-07T20:07:24.725915Z",
     "shell.execute_reply": "2021-11-07T20:07:24.725265Z"
    },
    "papermill": {
     "duration": 0.054333,
     "end_time": "2021-11-07T20:07:24.726044",
     "exception": false,
     "start_time": "2021-11-07T20:07:24.671711",
     "status": "completed"
    },
    "tags": []
   },
   "outputs": [],
   "source": [
    "class Config:\n",
    "    pass\n",
    "config = Config()\n",
    "config.lr = 0.001\n",
    "config.num_epochs = 250\n",
    "config.bs = 50"
   ]
  },
  {
   "cell_type": "markdown",
   "id": "1385fa59",
   "metadata": {
    "papermill": {
     "duration": 0.02835,
     "end_time": "2021-11-07T20:07:24.784122",
     "exception": false,
     "start_time": "2021-11-07T20:07:24.755772",
     "status": "completed"
    },
    "tags": []
   },
   "source": [
    "### Running Models with the Training data\n",
    "Details about the network layers:\n",
    "- A first affine layer has 784 inputs and does 100 affine transforms. These are followed by a Relu\n",
    "- A second affine layer has 100 inputs from the 100 activations of the past layer, and does 100 affine transforms. These are followed by a Relu\n",
    "- A third affine layer has 100 activations and does 2 affine transformations to create an embedding for visualization. There is no non-linearity here.\n",
    "- A final \"logistic regression\" which has an affine transform from 2 inputs to 1 output, which is squeezed through a sigmoid.\n"
   ]
  },
  {
   "cell_type": "code",
   "execution_count": 17,
   "id": "2b9c66db",
   "metadata": {
    "execution": {
     "iopub.execute_input": "2021-11-07T20:07:24.849677Z",
     "iopub.status.busy": "2021-11-07T20:07:24.844750Z",
     "iopub.status.idle": "2021-11-07T20:07:24.859653Z",
     "shell.execute_reply": "2021-11-07T20:07:24.858624Z"
    },
    "papermill": {
     "duration": 0.047283,
     "end_time": "2021-11-07T20:07:24.859859",
     "exception": false,
     "start_time": "2021-11-07T20:07:24.812576",
     "status": "completed"
    },
    "tags": []
   },
   "outputs": [],
   "source": [
    "data = Data(X_train, y_train.reshape(-1,1))\n",
    "sampler = Sampler(data, config.bs, shuffle=True)\n",
    "\n",
    "dl = Dataloader(data, sampler)\n",
    "\n",
    "opt = GD(config.lr)\n",
    "loss = MSE()"
   ]
  },
  {
   "cell_type": "code",
   "execution_count": 18,
   "id": "b275e4c2",
   "metadata": {
    "execution": {
     "iopub.execute_input": "2021-11-07T20:07:24.923477Z",
     "iopub.status.busy": "2021-11-07T20:07:24.922908Z",
     "iopub.status.idle": "2021-11-07T20:07:24.935646Z",
     "shell.execute_reply": "2021-11-07T20:07:24.935168Z"
    },
    "papermill": {
     "duration": 0.046659,
     "end_time": "2021-11-07T20:07:24.935764",
     "exception": false,
     "start_time": "2021-11-07T20:07:24.889105",
     "status": "completed"
    },
    "tags": []
   },
   "outputs": [],
   "source": [
    "training_data_x = X_train\n",
    "testing_data_x = X_test\n",
    "training_data_y = y_train.reshape(-1,1)\n",
    "testing_data_y = y_test.reshape(-1,1)"
   ]
  },
  {
   "cell_type": "code",
   "execution_count": 19,
   "id": "76951160",
   "metadata": {
    "execution": {
     "iopub.execute_input": "2021-11-07T20:07:25.005404Z",
     "iopub.status.busy": "2021-11-07T20:07:25.004295Z",
     "iopub.status.idle": "2021-11-07T20:07:25.021288Z",
     "shell.execute_reply": "2021-11-07T20:07:25.020350Z"
    },
    "papermill": {
     "duration": 0.056517,
     "end_time": "2021-11-07T20:07:25.021502",
     "exception": false,
     "start_time": "2021-11-07T20:07:24.964985",
     "status": "completed"
    },
    "tags": []
   },
   "outputs": [
    {
     "name": "stdout",
     "output_type": "stream",
     "text": [
      "xavier\n",
      "xavier\n",
      "xavier\n",
      "xavier\n",
      "xavier\n"
     ]
    }
   ],
   "source": [
    "layers = [Affine(\"first\", 784, 100), Relu(\"first\"), Affine(\"second\", 100, 100), Relu(\"second\"), Affine(\"third\", 100, 2), Affine(\"last\", 2, 1), Sigmoid(\"last\")]\n",
    "model_nn = Model(layers)\n",
    "model_lr = Model([Affine(\"logits\", 784, 1), Sigmoid(\"sigmoid\")])"
   ]
  },
  {
   "cell_type": "code",
   "execution_count": 20,
   "id": "6eede77a",
   "metadata": {
    "execution": {
     "iopub.execute_input": "2021-11-07T20:07:25.084320Z",
     "iopub.status.busy": "2021-11-07T20:07:25.083768Z",
     "iopub.status.idle": "2021-11-07T20:07:25.097462Z",
     "shell.execute_reply": "2021-11-07T20:07:25.098214Z"
    },
    "papermill": {
     "duration": 0.04685,
     "end_time": "2021-11-07T20:07:25.098433",
     "exception": false,
     "start_time": "2021-11-07T20:07:25.051583",
     "status": "completed"
    },
    "tags": []
   },
   "outputs": [],
   "source": [
    "nn_learner = Learner(loss, model_nn, opt, config.num_epochs)\n",
    "acc_nn = ClfCallback(nn_learner, config.bs, training_data_x , testing_data_x, training_data_y, testing_data_y)\n",
    "nn_learner.set_callbacks([acc_nn])"
   ]
  },
  {
   "cell_type": "code",
   "execution_count": 21,
   "id": "877b6cc7",
   "metadata": {
    "execution": {
     "iopub.execute_input": "2021-11-07T20:07:25.166161Z",
     "iopub.status.busy": "2021-11-07T20:07:25.165598Z",
     "iopub.status.idle": "2021-11-07T20:07:25.177800Z",
     "shell.execute_reply": "2021-11-07T20:07:25.177302Z"
    },
    "papermill": {
     "duration": 0.048324,
     "end_time": "2021-11-07T20:07:25.177914",
     "exception": false,
     "start_time": "2021-11-07T20:07:25.129590",
     "status": "completed"
    },
    "tags": []
   },
   "outputs": [],
   "source": [
    "lr_learner = Learner(loss, model_lr, opt, config.num_epochs)\n",
    "acc_lr = ClfCallback(lr_learner, config.bs, training_data_x , testing_data_x, training_data_y, testing_data_y)\n",
    "lr_learner.set_callbacks([acc_lr])"
   ]
  },
  {
   "cell_type": "code",
   "execution_count": 22,
   "id": "d9b133c3",
   "metadata": {
    "execution": {
     "iopub.execute_input": "2021-11-07T20:07:25.238277Z",
     "iopub.status.busy": "2021-11-07T20:07:25.237728Z",
     "iopub.status.idle": "2021-11-07T20:08:49.332628Z",
     "shell.execute_reply": "2021-11-07T20:08:49.333200Z"
    },
    "papermill": {
     "duration": 84.127624,
     "end_time": "2021-11-07T20:08:49.333353",
     "exception": false,
     "start_time": "2021-11-07T20:07:25.205729",
     "status": "completed"
    },
    "tags": []
   },
   "outputs": [
    {
     "name": "stdout",
     "output_type": "stream",
     "text": [
      "Epoch 0, Loss 0.2507\n",
      "Training Accuracy: 0.6187, Testing Accuracy: 0.6134\n",
      "\n"
     ]
    },
    {
     "name": "stdout",
     "output_type": "stream",
     "text": [
      "Epoch 10, Loss 0.0922\n",
      "Training Accuracy: 0.9123, Testing Accuracy: 0.9204\n",
      "\n"
     ]
    },
    {
     "name": "stdout",
     "output_type": "stream",
     "text": [
      "Epoch 20, Loss 0.0564\n",
      "Training Accuracy: 0.9409, Testing Accuracy: 0.9516\n",
      "\n"
     ]
    },
    {
     "name": "stdout",
     "output_type": "stream",
     "text": [
      "Epoch 30, Loss 0.0441\n",
      "Training Accuracy: 0.9513, Testing Accuracy: 0.9602\n",
      "\n"
     ]
    },
    {
     "name": "stdout",
     "output_type": "stream",
     "text": [
      "Epoch 40, Loss 0.0381\n",
      "Training Accuracy: 0.9579, Testing Accuracy: 0.9652\n",
      "\n"
     ]
    },
    {
     "name": "stdout",
     "output_type": "stream",
     "text": [
      "Epoch 50, Loss 0.0346\n",
      "Training Accuracy: 0.9611, Testing Accuracy: 0.9677\n",
      "\n"
     ]
    },
    {
     "name": "stdout",
     "output_type": "stream",
     "text": [
      "Epoch 60, Loss 0.0321\n",
      "Training Accuracy: 0.9634, Testing Accuracy: 0.9682\n",
      "\n"
     ]
    },
    {
     "name": "stdout",
     "output_type": "stream",
     "text": [
      "Epoch 70, Loss 0.0303\n",
      "Training Accuracy: 0.9648, Testing Accuracy: 0.9682\n",
      "\n"
     ]
    },
    {
     "name": "stdout",
     "output_type": "stream",
     "text": [
      "Epoch 80, Loss 0.0288\n",
      "Training Accuracy: 0.9660, Testing Accuracy: 0.9682\n",
      "\n"
     ]
    },
    {
     "name": "stdout",
     "output_type": "stream",
     "text": [
      "Epoch 90, Loss 0.0276\n",
      "Training Accuracy: 0.9671, Testing Accuracy: 0.9693\n",
      "\n"
     ]
    },
    {
     "name": "stdout",
     "output_type": "stream",
     "text": [
      "Epoch 100, Loss 0.0266\n",
      "Training Accuracy: 0.9690, Testing Accuracy: 0.9688\n",
      "\n"
     ]
    },
    {
     "name": "stdout",
     "output_type": "stream",
     "text": [
      "Epoch 110, Loss 0.0257\n",
      "Training Accuracy: 0.9700, Testing Accuracy: 0.9698\n",
      "\n"
     ]
    },
    {
     "name": "stdout",
     "output_type": "stream",
     "text": [
      "Epoch 120, Loss 0.0249\n",
      "Training Accuracy: 0.9709, Testing Accuracy: 0.9698\n",
      "\n"
     ]
    },
    {
     "name": "stdout",
     "output_type": "stream",
     "text": [
      "Epoch 130, Loss 0.0242\n",
      "Training Accuracy: 0.9719, Testing Accuracy: 0.9693\n",
      "\n"
     ]
    },
    {
     "name": "stdout",
     "output_type": "stream",
     "text": [
      "Epoch 140, Loss 0.0235\n",
      "Training Accuracy: 0.9725, Testing Accuracy: 0.9698\n",
      "\n"
     ]
    },
    {
     "name": "stdout",
     "output_type": "stream",
     "text": [
      "Epoch 150, Loss 0.0229\n",
      "Training Accuracy: 0.9733, Testing Accuracy: 0.9708\n",
      "\n"
     ]
    },
    {
     "name": "stdout",
     "output_type": "stream",
     "text": [
      "Epoch 160, Loss 0.0223\n",
      "Training Accuracy: 0.9740, Testing Accuracy: 0.9723\n",
      "\n"
     ]
    },
    {
     "name": "stdout",
     "output_type": "stream",
     "text": [
      "Epoch 170, Loss 0.0218\n",
      "Training Accuracy: 0.9748, Testing Accuracy: 0.9723\n",
      "\n"
     ]
    },
    {
     "name": "stdout",
     "output_type": "stream",
     "text": [
      "Epoch 180, Loss 0.0214\n",
      "Training Accuracy: 0.9753, Testing Accuracy: 0.9723\n",
      "\n"
     ]
    },
    {
     "name": "stdout",
     "output_type": "stream",
     "text": [
      "Epoch 190, Loss 0.0209\n",
      "Training Accuracy: 0.9754, Testing Accuracy: 0.9733\n",
      "\n"
     ]
    },
    {
     "name": "stdout",
     "output_type": "stream",
     "text": [
      "Epoch 200, Loss 0.0205\n",
      "Training Accuracy: 0.9758, Testing Accuracy: 0.9738\n",
      "\n"
     ]
    },
    {
     "name": "stdout",
     "output_type": "stream",
     "text": [
      "Epoch 210, Loss 0.02\n",
      "Training Accuracy: 0.9762, Testing Accuracy: 0.9738\n",
      "\n"
     ]
    },
    {
     "name": "stdout",
     "output_type": "stream",
     "text": [
      "Epoch 220, Loss 0.0196\n",
      "Training Accuracy: 0.9767, Testing Accuracy: 0.9748\n",
      "\n"
     ]
    },
    {
     "name": "stdout",
     "output_type": "stream",
     "text": [
      "Epoch 230, Loss 0.0193\n",
      "Training Accuracy: 0.9777, Testing Accuracy: 0.9748\n",
      "\n"
     ]
    },
    {
     "name": "stdout",
     "output_type": "stream",
     "text": [
      "Epoch 240, Loss 0.0189\n",
      "Training Accuracy: 0.9786, Testing Accuracy: 0.9748\n",
      "\n"
     ]
    },
    {
     "data": {
      "text/plain": [
       "0.007083892357461296"
      ]
     },
     "execution_count": 22,
     "metadata": {},
     "output_type": "execute_result"
    }
   ],
   "source": [
    "nn_learner.train_loop(dl)"
   ]
  },
  {
   "cell_type": "code",
   "execution_count": 23,
   "id": "e0163366",
   "metadata": {
    "execution": {
     "iopub.execute_input": "2021-11-07T20:08:49.414091Z",
     "iopub.status.busy": "2021-11-07T20:08:49.413512Z",
     "iopub.status.idle": "2021-11-07T20:09:04.063376Z",
     "shell.execute_reply": "2021-11-07T20:09:04.064278Z"
    },
    "papermill": {
     "duration": 14.694454,
     "end_time": "2021-11-07T20:09:04.064456",
     "exception": false,
     "start_time": "2021-11-07T20:08:49.370002",
     "status": "completed"
    },
    "tags": []
   },
   "outputs": [
    {
     "name": "stdout",
     "output_type": "stream",
     "text": [
      "Epoch 0, Loss 0.22\n",
      "Training Accuracy: 0.7449, Testing Accuracy: 0.7525\n",
      "\n"
     ]
    },
    {
     "name": "stdout",
     "output_type": "stream",
     "text": [
      "Epoch 10, Loss 0.1027\n",
      "Training Accuracy: 0.9069, Testing Accuracy: 0.9199\n",
      "\n"
     ]
    },
    {
     "name": "stdout",
     "output_type": "stream",
     "text": [
      "Epoch 20, Loss 0.0793\n",
      "Training Accuracy: 0.9274, Testing Accuracy: 0.9400\n",
      "\n"
     ]
    },
    {
     "name": "stdout",
     "output_type": "stream",
     "text": [
      "Epoch 30, Loss 0.0682\n",
      "Training Accuracy: 0.9367, Testing Accuracy: 0.9481\n",
      "\n"
     ]
    },
    {
     "name": "stdout",
     "output_type": "stream",
     "text": [
      "Epoch 40, Loss 0.0616\n",
      "Training Accuracy: 0.9413, Testing Accuracy: 0.9531\n",
      "\n"
     ]
    },
    {
     "name": "stdout",
     "output_type": "stream",
     "text": [
      "Epoch 50, Loss 0.057\n",
      "Training Accuracy: 0.9447, Testing Accuracy: 0.9546\n",
      "\n"
     ]
    },
    {
     "name": "stdout",
     "output_type": "stream",
     "text": [
      "Epoch 60, Loss 0.0537\n",
      "Training Accuracy: 0.9468, Testing Accuracy: 0.9577\n",
      "\n"
     ]
    },
    {
     "name": "stdout",
     "output_type": "stream",
     "text": [
      "Epoch 70, Loss 0.0511\n",
      "Training Accuracy: 0.9486, Testing Accuracy: 0.9582\n",
      "\n"
     ]
    },
    {
     "name": "stdout",
     "output_type": "stream",
     "text": [
      "Epoch 80, Loss 0.049\n",
      "Training Accuracy: 0.9504, Testing Accuracy: 0.9592\n",
      "\n"
     ]
    },
    {
     "name": "stdout",
     "output_type": "stream",
     "text": [
      "Epoch 90, Loss 0.0473\n",
      "Training Accuracy: 0.9523, Testing Accuracy: 0.9612\n",
      "\n"
     ]
    },
    {
     "name": "stdout",
     "output_type": "stream",
     "text": [
      "Epoch 100, Loss 0.0459\n",
      "Training Accuracy: 0.9538, Testing Accuracy: 0.9632\n",
      "\n"
     ]
    },
    {
     "name": "stdout",
     "output_type": "stream",
     "text": [
      "Epoch 110, Loss 0.0447\n",
      "Training Accuracy: 0.9550, Testing Accuracy: 0.9637\n",
      "\n"
     ]
    },
    {
     "name": "stdout",
     "output_type": "stream",
     "text": [
      "Epoch 120, Loss 0.0436\n",
      "Training Accuracy: 0.9559, Testing Accuracy: 0.9637\n",
      "\n"
     ]
    },
    {
     "name": "stdout",
     "output_type": "stream",
     "text": [
      "Epoch 130, Loss 0.0427\n",
      "Training Accuracy: 0.9564, Testing Accuracy: 0.9637\n",
      "\n"
     ]
    },
    {
     "name": "stdout",
     "output_type": "stream",
     "text": [
      "Epoch 140, Loss 0.0419\n",
      "Training Accuracy: 0.9574, Testing Accuracy: 0.9637\n",
      "\n"
     ]
    },
    {
     "name": "stdout",
     "output_type": "stream",
     "text": [
      "Epoch 150, Loss 0.0411\n",
      "Training Accuracy: 0.9580, Testing Accuracy: 0.9642\n",
      "\n"
     ]
    },
    {
     "name": "stdout",
     "output_type": "stream",
     "text": [
      "Epoch 160, Loss 0.0404\n",
      "Training Accuracy: 0.9581, Testing Accuracy: 0.9647\n",
      "\n"
     ]
    },
    {
     "name": "stdout",
     "output_type": "stream",
     "text": [
      "Epoch 170, Loss 0.0398\n",
      "Training Accuracy: 0.9586, Testing Accuracy: 0.9657\n",
      "\n"
     ]
    },
    {
     "name": "stdout",
     "output_type": "stream",
     "text": [
      "Epoch 180, Loss 0.0393\n",
      "Training Accuracy: 0.9587, Testing Accuracy: 0.9662\n",
      "\n"
     ]
    },
    {
     "name": "stdout",
     "output_type": "stream",
     "text": [
      "Epoch 190, Loss 0.0388\n",
      "Training Accuracy: 0.9592, Testing Accuracy: 0.9667\n",
      "\n"
     ]
    },
    {
     "name": "stdout",
     "output_type": "stream",
     "text": [
      "Epoch 200, Loss 0.0383\n",
      "Training Accuracy: 0.9595, Testing Accuracy: 0.9667\n",
      "\n"
     ]
    },
    {
     "name": "stdout",
     "output_type": "stream",
     "text": [
      "Epoch 210, Loss 0.0378\n",
      "Training Accuracy: 0.9596, Testing Accuracy: 0.9667\n",
      "\n"
     ]
    },
    {
     "name": "stdout",
     "output_type": "stream",
     "text": [
      "Epoch 220, Loss 0.0374\n",
      "Training Accuracy: 0.9601, Testing Accuracy: 0.9672\n",
      "\n"
     ]
    },
    {
     "name": "stdout",
     "output_type": "stream",
     "text": [
      "Epoch 230, Loss 0.0371\n",
      "Training Accuracy: 0.9606, Testing Accuracy: 0.9672\n",
      "\n"
     ]
    },
    {
     "name": "stdout",
     "output_type": "stream",
     "text": [
      "Epoch 240, Loss 0.0367\n",
      "Training Accuracy: 0.9607, Testing Accuracy: 0.9677\n",
      "\n"
     ]
    },
    {
     "data": {
      "text/plain": [
       "0.02663736382603471"
      ]
     },
     "execution_count": 23,
     "metadata": {},
     "output_type": "execute_result"
    }
   ],
   "source": [
    "lr_learner.train_loop(dl)"
   ]
  },
  {
   "cell_type": "code",
   "execution_count": 24,
   "id": "ca410940",
   "metadata": {
    "execution": {
     "iopub.execute_input": "2021-11-07T20:09:04.166072Z",
     "iopub.status.busy": "2021-11-07T20:09:04.165462Z",
     "iopub.status.idle": "2021-11-07T20:09:04.417434Z",
     "shell.execute_reply": "2021-11-07T20:09:04.417910Z"
    },
    "papermill": {
     "duration": 0.308726,
     "end_time": "2021-11-07T20:09:04.418069",
     "exception": false,
     "start_time": "2021-11-07T20:09:04.109343",
     "status": "completed"
    },
    "tags": []
   },
   "outputs": [
    {
     "data": {
      "text/plain": [
       "<matplotlib.legend.Legend at 0x7f2e907d7828>"
      ]
     },
     "execution_count": 24,
     "metadata": {},
     "output_type": "execute_result"
    },
    {
     "data": {
      "image/png": "[encoded data removed]",
      "text/plain": [
       "<Figure size 1080x720 with 1 Axes>"
      ]
     },
     "metadata": {
      "needs_background": "light"
     },
     "output_type": "display_data"
    }
   ],
   "source": [
    "#comparing the results of NN and LR\n",
    "plt.figure(figsize=(15,10))\n",
    "\n",
    "# Neural Network plots\n",
    "plt.plot(acc_nn.accuracies, 'r-', label = \"Training Accuracies - NN\")\n",
    "plt.plot(acc_nn.test_accuracies, 'g-', label = \"Testing Accuracies - NN\")\n",
    "\n",
    "# Logistic Regression plots\n",
    "plt.plot(acc_lr.accuracies, 'k-', label = \"Training Accuracies - LR\")\n",
    "plt.plot(acc_lr.test_accuracies, 'b-', label = \"Testing Accuracies - LR\")\n",
    "plt.legend()"
   ]
  },
  {
   "cell_type": "markdown",
   "id": "80dfb35c",
   "metadata": {
    "papermill": {
     "duration": 0.044966,
     "end_time": "2021-11-07T20:09:04.508649",
     "exception": false,
     "start_time": "2021-11-07T20:09:04.463683",
     "status": "completed"
    },
    "tags": []
   },
   "source": [
    "#### Plotting the outputs of this layer of the NN.\n"
   ]
  },
  {
   "cell_type": "code",
   "execution_count": 25,
   "id": "45eb2ff5",
   "metadata": {
    "execution": {
     "iopub.execute_input": "2021-11-07T20:09:04.604349Z",
     "iopub.status.busy": "2021-11-07T20:09:04.603742Z",
     "iopub.status.idle": "2021-11-07T20:09:04.623844Z",
     "shell.execute_reply": "2021-11-07T20:09:04.624328Z"
    },
    "papermill": {
     "duration": 0.071043,
     "end_time": "2021-11-07T20:09:04.624481",
     "exception": false,
     "start_time": "2021-11-07T20:09:04.553438",
     "status": "completed"
    },
    "tags": []
   },
   "outputs": [],
   "source": [
    "new_model = Model(layers[:-2])\n",
    "testing_plot = new_model(testing_data_x)"
   ]
  },
  {
   "cell_type": "code",
   "execution_count": 26,
   "id": "4c0a5485",
   "metadata": {
    "execution": {
     "iopub.execute_input": "2021-11-07T20:09:04.726898Z",
     "iopub.status.busy": "2021-11-07T20:09:04.721579Z",
     "iopub.status.idle": "2021-11-07T20:09:04.948489Z",
     "shell.execute_reply": "2021-11-07T20:09:04.947978Z"
    },
    "papermill": {
     "duration": 0.27802,
     "end_time": "2021-11-07T20:09:04.948650",
     "exception": false,
     "start_time": "2021-11-07T20:09:04.670630",
     "status": "completed"
    },
    "tags": []
   },
   "outputs": [
    {
     "data": {
      "text/plain": [
       "Text(0.5, 1.0, 'Outputs')"
      ]
     },
     "execution_count": 26,
     "metadata": {},
     "output_type": "execute_result"
    },
    {
     "data": {
      "image/png": "[encoded data removed]",
      "text/plain": [
       "<Figure size 576x504 with 1 Axes>"
      ]
     },
     "metadata": {
      "needs_background": "light"
     },
     "output_type": "display_data"
    }
   ],
   "source": [
    "# Plotting the scatter plot of points and color coding by class\n",
    "plt.figure(figsize=(8,7))\n",
    "plt.scatter(testing_plot[:,0], testing_plot[:,1], alpha = 0.1, c = y_test.ravel());\n",
    "plt.title('Outputs')"
   ]
  },
  {
   "cell_type": "markdown",
   "id": "a74fcf8f",
   "metadata": {
    "papermill": {
     "duration": 0.049778,
     "end_time": "2021-11-07T20:09:05.051807",
     "exception": false,
     "start_time": "2021-11-07T20:09:05.002029",
     "status": "completed"
    },
    "tags": []
   },
   "source": [
    "Probability contours"
   ]
  },
  {
   "cell_type": "code",
   "execution_count": 27,
   "id": "d0afc8e3",
   "metadata": {
    "execution": {
     "iopub.execute_input": "2021-11-07T20:09:05.158509Z",
     "iopub.status.busy": "2021-11-07T20:09:05.157921Z",
     "iopub.status.idle": "2021-11-07T20:09:05.165377Z",
     "shell.execute_reply": "2021-11-07T20:09:05.166244Z"
    },
    "papermill": {
     "duration": 0.065416,
     "end_time": "2021-11-07T20:09:05.166400",
     "exception": false,
     "start_time": "2021-11-07T20:09:05.100984",
     "status": "completed"
    },
    "tags": []
   },
   "outputs": [],
   "source": [
    "model_prob = Model(layers[-2:]) "
   ]
  },
  {
   "cell_type": "code",
   "execution_count": 28,
   "id": "9b96e238",
   "metadata": {
    "execution": {
     "iopub.execute_input": "2021-11-07T20:09:05.270018Z",
     "iopub.status.busy": "2021-11-07T20:09:05.269445Z",
     "iopub.status.idle": "2021-11-07T20:09:05.283621Z",
     "shell.execute_reply": "2021-11-07T20:09:05.284049Z"
    },
    "papermill": {
     "duration": 0.0689,
     "end_time": "2021-11-07T20:09:05.284224",
     "exception": false,
     "start_time": "2021-11-07T20:09:05.215324",
     "status": "completed"
    },
    "tags": []
   },
   "outputs": [],
   "source": [
    "#creating the x and y ranges according to the above generated plot.\n",
    "x_range = np.linspace(-4, 1, 100) \n",
    "y_range = np.linspace(-6, 6, 100) \n",
    "x_grid, y_grid = np.meshgrid(x_range, y_range) # x_grid and y_grig are of size 100 X 100\n",
    "\n",
    "# converting x_grid and y_grid to continuous arrays\n",
    "x_gridflat = np.ravel(x_grid)\n",
    "y_gridflat = np.ravel(y_grid)\n",
    "\n",
    "# The last layer of the current model takes two columns as input. Hence transpose of np.vstack() is required.\n",
    "X = np.vstack((x_gridflat, y_gridflat)).T\n",
    "\n",
    "prob_contour = model_prob(X).reshape(100,100) "
   ]
  },
  {
   "cell_type": "code",
   "execution_count": 29,
   "id": "da72499a",
   "metadata": {
    "execution": {
     "iopub.execute_input": "2021-11-07T20:09:05.397804Z",
     "iopub.status.busy": "2021-11-07T20:09:05.397206Z",
     "iopub.status.idle": "2021-11-07T20:09:05.671459Z",
     "shell.execute_reply": "2021-11-07T20:09:05.671919Z"
    },
    "papermill": {
     "duration": 0.337642,
     "end_time": "2021-11-07T20:09:05.672084",
     "exception": false,
     "start_time": "2021-11-07T20:09:05.334442",
     "status": "completed"
    },
    "tags": []
   },
   "outputs": [
    {
     "data": {
      "image/png": "[encoded data removed]",
      "text/plain": [
       "<Figure size 720x648 with 1 Axes>"
      ]
     },
     "metadata": {
      "needs_background": "light"
     },
     "output_type": "display_data"
    }
   ],
   "source": [
    "plt.figure(figsize=(10,9))\n",
    "plt.scatter(testing_plot[:,0], testing_plot[:,1], alpha = 0.1, c = y_test.ravel())\n",
    "contours = plt.contour(x_grid,y_grid,prob_contour)\n",
    "plt.title('Probability Contours')\n",
    "plt.clabel(contours, inline = True );"
   ]
  },
  {
   "cell_type": "code",
   "execution_count": null,
   "id": "e81b4ac7",
   "metadata": {
    "papermill": {
     "duration": 0.077243,
     "end_time": "2021-11-07T20:09:05.800411",
     "exception": false,
     "start_time": "2021-11-07T20:09:05.723168",
     "status": "completed"
    },
    "tags": []
   },
   "outputs": [],
   "source": []
  }
 ],
 "metadata": {
  "kernelspec": {
   "display_name": "Python 3",
   "language": "python",
   "name": "python3"
  },
  "language_info": {
   "codemirror_mode": {
    "name": "ipython",
    "version": 3
   },
   "file_extension": ".py",
   "mimetype": "text/x-python",
   "name": "python",
   "nbconvert_exporter": "python",
   "pygments_lexer": "ipython3",
   "version": "3.6.15"
  },
  "papermill": {
   "default_parameters": {},
   "duration": 107.829587,
   "end_time": "2021-11-07T20:09:06.260920",
   "environment_variables": {},
   "exception": null,
   "input_path": "2020-08-11-part2.ipynb",
   "output_path": "2020-08-11-part2.ipynb",
   "parameters": {},
   "start_time": "2021-11-07T20:07:18.431333",
   "version": "2.3.3"
  }
 },
 "nbformat": 4,
 "nbformat_minor": 5
}