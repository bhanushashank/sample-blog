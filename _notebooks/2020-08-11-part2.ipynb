{
 "cells": [
  {
   "cell_type": "markdown",
   "id": "98380cd3",
   "metadata": {
    "papermill": {
     "duration": 0.030949,
     "end_time": "2021-09-29T10:07:40.951541",
     "exception": false,
     "start_time": "2021-09-29T10:07:40.920592",
     "status": "completed"
    },
    "tags": []
   },
   "source": [
    "# Distinguish Your Own Digits (DYOD)"
   ]
  },
  {
   "cell_type": "markdown",
   "id": "ef31240d",
   "metadata": {
    "papermill": {
     "duration": 0.026483,
     "end_time": "2021-09-29T10:07:41.005369",
     "exception": false,
     "start_time": "2021-09-29T10:07:40.978886",
     "status": "completed"
    },
    "tags": []
   },
   "source": [
    "You are going to write a classifier that distinguishes between the number 3 and number 8."
   ]
  },
  {
   "cell_type": "code",
   "execution_count": 1,
   "id": "b15c8646",
   "metadata": {
    "execution": {
     "iopub.execute_input": "2021-09-29T10:07:41.072936Z",
     "iopub.status.busy": "2021-09-29T10:07:41.072303Z",
     "iopub.status.idle": "2021-09-29T10:07:41.083637Z",
     "shell.execute_reply": "2021-09-29T10:07:41.083117Z"
    },
    "papermill": {
     "duration": 0.05201,
     "end_time": "2021-09-29T10:07:41.083782",
     "exception": false,
     "start_time": "2021-09-29T10:07:41.031772",
     "status": "completed"
    },
    "tags": []
   },
   "outputs": [],
   "source": [
    "%load_ext autoreload\n",
    "%autoreload 2"
   ]
  },
  {
   "cell_type": "code",
   "execution_count": 2,
   "id": "22ef38dc",
   "metadata": {
    "execution": {
     "iopub.execute_input": "2021-09-29T10:07:41.141734Z",
     "iopub.status.busy": "2021-09-29T10:07:41.141093Z",
     "iopub.status.idle": "2021-09-29T10:07:41.713222Z",
     "shell.execute_reply": "2021-09-29T10:07:41.712631Z"
    },
    "papermill": {
     "duration": 0.603581,
     "end_time": "2021-09-29T10:07:41.713376",
     "exception": false,
     "start_time": "2021-09-29T10:07:41.109795",
     "status": "completed"
    },
    "tags": []
   },
   "outputs": [],
   "source": [
    "%matplotlib inline\n",
    "import numpy as np\n",
    "import matplotlib.pyplot as plt\n",
    "import pandas as pd"
   ]
  },
  {
   "cell_type": "markdown",
   "id": "ba036198",
   "metadata": {
    "papermill": {
     "duration": 0.026396,
     "end_time": "2021-09-29T10:07:41.766657",
     "exception": false,
     "start_time": "2021-09-29T10:07:41.740261",
     "status": "completed"
    },
    "tags": []
   },
   "source": [
    "From the command line run `pip install mnist`. This is a library that will help you bring down the mnist dataset. If you run this from a notebook, you need to put  `!pip install mnist` in a cell by itself."
   ]
  },
  {
   "cell_type": "code",
   "execution_count": 3,
   "id": "bb6ad8a1",
   "metadata": {
    "execution": {
     "iopub.execute_input": "2021-09-29T10:07:41.825207Z",
     "iopub.status.busy": "2021-09-29T10:07:41.824636Z",
     "iopub.status.idle": "2021-09-29T10:07:43.897630Z",
     "shell.execute_reply": "2021-09-29T10:07:43.896170Z"
    },
    "papermill": {
     "duration": 2.104475,
     "end_time": "2021-09-29T10:07:43.897851",
     "exception": false,
     "start_time": "2021-09-29T10:07:41.793376",
     "status": "completed"
    },
    "tags": []
   },
   "outputs": [
    {
     "name": "stdout",
     "output_type": "stream",
     "text": [
      "Collecting mnist\r\n",
      "  Downloading mnist-0.2.2-py2.py3-none-any.whl (3.5 kB)\r\n"
     ]
    },
    {
     "name": "stdout",
     "output_type": "stream",
     "text": [
      "Requirement already satisfied: numpy in /opt/hostedtoolcache/Python/3.6.15/x64/lib/python3.6/site-packages (from mnist) (1.19.5)\r\n"
     ]
    },
    {
     "name": "stdout",
     "output_type": "stream",
     "text": [
      "Installing collected packages: mnist\r\n",
      "Successfully installed mnist-0.2.2\r\n"
     ]
    }
   ],
   "source": [
    "!pip install mnist"
   ]
  },
  {
   "cell_type": "markdown",
   "id": "69df9c9a",
   "metadata": {
    "papermill": {
     "duration": 0.027672,
     "end_time": "2021-09-29T10:07:43.955160",
     "exception": false,
     "start_time": "2021-09-29T10:07:43.927488",
     "status": "completed"
    },
    "tags": []
   },
   "source": [
    "## Preparing the Data"
   ]
  },
  {
   "cell_type": "code",
   "execution_count": 4,
   "id": "7f69d806",
   "metadata": {
    "execution": {
     "iopub.execute_input": "2021-09-29T10:07:44.013550Z",
     "iopub.status.busy": "2021-09-29T10:07:44.012941Z",
     "iopub.status.idle": "2021-09-29T10:07:44.029724Z",
     "shell.execute_reply": "2021-09-29T10:07:44.028551Z"
    },
    "papermill": {
     "duration": 0.047521,
     "end_time": "2021-09-29T10:07:44.029854",
     "exception": false,
     "start_time": "2021-09-29T10:07:43.982333",
     "status": "completed"
    },
    "tags": []
   },
   "outputs": [],
   "source": [
    "import mnist"
   ]
  },
  {
   "cell_type": "code",
   "execution_count": 5,
   "id": "a411e44f",
   "metadata": {
    "execution": {
     "iopub.execute_input": "2021-09-29T10:07:44.087747Z",
     "iopub.status.busy": "2021-09-29T10:07:44.086519Z",
     "iopub.status.idle": "2021-09-29T10:07:44.676854Z",
     "shell.execute_reply": "2021-09-29T10:07:44.675956Z"
    },
    "papermill": {
     "duration": 0.621094,
     "end_time": "2021-09-29T10:07:44.677077",
     "exception": false,
     "start_time": "2021-09-29T10:07:44.055983",
     "status": "completed"
    },
    "tags": []
   },
   "outputs": [],
   "source": [
    "train_images = mnist.train_images()\n",
    "train_labels = mnist.train_labels()"
   ]
  },
  {
   "cell_type": "code",
   "execution_count": 6,
   "id": "dceab3a5",
   "metadata": {
    "execution": {
     "iopub.execute_input": "2021-09-29T10:07:44.737851Z",
     "iopub.status.busy": "2021-09-29T10:07:44.736770Z",
     "iopub.status.idle": "2021-09-29T10:07:44.754551Z",
     "shell.execute_reply": "2021-09-29T10:07:44.755054Z"
    },
    "papermill": {
     "duration": 0.048915,
     "end_time": "2021-09-29T10:07:44.755192",
     "exception": false,
     "start_time": "2021-09-29T10:07:44.706277",
     "status": "completed"
    },
    "tags": []
   },
   "outputs": [
    {
     "data": {
      "text/plain": [
       "((60000, 28, 28), (60000,))"
      ]
     },
     "execution_count": 6,
     "metadata": {},
     "output_type": "execute_result"
    }
   ],
   "source": [
    "train_images.shape, train_labels.shape"
   ]
  },
  {
   "cell_type": "code",
   "execution_count": 7,
   "id": "f50dc2bb",
   "metadata": {
    "execution": {
     "iopub.execute_input": "2021-09-29T10:07:44.812673Z",
     "iopub.status.busy": "2021-09-29T10:07:44.812121Z",
     "iopub.status.idle": "2021-09-29T10:07:44.966597Z",
     "shell.execute_reply": "2021-09-29T10:07:44.966086Z"
    },
    "papermill": {
     "duration": 0.184879,
     "end_time": "2021-09-29T10:07:44.966733",
     "exception": false,
     "start_time": "2021-09-29T10:07:44.781854",
     "status": "completed"
    },
    "tags": []
   },
   "outputs": [],
   "source": [
    "test_images = mnist.test_images()\n",
    "test_labels = mnist.test_labels()"
   ]
  },
  {
   "cell_type": "code",
   "execution_count": 8,
   "id": "fc38cf1b",
   "metadata": {
    "execution": {
     "iopub.execute_input": "2021-09-29T10:07:45.026244Z",
     "iopub.status.busy": "2021-09-29T10:07:45.025629Z",
     "iopub.status.idle": "2021-09-29T10:07:45.040065Z",
     "shell.execute_reply": "2021-09-29T10:07:45.039613Z"
    },
    "papermill": {
     "duration": 0.045813,
     "end_time": "2021-09-29T10:07:45.040184",
     "exception": false,
     "start_time": "2021-09-29T10:07:44.994371",
     "status": "completed"
    },
    "tags": []
   },
   "outputs": [
    {
     "data": {
      "text/plain": [
       "((10000, 28, 28), (10000,))"
      ]
     },
     "execution_count": 8,
     "metadata": {},
     "output_type": "execute_result"
    }
   ],
   "source": [
    "test_images.shape, test_labels.shape"
   ]
  },
  {
   "cell_type": "code",
   "execution_count": 9,
   "id": "f9ed8fe0",
   "metadata": {
    "execution": {
     "iopub.execute_input": "2021-09-29T10:07:45.098176Z",
     "iopub.status.busy": "2021-09-29T10:07:45.097625Z",
     "iopub.status.idle": "2021-09-29T10:07:45.251368Z",
     "shell.execute_reply": "2021-09-29T10:07:45.251864Z"
    },
    "papermill": {
     "duration": 0.184857,
     "end_time": "2021-09-29T10:07:45.252016",
     "exception": false,
     "start_time": "2021-09-29T10:07:45.067159",
     "status": "completed"
    },
    "tags": []
   },
   "outputs": [
    {
     "name": "stdout",
     "output_type": "stream",
     "text": [
      "2\n"
     ]
    },
    {
     "data": {
      "text/plain": [
       "<matplotlib.image.AxesImage at 0x7f9cdf7237b8>"
      ]
     },
     "execution_count": 9,
     "metadata": {},
     "output_type": "execute_result"
    },
    {
     "data": {
      "image/png": "[encoded data removed]",
      "text/plain": [
       "<Figure size 432x288 with 1 Axes>"
      ]
     },
     "metadata": {
      "needs_background": "light"
     },
     "output_type": "display_data"
    }
   ],
   "source": [
    "image_index = 7776 # You may select anything up to 60,000\n",
    "print(train_labels[image_index]) \n",
    "plt.imshow(train_images[image_index], cmap='Greys')"
   ]
  },
  {
   "cell_type": "markdown",
   "id": "a8d2388d",
   "metadata": {
    "papermill": {
     "duration": 0.028762,
     "end_time": "2021-09-29T10:07:45.310082",
     "exception": false,
     "start_time": "2021-09-29T10:07:45.281320",
     "status": "completed"
    },
    "tags": []
   },
   "source": [
    "## Filter data to get 3 and 8 out"
   ]
  },
  {
   "cell_type": "code",
   "execution_count": 10,
   "id": "776f7fc7",
   "metadata": {
    "execution": {
     "iopub.execute_input": "2021-09-29T10:07:45.371480Z",
     "iopub.status.busy": "2021-09-29T10:07:45.370807Z",
     "iopub.status.idle": "2021-09-29T10:07:45.391870Z",
     "shell.execute_reply": "2021-09-29T10:07:45.391345Z"
    },
    "papermill": {
     "duration": 0.053473,
     "end_time": "2021-09-29T10:07:45.391996",
     "exception": false,
     "start_time": "2021-09-29T10:07:45.338523",
     "status": "completed"
    },
    "tags": []
   },
   "outputs": [],
   "source": [
    "train_filter = np.where((train_labels == 3 ) | (train_labels == 8))\n",
    "test_filter = np.where((test_labels == 3) | (test_labels == 8))\n",
    "X_train, y_train = train_images[train_filter], train_labels[train_filter]\n",
    "X_test, y_test = test_images[test_filter], test_labels[test_filter]"
   ]
  },
  {
   "cell_type": "markdown",
   "id": "948f0b7e",
   "metadata": {
    "papermill": {
     "duration": 0.02797,
     "end_time": "2021-09-29T10:07:45.449651",
     "exception": false,
     "start_time": "2021-09-29T10:07:45.421681",
     "status": "completed"
    },
    "tags": []
   },
   "source": [
    "We normalize the pizel values in the 0 to 1 range"
   ]
  },
  {
   "cell_type": "code",
   "execution_count": 11,
   "id": "ee4c2166",
   "metadata": {
    "execution": {
     "iopub.execute_input": "2021-09-29T10:07:45.512437Z",
     "iopub.status.busy": "2021-09-29T10:07:45.511814Z",
     "iopub.status.idle": "2021-09-29T10:07:45.564582Z",
     "shell.execute_reply": "2021-09-29T10:07:45.564002Z"
    },
    "papermill": {
     "duration": 0.086518,
     "end_time": "2021-09-29T10:07:45.564726",
     "exception": false,
     "start_time": "2021-09-29T10:07:45.478208",
     "status": "completed"
    },
    "tags": []
   },
   "outputs": [],
   "source": [
    "X_train = X_train/255.\n",
    "X_test = X_test/255."
   ]
  },
  {
   "cell_type": "markdown",
   "id": "ddcf4fab",
   "metadata": {
    "papermill": {
     "duration": 0.029689,
     "end_time": "2021-09-29T10:07:45.623475",
     "exception": false,
     "start_time": "2021-09-29T10:07:45.593786",
     "status": "completed"
    },
    "tags": []
   },
   "source": [
    "And setup the labels as 1 (when the digit is 3) and 0 (when the digit is 8)"
   ]
  },
  {
   "cell_type": "code",
   "execution_count": 12,
   "id": "7dc908f2",
   "metadata": {
    "execution": {
     "iopub.execute_input": "2021-09-29T10:07:45.685031Z",
     "iopub.status.busy": "2021-09-29T10:07:45.684416Z",
     "iopub.status.idle": "2021-09-29T10:07:45.697742Z",
     "shell.execute_reply": "2021-09-29T10:07:45.697287Z"
    },
    "papermill": {
     "duration": 0.046096,
     "end_time": "2021-09-29T10:07:45.697859",
     "exception": false,
     "start_time": "2021-09-29T10:07:45.651763",
     "status": "completed"
    },
    "tags": []
   },
   "outputs": [],
   "source": [
    "y_train = 1*(y_train==3)\n",
    "y_test = 1*(y_test==3)"
   ]
  },
  {
   "cell_type": "code",
   "execution_count": 13,
   "id": "01e4e969",
   "metadata": {
    "execution": {
     "iopub.execute_input": "2021-09-29T10:07:45.758092Z",
     "iopub.status.busy": "2021-09-29T10:07:45.757496Z",
     "iopub.status.idle": "2021-09-29T10:07:45.773128Z",
     "shell.execute_reply": "2021-09-29T10:07:45.772351Z"
    },
    "papermill": {
     "duration": 0.047399,
     "end_time": "2021-09-29T10:07:45.773252",
     "exception": false,
     "start_time": "2021-09-29T10:07:45.725853",
     "status": "completed"
    },
    "tags": []
   },
   "outputs": [
    {
     "data": {
      "text/plain": [
       "((11982, 28, 28), (1984, 28, 28))"
      ]
     },
     "execution_count": 13,
     "metadata": {},
     "output_type": "execute_result"
    }
   ],
   "source": [
    "X_train.shape, X_test.shape"
   ]
  },
  {
   "cell_type": "markdown",
   "id": "5ccf3f85",
   "metadata": {
    "papermill": {
     "duration": 0.028672,
     "end_time": "2021-09-29T10:07:45.830722",
     "exception": false,
     "start_time": "2021-09-29T10:07:45.802050",
     "status": "completed"
    },
    "tags": []
   },
   "source": [
    "We reshape the data to flatten the image pixels into a set of features or co-variates:"
   ]
  },
  {
   "cell_type": "code",
   "execution_count": 14,
   "id": "5286a4a3",
   "metadata": {
    "execution": {
     "iopub.execute_input": "2021-09-29T10:07:45.904014Z",
     "iopub.status.busy": "2021-09-29T10:07:45.898725Z",
     "iopub.status.idle": "2021-09-29T10:07:45.911256Z",
     "shell.execute_reply": "2021-09-29T10:07:45.910745Z"
    },
    "papermill": {
     "duration": 0.052043,
     "end_time": "2021-09-29T10:07:45.911386",
     "exception": false,
     "start_time": "2021-09-29T10:07:45.859343",
     "status": "completed"
    },
    "tags": []
   },
   "outputs": [
    {
     "data": {
      "text/plain": [
       "((11982, 784), (1984, 784))"
      ]
     },
     "execution_count": 14,
     "metadata": {},
     "output_type": "execute_result"
    }
   ],
   "source": [
    "X_train = X_train.reshape(X_train.shape[0], -1)\n",
    "X_test = X_test.reshape(X_test.shape[0], -1)\n",
    "X_train.shape, X_test.shape"
   ]
  },
  {
   "cell_type": "code",
   "execution_count": 15,
   "id": "73c5f88a",
   "metadata": {
    "execution": {
     "iopub.execute_input": "2021-09-29T10:07:45.979599Z",
     "iopub.status.busy": "2021-09-29T10:07:45.978928Z",
     "iopub.status.idle": "2021-09-29T10:07:45.997724Z",
     "shell.execute_reply": "2021-09-29T10:07:45.997273Z"
    },
    "papermill": {
     "duration": 0.056454,
     "end_time": "2021-09-29T10:07:45.997842",
     "exception": false,
     "start_time": "2021-09-29T10:07:45.941388",
     "status": "completed"
    },
    "tags": []
   },
   "outputs": [],
   "source": [
    "#Impoting functions from 'Kudzu'\n",
    "from kudzu.model import Model\n",
    "from kudzu.train import Learner\n",
    "from kudzu.optim import GD\n",
    "from kudzu.data import Data, Sampler,Dataloader\n",
    "\n",
    "from kudzu.callbacks import AccCallback\n",
    "from kudzu.callbacks import ClfCallback\n",
    "\n",
    "from kudzu.loss import MSE\n",
    "\n",
    "from kudzu.layer import Sigmoid,Relu\n",
    "from kudzu.layer import Affine"
   ]
  },
  {
   "cell_type": "markdown",
   "id": "bc01172a",
   "metadata": {
    "papermill": {
     "duration": 0.02853,
     "end_time": "2021-09-29T10:07:46.055332",
     "exception": false,
     "start_time": "2021-09-29T10:07:46.026802",
     "status": "completed"
    },
    "tags": []
   },
   "source": [
    "### Let us create a `Config` class, to store important parameters. \n",
    "This class essentially plays the role of a dictionary."
   ]
  },
  {
   "cell_type": "code",
   "execution_count": 16,
   "id": "978281aa",
   "metadata": {
    "execution": {
     "iopub.execute_input": "2021-09-29T10:07:46.116394Z",
     "iopub.status.busy": "2021-09-29T10:07:46.115779Z",
     "iopub.status.idle": "2021-09-29T10:07:46.129240Z",
     "shell.execute_reply": "2021-09-29T10:07:46.128792Z"
    },
    "papermill": {
     "duration": 0.044824,
     "end_time": "2021-09-29T10:07:46.129355",
     "exception": false,
     "start_time": "2021-09-29T10:07:46.084531",
     "status": "completed"
    },
    "tags": []
   },
   "outputs": [],
   "source": [
    "class Config:\n",
    "    pass\n",
    "config = Config()\n",
    "config.lr = 0.001\n",
    "config.num_epochs = 250\n",
    "config.bs = 50"
   ]
  },
  {
   "cell_type": "markdown",
   "id": "1385fa59",
   "metadata": {
    "papermill": {
     "duration": 0.028982,
     "end_time": "2021-09-29T10:07:46.187230",
     "exception": false,
     "start_time": "2021-09-29T10:07:46.158248",
     "status": "completed"
    },
    "tags": []
   },
   "source": [
    "### Running Models with the Training data\n",
    "Details about the network layers:\n",
    "- A first affine layer has 784 inputs and does 100 affine transforms. These are followed by a Relu\n",
    "- A second affine layer has 100 inputs from the 100 activations of the past layer, and does 100 affine transforms. These are followed by a Relu\n",
    "- A third affine layer has 100 activations and does 2 affine transformations to create an embedding for visualization. There is no non-linearity here.\n",
    "- A final \"logistic regression\" which has an affine transform from 2 inputs to 1 output, which is squeezed through a sigmoid.\n"
   ]
  },
  {
   "cell_type": "code",
   "execution_count": 17,
   "id": "2b9c66db",
   "metadata": {
    "execution": {
     "iopub.execute_input": "2021-09-29T10:07:46.254129Z",
     "iopub.status.busy": "2021-09-29T10:07:46.253510Z",
     "iopub.status.idle": "2021-09-29T10:07:46.267132Z",
     "shell.execute_reply": "2021-09-29T10:07:46.267630Z"
    },
    "papermill": {
     "duration": 0.051335,
     "end_time": "2021-09-29T10:07:46.267779",
     "exception": false,
     "start_time": "2021-09-29T10:07:46.216444",
     "status": "completed"
    },
    "tags": []
   },
   "outputs": [],
   "source": [
    "data = Data(X_train, y_train.reshape(-1,1))\n",
    "sampler = Sampler(data, config.bs, shuffle=True)\n",
    "\n",
    "dl = Dataloader(data, sampler)\n",
    "\n",
    "opt = GD(config.lr)\n",
    "loss = MSE()"
   ]
  },
  {
   "cell_type": "code",
   "execution_count": 18,
   "id": "b275e4c2",
   "metadata": {
    "execution": {
     "iopub.execute_input": "2021-09-29T10:07:46.332347Z",
     "iopub.status.busy": "2021-09-29T10:07:46.331736Z",
     "iopub.status.idle": "2021-09-29T10:07:46.345871Z",
     "shell.execute_reply": "2021-09-29T10:07:46.345376Z"
    },
    "papermill": {
     "duration": 0.049424,
     "end_time": "2021-09-29T10:07:46.346005",
     "exception": false,
     "start_time": "2021-09-29T10:07:46.296581",
     "status": "completed"
    },
    "tags": []
   },
   "outputs": [],
   "source": [
    "training_data_x = X_train\n",
    "testing_data_x = X_test\n",
    "training_data_y = y_train.reshape(-1,1)\n",
    "testing_data_y = y_test.reshape(-1,1)"
   ]
  },
  {
   "cell_type": "code",
   "execution_count": 19,
   "id": "76951160",
   "metadata": {
    "execution": {
     "iopub.execute_input": "2021-09-29T10:07:46.410917Z",
     "iopub.status.busy": "2021-09-29T10:07:46.410317Z",
     "iopub.status.idle": "2021-09-29T10:07:46.430519Z",
     "shell.execute_reply": "2021-09-29T10:07:46.430011Z"
    },
    "papermill": {
     "duration": 0.055239,
     "end_time": "2021-09-29T10:07:46.430639",
     "exception": false,
     "start_time": "2021-09-29T10:07:46.375400",
     "status": "completed"
    },
    "tags": []
   },
   "outputs": [
    {
     "name": "stdout",
     "output_type": "stream",
     "text": [
      "xavier\n",
      "xavier\n",
      "xavier\n",
      "xavier\n",
      "xavier\n"
     ]
    }
   ],
   "source": [
    "layers = [Affine(\"first\", 784, 100), Relu(\"first\"), Affine(\"second\", 100, 100), Relu(\"second\"), Affine(\"third\", 100, 2), Affine(\"last\", 2, 1), Sigmoid(\"last\")]\n",
    "model_nn = Model(layers)\n",
    "model_lr = Model([Affine(\"logits\", 784, 1), Sigmoid(\"sigmoid\")])"
   ]
  },
  {
   "cell_type": "code",
   "execution_count": 20,
   "id": "6eede77a",
   "metadata": {
    "execution": {
     "iopub.execute_input": "2021-09-29T10:07:46.493799Z",
     "iopub.status.busy": "2021-09-29T10:07:46.493239Z",
     "iopub.status.idle": "2021-09-29T10:07:46.507169Z",
     "shell.execute_reply": "2021-09-29T10:07:46.506597Z"
    },
    "papermill": {
     "duration": 0.046741,
     "end_time": "2021-09-29T10:07:46.507291",
     "exception": false,
     "start_time": "2021-09-29T10:07:46.460550",
     "status": "completed"
    },
    "tags": []
   },
   "outputs": [],
   "source": [
    "nn_learner = Learner(loss, model_nn, opt, config.num_epochs)\n",
    "acc_nn = ClfCallback(nn_learner, config.bs, training_data_x , testing_data_x, training_data_y, testing_data_y)\n",
    "nn_learner.set_callbacks([acc_nn])"
   ]
  },
  {
   "cell_type": "code",
   "execution_count": 21,
   "id": "877b6cc7",
   "metadata": {
    "execution": {
     "iopub.execute_input": "2021-09-29T10:07:46.570012Z",
     "iopub.status.busy": "2021-09-29T10:07:46.569411Z",
     "iopub.status.idle": "2021-09-29T10:07:46.582284Z",
     "shell.execute_reply": "2021-09-29T10:07:46.581803Z"
    },
    "papermill": {
     "duration": 0.046191,
     "end_time": "2021-09-29T10:07:46.582399",
     "exception": false,
     "start_time": "2021-09-29T10:07:46.536208",
     "status": "completed"
    },
    "tags": []
   },
   "outputs": [],
   "source": [
    "lr_learner = Learner(loss, model_lr, opt, config.num_epochs)\n",
    "acc_lr = ClfCallback(lr_learner, config.bs, training_data_x , testing_data_x, training_data_y, testing_data_y)\n",
    "lr_learner.set_callbacks([acc_lr])"
   ]
  },
  {
   "cell_type": "code",
   "execution_count": 22,
   "id": "d9b133c3",
   "metadata": {
    "execution": {
     "iopub.execute_input": "2021-09-29T10:07:46.646358Z",
     "iopub.status.busy": "2021-09-29T10:07:46.645747Z",
     "iopub.status.idle": "2021-09-29T10:09:13.256963Z",
     "shell.execute_reply": "2021-09-29T10:09:13.257908Z"
    },
    "papermill": {
     "duration": 86.646134,
     "end_time": "2021-09-29T10:09:13.258079",
     "exception": false,
     "start_time": "2021-09-29T10:07:46.611945",
     "status": "completed"
    },
    "tags": []
   },
   "outputs": [
    {
     "name": "stdout",
     "output_type": "stream",
     "text": [
      "Epoch 0, Loss 0.2488\n",
      "Training Accuracy: 0.5815, Testing Accuracy: 0.5927\n",
      "\n"
     ]
    },
    {
     "name": "stdout",
     "output_type": "stream",
     "text": [
      "Epoch 10, Loss 0.1687\n",
      "Training Accuracy: 0.8880, Testing Accuracy: 0.9052\n",
      "\n"
     ]
    },
    {
     "name": "stdout",
     "output_type": "stream",
     "text": [
      "Epoch 20, Loss 0.084\n",
      "Training Accuracy: 0.9213, Testing Accuracy: 0.9385\n",
      "\n"
     ]
    },
    {
     "name": "stdout",
     "output_type": "stream",
     "text": [
      "Epoch 30, Loss 0.0566\n",
      "Training Accuracy: 0.9406, Testing Accuracy: 0.9536\n",
      "\n"
     ]
    },
    {
     "name": "stdout",
     "output_type": "stream",
     "text": [
      "Epoch 40, Loss 0.0453\n",
      "Training Accuracy: 0.9504, Testing Accuracy: 0.9632\n",
      "\n"
     ]
    },
    {
     "name": "stdout",
     "output_type": "stream",
     "text": [
      "Epoch 50, Loss 0.0394\n",
      "Training Accuracy: 0.9559, Testing Accuracy: 0.9693\n",
      "\n"
     ]
    },
    {
     "name": "stdout",
     "output_type": "stream",
     "text": [
      "Epoch 60, Loss 0.0357\n",
      "Training Accuracy: 0.9594, Testing Accuracy: 0.9693\n",
      "\n"
     ]
    },
    {
     "name": "stdout",
     "output_type": "stream",
     "text": [
      "Epoch 70, Loss 0.0331\n",
      "Training Accuracy: 0.9623, Testing Accuracy: 0.9703\n",
      "\n"
     ]
    },
    {
     "name": "stdout",
     "output_type": "stream",
     "text": [
      "Epoch 80, Loss 0.0312\n",
      "Training Accuracy: 0.9644, Testing Accuracy: 0.9718\n",
      "\n"
     ]
    },
    {
     "name": "stdout",
     "output_type": "stream",
     "text": [
      "Epoch 90, Loss 0.0296\n",
      "Training Accuracy: 0.9659, Testing Accuracy: 0.9723\n",
      "\n"
     ]
    },
    {
     "name": "stdout",
     "output_type": "stream",
     "text": [
      "Epoch 100, Loss 0.0284\n",
      "Training Accuracy: 0.9671, Testing Accuracy: 0.9738\n",
      "\n"
     ]
    },
    {
     "name": "stdout",
     "output_type": "stream",
     "text": [
      "Epoch 110, Loss 0.0274\n",
      "Training Accuracy: 0.9683, Testing Accuracy: 0.9733\n",
      "\n"
     ]
    },
    {
     "name": "stdout",
     "output_type": "stream",
     "text": [
      "Epoch 120, Loss 0.0265\n",
      "Training Accuracy: 0.9700, Testing Accuracy: 0.9738\n",
      "\n"
     ]
    },
    {
     "name": "stdout",
     "output_type": "stream",
     "text": [
      "Epoch 130, Loss 0.0257\n",
      "Training Accuracy: 0.9703, Testing Accuracy: 0.9733\n",
      "\n"
     ]
    },
    {
     "name": "stdout",
     "output_type": "stream",
     "text": [
      "Epoch 140, Loss 0.025\n",
      "Training Accuracy: 0.9708, Testing Accuracy: 0.9733\n",
      "\n"
     ]
    },
    {
     "name": "stdout",
     "output_type": "stream",
     "text": [
      "Epoch 150, Loss 0.0244\n",
      "Training Accuracy: 0.9715, Testing Accuracy: 0.9753\n",
      "\n"
     ]
    },
    {
     "name": "stdout",
     "output_type": "stream",
     "text": [
      "Epoch 160, Loss 0.0238\n",
      "Training Accuracy: 0.9722, Testing Accuracy: 0.9753\n",
      "\n"
     ]
    },
    {
     "name": "stdout",
     "output_type": "stream",
     "text": [
      "Epoch 170, Loss 0.0232\n",
      "Training Accuracy: 0.9730, Testing Accuracy: 0.9753\n",
      "\n"
     ]
    },
    {
     "name": "stdout",
     "output_type": "stream",
     "text": [
      "Epoch 180, Loss 0.0227\n",
      "Training Accuracy: 0.9741, Testing Accuracy: 0.9758\n",
      "\n"
     ]
    },
    {
     "name": "stdout",
     "output_type": "stream",
     "text": [
      "Epoch 190, Loss 0.0222\n",
      "Training Accuracy: 0.9748, Testing Accuracy: 0.9763\n",
      "\n"
     ]
    },
    {
     "name": "stdout",
     "output_type": "stream",
     "text": [
      "Epoch 200, Loss 0.0218\n",
      "Training Accuracy: 0.9754, Testing Accuracy: 0.9763\n",
      "\n"
     ]
    },
    {
     "name": "stdout",
     "output_type": "stream",
     "text": [
      "Epoch 210, Loss 0.0214\n",
      "Training Accuracy: 0.9761, Testing Accuracy: 0.9758\n",
      "\n"
     ]
    },
    {
     "name": "stdout",
     "output_type": "stream",
     "text": [
      "Epoch 220, Loss 0.021\n",
      "Training Accuracy: 0.9767, Testing Accuracy: 0.9758\n",
      "\n"
     ]
    },
    {
     "name": "stdout",
     "output_type": "stream",
     "text": [
      "Epoch 230, Loss 0.0206\n",
      "Training Accuracy: 0.9771, Testing Accuracy: 0.9758\n",
      "\n"
     ]
    },
    {
     "name": "stdout",
     "output_type": "stream",
     "text": [
      "Epoch 240, Loss 0.0202\n",
      "Training Accuracy: 0.9771, Testing Accuracy: 0.9758\n",
      "\n"
     ]
    },
    {
     "data": {
      "text/plain": [
       "0.028077174042035077"
      ]
     },
     "execution_count": 22,
     "metadata": {},
     "output_type": "execute_result"
    }
   ],
   "source": [
    "nn_learner.train_loop(dl)"
   ]
  },
  {
   "cell_type": "code",
   "execution_count": 23,
   "id": "e0163366",
   "metadata": {
    "execution": {
     "iopub.execute_input": "2021-09-29T10:09:13.340530Z",
     "iopub.status.busy": "2021-09-29T10:09:13.339901Z",
     "iopub.status.idle": "2021-09-29T10:09:28.397987Z",
     "shell.execute_reply": "2021-09-29T10:09:28.398855Z"
    },
    "papermill": {
     "duration": 15.103734,
     "end_time": "2021-09-29T10:09:28.399060",
     "exception": false,
     "start_time": "2021-09-29T10:09:13.295326",
     "status": "completed"
    },
    "tags": []
   },
   "outputs": [
    {
     "name": "stdout",
     "output_type": "stream",
     "text": [
      "Epoch 0, Loss 0.2375\n",
      "Training Accuracy: 0.7041, Testing Accuracy: 0.6799\n",
      "\n"
     ]
    },
    {
     "name": "stdout",
     "output_type": "stream",
     "text": [
      "Epoch 10, Loss 0.105\n",
      "Training Accuracy: 0.9011, Testing Accuracy: 0.9098\n",
      "\n"
     ]
    },
    {
     "name": "stdout",
     "output_type": "stream",
     "text": [
      "Epoch 20, Loss 0.0803\n",
      "Training Accuracy: 0.9241, Testing Accuracy: 0.9330\n",
      "\n"
     ]
    },
    {
     "name": "stdout",
     "output_type": "stream",
     "text": [
      "Epoch 30, Loss 0.069\n",
      "Training Accuracy: 0.9343, Testing Accuracy: 0.9400\n",
      "\n"
     ]
    },
    {
     "name": "stdout",
     "output_type": "stream",
     "text": [
      "Epoch 40, Loss 0.0622\n",
      "Training Accuracy: 0.9401, Testing Accuracy: 0.9466\n",
      "\n"
     ]
    },
    {
     "name": "stdout",
     "output_type": "stream",
     "text": [
      "Epoch 50, Loss 0.0576\n",
      "Training Accuracy: 0.9440, Testing Accuracy: 0.9506\n",
      "\n"
     ]
    },
    {
     "name": "stdout",
     "output_type": "stream",
     "text": [
      "Epoch 60, Loss 0.0542\n",
      "Training Accuracy: 0.9468, Testing Accuracy: 0.9551\n",
      "\n"
     ]
    },
    {
     "name": "stdout",
     "output_type": "stream",
     "text": [
      "Epoch 70, Loss 0.0516\n",
      "Training Accuracy: 0.9489, Testing Accuracy: 0.9567\n",
      "\n"
     ]
    },
    {
     "name": "stdout",
     "output_type": "stream",
     "text": [
      "Epoch 80, Loss 0.0495\n",
      "Training Accuracy: 0.9501, Testing Accuracy: 0.9577\n",
      "\n"
     ]
    },
    {
     "name": "stdout",
     "output_type": "stream",
     "text": [
      "Epoch 90, Loss 0.0477\n",
      "Training Accuracy: 0.9518, Testing Accuracy: 0.9582\n",
      "\n"
     ]
    },
    {
     "name": "stdout",
     "output_type": "stream",
     "text": [
      "Epoch 100, Loss 0.0463\n",
      "Training Accuracy: 0.9532, Testing Accuracy: 0.9592\n",
      "\n"
     ]
    },
    {
     "name": "stdout",
     "output_type": "stream",
     "text": [
      "Epoch 110, Loss 0.045\n",
      "Training Accuracy: 0.9541, Testing Accuracy: 0.9617\n",
      "\n"
     ]
    },
    {
     "name": "stdout",
     "output_type": "stream",
     "text": [
      "Epoch 120, Loss 0.044\n",
      "Training Accuracy: 0.9545, Testing Accuracy: 0.9627\n",
      "\n"
     ]
    },
    {
     "name": "stdout",
     "output_type": "stream",
     "text": [
      "Epoch 130, Loss 0.043\n",
      "Training Accuracy: 0.9553, Testing Accuracy: 0.9642\n",
      "\n"
     ]
    },
    {
     "name": "stdout",
     "output_type": "stream",
     "text": [
      "Epoch 140, Loss 0.0421\n",
      "Training Accuracy: 0.9561, Testing Accuracy: 0.9642\n",
      "\n"
     ]
    },
    {
     "name": "stdout",
     "output_type": "stream",
     "text": [
      "Epoch 150, Loss 0.0414\n",
      "Training Accuracy: 0.9570, Testing Accuracy: 0.9642\n",
      "\n"
     ]
    },
    {
     "name": "stdout",
     "output_type": "stream",
     "text": [
      "Epoch 160, Loss 0.0407\n",
      "Training Accuracy: 0.9575, Testing Accuracy: 0.9642\n",
      "\n"
     ]
    },
    {
     "name": "stdout",
     "output_type": "stream",
     "text": [
      "Epoch 170, Loss 0.0401\n",
      "Training Accuracy: 0.9580, Testing Accuracy: 0.9647\n",
      "\n"
     ]
    },
    {
     "name": "stdout",
     "output_type": "stream",
     "text": [
      "Epoch 180, Loss 0.0395\n",
      "Training Accuracy: 0.9592, Testing Accuracy: 0.9657\n",
      "\n"
     ]
    },
    {
     "name": "stdout",
     "output_type": "stream",
     "text": [
      "Epoch 190, Loss 0.039\n",
      "Training Accuracy: 0.9594, Testing Accuracy: 0.9657\n",
      "\n"
     ]
    },
    {
     "name": "stdout",
     "output_type": "stream",
     "text": [
      "Epoch 200, Loss 0.0385\n",
      "Training Accuracy: 0.9598, Testing Accuracy: 0.9657\n",
      "\n"
     ]
    },
    {
     "name": "stdout",
     "output_type": "stream",
     "text": [
      "Epoch 210, Loss 0.038\n",
      "Training Accuracy: 0.9601, Testing Accuracy: 0.9662\n",
      "\n"
     ]
    },
    {
     "name": "stdout",
     "output_type": "stream",
     "text": [
      "Epoch 220, Loss 0.0376\n",
      "Training Accuracy: 0.9607, Testing Accuracy: 0.9662\n",
      "\n"
     ]
    },
    {
     "name": "stdout",
     "output_type": "stream",
     "text": [
      "Epoch 230, Loss 0.0372\n",
      "Training Accuracy: 0.9609, Testing Accuracy: 0.9662\n",
      "\n"
     ]
    },
    {
     "name": "stdout",
     "output_type": "stream",
     "text": [
      "Epoch 240, Loss 0.0368\n",
      "Training Accuracy: 0.9613, Testing Accuracy: 0.9662\n",
      "\n"
     ]
    },
    {
     "data": {
      "text/plain": [
       "0.03690818118306619"
      ]
     },
     "execution_count": 23,
     "metadata": {},
     "output_type": "execute_result"
    }
   ],
   "source": [
    "lr_learner.train_loop(dl)"
   ]
  },
  {
   "cell_type": "code",
   "execution_count": 24,
   "id": "ca410940",
   "metadata": {
    "execution": {
     "iopub.execute_input": "2021-09-29T10:09:28.497580Z",
     "iopub.status.busy": "2021-09-29T10:09:28.496976Z",
     "iopub.status.idle": "2021-09-29T10:09:28.754087Z",
     "shell.execute_reply": "2021-09-29T10:09:28.754573Z"
    },
    "papermill": {
     "duration": 0.311588,
     "end_time": "2021-09-29T10:09:28.754733",
     "exception": false,
     "start_time": "2021-09-29T10:09:28.443145",
     "status": "completed"
    },
    "tags": []
   },
   "outputs": [
    {
     "data": {
      "text/plain": [
       "<matplotlib.legend.Legend at 0x7f9cdf2868d0>"
      ]
     },
     "execution_count": 24,
     "metadata": {},
     "output_type": "execute_result"
    },
    {
     "data": {
      "image/png": "[encoded data removed]",
      "text/plain": [
       "<Figure size 1080x720 with 1 Axes>"
      ]
     },
     "metadata": {
      "needs_background": "light"
     },
     "output_type": "display_data"
    }
   ],
   "source": [
    "#comparing the results of NN and LR\n",
    "plt.figure(figsize=(15,10))\n",
    "\n",
    "# Neural Network plots\n",
    "plt.plot(acc_nn.accuracies, 'r-', label = \"Training Accuracies - NN\")\n",
    "plt.plot(acc_nn.test_accuracies, 'g-', label = \"Testing Accuracies - NN\")\n",
    "\n",
    "# Logistic Regression plots\n",
    "plt.plot(acc_lr.accuracies, 'k-', label = \"Training Accuracies - LR\")\n",
    "plt.plot(acc_lr.test_accuracies, 'b-', label = \"Testing Accuracies - LR\")\n",
    "plt.legend()"
   ]
  },
  {
   "cell_type": "markdown",
   "id": "80dfb35c",
   "metadata": {
    "papermill": {
     "duration": 0.047673,
     "end_time": "2021-09-29T10:09:28.850220",
     "exception": false,
     "start_time": "2021-09-29T10:09:28.802547",
     "status": "completed"
    },
    "tags": []
   },
   "source": [
    "#### Plotting the outputs of this layer of the NN.\n"
   ]
  },
  {
   "cell_type": "code",
   "execution_count": 25,
   "id": "45eb2ff5",
   "metadata": {
    "execution": {
     "iopub.execute_input": "2021-09-29T10:09:28.946059Z",
     "iopub.status.busy": "2021-09-29T10:09:28.945476Z",
     "iopub.status.idle": "2021-09-29T10:09:28.968829Z",
     "shell.execute_reply": "2021-09-29T10:09:28.969331Z"
    },
    "papermill": {
     "duration": 0.073909,
     "end_time": "2021-09-29T10:09:28.969480",
     "exception": false,
     "start_time": "2021-09-29T10:09:28.895571",
     "status": "completed"
    },
    "tags": []
   },
   "outputs": [],
   "source": [
    "new_model = Model(layers[:-2])\n",
    "testing_plot = new_model(testing_data_x)"
   ]
  },
  {
   "cell_type": "code",
   "execution_count": 26,
   "id": "4c0a5485",
   "metadata": {
    "execution": {
     "iopub.execute_input": "2021-09-29T10:09:29.079381Z",
     "iopub.status.busy": "2021-09-29T10:09:29.070448Z",
     "iopub.status.idle": "2021-09-29T10:09:29.292762Z",
     "shell.execute_reply": "2021-09-29T10:09:29.292229Z"
    },
    "papermill": {
     "duration": 0.276293,
     "end_time": "2021-09-29T10:09:29.292897",
     "exception": false,
     "start_time": "2021-09-29T10:09:29.016604",
     "status": "completed"
    },
    "tags": []
   },
   "outputs": [
    {
     "data": {
      "text/plain": [
       "Text(0.5, 1.0, 'Outputs')"
      ]
     },
     "execution_count": 26,
     "metadata": {},
     "output_type": "execute_result"
    },
    {
     "data": {
      "image/png": "[encoded data removed]",
      "text/plain": [
       "<Figure size 576x504 with 1 Axes>"
      ]
     },
     "metadata": {
      "needs_background": "light"
     },
     "output_type": "display_data"
    }
   ],
   "source": [
    "# Plotting the scatter plot of points and color coding by class\n",
    "plt.figure(figsize=(8,7))\n",
    "plt.scatter(testing_plot[:,0], testing_plot[:,1], alpha = 0.1, c = y_test.ravel());\n",
    "plt.title('Outputs')"
   ]
  },
  {
   "cell_type": "markdown",
   "id": "a74fcf8f",
   "metadata": {
    "papermill": {
     "duration": 0.051341,
     "end_time": "2021-09-29T10:09:29.393796",
     "exception": false,
     "start_time": "2021-09-29T10:09:29.342455",
     "status": "completed"
    },
    "tags": []
   },
   "source": [
    "Probability contours"
   ]
  },
  {
   "cell_type": "code",
   "execution_count": 27,
   "id": "d0afc8e3",
   "metadata": {
    "execution": {
     "iopub.execute_input": "2021-09-29T10:09:29.494363Z",
     "iopub.status.busy": "2021-09-29T10:09:29.493299Z",
     "iopub.status.idle": "2021-09-29T10:09:29.505285Z",
     "shell.execute_reply": "2021-09-29T10:09:29.504798Z"
    },
    "papermill": {
     "duration": 0.064222,
     "end_time": "2021-09-29T10:09:29.505411",
     "exception": false,
     "start_time": "2021-09-29T10:09:29.441189",
     "status": "completed"
    },
    "tags": []
   },
   "outputs": [],
   "source": [
    "model_prob = Model(layers[-2:]) "
   ]
  },
  {
   "cell_type": "code",
   "execution_count": 28,
   "id": "9b96e238",
   "metadata": {
    "execution": {
     "iopub.execute_input": "2021-09-29T10:09:29.607479Z",
     "iopub.status.busy": "2021-09-29T10:09:29.606722Z",
     "iopub.status.idle": "2021-09-29T10:09:29.623826Z",
     "shell.execute_reply": "2021-09-29T10:09:29.624390Z"
    },
    "papermill": {
     "duration": 0.070702,
     "end_time": "2021-09-29T10:09:29.624541",
     "exception": false,
     "start_time": "2021-09-29T10:09:29.553839",
     "status": "completed"
    },
    "tags": []
   },
   "outputs": [],
   "source": [
    "#creating the x and y ranges according to the above generated plot.\n",
    "x_range = np.linspace(-4, 1, 100) \n",
    "y_range = np.linspace(-6, 6, 100) \n",
    "x_grid, y_grid = np.meshgrid(x_range, y_range) # x_grid and y_grig are of size 100 X 100\n",
    "\n",
    "# converting x_grid and y_grid to continuous arrays\n",
    "x_gridflat = np.ravel(x_grid)\n",
    "y_gridflat = np.ravel(y_grid)\n",
    "\n",
    "# The last layer of the current model takes two columns as input. Hence transpose of np.vstack() is required.\n",
    "X = np.vstack((x_gridflat, y_gridflat)).T\n",
    "\n",
    "prob_contour = model_prob(X).reshape(100,100) "
   ]
  },
  {
   "cell_type": "code",
   "execution_count": 29,
   "id": "da72499a",
   "metadata": {
    "execution": {
     "iopub.execute_input": "2021-09-29T10:09:29.760558Z",
     "iopub.status.busy": "2021-09-29T10:09:29.759952Z",
     "iopub.status.idle": "2021-09-29T10:09:30.049797Z",
     "shell.execute_reply": "2021-09-29T10:09:30.049229Z"
    },
    "papermill": {
     "duration": 0.369346,
     "end_time": "2021-09-29T10:09:30.049923",
     "exception": false,
     "start_time": "2021-09-29T10:09:29.680577",
     "status": "completed"
    },
    "tags": []
   },
   "outputs": [
    {
     "data": {
      "image/png": "[encoded data removed]",
      "text/plain": [
       "<Figure size 720x648 with 1 Axes>"
      ]
     },
     "metadata": {
      "needs_background": "light"
     },
     "output_type": "display_data"
    }
   ],
   "source": [
    "plt.figure(figsize=(10,9))\n",
    "plt.scatter(testing_plot[:,0], testing_plot[:,1], alpha = 0.1, c = y_test.ravel())\n",
    "contours = plt.contour(x_grid,y_grid,prob_contour)\n",
    "plt.title('Probability Contours')\n",
    "plt.clabel(contours, inline = True );"
   ]
  },
  {
   "cell_type": "code",
   "execution_count": null,
   "id": "e81b4ac7",
   "metadata": {
    "papermill": {
     "duration": 0.053326,
     "end_time": "2021-09-29T10:09:30.154687",
     "exception": false,
     "start_time": "2021-09-29T10:09:30.101361",
     "status": "completed"
    },
    "tags": []
   },
   "outputs": [],
   "source": []
  }
 ],
 "metadata": {
  "kernelspec": {
   "display_name": "Python 3",
   "language": "python",
   "name": "python3"
  },
  "language_info": {
   "codemirror_mode": {
    "name": "ipython",
    "version": 3
   },
   "file_extension": ".py",
   "mimetype": "text/x-python",
   "name": "python",
   "nbconvert_exporter": "python",
   "pygments_lexer": "ipython3",
   "version": "3.6.15"
  },
  "papermill": {
   "default_parameters": {},
   "duration": 110.762581,
   "end_time": "2021-09-29T10:09:30.617018",
   "environment_variables": {},
   "exception": null,
   "input_path": "2020-08-11-part2.ipynb",
   "output_path": "2020-08-11-part2.ipynb",
   "parameters": {},
   "start_time": "2021-09-29T10:07:39.854437",
   "version": "2.3.3"
  }
 },
 "nbformat": 4,
 "nbformat_minor": 5
}