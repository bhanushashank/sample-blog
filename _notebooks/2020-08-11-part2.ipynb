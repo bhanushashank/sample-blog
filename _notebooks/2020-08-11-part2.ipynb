{
 "cells": [
  {
   "cell_type": "markdown",
   "id": "98380cd3",
   "metadata": {
    "papermill": {
     "duration": 0.029222,
     "end_time": "2022-08-10T10:10:34.940940",
     "exception": false,
     "start_time": "2022-08-10T10:10:34.911718",
     "status": "completed"
    },
    "tags": []
   },
   "source": [
    "# Distinguish Your Own Digits (DYOD)"
   ]
  },
  {
   "cell_type": "markdown",
   "id": "ef31240d",
   "metadata": {
    "papermill": {
     "duration": 0.025169,
     "end_time": "2022-08-10T10:10:34.990473",
     "exception": false,
     "start_time": "2022-08-10T10:10:34.965304",
     "status": "completed"
    },
    "tags": []
   },
   "source": [
    "You are going to write a classifier that distinguishes between the number 3 and number 8."
   ]
  },
  {
   "cell_type": "code",
   "execution_count": 1,
   "id": "b15c8646",
   "metadata": {
    "execution": {
     "iopub.execute_input": "2022-08-10T10:10:35.049119Z",
     "iopub.status.busy": "2022-08-10T10:10:35.048516Z",
     "iopub.status.idle": "2022-08-10T10:10:35.060259Z",
     "shell.execute_reply": "2022-08-10T10:10:35.060749Z"
    },
    "papermill": {
     "duration": 0.046764,
     "end_time": "2022-08-10T10:10:35.060899",
     "exception": false,
     "start_time": "2022-08-10T10:10:35.014135",
     "status": "completed"
    },
    "tags": []
   },
   "outputs": [],
   "source": [
    "%load_ext autoreload\n",
    "%autoreload 2"
   ]
  },
  {
   "cell_type": "code",
   "execution_count": 2,
   "id": "22ef38dc",
   "metadata": {
    "execution": {
     "iopub.execute_input": "2022-08-10T10:10:35.112474Z",
     "iopub.status.busy": "2022-08-10T10:10:35.111870Z",
     "iopub.status.idle": "2022-08-10T10:10:35.658880Z",
     "shell.execute_reply": "2022-08-10T10:10:35.658355Z"
    },
    "papermill": {
     "duration": 0.574374,
     "end_time": "2022-08-10T10:10:35.659012",
     "exception": false,
     "start_time": "2022-08-10T10:10:35.084638",
     "status": "completed"
    },
    "tags": []
   },
   "outputs": [],
   "source": [
    "%matplotlib inline\n",
    "import numpy as np\n",
    "import matplotlib.pyplot as plt\n",
    "import pandas as pd"
   ]
  },
  {
   "cell_type": "markdown",
   "id": "ba036198",
   "metadata": {
    "papermill": {
     "duration": 0.023894,
     "end_time": "2022-08-10T10:10:35.706749",
     "exception": false,
     "start_time": "2022-08-10T10:10:35.682855",
     "status": "completed"
    },
    "tags": []
   },
   "source": [
    "From the command line run `pip install mnist`. This is a library that will help you bring down the mnist dataset. If you run this from a notebook, you need to put  `!pip install mnist` in a cell by itself."
   ]
  },
  {
   "cell_type": "code",
   "execution_count": 3,
   "id": "bb6ad8a1",
   "metadata": {
    "execution": {
     "iopub.execute_input": "2022-08-10T10:10:35.771922Z",
     "iopub.status.busy": "2022-08-10T10:10:35.764799Z",
     "iopub.status.idle": "2022-08-10T10:10:38.322623Z",
     "shell.execute_reply": "2022-08-10T10:10:38.322031Z"
    },
    "papermill": {
     "duration": 2.592078,
     "end_time": "2022-08-10T10:10:38.322776",
     "exception": false,
     "start_time": "2022-08-10T10:10:35.730698",
     "status": "completed"
    },
    "tags": []
   },
   "outputs": [
    {
     "name": "stdout",
     "output_type": "stream",
     "text": [
      "Collecting mnist\r\n"
     ]
    },
    {
     "name": "stdout",
     "output_type": "stream",
     "text": [
      "  Downloading mnist-0.2.2-py2.py3-none-any.whl (3.5 kB)\r\n"
     ]
    },
    {
     "name": "stdout",
     "output_type": "stream",
     "text": [
      "Requirement already satisfied: numpy in /opt/hostedtoolcache/Python/3.6.15/x64/lib/python3.6/site-packages (from mnist) (1.19.5)\r\n"
     ]
    },
    {
     "name": "stdout",
     "output_type": "stream",
     "text": [
      "Installing collected packages: mnist\r\n",
      "Successfully installed mnist-0.2.2\r\n"
     ]
    }
   ],
   "source": [
    "!pip install mnist"
   ]
  },
  {
   "cell_type": "markdown",
   "id": "69df9c9a",
   "metadata": {
    "papermill": {
     "duration": 0.025583,
     "end_time": "2022-08-10T10:10:38.376673",
     "exception": false,
     "start_time": "2022-08-10T10:10:38.351090",
     "status": "completed"
    },
    "tags": []
   },
   "source": [
    "## Preparing the Data"
   ]
  },
  {
   "cell_type": "code",
   "execution_count": 4,
   "id": "7f69d806",
   "metadata": {
    "execution": {
     "iopub.execute_input": "2022-08-10T10:10:38.442500Z",
     "iopub.status.busy": "2022-08-10T10:10:38.431760Z",
     "iopub.status.idle": "2022-08-10T10:10:38.449215Z",
     "shell.execute_reply": "2022-08-10T10:10:38.449772Z"
    },
    "papermill": {
     "duration": 0.04678,
     "end_time": "2022-08-10T10:10:38.449903",
     "exception": false,
     "start_time": "2022-08-10T10:10:38.403123",
     "status": "completed"
    },
    "tags": []
   },
   "outputs": [],
   "source": [
    "import mnist"
   ]
  },
  {
   "cell_type": "code",
   "execution_count": 5,
   "id": "a411e44f",
   "metadata": {
    "execution": {
     "iopub.execute_input": "2022-08-10T10:10:38.521294Z",
     "iopub.status.busy": "2022-08-10T10:10:38.517014Z",
     "iopub.status.idle": "2022-08-10T10:10:39.109838Z",
     "shell.execute_reply": "2022-08-10T10:10:39.108481Z"
    },
    "papermill": {
     "duration": 0.63527,
     "end_time": "2022-08-10T10:10:39.109978",
     "exception": false,
     "start_time": "2022-08-10T10:10:38.474708",
     "status": "completed"
    },
    "tags": []
   },
   "outputs": [],
   "source": [
    "train_images = mnist.train_images()\n",
    "train_labels = mnist.train_labels()"
   ]
  },
  {
   "cell_type": "code",
   "execution_count": 6,
   "id": "dceab3a5",
   "metadata": {
    "execution": {
     "iopub.execute_input": "2022-08-10T10:10:39.168722Z",
     "iopub.status.busy": "2022-08-10T10:10:39.165451Z",
     "iopub.status.idle": "2022-08-10T10:10:39.180525Z",
     "shell.execute_reply": "2022-08-10T10:10:39.180044Z"
    },
    "papermill": {
     "duration": 0.045548,
     "end_time": "2022-08-10T10:10:39.180635",
     "exception": false,
     "start_time": "2022-08-10T10:10:39.135087",
     "status": "completed"
    },
    "tags": []
   },
   "outputs": [
    {
     "data": {
      "text/plain": [
       "((60000, 28, 28), (60000,))"
      ]
     },
     "execution_count": 6,
     "metadata": {},
     "output_type": "execute_result"
    }
   ],
   "source": [
    "train_images.shape, train_labels.shape"
   ]
  },
  {
   "cell_type": "code",
   "execution_count": 7,
   "id": "f50dc2bb",
   "metadata": {
    "execution": {
     "iopub.execute_input": "2022-08-10T10:10:39.234131Z",
     "iopub.status.busy": "2022-08-10T10:10:39.233556Z",
     "iopub.status.idle": "2022-08-10T10:10:39.409214Z",
     "shell.execute_reply": "2022-08-10T10:10:39.408666Z"
    },
    "papermill": {
     "duration": 0.203823,
     "end_time": "2022-08-10T10:10:39.409337",
     "exception": false,
     "start_time": "2022-08-10T10:10:39.205514",
     "status": "completed"
    },
    "tags": []
   },
   "outputs": [],
   "source": [
    "test_images = mnist.test_images()\n",
    "test_labels = mnist.test_labels()"
   ]
  },
  {
   "cell_type": "code",
   "execution_count": 8,
   "id": "fc38cf1b",
   "metadata": {
    "execution": {
     "iopub.execute_input": "2022-08-10T10:10:39.478760Z",
     "iopub.status.busy": "2022-08-10T10:10:39.470842Z",
     "iopub.status.idle": "2022-08-10T10:10:39.485102Z",
     "shell.execute_reply": "2022-08-10T10:10:39.484322Z"
    },
    "papermill": {
     "duration": 0.05063,
     "end_time": "2022-08-10T10:10:39.485224",
     "exception": false,
     "start_time": "2022-08-10T10:10:39.434594",
     "status": "completed"
    },
    "tags": []
   },
   "outputs": [
    {
     "data": {
      "text/plain": [
       "((10000, 28, 28), (10000,))"
      ]
     },
     "execution_count": 8,
     "metadata": {},
     "output_type": "execute_result"
    }
   ],
   "source": [
    "test_images.shape, test_labels.shape"
   ]
  },
  {
   "cell_type": "code",
   "execution_count": 9,
   "id": "f9ed8fe0",
   "metadata": {
    "execution": {
     "iopub.execute_input": "2022-08-10T10:10:39.566873Z",
     "iopub.status.busy": "2022-08-10T10:10:39.548545Z",
     "iopub.status.idle": "2022-08-10T10:10:39.682765Z",
     "shell.execute_reply": "2022-08-10T10:10:39.683198Z"
    },
    "papermill": {
     "duration": 0.172918,
     "end_time": "2022-08-10T10:10:39.683341",
     "exception": false,
     "start_time": "2022-08-10T10:10:39.510423",
     "status": "completed"
    },
    "tags": []
   },
   "outputs": [
    {
     "name": "stdout",
     "output_type": "stream",
     "text": [
      "2\n"
     ]
    },
    {
     "data": {
      "text/plain": [
       "<matplotlib.image.AxesImage at 0x7fb7b16a7668>"
      ]
     },
     "execution_count": 9,
     "metadata": {},
     "output_type": "execute_result"
    },
    {
     "data": {
      "image/png": "[encoded data removed]",
      "text/plain": [
       "<Figure size 432x288 with 1 Axes>"
      ]
     },
     "metadata": {
      "needs_background": "light"
     },
     "output_type": "display_data"
    }
   ],
   "source": [
    "image_index = 7776 # You may select anything up to 60,000\n",
    "print(train_labels[image_index]) \n",
    "plt.imshow(train_images[image_index], cmap='Greys')"
   ]
  },
  {
   "cell_type": "markdown",
   "id": "a8d2388d",
   "metadata": {
    "papermill": {
     "duration": 0.026243,
     "end_time": "2022-08-10T10:10:39.736222",
     "exception": false,
     "start_time": "2022-08-10T10:10:39.709979",
     "status": "completed"
    },
    "tags": []
   },
   "source": [
    "## Filter data to get 3 and 8 out"
   ]
  },
  {
   "cell_type": "code",
   "execution_count": 10,
   "id": "776f7fc7",
   "metadata": {
    "execution": {
     "iopub.execute_input": "2022-08-10T10:10:39.799321Z",
     "iopub.status.busy": "2022-08-10T10:10:39.798716Z",
     "iopub.status.idle": "2022-08-10T10:10:39.815984Z",
     "shell.execute_reply": "2022-08-10T10:10:39.815499Z"
    },
    "papermill": {
     "duration": 0.053513,
     "end_time": "2022-08-10T10:10:39.816102",
     "exception": false,
     "start_time": "2022-08-10T10:10:39.762589",
     "status": "completed"
    },
    "tags": []
   },
   "outputs": [],
   "source": [
    "train_filter = np.where((train_labels == 3 ) | (train_labels == 8))\n",
    "test_filter = np.where((test_labels == 3) | (test_labels == 8))\n",
    "X_train, y_train = train_images[train_filter], train_labels[train_filter]\n",
    "X_test, y_test = test_images[test_filter], test_labels[test_filter]"
   ]
  },
  {
   "cell_type": "markdown",
   "id": "948f0b7e",
   "metadata": {
    "papermill": {
     "duration": 0.026352,
     "end_time": "2022-08-10T10:10:39.869018",
     "exception": false,
     "start_time": "2022-08-10T10:10:39.842666",
     "status": "completed"
    },
    "tags": []
   },
   "source": [
    "We normalize the pizel values in the 0 to 1 range"
   ]
  },
  {
   "cell_type": "code",
   "execution_count": 11,
   "id": "ee4c2166",
   "metadata": {
    "execution": {
     "iopub.execute_input": "2022-08-10T10:10:39.937471Z",
     "iopub.status.busy": "2022-08-10T10:10:39.936858Z",
     "iopub.status.idle": "2022-08-10T10:10:39.981015Z",
     "shell.execute_reply": "2022-08-10T10:10:39.980125Z"
    },
    "papermill": {
     "duration": 0.085911,
     "end_time": "2022-08-10T10:10:39.981148",
     "exception": false,
     "start_time": "2022-08-10T10:10:39.895237",
     "status": "completed"
    },
    "tags": []
   },
   "outputs": [],
   "source": [
    "X_train = X_train/255.\n",
    "X_test = X_test/255."
   ]
  },
  {
   "cell_type": "markdown",
   "id": "ddcf4fab",
   "metadata": {
    "papermill": {
     "duration": 0.02661,
     "end_time": "2022-08-10T10:10:40.034661",
     "exception": false,
     "start_time": "2022-08-10T10:10:40.008051",
     "status": "completed"
    },
    "tags": []
   },
   "source": [
    "And setup the labels as 1 (when the digit is 3) and 0 (when the digit is 8)"
   ]
  },
  {
   "cell_type": "code",
   "execution_count": 12,
   "id": "7dc908f2",
   "metadata": {
    "execution": {
     "iopub.execute_input": "2022-08-10T10:10:40.099010Z",
     "iopub.status.busy": "2022-08-10T10:10:40.098397Z",
     "iopub.status.idle": "2022-08-10T10:10:40.108235Z",
     "shell.execute_reply": "2022-08-10T10:10:40.108721Z"
    },
    "papermill": {
     "duration": 0.047269,
     "end_time": "2022-08-10T10:10:40.108856",
     "exception": false,
     "start_time": "2022-08-10T10:10:40.061587",
     "status": "completed"
    },
    "tags": []
   },
   "outputs": [],
   "source": [
    "y_train = 1*(y_train==3)\n",
    "y_test = 1*(y_test==3)"
   ]
  },
  {
   "cell_type": "code",
   "execution_count": 13,
   "id": "01e4e969",
   "metadata": {
    "execution": {
     "iopub.execute_input": "2022-08-10T10:10:40.181739Z",
     "iopub.status.busy": "2022-08-10T10:10:40.178871Z",
     "iopub.status.idle": "2022-08-10T10:10:40.185080Z",
     "shell.execute_reply": "2022-08-10T10:10:40.185504Z"
    },
    "papermill": {
     "duration": 0.049971,
     "end_time": "2022-08-10T10:10:40.185645",
     "exception": false,
     "start_time": "2022-08-10T10:10:40.135674",
     "status": "completed"
    },
    "tags": []
   },
   "outputs": [
    {
     "data": {
      "text/plain": [
       "((11982, 28, 28), (1984, 28, 28))"
      ]
     },
     "execution_count": 13,
     "metadata": {},
     "output_type": "execute_result"
    }
   ],
   "source": [
    "X_train.shape, X_test.shape"
   ]
  },
  {
   "cell_type": "markdown",
   "id": "5ccf3f85",
   "metadata": {
    "papermill": {
     "duration": 0.026576,
     "end_time": "2022-08-10T10:10:40.239961",
     "exception": false,
     "start_time": "2022-08-10T10:10:40.213385",
     "status": "completed"
    },
    "tags": []
   },
   "source": [
    "We reshape the data to flatten the image pixels into a set of features or co-variates:"
   ]
  },
  {
   "cell_type": "code",
   "execution_count": 14,
   "id": "5286a4a3",
   "metadata": {
    "execution": {
     "iopub.execute_input": "2022-08-10T10:10:40.298315Z",
     "iopub.status.busy": "2022-08-10T10:10:40.297721Z",
     "iopub.status.idle": "2022-08-10T10:10:40.312838Z",
     "shell.execute_reply": "2022-08-10T10:10:40.312351Z"
    },
    "papermill": {
     "duration": 0.045766,
     "end_time": "2022-08-10T10:10:40.312945",
     "exception": false,
     "start_time": "2022-08-10T10:10:40.267179",
     "status": "completed"
    },
    "tags": []
   },
   "outputs": [
    {
     "data": {
      "text/plain": [
       "((11982, 784), (1984, 784))"
      ]
     },
     "execution_count": 14,
     "metadata": {},
     "output_type": "execute_result"
    }
   ],
   "source": [
    "X_train = X_train.reshape(X_train.shape[0], -1)\n",
    "X_test = X_test.reshape(X_test.shape[0], -1)\n",
    "X_train.shape, X_test.shape"
   ]
  },
  {
   "cell_type": "code",
   "execution_count": 15,
   "id": "73c5f88a",
   "metadata": {
    "execution": {
     "iopub.execute_input": "2022-08-10T10:10:40.370894Z",
     "iopub.status.busy": "2022-08-10T10:10:40.370299Z",
     "iopub.status.idle": "2022-08-10T10:10:40.390132Z",
     "shell.execute_reply": "2022-08-10T10:10:40.389655Z"
    },
    "papermill": {
     "duration": 0.05054,
     "end_time": "2022-08-10T10:10:40.390239",
     "exception": false,
     "start_time": "2022-08-10T10:10:40.339699",
     "status": "completed"
    },
    "tags": []
   },
   "outputs": [],
   "source": [
    "#Impoting functions from 'Kudzu'\n",
    "from kudzu.model import Model\n",
    "from kudzu.train import Learner\n",
    "from kudzu.optim import GD\n",
    "from kudzu.data import Data, Sampler,Dataloader\n",
    "\n",
    "from kudzu.callbacks import AccCallback\n",
    "from kudzu.callbacks import ClfCallback\n",
    "\n",
    "from kudzu.loss import MSE\n",
    "\n",
    "from kudzu.layer import Sigmoid,Relu\n",
    "from kudzu.layer import Affine"
   ]
  },
  {
   "cell_type": "markdown",
   "id": "bc01172a",
   "metadata": {
    "papermill": {
     "duration": 0.026821,
     "end_time": "2022-08-10T10:10:40.444688",
     "exception": false,
     "start_time": "2022-08-10T10:10:40.417867",
     "status": "completed"
    },
    "tags": []
   },
   "source": [
    "### Let us create a `Config` class, to store important parameters. \n",
    "This class essentially plays the role of a dictionary."
   ]
  },
  {
   "cell_type": "code",
   "execution_count": 16,
   "id": "978281aa",
   "metadata": {
    "execution": {
     "iopub.execute_input": "2022-08-10T10:10:40.504916Z",
     "iopub.status.busy": "2022-08-10T10:10:40.504322Z",
     "iopub.status.idle": "2022-08-10T10:10:40.515828Z",
     "shell.execute_reply": "2022-08-10T10:10:40.515335Z"
    },
    "papermill": {
     "duration": 0.044569,
     "end_time": "2022-08-10T10:10:40.515938",
     "exception": false,
     "start_time": "2022-08-10T10:10:40.471369",
     "status": "completed"
    },
    "tags": []
   },
   "outputs": [],
   "source": [
    "class Config:\n",
    "    pass\n",
    "config = Config()\n",
    "config.lr = 0.001\n",
    "config.num_epochs = 250\n",
    "config.bs = 50"
   ]
  },
  {
   "cell_type": "markdown",
   "id": "1385fa59",
   "metadata": {
    "papermill": {
     "duration": 0.026785,
     "end_time": "2022-08-10T10:10:40.569633",
     "exception": false,
     "start_time": "2022-08-10T10:10:40.542848",
     "status": "completed"
    },
    "tags": []
   },
   "source": [
    "### Running Models with the Training data\n",
    "Details about the network layers:\n",
    "- A first affine layer has 784 inputs and does 100 affine transforms. These are followed by a Relu\n",
    "- A second affine layer has 100 inputs from the 100 activations of the past layer, and does 100 affine transforms. These are followed by a Relu\n",
    "- A third affine layer has 100 activations and does 2 affine transformations to create an embedding for visualization. There is no non-linearity here.\n",
    "- A final \"logistic regression\" which has an affine transform from 2 inputs to 1 output, which is squeezed through a sigmoid.\n"
   ]
  },
  {
   "cell_type": "code",
   "execution_count": 17,
   "id": "2b9c66db",
   "metadata": {
    "execution": {
     "iopub.execute_input": "2022-08-10T10:10:40.641860Z",
     "iopub.status.busy": "2022-08-10T10:10:40.641264Z",
     "iopub.status.idle": "2022-08-10T10:10:40.644291Z",
     "shell.execute_reply": "2022-08-10T10:10:40.644745Z"
    },
    "papermill": {
     "duration": 0.04847,
     "end_time": "2022-08-10T10:10:40.644870",
     "exception": false,
     "start_time": "2022-08-10T10:10:40.596400",
     "status": "completed"
    },
    "tags": []
   },
   "outputs": [],
   "source": [
    "data = Data(X_train, y_train.reshape(-1,1))\n",
    "sampler = Sampler(data, config.bs, shuffle=True)\n",
    "\n",
    "dl = Dataloader(data, sampler)\n",
    "\n",
    "opt = GD(config.lr)\n",
    "loss = MSE()"
   ]
  },
  {
   "cell_type": "code",
   "execution_count": 18,
   "id": "b275e4c2",
   "metadata": {
    "execution": {
     "iopub.execute_input": "2022-08-10T10:10:40.710900Z",
     "iopub.status.busy": "2022-08-10T10:10:40.710304Z",
     "iopub.status.idle": "2022-08-10T10:10:40.718734Z",
     "shell.execute_reply": "2022-08-10T10:10:40.719184Z"
    },
    "papermill": {
     "duration": 0.047361,
     "end_time": "2022-08-10T10:10:40.719309",
     "exception": false,
     "start_time": "2022-08-10T10:10:40.671948",
     "status": "completed"
    },
    "tags": []
   },
   "outputs": [],
   "source": [
    "training_data_x = X_train\n",
    "testing_data_x = X_test\n",
    "training_data_y = y_train.reshape(-1,1)\n",
    "testing_data_y = y_test.reshape(-1,1)"
   ]
  },
  {
   "cell_type": "code",
   "execution_count": 19,
   "id": "76951160",
   "metadata": {
    "execution": {
     "iopub.execute_input": "2022-08-10T10:10:40.780628Z",
     "iopub.status.busy": "2022-08-10T10:10:40.778917Z",
     "iopub.status.idle": "2022-08-10T10:10:40.795688Z",
     "shell.execute_reply": "2022-08-10T10:10:40.795214Z"
    },
    "papermill": {
     "duration": 0.049715,
     "end_time": "2022-08-10T10:10:40.795795",
     "exception": false,
     "start_time": "2022-08-10T10:10:40.746080",
     "status": "completed"
    },
    "tags": []
   },
   "outputs": [
    {
     "name": "stdout",
     "output_type": "stream",
     "text": [
      "xavier\n",
      "xavier\n",
      "xavier\n",
      "xavier\n",
      "xavier\n"
     ]
    }
   ],
   "source": [
    "layers = [Affine(\"first\", 784, 100), Relu(\"first\"), Affine(\"second\", 100, 100), Relu(\"second\"), Affine(\"third\", 100, 2), Affine(\"last\", 2, 1), Sigmoid(\"last\")]\n",
    "model_nn = Model(layers)\n",
    "model_lr = Model([Affine(\"logits\", 784, 1), Sigmoid(\"sigmoid\")])"
   ]
  },
  {
   "cell_type": "code",
   "execution_count": 20,
   "id": "6eede77a",
   "metadata": {
    "execution": {
     "iopub.execute_input": "2022-08-10T10:10:40.859970Z",
     "iopub.status.busy": "2022-08-10T10:10:40.859341Z",
     "iopub.status.idle": "2022-08-10T10:10:40.868632Z",
     "shell.execute_reply": "2022-08-10T10:10:40.869057Z"
    },
    "papermill": {
     "duration": 0.046183,
     "end_time": "2022-08-10T10:10:40.869187",
     "exception": false,
     "start_time": "2022-08-10T10:10:40.823004",
     "status": "completed"
    },
    "tags": []
   },
   "outputs": [],
   "source": [
    "nn_learner = Learner(loss, model_nn, opt, config.num_epochs)\n",
    "acc_nn = ClfCallback(nn_learner, config.bs, training_data_x , testing_data_x, training_data_y, testing_data_y)\n",
    "nn_learner.set_callbacks([acc_nn])"
   ]
  },
  {
   "cell_type": "code",
   "execution_count": 21,
   "id": "877b6cc7",
   "metadata": {
    "execution": {
     "iopub.execute_input": "2022-08-10T10:10:40.927185Z",
     "iopub.status.busy": "2022-08-10T10:10:40.926609Z",
     "iopub.status.idle": "2022-08-10T10:10:40.939902Z",
     "shell.execute_reply": "2022-08-10T10:10:40.940385Z"
    },
    "papermill": {
     "duration": 0.044229,
     "end_time": "2022-08-10T10:10:40.940508",
     "exception": false,
     "start_time": "2022-08-10T10:10:40.896279",
     "status": "completed"
    },
    "tags": []
   },
   "outputs": [],
   "source": [
    "lr_learner = Learner(loss, model_lr, opt, config.num_epochs)\n",
    "acc_lr = ClfCallback(lr_learner, config.bs, training_data_x , testing_data_x, training_data_y, testing_data_y)\n",
    "lr_learner.set_callbacks([acc_lr])"
   ]
  },
  {
   "cell_type": "code",
   "execution_count": 22,
   "id": "d9b133c3",
   "metadata": {
    "execution": {
     "iopub.execute_input": "2022-08-10T10:10:41.011917Z",
     "iopub.status.busy": "2022-08-10T10:10:41.008588Z",
     "iopub.status.idle": "2022-08-10T10:11:58.407683Z",
     "shell.execute_reply": "2022-08-10T10:11:58.408600Z"
    },
    "papermill": {
     "duration": 77.441145,
     "end_time": "2022-08-10T10:11:58.408755",
     "exception": false,
     "start_time": "2022-08-10T10:10:40.967610",
     "status": "completed"
    },
    "tags": []
   },
   "outputs": [
    {
     "name": "stdout",
     "output_type": "stream",
     "text": [
      "Epoch 0, Loss 0.2438\n",
      "Training Accuracy: 0.6123, Testing Accuracy: 0.6058\n",
      "\n"
     ]
    },
    {
     "name": "stdout",
     "output_type": "stream",
     "text": [
      "Epoch 10, Loss 0.1492\n",
      "Training Accuracy: 0.8683, Testing Accuracy: 0.8705\n",
      "\n"
     ]
    },
    {
     "name": "stdout",
     "output_type": "stream",
     "text": [
      "Epoch 20, Loss 0.0772\n",
      "Training Accuracy: 0.9204, Testing Accuracy: 0.9224\n",
      "\n"
     ]
    },
    {
     "name": "stdout",
     "output_type": "stream",
     "text": [
      "Epoch 30, Loss 0.0529\n",
      "Training Accuracy: 0.9418, Testing Accuracy: 0.9496\n",
      "\n"
     ]
    },
    {
     "name": "stdout",
     "output_type": "stream",
     "text": [
      "Epoch 40, Loss 0.0427\n",
      "Training Accuracy: 0.9528, Testing Accuracy: 0.9597\n",
      "\n"
     ]
    },
    {
     "name": "stdout",
     "output_type": "stream",
     "text": [
      "Epoch 50, Loss 0.0375\n",
      "Training Accuracy: 0.9574, Testing Accuracy: 0.9657\n",
      "\n"
     ]
    },
    {
     "name": "stdout",
     "output_type": "stream",
     "text": [
      "Epoch 60, Loss 0.0344\n",
      "Training Accuracy: 0.9609, Testing Accuracy: 0.9677\n",
      "\n"
     ]
    },
    {
     "name": "stdout",
     "output_type": "stream",
     "text": [
      "Epoch 70, Loss 0.0322\n",
      "Training Accuracy: 0.9623, Testing Accuracy: 0.9672\n",
      "\n"
     ]
    },
    {
     "name": "stdout",
     "output_type": "stream",
     "text": [
      "Epoch 80, Loss 0.0305\n",
      "Training Accuracy: 0.9638, Testing Accuracy: 0.9688\n",
      "\n"
     ]
    },
    {
     "name": "stdout",
     "output_type": "stream",
     "text": [
      "Epoch 90, Loss 0.0292\n",
      "Training Accuracy: 0.9652, Testing Accuracy: 0.9682\n",
      "\n"
     ]
    },
    {
     "name": "stdout",
     "output_type": "stream",
     "text": [
      "Epoch 100, Loss 0.0281\n",
      "Training Accuracy: 0.9661, Testing Accuracy: 0.9682\n",
      "\n"
     ]
    },
    {
     "name": "stdout",
     "output_type": "stream",
     "text": [
      "Epoch 110, Loss 0.0271\n",
      "Training Accuracy: 0.9674, Testing Accuracy: 0.9677\n",
      "\n"
     ]
    },
    {
     "name": "stdout",
     "output_type": "stream",
     "text": [
      "Epoch 120, Loss 0.0262\n",
      "Training Accuracy: 0.9685, Testing Accuracy: 0.9698\n",
      "\n"
     ]
    },
    {
     "name": "stdout",
     "output_type": "stream",
     "text": [
      "Epoch 130, Loss 0.0255\n",
      "Training Accuracy: 0.9693, Testing Accuracy: 0.9703\n",
      "\n"
     ]
    },
    {
     "name": "stdout",
     "output_type": "stream",
     "text": [
      "Epoch 140, Loss 0.0248\n",
      "Training Accuracy: 0.9700, Testing Accuracy: 0.9713\n",
      "\n"
     ]
    },
    {
     "name": "stdout",
     "output_type": "stream",
     "text": [
      "Epoch 150, Loss 0.0242\n",
      "Training Accuracy: 0.9708, Testing Accuracy: 0.9718\n",
      "\n"
     ]
    },
    {
     "name": "stdout",
     "output_type": "stream",
     "text": [
      "Epoch 160, Loss 0.0236\n",
      "Training Accuracy: 0.9720, Testing Accuracy: 0.9718\n",
      "\n"
     ]
    },
    {
     "name": "stdout",
     "output_type": "stream",
     "text": [
      "Epoch 170, Loss 0.0231\n",
      "Training Accuracy: 0.9728, Testing Accuracy: 0.9723\n",
      "\n"
     ]
    },
    {
     "name": "stdout",
     "output_type": "stream",
     "text": [
      "Epoch 180, Loss 0.0226\n",
      "Training Accuracy: 0.9732, Testing Accuracy: 0.9728\n",
      "\n"
     ]
    },
    {
     "name": "stdout",
     "output_type": "stream",
     "text": [
      "Epoch 190, Loss 0.0222\n",
      "Training Accuracy: 0.9745, Testing Accuracy: 0.9728\n",
      "\n"
     ]
    },
    {
     "name": "stdout",
     "output_type": "stream",
     "text": [
      "Epoch 200, Loss 0.0217\n",
      "Training Accuracy: 0.9746, Testing Accuracy: 0.9728\n",
      "\n"
     ]
    },
    {
     "name": "stdout",
     "output_type": "stream",
     "text": [
      "Epoch 210, Loss 0.0213\n",
      "Training Accuracy: 0.9755, Testing Accuracy: 0.9728\n",
      "\n"
     ]
    },
    {
     "name": "stdout",
     "output_type": "stream",
     "text": [
      "Epoch 220, Loss 0.0209\n",
      "Training Accuracy: 0.9766, Testing Accuracy: 0.9733\n",
      "\n"
     ]
    },
    {
     "name": "stdout",
     "output_type": "stream",
     "text": [
      "Epoch 230, Loss 0.0206\n",
      "Training Accuracy: 0.9770, Testing Accuracy: 0.9738\n",
      "\n"
     ]
    },
    {
     "name": "stdout",
     "output_type": "stream",
     "text": [
      "Epoch 240, Loss 0.0202\n",
      "Training Accuracy: 0.9774, Testing Accuracy: 0.9733\n",
      "\n"
     ]
    },
    {
     "data": {
      "text/plain": [
       "0.01054698491335804"
      ]
     },
     "execution_count": 22,
     "metadata": {},
     "output_type": "execute_result"
    }
   ],
   "source": [
    "nn_learner.train_loop(dl)"
   ]
  },
  {
   "cell_type": "code",
   "execution_count": 23,
   "id": "e0163366",
   "metadata": {
    "execution": {
     "iopub.execute_input": "2022-08-10T10:11:58.491528Z",
     "iopub.status.busy": "2022-08-10T10:11:58.490926Z",
     "iopub.status.idle": "2022-08-10T10:12:12.372425Z",
     "shell.execute_reply": "2022-08-10T10:12:12.373306Z"
    },
    "papermill": {
     "duration": 13.92957,
     "end_time": "2022-08-10T10:12:12.373459",
     "exception": false,
     "start_time": "2022-08-10T10:11:58.443889",
     "status": "completed"
    },
    "tags": []
   },
   "outputs": [
    {
     "name": "stdout",
     "output_type": "stream",
     "text": [
      "Epoch 0, Loss 0.2325\n",
      "Training Accuracy: 0.7267, Testing Accuracy: 0.7188\n",
      "\n"
     ]
    },
    {
     "name": "stdout",
     "output_type": "stream",
     "text": [
      "Epoch 10, Loss 0.1002\n",
      "Training Accuracy: 0.9137, Testing Accuracy: 0.9244\n",
      "\n"
     ]
    },
    {
     "name": "stdout",
     "output_type": "stream",
     "text": [
      "Epoch 20, Loss 0.0777\n",
      "Training Accuracy: 0.9291, Testing Accuracy: 0.9435\n",
      "\n"
     ]
    },
    {
     "name": "stdout",
     "output_type": "stream",
     "text": [
      "Epoch 30, Loss 0.0673\n",
      "Training Accuracy: 0.9385, Testing Accuracy: 0.9506\n",
      "\n"
     ]
    },
    {
     "name": "stdout",
     "output_type": "stream",
     "text": [
      "Epoch 40, Loss 0.0609\n",
      "Training Accuracy: 0.9430, Testing Accuracy: 0.9511\n",
      "\n"
     ]
    },
    {
     "name": "stdout",
     "output_type": "stream",
     "text": [
      "Epoch 50, Loss 0.0566\n",
      "Training Accuracy: 0.9457, Testing Accuracy: 0.9556\n",
      "\n"
     ]
    },
    {
     "name": "stdout",
     "output_type": "stream",
     "text": [
      "Epoch 60, Loss 0.0533\n",
      "Training Accuracy: 0.9471, Testing Accuracy: 0.9572\n",
      "\n"
     ]
    },
    {
     "name": "stdout",
     "output_type": "stream",
     "text": [
      "Epoch 70, Loss 0.0508\n",
      "Training Accuracy: 0.9485, Testing Accuracy: 0.9597\n",
      "\n"
     ]
    },
    {
     "name": "stdout",
     "output_type": "stream",
     "text": [
      "Epoch 80, Loss 0.0488\n",
      "Training Accuracy: 0.9509, Testing Accuracy: 0.9607\n",
      "\n"
     ]
    },
    {
     "name": "stdout",
     "output_type": "stream",
     "text": [
      "Epoch 90, Loss 0.0472\n",
      "Training Accuracy: 0.9522, Testing Accuracy: 0.9612\n",
      "\n"
     ]
    },
    {
     "name": "stdout",
     "output_type": "stream",
     "text": [
      "Epoch 100, Loss 0.0458\n",
      "Training Accuracy: 0.9528, Testing Accuracy: 0.9617\n",
      "\n"
     ]
    },
    {
     "name": "stdout",
     "output_type": "stream",
     "text": [
      "Epoch 110, Loss 0.0446\n",
      "Training Accuracy: 0.9535, Testing Accuracy: 0.9627\n",
      "\n"
     ]
    },
    {
     "name": "stdout",
     "output_type": "stream",
     "text": [
      "Epoch 120, Loss 0.0435\n",
      "Training Accuracy: 0.9540, Testing Accuracy: 0.9627\n",
      "\n"
     ]
    },
    {
     "name": "stdout",
     "output_type": "stream",
     "text": [
      "Epoch 130, Loss 0.0426\n",
      "Training Accuracy: 0.9550, Testing Accuracy: 0.9637\n",
      "\n"
     ]
    },
    {
     "name": "stdout",
     "output_type": "stream",
     "text": [
      "Epoch 140, Loss 0.0418\n",
      "Training Accuracy: 0.9559, Testing Accuracy: 0.9642\n",
      "\n"
     ]
    },
    {
     "name": "stdout",
     "output_type": "stream",
     "text": [
      "Epoch 150, Loss 0.041\n",
      "Training Accuracy: 0.9568, Testing Accuracy: 0.9652\n",
      "\n"
     ]
    },
    {
     "name": "stdout",
     "output_type": "stream",
     "text": [
      "Epoch 160, Loss 0.0404\n",
      "Training Accuracy: 0.9576, Testing Accuracy: 0.9647\n",
      "\n"
     ]
    },
    {
     "name": "stdout",
     "output_type": "stream",
     "text": [
      "Epoch 170, Loss 0.0398\n",
      "Training Accuracy: 0.9584, Testing Accuracy: 0.9647\n",
      "\n"
     ]
    },
    {
     "name": "stdout",
     "output_type": "stream",
     "text": [
      "Epoch 180, Loss 0.0392\n",
      "Training Accuracy: 0.9586, Testing Accuracy: 0.9652\n",
      "\n"
     ]
    },
    {
     "name": "stdout",
     "output_type": "stream",
     "text": [
      "Epoch 190, Loss 0.0387\n",
      "Training Accuracy: 0.9589, Testing Accuracy: 0.9657\n",
      "\n"
     ]
    },
    {
     "name": "stdout",
     "output_type": "stream",
     "text": [
      "Epoch 200, Loss 0.0382\n",
      "Training Accuracy: 0.9596, Testing Accuracy: 0.9657\n",
      "\n"
     ]
    },
    {
     "name": "stdout",
     "output_type": "stream",
     "text": [
      "Epoch 210, Loss 0.0378\n",
      "Training Accuracy: 0.9601, Testing Accuracy: 0.9657\n",
      "\n"
     ]
    },
    {
     "name": "stdout",
     "output_type": "stream",
     "text": [
      "Epoch 220, Loss 0.0374\n",
      "Training Accuracy: 0.9605, Testing Accuracy: 0.9657\n",
      "\n"
     ]
    },
    {
     "name": "stdout",
     "output_type": "stream",
     "text": [
      "Epoch 230, Loss 0.037\n",
      "Training Accuracy: 0.9609, Testing Accuracy: 0.9672\n",
      "\n"
     ]
    },
    {
     "name": "stdout",
     "output_type": "stream",
     "text": [
      "Epoch 240, Loss 0.0366\n",
      "Training Accuracy: 0.9614, Testing Accuracy: 0.9672\n",
      "\n"
     ]
    },
    {
     "data": {
      "text/plain": [
       "0.014231349395774001"
      ]
     },
     "execution_count": 23,
     "metadata": {},
     "output_type": "execute_result"
    }
   ],
   "source": [
    "lr_learner.train_loop(dl)"
   ]
  },
  {
   "cell_type": "code",
   "execution_count": 24,
   "id": "ca410940",
   "metadata": {
    "execution": {
     "iopub.execute_input": "2022-08-10T10:12:12.471440Z",
     "iopub.status.busy": "2022-08-10T10:12:12.469837Z",
     "iopub.status.idle": "2022-08-10T10:12:12.715330Z",
     "shell.execute_reply": "2022-08-10T10:12:12.714538Z"
    },
    "papermill": {
     "duration": 0.300091,
     "end_time": "2022-08-10T10:12:12.715465",
     "exception": false,
     "start_time": "2022-08-10T10:12:12.415374",
     "status": "completed"
    },
    "tags": []
   },
   "outputs": [
    {
     "data": {
      "text/plain": [
       "<matplotlib.legend.Legend at 0x7fb7b1202cf8>"
      ]
     },
     "execution_count": 24,
     "metadata": {},
     "output_type": "execute_result"
    },
    {
     "data": {
      "image/png": "[encoded data removed]",
      "text/plain": [
       "<Figure size 1080x720 with 1 Axes>"
      ]
     },
     "metadata": {
      "needs_background": "light"
     },
     "output_type": "display_data"
    }
   ],
   "source": [
    "#comparing the results of NN and LR\n",
    "plt.figure(figsize=(15,10))\n",
    "\n",
    "# Neural Network plots\n",
    "plt.plot(acc_nn.accuracies, 'r-', label = \"Training Accuracies - NN\")\n",
    "plt.plot(acc_nn.test_accuracies, 'g-', label = \"Testing Accuracies - NN\")\n",
    "\n",
    "# Logistic Regression plots\n",
    "plt.plot(acc_lr.accuracies, 'k-', label = \"Training Accuracies - LR\")\n",
    "plt.plot(acc_lr.test_accuracies, 'b-', label = \"Testing Accuracies - LR\")\n",
    "plt.legend()"
   ]
  },
  {
   "cell_type": "markdown",
   "id": "80dfb35c",
   "metadata": {
    "papermill": {
     "duration": 0.042032,
     "end_time": "2022-08-10T10:12:12.800006",
     "exception": false,
     "start_time": "2022-08-10T10:12:12.757974",
     "status": "completed"
    },
    "tags": []
   },
   "source": [
    "#### Plotting the outputs of this layer of the NN.\n"
   ]
  },
  {
   "cell_type": "code",
   "execution_count": 25,
   "id": "45eb2ff5",
   "metadata": {
    "execution": {
     "iopub.execute_input": "2022-08-10T10:12:12.897453Z",
     "iopub.status.busy": "2022-08-10T10:12:12.896849Z",
     "iopub.status.idle": "2022-08-10T10:12:12.912537Z",
     "shell.execute_reply": "2022-08-10T10:12:12.913001Z"
    },
    "papermill": {
     "duration": 0.070912,
     "end_time": "2022-08-10T10:12:12.913141",
     "exception": false,
     "start_time": "2022-08-10T10:12:12.842229",
     "status": "completed"
    },
    "tags": []
   },
   "outputs": [],
   "source": [
    "new_model = Model(layers[:-2])\n",
    "testing_plot = new_model(testing_data_x)"
   ]
  },
  {
   "cell_type": "code",
   "execution_count": 26,
   "id": "4c0a5485",
   "metadata": {
    "execution": {
     "iopub.execute_input": "2022-08-10T10:12:13.004203Z",
     "iopub.status.busy": "2022-08-10T10:12:13.003581Z",
     "iopub.status.idle": "2022-08-10T10:12:13.201819Z",
     "shell.execute_reply": "2022-08-10T10:12:13.201346Z"
    },
    "papermill": {
     "duration": 0.244427,
     "end_time": "2022-08-10T10:12:13.201943",
     "exception": false,
     "start_time": "2022-08-10T10:12:12.957516",
     "status": "completed"
    },
    "tags": []
   },
   "outputs": [
    {
     "data": {
      "text/plain": [
       "Text(0.5, 1.0, 'Outputs')"
      ]
     },
     "execution_count": 26,
     "metadata": {},
     "output_type": "execute_result"
    },
    {
     "data": {
      "image/png": "[encoded data removed]",
      "text/plain": [
       "<Figure size 576x504 with 1 Axes>"
      ]
     },
     "metadata": {
      "needs_background": "light"
     },
     "output_type": "display_data"
    }
   ],
   "source": [
    "# Plotting the scatter plot of points and color coding by class\n",
    "plt.figure(figsize=(8,7))\n",
    "plt.scatter(testing_plot[:,0], testing_plot[:,1], alpha = 0.1, c = y_test.ravel());\n",
    "plt.title('Outputs')"
   ]
  },
  {
   "cell_type": "markdown",
   "id": "a74fcf8f",
   "metadata": {
    "papermill": {
     "duration": 0.043958,
     "end_time": "2022-08-10T10:12:13.290317",
     "exception": false,
     "start_time": "2022-08-10T10:12:13.246359",
     "status": "completed"
    },
    "tags": []
   },
   "source": [
    "Probability contours"
   ]
  },
  {
   "cell_type": "code",
   "execution_count": 27,
   "id": "d0afc8e3",
   "metadata": {
    "execution": {
     "iopub.execute_input": "2022-08-10T10:12:13.419750Z",
     "iopub.status.busy": "2022-08-10T10:12:13.417245Z",
     "iopub.status.idle": "2022-08-10T10:12:13.429224Z",
     "shell.execute_reply": "2022-08-10T10:12:13.429661Z"
    },
    "papermill": {
     "duration": 0.094859,
     "end_time": "2022-08-10T10:12:13.429799",
     "exception": false,
     "start_time": "2022-08-10T10:12:13.334940",
     "status": "completed"
    },
    "tags": []
   },
   "outputs": [],
   "source": [
    "model_prob = Model(layers[-2:]) "
   ]
  },
  {
   "cell_type": "code",
   "execution_count": 28,
   "id": "9b96e238",
   "metadata": {
    "execution": {
     "iopub.execute_input": "2022-08-10T10:12:13.533245Z",
     "iopub.status.busy": "2022-08-10T10:12:13.532633Z",
     "iopub.status.idle": "2022-08-10T10:12:13.543091Z",
     "shell.execute_reply": "2022-08-10T10:12:13.542532Z"
    },
    "papermill": {
     "duration": 0.069276,
     "end_time": "2022-08-10T10:12:13.543207",
     "exception": false,
     "start_time": "2022-08-10T10:12:13.473931",
     "status": "completed"
    },
    "tags": []
   },
   "outputs": [],
   "source": [
    "#creating the x and y ranges according to the above generated plot.\n",
    "x_range = np.linspace(-4, 1, 100) \n",
    "y_range = np.linspace(-6, 6, 100) \n",
    "x_grid, y_grid = np.meshgrid(x_range, y_range) # x_grid and y_grig are of size 100 X 100\n",
    "\n",
    "# converting x_grid and y_grid to continuous arrays\n",
    "x_gridflat = np.ravel(x_grid)\n",
    "y_gridflat = np.ravel(y_grid)\n",
    "\n",
    "# The last layer of the current model takes two columns as input. Hence transpose of np.vstack() is required.\n",
    "X = np.vstack((x_gridflat, y_gridflat)).T\n",
    "\n",
    "prob_contour = model_prob(X).reshape(100,100) "
   ]
  },
  {
   "cell_type": "code",
   "execution_count": 29,
   "id": "da72499a",
   "metadata": {
    "execution": {
     "iopub.execute_input": "2022-08-10T10:12:13.637572Z",
     "iopub.status.busy": "2022-08-10T10:12:13.636978Z",
     "iopub.status.idle": "2022-08-10T10:12:13.886847Z",
     "shell.execute_reply": "2022-08-10T10:12:13.886345Z"
    },
    "papermill": {
     "duration": 0.298456,
     "end_time": "2022-08-10T10:12:13.886971",
     "exception": false,
     "start_time": "2022-08-10T10:12:13.588515",
     "status": "completed"
    },
    "tags": []
   },
   "outputs": [
    {
     "data": {
      "image/png": "[encoded data removed]",
      "text/plain": [
       "<Figure size 720x648 with 1 Axes>"
      ]
     },
     "metadata": {
      "needs_background": "light"
     },
     "output_type": "display_data"
    }
   ],
   "source": [
    "plt.figure(figsize=(10,9))\n",
    "plt.scatter(testing_plot[:,0], testing_plot[:,1], alpha = 0.1, c = y_test.ravel())\n",
    "contours = plt.contour(x_grid,y_grid,prob_contour)\n",
    "plt.title('Probability Contours')\n",
    "plt.clabel(contours, inline = True );"
   ]
  },
  {
   "cell_type": "code",
   "execution_count": null,
   "id": "e81b4ac7",
   "metadata": {
    "papermill": {
     "duration": 0.046428,
     "end_time": "2022-08-10T10:12:13.980758",
     "exception": false,
     "start_time": "2022-08-10T10:12:13.934330",
     "status": "completed"
    },
    "tags": []
   },
   "outputs": [],
   "source": []
  }
 ],
 "metadata": {
  "kernelspec": {
   "display_name": "Python 3",
   "language": "python",
   "name": "python3"
  },
  "language_info": {
   "codemirror_mode": {
    "name": "ipython",
    "version": 3
   },
   "file_extension": ".py",
   "mimetype": "text/x-python",
   "name": "python",
   "nbconvert_exporter": "python",
   "pygments_lexer": "ipython3",
   "version": "3.6.15"
  },
  "papermill": {
   "default_parameters": {},
   "duration": 100.483337,
   "end_time": "2022-08-10T10:12:14.446056",
   "environment_variables": {},
   "exception": null,
   "input_path": "2020-08-11-part2.ipynb",
   "output_path": "2020-08-11-part2.ipynb",
   "parameters": {},
   "start_time": "2022-08-10T10:10:33.962719",
   "version": "2.3.3"
  }
 },
 "nbformat": 4,
 "nbformat_minor": 5
}