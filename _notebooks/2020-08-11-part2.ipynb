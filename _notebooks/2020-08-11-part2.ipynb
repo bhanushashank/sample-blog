{
 "cells": [
  {
   "cell_type": "markdown",
   "id": "98380cd3",
   "metadata": {
    "papermill": {
     "duration": 0.040001,
     "end_time": "2022-08-22T10:11:22.806487",
     "exception": false,
     "start_time": "2022-08-22T10:11:22.766486",
     "status": "completed"
    },
    "tags": []
   },
   "source": [
    "# Distinguish Your Own Digits (DYOD)"
   ]
  },
  {
   "cell_type": "markdown",
   "id": "ef31240d",
   "metadata": {
    "papermill": {
     "duration": 0.028202,
     "end_time": "2022-08-22T10:11:22.864573",
     "exception": false,
     "start_time": "2022-08-22T10:11:22.836371",
     "status": "completed"
    },
    "tags": []
   },
   "source": [
    "You are going to write a classifier that distinguishes between the number 3 and number 8."
   ]
  },
  {
   "cell_type": "code",
   "execution_count": 1,
   "id": "b15c8646",
   "metadata": {
    "execution": {
     "iopub.execute_input": "2022-08-22T10:11:22.936922Z",
     "iopub.status.busy": "2022-08-22T10:11:22.936182Z",
     "iopub.status.idle": "2022-08-22T10:11:22.949157Z",
     "shell.execute_reply": "2022-08-22T10:11:22.948435Z"
    },
    "papermill": {
     "duration": 0.054422,
     "end_time": "2022-08-22T10:11:22.949313",
     "exception": false,
     "start_time": "2022-08-22T10:11:22.894891",
     "status": "completed"
    },
    "tags": []
   },
   "outputs": [],
   "source": [
    "%load_ext autoreload\n",
    "%autoreload 2"
   ]
  },
  {
   "cell_type": "code",
   "execution_count": 2,
   "id": "22ef38dc",
   "metadata": {
    "execution": {
     "iopub.execute_input": "2022-08-22T10:11:23.013431Z",
     "iopub.status.busy": "2022-08-22T10:11:23.012736Z",
     "iopub.status.idle": "2022-08-22T10:11:23.644681Z",
     "shell.execute_reply": "2022-08-22T10:11:23.644079Z"
    },
    "papermill": {
     "duration": 0.666186,
     "end_time": "2022-08-22T10:11:23.644826",
     "exception": false,
     "start_time": "2022-08-22T10:11:22.978640",
     "status": "completed"
    },
    "tags": []
   },
   "outputs": [],
   "source": [
    "%matplotlib inline\n",
    "import numpy as np\n",
    "import matplotlib.pyplot as plt\n",
    "import pandas as pd"
   ]
  },
  {
   "cell_type": "markdown",
   "id": "ba036198",
   "metadata": {
    "papermill": {
     "duration": 0.028939,
     "end_time": "2022-08-22T10:11:23.704370",
     "exception": false,
     "start_time": "2022-08-22T10:11:23.675431",
     "status": "completed"
    },
    "tags": []
   },
   "source": [
    "From the command line run `pip install mnist`. This is a library that will help you bring down the mnist dataset. If you run this from a notebook, you need to put  `!pip install mnist` in a cell by itself."
   ]
  },
  {
   "cell_type": "code",
   "execution_count": 3,
   "id": "bb6ad8a1",
   "metadata": {
    "execution": {
     "iopub.execute_input": "2022-08-22T10:11:23.774267Z",
     "iopub.status.busy": "2022-08-22T10:11:23.773245Z",
     "iopub.status.idle": "2022-08-22T10:11:25.659828Z",
     "shell.execute_reply": "2022-08-22T10:11:25.659164Z"
    },
    "papermill": {
     "duration": 1.926509,
     "end_time": "2022-08-22T10:11:25.659975",
     "exception": false,
     "start_time": "2022-08-22T10:11:23.733466",
     "status": "completed"
    },
    "tags": []
   },
   "outputs": [
    {
     "name": "stdout",
     "output_type": "stream",
     "text": [
      "Collecting mnist\r\n"
     ]
    },
    {
     "name": "stdout",
     "output_type": "stream",
     "text": [
      "  Downloading mnist-0.2.2-py2.py3-none-any.whl (3.5 kB)\r\n",
      "Requirement already satisfied: numpy in /opt/hostedtoolcache/Python/3.6.15/x64/lib/python3.6/site-packages (from mnist) (1.19.5)\r\n"
     ]
    },
    {
     "name": "stdout",
     "output_type": "stream",
     "text": [
      "Installing collected packages: mnist\r\n"
     ]
    },
    {
     "name": "stdout",
     "output_type": "stream",
     "text": [
      "Successfully installed mnist-0.2.2\r\n"
     ]
    }
   ],
   "source": [
    "!pip install mnist"
   ]
  },
  {
   "cell_type": "markdown",
   "id": "69df9c9a",
   "metadata": {
    "papermill": {
     "duration": 0.031632,
     "end_time": "2022-08-22T10:11:25.726301",
     "exception": false,
     "start_time": "2022-08-22T10:11:25.694669",
     "status": "completed"
    },
    "tags": []
   },
   "source": [
    "## Preparing the Data"
   ]
  },
  {
   "cell_type": "code",
   "execution_count": 4,
   "id": "7f69d806",
   "metadata": {
    "execution": {
     "iopub.execute_input": "2022-08-22T10:11:25.800860Z",
     "iopub.status.busy": "2022-08-22T10:11:25.795931Z",
     "iopub.status.idle": "2022-08-22T10:11:25.814999Z",
     "shell.execute_reply": "2022-08-22T10:11:25.814399Z"
    },
    "papermill": {
     "duration": 0.058184,
     "end_time": "2022-08-22T10:11:25.815136",
     "exception": false,
     "start_time": "2022-08-22T10:11:25.756952",
     "status": "completed"
    },
    "tags": []
   },
   "outputs": [],
   "source": [
    "import mnist"
   ]
  },
  {
   "cell_type": "code",
   "execution_count": 5,
   "id": "a411e44f",
   "metadata": {
    "execution": {
     "iopub.execute_input": "2022-08-22T10:11:25.889496Z",
     "iopub.status.busy": "2022-08-22T10:11:25.885930Z",
     "iopub.status.idle": "2022-08-22T10:11:26.603303Z",
     "shell.execute_reply": "2022-08-22T10:11:26.602698Z"
    },
    "papermill": {
     "duration": 0.755002,
     "end_time": "2022-08-22T10:11:26.603443",
     "exception": false,
     "start_time": "2022-08-22T10:11:25.848441",
     "status": "completed"
    },
    "tags": []
   },
   "outputs": [],
   "source": [
    "train_images = mnist.train_images()\n",
    "train_labels = mnist.train_labels()"
   ]
  },
  {
   "cell_type": "code",
   "execution_count": 6,
   "id": "dceab3a5",
   "metadata": {
    "execution": {
     "iopub.execute_input": "2022-08-22T10:11:26.666397Z",
     "iopub.status.busy": "2022-08-22T10:11:26.664495Z",
     "iopub.status.idle": "2022-08-22T10:11:26.685276Z",
     "shell.execute_reply": "2022-08-22T10:11:26.684597Z"
    },
    "papermill": {
     "duration": 0.053289,
     "end_time": "2022-08-22T10:11:26.685427",
     "exception": false,
     "start_time": "2022-08-22T10:11:26.632138",
     "status": "completed"
    },
    "tags": []
   },
   "outputs": [
    {
     "data": {
      "text/plain": [
       "((60000, 28, 28), (60000,))"
      ]
     },
     "execution_count": 6,
     "metadata": {},
     "output_type": "execute_result"
    }
   ],
   "source": [
    "train_images.shape, train_labels.shape"
   ]
  },
  {
   "cell_type": "code",
   "execution_count": 7,
   "id": "f50dc2bb",
   "metadata": {
    "execution": {
     "iopub.execute_input": "2022-08-22T10:11:26.751032Z",
     "iopub.status.busy": "2022-08-22T10:11:26.746816Z",
     "iopub.status.idle": "2022-08-22T10:11:26.880300Z",
     "shell.execute_reply": "2022-08-22T10:11:26.879615Z"
    },
    "papermill": {
     "duration": 0.166536,
     "end_time": "2022-08-22T10:11:26.880439",
     "exception": false,
     "start_time": "2022-08-22T10:11:26.713903",
     "status": "completed"
    },
    "tags": []
   },
   "outputs": [],
   "source": [
    "test_images = mnist.test_images()\n",
    "test_labels = mnist.test_labels()"
   ]
  },
  {
   "cell_type": "code",
   "execution_count": 8,
   "id": "fc38cf1b",
   "metadata": {
    "execution": {
     "iopub.execute_input": "2022-08-22T10:11:26.947559Z",
     "iopub.status.busy": "2022-08-22T10:11:26.946366Z",
     "iopub.status.idle": "2022-08-22T10:11:26.961757Z",
     "shell.execute_reply": "2022-08-22T10:11:26.961008Z"
    },
    "papermill": {
     "duration": 0.04954,
     "end_time": "2022-08-22T10:11:26.961898",
     "exception": false,
     "start_time": "2022-08-22T10:11:26.912358",
     "status": "completed"
    },
    "tags": []
   },
   "outputs": [
    {
     "data": {
      "text/plain": [
       "((10000, 28, 28), (10000,))"
      ]
     },
     "execution_count": 8,
     "metadata": {},
     "output_type": "execute_result"
    }
   ],
   "source": [
    "test_images.shape, test_labels.shape"
   ]
  },
  {
   "cell_type": "code",
   "execution_count": 9,
   "id": "f9ed8fe0",
   "metadata": {
    "execution": {
     "iopub.execute_input": "2022-08-22T10:11:27.025862Z",
     "iopub.status.busy": "2022-08-22T10:11:27.025183Z",
     "iopub.status.idle": "2022-08-22T10:11:27.195054Z",
     "shell.execute_reply": "2022-08-22T10:11:27.194471Z"
    },
    "papermill": {
     "duration": 0.203317,
     "end_time": "2022-08-22T10:11:27.195191",
     "exception": false,
     "start_time": "2022-08-22T10:11:26.991874",
     "status": "completed"
    },
    "tags": []
   },
   "outputs": [
    {
     "name": "stdout",
     "output_type": "stream",
     "text": [
      "2\n"
     ]
    },
    {
     "data": {
      "text/plain": [
       "<matplotlib.image.AxesImage at 0x7f0b0c611978>"
      ]
     },
     "execution_count": 9,
     "metadata": {},
     "output_type": "execute_result"
    },
    {
     "data": {
      "image/png": "[encoded data removed]",
      "text/plain": [
       "<Figure size 432x288 with 1 Axes>"
      ]
     },
     "metadata": {
      "needs_background": "light"
     },
     "output_type": "display_data"
    }
   ],
   "source": [
    "image_index = 7776 # You may select anything up to 60,000\n",
    "print(train_labels[image_index]) \n",
    "plt.imshow(train_images[image_index], cmap='Greys')"
   ]
  },
  {
   "cell_type": "markdown",
   "id": "a8d2388d",
   "metadata": {
    "papermill": {
     "duration": 0.030471,
     "end_time": "2022-08-22T10:11:27.256104",
     "exception": false,
     "start_time": "2022-08-22T10:11:27.225633",
     "status": "completed"
    },
    "tags": []
   },
   "source": [
    "## Filter data to get 3 and 8 out"
   ]
  },
  {
   "cell_type": "code",
   "execution_count": 10,
   "id": "776f7fc7",
   "metadata": {
    "execution": {
     "iopub.execute_input": "2022-08-22T10:11:27.326932Z",
     "iopub.status.busy": "2022-08-22T10:11:27.322905Z",
     "iopub.status.idle": "2022-08-22T10:11:27.347898Z",
     "shell.execute_reply": "2022-08-22T10:11:27.347229Z"
    },
    "papermill": {
     "duration": 0.061712,
     "end_time": "2022-08-22T10:11:27.348044",
     "exception": false,
     "start_time": "2022-08-22T10:11:27.286332",
     "status": "completed"
    },
    "tags": []
   },
   "outputs": [],
   "source": [
    "train_filter = np.where((train_labels == 3 ) | (train_labels == 8))\n",
    "test_filter = np.where((test_labels == 3) | (test_labels == 8))\n",
    "X_train, y_train = train_images[train_filter], train_labels[train_filter]\n",
    "X_test, y_test = test_images[test_filter], test_labels[test_filter]"
   ]
  },
  {
   "cell_type": "markdown",
   "id": "948f0b7e",
   "metadata": {
    "papermill": {
     "duration": 0.031849,
     "end_time": "2022-08-22T10:11:27.420701",
     "exception": false,
     "start_time": "2022-08-22T10:11:27.388852",
     "status": "completed"
    },
    "tags": []
   },
   "source": [
    "We normalize the pizel values in the 0 to 1 range"
   ]
  },
  {
   "cell_type": "code",
   "execution_count": 11,
   "id": "ee4c2166",
   "metadata": {
    "execution": {
     "iopub.execute_input": "2022-08-22T10:11:27.492279Z",
     "iopub.status.busy": "2022-08-22T10:11:27.490850Z",
     "iopub.status.idle": "2022-08-22T10:11:27.549174Z",
     "shell.execute_reply": "2022-08-22T10:11:27.548546Z"
    },
    "papermill": {
     "duration": 0.093966,
     "end_time": "2022-08-22T10:11:27.549313",
     "exception": false,
     "start_time": "2022-08-22T10:11:27.455347",
     "status": "completed"
    },
    "tags": []
   },
   "outputs": [],
   "source": [
    "X_train = X_train/255.\n",
    "X_test = X_test/255."
   ]
  },
  {
   "cell_type": "markdown",
   "id": "ddcf4fab",
   "metadata": {
    "papermill": {
     "duration": 0.03517,
     "end_time": "2022-08-22T10:11:27.616515",
     "exception": false,
     "start_time": "2022-08-22T10:11:27.581345",
     "status": "completed"
    },
    "tags": []
   },
   "source": [
    "And setup the labels as 1 (when the digit is 3) and 0 (when the digit is 8)"
   ]
  },
  {
   "cell_type": "code",
   "execution_count": 12,
   "id": "7dc908f2",
   "metadata": {
    "execution": {
     "iopub.execute_input": "2022-08-22T10:11:27.684565Z",
     "iopub.status.busy": "2022-08-22T10:11:27.683871Z",
     "iopub.status.idle": "2022-08-22T10:11:27.698320Z",
     "shell.execute_reply": "2022-08-22T10:11:27.698878Z"
    },
    "papermill": {
     "duration": 0.050314,
     "end_time": "2022-08-22T10:11:27.699026",
     "exception": false,
     "start_time": "2022-08-22T10:11:27.648712",
     "status": "completed"
    },
    "tags": []
   },
   "outputs": [],
   "source": [
    "y_train = 1*(y_train==3)\n",
    "y_test = 1*(y_test==3)"
   ]
  },
  {
   "cell_type": "code",
   "execution_count": 13,
   "id": "01e4e969",
   "metadata": {
    "execution": {
     "iopub.execute_input": "2022-08-22T10:11:27.776199Z",
     "iopub.status.busy": "2022-08-22T10:11:27.775435Z",
     "iopub.status.idle": "2022-08-22T10:11:27.788508Z",
     "shell.execute_reply": "2022-08-22T10:11:27.787907Z"
    },
    "papermill": {
     "duration": 0.058422,
     "end_time": "2022-08-22T10:11:27.788648",
     "exception": false,
     "start_time": "2022-08-22T10:11:27.730226",
     "status": "completed"
    },
    "tags": []
   },
   "outputs": [
    {
     "data": {
      "text/plain": [
       "((11982, 28, 28), (1984, 28, 28))"
      ]
     },
     "execution_count": 13,
     "metadata": {},
     "output_type": "execute_result"
    }
   ],
   "source": [
    "X_train.shape, X_test.shape"
   ]
  },
  {
   "cell_type": "markdown",
   "id": "5ccf3f85",
   "metadata": {
    "papermill": {
     "duration": 0.033038,
     "end_time": "2022-08-22T10:11:27.854157",
     "exception": false,
     "start_time": "2022-08-22T10:11:27.821119",
     "status": "completed"
    },
    "tags": []
   },
   "source": [
    "We reshape the data to flatten the image pixels into a set of features or co-variates:"
   ]
  },
  {
   "cell_type": "code",
   "execution_count": 14,
   "id": "5286a4a3",
   "metadata": {
    "execution": {
     "iopub.execute_input": "2022-08-22T10:11:27.930645Z",
     "iopub.status.busy": "2022-08-22T10:11:27.925785Z",
     "iopub.status.idle": "2022-08-22T10:11:27.943327Z",
     "shell.execute_reply": "2022-08-22T10:11:27.942749Z"
    },
    "papermill": {
     "duration": 0.05451,
     "end_time": "2022-08-22T10:11:27.943465",
     "exception": false,
     "start_time": "2022-08-22T10:11:27.888955",
     "status": "completed"
    },
    "tags": []
   },
   "outputs": [
    {
     "data": {
      "text/plain": [
       "((11982, 784), (1984, 784))"
      ]
     },
     "execution_count": 14,
     "metadata": {},
     "output_type": "execute_result"
    }
   ],
   "source": [
    "X_train = X_train.reshape(X_train.shape[0], -1)\n",
    "X_test = X_test.reshape(X_test.shape[0], -1)\n",
    "X_train.shape, X_test.shape"
   ]
  },
  {
   "cell_type": "code",
   "execution_count": 15,
   "id": "73c5f88a",
   "metadata": {
    "execution": {
     "iopub.execute_input": "2022-08-22T10:11:28.015431Z",
     "iopub.status.busy": "2022-08-22T10:11:28.014722Z",
     "iopub.status.idle": "2022-08-22T10:11:28.040960Z",
     "shell.execute_reply": "2022-08-22T10:11:28.040105Z"
    },
    "papermill": {
     "duration": 0.064726,
     "end_time": "2022-08-22T10:11:28.041117",
     "exception": false,
     "start_time": "2022-08-22T10:11:27.976391",
     "status": "completed"
    },
    "tags": []
   },
   "outputs": [],
   "source": [
    "#Impoting functions from 'Kudzu'\n",
    "from kudzu.model import Model\n",
    "from kudzu.train import Learner\n",
    "from kudzu.optim import GD\n",
    "from kudzu.data import Data, Sampler,Dataloader\n",
    "\n",
    "from kudzu.callbacks import AccCallback\n",
    "from kudzu.callbacks import ClfCallback\n",
    "\n",
    "from kudzu.loss import MSE\n",
    "\n",
    "from kudzu.layer import Sigmoid,Relu\n",
    "from kudzu.layer import Affine"
   ]
  },
  {
   "cell_type": "markdown",
   "id": "bc01172a",
   "metadata": {
    "papermill": {
     "duration": 0.039078,
     "end_time": "2022-08-22T10:11:28.121262",
     "exception": false,
     "start_time": "2022-08-22T10:11:28.082184",
     "status": "completed"
    },
    "tags": []
   },
   "source": [
    "### Let us create a `Config` class, to store important parameters. \n",
    "This class essentially plays the role of a dictionary."
   ]
  },
  {
   "cell_type": "code",
   "execution_count": 16,
   "id": "978281aa",
   "metadata": {
    "execution": {
     "iopub.execute_input": "2022-08-22T10:11:28.200484Z",
     "iopub.status.busy": "2022-08-22T10:11:28.199707Z",
     "iopub.status.idle": "2022-08-22T10:11:28.214993Z",
     "shell.execute_reply": "2022-08-22T10:11:28.215565Z"
    },
    "papermill": {
     "duration": 0.060307,
     "end_time": "2022-08-22T10:11:28.215748",
     "exception": false,
     "start_time": "2022-08-22T10:11:28.155441",
     "status": "completed"
    },
    "tags": []
   },
   "outputs": [],
   "source": [
    "class Config:\n",
    "    pass\n",
    "config = Config()\n",
    "config.lr = 0.001\n",
    "config.num_epochs = 250\n",
    "config.bs = 50"
   ]
  },
  {
   "cell_type": "markdown",
   "id": "1385fa59",
   "metadata": {
    "papermill": {
     "duration": 0.03246,
     "end_time": "2022-08-22T10:11:28.281262",
     "exception": false,
     "start_time": "2022-08-22T10:11:28.248802",
     "status": "completed"
    },
    "tags": []
   },
   "source": [
    "### Running Models with the Training data\n",
    "Details about the network layers:\n",
    "- A first affine layer has 784 inputs and does 100 affine transforms. These are followed by a Relu\n",
    "- A second affine layer has 100 inputs from the 100 activations of the past layer, and does 100 affine transforms. These are followed by a Relu\n",
    "- A third affine layer has 100 activations and does 2 affine transformations to create an embedding for visualization. There is no non-linearity here.\n",
    "- A final \"logistic regression\" which has an affine transform from 2 inputs to 1 output, which is squeezed through a sigmoid.\n"
   ]
  },
  {
   "cell_type": "code",
   "execution_count": 17,
   "id": "2b9c66db",
   "metadata": {
    "execution": {
     "iopub.execute_input": "2022-08-22T10:11:28.352838Z",
     "iopub.status.busy": "2022-08-22T10:11:28.351988Z",
     "iopub.status.idle": "2022-08-22T10:11:28.369260Z",
     "shell.execute_reply": "2022-08-22T10:11:28.367678Z"
    },
    "papermill": {
     "duration": 0.055082,
     "end_time": "2022-08-22T10:11:28.369410",
     "exception": false,
     "start_time": "2022-08-22T10:11:28.314328",
     "status": "completed"
    },
    "tags": []
   },
   "outputs": [],
   "source": [
    "data = Data(X_train, y_train.reshape(-1,1))\n",
    "sampler = Sampler(data, config.bs, shuffle=True)\n",
    "\n",
    "dl = Dataloader(data, sampler)\n",
    "\n",
    "opt = GD(config.lr)\n",
    "loss = MSE()"
   ]
  },
  {
   "cell_type": "code",
   "execution_count": 18,
   "id": "b275e4c2",
   "metadata": {
    "execution": {
     "iopub.execute_input": "2022-08-22T10:11:28.445426Z",
     "iopub.status.busy": "2022-08-22T10:11:28.444730Z",
     "iopub.status.idle": "2022-08-22T10:11:28.461496Z",
     "shell.execute_reply": "2022-08-22T10:11:28.460514Z"
    },
    "papermill": {
     "duration": 0.052939,
     "end_time": "2022-08-22T10:11:28.461722",
     "exception": false,
     "start_time": "2022-08-22T10:11:28.408783",
     "status": "completed"
    },
    "tags": []
   },
   "outputs": [],
   "source": [
    "training_data_x = X_train\n",
    "testing_data_x = X_test\n",
    "training_data_y = y_train.reshape(-1,1)\n",
    "testing_data_y = y_test.reshape(-1,1)"
   ]
  },
  {
   "cell_type": "code",
   "execution_count": 19,
   "id": "76951160",
   "metadata": {
    "execution": {
     "iopub.execute_input": "2022-08-22T10:11:28.539524Z",
     "iopub.status.busy": "2022-08-22T10:11:28.538821Z",
     "iopub.status.idle": "2022-08-22T10:11:28.558652Z",
     "shell.execute_reply": "2022-08-22T10:11:28.558083Z"
    },
    "papermill": {
     "duration": 0.055981,
     "end_time": "2022-08-22T10:11:28.558788",
     "exception": false,
     "start_time": "2022-08-22T10:11:28.502807",
     "status": "completed"
    },
    "tags": []
   },
   "outputs": [
    {
     "name": "stdout",
     "output_type": "stream",
     "text": [
      "xavier\n",
      "xavier\n",
      "xavier\n",
      "xavier\n",
      "xavier\n"
     ]
    }
   ],
   "source": [
    "layers = [Affine(\"first\", 784, 100), Relu(\"first\"), Affine(\"second\", 100, 100), Relu(\"second\"), Affine(\"third\", 100, 2), Affine(\"last\", 2, 1), Sigmoid(\"last\")]\n",
    "model_nn = Model(layers)\n",
    "model_lr = Model([Affine(\"logits\", 784, 1), Sigmoid(\"sigmoid\")])"
   ]
  },
  {
   "cell_type": "code",
   "execution_count": 20,
   "id": "6eede77a",
   "metadata": {
    "execution": {
     "iopub.execute_input": "2022-08-22T10:11:28.627278Z",
     "iopub.status.busy": "2022-08-22T10:11:28.626329Z",
     "iopub.status.idle": "2022-08-22T10:11:28.640676Z",
     "shell.execute_reply": "2022-08-22T10:11:28.640068Z"
    },
    "papermill": {
     "duration": 0.050515,
     "end_time": "2022-08-22T10:11:28.640812",
     "exception": false,
     "start_time": "2022-08-22T10:11:28.590297",
     "status": "completed"
    },
    "tags": []
   },
   "outputs": [],
   "source": [
    "nn_learner = Learner(loss, model_nn, opt, config.num_epochs)\n",
    "acc_nn = ClfCallback(nn_learner, config.bs, training_data_x , testing_data_x, training_data_y, testing_data_y)\n",
    "nn_learner.set_callbacks([acc_nn])"
   ]
  },
  {
   "cell_type": "code",
   "execution_count": 21,
   "id": "877b6cc7",
   "metadata": {
    "execution": {
     "iopub.execute_input": "2022-08-22T10:11:28.716028Z",
     "iopub.status.busy": "2022-08-22T10:11:28.715089Z",
     "iopub.status.idle": "2022-08-22T10:11:28.729805Z",
     "shell.execute_reply": "2022-08-22T10:11:28.729209Z"
    },
    "papermill": {
     "duration": 0.055266,
     "end_time": "2022-08-22T10:11:28.729944",
     "exception": false,
     "start_time": "2022-08-22T10:11:28.674678",
     "status": "completed"
    },
    "tags": []
   },
   "outputs": [],
   "source": [
    "lr_learner = Learner(loss, model_lr, opt, config.num_epochs)\n",
    "acc_lr = ClfCallback(lr_learner, config.bs, training_data_x , testing_data_x, training_data_y, testing_data_y)\n",
    "lr_learner.set_callbacks([acc_lr])"
   ]
  },
  {
   "cell_type": "code",
   "execution_count": 22,
   "id": "d9b133c3",
   "metadata": {
    "execution": {
     "iopub.execute_input": "2022-08-22T10:11:28.803315Z",
     "iopub.status.busy": "2022-08-22T10:11:28.802588Z",
     "iopub.status.idle": "2022-08-22T10:12:58.055334Z",
     "shell.execute_reply": "2022-08-22T10:12:58.056345Z"
    },
    "papermill": {
     "duration": 89.292826,
     "end_time": "2022-08-22T10:12:58.056512",
     "exception": false,
     "start_time": "2022-08-22T10:11:28.763686",
     "status": "completed"
    },
    "tags": []
   },
   "outputs": [
    {
     "name": "stdout",
     "output_type": "stream",
     "text": [
      "Epoch 0, Loss 0.2497\n",
      "Training Accuracy: 0.6824, Testing Accuracy: 0.6971\n",
      "\n"
     ]
    },
    {
     "name": "stdout",
     "output_type": "stream",
     "text": [
      "Epoch 10, Loss 0.09\n",
      "Training Accuracy: 0.9109, Testing Accuracy: 0.9224\n",
      "\n"
     ]
    },
    {
     "name": "stdout",
     "output_type": "stream",
     "text": [
      "Epoch 20, Loss 0.057\n",
      "Training Accuracy: 0.9375, Testing Accuracy: 0.9466\n",
      "\n"
     ]
    },
    {
     "name": "stdout",
     "output_type": "stream",
     "text": [
      "Epoch 30, Loss 0.0452\n",
      "Training Accuracy: 0.9473, Testing Accuracy: 0.9597\n",
      "\n"
     ]
    },
    {
     "name": "stdout",
     "output_type": "stream",
     "text": [
      "Epoch 40, Loss 0.0391\n",
      "Training Accuracy: 0.9554, Testing Accuracy: 0.9647\n",
      "\n"
     ]
    },
    {
     "name": "stdout",
     "output_type": "stream",
     "text": [
      "Epoch 50, Loss 0.0353\n",
      "Training Accuracy: 0.9596, Testing Accuracy: 0.9667\n",
      "\n"
     ]
    },
    {
     "name": "stdout",
     "output_type": "stream",
     "text": [
      "Epoch 60, Loss 0.0326\n",
      "Training Accuracy: 0.9623, Testing Accuracy: 0.9693\n",
      "\n"
     ]
    },
    {
     "name": "stdout",
     "output_type": "stream",
     "text": [
      "Epoch 70, Loss 0.0306\n",
      "Training Accuracy: 0.9649, Testing Accuracy: 0.9703\n",
      "\n"
     ]
    },
    {
     "name": "stdout",
     "output_type": "stream",
     "text": [
      "Epoch 80, Loss 0.0289\n",
      "Training Accuracy: 0.9668, Testing Accuracy: 0.9728\n",
      "\n"
     ]
    },
    {
     "name": "stdout",
     "output_type": "stream",
     "text": [
      "Epoch 90, Loss 0.0276\n",
      "Training Accuracy: 0.9684, Testing Accuracy: 0.9733\n",
      "\n"
     ]
    },
    {
     "name": "stdout",
     "output_type": "stream",
     "text": [
      "Epoch 100, Loss 0.0264\n",
      "Training Accuracy: 0.9689, Testing Accuracy: 0.9738\n",
      "\n"
     ]
    },
    {
     "name": "stdout",
     "output_type": "stream",
     "text": [
      "Epoch 110, Loss 0.0254\n",
      "Training Accuracy: 0.9704, Testing Accuracy: 0.9743\n",
      "\n"
     ]
    },
    {
     "name": "stdout",
     "output_type": "stream",
     "text": [
      "Epoch 120, Loss 0.0246\n",
      "Training Accuracy: 0.9712, Testing Accuracy: 0.9748\n",
      "\n"
     ]
    },
    {
     "name": "stdout",
     "output_type": "stream",
     "text": [
      "Epoch 130, Loss 0.0238\n",
      "Training Accuracy: 0.9724, Testing Accuracy: 0.9748\n",
      "\n"
     ]
    },
    {
     "name": "stdout",
     "output_type": "stream",
     "text": [
      "Epoch 140, Loss 0.0231\n",
      "Training Accuracy: 0.9730, Testing Accuracy: 0.9753\n",
      "\n"
     ]
    },
    {
     "name": "stdout",
     "output_type": "stream",
     "text": [
      "Epoch 150, Loss 0.0224\n",
      "Training Accuracy: 0.9735, Testing Accuracy: 0.9758\n",
      "\n"
     ]
    },
    {
     "name": "stdout",
     "output_type": "stream",
     "text": [
      "Epoch 160, Loss 0.0218\n",
      "Training Accuracy: 0.9744, Testing Accuracy: 0.9763\n",
      "\n"
     ]
    },
    {
     "name": "stdout",
     "output_type": "stream",
     "text": [
      "Epoch 170, Loss 0.0212\n",
      "Training Accuracy: 0.9750, Testing Accuracy: 0.9758\n",
      "\n"
     ]
    },
    {
     "name": "stdout",
     "output_type": "stream",
     "text": [
      "Epoch 180, Loss 0.0207\n",
      "Training Accuracy: 0.9760, Testing Accuracy: 0.9763\n",
      "\n"
     ]
    },
    {
     "name": "stdout",
     "output_type": "stream",
     "text": [
      "Epoch 190, Loss 0.0202\n",
      "Training Accuracy: 0.9770, Testing Accuracy: 0.9763\n",
      "\n"
     ]
    },
    {
     "name": "stdout",
     "output_type": "stream",
     "text": [
      "Epoch 200, Loss 0.0198\n",
      "Training Accuracy: 0.9775, Testing Accuracy: 0.9763\n",
      "\n"
     ]
    },
    {
     "name": "stdout",
     "output_type": "stream",
     "text": [
      "Epoch 210, Loss 0.0193\n",
      "Training Accuracy: 0.9779, Testing Accuracy: 0.9763\n",
      "\n"
     ]
    },
    {
     "name": "stdout",
     "output_type": "stream",
     "text": [
      "Epoch 220, Loss 0.0189\n",
      "Training Accuracy: 0.9786, Testing Accuracy: 0.9768\n",
      "\n"
     ]
    },
    {
     "name": "stdout",
     "output_type": "stream",
     "text": [
      "Epoch 230, Loss 0.0185\n",
      "Training Accuracy: 0.9791, Testing Accuracy: 0.9768\n",
      "\n"
     ]
    },
    {
     "name": "stdout",
     "output_type": "stream",
     "text": [
      "Epoch 240, Loss 0.0181\n",
      "Training Accuracy: 0.9801, Testing Accuracy: 0.9773\n",
      "\n"
     ]
    },
    {
     "data": {
      "text/plain": [
       "0.011922937526892188"
      ]
     },
     "execution_count": 22,
     "metadata": {},
     "output_type": "execute_result"
    }
   ],
   "source": [
    "nn_learner.train_loop(dl)"
   ]
  },
  {
   "cell_type": "code",
   "execution_count": 23,
   "id": "e0163366",
   "metadata": {
    "execution": {
     "iopub.execute_input": "2022-08-22T10:12:58.149559Z",
     "iopub.status.busy": "2022-08-22T10:12:58.148821Z",
     "iopub.status.idle": "2022-08-22T10:13:13.987033Z",
     "shell.execute_reply": "2022-08-22T10:13:13.988033Z"
    },
    "papermill": {
     "duration": 15.891765,
     "end_time": "2022-08-22T10:13:13.988203",
     "exception": false,
     "start_time": "2022-08-22T10:12:58.096438",
     "status": "completed"
    },
    "tags": []
   },
   "outputs": [
    {
     "name": "stdout",
     "output_type": "stream",
     "text": [
      "Epoch 0, Loss 0.2337\n",
      "Training Accuracy: 0.7255, Testing Accuracy: 0.7697\n",
      "\n"
     ]
    },
    {
     "name": "stdout",
     "output_type": "stream",
     "text": [
      "Epoch 10, Loss 0.1011\n",
      "Training Accuracy: 0.9140, Testing Accuracy: 0.9219\n",
      "\n"
     ]
    },
    {
     "name": "stdout",
     "output_type": "stream",
     "text": [
      "Epoch 20, Loss 0.0783\n",
      "Training Accuracy: 0.9290, Testing Accuracy: 0.9400\n",
      "\n"
     ]
    },
    {
     "name": "stdout",
     "output_type": "stream",
     "text": [
      "Epoch 30, Loss 0.0676\n",
      "Training Accuracy: 0.9371, Testing Accuracy: 0.9486\n",
      "\n"
     ]
    },
    {
     "name": "stdout",
     "output_type": "stream",
     "text": [
      "Epoch 40, Loss 0.0612\n",
      "Training Accuracy: 0.9426, Testing Accuracy: 0.9511\n",
      "\n"
     ]
    },
    {
     "name": "stdout",
     "output_type": "stream",
     "text": [
      "Epoch 50, Loss 0.0567\n",
      "Training Accuracy: 0.9453, Testing Accuracy: 0.9536\n",
      "\n"
     ]
    },
    {
     "name": "stdout",
     "output_type": "stream",
     "text": [
      "Epoch 60, Loss 0.0535\n",
      "Training Accuracy: 0.9474, Testing Accuracy: 0.9551\n",
      "\n"
     ]
    },
    {
     "name": "stdout",
     "output_type": "stream",
     "text": [
      "Epoch 70, Loss 0.051\n",
      "Training Accuracy: 0.9498, Testing Accuracy: 0.9572\n",
      "\n"
     ]
    },
    {
     "name": "stdout",
     "output_type": "stream",
     "text": [
      "Epoch 80, Loss 0.0489\n",
      "Training Accuracy: 0.9513, Testing Accuracy: 0.9577\n",
      "\n"
     ]
    },
    {
     "name": "stdout",
     "output_type": "stream",
     "text": [
      "Epoch 90, Loss 0.0473\n",
      "Training Accuracy: 0.9528, Testing Accuracy: 0.9592\n",
      "\n"
     ]
    },
    {
     "name": "stdout",
     "output_type": "stream",
     "text": [
      "Epoch 100, Loss 0.0458\n",
      "Training Accuracy: 0.9543, Testing Accuracy: 0.9597\n",
      "\n"
     ]
    },
    {
     "name": "stdout",
     "output_type": "stream",
     "text": [
      "Epoch 110, Loss 0.0446\n",
      "Training Accuracy: 0.9548, Testing Accuracy: 0.9612\n",
      "\n"
     ]
    },
    {
     "name": "stdout",
     "output_type": "stream",
     "text": [
      "Epoch 120, Loss 0.0436\n",
      "Training Accuracy: 0.9559, Testing Accuracy: 0.9612\n",
      "\n"
     ]
    },
    {
     "name": "stdout",
     "output_type": "stream",
     "text": [
      "Epoch 130, Loss 0.0427\n",
      "Training Accuracy: 0.9561, Testing Accuracy: 0.9627\n",
      "\n"
     ]
    },
    {
     "name": "stdout",
     "output_type": "stream",
     "text": [
      "Epoch 140, Loss 0.0418\n",
      "Training Accuracy: 0.9572, Testing Accuracy: 0.9627\n",
      "\n"
     ]
    },
    {
     "name": "stdout",
     "output_type": "stream",
     "text": [
      "Epoch 150, Loss 0.0411\n",
      "Training Accuracy: 0.9579, Testing Accuracy: 0.9627\n",
      "\n"
     ]
    },
    {
     "name": "stdout",
     "output_type": "stream",
     "text": [
      "Epoch 160, Loss 0.0404\n",
      "Training Accuracy: 0.9584, Testing Accuracy: 0.9632\n",
      "\n"
     ]
    },
    {
     "name": "stdout",
     "output_type": "stream",
     "text": [
      "Epoch 170, Loss 0.0398\n",
      "Training Accuracy: 0.9584, Testing Accuracy: 0.9637\n",
      "\n"
     ]
    },
    {
     "name": "stdout",
     "output_type": "stream",
     "text": [
      "Epoch 180, Loss 0.0393\n",
      "Training Accuracy: 0.9588, Testing Accuracy: 0.9647\n",
      "\n"
     ]
    },
    {
     "name": "stdout",
     "output_type": "stream",
     "text": [
      "Epoch 190, Loss 0.0388\n",
      "Training Accuracy: 0.9593, Testing Accuracy: 0.9652\n",
      "\n"
     ]
    },
    {
     "name": "stdout",
     "output_type": "stream",
     "text": [
      "Epoch 200, Loss 0.0383\n",
      "Training Accuracy: 0.9596, Testing Accuracy: 0.9657\n",
      "\n"
     ]
    },
    {
     "name": "stdout",
     "output_type": "stream",
     "text": [
      "Epoch 210, Loss 0.0379\n",
      "Training Accuracy: 0.9598, Testing Accuracy: 0.9657\n",
      "\n"
     ]
    },
    {
     "name": "stdout",
     "output_type": "stream",
     "text": [
      "Epoch 220, Loss 0.0375\n",
      "Training Accuracy: 0.9602, Testing Accuracy: 0.9667\n",
      "\n"
     ]
    },
    {
     "name": "stdout",
     "output_type": "stream",
     "text": [
      "Epoch 230, Loss 0.0371\n",
      "Training Accuracy: 0.9601, Testing Accuracy: 0.9667\n",
      "\n"
     ]
    },
    {
     "name": "stdout",
     "output_type": "stream",
     "text": [
      "Epoch 240, Loss 0.0367\n",
      "Training Accuracy: 0.9604, Testing Accuracy: 0.9677\n",
      "\n"
     ]
    },
    {
     "data": {
      "text/plain": [
       "0.031869637130520455"
      ]
     },
     "execution_count": 23,
     "metadata": {},
     "output_type": "execute_result"
    }
   ],
   "source": [
    "lr_learner.train_loop(dl)"
   ]
  },
  {
   "cell_type": "code",
   "execution_count": 24,
   "id": "ca410940",
   "metadata": {
    "execution": {
     "iopub.execute_input": "2022-08-22T10:13:14.093602Z",
     "iopub.status.busy": "2022-08-22T10:13:14.092872Z",
     "iopub.status.idle": "2022-08-22T10:13:14.355978Z",
     "shell.execute_reply": "2022-08-22T10:13:14.356530Z"
    },
    "papermill": {
     "duration": 0.320909,
     "end_time": "2022-08-22T10:13:14.356691",
     "exception": false,
     "start_time": "2022-08-22T10:13:14.035782",
     "status": "completed"
    },
    "tags": []
   },
   "outputs": [
    {
     "data": {
      "text/plain": [
       "<matplotlib.legend.Legend at 0x7f0b0c173e48>"
      ]
     },
     "execution_count": 24,
     "metadata": {},
     "output_type": "execute_result"
    },
    {
     "data": {
      "image/png": "[encoded data removed]",
      "text/plain": [
       "<Figure size 1080x720 with 1 Axes>"
      ]
     },
     "metadata": {
      "needs_background": "light"
     },
     "output_type": "display_data"
    }
   ],
   "source": [
    "#comparing the results of NN and LR\n",
    "plt.figure(figsize=(15,10))\n",
    "\n",
    "# Neural Network plots\n",
    "plt.plot(acc_nn.accuracies, 'r-', label = \"Training Accuracies - NN\")\n",
    "plt.plot(acc_nn.test_accuracies, 'g-', label = \"Testing Accuracies - NN\")\n",
    "\n",
    "# Logistic Regression plots\n",
    "plt.plot(acc_lr.accuracies, 'k-', label = \"Training Accuracies - LR\")\n",
    "plt.plot(acc_lr.test_accuracies, 'b-', label = \"Testing Accuracies - LR\")\n",
    "plt.legend()"
   ]
  },
  {
   "cell_type": "markdown",
   "id": "80dfb35c",
   "metadata": {
    "papermill": {
     "duration": 0.048019,
     "end_time": "2022-08-22T10:13:14.453507",
     "exception": false,
     "start_time": "2022-08-22T10:13:14.405488",
     "status": "completed"
    },
    "tags": []
   },
   "source": [
    "#### Plotting the outputs of this layer of the NN.\n"
   ]
  },
  {
   "cell_type": "code",
   "execution_count": 25,
   "id": "45eb2ff5",
   "metadata": {
    "execution": {
     "iopub.execute_input": "2022-08-22T10:13:14.555566Z",
     "iopub.status.busy": "2022-08-22T10:13:14.554121Z",
     "iopub.status.idle": "2022-08-22T10:13:14.578750Z",
     "shell.execute_reply": "2022-08-22T10:13:14.579638Z"
    },
    "papermill": {
     "duration": 0.078269,
     "end_time": "2022-08-22T10:13:14.579843",
     "exception": false,
     "start_time": "2022-08-22T10:13:14.501574",
     "status": "completed"
    },
    "tags": []
   },
   "outputs": [],
   "source": [
    "new_model = Model(layers[:-2])\n",
    "testing_plot = new_model(testing_data_x)"
   ]
  },
  {
   "cell_type": "code",
   "execution_count": 26,
   "id": "4c0a5485",
   "metadata": {
    "execution": {
     "iopub.execute_input": "2022-08-22T10:13:14.689257Z",
     "iopub.status.busy": "2022-08-22T10:13:14.688508Z",
     "iopub.status.idle": "2022-08-22T10:13:14.921909Z",
     "shell.execute_reply": "2022-08-22T10:13:14.922450Z"
    },
    "papermill": {
     "duration": 0.292891,
     "end_time": "2022-08-22T10:13:14.922614",
     "exception": false,
     "start_time": "2022-08-22T10:13:14.629723",
     "status": "completed"
    },
    "tags": []
   },
   "outputs": [
    {
     "data": {
      "text/plain": [
       "Text(0.5, 1.0, 'Outputs')"
      ]
     },
     "execution_count": 26,
     "metadata": {},
     "output_type": "execute_result"
    },
    {
     "data": {
      "image/png": "[encoded data removed]",
      "text/plain": [
       "<Figure size 576x504 with 1 Axes>"
      ]
     },
     "metadata": {
      "needs_background": "light"
     },
     "output_type": "display_data"
    }
   ],
   "source": [
    "# Plotting the scatter plot of points and color coding by class\n",
    "plt.figure(figsize=(8,7))\n",
    "plt.scatter(testing_plot[:,0], testing_plot[:,1], alpha = 0.1, c = y_test.ravel());\n",
    "plt.title('Outputs')"
   ]
  },
  {
   "cell_type": "markdown",
   "id": "a74fcf8f",
   "metadata": {
    "papermill": {
     "duration": 0.050631,
     "end_time": "2022-08-22T10:13:15.024714",
     "exception": false,
     "start_time": "2022-08-22T10:13:14.974083",
     "status": "completed"
    },
    "tags": []
   },
   "source": [
    "Probability contours"
   ]
  },
  {
   "cell_type": "code",
   "execution_count": 27,
   "id": "d0afc8e3",
   "metadata": {
    "execution": {
     "iopub.execute_input": "2022-08-22T10:13:15.167205Z",
     "iopub.status.busy": "2022-08-22T10:13:15.165995Z",
     "iopub.status.idle": "2022-08-22T10:13:15.179753Z",
     "shell.execute_reply": "2022-08-22T10:13:15.179020Z"
    },
    "papermill": {
     "duration": 0.070191,
     "end_time": "2022-08-22T10:13:15.179902",
     "exception": false,
     "start_time": "2022-08-22T10:13:15.109711",
     "status": "completed"
    },
    "tags": []
   },
   "outputs": [],
   "source": [
    "model_prob = Model(layers[-2:]) "
   ]
  },
  {
   "cell_type": "code",
   "execution_count": 28,
   "id": "9b96e238",
   "metadata": {
    "execution": {
     "iopub.execute_input": "2022-08-22T10:13:15.289115Z",
     "iopub.status.busy": "2022-08-22T10:13:15.288396Z",
     "iopub.status.idle": "2022-08-22T10:13:15.304742Z",
     "shell.execute_reply": "2022-08-22T10:13:15.305308Z"
    },
    "papermill": {
     "duration": 0.074343,
     "end_time": "2022-08-22T10:13:15.305475",
     "exception": false,
     "start_time": "2022-08-22T10:13:15.231132",
     "status": "completed"
    },
    "tags": []
   },
   "outputs": [],
   "source": [
    "#creating the x and y ranges according to the above generated plot.\n",
    "x_range = np.linspace(-4, 1, 100) \n",
    "y_range = np.linspace(-6, 6, 100) \n",
    "x_grid, y_grid = np.meshgrid(x_range, y_range) # x_grid and y_grig are of size 100 X 100\n",
    "\n",
    "# converting x_grid and y_grid to continuous arrays\n",
    "x_gridflat = np.ravel(x_grid)\n",
    "y_gridflat = np.ravel(y_grid)\n",
    "\n",
    "# The last layer of the current model takes two columns as input. Hence transpose of np.vstack() is required.\n",
    "X = np.vstack((x_gridflat, y_gridflat)).T\n",
    "\n",
    "prob_contour = model_prob(X).reshape(100,100) "
   ]
  },
  {
   "cell_type": "code",
   "execution_count": 29,
   "id": "da72499a",
   "metadata": {
    "execution": {
     "iopub.execute_input": "2022-08-22T10:13:15.419957Z",
     "iopub.status.busy": "2022-08-22T10:13:15.419214Z",
     "iopub.status.idle": "2022-08-22T10:13:15.703041Z",
     "shell.execute_reply": "2022-08-22T10:13:15.703572Z"
    },
    "papermill": {
     "duration": 0.346333,
     "end_time": "2022-08-22T10:13:15.703745",
     "exception": false,
     "start_time": "2022-08-22T10:13:15.357412",
     "status": "completed"
    },
    "tags": []
   },
   "outputs": [
    {
     "data": {
      "image/png": "[encoded data removed]",
      "text/plain": [
       "<Figure size 720x648 with 1 Axes>"
      ]
     },
     "metadata": {
      "needs_background": "light"
     },
     "output_type": "display_data"
    }
   ],
   "source": [
    "plt.figure(figsize=(10,9))\n",
    "plt.scatter(testing_plot[:,0], testing_plot[:,1], alpha = 0.1, c = y_test.ravel())\n",
    "contours = plt.contour(x_grid,y_grid,prob_contour)\n",
    "plt.title('Probability Contours')\n",
    "plt.clabel(contours, inline = True );"
   ]
  },
  {
   "cell_type": "code",
   "execution_count": null,
   "id": "e81b4ac7",
   "metadata": {
    "papermill": {
     "duration": 0.05382,
     "end_time": "2022-08-22T10:13:15.812099",
     "exception": false,
     "start_time": "2022-08-22T10:13:15.758279",
     "status": "completed"
    },
    "tags": []
   },
   "outputs": [],
   "source": []
  }
 ],
 "metadata": {
  "kernelspec": {
   "display_name": "Python 3",
   "language": "python",
   "name": "python3"
  },
  "language_info": {
   "codemirror_mode": {
    "name": "ipython",
    "version": 3
   },
   "file_extension": ".py",
   "mimetype": "text/x-python",
   "name": "python",
   "nbconvert_exporter": "python",
   "pygments_lexer": "ipython3",
   "version": "3.6.15"
  },
  "papermill": {
   "default_parameters": {},
   "duration": 114.730078,
   "end_time": "2022-08-22T10:13:16.289129",
   "environment_variables": {},
   "exception": null,
   "input_path": "2020-08-11-part2.ipynb",
   "output_path": "2020-08-11-part2.ipynb",
   "parameters": {},
   "start_time": "2022-08-22T10:11:21.559051",
   "version": "2.3.3"
  }
 },
 "nbformat": 4,
 "nbformat_minor": 5
}