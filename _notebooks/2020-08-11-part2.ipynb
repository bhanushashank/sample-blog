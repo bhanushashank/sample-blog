{
 "cells": [
  {
   "cell_type": "markdown",
   "id": "98380cd3",
   "metadata": {
    "papermill": {
     "duration": 0.028755,
     "end_time": "2021-12-25T10:07:44.362946",
     "exception": false,
     "start_time": "2021-12-25T10:07:44.334191",
     "status": "completed"
    },
    "tags": []
   },
   "source": [
    "# Distinguish Your Own Digits (DYOD)"
   ]
  },
  {
   "cell_type": "markdown",
   "id": "ef31240d",
   "metadata": {
    "papermill": {
     "duration": 0.024188,
     "end_time": "2021-12-25T10:07:44.411925",
     "exception": false,
     "start_time": "2021-12-25T10:07:44.387737",
     "status": "completed"
    },
    "tags": []
   },
   "source": [
    "You are going to write a classifier that distinguishes between the number 3 and number 8."
   ]
  },
  {
   "cell_type": "code",
   "execution_count": 1,
   "id": "b15c8646",
   "metadata": {
    "execution": {
     "iopub.execute_input": "2021-12-25T10:07:44.471649Z",
     "iopub.status.busy": "2021-12-25T10:07:44.471073Z",
     "iopub.status.idle": "2021-12-25T10:07:44.481287Z",
     "shell.execute_reply": "2021-12-25T10:07:44.480866Z"
    },
    "papermill": {
     "duration": 0.045429,
     "end_time": "2021-12-25T10:07:44.481411",
     "exception": false,
     "start_time": "2021-12-25T10:07:44.435982",
     "status": "completed"
    },
    "tags": []
   },
   "outputs": [],
   "source": [
    "%load_ext autoreload\n",
    "%autoreload 2"
   ]
  },
  {
   "cell_type": "code",
   "execution_count": 2,
   "id": "22ef38dc",
   "metadata": {
    "execution": {
     "iopub.execute_input": "2021-12-25T10:07:44.536433Z",
     "iopub.status.busy": "2021-12-25T10:07:44.535917Z",
     "iopub.status.idle": "2021-12-25T10:07:45.111830Z",
     "shell.execute_reply": "2021-12-25T10:07:45.111291Z"
    },
    "papermill": {
     "duration": 0.606419,
     "end_time": "2021-12-25T10:07:45.111968",
     "exception": false,
     "start_time": "2021-12-25T10:07:44.505549",
     "status": "completed"
    },
    "tags": []
   },
   "outputs": [],
   "source": [
    "%matplotlib inline\n",
    "import numpy as np\n",
    "import matplotlib.pyplot as plt\n",
    "import pandas as pd"
   ]
  },
  {
   "cell_type": "markdown",
   "id": "ba036198",
   "metadata": {
    "papermill": {
     "duration": 0.027067,
     "end_time": "2021-12-25T10:07:45.165553",
     "exception": false,
     "start_time": "2021-12-25T10:07:45.138486",
     "status": "completed"
    },
    "tags": []
   },
   "source": [
    "From the command line run `pip install mnist`. This is a library that will help you bring down the mnist dataset. If you run this from a notebook, you need to put  `!pip install mnist` in a cell by itself."
   ]
  },
  {
   "cell_type": "code",
   "execution_count": 3,
   "id": "bb6ad8a1",
   "metadata": {
    "execution": {
     "iopub.execute_input": "2021-12-25T10:07:45.222698Z",
     "iopub.status.busy": "2021-12-25T10:07:45.222188Z",
     "iopub.status.idle": "2021-12-25T10:07:47.005403Z",
     "shell.execute_reply": "2021-12-25T10:07:47.004929Z"
    },
    "papermill": {
     "duration": 1.813374,
     "end_time": "2021-12-25T10:07:47.005529",
     "exception": false,
     "start_time": "2021-12-25T10:07:45.192155",
     "status": "completed"
    },
    "tags": []
   },
   "outputs": [
    {
     "name": "stdout",
     "output_type": "stream",
     "text": [
      "Collecting mnist\r\n"
     ]
    },
    {
     "name": "stdout",
     "output_type": "stream",
     "text": [
      "  Downloading mnist-0.2.2-py2.py3-none-any.whl (3.5 kB)\r\n",
      "Requirement already satisfied: numpy in /opt/hostedtoolcache/Python/3.6.15/x64/lib/python3.6/site-packages (from mnist) (1.19.5)\r\n"
     ]
    },
    {
     "name": "stdout",
     "output_type": "stream",
     "text": [
      "Installing collected packages: mnist\r\n",
      "Successfully installed mnist-0.2.2\r\n"
     ]
    }
   ],
   "source": [
    "!pip install mnist"
   ]
  },
  {
   "cell_type": "markdown",
   "id": "69df9c9a",
   "metadata": {
    "papermill": {
     "duration": 0.028111,
     "end_time": "2021-12-25T10:07:47.061181",
     "exception": false,
     "start_time": "2021-12-25T10:07:47.033070",
     "status": "completed"
    },
    "tags": []
   },
   "source": [
    "## Preparing the Data"
   ]
  },
  {
   "cell_type": "code",
   "execution_count": 4,
   "id": "7f69d806",
   "metadata": {
    "execution": {
     "iopub.execute_input": "2021-12-25T10:07:47.127925Z",
     "iopub.status.busy": "2021-12-25T10:07:47.117210Z",
     "iopub.status.idle": "2021-12-25T10:07:47.134995Z",
     "shell.execute_reply": "2021-12-25T10:07:47.135454Z"
    },
    "papermill": {
     "duration": 0.048577,
     "end_time": "2021-12-25T10:07:47.135591",
     "exception": false,
     "start_time": "2021-12-25T10:07:47.087014",
     "status": "completed"
    },
    "tags": []
   },
   "outputs": [],
   "source": [
    "import mnist"
   ]
  },
  {
   "cell_type": "code",
   "execution_count": 5,
   "id": "a411e44f",
   "metadata": {
    "execution": {
     "iopub.execute_input": "2021-12-25T10:07:47.196002Z",
     "iopub.status.busy": "2021-12-25T10:07:47.195487Z",
     "iopub.status.idle": "2021-12-25T10:07:47.784517Z",
     "shell.execute_reply": "2021-12-25T10:07:47.783995Z"
    },
    "papermill": {
     "duration": 0.623244,
     "end_time": "2021-12-25T10:07:47.784655",
     "exception": false,
     "start_time": "2021-12-25T10:07:47.161411",
     "status": "completed"
    },
    "tags": []
   },
   "outputs": [],
   "source": [
    "train_images = mnist.train_images()\n",
    "train_labels = mnist.train_labels()"
   ]
  },
  {
   "cell_type": "code",
   "execution_count": 6,
   "id": "dceab3a5",
   "metadata": {
    "execution": {
     "iopub.execute_input": "2021-12-25T10:07:47.842412Z",
     "iopub.status.busy": "2021-12-25T10:07:47.841868Z",
     "iopub.status.idle": "2021-12-25T10:07:47.855207Z",
     "shell.execute_reply": "2021-12-25T10:07:47.855716Z"
    },
    "papermill": {
     "duration": 0.043645,
     "end_time": "2021-12-25T10:07:47.855841",
     "exception": false,
     "start_time": "2021-12-25T10:07:47.812196",
     "status": "completed"
    },
    "tags": []
   },
   "outputs": [
    {
     "data": {
      "text/plain": [
       "((60000, 28, 28), (60000,))"
      ]
     },
     "execution_count": 6,
     "metadata": {},
     "output_type": "execute_result"
    }
   ],
   "source": [
    "train_images.shape, train_labels.shape"
   ]
  },
  {
   "cell_type": "code",
   "execution_count": 7,
   "id": "f50dc2bb",
   "metadata": {
    "execution": {
     "iopub.execute_input": "2021-12-25T10:07:47.911667Z",
     "iopub.status.busy": "2021-12-25T10:07:47.911061Z",
     "iopub.status.idle": "2021-12-25T10:07:48.136377Z",
     "shell.execute_reply": "2021-12-25T10:07:48.135854Z"
    },
    "papermill": {
     "duration": 0.25519,
     "end_time": "2021-12-25T10:07:48.136515",
     "exception": false,
     "start_time": "2021-12-25T10:07:47.881325",
     "status": "completed"
    },
    "tags": []
   },
   "outputs": [],
   "source": [
    "test_images = mnist.test_images()\n",
    "test_labels = mnist.test_labels()"
   ]
  },
  {
   "cell_type": "code",
   "execution_count": 8,
   "id": "fc38cf1b",
   "metadata": {
    "execution": {
     "iopub.execute_input": "2021-12-25T10:07:48.195442Z",
     "iopub.status.busy": "2021-12-25T10:07:48.194900Z",
     "iopub.status.idle": "2021-12-25T10:07:48.205811Z",
     "shell.execute_reply": "2021-12-25T10:07:48.205381Z"
    },
    "papermill": {
     "duration": 0.042764,
     "end_time": "2021-12-25T10:07:48.205915",
     "exception": false,
     "start_time": "2021-12-25T10:07:48.163151",
     "status": "completed"
    },
    "tags": []
   },
   "outputs": [
    {
     "data": {
      "text/plain": [
       "((10000, 28, 28), (10000,))"
      ]
     },
     "execution_count": 8,
     "metadata": {},
     "output_type": "execute_result"
    }
   ],
   "source": [
    "test_images.shape, test_labels.shape"
   ]
  },
  {
   "cell_type": "code",
   "execution_count": 9,
   "id": "f9ed8fe0",
   "metadata": {
    "execution": {
     "iopub.execute_input": "2021-12-25T10:07:48.263846Z",
     "iopub.status.busy": "2021-12-25T10:07:48.263332Z",
     "iopub.status.idle": "2021-12-25T10:07:48.406060Z",
     "shell.execute_reply": "2021-12-25T10:07:48.407325Z"
    },
    "papermill": {
     "duration": 0.175159,
     "end_time": "2021-12-25T10:07:48.407588",
     "exception": false,
     "start_time": "2021-12-25T10:07:48.232429",
     "status": "completed"
    },
    "tags": []
   },
   "outputs": [
    {
     "name": "stdout",
     "output_type": "stream",
     "text": [
      "2\n"
     ]
    },
    {
     "data": {
      "text/plain": [
       "<matplotlib.image.AxesImage at 0x7fcf29827518>"
      ]
     },
     "execution_count": 9,
     "metadata": {},
     "output_type": "execute_result"
    },
    {
     "data": {
      "image/png": "[encoded data removed]",
      "text/plain": [
       "<Figure size 432x288 with 1 Axes>"
      ]
     },
     "metadata": {
      "needs_background": "light"
     },
     "output_type": "display_data"
    }
   ],
   "source": [
    "image_index = 7776 # You may select anything up to 60,000\n",
    "print(train_labels[image_index]) \n",
    "plt.imshow(train_images[image_index], cmap='Greys')"
   ]
  },
  {
   "cell_type": "markdown",
   "id": "a8d2388d",
   "metadata": {
    "papermill": {
     "duration": 0.029439,
     "end_time": "2021-12-25T10:07:48.482228",
     "exception": false,
     "start_time": "2021-12-25T10:07:48.452789",
     "status": "completed"
    },
    "tags": []
   },
   "source": [
    "## Filter data to get 3 and 8 out"
   ]
  },
  {
   "cell_type": "code",
   "execution_count": 10,
   "id": "776f7fc7",
   "metadata": {
    "execution": {
     "iopub.execute_input": "2021-12-25T10:07:48.543090Z",
     "iopub.status.busy": "2021-12-25T10:07:48.542470Z",
     "iopub.status.idle": "2021-12-25T10:07:48.561319Z",
     "shell.execute_reply": "2021-12-25T10:07:48.560834Z"
    },
    "papermill": {
     "duration": 0.051696,
     "end_time": "2021-12-25T10:07:48.561447",
     "exception": false,
     "start_time": "2021-12-25T10:07:48.509751",
     "status": "completed"
    },
    "tags": []
   },
   "outputs": [],
   "source": [
    "train_filter = np.where((train_labels == 3 ) | (train_labels == 8))\n",
    "test_filter = np.where((test_labels == 3) | (test_labels == 8))\n",
    "X_train, y_train = train_images[train_filter], train_labels[train_filter]\n",
    "X_test, y_test = test_images[test_filter], test_labels[test_filter]"
   ]
  },
  {
   "cell_type": "markdown",
   "id": "948f0b7e",
   "metadata": {
    "papermill": {
     "duration": 0.026665,
     "end_time": "2021-12-25T10:07:48.615825",
     "exception": false,
     "start_time": "2021-12-25T10:07:48.589160",
     "status": "completed"
    },
    "tags": []
   },
   "source": [
    "We normalize the pizel values in the 0 to 1 range"
   ]
  },
  {
   "cell_type": "code",
   "execution_count": 11,
   "id": "ee4c2166",
   "metadata": {
    "execution": {
     "iopub.execute_input": "2021-12-25T10:07:48.673149Z",
     "iopub.status.busy": "2021-12-25T10:07:48.672603Z",
     "iopub.status.idle": "2021-12-25T10:07:48.720277Z",
     "shell.execute_reply": "2021-12-25T10:07:48.719737Z"
    },
    "papermill": {
     "duration": 0.077884,
     "end_time": "2021-12-25T10:07:48.720409",
     "exception": false,
     "start_time": "2021-12-25T10:07:48.642525",
     "status": "completed"
    },
    "tags": []
   },
   "outputs": [],
   "source": [
    "X_train = X_train/255.\n",
    "X_test = X_test/255."
   ]
  },
  {
   "cell_type": "markdown",
   "id": "ddcf4fab",
   "metadata": {
    "papermill": {
     "duration": 0.026627,
     "end_time": "2021-12-25T10:07:48.774262",
     "exception": false,
     "start_time": "2021-12-25T10:07:48.747635",
     "status": "completed"
    },
    "tags": []
   },
   "source": [
    "And setup the labels as 1 (when the digit is 3) and 0 (when the digit is 8)"
   ]
  },
  {
   "cell_type": "code",
   "execution_count": 12,
   "id": "7dc908f2",
   "metadata": {
    "execution": {
     "iopub.execute_input": "2021-12-25T10:07:48.834073Z",
     "iopub.status.busy": "2021-12-25T10:07:48.833534Z",
     "iopub.status.idle": "2021-12-25T10:07:48.843987Z",
     "shell.execute_reply": "2021-12-25T10:07:48.843570Z"
    },
    "papermill": {
     "duration": 0.043273,
     "end_time": "2021-12-25T10:07:48.844100",
     "exception": false,
     "start_time": "2021-12-25T10:07:48.800827",
     "status": "completed"
    },
    "tags": []
   },
   "outputs": [],
   "source": [
    "y_train = 1*(y_train==3)\n",
    "y_test = 1*(y_test==3)"
   ]
  },
  {
   "cell_type": "code",
   "execution_count": 13,
   "id": "01e4e969",
   "metadata": {
    "execution": {
     "iopub.execute_input": "2021-12-25T10:07:48.900693Z",
     "iopub.status.busy": "2021-12-25T10:07:48.900184Z",
     "iopub.status.idle": "2021-12-25T10:07:48.915719Z",
     "shell.execute_reply": "2021-12-25T10:07:48.915301Z"
    },
    "papermill": {
     "duration": 0.045109,
     "end_time": "2021-12-25T10:07:48.915830",
     "exception": false,
     "start_time": "2021-12-25T10:07:48.870721",
     "status": "completed"
    },
    "tags": []
   },
   "outputs": [
    {
     "data": {
      "text/plain": [
       "((11982, 28, 28), (1984, 28, 28))"
      ]
     },
     "execution_count": 13,
     "metadata": {},
     "output_type": "execute_result"
    }
   ],
   "source": [
    "X_train.shape, X_test.shape"
   ]
  },
  {
   "cell_type": "markdown",
   "id": "5ccf3f85",
   "metadata": {
    "papermill": {
     "duration": 0.026667,
     "end_time": "2021-12-25T10:07:48.969190",
     "exception": false,
     "start_time": "2021-12-25T10:07:48.942523",
     "status": "completed"
    },
    "tags": []
   },
   "source": [
    "We reshape the data to flatten the image pixels into a set of features or co-variates:"
   ]
  },
  {
   "cell_type": "code",
   "execution_count": 14,
   "id": "5286a4a3",
   "metadata": {
    "execution": {
     "iopub.execute_input": "2021-12-25T10:07:49.028213Z",
     "iopub.status.busy": "2021-12-25T10:07:49.027696Z",
     "iopub.status.idle": "2021-12-25T10:07:49.040612Z",
     "shell.execute_reply": "2021-12-25T10:07:49.041049Z"
    },
    "papermill": {
     "duration": 0.045087,
     "end_time": "2021-12-25T10:07:49.041174",
     "exception": false,
     "start_time": "2021-12-25T10:07:48.996087",
     "status": "completed"
    },
    "tags": []
   },
   "outputs": [
    {
     "data": {
      "text/plain": [
       "((11982, 784), (1984, 784))"
      ]
     },
     "execution_count": 14,
     "metadata": {},
     "output_type": "execute_result"
    }
   ],
   "source": [
    "X_train = X_train.reshape(X_train.shape[0], -1)\n",
    "X_test = X_test.reshape(X_test.shape[0], -1)\n",
    "X_train.shape, X_test.shape"
   ]
  },
  {
   "cell_type": "code",
   "execution_count": 15,
   "id": "73c5f88a",
   "metadata": {
    "execution": {
     "iopub.execute_input": "2021-12-25T10:07:49.099385Z",
     "iopub.status.busy": "2021-12-25T10:07:49.098848Z",
     "iopub.status.idle": "2021-12-25T10:07:49.117174Z",
     "shell.execute_reply": "2021-12-25T10:07:49.116763Z"
    },
    "papermill": {
     "duration": 0.049113,
     "end_time": "2021-12-25T10:07:49.117282",
     "exception": false,
     "start_time": "2021-12-25T10:07:49.068169",
     "status": "completed"
    },
    "tags": []
   },
   "outputs": [],
   "source": [
    "#Impoting functions from 'Kudzu'\n",
    "from kudzu.model import Model\n",
    "from kudzu.train import Learner\n",
    "from kudzu.optim import GD\n",
    "from kudzu.data import Data, Sampler,Dataloader\n",
    "\n",
    "from kudzu.callbacks import AccCallback\n",
    "from kudzu.callbacks import ClfCallback\n",
    "\n",
    "from kudzu.loss import MSE\n",
    "\n",
    "from kudzu.layer import Sigmoid,Relu\n",
    "from kudzu.layer import Affine"
   ]
  },
  {
   "cell_type": "markdown",
   "id": "bc01172a",
   "metadata": {
    "papermill": {
     "duration": 0.02714,
     "end_time": "2021-12-25T10:07:49.171681",
     "exception": false,
     "start_time": "2021-12-25T10:07:49.144541",
     "status": "completed"
    },
    "tags": []
   },
   "source": [
    "### Let us create a `Config` class, to store important parameters. \n",
    "This class essentially plays the role of a dictionary."
   ]
  },
  {
   "cell_type": "code",
   "execution_count": 16,
   "id": "978281aa",
   "metadata": {
    "execution": {
     "iopub.execute_input": "2021-12-25T10:07:49.229779Z",
     "iopub.status.busy": "2021-12-25T10:07:49.229256Z",
     "iopub.status.idle": "2021-12-25T10:07:49.241936Z",
     "shell.execute_reply": "2021-12-25T10:07:49.241515Z"
    },
    "papermill": {
     "duration": 0.043258,
     "end_time": "2021-12-25T10:07:49.242047",
     "exception": false,
     "start_time": "2021-12-25T10:07:49.198789",
     "status": "completed"
    },
    "tags": []
   },
   "outputs": [],
   "source": [
    "class Config:\n",
    "    pass\n",
    "config = Config()\n",
    "config.lr = 0.001\n",
    "config.num_epochs = 250\n",
    "config.bs = 50"
   ]
  },
  {
   "cell_type": "markdown",
   "id": "1385fa59",
   "metadata": {
    "papermill": {
     "duration": 0.027125,
     "end_time": "2021-12-25T10:07:49.296533",
     "exception": false,
     "start_time": "2021-12-25T10:07:49.269408",
     "status": "completed"
    },
    "tags": []
   },
   "source": [
    "### Running Models with the Training data\n",
    "Details about the network layers:\n",
    "- A first affine layer has 784 inputs and does 100 affine transforms. These are followed by a Relu\n",
    "- A second affine layer has 100 inputs from the 100 activations of the past layer, and does 100 affine transforms. These are followed by a Relu\n",
    "- A third affine layer has 100 activations and does 2 affine transformations to create an embedding for visualization. There is no non-linearity here.\n",
    "- A final \"logistic regression\" which has an affine transform from 2 inputs to 1 output, which is squeezed through a sigmoid.\n"
   ]
  },
  {
   "cell_type": "code",
   "execution_count": 17,
   "id": "2b9c66db",
   "metadata": {
    "execution": {
     "iopub.execute_input": "2021-12-25T10:07:49.355675Z",
     "iopub.status.busy": "2021-12-25T10:07:49.355120Z",
     "iopub.status.idle": "2021-12-25T10:07:49.367888Z",
     "shell.execute_reply": "2021-12-25T10:07:49.367442Z"
    },
    "papermill": {
     "duration": 0.044235,
     "end_time": "2021-12-25T10:07:49.367999",
     "exception": false,
     "start_time": "2021-12-25T10:07:49.323764",
     "status": "completed"
    },
    "tags": []
   },
   "outputs": [],
   "source": [
    "data = Data(X_train, y_train.reshape(-1,1))\n",
    "sampler = Sampler(data, config.bs, shuffle=True)\n",
    "\n",
    "dl = Dataloader(data, sampler)\n",
    "\n",
    "opt = GD(config.lr)\n",
    "loss = MSE()"
   ]
  },
  {
   "cell_type": "code",
   "execution_count": 18,
   "id": "b275e4c2",
   "metadata": {
    "execution": {
     "iopub.execute_input": "2021-12-25T10:07:49.426310Z",
     "iopub.status.busy": "2021-12-25T10:07:49.425787Z",
     "iopub.status.idle": "2021-12-25T10:07:49.437745Z",
     "shell.execute_reply": "2021-12-25T10:07:49.437333Z"
    },
    "papermill": {
     "duration": 0.042534,
     "end_time": "2021-12-25T10:07:49.437857",
     "exception": false,
     "start_time": "2021-12-25T10:07:49.395323",
     "status": "completed"
    },
    "tags": []
   },
   "outputs": [],
   "source": [
    "training_data_x = X_train\n",
    "testing_data_x = X_test\n",
    "training_data_y = y_train.reshape(-1,1)\n",
    "testing_data_y = y_test.reshape(-1,1)"
   ]
  },
  {
   "cell_type": "code",
   "execution_count": 19,
   "id": "76951160",
   "metadata": {
    "execution": {
     "iopub.execute_input": "2021-12-25T10:07:49.497416Z",
     "iopub.status.busy": "2021-12-25T10:07:49.496894Z",
     "iopub.status.idle": "2021-12-25T10:07:49.512164Z",
     "shell.execute_reply": "2021-12-25T10:07:49.512543Z"
    },
    "papermill": {
     "duration": 0.047654,
     "end_time": "2021-12-25T10:07:49.512667",
     "exception": false,
     "start_time": "2021-12-25T10:07:49.465013",
     "status": "completed"
    },
    "tags": []
   },
   "outputs": [
    {
     "name": "stdout",
     "output_type": "stream",
     "text": [
      "xavier\n",
      "xavier\n",
      "xavier\n",
      "xavier\n",
      "xavier\n"
     ]
    }
   ],
   "source": [
    "layers = [Affine(\"first\", 784, 100), Relu(\"first\"), Affine(\"second\", 100, 100), Relu(\"second\"), Affine(\"third\", 100, 2), Affine(\"last\", 2, 1), Sigmoid(\"last\")]\n",
    "model_nn = Model(layers)\n",
    "model_lr = Model([Affine(\"logits\", 784, 1), Sigmoid(\"sigmoid\")])"
   ]
  },
  {
   "cell_type": "code",
   "execution_count": 20,
   "id": "6eede77a",
   "metadata": {
    "execution": {
     "iopub.execute_input": "2021-12-25T10:07:49.580060Z",
     "iopub.status.busy": "2021-12-25T10:07:49.579552Z",
     "iopub.status.idle": "2021-12-25T10:07:49.588593Z",
     "shell.execute_reply": "2021-12-25T10:07:49.588184Z"
    },
    "papermill": {
     "duration": 0.047204,
     "end_time": "2021-12-25T10:07:49.588699",
     "exception": false,
     "start_time": "2021-12-25T10:07:49.541495",
     "status": "completed"
    },
    "tags": []
   },
   "outputs": [],
   "source": [
    "nn_learner = Learner(loss, model_nn, opt, config.num_epochs)\n",
    "acc_nn = ClfCallback(nn_learner, config.bs, training_data_x , testing_data_x, training_data_y, testing_data_y)\n",
    "nn_learner.set_callbacks([acc_nn])"
   ]
  },
  {
   "cell_type": "code",
   "execution_count": 21,
   "id": "877b6cc7",
   "metadata": {
    "execution": {
     "iopub.execute_input": "2021-12-25T10:07:49.648696Z",
     "iopub.status.busy": "2021-12-25T10:07:49.648117Z",
     "iopub.status.idle": "2021-12-25T10:07:49.658851Z",
     "shell.execute_reply": "2021-12-25T10:07:49.658345Z"
    },
    "papermill": {
     "duration": 0.042703,
     "end_time": "2021-12-25T10:07:49.658953",
     "exception": false,
     "start_time": "2021-12-25T10:07:49.616250",
     "status": "completed"
    },
    "tags": []
   },
   "outputs": [],
   "source": [
    "lr_learner = Learner(loss, model_lr, opt, config.num_epochs)\n",
    "acc_lr = ClfCallback(lr_learner, config.bs, training_data_x , testing_data_x, training_data_y, testing_data_y)\n",
    "lr_learner.set_callbacks([acc_lr])"
   ]
  },
  {
   "cell_type": "code",
   "execution_count": 22,
   "id": "d9b133c3",
   "metadata": {
    "execution": {
     "iopub.execute_input": "2021-12-25T10:07:49.722199Z",
     "iopub.status.busy": "2021-12-25T10:07:49.721689Z",
     "iopub.status.idle": "2021-12-25T10:09:06.391558Z",
     "shell.execute_reply": "2021-12-25T10:09:06.392323Z"
    },
    "papermill": {
     "duration": 76.705828,
     "end_time": "2021-12-25T10:09:06.392475",
     "exception": false,
     "start_time": "2021-12-25T10:07:49.686647",
     "status": "completed"
    },
    "tags": []
   },
   "outputs": [
    {
     "name": "stdout",
     "output_type": "stream",
     "text": [
      "Epoch 0, Loss 0.251\n",
      "Training Accuracy: 0.4580, Testing Accuracy: 0.4526\n",
      "\n"
     ]
    },
    {
     "name": "stdout",
     "output_type": "stream",
     "text": [
      "Epoch 10, Loss 0.2488\n",
      "Training Accuracy: 0.6261, Testing Accuracy: 0.6240\n",
      "\n"
     ]
    },
    {
     "name": "stdout",
     "output_type": "stream",
     "text": [
      "Epoch 20, Loss 0.2442\n",
      "Training Accuracy: 0.7772, Testing Accuracy: 0.7681\n",
      "\n"
     ]
    },
    {
     "name": "stdout",
     "output_type": "stream",
     "text": [
      "Epoch 30, Loss 0.2219\n",
      "Training Accuracy: 0.8412, Testing Accuracy: 0.8659\n",
      "\n"
     ]
    },
    {
     "name": "stdout",
     "output_type": "stream",
     "text": [
      "Epoch 40, Loss 0.1341\n",
      "Training Accuracy: 0.8859, Testing Accuracy: 0.9012\n",
      "\n"
     ]
    },
    {
     "name": "stdout",
     "output_type": "stream",
     "text": [
      "Epoch 50, Loss 0.0742\n",
      "Training Accuracy: 0.9232, Testing Accuracy: 0.9304\n",
      "\n"
     ]
    },
    {
     "name": "stdout",
     "output_type": "stream",
     "text": [
      "Epoch 60, Loss 0.0535\n",
      "Training Accuracy: 0.9400, Testing Accuracy: 0.9486\n",
      "\n"
     ]
    },
    {
     "name": "stdout",
     "output_type": "stream",
     "text": [
      "Epoch 70, Loss 0.0443\n",
      "Training Accuracy: 0.9499, Testing Accuracy: 0.9582\n",
      "\n"
     ]
    },
    {
     "name": "stdout",
     "output_type": "stream",
     "text": [
      "Epoch 80, Loss 0.0391\n",
      "Training Accuracy: 0.9543, Testing Accuracy: 0.9627\n",
      "\n"
     ]
    },
    {
     "name": "stdout",
     "output_type": "stream",
     "text": [
      "Epoch 90, Loss 0.0358\n",
      "Training Accuracy: 0.9584, Testing Accuracy: 0.9647\n",
      "\n"
     ]
    },
    {
     "name": "stdout",
     "output_type": "stream",
     "text": [
      "Epoch 100, Loss 0.0334\n",
      "Training Accuracy: 0.9618, Testing Accuracy: 0.9662\n",
      "\n"
     ]
    },
    {
     "name": "stdout",
     "output_type": "stream",
     "text": [
      "Epoch 110, Loss 0.0315\n",
      "Training Accuracy: 0.9639, Testing Accuracy: 0.9677\n",
      "\n"
     ]
    },
    {
     "name": "stdout",
     "output_type": "stream",
     "text": [
      "Epoch 120, Loss 0.03\n",
      "Training Accuracy: 0.9650, Testing Accuracy: 0.9688\n",
      "\n"
     ]
    },
    {
     "name": "stdout",
     "output_type": "stream",
     "text": [
      "Epoch 130, Loss 0.0288\n",
      "Training Accuracy: 0.9662, Testing Accuracy: 0.9693\n",
      "\n"
     ]
    },
    {
     "name": "stdout",
     "output_type": "stream",
     "text": [
      "Epoch 140, Loss 0.0278\n",
      "Training Accuracy: 0.9678, Testing Accuracy: 0.9693\n",
      "\n"
     ]
    },
    {
     "name": "stdout",
     "output_type": "stream",
     "text": [
      "Epoch 150, Loss 0.0269\n",
      "Training Accuracy: 0.9688, Testing Accuracy: 0.9708\n",
      "\n"
     ]
    },
    {
     "name": "stdout",
     "output_type": "stream",
     "text": [
      "Epoch 160, Loss 0.0261\n",
      "Training Accuracy: 0.9697, Testing Accuracy: 0.9713\n",
      "\n"
     ]
    },
    {
     "name": "stdout",
     "output_type": "stream",
     "text": [
      "Epoch 170, Loss 0.0254\n",
      "Training Accuracy: 0.9707, Testing Accuracy: 0.9723\n",
      "\n"
     ]
    },
    {
     "name": "stdout",
     "output_type": "stream",
     "text": [
      "Epoch 180, Loss 0.0248\n",
      "Training Accuracy: 0.9709, Testing Accuracy: 0.9733\n",
      "\n"
     ]
    },
    {
     "name": "stdout",
     "output_type": "stream",
     "text": [
      "Epoch 190, Loss 0.0242\n",
      "Training Accuracy: 0.9721, Testing Accuracy: 0.9728\n",
      "\n"
     ]
    },
    {
     "name": "stdout",
     "output_type": "stream",
     "text": [
      "Epoch 200, Loss 0.0237\n",
      "Training Accuracy: 0.9730, Testing Accuracy: 0.9728\n",
      "\n"
     ]
    },
    {
     "name": "stdout",
     "output_type": "stream",
     "text": [
      "Epoch 210, Loss 0.0232\n",
      "Training Accuracy: 0.9737, Testing Accuracy: 0.9733\n",
      "\n"
     ]
    },
    {
     "name": "stdout",
     "output_type": "stream",
     "text": [
      "Epoch 220, Loss 0.0228\n",
      "Training Accuracy: 0.9742, Testing Accuracy: 0.9733\n",
      "\n"
     ]
    },
    {
     "name": "stdout",
     "output_type": "stream",
     "text": [
      "Epoch 230, Loss 0.0223\n",
      "Training Accuracy: 0.9748, Testing Accuracy: 0.9733\n",
      "\n"
     ]
    },
    {
     "name": "stdout",
     "output_type": "stream",
     "text": [
      "Epoch 240, Loss 0.0219\n",
      "Training Accuracy: 0.9749, Testing Accuracy: 0.9733\n",
      "\n"
     ]
    },
    {
     "data": {
      "text/plain": [
       "0.01830617741218109"
      ]
     },
     "execution_count": 22,
     "metadata": {},
     "output_type": "execute_result"
    }
   ],
   "source": [
    "nn_learner.train_loop(dl)"
   ]
  },
  {
   "cell_type": "code",
   "execution_count": 23,
   "id": "e0163366",
   "metadata": {
    "execution": {
     "iopub.execute_input": "2021-12-25T10:09:06.474808Z",
     "iopub.status.busy": "2021-12-25T10:09:06.474294Z",
     "iopub.status.idle": "2021-12-25T10:09:20.152212Z",
     "shell.execute_reply": "2021-12-25T10:09:20.152944Z"
    },
    "papermill": {
     "duration": 13.725613,
     "end_time": "2021-12-25T10:09:20.153093",
     "exception": false,
     "start_time": "2021-12-25T10:09:06.427480",
     "status": "completed"
    },
    "tags": []
   },
   "outputs": [
    {
     "name": "stdout",
     "output_type": "stream",
     "text": [
      "Epoch 0, Loss 0.2465\n",
      "Training Accuracy: 0.6625, Testing Accuracy: 0.6850\n",
      "\n"
     ]
    },
    {
     "name": "stdout",
     "output_type": "stream",
     "text": [
      "Epoch 10, Loss 0.1029\n",
      "Training Accuracy: 0.9108, Testing Accuracy: 0.9254\n",
      "\n"
     ]
    },
    {
     "name": "stdout",
     "output_type": "stream",
     "text": [
      "Epoch 20, Loss 0.079\n",
      "Training Accuracy: 0.9286, Testing Accuracy: 0.9410\n",
      "\n"
     ]
    },
    {
     "name": "stdout",
     "output_type": "stream",
     "text": [
      "Epoch 30, Loss 0.0681\n",
      "Training Accuracy: 0.9379, Testing Accuracy: 0.9506\n",
      "\n"
     ]
    },
    {
     "name": "stdout",
     "output_type": "stream",
     "text": [
      "Epoch 40, Loss 0.0615\n",
      "Training Accuracy: 0.9433, Testing Accuracy: 0.9521\n",
      "\n"
     ]
    },
    {
     "name": "stdout",
     "output_type": "stream",
     "text": [
      "Epoch 50, Loss 0.057\n",
      "Training Accuracy: 0.9461, Testing Accuracy: 0.9546\n",
      "\n"
     ]
    },
    {
     "name": "stdout",
     "output_type": "stream",
     "text": [
      "Epoch 60, Loss 0.0537\n",
      "Training Accuracy: 0.9486, Testing Accuracy: 0.9577\n",
      "\n"
     ]
    },
    {
     "name": "stdout",
     "output_type": "stream",
     "text": [
      "Epoch 70, Loss 0.0511\n",
      "Training Accuracy: 0.9498, Testing Accuracy: 0.9587\n",
      "\n"
     ]
    },
    {
     "name": "stdout",
     "output_type": "stream",
     "text": [
      "Epoch 80, Loss 0.0491\n",
      "Training Accuracy: 0.9513, Testing Accuracy: 0.9597\n",
      "\n"
     ]
    },
    {
     "name": "stdout",
     "output_type": "stream",
     "text": [
      "Epoch 90, Loss 0.0474\n",
      "Training Accuracy: 0.9521, Testing Accuracy: 0.9597\n",
      "\n"
     ]
    },
    {
     "name": "stdout",
     "output_type": "stream",
     "text": [
      "Epoch 100, Loss 0.046\n",
      "Training Accuracy: 0.9529, Testing Accuracy: 0.9612\n",
      "\n"
     ]
    },
    {
     "name": "stdout",
     "output_type": "stream",
     "text": [
      "Epoch 110, Loss 0.0448\n",
      "Training Accuracy: 0.9542, Testing Accuracy: 0.9612\n",
      "\n"
     ]
    },
    {
     "name": "stdout",
     "output_type": "stream",
     "text": [
      "Epoch 120, Loss 0.0438\n",
      "Training Accuracy: 0.9551, Testing Accuracy: 0.9622\n",
      "\n"
     ]
    },
    {
     "name": "stdout",
     "output_type": "stream",
     "text": [
      "Epoch 130, Loss 0.0428\n",
      "Training Accuracy: 0.9556, Testing Accuracy: 0.9637\n",
      "\n"
     ]
    },
    {
     "name": "stdout",
     "output_type": "stream",
     "text": [
      "Epoch 140, Loss 0.042\n",
      "Training Accuracy: 0.9562, Testing Accuracy: 0.9637\n",
      "\n"
     ]
    },
    {
     "name": "stdout",
     "output_type": "stream",
     "text": [
      "Epoch 150, Loss 0.0413\n",
      "Training Accuracy: 0.9565, Testing Accuracy: 0.9632\n",
      "\n"
     ]
    },
    {
     "name": "stdout",
     "output_type": "stream",
     "text": [
      "Epoch 160, Loss 0.0406\n",
      "Training Accuracy: 0.9568, Testing Accuracy: 0.9637\n",
      "\n"
     ]
    },
    {
     "name": "stdout",
     "output_type": "stream",
     "text": [
      "Epoch 170, Loss 0.04\n",
      "Training Accuracy: 0.9576, Testing Accuracy: 0.9647\n",
      "\n"
     ]
    },
    {
     "name": "stdout",
     "output_type": "stream",
     "text": [
      "Epoch 180, Loss 0.0394\n",
      "Training Accuracy: 0.9580, Testing Accuracy: 0.9657\n",
      "\n"
     ]
    },
    {
     "name": "stdout",
     "output_type": "stream",
     "text": [
      "Epoch 190, Loss 0.0389\n",
      "Training Accuracy: 0.9584, Testing Accuracy: 0.9662\n",
      "\n"
     ]
    },
    {
     "name": "stdout",
     "output_type": "stream",
     "text": [
      "Epoch 200, Loss 0.0384\n",
      "Training Accuracy: 0.9587, Testing Accuracy: 0.9662\n",
      "\n"
     ]
    },
    {
     "name": "stdout",
     "output_type": "stream",
     "text": [
      "Epoch 210, Loss 0.038\n",
      "Training Accuracy: 0.9588, Testing Accuracy: 0.9662\n",
      "\n"
     ]
    },
    {
     "name": "stdout",
     "output_type": "stream",
     "text": [
      "Epoch 220, Loss 0.0376\n",
      "Training Accuracy: 0.9588, Testing Accuracy: 0.9672\n",
      "\n"
     ]
    },
    {
     "name": "stdout",
     "output_type": "stream",
     "text": [
      "Epoch 230, Loss 0.0372\n",
      "Training Accuracy: 0.9592, Testing Accuracy: 0.9672\n",
      "\n"
     ]
    },
    {
     "name": "stdout",
     "output_type": "stream",
     "text": [
      "Epoch 240, Loss 0.0369\n",
      "Training Accuracy: 0.9593, Testing Accuracy: 0.9667\n",
      "\n"
     ]
    },
    {
     "data": {
      "text/plain": [
       "0.024099826338223156"
      ]
     },
     "execution_count": 23,
     "metadata": {},
     "output_type": "execute_result"
    }
   ],
   "source": [
    "lr_learner.train_loop(dl)"
   ]
  },
  {
   "cell_type": "code",
   "execution_count": 24,
   "id": "ca410940",
   "metadata": {
    "execution": {
     "iopub.execute_input": "2021-12-25T10:09:20.251409Z",
     "iopub.status.busy": "2021-12-25T10:09:20.250829Z",
     "iopub.status.idle": "2021-12-25T10:09:20.472022Z",
     "shell.execute_reply": "2021-12-25T10:09:20.471545Z"
    },
    "papermill": {
     "duration": 0.277088,
     "end_time": "2021-12-25T10:09:20.472139",
     "exception": false,
     "start_time": "2021-12-25T10:09:20.195051",
     "status": "completed"
    },
    "tags": []
   },
   "outputs": [
    {
     "data": {
      "text/plain": [
       "<matplotlib.legend.Legend at 0x7fcf1c077be0>"
      ]
     },
     "execution_count": 24,
     "metadata": {},
     "output_type": "execute_result"
    },
    {
     "data": {
      "image/png": "[encoded data removed]",
      "text/plain": [
       "<Figure size 1080x720 with 1 Axes>"
      ]
     },
     "metadata": {
      "needs_background": "light"
     },
     "output_type": "display_data"
    }
   ],
   "source": [
    "#comparing the results of NN and LR\n",
    "plt.figure(figsize=(15,10))\n",
    "\n",
    "# Neural Network plots\n",
    "plt.plot(acc_nn.accuracies, 'r-', label = \"Training Accuracies - NN\")\n",
    "plt.plot(acc_nn.test_accuracies, 'g-', label = \"Testing Accuracies - NN\")\n",
    "\n",
    "# Logistic Regression plots\n",
    "plt.plot(acc_lr.accuracies, 'k-', label = \"Training Accuracies - LR\")\n",
    "plt.plot(acc_lr.test_accuracies, 'b-', label = \"Testing Accuracies - LR\")\n",
    "plt.legend()"
   ]
  },
  {
   "cell_type": "markdown",
   "id": "80dfb35c",
   "metadata": {
    "papermill": {
     "duration": 0.042463,
     "end_time": "2021-12-25T10:09:20.557538",
     "exception": false,
     "start_time": "2021-12-25T10:09:20.515075",
     "status": "completed"
    },
    "tags": []
   },
   "source": [
    "#### Plotting the outputs of this layer of the NN.\n"
   ]
  },
  {
   "cell_type": "code",
   "execution_count": 25,
   "id": "45eb2ff5",
   "metadata": {
    "execution": {
     "iopub.execute_input": "2021-12-25T10:09:20.656436Z",
     "iopub.status.busy": "2021-12-25T10:09:20.647451Z",
     "iopub.status.idle": "2021-12-25T10:09:20.670151Z",
     "shell.execute_reply": "2021-12-25T10:09:20.670602Z"
    },
    "papermill": {
     "duration": 0.070368,
     "end_time": "2021-12-25T10:09:20.670759",
     "exception": false,
     "start_time": "2021-12-25T10:09:20.600391",
     "status": "completed"
    },
    "tags": []
   },
   "outputs": [],
   "source": [
    "new_model = Model(layers[:-2])\n",
    "testing_plot = new_model(testing_data_x)"
   ]
  },
  {
   "cell_type": "code",
   "execution_count": 26,
   "id": "4c0a5485",
   "metadata": {
    "execution": {
     "iopub.execute_input": "2021-12-25T10:09:20.792645Z",
     "iopub.status.busy": "2021-12-25T10:09:20.786667Z",
     "iopub.status.idle": "2021-12-25T10:09:20.956957Z",
     "shell.execute_reply": "2021-12-25T10:09:20.957374Z"
    },
    "papermill": {
     "duration": 0.242697,
     "end_time": "2021-12-25T10:09:20.957510",
     "exception": false,
     "start_time": "2021-12-25T10:09:20.714813",
     "status": "completed"
    },
    "tags": []
   },
   "outputs": [
    {
     "data": {
      "text/plain": [
       "Text(0.5, 1.0, 'Outputs')"
      ]
     },
     "execution_count": 26,
     "metadata": {},
     "output_type": "execute_result"
    },
    {
     "data": {
      "image/png": "[encoded data removed]",
      "text/plain": [
       "<Figure size 576x504 with 1 Axes>"
      ]
     },
     "metadata": {
      "needs_background": "light"
     },
     "output_type": "display_data"
    }
   ],
   "source": [
    "# Plotting the scatter plot of points and color coding by class\n",
    "plt.figure(figsize=(8,7))\n",
    "plt.scatter(testing_plot[:,0], testing_plot[:,1], alpha = 0.1, c = y_test.ravel());\n",
    "plt.title('Outputs')"
   ]
  },
  {
   "cell_type": "markdown",
   "id": "a74fcf8f",
   "metadata": {
    "papermill": {
     "duration": 0.044485,
     "end_time": "2021-12-25T10:09:21.047050",
     "exception": false,
     "start_time": "2021-12-25T10:09:21.002565",
     "status": "completed"
    },
    "tags": []
   },
   "source": [
    "Probability contours"
   ]
  },
  {
   "cell_type": "code",
   "execution_count": 27,
   "id": "d0afc8e3",
   "metadata": {
    "execution": {
     "iopub.execute_input": "2021-12-25T10:09:21.140723Z",
     "iopub.status.busy": "2021-12-25T10:09:21.140170Z",
     "iopub.status.idle": "2021-12-25T10:09:21.151463Z",
     "shell.execute_reply": "2021-12-25T10:09:21.151879Z"
    },
    "papermill": {
     "duration": 0.060303,
     "end_time": "2021-12-25T10:09:21.152013",
     "exception": false,
     "start_time": "2021-12-25T10:09:21.091710",
     "status": "completed"
    },
    "tags": []
   },
   "outputs": [],
   "source": [
    "model_prob = Model(layers[-2:]) "
   ]
  },
  {
   "cell_type": "code",
   "execution_count": 28,
   "id": "9b96e238",
   "metadata": {
    "execution": {
     "iopub.execute_input": "2021-12-25T10:09:21.246553Z",
     "iopub.status.busy": "2021-12-25T10:09:21.246014Z",
     "iopub.status.idle": "2021-12-25T10:09:21.259687Z",
     "shell.execute_reply": "2021-12-25T10:09:21.260110Z"
    },
    "papermill": {
     "duration": 0.063333,
     "end_time": "2021-12-25T10:09:21.260250",
     "exception": false,
     "start_time": "2021-12-25T10:09:21.196917",
     "status": "completed"
    },
    "tags": []
   },
   "outputs": [],
   "source": [
    "#creating the x and y ranges according to the above generated plot.\n",
    "x_range = np.linspace(-4, 1, 100) \n",
    "y_range = np.linspace(-6, 6, 100) \n",
    "x_grid, y_grid = np.meshgrid(x_range, y_range) # x_grid and y_grig are of size 100 X 100\n",
    "\n",
    "# converting x_grid and y_grid to continuous arrays\n",
    "x_gridflat = np.ravel(x_grid)\n",
    "y_gridflat = np.ravel(y_grid)\n",
    "\n",
    "# The last layer of the current model takes two columns as input. Hence transpose of np.vstack() is required.\n",
    "X = np.vstack((x_gridflat, y_gridflat)).T\n",
    "\n",
    "prob_contour = model_prob(X).reshape(100,100) "
   ]
  },
  {
   "cell_type": "code",
   "execution_count": 29,
   "id": "da72499a",
   "metadata": {
    "execution": {
     "iopub.execute_input": "2021-12-25T10:09:21.383450Z",
     "iopub.status.busy": "2021-12-25T10:09:21.382895Z",
     "iopub.status.idle": "2021-12-25T10:09:21.623602Z",
     "shell.execute_reply": "2021-12-25T10:09:21.624044Z"
    },
    "papermill": {
     "duration": 0.318602,
     "end_time": "2021-12-25T10:09:21.624190",
     "exception": false,
     "start_time": "2021-12-25T10:09:21.305588",
     "status": "completed"
    },
    "tags": []
   },
   "outputs": [
    {
     "data": {
      "image/png": "[encoded data removed]",
      "text/plain": [
       "<Figure size 720x648 with 1 Axes>"
      ]
     },
     "metadata": {
      "needs_background": "light"
     },
     "output_type": "display_data"
    }
   ],
   "source": [
    "plt.figure(figsize=(10,9))\n",
    "plt.scatter(testing_plot[:,0], testing_plot[:,1], alpha = 0.1, c = y_test.ravel())\n",
    "contours = plt.contour(x_grid,y_grid,prob_contour)\n",
    "plt.title('Probability Contours')\n",
    "plt.clabel(contours, inline = True );"
   ]
  },
  {
   "cell_type": "code",
   "execution_count": null,
   "id": "e81b4ac7",
   "metadata": {
    "papermill": {
     "duration": 0.047145,
     "end_time": "2021-12-25T10:09:21.719086",
     "exception": false,
     "start_time": "2021-12-25T10:09:21.671941",
     "status": "completed"
    },
    "tags": []
   },
   "outputs": [],
   "source": []
  }
 ],
 "metadata": {
  "kernelspec": {
   "display_name": "Python 3",
   "language": "python",
   "name": "python3"
  },
  "language_info": {
   "codemirror_mode": {
    "name": "ipython",
    "version": 3
   },
   "file_extension": ".py",
   "mimetype": "text/x-python",
   "name": "python",
   "nbconvert_exporter": "python",
   "pygments_lexer": "ipython3",
   "version": "3.6.15"
  },
  "papermill": {
   "default_parameters": {},
   "duration": 98.667262,
   "end_time": "2021-12-25T10:09:22.074377",
   "environment_variables": {},
   "exception": null,
   "input_path": "2020-08-11-part2.ipynb",
   "output_path": "2020-08-11-part2.ipynb",
   "parameters": {},
   "start_time": "2021-12-25T10:07:43.407115",
   "version": "2.3.3"
  }
 },
 "nbformat": 4,
 "nbformat_minor": 5
}