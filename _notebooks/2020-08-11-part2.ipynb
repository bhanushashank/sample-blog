{
 "cells": [
  {
   "cell_type": "markdown",
   "id": "98380cd3",
   "metadata": {
    "papermill": {
     "duration": 0.028597,
     "end_time": "2022-04-09T20:09:50.970166",
     "exception": false,
     "start_time": "2022-04-09T20:09:50.941569",
     "status": "completed"
    },
    "tags": []
   },
   "source": [
    "# Distinguish Your Own Digits (DYOD)"
   ]
  },
  {
   "cell_type": "markdown",
   "id": "ef31240d",
   "metadata": {
    "papermill": {
     "duration": 0.025115,
     "end_time": "2022-04-09T20:09:51.019658",
     "exception": false,
     "start_time": "2022-04-09T20:09:50.994543",
     "status": "completed"
    },
    "tags": []
   },
   "source": [
    "You are going to write a classifier that distinguishes between the number 3 and number 8."
   ]
  },
  {
   "cell_type": "code",
   "execution_count": 1,
   "id": "b15c8646",
   "metadata": {
    "execution": {
     "iopub.execute_input": "2022-04-09T20:09:51.077053Z",
     "iopub.status.busy": "2022-04-09T20:09:51.076519Z",
     "iopub.status.idle": "2022-04-09T20:09:51.086421Z",
     "shell.execute_reply": "2022-04-09T20:09:51.086846Z"
    },
    "papermill": {
     "duration": 0.043737,
     "end_time": "2022-04-09T20:09:51.087002",
     "exception": false,
     "start_time": "2022-04-09T20:09:51.043265",
     "status": "completed"
    },
    "tags": []
   },
   "outputs": [],
   "source": [
    "%load_ext autoreload\n",
    "%autoreload 2"
   ]
  },
  {
   "cell_type": "code",
   "execution_count": 2,
   "id": "22ef38dc",
   "metadata": {
    "execution": {
     "iopub.execute_input": "2022-04-09T20:09:51.138709Z",
     "iopub.status.busy": "2022-04-09T20:09:51.138149Z",
     "iopub.status.idle": "2022-04-09T20:09:51.713181Z",
     "shell.execute_reply": "2022-04-09T20:09:51.712648Z"
    },
    "papermill": {
     "duration": 0.60246,
     "end_time": "2022-04-09T20:09:51.713326",
     "exception": false,
     "start_time": "2022-04-09T20:09:51.110866",
     "status": "completed"
    },
    "tags": []
   },
   "outputs": [],
   "source": [
    "%matplotlib inline\n",
    "import numpy as np\n",
    "import matplotlib.pyplot as plt\n",
    "import pandas as pd"
   ]
  },
  {
   "cell_type": "markdown",
   "id": "ba036198",
   "metadata": {
    "papermill": {
     "duration": 0.023791,
     "end_time": "2022-04-09T20:09:51.762318",
     "exception": false,
     "start_time": "2022-04-09T20:09:51.738527",
     "status": "completed"
    },
    "tags": []
   },
   "source": [
    "From the command line run `pip install mnist`. This is a library that will help you bring down the mnist dataset. If you run this from a notebook, you need to put  `!pip install mnist` in a cell by itself."
   ]
  },
  {
   "cell_type": "code",
   "execution_count": 3,
   "id": "bb6ad8a1",
   "metadata": {
    "execution": {
     "iopub.execute_input": "2022-04-09T20:09:51.814148Z",
     "iopub.status.busy": "2022-04-09T20:09:51.813642Z",
     "iopub.status.idle": "2022-04-09T20:09:53.505285Z",
     "shell.execute_reply": "2022-04-09T20:09:53.504789Z"
    },
    "papermill": {
     "duration": 1.719331,
     "end_time": "2022-04-09T20:09:53.505407",
     "exception": false,
     "start_time": "2022-04-09T20:09:51.786076",
     "status": "completed"
    },
    "tags": []
   },
   "outputs": [
    {
     "name": "stdout",
     "output_type": "stream",
     "text": [
      "Collecting mnist\r\n",
      "  Downloading mnist-0.2.2-py2.py3-none-any.whl (3.5 kB)\r\n",
      "Requirement already satisfied: numpy in /opt/hostedtoolcache/Python/3.6.15/x64/lib/python3.6/site-packages (from mnist) (1.19.5)\r\n"
     ]
    },
    {
     "name": "stdout",
     "output_type": "stream",
     "text": [
      "Installing collected packages: mnist\r\n"
     ]
    },
    {
     "name": "stdout",
     "output_type": "stream",
     "text": [
      "Successfully installed mnist-0.2.2\r\n"
     ]
    }
   ],
   "source": [
    "!pip install mnist"
   ]
  },
  {
   "cell_type": "markdown",
   "id": "69df9c9a",
   "metadata": {
    "papermill": {
     "duration": 0.024749,
     "end_time": "2022-04-09T20:09:53.555178",
     "exception": false,
     "start_time": "2022-04-09T20:09:53.530429",
     "status": "completed"
    },
    "tags": []
   },
   "source": [
    "## Preparing the Data"
   ]
  },
  {
   "cell_type": "code",
   "execution_count": 4,
   "id": "7f69d806",
   "metadata": {
    "execution": {
     "iopub.execute_input": "2022-04-09T20:09:53.611686Z",
     "iopub.status.busy": "2022-04-09T20:09:53.610649Z",
     "iopub.status.idle": "2022-04-09T20:09:53.623934Z",
     "shell.execute_reply": "2022-04-09T20:09:53.624327Z"
    },
    "papermill": {
     "duration": 0.044711,
     "end_time": "2022-04-09T20:09:53.624458",
     "exception": false,
     "start_time": "2022-04-09T20:09:53.579747",
     "status": "completed"
    },
    "tags": []
   },
   "outputs": [],
   "source": [
    "import mnist"
   ]
  },
  {
   "cell_type": "code",
   "execution_count": 5,
   "id": "a411e44f",
   "metadata": {
    "execution": {
     "iopub.execute_input": "2022-04-09T20:09:53.692157Z",
     "iopub.status.busy": "2022-04-09T20:09:53.691650Z",
     "iopub.status.idle": "2022-04-09T20:09:54.280514Z",
     "shell.execute_reply": "2022-04-09T20:09:54.279527Z"
    },
    "papermill": {
     "duration": 0.631473,
     "end_time": "2022-04-09T20:09:54.280666",
     "exception": false,
     "start_time": "2022-04-09T20:09:53.649193",
     "status": "completed"
    },
    "tags": []
   },
   "outputs": [],
   "source": [
    "train_images = mnist.train_images()\n",
    "train_labels = mnist.train_labels()"
   ]
  },
  {
   "cell_type": "code",
   "execution_count": 6,
   "id": "dceab3a5",
   "metadata": {
    "execution": {
     "iopub.execute_input": "2022-04-09T20:09:54.335773Z",
     "iopub.status.busy": "2022-04-09T20:09:54.335157Z",
     "iopub.status.idle": "2022-04-09T20:09:54.348330Z",
     "shell.execute_reply": "2022-04-09T20:09:54.347912Z"
    },
    "papermill": {
     "duration": 0.041655,
     "end_time": "2022-04-09T20:09:54.348441",
     "exception": false,
     "start_time": "2022-04-09T20:09:54.306786",
     "status": "completed"
    },
    "tags": []
   },
   "outputs": [
    {
     "data": {
      "text/plain": [
       "((60000, 28, 28), (60000,))"
      ]
     },
     "execution_count": 6,
     "metadata": {},
     "output_type": "execute_result"
    }
   ],
   "source": [
    "train_images.shape, train_labels.shape"
   ]
  },
  {
   "cell_type": "code",
   "execution_count": 7,
   "id": "f50dc2bb",
   "metadata": {
    "execution": {
     "iopub.execute_input": "2022-04-09T20:09:54.401706Z",
     "iopub.status.busy": "2022-04-09T20:09:54.401206Z",
     "iopub.status.idle": "2022-04-09T20:09:54.582245Z",
     "shell.execute_reply": "2022-04-09T20:09:54.581731Z"
    },
    "papermill": {
     "duration": 0.209041,
     "end_time": "2022-04-09T20:09:54.582381",
     "exception": false,
     "start_time": "2022-04-09T20:09:54.373340",
     "status": "completed"
    },
    "tags": []
   },
   "outputs": [],
   "source": [
    "test_images = mnist.test_images()\n",
    "test_labels = mnist.test_labels()"
   ]
  },
  {
   "cell_type": "code",
   "execution_count": 8,
   "id": "fc38cf1b",
   "metadata": {
    "execution": {
     "iopub.execute_input": "2022-04-09T20:09:54.651145Z",
     "iopub.status.busy": "2022-04-09T20:09:54.639226Z",
     "iopub.status.idle": "2022-04-09T20:09:54.654112Z",
     "shell.execute_reply": "2022-04-09T20:09:54.653675Z"
    },
    "papermill": {
     "duration": 0.044348,
     "end_time": "2022-04-09T20:09:54.654220",
     "exception": false,
     "start_time": "2022-04-09T20:09:54.609872",
     "status": "completed"
    },
    "tags": []
   },
   "outputs": [
    {
     "data": {
      "text/plain": [
       "((10000, 28, 28), (10000,))"
      ]
     },
     "execution_count": 8,
     "metadata": {},
     "output_type": "execute_result"
    }
   ],
   "source": [
    "test_images.shape, test_labels.shape"
   ]
  },
  {
   "cell_type": "code",
   "execution_count": 9,
   "id": "f9ed8fe0",
   "metadata": {
    "execution": {
     "iopub.execute_input": "2022-04-09T20:09:54.708487Z",
     "iopub.status.busy": "2022-04-09T20:09:54.707988Z",
     "iopub.status.idle": "2022-04-09T20:09:54.844643Z",
     "shell.execute_reply": "2022-04-09T20:09:54.844193Z"
    },
    "papermill": {
     "duration": 0.165352,
     "end_time": "2022-04-09T20:09:54.844759",
     "exception": false,
     "start_time": "2022-04-09T20:09:54.679407",
     "status": "completed"
    },
    "tags": []
   },
   "outputs": [
    {
     "name": "stdout",
     "output_type": "stream",
     "text": [
      "2\n"
     ]
    },
    {
     "data": {
      "text/plain": [
       "<matplotlib.image.AxesImage at 0x7fe9529f74e0>"
      ]
     },
     "execution_count": 9,
     "metadata": {},
     "output_type": "execute_result"
    },
    {
     "data": {
      "image/png": "[encoded data removed]",
      "text/plain": [
       "<Figure size 432x288 with 1 Axes>"
      ]
     },
     "metadata": {
      "needs_background": "light"
     },
     "output_type": "display_data"
    }
   ],
   "source": [
    "image_index = 7776 # You may select anything up to 60,000\n",
    "print(train_labels[image_index]) \n",
    "plt.imshow(train_images[image_index], cmap='Greys')"
   ]
  },
  {
   "cell_type": "markdown",
   "id": "a8d2388d",
   "metadata": {
    "papermill": {
     "duration": 0.026582,
     "end_time": "2022-04-09T20:09:54.897799",
     "exception": false,
     "start_time": "2022-04-09T20:09:54.871217",
     "status": "completed"
    },
    "tags": []
   },
   "source": [
    "## Filter data to get 3 and 8 out"
   ]
  },
  {
   "cell_type": "code",
   "execution_count": 10,
   "id": "776f7fc7",
   "metadata": {
    "execution": {
     "iopub.execute_input": "2022-04-09T20:09:54.956982Z",
     "iopub.status.busy": "2022-04-09T20:09:54.953616Z",
     "iopub.status.idle": "2022-04-09T20:09:54.972861Z",
     "shell.execute_reply": "2022-04-09T20:09:54.972446Z"
    },
    "papermill": {
     "duration": 0.048946,
     "end_time": "2022-04-09T20:09:54.972972",
     "exception": false,
     "start_time": "2022-04-09T20:09:54.924026",
     "status": "completed"
    },
    "tags": []
   },
   "outputs": [],
   "source": [
    "train_filter = np.where((train_labels == 3 ) | (train_labels == 8))\n",
    "test_filter = np.where((test_labels == 3) | (test_labels == 8))\n",
    "X_train, y_train = train_images[train_filter], train_labels[train_filter]\n",
    "X_test, y_test = test_images[test_filter], test_labels[test_filter]"
   ]
  },
  {
   "cell_type": "markdown",
   "id": "948f0b7e",
   "metadata": {
    "papermill": {
     "duration": 0.026112,
     "end_time": "2022-04-09T20:09:55.025350",
     "exception": false,
     "start_time": "2022-04-09T20:09:54.999238",
     "status": "completed"
    },
    "tags": []
   },
   "source": [
    "We normalize the pizel values in the 0 to 1 range"
   ]
  },
  {
   "cell_type": "code",
   "execution_count": 11,
   "id": "ee4c2166",
   "metadata": {
    "execution": {
     "iopub.execute_input": "2022-04-09T20:09:55.081142Z",
     "iopub.status.busy": "2022-04-09T20:09:55.080623Z",
     "iopub.status.idle": "2022-04-09T20:09:55.128357Z",
     "shell.execute_reply": "2022-04-09T20:09:55.127882Z"
    },
    "papermill": {
     "duration": 0.076976,
     "end_time": "2022-04-09T20:09:55.128477",
     "exception": false,
     "start_time": "2022-04-09T20:09:55.051501",
     "status": "completed"
    },
    "tags": []
   },
   "outputs": [],
   "source": [
    "X_train = X_train/255.\n",
    "X_test = X_test/255."
   ]
  },
  {
   "cell_type": "markdown",
   "id": "ddcf4fab",
   "metadata": {
    "papermill": {
     "duration": 0.026229,
     "end_time": "2022-04-09T20:09:55.181246",
     "exception": false,
     "start_time": "2022-04-09T20:09:55.155017",
     "status": "completed"
    },
    "tags": []
   },
   "source": [
    "And setup the labels as 1 (when the digit is 3) and 0 (when the digit is 8)"
   ]
  },
  {
   "cell_type": "code",
   "execution_count": 12,
   "id": "7dc908f2",
   "metadata": {
    "execution": {
     "iopub.execute_input": "2022-04-09T20:09:55.236976Z",
     "iopub.status.busy": "2022-04-09T20:09:55.236463Z",
     "iopub.status.idle": "2022-04-09T20:09:55.249215Z",
     "shell.execute_reply": "2022-04-09T20:09:55.248801Z"
    },
    "papermill": {
     "duration": 0.041951,
     "end_time": "2022-04-09T20:09:55.249322",
     "exception": false,
     "start_time": "2022-04-09T20:09:55.207371",
     "status": "completed"
    },
    "tags": []
   },
   "outputs": [],
   "source": [
    "y_train = 1*(y_train==3)\n",
    "y_test = 1*(y_test==3)"
   ]
  },
  {
   "cell_type": "code",
   "execution_count": 13,
   "id": "01e4e969",
   "metadata": {
    "execution": {
     "iopub.execute_input": "2022-04-09T20:09:55.307630Z",
     "iopub.status.busy": "2022-04-09T20:09:55.307130Z",
     "iopub.status.idle": "2022-04-09T20:09:55.318570Z",
     "shell.execute_reply": "2022-04-09T20:09:55.318143Z"
    },
    "papermill": {
     "duration": 0.043212,
     "end_time": "2022-04-09T20:09:55.318678",
     "exception": false,
     "start_time": "2022-04-09T20:09:55.275466",
     "status": "completed"
    },
    "tags": []
   },
   "outputs": [
    {
     "data": {
      "text/plain": [
       "((11982, 28, 28), (1984, 28, 28))"
      ]
     },
     "execution_count": 13,
     "metadata": {},
     "output_type": "execute_result"
    }
   ],
   "source": [
    "X_train.shape, X_test.shape"
   ]
  },
  {
   "cell_type": "markdown",
   "id": "5ccf3f85",
   "metadata": {
    "papermill": {
     "duration": 0.026288,
     "end_time": "2022-04-09T20:09:55.371273",
     "exception": false,
     "start_time": "2022-04-09T20:09:55.344985",
     "status": "completed"
    },
    "tags": []
   },
   "source": [
    "We reshape the data to flatten the image pixels into a set of features or co-variates:"
   ]
  },
  {
   "cell_type": "code",
   "execution_count": 14,
   "id": "5286a4a3",
   "metadata": {
    "execution": {
     "iopub.execute_input": "2022-04-09T20:09:55.431674Z",
     "iopub.status.busy": "2022-04-09T20:09:55.431168Z",
     "iopub.status.idle": "2022-04-09T20:09:55.442575Z",
     "shell.execute_reply": "2022-04-09T20:09:55.442122Z"
    },
    "papermill": {
     "duration": 0.044399,
     "end_time": "2022-04-09T20:09:55.442684",
     "exception": false,
     "start_time": "2022-04-09T20:09:55.398285",
     "status": "completed"
    },
    "tags": []
   },
   "outputs": [
    {
     "data": {
      "text/plain": [
       "((11982, 784), (1984, 784))"
      ]
     },
     "execution_count": 14,
     "metadata": {},
     "output_type": "execute_result"
    }
   ],
   "source": [
    "X_train = X_train.reshape(X_train.shape[0], -1)\n",
    "X_test = X_test.reshape(X_test.shape[0], -1)\n",
    "X_train.shape, X_test.shape"
   ]
  },
  {
   "cell_type": "code",
   "execution_count": 15,
   "id": "73c5f88a",
   "metadata": {
    "execution": {
     "iopub.execute_input": "2022-04-09T20:09:55.500777Z",
     "iopub.status.busy": "2022-04-09T20:09:55.500272Z",
     "iopub.status.idle": "2022-04-09T20:09:55.517969Z",
     "shell.execute_reply": "2022-04-09T20:09:55.517476Z"
    },
    "papermill": {
     "duration": 0.048822,
     "end_time": "2022-04-09T20:09:55.518086",
     "exception": false,
     "start_time": "2022-04-09T20:09:55.469264",
     "status": "completed"
    },
    "tags": []
   },
   "outputs": [],
   "source": [
    "#Impoting functions from 'Kudzu'\n",
    "from kudzu.model import Model\n",
    "from kudzu.train import Learner\n",
    "from kudzu.optim import GD\n",
    "from kudzu.data import Data, Sampler,Dataloader\n",
    "\n",
    "from kudzu.callbacks import AccCallback\n",
    "from kudzu.callbacks import ClfCallback\n",
    "\n",
    "from kudzu.loss import MSE\n",
    "\n",
    "from kudzu.layer import Sigmoid,Relu\n",
    "from kudzu.layer import Affine"
   ]
  },
  {
   "cell_type": "markdown",
   "id": "bc01172a",
   "metadata": {
    "papermill": {
     "duration": 0.02666,
     "end_time": "2022-04-09T20:09:55.572369",
     "exception": false,
     "start_time": "2022-04-09T20:09:55.545709",
     "status": "completed"
    },
    "tags": []
   },
   "source": [
    "### Let us create a `Config` class, to store important parameters. \n",
    "This class essentially plays the role of a dictionary."
   ]
  },
  {
   "cell_type": "code",
   "execution_count": 16,
   "id": "978281aa",
   "metadata": {
    "execution": {
     "iopub.execute_input": "2022-04-09T20:09:55.642475Z",
     "iopub.status.busy": "2022-04-09T20:09:55.639187Z",
     "iopub.status.idle": "2022-04-09T20:09:55.644728Z",
     "shell.execute_reply": "2022-04-09T20:09:55.644295Z"
    },
    "papermill": {
     "duration": 0.04588,
     "end_time": "2022-04-09T20:09:55.644832",
     "exception": false,
     "start_time": "2022-04-09T20:09:55.598952",
     "status": "completed"
    },
    "tags": []
   },
   "outputs": [],
   "source": [
    "class Config:\n",
    "    pass\n",
    "config = Config()\n",
    "config.lr = 0.001\n",
    "config.num_epochs = 250\n",
    "config.bs = 50"
   ]
  },
  {
   "cell_type": "markdown",
   "id": "1385fa59",
   "metadata": {
    "papermill": {
     "duration": 0.026711,
     "end_time": "2022-04-09T20:09:55.698279",
     "exception": false,
     "start_time": "2022-04-09T20:09:55.671568",
     "status": "completed"
    },
    "tags": []
   },
   "source": [
    "### Running Models with the Training data\n",
    "Details about the network layers:\n",
    "- A first affine layer has 784 inputs and does 100 affine transforms. These are followed by a Relu\n",
    "- A second affine layer has 100 inputs from the 100 activations of the past layer, and does 100 affine transforms. These are followed by a Relu\n",
    "- A third affine layer has 100 activations and does 2 affine transformations to create an embedding for visualization. There is no non-linearity here.\n",
    "- A final \"logistic regression\" which has an affine transform from 2 inputs to 1 output, which is squeezed through a sigmoid.\n"
   ]
  },
  {
   "cell_type": "code",
   "execution_count": 17,
   "id": "2b9c66db",
   "metadata": {
    "execution": {
     "iopub.execute_input": "2022-04-09T20:09:55.755256Z",
     "iopub.status.busy": "2022-04-09T20:09:55.754740Z",
     "iopub.status.idle": "2022-04-09T20:09:55.766904Z",
     "shell.execute_reply": "2022-04-09T20:09:55.767381Z"
    },
    "papermill": {
     "duration": 0.042423,
     "end_time": "2022-04-09T20:09:55.767497",
     "exception": false,
     "start_time": "2022-04-09T20:09:55.725074",
     "status": "completed"
    },
    "tags": []
   },
   "outputs": [],
   "source": [
    "data = Data(X_train, y_train.reshape(-1,1))\n",
    "sampler = Sampler(data, config.bs, shuffle=True)\n",
    "\n",
    "dl = Dataloader(data, sampler)\n",
    "\n",
    "opt = GD(config.lr)\n",
    "loss = MSE()"
   ]
  },
  {
   "cell_type": "code",
   "execution_count": 18,
   "id": "b275e4c2",
   "metadata": {
    "execution": {
     "iopub.execute_input": "2022-04-09T20:09:55.832027Z",
     "iopub.status.busy": "2022-04-09T20:09:55.831522Z",
     "iopub.status.idle": "2022-04-09T20:09:55.838668Z",
     "shell.execute_reply": "2022-04-09T20:09:55.838235Z"
    },
    "papermill": {
     "duration": 0.044635,
     "end_time": "2022-04-09T20:09:55.838776",
     "exception": false,
     "start_time": "2022-04-09T20:09:55.794141",
     "status": "completed"
    },
    "tags": []
   },
   "outputs": [],
   "source": [
    "training_data_x = X_train\n",
    "testing_data_x = X_test\n",
    "training_data_y = y_train.reshape(-1,1)\n",
    "testing_data_y = y_test.reshape(-1,1)"
   ]
  },
  {
   "cell_type": "code",
   "execution_count": 19,
   "id": "76951160",
   "metadata": {
    "execution": {
     "iopub.execute_input": "2022-04-09T20:09:55.897724Z",
     "iopub.status.busy": "2022-04-09T20:09:55.897211Z",
     "iopub.status.idle": "2022-04-09T20:09:55.911424Z",
     "shell.execute_reply": "2022-04-09T20:09:55.910998Z"
    },
    "papermill": {
     "duration": 0.046239,
     "end_time": "2022-04-09T20:09:55.911523",
     "exception": false,
     "start_time": "2022-04-09T20:09:55.865284",
     "status": "completed"
    },
    "tags": []
   },
   "outputs": [
    {
     "name": "stdout",
     "output_type": "stream",
     "text": [
      "xavier\n",
      "xavier\n",
      "xavier\n",
      "xavier\n",
      "xavier\n"
     ]
    }
   ],
   "source": [
    "layers = [Affine(\"first\", 784, 100), Relu(\"first\"), Affine(\"second\", 100, 100), Relu(\"second\"), Affine(\"third\", 100, 2), Affine(\"last\", 2, 1), Sigmoid(\"last\")]\n",
    "model_nn = Model(layers)\n",
    "model_lr = Model([Affine(\"logits\", 784, 1), Sigmoid(\"sigmoid\")])"
   ]
  },
  {
   "cell_type": "code",
   "execution_count": 20,
   "id": "6eede77a",
   "metadata": {
    "execution": {
     "iopub.execute_input": "2022-04-09T20:09:55.972169Z",
     "iopub.status.busy": "2022-04-09T20:09:55.971666Z",
     "iopub.status.idle": "2022-04-09T20:09:55.980784Z",
     "shell.execute_reply": "2022-04-09T20:09:55.980354Z"
    },
    "papermill": {
     "duration": 0.042481,
     "end_time": "2022-04-09T20:09:55.980884",
     "exception": false,
     "start_time": "2022-04-09T20:09:55.938403",
     "status": "completed"
    },
    "tags": []
   },
   "outputs": [],
   "source": [
    "nn_learner = Learner(loss, model_nn, opt, config.num_epochs)\n",
    "acc_nn = ClfCallback(nn_learner, config.bs, training_data_x , testing_data_x, training_data_y, testing_data_y)\n",
    "nn_learner.set_callbacks([acc_nn])"
   ]
  },
  {
   "cell_type": "code",
   "execution_count": 21,
   "id": "877b6cc7",
   "metadata": {
    "execution": {
     "iopub.execute_input": "2022-04-09T20:09:56.045427Z",
     "iopub.status.busy": "2022-04-09T20:09:56.044925Z",
     "iopub.status.idle": "2022-04-09T20:09:56.053316Z",
     "shell.execute_reply": "2022-04-09T20:09:56.052891Z"
    },
    "papermill": {
     "duration": 0.045644,
     "end_time": "2022-04-09T20:09:56.053416",
     "exception": false,
     "start_time": "2022-04-09T20:09:56.007772",
     "status": "completed"
    },
    "tags": []
   },
   "outputs": [],
   "source": [
    "lr_learner = Learner(loss, model_lr, opt, config.num_epochs)\n",
    "acc_lr = ClfCallback(lr_learner, config.bs, training_data_x , testing_data_x, training_data_y, testing_data_y)\n",
    "lr_learner.set_callbacks([acc_lr])"
   ]
  },
  {
   "cell_type": "code",
   "execution_count": 22,
   "id": "d9b133c3",
   "metadata": {
    "execution": {
     "iopub.execute_input": "2022-04-09T20:09:56.123046Z",
     "iopub.status.busy": "2022-04-09T20:09:56.119164Z",
     "iopub.status.idle": "2022-04-09T20:11:10.189963Z",
     "shell.execute_reply": "2022-04-09T20:11:10.190724Z"
    },
    "papermill": {
     "duration": 74.110437,
     "end_time": "2022-04-09T20:11:10.190876",
     "exception": false,
     "start_time": "2022-04-09T20:09:56.080439",
     "status": "completed"
    },
    "tags": []
   },
   "outputs": [
    {
     "name": "stdout",
     "output_type": "stream",
     "text": [
      "Epoch 0, Loss 0.2455\n",
      "Training Accuracy: 0.6666, Testing Accuracy: 0.6860\n",
      "\n"
     ]
    },
    {
     "name": "stdout",
     "output_type": "stream",
     "text": [
      "Epoch 10, Loss 0.093\n",
      "Training Accuracy: 0.9124, Testing Accuracy: 0.9259\n",
      "\n"
     ]
    },
    {
     "name": "stdout",
     "output_type": "stream",
     "text": [
      "Epoch 20, Loss 0.0584\n",
      "Training Accuracy: 0.9374, Testing Accuracy: 0.9481\n",
      "\n"
     ]
    },
    {
     "name": "stdout",
     "output_type": "stream",
     "text": [
      "Epoch 30, Loss 0.046\n",
      "Training Accuracy: 0.9495, Testing Accuracy: 0.9556\n",
      "\n"
     ]
    },
    {
     "name": "stdout",
     "output_type": "stream",
     "text": [
      "Epoch 40, Loss 0.0397\n",
      "Training Accuracy: 0.9553, Testing Accuracy: 0.9602\n",
      "\n"
     ]
    },
    {
     "name": "stdout",
     "output_type": "stream",
     "text": [
      "Epoch 50, Loss 0.0358\n",
      "Training Accuracy: 0.9596, Testing Accuracy: 0.9617\n",
      "\n"
     ]
    },
    {
     "name": "stdout",
     "output_type": "stream",
     "text": [
      "Epoch 60, Loss 0.0331\n",
      "Training Accuracy: 0.9620, Testing Accuracy: 0.9647\n",
      "\n"
     ]
    },
    {
     "name": "stdout",
     "output_type": "stream",
     "text": [
      "Epoch 70, Loss 0.0311\n",
      "Training Accuracy: 0.9647, Testing Accuracy: 0.9652\n",
      "\n"
     ]
    },
    {
     "name": "stdout",
     "output_type": "stream",
     "text": [
      "Epoch 80, Loss 0.0295\n",
      "Training Accuracy: 0.9655, Testing Accuracy: 0.9652\n",
      "\n"
     ]
    },
    {
     "name": "stdout",
     "output_type": "stream",
     "text": [
      "Epoch 90, Loss 0.0282\n",
      "Training Accuracy: 0.9669, Testing Accuracy: 0.9682\n",
      "\n"
     ]
    },
    {
     "name": "stdout",
     "output_type": "stream",
     "text": [
      "Epoch 100, Loss 0.0271\n",
      "Training Accuracy: 0.9678, Testing Accuracy: 0.9688\n",
      "\n"
     ]
    },
    {
     "name": "stdout",
     "output_type": "stream",
     "text": [
      "Epoch 110, Loss 0.0261\n",
      "Training Accuracy: 0.9689, Testing Accuracy: 0.9693\n",
      "\n"
     ]
    },
    {
     "name": "stdout",
     "output_type": "stream",
     "text": [
      "Epoch 120, Loss 0.0253\n",
      "Training Accuracy: 0.9698, Testing Accuracy: 0.9698\n",
      "\n"
     ]
    },
    {
     "name": "stdout",
     "output_type": "stream",
     "text": [
      "Epoch 130, Loss 0.0245\n",
      "Training Accuracy: 0.9712, Testing Accuracy: 0.9713\n",
      "\n"
     ]
    },
    {
     "name": "stdout",
     "output_type": "stream",
     "text": [
      "Epoch 140, Loss 0.0238\n",
      "Training Accuracy: 0.9723, Testing Accuracy: 0.9713\n",
      "\n"
     ]
    },
    {
     "name": "stdout",
     "output_type": "stream",
     "text": [
      "Epoch 150, Loss 0.0232\n",
      "Training Accuracy: 0.9730, Testing Accuracy: 0.9718\n",
      "\n"
     ]
    },
    {
     "name": "stdout",
     "output_type": "stream",
     "text": [
      "Epoch 160, Loss 0.0226\n",
      "Training Accuracy: 0.9737, Testing Accuracy: 0.9723\n",
      "\n"
     ]
    },
    {
     "name": "stdout",
     "output_type": "stream",
     "text": [
      "Epoch 170, Loss 0.0221\n",
      "Training Accuracy: 0.9745, Testing Accuracy: 0.9723\n",
      "\n"
     ]
    },
    {
     "name": "stdout",
     "output_type": "stream",
     "text": [
      "Epoch 180, Loss 0.0215\n",
      "Training Accuracy: 0.9753, Testing Accuracy: 0.9718\n",
      "\n"
     ]
    },
    {
     "name": "stdout",
     "output_type": "stream",
     "text": [
      "Epoch 190, Loss 0.0211\n",
      "Training Accuracy: 0.9760, Testing Accuracy: 0.9718\n",
      "\n"
     ]
    },
    {
     "name": "stdout",
     "output_type": "stream",
     "text": [
      "Epoch 200, Loss 0.0206\n",
      "Training Accuracy: 0.9770, Testing Accuracy: 0.9718\n",
      "\n"
     ]
    },
    {
     "name": "stdout",
     "output_type": "stream",
     "text": [
      "Epoch 210, Loss 0.0202\n",
      "Training Accuracy: 0.9775, Testing Accuracy: 0.9718\n",
      "\n"
     ]
    },
    {
     "name": "stdout",
     "output_type": "stream",
     "text": [
      "Epoch 220, Loss 0.0197\n",
      "Training Accuracy: 0.9782, Testing Accuracy: 0.9718\n",
      "\n"
     ]
    },
    {
     "name": "stdout",
     "output_type": "stream",
     "text": [
      "Epoch 230, Loss 0.0193\n",
      "Training Accuracy: 0.9785, Testing Accuracy: 0.9728\n",
      "\n"
     ]
    },
    {
     "name": "stdout",
     "output_type": "stream",
     "text": [
      "Epoch 240, Loss 0.019\n",
      "Training Accuracy: 0.9790, Testing Accuracy: 0.9728\n",
      "\n"
     ]
    },
    {
     "data": {
      "text/plain": [
       "0.051413995040582035"
      ]
     },
     "execution_count": 22,
     "metadata": {},
     "output_type": "execute_result"
    }
   ],
   "source": [
    "nn_learner.train_loop(dl)"
   ]
  },
  {
   "cell_type": "code",
   "execution_count": 23,
   "id": "e0163366",
   "metadata": {
    "execution": {
     "iopub.execute_input": "2022-04-09T20:11:10.271803Z",
     "iopub.status.busy": "2022-04-09T20:11:10.271288Z",
     "iopub.status.idle": "2022-04-09T20:11:23.499482Z",
     "shell.execute_reply": "2022-04-09T20:11:23.500228Z"
    },
    "papermill": {
     "duration": 13.27489,
     "end_time": "2022-04-09T20:11:23.500377",
     "exception": false,
     "start_time": "2022-04-09T20:11:10.225487",
     "status": "completed"
    },
    "tags": []
   },
   "outputs": [
    {
     "name": "stdout",
     "output_type": "stream",
     "text": [
      "Epoch 0, Loss 0.2443\n",
      "Training Accuracy: 0.6657, Testing Accuracy: 0.6618\n",
      "\n"
     ]
    },
    {
     "name": "stdout",
     "output_type": "stream",
     "text": [
      "Epoch 10, Loss 0.0991\n",
      "Training Accuracy: 0.9191, Testing Accuracy: 0.9254\n",
      "\n"
     ]
    },
    {
     "name": "stdout",
     "output_type": "stream",
     "text": [
      "Epoch 20, Loss 0.0769\n",
      "Training Accuracy: 0.9318, Testing Accuracy: 0.9405\n",
      "\n"
     ]
    },
    {
     "name": "stdout",
     "output_type": "stream",
     "text": [
      "Epoch 30, Loss 0.0668\n",
      "Training Accuracy: 0.9375, Testing Accuracy: 0.9486\n",
      "\n"
     ]
    },
    {
     "name": "stdout",
     "output_type": "stream",
     "text": [
      "Epoch 40, Loss 0.0606\n",
      "Training Accuracy: 0.9423, Testing Accuracy: 0.9531\n",
      "\n"
     ]
    },
    {
     "name": "stdout",
     "output_type": "stream",
     "text": [
      "Epoch 50, Loss 0.0564\n",
      "Training Accuracy: 0.9453, Testing Accuracy: 0.9587\n",
      "\n"
     ]
    },
    {
     "name": "stdout",
     "output_type": "stream",
     "text": [
      "Epoch 60, Loss 0.0533\n",
      "Training Accuracy: 0.9482, Testing Accuracy: 0.9592\n",
      "\n"
     ]
    },
    {
     "name": "stdout",
     "output_type": "stream",
     "text": [
      "Epoch 70, Loss 0.0508\n",
      "Training Accuracy: 0.9502, Testing Accuracy: 0.9587\n",
      "\n"
     ]
    },
    {
     "name": "stdout",
     "output_type": "stream",
     "text": [
      "Epoch 80, Loss 0.0488\n",
      "Training Accuracy: 0.9515, Testing Accuracy: 0.9587\n",
      "\n"
     ]
    },
    {
     "name": "stdout",
     "output_type": "stream",
     "text": [
      "Epoch 90, Loss 0.0472\n",
      "Training Accuracy: 0.9526, Testing Accuracy: 0.9602\n",
      "\n"
     ]
    },
    {
     "name": "stdout",
     "output_type": "stream",
     "text": [
      "Epoch 100, Loss 0.0458\n",
      "Training Accuracy: 0.9535, Testing Accuracy: 0.9617\n",
      "\n"
     ]
    },
    {
     "name": "stdout",
     "output_type": "stream",
     "text": [
      "Epoch 110, Loss 0.0446\n",
      "Training Accuracy: 0.9545, Testing Accuracy: 0.9627\n",
      "\n"
     ]
    },
    {
     "name": "stdout",
     "output_type": "stream",
     "text": [
      "Epoch 120, Loss 0.0436\n",
      "Training Accuracy: 0.9549, Testing Accuracy: 0.9637\n",
      "\n"
     ]
    },
    {
     "name": "stdout",
     "output_type": "stream",
     "text": [
      "Epoch 130, Loss 0.0427\n",
      "Training Accuracy: 0.9561, Testing Accuracy: 0.9647\n",
      "\n"
     ]
    },
    {
     "name": "stdout",
     "output_type": "stream",
     "text": [
      "Epoch 140, Loss 0.0419\n",
      "Training Accuracy: 0.9569, Testing Accuracy: 0.9647\n",
      "\n"
     ]
    },
    {
     "name": "stdout",
     "output_type": "stream",
     "text": [
      "Epoch 150, Loss 0.0411\n",
      "Training Accuracy: 0.9574, Testing Accuracy: 0.9642\n",
      "\n"
     ]
    },
    {
     "name": "stdout",
     "output_type": "stream",
     "text": [
      "Epoch 160, Loss 0.0405\n",
      "Training Accuracy: 0.9579, Testing Accuracy: 0.9642\n",
      "\n"
     ]
    },
    {
     "name": "stdout",
     "output_type": "stream",
     "text": [
      "Epoch 170, Loss 0.0399\n",
      "Training Accuracy: 0.9581, Testing Accuracy: 0.9647\n",
      "\n"
     ]
    },
    {
     "name": "stdout",
     "output_type": "stream",
     "text": [
      "Epoch 180, Loss 0.0393\n",
      "Training Accuracy: 0.9586, Testing Accuracy: 0.9662\n",
      "\n"
     ]
    },
    {
     "name": "stdout",
     "output_type": "stream",
     "text": [
      "Epoch 190, Loss 0.0388\n",
      "Training Accuracy: 0.9594, Testing Accuracy: 0.9662\n",
      "\n"
     ]
    },
    {
     "name": "stdout",
     "output_type": "stream",
     "text": [
      "Epoch 200, Loss 0.0383\n",
      "Training Accuracy: 0.9597, Testing Accuracy: 0.9662\n",
      "\n"
     ]
    },
    {
     "name": "stdout",
     "output_type": "stream",
     "text": [
      "Epoch 210, Loss 0.0379\n",
      "Training Accuracy: 0.9599, Testing Accuracy: 0.9677\n",
      "\n"
     ]
    },
    {
     "name": "stdout",
     "output_type": "stream",
     "text": [
      "Epoch 220, Loss 0.0375\n",
      "Training Accuracy: 0.9604, Testing Accuracy: 0.9677\n",
      "\n"
     ]
    },
    {
     "name": "stdout",
     "output_type": "stream",
     "text": [
      "Epoch 230, Loss 0.0371\n",
      "Training Accuracy: 0.9606, Testing Accuracy: 0.9677\n",
      "\n"
     ]
    },
    {
     "name": "stdout",
     "output_type": "stream",
     "text": [
      "Epoch 240, Loss 0.0368\n",
      "Training Accuracy: 0.9607, Testing Accuracy: 0.9693\n",
      "\n"
     ]
    },
    {
     "data": {
      "text/plain": [
       "0.04923787946060339"
      ]
     },
     "execution_count": 23,
     "metadata": {},
     "output_type": "execute_result"
    }
   ],
   "source": [
    "lr_learner.train_loop(dl)"
   ]
  },
  {
   "cell_type": "code",
   "execution_count": 24,
   "id": "ca410940",
   "metadata": {
    "execution": {
     "iopub.execute_input": "2022-04-09T20:11:23.595768Z",
     "iopub.status.busy": "2022-04-09T20:11:23.595247Z",
     "iopub.status.idle": "2022-04-09T20:11:23.819860Z",
     "shell.execute_reply": "2022-04-09T20:11:23.819348Z"
    },
    "papermill": {
     "duration": 0.276954,
     "end_time": "2022-04-09T20:11:23.819989",
     "exception": false,
     "start_time": "2022-04-09T20:11:23.543035",
     "status": "completed"
    },
    "tags": []
   },
   "outputs": [
    {
     "data": {
      "text/plain": [
       "<matplotlib.legend.Legend at 0x7fe9525d7c18>"
      ]
     },
     "execution_count": 24,
     "metadata": {},
     "output_type": "execute_result"
    },
    {
     "data": {
      "image/png": "[encoded data removed]",
      "text/plain": [
       "<Figure size 1080x720 with 1 Axes>"
      ]
     },
     "metadata": {
      "needs_background": "light"
     },
     "output_type": "display_data"
    }
   ],
   "source": [
    "#comparing the results of NN and LR\n",
    "plt.figure(figsize=(15,10))\n",
    "\n",
    "# Neural Network plots\n",
    "plt.plot(acc_nn.accuracies, 'r-', label = \"Training Accuracies - NN\")\n",
    "plt.plot(acc_nn.test_accuracies, 'g-', label = \"Testing Accuracies - NN\")\n",
    "\n",
    "# Logistic Regression plots\n",
    "plt.plot(acc_lr.accuracies, 'k-', label = \"Training Accuracies - LR\")\n",
    "plt.plot(acc_lr.test_accuracies, 'b-', label = \"Testing Accuracies - LR\")\n",
    "plt.legend()"
   ]
  },
  {
   "cell_type": "markdown",
   "id": "80dfb35c",
   "metadata": {
    "papermill": {
     "duration": 0.042233,
     "end_time": "2022-04-09T20:11:23.905435",
     "exception": false,
     "start_time": "2022-04-09T20:11:23.863202",
     "status": "completed"
    },
    "tags": []
   },
   "source": [
    "#### Plotting the outputs of this layer of the NN.\n"
   ]
  },
  {
   "cell_type": "code",
   "execution_count": 25,
   "id": "45eb2ff5",
   "metadata": {
    "execution": {
     "iopub.execute_input": "2022-04-09T20:11:23.992748Z",
     "iopub.status.busy": "2022-04-09T20:11:23.992229Z",
     "iopub.status.idle": "2022-04-09T20:11:24.011789Z",
     "shell.execute_reply": "2022-04-09T20:11:24.012293Z"
    },
    "papermill": {
     "duration": 0.065172,
     "end_time": "2022-04-09T20:11:24.012425",
     "exception": false,
     "start_time": "2022-04-09T20:11:23.947253",
     "status": "completed"
    },
    "tags": []
   },
   "outputs": [],
   "source": [
    "new_model = Model(layers[:-2])\n",
    "testing_plot = new_model(testing_data_x)"
   ]
  },
  {
   "cell_type": "code",
   "execution_count": 26,
   "id": "4c0a5485",
   "metadata": {
    "execution": {
     "iopub.execute_input": "2022-04-09T20:11:24.104306Z",
     "iopub.status.busy": "2022-04-09T20:11:24.102944Z",
     "iopub.status.idle": "2022-04-09T20:11:24.297068Z",
     "shell.execute_reply": "2022-04-09T20:11:24.297487Z"
    },
    "papermill": {
     "duration": 0.240972,
     "end_time": "2022-04-09T20:11:24.297628",
     "exception": false,
     "start_time": "2022-04-09T20:11:24.056656",
     "status": "completed"
    },
    "tags": []
   },
   "outputs": [
    {
     "data": {
      "text/plain": [
       "Text(0.5, 1.0, 'Outputs')"
      ]
     },
     "execution_count": 26,
     "metadata": {},
     "output_type": "execute_result"
    },
    {
     "data": {
      "image/png": "[encoded data removed]",
      "text/plain": [
       "<Figure size 576x504 with 1 Axes>"
      ]
     },
     "metadata": {
      "needs_background": "light"
     },
     "output_type": "display_data"
    }
   ],
   "source": [
    "# Plotting the scatter plot of points and color coding by class\n",
    "plt.figure(figsize=(8,7))\n",
    "plt.scatter(testing_plot[:,0], testing_plot[:,1], alpha = 0.1, c = y_test.ravel());\n",
    "plt.title('Outputs')"
   ]
  },
  {
   "cell_type": "markdown",
   "id": "a74fcf8f",
   "metadata": {
    "papermill": {
     "duration": 0.044093,
     "end_time": "2022-04-09T20:11:24.386290",
     "exception": false,
     "start_time": "2022-04-09T20:11:24.342197",
     "status": "completed"
    },
    "tags": []
   },
   "source": [
    "Probability contours"
   ]
  },
  {
   "cell_type": "code",
   "execution_count": 27,
   "id": "d0afc8e3",
   "metadata": {
    "execution": {
     "iopub.execute_input": "2022-04-09T20:11:24.479861Z",
     "iopub.status.busy": "2022-04-09T20:11:24.479243Z",
     "iopub.status.idle": "2022-04-09T20:11:24.490366Z",
     "shell.execute_reply": "2022-04-09T20:11:24.489953Z"
    },
    "papermill": {
     "duration": 0.059887,
     "end_time": "2022-04-09T20:11:24.490477",
     "exception": false,
     "start_time": "2022-04-09T20:11:24.430590",
     "status": "completed"
    },
    "tags": []
   },
   "outputs": [],
   "source": [
    "model_prob = Model(layers[-2:]) "
   ]
  },
  {
   "cell_type": "code",
   "execution_count": 28,
   "id": "9b96e238",
   "metadata": {
    "execution": {
     "iopub.execute_input": "2022-04-09T20:11:24.588761Z",
     "iopub.status.busy": "2022-04-09T20:11:24.588245Z",
     "iopub.status.idle": "2022-04-09T20:11:24.599123Z",
     "shell.execute_reply": "2022-04-09T20:11:24.599513Z"
    },
    "papermill": {
     "duration": 0.06496,
     "end_time": "2022-04-09T20:11:24.599642",
     "exception": false,
     "start_time": "2022-04-09T20:11:24.534682",
     "status": "completed"
    },
    "tags": []
   },
   "outputs": [],
   "source": [
    "#creating the x and y ranges according to the above generated plot.\n",
    "x_range = np.linspace(-4, 1, 100) \n",
    "y_range = np.linspace(-6, 6, 100) \n",
    "x_grid, y_grid = np.meshgrid(x_range, y_range) # x_grid and y_grig are of size 100 X 100\n",
    "\n",
    "# converting x_grid and y_grid to continuous arrays\n",
    "x_gridflat = np.ravel(x_grid)\n",
    "y_gridflat = np.ravel(y_grid)\n",
    "\n",
    "# The last layer of the current model takes two columns as input. Hence transpose of np.vstack() is required.\n",
    "X = np.vstack((x_gridflat, y_gridflat)).T\n",
    "\n",
    "prob_contour = model_prob(X).reshape(100,100) "
   ]
  },
  {
   "cell_type": "code",
   "execution_count": 29,
   "id": "da72499a",
   "metadata": {
    "execution": {
     "iopub.execute_input": "2022-04-09T20:11:24.718890Z",
     "iopub.status.busy": "2022-04-09T20:11:24.718333Z",
     "iopub.status.idle": "2022-04-09T20:11:24.968300Z",
     "shell.execute_reply": "2022-04-09T20:11:24.967843Z"
    },
    "papermill": {
     "duration": 0.324159,
     "end_time": "2022-04-09T20:11:24.968423",
     "exception": false,
     "start_time": "2022-04-09T20:11:24.644264",
     "status": "completed"
    },
    "tags": []
   },
   "outputs": [
    {
     "data": {
      "image/png": "[encoded data removed]",
      "text/plain": [
       "<Figure size 720x648 with 1 Axes>"
      ]
     },
     "metadata": {
      "needs_background": "light"
     },
     "output_type": "display_data"
    }
   ],
   "source": [
    "plt.figure(figsize=(10,9))\n",
    "plt.scatter(testing_plot[:,0], testing_plot[:,1], alpha = 0.1, c = y_test.ravel())\n",
    "contours = plt.contour(x_grid,y_grid,prob_contour)\n",
    "plt.title('Probability Contours')\n",
    "plt.clabel(contours, inline = True );"
   ]
  },
  {
   "cell_type": "code",
   "execution_count": null,
   "id": "e81b4ac7",
   "metadata": {
    "papermill": {
     "duration": 0.046603,
     "end_time": "2022-04-09T20:11:25.062566",
     "exception": false,
     "start_time": "2022-04-09T20:11:25.015963",
     "status": "completed"
    },
    "tags": []
   },
   "outputs": [],
   "source": []
  }
 ],
 "metadata": {
  "kernelspec": {
   "display_name": "Python 3",
   "language": "python",
   "name": "python3"
  },
  "language_info": {
   "codemirror_mode": {
    "name": "ipython",
    "version": 3
   },
   "file_extension": ".py",
   "mimetype": "text/x-python",
   "name": "python",
   "nbconvert_exporter": "python",
   "pygments_lexer": "ipython3",
   "version": "3.6.15"
  },
  "papermill": {
   "default_parameters": {},
   "duration": 95.407032,
   "end_time": "2022-04-09T20:11:25.426910",
   "environment_variables": {},
   "exception": null,
   "input_path": "2020-08-11-part2.ipynb",
   "output_path": "2020-08-11-part2.ipynb",
   "parameters": {},
   "start_time": "2022-04-09T20:09:50.019878",
   "version": "2.3.3"
  }
 },
 "nbformat": 4,
 "nbformat_minor": 5
}