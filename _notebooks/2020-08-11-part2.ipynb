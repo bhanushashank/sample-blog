{
 "cells": [
  {
   "cell_type": "markdown",
   "id": "98380cd3",
   "metadata": {
    "papermill": {
     "duration": 0.029094,
     "end_time": "2022-11-19T00:42:04.863294",
     "exception": false,
     "start_time": "2022-11-19T00:42:04.834200",
     "status": "completed"
    },
    "tags": []
   },
   "source": [
    "# Distinguish Your Own Digits (DYOD)"
   ]
  },
  {
   "cell_type": "markdown",
   "id": "ef31240d",
   "metadata": {
    "papermill": {
     "duration": 0.024043,
     "end_time": "2022-11-19T00:42:04.912119",
     "exception": false,
     "start_time": "2022-11-19T00:42:04.888076",
     "status": "completed"
    },
    "tags": []
   },
   "source": [
    "You are going to write a classifier that distinguishes between the number 3 and number 8."
   ]
  },
  {
   "cell_type": "code",
   "execution_count": 1,
   "id": "b15c8646",
   "metadata": {
    "execution": {
     "iopub.execute_input": "2022-11-19T00:42:04.970412Z",
     "iopub.status.busy": "2022-11-19T00:42:04.969852Z",
     "iopub.status.idle": "2022-11-19T00:42:04.979882Z",
     "shell.execute_reply": "2022-11-19T00:42:04.980334Z"
    },
    "papermill": {
     "duration": 0.044214,
     "end_time": "2022-11-19T00:42:04.980466",
     "exception": false,
     "start_time": "2022-11-19T00:42:04.936252",
     "status": "completed"
    },
    "tags": []
   },
   "outputs": [],
   "source": [
    "%load_ext autoreload\n",
    "%autoreload 2"
   ]
  },
  {
   "cell_type": "code",
   "execution_count": 2,
   "id": "22ef38dc",
   "metadata": {
    "execution": {
     "iopub.execute_input": "2022-11-19T00:42:05.032145Z",
     "iopub.status.busy": "2022-11-19T00:42:05.031585Z",
     "iopub.status.idle": "2022-11-19T00:42:05.532446Z",
     "shell.execute_reply": "2022-11-19T00:42:05.531953Z"
    },
    "papermill": {
     "duration": 0.527876,
     "end_time": "2022-11-19T00:42:05.532581",
     "exception": false,
     "start_time": "2022-11-19T00:42:05.004705",
     "status": "completed"
    },
    "tags": []
   },
   "outputs": [],
   "source": [
    "%matplotlib inline\n",
    "import numpy as np\n",
    "import matplotlib.pyplot as plt\n",
    "import pandas as pd"
   ]
  },
  {
   "cell_type": "markdown",
   "id": "ba036198",
   "metadata": {
    "papermill": {
     "duration": 0.024115,
     "end_time": "2022-11-19T00:42:05.580966",
     "exception": false,
     "start_time": "2022-11-19T00:42:05.556851",
     "status": "completed"
    },
    "tags": []
   },
   "source": [
    "From the command line run `pip install mnist`. This is a library that will help you bring down the mnist dataset. If you run this from a notebook, you need to put  `!pip install mnist` in a cell by itself."
   ]
  },
  {
   "cell_type": "code",
   "execution_count": 3,
   "id": "bb6ad8a1",
   "metadata": {
    "execution": {
     "iopub.execute_input": "2022-11-19T00:42:05.633107Z",
     "iopub.status.busy": "2022-11-19T00:42:05.632506Z",
     "iopub.status.idle": "2022-11-19T00:42:07.227259Z",
     "shell.execute_reply": "2022-11-19T00:42:07.226755Z"
    },
    "papermill": {
     "duration": 1.622189,
     "end_time": "2022-11-19T00:42:07.227373",
     "exception": false,
     "start_time": "2022-11-19T00:42:05.605184",
     "status": "completed"
    },
    "tags": []
   },
   "outputs": [
    {
     "name": "stdout",
     "output_type": "stream",
     "text": [
      "Collecting mnist\r\n"
     ]
    },
    {
     "name": "stdout",
     "output_type": "stream",
     "text": [
      "  Downloading mnist-0.2.2-py2.py3-none-any.whl (3.5 kB)\r\n",
      "Requirement already satisfied: numpy in /opt/hostedtoolcache/Python/3.6.15/x64/lib/python3.6/site-packages (from mnist) (1.19.5)\r\n"
     ]
    },
    {
     "name": "stdout",
     "output_type": "stream",
     "text": [
      "Installing collected packages: mnist\r\n"
     ]
    },
    {
     "name": "stdout",
     "output_type": "stream",
     "text": [
      "Successfully installed mnist-0.2.2\r\n"
     ]
    }
   ],
   "source": [
    "!pip install mnist"
   ]
  },
  {
   "cell_type": "markdown",
   "id": "69df9c9a",
   "metadata": {
    "papermill": {
     "duration": 0.025649,
     "end_time": "2022-11-19T00:42:07.278790",
     "exception": false,
     "start_time": "2022-11-19T00:42:07.253141",
     "status": "completed"
    },
    "tags": []
   },
   "source": [
    "## Preparing the Data"
   ]
  },
  {
   "cell_type": "code",
   "execution_count": 4,
   "id": "7f69d806",
   "metadata": {
    "execution": {
     "iopub.execute_input": "2022-11-19T00:42:07.334048Z",
     "iopub.status.busy": "2022-11-19T00:42:07.333489Z",
     "iopub.status.idle": "2022-11-19T00:42:07.347721Z",
     "shell.execute_reply": "2022-11-19T00:42:07.347255Z"
    },
    "papermill": {
     "duration": 0.043581,
     "end_time": "2022-11-19T00:42:07.347830",
     "exception": false,
     "start_time": "2022-11-19T00:42:07.304249",
     "status": "completed"
    },
    "tags": []
   },
   "outputs": [],
   "source": [
    "import mnist"
   ]
  },
  {
   "cell_type": "code",
   "execution_count": 5,
   "id": "a411e44f",
   "metadata": {
    "execution": {
     "iopub.execute_input": "2022-11-19T00:42:07.402836Z",
     "iopub.status.busy": "2022-11-19T00:42:07.402274Z",
     "iopub.status.idle": "2022-11-19T00:42:07.889471Z",
     "shell.execute_reply": "2022-11-19T00:42:07.888967Z"
    },
    "papermill": {
     "duration": 0.516127,
     "end_time": "2022-11-19T00:42:07.889583",
     "exception": false,
     "start_time": "2022-11-19T00:42:07.373456",
     "status": "completed"
    },
    "tags": []
   },
   "outputs": [],
   "source": [
    "train_images = mnist.train_images()\n",
    "train_labels = mnist.train_labels()"
   ]
  },
  {
   "cell_type": "code",
   "execution_count": 6,
   "id": "dceab3a5",
   "metadata": {
    "execution": {
     "iopub.execute_input": "2022-11-19T00:42:07.944316Z",
     "iopub.status.busy": "2022-11-19T00:42:07.943754Z",
     "iopub.status.idle": "2022-11-19T00:42:07.957982Z",
     "shell.execute_reply": "2022-11-19T00:42:07.957521Z"
    },
    "papermill": {
     "duration": 0.0429,
     "end_time": "2022-11-19T00:42:07.958087",
     "exception": false,
     "start_time": "2022-11-19T00:42:07.915187",
     "status": "completed"
    },
    "tags": []
   },
   "outputs": [
    {
     "data": {
      "text/plain": [
       "((60000, 28, 28), (60000,))"
      ]
     },
     "execution_count": 6,
     "metadata": {},
     "output_type": "execute_result"
    }
   ],
   "source": [
    "train_images.shape, train_labels.shape"
   ]
  },
  {
   "cell_type": "code",
   "execution_count": 7,
   "id": "f50dc2bb",
   "metadata": {
    "execution": {
     "iopub.execute_input": "2022-11-19T00:42:08.013477Z",
     "iopub.status.busy": "2022-11-19T00:42:08.012901Z",
     "iopub.status.idle": "2022-11-19T00:42:08.193854Z",
     "shell.execute_reply": "2022-11-19T00:42:08.193322Z"
    },
    "papermill": {
     "duration": 0.210186,
     "end_time": "2022-11-19T00:42:08.193968",
     "exception": false,
     "start_time": "2022-11-19T00:42:07.983782",
     "status": "completed"
    },
    "tags": []
   },
   "outputs": [],
   "source": [
    "test_images = mnist.test_images()\n",
    "test_labels = mnist.test_labels()"
   ]
  },
  {
   "cell_type": "code",
   "execution_count": 8,
   "id": "fc38cf1b",
   "metadata": {
    "execution": {
     "iopub.execute_input": "2022-11-19T00:42:08.249574Z",
     "iopub.status.busy": "2022-11-19T00:42:08.249025Z",
     "iopub.status.idle": "2022-11-19T00:42:08.261399Z",
     "shell.execute_reply": "2022-11-19T00:42:08.261926Z"
    },
    "papermill": {
     "duration": 0.042124,
     "end_time": "2022-11-19T00:42:08.262050",
     "exception": false,
     "start_time": "2022-11-19T00:42:08.219926",
     "status": "completed"
    },
    "tags": []
   },
   "outputs": [
    {
     "data": {
      "text/plain": [
       "((10000, 28, 28), (10000,))"
      ]
     },
     "execution_count": 8,
     "metadata": {},
     "output_type": "execute_result"
    }
   ],
   "source": [
    "test_images.shape, test_labels.shape"
   ]
  },
  {
   "cell_type": "code",
   "execution_count": 9,
   "id": "f9ed8fe0",
   "metadata": {
    "execution": {
     "iopub.execute_input": "2022-11-19T00:42:08.317050Z",
     "iopub.status.busy": "2022-11-19T00:42:08.316452Z",
     "iopub.status.idle": "2022-11-19T00:42:08.448488Z",
     "shell.execute_reply": "2022-11-19T00:42:08.448950Z"
    },
    "papermill": {
     "duration": 0.161131,
     "end_time": "2022-11-19T00:42:08.449082",
     "exception": false,
     "start_time": "2022-11-19T00:42:08.287951",
     "status": "completed"
    },
    "tags": []
   },
   "outputs": [
    {
     "name": "stdout",
     "output_type": "stream",
     "text": [
      "2\n"
     ]
    },
    {
     "data": {
      "text/plain": [
       "<matplotlib.image.AxesImage at 0x7f7154d29e48>"
      ]
     },
     "execution_count": 9,
     "metadata": {},
     "output_type": "execute_result"
    },
    {
     "data": {
      "image/png": "[encoded data removed]",
      "text/plain": [
       "<Figure size 432x288 with 1 Axes>"
      ]
     },
     "metadata": {
      "needs_background": "light"
     },
     "output_type": "display_data"
    }
   ],
   "source": [
    "image_index = 7776 # You may select anything up to 60,000\n",
    "print(train_labels[image_index]) \n",
    "plt.imshow(train_images[image_index], cmap='Greys')"
   ]
  },
  {
   "cell_type": "markdown",
   "id": "a8d2388d",
   "metadata": {
    "papermill": {
     "duration": 0.027115,
     "end_time": "2022-11-19T00:42:08.503339",
     "exception": false,
     "start_time": "2022-11-19T00:42:08.476224",
     "status": "completed"
    },
    "tags": []
   },
   "source": [
    "## Filter data to get 3 and 8 out"
   ]
  },
  {
   "cell_type": "code",
   "execution_count": 10,
   "id": "776f7fc7",
   "metadata": {
    "execution": {
     "iopub.execute_input": "2022-11-19T00:42:08.561512Z",
     "iopub.status.busy": "2022-11-19T00:42:08.560928Z",
     "iopub.status.idle": "2022-11-19T00:42:08.576989Z",
     "shell.execute_reply": "2022-11-19T00:42:08.577433Z"
    },
    "papermill": {
     "duration": 0.047289,
     "end_time": "2022-11-19T00:42:08.577558",
     "exception": false,
     "start_time": "2022-11-19T00:42:08.530269",
     "status": "completed"
    },
    "tags": []
   },
   "outputs": [],
   "source": [
    "train_filter = np.where((train_labels == 3 ) | (train_labels == 8))\n",
    "test_filter = np.where((test_labels == 3) | (test_labels == 8))\n",
    "X_train, y_train = train_images[train_filter], train_labels[train_filter]\n",
    "X_test, y_test = test_images[test_filter], test_labels[test_filter]"
   ]
  },
  {
   "cell_type": "markdown",
   "id": "948f0b7e",
   "metadata": {
    "papermill": {
     "duration": 0.026798,
     "end_time": "2022-11-19T00:42:08.631397",
     "exception": false,
     "start_time": "2022-11-19T00:42:08.604599",
     "status": "completed"
    },
    "tags": []
   },
   "source": [
    "We normalize the pizel values in the 0 to 1 range"
   ]
  },
  {
   "cell_type": "code",
   "execution_count": 11,
   "id": "ee4c2166",
   "metadata": {
    "execution": {
     "iopub.execute_input": "2022-11-19T00:42:08.688890Z",
     "iopub.status.busy": "2022-11-19T00:42:08.688302Z",
     "iopub.status.idle": "2022-11-19T00:42:08.728494Z",
     "shell.execute_reply": "2022-11-19T00:42:08.728024Z"
    },
    "papermill": {
     "duration": 0.070375,
     "end_time": "2022-11-19T00:42:08.728633",
     "exception": false,
     "start_time": "2022-11-19T00:42:08.658258",
     "status": "completed"
    },
    "tags": []
   },
   "outputs": [],
   "source": [
    "X_train = X_train/255.\n",
    "X_test = X_test/255."
   ]
  },
  {
   "cell_type": "markdown",
   "id": "ddcf4fab",
   "metadata": {
    "papermill": {
     "duration": 0.02688,
     "end_time": "2022-11-19T00:42:08.782739",
     "exception": false,
     "start_time": "2022-11-19T00:42:08.755859",
     "status": "completed"
    },
    "tags": []
   },
   "source": [
    "And setup the labels as 1 (when the digit is 3) and 0 (when the digit is 8)"
   ]
  },
  {
   "cell_type": "code",
   "execution_count": 12,
   "id": "7dc908f2",
   "metadata": {
    "execution": {
     "iopub.execute_input": "2022-11-19T00:42:08.840484Z",
     "iopub.status.busy": "2022-11-19T00:42:08.839912Z",
     "iopub.status.idle": "2022-11-19T00:42:08.851512Z",
     "shell.execute_reply": "2022-11-19T00:42:08.851067Z"
    },
    "papermill": {
     "duration": 0.041856,
     "end_time": "2022-11-19T00:42:08.851617",
     "exception": false,
     "start_time": "2022-11-19T00:42:08.809761",
     "status": "completed"
    },
    "tags": []
   },
   "outputs": [],
   "source": [
    "y_train = 1*(y_train==3)\n",
    "y_test = 1*(y_test==3)"
   ]
  },
  {
   "cell_type": "code",
   "execution_count": 13,
   "id": "01e4e969",
   "metadata": {
    "execution": {
     "iopub.execute_input": "2022-11-19T00:42:08.909227Z",
     "iopub.status.busy": "2022-11-19T00:42:08.908668Z",
     "iopub.status.idle": "2022-11-19T00:42:08.921297Z",
     "shell.execute_reply": "2022-11-19T00:42:08.921709Z"
    },
    "papermill": {
     "duration": 0.043045,
     "end_time": "2022-11-19T00:42:08.921833",
     "exception": false,
     "start_time": "2022-11-19T00:42:08.878788",
     "status": "completed"
    },
    "tags": []
   },
   "outputs": [
    {
     "data": {
      "text/plain": [
       "((11982, 28, 28), (1984, 28, 28))"
      ]
     },
     "execution_count": 13,
     "metadata": {},
     "output_type": "execute_result"
    }
   ],
   "source": [
    "X_train.shape, X_test.shape"
   ]
  },
  {
   "cell_type": "markdown",
   "id": "5ccf3f85",
   "metadata": {
    "papermill": {
     "duration": 0.027204,
     "end_time": "2022-11-19T00:42:08.976164",
     "exception": false,
     "start_time": "2022-11-19T00:42:08.948960",
     "status": "completed"
    },
    "tags": []
   },
   "source": [
    "We reshape the data to flatten the image pixels into a set of features or co-variates:"
   ]
  },
  {
   "cell_type": "code",
   "execution_count": 14,
   "id": "5286a4a3",
   "metadata": {
    "execution": {
     "iopub.execute_input": "2022-11-19T00:42:09.034459Z",
     "iopub.status.busy": "2022-11-19T00:42:09.033892Z",
     "iopub.status.idle": "2022-11-19T00:42:09.047572Z",
     "shell.execute_reply": "2022-11-19T00:42:09.047112Z"
    },
    "papermill": {
     "duration": 0.044193,
     "end_time": "2022-11-19T00:42:09.047677",
     "exception": false,
     "start_time": "2022-11-19T00:42:09.003484",
     "status": "completed"
    },
    "tags": []
   },
   "outputs": [
    {
     "data": {
      "text/plain": [
       "((11982, 784), (1984, 784))"
      ]
     },
     "execution_count": 14,
     "metadata": {},
     "output_type": "execute_result"
    }
   ],
   "source": [
    "X_train = X_train.reshape(X_train.shape[0], -1)\n",
    "X_test = X_test.reshape(X_test.shape[0], -1)\n",
    "X_train.shape, X_test.shape"
   ]
  },
  {
   "cell_type": "code",
   "execution_count": 15,
   "id": "73c5f88a",
   "metadata": {
    "execution": {
     "iopub.execute_input": "2022-11-19T00:42:09.107315Z",
     "iopub.status.busy": "2022-11-19T00:42:09.106749Z",
     "iopub.status.idle": "2022-11-19T00:42:09.124329Z",
     "shell.execute_reply": "2022-11-19T00:42:09.124770Z"
    },
    "papermill": {
     "duration": 0.049564,
     "end_time": "2022-11-19T00:42:09.124890",
     "exception": false,
     "start_time": "2022-11-19T00:42:09.075326",
     "status": "completed"
    },
    "tags": []
   },
   "outputs": [],
   "source": [
    "#Impoting functions from 'Kudzu'\n",
    "from kudzu.model import Model\n",
    "from kudzu.train import Learner\n",
    "from kudzu.optim import GD\n",
    "from kudzu.data import Data, Sampler,Dataloader\n",
    "\n",
    "from kudzu.callbacks import AccCallback\n",
    "from kudzu.callbacks import ClfCallback\n",
    "\n",
    "from kudzu.loss import MSE\n",
    "\n",
    "from kudzu.layer import Sigmoid,Relu\n",
    "from kudzu.layer import Affine"
   ]
  },
  {
   "cell_type": "markdown",
   "id": "bc01172a",
   "metadata": {
    "papermill": {
     "duration": 0.027327,
     "end_time": "2022-11-19T00:42:09.179721",
     "exception": false,
     "start_time": "2022-11-19T00:42:09.152394",
     "status": "completed"
    },
    "tags": []
   },
   "source": [
    "### Let us create a `Config` class, to store important parameters. \n",
    "This class essentially plays the role of a dictionary."
   ]
  },
  {
   "cell_type": "code",
   "execution_count": 16,
   "id": "978281aa",
   "metadata": {
    "execution": {
     "iopub.execute_input": "2022-11-19T00:42:09.239102Z",
     "iopub.status.busy": "2022-11-19T00:42:09.238523Z",
     "iopub.status.idle": "2022-11-19T00:42:09.250597Z",
     "shell.execute_reply": "2022-11-19T00:42:09.250153Z"
    },
    "papermill": {
     "duration": 0.043162,
     "end_time": "2022-11-19T00:42:09.250702",
     "exception": false,
     "start_time": "2022-11-19T00:42:09.207540",
     "status": "completed"
    },
    "tags": []
   },
   "outputs": [],
   "source": [
    "class Config:\n",
    "    pass\n",
    "config = Config()\n",
    "config.lr = 0.001\n",
    "config.num_epochs = 250\n",
    "config.bs = 50"
   ]
  },
  {
   "cell_type": "markdown",
   "id": "1385fa59",
   "metadata": {
    "papermill": {
     "duration": 0.027348,
     "end_time": "2022-11-19T00:42:09.305569",
     "exception": false,
     "start_time": "2022-11-19T00:42:09.278221",
     "status": "completed"
    },
    "tags": []
   },
   "source": [
    "### Running Models with the Training data\n",
    "Details about the network layers:\n",
    "- A first affine layer has 784 inputs and does 100 affine transforms. These are followed by a Relu\n",
    "- A second affine layer has 100 inputs from the 100 activations of the past layer, and does 100 affine transforms. These are followed by a Relu\n",
    "- A third affine layer has 100 activations and does 2 affine transformations to create an embedding for visualization. There is no non-linearity here.\n",
    "- A final \"logistic regression\" which has an affine transform from 2 inputs to 1 output, which is squeezed through a sigmoid.\n"
   ]
  },
  {
   "cell_type": "code",
   "execution_count": 17,
   "id": "2b9c66db",
   "metadata": {
    "execution": {
     "iopub.execute_input": "2022-11-19T00:42:09.364453Z",
     "iopub.status.busy": "2022-11-19T00:42:09.363896Z",
     "iopub.status.idle": "2022-11-19T00:42:09.376188Z",
     "shell.execute_reply": "2022-11-19T00:42:09.375732Z"
    },
    "papermill": {
     "duration": 0.043248,
     "end_time": "2022-11-19T00:42:09.376293",
     "exception": false,
     "start_time": "2022-11-19T00:42:09.333045",
     "status": "completed"
    },
    "tags": []
   },
   "outputs": [],
   "source": [
    "data = Data(X_train, y_train.reshape(-1,1))\n",
    "sampler = Sampler(data, config.bs, shuffle=True)\n",
    "\n",
    "dl = Dataloader(data, sampler)\n",
    "\n",
    "opt = GD(config.lr)\n",
    "loss = MSE()"
   ]
  },
  {
   "cell_type": "code",
   "execution_count": 18,
   "id": "b275e4c2",
   "metadata": {
    "execution": {
     "iopub.execute_input": "2022-11-19T00:42:09.435173Z",
     "iopub.status.busy": "2022-11-19T00:42:09.434594Z",
     "iopub.status.idle": "2022-11-19T00:42:09.446458Z",
     "shell.execute_reply": "2022-11-19T00:42:09.446015Z"
    },
    "papermill": {
     "duration": 0.042734,
     "end_time": "2022-11-19T00:42:09.446562",
     "exception": false,
     "start_time": "2022-11-19T00:42:09.403828",
     "status": "completed"
    },
    "tags": []
   },
   "outputs": [],
   "source": [
    "training_data_x = X_train\n",
    "testing_data_x = X_test\n",
    "training_data_y = y_train.reshape(-1,1)\n",
    "testing_data_y = y_test.reshape(-1,1)"
   ]
  },
  {
   "cell_type": "code",
   "execution_count": 19,
   "id": "76951160",
   "metadata": {
    "execution": {
     "iopub.execute_input": "2022-11-19T00:42:09.505682Z",
     "iopub.status.busy": "2022-11-19T00:42:09.505116Z",
     "iopub.status.idle": "2022-11-19T00:42:09.521234Z",
     "shell.execute_reply": "2022-11-19T00:42:09.520773Z"
    },
    "papermill": {
     "duration": 0.047371,
     "end_time": "2022-11-19T00:42:09.521341",
     "exception": false,
     "start_time": "2022-11-19T00:42:09.473970",
     "status": "completed"
    },
    "tags": []
   },
   "outputs": [
    {
     "name": "stdout",
     "output_type": "stream",
     "text": [
      "xavier\n",
      "xavier\n",
      "xavier\n",
      "xavier\n",
      "xavier\n"
     ]
    }
   ],
   "source": [
    "layers = [Affine(\"first\", 784, 100), Relu(\"first\"), Affine(\"second\", 100, 100), Relu(\"second\"), Affine(\"third\", 100, 2), Affine(\"last\", 2, 1), Sigmoid(\"last\")]\n",
    "model_nn = Model(layers)\n",
    "model_lr = Model([Affine(\"logits\", 784, 1), Sigmoid(\"sigmoid\")])"
   ]
  },
  {
   "cell_type": "code",
   "execution_count": 20,
   "id": "6eede77a",
   "metadata": {
    "execution": {
     "iopub.execute_input": "2022-11-19T00:42:09.584932Z",
     "iopub.status.busy": "2022-11-19T00:42:09.582546Z",
     "iopub.status.idle": "2022-11-19T00:42:09.594275Z",
     "shell.execute_reply": "2022-11-19T00:42:09.594692Z"
    },
    "papermill": {
     "duration": 0.045507,
     "end_time": "2022-11-19T00:42:09.594817",
     "exception": false,
     "start_time": "2022-11-19T00:42:09.549310",
     "status": "completed"
    },
    "tags": []
   },
   "outputs": [],
   "source": [
    "nn_learner = Learner(loss, model_nn, opt, config.num_epochs)\n",
    "acc_nn = ClfCallback(nn_learner, config.bs, training_data_x , testing_data_x, training_data_y, testing_data_y)\n",
    "nn_learner.set_callbacks([acc_nn])"
   ]
  },
  {
   "cell_type": "code",
   "execution_count": 21,
   "id": "877b6cc7",
   "metadata": {
    "execution": {
     "iopub.execute_input": "2022-11-19T00:42:09.658961Z",
     "iopub.status.busy": "2022-11-19T00:42:09.656040Z",
     "iopub.status.idle": "2022-11-19T00:42:09.668466Z",
     "shell.execute_reply": "2022-11-19T00:42:09.667907Z"
    },
    "papermill": {
     "duration": 0.045867,
     "end_time": "2022-11-19T00:42:09.668592",
     "exception": false,
     "start_time": "2022-11-19T00:42:09.622725",
     "status": "completed"
    },
    "tags": []
   },
   "outputs": [],
   "source": [
    "lr_learner = Learner(loss, model_lr, opt, config.num_epochs)\n",
    "acc_lr = ClfCallback(lr_learner, config.bs, training_data_x , testing_data_x, training_data_y, testing_data_y)\n",
    "lr_learner.set_callbacks([acc_lr])"
   ]
  },
  {
   "cell_type": "code",
   "execution_count": 22,
   "id": "d9b133c3",
   "metadata": {
    "execution": {
     "iopub.execute_input": "2022-11-19T00:42:09.732029Z",
     "iopub.status.busy": "2022-11-19T00:42:09.728784Z",
     "iopub.status.idle": "2022-11-19T00:45:05.620740Z",
     "shell.execute_reply": "2022-11-19T00:45:05.621211Z"
    },
    "papermill": {
     "duration": 175.924823,
     "end_time": "2022-11-19T00:45:05.621340",
     "exception": false,
     "start_time": "2022-11-19T00:42:09.696517",
     "status": "completed"
    },
    "tags": []
   },
   "outputs": [
    {
     "name": "stdout",
     "output_type": "stream",
     "text": [
      "Epoch 0, Loss 0.2183\n",
      "Training Accuracy: 0.7798, Testing Accuracy: 0.7792\n",
      "\n"
     ]
    },
    {
     "name": "stdout",
     "output_type": "stream",
     "text": [
      "Epoch 10, Loss 0.0634\n",
      "Training Accuracy: 0.9343, Testing Accuracy: 0.9435\n",
      "\n"
     ]
    },
    {
     "name": "stdout",
     "output_type": "stream",
     "text": [
      "Epoch 20, Loss 0.0432\n",
      "Training Accuracy: 0.9543, Testing Accuracy: 0.9612\n",
      "\n"
     ]
    },
    {
     "name": "stdout",
     "output_type": "stream",
     "text": [
      "Epoch 30, Loss 0.036\n",
      "Training Accuracy: 0.9604, Testing Accuracy: 0.9688\n",
      "\n"
     ]
    },
    {
     "name": "stdout",
     "output_type": "stream",
     "text": [
      "Epoch 40, Loss 0.0322\n",
      "Training Accuracy: 0.9639, Testing Accuracy: 0.9703\n",
      "\n"
     ]
    },
    {
     "name": "stdout",
     "output_type": "stream",
     "text": [
      "Epoch 50, Loss 0.0297\n",
      "Training Accuracy: 0.9664, Testing Accuracy: 0.9703\n",
      "\n"
     ]
    },
    {
     "name": "stdout",
     "output_type": "stream",
     "text": [
      "Epoch 60, Loss 0.0278\n",
      "Training Accuracy: 0.9681, Testing Accuracy: 0.9708\n",
      "\n"
     ]
    },
    {
     "name": "stdout",
     "output_type": "stream",
     "text": [
      "Epoch 70, Loss 0.0264\n",
      "Training Accuracy: 0.9695, Testing Accuracy: 0.9708\n",
      "\n"
     ]
    },
    {
     "name": "stdout",
     "output_type": "stream",
     "text": [
      "Epoch 80, Loss 0.0252\n",
      "Training Accuracy: 0.9709, Testing Accuracy: 0.9728\n",
      "\n"
     ]
    },
    {
     "name": "stdout",
     "output_type": "stream",
     "text": [
      "Epoch 90, Loss 0.0242\n",
      "Training Accuracy: 0.9720, Testing Accuracy: 0.9733\n",
      "\n"
     ]
    },
    {
     "name": "stdout",
     "output_type": "stream",
     "text": [
      "Epoch 100, Loss 0.0233\n",
      "Training Accuracy: 0.9730, Testing Accuracy: 0.9728\n",
      "\n"
     ]
    },
    {
     "name": "stdout",
     "output_type": "stream",
     "text": [
      "Epoch 110, Loss 0.0225\n",
      "Training Accuracy: 0.9742, Testing Accuracy: 0.9733\n",
      "\n"
     ]
    },
    {
     "name": "stdout",
     "output_type": "stream",
     "text": [
      "Epoch 120, Loss 0.0217\n",
      "Training Accuracy: 0.9756, Testing Accuracy: 0.9733\n",
      "\n"
     ]
    },
    {
     "name": "stdout",
     "output_type": "stream",
     "text": [
      "Epoch 130, Loss 0.0211\n",
      "Training Accuracy: 0.9764, Testing Accuracy: 0.9728\n",
      "\n"
     ]
    },
    {
     "name": "stdout",
     "output_type": "stream",
     "text": [
      "Epoch 140, Loss 0.0205\n",
      "Training Accuracy: 0.9773, Testing Accuracy: 0.9728\n",
      "\n"
     ]
    },
    {
     "name": "stdout",
     "output_type": "stream",
     "text": [
      "Epoch 150, Loss 0.0199\n",
      "Training Accuracy: 0.9781, Testing Accuracy: 0.9728\n",
      "\n"
     ]
    },
    {
     "name": "stdout",
     "output_type": "stream",
     "text": [
      "Epoch 160, Loss 0.0194\n",
      "Training Accuracy: 0.9791, Testing Accuracy: 0.9738\n",
      "\n"
     ]
    },
    {
     "name": "stdout",
     "output_type": "stream",
     "text": [
      "Epoch 170, Loss 0.0189\n",
      "Training Accuracy: 0.9799, Testing Accuracy: 0.9738\n",
      "\n"
     ]
    },
    {
     "name": "stdout",
     "output_type": "stream",
     "text": [
      "Epoch 180, Loss 0.0185\n",
      "Training Accuracy: 0.9803, Testing Accuracy: 0.9733\n",
      "\n"
     ]
    },
    {
     "name": "stdout",
     "output_type": "stream",
     "text": [
      "Epoch 190, Loss 0.018\n",
      "Training Accuracy: 0.9809, Testing Accuracy: 0.9738\n",
      "\n"
     ]
    },
    {
     "name": "stdout",
     "output_type": "stream",
     "text": [
      "Epoch 200, Loss 0.0176\n",
      "Training Accuracy: 0.9810, Testing Accuracy: 0.9738\n",
      "\n"
     ]
    },
    {
     "name": "stdout",
     "output_type": "stream",
     "text": [
      "Epoch 210, Loss 0.0172\n",
      "Training Accuracy: 0.9815, Testing Accuracy: 0.9753\n",
      "\n"
     ]
    },
    {
     "name": "stdout",
     "output_type": "stream",
     "text": [
      "Epoch 220, Loss 0.0168\n",
      "Training Accuracy: 0.9816, Testing Accuracy: 0.9748\n",
      "\n"
     ]
    },
    {
     "name": "stdout",
     "output_type": "stream",
     "text": [
      "Epoch 230, Loss 0.0165\n",
      "Training Accuracy: 0.9817, Testing Accuracy: 0.9748\n",
      "\n"
     ]
    },
    {
     "name": "stdout",
     "output_type": "stream",
     "text": [
      "Epoch 240, Loss 0.0161\n",
      "Training Accuracy: 0.9821, Testing Accuracy: 0.9743\n",
      "\n"
     ]
    },
    {
     "data": {
      "text/plain": [
       "0.047446562709736864"
      ]
     },
     "execution_count": 22,
     "metadata": {},
     "output_type": "execute_result"
    }
   ],
   "source": [
    "nn_learner.train_loop(dl)"
   ]
  },
  {
   "cell_type": "code",
   "execution_count": 23,
   "id": "e0163366",
   "metadata": {
    "execution": {
     "iopub.execute_input": "2022-11-19T00:45:05.694622Z",
     "iopub.status.busy": "2022-11-19T00:45:05.694054Z",
     "iopub.status.idle": "2022-11-19T00:45:17.863459Z",
     "shell.execute_reply": "2022-11-19T00:45:17.864283Z"
    },
    "papermill": {
     "duration": 12.2084,
     "end_time": "2022-11-19T00:45:17.864420",
     "exception": false,
     "start_time": "2022-11-19T00:45:05.656020",
     "status": "completed"
    },
    "tags": []
   },
   "outputs": [
    {
     "name": "stdout",
     "output_type": "stream",
     "text": [
      "Epoch 0, Loss 0.2667\n",
      "Training Accuracy: 0.6104, Testing Accuracy: 0.6048\n",
      "\n"
     ]
    },
    {
     "name": "stdout",
     "output_type": "stream",
     "text": [
      "Epoch 10, Loss 0.1089\n",
      "Training Accuracy: 0.8967, Testing Accuracy: 0.9073\n",
      "\n"
     ]
    },
    {
     "name": "stdout",
     "output_type": "stream",
     "text": [
      "Epoch 20, Loss 0.0823\n",
      "Training Accuracy: 0.9220, Testing Accuracy: 0.9320\n",
      "\n"
     ]
    },
    {
     "name": "stdout",
     "output_type": "stream",
     "text": [
      "Epoch 30, Loss 0.0702\n",
      "Training Accuracy: 0.9331, Testing Accuracy: 0.9400\n",
      "\n"
     ]
    },
    {
     "name": "stdout",
     "output_type": "stream",
     "text": [
      "Epoch 40, Loss 0.063\n",
      "Training Accuracy: 0.9392, Testing Accuracy: 0.9486\n",
      "\n"
     ]
    },
    {
     "name": "stdout",
     "output_type": "stream",
     "text": [
      "Epoch 50, Loss 0.0582\n",
      "Training Accuracy: 0.9434, Testing Accuracy: 0.9506\n",
      "\n"
     ]
    },
    {
     "name": "stdout",
     "output_type": "stream",
     "text": [
      "Epoch 60, Loss 0.0546\n",
      "Training Accuracy: 0.9453, Testing Accuracy: 0.9541\n",
      "\n"
     ]
    },
    {
     "name": "stdout",
     "output_type": "stream",
     "text": [
      "Epoch 70, Loss 0.0519\n",
      "Training Accuracy: 0.9478, Testing Accuracy: 0.9556\n",
      "\n"
     ]
    },
    {
     "name": "stdout",
     "output_type": "stream",
     "text": [
      "Epoch 80, Loss 0.0497\n",
      "Training Accuracy: 0.9496, Testing Accuracy: 0.9561\n",
      "\n"
     ]
    },
    {
     "name": "stdout",
     "output_type": "stream",
     "text": [
      "Epoch 90, Loss 0.048\n",
      "Training Accuracy: 0.9518, Testing Accuracy: 0.9577\n",
      "\n"
     ]
    },
    {
     "name": "stdout",
     "output_type": "stream",
     "text": [
      "Epoch 100, Loss 0.0465\n",
      "Training Accuracy: 0.9527, Testing Accuracy: 0.9597\n",
      "\n"
     ]
    },
    {
     "name": "stdout",
     "output_type": "stream",
     "text": [
      "Epoch 110, Loss 0.0452\n",
      "Training Accuracy: 0.9533, Testing Accuracy: 0.9617\n",
      "\n"
     ]
    },
    {
     "name": "stdout",
     "output_type": "stream",
     "text": [
      "Epoch 120, Loss 0.0441\n",
      "Training Accuracy: 0.9546, Testing Accuracy: 0.9632\n",
      "\n"
     ]
    },
    {
     "name": "stdout",
     "output_type": "stream",
     "text": [
      "Epoch 130, Loss 0.0431\n",
      "Training Accuracy: 0.9550, Testing Accuracy: 0.9637\n",
      "\n"
     ]
    },
    {
     "name": "stdout",
     "output_type": "stream",
     "text": [
      "Epoch 140, Loss 0.0423\n",
      "Training Accuracy: 0.9558, Testing Accuracy: 0.9647\n",
      "\n"
     ]
    },
    {
     "name": "stdout",
     "output_type": "stream",
     "text": [
      "Epoch 150, Loss 0.0415\n",
      "Training Accuracy: 0.9566, Testing Accuracy: 0.9642\n",
      "\n"
     ]
    },
    {
     "name": "stdout",
     "output_type": "stream",
     "text": [
      "Epoch 160, Loss 0.0408\n",
      "Training Accuracy: 0.9570, Testing Accuracy: 0.9652\n",
      "\n"
     ]
    },
    {
     "name": "stdout",
     "output_type": "stream",
     "text": [
      "Epoch 170, Loss 0.0402\n",
      "Training Accuracy: 0.9574, Testing Accuracy: 0.9662\n",
      "\n"
     ]
    },
    {
     "name": "stdout",
     "output_type": "stream",
     "text": [
      "Epoch 180, Loss 0.0396\n",
      "Training Accuracy: 0.9578, Testing Accuracy: 0.9672\n",
      "\n"
     ]
    },
    {
     "name": "stdout",
     "output_type": "stream",
     "text": [
      "Epoch 190, Loss 0.0391\n",
      "Training Accuracy: 0.9586, Testing Accuracy: 0.9677\n",
      "\n"
     ]
    },
    {
     "name": "stdout",
     "output_type": "stream",
     "text": [
      "Epoch 200, Loss 0.0386\n",
      "Training Accuracy: 0.9592, Testing Accuracy: 0.9677\n",
      "\n"
     ]
    },
    {
     "name": "stdout",
     "output_type": "stream",
     "text": [
      "Epoch 210, Loss 0.0381\n",
      "Training Accuracy: 0.9595, Testing Accuracy: 0.9677\n",
      "\n"
     ]
    },
    {
     "name": "stdout",
     "output_type": "stream",
     "text": [
      "Epoch 220, Loss 0.0377\n",
      "Training Accuracy: 0.9599, Testing Accuracy: 0.9677\n",
      "\n"
     ]
    },
    {
     "name": "stdout",
     "output_type": "stream",
     "text": [
      "Epoch 230, Loss 0.0373\n",
      "Training Accuracy: 0.9600, Testing Accuracy: 0.9677\n",
      "\n"
     ]
    },
    {
     "name": "stdout",
     "output_type": "stream",
     "text": [
      "Epoch 240, Loss 0.037\n",
      "Training Accuracy: 0.9604, Testing Accuracy: 0.9677\n",
      "\n"
     ]
    },
    {
     "data": {
      "text/plain": [
       "0.038692142773516944"
      ]
     },
     "execution_count": 23,
     "metadata": {},
     "output_type": "execute_result"
    }
   ],
   "source": [
    "lr_learner.train_loop(dl)"
   ]
  },
  {
   "cell_type": "code",
   "execution_count": 24,
   "id": "ca410940",
   "metadata": {
    "execution": {
     "iopub.execute_input": "2022-11-19T00:45:17.956636Z",
     "iopub.status.busy": "2022-11-19T00:45:17.956036Z",
     "iopub.status.idle": "2022-11-19T00:45:18.191668Z",
     "shell.execute_reply": "2022-11-19T00:45:18.191215Z"
    },
    "papermill": {
     "duration": 0.284973,
     "end_time": "2022-11-19T00:45:18.191785",
     "exception": false,
     "start_time": "2022-11-19T00:45:17.906812",
     "status": "completed"
    },
    "tags": []
   },
   "outputs": [
    {
     "data": {
      "text/plain": [
       "<matplotlib.legend.Legend at 0x7f7154897470>"
      ]
     },
     "execution_count": 24,
     "metadata": {},
     "output_type": "execute_result"
    },
    {
     "data": {
      "image/png": "[encoded data removed]",
      "text/plain": [
       "<Figure size 1080x720 with 1 Axes>"
      ]
     },
     "metadata": {
      "needs_background": "light"
     },
     "output_type": "display_data"
    }
   ],
   "source": [
    "#comparing the results of NN and LR\n",
    "plt.figure(figsize=(15,10))\n",
    "\n",
    "# Neural Network plots\n",
    "plt.plot(acc_nn.accuracies, 'r-', label = \"Training Accuracies - NN\")\n",
    "plt.plot(acc_nn.test_accuracies, 'g-', label = \"Testing Accuracies - NN\")\n",
    "\n",
    "# Logistic Regression plots\n",
    "plt.plot(acc_lr.accuracies, 'k-', label = \"Training Accuracies - LR\")\n",
    "plt.plot(acc_lr.test_accuracies, 'b-', label = \"Testing Accuracies - LR\")\n",
    "plt.legend()"
   ]
  },
  {
   "cell_type": "markdown",
   "id": "80dfb35c",
   "metadata": {
    "papermill": {
     "duration": 0.042992,
     "end_time": "2022-11-19T00:45:18.277891",
     "exception": false,
     "start_time": "2022-11-19T00:45:18.234899",
     "status": "completed"
    },
    "tags": []
   },
   "source": [
    "#### Plotting the outputs of this layer of the NN.\n"
   ]
  },
  {
   "cell_type": "code",
   "execution_count": 25,
   "id": "45eb2ff5",
   "metadata": {
    "execution": {
     "iopub.execute_input": "2022-11-19T00:45:18.370846Z",
     "iopub.status.busy": "2022-11-19T00:45:18.368017Z",
     "iopub.status.idle": "2022-11-19T00:45:18.404986Z",
     "shell.execute_reply": "2022-11-19T00:45:18.404496Z"
    },
    "papermill": {
     "duration": 0.084439,
     "end_time": "2022-11-19T00:45:18.405103",
     "exception": false,
     "start_time": "2022-11-19T00:45:18.320664",
     "status": "completed"
    },
    "tags": []
   },
   "outputs": [],
   "source": [
    "new_model = Model(layers[:-2])\n",
    "testing_plot = new_model(testing_data_x)"
   ]
  },
  {
   "cell_type": "code",
   "execution_count": 26,
   "id": "4c0a5485",
   "metadata": {
    "execution": {
     "iopub.execute_input": "2022-11-19T00:45:18.499604Z",
     "iopub.status.busy": "2022-11-19T00:45:18.496021Z",
     "iopub.status.idle": "2022-11-19T00:45:18.699916Z",
     "shell.execute_reply": "2022-11-19T00:45:18.699032Z"
    },
    "papermill": {
     "duration": 0.251889,
     "end_time": "2022-11-19T00:45:18.700041",
     "exception": false,
     "start_time": "2022-11-19T00:45:18.448152",
     "status": "completed"
    },
    "tags": []
   },
   "outputs": [
    {
     "data": {
      "text/plain": [
       "Text(0.5, 1.0, 'Outputs')"
      ]
     },
     "execution_count": 26,
     "metadata": {},
     "output_type": "execute_result"
    },
    {
     "data": {
      "image/png": "[encoded data removed]",
      "text/plain": [
       "<Figure size 576x504 with 1 Axes>"
      ]
     },
     "metadata": {
      "needs_background": "light"
     },
     "output_type": "display_data"
    }
   ],
   "source": [
    "# Plotting the scatter plot of points and color coding by class\n",
    "plt.figure(figsize=(8,7))\n",
    "plt.scatter(testing_plot[:,0], testing_plot[:,1], alpha = 0.1, c = y_test.ravel());\n",
    "plt.title('Outputs')"
   ]
  },
  {
   "cell_type": "markdown",
   "id": "a74fcf8f",
   "metadata": {
    "papermill": {
     "duration": 0.045325,
     "end_time": "2022-11-19T00:45:18.813690",
     "exception": false,
     "start_time": "2022-11-19T00:45:18.768365",
     "status": "completed"
    },
    "tags": []
   },
   "source": [
    "Probability contours"
   ]
  },
  {
   "cell_type": "code",
   "execution_count": 27,
   "id": "d0afc8e3",
   "metadata": {
    "execution": {
     "iopub.execute_input": "2022-11-19T00:45:18.909770Z",
     "iopub.status.busy": "2022-11-19T00:45:18.909178Z",
     "iopub.status.idle": "2022-11-19T00:45:18.920059Z",
     "shell.execute_reply": "2022-11-19T00:45:18.919503Z"
    },
    "papermill": {
     "duration": 0.06124,
     "end_time": "2022-11-19T00:45:18.920164",
     "exception": false,
     "start_time": "2022-11-19T00:45:18.858924",
     "status": "completed"
    },
    "tags": []
   },
   "outputs": [],
   "source": [
    "model_prob = Model(layers[-2:]) "
   ]
  },
  {
   "cell_type": "code",
   "execution_count": 28,
   "id": "9b96e238",
   "metadata": {
    "execution": {
     "iopub.execute_input": "2022-11-19T00:45:19.017500Z",
     "iopub.status.busy": "2022-11-19T00:45:19.016108Z",
     "iopub.status.idle": "2022-11-19T00:45:19.029300Z",
     "shell.execute_reply": "2022-11-19T00:45:19.029730Z"
    },
    "papermill": {
     "duration": 0.064168,
     "end_time": "2022-11-19T00:45:19.029860",
     "exception": false,
     "start_time": "2022-11-19T00:45:18.965692",
     "status": "completed"
    },
    "tags": []
   },
   "outputs": [],
   "source": [
    "#creating the x and y ranges according to the above generated plot.\n",
    "x_range = np.linspace(-4, 1, 100) \n",
    "y_range = np.linspace(-6, 6, 100) \n",
    "x_grid, y_grid = np.meshgrid(x_range, y_range) # x_grid and y_grig are of size 100 X 100\n",
    "\n",
    "# converting x_grid and y_grid to continuous arrays\n",
    "x_gridflat = np.ravel(x_grid)\n",
    "y_gridflat = np.ravel(y_grid)\n",
    "\n",
    "# The last layer of the current model takes two columns as input. Hence transpose of np.vstack() is required.\n",
    "X = np.vstack((x_gridflat, y_gridflat)).T\n",
    "\n",
    "prob_contour = model_prob(X).reshape(100,100) "
   ]
  },
  {
   "cell_type": "code",
   "execution_count": 29,
   "id": "da72499a",
   "metadata": {
    "execution": {
     "iopub.execute_input": "2022-11-19T00:45:19.130293Z",
     "iopub.status.busy": "2022-11-19T00:45:19.128318Z",
     "iopub.status.idle": "2022-11-19T00:45:19.363148Z",
     "shell.execute_reply": "2022-11-19T00:45:19.363566Z"
    },
    "papermill": {
     "duration": 0.28726,
     "end_time": "2022-11-19T00:45:19.363702",
     "exception": false,
     "start_time": "2022-11-19T00:45:19.076442",
     "status": "completed"
    },
    "tags": []
   },
   "outputs": [
    {
     "data": {
      "image/png": "[encoded data removed]",
      "text/plain": [
       "<Figure size 720x648 with 1 Axes>"
      ]
     },
     "metadata": {
      "needs_background": "light"
     },
     "output_type": "display_data"
    }
   ],
   "source": [
    "plt.figure(figsize=(10,9))\n",
    "plt.scatter(testing_plot[:,0], testing_plot[:,1], alpha = 0.1, c = y_test.ravel())\n",
    "contours = plt.contour(x_grid,y_grid,prob_contour)\n",
    "plt.title('Probability Contours')\n",
    "plt.clabel(contours, inline = True );"
   ]
  },
  {
   "cell_type": "code",
   "execution_count": null,
   "id": "e81b4ac7",
   "metadata": {
    "papermill": {
     "duration": 0.048089,
     "end_time": "2022-11-19T00:45:19.460303",
     "exception": false,
     "start_time": "2022-11-19T00:45:19.412214",
     "status": "completed"
    },
    "tags": []
   },
   "outputs": [],
   "source": []
  }
 ],
 "metadata": {
  "kernelspec": {
   "display_name": "Python 3",
   "language": "python",
   "name": "python3"
  },
  "language_info": {
   "codemirror_mode": {
    "name": "ipython",
    "version": 3
   },
   "file_extension": ".py",
   "mimetype": "text/x-python",
   "name": "python",
   "nbconvert_exporter": "python",
   "pygments_lexer": "ipython3",
   "version": "3.6.15"
  },
  "papermill": {
   "default_parameters": {},
   "duration": 195.908838,
   "end_time": "2022-11-19T00:45:19.825965",
   "environment_variables": {},
   "exception": null,
   "input_path": "2020-08-11-part2.ipynb",
   "output_path": "2020-08-11-part2.ipynb",
   "parameters": {},
   "start_time": "2022-11-19T00:42:03.917127",
   "version": "2.3.3"
  }
 },
 "nbformat": 4,
 "nbformat_minor": 5
}