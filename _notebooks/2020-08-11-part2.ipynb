{
 "cells": [
  {
   "cell_type": "markdown",
   "id": "98380cd3",
   "metadata": {
    "papermill": {
     "duration": 0.027717,
     "end_time": "2022-04-19T10:09:45.158249",
     "exception": false,
     "start_time": "2022-04-19T10:09:45.130532",
     "status": "completed"
    },
    "tags": []
   },
   "source": [
    "# Distinguish Your Own Digits (DYOD)"
   ]
  },
  {
   "cell_type": "markdown",
   "id": "ef31240d",
   "metadata": {
    "papermill": {
     "duration": 0.025245,
     "end_time": "2022-04-19T10:09:45.208013",
     "exception": false,
     "start_time": "2022-04-19T10:09:45.182768",
     "status": "completed"
    },
    "tags": []
   },
   "source": [
    "You are going to write a classifier that distinguishes between the number 3 and number 8."
   ]
  },
  {
   "cell_type": "code",
   "execution_count": 1,
   "id": "b15c8646",
   "metadata": {
    "execution": {
     "iopub.execute_input": "2022-04-19T10:09:45.266072Z",
     "iopub.status.busy": "2022-04-19T10:09:45.263292Z",
     "iopub.status.idle": "2022-04-19T10:09:45.276548Z",
     "shell.execute_reply": "2022-04-19T10:09:45.276094Z"
    },
    "papermill": {
     "duration": 0.044869,
     "end_time": "2022-04-19T10:09:45.276673",
     "exception": false,
     "start_time": "2022-04-19T10:09:45.231804",
     "status": "completed"
    },
    "tags": []
   },
   "outputs": [],
   "source": [
    "%load_ext autoreload\n",
    "%autoreload 2"
   ]
  },
  {
   "cell_type": "code",
   "execution_count": 2,
   "id": "22ef38dc",
   "metadata": {
    "execution": {
     "iopub.execute_input": "2022-04-19T10:09:45.334195Z",
     "iopub.status.busy": "2022-04-19T10:09:45.333664Z",
     "iopub.status.idle": "2022-04-19T10:09:45.859785Z",
     "shell.execute_reply": "2022-04-19T10:09:45.859230Z"
    },
    "papermill": {
     "duration": 0.559174,
     "end_time": "2022-04-19T10:09:45.859926",
     "exception": false,
     "start_time": "2022-04-19T10:09:45.300752",
     "status": "completed"
    },
    "tags": []
   },
   "outputs": [],
   "source": [
    "%matplotlib inline\n",
    "import numpy as np\n",
    "import matplotlib.pyplot as plt\n",
    "import pandas as pd"
   ]
  },
  {
   "cell_type": "markdown",
   "id": "ba036198",
   "metadata": {
    "papermill": {
     "duration": 0.024154,
     "end_time": "2022-04-19T10:09:45.908951",
     "exception": false,
     "start_time": "2022-04-19T10:09:45.884797",
     "status": "completed"
    },
    "tags": []
   },
   "source": [
    "From the command line run `pip install mnist`. This is a library that will help you bring down the mnist dataset. If you run this from a notebook, you need to put  `!pip install mnist` in a cell by itself."
   ]
  },
  {
   "cell_type": "code",
   "execution_count": 3,
   "id": "bb6ad8a1",
   "metadata": {
    "execution": {
     "iopub.execute_input": "2022-04-19T10:09:45.961229Z",
     "iopub.status.busy": "2022-04-19T10:09:45.960666Z",
     "iopub.status.idle": "2022-04-19T10:09:47.647907Z",
     "shell.execute_reply": "2022-04-19T10:09:47.647372Z"
    },
    "papermill": {
     "duration": 1.715126,
     "end_time": "2022-04-19T10:09:47.648046",
     "exception": false,
     "start_time": "2022-04-19T10:09:45.932920",
     "status": "completed"
    },
    "tags": []
   },
   "outputs": [
    {
     "name": "stdout",
     "output_type": "stream",
     "text": [
      "Collecting mnist\r\n"
     ]
    },
    {
     "name": "stdout",
     "output_type": "stream",
     "text": [
      "  Downloading mnist-0.2.2-py2.py3-none-any.whl (3.5 kB)\r\n",
      "Requirement already satisfied: numpy in /opt/hostedtoolcache/Python/3.6.15/x64/lib/python3.6/site-packages (from mnist) (1.19.5)\r\n"
     ]
    },
    {
     "name": "stdout",
     "output_type": "stream",
     "text": [
      "Installing collected packages: mnist\r\n",
      "Successfully installed mnist-0.2.2\r\n"
     ]
    }
   ],
   "source": [
    "!pip install mnist"
   ]
  },
  {
   "cell_type": "markdown",
   "id": "69df9c9a",
   "metadata": {
    "papermill": {
     "duration": 0.025189,
     "end_time": "2022-04-19T10:09:47.699483",
     "exception": false,
     "start_time": "2022-04-19T10:09:47.674294",
     "status": "completed"
    },
    "tags": []
   },
   "source": [
    "## Preparing the Data"
   ]
  },
  {
   "cell_type": "code",
   "execution_count": 4,
   "id": "7f69d806",
   "metadata": {
    "execution": {
     "iopub.execute_input": "2022-04-19T10:09:47.779716Z",
     "iopub.status.busy": "2022-04-19T10:09:47.779158Z",
     "iopub.status.idle": "2022-04-19T10:09:47.785630Z",
     "shell.execute_reply": "2022-04-19T10:09:47.785202Z"
    },
    "papermill": {
     "duration": 0.061423,
     "end_time": "2022-04-19T10:09:47.785747",
     "exception": false,
     "start_time": "2022-04-19T10:09:47.724324",
     "status": "completed"
    },
    "tags": []
   },
   "outputs": [],
   "source": [
    "import mnist"
   ]
  },
  {
   "cell_type": "code",
   "execution_count": 5,
   "id": "a411e44f",
   "metadata": {
    "execution": {
     "iopub.execute_input": "2022-04-19T10:09:47.849826Z",
     "iopub.status.busy": "2022-04-19T10:09:47.845441Z",
     "iopub.status.idle": "2022-04-19T10:09:48.350963Z",
     "shell.execute_reply": "2022-04-19T10:09:48.350398Z"
    },
    "papermill": {
     "duration": 0.540217,
     "end_time": "2022-04-19T10:09:48.351120",
     "exception": false,
     "start_time": "2022-04-19T10:09:47.810903",
     "status": "completed"
    },
    "tags": []
   },
   "outputs": [],
   "source": [
    "train_images = mnist.train_images()\n",
    "train_labels = mnist.train_labels()"
   ]
  },
  {
   "cell_type": "code",
   "execution_count": 6,
   "id": "dceab3a5",
   "metadata": {
    "execution": {
     "iopub.execute_input": "2022-04-19T10:09:48.406355Z",
     "iopub.status.busy": "2022-04-19T10:09:48.405751Z",
     "iopub.status.idle": "2022-04-19T10:09:48.421404Z",
     "shell.execute_reply": "2022-04-19T10:09:48.422057Z"
    },
    "papermill": {
     "duration": 0.045195,
     "end_time": "2022-04-19T10:09:48.422191",
     "exception": false,
     "start_time": "2022-04-19T10:09:48.376996",
     "status": "completed"
    },
    "tags": []
   },
   "outputs": [
    {
     "data": {
      "text/plain": [
       "((60000, 28, 28), (60000,))"
      ]
     },
     "execution_count": 6,
     "metadata": {},
     "output_type": "execute_result"
    }
   ],
   "source": [
    "train_images.shape, train_labels.shape"
   ]
  },
  {
   "cell_type": "code",
   "execution_count": 7,
   "id": "f50dc2bb",
   "metadata": {
    "execution": {
     "iopub.execute_input": "2022-04-19T10:09:48.477894Z",
     "iopub.status.busy": "2022-04-19T10:09:48.477376Z",
     "iopub.status.idle": "2022-04-19T10:09:48.657876Z",
     "shell.execute_reply": "2022-04-19T10:09:48.657351Z"
    },
    "papermill": {
     "duration": 0.210844,
     "end_time": "2022-04-19T10:09:48.658012",
     "exception": false,
     "start_time": "2022-04-19T10:09:48.447168",
     "status": "completed"
    },
    "tags": []
   },
   "outputs": [],
   "source": [
    "test_images = mnist.test_images()\n",
    "test_labels = mnist.test_labels()"
   ]
  },
  {
   "cell_type": "code",
   "execution_count": 8,
   "id": "fc38cf1b",
   "metadata": {
    "execution": {
     "iopub.execute_input": "2022-04-19T10:09:48.717697Z",
     "iopub.status.busy": "2022-04-19T10:09:48.715103Z",
     "iopub.status.idle": "2022-04-19T10:09:48.727628Z",
     "shell.execute_reply": "2022-04-19T10:09:48.727212Z"
    },
    "papermill": {
     "duration": 0.043419,
     "end_time": "2022-04-19T10:09:48.727741",
     "exception": false,
     "start_time": "2022-04-19T10:09:48.684322",
     "status": "completed"
    },
    "tags": []
   },
   "outputs": [
    {
     "data": {
      "text/plain": [
       "((10000, 28, 28), (10000,))"
      ]
     },
     "execution_count": 8,
     "metadata": {},
     "output_type": "execute_result"
    }
   ],
   "source": [
    "test_images.shape, test_labels.shape"
   ]
  },
  {
   "cell_type": "code",
   "execution_count": 9,
   "id": "f9ed8fe0",
   "metadata": {
    "execution": {
     "iopub.execute_input": "2022-04-19T10:09:48.788487Z",
     "iopub.status.busy": "2022-04-19T10:09:48.787956Z",
     "iopub.status.idle": "2022-04-19T10:09:48.920116Z",
     "shell.execute_reply": "2022-04-19T10:09:48.920590Z"
    },
    "papermill": {
     "duration": 0.167519,
     "end_time": "2022-04-19T10:09:48.920740",
     "exception": false,
     "start_time": "2022-04-19T10:09:48.753221",
     "status": "completed"
    },
    "tags": []
   },
   "outputs": [
    {
     "name": "stdout",
     "output_type": "stream",
     "text": [
      "2\n"
     ]
    },
    {
     "data": {
      "text/plain": [
       "<matplotlib.image.AxesImage at 0x7f25fb29c390>"
      ]
     },
     "execution_count": 9,
     "metadata": {},
     "output_type": "execute_result"
    },
    {
     "data": {
      "image/png": "[encoded data removed]",
      "text/plain": [
       "<Figure size 432x288 with 1 Axes>"
      ]
     },
     "metadata": {
      "needs_background": "light"
     },
     "output_type": "display_data"
    }
   ],
   "source": [
    "image_index = 7776 # You may select anything up to 60,000\n",
    "print(train_labels[image_index]) \n",
    "plt.imshow(train_images[image_index], cmap='Greys')"
   ]
  },
  {
   "cell_type": "markdown",
   "id": "a8d2388d",
   "metadata": {
    "papermill": {
     "duration": 0.026718,
     "end_time": "2022-04-19T10:09:48.974960",
     "exception": false,
     "start_time": "2022-04-19T10:09:48.948242",
     "status": "completed"
    },
    "tags": []
   },
   "source": [
    "## Filter data to get 3 and 8 out"
   ]
  },
  {
   "cell_type": "code",
   "execution_count": 10,
   "id": "776f7fc7",
   "metadata": {
    "execution": {
     "iopub.execute_input": "2022-04-19T10:09:49.045699Z",
     "iopub.status.busy": "2022-04-19T10:09:49.045136Z",
     "iopub.status.idle": "2022-04-19T10:09:49.050571Z",
     "shell.execute_reply": "2022-04-19T10:09:49.050960Z"
    },
    "papermill": {
     "duration": 0.049622,
     "end_time": "2022-04-19T10:09:49.051093",
     "exception": false,
     "start_time": "2022-04-19T10:09:49.001471",
     "status": "completed"
    },
    "tags": []
   },
   "outputs": [],
   "source": [
    "train_filter = np.where((train_labels == 3 ) | (train_labels == 8))\n",
    "test_filter = np.where((test_labels == 3) | (test_labels == 8))\n",
    "X_train, y_train = train_images[train_filter], train_labels[train_filter]\n",
    "X_test, y_test = test_images[test_filter], test_labels[test_filter]"
   ]
  },
  {
   "cell_type": "markdown",
   "id": "948f0b7e",
   "metadata": {
    "papermill": {
     "duration": 0.026339,
     "end_time": "2022-04-19T10:09:49.103975",
     "exception": false,
     "start_time": "2022-04-19T10:09:49.077636",
     "status": "completed"
    },
    "tags": []
   },
   "source": [
    "We normalize the pizel values in the 0 to 1 range"
   ]
  },
  {
   "cell_type": "code",
   "execution_count": 11,
   "id": "ee4c2166",
   "metadata": {
    "execution": {
     "iopub.execute_input": "2022-04-19T10:09:49.174066Z",
     "iopub.status.busy": "2022-04-19T10:09:49.160010Z",
     "iopub.status.idle": "2022-04-19T10:09:49.208584Z",
     "shell.execute_reply": "2022-04-19T10:09:49.209095Z"
    },
    "papermill": {
     "duration": 0.078886,
     "end_time": "2022-04-19T10:09:49.209264",
     "exception": false,
     "start_time": "2022-04-19T10:09:49.130378",
     "status": "completed"
    },
    "tags": []
   },
   "outputs": [],
   "source": [
    "X_train = X_train/255.\n",
    "X_test = X_test/255."
   ]
  },
  {
   "cell_type": "markdown",
   "id": "ddcf4fab",
   "metadata": {
    "papermill": {
     "duration": 0.026431,
     "end_time": "2022-04-19T10:09:49.263039",
     "exception": false,
     "start_time": "2022-04-19T10:09:49.236608",
     "status": "completed"
    },
    "tags": []
   },
   "source": [
    "And setup the labels as 1 (when the digit is 3) and 0 (when the digit is 8)"
   ]
  },
  {
   "cell_type": "code",
   "execution_count": 12,
   "id": "7dc908f2",
   "metadata": {
    "execution": {
     "iopub.execute_input": "2022-04-19T10:09:49.330176Z",
     "iopub.status.busy": "2022-04-19T10:09:49.319225Z",
     "iopub.status.idle": "2022-04-19T10:09:49.335279Z",
     "shell.execute_reply": "2022-04-19T10:09:49.335666Z"
    },
    "papermill": {
     "duration": 0.046156,
     "end_time": "2022-04-19T10:09:49.335800",
     "exception": false,
     "start_time": "2022-04-19T10:09:49.289644",
     "status": "completed"
    },
    "tags": []
   },
   "outputs": [],
   "source": [
    "y_train = 1*(y_train==3)\n",
    "y_test = 1*(y_test==3)"
   ]
  },
  {
   "cell_type": "code",
   "execution_count": 13,
   "id": "01e4e969",
   "metadata": {
    "execution": {
     "iopub.execute_input": "2022-04-19T10:09:49.397913Z",
     "iopub.status.busy": "2022-04-19T10:09:49.397386Z",
     "iopub.status.idle": "2022-04-19T10:09:49.407666Z",
     "shell.execute_reply": "2022-04-19T10:09:49.407244Z"
    },
    "papermill": {
     "duration": 0.045397,
     "end_time": "2022-04-19T10:09:49.407784",
     "exception": false,
     "start_time": "2022-04-19T10:09:49.362387",
     "status": "completed"
    },
    "tags": []
   },
   "outputs": [
    {
     "data": {
      "text/plain": [
       "((11982, 28, 28), (1984, 28, 28))"
      ]
     },
     "execution_count": 13,
     "metadata": {},
     "output_type": "execute_result"
    }
   ],
   "source": [
    "X_train.shape, X_test.shape"
   ]
  },
  {
   "cell_type": "markdown",
   "id": "5ccf3f85",
   "metadata": {
    "papermill": {
     "duration": 0.026817,
     "end_time": "2022-04-19T10:09:49.461463",
     "exception": false,
     "start_time": "2022-04-19T10:09:49.434646",
     "status": "completed"
    },
    "tags": []
   },
   "source": [
    "We reshape the data to flatten the image pixels into a set of features or co-variates:"
   ]
  },
  {
   "cell_type": "code",
   "execution_count": 14,
   "id": "5286a4a3",
   "metadata": {
    "execution": {
     "iopub.execute_input": "2022-04-19T10:09:49.535465Z",
     "iopub.status.busy": "2022-04-19T10:09:49.534907Z",
     "iopub.status.idle": "2022-04-19T10:09:49.538103Z",
     "shell.execute_reply": "2022-04-19T10:09:49.537653Z"
    },
    "papermill": {
     "duration": 0.049245,
     "end_time": "2022-04-19T10:09:49.538217",
     "exception": false,
     "start_time": "2022-04-19T10:09:49.488972",
     "status": "completed"
    },
    "tags": []
   },
   "outputs": [
    {
     "data": {
      "text/plain": [
       "((11982, 784), (1984, 784))"
      ]
     },
     "execution_count": 14,
     "metadata": {},
     "output_type": "execute_result"
    }
   ],
   "source": [
    "X_train = X_train.reshape(X_train.shape[0], -1)\n",
    "X_test = X_test.reshape(X_test.shape[0], -1)\n",
    "X_train.shape, X_test.shape"
   ]
  },
  {
   "cell_type": "code",
   "execution_count": 15,
   "id": "73c5f88a",
   "metadata": {
    "execution": {
     "iopub.execute_input": "2022-04-19T10:09:49.597616Z",
     "iopub.status.busy": "2022-04-19T10:09:49.596482Z",
     "iopub.status.idle": "2022-04-19T10:09:49.615030Z",
     "shell.execute_reply": "2022-04-19T10:09:49.614608Z"
    },
    "papermill": {
     "duration": 0.049601,
     "end_time": "2022-04-19T10:09:49.615145",
     "exception": false,
     "start_time": "2022-04-19T10:09:49.565544",
     "status": "completed"
    },
    "tags": []
   },
   "outputs": [],
   "source": [
    "#Impoting functions from 'Kudzu'\n",
    "from kudzu.model import Model\n",
    "from kudzu.train import Learner\n",
    "from kudzu.optim import GD\n",
    "from kudzu.data import Data, Sampler,Dataloader\n",
    "\n",
    "from kudzu.callbacks import AccCallback\n",
    "from kudzu.callbacks import ClfCallback\n",
    "\n",
    "from kudzu.loss import MSE\n",
    "\n",
    "from kudzu.layer import Sigmoid,Relu\n",
    "from kudzu.layer import Affine"
   ]
  },
  {
   "cell_type": "markdown",
   "id": "bc01172a",
   "metadata": {
    "papermill": {
     "duration": 0.026941,
     "end_time": "2022-04-19T10:09:49.669189",
     "exception": false,
     "start_time": "2022-04-19T10:09:49.642248",
     "status": "completed"
    },
    "tags": []
   },
   "source": [
    "### Let us create a `Config` class, to store important parameters. \n",
    "This class essentially plays the role of a dictionary."
   ]
  },
  {
   "cell_type": "code",
   "execution_count": 16,
   "id": "978281aa",
   "metadata": {
    "execution": {
     "iopub.execute_input": "2022-04-19T10:09:49.732325Z",
     "iopub.status.busy": "2022-04-19T10:09:49.731798Z",
     "iopub.status.idle": "2022-04-19T10:09:49.741186Z",
     "shell.execute_reply": "2022-04-19T10:09:49.740714Z"
    },
    "papermill": {
     "duration": 0.045149,
     "end_time": "2022-04-19T10:09:49.741299",
     "exception": false,
     "start_time": "2022-04-19T10:09:49.696150",
     "status": "completed"
    },
    "tags": []
   },
   "outputs": [],
   "source": [
    "class Config:\n",
    "    pass\n",
    "config = Config()\n",
    "config.lr = 0.001\n",
    "config.num_epochs = 250\n",
    "config.bs = 50"
   ]
  },
  {
   "cell_type": "markdown",
   "id": "1385fa59",
   "metadata": {
    "papermill": {
     "duration": 0.026955,
     "end_time": "2022-04-19T10:09:49.795289",
     "exception": false,
     "start_time": "2022-04-19T10:09:49.768334",
     "status": "completed"
    },
    "tags": []
   },
   "source": [
    "### Running Models with the Training data\n",
    "Details about the network layers:\n",
    "- A first affine layer has 784 inputs and does 100 affine transforms. These are followed by a Relu\n",
    "- A second affine layer has 100 inputs from the 100 activations of the past layer, and does 100 affine transforms. These are followed by a Relu\n",
    "- A third affine layer has 100 activations and does 2 affine transformations to create an embedding for visualization. There is no non-linearity here.\n",
    "- A final \"logistic regression\" which has an affine transform from 2 inputs to 1 output, which is squeezed through a sigmoid.\n"
   ]
  },
  {
   "cell_type": "code",
   "execution_count": 17,
   "id": "2b9c66db",
   "metadata": {
    "execution": {
     "iopub.execute_input": "2022-04-19T10:09:49.856717Z",
     "iopub.status.busy": "2022-04-19T10:09:49.856199Z",
     "iopub.status.idle": "2022-04-19T10:09:49.866147Z",
     "shell.execute_reply": "2022-04-19T10:09:49.866586Z"
    },
    "papermill": {
     "duration": 0.044412,
     "end_time": "2022-04-19T10:09:49.866717",
     "exception": false,
     "start_time": "2022-04-19T10:09:49.822305",
     "status": "completed"
    },
    "tags": []
   },
   "outputs": [],
   "source": [
    "data = Data(X_train, y_train.reshape(-1,1))\n",
    "sampler = Sampler(data, config.bs, shuffle=True)\n",
    "\n",
    "dl = Dataloader(data, sampler)\n",
    "\n",
    "opt = GD(config.lr)\n",
    "loss = MSE()"
   ]
  },
  {
   "cell_type": "code",
   "execution_count": 18,
   "id": "b275e4c2",
   "metadata": {
    "execution": {
     "iopub.execute_input": "2022-04-19T10:09:49.924809Z",
     "iopub.status.busy": "2022-04-19T10:09:49.924282Z",
     "iopub.status.idle": "2022-04-19T10:09:49.936694Z",
     "shell.execute_reply": "2022-04-19T10:09:49.936274Z"
    },
    "papermill": {
     "duration": 0.042848,
     "end_time": "2022-04-19T10:09:49.936807",
     "exception": false,
     "start_time": "2022-04-19T10:09:49.893959",
     "status": "completed"
    },
    "tags": []
   },
   "outputs": [],
   "source": [
    "training_data_x = X_train\n",
    "testing_data_x = X_test\n",
    "training_data_y = y_train.reshape(-1,1)\n",
    "testing_data_y = y_test.reshape(-1,1)"
   ]
  },
  {
   "cell_type": "code",
   "execution_count": 19,
   "id": "76951160",
   "metadata": {
    "execution": {
     "iopub.execute_input": "2022-04-19T10:09:49.999932Z",
     "iopub.status.busy": "2022-04-19T10:09:49.999400Z",
     "iopub.status.idle": "2022-04-19T10:09:50.012686Z",
     "shell.execute_reply": "2022-04-19T10:09:50.013096Z"
    },
    "papermill": {
     "duration": 0.049386,
     "end_time": "2022-04-19T10:09:50.013237",
     "exception": false,
     "start_time": "2022-04-19T10:09:49.963851",
     "status": "completed"
    },
    "tags": []
   },
   "outputs": [
    {
     "name": "stdout",
     "output_type": "stream",
     "text": [
      "xavier\n",
      "xavier\n",
      "xavier\n",
      "xavier\n",
      "xavier\n"
     ]
    }
   ],
   "source": [
    "layers = [Affine(\"first\", 784, 100), Relu(\"first\"), Affine(\"second\", 100, 100), Relu(\"second\"), Affine(\"third\", 100, 2), Affine(\"last\", 2, 1), Sigmoid(\"last\")]\n",
    "model_nn = Model(layers)\n",
    "model_lr = Model([Affine(\"logits\", 784, 1), Sigmoid(\"sigmoid\")])"
   ]
  },
  {
   "cell_type": "code",
   "execution_count": 20,
   "id": "6eede77a",
   "metadata": {
    "execution": {
     "iopub.execute_input": "2022-04-19T10:09:50.071979Z",
     "iopub.status.busy": "2022-04-19T10:09:50.071456Z",
     "iopub.status.idle": "2022-04-19T10:09:50.083606Z",
     "shell.execute_reply": "2022-04-19T10:09:50.083184Z"
    },
    "papermill": {
     "duration": 0.04301,
     "end_time": "2022-04-19T10:09:50.083723",
     "exception": false,
     "start_time": "2022-04-19T10:09:50.040713",
     "status": "completed"
    },
    "tags": []
   },
   "outputs": [],
   "source": [
    "nn_learner = Learner(loss, model_nn, opt, config.num_epochs)\n",
    "acc_nn = ClfCallback(nn_learner, config.bs, training_data_x , testing_data_x, training_data_y, testing_data_y)\n",
    "nn_learner.set_callbacks([acc_nn])"
   ]
  },
  {
   "cell_type": "code",
   "execution_count": 21,
   "id": "877b6cc7",
   "metadata": {
    "execution": {
     "iopub.execute_input": "2022-04-19T10:09:50.142603Z",
     "iopub.status.busy": "2022-04-19T10:09:50.142083Z",
     "iopub.status.idle": "2022-04-19T10:09:50.154143Z",
     "shell.execute_reply": "2022-04-19T10:09:50.153703Z"
    },
    "papermill": {
     "duration": 0.043111,
     "end_time": "2022-04-19T10:09:50.154253",
     "exception": false,
     "start_time": "2022-04-19T10:09:50.111142",
     "status": "completed"
    },
    "tags": []
   },
   "outputs": [],
   "source": [
    "lr_learner = Learner(loss, model_lr, opt, config.num_epochs)\n",
    "acc_lr = ClfCallback(lr_learner, config.bs, training_data_x , testing_data_x, training_data_y, testing_data_y)\n",
    "lr_learner.set_callbacks([acc_lr])"
   ]
  },
  {
   "cell_type": "code",
   "execution_count": 22,
   "id": "d9b133c3",
   "metadata": {
    "execution": {
     "iopub.execute_input": "2022-04-19T10:09:50.215188Z",
     "iopub.status.busy": "2022-04-19T10:09:50.214667Z",
     "iopub.status.idle": "2022-04-19T10:11:07.402338Z",
     "shell.execute_reply": "2022-04-19T10:11:07.403093Z"
    },
    "papermill": {
     "duration": 77.221585,
     "end_time": "2022-04-19T10:11:07.403242",
     "exception": false,
     "start_time": "2022-04-19T10:09:50.181657",
     "status": "completed"
    },
    "tags": []
   },
   "outputs": [
    {
     "name": "stdout",
     "output_type": "stream",
     "text": [
      "Epoch 0, Loss 0.2535\n",
      "Training Accuracy: 0.4805, Testing Accuracy: 0.4778\n",
      "\n"
     ]
    },
    {
     "name": "stdout",
     "output_type": "stream",
     "text": [
      "Epoch 10, Loss 0.1408\n",
      "Training Accuracy: 0.8957, Testing Accuracy: 0.9047\n",
      "\n"
     ]
    },
    {
     "name": "stdout",
     "output_type": "stream",
     "text": [
      "Epoch 20, Loss 0.0741\n",
      "Training Accuracy: 0.9253, Testing Accuracy: 0.9385\n",
      "\n"
     ]
    },
    {
     "name": "stdout",
     "output_type": "stream",
     "text": [
      "Epoch 30, Loss 0.0533\n",
      "Training Accuracy: 0.9439, Testing Accuracy: 0.9531\n",
      "\n"
     ]
    },
    {
     "name": "stdout",
     "output_type": "stream",
     "text": [
      "Epoch 40, Loss 0.0438\n",
      "Training Accuracy: 0.9520, Testing Accuracy: 0.9572\n",
      "\n"
     ]
    },
    {
     "name": "stdout",
     "output_type": "stream",
     "text": [
      "Epoch 50, Loss 0.0385\n",
      "Training Accuracy: 0.9573, Testing Accuracy: 0.9622\n",
      "\n"
     ]
    },
    {
     "name": "stdout",
     "output_type": "stream",
     "text": [
      "Epoch 60, Loss 0.0351\n",
      "Training Accuracy: 0.9605, Testing Accuracy: 0.9657\n",
      "\n"
     ]
    },
    {
     "name": "stdout",
     "output_type": "stream",
     "text": [
      "Epoch 70, Loss 0.0327\n",
      "Training Accuracy: 0.9624, Testing Accuracy: 0.9667\n",
      "\n"
     ]
    },
    {
     "name": "stdout",
     "output_type": "stream",
     "text": [
      "Epoch 80, Loss 0.0309\n",
      "Training Accuracy: 0.9642, Testing Accuracy: 0.9677\n",
      "\n"
     ]
    },
    {
     "name": "stdout",
     "output_type": "stream",
     "text": [
      "Epoch 90, Loss 0.0294\n",
      "Training Accuracy: 0.9662, Testing Accuracy: 0.9693\n",
      "\n"
     ]
    },
    {
     "name": "stdout",
     "output_type": "stream",
     "text": [
      "Epoch 100, Loss 0.0282\n",
      "Training Accuracy: 0.9679, Testing Accuracy: 0.9703\n",
      "\n"
     ]
    },
    {
     "name": "stdout",
     "output_type": "stream",
     "text": [
      "Epoch 110, Loss 0.0272\n",
      "Training Accuracy: 0.9689, Testing Accuracy: 0.9698\n",
      "\n"
     ]
    },
    {
     "name": "stdout",
     "output_type": "stream",
     "text": [
      "Epoch 120, Loss 0.0263\n",
      "Training Accuracy: 0.9695, Testing Accuracy: 0.9708\n",
      "\n"
     ]
    },
    {
     "name": "stdout",
     "output_type": "stream",
     "text": [
      "Epoch 130, Loss 0.0256\n",
      "Training Accuracy: 0.9706, Testing Accuracy: 0.9703\n",
      "\n"
     ]
    },
    {
     "name": "stdout",
     "output_type": "stream",
     "text": [
      "Epoch 140, Loss 0.0248\n",
      "Training Accuracy: 0.9710, Testing Accuracy: 0.9713\n",
      "\n"
     ]
    },
    {
     "name": "stdout",
     "output_type": "stream",
     "text": [
      "Epoch 150, Loss 0.0242\n",
      "Training Accuracy: 0.9724, Testing Accuracy: 0.9713\n",
      "\n"
     ]
    },
    {
     "name": "stdout",
     "output_type": "stream",
     "text": [
      "Epoch 160, Loss 0.0237\n",
      "Training Accuracy: 0.9731, Testing Accuracy: 0.9713\n",
      "\n"
     ]
    },
    {
     "name": "stdout",
     "output_type": "stream",
     "text": [
      "Epoch 170, Loss 0.0231\n",
      "Training Accuracy: 0.9738, Testing Accuracy: 0.9718\n",
      "\n"
     ]
    },
    {
     "name": "stdout",
     "output_type": "stream",
     "text": [
      "Epoch 180, Loss 0.0226\n",
      "Training Accuracy: 0.9742, Testing Accuracy: 0.9713\n",
      "\n"
     ]
    },
    {
     "name": "stdout",
     "output_type": "stream",
     "text": [
      "Epoch 190, Loss 0.0221\n",
      "Training Accuracy: 0.9753, Testing Accuracy: 0.9713\n",
      "\n"
     ]
    },
    {
     "name": "stdout",
     "output_type": "stream",
     "text": [
      "Epoch 200, Loss 0.0217\n",
      "Training Accuracy: 0.9755, Testing Accuracy: 0.9723\n",
      "\n"
     ]
    },
    {
     "name": "stdout",
     "output_type": "stream",
     "text": [
      "Epoch 210, Loss 0.0213\n",
      "Training Accuracy: 0.9760, Testing Accuracy: 0.9728\n",
      "\n"
     ]
    },
    {
     "name": "stdout",
     "output_type": "stream",
     "text": [
      "Epoch 220, Loss 0.0209\n",
      "Training Accuracy: 0.9766, Testing Accuracy: 0.9728\n",
      "\n"
     ]
    },
    {
     "name": "stdout",
     "output_type": "stream",
     "text": [
      "Epoch 230, Loss 0.0205\n",
      "Training Accuracy: 0.9771, Testing Accuracy: 0.9728\n",
      "\n"
     ]
    },
    {
     "name": "stdout",
     "output_type": "stream",
     "text": [
      "Epoch 240, Loss 0.0201\n",
      "Training Accuracy: 0.9776, Testing Accuracy: 0.9728\n",
      "\n"
     ]
    },
    {
     "data": {
      "text/plain": [
       "0.00656598850965896"
      ]
     },
     "execution_count": 22,
     "metadata": {},
     "output_type": "execute_result"
    }
   ],
   "source": [
    "nn_learner.train_loop(dl)"
   ]
  },
  {
   "cell_type": "code",
   "execution_count": 23,
   "id": "e0163366",
   "metadata": {
    "execution": {
     "iopub.execute_input": "2022-04-19T10:11:07.498202Z",
     "iopub.status.busy": "2022-04-19T10:11:07.497655Z",
     "iopub.status.idle": "2022-04-19T10:11:20.979995Z",
     "shell.execute_reply": "2022-04-19T10:11:20.980740Z"
    },
    "papermill": {
     "duration": 13.542661,
     "end_time": "2022-04-19T10:11:20.980911",
     "exception": false,
     "start_time": "2022-04-19T10:11:07.438250",
     "status": "completed"
    },
    "tags": []
   },
   "outputs": [
    {
     "name": "stdout",
     "output_type": "stream",
     "text": [
      "Epoch 0, Loss 0.2306\n",
      "Training Accuracy: 0.7651, Testing Accuracy: 0.7742\n",
      "\n"
     ]
    },
    {
     "name": "stdout",
     "output_type": "stream",
     "text": [
      "Epoch 10, Loss 0.1003\n",
      "Training Accuracy: 0.9145, Testing Accuracy: 0.9249\n",
      "\n"
     ]
    },
    {
     "name": "stdout",
     "output_type": "stream",
     "text": [
      "Epoch 20, Loss 0.078\n",
      "Training Accuracy: 0.9288, Testing Accuracy: 0.9395\n",
      "\n"
     ]
    },
    {
     "name": "stdout",
     "output_type": "stream",
     "text": [
      "Epoch 30, Loss 0.0676\n",
      "Training Accuracy: 0.9362, Testing Accuracy: 0.9476\n",
      "\n"
     ]
    },
    {
     "name": "stdout",
     "output_type": "stream",
     "text": [
      "Epoch 40, Loss 0.0613\n",
      "Training Accuracy: 0.9424, Testing Accuracy: 0.9516\n",
      "\n"
     ]
    },
    {
     "name": "stdout",
     "output_type": "stream",
     "text": [
      "Epoch 50, Loss 0.0569\n",
      "Training Accuracy: 0.9456, Testing Accuracy: 0.9551\n",
      "\n"
     ]
    },
    {
     "name": "stdout",
     "output_type": "stream",
     "text": [
      "Epoch 60, Loss 0.0537\n",
      "Training Accuracy: 0.9484, Testing Accuracy: 0.9572\n",
      "\n"
     ]
    },
    {
     "name": "stdout",
     "output_type": "stream",
     "text": [
      "Epoch 70, Loss 0.0512\n",
      "Training Accuracy: 0.9499, Testing Accuracy: 0.9592\n",
      "\n"
     ]
    },
    {
     "name": "stdout",
     "output_type": "stream",
     "text": [
      "Epoch 80, Loss 0.0492\n",
      "Training Accuracy: 0.9514, Testing Accuracy: 0.9607\n",
      "\n"
     ]
    },
    {
     "name": "stdout",
     "output_type": "stream",
     "text": [
      "Epoch 90, Loss 0.0475\n",
      "Training Accuracy: 0.9533, Testing Accuracy: 0.9602\n",
      "\n"
     ]
    },
    {
     "name": "stdout",
     "output_type": "stream",
     "text": [
      "Epoch 100, Loss 0.0461\n",
      "Training Accuracy: 0.9537, Testing Accuracy: 0.9607\n",
      "\n"
     ]
    },
    {
     "name": "stdout",
     "output_type": "stream",
     "text": [
      "Epoch 110, Loss 0.0449\n",
      "Training Accuracy: 0.9551, Testing Accuracy: 0.9612\n",
      "\n"
     ]
    },
    {
     "name": "stdout",
     "output_type": "stream",
     "text": [
      "Epoch 120, Loss 0.0438\n",
      "Training Accuracy: 0.9558, Testing Accuracy: 0.9627\n",
      "\n"
     ]
    },
    {
     "name": "stdout",
     "output_type": "stream",
     "text": [
      "Epoch 130, Loss 0.0429\n",
      "Training Accuracy: 0.9563, Testing Accuracy: 0.9637\n",
      "\n"
     ]
    },
    {
     "name": "stdout",
     "output_type": "stream",
     "text": [
      "Epoch 140, Loss 0.0421\n",
      "Training Accuracy: 0.9568, Testing Accuracy: 0.9637\n",
      "\n"
     ]
    },
    {
     "name": "stdout",
     "output_type": "stream",
     "text": [
      "Epoch 150, Loss 0.0413\n",
      "Training Accuracy: 0.9578, Testing Accuracy: 0.9637\n",
      "\n"
     ]
    },
    {
     "name": "stdout",
     "output_type": "stream",
     "text": [
      "Epoch 160, Loss 0.0407\n",
      "Training Accuracy: 0.9583, Testing Accuracy: 0.9642\n",
      "\n"
     ]
    },
    {
     "name": "stdout",
     "output_type": "stream",
     "text": [
      "Epoch 170, Loss 0.0401\n",
      "Training Accuracy: 0.9582, Testing Accuracy: 0.9647\n",
      "\n"
     ]
    },
    {
     "name": "stdout",
     "output_type": "stream",
     "text": [
      "Epoch 180, Loss 0.0395\n",
      "Training Accuracy: 0.9585, Testing Accuracy: 0.9652\n",
      "\n"
     ]
    },
    {
     "name": "stdout",
     "output_type": "stream",
     "text": [
      "Epoch 190, Loss 0.039\n",
      "Training Accuracy: 0.9589, Testing Accuracy: 0.9672\n",
      "\n"
     ]
    },
    {
     "name": "stdout",
     "output_type": "stream",
     "text": [
      "Epoch 200, Loss 0.0385\n",
      "Training Accuracy: 0.9593, Testing Accuracy: 0.9672\n",
      "\n"
     ]
    },
    {
     "name": "stdout",
     "output_type": "stream",
     "text": [
      "Epoch 210, Loss 0.0381\n",
      "Training Accuracy: 0.9598, Testing Accuracy: 0.9672\n",
      "\n"
     ]
    },
    {
     "name": "stdout",
     "output_type": "stream",
     "text": [
      "Epoch 220, Loss 0.0376\n",
      "Training Accuracy: 0.9600, Testing Accuracy: 0.9677\n",
      "\n"
     ]
    },
    {
     "name": "stdout",
     "output_type": "stream",
     "text": [
      "Epoch 230, Loss 0.0373\n",
      "Training Accuracy: 0.9604, Testing Accuracy: 0.9677\n",
      "\n"
     ]
    },
    {
     "name": "stdout",
     "output_type": "stream",
     "text": [
      "Epoch 240, Loss 0.0369\n",
      "Training Accuracy: 0.9607, Testing Accuracy: 0.9677\n",
      "\n"
     ]
    },
    {
     "data": {
      "text/plain": [
       "0.02417715794125549"
      ]
     },
     "execution_count": 23,
     "metadata": {},
     "output_type": "execute_result"
    }
   ],
   "source": [
    "lr_learner.train_loop(dl)"
   ]
  },
  {
   "cell_type": "code",
   "execution_count": 24,
   "id": "ca410940",
   "metadata": {
    "execution": {
     "iopub.execute_input": "2022-04-19T10:11:21.074121Z",
     "iopub.status.busy": "2022-04-19T10:11:21.073578Z",
     "iopub.status.idle": "2022-04-19T10:11:21.295295Z",
     "shell.execute_reply": "2022-04-19T10:11:21.294600Z"
    },
    "papermill": {
     "duration": 0.273128,
     "end_time": "2022-04-19T10:11:21.295421",
     "exception": false,
     "start_time": "2022-04-19T10:11:21.022293",
     "status": "completed"
    },
    "tags": []
   },
   "outputs": [
    {
     "data": {
      "text/plain": [
       "<matplotlib.legend.Legend at 0x7f25ee6ceb00>"
      ]
     },
     "execution_count": 24,
     "metadata": {},
     "output_type": "execute_result"
    },
    {
     "data": {
      "image/png": "[encoded data removed]",
      "text/plain": [
       "<Figure size 1080x720 with 1 Axes>"
      ]
     },
     "metadata": {
      "needs_background": "light"
     },
     "output_type": "display_data"
    }
   ],
   "source": [
    "#comparing the results of NN and LR\n",
    "plt.figure(figsize=(15,10))\n",
    "\n",
    "# Neural Network plots\n",
    "plt.plot(acc_nn.accuracies, 'r-', label = \"Training Accuracies - NN\")\n",
    "plt.plot(acc_nn.test_accuracies, 'g-', label = \"Testing Accuracies - NN\")\n",
    "\n",
    "# Logistic Regression plots\n",
    "plt.plot(acc_lr.accuracies, 'k-', label = \"Training Accuracies - LR\")\n",
    "plt.plot(acc_lr.test_accuracies, 'b-', label = \"Testing Accuracies - LR\")\n",
    "plt.legend()"
   ]
  },
  {
   "cell_type": "markdown",
   "id": "80dfb35c",
   "metadata": {
    "papermill": {
     "duration": 0.042359,
     "end_time": "2022-04-19T10:11:21.380601",
     "exception": false,
     "start_time": "2022-04-19T10:11:21.338242",
     "status": "completed"
    },
    "tags": []
   },
   "source": [
    "#### Plotting the outputs of this layer of the NN.\n"
   ]
  },
  {
   "cell_type": "code",
   "execution_count": 25,
   "id": "45eb2ff5",
   "metadata": {
    "execution": {
     "iopub.execute_input": "2022-04-19T10:11:21.482905Z",
     "iopub.status.busy": "2022-04-19T10:11:21.482358Z",
     "iopub.status.idle": "2022-04-19T10:11:21.493808Z",
     "shell.execute_reply": "2022-04-19T10:11:21.494518Z"
    },
    "papermill": {
     "duration": 0.071851,
     "end_time": "2022-04-19T10:11:21.494669",
     "exception": false,
     "start_time": "2022-04-19T10:11:21.422818",
     "status": "completed"
    },
    "tags": []
   },
   "outputs": [],
   "source": [
    "new_model = Model(layers[:-2])\n",
    "testing_plot = new_model(testing_data_x)"
   ]
  },
  {
   "cell_type": "code",
   "execution_count": 26,
   "id": "4c0a5485",
   "metadata": {
    "execution": {
     "iopub.execute_input": "2022-04-19T10:11:21.595375Z",
     "iopub.status.busy": "2022-04-19T10:11:21.594492Z",
     "iopub.status.idle": "2022-04-19T10:11:21.775585Z",
     "shell.execute_reply": "2022-04-19T10:11:21.775984Z"
    },
    "papermill": {
     "duration": 0.237936,
     "end_time": "2022-04-19T10:11:21.776129",
     "exception": false,
     "start_time": "2022-04-19T10:11:21.538193",
     "status": "completed"
    },
    "tags": []
   },
   "outputs": [
    {
     "data": {
      "text/plain": [
       "Text(0.5, 1.0, 'Outputs')"
      ]
     },
     "execution_count": 26,
     "metadata": {},
     "output_type": "execute_result"
    },
    {
     "data": {
      "image/png": "[encoded data removed]",
      "text/plain": [
       "<Figure size 576x504 with 1 Axes>"
      ]
     },
     "metadata": {
      "needs_background": "light"
     },
     "output_type": "display_data"
    }
   ],
   "source": [
    "# Plotting the scatter plot of points and color coding by class\n",
    "plt.figure(figsize=(8,7))\n",
    "plt.scatter(testing_plot[:,0], testing_plot[:,1], alpha = 0.1, c = y_test.ravel());\n",
    "plt.title('Outputs')"
   ]
  },
  {
   "cell_type": "markdown",
   "id": "a74fcf8f",
   "metadata": {
    "papermill": {
     "duration": 0.044099,
     "end_time": "2022-04-19T10:11:21.864624",
     "exception": false,
     "start_time": "2022-04-19T10:11:21.820525",
     "status": "completed"
    },
    "tags": []
   },
   "source": [
    "Probability contours"
   ]
  },
  {
   "cell_type": "code",
   "execution_count": 27,
   "id": "d0afc8e3",
   "metadata": {
    "execution": {
     "iopub.execute_input": "2022-04-19T10:11:21.957246Z",
     "iopub.status.busy": "2022-04-19T10:11:21.956586Z",
     "iopub.status.idle": "2022-04-19T10:11:21.968652Z",
     "shell.execute_reply": "2022-04-19T10:11:21.968204Z"
    },
    "papermill": {
     "duration": 0.059693,
     "end_time": "2022-04-19T10:11:21.968769",
     "exception": false,
     "start_time": "2022-04-19T10:11:21.909076",
     "status": "completed"
    },
    "tags": []
   },
   "outputs": [],
   "source": [
    "model_prob = Model(layers[-2:]) "
   ]
  },
  {
   "cell_type": "code",
   "execution_count": 28,
   "id": "9b96e238",
   "metadata": {
    "execution": {
     "iopub.execute_input": "2022-04-19T10:11:22.075102Z",
     "iopub.status.busy": "2022-04-19T10:11:22.070356Z",
     "iopub.status.idle": "2022-04-19T10:11:22.080250Z",
     "shell.execute_reply": "2022-04-19T10:11:22.079744Z"
    },
    "papermill": {
     "duration": 0.067146,
     "end_time": "2022-04-19T10:11:22.080365",
     "exception": false,
     "start_time": "2022-04-19T10:11:22.013219",
     "status": "completed"
    },
    "tags": []
   },
   "outputs": [],
   "source": [
    "#creating the x and y ranges according to the above generated plot.\n",
    "x_range = np.linspace(-4, 1, 100) \n",
    "y_range = np.linspace(-6, 6, 100) \n",
    "x_grid, y_grid = np.meshgrid(x_range, y_range) # x_grid and y_grig are of size 100 X 100\n",
    "\n",
    "# converting x_grid and y_grid to continuous arrays\n",
    "x_gridflat = np.ravel(x_grid)\n",
    "y_gridflat = np.ravel(y_grid)\n",
    "\n",
    "# The last layer of the current model takes two columns as input. Hence transpose of np.vstack() is required.\n",
    "X = np.vstack((x_gridflat, y_gridflat)).T\n",
    "\n",
    "prob_contour = model_prob(X).reshape(100,100) "
   ]
  },
  {
   "cell_type": "code",
   "execution_count": 29,
   "id": "da72499a",
   "metadata": {
    "execution": {
     "iopub.execute_input": "2022-04-19T10:11:22.209778Z",
     "iopub.status.busy": "2022-04-19T10:11:22.208760Z",
     "iopub.status.idle": "2022-04-19T10:11:22.443262Z",
     "shell.execute_reply": "2022-04-19T10:11:22.443708Z"
    },
    "papermill": {
     "duration": 0.3188,
     "end_time": "2022-04-19T10:11:22.443860",
     "exception": false,
     "start_time": "2022-04-19T10:11:22.125060",
     "status": "completed"
    },
    "tags": []
   },
   "outputs": [
    {
     "data": {
      "image/png": "[encoded data removed]",
      "text/plain": [
       "<Figure size 720x648 with 1 Axes>"
      ]
     },
     "metadata": {
      "needs_background": "light"
     },
     "output_type": "display_data"
    }
   ],
   "source": [
    "plt.figure(figsize=(10,9))\n",
    "plt.scatter(testing_plot[:,0], testing_plot[:,1], alpha = 0.1, c = y_test.ravel())\n",
    "contours = plt.contour(x_grid,y_grid,prob_contour)\n",
    "plt.title('Probability Contours')\n",
    "plt.clabel(contours, inline = True );"
   ]
  },
  {
   "cell_type": "code",
   "execution_count": null,
   "id": "e81b4ac7",
   "metadata": {
    "papermill": {
     "duration": 0.046614,
     "end_time": "2022-04-19T10:11:22.538385",
     "exception": false,
     "start_time": "2022-04-19T10:11:22.491771",
     "status": "completed"
    },
    "tags": []
   },
   "outputs": [],
   "source": []
  }
 ],
 "metadata": {
  "kernelspec": {
   "display_name": "Python 3",
   "language": "python",
   "name": "python3"
  },
  "language_info": {
   "codemirror_mode": {
    "name": "ipython",
    "version": 3
   },
   "file_extension": ".py",
   "mimetype": "text/x-python",
   "name": "python",
   "nbconvert_exporter": "python",
   "pygments_lexer": "ipython3",
   "version": "3.6.15"
  },
  "papermill": {
   "default_parameters": {},
   "duration": 98.80687,
   "end_time": "2022-04-19T10:11:23.003223",
   "environment_variables": {},
   "exception": null,
   "input_path": "2020-08-11-part2.ipynb",
   "output_path": "2020-08-11-part2.ipynb",
   "parameters": {},
   "start_time": "2022-04-19T10:09:44.196353",
   "version": "2.3.3"
  }
 },
 "nbformat": 4,
 "nbformat_minor": 5
}