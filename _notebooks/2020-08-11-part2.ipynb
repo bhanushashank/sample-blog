{
 "cells": [
  {
   "cell_type": "markdown",
   "id": "98380cd3",
   "metadata": {
    "papermill": {
     "duration": 0.030655,
     "end_time": "2022-10-15T00:54:07.782963",
     "exception": false,
     "start_time": "2022-10-15T00:54:07.752308",
     "status": "completed"
    },
    "tags": []
   },
   "source": [
    "# Distinguish Your Own Digits (DYOD)"
   ]
  },
  {
   "cell_type": "markdown",
   "id": "ef31240d",
   "metadata": {
    "papermill": {
     "duration": 0.023994,
     "end_time": "2022-10-15T00:54:07.831807",
     "exception": false,
     "start_time": "2022-10-15T00:54:07.807813",
     "status": "completed"
    },
    "tags": []
   },
   "source": [
    "You are going to write a classifier that distinguishes between the number 3 and number 8."
   ]
  },
  {
   "cell_type": "code",
   "execution_count": 1,
   "id": "b15c8646",
   "metadata": {
    "execution": {
     "iopub.execute_input": "2022-10-15T00:54:07.890887Z",
     "iopub.status.busy": "2022-10-15T00:54:07.890272Z",
     "iopub.status.idle": "2022-10-15T00:54:07.901558Z",
     "shell.execute_reply": "2022-10-15T00:54:07.901045Z"
    },
    "papermill": {
     "duration": 0.04612,
     "end_time": "2022-10-15T00:54:07.901690",
     "exception": false,
     "start_time": "2022-10-15T00:54:07.855570",
     "status": "completed"
    },
    "tags": []
   },
   "outputs": [],
   "source": [
    "%load_ext autoreload\n",
    "%autoreload 2"
   ]
  },
  {
   "cell_type": "code",
   "execution_count": 2,
   "id": "22ef38dc",
   "metadata": {
    "execution": {
     "iopub.execute_input": "2022-10-15T00:54:07.954458Z",
     "iopub.status.busy": "2022-10-15T00:54:07.953860Z",
     "iopub.status.idle": "2022-10-15T00:54:08.512984Z",
     "shell.execute_reply": "2022-10-15T00:54:08.512343Z"
    },
    "papermill": {
     "duration": 0.587454,
     "end_time": "2022-10-15T00:54:08.513130",
     "exception": false,
     "start_time": "2022-10-15T00:54:07.925676",
     "status": "completed"
    },
    "tags": []
   },
   "outputs": [],
   "source": [
    "%matplotlib inline\n",
    "import numpy as np\n",
    "import matplotlib.pyplot as plt\n",
    "import pandas as pd"
   ]
  },
  {
   "cell_type": "markdown",
   "id": "ba036198",
   "metadata": {
    "papermill": {
     "duration": 0.023881,
     "end_time": "2022-10-15T00:54:08.560946",
     "exception": false,
     "start_time": "2022-10-15T00:54:08.537065",
     "status": "completed"
    },
    "tags": []
   },
   "source": [
    "From the command line run `pip install mnist`. This is a library that will help you bring down the mnist dataset. If you run this from a notebook, you need to put  `!pip install mnist` in a cell by itself."
   ]
  },
  {
   "cell_type": "code",
   "execution_count": 3,
   "id": "bb6ad8a1",
   "metadata": {
    "execution": {
     "iopub.execute_input": "2022-10-15T00:54:08.615384Z",
     "iopub.status.busy": "2022-10-15T00:54:08.614782Z",
     "iopub.status.idle": "2022-10-15T00:54:10.448885Z",
     "shell.execute_reply": "2022-10-15T00:54:10.448249Z"
    },
    "papermill": {
     "duration": 1.862597,
     "end_time": "2022-10-15T00:54:10.449011",
     "exception": false,
     "start_time": "2022-10-15T00:54:08.586414",
     "status": "completed"
    },
    "tags": []
   },
   "outputs": [
    {
     "name": "stdout",
     "output_type": "stream",
     "text": [
      "Collecting mnist\r\n"
     ]
    },
    {
     "name": "stdout",
     "output_type": "stream",
     "text": [
      "  Downloading mnist-0.2.2-py2.py3-none-any.whl (3.5 kB)\r\n",
      "Requirement already satisfied: numpy in /opt/hostedtoolcache/Python/3.6.15/x64/lib/python3.6/site-packages (from mnist) (1.19.5)\r\n"
     ]
    },
    {
     "name": "stdout",
     "output_type": "stream",
     "text": [
      "Installing collected packages: mnist\r\n"
     ]
    },
    {
     "name": "stdout",
     "output_type": "stream",
     "text": [
      "Successfully installed mnist-0.2.2\r\n"
     ]
    }
   ],
   "source": [
    "!pip install mnist"
   ]
  },
  {
   "cell_type": "markdown",
   "id": "69df9c9a",
   "metadata": {
    "papermill": {
     "duration": 0.025061,
     "end_time": "2022-10-15T00:54:10.499382",
     "exception": false,
     "start_time": "2022-10-15T00:54:10.474321",
     "status": "completed"
    },
    "tags": []
   },
   "source": [
    "## Preparing the Data"
   ]
  },
  {
   "cell_type": "code",
   "execution_count": 4,
   "id": "7f69d806",
   "metadata": {
    "execution": {
     "iopub.execute_input": "2022-10-15T00:54:10.554182Z",
     "iopub.status.busy": "2022-10-15T00:54:10.553587Z",
     "iopub.status.idle": "2022-10-15T00:54:10.568072Z",
     "shell.execute_reply": "2022-10-15T00:54:10.567585Z"
    },
    "papermill": {
     "duration": 0.043808,
     "end_time": "2022-10-15T00:54:10.568187",
     "exception": false,
     "start_time": "2022-10-15T00:54:10.524379",
     "status": "completed"
    },
    "tags": []
   },
   "outputs": [],
   "source": [
    "import mnist"
   ]
  },
  {
   "cell_type": "code",
   "execution_count": 5,
   "id": "a411e44f",
   "metadata": {
    "execution": {
     "iopub.execute_input": "2022-10-15T00:54:10.622724Z",
     "iopub.status.busy": "2022-10-15T00:54:10.622118Z",
     "iopub.status.idle": "2022-10-15T00:54:11.174481Z",
     "shell.execute_reply": "2022-10-15T00:54:11.173824Z"
    },
    "papermill": {
     "duration": 0.581119,
     "end_time": "2022-10-15T00:54:11.174615",
     "exception": false,
     "start_time": "2022-10-15T00:54:10.593496",
     "status": "completed"
    },
    "tags": []
   },
   "outputs": [],
   "source": [
    "train_images = mnist.train_images()\n",
    "train_labels = mnist.train_labels()"
   ]
  },
  {
   "cell_type": "code",
   "execution_count": 6,
   "id": "dceab3a5",
   "metadata": {
    "execution": {
     "iopub.execute_input": "2022-10-15T00:54:11.232723Z",
     "iopub.status.busy": "2022-10-15T00:54:11.232088Z",
     "iopub.status.idle": "2022-10-15T00:54:11.245003Z",
     "shell.execute_reply": "2022-10-15T00:54:11.245495Z"
    },
    "papermill": {
     "duration": 0.045585,
     "end_time": "2022-10-15T00:54:11.245634",
     "exception": false,
     "start_time": "2022-10-15T00:54:11.200049",
     "status": "completed"
    },
    "tags": []
   },
   "outputs": [
    {
     "data": {
      "text/plain": [
       "((60000, 28, 28), (60000,))"
      ]
     },
     "execution_count": 6,
     "metadata": {},
     "output_type": "execute_result"
    }
   ],
   "source": [
    "train_images.shape, train_labels.shape"
   ]
  },
  {
   "cell_type": "code",
   "execution_count": 7,
   "id": "f50dc2bb",
   "metadata": {
    "execution": {
     "iopub.execute_input": "2022-10-15T00:54:11.300619Z",
     "iopub.status.busy": "2022-10-15T00:54:11.300014Z",
     "iopub.status.idle": "2022-10-15T00:54:11.425590Z",
     "shell.execute_reply": "2022-10-15T00:54:11.424214Z"
    },
    "papermill": {
     "duration": 0.154753,
     "end_time": "2022-10-15T00:54:11.425735",
     "exception": false,
     "start_time": "2022-10-15T00:54:11.270982",
     "status": "completed"
    },
    "tags": []
   },
   "outputs": [],
   "source": [
    "test_images = mnist.test_images()\n",
    "test_labels = mnist.test_labels()"
   ]
  },
  {
   "cell_type": "code",
   "execution_count": 8,
   "id": "fc38cf1b",
   "metadata": {
    "execution": {
     "iopub.execute_input": "2022-10-15T00:54:11.490269Z",
     "iopub.status.busy": "2022-10-15T00:54:11.480878Z",
     "iopub.status.idle": "2022-10-15T00:54:11.493804Z",
     "shell.execute_reply": "2022-10-15T00:54:11.493325Z"
    },
    "papermill": {
     "duration": 0.042568,
     "end_time": "2022-10-15T00:54:11.493918",
     "exception": false,
     "start_time": "2022-10-15T00:54:11.451350",
     "status": "completed"
    },
    "tags": []
   },
   "outputs": [
    {
     "data": {
      "text/plain": [
       "((10000, 28, 28), (10000,))"
      ]
     },
     "execution_count": 8,
     "metadata": {},
     "output_type": "execute_result"
    }
   ],
   "source": [
    "test_images.shape, test_labels.shape"
   ]
  },
  {
   "cell_type": "code",
   "execution_count": 9,
   "id": "f9ed8fe0",
   "metadata": {
    "execution": {
     "iopub.execute_input": "2022-10-15T00:54:11.549207Z",
     "iopub.status.busy": "2022-10-15T00:54:11.548575Z",
     "iopub.status.idle": "2022-10-15T00:54:11.690184Z",
     "shell.execute_reply": "2022-10-15T00:54:11.689683Z"
    },
    "papermill": {
     "duration": 0.170851,
     "end_time": "2022-10-15T00:54:11.690302",
     "exception": false,
     "start_time": "2022-10-15T00:54:11.519451",
     "status": "completed"
    },
    "tags": []
   },
   "outputs": [
    {
     "name": "stdout",
     "output_type": "stream",
     "text": [
      "2\n"
     ]
    },
    {
     "data": {
      "text/plain": [
       "<matplotlib.image.AxesImage at 0x7fd6bb25bd30>"
      ]
     },
     "execution_count": 9,
     "metadata": {},
     "output_type": "execute_result"
    },
    {
     "data": {
      "image/png": "[encoded data removed]",
      "text/plain": [
       "<Figure size 432x288 with 1 Axes>"
      ]
     },
     "metadata": {
      "needs_background": "light"
     },
     "output_type": "display_data"
    }
   ],
   "source": [
    "image_index = 7776 # You may select anything up to 60,000\n",
    "print(train_labels[image_index]) \n",
    "plt.imshow(train_images[image_index], cmap='Greys')"
   ]
  },
  {
   "cell_type": "markdown",
   "id": "a8d2388d",
   "metadata": {
    "papermill": {
     "duration": 0.026911,
     "end_time": "2022-10-15T00:54:11.744022",
     "exception": false,
     "start_time": "2022-10-15T00:54:11.717111",
     "status": "completed"
    },
    "tags": []
   },
   "source": [
    "## Filter data to get 3 and 8 out"
   ]
  },
  {
   "cell_type": "code",
   "execution_count": 10,
   "id": "776f7fc7",
   "metadata": {
    "execution": {
     "iopub.execute_input": "2022-10-15T00:54:11.809641Z",
     "iopub.status.busy": "2022-10-15T00:54:11.803429Z",
     "iopub.status.idle": "2022-10-15T00:54:11.823953Z",
     "shell.execute_reply": "2022-10-15T00:54:11.823425Z"
    },
    "papermill": {
     "duration": 0.053449,
     "end_time": "2022-10-15T00:54:11.824067",
     "exception": false,
     "start_time": "2022-10-15T00:54:11.770618",
     "status": "completed"
    },
    "tags": []
   },
   "outputs": [],
   "source": [
    "train_filter = np.where((train_labels == 3 ) | (train_labels == 8))\n",
    "test_filter = np.where((test_labels == 3) | (test_labels == 8))\n",
    "X_train, y_train = train_images[train_filter], train_labels[train_filter]\n",
    "X_test, y_test = test_images[test_filter], test_labels[test_filter]"
   ]
  },
  {
   "cell_type": "markdown",
   "id": "948f0b7e",
   "metadata": {
    "papermill": {
     "duration": 0.026751,
     "end_time": "2022-10-15T00:54:11.877649",
     "exception": false,
     "start_time": "2022-10-15T00:54:11.850898",
     "status": "completed"
    },
    "tags": []
   },
   "source": [
    "We normalize the pizel values in the 0 to 1 range"
   ]
  },
  {
   "cell_type": "code",
   "execution_count": 11,
   "id": "ee4c2166",
   "metadata": {
    "execution": {
     "iopub.execute_input": "2022-10-15T00:54:11.934998Z",
     "iopub.status.busy": "2022-10-15T00:54:11.934390Z",
     "iopub.status.idle": "2022-10-15T00:54:11.982994Z",
     "shell.execute_reply": "2022-10-15T00:54:11.982414Z"
    },
    "papermill": {
     "duration": 0.078901,
     "end_time": "2022-10-15T00:54:11.983123",
     "exception": false,
     "start_time": "2022-10-15T00:54:11.904222",
     "status": "completed"
    },
    "tags": []
   },
   "outputs": [],
   "source": [
    "X_train = X_train/255.\n",
    "X_test = X_test/255."
   ]
  },
  {
   "cell_type": "markdown",
   "id": "ddcf4fab",
   "metadata": {
    "papermill": {
     "duration": 0.02672,
     "end_time": "2022-10-15T00:54:12.037644",
     "exception": false,
     "start_time": "2022-10-15T00:54:12.010924",
     "status": "completed"
    },
    "tags": []
   },
   "source": [
    "And setup the labels as 1 (when the digit is 3) and 0 (when the digit is 8)"
   ]
  },
  {
   "cell_type": "code",
   "execution_count": 12,
   "id": "7dc908f2",
   "metadata": {
    "execution": {
     "iopub.execute_input": "2022-10-15T00:54:12.095213Z",
     "iopub.status.busy": "2022-10-15T00:54:12.094612Z",
     "iopub.status.idle": "2022-10-15T00:54:12.106691Z",
     "shell.execute_reply": "2022-10-15T00:54:12.106214Z"
    },
    "papermill": {
     "duration": 0.04263,
     "end_time": "2022-10-15T00:54:12.106803",
     "exception": false,
     "start_time": "2022-10-15T00:54:12.064173",
     "status": "completed"
    },
    "tags": []
   },
   "outputs": [],
   "source": [
    "y_train = 1*(y_train==3)\n",
    "y_test = 1*(y_test==3)"
   ]
  },
  {
   "cell_type": "code",
   "execution_count": 13,
   "id": "01e4e969",
   "metadata": {
    "execution": {
     "iopub.execute_input": "2022-10-15T00:54:12.164353Z",
     "iopub.status.busy": "2022-10-15T00:54:12.163765Z",
     "iopub.status.idle": "2022-10-15T00:54:12.177553Z",
     "shell.execute_reply": "2022-10-15T00:54:12.176973Z"
    },
    "papermill": {
     "duration": 0.044145,
     "end_time": "2022-10-15T00:54:12.177665",
     "exception": false,
     "start_time": "2022-10-15T00:54:12.133520",
     "status": "completed"
    },
    "tags": []
   },
   "outputs": [
    {
     "data": {
      "text/plain": [
       "((11982, 28, 28), (1984, 28, 28))"
      ]
     },
     "execution_count": 13,
     "metadata": {},
     "output_type": "execute_result"
    }
   ],
   "source": [
    "X_train.shape, X_test.shape"
   ]
  },
  {
   "cell_type": "markdown",
   "id": "5ccf3f85",
   "metadata": {
    "papermill": {
     "duration": 0.026863,
     "end_time": "2022-10-15T00:54:12.231350",
     "exception": false,
     "start_time": "2022-10-15T00:54:12.204487",
     "status": "completed"
    },
    "tags": []
   },
   "source": [
    "We reshape the data to flatten the image pixels into a set of features or co-variates:"
   ]
  },
  {
   "cell_type": "code",
   "execution_count": 14,
   "id": "5286a4a3",
   "metadata": {
    "execution": {
     "iopub.execute_input": "2022-10-15T00:54:12.290636Z",
     "iopub.status.busy": "2022-10-15T00:54:12.290025Z",
     "iopub.status.idle": "2022-10-15T00:54:12.304257Z",
     "shell.execute_reply": "2022-10-15T00:54:12.304730Z"
    },
    "papermill": {
     "duration": 0.046159,
     "end_time": "2022-10-15T00:54:12.304868",
     "exception": false,
     "start_time": "2022-10-15T00:54:12.258709",
     "status": "completed"
    },
    "tags": []
   },
   "outputs": [
    {
     "data": {
      "text/plain": [
       "((11982, 784), (1984, 784))"
      ]
     },
     "execution_count": 14,
     "metadata": {},
     "output_type": "execute_result"
    }
   ],
   "source": [
    "X_train = X_train.reshape(X_train.shape[0], -1)\n",
    "X_test = X_test.reshape(X_test.shape[0], -1)\n",
    "X_train.shape, X_test.shape"
   ]
  },
  {
   "cell_type": "code",
   "execution_count": 15,
   "id": "73c5f88a",
   "metadata": {
    "execution": {
     "iopub.execute_input": "2022-10-15T00:54:12.364398Z",
     "iopub.status.busy": "2022-10-15T00:54:12.363778Z",
     "iopub.status.idle": "2022-10-15T00:54:12.383674Z",
     "shell.execute_reply": "2022-10-15T00:54:12.383111Z"
    },
    "papermill": {
     "duration": 0.051666,
     "end_time": "2022-10-15T00:54:12.383801",
     "exception": false,
     "start_time": "2022-10-15T00:54:12.332135",
     "status": "completed"
    },
    "tags": []
   },
   "outputs": [],
   "source": [
    "#Impoting functions from 'Kudzu'\n",
    "from kudzu.model import Model\n",
    "from kudzu.train import Learner\n",
    "from kudzu.optim import GD\n",
    "from kudzu.data import Data, Sampler,Dataloader\n",
    "\n",
    "from kudzu.callbacks import AccCallback\n",
    "from kudzu.callbacks import ClfCallback\n",
    "\n",
    "from kudzu.loss import MSE\n",
    "\n",
    "from kudzu.layer import Sigmoid,Relu\n",
    "from kudzu.layer import Affine"
   ]
  },
  {
   "cell_type": "markdown",
   "id": "bc01172a",
   "metadata": {
    "papermill": {
     "duration": 0.027086,
     "end_time": "2022-10-15T00:54:12.438856",
     "exception": false,
     "start_time": "2022-10-15T00:54:12.411770",
     "status": "completed"
    },
    "tags": []
   },
   "source": [
    "### Let us create a `Config` class, to store important parameters. \n",
    "This class essentially plays the role of a dictionary."
   ]
  },
  {
   "cell_type": "code",
   "execution_count": 16,
   "id": "978281aa",
   "metadata": {
    "execution": {
     "iopub.execute_input": "2022-10-15T00:54:12.497428Z",
     "iopub.status.busy": "2022-10-15T00:54:12.496810Z",
     "iopub.status.idle": "2022-10-15T00:54:12.509989Z",
     "shell.execute_reply": "2022-10-15T00:54:12.509527Z"
    },
    "papermill": {
     "duration": 0.044166,
     "end_time": "2022-10-15T00:54:12.510116",
     "exception": false,
     "start_time": "2022-10-15T00:54:12.465950",
     "status": "completed"
    },
    "tags": []
   },
   "outputs": [],
   "source": [
    "class Config:\n",
    "    pass\n",
    "config = Config()\n",
    "config.lr = 0.001\n",
    "config.num_epochs = 250\n",
    "config.bs = 50"
   ]
  },
  {
   "cell_type": "markdown",
   "id": "1385fa59",
   "metadata": {
    "papermill": {
     "duration": 0.027006,
     "end_time": "2022-10-15T00:54:12.564353",
     "exception": false,
     "start_time": "2022-10-15T00:54:12.537347",
     "status": "completed"
    },
    "tags": []
   },
   "source": [
    "### Running Models with the Training data\n",
    "Details about the network layers:\n",
    "- A first affine layer has 784 inputs and does 100 affine transforms. These are followed by a Relu\n",
    "- A second affine layer has 100 inputs from the 100 activations of the past layer, and does 100 affine transforms. These are followed by a Relu\n",
    "- A third affine layer has 100 activations and does 2 affine transformations to create an embedding for visualization. There is no non-linearity here.\n",
    "- A final \"logistic regression\" which has an affine transform from 2 inputs to 1 output, which is squeezed through a sigmoid.\n"
   ]
  },
  {
   "cell_type": "code",
   "execution_count": 17,
   "id": "2b9c66db",
   "metadata": {
    "execution": {
     "iopub.execute_input": "2022-10-15T00:54:12.623372Z",
     "iopub.status.busy": "2022-10-15T00:54:12.622741Z",
     "iopub.status.idle": "2022-10-15T00:54:12.635471Z",
     "shell.execute_reply": "2022-10-15T00:54:12.634979Z"
    },
    "papermill": {
     "duration": 0.044094,
     "end_time": "2022-10-15T00:54:12.635589",
     "exception": false,
     "start_time": "2022-10-15T00:54:12.591495",
     "status": "completed"
    },
    "tags": []
   },
   "outputs": [],
   "source": [
    "data = Data(X_train, y_train.reshape(-1,1))\n",
    "sampler = Sampler(data, config.bs, shuffle=True)\n",
    "\n",
    "dl = Dataloader(data, sampler)\n",
    "\n",
    "opt = GD(config.lr)\n",
    "loss = MSE()"
   ]
  },
  {
   "cell_type": "code",
   "execution_count": 18,
   "id": "b275e4c2",
   "metadata": {
    "execution": {
     "iopub.execute_input": "2022-10-15T00:54:12.694482Z",
     "iopub.status.busy": "2022-10-15T00:54:12.693866Z",
     "iopub.status.idle": "2022-10-15T00:54:12.708191Z",
     "shell.execute_reply": "2022-10-15T00:54:12.707690Z"
    },
    "papermill": {
     "duration": 0.045541,
     "end_time": "2022-10-15T00:54:12.708311",
     "exception": false,
     "start_time": "2022-10-15T00:54:12.662770",
     "status": "completed"
    },
    "tags": []
   },
   "outputs": [],
   "source": [
    "training_data_x = X_train\n",
    "testing_data_x = X_test\n",
    "training_data_y = y_train.reshape(-1,1)\n",
    "testing_data_y = y_test.reshape(-1,1)"
   ]
  },
  {
   "cell_type": "code",
   "execution_count": 19,
   "id": "76951160",
   "metadata": {
    "execution": {
     "iopub.execute_input": "2022-10-15T00:54:12.767705Z",
     "iopub.status.busy": "2022-10-15T00:54:12.767100Z",
     "iopub.status.idle": "2022-10-15T00:54:12.783938Z",
     "shell.execute_reply": "2022-10-15T00:54:12.784396Z"
    },
    "papermill": {
     "duration": 0.049054,
     "end_time": "2022-10-15T00:54:12.784531",
     "exception": false,
     "start_time": "2022-10-15T00:54:12.735477",
     "status": "completed"
    },
    "tags": []
   },
   "outputs": [
    {
     "name": "stdout",
     "output_type": "stream",
     "text": [
      "xavier\n",
      "xavier\n",
      "xavier\n",
      "xavier\n",
      "xavier\n"
     ]
    }
   ],
   "source": [
    "layers = [Affine(\"first\", 784, 100), Relu(\"first\"), Affine(\"second\", 100, 100), Relu(\"second\"), Affine(\"third\", 100, 2), Affine(\"last\", 2, 1), Sigmoid(\"last\")]\n",
    "model_nn = Model(layers)\n",
    "model_lr = Model([Affine(\"logits\", 784, 1), Sigmoid(\"sigmoid\")])"
   ]
  },
  {
   "cell_type": "code",
   "execution_count": 20,
   "id": "6eede77a",
   "metadata": {
    "execution": {
     "iopub.execute_input": "2022-10-15T00:54:12.844373Z",
     "iopub.status.busy": "2022-10-15T00:54:12.843783Z",
     "iopub.status.idle": "2022-10-15T00:54:12.857042Z",
     "shell.execute_reply": "2022-10-15T00:54:12.856521Z"
    },
    "papermill": {
     "duration": 0.044751,
     "end_time": "2022-10-15T00:54:12.857160",
     "exception": false,
     "start_time": "2022-10-15T00:54:12.812409",
     "status": "completed"
    },
    "tags": []
   },
   "outputs": [],
   "source": [
    "nn_learner = Learner(loss, model_nn, opt, config.num_epochs)\n",
    "acc_nn = ClfCallback(nn_learner, config.bs, training_data_x , testing_data_x, training_data_y, testing_data_y)\n",
    "nn_learner.set_callbacks([acc_nn])"
   ]
  },
  {
   "cell_type": "code",
   "execution_count": 21,
   "id": "877b6cc7",
   "metadata": {
    "execution": {
     "iopub.execute_input": "2022-10-15T00:54:12.923908Z",
     "iopub.status.busy": "2022-10-15T00:54:12.923296Z",
     "iopub.status.idle": "2022-10-15T00:54:12.930872Z",
     "shell.execute_reply": "2022-10-15T00:54:12.931334Z"
    },
    "papermill": {
     "duration": 0.046912,
     "end_time": "2022-10-15T00:54:12.931470",
     "exception": false,
     "start_time": "2022-10-15T00:54:12.884558",
     "status": "completed"
    },
    "tags": []
   },
   "outputs": [],
   "source": [
    "lr_learner = Learner(loss, model_lr, opt, config.num_epochs)\n",
    "acc_lr = ClfCallback(lr_learner, config.bs, training_data_x , testing_data_x, training_data_y, testing_data_y)\n",
    "lr_learner.set_callbacks([acc_lr])"
   ]
  },
  {
   "cell_type": "code",
   "execution_count": 22,
   "id": "d9b133c3",
   "metadata": {
    "execution": {
     "iopub.execute_input": "2022-10-15T00:54:12.990616Z",
     "iopub.status.busy": "2022-10-15T00:54:12.990023Z",
     "iopub.status.idle": "2022-10-15T00:55:33.964199Z",
     "shell.execute_reply": "2022-10-15T00:55:33.965067Z"
    },
    "papermill": {
     "duration": 81.006208,
     "end_time": "2022-10-15T00:55:33.965212",
     "exception": false,
     "start_time": "2022-10-15T00:54:12.959004",
     "status": "completed"
    },
    "tags": []
   },
   "outputs": [
    {
     "name": "stdout",
     "output_type": "stream",
     "text": [
      "Epoch 0, Loss 0.2543\n",
      "Training Accuracy: 0.5672, Testing Accuracy: 0.5680\n",
      "\n"
     ]
    },
    {
     "name": "stdout",
     "output_type": "stream",
     "text": [
      "Epoch 10, Loss 0.1188\n",
      "Training Accuracy: 0.9056, Testing Accuracy: 0.9153\n",
      "\n"
     ]
    },
    {
     "name": "stdout",
     "output_type": "stream",
     "text": [
      "Epoch 20, Loss 0.064\n",
      "Training Accuracy: 0.9351, Testing Accuracy: 0.9496\n",
      "\n"
     ]
    },
    {
     "name": "stdout",
     "output_type": "stream",
     "text": [
      "Epoch 30, Loss 0.0477\n",
      "Training Accuracy: 0.9495, Testing Accuracy: 0.9587\n",
      "\n"
     ]
    },
    {
     "name": "stdout",
     "output_type": "stream",
     "text": [
      "Epoch 40, Loss 0.0404\n",
      "Training Accuracy: 0.9559, Testing Accuracy: 0.9662\n",
      "\n"
     ]
    },
    {
     "name": "stdout",
     "output_type": "stream",
     "text": [
      "Epoch 50, Loss 0.0362\n",
      "Training Accuracy: 0.9594, Testing Accuracy: 0.9698\n",
      "\n"
     ]
    },
    {
     "name": "stdout",
     "output_type": "stream",
     "text": [
      "Epoch 60, Loss 0.0334\n",
      "Training Accuracy: 0.9617, Testing Accuracy: 0.9703\n",
      "\n"
     ]
    },
    {
     "name": "stdout",
     "output_type": "stream",
     "text": [
      "Epoch 70, Loss 0.0314\n",
      "Training Accuracy: 0.9639, Testing Accuracy: 0.9708\n",
      "\n"
     ]
    },
    {
     "name": "stdout",
     "output_type": "stream",
     "text": [
      "Epoch 80, Loss 0.0298\n",
      "Training Accuracy: 0.9650, Testing Accuracy: 0.9698\n",
      "\n"
     ]
    },
    {
     "name": "stdout",
     "output_type": "stream",
     "text": [
      "Epoch 90, Loss 0.0285\n",
      "Training Accuracy: 0.9672, Testing Accuracy: 0.9698\n",
      "\n"
     ]
    },
    {
     "name": "stdout",
     "output_type": "stream",
     "text": [
      "Epoch 100, Loss 0.0274\n",
      "Training Accuracy: 0.9681, Testing Accuracy: 0.9698\n",
      "\n"
     ]
    },
    {
     "name": "stdout",
     "output_type": "stream",
     "text": [
      "Epoch 110, Loss 0.0265\n",
      "Training Accuracy: 0.9698, Testing Accuracy: 0.9703\n",
      "\n"
     ]
    },
    {
     "name": "stdout",
     "output_type": "stream",
     "text": [
      "Epoch 120, Loss 0.0257\n",
      "Training Accuracy: 0.9705, Testing Accuracy: 0.9708\n",
      "\n"
     ]
    },
    {
     "name": "stdout",
     "output_type": "stream",
     "text": [
      "Epoch 130, Loss 0.0249\n",
      "Training Accuracy: 0.9716, Testing Accuracy: 0.9713\n",
      "\n"
     ]
    },
    {
     "name": "stdout",
     "output_type": "stream",
     "text": [
      "Epoch 140, Loss 0.0243\n",
      "Training Accuracy: 0.9724, Testing Accuracy: 0.9723\n",
      "\n"
     ]
    },
    {
     "name": "stdout",
     "output_type": "stream",
     "text": [
      "Epoch 150, Loss 0.0237\n",
      "Training Accuracy: 0.9728, Testing Accuracy: 0.9728\n",
      "\n"
     ]
    },
    {
     "name": "stdout",
     "output_type": "stream",
     "text": [
      "Epoch 160, Loss 0.0231\n",
      "Training Accuracy: 0.9737, Testing Accuracy: 0.9738\n",
      "\n"
     ]
    },
    {
     "name": "stdout",
     "output_type": "stream",
     "text": [
      "Epoch 170, Loss 0.0226\n",
      "Training Accuracy: 0.9743, Testing Accuracy: 0.9728\n",
      "\n"
     ]
    },
    {
     "name": "stdout",
     "output_type": "stream",
     "text": [
      "Epoch 180, Loss 0.0221\n",
      "Training Accuracy: 0.9751, Testing Accuracy: 0.9728\n",
      "\n"
     ]
    },
    {
     "name": "stdout",
     "output_type": "stream",
     "text": [
      "Epoch 190, Loss 0.0217\n",
      "Training Accuracy: 0.9757, Testing Accuracy: 0.9723\n",
      "\n"
     ]
    },
    {
     "name": "stdout",
     "output_type": "stream",
     "text": [
      "Epoch 200, Loss 0.0212\n",
      "Training Accuracy: 0.9759, Testing Accuracy: 0.9718\n",
      "\n"
     ]
    },
    {
     "name": "stdout",
     "output_type": "stream",
     "text": [
      "Epoch 210, Loss 0.0208\n",
      "Training Accuracy: 0.9763, Testing Accuracy: 0.9723\n",
      "\n"
     ]
    },
    {
     "name": "stdout",
     "output_type": "stream",
     "text": [
      "Epoch 220, Loss 0.0204\n",
      "Training Accuracy: 0.9765, Testing Accuracy: 0.9728\n",
      "\n"
     ]
    },
    {
     "name": "stdout",
     "output_type": "stream",
     "text": [
      "Epoch 230, Loss 0.02\n",
      "Training Accuracy: 0.9769, Testing Accuracy: 0.9733\n",
      "\n"
     ]
    },
    {
     "name": "stdout",
     "output_type": "stream",
     "text": [
      "Epoch 240, Loss 0.0197\n",
      "Training Accuracy: 0.9775, Testing Accuracy: 0.9723\n",
      "\n"
     ]
    },
    {
     "data": {
      "text/plain": [
       "0.011010987728005253"
      ]
     },
     "execution_count": 22,
     "metadata": {},
     "output_type": "execute_result"
    }
   ],
   "source": [
    "nn_learner.train_loop(dl)"
   ]
  },
  {
   "cell_type": "code",
   "execution_count": 23,
   "id": "e0163366",
   "metadata": {
    "execution": {
     "iopub.execute_input": "2022-10-15T00:55:34.047682Z",
     "iopub.status.busy": "2022-10-15T00:55:34.047043Z",
     "iopub.status.idle": "2022-10-15T00:55:48.451994Z",
     "shell.execute_reply": "2022-10-15T00:55:48.452881Z"
    },
    "papermill": {
     "duration": 14.452742,
     "end_time": "2022-10-15T00:55:48.453033",
     "exception": false,
     "start_time": "2022-10-15T00:55:34.000291",
     "status": "completed"
    },
    "tags": []
   },
   "outputs": [
    {
     "name": "stdout",
     "output_type": "stream",
     "text": [
      "Epoch 0, Loss 0.2255\n",
      "Training Accuracy: 0.7467, Testing Accuracy: 0.7450\n",
      "\n"
     ]
    },
    {
     "name": "stdout",
     "output_type": "stream",
     "text": [
      "Epoch 10, Loss 0.1012\n",
      "Training Accuracy: 0.9082, Testing Accuracy: 0.9183\n",
      "\n"
     ]
    },
    {
     "name": "stdout",
     "output_type": "stream",
     "text": [
      "Epoch 20, Loss 0.0788\n",
      "Training Accuracy: 0.9265, Testing Accuracy: 0.9390\n",
      "\n"
     ]
    },
    {
     "name": "stdout",
     "output_type": "stream",
     "text": [
      "Epoch 30, Loss 0.0682\n",
      "Training Accuracy: 0.9349, Testing Accuracy: 0.9441\n",
      "\n"
     ]
    },
    {
     "name": "stdout",
     "output_type": "stream",
     "text": [
      "Epoch 40, Loss 0.0617\n",
      "Training Accuracy: 0.9390, Testing Accuracy: 0.9486\n",
      "\n"
     ]
    },
    {
     "name": "stdout",
     "output_type": "stream",
     "text": [
      "Epoch 50, Loss 0.0572\n",
      "Training Accuracy: 0.9432, Testing Accuracy: 0.9531\n",
      "\n"
     ]
    },
    {
     "name": "stdout",
     "output_type": "stream",
     "text": [
      "Epoch 60, Loss 0.0539\n",
      "Training Accuracy: 0.9458, Testing Accuracy: 0.9561\n",
      "\n"
     ]
    },
    {
     "name": "stdout",
     "output_type": "stream",
     "text": [
      "Epoch 70, Loss 0.0514\n",
      "Training Accuracy: 0.9493, Testing Accuracy: 0.9572\n",
      "\n"
     ]
    },
    {
     "name": "stdout",
     "output_type": "stream",
     "text": [
      "Epoch 80, Loss 0.0493\n",
      "Training Accuracy: 0.9510, Testing Accuracy: 0.9607\n",
      "\n"
     ]
    },
    {
     "name": "stdout",
     "output_type": "stream",
     "text": [
      "Epoch 90, Loss 0.0476\n",
      "Training Accuracy: 0.9516, Testing Accuracy: 0.9597\n",
      "\n"
     ]
    },
    {
     "name": "stdout",
     "output_type": "stream",
     "text": [
      "Epoch 100, Loss 0.0462\n",
      "Training Accuracy: 0.9534, Testing Accuracy: 0.9602\n",
      "\n"
     ]
    },
    {
     "name": "stdout",
     "output_type": "stream",
     "text": [
      "Epoch 110, Loss 0.045\n",
      "Training Accuracy: 0.9540, Testing Accuracy: 0.9607\n",
      "\n"
     ]
    },
    {
     "name": "stdout",
     "output_type": "stream",
     "text": [
      "Epoch 120, Loss 0.0439\n",
      "Training Accuracy: 0.9548, Testing Accuracy: 0.9622\n",
      "\n"
     ]
    },
    {
     "name": "stdout",
     "output_type": "stream",
     "text": [
      "Epoch 130, Loss 0.0429\n",
      "Training Accuracy: 0.9554, Testing Accuracy: 0.9622\n",
      "\n"
     ]
    },
    {
     "name": "stdout",
     "output_type": "stream",
     "text": [
      "Epoch 140, Loss 0.0421\n",
      "Training Accuracy: 0.9564, Testing Accuracy: 0.9637\n",
      "\n"
     ]
    },
    {
     "name": "stdout",
     "output_type": "stream",
     "text": [
      "Epoch 150, Loss 0.0414\n",
      "Training Accuracy: 0.9570, Testing Accuracy: 0.9647\n",
      "\n"
     ]
    },
    {
     "name": "stdout",
     "output_type": "stream",
     "text": [
      "Epoch 160, Loss 0.0407\n",
      "Training Accuracy: 0.9573, Testing Accuracy: 0.9652\n",
      "\n"
     ]
    },
    {
     "name": "stdout",
     "output_type": "stream",
     "text": [
      "Epoch 170, Loss 0.0401\n",
      "Training Accuracy: 0.9580, Testing Accuracy: 0.9652\n",
      "\n"
     ]
    },
    {
     "name": "stdout",
     "output_type": "stream",
     "text": [
      "Epoch 180, Loss 0.0395\n",
      "Training Accuracy: 0.9585, Testing Accuracy: 0.9657\n",
      "\n"
     ]
    },
    {
     "name": "stdout",
     "output_type": "stream",
     "text": [
      "Epoch 190, Loss 0.039\n",
      "Training Accuracy: 0.9589, Testing Accuracy: 0.9657\n",
      "\n"
     ]
    },
    {
     "name": "stdout",
     "output_type": "stream",
     "text": [
      "Epoch 200, Loss 0.0385\n",
      "Training Accuracy: 0.9591, Testing Accuracy: 0.9657\n",
      "\n"
     ]
    },
    {
     "name": "stdout",
     "output_type": "stream",
     "text": [
      "Epoch 210, Loss 0.0381\n",
      "Training Accuracy: 0.9595, Testing Accuracy: 0.9657\n",
      "\n"
     ]
    },
    {
     "name": "stdout",
     "output_type": "stream",
     "text": [
      "Epoch 220, Loss 0.0376\n",
      "Training Accuracy: 0.9599, Testing Accuracy: 0.9657\n",
      "\n"
     ]
    },
    {
     "name": "stdout",
     "output_type": "stream",
     "text": [
      "Epoch 230, Loss 0.0373\n",
      "Training Accuracy: 0.9605, Testing Accuracy: 0.9662\n",
      "\n"
     ]
    },
    {
     "name": "stdout",
     "output_type": "stream",
     "text": [
      "Epoch 240, Loss 0.0369\n",
      "Training Accuracy: 0.9609, Testing Accuracy: 0.9662\n",
      "\n"
     ]
    },
    {
     "data": {
      "text/plain": [
       "0.04792740955958263"
      ]
     },
     "execution_count": 23,
     "metadata": {},
     "output_type": "execute_result"
    }
   ],
   "source": [
    "lr_learner.train_loop(dl)"
   ]
  },
  {
   "cell_type": "code",
   "execution_count": 24,
   "id": "ca410940",
   "metadata": {
    "execution": {
     "iopub.execute_input": "2022-10-15T00:55:48.550436Z",
     "iopub.status.busy": "2022-10-15T00:55:48.549784Z",
     "iopub.status.idle": "2022-10-15T00:55:48.761761Z",
     "shell.execute_reply": "2022-10-15T00:55:48.762215Z"
    },
    "papermill": {
     "duration": 0.267337,
     "end_time": "2022-10-15T00:55:48.762352",
     "exception": false,
     "start_time": "2022-10-15T00:55:48.495015",
     "status": "completed"
    },
    "tags": []
   },
   "outputs": [
    {
     "data": {
      "text/plain": [
       "<matplotlib.legend.Legend at 0x7fd6badcc320>"
      ]
     },
     "execution_count": 24,
     "metadata": {},
     "output_type": "execute_result"
    },
    {
     "data": {
      "image/png": "[encoded data removed]",
      "text/plain": [
       "<Figure size 1080x720 with 1 Axes>"
      ]
     },
     "metadata": {
      "needs_background": "light"
     },
     "output_type": "display_data"
    }
   ],
   "source": [
    "#comparing the results of NN and LR\n",
    "plt.figure(figsize=(15,10))\n",
    "\n",
    "# Neural Network plots\n",
    "plt.plot(acc_nn.accuracies, 'r-', label = \"Training Accuracies - NN\")\n",
    "plt.plot(acc_nn.test_accuracies, 'g-', label = \"Testing Accuracies - NN\")\n",
    "\n",
    "# Logistic Regression plots\n",
    "plt.plot(acc_lr.accuracies, 'k-', label = \"Training Accuracies - LR\")\n",
    "plt.plot(acc_lr.test_accuracies, 'b-', label = \"Testing Accuracies - LR\")\n",
    "plt.legend()"
   ]
  },
  {
   "cell_type": "markdown",
   "id": "80dfb35c",
   "metadata": {
    "papermill": {
     "duration": 0.042113,
     "end_time": "2022-10-15T00:55:48.847090",
     "exception": false,
     "start_time": "2022-10-15T00:55:48.804977",
     "status": "completed"
    },
    "tags": []
   },
   "source": [
    "#### Plotting the outputs of this layer of the NN.\n"
   ]
  },
  {
   "cell_type": "code",
   "execution_count": 25,
   "id": "45eb2ff5",
   "metadata": {
    "execution": {
     "iopub.execute_input": "2022-10-15T00:55:48.937595Z",
     "iopub.status.busy": "2022-10-15T00:55:48.936968Z",
     "iopub.status.idle": "2022-10-15T00:55:48.956644Z",
     "shell.execute_reply": "2022-10-15T00:55:48.957169Z"
    },
    "papermill": {
     "duration": 0.067358,
     "end_time": "2022-10-15T00:55:48.957311",
     "exception": false,
     "start_time": "2022-10-15T00:55:48.889953",
     "status": "completed"
    },
    "tags": []
   },
   "outputs": [],
   "source": [
    "new_model = Model(layers[:-2])\n",
    "testing_plot = new_model(testing_data_x)"
   ]
  },
  {
   "cell_type": "code",
   "execution_count": 26,
   "id": "4c0a5485",
   "metadata": {
    "execution": {
     "iopub.execute_input": "2022-10-15T00:55:49.057707Z",
     "iopub.status.busy": "2022-10-15T00:55:49.048083Z",
     "iopub.status.idle": "2022-10-15T00:55:49.280088Z",
     "shell.execute_reply": "2022-10-15T00:55:49.279598Z"
    },
    "papermill": {
     "duration": 0.280232,
     "end_time": "2022-10-15T00:55:49.280205",
     "exception": false,
     "start_time": "2022-10-15T00:55:48.999973",
     "status": "completed"
    },
    "tags": []
   },
   "outputs": [
    {
     "data": {
      "text/plain": [
       "Text(0.5, 1.0, 'Outputs')"
      ]
     },
     "execution_count": 26,
     "metadata": {},
     "output_type": "execute_result"
    },
    {
     "data": {
      "image/png": "[encoded data removed]",
      "text/plain": [
       "<Figure size 576x504 with 1 Axes>"
      ]
     },
     "metadata": {
      "needs_background": "light"
     },
     "output_type": "display_data"
    }
   ],
   "source": [
    "# Plotting the scatter plot of points and color coding by class\n",
    "plt.figure(figsize=(8,7))\n",
    "plt.scatter(testing_plot[:,0], testing_plot[:,1], alpha = 0.1, c = y_test.ravel());\n",
    "plt.title('Outputs')"
   ]
  },
  {
   "cell_type": "markdown",
   "id": "a74fcf8f",
   "metadata": {
    "papermill": {
     "duration": 0.046302,
     "end_time": "2022-10-15T00:55:49.379273",
     "exception": false,
     "start_time": "2022-10-15T00:55:49.332971",
     "status": "completed"
    },
    "tags": []
   },
   "source": [
    "Probability contours"
   ]
  },
  {
   "cell_type": "code",
   "execution_count": 27,
   "id": "d0afc8e3",
   "metadata": {
    "execution": {
     "iopub.execute_input": "2022-10-15T00:55:49.506872Z",
     "iopub.status.busy": "2022-10-15T00:55:49.506271Z",
     "iopub.status.idle": "2022-10-15T00:55:49.519089Z",
     "shell.execute_reply": "2022-10-15T00:55:49.518585Z"
    },
    "papermill": {
     "duration": 0.09414,
     "end_time": "2022-10-15T00:55:49.519207",
     "exception": false,
     "start_time": "2022-10-15T00:55:49.425067",
     "status": "completed"
    },
    "tags": []
   },
   "outputs": [],
   "source": [
    "model_prob = Model(layers[-2:]) "
   ]
  },
  {
   "cell_type": "code",
   "execution_count": 28,
   "id": "9b96e238",
   "metadata": {
    "execution": {
     "iopub.execute_input": "2022-10-15T00:55:49.616032Z",
     "iopub.status.busy": "2022-10-15T00:55:49.615424Z",
     "iopub.status.idle": "2022-10-15T00:55:49.629466Z",
     "shell.execute_reply": "2022-10-15T00:55:49.629905Z"
    },
    "papermill": {
     "duration": 0.065004,
     "end_time": "2022-10-15T00:55:49.630046",
     "exception": false,
     "start_time": "2022-10-15T00:55:49.565042",
     "status": "completed"
    },
    "tags": []
   },
   "outputs": [],
   "source": [
    "#creating the x and y ranges according to the above generated plot.\n",
    "x_range = np.linspace(-4, 1, 100) \n",
    "y_range = np.linspace(-6, 6, 100) \n",
    "x_grid, y_grid = np.meshgrid(x_range, y_range) # x_grid and y_grig are of size 100 X 100\n",
    "\n",
    "# converting x_grid and y_grid to continuous arrays\n",
    "x_gridflat = np.ravel(x_grid)\n",
    "y_gridflat = np.ravel(y_grid)\n",
    "\n",
    "# The last layer of the current model takes two columns as input. Hence transpose of np.vstack() is required.\n",
    "X = np.vstack((x_gridflat, y_gridflat)).T\n",
    "\n",
    "prob_contour = model_prob(X).reshape(100,100) "
   ]
  },
  {
   "cell_type": "code",
   "execution_count": 29,
   "id": "da72499a",
   "metadata": {
    "execution": {
     "iopub.execute_input": "2022-10-15T00:55:49.730410Z",
     "iopub.status.busy": "2022-10-15T00:55:49.729815Z",
     "iopub.status.idle": "2022-10-15T00:55:49.975321Z",
     "shell.execute_reply": "2022-10-15T00:55:49.975778Z"
    },
    "papermill": {
     "duration": 0.299205,
     "end_time": "2022-10-15T00:55:49.975916",
     "exception": false,
     "start_time": "2022-10-15T00:55:49.676711",
     "status": "completed"
    },
    "tags": []
   },
   "outputs": [
    {
     "data": {
      "image/png": "[encoded data removed]",
      "text/plain": [
       "<Figure size 720x648 with 1 Axes>"
      ]
     },
     "metadata": {
      "needs_background": "light"
     },
     "output_type": "display_data"
    }
   ],
   "source": [
    "plt.figure(figsize=(10,9))\n",
    "plt.scatter(testing_plot[:,0], testing_plot[:,1], alpha = 0.1, c = y_test.ravel())\n",
    "contours = plt.contour(x_grid,y_grid,prob_contour)\n",
    "plt.title('Probability Contours')\n",
    "plt.clabel(contours, inline = True );"
   ]
  },
  {
   "cell_type": "code",
   "execution_count": null,
   "id": "e81b4ac7",
   "metadata": {
    "papermill": {
     "duration": 0.048132,
     "end_time": "2022-10-15T00:55:50.072503",
     "exception": false,
     "start_time": "2022-10-15T00:55:50.024371",
     "status": "completed"
    },
    "tags": []
   },
   "outputs": [],
   "source": []
  }
 ],
 "metadata": {
  "kernelspec": {
   "display_name": "Python 3",
   "language": "python",
   "name": "python3"
  },
  "language_info": {
   "codemirror_mode": {
    "name": "ipython",
    "version": 3
   },
   "file_extension": ".py",
   "mimetype": "text/x-python",
   "name": "python",
   "nbconvert_exporter": "python",
   "pygments_lexer": "ipython3",
   "version": "3.6.15"
  },
  "papermill": {
   "default_parameters": {},
   "duration": 104.048731,
   "end_time": "2022-10-15T00:55:50.539966",
   "environment_variables": {},
   "exception": null,
   "input_path": "2020-08-11-part2.ipynb",
   "output_path": "2020-08-11-part2.ipynb",
   "parameters": {},
   "start_time": "2022-10-15T00:54:06.491235",
   "version": "2.3.3"
  }
 },
 "nbformat": 4,
 "nbformat_minor": 5
}