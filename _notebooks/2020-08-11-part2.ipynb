{
 "cells": [
  {
   "cell_type": "markdown",
   "id": "98380cd3",
   "metadata": {
    "papermill": {
     "duration": 0.03524,
     "end_time": "2022-04-08T10:10:36.593401",
     "exception": false,
     "start_time": "2022-04-08T10:10:36.558161",
     "status": "completed"
    },
    "tags": []
   },
   "source": [
    "# Distinguish Your Own Digits (DYOD)"
   ]
  },
  {
   "cell_type": "markdown",
   "id": "ef31240d",
   "metadata": {
    "papermill": {
     "duration": 0.028742,
     "end_time": "2022-04-08T10:10:36.649916",
     "exception": false,
     "start_time": "2022-04-08T10:10:36.621174",
     "status": "completed"
    },
    "tags": []
   },
   "source": [
    "You are going to write a classifier that distinguishes between the number 3 and number 8."
   ]
  },
  {
   "cell_type": "code",
   "execution_count": 1,
   "id": "b15c8646",
   "metadata": {
    "execution": {
     "iopub.execute_input": "2022-04-08T10:10:36.715347Z",
     "iopub.status.busy": "2022-04-08T10:10:36.714700Z",
     "iopub.status.idle": "2022-04-08T10:10:36.726309Z",
     "shell.execute_reply": "2022-04-08T10:10:36.725804Z"
    },
    "papermill": {
     "duration": 0.049942,
     "end_time": "2022-04-08T10:10:36.726453",
     "exception": false,
     "start_time": "2022-04-08T10:10:36.676511",
     "status": "completed"
    },
    "tags": []
   },
   "outputs": [],
   "source": [
    "%load_ext autoreload\n",
    "%autoreload 2"
   ]
  },
  {
   "cell_type": "code",
   "execution_count": 2,
   "id": "22ef38dc",
   "metadata": {
    "execution": {
     "iopub.execute_input": "2022-04-08T10:10:36.789413Z",
     "iopub.status.busy": "2022-04-08T10:10:36.788796Z",
     "iopub.status.idle": "2022-04-08T10:10:37.461266Z",
     "shell.execute_reply": "2022-04-08T10:10:37.460579Z"
    },
    "papermill": {
     "duration": 0.706532,
     "end_time": "2022-04-08T10:10:37.461408",
     "exception": false,
     "start_time": "2022-04-08T10:10:36.754876",
     "status": "completed"
    },
    "tags": []
   },
   "outputs": [],
   "source": [
    "%matplotlib inline\n",
    "import numpy as np\n",
    "import matplotlib.pyplot as plt\n",
    "import pandas as pd"
   ]
  },
  {
   "cell_type": "markdown",
   "id": "ba036198",
   "metadata": {
    "papermill": {
     "duration": 0.027652,
     "end_time": "2022-04-08T10:10:37.516397",
     "exception": false,
     "start_time": "2022-04-08T10:10:37.488745",
     "status": "completed"
    },
    "tags": []
   },
   "source": [
    "From the command line run `pip install mnist`. This is a library that will help you bring down the mnist dataset. If you run this from a notebook, you need to put  `!pip install mnist` in a cell by itself."
   ]
  },
  {
   "cell_type": "code",
   "execution_count": 3,
   "id": "bb6ad8a1",
   "metadata": {
    "execution": {
     "iopub.execute_input": "2022-04-08T10:10:37.577235Z",
     "iopub.status.busy": "2022-04-08T10:10:37.576635Z",
     "iopub.status.idle": "2022-04-08T10:10:40.271344Z",
     "shell.execute_reply": "2022-04-08T10:10:40.272117Z"
    },
    "papermill": {
     "duration": 2.72867,
     "end_time": "2022-04-08T10:10:40.272624",
     "exception": false,
     "start_time": "2022-04-08T10:10:37.543954",
     "status": "completed"
    },
    "tags": []
   },
   "outputs": [
    {
     "name": "stdout",
     "output_type": "stream",
     "text": [
      "Collecting mnist\r\n"
     ]
    },
    {
     "name": "stdout",
     "output_type": "stream",
     "text": [
      "  Downloading mnist-0.2.2-py2.py3-none-any.whl (3.5 kB)\r\n",
      "Requirement already satisfied: numpy in /opt/hostedtoolcache/Python/3.6.15/x64/lib/python3.6/site-packages (from mnist) (1.19.5)\r\n"
     ]
    },
    {
     "name": "stdout",
     "output_type": "stream",
     "text": [
      "Installing collected packages: mnist\r\n"
     ]
    },
    {
     "name": "stdout",
     "output_type": "stream",
     "text": [
      "Successfully installed mnist-0.2.2\r\n"
     ]
    }
   ],
   "source": [
    "!pip install mnist"
   ]
  },
  {
   "cell_type": "markdown",
   "id": "69df9c9a",
   "metadata": {
    "papermill": {
     "duration": 0.028758,
     "end_time": "2022-04-08T10:10:40.330300",
     "exception": false,
     "start_time": "2022-04-08T10:10:40.301542",
     "status": "completed"
    },
    "tags": []
   },
   "source": [
    "## Preparing the Data"
   ]
  },
  {
   "cell_type": "code",
   "execution_count": 4,
   "id": "7f69d806",
   "metadata": {
    "execution": {
     "iopub.execute_input": "2022-04-08T10:10:40.392813Z",
     "iopub.status.busy": "2022-04-08T10:10:40.392215Z",
     "iopub.status.idle": "2022-04-08T10:10:40.411518Z",
     "shell.execute_reply": "2022-04-08T10:10:40.410842Z"
    },
    "papermill": {
     "duration": 0.052741,
     "end_time": "2022-04-08T10:10:40.411690",
     "exception": false,
     "start_time": "2022-04-08T10:10:40.358949",
     "status": "completed"
    },
    "tags": []
   },
   "outputs": [],
   "source": [
    "import mnist"
   ]
  },
  {
   "cell_type": "code",
   "execution_count": 5,
   "id": "a411e44f",
   "metadata": {
    "execution": {
     "iopub.execute_input": "2022-04-08T10:10:40.476660Z",
     "iopub.status.busy": "2022-04-08T10:10:40.476050Z",
     "iopub.status.idle": "2022-04-08T10:10:41.055038Z",
     "shell.execute_reply": "2022-04-08T10:10:41.054418Z"
    },
    "papermill": {
     "duration": 0.613213,
     "end_time": "2022-04-08T10:10:41.055199",
     "exception": false,
     "start_time": "2022-04-08T10:10:40.441986",
     "status": "completed"
    },
    "tags": []
   },
   "outputs": [],
   "source": [
    "train_images = mnist.train_images()\n",
    "train_labels = mnist.train_labels()"
   ]
  },
  {
   "cell_type": "code",
   "execution_count": 6,
   "id": "dceab3a5",
   "metadata": {
    "execution": {
     "iopub.execute_input": "2022-04-08T10:10:41.119715Z",
     "iopub.status.busy": "2022-04-08T10:10:41.119115Z",
     "iopub.status.idle": "2022-04-08T10:10:41.135307Z",
     "shell.execute_reply": "2022-04-08T10:10:41.136034Z"
    },
    "papermill": {
     "duration": 0.050551,
     "end_time": "2022-04-08T10:10:41.136250",
     "exception": false,
     "start_time": "2022-04-08T10:10:41.085699",
     "status": "completed"
    },
    "tags": []
   },
   "outputs": [
    {
     "data": {
      "text/plain": [
       "((60000, 28, 28), (60000,))"
      ]
     },
     "execution_count": 6,
     "metadata": {},
     "output_type": "execute_result"
    }
   ],
   "source": [
    "train_images.shape, train_labels.shape"
   ]
  },
  {
   "cell_type": "code",
   "execution_count": 7,
   "id": "f50dc2bb",
   "metadata": {
    "execution": {
     "iopub.execute_input": "2022-04-08T10:10:41.197195Z",
     "iopub.status.busy": "2022-04-08T10:10:41.196597Z",
     "iopub.status.idle": "2022-04-08T10:10:41.336462Z",
     "shell.execute_reply": "2022-04-08T10:10:41.336950Z"
    },
    "papermill": {
     "duration": 0.172017,
     "end_time": "2022-04-08T10:10:41.337113",
     "exception": false,
     "start_time": "2022-04-08T10:10:41.165096",
     "status": "completed"
    },
    "tags": []
   },
   "outputs": [],
   "source": [
    "test_images = mnist.test_images()\n",
    "test_labels = mnist.test_labels()"
   ]
  },
  {
   "cell_type": "code",
   "execution_count": 8,
   "id": "fc38cf1b",
   "metadata": {
    "execution": {
     "iopub.execute_input": "2022-04-08T10:10:41.400106Z",
     "iopub.status.busy": "2022-04-08T10:10:41.399482Z",
     "iopub.status.idle": "2022-04-08T10:10:41.414814Z",
     "shell.execute_reply": "2022-04-08T10:10:41.415388Z"
    },
    "papermill": {
     "duration": 0.049452,
     "end_time": "2022-04-08T10:10:41.415534",
     "exception": false,
     "start_time": "2022-04-08T10:10:41.366082",
     "status": "completed"
    },
    "tags": []
   },
   "outputs": [
    {
     "data": {
      "text/plain": [
       "((10000, 28, 28), (10000,))"
      ]
     },
     "execution_count": 8,
     "metadata": {},
     "output_type": "execute_result"
    }
   ],
   "source": [
    "test_images.shape, test_labels.shape"
   ]
  },
  {
   "cell_type": "code",
   "execution_count": 9,
   "id": "f9ed8fe0",
   "metadata": {
    "execution": {
     "iopub.execute_input": "2022-04-08T10:10:41.481283Z",
     "iopub.status.busy": "2022-04-08T10:10:41.480673Z",
     "iopub.status.idle": "2022-04-08T10:10:41.640254Z",
     "shell.execute_reply": "2022-04-08T10:10:41.640753Z"
    },
    "papermill": {
     "duration": 0.19679,
     "end_time": "2022-04-08T10:10:41.640911",
     "exception": false,
     "start_time": "2022-04-08T10:10:41.444121",
     "status": "completed"
    },
    "tags": []
   },
   "outputs": [
    {
     "name": "stdout",
     "output_type": "stream",
     "text": [
      "2\n"
     ]
    },
    {
     "data": {
      "text/plain": [
       "<matplotlib.image.AxesImage at 0x7ff647c134e0>"
      ]
     },
     "execution_count": 9,
     "metadata": {},
     "output_type": "execute_result"
    },
    {
     "data": {
      "image/png": "[encoded data removed]",
      "text/plain": [
       "<Figure size 432x288 with 1 Axes>"
      ]
     },
     "metadata": {
      "needs_background": "light"
     },
     "output_type": "display_data"
    }
   ],
   "source": [
    "image_index = 7776 # You may select anything up to 60,000\n",
    "print(train_labels[image_index]) \n",
    "plt.imshow(train_images[image_index], cmap='Greys')"
   ]
  },
  {
   "cell_type": "markdown",
   "id": "a8d2388d",
   "metadata": {
    "papermill": {
     "duration": 0.030035,
     "end_time": "2022-04-08T10:10:41.703397",
     "exception": false,
     "start_time": "2022-04-08T10:10:41.673362",
     "status": "completed"
    },
    "tags": []
   },
   "source": [
    "## Filter data to get 3 and 8 out"
   ]
  },
  {
   "cell_type": "code",
   "execution_count": 10,
   "id": "776f7fc7",
   "metadata": {
    "execution": {
     "iopub.execute_input": "2022-04-08T10:10:41.769625Z",
     "iopub.status.busy": "2022-04-08T10:10:41.769011Z",
     "iopub.status.idle": "2022-04-08T10:10:41.785630Z",
     "shell.execute_reply": "2022-04-08T10:10:41.786107Z"
    },
    "papermill": {
     "duration": 0.052645,
     "end_time": "2022-04-08T10:10:41.786251",
     "exception": false,
     "start_time": "2022-04-08T10:10:41.733606",
     "status": "completed"
    },
    "tags": []
   },
   "outputs": [],
   "source": [
    "train_filter = np.where((train_labels == 3 ) | (train_labels == 8))\n",
    "test_filter = np.where((test_labels == 3) | (test_labels == 8))\n",
    "X_train, y_train = train_images[train_filter], train_labels[train_filter]\n",
    "X_test, y_test = test_images[test_filter], test_labels[test_filter]"
   ]
  },
  {
   "cell_type": "markdown",
   "id": "948f0b7e",
   "metadata": {
    "papermill": {
     "duration": 0.030146,
     "end_time": "2022-04-08T10:10:41.846520",
     "exception": false,
     "start_time": "2022-04-08T10:10:41.816374",
     "status": "completed"
    },
    "tags": []
   },
   "source": [
    "We normalize the pizel values in the 0 to 1 range"
   ]
  },
  {
   "cell_type": "code",
   "execution_count": 11,
   "id": "ee4c2166",
   "metadata": {
    "execution": {
     "iopub.execute_input": "2022-04-08T10:10:41.911035Z",
     "iopub.status.busy": "2022-04-08T10:10:41.910420Z",
     "iopub.status.idle": "2022-04-08T10:10:41.960829Z",
     "shell.execute_reply": "2022-04-08T10:10:41.960282Z"
    },
    "papermill": {
     "duration": 0.083979,
     "end_time": "2022-04-08T10:10:41.960967",
     "exception": false,
     "start_time": "2022-04-08T10:10:41.876988",
     "status": "completed"
    },
    "tags": []
   },
   "outputs": [],
   "source": [
    "X_train = X_train/255.\n",
    "X_test = X_test/255."
   ]
  },
  {
   "cell_type": "markdown",
   "id": "ddcf4fab",
   "metadata": {
    "papermill": {
     "duration": 0.03123,
     "end_time": "2022-04-08T10:10:42.025269",
     "exception": false,
     "start_time": "2022-04-08T10:10:41.994039",
     "status": "completed"
    },
    "tags": []
   },
   "source": [
    "And setup the labels as 1 (when the digit is 3) and 0 (when the digit is 8)"
   ]
  },
  {
   "cell_type": "code",
   "execution_count": 12,
   "id": "7dc908f2",
   "metadata": {
    "execution": {
     "iopub.execute_input": "2022-04-08T10:10:42.092474Z",
     "iopub.status.busy": "2022-04-08T10:10:42.091792Z",
     "iopub.status.idle": "2022-04-08T10:10:42.104945Z",
     "shell.execute_reply": "2022-04-08T10:10:42.105438Z"
    },
    "papermill": {
     "duration": 0.049264,
     "end_time": "2022-04-08T10:10:42.105584",
     "exception": false,
     "start_time": "2022-04-08T10:10:42.056320",
     "status": "completed"
    },
    "tags": []
   },
   "outputs": [],
   "source": [
    "y_train = 1*(y_train==3)\n",
    "y_test = 1*(y_test==3)"
   ]
  },
  {
   "cell_type": "code",
   "execution_count": 13,
   "id": "01e4e969",
   "metadata": {
    "execution": {
     "iopub.execute_input": "2022-04-08T10:10:42.170644Z",
     "iopub.status.busy": "2022-04-08T10:10:42.170049Z",
     "iopub.status.idle": "2022-04-08T10:10:42.184849Z",
     "shell.execute_reply": "2022-04-08T10:10:42.185362Z"
    },
    "papermill": {
     "duration": 0.049791,
     "end_time": "2022-04-08T10:10:42.185514",
     "exception": false,
     "start_time": "2022-04-08T10:10:42.135723",
     "status": "completed"
    },
    "tags": []
   },
   "outputs": [
    {
     "data": {
      "text/plain": [
       "((11982, 28, 28), (1984, 28, 28))"
      ]
     },
     "execution_count": 13,
     "metadata": {},
     "output_type": "execute_result"
    }
   ],
   "source": [
    "X_train.shape, X_test.shape"
   ]
  },
  {
   "cell_type": "markdown",
   "id": "5ccf3f85",
   "metadata": {
    "papermill": {
     "duration": 0.030232,
     "end_time": "2022-04-08T10:10:42.246337",
     "exception": false,
     "start_time": "2022-04-08T10:10:42.216105",
     "status": "completed"
    },
    "tags": []
   },
   "source": [
    "We reshape the data to flatten the image pixels into a set of features or co-variates:"
   ]
  },
  {
   "cell_type": "code",
   "execution_count": 14,
   "id": "5286a4a3",
   "metadata": {
    "execution": {
     "iopub.execute_input": "2022-04-08T10:10:42.311807Z",
     "iopub.status.busy": "2022-04-08T10:10:42.311210Z",
     "iopub.status.idle": "2022-04-08T10:10:42.326919Z",
     "shell.execute_reply": "2022-04-08T10:10:42.327368Z"
    },
    "papermill": {
     "duration": 0.050703,
     "end_time": "2022-04-08T10:10:42.327517",
     "exception": false,
     "start_time": "2022-04-08T10:10:42.276814",
     "status": "completed"
    },
    "tags": []
   },
   "outputs": [
    {
     "data": {
      "text/plain": [
       "((11982, 784), (1984, 784))"
      ]
     },
     "execution_count": 14,
     "metadata": {},
     "output_type": "execute_result"
    }
   ],
   "source": [
    "X_train = X_train.reshape(X_train.shape[0], -1)\n",
    "X_test = X_test.reshape(X_test.shape[0], -1)\n",
    "X_train.shape, X_test.shape"
   ]
  },
  {
   "cell_type": "code",
   "execution_count": 15,
   "id": "73c5f88a",
   "metadata": {
    "execution": {
     "iopub.execute_input": "2022-04-08T10:10:42.393630Z",
     "iopub.status.busy": "2022-04-08T10:10:42.393029Z",
     "iopub.status.idle": "2022-04-08T10:10:42.414386Z",
     "shell.execute_reply": "2022-04-08T10:10:42.413751Z"
    },
    "papermill": {
     "duration": 0.056854,
     "end_time": "2022-04-08T10:10:42.414537",
     "exception": false,
     "start_time": "2022-04-08T10:10:42.357683",
     "status": "completed"
    },
    "tags": []
   },
   "outputs": [],
   "source": [
    "#Impoting functions from 'Kudzu'\n",
    "from kudzu.model import Model\n",
    "from kudzu.train import Learner\n",
    "from kudzu.optim import GD\n",
    "from kudzu.data import Data, Sampler,Dataloader\n",
    "\n",
    "from kudzu.callbacks import AccCallback\n",
    "from kudzu.callbacks import ClfCallback\n",
    "\n",
    "from kudzu.loss import MSE\n",
    "\n",
    "from kudzu.layer import Sigmoid,Relu\n",
    "from kudzu.layer import Affine"
   ]
  },
  {
   "cell_type": "markdown",
   "id": "bc01172a",
   "metadata": {
    "papermill": {
     "duration": 0.030101,
     "end_time": "2022-04-08T10:10:42.476143",
     "exception": false,
     "start_time": "2022-04-08T10:10:42.446042",
     "status": "completed"
    },
    "tags": []
   },
   "source": [
    "### Let us create a `Config` class, to store important parameters. \n",
    "This class essentially plays the role of a dictionary."
   ]
  },
  {
   "cell_type": "code",
   "execution_count": 16,
   "id": "978281aa",
   "metadata": {
    "execution": {
     "iopub.execute_input": "2022-04-08T10:10:42.541263Z",
     "iopub.status.busy": "2022-04-08T10:10:42.540702Z",
     "iopub.status.idle": "2022-04-08T10:10:42.554275Z",
     "shell.execute_reply": "2022-04-08T10:10:42.553790Z"
    },
    "papermill": {
     "duration": 0.047822,
     "end_time": "2022-04-08T10:10:42.554400",
     "exception": false,
     "start_time": "2022-04-08T10:10:42.506578",
     "status": "completed"
    },
    "tags": []
   },
   "outputs": [],
   "source": [
    "class Config:\n",
    "    pass\n",
    "config = Config()\n",
    "config.lr = 0.001\n",
    "config.num_epochs = 250\n",
    "config.bs = 50"
   ]
  },
  {
   "cell_type": "markdown",
   "id": "1385fa59",
   "metadata": {
    "papermill": {
     "duration": 0.030134,
     "end_time": "2022-04-08T10:10:42.614587",
     "exception": false,
     "start_time": "2022-04-08T10:10:42.584453",
     "status": "completed"
    },
    "tags": []
   },
   "source": [
    "### Running Models with the Training data\n",
    "Details about the network layers:\n",
    "- A first affine layer has 784 inputs and does 100 affine transforms. These are followed by a Relu\n",
    "- A second affine layer has 100 inputs from the 100 activations of the past layer, and does 100 affine transforms. These are followed by a Relu\n",
    "- A third affine layer has 100 activations and does 2 affine transformations to create an embedding for visualization. There is no non-linearity here.\n",
    "- A final \"logistic regression\" which has an affine transform from 2 inputs to 1 output, which is squeezed through a sigmoid.\n"
   ]
  },
  {
   "cell_type": "code",
   "execution_count": 17,
   "id": "2b9c66db",
   "metadata": {
    "execution": {
     "iopub.execute_input": "2022-04-08T10:10:42.678371Z",
     "iopub.status.busy": "2022-04-08T10:10:42.677768Z",
     "iopub.status.idle": "2022-04-08T10:10:42.691326Z",
     "shell.execute_reply": "2022-04-08T10:10:42.691778Z"
    },
    "papermill": {
     "duration": 0.047733,
     "end_time": "2022-04-08T10:10:42.691938",
     "exception": false,
     "start_time": "2022-04-08T10:10:42.644205",
     "status": "completed"
    },
    "tags": []
   },
   "outputs": [],
   "source": [
    "data = Data(X_train, y_train.reshape(-1,1))\n",
    "sampler = Sampler(data, config.bs, shuffle=True)\n",
    "\n",
    "dl = Dataloader(data, sampler)\n",
    "\n",
    "opt = GD(config.lr)\n",
    "loss = MSE()"
   ]
  },
  {
   "cell_type": "code",
   "execution_count": 18,
   "id": "b275e4c2",
   "metadata": {
    "execution": {
     "iopub.execute_input": "2022-04-08T10:10:42.757071Z",
     "iopub.status.busy": "2022-04-08T10:10:42.756476Z",
     "iopub.status.idle": "2022-04-08T10:10:42.771518Z",
     "shell.execute_reply": "2022-04-08T10:10:42.772061Z"
    },
    "papermill": {
     "duration": 0.049998,
     "end_time": "2022-04-08T10:10:42.772201",
     "exception": false,
     "start_time": "2022-04-08T10:10:42.722203",
     "status": "completed"
    },
    "tags": []
   },
   "outputs": [],
   "source": [
    "training_data_x = X_train\n",
    "testing_data_x = X_test\n",
    "training_data_y = y_train.reshape(-1,1)\n",
    "testing_data_y = y_test.reshape(-1,1)"
   ]
  },
  {
   "cell_type": "code",
   "execution_count": 19,
   "id": "76951160",
   "metadata": {
    "execution": {
     "iopub.execute_input": "2022-04-08T10:10:42.836974Z",
     "iopub.status.busy": "2022-04-08T10:10:42.836369Z",
     "iopub.status.idle": "2022-04-08T10:10:42.855526Z",
     "shell.execute_reply": "2022-04-08T10:10:42.855013Z"
    },
    "papermill": {
     "duration": 0.053141,
     "end_time": "2022-04-08T10:10:42.855650",
     "exception": false,
     "start_time": "2022-04-08T10:10:42.802509",
     "status": "completed"
    },
    "tags": []
   },
   "outputs": [
    {
     "name": "stdout",
     "output_type": "stream",
     "text": [
      "xavier\n",
      "xavier\n",
      "xavier\n",
      "xavier\n",
      "xavier\n"
     ]
    }
   ],
   "source": [
    "layers = [Affine(\"first\", 784, 100), Relu(\"first\"), Affine(\"second\", 100, 100), Relu(\"second\"), Affine(\"third\", 100, 2), Affine(\"last\", 2, 1), Sigmoid(\"last\")]\n",
    "model_nn = Model(layers)\n",
    "model_lr = Model([Affine(\"logits\", 784, 1), Sigmoid(\"sigmoid\")])"
   ]
  },
  {
   "cell_type": "code",
   "execution_count": 20,
   "id": "6eede77a",
   "metadata": {
    "execution": {
     "iopub.execute_input": "2022-04-08T10:10:42.927435Z",
     "iopub.status.busy": "2022-04-08T10:10:42.926817Z",
     "iopub.status.idle": "2022-04-08T10:10:42.943222Z",
     "shell.execute_reply": "2022-04-08T10:10:42.942324Z"
    },
    "papermill": {
     "duration": 0.055477,
     "end_time": "2022-04-08T10:10:42.943427",
     "exception": false,
     "start_time": "2022-04-08T10:10:42.887950",
     "status": "completed"
    },
    "tags": []
   },
   "outputs": [],
   "source": [
    "nn_learner = Learner(loss, model_nn, opt, config.num_epochs)\n",
    "acc_nn = ClfCallback(nn_learner, config.bs, training_data_x , testing_data_x, training_data_y, testing_data_y)\n",
    "nn_learner.set_callbacks([acc_nn])"
   ]
  },
  {
   "cell_type": "code",
   "execution_count": 21,
   "id": "877b6cc7",
   "metadata": {
    "execution": {
     "iopub.execute_input": "2022-04-08T10:10:43.011359Z",
     "iopub.status.busy": "2022-04-08T10:10:43.010755Z",
     "iopub.status.idle": "2022-04-08T10:10:43.027246Z",
     "shell.execute_reply": "2022-04-08T10:10:43.025268Z"
    },
    "papermill": {
     "duration": 0.051708,
     "end_time": "2022-04-08T10:10:43.027383",
     "exception": false,
     "start_time": "2022-04-08T10:10:42.975675",
     "status": "completed"
    },
    "tags": []
   },
   "outputs": [],
   "source": [
    "lr_learner = Learner(loss, model_lr, opt, config.num_epochs)\n",
    "acc_lr = ClfCallback(lr_learner, config.bs, training_data_x , testing_data_x, training_data_y, testing_data_y)\n",
    "lr_learner.set_callbacks([acc_lr])"
   ]
  },
  {
   "cell_type": "code",
   "execution_count": 22,
   "id": "d9b133c3",
   "metadata": {
    "execution": {
     "iopub.execute_input": "2022-04-08T10:10:43.097958Z",
     "iopub.status.busy": "2022-04-08T10:10:43.093648Z",
     "iopub.status.idle": "2022-04-08T10:12:13.107139Z",
     "shell.execute_reply": "2022-04-08T10:12:13.108062Z"
    },
    "papermill": {
     "duration": 90.049268,
     "end_time": "2022-04-08T10:12:13.108231",
     "exception": false,
     "start_time": "2022-04-08T10:10:43.058963",
     "status": "completed"
    },
    "tags": []
   },
   "outputs": [
    {
     "name": "stdout",
     "output_type": "stream",
     "text": [
      "Epoch 0, Loss 0.2501\n",
      "Training Accuracy: 0.5359, Testing Accuracy: 0.5237\n",
      "\n"
     ]
    },
    {
     "name": "stdout",
     "output_type": "stream",
     "text": [
      "Epoch 10, Loss 0.1648\n",
      "Training Accuracy: 0.8933, Testing Accuracy: 0.8977\n",
      "\n"
     ]
    },
    {
     "name": "stdout",
     "output_type": "stream",
     "text": [
      "Epoch 20, Loss 0.08\n",
      "Training Accuracy: 0.9254, Testing Accuracy: 0.9335\n",
      "\n"
     ]
    },
    {
     "name": "stdout",
     "output_type": "stream",
     "text": [
      "Epoch 30, Loss 0.0542\n",
      "Training Accuracy: 0.9437, Testing Accuracy: 0.9541\n",
      "\n"
     ]
    },
    {
     "name": "stdout",
     "output_type": "stream",
     "text": [
      "Epoch 40, Loss 0.0437\n",
      "Training Accuracy: 0.9532, Testing Accuracy: 0.9617\n",
      "\n"
     ]
    },
    {
     "name": "stdout",
     "output_type": "stream",
     "text": [
      "Epoch 50, Loss 0.0381\n",
      "Training Accuracy: 0.9577, Testing Accuracy: 0.9612\n",
      "\n"
     ]
    },
    {
     "name": "stdout",
     "output_type": "stream",
     "text": [
      "Epoch 60, Loss 0.0347\n",
      "Training Accuracy: 0.9608, Testing Accuracy: 0.9647\n",
      "\n"
     ]
    },
    {
     "name": "stdout",
     "output_type": "stream",
     "text": [
      "Epoch 70, Loss 0.0323\n",
      "Training Accuracy: 0.9630, Testing Accuracy: 0.9672\n",
      "\n"
     ]
    },
    {
     "name": "stdout",
     "output_type": "stream",
     "text": [
      "Epoch 80, Loss 0.0305\n",
      "Training Accuracy: 0.9649, Testing Accuracy: 0.9677\n",
      "\n"
     ]
    },
    {
     "name": "stdout",
     "output_type": "stream",
     "text": [
      "Epoch 90, Loss 0.0291\n",
      "Training Accuracy: 0.9668, Testing Accuracy: 0.9688\n",
      "\n"
     ]
    },
    {
     "name": "stdout",
     "output_type": "stream",
     "text": [
      "Epoch 100, Loss 0.0279\n",
      "Training Accuracy: 0.9680, Testing Accuracy: 0.9693\n",
      "\n"
     ]
    },
    {
     "name": "stdout",
     "output_type": "stream",
     "text": [
      "Epoch 110, Loss 0.0269\n",
      "Training Accuracy: 0.9689, Testing Accuracy: 0.9703\n",
      "\n"
     ]
    },
    {
     "name": "stdout",
     "output_type": "stream",
     "text": [
      "Epoch 120, Loss 0.026\n",
      "Training Accuracy: 0.9695, Testing Accuracy: 0.9703\n",
      "\n"
     ]
    },
    {
     "name": "stdout",
     "output_type": "stream",
     "text": [
      "Epoch 130, Loss 0.0253\n",
      "Training Accuracy: 0.9706, Testing Accuracy: 0.9698\n",
      "\n"
     ]
    },
    {
     "name": "stdout",
     "output_type": "stream",
     "text": [
      "Epoch 140, Loss 0.0246\n",
      "Training Accuracy: 0.9721, Testing Accuracy: 0.9698\n",
      "\n"
     ]
    },
    {
     "name": "stdout",
     "output_type": "stream",
     "text": [
      "Epoch 150, Loss 0.0239\n",
      "Training Accuracy: 0.9726, Testing Accuracy: 0.9703\n",
      "\n"
     ]
    },
    {
     "name": "stdout",
     "output_type": "stream",
     "text": [
      "Epoch 160, Loss 0.0233\n",
      "Training Accuracy: 0.9731, Testing Accuracy: 0.9713\n",
      "\n"
     ]
    },
    {
     "name": "stdout",
     "output_type": "stream",
     "text": [
      "Epoch 170, Loss 0.0228\n",
      "Training Accuracy: 0.9739, Testing Accuracy: 0.9713\n",
      "\n"
     ]
    },
    {
     "name": "stdout",
     "output_type": "stream",
     "text": [
      "Epoch 180, Loss 0.0223\n",
      "Training Accuracy: 0.9744, Testing Accuracy: 0.9713\n",
      "\n"
     ]
    },
    {
     "name": "stdout",
     "output_type": "stream",
     "text": [
      "Epoch 190, Loss 0.0218\n",
      "Training Accuracy: 0.9753, Testing Accuracy: 0.9718\n",
      "\n"
     ]
    },
    {
     "name": "stdout",
     "output_type": "stream",
     "text": [
      "Epoch 200, Loss 0.0214\n",
      "Training Accuracy: 0.9756, Testing Accuracy: 0.9718\n",
      "\n"
     ]
    },
    {
     "name": "stdout",
     "output_type": "stream",
     "text": [
      "Epoch 210, Loss 0.0209\n",
      "Training Accuracy: 0.9760, Testing Accuracy: 0.9723\n",
      "\n"
     ]
    },
    {
     "name": "stdout",
     "output_type": "stream",
     "text": [
      "Epoch 220, Loss 0.0205\n",
      "Training Accuracy: 0.9766, Testing Accuracy: 0.9738\n",
      "\n"
     ]
    },
    {
     "name": "stdout",
     "output_type": "stream",
     "text": [
      "Epoch 230, Loss 0.0201\n",
      "Training Accuracy: 0.9770, Testing Accuracy: 0.9733\n",
      "\n"
     ]
    },
    {
     "name": "stdout",
     "output_type": "stream",
     "text": [
      "Epoch 240, Loss 0.0198\n",
      "Training Accuracy: 0.9775, Testing Accuracy: 0.9728\n",
      "\n"
     ]
    },
    {
     "data": {
      "text/plain": [
       "0.0004441447739522574"
      ]
     },
     "execution_count": 22,
     "metadata": {},
     "output_type": "execute_result"
    }
   ],
   "source": [
    "nn_learner.train_loop(dl)"
   ]
  },
  {
   "cell_type": "code",
   "execution_count": 23,
   "id": "e0163366",
   "metadata": {
    "execution": {
     "iopub.execute_input": "2022-04-08T10:12:13.201186Z",
     "iopub.status.busy": "2022-04-08T10:12:13.200560Z",
     "iopub.status.idle": "2022-04-08T10:12:29.455657Z",
     "shell.execute_reply": "2022-04-08T10:12:29.456546Z"
    },
    "papermill": {
     "duration": 16.308811,
     "end_time": "2022-04-08T10:12:29.456713",
     "exception": false,
     "start_time": "2022-04-08T10:12:13.147902",
     "status": "completed"
    },
    "tags": []
   },
   "outputs": [
    {
     "name": "stdout",
     "output_type": "stream",
     "text": [
      "Epoch 0, Loss 0.1924\n",
      "Training Accuracy: 0.8463, Testing Accuracy: 0.8564\n",
      "\n"
     ]
    },
    {
     "name": "stdout",
     "output_type": "stream",
     "text": [
      "Epoch 10, Loss 0.0949\n",
      "Training Accuracy: 0.9223, Testing Accuracy: 0.9370\n",
      "\n"
     ]
    },
    {
     "name": "stdout",
     "output_type": "stream",
     "text": [
      "Epoch 20, Loss 0.0753\n",
      "Training Accuracy: 0.9320, Testing Accuracy: 0.9466\n",
      "\n"
     ]
    },
    {
     "name": "stdout",
     "output_type": "stream",
     "text": [
      "Epoch 30, Loss 0.0658\n",
      "Training Accuracy: 0.9406, Testing Accuracy: 0.9516\n",
      "\n"
     ]
    },
    {
     "name": "stdout",
     "output_type": "stream",
     "text": [
      "Epoch 40, Loss 0.06\n",
      "Training Accuracy: 0.9444, Testing Accuracy: 0.9567\n",
      "\n"
     ]
    },
    {
     "name": "stdout",
     "output_type": "stream",
     "text": [
      "Epoch 50, Loss 0.0559\n",
      "Training Accuracy: 0.9471, Testing Accuracy: 0.9597\n",
      "\n"
     ]
    },
    {
     "name": "stdout",
     "output_type": "stream",
     "text": [
      "Epoch 60, Loss 0.0528\n",
      "Training Accuracy: 0.9491, Testing Accuracy: 0.9607\n",
      "\n"
     ]
    },
    {
     "name": "stdout",
     "output_type": "stream",
     "text": [
      "Epoch 70, Loss 0.0505\n",
      "Training Accuracy: 0.9508, Testing Accuracy: 0.9612\n",
      "\n"
     ]
    },
    {
     "name": "stdout",
     "output_type": "stream",
     "text": [
      "Epoch 80, Loss 0.0486\n",
      "Training Accuracy: 0.9524, Testing Accuracy: 0.9627\n",
      "\n"
     ]
    },
    {
     "name": "stdout",
     "output_type": "stream",
     "text": [
      "Epoch 90, Loss 0.047\n",
      "Training Accuracy: 0.9536, Testing Accuracy: 0.9632\n",
      "\n"
     ]
    },
    {
     "name": "stdout",
     "output_type": "stream",
     "text": [
      "Epoch 100, Loss 0.0456\n",
      "Training Accuracy: 0.9546, Testing Accuracy: 0.9632\n",
      "\n"
     ]
    },
    {
     "name": "stdout",
     "output_type": "stream",
     "text": [
      "Epoch 110, Loss 0.0445\n",
      "Training Accuracy: 0.9554, Testing Accuracy: 0.9637\n",
      "\n"
     ]
    },
    {
     "name": "stdout",
     "output_type": "stream",
     "text": [
      "Epoch 120, Loss 0.0434\n",
      "Training Accuracy: 0.9562, Testing Accuracy: 0.9642\n",
      "\n"
     ]
    },
    {
     "name": "stdout",
     "output_type": "stream",
     "text": [
      "Epoch 130, Loss 0.0426\n",
      "Training Accuracy: 0.9577, Testing Accuracy: 0.9637\n",
      "\n"
     ]
    },
    {
     "name": "stdout",
     "output_type": "stream",
     "text": [
      "Epoch 140, Loss 0.0418\n",
      "Training Accuracy: 0.9578, Testing Accuracy: 0.9647\n",
      "\n"
     ]
    },
    {
     "name": "stdout",
     "output_type": "stream",
     "text": [
      "Epoch 150, Loss 0.041\n",
      "Training Accuracy: 0.9580, Testing Accuracy: 0.9657\n",
      "\n"
     ]
    },
    {
     "name": "stdout",
     "output_type": "stream",
     "text": [
      "Epoch 160, Loss 0.0404\n",
      "Training Accuracy: 0.9584, Testing Accuracy: 0.9662\n",
      "\n"
     ]
    },
    {
     "name": "stdout",
     "output_type": "stream",
     "text": [
      "Epoch 170, Loss 0.0398\n",
      "Training Accuracy: 0.9589, Testing Accuracy: 0.9667\n",
      "\n"
     ]
    },
    {
     "name": "stdout",
     "output_type": "stream",
     "text": [
      "Epoch 180, Loss 0.0393\n",
      "Training Accuracy: 0.9592, Testing Accuracy: 0.9672\n",
      "\n"
     ]
    },
    {
     "name": "stdout",
     "output_type": "stream",
     "text": [
      "Epoch 190, Loss 0.0388\n",
      "Training Accuracy: 0.9595, Testing Accuracy: 0.9672\n",
      "\n"
     ]
    },
    {
     "name": "stdout",
     "output_type": "stream",
     "text": [
      "Epoch 200, Loss 0.0383\n",
      "Training Accuracy: 0.9601, Testing Accuracy: 0.9672\n",
      "\n"
     ]
    },
    {
     "name": "stdout",
     "output_type": "stream",
     "text": [
      "Epoch 210, Loss 0.0379\n",
      "Training Accuracy: 0.9603, Testing Accuracy: 0.9672\n",
      "\n"
     ]
    },
    {
     "name": "stdout",
     "output_type": "stream",
     "text": [
      "Epoch 220, Loss 0.0375\n",
      "Training Accuracy: 0.9605, Testing Accuracy: 0.9672\n",
      "\n"
     ]
    },
    {
     "name": "stdout",
     "output_type": "stream",
     "text": [
      "Epoch 230, Loss 0.0371\n",
      "Training Accuracy: 0.9609, Testing Accuracy: 0.9672\n",
      "\n"
     ]
    },
    {
     "name": "stdout",
     "output_type": "stream",
     "text": [
      "Epoch 240, Loss 0.0367\n",
      "Training Accuracy: 0.9615, Testing Accuracy: 0.9672\n",
      "\n"
     ]
    },
    {
     "data": {
      "text/plain": [
       "0.04300103303025993"
      ]
     },
     "execution_count": 23,
     "metadata": {},
     "output_type": "execute_result"
    }
   ],
   "source": [
    "lr_learner.train_loop(dl)"
   ]
  },
  {
   "cell_type": "code",
   "execution_count": 24,
   "id": "ca410940",
   "metadata": {
    "execution": {
     "iopub.execute_input": "2022-04-08T10:12:29.563263Z",
     "iopub.status.busy": "2022-04-08T10:12:29.556326Z",
     "iopub.status.idle": "2022-04-08T10:12:29.822221Z",
     "shell.execute_reply": "2022-04-08T10:12:29.821707Z"
    },
    "papermill": {
     "duration": 0.318212,
     "end_time": "2022-04-08T10:12:29.822356",
     "exception": false,
     "start_time": "2022-04-08T10:12:29.504144",
     "status": "completed"
    },
    "tags": []
   },
   "outputs": [
    {
     "data": {
      "text/plain": [
       "<matplotlib.legend.Legend at 0x7ff63b046c50>"
      ]
     },
     "execution_count": 24,
     "metadata": {},
     "output_type": "execute_result"
    },
    {
     "data": {
      "image/png": "[encoded data removed]",
      "text/plain": [
       "<Figure size 1080x720 with 1 Axes>"
      ]
     },
     "metadata": {
      "needs_background": "light"
     },
     "output_type": "display_data"
    }
   ],
   "source": [
    "#comparing the results of NN and LR\n",
    "plt.figure(figsize=(15,10))\n",
    "\n",
    "# Neural Network plots\n",
    "plt.plot(acc_nn.accuracies, 'r-', label = \"Training Accuracies - NN\")\n",
    "plt.plot(acc_nn.test_accuracies, 'g-', label = \"Testing Accuracies - NN\")\n",
    "\n",
    "# Logistic Regression plots\n",
    "plt.plot(acc_lr.accuracies, 'k-', label = \"Training Accuracies - LR\")\n",
    "plt.plot(acc_lr.test_accuracies, 'b-', label = \"Testing Accuracies - LR\")\n",
    "plt.legend()"
   ]
  },
  {
   "cell_type": "markdown",
   "id": "80dfb35c",
   "metadata": {
    "papermill": {
     "duration": 0.048564,
     "end_time": "2022-04-08T10:12:29.919560",
     "exception": false,
     "start_time": "2022-04-08T10:12:29.870996",
     "status": "completed"
    },
    "tags": []
   },
   "source": [
    "#### Plotting the outputs of this layer of the NN.\n"
   ]
  },
  {
   "cell_type": "code",
   "execution_count": 25,
   "id": "45eb2ff5",
   "metadata": {
    "execution": {
     "iopub.execute_input": "2022-04-08T10:12:30.021053Z",
     "iopub.status.busy": "2022-04-08T10:12:30.020436Z",
     "iopub.status.idle": "2022-04-08T10:12:30.042293Z",
     "shell.execute_reply": "2022-04-08T10:12:30.042809Z"
    },
    "papermill": {
     "duration": 0.075089,
     "end_time": "2022-04-08T10:12:30.042965",
     "exception": false,
     "start_time": "2022-04-08T10:12:29.967876",
     "status": "completed"
    },
    "tags": []
   },
   "outputs": [],
   "source": [
    "new_model = Model(layers[:-2])\n",
    "testing_plot = new_model(testing_data_x)"
   ]
  },
  {
   "cell_type": "code",
   "execution_count": 26,
   "id": "4c0a5485",
   "metadata": {
    "execution": {
     "iopub.execute_input": "2022-04-08T10:12:30.145606Z",
     "iopub.status.busy": "2022-04-08T10:12:30.144995Z",
     "iopub.status.idle": "2022-04-08T10:12:30.394436Z",
     "shell.execute_reply": "2022-04-08T10:12:30.394924Z"
    },
    "papermill": {
     "duration": 0.30402,
     "end_time": "2022-04-08T10:12:30.395081",
     "exception": false,
     "start_time": "2022-04-08T10:12:30.091061",
     "status": "completed"
    },
    "tags": []
   },
   "outputs": [
    {
     "data": {
      "text/plain": [
       "Text(0.5, 1.0, 'Outputs')"
      ]
     },
     "execution_count": 26,
     "metadata": {},
     "output_type": "execute_result"
    },
    {
     "data": {
      "image/png": "[encoded data removed]",
      "text/plain": [
       "<Figure size 576x504 with 1 Axes>"
      ]
     },
     "metadata": {
      "needs_background": "light"
     },
     "output_type": "display_data"
    }
   ],
   "source": [
    "# Plotting the scatter plot of points and color coding by class\n",
    "plt.figure(figsize=(8,7))\n",
    "plt.scatter(testing_plot[:,0], testing_plot[:,1], alpha = 0.1, c = y_test.ravel());\n",
    "plt.title('Outputs')"
   ]
  },
  {
   "cell_type": "markdown",
   "id": "a74fcf8f",
   "metadata": {
    "papermill": {
     "duration": 0.053583,
     "end_time": "2022-04-08T10:12:30.515490",
     "exception": false,
     "start_time": "2022-04-08T10:12:30.461907",
     "status": "completed"
    },
    "tags": []
   },
   "source": [
    "Probability contours"
   ]
  },
  {
   "cell_type": "code",
   "execution_count": 27,
   "id": "d0afc8e3",
   "metadata": {
    "execution": {
     "iopub.execute_input": "2022-04-08T10:12:30.666982Z",
     "iopub.status.busy": "2022-04-08T10:12:30.666344Z",
     "iopub.status.idle": "2022-04-08T10:12:30.686417Z",
     "shell.execute_reply": "2022-04-08T10:12:30.685795Z"
    },
    "papermill": {
     "duration": 0.114064,
     "end_time": "2022-04-08T10:12:30.686604",
     "exception": false,
     "start_time": "2022-04-08T10:12:30.572540",
     "status": "completed"
    },
    "tags": []
   },
   "outputs": [],
   "source": [
    "model_prob = Model(layers[-2:]) "
   ]
  },
  {
   "cell_type": "code",
   "execution_count": 28,
   "id": "9b96e238",
   "metadata": {
    "execution": {
     "iopub.execute_input": "2022-04-08T10:12:30.801751Z",
     "iopub.status.busy": "2022-04-08T10:12:30.801168Z",
     "iopub.status.idle": "2022-04-08T10:12:30.815409Z",
     "shell.execute_reply": "2022-04-08T10:12:30.815908Z"
    },
    "papermill": {
     "duration": 0.074075,
     "end_time": "2022-04-08T10:12:30.816071",
     "exception": false,
     "start_time": "2022-04-08T10:12:30.741996",
     "status": "completed"
    },
    "tags": []
   },
   "outputs": [],
   "source": [
    "#creating the x and y ranges according to the above generated plot.\n",
    "x_range = np.linspace(-4, 1, 100) \n",
    "y_range = np.linspace(-6, 6, 100) \n",
    "x_grid, y_grid = np.meshgrid(x_range, y_range) # x_grid and y_grig are of size 100 X 100\n",
    "\n",
    "# converting x_grid and y_grid to continuous arrays\n",
    "x_gridflat = np.ravel(x_grid)\n",
    "y_gridflat = np.ravel(y_grid)\n",
    "\n",
    "# The last layer of the current model takes two columns as input. Hence transpose of np.vstack() is required.\n",
    "X = np.vstack((x_gridflat, y_gridflat)).T\n",
    "\n",
    "prob_contour = model_prob(X).reshape(100,100) "
   ]
  },
  {
   "cell_type": "code",
   "execution_count": 29,
   "id": "da72499a",
   "metadata": {
    "execution": {
     "iopub.execute_input": "2022-04-08T10:12:30.933464Z",
     "iopub.status.busy": "2022-04-08T10:12:30.932860Z",
     "iopub.status.idle": "2022-04-08T10:12:31.216920Z",
     "shell.execute_reply": "2022-04-08T10:12:31.217410Z"
    },
    "papermill": {
     "duration": 0.349406,
     "end_time": "2022-04-08T10:12:31.217565",
     "exception": false,
     "start_time": "2022-04-08T10:12:30.868159",
     "status": "completed"
    },
    "tags": []
   },
   "outputs": [
    {
     "data": {
      "image/png": "[encoded data removed]",
      "text/plain": [
       "<Figure size 720x648 with 1 Axes>"
      ]
     },
     "metadata": {
      "needs_background": "light"
     },
     "output_type": "display_data"
    }
   ],
   "source": [
    "plt.figure(figsize=(10,9))\n",
    "plt.scatter(testing_plot[:,0], testing_plot[:,1], alpha = 0.1, c = y_test.ravel())\n",
    "contours = plt.contour(x_grid,y_grid,prob_contour)\n",
    "plt.title('Probability Contours')\n",
    "plt.clabel(contours, inline = True );"
   ]
  },
  {
   "cell_type": "code",
   "execution_count": null,
   "id": "e81b4ac7",
   "metadata": {
    "papermill": {
     "duration": 0.054489,
     "end_time": "2022-04-08T10:12:31.327010",
     "exception": false,
     "start_time": "2022-04-08T10:12:31.272521",
     "status": "completed"
    },
    "tags": []
   },
   "outputs": [],
   "source": []
  }
 ],
 "metadata": {
  "kernelspec": {
   "display_name": "Python 3",
   "language": "python",
   "name": "python3"
  },
  "language_info": {
   "codemirror_mode": {
    "name": "ipython",
    "version": 3
   },
   "file_extension": ".py",
   "mimetype": "text/x-python",
   "name": "python",
   "nbconvert_exporter": "python",
   "pygments_lexer": "ipython3",
   "version": "3.6.15"
  },
  "papermill": {
   "default_parameters": {},
   "duration": 116.535007,
   "end_time": "2022-04-08T10:12:31.801942",
   "environment_variables": {},
   "exception": null,
   "input_path": "2020-08-11-part2.ipynb",
   "output_path": "2020-08-11-part2.ipynb",
   "parameters": {},
   "start_time": "2022-04-08T10:10:35.266935",
   "version": "2.3.3"
  }
 },
 "nbformat": 4,
 "nbformat_minor": 5
}