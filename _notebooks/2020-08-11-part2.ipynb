{
 "cells": [
  {
   "cell_type": "markdown",
   "id": "98380cd3",
   "metadata": {
    "papermill": {
     "duration": 0.032958,
     "end_time": "2022-09-06T10:10:58.829076",
     "exception": false,
     "start_time": "2022-09-06T10:10:58.796118",
     "status": "completed"
    },
    "tags": []
   },
   "source": [
    "# Distinguish Your Own Digits (DYOD)"
   ]
  },
  {
   "cell_type": "markdown",
   "id": "ef31240d",
   "metadata": {
    "papermill": {
     "duration": 0.024211,
     "end_time": "2022-09-06T10:10:58.877176",
     "exception": false,
     "start_time": "2022-09-06T10:10:58.852965",
     "status": "completed"
    },
    "tags": []
   },
   "source": [
    "You are going to write a classifier that distinguishes between the number 3 and number 8."
   ]
  },
  {
   "cell_type": "code",
   "execution_count": 1,
   "id": "b15c8646",
   "metadata": {
    "execution": {
     "iopub.execute_input": "2022-09-06T10:10:58.937695Z",
     "iopub.status.busy": "2022-09-06T10:10:58.932193Z",
     "iopub.status.idle": "2022-09-06T10:10:58.949072Z",
     "shell.execute_reply": "2022-09-06T10:10:58.948528Z"
    },
    "papermill": {
     "duration": 0.048335,
     "end_time": "2022-09-06T10:10:58.949190",
     "exception": false,
     "start_time": "2022-09-06T10:10:58.900855",
     "status": "completed"
    },
    "tags": []
   },
   "outputs": [],
   "source": [
    "%load_ext autoreload\n",
    "%autoreload 2"
   ]
  },
  {
   "cell_type": "code",
   "execution_count": 2,
   "id": "22ef38dc",
   "metadata": {
    "execution": {
     "iopub.execute_input": "2022-09-06T10:10:58.999169Z",
     "iopub.status.busy": "2022-09-06T10:10:58.998520Z",
     "iopub.status.idle": "2022-09-06T10:10:59.570442Z",
     "shell.execute_reply": "2022-09-06T10:10:59.569740Z"
    },
    "papermill": {
     "duration": 0.598871,
     "end_time": "2022-09-06T10:10:59.570594",
     "exception": false,
     "start_time": "2022-09-06T10:10:58.971723",
     "status": "completed"
    },
    "tags": []
   },
   "outputs": [],
   "source": [
    "%matplotlib inline\n",
    "import numpy as np\n",
    "import matplotlib.pyplot as plt\n",
    "import pandas as pd"
   ]
  },
  {
   "cell_type": "markdown",
   "id": "ba036198",
   "metadata": {
    "papermill": {
     "duration": 0.024914,
     "end_time": "2022-09-06T10:10:59.621515",
     "exception": false,
     "start_time": "2022-09-06T10:10:59.596601",
     "status": "completed"
    },
    "tags": []
   },
   "source": [
    "From the command line run `pip install mnist`. This is a library that will help you bring down the mnist dataset. If you run this from a notebook, you need to put  `!pip install mnist` in a cell by itself."
   ]
  },
  {
   "cell_type": "code",
   "execution_count": 3,
   "id": "bb6ad8a1",
   "metadata": {
    "execution": {
     "iopub.execute_input": "2022-09-06T10:10:59.674549Z",
     "iopub.status.busy": "2022-09-06T10:10:59.673990Z",
     "iopub.status.idle": "2022-09-06T10:11:01.447409Z",
     "shell.execute_reply": "2022-09-06T10:11:01.446704Z"
    },
    "papermill": {
     "duration": 1.80078,
     "end_time": "2022-09-06T10:11:01.447564",
     "exception": false,
     "start_time": "2022-09-06T10:10:59.646784",
     "status": "completed"
    },
    "tags": []
   },
   "outputs": [
    {
     "name": "stdout",
     "output_type": "stream",
     "text": [
      "Collecting mnist\r\n"
     ]
    },
    {
     "name": "stdout",
     "output_type": "stream",
     "text": [
      "  Downloading mnist-0.2.2-py2.py3-none-any.whl (3.5 kB)\r\n",
      "Requirement already satisfied: numpy in /opt/hostedtoolcache/Python/3.6.15/x64/lib/python3.6/site-packages (from mnist) (1.19.5)\r\n"
     ]
    },
    {
     "name": "stdout",
     "output_type": "stream",
     "text": [
      "Installing collected packages: mnist\r\n",
      "Successfully installed mnist-0.2.2\r\n"
     ]
    }
   ],
   "source": [
    "!pip install mnist"
   ]
  },
  {
   "cell_type": "markdown",
   "id": "69df9c9a",
   "metadata": {
    "papermill": {
     "duration": 0.02381,
     "end_time": "2022-09-06T10:11:01.497430",
     "exception": false,
     "start_time": "2022-09-06T10:11:01.473620",
     "status": "completed"
    },
    "tags": []
   },
   "source": [
    "## Preparing the Data"
   ]
  },
  {
   "cell_type": "code",
   "execution_count": 4,
   "id": "7f69d806",
   "metadata": {
    "execution": {
     "iopub.execute_input": "2022-09-06T10:11:01.549495Z",
     "iopub.status.busy": "2022-09-06T10:11:01.548937Z",
     "iopub.status.idle": "2022-09-06T10:11:01.565584Z",
     "shell.execute_reply": "2022-09-06T10:11:01.565127Z"
    },
    "papermill": {
     "duration": 0.044777,
     "end_time": "2022-09-06T10:11:01.565690",
     "exception": false,
     "start_time": "2022-09-06T10:11:01.520913",
     "status": "completed"
    },
    "tags": []
   },
   "outputs": [],
   "source": [
    "import mnist"
   ]
  },
  {
   "cell_type": "code",
   "execution_count": 5,
   "id": "a411e44f",
   "metadata": {
    "execution": {
     "iopub.execute_input": "2022-09-06T10:11:01.619296Z",
     "iopub.status.busy": "2022-09-06T10:11:01.618689Z",
     "iopub.status.idle": "2022-09-06T10:11:02.570249Z",
     "shell.execute_reply": "2022-09-06T10:11:02.568377Z"
    },
    "papermill": {
     "duration": 0.979984,
     "end_time": "2022-09-06T10:11:02.570400",
     "exception": false,
     "start_time": "2022-09-06T10:11:01.590416",
     "status": "completed"
    },
    "tags": []
   },
   "outputs": [],
   "source": [
    "train_images = mnist.train_images()\n",
    "train_labels = mnist.train_labels()"
   ]
  },
  {
   "cell_type": "code",
   "execution_count": 6,
   "id": "dceab3a5",
   "metadata": {
    "execution": {
     "iopub.execute_input": "2022-09-06T10:11:02.633767Z",
     "iopub.status.busy": "2022-09-06T10:11:02.633028Z",
     "iopub.status.idle": "2022-09-06T10:11:02.655318Z",
     "shell.execute_reply": "2022-09-06T10:11:02.654749Z"
    },
    "papermill": {
     "duration": 0.057143,
     "end_time": "2022-09-06T10:11:02.655450",
     "exception": false,
     "start_time": "2022-09-06T10:11:02.598307",
     "status": "completed"
    },
    "tags": []
   },
   "outputs": [
    {
     "data": {
      "text/plain": [
       "((60000, 28, 28), (60000,))"
      ]
     },
     "execution_count": 6,
     "metadata": {},
     "output_type": "execute_result"
    }
   ],
   "source": [
    "train_images.shape, train_labels.shape"
   ]
  },
  {
   "cell_type": "code",
   "execution_count": 7,
   "id": "f50dc2bb",
   "metadata": {
    "execution": {
     "iopub.execute_input": "2022-09-06T10:11:02.714394Z",
     "iopub.status.busy": "2022-09-06T10:11:02.713769Z",
     "iopub.status.idle": "2022-09-06T10:11:03.210548Z",
     "shell.execute_reply": "2022-09-06T10:11:03.208937Z"
    },
    "papermill": {
     "duration": 0.527948,
     "end_time": "2022-09-06T10:11:03.210714",
     "exception": false,
     "start_time": "2022-09-06T10:11:02.682766",
     "status": "completed"
    },
    "tags": []
   },
   "outputs": [],
   "source": [
    "test_images = mnist.test_images()\n",
    "test_labels = mnist.test_labels()"
   ]
  },
  {
   "cell_type": "code",
   "execution_count": 8,
   "id": "fc38cf1b",
   "metadata": {
    "execution": {
     "iopub.execute_input": "2022-09-06T10:11:03.269357Z",
     "iopub.status.busy": "2022-09-06T10:11:03.268708Z",
     "iopub.status.idle": "2022-09-06T10:11:03.282334Z",
     "shell.execute_reply": "2022-09-06T10:11:03.283042Z"
    },
    "papermill": {
     "duration": 0.045099,
     "end_time": "2022-09-06T10:11:03.283214",
     "exception": false,
     "start_time": "2022-09-06T10:11:03.238115",
     "status": "completed"
    },
    "tags": []
   },
   "outputs": [
    {
     "data": {
      "text/plain": [
       "((10000, 28, 28), (10000,))"
      ]
     },
     "execution_count": 8,
     "metadata": {},
     "output_type": "execute_result"
    }
   ],
   "source": [
    "test_images.shape, test_labels.shape"
   ]
  },
  {
   "cell_type": "code",
   "execution_count": 9,
   "id": "f9ed8fe0",
   "metadata": {
    "execution": {
     "iopub.execute_input": "2022-09-06T10:11:03.349597Z",
     "iopub.status.busy": "2022-09-06T10:11:03.344821Z",
     "iopub.status.idle": "2022-09-06T10:11:03.495450Z",
     "shell.execute_reply": "2022-09-06T10:11:03.494907Z"
    },
    "papermill": {
     "duration": 0.182546,
     "end_time": "2022-09-06T10:11:03.495577",
     "exception": false,
     "start_time": "2022-09-06T10:11:03.313031",
     "status": "completed"
    },
    "tags": []
   },
   "outputs": [
    {
     "name": "stdout",
     "output_type": "stream",
     "text": [
      "2\n"
     ]
    },
    {
     "data": {
      "text/plain": [
       "<matplotlib.image.AxesImage at 0x7f7a832f8c50>"
      ]
     },
     "execution_count": 9,
     "metadata": {},
     "output_type": "execute_result"
    },
    {
     "data": {
      "image/png": "[encoded data removed]",
      "text/plain": [
       "<Figure size 432x288 with 1 Axes>"
      ]
     },
     "metadata": {
      "needs_background": "light"
     },
     "output_type": "display_data"
    }
   ],
   "source": [
    "image_index = 7776 # You may select anything up to 60,000\n",
    "print(train_labels[image_index]) \n",
    "plt.imshow(train_images[image_index], cmap='Greys')"
   ]
  },
  {
   "cell_type": "markdown",
   "id": "a8d2388d",
   "metadata": {
    "papermill": {
     "duration": 0.02906,
     "end_time": "2022-09-06T10:11:03.552446",
     "exception": false,
     "start_time": "2022-09-06T10:11:03.523386",
     "status": "completed"
    },
    "tags": []
   },
   "source": [
    "## Filter data to get 3 and 8 out"
   ]
  },
  {
   "cell_type": "code",
   "execution_count": 10,
   "id": "776f7fc7",
   "metadata": {
    "execution": {
     "iopub.execute_input": "2022-09-06T10:11:03.613586Z",
     "iopub.status.busy": "2022-09-06T10:11:03.612932Z",
     "iopub.status.idle": "2022-09-06T10:11:03.632497Z",
     "shell.execute_reply": "2022-09-06T10:11:03.631878Z"
    },
    "papermill": {
     "duration": 0.051744,
     "end_time": "2022-09-06T10:11:03.632627",
     "exception": false,
     "start_time": "2022-09-06T10:11:03.580883",
     "status": "completed"
    },
    "tags": []
   },
   "outputs": [],
   "source": [
    "train_filter = np.where((train_labels == 3 ) | (train_labels == 8))\n",
    "test_filter = np.where((test_labels == 3) | (test_labels == 8))\n",
    "X_train, y_train = train_images[train_filter], train_labels[train_filter]\n",
    "X_test, y_test = test_images[test_filter], test_labels[test_filter]"
   ]
  },
  {
   "cell_type": "markdown",
   "id": "948f0b7e",
   "metadata": {
    "papermill": {
     "duration": 0.031041,
     "end_time": "2022-09-06T10:11:03.692972",
     "exception": false,
     "start_time": "2022-09-06T10:11:03.661931",
     "status": "completed"
    },
    "tags": []
   },
   "source": [
    "We normalize the pizel values in the 0 to 1 range"
   ]
  },
  {
   "cell_type": "code",
   "execution_count": 11,
   "id": "ee4c2166",
   "metadata": {
    "execution": {
     "iopub.execute_input": "2022-09-06T10:11:03.753683Z",
     "iopub.status.busy": "2022-09-06T10:11:03.753060Z",
     "iopub.status.idle": "2022-09-06T10:11:03.806285Z",
     "shell.execute_reply": "2022-09-06T10:11:03.805734Z"
    },
    "papermill": {
     "duration": 0.084655,
     "end_time": "2022-09-06T10:11:03.806420",
     "exception": false,
     "start_time": "2022-09-06T10:11:03.721765",
     "status": "completed"
    },
    "tags": []
   },
   "outputs": [],
   "source": [
    "X_train = X_train/255.\n",
    "X_test = X_test/255."
   ]
  },
  {
   "cell_type": "markdown",
   "id": "ddcf4fab",
   "metadata": {
    "papermill": {
     "duration": 0.027913,
     "end_time": "2022-09-06T10:11:03.862264",
     "exception": false,
     "start_time": "2022-09-06T10:11:03.834351",
     "status": "completed"
    },
    "tags": []
   },
   "source": [
    "And setup the labels as 1 (when the digit is 3) and 0 (when the digit is 8)"
   ]
  },
  {
   "cell_type": "code",
   "execution_count": 12,
   "id": "7dc908f2",
   "metadata": {
    "execution": {
     "iopub.execute_input": "2022-09-06T10:11:03.919978Z",
     "iopub.status.busy": "2022-09-06T10:11:03.919378Z",
     "iopub.status.idle": "2022-09-06T10:11:03.933564Z",
     "shell.execute_reply": "2022-09-06T10:11:03.934229Z"
    },
    "papermill": {
     "duration": 0.045467,
     "end_time": "2022-09-06T10:11:03.934376",
     "exception": false,
     "start_time": "2022-09-06T10:11:03.888909",
     "status": "completed"
    },
    "tags": []
   },
   "outputs": [],
   "source": [
    "y_train = 1*(y_train==3)\n",
    "y_test = 1*(y_test==3)"
   ]
  },
  {
   "cell_type": "code",
   "execution_count": 13,
   "id": "01e4e969",
   "metadata": {
    "execution": {
     "iopub.execute_input": "2022-09-06T10:11:03.991987Z",
     "iopub.status.busy": "2022-09-06T10:11:03.991295Z",
     "iopub.status.idle": "2022-09-06T10:11:04.006889Z",
     "shell.execute_reply": "2022-09-06T10:11:04.006370Z"
    },
    "papermill": {
     "duration": 0.045489,
     "end_time": "2022-09-06T10:11:04.007015",
     "exception": false,
     "start_time": "2022-09-06T10:11:03.961526",
     "status": "completed"
    },
    "tags": []
   },
   "outputs": [
    {
     "data": {
      "text/plain": [
       "((11982, 28, 28), (1984, 28, 28))"
      ]
     },
     "execution_count": 13,
     "metadata": {},
     "output_type": "execute_result"
    }
   ],
   "source": [
    "X_train.shape, X_test.shape"
   ]
  },
  {
   "cell_type": "markdown",
   "id": "5ccf3f85",
   "metadata": {
    "papermill": {
     "duration": 0.031994,
     "end_time": "2022-09-06T10:11:04.067776",
     "exception": false,
     "start_time": "2022-09-06T10:11:04.035782",
     "status": "completed"
    },
    "tags": []
   },
   "source": [
    "We reshape the data to flatten the image pixels into a set of features or co-variates:"
   ]
  },
  {
   "cell_type": "code",
   "execution_count": 14,
   "id": "5286a4a3",
   "metadata": {
    "execution": {
     "iopub.execute_input": "2022-09-06T10:11:04.129941Z",
     "iopub.status.busy": "2022-09-06T10:11:04.129305Z",
     "iopub.status.idle": "2022-09-06T10:11:04.144585Z",
     "shell.execute_reply": "2022-09-06T10:11:04.144059Z"
    },
    "papermill": {
     "duration": 0.046732,
     "end_time": "2022-09-06T10:11:04.144704",
     "exception": false,
     "start_time": "2022-09-06T10:11:04.097972",
     "status": "completed"
    },
    "tags": []
   },
   "outputs": [
    {
     "data": {
      "text/plain": [
       "((11982, 784), (1984, 784))"
      ]
     },
     "execution_count": 14,
     "metadata": {},
     "output_type": "execute_result"
    }
   ],
   "source": [
    "X_train = X_train.reshape(X_train.shape[0], -1)\n",
    "X_test = X_test.reshape(X_test.shape[0], -1)\n",
    "X_train.shape, X_test.shape"
   ]
  },
  {
   "cell_type": "code",
   "execution_count": 15,
   "id": "73c5f88a",
   "metadata": {
    "execution": {
     "iopub.execute_input": "2022-09-06T10:11:04.214122Z",
     "iopub.status.busy": "2022-09-06T10:11:04.213486Z",
     "iopub.status.idle": "2022-09-06T10:11:04.236172Z",
     "shell.execute_reply": "2022-09-06T10:11:04.235338Z"
    },
    "papermill": {
     "duration": 0.055657,
     "end_time": "2022-09-06T10:11:04.236324",
     "exception": false,
     "start_time": "2022-09-06T10:11:04.180667",
     "status": "completed"
    },
    "tags": []
   },
   "outputs": [],
   "source": [
    "#Impoting functions from 'Kudzu'\n",
    "from kudzu.model import Model\n",
    "from kudzu.train import Learner\n",
    "from kudzu.optim import GD\n",
    "from kudzu.data import Data, Sampler,Dataloader\n",
    "\n",
    "from kudzu.callbacks import AccCallback\n",
    "from kudzu.callbacks import ClfCallback\n",
    "\n",
    "from kudzu.loss import MSE\n",
    "\n",
    "from kudzu.layer import Sigmoid,Relu\n",
    "from kudzu.layer import Affine"
   ]
  },
  {
   "cell_type": "markdown",
   "id": "bc01172a",
   "metadata": {
    "papermill": {
     "duration": 0.025133,
     "end_time": "2022-09-06T10:11:04.290255",
     "exception": false,
     "start_time": "2022-09-06T10:11:04.265122",
     "status": "completed"
    },
    "tags": []
   },
   "source": [
    "### Let us create a `Config` class, to store important parameters. \n",
    "This class essentially plays the role of a dictionary."
   ]
  },
  {
   "cell_type": "code",
   "execution_count": 16,
   "id": "978281aa",
   "metadata": {
    "execution": {
     "iopub.execute_input": "2022-09-06T10:11:04.351355Z",
     "iopub.status.busy": "2022-09-06T10:11:04.350673Z",
     "iopub.status.idle": "2022-09-06T10:11:04.367037Z",
     "shell.execute_reply": "2022-09-06T10:11:04.366503Z"
    },
    "papermill": {
     "duration": 0.04901,
     "end_time": "2022-09-06T10:11:04.367152",
     "exception": false,
     "start_time": "2022-09-06T10:11:04.318142",
     "status": "completed"
    },
    "tags": []
   },
   "outputs": [],
   "source": [
    "class Config:\n",
    "    pass\n",
    "config = Config()\n",
    "config.lr = 0.001\n",
    "config.num_epochs = 250\n",
    "config.bs = 50"
   ]
  },
  {
   "cell_type": "markdown",
   "id": "1385fa59",
   "metadata": {
    "papermill": {
     "duration": 0.026083,
     "end_time": "2022-09-06T10:11:04.419706",
     "exception": false,
     "start_time": "2022-09-06T10:11:04.393623",
     "status": "completed"
    },
    "tags": []
   },
   "source": [
    "### Running Models with the Training data\n",
    "Details about the network layers:\n",
    "- A first affine layer has 784 inputs and does 100 affine transforms. These are followed by a Relu\n",
    "- A second affine layer has 100 inputs from the 100 activations of the past layer, and does 100 affine transforms. These are followed by a Relu\n",
    "- A third affine layer has 100 activations and does 2 affine transformations to create an embedding for visualization. There is no non-linearity here.\n",
    "- A final \"logistic regression\" which has an affine transform from 2 inputs to 1 output, which is squeezed through a sigmoid.\n"
   ]
  },
  {
   "cell_type": "code",
   "execution_count": 17,
   "id": "2b9c66db",
   "metadata": {
    "execution": {
     "iopub.execute_input": "2022-09-06T10:11:04.474969Z",
     "iopub.status.busy": "2022-09-06T10:11:04.474286Z",
     "iopub.status.idle": "2022-09-06T10:11:04.486870Z",
     "shell.execute_reply": "2022-09-06T10:11:04.487350Z"
    },
    "papermill": {
     "duration": 0.042814,
     "end_time": "2022-09-06T10:11:04.487469",
     "exception": false,
     "start_time": "2022-09-06T10:11:04.444655",
     "status": "completed"
    },
    "tags": []
   },
   "outputs": [],
   "source": [
    "data = Data(X_train, y_train.reshape(-1,1))\n",
    "sampler = Sampler(data, config.bs, shuffle=True)\n",
    "\n",
    "dl = Dataloader(data, sampler)\n",
    "\n",
    "opt = GD(config.lr)\n",
    "loss = MSE()"
   ]
  },
  {
   "cell_type": "code",
   "execution_count": 18,
   "id": "b275e4c2",
   "metadata": {
    "execution": {
     "iopub.execute_input": "2022-09-06T10:11:04.546169Z",
     "iopub.status.busy": "2022-09-06T10:11:04.545521Z",
     "iopub.status.idle": "2022-09-06T10:11:04.558202Z",
     "shell.execute_reply": "2022-09-06T10:11:04.558701Z"
    },
    "papermill": {
     "duration": 0.045685,
     "end_time": "2022-09-06T10:11:04.558835",
     "exception": false,
     "start_time": "2022-09-06T10:11:04.513150",
     "status": "completed"
    },
    "tags": []
   },
   "outputs": [],
   "source": [
    "training_data_x = X_train\n",
    "testing_data_x = X_test\n",
    "training_data_y = y_train.reshape(-1,1)\n",
    "testing_data_y = y_test.reshape(-1,1)"
   ]
  },
  {
   "cell_type": "code",
   "execution_count": 19,
   "id": "76951160",
   "metadata": {
    "execution": {
     "iopub.execute_input": "2022-09-06T10:11:04.616162Z",
     "iopub.status.busy": "2022-09-06T10:11:04.615439Z",
     "iopub.status.idle": "2022-09-06T10:11:04.634150Z",
     "shell.execute_reply": "2022-09-06T10:11:04.633460Z"
    },
    "papermill": {
     "duration": 0.049017,
     "end_time": "2022-09-06T10:11:04.634280",
     "exception": false,
     "start_time": "2022-09-06T10:11:04.585263",
     "status": "completed"
    },
    "tags": []
   },
   "outputs": [
    {
     "name": "stdout",
     "output_type": "stream",
     "text": [
      "xavier\n",
      "xavier\n",
      "xavier\n",
      "xavier\n",
      "xavier\n"
     ]
    }
   ],
   "source": [
    "layers = [Affine(\"first\", 784, 100), Relu(\"first\"), Affine(\"second\", 100, 100), Relu(\"second\"), Affine(\"third\", 100, 2), Affine(\"last\", 2, 1), Sigmoid(\"last\")]\n",
    "model_nn = Model(layers)\n",
    "model_lr = Model([Affine(\"logits\", 784, 1), Sigmoid(\"sigmoid\")])"
   ]
  },
  {
   "cell_type": "code",
   "execution_count": 20,
   "id": "6eede77a",
   "metadata": {
    "execution": {
     "iopub.execute_input": "2022-09-06T10:11:04.699598Z",
     "iopub.status.busy": "2022-09-06T10:11:04.699064Z",
     "iopub.status.idle": "2022-09-06T10:11:04.712077Z",
     "shell.execute_reply": "2022-09-06T10:11:04.711486Z"
    },
    "papermill": {
     "duration": 0.044076,
     "end_time": "2022-09-06T10:11:04.712197",
     "exception": false,
     "start_time": "2022-09-06T10:11:04.668121",
     "status": "completed"
    },
    "tags": []
   },
   "outputs": [],
   "source": [
    "nn_learner = Learner(loss, model_nn, opt, config.num_epochs)\n",
    "acc_nn = ClfCallback(nn_learner, config.bs, training_data_x , testing_data_x, training_data_y, testing_data_y)\n",
    "nn_learner.set_callbacks([acc_nn])"
   ]
  },
  {
   "cell_type": "code",
   "execution_count": 21,
   "id": "877b6cc7",
   "metadata": {
    "execution": {
     "iopub.execute_input": "2022-09-06T10:11:04.769465Z",
     "iopub.status.busy": "2022-09-06T10:11:04.768793Z",
     "iopub.status.idle": "2022-09-06T10:11:04.783089Z",
     "shell.execute_reply": "2022-09-06T10:11:04.782582Z"
    },
    "papermill": {
     "duration": 0.045509,
     "end_time": "2022-09-06T10:11:04.783210",
     "exception": false,
     "start_time": "2022-09-06T10:11:04.737701",
     "status": "completed"
    },
    "tags": []
   },
   "outputs": [],
   "source": [
    "lr_learner = Learner(loss, model_lr, opt, config.num_epochs)\n",
    "acc_lr = ClfCallback(lr_learner, config.bs, training_data_x , testing_data_x, training_data_y, testing_data_y)\n",
    "lr_learner.set_callbacks([acc_lr])"
   ]
  },
  {
   "cell_type": "code",
   "execution_count": 22,
   "id": "d9b133c3",
   "metadata": {
    "execution": {
     "iopub.execute_input": "2022-09-06T10:11:04.843318Z",
     "iopub.status.busy": "2022-09-06T10:11:04.842757Z",
     "iopub.status.idle": "2022-09-06T10:12:27.937458Z",
     "shell.execute_reply": "2022-09-06T10:12:27.938430Z"
    },
    "papermill": {
     "duration": 83.126939,
     "end_time": "2022-09-06T10:12:27.938587",
     "exception": false,
     "start_time": "2022-09-06T10:11:04.811648",
     "status": "completed"
    },
    "tags": []
   },
   "outputs": [
    {
     "name": "stdout",
     "output_type": "stream",
     "text": [
      "Epoch 0, Loss 0.2075\n",
      "Training Accuracy: 0.8032, Testing Accuracy: 0.8216\n",
      "\n"
     ]
    },
    {
     "name": "stdout",
     "output_type": "stream",
     "text": [
      "Epoch 10, Loss 0.062\n",
      "Training Accuracy: 0.9350, Testing Accuracy: 0.9456\n",
      "\n"
     ]
    },
    {
     "name": "stdout",
     "output_type": "stream",
     "text": [
      "Epoch 20, Loss 0.0433\n",
      "Training Accuracy: 0.9528, Testing Accuracy: 0.9577\n",
      "\n"
     ]
    },
    {
     "name": "stdout",
     "output_type": "stream",
     "text": [
      "Epoch 30, Loss 0.0361\n",
      "Training Accuracy: 0.9607, Testing Accuracy: 0.9667\n",
      "\n"
     ]
    },
    {
     "name": "stdout",
     "output_type": "stream",
     "text": [
      "Epoch 40, Loss 0.0322\n",
      "Training Accuracy: 0.9639, Testing Accuracy: 0.9677\n",
      "\n"
     ]
    },
    {
     "name": "stdout",
     "output_type": "stream",
     "text": [
      "Epoch 50, Loss 0.0297\n",
      "Training Accuracy: 0.9662, Testing Accuracy: 0.9698\n",
      "\n"
     ]
    },
    {
     "name": "stdout",
     "output_type": "stream",
     "text": [
      "Epoch 60, Loss 0.0279\n",
      "Training Accuracy: 0.9685, Testing Accuracy: 0.9728\n",
      "\n"
     ]
    },
    {
     "name": "stdout",
     "output_type": "stream",
     "text": [
      "Epoch 70, Loss 0.0265\n",
      "Training Accuracy: 0.9704, Testing Accuracy: 0.9728\n",
      "\n"
     ]
    },
    {
     "name": "stdout",
     "output_type": "stream",
     "text": [
      "Epoch 80, Loss 0.0253\n",
      "Training Accuracy: 0.9715, Testing Accuracy: 0.9728\n",
      "\n"
     ]
    },
    {
     "name": "stdout",
     "output_type": "stream",
     "text": [
      "Epoch 90, Loss 0.0243\n",
      "Training Accuracy: 0.9730, Testing Accuracy: 0.9733\n",
      "\n"
     ]
    },
    {
     "name": "stdout",
     "output_type": "stream",
     "text": [
      "Epoch 100, Loss 0.0235\n",
      "Training Accuracy: 0.9738, Testing Accuracy: 0.9743\n",
      "\n"
     ]
    },
    {
     "name": "stdout",
     "output_type": "stream",
     "text": [
      "Epoch 110, Loss 0.0227\n",
      "Training Accuracy: 0.9744, Testing Accuracy: 0.9748\n",
      "\n"
     ]
    },
    {
     "name": "stdout",
     "output_type": "stream",
     "text": [
      "Epoch 120, Loss 0.022\n",
      "Training Accuracy: 0.9749, Testing Accuracy: 0.9753\n",
      "\n"
     ]
    },
    {
     "name": "stdout",
     "output_type": "stream",
     "text": [
      "Epoch 130, Loss 0.0214\n",
      "Training Accuracy: 0.9759, Testing Accuracy: 0.9758\n",
      "\n"
     ]
    },
    {
     "name": "stdout",
     "output_type": "stream",
     "text": [
      "Epoch 140, Loss 0.0208\n",
      "Training Accuracy: 0.9761, Testing Accuracy: 0.9763\n",
      "\n"
     ]
    },
    {
     "name": "stdout",
     "output_type": "stream",
     "text": [
      "Epoch 150, Loss 0.0202\n",
      "Training Accuracy: 0.9766, Testing Accuracy: 0.9768\n",
      "\n"
     ]
    },
    {
     "name": "stdout",
     "output_type": "stream",
     "text": [
      "Epoch 160, Loss 0.0197\n",
      "Training Accuracy: 0.9774, Testing Accuracy: 0.9768\n",
      "\n"
     ]
    },
    {
     "name": "stdout",
     "output_type": "stream",
     "text": [
      "Epoch 170, Loss 0.0192\n",
      "Training Accuracy: 0.9776, Testing Accuracy: 0.9778\n",
      "\n"
     ]
    },
    {
     "name": "stdout",
     "output_type": "stream",
     "text": [
      "Epoch 180, Loss 0.0187\n",
      "Training Accuracy: 0.9782, Testing Accuracy: 0.9778\n",
      "\n"
     ]
    },
    {
     "name": "stdout",
     "output_type": "stream",
     "text": [
      "Epoch 190, Loss 0.0182\n",
      "Training Accuracy: 0.9791, Testing Accuracy: 0.9778\n",
      "\n"
     ]
    },
    {
     "name": "stdout",
     "output_type": "stream",
     "text": [
      "Epoch 200, Loss 0.0177\n",
      "Training Accuracy: 0.9796, Testing Accuracy: 0.9773\n",
      "\n"
     ]
    },
    {
     "name": "stdout",
     "output_type": "stream",
     "text": [
      "Epoch 210, Loss 0.0173\n",
      "Training Accuracy: 0.9806, Testing Accuracy: 0.9773\n",
      "\n"
     ]
    },
    {
     "name": "stdout",
     "output_type": "stream",
     "text": [
      "Epoch 220, Loss 0.0169\n",
      "Training Accuracy: 0.9812, Testing Accuracy: 0.9768\n",
      "\n"
     ]
    },
    {
     "name": "stdout",
     "output_type": "stream",
     "text": [
      "Epoch 230, Loss 0.0165\n",
      "Training Accuracy: 0.9820, Testing Accuracy: 0.9768\n",
      "\n"
     ]
    },
    {
     "name": "stdout",
     "output_type": "stream",
     "text": [
      "Epoch 240, Loss 0.0161\n",
      "Training Accuracy: 0.9825, Testing Accuracy: 0.9778\n",
      "\n"
     ]
    },
    {
     "data": {
      "text/plain": [
       "0.0005755927427674246"
      ]
     },
     "execution_count": 22,
     "metadata": {},
     "output_type": "execute_result"
    }
   ],
   "source": [
    "nn_learner.train_loop(dl)"
   ]
  },
  {
   "cell_type": "code",
   "execution_count": 23,
   "id": "e0163366",
   "metadata": {
    "execution": {
     "iopub.execute_input": "2022-09-06T10:12:28.021712Z",
     "iopub.status.busy": "2022-09-06T10:12:28.021054Z",
     "iopub.status.idle": "2022-09-06T10:12:42.610262Z",
     "shell.execute_reply": "2022-09-06T10:12:42.611066Z"
    },
    "papermill": {
     "duration": 14.636868,
     "end_time": "2022-09-06T10:12:42.611207",
     "exception": false,
     "start_time": "2022-09-06T10:12:27.974339",
     "status": "completed"
    },
    "tags": []
   },
   "outputs": [
    {
     "name": "stdout",
     "output_type": "stream",
     "text": [
      "Epoch 0, Loss 0.2237\n",
      "Training Accuracy: 0.7419, Testing Accuracy: 0.7379\n",
      "\n"
     ]
    },
    {
     "name": "stdout",
     "output_type": "stream",
     "text": [
      "Epoch 10, Loss 0.1014\n",
      "Training Accuracy: 0.9099, Testing Accuracy: 0.9173\n",
      "\n"
     ]
    },
    {
     "name": "stdout",
     "output_type": "stream",
     "text": [
      "Epoch 20, Loss 0.0787\n",
      "Training Accuracy: 0.9252, Testing Accuracy: 0.9365\n",
      "\n"
     ]
    },
    {
     "name": "stdout",
     "output_type": "stream",
     "text": [
      "Epoch 30, Loss 0.068\n",
      "Training Accuracy: 0.9333, Testing Accuracy: 0.9476\n",
      "\n"
     ]
    },
    {
     "name": "stdout",
     "output_type": "stream",
     "text": [
      "Epoch 40, Loss 0.0615\n",
      "Training Accuracy: 0.9387, Testing Accuracy: 0.9531\n",
      "\n"
     ]
    },
    {
     "name": "stdout",
     "output_type": "stream",
     "text": [
      "Epoch 50, Loss 0.0571\n",
      "Training Accuracy: 0.9437, Testing Accuracy: 0.9572\n",
      "\n"
     ]
    },
    {
     "name": "stdout",
     "output_type": "stream",
     "text": [
      "Epoch 60, Loss 0.0538\n",
      "Training Accuracy: 0.9461, Testing Accuracy: 0.9587\n",
      "\n"
     ]
    },
    {
     "name": "stdout",
     "output_type": "stream",
     "text": [
      "Epoch 70, Loss 0.0512\n",
      "Training Accuracy: 0.9485, Testing Accuracy: 0.9622\n",
      "\n"
     ]
    },
    {
     "name": "stdout",
     "output_type": "stream",
     "text": [
      "Epoch 80, Loss 0.0492\n",
      "Training Accuracy: 0.9495, Testing Accuracy: 0.9627\n",
      "\n"
     ]
    },
    {
     "name": "stdout",
     "output_type": "stream",
     "text": [
      "Epoch 90, Loss 0.0475\n",
      "Training Accuracy: 0.9512, Testing Accuracy: 0.9637\n",
      "\n"
     ]
    },
    {
     "name": "stdout",
     "output_type": "stream",
     "text": [
      "Epoch 100, Loss 0.0461\n",
      "Training Accuracy: 0.9524, Testing Accuracy: 0.9647\n",
      "\n"
     ]
    },
    {
     "name": "stdout",
     "output_type": "stream",
     "text": [
      "Epoch 110, Loss 0.0449\n",
      "Training Accuracy: 0.9538, Testing Accuracy: 0.9662\n",
      "\n"
     ]
    },
    {
     "name": "stdout",
     "output_type": "stream",
     "text": [
      "Epoch 120, Loss 0.0438\n",
      "Training Accuracy: 0.9548, Testing Accuracy: 0.9672\n",
      "\n"
     ]
    },
    {
     "name": "stdout",
     "output_type": "stream",
     "text": [
      "Epoch 130, Loss 0.0429\n",
      "Training Accuracy: 0.9557, Testing Accuracy: 0.9672\n",
      "\n"
     ]
    },
    {
     "name": "stdout",
     "output_type": "stream",
     "text": [
      "Epoch 140, Loss 0.042\n",
      "Training Accuracy: 0.9564, Testing Accuracy: 0.9682\n",
      "\n"
     ]
    },
    {
     "name": "stdout",
     "output_type": "stream",
     "text": [
      "Epoch 150, Loss 0.0413\n",
      "Training Accuracy: 0.9571, Testing Accuracy: 0.9682\n",
      "\n"
     ]
    },
    {
     "name": "stdout",
     "output_type": "stream",
     "text": [
      "Epoch 160, Loss 0.0406\n",
      "Training Accuracy: 0.9577, Testing Accuracy: 0.9682\n",
      "\n"
     ]
    },
    {
     "name": "stdout",
     "output_type": "stream",
     "text": [
      "Epoch 170, Loss 0.04\n",
      "Training Accuracy: 0.9584, Testing Accuracy: 0.9688\n",
      "\n"
     ]
    },
    {
     "name": "stdout",
     "output_type": "stream",
     "text": [
      "Epoch 180, Loss 0.0395\n",
      "Training Accuracy: 0.9588, Testing Accuracy: 0.9688\n",
      "\n"
     ]
    },
    {
     "name": "stdout",
     "output_type": "stream",
     "text": [
      "Epoch 190, Loss 0.0389\n",
      "Training Accuracy: 0.9594, Testing Accuracy: 0.9688\n",
      "\n"
     ]
    },
    {
     "name": "stdout",
     "output_type": "stream",
     "text": [
      "Epoch 200, Loss 0.0385\n",
      "Training Accuracy: 0.9594, Testing Accuracy: 0.9688\n",
      "\n"
     ]
    },
    {
     "name": "stdout",
     "output_type": "stream",
     "text": [
      "Epoch 210, Loss 0.038\n",
      "Training Accuracy: 0.9599, Testing Accuracy: 0.9688\n",
      "\n"
     ]
    },
    {
     "name": "stdout",
     "output_type": "stream",
     "text": [
      "Epoch 220, Loss 0.0376\n",
      "Training Accuracy: 0.9605, Testing Accuracy: 0.9682\n",
      "\n"
     ]
    },
    {
     "name": "stdout",
     "output_type": "stream",
     "text": [
      "Epoch 230, Loss 0.0372\n",
      "Training Accuracy: 0.9606, Testing Accuracy: 0.9682\n",
      "\n"
     ]
    },
    {
     "name": "stdout",
     "output_type": "stream",
     "text": [
      "Epoch 240, Loss 0.0369\n",
      "Training Accuracy: 0.9607, Testing Accuracy: 0.9682\n",
      "\n"
     ]
    },
    {
     "data": {
      "text/plain": [
       "0.04355675314260794"
      ]
     },
     "execution_count": 23,
     "metadata": {},
     "output_type": "execute_result"
    }
   ],
   "source": [
    "lr_learner.train_loop(dl)"
   ]
  },
  {
   "cell_type": "code",
   "execution_count": 24,
   "id": "ca410940",
   "metadata": {
    "execution": {
     "iopub.execute_input": "2022-09-06T10:12:42.709644Z",
     "iopub.status.busy": "2022-09-06T10:12:42.708971Z",
     "iopub.status.idle": "2022-09-06T10:12:42.927113Z",
     "shell.execute_reply": "2022-09-06T10:12:42.927577Z"
    },
    "papermill": {
     "duration": 0.27426,
     "end_time": "2022-09-06T10:12:42.927729",
     "exception": false,
     "start_time": "2022-09-06T10:12:42.653469",
     "status": "completed"
    },
    "tags": []
   },
   "outputs": [
    {
     "data": {
      "text/plain": [
       "<matplotlib.legend.Legend at 0x7f7a82e673c8>"
      ]
     },
     "execution_count": 24,
     "metadata": {},
     "output_type": "execute_result"
    },
    {
     "data": {
      "image/png": "[encoded data removed]",
      "text/plain": [
       "<Figure size 1080x720 with 1 Axes>"
      ]
     },
     "metadata": {
      "needs_background": "light"
     },
     "output_type": "display_data"
    }
   ],
   "source": [
    "#comparing the results of NN and LR\n",
    "plt.figure(figsize=(15,10))\n",
    "\n",
    "# Neural Network plots\n",
    "plt.plot(acc_nn.accuracies, 'r-', label = \"Training Accuracies - NN\")\n",
    "plt.plot(acc_nn.test_accuracies, 'g-', label = \"Testing Accuracies - NN\")\n",
    "\n",
    "# Logistic Regression plots\n",
    "plt.plot(acc_lr.accuracies, 'k-', label = \"Training Accuracies - LR\")\n",
    "plt.plot(acc_lr.test_accuracies, 'b-', label = \"Testing Accuracies - LR\")\n",
    "plt.legend()"
   ]
  },
  {
   "cell_type": "markdown",
   "id": "80dfb35c",
   "metadata": {
    "papermill": {
     "duration": 0.043112,
     "end_time": "2022-09-06T10:12:43.013868",
     "exception": false,
     "start_time": "2022-09-06T10:12:42.970756",
     "status": "completed"
    },
    "tags": []
   },
   "source": [
    "#### Plotting the outputs of this layer of the NN.\n"
   ]
  },
  {
   "cell_type": "code",
   "execution_count": 25,
   "id": "45eb2ff5",
   "metadata": {
    "execution": {
     "iopub.execute_input": "2022-09-06T10:12:43.108769Z",
     "iopub.status.busy": "2022-09-06T10:12:43.107199Z",
     "iopub.status.idle": "2022-09-06T10:12:43.127838Z",
     "shell.execute_reply": "2022-09-06T10:12:43.127343Z"
    },
    "papermill": {
     "duration": 0.070509,
     "end_time": "2022-09-06T10:12:43.127983",
     "exception": false,
     "start_time": "2022-09-06T10:12:43.057474",
     "status": "completed"
    },
    "tags": []
   },
   "outputs": [],
   "source": [
    "new_model = Model(layers[:-2])\n",
    "testing_plot = new_model(testing_data_x)"
   ]
  },
  {
   "cell_type": "code",
   "execution_count": 26,
   "id": "4c0a5485",
   "metadata": {
    "execution": {
     "iopub.execute_input": "2022-09-06T10:12:43.251431Z",
     "iopub.status.busy": "2022-09-06T10:12:43.250749Z",
     "iopub.status.idle": "2022-09-06T10:12:43.470205Z",
     "shell.execute_reply": "2022-09-06T10:12:43.469793Z"
    },
    "papermill": {
     "duration": 0.297683,
     "end_time": "2022-09-06T10:12:43.470310",
     "exception": false,
     "start_time": "2022-09-06T10:12:43.172627",
     "status": "completed"
    },
    "tags": []
   },
   "outputs": [
    {
     "data": {
      "text/plain": [
       "Text(0.5, 1.0, 'Outputs')"
      ]
     },
     "execution_count": 26,
     "metadata": {},
     "output_type": "execute_result"
    },
    {
     "data": {
      "image/png": "[encoded data removed]",
      "text/plain": [
       "<Figure size 576x504 with 1 Axes>"
      ]
     },
     "metadata": {
      "needs_background": "light"
     },
     "output_type": "display_data"
    }
   ],
   "source": [
    "# Plotting the scatter plot of points and color coding by class\n",
    "plt.figure(figsize=(8,7))\n",
    "plt.scatter(testing_plot[:,0], testing_plot[:,1], alpha = 0.1, c = y_test.ravel());\n",
    "plt.title('Outputs')"
   ]
  },
  {
   "cell_type": "markdown",
   "id": "a74fcf8f",
   "metadata": {
    "papermill": {
     "duration": 0.042394,
     "end_time": "2022-09-06T10:12:43.554446",
     "exception": false,
     "start_time": "2022-09-06T10:12:43.512052",
     "status": "completed"
    },
    "tags": []
   },
   "source": [
    "Probability contours"
   ]
  },
  {
   "cell_type": "code",
   "execution_count": 27,
   "id": "d0afc8e3",
   "metadata": {
    "execution": {
     "iopub.execute_input": "2022-09-06T10:12:43.658137Z",
     "iopub.status.busy": "2022-09-06T10:12:43.657442Z",
     "iopub.status.idle": "2022-09-06T10:12:43.666419Z",
     "shell.execute_reply": "2022-09-06T10:12:43.666900Z"
    },
    "papermill": {
     "duration": 0.065191,
     "end_time": "2022-09-06T10:12:43.667052",
     "exception": false,
     "start_time": "2022-09-06T10:12:43.601861",
     "status": "completed"
    },
    "tags": []
   },
   "outputs": [],
   "source": [
    "model_prob = Model(layers[-2:]) "
   ]
  },
  {
   "cell_type": "code",
   "execution_count": 28,
   "id": "9b96e238",
   "metadata": {
    "execution": {
     "iopub.execute_input": "2022-09-06T10:12:43.789104Z",
     "iopub.status.busy": "2022-09-06T10:12:43.788511Z",
     "iopub.status.idle": "2022-09-06T10:12:43.803101Z",
     "shell.execute_reply": "2022-09-06T10:12:43.803537Z"
    },
    "papermill": {
     "duration": 0.063091,
     "end_time": "2022-09-06T10:12:43.803650",
     "exception": false,
     "start_time": "2022-09-06T10:12:43.740559",
     "status": "completed"
    },
    "tags": []
   },
   "outputs": [],
   "source": [
    "#creating the x and y ranges according to the above generated plot.\n",
    "x_range = np.linspace(-4, 1, 100) \n",
    "y_range = np.linspace(-6, 6, 100) \n",
    "x_grid, y_grid = np.meshgrid(x_range, y_range) # x_grid and y_grig are of size 100 X 100\n",
    "\n",
    "# converting x_grid and y_grid to continuous arrays\n",
    "x_gridflat = np.ravel(x_grid)\n",
    "y_gridflat = np.ravel(y_grid)\n",
    "\n",
    "# The last layer of the current model takes two columns as input. Hence transpose of np.vstack() is required.\n",
    "X = np.vstack((x_gridflat, y_gridflat)).T\n",
    "\n",
    "prob_contour = model_prob(X).reshape(100,100) "
   ]
  },
  {
   "cell_type": "code",
   "execution_count": 29,
   "id": "da72499a",
   "metadata": {
    "execution": {
     "iopub.execute_input": "2022-09-06T10:12:43.900098Z",
     "iopub.status.busy": "2022-09-06T10:12:43.899472Z",
     "iopub.status.idle": "2022-09-06T10:12:44.168484Z",
     "shell.execute_reply": "2022-09-06T10:12:44.167854Z"
    },
    "papermill": {
     "duration": 0.318948,
     "end_time": "2022-09-06T10:12:44.168626",
     "exception": false,
     "start_time": "2022-09-06T10:12:43.849678",
     "status": "completed"
    },
    "tags": []
   },
   "outputs": [
    {
     "data": {
      "image/png": "[encoded data removed]",
      "text/plain": [
       "<Figure size 720x648 with 1 Axes>"
      ]
     },
     "metadata": {
      "needs_background": "light"
     },
     "output_type": "display_data"
    }
   ],
   "source": [
    "plt.figure(figsize=(10,9))\n",
    "plt.scatter(testing_plot[:,0], testing_plot[:,1], alpha = 0.1, c = y_test.ravel())\n",
    "contours = plt.contour(x_grid,y_grid,prob_contour)\n",
    "plt.title('Probability Contours')\n",
    "plt.clabel(contours, inline = True );"
   ]
  },
  {
   "cell_type": "code",
   "execution_count": null,
   "id": "e81b4ac7",
   "metadata": {
    "papermill": {
     "duration": 0.047755,
     "end_time": "2022-09-06T10:12:44.266059",
     "exception": false,
     "start_time": "2022-09-06T10:12:44.218304",
     "status": "completed"
    },
    "tags": []
   },
   "outputs": [],
   "source": []
  }
 ],
 "metadata": {
  "kernelspec": {
   "display_name": "Python 3",
   "language": "python",
   "name": "python3"
  },
  "language_info": {
   "codemirror_mode": {
    "name": "ipython",
    "version": 3
   },
   "file_extension": ".py",
   "mimetype": "text/x-python",
   "name": "python",
   "nbconvert_exporter": "python",
   "pygments_lexer": "ipython3",
   "version": "3.6.15"
  },
  "papermill": {
   "default_parameters": {},
   "duration": 107.038373,
   "end_time": "2022-09-06T10:12:44.735921",
   "environment_variables": {},
   "exception": null,
   "input_path": "2020-08-11-part2.ipynb",
   "output_path": "2020-08-11-part2.ipynb",
   "parameters": {},
   "start_time": "2022-09-06T10:10:57.697548",
   "version": "2.3.3"
  }
 },
 "nbformat": 4,
 "nbformat_minor": 5
}