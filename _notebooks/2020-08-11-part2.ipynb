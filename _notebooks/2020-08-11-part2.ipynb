{
 "cells": [
  {
   "cell_type": "markdown",
   "id": "98380cd3",
   "metadata": {
    "papermill": {
     "duration": 0.037534,
     "end_time": "2021-08-24T20:07:22.021711",
     "exception": false,
     "start_time": "2021-08-24T20:07:21.984177",
     "status": "completed"
    },
    "tags": []
   },
   "source": [
    "# Distinguish Your Own Digits (DYOD)"
   ]
  },
  {
   "cell_type": "markdown",
   "id": "ef31240d",
   "metadata": {
    "papermill": {
     "duration": 0.031357,
     "end_time": "2021-08-24T20:07:22.085177",
     "exception": false,
     "start_time": "2021-08-24T20:07:22.053820",
     "status": "completed"
    },
    "tags": []
   },
   "source": [
    "You are going to write a classifier that distinguishes between the number 3 and number 8."
   ]
  },
  {
   "cell_type": "code",
   "execution_count": 1,
   "id": "b15c8646",
   "metadata": {
    "execution": {
     "iopub.execute_input": "2021-08-24T20:07:22.159479Z",
     "iopub.status.busy": "2021-08-24T20:07:22.158744Z",
     "iopub.status.idle": "2021-08-24T20:07:22.169108Z",
     "shell.execute_reply": "2021-08-24T20:07:22.169735Z"
    },
    "papermill": {
     "duration": 0.054285,
     "end_time": "2021-08-24T20:07:22.169901",
     "exception": false,
     "start_time": "2021-08-24T20:07:22.115616",
     "status": "completed"
    },
    "tags": []
   },
   "outputs": [],
   "source": [
    "%load_ext autoreload\n",
    "%autoreload 2"
   ]
  },
  {
   "cell_type": "code",
   "execution_count": 2,
   "id": "22ef38dc",
   "metadata": {
    "execution": {
     "iopub.execute_input": "2021-08-24T20:07:22.240968Z",
     "iopub.status.busy": "2021-08-24T20:07:22.240218Z",
     "iopub.status.idle": "2021-08-24T20:07:22.841752Z",
     "shell.execute_reply": "2021-08-24T20:07:22.840728Z"
    },
    "papermill": {
     "duration": 0.640705,
     "end_time": "2021-08-24T20:07:22.841895",
     "exception": false,
     "start_time": "2021-08-24T20:07:22.201190",
     "status": "completed"
    },
    "tags": []
   },
   "outputs": [],
   "source": [
    "%matplotlib inline\n",
    "import numpy as np\n",
    "import matplotlib.pyplot as plt\n",
    "import pandas as pd"
   ]
  },
  {
   "cell_type": "markdown",
   "id": "ba036198",
   "metadata": {
    "papermill": {
     "duration": 0.030946,
     "end_time": "2021-08-24T20:07:22.905458",
     "exception": false,
     "start_time": "2021-08-24T20:07:22.874512",
     "status": "completed"
    },
    "tags": []
   },
   "source": [
    "From the command line run `pip install mnist`. This is a library that will help you bring down the mnist dataset. If you run this from a notebook, you need to put  `!pip install mnist` in a cell by itself."
   ]
  },
  {
   "cell_type": "code",
   "execution_count": 3,
   "id": "bb6ad8a1",
   "metadata": {
    "execution": {
     "iopub.execute_input": "2021-08-24T20:07:22.973892Z",
     "iopub.status.busy": "2021-08-24T20:07:22.973311Z",
     "iopub.status.idle": "2021-08-24T20:07:24.937964Z",
     "shell.execute_reply": "2021-08-24T20:07:24.937371Z"
    },
    "papermill": {
     "duration": 2.000158,
     "end_time": "2021-08-24T20:07:24.938106",
     "exception": false,
     "start_time": "2021-08-24T20:07:22.937948",
     "status": "completed"
    },
    "tags": []
   },
   "outputs": [
    {
     "name": "stdout",
     "output_type": "stream",
     "text": [
      "Collecting mnist\r\n"
     ]
    },
    {
     "name": "stdout",
     "output_type": "stream",
     "text": [
      "  Downloading mnist-0.2.2-py2.py3-none-any.whl (3.5 kB)\r\n",
      "Requirement already satisfied: numpy in /opt/hostedtoolcache/Python/3.6.14/x64/lib/python3.6/site-packages (from mnist) (1.19.5)\r\n"
     ]
    },
    {
     "name": "stdout",
     "output_type": "stream",
     "text": [
      "Installing collected packages: mnist\r\n"
     ]
    },
    {
     "name": "stdout",
     "output_type": "stream",
     "text": [
      "Successfully installed mnist-0.2.2\r\n"
     ]
    }
   ],
   "source": [
    "!pip install mnist"
   ]
  },
  {
   "cell_type": "markdown",
   "id": "69df9c9a",
   "metadata": {
    "papermill": {
     "duration": 0.032459,
     "end_time": "2021-08-24T20:07:25.005359",
     "exception": false,
     "start_time": "2021-08-24T20:07:24.972900",
     "status": "completed"
    },
    "tags": []
   },
   "source": [
    "## Preparing the Data"
   ]
  },
  {
   "cell_type": "code",
   "execution_count": 4,
   "id": "7f69d806",
   "metadata": {
    "execution": {
     "iopub.execute_input": "2021-08-24T20:07:25.074062Z",
     "iopub.status.busy": "2021-08-24T20:07:25.073372Z",
     "iopub.status.idle": "2021-08-24T20:07:25.089496Z",
     "shell.execute_reply": "2021-08-24T20:07:25.088853Z"
    },
    "papermill": {
     "duration": 0.051976,
     "end_time": "2021-08-24T20:07:25.089665",
     "exception": false,
     "start_time": "2021-08-24T20:07:25.037689",
     "status": "completed"
    },
    "tags": []
   },
   "outputs": [],
   "source": [
    "import mnist"
   ]
  },
  {
   "cell_type": "code",
   "execution_count": 5,
   "id": "a411e44f",
   "metadata": {
    "execution": {
     "iopub.execute_input": "2021-08-24T20:07:25.160461Z",
     "iopub.status.busy": "2021-08-24T20:07:25.159777Z",
     "iopub.status.idle": "2021-08-24T20:12:18.786176Z",
     "shell.execute_reply": "2021-08-24T20:12:18.785595Z"
    },
    "papermill": {
     "duration": 293.664018,
     "end_time": "2021-08-24T20:12:18.786304",
     "exception": false,
     "start_time": "2021-08-24T20:07:25.122286",
     "status": "completed"
    },
    "tags": []
   },
   "outputs": [],
   "source": [
    "train_images = mnist.train_images()\n",
    "train_labels = mnist.train_labels()"
   ]
  },
  {
   "cell_type": "code",
   "execution_count": 6,
   "id": "dceab3a5",
   "metadata": {
    "execution": {
     "iopub.execute_input": "2021-08-24T20:12:18.848631Z",
     "iopub.status.busy": "2021-08-24T20:12:18.847973Z",
     "iopub.status.idle": "2021-08-24T20:12:18.862551Z",
     "shell.execute_reply": "2021-08-24T20:12:18.863239Z"
    },
    "papermill": {
     "duration": 0.048433,
     "end_time": "2021-08-24T20:12:18.863384",
     "exception": false,
     "start_time": "2021-08-24T20:12:18.814951",
     "status": "completed"
    },
    "tags": []
   },
   "outputs": [
    {
     "data": {
      "text/plain": [
       "((60000, 28, 28), (60000,))"
      ]
     },
     "execution_count": 6,
     "metadata": {},
     "output_type": "execute_result"
    }
   ],
   "source": [
    "train_images.shape, train_labels.shape"
   ]
  },
  {
   "cell_type": "code",
   "execution_count": 7,
   "id": "f50dc2bb",
   "metadata": {
    "execution": {
     "iopub.execute_input": "2021-08-24T20:12:18.932948Z",
     "iopub.status.busy": "2021-08-24T20:12:18.932300Z",
     "iopub.status.idle": "2021-08-24T20:13:09.419655Z",
     "shell.execute_reply": "2021-08-24T20:13:09.419046Z"
    },
    "papermill": {
     "duration": 50.525149,
     "end_time": "2021-08-24T20:13:09.419799",
     "exception": false,
     "start_time": "2021-08-24T20:12:18.894650",
     "status": "completed"
    },
    "tags": []
   },
   "outputs": [],
   "source": [
    "test_images = mnist.test_images()\n",
    "test_labels = mnist.test_labels()"
   ]
  },
  {
   "cell_type": "code",
   "execution_count": 8,
   "id": "fc38cf1b",
   "metadata": {
    "execution": {
     "iopub.execute_input": "2021-08-24T20:13:09.489965Z",
     "iopub.status.busy": "2021-08-24T20:13:09.489312Z",
     "iopub.status.idle": "2021-08-24T20:13:09.505657Z",
     "shell.execute_reply": "2021-08-24T20:13:09.504441Z"
    },
    "papermill": {
     "duration": 0.053075,
     "end_time": "2021-08-24T20:13:09.505798",
     "exception": false,
     "start_time": "2021-08-24T20:13:09.452723",
     "status": "completed"
    },
    "tags": []
   },
   "outputs": [
    {
     "data": {
      "text/plain": [
       "((10000, 28, 28), (10000,))"
      ]
     },
     "execution_count": 8,
     "metadata": {},
     "output_type": "execute_result"
    }
   ],
   "source": [
    "test_images.shape, test_labels.shape"
   ]
  },
  {
   "cell_type": "code",
   "execution_count": 9,
   "id": "f9ed8fe0",
   "metadata": {
    "execution": {
     "iopub.execute_input": "2021-08-24T20:13:09.578344Z",
     "iopub.status.busy": "2021-08-24T20:13:09.577686Z",
     "iopub.status.idle": "2021-08-24T20:13:09.790328Z",
     "shell.execute_reply": "2021-08-24T20:13:09.789632Z"
    },
    "papermill": {
     "duration": 0.251487,
     "end_time": "2021-08-24T20:13:09.790479",
     "exception": false,
     "start_time": "2021-08-24T20:13:09.538992",
     "status": "completed"
    },
    "tags": []
   },
   "outputs": [
    {
     "name": "stdout",
     "output_type": "stream",
     "text": [
      "2\n"
     ]
    },
    {
     "data": {
      "text/plain": [
       "<matplotlib.image.AxesImage at 0x7f482be0a940>"
      ]
     },
     "execution_count": 9,
     "metadata": {},
     "output_type": "execute_result"
    },
    {
     "data": {
      "image/png": "[encoded data removed]",
      "text/plain": [
       "<Figure size 432x288 with 1 Axes>"
      ]
     },
     "metadata": {
      "needs_background": "light"
     },
     "output_type": "display_data"
    }
   ],
   "source": [
    "image_index = 7776 # You may select anything up to 60,000\n",
    "print(train_labels[image_index]) \n",
    "plt.imshow(train_images[image_index], cmap='Greys')"
   ]
  },
  {
   "cell_type": "markdown",
   "id": "a8d2388d",
   "metadata": {
    "papermill": {
     "duration": 0.043793,
     "end_time": "2021-08-24T20:13:09.879616",
     "exception": false,
     "start_time": "2021-08-24T20:13:09.835823",
     "status": "completed"
    },
    "tags": []
   },
   "source": [
    "## Filter data to get 3 and 8 out"
   ]
  },
  {
   "cell_type": "code",
   "execution_count": 10,
   "id": "776f7fc7",
   "metadata": {
    "execution": {
     "iopub.execute_input": "2021-08-24T20:13:09.953609Z",
     "iopub.status.busy": "2021-08-24T20:13:09.952932Z",
     "iopub.status.idle": "2021-08-24T20:13:09.977668Z",
     "shell.execute_reply": "2021-08-24T20:13:09.977106Z"
    },
    "papermill": {
     "duration": 0.065917,
     "end_time": "2021-08-24T20:13:09.977808",
     "exception": false,
     "start_time": "2021-08-24T20:13:09.911891",
     "status": "completed"
    },
    "tags": []
   },
   "outputs": [],
   "source": [
    "train_filter = np.where((train_labels == 3 ) | (train_labels == 8))\n",
    "test_filter = np.where((test_labels == 3) | (test_labels == 8))\n",
    "X_train, y_train = train_images[train_filter], train_labels[train_filter]\n",
    "X_test, y_test = test_images[test_filter], test_labels[test_filter]"
   ]
  },
  {
   "cell_type": "markdown",
   "id": "948f0b7e",
   "metadata": {
    "papermill": {
     "duration": 0.034028,
     "end_time": "2021-08-24T20:13:10.047409",
     "exception": false,
     "start_time": "2021-08-24T20:13:10.013381",
     "status": "completed"
    },
    "tags": []
   },
   "source": [
    "We normalize the pizel values in the 0 to 1 range"
   ]
  },
  {
   "cell_type": "code",
   "execution_count": 11,
   "id": "ee4c2166",
   "metadata": {
    "execution": {
     "iopub.execute_input": "2021-08-24T20:13:10.118929Z",
     "iopub.status.busy": "2021-08-24T20:13:10.118299Z",
     "iopub.status.idle": "2021-08-24T20:13:10.179437Z",
     "shell.execute_reply": "2021-08-24T20:13:10.178857Z"
    },
    "papermill": {
     "duration": 0.099016,
     "end_time": "2021-08-24T20:13:10.179577",
     "exception": false,
     "start_time": "2021-08-24T20:13:10.080561",
     "status": "completed"
    },
    "tags": []
   },
   "outputs": [],
   "source": [
    "X_train = X_train/255.\n",
    "X_test = X_test/255."
   ]
  },
  {
   "cell_type": "markdown",
   "id": "ddcf4fab",
   "metadata": {
    "papermill": {
     "duration": 0.035761,
     "end_time": "2021-08-24T20:13:10.248685",
     "exception": false,
     "start_time": "2021-08-24T20:13:10.212924",
     "status": "completed"
    },
    "tags": []
   },
   "source": [
    "And setup the labels as 1 (when the digit is 3) and 0 (when the digit is 8)"
   ]
  },
  {
   "cell_type": "code",
   "execution_count": 12,
   "id": "7dc908f2",
   "metadata": {
    "execution": {
     "iopub.execute_input": "2021-08-24T20:13:10.320783Z",
     "iopub.status.busy": "2021-08-24T20:13:10.320143Z",
     "iopub.status.idle": "2021-08-24T20:13:10.332283Z",
     "shell.execute_reply": "2021-08-24T20:13:10.331601Z"
    },
    "papermill": {
     "duration": 0.048421,
     "end_time": "2021-08-24T20:13:10.332417",
     "exception": false,
     "start_time": "2021-08-24T20:13:10.283996",
     "status": "completed"
    },
    "tags": []
   },
   "outputs": [],
   "source": [
    "y_train = 1*(y_train==3)\n",
    "y_test = 1*(y_test==3)"
   ]
  },
  {
   "cell_type": "code",
   "execution_count": 13,
   "id": "01e4e969",
   "metadata": {
    "execution": {
     "iopub.execute_input": "2021-08-24T20:13:10.411967Z",
     "iopub.status.busy": "2021-08-24T20:13:10.411326Z",
     "iopub.status.idle": "2021-08-24T20:13:10.427754Z",
     "shell.execute_reply": "2021-08-24T20:13:10.427133Z"
    },
    "papermill": {
     "duration": 0.057886,
     "end_time": "2021-08-24T20:13:10.427892",
     "exception": false,
     "start_time": "2021-08-24T20:13:10.370006",
     "status": "completed"
    },
    "tags": []
   },
   "outputs": [
    {
     "data": {
      "text/plain": [
       "((11982, 28, 28), (1984, 28, 28))"
      ]
     },
     "execution_count": 13,
     "metadata": {},
     "output_type": "execute_result"
    }
   ],
   "source": [
    "X_train.shape, X_test.shape"
   ]
  },
  {
   "cell_type": "markdown",
   "id": "5ccf3f85",
   "metadata": {
    "papermill": {
     "duration": 0.033419,
     "end_time": "2021-08-24T20:13:10.496612",
     "exception": false,
     "start_time": "2021-08-24T20:13:10.463193",
     "status": "completed"
    },
    "tags": []
   },
   "source": [
    "We reshape the data to flatten the image pixels into a set of features or co-variates:"
   ]
  },
  {
   "cell_type": "code",
   "execution_count": 14,
   "id": "5286a4a3",
   "metadata": {
    "execution": {
     "iopub.execute_input": "2021-08-24T20:13:10.576233Z",
     "iopub.status.busy": "2021-08-24T20:13:10.567231Z",
     "iopub.status.idle": "2021-08-24T20:13:10.580028Z",
     "shell.execute_reply": "2021-08-24T20:13:10.579529Z"
    },
    "papermill": {
     "duration": 0.0517,
     "end_time": "2021-08-24T20:13:10.580143",
     "exception": false,
     "start_time": "2021-08-24T20:13:10.528443",
     "status": "completed"
    },
    "tags": []
   },
   "outputs": [
    {
     "data": {
      "text/plain": [
       "((11982, 784), (1984, 784))"
      ]
     },
     "execution_count": 14,
     "metadata": {},
     "output_type": "execute_result"
    }
   ],
   "source": [
    "X_train = X_train.reshape(X_train.shape[0], -1)\n",
    "X_test = X_test.reshape(X_test.shape[0], -1)\n",
    "X_train.shape, X_test.shape"
   ]
  },
  {
   "cell_type": "code",
   "execution_count": 15,
   "id": "73c5f88a",
   "metadata": {
    "execution": {
     "iopub.execute_input": "2021-08-24T20:13:10.648067Z",
     "iopub.status.busy": "2021-08-24T20:13:10.647375Z",
     "iopub.status.idle": "2021-08-24T20:13:10.667496Z",
     "shell.execute_reply": "2021-08-24T20:13:10.666962Z"
    },
    "papermill": {
     "duration": 0.05704,
     "end_time": "2021-08-24T20:13:10.667619",
     "exception": false,
     "start_time": "2021-08-24T20:13:10.610579",
     "status": "completed"
    },
    "tags": []
   },
   "outputs": [],
   "source": [
    "#Impoting functions from 'Kudzu'\n",
    "from kudzu.model import Model\n",
    "from kudzu.train import Learner\n",
    "from kudzu.optim import GD\n",
    "from kudzu.data import Data, Sampler,Dataloader\n",
    "\n",
    "from kudzu.callbacks import AccCallback\n",
    "from kudzu.callbacks import ClfCallback\n",
    "\n",
    "from kudzu.loss import MSE\n",
    "\n",
    "from kudzu.layer import Sigmoid,Relu\n",
    "from kudzu.layer import Affine"
   ]
  },
  {
   "cell_type": "markdown",
   "id": "bc01172a",
   "metadata": {
    "papermill": {
     "duration": 0.033517,
     "end_time": "2021-08-24T20:13:10.731529",
     "exception": false,
     "start_time": "2021-08-24T20:13:10.698012",
     "status": "completed"
    },
    "tags": []
   },
   "source": [
    "### Let us create a `Config` class, to store important parameters. \n",
    "This class essentially plays the role of a dictionary."
   ]
  },
  {
   "cell_type": "code",
   "execution_count": 16,
   "id": "978281aa",
   "metadata": {
    "execution": {
     "iopub.execute_input": "2021-08-24T20:13:10.817908Z",
     "iopub.status.busy": "2021-08-24T20:13:10.817257Z",
     "iopub.status.idle": "2021-08-24T20:13:10.831368Z",
     "shell.execute_reply": "2021-08-24T20:13:10.832098Z"
    },
    "papermill": {
     "duration": 0.060666,
     "end_time": "2021-08-24T20:13:10.832258",
     "exception": false,
     "start_time": "2021-08-24T20:13:10.771592",
     "status": "completed"
    },
    "tags": []
   },
   "outputs": [],
   "source": [
    "class Config:\n",
    "    pass\n",
    "config = Config()\n",
    "config.lr = 0.001\n",
    "config.num_epochs = 250\n",
    "config.bs = 50"
   ]
  },
  {
   "cell_type": "markdown",
   "id": "1385fa59",
   "metadata": {
    "papermill": {
     "duration": 0.034696,
     "end_time": "2021-08-24T20:13:10.906385",
     "exception": false,
     "start_time": "2021-08-24T20:13:10.871689",
     "status": "completed"
    },
    "tags": []
   },
   "source": [
    "### Running Models with the Training data\n",
    "Details about the network layers:\n",
    "- A first affine layer has 784 inputs and does 100 affine transforms. These are followed by a Relu\n",
    "- A second affine layer has 100 inputs from the 100 activations of the past layer, and does 100 affine transforms. These are followed by a Relu\n",
    "- A third affine layer has 100 activations and does 2 affine transformations to create an embedding for visualization. There is no non-linearity here.\n",
    "- A final \"logistic regression\" which has an affine transform from 2 inputs to 1 output, which is squeezed through a sigmoid.\n"
   ]
  },
  {
   "cell_type": "code",
   "execution_count": 17,
   "id": "2b9c66db",
   "metadata": {
    "execution": {
     "iopub.execute_input": "2021-08-24T20:13:10.983568Z",
     "iopub.status.busy": "2021-08-24T20:13:10.982883Z",
     "iopub.status.idle": "2021-08-24T20:13:10.997248Z",
     "shell.execute_reply": "2021-08-24T20:13:10.996627Z"
    },
    "papermill": {
     "duration": 0.056289,
     "end_time": "2021-08-24T20:13:10.997392",
     "exception": false,
     "start_time": "2021-08-24T20:13:10.941103",
     "status": "completed"
    },
    "tags": []
   },
   "outputs": [],
   "source": [
    "data = Data(X_train, y_train.reshape(-1,1))\n",
    "sampler = Sampler(data, config.bs, shuffle=True)\n",
    "\n",
    "dl = Dataloader(data, sampler)\n",
    "\n",
    "opt = GD(config.lr)\n",
    "loss = MSE()"
   ]
  },
  {
   "cell_type": "code",
   "execution_count": 18,
   "id": "b275e4c2",
   "metadata": {
    "execution": {
     "iopub.execute_input": "2021-08-24T20:13:11.081854Z",
     "iopub.status.busy": "2021-08-24T20:13:11.081190Z",
     "iopub.status.idle": "2021-08-24T20:13:11.093115Z",
     "shell.execute_reply": "2021-08-24T20:13:11.093684Z"
    },
    "papermill": {
     "duration": 0.053889,
     "end_time": "2021-08-24T20:13:11.093844",
     "exception": false,
     "start_time": "2021-08-24T20:13:11.039955",
     "status": "completed"
    },
    "tags": []
   },
   "outputs": [],
   "source": [
    "training_data_x = X_train\n",
    "testing_data_x = X_test\n",
    "training_data_y = y_train.reshape(-1,1)\n",
    "testing_data_y = y_test.reshape(-1,1)"
   ]
  },
  {
   "cell_type": "code",
   "execution_count": 19,
   "id": "76951160",
   "metadata": {
    "execution": {
     "iopub.execute_input": "2021-08-24T20:13:11.168508Z",
     "iopub.status.busy": "2021-08-24T20:13:11.167896Z",
     "iopub.status.idle": "2021-08-24T20:13:11.185398Z",
     "shell.execute_reply": "2021-08-24T20:13:11.184687Z"
    },
    "papermill": {
     "duration": 0.055957,
     "end_time": "2021-08-24T20:13:11.185529",
     "exception": false,
     "start_time": "2021-08-24T20:13:11.129572",
     "status": "completed"
    },
    "tags": []
   },
   "outputs": [
    {
     "name": "stdout",
     "output_type": "stream",
     "text": [
      "xavier\n",
      "xavier\n",
      "xavier\n",
      "xavier\n",
      "xavier\n"
     ]
    }
   ],
   "source": [
    "layers = [Affine(\"first\", 784, 100), Relu(\"first\"), Affine(\"second\", 100, 100), Relu(\"second\"), Affine(\"third\", 100, 2), Affine(\"last\", 2, 1), Sigmoid(\"last\")]\n",
    "model_nn = Model(layers)\n",
    "model_lr = Model([Affine(\"logits\", 784, 1), Sigmoid(\"sigmoid\")])"
   ]
  },
  {
   "cell_type": "code",
   "execution_count": 20,
   "id": "6eede77a",
   "metadata": {
    "execution": {
     "iopub.execute_input": "2021-08-24T20:13:11.270403Z",
     "iopub.status.busy": "2021-08-24T20:13:11.269747Z",
     "iopub.status.idle": "2021-08-24T20:13:11.281992Z",
     "shell.execute_reply": "2021-08-24T20:13:11.282599Z"
    },
    "papermill": {
     "duration": 0.056692,
     "end_time": "2021-08-24T20:13:11.282759",
     "exception": false,
     "start_time": "2021-08-24T20:13:11.226067",
     "status": "completed"
    },
    "tags": []
   },
   "outputs": [],
   "source": [
    "nn_learner = Learner(loss, model_nn, opt, config.num_epochs)\n",
    "acc_nn = ClfCallback(nn_learner, config.bs, training_data_x , testing_data_x, training_data_y, testing_data_y)\n",
    "nn_learner.set_callbacks([acc_nn])"
   ]
  },
  {
   "cell_type": "code",
   "execution_count": 21,
   "id": "877b6cc7",
   "metadata": {
    "execution": {
     "iopub.execute_input": "2021-08-24T20:13:11.358167Z",
     "iopub.status.busy": "2021-08-24T20:13:11.357358Z",
     "iopub.status.idle": "2021-08-24T20:13:11.372187Z",
     "shell.execute_reply": "2021-08-24T20:13:11.371599Z"
    },
    "papermill": {
     "duration": 0.054255,
     "end_time": "2021-08-24T20:13:11.372326",
     "exception": false,
     "start_time": "2021-08-24T20:13:11.318071",
     "status": "completed"
    },
    "tags": []
   },
   "outputs": [],
   "source": [
    "lr_learner = Learner(loss, model_lr, opt, config.num_epochs)\n",
    "acc_lr = ClfCallback(lr_learner, config.bs, training_data_x , testing_data_x, training_data_y, testing_data_y)\n",
    "lr_learner.set_callbacks([acc_lr])"
   ]
  },
  {
   "cell_type": "code",
   "execution_count": 22,
   "id": "d9b133c3",
   "metadata": {
    "execution": {
     "iopub.execute_input": "2021-08-24T20:13:11.450350Z",
     "iopub.status.busy": "2021-08-24T20:13:11.449705Z",
     "iopub.status.idle": "2021-08-24T20:15:23.051211Z",
     "shell.execute_reply": "2021-08-24T20:15:23.051994Z"
    },
    "papermill": {
     "duration": 131.642377,
     "end_time": "2021-08-24T20:15:23.052174",
     "exception": false,
     "start_time": "2021-08-24T20:13:11.409797",
     "status": "completed"
    },
    "tags": []
   },
   "outputs": [
    {
     "name": "stdout",
     "output_type": "stream",
     "text": [
      "Epoch 0, Loss 0.2333\n",
      "Training Accuracy: 0.7105, Testing Accuracy: 0.7087\n",
      "\n"
     ]
    },
    {
     "name": "stdout",
     "output_type": "stream",
     "text": [
      "Epoch 10, Loss 0.0752\n",
      "Training Accuracy: 0.9262, Testing Accuracy: 0.9400\n",
      "\n"
     ]
    },
    {
     "name": "stdout",
     "output_type": "stream",
     "text": [
      "Epoch 20, Loss 0.05\n",
      "Training Accuracy: 0.9453, Testing Accuracy: 0.9572\n",
      "\n"
     ]
    },
    {
     "name": "stdout",
     "output_type": "stream",
     "text": [
      "Epoch 30, Loss 0.0407\n",
      "Training Accuracy: 0.9538, Testing Accuracy: 0.9642\n",
      "\n"
     ]
    },
    {
     "name": "stdout",
     "output_type": "stream",
     "text": [
      "Epoch 40, Loss 0.0358\n",
      "Training Accuracy: 0.9599, Testing Accuracy: 0.9677\n",
      "\n"
     ]
    },
    {
     "name": "stdout",
     "output_type": "stream",
     "text": [
      "Epoch 50, Loss 0.0325\n",
      "Training Accuracy: 0.9646, Testing Accuracy: 0.9713\n",
      "\n"
     ]
    },
    {
     "name": "stdout",
     "output_type": "stream",
     "text": [
      "Epoch 60, Loss 0.0302\n",
      "Training Accuracy: 0.9661, Testing Accuracy: 0.9718\n",
      "\n"
     ]
    },
    {
     "name": "stdout",
     "output_type": "stream",
     "text": [
      "Epoch 70, Loss 0.0284\n",
      "Training Accuracy: 0.9682, Testing Accuracy: 0.9728\n",
      "\n"
     ]
    },
    {
     "name": "stdout",
     "output_type": "stream",
     "text": [
      "Epoch 80, Loss 0.0269\n",
      "Training Accuracy: 0.9697, Testing Accuracy: 0.9728\n",
      "\n"
     ]
    },
    {
     "name": "stdout",
     "output_type": "stream",
     "text": [
      "Epoch 90, Loss 0.0256\n",
      "Training Accuracy: 0.9711, Testing Accuracy: 0.9733\n",
      "\n"
     ]
    },
    {
     "name": "stdout",
     "output_type": "stream",
     "text": [
      "Epoch 100, Loss 0.0246\n",
      "Training Accuracy: 0.9728, Testing Accuracy: 0.9748\n",
      "\n"
     ]
    },
    {
     "name": "stdout",
     "output_type": "stream",
     "text": [
      "Epoch 110, Loss 0.0236\n",
      "Training Accuracy: 0.9745, Testing Accuracy: 0.9758\n",
      "\n"
     ]
    },
    {
     "name": "stdout",
     "output_type": "stream",
     "text": [
      "Epoch 120, Loss 0.0228\n",
      "Training Accuracy: 0.9754, Testing Accuracy: 0.9758\n",
      "\n"
     ]
    },
    {
     "name": "stdout",
     "output_type": "stream",
     "text": [
      "Epoch 130, Loss 0.022\n",
      "Training Accuracy: 0.9760, Testing Accuracy: 0.9763\n",
      "\n"
     ]
    },
    {
     "name": "stdout",
     "output_type": "stream",
     "text": [
      "Epoch 140, Loss 0.0213\n",
      "Training Accuracy: 0.9769, Testing Accuracy: 0.9768\n",
      "\n"
     ]
    },
    {
     "name": "stdout",
     "output_type": "stream",
     "text": [
      "Epoch 150, Loss 0.0206\n",
      "Training Accuracy: 0.9781, Testing Accuracy: 0.9773\n",
      "\n"
     ]
    },
    {
     "name": "stdout",
     "output_type": "stream",
     "text": [
      "Epoch 160, Loss 0.0201\n",
      "Training Accuracy: 0.9786, Testing Accuracy: 0.9783\n",
      "\n"
     ]
    },
    {
     "name": "stdout",
     "output_type": "stream",
     "text": [
      "Epoch 170, Loss 0.0195\n",
      "Training Accuracy: 0.9795, Testing Accuracy: 0.9778\n",
      "\n"
     ]
    },
    {
     "name": "stdout",
     "output_type": "stream",
     "text": [
      "Epoch 180, Loss 0.0189\n",
      "Training Accuracy: 0.9801, Testing Accuracy: 0.9783\n",
      "\n"
     ]
    },
    {
     "name": "stdout",
     "output_type": "stream",
     "text": [
      "Epoch 190, Loss 0.0184\n",
      "Training Accuracy: 0.9805, Testing Accuracy: 0.9778\n",
      "\n"
     ]
    },
    {
     "name": "stdout",
     "output_type": "stream",
     "text": [
      "Epoch 200, Loss 0.0179\n",
      "Training Accuracy: 0.9814, Testing Accuracy: 0.9778\n",
      "\n"
     ]
    },
    {
     "name": "stdout",
     "output_type": "stream",
     "text": [
      "Epoch 210, Loss 0.0175\n",
      "Training Accuracy: 0.9816, Testing Accuracy: 0.9783\n",
      "\n"
     ]
    },
    {
     "name": "stdout",
     "output_type": "stream",
     "text": [
      "Epoch 220, Loss 0.0171\n",
      "Training Accuracy: 0.9821, Testing Accuracy: 0.9788\n",
      "\n"
     ]
    },
    {
     "name": "stdout",
     "output_type": "stream",
     "text": [
      "Epoch 230, Loss 0.0166\n",
      "Training Accuracy: 0.9827, Testing Accuracy: 0.9788\n",
      "\n"
     ]
    },
    {
     "name": "stdout",
     "output_type": "stream",
     "text": [
      "Epoch 240, Loss 0.0162\n",
      "Training Accuracy: 0.9828, Testing Accuracy: 0.9798\n",
      "\n"
     ]
    },
    {
     "data": {
      "text/plain": [
       "0.022977071086949775"
      ]
     },
     "execution_count": 22,
     "metadata": {},
     "output_type": "execute_result"
    }
   ],
   "source": [
    "nn_learner.train_loop(dl)"
   ]
  },
  {
   "cell_type": "code",
   "execution_count": 23,
   "id": "e0163366",
   "metadata": {
    "execution": {
     "iopub.execute_input": "2021-08-24T20:15:23.144999Z",
     "iopub.status.busy": "2021-08-24T20:15:23.144376Z",
     "iopub.status.idle": "2021-08-24T20:15:41.104752Z",
     "shell.execute_reply": "2021-08-24T20:15:41.105629Z"
    },
    "papermill": {
     "duration": 18.012487,
     "end_time": "2021-08-24T20:15:41.105797",
     "exception": false,
     "start_time": "2021-08-24T20:15:23.093310",
     "status": "completed"
    },
    "tags": []
   },
   "outputs": [
    {
     "name": "stdout",
     "output_type": "stream",
     "text": [
      "Epoch 0, Loss 0.233\n",
      "Training Accuracy: 0.6935, Testing Accuracy: 0.7061\n",
      "\n"
     ]
    },
    {
     "name": "stdout",
     "output_type": "stream",
     "text": [
      "Epoch 10, Loss 0.1009\n",
      "Training Accuracy: 0.9140, Testing Accuracy: 0.9304\n",
      "\n"
     ]
    },
    {
     "name": "stdout",
     "output_type": "stream",
     "text": [
      "Epoch 20, Loss 0.0776\n",
      "Training Accuracy: 0.9315, Testing Accuracy: 0.9430\n",
      "\n"
     ]
    },
    {
     "name": "stdout",
     "output_type": "stream",
     "text": [
      "Epoch 30, Loss 0.0671\n",
      "Training Accuracy: 0.9400, Testing Accuracy: 0.9486\n",
      "\n"
     ]
    },
    {
     "name": "stdout",
     "output_type": "stream",
     "text": [
      "Epoch 40, Loss 0.0608\n",
      "Training Accuracy: 0.9437, Testing Accuracy: 0.9551\n",
      "\n"
     ]
    },
    {
     "name": "stdout",
     "output_type": "stream",
     "text": [
      "Epoch 50, Loss 0.0564\n",
      "Training Accuracy: 0.9467, Testing Accuracy: 0.9556\n",
      "\n"
     ]
    },
    {
     "name": "stdout",
     "output_type": "stream",
     "text": [
      "Epoch 60, Loss 0.0533\n",
      "Training Accuracy: 0.9481, Testing Accuracy: 0.9567\n",
      "\n"
     ]
    },
    {
     "name": "stdout",
     "output_type": "stream",
     "text": [
      "Epoch 70, Loss 0.0508\n",
      "Training Accuracy: 0.9498, Testing Accuracy: 0.9582\n",
      "\n"
     ]
    },
    {
     "name": "stdout",
     "output_type": "stream",
     "text": [
      "Epoch 80, Loss 0.0488\n",
      "Training Accuracy: 0.9519, Testing Accuracy: 0.9607\n",
      "\n"
     ]
    },
    {
     "name": "stdout",
     "output_type": "stream",
     "text": [
      "Epoch 90, Loss 0.0471\n",
      "Training Accuracy: 0.9533, Testing Accuracy: 0.9622\n",
      "\n"
     ]
    },
    {
     "name": "stdout",
     "output_type": "stream",
     "text": [
      "Epoch 100, Loss 0.0457\n",
      "Training Accuracy: 0.9545, Testing Accuracy: 0.9627\n",
      "\n"
     ]
    },
    {
     "name": "stdout",
     "output_type": "stream",
     "text": [
      "Epoch 110, Loss 0.0445\n",
      "Training Accuracy: 0.9556, Testing Accuracy: 0.9642\n",
      "\n"
     ]
    },
    {
     "name": "stdout",
     "output_type": "stream",
     "text": [
      "Epoch 120, Loss 0.0435\n",
      "Training Accuracy: 0.9564, Testing Accuracy: 0.9652\n",
      "\n"
     ]
    },
    {
     "name": "stdout",
     "output_type": "stream",
     "text": [
      "Epoch 130, Loss 0.0426\n",
      "Training Accuracy: 0.9566, Testing Accuracy: 0.9652\n",
      "\n"
     ]
    },
    {
     "name": "stdout",
     "output_type": "stream",
     "text": [
      "Epoch 140, Loss 0.0418\n",
      "Training Accuracy: 0.9574, Testing Accuracy: 0.9657\n",
      "\n"
     ]
    },
    {
     "name": "stdout",
     "output_type": "stream",
     "text": [
      "Epoch 150, Loss 0.041\n",
      "Training Accuracy: 0.9578, Testing Accuracy: 0.9657\n",
      "\n"
     ]
    },
    {
     "name": "stdout",
     "output_type": "stream",
     "text": [
      "Epoch 160, Loss 0.0404\n",
      "Training Accuracy: 0.9580, Testing Accuracy: 0.9662\n",
      "\n"
     ]
    },
    {
     "name": "stdout",
     "output_type": "stream",
     "text": [
      "Epoch 170, Loss 0.0398\n",
      "Training Accuracy: 0.9586, Testing Accuracy: 0.9667\n",
      "\n"
     ]
    },
    {
     "name": "stdout",
     "output_type": "stream",
     "text": [
      "Epoch 180, Loss 0.0392\n",
      "Training Accuracy: 0.9592, Testing Accuracy: 0.9667\n",
      "\n"
     ]
    },
    {
     "name": "stdout",
     "output_type": "stream",
     "text": [
      "Epoch 190, Loss 0.0387\n",
      "Training Accuracy: 0.9597, Testing Accuracy: 0.9667\n",
      "\n"
     ]
    },
    {
     "name": "stdout",
     "output_type": "stream",
     "text": [
      "Epoch 200, Loss 0.0382\n",
      "Training Accuracy: 0.9599, Testing Accuracy: 0.9662\n",
      "\n"
     ]
    },
    {
     "name": "stdout",
     "output_type": "stream",
     "text": [
      "Epoch 210, Loss 0.0378\n",
      "Training Accuracy: 0.9599, Testing Accuracy: 0.9667\n",
      "\n"
     ]
    },
    {
     "name": "stdout",
     "output_type": "stream",
     "text": [
      "Epoch 220, Loss 0.0374\n",
      "Training Accuracy: 0.9604, Testing Accuracy: 0.9667\n",
      "\n"
     ]
    },
    {
     "name": "stdout",
     "output_type": "stream",
     "text": [
      "Epoch 230, Loss 0.037\n",
      "Training Accuracy: 0.9608, Testing Accuracy: 0.9667\n",
      "\n"
     ]
    },
    {
     "name": "stdout",
     "output_type": "stream",
     "text": [
      "Epoch 240, Loss 0.0367\n",
      "Training Accuracy: 0.9608, Testing Accuracy: 0.9672\n",
      "\n"
     ]
    },
    {
     "data": {
      "text/plain": [
       "0.05937621921175705"
      ]
     },
     "execution_count": 23,
     "metadata": {},
     "output_type": "execute_result"
    }
   ],
   "source": [
    "lr_learner.train_loop(dl)"
   ]
  },
  {
   "cell_type": "code",
   "execution_count": 24,
   "id": "ca410940",
   "metadata": {
    "execution": {
     "iopub.execute_input": "2021-08-24T20:15:41.259370Z",
     "iopub.status.busy": "2021-08-24T20:15:41.258666Z",
     "iopub.status.idle": "2021-08-24T20:15:41.541270Z",
     "shell.execute_reply": "2021-08-24T20:15:41.541779Z"
    },
    "papermill": {
     "duration": 0.369858,
     "end_time": "2021-08-24T20:15:41.541951",
     "exception": false,
     "start_time": "2021-08-24T20:15:41.172093",
     "status": "completed"
    },
    "tags": []
   },
   "outputs": [
    {
     "data": {
      "text/plain": [
       "<matplotlib.legend.Legend at 0x7f482b9de390>"
      ]
     },
     "execution_count": 24,
     "metadata": {},
     "output_type": "execute_result"
    },
    {
     "data": {
      "image/png": "[encoded data removed]",
      "text/plain": [
       "<Figure size 1080x720 with 1 Axes>"
      ]
     },
     "metadata": {
      "needs_background": "light"
     },
     "output_type": "display_data"
    }
   ],
   "source": [
    "#comparing the results of NN and LR\n",
    "plt.figure(figsize=(15,10))\n",
    "\n",
    "# Neural Network plots\n",
    "plt.plot(acc_nn.accuracies, 'r-', label = \"Training Accuracies - NN\")\n",
    "plt.plot(acc_nn.test_accuracies, 'g-', label = \"Testing Accuracies - NN\")\n",
    "\n",
    "# Logistic Regression plots\n",
    "plt.plot(acc_lr.accuracies, 'k-', label = \"Training Accuracies - LR\")\n",
    "plt.plot(acc_lr.test_accuracies, 'b-', label = \"Testing Accuracies - LR\")\n",
    "plt.legend()"
   ]
  },
  {
   "cell_type": "markdown",
   "id": "80dfb35c",
   "metadata": {
    "papermill": {
     "duration": 0.054119,
     "end_time": "2021-08-24T20:15:41.650700",
     "exception": false,
     "start_time": "2021-08-24T20:15:41.596581",
     "status": "completed"
    },
    "tags": []
   },
   "source": [
    "#### Plotting the outputs of this layer of the NN.\n"
   ]
  },
  {
   "cell_type": "code",
   "execution_count": 25,
   "id": "45eb2ff5",
   "metadata": {
    "execution": {
     "iopub.execute_input": "2021-08-24T20:15:41.762227Z",
     "iopub.status.busy": "2021-08-24T20:15:41.759945Z",
     "iopub.status.idle": "2021-08-24T20:15:41.786747Z",
     "shell.execute_reply": "2021-08-24T20:15:41.787326Z"
    },
    "papermill": {
     "duration": 0.082844,
     "end_time": "2021-08-24T20:15:41.787489",
     "exception": false,
     "start_time": "2021-08-24T20:15:41.704645",
     "status": "completed"
    },
    "tags": []
   },
   "outputs": [],
   "source": [
    "new_model = Model(layers[:-2])\n",
    "testing_plot = new_model(testing_data_x)"
   ]
  },
  {
   "cell_type": "code",
   "execution_count": 26,
   "id": "4c0a5485",
   "metadata": {
    "execution": {
     "iopub.execute_input": "2021-08-24T20:15:41.904092Z",
     "iopub.status.busy": "2021-08-24T20:15:41.903435Z",
     "iopub.status.idle": "2021-08-24T20:15:42.148107Z",
     "shell.execute_reply": "2021-08-24T20:15:42.148579Z"
    },
    "papermill": {
     "duration": 0.305391,
     "end_time": "2021-08-24T20:15:42.148722",
     "exception": false,
     "start_time": "2021-08-24T20:15:41.843331",
     "status": "completed"
    },
    "tags": []
   },
   "outputs": [
    {
     "data": {
      "text/plain": [
       "Text(0.5, 1.0, 'Outputs')"
      ]
     },
     "execution_count": 26,
     "metadata": {},
     "output_type": "execute_result"
    },
    {
     "data": {
      "image/png": "[encoded data removed]",
      "text/plain": [
       "<Figure size 576x504 with 1 Axes>"
      ]
     },
     "metadata": {
      "needs_background": "light"
     },
     "output_type": "display_data"
    }
   ],
   "source": [
    "# Plotting the scatter plot of points and color coding by class\n",
    "plt.figure(figsize=(8,7))\n",
    "plt.scatter(testing_plot[:,0], testing_plot[:,1], alpha = 0.1, c = y_test.ravel());\n",
    "plt.title('Outputs')"
   ]
  },
  {
   "cell_type": "markdown",
   "id": "a74fcf8f",
   "metadata": {
    "papermill": {
     "duration": 0.050855,
     "end_time": "2021-08-24T20:15:42.252185",
     "exception": false,
     "start_time": "2021-08-24T20:15:42.201330",
     "status": "completed"
    },
    "tags": []
   },
   "source": [
    "Probability contours"
   ]
  },
  {
   "cell_type": "code",
   "execution_count": 27,
   "id": "d0afc8e3",
   "metadata": {
    "execution": {
     "iopub.execute_input": "2021-08-24T20:15:42.386514Z",
     "iopub.status.busy": "2021-08-24T20:15:42.385811Z",
     "iopub.status.idle": "2021-08-24T20:15:42.397382Z",
     "shell.execute_reply": "2021-08-24T20:15:42.396918Z"
    },
    "papermill": {
     "duration": 0.069907,
     "end_time": "2021-08-24T20:15:42.397499",
     "exception": false,
     "start_time": "2021-08-24T20:15:42.327592",
     "status": "completed"
    },
    "tags": []
   },
   "outputs": [],
   "source": [
    "model_prob = Model(layers[-2:]) "
   ]
  },
  {
   "cell_type": "code",
   "execution_count": 28,
   "id": "9b96e238",
   "metadata": {
    "execution": {
     "iopub.execute_input": "2021-08-24T20:15:42.507797Z",
     "iopub.status.busy": "2021-08-24T20:15:42.505594Z",
     "iopub.status.idle": "2021-08-24T20:15:42.521250Z",
     "shell.execute_reply": "2021-08-24T20:15:42.521761Z"
    },
    "papermill": {
     "duration": 0.072546,
     "end_time": "2021-08-24T20:15:42.521910",
     "exception": false,
     "start_time": "2021-08-24T20:15:42.449364",
     "status": "completed"
    },
    "tags": []
   },
   "outputs": [],
   "source": [
    "#creating the x and y ranges according to the above generated plot.\n",
    "x_range = np.linspace(-4, 1, 100) \n",
    "y_range = np.linspace(-6, 6, 100) \n",
    "x_grid, y_grid = np.meshgrid(x_range, y_range) # x_grid and y_grig are of size 100 X 100\n",
    "\n",
    "# converting x_grid and y_grid to continuous arrays\n",
    "x_gridflat = np.ravel(x_grid)\n",
    "y_gridflat = np.ravel(y_grid)\n",
    "\n",
    "# The last layer of the current model takes two columns as input. Hence transpose of np.vstack() is required.\n",
    "X = np.vstack((x_gridflat, y_gridflat)).T\n",
    "\n",
    "prob_contour = model_prob(X).reshape(100,100) "
   ]
  },
  {
   "cell_type": "code",
   "execution_count": 29,
   "id": "da72499a",
   "metadata": {
    "execution": {
     "iopub.execute_input": "2021-08-24T20:15:42.642022Z",
     "iopub.status.busy": "2021-08-24T20:15:42.640158Z",
     "iopub.status.idle": "2021-08-24T20:15:42.929892Z",
     "shell.execute_reply": "2021-08-24T20:15:42.929386Z"
    },
    "papermill": {
     "duration": 0.348824,
     "end_time": "2021-08-24T20:15:42.930015",
     "exception": false,
     "start_time": "2021-08-24T20:15:42.581191",
     "status": "completed"
    },
    "tags": []
   },
   "outputs": [
    {
     "data": {
      "image/png": "[encoded data removed]",
      "text/plain": [
       "<Figure size 720x648 with 1 Axes>"
      ]
     },
     "metadata": {
      "needs_background": "light"
     },
     "output_type": "display_data"
    }
   ],
   "source": [
    "plt.figure(figsize=(10,9))\n",
    "plt.scatter(testing_plot[:,0], testing_plot[:,1], alpha = 0.1, c = y_test.ravel())\n",
    "contours = plt.contour(x_grid,y_grid,prob_contour)\n",
    "plt.title('Probability Contours')\n",
    "plt.clabel(contours, inline = True );"
   ]
  },
  {
   "cell_type": "code",
   "execution_count": null,
   "id": "e81b4ac7",
   "metadata": {
    "papermill": {
     "duration": 0.054197,
     "end_time": "2021-08-24T20:15:43.038012",
     "exception": false,
     "start_time": "2021-08-24T20:15:42.983815",
     "status": "completed"
    },
    "tags": []
   },
   "outputs": [],
   "source": []
  }
 ],
 "metadata": {
  "kernelspec": {
   "display_name": "Python 3",
   "language": "python",
   "name": "python3"
  },
  "language_info": {
   "codemirror_mode": {
    "name": "ipython",
    "version": 3
   },
   "file_extension": ".py",
   "mimetype": "text/x-python",
   "name": "python",
   "nbconvert_exporter": "python",
   "pygments_lexer": "ipython3",
   "version": "3.6.14"
  },
  "papermill": {
   "default_parameters": {},
   "duration": 502.575976,
   "end_time": "2021-08-24T20:15:43.399754",
   "environment_variables": {},
   "exception": null,
   "input_path": "2020-08-11-part2.ipynb",
   "output_path": "2020-08-11-part2.ipynb",
   "parameters": {},
   "start_time": "2021-08-24T20:07:20.823778",
   "version": "2.3.3"
  }
 },
 "nbformat": 4,
 "nbformat_minor": 5
}