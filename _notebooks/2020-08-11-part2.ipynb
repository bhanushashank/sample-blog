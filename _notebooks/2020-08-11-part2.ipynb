{
 "cells": [
  {
   "cell_type": "markdown",
   "id": "98380cd3",
   "metadata": {
    "papermill": {
     "duration": 0.037998,
     "end_time": "2022-06-09T00:40:23.268535",
     "exception": false,
     "start_time": "2022-06-09T00:40:23.230537",
     "status": "completed"
    },
    "tags": []
   },
   "source": [
    "# Distinguish Your Own Digits (DYOD)"
   ]
  },
  {
   "cell_type": "markdown",
   "id": "ef31240d",
   "metadata": {
    "papermill": {
     "duration": 0.031842,
     "end_time": "2022-06-09T00:40:23.333564",
     "exception": false,
     "start_time": "2022-06-09T00:40:23.301722",
     "status": "completed"
    },
    "tags": []
   },
   "source": [
    "You are going to write a classifier that distinguishes between the number 3 and number 8."
   ]
  },
  {
   "cell_type": "code",
   "execution_count": 1,
   "id": "b15c8646",
   "metadata": {
    "execution": {
     "iopub.execute_input": "2022-06-09T00:40:23.409003Z",
     "iopub.status.busy": "2022-06-09T00:40:23.408236Z",
     "iopub.status.idle": "2022-06-09T00:40:23.421776Z",
     "shell.execute_reply": "2022-06-09T00:40:23.420482Z"
    },
    "papermill": {
     "duration": 0.057116,
     "end_time": "2022-06-09T00:40:23.421959",
     "exception": false,
     "start_time": "2022-06-09T00:40:23.364843",
     "status": "completed"
    },
    "tags": []
   },
   "outputs": [],
   "source": [
    "%load_ext autoreload\n",
    "%autoreload 2"
   ]
  },
  {
   "cell_type": "code",
   "execution_count": 2,
   "id": "22ef38dc",
   "metadata": {
    "execution": {
     "iopub.execute_input": "2022-06-09T00:40:23.495173Z",
     "iopub.status.busy": "2022-06-09T00:40:23.494429Z",
     "iopub.status.idle": "2022-06-09T00:40:24.193073Z",
     "shell.execute_reply": "2022-06-09T00:40:24.192414Z"
    },
    "papermill": {
     "duration": 0.739994,
     "end_time": "2022-06-09T00:40:24.193227",
     "exception": false,
     "start_time": "2022-06-09T00:40:23.453233",
     "status": "completed"
    },
    "tags": []
   },
   "outputs": [],
   "source": [
    "%matplotlib inline\n",
    "import numpy as np\n",
    "import matplotlib.pyplot as plt\n",
    "import pandas as pd"
   ]
  },
  {
   "cell_type": "markdown",
   "id": "ba036198",
   "metadata": {
    "papermill": {
     "duration": 0.031066,
     "end_time": "2022-06-09T00:40:24.262897",
     "exception": false,
     "start_time": "2022-06-09T00:40:24.231831",
     "status": "completed"
    },
    "tags": []
   },
   "source": [
    "From the command line run `pip install mnist`. This is a library that will help you bring down the mnist dataset. If you run this from a notebook, you need to put  `!pip install mnist` in a cell by itself."
   ]
  },
  {
   "cell_type": "code",
   "execution_count": 3,
   "id": "bb6ad8a1",
   "metadata": {
    "execution": {
     "iopub.execute_input": "2022-06-09T00:40:24.339031Z",
     "iopub.status.busy": "2022-06-09T00:40:24.336317Z",
     "iopub.status.idle": "2022-06-09T00:40:27.298927Z",
     "shell.execute_reply": "2022-06-09T00:40:27.298274Z"
    },
    "papermill": {
     "duration": 3.005107,
     "end_time": "2022-06-09T00:40:27.299077",
     "exception": false,
     "start_time": "2022-06-09T00:40:24.293970",
     "status": "completed"
    },
    "tags": []
   },
   "outputs": [
    {
     "name": "stdout",
     "output_type": "stream",
     "text": [
      "Collecting mnist\r\n"
     ]
    },
    {
     "name": "stdout",
     "output_type": "stream",
     "text": [
      "  Downloading mnist-0.2.2-py2.py3-none-any.whl (3.5 kB)\r\n",
      "Requirement already satisfied: numpy in /opt/hostedtoolcache/Python/3.6.15/x64/lib/python3.6/site-packages (from mnist) (1.19.5)\r\n"
     ]
    },
    {
     "name": "stdout",
     "output_type": "stream",
     "text": [
      "Installing collected packages: mnist\r\n"
     ]
    },
    {
     "name": "stdout",
     "output_type": "stream",
     "text": [
      "Successfully installed mnist-0.2.2\r\n"
     ]
    }
   ],
   "source": [
    "!pip install mnist"
   ]
  },
  {
   "cell_type": "markdown",
   "id": "69df9c9a",
   "metadata": {
    "papermill": {
     "duration": 0.037206,
     "end_time": "2022-06-09T00:40:27.369136",
     "exception": false,
     "start_time": "2022-06-09T00:40:27.331930",
     "status": "completed"
    },
    "tags": []
   },
   "source": [
    "## Preparing the Data"
   ]
  },
  {
   "cell_type": "code",
   "execution_count": 4,
   "id": "7f69d806",
   "metadata": {
    "execution": {
     "iopub.execute_input": "2022-06-09T00:40:27.463655Z",
     "iopub.status.busy": "2022-06-09T00:40:27.456318Z",
     "iopub.status.idle": "2022-06-09T00:40:27.469507Z",
     "shell.execute_reply": "2022-06-09T00:40:27.468868Z"
    },
    "papermill": {
     "duration": 0.0649,
     "end_time": "2022-06-09T00:40:27.469659",
     "exception": false,
     "start_time": "2022-06-09T00:40:27.404759",
     "status": "completed"
    },
    "tags": []
   },
   "outputs": [],
   "source": [
    "import mnist"
   ]
  },
  {
   "cell_type": "code",
   "execution_count": 5,
   "id": "a411e44f",
   "metadata": {
    "execution": {
     "iopub.execute_input": "2022-06-09T00:40:27.560833Z",
     "iopub.status.busy": "2022-06-09T00:40:27.555087Z",
     "iopub.status.idle": "2022-06-09T00:40:28.205865Z",
     "shell.execute_reply": "2022-06-09T00:40:28.205141Z"
    },
    "papermill": {
     "duration": 0.696791,
     "end_time": "2022-06-09T00:40:28.206076",
     "exception": false,
     "start_time": "2022-06-09T00:40:27.509285",
     "status": "completed"
    },
    "tags": []
   },
   "outputs": [],
   "source": [
    "train_images = mnist.train_images()\n",
    "train_labels = mnist.train_labels()"
   ]
  },
  {
   "cell_type": "code",
   "execution_count": 6,
   "id": "dceab3a5",
   "metadata": {
    "execution": {
     "iopub.execute_input": "2022-06-09T00:40:28.284290Z",
     "iopub.status.busy": "2022-06-09T00:40:28.283540Z",
     "iopub.status.idle": "2022-06-09T00:40:28.301311Z",
     "shell.execute_reply": "2022-06-09T00:40:28.300673Z"
    },
    "papermill": {
     "duration": 0.058247,
     "end_time": "2022-06-09T00:40:28.301464",
     "exception": false,
     "start_time": "2022-06-09T00:40:28.243217",
     "status": "completed"
    },
    "tags": []
   },
   "outputs": [
    {
     "data": {
      "text/plain": [
       "((60000, 28, 28), (60000,))"
      ]
     },
     "execution_count": 6,
     "metadata": {},
     "output_type": "execute_result"
    }
   ],
   "source": [
    "train_images.shape, train_labels.shape"
   ]
  },
  {
   "cell_type": "code",
   "execution_count": 7,
   "id": "f50dc2bb",
   "metadata": {
    "execution": {
     "iopub.execute_input": "2022-06-09T00:40:28.377751Z",
     "iopub.status.busy": "2022-06-09T00:40:28.376964Z",
     "iopub.status.idle": "2022-06-09T00:40:28.509652Z",
     "shell.execute_reply": "2022-06-09T00:40:28.510265Z"
    },
    "papermill": {
     "duration": 0.176257,
     "end_time": "2022-06-09T00:40:28.510449",
     "exception": false,
     "start_time": "2022-06-09T00:40:28.334192",
     "status": "completed"
    },
    "tags": []
   },
   "outputs": [],
   "source": [
    "test_images = mnist.test_images()\n",
    "test_labels = mnist.test_labels()"
   ]
  },
  {
   "cell_type": "code",
   "execution_count": 8,
   "id": "fc38cf1b",
   "metadata": {
    "execution": {
     "iopub.execute_input": "2022-06-09T00:40:28.589352Z",
     "iopub.status.busy": "2022-06-09T00:40:28.588606Z",
     "iopub.status.idle": "2022-06-09T00:40:28.605709Z",
     "shell.execute_reply": "2022-06-09T00:40:28.606468Z"
    },
    "papermill": {
     "duration": 0.056225,
     "end_time": "2022-06-09T00:40:28.606643",
     "exception": false,
     "start_time": "2022-06-09T00:40:28.550418",
     "status": "completed"
    },
    "tags": []
   },
   "outputs": [
    {
     "data": {
      "text/plain": [
       "((10000, 28, 28), (10000,))"
      ]
     },
     "execution_count": 8,
     "metadata": {},
     "output_type": "execute_result"
    }
   ],
   "source": [
    "test_images.shape, test_labels.shape"
   ]
  },
  {
   "cell_type": "code",
   "execution_count": 9,
   "id": "f9ed8fe0",
   "metadata": {
    "execution": {
     "iopub.execute_input": "2022-06-09T00:40:28.678889Z",
     "iopub.status.busy": "2022-06-09T00:40:28.678122Z",
     "iopub.status.idle": "2022-06-09T00:40:28.865751Z",
     "shell.execute_reply": "2022-06-09T00:40:28.866354Z"
    },
    "papermill": {
     "duration": 0.225879,
     "end_time": "2022-06-09T00:40:28.866531",
     "exception": false,
     "start_time": "2022-06-09T00:40:28.640652",
     "status": "completed"
    },
    "tags": []
   },
   "outputs": [
    {
     "name": "stdout",
     "output_type": "stream",
     "text": [
      "2\n"
     ]
    },
    {
     "data": {
      "text/plain": [
       "<matplotlib.image.AxesImage at 0x7f9823344438>"
      ]
     },
     "execution_count": 9,
     "metadata": {},
     "output_type": "execute_result"
    },
    {
     "data": {
      "image/png": "[encoded data removed]",
      "text/plain": [
       "<Figure size 432x288 with 1 Axes>"
      ]
     },
     "metadata": {
      "needs_background": "light"
     },
     "output_type": "display_data"
    }
   ],
   "source": [
    "image_index = 7776 # You may select anything up to 60,000\n",
    "print(train_labels[image_index]) \n",
    "plt.imshow(train_images[image_index], cmap='Greys')"
   ]
  },
  {
   "cell_type": "markdown",
   "id": "a8d2388d",
   "metadata": {
    "papermill": {
     "duration": 0.036084,
     "end_time": "2022-06-09T00:40:28.939179",
     "exception": false,
     "start_time": "2022-06-09T00:40:28.903095",
     "status": "completed"
    },
    "tags": []
   },
   "source": [
    "## Filter data to get 3 and 8 out"
   ]
  },
  {
   "cell_type": "code",
   "execution_count": 10,
   "id": "776f7fc7",
   "metadata": {
    "execution": {
     "iopub.execute_input": "2022-06-09T00:40:29.018560Z",
     "iopub.status.busy": "2022-06-09T00:40:29.012830Z",
     "iopub.status.idle": "2022-06-09T00:40:29.036901Z",
     "shell.execute_reply": "2022-06-09T00:40:29.036243Z"
    },
    "papermill": {
     "duration": 0.064198,
     "end_time": "2022-06-09T00:40:29.037054",
     "exception": false,
     "start_time": "2022-06-09T00:40:28.972856",
     "status": "completed"
    },
    "tags": []
   },
   "outputs": [],
   "source": [
    "train_filter = np.where((train_labels == 3 ) | (train_labels == 8))\n",
    "test_filter = np.where((test_labels == 3) | (test_labels == 8))\n",
    "X_train, y_train = train_images[train_filter], train_labels[train_filter]\n",
    "X_test, y_test = test_images[test_filter], test_labels[test_filter]"
   ]
  },
  {
   "cell_type": "markdown",
   "id": "948f0b7e",
   "metadata": {
    "papermill": {
     "duration": 0.041297,
     "end_time": "2022-06-09T00:40:29.120176",
     "exception": false,
     "start_time": "2022-06-09T00:40:29.078879",
     "status": "completed"
    },
    "tags": []
   },
   "source": [
    "We normalize the pizel values in the 0 to 1 range"
   ]
  },
  {
   "cell_type": "code",
   "execution_count": 11,
   "id": "ee4c2166",
   "metadata": {
    "execution": {
     "iopub.execute_input": "2022-06-09T00:40:29.206449Z",
     "iopub.status.busy": "2022-06-09T00:40:29.205639Z",
     "iopub.status.idle": "2022-06-09T00:40:29.273429Z",
     "shell.execute_reply": "2022-06-09T00:40:29.272803Z"
    },
    "papermill": {
     "duration": 0.117735,
     "end_time": "2022-06-09T00:40:29.273583",
     "exception": false,
     "start_time": "2022-06-09T00:40:29.155848",
     "status": "completed"
    },
    "tags": []
   },
   "outputs": [],
   "source": [
    "X_train = X_train/255.\n",
    "X_test = X_test/255."
   ]
  },
  {
   "cell_type": "markdown",
   "id": "ddcf4fab",
   "metadata": {
    "papermill": {
     "duration": 0.034576,
     "end_time": "2022-06-09T00:40:29.343805",
     "exception": false,
     "start_time": "2022-06-09T00:40:29.309229",
     "status": "completed"
    },
    "tags": []
   },
   "source": [
    "And setup the labels as 1 (when the digit is 3) and 0 (when the digit is 8)"
   ]
  },
  {
   "cell_type": "code",
   "execution_count": 12,
   "id": "7dc908f2",
   "metadata": {
    "execution": {
     "iopub.execute_input": "2022-06-09T00:40:29.431307Z",
     "iopub.status.busy": "2022-06-09T00:40:29.423040Z",
     "iopub.status.idle": "2022-06-09T00:40:29.436830Z",
     "shell.execute_reply": "2022-06-09T00:40:29.436123Z"
    },
    "papermill": {
     "duration": 0.055481,
     "end_time": "2022-06-09T00:40:29.436982",
     "exception": false,
     "start_time": "2022-06-09T00:40:29.381501",
     "status": "completed"
    },
    "tags": []
   },
   "outputs": [],
   "source": [
    "y_train = 1*(y_train==3)\n",
    "y_test = 1*(y_test==3)"
   ]
  },
  {
   "cell_type": "code",
   "execution_count": 13,
   "id": "01e4e969",
   "metadata": {
    "execution": {
     "iopub.execute_input": "2022-06-09T00:40:29.515021Z",
     "iopub.status.busy": "2022-06-09T00:40:29.514255Z",
     "iopub.status.idle": "2022-06-09T00:40:29.528510Z",
     "shell.execute_reply": "2022-06-09T00:40:29.529315Z"
    },
    "papermill": {
     "duration": 0.058226,
     "end_time": "2022-06-09T00:40:29.529486",
     "exception": false,
     "start_time": "2022-06-09T00:40:29.471260",
     "status": "completed"
    },
    "tags": []
   },
   "outputs": [
    {
     "data": {
      "text/plain": [
       "((11982, 28, 28), (1984, 28, 28))"
      ]
     },
     "execution_count": 13,
     "metadata": {},
     "output_type": "execute_result"
    }
   ],
   "source": [
    "X_train.shape, X_test.shape"
   ]
  },
  {
   "cell_type": "markdown",
   "id": "5ccf3f85",
   "metadata": {
    "papermill": {
     "duration": 0.03451,
     "end_time": "2022-06-09T00:40:29.597720",
     "exception": false,
     "start_time": "2022-06-09T00:40:29.563210",
     "status": "completed"
    },
    "tags": []
   },
   "source": [
    "We reshape the data to flatten the image pixels into a set of features or co-variates:"
   ]
  },
  {
   "cell_type": "code",
   "execution_count": 14,
   "id": "5286a4a3",
   "metadata": {
    "execution": {
     "iopub.execute_input": "2022-06-09T00:40:29.680737Z",
     "iopub.status.busy": "2022-06-09T00:40:29.679975Z",
     "iopub.status.idle": "2022-06-09T00:40:29.698293Z",
     "shell.execute_reply": "2022-06-09T00:40:29.699510Z"
    },
    "papermill": {
     "duration": 0.064709,
     "end_time": "2022-06-09T00:40:29.699690",
     "exception": false,
     "start_time": "2022-06-09T00:40:29.634981",
     "status": "completed"
    },
    "tags": []
   },
   "outputs": [
    {
     "data": {
      "text/plain": [
       "((11982, 784), (1984, 784))"
      ]
     },
     "execution_count": 14,
     "metadata": {},
     "output_type": "execute_result"
    }
   ],
   "source": [
    "X_train = X_train.reshape(X_train.shape[0], -1)\n",
    "X_test = X_test.reshape(X_test.shape[0], -1)\n",
    "X_train.shape, X_test.shape"
   ]
  },
  {
   "cell_type": "code",
   "execution_count": 15,
   "id": "73c5f88a",
   "metadata": {
    "execution": {
     "iopub.execute_input": "2022-06-09T00:40:29.799011Z",
     "iopub.status.busy": "2022-06-09T00:40:29.793036Z",
     "iopub.status.idle": "2022-06-09T00:40:29.809446Z",
     "shell.execute_reply": "2022-06-09T00:40:29.810159Z"
    },
    "papermill": {
     "duration": 0.070431,
     "end_time": "2022-06-09T00:40:29.810335",
     "exception": false,
     "start_time": "2022-06-09T00:40:29.739904",
     "status": "completed"
    },
    "tags": []
   },
   "outputs": [],
   "source": [
    "#Impoting functions from 'Kudzu'\n",
    "from kudzu.model import Model\n",
    "from kudzu.train import Learner\n",
    "from kudzu.optim import GD\n",
    "from kudzu.data import Data, Sampler,Dataloader\n",
    "\n",
    "from kudzu.callbacks import AccCallback\n",
    "from kudzu.callbacks import ClfCallback\n",
    "\n",
    "from kudzu.loss import MSE\n",
    "\n",
    "from kudzu.layer import Sigmoid,Relu\n",
    "from kudzu.layer import Affine"
   ]
  },
  {
   "cell_type": "markdown",
   "id": "bc01172a",
   "metadata": {
    "papermill": {
     "duration": 0.039284,
     "end_time": "2022-06-09T00:40:29.886890",
     "exception": false,
     "start_time": "2022-06-09T00:40:29.847606",
     "status": "completed"
    },
    "tags": []
   },
   "source": [
    "### Let us create a `Config` class, to store important parameters. \n",
    "This class essentially plays the role of a dictionary."
   ]
  },
  {
   "cell_type": "code",
   "execution_count": 16,
   "id": "978281aa",
   "metadata": {
    "execution": {
     "iopub.execute_input": "2022-06-09T00:40:29.968917Z",
     "iopub.status.busy": "2022-06-09T00:40:29.968088Z",
     "iopub.status.idle": "2022-06-09T00:40:29.983745Z",
     "shell.execute_reply": "2022-06-09T00:40:29.983092Z"
    },
    "papermill": {
     "duration": 0.059602,
     "end_time": "2022-06-09T00:40:29.983898",
     "exception": false,
     "start_time": "2022-06-09T00:40:29.924296",
     "status": "completed"
    },
    "tags": []
   },
   "outputs": [],
   "source": [
    "class Config:\n",
    "    pass\n",
    "config = Config()\n",
    "config.lr = 0.001\n",
    "config.num_epochs = 250\n",
    "config.bs = 50"
   ]
  },
  {
   "cell_type": "markdown",
   "id": "1385fa59",
   "metadata": {
    "papermill": {
     "duration": 0.037224,
     "end_time": "2022-06-09T00:40:30.055307",
     "exception": false,
     "start_time": "2022-06-09T00:40:30.018083",
     "status": "completed"
    },
    "tags": []
   },
   "source": [
    "### Running Models with the Training data\n",
    "Details about the network layers:\n",
    "- A first affine layer has 784 inputs and does 100 affine transforms. These are followed by a Relu\n",
    "- A second affine layer has 100 inputs from the 100 activations of the past layer, and does 100 affine transforms. These are followed by a Relu\n",
    "- A third affine layer has 100 activations and does 2 affine transformations to create an embedding for visualization. There is no non-linearity here.\n",
    "- A final \"logistic regression\" which has an affine transform from 2 inputs to 1 output, which is squeezed through a sigmoid.\n"
   ]
  },
  {
   "cell_type": "code",
   "execution_count": 17,
   "id": "2b9c66db",
   "metadata": {
    "execution": {
     "iopub.execute_input": "2022-06-09T00:40:30.132935Z",
     "iopub.status.busy": "2022-06-09T00:40:30.132176Z",
     "iopub.status.idle": "2022-06-09T00:40:30.146534Z",
     "shell.execute_reply": "2022-06-09T00:40:30.145867Z"
    },
    "papermill": {
     "duration": 0.0553,
     "end_time": "2022-06-09T00:40:30.146680",
     "exception": false,
     "start_time": "2022-06-09T00:40:30.091380",
     "status": "completed"
    },
    "tags": []
   },
   "outputs": [],
   "source": [
    "data = Data(X_train, y_train.reshape(-1,1))\n",
    "sampler = Sampler(data, config.bs, shuffle=True)\n",
    "\n",
    "dl = Dataloader(data, sampler)\n",
    "\n",
    "opt = GD(config.lr)\n",
    "loss = MSE()"
   ]
  },
  {
   "cell_type": "code",
   "execution_count": 18,
   "id": "b275e4c2",
   "metadata": {
    "execution": {
     "iopub.execute_input": "2022-06-09T00:40:30.227966Z",
     "iopub.status.busy": "2022-06-09T00:40:30.227197Z",
     "iopub.status.idle": "2022-06-09T00:40:30.247248Z",
     "shell.execute_reply": "2022-06-09T00:40:30.246597Z"
    },
    "papermill": {
     "duration": 0.064916,
     "end_time": "2022-06-09T00:40:30.247399",
     "exception": false,
     "start_time": "2022-06-09T00:40:30.182483",
     "status": "completed"
    },
    "tags": []
   },
   "outputs": [],
   "source": [
    "training_data_x = X_train\n",
    "testing_data_x = X_test\n",
    "training_data_y = y_train.reshape(-1,1)\n",
    "testing_data_y = y_test.reshape(-1,1)"
   ]
  },
  {
   "cell_type": "code",
   "execution_count": 19,
   "id": "76951160",
   "metadata": {
    "execution": {
     "iopub.execute_input": "2022-06-09T00:40:30.350906Z",
     "iopub.status.busy": "2022-06-09T00:40:30.347725Z",
     "iopub.status.idle": "2022-06-09T00:40:30.359758Z",
     "shell.execute_reply": "2022-06-09T00:40:30.360382Z"
    },
    "papermill": {
     "duration": 0.068182,
     "end_time": "2022-06-09T00:40:30.360549",
     "exception": false,
     "start_time": "2022-06-09T00:40:30.292367",
     "status": "completed"
    },
    "tags": []
   },
   "outputs": [
    {
     "name": "stdout",
     "output_type": "stream",
     "text": [
      "xavier\n",
      "xavier\n",
      "xavier\n",
      "xavier\n",
      "xavier\n"
     ]
    }
   ],
   "source": [
    "layers = [Affine(\"first\", 784, 100), Relu(\"first\"), Affine(\"second\", 100, 100), Relu(\"second\"), Affine(\"third\", 100, 2), Affine(\"last\", 2, 1), Sigmoid(\"last\")]\n",
    "model_nn = Model(layers)\n",
    "model_lr = Model([Affine(\"logits\", 784, 1), Sigmoid(\"sigmoid\")])"
   ]
  },
  {
   "cell_type": "code",
   "execution_count": 20,
   "id": "6eede77a",
   "metadata": {
    "execution": {
     "iopub.execute_input": "2022-06-09T00:40:30.444532Z",
     "iopub.status.busy": "2022-06-09T00:40:30.443781Z",
     "iopub.status.idle": "2022-06-09T00:40:30.457177Z",
     "shell.execute_reply": "2022-06-09T00:40:30.456443Z"
    },
    "papermill": {
     "duration": 0.059403,
     "end_time": "2022-06-09T00:40:30.457325",
     "exception": false,
     "start_time": "2022-06-09T00:40:30.397922",
     "status": "completed"
    },
    "tags": []
   },
   "outputs": [],
   "source": [
    "nn_learner = Learner(loss, model_nn, opt, config.num_epochs)\n",
    "acc_nn = ClfCallback(nn_learner, config.bs, training_data_x , testing_data_x, training_data_y, testing_data_y)\n",
    "nn_learner.set_callbacks([acc_nn])"
   ]
  },
  {
   "cell_type": "code",
   "execution_count": 21,
   "id": "877b6cc7",
   "metadata": {
    "execution": {
     "iopub.execute_input": "2022-06-09T00:40:30.537166Z",
     "iopub.status.busy": "2022-06-09T00:40:30.536379Z",
     "iopub.status.idle": "2022-06-09T00:40:30.552877Z",
     "shell.execute_reply": "2022-06-09T00:40:30.552218Z"
    },
    "papermill": {
     "duration": 0.057863,
     "end_time": "2022-06-09T00:40:30.553025",
     "exception": false,
     "start_time": "2022-06-09T00:40:30.495162",
     "status": "completed"
    },
    "tags": []
   },
   "outputs": [],
   "source": [
    "lr_learner = Learner(loss, model_lr, opt, config.num_epochs)\n",
    "acc_lr = ClfCallback(lr_learner, config.bs, training_data_x , testing_data_x, training_data_y, testing_data_y)\n",
    "lr_learner.set_callbacks([acc_lr])"
   ]
  },
  {
   "cell_type": "code",
   "execution_count": 22,
   "id": "d9b133c3",
   "metadata": {
    "execution": {
     "iopub.execute_input": "2022-06-09T00:40:30.635639Z",
     "iopub.status.busy": "2022-06-09T00:40:30.634878Z",
     "iopub.status.idle": "2022-06-09T00:42:39.735845Z",
     "shell.execute_reply": "2022-06-09T00:42:39.736794Z"
    },
    "papermill": {
     "duration": 129.14721,
     "end_time": "2022-06-09T00:42:39.736974",
     "exception": false,
     "start_time": "2022-06-09T00:40:30.589764",
     "status": "completed"
    },
    "tags": []
   },
   "outputs": [
    {
     "name": "stdout",
     "output_type": "stream",
     "text": [
      "Epoch 0, Loss 0.2506\n",
      "Training Accuracy: 0.6541, Testing Accuracy: 0.6784\n",
      "\n"
     ]
    },
    {
     "name": "stdout",
     "output_type": "stream",
     "text": [
      "Epoch 10, Loss 0.0771\n",
      "Training Accuracy: 0.9243, Testing Accuracy: 0.9360\n",
      "\n"
     ]
    },
    {
     "name": "stdout",
     "output_type": "stream",
     "text": [
      "Epoch 20, Loss 0.051\n",
      "Training Accuracy: 0.9456, Testing Accuracy: 0.9526\n",
      "\n"
     ]
    },
    {
     "name": "stdout",
     "output_type": "stream",
     "text": [
      "Epoch 30, Loss 0.0416\n",
      "Training Accuracy: 0.9528, Testing Accuracy: 0.9602\n",
      "\n"
     ]
    },
    {
     "name": "stdout",
     "output_type": "stream",
     "text": [
      "Epoch 40, Loss 0.0368\n",
      "Training Accuracy: 0.9581, Testing Accuracy: 0.9647\n",
      "\n"
     ]
    },
    {
     "name": "stdout",
     "output_type": "stream",
     "text": [
      "Epoch 50, Loss 0.0337\n",
      "Training Accuracy: 0.9617, Testing Accuracy: 0.9652\n",
      "\n"
     ]
    },
    {
     "name": "stdout",
     "output_type": "stream",
     "text": [
      "Epoch 60, Loss 0.0316\n",
      "Training Accuracy: 0.9645, Testing Accuracy: 0.9667\n",
      "\n"
     ]
    },
    {
     "name": "stdout",
     "output_type": "stream",
     "text": [
      "Epoch 70, Loss 0.0299\n",
      "Training Accuracy: 0.9654, Testing Accuracy: 0.9667\n",
      "\n"
     ]
    },
    {
     "name": "stdout",
     "output_type": "stream",
     "text": [
      "Epoch 80, Loss 0.0285\n",
      "Training Accuracy: 0.9670, Testing Accuracy: 0.9667\n",
      "\n"
     ]
    },
    {
     "name": "stdout",
     "output_type": "stream",
     "text": [
      "Epoch 90, Loss 0.0274\n",
      "Training Accuracy: 0.9687, Testing Accuracy: 0.9682\n",
      "\n"
     ]
    },
    {
     "name": "stdout",
     "output_type": "stream",
     "text": [
      "Epoch 100, Loss 0.0265\n",
      "Training Accuracy: 0.9696, Testing Accuracy: 0.9693\n",
      "\n"
     ]
    },
    {
     "name": "stdout",
     "output_type": "stream",
     "text": [
      "Epoch 110, Loss 0.0256\n",
      "Training Accuracy: 0.9705, Testing Accuracy: 0.9693\n",
      "\n"
     ]
    },
    {
     "name": "stdout",
     "output_type": "stream",
     "text": [
      "Epoch 120, Loss 0.0249\n",
      "Training Accuracy: 0.9710, Testing Accuracy: 0.9698\n",
      "\n"
     ]
    },
    {
     "name": "stdout",
     "output_type": "stream",
     "text": [
      "Epoch 130, Loss 0.0242\n",
      "Training Accuracy: 0.9715, Testing Accuracy: 0.9708\n",
      "\n"
     ]
    },
    {
     "name": "stdout",
     "output_type": "stream",
     "text": [
      "Epoch 140, Loss 0.0236\n",
      "Training Accuracy: 0.9725, Testing Accuracy: 0.9718\n",
      "\n"
     ]
    },
    {
     "name": "stdout",
     "output_type": "stream",
     "text": [
      "Epoch 150, Loss 0.023\n",
      "Training Accuracy: 0.9737, Testing Accuracy: 0.9723\n",
      "\n"
     ]
    },
    {
     "name": "stdout",
     "output_type": "stream",
     "text": [
      "Epoch 160, Loss 0.0224\n",
      "Training Accuracy: 0.9742, Testing Accuracy: 0.9723\n",
      "\n"
     ]
    },
    {
     "name": "stdout",
     "output_type": "stream",
     "text": [
      "Epoch 170, Loss 0.0219\n",
      "Training Accuracy: 0.9746, Testing Accuracy: 0.9728\n",
      "\n"
     ]
    },
    {
     "name": "stdout",
     "output_type": "stream",
     "text": [
      "Epoch 180, Loss 0.0215\n",
      "Training Accuracy: 0.9753, Testing Accuracy: 0.9728\n",
      "\n"
     ]
    },
    {
     "name": "stdout",
     "output_type": "stream",
     "text": [
      "Epoch 190, Loss 0.021\n",
      "Training Accuracy: 0.9760, Testing Accuracy: 0.9728\n",
      "\n"
     ]
    },
    {
     "name": "stdout",
     "output_type": "stream",
     "text": [
      "Epoch 200, Loss 0.0206\n",
      "Training Accuracy: 0.9767, Testing Accuracy: 0.9733\n",
      "\n"
     ]
    },
    {
     "name": "stdout",
     "output_type": "stream",
     "text": [
      "Epoch 210, Loss 0.0202\n",
      "Training Accuracy: 0.9774, Testing Accuracy: 0.9738\n",
      "\n"
     ]
    },
    {
     "name": "stdout",
     "output_type": "stream",
     "text": [
      "Epoch 220, Loss 0.0199\n",
      "Training Accuracy: 0.9778, Testing Accuracy: 0.9738\n",
      "\n"
     ]
    },
    {
     "name": "stdout",
     "output_type": "stream",
     "text": [
      "Epoch 230, Loss 0.0195\n",
      "Training Accuracy: 0.9781, Testing Accuracy: 0.9743\n",
      "\n"
     ]
    },
    {
     "name": "stdout",
     "output_type": "stream",
     "text": [
      "Epoch 240, Loss 0.0192\n",
      "Training Accuracy: 0.9787, Testing Accuracy: 0.9738\n",
      "\n"
     ]
    },
    {
     "data": {
      "text/plain": [
       "0.048118415801330694"
      ]
     },
     "execution_count": 22,
     "metadata": {},
     "output_type": "execute_result"
    }
   ],
   "source": [
    "nn_learner.train_loop(dl)"
   ]
  },
  {
   "cell_type": "code",
   "execution_count": 23,
   "id": "e0163366",
   "metadata": {
    "execution": {
     "iopub.execute_input": "2022-06-09T00:42:39.843919Z",
     "iopub.status.busy": "2022-06-09T00:42:39.843114Z",
     "iopub.status.idle": "2022-06-09T00:42:58.387142Z",
     "shell.execute_reply": "2022-06-09T00:42:58.388165Z"
    },
    "papermill": {
     "duration": 18.605967,
     "end_time": "2022-06-09T00:42:58.388338",
     "exception": false,
     "start_time": "2022-06-09T00:42:39.782371",
     "status": "completed"
    },
    "tags": []
   },
   "outputs": [
    {
     "name": "stdout",
     "output_type": "stream",
     "text": [
      "Epoch 0, Loss 0.265\n",
      "Training Accuracy: 0.5894, Testing Accuracy: 0.5902\n",
      "\n"
     ]
    },
    {
     "name": "stdout",
     "output_type": "stream",
     "text": [
      "Epoch 10, Loss 0.1054\n",
      "Training Accuracy: 0.9078, Testing Accuracy: 0.9189\n",
      "\n"
     ]
    },
    {
     "name": "stdout",
     "output_type": "stream",
     "text": [
      "Epoch 20, Loss 0.0802\n",
      "Training Accuracy: 0.9282, Testing Accuracy: 0.9385\n",
      "\n"
     ]
    },
    {
     "name": "stdout",
     "output_type": "stream",
     "text": [
      "Epoch 30, Loss 0.0687\n",
      "Training Accuracy: 0.9376, Testing Accuracy: 0.9506\n",
      "\n"
     ]
    },
    {
     "name": "stdout",
     "output_type": "stream",
     "text": [
      "Epoch 40, Loss 0.0618\n",
      "Training Accuracy: 0.9424, Testing Accuracy: 0.9511\n",
      "\n"
     ]
    },
    {
     "name": "stdout",
     "output_type": "stream",
     "text": [
      "Epoch 50, Loss 0.0572\n",
      "Training Accuracy: 0.9464, Testing Accuracy: 0.9526\n",
      "\n"
     ]
    },
    {
     "name": "stdout",
     "output_type": "stream",
     "text": [
      "Epoch 60, Loss 0.0538\n",
      "Training Accuracy: 0.9487, Testing Accuracy: 0.9551\n",
      "\n"
     ]
    },
    {
     "name": "stdout",
     "output_type": "stream",
     "text": [
      "Epoch 70, Loss 0.0512\n",
      "Training Accuracy: 0.9502, Testing Accuracy: 0.9567\n",
      "\n"
     ]
    },
    {
     "name": "stdout",
     "output_type": "stream",
     "text": [
      "Epoch 80, Loss 0.0491\n",
      "Training Accuracy: 0.9517, Testing Accuracy: 0.9582\n",
      "\n"
     ]
    },
    {
     "name": "stdout",
     "output_type": "stream",
     "text": [
      "Epoch 90, Loss 0.0474\n",
      "Training Accuracy: 0.9526, Testing Accuracy: 0.9602\n",
      "\n"
     ]
    },
    {
     "name": "stdout",
     "output_type": "stream",
     "text": [
      "Epoch 100, Loss 0.046\n",
      "Training Accuracy: 0.9536, Testing Accuracy: 0.9602\n",
      "\n"
     ]
    },
    {
     "name": "stdout",
     "output_type": "stream",
     "text": [
      "Epoch 110, Loss 0.0447\n",
      "Training Accuracy: 0.9539, Testing Accuracy: 0.9627\n",
      "\n"
     ]
    },
    {
     "name": "stdout",
     "output_type": "stream",
     "text": [
      "Epoch 120, Loss 0.0437\n",
      "Training Accuracy: 0.9547, Testing Accuracy: 0.9637\n",
      "\n"
     ]
    },
    {
     "name": "stdout",
     "output_type": "stream",
     "text": [
      "Epoch 130, Loss 0.0427\n",
      "Training Accuracy: 0.9559, Testing Accuracy: 0.9637\n",
      "\n"
     ]
    },
    {
     "name": "stdout",
     "output_type": "stream",
     "text": [
      "Epoch 140, Loss 0.0419\n",
      "Training Accuracy: 0.9566, Testing Accuracy: 0.9637\n",
      "\n"
     ]
    },
    {
     "name": "stdout",
     "output_type": "stream",
     "text": [
      "Epoch 150, Loss 0.0412\n",
      "Training Accuracy: 0.9571, Testing Accuracy: 0.9642\n",
      "\n"
     ]
    },
    {
     "name": "stdout",
     "output_type": "stream",
     "text": [
      "Epoch 160, Loss 0.0405\n",
      "Training Accuracy: 0.9581, Testing Accuracy: 0.9637\n",
      "\n"
     ]
    },
    {
     "name": "stdout",
     "output_type": "stream",
     "text": [
      "Epoch 170, Loss 0.0399\n",
      "Training Accuracy: 0.9588, Testing Accuracy: 0.9642\n",
      "\n"
     ]
    },
    {
     "name": "stdout",
     "output_type": "stream",
     "text": [
      "Epoch 180, Loss 0.0393\n",
      "Training Accuracy: 0.9590, Testing Accuracy: 0.9647\n",
      "\n"
     ]
    },
    {
     "name": "stdout",
     "output_type": "stream",
     "text": [
      "Epoch 190, Loss 0.0388\n",
      "Training Accuracy: 0.9593, Testing Accuracy: 0.9657\n",
      "\n"
     ]
    },
    {
     "name": "stdout",
     "output_type": "stream",
     "text": [
      "Epoch 200, Loss 0.0384\n",
      "Training Accuracy: 0.9593, Testing Accuracy: 0.9657\n",
      "\n"
     ]
    },
    {
     "name": "stdout",
     "output_type": "stream",
     "text": [
      "Epoch 210, Loss 0.0379\n",
      "Training Accuracy: 0.9596, Testing Accuracy: 0.9657\n",
      "\n"
     ]
    },
    {
     "name": "stdout",
     "output_type": "stream",
     "text": [
      "Epoch 220, Loss 0.0375\n",
      "Training Accuracy: 0.9598, Testing Accuracy: 0.9657\n",
      "\n"
     ]
    },
    {
     "name": "stdout",
     "output_type": "stream",
     "text": [
      "Epoch 230, Loss 0.0371\n",
      "Training Accuracy: 0.9601, Testing Accuracy: 0.9657\n",
      "\n"
     ]
    },
    {
     "name": "stdout",
     "output_type": "stream",
     "text": [
      "Epoch 240, Loss 0.0368\n",
      "Training Accuracy: 0.9604, Testing Accuracy: 0.9652\n",
      "\n"
     ]
    },
    {
     "data": {
      "text/plain": [
       "0.029356204559848203"
      ]
     },
     "execution_count": 23,
     "metadata": {},
     "output_type": "execute_result"
    }
   ],
   "source": [
    "lr_learner.train_loop(dl)"
   ]
  },
  {
   "cell_type": "code",
   "execution_count": 24,
   "id": "ca410940",
   "metadata": {
    "execution": {
     "iopub.execute_input": "2022-06-09T00:42:58.503035Z",
     "iopub.status.busy": "2022-06-09T00:42:58.502267Z",
     "iopub.status.idle": "2022-06-09T00:42:58.817130Z",
     "shell.execute_reply": "2022-06-09T00:42:58.817823Z"
    },
    "papermill": {
     "duration": 0.376342,
     "end_time": "2022-06-09T00:42:58.818026",
     "exception": false,
     "start_time": "2022-06-09T00:42:58.441684",
     "status": "completed"
    },
    "tags": []
   },
   "outputs": [
    {
     "data": {
      "text/plain": [
       "<matplotlib.legend.Legend at 0x7f9822ea5a20>"
      ]
     },
     "execution_count": 24,
     "metadata": {},
     "output_type": "execute_result"
    },
    {
     "data": {
      "image/png": "[encoded data removed]",
      "text/plain": [
       "<Figure size 1080x720 with 1 Axes>"
      ]
     },
     "metadata": {
      "needs_background": "light"
     },
     "output_type": "display_data"
    }
   ],
   "source": [
    "#comparing the results of NN and LR\n",
    "plt.figure(figsize=(15,10))\n",
    "\n",
    "# Neural Network plots\n",
    "plt.plot(acc_nn.accuracies, 'r-', label = \"Training Accuracies - NN\")\n",
    "plt.plot(acc_nn.test_accuracies, 'g-', label = \"Testing Accuracies - NN\")\n",
    "\n",
    "# Logistic Regression plots\n",
    "plt.plot(acc_lr.accuracies, 'k-', label = \"Training Accuracies - LR\")\n",
    "plt.plot(acc_lr.test_accuracies, 'b-', label = \"Testing Accuracies - LR\")\n",
    "plt.legend()"
   ]
  },
  {
   "cell_type": "markdown",
   "id": "80dfb35c",
   "metadata": {
    "papermill": {
     "duration": 0.055456,
     "end_time": "2022-06-09T00:42:58.928078",
     "exception": false,
     "start_time": "2022-06-09T00:42:58.872622",
     "status": "completed"
    },
    "tags": []
   },
   "source": [
    "#### Plotting the outputs of this layer of the NN.\n"
   ]
  },
  {
   "cell_type": "code",
   "execution_count": 25,
   "id": "45eb2ff5",
   "metadata": {
    "execution": {
     "iopub.execute_input": "2022-06-09T00:42:59.060311Z",
     "iopub.status.busy": "2022-06-09T00:42:59.050547Z",
     "iopub.status.idle": "2022-06-09T00:42:59.076935Z",
     "shell.execute_reply": "2022-06-09T00:42:59.078176Z"
    },
    "papermill": {
     "duration": 0.095398,
     "end_time": "2022-06-09T00:42:59.078352",
     "exception": false,
     "start_time": "2022-06-09T00:42:58.982954",
     "status": "completed"
    },
    "tags": []
   },
   "outputs": [],
   "source": [
    "new_model = Model(layers[:-2])\n",
    "testing_plot = new_model(testing_data_x)"
   ]
  },
  {
   "cell_type": "code",
   "execution_count": 26,
   "id": "4c0a5485",
   "metadata": {
    "execution": {
     "iopub.execute_input": "2022-06-09T00:42:59.225221Z",
     "iopub.status.busy": "2022-06-09T00:42:59.202139Z",
     "iopub.status.idle": "2022-06-09T00:42:59.440775Z",
     "shell.execute_reply": "2022-06-09T00:42:59.440143Z"
    },
    "papermill": {
     "duration": 0.308547,
     "end_time": "2022-06-09T00:42:59.440922",
     "exception": false,
     "start_time": "2022-06-09T00:42:59.132375",
     "status": "completed"
    },
    "tags": []
   },
   "outputs": [
    {
     "data": {
      "text/plain": [
       "Text(0.5, 1.0, 'Outputs')"
      ]
     },
     "execution_count": 26,
     "metadata": {},
     "output_type": "execute_result"
    },
    {
     "data": {
      "image/png": "[encoded data removed]",
      "text/plain": [
       "<Figure size 576x504 with 1 Axes>"
      ]
     },
     "metadata": {
      "needs_background": "light"
     },
     "output_type": "display_data"
    }
   ],
   "source": [
    "# Plotting the scatter plot of points and color coding by class\n",
    "plt.figure(figsize=(8,7))\n",
    "plt.scatter(testing_plot[:,0], testing_plot[:,1], alpha = 0.1, c = y_test.ravel());\n",
    "plt.title('Outputs')"
   ]
  },
  {
   "cell_type": "markdown",
   "id": "a74fcf8f",
   "metadata": {
    "papermill": {
     "duration": 0.082576,
     "end_time": "2022-06-09T00:42:59.580863",
     "exception": false,
     "start_time": "2022-06-09T00:42:59.498287",
     "status": "completed"
    },
    "tags": []
   },
   "source": [
    "Probability contours"
   ]
  },
  {
   "cell_type": "code",
   "execution_count": 27,
   "id": "d0afc8e3",
   "metadata": {
    "execution": {
     "iopub.execute_input": "2022-06-09T00:42:59.702597Z",
     "iopub.status.busy": "2022-06-09T00:42:59.701371Z",
     "iopub.status.idle": "2022-06-09T00:42:59.714640Z",
     "shell.execute_reply": "2022-06-09T00:42:59.714034Z"
    },
    "papermill": {
     "duration": 0.076604,
     "end_time": "2022-06-09T00:42:59.714791",
     "exception": false,
     "start_time": "2022-06-09T00:42:59.638187",
     "status": "completed"
    },
    "tags": []
   },
   "outputs": [],
   "source": [
    "model_prob = Model(layers[-2:]) "
   ]
  },
  {
   "cell_type": "code",
   "execution_count": 28,
   "id": "9b96e238",
   "metadata": {
    "execution": {
     "iopub.execute_input": "2022-06-09T00:42:59.837202Z",
     "iopub.status.busy": "2022-06-09T00:42:59.836453Z",
     "iopub.status.idle": "2022-06-09T00:42:59.852864Z",
     "shell.execute_reply": "2022-06-09T00:42:59.852279Z"
    },
    "papermill": {
     "duration": 0.081006,
     "end_time": "2022-06-09T00:42:59.853058",
     "exception": false,
     "start_time": "2022-06-09T00:42:59.772052",
     "status": "completed"
    },
    "tags": []
   },
   "outputs": [],
   "source": [
    "#creating the x and y ranges according to the above generated plot.\n",
    "x_range = np.linspace(-4, 1, 100) \n",
    "y_range = np.linspace(-6, 6, 100) \n",
    "x_grid, y_grid = np.meshgrid(x_range, y_range) # x_grid and y_grig are of size 100 X 100\n",
    "\n",
    "# converting x_grid and y_grid to continuous arrays\n",
    "x_gridflat = np.ravel(x_grid)\n",
    "y_gridflat = np.ravel(y_grid)\n",
    "\n",
    "# The last layer of the current model takes two columns as input. Hence transpose of np.vstack() is required.\n",
    "X = np.vstack((x_gridflat, y_gridflat)).T\n",
    "\n",
    "prob_contour = model_prob(X).reshape(100,100) "
   ]
  },
  {
   "cell_type": "code",
   "execution_count": 29,
   "id": "da72499a",
   "metadata": {
    "execution": {
     "iopub.execute_input": "2022-06-09T00:42:59.988302Z",
     "iopub.status.busy": "2022-06-09T00:42:59.987550Z",
     "iopub.status.idle": "2022-06-09T00:43:00.290048Z",
     "shell.execute_reply": "2022-06-09T00:43:00.290651Z"
    },
    "papermill": {
     "duration": 0.37582,
     "end_time": "2022-06-09T00:43:00.290822",
     "exception": false,
     "start_time": "2022-06-09T00:42:59.915002",
     "status": "completed"
    },
    "tags": []
   },
   "outputs": [
    {
     "data": {
      "image/png": "[encoded data removed]",
      "text/plain": [
       "<Figure size 720x648 with 1 Axes>"
      ]
     },
     "metadata": {
      "needs_background": "light"
     },
     "output_type": "display_data"
    }
   ],
   "source": [
    "plt.figure(figsize=(10,9))\n",
    "plt.scatter(testing_plot[:,0], testing_plot[:,1], alpha = 0.1, c = y_test.ravel())\n",
    "contours = plt.contour(x_grid,y_grid,prob_contour)\n",
    "plt.title('Probability Contours')\n",
    "plt.clabel(contours, inline = True );"
   ]
  },
  {
   "cell_type": "code",
   "execution_count": null,
   "id": "e81b4ac7",
   "metadata": {
    "papermill": {
     "duration": 0.060779,
     "end_time": "2022-06-09T00:43:00.411747",
     "exception": false,
     "start_time": "2022-06-09T00:43:00.350968",
     "status": "completed"
    },
    "tags": []
   },
   "outputs": [],
   "source": []
  }
 ],
 "metadata": {
  "kernelspec": {
   "display_name": "Python 3",
   "language": "python",
   "name": "python3"
  },
  "language_info": {
   "codemirror_mode": {
    "name": "ipython",
    "version": 3
   },
   "file_extension": ".py",
   "mimetype": "text/x-python",
   "name": "python",
   "nbconvert_exporter": "python",
   "pygments_lexer": "ipython3",
   "version": "3.6.15"
  },
  "papermill": {
   "default_parameters": {},
   "duration": 159.043391,
   "end_time": "2022-06-09T00:43:00.895770",
   "environment_variables": {},
   "exception": null,
   "input_path": "2020-08-11-part2.ipynb",
   "output_path": "2020-08-11-part2.ipynb",
   "parameters": {},
   "start_time": "2022-06-09T00:40:21.852379",
   "version": "2.3.3"
  }
 },
 "nbformat": 4,
 "nbformat_minor": 5
}