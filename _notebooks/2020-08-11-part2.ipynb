{
 "cells": [
  {
   "cell_type": "markdown",
   "id": "98380cd3",
   "metadata": {
    "papermill": {
     "duration": 0.028925,
     "end_time": "2022-05-31T10:11:17.353545",
     "exception": false,
     "start_time": "2022-05-31T10:11:17.324620",
     "status": "completed"
    },
    "tags": []
   },
   "source": [
    "# Distinguish Your Own Digits (DYOD)"
   ]
  },
  {
   "cell_type": "markdown",
   "id": "ef31240d",
   "metadata": {
    "papermill": {
     "duration": 0.023281,
     "end_time": "2022-05-31T10:11:17.400835",
     "exception": false,
     "start_time": "2022-05-31T10:11:17.377554",
     "status": "completed"
    },
    "tags": []
   },
   "source": [
    "You are going to write a classifier that distinguishes between the number 3 and number 8."
   ]
  },
  {
   "cell_type": "code",
   "execution_count": 1,
   "id": "b15c8646",
   "metadata": {
    "execution": {
     "iopub.execute_input": "2022-05-31T10:11:17.458945Z",
     "iopub.status.busy": "2022-05-31T10:11:17.458345Z",
     "iopub.status.idle": "2022-05-31T10:11:17.468335Z",
     "shell.execute_reply": "2022-05-31T10:11:17.468888Z"
    },
    "papermill": {
     "duration": 0.044651,
     "end_time": "2022-05-31T10:11:17.469031",
     "exception": false,
     "start_time": "2022-05-31T10:11:17.424380",
     "status": "completed"
    },
    "tags": []
   },
   "outputs": [],
   "source": [
    "%load_ext autoreload\n",
    "%autoreload 2"
   ]
  },
  {
   "cell_type": "code",
   "execution_count": 2,
   "id": "22ef38dc",
   "metadata": {
    "execution": {
     "iopub.execute_input": "2022-05-31T10:11:17.528956Z",
     "iopub.status.busy": "2022-05-31T10:11:17.528382Z",
     "iopub.status.idle": "2022-05-31T10:11:18.040539Z",
     "shell.execute_reply": "2022-05-31T10:11:18.041082Z"
    },
    "papermill": {
     "duration": 0.548761,
     "end_time": "2022-05-31T10:11:18.041248",
     "exception": false,
     "start_time": "2022-05-31T10:11:17.492487",
     "status": "completed"
    },
    "tags": []
   },
   "outputs": [],
   "source": [
    "%matplotlib inline\n",
    "import numpy as np\n",
    "import matplotlib.pyplot as plt\n",
    "import pandas as pd"
   ]
  },
  {
   "cell_type": "markdown",
   "id": "ba036198",
   "metadata": {
    "papermill": {
     "duration": 0.023318,
     "end_time": "2022-05-31T10:11:18.088830",
     "exception": false,
     "start_time": "2022-05-31T10:11:18.065512",
     "status": "completed"
    },
    "tags": []
   },
   "source": [
    "From the command line run `pip install mnist`. This is a library that will help you bring down the mnist dataset. If you run this from a notebook, you need to put  `!pip install mnist` in a cell by itself."
   ]
  },
  {
   "cell_type": "code",
   "execution_count": 3,
   "id": "bb6ad8a1",
   "metadata": {
    "execution": {
     "iopub.execute_input": "2022-05-31T10:11:18.139505Z",
     "iopub.status.busy": "2022-05-31T10:11:18.138939Z",
     "iopub.status.idle": "2022-05-31T10:11:19.880861Z",
     "shell.execute_reply": "2022-05-31T10:11:19.879378Z"
    },
    "papermill": {
     "duration": 1.768775,
     "end_time": "2022-05-31T10:11:19.881008",
     "exception": false,
     "start_time": "2022-05-31T10:11:18.112233",
     "status": "completed"
    },
    "tags": []
   },
   "outputs": [
    {
     "name": "stdout",
     "output_type": "stream",
     "text": [
      "Collecting mnist\r\n"
     ]
    },
    {
     "name": "stdout",
     "output_type": "stream",
     "text": [
      "  Downloading mnist-0.2.2-py2.py3-none-any.whl (3.5 kB)\r\n",
      "Requirement already satisfied: numpy in /opt/hostedtoolcache/Python/3.6.15/x64/lib/python3.6/site-packages (from mnist) (1.19.5)\r\n"
     ]
    },
    {
     "name": "stdout",
     "output_type": "stream",
     "text": [
      "Installing collected packages: mnist\r\n"
     ]
    },
    {
     "name": "stdout",
     "output_type": "stream",
     "text": [
      "Successfully installed mnist-0.2.2\r\n"
     ]
    }
   ],
   "source": [
    "!pip install mnist"
   ]
  },
  {
   "cell_type": "markdown",
   "id": "69df9c9a",
   "metadata": {
    "papermill": {
     "duration": 0.02468,
     "end_time": "2022-05-31T10:11:19.931498",
     "exception": false,
     "start_time": "2022-05-31T10:11:19.906818",
     "status": "completed"
    },
    "tags": []
   },
   "source": [
    "## Preparing the Data"
   ]
  },
  {
   "cell_type": "code",
   "execution_count": 4,
   "id": "7f69d806",
   "metadata": {
    "execution": {
     "iopub.execute_input": "2022-05-31T10:11:19.984929Z",
     "iopub.status.busy": "2022-05-31T10:11:19.984351Z",
     "iopub.status.idle": "2022-05-31T10:11:19.998828Z",
     "shell.execute_reply": "2022-05-31T10:11:19.998350Z"
    },
    "papermill": {
     "duration": 0.043054,
     "end_time": "2022-05-31T10:11:19.998940",
     "exception": false,
     "start_time": "2022-05-31T10:11:19.955886",
     "status": "completed"
    },
    "tags": []
   },
   "outputs": [],
   "source": [
    "import mnist"
   ]
  },
  {
   "cell_type": "code",
   "execution_count": 5,
   "id": "a411e44f",
   "metadata": {
    "execution": {
     "iopub.execute_input": "2022-05-31T10:11:20.051808Z",
     "iopub.status.busy": "2022-05-31T10:11:20.051241Z",
     "iopub.status.idle": "2022-05-31T10:11:20.806450Z",
     "shell.execute_reply": "2022-05-31T10:11:20.806973Z"
    },
    "papermill": {
     "duration": 0.783589,
     "end_time": "2022-05-31T10:11:20.807137",
     "exception": false,
     "start_time": "2022-05-31T10:11:20.023548",
     "status": "completed"
    },
    "tags": []
   },
   "outputs": [],
   "source": [
    "train_images = mnist.train_images()\n",
    "train_labels = mnist.train_labels()"
   ]
  },
  {
   "cell_type": "code",
   "execution_count": 6,
   "id": "dceab3a5",
   "metadata": {
    "execution": {
     "iopub.execute_input": "2022-05-31T10:11:20.861444Z",
     "iopub.status.busy": "2022-05-31T10:11:20.860869Z",
     "iopub.status.idle": "2022-05-31T10:11:20.875196Z",
     "shell.execute_reply": "2022-05-31T10:11:20.874730Z"
    },
    "papermill": {
     "duration": 0.042511,
     "end_time": "2022-05-31T10:11:20.875301",
     "exception": false,
     "start_time": "2022-05-31T10:11:20.832790",
     "status": "completed"
    },
    "tags": []
   },
   "outputs": [
    {
     "data": {
      "text/plain": [
       "((60000, 28, 28), (60000,))"
      ]
     },
     "execution_count": 6,
     "metadata": {},
     "output_type": "execute_result"
    }
   ],
   "source": [
    "train_images.shape, train_labels.shape"
   ]
  },
  {
   "cell_type": "code",
   "execution_count": 7,
   "id": "f50dc2bb",
   "metadata": {
    "execution": {
     "iopub.execute_input": "2022-05-31T10:11:20.931775Z",
     "iopub.status.busy": "2022-05-31T10:11:20.931208Z",
     "iopub.status.idle": "2022-05-31T10:11:21.176938Z",
     "shell.execute_reply": "2022-05-31T10:11:21.176396Z"
    },
    "papermill": {
     "duration": 0.277085,
     "end_time": "2022-05-31T10:11:21.177055",
     "exception": false,
     "start_time": "2022-05-31T10:11:20.899970",
     "status": "completed"
    },
    "tags": []
   },
   "outputs": [],
   "source": [
    "test_images = mnist.test_images()\n",
    "test_labels = mnist.test_labels()"
   ]
  },
  {
   "cell_type": "code",
   "execution_count": 8,
   "id": "fc38cf1b",
   "metadata": {
    "execution": {
     "iopub.execute_input": "2022-05-31T10:11:21.230388Z",
     "iopub.status.busy": "2022-05-31T10:11:21.229823Z",
     "iopub.status.idle": "2022-05-31T10:11:21.243716Z",
     "shell.execute_reply": "2022-05-31T10:11:21.243249Z"
    },
    "papermill": {
     "duration": 0.041721,
     "end_time": "2022-05-31T10:11:21.243821",
     "exception": false,
     "start_time": "2022-05-31T10:11:21.202100",
     "status": "completed"
    },
    "tags": []
   },
   "outputs": [
    {
     "data": {
      "text/plain": [
       "((10000, 28, 28), (10000,))"
      ]
     },
     "execution_count": 8,
     "metadata": {},
     "output_type": "execute_result"
    }
   ],
   "source": [
    "test_images.shape, test_labels.shape"
   ]
  },
  {
   "cell_type": "code",
   "execution_count": 9,
   "id": "f9ed8fe0",
   "metadata": {
    "execution": {
     "iopub.execute_input": "2022-05-31T10:11:21.308351Z",
     "iopub.status.busy": "2022-05-31T10:11:21.307764Z",
     "iopub.status.idle": "2022-05-31T10:11:21.438988Z",
     "shell.execute_reply": "2022-05-31T10:11:21.439425Z"
    },
    "papermill": {
     "duration": 0.170898,
     "end_time": "2022-05-31T10:11:21.439576",
     "exception": false,
     "start_time": "2022-05-31T10:11:21.268678",
     "status": "completed"
    },
    "tags": []
   },
   "outputs": [
    {
     "name": "stdout",
     "output_type": "stream",
     "text": [
      "2\n"
     ]
    },
    {
     "data": {
      "text/plain": [
       "<matplotlib.image.AxesImage at 0x7f1c82804eb8>"
      ]
     },
     "execution_count": 9,
     "metadata": {},
     "output_type": "execute_result"
    },
    {
     "data": {
      "image/png": "[encoded data removed]",
      "text/plain": [
       "<Figure size 432x288 with 1 Axes>"
      ]
     },
     "metadata": {
      "needs_background": "light"
     },
     "output_type": "display_data"
    }
   ],
   "source": [
    "image_index = 7776 # You may select anything up to 60,000\n",
    "print(train_labels[image_index]) \n",
    "plt.imshow(train_images[image_index], cmap='Greys')"
   ]
  },
  {
   "cell_type": "markdown",
   "id": "a8d2388d",
   "metadata": {
    "papermill": {
     "duration": 0.025966,
     "end_time": "2022-05-31T10:11:21.492107",
     "exception": false,
     "start_time": "2022-05-31T10:11:21.466141",
     "status": "completed"
    },
    "tags": []
   },
   "source": [
    "## Filter data to get 3 and 8 out"
   ]
  },
  {
   "cell_type": "code",
   "execution_count": 10,
   "id": "776f7fc7",
   "metadata": {
    "execution": {
     "iopub.execute_input": "2022-05-31T10:11:21.548157Z",
     "iopub.status.busy": "2022-05-31T10:11:21.547556Z",
     "iopub.status.idle": "2022-05-31T10:11:21.565738Z",
     "shell.execute_reply": "2022-05-31T10:11:21.566225Z"
    },
    "papermill": {
     "duration": 0.048395,
     "end_time": "2022-05-31T10:11:21.566355",
     "exception": false,
     "start_time": "2022-05-31T10:11:21.517960",
     "status": "completed"
    },
    "tags": []
   },
   "outputs": [],
   "source": [
    "train_filter = np.where((train_labels == 3 ) | (train_labels == 8))\n",
    "test_filter = np.where((test_labels == 3) | (test_labels == 8))\n",
    "X_train, y_train = train_images[train_filter], train_labels[train_filter]\n",
    "X_test, y_test = test_images[test_filter], test_labels[test_filter]"
   ]
  },
  {
   "cell_type": "markdown",
   "id": "948f0b7e",
   "metadata": {
    "papermill": {
     "duration": 0.025791,
     "end_time": "2022-05-31T10:11:21.618367",
     "exception": false,
     "start_time": "2022-05-31T10:11:21.592576",
     "status": "completed"
    },
    "tags": []
   },
   "source": [
    "We normalize the pizel values in the 0 to 1 range"
   ]
  },
  {
   "cell_type": "code",
   "execution_count": 11,
   "id": "ee4c2166",
   "metadata": {
    "execution": {
     "iopub.execute_input": "2022-05-31T10:11:21.674848Z",
     "iopub.status.busy": "2022-05-31T10:11:21.674277Z",
     "iopub.status.idle": "2022-05-31T10:11:21.721252Z",
     "shell.execute_reply": "2022-05-31T10:11:21.720660Z"
    },
    "papermill": {
     "duration": 0.077218,
     "end_time": "2022-05-31T10:11:21.721385",
     "exception": false,
     "start_time": "2022-05-31T10:11:21.644167",
     "status": "completed"
    },
    "tags": []
   },
   "outputs": [],
   "source": [
    "X_train = X_train/255.\n",
    "X_test = X_test/255."
   ]
  },
  {
   "cell_type": "markdown",
   "id": "ddcf4fab",
   "metadata": {
    "papermill": {
     "duration": 0.025997,
     "end_time": "2022-05-31T10:11:21.773804",
     "exception": false,
     "start_time": "2022-05-31T10:11:21.747807",
     "status": "completed"
    },
    "tags": []
   },
   "source": [
    "And setup the labels as 1 (when the digit is 3) and 0 (when the digit is 8)"
   ]
  },
  {
   "cell_type": "code",
   "execution_count": 12,
   "id": "7dc908f2",
   "metadata": {
    "execution": {
     "iopub.execute_input": "2022-05-31T10:11:21.829391Z",
     "iopub.status.busy": "2022-05-31T10:11:21.828820Z",
     "iopub.status.idle": "2022-05-31T10:11:21.841955Z",
     "shell.execute_reply": "2022-05-31T10:11:21.841488Z"
    },
    "papermill": {
     "duration": 0.042378,
     "end_time": "2022-05-31T10:11:21.842061",
     "exception": false,
     "start_time": "2022-05-31T10:11:21.799683",
     "status": "completed"
    },
    "tags": []
   },
   "outputs": [],
   "source": [
    "y_train = 1*(y_train==3)\n",
    "y_test = 1*(y_test==3)"
   ]
  },
  {
   "cell_type": "code",
   "execution_count": 13,
   "id": "01e4e969",
   "metadata": {
    "execution": {
     "iopub.execute_input": "2022-05-31T10:11:21.897152Z",
     "iopub.status.busy": "2022-05-31T10:11:21.896589Z",
     "iopub.status.idle": "2022-05-31T10:11:21.909832Z",
     "shell.execute_reply": "2022-05-31T10:11:21.909364Z"
    },
    "papermill": {
     "duration": 0.042007,
     "end_time": "2022-05-31T10:11:21.909938",
     "exception": false,
     "start_time": "2022-05-31T10:11:21.867931",
     "status": "completed"
    },
    "tags": []
   },
   "outputs": [
    {
     "data": {
      "text/plain": [
       "((11982, 28, 28), (1984, 28, 28))"
      ]
     },
     "execution_count": 13,
     "metadata": {},
     "output_type": "execute_result"
    }
   ],
   "source": [
    "X_train.shape, X_test.shape"
   ]
  },
  {
   "cell_type": "markdown",
   "id": "5ccf3f85",
   "metadata": {
    "papermill": {
     "duration": 0.025991,
     "end_time": "2022-05-31T10:11:21.962129",
     "exception": false,
     "start_time": "2022-05-31T10:11:21.936138",
     "status": "completed"
    },
    "tags": []
   },
   "source": [
    "We reshape the data to flatten the image pixels into a set of features or co-variates:"
   ]
  },
  {
   "cell_type": "code",
   "execution_count": 14,
   "id": "5286a4a3",
   "metadata": {
    "execution": {
     "iopub.execute_input": "2022-05-31T10:11:22.018280Z",
     "iopub.status.busy": "2022-05-31T10:11:22.017708Z",
     "iopub.status.idle": "2022-05-31T10:11:22.031571Z",
     "shell.execute_reply": "2022-05-31T10:11:22.031102Z"
    },
    "papermill": {
     "duration": 0.043294,
     "end_time": "2022-05-31T10:11:22.031678",
     "exception": false,
     "start_time": "2022-05-31T10:11:21.988384",
     "status": "completed"
    },
    "tags": []
   },
   "outputs": [
    {
     "data": {
      "text/plain": [
       "((11982, 784), (1984, 784))"
      ]
     },
     "execution_count": 14,
     "metadata": {},
     "output_type": "execute_result"
    }
   ],
   "source": [
    "X_train = X_train.reshape(X_train.shape[0], -1)\n",
    "X_test = X_test.reshape(X_test.shape[0], -1)\n",
    "X_train.shape, X_test.shape"
   ]
  },
  {
   "cell_type": "code",
   "execution_count": 15,
   "id": "73c5f88a",
   "metadata": {
    "execution": {
     "iopub.execute_input": "2022-05-31T10:11:22.088544Z",
     "iopub.status.busy": "2022-05-31T10:11:22.087932Z",
     "iopub.status.idle": "2022-05-31T10:11:22.106423Z",
     "shell.execute_reply": "2022-05-31T10:11:22.105970Z"
    },
    "papermill": {
     "duration": 0.048405,
     "end_time": "2022-05-31T10:11:22.106539",
     "exception": false,
     "start_time": "2022-05-31T10:11:22.058134",
     "status": "completed"
    },
    "tags": []
   },
   "outputs": [],
   "source": [
    "#Impoting functions from 'Kudzu'\n",
    "from kudzu.model import Model\n",
    "from kudzu.train import Learner\n",
    "from kudzu.optim import GD\n",
    "from kudzu.data import Data, Sampler,Dataloader\n",
    "\n",
    "from kudzu.callbacks import AccCallback\n",
    "from kudzu.callbacks import ClfCallback\n",
    "\n",
    "from kudzu.loss import MSE\n",
    "\n",
    "from kudzu.layer import Sigmoid,Relu\n",
    "from kudzu.layer import Affine"
   ]
  },
  {
   "cell_type": "markdown",
   "id": "bc01172a",
   "metadata": {
    "papermill": {
     "duration": 0.02651,
     "end_time": "2022-05-31T10:11:22.159775",
     "exception": false,
     "start_time": "2022-05-31T10:11:22.133265",
     "status": "completed"
    },
    "tags": []
   },
   "source": [
    "### Let us create a `Config` class, to store important parameters. \n",
    "This class essentially plays the role of a dictionary."
   ]
  },
  {
   "cell_type": "code",
   "execution_count": 16,
   "id": "978281aa",
   "metadata": {
    "execution": {
     "iopub.execute_input": "2022-05-31T10:11:22.229572Z",
     "iopub.status.busy": "2022-05-31T10:11:22.228963Z",
     "iopub.status.idle": "2022-05-31T10:11:22.233382Z",
     "shell.execute_reply": "2022-05-31T10:11:22.233828Z"
    },
    "papermill": {
     "duration": 0.047661,
     "end_time": "2022-05-31T10:11:22.233960",
     "exception": false,
     "start_time": "2022-05-31T10:11:22.186299",
     "status": "completed"
    },
    "tags": []
   },
   "outputs": [],
   "source": [
    "class Config:\n",
    "    pass\n",
    "config = Config()\n",
    "config.lr = 0.001\n",
    "config.num_epochs = 250\n",
    "config.bs = 50"
   ]
  },
  {
   "cell_type": "markdown",
   "id": "1385fa59",
   "metadata": {
    "papermill": {
     "duration": 0.026375,
     "end_time": "2022-05-31T10:11:22.286980",
     "exception": false,
     "start_time": "2022-05-31T10:11:22.260605",
     "status": "completed"
    },
    "tags": []
   },
   "source": [
    "### Running Models with the Training data\n",
    "Details about the network layers:\n",
    "- A first affine layer has 784 inputs and does 100 affine transforms. These are followed by a Relu\n",
    "- A second affine layer has 100 inputs from the 100 activations of the past layer, and does 100 affine transforms. These are followed by a Relu\n",
    "- A third affine layer has 100 activations and does 2 affine transformations to create an embedding for visualization. There is no non-linearity here.\n",
    "- A final \"logistic regression\" which has an affine transform from 2 inputs to 1 output, which is squeezed through a sigmoid.\n"
   ]
  },
  {
   "cell_type": "code",
   "execution_count": 17,
   "id": "2b9c66db",
   "metadata": {
    "execution": {
     "iopub.execute_input": "2022-05-31T10:11:22.353218Z",
     "iopub.status.busy": "2022-05-31T10:11:22.343717Z",
     "iopub.status.idle": "2022-05-31T10:11:22.359645Z",
     "shell.execute_reply": "2022-05-31T10:11:22.360110Z"
    },
    "papermill": {
     "duration": 0.046811,
     "end_time": "2022-05-31T10:11:22.360235",
     "exception": false,
     "start_time": "2022-05-31T10:11:22.313424",
     "status": "completed"
    },
    "tags": []
   },
   "outputs": [],
   "source": [
    "data = Data(X_train, y_train.reshape(-1,1))\n",
    "sampler = Sampler(data, config.bs, shuffle=True)\n",
    "\n",
    "dl = Dataloader(data, sampler)\n",
    "\n",
    "opt = GD(config.lr)\n",
    "loss = MSE()"
   ]
  },
  {
   "cell_type": "code",
   "execution_count": 18,
   "id": "b275e4c2",
   "metadata": {
    "execution": {
     "iopub.execute_input": "2022-05-31T10:11:22.426575Z",
     "iopub.status.busy": "2022-05-31T10:11:22.420759Z",
     "iopub.status.idle": "2022-05-31T10:11:22.428722Z",
     "shell.execute_reply": "2022-05-31T10:11:22.429173Z"
    },
    "papermill": {
     "duration": 0.042583,
     "end_time": "2022-05-31T10:11:22.429293",
     "exception": false,
     "start_time": "2022-05-31T10:11:22.386710",
     "status": "completed"
    },
    "tags": []
   },
   "outputs": [],
   "source": [
    "training_data_x = X_train\n",
    "testing_data_x = X_test\n",
    "training_data_y = y_train.reshape(-1,1)\n",
    "testing_data_y = y_test.reshape(-1,1)"
   ]
  },
  {
   "cell_type": "code",
   "execution_count": 19,
   "id": "76951160",
   "metadata": {
    "execution": {
     "iopub.execute_input": "2022-05-31T10:11:22.485975Z",
     "iopub.status.busy": "2022-05-31T10:11:22.485409Z",
     "iopub.status.idle": "2022-05-31T10:11:22.501169Z",
     "shell.execute_reply": "2022-05-31T10:11:22.500702Z"
    },
    "papermill": {
     "duration": 0.045709,
     "end_time": "2022-05-31T10:11:22.501271",
     "exception": false,
     "start_time": "2022-05-31T10:11:22.455562",
     "status": "completed"
    },
    "tags": []
   },
   "outputs": [
    {
     "name": "stdout",
     "output_type": "stream",
     "text": [
      "xavier\n",
      "xavier\n",
      "xavier\n",
      "xavier\n",
      "xavier\n"
     ]
    }
   ],
   "source": [
    "layers = [Affine(\"first\", 784, 100), Relu(\"first\"), Affine(\"second\", 100, 100), Relu(\"second\"), Affine(\"third\", 100, 2), Affine(\"last\", 2, 1), Sigmoid(\"last\")]\n",
    "model_nn = Model(layers)\n",
    "model_lr = Model([Affine(\"logits\", 784, 1), Sigmoid(\"sigmoid\")])"
   ]
  },
  {
   "cell_type": "code",
   "execution_count": 20,
   "id": "6eede77a",
   "metadata": {
    "execution": {
     "iopub.execute_input": "2022-05-31T10:11:22.558245Z",
     "iopub.status.busy": "2022-05-31T10:11:22.557648Z",
     "iopub.status.idle": "2022-05-31T10:11:22.570398Z",
     "shell.execute_reply": "2022-05-31T10:11:22.569937Z"
    },
    "papermill": {
     "duration": 0.042482,
     "end_time": "2022-05-31T10:11:22.570500",
     "exception": false,
     "start_time": "2022-05-31T10:11:22.528018",
     "status": "completed"
    },
    "tags": []
   },
   "outputs": [],
   "source": [
    "nn_learner = Learner(loss, model_nn, opt, config.num_epochs)\n",
    "acc_nn = ClfCallback(nn_learner, config.bs, training_data_x , testing_data_x, training_data_y, testing_data_y)\n",
    "nn_learner.set_callbacks([acc_nn])"
   ]
  },
  {
   "cell_type": "code",
   "execution_count": 21,
   "id": "877b6cc7",
   "metadata": {
    "execution": {
     "iopub.execute_input": "2022-05-31T10:11:22.629362Z",
     "iopub.status.busy": "2022-05-31T10:11:22.628798Z",
     "iopub.status.idle": "2022-05-31T10:11:22.639356Z",
     "shell.execute_reply": "2022-05-31T10:11:22.639801Z"
    },
    "papermill": {
     "duration": 0.042771,
     "end_time": "2022-05-31T10:11:22.639915",
     "exception": false,
     "start_time": "2022-05-31T10:11:22.597144",
     "status": "completed"
    },
    "tags": []
   },
   "outputs": [],
   "source": [
    "lr_learner = Learner(loss, model_lr, opt, config.num_epochs)\n",
    "acc_lr = ClfCallback(lr_learner, config.bs, training_data_x , testing_data_x, training_data_y, testing_data_y)\n",
    "lr_learner.set_callbacks([acc_lr])"
   ]
  },
  {
   "cell_type": "code",
   "execution_count": 22,
   "id": "d9b133c3",
   "metadata": {
    "execution": {
     "iopub.execute_input": "2022-05-31T10:11:22.698179Z",
     "iopub.status.busy": "2022-05-31T10:11:22.697617Z",
     "iopub.status.idle": "2022-05-31T10:12:36.068933Z",
     "shell.execute_reply": "2022-05-31T10:12:36.069770Z"
    },
    "papermill": {
     "duration": 73.403249,
     "end_time": "2022-05-31T10:12:36.069919",
     "exception": false,
     "start_time": "2022-05-31T10:11:22.666670",
     "status": "completed"
    },
    "tags": []
   },
   "outputs": [
    {
     "name": "stdout",
     "output_type": "stream",
     "text": [
      "Epoch 0, Loss 0.2392\n",
      "Training Accuracy: 0.6871, Testing Accuracy: 0.6996\n",
      "\n"
     ]
    },
    {
     "name": "stdout",
     "output_type": "stream",
     "text": [
      "Epoch 10, Loss 0.1301\n",
      "Training Accuracy: 0.8867, Testing Accuracy: 0.9062\n",
      "\n"
     ]
    },
    {
     "name": "stdout",
     "output_type": "stream",
     "text": [
      "Epoch 20, Loss 0.0719\n",
      "Training Accuracy: 0.9281, Testing Accuracy: 0.9435\n",
      "\n"
     ]
    },
    {
     "name": "stdout",
     "output_type": "stream",
     "text": [
      "Epoch 30, Loss 0.0517\n",
      "Training Accuracy: 0.9459, Testing Accuracy: 0.9516\n",
      "\n"
     ]
    },
    {
     "name": "stdout",
     "output_type": "stream",
     "text": [
      "Epoch 40, Loss 0.0426\n",
      "Training Accuracy: 0.9530, Testing Accuracy: 0.9597\n",
      "\n"
     ]
    },
    {
     "name": "stdout",
     "output_type": "stream",
     "text": [
      "Epoch 50, Loss 0.0376\n",
      "Training Accuracy: 0.9575, Testing Accuracy: 0.9637\n",
      "\n"
     ]
    },
    {
     "name": "stdout",
     "output_type": "stream",
     "text": [
      "Epoch 60, Loss 0.0343\n",
      "Training Accuracy: 0.9615, Testing Accuracy: 0.9657\n",
      "\n"
     ]
    },
    {
     "name": "stdout",
     "output_type": "stream",
     "text": [
      "Epoch 70, Loss 0.032\n",
      "Training Accuracy: 0.9637, Testing Accuracy: 0.9672\n",
      "\n"
     ]
    },
    {
     "name": "stdout",
     "output_type": "stream",
     "text": [
      "Epoch 80, Loss 0.0303\n",
      "Training Accuracy: 0.9653, Testing Accuracy: 0.9688\n",
      "\n"
     ]
    },
    {
     "name": "stdout",
     "output_type": "stream",
     "text": [
      "Epoch 90, Loss 0.029\n",
      "Training Accuracy: 0.9664, Testing Accuracy: 0.9682\n",
      "\n"
     ]
    },
    {
     "name": "stdout",
     "output_type": "stream",
     "text": [
      "Epoch 100, Loss 0.0278\n",
      "Training Accuracy: 0.9676, Testing Accuracy: 0.9688\n",
      "\n"
     ]
    },
    {
     "name": "stdout",
     "output_type": "stream",
     "text": [
      "Epoch 110, Loss 0.0269\n",
      "Training Accuracy: 0.9691, Testing Accuracy: 0.9698\n",
      "\n"
     ]
    },
    {
     "name": "stdout",
     "output_type": "stream",
     "text": [
      "Epoch 120, Loss 0.026\n",
      "Training Accuracy: 0.9700, Testing Accuracy: 0.9693\n",
      "\n"
     ]
    },
    {
     "name": "stdout",
     "output_type": "stream",
     "text": [
      "Epoch 130, Loss 0.0253\n",
      "Training Accuracy: 0.9703, Testing Accuracy: 0.9693\n",
      "\n"
     ]
    },
    {
     "name": "stdout",
     "output_type": "stream",
     "text": [
      "Epoch 140, Loss 0.0246\n",
      "Training Accuracy: 0.9712, Testing Accuracy: 0.9698\n",
      "\n"
     ]
    },
    {
     "name": "stdout",
     "output_type": "stream",
     "text": [
      "Epoch 150, Loss 0.024\n",
      "Training Accuracy: 0.9722, Testing Accuracy: 0.9693\n",
      "\n"
     ]
    },
    {
     "name": "stdout",
     "output_type": "stream",
     "text": [
      "Epoch 160, Loss 0.0235\n",
      "Training Accuracy: 0.9730, Testing Accuracy: 0.9698\n",
      "\n"
     ]
    },
    {
     "name": "stdout",
     "output_type": "stream",
     "text": [
      "Epoch 170, Loss 0.023\n",
      "Training Accuracy: 0.9741, Testing Accuracy: 0.9708\n",
      "\n"
     ]
    },
    {
     "name": "stdout",
     "output_type": "stream",
     "text": [
      "Epoch 180, Loss 0.0225\n",
      "Training Accuracy: 0.9749, Testing Accuracy: 0.9708\n",
      "\n"
     ]
    },
    {
     "name": "stdout",
     "output_type": "stream",
     "text": [
      "Epoch 190, Loss 0.022\n",
      "Training Accuracy: 0.9756, Testing Accuracy: 0.9718\n",
      "\n"
     ]
    },
    {
     "name": "stdout",
     "output_type": "stream",
     "text": [
      "Epoch 200, Loss 0.0216\n",
      "Training Accuracy: 0.9759, Testing Accuracy: 0.9723\n",
      "\n"
     ]
    },
    {
     "name": "stdout",
     "output_type": "stream",
     "text": [
      "Epoch 210, Loss 0.0212\n",
      "Training Accuracy: 0.9763, Testing Accuracy: 0.9723\n",
      "\n"
     ]
    },
    {
     "name": "stdout",
     "output_type": "stream",
     "text": [
      "Epoch 220, Loss 0.0208\n",
      "Training Accuracy: 0.9769, Testing Accuracy: 0.9723\n",
      "\n"
     ]
    },
    {
     "name": "stdout",
     "output_type": "stream",
     "text": [
      "Epoch 230, Loss 0.0204\n",
      "Training Accuracy: 0.9771, Testing Accuracy: 0.9718\n",
      "\n"
     ]
    },
    {
     "name": "stdout",
     "output_type": "stream",
     "text": [
      "Epoch 240, Loss 0.0201\n",
      "Training Accuracy: 0.9773, Testing Accuracy: 0.9723\n",
      "\n"
     ]
    },
    {
     "data": {
      "text/plain": [
       "0.0006219328119903307"
      ]
     },
     "execution_count": 22,
     "metadata": {},
     "output_type": "execute_result"
    }
   ],
   "source": [
    "nn_learner.train_loop(dl)"
   ]
  },
  {
   "cell_type": "code",
   "execution_count": 23,
   "id": "e0163366",
   "metadata": {
    "execution": {
     "iopub.execute_input": "2022-05-31T10:12:36.150463Z",
     "iopub.status.busy": "2022-05-31T10:12:36.149898Z",
     "iopub.status.idle": "2022-05-31T10:12:49.074450Z",
     "shell.execute_reply": "2022-05-31T10:12:49.075270Z"
    },
    "papermill": {
     "duration": 12.970997,
     "end_time": "2022-05-31T10:12:49.075417",
     "exception": false,
     "start_time": "2022-05-31T10:12:36.104420",
     "status": "completed"
    },
    "tags": []
   },
   "outputs": [
    {
     "name": "stdout",
     "output_type": "stream",
     "text": [
      "Epoch 0, Loss 0.2426\n",
      "Training Accuracy: 0.7001, Testing Accuracy: 0.6840\n",
      "\n"
     ]
    },
    {
     "name": "stdout",
     "output_type": "stream",
     "text": [
      "Epoch 10, Loss 0.1029\n",
      "Training Accuracy: 0.9074, Testing Accuracy: 0.9133\n",
      "\n"
     ]
    },
    {
     "name": "stdout",
     "output_type": "stream",
     "text": [
      "Epoch 20, Loss 0.0794\n",
      "Training Accuracy: 0.9260, Testing Accuracy: 0.9350\n",
      "\n"
     ]
    },
    {
     "name": "stdout",
     "output_type": "stream",
     "text": [
      "Epoch 30, Loss 0.0685\n",
      "Training Accuracy: 0.9342, Testing Accuracy: 0.9446\n",
      "\n"
     ]
    },
    {
     "name": "stdout",
     "output_type": "stream",
     "text": [
      "Epoch 40, Loss 0.062\n",
      "Training Accuracy: 0.9401, Testing Accuracy: 0.9521\n",
      "\n"
     ]
    },
    {
     "name": "stdout",
     "output_type": "stream",
     "text": [
      "Epoch 50, Loss 0.0575\n",
      "Training Accuracy: 0.9446, Testing Accuracy: 0.9551\n",
      "\n"
     ]
    },
    {
     "name": "stdout",
     "output_type": "stream",
     "text": [
      "Epoch 60, Loss 0.0542\n",
      "Training Accuracy: 0.9463, Testing Accuracy: 0.9561\n",
      "\n"
     ]
    },
    {
     "name": "stdout",
     "output_type": "stream",
     "text": [
      "Epoch 70, Loss 0.0517\n",
      "Training Accuracy: 0.9487, Testing Accuracy: 0.9582\n",
      "\n"
     ]
    },
    {
     "name": "stdout",
     "output_type": "stream",
     "text": [
      "Epoch 80, Loss 0.0496\n",
      "Training Accuracy: 0.9502, Testing Accuracy: 0.9592\n",
      "\n"
     ]
    },
    {
     "name": "stdout",
     "output_type": "stream",
     "text": [
      "Epoch 90, Loss 0.0479\n",
      "Training Accuracy: 0.9515, Testing Accuracy: 0.9622\n",
      "\n"
     ]
    },
    {
     "name": "stdout",
     "output_type": "stream",
     "text": [
      "Epoch 100, Loss 0.0465\n",
      "Training Accuracy: 0.9525, Testing Accuracy: 0.9632\n",
      "\n"
     ]
    },
    {
     "name": "stdout",
     "output_type": "stream",
     "text": [
      "Epoch 110, Loss 0.0453\n",
      "Training Accuracy: 0.9538, Testing Accuracy: 0.9647\n",
      "\n"
     ]
    },
    {
     "name": "stdout",
     "output_type": "stream",
     "text": [
      "Epoch 120, Loss 0.0442\n",
      "Training Accuracy: 0.9550, Testing Accuracy: 0.9652\n",
      "\n"
     ]
    },
    {
     "name": "stdout",
     "output_type": "stream",
     "text": [
      "Epoch 130, Loss 0.0432\n",
      "Training Accuracy: 0.9559, Testing Accuracy: 0.9652\n",
      "\n"
     ]
    },
    {
     "name": "stdout",
     "output_type": "stream",
     "text": [
      "Epoch 140, Loss 0.0424\n",
      "Training Accuracy: 0.9567, Testing Accuracy: 0.9647\n",
      "\n"
     ]
    },
    {
     "name": "stdout",
     "output_type": "stream",
     "text": [
      "Epoch 150, Loss 0.0417\n",
      "Training Accuracy: 0.9573, Testing Accuracy: 0.9652\n",
      "\n"
     ]
    },
    {
     "name": "stdout",
     "output_type": "stream",
     "text": [
      "Epoch 160, Loss 0.041\n",
      "Training Accuracy: 0.9577, Testing Accuracy: 0.9657\n",
      "\n"
     ]
    },
    {
     "name": "stdout",
     "output_type": "stream",
     "text": [
      "Epoch 170, Loss 0.0403\n",
      "Training Accuracy: 0.9581, Testing Accuracy: 0.9662\n",
      "\n"
     ]
    },
    {
     "name": "stdout",
     "output_type": "stream",
     "text": [
      "Epoch 180, Loss 0.0398\n",
      "Training Accuracy: 0.9586, Testing Accuracy: 0.9662\n",
      "\n"
     ]
    },
    {
     "name": "stdout",
     "output_type": "stream",
     "text": [
      "Epoch 190, Loss 0.0393\n",
      "Training Accuracy: 0.9589, Testing Accuracy: 0.9662\n",
      "\n"
     ]
    },
    {
     "name": "stdout",
     "output_type": "stream",
     "text": [
      "Epoch 200, Loss 0.0388\n",
      "Training Accuracy: 0.9594, Testing Accuracy: 0.9667\n",
      "\n"
     ]
    },
    {
     "name": "stdout",
     "output_type": "stream",
     "text": [
      "Epoch 210, Loss 0.0383\n",
      "Training Accuracy: 0.9597, Testing Accuracy: 0.9667\n",
      "\n"
     ]
    },
    {
     "name": "stdout",
     "output_type": "stream",
     "text": [
      "Epoch 220, Loss 0.0379\n",
      "Training Accuracy: 0.9600, Testing Accuracy: 0.9662\n",
      "\n"
     ]
    },
    {
     "name": "stdout",
     "output_type": "stream",
     "text": [
      "Epoch 230, Loss 0.0375\n",
      "Training Accuracy: 0.9603, Testing Accuracy: 0.9657\n",
      "\n"
     ]
    },
    {
     "name": "stdout",
     "output_type": "stream",
     "text": [
      "Epoch 240, Loss 0.0371\n",
      "Training Accuracy: 0.9608, Testing Accuracy: 0.9657\n",
      "\n"
     ]
    },
    {
     "data": {
      "text/plain": [
       "0.03913156866024997"
      ]
     },
     "execution_count": 23,
     "metadata": {},
     "output_type": "execute_result"
    }
   ],
   "source": [
    "lr_learner.train_loop(dl)"
   ]
  },
  {
   "cell_type": "code",
   "execution_count": 24,
   "id": "ca410940",
   "metadata": {
    "execution": {
     "iopub.execute_input": "2022-05-31T10:12:49.165922Z",
     "iopub.status.busy": "2022-05-31T10:12:49.165340Z",
     "iopub.status.idle": "2022-05-31T10:12:49.387377Z",
     "shell.execute_reply": "2022-05-31T10:12:49.386899Z"
    },
    "papermill": {
     "duration": 0.271486,
     "end_time": "2022-05-31T10:12:49.387497",
     "exception": false,
     "start_time": "2022-05-31T10:12:49.116011",
     "status": "completed"
    },
    "tags": []
   },
   "outputs": [
    {
     "data": {
      "text/plain": [
       "<matplotlib.legend.Legend at 0x7f1c82375518>"
      ]
     },
     "execution_count": 24,
     "metadata": {},
     "output_type": "execute_result"
    },
    {
     "data": {
      "image/png": "[encoded data removed]",
      "text/plain": [
       "<Figure size 1080x720 with 1 Axes>"
      ]
     },
     "metadata": {
      "needs_background": "light"
     },
     "output_type": "display_data"
    }
   ],
   "source": [
    "#comparing the results of NN and LR\n",
    "plt.figure(figsize=(15,10))\n",
    "\n",
    "# Neural Network plots\n",
    "plt.plot(acc_nn.accuracies, 'r-', label = \"Training Accuracies - NN\")\n",
    "plt.plot(acc_nn.test_accuracies, 'g-', label = \"Testing Accuracies - NN\")\n",
    "\n",
    "# Logistic Regression plots\n",
    "plt.plot(acc_lr.accuracies, 'k-', label = \"Training Accuracies - LR\")\n",
    "plt.plot(acc_lr.test_accuracies, 'b-', label = \"Testing Accuracies - LR\")\n",
    "plt.legend()"
   ]
  },
  {
   "cell_type": "markdown",
   "id": "80dfb35c",
   "metadata": {
    "papermill": {
     "duration": 0.041449,
     "end_time": "2022-05-31T10:12:49.471574",
     "exception": false,
     "start_time": "2022-05-31T10:12:49.430125",
     "status": "completed"
    },
    "tags": []
   },
   "source": [
    "#### Plotting the outputs of this layer of the NN.\n"
   ]
  },
  {
   "cell_type": "code",
   "execution_count": 25,
   "id": "45eb2ff5",
   "metadata": {
    "execution": {
     "iopub.execute_input": "2022-05-31T10:12:49.558620Z",
     "iopub.status.busy": "2022-05-31T10:12:49.558042Z",
     "iopub.status.idle": "2022-05-31T10:12:49.578304Z",
     "shell.execute_reply": "2022-05-31T10:12:49.577827Z"
    },
    "papermill": {
     "duration": 0.065326,
     "end_time": "2022-05-31T10:12:49.578415",
     "exception": false,
     "start_time": "2022-05-31T10:12:49.513089",
     "status": "completed"
    },
    "tags": []
   },
   "outputs": [],
   "source": [
    "new_model = Model(layers[:-2])\n",
    "testing_plot = new_model(testing_data_x)"
   ]
  },
  {
   "cell_type": "code",
   "execution_count": 26,
   "id": "4c0a5485",
   "metadata": {
    "execution": {
     "iopub.execute_input": "2022-05-31T10:12:49.676202Z",
     "iopub.status.busy": "2022-05-31T10:12:49.675264Z",
     "iopub.status.idle": "2022-05-31T10:12:49.874081Z",
     "shell.execute_reply": "2022-05-31T10:12:49.874536Z"
    },
    "papermill": {
     "duration": 0.252521,
     "end_time": "2022-05-31T10:12:49.874681",
     "exception": false,
     "start_time": "2022-05-31T10:12:49.622160",
     "status": "completed"
    },
    "tags": []
   },
   "outputs": [
    {
     "data": {
      "text/plain": [
       "Text(0.5, 1.0, 'Outputs')"
      ]
     },
     "execution_count": 26,
     "metadata": {},
     "output_type": "execute_result"
    },
    {
     "data": {
      "image/png": "[encoded data removed]",
      "text/plain": [
       "<Figure size 576x504 with 1 Axes>"
      ]
     },
     "metadata": {
      "needs_background": "light"
     },
     "output_type": "display_data"
    }
   ],
   "source": [
    "# Plotting the scatter plot of points and color coding by class\n",
    "plt.figure(figsize=(8,7))\n",
    "plt.scatter(testing_plot[:,0], testing_plot[:,1], alpha = 0.1, c = y_test.ravel());\n",
    "plt.title('Outputs')"
   ]
  },
  {
   "cell_type": "markdown",
   "id": "a74fcf8f",
   "metadata": {
    "papermill": {
     "duration": 0.043972,
     "end_time": "2022-05-31T10:12:49.962978",
     "exception": false,
     "start_time": "2022-05-31T10:12:49.919006",
     "status": "completed"
    },
    "tags": []
   },
   "source": [
    "Probability contours"
   ]
  },
  {
   "cell_type": "code",
   "execution_count": 27,
   "id": "d0afc8e3",
   "metadata": {
    "execution": {
     "iopub.execute_input": "2022-05-31T10:12:50.085288Z",
     "iopub.status.busy": "2022-05-31T10:12:50.083257Z",
     "iopub.status.idle": "2022-05-31T10:12:50.094607Z",
     "shell.execute_reply": "2022-05-31T10:12:50.094131Z"
    },
    "papermill": {
     "duration": 0.087485,
     "end_time": "2022-05-31T10:12:50.094713",
     "exception": false,
     "start_time": "2022-05-31T10:12:50.007228",
     "status": "completed"
    },
    "tags": []
   },
   "outputs": [],
   "source": [
    "model_prob = Model(layers[-2:]) "
   ]
  },
  {
   "cell_type": "code",
   "execution_count": 28,
   "id": "9b96e238",
   "metadata": {
    "execution": {
     "iopub.execute_input": "2022-05-31T10:12:50.187018Z",
     "iopub.status.busy": "2022-05-31T10:12:50.186441Z",
     "iopub.status.idle": "2022-05-31T10:12:50.199255Z",
     "shell.execute_reply": "2022-05-31T10:12:50.199681Z"
    },
    "papermill": {
     "duration": 0.06124,
     "end_time": "2022-05-31T10:12:50.199810",
     "exception": false,
     "start_time": "2022-05-31T10:12:50.138570",
     "status": "completed"
    },
    "tags": []
   },
   "outputs": [],
   "source": [
    "#creating the x and y ranges according to the above generated plot.\n",
    "x_range = np.linspace(-4, 1, 100) \n",
    "y_range = np.linspace(-6, 6, 100) \n",
    "x_grid, y_grid = np.meshgrid(x_range, y_range) # x_grid and y_grig are of size 100 X 100\n",
    "\n",
    "# converting x_grid and y_grid to continuous arrays\n",
    "x_gridflat = np.ravel(x_grid)\n",
    "y_gridflat = np.ravel(y_grid)\n",
    "\n",
    "# The last layer of the current model takes two columns as input. Hence transpose of np.vstack() is required.\n",
    "X = np.vstack((x_gridflat, y_gridflat)).T\n",
    "\n",
    "prob_contour = model_prob(X).reshape(100,100) "
   ]
  },
  {
   "cell_type": "code",
   "execution_count": 29,
   "id": "da72499a",
   "metadata": {
    "execution": {
     "iopub.execute_input": "2022-05-31T10:12:50.298059Z",
     "iopub.status.busy": "2022-05-31T10:12:50.297490Z",
     "iopub.status.idle": "2022-05-31T10:12:50.542643Z",
     "shell.execute_reply": "2022-05-31T10:12:50.543099Z"
    },
    "papermill": {
     "duration": 0.298982,
     "end_time": "2022-05-31T10:12:50.543234",
     "exception": false,
     "start_time": "2022-05-31T10:12:50.244252",
     "status": "completed"
    },
    "tags": []
   },
   "outputs": [
    {
     "data": {
      "image/png": "[encoded data removed]",
      "text/plain": [
       "<Figure size 720x648 with 1 Axes>"
      ]
     },
     "metadata": {
      "needs_background": "light"
     },
     "output_type": "display_data"
    }
   ],
   "source": [
    "plt.figure(figsize=(10,9))\n",
    "plt.scatter(testing_plot[:,0], testing_plot[:,1], alpha = 0.1, c = y_test.ravel())\n",
    "contours = plt.contour(x_grid,y_grid,prob_contour)\n",
    "plt.title('Probability Contours')\n",
    "plt.clabel(contours, inline = True );"
   ]
  },
  {
   "cell_type": "code",
   "execution_count": null,
   "id": "e81b4ac7",
   "metadata": {
    "papermill": {
     "duration": 0.046412,
     "end_time": "2022-05-31T10:12:50.636574",
     "exception": false,
     "start_time": "2022-05-31T10:12:50.590162",
     "status": "completed"
    },
    "tags": []
   },
   "outputs": [],
   "source": []
  }
 ],
 "metadata": {
  "kernelspec": {
   "display_name": "Python 3",
   "language": "python",
   "name": "python3"
  },
  "language_info": {
   "codemirror_mode": {
    "name": "ipython",
    "version": 3
   },
   "file_extension": ".py",
   "mimetype": "text/x-python",
   "name": "python",
   "nbconvert_exporter": "python",
   "pygments_lexer": "ipython3",
   "version": "3.6.15"
  },
  "papermill": {
   "default_parameters": {},
   "duration": 94.602191,
   "end_time": "2022-05-31T10:12:51.001518",
   "environment_variables": {},
   "exception": null,
   "input_path": "2020-08-11-part2.ipynb",
   "output_path": "2020-08-11-part2.ipynb",
   "parameters": {},
   "start_time": "2022-05-31T10:11:16.399327",
   "version": "2.3.3"
  }
 },
 "nbformat": 4,
 "nbformat_minor": 5
}