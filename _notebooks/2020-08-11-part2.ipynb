{
 "cells": [
  {
   "cell_type": "markdown",
   "id": "98380cd3",
   "metadata": {
    "papermill": {
     "duration": 0.028378,
     "end_time": "2021-12-17T10:08:37.433214",
     "exception": false,
     "start_time": "2021-12-17T10:08:37.404836",
     "status": "completed"
    },
    "tags": []
   },
   "source": [
    "# Distinguish Your Own Digits (DYOD)"
   ]
  },
  {
   "cell_type": "markdown",
   "id": "ef31240d",
   "metadata": {
    "papermill": {
     "duration": 0.023413,
     "end_time": "2021-12-17T10:08:37.480792",
     "exception": false,
     "start_time": "2021-12-17T10:08:37.457379",
     "status": "completed"
    },
    "tags": []
   },
   "source": [
    "You are going to write a classifier that distinguishes between the number 3 and number 8."
   ]
  },
  {
   "cell_type": "code",
   "execution_count": 1,
   "id": "b15c8646",
   "metadata": {
    "execution": {
     "iopub.execute_input": "2021-12-17T10:08:37.539347Z",
     "iopub.status.busy": "2021-12-17T10:08:37.538830Z",
     "iopub.status.idle": "2021-12-17T10:08:37.549175Z",
     "shell.execute_reply": "2021-12-17T10:08:37.549615Z"
    },
    "papermill": {
     "duration": 0.045655,
     "end_time": "2021-12-17T10:08:37.549792",
     "exception": false,
     "start_time": "2021-12-17T10:08:37.504137",
     "status": "completed"
    },
    "tags": []
   },
   "outputs": [],
   "source": [
    "%load_ext autoreload\n",
    "%autoreload 2"
   ]
  },
  {
   "cell_type": "code",
   "execution_count": 2,
   "id": "22ef38dc",
   "metadata": {
    "execution": {
     "iopub.execute_input": "2021-12-17T10:08:37.600800Z",
     "iopub.status.busy": "2021-12-17T10:08:37.600289Z",
     "iopub.status.idle": "2021-12-17T10:08:38.165415Z",
     "shell.execute_reply": "2021-12-17T10:08:38.164955Z"
    },
    "papermill": {
     "duration": 0.592249,
     "end_time": "2021-12-17T10:08:38.165539",
     "exception": false,
     "start_time": "2021-12-17T10:08:37.573290",
     "status": "completed"
    },
    "tags": []
   },
   "outputs": [],
   "source": [
    "%matplotlib inline\n",
    "import numpy as np\n",
    "import matplotlib.pyplot as plt\n",
    "import pandas as pd"
   ]
  },
  {
   "cell_type": "markdown",
   "id": "ba036198",
   "metadata": {
    "papermill": {
     "duration": 0.023655,
     "end_time": "2021-12-17T10:08:38.212907",
     "exception": false,
     "start_time": "2021-12-17T10:08:38.189252",
     "status": "completed"
    },
    "tags": []
   },
   "source": [
    "From the command line run `pip install mnist`. This is a library that will help you bring down the mnist dataset. If you run this from a notebook, you need to put  `!pip install mnist` in a cell by itself."
   ]
  },
  {
   "cell_type": "code",
   "execution_count": 3,
   "id": "bb6ad8a1",
   "metadata": {
    "execution": {
     "iopub.execute_input": "2021-12-17T10:08:38.275211Z",
     "iopub.status.busy": "2021-12-17T10:08:38.270410Z",
     "iopub.status.idle": "2021-12-17T10:08:40.053560Z",
     "shell.execute_reply": "2021-12-17T10:08:40.053016Z"
    },
    "papermill": {
     "duration": 1.817223,
     "end_time": "2021-12-17T10:08:40.053719",
     "exception": false,
     "start_time": "2021-12-17T10:08:38.236496",
     "status": "completed"
    },
    "tags": []
   },
   "outputs": [
    {
     "name": "stdout",
     "output_type": "stream",
     "text": [
      "Collecting mnist\r\n"
     ]
    },
    {
     "name": "stdout",
     "output_type": "stream",
     "text": [
      "  Downloading mnist-0.2.2-py2.py3-none-any.whl (3.5 kB)\r\n",
      "Requirement already satisfied: numpy in /opt/hostedtoolcache/Python/3.6.15/x64/lib/python3.6/site-packages (from mnist) (1.19.5)\r\n"
     ]
    },
    {
     "name": "stdout",
     "output_type": "stream",
     "text": [
      "Installing collected packages: mnist\r\n",
      "Successfully installed mnist-0.2.2\r\n"
     ]
    }
   ],
   "source": [
    "!pip install mnist"
   ]
  },
  {
   "cell_type": "markdown",
   "id": "69df9c9a",
   "metadata": {
    "papermill": {
     "duration": 0.024325,
     "end_time": "2021-12-17T10:08:40.103630",
     "exception": false,
     "start_time": "2021-12-17T10:08:40.079305",
     "status": "completed"
    },
    "tags": []
   },
   "source": [
    "## Preparing the Data"
   ]
  },
  {
   "cell_type": "code",
   "execution_count": 4,
   "id": "7f69d806",
   "metadata": {
    "execution": {
     "iopub.execute_input": "2021-12-17T10:08:40.156188Z",
     "iopub.status.busy": "2021-12-17T10:08:40.155673Z",
     "iopub.status.idle": "2021-12-17T10:08:40.171249Z",
     "shell.execute_reply": "2021-12-17T10:08:40.170833Z"
    },
    "papermill": {
     "duration": 0.043509,
     "end_time": "2021-12-17T10:08:40.171361",
     "exception": false,
     "start_time": "2021-12-17T10:08:40.127852",
     "status": "completed"
    },
    "tags": []
   },
   "outputs": [],
   "source": [
    "import mnist"
   ]
  },
  {
   "cell_type": "code",
   "execution_count": 5,
   "id": "a411e44f",
   "metadata": {
    "execution": {
     "iopub.execute_input": "2021-12-17T10:08:40.223870Z",
     "iopub.status.busy": "2021-12-17T10:08:40.223361Z",
     "iopub.status.idle": "2021-12-17T10:08:40.785722Z",
     "shell.execute_reply": "2021-12-17T10:08:40.785186Z"
    },
    "papermill": {
     "duration": 0.589941,
     "end_time": "2021-12-17T10:08:40.785867",
     "exception": false,
     "start_time": "2021-12-17T10:08:40.195926",
     "status": "completed"
    },
    "tags": []
   },
   "outputs": [],
   "source": [
    "train_images = mnist.train_images()\n",
    "train_labels = mnist.train_labels()"
   ]
  },
  {
   "cell_type": "code",
   "execution_count": 6,
   "id": "dceab3a5",
   "metadata": {
    "execution": {
     "iopub.execute_input": "2021-12-17T10:08:40.838932Z",
     "iopub.status.busy": "2021-12-17T10:08:40.838421Z",
     "iopub.status.idle": "2021-12-17T10:08:40.852799Z",
     "shell.execute_reply": "2021-12-17T10:08:40.852373Z"
    },
    "papermill": {
     "duration": 0.041629,
     "end_time": "2021-12-17T10:08:40.852906",
     "exception": false,
     "start_time": "2021-12-17T10:08:40.811277",
     "status": "completed"
    },
    "tags": []
   },
   "outputs": [
    {
     "data": {
      "text/plain": [
       "((60000, 28, 28), (60000,))"
      ]
     },
     "execution_count": 6,
     "metadata": {},
     "output_type": "execute_result"
    }
   ],
   "source": [
    "train_images.shape, train_labels.shape"
   ]
  },
  {
   "cell_type": "code",
   "execution_count": 7,
   "id": "f50dc2bb",
   "metadata": {
    "execution": {
     "iopub.execute_input": "2021-12-17T10:08:40.905155Z",
     "iopub.status.busy": "2021-12-17T10:08:40.904659Z",
     "iopub.status.idle": "2021-12-17T10:08:41.115296Z",
     "shell.execute_reply": "2021-12-17T10:08:41.114765Z"
    },
    "papermill": {
     "duration": 0.237909,
     "end_time": "2021-12-17T10:08:41.115421",
     "exception": false,
     "start_time": "2021-12-17T10:08:40.877512",
     "status": "completed"
    },
    "tags": []
   },
   "outputs": [],
   "source": [
    "test_images = mnist.test_images()\n",
    "test_labels = mnist.test_labels()"
   ]
  },
  {
   "cell_type": "code",
   "execution_count": 8,
   "id": "fc38cf1b",
   "metadata": {
    "execution": {
     "iopub.execute_input": "2021-12-17T10:08:41.168457Z",
     "iopub.status.busy": "2021-12-17T10:08:41.167950Z",
     "iopub.status.idle": "2021-12-17T10:08:41.180993Z",
     "shell.execute_reply": "2021-12-17T10:08:41.181467Z"
    },
    "papermill": {
     "duration": 0.041286,
     "end_time": "2021-12-17T10:08:41.181593",
     "exception": false,
     "start_time": "2021-12-17T10:08:41.140307",
     "status": "completed"
    },
    "tags": []
   },
   "outputs": [
    {
     "data": {
      "text/plain": [
       "((10000, 28, 28), (10000,))"
      ]
     },
     "execution_count": 8,
     "metadata": {},
     "output_type": "execute_result"
    }
   ],
   "source": [
    "test_images.shape, test_labels.shape"
   ]
  },
  {
   "cell_type": "code",
   "execution_count": 9,
   "id": "f9ed8fe0",
   "metadata": {
    "execution": {
     "iopub.execute_input": "2021-12-17T10:08:41.235886Z",
     "iopub.status.busy": "2021-12-17T10:08:41.235389Z",
     "iopub.status.idle": "2021-12-17T10:08:41.374187Z",
     "shell.execute_reply": "2021-12-17T10:08:41.373755Z"
    },
    "papermill": {
     "duration": 0.167425,
     "end_time": "2021-12-17T10:08:41.374306",
     "exception": false,
     "start_time": "2021-12-17T10:08:41.206881",
     "status": "completed"
    },
    "tags": []
   },
   "outputs": [
    {
     "name": "stdout",
     "output_type": "stream",
     "text": [
      "2\n"
     ]
    },
    {
     "data": {
      "text/plain": [
       "<matplotlib.image.AxesImage at 0x7fbc3c0e54a8>"
      ]
     },
     "execution_count": 9,
     "metadata": {},
     "output_type": "execute_result"
    },
    {
     "data": {
      "image/png": "[encoded data removed]",
      "text/plain": [
       "<Figure size 432x288 with 1 Axes>"
      ]
     },
     "metadata": {
      "needs_background": "light"
     },
     "output_type": "display_data"
    }
   ],
   "source": [
    "image_index = 7776 # You may select anything up to 60,000\n",
    "print(train_labels[image_index]) \n",
    "plt.imshow(train_images[image_index], cmap='Greys')"
   ]
  },
  {
   "cell_type": "markdown",
   "id": "a8d2388d",
   "metadata": {
    "papermill": {
     "duration": 0.025819,
     "end_time": "2021-12-17T10:08:41.426297",
     "exception": false,
     "start_time": "2021-12-17T10:08:41.400478",
     "status": "completed"
    },
    "tags": []
   },
   "source": [
    "## Filter data to get 3 and 8 out"
   ]
  },
  {
   "cell_type": "code",
   "execution_count": 10,
   "id": "776f7fc7",
   "metadata": {
    "execution": {
     "iopub.execute_input": "2021-12-17T10:08:41.482348Z",
     "iopub.status.busy": "2021-12-17T10:08:41.481425Z",
     "iopub.status.idle": "2021-12-17T10:08:41.498741Z",
     "shell.execute_reply": "2021-12-17T10:08:41.498277Z"
    },
    "papermill": {
     "duration": 0.04682,
     "end_time": "2021-12-17T10:08:41.498852",
     "exception": false,
     "start_time": "2021-12-17T10:08:41.452032",
     "status": "completed"
    },
    "tags": []
   },
   "outputs": [],
   "source": [
    "train_filter = np.where((train_labels == 3 ) | (train_labels == 8))\n",
    "test_filter = np.where((test_labels == 3) | (test_labels == 8))\n",
    "X_train, y_train = train_images[train_filter], train_labels[train_filter]\n",
    "X_test, y_test = test_images[test_filter], test_labels[test_filter]"
   ]
  },
  {
   "cell_type": "markdown",
   "id": "948f0b7e",
   "metadata": {
    "papermill": {
     "duration": 0.025867,
     "end_time": "2021-12-17T10:08:41.550932",
     "exception": false,
     "start_time": "2021-12-17T10:08:41.525065",
     "status": "completed"
    },
    "tags": []
   },
   "source": [
    "We normalize the pizel values in the 0 to 1 range"
   ]
  },
  {
   "cell_type": "code",
   "execution_count": 11,
   "id": "ee4c2166",
   "metadata": {
    "execution": {
     "iopub.execute_input": "2021-12-17T10:08:41.622543Z",
     "iopub.status.busy": "2021-12-17T10:08:41.618975Z",
     "iopub.status.idle": "2021-12-17T10:08:41.658240Z",
     "shell.execute_reply": "2021-12-17T10:08:41.657739Z"
    },
    "papermill": {
     "duration": 0.081588,
     "end_time": "2021-12-17T10:08:41.658376",
     "exception": false,
     "start_time": "2021-12-17T10:08:41.576788",
     "status": "completed"
    },
    "tags": []
   },
   "outputs": [],
   "source": [
    "X_train = X_train/255.\n",
    "X_test = X_test/255."
   ]
  },
  {
   "cell_type": "markdown",
   "id": "ddcf4fab",
   "metadata": {
    "papermill": {
     "duration": 0.025896,
     "end_time": "2021-12-17T10:08:41.710881",
     "exception": false,
     "start_time": "2021-12-17T10:08:41.684985",
     "status": "completed"
    },
    "tags": []
   },
   "source": [
    "And setup the labels as 1 (when the digit is 3) and 0 (when the digit is 8)"
   ]
  },
  {
   "cell_type": "code",
   "execution_count": 12,
   "id": "7dc908f2",
   "metadata": {
    "execution": {
     "iopub.execute_input": "2021-12-17T10:08:41.765917Z",
     "iopub.status.busy": "2021-12-17T10:08:41.765382Z",
     "iopub.status.idle": "2021-12-17T10:08:41.777901Z",
     "shell.execute_reply": "2021-12-17T10:08:41.777451Z"
    },
    "papermill": {
     "duration": 0.04146,
     "end_time": "2021-12-17T10:08:41.778008",
     "exception": false,
     "start_time": "2021-12-17T10:08:41.736548",
     "status": "completed"
    },
    "tags": []
   },
   "outputs": [],
   "source": [
    "y_train = 1*(y_train==3)\n",
    "y_test = 1*(y_test==3)"
   ]
  },
  {
   "cell_type": "code",
   "execution_count": 13,
   "id": "01e4e969",
   "metadata": {
    "execution": {
     "iopub.execute_input": "2021-12-17T10:08:41.833055Z",
     "iopub.status.busy": "2021-12-17T10:08:41.832560Z",
     "iopub.status.idle": "2021-12-17T10:08:41.845152Z",
     "shell.execute_reply": "2021-12-17T10:08:41.845579Z"
    },
    "papermill": {
     "duration": 0.041894,
     "end_time": "2021-12-17T10:08:41.845723",
     "exception": false,
     "start_time": "2021-12-17T10:08:41.803829",
     "status": "completed"
    },
    "tags": []
   },
   "outputs": [
    {
     "data": {
      "text/plain": [
       "((11982, 28, 28), (1984, 28, 28))"
      ]
     },
     "execution_count": 13,
     "metadata": {},
     "output_type": "execute_result"
    }
   ],
   "source": [
    "X_train.shape, X_test.shape"
   ]
  },
  {
   "cell_type": "markdown",
   "id": "5ccf3f85",
   "metadata": {
    "papermill": {
     "duration": 0.026429,
     "end_time": "2021-12-17T10:08:41.898063",
     "exception": false,
     "start_time": "2021-12-17T10:08:41.871634",
     "status": "completed"
    },
    "tags": []
   },
   "source": [
    "We reshape the data to flatten the image pixels into a set of features or co-variates:"
   ]
  },
  {
   "cell_type": "code",
   "execution_count": 14,
   "id": "5286a4a3",
   "metadata": {
    "execution": {
     "iopub.execute_input": "2021-12-17T10:08:41.954314Z",
     "iopub.status.busy": "2021-12-17T10:08:41.953790Z",
     "iopub.status.idle": "2021-12-17T10:08:41.967425Z",
     "shell.execute_reply": "2021-12-17T10:08:41.967025Z"
    },
    "papermill": {
     "duration": 0.043306,
     "end_time": "2021-12-17T10:08:41.967537",
     "exception": false,
     "start_time": "2021-12-17T10:08:41.924231",
     "status": "completed"
    },
    "tags": []
   },
   "outputs": [
    {
     "data": {
      "text/plain": [
       "((11982, 784), (1984, 784))"
      ]
     },
     "execution_count": 14,
     "metadata": {},
     "output_type": "execute_result"
    }
   ],
   "source": [
    "X_train = X_train.reshape(X_train.shape[0], -1)\n",
    "X_test = X_test.reshape(X_test.shape[0], -1)\n",
    "X_train.shape, X_test.shape"
   ]
  },
  {
   "cell_type": "code",
   "execution_count": 15,
   "id": "73c5f88a",
   "metadata": {
    "execution": {
     "iopub.execute_input": "2021-12-17T10:08:42.033460Z",
     "iopub.status.busy": "2021-12-17T10:08:42.032957Z",
     "iopub.status.idle": "2021-12-17T10:08:42.045859Z",
     "shell.execute_reply": "2021-12-17T10:08:42.045424Z"
    },
    "papermill": {
     "duration": 0.052071,
     "end_time": "2021-12-17T10:08:42.045972",
     "exception": false,
     "start_time": "2021-12-17T10:08:41.993901",
     "status": "completed"
    },
    "tags": []
   },
   "outputs": [],
   "source": [
    "#Impoting functions from 'Kudzu'\n",
    "from kudzu.model import Model\n",
    "from kudzu.train import Learner\n",
    "from kudzu.optim import GD\n",
    "from kudzu.data import Data, Sampler,Dataloader\n",
    "\n",
    "from kudzu.callbacks import AccCallback\n",
    "from kudzu.callbacks import ClfCallback\n",
    "\n",
    "from kudzu.loss import MSE\n",
    "\n",
    "from kudzu.layer import Sigmoid,Relu\n",
    "from kudzu.layer import Affine"
   ]
  },
  {
   "cell_type": "markdown",
   "id": "bc01172a",
   "metadata": {
    "papermill": {
     "duration": 0.026398,
     "end_time": "2021-12-17T10:08:42.098942",
     "exception": false,
     "start_time": "2021-12-17T10:08:42.072544",
     "status": "completed"
    },
    "tags": []
   },
   "source": [
    "### Let us create a `Config` class, to store important parameters. \n",
    "This class essentially plays the role of a dictionary."
   ]
  },
  {
   "cell_type": "code",
   "execution_count": 16,
   "id": "978281aa",
   "metadata": {
    "execution": {
     "iopub.execute_input": "2021-12-17T10:08:42.155365Z",
     "iopub.status.busy": "2021-12-17T10:08:42.154853Z",
     "iopub.status.idle": "2021-12-17T10:08:42.167082Z",
     "shell.execute_reply": "2021-12-17T10:08:42.166682Z"
    },
    "papermill": {
     "duration": 0.041995,
     "end_time": "2021-12-17T10:08:42.167191",
     "exception": false,
     "start_time": "2021-12-17T10:08:42.125196",
     "status": "completed"
    },
    "tags": []
   },
   "outputs": [],
   "source": [
    "class Config:\n",
    "    pass\n",
    "config = Config()\n",
    "config.lr = 0.001\n",
    "config.num_epochs = 250\n",
    "config.bs = 50"
   ]
  },
  {
   "cell_type": "markdown",
   "id": "1385fa59",
   "metadata": {
    "papermill": {
     "duration": 0.02635,
     "end_time": "2021-12-17T10:08:42.219863",
     "exception": false,
     "start_time": "2021-12-17T10:08:42.193513",
     "status": "completed"
    },
    "tags": []
   },
   "source": [
    "### Running Models with the Training data\n",
    "Details about the network layers:\n",
    "- A first affine layer has 784 inputs and does 100 affine transforms. These are followed by a Relu\n",
    "- A second affine layer has 100 inputs from the 100 activations of the past layer, and does 100 affine transforms. These are followed by a Relu\n",
    "- A third affine layer has 100 activations and does 2 affine transformations to create an embedding for visualization. There is no non-linearity here.\n",
    "- A final \"logistic regression\" which has an affine transform from 2 inputs to 1 output, which is squeezed through a sigmoid.\n"
   ]
  },
  {
   "cell_type": "code",
   "execution_count": 17,
   "id": "2b9c66db",
   "metadata": {
    "execution": {
     "iopub.execute_input": "2021-12-17T10:08:42.275237Z",
     "iopub.status.busy": "2021-12-17T10:08:42.274736Z",
     "iopub.status.idle": "2021-12-17T10:08:42.288781Z",
     "shell.execute_reply": "2021-12-17T10:08:42.288376Z"
    },
    "papermill": {
     "duration": 0.042688,
     "end_time": "2021-12-17T10:08:42.288891",
     "exception": false,
     "start_time": "2021-12-17T10:08:42.246203",
     "status": "completed"
    },
    "tags": []
   },
   "outputs": [],
   "source": [
    "data = Data(X_train, y_train.reshape(-1,1))\n",
    "sampler = Sampler(data, config.bs, shuffle=True)\n",
    "\n",
    "dl = Dataloader(data, sampler)\n",
    "\n",
    "opt = GD(config.lr)\n",
    "loss = MSE()"
   ]
  },
  {
   "cell_type": "code",
   "execution_count": 18,
   "id": "b275e4c2",
   "metadata": {
    "execution": {
     "iopub.execute_input": "2021-12-17T10:08:42.346129Z",
     "iopub.status.busy": "2021-12-17T10:08:42.345591Z",
     "iopub.status.idle": "2021-12-17T10:08:42.357181Z",
     "shell.execute_reply": "2021-12-17T10:08:42.357559Z"
    },
    "papermill": {
     "duration": 0.042445,
     "end_time": "2021-12-17T10:08:42.357706",
     "exception": false,
     "start_time": "2021-12-17T10:08:42.315261",
     "status": "completed"
    },
    "tags": []
   },
   "outputs": [],
   "source": [
    "training_data_x = X_train\n",
    "testing_data_x = X_test\n",
    "training_data_y = y_train.reshape(-1,1)\n",
    "testing_data_y = y_test.reshape(-1,1)"
   ]
  },
  {
   "cell_type": "code",
   "execution_count": 19,
   "id": "76951160",
   "metadata": {
    "execution": {
     "iopub.execute_input": "2021-12-17T10:08:42.414159Z",
     "iopub.status.busy": "2021-12-17T10:08:42.413613Z",
     "iopub.status.idle": "2021-12-17T10:08:42.429054Z",
     "shell.execute_reply": "2021-12-17T10:08:42.428652Z"
    },
    "papermill": {
     "duration": 0.045225,
     "end_time": "2021-12-17T10:08:42.429161",
     "exception": false,
     "start_time": "2021-12-17T10:08:42.383936",
     "status": "completed"
    },
    "tags": []
   },
   "outputs": [
    {
     "name": "stdout",
     "output_type": "stream",
     "text": [
      "xavier\n",
      "xavier\n",
      "xavier\n",
      "xavier\n",
      "xavier\n"
     ]
    }
   ],
   "source": [
    "layers = [Affine(\"first\", 784, 100), Relu(\"first\"), Affine(\"second\", 100, 100), Relu(\"second\"), Affine(\"third\", 100, 2), Affine(\"last\", 2, 1), Sigmoid(\"last\")]\n",
    "model_nn = Model(layers)\n",
    "model_lr = Model([Affine(\"logits\", 784, 1), Sigmoid(\"sigmoid\")])"
   ]
  },
  {
   "cell_type": "code",
   "execution_count": 20,
   "id": "6eede77a",
   "metadata": {
    "execution": {
     "iopub.execute_input": "2021-12-17T10:08:42.490813Z",
     "iopub.status.busy": "2021-12-17T10:08:42.490318Z",
     "iopub.status.idle": "2021-12-17T10:08:42.500160Z",
     "shell.execute_reply": "2021-12-17T10:08:42.500589Z"
    },
    "papermill": {
     "duration": 0.043901,
     "end_time": "2021-12-17T10:08:42.500710",
     "exception": false,
     "start_time": "2021-12-17T10:08:42.456809",
     "status": "completed"
    },
    "tags": []
   },
   "outputs": [],
   "source": [
    "nn_learner = Learner(loss, model_nn, opt, config.num_epochs)\n",
    "acc_nn = ClfCallback(nn_learner, config.bs, training_data_x , testing_data_x, training_data_y, testing_data_y)\n",
    "nn_learner.set_callbacks([acc_nn])"
   ]
  },
  {
   "cell_type": "code",
   "execution_count": 21,
   "id": "877b6cc7",
   "metadata": {
    "execution": {
     "iopub.execute_input": "2021-12-17T10:08:42.556884Z",
     "iopub.status.busy": "2021-12-17T10:08:42.556384Z",
     "iopub.status.idle": "2021-12-17T10:08:42.568946Z",
     "shell.execute_reply": "2021-12-17T10:08:42.569328Z"
    },
    "papermill": {
     "duration": 0.042102,
     "end_time": "2021-12-17T10:08:42.569449",
     "exception": false,
     "start_time": "2021-12-17T10:08:42.527347",
     "status": "completed"
    },
    "tags": []
   },
   "outputs": [],
   "source": [
    "lr_learner = Learner(loss, model_lr, opt, config.num_epochs)\n",
    "acc_lr = ClfCallback(lr_learner, config.bs, training_data_x , testing_data_x, training_data_y, testing_data_y)\n",
    "lr_learner.set_callbacks([acc_lr])"
   ]
  },
  {
   "cell_type": "code",
   "execution_count": 22,
   "id": "d9b133c3",
   "metadata": {
    "execution": {
     "iopub.execute_input": "2021-12-17T10:08:42.630886Z",
     "iopub.status.busy": "2021-12-17T10:08:42.630380Z",
     "iopub.status.idle": "2021-12-17T10:09:57.510833Z",
     "shell.execute_reply": "2021-12-17T10:09:57.511574Z"
    },
    "papermill": {
     "duration": 74.915537,
     "end_time": "2021-12-17T10:09:57.511724",
     "exception": false,
     "start_time": "2021-12-17T10:08:42.596187",
     "status": "completed"
    },
    "tags": []
   },
   "outputs": [
    {
     "name": "stdout",
     "output_type": "stream",
     "text": [
      "Epoch 0, Loss 0.2503\n",
      "Training Accuracy: 0.5169, Testing Accuracy: 0.4975\n",
      "\n"
     ]
    },
    {
     "name": "stdout",
     "output_type": "stream",
     "text": [
      "Epoch 10, Loss 0.2139\n",
      "Training Accuracy: 0.8544, Testing Accuracy: 0.8705\n",
      "\n"
     ]
    },
    {
     "name": "stdout",
     "output_type": "stream",
     "text": [
      "Epoch 20, Loss 0.1227\n",
      "Training Accuracy: 0.9021, Testing Accuracy: 0.9108\n",
      "\n"
     ]
    },
    {
     "name": "stdout",
     "output_type": "stream",
     "text": [
      "Epoch 30, Loss 0.0699\n",
      "Training Accuracy: 0.9310, Testing Accuracy: 0.9410\n",
      "\n"
     ]
    },
    {
     "name": "stdout",
     "output_type": "stream",
     "text": [
      "Epoch 40, Loss 0.0515\n",
      "Training Accuracy: 0.9438, Testing Accuracy: 0.9546\n",
      "\n"
     ]
    },
    {
     "name": "stdout",
     "output_type": "stream",
     "text": [
      "Epoch 50, Loss 0.043\n",
      "Training Accuracy: 0.9512, Testing Accuracy: 0.9637\n",
      "\n"
     ]
    },
    {
     "name": "stdout",
     "output_type": "stream",
     "text": [
      "Epoch 60, Loss 0.0382\n",
      "Training Accuracy: 0.9561, Testing Accuracy: 0.9682\n",
      "\n"
     ]
    },
    {
     "name": "stdout",
     "output_type": "stream",
     "text": [
      "Epoch 70, Loss 0.035\n",
      "Training Accuracy: 0.9590, Testing Accuracy: 0.9708\n",
      "\n"
     ]
    },
    {
     "name": "stdout",
     "output_type": "stream",
     "text": [
      "Epoch 80, Loss 0.0327\n",
      "Training Accuracy: 0.9620, Testing Accuracy: 0.9733\n",
      "\n"
     ]
    },
    {
     "name": "stdout",
     "output_type": "stream",
     "text": [
      "Epoch 90, Loss 0.0308\n",
      "Training Accuracy: 0.9644, Testing Accuracy: 0.9753\n",
      "\n"
     ]
    },
    {
     "name": "stdout",
     "output_type": "stream",
     "text": [
      "Epoch 100, Loss 0.0293\n",
      "Training Accuracy: 0.9655, Testing Accuracy: 0.9748\n",
      "\n"
     ]
    },
    {
     "name": "stdout",
     "output_type": "stream",
     "text": [
      "Epoch 110, Loss 0.0281\n",
      "Training Accuracy: 0.9671, Testing Accuracy: 0.9748\n",
      "\n"
     ]
    },
    {
     "name": "stdout",
     "output_type": "stream",
     "text": [
      "Epoch 120, Loss 0.027\n",
      "Training Accuracy: 0.9686, Testing Accuracy: 0.9743\n",
      "\n"
     ]
    },
    {
     "name": "stdout",
     "output_type": "stream",
     "text": [
      "Epoch 130, Loss 0.026\n",
      "Training Accuracy: 0.9702, Testing Accuracy: 0.9743\n",
      "\n"
     ]
    },
    {
     "name": "stdout",
     "output_type": "stream",
     "text": [
      "Epoch 140, Loss 0.0251\n",
      "Training Accuracy: 0.9713, Testing Accuracy: 0.9738\n",
      "\n"
     ]
    },
    {
     "name": "stdout",
     "output_type": "stream",
     "text": [
      "Epoch 150, Loss 0.0243\n",
      "Training Accuracy: 0.9721, Testing Accuracy: 0.9738\n",
      "\n"
     ]
    },
    {
     "name": "stdout",
     "output_type": "stream",
     "text": [
      "Epoch 160, Loss 0.0236\n",
      "Training Accuracy: 0.9731, Testing Accuracy: 0.9738\n",
      "\n"
     ]
    },
    {
     "name": "stdout",
     "output_type": "stream",
     "text": [
      "Epoch 170, Loss 0.023\n",
      "Training Accuracy: 0.9742, Testing Accuracy: 0.9733\n",
      "\n"
     ]
    },
    {
     "name": "stdout",
     "output_type": "stream",
     "text": [
      "Epoch 180, Loss 0.0224\n",
      "Training Accuracy: 0.9752, Testing Accuracy: 0.9733\n",
      "\n"
     ]
    },
    {
     "name": "stdout",
     "output_type": "stream",
     "text": [
      "Epoch 190, Loss 0.0218\n",
      "Training Accuracy: 0.9759, Testing Accuracy: 0.9738\n",
      "\n"
     ]
    },
    {
     "name": "stdout",
     "output_type": "stream",
     "text": [
      "Epoch 200, Loss 0.0212\n",
      "Training Accuracy: 0.9765, Testing Accuracy: 0.9738\n",
      "\n"
     ]
    },
    {
     "name": "stdout",
     "output_type": "stream",
     "text": [
      "Epoch 210, Loss 0.0208\n",
      "Training Accuracy: 0.9770, Testing Accuracy: 0.9738\n",
      "\n"
     ]
    },
    {
     "name": "stdout",
     "output_type": "stream",
     "text": [
      "Epoch 220, Loss 0.0203\n",
      "Training Accuracy: 0.9774, Testing Accuracy: 0.9743\n",
      "\n"
     ]
    },
    {
     "name": "stdout",
     "output_type": "stream",
     "text": [
      "Epoch 230, Loss 0.0198\n",
      "Training Accuracy: 0.9781, Testing Accuracy: 0.9743\n",
      "\n"
     ]
    },
    {
     "name": "stdout",
     "output_type": "stream",
     "text": [
      "Epoch 240, Loss 0.0194\n",
      "Training Accuracy: 0.9786, Testing Accuracy: 0.9743\n",
      "\n"
     ]
    },
    {
     "data": {
      "text/plain": [
       "0.007712852403279844"
      ]
     },
     "execution_count": 22,
     "metadata": {},
     "output_type": "execute_result"
    }
   ],
   "source": [
    "nn_learner.train_loop(dl)"
   ]
  },
  {
   "cell_type": "code",
   "execution_count": 23,
   "id": "e0163366",
   "metadata": {
    "execution": {
     "iopub.execute_input": "2021-12-17T10:09:57.591843Z",
     "iopub.status.busy": "2021-12-17T10:09:57.591319Z",
     "iopub.status.idle": "2021-12-17T10:10:10.655603Z",
     "shell.execute_reply": "2021-12-17T10:10:10.656006Z"
    },
    "papermill": {
     "duration": 13.110112,
     "end_time": "2021-12-17T10:10:10.656145",
     "exception": false,
     "start_time": "2021-12-17T10:09:57.546033",
     "status": "completed"
    },
    "tags": []
   },
   "outputs": [
    {
     "name": "stdout",
     "output_type": "stream",
     "text": [
      "Epoch 0, Loss 0.2427\n",
      "Training Accuracy: 0.7005, Testing Accuracy: 0.7006\n",
      "\n"
     ]
    },
    {
     "name": "stdout",
     "output_type": "stream",
     "text": [
      "Epoch 10, Loss 0.0999\n",
      "Training Accuracy: 0.9217, Testing Accuracy: 0.9249\n",
      "\n"
     ]
    },
    {
     "name": "stdout",
     "output_type": "stream",
     "text": [
      "Epoch 20, Loss 0.0773\n",
      "Training Accuracy: 0.9324, Testing Accuracy: 0.9410\n",
      "\n"
     ]
    },
    {
     "name": "stdout",
     "output_type": "stream",
     "text": [
      "Epoch 30, Loss 0.0669\n",
      "Training Accuracy: 0.9396, Testing Accuracy: 0.9491\n",
      "\n"
     ]
    },
    {
     "name": "stdout",
     "output_type": "stream",
     "text": [
      "Epoch 40, Loss 0.0605\n",
      "Training Accuracy: 0.9432, Testing Accuracy: 0.9546\n",
      "\n"
     ]
    },
    {
     "name": "stdout",
     "output_type": "stream",
     "text": [
      "Epoch 50, Loss 0.0562\n",
      "Training Accuracy: 0.9447, Testing Accuracy: 0.9577\n",
      "\n"
     ]
    },
    {
     "name": "stdout",
     "output_type": "stream",
     "text": [
      "Epoch 60, Loss 0.053\n",
      "Training Accuracy: 0.9478, Testing Accuracy: 0.9582\n",
      "\n"
     ]
    },
    {
     "name": "stdout",
     "output_type": "stream",
     "text": [
      "Epoch 70, Loss 0.0505\n",
      "Training Accuracy: 0.9502, Testing Accuracy: 0.9592\n",
      "\n"
     ]
    },
    {
     "name": "stdout",
     "output_type": "stream",
     "text": [
      "Epoch 80, Loss 0.0486\n",
      "Training Accuracy: 0.9519, Testing Accuracy: 0.9607\n",
      "\n"
     ]
    },
    {
     "name": "stdout",
     "output_type": "stream",
     "text": [
      "Epoch 90, Loss 0.0469\n",
      "Training Accuracy: 0.9534, Testing Accuracy: 0.9612\n",
      "\n"
     ]
    },
    {
     "name": "stdout",
     "output_type": "stream",
     "text": [
      "Epoch 100, Loss 0.0456\n",
      "Training Accuracy: 0.9537, Testing Accuracy: 0.9617\n",
      "\n"
     ]
    },
    {
     "name": "stdout",
     "output_type": "stream",
     "text": [
      "Epoch 110, Loss 0.0444\n",
      "Training Accuracy: 0.9548, Testing Accuracy: 0.9622\n",
      "\n"
     ]
    },
    {
     "name": "stdout",
     "output_type": "stream",
     "text": [
      "Epoch 120, Loss 0.0433\n",
      "Training Accuracy: 0.9556, Testing Accuracy: 0.9622\n",
      "\n"
     ]
    },
    {
     "name": "stdout",
     "output_type": "stream",
     "text": [
      "Epoch 130, Loss 0.0424\n",
      "Training Accuracy: 0.9567, Testing Accuracy: 0.9622\n",
      "\n"
     ]
    },
    {
     "name": "stdout",
     "output_type": "stream",
     "text": [
      "Epoch 140, Loss 0.0416\n",
      "Training Accuracy: 0.9573, Testing Accuracy: 0.9627\n",
      "\n"
     ]
    },
    {
     "name": "stdout",
     "output_type": "stream",
     "text": [
      "Epoch 150, Loss 0.0409\n",
      "Training Accuracy: 0.9577, Testing Accuracy: 0.9642\n",
      "\n"
     ]
    },
    {
     "name": "stdout",
     "output_type": "stream",
     "text": [
      "Epoch 160, Loss 0.0403\n",
      "Training Accuracy: 0.9583, Testing Accuracy: 0.9657\n",
      "\n"
     ]
    },
    {
     "name": "stdout",
     "output_type": "stream",
     "text": [
      "Epoch 170, Loss 0.0397\n",
      "Training Accuracy: 0.9588, Testing Accuracy: 0.9657\n",
      "\n"
     ]
    },
    {
     "name": "stdout",
     "output_type": "stream",
     "text": [
      "Epoch 180, Loss 0.0391\n",
      "Training Accuracy: 0.9593, Testing Accuracy: 0.9667\n",
      "\n"
     ]
    },
    {
     "name": "stdout",
     "output_type": "stream",
     "text": [
      "Epoch 190, Loss 0.0386\n",
      "Training Accuracy: 0.9596, Testing Accuracy: 0.9672\n",
      "\n"
     ]
    },
    {
     "name": "stdout",
     "output_type": "stream",
     "text": [
      "Epoch 200, Loss 0.0382\n",
      "Training Accuracy: 0.9598, Testing Accuracy: 0.9677\n",
      "\n"
     ]
    },
    {
     "name": "stdout",
     "output_type": "stream",
     "text": [
      "Epoch 210, Loss 0.0377\n",
      "Training Accuracy: 0.9599, Testing Accuracy: 0.9682\n",
      "\n"
     ]
    },
    {
     "name": "stdout",
     "output_type": "stream",
     "text": [
      "Epoch 220, Loss 0.0373\n",
      "Training Accuracy: 0.9599, Testing Accuracy: 0.9677\n",
      "\n"
     ]
    },
    {
     "name": "stdout",
     "output_type": "stream",
     "text": [
      "Epoch 230, Loss 0.037\n",
      "Training Accuracy: 0.9599, Testing Accuracy: 0.9682\n",
      "\n"
     ]
    },
    {
     "name": "stdout",
     "output_type": "stream",
     "text": [
      "Epoch 240, Loss 0.0366\n",
      "Training Accuracy: 0.9599, Testing Accuracy: 0.9677\n",
      "\n"
     ]
    },
    {
     "data": {
      "text/plain": [
       "0.019480052138408685"
      ]
     },
     "execution_count": 23,
     "metadata": {},
     "output_type": "execute_result"
    }
   ],
   "source": [
    "lr_learner.train_loop(dl)"
   ]
  },
  {
   "cell_type": "code",
   "execution_count": 24,
   "id": "ca410940",
   "metadata": {
    "execution": {
     "iopub.execute_input": "2021-12-17T10:10:10.747303Z",
     "iopub.status.busy": "2021-12-17T10:10:10.746403Z",
     "iopub.status.idle": "2021-12-17T10:10:10.968828Z",
     "shell.execute_reply": "2021-12-17T10:10:10.968085Z"
    },
    "papermill": {
     "duration": 0.272541,
     "end_time": "2021-12-17T10:10:10.968958",
     "exception": false,
     "start_time": "2021-12-17T10:10:10.696417",
     "status": "completed"
    },
    "tags": []
   },
   "outputs": [
    {
     "data": {
      "text/plain": [
       "<matplotlib.legend.Legend at 0x7fbc3bcbfc18>"
      ]
     },
     "execution_count": 24,
     "metadata": {},
     "output_type": "execute_result"
    },
    {
     "data": {
      "image/png": "[encoded data removed]",
      "text/plain": [
       "<Figure size 1080x720 with 1 Axes>"
      ]
     },
     "metadata": {
      "needs_background": "light"
     },
     "output_type": "display_data"
    }
   ],
   "source": [
    "#comparing the results of NN and LR\n",
    "plt.figure(figsize=(15,10))\n",
    "\n",
    "# Neural Network plots\n",
    "plt.plot(acc_nn.accuracies, 'r-', label = \"Training Accuracies - NN\")\n",
    "plt.plot(acc_nn.test_accuracies, 'g-', label = \"Testing Accuracies - NN\")\n",
    "\n",
    "# Logistic Regression plots\n",
    "plt.plot(acc_lr.accuracies, 'k-', label = \"Training Accuracies - LR\")\n",
    "plt.plot(acc_lr.test_accuracies, 'b-', label = \"Testing Accuracies - LR\")\n",
    "plt.legend()"
   ]
  },
  {
   "cell_type": "markdown",
   "id": "80dfb35c",
   "metadata": {
    "papermill": {
     "duration": 0.041378,
     "end_time": "2021-12-17T10:10:11.051989",
     "exception": false,
     "start_time": "2021-12-17T10:10:11.010611",
     "status": "completed"
    },
    "tags": []
   },
   "source": [
    "#### Plotting the outputs of this layer of the NN.\n"
   ]
  },
  {
   "cell_type": "code",
   "execution_count": 25,
   "id": "45eb2ff5",
   "metadata": {
    "execution": {
     "iopub.execute_input": "2021-12-17T10:10:11.139252Z",
     "iopub.status.busy": "2021-12-17T10:10:11.138700Z",
     "iopub.status.idle": "2021-12-17T10:10:11.157873Z",
     "shell.execute_reply": "2021-12-17T10:10:11.158271Z"
    },
    "papermill": {
     "duration": 0.064912,
     "end_time": "2021-12-17T10:10:11.158412",
     "exception": false,
     "start_time": "2021-12-17T10:10:11.093500",
     "status": "completed"
    },
    "tags": []
   },
   "outputs": [],
   "source": [
    "new_model = Model(layers[:-2])\n",
    "testing_plot = new_model(testing_data_x)"
   ]
  },
  {
   "cell_type": "code",
   "execution_count": 26,
   "id": "4c0a5485",
   "metadata": {
    "execution": {
     "iopub.execute_input": "2021-12-17T10:10:11.254411Z",
     "iopub.status.busy": "2021-12-17T10:10:11.250952Z",
     "iopub.status.idle": "2021-12-17T10:10:11.448355Z",
     "shell.execute_reply": "2021-12-17T10:10:11.448779Z"
    },
    "papermill": {
     "duration": 0.248917,
     "end_time": "2021-12-17T10:10:11.448921",
     "exception": false,
     "start_time": "2021-12-17T10:10:11.200004",
     "status": "completed"
    },
    "tags": []
   },
   "outputs": [
    {
     "data": {
      "text/plain": [
       "Text(0.5, 1.0, 'Outputs')"
      ]
     },
     "execution_count": 26,
     "metadata": {},
     "output_type": "execute_result"
    },
    {
     "data": {
      "image/png": "[encoded data removed]",
      "text/plain": [
       "<Figure size 576x504 with 1 Axes>"
      ]
     },
     "metadata": {
      "needs_background": "light"
     },
     "output_type": "display_data"
    }
   ],
   "source": [
    "# Plotting the scatter plot of points and color coding by class\n",
    "plt.figure(figsize=(8,7))\n",
    "plt.scatter(testing_plot[:,0], testing_plot[:,1], alpha = 0.1, c = y_test.ravel());\n",
    "plt.title('Outputs')"
   ]
  },
  {
   "cell_type": "markdown",
   "id": "a74fcf8f",
   "metadata": {
    "papermill": {
     "duration": 0.043445,
     "end_time": "2021-12-17T10:10:11.536186",
     "exception": false,
     "start_time": "2021-12-17T10:10:11.492741",
     "status": "completed"
    },
    "tags": []
   },
   "source": [
    "Probability contours"
   ]
  },
  {
   "cell_type": "code",
   "execution_count": 27,
   "id": "d0afc8e3",
   "metadata": {
    "execution": {
     "iopub.execute_input": "2021-12-17T10:10:11.640777Z",
     "iopub.status.busy": "2021-12-17T10:10:11.638601Z",
     "iopub.status.idle": "2021-12-17T10:10:11.643193Z",
     "shell.execute_reply": "2021-12-17T10:10:11.642755Z"
    },
    "papermill": {
     "duration": 0.063552,
     "end_time": "2021-12-17T10:10:11.643311",
     "exception": false,
     "start_time": "2021-12-17T10:10:11.579759",
     "status": "completed"
    },
    "tags": []
   },
   "outputs": [],
   "source": [
    "model_prob = Model(layers[-2:]) "
   ]
  },
  {
   "cell_type": "code",
   "execution_count": 28,
   "id": "9b96e238",
   "metadata": {
    "execution": {
     "iopub.execute_input": "2021-12-17T10:10:11.747914Z",
     "iopub.status.busy": "2021-12-17T10:10:11.746488Z",
     "iopub.status.idle": "2021-12-17T10:10:11.756458Z",
     "shell.execute_reply": "2021-12-17T10:10:11.756023Z"
    },
    "papermill": {
     "duration": 0.069628,
     "end_time": "2021-12-17T10:10:11.756569",
     "exception": false,
     "start_time": "2021-12-17T10:10:11.686941",
     "status": "completed"
    },
    "tags": []
   },
   "outputs": [],
   "source": [
    "#creating the x and y ranges according to the above generated plot.\n",
    "x_range = np.linspace(-4, 1, 100) \n",
    "y_range = np.linspace(-6, 6, 100) \n",
    "x_grid, y_grid = np.meshgrid(x_range, y_range) # x_grid and y_grig are of size 100 X 100\n",
    "\n",
    "# converting x_grid and y_grid to continuous arrays\n",
    "x_gridflat = np.ravel(x_grid)\n",
    "y_gridflat = np.ravel(y_grid)\n",
    "\n",
    "# The last layer of the current model takes two columns as input. Hence transpose of np.vstack() is required.\n",
    "X = np.vstack((x_gridflat, y_gridflat)).T\n",
    "\n",
    "prob_contour = model_prob(X).reshape(100,100) "
   ]
  },
  {
   "cell_type": "code",
   "execution_count": 29,
   "id": "da72499a",
   "metadata": {
    "execution": {
     "iopub.execute_input": "2021-12-17T10:10:11.847751Z",
     "iopub.status.busy": "2021-12-17T10:10:11.847241Z",
     "iopub.status.idle": "2021-12-17T10:10:12.095963Z",
     "shell.execute_reply": "2021-12-17T10:10:12.096429Z"
    },
    "papermill": {
     "duration": 0.296168,
     "end_time": "2021-12-17T10:10:12.096581",
     "exception": false,
     "start_time": "2021-12-17T10:10:11.800413",
     "status": "completed"
    },
    "tags": []
   },
   "outputs": [
    {
     "data": {
      "image/png": "[encoded data removed]",
      "text/plain": [
       "<Figure size 720x648 with 1 Axes>"
      ]
     },
     "metadata": {
      "needs_background": "light"
     },
     "output_type": "display_data"
    }
   ],
   "source": [
    "plt.figure(figsize=(10,9))\n",
    "plt.scatter(testing_plot[:,0], testing_plot[:,1], alpha = 0.1, c = y_test.ravel())\n",
    "contours = plt.contour(x_grid,y_grid,prob_contour)\n",
    "plt.title('Probability Contours')\n",
    "plt.clabel(contours, inline = True );"
   ]
  },
  {
   "cell_type": "code",
   "execution_count": null,
   "id": "e81b4ac7",
   "metadata": {
    "papermill": {
     "duration": 0.046301,
     "end_time": "2021-12-17T10:10:12.218271",
     "exception": false,
     "start_time": "2021-12-17T10:10:12.171970",
     "status": "completed"
    },
    "tags": []
   },
   "outputs": [],
   "source": []
  }
 ],
 "metadata": {
  "kernelspec": {
   "display_name": "Python 3",
   "language": "python",
   "name": "python3"
  },
  "language_info": {
   "codemirror_mode": {
    "name": "ipython",
    "version": 3
   },
   "file_extension": ".py",
   "mimetype": "text/x-python",
   "name": "python",
   "nbconvert_exporter": "python",
   "pygments_lexer": "ipython3",
   "version": "3.6.15"
  },
  "papermill": {
   "default_parameters": {},
   "duration": 96.091886,
   "end_time": "2021-12-17T10:10:12.571801",
   "environment_variables": {},
   "exception": null,
   "input_path": "2020-08-11-part2.ipynb",
   "output_path": "2020-08-11-part2.ipynb",
   "parameters": {},
   "start_time": "2021-12-17T10:08:36.479915",
   "version": "2.3.3"
  }
 },
 "nbformat": 4,
 "nbformat_minor": 5
}