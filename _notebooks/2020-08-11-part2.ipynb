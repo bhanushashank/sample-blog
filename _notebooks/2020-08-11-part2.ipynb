{
 "cells": [
  {
   "cell_type": "markdown",
   "id": "98380cd3",
   "metadata": {
    "papermill": {
     "duration": 0.02869,
     "end_time": "2021-11-10T20:07:54.411241",
     "exception": false,
     "start_time": "2021-11-10T20:07:54.382551",
     "status": "completed"
    },
    "tags": []
   },
   "source": [
    "# Distinguish Your Own Digits (DYOD)"
   ]
  },
  {
   "cell_type": "markdown",
   "id": "ef31240d",
   "metadata": {
    "papermill": {
     "duration": 0.025847,
     "end_time": "2021-11-10T20:07:54.461817",
     "exception": false,
     "start_time": "2021-11-10T20:07:54.435970",
     "status": "completed"
    },
    "tags": []
   },
   "source": [
    "You are going to write a classifier that distinguishes between the number 3 and number 8."
   ]
  },
  {
   "cell_type": "code",
   "execution_count": 1,
   "id": "b15c8646",
   "metadata": {
    "execution": {
     "iopub.execute_input": "2021-11-10T20:07:54.521270Z",
     "iopub.status.busy": "2021-11-10T20:07:54.520721Z",
     "iopub.status.idle": "2021-11-10T20:07:54.530733Z",
     "shell.execute_reply": "2021-11-10T20:07:54.531133Z"
    },
    "papermill": {
     "duration": 0.045413,
     "end_time": "2021-11-10T20:07:54.531333",
     "exception": false,
     "start_time": "2021-11-10T20:07:54.485920",
     "status": "completed"
    },
    "tags": []
   },
   "outputs": [],
   "source": [
    "%load_ext autoreload\n",
    "%autoreload 2"
   ]
  },
  {
   "cell_type": "code",
   "execution_count": 2,
   "id": "22ef38dc",
   "metadata": {
    "execution": {
     "iopub.execute_input": "2021-11-10T20:07:54.584184Z",
     "iopub.status.busy": "2021-11-10T20:07:54.583636Z",
     "iopub.status.idle": "2021-11-10T20:07:55.138036Z",
     "shell.execute_reply": "2021-11-10T20:07:55.137485Z"
    },
    "papermill": {
     "duration": 0.582639,
     "end_time": "2021-11-10T20:07:55.138181",
     "exception": false,
     "start_time": "2021-11-10T20:07:54.555542",
     "status": "completed"
    },
    "tags": []
   },
   "outputs": [],
   "source": [
    "%matplotlib inline\n",
    "import numpy as np\n",
    "import matplotlib.pyplot as plt\n",
    "import pandas as pd"
   ]
  },
  {
   "cell_type": "markdown",
   "id": "ba036198",
   "metadata": {
    "papermill": {
     "duration": 0.02414,
     "end_time": "2021-11-10T20:07:55.186835",
     "exception": false,
     "start_time": "2021-11-10T20:07:55.162695",
     "status": "completed"
    },
    "tags": []
   },
   "source": [
    "From the command line run `pip install mnist`. This is a library that will help you bring down the mnist dataset. If you run this from a notebook, you need to put  `!pip install mnist` in a cell by itself."
   ]
  },
  {
   "cell_type": "code",
   "execution_count": 3,
   "id": "bb6ad8a1",
   "metadata": {
    "execution": {
     "iopub.execute_input": "2021-11-10T20:07:55.252910Z",
     "iopub.status.busy": "2021-11-10T20:07:55.252348Z",
     "iopub.status.idle": "2021-11-10T20:07:57.792840Z",
     "shell.execute_reply": "2021-11-10T20:07:57.791887Z"
    },
    "papermill": {
     "duration": 2.581922,
     "end_time": "2021-11-10T20:07:57.792988",
     "exception": false,
     "start_time": "2021-11-10T20:07:55.211066",
     "status": "completed"
    },
    "tags": []
   },
   "outputs": [
    {
     "name": "stdout",
     "output_type": "stream",
     "text": [
      "Collecting mnist\r\n"
     ]
    },
    {
     "name": "stdout",
     "output_type": "stream",
     "text": [
      "  Downloading mnist-0.2.2-py2.py3-none-any.whl (3.5 kB)\r\n",
      "Requirement already satisfied: numpy in /opt/hostedtoolcache/Python/3.6.15/x64/lib/python3.6/site-packages (from mnist) (1.19.5)\r\n"
     ]
    },
    {
     "name": "stdout",
     "output_type": "stream",
     "text": [
      "Installing collected packages: mnist\r\n"
     ]
    },
    {
     "name": "stdout",
     "output_type": "stream",
     "text": [
      "Successfully installed mnist-0.2.2\r\n"
     ]
    }
   ],
   "source": [
    "!pip install mnist"
   ]
  },
  {
   "cell_type": "markdown",
   "id": "69df9c9a",
   "metadata": {
    "papermill": {
     "duration": 0.025424,
     "end_time": "2021-11-10T20:07:57.843983",
     "exception": false,
     "start_time": "2021-11-10T20:07:57.818559",
     "status": "completed"
    },
    "tags": []
   },
   "source": [
    "## Preparing the Data"
   ]
  },
  {
   "cell_type": "code",
   "execution_count": 4,
   "id": "7f69d806",
   "metadata": {
    "execution": {
     "iopub.execute_input": "2021-11-10T20:07:57.911918Z",
     "iopub.status.busy": "2021-11-10T20:07:57.898399Z",
     "iopub.status.idle": "2021-11-10T20:07:57.915420Z",
     "shell.execute_reply": "2021-11-10T20:07:57.914959Z"
    },
    "papermill": {
     "duration": 0.04635,
     "end_time": "2021-11-10T20:07:57.915555",
     "exception": false,
     "start_time": "2021-11-10T20:07:57.869205",
     "status": "completed"
    },
    "tags": []
   },
   "outputs": [],
   "source": [
    "import mnist"
   ]
  },
  {
   "cell_type": "code",
   "execution_count": 5,
   "id": "a411e44f",
   "metadata": {
    "execution": {
     "iopub.execute_input": "2021-11-10T20:07:57.981165Z",
     "iopub.status.busy": "2021-11-10T20:07:57.980251Z",
     "iopub.status.idle": "2021-11-10T20:07:58.604691Z",
     "shell.execute_reply": "2021-11-10T20:07:58.604160Z"
    },
    "papermill": {
     "duration": 0.66388,
     "end_time": "2021-11-10T20:07:58.604835",
     "exception": false,
     "start_time": "2021-11-10T20:07:57.940955",
     "status": "completed"
    },
    "tags": []
   },
   "outputs": [],
   "source": [
    "train_images = mnist.train_images()\n",
    "train_labels = mnist.train_labels()"
   ]
  },
  {
   "cell_type": "code",
   "execution_count": 6,
   "id": "dceab3a5",
   "metadata": {
    "execution": {
     "iopub.execute_input": "2021-11-10T20:07:58.673445Z",
     "iopub.status.busy": "2021-11-10T20:07:58.672395Z",
     "iopub.status.idle": "2021-11-10T20:07:58.681663Z",
     "shell.execute_reply": "2021-11-10T20:07:58.681234Z"
    },
    "papermill": {
     "duration": 0.049959,
     "end_time": "2021-11-10T20:07:58.681791",
     "exception": false,
     "start_time": "2021-11-10T20:07:58.631832",
     "status": "completed"
    },
    "tags": []
   },
   "outputs": [
    {
     "data": {
      "text/plain": [
       "((60000, 28, 28), (60000,))"
      ]
     },
     "execution_count": 6,
     "metadata": {},
     "output_type": "execute_result"
    }
   ],
   "source": [
    "train_images.shape, train_labels.shape"
   ]
  },
  {
   "cell_type": "code",
   "execution_count": 7,
   "id": "f50dc2bb",
   "metadata": {
    "execution": {
     "iopub.execute_input": "2021-11-10T20:07:58.740156Z",
     "iopub.status.busy": "2021-11-10T20:07:58.739612Z",
     "iopub.status.idle": "2021-11-10T20:07:58.948663Z",
     "shell.execute_reply": "2021-11-10T20:07:58.949119Z"
    },
    "papermill": {
     "duration": 0.241969,
     "end_time": "2021-11-10T20:07:58.949270",
     "exception": false,
     "start_time": "2021-11-10T20:07:58.707301",
     "status": "completed"
    },
    "tags": []
   },
   "outputs": [],
   "source": [
    "test_images = mnist.test_images()\n",
    "test_labels = mnist.test_labels()"
   ]
  },
  {
   "cell_type": "code",
   "execution_count": 8,
   "id": "fc38cf1b",
   "metadata": {
    "execution": {
     "iopub.execute_input": "2021-11-10T20:07:59.020489Z",
     "iopub.status.busy": "2021-11-10T20:07:59.016422Z",
     "iopub.status.idle": "2021-11-10T20:07:59.025465Z",
     "shell.execute_reply": "2021-11-10T20:07:59.025043Z"
    },
    "papermill": {
     "duration": 0.050598,
     "end_time": "2021-11-10T20:07:59.025589",
     "exception": false,
     "start_time": "2021-11-10T20:07:58.974991",
     "status": "completed"
    },
    "tags": []
   },
   "outputs": [
    {
     "data": {
      "text/plain": [
       "((10000, 28, 28), (10000,))"
      ]
     },
     "execution_count": 8,
     "metadata": {},
     "output_type": "execute_result"
    }
   ],
   "source": [
    "test_images.shape, test_labels.shape"
   ]
  },
  {
   "cell_type": "code",
   "execution_count": 9,
   "id": "f9ed8fe0",
   "metadata": {
    "execution": {
     "iopub.execute_input": "2021-11-10T20:07:59.084748Z",
     "iopub.status.busy": "2021-11-10T20:07:59.084199Z",
     "iopub.status.idle": "2021-11-10T20:07:59.222656Z",
     "shell.execute_reply": "2021-11-10T20:07:59.223135Z"
    },
    "papermill": {
     "duration": 0.172075,
     "end_time": "2021-11-10T20:07:59.223314",
     "exception": false,
     "start_time": "2021-11-10T20:07:59.051239",
     "status": "completed"
    },
    "tags": []
   },
   "outputs": [
    {
     "name": "stdout",
     "output_type": "stream",
     "text": [
      "2\n"
     ]
    },
    {
     "data": {
      "text/plain": [
       "<matplotlib.image.AxesImage at 0x7f43914b70b8>"
      ]
     },
     "execution_count": 9,
     "metadata": {},
     "output_type": "execute_result"
    },
    {
     "data": {
      "image/png": "[encoded data removed]",
      "text/plain": [
       "<Figure size 432x288 with 1 Axes>"
      ]
     },
     "metadata": {
      "needs_background": "light"
     },
     "output_type": "display_data"
    }
   ],
   "source": [
    "image_index = 7776 # You may select anything up to 60,000\n",
    "print(train_labels[image_index]) \n",
    "plt.imshow(train_images[image_index], cmap='Greys')"
   ]
  },
  {
   "cell_type": "markdown",
   "id": "a8d2388d",
   "metadata": {
    "papermill": {
     "duration": 0.027289,
     "end_time": "2021-11-10T20:07:59.277517",
     "exception": false,
     "start_time": "2021-11-10T20:07:59.250228",
     "status": "completed"
    },
    "tags": []
   },
   "source": [
    "## Filter data to get 3 and 8 out"
   ]
  },
  {
   "cell_type": "code",
   "execution_count": 10,
   "id": "776f7fc7",
   "metadata": {
    "execution": {
     "iopub.execute_input": "2021-11-10T20:07:59.335629Z",
     "iopub.status.busy": "2021-11-10T20:07:59.335066Z",
     "iopub.status.idle": "2021-11-10T20:07:59.354993Z",
     "shell.execute_reply": "2021-11-10T20:07:59.354542Z"
    },
    "papermill": {
     "duration": 0.050856,
     "end_time": "2021-11-10T20:07:59.355120",
     "exception": false,
     "start_time": "2021-11-10T20:07:59.304264",
     "status": "completed"
    },
    "tags": []
   },
   "outputs": [],
   "source": [
    "train_filter = np.where((train_labels == 3 ) | (train_labels == 8))\n",
    "test_filter = np.where((test_labels == 3) | (test_labels == 8))\n",
    "X_train, y_train = train_images[train_filter], train_labels[train_filter]\n",
    "X_test, y_test = test_images[test_filter], test_labels[test_filter]"
   ]
  },
  {
   "cell_type": "markdown",
   "id": "948f0b7e",
   "metadata": {
    "papermill": {
     "duration": 0.026578,
     "end_time": "2021-11-10T20:07:59.408580",
     "exception": false,
     "start_time": "2021-11-10T20:07:59.382002",
     "status": "completed"
    },
    "tags": []
   },
   "source": [
    "We normalize the pizel values in the 0 to 1 range"
   ]
  },
  {
   "cell_type": "code",
   "execution_count": 11,
   "id": "ee4c2166",
   "metadata": {
    "execution": {
     "iopub.execute_input": "2021-11-10T20:07:59.469362Z",
     "iopub.status.busy": "2021-11-10T20:07:59.468825Z",
     "iopub.status.idle": "2021-11-10T20:07:59.515308Z",
     "shell.execute_reply": "2021-11-10T20:07:59.514779Z"
    },
    "papermill": {
     "duration": 0.080373,
     "end_time": "2021-11-10T20:07:59.515457",
     "exception": false,
     "start_time": "2021-11-10T20:07:59.435084",
     "status": "completed"
    },
    "tags": []
   },
   "outputs": [],
   "source": [
    "X_train = X_train/255.\n",
    "X_test = X_test/255."
   ]
  },
  {
   "cell_type": "markdown",
   "id": "ddcf4fab",
   "metadata": {
    "papermill": {
     "duration": 0.026662,
     "end_time": "2021-11-10T20:07:59.569350",
     "exception": false,
     "start_time": "2021-11-10T20:07:59.542688",
     "status": "completed"
    },
    "tags": []
   },
   "source": [
    "And setup the labels as 1 (when the digit is 3) and 0 (when the digit is 8)"
   ]
  },
  {
   "cell_type": "code",
   "execution_count": 12,
   "id": "7dc908f2",
   "metadata": {
    "execution": {
     "iopub.execute_input": "2021-11-10T20:07:59.633179Z",
     "iopub.status.busy": "2021-11-10T20:07:59.632632Z",
     "iopub.status.idle": "2021-11-10T20:07:59.641528Z",
     "shell.execute_reply": "2021-11-10T20:07:59.641075Z"
    },
    "papermill": {
     "duration": 0.045729,
     "end_time": "2021-11-10T20:07:59.641657",
     "exception": false,
     "start_time": "2021-11-10T20:07:59.595928",
     "status": "completed"
    },
    "tags": []
   },
   "outputs": [],
   "source": [
    "y_train = 1*(y_train==3)\n",
    "y_test = 1*(y_test==3)"
   ]
  },
  {
   "cell_type": "code",
   "execution_count": 13,
   "id": "01e4e969",
   "metadata": {
    "execution": {
     "iopub.execute_input": "2021-11-10T20:07:59.713148Z",
     "iopub.status.busy": "2021-11-10T20:07:59.708223Z",
     "iopub.status.idle": "2021-11-10T20:07:59.715855Z",
     "shell.execute_reply": "2021-11-10T20:07:59.716260Z"
    },
    "papermill": {
     "duration": 0.047938,
     "end_time": "2021-11-10T20:07:59.716406",
     "exception": false,
     "start_time": "2021-11-10T20:07:59.668468",
     "status": "completed"
    },
    "tags": []
   },
   "outputs": [
    {
     "data": {
      "text/plain": [
       "((11982, 28, 28), (1984, 28, 28))"
      ]
     },
     "execution_count": 13,
     "metadata": {},
     "output_type": "execute_result"
    }
   ],
   "source": [
    "X_train.shape, X_test.shape"
   ]
  },
  {
   "cell_type": "markdown",
   "id": "5ccf3f85",
   "metadata": {
    "papermill": {
     "duration": 0.02672,
     "end_time": "2021-11-10T20:07:59.770038",
     "exception": false,
     "start_time": "2021-11-10T20:07:59.743318",
     "status": "completed"
    },
    "tags": []
   },
   "source": [
    "We reshape the data to flatten the image pixels into a set of features or co-variates:"
   ]
  },
  {
   "cell_type": "code",
   "execution_count": 14,
   "id": "5286a4a3",
   "metadata": {
    "execution": {
     "iopub.execute_input": "2021-11-10T20:07:59.832101Z",
     "iopub.status.busy": "2021-11-10T20:07:59.828138Z",
     "iopub.status.idle": "2021-11-10T20:07:59.842138Z",
     "shell.execute_reply": "2021-11-10T20:07:59.842519Z"
    },
    "papermill": {
     "duration": 0.045519,
     "end_time": "2021-11-10T20:07:59.842668",
     "exception": false,
     "start_time": "2021-11-10T20:07:59.797149",
     "status": "completed"
    },
    "tags": []
   },
   "outputs": [
    {
     "data": {
      "text/plain": [
       "((11982, 784), (1984, 784))"
      ]
     },
     "execution_count": 14,
     "metadata": {},
     "output_type": "execute_result"
    }
   ],
   "source": [
    "X_train = X_train.reshape(X_train.shape[0], -1)\n",
    "X_test = X_test.reshape(X_test.shape[0], -1)\n",
    "X_train.shape, X_test.shape"
   ]
  },
  {
   "cell_type": "code",
   "execution_count": 15,
   "id": "73c5f88a",
   "metadata": {
    "execution": {
     "iopub.execute_input": "2021-11-10T20:07:59.916146Z",
     "iopub.status.busy": "2021-11-10T20:07:59.912220Z",
     "iopub.status.idle": "2021-11-10T20:07:59.925889Z",
     "shell.execute_reply": "2021-11-10T20:07:59.925452Z"
    },
    "papermill": {
     "duration": 0.056135,
     "end_time": "2021-11-10T20:07:59.926015",
     "exception": false,
     "start_time": "2021-11-10T20:07:59.869880",
     "status": "completed"
    },
    "tags": []
   },
   "outputs": [],
   "source": [
    "#Impoting functions from 'Kudzu'\n",
    "from kudzu.model import Model\n",
    "from kudzu.train import Learner\n",
    "from kudzu.optim import GD\n",
    "from kudzu.data import Data, Sampler,Dataloader\n",
    "\n",
    "from kudzu.callbacks import AccCallback\n",
    "from kudzu.callbacks import ClfCallback\n",
    "\n",
    "from kudzu.loss import MSE\n",
    "\n",
    "from kudzu.layer import Sigmoid,Relu\n",
    "from kudzu.layer import Affine"
   ]
  },
  {
   "cell_type": "markdown",
   "id": "bc01172a",
   "metadata": {
    "papermill": {
     "duration": 0.02706,
     "end_time": "2021-11-10T20:07:59.980619",
     "exception": false,
     "start_time": "2021-11-10T20:07:59.953559",
     "status": "completed"
    },
    "tags": []
   },
   "source": [
    "### Let us create a `Config` class, to store important parameters. \n",
    "This class essentially plays the role of a dictionary."
   ]
  },
  {
   "cell_type": "code",
   "execution_count": 16,
   "id": "978281aa",
   "metadata": {
    "execution": {
     "iopub.execute_input": "2021-11-10T20:08:00.039186Z",
     "iopub.status.busy": "2021-11-10T20:08:00.038648Z",
     "iopub.status.idle": "2021-11-10T20:08:00.052013Z",
     "shell.execute_reply": "2021-11-10T20:08:00.051574Z"
    },
    "papermill": {
     "duration": 0.044478,
     "end_time": "2021-11-10T20:08:00.052138",
     "exception": false,
     "start_time": "2021-11-10T20:08:00.007660",
     "status": "completed"
    },
    "tags": []
   },
   "outputs": [],
   "source": [
    "class Config:\n",
    "    pass\n",
    "config = Config()\n",
    "config.lr = 0.001\n",
    "config.num_epochs = 250\n",
    "config.bs = 50"
   ]
  },
  {
   "cell_type": "markdown",
   "id": "1385fa59",
   "metadata": {
    "papermill": {
     "duration": 0.027234,
     "end_time": "2021-11-10T20:08:00.106941",
     "exception": false,
     "start_time": "2021-11-10T20:08:00.079707",
     "status": "completed"
    },
    "tags": []
   },
   "source": [
    "### Running Models with the Training data\n",
    "Details about the network layers:\n",
    "- A first affine layer has 784 inputs and does 100 affine transforms. These are followed by a Relu\n",
    "- A second affine layer has 100 inputs from the 100 activations of the past layer, and does 100 affine transforms. These are followed by a Relu\n",
    "- A third affine layer has 100 activations and does 2 affine transformations to create an embedding for visualization. There is no non-linearity here.\n",
    "- A final \"logistic regression\" which has an affine transform from 2 inputs to 1 output, which is squeezed through a sigmoid.\n"
   ]
  },
  {
   "cell_type": "code",
   "execution_count": 17,
   "id": "2b9c66db",
   "metadata": {
    "execution": {
     "iopub.execute_input": "2021-11-10T20:08:00.165749Z",
     "iopub.status.busy": "2021-11-10T20:08:00.165229Z",
     "iopub.status.idle": "2021-11-10T20:08:00.178342Z",
     "shell.execute_reply": "2021-11-10T20:08:00.177910Z"
    },
    "papermill": {
     "duration": 0.044292,
     "end_time": "2021-11-10T20:08:00.178468",
     "exception": false,
     "start_time": "2021-11-10T20:08:00.134176",
     "status": "completed"
    },
    "tags": []
   },
   "outputs": [],
   "source": [
    "data = Data(X_train, y_train.reshape(-1,1))\n",
    "sampler = Sampler(data, config.bs, shuffle=True)\n",
    "\n",
    "dl = Dataloader(data, sampler)\n",
    "\n",
    "opt = GD(config.lr)\n",
    "loss = MSE()"
   ]
  },
  {
   "cell_type": "code",
   "execution_count": 18,
   "id": "b275e4c2",
   "metadata": {
    "execution": {
     "iopub.execute_input": "2021-11-10T20:08:00.242626Z",
     "iopub.status.busy": "2021-11-10T20:08:00.242093Z",
     "iopub.status.idle": "2021-11-10T20:08:00.251531Z",
     "shell.execute_reply": "2021-11-10T20:08:00.251074Z"
    },
    "papermill": {
     "duration": 0.045859,
     "end_time": "2021-11-10T20:08:00.251664",
     "exception": false,
     "start_time": "2021-11-10T20:08:00.205805",
     "status": "completed"
    },
    "tags": []
   },
   "outputs": [],
   "source": [
    "training_data_x = X_train\n",
    "testing_data_x = X_test\n",
    "training_data_y = y_train.reshape(-1,1)\n",
    "testing_data_y = y_test.reshape(-1,1)"
   ]
  },
  {
   "cell_type": "code",
   "execution_count": 19,
   "id": "76951160",
   "metadata": {
    "execution": {
     "iopub.execute_input": "2021-11-10T20:08:00.327487Z",
     "iopub.status.busy": "2021-11-10T20:08:00.320184Z",
     "iopub.status.idle": "2021-11-10T20:08:00.330240Z",
     "shell.execute_reply": "2021-11-10T20:08:00.329823Z"
    },
    "papermill": {
     "duration": 0.051518,
     "end_time": "2021-11-10T20:08:00.330363",
     "exception": false,
     "start_time": "2021-11-10T20:08:00.278845",
     "status": "completed"
    },
    "tags": []
   },
   "outputs": [
    {
     "name": "stdout",
     "output_type": "stream",
     "text": [
      "xavier\n",
      "xavier\n",
      "xavier\n",
      "xavier\n",
      "xavier\n"
     ]
    }
   ],
   "source": [
    "layers = [Affine(\"first\", 784, 100), Relu(\"first\"), Affine(\"second\", 100, 100), Relu(\"second\"), Affine(\"third\", 100, 2), Affine(\"last\", 2, 1), Sigmoid(\"last\")]\n",
    "model_nn = Model(layers)\n",
    "model_lr = Model([Affine(\"logits\", 784, 1), Sigmoid(\"sigmoid\")])"
   ]
  },
  {
   "cell_type": "code",
   "execution_count": 20,
   "id": "6eede77a",
   "metadata": {
    "execution": {
     "iopub.execute_input": "2021-11-10T20:08:00.391853Z",
     "iopub.status.busy": "2021-11-10T20:08:00.391288Z",
     "iopub.status.idle": "2021-11-10T20:08:00.402971Z",
     "shell.execute_reply": "2021-11-10T20:08:00.402524Z"
    },
    "papermill": {
     "duration": 0.044951,
     "end_time": "2021-11-10T20:08:00.403090",
     "exception": false,
     "start_time": "2021-11-10T20:08:00.358139",
     "status": "completed"
    },
    "tags": []
   },
   "outputs": [],
   "source": [
    "nn_learner = Learner(loss, model_nn, opt, config.num_epochs)\n",
    "acc_nn = ClfCallback(nn_learner, config.bs, training_data_x , testing_data_x, training_data_y, testing_data_y)\n",
    "nn_learner.set_callbacks([acc_nn])"
   ]
  },
  {
   "cell_type": "code",
   "execution_count": 21,
   "id": "877b6cc7",
   "metadata": {
    "execution": {
     "iopub.execute_input": "2021-11-10T20:08:00.462512Z",
     "iopub.status.busy": "2021-11-10T20:08:00.461989Z",
     "iopub.status.idle": "2021-11-10T20:08:00.474697Z",
     "shell.execute_reply": "2021-11-10T20:08:00.474231Z"
    },
    "papermill": {
     "duration": 0.044065,
     "end_time": "2021-11-10T20:08:00.474817",
     "exception": false,
     "start_time": "2021-11-10T20:08:00.430752",
     "status": "completed"
    },
    "tags": []
   },
   "outputs": [],
   "source": [
    "lr_learner = Learner(loss, model_lr, opt, config.num_epochs)\n",
    "acc_lr = ClfCallback(lr_learner, config.bs, training_data_x , testing_data_x, training_data_y, testing_data_y)\n",
    "lr_learner.set_callbacks([acc_lr])"
   ]
  },
  {
   "cell_type": "code",
   "execution_count": 22,
   "id": "d9b133c3",
   "metadata": {
    "execution": {
     "iopub.execute_input": "2021-11-10T20:08:00.548614Z",
     "iopub.status.busy": "2021-11-10T20:08:00.548056Z",
     "iopub.status.idle": "2021-11-10T20:09:18.798483Z",
     "shell.execute_reply": "2021-11-10T20:09:18.799232Z"
    },
    "papermill": {
     "duration": 78.296842,
     "end_time": "2021-11-10T20:09:18.799410",
     "exception": false,
     "start_time": "2021-11-10T20:08:00.502568",
     "status": "completed"
    },
    "tags": []
   },
   "outputs": [
    {
     "name": "stdout",
     "output_type": "stream",
     "text": [
      "Epoch 0, Loss 0.2287\n",
      "Training Accuracy: 0.7729, Testing Accuracy: 0.7868\n",
      "\n"
     ]
    },
    {
     "name": "stdout",
     "output_type": "stream",
     "text": [
      "Epoch 10, Loss 0.067\n",
      "Training Accuracy: 0.9307, Testing Accuracy: 0.9451\n",
      "\n"
     ]
    },
    {
     "name": "stdout",
     "output_type": "stream",
     "text": [
      "Epoch 20, Loss 0.0467\n",
      "Training Accuracy: 0.9496, Testing Accuracy: 0.9617\n",
      "\n"
     ]
    },
    {
     "name": "stdout",
     "output_type": "stream",
     "text": [
      "Epoch 30, Loss 0.0386\n",
      "Training Accuracy: 0.9589, Testing Accuracy: 0.9662\n",
      "\n"
     ]
    },
    {
     "name": "stdout",
     "output_type": "stream",
     "text": [
      "Epoch 40, Loss 0.034\n",
      "Training Accuracy: 0.9620, Testing Accuracy: 0.9703\n",
      "\n"
     ]
    },
    {
     "name": "stdout",
     "output_type": "stream",
     "text": [
      "Epoch 50, Loss 0.0311\n",
      "Training Accuracy: 0.9651, Testing Accuracy: 0.9738\n",
      "\n"
     ]
    },
    {
     "name": "stdout",
     "output_type": "stream",
     "text": [
      "Epoch 60, Loss 0.029\n",
      "Training Accuracy: 0.9672, Testing Accuracy: 0.9743\n",
      "\n"
     ]
    },
    {
     "name": "stdout",
     "output_type": "stream",
     "text": [
      "Epoch 70, Loss 0.0273\n",
      "Training Accuracy: 0.9695, Testing Accuracy: 0.9748\n",
      "\n"
     ]
    },
    {
     "name": "stdout",
     "output_type": "stream",
     "text": [
      "Epoch 80, Loss 0.026\n",
      "Training Accuracy: 0.9705, Testing Accuracy: 0.9738\n",
      "\n"
     ]
    },
    {
     "name": "stdout",
     "output_type": "stream",
     "text": [
      "Epoch 90, Loss 0.0249\n",
      "Training Accuracy: 0.9715, Testing Accuracy: 0.9738\n",
      "\n"
     ]
    },
    {
     "name": "stdout",
     "output_type": "stream",
     "text": [
      "Epoch 100, Loss 0.0239\n",
      "Training Accuracy: 0.9728, Testing Accuracy: 0.9743\n",
      "\n"
     ]
    },
    {
     "name": "stdout",
     "output_type": "stream",
     "text": [
      "Epoch 110, Loss 0.0231\n",
      "Training Accuracy: 0.9740, Testing Accuracy: 0.9743\n",
      "\n"
     ]
    },
    {
     "name": "stdout",
     "output_type": "stream",
     "text": [
      "Epoch 120, Loss 0.0223\n",
      "Training Accuracy: 0.9744, Testing Accuracy: 0.9748\n",
      "\n"
     ]
    },
    {
     "name": "stdout",
     "output_type": "stream",
     "text": [
      "Epoch 130, Loss 0.0216\n",
      "Training Accuracy: 0.9757, Testing Accuracy: 0.9758\n",
      "\n"
     ]
    },
    {
     "name": "stdout",
     "output_type": "stream",
     "text": [
      "Epoch 140, Loss 0.0209\n",
      "Training Accuracy: 0.9769, Testing Accuracy: 0.9773\n",
      "\n"
     ]
    },
    {
     "name": "stdout",
     "output_type": "stream",
     "text": [
      "Epoch 150, Loss 0.0203\n",
      "Training Accuracy: 0.9779, Testing Accuracy: 0.9773\n",
      "\n"
     ]
    },
    {
     "name": "stdout",
     "output_type": "stream",
     "text": [
      "Epoch 160, Loss 0.0198\n",
      "Training Accuracy: 0.9790, Testing Accuracy: 0.9773\n",
      "\n"
     ]
    },
    {
     "name": "stdout",
     "output_type": "stream",
     "text": [
      "Epoch 170, Loss 0.0192\n",
      "Training Accuracy: 0.9794, Testing Accuracy: 0.9778\n",
      "\n"
     ]
    },
    {
     "name": "stdout",
     "output_type": "stream",
     "text": [
      "Epoch 180, Loss 0.0187\n",
      "Training Accuracy: 0.9796, Testing Accuracy: 0.9778\n",
      "\n"
     ]
    },
    {
     "name": "stdout",
     "output_type": "stream",
     "text": [
      "Epoch 190, Loss 0.0182\n",
      "Training Accuracy: 0.9799, Testing Accuracy: 0.9778\n",
      "\n"
     ]
    },
    {
     "name": "stdout",
     "output_type": "stream",
     "text": [
      "Epoch 200, Loss 0.0178\n",
      "Training Accuracy: 0.9809, Testing Accuracy: 0.9783\n",
      "\n"
     ]
    },
    {
     "name": "stdout",
     "output_type": "stream",
     "text": [
      "Epoch 210, Loss 0.0173\n",
      "Training Accuracy: 0.9815, Testing Accuracy: 0.9788\n",
      "\n"
     ]
    },
    {
     "name": "stdout",
     "output_type": "stream",
     "text": [
      "Epoch 220, Loss 0.0169\n",
      "Training Accuracy: 0.9820, Testing Accuracy: 0.9783\n",
      "\n"
     ]
    },
    {
     "name": "stdout",
     "output_type": "stream",
     "text": [
      "Epoch 230, Loss 0.0165\n",
      "Training Accuracy: 0.9823, Testing Accuracy: 0.9783\n",
      "\n"
     ]
    },
    {
     "name": "stdout",
     "output_type": "stream",
     "text": [
      "Epoch 240, Loss 0.0161\n",
      "Training Accuracy: 0.9828, Testing Accuracy: 0.9788\n",
      "\n"
     ]
    },
    {
     "data": {
      "text/plain": [
       "0.004470871696703595"
      ]
     },
     "execution_count": 22,
     "metadata": {},
     "output_type": "execute_result"
    }
   ],
   "source": [
    "nn_learner.train_loop(dl)"
   ]
  },
  {
   "cell_type": "code",
   "execution_count": 23,
   "id": "e0163366",
   "metadata": {
    "execution": {
     "iopub.execute_input": "2021-11-10T20:09:18.877186Z",
     "iopub.status.busy": "2021-11-10T20:09:18.876657Z",
     "iopub.status.idle": "2021-11-10T20:09:33.716798Z",
     "shell.execute_reply": "2021-11-10T20:09:33.717598Z"
    },
    "papermill": {
     "duration": 14.883641,
     "end_time": "2021-11-10T20:09:33.717767",
     "exception": false,
     "start_time": "2021-11-10T20:09:18.834126",
     "status": "completed"
    },
    "tags": []
   },
   "outputs": [
    {
     "name": "stdout",
     "output_type": "stream",
     "text": [
      "Epoch 0, Loss 0.2655\n",
      "Training Accuracy: 0.5787, Testing Accuracy: 0.6018\n",
      "\n"
     ]
    },
    {
     "name": "stdout",
     "output_type": "stream",
     "text": [
      "Epoch 10, Loss 0.1056\n",
      "Training Accuracy: 0.9039, Testing Accuracy: 0.9189\n",
      "\n"
     ]
    },
    {
     "name": "stdout",
     "output_type": "stream",
     "text": [
      "Epoch 20, Loss 0.0809\n",
      "Training Accuracy: 0.9246, Testing Accuracy: 0.9345\n",
      "\n"
     ]
    },
    {
     "name": "stdout",
     "output_type": "stream",
     "text": [
      "Epoch 30, Loss 0.0696\n",
      "Training Accuracy: 0.9326, Testing Accuracy: 0.9446\n",
      "\n"
     ]
    },
    {
     "name": "stdout",
     "output_type": "stream",
     "text": [
      "Epoch 40, Loss 0.0628\n",
      "Training Accuracy: 0.9393, Testing Accuracy: 0.9486\n",
      "\n"
     ]
    },
    {
     "name": "stdout",
     "output_type": "stream",
     "text": [
      "Epoch 50, Loss 0.0581\n",
      "Training Accuracy: 0.9432, Testing Accuracy: 0.9511\n",
      "\n"
     ]
    },
    {
     "name": "stdout",
     "output_type": "stream",
     "text": [
      "Epoch 60, Loss 0.0547\n",
      "Training Accuracy: 0.9460, Testing Accuracy: 0.9551\n",
      "\n"
     ]
    },
    {
     "name": "stdout",
     "output_type": "stream",
     "text": [
      "Epoch 70, Loss 0.052\n",
      "Training Accuracy: 0.9476, Testing Accuracy: 0.9582\n",
      "\n"
     ]
    },
    {
     "name": "stdout",
     "output_type": "stream",
     "text": [
      "Epoch 80, Loss 0.0499\n",
      "Training Accuracy: 0.9502, Testing Accuracy: 0.9587\n",
      "\n"
     ]
    },
    {
     "name": "stdout",
     "output_type": "stream",
     "text": [
      "Epoch 90, Loss 0.0482\n",
      "Training Accuracy: 0.9516, Testing Accuracy: 0.9607\n",
      "\n"
     ]
    },
    {
     "name": "stdout",
     "output_type": "stream",
     "text": [
      "Epoch 100, Loss 0.0467\n",
      "Training Accuracy: 0.9528, Testing Accuracy: 0.9607\n",
      "\n"
     ]
    },
    {
     "name": "stdout",
     "output_type": "stream",
     "text": [
      "Epoch 110, Loss 0.0454\n",
      "Training Accuracy: 0.9538, Testing Accuracy: 0.9617\n",
      "\n"
     ]
    },
    {
     "name": "stdout",
     "output_type": "stream",
     "text": [
      "Epoch 120, Loss 0.0443\n",
      "Training Accuracy: 0.9545, Testing Accuracy: 0.9637\n",
      "\n"
     ]
    },
    {
     "name": "stdout",
     "output_type": "stream",
     "text": [
      "Epoch 130, Loss 0.0433\n",
      "Training Accuracy: 0.9555, Testing Accuracy: 0.9657\n",
      "\n"
     ]
    },
    {
     "name": "stdout",
     "output_type": "stream",
     "text": [
      "Epoch 140, Loss 0.0425\n",
      "Training Accuracy: 0.9560, Testing Accuracy: 0.9662\n",
      "\n"
     ]
    },
    {
     "name": "stdout",
     "output_type": "stream",
     "text": [
      "Epoch 150, Loss 0.0417\n",
      "Training Accuracy: 0.9567, Testing Accuracy: 0.9662\n",
      "\n"
     ]
    },
    {
     "name": "stdout",
     "output_type": "stream",
     "text": [
      "Epoch 160, Loss 0.041\n",
      "Training Accuracy: 0.9571, Testing Accuracy: 0.9667\n",
      "\n"
     ]
    },
    {
     "name": "stdout",
     "output_type": "stream",
     "text": [
      "Epoch 170, Loss 0.0404\n",
      "Training Accuracy: 0.9579, Testing Accuracy: 0.9667\n",
      "\n"
     ]
    },
    {
     "name": "stdout",
     "output_type": "stream",
     "text": [
      "Epoch 180, Loss 0.0398\n",
      "Training Accuracy: 0.9586, Testing Accuracy: 0.9662\n",
      "\n"
     ]
    },
    {
     "name": "stdout",
     "output_type": "stream",
     "text": [
      "Epoch 190, Loss 0.0392\n",
      "Training Accuracy: 0.9587, Testing Accuracy: 0.9667\n",
      "\n"
     ]
    },
    {
     "name": "stdout",
     "output_type": "stream",
     "text": [
      "Epoch 200, Loss 0.0387\n",
      "Training Accuracy: 0.9590, Testing Accuracy: 0.9672\n",
      "\n"
     ]
    },
    {
     "name": "stdout",
     "output_type": "stream",
     "text": [
      "Epoch 210, Loss 0.0383\n",
      "Training Accuracy: 0.9597, Testing Accuracy: 0.9672\n",
      "\n"
     ]
    },
    {
     "name": "stdout",
     "output_type": "stream",
     "text": [
      "Epoch 220, Loss 0.0379\n",
      "Training Accuracy: 0.9598, Testing Accuracy: 0.9688\n",
      "\n"
     ]
    },
    {
     "name": "stdout",
     "output_type": "stream",
     "text": [
      "Epoch 230, Loss 0.0375\n",
      "Training Accuracy: 0.9600, Testing Accuracy: 0.9688\n",
      "\n"
     ]
    },
    {
     "name": "stdout",
     "output_type": "stream",
     "text": [
      "Epoch 240, Loss 0.0371\n",
      "Training Accuracy: 0.9603, Testing Accuracy: 0.9688\n",
      "\n"
     ]
    },
    {
     "data": {
      "text/plain": [
       "0.02243545462461147"
      ]
     },
     "execution_count": 23,
     "metadata": {},
     "output_type": "execute_result"
    }
   ],
   "source": [
    "lr_learner.train_loop(dl)"
   ]
  },
  {
   "cell_type": "code",
   "execution_count": 24,
   "id": "ca410940",
   "metadata": {
    "execution": {
     "iopub.execute_input": "2021-11-10T20:09:33.812925Z",
     "iopub.status.busy": "2021-11-10T20:09:33.812356Z",
     "iopub.status.idle": "2021-11-10T20:09:34.056736Z",
     "shell.execute_reply": "2021-11-10T20:09:34.056228Z"
    },
    "papermill": {
     "duration": 0.297463,
     "end_time": "2021-11-10T20:09:34.056880",
     "exception": false,
     "start_time": "2021-11-10T20:09:33.759417",
     "status": "completed"
    },
    "tags": []
   },
   "outputs": [
    {
     "data": {
      "text/plain": [
       "<matplotlib.legend.Legend at 0x7f439101b828>"
      ]
     },
     "execution_count": 24,
     "metadata": {},
     "output_type": "execute_result"
    },
    {
     "data": {
      "image/png": "[encoded data removed]",
      "text/plain": [
       "<Figure size 1080x720 with 1 Axes>"
      ]
     },
     "metadata": {
      "needs_background": "light"
     },
     "output_type": "display_data"
    }
   ],
   "source": [
    "#comparing the results of NN and LR\n",
    "plt.figure(figsize=(15,10))\n",
    "\n",
    "# Neural Network plots\n",
    "plt.plot(acc_nn.accuracies, 'r-', label = \"Training Accuracies - NN\")\n",
    "plt.plot(acc_nn.test_accuracies, 'g-', label = \"Testing Accuracies - NN\")\n",
    "\n",
    "# Logistic Regression plots\n",
    "plt.plot(acc_lr.accuracies, 'k-', label = \"Training Accuracies - LR\")\n",
    "plt.plot(acc_lr.test_accuracies, 'b-', label = \"Testing Accuracies - LR\")\n",
    "plt.legend()"
   ]
  },
  {
   "cell_type": "markdown",
   "id": "80dfb35c",
   "metadata": {
    "papermill": {
     "duration": 0.042617,
     "end_time": "2021-11-10T20:09:34.142774",
     "exception": false,
     "start_time": "2021-11-10T20:09:34.100157",
     "status": "completed"
    },
    "tags": []
   },
   "source": [
    "#### Plotting the outputs of this layer of the NN.\n"
   ]
  },
  {
   "cell_type": "code",
   "execution_count": 25,
   "id": "45eb2ff5",
   "metadata": {
    "execution": {
     "iopub.execute_input": "2021-11-10T20:09:34.232821Z",
     "iopub.status.busy": "2021-11-10T20:09:34.232268Z",
     "iopub.status.idle": "2021-11-10T20:09:34.253371Z",
     "shell.execute_reply": "2021-11-10T20:09:34.252839Z"
    },
    "papermill": {
     "duration": 0.068108,
     "end_time": "2021-11-10T20:09:34.253500",
     "exception": false,
     "start_time": "2021-11-10T20:09:34.185392",
     "status": "completed"
    },
    "tags": []
   },
   "outputs": [],
   "source": [
    "new_model = Model(layers[:-2])\n",
    "testing_plot = new_model(testing_data_x)"
   ]
  },
  {
   "cell_type": "code",
   "execution_count": 26,
   "id": "4c0a5485",
   "metadata": {
    "execution": {
     "iopub.execute_input": "2021-11-10T20:09:34.347195Z",
     "iopub.status.busy": "2021-11-10T20:09:34.345542Z",
     "iopub.status.idle": "2021-11-10T20:09:34.544180Z",
     "shell.execute_reply": "2021-11-10T20:09:34.544578Z"
    },
    "papermill": {
     "duration": 0.247266,
     "end_time": "2021-11-10T20:09:34.544729",
     "exception": false,
     "start_time": "2021-11-10T20:09:34.297463",
     "status": "completed"
    },
    "tags": []
   },
   "outputs": [
    {
     "data": {
      "text/plain": [
       "Text(0.5, 1.0, 'Outputs')"
      ]
     },
     "execution_count": 26,
     "metadata": {},
     "output_type": "execute_result"
    },
    {
     "data": {
      "image/png": "[encoded data removed]",
      "text/plain": [
       "<Figure size 576x504 with 1 Axes>"
      ]
     },
     "metadata": {
      "needs_background": "light"
     },
     "output_type": "display_data"
    }
   ],
   "source": [
    "# Plotting the scatter plot of points and color coding by class\n",
    "plt.figure(figsize=(8,7))\n",
    "plt.scatter(testing_plot[:,0], testing_plot[:,1], alpha = 0.1, c = y_test.ravel());\n",
    "plt.title('Outputs')"
   ]
  },
  {
   "cell_type": "markdown",
   "id": "a74fcf8f",
   "metadata": {
    "papermill": {
     "duration": 0.044919,
     "end_time": "2021-11-10T20:09:34.634750",
     "exception": false,
     "start_time": "2021-11-10T20:09:34.589831",
     "status": "completed"
    },
    "tags": []
   },
   "source": [
    "Probability contours"
   ]
  },
  {
   "cell_type": "code",
   "execution_count": 27,
   "id": "d0afc8e3",
   "metadata": {
    "execution": {
     "iopub.execute_input": "2021-11-10T20:09:34.730332Z",
     "iopub.status.busy": "2021-11-10T20:09:34.729763Z",
     "iopub.status.idle": "2021-11-10T20:09:34.741599Z",
     "shell.execute_reply": "2021-11-10T20:09:34.741130Z"
    },
    "papermill": {
     "duration": 0.061461,
     "end_time": "2021-11-10T20:09:34.741731",
     "exception": false,
     "start_time": "2021-11-10T20:09:34.680270",
     "status": "completed"
    },
    "tags": []
   },
   "outputs": [],
   "source": [
    "model_prob = Model(layers[-2:]) "
   ]
  },
  {
   "cell_type": "code",
   "execution_count": 28,
   "id": "9b96e238",
   "metadata": {
    "execution": {
     "iopub.execute_input": "2021-11-10T20:09:34.891759Z",
     "iopub.status.busy": "2021-11-10T20:09:34.884275Z",
     "iopub.status.idle": "2021-11-10T20:09:34.892430Z",
     "shell.execute_reply": "2021-11-10T20:09:34.892840Z"
    },
    "papermill": {
     "duration": 0.068239,
     "end_time": "2021-11-10T20:09:34.892992",
     "exception": false,
     "start_time": "2021-11-10T20:09:34.824753",
     "status": "completed"
    },
    "tags": []
   },
   "outputs": [],
   "source": [
    "#creating the x and y ranges according to the above generated plot.\n",
    "x_range = np.linspace(-4, 1, 100) \n",
    "y_range = np.linspace(-6, 6, 100) \n",
    "x_grid, y_grid = np.meshgrid(x_range, y_range) # x_grid and y_grig are of size 100 X 100\n",
    "\n",
    "# converting x_grid and y_grid to continuous arrays\n",
    "x_gridflat = np.ravel(x_grid)\n",
    "y_gridflat = np.ravel(y_grid)\n",
    "\n",
    "# The last layer of the current model takes two columns as input. Hence transpose of np.vstack() is required.\n",
    "X = np.vstack((x_gridflat, y_gridflat)).T\n",
    "\n",
    "prob_contour = model_prob(X).reshape(100,100) "
   ]
  },
  {
   "cell_type": "code",
   "execution_count": 29,
   "id": "da72499a",
   "metadata": {
    "execution": {
     "iopub.execute_input": "2021-11-10T20:09:34.996567Z",
     "iopub.status.busy": "2021-11-10T20:09:34.996032Z",
     "iopub.status.idle": "2021-11-10T20:09:35.242292Z",
     "shell.execute_reply": "2021-11-10T20:09:35.241858Z"
    },
    "papermill": {
     "duration": 0.303836,
     "end_time": "2021-11-10T20:09:35.242420",
     "exception": false,
     "start_time": "2021-11-10T20:09:34.938584",
     "status": "completed"
    },
    "tags": []
   },
   "outputs": [
    {
     "data": {
      "image/png": "[encoded data removed]",
      "text/plain": [
       "<Figure size 720x648 with 1 Axes>"
      ]
     },
     "metadata": {
      "needs_background": "light"
     },
     "output_type": "display_data"
    }
   ],
   "source": [
    "plt.figure(figsize=(10,9))\n",
    "plt.scatter(testing_plot[:,0], testing_plot[:,1], alpha = 0.1, c = y_test.ravel())\n",
    "contours = plt.contour(x_grid,y_grid,prob_contour)\n",
    "plt.title('Probability Contours')\n",
    "plt.clabel(contours, inline = True );"
   ]
  },
  {
   "cell_type": "code",
   "execution_count": null,
   "id": "e81b4ac7",
   "metadata": {
    "papermill": {
     "duration": 0.047779,
     "end_time": "2021-11-10T20:09:35.338316",
     "exception": false,
     "start_time": "2021-11-10T20:09:35.290537",
     "status": "completed"
    },
    "tags": []
   },
   "outputs": [],
   "source": []
  }
 ],
 "metadata": {
  "kernelspec": {
   "display_name": "Python 3",
   "language": "python",
   "name": "python3"
  },
  "language_info": {
   "codemirror_mode": {
    "name": "ipython",
    "version": 3
   },
   "file_extension": ".py",
   "mimetype": "text/x-python",
   "name": "python",
   "nbconvert_exporter": "python",
   "pygments_lexer": "ipython3",
   "version": "3.6.15"
  },
  "papermill": {
   "default_parameters": {},
   "duration": 102.456392,
   "end_time": "2021-11-10T20:09:35.794165",
   "environment_variables": {},
   "exception": null,
   "input_path": "2020-08-11-part2.ipynb",
   "output_path": "2020-08-11-part2.ipynb",
   "parameters": {},
   "start_time": "2021-11-10T20:07:53.337773",
   "version": "2.3.3"
  }
 },
 "nbformat": 4,
 "nbformat_minor": 5
}