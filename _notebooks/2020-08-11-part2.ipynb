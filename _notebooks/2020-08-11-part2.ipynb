{
 "cells": [
  {
   "cell_type": "markdown",
   "id": "98380cd3",
   "metadata": {
    "papermill": {
     "duration": 0.029489,
     "end_time": "2021-11-10T10:07:38.653770",
     "exception": false,
     "start_time": "2021-11-10T10:07:38.624281",
     "status": "completed"
    },
    "tags": []
   },
   "source": [
    "# Distinguish Your Own Digits (DYOD)"
   ]
  },
  {
   "cell_type": "markdown",
   "id": "ef31240d",
   "metadata": {
    "papermill": {
     "duration": 0.025605,
     "end_time": "2021-11-10T10:07:38.704162",
     "exception": false,
     "start_time": "2021-11-10T10:07:38.678557",
     "status": "completed"
    },
    "tags": []
   },
   "source": [
    "You are going to write a classifier that distinguishes between the number 3 and number 8."
   ]
  },
  {
   "cell_type": "code",
   "execution_count": 1,
   "id": "b15c8646",
   "metadata": {
    "execution": {
     "iopub.execute_input": "2021-11-10T10:07:38.763028Z",
     "iopub.status.busy": "2021-11-10T10:07:38.762470Z",
     "iopub.status.idle": "2021-11-10T10:07:38.773020Z",
     "shell.execute_reply": "2021-11-10T10:07:38.772575Z"
    },
    "papermill": {
     "duration": 0.045028,
     "end_time": "2021-11-10T10:07:38.773164",
     "exception": false,
     "start_time": "2021-11-10T10:07:38.728136",
     "status": "completed"
    },
    "tags": []
   },
   "outputs": [],
   "source": [
    "%load_ext autoreload\n",
    "%autoreload 2"
   ]
  },
  {
   "cell_type": "code",
   "execution_count": 2,
   "id": "22ef38dc",
   "metadata": {
    "execution": {
     "iopub.execute_input": "2021-11-10T10:07:38.826621Z",
     "iopub.status.busy": "2021-11-10T10:07:38.826072Z",
     "iopub.status.idle": "2021-11-10T10:07:39.371524Z",
     "shell.execute_reply": "2021-11-10T10:07:39.370956Z"
    },
    "papermill": {
     "duration": 0.574206,
     "end_time": "2021-11-10T10:07:39.371663",
     "exception": false,
     "start_time": "2021-11-10T10:07:38.797457",
     "status": "completed"
    },
    "tags": []
   },
   "outputs": [],
   "source": [
    "%matplotlib inline\n",
    "import numpy as np\n",
    "import matplotlib.pyplot as plt\n",
    "import pandas as pd"
   ]
  },
  {
   "cell_type": "markdown",
   "id": "ba036198",
   "metadata": {
    "papermill": {
     "duration": 0.024137,
     "end_time": "2021-11-10T10:07:39.420997",
     "exception": false,
     "start_time": "2021-11-10T10:07:39.396860",
     "status": "completed"
    },
    "tags": []
   },
   "source": [
    "From the command line run `pip install mnist`. This is a library that will help you bring down the mnist dataset. If you run this from a notebook, you need to put  `!pip install mnist` in a cell by itself."
   ]
  },
  {
   "cell_type": "code",
   "execution_count": 3,
   "id": "bb6ad8a1",
   "metadata": {
    "execution": {
     "iopub.execute_input": "2021-11-10T10:07:39.475063Z",
     "iopub.status.busy": "2021-11-10T10:07:39.474497Z",
     "iopub.status.idle": "2021-11-10T10:07:42.007155Z",
     "shell.execute_reply": "2021-11-10T10:07:42.006611Z"
    },
    "papermill": {
     "duration": 2.561931,
     "end_time": "2021-11-10T10:07:42.007306",
     "exception": false,
     "start_time": "2021-11-10T10:07:39.445375",
     "status": "completed"
    },
    "tags": []
   },
   "outputs": [
    {
     "name": "stdout",
     "output_type": "stream",
     "text": [
      "Collecting mnist\r\n"
     ]
    },
    {
     "name": "stdout",
     "output_type": "stream",
     "text": [
      "  Downloading mnist-0.2.2-py2.py3-none-any.whl (3.5 kB)\r\n",
      "Requirement already satisfied: numpy in /opt/hostedtoolcache/Python/3.6.15/x64/lib/python3.6/site-packages (from mnist) (1.19.5)\r\n"
     ]
    },
    {
     "name": "stdout",
     "output_type": "stream",
     "text": [
      "Installing collected packages: mnist\r\n",
      "Successfully installed mnist-0.2.2\r\n"
     ]
    }
   ],
   "source": [
    "!pip install mnist"
   ]
  },
  {
   "cell_type": "markdown",
   "id": "69df9c9a",
   "metadata": {
    "papermill": {
     "duration": 0.02502,
     "end_time": "2021-11-10T10:07:42.057433",
     "exception": false,
     "start_time": "2021-11-10T10:07:42.032413",
     "status": "completed"
    },
    "tags": []
   },
   "source": [
    "## Preparing the Data"
   ]
  },
  {
   "cell_type": "code",
   "execution_count": 4,
   "id": "7f69d806",
   "metadata": {
    "execution": {
     "iopub.execute_input": "2021-11-10T10:07:42.114035Z",
     "iopub.status.busy": "2021-11-10T10:07:42.111987Z",
     "iopub.status.idle": "2021-11-10T10:07:42.125739Z",
     "shell.execute_reply": "2021-11-10T10:07:42.125305Z"
    },
    "papermill": {
     "duration": 0.043469,
     "end_time": "2021-11-10T10:07:42.125869",
     "exception": false,
     "start_time": "2021-11-10T10:07:42.082400",
     "status": "completed"
    },
    "tags": []
   },
   "outputs": [],
   "source": [
    "import mnist"
   ]
  },
  {
   "cell_type": "code",
   "execution_count": 5,
   "id": "a411e44f",
   "metadata": {
    "execution": {
     "iopub.execute_input": "2021-11-10T10:07:42.184476Z",
     "iopub.status.busy": "2021-11-10T10:07:42.183936Z",
     "iopub.status.idle": "2021-11-10T10:07:42.708303Z",
     "shell.execute_reply": "2021-11-10T10:07:42.707756Z"
    },
    "papermill": {
     "duration": 0.557472,
     "end_time": "2021-11-10T10:07:42.708454",
     "exception": false,
     "start_time": "2021-11-10T10:07:42.150982",
     "status": "completed"
    },
    "tags": []
   },
   "outputs": [],
   "source": [
    "train_images = mnist.train_images()\n",
    "train_labels = mnist.train_labels()"
   ]
  },
  {
   "cell_type": "code",
   "execution_count": 6,
   "id": "dceab3a5",
   "metadata": {
    "execution": {
     "iopub.execute_input": "2021-11-10T10:07:42.768170Z",
     "iopub.status.busy": "2021-11-10T10:07:42.767590Z",
     "iopub.status.idle": "2021-11-10T10:07:42.779947Z",
     "shell.execute_reply": "2021-11-10T10:07:42.779479Z"
    },
    "papermill": {
     "duration": 0.046057,
     "end_time": "2021-11-10T10:07:42.780076",
     "exception": false,
     "start_time": "2021-11-10T10:07:42.734019",
     "status": "completed"
    },
    "tags": []
   },
   "outputs": [
    {
     "data": {
      "text/plain": [
       "((60000, 28, 28), (60000,))"
      ]
     },
     "execution_count": 6,
     "metadata": {},
     "output_type": "execute_result"
    }
   ],
   "source": [
    "train_images.shape, train_labels.shape"
   ]
  },
  {
   "cell_type": "code",
   "execution_count": 7,
   "id": "f50dc2bb",
   "metadata": {
    "execution": {
     "iopub.execute_input": "2021-11-10T10:07:42.835292Z",
     "iopub.status.busy": "2021-11-10T10:07:42.834760Z",
     "iopub.status.idle": "2021-11-10T10:07:42.985032Z",
     "shell.execute_reply": "2021-11-10T10:07:42.985615Z"
    },
    "papermill": {
     "duration": 0.180673,
     "end_time": "2021-11-10T10:07:42.985843",
     "exception": false,
     "start_time": "2021-11-10T10:07:42.805170",
     "status": "completed"
    },
    "tags": []
   },
   "outputs": [],
   "source": [
    "test_images = mnist.test_images()\n",
    "test_labels = mnist.test_labels()"
   ]
  },
  {
   "cell_type": "code",
   "execution_count": 8,
   "id": "fc38cf1b",
   "metadata": {
    "execution": {
     "iopub.execute_input": "2021-11-10T10:07:43.040742Z",
     "iopub.status.busy": "2021-11-10T10:07:43.040208Z",
     "iopub.status.idle": "2021-11-10T10:07:43.053669Z",
     "shell.execute_reply": "2021-11-10T10:07:43.053188Z"
    },
    "papermill": {
     "duration": 0.042271,
     "end_time": "2021-11-10T10:07:43.053793",
     "exception": false,
     "start_time": "2021-11-10T10:07:43.011522",
     "status": "completed"
    },
    "tags": []
   },
   "outputs": [
    {
     "data": {
      "text/plain": [
       "((10000, 28, 28), (10000,))"
      ]
     },
     "execution_count": 8,
     "metadata": {},
     "output_type": "execute_result"
    }
   ],
   "source": [
    "test_images.shape, test_labels.shape"
   ]
  },
  {
   "cell_type": "code",
   "execution_count": 9,
   "id": "f9ed8fe0",
   "metadata": {
    "execution": {
     "iopub.execute_input": "2021-11-10T10:07:43.108907Z",
     "iopub.status.busy": "2021-11-10T10:07:43.108381Z",
     "iopub.status.idle": "2021-11-10T10:07:43.251502Z",
     "shell.execute_reply": "2021-11-10T10:07:43.251057Z"
    },
    "papermill": {
     "duration": 0.172171,
     "end_time": "2021-11-10T10:07:43.251630",
     "exception": false,
     "start_time": "2021-11-10T10:07:43.079459",
     "status": "completed"
    },
    "tags": []
   },
   "outputs": [
    {
     "name": "stdout",
     "output_type": "stream",
     "text": [
      "2\n"
     ]
    },
    {
     "data": {
      "text/plain": [
       "<matplotlib.image.AxesImage at 0x7ffa8c1eb080>"
      ]
     },
     "execution_count": 9,
     "metadata": {},
     "output_type": "execute_result"
    },
    {
     "data": {
      "image/png": "[encoded data removed]",
      "text/plain": [
       "<Figure size 432x288 with 1 Axes>"
      ]
     },
     "metadata": {
      "needs_background": "light"
     },
     "output_type": "display_data"
    }
   ],
   "source": [
    "image_index = 7776 # You may select anything up to 60,000\n",
    "print(train_labels[image_index]) \n",
    "plt.imshow(train_images[image_index], cmap='Greys')"
   ]
  },
  {
   "cell_type": "markdown",
   "id": "a8d2388d",
   "metadata": {
    "papermill": {
     "duration": 0.026416,
     "end_time": "2021-11-10T10:07:43.304863",
     "exception": false,
     "start_time": "2021-11-10T10:07:43.278447",
     "status": "completed"
    },
    "tags": []
   },
   "source": [
    "## Filter data to get 3 and 8 out"
   ]
  },
  {
   "cell_type": "code",
   "execution_count": 10,
   "id": "776f7fc7",
   "metadata": {
    "execution": {
     "iopub.execute_input": "2021-11-10T10:07:43.362720Z",
     "iopub.status.busy": "2021-11-10T10:07:43.362156Z",
     "iopub.status.idle": "2021-11-10T10:07:43.381320Z",
     "shell.execute_reply": "2021-11-10T10:07:43.380817Z"
    },
    "papermill": {
     "duration": 0.050055,
     "end_time": "2021-11-10T10:07:43.381470",
     "exception": false,
     "start_time": "2021-11-10T10:07:43.331415",
     "status": "completed"
    },
    "tags": []
   },
   "outputs": [],
   "source": [
    "train_filter = np.where((train_labels == 3 ) | (train_labels == 8))\n",
    "test_filter = np.where((test_labels == 3) | (test_labels == 8))\n",
    "X_train, y_train = train_images[train_filter], train_labels[train_filter]\n",
    "X_test, y_test = test_images[test_filter], test_labels[test_filter]"
   ]
  },
  {
   "cell_type": "markdown",
   "id": "948f0b7e",
   "metadata": {
    "papermill": {
     "duration": 0.026444,
     "end_time": "2021-11-10T10:07:43.434615",
     "exception": false,
     "start_time": "2021-11-10T10:07:43.408171",
     "status": "completed"
    },
    "tags": []
   },
   "source": [
    "We normalize the pizel values in the 0 to 1 range"
   ]
  },
  {
   "cell_type": "code",
   "execution_count": 11,
   "id": "ee4c2166",
   "metadata": {
    "execution": {
     "iopub.execute_input": "2021-11-10T10:07:43.495653Z",
     "iopub.status.busy": "2021-11-10T10:07:43.495103Z",
     "iopub.status.idle": "2021-11-10T10:07:43.542463Z",
     "shell.execute_reply": "2021-11-10T10:07:43.541922Z"
    },
    "papermill": {
     "duration": 0.081568,
     "end_time": "2021-11-10T10:07:43.542605",
     "exception": false,
     "start_time": "2021-11-10T10:07:43.461037",
     "status": "completed"
    },
    "tags": []
   },
   "outputs": [],
   "source": [
    "X_train = X_train/255.\n",
    "X_test = X_test/255."
   ]
  },
  {
   "cell_type": "markdown",
   "id": "ddcf4fab",
   "metadata": {
    "papermill": {
     "duration": 0.026431,
     "end_time": "2021-11-10T10:07:43.596511",
     "exception": false,
     "start_time": "2021-11-10T10:07:43.570080",
     "status": "completed"
    },
    "tags": []
   },
   "source": [
    "And setup the labels as 1 (when the digit is 3) and 0 (when the digit is 8)"
   ]
  },
  {
   "cell_type": "code",
   "execution_count": 12,
   "id": "7dc908f2",
   "metadata": {
    "execution": {
     "iopub.execute_input": "2021-11-10T10:07:43.662520Z",
     "iopub.status.busy": "2021-11-10T10:07:43.661982Z",
     "iopub.status.idle": "2021-11-10T10:07:43.673440Z",
     "shell.execute_reply": "2021-11-10T10:07:43.672981Z"
    },
    "papermill": {
     "duration": 0.046799,
     "end_time": "2021-11-10T10:07:43.673573",
     "exception": false,
     "start_time": "2021-11-10T10:07:43.626774",
     "status": "completed"
    },
    "tags": []
   },
   "outputs": [],
   "source": [
    "y_train = 1*(y_train==3)\n",
    "y_test = 1*(y_test==3)"
   ]
  },
  {
   "cell_type": "code",
   "execution_count": 13,
   "id": "01e4e969",
   "metadata": {
    "execution": {
     "iopub.execute_input": "2021-11-10T10:07:43.732963Z",
     "iopub.status.busy": "2021-11-10T10:07:43.732439Z",
     "iopub.status.idle": "2021-11-10T10:07:43.744164Z",
     "shell.execute_reply": "2021-11-10T10:07:43.744550Z"
    },
    "papermill": {
     "duration": 0.044467,
     "end_time": "2021-11-10T10:07:43.744699",
     "exception": false,
     "start_time": "2021-11-10T10:07:43.700232",
     "status": "completed"
    },
    "tags": []
   },
   "outputs": [
    {
     "data": {
      "text/plain": [
       "((11982, 28, 28), (1984, 28, 28))"
      ]
     },
     "execution_count": 13,
     "metadata": {},
     "output_type": "execute_result"
    }
   ],
   "source": [
    "X_train.shape, X_test.shape"
   ]
  },
  {
   "cell_type": "markdown",
   "id": "5ccf3f85",
   "metadata": {
    "papermill": {
     "duration": 0.026658,
     "end_time": "2021-11-10T10:07:43.798118",
     "exception": false,
     "start_time": "2021-11-10T10:07:43.771460",
     "status": "completed"
    },
    "tags": []
   },
   "source": [
    "We reshape the data to flatten the image pixels into a set of features or co-variates:"
   ]
  },
  {
   "cell_type": "code",
   "execution_count": 14,
   "id": "5286a4a3",
   "metadata": {
    "execution": {
     "iopub.execute_input": "2021-11-10T10:07:43.857056Z",
     "iopub.status.busy": "2021-11-10T10:07:43.856523Z",
     "iopub.status.idle": "2021-11-10T10:07:43.868828Z",
     "shell.execute_reply": "2021-11-10T10:07:43.869293Z"
    },
    "papermill": {
     "duration": 0.044537,
     "end_time": "2021-11-10T10:07:43.869443",
     "exception": false,
     "start_time": "2021-11-10T10:07:43.824906",
     "status": "completed"
    },
    "tags": []
   },
   "outputs": [
    {
     "data": {
      "text/plain": [
       "((11982, 784), (1984, 784))"
      ]
     },
     "execution_count": 14,
     "metadata": {},
     "output_type": "execute_result"
    }
   ],
   "source": [
    "X_train = X_train.reshape(X_train.shape[0], -1)\n",
    "X_test = X_test.reshape(X_test.shape[0], -1)\n",
    "X_train.shape, X_test.shape"
   ]
  },
  {
   "cell_type": "code",
   "execution_count": 15,
   "id": "73c5f88a",
   "metadata": {
    "execution": {
     "iopub.execute_input": "2021-11-10T10:07:43.930696Z",
     "iopub.status.busy": "2021-11-10T10:07:43.930141Z",
     "iopub.status.idle": "2021-11-10T10:07:43.948576Z",
     "shell.execute_reply": "2021-11-10T10:07:43.948088Z"
    },
    "papermill": {
     "duration": 0.051947,
     "end_time": "2021-11-10T10:07:43.948717",
     "exception": false,
     "start_time": "2021-11-10T10:07:43.896770",
     "status": "completed"
    },
    "tags": []
   },
   "outputs": [],
   "source": [
    "#Impoting functions from 'Kudzu'\n",
    "from kudzu.model import Model\n",
    "from kudzu.train import Learner\n",
    "from kudzu.optim import GD\n",
    "from kudzu.data import Data, Sampler,Dataloader\n",
    "\n",
    "from kudzu.callbacks import AccCallback\n",
    "from kudzu.callbacks import ClfCallback\n",
    "\n",
    "from kudzu.loss import MSE\n",
    "\n",
    "from kudzu.layer import Sigmoid,Relu\n",
    "from kudzu.layer import Affine"
   ]
  },
  {
   "cell_type": "markdown",
   "id": "bc01172a",
   "metadata": {
    "papermill": {
     "duration": 0.026915,
     "end_time": "2021-11-10T10:07:44.003791",
     "exception": false,
     "start_time": "2021-11-10T10:07:43.976876",
     "status": "completed"
    },
    "tags": []
   },
   "source": [
    "### Let us create a `Config` class, to store important parameters. \n",
    "This class essentially plays the role of a dictionary."
   ]
  },
  {
   "cell_type": "code",
   "execution_count": 16,
   "id": "978281aa",
   "metadata": {
    "execution": {
     "iopub.execute_input": "2021-11-10T10:07:44.064349Z",
     "iopub.status.busy": "2021-11-10T10:07:44.063779Z",
     "iopub.status.idle": "2021-11-10T10:07:44.075052Z",
     "shell.execute_reply": "2021-11-10T10:07:44.074592Z"
    },
    "papermill": {
     "duration": 0.044601,
     "end_time": "2021-11-10T10:07:44.075176",
     "exception": false,
     "start_time": "2021-11-10T10:07:44.030575",
     "status": "completed"
    },
    "tags": []
   },
   "outputs": [],
   "source": [
    "class Config:\n",
    "    pass\n",
    "config = Config()\n",
    "config.lr = 0.001\n",
    "config.num_epochs = 250\n",
    "config.bs = 50"
   ]
  },
  {
   "cell_type": "markdown",
   "id": "1385fa59",
   "metadata": {
    "papermill": {
     "duration": 0.026897,
     "end_time": "2021-11-10T10:07:44.129352",
     "exception": false,
     "start_time": "2021-11-10T10:07:44.102455",
     "status": "completed"
    },
    "tags": []
   },
   "source": [
    "### Running Models with the Training data\n",
    "Details about the network layers:\n",
    "- A first affine layer has 784 inputs and does 100 affine transforms. These are followed by a Relu\n",
    "- A second affine layer has 100 inputs from the 100 activations of the past layer, and does 100 affine transforms. These are followed by a Relu\n",
    "- A third affine layer has 100 activations and does 2 affine transformations to create an embedding for visualization. There is no non-linearity here.\n",
    "- A final \"logistic regression\" which has an affine transform from 2 inputs to 1 output, which is squeezed through a sigmoid.\n"
   ]
  },
  {
   "cell_type": "code",
   "execution_count": 17,
   "id": "2b9c66db",
   "metadata": {
    "execution": {
     "iopub.execute_input": "2021-11-10T10:07:44.190509Z",
     "iopub.status.busy": "2021-11-10T10:07:44.189929Z",
     "iopub.status.idle": "2021-11-10T10:07:44.201425Z",
     "shell.execute_reply": "2021-11-10T10:07:44.200945Z"
    },
    "papermill": {
     "duration": 0.045463,
     "end_time": "2021-11-10T10:07:44.201560",
     "exception": false,
     "start_time": "2021-11-10T10:07:44.156097",
     "status": "completed"
    },
    "tags": []
   },
   "outputs": [],
   "source": [
    "data = Data(X_train, y_train.reshape(-1,1))\n",
    "sampler = Sampler(data, config.bs, shuffle=True)\n",
    "\n",
    "dl = Dataloader(data, sampler)\n",
    "\n",
    "opt = GD(config.lr)\n",
    "loss = MSE()"
   ]
  },
  {
   "cell_type": "code",
   "execution_count": 18,
   "id": "b275e4c2",
   "metadata": {
    "execution": {
     "iopub.execute_input": "2021-11-10T10:07:44.259746Z",
     "iopub.status.busy": "2021-11-10T10:07:44.259217Z",
     "iopub.status.idle": "2021-11-10T10:07:44.271191Z",
     "shell.execute_reply": "2021-11-10T10:07:44.271593Z"
    },
    "papermill": {
     "duration": 0.043093,
     "end_time": "2021-11-10T10:07:44.271747",
     "exception": false,
     "start_time": "2021-11-10T10:07:44.228654",
     "status": "completed"
    },
    "tags": []
   },
   "outputs": [],
   "source": [
    "training_data_x = X_train\n",
    "testing_data_x = X_test\n",
    "training_data_y = y_train.reshape(-1,1)\n",
    "testing_data_y = y_test.reshape(-1,1)"
   ]
  },
  {
   "cell_type": "code",
   "execution_count": 19,
   "id": "76951160",
   "metadata": {
    "execution": {
     "iopub.execute_input": "2021-11-10T10:07:44.330192Z",
     "iopub.status.busy": "2021-11-10T10:07:44.329638Z",
     "iopub.status.idle": "2021-11-10T10:07:44.346238Z",
     "shell.execute_reply": "2021-11-10T10:07:44.345815Z"
    },
    "papermill": {
     "duration": 0.04772,
     "end_time": "2021-11-10T10:07:44.346361",
     "exception": false,
     "start_time": "2021-11-10T10:07:44.298641",
     "status": "completed"
    },
    "tags": []
   },
   "outputs": [
    {
     "name": "stdout",
     "output_type": "stream",
     "text": [
      "xavier\n",
      "xavier\n",
      "xavier\n",
      "xavier\n",
      "xavier\n"
     ]
    }
   ],
   "source": [
    "layers = [Affine(\"first\", 784, 100), Relu(\"first\"), Affine(\"second\", 100, 100), Relu(\"second\"), Affine(\"third\", 100, 2), Affine(\"last\", 2, 1), Sigmoid(\"last\")]\n",
    "model_nn = Model(layers)\n",
    "model_lr = Model([Affine(\"logits\", 784, 1), Sigmoid(\"sigmoid\")])"
   ]
  },
  {
   "cell_type": "code",
   "execution_count": 20,
   "id": "6eede77a",
   "metadata": {
    "execution": {
     "iopub.execute_input": "2021-11-10T10:07:44.419068Z",
     "iopub.status.busy": "2021-11-10T10:07:44.413962Z",
     "iopub.status.idle": "2021-11-10T10:07:44.421555Z",
     "shell.execute_reply": "2021-11-10T10:07:44.421064Z"
    },
    "papermill": {
     "duration": 0.047911,
     "end_time": "2021-11-10T10:07:44.421687",
     "exception": false,
     "start_time": "2021-11-10T10:07:44.373776",
     "status": "completed"
    },
    "tags": []
   },
   "outputs": [],
   "source": [
    "nn_learner = Learner(loss, model_nn, opt, config.num_epochs)\n",
    "acc_nn = ClfCallback(nn_learner, config.bs, training_data_x , testing_data_x, training_data_y, testing_data_y)\n",
    "nn_learner.set_callbacks([acc_nn])"
   ]
  },
  {
   "cell_type": "code",
   "execution_count": 21,
   "id": "877b6cc7",
   "metadata": {
    "execution": {
     "iopub.execute_input": "2021-11-10T10:07:44.481597Z",
     "iopub.status.busy": "2021-11-10T10:07:44.481018Z",
     "iopub.status.idle": "2021-11-10T10:07:44.493194Z",
     "shell.execute_reply": "2021-11-10T10:07:44.492766Z"
    },
    "papermill": {
     "duration": 0.044479,
     "end_time": "2021-11-10T10:07:44.493343",
     "exception": false,
     "start_time": "2021-11-10T10:07:44.448864",
     "status": "completed"
    },
    "tags": []
   },
   "outputs": [],
   "source": [
    "lr_learner = Learner(loss, model_lr, opt, config.num_epochs)\n",
    "acc_lr = ClfCallback(lr_learner, config.bs, training_data_x , testing_data_x, training_data_y, testing_data_y)\n",
    "lr_learner.set_callbacks([acc_lr])"
   ]
  },
  {
   "cell_type": "code",
   "execution_count": 22,
   "id": "d9b133c3",
   "metadata": {
    "execution": {
     "iopub.execute_input": "2021-11-10T10:07:44.551769Z",
     "iopub.status.busy": "2021-11-10T10:07:44.551241Z",
     "iopub.status.idle": "2021-11-10T10:09:06.679115Z",
     "shell.execute_reply": "2021-11-10T10:09:06.679943Z"
    },
    "papermill": {
     "duration": 82.159494,
     "end_time": "2021-11-10T10:09:06.680109",
     "exception": false,
     "start_time": "2021-11-10T10:07:44.520615",
     "status": "completed"
    },
    "tags": []
   },
   "outputs": [
    {
     "name": "stdout",
     "output_type": "stream",
     "text": [
      "Epoch 0, Loss 0.2282\n",
      "Training Accuracy: 0.7555, Testing Accuracy: 0.7702\n",
      "\n"
     ]
    },
    {
     "name": "stdout",
     "output_type": "stream",
     "text": [
      "Epoch 10, Loss 0.0801\n",
      "Training Accuracy: 0.9348, Testing Accuracy: 0.9400\n",
      "\n"
     ]
    },
    {
     "name": "stdout",
     "output_type": "stream",
     "text": [
      "Epoch 20, Loss 0.0503\n",
      "Training Accuracy: 0.9492, Testing Accuracy: 0.9572\n",
      "\n"
     ]
    },
    {
     "name": "stdout",
     "output_type": "stream",
     "text": [
      "Epoch 30, Loss 0.0406\n",
      "Training Accuracy: 0.9567, Testing Accuracy: 0.9607\n",
      "\n"
     ]
    },
    {
     "name": "stdout",
     "output_type": "stream",
     "text": [
      "Epoch 40, Loss 0.0356\n",
      "Training Accuracy: 0.9607, Testing Accuracy: 0.9637\n",
      "\n"
     ]
    },
    {
     "name": "stdout",
     "output_type": "stream",
     "text": [
      "Epoch 50, Loss 0.0325\n",
      "Training Accuracy: 0.9644, Testing Accuracy: 0.9657\n",
      "\n"
     ]
    },
    {
     "name": "stdout",
     "output_type": "stream",
     "text": [
      "Epoch 60, Loss 0.0303\n",
      "Training Accuracy: 0.9662, Testing Accuracy: 0.9667\n",
      "\n"
     ]
    },
    {
     "name": "stdout",
     "output_type": "stream",
     "text": [
      "Epoch 70, Loss 0.0285\n",
      "Training Accuracy: 0.9682, Testing Accuracy: 0.9662\n",
      "\n"
     ]
    },
    {
     "name": "stdout",
     "output_type": "stream",
     "text": [
      "Epoch 80, Loss 0.0271\n",
      "Training Accuracy: 0.9696, Testing Accuracy: 0.9662\n",
      "\n"
     ]
    },
    {
     "name": "stdout",
     "output_type": "stream",
     "text": [
      "Epoch 90, Loss 0.026\n",
      "Training Accuracy: 0.9708, Testing Accuracy: 0.9677\n",
      "\n"
     ]
    },
    {
     "name": "stdout",
     "output_type": "stream",
     "text": [
      "Epoch 100, Loss 0.025\n",
      "Training Accuracy: 0.9718, Testing Accuracy: 0.9688\n",
      "\n"
     ]
    },
    {
     "name": "stdout",
     "output_type": "stream",
     "text": [
      "Epoch 110, Loss 0.0241\n",
      "Training Accuracy: 0.9733, Testing Accuracy: 0.9693\n",
      "\n"
     ]
    },
    {
     "name": "stdout",
     "output_type": "stream",
     "text": [
      "Epoch 120, Loss 0.0233\n",
      "Training Accuracy: 0.9743, Testing Accuracy: 0.9703\n",
      "\n"
     ]
    },
    {
     "name": "stdout",
     "output_type": "stream",
     "text": [
      "Epoch 130, Loss 0.0226\n",
      "Training Accuracy: 0.9755, Testing Accuracy: 0.9698\n",
      "\n"
     ]
    },
    {
     "name": "stdout",
     "output_type": "stream",
     "text": [
      "Epoch 140, Loss 0.0219\n",
      "Training Accuracy: 0.9761, Testing Accuracy: 0.9688\n",
      "\n"
     ]
    },
    {
     "name": "stdout",
     "output_type": "stream",
     "text": [
      "Epoch 150, Loss 0.0213\n",
      "Training Accuracy: 0.9769, Testing Accuracy: 0.9698\n",
      "\n"
     ]
    },
    {
     "name": "stdout",
     "output_type": "stream",
     "text": [
      "Epoch 160, Loss 0.0207\n",
      "Training Accuracy: 0.9773, Testing Accuracy: 0.9713\n",
      "\n"
     ]
    },
    {
     "name": "stdout",
     "output_type": "stream",
     "text": [
      "Epoch 170, Loss 0.0202\n",
      "Training Accuracy: 0.9775, Testing Accuracy: 0.9718\n",
      "\n"
     ]
    },
    {
     "name": "stdout",
     "output_type": "stream",
     "text": [
      "Epoch 180, Loss 0.0197\n",
      "Training Accuracy: 0.9781, Testing Accuracy: 0.9728\n",
      "\n"
     ]
    },
    {
     "name": "stdout",
     "output_type": "stream",
     "text": [
      "Epoch 190, Loss 0.0192\n",
      "Training Accuracy: 0.9787, Testing Accuracy: 0.9733\n",
      "\n"
     ]
    },
    {
     "name": "stdout",
     "output_type": "stream",
     "text": [
      "Epoch 200, Loss 0.0188\n",
      "Training Accuracy: 0.9791, Testing Accuracy: 0.9738\n",
      "\n"
     ]
    },
    {
     "name": "stdout",
     "output_type": "stream",
     "text": [
      "Epoch 210, Loss 0.0184\n",
      "Training Accuracy: 0.9797, Testing Accuracy: 0.9738\n",
      "\n"
     ]
    },
    {
     "name": "stdout",
     "output_type": "stream",
     "text": [
      "Epoch 220, Loss 0.018\n",
      "Training Accuracy: 0.9805, Testing Accuracy: 0.9743\n",
      "\n"
     ]
    },
    {
     "name": "stdout",
     "output_type": "stream",
     "text": [
      "Epoch 230, Loss 0.0176\n",
      "Training Accuracy: 0.9811, Testing Accuracy: 0.9743\n",
      "\n"
     ]
    },
    {
     "name": "stdout",
     "output_type": "stream",
     "text": [
      "Epoch 240, Loss 0.0172\n",
      "Training Accuracy: 0.9821, Testing Accuracy: 0.9743\n",
      "\n"
     ]
    },
    {
     "data": {
      "text/plain": [
       "0.007085240687836926"
      ]
     },
     "execution_count": 22,
     "metadata": {},
     "output_type": "execute_result"
    }
   ],
   "source": [
    "nn_learner.train_loop(dl)"
   ]
  },
  {
   "cell_type": "code",
   "execution_count": 23,
   "id": "e0163366",
   "metadata": {
    "execution": {
     "iopub.execute_input": "2021-11-10T10:09:06.761609Z",
     "iopub.status.busy": "2021-11-10T10:09:06.760980Z",
     "iopub.status.idle": "2021-11-10T10:09:21.795999Z",
     "shell.execute_reply": "2021-11-10T10:09:21.796696Z"
    },
    "papermill": {
     "duration": 15.082438,
     "end_time": "2021-11-10T10:09:21.796851",
     "exception": false,
     "start_time": "2021-11-10T10:09:06.714413",
     "status": "completed"
    },
    "tags": []
   },
   "outputs": [
    {
     "name": "stdout",
     "output_type": "stream",
     "text": [
      "Epoch 0, Loss 0.2602\n",
      "Training Accuracy: 0.6031, Testing Accuracy: 0.5958\n",
      "\n"
     ]
    },
    {
     "name": "stdout",
     "output_type": "stream",
     "text": [
      "Epoch 10, Loss 0.1036\n",
      "Training Accuracy: 0.9109, Testing Accuracy: 0.9264\n",
      "\n"
     ]
    },
    {
     "name": "stdout",
     "output_type": "stream",
     "text": [
      "Epoch 20, Loss 0.0793\n",
      "Training Accuracy: 0.9262, Testing Accuracy: 0.9395\n",
      "\n"
     ]
    },
    {
     "name": "stdout",
     "output_type": "stream",
     "text": [
      "Epoch 30, Loss 0.0684\n",
      "Training Accuracy: 0.9351, Testing Accuracy: 0.9491\n",
      "\n"
     ]
    },
    {
     "name": "stdout",
     "output_type": "stream",
     "text": [
      "Epoch 40, Loss 0.0619\n",
      "Training Accuracy: 0.9402, Testing Accuracy: 0.9541\n",
      "\n"
     ]
    },
    {
     "name": "stdout",
     "output_type": "stream",
     "text": [
      "Epoch 50, Loss 0.0574\n",
      "Training Accuracy: 0.9437, Testing Accuracy: 0.9556\n",
      "\n"
     ]
    },
    {
     "name": "stdout",
     "output_type": "stream",
     "text": [
      "Epoch 60, Loss 0.0541\n",
      "Training Accuracy: 0.9458, Testing Accuracy: 0.9577\n",
      "\n"
     ]
    },
    {
     "name": "stdout",
     "output_type": "stream",
     "text": [
      "Epoch 70, Loss 0.0516\n",
      "Training Accuracy: 0.9473, Testing Accuracy: 0.9592\n",
      "\n"
     ]
    },
    {
     "name": "stdout",
     "output_type": "stream",
     "text": [
      "Epoch 80, Loss 0.0495\n",
      "Training Accuracy: 0.9488, Testing Accuracy: 0.9612\n",
      "\n"
     ]
    },
    {
     "name": "stdout",
     "output_type": "stream",
     "text": [
      "Epoch 90, Loss 0.0478\n",
      "Training Accuracy: 0.9508, Testing Accuracy: 0.9627\n",
      "\n"
     ]
    },
    {
     "name": "stdout",
     "output_type": "stream",
     "text": [
      "Epoch 100, Loss 0.0464\n",
      "Training Accuracy: 0.9518, Testing Accuracy: 0.9627\n",
      "\n"
     ]
    },
    {
     "name": "stdout",
     "output_type": "stream",
     "text": [
      "Epoch 110, Loss 0.0451\n",
      "Training Accuracy: 0.9528, Testing Accuracy: 0.9632\n",
      "\n"
     ]
    },
    {
     "name": "stdout",
     "output_type": "stream",
     "text": [
      "Epoch 120, Loss 0.0441\n",
      "Training Accuracy: 0.9537, Testing Accuracy: 0.9627\n",
      "\n"
     ]
    },
    {
     "name": "stdout",
     "output_type": "stream",
     "text": [
      "Epoch 130, Loss 0.0431\n",
      "Training Accuracy: 0.9545, Testing Accuracy: 0.9627\n",
      "\n"
     ]
    },
    {
     "name": "stdout",
     "output_type": "stream",
     "text": [
      "Epoch 140, Loss 0.0423\n",
      "Training Accuracy: 0.9557, Testing Accuracy: 0.9632\n",
      "\n"
     ]
    },
    {
     "name": "stdout",
     "output_type": "stream",
     "text": [
      "Epoch 150, Loss 0.0415\n",
      "Training Accuracy: 0.9563, Testing Accuracy: 0.9642\n",
      "\n"
     ]
    },
    {
     "name": "stdout",
     "output_type": "stream",
     "text": [
      "Epoch 160, Loss 0.0409\n",
      "Training Accuracy: 0.9570, Testing Accuracy: 0.9642\n",
      "\n"
     ]
    },
    {
     "name": "stdout",
     "output_type": "stream",
     "text": [
      "Epoch 170, Loss 0.0402\n",
      "Training Accuracy: 0.9577, Testing Accuracy: 0.9647\n",
      "\n"
     ]
    },
    {
     "name": "stdout",
     "output_type": "stream",
     "text": [
      "Epoch 180, Loss 0.0397\n",
      "Training Accuracy: 0.9580, Testing Accuracy: 0.9647\n",
      "\n"
     ]
    },
    {
     "name": "stdout",
     "output_type": "stream",
     "text": [
      "Epoch 190, Loss 0.0391\n",
      "Training Accuracy: 0.9588, Testing Accuracy: 0.9657\n",
      "\n"
     ]
    },
    {
     "name": "stdout",
     "output_type": "stream",
     "text": [
      "Epoch 200, Loss 0.0387\n",
      "Training Accuracy: 0.9590, Testing Accuracy: 0.9657\n",
      "\n"
     ]
    },
    {
     "name": "stdout",
     "output_type": "stream",
     "text": [
      "Epoch 210, Loss 0.0382\n",
      "Training Accuracy: 0.9595, Testing Accuracy: 0.9657\n",
      "\n"
     ]
    },
    {
     "name": "stdout",
     "output_type": "stream",
     "text": [
      "Epoch 220, Loss 0.0378\n",
      "Training Accuracy: 0.9595, Testing Accuracy: 0.9657\n",
      "\n"
     ]
    },
    {
     "name": "stdout",
     "output_type": "stream",
     "text": [
      "Epoch 230, Loss 0.0374\n",
      "Training Accuracy: 0.9599, Testing Accuracy: 0.9657\n",
      "\n"
     ]
    },
    {
     "name": "stdout",
     "output_type": "stream",
     "text": [
      "Epoch 240, Loss 0.037\n",
      "Training Accuracy: 0.9601, Testing Accuracy: 0.9657\n",
      "\n"
     ]
    },
    {
     "data": {
      "text/plain": [
       "0.013273837667210794"
      ]
     },
     "execution_count": 23,
     "metadata": {},
     "output_type": "execute_result"
    }
   ],
   "source": [
    "lr_learner.train_loop(dl)"
   ]
  },
  {
   "cell_type": "code",
   "execution_count": 24,
   "id": "ca410940",
   "metadata": {
    "execution": {
     "iopub.execute_input": "2021-11-10T10:09:21.890715Z",
     "iopub.status.busy": "2021-11-10T10:09:21.890147Z",
     "iopub.status.idle": "2021-11-10T10:09:22.134524Z",
     "shell.execute_reply": "2021-11-10T10:09:22.134943Z"
    },
    "papermill": {
     "duration": 0.29688,
     "end_time": "2021-11-10T10:09:22.135100",
     "exception": false,
     "start_time": "2021-11-10T10:09:21.838220",
     "status": "completed"
    },
    "tags": []
   },
   "outputs": [
    {
     "data": {
      "text/plain": [
       "<matplotlib.legend.Legend at 0x7ffa8bd4f7f0>"
      ]
     },
     "execution_count": 24,
     "metadata": {},
     "output_type": "execute_result"
    },
    {
     "data": {
      "image/png": "[encoded data removed]",
      "text/plain": [
       "<Figure size 1080x720 with 1 Axes>"
      ]
     },
     "metadata": {
      "needs_background": "light"
     },
     "output_type": "display_data"
    }
   ],
   "source": [
    "#comparing the results of NN and LR\n",
    "plt.figure(figsize=(15,10))\n",
    "\n",
    "# Neural Network plots\n",
    "plt.plot(acc_nn.accuracies, 'r-', label = \"Training Accuracies - NN\")\n",
    "plt.plot(acc_nn.test_accuracies, 'g-', label = \"Testing Accuracies - NN\")\n",
    "\n",
    "# Logistic Regression plots\n",
    "plt.plot(acc_lr.accuracies, 'k-', label = \"Training Accuracies - LR\")\n",
    "plt.plot(acc_lr.test_accuracies, 'b-', label = \"Testing Accuracies - LR\")\n",
    "plt.legend()"
   ]
  },
  {
   "cell_type": "markdown",
   "id": "80dfb35c",
   "metadata": {
    "papermill": {
     "duration": 0.042074,
     "end_time": "2021-11-10T10:09:22.219525",
     "exception": false,
     "start_time": "2021-11-10T10:09:22.177451",
     "status": "completed"
    },
    "tags": []
   },
   "source": [
    "#### Plotting the outputs of this layer of the NN.\n"
   ]
  },
  {
   "cell_type": "code",
   "execution_count": 25,
   "id": "45eb2ff5",
   "metadata": {
    "execution": {
     "iopub.execute_input": "2021-11-10T10:09:22.312801Z",
     "iopub.status.busy": "2021-11-10T10:09:22.311765Z",
     "iopub.status.idle": "2021-11-10T10:09:22.330760Z",
     "shell.execute_reply": "2021-11-10T10:09:22.330274Z"
    },
    "papermill": {
     "duration": 0.069402,
     "end_time": "2021-11-10T10:09:22.330889",
     "exception": false,
     "start_time": "2021-11-10T10:09:22.261487",
     "status": "completed"
    },
    "tags": []
   },
   "outputs": [],
   "source": [
    "new_model = Model(layers[:-2])\n",
    "testing_plot = new_model(testing_data_x)"
   ]
  },
  {
   "cell_type": "code",
   "execution_count": 26,
   "id": "4c0a5485",
   "metadata": {
    "execution": {
     "iopub.execute_input": "2021-11-10T10:09:22.426658Z",
     "iopub.status.busy": "2021-11-10T10:09:22.426106Z",
     "iopub.status.idle": "2021-11-10T10:09:22.671903Z",
     "shell.execute_reply": "2021-11-10T10:09:22.671452Z"
    },
    "papermill": {
     "duration": 0.298604,
     "end_time": "2021-11-10T10:09:22.672037",
     "exception": false,
     "start_time": "2021-11-10T10:09:22.373433",
     "status": "completed"
    },
    "tags": []
   },
   "outputs": [
    {
     "data": {
      "text/plain": [
       "Text(0.5, 1.0, 'Outputs')"
      ]
     },
     "execution_count": 26,
     "metadata": {},
     "output_type": "execute_result"
    },
    {
     "data": {
      "image/png": "[encoded data removed]",
      "text/plain": [
       "<Figure size 576x504 with 1 Axes>"
      ]
     },
     "metadata": {
      "needs_background": "light"
     },
     "output_type": "display_data"
    }
   ],
   "source": [
    "# Plotting the scatter plot of points and color coding by class\n",
    "plt.figure(figsize=(8,7))\n",
    "plt.scatter(testing_plot[:,0], testing_plot[:,1], alpha = 0.1, c = y_test.ravel());\n",
    "plt.title('Outputs')"
   ]
  },
  {
   "cell_type": "markdown",
   "id": "a74fcf8f",
   "metadata": {
    "papermill": {
     "duration": 0.045394,
     "end_time": "2021-11-10T10:09:22.763174",
     "exception": false,
     "start_time": "2021-11-10T10:09:22.717780",
     "status": "completed"
    },
    "tags": []
   },
   "source": [
    "Probability contours"
   ]
  },
  {
   "cell_type": "code",
   "execution_count": 27,
   "id": "d0afc8e3",
   "metadata": {
    "execution": {
     "iopub.execute_input": "2021-11-10T10:09:22.862277Z",
     "iopub.status.busy": "2021-11-10T10:09:22.858239Z",
     "iopub.status.idle": "2021-11-10T10:09:22.869788Z",
     "shell.execute_reply": "2021-11-10T10:09:22.870190Z"
    },
    "papermill": {
     "duration": 0.061386,
     "end_time": "2021-11-10T10:09:22.870343",
     "exception": false,
     "start_time": "2021-11-10T10:09:22.808957",
     "status": "completed"
    },
    "tags": []
   },
   "outputs": [],
   "source": [
    "model_prob = Model(layers[-2:]) "
   ]
  },
  {
   "cell_type": "code",
   "execution_count": 28,
   "id": "9b96e238",
   "metadata": {
    "execution": {
     "iopub.execute_input": "2021-11-10T10:09:22.984940Z",
     "iopub.status.busy": "2021-11-10T10:09:22.978260Z",
     "iopub.status.idle": "2021-11-10T10:09:22.985597Z",
     "shell.execute_reply": "2021-11-10T10:09:22.986007Z"
    },
    "papermill": {
     "duration": 0.068539,
     "end_time": "2021-11-10T10:09:22.986151",
     "exception": false,
     "start_time": "2021-11-10T10:09:22.917612",
     "status": "completed"
    },
    "tags": []
   },
   "outputs": [],
   "source": [
    "#creating the x and y ranges according to the above generated plot.\n",
    "x_range = np.linspace(-4, 1, 100) \n",
    "y_range = np.linspace(-6, 6, 100) \n",
    "x_grid, y_grid = np.meshgrid(x_range, y_range) # x_grid and y_grig are of size 100 X 100\n",
    "\n",
    "# converting x_grid and y_grid to continuous arrays\n",
    "x_gridflat = np.ravel(x_grid)\n",
    "y_gridflat = np.ravel(y_grid)\n",
    "\n",
    "# The last layer of the current model takes two columns as input. Hence transpose of np.vstack() is required.\n",
    "X = np.vstack((x_gridflat, y_gridflat)).T\n",
    "\n",
    "prob_contour = model_prob(X).reshape(100,100) "
   ]
  },
  {
   "cell_type": "code",
   "execution_count": 29,
   "id": "da72499a",
   "metadata": {
    "execution": {
     "iopub.execute_input": "2021-11-10T10:09:23.121205Z",
     "iopub.status.busy": "2021-11-10T10:09:23.120633Z",
     "iopub.status.idle": "2021-11-10T10:09:23.380392Z",
     "shell.execute_reply": "2021-11-10T10:09:23.379897Z"
    },
    "papermill": {
     "duration": 0.348328,
     "end_time": "2021-11-10T10:09:23.380536",
     "exception": false,
     "start_time": "2021-11-10T10:09:23.032208",
     "status": "completed"
    },
    "tags": []
   },
   "outputs": [
    {
     "data": {
      "image/png": "[encoded data removed]",
      "text/plain": [
       "<Figure size 720x648 with 1 Axes>"
      ]
     },
     "metadata": {
      "needs_background": "light"
     },
     "output_type": "display_data"
    }
   ],
   "source": [
    "plt.figure(figsize=(10,9))\n",
    "plt.scatter(testing_plot[:,0], testing_plot[:,1], alpha = 0.1, c = y_test.ravel())\n",
    "contours = plt.contour(x_grid,y_grid,prob_contour)\n",
    "plt.title('Probability Contours')\n",
    "plt.clabel(contours, inline = True );"
   ]
  },
  {
   "cell_type": "code",
   "execution_count": null,
   "id": "e81b4ac7",
   "metadata": {
    "papermill": {
     "duration": 0.04797,
     "end_time": "2021-11-10T10:09:23.477629",
     "exception": false,
     "start_time": "2021-11-10T10:09:23.429659",
     "status": "completed"
    },
    "tags": []
   },
   "outputs": [],
   "source": []
  }
 ],
 "metadata": {
  "kernelspec": {
   "display_name": "Python 3",
   "language": "python",
   "name": "python3"
  },
  "language_info": {
   "codemirror_mode": {
    "name": "ipython",
    "version": 3
   },
   "file_extension": ".py",
   "mimetype": "text/x-python",
   "name": "python",
   "nbconvert_exporter": "python",
   "pygments_lexer": "ipython3",
   "version": "3.6.15"
  },
  "papermill": {
   "default_parameters": {},
   "duration": 106.361382,
   "end_time": "2021-11-10T10:09:23.933868",
   "environment_variables": {},
   "exception": null,
   "input_path": "2020-08-11-part2.ipynb",
   "output_path": "2020-08-11-part2.ipynb",
   "parameters": {},
   "start_time": "2021-11-10T10:07:37.572486",
   "version": "2.3.3"
  }
 },
 "nbformat": 4,
 "nbformat_minor": 5
}