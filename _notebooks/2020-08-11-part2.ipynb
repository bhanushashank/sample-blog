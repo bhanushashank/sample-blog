{
 "cells": [
  {
   "cell_type": "markdown",
   "id": "98380cd3",
   "metadata": {
    "papermill": {
     "duration": 0.035251,
     "end_time": "2022-08-01T20:12:56.393939",
     "exception": false,
     "start_time": "2022-08-01T20:12:56.358688",
     "status": "completed"
    },
    "tags": []
   },
   "source": [
    "# Distinguish Your Own Digits (DYOD)"
   ]
  },
  {
   "cell_type": "markdown",
   "id": "ef31240d",
   "metadata": {
    "papermill": {
     "duration": 0.031495,
     "end_time": "2022-08-01T20:12:56.458096",
     "exception": false,
     "start_time": "2022-08-01T20:12:56.426601",
     "status": "completed"
    },
    "tags": []
   },
   "source": [
    "You are going to write a classifier that distinguishes between the number 3 and number 8."
   ]
  },
  {
   "cell_type": "code",
   "execution_count": 1,
   "id": "b15c8646",
   "metadata": {
    "execution": {
     "iopub.execute_input": "2022-08-01T20:12:56.535051Z",
     "iopub.status.busy": "2022-08-01T20:12:56.533896Z",
     "iopub.status.idle": "2022-08-01T20:12:56.563260Z",
     "shell.execute_reply": "2022-08-01T20:12:56.562602Z"
    },
    "papermill": {
     "duration": 0.074411,
     "end_time": "2022-08-01T20:12:56.563422",
     "exception": false,
     "start_time": "2022-08-01T20:12:56.489011",
     "status": "completed"
    },
    "tags": []
   },
   "outputs": [],
   "source": [
    "%load_ext autoreload\n",
    "%autoreload 2"
   ]
  },
  {
   "cell_type": "code",
   "execution_count": 2,
   "id": "22ef38dc",
   "metadata": {
    "execution": {
     "iopub.execute_input": "2022-08-01T20:12:56.637220Z",
     "iopub.status.busy": "2022-08-01T20:12:56.636360Z",
     "iopub.status.idle": "2022-08-01T20:12:57.327184Z",
     "shell.execute_reply": "2022-08-01T20:12:57.326599Z"
    },
    "papermill": {
     "duration": 0.724737,
     "end_time": "2022-08-01T20:12:57.327330",
     "exception": false,
     "start_time": "2022-08-01T20:12:56.602593",
     "status": "completed"
    },
    "tags": []
   },
   "outputs": [],
   "source": [
    "%matplotlib inline\n",
    "import numpy as np\n",
    "import matplotlib.pyplot as plt\n",
    "import pandas as pd"
   ]
  },
  {
   "cell_type": "markdown",
   "id": "ba036198",
   "metadata": {
    "papermill": {
     "duration": 0.02986,
     "end_time": "2022-08-01T20:12:57.386701",
     "exception": false,
     "start_time": "2022-08-01T20:12:57.356841",
     "status": "completed"
    },
    "tags": []
   },
   "source": [
    "From the command line run `pip install mnist`. This is a library that will help you bring down the mnist dataset. If you run this from a notebook, you need to put  `!pip install mnist` in a cell by itself."
   ]
  },
  {
   "cell_type": "code",
   "execution_count": 3,
   "id": "bb6ad8a1",
   "metadata": {
    "execution": {
     "iopub.execute_input": "2022-08-01T20:12:57.449880Z",
     "iopub.status.busy": "2022-08-01T20:12:57.449152Z",
     "iopub.status.idle": "2022-08-01T20:13:00.409674Z",
     "shell.execute_reply": "2022-08-01T20:13:00.409026Z"
    },
    "papermill": {
     "duration": 2.994627,
     "end_time": "2022-08-01T20:13:00.409820",
     "exception": false,
     "start_time": "2022-08-01T20:12:57.415193",
     "status": "completed"
    },
    "tags": []
   },
   "outputs": [
    {
     "name": "stdout",
     "output_type": "stream",
     "text": [
      "Collecting mnist\r\n"
     ]
    },
    {
     "name": "stdout",
     "output_type": "stream",
     "text": [
      "  Downloading mnist-0.2.2-py2.py3-none-any.whl (3.5 kB)\r\n"
     ]
    },
    {
     "name": "stdout",
     "output_type": "stream",
     "text": [
      "Requirement already satisfied: numpy in /opt/hostedtoolcache/Python/3.6.15/x64/lib/python3.6/site-packages (from mnist) (1.19.5)\r\n"
     ]
    },
    {
     "name": "stdout",
     "output_type": "stream",
     "text": [
      "Installing collected packages: mnist\r\n"
     ]
    },
    {
     "name": "stdout",
     "output_type": "stream",
     "text": [
      "Successfully installed mnist-0.2.2\r\n"
     ]
    }
   ],
   "source": [
    "!pip install mnist"
   ]
  },
  {
   "cell_type": "markdown",
   "id": "69df9c9a",
   "metadata": {
    "papermill": {
     "duration": 0.029163,
     "end_time": "2022-08-01T20:13:00.468997",
     "exception": false,
     "start_time": "2022-08-01T20:13:00.439834",
     "status": "completed"
    },
    "tags": []
   },
   "source": [
    "## Preparing the Data"
   ]
  },
  {
   "cell_type": "code",
   "execution_count": 4,
   "id": "7f69d806",
   "metadata": {
    "execution": {
     "iopub.execute_input": "2022-08-01T20:13:00.532203Z",
     "iopub.status.busy": "2022-08-01T20:13:00.531502Z",
     "iopub.status.idle": "2022-08-01T20:13:00.550554Z",
     "shell.execute_reply": "2022-08-01T20:13:00.551227Z"
    },
    "papermill": {
     "duration": 0.053351,
     "end_time": "2022-08-01T20:13:00.551390",
     "exception": false,
     "start_time": "2022-08-01T20:13:00.498039",
     "status": "completed"
    },
    "tags": []
   },
   "outputs": [],
   "source": [
    "import mnist"
   ]
  },
  {
   "cell_type": "code",
   "execution_count": 5,
   "id": "a411e44f",
   "metadata": {
    "execution": {
     "iopub.execute_input": "2022-08-01T20:13:00.614339Z",
     "iopub.status.busy": "2022-08-01T20:13:00.613626Z",
     "iopub.status.idle": "2022-08-01T20:13:02.489874Z",
     "shell.execute_reply": "2022-08-01T20:13:02.489004Z"
    },
    "papermill": {
     "duration": 1.909533,
     "end_time": "2022-08-01T20:13:02.490015",
     "exception": false,
     "start_time": "2022-08-01T20:13:00.580482",
     "status": "completed"
    },
    "tags": []
   },
   "outputs": [],
   "source": [
    "train_images = mnist.train_images()\n",
    "train_labels = mnist.train_labels()"
   ]
  },
  {
   "cell_type": "code",
   "execution_count": 6,
   "id": "dceab3a5",
   "metadata": {
    "execution": {
     "iopub.execute_input": "2022-08-01T20:13:02.562539Z",
     "iopub.status.busy": "2022-08-01T20:13:02.556476Z",
     "iopub.status.idle": "2022-08-01T20:13:02.575710Z",
     "shell.execute_reply": "2022-08-01T20:13:02.575117Z"
    },
    "papermill": {
     "duration": 0.056631,
     "end_time": "2022-08-01T20:13:02.575849",
     "exception": false,
     "start_time": "2022-08-01T20:13:02.519218",
     "status": "completed"
    },
    "tags": []
   },
   "outputs": [
    {
     "data": {
      "text/plain": [
       "((60000, 28, 28), (60000,))"
      ]
     },
     "execution_count": 6,
     "metadata": {},
     "output_type": "execute_result"
    }
   ],
   "source": [
    "train_images.shape, train_labels.shape"
   ]
  },
  {
   "cell_type": "code",
   "execution_count": 7,
   "id": "f50dc2bb",
   "metadata": {
    "execution": {
     "iopub.execute_input": "2022-08-01T20:13:02.639437Z",
     "iopub.status.busy": "2022-08-01T20:13:02.638732Z",
     "iopub.status.idle": "2022-08-01T20:13:02.843220Z",
     "shell.execute_reply": "2022-08-01T20:13:02.842583Z"
    },
    "papermill": {
     "duration": 0.238265,
     "end_time": "2022-08-01T20:13:02.843363",
     "exception": false,
     "start_time": "2022-08-01T20:13:02.605098",
     "status": "completed"
    },
    "tags": []
   },
   "outputs": [],
   "source": [
    "test_images = mnist.test_images()\n",
    "test_labels = mnist.test_labels()"
   ]
  },
  {
   "cell_type": "code",
   "execution_count": 8,
   "id": "fc38cf1b",
   "metadata": {
    "execution": {
     "iopub.execute_input": "2022-08-01T20:13:02.907229Z",
     "iopub.status.busy": "2022-08-01T20:13:02.906534Z",
     "iopub.status.idle": "2022-08-01T20:13:02.922110Z",
     "shell.execute_reply": "2022-08-01T20:13:02.922643Z"
    },
    "papermill": {
     "duration": 0.049696,
     "end_time": "2022-08-01T20:13:02.922803",
     "exception": false,
     "start_time": "2022-08-01T20:13:02.873107",
     "status": "completed"
    },
    "tags": []
   },
   "outputs": [
    {
     "data": {
      "text/plain": [
       "((10000, 28, 28), (10000,))"
      ]
     },
     "execution_count": 8,
     "metadata": {},
     "output_type": "execute_result"
    }
   ],
   "source": [
    "test_images.shape, test_labels.shape"
   ]
  },
  {
   "cell_type": "code",
   "execution_count": 9,
   "id": "f9ed8fe0",
   "metadata": {
    "execution": {
     "iopub.execute_input": "2022-08-01T20:13:02.988031Z",
     "iopub.status.busy": "2022-08-01T20:13:02.987328Z",
     "iopub.status.idle": "2022-08-01T20:13:03.173938Z",
     "shell.execute_reply": "2022-08-01T20:13:03.174568Z"
    },
    "papermill": {
     "duration": 0.222354,
     "end_time": "2022-08-01T20:13:03.174746",
     "exception": false,
     "start_time": "2022-08-01T20:13:02.952392",
     "status": "completed"
    },
    "tags": []
   },
   "outputs": [
    {
     "name": "stdout",
     "output_type": "stream",
     "text": [
      "2\n"
     ]
    },
    {
     "data": {
      "text/plain": [
       "<matplotlib.image.AxesImage at 0x7fb8174b54e0>"
      ]
     },
     "execution_count": 9,
     "metadata": {},
     "output_type": "execute_result"
    },
    {
     "data": {
      "image/png": "[encoded data removed]",
      "text/plain": [
       "<Figure size 432x288 with 1 Axes>"
      ]
     },
     "metadata": {
      "needs_background": "light"
     },
     "output_type": "display_data"
    }
   ],
   "source": [
    "image_index = 7776 # You may select anything up to 60,000\n",
    "print(train_labels[image_index]) \n",
    "plt.imshow(train_images[image_index], cmap='Greys')"
   ]
  },
  {
   "cell_type": "markdown",
   "id": "a8d2388d",
   "metadata": {
    "papermill": {
     "duration": 0.035014,
     "end_time": "2022-08-01T20:13:03.246282",
     "exception": false,
     "start_time": "2022-08-01T20:13:03.211268",
     "status": "completed"
    },
    "tags": []
   },
   "source": [
    "## Filter data to get 3 and 8 out"
   ]
  },
  {
   "cell_type": "code",
   "execution_count": 10,
   "id": "776f7fc7",
   "metadata": {
    "execution": {
     "iopub.execute_input": "2022-08-01T20:13:03.321684Z",
     "iopub.status.busy": "2022-08-01T20:13:03.320905Z",
     "iopub.status.idle": "2022-08-01T20:13:03.341627Z",
     "shell.execute_reply": "2022-08-01T20:13:03.340992Z"
    },
    "papermill": {
     "duration": 0.062283,
     "end_time": "2022-08-01T20:13:03.341765",
     "exception": false,
     "start_time": "2022-08-01T20:13:03.279482",
     "status": "completed"
    },
    "tags": []
   },
   "outputs": [],
   "source": [
    "train_filter = np.where((train_labels == 3 ) | (train_labels == 8))\n",
    "test_filter = np.where((test_labels == 3) | (test_labels == 8))\n",
    "X_train, y_train = train_images[train_filter], train_labels[train_filter]\n",
    "X_test, y_test = test_images[test_filter], test_labels[test_filter]"
   ]
  },
  {
   "cell_type": "markdown",
   "id": "948f0b7e",
   "metadata": {
    "papermill": {
     "duration": 0.030688,
     "end_time": "2022-08-01T20:13:03.408098",
     "exception": false,
     "start_time": "2022-08-01T20:13:03.377410",
     "status": "completed"
    },
    "tags": []
   },
   "source": [
    "We normalize the pizel values in the 0 to 1 range"
   ]
  },
  {
   "cell_type": "code",
   "execution_count": 11,
   "id": "ee4c2166",
   "metadata": {
    "execution": {
     "iopub.execute_input": "2022-08-01T20:13:03.475522Z",
     "iopub.status.busy": "2022-08-01T20:13:03.474810Z",
     "iopub.status.idle": "2022-08-01T20:13:03.534853Z",
     "shell.execute_reply": "2022-08-01T20:13:03.534178Z"
    },
    "papermill": {
     "duration": 0.096308,
     "end_time": "2022-08-01T20:13:03.535015",
     "exception": false,
     "start_time": "2022-08-01T20:13:03.438707",
     "status": "completed"
    },
    "tags": []
   },
   "outputs": [],
   "source": [
    "X_train = X_train/255.\n",
    "X_test = X_test/255."
   ]
  },
  {
   "cell_type": "markdown",
   "id": "ddcf4fab",
   "metadata": {
    "papermill": {
     "duration": 0.031603,
     "end_time": "2022-08-01T20:13:03.598578",
     "exception": false,
     "start_time": "2022-08-01T20:13:03.566975",
     "status": "completed"
    },
    "tags": []
   },
   "source": [
    "And setup the labels as 1 (when the digit is 3) and 0 (when the digit is 8)"
   ]
  },
  {
   "cell_type": "code",
   "execution_count": 12,
   "id": "7dc908f2",
   "metadata": {
    "execution": {
     "iopub.execute_input": "2022-08-01T20:13:03.668381Z",
     "iopub.status.busy": "2022-08-01T20:13:03.667582Z",
     "iopub.status.idle": "2022-08-01T20:13:03.684611Z",
     "shell.execute_reply": "2022-08-01T20:13:03.683874Z"
    },
    "papermill": {
     "duration": 0.053556,
     "end_time": "2022-08-01T20:13:03.684767",
     "exception": false,
     "start_time": "2022-08-01T20:13:03.631211",
     "status": "completed"
    },
    "tags": []
   },
   "outputs": [],
   "source": [
    "y_train = 1*(y_train==3)\n",
    "y_test = 1*(y_test==3)"
   ]
  },
  {
   "cell_type": "code",
   "execution_count": 13,
   "id": "01e4e969",
   "metadata": {
    "execution": {
     "iopub.execute_input": "2022-08-01T20:13:03.751631Z",
     "iopub.status.busy": "2022-08-01T20:13:03.750908Z",
     "iopub.status.idle": "2022-08-01T20:13:03.768468Z",
     "shell.execute_reply": "2022-08-01T20:13:03.767887Z"
    },
    "papermill": {
     "duration": 0.052766,
     "end_time": "2022-08-01T20:13:03.768603",
     "exception": false,
     "start_time": "2022-08-01T20:13:03.715837",
     "status": "completed"
    },
    "tags": []
   },
   "outputs": [
    {
     "data": {
      "text/plain": [
       "((11982, 28, 28), (1984, 28, 28))"
      ]
     },
     "execution_count": 13,
     "metadata": {},
     "output_type": "execute_result"
    }
   ],
   "source": [
    "X_train.shape, X_test.shape"
   ]
  },
  {
   "cell_type": "markdown",
   "id": "5ccf3f85",
   "metadata": {
    "papermill": {
     "duration": 0.030739,
     "end_time": "2022-08-01T20:13:03.830233",
     "exception": false,
     "start_time": "2022-08-01T20:13:03.799494",
     "status": "completed"
    },
    "tags": []
   },
   "source": [
    "We reshape the data to flatten the image pixels into a set of features or co-variates:"
   ]
  },
  {
   "cell_type": "code",
   "execution_count": 14,
   "id": "5286a4a3",
   "metadata": {
    "execution": {
     "iopub.execute_input": "2022-08-01T20:13:03.897841Z",
     "iopub.status.busy": "2022-08-01T20:13:03.897120Z",
     "iopub.status.idle": "2022-08-01T20:13:03.915160Z",
     "shell.execute_reply": "2022-08-01T20:13:03.915689Z"
    },
    "papermill": {
     "duration": 0.054563,
     "end_time": "2022-08-01T20:13:03.915843",
     "exception": false,
     "start_time": "2022-08-01T20:13:03.861280",
     "status": "completed"
    },
    "tags": []
   },
   "outputs": [
    {
     "data": {
      "text/plain": [
       "((11982, 784), (1984, 784))"
      ]
     },
     "execution_count": 14,
     "metadata": {},
     "output_type": "execute_result"
    }
   ],
   "source": [
    "X_train = X_train.reshape(X_train.shape[0], -1)\n",
    "X_test = X_test.reshape(X_test.shape[0], -1)\n",
    "X_train.shape, X_test.shape"
   ]
  },
  {
   "cell_type": "code",
   "execution_count": 15,
   "id": "73c5f88a",
   "metadata": {
    "execution": {
     "iopub.execute_input": "2022-08-01T20:13:03.983951Z",
     "iopub.status.busy": "2022-08-01T20:13:03.983239Z",
     "iopub.status.idle": "2022-08-01T20:13:04.007465Z",
     "shell.execute_reply": "2022-08-01T20:13:04.006874Z"
    },
    "papermill": {
     "duration": 0.060517,
     "end_time": "2022-08-01T20:13:04.007608",
     "exception": false,
     "start_time": "2022-08-01T20:13:03.947091",
     "status": "completed"
    },
    "tags": []
   },
   "outputs": [],
   "source": [
    "#Impoting functions from 'Kudzu'\n",
    "from kudzu.model import Model\n",
    "from kudzu.train import Learner\n",
    "from kudzu.optim import GD\n",
    "from kudzu.data import Data, Sampler,Dataloader\n",
    "\n",
    "from kudzu.callbacks import AccCallback\n",
    "from kudzu.callbacks import ClfCallback\n",
    "\n",
    "from kudzu.loss import MSE\n",
    "\n",
    "from kudzu.layer import Sigmoid,Relu\n",
    "from kudzu.layer import Affine"
   ]
  },
  {
   "cell_type": "markdown",
   "id": "bc01172a",
   "metadata": {
    "papermill": {
     "duration": 0.031181,
     "end_time": "2022-08-01T20:13:04.070360",
     "exception": false,
     "start_time": "2022-08-01T20:13:04.039179",
     "status": "completed"
    },
    "tags": []
   },
   "source": [
    "### Let us create a `Config` class, to store important parameters. \n",
    "This class essentially plays the role of a dictionary."
   ]
  },
  {
   "cell_type": "code",
   "execution_count": 16,
   "id": "978281aa",
   "metadata": {
    "execution": {
     "iopub.execute_input": "2022-08-01T20:13:04.137945Z",
     "iopub.status.busy": "2022-08-01T20:13:04.137210Z",
     "iopub.status.idle": "2022-08-01T20:13:04.153686Z",
     "shell.execute_reply": "2022-08-01T20:13:04.153101Z"
    },
    "papermill": {
     "duration": 0.052226,
     "end_time": "2022-08-01T20:13:04.153829",
     "exception": false,
     "start_time": "2022-08-01T20:13:04.101603",
     "status": "completed"
    },
    "tags": []
   },
   "outputs": [],
   "source": [
    "class Config:\n",
    "    pass\n",
    "config = Config()\n",
    "config.lr = 0.001\n",
    "config.num_epochs = 250\n",
    "config.bs = 50"
   ]
  },
  {
   "cell_type": "markdown",
   "id": "1385fa59",
   "metadata": {
    "papermill": {
     "duration": 0.031245,
     "end_time": "2022-08-01T20:13:04.216573",
     "exception": false,
     "start_time": "2022-08-01T20:13:04.185328",
     "status": "completed"
    },
    "tags": []
   },
   "source": [
    "### Running Models with the Training data\n",
    "Details about the network layers:\n",
    "- A first affine layer has 784 inputs and does 100 affine transforms. These are followed by a Relu\n",
    "- A second affine layer has 100 inputs from the 100 activations of the past layer, and does 100 affine transforms. These are followed by a Relu\n",
    "- A third affine layer has 100 activations and does 2 affine transformations to create an embedding for visualization. There is no non-linearity here.\n",
    "- A final \"logistic regression\" which has an affine transform from 2 inputs to 1 output, which is squeezed through a sigmoid.\n"
   ]
  },
  {
   "cell_type": "code",
   "execution_count": 17,
   "id": "2b9c66db",
   "metadata": {
    "execution": {
     "iopub.execute_input": "2022-08-01T20:13:04.287913Z",
     "iopub.status.busy": "2022-08-01T20:13:04.287181Z",
     "iopub.status.idle": "2022-08-01T20:13:04.304434Z",
     "shell.execute_reply": "2022-08-01T20:13:04.303829Z"
    },
    "papermill": {
     "duration": 0.056484,
     "end_time": "2022-08-01T20:13:04.304567",
     "exception": false,
     "start_time": "2022-08-01T20:13:04.248083",
     "status": "completed"
    },
    "tags": []
   },
   "outputs": [],
   "source": [
    "data = Data(X_train, y_train.reshape(-1,1))\n",
    "sampler = Sampler(data, config.bs, shuffle=True)\n",
    "\n",
    "dl = Dataloader(data, sampler)\n",
    "\n",
    "opt = GD(config.lr)\n",
    "loss = MSE()"
   ]
  },
  {
   "cell_type": "code",
   "execution_count": 18,
   "id": "b275e4c2",
   "metadata": {
    "execution": {
     "iopub.execute_input": "2022-08-01T20:13:04.372508Z",
     "iopub.status.busy": "2022-08-01T20:13:04.371805Z",
     "iopub.status.idle": "2022-08-01T20:13:04.387479Z",
     "shell.execute_reply": "2022-08-01T20:13:04.386871Z"
    },
    "papermill": {
     "duration": 0.05143,
     "end_time": "2022-08-01T20:13:04.387618",
     "exception": false,
     "start_time": "2022-08-01T20:13:04.336188",
     "status": "completed"
    },
    "tags": []
   },
   "outputs": [],
   "source": [
    "training_data_x = X_train\n",
    "testing_data_x = X_test\n",
    "training_data_y = y_train.reshape(-1,1)\n",
    "testing_data_y = y_test.reshape(-1,1)"
   ]
  },
  {
   "cell_type": "code",
   "execution_count": 19,
   "id": "76951160",
   "metadata": {
    "execution": {
     "iopub.execute_input": "2022-08-01T20:13:04.456010Z",
     "iopub.status.busy": "2022-08-01T20:13:04.455181Z",
     "iopub.status.idle": "2022-08-01T20:13:04.476306Z",
     "shell.execute_reply": "2022-08-01T20:13:04.475740Z"
    },
    "papermill": {
     "duration": 0.057602,
     "end_time": "2022-08-01T20:13:04.476435",
     "exception": false,
     "start_time": "2022-08-01T20:13:04.418833",
     "status": "completed"
    },
    "tags": []
   },
   "outputs": [
    {
     "name": "stdout",
     "output_type": "stream",
     "text": [
      "xavier\n",
      "xavier\n",
      "xavier\n",
      "xavier\n",
      "xavier\n"
     ]
    }
   ],
   "source": [
    "layers = [Affine(\"first\", 784, 100), Relu(\"first\"), Affine(\"second\", 100, 100), Relu(\"second\"), Affine(\"third\", 100, 2), Affine(\"last\", 2, 1), Sigmoid(\"last\")]\n",
    "model_nn = Model(layers)\n",
    "model_lr = Model([Affine(\"logits\", 784, 1), Sigmoid(\"sigmoid\")])"
   ]
  },
  {
   "cell_type": "code",
   "execution_count": 20,
   "id": "6eede77a",
   "metadata": {
    "execution": {
     "iopub.execute_input": "2022-08-01T20:13:04.545556Z",
     "iopub.status.busy": "2022-08-01T20:13:04.544845Z",
     "iopub.status.idle": "2022-08-01T20:13:04.560430Z",
     "shell.execute_reply": "2022-08-01T20:13:04.559851Z"
    },
    "papermill": {
     "duration": 0.052158,
     "end_time": "2022-08-01T20:13:04.560561",
     "exception": false,
     "start_time": "2022-08-01T20:13:04.508403",
     "status": "completed"
    },
    "tags": []
   },
   "outputs": [],
   "source": [
    "nn_learner = Learner(loss, model_nn, opt, config.num_epochs)\n",
    "acc_nn = ClfCallback(nn_learner, config.bs, training_data_x , testing_data_x, training_data_y, testing_data_y)\n",
    "nn_learner.set_callbacks([acc_nn])"
   ]
  },
  {
   "cell_type": "code",
   "execution_count": 21,
   "id": "877b6cc7",
   "metadata": {
    "execution": {
     "iopub.execute_input": "2022-08-01T20:13:04.630319Z",
     "iopub.status.busy": "2022-08-01T20:13:04.629601Z",
     "iopub.status.idle": "2022-08-01T20:13:04.645809Z",
     "shell.execute_reply": "2022-08-01T20:13:04.645179Z"
    },
    "papermill": {
     "duration": 0.053751,
     "end_time": "2022-08-01T20:13:04.645948",
     "exception": false,
     "start_time": "2022-08-01T20:13:04.592197",
     "status": "completed"
    },
    "tags": []
   },
   "outputs": [],
   "source": [
    "lr_learner = Learner(loss, model_lr, opt, config.num_epochs)\n",
    "acc_lr = ClfCallback(lr_learner, config.bs, training_data_x , testing_data_x, training_data_y, testing_data_y)\n",
    "lr_learner.set_callbacks([acc_lr])"
   ]
  },
  {
   "cell_type": "code",
   "execution_count": 22,
   "id": "d9b133c3",
   "metadata": {
    "execution": {
     "iopub.execute_input": "2022-08-01T20:13:04.713983Z",
     "iopub.status.busy": "2022-08-01T20:13:04.713258Z",
     "iopub.status.idle": "2022-08-01T20:14:37.601435Z",
     "shell.execute_reply": "2022-08-01T20:14:37.602441Z"
    },
    "papermill": {
     "duration": 92.924728,
     "end_time": "2022-08-01T20:14:37.602612",
     "exception": false,
     "start_time": "2022-08-01T20:13:04.677884",
     "status": "completed"
    },
    "tags": []
   },
   "outputs": [
    {
     "name": "stdout",
     "output_type": "stream",
     "text": [
      "Epoch 0, Loss 0.2468\n",
      "Training Accuracy: 0.5938, Testing Accuracy: 0.6053\n",
      "\n"
     ]
    },
    {
     "name": "stdout",
     "output_type": "stream",
     "text": [
      "Epoch 10, Loss 0.2181\n",
      "Training Accuracy: 0.8216, Testing Accuracy: 0.8422\n",
      "\n"
     ]
    },
    {
     "name": "stdout",
     "output_type": "stream",
     "text": [
      "Epoch 20, Loss 0.1337\n",
      "Training Accuracy: 0.8839, Testing Accuracy: 0.8977\n",
      "\n"
     ]
    },
    {
     "name": "stdout",
     "output_type": "stream",
     "text": [
      "Epoch 30, Loss 0.0752\n",
      "Training Accuracy: 0.9228, Testing Accuracy: 0.9330\n",
      "\n"
     ]
    },
    {
     "name": "stdout",
     "output_type": "stream",
     "text": [
      "Epoch 40, Loss 0.0544\n",
      "Training Accuracy: 0.9411, Testing Accuracy: 0.9536\n",
      "\n"
     ]
    },
    {
     "name": "stdout",
     "output_type": "stream",
     "text": [
      "Epoch 50, Loss 0.0449\n",
      "Training Accuracy: 0.9494, Testing Accuracy: 0.9587\n",
      "\n"
     ]
    },
    {
     "name": "stdout",
     "output_type": "stream",
     "text": [
      "Epoch 60, Loss 0.0397\n",
      "Training Accuracy: 0.9530, Testing Accuracy: 0.9622\n",
      "\n"
     ]
    },
    {
     "name": "stdout",
     "output_type": "stream",
     "text": [
      "Epoch 70, Loss 0.0363\n",
      "Training Accuracy: 0.9564, Testing Accuracy: 0.9662\n",
      "\n"
     ]
    },
    {
     "name": "stdout",
     "output_type": "stream",
     "text": [
      "Epoch 80, Loss 0.0339\n",
      "Training Accuracy: 0.9594, Testing Accuracy: 0.9662\n",
      "\n"
     ]
    },
    {
     "name": "stdout",
     "output_type": "stream",
     "text": [
      "Epoch 90, Loss 0.032\n",
      "Training Accuracy: 0.9624, Testing Accuracy: 0.9662\n",
      "\n"
     ]
    },
    {
     "name": "stdout",
     "output_type": "stream",
     "text": [
      "Epoch 100, Loss 0.0305\n",
      "Training Accuracy: 0.9643, Testing Accuracy: 0.9688\n",
      "\n"
     ]
    },
    {
     "name": "stdout",
     "output_type": "stream",
     "text": [
      "Epoch 110, Loss 0.0293\n",
      "Training Accuracy: 0.9656, Testing Accuracy: 0.9713\n",
      "\n"
     ]
    },
    {
     "name": "stdout",
     "output_type": "stream",
     "text": [
      "Epoch 120, Loss 0.0283\n",
      "Training Accuracy: 0.9673, Testing Accuracy: 0.9718\n",
      "\n"
     ]
    },
    {
     "name": "stdout",
     "output_type": "stream",
     "text": [
      "Epoch 130, Loss 0.0274\n",
      "Training Accuracy: 0.9687, Testing Accuracy: 0.9703\n",
      "\n"
     ]
    },
    {
     "name": "stdout",
     "output_type": "stream",
     "text": [
      "Epoch 140, Loss 0.0266\n",
      "Training Accuracy: 0.9695, Testing Accuracy: 0.9703\n",
      "\n"
     ]
    },
    {
     "name": "stdout",
     "output_type": "stream",
     "text": [
      "Epoch 150, Loss 0.0258\n",
      "Training Accuracy: 0.9705, Testing Accuracy: 0.9698\n",
      "\n"
     ]
    },
    {
     "name": "stdout",
     "output_type": "stream",
     "text": [
      "Epoch 160, Loss 0.0252\n",
      "Training Accuracy: 0.9712, Testing Accuracy: 0.9693\n",
      "\n"
     ]
    },
    {
     "name": "stdout",
     "output_type": "stream",
     "text": [
      "Epoch 170, Loss 0.0246\n",
      "Training Accuracy: 0.9720, Testing Accuracy: 0.9688\n",
      "\n"
     ]
    },
    {
     "name": "stdout",
     "output_type": "stream",
     "text": [
      "Epoch 180, Loss 0.0241\n",
      "Training Accuracy: 0.9727, Testing Accuracy: 0.9703\n",
      "\n"
     ]
    },
    {
     "name": "stdout",
     "output_type": "stream",
     "text": [
      "Epoch 190, Loss 0.0236\n",
      "Training Accuracy: 0.9733, Testing Accuracy: 0.9703\n",
      "\n"
     ]
    },
    {
     "name": "stdout",
     "output_type": "stream",
     "text": [
      "Epoch 200, Loss 0.0231\n",
      "Training Accuracy: 0.9737, Testing Accuracy: 0.9703\n",
      "\n"
     ]
    },
    {
     "name": "stdout",
     "output_type": "stream",
     "text": [
      "Epoch 210, Loss 0.0226\n",
      "Training Accuracy: 0.9744, Testing Accuracy: 0.9713\n",
      "\n"
     ]
    },
    {
     "name": "stdout",
     "output_type": "stream",
     "text": [
      "Epoch 220, Loss 0.0222\n",
      "Training Accuracy: 0.9752, Testing Accuracy: 0.9718\n",
      "\n"
     ]
    },
    {
     "name": "stdout",
     "output_type": "stream",
     "text": [
      "Epoch 230, Loss 0.0218\n",
      "Training Accuracy: 0.9752, Testing Accuracy: 0.9718\n",
      "\n"
     ]
    },
    {
     "name": "stdout",
     "output_type": "stream",
     "text": [
      "Epoch 240, Loss 0.0215\n",
      "Training Accuracy: 0.9756, Testing Accuracy: 0.9728\n",
      "\n"
     ]
    },
    {
     "data": {
      "text/plain": [
       "0.012936401051214411"
      ]
     },
     "execution_count": 22,
     "metadata": {},
     "output_type": "execute_result"
    }
   ],
   "source": [
    "nn_learner.train_loop(dl)"
   ]
  },
  {
   "cell_type": "code",
   "execution_count": 23,
   "id": "e0163366",
   "metadata": {
    "execution": {
     "iopub.execute_input": "2022-08-01T20:14:37.702635Z",
     "iopub.status.busy": "2022-08-01T20:14:37.701906Z",
     "iopub.status.idle": "2022-08-01T20:14:54.184735Z",
     "shell.execute_reply": "2022-08-01T20:14:54.185751Z"
    },
    "papermill": {
     "duration": 16.542758,
     "end_time": "2022-08-01T20:14:54.185918",
     "exception": false,
     "start_time": "2022-08-01T20:14:37.643160",
     "status": "completed"
    },
    "tags": []
   },
   "outputs": [
    {
     "name": "stdout",
     "output_type": "stream",
     "text": [
      "Epoch 0, Loss 0.2414\n",
      "Training Accuracy: 0.6825, Testing Accuracy: 0.6809\n",
      "\n"
     ]
    },
    {
     "name": "stdout",
     "output_type": "stream",
     "text": [
      "Epoch 10, Loss 0.1048\n",
      "Training Accuracy: 0.9027, Testing Accuracy: 0.9168\n",
      "\n"
     ]
    },
    {
     "name": "stdout",
     "output_type": "stream",
     "text": [
      "Epoch 20, Loss 0.0809\n",
      "Training Accuracy: 0.9225, Testing Accuracy: 0.9355\n",
      "\n"
     ]
    },
    {
     "name": "stdout",
     "output_type": "stream",
     "text": [
      "Epoch 30, Loss 0.0698\n",
      "Training Accuracy: 0.9311, Testing Accuracy: 0.9435\n",
      "\n"
     ]
    },
    {
     "name": "stdout",
     "output_type": "stream",
     "text": [
      "Epoch 40, Loss 0.063\n",
      "Training Accuracy: 0.9367, Testing Accuracy: 0.9456\n",
      "\n"
     ]
    },
    {
     "name": "stdout",
     "output_type": "stream",
     "text": [
      "Epoch 50, Loss 0.0584\n",
      "Training Accuracy: 0.9420, Testing Accuracy: 0.9501\n",
      "\n"
     ]
    },
    {
     "name": "stdout",
     "output_type": "stream",
     "text": [
      "Epoch 60, Loss 0.055\n",
      "Training Accuracy: 0.9456, Testing Accuracy: 0.9541\n",
      "\n"
     ]
    },
    {
     "name": "stdout",
     "output_type": "stream",
     "text": [
      "Epoch 70, Loss 0.0524\n",
      "Training Accuracy: 0.9473, Testing Accuracy: 0.9556\n",
      "\n"
     ]
    },
    {
     "name": "stdout",
     "output_type": "stream",
     "text": [
      "Epoch 80, Loss 0.0502\n",
      "Training Accuracy: 0.9490, Testing Accuracy: 0.9577\n",
      "\n"
     ]
    },
    {
     "name": "stdout",
     "output_type": "stream",
     "text": [
      "Epoch 90, Loss 0.0485\n",
      "Training Accuracy: 0.9501, Testing Accuracy: 0.9587\n",
      "\n"
     ]
    },
    {
     "name": "stdout",
     "output_type": "stream",
     "text": [
      "Epoch 100, Loss 0.047\n",
      "Training Accuracy: 0.9516, Testing Accuracy: 0.9587\n",
      "\n"
     ]
    },
    {
     "name": "stdout",
     "output_type": "stream",
     "text": [
      "Epoch 110, Loss 0.0458\n",
      "Training Accuracy: 0.9528, Testing Accuracy: 0.9602\n",
      "\n"
     ]
    },
    {
     "name": "stdout",
     "output_type": "stream",
     "text": [
      "Epoch 120, Loss 0.0447\n",
      "Training Accuracy: 0.9537, Testing Accuracy: 0.9617\n",
      "\n"
     ]
    },
    {
     "name": "stdout",
     "output_type": "stream",
     "text": [
      "Epoch 130, Loss 0.0437\n",
      "Training Accuracy: 0.9550, Testing Accuracy: 0.9622\n",
      "\n"
     ]
    },
    {
     "name": "stdout",
     "output_type": "stream",
     "text": [
      "Epoch 140, Loss 0.0428\n",
      "Training Accuracy: 0.9555, Testing Accuracy: 0.9627\n",
      "\n"
     ]
    },
    {
     "name": "stdout",
     "output_type": "stream",
     "text": [
      "Epoch 150, Loss 0.0421\n",
      "Training Accuracy: 0.9558, Testing Accuracy: 0.9627\n",
      "\n"
     ]
    },
    {
     "name": "stdout",
     "output_type": "stream",
     "text": [
      "Epoch 160, Loss 0.0414\n",
      "Training Accuracy: 0.9565, Testing Accuracy: 0.9632\n",
      "\n"
     ]
    },
    {
     "name": "stdout",
     "output_type": "stream",
     "text": [
      "Epoch 170, Loss 0.0407\n",
      "Training Accuracy: 0.9569, Testing Accuracy: 0.9632\n",
      "\n"
     ]
    },
    {
     "name": "stdout",
     "output_type": "stream",
     "text": [
      "Epoch 180, Loss 0.0401\n",
      "Training Accuracy: 0.9574, Testing Accuracy: 0.9632\n",
      "\n"
     ]
    },
    {
     "name": "stdout",
     "output_type": "stream",
     "text": [
      "Epoch 190, Loss 0.0396\n",
      "Training Accuracy: 0.9579, Testing Accuracy: 0.9627\n",
      "\n"
     ]
    },
    {
     "name": "stdout",
     "output_type": "stream",
     "text": [
      "Epoch 200, Loss 0.0391\n",
      "Training Accuracy: 0.9579, Testing Accuracy: 0.9627\n",
      "\n"
     ]
    },
    {
     "name": "stdout",
     "output_type": "stream",
     "text": [
      "Epoch 210, Loss 0.0386\n",
      "Training Accuracy: 0.9585, Testing Accuracy: 0.9637\n",
      "\n"
     ]
    },
    {
     "name": "stdout",
     "output_type": "stream",
     "text": [
      "Epoch 220, Loss 0.0382\n",
      "Training Accuracy: 0.9588, Testing Accuracy: 0.9637\n",
      "\n"
     ]
    },
    {
     "name": "stdout",
     "output_type": "stream",
     "text": [
      "Epoch 230, Loss 0.0378\n",
      "Training Accuracy: 0.9593, Testing Accuracy: 0.9632\n",
      "\n"
     ]
    },
    {
     "name": "stdout",
     "output_type": "stream",
     "text": [
      "Epoch 240, Loss 0.0374\n",
      "Training Accuracy: 0.9594, Testing Accuracy: 0.9647\n",
      "\n"
     ]
    },
    {
     "data": {
      "text/plain": [
       "0.018100130992958718"
      ]
     },
     "execution_count": 23,
     "metadata": {},
     "output_type": "execute_result"
    }
   ],
   "source": [
    "lr_learner.train_loop(dl)"
   ]
  },
  {
   "cell_type": "code",
   "execution_count": 24,
   "id": "ca410940",
   "metadata": {
    "execution": {
     "iopub.execute_input": "2022-08-01T20:14:54.298748Z",
     "iopub.status.busy": "2022-08-01T20:14:54.298012Z",
     "iopub.status.idle": "2022-08-01T20:14:54.574733Z",
     "shell.execute_reply": "2022-08-01T20:14:54.573780Z"
    },
    "papermill": {
     "duration": 0.337925,
     "end_time": "2022-08-01T20:14:54.574878",
     "exception": false,
     "start_time": "2022-08-01T20:14:54.236953",
     "status": "completed"
    },
    "tags": []
   },
   "outputs": [
    {
     "data": {
      "text/plain": [
       "<matplotlib.legend.Legend at 0x7fb817016b00>"
      ]
     },
     "execution_count": 24,
     "metadata": {},
     "output_type": "execute_result"
    },
    {
     "data": {
      "image/png": "[encoded data removed]",
      "text/plain": [
       "<Figure size 1080x720 with 1 Axes>"
      ]
     },
     "metadata": {
      "needs_background": "light"
     },
     "output_type": "display_data"
    }
   ],
   "source": [
    "#comparing the results of NN and LR\n",
    "plt.figure(figsize=(15,10))\n",
    "\n",
    "# Neural Network plots\n",
    "plt.plot(acc_nn.accuracies, 'r-', label = \"Training Accuracies - NN\")\n",
    "plt.plot(acc_nn.test_accuracies, 'g-', label = \"Testing Accuracies - NN\")\n",
    "\n",
    "# Logistic Regression plots\n",
    "plt.plot(acc_lr.accuracies, 'k-', label = \"Training Accuracies - LR\")\n",
    "plt.plot(acc_lr.test_accuracies, 'b-', label = \"Testing Accuracies - LR\")\n",
    "plt.legend()"
   ]
  },
  {
   "cell_type": "markdown",
   "id": "80dfb35c",
   "metadata": {
    "papermill": {
     "duration": 0.048873,
     "end_time": "2022-08-01T20:14:54.672858",
     "exception": false,
     "start_time": "2022-08-01T20:14:54.623985",
     "status": "completed"
    },
    "tags": []
   },
   "source": [
    "#### Plotting the outputs of this layer of the NN.\n"
   ]
  },
  {
   "cell_type": "code",
   "execution_count": 25,
   "id": "45eb2ff5",
   "metadata": {
    "execution": {
     "iopub.execute_input": "2022-08-01T20:14:54.775970Z",
     "iopub.status.busy": "2022-08-01T20:14:54.774898Z",
     "iopub.status.idle": "2022-08-01T20:14:54.800519Z",
     "shell.execute_reply": "2022-08-01T20:14:54.799896Z"
    },
    "papermill": {
     "duration": 0.079229,
     "end_time": "2022-08-01T20:14:54.800658",
     "exception": false,
     "start_time": "2022-08-01T20:14:54.721429",
     "status": "completed"
    },
    "tags": []
   },
   "outputs": [],
   "source": [
    "new_model = Model(layers[:-2])\n",
    "testing_plot = new_model(testing_data_x)"
   ]
  },
  {
   "cell_type": "code",
   "execution_count": 26,
   "id": "4c0a5485",
   "metadata": {
    "execution": {
     "iopub.execute_input": "2022-08-01T20:14:54.913613Z",
     "iopub.status.busy": "2022-08-01T20:14:54.910222Z",
     "iopub.status.idle": "2022-08-01T20:14:55.140010Z",
     "shell.execute_reply": "2022-08-01T20:14:55.139396Z"
    },
    "papermill": {
     "duration": 0.289518,
     "end_time": "2022-08-01T20:14:55.140148",
     "exception": false,
     "start_time": "2022-08-01T20:14:54.850630",
     "status": "completed"
    },
    "tags": []
   },
   "outputs": [
    {
     "data": {
      "text/plain": [
       "Text(0.5, 1.0, 'Outputs')"
      ]
     },
     "execution_count": 26,
     "metadata": {},
     "output_type": "execute_result"
    },
    {
     "data": {
      "image/png": "[encoded data removed]",
      "text/plain": [
       "<Figure size 576x504 with 1 Axes>"
      ]
     },
     "metadata": {
      "needs_background": "light"
     },
     "output_type": "display_data"
    }
   ],
   "source": [
    "# Plotting the scatter plot of points and color coding by class\n",
    "plt.figure(figsize=(8,7))\n",
    "plt.scatter(testing_plot[:,0], testing_plot[:,1], alpha = 0.1, c = y_test.ravel());\n",
    "plt.title('Outputs')"
   ]
  },
  {
   "cell_type": "markdown",
   "id": "a74fcf8f",
   "metadata": {
    "papermill": {
     "duration": 0.053538,
     "end_time": "2022-08-01T20:14:55.248057",
     "exception": false,
     "start_time": "2022-08-01T20:14:55.194519",
     "status": "completed"
    },
    "tags": []
   },
   "source": [
    "Probability contours"
   ]
  },
  {
   "cell_type": "code",
   "execution_count": 27,
   "id": "d0afc8e3",
   "metadata": {
    "execution": {
     "iopub.execute_input": "2022-08-01T20:14:55.397717Z",
     "iopub.status.busy": "2022-08-01T20:14:55.397014Z",
     "iopub.status.idle": "2022-08-01T20:14:55.412043Z",
     "shell.execute_reply": "2022-08-01T20:14:55.411450Z"
    },
    "papermill": {
     "duration": 0.073057,
     "end_time": "2022-08-01T20:14:55.412171",
     "exception": false,
     "start_time": "2022-08-01T20:14:55.339114",
     "status": "completed"
    },
    "tags": []
   },
   "outputs": [],
   "source": [
    "model_prob = Model(layers[-2:]) "
   ]
  },
  {
   "cell_type": "code",
   "execution_count": 28,
   "id": "9b96e238",
   "metadata": {
    "execution": {
     "iopub.execute_input": "2022-08-01T20:14:55.526569Z",
     "iopub.status.busy": "2022-08-01T20:14:55.525831Z",
     "iopub.status.idle": "2022-08-01T20:14:55.540479Z",
     "shell.execute_reply": "2022-08-01T20:14:55.541109Z"
    },
    "papermill": {
     "duration": 0.074323,
     "end_time": "2022-08-01T20:14:55.541294",
     "exception": false,
     "start_time": "2022-08-01T20:14:55.466971",
     "status": "completed"
    },
    "tags": []
   },
   "outputs": [],
   "source": [
    "#creating the x and y ranges according to the above generated plot.\n",
    "x_range = np.linspace(-4, 1, 100) \n",
    "y_range = np.linspace(-6, 6, 100) \n",
    "x_grid, y_grid = np.meshgrid(x_range, y_range) # x_grid and y_grig are of size 100 X 100\n",
    "\n",
    "# converting x_grid and y_grid to continuous arrays\n",
    "x_gridflat = np.ravel(x_grid)\n",
    "y_gridflat = np.ravel(y_grid)\n",
    "\n",
    "# The last layer of the current model takes two columns as input. Hence transpose of np.vstack() is required.\n",
    "X = np.vstack((x_gridflat, y_gridflat)).T\n",
    "\n",
    "prob_contour = model_prob(X).reshape(100,100) "
   ]
  },
  {
   "cell_type": "code",
   "execution_count": 29,
   "id": "da72499a",
   "metadata": {
    "execution": {
     "iopub.execute_input": "2022-08-01T20:14:55.660960Z",
     "iopub.status.busy": "2022-08-01T20:14:55.659851Z",
     "iopub.status.idle": "2022-08-01T20:14:55.945530Z",
     "shell.execute_reply": "2022-08-01T20:14:55.944932Z"
    },
    "papermill": {
     "duration": 0.351611,
     "end_time": "2022-08-01T20:14:55.945673",
     "exception": false,
     "start_time": "2022-08-01T20:14:55.594062",
     "status": "completed"
    },
    "tags": []
   },
   "outputs": [
    {
     "data": {
      "image/png": "[encoded data removed]",
      "text/plain": [
       "<Figure size 720x648 with 1 Axes>"
      ]
     },
     "metadata": {
      "needs_background": "light"
     },
     "output_type": "display_data"
    }
   ],
   "source": [
    "plt.figure(figsize=(10,9))\n",
    "plt.scatter(testing_plot[:,0], testing_plot[:,1], alpha = 0.1, c = y_test.ravel())\n",
    "contours = plt.contour(x_grid,y_grid,prob_contour)\n",
    "plt.title('Probability Contours')\n",
    "plt.clabel(contours, inline = True );"
   ]
  },
  {
   "cell_type": "code",
   "execution_count": null,
   "id": "e81b4ac7",
   "metadata": {
    "papermill": {
     "duration": 0.058362,
     "end_time": "2022-08-01T20:14:56.060359",
     "exception": false,
     "start_time": "2022-08-01T20:14:56.001997",
     "status": "completed"
    },
    "tags": []
   },
   "outputs": [],
   "source": []
  }
 ],
 "metadata": {
  "kernelspec": {
   "display_name": "Python 3",
   "language": "python",
   "name": "python3"
  },
  "language_info": {
   "codemirror_mode": {
    "name": "ipython",
    "version": 3
   },
   "file_extension": ".py",
   "mimetype": "text/x-python",
   "name": "python",
   "nbconvert_exporter": "python",
   "pygments_lexer": "ipython3",
   "version": "3.6.15"
  },
  "papermill": {
   "default_parameters": {},
   "duration": 121.61379,
   "end_time": "2022-08-01T20:14:56.639715",
   "environment_variables": {},
   "exception": null,
   "input_path": "2020-08-11-part2.ipynb",
   "output_path": "2020-08-11-part2.ipynb",
   "parameters": {},
   "start_time": "2022-08-01T20:12:55.025925",
   "version": "2.3.3"
  }
 },
 "nbformat": 4,
 "nbformat_minor": 5
}