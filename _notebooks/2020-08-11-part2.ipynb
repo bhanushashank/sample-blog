{
 "cells": [
  {
   "cell_type": "markdown",
   "id": "98380cd3",
   "metadata": {
    "papermill": {
     "duration": 0.029282,
     "end_time": "2021-10-21T10:07:53.575554",
     "exception": false,
     "start_time": "2021-10-21T10:07:53.546272",
     "status": "completed"
    },
    "tags": []
   },
   "source": [
    "# Distinguish Your Own Digits (DYOD)"
   ]
  },
  {
   "cell_type": "markdown",
   "id": "ef31240d",
   "metadata": {
    "papermill": {
     "duration": 0.02435,
     "end_time": "2021-10-21T10:07:53.625075",
     "exception": false,
     "start_time": "2021-10-21T10:07:53.600725",
     "status": "completed"
    },
    "tags": []
   },
   "source": [
    "You are going to write a classifier that distinguishes between the number 3 and number 8."
   ]
  },
  {
   "cell_type": "code",
   "execution_count": 1,
   "id": "b15c8646",
   "metadata": {
    "execution": {
     "iopub.execute_input": "2021-10-21T10:07:53.685989Z",
     "iopub.status.busy": "2021-10-21T10:07:53.685465Z",
     "iopub.status.idle": "2021-10-21T10:07:53.695865Z",
     "shell.execute_reply": "2021-10-21T10:07:53.695412Z"
    },
    "papermill": {
     "duration": 0.046557,
     "end_time": "2021-10-21T10:07:53.695990",
     "exception": false,
     "start_time": "2021-10-21T10:07:53.649433",
     "status": "completed"
    },
    "tags": []
   },
   "outputs": [],
   "source": [
    "%load_ext autoreload\n",
    "%autoreload 2"
   ]
  },
  {
   "cell_type": "code",
   "execution_count": 2,
   "id": "22ef38dc",
   "metadata": {
    "execution": {
     "iopub.execute_input": "2021-10-21T10:07:53.749511Z",
     "iopub.status.busy": "2021-10-21T10:07:53.748989Z",
     "iopub.status.idle": "2021-10-21T10:07:54.264191Z",
     "shell.execute_reply": "2021-10-21T10:07:54.265030Z"
    },
    "papermill": {
     "duration": 0.544503,
     "end_time": "2021-10-21T10:07:54.265186",
     "exception": false,
     "start_time": "2021-10-21T10:07:53.720683",
     "status": "completed"
    },
    "tags": []
   },
   "outputs": [],
   "source": [
    "%matplotlib inline\n",
    "import numpy as np\n",
    "import matplotlib.pyplot as plt\n",
    "import pandas as pd"
   ]
  },
  {
   "cell_type": "markdown",
   "id": "ba036198",
   "metadata": {
    "papermill": {
     "duration": 0.024994,
     "end_time": "2021-10-21T10:07:54.315669",
     "exception": false,
     "start_time": "2021-10-21T10:07:54.290675",
     "status": "completed"
    },
    "tags": []
   },
   "source": [
    "From the command line run `pip install mnist`. This is a library that will help you bring down the mnist dataset. If you run this from a notebook, you need to put  `!pip install mnist` in a cell by itself."
   ]
  },
  {
   "cell_type": "code",
   "execution_count": 3,
   "id": "bb6ad8a1",
   "metadata": {
    "execution": {
     "iopub.execute_input": "2021-10-21T10:07:54.371207Z",
     "iopub.status.busy": "2021-10-21T10:07:54.370583Z",
     "iopub.status.idle": "2021-10-21T10:07:56.890861Z",
     "shell.execute_reply": "2021-10-21T10:07:56.891320Z"
    },
    "papermill": {
     "duration": 2.550889,
     "end_time": "2021-10-21T10:07:56.891485",
     "exception": false,
     "start_time": "2021-10-21T10:07:54.340596",
     "status": "completed"
    },
    "tags": []
   },
   "outputs": [
    {
     "name": "stdout",
     "output_type": "stream",
     "text": [
      "Collecting mnist\r\n"
     ]
    },
    {
     "name": "stdout",
     "output_type": "stream",
     "text": [
      "  Downloading mnist-0.2.2-py2.py3-none-any.whl (3.5 kB)\r\n",
      "Requirement already satisfied: numpy in /opt/hostedtoolcache/Python/3.6.15/x64/lib/python3.6/site-packages (from mnist) (1.19.5)\r\n"
     ]
    },
    {
     "name": "stdout",
     "output_type": "stream",
     "text": [
      "Installing collected packages: mnist\r\n",
      "Successfully installed mnist-0.2.2\r\n"
     ]
    }
   ],
   "source": [
    "!pip install mnist"
   ]
  },
  {
   "cell_type": "markdown",
   "id": "69df9c9a",
   "metadata": {
    "papermill": {
     "duration": 0.025493,
     "end_time": "2021-10-21T10:07:56.942839",
     "exception": false,
     "start_time": "2021-10-21T10:07:56.917346",
     "status": "completed"
    },
    "tags": []
   },
   "source": [
    "## Preparing the Data"
   ]
  },
  {
   "cell_type": "code",
   "execution_count": 4,
   "id": "7f69d806",
   "metadata": {
    "execution": {
     "iopub.execute_input": "2021-10-21T10:07:56.998258Z",
     "iopub.status.busy": "2021-10-21T10:07:56.997726Z",
     "iopub.status.idle": "2021-10-21T10:07:57.011428Z",
     "shell.execute_reply": "2021-10-21T10:07:57.011820Z"
    },
    "papermill": {
     "duration": 0.043621,
     "end_time": "2021-10-21T10:07:57.011961",
     "exception": false,
     "start_time": "2021-10-21T10:07:56.968340",
     "status": "completed"
    },
    "tags": []
   },
   "outputs": [],
   "source": [
    "import mnist"
   ]
  },
  {
   "cell_type": "code",
   "execution_count": 5,
   "id": "a411e44f",
   "metadata": {
    "execution": {
     "iopub.execute_input": "2021-10-21T10:07:57.073758Z",
     "iopub.status.busy": "2021-10-21T10:07:57.073224Z",
     "iopub.status.idle": "2021-10-21T10:07:57.669500Z",
     "shell.execute_reply": "2021-10-21T10:07:57.669995Z"
    },
    "papermill": {
     "duration": 0.632485,
     "end_time": "2021-10-21T10:07:57.670169",
     "exception": false,
     "start_time": "2021-10-21T10:07:57.037684",
     "status": "completed"
    },
    "tags": []
   },
   "outputs": [],
   "source": [
    "train_images = mnist.train_images()\n",
    "train_labels = mnist.train_labels()"
   ]
  },
  {
   "cell_type": "code",
   "execution_count": 6,
   "id": "dceab3a5",
   "metadata": {
    "execution": {
     "iopub.execute_input": "2021-10-21T10:07:57.733984Z",
     "iopub.status.busy": "2021-10-21T10:07:57.733450Z",
     "iopub.status.idle": "2021-10-21T10:07:57.744233Z",
     "shell.execute_reply": "2021-10-21T10:07:57.743790Z"
    },
    "papermill": {
     "duration": 0.04814,
     "end_time": "2021-10-21T10:07:57.744350",
     "exception": false,
     "start_time": "2021-10-21T10:07:57.696210",
     "status": "completed"
    },
    "tags": []
   },
   "outputs": [
    {
     "data": {
      "text/plain": [
       "((60000, 28, 28), (60000,))"
      ]
     },
     "execution_count": 6,
     "metadata": {},
     "output_type": "execute_result"
    }
   ],
   "source": [
    "train_images.shape, train_labels.shape"
   ]
  },
  {
   "cell_type": "code",
   "execution_count": 7,
   "id": "f50dc2bb",
   "metadata": {
    "execution": {
     "iopub.execute_input": "2021-10-21T10:07:57.812099Z",
     "iopub.status.busy": "2021-10-21T10:07:57.806318Z",
     "iopub.status.idle": "2021-10-21T10:07:58.017628Z",
     "shell.execute_reply": "2021-10-21T10:07:58.017099Z"
    },
    "papermill": {
     "duration": 0.247609,
     "end_time": "2021-10-21T10:07:58.017772",
     "exception": false,
     "start_time": "2021-10-21T10:07:57.770163",
     "status": "completed"
    },
    "tags": []
   },
   "outputs": [],
   "source": [
    "test_images = mnist.test_images()\n",
    "test_labels = mnist.test_labels()"
   ]
  },
  {
   "cell_type": "code",
   "execution_count": 8,
   "id": "fc38cf1b",
   "metadata": {
    "execution": {
     "iopub.execute_input": "2021-10-21T10:07:58.074456Z",
     "iopub.status.busy": "2021-10-21T10:07:58.073904Z",
     "iopub.status.idle": "2021-10-21T10:07:58.087635Z",
     "shell.execute_reply": "2021-10-21T10:07:58.087191Z"
    },
    "papermill": {
     "duration": 0.042726,
     "end_time": "2021-10-21T10:07:58.087750",
     "exception": false,
     "start_time": "2021-10-21T10:07:58.045024",
     "status": "completed"
    },
    "tags": []
   },
   "outputs": [
    {
     "data": {
      "text/plain": [
       "((10000, 28, 28), (10000,))"
      ]
     },
     "execution_count": 8,
     "metadata": {},
     "output_type": "execute_result"
    }
   ],
   "source": [
    "test_images.shape, test_labels.shape"
   ]
  },
  {
   "cell_type": "code",
   "execution_count": 9,
   "id": "f9ed8fe0",
   "metadata": {
    "execution": {
     "iopub.execute_input": "2021-10-21T10:07:58.144392Z",
     "iopub.status.busy": "2021-10-21T10:07:58.143875Z",
     "iopub.status.idle": "2021-10-21T10:07:58.282092Z",
     "shell.execute_reply": "2021-10-21T10:07:58.282600Z"
    },
    "papermill": {
     "duration": 0.16912,
     "end_time": "2021-10-21T10:07:58.282765",
     "exception": false,
     "start_time": "2021-10-21T10:07:58.113645",
     "status": "completed"
    },
    "tags": []
   },
   "outputs": [
    {
     "name": "stdout",
     "output_type": "stream",
     "text": [
      "2\n"
     ]
    },
    {
     "data": {
      "text/plain": [
       "<matplotlib.image.AxesImage at 0x7fb5d099a978>"
      ]
     },
     "execution_count": 9,
     "metadata": {},
     "output_type": "execute_result"
    },
    {
     "data": {
      "image/png": "[encoded data removed]",
      "text/plain": [
       "<Figure size 432x288 with 1 Axes>"
      ]
     },
     "metadata": {
      "needs_background": "light"
     },
     "output_type": "display_data"
    }
   ],
   "source": [
    "image_index = 7776 # You may select anything up to 60,000\n",
    "print(train_labels[image_index]) \n",
    "plt.imshow(train_images[image_index], cmap='Greys')"
   ]
  },
  {
   "cell_type": "markdown",
   "id": "a8d2388d",
   "metadata": {
    "papermill": {
     "duration": 0.027549,
     "end_time": "2021-10-21T10:07:58.337526",
     "exception": false,
     "start_time": "2021-10-21T10:07:58.309977",
     "status": "completed"
    },
    "tags": []
   },
   "source": [
    "## Filter data to get 3 and 8 out"
   ]
  },
  {
   "cell_type": "code",
   "execution_count": 10,
   "id": "776f7fc7",
   "metadata": {
    "execution": {
     "iopub.execute_input": "2021-10-21T10:07:58.396285Z",
     "iopub.status.busy": "2021-10-21T10:07:58.395754Z",
     "iopub.status.idle": "2021-10-21T10:07:58.413726Z",
     "shell.execute_reply": "2021-10-21T10:07:58.413286Z"
    },
    "papermill": {
     "duration": 0.049379,
     "end_time": "2021-10-21T10:07:58.413850",
     "exception": false,
     "start_time": "2021-10-21T10:07:58.364471",
     "status": "completed"
    },
    "tags": []
   },
   "outputs": [],
   "source": [
    "train_filter = np.where((train_labels == 3 ) | (train_labels == 8))\n",
    "test_filter = np.where((test_labels == 3) | (test_labels == 8))\n",
    "X_train, y_train = train_images[train_filter], train_labels[train_filter]\n",
    "X_test, y_test = test_images[test_filter], test_labels[test_filter]"
   ]
  },
  {
   "cell_type": "markdown",
   "id": "948f0b7e",
   "metadata": {
    "papermill": {
     "duration": 0.026792,
     "end_time": "2021-10-21T10:07:58.467695",
     "exception": false,
     "start_time": "2021-10-21T10:07:58.440903",
     "status": "completed"
    },
    "tags": []
   },
   "source": [
    "We normalize the pizel values in the 0 to 1 range"
   ]
  },
  {
   "cell_type": "code",
   "execution_count": 11,
   "id": "ee4c2166",
   "metadata": {
    "execution": {
     "iopub.execute_input": "2021-10-21T10:07:58.543090Z",
     "iopub.status.busy": "2021-10-21T10:07:58.535134Z",
     "iopub.status.idle": "2021-10-21T10:07:58.578056Z",
     "shell.execute_reply": "2021-10-21T10:07:58.577515Z"
    },
    "papermill": {
     "duration": 0.083834,
     "end_time": "2021-10-21T10:07:58.578193",
     "exception": false,
     "start_time": "2021-10-21T10:07:58.494359",
     "status": "completed"
    },
    "tags": []
   },
   "outputs": [],
   "source": [
    "X_train = X_train/255.\n",
    "X_test = X_test/255."
   ]
  },
  {
   "cell_type": "markdown",
   "id": "ddcf4fab",
   "metadata": {
    "papermill": {
     "duration": 0.026908,
     "end_time": "2021-10-21T10:07:58.632235",
     "exception": false,
     "start_time": "2021-10-21T10:07:58.605327",
     "status": "completed"
    },
    "tags": []
   },
   "source": [
    "And setup the labels as 1 (when the digit is 3) and 0 (when the digit is 8)"
   ]
  },
  {
   "cell_type": "code",
   "execution_count": 12,
   "id": "7dc908f2",
   "metadata": {
    "execution": {
     "iopub.execute_input": "2021-10-21T10:07:58.703054Z",
     "iopub.status.busy": "2021-10-21T10:07:58.702516Z",
     "iopub.status.idle": "2021-10-21T10:07:58.704803Z",
     "shell.execute_reply": "2021-10-21T10:07:58.704368Z"
    },
    "papermill": {
     "duration": 0.045844,
     "end_time": "2021-10-21T10:07:58.704913",
     "exception": false,
     "start_time": "2021-10-21T10:07:58.659069",
     "status": "completed"
    },
    "tags": []
   },
   "outputs": [],
   "source": [
    "y_train = 1*(y_train==3)\n",
    "y_test = 1*(y_test==3)"
   ]
  },
  {
   "cell_type": "code",
   "execution_count": 13,
   "id": "01e4e969",
   "metadata": {
    "execution": {
     "iopub.execute_input": "2021-10-21T10:07:58.769931Z",
     "iopub.status.busy": "2021-10-21T10:07:58.769408Z",
     "iopub.status.idle": "2021-10-21T10:07:58.779956Z",
     "shell.execute_reply": "2021-10-21T10:07:58.779523Z"
    },
    "papermill": {
     "duration": 0.048164,
     "end_time": "2021-10-21T10:07:58.780067",
     "exception": false,
     "start_time": "2021-10-21T10:07:58.731903",
     "status": "completed"
    },
    "tags": []
   },
   "outputs": [
    {
     "data": {
      "text/plain": [
       "((11982, 28, 28), (1984, 28, 28))"
      ]
     },
     "execution_count": 13,
     "metadata": {},
     "output_type": "execute_result"
    }
   ],
   "source": [
    "X_train.shape, X_test.shape"
   ]
  },
  {
   "cell_type": "markdown",
   "id": "5ccf3f85",
   "metadata": {
    "papermill": {
     "duration": 0.026956,
     "end_time": "2021-10-21T10:07:58.834334",
     "exception": false,
     "start_time": "2021-10-21T10:07:58.807378",
     "status": "completed"
    },
    "tags": []
   },
   "source": [
    "We reshape the data to flatten the image pixels into a set of features or co-variates:"
   ]
  },
  {
   "cell_type": "code",
   "execution_count": 14,
   "id": "5286a4a3",
   "metadata": {
    "execution": {
     "iopub.execute_input": "2021-10-21T10:07:58.892882Z",
     "iopub.status.busy": "2021-10-21T10:07:58.892366Z",
     "iopub.status.idle": "2021-10-21T10:07:58.905327Z",
     "shell.execute_reply": "2021-10-21T10:07:58.905759Z"
    },
    "papermill": {
     "duration": 0.044334,
     "end_time": "2021-10-21T10:07:58.905896",
     "exception": false,
     "start_time": "2021-10-21T10:07:58.861562",
     "status": "completed"
    },
    "tags": []
   },
   "outputs": [
    {
     "data": {
      "text/plain": [
       "((11982, 784), (1984, 784))"
      ]
     },
     "execution_count": 14,
     "metadata": {},
     "output_type": "execute_result"
    }
   ],
   "source": [
    "X_train = X_train.reshape(X_train.shape[0], -1)\n",
    "X_test = X_test.reshape(X_test.shape[0], -1)\n",
    "X_train.shape, X_test.shape"
   ]
  },
  {
   "cell_type": "code",
   "execution_count": 15,
   "id": "73c5f88a",
   "metadata": {
    "execution": {
     "iopub.execute_input": "2021-10-21T10:07:58.964936Z",
     "iopub.status.busy": "2021-10-21T10:07:58.964421Z",
     "iopub.status.idle": "2021-10-21T10:07:58.982772Z",
     "shell.execute_reply": "2021-10-21T10:07:58.982320Z"
    },
    "papermill": {
     "duration": 0.049649,
     "end_time": "2021-10-21T10:07:58.982889",
     "exception": false,
     "start_time": "2021-10-21T10:07:58.933240",
     "status": "completed"
    },
    "tags": []
   },
   "outputs": [],
   "source": [
    "#Impoting functions from 'Kudzu'\n",
    "from kudzu.model import Model\n",
    "from kudzu.train import Learner\n",
    "from kudzu.optim import GD\n",
    "from kudzu.data import Data, Sampler,Dataloader\n",
    "\n",
    "from kudzu.callbacks import AccCallback\n",
    "from kudzu.callbacks import ClfCallback\n",
    "\n",
    "from kudzu.loss import MSE\n",
    "\n",
    "from kudzu.layer import Sigmoid,Relu\n",
    "from kudzu.layer import Affine"
   ]
  },
  {
   "cell_type": "markdown",
   "id": "bc01172a",
   "metadata": {
    "papermill": {
     "duration": 0.027418,
     "end_time": "2021-10-21T10:07:59.037921",
     "exception": false,
     "start_time": "2021-10-21T10:07:59.010503",
     "status": "completed"
    },
    "tags": []
   },
   "source": [
    "### Let us create a `Config` class, to store important parameters. \n",
    "This class essentially plays the role of a dictionary."
   ]
  },
  {
   "cell_type": "code",
   "execution_count": 16,
   "id": "978281aa",
   "metadata": {
    "execution": {
     "iopub.execute_input": "2021-10-21T10:07:59.097779Z",
     "iopub.status.busy": "2021-10-21T10:07:59.097262Z",
     "iopub.status.idle": "2021-10-21T10:07:59.108780Z",
     "shell.execute_reply": "2021-10-21T10:07:59.108371Z"
    },
    "papermill": {
     "duration": 0.04352,
     "end_time": "2021-10-21T10:07:59.108899",
     "exception": false,
     "start_time": "2021-10-21T10:07:59.065379",
     "status": "completed"
    },
    "tags": []
   },
   "outputs": [],
   "source": [
    "class Config:\n",
    "    pass\n",
    "config = Config()\n",
    "config.lr = 0.001\n",
    "config.num_epochs = 250\n",
    "config.bs = 50"
   ]
  },
  {
   "cell_type": "markdown",
   "id": "1385fa59",
   "metadata": {
    "papermill": {
     "duration": 0.027324,
     "end_time": "2021-10-21T10:07:59.163781",
     "exception": false,
     "start_time": "2021-10-21T10:07:59.136457",
     "status": "completed"
    },
    "tags": []
   },
   "source": [
    "### Running Models with the Training data\n",
    "Details about the network layers:\n",
    "- A first affine layer has 784 inputs and does 100 affine transforms. These are followed by a Relu\n",
    "- A second affine layer has 100 inputs from the 100 activations of the past layer, and does 100 affine transforms. These are followed by a Relu\n",
    "- A third affine layer has 100 activations and does 2 affine transformations to create an embedding for visualization. There is no non-linearity here.\n",
    "- A final \"logistic regression\" which has an affine transform from 2 inputs to 1 output, which is squeezed through a sigmoid.\n"
   ]
  },
  {
   "cell_type": "code",
   "execution_count": 17,
   "id": "2b9c66db",
   "metadata": {
    "execution": {
     "iopub.execute_input": "2021-10-21T10:07:59.235971Z",
     "iopub.status.busy": "2021-10-21T10:07:59.231473Z",
     "iopub.status.idle": "2021-10-21T10:07:59.238269Z",
     "shell.execute_reply": "2021-10-21T10:07:59.237766Z"
    },
    "papermill": {
     "duration": 0.04737,
     "end_time": "2021-10-21T10:07:59.238421",
     "exception": false,
     "start_time": "2021-10-21T10:07:59.191051",
     "status": "completed"
    },
    "tags": []
   },
   "outputs": [],
   "source": [
    "data = Data(X_train, y_train.reshape(-1,1))\n",
    "sampler = Sampler(data, config.bs, shuffle=True)\n",
    "\n",
    "dl = Dataloader(data, sampler)\n",
    "\n",
    "opt = GD(config.lr)\n",
    "loss = MSE()"
   ]
  },
  {
   "cell_type": "code",
   "execution_count": 18,
   "id": "b275e4c2",
   "metadata": {
    "execution": {
     "iopub.execute_input": "2021-10-21T10:07:59.299429Z",
     "iopub.status.busy": "2021-10-21T10:07:59.298912Z",
     "iopub.status.idle": "2021-10-21T10:07:59.309219Z",
     "shell.execute_reply": "2021-10-21T10:07:59.309610Z"
    },
    "papermill": {
     "duration": 0.043776,
     "end_time": "2021-10-21T10:07:59.309746",
     "exception": false,
     "start_time": "2021-10-21T10:07:59.265970",
     "status": "completed"
    },
    "tags": []
   },
   "outputs": [],
   "source": [
    "training_data_x = X_train\n",
    "testing_data_x = X_test\n",
    "training_data_y = y_train.reshape(-1,1)\n",
    "testing_data_y = y_test.reshape(-1,1)"
   ]
  },
  {
   "cell_type": "code",
   "execution_count": 19,
   "id": "76951160",
   "metadata": {
    "execution": {
     "iopub.execute_input": "2021-10-21T10:07:59.369829Z",
     "iopub.status.busy": "2021-10-21T10:07:59.369297Z",
     "iopub.status.idle": "2021-10-21T10:07:59.384827Z",
     "shell.execute_reply": "2021-10-21T10:07:59.384416Z"
    },
    "papermill": {
     "duration": 0.047709,
     "end_time": "2021-10-21T10:07:59.384946",
     "exception": false,
     "start_time": "2021-10-21T10:07:59.337237",
     "status": "completed"
    },
    "tags": []
   },
   "outputs": [
    {
     "name": "stdout",
     "output_type": "stream",
     "text": [
      "xavier\n",
      "xavier\n",
      "xavier\n",
      "xavier\n",
      "xavier\n"
     ]
    }
   ],
   "source": [
    "layers = [Affine(\"first\", 784, 100), Relu(\"first\"), Affine(\"second\", 100, 100), Relu(\"second\"), Affine(\"third\", 100, 2), Affine(\"last\", 2, 1), Sigmoid(\"last\")]\n",
    "model_nn = Model(layers)\n",
    "model_lr = Model([Affine(\"logits\", 784, 1), Sigmoid(\"sigmoid\")])"
   ]
  },
  {
   "cell_type": "code",
   "execution_count": 20,
   "id": "6eede77a",
   "metadata": {
    "execution": {
     "iopub.execute_input": "2021-10-21T10:07:59.444777Z",
     "iopub.status.busy": "2021-10-21T10:07:59.444265Z",
     "iopub.status.idle": "2021-10-21T10:07:59.456992Z",
     "shell.execute_reply": "2021-10-21T10:07:59.456563Z"
    },
    "papermill": {
     "duration": 0.043857,
     "end_time": "2021-10-21T10:07:59.457105",
     "exception": false,
     "start_time": "2021-10-21T10:07:59.413248",
     "status": "completed"
    },
    "tags": []
   },
   "outputs": [],
   "source": [
    "nn_learner = Learner(loss, model_nn, opt, config.num_epochs)\n",
    "acc_nn = ClfCallback(nn_learner, config.bs, training_data_x , testing_data_x, training_data_y, testing_data_y)\n",
    "nn_learner.set_callbacks([acc_nn])"
   ]
  },
  {
   "cell_type": "code",
   "execution_count": 21,
   "id": "877b6cc7",
   "metadata": {
    "execution": {
     "iopub.execute_input": "2021-10-21T10:07:59.516393Z",
     "iopub.status.busy": "2021-10-21T10:07:59.515873Z",
     "iopub.status.idle": "2021-10-21T10:07:59.528741Z",
     "shell.execute_reply": "2021-10-21T10:07:59.528325Z"
    },
    "papermill": {
     "duration": 0.044085,
     "end_time": "2021-10-21T10:07:59.528859",
     "exception": false,
     "start_time": "2021-10-21T10:07:59.484774",
     "status": "completed"
    },
    "tags": []
   },
   "outputs": [],
   "source": [
    "lr_learner = Learner(loss, model_lr, opt, config.num_epochs)\n",
    "acc_lr = ClfCallback(lr_learner, config.bs, training_data_x , testing_data_x, training_data_y, testing_data_y)\n",
    "lr_learner.set_callbacks([acc_lr])"
   ]
  },
  {
   "cell_type": "code",
   "execution_count": 22,
   "id": "d9b133c3",
   "metadata": {
    "execution": {
     "iopub.execute_input": "2021-10-21T10:07:59.599129Z",
     "iopub.status.busy": "2021-10-21T10:07:59.596677Z",
     "iopub.status.idle": "2021-10-21T10:09:15.176795Z",
     "shell.execute_reply": "2021-10-21T10:09:15.177549Z"
    },
    "papermill": {
     "duration": 75.620932,
     "end_time": "2021-10-21T10:09:15.177701",
     "exception": false,
     "start_time": "2021-10-21T10:07:59.556769",
     "status": "completed"
    },
    "tags": []
   },
   "outputs": [
    {
     "name": "stdout",
     "output_type": "stream",
     "text": [
      "Epoch 0, Loss 0.2372\n",
      "Training Accuracy: 0.7202, Testing Accuracy: 0.7445\n",
      "\n"
     ]
    },
    {
     "name": "stdout",
     "output_type": "stream",
     "text": [
      "Epoch 10, Loss 0.0762\n",
      "Training Accuracy: 0.9251, Testing Accuracy: 0.9325\n",
      "\n"
     ]
    },
    {
     "name": "stdout",
     "output_type": "stream",
     "text": [
      "Epoch 20, Loss 0.0493\n",
      "Training Accuracy: 0.9483, Testing Accuracy: 0.9536\n",
      "\n"
     ]
    },
    {
     "name": "stdout",
     "output_type": "stream",
     "text": [
      "Epoch 30, Loss 0.0398\n",
      "Training Accuracy: 0.9564, Testing Accuracy: 0.9627\n",
      "\n"
     ]
    },
    {
     "name": "stdout",
     "output_type": "stream",
     "text": [
      "Epoch 40, Loss 0.0349\n",
      "Training Accuracy: 0.9609, Testing Accuracy: 0.9632\n",
      "\n"
     ]
    },
    {
     "name": "stdout",
     "output_type": "stream",
     "text": [
      "Epoch 50, Loss 0.0319\n",
      "Training Accuracy: 0.9635, Testing Accuracy: 0.9647\n",
      "\n"
     ]
    },
    {
     "name": "stdout",
     "output_type": "stream",
     "text": [
      "Epoch 60, Loss 0.0298\n",
      "Training Accuracy: 0.9660, Testing Accuracy: 0.9667\n",
      "\n"
     ]
    },
    {
     "name": "stdout",
     "output_type": "stream",
     "text": [
      "Epoch 70, Loss 0.0281\n",
      "Training Accuracy: 0.9682, Testing Accuracy: 0.9677\n",
      "\n"
     ]
    },
    {
     "name": "stdout",
     "output_type": "stream",
     "text": [
      "Epoch 80, Loss 0.0268\n",
      "Training Accuracy: 0.9696, Testing Accuracy: 0.9703\n",
      "\n"
     ]
    },
    {
     "name": "stdout",
     "output_type": "stream",
     "text": [
      "Epoch 90, Loss 0.0256\n",
      "Training Accuracy: 0.9711, Testing Accuracy: 0.9708\n",
      "\n"
     ]
    },
    {
     "name": "stdout",
     "output_type": "stream",
     "text": [
      "Epoch 100, Loss 0.0247\n",
      "Training Accuracy: 0.9724, Testing Accuracy: 0.9708\n",
      "\n"
     ]
    },
    {
     "name": "stdout",
     "output_type": "stream",
     "text": [
      "Epoch 110, Loss 0.0238\n",
      "Training Accuracy: 0.9734, Testing Accuracy: 0.9698\n",
      "\n"
     ]
    },
    {
     "name": "stdout",
     "output_type": "stream",
     "text": [
      "Epoch 120, Loss 0.0231\n",
      "Training Accuracy: 0.9740, Testing Accuracy: 0.9698\n",
      "\n"
     ]
    },
    {
     "name": "stdout",
     "output_type": "stream",
     "text": [
      "Epoch 130, Loss 0.0224\n",
      "Training Accuracy: 0.9751, Testing Accuracy: 0.9693\n",
      "\n"
     ]
    },
    {
     "name": "stdout",
     "output_type": "stream",
     "text": [
      "Epoch 140, Loss 0.0218\n",
      "Training Accuracy: 0.9759, Testing Accuracy: 0.9708\n",
      "\n"
     ]
    },
    {
     "name": "stdout",
     "output_type": "stream",
     "text": [
      "Epoch 150, Loss 0.0212\n",
      "Training Accuracy: 0.9765, Testing Accuracy: 0.9728\n",
      "\n"
     ]
    },
    {
     "name": "stdout",
     "output_type": "stream",
     "text": [
      "Epoch 160, Loss 0.0207\n",
      "Training Accuracy: 0.9771, Testing Accuracy: 0.9728\n",
      "\n"
     ]
    },
    {
     "name": "stdout",
     "output_type": "stream",
     "text": [
      "Epoch 170, Loss 0.0202\n",
      "Training Accuracy: 0.9775, Testing Accuracy: 0.9723\n",
      "\n"
     ]
    },
    {
     "name": "stdout",
     "output_type": "stream",
     "text": [
      "Epoch 180, Loss 0.0197\n",
      "Training Accuracy: 0.9779, Testing Accuracy: 0.9723\n",
      "\n"
     ]
    },
    {
     "name": "stdout",
     "output_type": "stream",
     "text": [
      "Epoch 190, Loss 0.0193\n",
      "Training Accuracy: 0.9786, Testing Accuracy: 0.9728\n",
      "\n"
     ]
    },
    {
     "name": "stdout",
     "output_type": "stream",
     "text": [
      "Epoch 200, Loss 0.0189\n",
      "Training Accuracy: 0.9791, Testing Accuracy: 0.9733\n",
      "\n"
     ]
    },
    {
     "name": "stdout",
     "output_type": "stream",
     "text": [
      "Epoch 210, Loss 0.0184\n",
      "Training Accuracy: 0.9792, Testing Accuracy: 0.9733\n",
      "\n"
     ]
    },
    {
     "name": "stdout",
     "output_type": "stream",
     "text": [
      "Epoch 220, Loss 0.0181\n",
      "Training Accuracy: 0.9798, Testing Accuracy: 0.9743\n",
      "\n"
     ]
    },
    {
     "name": "stdout",
     "output_type": "stream",
     "text": [
      "Epoch 230, Loss 0.0177\n",
      "Training Accuracy: 0.9802, Testing Accuracy: 0.9738\n",
      "\n"
     ]
    },
    {
     "name": "stdout",
     "output_type": "stream",
     "text": [
      "Epoch 240, Loss 0.0173\n",
      "Training Accuracy: 0.9809, Testing Accuracy: 0.9748\n",
      "\n"
     ]
    },
    {
     "data": {
      "text/plain": [
       "0.001084435940764663"
      ]
     },
     "execution_count": 22,
     "metadata": {},
     "output_type": "execute_result"
    }
   ],
   "source": [
    "nn_learner.train_loop(dl)"
   ]
  },
  {
   "cell_type": "code",
   "execution_count": 23,
   "id": "e0163366",
   "metadata": {
    "execution": {
     "iopub.execute_input": "2021-10-21T10:09:15.255981Z",
     "iopub.status.busy": "2021-10-21T10:09:15.255456Z",
     "iopub.status.idle": "2021-10-21T10:09:28.906569Z",
     "shell.execute_reply": "2021-10-21T10:09:28.907320Z"
    },
    "papermill": {
     "duration": 13.694192,
     "end_time": "2021-10-21T10:09:28.907477",
     "exception": false,
     "start_time": "2021-10-21T10:09:15.213285",
     "status": "completed"
    },
    "tags": []
   },
   "outputs": [
    {
     "name": "stdout",
     "output_type": "stream",
     "text": [
      "Epoch 0, Loss 0.2511\n",
      "Training Accuracy: 0.6662, Testing Accuracy: 0.6840\n",
      "\n"
     ]
    },
    {
     "name": "stdout",
     "output_type": "stream",
     "text": [
      "Epoch 10, Loss 0.1007\n",
      "Training Accuracy: 0.9181, Testing Accuracy: 0.9315\n",
      "\n"
     ]
    },
    {
     "name": "stdout",
     "output_type": "stream",
     "text": [
      "Epoch 20, Loss 0.0777\n",
      "Training Accuracy: 0.9316, Testing Accuracy: 0.9441\n",
      "\n"
     ]
    },
    {
     "name": "stdout",
     "output_type": "stream",
     "text": [
      "Epoch 30, Loss 0.0672\n",
      "Training Accuracy: 0.9382, Testing Accuracy: 0.9476\n",
      "\n"
     ]
    },
    {
     "name": "stdout",
     "output_type": "stream",
     "text": [
      "Epoch 40, Loss 0.0609\n",
      "Training Accuracy: 0.9421, Testing Accuracy: 0.9511\n",
      "\n"
     ]
    },
    {
     "name": "stdout",
     "output_type": "stream",
     "text": [
      "Epoch 50, Loss 0.0566\n",
      "Training Accuracy: 0.9458, Testing Accuracy: 0.9551\n",
      "\n"
     ]
    },
    {
     "name": "stdout",
     "output_type": "stream",
     "text": [
      "Epoch 60, Loss 0.0534\n",
      "Training Accuracy: 0.9488, Testing Accuracy: 0.9567\n",
      "\n"
     ]
    },
    {
     "name": "stdout",
     "output_type": "stream",
     "text": [
      "Epoch 70, Loss 0.0509\n",
      "Training Accuracy: 0.9508, Testing Accuracy: 0.9572\n",
      "\n"
     ]
    },
    {
     "name": "stdout",
     "output_type": "stream",
     "text": [
      "Epoch 80, Loss 0.0489\n",
      "Training Accuracy: 0.9523, Testing Accuracy: 0.9587\n",
      "\n"
     ]
    },
    {
     "name": "stdout",
     "output_type": "stream",
     "text": [
      "Epoch 90, Loss 0.0472\n",
      "Training Accuracy: 0.9537, Testing Accuracy: 0.9592\n",
      "\n"
     ]
    },
    {
     "name": "stdout",
     "output_type": "stream",
     "text": [
      "Epoch 100, Loss 0.0458\n",
      "Training Accuracy: 0.9548, Testing Accuracy: 0.9612\n",
      "\n"
     ]
    },
    {
     "name": "stdout",
     "output_type": "stream",
     "text": [
      "Epoch 110, Loss 0.0446\n",
      "Training Accuracy: 0.9554, Testing Accuracy: 0.9622\n",
      "\n"
     ]
    },
    {
     "name": "stdout",
     "output_type": "stream",
     "text": [
      "Epoch 120, Loss 0.0436\n",
      "Training Accuracy: 0.9563, Testing Accuracy: 0.9637\n",
      "\n"
     ]
    },
    {
     "name": "stdout",
     "output_type": "stream",
     "text": [
      "Epoch 130, Loss 0.0427\n",
      "Training Accuracy: 0.9570, Testing Accuracy: 0.9647\n",
      "\n"
     ]
    },
    {
     "name": "stdout",
     "output_type": "stream",
     "text": [
      "Epoch 140, Loss 0.0419\n",
      "Training Accuracy: 0.9574, Testing Accuracy: 0.9647\n",
      "\n"
     ]
    },
    {
     "name": "stdout",
     "output_type": "stream",
     "text": [
      "Epoch 150, Loss 0.0411\n",
      "Training Accuracy: 0.9579, Testing Accuracy: 0.9657\n",
      "\n"
     ]
    },
    {
     "name": "stdout",
     "output_type": "stream",
     "text": [
      "Epoch 160, Loss 0.0405\n",
      "Training Accuracy: 0.9584, Testing Accuracy: 0.9667\n",
      "\n"
     ]
    },
    {
     "name": "stdout",
     "output_type": "stream",
     "text": [
      "Epoch 170, Loss 0.0399\n",
      "Training Accuracy: 0.9594, Testing Accuracy: 0.9667\n",
      "\n"
     ]
    },
    {
     "name": "stdout",
     "output_type": "stream",
     "text": [
      "Epoch 180, Loss 0.0393\n",
      "Training Accuracy: 0.9599, Testing Accuracy: 0.9667\n",
      "\n"
     ]
    },
    {
     "name": "stdout",
     "output_type": "stream",
     "text": [
      "Epoch 190, Loss 0.0388\n",
      "Training Accuracy: 0.9601, Testing Accuracy: 0.9677\n",
      "\n"
     ]
    },
    {
     "name": "stdout",
     "output_type": "stream",
     "text": [
      "Epoch 200, Loss 0.0383\n",
      "Training Accuracy: 0.9604, Testing Accuracy: 0.9677\n",
      "\n"
     ]
    },
    {
     "name": "stdout",
     "output_type": "stream",
     "text": [
      "Epoch 210, Loss 0.0379\n",
      "Training Accuracy: 0.9608, Testing Accuracy: 0.9682\n",
      "\n"
     ]
    },
    {
     "name": "stdout",
     "output_type": "stream",
     "text": [
      "Epoch 220, Loss 0.0375\n",
      "Training Accuracy: 0.9609, Testing Accuracy: 0.9682\n",
      "\n"
     ]
    },
    {
     "name": "stdout",
     "output_type": "stream",
     "text": [
      "Epoch 230, Loss 0.0371\n",
      "Training Accuracy: 0.9612, Testing Accuracy: 0.9682\n",
      "\n"
     ]
    },
    {
     "name": "stdout",
     "output_type": "stream",
     "text": [
      "Epoch 240, Loss 0.0367\n",
      "Training Accuracy: 0.9614, Testing Accuracy: 0.9682\n",
      "\n"
     ]
    },
    {
     "data": {
      "text/plain": [
       "0.03771128913294042"
      ]
     },
     "execution_count": 23,
     "metadata": {},
     "output_type": "execute_result"
    }
   ],
   "source": [
    "lr_learner.train_loop(dl)"
   ]
  },
  {
   "cell_type": "code",
   "execution_count": 24,
   "id": "ca410940",
   "metadata": {
    "execution": {
     "iopub.execute_input": "2021-10-21T10:09:29.003688Z",
     "iopub.status.busy": "2021-10-21T10:09:29.003151Z",
     "iopub.status.idle": "2021-10-21T10:09:29.225881Z",
     "shell.execute_reply": "2021-10-21T10:09:29.225425Z"
    },
    "papermill": {
     "duration": 0.276368,
     "end_time": "2021-10-21T10:09:29.226011",
     "exception": false,
     "start_time": "2021-10-21T10:09:28.949643",
     "status": "completed"
    },
    "tags": []
   },
   "outputs": [
    {
     "data": {
      "text/plain": [
       "<matplotlib.legend.Legend at 0x7fb5d04fdeb8>"
      ]
     },
     "execution_count": 24,
     "metadata": {},
     "output_type": "execute_result"
    },
    {
     "data": {
      "image/png": "[encoded data removed]",
      "text/plain": [
       "<Figure size 1080x720 with 1 Axes>"
      ]
     },
     "metadata": {
      "needs_background": "light"
     },
     "output_type": "display_data"
    }
   ],
   "source": [
    "#comparing the results of NN and LR\n",
    "plt.figure(figsize=(15,10))\n",
    "\n",
    "# Neural Network plots\n",
    "plt.plot(acc_nn.accuracies, 'r-', label = \"Training Accuracies - NN\")\n",
    "plt.plot(acc_nn.test_accuracies, 'g-', label = \"Testing Accuracies - NN\")\n",
    "\n",
    "# Logistic Regression plots\n",
    "plt.plot(acc_lr.accuracies, 'k-', label = \"Training Accuracies - LR\")\n",
    "plt.plot(acc_lr.test_accuracies, 'b-', label = \"Testing Accuracies - LR\")\n",
    "plt.legend()"
   ]
  },
  {
   "cell_type": "markdown",
   "id": "80dfb35c",
   "metadata": {
    "papermill": {
     "duration": 0.04286,
     "end_time": "2021-10-21T10:09:29.313340",
     "exception": false,
     "start_time": "2021-10-21T10:09:29.270480",
     "status": "completed"
    },
    "tags": []
   },
   "source": [
    "#### Plotting the outputs of this layer of the NN.\n"
   ]
  },
  {
   "cell_type": "code",
   "execution_count": 25,
   "id": "45eb2ff5",
   "metadata": {
    "execution": {
     "iopub.execute_input": "2021-10-21T10:09:29.403519Z",
     "iopub.status.busy": "2021-10-21T10:09:29.402991Z",
     "iopub.status.idle": "2021-10-21T10:09:29.423021Z",
     "shell.execute_reply": "2021-10-21T10:09:29.423445Z"
    },
    "papermill": {
     "duration": 0.067361,
     "end_time": "2021-10-21T10:09:29.423587",
     "exception": false,
     "start_time": "2021-10-21T10:09:29.356226",
     "status": "completed"
    },
    "tags": []
   },
   "outputs": [],
   "source": [
    "new_model = Model(layers[:-2])\n",
    "testing_plot = new_model(testing_data_x)"
   ]
  },
  {
   "cell_type": "code",
   "execution_count": 26,
   "id": "4c0a5485",
   "metadata": {
    "execution": {
     "iopub.execute_input": "2021-10-21T10:09:29.523483Z",
     "iopub.status.busy": "2021-10-21T10:09:29.522967Z",
     "iopub.status.idle": "2021-10-21T10:09:29.715992Z",
     "shell.execute_reply": "2021-10-21T10:09:29.716412Z"
    },
    "papermill": {
     "duration": 0.241504,
     "end_time": "2021-10-21T10:09:29.716554",
     "exception": false,
     "start_time": "2021-10-21T10:09:29.475050",
     "status": "completed"
    },
    "tags": []
   },
   "outputs": [
    {
     "data": {
      "text/plain": [
       "Text(0.5, 1.0, 'Outputs')"
      ]
     },
     "execution_count": 26,
     "metadata": {},
     "output_type": "execute_result"
    },
    {
     "data": {
      "image/png": "[encoded data removed]",
      "text/plain": [
       "<Figure size 576x504 with 1 Axes>"
      ]
     },
     "metadata": {
      "needs_background": "light"
     },
     "output_type": "display_data"
    }
   ],
   "source": [
    "# Plotting the scatter plot of points and color coding by class\n",
    "plt.figure(figsize=(8,7))\n",
    "plt.scatter(testing_plot[:,0], testing_plot[:,1], alpha = 0.1, c = y_test.ravel());\n",
    "plt.title('Outputs')"
   ]
  },
  {
   "cell_type": "markdown",
   "id": "a74fcf8f",
   "metadata": {
    "papermill": {
     "duration": 0.044992,
     "end_time": "2021-10-21T10:09:29.806799",
     "exception": false,
     "start_time": "2021-10-21T10:09:29.761807",
     "status": "completed"
    },
    "tags": []
   },
   "source": [
    "Probability contours"
   ]
  },
  {
   "cell_type": "code",
   "execution_count": 27,
   "id": "d0afc8e3",
   "metadata": {
    "execution": {
     "iopub.execute_input": "2021-10-21T10:09:29.907402Z",
     "iopub.status.busy": "2021-10-21T10:09:29.906883Z",
     "iopub.status.idle": "2021-10-21T10:09:29.912078Z",
     "shell.execute_reply": "2021-10-21T10:09:29.911666Z"
    },
    "papermill": {
     "duration": 0.059886,
     "end_time": "2021-10-21T10:09:29.912192",
     "exception": false,
     "start_time": "2021-10-21T10:09:29.852306",
     "status": "completed"
    },
    "tags": []
   },
   "outputs": [],
   "source": [
    "model_prob = Model(layers[-2:]) "
   ]
  },
  {
   "cell_type": "code",
   "execution_count": 28,
   "id": "9b96e238",
   "metadata": {
    "execution": {
     "iopub.execute_input": "2021-10-21T10:09:30.012781Z",
     "iopub.status.busy": "2021-10-21T10:09:30.012270Z",
     "iopub.status.idle": "2021-10-21T10:09:30.022726Z",
     "shell.execute_reply": "2021-10-21T10:09:30.022306Z"
    },
    "papermill": {
     "duration": 0.065633,
     "end_time": "2021-10-21T10:09:30.022838",
     "exception": false,
     "start_time": "2021-10-21T10:09:29.957205",
     "status": "completed"
    },
    "tags": []
   },
   "outputs": [],
   "source": [
    "#creating the x and y ranges according to the above generated plot.\n",
    "x_range = np.linspace(-4, 1, 100) \n",
    "y_range = np.linspace(-6, 6, 100) \n",
    "x_grid, y_grid = np.meshgrid(x_range, y_range) # x_grid and y_grig are of size 100 X 100\n",
    "\n",
    "# converting x_grid and y_grid to continuous arrays\n",
    "x_gridflat = np.ravel(x_grid)\n",
    "y_gridflat = np.ravel(y_grid)\n",
    "\n",
    "# The last layer of the current model takes two columns as input. Hence transpose of np.vstack() is required.\n",
    "X = np.vstack((x_gridflat, y_gridflat)).T\n",
    "\n",
    "prob_contour = model_prob(X).reshape(100,100) "
   ]
  },
  {
   "cell_type": "code",
   "execution_count": 29,
   "id": "da72499a",
   "metadata": {
    "execution": {
     "iopub.execute_input": "2021-10-21T10:09:30.123065Z",
     "iopub.status.busy": "2021-10-21T10:09:30.122523Z",
     "iopub.status.idle": "2021-10-21T10:09:30.361712Z",
     "shell.execute_reply": "2021-10-21T10:09:30.361284Z"
    },
    "papermill": {
     "duration": 0.289402,
     "end_time": "2021-10-21T10:09:30.361839",
     "exception": false,
     "start_time": "2021-10-21T10:09:30.072437",
     "status": "completed"
    },
    "tags": []
   },
   "outputs": [
    {
     "data": {
      "image/png": "[encoded data removed]",
      "text/plain": [
       "<Figure size 720x648 with 1 Axes>"
      ]
     },
     "metadata": {
      "needs_background": "light"
     },
     "output_type": "display_data"
    }
   ],
   "source": [
    "plt.figure(figsize=(10,9))\n",
    "plt.scatter(testing_plot[:,0], testing_plot[:,1], alpha = 0.1, c = y_test.ravel())\n",
    "contours = plt.contour(x_grid,y_grid,prob_contour)\n",
    "plt.title('Probability Contours')\n",
    "plt.clabel(contours, inline = True );"
   ]
  },
  {
   "cell_type": "code",
   "execution_count": null,
   "id": "e81b4ac7",
   "metadata": {
    "papermill": {
     "duration": 0.047424,
     "end_time": "2021-10-21T10:09:30.486007",
     "exception": false,
     "start_time": "2021-10-21T10:09:30.438583",
     "status": "completed"
    },
    "tags": []
   },
   "outputs": [],
   "source": []
  }
 ],
 "metadata": {
  "kernelspec": {
   "display_name": "Python 3",
   "language": "python",
   "name": "python3"
  },
  "language_info": {
   "codemirror_mode": {
    "name": "ipython",
    "version": 3
   },
   "file_extension": ".py",
   "mimetype": "text/x-python",
   "name": "python",
   "nbconvert_exporter": "python",
   "pygments_lexer": "ipython3",
   "version": "3.6.15"
  },
  "papermill": {
   "default_parameters": {},
   "duration": 98.332545,
   "end_time": "2021-10-21T10:09:30.841027",
   "environment_variables": {},
   "exception": null,
   "input_path": "2020-08-11-part2.ipynb",
   "output_path": "2020-08-11-part2.ipynb",
   "parameters": {},
   "start_time": "2021-10-21T10:07:52.508482",
   "version": "2.3.3"
  }
 },
 "nbformat": 4,
 "nbformat_minor": 5
}