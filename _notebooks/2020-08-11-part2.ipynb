{
 "cells": [
  {
   "cell_type": "markdown",
   "id": "98380cd3",
   "metadata": {
    "papermill": {
     "duration": 0.029153,
     "end_time": "2022-03-11T00:33:37.807028",
     "exception": false,
     "start_time": "2022-03-11T00:33:37.777875",
     "status": "completed"
    },
    "tags": []
   },
   "source": [
    "# Distinguish Your Own Digits (DYOD)"
   ]
  },
  {
   "cell_type": "markdown",
   "id": "ef31240d",
   "metadata": {
    "papermill": {
     "duration": 0.025927,
     "end_time": "2022-03-11T00:33:37.857828",
     "exception": false,
     "start_time": "2022-03-11T00:33:37.831901",
     "status": "completed"
    },
    "tags": []
   },
   "source": [
    "You are going to write a classifier that distinguishes between the number 3 and number 8."
   ]
  },
  {
   "cell_type": "code",
   "execution_count": 1,
   "id": "b15c8646",
   "metadata": {
    "execution": {
     "iopub.execute_input": "2022-03-11T00:33:37.917964Z",
     "iopub.status.busy": "2022-03-11T00:33:37.917393Z",
     "iopub.status.idle": "2022-03-11T00:33:37.927712Z",
     "shell.execute_reply": "2022-03-11T00:33:37.928157Z"
    },
    "papermill": {
     "duration": 0.046342,
     "end_time": "2022-03-11T00:33:37.928334",
     "exception": false,
     "start_time": "2022-03-11T00:33:37.881992",
     "status": "completed"
    },
    "tags": []
   },
   "outputs": [],
   "source": [
    "%load_ext autoreload\n",
    "%autoreload 2"
   ]
  },
  {
   "cell_type": "code",
   "execution_count": 2,
   "id": "22ef38dc",
   "metadata": {
    "execution": {
     "iopub.execute_input": "2022-03-11T00:33:37.982960Z",
     "iopub.status.busy": "2022-03-11T00:33:37.982402Z",
     "iopub.status.idle": "2022-03-11T00:33:38.614208Z",
     "shell.execute_reply": "2022-03-11T00:33:38.613719Z"
    },
    "papermill": {
     "duration": 0.661484,
     "end_time": "2022-03-11T00:33:38.614343",
     "exception": false,
     "start_time": "2022-03-11T00:33:37.952859",
     "status": "completed"
    },
    "tags": []
   },
   "outputs": [],
   "source": [
    "%matplotlib inline\n",
    "import numpy as np\n",
    "import matplotlib.pyplot as plt\n",
    "import pandas as pd"
   ]
  },
  {
   "cell_type": "markdown",
   "id": "ba036198",
   "metadata": {
    "papermill": {
     "duration": 0.024302,
     "end_time": "2022-03-11T00:33:38.662867",
     "exception": false,
     "start_time": "2022-03-11T00:33:38.638565",
     "status": "completed"
    },
    "tags": []
   },
   "source": [
    "From the command line run `pip install mnist`. This is a library that will help you bring down the mnist dataset. If you run this from a notebook, you need to put  `!pip install mnist` in a cell by itself."
   ]
  },
  {
   "cell_type": "code",
   "execution_count": 3,
   "id": "bb6ad8a1",
   "metadata": {
    "execution": {
     "iopub.execute_input": "2022-03-11T00:33:38.736600Z",
     "iopub.status.busy": "2022-03-11T00:33:38.731846Z",
     "iopub.status.idle": "2022-03-11T00:33:40.510006Z",
     "shell.execute_reply": "2022-03-11T00:33:40.509439Z"
    },
    "papermill": {
     "duration": 1.822788,
     "end_time": "2022-03-11T00:33:40.510144",
     "exception": false,
     "start_time": "2022-03-11T00:33:38.687356",
     "status": "completed"
    },
    "tags": []
   },
   "outputs": [
    {
     "name": "stdout",
     "output_type": "stream",
     "text": [
      "Collecting mnist\r\n"
     ]
    },
    {
     "name": "stdout",
     "output_type": "stream",
     "text": [
      "  Downloading mnist-0.2.2-py2.py3-none-any.whl (3.5 kB)\r\n",
      "Requirement already satisfied: numpy in /opt/hostedtoolcache/Python/3.6.15/x64/lib/python3.6/site-packages (from mnist) (1.19.5)\r\n"
     ]
    },
    {
     "name": "stdout",
     "output_type": "stream",
     "text": [
      "Installing collected packages: mnist\r\n"
     ]
    },
    {
     "name": "stdout",
     "output_type": "stream",
     "text": [
      "Successfully installed mnist-0.2.2\r\n"
     ]
    }
   ],
   "source": [
    "!pip install mnist"
   ]
  },
  {
   "cell_type": "markdown",
   "id": "69df9c9a",
   "metadata": {
    "papermill": {
     "duration": 0.026021,
     "end_time": "2022-03-11T00:33:40.562116",
     "exception": false,
     "start_time": "2022-03-11T00:33:40.536095",
     "status": "completed"
    },
    "tags": []
   },
   "source": [
    "## Preparing the Data"
   ]
  },
  {
   "cell_type": "code",
   "execution_count": 4,
   "id": "7f69d806",
   "metadata": {
    "execution": {
     "iopub.execute_input": "2022-03-11T00:33:40.632723Z",
     "iopub.status.busy": "2022-03-11T00:33:40.630907Z",
     "iopub.status.idle": "2022-03-11T00:33:40.637319Z",
     "shell.execute_reply": "2022-03-11T00:33:40.637763Z"
    },
    "papermill": {
     "duration": 0.050271,
     "end_time": "2022-03-11T00:33:40.637914",
     "exception": false,
     "start_time": "2022-03-11T00:33:40.587643",
     "status": "completed"
    },
    "tags": []
   },
   "outputs": [],
   "source": [
    "import mnist"
   ]
  },
  {
   "cell_type": "code",
   "execution_count": 5,
   "id": "a411e44f",
   "metadata": {
    "execution": {
     "iopub.execute_input": "2022-03-11T00:33:40.693794Z",
     "iopub.status.busy": "2022-03-11T00:33:40.692743Z",
     "iopub.status.idle": "2022-03-11T00:33:41.231423Z",
     "shell.execute_reply": "2022-03-11T00:33:41.230940Z"
    },
    "papermill": {
     "duration": 0.568018,
     "end_time": "2022-03-11T00:33:41.231560",
     "exception": false,
     "start_time": "2022-03-11T00:33:40.663542",
     "status": "completed"
    },
    "tags": []
   },
   "outputs": [],
   "source": [
    "train_images = mnist.train_images()\n",
    "train_labels = mnist.train_labels()"
   ]
  },
  {
   "cell_type": "code",
   "execution_count": 6,
   "id": "dceab3a5",
   "metadata": {
    "execution": {
     "iopub.execute_input": "2022-03-11T00:33:41.297255Z",
     "iopub.status.busy": "2022-03-11T00:33:41.296691Z",
     "iopub.status.idle": "2022-03-11T00:33:41.306530Z",
     "shell.execute_reply": "2022-03-11T00:33:41.306105Z"
    },
    "papermill": {
     "duration": 0.049307,
     "end_time": "2022-03-11T00:33:41.306657",
     "exception": false,
     "start_time": "2022-03-11T00:33:41.257350",
     "status": "completed"
    },
    "tags": []
   },
   "outputs": [
    {
     "data": {
      "text/plain": [
       "((60000, 28, 28), (60000,))"
      ]
     },
     "execution_count": 6,
     "metadata": {},
     "output_type": "execute_result"
    }
   ],
   "source": [
    "train_images.shape, train_labels.shape"
   ]
  },
  {
   "cell_type": "code",
   "execution_count": 7,
   "id": "f50dc2bb",
   "metadata": {
    "execution": {
     "iopub.execute_input": "2022-03-11T00:33:41.363158Z",
     "iopub.status.busy": "2022-03-11T00:33:41.362622Z",
     "iopub.status.idle": "2022-03-11T00:33:41.515224Z",
     "shell.execute_reply": "2022-03-11T00:33:41.514619Z"
    },
    "papermill": {
     "duration": 0.182984,
     "end_time": "2022-03-11T00:33:41.515367",
     "exception": false,
     "start_time": "2022-03-11T00:33:41.332383",
     "status": "completed"
    },
    "tags": []
   },
   "outputs": [],
   "source": [
    "test_images = mnist.test_images()\n",
    "test_labels = mnist.test_labels()"
   ]
  },
  {
   "cell_type": "code",
   "execution_count": 8,
   "id": "fc38cf1b",
   "metadata": {
    "execution": {
     "iopub.execute_input": "2022-03-11T00:33:41.572163Z",
     "iopub.status.busy": "2022-03-11T00:33:41.571592Z",
     "iopub.status.idle": "2022-03-11T00:33:41.584468Z",
     "shell.execute_reply": "2022-03-11T00:33:41.584917Z"
    },
    "papermill": {
     "duration": 0.042951,
     "end_time": "2022-03-11T00:33:41.585067",
     "exception": false,
     "start_time": "2022-03-11T00:33:41.542116",
     "status": "completed"
    },
    "tags": []
   },
   "outputs": [
    {
     "data": {
      "text/plain": [
       "((10000, 28, 28), (10000,))"
      ]
     },
     "execution_count": 8,
     "metadata": {},
     "output_type": "execute_result"
    }
   ],
   "source": [
    "test_images.shape, test_labels.shape"
   ]
  },
  {
   "cell_type": "code",
   "execution_count": 9,
   "id": "f9ed8fe0",
   "metadata": {
    "execution": {
     "iopub.execute_input": "2022-03-11T00:33:41.653538Z",
     "iopub.status.busy": "2022-03-11T00:33:41.647917Z",
     "iopub.status.idle": "2022-03-11T00:33:41.786446Z",
     "shell.execute_reply": "2022-03-11T00:33:41.786873Z"
    },
    "papermill": {
     "duration": 0.175683,
     "end_time": "2022-03-11T00:33:41.787029",
     "exception": false,
     "start_time": "2022-03-11T00:33:41.611346",
     "status": "completed"
    },
    "tags": []
   },
   "outputs": [
    {
     "name": "stdout",
     "output_type": "stream",
     "text": [
      "2\n"
     ]
    },
    {
     "data": {
      "text/plain": [
       "<matplotlib.image.AxesImage at 0x7fbc0d6d0668>"
      ]
     },
     "execution_count": 9,
     "metadata": {},
     "output_type": "execute_result"
    },
    {
     "data": {
      "image/png": "[encoded data removed]",
      "text/plain": [
       "<Figure size 432x288 with 1 Axes>"
      ]
     },
     "metadata": {
      "needs_background": "light"
     },
     "output_type": "display_data"
    }
   ],
   "source": [
    "image_index = 7776 # You may select anything up to 60,000\n",
    "print(train_labels[image_index]) \n",
    "plt.imshow(train_images[image_index], cmap='Greys')"
   ]
  },
  {
   "cell_type": "markdown",
   "id": "a8d2388d",
   "metadata": {
    "papermill": {
     "duration": 0.026922,
     "end_time": "2022-03-11T00:33:41.841183",
     "exception": false,
     "start_time": "2022-03-11T00:33:41.814261",
     "status": "completed"
    },
    "tags": []
   },
   "source": [
    "## Filter data to get 3 and 8 out"
   ]
  },
  {
   "cell_type": "code",
   "execution_count": 10,
   "id": "776f7fc7",
   "metadata": {
    "execution": {
     "iopub.execute_input": "2022-03-11T00:33:41.913668Z",
     "iopub.status.busy": "2022-03-11T00:33:41.909691Z",
     "iopub.status.idle": "2022-03-11T00:33:41.924242Z",
     "shell.execute_reply": "2022-03-11T00:33:41.923776Z"
    },
    "papermill": {
     "duration": 0.056328,
     "end_time": "2022-03-11T00:33:41.924371",
     "exception": false,
     "start_time": "2022-03-11T00:33:41.868043",
     "status": "completed"
    },
    "tags": []
   },
   "outputs": [],
   "source": [
    "train_filter = np.where((train_labels == 3 ) | (train_labels == 8))\n",
    "test_filter = np.where((test_labels == 3) | (test_labels == 8))\n",
    "X_train, y_train = train_images[train_filter], train_labels[train_filter]\n",
    "X_test, y_test = test_images[test_filter], test_labels[test_filter]"
   ]
  },
  {
   "cell_type": "markdown",
   "id": "948f0b7e",
   "metadata": {
    "papermill": {
     "duration": 0.026842,
     "end_time": "2022-03-11T00:33:41.978461",
     "exception": false,
     "start_time": "2022-03-11T00:33:41.951619",
     "status": "completed"
    },
    "tags": []
   },
   "source": [
    "We normalize the pizel values in the 0 to 1 range"
   ]
  },
  {
   "cell_type": "code",
   "execution_count": 11,
   "id": "ee4c2166",
   "metadata": {
    "execution": {
     "iopub.execute_input": "2022-03-11T00:33:42.052642Z",
     "iopub.status.busy": "2022-03-11T00:33:42.049342Z",
     "iopub.status.idle": "2022-03-11T00:33:42.090238Z",
     "shell.execute_reply": "2022-03-11T00:33:42.089665Z"
    },
    "papermill": {
     "duration": 0.084927,
     "end_time": "2022-03-11T00:33:42.090383",
     "exception": false,
     "start_time": "2022-03-11T00:33:42.005456",
     "status": "completed"
    },
    "tags": []
   },
   "outputs": [],
   "source": [
    "X_train = X_train/255.\n",
    "X_test = X_test/255."
   ]
  },
  {
   "cell_type": "markdown",
   "id": "ddcf4fab",
   "metadata": {
    "papermill": {
     "duration": 0.027647,
     "end_time": "2022-03-11T00:33:42.146885",
     "exception": false,
     "start_time": "2022-03-11T00:33:42.119238",
     "status": "completed"
    },
    "tags": []
   },
   "source": [
    "And setup the labels as 1 (when the digit is 3) and 0 (when the digit is 8)"
   ]
  },
  {
   "cell_type": "code",
   "execution_count": 12,
   "id": "7dc908f2",
   "metadata": {
    "execution": {
     "iopub.execute_input": "2022-03-11T00:33:42.217338Z",
     "iopub.status.busy": "2022-03-11T00:33:42.216761Z",
     "iopub.status.idle": "2022-03-11T00:33:42.223631Z",
     "shell.execute_reply": "2022-03-11T00:33:42.223170Z"
    },
    "papermill": {
     "duration": 0.049697,
     "end_time": "2022-03-11T00:33:42.223774",
     "exception": false,
     "start_time": "2022-03-11T00:33:42.174077",
     "status": "completed"
    },
    "tags": []
   },
   "outputs": [],
   "source": [
    "y_train = 1*(y_train==3)\n",
    "y_test = 1*(y_test==3)"
   ]
  },
  {
   "cell_type": "code",
   "execution_count": 13,
   "id": "01e4e969",
   "metadata": {
    "execution": {
     "iopub.execute_input": "2022-03-11T00:33:42.284103Z",
     "iopub.status.busy": "2022-03-11T00:33:42.283520Z",
     "iopub.status.idle": "2022-03-11T00:33:42.296122Z",
     "shell.execute_reply": "2022-03-11T00:33:42.295671Z"
    },
    "papermill": {
     "duration": 0.045243,
     "end_time": "2022-03-11T00:33:42.296251",
     "exception": false,
     "start_time": "2022-03-11T00:33:42.251008",
     "status": "completed"
    },
    "tags": []
   },
   "outputs": [
    {
     "data": {
      "text/plain": [
       "((11982, 28, 28), (1984, 28, 28))"
      ]
     },
     "execution_count": 13,
     "metadata": {},
     "output_type": "execute_result"
    }
   ],
   "source": [
    "X_train.shape, X_test.shape"
   ]
  },
  {
   "cell_type": "markdown",
   "id": "5ccf3f85",
   "metadata": {
    "papermill": {
     "duration": 0.027184,
     "end_time": "2022-03-11T00:33:42.350617",
     "exception": false,
     "start_time": "2022-03-11T00:33:42.323433",
     "status": "completed"
    },
    "tags": []
   },
   "source": [
    "We reshape the data to flatten the image pixels into a set of features or co-variates:"
   ]
  },
  {
   "cell_type": "code",
   "execution_count": 14,
   "id": "5286a4a3",
   "metadata": {
    "execution": {
     "iopub.execute_input": "2022-03-11T00:33:42.421138Z",
     "iopub.status.busy": "2022-03-11T00:33:42.417857Z",
     "iopub.status.idle": "2022-03-11T00:33:42.427517Z",
     "shell.execute_reply": "2022-03-11T00:33:42.427053Z"
    },
    "papermill": {
     "duration": 0.049623,
     "end_time": "2022-03-11T00:33:42.427644",
     "exception": false,
     "start_time": "2022-03-11T00:33:42.378021",
     "status": "completed"
    },
    "tags": []
   },
   "outputs": [
    {
     "data": {
      "text/plain": [
       "((11982, 784), (1984, 784))"
      ]
     },
     "execution_count": 14,
     "metadata": {},
     "output_type": "execute_result"
    }
   ],
   "source": [
    "X_train = X_train.reshape(X_train.shape[0], -1)\n",
    "X_test = X_test.reshape(X_test.shape[0], -1)\n",
    "X_train.shape, X_test.shape"
   ]
  },
  {
   "cell_type": "code",
   "execution_count": 15,
   "id": "73c5f88a",
   "metadata": {
    "execution": {
     "iopub.execute_input": "2022-03-11T00:33:42.488269Z",
     "iopub.status.busy": "2022-03-11T00:33:42.487635Z",
     "iopub.status.idle": "2022-03-11T00:33:42.506658Z",
     "shell.execute_reply": "2022-03-11T00:33:42.506205Z"
    },
    "papermill": {
     "duration": 0.051495,
     "end_time": "2022-03-11T00:33:42.506787",
     "exception": false,
     "start_time": "2022-03-11T00:33:42.455292",
     "status": "completed"
    },
    "tags": []
   },
   "outputs": [],
   "source": [
    "#Impoting functions from 'Kudzu'\n",
    "from kudzu.model import Model\n",
    "from kudzu.train import Learner\n",
    "from kudzu.optim import GD\n",
    "from kudzu.data import Data, Sampler,Dataloader\n",
    "\n",
    "from kudzu.callbacks import AccCallback\n",
    "from kudzu.callbacks import ClfCallback\n",
    "\n",
    "from kudzu.loss import MSE\n",
    "\n",
    "from kudzu.layer import Sigmoid,Relu\n",
    "from kudzu.layer import Affine"
   ]
  },
  {
   "cell_type": "markdown",
   "id": "bc01172a",
   "metadata": {
    "papermill": {
     "duration": 0.027399,
     "end_time": "2022-03-11T00:33:42.561921",
     "exception": false,
     "start_time": "2022-03-11T00:33:42.534522",
     "status": "completed"
    },
    "tags": []
   },
   "source": [
    "### Let us create a `Config` class, to store important parameters. \n",
    "This class essentially plays the role of a dictionary."
   ]
  },
  {
   "cell_type": "code",
   "execution_count": 16,
   "id": "978281aa",
   "metadata": {
    "execution": {
     "iopub.execute_input": "2022-03-11T00:33:42.626052Z",
     "iopub.status.busy": "2022-03-11T00:33:42.625490Z",
     "iopub.status.idle": "2022-03-11T00:33:42.635992Z",
     "shell.execute_reply": "2022-03-11T00:33:42.636398Z"
    },
    "papermill": {
     "duration": 0.047052,
     "end_time": "2022-03-11T00:33:42.636552",
     "exception": false,
     "start_time": "2022-03-11T00:33:42.589500",
     "status": "completed"
    },
    "tags": []
   },
   "outputs": [],
   "source": [
    "class Config:\n",
    "    pass\n",
    "config = Config()\n",
    "config.lr = 0.001\n",
    "config.num_epochs = 250\n",
    "config.bs = 50"
   ]
  },
  {
   "cell_type": "markdown",
   "id": "1385fa59",
   "metadata": {
    "papermill": {
     "duration": 0.027588,
     "end_time": "2022-03-11T00:33:42.691935",
     "exception": false,
     "start_time": "2022-03-11T00:33:42.664347",
     "status": "completed"
    },
    "tags": []
   },
   "source": [
    "### Running Models with the Training data\n",
    "Details about the network layers:\n",
    "- A first affine layer has 784 inputs and does 100 affine transforms. These are followed by a Relu\n",
    "- A second affine layer has 100 inputs from the 100 activations of the past layer, and does 100 affine transforms. These are followed by a Relu\n",
    "- A third affine layer has 100 activations and does 2 affine transformations to create an embedding for visualization. There is no non-linearity here.\n",
    "- A final \"logistic regression\" which has an affine transform from 2 inputs to 1 output, which is squeezed through a sigmoid.\n"
   ]
  },
  {
   "cell_type": "code",
   "execution_count": 17,
   "id": "2b9c66db",
   "metadata": {
    "execution": {
     "iopub.execute_input": "2022-03-11T00:33:42.761530Z",
     "iopub.status.busy": "2022-03-11T00:33:42.760943Z",
     "iopub.status.idle": "2022-03-11T00:33:42.767370Z",
     "shell.execute_reply": "2022-03-11T00:33:42.767797Z"
    },
    "papermill": {
     "duration": 0.0485,
     "end_time": "2022-03-11T00:33:42.767956",
     "exception": false,
     "start_time": "2022-03-11T00:33:42.719456",
     "status": "completed"
    },
    "tags": []
   },
   "outputs": [],
   "source": [
    "data = Data(X_train, y_train.reshape(-1,1))\n",
    "sampler = Sampler(data, config.bs, shuffle=True)\n",
    "\n",
    "dl = Dataloader(data, sampler)\n",
    "\n",
    "opt = GD(config.lr)\n",
    "loss = MSE()"
   ]
  },
  {
   "cell_type": "code",
   "execution_count": 18,
   "id": "b275e4c2",
   "metadata": {
    "execution": {
     "iopub.execute_input": "2022-03-11T00:33:42.832781Z",
     "iopub.status.busy": "2022-03-11T00:33:42.832209Z",
     "iopub.status.idle": "2022-03-11T00:33:42.841867Z",
     "shell.execute_reply": "2022-03-11T00:33:42.841422Z"
    },
    "papermill": {
     "duration": 0.04614,
     "end_time": "2022-03-11T00:33:42.841996",
     "exception": false,
     "start_time": "2022-03-11T00:33:42.795856",
     "status": "completed"
    },
    "tags": []
   },
   "outputs": [],
   "source": [
    "training_data_x = X_train\n",
    "testing_data_x = X_test\n",
    "training_data_y = y_train.reshape(-1,1)\n",
    "testing_data_y = y_test.reshape(-1,1)"
   ]
  },
  {
   "cell_type": "code",
   "execution_count": 19,
   "id": "76951160",
   "metadata": {
    "execution": {
     "iopub.execute_input": "2022-03-11T00:33:42.913556Z",
     "iopub.status.busy": "2022-03-11T00:33:42.912963Z",
     "iopub.status.idle": "2022-03-11T00:33:42.921359Z",
     "shell.execute_reply": "2022-03-11T00:33:42.920919Z"
    },
    "papermill": {
     "duration": 0.051919,
     "end_time": "2022-03-11T00:33:42.921490",
     "exception": false,
     "start_time": "2022-03-11T00:33:42.869571",
     "status": "completed"
    },
    "tags": []
   },
   "outputs": [
    {
     "name": "stdout",
     "output_type": "stream",
     "text": [
      "xavier\n",
      "xavier\n",
      "xavier\n",
      "xavier\n",
      "xavier\n"
     ]
    }
   ],
   "source": [
    "layers = [Affine(\"first\", 784, 100), Relu(\"first\"), Affine(\"second\", 100, 100), Relu(\"second\"), Affine(\"third\", 100, 2), Affine(\"last\", 2, 1), Sigmoid(\"last\")]\n",
    "model_nn = Model(layers)\n",
    "model_lr = Model([Affine(\"logits\", 784, 1), Sigmoid(\"sigmoid\")])"
   ]
  },
  {
   "cell_type": "code",
   "execution_count": 20,
   "id": "6eede77a",
   "metadata": {
    "execution": {
     "iopub.execute_input": "2022-03-11T00:33:42.982800Z",
     "iopub.status.busy": "2022-03-11T00:33:42.982244Z",
     "iopub.status.idle": "2022-03-11T00:33:42.994415Z",
     "shell.execute_reply": "2022-03-11T00:33:42.994842Z"
    },
    "papermill": {
     "duration": 0.045309,
     "end_time": "2022-03-11T00:33:42.994992",
     "exception": false,
     "start_time": "2022-03-11T00:33:42.949683",
     "status": "completed"
    },
    "tags": []
   },
   "outputs": [],
   "source": [
    "nn_learner = Learner(loss, model_nn, opt, config.num_epochs)\n",
    "acc_nn = ClfCallback(nn_learner, config.bs, training_data_x , testing_data_x, training_data_y, testing_data_y)\n",
    "nn_learner.set_callbacks([acc_nn])"
   ]
  },
  {
   "cell_type": "code",
   "execution_count": 21,
   "id": "877b6cc7",
   "metadata": {
    "execution": {
     "iopub.execute_input": "2022-03-11T00:33:43.067427Z",
     "iopub.status.busy": "2022-03-11T00:33:43.060628Z",
     "iopub.status.idle": "2022-03-11T00:33:43.069785Z",
     "shell.execute_reply": "2022-03-11T00:33:43.069355Z"
    },
    "papermill": {
     "duration": 0.046809,
     "end_time": "2022-03-11T00:33:43.069918",
     "exception": false,
     "start_time": "2022-03-11T00:33:43.023109",
     "status": "completed"
    },
    "tags": []
   },
   "outputs": [],
   "source": [
    "lr_learner = Learner(loss, model_lr, opt, config.num_epochs)\n",
    "acc_lr = ClfCallback(lr_learner, config.bs, training_data_x , testing_data_x, training_data_y, testing_data_y)\n",
    "lr_learner.set_callbacks([acc_lr])"
   ]
  },
  {
   "cell_type": "code",
   "execution_count": 22,
   "id": "d9b133c3",
   "metadata": {
    "execution": {
     "iopub.execute_input": "2022-03-11T00:33:43.131986Z",
     "iopub.status.busy": "2022-03-11T00:33:43.131052Z",
     "iopub.status.idle": "2022-03-11T00:35:00.565429Z",
     "shell.execute_reply": "2022-03-11T00:35:00.566177Z"
    },
    "papermill": {
     "duration": 77.468355,
     "end_time": "2022-03-11T00:35:00.566330",
     "exception": false,
     "start_time": "2022-03-11T00:33:43.097975",
     "status": "completed"
    },
    "tags": []
   },
   "outputs": [
    {
     "name": "stdout",
     "output_type": "stream",
     "text": [
      "Epoch 0, Loss 0.2479\n",
      "Training Accuracy: 0.6428, Testing Accuracy: 0.6305\n",
      "\n"
     ]
    },
    {
     "name": "stdout",
     "output_type": "stream",
     "text": [
      "Epoch 10, Loss 0.1006\n",
      "Training Accuracy: 0.9180, Testing Accuracy: 0.9244\n",
      "\n"
     ]
    },
    {
     "name": "stdout",
     "output_type": "stream",
     "text": [
      "Epoch 20, Loss 0.0597\n",
      "Training Accuracy: 0.9421, Testing Accuracy: 0.9446\n",
      "\n"
     ]
    },
    {
     "name": "stdout",
     "output_type": "stream",
     "text": [
      "Epoch 30, Loss 0.0458\n",
      "Training Accuracy: 0.9528, Testing Accuracy: 0.9561\n",
      "\n"
     ]
    },
    {
     "name": "stdout",
     "output_type": "stream",
     "text": [
      "Epoch 40, Loss 0.0392\n",
      "Training Accuracy: 0.9582, Testing Accuracy: 0.9622\n",
      "\n"
     ]
    },
    {
     "name": "stdout",
     "output_type": "stream",
     "text": [
      "Epoch 50, Loss 0.0353\n",
      "Training Accuracy: 0.9614, Testing Accuracy: 0.9637\n",
      "\n"
     ]
    },
    {
     "name": "stdout",
     "output_type": "stream",
     "text": [
      "Epoch 60, Loss 0.0327\n",
      "Training Accuracy: 0.9635, Testing Accuracy: 0.9642\n",
      "\n"
     ]
    },
    {
     "name": "stdout",
     "output_type": "stream",
     "text": [
      "Epoch 70, Loss 0.0308\n",
      "Training Accuracy: 0.9654, Testing Accuracy: 0.9682\n",
      "\n"
     ]
    },
    {
     "name": "stdout",
     "output_type": "stream",
     "text": [
      "Epoch 80, Loss 0.0293\n",
      "Training Accuracy: 0.9668, Testing Accuracy: 0.9688\n",
      "\n"
     ]
    },
    {
     "name": "stdout",
     "output_type": "stream",
     "text": [
      "Epoch 90, Loss 0.0281\n",
      "Training Accuracy: 0.9680, Testing Accuracy: 0.9708\n",
      "\n"
     ]
    },
    {
     "name": "stdout",
     "output_type": "stream",
     "text": [
      "Epoch 100, Loss 0.0271\n",
      "Training Accuracy: 0.9687, Testing Accuracy: 0.9718\n",
      "\n"
     ]
    },
    {
     "name": "stdout",
     "output_type": "stream",
     "text": [
      "Epoch 110, Loss 0.0262\n",
      "Training Accuracy: 0.9693, Testing Accuracy: 0.9728\n",
      "\n"
     ]
    },
    {
     "name": "stdout",
     "output_type": "stream",
     "text": [
      "Epoch 120, Loss 0.0255\n",
      "Training Accuracy: 0.9704, Testing Accuracy: 0.9713\n",
      "\n"
     ]
    },
    {
     "name": "stdout",
     "output_type": "stream",
     "text": [
      "Epoch 130, Loss 0.0248\n",
      "Training Accuracy: 0.9718, Testing Accuracy: 0.9718\n",
      "\n"
     ]
    },
    {
     "name": "stdout",
     "output_type": "stream",
     "text": [
      "Epoch 140, Loss 0.0242\n",
      "Training Accuracy: 0.9726, Testing Accuracy: 0.9723\n",
      "\n"
     ]
    },
    {
     "name": "stdout",
     "output_type": "stream",
     "text": [
      "Epoch 150, Loss 0.0236\n",
      "Training Accuracy: 0.9730, Testing Accuracy: 0.9728\n",
      "\n"
     ]
    },
    {
     "name": "stdout",
     "output_type": "stream",
     "text": [
      "Epoch 160, Loss 0.0231\n",
      "Training Accuracy: 0.9743, Testing Accuracy: 0.9738\n",
      "\n"
     ]
    },
    {
     "name": "stdout",
     "output_type": "stream",
     "text": [
      "Epoch 170, Loss 0.0226\n",
      "Training Accuracy: 0.9750, Testing Accuracy: 0.9738\n",
      "\n"
     ]
    },
    {
     "name": "stdout",
     "output_type": "stream",
     "text": [
      "Epoch 180, Loss 0.0221\n",
      "Training Accuracy: 0.9752, Testing Accuracy: 0.9743\n",
      "\n"
     ]
    },
    {
     "name": "stdout",
     "output_type": "stream",
     "text": [
      "Epoch 190, Loss 0.0217\n",
      "Training Accuracy: 0.9757, Testing Accuracy: 0.9743\n",
      "\n"
     ]
    },
    {
     "name": "stdout",
     "output_type": "stream",
     "text": [
      "Epoch 200, Loss 0.0213\n",
      "Training Accuracy: 0.9763, Testing Accuracy: 0.9748\n",
      "\n"
     ]
    },
    {
     "name": "stdout",
     "output_type": "stream",
     "text": [
      "Epoch 210, Loss 0.0209\n",
      "Training Accuracy: 0.9769, Testing Accuracy: 0.9743\n",
      "\n"
     ]
    },
    {
     "name": "stdout",
     "output_type": "stream",
     "text": [
      "Epoch 220, Loss 0.0205\n",
      "Training Accuracy: 0.9774, Testing Accuracy: 0.9753\n",
      "\n"
     ]
    },
    {
     "name": "stdout",
     "output_type": "stream",
     "text": [
      "Epoch 230, Loss 0.0201\n",
      "Training Accuracy: 0.9779, Testing Accuracy: 0.9753\n",
      "\n"
     ]
    },
    {
     "name": "stdout",
     "output_type": "stream",
     "text": [
      "Epoch 240, Loss 0.0198\n",
      "Training Accuracy: 0.9782, Testing Accuracy: 0.9753\n",
      "\n"
     ]
    },
    {
     "data": {
      "text/plain": [
       "0.0018787516694362572"
      ]
     },
     "execution_count": 22,
     "metadata": {},
     "output_type": "execute_result"
    }
   ],
   "source": [
    "nn_learner.train_loop(dl)"
   ]
  },
  {
   "cell_type": "code",
   "execution_count": 23,
   "id": "e0163366",
   "metadata": {
    "execution": {
     "iopub.execute_input": "2022-03-11T00:35:00.648467Z",
     "iopub.status.busy": "2022-03-11T00:35:00.647921Z",
     "iopub.status.idle": "2022-03-11T00:35:14.607071Z",
     "shell.execute_reply": "2022-03-11T00:35:14.607842Z"
    },
    "papermill": {
     "duration": 14.006877,
     "end_time": "2022-03-11T00:35:14.608000",
     "exception": false,
     "start_time": "2022-03-11T00:35:00.601123",
     "status": "completed"
    },
    "tags": []
   },
   "outputs": [
    {
     "name": "stdout",
     "output_type": "stream",
     "text": [
      "Epoch 0, Loss 0.2178\n",
      "Training Accuracy: 0.7199, Testing Accuracy: 0.7424\n",
      "\n"
     ]
    },
    {
     "name": "stdout",
     "output_type": "stream",
     "text": [
      "Epoch 10, Loss 0.1037\n",
      "Training Accuracy: 0.9024, Testing Accuracy: 0.9113\n",
      "\n"
     ]
    },
    {
     "name": "stdout",
     "output_type": "stream",
     "text": [
      "Epoch 20, Loss 0.0796\n",
      "Training Accuracy: 0.9256, Testing Accuracy: 0.9350\n",
      "\n"
     ]
    },
    {
     "name": "stdout",
     "output_type": "stream",
     "text": [
      "Epoch 30, Loss 0.0682\n",
      "Training Accuracy: 0.9355, Testing Accuracy: 0.9451\n",
      "\n"
     ]
    },
    {
     "name": "stdout",
     "output_type": "stream",
     "text": [
      "Epoch 40, Loss 0.0614\n",
      "Training Accuracy: 0.9414, Testing Accuracy: 0.9491\n",
      "\n"
     ]
    },
    {
     "name": "stdout",
     "output_type": "stream",
     "text": [
      "Epoch 50, Loss 0.0567\n",
      "Training Accuracy: 0.9458, Testing Accuracy: 0.9521\n",
      "\n"
     ]
    },
    {
     "name": "stdout",
     "output_type": "stream",
     "text": [
      "Epoch 60, Loss 0.0533\n",
      "Training Accuracy: 0.9482, Testing Accuracy: 0.9546\n",
      "\n"
     ]
    },
    {
     "name": "stdout",
     "output_type": "stream",
     "text": [
      "Epoch 70, Loss 0.0507\n",
      "Training Accuracy: 0.9502, Testing Accuracy: 0.9561\n",
      "\n"
     ]
    },
    {
     "name": "stdout",
     "output_type": "stream",
     "text": [
      "Epoch 80, Loss 0.0487\n",
      "Training Accuracy: 0.9518, Testing Accuracy: 0.9587\n",
      "\n"
     ]
    },
    {
     "name": "stdout",
     "output_type": "stream",
     "text": [
      "Epoch 90, Loss 0.047\n",
      "Training Accuracy: 0.9536, Testing Accuracy: 0.9592\n",
      "\n"
     ]
    },
    {
     "name": "stdout",
     "output_type": "stream",
     "text": [
      "Epoch 100, Loss 0.0455\n",
      "Training Accuracy: 0.9553, Testing Accuracy: 0.9592\n",
      "\n"
     ]
    },
    {
     "name": "stdout",
     "output_type": "stream",
     "text": [
      "Epoch 110, Loss 0.0443\n",
      "Training Accuracy: 0.9562, Testing Accuracy: 0.9607\n",
      "\n"
     ]
    },
    {
     "name": "stdout",
     "output_type": "stream",
     "text": [
      "Epoch 120, Loss 0.0433\n",
      "Training Accuracy: 0.9570, Testing Accuracy: 0.9612\n",
      "\n"
     ]
    },
    {
     "name": "stdout",
     "output_type": "stream",
     "text": [
      "Epoch 130, Loss 0.0423\n",
      "Training Accuracy: 0.9572, Testing Accuracy: 0.9612\n",
      "\n"
     ]
    },
    {
     "name": "stdout",
     "output_type": "stream",
     "text": [
      "Epoch 140, Loss 0.0415\n",
      "Training Accuracy: 0.9584, Testing Accuracy: 0.9627\n",
      "\n"
     ]
    },
    {
     "name": "stdout",
     "output_type": "stream",
     "text": [
      "Epoch 150, Loss 0.0408\n",
      "Training Accuracy: 0.9588, Testing Accuracy: 0.9627\n",
      "\n"
     ]
    },
    {
     "name": "stdout",
     "output_type": "stream",
     "text": [
      "Epoch 160, Loss 0.0401\n",
      "Training Accuracy: 0.9594, Testing Accuracy: 0.9637\n",
      "\n"
     ]
    },
    {
     "name": "stdout",
     "output_type": "stream",
     "text": [
      "Epoch 170, Loss 0.0395\n",
      "Training Accuracy: 0.9602, Testing Accuracy: 0.9642\n",
      "\n"
     ]
    },
    {
     "name": "stdout",
     "output_type": "stream",
     "text": [
      "Epoch 180, Loss 0.0389\n",
      "Training Accuracy: 0.9604, Testing Accuracy: 0.9647\n",
      "\n"
     ]
    },
    {
     "name": "stdout",
     "output_type": "stream",
     "text": [
      "Epoch 190, Loss 0.0384\n",
      "Training Accuracy: 0.9612, Testing Accuracy: 0.9647\n",
      "\n"
     ]
    },
    {
     "name": "stdout",
     "output_type": "stream",
     "text": [
      "Epoch 200, Loss 0.038\n",
      "Training Accuracy: 0.9617, Testing Accuracy: 0.9652\n",
      "\n"
     ]
    },
    {
     "name": "stdout",
     "output_type": "stream",
     "text": [
      "Epoch 210, Loss 0.0375\n",
      "Training Accuracy: 0.9619, Testing Accuracy: 0.9652\n",
      "\n"
     ]
    },
    {
     "name": "stdout",
     "output_type": "stream",
     "text": [
      "Epoch 220, Loss 0.0371\n",
      "Training Accuracy: 0.9620, Testing Accuracy: 0.9657\n",
      "\n"
     ]
    },
    {
     "name": "stdout",
     "output_type": "stream",
     "text": [
      "Epoch 230, Loss 0.0368\n",
      "Training Accuracy: 0.9623, Testing Accuracy: 0.9657\n",
      "\n"
     ]
    },
    {
     "name": "stdout",
     "output_type": "stream",
     "text": [
      "Epoch 240, Loss 0.0364\n",
      "Training Accuracy: 0.9629, Testing Accuracy: 0.9667\n",
      "\n"
     ]
    },
    {
     "data": {
      "text/plain": [
       "0.02319930636457295"
      ]
     },
     "execution_count": 23,
     "metadata": {},
     "output_type": "execute_result"
    }
   ],
   "source": [
    "lr_learner.train_loop(dl)"
   ]
  },
  {
   "cell_type": "code",
   "execution_count": 24,
   "id": "ca410940",
   "metadata": {
    "execution": {
     "iopub.execute_input": "2022-03-11T00:35:14.705200Z",
     "iopub.status.busy": "2022-03-11T00:35:14.704650Z",
     "iopub.status.idle": "2022-03-11T00:35:14.930105Z",
     "shell.execute_reply": "2022-03-11T00:35:14.930570Z"
    },
    "papermill": {
     "duration": 0.281357,
     "end_time": "2022-03-11T00:35:14.930735",
     "exception": false,
     "start_time": "2022-03-11T00:35:14.649378",
     "status": "completed"
    },
    "tags": []
   },
   "outputs": [
    {
     "data": {
      "text/plain": [
       "<matplotlib.legend.Legend at 0x7fbc0d2abd68>"
      ]
     },
     "execution_count": 24,
     "metadata": {},
     "output_type": "execute_result"
    },
    {
     "data": {
      "image/png": "[encoded data removed]",
      "text/plain": [
       "<Figure size 1080x720 with 1 Axes>"
      ]
     },
     "metadata": {
      "needs_background": "light"
     },
     "output_type": "display_data"
    }
   ],
   "source": [
    "#comparing the results of NN and LR\n",
    "plt.figure(figsize=(15,10))\n",
    "\n",
    "# Neural Network plots\n",
    "plt.plot(acc_nn.accuracies, 'r-', label = \"Training Accuracies - NN\")\n",
    "plt.plot(acc_nn.test_accuracies, 'g-', label = \"Testing Accuracies - NN\")\n",
    "\n",
    "# Logistic Regression plots\n",
    "plt.plot(acc_lr.accuracies, 'k-', label = \"Training Accuracies - LR\")\n",
    "plt.plot(acc_lr.test_accuracies, 'b-', label = \"Testing Accuracies - LR\")\n",
    "plt.legend()"
   ]
  },
  {
   "cell_type": "markdown",
   "id": "80dfb35c",
   "metadata": {
    "papermill": {
     "duration": 0.042357,
     "end_time": "2022-03-11T00:35:15.016166",
     "exception": false,
     "start_time": "2022-03-11T00:35:14.973809",
     "status": "completed"
    },
    "tags": []
   },
   "source": [
    "#### Plotting the outputs of this layer of the NN.\n"
   ]
  },
  {
   "cell_type": "code",
   "execution_count": 25,
   "id": "45eb2ff5",
   "metadata": {
    "execution": {
     "iopub.execute_input": "2022-03-11T00:35:15.109384Z",
     "iopub.status.busy": "2022-03-11T00:35:15.108824Z",
     "iopub.status.idle": "2022-03-11T00:35:15.127927Z",
     "shell.execute_reply": "2022-03-11T00:35:15.128348Z"
    },
    "papermill": {
     "duration": 0.06997,
     "end_time": "2022-03-11T00:35:15.128499",
     "exception": false,
     "start_time": "2022-03-11T00:35:15.058529",
     "status": "completed"
    },
    "tags": []
   },
   "outputs": [],
   "source": [
    "new_model = Model(layers[:-2])\n",
    "testing_plot = new_model(testing_data_x)"
   ]
  },
  {
   "cell_type": "code",
   "execution_count": 26,
   "id": "4c0a5485",
   "metadata": {
    "execution": {
     "iopub.execute_input": "2022-03-11T00:35:15.225033Z",
     "iopub.status.busy": "2022-03-11T00:35:15.224492Z",
     "iopub.status.idle": "2022-03-11T00:35:15.454754Z",
     "shell.execute_reply": "2022-03-11T00:35:15.454312Z"
    },
    "papermill": {
     "duration": 0.282879,
     "end_time": "2022-03-11T00:35:15.454880",
     "exception": false,
     "start_time": "2022-03-11T00:35:15.172001",
     "status": "completed"
    },
    "tags": []
   },
   "outputs": [
    {
     "data": {
      "text/plain": [
       "Text(0.5, 1.0, 'Outputs')"
      ]
     },
     "execution_count": 26,
     "metadata": {},
     "output_type": "execute_result"
    },
    {
     "data": {
      "image/png": "[encoded data removed]",
      "text/plain": [
       "<Figure size 576x504 with 1 Axes>"
      ]
     },
     "metadata": {
      "needs_background": "light"
     },
     "output_type": "display_data"
    }
   ],
   "source": [
    "# Plotting the scatter plot of points and color coding by class\n",
    "plt.figure(figsize=(8,7))\n",
    "plt.scatter(testing_plot[:,0], testing_plot[:,1], alpha = 0.1, c = y_test.ravel());\n",
    "plt.title('Outputs')"
   ]
  },
  {
   "cell_type": "markdown",
   "id": "a74fcf8f",
   "metadata": {
    "papermill": {
     "duration": 0.046182,
     "end_time": "2022-03-11T00:35:15.547052",
     "exception": false,
     "start_time": "2022-03-11T00:35:15.500870",
     "status": "completed"
    },
    "tags": []
   },
   "source": [
    "Probability contours"
   ]
  },
  {
   "cell_type": "code",
   "execution_count": 27,
   "id": "d0afc8e3",
   "metadata": {
    "execution": {
     "iopub.execute_input": "2022-03-11T00:35:15.646055Z",
     "iopub.status.busy": "2022-03-11T00:35:15.645517Z",
     "iopub.status.idle": "2022-03-11T00:35:15.656155Z",
     "shell.execute_reply": "2022-03-11T00:35:15.656601Z"
    },
    "papermill": {
     "duration": 0.063414,
     "end_time": "2022-03-11T00:35:15.656739",
     "exception": false,
     "start_time": "2022-03-11T00:35:15.593325",
     "status": "completed"
    },
    "tags": []
   },
   "outputs": [],
   "source": [
    "model_prob = Model(layers[-2:]) "
   ]
  },
  {
   "cell_type": "code",
   "execution_count": 28,
   "id": "9b96e238",
   "metadata": {
    "execution": {
     "iopub.execute_input": "2022-03-11T00:35:15.796558Z",
     "iopub.status.busy": "2022-03-11T00:35:15.796004Z",
     "iopub.status.idle": "2022-03-11T00:35:15.805374Z",
     "shell.execute_reply": "2022-03-11T00:35:15.804935Z"
    },
    "papermill": {
     "duration": 0.068376,
     "end_time": "2022-03-11T00:35:15.805495",
     "exception": false,
     "start_time": "2022-03-11T00:35:15.737119",
     "status": "completed"
    },
    "tags": []
   },
   "outputs": [],
   "source": [
    "#creating the x and y ranges according to the above generated plot.\n",
    "x_range = np.linspace(-4, 1, 100) \n",
    "y_range = np.linspace(-6, 6, 100) \n",
    "x_grid, y_grid = np.meshgrid(x_range, y_range) # x_grid and y_grig are of size 100 X 100\n",
    "\n",
    "# converting x_grid and y_grid to continuous arrays\n",
    "x_gridflat = np.ravel(x_grid)\n",
    "y_gridflat = np.ravel(y_grid)\n",
    "\n",
    "# The last layer of the current model takes two columns as input. Hence transpose of np.vstack() is required.\n",
    "X = np.vstack((x_gridflat, y_gridflat)).T\n",
    "\n",
    "prob_contour = model_prob(X).reshape(100,100) "
   ]
  },
  {
   "cell_type": "code",
   "execution_count": 29,
   "id": "da72499a",
   "metadata": {
    "execution": {
     "iopub.execute_input": "2022-03-11T00:35:15.906605Z",
     "iopub.status.busy": "2022-03-11T00:35:15.906061Z",
     "iopub.status.idle": "2022-03-11T00:35:16.150805Z",
     "shell.execute_reply": "2022-03-11T00:35:16.150297Z"
    },
    "papermill": {
     "duration": 0.298869,
     "end_time": "2022-03-11T00:35:16.150948",
     "exception": false,
     "start_time": "2022-03-11T00:35:15.852079",
     "status": "completed"
    },
    "tags": []
   },
   "outputs": [
    {
     "data": {
      "image/png": "[encoded data removed]",
      "text/plain": [
       "<Figure size 720x648 with 1 Axes>"
      ]
     },
     "metadata": {
      "needs_background": "light"
     },
     "output_type": "display_data"
    }
   ],
   "source": [
    "plt.figure(figsize=(10,9))\n",
    "plt.scatter(testing_plot[:,0], testing_plot[:,1], alpha = 0.1, c = y_test.ravel())\n",
    "contours = plt.contour(x_grid,y_grid,prob_contour)\n",
    "plt.title('Probability Contours')\n",
    "plt.clabel(contours, inline = True );"
   ]
  },
  {
   "cell_type": "code",
   "execution_count": null,
   "id": "e81b4ac7",
   "metadata": {
    "papermill": {
     "duration": 0.047776,
     "end_time": "2022-03-11T00:35:16.248356",
     "exception": false,
     "start_time": "2022-03-11T00:35:16.200580",
     "status": "completed"
    },
    "tags": []
   },
   "outputs": [],
   "source": []
  }
 ],
 "metadata": {
  "kernelspec": {
   "display_name": "Python 3",
   "language": "python",
   "name": "python3"
  },
  "language_info": {
   "codemirror_mode": {
    "name": "ipython",
    "version": 3
   },
   "file_extension": ".py",
   "mimetype": "text/x-python",
   "name": "python",
   "nbconvert_exporter": "python",
   "pygments_lexer": "ipython3",
   "version": "3.6.15"
  },
  "papermill": {
   "default_parameters": {},
   "duration": 99.883352,
   "end_time": "2022-03-11T00:35:16.715422",
   "environment_variables": {},
   "exception": null,
   "input_path": "2020-08-11-part2.ipynb",
   "output_path": "2020-08-11-part2.ipynb",
   "parameters": {},
   "start_time": "2022-03-11T00:33:36.832070",
   "version": "2.3.3"
  }
 },
 "nbformat": 4,
 "nbformat_minor": 5
}