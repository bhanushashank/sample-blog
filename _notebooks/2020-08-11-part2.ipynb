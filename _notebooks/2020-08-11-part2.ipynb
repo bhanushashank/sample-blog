{
 "cells": [
  {
   "cell_type": "markdown",
   "id": "98380cd3",
   "metadata": {
    "papermill": {
     "duration": 0.034157,
     "end_time": "2022-02-12T20:08:33.817728",
     "exception": false,
     "start_time": "2022-02-12T20:08:33.783571",
     "status": "completed"
    },
    "tags": []
   },
   "source": [
    "# Distinguish Your Own Digits (DYOD)"
   ]
  },
  {
   "cell_type": "markdown",
   "id": "ef31240d",
   "metadata": {
    "papermill": {
     "duration": 0.027639,
     "end_time": "2022-02-12T20:08:33.873012",
     "exception": false,
     "start_time": "2022-02-12T20:08:33.845373",
     "status": "completed"
    },
    "tags": []
   },
   "source": [
    "You are going to write a classifier that distinguishes between the number 3 and number 8."
   ]
  },
  {
   "cell_type": "code",
   "execution_count": 1,
   "id": "b15c8646",
   "metadata": {
    "execution": {
     "iopub.execute_input": "2022-02-12T20:08:33.939553Z",
     "iopub.status.busy": "2022-02-12T20:08:33.937118Z",
     "iopub.status.idle": "2022-02-12T20:08:33.950258Z",
     "shell.execute_reply": "2022-02-12T20:08:33.949750Z"
    },
    "papermill": {
     "duration": 0.051114,
     "end_time": "2022-02-12T20:08:33.950410",
     "exception": false,
     "start_time": "2022-02-12T20:08:33.899296",
     "status": "completed"
    },
    "tags": []
   },
   "outputs": [],
   "source": [
    "%load_ext autoreload\n",
    "%autoreload 2"
   ]
  },
  {
   "cell_type": "code",
   "execution_count": 2,
   "id": "22ef38dc",
   "metadata": {
    "execution": {
     "iopub.execute_input": "2022-02-12T20:08:34.007760Z",
     "iopub.status.busy": "2022-02-12T20:08:34.007197Z",
     "iopub.status.idle": "2022-02-12T20:08:34.652587Z",
     "shell.execute_reply": "2022-02-12T20:08:34.651990Z"
    },
    "papermill": {
     "duration": 0.675832,
     "end_time": "2022-02-12T20:08:34.652739",
     "exception": false,
     "start_time": "2022-02-12T20:08:33.976907",
     "status": "completed"
    },
    "tags": []
   },
   "outputs": [],
   "source": [
    "%matplotlib inline\n",
    "import numpy as np\n",
    "import matplotlib.pyplot as plt\n",
    "import pandas as pd"
   ]
  },
  {
   "cell_type": "markdown",
   "id": "ba036198",
   "metadata": {
    "papermill": {
     "duration": 0.026763,
     "end_time": "2022-02-12T20:08:34.706573",
     "exception": false,
     "start_time": "2022-02-12T20:08:34.679810",
     "status": "completed"
    },
    "tags": []
   },
   "source": [
    "From the command line run `pip install mnist`. This is a library that will help you bring down the mnist dataset. If you run this from a notebook, you need to put  `!pip install mnist` in a cell by itself."
   ]
  },
  {
   "cell_type": "code",
   "execution_count": 3,
   "id": "bb6ad8a1",
   "metadata": {
    "execution": {
     "iopub.execute_input": "2022-02-12T20:08:34.763765Z",
     "iopub.status.busy": "2022-02-12T20:08:34.763167Z",
     "iopub.status.idle": "2022-02-12T20:08:36.659811Z",
     "shell.execute_reply": "2022-02-12T20:08:36.659238Z"
    },
    "papermill": {
     "duration": 1.927553,
     "end_time": "2022-02-12T20:08:36.659949",
     "exception": false,
     "start_time": "2022-02-12T20:08:34.732396",
     "status": "completed"
    },
    "tags": []
   },
   "outputs": [
    {
     "name": "stdout",
     "output_type": "stream",
     "text": [
      "Collecting mnist\r\n"
     ]
    },
    {
     "name": "stdout",
     "output_type": "stream",
     "text": [
      "  Downloading mnist-0.2.2-py2.py3-none-any.whl (3.5 kB)\r\n",
      "Requirement already satisfied: numpy in /opt/hostedtoolcache/Python/3.6.15/x64/lib/python3.6/site-packages (from mnist) (1.19.5)\r\n"
     ]
    },
    {
     "name": "stdout",
     "output_type": "stream",
     "text": [
      "Installing collected packages: mnist\r\n"
     ]
    },
    {
     "name": "stdout",
     "output_type": "stream",
     "text": [
      "Successfully installed mnist-0.2.2\r\n"
     ]
    }
   ],
   "source": [
    "!pip install mnist"
   ]
  },
  {
   "cell_type": "markdown",
   "id": "69df9c9a",
   "metadata": {
    "papermill": {
     "duration": 0.027208,
     "end_time": "2022-02-12T20:08:36.714878",
     "exception": false,
     "start_time": "2022-02-12T20:08:36.687670",
     "status": "completed"
    },
    "tags": []
   },
   "source": [
    "## Preparing the Data"
   ]
  },
  {
   "cell_type": "code",
   "execution_count": 4,
   "id": "7f69d806",
   "metadata": {
    "execution": {
     "iopub.execute_input": "2022-02-12T20:08:36.775173Z",
     "iopub.status.busy": "2022-02-12T20:08:36.774131Z",
     "iopub.status.idle": "2022-02-12T20:08:36.791559Z",
     "shell.execute_reply": "2022-02-12T20:08:36.791079Z"
    },
    "papermill": {
     "duration": 0.049481,
     "end_time": "2022-02-12T20:08:36.791685",
     "exception": false,
     "start_time": "2022-02-12T20:08:36.742204",
     "status": "completed"
    },
    "tags": []
   },
   "outputs": [],
   "source": [
    "import mnist"
   ]
  },
  {
   "cell_type": "code",
   "execution_count": 5,
   "id": "a411e44f",
   "metadata": {
    "execution": {
     "iopub.execute_input": "2022-02-12T20:08:36.852425Z",
     "iopub.status.busy": "2022-02-12T20:08:36.851823Z",
     "iopub.status.idle": "2022-02-12T20:08:37.632853Z",
     "shell.execute_reply": "2022-02-12T20:08:37.633713Z"
    },
    "papermill": {
     "duration": 0.813924,
     "end_time": "2022-02-12T20:08:37.633974",
     "exception": false,
     "start_time": "2022-02-12T20:08:36.820050",
     "status": "completed"
    },
    "tags": []
   },
   "outputs": [],
   "source": [
    "train_images = mnist.train_images()\n",
    "train_labels = mnist.train_labels()"
   ]
  },
  {
   "cell_type": "code",
   "execution_count": 6,
   "id": "dceab3a5",
   "metadata": {
    "execution": {
     "iopub.execute_input": "2022-02-12T20:08:37.705420Z",
     "iopub.status.busy": "2022-02-12T20:08:37.699083Z",
     "iopub.status.idle": "2022-02-12T20:08:37.713417Z",
     "shell.execute_reply": "2022-02-12T20:08:37.713868Z"
    },
    "papermill": {
     "duration": 0.050553,
     "end_time": "2022-02-12T20:08:37.714004",
     "exception": false,
     "start_time": "2022-02-12T20:08:37.663451",
     "status": "completed"
    },
    "tags": []
   },
   "outputs": [
    {
     "data": {
      "text/plain": [
       "((60000, 28, 28), (60000,))"
      ]
     },
     "execution_count": 6,
     "metadata": {},
     "output_type": "execute_result"
    }
   ],
   "source": [
    "train_images.shape, train_labels.shape"
   ]
  },
  {
   "cell_type": "code",
   "execution_count": 7,
   "id": "f50dc2bb",
   "metadata": {
    "execution": {
     "iopub.execute_input": "2022-02-12T20:08:37.773171Z",
     "iopub.status.busy": "2022-02-12T20:08:37.772539Z",
     "iopub.status.idle": "2022-02-12T20:08:38.263829Z",
     "shell.execute_reply": "2022-02-12T20:08:38.262933Z"
    },
    "papermill": {
     "duration": 0.522899,
     "end_time": "2022-02-12T20:08:38.264049",
     "exception": false,
     "start_time": "2022-02-12T20:08:37.741150",
     "status": "completed"
    },
    "tags": []
   },
   "outputs": [],
   "source": [
    "test_images = mnist.test_images()\n",
    "test_labels = mnist.test_labels()"
   ]
  },
  {
   "cell_type": "code",
   "execution_count": 8,
   "id": "fc38cf1b",
   "metadata": {
    "execution": {
     "iopub.execute_input": "2022-02-12T20:08:38.325632Z",
     "iopub.status.busy": "2022-02-12T20:08:38.325085Z",
     "iopub.status.idle": "2022-02-12T20:08:38.339631Z",
     "shell.execute_reply": "2022-02-12T20:08:38.339190Z"
    },
    "papermill": {
     "duration": 0.047274,
     "end_time": "2022-02-12T20:08:38.339744",
     "exception": false,
     "start_time": "2022-02-12T20:08:38.292470",
     "status": "completed"
    },
    "tags": []
   },
   "outputs": [
    {
     "data": {
      "text/plain": [
       "((10000, 28, 28), (10000,))"
      ]
     },
     "execution_count": 8,
     "metadata": {},
     "output_type": "execute_result"
    }
   ],
   "source": [
    "test_images.shape, test_labels.shape"
   ]
  },
  {
   "cell_type": "code",
   "execution_count": 9,
   "id": "f9ed8fe0",
   "metadata": {
    "execution": {
     "iopub.execute_input": "2022-02-12T20:08:38.399382Z",
     "iopub.status.busy": "2022-02-12T20:08:38.398837Z",
     "iopub.status.idle": "2022-02-12T20:08:38.549927Z",
     "shell.execute_reply": "2022-02-12T20:08:38.550412Z"
    },
    "papermill": {
     "duration": 0.183267,
     "end_time": "2022-02-12T20:08:38.550555",
     "exception": false,
     "start_time": "2022-02-12T20:08:38.367288",
     "status": "completed"
    },
    "tags": []
   },
   "outputs": [
    {
     "name": "stdout",
     "output_type": "stream",
     "text": [
      "2\n"
     ]
    },
    {
     "data": {
      "text/plain": [
       "<matplotlib.image.AxesImage at 0x7fce952814a8>"
      ]
     },
     "execution_count": 9,
     "metadata": {},
     "output_type": "execute_result"
    },
    {
     "data": {
      "image/png": "[encoded data removed]",
      "text/plain": [
       "<Figure size 432x288 with 1 Axes>"
      ]
     },
     "metadata": {
      "needs_background": "light"
     },
     "output_type": "display_data"
    }
   ],
   "source": [
    "image_index = 7776 # You may select anything up to 60,000\n",
    "print(train_labels[image_index]) \n",
    "plt.imshow(train_images[image_index], cmap='Greys')"
   ]
  },
  {
   "cell_type": "markdown",
   "id": "a8d2388d",
   "metadata": {
    "papermill": {
     "duration": 0.029666,
     "end_time": "2022-02-12T20:08:38.609947",
     "exception": false,
     "start_time": "2022-02-12T20:08:38.580281",
     "status": "completed"
    },
    "tags": []
   },
   "source": [
    "## Filter data to get 3 and 8 out"
   ]
  },
  {
   "cell_type": "code",
   "execution_count": 10,
   "id": "776f7fc7",
   "metadata": {
    "execution": {
     "iopub.execute_input": "2022-02-12T20:08:38.673001Z",
     "iopub.status.busy": "2022-02-12T20:08:38.672358Z",
     "iopub.status.idle": "2022-02-12T20:08:38.696770Z",
     "shell.execute_reply": "2022-02-12T20:08:38.696143Z"
    },
    "papermill": {
     "duration": 0.057827,
     "end_time": "2022-02-12T20:08:38.696923",
     "exception": false,
     "start_time": "2022-02-12T20:08:38.639096",
     "status": "completed"
    },
    "tags": []
   },
   "outputs": [],
   "source": [
    "train_filter = np.where((train_labels == 3 ) | (train_labels == 8))\n",
    "test_filter = np.where((test_labels == 3) | (test_labels == 8))\n",
    "X_train, y_train = train_images[train_filter], train_labels[train_filter]\n",
    "X_test, y_test = test_images[test_filter], test_labels[test_filter]"
   ]
  },
  {
   "cell_type": "markdown",
   "id": "948f0b7e",
   "metadata": {
    "papermill": {
     "duration": 0.028584,
     "end_time": "2022-02-12T20:08:38.755430",
     "exception": false,
     "start_time": "2022-02-12T20:08:38.726846",
     "status": "completed"
    },
    "tags": []
   },
   "source": [
    "We normalize the pizel values in the 0 to 1 range"
   ]
  },
  {
   "cell_type": "code",
   "execution_count": 11,
   "id": "ee4c2166",
   "metadata": {
    "execution": {
     "iopub.execute_input": "2022-02-12T20:08:38.817609Z",
     "iopub.status.busy": "2022-02-12T20:08:38.817008Z",
     "iopub.status.idle": "2022-02-12T20:08:38.871263Z",
     "shell.execute_reply": "2022-02-12T20:08:38.870640Z"
    },
    "papermill": {
     "duration": 0.086601,
     "end_time": "2022-02-12T20:08:38.871390",
     "exception": false,
     "start_time": "2022-02-12T20:08:38.784789",
     "status": "completed"
    },
    "tags": []
   },
   "outputs": [],
   "source": [
    "X_train = X_train/255.\n",
    "X_test = X_test/255."
   ]
  },
  {
   "cell_type": "markdown",
   "id": "ddcf4fab",
   "metadata": {
    "papermill": {
     "duration": 0.028836,
     "end_time": "2022-02-12T20:08:38.929318",
     "exception": false,
     "start_time": "2022-02-12T20:08:38.900482",
     "status": "completed"
    },
    "tags": []
   },
   "source": [
    "And setup the labels as 1 (when the digit is 3) and 0 (when the digit is 8)"
   ]
  },
  {
   "cell_type": "code",
   "execution_count": 12,
   "id": "7dc908f2",
   "metadata": {
    "execution": {
     "iopub.execute_input": "2022-02-12T20:08:38.991017Z",
     "iopub.status.busy": "2022-02-12T20:08:38.990457Z",
     "iopub.status.idle": "2022-02-12T20:08:39.004343Z",
     "shell.execute_reply": "2022-02-12T20:08:39.003864Z"
    },
    "papermill": {
     "duration": 0.046508,
     "end_time": "2022-02-12T20:08:39.004453",
     "exception": false,
     "start_time": "2022-02-12T20:08:38.957945",
     "status": "completed"
    },
    "tags": []
   },
   "outputs": [],
   "source": [
    "y_train = 1*(y_train==3)\n",
    "y_test = 1*(y_test==3)"
   ]
  },
  {
   "cell_type": "code",
   "execution_count": 13,
   "id": "01e4e969",
   "metadata": {
    "execution": {
     "iopub.execute_input": "2022-02-12T20:08:39.065440Z",
     "iopub.status.busy": "2022-02-12T20:08:39.064842Z",
     "iopub.status.idle": "2022-02-12T20:08:39.082571Z",
     "shell.execute_reply": "2022-02-12T20:08:39.082065Z"
    },
    "papermill": {
     "duration": 0.049798,
     "end_time": "2022-02-12T20:08:39.082690",
     "exception": false,
     "start_time": "2022-02-12T20:08:39.032892",
     "status": "completed"
    },
    "tags": []
   },
   "outputs": [
    {
     "data": {
      "text/plain": [
       "((11982, 28, 28), (1984, 28, 28))"
      ]
     },
     "execution_count": 13,
     "metadata": {},
     "output_type": "execute_result"
    }
   ],
   "source": [
    "X_train.shape, X_test.shape"
   ]
  },
  {
   "cell_type": "markdown",
   "id": "5ccf3f85",
   "metadata": {
    "papermill": {
     "duration": 0.029028,
     "end_time": "2022-02-12T20:08:39.141197",
     "exception": false,
     "start_time": "2022-02-12T20:08:39.112169",
     "status": "completed"
    },
    "tags": []
   },
   "source": [
    "We reshape the data to flatten the image pixels into a set of features or co-variates:"
   ]
  },
  {
   "cell_type": "code",
   "execution_count": 14,
   "id": "5286a4a3",
   "metadata": {
    "execution": {
     "iopub.execute_input": "2022-02-12T20:08:39.204457Z",
     "iopub.status.busy": "2022-02-12T20:08:39.203873Z",
     "iopub.status.idle": "2022-02-12T20:08:39.219034Z",
     "shell.execute_reply": "2022-02-12T20:08:39.219503Z"
    },
    "papermill": {
     "duration": 0.04928,
     "end_time": "2022-02-12T20:08:39.219632",
     "exception": false,
     "start_time": "2022-02-12T20:08:39.170352",
     "status": "completed"
    },
    "tags": []
   },
   "outputs": [
    {
     "data": {
      "text/plain": [
       "((11982, 784), (1984, 784))"
      ]
     },
     "execution_count": 14,
     "metadata": {},
     "output_type": "execute_result"
    }
   ],
   "source": [
    "X_train = X_train.reshape(X_train.shape[0], -1)\n",
    "X_test = X_test.reshape(X_test.shape[0], -1)\n",
    "X_train.shape, X_test.shape"
   ]
  },
  {
   "cell_type": "code",
   "execution_count": 15,
   "id": "73c5f88a",
   "metadata": {
    "execution": {
     "iopub.execute_input": "2022-02-12T20:08:39.284749Z",
     "iopub.status.busy": "2022-02-12T20:08:39.284128Z",
     "iopub.status.idle": "2022-02-12T20:08:39.304900Z",
     "shell.execute_reply": "2022-02-12T20:08:39.305574Z"
    },
    "papermill": {
     "duration": 0.057079,
     "end_time": "2022-02-12T20:08:39.305754",
     "exception": false,
     "start_time": "2022-02-12T20:08:39.248675",
     "status": "completed"
    },
    "tags": []
   },
   "outputs": [],
   "source": [
    "#Impoting functions from 'Kudzu'\n",
    "from kudzu.model import Model\n",
    "from kudzu.train import Learner\n",
    "from kudzu.optim import GD\n",
    "from kudzu.data import Data, Sampler,Dataloader\n",
    "\n",
    "from kudzu.callbacks import AccCallback\n",
    "from kudzu.callbacks import ClfCallback\n",
    "\n",
    "from kudzu.loss import MSE\n",
    "\n",
    "from kudzu.layer import Sigmoid,Relu\n",
    "from kudzu.layer import Affine"
   ]
  },
  {
   "cell_type": "markdown",
   "id": "bc01172a",
   "metadata": {
    "papermill": {
     "duration": 0.029559,
     "end_time": "2022-02-12T20:08:39.365698",
     "exception": false,
     "start_time": "2022-02-12T20:08:39.336139",
     "status": "completed"
    },
    "tags": []
   },
   "source": [
    "### Let us create a `Config` class, to store important parameters. \n",
    "This class essentially plays the role of a dictionary."
   ]
  },
  {
   "cell_type": "code",
   "execution_count": 16,
   "id": "978281aa",
   "metadata": {
    "execution": {
     "iopub.execute_input": "2022-02-12T20:08:39.430280Z",
     "iopub.status.busy": "2022-02-12T20:08:39.428995Z",
     "iopub.status.idle": "2022-02-12T20:08:39.443136Z",
     "shell.execute_reply": "2022-02-12T20:08:39.442657Z"
    },
    "papermill": {
     "duration": 0.04791,
     "end_time": "2022-02-12T20:08:39.443253",
     "exception": false,
     "start_time": "2022-02-12T20:08:39.395343",
     "status": "completed"
    },
    "tags": []
   },
   "outputs": [],
   "source": [
    "class Config:\n",
    "    pass\n",
    "config = Config()\n",
    "config.lr = 0.001\n",
    "config.num_epochs = 250\n",
    "config.bs = 50"
   ]
  },
  {
   "cell_type": "markdown",
   "id": "1385fa59",
   "metadata": {
    "papermill": {
     "duration": 0.030275,
     "end_time": "2022-02-12T20:08:39.503254",
     "exception": false,
     "start_time": "2022-02-12T20:08:39.472979",
     "status": "completed"
    },
    "tags": []
   },
   "source": [
    "### Running Models with the Training data\n",
    "Details about the network layers:\n",
    "- A first affine layer has 784 inputs and does 100 affine transforms. These are followed by a Relu\n",
    "- A second affine layer has 100 inputs from the 100 activations of the past layer, and does 100 affine transforms. These are followed by a Relu\n",
    "- A third affine layer has 100 activations and does 2 affine transformations to create an embedding for visualization. There is no non-linearity here.\n",
    "- A final \"logistic regression\" which has an affine transform from 2 inputs to 1 output, which is squeezed through a sigmoid.\n"
   ]
  },
  {
   "cell_type": "code",
   "execution_count": 17,
   "id": "2b9c66db",
   "metadata": {
    "execution": {
     "iopub.execute_input": "2022-02-12T20:08:39.568534Z",
     "iopub.status.busy": "2022-02-12T20:08:39.567926Z",
     "iopub.status.idle": "2022-02-12T20:08:39.583564Z",
     "shell.execute_reply": "2022-02-12T20:08:39.584074Z"
    },
    "papermill": {
     "duration": 0.050785,
     "end_time": "2022-02-12T20:08:39.584215",
     "exception": false,
     "start_time": "2022-02-12T20:08:39.533430",
     "status": "completed"
    },
    "tags": []
   },
   "outputs": [],
   "source": [
    "data = Data(X_train, y_train.reshape(-1,1))\n",
    "sampler = Sampler(data, config.bs, shuffle=True)\n",
    "\n",
    "dl = Dataloader(data, sampler)\n",
    "\n",
    "opt = GD(config.lr)\n",
    "loss = MSE()"
   ]
  },
  {
   "cell_type": "code",
   "execution_count": 18,
   "id": "b275e4c2",
   "metadata": {
    "execution": {
     "iopub.execute_input": "2022-02-12T20:08:39.654826Z",
     "iopub.status.busy": "2022-02-12T20:08:39.654230Z",
     "iopub.status.idle": "2022-02-12T20:08:39.665134Z",
     "shell.execute_reply": "2022-02-12T20:08:39.664646Z"
    },
    "papermill": {
     "duration": 0.050899,
     "end_time": "2022-02-12T20:08:39.665257",
     "exception": false,
     "start_time": "2022-02-12T20:08:39.614358",
     "status": "completed"
    },
    "tags": []
   },
   "outputs": [],
   "source": [
    "training_data_x = X_train\n",
    "testing_data_x = X_test\n",
    "training_data_y = y_train.reshape(-1,1)\n",
    "testing_data_y = y_test.reshape(-1,1)"
   ]
  },
  {
   "cell_type": "code",
   "execution_count": 19,
   "id": "76951160",
   "metadata": {
    "execution": {
     "iopub.execute_input": "2022-02-12T20:08:39.729922Z",
     "iopub.status.busy": "2022-02-12T20:08:39.729361Z",
     "iopub.status.idle": "2022-02-12T20:08:39.747832Z",
     "shell.execute_reply": "2022-02-12T20:08:39.747083Z"
    },
    "papermill": {
     "duration": 0.052757,
     "end_time": "2022-02-12T20:08:39.747957",
     "exception": false,
     "start_time": "2022-02-12T20:08:39.695200",
     "status": "completed"
    },
    "tags": []
   },
   "outputs": [
    {
     "name": "stdout",
     "output_type": "stream",
     "text": [
      "xavier\n",
      "xavier\n",
      "xavier\n",
      "xavier\n",
      "xavier\n"
     ]
    }
   ],
   "source": [
    "layers = [Affine(\"first\", 784, 100), Relu(\"first\"), Affine(\"second\", 100, 100), Relu(\"second\"), Affine(\"third\", 100, 2), Affine(\"last\", 2, 1), Sigmoid(\"last\")]\n",
    "model_nn = Model(layers)\n",
    "model_lr = Model([Affine(\"logits\", 784, 1), Sigmoid(\"sigmoid\")])"
   ]
  },
  {
   "cell_type": "code",
   "execution_count": 20,
   "id": "6eede77a",
   "metadata": {
    "execution": {
     "iopub.execute_input": "2022-02-12T20:08:39.812578Z",
     "iopub.status.busy": "2022-02-12T20:08:39.811977Z",
     "iopub.status.idle": "2022-02-12T20:08:39.826450Z",
     "shell.execute_reply": "2022-02-12T20:08:39.825951Z"
    },
    "papermill": {
     "duration": 0.048802,
     "end_time": "2022-02-12T20:08:39.826565",
     "exception": false,
     "start_time": "2022-02-12T20:08:39.777763",
     "status": "completed"
    },
    "tags": []
   },
   "outputs": [],
   "source": [
    "nn_learner = Learner(loss, model_nn, opt, config.num_epochs)\n",
    "acc_nn = ClfCallback(nn_learner, config.bs, training_data_x , testing_data_x, training_data_y, testing_data_y)\n",
    "nn_learner.set_callbacks([acc_nn])"
   ]
  },
  {
   "cell_type": "code",
   "execution_count": 21,
   "id": "877b6cc7",
   "metadata": {
    "execution": {
     "iopub.execute_input": "2022-02-12T20:08:39.892423Z",
     "iopub.status.busy": "2022-02-12T20:08:39.891882Z",
     "iopub.status.idle": "2022-02-12T20:08:39.905681Z",
     "shell.execute_reply": "2022-02-12T20:08:39.905242Z"
    },
    "papermill": {
     "duration": 0.049563,
     "end_time": "2022-02-12T20:08:39.905790",
     "exception": false,
     "start_time": "2022-02-12T20:08:39.856227",
     "status": "completed"
    },
    "tags": []
   },
   "outputs": [],
   "source": [
    "lr_learner = Learner(loss, model_lr, opt, config.num_epochs)\n",
    "acc_lr = ClfCallback(lr_learner, config.bs, training_data_x , testing_data_x, training_data_y, testing_data_y)\n",
    "lr_learner.set_callbacks([acc_lr])"
   ]
  },
  {
   "cell_type": "code",
   "execution_count": 22,
   "id": "d9b133c3",
   "metadata": {
    "execution": {
     "iopub.execute_input": "2022-02-12T20:08:39.968888Z",
     "iopub.status.busy": "2022-02-12T20:08:39.968264Z",
     "iopub.status.idle": "2022-02-12T20:10:06.309793Z",
     "shell.execute_reply": "2022-02-12T20:10:06.310668Z"
    },
    "papermill": {
     "duration": 86.375811,
     "end_time": "2022-02-12T20:10:06.310842",
     "exception": false,
     "start_time": "2022-02-12T20:08:39.935031",
     "status": "completed"
    },
    "tags": []
   },
   "outputs": [
    {
     "name": "stdout",
     "output_type": "stream",
     "text": [
      "Epoch 0, Loss 0.2539\n",
      "Training Accuracy: 0.5499, Testing Accuracy: 0.5726\n",
      "\n"
     ]
    },
    {
     "name": "stdout",
     "output_type": "stream",
     "text": [
      "Epoch 10, Loss 0.1227\n",
      "Training Accuracy: 0.8917, Testing Accuracy: 0.9037\n",
      "\n"
     ]
    },
    {
     "name": "stdout",
     "output_type": "stream",
     "text": [
      "Epoch 20, Loss 0.0669\n",
      "Training Accuracy: 0.9327, Testing Accuracy: 0.9415\n",
      "\n"
     ]
    },
    {
     "name": "stdout",
     "output_type": "stream",
     "text": [
      "Epoch 30, Loss 0.0488\n",
      "Training Accuracy: 0.9479, Testing Accuracy: 0.9567\n",
      "\n"
     ]
    },
    {
     "name": "stdout",
     "output_type": "stream",
     "text": [
      "Epoch 40, Loss 0.0406\n",
      "Training Accuracy: 0.9559, Testing Accuracy: 0.9617\n",
      "\n"
     ]
    },
    {
     "name": "stdout",
     "output_type": "stream",
     "text": [
      "Epoch 50, Loss 0.0361\n",
      "Training Accuracy: 0.9609, Testing Accuracy: 0.9647\n",
      "\n"
     ]
    },
    {
     "name": "stdout",
     "output_type": "stream",
     "text": [
      "Epoch 60, Loss 0.0332\n",
      "Training Accuracy: 0.9630, Testing Accuracy: 0.9693\n",
      "\n"
     ]
    },
    {
     "name": "stdout",
     "output_type": "stream",
     "text": [
      "Epoch 70, Loss 0.0311\n",
      "Training Accuracy: 0.9642, Testing Accuracy: 0.9682\n",
      "\n"
     ]
    },
    {
     "name": "stdout",
     "output_type": "stream",
     "text": [
      "Epoch 80, Loss 0.0295\n",
      "Training Accuracy: 0.9659, Testing Accuracy: 0.9688\n",
      "\n"
     ]
    },
    {
     "name": "stdout",
     "output_type": "stream",
     "text": [
      "Epoch 90, Loss 0.0282\n",
      "Training Accuracy: 0.9670, Testing Accuracy: 0.9703\n",
      "\n"
     ]
    },
    {
     "name": "stdout",
     "output_type": "stream",
     "text": [
      "Epoch 100, Loss 0.0271\n",
      "Training Accuracy: 0.9687, Testing Accuracy: 0.9708\n",
      "\n"
     ]
    },
    {
     "name": "stdout",
     "output_type": "stream",
     "text": [
      "Epoch 110, Loss 0.0262\n",
      "Training Accuracy: 0.9700, Testing Accuracy: 0.9713\n",
      "\n"
     ]
    },
    {
     "name": "stdout",
     "output_type": "stream",
     "text": [
      "Epoch 120, Loss 0.0253\n",
      "Training Accuracy: 0.9707, Testing Accuracy: 0.9723\n",
      "\n"
     ]
    },
    {
     "name": "stdout",
     "output_type": "stream",
     "text": [
      "Epoch 130, Loss 0.0245\n",
      "Training Accuracy: 0.9721, Testing Accuracy: 0.9728\n",
      "\n"
     ]
    },
    {
     "name": "stdout",
     "output_type": "stream",
     "text": [
      "Epoch 140, Loss 0.0238\n",
      "Training Accuracy: 0.9728, Testing Accuracy: 0.9718\n",
      "\n"
     ]
    },
    {
     "name": "stdout",
     "output_type": "stream",
     "text": [
      "Epoch 150, Loss 0.0232\n",
      "Training Accuracy: 0.9734, Testing Accuracy: 0.9728\n",
      "\n"
     ]
    },
    {
     "name": "stdout",
     "output_type": "stream",
     "text": [
      "Epoch 160, Loss 0.0226\n",
      "Training Accuracy: 0.9741, Testing Accuracy: 0.9728\n",
      "\n"
     ]
    },
    {
     "name": "stdout",
     "output_type": "stream",
     "text": [
      "Epoch 170, Loss 0.022\n",
      "Training Accuracy: 0.9749, Testing Accuracy: 0.9728\n",
      "\n"
     ]
    },
    {
     "name": "stdout",
     "output_type": "stream",
     "text": [
      "Epoch 180, Loss 0.0215\n",
      "Training Accuracy: 0.9756, Testing Accuracy: 0.9733\n",
      "\n"
     ]
    },
    {
     "name": "stdout",
     "output_type": "stream",
     "text": [
      "Epoch 190, Loss 0.021\n",
      "Training Accuracy: 0.9762, Testing Accuracy: 0.9738\n",
      "\n"
     ]
    },
    {
     "name": "stdout",
     "output_type": "stream",
     "text": [
      "Epoch 200, Loss 0.0205\n",
      "Training Accuracy: 0.9769, Testing Accuracy: 0.9733\n",
      "\n"
     ]
    },
    {
     "name": "stdout",
     "output_type": "stream",
     "text": [
      "Epoch 210, Loss 0.0201\n",
      "Training Accuracy: 0.9775, Testing Accuracy: 0.9748\n",
      "\n"
     ]
    },
    {
     "name": "stdout",
     "output_type": "stream",
     "text": [
      "Epoch 220, Loss 0.0196\n",
      "Training Accuracy: 0.9780, Testing Accuracy: 0.9763\n",
      "\n"
     ]
    },
    {
     "name": "stdout",
     "output_type": "stream",
     "text": [
      "Epoch 230, Loss 0.0192\n",
      "Training Accuracy: 0.9787, Testing Accuracy: 0.9773\n",
      "\n"
     ]
    },
    {
     "name": "stdout",
     "output_type": "stream",
     "text": [
      "Epoch 240, Loss 0.0188\n",
      "Training Accuracy: 0.9797, Testing Accuracy: 0.9768\n",
      "\n"
     ]
    },
    {
     "data": {
      "text/plain": [
       "0.020143782492142343"
      ]
     },
     "execution_count": 22,
     "metadata": {},
     "output_type": "execute_result"
    }
   ],
   "source": [
    "nn_learner.train_loop(dl)"
   ]
  },
  {
   "cell_type": "code",
   "execution_count": 23,
   "id": "e0163366",
   "metadata": {
    "execution": {
     "iopub.execute_input": "2022-02-12T20:10:06.402131Z",
     "iopub.status.busy": "2022-02-12T20:10:06.401516Z",
     "iopub.status.idle": "2022-02-12T20:10:21.558188Z",
     "shell.execute_reply": "2022-02-12T20:10:21.559053Z"
    },
    "papermill": {
     "duration": 15.209588,
     "end_time": "2022-02-12T20:10:21.559222",
     "exception": false,
     "start_time": "2022-02-12T20:10:06.349634",
     "status": "completed"
    },
    "tags": []
   },
   "outputs": [
    {
     "name": "stdout",
     "output_type": "stream",
     "text": [
      "Epoch 0, Loss 0.2625\n",
      "Training Accuracy: 0.6113, Testing Accuracy: 0.6069\n",
      "\n"
     ]
    },
    {
     "name": "stdout",
     "output_type": "stream",
     "text": [
      "Epoch 10, Loss 0.1046\n",
      "Training Accuracy: 0.9084, Testing Accuracy: 0.9143\n",
      "\n"
     ]
    },
    {
     "name": "stdout",
     "output_type": "stream",
     "text": [
      "Epoch 20, Loss 0.0804\n",
      "Training Accuracy: 0.9246, Testing Accuracy: 0.9390\n",
      "\n"
     ]
    },
    {
     "name": "stdout",
     "output_type": "stream",
     "text": [
      "Epoch 30, Loss 0.0693\n",
      "Training Accuracy: 0.9330, Testing Accuracy: 0.9461\n",
      "\n"
     ]
    },
    {
     "name": "stdout",
     "output_type": "stream",
     "text": [
      "Epoch 40, Loss 0.0627\n",
      "Training Accuracy: 0.9389, Testing Accuracy: 0.9486\n",
      "\n"
     ]
    },
    {
     "name": "stdout",
     "output_type": "stream",
     "text": [
      "Epoch 50, Loss 0.0581\n",
      "Training Accuracy: 0.9432, Testing Accuracy: 0.9511\n",
      "\n"
     ]
    },
    {
     "name": "stdout",
     "output_type": "stream",
     "text": [
      "Epoch 60, Loss 0.0547\n",
      "Training Accuracy: 0.9460, Testing Accuracy: 0.9556\n",
      "\n"
     ]
    },
    {
     "name": "stdout",
     "output_type": "stream",
     "text": [
      "Epoch 70, Loss 0.0521\n",
      "Training Accuracy: 0.9477, Testing Accuracy: 0.9561\n",
      "\n"
     ]
    },
    {
     "name": "stdout",
     "output_type": "stream",
     "text": [
      "Epoch 80, Loss 0.05\n",
      "Training Accuracy: 0.9495, Testing Accuracy: 0.9582\n",
      "\n"
     ]
    },
    {
     "name": "stdout",
     "output_type": "stream",
     "text": [
      "Epoch 90, Loss 0.0483\n",
      "Training Accuracy: 0.9506, Testing Accuracy: 0.9617\n",
      "\n"
     ]
    },
    {
     "name": "stdout",
     "output_type": "stream",
     "text": [
      "Epoch 100, Loss 0.0468\n",
      "Training Accuracy: 0.9518, Testing Accuracy: 0.9617\n",
      "\n"
     ]
    },
    {
     "name": "stdout",
     "output_type": "stream",
     "text": [
      "Epoch 110, Loss 0.0456\n",
      "Training Accuracy: 0.9530, Testing Accuracy: 0.9627\n",
      "\n"
     ]
    },
    {
     "name": "stdout",
     "output_type": "stream",
     "text": [
      "Epoch 120, Loss 0.0445\n",
      "Training Accuracy: 0.9543, Testing Accuracy: 0.9637\n",
      "\n"
     ]
    },
    {
     "name": "stdout",
     "output_type": "stream",
     "text": [
      "Epoch 130, Loss 0.0435\n",
      "Training Accuracy: 0.9553, Testing Accuracy: 0.9642\n",
      "\n"
     ]
    },
    {
     "name": "stdout",
     "output_type": "stream",
     "text": [
      "Epoch 140, Loss 0.0427\n",
      "Training Accuracy: 0.9559, Testing Accuracy: 0.9642\n",
      "\n"
     ]
    },
    {
     "name": "stdout",
     "output_type": "stream",
     "text": [
      "Epoch 150, Loss 0.0419\n",
      "Training Accuracy: 0.9568, Testing Accuracy: 0.9642\n",
      "\n"
     ]
    },
    {
     "name": "stdout",
     "output_type": "stream",
     "text": [
      "Epoch 160, Loss 0.0412\n",
      "Training Accuracy: 0.9574, Testing Accuracy: 0.9642\n",
      "\n"
     ]
    },
    {
     "name": "stdout",
     "output_type": "stream",
     "text": [
      "Epoch 170, Loss 0.0406\n",
      "Training Accuracy: 0.9578, Testing Accuracy: 0.9647\n",
      "\n"
     ]
    },
    {
     "name": "stdout",
     "output_type": "stream",
     "text": [
      "Epoch 180, Loss 0.04\n",
      "Training Accuracy: 0.9579, Testing Accuracy: 0.9657\n",
      "\n"
     ]
    },
    {
     "name": "stdout",
     "output_type": "stream",
     "text": [
      "Epoch 190, Loss 0.0395\n",
      "Training Accuracy: 0.9585, Testing Accuracy: 0.9662\n",
      "\n"
     ]
    },
    {
     "name": "stdout",
     "output_type": "stream",
     "text": [
      "Epoch 200, Loss 0.039\n",
      "Training Accuracy: 0.9588, Testing Accuracy: 0.9672\n",
      "\n"
     ]
    },
    {
     "name": "stdout",
     "output_type": "stream",
     "text": [
      "Epoch 210, Loss 0.0385\n",
      "Training Accuracy: 0.9587, Testing Accuracy: 0.9677\n",
      "\n"
     ]
    },
    {
     "name": "stdout",
     "output_type": "stream",
     "text": [
      "Epoch 220, Loss 0.0381\n",
      "Training Accuracy: 0.9589, Testing Accuracy: 0.9677\n",
      "\n"
     ]
    },
    {
     "name": "stdout",
     "output_type": "stream",
     "text": [
      "Epoch 230, Loss 0.0377\n",
      "Training Accuracy: 0.9592, Testing Accuracy: 0.9672\n",
      "\n"
     ]
    },
    {
     "name": "stdout",
     "output_type": "stream",
     "text": [
      "Epoch 240, Loss 0.0373\n",
      "Training Accuracy: 0.9596, Testing Accuracy: 0.9672\n",
      "\n"
     ]
    },
    {
     "data": {
      "text/plain": [
       "0.029277808143621076"
      ]
     },
     "execution_count": 23,
     "metadata": {},
     "output_type": "execute_result"
    }
   ],
   "source": [
    "lr_learner.train_loop(dl)"
   ]
  },
  {
   "cell_type": "code",
   "execution_count": 24,
   "id": "ca410940",
   "metadata": {
    "execution": {
     "iopub.execute_input": "2022-02-12T20:10:21.658480Z",
     "iopub.status.busy": "2022-02-12T20:10:21.657873Z",
     "iopub.status.idle": "2022-02-12T20:10:21.906450Z",
     "shell.execute_reply": "2022-02-12T20:10:21.905908Z"
    },
    "papermill": {
     "duration": 0.302301,
     "end_time": "2022-02-12T20:10:21.906574",
     "exception": false,
     "start_time": "2022-02-12T20:10:21.604273",
     "status": "completed"
    },
    "tags": []
   },
   "outputs": [
    {
     "data": {
      "text/plain": [
       "<matplotlib.legend.Legend at 0x7fce94e5fc50>"
      ]
     },
     "execution_count": 24,
     "metadata": {},
     "output_type": "execute_result"
    },
    {
     "data": {
      "image/png": "[encoded data removed]",
      "text/plain": [
       "<Figure size 1080x720 with 1 Axes>"
      ]
     },
     "metadata": {
      "needs_background": "light"
     },
     "output_type": "display_data"
    }
   ],
   "source": [
    "#comparing the results of NN and LR\n",
    "plt.figure(figsize=(15,10))\n",
    "\n",
    "# Neural Network plots\n",
    "plt.plot(acc_nn.accuracies, 'r-', label = \"Training Accuracies - NN\")\n",
    "plt.plot(acc_nn.test_accuracies, 'g-', label = \"Testing Accuracies - NN\")\n",
    "\n",
    "# Logistic Regression plots\n",
    "plt.plot(acc_lr.accuracies, 'k-', label = \"Training Accuracies - LR\")\n",
    "plt.plot(acc_lr.test_accuracies, 'b-', label = \"Testing Accuracies - LR\")\n",
    "plt.legend()"
   ]
  },
  {
   "cell_type": "markdown",
   "id": "80dfb35c",
   "metadata": {
    "papermill": {
     "duration": 0.047152,
     "end_time": "2022-02-12T20:10:21.999880",
     "exception": false,
     "start_time": "2022-02-12T20:10:21.952728",
     "status": "completed"
    },
    "tags": []
   },
   "source": [
    "#### Plotting the outputs of this layer of the NN.\n"
   ]
  },
  {
   "cell_type": "code",
   "execution_count": 25,
   "id": "45eb2ff5",
   "metadata": {
    "execution": {
     "iopub.execute_input": "2022-02-12T20:10:22.098572Z",
     "iopub.status.busy": "2022-02-12T20:10:22.097969Z",
     "iopub.status.idle": "2022-02-12T20:10:22.119460Z",
     "shell.execute_reply": "2022-02-12T20:10:22.119943Z"
    },
    "papermill": {
     "duration": 0.073597,
     "end_time": "2022-02-12T20:10:22.120091",
     "exception": false,
     "start_time": "2022-02-12T20:10:22.046494",
     "status": "completed"
    },
    "tags": []
   },
   "outputs": [],
   "source": [
    "new_model = Model(layers[:-2])\n",
    "testing_plot = new_model(testing_data_x)"
   ]
  },
  {
   "cell_type": "code",
   "execution_count": 26,
   "id": "4c0a5485",
   "metadata": {
    "execution": {
     "iopub.execute_input": "2022-02-12T20:10:22.221416Z",
     "iopub.status.busy": "2022-02-12T20:10:22.220500Z",
     "iopub.status.idle": "2022-02-12T20:10:22.487712Z",
     "shell.execute_reply": "2022-02-12T20:10:22.487089Z"
    },
    "papermill": {
     "duration": 0.320739,
     "end_time": "2022-02-12T20:10:22.487842",
     "exception": false,
     "start_time": "2022-02-12T20:10:22.167103",
     "status": "completed"
    },
    "tags": []
   },
   "outputs": [
    {
     "data": {
      "text/plain": [
       "Text(0.5, 1.0, 'Outputs')"
      ]
     },
     "execution_count": 26,
     "metadata": {},
     "output_type": "execute_result"
    },
    {
     "data": {
      "image/png": "[encoded data removed]",
      "text/plain": [
       "<Figure size 576x504 with 1 Axes>"
      ]
     },
     "metadata": {
      "needs_background": "light"
     },
     "output_type": "display_data"
    }
   ],
   "source": [
    "# Plotting the scatter plot of points and color coding by class\n",
    "plt.figure(figsize=(8,7))\n",
    "plt.scatter(testing_plot[:,0], testing_plot[:,1], alpha = 0.1, c = y_test.ravel());\n",
    "plt.title('Outputs')"
   ]
  },
  {
   "cell_type": "markdown",
   "id": "a74fcf8f",
   "metadata": {
    "papermill": {
     "duration": 0.05181,
     "end_time": "2022-02-12T20:10:22.590898",
     "exception": false,
     "start_time": "2022-02-12T20:10:22.539088",
     "status": "completed"
    },
    "tags": []
   },
   "source": [
    "Probability contours"
   ]
  },
  {
   "cell_type": "code",
   "execution_count": 27,
   "id": "d0afc8e3",
   "metadata": {
    "execution": {
     "iopub.execute_input": "2022-02-12T20:10:22.729153Z",
     "iopub.status.busy": "2022-02-12T20:10:22.728005Z",
     "iopub.status.idle": "2022-02-12T20:10:22.740780Z",
     "shell.execute_reply": "2022-02-12T20:10:22.740159Z"
    },
    "papermill": {
     "duration": 0.098204,
     "end_time": "2022-02-12T20:10:22.740908",
     "exception": false,
     "start_time": "2022-02-12T20:10:22.642704",
     "status": "completed"
    },
    "tags": []
   },
   "outputs": [],
   "source": [
    "model_prob = Model(layers[-2:]) "
   ]
  },
  {
   "cell_type": "code",
   "execution_count": 28,
   "id": "9b96e238",
   "metadata": {
    "execution": {
     "iopub.execute_input": "2022-02-12T20:10:22.851441Z",
     "iopub.status.busy": "2022-02-12T20:10:22.850833Z",
     "iopub.status.idle": "2022-02-12T20:10:22.865566Z",
     "shell.execute_reply": "2022-02-12T20:10:22.866441Z"
    },
    "papermill": {
     "duration": 0.0737,
     "end_time": "2022-02-12T20:10:22.866588",
     "exception": false,
     "start_time": "2022-02-12T20:10:22.792888",
     "status": "completed"
    },
    "tags": []
   },
   "outputs": [],
   "source": [
    "#creating the x and y ranges according to the above generated plot.\n",
    "x_range = np.linspace(-4, 1, 100) \n",
    "y_range = np.linspace(-6, 6, 100) \n",
    "x_grid, y_grid = np.meshgrid(x_range, y_range) # x_grid and y_grig are of size 100 X 100\n",
    "\n",
    "# converting x_grid and y_grid to continuous arrays\n",
    "x_gridflat = np.ravel(x_grid)\n",
    "y_gridflat = np.ravel(y_grid)\n",
    "\n",
    "# The last layer of the current model takes two columns as input. Hence transpose of np.vstack() is required.\n",
    "X = np.vstack((x_gridflat, y_gridflat)).T\n",
    "\n",
    "prob_contour = model_prob(X).reshape(100,100) "
   ]
  },
  {
   "cell_type": "code",
   "execution_count": 29,
   "id": "da72499a",
   "metadata": {
    "execution": {
     "iopub.execute_input": "2022-02-12T20:10:22.985855Z",
     "iopub.status.busy": "2022-02-12T20:10:22.985234Z",
     "iopub.status.idle": "2022-02-12T20:10:23.256357Z",
     "shell.execute_reply": "2022-02-12T20:10:23.255431Z"
    },
    "papermill": {
     "duration": 0.336384,
     "end_time": "2022-02-12T20:10:23.256502",
     "exception": false,
     "start_time": "2022-02-12T20:10:22.920118",
     "status": "completed"
    },
    "tags": []
   },
   "outputs": [
    {
     "data": {
      "image/png": "[encoded data removed]",
      "text/plain": [
       "<Figure size 720x648 with 1 Axes>"
      ]
     },
     "metadata": {
      "needs_background": "light"
     },
     "output_type": "display_data"
    }
   ],
   "source": [
    "plt.figure(figsize=(10,9))\n",
    "plt.scatter(testing_plot[:,0], testing_plot[:,1], alpha = 0.1, c = y_test.ravel())\n",
    "contours = plt.contour(x_grid,y_grid,prob_contour)\n",
    "plt.title('Probability Contours')\n",
    "plt.clabel(contours, inline = True );"
   ]
  },
  {
   "cell_type": "code",
   "execution_count": null,
   "id": "e81b4ac7",
   "metadata": {
    "papermill": {
     "duration": 0.054144,
     "end_time": "2022-02-12T20:10:23.364831",
     "exception": false,
     "start_time": "2022-02-12T20:10:23.310687",
     "status": "completed"
    },
    "tags": []
   },
   "outputs": [],
   "source": []
  }
 ],
 "metadata": {
  "kernelspec": {
   "display_name": "Python 3",
   "language": "python",
   "name": "python3"
  },
  "language_info": {
   "codemirror_mode": {
    "name": "ipython",
    "version": 3
   },
   "file_extension": ".py",
   "mimetype": "text/x-python",
   "name": "python",
   "nbconvert_exporter": "python",
   "pygments_lexer": "ipython3",
   "version": "3.6.15"
  },
  "papermill": {
   "default_parameters": {},
   "duration": 111.338542,
   "end_time": "2022-02-12T20:10:23.840009",
   "environment_variables": {},
   "exception": null,
   "input_path": "2020-08-11-part2.ipynb",
   "output_path": "2020-08-11-part2.ipynb",
   "parameters": {},
   "start_time": "2022-02-12T20:08:32.501467",
   "version": "2.3.3"
  }
 },
 "nbformat": 4,
 "nbformat_minor": 5
}