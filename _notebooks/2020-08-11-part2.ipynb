{
 "cells": [
  {
   "cell_type": "markdown",
   "id": "98380cd3",
   "metadata": {
    "papermill": {
     "duration": 0.03179,
     "end_time": "2021-11-21T10:08:07.217737",
     "exception": false,
     "start_time": "2021-11-21T10:08:07.185947",
     "status": "completed"
    },
    "tags": []
   },
   "source": [
    "# Distinguish Your Own Digits (DYOD)"
   ]
  },
  {
   "cell_type": "markdown",
   "id": "ef31240d",
   "metadata": {
    "papermill": {
     "duration": 0.028975,
     "end_time": "2021-11-21T10:08:07.274986",
     "exception": false,
     "start_time": "2021-11-21T10:08:07.246011",
     "status": "completed"
    },
    "tags": []
   },
   "source": [
    "You are going to write a classifier that distinguishes between the number 3 and number 8."
   ]
  },
  {
   "cell_type": "code",
   "execution_count": 1,
   "id": "b15c8646",
   "metadata": {
    "execution": {
     "iopub.execute_input": "2021-11-21T10:08:07.342949Z",
     "iopub.status.busy": "2021-11-21T10:08:07.341977Z",
     "iopub.status.idle": "2021-11-21T10:08:07.353640Z",
     "shell.execute_reply": "2021-11-21T10:08:07.354126Z"
    },
    "papermill": {
     "duration": 0.05177,
     "end_time": "2021-11-21T10:08:07.354266",
     "exception": false,
     "start_time": "2021-11-21T10:08:07.302496",
     "status": "completed"
    },
    "tags": []
   },
   "outputs": [],
   "source": [
    "%load_ext autoreload\n",
    "%autoreload 2"
   ]
  },
  {
   "cell_type": "code",
   "execution_count": 2,
   "id": "22ef38dc",
   "metadata": {
    "execution": {
     "iopub.execute_input": "2021-11-21T10:08:07.412252Z",
     "iopub.status.busy": "2021-11-21T10:08:07.411610Z",
     "iopub.status.idle": "2021-11-21T10:08:08.055647Z",
     "shell.execute_reply": "2021-11-21T10:08:08.056456Z"
    },
    "papermill": {
     "duration": 0.676065,
     "end_time": "2021-11-21T10:08:08.056608",
     "exception": false,
     "start_time": "2021-11-21T10:08:07.380543",
     "status": "completed"
    },
    "tags": []
   },
   "outputs": [],
   "source": [
    "%matplotlib inline\n",
    "import numpy as np\n",
    "import matplotlib.pyplot as plt\n",
    "import pandas as pd"
   ]
  },
  {
   "cell_type": "markdown",
   "id": "ba036198",
   "metadata": {
    "papermill": {
     "duration": 0.026659,
     "end_time": "2021-11-21T10:08:08.110110",
     "exception": false,
     "start_time": "2021-11-21T10:08:08.083451",
     "status": "completed"
    },
    "tags": []
   },
   "source": [
    "From the command line run `pip install mnist`. This is a library that will help you bring down the mnist dataset. If you run this from a notebook, you need to put  `!pip install mnist` in a cell by itself."
   ]
  },
  {
   "cell_type": "code",
   "execution_count": 3,
   "id": "bb6ad8a1",
   "metadata": {
    "execution": {
     "iopub.execute_input": "2021-11-21T10:08:08.168135Z",
     "iopub.status.busy": "2021-11-21T10:08:08.167543Z",
     "iopub.status.idle": "2021-11-21T10:08:09.999642Z",
     "shell.execute_reply": "2021-11-21T10:08:09.998885Z"
    },
    "papermill": {
     "duration": 1.863607,
     "end_time": "2021-11-21T10:08:09.999825",
     "exception": false,
     "start_time": "2021-11-21T10:08:08.136218",
     "status": "completed"
    },
    "tags": []
   },
   "outputs": [
    {
     "name": "stdout",
     "output_type": "stream",
     "text": [
      "Collecting mnist\r\n"
     ]
    },
    {
     "name": "stdout",
     "output_type": "stream",
     "text": [
      "  Downloading mnist-0.2.2-py2.py3-none-any.whl (3.5 kB)\r\n",
      "Requirement already satisfied: numpy in /opt/hostedtoolcache/Python/3.6.15/x64/lib/python3.6/site-packages (from mnist) (1.19.5)\r\n"
     ]
    },
    {
     "name": "stdout",
     "output_type": "stream",
     "text": [
      "Installing collected packages: mnist\r\n"
     ]
    },
    {
     "name": "stdout",
     "output_type": "stream",
     "text": [
      "Successfully installed mnist-0.2.2\r\n"
     ]
    }
   ],
   "source": [
    "!pip install mnist"
   ]
  },
  {
   "cell_type": "markdown",
   "id": "69df9c9a",
   "metadata": {
    "papermill": {
     "duration": 0.027749,
     "end_time": "2021-11-21T10:08:10.054924",
     "exception": false,
     "start_time": "2021-11-21T10:08:10.027175",
     "status": "completed"
    },
    "tags": []
   },
   "source": [
    "## Preparing the Data"
   ]
  },
  {
   "cell_type": "code",
   "execution_count": 4,
   "id": "7f69d806",
   "metadata": {
    "execution": {
     "iopub.execute_input": "2021-11-21T10:08:10.119495Z",
     "iopub.status.busy": "2021-11-21T10:08:10.118236Z",
     "iopub.status.idle": "2021-11-21T10:08:10.133722Z",
     "shell.execute_reply": "2021-11-21T10:08:10.133252Z"
    },
    "papermill": {
     "duration": 0.050451,
     "end_time": "2021-11-21T10:08:10.133860",
     "exception": false,
     "start_time": "2021-11-21T10:08:10.083409",
     "status": "completed"
    },
    "tags": []
   },
   "outputs": [],
   "source": [
    "import mnist"
   ]
  },
  {
   "cell_type": "code",
   "execution_count": 5,
   "id": "a411e44f",
   "metadata": {
    "execution": {
     "iopub.execute_input": "2021-11-21T10:08:10.192014Z",
     "iopub.status.busy": "2021-11-21T10:08:10.191180Z",
     "iopub.status.idle": "2021-11-21T10:08:10.877855Z",
     "shell.execute_reply": "2021-11-21T10:08:10.878339Z"
    },
    "papermill": {
     "duration": 0.7168,
     "end_time": "2021-11-21T10:08:10.878510",
     "exception": false,
     "start_time": "2021-11-21T10:08:10.161710",
     "status": "completed"
    },
    "tags": []
   },
   "outputs": [],
   "source": [
    "train_images = mnist.train_images()\n",
    "train_labels = mnist.train_labels()"
   ]
  },
  {
   "cell_type": "code",
   "execution_count": 6,
   "id": "dceab3a5",
   "metadata": {
    "execution": {
     "iopub.execute_input": "2021-11-21T10:08:10.935853Z",
     "iopub.status.busy": "2021-11-21T10:08:10.935284Z",
     "iopub.status.idle": "2021-11-21T10:08:10.951463Z",
     "shell.execute_reply": "2021-11-21T10:08:10.951865Z"
    },
    "papermill": {
     "duration": 0.045667,
     "end_time": "2021-11-21T10:08:10.951985",
     "exception": false,
     "start_time": "2021-11-21T10:08:10.906318",
     "status": "completed"
    },
    "tags": []
   },
   "outputs": [
    {
     "data": {
      "text/plain": [
       "((60000, 28, 28), (60000,))"
      ]
     },
     "execution_count": 6,
     "metadata": {},
     "output_type": "execute_result"
    }
   ],
   "source": [
    "train_images.shape, train_labels.shape"
   ]
  },
  {
   "cell_type": "code",
   "execution_count": 7,
   "id": "f50dc2bb",
   "metadata": {
    "execution": {
     "iopub.execute_input": "2021-11-21T10:08:11.017720Z",
     "iopub.status.busy": "2021-11-21T10:08:11.016980Z",
     "iopub.status.idle": "2021-11-21T10:08:11.329889Z",
     "shell.execute_reply": "2021-11-21T10:08:11.329342Z"
    },
    "papermill": {
     "duration": 0.347033,
     "end_time": "2021-11-21T10:08:11.330021",
     "exception": false,
     "start_time": "2021-11-21T10:08:10.982988",
     "status": "completed"
    },
    "tags": []
   },
   "outputs": [],
   "source": [
    "test_images = mnist.test_images()\n",
    "test_labels = mnist.test_labels()"
   ]
  },
  {
   "cell_type": "code",
   "execution_count": 8,
   "id": "fc38cf1b",
   "metadata": {
    "execution": {
     "iopub.execute_input": "2021-11-21T10:08:11.386720Z",
     "iopub.status.busy": "2021-11-21T10:08:11.386129Z",
     "iopub.status.idle": "2021-11-21T10:08:11.400017Z",
     "shell.execute_reply": "2021-11-21T10:08:11.399484Z"
    },
    "papermill": {
     "duration": 0.043221,
     "end_time": "2021-11-21T10:08:11.400120",
     "exception": false,
     "start_time": "2021-11-21T10:08:11.356899",
     "status": "completed"
    },
    "tags": []
   },
   "outputs": [
    {
     "data": {
      "text/plain": [
       "((10000, 28, 28), (10000,))"
      ]
     },
     "execution_count": 8,
     "metadata": {},
     "output_type": "execute_result"
    }
   ],
   "source": [
    "test_images.shape, test_labels.shape"
   ]
  },
  {
   "cell_type": "code",
   "execution_count": 9,
   "id": "f9ed8fe0",
   "metadata": {
    "execution": {
     "iopub.execute_input": "2021-11-21T10:08:11.466296Z",
     "iopub.status.busy": "2021-11-21T10:08:11.465449Z",
     "iopub.status.idle": "2021-11-21T10:08:11.644365Z",
     "shell.execute_reply": "2021-11-21T10:08:11.644819Z"
    },
    "papermill": {
     "duration": 0.214783,
     "end_time": "2021-11-21T10:08:11.644984",
     "exception": false,
     "start_time": "2021-11-21T10:08:11.430201",
     "status": "completed"
    },
    "tags": []
   },
   "outputs": [
    {
     "name": "stdout",
     "output_type": "stream",
     "text": [
      "2\n"
     ]
    },
    {
     "data": {
      "text/plain": [
       "<matplotlib.image.AxesImage at 0x7f68fc0cf048>"
      ]
     },
     "execution_count": 9,
     "metadata": {},
     "output_type": "execute_result"
    },
    {
     "data": {
      "image/png": "[encoded data removed]",
      "text/plain": [
       "<Figure size 432x288 with 1 Axes>"
      ]
     },
     "metadata": {
      "needs_background": "light"
     },
     "output_type": "display_data"
    }
   ],
   "source": [
    "image_index = 7776 # You may select anything up to 60,000\n",
    "print(train_labels[image_index]) \n",
    "plt.imshow(train_images[image_index], cmap='Greys')"
   ]
  },
  {
   "cell_type": "markdown",
   "id": "a8d2388d",
   "metadata": {
    "papermill": {
     "duration": 0.02799,
     "end_time": "2021-11-21T10:08:11.706335",
     "exception": false,
     "start_time": "2021-11-21T10:08:11.678345",
     "status": "completed"
    },
    "tags": []
   },
   "source": [
    "## Filter data to get 3 and 8 out"
   ]
  },
  {
   "cell_type": "code",
   "execution_count": 10,
   "id": "776f7fc7",
   "metadata": {
    "execution": {
     "iopub.execute_input": "2021-11-21T10:08:11.767905Z",
     "iopub.status.busy": "2021-11-21T10:08:11.767311Z",
     "iopub.status.idle": "2021-11-21T10:08:11.782568Z",
     "shell.execute_reply": "2021-11-21T10:08:11.782100Z"
    },
    "papermill": {
     "duration": 0.049414,
     "end_time": "2021-11-21T10:08:11.782681",
     "exception": false,
     "start_time": "2021-11-21T10:08:11.733267",
     "status": "completed"
    },
    "tags": []
   },
   "outputs": [],
   "source": [
    "train_filter = np.where((train_labels == 3 ) | (train_labels == 8))\n",
    "test_filter = np.where((test_labels == 3) | (test_labels == 8))\n",
    "X_train, y_train = train_images[train_filter], train_labels[train_filter]\n",
    "X_test, y_test = test_images[test_filter], test_labels[test_filter]"
   ]
  },
  {
   "cell_type": "markdown",
   "id": "948f0b7e",
   "metadata": {
    "papermill": {
     "duration": 0.027249,
     "end_time": "2021-11-21T10:08:11.837279",
     "exception": false,
     "start_time": "2021-11-21T10:08:11.810030",
     "status": "completed"
    },
    "tags": []
   },
   "source": [
    "We normalize the pizel values in the 0 to 1 range"
   ]
  },
  {
   "cell_type": "code",
   "execution_count": 11,
   "id": "ee4c2166",
   "metadata": {
    "execution": {
     "iopub.execute_input": "2021-11-21T10:08:11.904900Z",
     "iopub.status.busy": "2021-11-21T10:08:11.904318Z",
     "iopub.status.idle": "2021-11-21T10:08:11.962207Z",
     "shell.execute_reply": "2021-11-21T10:08:11.961724Z"
    },
    "papermill": {
     "duration": 0.096785,
     "end_time": "2021-11-21T10:08:11.962329",
     "exception": false,
     "start_time": "2021-11-21T10:08:11.865544",
     "status": "completed"
    },
    "tags": []
   },
   "outputs": [],
   "source": [
    "X_train = X_train/255.\n",
    "X_test = X_test/255."
   ]
  },
  {
   "cell_type": "markdown",
   "id": "ddcf4fab",
   "metadata": {
    "papermill": {
     "duration": 0.033716,
     "end_time": "2021-11-21T10:08:12.028477",
     "exception": false,
     "start_time": "2021-11-21T10:08:11.994761",
     "status": "completed"
    },
    "tags": []
   },
   "source": [
    "And setup the labels as 1 (when the digit is 3) and 0 (when the digit is 8)"
   ]
  },
  {
   "cell_type": "code",
   "execution_count": 12,
   "id": "7dc908f2",
   "metadata": {
    "execution": {
     "iopub.execute_input": "2021-11-21T10:08:12.092193Z",
     "iopub.status.busy": "2021-11-21T10:08:12.091299Z",
     "iopub.status.idle": "2021-11-21T10:08:12.103849Z",
     "shell.execute_reply": "2021-11-21T10:08:12.103388Z"
    },
    "papermill": {
     "duration": 0.04553,
     "end_time": "2021-11-21T10:08:12.103956",
     "exception": false,
     "start_time": "2021-11-21T10:08:12.058426",
     "status": "completed"
    },
    "tags": []
   },
   "outputs": [],
   "source": [
    "y_train = 1*(y_train==3)\n",
    "y_test = 1*(y_test==3)"
   ]
  },
  {
   "cell_type": "code",
   "execution_count": 13,
   "id": "01e4e969",
   "metadata": {
    "execution": {
     "iopub.execute_input": "2021-11-21T10:08:12.161782Z",
     "iopub.status.busy": "2021-11-21T10:08:12.161124Z",
     "iopub.status.idle": "2021-11-21T10:08:12.174479Z",
     "shell.execute_reply": "2021-11-21T10:08:12.174031Z"
    },
    "papermill": {
     "duration": 0.042514,
     "end_time": "2021-11-21T10:08:12.174607",
     "exception": false,
     "start_time": "2021-11-21T10:08:12.132093",
     "status": "completed"
    },
    "tags": []
   },
   "outputs": [
    {
     "data": {
      "text/plain": [
       "((11982, 28, 28), (1984, 28, 28))"
      ]
     },
     "execution_count": 13,
     "metadata": {},
     "output_type": "execute_result"
    }
   ],
   "source": [
    "X_train.shape, X_test.shape"
   ]
  },
  {
   "cell_type": "markdown",
   "id": "5ccf3f85",
   "metadata": {
    "papermill": {
     "duration": 0.031951,
     "end_time": "2021-11-21T10:08:12.236973",
     "exception": false,
     "start_time": "2021-11-21T10:08:12.205022",
     "status": "completed"
    },
    "tags": []
   },
   "source": [
    "We reshape the data to flatten the image pixels into a set of features or co-variates:"
   ]
  },
  {
   "cell_type": "code",
   "execution_count": 14,
   "id": "5286a4a3",
   "metadata": {
    "execution": {
     "iopub.execute_input": "2021-11-21T10:08:12.316456Z",
     "iopub.status.busy": "2021-11-21T10:08:12.311676Z",
     "iopub.status.idle": "2021-11-21T10:08:12.323157Z",
     "shell.execute_reply": "2021-11-21T10:08:12.323717Z"
    },
    "papermill": {
     "duration": 0.055928,
     "end_time": "2021-11-21T10:08:12.323883",
     "exception": false,
     "start_time": "2021-11-21T10:08:12.267955",
     "status": "completed"
    },
    "tags": []
   },
   "outputs": [
    {
     "data": {
      "text/plain": [
       "((11982, 784), (1984, 784))"
      ]
     },
     "execution_count": 14,
     "metadata": {},
     "output_type": "execute_result"
    }
   ],
   "source": [
    "X_train = X_train.reshape(X_train.shape[0], -1)\n",
    "X_test = X_test.reshape(X_test.shape[0], -1)\n",
    "X_train.shape, X_test.shape"
   ]
  },
  {
   "cell_type": "code",
   "execution_count": 15,
   "id": "73c5f88a",
   "metadata": {
    "execution": {
     "iopub.execute_input": "2021-11-21T10:08:12.399393Z",
     "iopub.status.busy": "2021-11-21T10:08:12.398804Z",
     "iopub.status.idle": "2021-11-21T10:08:12.414796Z",
     "shell.execute_reply": "2021-11-21T10:08:12.415892Z"
    },
    "papermill": {
     "duration": 0.059517,
     "end_time": "2021-11-21T10:08:12.416085",
     "exception": false,
     "start_time": "2021-11-21T10:08:12.356568",
     "status": "completed"
    },
    "tags": []
   },
   "outputs": [],
   "source": [
    "#Impoting functions from 'Kudzu'\n",
    "from kudzu.model import Model\n",
    "from kudzu.train import Learner\n",
    "from kudzu.optim import GD\n",
    "from kudzu.data import Data, Sampler,Dataloader\n",
    "\n",
    "from kudzu.callbacks import AccCallback\n",
    "from kudzu.callbacks import ClfCallback\n",
    "\n",
    "from kudzu.loss import MSE\n",
    "\n",
    "from kudzu.layer import Sigmoid,Relu\n",
    "from kudzu.layer import Affine"
   ]
  },
  {
   "cell_type": "markdown",
   "id": "bc01172a",
   "metadata": {
    "papermill": {
     "duration": 0.029729,
     "end_time": "2021-11-21T10:08:12.479682",
     "exception": false,
     "start_time": "2021-11-21T10:08:12.449953",
     "status": "completed"
    },
    "tags": []
   },
   "source": [
    "### Let us create a `Config` class, to store important parameters. \n",
    "This class essentially plays the role of a dictionary."
   ]
  },
  {
   "cell_type": "code",
   "execution_count": 16,
   "id": "978281aa",
   "metadata": {
    "execution": {
     "iopub.execute_input": "2021-11-21T10:08:12.544470Z",
     "iopub.status.busy": "2021-11-21T10:08:12.543926Z",
     "iopub.status.idle": "2021-11-21T10:08:12.554480Z",
     "shell.execute_reply": "2021-11-21T10:08:12.555112Z"
    },
    "papermill": {
     "duration": 0.045753,
     "end_time": "2021-11-21T10:08:12.555229",
     "exception": false,
     "start_time": "2021-11-21T10:08:12.509476",
     "status": "completed"
    },
    "tags": []
   },
   "outputs": [],
   "source": [
    "class Config:\n",
    "    pass\n",
    "config = Config()\n",
    "config.lr = 0.001\n",
    "config.num_epochs = 250\n",
    "config.bs = 50"
   ]
  },
  {
   "cell_type": "markdown",
   "id": "1385fa59",
   "metadata": {
    "papermill": {
     "duration": 0.031151,
     "end_time": "2021-11-21T10:08:12.614943",
     "exception": false,
     "start_time": "2021-11-21T10:08:12.583792",
     "status": "completed"
    },
    "tags": []
   },
   "source": [
    "### Running Models with the Training data\n",
    "Details about the network layers:\n",
    "- A first affine layer has 784 inputs and does 100 affine transforms. These are followed by a Relu\n",
    "- A second affine layer has 100 inputs from the 100 activations of the past layer, and does 100 affine transforms. These are followed by a Relu\n",
    "- A third affine layer has 100 activations and does 2 affine transformations to create an embedding for visualization. There is no non-linearity here.\n",
    "- A final \"logistic regression\" which has an affine transform from 2 inputs to 1 output, which is squeezed through a sigmoid.\n"
   ]
  },
  {
   "cell_type": "code",
   "execution_count": 17,
   "id": "2b9c66db",
   "metadata": {
    "execution": {
     "iopub.execute_input": "2021-11-21T10:08:12.687111Z",
     "iopub.status.busy": "2021-11-21T10:08:12.680381Z",
     "iopub.status.idle": "2021-11-21T10:08:12.695048Z",
     "shell.execute_reply": "2021-11-21T10:08:12.695527Z"
    },
    "papermill": {
     "duration": 0.05105,
     "end_time": "2021-11-21T10:08:12.695653",
     "exception": false,
     "start_time": "2021-11-21T10:08:12.644603",
     "status": "completed"
    },
    "tags": []
   },
   "outputs": [],
   "source": [
    "data = Data(X_train, y_train.reshape(-1,1))\n",
    "sampler = Sampler(data, config.bs, shuffle=True)\n",
    "\n",
    "dl = Dataloader(data, sampler)\n",
    "\n",
    "opt = GD(config.lr)\n",
    "loss = MSE()"
   ]
  },
  {
   "cell_type": "code",
   "execution_count": 18,
   "id": "b275e4c2",
   "metadata": {
    "execution": {
     "iopub.execute_input": "2021-11-21T10:08:12.757300Z",
     "iopub.status.busy": "2021-11-21T10:08:12.756565Z",
     "iopub.status.idle": "2021-11-21T10:08:12.768214Z",
     "shell.execute_reply": "2021-11-21T10:08:12.768747Z"
    },
    "papermill": {
     "duration": 0.044531,
     "end_time": "2021-11-21T10:08:12.768861",
     "exception": false,
     "start_time": "2021-11-21T10:08:12.724330",
     "status": "completed"
    },
    "tags": []
   },
   "outputs": [],
   "source": [
    "training_data_x = X_train\n",
    "testing_data_x = X_test\n",
    "training_data_y = y_train.reshape(-1,1)\n",
    "testing_data_y = y_test.reshape(-1,1)"
   ]
  },
  {
   "cell_type": "code",
   "execution_count": 19,
   "id": "76951160",
   "metadata": {
    "execution": {
     "iopub.execute_input": "2021-11-21T10:08:12.834069Z",
     "iopub.status.busy": "2021-11-21T10:08:12.833377Z",
     "iopub.status.idle": "2021-11-21T10:08:12.848523Z",
     "shell.execute_reply": "2021-11-21T10:08:12.849099Z"
    },
    "papermill": {
     "duration": 0.053633,
     "end_time": "2021-11-21T10:08:12.849268",
     "exception": false,
     "start_time": "2021-11-21T10:08:12.795635",
     "status": "completed"
    },
    "tags": []
   },
   "outputs": [
    {
     "name": "stdout",
     "output_type": "stream",
     "text": [
      "xavier\n",
      "xavier\n",
      "xavier\n",
      "xavier\n",
      "xavier\n"
     ]
    }
   ],
   "source": [
    "layers = [Affine(\"first\", 784, 100), Relu(\"first\"), Affine(\"second\", 100, 100), Relu(\"second\"), Affine(\"third\", 100, 2), Affine(\"last\", 2, 1), Sigmoid(\"last\")]\n",
    "model_nn = Model(layers)\n",
    "model_lr = Model([Affine(\"logits\", 784, 1), Sigmoid(\"sigmoid\")])"
   ]
  },
  {
   "cell_type": "code",
   "execution_count": 20,
   "id": "6eede77a",
   "metadata": {
    "execution": {
     "iopub.execute_input": "2021-11-21T10:08:12.917228Z",
     "iopub.status.busy": "2021-11-21T10:08:12.916516Z",
     "iopub.status.idle": "2021-11-21T10:08:12.933870Z",
     "shell.execute_reply": "2021-11-21T10:08:12.932500Z"
    },
    "papermill": {
     "duration": 0.051641,
     "end_time": "2021-11-21T10:08:12.934009",
     "exception": false,
     "start_time": "2021-11-21T10:08:12.882368",
     "status": "completed"
    },
    "tags": []
   },
   "outputs": [],
   "source": [
    "nn_learner = Learner(loss, model_nn, opt, config.num_epochs)\n",
    "acc_nn = ClfCallback(nn_learner, config.bs, training_data_x , testing_data_x, training_data_y, testing_data_y)\n",
    "nn_learner.set_callbacks([acc_nn])"
   ]
  },
  {
   "cell_type": "code",
   "execution_count": 21,
   "id": "877b6cc7",
   "metadata": {
    "execution": {
     "iopub.execute_input": "2021-11-21T10:08:13.010073Z",
     "iopub.status.busy": "2021-11-21T10:08:13.009246Z",
     "iopub.status.idle": "2021-11-21T10:08:13.019618Z",
     "shell.execute_reply": "2021-11-21T10:08:13.020335Z"
    },
    "papermill": {
     "duration": 0.05038,
     "end_time": "2021-11-21T10:08:13.020495",
     "exception": false,
     "start_time": "2021-11-21T10:08:12.970115",
     "status": "completed"
    },
    "tags": []
   },
   "outputs": [],
   "source": [
    "lr_learner = Learner(loss, model_lr, opt, config.num_epochs)\n",
    "acc_lr = ClfCallback(lr_learner, config.bs, training_data_x , testing_data_x, training_data_y, testing_data_y)\n",
    "lr_learner.set_callbacks([acc_lr])"
   ]
  },
  {
   "cell_type": "code",
   "execution_count": 22,
   "id": "d9b133c3",
   "metadata": {
    "execution": {
     "iopub.execute_input": "2021-11-21T10:08:13.092024Z",
     "iopub.status.busy": "2021-11-21T10:08:13.091400Z",
     "iopub.status.idle": "2021-11-21T10:10:34.829039Z",
     "shell.execute_reply": "2021-11-21T10:10:34.829805Z"
    },
    "papermill": {
     "duration": 141.774946,
     "end_time": "2021-11-21T10:10:34.829985",
     "exception": false,
     "start_time": "2021-11-21T10:08:13.055039",
     "status": "completed"
    },
    "tags": []
   },
   "outputs": [
    {
     "name": "stdout",
     "output_type": "stream",
     "text": [
      "Epoch 0, Loss 0.2409\n",
      "Training Accuracy: 0.6794, Testing Accuracy: 0.6971\n",
      "\n"
     ]
    },
    {
     "name": "stdout",
     "output_type": "stream",
     "text": [
      "Epoch 10, Loss 0.0825\n",
      "Training Accuracy: 0.9202, Testing Accuracy: 0.9289\n",
      "\n"
     ]
    },
    {
     "name": "stdout",
     "output_type": "stream",
     "text": [
      "Epoch 20, Loss 0.0528\n",
      "Training Accuracy: 0.9440, Testing Accuracy: 0.9521\n",
      "\n"
     ]
    },
    {
     "name": "stdout",
     "output_type": "stream",
     "text": [
      "Epoch 30, Loss 0.0424\n",
      "Training Accuracy: 0.9528, Testing Accuracy: 0.9607\n",
      "\n"
     ]
    },
    {
     "name": "stdout",
     "output_type": "stream",
     "text": [
      "Epoch 40, Loss 0.0372\n",
      "Training Accuracy: 0.9566, Testing Accuracy: 0.9637\n",
      "\n"
     ]
    },
    {
     "name": "stdout",
     "output_type": "stream",
     "text": [
      "Epoch 50, Loss 0.0341\n",
      "Training Accuracy: 0.9599, Testing Accuracy: 0.9652\n",
      "\n"
     ]
    },
    {
     "name": "stdout",
     "output_type": "stream",
     "text": [
      "Epoch 60, Loss 0.032\n",
      "Training Accuracy: 0.9622, Testing Accuracy: 0.9657\n",
      "\n"
     ]
    },
    {
     "name": "stdout",
     "output_type": "stream",
     "text": [
      "Epoch 70, Loss 0.0304\n",
      "Training Accuracy: 0.9635, Testing Accuracy: 0.9672\n",
      "\n"
     ]
    },
    {
     "name": "stdout",
     "output_type": "stream",
     "text": [
      "Epoch 80, Loss 0.029\n",
      "Training Accuracy: 0.9649, Testing Accuracy: 0.9682\n",
      "\n"
     ]
    },
    {
     "name": "stdout",
     "output_type": "stream",
     "text": [
      "Epoch 90, Loss 0.0279\n",
      "Training Accuracy: 0.9662, Testing Accuracy: 0.9677\n",
      "\n"
     ]
    },
    {
     "name": "stdout",
     "output_type": "stream",
     "text": [
      "Epoch 100, Loss 0.0269\n",
      "Training Accuracy: 0.9670, Testing Accuracy: 0.9677\n",
      "\n"
     ]
    },
    {
     "name": "stdout",
     "output_type": "stream",
     "text": [
      "Epoch 110, Loss 0.0261\n",
      "Training Accuracy: 0.9686, Testing Accuracy: 0.9677\n",
      "\n"
     ]
    },
    {
     "name": "stdout",
     "output_type": "stream",
     "text": [
      "Epoch 120, Loss 0.0253\n",
      "Training Accuracy: 0.9700, Testing Accuracy: 0.9667\n",
      "\n"
     ]
    },
    {
     "name": "stdout",
     "output_type": "stream",
     "text": [
      "Epoch 130, Loss 0.0246\n",
      "Training Accuracy: 0.9707, Testing Accuracy: 0.9672\n",
      "\n"
     ]
    },
    {
     "name": "stdout",
     "output_type": "stream",
     "text": [
      "Epoch 140, Loss 0.024\n",
      "Training Accuracy: 0.9715, Testing Accuracy: 0.9682\n",
      "\n"
     ]
    },
    {
     "name": "stdout",
     "output_type": "stream",
     "text": [
      "Epoch 150, Loss 0.0234\n",
      "Training Accuracy: 0.9719, Testing Accuracy: 0.9682\n",
      "\n"
     ]
    },
    {
     "name": "stdout",
     "output_type": "stream",
     "text": [
      "Epoch 160, Loss 0.0229\n",
      "Training Accuracy: 0.9726, Testing Accuracy: 0.9688\n",
      "\n"
     ]
    },
    {
     "name": "stdout",
     "output_type": "stream",
     "text": [
      "Epoch 170, Loss 0.0224\n",
      "Training Accuracy: 0.9736, Testing Accuracy: 0.9688\n",
      "\n"
     ]
    },
    {
     "name": "stdout",
     "output_type": "stream",
     "text": [
      "Epoch 180, Loss 0.0219\n",
      "Training Accuracy: 0.9747, Testing Accuracy: 0.9682\n",
      "\n"
     ]
    },
    {
     "name": "stdout",
     "output_type": "stream",
     "text": [
      "Epoch 190, Loss 0.0214\n",
      "Training Accuracy: 0.9752, Testing Accuracy: 0.9688\n",
      "\n"
     ]
    },
    {
     "name": "stdout",
     "output_type": "stream",
     "text": [
      "Epoch 200, Loss 0.021\n",
      "Training Accuracy: 0.9760, Testing Accuracy: 0.9693\n",
      "\n"
     ]
    },
    {
     "name": "stdout",
     "output_type": "stream",
     "text": [
      "Epoch 210, Loss 0.0206\n",
      "Training Accuracy: 0.9765, Testing Accuracy: 0.9693\n",
      "\n"
     ]
    },
    {
     "name": "stdout",
     "output_type": "stream",
     "text": [
      "Epoch 220, Loss 0.0202\n",
      "Training Accuracy: 0.9770, Testing Accuracy: 0.9698\n",
      "\n"
     ]
    },
    {
     "name": "stdout",
     "output_type": "stream",
     "text": [
      "Epoch 230, Loss 0.0198\n",
      "Training Accuracy: 0.9777, Testing Accuracy: 0.9703\n",
      "\n"
     ]
    },
    {
     "name": "stdout",
     "output_type": "stream",
     "text": [
      "Epoch 240, Loss 0.0195\n",
      "Training Accuracy: 0.9781, Testing Accuracy: 0.9708\n",
      "\n"
     ]
    },
    {
     "data": {
      "text/plain": [
       "0.010217677689499011"
      ]
     },
     "execution_count": 22,
     "metadata": {},
     "output_type": "execute_result"
    }
   ],
   "source": [
    "nn_learner.train_loop(dl)"
   ]
  },
  {
   "cell_type": "code",
   "execution_count": 23,
   "id": "e0163366",
   "metadata": {
    "execution": {
     "iopub.execute_input": "2021-11-21T10:10:34.915876Z",
     "iopub.status.busy": "2021-11-21T10:10:34.915332Z",
     "iopub.status.idle": "2021-11-21T10:10:54.787400Z",
     "shell.execute_reply": "2021-11-21T10:10:54.788544Z"
    },
    "papermill": {
     "duration": 19.9218,
     "end_time": "2021-11-21T10:10:54.788749",
     "exception": false,
     "start_time": "2021-11-21T10:10:34.866949",
     "status": "completed"
    },
    "tags": []
   },
   "outputs": [
    {
     "name": "stdout",
     "output_type": "stream",
     "text": [
      "Epoch 0, Loss 0.2233\n",
      "Training Accuracy: 0.7480, Testing Accuracy: 0.7928\n",
      "\n"
     ]
    },
    {
     "name": "stdout",
     "output_type": "stream",
     "text": [
      "Epoch 10, Loss 0.0998\n",
      "Training Accuracy: 0.9128, Testing Accuracy: 0.9234\n",
      "\n"
     ]
    },
    {
     "name": "stdout",
     "output_type": "stream",
     "text": [
      "Epoch 20, Loss 0.0779\n",
      "Training Accuracy: 0.9293, Testing Accuracy: 0.9375\n",
      "\n"
     ]
    },
    {
     "name": "stdout",
     "output_type": "stream",
     "text": [
      "Epoch 30, Loss 0.0677\n",
      "Training Accuracy: 0.9361, Testing Accuracy: 0.9446\n",
      "\n"
     ]
    },
    {
     "name": "stdout",
     "output_type": "stream",
     "text": [
      "Epoch 40, Loss 0.0615\n",
      "Training Accuracy: 0.9402, Testing Accuracy: 0.9486\n",
      "\n"
     ]
    },
    {
     "name": "stdout",
     "output_type": "stream",
     "text": [
      "Epoch 50, Loss 0.0572\n",
      "Training Accuracy: 0.9429, Testing Accuracy: 0.9536\n",
      "\n"
     ]
    },
    {
     "name": "stdout",
     "output_type": "stream",
     "text": [
      "Epoch 60, Loss 0.054\n",
      "Training Accuracy: 0.9453, Testing Accuracy: 0.9567\n",
      "\n"
     ]
    },
    {
     "name": "stdout",
     "output_type": "stream",
     "text": [
      "Epoch 70, Loss 0.0516\n",
      "Training Accuracy: 0.9473, Testing Accuracy: 0.9572\n",
      "\n"
     ]
    },
    {
     "name": "stdout",
     "output_type": "stream",
     "text": [
      "Epoch 80, Loss 0.0496\n",
      "Training Accuracy: 0.9493, Testing Accuracy: 0.9582\n",
      "\n"
     ]
    },
    {
     "name": "stdout",
     "output_type": "stream",
     "text": [
      "Epoch 90, Loss 0.0479\n",
      "Training Accuracy: 0.9510, Testing Accuracy: 0.9617\n",
      "\n"
     ]
    },
    {
     "name": "stdout",
     "output_type": "stream",
     "text": [
      "Epoch 100, Loss 0.0465\n",
      "Training Accuracy: 0.9521, Testing Accuracy: 0.9642\n",
      "\n"
     ]
    },
    {
     "name": "stdout",
     "output_type": "stream",
     "text": [
      "Epoch 110, Loss 0.0453\n",
      "Training Accuracy: 0.9532, Testing Accuracy: 0.9642\n",
      "\n"
     ]
    },
    {
     "name": "stdout",
     "output_type": "stream",
     "text": [
      "Epoch 120, Loss 0.0443\n",
      "Training Accuracy: 0.9542, Testing Accuracy: 0.9642\n",
      "\n"
     ]
    },
    {
     "name": "stdout",
     "output_type": "stream",
     "text": [
      "Epoch 130, Loss 0.0433\n",
      "Training Accuracy: 0.9548, Testing Accuracy: 0.9642\n",
      "\n"
     ]
    },
    {
     "name": "stdout",
     "output_type": "stream",
     "text": [
      "Epoch 140, Loss 0.0425\n",
      "Training Accuracy: 0.9555, Testing Accuracy: 0.9642\n",
      "\n"
     ]
    },
    {
     "name": "stdout",
     "output_type": "stream",
     "text": [
      "Epoch 150, Loss 0.0417\n",
      "Training Accuracy: 0.9559, Testing Accuracy: 0.9642\n",
      "\n"
     ]
    },
    {
     "name": "stdout",
     "output_type": "stream",
     "text": [
      "Epoch 160, Loss 0.0411\n",
      "Training Accuracy: 0.9563, Testing Accuracy: 0.9642\n",
      "\n"
     ]
    },
    {
     "name": "stdout",
     "output_type": "stream",
     "text": [
      "Epoch 170, Loss 0.0405\n",
      "Training Accuracy: 0.9570, Testing Accuracy: 0.9647\n",
      "\n"
     ]
    },
    {
     "name": "stdout",
     "output_type": "stream",
     "text": [
      "Epoch 180, Loss 0.0399\n",
      "Training Accuracy: 0.9577, Testing Accuracy: 0.9652\n",
      "\n"
     ]
    },
    {
     "name": "stdout",
     "output_type": "stream",
     "text": [
      "Epoch 190, Loss 0.0394\n",
      "Training Accuracy: 0.9580, Testing Accuracy: 0.9652\n",
      "\n"
     ]
    },
    {
     "name": "stdout",
     "output_type": "stream",
     "text": [
      "Epoch 200, Loss 0.0389\n",
      "Training Accuracy: 0.9582, Testing Accuracy: 0.9662\n",
      "\n"
     ]
    },
    {
     "name": "stdout",
     "output_type": "stream",
     "text": [
      "Epoch 210, Loss 0.0384\n",
      "Training Accuracy: 0.9586, Testing Accuracy: 0.9662\n",
      "\n"
     ]
    },
    {
     "name": "stdout",
     "output_type": "stream",
     "text": [
      "Epoch 220, Loss 0.038\n",
      "Training Accuracy: 0.9589, Testing Accuracy: 0.9662\n",
      "\n"
     ]
    },
    {
     "name": "stdout",
     "output_type": "stream",
     "text": [
      "Epoch 230, Loss 0.0376\n",
      "Training Accuracy: 0.9590, Testing Accuracy: 0.9657\n",
      "\n"
     ]
    },
    {
     "name": "stdout",
     "output_type": "stream",
     "text": [
      "Epoch 240, Loss 0.0372\n",
      "Training Accuracy: 0.9591, Testing Accuracy: 0.9662\n",
      "\n"
     ]
    },
    {
     "data": {
      "text/plain": [
       "0.0415303690572429"
      ]
     },
     "execution_count": 23,
     "metadata": {},
     "output_type": "execute_result"
    }
   ],
   "source": [
    "lr_learner.train_loop(dl)"
   ]
  },
  {
   "cell_type": "code",
   "execution_count": 24,
   "id": "ca410940",
   "metadata": {
    "execution": {
     "iopub.execute_input": "2021-11-21T10:10:54.901215Z",
     "iopub.status.busy": "2021-11-21T10:10:54.900597Z",
     "iopub.status.idle": "2021-11-21T10:10:55.201084Z",
     "shell.execute_reply": "2021-11-21T10:10:55.201567Z"
    },
    "papermill": {
     "duration": 0.359556,
     "end_time": "2021-11-21T10:10:55.201741",
     "exception": false,
     "start_time": "2021-11-21T10:10:54.842185",
     "status": "completed"
    },
    "tags": []
   },
   "outputs": [
    {
     "data": {
      "text/plain": [
       "<matplotlib.legend.Legend at 0x7f68ee8a9828>"
      ]
     },
     "execution_count": 24,
     "metadata": {},
     "output_type": "execute_result"
    },
    {
     "data": {
      "image/png": "[encoded data removed]",
      "text/plain": [
       "<Figure size 1080x720 with 1 Axes>"
      ]
     },
     "metadata": {
      "needs_background": "light"
     },
     "output_type": "display_data"
    }
   ],
   "source": [
    "#comparing the results of NN and LR\n",
    "plt.figure(figsize=(15,10))\n",
    "\n",
    "# Neural Network plots\n",
    "plt.plot(acc_nn.accuracies, 'r-', label = \"Training Accuracies - NN\")\n",
    "plt.plot(acc_nn.test_accuracies, 'g-', label = \"Testing Accuracies - NN\")\n",
    "\n",
    "# Logistic Regression plots\n",
    "plt.plot(acc_lr.accuracies, 'k-', label = \"Training Accuracies - LR\")\n",
    "plt.plot(acc_lr.test_accuracies, 'b-', label = \"Testing Accuracies - LR\")\n",
    "plt.legend()"
   ]
  },
  {
   "cell_type": "markdown",
   "id": "80dfb35c",
   "metadata": {
    "papermill": {
     "duration": 0.049827,
     "end_time": "2021-11-21T10:10:55.306210",
     "exception": false,
     "start_time": "2021-11-21T10:10:55.256383",
     "status": "completed"
    },
    "tags": []
   },
   "source": [
    "#### Plotting the outputs of this layer of the NN.\n"
   ]
  },
  {
   "cell_type": "code",
   "execution_count": 25,
   "id": "45eb2ff5",
   "metadata": {
    "execution": {
     "iopub.execute_input": "2021-11-21T10:10:55.416210Z",
     "iopub.status.busy": "2021-11-21T10:10:55.415595Z",
     "iopub.status.idle": "2021-11-21T10:10:55.443508Z",
     "shell.execute_reply": "2021-11-21T10:10:55.444038Z"
    },
    "papermill": {
     "duration": 0.084455,
     "end_time": "2021-11-21T10:10:55.444192",
     "exception": false,
     "start_time": "2021-11-21T10:10:55.359737",
     "status": "completed"
    },
    "tags": []
   },
   "outputs": [],
   "source": [
    "new_model = Model(layers[:-2])\n",
    "testing_plot = new_model(testing_data_x)"
   ]
  },
  {
   "cell_type": "code",
   "execution_count": 26,
   "id": "4c0a5485",
   "metadata": {
    "execution": {
     "iopub.execute_input": "2021-11-21T10:10:55.549275Z",
     "iopub.status.busy": "2021-11-21T10:10:55.548721Z",
     "iopub.status.idle": "2021-11-21T10:10:55.830139Z",
     "shell.execute_reply": "2021-11-21T10:10:55.829131Z"
    },
    "papermill": {
     "duration": 0.335585,
     "end_time": "2021-11-21T10:10:55.830306",
     "exception": false,
     "start_time": "2021-11-21T10:10:55.494721",
     "status": "completed"
    },
    "tags": []
   },
   "outputs": [
    {
     "data": {
      "text/plain": [
       "Text(0.5, 1.0, 'Outputs')"
      ]
     },
     "execution_count": 26,
     "metadata": {},
     "output_type": "execute_result"
    },
    {
     "data": {
      "image/png": "[encoded data removed]",
      "text/plain": [
       "<Figure size 576x504 with 1 Axes>"
      ]
     },
     "metadata": {
      "needs_background": "light"
     },
     "output_type": "display_data"
    }
   ],
   "source": [
    "# Plotting the scatter plot of points and color coding by class\n",
    "plt.figure(figsize=(8,7))\n",
    "plt.scatter(testing_plot[:,0], testing_plot[:,1], alpha = 0.1, c = y_test.ravel());\n",
    "plt.title('Outputs')"
   ]
  },
  {
   "cell_type": "markdown",
   "id": "a74fcf8f",
   "metadata": {
    "papermill": {
     "duration": 0.050251,
     "end_time": "2021-11-21T10:10:55.931189",
     "exception": false,
     "start_time": "2021-11-21T10:10:55.880938",
     "status": "completed"
    },
    "tags": []
   },
   "source": [
    "Probability contours"
   ]
  },
  {
   "cell_type": "code",
   "execution_count": 27,
   "id": "d0afc8e3",
   "metadata": {
    "execution": {
     "iopub.execute_input": "2021-11-21T10:10:56.066944Z",
     "iopub.status.busy": "2021-11-21T10:10:56.058706Z",
     "iopub.status.idle": "2021-11-21T10:10:56.069937Z",
     "shell.execute_reply": "2021-11-21T10:10:56.069397Z"
    },
    "papermill": {
     "duration": 0.067537,
     "end_time": "2021-11-21T10:10:56.070055",
     "exception": false,
     "start_time": "2021-11-21T10:10:56.002518",
     "status": "completed"
    },
    "tags": []
   },
   "outputs": [],
   "source": [
    "model_prob = Model(layers[-2:]) "
   ]
  },
  {
   "cell_type": "code",
   "execution_count": 28,
   "id": "9b96e238",
   "metadata": {
    "execution": {
     "iopub.execute_input": "2021-11-21T10:10:56.168778Z",
     "iopub.status.busy": "2021-11-21T10:10:56.167749Z",
     "iopub.status.idle": "2021-11-21T10:10:56.181635Z",
     "shell.execute_reply": "2021-11-21T10:10:56.182262Z"
    },
    "papermill": {
     "duration": 0.066,
     "end_time": "2021-11-21T10:10:56.182394",
     "exception": false,
     "start_time": "2021-11-21T10:10:56.116394",
     "status": "completed"
    },
    "tags": []
   },
   "outputs": [],
   "source": [
    "#creating the x and y ranges according to the above generated plot.\n",
    "x_range = np.linspace(-4, 1, 100) \n",
    "y_range = np.linspace(-6, 6, 100) \n",
    "x_grid, y_grid = np.meshgrid(x_range, y_range) # x_grid and y_grig are of size 100 X 100\n",
    "\n",
    "# converting x_grid and y_grid to continuous arrays\n",
    "x_gridflat = np.ravel(x_grid)\n",
    "y_gridflat = np.ravel(y_grid)\n",
    "\n",
    "# The last layer of the current model takes two columns as input. Hence transpose of np.vstack() is required.\n",
    "X = np.vstack((x_gridflat, y_gridflat)).T\n",
    "\n",
    "prob_contour = model_prob(X).reshape(100,100) "
   ]
  },
  {
   "cell_type": "code",
   "execution_count": 29,
   "id": "da72499a",
   "metadata": {
    "execution": {
     "iopub.execute_input": "2021-11-21T10:10:56.292472Z",
     "iopub.status.busy": "2021-11-21T10:10:56.291725Z",
     "iopub.status.idle": "2021-11-21T10:10:56.606672Z",
     "shell.execute_reply": "2021-11-21T10:10:56.607183Z"
    },
    "papermill": {
     "duration": 0.375896,
     "end_time": "2021-11-21T10:10:56.607352",
     "exception": false,
     "start_time": "2021-11-21T10:10:56.231456",
     "status": "completed"
    },
    "tags": []
   },
   "outputs": [
    {
     "data": {
      "image/png": "[encoded data removed]",
      "text/plain": [
       "<Figure size 720x648 with 1 Axes>"
      ]
     },
     "metadata": {
      "needs_background": "light"
     },
     "output_type": "display_data"
    }
   ],
   "source": [
    "plt.figure(figsize=(10,9))\n",
    "plt.scatter(testing_plot[:,0], testing_plot[:,1], alpha = 0.1, c = y_test.ravel())\n",
    "contours = plt.contour(x_grid,y_grid,prob_contour)\n",
    "plt.title('Probability Contours')\n",
    "plt.clabel(contours, inline = True );"
   ]
  },
  {
   "cell_type": "code",
   "execution_count": null,
   "id": "e81b4ac7",
   "metadata": {
    "papermill": {
     "duration": 0.055912,
     "end_time": "2021-11-21T10:10:56.721122",
     "exception": false,
     "start_time": "2021-11-21T10:10:56.665210",
     "status": "completed"
    },
    "tags": []
   },
   "outputs": [],
   "source": []
  }
 ],
 "metadata": {
  "kernelspec": {
   "display_name": "Python 3",
   "language": "python",
   "name": "python3"
  },
  "language_info": {
   "codemirror_mode": {
    "name": "ipython",
    "version": 3
   },
   "file_extension": ".py",
   "mimetype": "text/x-python",
   "name": "python",
   "nbconvert_exporter": "python",
   "pygments_lexer": "ipython3",
   "version": "3.6.15"
  },
  "papermill": {
   "default_parameters": {},
   "duration": 171.076667,
   "end_time": "2021-11-21T10:10:57.189882",
   "environment_variables": {},
   "exception": null,
   "input_path": "2020-08-11-part2.ipynb",
   "output_path": "2020-08-11-part2.ipynb",
   "parameters": {},
   "start_time": "2021-11-21T10:08:06.113215",
   "version": "2.3.3"
  }
 },
 "nbformat": 4,
 "nbformat_minor": 5
}