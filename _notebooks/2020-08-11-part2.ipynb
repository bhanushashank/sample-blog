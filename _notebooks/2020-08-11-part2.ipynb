{
 "cells": [
  {
   "cell_type": "markdown",
   "id": "98380cd3",
   "metadata": {
    "papermill": {
     "duration": 0.029063,
     "end_time": "2022-06-04T00:38:13.602049",
     "exception": false,
     "start_time": "2022-06-04T00:38:13.572986",
     "status": "completed"
    },
    "tags": []
   },
   "source": [
    "# Distinguish Your Own Digits (DYOD)"
   ]
  },
  {
   "cell_type": "markdown",
   "id": "ef31240d",
   "metadata": {
    "papermill": {
     "duration": 0.023758,
     "end_time": "2022-06-04T00:38:13.650135",
     "exception": false,
     "start_time": "2022-06-04T00:38:13.626377",
     "status": "completed"
    },
    "tags": []
   },
   "source": [
    "You are going to write a classifier that distinguishes between the number 3 and number 8."
   ]
  },
  {
   "cell_type": "code",
   "execution_count": 1,
   "id": "b15c8646",
   "metadata": {
    "execution": {
     "iopub.execute_input": "2022-06-04T00:38:13.708336Z",
     "iopub.status.busy": "2022-06-04T00:38:13.707741Z",
     "iopub.status.idle": "2022-06-04T00:38:13.717870Z",
     "shell.execute_reply": "2022-06-04T00:38:13.718344Z"
    },
    "papermill": {
     "duration": 0.044722,
     "end_time": "2022-06-04T00:38:13.718487",
     "exception": false,
     "start_time": "2022-06-04T00:38:13.673765",
     "status": "completed"
    },
    "tags": []
   },
   "outputs": [],
   "source": [
    "%load_ext autoreload\n",
    "%autoreload 2"
   ]
  },
  {
   "cell_type": "code",
   "execution_count": 2,
   "id": "22ef38dc",
   "metadata": {
    "execution": {
     "iopub.execute_input": "2022-06-04T00:38:13.770425Z",
     "iopub.status.busy": "2022-06-04T00:38:13.769777Z",
     "iopub.status.idle": "2022-06-04T00:38:14.286914Z",
     "shell.execute_reply": "2022-06-04T00:38:14.285845Z"
    },
    "papermill": {
     "duration": 0.545042,
     "end_time": "2022-06-04T00:38:14.287060",
     "exception": false,
     "start_time": "2022-06-04T00:38:13.742018",
     "status": "completed"
    },
    "tags": []
   },
   "outputs": [],
   "source": [
    "%matplotlib inline\n",
    "import numpy as np\n",
    "import matplotlib.pyplot as plt\n",
    "import pandas as pd"
   ]
  },
  {
   "cell_type": "markdown",
   "id": "ba036198",
   "metadata": {
    "papermill": {
     "duration": 0.02369,
     "end_time": "2022-06-04T00:38:14.335281",
     "exception": false,
     "start_time": "2022-06-04T00:38:14.311591",
     "status": "completed"
    },
    "tags": []
   },
   "source": [
    "From the command line run `pip install mnist`. This is a library that will help you bring down the mnist dataset. If you run this from a notebook, you need to put  `!pip install mnist` in a cell by itself."
   ]
  },
  {
   "cell_type": "code",
   "execution_count": 3,
   "id": "bb6ad8a1",
   "metadata": {
    "execution": {
     "iopub.execute_input": "2022-06-04T00:38:14.391629Z",
     "iopub.status.busy": "2022-06-04T00:38:14.386077Z",
     "iopub.status.idle": "2022-06-04T00:38:16.037369Z",
     "shell.execute_reply": "2022-06-04T00:38:16.036781Z"
    },
    "papermill": {
     "duration": 1.67855,
     "end_time": "2022-06-04T00:38:16.037501",
     "exception": false,
     "start_time": "2022-06-04T00:38:14.358951",
     "status": "completed"
    },
    "tags": []
   },
   "outputs": [
    {
     "name": "stdout",
     "output_type": "stream",
     "text": [
      "Collecting mnist\r\n"
     ]
    },
    {
     "name": "stdout",
     "output_type": "stream",
     "text": [
      "  Downloading mnist-0.2.2-py2.py3-none-any.whl (3.5 kB)\r\n",
      "Requirement already satisfied: numpy in /opt/hostedtoolcache/Python/3.6.15/x64/lib/python3.6/site-packages (from mnist) (1.19.5)\r\n"
     ]
    },
    {
     "name": "stdout",
     "output_type": "stream",
     "text": [
      "Installing collected packages: mnist\r\n"
     ]
    },
    {
     "name": "stdout",
     "output_type": "stream",
     "text": [
      "Successfully installed mnist-0.2.2\r\n"
     ]
    }
   ],
   "source": [
    "!pip install mnist"
   ]
  },
  {
   "cell_type": "markdown",
   "id": "69df9c9a",
   "metadata": {
    "papermill": {
     "duration": 0.024734,
     "end_time": "2022-06-04T00:38:16.087971",
     "exception": false,
     "start_time": "2022-06-04T00:38:16.063237",
     "status": "completed"
    },
    "tags": []
   },
   "source": [
    "## Preparing the Data"
   ]
  },
  {
   "cell_type": "code",
   "execution_count": 4,
   "id": "7f69d806",
   "metadata": {
    "execution": {
     "iopub.execute_input": "2022-06-04T00:38:16.141355Z",
     "iopub.status.busy": "2022-06-04T00:38:16.140776Z",
     "iopub.status.idle": "2022-06-04T00:38:16.155520Z",
     "shell.execute_reply": "2022-06-04T00:38:16.155041Z"
    },
    "papermill": {
     "duration": 0.043002,
     "end_time": "2022-06-04T00:38:16.155629",
     "exception": false,
     "start_time": "2022-06-04T00:38:16.112627",
     "status": "completed"
    },
    "tags": []
   },
   "outputs": [],
   "source": [
    "import mnist"
   ]
  },
  {
   "cell_type": "code",
   "execution_count": 5,
   "id": "a411e44f",
   "metadata": {
    "execution": {
     "iopub.execute_input": "2022-06-04T00:38:16.209270Z",
     "iopub.status.busy": "2022-06-04T00:38:16.208696Z",
     "iopub.status.idle": "2022-06-04T00:38:16.666902Z",
     "shell.execute_reply": "2022-06-04T00:38:16.666261Z"
    },
    "papermill": {
     "duration": 0.486057,
     "end_time": "2022-06-04T00:38:16.667047",
     "exception": false,
     "start_time": "2022-06-04T00:38:16.180990",
     "status": "completed"
    },
    "tags": []
   },
   "outputs": [],
   "source": [
    "train_images = mnist.train_images()\n",
    "train_labels = mnist.train_labels()"
   ]
  },
  {
   "cell_type": "code",
   "execution_count": 6,
   "id": "dceab3a5",
   "metadata": {
    "execution": {
     "iopub.execute_input": "2022-06-04T00:38:16.725394Z",
     "iopub.status.busy": "2022-06-04T00:38:16.724811Z",
     "iopub.status.idle": "2022-06-04T00:38:16.737119Z",
     "shell.execute_reply": "2022-06-04T00:38:16.736640Z"
    },
    "papermill": {
     "duration": 0.044402,
     "end_time": "2022-06-04T00:38:16.737229",
     "exception": false,
     "start_time": "2022-06-04T00:38:16.692827",
     "status": "completed"
    },
    "tags": []
   },
   "outputs": [
    {
     "data": {
      "text/plain": [
       "((60000, 28, 28), (60000,))"
      ]
     },
     "execution_count": 6,
     "metadata": {},
     "output_type": "execute_result"
    }
   ],
   "source": [
    "train_images.shape, train_labels.shape"
   ]
  },
  {
   "cell_type": "code",
   "execution_count": 7,
   "id": "f50dc2bb",
   "metadata": {
    "execution": {
     "iopub.execute_input": "2022-06-04T00:38:16.790679Z",
     "iopub.status.busy": "2022-06-04T00:38:16.790098Z",
     "iopub.status.idle": "2022-06-04T00:38:16.899816Z",
     "shell.execute_reply": "2022-06-04T00:38:16.899193Z"
    },
    "papermill": {
     "duration": 0.137833,
     "end_time": "2022-06-04T00:38:16.899948",
     "exception": false,
     "start_time": "2022-06-04T00:38:16.762115",
     "status": "completed"
    },
    "tags": []
   },
   "outputs": [],
   "source": [
    "test_images = mnist.test_images()\n",
    "test_labels = mnist.test_labels()"
   ]
  },
  {
   "cell_type": "code",
   "execution_count": 8,
   "id": "fc38cf1b",
   "metadata": {
    "execution": {
     "iopub.execute_input": "2022-06-04T00:38:16.955899Z",
     "iopub.status.busy": "2022-06-04T00:38:16.955326Z",
     "iopub.status.idle": "2022-06-04T00:38:16.968700Z",
     "shell.execute_reply": "2022-06-04T00:38:16.968224Z"
    },
    "papermill": {
     "duration": 0.042385,
     "end_time": "2022-06-04T00:38:16.968810",
     "exception": false,
     "start_time": "2022-06-04T00:38:16.926425",
     "status": "completed"
    },
    "tags": []
   },
   "outputs": [
    {
     "data": {
      "text/plain": [
       "((10000, 28, 28), (10000,))"
      ]
     },
     "execution_count": 8,
     "metadata": {},
     "output_type": "execute_result"
    }
   ],
   "source": [
    "test_images.shape, test_labels.shape"
   ]
  },
  {
   "cell_type": "code",
   "execution_count": 9,
   "id": "f9ed8fe0",
   "metadata": {
    "execution": {
     "iopub.execute_input": "2022-06-04T00:38:17.023315Z",
     "iopub.status.busy": "2022-06-04T00:38:17.022697Z",
     "iopub.status.idle": "2022-06-04T00:38:17.161007Z",
     "shell.execute_reply": "2022-06-04T00:38:17.160515Z"
    },
    "papermill": {
     "duration": 0.167094,
     "end_time": "2022-06-04T00:38:17.161126",
     "exception": false,
     "start_time": "2022-06-04T00:38:16.994032",
     "status": "completed"
    },
    "tags": []
   },
   "outputs": [
    {
     "name": "stdout",
     "output_type": "stream",
     "text": [
      "2\n"
     ]
    },
    {
     "data": {
      "text/plain": [
       "<matplotlib.image.AxesImage at 0x7f496d966438>"
      ]
     },
     "execution_count": 9,
     "metadata": {},
     "output_type": "execute_result"
    },
    {
     "data": {
      "image/png": "[encoded data removed]",
      "text/plain": [
       "<Figure size 432x288 with 1 Axes>"
      ]
     },
     "metadata": {
      "needs_background": "light"
     },
     "output_type": "display_data"
    }
   ],
   "source": [
    "image_index = 7776 # You may select anything up to 60,000\n",
    "print(train_labels[image_index]) \n",
    "plt.imshow(train_images[image_index], cmap='Greys')"
   ]
  },
  {
   "cell_type": "markdown",
   "id": "a8d2388d",
   "metadata": {
    "papermill": {
     "duration": 0.026394,
     "end_time": "2022-06-04T00:38:17.214029",
     "exception": false,
     "start_time": "2022-06-04T00:38:17.187635",
     "status": "completed"
    },
    "tags": []
   },
   "source": [
    "## Filter data to get 3 and 8 out"
   ]
  },
  {
   "cell_type": "code",
   "execution_count": 10,
   "id": "776f7fc7",
   "metadata": {
    "execution": {
     "iopub.execute_input": "2022-06-04T00:38:17.271174Z",
     "iopub.status.busy": "2022-06-04T00:38:17.270554Z",
     "iopub.status.idle": "2022-06-04T00:38:17.289412Z",
     "shell.execute_reply": "2022-06-04T00:38:17.288926Z"
    },
    "papermill": {
     "duration": 0.049221,
     "end_time": "2022-06-04T00:38:17.289527",
     "exception": false,
     "start_time": "2022-06-04T00:38:17.240306",
     "status": "completed"
    },
    "tags": []
   },
   "outputs": [],
   "source": [
    "train_filter = np.where((train_labels == 3 ) | (train_labels == 8))\n",
    "test_filter = np.where((test_labels == 3) | (test_labels == 8))\n",
    "X_train, y_train = train_images[train_filter], train_labels[train_filter]\n",
    "X_test, y_test = test_images[test_filter], test_labels[test_filter]"
   ]
  },
  {
   "cell_type": "markdown",
   "id": "948f0b7e",
   "metadata": {
    "papermill": {
     "duration": 0.02625,
     "end_time": "2022-06-04T00:38:17.342167",
     "exception": false,
     "start_time": "2022-06-04T00:38:17.315917",
     "status": "completed"
    },
    "tags": []
   },
   "source": [
    "We normalize the pizel values in the 0 to 1 range"
   ]
  },
  {
   "cell_type": "code",
   "execution_count": 11,
   "id": "ee4c2166",
   "metadata": {
    "execution": {
     "iopub.execute_input": "2022-06-04T00:38:17.398096Z",
     "iopub.status.busy": "2022-06-04T00:38:17.397462Z",
     "iopub.status.idle": "2022-06-04T00:38:17.446125Z",
     "shell.execute_reply": "2022-06-04T00:38:17.445571Z"
    },
    "papermill": {
     "duration": 0.077954,
     "end_time": "2022-06-04T00:38:17.446246",
     "exception": false,
     "start_time": "2022-06-04T00:38:17.368292",
     "status": "completed"
    },
    "tags": []
   },
   "outputs": [],
   "source": [
    "X_train = X_train/255.\n",
    "X_test = X_test/255."
   ]
  },
  {
   "cell_type": "markdown",
   "id": "ddcf4fab",
   "metadata": {
    "papermill": {
     "duration": 0.026159,
     "end_time": "2022-06-04T00:38:17.498953",
     "exception": false,
     "start_time": "2022-06-04T00:38:17.472794",
     "status": "completed"
    },
    "tags": []
   },
   "source": [
    "And setup the labels as 1 (when the digit is 3) and 0 (when the digit is 8)"
   ]
  },
  {
   "cell_type": "code",
   "execution_count": 12,
   "id": "7dc908f2",
   "metadata": {
    "execution": {
     "iopub.execute_input": "2022-06-04T00:38:17.555163Z",
     "iopub.status.busy": "2022-06-04T00:38:17.554544Z",
     "iopub.status.idle": "2022-06-04T00:38:17.567099Z",
     "shell.execute_reply": "2022-06-04T00:38:17.566599Z"
    },
    "papermill": {
     "duration": 0.042026,
     "end_time": "2022-06-04T00:38:17.567212",
     "exception": false,
     "start_time": "2022-06-04T00:38:17.525186",
     "status": "completed"
    },
    "tags": []
   },
   "outputs": [],
   "source": [
    "y_train = 1*(y_train==3)\n",
    "y_test = 1*(y_test==3)"
   ]
  },
  {
   "cell_type": "code",
   "execution_count": 13,
   "id": "01e4e969",
   "metadata": {
    "execution": {
     "iopub.execute_input": "2022-06-04T00:38:17.637839Z",
     "iopub.status.busy": "2022-06-04T00:38:17.635926Z",
     "iopub.status.idle": "2022-06-04T00:38:17.640902Z",
     "shell.execute_reply": "2022-06-04T00:38:17.641334Z"
    },
    "papermill": {
     "duration": 0.048107,
     "end_time": "2022-06-04T00:38:17.641467",
     "exception": false,
     "start_time": "2022-06-04T00:38:17.593360",
     "status": "completed"
    },
    "tags": []
   },
   "outputs": [
    {
     "data": {
      "text/plain": [
       "((11982, 28, 28), (1984, 28, 28))"
      ]
     },
     "execution_count": 13,
     "metadata": {},
     "output_type": "execute_result"
    }
   ],
   "source": [
    "X_train.shape, X_test.shape"
   ]
  },
  {
   "cell_type": "markdown",
   "id": "5ccf3f85",
   "metadata": {
    "papermill": {
     "duration": 0.026381,
     "end_time": "2022-06-04T00:38:17.694221",
     "exception": false,
     "start_time": "2022-06-04T00:38:17.667840",
     "status": "completed"
    },
    "tags": []
   },
   "source": [
    "We reshape the data to flatten the image pixels into a set of features or co-variates:"
   ]
  },
  {
   "cell_type": "code",
   "execution_count": 14,
   "id": "5286a4a3",
   "metadata": {
    "execution": {
     "iopub.execute_input": "2022-06-04T00:38:17.751485Z",
     "iopub.status.busy": "2022-06-04T00:38:17.750709Z",
     "iopub.status.idle": "2022-06-04T00:38:17.764373Z",
     "shell.execute_reply": "2022-06-04T00:38:17.763785Z"
    },
    "papermill": {
     "duration": 0.043772,
     "end_time": "2022-06-04T00:38:17.764486",
     "exception": false,
     "start_time": "2022-06-04T00:38:17.720714",
     "status": "completed"
    },
    "tags": []
   },
   "outputs": [
    {
     "data": {
      "text/plain": [
       "((11982, 784), (1984, 784))"
      ]
     },
     "execution_count": 14,
     "metadata": {},
     "output_type": "execute_result"
    }
   ],
   "source": [
    "X_train = X_train.reshape(X_train.shape[0], -1)\n",
    "X_test = X_test.reshape(X_test.shape[0], -1)\n",
    "X_train.shape, X_test.shape"
   ]
  },
  {
   "cell_type": "code",
   "execution_count": 15,
   "id": "73c5f88a",
   "metadata": {
    "execution": {
     "iopub.execute_input": "2022-06-04T00:38:17.822481Z",
     "iopub.status.busy": "2022-06-04T00:38:17.821891Z",
     "iopub.status.idle": "2022-06-04T00:38:17.840944Z",
     "shell.execute_reply": "2022-06-04T00:38:17.840443Z"
    },
    "papermill": {
     "duration": 0.049759,
     "end_time": "2022-06-04T00:38:17.841059",
     "exception": false,
     "start_time": "2022-06-04T00:38:17.791300",
     "status": "completed"
    },
    "tags": []
   },
   "outputs": [],
   "source": [
    "#Impoting functions from 'Kudzu'\n",
    "from kudzu.model import Model\n",
    "from kudzu.train import Learner\n",
    "from kudzu.optim import GD\n",
    "from kudzu.data import Data, Sampler,Dataloader\n",
    "\n",
    "from kudzu.callbacks import AccCallback\n",
    "from kudzu.callbacks import ClfCallback\n",
    "\n",
    "from kudzu.loss import MSE\n",
    "\n",
    "from kudzu.layer import Sigmoid,Relu\n",
    "from kudzu.layer import Affine"
   ]
  },
  {
   "cell_type": "markdown",
   "id": "bc01172a",
   "metadata": {
    "papermill": {
     "duration": 0.026741,
     "end_time": "2022-06-04T00:38:17.894887",
     "exception": false,
     "start_time": "2022-06-04T00:38:17.868146",
     "status": "completed"
    },
    "tags": []
   },
   "source": [
    "### Let us create a `Config` class, to store important parameters. \n",
    "This class essentially plays the role of a dictionary."
   ]
  },
  {
   "cell_type": "code",
   "execution_count": 16,
   "id": "978281aa",
   "metadata": {
    "execution": {
     "iopub.execute_input": "2022-06-04T00:38:17.952717Z",
     "iopub.status.busy": "2022-06-04T00:38:17.952119Z",
     "iopub.status.idle": "2022-06-04T00:38:17.964811Z",
     "shell.execute_reply": "2022-06-04T00:38:17.964336Z"
    },
    "papermill": {
     "duration": 0.043162,
     "end_time": "2022-06-04T00:38:17.964919",
     "exception": false,
     "start_time": "2022-06-04T00:38:17.921757",
     "status": "completed"
    },
    "tags": []
   },
   "outputs": [],
   "source": [
    "class Config:\n",
    "    pass\n",
    "config = Config()\n",
    "config.lr = 0.001\n",
    "config.num_epochs = 250\n",
    "config.bs = 50"
   ]
  },
  {
   "cell_type": "markdown",
   "id": "1385fa59",
   "metadata": {
    "papermill": {
     "duration": 0.026593,
     "end_time": "2022-06-04T00:38:18.018326",
     "exception": false,
     "start_time": "2022-06-04T00:38:17.991733",
     "status": "completed"
    },
    "tags": []
   },
   "source": [
    "### Running Models with the Training data\n",
    "Details about the network layers:\n",
    "- A first affine layer has 784 inputs and does 100 affine transforms. These are followed by a Relu\n",
    "- A second affine layer has 100 inputs from the 100 activations of the past layer, and does 100 affine transforms. These are followed by a Relu\n",
    "- A third affine layer has 100 activations and does 2 affine transformations to create an embedding for visualization. There is no non-linearity here.\n",
    "- A final \"logistic regression\" which has an affine transform from 2 inputs to 1 output, which is squeezed through a sigmoid.\n"
   ]
  },
  {
   "cell_type": "code",
   "execution_count": 17,
   "id": "2b9c66db",
   "metadata": {
    "execution": {
     "iopub.execute_input": "2022-06-04T00:38:18.076184Z",
     "iopub.status.busy": "2022-06-04T00:38:18.075560Z",
     "iopub.status.idle": "2022-06-04T00:38:18.088277Z",
     "shell.execute_reply": "2022-06-04T00:38:18.087798Z"
    },
    "papermill": {
     "duration": 0.043357,
     "end_time": "2022-06-04T00:38:18.088389",
     "exception": false,
     "start_time": "2022-06-04T00:38:18.045032",
     "status": "completed"
    },
    "tags": []
   },
   "outputs": [],
   "source": [
    "data = Data(X_train, y_train.reshape(-1,1))\n",
    "sampler = Sampler(data, config.bs, shuffle=True)\n",
    "\n",
    "dl = Dataloader(data, sampler)\n",
    "\n",
    "opt = GD(config.lr)\n",
    "loss = MSE()"
   ]
  },
  {
   "cell_type": "code",
   "execution_count": 18,
   "id": "b275e4c2",
   "metadata": {
    "execution": {
     "iopub.execute_input": "2022-06-04T00:38:18.149284Z",
     "iopub.status.busy": "2022-06-04T00:38:18.148706Z",
     "iopub.status.idle": "2022-06-04T00:38:18.158853Z",
     "shell.execute_reply": "2022-06-04T00:38:18.158359Z"
    },
    "papermill": {
     "duration": 0.043681,
     "end_time": "2022-06-04T00:38:18.158963",
     "exception": false,
     "start_time": "2022-06-04T00:38:18.115282",
     "status": "completed"
    },
    "tags": []
   },
   "outputs": [],
   "source": [
    "training_data_x = X_train\n",
    "testing_data_x = X_test\n",
    "training_data_y = y_train.reshape(-1,1)\n",
    "testing_data_y = y_test.reshape(-1,1)"
   ]
  },
  {
   "cell_type": "code",
   "execution_count": 19,
   "id": "76951160",
   "metadata": {
    "execution": {
     "iopub.execute_input": "2022-06-04T00:38:18.216755Z",
     "iopub.status.busy": "2022-06-04T00:38:18.216166Z",
     "iopub.status.idle": "2022-06-04T00:38:18.232126Z",
     "shell.execute_reply": "2022-06-04T00:38:18.232597Z"
    },
    "papermill": {
     "duration": 0.047122,
     "end_time": "2022-06-04T00:38:18.232721",
     "exception": false,
     "start_time": "2022-06-04T00:38:18.185599",
     "status": "completed"
    },
    "tags": []
   },
   "outputs": [
    {
     "name": "stdout",
     "output_type": "stream",
     "text": [
      "xavier\n",
      "xavier\n",
      "xavier\n",
      "xavier\n",
      "xavier\n"
     ]
    }
   ],
   "source": [
    "layers = [Affine(\"first\", 784, 100), Relu(\"first\"), Affine(\"second\", 100, 100), Relu(\"second\"), Affine(\"third\", 100, 2), Affine(\"last\", 2, 1), Sigmoid(\"last\")]\n",
    "model_nn = Model(layers)\n",
    "model_lr = Model([Affine(\"logits\", 784, 1), Sigmoid(\"sigmoid\")])"
   ]
  },
  {
   "cell_type": "code",
   "execution_count": 20,
   "id": "6eede77a",
   "metadata": {
    "execution": {
     "iopub.execute_input": "2022-06-04T00:38:18.290548Z",
     "iopub.status.busy": "2022-06-04T00:38:18.289968Z",
     "iopub.status.idle": "2022-06-04T00:38:18.302135Z",
     "shell.execute_reply": "2022-06-04T00:38:18.301660Z"
    },
    "papermill": {
     "duration": 0.042481,
     "end_time": "2022-06-04T00:38:18.302244",
     "exception": false,
     "start_time": "2022-06-04T00:38:18.259763",
     "status": "completed"
    },
    "tags": []
   },
   "outputs": [],
   "source": [
    "nn_learner = Learner(loss, model_nn, opt, config.num_epochs)\n",
    "acc_nn = ClfCallback(nn_learner, config.bs, training_data_x , testing_data_x, training_data_y, testing_data_y)\n",
    "nn_learner.set_callbacks([acc_nn])"
   ]
  },
  {
   "cell_type": "code",
   "execution_count": 21,
   "id": "877b6cc7",
   "metadata": {
    "execution": {
     "iopub.execute_input": "2022-06-04T00:38:18.359963Z",
     "iopub.status.busy": "2022-06-04T00:38:18.359383Z",
     "iopub.status.idle": "2022-06-04T00:38:18.371038Z",
     "shell.execute_reply": "2022-06-04T00:38:18.371520Z"
    },
    "papermill": {
     "duration": 0.042405,
     "end_time": "2022-06-04T00:38:18.371646",
     "exception": false,
     "start_time": "2022-06-04T00:38:18.329241",
     "status": "completed"
    },
    "tags": []
   },
   "outputs": [],
   "source": [
    "lr_learner = Learner(loss, model_lr, opt, config.num_epochs)\n",
    "acc_lr = ClfCallback(lr_learner, config.bs, training_data_x , testing_data_x, training_data_y, testing_data_y)\n",
    "lr_learner.set_callbacks([acc_lr])"
   ]
  },
  {
   "cell_type": "code",
   "execution_count": 22,
   "id": "d9b133c3",
   "metadata": {
    "execution": {
     "iopub.execute_input": "2022-06-04T00:38:18.439511Z",
     "iopub.status.busy": "2022-06-04T00:38:18.434690Z",
     "iopub.status.idle": "2022-06-04T00:39:32.517203Z",
     "shell.execute_reply": "2022-06-04T00:39:32.518032Z"
    },
    "papermill": {
     "duration": 74.119349,
     "end_time": "2022-06-04T00:39:32.518174",
     "exception": false,
     "start_time": "2022-06-04T00:38:18.398825",
     "status": "completed"
    },
    "tags": []
   },
   "outputs": [
    {
     "name": "stdout",
     "output_type": "stream",
     "text": [
      "Epoch 0, Loss 0.225\n",
      "Training Accuracy: 0.7566, Testing Accuracy: 0.7490\n",
      "\n"
     ]
    },
    {
     "name": "stdout",
     "output_type": "stream",
     "text": [
      "Epoch 10, Loss 0.0591\n",
      "Training Accuracy: 0.9406, Testing Accuracy: 0.9476\n",
      "\n"
     ]
    },
    {
     "name": "stdout",
     "output_type": "stream",
     "text": [
      "Epoch 20, Loss 0.0424\n",
      "Training Accuracy: 0.9538, Testing Accuracy: 0.9587\n",
      "\n"
     ]
    },
    {
     "name": "stdout",
     "output_type": "stream",
     "text": [
      "Epoch 30, Loss 0.0358\n",
      "Training Accuracy: 0.9599, Testing Accuracy: 0.9657\n",
      "\n"
     ]
    },
    {
     "name": "stdout",
     "output_type": "stream",
     "text": [
      "Epoch 40, Loss 0.0321\n",
      "Training Accuracy: 0.9634, Testing Accuracy: 0.9688\n",
      "\n"
     ]
    },
    {
     "name": "stdout",
     "output_type": "stream",
     "text": [
      "Epoch 50, Loss 0.0296\n",
      "Training Accuracy: 0.9661, Testing Accuracy: 0.9693\n",
      "\n"
     ]
    },
    {
     "name": "stdout",
     "output_type": "stream",
     "text": [
      "Epoch 60, Loss 0.0278\n",
      "Training Accuracy: 0.9681, Testing Accuracy: 0.9708\n",
      "\n"
     ]
    },
    {
     "name": "stdout",
     "output_type": "stream",
     "text": [
      "Epoch 70, Loss 0.0263\n",
      "Training Accuracy: 0.9699, Testing Accuracy: 0.9723\n",
      "\n"
     ]
    },
    {
     "name": "stdout",
     "output_type": "stream",
     "text": [
      "Epoch 80, Loss 0.0251\n",
      "Training Accuracy: 0.9718, Testing Accuracy: 0.9738\n",
      "\n"
     ]
    },
    {
     "name": "stdout",
     "output_type": "stream",
     "text": [
      "Epoch 90, Loss 0.0241\n",
      "Training Accuracy: 0.9739, Testing Accuracy: 0.9733\n",
      "\n"
     ]
    },
    {
     "name": "stdout",
     "output_type": "stream",
     "text": [
      "Epoch 100, Loss 0.0232\n",
      "Training Accuracy: 0.9749, Testing Accuracy: 0.9733\n",
      "\n"
     ]
    },
    {
     "name": "stdout",
     "output_type": "stream",
     "text": [
      "Epoch 110, Loss 0.0224\n",
      "Training Accuracy: 0.9753, Testing Accuracy: 0.9738\n",
      "\n"
     ]
    },
    {
     "name": "stdout",
     "output_type": "stream",
     "text": [
      "Epoch 120, Loss 0.0217\n",
      "Training Accuracy: 0.9759, Testing Accuracy: 0.9728\n",
      "\n"
     ]
    },
    {
     "name": "stdout",
     "output_type": "stream",
     "text": [
      "Epoch 130, Loss 0.0211\n",
      "Training Accuracy: 0.9769, Testing Accuracy: 0.9743\n",
      "\n"
     ]
    },
    {
     "name": "stdout",
     "output_type": "stream",
     "text": [
      "Epoch 140, Loss 0.0205\n",
      "Training Accuracy: 0.9772, Testing Accuracy: 0.9743\n",
      "\n"
     ]
    },
    {
     "name": "stdout",
     "output_type": "stream",
     "text": [
      "Epoch 150, Loss 0.0199\n",
      "Training Accuracy: 0.9786, Testing Accuracy: 0.9743\n",
      "\n"
     ]
    },
    {
     "name": "stdout",
     "output_type": "stream",
     "text": [
      "Epoch 160, Loss 0.0194\n",
      "Training Accuracy: 0.9793, Testing Accuracy: 0.9743\n",
      "\n"
     ]
    },
    {
     "name": "stdout",
     "output_type": "stream",
     "text": [
      "Epoch 170, Loss 0.0189\n",
      "Training Accuracy: 0.9795, Testing Accuracy: 0.9738\n",
      "\n"
     ]
    },
    {
     "name": "stdout",
     "output_type": "stream",
     "text": [
      "Epoch 180, Loss 0.0184\n",
      "Training Accuracy: 0.9801, Testing Accuracy: 0.9748\n",
      "\n"
     ]
    },
    {
     "name": "stdout",
     "output_type": "stream",
     "text": [
      "Epoch 190, Loss 0.018\n",
      "Training Accuracy: 0.9804, Testing Accuracy: 0.9758\n",
      "\n"
     ]
    },
    {
     "name": "stdout",
     "output_type": "stream",
     "text": [
      "Epoch 200, Loss 0.0175\n",
      "Training Accuracy: 0.9809, Testing Accuracy: 0.9763\n",
      "\n"
     ]
    },
    {
     "name": "stdout",
     "output_type": "stream",
     "text": [
      "Epoch 210, Loss 0.0171\n",
      "Training Accuracy: 0.9812, Testing Accuracy: 0.9763\n",
      "\n"
     ]
    },
    {
     "name": "stdout",
     "output_type": "stream",
     "text": [
      "Epoch 220, Loss 0.0167\n",
      "Training Accuracy: 0.9818, Testing Accuracy: 0.9763\n",
      "\n"
     ]
    },
    {
     "name": "stdout",
     "output_type": "stream",
     "text": [
      "Epoch 230, Loss 0.0163\n",
      "Training Accuracy: 0.9823, Testing Accuracy: 0.9768\n",
      "\n"
     ]
    },
    {
     "name": "stdout",
     "output_type": "stream",
     "text": [
      "Epoch 240, Loss 0.016\n",
      "Training Accuracy: 0.9826, Testing Accuracy: 0.9773\n",
      "\n"
     ]
    },
    {
     "data": {
      "text/plain": [
       "0.003680891802625788"
      ]
     },
     "execution_count": 22,
     "metadata": {},
     "output_type": "execute_result"
    }
   ],
   "source": [
    "nn_learner.train_loop(dl)"
   ]
  },
  {
   "cell_type": "code",
   "execution_count": 23,
   "id": "e0163366",
   "metadata": {
    "execution": {
     "iopub.execute_input": "2022-06-04T00:39:32.596711Z",
     "iopub.status.busy": "2022-06-04T00:39:32.596137Z",
     "iopub.status.idle": "2022-06-04T00:39:45.665944Z",
     "shell.execute_reply": "2022-06-04T00:39:45.666822Z"
    },
    "papermill": {
     "duration": 13.113228,
     "end_time": "2022-06-04T00:39:45.666976",
     "exception": false,
     "start_time": "2022-06-04T00:39:32.553748",
     "status": "completed"
    },
    "tags": []
   },
   "outputs": [
    {
     "name": "stdout",
     "output_type": "stream",
     "text": [
      "Epoch 0, Loss 0.247\n",
      "Training Accuracy: 0.6684, Testing Accuracy: 0.6966\n",
      "\n"
     ]
    },
    {
     "name": "stdout",
     "output_type": "stream",
     "text": [
      "Epoch 10, Loss 0.1026\n",
      "Training Accuracy: 0.9125, Testing Accuracy: 0.9234\n",
      "\n"
     ]
    },
    {
     "name": "stdout",
     "output_type": "stream",
     "text": [
      "Epoch 20, Loss 0.0786\n",
      "Training Accuracy: 0.9290, Testing Accuracy: 0.9365\n",
      "\n"
     ]
    },
    {
     "name": "stdout",
     "output_type": "stream",
     "text": [
      "Epoch 30, Loss 0.0678\n",
      "Training Accuracy: 0.9374, Testing Accuracy: 0.9481\n",
      "\n"
     ]
    },
    {
     "name": "stdout",
     "output_type": "stream",
     "text": [
      "Epoch 40, Loss 0.0613\n",
      "Training Accuracy: 0.9415, Testing Accuracy: 0.9521\n",
      "\n"
     ]
    },
    {
     "name": "stdout",
     "output_type": "stream",
     "text": [
      "Epoch 50, Loss 0.0568\n",
      "Training Accuracy: 0.9450, Testing Accuracy: 0.9561\n",
      "\n"
     ]
    },
    {
     "name": "stdout",
     "output_type": "stream",
     "text": [
      "Epoch 60, Loss 0.0536\n",
      "Training Accuracy: 0.9470, Testing Accuracy: 0.9582\n",
      "\n"
     ]
    },
    {
     "name": "stdout",
     "output_type": "stream",
     "text": [
      "Epoch 70, Loss 0.0511\n",
      "Training Accuracy: 0.9487, Testing Accuracy: 0.9607\n",
      "\n"
     ]
    },
    {
     "name": "stdout",
     "output_type": "stream",
     "text": [
      "Epoch 80, Loss 0.0491\n",
      "Training Accuracy: 0.9500, Testing Accuracy: 0.9612\n",
      "\n"
     ]
    },
    {
     "name": "stdout",
     "output_type": "stream",
     "text": [
      "Epoch 90, Loss 0.0474\n",
      "Training Accuracy: 0.9520, Testing Accuracy: 0.9597\n",
      "\n"
     ]
    },
    {
     "name": "stdout",
     "output_type": "stream",
     "text": [
      "Epoch 100, Loss 0.046\n",
      "Training Accuracy: 0.9527, Testing Accuracy: 0.9607\n",
      "\n"
     ]
    },
    {
     "name": "stdout",
     "output_type": "stream",
     "text": [
      "Epoch 110, Loss 0.0448\n",
      "Training Accuracy: 0.9538, Testing Accuracy: 0.9617\n",
      "\n"
     ]
    },
    {
     "name": "stdout",
     "output_type": "stream",
     "text": [
      "Epoch 120, Loss 0.0438\n",
      "Training Accuracy: 0.9549, Testing Accuracy: 0.9627\n",
      "\n"
     ]
    },
    {
     "name": "stdout",
     "output_type": "stream",
     "text": [
      "Epoch 130, Loss 0.0428\n",
      "Training Accuracy: 0.9555, Testing Accuracy: 0.9642\n",
      "\n"
     ]
    },
    {
     "name": "stdout",
     "output_type": "stream",
     "text": [
      "Epoch 140, Loss 0.042\n",
      "Training Accuracy: 0.9560, Testing Accuracy: 0.9637\n",
      "\n"
     ]
    },
    {
     "name": "stdout",
     "output_type": "stream",
     "text": [
      "Epoch 150, Loss 0.0413\n",
      "Training Accuracy: 0.9565, Testing Accuracy: 0.9642\n",
      "\n"
     ]
    },
    {
     "name": "stdout",
     "output_type": "stream",
     "text": [
      "Epoch 160, Loss 0.0406\n",
      "Training Accuracy: 0.9570, Testing Accuracy: 0.9647\n",
      "\n"
     ]
    },
    {
     "name": "stdout",
     "output_type": "stream",
     "text": [
      "Epoch 170, Loss 0.04\n",
      "Training Accuracy: 0.9575, Testing Accuracy: 0.9647\n",
      "\n"
     ]
    },
    {
     "name": "stdout",
     "output_type": "stream",
     "text": [
      "Epoch 180, Loss 0.0394\n",
      "Training Accuracy: 0.9578, Testing Accuracy: 0.9647\n",
      "\n"
     ]
    },
    {
     "name": "stdout",
     "output_type": "stream",
     "text": [
      "Epoch 190, Loss 0.0389\n",
      "Training Accuracy: 0.9582, Testing Accuracy: 0.9647\n",
      "\n"
     ]
    },
    {
     "name": "stdout",
     "output_type": "stream",
     "text": [
      "Epoch 200, Loss 0.0385\n",
      "Training Accuracy: 0.9592, Testing Accuracy: 0.9652\n",
      "\n"
     ]
    },
    {
     "name": "stdout",
     "output_type": "stream",
     "text": [
      "Epoch 210, Loss 0.038\n",
      "Training Accuracy: 0.9597, Testing Accuracy: 0.9652\n",
      "\n"
     ]
    },
    {
     "name": "stdout",
     "output_type": "stream",
     "text": [
      "Epoch 220, Loss 0.0376\n",
      "Training Accuracy: 0.9601, Testing Accuracy: 0.9657\n",
      "\n"
     ]
    },
    {
     "name": "stdout",
     "output_type": "stream",
     "text": [
      "Epoch 230, Loss 0.0372\n",
      "Training Accuracy: 0.9609, Testing Accuracy: 0.9657\n",
      "\n"
     ]
    },
    {
     "name": "stdout",
     "output_type": "stream",
     "text": [
      "Epoch 240, Loss 0.0369\n",
      "Training Accuracy: 0.9613, Testing Accuracy: 0.9662\n",
      "\n"
     ]
    },
    {
     "data": {
      "text/plain": [
       "0.04640605985994035"
      ]
     },
     "execution_count": 23,
     "metadata": {},
     "output_type": "execute_result"
    }
   ],
   "source": [
    "lr_learner.train_loop(dl)"
   ]
  },
  {
   "cell_type": "code",
   "execution_count": 24,
   "id": "ca410940",
   "metadata": {
    "execution": {
     "iopub.execute_input": "2022-06-04T00:39:45.764320Z",
     "iopub.status.busy": "2022-06-04T00:39:45.763725Z",
     "iopub.status.idle": "2022-06-04T00:39:45.979884Z",
     "shell.execute_reply": "2022-06-04T00:39:45.979359Z"
    },
    "papermill": {
     "duration": 0.271485,
     "end_time": "2022-06-04T00:39:45.980005",
     "exception": false,
     "start_time": "2022-06-04T00:39:45.708520",
     "status": "completed"
    },
    "tags": []
   },
   "outputs": [
    {
     "data": {
      "text/plain": [
       "<matplotlib.legend.Legend at 0x7f496d4c6710>"
      ]
     },
     "execution_count": 24,
     "metadata": {},
     "output_type": "execute_result"
    },
    {
     "data": {
      "image/png": "[encoded data removed]",
      "text/plain": [
       "<Figure size 1080x720 with 1 Axes>"
      ]
     },
     "metadata": {
      "needs_background": "light"
     },
     "output_type": "display_data"
    }
   ],
   "source": [
    "#comparing the results of NN and LR\n",
    "plt.figure(figsize=(15,10))\n",
    "\n",
    "# Neural Network plots\n",
    "plt.plot(acc_nn.accuracies, 'r-', label = \"Training Accuracies - NN\")\n",
    "plt.plot(acc_nn.test_accuracies, 'g-', label = \"Testing Accuracies - NN\")\n",
    "\n",
    "# Logistic Regression plots\n",
    "plt.plot(acc_lr.accuracies, 'k-', label = \"Training Accuracies - LR\")\n",
    "plt.plot(acc_lr.test_accuracies, 'b-', label = \"Testing Accuracies - LR\")\n",
    "plt.legend()"
   ]
  },
  {
   "cell_type": "markdown",
   "id": "80dfb35c",
   "metadata": {
    "papermill": {
     "duration": 0.041993,
     "end_time": "2022-06-04T00:39:46.064306",
     "exception": false,
     "start_time": "2022-06-04T00:39:46.022313",
     "status": "completed"
    },
    "tags": []
   },
   "source": [
    "#### Plotting the outputs of this layer of the NN.\n"
   ]
  },
  {
   "cell_type": "code",
   "execution_count": 25,
   "id": "45eb2ff5",
   "metadata": {
    "execution": {
     "iopub.execute_input": "2022-06-04T00:39:46.164767Z",
     "iopub.status.busy": "2022-06-04T00:39:46.163892Z",
     "iopub.status.idle": "2022-06-04T00:39:46.177242Z",
     "shell.execute_reply": "2022-06-04T00:39:46.178038Z"
    },
    "papermill": {
     "duration": 0.072097,
     "end_time": "2022-06-04T00:39:46.178174",
     "exception": false,
     "start_time": "2022-06-04T00:39:46.106077",
     "status": "completed"
    },
    "tags": []
   },
   "outputs": [],
   "source": [
    "new_model = Model(layers[:-2])\n",
    "testing_plot = new_model(testing_data_x)"
   ]
  },
  {
   "cell_type": "code",
   "execution_count": 26,
   "id": "4c0a5485",
   "metadata": {
    "execution": {
     "iopub.execute_input": "2022-06-04T00:39:46.267802Z",
     "iopub.status.busy": "2022-06-04T00:39:46.267224Z",
     "iopub.status.idle": "2022-06-04T00:39:46.488800Z",
     "shell.execute_reply": "2022-06-04T00:39:46.489254Z"
    },
    "papermill": {
     "duration": 0.269172,
     "end_time": "2022-06-04T00:39:46.489397",
     "exception": false,
     "start_time": "2022-06-04T00:39:46.220225",
     "status": "completed"
    },
    "tags": []
   },
   "outputs": [
    {
     "data": {
      "text/plain": [
       "Text(0.5, 1.0, 'Outputs')"
      ]
     },
     "execution_count": 26,
     "metadata": {},
     "output_type": "execute_result"
    },
    {
     "data": {
      "image/png": "[encoded data removed]",
      "text/plain": [
       "<Figure size 576x504 with 1 Axes>"
      ]
     },
     "metadata": {
      "needs_background": "light"
     },
     "output_type": "display_data"
    }
   ],
   "source": [
    "# Plotting the scatter plot of points and color coding by class\n",
    "plt.figure(figsize=(8,7))\n",
    "plt.scatter(testing_plot[:,0], testing_plot[:,1], alpha = 0.1, c = y_test.ravel());\n",
    "plt.title('Outputs')"
   ]
  },
  {
   "cell_type": "markdown",
   "id": "a74fcf8f",
   "metadata": {
    "papermill": {
     "duration": 0.045756,
     "end_time": "2022-06-04T00:39:46.580268",
     "exception": false,
     "start_time": "2022-06-04T00:39:46.534512",
     "status": "completed"
    },
    "tags": []
   },
   "source": [
    "Probability contours"
   ]
  },
  {
   "cell_type": "code",
   "execution_count": 27,
   "id": "d0afc8e3",
   "metadata": {
    "execution": {
     "iopub.execute_input": "2022-06-04T00:39:46.711527Z",
     "iopub.status.busy": "2022-06-04T00:39:46.707473Z",
     "iopub.status.idle": "2022-06-04T00:39:46.715951Z",
     "shell.execute_reply": "2022-06-04T00:39:46.716398Z"
    },
    "papermill": {
     "duration": 0.091245,
     "end_time": "2022-06-04T00:39:46.716519",
     "exception": false,
     "start_time": "2022-06-04T00:39:46.625274",
     "status": "completed"
    },
    "tags": []
   },
   "outputs": [],
   "source": [
    "model_prob = Model(layers[-2:]) "
   ]
  },
  {
   "cell_type": "code",
   "execution_count": 28,
   "id": "9b96e238",
   "metadata": {
    "execution": {
     "iopub.execute_input": "2022-06-04T00:39:46.819498Z",
     "iopub.status.busy": "2022-06-04T00:39:46.810799Z",
     "iopub.status.idle": "2022-06-04T00:39:46.827467Z",
     "shell.execute_reply": "2022-06-04T00:39:46.826910Z"
    },
    "papermill": {
     "duration": 0.066068,
     "end_time": "2022-06-04T00:39:46.827579",
     "exception": false,
     "start_time": "2022-06-04T00:39:46.761511",
     "status": "completed"
    },
    "tags": []
   },
   "outputs": [],
   "source": [
    "#creating the x and y ranges according to the above generated plot.\n",
    "x_range = np.linspace(-4, 1, 100) \n",
    "y_range = np.linspace(-6, 6, 100) \n",
    "x_grid, y_grid = np.meshgrid(x_range, y_range) # x_grid and y_grig are of size 100 X 100\n",
    "\n",
    "# converting x_grid and y_grid to continuous arrays\n",
    "x_gridflat = np.ravel(x_grid)\n",
    "y_gridflat = np.ravel(y_grid)\n",
    "\n",
    "# The last layer of the current model takes two columns as input. Hence transpose of np.vstack() is required.\n",
    "X = np.vstack((x_gridflat, y_gridflat)).T\n",
    "\n",
    "prob_contour = model_prob(X).reshape(100,100) "
   ]
  },
  {
   "cell_type": "code",
   "execution_count": 29,
   "id": "da72499a",
   "metadata": {
    "execution": {
     "iopub.execute_input": "2022-06-04T00:39:46.935212Z",
     "iopub.status.busy": "2022-06-04T00:39:46.934602Z",
     "iopub.status.idle": "2022-06-04T00:39:47.168925Z",
     "shell.execute_reply": "2022-06-04T00:39:47.168420Z"
    },
    "papermill": {
     "duration": 0.284881,
     "end_time": "2022-06-04T00:39:47.169045",
     "exception": false,
     "start_time": "2022-06-04T00:39:46.884164",
     "status": "completed"
    },
    "tags": []
   },
   "outputs": [
    {
     "data": {
      "image/png": "[encoded data removed]",
      "text/plain": [
       "<Figure size 720x648 with 1 Axes>"
      ]
     },
     "metadata": {
      "needs_background": "light"
     },
     "output_type": "display_data"
    }
   ],
   "source": [
    "plt.figure(figsize=(10,9))\n",
    "plt.scatter(testing_plot[:,0], testing_plot[:,1], alpha = 0.1, c = y_test.ravel())\n",
    "contours = plt.contour(x_grid,y_grid,prob_contour)\n",
    "plt.title('Probability Contours')\n",
    "plt.clabel(contours, inline = True );"
   ]
  },
  {
   "cell_type": "code",
   "execution_count": null,
   "id": "e81b4ac7",
   "metadata": {
    "papermill": {
     "duration": 0.047654,
     "end_time": "2022-06-04T00:39:47.264959",
     "exception": false,
     "start_time": "2022-06-04T00:39:47.217305",
     "status": "completed"
    },
    "tags": []
   },
   "outputs": [],
   "source": []
  }
 ],
 "metadata": {
  "kernelspec": {
   "display_name": "Python 3",
   "language": "python",
   "name": "python3"
  },
  "language_info": {
   "codemirror_mode": {
    "name": "ipython",
    "version": 3
   },
   "file_extension": ".py",
   "mimetype": "text/x-python",
   "name": "python",
   "nbconvert_exporter": "python",
   "pygments_lexer": "ipython3",
   "version": "3.6.15"
  },
  "papermill": {
   "default_parameters": {},
   "duration": 95.083399,
   "end_time": "2022-06-04T00:39:47.731894",
   "environment_variables": {},
   "exception": null,
   "input_path": "2020-08-11-part2.ipynb",
   "output_path": "2020-08-11-part2.ipynb",
   "parameters": {},
   "start_time": "2022-06-04T00:38:12.648495",
   "version": "2.3.3"
  }
 },
 "nbformat": 4,
 "nbformat_minor": 5
}