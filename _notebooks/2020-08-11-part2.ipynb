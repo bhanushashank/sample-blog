{
 "cells": [
  {
   "cell_type": "markdown",
   "id": "98380cd3",
   "metadata": {
    "papermill": {
     "duration": 0.029156,
     "end_time": "2022-01-20T10:07:31.550051",
     "exception": false,
     "start_time": "2022-01-20T10:07:31.520895",
     "status": "completed"
    },
    "tags": []
   },
   "source": [
    "# Distinguish Your Own Digits (DYOD)"
   ]
  },
  {
   "cell_type": "markdown",
   "id": "ef31240d",
   "metadata": {
    "papermill": {
     "duration": 0.024478,
     "end_time": "2022-01-20T10:07:31.599277",
     "exception": false,
     "start_time": "2022-01-20T10:07:31.574799",
     "status": "completed"
    },
    "tags": []
   },
   "source": [
    "You are going to write a classifier that distinguishes between the number 3 and number 8."
   ]
  },
  {
   "cell_type": "code",
   "execution_count": 1,
   "id": "b15c8646",
   "metadata": {
    "execution": {
     "iopub.execute_input": "2022-01-20T10:07:31.658829Z",
     "iopub.status.busy": "2022-01-20T10:07:31.658300Z",
     "iopub.status.idle": "2022-01-20T10:07:31.668366Z",
     "shell.execute_reply": "2022-01-20T10:07:31.667947Z"
    },
    "papermill": {
     "duration": 0.045131,
     "end_time": "2022-01-20T10:07:31.668493",
     "exception": false,
     "start_time": "2022-01-20T10:07:31.623362",
     "status": "completed"
    },
    "tags": []
   },
   "outputs": [],
   "source": [
    "%load_ext autoreload\n",
    "%autoreload 2"
   ]
  },
  {
   "cell_type": "code",
   "execution_count": 2,
   "id": "22ef38dc",
   "metadata": {
    "execution": {
     "iopub.execute_input": "2022-01-20T10:07:31.729638Z",
     "iopub.status.busy": "2022-01-20T10:07:31.726406Z",
     "iopub.status.idle": "2022-01-20T10:07:32.302922Z",
     "shell.execute_reply": "2022-01-20T10:07:32.302417Z"
    },
    "papermill": {
     "duration": 0.610538,
     "end_time": "2022-01-20T10:07:32.303046",
     "exception": false,
     "start_time": "2022-01-20T10:07:31.692508",
     "status": "completed"
    },
    "tags": []
   },
   "outputs": [],
   "source": [
    "%matplotlib inline\n",
    "import numpy as np\n",
    "import matplotlib.pyplot as plt\n",
    "import pandas as pd"
   ]
  },
  {
   "cell_type": "markdown",
   "id": "ba036198",
   "metadata": {
    "papermill": {
     "duration": 0.024257,
     "end_time": "2022-01-20T10:07:32.351468",
     "exception": false,
     "start_time": "2022-01-20T10:07:32.327211",
     "status": "completed"
    },
    "tags": []
   },
   "source": [
    "From the command line run `pip install mnist`. This is a library that will help you bring down the mnist dataset. If you run this from a notebook, you need to put  `!pip install mnist` in a cell by itself."
   ]
  },
  {
   "cell_type": "code",
   "execution_count": 3,
   "id": "bb6ad8a1",
   "metadata": {
    "execution": {
     "iopub.execute_input": "2022-01-20T10:07:32.404182Z",
     "iopub.status.busy": "2022-01-20T10:07:32.403662Z",
     "iopub.status.idle": "2022-01-20T10:07:34.064762Z",
     "shell.execute_reply": "2022-01-20T10:07:34.064245Z"
    },
    "papermill": {
     "duration": 1.689198,
     "end_time": "2022-01-20T10:07:34.064909",
     "exception": false,
     "start_time": "2022-01-20T10:07:32.375711",
     "status": "completed"
    },
    "tags": []
   },
   "outputs": [
    {
     "name": "stdout",
     "output_type": "stream",
     "text": [
      "Collecting mnist\r\n"
     ]
    },
    {
     "name": "stdout",
     "output_type": "stream",
     "text": [
      "  Downloading mnist-0.2.2-py2.py3-none-any.whl (3.5 kB)\r\n",
      "Requirement already satisfied: numpy in /opt/hostedtoolcache/Python/3.6.15/x64/lib/python3.6/site-packages (from mnist) (1.19.5)\r\n"
     ]
    },
    {
     "name": "stdout",
     "output_type": "stream",
     "text": [
      "Installing collected packages: mnist\r\n"
     ]
    },
    {
     "name": "stdout",
     "output_type": "stream",
     "text": [
      "Successfully installed mnist-0.2.2\r\n"
     ]
    }
   ],
   "source": [
    "!pip install mnist"
   ]
  },
  {
   "cell_type": "markdown",
   "id": "69df9c9a",
   "metadata": {
    "papermill": {
     "duration": 0.025203,
     "end_time": "2022-01-20T10:07:34.116245",
     "exception": false,
     "start_time": "2022-01-20T10:07:34.091042",
     "status": "completed"
    },
    "tags": []
   },
   "source": [
    "## Preparing the Data"
   ]
  },
  {
   "cell_type": "code",
   "execution_count": 4,
   "id": "7f69d806",
   "metadata": {
    "execution": {
     "iopub.execute_input": "2022-01-20T10:07:34.170446Z",
     "iopub.status.busy": "2022-01-20T10:07:34.169938Z",
     "iopub.status.idle": "2022-01-20T10:07:34.184351Z",
     "shell.execute_reply": "2022-01-20T10:07:34.183937Z"
    },
    "papermill": {
     "duration": 0.043201,
     "end_time": "2022-01-20T10:07:34.184468",
     "exception": false,
     "start_time": "2022-01-20T10:07:34.141267",
     "status": "completed"
    },
    "tags": []
   },
   "outputs": [],
   "source": [
    "import mnist"
   ]
  },
  {
   "cell_type": "code",
   "execution_count": 5,
   "id": "a411e44f",
   "metadata": {
    "execution": {
     "iopub.execute_input": "2022-01-20T10:07:34.242202Z",
     "iopub.status.busy": "2022-01-20T10:07:34.241687Z",
     "iopub.status.idle": "2022-01-20T10:07:34.726326Z",
     "shell.execute_reply": "2022-01-20T10:07:34.725866Z"
    },
    "papermill": {
     "duration": 0.51677,
     "end_time": "2022-01-20T10:07:34.726454",
     "exception": false,
     "start_time": "2022-01-20T10:07:34.209684",
     "status": "completed"
    },
    "tags": []
   },
   "outputs": [],
   "source": [
    "train_images = mnist.train_images()\n",
    "train_labels = mnist.train_labels()"
   ]
  },
  {
   "cell_type": "code",
   "execution_count": 6,
   "id": "dceab3a5",
   "metadata": {
    "execution": {
     "iopub.execute_input": "2022-01-20T10:07:34.794172Z",
     "iopub.status.busy": "2022-01-20T10:07:34.785446Z",
     "iopub.status.idle": "2022-01-20T10:07:34.802749Z",
     "shell.execute_reply": "2022-01-20T10:07:34.802317Z"
    },
    "papermill": {
     "duration": 0.050489,
     "end_time": "2022-01-20T10:07:34.802859",
     "exception": false,
     "start_time": "2022-01-20T10:07:34.752370",
     "status": "completed"
    },
    "tags": []
   },
   "outputs": [
    {
     "data": {
      "text/plain": [
       "((60000, 28, 28), (60000,))"
      ]
     },
     "execution_count": 6,
     "metadata": {},
     "output_type": "execute_result"
    }
   ],
   "source": [
    "train_images.shape, train_labels.shape"
   ]
  },
  {
   "cell_type": "code",
   "execution_count": 7,
   "id": "f50dc2bb",
   "metadata": {
    "execution": {
     "iopub.execute_input": "2022-01-20T10:07:34.862201Z",
     "iopub.status.busy": "2022-01-20T10:07:34.861689Z",
     "iopub.status.idle": "2022-01-20T10:07:34.975773Z",
     "shell.execute_reply": "2022-01-20T10:07:34.975244Z"
    },
    "papermill": {
     "duration": 0.147856,
     "end_time": "2022-01-20T10:07:34.975915",
     "exception": false,
     "start_time": "2022-01-20T10:07:34.828059",
     "status": "completed"
    },
    "tags": []
   },
   "outputs": [],
   "source": [
    "test_images = mnist.test_images()\n",
    "test_labels = mnist.test_labels()"
   ]
  },
  {
   "cell_type": "code",
   "execution_count": 8,
   "id": "fc38cf1b",
   "metadata": {
    "execution": {
     "iopub.execute_input": "2022-01-20T10:07:35.030899Z",
     "iopub.status.busy": "2022-01-20T10:07:35.030301Z",
     "iopub.status.idle": "2022-01-20T10:07:35.043580Z",
     "shell.execute_reply": "2022-01-20T10:07:35.044073Z"
    },
    "papermill": {
     "duration": 0.042719,
     "end_time": "2022-01-20T10:07:35.044207",
     "exception": false,
     "start_time": "2022-01-20T10:07:35.001488",
     "status": "completed"
    },
    "tags": []
   },
   "outputs": [
    {
     "data": {
      "text/plain": [
       "((10000, 28, 28), (10000,))"
      ]
     },
     "execution_count": 8,
     "metadata": {},
     "output_type": "execute_result"
    }
   ],
   "source": [
    "test_images.shape, test_labels.shape"
   ]
  },
  {
   "cell_type": "code",
   "execution_count": 9,
   "id": "f9ed8fe0",
   "metadata": {
    "execution": {
     "iopub.execute_input": "2022-01-20T10:07:35.099341Z",
     "iopub.status.busy": "2022-01-20T10:07:35.098823Z",
     "iopub.status.idle": "2022-01-20T10:07:35.233026Z",
     "shell.execute_reply": "2022-01-20T10:07:35.233449Z"
    },
    "papermill": {
     "duration": 0.163639,
     "end_time": "2022-01-20T10:07:35.233586",
     "exception": false,
     "start_time": "2022-01-20T10:07:35.069947",
     "status": "completed"
    },
    "tags": []
   },
   "outputs": [
    {
     "name": "stdout",
     "output_type": "stream",
     "text": [
      "2\n"
     ]
    },
    {
     "data": {
      "text/plain": [
       "<matplotlib.image.AxesImage at 0x7f5b95a8f470>"
      ]
     },
     "execution_count": 9,
     "metadata": {},
     "output_type": "execute_result"
    },
    {
     "data": {
      "image/png": "[encoded data removed]",
      "text/plain": [
       "<Figure size 432x288 with 1 Axes>"
      ]
     },
     "metadata": {
      "needs_background": "light"
     },
     "output_type": "display_data"
    }
   ],
   "source": [
    "image_index = 7776 # You may select anything up to 60,000\n",
    "print(train_labels[image_index]) \n",
    "plt.imshow(train_images[image_index], cmap='Greys')"
   ]
  },
  {
   "cell_type": "markdown",
   "id": "a8d2388d",
   "metadata": {
    "papermill": {
     "duration": 0.026677,
     "end_time": "2022-01-20T10:07:35.288192",
     "exception": false,
     "start_time": "2022-01-20T10:07:35.261515",
     "status": "completed"
    },
    "tags": []
   },
   "source": [
    "## Filter data to get 3 and 8 out"
   ]
  },
  {
   "cell_type": "code",
   "execution_count": 10,
   "id": "776f7fc7",
   "metadata": {
    "execution": {
     "iopub.execute_input": "2022-01-20T10:07:35.347846Z",
     "iopub.status.busy": "2022-01-20T10:07:35.347306Z",
     "iopub.status.idle": "2022-01-20T10:07:35.363266Z",
     "shell.execute_reply": "2022-01-20T10:07:35.363681Z"
    },
    "papermill": {
     "duration": 0.04902,
     "end_time": "2022-01-20T10:07:35.363814",
     "exception": false,
     "start_time": "2022-01-20T10:07:35.314794",
     "status": "completed"
    },
    "tags": []
   },
   "outputs": [],
   "source": [
    "train_filter = np.where((train_labels == 3 ) | (train_labels == 8))\n",
    "test_filter = np.where((test_labels == 3) | (test_labels == 8))\n",
    "X_train, y_train = train_images[train_filter], train_labels[train_filter]\n",
    "X_test, y_test = test_images[test_filter], test_labels[test_filter]"
   ]
  },
  {
   "cell_type": "markdown",
   "id": "948f0b7e",
   "metadata": {
    "papermill": {
     "duration": 0.026709,
     "end_time": "2022-01-20T10:07:35.417296",
     "exception": false,
     "start_time": "2022-01-20T10:07:35.390587",
     "status": "completed"
    },
    "tags": []
   },
   "source": [
    "We normalize the pizel values in the 0 to 1 range"
   ]
  },
  {
   "cell_type": "code",
   "execution_count": 11,
   "id": "ee4c2166",
   "metadata": {
    "execution": {
     "iopub.execute_input": "2022-01-20T10:07:35.473935Z",
     "iopub.status.busy": "2022-01-20T10:07:35.473422Z",
     "iopub.status.idle": "2022-01-20T10:07:35.520410Z",
     "shell.execute_reply": "2022-01-20T10:07:35.519863Z"
    },
    "papermill": {
     "duration": 0.076705,
     "end_time": "2022-01-20T10:07:35.520542",
     "exception": false,
     "start_time": "2022-01-20T10:07:35.443837",
     "status": "completed"
    },
    "tags": []
   },
   "outputs": [],
   "source": [
    "X_train = X_train/255.\n",
    "X_test = X_test/255."
   ]
  },
  {
   "cell_type": "markdown",
   "id": "ddcf4fab",
   "metadata": {
    "papermill": {
     "duration": 0.026653,
     "end_time": "2022-01-20T10:07:35.575133",
     "exception": false,
     "start_time": "2022-01-20T10:07:35.548480",
     "status": "completed"
    },
    "tags": []
   },
   "source": [
    "And setup the labels as 1 (when the digit is 3) and 0 (when the digit is 8)"
   ]
  },
  {
   "cell_type": "code",
   "execution_count": 12,
   "id": "7dc908f2",
   "metadata": {
    "execution": {
     "iopub.execute_input": "2022-01-20T10:07:35.647489Z",
     "iopub.status.busy": "2022-01-20T10:07:35.646953Z",
     "iopub.status.idle": "2022-01-20T10:07:35.649829Z",
     "shell.execute_reply": "2022-01-20T10:07:35.649413Z"
    },
    "papermill": {
     "duration": 0.048239,
     "end_time": "2022-01-20T10:07:35.649945",
     "exception": false,
     "start_time": "2022-01-20T10:07:35.601706",
     "status": "completed"
    },
    "tags": []
   },
   "outputs": [],
   "source": [
    "y_train = 1*(y_train==3)\n",
    "y_test = 1*(y_test==3)"
   ]
  },
  {
   "cell_type": "code",
   "execution_count": 13,
   "id": "01e4e969",
   "metadata": {
    "execution": {
     "iopub.execute_input": "2022-01-20T10:07:35.707266Z",
     "iopub.status.busy": "2022-01-20T10:07:35.706754Z",
     "iopub.status.idle": "2022-01-20T10:07:35.720029Z",
     "shell.execute_reply": "2022-01-20T10:07:35.719598Z"
    },
    "papermill": {
     "duration": 0.043298,
     "end_time": "2022-01-20T10:07:35.720138",
     "exception": false,
     "start_time": "2022-01-20T10:07:35.676840",
     "status": "completed"
    },
    "tags": []
   },
   "outputs": [
    {
     "data": {
      "text/plain": [
       "((11982, 28, 28), (1984, 28, 28))"
      ]
     },
     "execution_count": 13,
     "metadata": {},
     "output_type": "execute_result"
    }
   ],
   "source": [
    "X_train.shape, X_test.shape"
   ]
  },
  {
   "cell_type": "markdown",
   "id": "5ccf3f85",
   "metadata": {
    "papermill": {
     "duration": 0.027258,
     "end_time": "2022-01-20T10:07:35.774245",
     "exception": false,
     "start_time": "2022-01-20T10:07:35.746987",
     "status": "completed"
    },
    "tags": []
   },
   "source": [
    "We reshape the data to flatten the image pixels into a set of features or co-variates:"
   ]
  },
  {
   "cell_type": "code",
   "execution_count": 14,
   "id": "5286a4a3",
   "metadata": {
    "execution": {
     "iopub.execute_input": "2022-01-20T10:07:35.841854Z",
     "iopub.status.busy": "2022-01-20T10:07:35.839915Z",
     "iopub.status.idle": "2022-01-20T10:07:35.848722Z",
     "shell.execute_reply": "2022-01-20T10:07:35.848307Z"
    },
    "papermill": {
     "duration": 0.047593,
     "end_time": "2022-01-20T10:07:35.848839",
     "exception": false,
     "start_time": "2022-01-20T10:07:35.801246",
     "status": "completed"
    },
    "tags": []
   },
   "outputs": [
    {
     "data": {
      "text/plain": [
       "((11982, 784), (1984, 784))"
      ]
     },
     "execution_count": 14,
     "metadata": {},
     "output_type": "execute_result"
    }
   ],
   "source": [
    "X_train = X_train.reshape(X_train.shape[0], -1)\n",
    "X_test = X_test.reshape(X_test.shape[0], -1)\n",
    "X_train.shape, X_test.shape"
   ]
  },
  {
   "cell_type": "code",
   "execution_count": 15,
   "id": "73c5f88a",
   "metadata": {
    "execution": {
     "iopub.execute_input": "2022-01-20T10:07:35.913081Z",
     "iopub.status.busy": "2022-01-20T10:07:35.912518Z",
     "iopub.status.idle": "2022-01-20T10:07:35.928167Z",
     "shell.execute_reply": "2022-01-20T10:07:35.927722Z"
    },
    "papermill": {
     "duration": 0.051819,
     "end_time": "2022-01-20T10:07:35.928290",
     "exception": false,
     "start_time": "2022-01-20T10:07:35.876471",
     "status": "completed"
    },
    "tags": []
   },
   "outputs": [],
   "source": [
    "#Impoting functions from 'Kudzu'\n",
    "from kudzu.model import Model\n",
    "from kudzu.train import Learner\n",
    "from kudzu.optim import GD\n",
    "from kudzu.data import Data, Sampler,Dataloader\n",
    "\n",
    "from kudzu.callbacks import AccCallback\n",
    "from kudzu.callbacks import ClfCallback\n",
    "\n",
    "from kudzu.loss import MSE\n",
    "\n",
    "from kudzu.layer import Sigmoid,Relu\n",
    "from kudzu.layer import Affine"
   ]
  },
  {
   "cell_type": "markdown",
   "id": "bc01172a",
   "metadata": {
    "papermill": {
     "duration": 0.027122,
     "end_time": "2022-01-20T10:07:35.983532",
     "exception": false,
     "start_time": "2022-01-20T10:07:35.956410",
     "status": "completed"
    },
    "tags": []
   },
   "source": [
    "### Let us create a `Config` class, to store important parameters. \n",
    "This class essentially plays the role of a dictionary."
   ]
  },
  {
   "cell_type": "code",
   "execution_count": 16,
   "id": "978281aa",
   "metadata": {
    "execution": {
     "iopub.execute_input": "2022-01-20T10:07:36.042212Z",
     "iopub.status.busy": "2022-01-20T10:07:36.041701Z",
     "iopub.status.idle": "2022-01-20T10:07:36.053652Z",
     "shell.execute_reply": "2022-01-20T10:07:36.053207Z"
    },
    "papermill": {
     "duration": 0.043133,
     "end_time": "2022-01-20T10:07:36.053766",
     "exception": false,
     "start_time": "2022-01-20T10:07:36.010633",
     "status": "completed"
    },
    "tags": []
   },
   "outputs": [],
   "source": [
    "class Config:\n",
    "    pass\n",
    "config = Config()\n",
    "config.lr = 0.001\n",
    "config.num_epochs = 250\n",
    "config.bs = 50"
   ]
  },
  {
   "cell_type": "markdown",
   "id": "1385fa59",
   "metadata": {
    "papermill": {
     "duration": 0.02699,
     "end_time": "2022-01-20T10:07:36.108017",
     "exception": false,
     "start_time": "2022-01-20T10:07:36.081027",
     "status": "completed"
    },
    "tags": []
   },
   "source": [
    "### Running Models with the Training data\n",
    "Details about the network layers:\n",
    "- A first affine layer has 784 inputs and does 100 affine transforms. These are followed by a Relu\n",
    "- A second affine layer has 100 inputs from the 100 activations of the past layer, and does 100 affine transforms. These are followed by a Relu\n",
    "- A third affine layer has 100 activations and does 2 affine transformations to create an embedding for visualization. There is no non-linearity here.\n",
    "- A final \"logistic regression\" which has an affine transform from 2 inputs to 1 output, which is squeezed through a sigmoid.\n"
   ]
  },
  {
   "cell_type": "code",
   "execution_count": 17,
   "id": "2b9c66db",
   "metadata": {
    "execution": {
     "iopub.execute_input": "2022-01-20T10:07:36.171487Z",
     "iopub.status.busy": "2022-01-20T10:07:36.170973Z",
     "iopub.status.idle": "2022-01-20T10:07:36.179874Z",
     "shell.execute_reply": "2022-01-20T10:07:36.180306Z"
    },
    "papermill": {
     "duration": 0.045314,
     "end_time": "2022-01-20T10:07:36.180435",
     "exception": false,
     "start_time": "2022-01-20T10:07:36.135121",
     "status": "completed"
    },
    "tags": []
   },
   "outputs": [],
   "source": [
    "data = Data(X_train, y_train.reshape(-1,1))\n",
    "sampler = Sampler(data, config.bs, shuffle=True)\n",
    "\n",
    "dl = Dataloader(data, sampler)\n",
    "\n",
    "opt = GD(config.lr)\n",
    "loss = MSE()"
   ]
  },
  {
   "cell_type": "code",
   "execution_count": 18,
   "id": "b275e4c2",
   "metadata": {
    "execution": {
     "iopub.execute_input": "2022-01-20T10:07:36.242944Z",
     "iopub.status.busy": "2022-01-20T10:07:36.242427Z",
     "iopub.status.idle": "2022-01-20T10:07:36.251804Z",
     "shell.execute_reply": "2022-01-20T10:07:36.251357Z"
    },
    "papermill": {
     "duration": 0.044206,
     "end_time": "2022-01-20T10:07:36.251920",
     "exception": false,
     "start_time": "2022-01-20T10:07:36.207714",
     "status": "completed"
    },
    "tags": []
   },
   "outputs": [],
   "source": [
    "training_data_x = X_train\n",
    "testing_data_x = X_test\n",
    "training_data_y = y_train.reshape(-1,1)\n",
    "testing_data_y = y_test.reshape(-1,1)"
   ]
  },
  {
   "cell_type": "code",
   "execution_count": 19,
   "id": "76951160",
   "metadata": {
    "execution": {
     "iopub.execute_input": "2022-01-20T10:07:36.310699Z",
     "iopub.status.busy": "2022-01-20T10:07:36.310182Z",
     "iopub.status.idle": "2022-01-20T10:07:36.325812Z",
     "shell.execute_reply": "2022-01-20T10:07:36.325402Z"
    },
    "papermill": {
     "duration": 0.046614,
     "end_time": "2022-01-20T10:07:36.325927",
     "exception": false,
     "start_time": "2022-01-20T10:07:36.279313",
     "status": "completed"
    },
    "tags": []
   },
   "outputs": [
    {
     "name": "stdout",
     "output_type": "stream",
     "text": [
      "xavier\n",
      "xavier\n",
      "xavier\n",
      "xavier\n",
      "xavier\n"
     ]
    }
   ],
   "source": [
    "layers = [Affine(\"first\", 784, 100), Relu(\"first\"), Affine(\"second\", 100, 100), Relu(\"second\"), Affine(\"third\", 100, 2), Affine(\"last\", 2, 1), Sigmoid(\"last\")]\n",
    "model_nn = Model(layers)\n",
    "model_lr = Model([Affine(\"logits\", 784, 1), Sigmoid(\"sigmoid\")])"
   ]
  },
  {
   "cell_type": "code",
   "execution_count": 20,
   "id": "6eede77a",
   "metadata": {
    "execution": {
     "iopub.execute_input": "2022-01-20T10:07:36.384895Z",
     "iopub.status.busy": "2022-01-20T10:07:36.384384Z",
     "iopub.status.idle": "2022-01-20T10:07:36.396028Z",
     "shell.execute_reply": "2022-01-20T10:07:36.395615Z"
    },
    "papermill": {
     "duration": 0.042688,
     "end_time": "2022-01-20T10:07:36.396142",
     "exception": false,
     "start_time": "2022-01-20T10:07:36.353454",
     "status": "completed"
    },
    "tags": []
   },
   "outputs": [],
   "source": [
    "nn_learner = Learner(loss, model_nn, opt, config.num_epochs)\n",
    "acc_nn = ClfCallback(nn_learner, config.bs, training_data_x , testing_data_x, training_data_y, testing_data_y)\n",
    "nn_learner.set_callbacks([acc_nn])"
   ]
  },
  {
   "cell_type": "code",
   "execution_count": 21,
   "id": "877b6cc7",
   "metadata": {
    "execution": {
     "iopub.execute_input": "2022-01-20T10:07:36.455522Z",
     "iopub.status.busy": "2022-01-20T10:07:36.454985Z",
     "iopub.status.idle": "2022-01-20T10:07:36.466790Z",
     "shell.execute_reply": "2022-01-20T10:07:36.466375Z"
    },
    "papermill": {
     "duration": 0.043085,
     "end_time": "2022-01-20T10:07:36.466905",
     "exception": false,
     "start_time": "2022-01-20T10:07:36.423820",
     "status": "completed"
    },
    "tags": []
   },
   "outputs": [],
   "source": [
    "lr_learner = Learner(loss, model_lr, opt, config.num_epochs)\n",
    "acc_lr = ClfCallback(lr_learner, config.bs, training_data_x , testing_data_x, training_data_y, testing_data_y)\n",
    "lr_learner.set_callbacks([acc_lr])"
   ]
  },
  {
   "cell_type": "code",
   "execution_count": 22,
   "id": "d9b133c3",
   "metadata": {
    "execution": {
     "iopub.execute_input": "2022-01-20T10:07:36.525632Z",
     "iopub.status.busy": "2022-01-20T10:07:36.525104Z",
     "iopub.status.idle": "2022-01-20T10:08:50.644512Z",
     "shell.execute_reply": "2022-01-20T10:08:50.645262Z"
    },
    "papermill": {
     "duration": 74.150913,
     "end_time": "2022-01-20T10:08:50.645410",
     "exception": false,
     "start_time": "2022-01-20T10:07:36.494497",
     "status": "completed"
    },
    "tags": []
   },
   "outputs": [
    {
     "name": "stdout",
     "output_type": "stream",
     "text": [
      "Epoch 0, Loss 0.2554\n",
      "Training Accuracy: 0.5679, Testing Accuracy: 0.5685\n",
      "\n"
     ]
    },
    {
     "name": "stdout",
     "output_type": "stream",
     "text": [
      "Epoch 10, Loss 0.0996\n",
      "Training Accuracy: 0.9231, Testing Accuracy: 0.9325\n",
      "\n"
     ]
    },
    {
     "name": "stdout",
     "output_type": "stream",
     "text": [
      "Epoch 20, Loss 0.0561\n",
      "Training Accuracy: 0.9455, Testing Accuracy: 0.9587\n",
      "\n"
     ]
    },
    {
     "name": "stdout",
     "output_type": "stream",
     "text": [
      "Epoch 30, Loss 0.0436\n",
      "Training Accuracy: 0.9543, Testing Accuracy: 0.9622\n",
      "\n"
     ]
    },
    {
     "name": "stdout",
     "output_type": "stream",
     "text": [
      "Epoch 40, Loss 0.0378\n",
      "Training Accuracy: 0.9594, Testing Accuracy: 0.9657\n",
      "\n"
     ]
    },
    {
     "name": "stdout",
     "output_type": "stream",
     "text": [
      "Epoch 50, Loss 0.0342\n",
      "Training Accuracy: 0.9624, Testing Accuracy: 0.9662\n",
      "\n"
     ]
    },
    {
     "name": "stdout",
     "output_type": "stream",
     "text": [
      "Epoch 60, Loss 0.0317\n",
      "Training Accuracy: 0.9646, Testing Accuracy: 0.9693\n",
      "\n"
     ]
    },
    {
     "name": "stdout",
     "output_type": "stream",
     "text": [
      "Epoch 70, Loss 0.0299\n",
      "Training Accuracy: 0.9664, Testing Accuracy: 0.9698\n",
      "\n"
     ]
    },
    {
     "name": "stdout",
     "output_type": "stream",
     "text": [
      "Epoch 80, Loss 0.0284\n",
      "Training Accuracy: 0.9677, Testing Accuracy: 0.9703\n",
      "\n"
     ]
    },
    {
     "name": "stdout",
     "output_type": "stream",
     "text": [
      "Epoch 90, Loss 0.0272\n",
      "Training Accuracy: 0.9688, Testing Accuracy: 0.9703\n",
      "\n"
     ]
    },
    {
     "name": "stdout",
     "output_type": "stream",
     "text": [
      "Epoch 100, Loss 0.0261\n",
      "Training Accuracy: 0.9704, Testing Accuracy: 0.9723\n",
      "\n"
     ]
    },
    {
     "name": "stdout",
     "output_type": "stream",
     "text": [
      "Epoch 110, Loss 0.0252\n",
      "Training Accuracy: 0.9714, Testing Accuracy: 0.9718\n",
      "\n"
     ]
    },
    {
     "name": "stdout",
     "output_type": "stream",
     "text": [
      "Epoch 120, Loss 0.0244\n",
      "Training Accuracy: 0.9722, Testing Accuracy: 0.9718\n",
      "\n"
     ]
    },
    {
     "name": "stdout",
     "output_type": "stream",
     "text": [
      "Epoch 130, Loss 0.0236\n",
      "Training Accuracy: 0.9725, Testing Accuracy: 0.9733\n",
      "\n"
     ]
    },
    {
     "name": "stdout",
     "output_type": "stream",
     "text": [
      "Epoch 140, Loss 0.0229\n",
      "Training Accuracy: 0.9736, Testing Accuracy: 0.9743\n",
      "\n"
     ]
    },
    {
     "name": "stdout",
     "output_type": "stream",
     "text": [
      "Epoch 150, Loss 0.0223\n",
      "Training Accuracy: 0.9743, Testing Accuracy: 0.9743\n",
      "\n"
     ]
    },
    {
     "name": "stdout",
     "output_type": "stream",
     "text": [
      "Epoch 160, Loss 0.0217\n",
      "Training Accuracy: 0.9750, Testing Accuracy: 0.9753\n",
      "\n"
     ]
    },
    {
     "name": "stdout",
     "output_type": "stream",
     "text": [
      "Epoch 170, Loss 0.0211\n",
      "Training Accuracy: 0.9758, Testing Accuracy: 0.9758\n",
      "\n"
     ]
    },
    {
     "name": "stdout",
     "output_type": "stream",
     "text": [
      "Epoch 180, Loss 0.0206\n",
      "Training Accuracy: 0.9765, Testing Accuracy: 0.9758\n",
      "\n"
     ]
    },
    {
     "name": "stdout",
     "output_type": "stream",
     "text": [
      "Epoch 190, Loss 0.0201\n",
      "Training Accuracy: 0.9771, Testing Accuracy: 0.9763\n",
      "\n"
     ]
    },
    {
     "name": "stdout",
     "output_type": "stream",
     "text": [
      "Epoch 200, Loss 0.0196\n",
      "Training Accuracy: 0.9777, Testing Accuracy: 0.9763\n",
      "\n"
     ]
    },
    {
     "name": "stdout",
     "output_type": "stream",
     "text": [
      "Epoch 210, Loss 0.0191\n",
      "Training Accuracy: 0.9785, Testing Accuracy: 0.9768\n",
      "\n"
     ]
    },
    {
     "name": "stdout",
     "output_type": "stream",
     "text": [
      "Epoch 220, Loss 0.0186\n",
      "Training Accuracy: 0.9793, Testing Accuracy: 0.9773\n",
      "\n"
     ]
    },
    {
     "name": "stdout",
     "output_type": "stream",
     "text": [
      "Epoch 230, Loss 0.0181\n",
      "Training Accuracy: 0.9800, Testing Accuracy: 0.9778\n",
      "\n"
     ]
    },
    {
     "name": "stdout",
     "output_type": "stream",
     "text": [
      "Epoch 240, Loss 0.0177\n",
      "Training Accuracy: 0.9803, Testing Accuracy: 0.9778\n",
      "\n"
     ]
    },
    {
     "data": {
      "text/plain": [
       "0.014731181645038392"
      ]
     },
     "execution_count": 22,
     "metadata": {},
     "output_type": "execute_result"
    }
   ],
   "source": [
    "nn_learner.train_loop(dl)"
   ]
  },
  {
   "cell_type": "code",
   "execution_count": 23,
   "id": "e0163366",
   "metadata": {
    "execution": {
     "iopub.execute_input": "2022-01-20T10:08:50.727907Z",
     "iopub.status.busy": "2022-01-20T10:08:50.727374Z",
     "iopub.status.idle": "2022-01-20T10:09:04.391183Z",
     "shell.execute_reply": "2022-01-20T10:09:04.391900Z"
    },
    "papermill": {
     "duration": 13.710977,
     "end_time": "2022-01-20T10:09:04.392046",
     "exception": false,
     "start_time": "2022-01-20T10:08:50.681069",
     "status": "completed"
    },
    "tags": []
   },
   "outputs": [
    {
     "name": "stdout",
     "output_type": "stream",
     "text": [
      "Epoch 0, Loss 0.2344\n",
      "Training Accuracy: 0.7213, Testing Accuracy: 0.7409\n",
      "\n"
     ]
    },
    {
     "name": "stdout",
     "output_type": "stream",
     "text": [
      "Epoch 10, Loss 0.1009\n",
      "Training Accuracy: 0.9141, Testing Accuracy: 0.9199\n",
      "\n"
     ]
    },
    {
     "name": "stdout",
     "output_type": "stream",
     "text": [
      "Epoch 20, Loss 0.0782\n",
      "Training Accuracy: 0.9288, Testing Accuracy: 0.9405\n",
      "\n"
     ]
    },
    {
     "name": "stdout",
     "output_type": "stream",
     "text": [
      "Epoch 30, Loss 0.0677\n",
      "Training Accuracy: 0.9377, Testing Accuracy: 0.9481\n",
      "\n"
     ]
    },
    {
     "name": "stdout",
     "output_type": "stream",
     "text": [
      "Epoch 40, Loss 0.0614\n",
      "Training Accuracy: 0.9414, Testing Accuracy: 0.9506\n",
      "\n"
     ]
    },
    {
     "name": "stdout",
     "output_type": "stream",
     "text": [
      "Epoch 50, Loss 0.057\n",
      "Training Accuracy: 0.9437, Testing Accuracy: 0.9546\n",
      "\n"
     ]
    },
    {
     "name": "stdout",
     "output_type": "stream",
     "text": [
      "Epoch 60, Loss 0.0538\n",
      "Training Accuracy: 0.9463, Testing Accuracy: 0.9567\n",
      "\n"
     ]
    },
    {
     "name": "stdout",
     "output_type": "stream",
     "text": [
      "Epoch 70, Loss 0.0513\n",
      "Training Accuracy: 0.9479, Testing Accuracy: 0.9587\n",
      "\n"
     ]
    },
    {
     "name": "stdout",
     "output_type": "stream",
     "text": [
      "Epoch 80, Loss 0.0493\n",
      "Training Accuracy: 0.9497, Testing Accuracy: 0.9597\n",
      "\n"
     ]
    },
    {
     "name": "stdout",
     "output_type": "stream",
     "text": [
      "Epoch 90, Loss 0.0476\n",
      "Training Accuracy: 0.9510, Testing Accuracy: 0.9607\n",
      "\n"
     ]
    },
    {
     "name": "stdout",
     "output_type": "stream",
     "text": [
      "Epoch 100, Loss 0.0462\n",
      "Training Accuracy: 0.9519, Testing Accuracy: 0.9607\n",
      "\n"
     ]
    },
    {
     "name": "stdout",
     "output_type": "stream",
     "text": [
      "Epoch 110, Loss 0.045\n",
      "Training Accuracy: 0.9533, Testing Accuracy: 0.9622\n",
      "\n"
     ]
    },
    {
     "name": "stdout",
     "output_type": "stream",
     "text": [
      "Epoch 120, Loss 0.044\n",
      "Training Accuracy: 0.9543, Testing Accuracy: 0.9632\n",
      "\n"
     ]
    },
    {
     "name": "stdout",
     "output_type": "stream",
     "text": [
      "Epoch 130, Loss 0.043\n",
      "Training Accuracy: 0.9554, Testing Accuracy: 0.9637\n",
      "\n"
     ]
    },
    {
     "name": "stdout",
     "output_type": "stream",
     "text": [
      "Epoch 140, Loss 0.0422\n",
      "Training Accuracy: 0.9562, Testing Accuracy: 0.9642\n",
      "\n"
     ]
    },
    {
     "name": "stdout",
     "output_type": "stream",
     "text": [
      "Epoch 150, Loss 0.0415\n",
      "Training Accuracy: 0.9569, Testing Accuracy: 0.9642\n",
      "\n"
     ]
    },
    {
     "name": "stdout",
     "output_type": "stream",
     "text": [
      "Epoch 160, Loss 0.0408\n",
      "Training Accuracy: 0.9577, Testing Accuracy: 0.9652\n",
      "\n"
     ]
    },
    {
     "name": "stdout",
     "output_type": "stream",
     "text": [
      "Epoch 170, Loss 0.0402\n",
      "Training Accuracy: 0.9579, Testing Accuracy: 0.9657\n",
      "\n"
     ]
    },
    {
     "name": "stdout",
     "output_type": "stream",
     "text": [
      "Epoch 180, Loss 0.0396\n",
      "Training Accuracy: 0.9582, Testing Accuracy: 0.9657\n",
      "\n"
     ]
    },
    {
     "name": "stdout",
     "output_type": "stream",
     "text": [
      "Epoch 190, Loss 0.0391\n",
      "Training Accuracy: 0.9587, Testing Accuracy: 0.9652\n",
      "\n"
     ]
    },
    {
     "name": "stdout",
     "output_type": "stream",
     "text": [
      "Epoch 200, Loss 0.0386\n",
      "Training Accuracy: 0.9589, Testing Accuracy: 0.9662\n",
      "\n"
     ]
    },
    {
     "name": "stdout",
     "output_type": "stream",
     "text": [
      "Epoch 210, Loss 0.0382\n",
      "Training Accuracy: 0.9593, Testing Accuracy: 0.9662\n",
      "\n"
     ]
    },
    {
     "name": "stdout",
     "output_type": "stream",
     "text": [
      "Epoch 220, Loss 0.0378\n",
      "Training Accuracy: 0.9595, Testing Accuracy: 0.9667\n",
      "\n"
     ]
    },
    {
     "name": "stdout",
     "output_type": "stream",
     "text": [
      "Epoch 230, Loss 0.0374\n",
      "Training Accuracy: 0.9596, Testing Accuracy: 0.9672\n",
      "\n"
     ]
    },
    {
     "name": "stdout",
     "output_type": "stream",
     "text": [
      "Epoch 240, Loss 0.037\n",
      "Training Accuracy: 0.9598, Testing Accuracy: 0.9672\n",
      "\n"
     ]
    },
    {
     "data": {
      "text/plain": [
       "0.024250085190337195"
      ]
     },
     "execution_count": 23,
     "metadata": {},
     "output_type": "execute_result"
    }
   ],
   "source": [
    "lr_learner.train_loop(dl)"
   ]
  },
  {
   "cell_type": "code",
   "execution_count": 24,
   "id": "ca410940",
   "metadata": {
    "execution": {
     "iopub.execute_input": "2022-01-20T10:09:04.490332Z",
     "iopub.status.busy": "2022-01-20T10:09:04.489800Z",
     "iopub.status.idle": "2022-01-20T10:09:04.701772Z",
     "shell.execute_reply": "2022-01-20T10:09:04.701222Z"
    },
    "papermill": {
     "duration": 0.268145,
     "end_time": "2022-01-20T10:09:04.701892",
     "exception": false,
     "start_time": "2022-01-20T10:09:04.433747",
     "status": "completed"
    },
    "tags": []
   },
   "outputs": [
    {
     "data": {
      "text/plain": [
       "<matplotlib.legend.Legend at 0x7f5b955ecba8>"
      ]
     },
     "execution_count": 24,
     "metadata": {},
     "output_type": "execute_result"
    },
    {
     "data": {
      "image/png": "[encoded data removed]",
      "text/plain": [
       "<Figure size 1080x720 with 1 Axes>"
      ]
     },
     "metadata": {
      "needs_background": "light"
     },
     "output_type": "display_data"
    }
   ],
   "source": [
    "#comparing the results of NN and LR\n",
    "plt.figure(figsize=(15,10))\n",
    "\n",
    "# Neural Network plots\n",
    "plt.plot(acc_nn.accuracies, 'r-', label = \"Training Accuracies - NN\")\n",
    "plt.plot(acc_nn.test_accuracies, 'g-', label = \"Testing Accuracies - NN\")\n",
    "\n",
    "# Logistic Regression plots\n",
    "plt.plot(acc_lr.accuracies, 'k-', label = \"Training Accuracies - LR\")\n",
    "plt.plot(acc_lr.test_accuracies, 'b-', label = \"Testing Accuracies - LR\")\n",
    "plt.legend()"
   ]
  },
  {
   "cell_type": "markdown",
   "id": "80dfb35c",
   "metadata": {
    "papermill": {
     "duration": 0.042629,
     "end_time": "2022-01-20T10:09:04.787293",
     "exception": false,
     "start_time": "2022-01-20T10:09:04.744664",
     "status": "completed"
    },
    "tags": []
   },
   "source": [
    "#### Plotting the outputs of this layer of the NN.\n"
   ]
  },
  {
   "cell_type": "code",
   "execution_count": 25,
   "id": "45eb2ff5",
   "metadata": {
    "execution": {
     "iopub.execute_input": "2022-01-20T10:09:04.885534Z",
     "iopub.status.busy": "2022-01-20T10:09:04.876732Z",
     "iopub.status.idle": "2022-01-20T10:09:04.900045Z",
     "shell.execute_reply": "2022-01-20T10:09:04.899579Z"
    },
    "papermill": {
     "duration": 0.070245,
     "end_time": "2022-01-20T10:09:04.900161",
     "exception": false,
     "start_time": "2022-01-20T10:09:04.829916",
     "status": "completed"
    },
    "tags": []
   },
   "outputs": [],
   "source": [
    "new_model = Model(layers[:-2])\n",
    "testing_plot = new_model(testing_data_x)"
   ]
  },
  {
   "cell_type": "code",
   "execution_count": 26,
   "id": "4c0a5485",
   "metadata": {
    "execution": {
     "iopub.execute_input": "2022-01-20T10:09:04.998043Z",
     "iopub.status.busy": "2022-01-20T10:09:04.994199Z",
     "iopub.status.idle": "2022-01-20T10:09:05.188185Z",
     "shell.execute_reply": "2022-01-20T10:09:05.187750Z"
    },
    "papermill": {
     "duration": 0.245005,
     "end_time": "2022-01-20T10:09:05.188305",
     "exception": false,
     "start_time": "2022-01-20T10:09:04.943300",
     "status": "completed"
    },
    "tags": []
   },
   "outputs": [
    {
     "data": {
      "text/plain": [
       "Text(0.5, 1.0, 'Outputs')"
      ]
     },
     "execution_count": 26,
     "metadata": {},
     "output_type": "execute_result"
    },
    {
     "data": {
      "image/png": "[encoded data removed]",
      "text/plain": [
       "<Figure size 576x504 with 1 Axes>"
      ]
     },
     "metadata": {
      "needs_background": "light"
     },
     "output_type": "display_data"
    }
   ],
   "source": [
    "# Plotting the scatter plot of points and color coding by class\n",
    "plt.figure(figsize=(8,7))\n",
    "plt.scatter(testing_plot[:,0], testing_plot[:,1], alpha = 0.1, c = y_test.ravel());\n",
    "plt.title('Outputs')"
   ]
  },
  {
   "cell_type": "markdown",
   "id": "a74fcf8f",
   "metadata": {
    "papermill": {
     "duration": 0.04423,
     "end_time": "2022-01-20T10:09:05.277676",
     "exception": false,
     "start_time": "2022-01-20T10:09:05.233446",
     "status": "completed"
    },
    "tags": []
   },
   "source": [
    "Probability contours"
   ]
  },
  {
   "cell_type": "code",
   "execution_count": 27,
   "id": "d0afc8e3",
   "metadata": {
    "execution": {
     "iopub.execute_input": "2022-01-20T10:09:05.378826Z",
     "iopub.status.busy": "2022-01-20T10:09:05.374451Z",
     "iopub.status.idle": "2022-01-20T10:09:05.385210Z",
     "shell.execute_reply": "2022-01-20T10:09:05.384733Z"
    },
    "papermill": {
     "duration": 0.063306,
     "end_time": "2022-01-20T10:09:05.385330",
     "exception": false,
     "start_time": "2022-01-20T10:09:05.322024",
     "status": "completed"
    },
    "tags": []
   },
   "outputs": [],
   "source": [
    "model_prob = Model(layers[-2:]) "
   ]
  },
  {
   "cell_type": "code",
   "execution_count": 28,
   "id": "9b96e238",
   "metadata": {
    "execution": {
     "iopub.execute_input": "2022-01-20T10:09:05.514517Z",
     "iopub.status.busy": "2022-01-20T10:09:05.513993Z",
     "iopub.status.idle": "2022-01-20T10:09:05.521044Z",
     "shell.execute_reply": "2022-01-20T10:09:05.520520Z"
    },
    "papermill": {
     "duration": 0.091256,
     "end_time": "2022-01-20T10:09:05.521160",
     "exception": false,
     "start_time": "2022-01-20T10:09:05.429904",
     "status": "completed"
    },
    "tags": []
   },
   "outputs": [],
   "source": [
    "#creating the x and y ranges according to the above generated plot.\n",
    "x_range = np.linspace(-4, 1, 100) \n",
    "y_range = np.linspace(-6, 6, 100) \n",
    "x_grid, y_grid = np.meshgrid(x_range, y_range) # x_grid and y_grig are of size 100 X 100\n",
    "\n",
    "# converting x_grid and y_grid to continuous arrays\n",
    "x_gridflat = np.ravel(x_grid)\n",
    "y_gridflat = np.ravel(y_grid)\n",
    "\n",
    "# The last layer of the current model takes two columns as input. Hence transpose of np.vstack() is required.\n",
    "X = np.vstack((x_gridflat, y_gridflat)).T\n",
    "\n",
    "prob_contour = model_prob(X).reshape(100,100) "
   ]
  },
  {
   "cell_type": "code",
   "execution_count": 29,
   "id": "da72499a",
   "metadata": {
    "execution": {
     "iopub.execute_input": "2022-01-20T10:09:05.622178Z",
     "iopub.status.busy": "2022-01-20T10:09:05.621645Z",
     "iopub.status.idle": "2022-01-20T10:09:05.861971Z",
     "shell.execute_reply": "2022-01-20T10:09:05.862383Z"
    },
    "papermill": {
     "duration": 0.297002,
     "end_time": "2022-01-20T10:09:05.862516",
     "exception": false,
     "start_time": "2022-01-20T10:09:05.565514",
     "status": "completed"
    },
    "tags": []
   },
   "outputs": [
    {
     "data": {
      "image/png": "[encoded data removed]",
      "text/plain": [
       "<Figure size 720x648 with 1 Axes>"
      ]
     },
     "metadata": {
      "needs_background": "light"
     },
     "output_type": "display_data"
    }
   ],
   "source": [
    "plt.figure(figsize=(10,9))\n",
    "plt.scatter(testing_plot[:,0], testing_plot[:,1], alpha = 0.1, c = y_test.ravel())\n",
    "contours = plt.contour(x_grid,y_grid,prob_contour)\n",
    "plt.title('Probability Contours')\n",
    "plt.clabel(contours, inline = True );"
   ]
  },
  {
   "cell_type": "code",
   "execution_count": null,
   "id": "e81b4ac7",
   "metadata": {
    "papermill": {
     "duration": 0.047643,
     "end_time": "2022-01-20T10:09:05.958056",
     "exception": false,
     "start_time": "2022-01-20T10:09:05.910413",
     "status": "completed"
    },
    "tags": []
   },
   "outputs": [],
   "source": []
  }
 ],
 "metadata": {
  "kernelspec": {
   "display_name": "Python 3",
   "language": "python",
   "name": "python3"
  },
  "language_info": {
   "codemirror_mode": {
    "name": "ipython",
    "version": 3
   },
   "file_extension": ".py",
   "mimetype": "text/x-python",
   "name": "python",
   "nbconvert_exporter": "python",
   "pygments_lexer": "ipython3",
   "version": "3.6.15"
  },
  "papermill": {
   "default_parameters": {},
   "duration": 95.83375,
   "end_time": "2022-01-20T10:09:06.424004",
   "environment_variables": {},
   "exception": null,
   "input_path": "2020-08-11-part2.ipynb",
   "output_path": "2020-08-11-part2.ipynb",
   "parameters": {},
   "start_time": "2022-01-20T10:07:30.590254",
   "version": "2.3.3"
  }
 },
 "nbformat": 4,
 "nbformat_minor": 5
}