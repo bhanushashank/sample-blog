{
 "cells": [
  {
   "cell_type": "markdown",
   "id": "98380cd3",
   "metadata": {
    "papermill": {
     "duration": 0.029078,
     "end_time": "2022-04-14T10:09:44.061331",
     "exception": false,
     "start_time": "2022-04-14T10:09:44.032253",
     "status": "completed"
    },
    "tags": []
   },
   "source": [
    "# Distinguish Your Own Digits (DYOD)"
   ]
  },
  {
   "cell_type": "markdown",
   "id": "ef31240d",
   "metadata": {
    "papermill": {
     "duration": 0.025425,
     "end_time": "2022-04-14T10:09:44.111326",
     "exception": false,
     "start_time": "2022-04-14T10:09:44.085901",
     "status": "completed"
    },
    "tags": []
   },
   "source": [
    "You are going to write a classifier that distinguishes between the number 3 and number 8."
   ]
  },
  {
   "cell_type": "code",
   "execution_count": 1,
   "id": "b15c8646",
   "metadata": {
    "execution": {
     "iopub.execute_input": "2022-04-14T10:09:44.169069Z",
     "iopub.status.busy": "2022-04-14T10:09:44.168537Z",
     "iopub.status.idle": "2022-04-14T10:09:44.178533Z",
     "shell.execute_reply": "2022-04-14T10:09:44.178918Z"
    },
    "papermill": {
     "duration": 0.044033,
     "end_time": "2022-04-14T10:09:44.179065",
     "exception": false,
     "start_time": "2022-04-14T10:09:44.135032",
     "status": "completed"
    },
    "tags": []
   },
   "outputs": [],
   "source": [
    "%load_ext autoreload\n",
    "%autoreload 2"
   ]
  },
  {
   "cell_type": "code",
   "execution_count": 2,
   "id": "22ef38dc",
   "metadata": {
    "execution": {
     "iopub.execute_input": "2022-04-14T10:09:44.230231Z",
     "iopub.status.busy": "2022-04-14T10:09:44.229726Z",
     "iopub.status.idle": "2022-04-14T10:09:44.758938Z",
     "shell.execute_reply": "2022-04-14T10:09:44.758400Z"
    },
    "papermill": {
     "duration": 0.55603,
     "end_time": "2022-04-14T10:09:44.759079",
     "exception": false,
     "start_time": "2022-04-14T10:09:44.203049",
     "status": "completed"
    },
    "tags": []
   },
   "outputs": [],
   "source": [
    "%matplotlib inline\n",
    "import numpy as np\n",
    "import matplotlib.pyplot as plt\n",
    "import pandas as pd"
   ]
  },
  {
   "cell_type": "markdown",
   "id": "ba036198",
   "metadata": {
    "papermill": {
     "duration": 0.023734,
     "end_time": "2022-04-14T10:09:44.806939",
     "exception": false,
     "start_time": "2022-04-14T10:09:44.783205",
     "status": "completed"
    },
    "tags": []
   },
   "source": [
    "From the command line run `pip install mnist`. This is a library that will help you bring down the mnist dataset. If you run this from a notebook, you need to put  `!pip install mnist` in a cell by itself."
   ]
  },
  {
   "cell_type": "code",
   "execution_count": 3,
   "id": "bb6ad8a1",
   "metadata": {
    "execution": {
     "iopub.execute_input": "2022-04-14T10:09:44.858854Z",
     "iopub.status.busy": "2022-04-14T10:09:44.858356Z",
     "iopub.status.idle": "2022-04-14T10:09:47.315113Z",
     "shell.execute_reply": "2022-04-14T10:09:47.314172Z"
    },
    "papermill": {
     "duration": 2.484512,
     "end_time": "2022-04-14T10:09:47.315270",
     "exception": false,
     "start_time": "2022-04-14T10:09:44.830758",
     "status": "completed"
    },
    "tags": []
   },
   "outputs": [
    {
     "name": "stdout",
     "output_type": "stream",
     "text": [
      "Collecting mnist\r\n"
     ]
    },
    {
     "name": "stdout",
     "output_type": "stream",
     "text": [
      "  Downloading mnist-0.2.2-py2.py3-none-any.whl (3.5 kB)\r\n",
      "Requirement already satisfied: numpy in /opt/hostedtoolcache/Python/3.6.15/x64/lib/python3.6/site-packages (from mnist) (1.19.5)\r\n"
     ]
    },
    {
     "name": "stdout",
     "output_type": "stream",
     "text": [
      "Installing collected packages: mnist\r\n",
      "Successfully installed mnist-0.2.2\r\n"
     ]
    }
   ],
   "source": [
    "!pip install mnist"
   ]
  },
  {
   "cell_type": "markdown",
   "id": "69df9c9a",
   "metadata": {
    "papermill": {
     "duration": 0.024735,
     "end_time": "2022-04-14T10:09:47.365307",
     "exception": false,
     "start_time": "2022-04-14T10:09:47.340572",
     "status": "completed"
    },
    "tags": []
   },
   "source": [
    "## Preparing the Data"
   ]
  },
  {
   "cell_type": "code",
   "execution_count": 4,
   "id": "7f69d806",
   "metadata": {
    "execution": {
     "iopub.execute_input": "2022-04-14T10:09:47.421789Z",
     "iopub.status.busy": "2022-04-14T10:09:47.417657Z",
     "iopub.status.idle": "2022-04-14T10:09:47.431400Z",
     "shell.execute_reply": "2022-04-14T10:09:47.431786Z"
    },
    "papermill": {
     "duration": 0.041868,
     "end_time": "2022-04-14T10:09:47.431909",
     "exception": false,
     "start_time": "2022-04-14T10:09:47.390041",
     "status": "completed"
    },
    "tags": []
   },
   "outputs": [],
   "source": [
    "import mnist"
   ]
  },
  {
   "cell_type": "code",
   "execution_count": 5,
   "id": "a411e44f",
   "metadata": {
    "execution": {
     "iopub.execute_input": "2022-04-14T10:09:47.488966Z",
     "iopub.status.busy": "2022-04-14T10:09:47.484925Z",
     "iopub.status.idle": "2022-04-14T10:09:48.020643Z",
     "shell.execute_reply": "2022-04-14T10:09:48.020068Z"
    },
    "papermill": {
     "duration": 0.564234,
     "end_time": "2022-04-14T10:09:48.020794",
     "exception": false,
     "start_time": "2022-04-14T10:09:47.456560",
     "status": "completed"
    },
    "tags": []
   },
   "outputs": [],
   "source": [
    "train_images = mnist.train_images()\n",
    "train_labels = mnist.train_labels()"
   ]
  },
  {
   "cell_type": "code",
   "execution_count": 6,
   "id": "dceab3a5",
   "metadata": {
    "execution": {
     "iopub.execute_input": "2022-04-14T10:09:48.077968Z",
     "iopub.status.busy": "2022-04-14T10:09:48.077456Z",
     "iopub.status.idle": "2022-04-14T10:09:48.090452Z",
     "shell.execute_reply": "2022-04-14T10:09:48.090842Z"
    },
    "papermill": {
     "duration": 0.044484,
     "end_time": "2022-04-14T10:09:48.090964",
     "exception": false,
     "start_time": "2022-04-14T10:09:48.046480",
     "status": "completed"
    },
    "tags": []
   },
   "outputs": [
    {
     "data": {
      "text/plain": [
       "((60000, 28, 28), (60000,))"
      ]
     },
     "execution_count": 6,
     "metadata": {},
     "output_type": "execute_result"
    }
   ],
   "source": [
    "train_images.shape, train_labels.shape"
   ]
  },
  {
   "cell_type": "code",
   "execution_count": 7,
   "id": "f50dc2bb",
   "metadata": {
    "execution": {
     "iopub.execute_input": "2022-04-14T10:09:48.143599Z",
     "iopub.status.busy": "2022-04-14T10:09:48.143100Z",
     "iopub.status.idle": "2022-04-14T10:09:48.291518Z",
     "shell.execute_reply": "2022-04-14T10:09:48.291045Z"
    },
    "papermill": {
     "duration": 0.175912,
     "end_time": "2022-04-14T10:09:48.291648",
     "exception": false,
     "start_time": "2022-04-14T10:09:48.115736",
     "status": "completed"
    },
    "tags": []
   },
   "outputs": [],
   "source": [
    "test_images = mnist.test_images()\n",
    "test_labels = mnist.test_labels()"
   ]
  },
  {
   "cell_type": "code",
   "execution_count": 8,
   "id": "fc38cf1b",
   "metadata": {
    "execution": {
     "iopub.execute_input": "2022-04-14T10:09:48.346148Z",
     "iopub.status.busy": "2022-04-14T10:09:48.345637Z",
     "iopub.status.idle": "2022-04-14T10:09:48.358542Z",
     "shell.execute_reply": "2022-04-14T10:09:48.359012Z"
    },
    "papermill": {
     "duration": 0.04202,
     "end_time": "2022-04-14T10:09:48.359135",
     "exception": false,
     "start_time": "2022-04-14T10:09:48.317115",
     "status": "completed"
    },
    "tags": []
   },
   "outputs": [
    {
     "data": {
      "text/plain": [
       "((10000, 28, 28), (10000,))"
      ]
     },
     "execution_count": 8,
     "metadata": {},
     "output_type": "execute_result"
    }
   ],
   "source": [
    "test_images.shape, test_labels.shape"
   ]
  },
  {
   "cell_type": "code",
   "execution_count": 9,
   "id": "f9ed8fe0",
   "metadata": {
    "execution": {
     "iopub.execute_input": "2022-04-14T10:09:48.413096Z",
     "iopub.status.busy": "2022-04-14T10:09:48.412589Z",
     "iopub.status.idle": "2022-04-14T10:09:48.546658Z",
     "shell.execute_reply": "2022-04-14T10:09:48.547118Z"
    },
    "papermill": {
     "duration": 0.162967,
     "end_time": "2022-04-14T10:09:48.547255",
     "exception": false,
     "start_time": "2022-04-14T10:09:48.384288",
     "status": "completed"
    },
    "tags": []
   },
   "outputs": [
    {
     "name": "stdout",
     "output_type": "stream",
     "text": [
      "2\n"
     ]
    },
    {
     "data": {
      "text/plain": [
       "<matplotlib.image.AxesImage at 0x7fdb04702320>"
      ]
     },
     "execution_count": 9,
     "metadata": {},
     "output_type": "execute_result"
    },
    {
     "data": {
      "image/png": "[encoded data removed]",
      "text/plain": [
       "<Figure size 432x288 with 1 Axes>"
      ]
     },
     "metadata": {
      "needs_background": "light"
     },
     "output_type": "display_data"
    }
   ],
   "source": [
    "image_index = 7776 # You may select anything up to 60,000\n",
    "print(train_labels[image_index]) \n",
    "plt.imshow(train_images[image_index], cmap='Greys')"
   ]
  },
  {
   "cell_type": "markdown",
   "id": "a8d2388d",
   "metadata": {
    "papermill": {
     "duration": 0.026284,
     "end_time": "2022-04-14T10:09:48.600855",
     "exception": false,
     "start_time": "2022-04-14T10:09:48.574571",
     "status": "completed"
    },
    "tags": []
   },
   "source": [
    "## Filter data to get 3 and 8 out"
   ]
  },
  {
   "cell_type": "code",
   "execution_count": 10,
   "id": "776f7fc7",
   "metadata": {
    "execution": {
     "iopub.execute_input": "2022-04-14T10:09:48.657206Z",
     "iopub.status.busy": "2022-04-14T10:09:48.656683Z",
     "iopub.status.idle": "2022-04-14T10:09:48.672708Z",
     "shell.execute_reply": "2022-04-14T10:09:48.673086Z"
    },
    "papermill": {
     "duration": 0.046025,
     "end_time": "2022-04-14T10:09:48.673206",
     "exception": false,
     "start_time": "2022-04-14T10:09:48.627181",
     "status": "completed"
    },
    "tags": []
   },
   "outputs": [],
   "source": [
    "train_filter = np.where((train_labels == 3 ) | (train_labels == 8))\n",
    "test_filter = np.where((test_labels == 3) | (test_labels == 8))\n",
    "X_train, y_train = train_images[train_filter], train_labels[train_filter]\n",
    "X_test, y_test = test_images[test_filter], test_labels[test_filter]"
   ]
  },
  {
   "cell_type": "markdown",
   "id": "948f0b7e",
   "metadata": {
    "papermill": {
     "duration": 0.026263,
     "end_time": "2022-04-14T10:09:48.725916",
     "exception": false,
     "start_time": "2022-04-14T10:09:48.699653",
     "status": "completed"
    },
    "tags": []
   },
   "source": [
    "We normalize the pizel values in the 0 to 1 range"
   ]
  },
  {
   "cell_type": "code",
   "execution_count": 11,
   "id": "ee4c2166",
   "metadata": {
    "execution": {
     "iopub.execute_input": "2022-04-14T10:09:48.781354Z",
     "iopub.status.busy": "2022-04-14T10:09:48.780851Z",
     "iopub.status.idle": "2022-04-14T10:09:48.829070Z",
     "shell.execute_reply": "2022-04-14T10:09:48.828605Z"
    },
    "papermill": {
     "duration": 0.076965,
     "end_time": "2022-04-14T10:09:48.829205",
     "exception": false,
     "start_time": "2022-04-14T10:09:48.752240",
     "status": "completed"
    },
    "tags": []
   },
   "outputs": [],
   "source": [
    "X_train = X_train/255.\n",
    "X_test = X_test/255."
   ]
  },
  {
   "cell_type": "markdown",
   "id": "ddcf4fab",
   "metadata": {
    "papermill": {
     "duration": 0.026339,
     "end_time": "2022-04-14T10:09:48.882294",
     "exception": false,
     "start_time": "2022-04-14T10:09:48.855955",
     "status": "completed"
    },
    "tags": []
   },
   "source": [
    "And setup the labels as 1 (when the digit is 3) and 0 (when the digit is 8)"
   ]
  },
  {
   "cell_type": "code",
   "execution_count": 12,
   "id": "7dc908f2",
   "metadata": {
    "execution": {
     "iopub.execute_input": "2022-04-14T10:09:48.952156Z",
     "iopub.status.busy": "2022-04-14T10:09:48.949703Z",
     "iopub.status.idle": "2022-04-14T10:09:48.954409Z",
     "shell.execute_reply": "2022-04-14T10:09:48.954001Z"
    },
    "papermill": {
     "duration": 0.045845,
     "end_time": "2022-04-14T10:09:48.954520",
     "exception": false,
     "start_time": "2022-04-14T10:09:48.908675",
     "status": "completed"
    },
    "tags": []
   },
   "outputs": [],
   "source": [
    "y_train = 1*(y_train==3)\n",
    "y_test = 1*(y_test==3)"
   ]
  },
  {
   "cell_type": "code",
   "execution_count": 13,
   "id": "01e4e969",
   "metadata": {
    "execution": {
     "iopub.execute_input": "2022-04-14T10:09:49.009854Z",
     "iopub.status.busy": "2022-04-14T10:09:49.009350Z",
     "iopub.status.idle": "2022-04-14T10:09:49.021951Z",
     "shell.execute_reply": "2022-04-14T10:09:49.022378Z"
    },
    "papermill": {
     "duration": 0.04172,
     "end_time": "2022-04-14T10:09:49.022494",
     "exception": false,
     "start_time": "2022-04-14T10:09:48.980774",
     "status": "completed"
    },
    "tags": []
   },
   "outputs": [
    {
     "data": {
      "text/plain": [
       "((11982, 28, 28), (1984, 28, 28))"
      ]
     },
     "execution_count": 13,
     "metadata": {},
     "output_type": "execute_result"
    }
   ],
   "source": [
    "X_train.shape, X_test.shape"
   ]
  },
  {
   "cell_type": "markdown",
   "id": "5ccf3f85",
   "metadata": {
    "papermill": {
     "duration": 0.026302,
     "end_time": "2022-04-14T10:09:49.075178",
     "exception": false,
     "start_time": "2022-04-14T10:09:49.048876",
     "status": "completed"
    },
    "tags": []
   },
   "source": [
    "We reshape the data to flatten the image pixels into a set of features or co-variates:"
   ]
  },
  {
   "cell_type": "code",
   "execution_count": 14,
   "id": "5286a4a3",
   "metadata": {
    "execution": {
     "iopub.execute_input": "2022-04-14T10:09:49.144605Z",
     "iopub.status.busy": "2022-04-14T10:09:49.141043Z",
     "iopub.status.idle": "2022-04-14T10:09:49.147126Z",
     "shell.execute_reply": "2022-04-14T10:09:49.147554Z"
    },
    "papermill": {
     "duration": 0.046048,
     "end_time": "2022-04-14T10:09:49.147667",
     "exception": false,
     "start_time": "2022-04-14T10:09:49.101619",
     "status": "completed"
    },
    "tags": []
   },
   "outputs": [
    {
     "data": {
      "text/plain": [
       "((11982, 784), (1984, 784))"
      ]
     },
     "execution_count": 14,
     "metadata": {},
     "output_type": "execute_result"
    }
   ],
   "source": [
    "X_train = X_train.reshape(X_train.shape[0], -1)\n",
    "X_test = X_test.reshape(X_test.shape[0], -1)\n",
    "X_train.shape, X_test.shape"
   ]
  },
  {
   "cell_type": "code",
   "execution_count": 15,
   "id": "73c5f88a",
   "metadata": {
    "execution": {
     "iopub.execute_input": "2022-04-14T10:09:49.209466Z",
     "iopub.status.busy": "2022-04-14T10:09:49.208958Z",
     "iopub.status.idle": "2022-04-14T10:09:49.223179Z",
     "shell.execute_reply": "2022-04-14T10:09:49.223582Z"
    },
    "papermill": {
     "duration": 0.049305,
     "end_time": "2022-04-14T10:09:49.223693",
     "exception": false,
     "start_time": "2022-04-14T10:09:49.174388",
     "status": "completed"
    },
    "tags": []
   },
   "outputs": [],
   "source": [
    "#Impoting functions from 'Kudzu'\n",
    "from kudzu.model import Model\n",
    "from kudzu.train import Learner\n",
    "from kudzu.optim import GD\n",
    "from kudzu.data import Data, Sampler,Dataloader\n",
    "\n",
    "from kudzu.callbacks import AccCallback\n",
    "from kudzu.callbacks import ClfCallback\n",
    "\n",
    "from kudzu.loss import MSE\n",
    "\n",
    "from kudzu.layer import Sigmoid,Relu\n",
    "from kudzu.layer import Affine"
   ]
  },
  {
   "cell_type": "markdown",
   "id": "bc01172a",
   "metadata": {
    "papermill": {
     "duration": 0.026849,
     "end_time": "2022-04-14T10:09:49.277257",
     "exception": false,
     "start_time": "2022-04-14T10:09:49.250408",
     "status": "completed"
    },
    "tags": []
   },
   "source": [
    "### Let us create a `Config` class, to store important parameters. \n",
    "This class essentially plays the role of a dictionary."
   ]
  },
  {
   "cell_type": "code",
   "execution_count": 16,
   "id": "978281aa",
   "metadata": {
    "execution": {
     "iopub.execute_input": "2022-04-14T10:09:49.337044Z",
     "iopub.status.busy": "2022-04-14T10:09:49.336531Z",
     "iopub.status.idle": "2022-04-14T10:09:49.346538Z",
     "shell.execute_reply": "2022-04-14T10:09:49.346918Z"
    },
    "papermill": {
     "duration": 0.043007,
     "end_time": "2022-04-14T10:09:49.347033",
     "exception": false,
     "start_time": "2022-04-14T10:09:49.304026",
     "status": "completed"
    },
    "tags": []
   },
   "outputs": [],
   "source": [
    "class Config:\n",
    "    pass\n",
    "config = Config()\n",
    "config.lr = 0.001\n",
    "config.num_epochs = 250\n",
    "config.bs = 50"
   ]
  },
  {
   "cell_type": "markdown",
   "id": "1385fa59",
   "metadata": {
    "papermill": {
     "duration": 0.026958,
     "end_time": "2022-04-14T10:09:49.400783",
     "exception": false,
     "start_time": "2022-04-14T10:09:49.373825",
     "status": "completed"
    },
    "tags": []
   },
   "source": [
    "### Running Models with the Training data\n",
    "Details about the network layers:\n",
    "- A first affine layer has 784 inputs and does 100 affine transforms. These are followed by a Relu\n",
    "- A second affine layer has 100 inputs from the 100 activations of the past layer, and does 100 affine transforms. These are followed by a Relu\n",
    "- A third affine layer has 100 activations and does 2 affine transformations to create an embedding for visualization. There is no non-linearity here.\n",
    "- A final \"logistic regression\" which has an affine transform from 2 inputs to 1 output, which is squeezed through a sigmoid.\n"
   ]
  },
  {
   "cell_type": "code",
   "execution_count": 17,
   "id": "2b9c66db",
   "metadata": {
    "execution": {
     "iopub.execute_input": "2022-04-14T10:09:49.459999Z",
     "iopub.status.busy": "2022-04-14T10:09:49.459444Z",
     "iopub.status.idle": "2022-04-14T10:09:49.471441Z",
     "shell.execute_reply": "2022-04-14T10:09:49.472084Z"
    },
    "papermill": {
     "duration": 0.044142,
     "end_time": "2022-04-14T10:09:49.472199",
     "exception": false,
     "start_time": "2022-04-14T10:09:49.428057",
     "status": "completed"
    },
    "tags": []
   },
   "outputs": [],
   "source": [
    "data = Data(X_train, y_train.reshape(-1,1))\n",
    "sampler = Sampler(data, config.bs, shuffle=True)\n",
    "\n",
    "dl = Dataloader(data, sampler)\n",
    "\n",
    "opt = GD(config.lr)\n",
    "loss = MSE()"
   ]
  },
  {
   "cell_type": "code",
   "execution_count": 18,
   "id": "b275e4c2",
   "metadata": {
    "execution": {
     "iopub.execute_input": "2022-04-14T10:09:49.538032Z",
     "iopub.status.busy": "2022-04-14T10:09:49.537528Z",
     "iopub.status.idle": "2022-04-14T10:09:49.543760Z",
     "shell.execute_reply": "2022-04-14T10:09:49.544165Z"
    },
    "papermill": {
     "duration": 0.045264,
     "end_time": "2022-04-14T10:09:49.544274",
     "exception": false,
     "start_time": "2022-04-14T10:09:49.499010",
     "status": "completed"
    },
    "tags": []
   },
   "outputs": [],
   "source": [
    "training_data_x = X_train\n",
    "testing_data_x = X_test\n",
    "training_data_y = y_train.reshape(-1,1)\n",
    "testing_data_y = y_test.reshape(-1,1)"
   ]
  },
  {
   "cell_type": "code",
   "execution_count": 19,
   "id": "76951160",
   "metadata": {
    "execution": {
     "iopub.execute_input": "2022-04-14T10:09:49.608927Z",
     "iopub.status.busy": "2022-04-14T10:09:49.600922Z",
     "iopub.status.idle": "2022-04-14T10:09:49.617293Z",
     "shell.execute_reply": "2022-04-14T10:09:49.617670Z"
    },
    "papermill": {
     "duration": 0.04681,
     "end_time": "2022-04-14T10:09:49.617783",
     "exception": false,
     "start_time": "2022-04-14T10:09:49.570973",
     "status": "completed"
    },
    "tags": []
   },
   "outputs": [
    {
     "name": "stdout",
     "output_type": "stream",
     "text": [
      "xavier\n",
      "xavier\n",
      "xavier\n",
      "xavier\n",
      "xavier\n"
     ]
    }
   ],
   "source": [
    "layers = [Affine(\"first\", 784, 100), Relu(\"first\"), Affine(\"second\", 100, 100), Relu(\"second\"), Affine(\"third\", 100, 2), Affine(\"last\", 2, 1), Sigmoid(\"last\")]\n",
    "model_nn = Model(layers)\n",
    "model_lr = Model([Affine(\"logits\", 784, 1), Sigmoid(\"sigmoid\")])"
   ]
  },
  {
   "cell_type": "code",
   "execution_count": 20,
   "id": "6eede77a",
   "metadata": {
    "execution": {
     "iopub.execute_input": "2022-04-14T10:09:49.682687Z",
     "iopub.status.busy": "2022-04-14T10:09:49.681909Z",
     "iopub.status.idle": "2022-04-14T10:09:49.690239Z",
     "shell.execute_reply": "2022-04-14T10:09:49.689837Z"
    },
    "papermill": {
     "duration": 0.045552,
     "end_time": "2022-04-14T10:09:49.690338",
     "exception": false,
     "start_time": "2022-04-14T10:09:49.644786",
     "status": "completed"
    },
    "tags": []
   },
   "outputs": [],
   "source": [
    "nn_learner = Learner(loss, model_nn, opt, config.num_epochs)\n",
    "acc_nn = ClfCallback(nn_learner, config.bs, training_data_x , testing_data_x, training_data_y, testing_data_y)\n",
    "nn_learner.set_callbacks([acc_nn])"
   ]
  },
  {
   "cell_type": "code",
   "execution_count": 21,
   "id": "877b6cc7",
   "metadata": {
    "execution": {
     "iopub.execute_input": "2022-04-14T10:09:49.747381Z",
     "iopub.status.busy": "2022-04-14T10:09:49.746883Z",
     "iopub.status.idle": "2022-04-14T10:09:49.758183Z",
     "shell.execute_reply": "2022-04-14T10:09:49.757784Z"
    },
    "papermill": {
     "duration": 0.040995,
     "end_time": "2022-04-14T10:09:49.758285",
     "exception": false,
     "start_time": "2022-04-14T10:09:49.717290",
     "status": "completed"
    },
    "tags": []
   },
   "outputs": [],
   "source": [
    "lr_learner = Learner(loss, model_lr, opt, config.num_epochs)\n",
    "acc_lr = ClfCallback(lr_learner, config.bs, training_data_x , testing_data_x, training_data_y, testing_data_y)\n",
    "lr_learner.set_callbacks([acc_lr])"
   ]
  },
  {
   "cell_type": "code",
   "execution_count": 22,
   "id": "d9b133c3",
   "metadata": {
    "execution": {
     "iopub.execute_input": "2022-04-14T10:09:49.814554Z",
     "iopub.status.busy": "2022-04-14T10:09:49.814060Z",
     "iopub.status.idle": "2022-04-14T10:11:04.270419Z",
     "shell.execute_reply": "2022-04-14T10:11:04.270910Z"
    },
    "papermill": {
     "duration": 74.485747,
     "end_time": "2022-04-14T10:11:04.271057",
     "exception": false,
     "start_time": "2022-04-14T10:09:49.785310",
     "status": "completed"
    },
    "tags": []
   },
   "outputs": [
    {
     "name": "stdout",
     "output_type": "stream",
     "text": [
      "Epoch 0, Loss 0.2489\n",
      "Training Accuracy: 0.5845, Testing Accuracy: 0.6134\n",
      "\n"
     ]
    },
    {
     "name": "stdout",
     "output_type": "stream",
     "text": [
      "Epoch 10, Loss 0.1991\n",
      "Training Accuracy: 0.8585, Testing Accuracy: 0.8720\n",
      "\n"
     ]
    },
    {
     "name": "stdout",
     "output_type": "stream",
     "text": [
      "Epoch 20, Loss 0.1038\n",
      "Training Accuracy: 0.9018, Testing Accuracy: 0.9108\n",
      "\n"
     ]
    },
    {
     "name": "stdout",
     "output_type": "stream",
     "text": [
      "Epoch 30, Loss 0.0654\n",
      "Training Accuracy: 0.9293, Testing Accuracy: 0.9400\n",
      "\n"
     ]
    },
    {
     "name": "stdout",
     "output_type": "stream",
     "text": [
      "Epoch 40, Loss 0.0503\n",
      "Training Accuracy: 0.9449, Testing Accuracy: 0.9567\n",
      "\n"
     ]
    },
    {
     "name": "stdout",
     "output_type": "stream",
     "text": [
      "Epoch 50, Loss 0.0427\n",
      "Training Accuracy: 0.9518, Testing Accuracy: 0.9627\n",
      "\n"
     ]
    },
    {
     "name": "stdout",
     "output_type": "stream",
     "text": [
      "Epoch 60, Loss 0.0382\n",
      "Training Accuracy: 0.9565, Testing Accuracy: 0.9637\n",
      "\n"
     ]
    },
    {
     "name": "stdout",
     "output_type": "stream",
     "text": [
      "Epoch 70, Loss 0.0351\n",
      "Training Accuracy: 0.9594, Testing Accuracy: 0.9642\n",
      "\n"
     ]
    },
    {
     "name": "stdout",
     "output_type": "stream",
     "text": [
      "Epoch 80, Loss 0.0328\n",
      "Training Accuracy: 0.9607, Testing Accuracy: 0.9647\n",
      "\n"
     ]
    },
    {
     "name": "stdout",
     "output_type": "stream",
     "text": [
      "Epoch 90, Loss 0.0311\n",
      "Training Accuracy: 0.9624, Testing Accuracy: 0.9662\n",
      "\n"
     ]
    },
    {
     "name": "stdout",
     "output_type": "stream",
     "text": [
      "Epoch 100, Loss 0.0296\n",
      "Training Accuracy: 0.9632, Testing Accuracy: 0.9667\n",
      "\n"
     ]
    },
    {
     "name": "stdout",
     "output_type": "stream",
     "text": [
      "Epoch 110, Loss 0.0284\n",
      "Training Accuracy: 0.9654, Testing Accuracy: 0.9677\n",
      "\n"
     ]
    },
    {
     "name": "stdout",
     "output_type": "stream",
     "text": [
      "Epoch 120, Loss 0.0274\n",
      "Training Accuracy: 0.9665, Testing Accuracy: 0.9677\n",
      "\n"
     ]
    },
    {
     "name": "stdout",
     "output_type": "stream",
     "text": [
      "Epoch 130, Loss 0.0265\n",
      "Training Accuracy: 0.9678, Testing Accuracy: 0.9693\n",
      "\n"
     ]
    },
    {
     "name": "stdout",
     "output_type": "stream",
     "text": [
      "Epoch 140, Loss 0.0257\n",
      "Training Accuracy: 0.9692, Testing Accuracy: 0.9693\n",
      "\n"
     ]
    },
    {
     "name": "stdout",
     "output_type": "stream",
     "text": [
      "Epoch 150, Loss 0.0249\n",
      "Training Accuracy: 0.9700, Testing Accuracy: 0.9698\n",
      "\n"
     ]
    },
    {
     "name": "stdout",
     "output_type": "stream",
     "text": [
      "Epoch 160, Loss 0.0243\n",
      "Training Accuracy: 0.9712, Testing Accuracy: 0.9677\n",
      "\n"
     ]
    },
    {
     "name": "stdout",
     "output_type": "stream",
     "text": [
      "Epoch 170, Loss 0.0237\n",
      "Training Accuracy: 0.9721, Testing Accuracy: 0.9682\n",
      "\n"
     ]
    },
    {
     "name": "stdout",
     "output_type": "stream",
     "text": [
      "Epoch 180, Loss 0.0231\n",
      "Training Accuracy: 0.9728, Testing Accuracy: 0.9693\n",
      "\n"
     ]
    },
    {
     "name": "stdout",
     "output_type": "stream",
     "text": [
      "Epoch 190, Loss 0.0226\n",
      "Training Accuracy: 0.9731, Testing Accuracy: 0.9703\n",
      "\n"
     ]
    },
    {
     "name": "stdout",
     "output_type": "stream",
     "text": [
      "Epoch 200, Loss 0.0221\n",
      "Training Accuracy: 0.9738, Testing Accuracy: 0.9708\n",
      "\n"
     ]
    },
    {
     "name": "stdout",
     "output_type": "stream",
     "text": [
      "Epoch 210, Loss 0.0217\n",
      "Training Accuracy: 0.9745, Testing Accuracy: 0.9713\n",
      "\n"
     ]
    },
    {
     "name": "stdout",
     "output_type": "stream",
     "text": [
      "Epoch 220, Loss 0.0212\n",
      "Training Accuracy: 0.9751, Testing Accuracy: 0.9718\n",
      "\n"
     ]
    },
    {
     "name": "stdout",
     "output_type": "stream",
     "text": [
      "Epoch 230, Loss 0.0208\n",
      "Training Accuracy: 0.9752, Testing Accuracy: 0.9713\n",
      "\n"
     ]
    },
    {
     "name": "stdout",
     "output_type": "stream",
     "text": [
      "Epoch 240, Loss 0.0204\n",
      "Training Accuracy: 0.9759, Testing Accuracy: 0.9713\n",
      "\n"
     ]
    },
    {
     "data": {
      "text/plain": [
       "0.013325042540792238"
      ]
     },
     "execution_count": 22,
     "metadata": {},
     "output_type": "execute_result"
    }
   ],
   "source": [
    "nn_learner.train_loop(dl)"
   ]
  },
  {
   "cell_type": "code",
   "execution_count": 23,
   "id": "e0163366",
   "metadata": {
    "execution": {
     "iopub.execute_input": "2022-04-14T10:11:04.349632Z",
     "iopub.status.busy": "2022-04-14T10:11:04.349127Z",
     "iopub.status.idle": "2022-04-14T10:11:17.972050Z",
     "shell.execute_reply": "2022-04-14T10:11:17.972803Z"
    },
    "papermill": {
     "duration": 13.667281,
     "end_time": "2022-04-14T10:11:17.972962",
     "exception": false,
     "start_time": "2022-04-14T10:11:04.305681",
     "status": "completed"
    },
    "tags": []
   },
   "outputs": [
    {
     "name": "stdout",
     "output_type": "stream",
     "text": [
      "Epoch 0, Loss 0.2452\n",
      "Training Accuracy: 0.6702, Testing Accuracy: 0.6920\n",
      "\n"
     ]
    },
    {
     "name": "stdout",
     "output_type": "stream",
     "text": [
      "Epoch 10, Loss 0.1057\n",
      "Training Accuracy: 0.9002, Testing Accuracy: 0.9153\n",
      "\n"
     ]
    },
    {
     "name": "stdout",
     "output_type": "stream",
     "text": [
      "Epoch 20, Loss 0.0811\n",
      "Training Accuracy: 0.9215, Testing Accuracy: 0.9345\n",
      "\n"
     ]
    },
    {
     "name": "stdout",
     "output_type": "stream",
     "text": [
      "Epoch 30, Loss 0.0696\n",
      "Training Accuracy: 0.9314, Testing Accuracy: 0.9405\n",
      "\n"
     ]
    },
    {
     "name": "stdout",
     "output_type": "stream",
     "text": [
      "Epoch 40, Loss 0.0627\n",
      "Training Accuracy: 0.9369, Testing Accuracy: 0.9471\n",
      "\n"
     ]
    },
    {
     "name": "stdout",
     "output_type": "stream",
     "text": [
      "Epoch 50, Loss 0.058\n",
      "Training Accuracy: 0.9429, Testing Accuracy: 0.9506\n",
      "\n"
     ]
    },
    {
     "name": "stdout",
     "output_type": "stream",
     "text": [
      "Epoch 60, Loss 0.0546\n",
      "Training Accuracy: 0.9455, Testing Accuracy: 0.9541\n",
      "\n"
     ]
    },
    {
     "name": "stdout",
     "output_type": "stream",
     "text": [
      "Epoch 70, Loss 0.0519\n",
      "Training Accuracy: 0.9484, Testing Accuracy: 0.9572\n",
      "\n"
     ]
    },
    {
     "name": "stdout",
     "output_type": "stream",
     "text": [
      "Epoch 80, Loss 0.0498\n",
      "Training Accuracy: 0.9500, Testing Accuracy: 0.9592\n",
      "\n"
     ]
    },
    {
     "name": "stdout",
     "output_type": "stream",
     "text": [
      "Epoch 90, Loss 0.048\n",
      "Training Accuracy: 0.9513, Testing Accuracy: 0.9597\n",
      "\n"
     ]
    },
    {
     "name": "stdout",
     "output_type": "stream",
     "text": [
      "Epoch 100, Loss 0.0465\n",
      "Training Accuracy: 0.9527, Testing Accuracy: 0.9612\n",
      "\n"
     ]
    },
    {
     "name": "stdout",
     "output_type": "stream",
     "text": [
      "Epoch 110, Loss 0.0453\n",
      "Training Accuracy: 0.9534, Testing Accuracy: 0.9612\n",
      "\n"
     ]
    },
    {
     "name": "stdout",
     "output_type": "stream",
     "text": [
      "Epoch 120, Loss 0.0442\n",
      "Training Accuracy: 0.9543, Testing Accuracy: 0.9627\n",
      "\n"
     ]
    },
    {
     "name": "stdout",
     "output_type": "stream",
     "text": [
      "Epoch 130, Loss 0.0432\n",
      "Training Accuracy: 0.9553, Testing Accuracy: 0.9627\n",
      "\n"
     ]
    },
    {
     "name": "stdout",
     "output_type": "stream",
     "text": [
      "Epoch 140, Loss 0.0424\n",
      "Training Accuracy: 0.9558, Testing Accuracy: 0.9627\n",
      "\n"
     ]
    },
    {
     "name": "stdout",
     "output_type": "stream",
     "text": [
      "Epoch 150, Loss 0.0416\n",
      "Training Accuracy: 0.9565, Testing Accuracy: 0.9632\n",
      "\n"
     ]
    },
    {
     "name": "stdout",
     "output_type": "stream",
     "text": [
      "Epoch 160, Loss 0.0409\n",
      "Training Accuracy: 0.9569, Testing Accuracy: 0.9637\n",
      "\n"
     ]
    },
    {
     "name": "stdout",
     "output_type": "stream",
     "text": [
      "Epoch 170, Loss 0.0403\n",
      "Training Accuracy: 0.9578, Testing Accuracy: 0.9637\n",
      "\n"
     ]
    },
    {
     "name": "stdout",
     "output_type": "stream",
     "text": [
      "Epoch 180, Loss 0.0397\n",
      "Training Accuracy: 0.9582, Testing Accuracy: 0.9647\n",
      "\n"
     ]
    },
    {
     "name": "stdout",
     "output_type": "stream",
     "text": [
      "Epoch 190, Loss 0.0392\n",
      "Training Accuracy: 0.9584, Testing Accuracy: 0.9647\n",
      "\n"
     ]
    },
    {
     "name": "stdout",
     "output_type": "stream",
     "text": [
      "Epoch 200, Loss 0.0387\n",
      "Training Accuracy: 0.9591, Testing Accuracy: 0.9662\n",
      "\n"
     ]
    },
    {
     "name": "stdout",
     "output_type": "stream",
     "text": [
      "Epoch 210, Loss 0.0382\n",
      "Training Accuracy: 0.9593, Testing Accuracy: 0.9662\n",
      "\n"
     ]
    },
    {
     "name": "stdout",
     "output_type": "stream",
     "text": [
      "Epoch 220, Loss 0.0378\n",
      "Training Accuracy: 0.9595, Testing Accuracy: 0.9657\n",
      "\n"
     ]
    },
    {
     "name": "stdout",
     "output_type": "stream",
     "text": [
      "Epoch 230, Loss 0.0374\n",
      "Training Accuracy: 0.9599, Testing Accuracy: 0.9662\n",
      "\n"
     ]
    },
    {
     "name": "stdout",
     "output_type": "stream",
     "text": [
      "Epoch 240, Loss 0.0371\n",
      "Training Accuracy: 0.9603, Testing Accuracy: 0.9657\n",
      "\n"
     ]
    },
    {
     "data": {
      "text/plain": [
       "0.03012939233719812"
      ]
     },
     "execution_count": 23,
     "metadata": {},
     "output_type": "execute_result"
    }
   ],
   "source": [
    "lr_learner.train_loop(dl)"
   ]
  },
  {
   "cell_type": "code",
   "execution_count": 24,
   "id": "ca410940",
   "metadata": {
    "execution": {
     "iopub.execute_input": "2022-04-14T10:11:18.069425Z",
     "iopub.status.busy": "2022-04-14T10:11:18.068901Z",
     "iopub.status.idle": "2022-04-14T10:11:18.295061Z",
     "shell.execute_reply": "2022-04-14T10:11:18.294637Z"
    },
    "papermill": {
     "duration": 0.281076,
     "end_time": "2022-04-14T10:11:18.295181",
     "exception": false,
     "start_time": "2022-04-14T10:11:18.014105",
     "status": "completed"
    },
    "tags": []
   },
   "outputs": [
    {
     "data": {
      "text/plain": [
       "<matplotlib.legend.Legend at 0x7fdaf6f58ac8>"
      ]
     },
     "execution_count": 24,
     "metadata": {},
     "output_type": "execute_result"
    },
    {
     "data": {
      "image/png": "[encoded data removed]",
      "text/plain": [
       "<Figure size 1080x720 with 1 Axes>"
      ]
     },
     "metadata": {
      "needs_background": "light"
     },
     "output_type": "display_data"
    }
   ],
   "source": [
    "#comparing the results of NN and LR\n",
    "plt.figure(figsize=(15,10))\n",
    "\n",
    "# Neural Network plots\n",
    "plt.plot(acc_nn.accuracies, 'r-', label = \"Training Accuracies - NN\")\n",
    "plt.plot(acc_nn.test_accuracies, 'g-', label = \"Testing Accuracies - NN\")\n",
    "\n",
    "# Logistic Regression plots\n",
    "plt.plot(acc_lr.accuracies, 'k-', label = \"Training Accuracies - LR\")\n",
    "plt.plot(acc_lr.test_accuracies, 'b-', label = \"Testing Accuracies - LR\")\n",
    "plt.legend()"
   ]
  },
  {
   "cell_type": "markdown",
   "id": "80dfb35c",
   "metadata": {
    "papermill": {
     "duration": 0.042061,
     "end_time": "2022-04-14T10:11:18.379808",
     "exception": false,
     "start_time": "2022-04-14T10:11:18.337747",
     "status": "completed"
    },
    "tags": []
   },
   "source": [
    "#### Plotting the outputs of this layer of the NN.\n"
   ]
  },
  {
   "cell_type": "code",
   "execution_count": 25,
   "id": "45eb2ff5",
   "metadata": {
    "execution": {
     "iopub.execute_input": "2022-04-14T10:11:18.468067Z",
     "iopub.status.busy": "2022-04-14T10:11:18.467552Z",
     "iopub.status.idle": "2022-04-14T10:11:18.487844Z",
     "shell.execute_reply": "2022-04-14T10:11:18.488225Z"
    },
    "papermill": {
     "duration": 0.066475,
     "end_time": "2022-04-14T10:11:18.488377",
     "exception": false,
     "start_time": "2022-04-14T10:11:18.421902",
     "status": "completed"
    },
    "tags": []
   },
   "outputs": [],
   "source": [
    "new_model = Model(layers[:-2])\n",
    "testing_plot = new_model(testing_data_x)"
   ]
  },
  {
   "cell_type": "code",
   "execution_count": 26,
   "id": "4c0a5485",
   "metadata": {
    "execution": {
     "iopub.execute_input": "2022-04-14T10:11:18.576771Z",
     "iopub.status.busy": "2022-04-14T10:11:18.576225Z",
     "iopub.status.idle": "2022-04-14T10:11:18.765474Z",
     "shell.execute_reply": "2022-04-14T10:11:18.765890Z"
    },
    "papermill": {
     "duration": 0.235483,
     "end_time": "2022-04-14T10:11:18.766036",
     "exception": false,
     "start_time": "2022-04-14T10:11:18.530553",
     "status": "completed"
    },
    "tags": []
   },
   "outputs": [
    {
     "data": {
      "text/plain": [
       "Text(0.5, 1.0, 'Outputs')"
      ]
     },
     "execution_count": 26,
     "metadata": {},
     "output_type": "execute_result"
    },
    {
     "data": {
      "image/png": "[encoded data removed]",
      "text/plain": [
       "<Figure size 576x504 with 1 Axes>"
      ]
     },
     "metadata": {
      "needs_background": "light"
     },
     "output_type": "display_data"
    }
   ],
   "source": [
    "# Plotting the scatter plot of points and color coding by class\n",
    "plt.figure(figsize=(8,7))\n",
    "plt.scatter(testing_plot[:,0], testing_plot[:,1], alpha = 0.1, c = y_test.ravel());\n",
    "plt.title('Outputs')"
   ]
  },
  {
   "cell_type": "markdown",
   "id": "a74fcf8f",
   "metadata": {
    "papermill": {
     "duration": 0.044096,
     "end_time": "2022-04-14T10:11:18.854316",
     "exception": false,
     "start_time": "2022-04-14T10:11:18.810220",
     "status": "completed"
    },
    "tags": []
   },
   "source": [
    "Probability contours"
   ]
  },
  {
   "cell_type": "code",
   "execution_count": 27,
   "id": "d0afc8e3",
   "metadata": {
    "execution": {
     "iopub.execute_input": "2022-04-14T10:11:18.960185Z",
     "iopub.status.busy": "2022-04-14T10:11:18.947106Z",
     "iopub.status.idle": "2022-04-14T10:11:18.962820Z",
     "shell.execute_reply": "2022-04-14T10:11:18.963228Z"
    },
    "papermill": {
     "duration": 0.064988,
     "end_time": "2022-04-14T10:11:18.963357",
     "exception": false,
     "start_time": "2022-04-14T10:11:18.898369",
     "status": "completed"
    },
    "tags": []
   },
   "outputs": [],
   "source": [
    "model_prob = Model(layers[-2:]) "
   ]
  },
  {
   "cell_type": "code",
   "execution_count": 28,
   "id": "9b96e238",
   "metadata": {
    "execution": {
     "iopub.execute_input": "2022-04-14T10:11:19.069615Z",
     "iopub.status.busy": "2022-04-14T10:11:19.054504Z",
     "iopub.status.idle": "2022-04-14T10:11:19.075792Z",
     "shell.execute_reply": "2022-04-14T10:11:19.074907Z"
    },
    "papermill": {
     "duration": 0.068553,
     "end_time": "2022-04-14T10:11:19.075903",
     "exception": false,
     "start_time": "2022-04-14T10:11:19.007350",
     "status": "completed"
    },
    "tags": []
   },
   "outputs": [],
   "source": [
    "#creating the x and y ranges according to the above generated plot.\n",
    "x_range = np.linspace(-4, 1, 100) \n",
    "y_range = np.linspace(-6, 6, 100) \n",
    "x_grid, y_grid = np.meshgrid(x_range, y_range) # x_grid and y_grig are of size 100 X 100\n",
    "\n",
    "# converting x_grid and y_grid to continuous arrays\n",
    "x_gridflat = np.ravel(x_grid)\n",
    "y_gridflat = np.ravel(y_grid)\n",
    "\n",
    "# The last layer of the current model takes two columns as input. Hence transpose of np.vstack() is required.\n",
    "X = np.vstack((x_gridflat, y_gridflat)).T\n",
    "\n",
    "prob_contour = model_prob(X).reshape(100,100) "
   ]
  },
  {
   "cell_type": "code",
   "execution_count": 29,
   "id": "da72499a",
   "metadata": {
    "execution": {
     "iopub.execute_input": "2022-04-14T10:11:19.197615Z",
     "iopub.status.busy": "2022-04-14T10:11:19.197020Z",
     "iopub.status.idle": "2022-04-14T10:11:19.443010Z",
     "shell.execute_reply": "2022-04-14T10:11:19.443423Z"
    },
    "papermill": {
     "duration": 0.323357,
     "end_time": "2022-04-14T10:11:19.443570",
     "exception": false,
     "start_time": "2022-04-14T10:11:19.120213",
     "status": "completed"
    },
    "tags": []
   },
   "outputs": [
    {
     "data": {
      "image/png": "[encoded data removed]",
      "text/plain": [
       "<Figure size 720x648 with 1 Axes>"
      ]
     },
     "metadata": {
      "needs_background": "light"
     },
     "output_type": "display_data"
    }
   ],
   "source": [
    "plt.figure(figsize=(10,9))\n",
    "plt.scatter(testing_plot[:,0], testing_plot[:,1], alpha = 0.1, c = y_test.ravel())\n",
    "contours = plt.contour(x_grid,y_grid,prob_contour)\n",
    "plt.title('Probability Contours')\n",
    "plt.clabel(contours, inline = True );"
   ]
  },
  {
   "cell_type": "code",
   "execution_count": null,
   "id": "e81b4ac7",
   "metadata": {
    "papermill": {
     "duration": 0.04677,
     "end_time": "2022-04-14T10:11:19.537983",
     "exception": false,
     "start_time": "2022-04-14T10:11:19.491213",
     "status": "completed"
    },
    "tags": []
   },
   "outputs": [],
   "source": []
  }
 ],
 "metadata": {
  "kernelspec": {
   "display_name": "Python 3",
   "language": "python",
   "name": "python3"
  },
  "language_info": {
   "codemirror_mode": {
    "name": "ipython",
    "version": 3
   },
   "file_extension": ".py",
   "mimetype": "text/x-python",
   "name": "python",
   "nbconvert_exporter": "python",
   "pygments_lexer": "ipython3",
   "version": "3.6.15"
  },
  "papermill": {
   "default_parameters": {},
   "duration": 96.894071,
   "end_time": "2022-04-14T10:11:20.003398",
   "environment_variables": {},
   "exception": null,
   "input_path": "2020-08-11-part2.ipynb",
   "output_path": "2020-08-11-part2.ipynb",
   "parameters": {},
   "start_time": "2022-04-14T10:09:43.109327",
   "version": "2.3.3"
  }
 },
 "nbformat": 4,
 "nbformat_minor": 5
}