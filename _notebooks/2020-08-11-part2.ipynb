{
 "cells": [
  {
   "cell_type": "markdown",
   "id": "98380cd3",
   "metadata": {
    "papermill": {
     "duration": 0.028387,
     "end_time": "2021-12-13T00:23:21.431127",
     "exception": false,
     "start_time": "2021-12-13T00:23:21.402740",
     "status": "completed"
    },
    "tags": []
   },
   "source": [
    "# Distinguish Your Own Digits (DYOD)"
   ]
  },
  {
   "cell_type": "markdown",
   "id": "ef31240d",
   "metadata": {
    "papermill": {
     "duration": 0.02371,
     "end_time": "2021-12-13T00:23:21.479299",
     "exception": false,
     "start_time": "2021-12-13T00:23:21.455589",
     "status": "completed"
    },
    "tags": []
   },
   "source": [
    "You are going to write a classifier that distinguishes between the number 3 and number 8."
   ]
  },
  {
   "cell_type": "code",
   "execution_count": 1,
   "id": "b15c8646",
   "metadata": {
    "execution": {
     "iopub.execute_input": "2021-12-13T00:23:21.539022Z",
     "iopub.status.busy": "2021-12-13T00:23:21.538443Z",
     "iopub.status.idle": "2021-12-13T00:23:21.548858Z",
     "shell.execute_reply": "2021-12-13T00:23:21.548415Z"
    },
    "papermill": {
     "duration": 0.046129,
     "end_time": "2021-12-13T00:23:21.548981",
     "exception": false,
     "start_time": "2021-12-13T00:23:21.502852",
     "status": "completed"
    },
    "tags": []
   },
   "outputs": [],
   "source": [
    "%load_ext autoreload\n",
    "%autoreload 2"
   ]
  },
  {
   "cell_type": "code",
   "execution_count": 2,
   "id": "22ef38dc",
   "metadata": {
    "execution": {
     "iopub.execute_input": "2021-12-13T00:23:21.600019Z",
     "iopub.status.busy": "2021-12-13T00:23:21.599513Z",
     "iopub.status.idle": "2021-12-13T00:23:22.180029Z",
     "shell.execute_reply": "2021-12-13T00:23:22.179519Z"
    },
    "papermill": {
     "duration": 0.607489,
     "end_time": "2021-12-13T00:23:22.180160",
     "exception": false,
     "start_time": "2021-12-13T00:23:21.572671",
     "status": "completed"
    },
    "tags": []
   },
   "outputs": [],
   "source": [
    "%matplotlib inline\n",
    "import numpy as np\n",
    "import matplotlib.pyplot as plt\n",
    "import pandas as pd"
   ]
  },
  {
   "cell_type": "markdown",
   "id": "ba036198",
   "metadata": {
    "papermill": {
     "duration": 0.023998,
     "end_time": "2021-12-13T00:23:22.228147",
     "exception": false,
     "start_time": "2021-12-13T00:23:22.204149",
     "status": "completed"
    },
    "tags": []
   },
   "source": [
    "From the command line run `pip install mnist`. This is a library that will help you bring down the mnist dataset. If you run this from a notebook, you need to put  `!pip install mnist` in a cell by itself."
   ]
  },
  {
   "cell_type": "code",
   "execution_count": 3,
   "id": "bb6ad8a1",
   "metadata": {
    "execution": {
     "iopub.execute_input": "2021-12-13T00:23:22.280031Z",
     "iopub.status.busy": "2021-12-13T00:23:22.279521Z",
     "iopub.status.idle": "2021-12-13T00:23:23.965601Z",
     "shell.execute_reply": "2021-12-13T00:23:23.965059Z"
    },
    "papermill": {
     "duration": 1.713816,
     "end_time": "2021-12-13T00:23:23.965750",
     "exception": false,
     "start_time": "2021-12-13T00:23:22.251934",
     "status": "completed"
    },
    "tags": []
   },
   "outputs": [
    {
     "name": "stdout",
     "output_type": "stream",
     "text": [
      "Collecting mnist\r\n"
     ]
    },
    {
     "name": "stdout",
     "output_type": "stream",
     "text": [
      "  Downloading mnist-0.2.2-py2.py3-none-any.whl (3.5 kB)\r\n",
      "Requirement already satisfied: numpy in /opt/hostedtoolcache/Python/3.6.15/x64/lib/python3.6/site-packages (from mnist) (1.19.5)\r\n"
     ]
    },
    {
     "name": "stdout",
     "output_type": "stream",
     "text": [
      "Installing collected packages: mnist\r\n",
      "Successfully installed mnist-0.2.2\r\n"
     ]
    }
   ],
   "source": [
    "!pip install mnist"
   ]
  },
  {
   "cell_type": "markdown",
   "id": "69df9c9a",
   "metadata": {
    "papermill": {
     "duration": 0.024719,
     "end_time": "2021-12-13T00:23:24.015627",
     "exception": false,
     "start_time": "2021-12-13T00:23:23.990908",
     "status": "completed"
    },
    "tags": []
   },
   "source": [
    "## Preparing the Data"
   ]
  },
  {
   "cell_type": "code",
   "execution_count": 4,
   "id": "7f69d806",
   "metadata": {
    "execution": {
     "iopub.execute_input": "2021-12-13T00:23:24.070894Z",
     "iopub.status.busy": "2021-12-13T00:23:24.070345Z",
     "iopub.status.idle": "2021-12-13T00:23:24.082996Z",
     "shell.execute_reply": "2021-12-13T00:23:24.082536Z"
    },
    "papermill": {
     "duration": 0.042903,
     "end_time": "2021-12-13T00:23:24.083106",
     "exception": false,
     "start_time": "2021-12-13T00:23:24.040203",
     "status": "completed"
    },
    "tags": []
   },
   "outputs": [],
   "source": [
    "import mnist"
   ]
  },
  {
   "cell_type": "code",
   "execution_count": 5,
   "id": "a411e44f",
   "metadata": {
    "execution": {
     "iopub.execute_input": "2021-12-13T00:23:24.135753Z",
     "iopub.status.busy": "2021-12-13T00:23:24.135249Z",
     "iopub.status.idle": "2021-12-13T00:23:24.624211Z",
     "shell.execute_reply": "2021-12-13T00:23:24.624694Z"
    },
    "papermill": {
     "duration": 0.516998,
     "end_time": "2021-12-13T00:23:24.624870",
     "exception": false,
     "start_time": "2021-12-13T00:23:24.107872",
     "status": "completed"
    },
    "tags": []
   },
   "outputs": [],
   "source": [
    "train_images = mnist.train_images()\n",
    "train_labels = mnist.train_labels()"
   ]
  },
  {
   "cell_type": "code",
   "execution_count": 6,
   "id": "dceab3a5",
   "metadata": {
    "execution": {
     "iopub.execute_input": "2021-12-13T00:23:24.678203Z",
     "iopub.status.busy": "2021-12-13T00:23:24.677690Z",
     "iopub.status.idle": "2021-12-13T00:23:24.690737Z",
     "shell.execute_reply": "2021-12-13T00:23:24.691121Z"
    },
    "papermill": {
     "duration": 0.041217,
     "end_time": "2021-12-13T00:23:24.691253",
     "exception": false,
     "start_time": "2021-12-13T00:23:24.650036",
     "status": "completed"
    },
    "tags": []
   },
   "outputs": [
    {
     "data": {
      "text/plain": [
       "((60000, 28, 28), (60000,))"
      ]
     },
     "execution_count": 6,
     "metadata": {},
     "output_type": "execute_result"
    }
   ],
   "source": [
    "train_images.shape, train_labels.shape"
   ]
  },
  {
   "cell_type": "code",
   "execution_count": 7,
   "id": "f50dc2bb",
   "metadata": {
    "execution": {
     "iopub.execute_input": "2021-12-13T00:23:24.744000Z",
     "iopub.status.busy": "2021-12-13T00:23:24.743505Z",
     "iopub.status.idle": "2021-12-13T00:23:24.876411Z",
     "shell.execute_reply": "2021-12-13T00:23:24.876945Z"
    },
    "papermill": {
     "duration": 0.161226,
     "end_time": "2021-12-13T00:23:24.877132",
     "exception": false,
     "start_time": "2021-12-13T00:23:24.715906",
     "status": "completed"
    },
    "tags": []
   },
   "outputs": [],
   "source": [
    "test_images = mnist.test_images()\n",
    "test_labels = mnist.test_labels()"
   ]
  },
  {
   "cell_type": "code",
   "execution_count": 8,
   "id": "fc38cf1b",
   "metadata": {
    "execution": {
     "iopub.execute_input": "2021-12-13T00:23:24.934784Z",
     "iopub.status.busy": "2021-12-13T00:23:24.934249Z",
     "iopub.status.idle": "2021-12-13T00:23:24.944452Z",
     "shell.execute_reply": "2021-12-13T00:23:24.944019Z"
    },
    "papermill": {
     "duration": 0.041651,
     "end_time": "2021-12-13T00:23:24.944559",
     "exception": false,
     "start_time": "2021-12-13T00:23:24.902908",
     "status": "completed"
    },
    "tags": []
   },
   "outputs": [
    {
     "data": {
      "text/plain": [
       "((10000, 28, 28), (10000,))"
      ]
     },
     "execution_count": 8,
     "metadata": {},
     "output_type": "execute_result"
    }
   ],
   "source": [
    "test_images.shape, test_labels.shape"
   ]
  },
  {
   "cell_type": "code",
   "execution_count": 9,
   "id": "f9ed8fe0",
   "metadata": {
    "execution": {
     "iopub.execute_input": "2021-12-13T00:23:24.998030Z",
     "iopub.status.busy": "2021-12-13T00:23:24.997534Z",
     "iopub.status.idle": "2021-12-13T00:23:25.122017Z",
     "shell.execute_reply": "2021-12-13T00:23:25.122487Z"
    },
    "papermill": {
     "duration": 0.153095,
     "end_time": "2021-12-13T00:23:25.122682",
     "exception": false,
     "start_time": "2021-12-13T00:23:24.969587",
     "status": "completed"
    },
    "tags": []
   },
   "outputs": [
    {
     "name": "stdout",
     "output_type": "stream",
     "text": [
      "2\n"
     ]
    },
    {
     "data": {
      "text/plain": [
       "<matplotlib.image.AxesImage at 0x7fca69a004e0>"
      ]
     },
     "execution_count": 9,
     "metadata": {},
     "output_type": "execute_result"
    },
    {
     "data": {
      "image/png": "[encoded data removed]",
      "text/plain": [
       "<Figure size 432x288 with 1 Axes>"
      ]
     },
     "metadata": {
      "needs_background": "light"
     },
     "output_type": "display_data"
    }
   ],
   "source": [
    "image_index = 7776 # You may select anything up to 60,000\n",
    "print(train_labels[image_index]) \n",
    "plt.imshow(train_images[image_index], cmap='Greys')"
   ]
  },
  {
   "cell_type": "markdown",
   "id": "a8d2388d",
   "metadata": {
    "papermill": {
     "duration": 0.026536,
     "end_time": "2021-12-13T00:23:25.176194",
     "exception": false,
     "start_time": "2021-12-13T00:23:25.149658",
     "status": "completed"
    },
    "tags": []
   },
   "source": [
    "## Filter data to get 3 and 8 out"
   ]
  },
  {
   "cell_type": "code",
   "execution_count": 10,
   "id": "776f7fc7",
   "metadata": {
    "execution": {
     "iopub.execute_input": "2021-12-13T00:23:25.232551Z",
     "iopub.status.busy": "2021-12-13T00:23:25.232032Z",
     "iopub.status.idle": "2021-12-13T00:23:25.250441Z",
     "shell.execute_reply": "2021-12-13T00:23:25.250877Z"
    },
    "papermill": {
     "duration": 0.048636,
     "end_time": "2021-12-13T00:23:25.251014",
     "exception": false,
     "start_time": "2021-12-13T00:23:25.202378",
     "status": "completed"
    },
    "tags": []
   },
   "outputs": [],
   "source": [
    "train_filter = np.where((train_labels == 3 ) | (train_labels == 8))\n",
    "test_filter = np.where((test_labels == 3) | (test_labels == 8))\n",
    "X_train, y_train = train_images[train_filter], train_labels[train_filter]\n",
    "X_test, y_test = test_images[test_filter], test_labels[test_filter]"
   ]
  },
  {
   "cell_type": "markdown",
   "id": "948f0b7e",
   "metadata": {
    "papermill": {
     "duration": 0.026057,
     "end_time": "2021-12-13T00:23:25.303305",
     "exception": false,
     "start_time": "2021-12-13T00:23:25.277248",
     "status": "completed"
    },
    "tags": []
   },
   "source": [
    "We normalize the pizel values in the 0 to 1 range"
   ]
  },
  {
   "cell_type": "code",
   "execution_count": 11,
   "id": "ee4c2166",
   "metadata": {
    "execution": {
     "iopub.execute_input": "2021-12-13T00:23:25.360982Z",
     "iopub.status.busy": "2021-12-13T00:23:25.360446Z",
     "iopub.status.idle": "2021-12-13T00:23:25.408399Z",
     "shell.execute_reply": "2021-12-13T00:23:25.407872Z"
    },
    "papermill": {
     "duration": 0.079255,
     "end_time": "2021-12-13T00:23:25.408541",
     "exception": false,
     "start_time": "2021-12-13T00:23:25.329286",
     "status": "completed"
    },
    "tags": []
   },
   "outputs": [],
   "source": [
    "X_train = X_train/255.\n",
    "X_test = X_test/255."
   ]
  },
  {
   "cell_type": "markdown",
   "id": "ddcf4fab",
   "metadata": {
    "papermill": {
     "duration": 0.026209,
     "end_time": "2021-12-13T00:23:25.461648",
     "exception": false,
     "start_time": "2021-12-13T00:23:25.435439",
     "status": "completed"
    },
    "tags": []
   },
   "source": [
    "And setup the labels as 1 (when the digit is 3) and 0 (when the digit is 8)"
   ]
  },
  {
   "cell_type": "code",
   "execution_count": 12,
   "id": "7dc908f2",
   "metadata": {
    "execution": {
     "iopub.execute_input": "2021-12-13T00:23:25.518105Z",
     "iopub.status.busy": "2021-12-13T00:23:25.517589Z",
     "iopub.status.idle": "2021-12-13T00:23:25.530044Z",
     "shell.execute_reply": "2021-12-13T00:23:25.529629Z"
    },
    "papermill": {
     "duration": 0.042074,
     "end_time": "2021-12-13T00:23:25.530158",
     "exception": false,
     "start_time": "2021-12-13T00:23:25.488084",
     "status": "completed"
    },
    "tags": []
   },
   "outputs": [],
   "source": [
    "y_train = 1*(y_train==3)\n",
    "y_test = 1*(y_test==3)"
   ]
  },
  {
   "cell_type": "code",
   "execution_count": 13,
   "id": "01e4e969",
   "metadata": {
    "execution": {
     "iopub.execute_input": "2021-12-13T00:23:25.586842Z",
     "iopub.status.busy": "2021-12-13T00:23:25.586296Z",
     "iopub.status.idle": "2021-12-13T00:23:25.599751Z",
     "shell.execute_reply": "2021-12-13T00:23:25.600153Z"
    },
    "papermill": {
     "duration": 0.04352,
     "end_time": "2021-12-13T00:23:25.600286",
     "exception": false,
     "start_time": "2021-12-13T00:23:25.556766",
     "status": "completed"
    },
    "tags": []
   },
   "outputs": [
    {
     "data": {
      "text/plain": [
       "((11982, 28, 28), (1984, 28, 28))"
      ]
     },
     "execution_count": 13,
     "metadata": {},
     "output_type": "execute_result"
    }
   ],
   "source": [
    "X_train.shape, X_test.shape"
   ]
  },
  {
   "cell_type": "markdown",
   "id": "5ccf3f85",
   "metadata": {
    "papermill": {
     "duration": 0.026273,
     "end_time": "2021-12-13T00:23:25.653040",
     "exception": false,
     "start_time": "2021-12-13T00:23:25.626767",
     "status": "completed"
    },
    "tags": []
   },
   "source": [
    "We reshape the data to flatten the image pixels into a set of features or co-variates:"
   ]
  },
  {
   "cell_type": "code",
   "execution_count": 14,
   "id": "5286a4a3",
   "metadata": {
    "execution": {
     "iopub.execute_input": "2021-12-13T00:23:25.713208Z",
     "iopub.status.busy": "2021-12-13T00:23:25.712696Z",
     "iopub.status.idle": "2021-12-13T00:23:25.723814Z",
     "shell.execute_reply": "2021-12-13T00:23:25.724296Z"
    },
    "papermill": {
     "duration": 0.044855,
     "end_time": "2021-12-13T00:23:25.724425",
     "exception": false,
     "start_time": "2021-12-13T00:23:25.679570",
     "status": "completed"
    },
    "tags": []
   },
   "outputs": [
    {
     "data": {
      "text/plain": [
       "((11982, 784), (1984, 784))"
      ]
     },
     "execution_count": 14,
     "metadata": {},
     "output_type": "execute_result"
    }
   ],
   "source": [
    "X_train = X_train.reshape(X_train.shape[0], -1)\n",
    "X_test = X_test.reshape(X_test.shape[0], -1)\n",
    "X_train.shape, X_test.shape"
   ]
  },
  {
   "cell_type": "code",
   "execution_count": 15,
   "id": "73c5f88a",
   "metadata": {
    "execution": {
     "iopub.execute_input": "2021-12-13T00:23:25.781695Z",
     "iopub.status.busy": "2021-12-13T00:23:25.781174Z",
     "iopub.status.idle": "2021-12-13T00:23:25.803577Z",
     "shell.execute_reply": "2021-12-13T00:23:25.803090Z"
    },
    "papermill": {
     "duration": 0.052741,
     "end_time": "2021-12-13T00:23:25.803713",
     "exception": false,
     "start_time": "2021-12-13T00:23:25.750972",
     "status": "completed"
    },
    "tags": []
   },
   "outputs": [],
   "source": [
    "#Impoting functions from 'Kudzu'\n",
    "from kudzu.model import Model\n",
    "from kudzu.train import Learner\n",
    "from kudzu.optim import GD\n",
    "from kudzu.data import Data, Sampler,Dataloader\n",
    "\n",
    "from kudzu.callbacks import AccCallback\n",
    "from kudzu.callbacks import ClfCallback\n",
    "\n",
    "from kudzu.loss import MSE\n",
    "\n",
    "from kudzu.layer import Sigmoid,Relu\n",
    "from kudzu.layer import Affine"
   ]
  },
  {
   "cell_type": "markdown",
   "id": "bc01172a",
   "metadata": {
    "papermill": {
     "duration": 0.026745,
     "end_time": "2021-12-13T00:23:25.857680",
     "exception": false,
     "start_time": "2021-12-13T00:23:25.830935",
     "status": "completed"
    },
    "tags": []
   },
   "source": [
    "### Let us create a `Config` class, to store important parameters. \n",
    "This class essentially plays the role of a dictionary."
   ]
  },
  {
   "cell_type": "code",
   "execution_count": 16,
   "id": "978281aa",
   "metadata": {
    "execution": {
     "iopub.execute_input": "2021-12-13T00:23:25.918141Z",
     "iopub.status.busy": "2021-12-13T00:23:25.917595Z",
     "iopub.status.idle": "2021-12-13T00:23:25.930170Z",
     "shell.execute_reply": "2021-12-13T00:23:25.929730Z"
    },
    "papermill": {
     "duration": 0.0459,
     "end_time": "2021-12-13T00:23:25.930282",
     "exception": false,
     "start_time": "2021-12-13T00:23:25.884382",
     "status": "completed"
    },
    "tags": []
   },
   "outputs": [],
   "source": [
    "class Config:\n",
    "    pass\n",
    "config = Config()\n",
    "config.lr = 0.001\n",
    "config.num_epochs = 250\n",
    "config.bs = 50"
   ]
  },
  {
   "cell_type": "markdown",
   "id": "1385fa59",
   "metadata": {
    "papermill": {
     "duration": 0.026562,
     "end_time": "2021-12-13T00:23:25.983744",
     "exception": false,
     "start_time": "2021-12-13T00:23:25.957182",
     "status": "completed"
    },
    "tags": []
   },
   "source": [
    "### Running Models with the Training data\n",
    "Details about the network layers:\n",
    "- A first affine layer has 784 inputs and does 100 affine transforms. These are followed by a Relu\n",
    "- A second affine layer has 100 inputs from the 100 activations of the past layer, and does 100 affine transforms. These are followed by a Relu\n",
    "- A third affine layer has 100 activations and does 2 affine transformations to create an embedding for visualization. There is no non-linearity here.\n",
    "- A final \"logistic regression\" which has an affine transform from 2 inputs to 1 output, which is squeezed through a sigmoid.\n"
   ]
  },
  {
   "cell_type": "code",
   "execution_count": 17,
   "id": "2b9c66db",
   "metadata": {
    "execution": {
     "iopub.execute_input": "2021-12-13T00:23:26.040793Z",
     "iopub.status.busy": "2021-12-13T00:23:26.040286Z",
     "iopub.status.idle": "2021-12-13T00:23:26.052136Z",
     "shell.execute_reply": "2021-12-13T00:23:26.052568Z"
    },
    "papermill": {
     "duration": 0.042424,
     "end_time": "2021-12-13T00:23:26.052696",
     "exception": false,
     "start_time": "2021-12-13T00:23:26.010272",
     "status": "completed"
    },
    "tags": []
   },
   "outputs": [],
   "source": [
    "data = Data(X_train, y_train.reshape(-1,1))\n",
    "sampler = Sampler(data, config.bs, shuffle=True)\n",
    "\n",
    "dl = Dataloader(data, sampler)\n",
    "\n",
    "opt = GD(config.lr)\n",
    "loss = MSE()"
   ]
  },
  {
   "cell_type": "code",
   "execution_count": 18,
   "id": "b275e4c2",
   "metadata": {
    "execution": {
     "iopub.execute_input": "2021-12-13T00:23:26.114461Z",
     "iopub.status.busy": "2021-12-13T00:23:26.113919Z",
     "iopub.status.idle": "2021-12-13T00:23:26.123085Z",
     "shell.execute_reply": "2021-12-13T00:23:26.123470Z"
    },
    "papermill": {
     "duration": 0.044237,
     "end_time": "2021-12-13T00:23:26.123611",
     "exception": false,
     "start_time": "2021-12-13T00:23:26.079374",
     "status": "completed"
    },
    "tags": []
   },
   "outputs": [],
   "source": [
    "training_data_x = X_train\n",
    "testing_data_x = X_test\n",
    "training_data_y = y_train.reshape(-1,1)\n",
    "testing_data_y = y_test.reshape(-1,1)"
   ]
  },
  {
   "cell_type": "code",
   "execution_count": 19,
   "id": "76951160",
   "metadata": {
    "execution": {
     "iopub.execute_input": "2021-12-13T00:23:26.181531Z",
     "iopub.status.busy": "2021-12-13T00:23:26.181010Z",
     "iopub.status.idle": "2021-12-13T00:23:26.196969Z",
     "shell.execute_reply": "2021-12-13T00:23:26.196557Z"
    },
    "papermill": {
     "duration": 0.046835,
     "end_time": "2021-12-13T00:23:26.197083",
     "exception": false,
     "start_time": "2021-12-13T00:23:26.150248",
     "status": "completed"
    },
    "tags": []
   },
   "outputs": [
    {
     "name": "stdout",
     "output_type": "stream",
     "text": [
      "xavier\n",
      "xavier\n",
      "xavier\n",
      "xavier\n",
      "xavier\n"
     ]
    }
   ],
   "source": [
    "layers = [Affine(\"first\", 784, 100), Relu(\"first\"), Affine(\"second\", 100, 100), Relu(\"second\"), Affine(\"third\", 100, 2), Affine(\"last\", 2, 1), Sigmoid(\"last\")]\n",
    "model_nn = Model(layers)\n",
    "model_lr = Model([Affine(\"logits\", 784, 1), Sigmoid(\"sigmoid\")])"
   ]
  },
  {
   "cell_type": "code",
   "execution_count": 20,
   "id": "6eede77a",
   "metadata": {
    "execution": {
     "iopub.execute_input": "2021-12-13T00:23:26.260538Z",
     "iopub.status.busy": "2021-12-13T00:23:26.260031Z",
     "iopub.status.idle": "2021-12-13T00:23:26.268310Z",
     "shell.execute_reply": "2021-12-13T00:23:26.268712Z"
    },
    "papermill": {
     "duration": 0.044702,
     "end_time": "2021-12-13T00:23:26.268841",
     "exception": false,
     "start_time": "2021-12-13T00:23:26.224139",
     "status": "completed"
    },
    "tags": []
   },
   "outputs": [],
   "source": [
    "nn_learner = Learner(loss, model_nn, opt, config.num_epochs)\n",
    "acc_nn = ClfCallback(nn_learner, config.bs, training_data_x , testing_data_x, training_data_y, testing_data_y)\n",
    "nn_learner.set_callbacks([acc_nn])"
   ]
  },
  {
   "cell_type": "code",
   "execution_count": 21,
   "id": "877b6cc7",
   "metadata": {
    "execution": {
     "iopub.execute_input": "2021-12-13T00:23:26.335317Z",
     "iopub.status.busy": "2021-12-13T00:23:26.333836Z",
     "iopub.status.idle": "2021-12-13T00:23:26.341791Z",
     "shell.execute_reply": "2021-12-13T00:23:26.342195Z"
    },
    "papermill": {
     "duration": 0.046436,
     "end_time": "2021-12-13T00:23:26.342316",
     "exception": false,
     "start_time": "2021-12-13T00:23:26.295880",
     "status": "completed"
    },
    "tags": []
   },
   "outputs": [],
   "source": [
    "lr_learner = Learner(loss, model_lr, opt, config.num_epochs)\n",
    "acc_lr = ClfCallback(lr_learner, config.bs, training_data_x , testing_data_x, training_data_y, testing_data_y)\n",
    "lr_learner.set_callbacks([acc_lr])"
   ]
  },
  {
   "cell_type": "code",
   "execution_count": 22,
   "id": "d9b133c3",
   "metadata": {
    "execution": {
     "iopub.execute_input": "2021-12-13T00:23:26.403755Z",
     "iopub.status.busy": "2021-12-13T00:23:26.403255Z",
     "iopub.status.idle": "2021-12-13T00:24:43.118332Z",
     "shell.execute_reply": "2021-12-13T00:24:43.119144Z"
    },
    "papermill": {
     "duration": 76.750087,
     "end_time": "2021-12-13T00:24:43.119305",
     "exception": false,
     "start_time": "2021-12-13T00:23:26.369218",
     "status": "completed"
    },
    "tags": []
   },
   "outputs": [
    {
     "name": "stdout",
     "output_type": "stream",
     "text": [
      "Epoch 0, Loss 0.2757\n",
      "Training Accuracy: 0.5425, Testing Accuracy: 0.5519\n",
      "\n"
     ]
    },
    {
     "name": "stdout",
     "output_type": "stream",
     "text": [
      "Epoch 10, Loss 0.087\n",
      "Training Accuracy: 0.9220, Testing Accuracy: 0.9340\n",
      "\n"
     ]
    },
    {
     "name": "stdout",
     "output_type": "stream",
     "text": [
      "Epoch 20, Loss 0.0542\n",
      "Training Accuracy: 0.9444, Testing Accuracy: 0.9551\n",
      "\n"
     ]
    },
    {
     "name": "stdout",
     "output_type": "stream",
     "text": [
      "Epoch 30, Loss 0.0429\n",
      "Training Accuracy: 0.9534, Testing Accuracy: 0.9647\n",
      "\n"
     ]
    },
    {
     "name": "stdout",
     "output_type": "stream",
     "text": [
      "Epoch 40, Loss 0.0372\n",
      "Training Accuracy: 0.9584, Testing Accuracy: 0.9708\n",
      "\n"
     ]
    },
    {
     "name": "stdout",
     "output_type": "stream",
     "text": [
      "Epoch 50, Loss 0.0338\n",
      "Training Accuracy: 0.9624, Testing Accuracy: 0.9713\n",
      "\n"
     ]
    },
    {
     "name": "stdout",
     "output_type": "stream",
     "text": [
      "Epoch 60, Loss 0.0314\n",
      "Training Accuracy: 0.9642, Testing Accuracy: 0.9703\n",
      "\n"
     ]
    },
    {
     "name": "stdout",
     "output_type": "stream",
     "text": [
      "Epoch 70, Loss 0.0296\n",
      "Training Accuracy: 0.9659, Testing Accuracy: 0.9713\n",
      "\n"
     ]
    },
    {
     "name": "stdout",
     "output_type": "stream",
     "text": [
      "Epoch 80, Loss 0.0282\n",
      "Training Accuracy: 0.9673, Testing Accuracy: 0.9728\n",
      "\n"
     ]
    },
    {
     "name": "stdout",
     "output_type": "stream",
     "text": [
      "Epoch 90, Loss 0.027\n",
      "Training Accuracy: 0.9687, Testing Accuracy: 0.9728\n",
      "\n"
     ]
    },
    {
     "name": "stdout",
     "output_type": "stream",
     "text": [
      "Epoch 100, Loss 0.026\n",
      "Training Accuracy: 0.9700, Testing Accuracy: 0.9728\n",
      "\n"
     ]
    },
    {
     "name": "stdout",
     "output_type": "stream",
     "text": [
      "Epoch 110, Loss 0.0251\n",
      "Training Accuracy: 0.9712, Testing Accuracy: 0.9728\n",
      "\n"
     ]
    },
    {
     "name": "stdout",
     "output_type": "stream",
     "text": [
      "Epoch 120, Loss 0.0243\n",
      "Training Accuracy: 0.9724, Testing Accuracy: 0.9733\n",
      "\n"
     ]
    },
    {
     "name": "stdout",
     "output_type": "stream",
     "text": [
      "Epoch 130, Loss 0.0236\n",
      "Training Accuracy: 0.9736, Testing Accuracy: 0.9733\n",
      "\n"
     ]
    },
    {
     "name": "stdout",
     "output_type": "stream",
     "text": [
      "Epoch 140, Loss 0.0229\n",
      "Training Accuracy: 0.9745, Testing Accuracy: 0.9733\n",
      "\n"
     ]
    },
    {
     "name": "stdout",
     "output_type": "stream",
     "text": [
      "Epoch 150, Loss 0.0224\n",
      "Training Accuracy: 0.9754, Testing Accuracy: 0.9743\n",
      "\n"
     ]
    },
    {
     "name": "stdout",
     "output_type": "stream",
     "text": [
      "Epoch 160, Loss 0.0218\n",
      "Training Accuracy: 0.9760, Testing Accuracy: 0.9758\n",
      "\n"
     ]
    },
    {
     "name": "stdout",
     "output_type": "stream",
     "text": [
      "Epoch 170, Loss 0.0213\n",
      "Training Accuracy: 0.9766, Testing Accuracy: 0.9763\n",
      "\n"
     ]
    },
    {
     "name": "stdout",
     "output_type": "stream",
     "text": [
      "Epoch 180, Loss 0.0208\n",
      "Training Accuracy: 0.9768, Testing Accuracy: 0.9753\n",
      "\n"
     ]
    },
    {
     "name": "stdout",
     "output_type": "stream",
     "text": [
      "Epoch 190, Loss 0.0204\n",
      "Training Accuracy: 0.9776, Testing Accuracy: 0.9753\n",
      "\n"
     ]
    },
    {
     "name": "stdout",
     "output_type": "stream",
     "text": [
      "Epoch 200, Loss 0.0199\n",
      "Training Accuracy: 0.9781, Testing Accuracy: 0.9743\n",
      "\n"
     ]
    },
    {
     "name": "stdout",
     "output_type": "stream",
     "text": [
      "Epoch 210, Loss 0.0195\n",
      "Training Accuracy: 0.9784, Testing Accuracy: 0.9743\n",
      "\n"
     ]
    },
    {
     "name": "stdout",
     "output_type": "stream",
     "text": [
      "Epoch 220, Loss 0.0191\n",
      "Training Accuracy: 0.9786, Testing Accuracy: 0.9743\n",
      "\n"
     ]
    },
    {
     "name": "stdout",
     "output_type": "stream",
     "text": [
      "Epoch 230, Loss 0.0187\n",
      "Training Accuracy: 0.9793, Testing Accuracy: 0.9748\n",
      "\n"
     ]
    },
    {
     "name": "stdout",
     "output_type": "stream",
     "text": [
      "Epoch 240, Loss 0.0183\n",
      "Training Accuracy: 0.9798, Testing Accuracy: 0.9758\n",
      "\n"
     ]
    },
    {
     "data": {
      "text/plain": [
       "0.018323042265750142"
      ]
     },
     "execution_count": 22,
     "metadata": {},
     "output_type": "execute_result"
    }
   ],
   "source": [
    "nn_learner.train_loop(dl)"
   ]
  },
  {
   "cell_type": "code",
   "execution_count": 23,
   "id": "e0163366",
   "metadata": {
    "execution": {
     "iopub.execute_input": "2021-12-13T00:24:43.193633Z",
     "iopub.status.busy": "2021-12-13T00:24:43.193115Z",
     "iopub.status.idle": "2021-12-13T00:24:57.045036Z",
     "shell.execute_reply": "2021-12-13T00:24:57.045739Z"
    },
    "papermill": {
     "duration": 13.891995,
     "end_time": "2021-12-13T00:24:57.045898",
     "exception": false,
     "start_time": "2021-12-13T00:24:43.153903",
     "status": "completed"
    },
    "tags": []
   },
   "outputs": [
    {
     "name": "stdout",
     "output_type": "stream",
     "text": [
      "Epoch 0, Loss 0.2309\n",
      "Training Accuracy: 0.7148, Testing Accuracy: 0.7167\n",
      "\n"
     ]
    },
    {
     "name": "stdout",
     "output_type": "stream",
     "text": [
      "Epoch 10, Loss 0.0967\n",
      "Training Accuracy: 0.9246, Testing Accuracy: 0.9315\n",
      "\n"
     ]
    },
    {
     "name": "stdout",
     "output_type": "stream",
     "text": [
      "Epoch 20, Loss 0.0756\n",
      "Training Accuracy: 0.9347, Testing Accuracy: 0.9390\n",
      "\n"
     ]
    },
    {
     "name": "stdout",
     "output_type": "stream",
     "text": [
      "Epoch 30, Loss 0.0658\n",
      "Training Accuracy: 0.9407, Testing Accuracy: 0.9476\n",
      "\n"
     ]
    },
    {
     "name": "stdout",
     "output_type": "stream",
     "text": [
      "Epoch 40, Loss 0.0598\n",
      "Training Accuracy: 0.9440, Testing Accuracy: 0.9496\n",
      "\n"
     ]
    },
    {
     "name": "stdout",
     "output_type": "stream",
     "text": [
      "Epoch 50, Loss 0.0557\n",
      "Training Accuracy: 0.9468, Testing Accuracy: 0.9536\n",
      "\n"
     ]
    },
    {
     "name": "stdout",
     "output_type": "stream",
     "text": [
      "Epoch 60, Loss 0.0526\n",
      "Training Accuracy: 0.9486, Testing Accuracy: 0.9546\n",
      "\n"
     ]
    },
    {
     "name": "stdout",
     "output_type": "stream",
     "text": [
      "Epoch 70, Loss 0.0502\n",
      "Training Accuracy: 0.9493, Testing Accuracy: 0.9561\n",
      "\n"
     ]
    },
    {
     "name": "stdout",
     "output_type": "stream",
     "text": [
      "Epoch 80, Loss 0.0483\n",
      "Training Accuracy: 0.9512, Testing Accuracy: 0.9587\n",
      "\n"
     ]
    },
    {
     "name": "stdout",
     "output_type": "stream",
     "text": [
      "Epoch 90, Loss 0.0467\n",
      "Training Accuracy: 0.9523, Testing Accuracy: 0.9617\n",
      "\n"
     ]
    },
    {
     "name": "stdout",
     "output_type": "stream",
     "text": [
      "Epoch 100, Loss 0.0454\n",
      "Training Accuracy: 0.9535, Testing Accuracy: 0.9617\n",
      "\n"
     ]
    },
    {
     "name": "stdout",
     "output_type": "stream",
     "text": [
      "Epoch 110, Loss 0.0442\n",
      "Training Accuracy: 0.9540, Testing Accuracy: 0.9622\n",
      "\n"
     ]
    },
    {
     "name": "stdout",
     "output_type": "stream",
     "text": [
      "Epoch 120, Loss 0.0432\n",
      "Training Accuracy: 0.9549, Testing Accuracy: 0.9622\n",
      "\n"
     ]
    },
    {
     "name": "stdout",
     "output_type": "stream",
     "text": [
      "Epoch 130, Loss 0.0423\n",
      "Training Accuracy: 0.9556, Testing Accuracy: 0.9637\n",
      "\n"
     ]
    },
    {
     "name": "stdout",
     "output_type": "stream",
     "text": [
      "Epoch 140, Loss 0.0415\n",
      "Training Accuracy: 0.9566, Testing Accuracy: 0.9637\n",
      "\n"
     ]
    },
    {
     "name": "stdout",
     "output_type": "stream",
     "text": [
      "Epoch 150, Loss 0.0408\n",
      "Training Accuracy: 0.9569, Testing Accuracy: 0.9647\n",
      "\n"
     ]
    },
    {
     "name": "stdout",
     "output_type": "stream",
     "text": [
      "Epoch 160, Loss 0.0402\n",
      "Training Accuracy: 0.9576, Testing Accuracy: 0.9647\n",
      "\n"
     ]
    },
    {
     "name": "stdout",
     "output_type": "stream",
     "text": [
      "Epoch 170, Loss 0.0396\n",
      "Training Accuracy: 0.9580, Testing Accuracy: 0.9652\n",
      "\n"
     ]
    },
    {
     "name": "stdout",
     "output_type": "stream",
     "text": [
      "Epoch 180, Loss 0.0391\n",
      "Training Accuracy: 0.9588, Testing Accuracy: 0.9652\n",
      "\n"
     ]
    },
    {
     "name": "stdout",
     "output_type": "stream",
     "text": [
      "Epoch 190, Loss 0.0386\n",
      "Training Accuracy: 0.9591, Testing Accuracy: 0.9662\n",
      "\n"
     ]
    },
    {
     "name": "stdout",
     "output_type": "stream",
     "text": [
      "Epoch 200, Loss 0.0381\n",
      "Training Accuracy: 0.9597, Testing Accuracy: 0.9667\n",
      "\n"
     ]
    },
    {
     "name": "stdout",
     "output_type": "stream",
     "text": [
      "Epoch 210, Loss 0.0377\n",
      "Training Accuracy: 0.9600, Testing Accuracy: 0.9672\n",
      "\n"
     ]
    },
    {
     "name": "stdout",
     "output_type": "stream",
     "text": [
      "Epoch 220, Loss 0.0373\n",
      "Training Accuracy: 0.9602, Testing Accuracy: 0.9672\n",
      "\n"
     ]
    },
    {
     "name": "stdout",
     "output_type": "stream",
     "text": [
      "Epoch 230, Loss 0.0369\n",
      "Training Accuracy: 0.9604, Testing Accuracy: 0.9667\n",
      "\n"
     ]
    },
    {
     "name": "stdout",
     "output_type": "stream",
     "text": [
      "Epoch 240, Loss 0.0366\n",
      "Training Accuracy: 0.9609, Testing Accuracy: 0.9667\n",
      "\n"
     ]
    },
    {
     "data": {
      "text/plain": [
       "0.0603119383631407"
      ]
     },
     "execution_count": 23,
     "metadata": {},
     "output_type": "execute_result"
    }
   ],
   "source": [
    "lr_learner.train_loop(dl)"
   ]
  },
  {
   "cell_type": "code",
   "execution_count": 24,
   "id": "ca410940",
   "metadata": {
    "execution": {
     "iopub.execute_input": "2021-12-13T00:24:57.143541Z",
     "iopub.status.busy": "2021-12-13T00:24:57.142966Z",
     "iopub.status.idle": "2021-12-13T00:24:57.355473Z",
     "shell.execute_reply": "2021-12-13T00:24:57.355899Z"
    },
    "papermill": {
     "duration": 0.268108,
     "end_time": "2021-12-13T00:24:57.356045",
     "exception": false,
     "start_time": "2021-12-13T00:24:57.087937",
     "status": "completed"
    },
    "tags": []
   },
   "outputs": [
    {
     "data": {
      "text/plain": [
       "<matplotlib.legend.Legend at 0x7fca695dbcc0>"
      ]
     },
     "execution_count": 24,
     "metadata": {},
     "output_type": "execute_result"
    },
    {
     "data": {
      "image/png": "[encoded data removed]",
      "text/plain": [
       "<Figure size 1080x720 with 1 Axes>"
      ]
     },
     "metadata": {
      "needs_background": "light"
     },
     "output_type": "display_data"
    }
   ],
   "source": [
    "#comparing the results of NN and LR\n",
    "plt.figure(figsize=(15,10))\n",
    "\n",
    "# Neural Network plots\n",
    "plt.plot(acc_nn.accuracies, 'r-', label = \"Training Accuracies - NN\")\n",
    "plt.plot(acc_nn.test_accuracies, 'g-', label = \"Testing Accuracies - NN\")\n",
    "\n",
    "# Logistic Regression plots\n",
    "plt.plot(acc_lr.accuracies, 'k-', label = \"Training Accuracies - LR\")\n",
    "plt.plot(acc_lr.test_accuracies, 'b-', label = \"Testing Accuracies - LR\")\n",
    "plt.legend()"
   ]
  },
  {
   "cell_type": "markdown",
   "id": "80dfb35c",
   "metadata": {
    "papermill": {
     "duration": 0.0416,
     "end_time": "2021-12-13T00:24:57.439910",
     "exception": false,
     "start_time": "2021-12-13T00:24:57.398310",
     "status": "completed"
    },
    "tags": []
   },
   "source": [
    "#### Plotting the outputs of this layer of the NN.\n"
   ]
  },
  {
   "cell_type": "code",
   "execution_count": 25,
   "id": "45eb2ff5",
   "metadata": {
    "execution": {
     "iopub.execute_input": "2021-12-13T00:24:57.532390Z",
     "iopub.status.busy": "2021-12-13T00:24:57.531840Z",
     "iopub.status.idle": "2021-12-13T00:24:57.550216Z",
     "shell.execute_reply": "2021-12-13T00:24:57.550676Z"
    },
    "papermill": {
     "duration": 0.067832,
     "end_time": "2021-12-13T00:24:57.550833",
     "exception": false,
     "start_time": "2021-12-13T00:24:57.483001",
     "status": "completed"
    },
    "tags": []
   },
   "outputs": [],
   "source": [
    "new_model = Model(layers[:-2])\n",
    "testing_plot = new_model(testing_data_x)"
   ]
  },
  {
   "cell_type": "code",
   "execution_count": 26,
   "id": "4c0a5485",
   "metadata": {
    "execution": {
     "iopub.execute_input": "2021-12-13T00:24:57.641892Z",
     "iopub.status.busy": "2021-12-13T00:24:57.641332Z",
     "iopub.status.idle": "2021-12-13T00:24:57.849533Z",
     "shell.execute_reply": "2021-12-13T00:24:57.849096Z"
    },
    "papermill": {
     "duration": 0.255148,
     "end_time": "2021-12-13T00:24:57.849657",
     "exception": false,
     "start_time": "2021-12-13T00:24:57.594509",
     "status": "completed"
    },
    "tags": []
   },
   "outputs": [
    {
     "data": {
      "text/plain": [
       "Text(0.5, 1.0, 'Outputs')"
      ]
     },
     "execution_count": 26,
     "metadata": {},
     "output_type": "execute_result"
    },
    {
     "data": {
      "image/png": "[encoded data removed]",
      "text/plain": [
       "<Figure size 576x504 with 1 Axes>"
      ]
     },
     "metadata": {
      "needs_background": "light"
     },
     "output_type": "display_data"
    }
   ],
   "source": [
    "# Plotting the scatter plot of points and color coding by class\n",
    "plt.figure(figsize=(8,7))\n",
    "plt.scatter(testing_plot[:,0], testing_plot[:,1], alpha = 0.1, c = y_test.ravel());\n",
    "plt.title('Outputs')"
   ]
  },
  {
   "cell_type": "markdown",
   "id": "a74fcf8f",
   "metadata": {
    "papermill": {
     "duration": 0.044629,
     "end_time": "2021-12-13T00:24:57.939318",
     "exception": false,
     "start_time": "2021-12-13T00:24:57.894689",
     "status": "completed"
    },
    "tags": []
   },
   "source": [
    "Probability contours"
   ]
  },
  {
   "cell_type": "code",
   "execution_count": 27,
   "id": "d0afc8e3",
   "metadata": {
    "execution": {
     "iopub.execute_input": "2021-12-13T00:24:58.033160Z",
     "iopub.status.busy": "2021-12-13T00:24:58.032620Z",
     "iopub.status.idle": "2021-12-13T00:24:58.044733Z",
     "shell.execute_reply": "2021-12-13T00:24:58.044319Z"
    },
    "papermill": {
     "duration": 0.060852,
     "end_time": "2021-12-13T00:24:58.044851",
     "exception": false,
     "start_time": "2021-12-13T00:24:57.983999",
     "status": "completed"
    },
    "tags": []
   },
   "outputs": [],
   "source": [
    "model_prob = Model(layers[-2:]) "
   ]
  },
  {
   "cell_type": "code",
   "execution_count": 28,
   "id": "9b96e238",
   "metadata": {
    "execution": {
     "iopub.execute_input": "2021-12-13T00:24:58.139997Z",
     "iopub.status.busy": "2021-12-13T00:24:58.139482Z",
     "iopub.status.idle": "2021-12-13T00:24:58.153456Z",
     "shell.execute_reply": "2021-12-13T00:24:58.153833Z"
    },
    "papermill": {
     "duration": 0.063864,
     "end_time": "2021-12-13T00:24:58.153967",
     "exception": false,
     "start_time": "2021-12-13T00:24:58.090103",
     "status": "completed"
    },
    "tags": []
   },
   "outputs": [],
   "source": [
    "#creating the x and y ranges according to the above generated plot.\n",
    "x_range = np.linspace(-4, 1, 100) \n",
    "y_range = np.linspace(-6, 6, 100) \n",
    "x_grid, y_grid = np.meshgrid(x_range, y_range) # x_grid and y_grig are of size 100 X 100\n",
    "\n",
    "# converting x_grid and y_grid to continuous arrays\n",
    "x_gridflat = np.ravel(x_grid)\n",
    "y_gridflat = np.ravel(y_grid)\n",
    "\n",
    "# The last layer of the current model takes two columns as input. Hence transpose of np.vstack() is required.\n",
    "X = np.vstack((x_gridflat, y_gridflat)).T\n",
    "\n",
    "prob_contour = model_prob(X).reshape(100,100) "
   ]
  },
  {
   "cell_type": "code",
   "execution_count": 29,
   "id": "da72499a",
   "metadata": {
    "execution": {
     "iopub.execute_input": "2021-12-13T00:24:58.248549Z",
     "iopub.status.busy": "2021-12-13T00:24:58.248041Z",
     "iopub.status.idle": "2021-12-13T00:24:58.497163Z",
     "shell.execute_reply": "2021-12-13T00:24:58.497639Z"
    },
    "papermill": {
     "duration": 0.298248,
     "end_time": "2021-12-13T00:24:58.497799",
     "exception": false,
     "start_time": "2021-12-13T00:24:58.199551",
     "status": "completed"
    },
    "tags": []
   },
   "outputs": [
    {
     "data": {
      "image/png": "[encoded data removed]",
      "text/plain": [
       "<Figure size 720x648 with 1 Axes>"
      ]
     },
     "metadata": {
      "needs_background": "light"
     },
     "output_type": "display_data"
    }
   ],
   "source": [
    "plt.figure(figsize=(10,9))\n",
    "plt.scatter(testing_plot[:,0], testing_plot[:,1], alpha = 0.1, c = y_test.ravel())\n",
    "contours = plt.contour(x_grid,y_grid,prob_contour)\n",
    "plt.title('Probability Contours')\n",
    "plt.clabel(contours, inline = True );"
   ]
  },
  {
   "cell_type": "code",
   "execution_count": null,
   "id": "e81b4ac7",
   "metadata": {
    "papermill": {
     "duration": 0.042054,
     "end_time": "2021-12-13T00:24:58.614211",
     "exception": false,
     "start_time": "2021-12-13T00:24:58.572157",
     "status": "completed"
    },
    "tags": []
   },
   "outputs": [],
   "source": []
  }
 ],
 "metadata": {
  "kernelspec": {
   "display_name": "Python 3",
   "language": "python",
   "name": "python3"
  },
  "language_info": {
   "codemirror_mode": {
    "name": "ipython",
    "version": 3
   },
   "file_extension": ".py",
   "mimetype": "text/x-python",
   "name": "python",
   "nbconvert_exporter": "python",
   "pygments_lexer": "ipython3",
   "version": "3.6.15"
  },
  "papermill": {
   "default_parameters": {},
   "duration": 98.584713,
   "end_time": "2021-12-13T00:24:59.064154",
   "environment_variables": {},
   "exception": null,
   "input_path": "2020-08-11-part2.ipynb",
   "output_path": "2020-08-11-part2.ipynb",
   "parameters": {},
   "start_time": "2021-12-13T00:23:20.479441",
   "version": "2.3.3"
  }
 },
 "nbformat": 4,
 "nbformat_minor": 5
}