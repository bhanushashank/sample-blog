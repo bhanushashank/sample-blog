{
 "cells": [
  {
   "cell_type": "markdown",
   "id": "98380cd3",
   "metadata": {
    "papermill": {
     "duration": 0.031218,
     "end_time": "2022-02-08T10:07:29.937805",
     "exception": false,
     "start_time": "2022-02-08T10:07:29.906587",
     "status": "completed"
    },
    "tags": []
   },
   "source": [
    "# Distinguish Your Own Digits (DYOD)"
   ]
  },
  {
   "cell_type": "markdown",
   "id": "ef31240d",
   "metadata": {
    "papermill": {
     "duration": 0.026238,
     "end_time": "2022-02-08T10:07:29.990042",
     "exception": false,
     "start_time": "2022-02-08T10:07:29.963804",
     "status": "completed"
    },
    "tags": []
   },
   "source": [
    "You are going to write a classifier that distinguishes between the number 3 and number 8."
   ]
  },
  {
   "cell_type": "code",
   "execution_count": 1,
   "id": "b15c8646",
   "metadata": {
    "execution": {
     "iopub.execute_input": "2022-02-08T10:07:30.041018Z",
     "iopub.status.busy": "2022-02-08T10:07:30.040480Z",
     "iopub.status.idle": "2022-02-08T10:07:30.056140Z",
     "shell.execute_reply": "2022-02-08T10:07:30.056586Z"
    },
    "papermill": {
     "duration": 0.041899,
     "end_time": "2022-02-08T10:07:30.056730",
     "exception": false,
     "start_time": "2022-02-08T10:07:30.014831",
     "status": "completed"
    },
    "tags": []
   },
   "outputs": [],
   "source": [
    "%load_ext autoreload\n",
    "%autoreload 2"
   ]
  },
  {
   "cell_type": "code",
   "execution_count": 2,
   "id": "22ef38dc",
   "metadata": {
    "execution": {
     "iopub.execute_input": "2022-02-08T10:07:30.107130Z",
     "iopub.status.busy": "2022-02-08T10:07:30.106585Z",
     "iopub.status.idle": "2022-02-08T10:07:30.641347Z",
     "shell.execute_reply": "2022-02-08T10:07:30.640854Z"
    },
    "papermill": {
     "duration": 0.561312,
     "end_time": "2022-02-08T10:07:30.641484",
     "exception": false,
     "start_time": "2022-02-08T10:07:30.080172",
     "status": "completed"
    },
    "tags": []
   },
   "outputs": [],
   "source": [
    "%matplotlib inline\n",
    "import numpy as np\n",
    "import matplotlib.pyplot as plt\n",
    "import pandas as pd"
   ]
  },
  {
   "cell_type": "markdown",
   "id": "ba036198",
   "metadata": {
    "papermill": {
     "duration": 0.024095,
     "end_time": "2022-02-08T10:07:30.689274",
     "exception": false,
     "start_time": "2022-02-08T10:07:30.665179",
     "status": "completed"
    },
    "tags": []
   },
   "source": [
    "From the command line run `pip install mnist`. This is a library that will help you bring down the mnist dataset. If you run this from a notebook, you need to put  `!pip install mnist` in a cell by itself."
   ]
  },
  {
   "cell_type": "code",
   "execution_count": 3,
   "id": "bb6ad8a1",
   "metadata": {
    "execution": {
     "iopub.execute_input": "2022-02-08T10:07:30.742296Z",
     "iopub.status.busy": "2022-02-08T10:07:30.740992Z",
     "iopub.status.idle": "2022-02-08T10:07:32.348376Z",
     "shell.execute_reply": "2022-02-08T10:07:32.349268Z"
    },
    "papermill": {
     "duration": 1.636471,
     "end_time": "2022-02-08T10:07:32.349484",
     "exception": false,
     "start_time": "2022-02-08T10:07:30.713013",
     "status": "completed"
    },
    "tags": []
   },
   "outputs": [
    {
     "name": "stdout",
     "output_type": "stream",
     "text": [
      "Collecting mnist\r\n"
     ]
    },
    {
     "name": "stdout",
     "output_type": "stream",
     "text": [
      "  Downloading mnist-0.2.2-py2.py3-none-any.whl (3.5 kB)\r\n",
      "Requirement already satisfied: numpy in /opt/hostedtoolcache/Python/3.6.15/x64/lib/python3.6/site-packages (from mnist) (1.19.5)\r\n"
     ]
    },
    {
     "name": "stdout",
     "output_type": "stream",
     "text": [
      "Installing collected packages: mnist\r\n",
      "Successfully installed mnist-0.2.2\r\n"
     ]
    }
   ],
   "source": [
    "!pip install mnist"
   ]
  },
  {
   "cell_type": "markdown",
   "id": "69df9c9a",
   "metadata": {
    "papermill": {
     "duration": 0.024738,
     "end_time": "2022-02-08T10:07:32.399923",
     "exception": false,
     "start_time": "2022-02-08T10:07:32.375185",
     "status": "completed"
    },
    "tags": []
   },
   "source": [
    "## Preparing the Data"
   ]
  },
  {
   "cell_type": "code",
   "execution_count": 4,
   "id": "7f69d806",
   "metadata": {
    "execution": {
     "iopub.execute_input": "2022-02-08T10:07:32.457045Z",
     "iopub.status.busy": "2022-02-08T10:07:32.452508Z",
     "iopub.status.idle": "2022-02-08T10:07:32.464577Z",
     "shell.execute_reply": "2022-02-08T10:07:32.464985Z"
    },
    "papermill": {
     "duration": 0.040941,
     "end_time": "2022-02-08T10:07:32.465110",
     "exception": false,
     "start_time": "2022-02-08T10:07:32.424169",
     "status": "completed"
    },
    "tags": []
   },
   "outputs": [],
   "source": [
    "import mnist"
   ]
  },
  {
   "cell_type": "code",
   "execution_count": 5,
   "id": "a411e44f",
   "metadata": {
    "execution": {
     "iopub.execute_input": "2022-02-08T10:07:32.516909Z",
     "iopub.status.busy": "2022-02-08T10:07:32.516374Z",
     "iopub.status.idle": "2022-02-08T10:07:33.020825Z",
     "shell.execute_reply": "2022-02-08T10:07:33.020223Z"
    },
    "papermill": {
     "duration": 0.531913,
     "end_time": "2022-02-08T10:07:33.020959",
     "exception": false,
     "start_time": "2022-02-08T10:07:32.489046",
     "status": "completed"
    },
    "tags": []
   },
   "outputs": [],
   "source": [
    "train_images = mnist.train_images()\n",
    "train_labels = mnist.train_labels()"
   ]
  },
  {
   "cell_type": "code",
   "execution_count": 6,
   "id": "dceab3a5",
   "metadata": {
    "execution": {
     "iopub.execute_input": "2022-02-08T10:07:33.074972Z",
     "iopub.status.busy": "2022-02-08T10:07:33.074332Z",
     "iopub.status.idle": "2022-02-08T10:07:33.089007Z",
     "shell.execute_reply": "2022-02-08T10:07:33.088555Z"
    },
    "papermill": {
     "duration": 0.042687,
     "end_time": "2022-02-08T10:07:33.089110",
     "exception": false,
     "start_time": "2022-02-08T10:07:33.046423",
     "status": "completed"
    },
    "tags": []
   },
   "outputs": [
    {
     "data": {
      "text/plain": [
       "((60000, 28, 28), (60000,))"
      ]
     },
     "execution_count": 6,
     "metadata": {},
     "output_type": "execute_result"
    }
   ],
   "source": [
    "train_images.shape, train_labels.shape"
   ]
  },
  {
   "cell_type": "code",
   "execution_count": 7,
   "id": "f50dc2bb",
   "metadata": {
    "execution": {
     "iopub.execute_input": "2022-02-08T10:07:33.150940Z",
     "iopub.status.busy": "2022-02-08T10:07:33.146350Z",
     "iopub.status.idle": "2022-02-08T10:07:33.282435Z",
     "shell.execute_reply": "2022-02-08T10:07:33.281971Z"
    },
    "papermill": {
     "duration": 0.169238,
     "end_time": "2022-02-08T10:07:33.282560",
     "exception": false,
     "start_time": "2022-02-08T10:07:33.113322",
     "status": "completed"
    },
    "tags": []
   },
   "outputs": [],
   "source": [
    "test_images = mnist.test_images()\n",
    "test_labels = mnist.test_labels()"
   ]
  },
  {
   "cell_type": "code",
   "execution_count": 8,
   "id": "fc38cf1b",
   "metadata": {
    "execution": {
     "iopub.execute_input": "2022-02-08T10:07:33.341278Z",
     "iopub.status.busy": "2022-02-08T10:07:33.340750Z",
     "iopub.status.idle": "2022-02-08T10:07:33.352223Z",
     "shell.execute_reply": "2022-02-08T10:07:33.352719Z"
    },
    "papermill": {
     "duration": 0.043577,
     "end_time": "2022-02-08T10:07:33.352835",
     "exception": false,
     "start_time": "2022-02-08T10:07:33.309258",
     "status": "completed"
    },
    "tags": []
   },
   "outputs": [
    {
     "data": {
      "text/plain": [
       "((10000, 28, 28), (10000,))"
      ]
     },
     "execution_count": 8,
     "metadata": {},
     "output_type": "execute_result"
    }
   ],
   "source": [
    "test_images.shape, test_labels.shape"
   ]
  },
  {
   "cell_type": "code",
   "execution_count": 9,
   "id": "f9ed8fe0",
   "metadata": {
    "execution": {
     "iopub.execute_input": "2022-02-08T10:07:33.406965Z",
     "iopub.status.busy": "2022-02-08T10:07:33.406428Z",
     "iopub.status.idle": "2022-02-08T10:07:33.585409Z",
     "shell.execute_reply": "2022-02-08T10:07:33.585867Z"
    },
    "papermill": {
     "duration": 0.207126,
     "end_time": "2022-02-08T10:07:33.586013",
     "exception": false,
     "start_time": "2022-02-08T10:07:33.378887",
     "status": "completed"
    },
    "tags": []
   },
   "outputs": [
    {
     "name": "stdout",
     "output_type": "stream",
     "text": [
      "2\n"
     ]
    },
    {
     "data": {
      "text/plain": [
       "<matplotlib.image.AxesImage at 0x7efe6d5d1eb8>"
      ]
     },
     "execution_count": 9,
     "metadata": {},
     "output_type": "execute_result"
    },
    {
     "data": {
      "image/png": "[encoded data removed]",
      "text/plain": [
       "<Figure size 432x288 with 1 Axes>"
      ]
     },
     "metadata": {
      "needs_background": "light"
     },
     "output_type": "display_data"
    }
   ],
   "source": [
    "image_index = 7776 # You may select anything up to 60,000\n",
    "print(train_labels[image_index]) \n",
    "plt.imshow(train_images[image_index], cmap='Greys')"
   ]
  },
  {
   "cell_type": "markdown",
   "id": "a8d2388d",
   "metadata": {
    "papermill": {
     "duration": 0.026403,
     "end_time": "2022-02-08T10:07:33.640788",
     "exception": false,
     "start_time": "2022-02-08T10:07:33.614385",
     "status": "completed"
    },
    "tags": []
   },
   "source": [
    "## Filter data to get 3 and 8 out"
   ]
  },
  {
   "cell_type": "code",
   "execution_count": 10,
   "id": "776f7fc7",
   "metadata": {
    "execution": {
     "iopub.execute_input": "2022-02-08T10:07:33.700869Z",
     "iopub.status.busy": "2022-02-08T10:07:33.700305Z",
     "iopub.status.idle": "2022-02-08T10:07:33.717928Z",
     "shell.execute_reply": "2022-02-08T10:07:33.717460Z"
    },
    "papermill": {
     "duration": 0.051349,
     "end_time": "2022-02-08T10:07:33.718041",
     "exception": false,
     "start_time": "2022-02-08T10:07:33.666692",
     "status": "completed"
    },
    "tags": []
   },
   "outputs": [],
   "source": [
    "train_filter = np.where((train_labels == 3 ) | (train_labels == 8))\n",
    "test_filter = np.where((test_labels == 3) | (test_labels == 8))\n",
    "X_train, y_train = train_images[train_filter], train_labels[train_filter]\n",
    "X_test, y_test = test_images[test_filter], test_labels[test_filter]"
   ]
  },
  {
   "cell_type": "markdown",
   "id": "948f0b7e",
   "metadata": {
    "papermill": {
     "duration": 0.025407,
     "end_time": "2022-02-08T10:07:33.769318",
     "exception": false,
     "start_time": "2022-02-08T10:07:33.743911",
     "status": "completed"
    },
    "tags": []
   },
   "source": [
    "We normalize the pizel values in the 0 to 1 range"
   ]
  },
  {
   "cell_type": "code",
   "execution_count": 11,
   "id": "ee4c2166",
   "metadata": {
    "execution": {
     "iopub.execute_input": "2022-02-08T10:07:33.824133Z",
     "iopub.status.busy": "2022-02-08T10:07:33.823567Z",
     "iopub.status.idle": "2022-02-08T10:07:33.875885Z",
     "shell.execute_reply": "2022-02-08T10:07:33.875382Z"
    },
    "papermill": {
     "duration": 0.080744,
     "end_time": "2022-02-08T10:07:33.876047",
     "exception": false,
     "start_time": "2022-02-08T10:07:33.795303",
     "status": "completed"
    },
    "tags": []
   },
   "outputs": [],
   "source": [
    "X_train = X_train/255.\n",
    "X_test = X_test/255."
   ]
  },
  {
   "cell_type": "markdown",
   "id": "ddcf4fab",
   "metadata": {
    "papermill": {
     "duration": 0.026004,
     "end_time": "2022-02-08T10:07:33.928456",
     "exception": false,
     "start_time": "2022-02-08T10:07:33.902452",
     "status": "completed"
    },
    "tags": []
   },
   "source": [
    "And setup the labels as 1 (when the digit is 3) and 0 (when the digit is 8)"
   ]
  },
  {
   "cell_type": "code",
   "execution_count": 12,
   "id": "7dc908f2",
   "metadata": {
    "execution": {
     "iopub.execute_input": "2022-02-08T10:07:33.984350Z",
     "iopub.status.busy": "2022-02-08T10:07:33.983780Z",
     "iopub.status.idle": "2022-02-08T10:07:33.995414Z",
     "shell.execute_reply": "2022-02-08T10:07:33.994965Z"
    },
    "papermill": {
     "duration": 0.040197,
     "end_time": "2022-02-08T10:07:33.995517",
     "exception": false,
     "start_time": "2022-02-08T10:07:33.955320",
     "status": "completed"
    },
    "tags": []
   },
   "outputs": [],
   "source": [
    "y_train = 1*(y_train==3)\n",
    "y_test = 1*(y_test==3)"
   ]
  },
  {
   "cell_type": "code",
   "execution_count": 13,
   "id": "01e4e969",
   "metadata": {
    "execution": {
     "iopub.execute_input": "2022-02-08T10:07:34.051281Z",
     "iopub.status.busy": "2022-02-08T10:07:34.050754Z",
     "iopub.status.idle": "2022-02-08T10:07:34.062065Z",
     "shell.execute_reply": "2022-02-08T10:07:34.062694Z"
    },
    "papermill": {
     "duration": 0.041021,
     "end_time": "2022-02-08T10:07:34.062813",
     "exception": false,
     "start_time": "2022-02-08T10:07:34.021792",
     "status": "completed"
    },
    "tags": []
   },
   "outputs": [
    {
     "data": {
      "text/plain": [
       "((11982, 28, 28), (1984, 28, 28))"
      ]
     },
     "execution_count": 13,
     "metadata": {},
     "output_type": "execute_result"
    }
   ],
   "source": [
    "X_train.shape, X_test.shape"
   ]
  },
  {
   "cell_type": "markdown",
   "id": "5ccf3f85",
   "metadata": {
    "papermill": {
     "duration": 0.028102,
     "end_time": "2022-02-08T10:07:34.117227",
     "exception": false,
     "start_time": "2022-02-08T10:07:34.089125",
     "status": "completed"
    },
    "tags": []
   },
   "source": [
    "We reshape the data to flatten the image pixels into a set of features or co-variates:"
   ]
  },
  {
   "cell_type": "code",
   "execution_count": 14,
   "id": "5286a4a3",
   "metadata": {
    "execution": {
     "iopub.execute_input": "2022-02-08T10:07:34.172461Z",
     "iopub.status.busy": "2022-02-08T10:07:34.171896Z",
     "iopub.status.idle": "2022-02-08T10:07:34.182994Z",
     "shell.execute_reply": "2022-02-08T10:07:34.182546Z"
    },
    "papermill": {
     "duration": 0.0396,
     "end_time": "2022-02-08T10:07:34.183097",
     "exception": false,
     "start_time": "2022-02-08T10:07:34.143497",
     "status": "completed"
    },
    "tags": []
   },
   "outputs": [
    {
     "data": {
      "text/plain": [
       "((11982, 784), (1984, 784))"
      ]
     },
     "execution_count": 14,
     "metadata": {},
     "output_type": "execute_result"
    }
   ],
   "source": [
    "X_train = X_train.reshape(X_train.shape[0], -1)\n",
    "X_test = X_test.reshape(X_test.shape[0], -1)\n",
    "X_train.shape, X_test.shape"
   ]
  },
  {
   "cell_type": "code",
   "execution_count": 15,
   "id": "73c5f88a",
   "metadata": {
    "execution": {
     "iopub.execute_input": "2022-02-08T10:07:34.239464Z",
     "iopub.status.busy": "2022-02-08T10:07:34.238808Z",
     "iopub.status.idle": "2022-02-08T10:07:34.254792Z",
     "shell.execute_reply": "2022-02-08T10:07:34.255253Z"
    },
    "papermill": {
     "duration": 0.046018,
     "end_time": "2022-02-08T10:07:34.255369",
     "exception": false,
     "start_time": "2022-02-08T10:07:34.209351",
     "status": "completed"
    },
    "tags": []
   },
   "outputs": [],
   "source": [
    "#Impoting functions from 'Kudzu'\n",
    "from kudzu.model import Model\n",
    "from kudzu.train import Learner\n",
    "from kudzu.optim import GD\n",
    "from kudzu.data import Data, Sampler,Dataloader\n",
    "\n",
    "from kudzu.callbacks import AccCallback\n",
    "from kudzu.callbacks import ClfCallback\n",
    "\n",
    "from kudzu.loss import MSE\n",
    "\n",
    "from kudzu.layer import Sigmoid,Relu\n",
    "from kudzu.layer import Affine"
   ]
  },
  {
   "cell_type": "markdown",
   "id": "bc01172a",
   "metadata": {
    "papermill": {
     "duration": 0.026283,
     "end_time": "2022-02-08T10:07:34.308229",
     "exception": false,
     "start_time": "2022-02-08T10:07:34.281946",
     "status": "completed"
    },
    "tags": []
   },
   "source": [
    "### Let us create a `Config` class, to store important parameters. \n",
    "This class essentially plays the role of a dictionary."
   ]
  },
  {
   "cell_type": "code",
   "execution_count": 16,
   "id": "978281aa",
   "metadata": {
    "execution": {
     "iopub.execute_input": "2022-02-08T10:07:34.363787Z",
     "iopub.status.busy": "2022-02-08T10:07:34.363253Z",
     "iopub.status.idle": "2022-02-08T10:07:34.372817Z",
     "shell.execute_reply": "2022-02-08T10:07:34.373276Z"
    },
    "papermill": {
     "duration": 0.038781,
     "end_time": "2022-02-08T10:07:34.373393",
     "exception": false,
     "start_time": "2022-02-08T10:07:34.334612",
     "status": "completed"
    },
    "tags": []
   },
   "outputs": [],
   "source": [
    "class Config:\n",
    "    pass\n",
    "config = Config()\n",
    "config.lr = 0.001\n",
    "config.num_epochs = 250\n",
    "config.bs = 50"
   ]
  },
  {
   "cell_type": "markdown",
   "id": "1385fa59",
   "metadata": {
    "papermill": {
     "duration": 0.026206,
     "end_time": "2022-02-08T10:07:34.425951",
     "exception": false,
     "start_time": "2022-02-08T10:07:34.399745",
     "status": "completed"
    },
    "tags": []
   },
   "source": [
    "### Running Models with the Training data\n",
    "Details about the network layers:\n",
    "- A first affine layer has 784 inputs and does 100 affine transforms. These are followed by a Relu\n",
    "- A second affine layer has 100 inputs from the 100 activations of the past layer, and does 100 affine transforms. These are followed by a Relu\n",
    "- A third affine layer has 100 activations and does 2 affine transformations to create an embedding for visualization. There is no non-linearity here.\n",
    "- A final \"logistic regression\" which has an affine transform from 2 inputs to 1 output, which is squeezed through a sigmoid.\n"
   ]
  },
  {
   "cell_type": "code",
   "execution_count": 17,
   "id": "2b9c66db",
   "metadata": {
    "execution": {
     "iopub.execute_input": "2022-02-08T10:07:34.481629Z",
     "iopub.status.busy": "2022-02-08T10:07:34.481092Z",
     "iopub.status.idle": "2022-02-08T10:07:34.490644Z",
     "shell.execute_reply": "2022-02-08T10:07:34.491106Z"
    },
    "papermill": {
     "duration": 0.038938,
     "end_time": "2022-02-08T10:07:34.491221",
     "exception": false,
     "start_time": "2022-02-08T10:07:34.452283",
     "status": "completed"
    },
    "tags": []
   },
   "outputs": [],
   "source": [
    "data = Data(X_train, y_train.reshape(-1,1))\n",
    "sampler = Sampler(data, config.bs, shuffle=True)\n",
    "\n",
    "dl = Dataloader(data, sampler)\n",
    "\n",
    "opt = GD(config.lr)\n",
    "loss = MSE()"
   ]
  },
  {
   "cell_type": "code",
   "execution_count": 18,
   "id": "b275e4c2",
   "metadata": {
    "execution": {
     "iopub.execute_input": "2022-02-08T10:07:34.548771Z",
     "iopub.status.busy": "2022-02-08T10:07:34.548241Z",
     "iopub.status.idle": "2022-02-08T10:07:34.558119Z",
     "shell.execute_reply": "2022-02-08T10:07:34.558528Z"
    },
    "papermill": {
     "duration": 0.04015,
     "end_time": "2022-02-08T10:07:34.558646",
     "exception": false,
     "start_time": "2022-02-08T10:07:34.518496",
     "status": "completed"
    },
    "tags": []
   },
   "outputs": [],
   "source": [
    "training_data_x = X_train\n",
    "testing_data_x = X_test\n",
    "training_data_y = y_train.reshape(-1,1)\n",
    "testing_data_y = y_test.reshape(-1,1)"
   ]
  },
  {
   "cell_type": "code",
   "execution_count": 19,
   "id": "76951160",
   "metadata": {
    "execution": {
     "iopub.execute_input": "2022-02-08T10:07:34.614943Z",
     "iopub.status.busy": "2022-02-08T10:07:34.614381Z",
     "iopub.status.idle": "2022-02-08T10:07:34.627957Z",
     "shell.execute_reply": "2022-02-08T10:07:34.628439Z"
    },
    "papermill": {
     "duration": 0.043946,
     "end_time": "2022-02-08T10:07:34.628561",
     "exception": false,
     "start_time": "2022-02-08T10:07:34.584615",
     "status": "completed"
    },
    "tags": []
   },
   "outputs": [
    {
     "name": "stdout",
     "output_type": "stream",
     "text": [
      "xavier\n",
      "xavier\n",
      "xavier\n",
      "xavier\n",
      "xavier\n"
     ]
    }
   ],
   "source": [
    "layers = [Affine(\"first\", 784, 100), Relu(\"first\"), Affine(\"second\", 100, 100), Relu(\"second\"), Affine(\"third\", 100, 2), Affine(\"last\", 2, 1), Sigmoid(\"last\")]\n",
    "model_nn = Model(layers)\n",
    "model_lr = Model([Affine(\"logits\", 784, 1), Sigmoid(\"sigmoid\")])"
   ]
  },
  {
   "cell_type": "code",
   "execution_count": 20,
   "id": "6eede77a",
   "metadata": {
    "execution": {
     "iopub.execute_input": "2022-02-08T10:07:34.684742Z",
     "iopub.status.busy": "2022-02-08T10:07:34.684211Z",
     "iopub.status.idle": "2022-02-08T10:07:34.693565Z",
     "shell.execute_reply": "2022-02-08T10:07:34.694018Z"
    },
    "papermill": {
     "duration": 0.0392,
     "end_time": "2022-02-08T10:07:34.694134",
     "exception": false,
     "start_time": "2022-02-08T10:07:34.654934",
     "status": "completed"
    },
    "tags": []
   },
   "outputs": [],
   "source": [
    "nn_learner = Learner(loss, model_nn, opt, config.num_epochs)\n",
    "acc_nn = ClfCallback(nn_learner, config.bs, training_data_x , testing_data_x, training_data_y, testing_data_y)\n",
    "nn_learner.set_callbacks([acc_nn])"
   ]
  },
  {
   "cell_type": "code",
   "execution_count": 21,
   "id": "877b6cc7",
   "metadata": {
    "execution": {
     "iopub.execute_input": "2022-02-08T10:07:34.752210Z",
     "iopub.status.busy": "2022-02-08T10:07:34.751338Z",
     "iopub.status.idle": "2022-02-08T10:07:34.760927Z",
     "shell.execute_reply": "2022-02-08T10:07:34.760478Z"
    },
    "papermill": {
     "duration": 0.040197,
     "end_time": "2022-02-08T10:07:34.761030",
     "exception": false,
     "start_time": "2022-02-08T10:07:34.720833",
     "status": "completed"
    },
    "tags": []
   },
   "outputs": [],
   "source": [
    "lr_learner = Learner(loss, model_lr, opt, config.num_epochs)\n",
    "acc_lr = ClfCallback(lr_learner, config.bs, training_data_x , testing_data_x, training_data_y, testing_data_y)\n",
    "lr_learner.set_callbacks([acc_lr])"
   ]
  },
  {
   "cell_type": "code",
   "execution_count": 22,
   "id": "d9b133c3",
   "metadata": {
    "execution": {
     "iopub.execute_input": "2022-02-08T10:07:34.818745Z",
     "iopub.status.busy": "2022-02-08T10:07:34.818060Z",
     "iopub.status.idle": "2022-02-08T10:09:39.654176Z",
     "shell.execute_reply": "2022-02-08T10:09:39.654916Z"
    },
    "papermill": {
     "duration": 124.867734,
     "end_time": "2022-02-08T10:09:39.655070",
     "exception": false,
     "start_time": "2022-02-08T10:07:34.787336",
     "status": "completed"
    },
    "tags": []
   },
   "outputs": [
    {
     "name": "stdout",
     "output_type": "stream",
     "text": [
      "Epoch 0, Loss 0.2416\n",
      "Training Accuracy: 0.6901, Testing Accuracy: 0.6961\n",
      "\n"
     ]
    },
    {
     "name": "stdout",
     "output_type": "stream",
     "text": [
      "Epoch 10, Loss 0.0964\n",
      "Training Accuracy: 0.9098, Testing Accuracy: 0.9199\n",
      "\n"
     ]
    },
    {
     "name": "stdout",
     "output_type": "stream",
     "text": [
      "Epoch 20, Loss 0.0595\n",
      "Training Accuracy: 0.9389, Testing Accuracy: 0.9516\n",
      "\n"
     ]
    },
    {
     "name": "stdout",
     "output_type": "stream",
     "text": [
      "Epoch 30, Loss 0.0463\n",
      "Training Accuracy: 0.9500, Testing Accuracy: 0.9582\n",
      "\n"
     ]
    },
    {
     "name": "stdout",
     "output_type": "stream",
     "text": [
      "Epoch 40, Loss 0.0397\n",
      "Training Accuracy: 0.9570, Testing Accuracy: 0.9647\n",
      "\n"
     ]
    },
    {
     "name": "stdout",
     "output_type": "stream",
     "text": [
      "Epoch 50, Loss 0.0358\n",
      "Training Accuracy: 0.9605, Testing Accuracy: 0.9682\n",
      "\n"
     ]
    },
    {
     "name": "stdout",
     "output_type": "stream",
     "text": [
      "Epoch 60, Loss 0.0331\n",
      "Training Accuracy: 0.9624, Testing Accuracy: 0.9693\n",
      "\n"
     ]
    },
    {
     "name": "stdout",
     "output_type": "stream",
     "text": [
      "Epoch 70, Loss 0.0311\n",
      "Training Accuracy: 0.9638, Testing Accuracy: 0.9713\n",
      "\n"
     ]
    },
    {
     "name": "stdout",
     "output_type": "stream",
     "text": [
      "Epoch 80, Loss 0.0296\n",
      "Training Accuracy: 0.9659, Testing Accuracy: 0.9708\n",
      "\n"
     ]
    },
    {
     "name": "stdout",
     "output_type": "stream",
     "text": [
      "Epoch 90, Loss 0.0283\n",
      "Training Accuracy: 0.9670, Testing Accuracy: 0.9703\n",
      "\n"
     ]
    },
    {
     "name": "stdout",
     "output_type": "stream",
     "text": [
      "Epoch 100, Loss 0.0272\n",
      "Training Accuracy: 0.9683, Testing Accuracy: 0.9708\n",
      "\n"
     ]
    },
    {
     "name": "stdout",
     "output_type": "stream",
     "text": [
      "Epoch 110, Loss 0.0262\n",
      "Training Accuracy: 0.9695, Testing Accuracy: 0.9703\n",
      "\n"
     ]
    },
    {
     "name": "stdout",
     "output_type": "stream",
     "text": [
      "Epoch 120, Loss 0.0254\n",
      "Training Accuracy: 0.9709, Testing Accuracy: 0.9703\n",
      "\n"
     ]
    },
    {
     "name": "stdout",
     "output_type": "stream",
     "text": [
      "Epoch 130, Loss 0.0246\n",
      "Training Accuracy: 0.9717, Testing Accuracy: 0.9713\n",
      "\n"
     ]
    },
    {
     "name": "stdout",
     "output_type": "stream",
     "text": [
      "Epoch 140, Loss 0.0239\n",
      "Training Accuracy: 0.9725, Testing Accuracy: 0.9723\n",
      "\n"
     ]
    },
    {
     "name": "stdout",
     "output_type": "stream",
     "text": [
      "Epoch 150, Loss 0.0233\n",
      "Training Accuracy: 0.9732, Testing Accuracy: 0.9723\n",
      "\n"
     ]
    },
    {
     "name": "stdout",
     "output_type": "stream",
     "text": [
      "Epoch 160, Loss 0.0227\n",
      "Training Accuracy: 0.9738, Testing Accuracy: 0.9728\n",
      "\n"
     ]
    },
    {
     "name": "stdout",
     "output_type": "stream",
     "text": [
      "Epoch 170, Loss 0.0221\n",
      "Training Accuracy: 0.9739, Testing Accuracy: 0.9733\n",
      "\n"
     ]
    },
    {
     "name": "stdout",
     "output_type": "stream",
     "text": [
      "Epoch 180, Loss 0.0216\n",
      "Training Accuracy: 0.9746, Testing Accuracy: 0.9733\n",
      "\n"
     ]
    },
    {
     "name": "stdout",
     "output_type": "stream",
     "text": [
      "Epoch 190, Loss 0.0211\n",
      "Training Accuracy: 0.9757, Testing Accuracy: 0.9733\n",
      "\n"
     ]
    },
    {
     "name": "stdout",
     "output_type": "stream",
     "text": [
      "Epoch 200, Loss 0.0206\n",
      "Training Accuracy: 0.9763, Testing Accuracy: 0.9733\n",
      "\n"
     ]
    },
    {
     "name": "stdout",
     "output_type": "stream",
     "text": [
      "Epoch 210, Loss 0.0202\n",
      "Training Accuracy: 0.9766, Testing Accuracy: 0.9733\n",
      "\n"
     ]
    },
    {
     "name": "stdout",
     "output_type": "stream",
     "text": [
      "Epoch 220, Loss 0.0197\n",
      "Training Accuracy: 0.9774, Testing Accuracy: 0.9738\n",
      "\n"
     ]
    },
    {
     "name": "stdout",
     "output_type": "stream",
     "text": [
      "Epoch 230, Loss 0.0193\n",
      "Training Accuracy: 0.9786, Testing Accuracy: 0.9743\n",
      "\n"
     ]
    },
    {
     "name": "stdout",
     "output_type": "stream",
     "text": [
      "Epoch 240, Loss 0.0189\n",
      "Training Accuracy: 0.9791, Testing Accuracy: 0.9738\n",
      "\n"
     ]
    },
    {
     "data": {
      "text/plain": [
       "0.03506853738110296"
      ]
     },
     "execution_count": 22,
     "metadata": {},
     "output_type": "execute_result"
    }
   ],
   "source": [
    "nn_learner.train_loop(dl)"
   ]
  },
  {
   "cell_type": "code",
   "execution_count": 23,
   "id": "e0163366",
   "metadata": {
    "execution": {
     "iopub.execute_input": "2022-02-08T10:09:39.734246Z",
     "iopub.status.busy": "2022-02-08T10:09:39.733560Z",
     "iopub.status.idle": "2022-02-08T10:09:58.544411Z",
     "shell.execute_reply": "2022-02-08T10:09:58.545701Z"
    },
    "papermill": {
     "duration": 18.856895,
     "end_time": "2022-02-08T10:09:58.545975",
     "exception": false,
     "start_time": "2022-02-08T10:09:39.689080",
     "status": "completed"
    },
    "tags": []
   },
   "outputs": [
    {
     "name": "stdout",
     "output_type": "stream",
     "text": [
      "Epoch 0, Loss 0.238\n",
      "Training Accuracy: 0.7137, Testing Accuracy: 0.7127\n",
      "\n"
     ]
    },
    {
     "name": "stdout",
     "output_type": "stream",
     "text": [
      "Epoch 10, Loss 0.1013\n",
      "Training Accuracy: 0.9130, Testing Accuracy: 0.9224\n",
      "\n"
     ]
    },
    {
     "name": "stdout",
     "output_type": "stream",
     "text": [
      "Epoch 20, Loss 0.0785\n",
      "Training Accuracy: 0.9296, Testing Accuracy: 0.9395\n",
      "\n"
     ]
    },
    {
     "name": "stdout",
     "output_type": "stream",
     "text": [
      "Epoch 30, Loss 0.068\n",
      "Training Accuracy: 0.9369, Testing Accuracy: 0.9466\n",
      "\n"
     ]
    },
    {
     "name": "stdout",
     "output_type": "stream",
     "text": [
      "Epoch 40, Loss 0.0615\n",
      "Training Accuracy: 0.9416, Testing Accuracy: 0.9496\n",
      "\n"
     ]
    },
    {
     "name": "stdout",
     "output_type": "stream",
     "text": [
      "Epoch 50, Loss 0.0571\n",
      "Training Accuracy: 0.9448, Testing Accuracy: 0.9531\n",
      "\n"
     ]
    },
    {
     "name": "stdout",
     "output_type": "stream",
     "text": [
      "Epoch 60, Loss 0.0539\n",
      "Training Accuracy: 0.9472, Testing Accuracy: 0.9567\n",
      "\n"
     ]
    },
    {
     "name": "stdout",
     "output_type": "stream",
     "text": [
      "Epoch 70, Loss 0.0513\n",
      "Training Accuracy: 0.9486, Testing Accuracy: 0.9582\n",
      "\n"
     ]
    },
    {
     "name": "stdout",
     "output_type": "stream",
     "text": [
      "Epoch 80, Loss 0.0493\n",
      "Training Accuracy: 0.9503, Testing Accuracy: 0.9597\n",
      "\n"
     ]
    },
    {
     "name": "stdout",
     "output_type": "stream",
     "text": [
      "Epoch 90, Loss 0.0476\n",
      "Training Accuracy: 0.9513, Testing Accuracy: 0.9622\n",
      "\n"
     ]
    },
    {
     "name": "stdout",
     "output_type": "stream",
     "text": [
      "Epoch 100, Loss 0.0462\n",
      "Training Accuracy: 0.9525, Testing Accuracy: 0.9622\n",
      "\n"
     ]
    },
    {
     "name": "stdout",
     "output_type": "stream",
     "text": [
      "Epoch 110, Loss 0.045\n",
      "Training Accuracy: 0.9533, Testing Accuracy: 0.9632\n",
      "\n"
     ]
    },
    {
     "name": "stdout",
     "output_type": "stream",
     "text": [
      "Epoch 120, Loss 0.0439\n",
      "Training Accuracy: 0.9543, Testing Accuracy: 0.9632\n",
      "\n"
     ]
    },
    {
     "name": "stdout",
     "output_type": "stream",
     "text": [
      "Epoch 130, Loss 0.043\n",
      "Training Accuracy: 0.9554, Testing Accuracy: 0.9637\n",
      "\n"
     ]
    },
    {
     "name": "stdout",
     "output_type": "stream",
     "text": [
      "Epoch 140, Loss 0.0421\n",
      "Training Accuracy: 0.9559, Testing Accuracy: 0.9642\n",
      "\n"
     ]
    },
    {
     "name": "stdout",
     "output_type": "stream",
     "text": [
      "Epoch 150, Loss 0.0414\n",
      "Training Accuracy: 0.9561, Testing Accuracy: 0.9642\n",
      "\n"
     ]
    },
    {
     "name": "stdout",
     "output_type": "stream",
     "text": [
      "Epoch 160, Loss 0.0407\n",
      "Training Accuracy: 0.9565, Testing Accuracy: 0.9642\n",
      "\n"
     ]
    },
    {
     "name": "stdout",
     "output_type": "stream",
     "text": [
      "Epoch 170, Loss 0.0401\n",
      "Training Accuracy: 0.9569, Testing Accuracy: 0.9647\n",
      "\n"
     ]
    },
    {
     "name": "stdout",
     "output_type": "stream",
     "text": [
      "Epoch 180, Loss 0.0395\n",
      "Training Accuracy: 0.9577, Testing Accuracy: 0.9652\n",
      "\n"
     ]
    },
    {
     "name": "stdout",
     "output_type": "stream",
     "text": [
      "Epoch 190, Loss 0.039\n",
      "Training Accuracy: 0.9584, Testing Accuracy: 0.9647\n",
      "\n"
     ]
    },
    {
     "name": "stdout",
     "output_type": "stream",
     "text": [
      "Epoch 200, Loss 0.0385\n",
      "Training Accuracy: 0.9589, Testing Accuracy: 0.9652\n",
      "\n"
     ]
    },
    {
     "name": "stdout",
     "output_type": "stream",
     "text": [
      "Epoch 210, Loss 0.0381\n",
      "Training Accuracy: 0.9594, Testing Accuracy: 0.9657\n",
      "\n"
     ]
    },
    {
     "name": "stdout",
     "output_type": "stream",
     "text": [
      "Epoch 220, Loss 0.0377\n",
      "Training Accuracy: 0.9596, Testing Accuracy: 0.9657\n",
      "\n"
     ]
    },
    {
     "name": "stdout",
     "output_type": "stream",
     "text": [
      "Epoch 230, Loss 0.0373\n",
      "Training Accuracy: 0.9598, Testing Accuracy: 0.9657\n",
      "\n"
     ]
    },
    {
     "name": "stdout",
     "output_type": "stream",
     "text": [
      "Epoch 240, Loss 0.0369\n",
      "Training Accuracy: 0.9600, Testing Accuracy: 0.9662\n",
      "\n"
     ]
    },
    {
     "data": {
      "text/plain": [
       "0.02340000082378561"
      ]
     },
     "execution_count": 23,
     "metadata": {},
     "output_type": "execute_result"
    }
   ],
   "source": [
    "lr_learner.train_loop(dl)"
   ]
  },
  {
   "cell_type": "code",
   "execution_count": 24,
   "id": "ca410940",
   "metadata": {
    "execution": {
     "iopub.execute_input": "2022-02-08T10:09:58.651928Z",
     "iopub.status.busy": "2022-02-08T10:09:58.651343Z",
     "iopub.status.idle": "2022-02-08T10:09:58.953598Z",
     "shell.execute_reply": "2022-02-08T10:09:58.951782Z"
    },
    "papermill": {
     "duration": 0.357649,
     "end_time": "2022-02-08T10:09:58.953830",
     "exception": false,
     "start_time": "2022-02-08T10:09:58.596181",
     "status": "completed"
    },
    "tags": []
   },
   "outputs": [
    {
     "data": {
      "text/plain": [
       "<matplotlib.legend.Legend at 0x7efe6d1426a0>"
      ]
     },
     "execution_count": 24,
     "metadata": {},
     "output_type": "execute_result"
    },
    {
     "data": {
      "image/png": "[encoded data removed]",
      "text/plain": [
       "<Figure size 1080x720 with 1 Axes>"
      ]
     },
     "metadata": {
      "needs_background": "light"
     },
     "output_type": "display_data"
    }
   ],
   "source": [
    "#comparing the results of NN and LR\n",
    "plt.figure(figsize=(15,10))\n",
    "\n",
    "# Neural Network plots\n",
    "plt.plot(acc_nn.accuracies, 'r-', label = \"Training Accuracies - NN\")\n",
    "plt.plot(acc_nn.test_accuracies, 'g-', label = \"Testing Accuracies - NN\")\n",
    "\n",
    "# Logistic Regression plots\n",
    "plt.plot(acc_lr.accuracies, 'k-', label = \"Training Accuracies - LR\")\n",
    "plt.plot(acc_lr.test_accuracies, 'b-', label = \"Testing Accuracies - LR\")\n",
    "plt.legend()"
   ]
  },
  {
   "cell_type": "markdown",
   "id": "80dfb35c",
   "metadata": {
    "papermill": {
     "duration": 0.051607,
     "end_time": "2022-02-08T10:09:59.060626",
     "exception": false,
     "start_time": "2022-02-08T10:09:59.009019",
     "status": "completed"
    },
    "tags": []
   },
   "source": [
    "#### Plotting the outputs of this layer of the NN.\n"
   ]
  },
  {
   "cell_type": "code",
   "execution_count": 25,
   "id": "45eb2ff5",
   "metadata": {
    "execution": {
     "iopub.execute_input": "2022-02-08T10:09:59.160047Z",
     "iopub.status.busy": "2022-02-08T10:09:59.159401Z",
     "iopub.status.idle": "2022-02-08T10:09:59.187525Z",
     "shell.execute_reply": "2022-02-08T10:09:59.188252Z"
    },
    "papermill": {
     "duration": 0.080243,
     "end_time": "2022-02-08T10:09:59.188423",
     "exception": false,
     "start_time": "2022-02-08T10:09:59.108180",
     "status": "completed"
    },
    "tags": []
   },
   "outputs": [],
   "source": [
    "new_model = Model(layers[:-2])\n",
    "testing_plot = new_model(testing_data_x)"
   ]
  },
  {
   "cell_type": "code",
   "execution_count": 26,
   "id": "4c0a5485",
   "metadata": {
    "execution": {
     "iopub.execute_input": "2022-02-08T10:09:59.322467Z",
     "iopub.status.busy": "2022-02-08T10:09:59.320757Z",
     "iopub.status.idle": "2022-02-08T10:09:59.603297Z",
     "shell.execute_reply": "2022-02-08T10:09:59.602840Z"
    },
    "papermill": {
     "duration": 0.350262,
     "end_time": "2022-02-08T10:09:59.603461",
     "exception": false,
     "start_time": "2022-02-08T10:09:59.253199",
     "status": "completed"
    },
    "tags": []
   },
   "outputs": [
    {
     "data": {
      "text/plain": [
       "Text(0.5, 1.0, 'Outputs')"
      ]
     },
     "execution_count": 26,
     "metadata": {},
     "output_type": "execute_result"
    },
    {
     "data": {
      "image/png": "[encoded data removed]",
      "text/plain": [
       "<Figure size 576x504 with 1 Axes>"
      ]
     },
     "metadata": {
      "needs_background": "light"
     },
     "output_type": "display_data"
    }
   ],
   "source": [
    "# Plotting the scatter plot of points and color coding by class\n",
    "plt.figure(figsize=(8,7))\n",
    "plt.scatter(testing_plot[:,0], testing_plot[:,1], alpha = 0.1, c = y_test.ravel());\n",
    "plt.title('Outputs')"
   ]
  },
  {
   "cell_type": "markdown",
   "id": "a74fcf8f",
   "metadata": {
    "papermill": {
     "duration": 0.057421,
     "end_time": "2022-02-08T10:09:59.718383",
     "exception": false,
     "start_time": "2022-02-08T10:09:59.660962",
     "status": "completed"
    },
    "tags": []
   },
   "source": [
    "Probability contours"
   ]
  },
  {
   "cell_type": "code",
   "execution_count": 27,
   "id": "d0afc8e3",
   "metadata": {
    "execution": {
     "iopub.execute_input": "2022-02-08T10:09:59.825238Z",
     "iopub.status.busy": "2022-02-08T10:09:59.824680Z",
     "iopub.status.idle": "2022-02-08T10:09:59.837283Z",
     "shell.execute_reply": "2022-02-08T10:09:59.836770Z"
    },
    "papermill": {
     "duration": 0.067603,
     "end_time": "2022-02-08T10:09:59.837418",
     "exception": false,
     "start_time": "2022-02-08T10:09:59.769815",
     "status": "completed"
    },
    "tags": []
   },
   "outputs": [],
   "source": [
    "model_prob = Model(layers[-2:]) "
   ]
  },
  {
   "cell_type": "code",
   "execution_count": 28,
   "id": "9b96e238",
   "metadata": {
    "execution": {
     "iopub.execute_input": "2022-02-08T10:09:59.970400Z",
     "iopub.status.busy": "2022-02-08T10:09:59.969760Z",
     "iopub.status.idle": "2022-02-08T10:09:59.983541Z",
     "shell.execute_reply": "2022-02-08T10:09:59.984077Z"
    },
    "papermill": {
     "duration": 0.090667,
     "end_time": "2022-02-08T10:09:59.984223",
     "exception": false,
     "start_time": "2022-02-08T10:09:59.893556",
     "status": "completed"
    },
    "tags": []
   },
   "outputs": [],
   "source": [
    "#creating the x and y ranges according to the above generated plot.\n",
    "x_range = np.linspace(-4, 1, 100) \n",
    "y_range = np.linspace(-6, 6, 100) \n",
    "x_grid, y_grid = np.meshgrid(x_range, y_range) # x_grid and y_grig are of size 100 X 100\n",
    "\n",
    "# converting x_grid and y_grid to continuous arrays\n",
    "x_gridflat = np.ravel(x_grid)\n",
    "y_gridflat = np.ravel(y_grid)\n",
    "\n",
    "# The last layer of the current model takes two columns as input. Hence transpose of np.vstack() is required.\n",
    "X = np.vstack((x_gridflat, y_gridflat)).T\n",
    "\n",
    "prob_contour = model_prob(X).reshape(100,100) "
   ]
  },
  {
   "cell_type": "code",
   "execution_count": 29,
   "id": "da72499a",
   "metadata": {
    "execution": {
     "iopub.execute_input": "2022-02-08T10:10:00.093569Z",
     "iopub.status.busy": "2022-02-08T10:10:00.093018Z",
     "iopub.status.idle": "2022-02-08T10:10:00.418582Z",
     "shell.execute_reply": "2022-02-08T10:10:00.417826Z"
    },
    "papermill": {
     "duration": 0.384292,
     "end_time": "2022-02-08T10:10:00.418721",
     "exception": false,
     "start_time": "2022-02-08T10:10:00.034429",
     "status": "completed"
    },
    "tags": []
   },
   "outputs": [
    {
     "data": {
      "image/png": "[encoded data removed]",
      "text/plain": [
       "<Figure size 720x648 with 1 Axes>"
      ]
     },
     "metadata": {
      "needs_background": "light"
     },
     "output_type": "display_data"
    }
   ],
   "source": [
    "plt.figure(figsize=(10,9))\n",
    "plt.scatter(testing_plot[:,0], testing_plot[:,1], alpha = 0.1, c = y_test.ravel())\n",
    "contours = plt.contour(x_grid,y_grid,prob_contour)\n",
    "plt.title('Probability Contours')\n",
    "plt.clabel(contours, inline = True );"
   ]
  },
  {
   "cell_type": "code",
   "execution_count": null,
   "id": "e81b4ac7",
   "metadata": {
    "papermill": {
     "duration": 0.063309,
     "end_time": "2022-02-08T10:10:00.543589",
     "exception": false,
     "start_time": "2022-02-08T10:10:00.480280",
     "status": "completed"
    },
    "tags": []
   },
   "outputs": [],
   "source": []
  }
 ],
 "metadata": {
  "kernelspec": {
   "display_name": "Python 3",
   "language": "python",
   "name": "python3"
  },
  "language_info": {
   "codemirror_mode": {
    "name": "ipython",
    "version": 3
   },
   "file_extension": ".py",
   "mimetype": "text/x-python",
   "name": "python",
   "nbconvert_exporter": "python",
   "pygments_lexer": "ipython3",
   "version": "3.6.15"
  },
  "papermill": {
   "default_parameters": {},
   "duration": 152.030298,
   "end_time": "2022-02-08T10:10:01.026473",
   "environment_variables": {},
   "exception": null,
   "input_path": "2020-08-11-part2.ipynb",
   "output_path": "2020-08-11-part2.ipynb",
   "parameters": {},
   "start_time": "2022-02-08T10:07:28.996175",
   "version": "2.3.3"
  }
 },
 "nbformat": 4,
 "nbformat_minor": 5
}