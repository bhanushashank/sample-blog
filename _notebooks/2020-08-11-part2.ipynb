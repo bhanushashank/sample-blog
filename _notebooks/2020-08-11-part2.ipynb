{
 "cells": [
  {
   "cell_type": "markdown",
   "id": "98380cd3",
   "metadata": {
    "papermill": {
     "duration": 0.037484,
     "end_time": "2022-11-26T10:10:07.859375",
     "exception": false,
     "start_time": "2022-11-26T10:10:07.821891",
     "status": "completed"
    },
    "tags": []
   },
   "source": [
    "# Distinguish Your Own Digits (DYOD)"
   ]
  },
  {
   "cell_type": "markdown",
   "id": "ef31240d",
   "metadata": {
    "papermill": {
     "duration": 0.030281,
     "end_time": "2022-11-26T10:10:07.921895",
     "exception": false,
     "start_time": "2022-11-26T10:10:07.891614",
     "status": "completed"
    },
    "tags": []
   },
   "source": [
    "You are going to write a classifier that distinguishes between the number 3 and number 8."
   ]
  },
  {
   "cell_type": "code",
   "execution_count": 1,
   "id": "b15c8646",
   "metadata": {
    "execution": {
     "iopub.execute_input": "2022-11-26T10:10:07.997423Z",
     "iopub.status.busy": "2022-11-26T10:10:07.996704Z",
     "iopub.status.idle": "2022-11-26T10:10:08.011258Z",
     "shell.execute_reply": "2022-11-26T10:10:08.010502Z"
    },
    "papermill": {
     "duration": 0.055193,
     "end_time": "2022-11-26T10:10:08.011416",
     "exception": false,
     "start_time": "2022-11-26T10:10:07.956223",
     "status": "completed"
    },
    "tags": []
   },
   "outputs": [],
   "source": [
    "%load_ext autoreload\n",
    "%autoreload 2"
   ]
  },
  {
   "cell_type": "code",
   "execution_count": 2,
   "id": "22ef38dc",
   "metadata": {
    "execution": {
     "iopub.execute_input": "2022-11-26T10:10:08.079333Z",
     "iopub.status.busy": "2022-11-26T10:10:08.078504Z",
     "iopub.status.idle": "2022-11-26T10:10:08.738120Z",
     "shell.execute_reply": "2022-11-26T10:10:08.739313Z"
    },
    "papermill": {
     "duration": 0.699597,
     "end_time": "2022-11-26T10:10:08.739522",
     "exception": false,
     "start_time": "2022-11-26T10:10:08.039925",
     "status": "completed"
    },
    "tags": []
   },
   "outputs": [],
   "source": [
    "%matplotlib inline\n",
    "import numpy as np\n",
    "import matplotlib.pyplot as plt\n",
    "import pandas as pd"
   ]
  },
  {
   "cell_type": "markdown",
   "id": "ba036198",
   "metadata": {
    "papermill": {
     "duration": 0.029416,
     "end_time": "2022-11-26T10:10:08.798619",
     "exception": false,
     "start_time": "2022-11-26T10:10:08.769203",
     "status": "completed"
    },
    "tags": []
   },
   "source": [
    "From the command line run `pip install mnist`. This is a library that will help you bring down the mnist dataset. If you run this from a notebook, you need to put  `!pip install mnist` in a cell by itself."
   ]
  },
  {
   "cell_type": "code",
   "execution_count": 3,
   "id": "bb6ad8a1",
   "metadata": {
    "execution": {
     "iopub.execute_input": "2022-11-26T10:10:08.867402Z",
     "iopub.status.busy": "2022-11-26T10:10:08.866689Z",
     "iopub.status.idle": "2022-11-26T10:10:11.503457Z",
     "shell.execute_reply": "2022-11-26T10:10:11.502321Z"
    },
    "papermill": {
     "duration": 2.671644,
     "end_time": "2022-11-26T10:10:11.503789",
     "exception": false,
     "start_time": "2022-11-26T10:10:08.832145",
     "status": "completed"
    },
    "tags": []
   },
   "outputs": [
    {
     "name": "stdout",
     "output_type": "stream",
     "text": [
      "Collecting mnist\r\n",
      "  Downloading mnist-0.2.2-py2.py3-none-any.whl (3.5 kB)\r\n",
      "Requirement already satisfied: numpy in /opt/hostedtoolcache/Python/3.6.15/x64/lib/python3.6/site-packages (from mnist) (1.19.5)\r\n"
     ]
    },
    {
     "name": "stdout",
     "output_type": "stream",
     "text": [
      "Installing collected packages: mnist\r\n"
     ]
    },
    {
     "name": "stdout",
     "output_type": "stream",
     "text": [
      "Successfully installed mnist-0.2.2\r\n"
     ]
    }
   ],
   "source": [
    "!pip install mnist"
   ]
  },
  {
   "cell_type": "markdown",
   "id": "69df9c9a",
   "metadata": {
    "papermill": {
     "duration": 0.031264,
     "end_time": "2022-11-26T10:10:11.565629",
     "exception": false,
     "start_time": "2022-11-26T10:10:11.534365",
     "status": "completed"
    },
    "tags": []
   },
   "source": [
    "## Preparing the Data"
   ]
  },
  {
   "cell_type": "code",
   "execution_count": 4,
   "id": "7f69d806",
   "metadata": {
    "execution": {
     "iopub.execute_input": "2022-11-26T10:10:11.630887Z",
     "iopub.status.busy": "2022-11-26T10:10:11.630189Z",
     "iopub.status.idle": "2022-11-26T10:10:11.643257Z",
     "shell.execute_reply": "2022-11-26T10:10:11.642703Z"
    },
    "papermill": {
     "duration": 0.04954,
     "end_time": "2022-11-26T10:10:11.643522",
     "exception": false,
     "start_time": "2022-11-26T10:10:11.593982",
     "status": "completed"
    },
    "tags": []
   },
   "outputs": [],
   "source": [
    "import mnist"
   ]
  },
  {
   "cell_type": "code",
   "execution_count": 5,
   "id": "a411e44f",
   "metadata": {
    "execution": {
     "iopub.execute_input": "2022-11-26T10:10:11.705560Z",
     "iopub.status.busy": "2022-11-26T10:10:11.704863Z",
     "iopub.status.idle": "2022-11-26T10:10:12.186371Z",
     "shell.execute_reply": "2022-11-26T10:10:12.185659Z"
    },
    "papermill": {
     "duration": 0.512638,
     "end_time": "2022-11-26T10:10:12.186511",
     "exception": false,
     "start_time": "2022-11-26T10:10:11.673873",
     "status": "completed"
    },
    "tags": []
   },
   "outputs": [],
   "source": [
    "train_images = mnist.train_images()\n",
    "train_labels = mnist.train_labels()"
   ]
  },
  {
   "cell_type": "code",
   "execution_count": 6,
   "id": "dceab3a5",
   "metadata": {
    "execution": {
     "iopub.execute_input": "2022-11-26T10:10:12.247494Z",
     "iopub.status.busy": "2022-11-26T10:10:12.246830Z",
     "iopub.status.idle": "2022-11-26T10:10:12.262305Z",
     "shell.execute_reply": "2022-11-26T10:10:12.262957Z"
    },
    "papermill": {
     "duration": 0.047153,
     "end_time": "2022-11-26T10:10:12.263089",
     "exception": false,
     "start_time": "2022-11-26T10:10:12.215936",
     "status": "completed"
    },
    "tags": []
   },
   "outputs": [
    {
     "data": {
      "text/plain": [
       "((60000, 28, 28), (60000,))"
      ]
     },
     "execution_count": 6,
     "metadata": {},
     "output_type": "execute_result"
    }
   ],
   "source": [
    "train_images.shape, train_labels.shape"
   ]
  },
  {
   "cell_type": "code",
   "execution_count": 7,
   "id": "f50dc2bb",
   "metadata": {
    "execution": {
     "iopub.execute_input": "2022-11-26T10:10:12.324099Z",
     "iopub.status.busy": "2022-11-26T10:10:12.323430Z",
     "iopub.status.idle": "2022-11-26T10:10:12.446580Z",
     "shell.execute_reply": "2022-11-26T10:10:12.445985Z"
    },
    "papermill": {
     "duration": 0.155113,
     "end_time": "2022-11-26T10:10:12.446714",
     "exception": false,
     "start_time": "2022-11-26T10:10:12.291601",
     "status": "completed"
    },
    "tags": []
   },
   "outputs": [],
   "source": [
    "test_images = mnist.test_images()\n",
    "test_labels = mnist.test_labels()"
   ]
  },
  {
   "cell_type": "code",
   "execution_count": 8,
   "id": "fc38cf1b",
   "metadata": {
    "execution": {
     "iopub.execute_input": "2022-11-26T10:10:12.513403Z",
     "iopub.status.busy": "2022-11-26T10:10:12.512728Z",
     "iopub.status.idle": "2022-11-26T10:10:12.527858Z",
     "shell.execute_reply": "2022-11-26T10:10:12.527191Z"
    },
    "papermill": {
     "duration": 0.052036,
     "end_time": "2022-11-26T10:10:12.527985",
     "exception": false,
     "start_time": "2022-11-26T10:10:12.475949",
     "status": "completed"
    },
    "tags": []
   },
   "outputs": [
    {
     "data": {
      "text/plain": [
       "((10000, 28, 28), (10000,))"
      ]
     },
     "execution_count": 8,
     "metadata": {},
     "output_type": "execute_result"
    }
   ],
   "source": [
    "test_images.shape, test_labels.shape"
   ]
  },
  {
   "cell_type": "code",
   "execution_count": 9,
   "id": "f9ed8fe0",
   "metadata": {
    "execution": {
     "iopub.execute_input": "2022-11-26T10:10:12.598142Z",
     "iopub.status.busy": "2022-11-26T10:10:12.597356Z",
     "iopub.status.idle": "2022-11-26T10:10:12.787143Z",
     "shell.execute_reply": "2022-11-26T10:10:12.787634Z"
    },
    "papermill": {
     "duration": 0.227254,
     "end_time": "2022-11-26T10:10:12.787783",
     "exception": false,
     "start_time": "2022-11-26T10:10:12.560529",
     "status": "completed"
    },
    "tags": []
   },
   "outputs": [
    {
     "name": "stdout",
     "output_type": "stream",
     "text": [
      "2\n"
     ]
    },
    {
     "data": {
      "text/plain": [
       "<matplotlib.image.AxesImage at 0x7f51d5daddd8>"
      ]
     },
     "execution_count": 9,
     "metadata": {},
     "output_type": "execute_result"
    },
    {
     "data": {
      "image/png": "[encoded data removed]",
      "text/plain": [
       "<Figure size 432x288 with 1 Axes>"
      ]
     },
     "metadata": {
      "needs_background": "light"
     },
     "output_type": "display_data"
    }
   ],
   "source": [
    "image_index = 7776 # You may select anything up to 60,000\n",
    "print(train_labels[image_index]) \n",
    "plt.imshow(train_images[image_index], cmap='Greys')"
   ]
  },
  {
   "cell_type": "markdown",
   "id": "a8d2388d",
   "metadata": {
    "papermill": {
     "duration": 0.032427,
     "end_time": "2022-11-26T10:10:12.856122",
     "exception": false,
     "start_time": "2022-11-26T10:10:12.823695",
     "status": "completed"
    },
    "tags": []
   },
   "source": [
    "## Filter data to get 3 and 8 out"
   ]
  },
  {
   "cell_type": "code",
   "execution_count": 10,
   "id": "776f7fc7",
   "metadata": {
    "execution": {
     "iopub.execute_input": "2022-11-26T10:10:12.923194Z",
     "iopub.status.busy": "2022-11-26T10:10:12.922360Z",
     "iopub.status.idle": "2022-11-26T10:10:12.942495Z",
     "shell.execute_reply": "2022-11-26T10:10:12.943131Z"
    },
    "papermill": {
     "duration": 0.055773,
     "end_time": "2022-11-26T10:10:12.943324",
     "exception": false,
     "start_time": "2022-11-26T10:10:12.887551",
     "status": "completed"
    },
    "tags": []
   },
   "outputs": [],
   "source": [
    "train_filter = np.where((train_labels == 3 ) | (train_labels == 8))\n",
    "test_filter = np.where((test_labels == 3) | (test_labels == 8))\n",
    "X_train, y_train = train_images[train_filter], train_labels[train_filter]\n",
    "X_test, y_test = test_images[test_filter], test_labels[test_filter]"
   ]
  },
  {
   "cell_type": "markdown",
   "id": "948f0b7e",
   "metadata": {
    "papermill": {
     "duration": 0.029027,
     "end_time": "2022-11-26T10:10:13.002966",
     "exception": false,
     "start_time": "2022-11-26T10:10:12.973939",
     "status": "completed"
    },
    "tags": []
   },
   "source": [
    "We normalize the pizel values in the 0 to 1 range"
   ]
  },
  {
   "cell_type": "code",
   "execution_count": 11,
   "id": "ee4c2166",
   "metadata": {
    "execution": {
     "iopub.execute_input": "2022-11-26T10:10:13.072758Z",
     "iopub.status.busy": "2022-11-26T10:10:13.072051Z",
     "iopub.status.idle": "2022-11-26T10:10:13.126697Z",
     "shell.execute_reply": "2022-11-26T10:10:13.127235Z"
    },
    "papermill": {
     "duration": 0.095435,
     "end_time": "2022-11-26T10:10:13.127396",
     "exception": false,
     "start_time": "2022-11-26T10:10:13.031961",
     "status": "completed"
    },
    "tags": []
   },
   "outputs": [],
   "source": [
    "X_train = X_train/255.\n",
    "X_test = X_test/255."
   ]
  },
  {
   "cell_type": "markdown",
   "id": "ddcf4fab",
   "metadata": {
    "papermill": {
     "duration": 0.031249,
     "end_time": "2022-11-26T10:10:13.189299",
     "exception": false,
     "start_time": "2022-11-26T10:10:13.158050",
     "status": "completed"
    },
    "tags": []
   },
   "source": [
    "And setup the labels as 1 (when the digit is 3) and 0 (when the digit is 8)"
   ]
  },
  {
   "cell_type": "code",
   "execution_count": 12,
   "id": "7dc908f2",
   "metadata": {
    "execution": {
     "iopub.execute_input": "2022-11-26T10:10:13.252470Z",
     "iopub.status.busy": "2022-11-26T10:10:13.251829Z",
     "iopub.status.idle": "2022-11-26T10:10:13.264081Z",
     "shell.execute_reply": "2022-11-26T10:10:13.264654Z"
    },
    "papermill": {
     "duration": 0.046211,
     "end_time": "2022-11-26T10:10:13.264855",
     "exception": false,
     "start_time": "2022-11-26T10:10:13.218644",
     "status": "completed"
    },
    "tags": []
   },
   "outputs": [],
   "source": [
    "y_train = 1*(y_train==3)\n",
    "y_test = 1*(y_test==3)"
   ]
  },
  {
   "cell_type": "code",
   "execution_count": 13,
   "id": "01e4e969",
   "metadata": {
    "execution": {
     "iopub.execute_input": "2022-11-26T10:10:13.335496Z",
     "iopub.status.busy": "2022-11-26T10:10:13.334769Z",
     "iopub.status.idle": "2022-11-26T10:10:13.349747Z",
     "shell.execute_reply": "2022-11-26T10:10:13.349208Z"
    },
    "papermill": {
     "duration": 0.052251,
     "end_time": "2022-11-26T10:10:13.349869",
     "exception": false,
     "start_time": "2022-11-26T10:10:13.297618",
     "status": "completed"
    },
    "tags": []
   },
   "outputs": [
    {
     "data": {
      "text/plain": [
       "((11982, 28, 28), (1984, 28, 28))"
      ]
     },
     "execution_count": 13,
     "metadata": {},
     "output_type": "execute_result"
    }
   ],
   "source": [
    "X_train.shape, X_test.shape"
   ]
  },
  {
   "cell_type": "markdown",
   "id": "5ccf3f85",
   "metadata": {
    "papermill": {
     "duration": 0.035163,
     "end_time": "2022-11-26T10:10:13.416891",
     "exception": false,
     "start_time": "2022-11-26T10:10:13.381728",
     "status": "completed"
    },
    "tags": []
   },
   "source": [
    "We reshape the data to flatten the image pixels into a set of features or co-variates:"
   ]
  },
  {
   "cell_type": "code",
   "execution_count": 14,
   "id": "5286a4a3",
   "metadata": {
    "execution": {
     "iopub.execute_input": "2022-11-26T10:10:13.479211Z",
     "iopub.status.busy": "2022-11-26T10:10:13.478548Z",
     "iopub.status.idle": "2022-11-26T10:10:13.494862Z",
     "shell.execute_reply": "2022-11-26T10:10:13.495434Z"
    },
    "papermill": {
     "duration": 0.049976,
     "end_time": "2022-11-26T10:10:13.495578",
     "exception": false,
     "start_time": "2022-11-26T10:10:13.445602",
     "status": "completed"
    },
    "tags": []
   },
   "outputs": [
    {
     "data": {
      "text/plain": [
       "((11982, 784), (1984, 784))"
      ]
     },
     "execution_count": 14,
     "metadata": {},
     "output_type": "execute_result"
    }
   ],
   "source": [
    "X_train = X_train.reshape(X_train.shape[0], -1)\n",
    "X_test = X_test.reshape(X_test.shape[0], -1)\n",
    "X_train.shape, X_test.shape"
   ]
  },
  {
   "cell_type": "code",
   "execution_count": 15,
   "id": "73c5f88a",
   "metadata": {
    "execution": {
     "iopub.execute_input": "2022-11-26T10:10:13.562538Z",
     "iopub.status.busy": "2022-11-26T10:10:13.561622Z",
     "iopub.status.idle": "2022-11-26T10:10:13.580553Z",
     "shell.execute_reply": "2022-11-26T10:10:13.580017Z"
    },
    "papermill": {
     "duration": 0.054046,
     "end_time": "2022-11-26T10:10:13.580669",
     "exception": false,
     "start_time": "2022-11-26T10:10:13.526623",
     "status": "completed"
    },
    "tags": []
   },
   "outputs": [],
   "source": [
    "#Impoting functions from 'Kudzu'\n",
    "from kudzu.model import Model\n",
    "from kudzu.train import Learner\n",
    "from kudzu.optim import GD\n",
    "from kudzu.data import Data, Sampler,Dataloader\n",
    "\n",
    "from kudzu.callbacks import AccCallback\n",
    "from kudzu.callbacks import ClfCallback\n",
    "\n",
    "from kudzu.loss import MSE\n",
    "\n",
    "from kudzu.layer import Sigmoid,Relu\n",
    "from kudzu.layer import Affine"
   ]
  },
  {
   "cell_type": "markdown",
   "id": "bc01172a",
   "metadata": {
    "papermill": {
     "duration": 0.033545,
     "end_time": "2022-11-26T10:10:13.647379",
     "exception": false,
     "start_time": "2022-11-26T10:10:13.613834",
     "status": "completed"
    },
    "tags": []
   },
   "source": [
    "### Let us create a `Config` class, to store important parameters. \n",
    "This class essentially plays the role of a dictionary."
   ]
  },
  {
   "cell_type": "code",
   "execution_count": 16,
   "id": "978281aa",
   "metadata": {
    "execution": {
     "iopub.execute_input": "2022-11-26T10:10:13.719515Z",
     "iopub.status.busy": "2022-11-26T10:10:13.718805Z",
     "iopub.status.idle": "2022-11-26T10:10:13.730796Z",
     "shell.execute_reply": "2022-11-26T10:10:13.731332Z"
    },
    "papermill": {
     "duration": 0.052322,
     "end_time": "2022-11-26T10:10:13.731466",
     "exception": false,
     "start_time": "2022-11-26T10:10:13.679144",
     "status": "completed"
    },
    "tags": []
   },
   "outputs": [],
   "source": [
    "class Config:\n",
    "    pass\n",
    "config = Config()\n",
    "config.lr = 0.001\n",
    "config.num_epochs = 250\n",
    "config.bs = 50"
   ]
  },
  {
   "cell_type": "markdown",
   "id": "1385fa59",
   "metadata": {
    "papermill": {
     "duration": 0.031549,
     "end_time": "2022-11-26T10:10:13.796983",
     "exception": false,
     "start_time": "2022-11-26T10:10:13.765434",
     "status": "completed"
    },
    "tags": []
   },
   "source": [
    "### Running Models with the Training data\n",
    "Details about the network layers:\n",
    "- A first affine layer has 784 inputs and does 100 affine transforms. These are followed by a Relu\n",
    "- A second affine layer has 100 inputs from the 100 activations of the past layer, and does 100 affine transforms. These are followed by a Relu\n",
    "- A third affine layer has 100 activations and does 2 affine transformations to create an embedding for visualization. There is no non-linearity here.\n",
    "- A final \"logistic regression\" which has an affine transform from 2 inputs to 1 output, which is squeezed through a sigmoid.\n"
   ]
  },
  {
   "cell_type": "code",
   "execution_count": 17,
   "id": "2b9c66db",
   "metadata": {
    "execution": {
     "iopub.execute_input": "2022-11-26T10:10:13.867333Z",
     "iopub.status.busy": "2022-11-26T10:10:13.866549Z",
     "iopub.status.idle": "2022-11-26T10:10:13.879073Z",
     "shell.execute_reply": "2022-11-26T10:10:13.878390Z"
    },
    "papermill": {
     "duration": 0.049998,
     "end_time": "2022-11-26T10:10:13.879236",
     "exception": false,
     "start_time": "2022-11-26T10:10:13.829238",
     "status": "completed"
    },
    "tags": []
   },
   "outputs": [],
   "source": [
    "data = Data(X_train, y_train.reshape(-1,1))\n",
    "sampler = Sampler(data, config.bs, shuffle=True)\n",
    "\n",
    "dl = Dataloader(data, sampler)\n",
    "\n",
    "opt = GD(config.lr)\n",
    "loss = MSE()"
   ]
  },
  {
   "cell_type": "code",
   "execution_count": 18,
   "id": "b275e4c2",
   "metadata": {
    "execution": {
     "iopub.execute_input": "2022-11-26T10:10:13.947205Z",
     "iopub.status.busy": "2022-11-26T10:10:13.946067Z",
     "iopub.status.idle": "2022-11-26T10:10:13.959380Z",
     "shell.execute_reply": "2022-11-26T10:10:13.958836Z"
    },
    "papermill": {
     "duration": 0.049786,
     "end_time": "2022-11-26T10:10:13.959503",
     "exception": false,
     "start_time": "2022-11-26T10:10:13.909717",
     "status": "completed"
    },
    "tags": []
   },
   "outputs": [],
   "source": [
    "training_data_x = X_train\n",
    "testing_data_x = X_test\n",
    "training_data_y = y_train.reshape(-1,1)\n",
    "testing_data_y = y_test.reshape(-1,1)"
   ]
  },
  {
   "cell_type": "code",
   "execution_count": 19,
   "id": "76951160",
   "metadata": {
    "execution": {
     "iopub.execute_input": "2022-11-26T10:10:14.027623Z",
     "iopub.status.busy": "2022-11-26T10:10:14.026964Z",
     "iopub.status.idle": "2022-11-26T10:10:14.044777Z",
     "shell.execute_reply": "2022-11-26T10:10:14.044118Z"
    },
    "papermill": {
     "duration": 0.054549,
     "end_time": "2022-11-26T10:10:14.044947",
     "exception": false,
     "start_time": "2022-11-26T10:10:13.990398",
     "status": "completed"
    },
    "tags": []
   },
   "outputs": [
    {
     "name": "stdout",
     "output_type": "stream",
     "text": [
      "xavier\n",
      "xavier\n",
      "xavier\n",
      "xavier\n",
      "xavier\n"
     ]
    }
   ],
   "source": [
    "layers = [Affine(\"first\", 784, 100), Relu(\"first\"), Affine(\"second\", 100, 100), Relu(\"second\"), Affine(\"third\", 100, 2), Affine(\"last\", 2, 1), Sigmoid(\"last\")]\n",
    "model_nn = Model(layers)\n",
    "model_lr = Model([Affine(\"logits\", 784, 1), Sigmoid(\"sigmoid\")])"
   ]
  },
  {
   "cell_type": "code",
   "execution_count": 20,
   "id": "6eede77a",
   "metadata": {
    "execution": {
     "iopub.execute_input": "2022-11-26T10:10:14.116640Z",
     "iopub.status.busy": "2022-11-26T10:10:14.115921Z",
     "iopub.status.idle": "2022-11-26T10:10:14.131411Z",
     "shell.execute_reply": "2022-11-26T10:10:14.131965Z"
    },
    "papermill": {
     "duration": 0.054305,
     "end_time": "2022-11-26T10:10:14.132111",
     "exception": false,
     "start_time": "2022-11-26T10:10:14.077806",
     "status": "completed"
    },
    "tags": []
   },
   "outputs": [],
   "source": [
    "nn_learner = Learner(loss, model_nn, opt, config.num_epochs)\n",
    "acc_nn = ClfCallback(nn_learner, config.bs, training_data_x , testing_data_x, training_data_y, testing_data_y)\n",
    "nn_learner.set_callbacks([acc_nn])"
   ]
  },
  {
   "cell_type": "code",
   "execution_count": 21,
   "id": "877b6cc7",
   "metadata": {
    "execution": {
     "iopub.execute_input": "2022-11-26T10:10:14.205100Z",
     "iopub.status.busy": "2022-11-26T10:10:14.204437Z",
     "iopub.status.idle": "2022-11-26T10:10:14.217192Z",
     "shell.execute_reply": "2022-11-26T10:10:14.216683Z"
    },
    "papermill": {
     "duration": 0.051694,
     "end_time": "2022-11-26T10:10:14.217343",
     "exception": false,
     "start_time": "2022-11-26T10:10:14.165649",
     "status": "completed"
    },
    "tags": []
   },
   "outputs": [],
   "source": [
    "lr_learner = Learner(loss, model_lr, opt, config.num_epochs)\n",
    "acc_lr = ClfCallback(lr_learner, config.bs, training_data_x , testing_data_x, training_data_y, testing_data_y)\n",
    "lr_learner.set_callbacks([acc_lr])"
   ]
  },
  {
   "cell_type": "code",
   "execution_count": 22,
   "id": "d9b133c3",
   "metadata": {
    "execution": {
     "iopub.execute_input": "2022-11-26T10:10:14.285740Z",
     "iopub.status.busy": "2022-11-26T10:10:14.284654Z",
     "iopub.status.idle": "2022-11-26T10:12:37.727070Z",
     "shell.execute_reply": "2022-11-26T10:12:37.727780Z"
    },
    "papermill": {
     "duration": 143.482023,
     "end_time": "2022-11-26T10:12:37.727953",
     "exception": false,
     "start_time": "2022-11-26T10:10:14.245930",
     "status": "completed"
    },
    "tags": []
   },
   "outputs": [
    {
     "name": "stdout",
     "output_type": "stream",
     "text": [
      "Epoch 0, Loss 0.2159\n",
      "Training Accuracy: 0.8127, Testing Accuracy: 0.8402\n",
      "\n"
     ]
    },
    {
     "name": "stdout",
     "output_type": "stream",
     "text": [
      "Epoch 10, Loss 0.061\n",
      "Training Accuracy: 0.9403, Testing Accuracy: 0.9516\n",
      "\n"
     ]
    },
    {
     "name": "stdout",
     "output_type": "stream",
     "text": [
      "Epoch 20, Loss 0.0436\n",
      "Training Accuracy: 0.9542, Testing Accuracy: 0.9592\n",
      "\n"
     ]
    },
    {
     "name": "stdout",
     "output_type": "stream",
     "text": [
      "Epoch 30, Loss 0.0367\n",
      "Training Accuracy: 0.9592, Testing Accuracy: 0.9657\n",
      "\n"
     ]
    },
    {
     "name": "stdout",
     "output_type": "stream",
     "text": [
      "Epoch 40, Loss 0.0328\n",
      "Training Accuracy: 0.9634, Testing Accuracy: 0.9677\n",
      "\n"
     ]
    },
    {
     "name": "stdout",
     "output_type": "stream",
     "text": [
      "Epoch 50, Loss 0.0303\n",
      "Training Accuracy: 0.9651, Testing Accuracy: 0.9693\n",
      "\n"
     ]
    },
    {
     "name": "stdout",
     "output_type": "stream",
     "text": [
      "Epoch 60, Loss 0.0284\n",
      "Training Accuracy: 0.9675, Testing Accuracy: 0.9703\n",
      "\n"
     ]
    },
    {
     "name": "stdout",
     "output_type": "stream",
     "text": [
      "Epoch 70, Loss 0.027\n",
      "Training Accuracy: 0.9699, Testing Accuracy: 0.9713\n",
      "\n"
     ]
    },
    {
     "name": "stdout",
     "output_type": "stream",
     "text": [
      "Epoch 80, Loss 0.0257\n",
      "Training Accuracy: 0.9714, Testing Accuracy: 0.9728\n",
      "\n"
     ]
    },
    {
     "name": "stdout",
     "output_type": "stream",
     "text": [
      "Epoch 90, Loss 0.0247\n",
      "Training Accuracy: 0.9721, Testing Accuracy: 0.9728\n",
      "\n"
     ]
    },
    {
     "name": "stdout",
     "output_type": "stream",
     "text": [
      "Epoch 100, Loss 0.0238\n",
      "Training Accuracy: 0.9727, Testing Accuracy: 0.9733\n",
      "\n"
     ]
    },
    {
     "name": "stdout",
     "output_type": "stream",
     "text": [
      "Epoch 110, Loss 0.023\n",
      "Training Accuracy: 0.9730, Testing Accuracy: 0.9728\n",
      "\n"
     ]
    },
    {
     "name": "stdout",
     "output_type": "stream",
     "text": [
      "Epoch 120, Loss 0.0223\n",
      "Training Accuracy: 0.9740, Testing Accuracy: 0.9733\n",
      "\n"
     ]
    },
    {
     "name": "stdout",
     "output_type": "stream",
     "text": [
      "Epoch 130, Loss 0.0216\n",
      "Training Accuracy: 0.9749, Testing Accuracy: 0.9748\n",
      "\n"
     ]
    },
    {
     "name": "stdout",
     "output_type": "stream",
     "text": [
      "Epoch 140, Loss 0.0209\n",
      "Training Accuracy: 0.9756, Testing Accuracy: 0.9763\n",
      "\n"
     ]
    },
    {
     "name": "stdout",
     "output_type": "stream",
     "text": [
      "Epoch 150, Loss 0.0203\n",
      "Training Accuracy: 0.9768, Testing Accuracy: 0.9758\n",
      "\n"
     ]
    },
    {
     "name": "stdout",
     "output_type": "stream",
     "text": [
      "Epoch 160, Loss 0.0198\n",
      "Training Accuracy: 0.9772, Testing Accuracy: 0.9763\n",
      "\n"
     ]
    },
    {
     "name": "stdout",
     "output_type": "stream",
     "text": [
      "Epoch 170, Loss 0.0192\n",
      "Training Accuracy: 0.9777, Testing Accuracy: 0.9768\n",
      "\n"
     ]
    },
    {
     "name": "stdout",
     "output_type": "stream",
     "text": [
      "Epoch 180, Loss 0.0187\n",
      "Training Accuracy: 0.9788, Testing Accuracy: 0.9778\n",
      "\n"
     ]
    },
    {
     "name": "stdout",
     "output_type": "stream",
     "text": [
      "Epoch 190, Loss 0.0182\n",
      "Training Accuracy: 0.9796, Testing Accuracy: 0.9783\n",
      "\n"
     ]
    },
    {
     "name": "stdout",
     "output_type": "stream",
     "text": [
      "Epoch 200, Loss 0.0178\n",
      "Training Accuracy: 0.9805, Testing Accuracy: 0.9793\n",
      "\n"
     ]
    },
    {
     "name": "stdout",
     "output_type": "stream",
     "text": [
      "Epoch 210, Loss 0.0173\n",
      "Training Accuracy: 0.9809, Testing Accuracy: 0.9798\n",
      "\n"
     ]
    },
    {
     "name": "stdout",
     "output_type": "stream",
     "text": [
      "Epoch 220, Loss 0.0169\n",
      "Training Accuracy: 0.9814, Testing Accuracy: 0.9793\n",
      "\n"
     ]
    },
    {
     "name": "stdout",
     "output_type": "stream",
     "text": [
      "Epoch 230, Loss 0.0164\n",
      "Training Accuracy: 0.9821, Testing Accuracy: 0.9798\n",
      "\n"
     ]
    },
    {
     "name": "stdout",
     "output_type": "stream",
     "text": [
      "Epoch 240, Loss 0.016\n",
      "Training Accuracy: 0.9828, Testing Accuracy: 0.9793\n",
      "\n"
     ]
    },
    {
     "data": {
      "text/plain": [
       "0.0022902540184776246"
      ]
     },
     "execution_count": 22,
     "metadata": {},
     "output_type": "execute_result"
    }
   ],
   "source": [
    "nn_learner.train_loop(dl)"
   ]
  },
  {
   "cell_type": "code",
   "execution_count": 23,
   "id": "e0163366",
   "metadata": {
    "execution": {
     "iopub.execute_input": "2022-11-26T10:12:37.816498Z",
     "iopub.status.busy": "2022-11-26T10:12:37.815735Z",
     "iopub.status.idle": "2022-11-26T10:12:58.164717Z",
     "shell.execute_reply": "2022-11-26T10:12:58.165388Z"
    },
    "papermill": {
     "duration": 20.396725,
     "end_time": "2022-11-26T10:12:58.165544",
     "exception": false,
     "start_time": "2022-11-26T10:12:37.768819",
     "status": "completed"
    },
    "tags": []
   },
   "outputs": [
    {
     "name": "stdout",
     "output_type": "stream",
     "text": [
      "Epoch 0, Loss 0.2865\n",
      "Training Accuracy: 0.4783, Testing Accuracy: 0.4743\n",
      "\n"
     ]
    },
    {
     "name": "stdout",
     "output_type": "stream",
     "text": [
      "Epoch 10, Loss 0.1055\n",
      "Training Accuracy: 0.9084, Testing Accuracy: 0.9163\n",
      "\n"
     ]
    },
    {
     "name": "stdout",
     "output_type": "stream",
     "text": [
      "Epoch 20, Loss 0.08\n",
      "Training Accuracy: 0.9251, Testing Accuracy: 0.9365\n",
      "\n"
     ]
    },
    {
     "name": "stdout",
     "output_type": "stream",
     "text": [
      "Epoch 30, Loss 0.0687\n",
      "Training Accuracy: 0.9339, Testing Accuracy: 0.9441\n",
      "\n"
     ]
    },
    {
     "name": "stdout",
     "output_type": "stream",
     "text": [
      "Epoch 40, Loss 0.062\n",
      "Training Accuracy: 0.9404, Testing Accuracy: 0.9486\n",
      "\n"
     ]
    },
    {
     "name": "stdout",
     "output_type": "stream",
     "text": [
      "Epoch 50, Loss 0.0574\n",
      "Training Accuracy: 0.9438, Testing Accuracy: 0.9536\n",
      "\n"
     ]
    },
    {
     "name": "stdout",
     "output_type": "stream",
     "text": [
      "Epoch 60, Loss 0.054\n",
      "Training Accuracy: 0.9466, Testing Accuracy: 0.9551\n",
      "\n"
     ]
    },
    {
     "name": "stdout",
     "output_type": "stream",
     "text": [
      "Epoch 70, Loss 0.0514\n",
      "Training Accuracy: 0.9486, Testing Accuracy: 0.9572\n",
      "\n"
     ]
    },
    {
     "name": "stdout",
     "output_type": "stream",
     "text": [
      "Epoch 80, Loss 0.0494\n",
      "Training Accuracy: 0.9501, Testing Accuracy: 0.9597\n",
      "\n"
     ]
    },
    {
     "name": "stdout",
     "output_type": "stream",
     "text": [
      "Epoch 90, Loss 0.0476\n",
      "Training Accuracy: 0.9517, Testing Accuracy: 0.9597\n",
      "\n"
     ]
    },
    {
     "name": "stdout",
     "output_type": "stream",
     "text": [
      "Epoch 100, Loss 0.0462\n",
      "Training Accuracy: 0.9526, Testing Accuracy: 0.9602\n",
      "\n"
     ]
    },
    {
     "name": "stdout",
     "output_type": "stream",
     "text": [
      "Epoch 110, Loss 0.045\n",
      "Training Accuracy: 0.9536, Testing Accuracy: 0.9617\n",
      "\n"
     ]
    },
    {
     "name": "stdout",
     "output_type": "stream",
     "text": [
      "Epoch 120, Loss 0.0439\n",
      "Training Accuracy: 0.9547, Testing Accuracy: 0.9622\n",
      "\n"
     ]
    },
    {
     "name": "stdout",
     "output_type": "stream",
     "text": [
      "Epoch 130, Loss 0.043\n",
      "Training Accuracy: 0.9558, Testing Accuracy: 0.9627\n",
      "\n"
     ]
    },
    {
     "name": "stdout",
     "output_type": "stream",
     "text": [
      "Epoch 140, Loss 0.0421\n",
      "Training Accuracy: 0.9573, Testing Accuracy: 0.9627\n",
      "\n"
     ]
    },
    {
     "name": "stdout",
     "output_type": "stream",
     "text": [
      "Epoch 150, Loss 0.0414\n",
      "Training Accuracy: 0.9580, Testing Accuracy: 0.9627\n",
      "\n"
     ]
    },
    {
     "name": "stdout",
     "output_type": "stream",
     "text": [
      "Epoch 160, Loss 0.0407\n",
      "Training Accuracy: 0.9587, Testing Accuracy: 0.9632\n",
      "\n"
     ]
    },
    {
     "name": "stdout",
     "output_type": "stream",
     "text": [
      "Epoch 170, Loss 0.0401\n",
      "Training Accuracy: 0.9586, Testing Accuracy: 0.9632\n",
      "\n"
     ]
    },
    {
     "name": "stdout",
     "output_type": "stream",
     "text": [
      "Epoch 180, Loss 0.0395\n",
      "Training Accuracy: 0.9589, Testing Accuracy: 0.9632\n",
      "\n"
     ]
    },
    {
     "name": "stdout",
     "output_type": "stream",
     "text": [
      "Epoch 190, Loss 0.039\n",
      "Training Accuracy: 0.9591, Testing Accuracy: 0.9637\n",
      "\n"
     ]
    },
    {
     "name": "stdout",
     "output_type": "stream",
     "text": [
      "Epoch 200, Loss 0.0385\n",
      "Training Accuracy: 0.9597, Testing Accuracy: 0.9642\n",
      "\n"
     ]
    },
    {
     "name": "stdout",
     "output_type": "stream",
     "text": [
      "Epoch 210, Loss 0.038\n",
      "Training Accuracy: 0.9601, Testing Accuracy: 0.9642\n",
      "\n"
     ]
    },
    {
     "name": "stdout",
     "output_type": "stream",
     "text": [
      "Epoch 220, Loss 0.0376\n",
      "Training Accuracy: 0.9603, Testing Accuracy: 0.9642\n",
      "\n"
     ]
    },
    {
     "name": "stdout",
     "output_type": "stream",
     "text": [
      "Epoch 230, Loss 0.0372\n",
      "Training Accuracy: 0.9608, Testing Accuracy: 0.9637\n",
      "\n"
     ]
    },
    {
     "name": "stdout",
     "output_type": "stream",
     "text": [
      "Epoch 240, Loss 0.0369\n",
      "Training Accuracy: 0.9611, Testing Accuracy: 0.9642\n",
      "\n"
     ]
    },
    {
     "data": {
      "text/plain": [
       "0.03438125600228425"
      ]
     },
     "execution_count": 23,
     "metadata": {},
     "output_type": "execute_result"
    }
   ],
   "source": [
    "lr_learner.train_loop(dl)"
   ]
  },
  {
   "cell_type": "code",
   "execution_count": 24,
   "id": "ca410940",
   "metadata": {
    "execution": {
     "iopub.execute_input": "2022-11-26T10:12:58.275727Z",
     "iopub.status.busy": "2022-11-26T10:12:58.275048Z",
     "iopub.status.idle": "2022-11-26T10:12:58.564635Z",
     "shell.execute_reply": "2022-11-26T10:12:58.565352Z"
    },
    "papermill": {
     "duration": 0.351792,
     "end_time": "2022-11-26T10:12:58.565596",
     "exception": false,
     "start_time": "2022-11-26T10:12:58.213804",
     "status": "completed"
    },
    "tags": []
   },
   "outputs": [
    {
     "data": {
      "text/plain": [
       "<matplotlib.legend.Legend at 0x7f51c916d550>"
      ]
     },
     "execution_count": 24,
     "metadata": {},
     "output_type": "execute_result"
    },
    {
     "data": {
      "image/png": "[encoded data removed]",
      "text/plain": [
       "<Figure size 1080x720 with 1 Axes>"
      ]
     },
     "metadata": {
      "needs_background": "light"
     },
     "output_type": "display_data"
    }
   ],
   "source": [
    "#comparing the results of NN and LR\n",
    "plt.figure(figsize=(15,10))\n",
    "\n",
    "# Neural Network plots\n",
    "plt.plot(acc_nn.accuracies, 'r-', label = \"Training Accuracies - NN\")\n",
    "plt.plot(acc_nn.test_accuracies, 'g-', label = \"Testing Accuracies - NN\")\n",
    "\n",
    "# Logistic Regression plots\n",
    "plt.plot(acc_lr.accuracies, 'k-', label = \"Training Accuracies - LR\")\n",
    "plt.plot(acc_lr.test_accuracies, 'b-', label = \"Testing Accuracies - LR\")\n",
    "plt.legend()"
   ]
  },
  {
   "cell_type": "markdown",
   "id": "80dfb35c",
   "metadata": {
    "papermill": {
     "duration": 0.048841,
     "end_time": "2022-11-26T10:12:58.661054",
     "exception": false,
     "start_time": "2022-11-26T10:12:58.612213",
     "status": "completed"
    },
    "tags": []
   },
   "source": [
    "#### Plotting the outputs of this layer of the NN.\n"
   ]
  },
  {
   "cell_type": "code",
   "execution_count": 25,
   "id": "45eb2ff5",
   "metadata": {
    "execution": {
     "iopub.execute_input": "2022-11-26T10:12:58.760993Z",
     "iopub.status.busy": "2022-11-26T10:12:58.760236Z",
     "iopub.status.idle": "2022-11-26T10:12:58.791450Z",
     "shell.execute_reply": "2022-11-26T10:12:58.792396Z"
    },
    "papermill": {
     "duration": 0.084775,
     "end_time": "2022-11-26T10:12:58.792559",
     "exception": false,
     "start_time": "2022-11-26T10:12:58.707784",
     "status": "completed"
    },
    "tags": []
   },
   "outputs": [],
   "source": [
    "new_model = Model(layers[:-2])\n",
    "testing_plot = new_model(testing_data_x)"
   ]
  },
  {
   "cell_type": "code",
   "execution_count": 26,
   "id": "4c0a5485",
   "metadata": {
    "execution": {
     "iopub.execute_input": "2022-11-26T10:12:58.903830Z",
     "iopub.status.busy": "2022-11-26T10:12:58.903129Z",
     "iopub.status.idle": "2022-11-26T10:12:59.145969Z",
     "shell.execute_reply": "2022-11-26T10:12:59.145392Z"
    },
    "papermill": {
     "duration": 0.303324,
     "end_time": "2022-11-26T10:12:59.146102",
     "exception": false,
     "start_time": "2022-11-26T10:12:58.842778",
     "status": "completed"
    },
    "tags": []
   },
   "outputs": [
    {
     "data": {
      "text/plain": [
       "Text(0.5, 1.0, 'Outputs')"
      ]
     },
     "execution_count": 26,
     "metadata": {},
     "output_type": "execute_result"
    },
    {
     "data": {
      "image/png": "[encoded data removed]",
      "text/plain": [
       "<Figure size 576x504 with 1 Axes>"
      ]
     },
     "metadata": {
      "needs_background": "light"
     },
     "output_type": "display_data"
    }
   ],
   "source": [
    "# Plotting the scatter plot of points and color coding by class\n",
    "plt.figure(figsize=(8,7))\n",
    "plt.scatter(testing_plot[:,0], testing_plot[:,1], alpha = 0.1, c = y_test.ravel());\n",
    "plt.title('Outputs')"
   ]
  },
  {
   "cell_type": "markdown",
   "id": "a74fcf8f",
   "metadata": {
    "papermill": {
     "duration": 0.049553,
     "end_time": "2022-11-26T10:12:59.247574",
     "exception": false,
     "start_time": "2022-11-26T10:12:59.198021",
     "status": "completed"
    },
    "tags": []
   },
   "source": [
    "Probability contours"
   ]
  },
  {
   "cell_type": "code",
   "execution_count": 27,
   "id": "d0afc8e3",
   "metadata": {
    "execution": {
     "iopub.execute_input": "2022-11-26T10:12:59.362827Z",
     "iopub.status.busy": "2022-11-26T10:12:59.361790Z",
     "iopub.status.idle": "2022-11-26T10:12:59.377699Z",
     "shell.execute_reply": "2022-11-26T10:12:59.376803Z"
    },
    "papermill": {
     "duration": 0.076753,
     "end_time": "2022-11-26T10:12:59.377923",
     "exception": false,
     "start_time": "2022-11-26T10:12:59.301170",
     "status": "completed"
    },
    "tags": []
   },
   "outputs": [],
   "source": [
    "model_prob = Model(layers[-2:]) "
   ]
  },
  {
   "cell_type": "code",
   "execution_count": 28,
   "id": "9b96e238",
   "metadata": {
    "execution": {
     "iopub.execute_input": "2022-11-26T10:12:59.506670Z",
     "iopub.status.busy": "2022-11-26T10:12:59.505779Z",
     "iopub.status.idle": "2022-11-26T10:12:59.527073Z",
     "shell.execute_reply": "2022-11-26T10:12:59.527756Z"
    },
    "papermill": {
     "duration": 0.075634,
     "end_time": "2022-11-26T10:12:59.527901",
     "exception": false,
     "start_time": "2022-11-26T10:12:59.452267",
     "status": "completed"
    },
    "tags": []
   },
   "outputs": [],
   "source": [
    "#creating the x and y ranges according to the above generated plot.\n",
    "x_range = np.linspace(-4, 1, 100) \n",
    "y_range = np.linspace(-6, 6, 100) \n",
    "x_grid, y_grid = np.meshgrid(x_range, y_range) # x_grid and y_grig are of size 100 X 100\n",
    "\n",
    "# converting x_grid and y_grid to continuous arrays\n",
    "x_gridflat = np.ravel(x_grid)\n",
    "y_gridflat = np.ravel(y_grid)\n",
    "\n",
    "# The last layer of the current model takes two columns as input. Hence transpose of np.vstack() is required.\n",
    "X = np.vstack((x_gridflat, y_gridflat)).T\n",
    "\n",
    "prob_contour = model_prob(X).reshape(100,100) "
   ]
  },
  {
   "cell_type": "code",
   "execution_count": 29,
   "id": "da72499a",
   "metadata": {
    "execution": {
     "iopub.execute_input": "2022-11-26T10:12:59.640765Z",
     "iopub.status.busy": "2022-11-26T10:12:59.638520Z",
     "iopub.status.idle": "2022-11-26T10:12:59.958523Z",
     "shell.execute_reply": "2022-11-26T10:12:59.957931Z"
    },
    "papermill": {
     "duration": 0.377273,
     "end_time": "2022-11-26T10:12:59.958677",
     "exception": false,
     "start_time": "2022-11-26T10:12:59.581404",
     "status": "completed"
    },
    "tags": []
   },
   "outputs": [
    {
     "data": {
      "image/png": "[encoded data removed]",
      "text/plain": [
       "<Figure size 720x648 with 1 Axes>"
      ]
     },
     "metadata": {
      "needs_background": "light"
     },
     "output_type": "display_data"
    }
   ],
   "source": [
    "plt.figure(figsize=(10,9))\n",
    "plt.scatter(testing_plot[:,0], testing_plot[:,1], alpha = 0.1, c = y_test.ravel())\n",
    "contours = plt.contour(x_grid,y_grid,prob_contour)\n",
    "plt.title('Probability Contours')\n",
    "plt.clabel(contours, inline = True );"
   ]
  },
  {
   "cell_type": "code",
   "execution_count": null,
   "id": "e81b4ac7",
   "metadata": {
    "papermill": {
     "duration": 0.061089,
     "end_time": "2022-11-26T10:13:00.086555",
     "exception": false,
     "start_time": "2022-11-26T10:13:00.025466",
     "status": "completed"
    },
    "tags": []
   },
   "outputs": [],
   "source": []
  }
 ],
 "metadata": {
  "kernelspec": {
   "display_name": "Python 3",
   "language": "python",
   "name": "python3"
  },
  "language_info": {
   "codemirror_mode": {
    "name": "ipython",
    "version": 3
   },
   "file_extension": ".py",
   "mimetype": "text/x-python",
   "name": "python",
   "nbconvert_exporter": "python",
   "pygments_lexer": "ipython3",
   "version": "3.6.15"
  },
  "papermill": {
   "default_parameters": {},
   "duration": 174.036536,
   "end_time": "2022-11-26T10:13:00.563004",
   "environment_variables": {},
   "exception": null,
   "input_path": "2020-08-11-part2.ipynb",
   "output_path": "2020-08-11-part2.ipynb",
   "parameters": {},
   "start_time": "2022-11-26T10:10:06.526468",
   "version": "2.3.3"
  }
 },
 "nbformat": 4,
 "nbformat_minor": 5
}