{
 "cells": [
  {
   "cell_type": "markdown",
   "id": "98380cd3",
   "metadata": {
    "papermill": {
     "duration": 0.030487,
     "end_time": "2022-11-07T20:11:33.785550",
     "exception": false,
     "start_time": "2022-11-07T20:11:33.755063",
     "status": "completed"
    },
    "tags": []
   },
   "source": [
    "# Distinguish Your Own Digits (DYOD)"
   ]
  },
  {
   "cell_type": "markdown",
   "id": "ef31240d",
   "metadata": {
    "papermill": {
     "duration": 0.02427,
     "end_time": "2022-11-07T20:11:33.835110",
     "exception": false,
     "start_time": "2022-11-07T20:11:33.810840",
     "status": "completed"
    },
    "tags": []
   },
   "source": [
    "You are going to write a classifier that distinguishes between the number 3 and number 8."
   ]
  },
  {
   "cell_type": "code",
   "execution_count": 1,
   "id": "b15c8646",
   "metadata": {
    "execution": {
     "iopub.execute_input": "2022-11-07T20:11:33.898560Z",
     "iopub.status.busy": "2022-11-07T20:11:33.897854Z",
     "iopub.status.idle": "2022-11-07T20:11:33.910092Z",
     "shell.execute_reply": "2022-11-07T20:11:33.909527Z"
    },
    "papermill": {
     "duration": 0.050923,
     "end_time": "2022-11-07T20:11:33.910255",
     "exception": false,
     "start_time": "2022-11-07T20:11:33.859332",
     "status": "completed"
    },
    "tags": []
   },
   "outputs": [],
   "source": [
    "%load_ext autoreload\n",
    "%autoreload 2"
   ]
  },
  {
   "cell_type": "code",
   "execution_count": 2,
   "id": "22ef38dc",
   "metadata": {
    "execution": {
     "iopub.execute_input": "2022-11-07T20:11:33.964744Z",
     "iopub.status.busy": "2022-11-07T20:11:33.964029Z",
     "iopub.status.idle": "2022-11-07T20:11:34.580008Z",
     "shell.execute_reply": "2022-11-07T20:11:34.580500Z"
    },
    "papermill": {
     "duration": 0.64599,
     "end_time": "2022-11-07T20:11:34.580716",
     "exception": false,
     "start_time": "2022-11-07T20:11:33.934726",
     "status": "completed"
    },
    "tags": []
   },
   "outputs": [],
   "source": [
    "%matplotlib inline\n",
    "import numpy as np\n",
    "import matplotlib.pyplot as plt\n",
    "import pandas as pd"
   ]
  },
  {
   "cell_type": "markdown",
   "id": "ba036198",
   "metadata": {
    "papermill": {
     "duration": 0.024627,
     "end_time": "2022-11-07T20:11:34.629877",
     "exception": false,
     "start_time": "2022-11-07T20:11:34.605250",
     "status": "completed"
    },
    "tags": []
   },
   "source": [
    "From the command line run `pip install mnist`. This is a library that will help you bring down the mnist dataset. If you run this from a notebook, you need to put  `!pip install mnist` in a cell by itself."
   ]
  },
  {
   "cell_type": "code",
   "execution_count": 3,
   "id": "bb6ad8a1",
   "metadata": {
    "execution": {
     "iopub.execute_input": "2022-11-07T20:11:34.683680Z",
     "iopub.status.busy": "2022-11-07T20:11:34.683052Z",
     "iopub.status.idle": "2022-11-07T20:11:36.542738Z",
     "shell.execute_reply": "2022-11-07T20:11:36.542144Z"
    },
    "papermill": {
     "duration": 1.88878,
     "end_time": "2022-11-07T20:11:36.542871",
     "exception": false,
     "start_time": "2022-11-07T20:11:34.654091",
     "status": "completed"
    },
    "tags": []
   },
   "outputs": [
    {
     "name": "stdout",
     "output_type": "stream",
     "text": [
      "Collecting mnist\r\n"
     ]
    },
    {
     "name": "stdout",
     "output_type": "stream",
     "text": [
      "  Downloading mnist-0.2.2-py2.py3-none-any.whl (3.5 kB)\r\n",
      "Requirement already satisfied: numpy in /opt/hostedtoolcache/Python/3.6.15/x64/lib/python3.6/site-packages (from mnist) (1.19.5)\r\n"
     ]
    },
    {
     "name": "stdout",
     "output_type": "stream",
     "text": [
      "Installing collected packages: mnist\r\n"
     ]
    },
    {
     "name": "stdout",
     "output_type": "stream",
     "text": [
      "Successfully installed mnist-0.2.2\r\n"
     ]
    }
   ],
   "source": [
    "!pip install mnist"
   ]
  },
  {
   "cell_type": "markdown",
   "id": "69df9c9a",
   "metadata": {
    "papermill": {
     "duration": 0.026064,
     "end_time": "2022-11-07T20:11:36.594675",
     "exception": false,
     "start_time": "2022-11-07T20:11:36.568611",
     "status": "completed"
    },
    "tags": []
   },
   "source": [
    "## Preparing the Data"
   ]
  },
  {
   "cell_type": "code",
   "execution_count": 4,
   "id": "7f69d806",
   "metadata": {
    "execution": {
     "iopub.execute_input": "2022-11-07T20:11:36.651505Z",
     "iopub.status.busy": "2022-11-07T20:11:36.650747Z",
     "iopub.status.idle": "2022-11-07T20:11:36.666519Z",
     "shell.execute_reply": "2022-11-07T20:11:36.665948Z"
    },
    "papermill": {
     "duration": 0.046678,
     "end_time": "2022-11-07T20:11:36.666652",
     "exception": false,
     "start_time": "2022-11-07T20:11:36.619974",
     "status": "completed"
    },
    "tags": []
   },
   "outputs": [],
   "source": [
    "import mnist"
   ]
  },
  {
   "cell_type": "code",
   "execution_count": 5,
   "id": "a411e44f",
   "metadata": {
    "execution": {
     "iopub.execute_input": "2022-11-07T20:11:36.734183Z",
     "iopub.status.busy": "2022-11-07T20:11:36.727423Z",
     "iopub.status.idle": "2022-11-07T20:11:37.625476Z",
     "shell.execute_reply": "2022-11-07T20:11:37.624846Z"
    },
    "papermill": {
     "duration": 0.933339,
     "end_time": "2022-11-07T20:11:37.625617",
     "exception": false,
     "start_time": "2022-11-07T20:11:36.692278",
     "status": "completed"
    },
    "tags": []
   },
   "outputs": [],
   "source": [
    "train_images = mnist.train_images()\n",
    "train_labels = mnist.train_labels()"
   ]
  },
  {
   "cell_type": "code",
   "execution_count": 6,
   "id": "dceab3a5",
   "metadata": {
    "execution": {
     "iopub.execute_input": "2022-11-07T20:11:37.691810Z",
     "iopub.status.busy": "2022-11-07T20:11:37.690120Z",
     "iopub.status.idle": "2022-11-07T20:11:37.701940Z",
     "shell.execute_reply": "2022-11-07T20:11:37.702422Z"
    },
    "papermill": {
     "duration": 0.051315,
     "end_time": "2022-11-07T20:11:37.702581",
     "exception": false,
     "start_time": "2022-11-07T20:11:37.651266",
     "status": "completed"
    },
    "tags": []
   },
   "outputs": [
    {
     "data": {
      "text/plain": [
       "((60000, 28, 28), (60000,))"
      ]
     },
     "execution_count": 6,
     "metadata": {},
     "output_type": "execute_result"
    }
   ],
   "source": [
    "train_images.shape, train_labels.shape"
   ]
  },
  {
   "cell_type": "code",
   "execution_count": 7,
   "id": "f50dc2bb",
   "metadata": {
    "execution": {
     "iopub.execute_input": "2022-11-07T20:11:37.767410Z",
     "iopub.status.busy": "2022-11-07T20:11:37.766025Z",
     "iopub.status.idle": "2022-11-07T20:11:38.292753Z",
     "shell.execute_reply": "2022-11-07T20:11:38.292045Z"
    },
    "papermill": {
     "duration": 0.564577,
     "end_time": "2022-11-07T20:11:38.292912",
     "exception": false,
     "start_time": "2022-11-07T20:11:37.728335",
     "status": "completed"
    },
    "tags": []
   },
   "outputs": [],
   "source": [
    "test_images = mnist.test_images()\n",
    "test_labels = mnist.test_labels()"
   ]
  },
  {
   "cell_type": "code",
   "execution_count": 8,
   "id": "fc38cf1b",
   "metadata": {
    "execution": {
     "iopub.execute_input": "2022-11-07T20:11:38.354457Z",
     "iopub.status.busy": "2022-11-07T20:11:38.353751Z",
     "iopub.status.idle": "2022-11-07T20:11:38.363820Z",
     "shell.execute_reply": "2022-11-07T20:11:38.364318Z"
    },
    "papermill": {
     "duration": 0.045049,
     "end_time": "2022-11-07T20:11:38.364474",
     "exception": false,
     "start_time": "2022-11-07T20:11:38.319425",
     "status": "completed"
    },
    "tags": []
   },
   "outputs": [
    {
     "data": {
      "text/plain": [
       "((10000, 28, 28), (10000,))"
      ]
     },
     "execution_count": 8,
     "metadata": {},
     "output_type": "execute_result"
    }
   ],
   "source": [
    "test_images.shape, test_labels.shape"
   ]
  },
  {
   "cell_type": "code",
   "execution_count": 9,
   "id": "f9ed8fe0",
   "metadata": {
    "execution": {
     "iopub.execute_input": "2022-11-07T20:11:38.434252Z",
     "iopub.status.busy": "2022-11-07T20:11:38.430480Z",
     "iopub.status.idle": "2022-11-07T20:11:38.572451Z",
     "shell.execute_reply": "2022-11-07T20:11:38.571900Z"
    },
    "papermill": {
     "duration": 0.182215,
     "end_time": "2022-11-07T20:11:38.572627",
     "exception": false,
     "start_time": "2022-11-07T20:11:38.390412",
     "status": "completed"
    },
    "tags": []
   },
   "outputs": [
    {
     "name": "stdout",
     "output_type": "stream",
     "text": [
      "2\n"
     ]
    },
    {
     "data": {
      "text/plain": [
       "<matplotlib.image.AxesImage at 0x7f819582be48>"
      ]
     },
     "execution_count": 9,
     "metadata": {},
     "output_type": "execute_result"
    },
    {
     "data": {
      "image/png": "[encoded data removed]",
      "text/plain": [
       "<Figure size 432x288 with 1 Axes>"
      ]
     },
     "metadata": {
      "needs_background": "light"
     },
     "output_type": "display_data"
    }
   ],
   "source": [
    "image_index = 7776 # You may select anything up to 60,000\n",
    "print(train_labels[image_index]) \n",
    "plt.imshow(train_images[image_index], cmap='Greys')"
   ]
  },
  {
   "cell_type": "markdown",
   "id": "a8d2388d",
   "metadata": {
    "papermill": {
     "duration": 0.02929,
     "end_time": "2022-11-07T20:11:38.629333",
     "exception": false,
     "start_time": "2022-11-07T20:11:38.600043",
     "status": "completed"
    },
    "tags": []
   },
   "source": [
    "## Filter data to get 3 and 8 out"
   ]
  },
  {
   "cell_type": "code",
   "execution_count": 10,
   "id": "776f7fc7",
   "metadata": {
    "execution": {
     "iopub.execute_input": "2022-11-07T20:11:38.693824Z",
     "iopub.status.busy": "2022-11-07T20:11:38.693109Z",
     "iopub.status.idle": "2022-11-07T20:11:38.711065Z",
     "shell.execute_reply": "2022-11-07T20:11:38.711581Z"
    },
    "papermill": {
     "duration": 0.055272,
     "end_time": "2022-11-07T20:11:38.711736",
     "exception": false,
     "start_time": "2022-11-07T20:11:38.656464",
     "status": "completed"
    },
    "tags": []
   },
   "outputs": [],
   "source": [
    "train_filter = np.where((train_labels == 3 ) | (train_labels == 8))\n",
    "test_filter = np.where((test_labels == 3) | (test_labels == 8))\n",
    "X_train, y_train = train_images[train_filter], train_labels[train_filter]\n",
    "X_test, y_test = test_images[test_filter], test_labels[test_filter]"
   ]
  },
  {
   "cell_type": "markdown",
   "id": "948f0b7e",
   "metadata": {
    "papermill": {
     "duration": 0.02764,
     "end_time": "2022-11-07T20:11:38.766524",
     "exception": false,
     "start_time": "2022-11-07T20:11:38.738884",
     "status": "completed"
    },
    "tags": []
   },
   "source": [
    "We normalize the pizel values in the 0 to 1 range"
   ]
  },
  {
   "cell_type": "code",
   "execution_count": 11,
   "id": "ee4c2166",
   "metadata": {
    "execution": {
     "iopub.execute_input": "2022-11-07T20:11:38.830222Z",
     "iopub.status.busy": "2022-11-07T20:11:38.829504Z",
     "iopub.status.idle": "2022-11-07T20:11:38.877983Z",
     "shell.execute_reply": "2022-11-07T20:11:38.877389Z"
    },
    "papermill": {
     "duration": 0.084213,
     "end_time": "2022-11-07T20:11:38.878131",
     "exception": false,
     "start_time": "2022-11-07T20:11:38.793918",
     "status": "completed"
    },
    "tags": []
   },
   "outputs": [],
   "source": [
    "X_train = X_train/255.\n",
    "X_test = X_test/255."
   ]
  },
  {
   "cell_type": "markdown",
   "id": "ddcf4fab",
   "metadata": {
    "papermill": {
     "duration": 0.027025,
     "end_time": "2022-11-07T20:11:38.932814",
     "exception": false,
     "start_time": "2022-11-07T20:11:38.905789",
     "status": "completed"
    },
    "tags": []
   },
   "source": [
    "And setup the labels as 1 (when the digit is 3) and 0 (when the digit is 8)"
   ]
  },
  {
   "cell_type": "code",
   "execution_count": 12,
   "id": "7dc908f2",
   "metadata": {
    "execution": {
     "iopub.execute_input": "2022-11-07T20:11:38.994275Z",
     "iopub.status.busy": "2022-11-07T20:11:38.993609Z",
     "iopub.status.idle": "2022-11-07T20:11:39.005349Z",
     "shell.execute_reply": "2022-11-07T20:11:39.004787Z"
    },
    "papermill": {
     "duration": 0.045616,
     "end_time": "2022-11-07T20:11:39.005482",
     "exception": false,
     "start_time": "2022-11-07T20:11:38.959866",
     "status": "completed"
    },
    "tags": []
   },
   "outputs": [],
   "source": [
    "y_train = 1*(y_train==3)\n",
    "y_test = 1*(y_test==3)"
   ]
  },
  {
   "cell_type": "code",
   "execution_count": 13,
   "id": "01e4e969",
   "metadata": {
    "execution": {
     "iopub.execute_input": "2022-11-07T20:11:39.066565Z",
     "iopub.status.busy": "2022-11-07T20:11:39.065888Z",
     "iopub.status.idle": "2022-11-07T20:11:39.078995Z",
     "shell.execute_reply": "2022-11-07T20:11:39.079471Z"
    },
    "papermill": {
     "duration": 0.046977,
     "end_time": "2022-11-07T20:11:39.079624",
     "exception": false,
     "start_time": "2022-11-07T20:11:39.032647",
     "status": "completed"
    },
    "tags": []
   },
   "outputs": [
    {
     "data": {
      "text/plain": [
       "((11982, 28, 28), (1984, 28, 28))"
      ]
     },
     "execution_count": 13,
     "metadata": {},
     "output_type": "execute_result"
    }
   ],
   "source": [
    "X_train.shape, X_test.shape"
   ]
  },
  {
   "cell_type": "markdown",
   "id": "5ccf3f85",
   "metadata": {
    "papermill": {
     "duration": 0.027265,
     "end_time": "2022-11-07T20:11:39.134167",
     "exception": false,
     "start_time": "2022-11-07T20:11:39.106902",
     "status": "completed"
    },
    "tags": []
   },
   "source": [
    "We reshape the data to flatten the image pixels into a set of features or co-variates:"
   ]
  },
  {
   "cell_type": "code",
   "execution_count": 14,
   "id": "5286a4a3",
   "metadata": {
    "execution": {
     "iopub.execute_input": "2022-11-07T20:11:39.206285Z",
     "iopub.status.busy": "2022-11-07T20:11:39.201923Z",
     "iopub.status.idle": "2022-11-07T20:11:39.212347Z",
     "shell.execute_reply": "2022-11-07T20:11:39.212836Z"
    },
    "papermill": {
     "duration": 0.05141,
     "end_time": "2022-11-07T20:11:39.213006",
     "exception": false,
     "start_time": "2022-11-07T20:11:39.161596",
     "status": "completed"
    },
    "tags": []
   },
   "outputs": [
    {
     "data": {
      "text/plain": [
       "((11982, 784), (1984, 784))"
      ]
     },
     "execution_count": 14,
     "metadata": {},
     "output_type": "execute_result"
    }
   ],
   "source": [
    "X_train = X_train.reshape(X_train.shape[0], -1)\n",
    "X_test = X_test.reshape(X_test.shape[0], -1)\n",
    "X_train.shape, X_test.shape"
   ]
  },
  {
   "cell_type": "code",
   "execution_count": 15,
   "id": "73c5f88a",
   "metadata": {
    "execution": {
     "iopub.execute_input": "2022-11-07T20:11:39.274096Z",
     "iopub.status.busy": "2022-11-07T20:11:39.273399Z",
     "iopub.status.idle": "2022-11-07T20:11:39.294126Z",
     "shell.execute_reply": "2022-11-07T20:11:39.293581Z"
    },
    "papermill": {
     "duration": 0.053611,
     "end_time": "2022-11-07T20:11:39.294266",
     "exception": false,
     "start_time": "2022-11-07T20:11:39.240655",
     "status": "completed"
    },
    "tags": []
   },
   "outputs": [],
   "source": [
    "#Impoting functions from 'Kudzu'\n",
    "from kudzu.model import Model\n",
    "from kudzu.train import Learner\n",
    "from kudzu.optim import GD\n",
    "from kudzu.data import Data, Sampler,Dataloader\n",
    "\n",
    "from kudzu.callbacks import AccCallback\n",
    "from kudzu.callbacks import ClfCallback\n",
    "\n",
    "from kudzu.loss import MSE\n",
    "\n",
    "from kudzu.layer import Sigmoid,Relu\n",
    "from kudzu.layer import Affine"
   ]
  },
  {
   "cell_type": "markdown",
   "id": "bc01172a",
   "metadata": {
    "papermill": {
     "duration": 0.027862,
     "end_time": "2022-11-07T20:11:39.349873",
     "exception": false,
     "start_time": "2022-11-07T20:11:39.322011",
     "status": "completed"
    },
    "tags": []
   },
   "source": [
    "### Let us create a `Config` class, to store important parameters. \n",
    "This class essentially plays the role of a dictionary."
   ]
  },
  {
   "cell_type": "code",
   "execution_count": 16,
   "id": "978281aa",
   "metadata": {
    "execution": {
     "iopub.execute_input": "2022-11-07T20:11:39.423944Z",
     "iopub.status.busy": "2022-11-07T20:11:39.419006Z",
     "iopub.status.idle": "2022-11-07T20:11:39.426963Z",
     "shell.execute_reply": "2022-11-07T20:11:39.426437Z"
    },
    "papermill": {
     "duration": 0.049797,
     "end_time": "2022-11-07T20:11:39.427098",
     "exception": false,
     "start_time": "2022-11-07T20:11:39.377301",
     "status": "completed"
    },
    "tags": []
   },
   "outputs": [],
   "source": [
    "class Config:\n",
    "    pass\n",
    "config = Config()\n",
    "config.lr = 0.001\n",
    "config.num_epochs = 250\n",
    "config.bs = 50"
   ]
  },
  {
   "cell_type": "markdown",
   "id": "1385fa59",
   "metadata": {
    "papermill": {
     "duration": 0.028657,
     "end_time": "2022-11-07T20:11:39.483460",
     "exception": false,
     "start_time": "2022-11-07T20:11:39.454803",
     "status": "completed"
    },
    "tags": []
   },
   "source": [
    "### Running Models with the Training data\n",
    "Details about the network layers:\n",
    "- A first affine layer has 784 inputs and does 100 affine transforms. These are followed by a Relu\n",
    "- A second affine layer has 100 inputs from the 100 activations of the past layer, and does 100 affine transforms. These are followed by a Relu\n",
    "- A third affine layer has 100 activations and does 2 affine transformations to create an embedding for visualization. There is no non-linearity here.\n",
    "- A final \"logistic regression\" which has an affine transform from 2 inputs to 1 output, which is squeezed through a sigmoid.\n"
   ]
  },
  {
   "cell_type": "code",
   "execution_count": 17,
   "id": "2b9c66db",
   "metadata": {
    "execution": {
     "iopub.execute_input": "2022-11-07T20:11:39.546073Z",
     "iopub.status.busy": "2022-11-07T20:11:39.545438Z",
     "iopub.status.idle": "2022-11-07T20:11:39.559778Z",
     "shell.execute_reply": "2022-11-07T20:11:39.559248Z"
    },
    "papermill": {
     "duration": 0.048886,
     "end_time": "2022-11-07T20:11:39.559915",
     "exception": false,
     "start_time": "2022-11-07T20:11:39.511029",
     "status": "completed"
    },
    "tags": []
   },
   "outputs": [],
   "source": [
    "data = Data(X_train, y_train.reshape(-1,1))\n",
    "sampler = Sampler(data, config.bs, shuffle=True)\n",
    "\n",
    "dl = Dataloader(data, sampler)\n",
    "\n",
    "opt = GD(config.lr)\n",
    "loss = MSE()"
   ]
  },
  {
   "cell_type": "code",
   "execution_count": 18,
   "id": "b275e4c2",
   "metadata": {
    "execution": {
     "iopub.execute_input": "2022-11-07T20:11:39.621590Z",
     "iopub.status.busy": "2022-11-07T20:11:39.620927Z",
     "iopub.status.idle": "2022-11-07T20:11:39.633488Z",
     "shell.execute_reply": "2022-11-07T20:11:39.633998Z"
    },
    "papermill": {
     "duration": 0.046663,
     "end_time": "2022-11-07T20:11:39.634155",
     "exception": false,
     "start_time": "2022-11-07T20:11:39.587492",
     "status": "completed"
    },
    "tags": []
   },
   "outputs": [],
   "source": [
    "training_data_x = X_train\n",
    "testing_data_x = X_test\n",
    "training_data_y = y_train.reshape(-1,1)\n",
    "testing_data_y = y_test.reshape(-1,1)"
   ]
  },
  {
   "cell_type": "code",
   "execution_count": 19,
   "id": "76951160",
   "metadata": {
    "execution": {
     "iopub.execute_input": "2022-11-07T20:11:39.709968Z",
     "iopub.status.busy": "2022-11-07T20:11:39.700972Z",
     "iopub.status.idle": "2022-11-07T20:11:39.714430Z",
     "shell.execute_reply": "2022-11-07T20:11:39.714896Z"
    },
    "papermill": {
     "duration": 0.053348,
     "end_time": "2022-11-07T20:11:39.715044",
     "exception": false,
     "start_time": "2022-11-07T20:11:39.661696",
     "status": "completed"
    },
    "tags": []
   },
   "outputs": [
    {
     "name": "stdout",
     "output_type": "stream",
     "text": [
      "xavier\n",
      "xavier\n",
      "xavier\n",
      "xavier\n",
      "xavier\n"
     ]
    }
   ],
   "source": [
    "layers = [Affine(\"first\", 784, 100), Relu(\"first\"), Affine(\"second\", 100, 100), Relu(\"second\"), Affine(\"third\", 100, 2), Affine(\"last\", 2, 1), Sigmoid(\"last\")]\n",
    "model_nn = Model(layers)\n",
    "model_lr = Model([Affine(\"logits\", 784, 1), Sigmoid(\"sigmoid\")])"
   ]
  },
  {
   "cell_type": "code",
   "execution_count": 20,
   "id": "6eede77a",
   "metadata": {
    "execution": {
     "iopub.execute_input": "2022-11-07T20:11:39.782407Z",
     "iopub.status.busy": "2022-11-07T20:11:39.781751Z",
     "iopub.status.idle": "2022-11-07T20:11:39.794294Z",
     "shell.execute_reply": "2022-11-07T20:11:39.793646Z"
    },
    "papermill": {
     "duration": 0.051275,
     "end_time": "2022-11-07T20:11:39.794464",
     "exception": false,
     "start_time": "2022-11-07T20:11:39.743189",
     "status": "completed"
    },
    "tags": []
   },
   "outputs": [],
   "source": [
    "nn_learner = Learner(loss, model_nn, opt, config.num_epochs)\n",
    "acc_nn = ClfCallback(nn_learner, config.bs, training_data_x , testing_data_x, training_data_y, testing_data_y)\n",
    "nn_learner.set_callbacks([acc_nn])"
   ]
  },
  {
   "cell_type": "code",
   "execution_count": 21,
   "id": "877b6cc7",
   "metadata": {
    "execution": {
     "iopub.execute_input": "2022-11-07T20:11:39.869895Z",
     "iopub.status.busy": "2022-11-07T20:11:39.863978Z",
     "iopub.status.idle": "2022-11-07T20:11:39.872845Z",
     "shell.execute_reply": "2022-11-07T20:11:39.872265Z"
    },
    "papermill": {
     "duration": 0.049602,
     "end_time": "2022-11-07T20:11:39.872981",
     "exception": false,
     "start_time": "2022-11-07T20:11:39.823379",
     "status": "completed"
    },
    "tags": []
   },
   "outputs": [],
   "source": [
    "lr_learner = Learner(loss, model_lr, opt, config.num_epochs)\n",
    "acc_lr = ClfCallback(lr_learner, config.bs, training_data_x , testing_data_x, training_data_y, testing_data_y)\n",
    "lr_learner.set_callbacks([acc_lr])"
   ]
  },
  {
   "cell_type": "code",
   "execution_count": 22,
   "id": "d9b133c3",
   "metadata": {
    "execution": {
     "iopub.execute_input": "2022-11-07T20:11:39.934110Z",
     "iopub.status.busy": "2022-11-07T20:11:39.933473Z",
     "iopub.status.idle": "2022-11-07T20:13:06.950207Z",
     "shell.execute_reply": "2022-11-07T20:13:06.951152Z"
    },
    "papermill": {
     "duration": 87.050253,
     "end_time": "2022-11-07T20:13:06.951325",
     "exception": false,
     "start_time": "2022-11-07T20:11:39.901072",
     "status": "completed"
    },
    "tags": []
   },
   "outputs": [
    {
     "name": "stdout",
     "output_type": "stream",
     "text": [
      "Epoch 0, Loss 0.2445\n",
      "Training Accuracy: 0.6371, Testing Accuracy: 0.6431\n",
      "\n"
     ]
    },
    {
     "name": "stdout",
     "output_type": "stream",
     "text": [
      "Epoch 10, Loss 0.2157\n",
      "Training Accuracy: 0.8507, Testing Accuracy: 0.8644\n",
      "\n"
     ]
    },
    {
     "name": "stdout",
     "output_type": "stream",
     "text": [
      "Epoch 20, Loss 0.122\n",
      "Training Accuracy: 0.9022, Testing Accuracy: 0.9088\n",
      "\n"
     ]
    },
    {
     "name": "stdout",
     "output_type": "stream",
     "text": [
      "Epoch 30, Loss 0.0685\n",
      "Training Accuracy: 0.9279, Testing Accuracy: 0.9390\n",
      "\n"
     ]
    },
    {
     "name": "stdout",
     "output_type": "stream",
     "text": [
      "Epoch 40, Loss 0.0513\n",
      "Training Accuracy: 0.9425, Testing Accuracy: 0.9521\n",
      "\n"
     ]
    },
    {
     "name": "stdout",
     "output_type": "stream",
     "text": [
      "Epoch 50, Loss 0.0433\n",
      "Training Accuracy: 0.9502, Testing Accuracy: 0.9582\n",
      "\n"
     ]
    },
    {
     "name": "stdout",
     "output_type": "stream",
     "text": [
      "Epoch 60, Loss 0.0385\n",
      "Training Accuracy: 0.9545, Testing Accuracy: 0.9642\n",
      "\n"
     ]
    },
    {
     "name": "stdout",
     "output_type": "stream",
     "text": [
      "Epoch 70, Loss 0.0354\n",
      "Training Accuracy: 0.9582, Testing Accuracy: 0.9662\n",
      "\n"
     ]
    },
    {
     "name": "stdout",
     "output_type": "stream",
     "text": [
      "Epoch 80, Loss 0.0331\n",
      "Training Accuracy: 0.9621, Testing Accuracy: 0.9667\n",
      "\n"
     ]
    },
    {
     "name": "stdout",
     "output_type": "stream",
     "text": [
      "Epoch 90, Loss 0.0314\n",
      "Training Accuracy: 0.9641, Testing Accuracy: 0.9677\n",
      "\n"
     ]
    },
    {
     "name": "stdout",
     "output_type": "stream",
     "text": [
      "Epoch 100, Loss 0.0299\n",
      "Training Accuracy: 0.9658, Testing Accuracy: 0.9677\n",
      "\n"
     ]
    },
    {
     "name": "stdout",
     "output_type": "stream",
     "text": [
      "Epoch 110, Loss 0.0287\n",
      "Training Accuracy: 0.9670, Testing Accuracy: 0.9688\n",
      "\n"
     ]
    },
    {
     "name": "stdout",
     "output_type": "stream",
     "text": [
      "Epoch 120, Loss 0.0277\n",
      "Training Accuracy: 0.9683, Testing Accuracy: 0.9703\n",
      "\n"
     ]
    },
    {
     "name": "stdout",
     "output_type": "stream",
     "text": [
      "Epoch 130, Loss 0.0268\n",
      "Training Accuracy: 0.9690, Testing Accuracy: 0.9703\n",
      "\n"
     ]
    },
    {
     "name": "stdout",
     "output_type": "stream",
     "text": [
      "Epoch 140, Loss 0.026\n",
      "Training Accuracy: 0.9697, Testing Accuracy: 0.9718\n",
      "\n"
     ]
    },
    {
     "name": "stdout",
     "output_type": "stream",
     "text": [
      "Epoch 150, Loss 0.0253\n",
      "Training Accuracy: 0.9708, Testing Accuracy: 0.9713\n",
      "\n"
     ]
    },
    {
     "name": "stdout",
     "output_type": "stream",
     "text": [
      "Epoch 160, Loss 0.0246\n",
      "Training Accuracy: 0.9716, Testing Accuracy: 0.9733\n",
      "\n"
     ]
    },
    {
     "name": "stdout",
     "output_type": "stream",
     "text": [
      "Epoch 170, Loss 0.024\n",
      "Training Accuracy: 0.9725, Testing Accuracy: 0.9743\n",
      "\n"
     ]
    },
    {
     "name": "stdout",
     "output_type": "stream",
     "text": [
      "Epoch 180, Loss 0.0235\n",
      "Training Accuracy: 0.9731, Testing Accuracy: 0.9738\n",
      "\n"
     ]
    },
    {
     "name": "stdout",
     "output_type": "stream",
     "text": [
      "Epoch 190, Loss 0.0229\n",
      "Training Accuracy: 0.9734, Testing Accuracy: 0.9743\n",
      "\n"
     ]
    },
    {
     "name": "stdout",
     "output_type": "stream",
     "text": [
      "Epoch 200, Loss 0.0224\n",
      "Training Accuracy: 0.9740, Testing Accuracy: 0.9748\n",
      "\n"
     ]
    },
    {
     "name": "stdout",
     "output_type": "stream",
     "text": [
      "Epoch 210, Loss 0.0219\n",
      "Training Accuracy: 0.9744, Testing Accuracy: 0.9743\n",
      "\n"
     ]
    },
    {
     "name": "stdout",
     "output_type": "stream",
     "text": [
      "Epoch 220, Loss 0.0215\n",
      "Training Accuracy: 0.9753, Testing Accuracy: 0.9743\n",
      "\n"
     ]
    },
    {
     "name": "stdout",
     "output_type": "stream",
     "text": [
      "Epoch 230, Loss 0.021\n",
      "Training Accuracy: 0.9760, Testing Accuracy: 0.9743\n",
      "\n"
     ]
    },
    {
     "name": "stdout",
     "output_type": "stream",
     "text": [
      "Epoch 240, Loss 0.0206\n",
      "Training Accuracy: 0.9765, Testing Accuracy: 0.9743\n",
      "\n"
     ]
    },
    {
     "data": {
      "text/plain": [
       "0.0026277750948388223"
      ]
     },
     "execution_count": 22,
     "metadata": {},
     "output_type": "execute_result"
    }
   ],
   "source": [
    "nn_learner.train_loop(dl)"
   ]
  },
  {
   "cell_type": "code",
   "execution_count": 23,
   "id": "e0163366",
   "metadata": {
    "execution": {
     "iopub.execute_input": "2022-11-07T20:13:07.058964Z",
     "iopub.status.busy": "2022-11-07T20:13:07.058215Z",
     "iopub.status.idle": "2022-11-07T20:13:22.337019Z",
     "shell.execute_reply": "2022-11-07T20:13:22.338130Z"
    },
    "papermill": {
     "duration": 15.350793,
     "end_time": "2022-11-07T20:13:22.338314",
     "exception": false,
     "start_time": "2022-11-07T20:13:06.987521",
     "status": "completed"
    },
    "tags": []
   },
   "outputs": [
    {
     "name": "stdout",
     "output_type": "stream",
     "text": [
      "Epoch 0, Loss 0.2342\n",
      "Training Accuracy: 0.7251, Testing Accuracy: 0.7314\n",
      "\n"
     ]
    },
    {
     "name": "stdout",
     "output_type": "stream",
     "text": [
      "Epoch 10, Loss 0.1032\n",
      "Training Accuracy: 0.9083, Testing Accuracy: 0.9173\n",
      "\n"
     ]
    },
    {
     "name": "stdout",
     "output_type": "stream",
     "text": [
      "Epoch 20, Loss 0.0795\n",
      "Training Accuracy: 0.9299, Testing Accuracy: 0.9390\n",
      "\n"
     ]
    },
    {
     "name": "stdout",
     "output_type": "stream",
     "text": [
      "Epoch 30, Loss 0.0685\n",
      "Training Accuracy: 0.9372, Testing Accuracy: 0.9501\n",
      "\n"
     ]
    },
    {
     "name": "stdout",
     "output_type": "stream",
     "text": [
      "Epoch 40, Loss 0.0619\n",
      "Training Accuracy: 0.9417, Testing Accuracy: 0.9546\n",
      "\n"
     ]
    },
    {
     "name": "stdout",
     "output_type": "stream",
     "text": [
      "Epoch 50, Loss 0.0574\n",
      "Training Accuracy: 0.9448, Testing Accuracy: 0.9561\n",
      "\n"
     ]
    },
    {
     "name": "stdout",
     "output_type": "stream",
     "text": [
      "Epoch 60, Loss 0.054\n",
      "Training Accuracy: 0.9473, Testing Accuracy: 0.9582\n",
      "\n"
     ]
    },
    {
     "name": "stdout",
     "output_type": "stream",
     "text": [
      "Epoch 70, Loss 0.0515\n",
      "Training Accuracy: 0.9493, Testing Accuracy: 0.9577\n",
      "\n"
     ]
    },
    {
     "name": "stdout",
     "output_type": "stream",
     "text": [
      "Epoch 80, Loss 0.0494\n",
      "Training Accuracy: 0.9504, Testing Accuracy: 0.9592\n",
      "\n"
     ]
    },
    {
     "name": "stdout",
     "output_type": "stream",
     "text": [
      "Epoch 90, Loss 0.0477\n",
      "Training Accuracy: 0.9516, Testing Accuracy: 0.9607\n",
      "\n"
     ]
    },
    {
     "name": "stdout",
     "output_type": "stream",
     "text": [
      "Epoch 100, Loss 0.0462\n",
      "Training Accuracy: 0.9529, Testing Accuracy: 0.9617\n",
      "\n"
     ]
    },
    {
     "name": "stdout",
     "output_type": "stream",
     "text": [
      "Epoch 110, Loss 0.045\n",
      "Training Accuracy: 0.9536, Testing Accuracy: 0.9622\n",
      "\n"
     ]
    },
    {
     "name": "stdout",
     "output_type": "stream",
     "text": [
      "Epoch 120, Loss 0.0439\n",
      "Training Accuracy: 0.9546, Testing Accuracy: 0.9617\n",
      "\n"
     ]
    },
    {
     "name": "stdout",
     "output_type": "stream",
     "text": [
      "Epoch 130, Loss 0.043\n",
      "Training Accuracy: 0.9553, Testing Accuracy: 0.9642\n",
      "\n"
     ]
    },
    {
     "name": "stdout",
     "output_type": "stream",
     "text": [
      "Epoch 140, Loss 0.0422\n",
      "Training Accuracy: 0.9560, Testing Accuracy: 0.9652\n",
      "\n"
     ]
    },
    {
     "name": "stdout",
     "output_type": "stream",
     "text": [
      "Epoch 150, Loss 0.0414\n",
      "Training Accuracy: 0.9566, Testing Accuracy: 0.9657\n",
      "\n"
     ]
    },
    {
     "name": "stdout",
     "output_type": "stream",
     "text": [
      "Epoch 160, Loss 0.0407\n",
      "Training Accuracy: 0.9570, Testing Accuracy: 0.9662\n",
      "\n"
     ]
    },
    {
     "name": "stdout",
     "output_type": "stream",
     "text": [
      "Epoch 170, Loss 0.0401\n",
      "Training Accuracy: 0.9574, Testing Accuracy: 0.9677\n",
      "\n"
     ]
    },
    {
     "name": "stdout",
     "output_type": "stream",
     "text": [
      "Epoch 180, Loss 0.0395\n",
      "Training Accuracy: 0.9584, Testing Accuracy: 0.9677\n",
      "\n"
     ]
    },
    {
     "name": "stdout",
     "output_type": "stream",
     "text": [
      "Epoch 190, Loss 0.039\n",
      "Training Accuracy: 0.9590, Testing Accuracy: 0.9677\n",
      "\n"
     ]
    },
    {
     "name": "stdout",
     "output_type": "stream",
     "text": [
      "Epoch 200, Loss 0.0385\n",
      "Training Accuracy: 0.9599, Testing Accuracy: 0.9682\n",
      "\n"
     ]
    },
    {
     "name": "stdout",
     "output_type": "stream",
     "text": [
      "Epoch 210, Loss 0.0381\n",
      "Training Accuracy: 0.9605, Testing Accuracy: 0.9682\n",
      "\n"
     ]
    },
    {
     "name": "stdout",
     "output_type": "stream",
     "text": [
      "Epoch 220, Loss 0.0377\n",
      "Training Accuracy: 0.9609, Testing Accuracy: 0.9682\n",
      "\n"
     ]
    },
    {
     "name": "stdout",
     "output_type": "stream",
     "text": [
      "Epoch 230, Loss 0.0373\n",
      "Training Accuracy: 0.9610, Testing Accuracy: 0.9677\n",
      "\n"
     ]
    },
    {
     "name": "stdout",
     "output_type": "stream",
     "text": [
      "Epoch 240, Loss 0.0369\n",
      "Training Accuracy: 0.9612, Testing Accuracy: 0.9682\n",
      "\n"
     ]
    },
    {
     "data": {
      "text/plain": [
       "0.03264473971366598"
      ]
     },
     "execution_count": 23,
     "metadata": {},
     "output_type": "execute_result"
    }
   ],
   "source": [
    "lr_learner.train_loop(dl)"
   ]
  },
  {
   "cell_type": "code",
   "execution_count": 24,
   "id": "ca410940",
   "metadata": {
    "execution": {
     "iopub.execute_input": "2022-11-07T20:13:22.430035Z",
     "iopub.status.busy": "2022-11-07T20:13:22.429374Z",
     "iopub.status.idle": "2022-11-07T20:13:22.676541Z",
     "shell.execute_reply": "2022-11-07T20:13:22.675900Z"
    },
    "papermill": {
     "duration": 0.296296,
     "end_time": "2022-11-07T20:13:22.676693",
     "exception": false,
     "start_time": "2022-11-07T20:13:22.380397",
     "status": "completed"
    },
    "tags": []
   },
   "outputs": [
    {
     "data": {
      "text/plain": [
       "<matplotlib.legend.Legend at 0x7f8195397588>"
      ]
     },
     "execution_count": 24,
     "metadata": {},
     "output_type": "execute_result"
    },
    {
     "data": {
      "image/png": "[encoded data removed]",
      "text/plain": [
       "<Figure size 1080x720 with 1 Axes>"
      ]
     },
     "metadata": {
      "needs_background": "light"
     },
     "output_type": "display_data"
    }
   ],
   "source": [
    "#comparing the results of NN and LR\n",
    "plt.figure(figsize=(15,10))\n",
    "\n",
    "# Neural Network plots\n",
    "plt.plot(acc_nn.accuracies, 'r-', label = \"Training Accuracies - NN\")\n",
    "plt.plot(acc_nn.test_accuracies, 'g-', label = \"Testing Accuracies - NN\")\n",
    "\n",
    "# Logistic Regression plots\n",
    "plt.plot(acc_lr.accuracies, 'k-', label = \"Training Accuracies - LR\")\n",
    "plt.plot(acc_lr.test_accuracies, 'b-', label = \"Testing Accuracies - LR\")\n",
    "plt.legend()"
   ]
  },
  {
   "cell_type": "markdown",
   "id": "80dfb35c",
   "metadata": {
    "papermill": {
     "duration": 0.043214,
     "end_time": "2022-11-07T20:13:22.763117",
     "exception": false,
     "start_time": "2022-11-07T20:13:22.719903",
     "status": "completed"
    },
    "tags": []
   },
   "source": [
    "#### Plotting the outputs of this layer of the NN.\n"
   ]
  },
  {
   "cell_type": "code",
   "execution_count": 25,
   "id": "45eb2ff5",
   "metadata": {
    "execution": {
     "iopub.execute_input": "2022-11-07T20:13:22.860925Z",
     "iopub.status.busy": "2022-11-07T20:13:22.860189Z",
     "iopub.status.idle": "2022-11-07T20:13:22.878487Z",
     "shell.execute_reply": "2022-11-07T20:13:22.879029Z"
    },
    "papermill": {
     "duration": 0.073195,
     "end_time": "2022-11-07T20:13:22.879193",
     "exception": false,
     "start_time": "2022-11-07T20:13:22.805998",
     "status": "completed"
    },
    "tags": []
   },
   "outputs": [],
   "source": [
    "new_model = Model(layers[:-2])\n",
    "testing_plot = new_model(testing_data_x)"
   ]
  },
  {
   "cell_type": "code",
   "execution_count": 26,
   "id": "4c0a5485",
   "metadata": {
    "execution": {
     "iopub.execute_input": "2022-11-07T20:13:22.974669Z",
     "iopub.status.busy": "2022-11-07T20:13:22.973971Z",
     "iopub.status.idle": "2022-11-07T20:13:23.195133Z",
     "shell.execute_reply": "2022-11-07T20:13:23.195609Z"
    },
    "papermill": {
     "duration": 0.273449,
     "end_time": "2022-11-07T20:13:23.195763",
     "exception": false,
     "start_time": "2022-11-07T20:13:22.922314",
     "status": "completed"
    },
    "tags": []
   },
   "outputs": [
    {
     "data": {
      "text/plain": [
       "Text(0.5, 1.0, 'Outputs')"
      ]
     },
     "execution_count": 26,
     "metadata": {},
     "output_type": "execute_result"
    },
    {
     "data": {
      "image/png": "[encoded data removed]",
      "text/plain": [
       "<Figure size 576x504 with 1 Axes>"
      ]
     },
     "metadata": {
      "needs_background": "light"
     },
     "output_type": "display_data"
    }
   ],
   "source": [
    "# Plotting the scatter plot of points and color coding by class\n",
    "plt.figure(figsize=(8,7))\n",
    "plt.scatter(testing_plot[:,0], testing_plot[:,1], alpha = 0.1, c = y_test.ravel());\n",
    "plt.title('Outputs')"
   ]
  },
  {
   "cell_type": "markdown",
   "id": "a74fcf8f",
   "metadata": {
    "papermill": {
     "duration": 0.045525,
     "end_time": "2022-11-07T20:13:23.286985",
     "exception": false,
     "start_time": "2022-11-07T20:13:23.241460",
     "status": "completed"
    },
    "tags": []
   },
   "source": [
    "Probability contours"
   ]
  },
  {
   "cell_type": "code",
   "execution_count": 27,
   "id": "d0afc8e3",
   "metadata": {
    "execution": {
     "iopub.execute_input": "2022-11-07T20:13:23.434351Z",
     "iopub.status.busy": "2022-11-07T20:13:23.433664Z",
     "iopub.status.idle": "2022-11-07T20:13:23.442470Z",
     "shell.execute_reply": "2022-11-07T20:13:23.442960Z"
    },
    "papermill": {
     "duration": 0.066779,
     "end_time": "2022-11-07T20:13:23.443128",
     "exception": false,
     "start_time": "2022-11-07T20:13:23.376349",
     "status": "completed"
    },
    "tags": []
   },
   "outputs": [],
   "source": [
    "model_prob = Model(layers[-2:]) "
   ]
  },
  {
   "cell_type": "code",
   "execution_count": 28,
   "id": "9b96e238",
   "metadata": {
    "execution": {
     "iopub.execute_input": "2022-11-07T20:13:23.550561Z",
     "iopub.status.busy": "2022-11-07T20:13:23.549844Z",
     "iopub.status.idle": "2022-11-07T20:13:23.560483Z",
     "shell.execute_reply": "2022-11-07T20:13:23.559889Z"
    },
    "papermill": {
     "duration": 0.071761,
     "end_time": "2022-11-07T20:13:23.560654",
     "exception": false,
     "start_time": "2022-11-07T20:13:23.488893",
     "status": "completed"
    },
    "tags": []
   },
   "outputs": [],
   "source": [
    "#creating the x and y ranges according to the above generated plot.\n",
    "x_range = np.linspace(-4, 1, 100) \n",
    "y_range = np.linspace(-6, 6, 100) \n",
    "x_grid, y_grid = np.meshgrid(x_range, y_range) # x_grid and y_grig are of size 100 X 100\n",
    "\n",
    "# converting x_grid and y_grid to continuous arrays\n",
    "x_gridflat = np.ravel(x_grid)\n",
    "y_gridflat = np.ravel(y_grid)\n",
    "\n",
    "# The last layer of the current model takes two columns as input. Hence transpose of np.vstack() is required.\n",
    "X = np.vstack((x_gridflat, y_gridflat)).T\n",
    "\n",
    "prob_contour = model_prob(X).reshape(100,100) "
   ]
  },
  {
   "cell_type": "code",
   "execution_count": 29,
   "id": "da72499a",
   "metadata": {
    "execution": {
     "iopub.execute_input": "2022-11-07T20:13:23.665716Z",
     "iopub.status.busy": "2022-11-07T20:13:23.659041Z",
     "iopub.status.idle": "2022-11-07T20:13:23.927645Z",
     "shell.execute_reply": "2022-11-07T20:13:23.928159Z"
    },
    "papermill": {
     "duration": 0.321831,
     "end_time": "2022-11-07T20:13:23.928321",
     "exception": false,
     "start_time": "2022-11-07T20:13:23.606490",
     "status": "completed"
    },
    "tags": []
   },
   "outputs": [
    {
     "data": {
      "image/png": "[encoded data removed]",
      "text/plain": [
       "<Figure size 720x648 with 1 Axes>"
      ]
     },
     "metadata": {
      "needs_background": "light"
     },
     "output_type": "display_data"
    }
   ],
   "source": [
    "plt.figure(figsize=(10,9))\n",
    "plt.scatter(testing_plot[:,0], testing_plot[:,1], alpha = 0.1, c = y_test.ravel())\n",
    "contours = plt.contour(x_grid,y_grid,prob_contour)\n",
    "plt.title('Probability Contours')\n",
    "plt.clabel(contours, inline = True );"
   ]
  },
  {
   "cell_type": "code",
   "execution_count": null,
   "id": "e81b4ac7",
   "metadata": {
    "papermill": {
     "duration": 0.048245,
     "end_time": "2022-11-07T20:13:24.025342",
     "exception": false,
     "start_time": "2022-11-07T20:13:23.977097",
     "status": "completed"
    },
    "tags": []
   },
   "outputs": [],
   "source": []
  }
 ],
 "metadata": {
  "kernelspec": {
   "display_name": "Python 3",
   "language": "python",
   "name": "python3"
  },
  "language_info": {
   "codemirror_mode": {
    "name": "ipython",
    "version": 3
   },
   "file_extension": ".py",
   "mimetype": "text/x-python",
   "name": "python",
   "nbconvert_exporter": "python",
   "pygments_lexer": "ipython3",
   "version": "3.6.15"
  },
  "papermill": {
   "default_parameters": {},
   "duration": 112.117342,
   "end_time": "2022-11-07T20:13:24.594646",
   "environment_variables": {},
   "exception": null,
   "input_path": "2020-08-11-part2.ipynb",
   "output_path": "2020-08-11-part2.ipynb",
   "parameters": {},
   "start_time": "2022-11-07T20:11:32.477304",
   "version": "2.3.3"
  }
 },
 "nbformat": 4,
 "nbformat_minor": 5
}