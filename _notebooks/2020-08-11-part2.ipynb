{
 "cells": [
  {
   "cell_type": "markdown",
   "id": "98380cd3",
   "metadata": {
    "papermill": {
     "duration": 0.035867,
     "end_time": "2021-11-20T00:22:22.948877",
     "exception": false,
     "start_time": "2021-11-20T00:22:22.913010",
     "status": "completed"
    },
    "tags": []
   },
   "source": [
    "# Distinguish Your Own Digits (DYOD)"
   ]
  },
  {
   "cell_type": "markdown",
   "id": "ef31240d",
   "metadata": {
    "papermill": {
     "duration": 0.029961,
     "end_time": "2021-11-20T00:22:23.007553",
     "exception": false,
     "start_time": "2021-11-20T00:22:22.977592",
     "status": "completed"
    },
    "tags": []
   },
   "source": [
    "You are going to write a classifier that distinguishes between the number 3 and number 8."
   ]
  },
  {
   "cell_type": "code",
   "execution_count": 1,
   "id": "b15c8646",
   "metadata": {
    "execution": {
     "iopub.execute_input": "2021-11-20T00:22:23.085415Z",
     "iopub.status.busy": "2021-11-20T00:22:23.084530Z",
     "iopub.status.idle": "2021-11-20T00:22:23.096297Z",
     "shell.execute_reply": "2021-11-20T00:22:23.095720Z"
    },
    "papermill": {
     "duration": 0.058337,
     "end_time": "2021-11-20T00:22:23.096470",
     "exception": false,
     "start_time": "2021-11-20T00:22:23.038133",
     "status": "completed"
    },
    "tags": []
   },
   "outputs": [],
   "source": [
    "%load_ext autoreload\n",
    "%autoreload 2"
   ]
  },
  {
   "cell_type": "code",
   "execution_count": 2,
   "id": "22ef38dc",
   "metadata": {
    "execution": {
     "iopub.execute_input": "2021-11-20T00:22:23.167784Z",
     "iopub.status.busy": "2021-11-20T00:22:23.167106Z",
     "iopub.status.idle": "2021-11-20T00:22:23.864643Z",
     "shell.execute_reply": "2021-11-20T00:22:23.864072Z"
    },
    "papermill": {
     "duration": 0.734492,
     "end_time": "2021-11-20T00:22:23.864790",
     "exception": false,
     "start_time": "2021-11-20T00:22:23.130298",
     "status": "completed"
    },
    "tags": []
   },
   "outputs": [],
   "source": [
    "%matplotlib inline\n",
    "import numpy as np\n",
    "import matplotlib.pyplot as plt\n",
    "import pandas as pd"
   ]
  },
  {
   "cell_type": "markdown",
   "id": "ba036198",
   "metadata": {
    "papermill": {
     "duration": 0.031048,
     "end_time": "2021-11-20T00:22:23.926999",
     "exception": false,
     "start_time": "2021-11-20T00:22:23.895951",
     "status": "completed"
    },
    "tags": []
   },
   "source": [
    "From the command line run `pip install mnist`. This is a library that will help you bring down the mnist dataset. If you run this from a notebook, you need to put  `!pip install mnist` in a cell by itself."
   ]
  },
  {
   "cell_type": "code",
   "execution_count": 3,
   "id": "bb6ad8a1",
   "metadata": {
    "execution": {
     "iopub.execute_input": "2021-11-20T00:22:23.997065Z",
     "iopub.status.busy": "2021-11-20T00:22:23.996425Z",
     "iopub.status.idle": "2021-11-20T00:22:25.981399Z",
     "shell.execute_reply": "2021-11-20T00:22:25.980849Z"
    },
    "papermill": {
     "duration": 2.025866,
     "end_time": "2021-11-20T00:22:25.981538",
     "exception": false,
     "start_time": "2021-11-20T00:22:23.955672",
     "status": "completed"
    },
    "tags": []
   },
   "outputs": [
    {
     "name": "stdout",
     "output_type": "stream",
     "text": [
      "Collecting mnist\r\n"
     ]
    },
    {
     "name": "stdout",
     "output_type": "stream",
     "text": [
      "  Downloading mnist-0.2.2-py2.py3-none-any.whl (3.5 kB)\r\n"
     ]
    },
    {
     "name": "stdout",
     "output_type": "stream",
     "text": [
      "Requirement already satisfied: numpy in /opt/hostedtoolcache/Python/3.6.15/x64/lib/python3.6/site-packages (from mnist) (1.19.5)\r\n"
     ]
    },
    {
     "name": "stdout",
     "output_type": "stream",
     "text": [
      "Installing collected packages: mnist\r\n",
      "Successfully installed mnist-0.2.2\r\n"
     ]
    }
   ],
   "source": [
    "!pip install mnist"
   ]
  },
  {
   "cell_type": "markdown",
   "id": "69df9c9a",
   "metadata": {
    "papermill": {
     "duration": 0.032417,
     "end_time": "2021-11-20T00:22:26.044745",
     "exception": false,
     "start_time": "2021-11-20T00:22:26.012328",
     "status": "completed"
    },
    "tags": []
   },
   "source": [
    "## Preparing the Data"
   ]
  },
  {
   "cell_type": "code",
   "execution_count": 4,
   "id": "7f69d806",
   "metadata": {
    "execution": {
     "iopub.execute_input": "2021-11-20T00:22:26.122726Z",
     "iopub.status.busy": "2021-11-20T00:22:26.114417Z",
     "iopub.status.idle": "2021-11-20T00:22:26.129125Z",
     "shell.execute_reply": "2021-11-20T00:22:26.128536Z"
    },
    "papermill": {
     "duration": 0.049859,
     "end_time": "2021-11-20T00:22:26.129276",
     "exception": false,
     "start_time": "2021-11-20T00:22:26.079417",
     "status": "completed"
    },
    "tags": []
   },
   "outputs": [],
   "source": [
    "import mnist"
   ]
  },
  {
   "cell_type": "code",
   "execution_count": 5,
   "id": "a411e44f",
   "metadata": {
    "execution": {
     "iopub.execute_input": "2021-11-20T00:22:26.196369Z",
     "iopub.status.busy": "2021-11-20T00:22:26.195747Z",
     "iopub.status.idle": "2021-11-20T00:22:26.867787Z",
     "shell.execute_reply": "2021-11-20T00:22:26.868670Z"
    },
    "papermill": {
     "duration": 0.708802,
     "end_time": "2021-11-20T00:22:26.868853",
     "exception": false,
     "start_time": "2021-11-20T00:22:26.160051",
     "status": "completed"
    },
    "tags": []
   },
   "outputs": [],
   "source": [
    "train_images = mnist.train_images()\n",
    "train_labels = mnist.train_labels()"
   ]
  },
  {
   "cell_type": "code",
   "execution_count": 6,
   "id": "dceab3a5",
   "metadata": {
    "execution": {
     "iopub.execute_input": "2021-11-20T00:22:26.935174Z",
     "iopub.status.busy": "2021-11-20T00:22:26.930538Z",
     "iopub.status.idle": "2021-11-20T00:22:26.946747Z",
     "shell.execute_reply": "2021-11-20T00:22:26.946223Z"
    },
    "papermill": {
     "duration": 0.048678,
     "end_time": "2021-11-20T00:22:26.946874",
     "exception": false,
     "start_time": "2021-11-20T00:22:26.898196",
     "status": "completed"
    },
    "tags": []
   },
   "outputs": [
    {
     "data": {
      "text/plain": [
       "((60000, 28, 28), (60000,))"
      ]
     },
     "execution_count": 6,
     "metadata": {},
     "output_type": "execute_result"
    }
   ],
   "source": [
    "train_images.shape, train_labels.shape"
   ]
  },
  {
   "cell_type": "code",
   "execution_count": 7,
   "id": "f50dc2bb",
   "metadata": {
    "execution": {
     "iopub.execute_input": "2021-11-20T00:22:27.009027Z",
     "iopub.status.busy": "2021-11-20T00:22:27.008412Z",
     "iopub.status.idle": "2021-11-20T00:22:27.231009Z",
     "shell.execute_reply": "2021-11-20T00:22:27.230383Z"
    },
    "papermill": {
     "duration": 0.254749,
     "end_time": "2021-11-20T00:22:27.231149",
     "exception": false,
     "start_time": "2021-11-20T00:22:26.976400",
     "status": "completed"
    },
    "tags": []
   },
   "outputs": [],
   "source": [
    "test_images = mnist.test_images()\n",
    "test_labels = mnist.test_labels()"
   ]
  },
  {
   "cell_type": "code",
   "execution_count": 8,
   "id": "fc38cf1b",
   "metadata": {
    "execution": {
     "iopub.execute_input": "2021-11-20T00:22:27.299320Z",
     "iopub.status.busy": "2021-11-20T00:22:27.298736Z",
     "iopub.status.idle": "2021-11-20T00:22:27.311029Z",
     "shell.execute_reply": "2021-11-20T00:22:27.310483Z"
    },
    "papermill": {
     "duration": 0.049892,
     "end_time": "2021-11-20T00:22:27.311172",
     "exception": false,
     "start_time": "2021-11-20T00:22:27.261280",
     "status": "completed"
    },
    "tags": []
   },
   "outputs": [
    {
     "data": {
      "text/plain": [
       "((10000, 28, 28), (10000,))"
      ]
     },
     "execution_count": 8,
     "metadata": {},
     "output_type": "execute_result"
    }
   ],
   "source": [
    "test_images.shape, test_labels.shape"
   ]
  },
  {
   "cell_type": "code",
   "execution_count": 9,
   "id": "f9ed8fe0",
   "metadata": {
    "execution": {
     "iopub.execute_input": "2021-11-20T00:22:27.377397Z",
     "iopub.status.busy": "2021-11-20T00:22:27.376696Z",
     "iopub.status.idle": "2021-11-20T00:22:27.552832Z",
     "shell.execute_reply": "2021-11-20T00:22:27.552337Z"
    },
    "papermill": {
     "duration": 0.212249,
     "end_time": "2021-11-20T00:22:27.552969",
     "exception": false,
     "start_time": "2021-11-20T00:22:27.340720",
     "status": "completed"
    },
    "tags": []
   },
   "outputs": [
    {
     "name": "stdout",
     "output_type": "stream",
     "text": [
      "2\n"
     ]
    },
    {
     "data": {
      "text/plain": [
       "<matplotlib.image.AxesImage at 0x7ffbb1313550>"
      ]
     },
     "execution_count": 9,
     "metadata": {},
     "output_type": "execute_result"
    },
    {
     "data": {
      "image/png": "[encoded data removed]",
      "text/plain": [
       "<Figure size 432x288 with 1 Axes>"
      ]
     },
     "metadata": {
      "needs_background": "light"
     },
     "output_type": "display_data"
    }
   ],
   "source": [
    "image_index = 7776 # You may select anything up to 60,000\n",
    "print(train_labels[image_index]) \n",
    "plt.imshow(train_images[image_index], cmap='Greys')"
   ]
  },
  {
   "cell_type": "markdown",
   "id": "a8d2388d",
   "metadata": {
    "papermill": {
     "duration": 0.029834,
     "end_time": "2021-11-20T00:22:27.615921",
     "exception": false,
     "start_time": "2021-11-20T00:22:27.586087",
     "status": "completed"
    },
    "tags": []
   },
   "source": [
    "## Filter data to get 3 and 8 out"
   ]
  },
  {
   "cell_type": "code",
   "execution_count": 10,
   "id": "776f7fc7",
   "metadata": {
    "execution": {
     "iopub.execute_input": "2021-11-20T00:22:27.689830Z",
     "iopub.status.busy": "2021-11-20T00:22:27.689156Z",
     "iopub.status.idle": "2021-11-20T00:22:27.703338Z",
     "shell.execute_reply": "2021-11-20T00:22:27.702832Z"
    },
    "papermill": {
     "duration": 0.056934,
     "end_time": "2021-11-20T00:22:27.703473",
     "exception": false,
     "start_time": "2021-11-20T00:22:27.646539",
     "status": "completed"
    },
    "tags": []
   },
   "outputs": [],
   "source": [
    "train_filter = np.where((train_labels == 3 ) | (train_labels == 8))\n",
    "test_filter = np.where((test_labels == 3) | (test_labels == 8))\n",
    "X_train, y_train = train_images[train_filter], train_labels[train_filter]\n",
    "X_test, y_test = test_images[test_filter], test_labels[test_filter]"
   ]
  },
  {
   "cell_type": "markdown",
   "id": "948f0b7e",
   "metadata": {
    "papermill": {
     "duration": 0.030989,
     "end_time": "2021-11-20T00:22:27.765067",
     "exception": false,
     "start_time": "2021-11-20T00:22:27.734078",
     "status": "completed"
    },
    "tags": []
   },
   "source": [
    "We normalize the pizel values in the 0 to 1 range"
   ]
  },
  {
   "cell_type": "code",
   "execution_count": 11,
   "id": "ee4c2166",
   "metadata": {
    "execution": {
     "iopub.execute_input": "2021-11-20T00:22:27.831175Z",
     "iopub.status.busy": "2021-11-20T00:22:27.829988Z",
     "iopub.status.idle": "2021-11-20T00:22:27.889180Z",
     "shell.execute_reply": "2021-11-20T00:22:27.889724Z"
    },
    "papermill": {
     "duration": 0.094796,
     "end_time": "2021-11-20T00:22:27.890067",
     "exception": false,
     "start_time": "2021-11-20T00:22:27.795271",
     "status": "completed"
    },
    "tags": []
   },
   "outputs": [],
   "source": [
    "X_train = X_train/255.\n",
    "X_test = X_test/255."
   ]
  },
  {
   "cell_type": "markdown",
   "id": "ddcf4fab",
   "metadata": {
    "papermill": {
     "duration": 0.030798,
     "end_time": "2021-11-20T00:22:27.952261",
     "exception": false,
     "start_time": "2021-11-20T00:22:27.921463",
     "status": "completed"
    },
    "tags": []
   },
   "source": [
    "And setup the labels as 1 (when the digit is 3) and 0 (when the digit is 8)"
   ]
  },
  {
   "cell_type": "code",
   "execution_count": 12,
   "id": "7dc908f2",
   "metadata": {
    "execution": {
     "iopub.execute_input": "2021-11-20T00:22:28.018618Z",
     "iopub.status.busy": "2021-11-20T00:22:28.018018Z",
     "iopub.status.idle": "2021-11-20T00:22:28.029552Z",
     "shell.execute_reply": "2021-11-20T00:22:28.030138Z"
    },
    "papermill": {
     "duration": 0.048129,
     "end_time": "2021-11-20T00:22:28.030271",
     "exception": false,
     "start_time": "2021-11-20T00:22:27.982142",
     "status": "completed"
    },
    "tags": []
   },
   "outputs": [],
   "source": [
    "y_train = 1*(y_train==3)\n",
    "y_test = 1*(y_test==3)"
   ]
  },
  {
   "cell_type": "code",
   "execution_count": 13,
   "id": "01e4e969",
   "metadata": {
    "execution": {
     "iopub.execute_input": "2021-11-20T00:22:28.104874Z",
     "iopub.status.busy": "2021-11-20T00:22:28.104274Z",
     "iopub.status.idle": "2021-11-20T00:22:28.116154Z",
     "shell.execute_reply": "2021-11-20T00:22:28.115648Z"
    },
    "papermill": {
     "duration": 0.051777,
     "end_time": "2021-11-20T00:22:28.116273",
     "exception": false,
     "start_time": "2021-11-20T00:22:28.064496",
     "status": "completed"
    },
    "tags": []
   },
   "outputs": [
    {
     "data": {
      "text/plain": [
       "((11982, 28, 28), (1984, 28, 28))"
      ]
     },
     "execution_count": 13,
     "metadata": {},
     "output_type": "execute_result"
    }
   ],
   "source": [
    "X_train.shape, X_test.shape"
   ]
  },
  {
   "cell_type": "markdown",
   "id": "5ccf3f85",
   "metadata": {
    "papermill": {
     "duration": 0.032286,
     "end_time": "2021-11-20T00:22:28.180270",
     "exception": false,
     "start_time": "2021-11-20T00:22:28.147984",
     "status": "completed"
    },
    "tags": []
   },
   "source": [
    "We reshape the data to flatten the image pixels into a set of features or co-variates:"
   ]
  },
  {
   "cell_type": "code",
   "execution_count": 14,
   "id": "5286a4a3",
   "metadata": {
    "execution": {
     "iopub.execute_input": "2021-11-20T00:22:28.255800Z",
     "iopub.status.busy": "2021-11-20T00:22:28.255135Z",
     "iopub.status.idle": "2021-11-20T00:22:28.261741Z",
     "shell.execute_reply": "2021-11-20T00:22:28.262252Z"
    },
    "papermill": {
     "duration": 0.050871,
     "end_time": "2021-11-20T00:22:28.262399",
     "exception": false,
     "start_time": "2021-11-20T00:22:28.211528",
     "status": "completed"
    },
    "tags": []
   },
   "outputs": [
    {
     "data": {
      "text/plain": [
       "((11982, 784), (1984, 784))"
      ]
     },
     "execution_count": 14,
     "metadata": {},
     "output_type": "execute_result"
    }
   ],
   "source": [
    "X_train = X_train.reshape(X_train.shape[0], -1)\n",
    "X_test = X_test.reshape(X_test.shape[0], -1)\n",
    "X_train.shape, X_test.shape"
   ]
  },
  {
   "cell_type": "code",
   "execution_count": 15,
   "id": "73c5f88a",
   "metadata": {
    "execution": {
     "iopub.execute_input": "2021-11-20T00:22:28.331812Z",
     "iopub.status.busy": "2021-11-20T00:22:28.331217Z",
     "iopub.status.idle": "2021-11-20T00:22:28.350075Z",
     "shell.execute_reply": "2021-11-20T00:22:28.349568Z"
    },
    "papermill": {
     "duration": 0.056086,
     "end_time": "2021-11-20T00:22:28.350192",
     "exception": false,
     "start_time": "2021-11-20T00:22:28.294106",
     "status": "completed"
    },
    "tags": []
   },
   "outputs": [],
   "source": [
    "#Impoting functions from 'Kudzu'\n",
    "from kudzu.model import Model\n",
    "from kudzu.train import Learner\n",
    "from kudzu.optim import GD\n",
    "from kudzu.data import Data, Sampler,Dataloader\n",
    "\n",
    "from kudzu.callbacks import AccCallback\n",
    "from kudzu.callbacks import ClfCallback\n",
    "\n",
    "from kudzu.loss import MSE\n",
    "\n",
    "from kudzu.layer import Sigmoid,Relu\n",
    "from kudzu.layer import Affine"
   ]
  },
  {
   "cell_type": "markdown",
   "id": "bc01172a",
   "metadata": {
    "papermill": {
     "duration": 0.029823,
     "end_time": "2021-11-20T00:22:28.412034",
     "exception": false,
     "start_time": "2021-11-20T00:22:28.382211",
     "status": "completed"
    },
    "tags": []
   },
   "source": [
    "### Let us create a `Config` class, to store important parameters. \n",
    "This class essentially plays the role of a dictionary."
   ]
  },
  {
   "cell_type": "code",
   "execution_count": 16,
   "id": "978281aa",
   "metadata": {
    "execution": {
     "iopub.execute_input": "2021-11-20T00:22:28.484743Z",
     "iopub.status.busy": "2021-11-20T00:22:28.484081Z",
     "iopub.status.idle": "2021-11-20T00:22:28.496186Z",
     "shell.execute_reply": "2021-11-20T00:22:28.495681Z"
    },
    "papermill": {
     "duration": 0.052593,
     "end_time": "2021-11-20T00:22:28.496308",
     "exception": false,
     "start_time": "2021-11-20T00:22:28.443715",
     "status": "completed"
    },
    "tags": []
   },
   "outputs": [],
   "source": [
    "class Config:\n",
    "    pass\n",
    "config = Config()\n",
    "config.lr = 0.001\n",
    "config.num_epochs = 250\n",
    "config.bs = 50"
   ]
  },
  {
   "cell_type": "markdown",
   "id": "1385fa59",
   "metadata": {
    "papermill": {
     "duration": 0.033487,
     "end_time": "2021-11-20T00:22:28.562680",
     "exception": false,
     "start_time": "2021-11-20T00:22:28.529193",
     "status": "completed"
    },
    "tags": []
   },
   "source": [
    "### Running Models with the Training data\n",
    "Details about the network layers:\n",
    "- A first affine layer has 784 inputs and does 100 affine transforms. These are followed by a Relu\n",
    "- A second affine layer has 100 inputs from the 100 activations of the past layer, and does 100 affine transforms. These are followed by a Relu\n",
    "- A third affine layer has 100 activations and does 2 affine transformations to create an embedding for visualization. There is no non-linearity here.\n",
    "- A final \"logistic regression\" which has an affine transform from 2 inputs to 1 output, which is squeezed through a sigmoid.\n"
   ]
  },
  {
   "cell_type": "code",
   "execution_count": 17,
   "id": "2b9c66db",
   "metadata": {
    "execution": {
     "iopub.execute_input": "2021-11-20T00:22:28.632689Z",
     "iopub.status.busy": "2021-11-20T00:22:28.631960Z",
     "iopub.status.idle": "2021-11-20T00:22:28.643743Z",
     "shell.execute_reply": "2021-11-20T00:22:28.644252Z"
    },
    "papermill": {
     "duration": 0.050298,
     "end_time": "2021-11-20T00:22:28.644387",
     "exception": false,
     "start_time": "2021-11-20T00:22:28.594089",
     "status": "completed"
    },
    "tags": []
   },
   "outputs": [],
   "source": [
    "data = Data(X_train, y_train.reshape(-1,1))\n",
    "sampler = Sampler(data, config.bs, shuffle=True)\n",
    "\n",
    "dl = Dataloader(data, sampler)\n",
    "\n",
    "opt = GD(config.lr)\n",
    "loss = MSE()"
   ]
  },
  {
   "cell_type": "code",
   "execution_count": 18,
   "id": "b275e4c2",
   "metadata": {
    "execution": {
     "iopub.execute_input": "2021-11-20T00:22:28.711242Z",
     "iopub.status.busy": "2021-11-20T00:22:28.710648Z",
     "iopub.status.idle": "2021-11-20T00:22:28.722800Z",
     "shell.execute_reply": "2021-11-20T00:22:28.722293Z"
    },
    "papermill": {
     "duration": 0.046118,
     "end_time": "2021-11-20T00:22:28.722928",
     "exception": false,
     "start_time": "2021-11-20T00:22:28.676810",
     "status": "completed"
    },
    "tags": []
   },
   "outputs": [],
   "source": [
    "training_data_x = X_train\n",
    "testing_data_x = X_test\n",
    "training_data_y = y_train.reshape(-1,1)\n",
    "testing_data_y = y_test.reshape(-1,1)"
   ]
  },
  {
   "cell_type": "code",
   "execution_count": 19,
   "id": "76951160",
   "metadata": {
    "execution": {
     "iopub.execute_input": "2021-11-20T00:22:28.806207Z",
     "iopub.status.busy": "2021-11-20T00:22:28.796675Z",
     "iopub.status.idle": "2021-11-20T00:22:28.814695Z",
     "shell.execute_reply": "2021-11-20T00:22:28.815234Z"
    },
    "papermill": {
     "duration": 0.060866,
     "end_time": "2021-11-20T00:22:28.815377",
     "exception": false,
     "start_time": "2021-11-20T00:22:28.754511",
     "status": "completed"
    },
    "tags": []
   },
   "outputs": [
    {
     "name": "stdout",
     "output_type": "stream",
     "text": [
      "xavier\n",
      "xavier\n",
      "xavier\n",
      "xavier\n",
      "xavier\n"
     ]
    }
   ],
   "source": [
    "layers = [Affine(\"first\", 784, 100), Relu(\"first\"), Affine(\"second\", 100, 100), Relu(\"second\"), Affine(\"third\", 100, 2), Affine(\"last\", 2, 1), Sigmoid(\"last\")]\n",
    "model_nn = Model(layers)\n",
    "model_lr = Model([Affine(\"logits\", 784, 1), Sigmoid(\"sigmoid\")])"
   ]
  },
  {
   "cell_type": "code",
   "execution_count": 20,
   "id": "6eede77a",
   "metadata": {
    "execution": {
     "iopub.execute_input": "2021-11-20T00:22:28.905426Z",
     "iopub.status.busy": "2021-11-20T00:22:28.898770Z",
     "iopub.status.idle": "2021-11-20T00:22:28.907880Z",
     "shell.execute_reply": "2021-11-20T00:22:28.907378Z"
    },
    "papermill": {
     "duration": 0.055875,
     "end_time": "2021-11-20T00:22:28.908000",
     "exception": false,
     "start_time": "2021-11-20T00:22:28.852125",
     "status": "completed"
    },
    "tags": []
   },
   "outputs": [],
   "source": [
    "nn_learner = Learner(loss, model_nn, opt, config.num_epochs)\n",
    "acc_nn = ClfCallback(nn_learner, config.bs, training_data_x , testing_data_x, training_data_y, testing_data_y)\n",
    "nn_learner.set_callbacks([acc_nn])"
   ]
  },
  {
   "cell_type": "code",
   "execution_count": 21,
   "id": "877b6cc7",
   "metadata": {
    "execution": {
     "iopub.execute_input": "2021-11-20T00:22:28.981285Z",
     "iopub.status.busy": "2021-11-20T00:22:28.976596Z",
     "iopub.status.idle": "2021-11-20T00:22:28.991213Z",
     "shell.execute_reply": "2021-11-20T00:22:28.990712Z"
    },
    "papermill": {
     "duration": 0.050291,
     "end_time": "2021-11-20T00:22:28.991330",
     "exception": false,
     "start_time": "2021-11-20T00:22:28.941039",
     "status": "completed"
    },
    "tags": []
   },
   "outputs": [],
   "source": [
    "lr_learner = Learner(loss, model_lr, opt, config.num_epochs)\n",
    "acc_lr = ClfCallback(lr_learner, config.bs, training_data_x , testing_data_x, training_data_y, testing_data_y)\n",
    "lr_learner.set_callbacks([acc_lr])"
   ]
  },
  {
   "cell_type": "code",
   "execution_count": 22,
   "id": "d9b133c3",
   "metadata": {
    "execution": {
     "iopub.execute_input": "2021-11-20T00:22:29.063081Z",
     "iopub.status.busy": "2021-11-20T00:22:29.062422Z",
     "iopub.status.idle": "2021-11-20T00:24:36.597084Z",
     "shell.execute_reply": "2021-11-20T00:24:36.597957Z"
    },
    "papermill": {
     "duration": 127.574495,
     "end_time": "2021-11-20T00:24:36.598133",
     "exception": false,
     "start_time": "2021-11-20T00:22:29.023638",
     "status": "completed"
    },
    "tags": []
   },
   "outputs": [
    {
     "name": "stdout",
     "output_type": "stream",
     "text": [
      "Epoch 0, Loss 0.2419\n",
      "Training Accuracy: 0.6952, Testing Accuracy: 0.7087\n",
      "\n"
     ]
    },
    {
     "name": "stdout",
     "output_type": "stream",
     "text": [
      "Epoch 10, Loss 0.1362\n",
      "Training Accuracy: 0.9101, Testing Accuracy: 0.9274\n",
      "\n"
     ]
    },
    {
     "name": "stdout",
     "output_type": "stream",
     "text": [
      "Epoch 20, Loss 0.0707\n",
      "Training Accuracy: 0.9332, Testing Accuracy: 0.9451\n",
      "\n"
     ]
    },
    {
     "name": "stdout",
     "output_type": "stream",
     "text": [
      "Epoch 30, Loss 0.0512\n",
      "Training Accuracy: 0.9467, Testing Accuracy: 0.9541\n",
      "\n"
     ]
    },
    {
     "name": "stdout",
     "output_type": "stream",
     "text": [
      "Epoch 40, Loss 0.0424\n",
      "Training Accuracy: 0.9534, Testing Accuracy: 0.9612\n",
      "\n"
     ]
    },
    {
     "name": "stdout",
     "output_type": "stream",
     "text": [
      "Epoch 50, Loss 0.0376\n",
      "Training Accuracy: 0.9571, Testing Accuracy: 0.9667\n",
      "\n"
     ]
    },
    {
     "name": "stdout",
     "output_type": "stream",
     "text": [
      "Epoch 60, Loss 0.0344\n",
      "Training Accuracy: 0.9605, Testing Accuracy: 0.9677\n",
      "\n"
     ]
    },
    {
     "name": "stdout",
     "output_type": "stream",
     "text": [
      "Epoch 70, Loss 0.0321\n",
      "Training Accuracy: 0.9629, Testing Accuracy: 0.9713\n",
      "\n"
     ]
    },
    {
     "name": "stdout",
     "output_type": "stream",
     "text": [
      "Epoch 80, Loss 0.0304\n",
      "Training Accuracy: 0.9647, Testing Accuracy: 0.9713\n",
      "\n"
     ]
    },
    {
     "name": "stdout",
     "output_type": "stream",
     "text": [
      "Epoch 90, Loss 0.0291\n",
      "Training Accuracy: 0.9659, Testing Accuracy: 0.9718\n",
      "\n"
     ]
    },
    {
     "name": "stdout",
     "output_type": "stream",
     "text": [
      "Epoch 100, Loss 0.0279\n",
      "Training Accuracy: 0.9675, Testing Accuracy: 0.9718\n",
      "\n"
     ]
    },
    {
     "name": "stdout",
     "output_type": "stream",
     "text": [
      "Epoch 110, Loss 0.027\n",
      "Training Accuracy: 0.9683, Testing Accuracy: 0.9713\n",
      "\n"
     ]
    },
    {
     "name": "stdout",
     "output_type": "stream",
     "text": [
      "Epoch 120, Loss 0.0261\n",
      "Training Accuracy: 0.9689, Testing Accuracy: 0.9713\n",
      "\n"
     ]
    },
    {
     "name": "stdout",
     "output_type": "stream",
     "text": [
      "Epoch 130, Loss 0.0254\n",
      "Training Accuracy: 0.9699, Testing Accuracy: 0.9713\n",
      "\n"
     ]
    },
    {
     "name": "stdout",
     "output_type": "stream",
     "text": [
      "Epoch 140, Loss 0.0247\n",
      "Training Accuracy: 0.9708, Testing Accuracy: 0.9723\n",
      "\n"
     ]
    },
    {
     "name": "stdout",
     "output_type": "stream",
     "text": [
      "Epoch 150, Loss 0.0241\n",
      "Training Accuracy: 0.9717, Testing Accuracy: 0.9713\n",
      "\n"
     ]
    },
    {
     "name": "stdout",
     "output_type": "stream",
     "text": [
      "Epoch 160, Loss 0.0236\n",
      "Training Accuracy: 0.9725, Testing Accuracy: 0.9708\n",
      "\n"
     ]
    },
    {
     "name": "stdout",
     "output_type": "stream",
     "text": [
      "Epoch 170, Loss 0.0231\n",
      "Training Accuracy: 0.9735, Testing Accuracy: 0.9708\n",
      "\n"
     ]
    },
    {
     "name": "stdout",
     "output_type": "stream",
     "text": [
      "Epoch 180, Loss 0.0226\n",
      "Training Accuracy: 0.9740, Testing Accuracy: 0.9713\n",
      "\n"
     ]
    },
    {
     "name": "stdout",
     "output_type": "stream",
     "text": [
      "Epoch 190, Loss 0.0221\n",
      "Training Accuracy: 0.9749, Testing Accuracy: 0.9708\n",
      "\n"
     ]
    },
    {
     "name": "stdout",
     "output_type": "stream",
     "text": [
      "Epoch 200, Loss 0.0217\n",
      "Training Accuracy: 0.9754, Testing Accuracy: 0.9708\n",
      "\n"
     ]
    },
    {
     "name": "stdout",
     "output_type": "stream",
     "text": [
      "Epoch 210, Loss 0.0213\n",
      "Training Accuracy: 0.9755, Testing Accuracy: 0.9713\n",
      "\n"
     ]
    },
    {
     "name": "stdout",
     "output_type": "stream",
     "text": [
      "Epoch 220, Loss 0.0209\n",
      "Training Accuracy: 0.9760, Testing Accuracy: 0.9713\n",
      "\n"
     ]
    },
    {
     "name": "stdout",
     "output_type": "stream",
     "text": [
      "Epoch 230, Loss 0.0206\n",
      "Training Accuracy: 0.9766, Testing Accuracy: 0.9723\n",
      "\n"
     ]
    },
    {
     "name": "stdout",
     "output_type": "stream",
     "text": [
      "Epoch 240, Loss 0.0202\n",
      "Training Accuracy: 0.9770, Testing Accuracy: 0.9728\n",
      "\n"
     ]
    },
    {
     "data": {
      "text/plain": [
       "0.019002638259386247"
      ]
     },
     "execution_count": 22,
     "metadata": {},
     "output_type": "execute_result"
    }
   ],
   "source": [
    "nn_learner.train_loop(dl)"
   ]
  },
  {
   "cell_type": "code",
   "execution_count": 23,
   "id": "e0163366",
   "metadata": {
    "execution": {
     "iopub.execute_input": "2021-11-20T00:24:36.691935Z",
     "iopub.status.busy": "2021-11-20T00:24:36.691314Z",
     "iopub.status.idle": "2021-11-20T00:24:55.246453Z",
     "shell.execute_reply": "2021-11-20T00:24:55.247382Z"
    },
    "papermill": {
     "duration": 18.606624,
     "end_time": "2021-11-20T00:24:55.247538",
     "exception": false,
     "start_time": "2021-11-20T00:24:36.640914",
     "status": "completed"
    },
    "tags": []
   },
   "outputs": [
    {
     "name": "stdout",
     "output_type": "stream",
     "text": [
      "Epoch 0, Loss 0.2527\n",
      "Training Accuracy: 0.6363, Testing Accuracy: 0.6719\n",
      "\n"
     ]
    },
    {
     "name": "stdout",
     "output_type": "stream",
     "text": [
      "Epoch 10, Loss 0.1031\n",
      "Training Accuracy: 0.9110, Testing Accuracy: 0.9264\n",
      "\n"
     ]
    },
    {
     "name": "stdout",
     "output_type": "stream",
     "text": [
      "Epoch 20, Loss 0.0784\n",
      "Training Accuracy: 0.9284, Testing Accuracy: 0.9425\n",
      "\n"
     ]
    },
    {
     "name": "stdout",
     "output_type": "stream",
     "text": [
      "Epoch 30, Loss 0.0675\n",
      "Training Accuracy: 0.9358, Testing Accuracy: 0.9511\n",
      "\n"
     ]
    },
    {
     "name": "stdout",
     "output_type": "stream",
     "text": [
      "Epoch 40, Loss 0.0611\n",
      "Training Accuracy: 0.9402, Testing Accuracy: 0.9567\n",
      "\n"
     ]
    },
    {
     "name": "stdout",
     "output_type": "stream",
     "text": [
      "Epoch 50, Loss 0.0567\n",
      "Training Accuracy: 0.9438, Testing Accuracy: 0.9572\n",
      "\n"
     ]
    },
    {
     "name": "stdout",
     "output_type": "stream",
     "text": [
      "Epoch 60, Loss 0.0535\n",
      "Training Accuracy: 0.9463, Testing Accuracy: 0.9582\n",
      "\n"
     ]
    },
    {
     "name": "stdout",
     "output_type": "stream",
     "text": [
      "Epoch 70, Loss 0.051\n",
      "Training Accuracy: 0.9487, Testing Accuracy: 0.9587\n",
      "\n"
     ]
    },
    {
     "name": "stdout",
     "output_type": "stream",
     "text": [
      "Epoch 80, Loss 0.049\n",
      "Training Accuracy: 0.9498, Testing Accuracy: 0.9597\n",
      "\n"
     ]
    },
    {
     "name": "stdout",
     "output_type": "stream",
     "text": [
      "Epoch 90, Loss 0.0473\n",
      "Training Accuracy: 0.9508, Testing Accuracy: 0.9622\n",
      "\n"
     ]
    },
    {
     "name": "stdout",
     "output_type": "stream",
     "text": [
      "Epoch 100, Loss 0.0459\n",
      "Training Accuracy: 0.9523, Testing Accuracy: 0.9632\n",
      "\n"
     ]
    },
    {
     "name": "stdout",
     "output_type": "stream",
     "text": [
      "Epoch 110, Loss 0.0447\n",
      "Training Accuracy: 0.9533, Testing Accuracy: 0.9642\n",
      "\n"
     ]
    },
    {
     "name": "stdout",
     "output_type": "stream",
     "text": [
      "Epoch 120, Loss 0.0437\n",
      "Training Accuracy: 0.9543, Testing Accuracy: 0.9642\n",
      "\n"
     ]
    },
    {
     "name": "stdout",
     "output_type": "stream",
     "text": [
      "Epoch 130, Loss 0.0428\n",
      "Training Accuracy: 0.9552, Testing Accuracy: 0.9642\n",
      "\n"
     ]
    },
    {
     "name": "stdout",
     "output_type": "stream",
     "text": [
      "Epoch 140, Loss 0.042\n",
      "Training Accuracy: 0.9556, Testing Accuracy: 0.9662\n",
      "\n"
     ]
    },
    {
     "name": "stdout",
     "output_type": "stream",
     "text": [
      "Epoch 150, Loss 0.0412\n",
      "Training Accuracy: 0.9564, Testing Accuracy: 0.9657\n",
      "\n"
     ]
    },
    {
     "name": "stdout",
     "output_type": "stream",
     "text": [
      "Epoch 160, Loss 0.0406\n",
      "Training Accuracy: 0.9574, Testing Accuracy: 0.9657\n",
      "\n"
     ]
    },
    {
     "name": "stdout",
     "output_type": "stream",
     "text": [
      "Epoch 170, Loss 0.04\n",
      "Training Accuracy: 0.9579, Testing Accuracy: 0.9662\n",
      "\n"
     ]
    },
    {
     "name": "stdout",
     "output_type": "stream",
     "text": [
      "Epoch 180, Loss 0.0394\n",
      "Training Accuracy: 0.9586, Testing Accuracy: 0.9662\n",
      "\n"
     ]
    },
    {
     "name": "stdout",
     "output_type": "stream",
     "text": [
      "Epoch 190, Loss 0.0389\n",
      "Training Accuracy: 0.9588, Testing Accuracy: 0.9667\n",
      "\n"
     ]
    },
    {
     "name": "stdout",
     "output_type": "stream",
     "text": [
      "Epoch 200, Loss 0.0384\n",
      "Training Accuracy: 0.9591, Testing Accuracy: 0.9667\n",
      "\n"
     ]
    },
    {
     "name": "stdout",
     "output_type": "stream",
     "text": [
      "Epoch 210, Loss 0.038\n",
      "Training Accuracy: 0.9594, Testing Accuracy: 0.9667\n",
      "\n"
     ]
    },
    {
     "name": "stdout",
     "output_type": "stream",
     "text": [
      "Epoch 220, Loss 0.0376\n",
      "Training Accuracy: 0.9599, Testing Accuracy: 0.9667\n",
      "\n"
     ]
    },
    {
     "name": "stdout",
     "output_type": "stream",
     "text": [
      "Epoch 230, Loss 0.0372\n",
      "Training Accuracy: 0.9604, Testing Accuracy: 0.9667\n",
      "\n"
     ]
    },
    {
     "name": "stdout",
     "output_type": "stream",
     "text": [
      "Epoch 240, Loss 0.0368\n",
      "Training Accuracy: 0.9606, Testing Accuracy: 0.9672\n",
      "\n"
     ]
    },
    {
     "data": {
      "text/plain": [
       "0.03445741244410735"
      ]
     },
     "execution_count": 23,
     "metadata": {},
     "output_type": "execute_result"
    }
   ],
   "source": [
    "lr_learner.train_loop(dl)"
   ]
  },
  {
   "cell_type": "code",
   "execution_count": 24,
   "id": "ca410940",
   "metadata": {
    "execution": {
     "iopub.execute_input": "2021-11-20T00:24:55.353423Z",
     "iopub.status.busy": "2021-11-20T00:24:55.352782Z",
     "iopub.status.idle": "2021-11-20T00:24:55.638549Z",
     "shell.execute_reply": "2021-11-20T00:24:55.639042Z"
    },
    "papermill": {
     "duration": 0.341778,
     "end_time": "2021-11-20T00:24:55.639200",
     "exception": false,
     "start_time": "2021-11-20T00:24:55.297422",
     "status": "completed"
    },
    "tags": []
   },
   "outputs": [
    {
     "data": {
      "text/plain": [
       "<matplotlib.legend.Legend at 0x7ffba3af87b8>"
      ]
     },
     "execution_count": 24,
     "metadata": {},
     "output_type": "execute_result"
    },
    {
     "data": {
      "image/png": "[encoded data removed]",
      "text/plain": [
       "<Figure size 1080x720 with 1 Axes>"
      ]
     },
     "metadata": {
      "needs_background": "light"
     },
     "output_type": "display_data"
    }
   ],
   "source": [
    "#comparing the results of NN and LR\n",
    "plt.figure(figsize=(15,10))\n",
    "\n",
    "# Neural Network plots\n",
    "plt.plot(acc_nn.accuracies, 'r-', label = \"Training Accuracies - NN\")\n",
    "plt.plot(acc_nn.test_accuracies, 'g-', label = \"Testing Accuracies - NN\")\n",
    "\n",
    "# Logistic Regression plots\n",
    "plt.plot(acc_lr.accuracies, 'k-', label = \"Training Accuracies - LR\")\n",
    "plt.plot(acc_lr.test_accuracies, 'b-', label = \"Testing Accuracies - LR\")\n",
    "plt.legend()"
   ]
  },
  {
   "cell_type": "markdown",
   "id": "80dfb35c",
   "metadata": {
    "papermill": {
     "duration": 0.050672,
     "end_time": "2021-11-20T00:24:55.741033",
     "exception": false,
     "start_time": "2021-11-20T00:24:55.690361",
     "status": "completed"
    },
    "tags": []
   },
   "source": [
    "#### Plotting the outputs of this layer of the NN.\n"
   ]
  },
  {
   "cell_type": "code",
   "execution_count": 25,
   "id": "45eb2ff5",
   "metadata": {
    "execution": {
     "iopub.execute_input": "2021-11-20T00:24:55.851396Z",
     "iopub.status.busy": "2021-11-20T00:24:55.850779Z",
     "iopub.status.idle": "2021-11-20T00:24:55.875586Z",
     "shell.execute_reply": "2021-11-20T00:24:55.876408Z"
    },
    "papermill": {
     "duration": 0.084956,
     "end_time": "2021-11-20T00:24:55.876575",
     "exception": false,
     "start_time": "2021-11-20T00:24:55.791619",
     "status": "completed"
    },
    "tags": []
   },
   "outputs": [],
   "source": [
    "new_model = Model(layers[:-2])\n",
    "testing_plot = new_model(testing_data_x)"
   ]
  },
  {
   "cell_type": "code",
   "execution_count": 26,
   "id": "4c0a5485",
   "metadata": {
    "execution": {
     "iopub.execute_input": "2021-11-20T00:24:55.991311Z",
     "iopub.status.busy": "2021-11-20T00:24:55.990646Z",
     "iopub.status.idle": "2021-11-20T00:24:56.264969Z",
     "shell.execute_reply": "2021-11-20T00:24:56.264433Z"
    },
    "papermill": {
     "duration": 0.335041,
     "end_time": "2021-11-20T00:24:56.265100",
     "exception": false,
     "start_time": "2021-11-20T00:24:55.930059",
     "status": "completed"
    },
    "tags": []
   },
   "outputs": [
    {
     "data": {
      "text/plain": [
       "Text(0.5, 1.0, 'Outputs')"
      ]
     },
     "execution_count": 26,
     "metadata": {},
     "output_type": "execute_result"
    },
    {
     "data": {
      "image/png": "[encoded data removed]",
      "text/plain": [
       "<Figure size 576x504 with 1 Axes>"
      ]
     },
     "metadata": {
      "needs_background": "light"
     },
     "output_type": "display_data"
    }
   ],
   "source": [
    "# Plotting the scatter plot of points and color coding by class\n",
    "plt.figure(figsize=(8,7))\n",
    "plt.scatter(testing_plot[:,0], testing_plot[:,1], alpha = 0.1, c = y_test.ravel());\n",
    "plt.title('Outputs')"
   ]
  },
  {
   "cell_type": "markdown",
   "id": "a74fcf8f",
   "metadata": {
    "papermill": {
     "duration": 0.052812,
     "end_time": "2021-11-20T00:24:56.371364",
     "exception": false,
     "start_time": "2021-11-20T00:24:56.318552",
     "status": "completed"
    },
    "tags": []
   },
   "source": [
    "Probability contours"
   ]
  },
  {
   "cell_type": "code",
   "execution_count": 27,
   "id": "d0afc8e3",
   "metadata": {
    "execution": {
     "iopub.execute_input": "2021-11-20T00:24:56.511849Z",
     "iopub.status.busy": "2021-11-20T00:24:56.511252Z",
     "iopub.status.idle": "2021-11-20T00:24:56.518922Z",
     "shell.execute_reply": "2021-11-20T00:24:56.518331Z"
    },
    "papermill": {
     "duration": 0.072126,
     "end_time": "2021-11-20T00:24:56.519044",
     "exception": false,
     "start_time": "2021-11-20T00:24:56.446918",
     "status": "completed"
    },
    "tags": []
   },
   "outputs": [],
   "source": [
    "model_prob = Model(layers[-2:]) "
   ]
  },
  {
   "cell_type": "code",
   "execution_count": 28,
   "id": "9b96e238",
   "metadata": {
    "execution": {
     "iopub.execute_input": "2021-11-20T00:24:56.633285Z",
     "iopub.status.busy": "2021-11-20T00:24:56.631291Z",
     "iopub.status.idle": "2021-11-20T00:24:56.646745Z",
     "shell.execute_reply": "2021-11-20T00:24:56.647203Z"
    },
    "papermill": {
     "duration": 0.073149,
     "end_time": "2021-11-20T00:24:56.647348",
     "exception": false,
     "start_time": "2021-11-20T00:24:56.574199",
     "status": "completed"
    },
    "tags": []
   },
   "outputs": [],
   "source": [
    "#creating the x and y ranges according to the above generated plot.\n",
    "x_range = np.linspace(-4, 1, 100) \n",
    "y_range = np.linspace(-6, 6, 100) \n",
    "x_grid, y_grid = np.meshgrid(x_range, y_range) # x_grid and y_grig are of size 100 X 100\n",
    "\n",
    "# converting x_grid and y_grid to continuous arrays\n",
    "x_gridflat = np.ravel(x_grid)\n",
    "y_gridflat = np.ravel(y_grid)\n",
    "\n",
    "# The last layer of the current model takes two columns as input. Hence transpose of np.vstack() is required.\n",
    "X = np.vstack((x_gridflat, y_gridflat)).T\n",
    "\n",
    "prob_contour = model_prob(X).reshape(100,100) "
   ]
  },
  {
   "cell_type": "code",
   "execution_count": 29,
   "id": "da72499a",
   "metadata": {
    "execution": {
     "iopub.execute_input": "2021-11-20T00:24:56.759204Z",
     "iopub.status.busy": "2021-11-20T00:24:56.758616Z",
     "iopub.status.idle": "2021-11-20T00:24:57.066466Z",
     "shell.execute_reply": "2021-11-20T00:24:57.065853Z"
    },
    "papermill": {
     "duration": 0.366275,
     "end_time": "2021-11-20T00:24:57.066618",
     "exception": false,
     "start_time": "2021-11-20T00:24:56.700343",
     "status": "completed"
    },
    "tags": []
   },
   "outputs": [
    {
     "data": {
      "image/png": "[encoded data removed]",
      "text/plain": [
       "<Figure size 720x648 with 1 Axes>"
      ]
     },
     "metadata": {
      "needs_background": "light"
     },
     "output_type": "display_data"
    }
   ],
   "source": [
    "plt.figure(figsize=(10,9))\n",
    "plt.scatter(testing_plot[:,0], testing_plot[:,1], alpha = 0.1, c = y_test.ravel())\n",
    "contours = plt.contour(x_grid,y_grid,prob_contour)\n",
    "plt.title('Probability Contours')\n",
    "plt.clabel(contours, inline = True );"
   ]
  },
  {
   "cell_type": "code",
   "execution_count": null,
   "id": "e81b4ac7",
   "metadata": {
    "papermill": {
     "duration": 0.062035,
     "end_time": "2021-11-20T00:24:57.199042",
     "exception": false,
     "start_time": "2021-11-20T00:24:57.137007",
     "status": "completed"
    },
    "tags": []
   },
   "outputs": [],
   "source": []
  }
 ],
 "metadata": {
  "kernelspec": {
   "display_name": "Python 3",
   "language": "python",
   "name": "python3"
  },
  "language_info": {
   "codemirror_mode": {
    "name": "ipython",
    "version": 3
   },
   "file_extension": ".py",
   "mimetype": "text/x-python",
   "name": "python",
   "nbconvert_exporter": "python",
   "pygments_lexer": "ipython3",
   "version": "3.6.15"
  },
  "papermill": {
   "default_parameters": {},
   "duration": 155.888193,
   "end_time": "2021-11-20T00:24:57.675654",
   "environment_variables": {},
   "exception": null,
   "input_path": "2020-08-11-part2.ipynb",
   "output_path": "2020-08-11-part2.ipynb",
   "parameters": {},
   "start_time": "2021-11-20T00:22:21.787461",
   "version": "2.3.3"
  }
 },
 "nbformat": 4,
 "nbformat_minor": 5
}