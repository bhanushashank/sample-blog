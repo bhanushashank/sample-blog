{
 "cells": [
  {
   "cell_type": "markdown",
   "id": "98380cd3",
   "metadata": {
    "papermill": {
     "duration": 0.035714,
     "end_time": "2021-09-04T00:19:22.171991",
     "exception": false,
     "start_time": "2021-09-04T00:19:22.136277",
     "status": "completed"
    },
    "tags": []
   },
   "source": [
    "# Distinguish Your Own Digits (DYOD)"
   ]
  },
  {
   "cell_type": "markdown",
   "id": "ef31240d",
   "metadata": {
    "papermill": {
     "duration": 0.0285,
     "end_time": "2021-09-04T00:19:22.231477",
     "exception": false,
     "start_time": "2021-09-04T00:19:22.202977",
     "status": "completed"
    },
    "tags": []
   },
   "source": [
    "You are going to write a classifier that distinguishes between the number 3 and number 8."
   ]
  },
  {
   "cell_type": "code",
   "execution_count": 1,
   "id": "b15c8646",
   "metadata": {
    "execution": {
     "iopub.execute_input": "2021-09-04T00:19:22.302993Z",
     "iopub.status.busy": "2021-09-04T00:19:22.302369Z",
     "iopub.status.idle": "2021-09-04T00:19:22.313283Z",
     "shell.execute_reply": "2021-09-04T00:19:22.312787Z"
    },
    "papermill": {
     "duration": 0.051354,
     "end_time": "2021-09-04T00:19:22.313433",
     "exception": false,
     "start_time": "2021-09-04T00:19:22.262079",
     "status": "completed"
    },
    "tags": []
   },
   "outputs": [],
   "source": [
    "%load_ext autoreload\n",
    "%autoreload 2"
   ]
  },
  {
   "cell_type": "code",
   "execution_count": 2,
   "id": "22ef38dc",
   "metadata": {
    "execution": {
     "iopub.execute_input": "2021-09-04T00:19:22.377783Z",
     "iopub.status.busy": "2021-09-04T00:19:22.377098Z",
     "iopub.status.idle": "2021-09-04T00:19:22.983089Z",
     "shell.execute_reply": "2021-09-04T00:19:22.982516Z"
    },
    "papermill": {
     "duration": 0.641642,
     "end_time": "2021-09-04T00:19:22.983239",
     "exception": false,
     "start_time": "2021-09-04T00:19:22.341597",
     "status": "completed"
    },
    "tags": []
   },
   "outputs": [],
   "source": [
    "%matplotlib inline\n",
    "import numpy as np\n",
    "import matplotlib.pyplot as plt\n",
    "import pandas as pd"
   ]
  },
  {
   "cell_type": "markdown",
   "id": "ba036198",
   "metadata": {
    "papermill": {
     "duration": 0.032523,
     "end_time": "2021-09-04T00:19:23.046641",
     "exception": false,
     "start_time": "2021-09-04T00:19:23.014118",
     "status": "completed"
    },
    "tags": []
   },
   "source": [
    "From the command line run `pip install mnist`. This is a library that will help you bring down the mnist dataset. If you run this from a notebook, you need to put  `!pip install mnist` in a cell by itself."
   ]
  },
  {
   "cell_type": "code",
   "execution_count": 3,
   "id": "bb6ad8a1",
   "metadata": {
    "execution": {
     "iopub.execute_input": "2021-09-04T00:19:23.118454Z",
     "iopub.status.busy": "2021-09-04T00:19:23.117297Z",
     "iopub.status.idle": "2021-09-04T00:19:25.125176Z",
     "shell.execute_reply": "2021-09-04T00:19:25.124269Z"
    },
    "papermill": {
     "duration": 2.046874,
     "end_time": "2021-09-04T00:19:25.125313",
     "exception": false,
     "start_time": "2021-09-04T00:19:23.078439",
     "status": "completed"
    },
    "tags": []
   },
   "outputs": [
    {
     "name": "stdout",
     "output_type": "stream",
     "text": [
      "Collecting mnist\r\n"
     ]
    },
    {
     "name": "stdout",
     "output_type": "stream",
     "text": [
      "  Downloading mnist-0.2.2-py2.py3-none-any.whl (3.5 kB)\r\n",
      "Requirement already satisfied: numpy in /opt/hostedtoolcache/Python/3.6.14/x64/lib/python3.6/site-packages (from mnist) (1.19.5)\r\n"
     ]
    },
    {
     "name": "stdout",
     "output_type": "stream",
     "text": [
      "Installing collected packages: mnist\r\n"
     ]
    },
    {
     "name": "stdout",
     "output_type": "stream",
     "text": [
      "Successfully installed mnist-0.2.2\r\n"
     ]
    }
   ],
   "source": [
    "!pip install mnist"
   ]
  },
  {
   "cell_type": "markdown",
   "id": "69df9c9a",
   "metadata": {
    "papermill": {
     "duration": 0.032292,
     "end_time": "2021-09-04T00:19:25.190692",
     "exception": false,
     "start_time": "2021-09-04T00:19:25.158400",
     "status": "completed"
    },
    "tags": []
   },
   "source": [
    "## Preparing the Data"
   ]
  },
  {
   "cell_type": "code",
   "execution_count": 4,
   "id": "7f69d806",
   "metadata": {
    "execution": {
     "iopub.execute_input": "2021-09-04T00:19:25.259026Z",
     "iopub.status.busy": "2021-09-04T00:19:25.253877Z",
     "iopub.status.idle": "2021-09-04T00:19:25.269885Z",
     "shell.execute_reply": "2021-09-04T00:19:25.270332Z"
    },
    "papermill": {
     "duration": 0.049312,
     "end_time": "2021-09-04T00:19:25.270465",
     "exception": false,
     "start_time": "2021-09-04T00:19:25.221153",
     "status": "completed"
    },
    "tags": []
   },
   "outputs": [],
   "source": [
    "import mnist"
   ]
  },
  {
   "cell_type": "code",
   "execution_count": 5,
   "id": "a411e44f",
   "metadata": {
    "execution": {
     "iopub.execute_input": "2021-09-04T00:19:25.336596Z",
     "iopub.status.busy": "2021-09-04T00:19:25.332110Z",
     "iopub.status.idle": "2021-09-04T00:19:25.974561Z",
     "shell.execute_reply": "2021-09-04T00:19:25.974000Z"
    },
    "papermill": {
     "duration": 0.674606,
     "end_time": "2021-09-04T00:19:25.974719",
     "exception": false,
     "start_time": "2021-09-04T00:19:25.300113",
     "status": "completed"
    },
    "tags": []
   },
   "outputs": [],
   "source": [
    "train_images = mnist.train_images()\n",
    "train_labels = mnist.train_labels()"
   ]
  },
  {
   "cell_type": "code",
   "execution_count": 6,
   "id": "dceab3a5",
   "metadata": {
    "execution": {
     "iopub.execute_input": "2021-09-04T00:19:26.041057Z",
     "iopub.status.busy": "2021-09-04T00:19:26.040414Z",
     "iopub.status.idle": "2021-09-04T00:19:26.055876Z",
     "shell.execute_reply": "2021-09-04T00:19:26.056448Z"
    },
    "papermill": {
     "duration": 0.051824,
     "end_time": "2021-09-04T00:19:26.056789",
     "exception": false,
     "start_time": "2021-09-04T00:19:26.004965",
     "status": "completed"
    },
    "tags": []
   },
   "outputs": [
    {
     "data": {
      "text/plain": [
       "((60000, 28, 28), (60000,))"
      ]
     },
     "execution_count": 6,
     "metadata": {},
     "output_type": "execute_result"
    }
   ],
   "source": [
    "train_images.shape, train_labels.shape"
   ]
  },
  {
   "cell_type": "code",
   "execution_count": 7,
   "id": "f50dc2bb",
   "metadata": {
    "execution": {
     "iopub.execute_input": "2021-09-04T00:19:26.124984Z",
     "iopub.status.busy": "2021-09-04T00:19:26.124378Z",
     "iopub.status.idle": "2021-09-04T00:19:26.382845Z",
     "shell.execute_reply": "2021-09-04T00:19:26.381820Z"
    },
    "papermill": {
     "duration": 0.295147,
     "end_time": "2021-09-04T00:19:26.382981",
     "exception": false,
     "start_time": "2021-09-04T00:19:26.087834",
     "status": "completed"
    },
    "tags": []
   },
   "outputs": [],
   "source": [
    "test_images = mnist.test_images()\n",
    "test_labels = mnist.test_labels()"
   ]
  },
  {
   "cell_type": "code",
   "execution_count": 8,
   "id": "fc38cf1b",
   "metadata": {
    "execution": {
     "iopub.execute_input": "2021-09-04T00:19:26.454199Z",
     "iopub.status.busy": "2021-09-04T00:19:26.453581Z",
     "iopub.status.idle": "2021-09-04T00:19:26.466787Z",
     "shell.execute_reply": "2021-09-04T00:19:26.467460Z"
    },
    "papermill": {
     "duration": 0.051028,
     "end_time": "2021-09-04T00:19:26.467607",
     "exception": false,
     "start_time": "2021-09-04T00:19:26.416579",
     "status": "completed"
    },
    "tags": []
   },
   "outputs": [
    {
     "data": {
      "text/plain": [
       "((10000, 28, 28), (10000,))"
      ]
     },
     "execution_count": 8,
     "metadata": {},
     "output_type": "execute_result"
    }
   ],
   "source": [
    "test_images.shape, test_labels.shape"
   ]
  },
  {
   "cell_type": "code",
   "execution_count": 9,
   "id": "f9ed8fe0",
   "metadata": {
    "execution": {
     "iopub.execute_input": "2021-09-04T00:19:26.531699Z",
     "iopub.status.busy": "2021-09-04T00:19:26.531112Z",
     "iopub.status.idle": "2021-09-04T00:19:26.701130Z",
     "shell.execute_reply": "2021-09-04T00:19:26.701606Z"
    },
    "papermill": {
     "duration": 0.204044,
     "end_time": "2021-09-04T00:19:26.701752",
     "exception": false,
     "start_time": "2021-09-04T00:19:26.497708",
     "status": "completed"
    },
    "tags": []
   },
   "outputs": [
    {
     "name": "stdout",
     "output_type": "stream",
     "text": [
      "2\n"
     ]
    },
    {
     "data": {
      "text/plain": [
       "<matplotlib.image.AxesImage at 0x7f71c3235dd8>"
      ]
     },
     "execution_count": 9,
     "metadata": {},
     "output_type": "execute_result"
    },
    {
     "data": {
      "image/png": "[encoded data removed]",
      "text/plain": [
       "<Figure size 432x288 with 1 Axes>"
      ]
     },
     "metadata": {
      "needs_background": "light"
     },
     "output_type": "display_data"
    }
   ],
   "source": [
    "image_index = 7776 # You may select anything up to 60,000\n",
    "print(train_labels[image_index]) \n",
    "plt.imshow(train_images[image_index], cmap='Greys')"
   ]
  },
  {
   "cell_type": "markdown",
   "id": "a8d2388d",
   "metadata": {
    "papermill": {
     "duration": 0.033797,
     "end_time": "2021-09-04T00:19:26.766033",
     "exception": false,
     "start_time": "2021-09-04T00:19:26.732236",
     "status": "completed"
    },
    "tags": []
   },
   "source": [
    "## Filter data to get 3 and 8 out"
   ]
  },
  {
   "cell_type": "code",
   "execution_count": 10,
   "id": "776f7fc7",
   "metadata": {
    "execution": {
     "iopub.execute_input": "2021-09-04T00:19:26.835229Z",
     "iopub.status.busy": "2021-09-04T00:19:26.834491Z",
     "iopub.status.idle": "2021-09-04T00:19:26.850634Z",
     "shell.execute_reply": "2021-09-04T00:19:26.851122Z"
    },
    "papermill": {
     "duration": 0.05291,
     "end_time": "2021-09-04T00:19:26.851291",
     "exception": false,
     "start_time": "2021-09-04T00:19:26.798381",
     "status": "completed"
    },
    "tags": []
   },
   "outputs": [],
   "source": [
    "train_filter = np.where((train_labels == 3 ) | (train_labels == 8))\n",
    "test_filter = np.where((test_labels == 3) | (test_labels == 8))\n",
    "X_train, y_train = train_images[train_filter], train_labels[train_filter]\n",
    "X_test, y_test = test_images[test_filter], test_labels[test_filter]"
   ]
  },
  {
   "cell_type": "markdown",
   "id": "948f0b7e",
   "metadata": {
    "papermill": {
     "duration": 0.034461,
     "end_time": "2021-09-04T00:19:26.917895",
     "exception": false,
     "start_time": "2021-09-04T00:19:26.883434",
     "status": "completed"
    },
    "tags": []
   },
   "source": [
    "We normalize the pizel values in the 0 to 1 range"
   ]
  },
  {
   "cell_type": "code",
   "execution_count": 11,
   "id": "ee4c2166",
   "metadata": {
    "execution": {
     "iopub.execute_input": "2021-09-04T00:19:26.990075Z",
     "iopub.status.busy": "2021-09-04T00:19:26.986147Z",
     "iopub.status.idle": "2021-09-04T00:19:27.047943Z",
     "shell.execute_reply": "2021-09-04T00:19:27.047013Z"
    },
    "papermill": {
     "duration": 0.099181,
     "end_time": "2021-09-04T00:19:27.048075",
     "exception": false,
     "start_time": "2021-09-04T00:19:26.948894",
     "status": "completed"
    },
    "tags": []
   },
   "outputs": [],
   "source": [
    "X_train = X_train/255.\n",
    "X_test = X_test/255."
   ]
  },
  {
   "cell_type": "markdown",
   "id": "ddcf4fab",
   "metadata": {
    "papermill": {
     "duration": 0.031015,
     "end_time": "2021-09-04T00:19:27.114159",
     "exception": false,
     "start_time": "2021-09-04T00:19:27.083144",
     "status": "completed"
    },
    "tags": []
   },
   "source": [
    "And setup the labels as 1 (when the digit is 3) and 0 (when the digit is 8)"
   ]
  },
  {
   "cell_type": "code",
   "execution_count": 12,
   "id": "7dc908f2",
   "metadata": {
    "execution": {
     "iopub.execute_input": "2021-09-04T00:19:27.184635Z",
     "iopub.status.busy": "2021-09-04T00:19:27.183451Z",
     "iopub.status.idle": "2021-09-04T00:19:27.195312Z",
     "shell.execute_reply": "2021-09-04T00:19:27.195780Z"
    },
    "papermill": {
     "duration": 0.048625,
     "end_time": "2021-09-04T00:19:27.195915",
     "exception": false,
     "start_time": "2021-09-04T00:19:27.147290",
     "status": "completed"
    },
    "tags": []
   },
   "outputs": [],
   "source": [
    "y_train = 1*(y_train==3)\n",
    "y_test = 1*(y_test==3)"
   ]
  },
  {
   "cell_type": "code",
   "execution_count": 13,
   "id": "01e4e969",
   "metadata": {
    "execution": {
     "iopub.execute_input": "2021-09-04T00:19:27.271206Z",
     "iopub.status.busy": "2021-09-04T00:19:27.264584Z",
     "iopub.status.idle": "2021-09-04T00:19:27.280878Z",
     "shell.execute_reply": "2021-09-04T00:19:27.281482Z"
    },
    "papermill": {
     "duration": 0.052494,
     "end_time": "2021-09-04T00:19:27.281638",
     "exception": false,
     "start_time": "2021-09-04T00:19:27.229144",
     "status": "completed"
    },
    "tags": []
   },
   "outputs": [
    {
     "data": {
      "text/plain": [
       "((11982, 28, 28), (1984, 28, 28))"
      ]
     },
     "execution_count": 13,
     "metadata": {},
     "output_type": "execute_result"
    }
   ],
   "source": [
    "X_train.shape, X_test.shape"
   ]
  },
  {
   "cell_type": "markdown",
   "id": "5ccf3f85",
   "metadata": {
    "papermill": {
     "duration": 0.032546,
     "end_time": "2021-09-04T00:19:27.356167",
     "exception": false,
     "start_time": "2021-09-04T00:19:27.323621",
     "status": "completed"
    },
    "tags": []
   },
   "source": [
    "We reshape the data to flatten the image pixels into a set of features or co-variates:"
   ]
  },
  {
   "cell_type": "code",
   "execution_count": 14,
   "id": "5286a4a3",
   "metadata": {
    "execution": {
     "iopub.execute_input": "2021-09-04T00:19:27.429280Z",
     "iopub.status.busy": "2021-09-04T00:19:27.428646Z",
     "iopub.status.idle": "2021-09-04T00:19:27.441976Z",
     "shell.execute_reply": "2021-09-04T00:19:27.442472Z"
    },
    "papermill": {
     "duration": 0.053811,
     "end_time": "2021-09-04T00:19:27.442615",
     "exception": false,
     "start_time": "2021-09-04T00:19:27.388804",
     "status": "completed"
    },
    "tags": []
   },
   "outputs": [
    {
     "data": {
      "text/plain": [
       "((11982, 784), (1984, 784))"
      ]
     },
     "execution_count": 14,
     "metadata": {},
     "output_type": "execute_result"
    }
   ],
   "source": [
    "X_train = X_train.reshape(X_train.shape[0], -1)\n",
    "X_test = X_test.reshape(X_test.shape[0], -1)\n",
    "X_train.shape, X_test.shape"
   ]
  },
  {
   "cell_type": "code",
   "execution_count": 15,
   "id": "73c5f88a",
   "metadata": {
    "execution": {
     "iopub.execute_input": "2021-09-04T00:19:27.510361Z",
     "iopub.status.busy": "2021-09-04T00:19:27.509754Z",
     "iopub.status.idle": "2021-09-04T00:19:27.529917Z",
     "shell.execute_reply": "2021-09-04T00:19:27.529438Z"
    },
    "papermill": {
     "duration": 0.055553,
     "end_time": "2021-09-04T00:19:27.530044",
     "exception": false,
     "start_time": "2021-09-04T00:19:27.474491",
     "status": "completed"
    },
    "tags": []
   },
   "outputs": [],
   "source": [
    "#Impoting functions from 'Kudzu'\n",
    "from kudzu.model import Model\n",
    "from kudzu.train import Learner\n",
    "from kudzu.optim import GD\n",
    "from kudzu.data import Data, Sampler,Dataloader\n",
    "\n",
    "from kudzu.callbacks import AccCallback\n",
    "from kudzu.callbacks import ClfCallback\n",
    "\n",
    "from kudzu.loss import MSE\n",
    "\n",
    "from kudzu.layer import Sigmoid,Relu\n",
    "from kudzu.layer import Affine"
   ]
  },
  {
   "cell_type": "markdown",
   "id": "bc01172a",
   "metadata": {
    "papermill": {
     "duration": 0.038191,
     "end_time": "2021-09-04T00:19:27.604397",
     "exception": false,
     "start_time": "2021-09-04T00:19:27.566206",
     "status": "completed"
    },
    "tags": []
   },
   "source": [
    "### Let us create a `Config` class, to store important parameters. \n",
    "This class essentially plays the role of a dictionary."
   ]
  },
  {
   "cell_type": "code",
   "execution_count": 16,
   "id": "978281aa",
   "metadata": {
    "execution": {
     "iopub.execute_input": "2021-09-04T00:19:27.685808Z",
     "iopub.status.busy": "2021-09-04T00:19:27.685210Z",
     "iopub.status.idle": "2021-09-04T00:19:27.695308Z",
     "shell.execute_reply": "2021-09-04T00:19:27.694819Z"
    },
    "papermill": {
     "duration": 0.053188,
     "end_time": "2021-09-04T00:19:27.695424",
     "exception": false,
     "start_time": "2021-09-04T00:19:27.642236",
     "status": "completed"
    },
    "tags": []
   },
   "outputs": [],
   "source": [
    "class Config:\n",
    "    pass\n",
    "config = Config()\n",
    "config.lr = 0.001\n",
    "config.num_epochs = 250\n",
    "config.bs = 50"
   ]
  },
  {
   "cell_type": "markdown",
   "id": "1385fa59",
   "metadata": {
    "papermill": {
     "duration": 0.032141,
     "end_time": "2021-09-04T00:19:27.761033",
     "exception": false,
     "start_time": "2021-09-04T00:19:27.728892",
     "status": "completed"
    },
    "tags": []
   },
   "source": [
    "### Running Models with the Training data\n",
    "Details about the network layers:\n",
    "- A first affine layer has 784 inputs and does 100 affine transforms. These are followed by a Relu\n",
    "- A second affine layer has 100 inputs from the 100 activations of the past layer, and does 100 affine transforms. These are followed by a Relu\n",
    "- A third affine layer has 100 activations and does 2 affine transformations to create an embedding for visualization. There is no non-linearity here.\n",
    "- A final \"logistic regression\" which has an affine transform from 2 inputs to 1 output, which is squeezed through a sigmoid.\n"
   ]
  },
  {
   "cell_type": "code",
   "execution_count": 17,
   "id": "2b9c66db",
   "metadata": {
    "execution": {
     "iopub.execute_input": "2021-09-04T00:19:27.836358Z",
     "iopub.status.busy": "2021-09-04T00:19:27.834923Z",
     "iopub.status.idle": "2021-09-04T00:19:27.848415Z",
     "shell.execute_reply": "2021-09-04T00:19:27.847826Z"
    },
    "papermill": {
     "duration": 0.054924,
     "end_time": "2021-09-04T00:19:27.848530",
     "exception": false,
     "start_time": "2021-09-04T00:19:27.793606",
     "status": "completed"
    },
    "tags": []
   },
   "outputs": [],
   "source": [
    "data = Data(X_train, y_train.reshape(-1,1))\n",
    "sampler = Sampler(data, config.bs, shuffle=True)\n",
    "\n",
    "dl = Dataloader(data, sampler)\n",
    "\n",
    "opt = GD(config.lr)\n",
    "loss = MSE()"
   ]
  },
  {
   "cell_type": "code",
   "execution_count": 18,
   "id": "b275e4c2",
   "metadata": {
    "execution": {
     "iopub.execute_input": "2021-09-04T00:19:27.917971Z",
     "iopub.status.busy": "2021-09-04T00:19:27.917400Z",
     "iopub.status.idle": "2021-09-04T00:19:27.928266Z",
     "shell.execute_reply": "2021-09-04T00:19:27.927778Z"
    },
    "papermill": {
     "duration": 0.047869,
     "end_time": "2021-09-04T00:19:27.928377",
     "exception": false,
     "start_time": "2021-09-04T00:19:27.880508",
     "status": "completed"
    },
    "tags": []
   },
   "outputs": [],
   "source": [
    "training_data_x = X_train\n",
    "testing_data_x = X_test\n",
    "training_data_y = y_train.reshape(-1,1)\n",
    "testing_data_y = y_test.reshape(-1,1)"
   ]
  },
  {
   "cell_type": "code",
   "execution_count": 19,
   "id": "76951160",
   "metadata": {
    "execution": {
     "iopub.execute_input": "2021-09-04T00:19:27.995693Z",
     "iopub.status.busy": "2021-09-04T00:19:27.995054Z",
     "iopub.status.idle": "2021-09-04T00:19:28.015632Z",
     "shell.execute_reply": "2021-09-04T00:19:28.016224Z"
    },
    "papermill": {
     "duration": 0.056924,
     "end_time": "2021-09-04T00:19:28.016376",
     "exception": false,
     "start_time": "2021-09-04T00:19:27.959452",
     "status": "completed"
    },
    "tags": []
   },
   "outputs": [
    {
     "name": "stdout",
     "output_type": "stream",
     "text": [
      "xavier\n",
      "xavier\n",
      "xavier\n",
      "xavier\n",
      "xavier\n"
     ]
    }
   ],
   "source": [
    "layers = [Affine(\"first\", 784, 100), Relu(\"first\"), Affine(\"second\", 100, 100), Relu(\"second\"), Affine(\"third\", 100, 2), Affine(\"last\", 2, 1), Sigmoid(\"last\")]\n",
    "model_nn = Model(layers)\n",
    "model_lr = Model([Affine(\"logits\", 784, 1), Sigmoid(\"sigmoid\")])"
   ]
  },
  {
   "cell_type": "code",
   "execution_count": 20,
   "id": "6eede77a",
   "metadata": {
    "execution": {
     "iopub.execute_input": "2021-09-04T00:19:28.096559Z",
     "iopub.status.busy": "2021-09-04T00:19:28.095815Z",
     "iopub.status.idle": "2021-09-04T00:19:28.109050Z",
     "shell.execute_reply": "2021-09-04T00:19:28.108560Z"
    },
    "papermill": {
     "duration": 0.057754,
     "end_time": "2021-09-04T00:19:28.109166",
     "exception": false,
     "start_time": "2021-09-04T00:19:28.051412",
     "status": "completed"
    },
    "tags": []
   },
   "outputs": [],
   "source": [
    "nn_learner = Learner(loss, model_nn, opt, config.num_epochs)\n",
    "acc_nn = ClfCallback(nn_learner, config.bs, training_data_x , testing_data_x, training_data_y, testing_data_y)\n",
    "nn_learner.set_callbacks([acc_nn])"
   ]
  },
  {
   "cell_type": "code",
   "execution_count": 21,
   "id": "877b6cc7",
   "metadata": {
    "execution": {
     "iopub.execute_input": "2021-09-04T00:19:28.184537Z",
     "iopub.status.busy": "2021-09-04T00:19:28.183792Z",
     "iopub.status.idle": "2021-09-04T00:19:28.197433Z",
     "shell.execute_reply": "2021-09-04T00:19:28.198099Z"
    },
    "papermill": {
     "duration": 0.053086,
     "end_time": "2021-09-04T00:19:28.198237",
     "exception": false,
     "start_time": "2021-09-04T00:19:28.145151",
     "status": "completed"
    },
    "tags": []
   },
   "outputs": [],
   "source": [
    "lr_learner = Learner(loss, model_lr, opt, config.num_epochs)\n",
    "acc_lr = ClfCallback(lr_learner, config.bs, training_data_x , testing_data_x, training_data_y, testing_data_y)\n",
    "lr_learner.set_callbacks([acc_lr])"
   ]
  },
  {
   "cell_type": "code",
   "execution_count": 22,
   "id": "d9b133c3",
   "metadata": {
    "execution": {
     "iopub.execute_input": "2021-09-04T00:19:28.271070Z",
     "iopub.status.busy": "2021-09-04T00:19:28.270402Z",
     "iopub.status.idle": "2021-09-04T00:21:33.235316Z",
     "shell.execute_reply": "2021-09-04T00:21:33.234806Z"
    },
    "papermill": {
     "duration": 125.004053,
     "end_time": "2021-09-04T00:21:33.235460",
     "exception": false,
     "start_time": "2021-09-04T00:19:28.231407",
     "status": "completed"
    },
    "tags": []
   },
   "outputs": [
    {
     "name": "stdout",
     "output_type": "stream",
     "text": [
      "Epoch 0, Loss 0.2364\n",
      "Training Accuracy: 0.7375, Testing Accuracy: 0.7379\n",
      "\n"
     ]
    },
    {
     "name": "stdout",
     "output_type": "stream",
     "text": [
      "Epoch 10, Loss 0.07\n",
      "Training Accuracy: 0.9260, Testing Accuracy: 0.9315\n",
      "\n"
     ]
    },
    {
     "name": "stdout",
     "output_type": "stream",
     "text": [
      "Epoch 20, Loss 0.046\n",
      "Training Accuracy: 0.9494, Testing Accuracy: 0.9551\n",
      "\n"
     ]
    },
    {
     "name": "stdout",
     "output_type": "stream",
     "text": [
      "Epoch 30, Loss 0.0373\n",
      "Training Accuracy: 0.9579, Testing Accuracy: 0.9637\n",
      "\n"
     ]
    },
    {
     "name": "stdout",
     "output_type": "stream",
     "text": [
      "Epoch 40, Loss 0.0328\n",
      "Training Accuracy: 0.9624, Testing Accuracy: 0.9677\n",
      "\n"
     ]
    },
    {
     "name": "stdout",
     "output_type": "stream",
     "text": [
      "Epoch 50, Loss 0.0299\n",
      "Training Accuracy: 0.9659, Testing Accuracy: 0.9708\n",
      "\n"
     ]
    },
    {
     "name": "stdout",
     "output_type": "stream",
     "text": [
      "Epoch 60, Loss 0.0279\n",
      "Training Accuracy: 0.9684, Testing Accuracy: 0.9713\n",
      "\n"
     ]
    },
    {
     "name": "stdout",
     "output_type": "stream",
     "text": [
      "Epoch 70, Loss 0.0263\n",
      "Training Accuracy: 0.9702, Testing Accuracy: 0.9723\n",
      "\n"
     ]
    },
    {
     "name": "stdout",
     "output_type": "stream",
     "text": [
      "Epoch 80, Loss 0.025\n",
      "Training Accuracy: 0.9716, Testing Accuracy: 0.9723\n",
      "\n"
     ]
    },
    {
     "name": "stdout",
     "output_type": "stream",
     "text": [
      "Epoch 90, Loss 0.0238\n",
      "Training Accuracy: 0.9730, Testing Accuracy: 0.9723\n",
      "\n"
     ]
    },
    {
     "name": "stdout",
     "output_type": "stream",
     "text": [
      "Epoch 100, Loss 0.0228\n",
      "Training Accuracy: 0.9744, Testing Accuracy: 0.9743\n",
      "\n"
     ]
    },
    {
     "name": "stdout",
     "output_type": "stream",
     "text": [
      "Epoch 110, Loss 0.0219\n",
      "Training Accuracy: 0.9755, Testing Accuracy: 0.9748\n",
      "\n"
     ]
    },
    {
     "name": "stdout",
     "output_type": "stream",
     "text": [
      "Epoch 120, Loss 0.021\n",
      "Training Accuracy: 0.9768, Testing Accuracy: 0.9768\n",
      "\n"
     ]
    },
    {
     "name": "stdout",
     "output_type": "stream",
     "text": [
      "Epoch 130, Loss 0.0203\n",
      "Training Accuracy: 0.9777, Testing Accuracy: 0.9778\n",
      "\n"
     ]
    },
    {
     "name": "stdout",
     "output_type": "stream",
     "text": [
      "Epoch 140, Loss 0.0196\n",
      "Training Accuracy: 0.9781, Testing Accuracy: 0.9778\n",
      "\n"
     ]
    },
    {
     "name": "stdout",
     "output_type": "stream",
     "text": [
      "Epoch 150, Loss 0.0189\n",
      "Training Accuracy: 0.9790, Testing Accuracy: 0.9778\n",
      "\n"
     ]
    },
    {
     "name": "stdout",
     "output_type": "stream",
     "text": [
      "Epoch 160, Loss 0.0183\n",
      "Training Accuracy: 0.9800, Testing Accuracy: 0.9783\n",
      "\n"
     ]
    },
    {
     "name": "stdout",
     "output_type": "stream",
     "text": [
      "Epoch 170, Loss 0.0178\n",
      "Training Accuracy: 0.9810, Testing Accuracy: 0.9783\n",
      "\n"
     ]
    },
    {
     "name": "stdout",
     "output_type": "stream",
     "text": [
      "Epoch 180, Loss 0.0172\n",
      "Training Accuracy: 0.9817, Testing Accuracy: 0.9788\n",
      "\n"
     ]
    },
    {
     "name": "stdout",
     "output_type": "stream",
     "text": [
      "Epoch 190, Loss 0.0167\n",
      "Training Accuracy: 0.9827, Testing Accuracy: 0.9788\n",
      "\n"
     ]
    },
    {
     "name": "stdout",
     "output_type": "stream",
     "text": [
      "Epoch 200, Loss 0.0162\n",
      "Training Accuracy: 0.9833, Testing Accuracy: 0.9783\n",
      "\n"
     ]
    },
    {
     "name": "stdout",
     "output_type": "stream",
     "text": [
      "Epoch 210, Loss 0.0158\n",
      "Training Accuracy: 0.9838, Testing Accuracy: 0.9788\n",
      "\n"
     ]
    },
    {
     "name": "stdout",
     "output_type": "stream",
     "text": [
      "Epoch 220, Loss 0.0153\n",
      "Training Accuracy: 0.9844, Testing Accuracy: 0.9783\n",
      "\n"
     ]
    },
    {
     "name": "stdout",
     "output_type": "stream",
     "text": [
      "Epoch 230, Loss 0.0149\n",
      "Training Accuracy: 0.9848, Testing Accuracy: 0.9783\n",
      "\n"
     ]
    },
    {
     "name": "stdout",
     "output_type": "stream",
     "text": [
      "Epoch 240, Loss 0.0145\n",
      "Training Accuracy: 0.9855, Testing Accuracy: 0.9783\n",
      "\n"
     ]
    },
    {
     "data": {
      "text/plain": [
       "0.004667252803819806"
      ]
     },
     "execution_count": 22,
     "metadata": {},
     "output_type": "execute_result"
    }
   ],
   "source": [
    "nn_learner.train_loop(dl)"
   ]
  },
  {
   "cell_type": "code",
   "execution_count": 23,
   "id": "e0163366",
   "metadata": {
    "execution": {
     "iopub.execute_input": "2021-09-04T00:21:33.325209Z",
     "iopub.status.busy": "2021-09-04T00:21:33.324568Z",
     "iopub.status.idle": "2021-09-04T00:21:50.822035Z",
     "shell.execute_reply": "2021-09-04T00:21:50.822888Z"
    },
    "papermill": {
     "duration": 17.547707,
     "end_time": "2021-09-04T00:21:50.823060",
     "exception": false,
     "start_time": "2021-09-04T00:21:33.275353",
     "status": "completed"
    },
    "tags": []
   },
   "outputs": [
    {
     "name": "stdout",
     "output_type": "stream",
     "text": [
      "Epoch 0, Loss 0.2647\n",
      "Training Accuracy: 0.5720, Testing Accuracy: 0.5242\n",
      "\n"
     ]
    },
    {
     "name": "stdout",
     "output_type": "stream",
     "text": [
      "Epoch 10, Loss 0.1068\n",
      "Training Accuracy: 0.9029, Testing Accuracy: 0.9209\n",
      "\n"
     ]
    },
    {
     "name": "stdout",
     "output_type": "stream",
     "text": [
      "Epoch 20, Loss 0.0808\n",
      "Training Accuracy: 0.9270, Testing Accuracy: 0.9400\n",
      "\n"
     ]
    },
    {
     "name": "stdout",
     "output_type": "stream",
     "text": [
      "Epoch 30, Loss 0.069\n",
      "Training Accuracy: 0.9366, Testing Accuracy: 0.9481\n",
      "\n"
     ]
    },
    {
     "name": "stdout",
     "output_type": "stream",
     "text": [
      "Epoch 40, Loss 0.062\n",
      "Training Accuracy: 0.9416, Testing Accuracy: 0.9536\n",
      "\n"
     ]
    },
    {
     "name": "stdout",
     "output_type": "stream",
     "text": [
      "Epoch 50, Loss 0.0573\n",
      "Training Accuracy: 0.9454, Testing Accuracy: 0.9607\n",
      "\n"
     ]
    },
    {
     "name": "stdout",
     "output_type": "stream",
     "text": [
      "Epoch 60, Loss 0.0538\n",
      "Training Accuracy: 0.9473, Testing Accuracy: 0.9607\n",
      "\n"
     ]
    },
    {
     "name": "stdout",
     "output_type": "stream",
     "text": [
      "Epoch 70, Loss 0.0512\n",
      "Training Accuracy: 0.9497, Testing Accuracy: 0.9612\n",
      "\n"
     ]
    },
    {
     "name": "stdout",
     "output_type": "stream",
     "text": [
      "Epoch 80, Loss 0.0491\n",
      "Training Accuracy: 0.9514, Testing Accuracy: 0.9627\n",
      "\n"
     ]
    },
    {
     "name": "stdout",
     "output_type": "stream",
     "text": [
      "Epoch 90, Loss 0.0474\n",
      "Training Accuracy: 0.9523, Testing Accuracy: 0.9647\n",
      "\n"
     ]
    },
    {
     "name": "stdout",
     "output_type": "stream",
     "text": [
      "Epoch 100, Loss 0.0459\n",
      "Training Accuracy: 0.9538, Testing Accuracy: 0.9662\n",
      "\n"
     ]
    },
    {
     "name": "stdout",
     "output_type": "stream",
     "text": [
      "Epoch 110, Loss 0.0447\n",
      "Training Accuracy: 0.9545, Testing Accuracy: 0.9657\n",
      "\n"
     ]
    },
    {
     "name": "stdout",
     "output_type": "stream",
     "text": [
      "Epoch 120, Loss 0.0436\n",
      "Training Accuracy: 0.9557, Testing Accuracy: 0.9657\n",
      "\n"
     ]
    },
    {
     "name": "stdout",
     "output_type": "stream",
     "text": [
      "Epoch 130, Loss 0.0427\n",
      "Training Accuracy: 0.9565, Testing Accuracy: 0.9647\n",
      "\n"
     ]
    },
    {
     "name": "stdout",
     "output_type": "stream",
     "text": [
      "Epoch 140, Loss 0.0419\n",
      "Training Accuracy: 0.9571, Testing Accuracy: 0.9652\n",
      "\n"
     ]
    },
    {
     "name": "stdout",
     "output_type": "stream",
     "text": [
      "Epoch 150, Loss 0.0411\n",
      "Training Accuracy: 0.9576, Testing Accuracy: 0.9657\n",
      "\n"
     ]
    },
    {
     "name": "stdout",
     "output_type": "stream",
     "text": [
      "Epoch 160, Loss 0.0404\n",
      "Training Accuracy: 0.9586, Testing Accuracy: 0.9657\n",
      "\n"
     ]
    },
    {
     "name": "stdout",
     "output_type": "stream",
     "text": [
      "Epoch 170, Loss 0.0398\n",
      "Training Accuracy: 0.9588, Testing Accuracy: 0.9657\n",
      "\n"
     ]
    },
    {
     "name": "stdout",
     "output_type": "stream",
     "text": [
      "Epoch 180, Loss 0.0393\n",
      "Training Accuracy: 0.9595, Testing Accuracy: 0.9662\n",
      "\n"
     ]
    },
    {
     "name": "stdout",
     "output_type": "stream",
     "text": [
      "Epoch 190, Loss 0.0388\n",
      "Training Accuracy: 0.9596, Testing Accuracy: 0.9662\n",
      "\n"
     ]
    },
    {
     "name": "stdout",
     "output_type": "stream",
     "text": [
      "Epoch 200, Loss 0.0383\n",
      "Training Accuracy: 0.9596, Testing Accuracy: 0.9667\n",
      "\n"
     ]
    },
    {
     "name": "stdout",
     "output_type": "stream",
     "text": [
      "Epoch 210, Loss 0.0378\n",
      "Training Accuracy: 0.9596, Testing Accuracy: 0.9672\n",
      "\n"
     ]
    },
    {
     "name": "stdout",
     "output_type": "stream",
     "text": [
      "Epoch 220, Loss 0.0374\n",
      "Training Accuracy: 0.9605, Testing Accuracy: 0.9677\n",
      "\n"
     ]
    },
    {
     "name": "stdout",
     "output_type": "stream",
     "text": [
      "Epoch 230, Loss 0.0371\n",
      "Training Accuracy: 0.9606, Testing Accuracy: 0.9677\n",
      "\n"
     ]
    },
    {
     "name": "stdout",
     "output_type": "stream",
     "text": [
      "Epoch 240, Loss 0.0367\n",
      "Training Accuracy: 0.9609, Testing Accuracy: 0.9677\n",
      "\n"
     ]
    },
    {
     "data": {
      "text/plain": [
       "0.09092568346999275"
      ]
     },
     "execution_count": 23,
     "metadata": {},
     "output_type": "execute_result"
    }
   ],
   "source": [
    "lr_learner.train_loop(dl)"
   ]
  },
  {
   "cell_type": "code",
   "execution_count": 24,
   "id": "ca410940",
   "metadata": {
    "execution": {
     "iopub.execute_input": "2021-09-04T00:21:50.941082Z",
     "iopub.status.busy": "2021-09-04T00:21:50.940417Z",
     "iopub.status.idle": "2021-09-04T00:21:51.209934Z",
     "shell.execute_reply": "2021-09-04T00:21:51.209424Z"
    },
    "papermill": {
     "duration": 0.333577,
     "end_time": "2021-09-04T00:21:51.210068",
     "exception": false,
     "start_time": "2021-09-04T00:21:50.876491",
     "status": "completed"
    },
    "tags": []
   },
   "outputs": [
    {
     "data": {
      "text/plain": [
       "<matplotlib.legend.Legend at 0x7f71b5a8aeb8>"
      ]
     },
     "execution_count": 24,
     "metadata": {},
     "output_type": "execute_result"
    },
    {
     "data": {
      "image/png": "[encoded data removed]",
      "text/plain": [
       "<Figure size 1080x720 with 1 Axes>"
      ]
     },
     "metadata": {
      "needs_background": "light"
     },
     "output_type": "display_data"
    }
   ],
   "source": [
    "#comparing the results of NN and LR\n",
    "plt.figure(figsize=(15,10))\n",
    "\n",
    "# Neural Network plots\n",
    "plt.plot(acc_nn.accuracies, 'r-', label = \"Training Accuracies - NN\")\n",
    "plt.plot(acc_nn.test_accuracies, 'g-', label = \"Testing Accuracies - NN\")\n",
    "\n",
    "# Logistic Regression plots\n",
    "plt.plot(acc_lr.accuracies, 'k-', label = \"Training Accuracies - LR\")\n",
    "plt.plot(acc_lr.test_accuracies, 'b-', label = \"Testing Accuracies - LR\")\n",
    "plt.legend()"
   ]
  },
  {
   "cell_type": "markdown",
   "id": "80dfb35c",
   "metadata": {
    "papermill": {
     "duration": 0.046978,
     "end_time": "2021-09-04T00:21:51.305062",
     "exception": false,
     "start_time": "2021-09-04T00:21:51.258084",
     "status": "completed"
    },
    "tags": []
   },
   "source": [
    "#### Plotting the outputs of this layer of the NN.\n"
   ]
  },
  {
   "cell_type": "code",
   "execution_count": 25,
   "id": "45eb2ff5",
   "metadata": {
    "execution": {
     "iopub.execute_input": "2021-09-04T00:21:51.404368Z",
     "iopub.status.busy": "2021-09-04T00:21:51.403755Z",
     "iopub.status.idle": "2021-09-04T00:21:51.428758Z",
     "shell.execute_reply": "2021-09-04T00:21:51.429508Z"
    },
    "papermill": {
     "duration": 0.077078,
     "end_time": "2021-09-04T00:21:51.429667",
     "exception": false,
     "start_time": "2021-09-04T00:21:51.352589",
     "status": "completed"
    },
    "tags": []
   },
   "outputs": [],
   "source": [
    "new_model = Model(layers[:-2])\n",
    "testing_plot = new_model(testing_data_x)"
   ]
  },
  {
   "cell_type": "code",
   "execution_count": 26,
   "id": "4c0a5485",
   "metadata": {
    "execution": {
     "iopub.execute_input": "2021-09-04T00:21:51.540820Z",
     "iopub.status.busy": "2021-09-04T00:21:51.540241Z",
     "iopub.status.idle": "2021-09-04T00:21:51.757600Z",
     "shell.execute_reply": "2021-09-04T00:21:51.756824Z"
    },
    "papermill": {
     "duration": 0.280001,
     "end_time": "2021-09-04T00:21:51.757737",
     "exception": false,
     "start_time": "2021-09-04T00:21:51.477736",
     "status": "completed"
    },
    "tags": []
   },
   "outputs": [
    {
     "data": {
      "text/plain": [
       "Text(0.5, 1.0, 'Outputs')"
      ]
     },
     "execution_count": 26,
     "metadata": {},
     "output_type": "execute_result"
    },
    {
     "data": {
      "image/png": "[encoded data removed]",
      "text/plain": [
       "<Figure size 576x504 with 1 Axes>"
      ]
     },
     "metadata": {
      "needs_background": "light"
     },
     "output_type": "display_data"
    }
   ],
   "source": [
    "# Plotting the scatter plot of points and color coding by class\n",
    "plt.figure(figsize=(8,7))\n",
    "plt.scatter(testing_plot[:,0], testing_plot[:,1], alpha = 0.1, c = y_test.ravel());\n",
    "plt.title('Outputs')"
   ]
  },
  {
   "cell_type": "markdown",
   "id": "a74fcf8f",
   "metadata": {
    "papermill": {
     "duration": 0.048575,
     "end_time": "2021-09-04T00:21:51.857767",
     "exception": false,
     "start_time": "2021-09-04T00:21:51.809192",
     "status": "completed"
    },
    "tags": []
   },
   "source": [
    "Probability contours"
   ]
  },
  {
   "cell_type": "code",
   "execution_count": 27,
   "id": "d0afc8e3",
   "metadata": {
    "execution": {
     "iopub.execute_input": "2021-09-04T00:21:51.966290Z",
     "iopub.status.busy": "2021-09-04T00:21:51.963502Z",
     "iopub.status.idle": "2021-09-04T00:21:51.976454Z",
     "shell.execute_reply": "2021-09-04T00:21:51.975913Z"
    },
    "papermill": {
     "duration": 0.069289,
     "end_time": "2021-09-04T00:21:51.976596",
     "exception": false,
     "start_time": "2021-09-04T00:21:51.907307",
     "status": "completed"
    },
    "tags": []
   },
   "outputs": [],
   "source": [
    "model_prob = Model(layers[-2:]) "
   ]
  },
  {
   "cell_type": "code",
   "execution_count": 28,
   "id": "9b96e238",
   "metadata": {
    "execution": {
     "iopub.execute_input": "2021-09-04T00:21:52.112485Z",
     "iopub.status.busy": "2021-09-04T00:21:52.109185Z",
     "iopub.status.idle": "2021-09-04T00:21:52.122890Z",
     "shell.execute_reply": "2021-09-04T00:21:52.122213Z"
    },
    "papermill": {
     "duration": 0.096499,
     "end_time": "2021-09-04T00:21:52.123018",
     "exception": false,
     "start_time": "2021-09-04T00:21:52.026519",
     "status": "completed"
    },
    "tags": []
   },
   "outputs": [],
   "source": [
    "#creating the x and y ranges according to the above generated plot.\n",
    "x_range = np.linspace(-4, 1, 100) \n",
    "y_range = np.linspace(-6, 6, 100) \n",
    "x_grid, y_grid = np.meshgrid(x_range, y_range) # x_grid and y_grig are of size 100 X 100\n",
    "\n",
    "# converting x_grid and y_grid to continuous arrays\n",
    "x_gridflat = np.ravel(x_grid)\n",
    "y_gridflat = np.ravel(y_grid)\n",
    "\n",
    "# The last layer of the current model takes two columns as input. Hence transpose of np.vstack() is required.\n",
    "X = np.vstack((x_gridflat, y_gridflat)).T\n",
    "\n",
    "prob_contour = model_prob(X).reshape(100,100) "
   ]
  },
  {
   "cell_type": "code",
   "execution_count": 29,
   "id": "da72499a",
   "metadata": {
    "execution": {
     "iopub.execute_input": "2021-09-04T00:21:52.243986Z",
     "iopub.status.busy": "2021-09-04T00:21:52.243329Z",
     "iopub.status.idle": "2021-09-04T00:21:52.513273Z",
     "shell.execute_reply": "2021-09-04T00:21:52.513751Z"
    },
    "papermill": {
     "duration": 0.328185,
     "end_time": "2021-09-04T00:21:52.513912",
     "exception": false,
     "start_time": "2021-09-04T00:21:52.185727",
     "status": "completed"
    },
    "tags": []
   },
   "outputs": [
    {
     "data": {
      "image/png": "[encoded data removed]",
      "text/plain": [
       "<Figure size 720x648 with 1 Axes>"
      ]
     },
     "metadata": {
      "needs_background": "light"
     },
     "output_type": "display_data"
    }
   ],
   "source": [
    "plt.figure(figsize=(10,9))\n",
    "plt.scatter(testing_plot[:,0], testing_plot[:,1], alpha = 0.1, c = y_test.ravel())\n",
    "contours = plt.contour(x_grid,y_grid,prob_contour)\n",
    "plt.title('Probability Contours')\n",
    "plt.clabel(contours, inline = True );"
   ]
  },
  {
   "cell_type": "code",
   "execution_count": null,
   "id": "e81b4ac7",
   "metadata": {
    "papermill": {
     "duration": 0.054859,
     "end_time": "2021-09-04T00:21:52.624715",
     "exception": false,
     "start_time": "2021-09-04T00:21:52.569856",
     "status": "completed"
    },
    "tags": []
   },
   "outputs": [],
   "source": []
  }
 ],
 "metadata": {
  "kernelspec": {
   "display_name": "Python 3",
   "language": "python",
   "name": "python3"
  },
  "language_info": {
   "codemirror_mode": {
    "name": "ipython",
    "version": 3
   },
   "file_extension": ".py",
   "mimetype": "text/x-python",
   "name": "python",
   "nbconvert_exporter": "python",
   "pygments_lexer": "ipython3",
   "version": "3.6.14"
  },
  "papermill": {
   "default_parameters": {},
   "duration": 152.046563,
   "end_time": "2021-09-04T00:21:53.088098",
   "environment_variables": {},
   "exception": null,
   "input_path": "2020-08-11-part2.ipynb",
   "output_path": "2020-08-11-part2.ipynb",
   "parameters": {},
   "start_time": "2021-09-04T00:19:21.041535",
   "version": "2.3.3"
  }
 },
 "nbformat": 4,
 "nbformat_minor": 5
}