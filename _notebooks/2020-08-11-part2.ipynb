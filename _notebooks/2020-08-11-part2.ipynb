{
 "cells": [
  {
   "cell_type": "markdown",
   "id": "98380cd3",
   "metadata": {
    "papermill": {
     "duration": 0.030632,
     "end_time": "2022-07-18T20:10:27.882324",
     "exception": false,
     "start_time": "2022-07-18T20:10:27.851692",
     "status": "completed"
    },
    "tags": []
   },
   "source": [
    "# Distinguish Your Own Digits (DYOD)"
   ]
  },
  {
   "cell_type": "markdown",
   "id": "ef31240d",
   "metadata": {
    "papermill": {
     "duration": 0.02441,
     "end_time": "2022-07-18T20:10:27.932090",
     "exception": false,
     "start_time": "2022-07-18T20:10:27.907680",
     "status": "completed"
    },
    "tags": []
   },
   "source": [
    "You are going to write a classifier that distinguishes between the number 3 and number 8."
   ]
  },
  {
   "cell_type": "code",
   "execution_count": 1,
   "id": "b15c8646",
   "metadata": {
    "execution": {
     "iopub.execute_input": "2022-07-18T20:10:27.992665Z",
     "iopub.status.busy": "2022-07-18T20:10:27.991938Z",
     "iopub.status.idle": "2022-07-18T20:10:28.005785Z",
     "shell.execute_reply": "2022-07-18T20:10:28.005227Z"
    },
    "papermill": {
     "duration": 0.049743,
     "end_time": "2022-07-18T20:10:28.005949",
     "exception": false,
     "start_time": "2022-07-18T20:10:27.956206",
     "status": "completed"
    },
    "tags": []
   },
   "outputs": [],
   "source": [
    "%load_ext autoreload\n",
    "%autoreload 2"
   ]
  },
  {
   "cell_type": "code",
   "execution_count": 2,
   "id": "22ef38dc",
   "metadata": {
    "execution": {
     "iopub.execute_input": "2022-07-18T20:10:28.061076Z",
     "iopub.status.busy": "2022-07-18T20:10:28.060390Z",
     "iopub.status.idle": "2022-07-18T20:10:28.698696Z",
     "shell.execute_reply": "2022-07-18T20:10:28.698044Z"
    },
    "papermill": {
     "duration": 0.668469,
     "end_time": "2022-07-18T20:10:28.698837",
     "exception": false,
     "start_time": "2022-07-18T20:10:28.030368",
     "status": "completed"
    },
    "tags": []
   },
   "outputs": [],
   "source": [
    "%matplotlib inline\n",
    "import numpy as np\n",
    "import matplotlib.pyplot as plt\n",
    "import pandas as pd"
   ]
  },
  {
   "cell_type": "markdown",
   "id": "ba036198",
   "metadata": {
    "papermill": {
     "duration": 0.024225,
     "end_time": "2022-07-18T20:10:28.747322",
     "exception": false,
     "start_time": "2022-07-18T20:10:28.723097",
     "status": "completed"
    },
    "tags": []
   },
   "source": [
    "From the command line run `pip install mnist`. This is a library that will help you bring down the mnist dataset. If you run this from a notebook, you need to put  `!pip install mnist` in a cell by itself."
   ]
  },
  {
   "cell_type": "code",
   "execution_count": 3,
   "id": "bb6ad8a1",
   "metadata": {
    "execution": {
     "iopub.execute_input": "2022-07-18T20:10:28.802225Z",
     "iopub.status.busy": "2022-07-18T20:10:28.801488Z",
     "iopub.status.idle": "2022-07-18T20:10:31.487812Z",
     "shell.execute_reply": "2022-07-18T20:10:31.488382Z"
    },
    "papermill": {
     "duration": 2.7172,
     "end_time": "2022-07-18T20:10:31.488575",
     "exception": false,
     "start_time": "2022-07-18T20:10:28.771375",
     "status": "completed"
    },
    "tags": []
   },
   "outputs": [
    {
     "name": "stdout",
     "output_type": "stream",
     "text": [
      "Collecting mnist\r\n"
     ]
    },
    {
     "name": "stdout",
     "output_type": "stream",
     "text": [
      "  Downloading mnist-0.2.2-py2.py3-none-any.whl (3.5 kB)\r\n",
      "Requirement already satisfied: numpy in /opt/hostedtoolcache/Python/3.6.15/x64/lib/python3.6/site-packages (from mnist) (1.19.5)\r\n"
     ]
    },
    {
     "name": "stdout",
     "output_type": "stream",
     "text": [
      "Installing collected packages: mnist\r\n",
      "Successfully installed mnist-0.2.2\r\n"
     ]
    }
   ],
   "source": [
    "!pip install mnist"
   ]
  },
  {
   "cell_type": "markdown",
   "id": "69df9c9a",
   "metadata": {
    "papermill": {
     "duration": 0.025093,
     "end_time": "2022-07-18T20:10:31.539041",
     "exception": false,
     "start_time": "2022-07-18T20:10:31.513948",
     "status": "completed"
    },
    "tags": []
   },
   "source": [
    "## Preparing the Data"
   ]
  },
  {
   "cell_type": "code",
   "execution_count": 4,
   "id": "7f69d806",
   "metadata": {
    "execution": {
     "iopub.execute_input": "2022-07-18T20:10:31.594927Z",
     "iopub.status.busy": "2022-07-18T20:10:31.594170Z",
     "iopub.status.idle": "2022-07-18T20:10:31.612006Z",
     "shell.execute_reply": "2022-07-18T20:10:31.611417Z"
    },
    "papermill": {
     "duration": 0.048207,
     "end_time": "2022-07-18T20:10:31.612140",
     "exception": false,
     "start_time": "2022-07-18T20:10:31.563933",
     "status": "completed"
    },
    "tags": []
   },
   "outputs": [],
   "source": [
    "import mnist"
   ]
  },
  {
   "cell_type": "code",
   "execution_count": 5,
   "id": "a411e44f",
   "metadata": {
    "execution": {
     "iopub.execute_input": "2022-07-18T20:10:31.667168Z",
     "iopub.status.busy": "2022-07-18T20:10:31.666514Z",
     "iopub.status.idle": "2022-07-18T20:10:32.280571Z",
     "shell.execute_reply": "2022-07-18T20:10:32.281114Z"
    },
    "papermill": {
     "duration": 0.64416,
     "end_time": "2022-07-18T20:10:32.281302",
     "exception": false,
     "start_time": "2022-07-18T20:10:31.637142",
     "status": "completed"
    },
    "tags": []
   },
   "outputs": [],
   "source": [
    "train_images = mnist.train_images()\n",
    "train_labels = mnist.train_labels()"
   ]
  },
  {
   "cell_type": "code",
   "execution_count": 6,
   "id": "dceab3a5",
   "metadata": {
    "execution": {
     "iopub.execute_input": "2022-07-18T20:10:32.337112Z",
     "iopub.status.busy": "2022-07-18T20:10:32.336464Z",
     "iopub.status.idle": "2022-07-18T20:10:32.356547Z",
     "shell.execute_reply": "2022-07-18T20:10:32.356022Z"
    },
    "papermill": {
     "duration": 0.05002,
     "end_time": "2022-07-18T20:10:32.356682",
     "exception": false,
     "start_time": "2022-07-18T20:10:32.306662",
     "status": "completed"
    },
    "tags": []
   },
   "outputs": [
    {
     "data": {
      "text/plain": [
       "((60000, 28, 28), (60000,))"
      ]
     },
     "execution_count": 6,
     "metadata": {},
     "output_type": "execute_result"
    }
   ],
   "source": [
    "train_images.shape, train_labels.shape"
   ]
  },
  {
   "cell_type": "code",
   "execution_count": 7,
   "id": "f50dc2bb",
   "metadata": {
    "execution": {
     "iopub.execute_input": "2022-07-18T20:10:32.413312Z",
     "iopub.status.busy": "2022-07-18T20:10:32.412633Z",
     "iopub.status.idle": "2022-07-18T20:10:32.618828Z",
     "shell.execute_reply": "2022-07-18T20:10:32.618225Z"
    },
    "papermill": {
     "duration": 0.236975,
     "end_time": "2022-07-18T20:10:32.618976",
     "exception": false,
     "start_time": "2022-07-18T20:10:32.382001",
     "status": "completed"
    },
    "tags": []
   },
   "outputs": [],
   "source": [
    "test_images = mnist.test_images()\n",
    "test_labels = mnist.test_labels()"
   ]
  },
  {
   "cell_type": "code",
   "execution_count": 8,
   "id": "fc38cf1b",
   "metadata": {
    "execution": {
     "iopub.execute_input": "2022-07-18T20:10:32.675609Z",
     "iopub.status.busy": "2022-07-18T20:10:32.674977Z",
     "iopub.status.idle": "2022-07-18T20:10:32.691857Z",
     "shell.execute_reply": "2022-07-18T20:10:32.692320Z"
    },
    "papermill": {
     "duration": 0.047178,
     "end_time": "2022-07-18T20:10:32.692482",
     "exception": false,
     "start_time": "2022-07-18T20:10:32.645304",
     "status": "completed"
    },
    "tags": []
   },
   "outputs": [
    {
     "data": {
      "text/plain": [
       "((10000, 28, 28), (10000,))"
      ]
     },
     "execution_count": 8,
     "metadata": {},
     "output_type": "execute_result"
    }
   ],
   "source": [
    "test_images.shape, test_labels.shape"
   ]
  },
  {
   "cell_type": "code",
   "execution_count": 9,
   "id": "f9ed8fe0",
   "metadata": {
    "execution": {
     "iopub.execute_input": "2022-07-18T20:10:32.748314Z",
     "iopub.status.busy": "2022-07-18T20:10:32.747673Z",
     "iopub.status.idle": "2022-07-18T20:10:32.900253Z",
     "shell.execute_reply": "2022-07-18T20:10:32.900751Z"
    },
    "papermill": {
     "duration": 0.182952,
     "end_time": "2022-07-18T20:10:32.900908",
     "exception": false,
     "start_time": "2022-07-18T20:10:32.717956",
     "status": "completed"
    },
    "tags": []
   },
   "outputs": [
    {
     "name": "stdout",
     "output_type": "stream",
     "text": [
      "2\n"
     ]
    },
    {
     "data": {
      "text/plain": [
       "<matplotlib.image.AxesImage at 0x7f3a396b1438>"
      ]
     },
     "execution_count": 9,
     "metadata": {},
     "output_type": "execute_result"
    },
    {
     "data": {
      "image/png": "[encoded data removed]",
      "text/plain": [
       "<Figure size 432x288 with 1 Axes>"
      ]
     },
     "metadata": {
      "needs_background": "light"
     },
     "output_type": "display_data"
    }
   ],
   "source": [
    "image_index = 7776 # You may select anything up to 60,000\n",
    "print(train_labels[image_index]) \n",
    "plt.imshow(train_images[image_index], cmap='Greys')"
   ]
  },
  {
   "cell_type": "markdown",
   "id": "a8d2388d",
   "metadata": {
    "papermill": {
     "duration": 0.026674,
     "end_time": "2022-07-18T20:10:32.954369",
     "exception": false,
     "start_time": "2022-07-18T20:10:32.927695",
     "status": "completed"
    },
    "tags": []
   },
   "source": [
    "## Filter data to get 3 and 8 out"
   ]
  },
  {
   "cell_type": "code",
   "execution_count": 10,
   "id": "776f7fc7",
   "metadata": {
    "execution": {
     "iopub.execute_input": "2022-07-18T20:10:33.014037Z",
     "iopub.status.busy": "2022-07-18T20:10:33.013330Z",
     "iopub.status.idle": "2022-07-18T20:10:33.036393Z",
     "shell.execute_reply": "2022-07-18T20:10:33.035884Z"
    },
    "papermill": {
     "duration": 0.055418,
     "end_time": "2022-07-18T20:10:33.036529",
     "exception": false,
     "start_time": "2022-07-18T20:10:32.981111",
     "status": "completed"
    },
    "tags": []
   },
   "outputs": [],
   "source": [
    "train_filter = np.where((train_labels == 3 ) | (train_labels == 8))\n",
    "test_filter = np.where((test_labels == 3) | (test_labels == 8))\n",
    "X_train, y_train = train_images[train_filter], train_labels[train_filter]\n",
    "X_test, y_test = test_images[test_filter], test_labels[test_filter]"
   ]
  },
  {
   "cell_type": "markdown",
   "id": "948f0b7e",
   "metadata": {
    "papermill": {
     "duration": 0.026571,
     "end_time": "2022-07-18T20:10:33.089907",
     "exception": false,
     "start_time": "2022-07-18T20:10:33.063336",
     "status": "completed"
    },
    "tags": []
   },
   "source": [
    "We normalize the pizel values in the 0 to 1 range"
   ]
  },
  {
   "cell_type": "code",
   "execution_count": 11,
   "id": "ee4c2166",
   "metadata": {
    "execution": {
     "iopub.execute_input": "2022-07-18T20:10:33.148190Z",
     "iopub.status.busy": "2022-07-18T20:10:33.147543Z",
     "iopub.status.idle": "2022-07-18T20:10:33.200270Z",
     "shell.execute_reply": "2022-07-18T20:10:33.199723Z"
    },
    "papermill": {
     "duration": 0.083439,
     "end_time": "2022-07-18T20:10:33.200411",
     "exception": false,
     "start_time": "2022-07-18T20:10:33.116972",
     "status": "completed"
    },
    "tags": []
   },
   "outputs": [],
   "source": [
    "X_train = X_train/255.\n",
    "X_test = X_test/255."
   ]
  },
  {
   "cell_type": "markdown",
   "id": "ddcf4fab",
   "metadata": {
    "papermill": {
     "duration": 0.026876,
     "end_time": "2022-07-18T20:10:33.254188",
     "exception": false,
     "start_time": "2022-07-18T20:10:33.227312",
     "status": "completed"
    },
    "tags": []
   },
   "source": [
    "And setup the labels as 1 (when the digit is 3) and 0 (when the digit is 8)"
   ]
  },
  {
   "cell_type": "code",
   "execution_count": 12,
   "id": "7dc908f2",
   "metadata": {
    "execution": {
     "iopub.execute_input": "2022-07-18T20:10:33.312576Z",
     "iopub.status.busy": "2022-07-18T20:10:33.311900Z",
     "iopub.status.idle": "2022-07-18T20:10:33.326825Z",
     "shell.execute_reply": "2022-07-18T20:10:33.326279Z"
    },
    "papermill": {
     "duration": 0.046246,
     "end_time": "2022-07-18T20:10:33.326966",
     "exception": false,
     "start_time": "2022-07-18T20:10:33.280720",
     "status": "completed"
    },
    "tags": []
   },
   "outputs": [],
   "source": [
    "y_train = 1*(y_train==3)\n",
    "y_test = 1*(y_test==3)"
   ]
  },
  {
   "cell_type": "code",
   "execution_count": 13,
   "id": "01e4e969",
   "metadata": {
    "execution": {
     "iopub.execute_input": "2022-07-18T20:10:33.385872Z",
     "iopub.status.busy": "2022-07-18T20:10:33.385212Z",
     "iopub.status.idle": "2022-07-18T20:10:33.401584Z",
     "shell.execute_reply": "2022-07-18T20:10:33.402082Z"
    },
    "papermill": {
     "duration": 0.048252,
     "end_time": "2022-07-18T20:10:33.402243",
     "exception": false,
     "start_time": "2022-07-18T20:10:33.353991",
     "status": "completed"
    },
    "tags": []
   },
   "outputs": [
    {
     "data": {
      "text/plain": [
       "((11982, 28, 28), (1984, 28, 28))"
      ]
     },
     "execution_count": 13,
     "metadata": {},
     "output_type": "execute_result"
    }
   ],
   "source": [
    "X_train.shape, X_test.shape"
   ]
  },
  {
   "cell_type": "markdown",
   "id": "5ccf3f85",
   "metadata": {
    "papermill": {
     "duration": 0.026886,
     "end_time": "2022-07-18T20:10:33.455957",
     "exception": false,
     "start_time": "2022-07-18T20:10:33.429071",
     "status": "completed"
    },
    "tags": []
   },
   "source": [
    "We reshape the data to flatten the image pixels into a set of features or co-variates:"
   ]
  },
  {
   "cell_type": "code",
   "execution_count": 14,
   "id": "5286a4a3",
   "metadata": {
    "execution": {
     "iopub.execute_input": "2022-07-18T20:10:33.515286Z",
     "iopub.status.busy": "2022-07-18T20:10:33.514625Z",
     "iopub.status.idle": "2022-07-18T20:10:33.531059Z",
     "shell.execute_reply": "2022-07-18T20:10:33.531565Z"
    },
    "papermill": {
     "duration": 0.0485,
     "end_time": "2022-07-18T20:10:33.531722",
     "exception": false,
     "start_time": "2022-07-18T20:10:33.483222",
     "status": "completed"
    },
    "tags": []
   },
   "outputs": [
    {
     "data": {
      "text/plain": [
       "((11982, 784), (1984, 784))"
      ]
     },
     "execution_count": 14,
     "metadata": {},
     "output_type": "execute_result"
    }
   ],
   "source": [
    "X_train = X_train.reshape(X_train.shape[0], -1)\n",
    "X_test = X_test.reshape(X_test.shape[0], -1)\n",
    "X_train.shape, X_test.shape"
   ]
  },
  {
   "cell_type": "code",
   "execution_count": 15,
   "id": "73c5f88a",
   "metadata": {
    "execution": {
     "iopub.execute_input": "2022-07-18T20:10:33.592231Z",
     "iopub.status.busy": "2022-07-18T20:10:33.591541Z",
     "iopub.status.idle": "2022-07-18T20:10:33.613692Z",
     "shell.execute_reply": "2022-07-18T20:10:33.614263Z"
    },
    "papermill": {
     "duration": 0.055586,
     "end_time": "2022-07-18T20:10:33.614453",
     "exception": false,
     "start_time": "2022-07-18T20:10:33.558867",
     "status": "completed"
    },
    "tags": []
   },
   "outputs": [],
   "source": [
    "#Impoting functions from 'Kudzu'\n",
    "from kudzu.model import Model\n",
    "from kudzu.train import Learner\n",
    "from kudzu.optim import GD\n",
    "from kudzu.data import Data, Sampler,Dataloader\n",
    "\n",
    "from kudzu.callbacks import AccCallback\n",
    "from kudzu.callbacks import ClfCallback\n",
    "\n",
    "from kudzu.loss import MSE\n",
    "\n",
    "from kudzu.layer import Sigmoid,Relu\n",
    "from kudzu.layer import Affine"
   ]
  },
  {
   "cell_type": "markdown",
   "id": "bc01172a",
   "metadata": {
    "papermill": {
     "duration": 0.027153,
     "end_time": "2022-07-18T20:10:33.668989",
     "exception": false,
     "start_time": "2022-07-18T20:10:33.641836",
     "status": "completed"
    },
    "tags": []
   },
   "source": [
    "### Let us create a `Config` class, to store important parameters. \n",
    "This class essentially plays the role of a dictionary."
   ]
  },
  {
   "cell_type": "code",
   "execution_count": 16,
   "id": "978281aa",
   "metadata": {
    "execution": {
     "iopub.execute_input": "2022-07-18T20:10:33.729045Z",
     "iopub.status.busy": "2022-07-18T20:10:33.728403Z",
     "iopub.status.idle": "2022-07-18T20:10:33.743364Z",
     "shell.execute_reply": "2022-07-18T20:10:33.742851Z"
    },
    "papermill": {
     "duration": 0.047429,
     "end_time": "2022-07-18T20:10:33.743503",
     "exception": false,
     "start_time": "2022-07-18T20:10:33.696074",
     "status": "completed"
    },
    "tags": []
   },
   "outputs": [],
   "source": [
    "class Config:\n",
    "    pass\n",
    "config = Config()\n",
    "config.lr = 0.001\n",
    "config.num_epochs = 250\n",
    "config.bs = 50"
   ]
  },
  {
   "cell_type": "markdown",
   "id": "1385fa59",
   "metadata": {
    "papermill": {
     "duration": 0.027224,
     "end_time": "2022-07-18T20:10:33.798185",
     "exception": false,
     "start_time": "2022-07-18T20:10:33.770961",
     "status": "completed"
    },
    "tags": []
   },
   "source": [
    "### Running Models with the Training data\n",
    "Details about the network layers:\n",
    "- A first affine layer has 784 inputs and does 100 affine transforms. These are followed by a Relu\n",
    "- A second affine layer has 100 inputs from the 100 activations of the past layer, and does 100 affine transforms. These are followed by a Relu\n",
    "- A third affine layer has 100 activations and does 2 affine transformations to create an embedding for visualization. There is no non-linearity here.\n",
    "- A final \"logistic regression\" which has an affine transform from 2 inputs to 1 output, which is squeezed through a sigmoid.\n"
   ]
  },
  {
   "cell_type": "code",
   "execution_count": 17,
   "id": "2b9c66db",
   "metadata": {
    "execution": {
     "iopub.execute_input": "2022-07-18T20:10:33.858472Z",
     "iopub.status.busy": "2022-07-18T20:10:33.857785Z",
     "iopub.status.idle": "2022-07-18T20:10:33.872300Z",
     "shell.execute_reply": "2022-07-18T20:10:33.871766Z"
    },
    "papermill": {
     "duration": 0.046995,
     "end_time": "2022-07-18T20:10:33.872431",
     "exception": false,
     "start_time": "2022-07-18T20:10:33.825436",
     "status": "completed"
    },
    "tags": []
   },
   "outputs": [],
   "source": [
    "data = Data(X_train, y_train.reshape(-1,1))\n",
    "sampler = Sampler(data, config.bs, shuffle=True)\n",
    "\n",
    "dl = Dataloader(data, sampler)\n",
    "\n",
    "opt = GD(config.lr)\n",
    "loss = MSE()"
   ]
  },
  {
   "cell_type": "code",
   "execution_count": 18,
   "id": "b275e4c2",
   "metadata": {
    "execution": {
     "iopub.execute_input": "2022-07-18T20:10:33.933273Z",
     "iopub.status.busy": "2022-07-18T20:10:33.932599Z",
     "iopub.status.idle": "2022-07-18T20:10:33.947147Z",
     "shell.execute_reply": "2022-07-18T20:10:33.947649Z"
    },
    "papermill": {
     "duration": 0.047613,
     "end_time": "2022-07-18T20:10:33.947813",
     "exception": false,
     "start_time": "2022-07-18T20:10:33.900200",
     "status": "completed"
    },
    "tags": []
   },
   "outputs": [],
   "source": [
    "training_data_x = X_train\n",
    "testing_data_x = X_test\n",
    "training_data_y = y_train.reshape(-1,1)\n",
    "testing_data_y = y_test.reshape(-1,1)"
   ]
  },
  {
   "cell_type": "code",
   "execution_count": 19,
   "id": "76951160",
   "metadata": {
    "execution": {
     "iopub.execute_input": "2022-07-18T20:10:34.008598Z",
     "iopub.status.busy": "2022-07-18T20:10:34.007929Z",
     "iopub.status.idle": "2022-07-18T20:10:34.028079Z",
     "shell.execute_reply": "2022-07-18T20:10:34.027538Z"
    },
    "papermill": {
     "duration": 0.053091,
     "end_time": "2022-07-18T20:10:34.028217",
     "exception": false,
     "start_time": "2022-07-18T20:10:33.975126",
     "status": "completed"
    },
    "tags": []
   },
   "outputs": [
    {
     "name": "stdout",
     "output_type": "stream",
     "text": [
      "xavier\n",
      "xavier\n",
      "xavier\n",
      "xavier\n",
      "xavier\n"
     ]
    }
   ],
   "source": [
    "layers = [Affine(\"first\", 784, 100), Relu(\"first\"), Affine(\"second\", 100, 100), Relu(\"second\"), Affine(\"third\", 100, 2), Affine(\"last\", 2, 1), Sigmoid(\"last\")]\n",
    "model_nn = Model(layers)\n",
    "model_lr = Model([Affine(\"logits\", 784, 1), Sigmoid(\"sigmoid\")])"
   ]
  },
  {
   "cell_type": "code",
   "execution_count": 20,
   "id": "6eede77a",
   "metadata": {
    "execution": {
     "iopub.execute_input": "2022-07-18T20:10:34.089467Z",
     "iopub.status.busy": "2022-07-18T20:10:34.088787Z",
     "iopub.status.idle": "2022-07-18T20:10:34.104326Z",
     "shell.execute_reply": "2022-07-18T20:10:34.104840Z"
    },
    "papermill": {
     "duration": 0.048944,
     "end_time": "2022-07-18T20:10:34.105001",
     "exception": false,
     "start_time": "2022-07-18T20:10:34.056057",
     "status": "completed"
    },
    "tags": []
   },
   "outputs": [],
   "source": [
    "nn_learner = Learner(loss, model_nn, opt, config.num_epochs)\n",
    "acc_nn = ClfCallback(nn_learner, config.bs, training_data_x , testing_data_x, training_data_y, testing_data_y)\n",
    "nn_learner.set_callbacks([acc_nn])"
   ]
  },
  {
   "cell_type": "code",
   "execution_count": 21,
   "id": "877b6cc7",
   "metadata": {
    "execution": {
     "iopub.execute_input": "2022-07-18T20:10:34.165653Z",
     "iopub.status.busy": "2022-07-18T20:10:34.164943Z",
     "iopub.status.idle": "2022-07-18T20:10:34.180037Z",
     "shell.execute_reply": "2022-07-18T20:10:34.180525Z"
    },
    "papermill": {
     "duration": 0.048174,
     "end_time": "2022-07-18T20:10:34.180693",
     "exception": false,
     "start_time": "2022-07-18T20:10:34.132519",
     "status": "completed"
    },
    "tags": []
   },
   "outputs": [],
   "source": [
    "lr_learner = Learner(loss, model_lr, opt, config.num_epochs)\n",
    "acc_lr = ClfCallback(lr_learner, config.bs, training_data_x , testing_data_x, training_data_y, testing_data_y)\n",
    "lr_learner.set_callbacks([acc_lr])"
   ]
  },
  {
   "cell_type": "code",
   "execution_count": 22,
   "id": "d9b133c3",
   "metadata": {
    "execution": {
     "iopub.execute_input": "2022-07-18T20:10:34.241713Z",
     "iopub.status.busy": "2022-07-18T20:10:34.240949Z",
     "iopub.status.idle": "2022-07-18T20:11:56.626412Z",
     "shell.execute_reply": "2022-07-18T20:11:56.627356Z"
    },
    "papermill": {
     "duration": 82.419113,
     "end_time": "2022-07-18T20:11:56.627523",
     "exception": false,
     "start_time": "2022-07-18T20:10:34.208410",
     "status": "completed"
    },
    "tags": []
   },
   "outputs": [
    {
     "name": "stdout",
     "output_type": "stream",
     "text": [
      "Epoch 0, Loss 0.2449\n",
      "Training Accuracy: 0.6369, Testing Accuracy: 0.6351\n",
      "\n"
     ]
    },
    {
     "name": "stdout",
     "output_type": "stream",
     "text": [
      "Epoch 10, Loss 0.1906\n",
      "Training Accuracy: 0.8710, Testing Accuracy: 0.8710\n",
      "\n"
     ]
    },
    {
     "name": "stdout",
     "output_type": "stream",
     "text": [
      "Epoch 20, Loss 0.0923\n",
      "Training Accuracy: 0.9199, Testing Accuracy: 0.9330\n",
      "\n"
     ]
    },
    {
     "name": "stdout",
     "output_type": "stream",
     "text": [
      "Epoch 30, Loss 0.0581\n",
      "Training Accuracy: 0.9407, Testing Accuracy: 0.9511\n",
      "\n"
     ]
    },
    {
     "name": "stdout",
     "output_type": "stream",
     "text": [
      "Epoch 40, Loss 0.0456\n",
      "Training Accuracy: 0.9502, Testing Accuracy: 0.9602\n",
      "\n"
     ]
    },
    {
     "name": "stdout",
     "output_type": "stream",
     "text": [
      "Epoch 50, Loss 0.0394\n",
      "Training Accuracy: 0.9562, Testing Accuracy: 0.9652\n",
      "\n"
     ]
    },
    {
     "name": "stdout",
     "output_type": "stream",
     "text": [
      "Epoch 60, Loss 0.0356\n",
      "Training Accuracy: 0.9593, Testing Accuracy: 0.9682\n",
      "\n"
     ]
    },
    {
     "name": "stdout",
     "output_type": "stream",
     "text": [
      "Epoch 70, Loss 0.033\n",
      "Training Accuracy: 0.9609, Testing Accuracy: 0.9693\n",
      "\n"
     ]
    },
    {
     "name": "stdout",
     "output_type": "stream",
     "text": [
      "Epoch 80, Loss 0.0311\n",
      "Training Accuracy: 0.9630, Testing Accuracy: 0.9703\n",
      "\n"
     ]
    },
    {
     "name": "stdout",
     "output_type": "stream",
     "text": [
      "Epoch 90, Loss 0.0296\n",
      "Training Accuracy: 0.9654, Testing Accuracy: 0.9728\n",
      "\n"
     ]
    },
    {
     "name": "stdout",
     "output_type": "stream",
     "text": [
      "Epoch 100, Loss 0.0283\n",
      "Training Accuracy: 0.9670, Testing Accuracy: 0.9738\n",
      "\n"
     ]
    },
    {
     "name": "stdout",
     "output_type": "stream",
     "text": [
      "Epoch 110, Loss 0.0273\n",
      "Training Accuracy: 0.9680, Testing Accuracy: 0.9743\n",
      "\n"
     ]
    },
    {
     "name": "stdout",
     "output_type": "stream",
     "text": [
      "Epoch 120, Loss 0.0263\n",
      "Training Accuracy: 0.9686, Testing Accuracy: 0.9743\n",
      "\n"
     ]
    },
    {
     "name": "stdout",
     "output_type": "stream",
     "text": [
      "Epoch 130, Loss 0.0255\n",
      "Training Accuracy: 0.9698, Testing Accuracy: 0.9743\n",
      "\n"
     ]
    },
    {
     "name": "stdout",
     "output_type": "stream",
     "text": [
      "Epoch 140, Loss 0.0248\n",
      "Training Accuracy: 0.9706, Testing Accuracy: 0.9748\n",
      "\n"
     ]
    },
    {
     "name": "stdout",
     "output_type": "stream",
     "text": [
      "Epoch 150, Loss 0.0241\n",
      "Training Accuracy: 0.9715, Testing Accuracy: 0.9753\n",
      "\n"
     ]
    },
    {
     "name": "stdout",
     "output_type": "stream",
     "text": [
      "Epoch 160, Loss 0.0235\n",
      "Training Accuracy: 0.9725, Testing Accuracy: 0.9748\n",
      "\n"
     ]
    },
    {
     "name": "stdout",
     "output_type": "stream",
     "text": [
      "Epoch 170, Loss 0.0229\n",
      "Training Accuracy: 0.9729, Testing Accuracy: 0.9743\n",
      "\n"
     ]
    },
    {
     "name": "stdout",
     "output_type": "stream",
     "text": [
      "Epoch 180, Loss 0.0224\n",
      "Training Accuracy: 0.9740, Testing Accuracy: 0.9753\n",
      "\n"
     ]
    },
    {
     "name": "stdout",
     "output_type": "stream",
     "text": [
      "Epoch 190, Loss 0.0219\n",
      "Training Accuracy: 0.9747, Testing Accuracy: 0.9748\n",
      "\n"
     ]
    },
    {
     "name": "stdout",
     "output_type": "stream",
     "text": [
      "Epoch 200, Loss 0.0214\n",
      "Training Accuracy: 0.9750, Testing Accuracy: 0.9758\n",
      "\n"
     ]
    },
    {
     "name": "stdout",
     "output_type": "stream",
     "text": [
      "Epoch 210, Loss 0.021\n",
      "Training Accuracy: 0.9756, Testing Accuracy: 0.9773\n",
      "\n"
     ]
    },
    {
     "name": "stdout",
     "output_type": "stream",
     "text": [
      "Epoch 220, Loss 0.0205\n",
      "Training Accuracy: 0.9762, Testing Accuracy: 0.9773\n",
      "\n"
     ]
    },
    {
     "name": "stdout",
     "output_type": "stream",
     "text": [
      "Epoch 230, Loss 0.0201\n",
      "Training Accuracy: 0.9768, Testing Accuracy: 0.9768\n",
      "\n"
     ]
    },
    {
     "name": "stdout",
     "output_type": "stream",
     "text": [
      "Epoch 240, Loss 0.0198\n",
      "Training Accuracy: 0.9774, Testing Accuracy: 0.9773\n",
      "\n"
     ]
    },
    {
     "data": {
      "text/plain": [
       "0.024300108138555168"
      ]
     },
     "execution_count": 22,
     "metadata": {},
     "output_type": "execute_result"
    }
   ],
   "source": [
    "nn_learner.train_loop(dl)"
   ]
  },
  {
   "cell_type": "code",
   "execution_count": 23,
   "id": "e0163366",
   "metadata": {
    "execution": {
     "iopub.execute_input": "2022-07-18T20:11:56.711779Z",
     "iopub.status.busy": "2022-07-18T20:11:56.711033Z",
     "iopub.status.idle": "2022-07-18T20:12:11.247404Z",
     "shell.execute_reply": "2022-07-18T20:12:11.246819Z"
    },
    "papermill": {
     "duration": 14.584973,
     "end_time": "2022-07-18T20:12:11.247558",
     "exception": false,
     "start_time": "2022-07-18T20:11:56.662585",
     "status": "completed"
    },
    "tags": []
   },
   "outputs": [
    {
     "name": "stdout",
     "output_type": "stream",
     "text": [
      "Epoch 0, Loss 0.2514\n",
      "Training Accuracy: 0.6393, Testing Accuracy: 0.6633\n",
      "\n"
     ]
    },
    {
     "name": "stdout",
     "output_type": "stream",
     "text": [
      "Epoch 10, Loss 0.1014\n",
      "Training Accuracy: 0.9212, Testing Accuracy: 0.9264\n",
      "\n"
     ]
    },
    {
     "name": "stdout",
     "output_type": "stream",
     "text": [
      "Epoch 20, Loss 0.0776\n",
      "Training Accuracy: 0.9349, Testing Accuracy: 0.9425\n",
      "\n"
     ]
    },
    {
     "name": "stdout",
     "output_type": "stream",
     "text": [
      "Epoch 30, Loss 0.0669\n",
      "Training Accuracy: 0.9409, Testing Accuracy: 0.9491\n",
      "\n"
     ]
    },
    {
     "name": "stdout",
     "output_type": "stream",
     "text": [
      "Epoch 40, Loss 0.0605\n",
      "Training Accuracy: 0.9442, Testing Accuracy: 0.9536\n",
      "\n"
     ]
    },
    {
     "name": "stdout",
     "output_type": "stream",
     "text": [
      "Epoch 50, Loss 0.0561\n",
      "Training Accuracy: 0.9469, Testing Accuracy: 0.9567\n",
      "\n"
     ]
    },
    {
     "name": "stdout",
     "output_type": "stream",
     "text": [
      "Epoch 60, Loss 0.053\n",
      "Training Accuracy: 0.9487, Testing Accuracy: 0.9592\n",
      "\n"
     ]
    },
    {
     "name": "stdout",
     "output_type": "stream",
     "text": [
      "Epoch 70, Loss 0.0505\n",
      "Training Accuracy: 0.9499, Testing Accuracy: 0.9607\n",
      "\n"
     ]
    },
    {
     "name": "stdout",
     "output_type": "stream",
     "text": [
      "Epoch 80, Loss 0.0485\n",
      "Training Accuracy: 0.9519, Testing Accuracy: 0.9612\n",
      "\n"
     ]
    },
    {
     "name": "stdout",
     "output_type": "stream",
     "text": [
      "Epoch 90, Loss 0.0469\n",
      "Training Accuracy: 0.9529, Testing Accuracy: 0.9652\n",
      "\n"
     ]
    },
    {
     "name": "stdout",
     "output_type": "stream",
     "text": [
      "Epoch 100, Loss 0.0455\n",
      "Training Accuracy: 0.9543, Testing Accuracy: 0.9662\n",
      "\n"
     ]
    },
    {
     "name": "stdout",
     "output_type": "stream",
     "text": [
      "Epoch 110, Loss 0.0444\n",
      "Training Accuracy: 0.9548, Testing Accuracy: 0.9672\n",
      "\n"
     ]
    },
    {
     "name": "stdout",
     "output_type": "stream",
     "text": [
      "Epoch 120, Loss 0.0434\n",
      "Training Accuracy: 0.9556, Testing Accuracy: 0.9667\n",
      "\n"
     ]
    },
    {
     "name": "stdout",
     "output_type": "stream",
     "text": [
      "Epoch 130, Loss 0.0425\n",
      "Training Accuracy: 0.9566, Testing Accuracy: 0.9662\n",
      "\n"
     ]
    },
    {
     "name": "stdout",
     "output_type": "stream",
     "text": [
      "Epoch 140, Loss 0.0417\n",
      "Training Accuracy: 0.9569, Testing Accuracy: 0.9657\n",
      "\n"
     ]
    },
    {
     "name": "stdout",
     "output_type": "stream",
     "text": [
      "Epoch 150, Loss 0.0409\n",
      "Training Accuracy: 0.9571, Testing Accuracy: 0.9662\n",
      "\n"
     ]
    },
    {
     "name": "stdout",
     "output_type": "stream",
     "text": [
      "Epoch 160, Loss 0.0403\n",
      "Training Accuracy: 0.9576, Testing Accuracy: 0.9672\n",
      "\n"
     ]
    },
    {
     "name": "stdout",
     "output_type": "stream",
     "text": [
      "Epoch 170, Loss 0.0397\n",
      "Training Accuracy: 0.9584, Testing Accuracy: 0.9672\n",
      "\n"
     ]
    },
    {
     "name": "stdout",
     "output_type": "stream",
     "text": [
      "Epoch 180, Loss 0.0392\n",
      "Training Accuracy: 0.9586, Testing Accuracy: 0.9672\n",
      "\n"
     ]
    },
    {
     "name": "stdout",
     "output_type": "stream",
     "text": [
      "Epoch 190, Loss 0.0387\n",
      "Training Accuracy: 0.9589, Testing Accuracy: 0.9672\n",
      "\n"
     ]
    },
    {
     "name": "stdout",
     "output_type": "stream",
     "text": [
      "Epoch 200, Loss 0.0382\n",
      "Training Accuracy: 0.9595, Testing Accuracy: 0.9672\n",
      "\n"
     ]
    },
    {
     "name": "stdout",
     "output_type": "stream",
     "text": [
      "Epoch 210, Loss 0.0378\n",
      "Training Accuracy: 0.9603, Testing Accuracy: 0.9672\n",
      "\n"
     ]
    },
    {
     "name": "stdout",
     "output_type": "stream",
     "text": [
      "Epoch 220, Loss 0.0374\n",
      "Training Accuracy: 0.9607, Testing Accuracy: 0.9667\n",
      "\n"
     ]
    },
    {
     "name": "stdout",
     "output_type": "stream",
     "text": [
      "Epoch 230, Loss 0.037\n",
      "Training Accuracy: 0.9612, Testing Accuracy: 0.9662\n",
      "\n"
     ]
    },
    {
     "name": "stdout",
     "output_type": "stream",
     "text": [
      "Epoch 240, Loss 0.0366\n",
      "Training Accuracy: 0.9614, Testing Accuracy: 0.9672\n",
      "\n"
     ]
    },
    {
     "data": {
      "text/plain": [
       "0.04649490835838668"
      ]
     },
     "execution_count": 23,
     "metadata": {},
     "output_type": "execute_result"
    }
   ],
   "source": [
    "lr_learner.train_loop(dl)"
   ]
  },
  {
   "cell_type": "code",
   "execution_count": 24,
   "id": "ca410940",
   "metadata": {
    "execution": {
     "iopub.execute_input": "2022-07-18T20:12:11.343922Z",
     "iopub.status.busy": "2022-07-18T20:12:11.343207Z",
     "iopub.status.idle": "2022-07-18T20:12:11.595648Z",
     "shell.execute_reply": "2022-07-18T20:12:11.596155Z"
    },
    "papermill": {
     "duration": 0.306389,
     "end_time": "2022-07-18T20:12:11.596317",
     "exception": false,
     "start_time": "2022-07-18T20:12:11.289928",
     "status": "completed"
    },
    "tags": []
   },
   "outputs": [
    {
     "data": {
      "text/plain": [
       "<matplotlib.legend.Legend at 0x7f3a39213a90>"
      ]
     },
     "execution_count": 24,
     "metadata": {},
     "output_type": "execute_result"
    },
    {
     "data": {
      "image/png": "[encoded data removed]",
      "text/plain": [
       "<Figure size 1080x720 with 1 Axes>"
      ]
     },
     "metadata": {
      "needs_background": "light"
     },
     "output_type": "display_data"
    }
   ],
   "source": [
    "#comparing the results of NN and LR\n",
    "plt.figure(figsize=(15,10))\n",
    "\n",
    "# Neural Network plots\n",
    "plt.plot(acc_nn.accuracies, 'r-', label = \"Training Accuracies - NN\")\n",
    "plt.plot(acc_nn.test_accuracies, 'g-', label = \"Testing Accuracies - NN\")\n",
    "\n",
    "# Logistic Regression plots\n",
    "plt.plot(acc_lr.accuracies, 'k-', label = \"Training Accuracies - LR\")\n",
    "plt.plot(acc_lr.test_accuracies, 'b-', label = \"Testing Accuracies - LR\")\n",
    "plt.legend()"
   ]
  },
  {
   "cell_type": "markdown",
   "id": "80dfb35c",
   "metadata": {
    "papermill": {
     "duration": 0.042823,
     "end_time": "2022-07-18T20:12:11.685584",
     "exception": false,
     "start_time": "2022-07-18T20:12:11.642761",
     "status": "completed"
    },
    "tags": []
   },
   "source": [
    "#### Plotting the outputs of this layer of the NN.\n"
   ]
  },
  {
   "cell_type": "code",
   "execution_count": 25,
   "id": "45eb2ff5",
   "metadata": {
    "execution": {
     "iopub.execute_input": "2022-07-18T20:12:11.775355Z",
     "iopub.status.busy": "2022-07-18T20:12:11.774555Z",
     "iopub.status.idle": "2022-07-18T20:12:11.798920Z",
     "shell.execute_reply": "2022-07-18T20:12:11.799442Z"
    },
    "papermill": {
     "duration": 0.071653,
     "end_time": "2022-07-18T20:12:11.799623",
     "exception": false,
     "start_time": "2022-07-18T20:12:11.727970",
     "status": "completed"
    },
    "tags": []
   },
   "outputs": [],
   "source": [
    "new_model = Model(layers[:-2])\n",
    "testing_plot = new_model(testing_data_x)"
   ]
  },
  {
   "cell_type": "code",
   "execution_count": 26,
   "id": "4c0a5485",
   "metadata": {
    "execution": {
     "iopub.execute_input": "2022-07-18T20:12:11.895619Z",
     "iopub.status.busy": "2022-07-18T20:12:11.894951Z",
     "iopub.status.idle": "2022-07-18T20:12:12.111864Z",
     "shell.execute_reply": "2022-07-18T20:12:12.112336Z"
    },
    "papermill": {
     "duration": 0.269285,
     "end_time": "2022-07-18T20:12:12.112495",
     "exception": false,
     "start_time": "2022-07-18T20:12:11.843210",
     "status": "completed"
    },
    "tags": []
   },
   "outputs": [
    {
     "data": {
      "text/plain": [
       "Text(0.5, 1.0, 'Outputs')"
      ]
     },
     "execution_count": 26,
     "metadata": {},
     "output_type": "execute_result"
    },
    {
     "data": {
      "image/png": "[encoded data removed]",
      "text/plain": [
       "<Figure size 576x504 with 1 Axes>"
      ]
     },
     "metadata": {
      "needs_background": "light"
     },
     "output_type": "display_data"
    }
   ],
   "source": [
    "# Plotting the scatter plot of points and color coding by class\n",
    "plt.figure(figsize=(8,7))\n",
    "plt.scatter(testing_plot[:,0], testing_plot[:,1], alpha = 0.1, c = y_test.ravel());\n",
    "plt.title('Outputs')"
   ]
  },
  {
   "cell_type": "markdown",
   "id": "a74fcf8f",
   "metadata": {
    "papermill": {
     "duration": 0.044579,
     "end_time": "2022-07-18T20:12:12.201825",
     "exception": false,
     "start_time": "2022-07-18T20:12:12.157246",
     "status": "completed"
    },
    "tags": []
   },
   "source": [
    "Probability contours"
   ]
  },
  {
   "cell_type": "code",
   "execution_count": 27,
   "id": "d0afc8e3",
   "metadata": {
    "execution": {
     "iopub.execute_input": "2022-07-18T20:12:12.299542Z",
     "iopub.status.busy": "2022-07-18T20:12:12.298854Z",
     "iopub.status.idle": "2022-07-18T20:12:12.313976Z",
     "shell.execute_reply": "2022-07-18T20:12:12.314528Z"
    },
    "papermill": {
     "duration": 0.06807,
     "end_time": "2022-07-18T20:12:12.314700",
     "exception": false,
     "start_time": "2022-07-18T20:12:12.246630",
     "status": "completed"
    },
    "tags": []
   },
   "outputs": [],
   "source": [
    "model_prob = Model(layers[-2:]) "
   ]
  },
  {
   "cell_type": "code",
   "execution_count": 28,
   "id": "9b96e238",
   "metadata": {
    "execution": {
     "iopub.execute_input": "2022-07-18T20:12:12.411165Z",
     "iopub.status.busy": "2022-07-18T20:12:12.410439Z",
     "iopub.status.idle": "2022-07-18T20:12:12.427293Z",
     "shell.execute_reply": "2022-07-18T20:12:12.427790Z"
    },
    "papermill": {
     "duration": 0.068445,
     "end_time": "2022-07-18T20:12:12.427960",
     "exception": false,
     "start_time": "2022-07-18T20:12:12.359515",
     "status": "completed"
    },
    "tags": []
   },
   "outputs": [],
   "source": [
    "#creating the x and y ranges according to the above generated plot.\n",
    "x_range = np.linspace(-4, 1, 100) \n",
    "y_range = np.linspace(-6, 6, 100) \n",
    "x_grid, y_grid = np.meshgrid(x_range, y_range) # x_grid and y_grig are of size 100 X 100\n",
    "\n",
    "# converting x_grid and y_grid to continuous arrays\n",
    "x_gridflat = np.ravel(x_grid)\n",
    "y_gridflat = np.ravel(y_grid)\n",
    "\n",
    "# The last layer of the current model takes two columns as input. Hence transpose of np.vstack() is required.\n",
    "X = np.vstack((x_gridflat, y_gridflat)).T\n",
    "\n",
    "prob_contour = model_prob(X).reshape(100,100) "
   ]
  },
  {
   "cell_type": "code",
   "execution_count": 29,
   "id": "da72499a",
   "metadata": {
    "execution": {
     "iopub.execute_input": "2022-07-18T20:12:12.563684Z",
     "iopub.status.busy": "2022-07-18T20:12:12.562913Z",
     "iopub.status.idle": "2022-07-18T20:12:12.837448Z",
     "shell.execute_reply": "2022-07-18T20:12:12.836901Z"
    },
    "papermill": {
     "duration": 0.324621,
     "end_time": "2022-07-18T20:12:12.837587",
     "exception": false,
     "start_time": "2022-07-18T20:12:12.512966",
     "status": "completed"
    },
    "tags": []
   },
   "outputs": [
    {
     "data": {
      "image/png": "[encoded data removed]",
      "text/plain": [
       "<Figure size 720x648 with 1 Axes>"
      ]
     },
     "metadata": {
      "needs_background": "light"
     },
     "output_type": "display_data"
    }
   ],
   "source": [
    "plt.figure(figsize=(10,9))\n",
    "plt.scatter(testing_plot[:,0], testing_plot[:,1], alpha = 0.1, c = y_test.ravel())\n",
    "contours = plt.contour(x_grid,y_grid,prob_contour)\n",
    "plt.title('Probability Contours')\n",
    "plt.clabel(contours, inline = True );"
   ]
  },
  {
   "cell_type": "code",
   "execution_count": null,
   "id": "e81b4ac7",
   "metadata": {
    "papermill": {
     "duration": 0.047868,
     "end_time": "2022-07-18T20:12:12.933637",
     "exception": false,
     "start_time": "2022-07-18T20:12:12.885769",
     "status": "completed"
    },
    "tags": []
   },
   "outputs": [],
   "source": []
  }
 ],
 "metadata": {
  "kernelspec": {
   "display_name": "Python 3",
   "language": "python",
   "name": "python3"
  },
  "language_info": {
   "codemirror_mode": {
    "name": "ipython",
    "version": 3
   },
   "file_extension": ".py",
   "mimetype": "text/x-python",
   "name": "python",
   "nbconvert_exporter": "python",
   "pygments_lexer": "ipython3",
   "version": "3.6.15"
  },
  "papermill": {
   "default_parameters": {},
   "duration": 106.937352,
   "end_time": "2022-07-18T20:12:13.503839",
   "environment_variables": {},
   "exception": null,
   "input_path": "2020-08-11-part2.ipynb",
   "output_path": "2020-08-11-part2.ipynb",
   "parameters": {},
   "start_time": "2022-07-18T20:10:26.566487",
   "version": "2.3.3"
  }
 },
 "nbformat": 4,
 "nbformat_minor": 5
}