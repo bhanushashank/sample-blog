{
 "cells": [
  {
   "cell_type": "markdown",
   "id": "98380cd3",
   "metadata": {
    "papermill": {
     "duration": 0.029865,
     "end_time": "2022-10-11T00:48:52.543494",
     "exception": false,
     "start_time": "2022-10-11T00:48:52.513629",
     "status": "completed"
    },
    "tags": []
   },
   "source": [
    "# Distinguish Your Own Digits (DYOD)"
   ]
  },
  {
   "cell_type": "markdown",
   "id": "ef31240d",
   "metadata": {
    "papermill": {
     "duration": 0.023563,
     "end_time": "2022-10-11T00:48:52.591375",
     "exception": false,
     "start_time": "2022-10-11T00:48:52.567812",
     "status": "completed"
    },
    "tags": []
   },
   "source": [
    "You are going to write a classifier that distinguishes between the number 3 and number 8."
   ]
  },
  {
   "cell_type": "code",
   "execution_count": 1,
   "id": "b15c8646",
   "metadata": {
    "execution": {
     "iopub.execute_input": "2022-10-11T00:48:52.653038Z",
     "iopub.status.busy": "2022-10-11T00:48:52.652399Z",
     "iopub.status.idle": "2022-10-11T00:48:52.663123Z",
     "shell.execute_reply": "2022-10-11T00:48:52.663688Z"
    },
    "papermill": {
     "duration": 0.0489,
     "end_time": "2022-10-11T00:48:52.663833",
     "exception": false,
     "start_time": "2022-10-11T00:48:52.614933",
     "status": "completed"
    },
    "tags": []
   },
   "outputs": [],
   "source": [
    "%load_ext autoreload\n",
    "%autoreload 2"
   ]
  },
  {
   "cell_type": "code",
   "execution_count": 2,
   "id": "22ef38dc",
   "metadata": {
    "execution": {
     "iopub.execute_input": "2022-10-11T00:48:52.715169Z",
     "iopub.status.busy": "2022-10-11T00:48:52.714590Z",
     "iopub.status.idle": "2022-10-11T00:48:53.250053Z",
     "shell.execute_reply": "2022-10-11T00:48:53.249023Z"
    },
    "papermill": {
     "duration": 0.562556,
     "end_time": "2022-10-11T00:48:53.250198",
     "exception": false,
     "start_time": "2022-10-11T00:48:52.687642",
     "status": "completed"
    },
    "tags": []
   },
   "outputs": [],
   "source": [
    "%matplotlib inline\n",
    "import numpy as np\n",
    "import matplotlib.pyplot as plt\n",
    "import pandas as pd"
   ]
  },
  {
   "cell_type": "markdown",
   "id": "ba036198",
   "metadata": {
    "papermill": {
     "duration": 0.023753,
     "end_time": "2022-10-11T00:48:53.297878",
     "exception": false,
     "start_time": "2022-10-11T00:48:53.274125",
     "status": "completed"
    },
    "tags": []
   },
   "source": [
    "From the command line run `pip install mnist`. This is a library that will help you bring down the mnist dataset. If you run this from a notebook, you need to put  `!pip install mnist` in a cell by itself."
   ]
  },
  {
   "cell_type": "code",
   "execution_count": 3,
   "id": "bb6ad8a1",
   "metadata": {
    "execution": {
     "iopub.execute_input": "2022-10-11T00:48:53.349758Z",
     "iopub.status.busy": "2022-10-11T00:48:53.349085Z",
     "iopub.status.idle": "2022-10-11T00:48:55.906239Z",
     "shell.execute_reply": "2022-10-11T00:48:55.905601Z"
    },
    "papermill": {
     "duration": 2.584645,
     "end_time": "2022-10-11T00:48:55.906381",
     "exception": false,
     "start_time": "2022-10-11T00:48:53.321736",
     "status": "completed"
    },
    "tags": []
   },
   "outputs": [
    {
     "name": "stdout",
     "output_type": "stream",
     "text": [
      "Collecting mnist\r\n"
     ]
    },
    {
     "name": "stdout",
     "output_type": "stream",
     "text": [
      "  Downloading mnist-0.2.2-py2.py3-none-any.whl (3.5 kB)\r\n",
      "Requirement already satisfied: numpy in /opt/hostedtoolcache/Python/3.6.15/x64/lib/python3.6/site-packages (from mnist) (1.19.5)\r\n"
     ]
    },
    {
     "name": "stdout",
     "output_type": "stream",
     "text": [
      "Installing collected packages: mnist\r\n",
      "Successfully installed mnist-0.2.2\r\n"
     ]
    }
   ],
   "source": [
    "!pip install mnist"
   ]
  },
  {
   "cell_type": "markdown",
   "id": "69df9c9a",
   "metadata": {
    "papermill": {
     "duration": 0.024513,
     "end_time": "2022-10-11T00:48:55.955855",
     "exception": false,
     "start_time": "2022-10-11T00:48:55.931342",
     "status": "completed"
    },
    "tags": []
   },
   "source": [
    "## Preparing the Data"
   ]
  },
  {
   "cell_type": "code",
   "execution_count": 4,
   "id": "7f69d806",
   "metadata": {
    "execution": {
     "iopub.execute_input": "2022-10-11T00:48:56.023210Z",
     "iopub.status.busy": "2022-10-11T00:48:56.021249Z",
     "iopub.status.idle": "2022-10-11T00:48:56.026051Z",
     "shell.execute_reply": "2022-10-11T00:48:56.025464Z"
    },
    "papermill": {
     "duration": 0.045882,
     "end_time": "2022-10-11T00:48:56.026163",
     "exception": false,
     "start_time": "2022-10-11T00:48:55.980281",
     "status": "completed"
    },
    "tags": []
   },
   "outputs": [],
   "source": [
    "import mnist"
   ]
  },
  {
   "cell_type": "code",
   "execution_count": 5,
   "id": "a411e44f",
   "metadata": {
    "execution": {
     "iopub.execute_input": "2022-10-11T00:48:56.085132Z",
     "iopub.status.busy": "2022-10-11T00:48:56.078114Z",
     "iopub.status.idle": "2022-10-11T00:48:56.634200Z",
     "shell.execute_reply": "2022-10-11T00:48:56.633546Z"
    },
    "papermill": {
     "duration": 0.583755,
     "end_time": "2022-10-11T00:48:56.634341",
     "exception": false,
     "start_time": "2022-10-11T00:48:56.050586",
     "status": "completed"
    },
    "tags": []
   },
   "outputs": [],
   "source": [
    "train_images = mnist.train_images()\n",
    "train_labels = mnist.train_labels()"
   ]
  },
  {
   "cell_type": "code",
   "execution_count": 6,
   "id": "dceab3a5",
   "metadata": {
    "execution": {
     "iopub.execute_input": "2022-10-11T00:48:56.689113Z",
     "iopub.status.busy": "2022-10-11T00:48:56.688121Z",
     "iopub.status.idle": "2022-10-11T00:48:56.702340Z",
     "shell.execute_reply": "2022-10-11T00:48:56.702785Z"
    },
    "papermill": {
     "duration": 0.042905,
     "end_time": "2022-10-11T00:48:56.702904",
     "exception": false,
     "start_time": "2022-10-11T00:48:56.659999",
     "status": "completed"
    },
    "tags": []
   },
   "outputs": [
    {
     "data": {
      "text/plain": [
       "((60000, 28, 28), (60000,))"
      ]
     },
     "execution_count": 6,
     "metadata": {},
     "output_type": "execute_result"
    }
   ],
   "source": [
    "train_images.shape, train_labels.shape"
   ]
  },
  {
   "cell_type": "code",
   "execution_count": 7,
   "id": "f50dc2bb",
   "metadata": {
    "execution": {
     "iopub.execute_input": "2022-10-11T00:48:56.765757Z",
     "iopub.status.busy": "2022-10-11T00:48:56.765183Z",
     "iopub.status.idle": "2022-10-11T00:48:56.955211Z",
     "shell.execute_reply": "2022-10-11T00:48:56.954653Z"
    },
    "papermill": {
     "duration": 0.227753,
     "end_time": "2022-10-11T00:48:56.955338",
     "exception": false,
     "start_time": "2022-10-11T00:48:56.727585",
     "status": "completed"
    },
    "tags": []
   },
   "outputs": [],
   "source": [
    "test_images = mnist.test_images()\n",
    "test_labels = mnist.test_labels()"
   ]
  },
  {
   "cell_type": "code",
   "execution_count": 8,
   "id": "fc38cf1b",
   "metadata": {
    "execution": {
     "iopub.execute_input": "2022-10-11T00:48:57.012683Z",
     "iopub.status.busy": "2022-10-11T00:48:57.012065Z",
     "iopub.status.idle": "2022-10-11T00:48:57.024521Z",
     "shell.execute_reply": "2022-10-11T00:48:57.024013Z"
    },
    "papermill": {
     "duration": 0.044036,
     "end_time": "2022-10-11T00:48:57.024638",
     "exception": false,
     "start_time": "2022-10-11T00:48:56.980602",
     "status": "completed"
    },
    "tags": []
   },
   "outputs": [
    {
     "data": {
      "text/plain": [
       "((10000, 28, 28), (10000,))"
      ]
     },
     "execution_count": 8,
     "metadata": {},
     "output_type": "execute_result"
    }
   ],
   "source": [
    "test_images.shape, test_labels.shape"
   ]
  },
  {
   "cell_type": "code",
   "execution_count": 9,
   "id": "f9ed8fe0",
   "metadata": {
    "execution": {
     "iopub.execute_input": "2022-10-11T00:48:57.081891Z",
     "iopub.status.busy": "2022-10-11T00:48:57.077650Z",
     "iopub.status.idle": "2022-10-11T00:48:57.216562Z",
     "shell.execute_reply": "2022-10-11T00:48:57.217035Z"
    },
    "papermill": {
     "duration": 0.167525,
     "end_time": "2022-10-11T00:48:57.217172",
     "exception": false,
     "start_time": "2022-10-11T00:48:57.049647",
     "status": "completed"
    },
    "tags": []
   },
   "outputs": [
    {
     "name": "stdout",
     "output_type": "stream",
     "text": [
      "2\n"
     ]
    },
    {
     "data": {
      "text/plain": [
       "<matplotlib.image.AxesImage at 0x7f239dd81da0>"
      ]
     },
     "execution_count": 9,
     "metadata": {},
     "output_type": "execute_result"
    },
    {
     "data": {
      "image/png": "[encoded data removed]",
      "text/plain": [
       "<Figure size 432x288 with 1 Axes>"
      ]
     },
     "metadata": {
      "needs_background": "light"
     },
     "output_type": "display_data"
    }
   ],
   "source": [
    "image_index = 7776 # You may select anything up to 60,000\n",
    "print(train_labels[image_index]) \n",
    "plt.imshow(train_images[image_index], cmap='Greys')"
   ]
  },
  {
   "cell_type": "markdown",
   "id": "a8d2388d",
   "metadata": {
    "papermill": {
     "duration": 0.026542,
     "end_time": "2022-10-11T00:48:57.270127",
     "exception": false,
     "start_time": "2022-10-11T00:48:57.243585",
     "status": "completed"
    },
    "tags": []
   },
   "source": [
    "## Filter data to get 3 and 8 out"
   ]
  },
  {
   "cell_type": "code",
   "execution_count": 10,
   "id": "776f7fc7",
   "metadata": {
    "execution": {
     "iopub.execute_input": "2022-10-11T00:48:57.337298Z",
     "iopub.status.busy": "2022-10-11T00:48:57.335727Z",
     "iopub.status.idle": "2022-10-11T00:48:57.347648Z",
     "shell.execute_reply": "2022-10-11T00:48:57.348400Z"
    },
    "papermill": {
     "duration": 0.052467,
     "end_time": "2022-10-11T00:48:57.348559",
     "exception": false,
     "start_time": "2022-10-11T00:48:57.296092",
     "status": "completed"
    },
    "tags": []
   },
   "outputs": [],
   "source": [
    "train_filter = np.where((train_labels == 3 ) | (train_labels == 8))\n",
    "test_filter = np.where((test_labels == 3) | (test_labels == 8))\n",
    "X_train, y_train = train_images[train_filter], train_labels[train_filter]\n",
    "X_test, y_test = test_images[test_filter], test_labels[test_filter]"
   ]
  },
  {
   "cell_type": "markdown",
   "id": "948f0b7e",
   "metadata": {
    "papermill": {
     "duration": 0.026106,
     "end_time": "2022-10-11T00:48:57.403627",
     "exception": false,
     "start_time": "2022-10-11T00:48:57.377521",
     "status": "completed"
    },
    "tags": []
   },
   "source": [
    "We normalize the pizel values in the 0 to 1 range"
   ]
  },
  {
   "cell_type": "code",
   "execution_count": 11,
   "id": "ee4c2166",
   "metadata": {
    "execution": {
     "iopub.execute_input": "2022-10-11T00:48:57.462360Z",
     "iopub.status.busy": "2022-10-11T00:48:57.459690Z",
     "iopub.status.idle": "2022-10-11T00:48:57.509162Z",
     "shell.execute_reply": "2022-10-11T00:48:57.508510Z"
    },
    "papermill": {
     "duration": 0.079505,
     "end_time": "2022-10-11T00:48:57.509300",
     "exception": false,
     "start_time": "2022-10-11T00:48:57.429795",
     "status": "completed"
    },
    "tags": []
   },
   "outputs": [],
   "source": [
    "X_train = X_train/255.\n",
    "X_test = X_test/255."
   ]
  },
  {
   "cell_type": "markdown",
   "id": "ddcf4fab",
   "metadata": {
    "papermill": {
     "duration": 0.026646,
     "end_time": "2022-10-11T00:48:57.562546",
     "exception": false,
     "start_time": "2022-10-11T00:48:57.535900",
     "status": "completed"
    },
    "tags": []
   },
   "source": [
    "And setup the labels as 1 (when the digit is 3) and 0 (when the digit is 8)"
   ]
  },
  {
   "cell_type": "code",
   "execution_count": 12,
   "id": "7dc908f2",
   "metadata": {
    "execution": {
     "iopub.execute_input": "2022-10-11T00:48:57.636966Z",
     "iopub.status.busy": "2022-10-11T00:48:57.632390Z",
     "iopub.status.idle": "2022-10-11T00:48:57.639805Z",
     "shell.execute_reply": "2022-10-11T00:48:57.639224Z"
    },
    "papermill": {
     "duration": 0.048052,
     "end_time": "2022-10-11T00:48:57.639914",
     "exception": false,
     "start_time": "2022-10-11T00:48:57.591862",
     "status": "completed"
    },
    "tags": []
   },
   "outputs": [],
   "source": [
    "y_train = 1*(y_train==3)\n",
    "y_test = 1*(y_test==3)"
   ]
  },
  {
   "cell_type": "code",
   "execution_count": 13,
   "id": "01e4e969",
   "metadata": {
    "execution": {
     "iopub.execute_input": "2022-10-11T00:48:57.695688Z",
     "iopub.status.busy": "2022-10-11T00:48:57.695116Z",
     "iopub.status.idle": "2022-10-11T00:48:57.709466Z",
     "shell.execute_reply": "2022-10-11T00:48:57.708997Z"
    },
    "papermill": {
     "duration": 0.043458,
     "end_time": "2022-10-11T00:48:57.709570",
     "exception": false,
     "start_time": "2022-10-11T00:48:57.666112",
     "status": "completed"
    },
    "tags": []
   },
   "outputs": [
    {
     "data": {
      "text/plain": [
       "((11982, 28, 28), (1984, 28, 28))"
      ]
     },
     "execution_count": 13,
     "metadata": {},
     "output_type": "execute_result"
    }
   ],
   "source": [
    "X_train.shape, X_test.shape"
   ]
  },
  {
   "cell_type": "markdown",
   "id": "5ccf3f85",
   "metadata": {
    "papermill": {
     "duration": 0.026335,
     "end_time": "2022-10-11T00:48:57.762170",
     "exception": false,
     "start_time": "2022-10-11T00:48:57.735835",
     "status": "completed"
    },
    "tags": []
   },
   "source": [
    "We reshape the data to flatten the image pixels into a set of features or co-variates:"
   ]
  },
  {
   "cell_type": "code",
   "execution_count": 14,
   "id": "5286a4a3",
   "metadata": {
    "execution": {
     "iopub.execute_input": "2022-10-11T00:48:57.819474Z",
     "iopub.status.busy": "2022-10-11T00:48:57.818887Z",
     "iopub.status.idle": "2022-10-11T00:48:57.833053Z",
     "shell.execute_reply": "2022-10-11T00:48:57.833532Z"
    },
    "papermill": {
     "duration": 0.045036,
     "end_time": "2022-10-11T00:48:57.833661",
     "exception": false,
     "start_time": "2022-10-11T00:48:57.788625",
     "status": "completed"
    },
    "tags": []
   },
   "outputs": [
    {
     "data": {
      "text/plain": [
       "((11982, 784), (1984, 784))"
      ]
     },
     "execution_count": 14,
     "metadata": {},
     "output_type": "execute_result"
    }
   ],
   "source": [
    "X_train = X_train.reshape(X_train.shape[0], -1)\n",
    "X_test = X_test.reshape(X_test.shape[0], -1)\n",
    "X_train.shape, X_test.shape"
   ]
  },
  {
   "cell_type": "code",
   "execution_count": 15,
   "id": "73c5f88a",
   "metadata": {
    "execution": {
     "iopub.execute_input": "2022-10-11T00:48:57.891377Z",
     "iopub.status.busy": "2022-10-11T00:48:57.890781Z",
     "iopub.status.idle": "2022-10-11T00:48:57.910235Z",
     "shell.execute_reply": "2022-10-11T00:48:57.909583Z"
    },
    "papermill": {
     "duration": 0.04995,
     "end_time": "2022-10-11T00:48:57.910357",
     "exception": false,
     "start_time": "2022-10-11T00:48:57.860407",
     "status": "completed"
    },
    "tags": []
   },
   "outputs": [],
   "source": [
    "#Impoting functions from 'Kudzu'\n",
    "from kudzu.model import Model\n",
    "from kudzu.train import Learner\n",
    "from kudzu.optim import GD\n",
    "from kudzu.data import Data, Sampler,Dataloader\n",
    "\n",
    "from kudzu.callbacks import AccCallback\n",
    "from kudzu.callbacks import ClfCallback\n",
    "\n",
    "from kudzu.loss import MSE\n",
    "\n",
    "from kudzu.layer import Sigmoid,Relu\n",
    "from kudzu.layer import Affine"
   ]
  },
  {
   "cell_type": "markdown",
   "id": "bc01172a",
   "metadata": {
    "papermill": {
     "duration": 0.026481,
     "end_time": "2022-10-11T00:48:57.964284",
     "exception": false,
     "start_time": "2022-10-11T00:48:57.937803",
     "status": "completed"
    },
    "tags": []
   },
   "source": [
    "### Let us create a `Config` class, to store important parameters. \n",
    "This class essentially plays the role of a dictionary."
   ]
  },
  {
   "cell_type": "code",
   "execution_count": 16,
   "id": "978281aa",
   "metadata": {
    "execution": {
     "iopub.execute_input": "2022-10-11T00:48:58.032800Z",
     "iopub.status.busy": "2022-10-11T00:48:58.025129Z",
     "iopub.status.idle": "2022-10-11T00:48:58.034976Z",
     "shell.execute_reply": "2022-10-11T00:48:58.035401Z"
    },
    "papermill": {
     "duration": 0.044756,
     "end_time": "2022-10-11T00:48:58.035523",
     "exception": false,
     "start_time": "2022-10-11T00:48:57.990767",
     "status": "completed"
    },
    "tags": []
   },
   "outputs": [],
   "source": [
    "class Config:\n",
    "    pass\n",
    "config = Config()\n",
    "config.lr = 0.001\n",
    "config.num_epochs = 250\n",
    "config.bs = 50"
   ]
  },
  {
   "cell_type": "markdown",
   "id": "1385fa59",
   "metadata": {
    "papermill": {
     "duration": 0.027209,
     "end_time": "2022-10-11T00:48:58.089421",
     "exception": false,
     "start_time": "2022-10-11T00:48:58.062212",
     "status": "completed"
    },
    "tags": []
   },
   "source": [
    "### Running Models with the Training data\n",
    "Details about the network layers:\n",
    "- A first affine layer has 784 inputs and does 100 affine transforms. These are followed by a Relu\n",
    "- A second affine layer has 100 inputs from the 100 activations of the past layer, and does 100 affine transforms. These are followed by a Relu\n",
    "- A third affine layer has 100 activations and does 2 affine transformations to create an embedding for visualization. There is no non-linearity here.\n",
    "- A final \"logistic regression\" which has an affine transform from 2 inputs to 1 output, which is squeezed through a sigmoid.\n"
   ]
  },
  {
   "cell_type": "code",
   "execution_count": 17,
   "id": "2b9c66db",
   "metadata": {
    "execution": {
     "iopub.execute_input": "2022-10-11T00:48:58.157395Z",
     "iopub.status.busy": "2022-10-11T00:48:58.150121Z",
     "iopub.status.idle": "2022-10-11T00:48:58.160674Z",
     "shell.execute_reply": "2022-10-11T00:48:58.161124Z"
    },
    "papermill": {
     "duration": 0.045414,
     "end_time": "2022-10-11T00:48:58.161248",
     "exception": false,
     "start_time": "2022-10-11T00:48:58.115834",
     "status": "completed"
    },
    "tags": []
   },
   "outputs": [],
   "source": [
    "data = Data(X_train, y_train.reshape(-1,1))\n",
    "sampler = Sampler(data, config.bs, shuffle=True)\n",
    "\n",
    "dl = Dataloader(data, sampler)\n",
    "\n",
    "opt = GD(config.lr)\n",
    "loss = MSE()"
   ]
  },
  {
   "cell_type": "code",
   "execution_count": 18,
   "id": "b275e4c2",
   "metadata": {
    "execution": {
     "iopub.execute_input": "2022-10-11T00:48:58.221207Z",
     "iopub.status.busy": "2022-10-11T00:48:58.217347Z",
     "iopub.status.idle": "2022-10-11T00:48:58.229455Z",
     "shell.execute_reply": "2022-10-11T00:48:58.229900Z"
    },
    "papermill": {
     "duration": 0.042149,
     "end_time": "2022-10-11T00:48:58.230019",
     "exception": false,
     "start_time": "2022-10-11T00:48:58.187870",
     "status": "completed"
    },
    "tags": []
   },
   "outputs": [],
   "source": [
    "training_data_x = X_train\n",
    "testing_data_x = X_test\n",
    "training_data_y = y_train.reshape(-1,1)\n",
    "testing_data_y = y_test.reshape(-1,1)"
   ]
  },
  {
   "cell_type": "code",
   "execution_count": 19,
   "id": "76951160",
   "metadata": {
    "execution": {
     "iopub.execute_input": "2022-10-11T00:48:58.301202Z",
     "iopub.status.busy": "2022-10-11T00:48:58.296693Z",
     "iopub.status.idle": "2022-10-11T00:48:58.308844Z",
     "shell.execute_reply": "2022-10-11T00:48:58.308347Z"
    },
    "papermill": {
     "duration": 0.052354,
     "end_time": "2022-10-11T00:48:58.308950",
     "exception": false,
     "start_time": "2022-10-11T00:48:58.256596",
     "status": "completed"
    },
    "tags": []
   },
   "outputs": [
    {
     "name": "stdout",
     "output_type": "stream",
     "text": [
      "xavier\n",
      "xavier\n",
      "xavier\n",
      "xavier\n",
      "xavier\n"
     ]
    }
   ],
   "source": [
    "layers = [Affine(\"first\", 784, 100), Relu(\"first\"), Affine(\"second\", 100, 100), Relu(\"second\"), Affine(\"third\", 100, 2), Affine(\"last\", 2, 1), Sigmoid(\"last\")]\n",
    "model_nn = Model(layers)\n",
    "model_lr = Model([Affine(\"logits\", 784, 1), Sigmoid(\"sigmoid\")])"
   ]
  },
  {
   "cell_type": "code",
   "execution_count": 20,
   "id": "6eede77a",
   "metadata": {
    "execution": {
     "iopub.execute_input": "2022-10-11T00:48:58.366489Z",
     "iopub.status.busy": "2022-10-11T00:48:58.365920Z",
     "iopub.status.idle": "2022-10-11T00:48:58.379180Z",
     "shell.execute_reply": "2022-10-11T00:48:58.379651Z"
    },
    "papermill": {
     "duration": 0.043807,
     "end_time": "2022-10-11T00:48:58.379770",
     "exception": false,
     "start_time": "2022-10-11T00:48:58.335963",
     "status": "completed"
    },
    "tags": []
   },
   "outputs": [],
   "source": [
    "nn_learner = Learner(loss, model_nn, opt, config.num_epochs)\n",
    "acc_nn = ClfCallback(nn_learner, config.bs, training_data_x , testing_data_x, training_data_y, testing_data_y)\n",
    "nn_learner.set_callbacks([acc_nn])"
   ]
  },
  {
   "cell_type": "code",
   "execution_count": 21,
   "id": "877b6cc7",
   "metadata": {
    "execution": {
     "iopub.execute_input": "2022-10-11T00:48:58.436782Z",
     "iopub.status.busy": "2022-10-11T00:48:58.436168Z",
     "iopub.status.idle": "2022-10-11T00:48:58.450951Z",
     "shell.execute_reply": "2022-10-11T00:48:58.450481Z"
    },
    "papermill": {
     "duration": 0.043837,
     "end_time": "2022-10-11T00:48:58.451055",
     "exception": false,
     "start_time": "2022-10-11T00:48:58.407218",
     "status": "completed"
    },
    "tags": []
   },
   "outputs": [],
   "source": [
    "lr_learner = Learner(loss, model_lr, opt, config.num_epochs)\n",
    "acc_lr = ClfCallback(lr_learner, config.bs, training_data_x , testing_data_x, training_data_y, testing_data_y)\n",
    "lr_learner.set_callbacks([acc_lr])"
   ]
  },
  {
   "cell_type": "code",
   "execution_count": 22,
   "id": "d9b133c3",
   "metadata": {
    "execution": {
     "iopub.execute_input": "2022-10-11T00:48:58.512128Z",
     "iopub.status.busy": "2022-10-11T00:48:58.511560Z",
     "iopub.status.idle": "2022-10-11T00:50:13.494183Z",
     "shell.execute_reply": "2022-10-11T00:50:13.495065Z"
    },
    "papermill": {
     "duration": 75.017297,
     "end_time": "2022-10-11T00:50:13.495226",
     "exception": false,
     "start_time": "2022-10-11T00:48:58.477929",
     "status": "completed"
    },
    "tags": []
   },
   "outputs": [
    {
     "name": "stdout",
     "output_type": "stream",
     "text": [
      "Epoch 0, Loss 0.2445\n",
      "Training Accuracy: 0.6849, Testing Accuracy: 0.7122\n",
      "\n"
     ]
    },
    {
     "name": "stdout",
     "output_type": "stream",
     "text": [
      "Epoch 10, Loss 0.1621\n",
      "Training Accuracy: 0.9086, Testing Accuracy: 0.9138\n",
      "\n"
     ]
    },
    {
     "name": "stdout",
     "output_type": "stream",
     "text": [
      "Epoch 20, Loss 0.0764\n",
      "Training Accuracy: 0.9310, Testing Accuracy: 0.9425\n",
      "\n"
     ]
    },
    {
     "name": "stdout",
     "output_type": "stream",
     "text": [
      "Epoch 30, Loss 0.0526\n",
      "Training Accuracy: 0.9445, Testing Accuracy: 0.9546\n",
      "\n"
     ]
    },
    {
     "name": "stdout",
     "output_type": "stream",
     "text": [
      "Epoch 40, Loss 0.043\n",
      "Training Accuracy: 0.9507, Testing Accuracy: 0.9607\n",
      "\n"
     ]
    },
    {
     "name": "stdout",
     "output_type": "stream",
     "text": [
      "Epoch 50, Loss 0.0378\n",
      "Training Accuracy: 0.9554, Testing Accuracy: 0.9647\n",
      "\n"
     ]
    },
    {
     "name": "stdout",
     "output_type": "stream",
     "text": [
      "Epoch 60, Loss 0.0345\n",
      "Training Accuracy: 0.9587, Testing Accuracy: 0.9682\n",
      "\n"
     ]
    },
    {
     "name": "stdout",
     "output_type": "stream",
     "text": [
      "Epoch 70, Loss 0.0322\n",
      "Training Accuracy: 0.9613, Testing Accuracy: 0.9708\n",
      "\n"
     ]
    },
    {
     "name": "stdout",
     "output_type": "stream",
     "text": [
      "Epoch 80, Loss 0.0304\n",
      "Training Accuracy: 0.9631, Testing Accuracy: 0.9703\n",
      "\n"
     ]
    },
    {
     "name": "stdout",
     "output_type": "stream",
     "text": [
      "Epoch 90, Loss 0.029\n",
      "Training Accuracy: 0.9646, Testing Accuracy: 0.9703\n",
      "\n"
     ]
    },
    {
     "name": "stdout",
     "output_type": "stream",
     "text": [
      "Epoch 100, Loss 0.0278\n",
      "Training Accuracy: 0.9661, Testing Accuracy: 0.9708\n",
      "\n"
     ]
    },
    {
     "name": "stdout",
     "output_type": "stream",
     "text": [
      "Epoch 110, Loss 0.0268\n",
      "Training Accuracy: 0.9678, Testing Accuracy: 0.9708\n",
      "\n"
     ]
    },
    {
     "name": "stdout",
     "output_type": "stream",
     "text": [
      "Epoch 120, Loss 0.0259\n",
      "Training Accuracy: 0.9693, Testing Accuracy: 0.9703\n",
      "\n"
     ]
    },
    {
     "name": "stdout",
     "output_type": "stream",
     "text": [
      "Epoch 130, Loss 0.0251\n",
      "Training Accuracy: 0.9701, Testing Accuracy: 0.9713\n",
      "\n"
     ]
    },
    {
     "name": "stdout",
     "output_type": "stream",
     "text": [
      "Epoch 140, Loss 0.0244\n",
      "Training Accuracy: 0.9715, Testing Accuracy: 0.9718\n",
      "\n"
     ]
    },
    {
     "name": "stdout",
     "output_type": "stream",
     "text": [
      "Epoch 150, Loss 0.0237\n",
      "Training Accuracy: 0.9723, Testing Accuracy: 0.9723\n",
      "\n"
     ]
    },
    {
     "name": "stdout",
     "output_type": "stream",
     "text": [
      "Epoch 160, Loss 0.0231\n",
      "Training Accuracy: 0.9727, Testing Accuracy: 0.9733\n",
      "\n"
     ]
    },
    {
     "name": "stdout",
     "output_type": "stream",
     "text": [
      "Epoch 170, Loss 0.0225\n",
      "Training Accuracy: 0.9735, Testing Accuracy: 0.9733\n",
      "\n"
     ]
    },
    {
     "name": "stdout",
     "output_type": "stream",
     "text": [
      "Epoch 180, Loss 0.022\n",
      "Training Accuracy: 0.9740, Testing Accuracy: 0.9728\n",
      "\n"
     ]
    },
    {
     "name": "stdout",
     "output_type": "stream",
     "text": [
      "Epoch 190, Loss 0.0215\n",
      "Training Accuracy: 0.9750, Testing Accuracy: 0.9738\n",
      "\n"
     ]
    },
    {
     "name": "stdout",
     "output_type": "stream",
     "text": [
      "Epoch 200, Loss 0.021\n",
      "Training Accuracy: 0.9755, Testing Accuracy: 0.9743\n",
      "\n"
     ]
    },
    {
     "name": "stdout",
     "output_type": "stream",
     "text": [
      "Epoch 210, Loss 0.0205\n",
      "Training Accuracy: 0.9761, Testing Accuracy: 0.9743\n",
      "\n"
     ]
    },
    {
     "name": "stdout",
     "output_type": "stream",
     "text": [
      "Epoch 220, Loss 0.0201\n",
      "Training Accuracy: 0.9766, Testing Accuracy: 0.9748\n",
      "\n"
     ]
    },
    {
     "name": "stdout",
     "output_type": "stream",
     "text": [
      "Epoch 230, Loss 0.0196\n",
      "Training Accuracy: 0.9771, Testing Accuracy: 0.9738\n",
      "\n"
     ]
    },
    {
     "name": "stdout",
     "output_type": "stream",
     "text": [
      "Epoch 240, Loss 0.0192\n",
      "Training Accuracy: 0.9777, Testing Accuracy: 0.9738\n",
      "\n"
     ]
    },
    {
     "data": {
      "text/plain": [
       "0.005445450108565404"
      ]
     },
     "execution_count": 22,
     "metadata": {},
     "output_type": "execute_result"
    }
   ],
   "source": [
    "nn_learner.train_loop(dl)"
   ]
  },
  {
   "cell_type": "code",
   "execution_count": 23,
   "id": "e0163366",
   "metadata": {
    "execution": {
     "iopub.execute_input": "2022-10-11T00:50:13.577158Z",
     "iopub.status.busy": "2022-10-11T00:50:13.576552Z",
     "iopub.status.idle": "2022-10-11T00:50:27.018761Z",
     "shell.execute_reply": "2022-10-11T00:50:27.019625Z"
    },
    "papermill": {
     "duration": 13.489681,
     "end_time": "2022-10-11T00:50:27.019780",
     "exception": false,
     "start_time": "2022-10-11T00:50:13.530099",
     "status": "completed"
    },
    "tags": []
   },
   "outputs": [
    {
     "name": "stdout",
     "output_type": "stream",
     "text": [
      "Epoch 0, Loss 0.2611\n",
      "Training Accuracy: 0.5947, Testing Accuracy: 0.6124\n",
      "\n"
     ]
    },
    {
     "name": "stdout",
     "output_type": "stream",
     "text": [
      "Epoch 10, Loss 0.1114\n",
      "Training Accuracy: 0.8867, Testing Accuracy: 0.9022\n",
      "\n"
     ]
    },
    {
     "name": "stdout",
     "output_type": "stream",
     "text": [
      "Epoch 20, Loss 0.0844\n",
      "Training Accuracy: 0.9180, Testing Accuracy: 0.9299\n",
      "\n"
     ]
    },
    {
     "name": "stdout",
     "output_type": "stream",
     "text": [
      "Epoch 30, Loss 0.0718\n",
      "Training Accuracy: 0.9311, Testing Accuracy: 0.9430\n",
      "\n"
     ]
    },
    {
     "name": "stdout",
     "output_type": "stream",
     "text": [
      "Epoch 40, Loss 0.0642\n",
      "Training Accuracy: 0.9380, Testing Accuracy: 0.9491\n",
      "\n"
     ]
    },
    {
     "name": "stdout",
     "output_type": "stream",
     "text": [
      "Epoch 50, Loss 0.0591\n",
      "Training Accuracy: 0.9417, Testing Accuracy: 0.9536\n",
      "\n"
     ]
    },
    {
     "name": "stdout",
     "output_type": "stream",
     "text": [
      "Epoch 60, Loss 0.0554\n",
      "Training Accuracy: 0.9450, Testing Accuracy: 0.9556\n",
      "\n"
     ]
    },
    {
     "name": "stdout",
     "output_type": "stream",
     "text": [
      "Epoch 70, Loss 0.0525\n",
      "Training Accuracy: 0.9473, Testing Accuracy: 0.9572\n",
      "\n"
     ]
    },
    {
     "name": "stdout",
     "output_type": "stream",
     "text": [
      "Epoch 80, Loss 0.0503\n",
      "Training Accuracy: 0.9493, Testing Accuracy: 0.9602\n",
      "\n"
     ]
    },
    {
     "name": "stdout",
     "output_type": "stream",
     "text": [
      "Epoch 90, Loss 0.0484\n",
      "Training Accuracy: 0.9510, Testing Accuracy: 0.9622\n",
      "\n"
     ]
    },
    {
     "name": "stdout",
     "output_type": "stream",
     "text": [
      "Epoch 100, Loss 0.0469\n",
      "Training Accuracy: 0.9523, Testing Accuracy: 0.9617\n",
      "\n"
     ]
    },
    {
     "name": "stdout",
     "output_type": "stream",
     "text": [
      "Epoch 110, Loss 0.0455\n",
      "Training Accuracy: 0.9536, Testing Accuracy: 0.9617\n",
      "\n"
     ]
    },
    {
     "name": "stdout",
     "output_type": "stream",
     "text": [
      "Epoch 120, Loss 0.0444\n",
      "Training Accuracy: 0.9550, Testing Accuracy: 0.9622\n",
      "\n"
     ]
    },
    {
     "name": "stdout",
     "output_type": "stream",
     "text": [
      "Epoch 130, Loss 0.0434\n",
      "Training Accuracy: 0.9556, Testing Accuracy: 0.9632\n",
      "\n"
     ]
    },
    {
     "name": "stdout",
     "output_type": "stream",
     "text": [
      "Epoch 140, Loss 0.0425\n",
      "Training Accuracy: 0.9567, Testing Accuracy: 0.9632\n",
      "\n"
     ]
    },
    {
     "name": "stdout",
     "output_type": "stream",
     "text": [
      "Epoch 150, Loss 0.0417\n",
      "Training Accuracy: 0.9572, Testing Accuracy: 0.9642\n",
      "\n"
     ]
    },
    {
     "name": "stdout",
     "output_type": "stream",
     "text": [
      "Epoch 160, Loss 0.041\n",
      "Training Accuracy: 0.9579, Testing Accuracy: 0.9642\n",
      "\n"
     ]
    },
    {
     "name": "stdout",
     "output_type": "stream",
     "text": [
      "Epoch 170, Loss 0.0404\n",
      "Training Accuracy: 0.9578, Testing Accuracy: 0.9642\n",
      "\n"
     ]
    },
    {
     "name": "stdout",
     "output_type": "stream",
     "text": [
      "Epoch 180, Loss 0.0398\n",
      "Training Accuracy: 0.9582, Testing Accuracy: 0.9642\n",
      "\n"
     ]
    },
    {
     "name": "stdout",
     "output_type": "stream",
     "text": [
      "Epoch 190, Loss 0.0392\n",
      "Training Accuracy: 0.9584, Testing Accuracy: 0.9642\n",
      "\n"
     ]
    },
    {
     "name": "stdout",
     "output_type": "stream",
     "text": [
      "Epoch 200, Loss 0.0387\n",
      "Training Accuracy: 0.9589, Testing Accuracy: 0.9647\n",
      "\n"
     ]
    },
    {
     "name": "stdout",
     "output_type": "stream",
     "text": [
      "Epoch 210, Loss 0.0383\n",
      "Training Accuracy: 0.9591, Testing Accuracy: 0.9647\n",
      "\n"
     ]
    },
    {
     "name": "stdout",
     "output_type": "stream",
     "text": [
      "Epoch 220, Loss 0.0378\n",
      "Training Accuracy: 0.9596, Testing Accuracy: 0.9647\n",
      "\n"
     ]
    },
    {
     "name": "stdout",
     "output_type": "stream",
     "text": [
      "Epoch 230, Loss 0.0374\n",
      "Training Accuracy: 0.9599, Testing Accuracy: 0.9647\n",
      "\n"
     ]
    },
    {
     "name": "stdout",
     "output_type": "stream",
     "text": [
      "Epoch 240, Loss 0.0371\n",
      "Training Accuracy: 0.9604, Testing Accuracy: 0.9652\n",
      "\n"
     ]
    },
    {
     "data": {
      "text/plain": [
       "0.01995243918720954"
      ]
     },
     "execution_count": 23,
     "metadata": {},
     "output_type": "execute_result"
    }
   ],
   "source": [
    "lr_learner.train_loop(dl)"
   ]
  },
  {
   "cell_type": "code",
   "execution_count": 24,
   "id": "ca410940",
   "metadata": {
    "execution": {
     "iopub.execute_input": "2022-10-11T00:50:27.112112Z",
     "iopub.status.busy": "2022-10-11T00:50:27.110943Z",
     "iopub.status.idle": "2022-10-11T00:50:27.347589Z",
     "shell.execute_reply": "2022-10-11T00:50:27.348403Z"
    },
    "papermill": {
     "duration": 0.287274,
     "end_time": "2022-10-11T00:50:27.348582",
     "exception": false,
     "start_time": "2022-10-11T00:50:27.061308",
     "status": "completed"
    },
    "tags": []
   },
   "outputs": [
    {
     "data": {
      "text/plain": [
       "<matplotlib.legend.Legend at 0x7f239d8f0470>"
      ]
     },
     "execution_count": 24,
     "metadata": {},
     "output_type": "execute_result"
    },
    {
     "data": {
      "image/png": "[encoded data removed]",
      "text/plain": [
       "<Figure size 1080x720 with 1 Axes>"
      ]
     },
     "metadata": {
      "needs_background": "light"
     },
     "output_type": "display_data"
    }
   ],
   "source": [
    "#comparing the results of NN and LR\n",
    "plt.figure(figsize=(15,10))\n",
    "\n",
    "# Neural Network plots\n",
    "plt.plot(acc_nn.accuracies, 'r-', label = \"Training Accuracies - NN\")\n",
    "plt.plot(acc_nn.test_accuracies, 'g-', label = \"Testing Accuracies - NN\")\n",
    "\n",
    "# Logistic Regression plots\n",
    "plt.plot(acc_lr.accuracies, 'k-', label = \"Training Accuracies - LR\")\n",
    "plt.plot(acc_lr.test_accuracies, 'b-', label = \"Testing Accuracies - LR\")\n",
    "plt.legend()"
   ]
  },
  {
   "cell_type": "markdown",
   "id": "80dfb35c",
   "metadata": {
    "papermill": {
     "duration": 0.041496,
     "end_time": "2022-10-11T00:50:27.432081",
     "exception": false,
     "start_time": "2022-10-11T00:50:27.390585",
     "status": "completed"
    },
    "tags": []
   },
   "source": [
    "#### Plotting the outputs of this layer of the NN.\n"
   ]
  },
  {
   "cell_type": "code",
   "execution_count": 25,
   "id": "45eb2ff5",
   "metadata": {
    "execution": {
     "iopub.execute_input": "2022-10-11T00:50:27.520200Z",
     "iopub.status.busy": "2022-10-11T00:50:27.519576Z",
     "iopub.status.idle": "2022-10-11T00:50:27.539685Z",
     "shell.execute_reply": "2022-10-11T00:50:27.539196Z"
    },
    "papermill": {
     "duration": 0.066164,
     "end_time": "2022-10-11T00:50:27.539802",
     "exception": false,
     "start_time": "2022-10-11T00:50:27.473638",
     "status": "completed"
    },
    "tags": []
   },
   "outputs": [],
   "source": [
    "new_model = Model(layers[:-2])\n",
    "testing_plot = new_model(testing_data_x)"
   ]
  },
  {
   "cell_type": "code",
   "execution_count": 26,
   "id": "4c0a5485",
   "metadata": {
    "execution": {
     "iopub.execute_input": "2022-10-11T00:50:27.629477Z",
     "iopub.status.busy": "2022-10-11T00:50:27.628050Z",
     "iopub.status.idle": "2022-10-11T00:50:27.851879Z",
     "shell.execute_reply": "2022-10-11T00:50:27.851325Z"
    },
    "papermill": {
     "duration": 0.270554,
     "end_time": "2022-10-11T00:50:27.852009",
     "exception": false,
     "start_time": "2022-10-11T00:50:27.581455",
     "status": "completed"
    },
    "tags": []
   },
   "outputs": [
    {
     "data": {
      "text/plain": [
       "Text(0.5, 1.0, 'Outputs')"
      ]
     },
     "execution_count": 26,
     "metadata": {},
     "output_type": "execute_result"
    },
    {
     "data": {
      "image/png": "[encoded data removed]",
      "text/plain": [
       "<Figure size 576x504 with 1 Axes>"
      ]
     },
     "metadata": {
      "needs_background": "light"
     },
     "output_type": "display_data"
    }
   ],
   "source": [
    "# Plotting the scatter plot of points and color coding by class\n",
    "plt.figure(figsize=(8,7))\n",
    "plt.scatter(testing_plot[:,0], testing_plot[:,1], alpha = 0.1, c = y_test.ravel());\n",
    "plt.title('Outputs')"
   ]
  },
  {
   "cell_type": "markdown",
   "id": "a74fcf8f",
   "metadata": {
    "papermill": {
     "duration": 0.044773,
     "end_time": "2022-10-11T00:50:27.942086",
     "exception": false,
     "start_time": "2022-10-11T00:50:27.897313",
     "status": "completed"
    },
    "tags": []
   },
   "source": [
    "Probability contours"
   ]
  },
  {
   "cell_type": "code",
   "execution_count": 27,
   "id": "d0afc8e3",
   "metadata": {
    "execution": {
     "iopub.execute_input": "2022-10-11T00:50:28.037426Z",
     "iopub.status.busy": "2022-10-11T00:50:28.034906Z",
     "iopub.status.idle": "2022-10-11T00:50:28.048345Z",
     "shell.execute_reply": "2022-10-11T00:50:28.048823Z"
    },
    "papermill": {
     "duration": 0.061907,
     "end_time": "2022-10-11T00:50:28.048957",
     "exception": false,
     "start_time": "2022-10-11T00:50:27.987050",
     "status": "completed"
    },
    "tags": []
   },
   "outputs": [],
   "source": [
    "model_prob = Model(layers[-2:]) "
   ]
  },
  {
   "cell_type": "code",
   "execution_count": 28,
   "id": "9b96e238",
   "metadata": {
    "execution": {
     "iopub.execute_input": "2022-10-11T00:50:28.147380Z",
     "iopub.status.busy": "2022-10-11T00:50:28.146775Z",
     "iopub.status.idle": "2022-10-11T00:50:28.161639Z",
     "shell.execute_reply": "2022-10-11T00:50:28.161180Z"
    },
    "papermill": {
     "duration": 0.067929,
     "end_time": "2022-10-11T00:50:28.161758",
     "exception": false,
     "start_time": "2022-10-11T00:50:28.093829",
     "status": "completed"
    },
    "tags": []
   },
   "outputs": [],
   "source": [
    "#creating the x and y ranges according to the above generated plot.\n",
    "x_range = np.linspace(-4, 1, 100) \n",
    "y_range = np.linspace(-6, 6, 100) \n",
    "x_grid, y_grid = np.meshgrid(x_range, y_range) # x_grid and y_grig are of size 100 X 100\n",
    "\n",
    "# converting x_grid and y_grid to continuous arrays\n",
    "x_gridflat = np.ravel(x_grid)\n",
    "y_gridflat = np.ravel(y_grid)\n",
    "\n",
    "# The last layer of the current model takes two columns as input. Hence transpose of np.vstack() is required.\n",
    "X = np.vstack((x_gridflat, y_gridflat)).T\n",
    "\n",
    "prob_contour = model_prob(X).reshape(100,100) "
   ]
  },
  {
   "cell_type": "code",
   "execution_count": 29,
   "id": "da72499a",
   "metadata": {
    "execution": {
     "iopub.execute_input": "2022-10-11T00:50:28.299765Z",
     "iopub.status.busy": "2022-10-11T00:50:28.298523Z",
     "iopub.status.idle": "2022-10-11T00:50:28.546067Z",
     "shell.execute_reply": "2022-10-11T00:50:28.545568Z"
    },
    "papermill": {
     "duration": 0.307565,
     "end_time": "2022-10-11T00:50:28.546191",
     "exception": false,
     "start_time": "2022-10-11T00:50:28.238626",
     "status": "completed"
    },
    "tags": []
   },
   "outputs": [
    {
     "data": {
      "image/png": "[encoded data removed]",
      "text/plain": [
       "<Figure size 720x648 with 1 Axes>"
      ]
     },
     "metadata": {
      "needs_background": "light"
     },
     "output_type": "display_data"
    }
   ],
   "source": [
    "plt.figure(figsize=(10,9))\n",
    "plt.scatter(testing_plot[:,0], testing_plot[:,1], alpha = 0.1, c = y_test.ravel())\n",
    "contours = plt.contour(x_grid,y_grid,prob_contour)\n",
    "plt.title('Probability Contours')\n",
    "plt.clabel(contours, inline = True );"
   ]
  },
  {
   "cell_type": "code",
   "execution_count": null,
   "id": "e81b4ac7",
   "metadata": {
    "papermill": {
     "duration": 0.047325,
     "end_time": "2022-10-11T00:50:28.641536",
     "exception": false,
     "start_time": "2022-10-11T00:50:28.594211",
     "status": "completed"
    },
    "tags": []
   },
   "outputs": [],
   "source": []
  }
 ],
 "metadata": {
  "kernelspec": {
   "display_name": "Python 3",
   "language": "python",
   "name": "python3"
  },
  "language_info": {
   "codemirror_mode": {
    "name": "ipython",
    "version": 3
   },
   "file_extension": ".py",
   "mimetype": "text/x-python",
   "name": "python",
   "nbconvert_exporter": "python",
   "pygments_lexer": "ipython3",
   "version": "3.6.15"
  },
  "papermill": {
   "default_parameters": {},
   "duration": 97.530478,
   "end_time": "2022-10-11T00:50:29.107656",
   "environment_variables": {},
   "exception": null,
   "input_path": "2020-08-11-part2.ipynb",
   "output_path": "2020-08-11-part2.ipynb",
   "parameters": {},
   "start_time": "2022-10-11T00:48:51.577178",
   "version": "2.3.3"
  }
 },
 "nbformat": 4,
 "nbformat_minor": 5
}