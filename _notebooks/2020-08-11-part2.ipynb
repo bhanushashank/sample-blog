{
 "cells": [
  {
   "cell_type": "markdown",
   "id": "98380cd3",
   "metadata": {
    "papermill": {
     "duration": 0.035611,
     "end_time": "2022-06-15T10:14:26.645928",
     "exception": false,
     "start_time": "2022-06-15T10:14:26.610317",
     "status": "completed"
    },
    "tags": []
   },
   "source": [
    "# Distinguish Your Own Digits (DYOD)"
   ]
  },
  {
   "cell_type": "markdown",
   "id": "ef31240d",
   "metadata": {
    "papermill": {
     "duration": 0.030679,
     "end_time": "2022-06-15T10:14:26.706659",
     "exception": false,
     "start_time": "2022-06-15T10:14:26.675980",
     "status": "completed"
    },
    "tags": []
   },
   "source": [
    "You are going to write a classifier that distinguishes between the number 3 and number 8."
   ]
  },
  {
   "cell_type": "code",
   "execution_count": 1,
   "id": "b15c8646",
   "metadata": {
    "execution": {
     "iopub.execute_input": "2022-06-15T10:14:26.778034Z",
     "iopub.status.busy": "2022-06-15T10:14:26.777295Z",
     "iopub.status.idle": "2022-06-15T10:14:26.790348Z",
     "shell.execute_reply": "2022-06-15T10:14:26.789725Z"
    },
    "papermill": {
     "duration": 0.053927,
     "end_time": "2022-06-15T10:14:26.790506",
     "exception": false,
     "start_time": "2022-06-15T10:14:26.736579",
     "status": "completed"
    },
    "tags": []
   },
   "outputs": [],
   "source": [
    "%load_ext autoreload\n",
    "%autoreload 2"
   ]
  },
  {
   "cell_type": "code",
   "execution_count": 2,
   "id": "22ef38dc",
   "metadata": {
    "execution": {
     "iopub.execute_input": "2022-06-15T10:14:26.857429Z",
     "iopub.status.busy": "2022-06-15T10:14:26.856657Z",
     "iopub.status.idle": "2022-06-15T10:14:27.519908Z",
     "shell.execute_reply": "2022-06-15T10:14:27.519293Z"
    },
    "papermill": {
     "duration": 0.698802,
     "end_time": "2022-06-15T10:14:27.520087",
     "exception": false,
     "start_time": "2022-06-15T10:14:26.821285",
     "status": "completed"
    },
    "tags": []
   },
   "outputs": [],
   "source": [
    "%matplotlib inline\n",
    "import numpy as np\n",
    "import matplotlib.pyplot as plt\n",
    "import pandas as pd"
   ]
  },
  {
   "cell_type": "markdown",
   "id": "ba036198",
   "metadata": {
    "papermill": {
     "duration": 0.030667,
     "end_time": "2022-06-15T10:14:27.581121",
     "exception": false,
     "start_time": "2022-06-15T10:14:27.550454",
     "status": "completed"
    },
    "tags": []
   },
   "source": [
    "From the command line run `pip install mnist`. This is a library that will help you bring down the mnist dataset. If you run this from a notebook, you need to put  `!pip install mnist` in a cell by itself."
   ]
  },
  {
   "cell_type": "code",
   "execution_count": 3,
   "id": "bb6ad8a1",
   "metadata": {
    "execution": {
     "iopub.execute_input": "2022-06-15T10:14:27.644964Z",
     "iopub.status.busy": "2022-06-15T10:14:27.644237Z",
     "iopub.status.idle": "2022-06-15T10:14:29.644463Z",
     "shell.execute_reply": "2022-06-15T10:14:29.643719Z"
    },
    "papermill": {
     "duration": 2.034061,
     "end_time": "2022-06-15T10:14:29.644625",
     "exception": false,
     "start_time": "2022-06-15T10:14:27.610564",
     "status": "completed"
    },
    "tags": []
   },
   "outputs": [
    {
     "name": "stdout",
     "output_type": "stream",
     "text": [
      "Collecting mnist\r\n",
      "  Downloading mnist-0.2.2-py2.py3-none-any.whl (3.5 kB)\r\n"
     ]
    },
    {
     "name": "stdout",
     "output_type": "stream",
     "text": [
      "Requirement already satisfied: numpy in /opt/hostedtoolcache/Python/3.6.15/x64/lib/python3.6/site-packages (from mnist) (1.19.5)\r\n"
     ]
    },
    {
     "name": "stdout",
     "output_type": "stream",
     "text": [
      "Installing collected packages: mnist\r\n"
     ]
    },
    {
     "name": "stdout",
     "output_type": "stream",
     "text": [
      "Successfully installed mnist-0.2.2\r\n"
     ]
    }
   ],
   "source": [
    "!pip install mnist"
   ]
  },
  {
   "cell_type": "markdown",
   "id": "69df9c9a",
   "metadata": {
    "papermill": {
     "duration": 0.031326,
     "end_time": "2022-06-15T10:14:29.709348",
     "exception": false,
     "start_time": "2022-06-15T10:14:29.678022",
     "status": "completed"
    },
    "tags": []
   },
   "source": [
    "## Preparing the Data"
   ]
  },
  {
   "cell_type": "code",
   "execution_count": 4,
   "id": "7f69d806",
   "metadata": {
    "execution": {
     "iopub.execute_input": "2022-06-15T10:14:29.777544Z",
     "iopub.status.busy": "2022-06-15T10:14:29.776839Z",
     "iopub.status.idle": "2022-06-15T10:14:29.793729Z",
     "shell.execute_reply": "2022-06-15T10:14:29.793104Z"
    },
    "papermill": {
     "duration": 0.053033,
     "end_time": "2022-06-15T10:14:29.793888",
     "exception": false,
     "start_time": "2022-06-15T10:14:29.740855",
     "status": "completed"
    },
    "tags": []
   },
   "outputs": [],
   "source": [
    "import mnist"
   ]
  },
  {
   "cell_type": "code",
   "execution_count": 5,
   "id": "a411e44f",
   "metadata": {
    "execution": {
     "iopub.execute_input": "2022-06-15T10:14:29.858286Z",
     "iopub.status.busy": "2022-06-15T10:14:29.857540Z",
     "iopub.status.idle": "2022-06-15T10:14:30.560417Z",
     "shell.execute_reply": "2022-06-15T10:14:30.559060Z"
    },
    "papermill": {
     "duration": 0.736664,
     "end_time": "2022-06-15T10:14:30.560549",
     "exception": false,
     "start_time": "2022-06-15T10:14:29.823885",
     "status": "completed"
    },
    "tags": []
   },
   "outputs": [],
   "source": [
    "train_images = mnist.train_images()\n",
    "train_labels = mnist.train_labels()"
   ]
  },
  {
   "cell_type": "code",
   "execution_count": 6,
   "id": "dceab3a5",
   "metadata": {
    "execution": {
     "iopub.execute_input": "2022-06-15T10:14:30.630396Z",
     "iopub.status.busy": "2022-06-15T10:14:30.629709Z",
     "iopub.status.idle": "2022-06-15T10:14:30.648287Z",
     "shell.execute_reply": "2022-06-15T10:14:30.649031Z"
    },
    "papermill": {
     "duration": 0.054753,
     "end_time": "2022-06-15T10:14:30.649196",
     "exception": false,
     "start_time": "2022-06-15T10:14:30.594443",
     "status": "completed"
    },
    "tags": []
   },
   "outputs": [
    {
     "data": {
      "text/plain": [
       "((60000, 28, 28), (60000,))"
      ]
     },
     "execution_count": 6,
     "metadata": {},
     "output_type": "execute_result"
    }
   ],
   "source": [
    "train_images.shape, train_labels.shape"
   ]
  },
  {
   "cell_type": "code",
   "execution_count": 7,
   "id": "f50dc2bb",
   "metadata": {
    "execution": {
     "iopub.execute_input": "2022-06-15T10:14:30.716247Z",
     "iopub.status.busy": "2022-06-15T10:14:30.715381Z",
     "iopub.status.idle": "2022-06-15T10:14:30.944151Z",
     "shell.execute_reply": "2022-06-15T10:14:30.942932Z"
    },
    "papermill": {
     "duration": 0.2641,
     "end_time": "2022-06-15T10:14:30.944299",
     "exception": false,
     "start_time": "2022-06-15T10:14:30.680199",
     "status": "completed"
    },
    "tags": []
   },
   "outputs": [],
   "source": [
    "test_images = mnist.test_images()\n",
    "test_labels = mnist.test_labels()"
   ]
  },
  {
   "cell_type": "code",
   "execution_count": 8,
   "id": "fc38cf1b",
   "metadata": {
    "execution": {
     "iopub.execute_input": "2022-06-15T10:14:31.020512Z",
     "iopub.status.busy": "2022-06-15T10:14:31.019705Z",
     "iopub.status.idle": "2022-06-15T10:14:31.035740Z",
     "shell.execute_reply": "2022-06-15T10:14:31.036486Z"
    },
    "papermill": {
     "duration": 0.056893,
     "end_time": "2022-06-15T10:14:31.036672",
     "exception": false,
     "start_time": "2022-06-15T10:14:30.979779",
     "status": "completed"
    },
    "tags": []
   },
   "outputs": [
    {
     "data": {
      "text/plain": [
       "((10000, 28, 28), (10000,))"
      ]
     },
     "execution_count": 8,
     "metadata": {},
     "output_type": "execute_result"
    }
   ],
   "source": [
    "test_images.shape, test_labels.shape"
   ]
  },
  {
   "cell_type": "code",
   "execution_count": 9,
   "id": "f9ed8fe0",
   "metadata": {
    "execution": {
     "iopub.execute_input": "2022-06-15T10:14:31.111318Z",
     "iopub.status.busy": "2022-06-15T10:14:31.110608Z",
     "iopub.status.idle": "2022-06-15T10:14:31.308393Z",
     "shell.execute_reply": "2022-06-15T10:14:31.308981Z"
    },
    "papermill": {
     "duration": 0.235292,
     "end_time": "2022-06-15T10:14:31.309170",
     "exception": false,
     "start_time": "2022-06-15T10:14:31.073878",
     "status": "completed"
    },
    "tags": []
   },
   "outputs": [
    {
     "name": "stdout",
     "output_type": "stream",
     "text": [
      "2\n"
     ]
    },
    {
     "data": {
      "text/plain": [
       "<matplotlib.image.AxesImage at 0x7fc9e204a390>"
      ]
     },
     "execution_count": 9,
     "metadata": {},
     "output_type": "execute_result"
    },
    {
     "data": {
      "image/png": "[encoded data removed]",
      "text/plain": [
       "<Figure size 432x288 with 1 Axes>"
      ]
     },
     "metadata": {
      "needs_background": "light"
     },
     "output_type": "display_data"
    }
   ],
   "source": [
    "image_index = 7776 # You may select anything up to 60,000\n",
    "print(train_labels[image_index]) \n",
    "plt.imshow(train_images[image_index], cmap='Greys')"
   ]
  },
  {
   "cell_type": "markdown",
   "id": "a8d2388d",
   "metadata": {
    "papermill": {
     "duration": 0.03363,
     "end_time": "2022-06-15T10:14:31.376466",
     "exception": false,
     "start_time": "2022-06-15T10:14:31.342836",
     "status": "completed"
    },
    "tags": []
   },
   "source": [
    "## Filter data to get 3 and 8 out"
   ]
  },
  {
   "cell_type": "code",
   "execution_count": 10,
   "id": "776f7fc7",
   "metadata": {
    "execution": {
     "iopub.execute_input": "2022-06-15T10:14:31.452367Z",
     "iopub.status.busy": "2022-06-15T10:14:31.451323Z",
     "iopub.status.idle": "2022-06-15T10:14:31.471918Z",
     "shell.execute_reply": "2022-06-15T10:14:31.471310Z"
    },
    "papermill": {
     "duration": 0.062144,
     "end_time": "2022-06-15T10:14:31.472058",
     "exception": false,
     "start_time": "2022-06-15T10:14:31.409914",
     "status": "completed"
    },
    "tags": []
   },
   "outputs": [],
   "source": [
    "train_filter = np.where((train_labels == 3 ) | (train_labels == 8))\n",
    "test_filter = np.where((test_labels == 3) | (test_labels == 8))\n",
    "X_train, y_train = train_images[train_filter], train_labels[train_filter]\n",
    "X_test, y_test = test_images[test_filter], test_labels[test_filter]"
   ]
  },
  {
   "cell_type": "markdown",
   "id": "948f0b7e",
   "metadata": {
    "papermill": {
     "duration": 0.034922,
     "end_time": "2022-06-15T10:14:31.540558",
     "exception": false,
     "start_time": "2022-06-15T10:14:31.505636",
     "status": "completed"
    },
    "tags": []
   },
   "source": [
    "We normalize the pizel values in the 0 to 1 range"
   ]
  },
  {
   "cell_type": "code",
   "execution_count": 11,
   "id": "ee4c2166",
   "metadata": {
    "execution": {
     "iopub.execute_input": "2022-06-15T10:14:31.616685Z",
     "iopub.status.busy": "2022-06-15T10:14:31.615933Z",
     "iopub.status.idle": "2022-06-15T10:14:31.677377Z",
     "shell.execute_reply": "2022-06-15T10:14:31.676753Z"
    },
    "papermill": {
     "duration": 0.101427,
     "end_time": "2022-06-15T10:14:31.677534",
     "exception": false,
     "start_time": "2022-06-15T10:14:31.576107",
     "status": "completed"
    },
    "tags": []
   },
   "outputs": [],
   "source": [
    "X_train = X_train/255.\n",
    "X_test = X_test/255."
   ]
  },
  {
   "cell_type": "markdown",
   "id": "ddcf4fab",
   "metadata": {
    "papermill": {
     "duration": 0.033831,
     "end_time": "2022-06-15T10:14:31.744975",
     "exception": false,
     "start_time": "2022-06-15T10:14:31.711144",
     "status": "completed"
    },
    "tags": []
   },
   "source": [
    "And setup the labels as 1 (when the digit is 3) and 0 (when the digit is 8)"
   ]
  },
  {
   "cell_type": "code",
   "execution_count": 12,
   "id": "7dc908f2",
   "metadata": {
    "execution": {
     "iopub.execute_input": "2022-06-15T10:14:31.818179Z",
     "iopub.status.busy": "2022-06-15T10:14:31.817434Z",
     "iopub.status.idle": "2022-06-15T10:14:31.832043Z",
     "shell.execute_reply": "2022-06-15T10:14:31.832579Z"
    },
    "papermill": {
     "duration": 0.05298,
     "end_time": "2022-06-15T10:14:31.832724",
     "exception": false,
     "start_time": "2022-06-15T10:14:31.779744",
     "status": "completed"
    },
    "tags": []
   },
   "outputs": [],
   "source": [
    "y_train = 1*(y_train==3)\n",
    "y_test = 1*(y_test==3)"
   ]
  },
  {
   "cell_type": "code",
   "execution_count": 13,
   "id": "01e4e969",
   "metadata": {
    "execution": {
     "iopub.execute_input": "2022-06-15T10:14:31.909989Z",
     "iopub.status.busy": "2022-06-15T10:14:31.909186Z",
     "iopub.status.idle": "2022-06-15T10:14:31.926893Z",
     "shell.execute_reply": "2022-06-15T10:14:31.926088Z"
    },
    "papermill": {
     "duration": 0.05966,
     "end_time": "2022-06-15T10:14:31.927029",
     "exception": false,
     "start_time": "2022-06-15T10:14:31.867369",
     "status": "completed"
    },
    "tags": []
   },
   "outputs": [
    {
     "data": {
      "text/plain": [
       "((11982, 28, 28), (1984, 28, 28))"
      ]
     },
     "execution_count": 13,
     "metadata": {},
     "output_type": "execute_result"
    }
   ],
   "source": [
    "X_train.shape, X_test.shape"
   ]
  },
  {
   "cell_type": "markdown",
   "id": "5ccf3f85",
   "metadata": {
    "papermill": {
     "duration": 0.035276,
     "end_time": "2022-06-15T10:14:31.994520",
     "exception": false,
     "start_time": "2022-06-15T10:14:31.959244",
     "status": "completed"
    },
    "tags": []
   },
   "source": [
    "We reshape the data to flatten the image pixels into a set of features or co-variates:"
   ]
  },
  {
   "cell_type": "code",
   "execution_count": 14,
   "id": "5286a4a3",
   "metadata": {
    "execution": {
     "iopub.execute_input": "2022-06-15T10:14:32.071373Z",
     "iopub.status.busy": "2022-06-15T10:14:32.070594Z",
     "iopub.status.idle": "2022-06-15T10:14:32.092806Z",
     "shell.execute_reply": "2022-06-15T10:14:32.092093Z"
    },
    "papermill": {
     "duration": 0.063053,
     "end_time": "2022-06-15T10:14:32.092962",
     "exception": false,
     "start_time": "2022-06-15T10:14:32.029909",
     "status": "completed"
    },
    "tags": []
   },
   "outputs": [
    {
     "data": {
      "text/plain": [
       "((11982, 784), (1984, 784))"
      ]
     },
     "execution_count": 14,
     "metadata": {},
     "output_type": "execute_result"
    }
   ],
   "source": [
    "X_train = X_train.reshape(X_train.shape[0], -1)\n",
    "X_test = X_test.reshape(X_test.shape[0], -1)\n",
    "X_train.shape, X_test.shape"
   ]
  },
  {
   "cell_type": "code",
   "execution_count": 15,
   "id": "73c5f88a",
   "metadata": {
    "execution": {
     "iopub.execute_input": "2022-06-15T10:14:32.170722Z",
     "iopub.status.busy": "2022-06-15T10:14:32.169954Z",
     "iopub.status.idle": "2022-06-15T10:14:32.192223Z",
     "shell.execute_reply": "2022-06-15T10:14:32.192796Z"
    },
    "papermill": {
     "duration": 0.064004,
     "end_time": "2022-06-15T10:14:32.192942",
     "exception": false,
     "start_time": "2022-06-15T10:14:32.128938",
     "status": "completed"
    },
    "tags": []
   },
   "outputs": [],
   "source": [
    "#Impoting functions from 'Kudzu'\n",
    "from kudzu.model import Model\n",
    "from kudzu.train import Learner\n",
    "from kudzu.optim import GD\n",
    "from kudzu.data import Data, Sampler,Dataloader\n",
    "\n",
    "from kudzu.callbacks import AccCallback\n",
    "from kudzu.callbacks import ClfCallback\n",
    "\n",
    "from kudzu.loss import MSE\n",
    "\n",
    "from kudzu.layer import Sigmoid,Relu\n",
    "from kudzu.layer import Affine"
   ]
  },
  {
   "cell_type": "markdown",
   "id": "bc01172a",
   "metadata": {
    "papermill": {
     "duration": 0.035108,
     "end_time": "2022-06-15T10:14:32.263697",
     "exception": false,
     "start_time": "2022-06-15T10:14:32.228589",
     "status": "completed"
    },
    "tags": []
   },
   "source": [
    "### Let us create a `Config` class, to store important parameters. \n",
    "This class essentially plays the role of a dictionary."
   ]
  },
  {
   "cell_type": "code",
   "execution_count": 16,
   "id": "978281aa",
   "metadata": {
    "execution": {
     "iopub.execute_input": "2022-06-15T10:14:32.342557Z",
     "iopub.status.busy": "2022-06-15T10:14:32.341787Z",
     "iopub.status.idle": "2022-06-15T10:14:32.357948Z",
     "shell.execute_reply": "2022-06-15T10:14:32.357194Z"
    },
    "papermill": {
     "duration": 0.058352,
     "end_time": "2022-06-15T10:14:32.358094",
     "exception": false,
     "start_time": "2022-06-15T10:14:32.299742",
     "status": "completed"
    },
    "tags": []
   },
   "outputs": [],
   "source": [
    "class Config:\n",
    "    pass\n",
    "config = Config()\n",
    "config.lr = 0.001\n",
    "config.num_epochs = 250\n",
    "config.bs = 50"
   ]
  },
  {
   "cell_type": "markdown",
   "id": "1385fa59",
   "metadata": {
    "papermill": {
     "duration": 0.034448,
     "end_time": "2022-06-15T10:14:32.426077",
     "exception": false,
     "start_time": "2022-06-15T10:14:32.391629",
     "status": "completed"
    },
    "tags": []
   },
   "source": [
    "### Running Models with the Training data\n",
    "Details about the network layers:\n",
    "- A first affine layer has 784 inputs and does 100 affine transforms. These are followed by a Relu\n",
    "- A second affine layer has 100 inputs from the 100 activations of the past layer, and does 100 affine transforms. These are followed by a Relu\n",
    "- A third affine layer has 100 activations and does 2 affine transformations to create an embedding for visualization. There is no non-linearity here.\n",
    "- A final \"logistic regression\" which has an affine transform from 2 inputs to 1 output, which is squeezed through a sigmoid.\n"
   ]
  },
  {
   "cell_type": "code",
   "execution_count": 17,
   "id": "2b9c66db",
   "metadata": {
    "execution": {
     "iopub.execute_input": "2022-06-15T10:14:32.503736Z",
     "iopub.status.busy": "2022-06-15T10:14:32.502990Z",
     "iopub.status.idle": "2022-06-15T10:14:32.519582Z",
     "shell.execute_reply": "2022-06-15T10:14:32.520123Z"
    },
    "papermill": {
     "duration": 0.059091,
     "end_time": "2022-06-15T10:14:32.520289",
     "exception": false,
     "start_time": "2022-06-15T10:14:32.461198",
     "status": "completed"
    },
    "tags": []
   },
   "outputs": [],
   "source": [
    "data = Data(X_train, y_train.reshape(-1,1))\n",
    "sampler = Sampler(data, config.bs, shuffle=True)\n",
    "\n",
    "dl = Dataloader(data, sampler)\n",
    "\n",
    "opt = GD(config.lr)\n",
    "loss = MSE()"
   ]
  },
  {
   "cell_type": "code",
   "execution_count": 18,
   "id": "b275e4c2",
   "metadata": {
    "execution": {
     "iopub.execute_input": "2022-06-15T10:14:32.595620Z",
     "iopub.status.busy": "2022-06-15T10:14:32.590623Z",
     "iopub.status.idle": "2022-06-15T10:14:32.605399Z",
     "shell.execute_reply": "2022-06-15T10:14:32.605997Z"
    },
    "papermill": {
     "duration": 0.052663,
     "end_time": "2022-06-15T10:14:32.606162",
     "exception": false,
     "start_time": "2022-06-15T10:14:32.553499",
     "status": "completed"
    },
    "tags": []
   },
   "outputs": [],
   "source": [
    "training_data_x = X_train\n",
    "testing_data_x = X_test\n",
    "training_data_y = y_train.reshape(-1,1)\n",
    "testing_data_y = y_test.reshape(-1,1)"
   ]
  },
  {
   "cell_type": "code",
   "execution_count": 19,
   "id": "76951160",
   "metadata": {
    "execution": {
     "iopub.execute_input": "2022-06-15T10:14:32.683667Z",
     "iopub.status.busy": "2022-06-15T10:14:32.682948Z",
     "iopub.status.idle": "2022-06-15T10:14:32.701379Z",
     "shell.execute_reply": "2022-06-15T10:14:32.702082Z"
    },
    "papermill": {
     "duration": 0.06012,
     "end_time": "2022-06-15T10:14:32.702245",
     "exception": false,
     "start_time": "2022-06-15T10:14:32.642125",
     "status": "completed"
    },
    "tags": []
   },
   "outputs": [
    {
     "name": "stdout",
     "output_type": "stream",
     "text": [
      "xavier\n",
      "xavier\n",
      "xavier\n",
      "xavier\n",
      "xavier\n"
     ]
    }
   ],
   "source": [
    "layers = [Affine(\"first\", 784, 100), Relu(\"first\"), Affine(\"second\", 100, 100), Relu(\"second\"), Affine(\"third\", 100, 2), Affine(\"last\", 2, 1), Sigmoid(\"last\")]\n",
    "model_nn = Model(layers)\n",
    "model_lr = Model([Affine(\"logits\", 784, 1), Sigmoid(\"sigmoid\")])"
   ]
  },
  {
   "cell_type": "code",
   "execution_count": 20,
   "id": "6eede77a",
   "metadata": {
    "execution": {
     "iopub.execute_input": "2022-06-15T10:14:32.778261Z",
     "iopub.status.busy": "2022-06-15T10:14:32.777500Z",
     "iopub.status.idle": "2022-06-15T10:14:32.791941Z",
     "shell.execute_reply": "2022-06-15T10:14:32.791354Z"
    },
    "papermill": {
     "duration": 0.053578,
     "end_time": "2022-06-15T10:14:32.792082",
     "exception": false,
     "start_time": "2022-06-15T10:14:32.738504",
     "status": "completed"
    },
    "tags": []
   },
   "outputs": [],
   "source": [
    "nn_learner = Learner(loss, model_nn, opt, config.num_epochs)\n",
    "acc_nn = ClfCallback(nn_learner, config.bs, training_data_x , testing_data_x, training_data_y, testing_data_y)\n",
    "nn_learner.set_callbacks([acc_nn])"
   ]
  },
  {
   "cell_type": "code",
   "execution_count": 21,
   "id": "877b6cc7",
   "metadata": {
    "execution": {
     "iopub.execute_input": "2022-06-15T10:14:32.866913Z",
     "iopub.status.busy": "2022-06-15T10:14:32.866170Z",
     "iopub.status.idle": "2022-06-15T10:14:32.880276Z",
     "shell.execute_reply": "2022-06-15T10:14:32.879627Z"
    },
    "papermill": {
     "duration": 0.055613,
     "end_time": "2022-06-15T10:14:32.880531",
     "exception": false,
     "start_time": "2022-06-15T10:14:32.824918",
     "status": "completed"
    },
    "tags": []
   },
   "outputs": [],
   "source": [
    "lr_learner = Learner(loss, model_lr, opt, config.num_epochs)\n",
    "acc_lr = ClfCallback(lr_learner, config.bs, training_data_x , testing_data_x, training_data_y, testing_data_y)\n",
    "lr_learner.set_callbacks([acc_lr])"
   ]
  },
  {
   "cell_type": "code",
   "execution_count": 22,
   "id": "d9b133c3",
   "metadata": {
    "execution": {
     "iopub.execute_input": "2022-06-15T10:14:32.957867Z",
     "iopub.status.busy": "2022-06-15T10:14:32.957074Z",
     "iopub.status.idle": "2022-06-15T10:17:00.121794Z",
     "shell.execute_reply": "2022-06-15T10:17:00.122746Z"
    },
    "papermill": {
     "duration": 147.207918,
     "end_time": "2022-06-15T10:17:00.122913",
     "exception": false,
     "start_time": "2022-06-15T10:14:32.914995",
     "status": "completed"
    },
    "tags": []
   },
   "outputs": [
    {
     "name": "stdout",
     "output_type": "stream",
     "text": [
      "Epoch 0, Loss 0.239\n",
      "Training Accuracy: 0.6914, Testing Accuracy: 0.6739\n",
      "\n"
     ]
    },
    {
     "name": "stdout",
     "output_type": "stream",
     "text": [
      "Epoch 10, Loss 0.0983\n",
      "Training Accuracy: 0.9047, Testing Accuracy: 0.9042\n",
      "\n"
     ]
    },
    {
     "name": "stdout",
     "output_type": "stream",
     "text": [
      "Epoch 20, Loss 0.0596\n",
      "Training Accuracy: 0.9387, Testing Accuracy: 0.9430\n",
      "\n"
     ]
    },
    {
     "name": "stdout",
     "output_type": "stream",
     "text": [
      "Epoch 30, Loss 0.0458\n",
      "Training Accuracy: 0.9498, Testing Accuracy: 0.9561\n",
      "\n"
     ]
    },
    {
     "name": "stdout",
     "output_type": "stream",
     "text": [
      "Epoch 40, Loss 0.0391\n",
      "Training Accuracy: 0.9561, Testing Accuracy: 0.9637\n",
      "\n"
     ]
    },
    {
     "name": "stdout",
     "output_type": "stream",
     "text": [
      "Epoch 50, Loss 0.0351\n",
      "Training Accuracy: 0.9609, Testing Accuracy: 0.9657\n",
      "\n"
     ]
    },
    {
     "name": "stdout",
     "output_type": "stream",
     "text": [
      "Epoch 60, Loss 0.0324\n",
      "Training Accuracy: 0.9635, Testing Accuracy: 0.9657\n",
      "\n"
     ]
    },
    {
     "name": "stdout",
     "output_type": "stream",
     "text": [
      "Epoch 70, Loss 0.0304\n",
      "Training Accuracy: 0.9657, Testing Accuracy: 0.9652\n",
      "\n"
     ]
    },
    {
     "name": "stdout",
     "output_type": "stream",
     "text": [
      "Epoch 80, Loss 0.0289\n",
      "Training Accuracy: 0.9674, Testing Accuracy: 0.9657\n",
      "\n"
     ]
    },
    {
     "name": "stdout",
     "output_type": "stream",
     "text": [
      "Epoch 90, Loss 0.0276\n",
      "Training Accuracy: 0.9682, Testing Accuracy: 0.9667\n",
      "\n"
     ]
    },
    {
     "name": "stdout",
     "output_type": "stream",
     "text": [
      "Epoch 100, Loss 0.0265\n",
      "Training Accuracy: 0.9690, Testing Accuracy: 0.9667\n",
      "\n"
     ]
    },
    {
     "name": "stdout",
     "output_type": "stream",
     "text": [
      "Epoch 110, Loss 0.0256\n",
      "Training Accuracy: 0.9700, Testing Accuracy: 0.9698\n",
      "\n"
     ]
    },
    {
     "name": "stdout",
     "output_type": "stream",
     "text": [
      "Epoch 120, Loss 0.0247\n",
      "Training Accuracy: 0.9715, Testing Accuracy: 0.9698\n",
      "\n"
     ]
    },
    {
     "name": "stdout",
     "output_type": "stream",
     "text": [
      "Epoch 130, Loss 0.024\n",
      "Training Accuracy: 0.9718, Testing Accuracy: 0.9703\n",
      "\n"
     ]
    },
    {
     "name": "stdout",
     "output_type": "stream",
     "text": [
      "Epoch 140, Loss 0.0233\n",
      "Training Accuracy: 0.9726, Testing Accuracy: 0.9713\n",
      "\n"
     ]
    },
    {
     "name": "stdout",
     "output_type": "stream",
     "text": [
      "Epoch 150, Loss 0.0227\n",
      "Training Accuracy: 0.9735, Testing Accuracy: 0.9723\n",
      "\n"
     ]
    },
    {
     "name": "stdout",
     "output_type": "stream",
     "text": [
      "Epoch 160, Loss 0.0221\n",
      "Training Accuracy: 0.9739, Testing Accuracy: 0.9723\n",
      "\n"
     ]
    },
    {
     "name": "stdout",
     "output_type": "stream",
     "text": [
      "Epoch 170, Loss 0.0216\n",
      "Training Accuracy: 0.9750, Testing Accuracy: 0.9728\n",
      "\n"
     ]
    },
    {
     "name": "stdout",
     "output_type": "stream",
     "text": [
      "Epoch 180, Loss 0.0211\n",
      "Training Accuracy: 0.9753, Testing Accuracy: 0.9738\n",
      "\n"
     ]
    },
    {
     "name": "stdout",
     "output_type": "stream",
     "text": [
      "Epoch 190, Loss 0.0206\n",
      "Training Accuracy: 0.9762, Testing Accuracy: 0.9743\n",
      "\n"
     ]
    },
    {
     "name": "stdout",
     "output_type": "stream",
     "text": [
      "Epoch 200, Loss 0.0201\n",
      "Training Accuracy: 0.9770, Testing Accuracy: 0.9748\n",
      "\n"
     ]
    },
    {
     "name": "stdout",
     "output_type": "stream",
     "text": [
      "Epoch 210, Loss 0.0196\n",
      "Training Accuracy: 0.9775, Testing Accuracy: 0.9763\n",
      "\n"
     ]
    },
    {
     "name": "stdout",
     "output_type": "stream",
     "text": [
      "Epoch 220, Loss 0.0192\n",
      "Training Accuracy: 0.9784, Testing Accuracy: 0.9763\n",
      "\n"
     ]
    },
    {
     "name": "stdout",
     "output_type": "stream",
     "text": [
      "Epoch 230, Loss 0.0188\n",
      "Training Accuracy: 0.9789, Testing Accuracy: 0.9763\n",
      "\n"
     ]
    },
    {
     "name": "stdout",
     "output_type": "stream",
     "text": [
      "Epoch 240, Loss 0.0184\n",
      "Training Accuracy: 0.9796, Testing Accuracy: 0.9773\n",
      "\n"
     ]
    },
    {
     "data": {
      "text/plain": [
       "0.004834662631565047"
      ]
     },
     "execution_count": 22,
     "metadata": {},
     "output_type": "execute_result"
    }
   ],
   "source": [
    "nn_learner.train_loop(dl)"
   ]
  },
  {
   "cell_type": "code",
   "execution_count": 23,
   "id": "e0163366",
   "metadata": {
    "execution": {
     "iopub.execute_input": "2022-06-15T10:17:00.219543Z",
     "iopub.status.busy": "2022-06-15T10:17:00.218765Z",
     "iopub.status.idle": "2022-06-15T10:17:22.059727Z",
     "shell.execute_reply": "2022-06-15T10:17:22.062693Z"
    },
    "papermill": {
     "duration": 21.895636,
     "end_time": "2022-06-15T10:17:22.062889",
     "exception": false,
     "start_time": "2022-06-15T10:17:00.167253",
     "status": "completed"
    },
    "tags": []
   },
   "outputs": [
    {
     "name": "stdout",
     "output_type": "stream",
     "text": [
      "Epoch 0, Loss 0.2165\n",
      "Training Accuracy: 0.7581, Testing Accuracy: 0.7702\n",
      "\n"
     ]
    },
    {
     "name": "stdout",
     "output_type": "stream",
     "text": [
      "Epoch 10, Loss 0.1019\n",
      "Training Accuracy: 0.9072, Testing Accuracy: 0.9123\n",
      "\n"
     ]
    },
    {
     "name": "stdout",
     "output_type": "stream",
     "text": [
      "Epoch 20, Loss 0.0788\n",
      "Training Accuracy: 0.9290, Testing Accuracy: 0.9355\n",
      "\n"
     ]
    },
    {
     "name": "stdout",
     "output_type": "stream",
     "text": [
      "Epoch 30, Loss 0.068\n",
      "Training Accuracy: 0.9370, Testing Accuracy: 0.9451\n",
      "\n"
     ]
    },
    {
     "name": "stdout",
     "output_type": "stream",
     "text": [
      "Epoch 40, Loss 0.0614\n",
      "Training Accuracy: 0.9413, Testing Accuracy: 0.9516\n",
      "\n"
     ]
    },
    {
     "name": "stdout",
     "output_type": "stream",
     "text": [
      "Epoch 50, Loss 0.0569\n",
      "Training Accuracy: 0.9441, Testing Accuracy: 0.9546\n",
      "\n"
     ]
    },
    {
     "name": "stdout",
     "output_type": "stream",
     "text": [
      "Epoch 60, Loss 0.0536\n",
      "Training Accuracy: 0.9459, Testing Accuracy: 0.9561\n",
      "\n"
     ]
    },
    {
     "name": "stdout",
     "output_type": "stream",
     "text": [
      "Epoch 70, Loss 0.0511\n",
      "Training Accuracy: 0.9484, Testing Accuracy: 0.9577\n",
      "\n"
     ]
    },
    {
     "name": "stdout",
     "output_type": "stream",
     "text": [
      "Epoch 80, Loss 0.0491\n",
      "Training Accuracy: 0.9498, Testing Accuracy: 0.9592\n",
      "\n"
     ]
    },
    {
     "name": "stdout",
     "output_type": "stream",
     "text": [
      "Epoch 90, Loss 0.0474\n",
      "Training Accuracy: 0.9523, Testing Accuracy: 0.9607\n",
      "\n"
     ]
    },
    {
     "name": "stdout",
     "output_type": "stream",
     "text": [
      "Epoch 100, Loss 0.046\n",
      "Training Accuracy: 0.9538, Testing Accuracy: 0.9622\n",
      "\n"
     ]
    },
    {
     "name": "stdout",
     "output_type": "stream",
     "text": [
      "Epoch 110, Loss 0.0448\n",
      "Training Accuracy: 0.9547, Testing Accuracy: 0.9627\n",
      "\n"
     ]
    },
    {
     "name": "stdout",
     "output_type": "stream",
     "text": [
      "Epoch 120, Loss 0.0437\n",
      "Training Accuracy: 0.9556, Testing Accuracy: 0.9627\n",
      "\n"
     ]
    },
    {
     "name": "stdout",
     "output_type": "stream",
     "text": [
      "Epoch 130, Loss 0.0428\n",
      "Training Accuracy: 0.9559, Testing Accuracy: 0.9622\n",
      "\n"
     ]
    },
    {
     "name": "stdout",
     "output_type": "stream",
     "text": [
      "Epoch 140, Loss 0.0419\n",
      "Training Accuracy: 0.9562, Testing Accuracy: 0.9627\n",
      "\n"
     ]
    },
    {
     "name": "stdout",
     "output_type": "stream",
     "text": [
      "Epoch 150, Loss 0.0412\n",
      "Training Accuracy: 0.9566, Testing Accuracy: 0.9637\n",
      "\n"
     ]
    },
    {
     "name": "stdout",
     "output_type": "stream",
     "text": [
      "Epoch 160, Loss 0.0405\n",
      "Training Accuracy: 0.9569, Testing Accuracy: 0.9637\n",
      "\n"
     ]
    },
    {
     "name": "stdout",
     "output_type": "stream",
     "text": [
      "Epoch 170, Loss 0.0399\n",
      "Training Accuracy: 0.9574, Testing Accuracy: 0.9642\n",
      "\n"
     ]
    },
    {
     "name": "stdout",
     "output_type": "stream",
     "text": [
      "Epoch 180, Loss 0.0394\n",
      "Training Accuracy: 0.9581, Testing Accuracy: 0.9647\n",
      "\n"
     ]
    },
    {
     "name": "stdout",
     "output_type": "stream",
     "text": [
      "Epoch 190, Loss 0.0388\n",
      "Training Accuracy: 0.9585, Testing Accuracy: 0.9647\n",
      "\n"
     ]
    },
    {
     "name": "stdout",
     "output_type": "stream",
     "text": [
      "Epoch 200, Loss 0.0384\n",
      "Training Accuracy: 0.9594, Testing Accuracy: 0.9647\n",
      "\n"
     ]
    },
    {
     "name": "stdout",
     "output_type": "stream",
     "text": [
      "Epoch 210, Loss 0.0379\n",
      "Training Accuracy: 0.9604, Testing Accuracy: 0.9647\n",
      "\n"
     ]
    },
    {
     "name": "stdout",
     "output_type": "stream",
     "text": [
      "Epoch 220, Loss 0.0375\n",
      "Training Accuracy: 0.9607, Testing Accuracy: 0.9647\n",
      "\n"
     ]
    },
    {
     "name": "stdout",
     "output_type": "stream",
     "text": [
      "Epoch 230, Loss 0.0371\n",
      "Training Accuracy: 0.9611, Testing Accuracy: 0.9662\n",
      "\n"
     ]
    },
    {
     "name": "stdout",
     "output_type": "stream",
     "text": [
      "Epoch 240, Loss 0.0368\n",
      "Training Accuracy: 0.9612, Testing Accuracy: 0.9662\n",
      "\n"
     ]
    },
    {
     "data": {
      "text/plain": [
       "0.03178788896792344"
      ]
     },
     "execution_count": 23,
     "metadata": {},
     "output_type": "execute_result"
    }
   ],
   "source": [
    "lr_learner.train_loop(dl)"
   ]
  },
  {
   "cell_type": "code",
   "execution_count": 24,
   "id": "ca410940",
   "metadata": {
    "execution": {
     "iopub.execute_input": "2022-06-15T10:17:22.177510Z",
     "iopub.status.busy": "2022-06-15T10:17:22.176787Z",
     "iopub.status.idle": "2022-06-15T10:17:22.493326Z",
     "shell.execute_reply": "2022-06-15T10:17:22.493832Z"
    },
    "papermill": {
     "duration": 0.377252,
     "end_time": "2022-06-15T10:17:22.494031",
     "exception": false,
     "start_time": "2022-06-15T10:17:22.116779",
     "status": "completed"
    },
    "tags": []
   },
   "outputs": [
    {
     "data": {
      "text/plain": [
       "<matplotlib.legend.Legend at 0x7fc9d53fba58>"
      ]
     },
     "execution_count": 24,
     "metadata": {},
     "output_type": "execute_result"
    },
    {
     "data": {
      "image/png": "[encoded data removed]",
      "text/plain": [
       "<Figure size 1080x720 with 1 Axes>"
      ]
     },
     "metadata": {
      "needs_background": "light"
     },
     "output_type": "display_data"
    }
   ],
   "source": [
    "#comparing the results of NN and LR\n",
    "plt.figure(figsize=(15,10))\n",
    "\n",
    "# Neural Network plots\n",
    "plt.plot(acc_nn.accuracies, 'r-', label = \"Training Accuracies - NN\")\n",
    "plt.plot(acc_nn.test_accuracies, 'g-', label = \"Testing Accuracies - NN\")\n",
    "\n",
    "# Logistic Regression plots\n",
    "plt.plot(acc_lr.accuracies, 'k-', label = \"Training Accuracies - LR\")\n",
    "plt.plot(acc_lr.test_accuracies, 'b-', label = \"Testing Accuracies - LR\")\n",
    "plt.legend()"
   ]
  },
  {
   "cell_type": "markdown",
   "id": "80dfb35c",
   "metadata": {
    "papermill": {
     "duration": 0.052726,
     "end_time": "2022-06-15T10:17:22.597537",
     "exception": false,
     "start_time": "2022-06-15T10:17:22.544811",
     "status": "completed"
    },
    "tags": []
   },
   "source": [
    "#### Plotting the outputs of this layer of the NN.\n"
   ]
  },
  {
   "cell_type": "code",
   "execution_count": 25,
   "id": "45eb2ff5",
   "metadata": {
    "execution": {
     "iopub.execute_input": "2022-06-15T10:17:22.712134Z",
     "iopub.status.busy": "2022-06-15T10:17:22.711065Z",
     "iopub.status.idle": "2022-06-15T10:17:22.743406Z",
     "shell.execute_reply": "2022-06-15T10:17:22.744297Z"
    },
    "papermill": {
     "duration": 0.097454,
     "end_time": "2022-06-15T10:17:22.744590",
     "exception": false,
     "start_time": "2022-06-15T10:17:22.647136",
     "status": "completed"
    },
    "tags": []
   },
   "outputs": [],
   "source": [
    "new_model = Model(layers[:-2])\n",
    "testing_plot = new_model(testing_data_x)"
   ]
  },
  {
   "cell_type": "code",
   "execution_count": 26,
   "id": "4c0a5485",
   "metadata": {
    "execution": {
     "iopub.execute_input": "2022-06-15T10:17:22.872467Z",
     "iopub.status.busy": "2022-06-15T10:17:22.871429Z",
     "iopub.status.idle": "2022-06-15T10:17:23.194404Z",
     "shell.execute_reply": "2022-06-15T10:17:23.194995Z"
    },
    "papermill": {
     "duration": 0.393922,
     "end_time": "2022-06-15T10:17:23.195188",
     "exception": false,
     "start_time": "2022-06-15T10:17:22.801266",
     "status": "completed"
    },
    "tags": []
   },
   "outputs": [
    {
     "data": {
      "text/plain": [
       "Text(0.5, 1.0, 'Outputs')"
      ]
     },
     "execution_count": 26,
     "metadata": {},
     "output_type": "execute_result"
    },
    {
     "data": {
      "image/png": "[encoded data removed]",
      "text/plain": [
       "<Figure size 576x504 with 1 Axes>"
      ]
     },
     "metadata": {
      "needs_background": "light"
     },
     "output_type": "display_data"
    }
   ],
   "source": [
    "# Plotting the scatter plot of points and color coding by class\n",
    "plt.figure(figsize=(8,7))\n",
    "plt.scatter(testing_plot[:,0], testing_plot[:,1], alpha = 0.1, c = y_test.ravel());\n",
    "plt.title('Outputs')"
   ]
  },
  {
   "cell_type": "markdown",
   "id": "a74fcf8f",
   "metadata": {
    "papermill": {
     "duration": 0.07812,
     "end_time": "2022-06-15T10:17:23.331532",
     "exception": false,
     "start_time": "2022-06-15T10:17:23.253412",
     "status": "completed"
    },
    "tags": []
   },
   "source": [
    "Probability contours"
   ]
  },
  {
   "cell_type": "code",
   "execution_count": 27,
   "id": "d0afc8e3",
   "metadata": {
    "execution": {
     "iopub.execute_input": "2022-06-15T10:17:23.448032Z",
     "iopub.status.busy": "2022-06-15T10:17:23.447235Z",
     "iopub.status.idle": "2022-06-15T10:17:23.463185Z",
     "shell.execute_reply": "2022-06-15T10:17:23.462518Z"
    },
    "papermill": {
     "duration": 0.075964,
     "end_time": "2022-06-15T10:17:23.463326",
     "exception": false,
     "start_time": "2022-06-15T10:17:23.387362",
     "status": "completed"
    },
    "tags": []
   },
   "outputs": [],
   "source": [
    "model_prob = Model(layers[-2:]) "
   ]
  },
  {
   "cell_type": "code",
   "execution_count": 28,
   "id": "9b96e238",
   "metadata": {
    "execution": {
     "iopub.execute_input": "2022-06-15T10:17:23.586334Z",
     "iopub.status.busy": "2022-06-15T10:17:23.585326Z",
     "iopub.status.idle": "2022-06-15T10:17:23.600557Z",
     "shell.execute_reply": "2022-06-15T10:17:23.601143Z"
    },
    "papermill": {
     "duration": 0.081736,
     "end_time": "2022-06-15T10:17:23.601300",
     "exception": false,
     "start_time": "2022-06-15T10:17:23.519564",
     "status": "completed"
    },
    "tags": []
   },
   "outputs": [],
   "source": [
    "#creating the x and y ranges according to the above generated plot.\n",
    "x_range = np.linspace(-4, 1, 100) \n",
    "y_range = np.linspace(-6, 6, 100) \n",
    "x_grid, y_grid = np.meshgrid(x_range, y_range) # x_grid and y_grig are of size 100 X 100\n",
    "\n",
    "# converting x_grid and y_grid to continuous arrays\n",
    "x_gridflat = np.ravel(x_grid)\n",
    "y_gridflat = np.ravel(y_grid)\n",
    "\n",
    "# The last layer of the current model takes two columns as input. Hence transpose of np.vstack() is required.\n",
    "X = np.vstack((x_gridflat, y_gridflat)).T\n",
    "\n",
    "prob_contour = model_prob(X).reshape(100,100) "
   ]
  },
  {
   "cell_type": "code",
   "execution_count": 29,
   "id": "da72499a",
   "metadata": {
    "execution": {
     "iopub.execute_input": "2022-06-15T10:17:23.728810Z",
     "iopub.status.busy": "2022-06-15T10:17:23.728024Z",
     "iopub.status.idle": "2022-06-15T10:17:24.083845Z",
     "shell.execute_reply": "2022-06-15T10:17:24.083274Z"
    },
    "papermill": {
     "duration": 0.424744,
     "end_time": "2022-06-15T10:17:24.084055",
     "exception": false,
     "start_time": "2022-06-15T10:17:23.659311",
     "status": "completed"
    },
    "tags": []
   },
   "outputs": [
    {
     "data": {
      "image/png": "[encoded data removed]",
      "text/plain": [
       "<Figure size 720x648 with 1 Axes>"
      ]
     },
     "metadata": {
      "needs_background": "light"
     },
     "output_type": "display_data"
    }
   ],
   "source": [
    "plt.figure(figsize=(10,9))\n",
    "plt.scatter(testing_plot[:,0], testing_plot[:,1], alpha = 0.1, c = y_test.ravel())\n",
    "contours = plt.contour(x_grid,y_grid,prob_contour)\n",
    "plt.title('Probability Contours')\n",
    "plt.clabel(contours, inline = True );"
   ]
  },
  {
   "cell_type": "code",
   "execution_count": null,
   "id": "e81b4ac7",
   "metadata": {
    "papermill": {
     "duration": 0.054672,
     "end_time": "2022-06-15T10:17:24.197723",
     "exception": false,
     "start_time": "2022-06-15T10:17:24.143051",
     "status": "completed"
    },
    "tags": []
   },
   "outputs": [],
   "source": []
  }
 ],
 "metadata": {
  "kernelspec": {
   "display_name": "Python 3",
   "language": "python",
   "name": "python3"
  },
  "language_info": {
   "codemirror_mode": {
    "name": "ipython",
    "version": 3
   },
   "file_extension": ".py",
   "mimetype": "text/x-python",
   "name": "python",
   "nbconvert_exporter": "python",
   "pygments_lexer": "ipython3",
   "version": "3.6.15"
  },
  "papermill": {
   "default_parameters": {},
   "duration": 179.411954,
   "end_time": "2022-06-15T10:17:24.679506",
   "environment_variables": {},
   "exception": null,
   "input_path": "2020-08-11-part2.ipynb",
   "output_path": "2020-08-11-part2.ipynb",
   "parameters": {},
   "start_time": "2022-06-15T10:14:25.267552",
   "version": "2.3.3"
  }
 },
 "nbformat": 4,
 "nbformat_minor": 5
}