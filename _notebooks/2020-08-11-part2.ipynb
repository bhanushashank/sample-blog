{
 "cells": [
  {
   "cell_type": "markdown",
   "id": "98380cd3",
   "metadata": {
    "papermill": {
     "duration": 0.036842,
     "end_time": "2021-09-16T10:25:33.522106",
     "exception": false,
     "start_time": "2021-09-16T10:25:33.485264",
     "status": "completed"
    },
    "tags": []
   },
   "source": [
    "# Distinguish Your Own Digits (DYOD)"
   ]
  },
  {
   "cell_type": "markdown",
   "id": "ef31240d",
   "metadata": {
    "papermill": {
     "duration": 0.03053,
     "end_time": "2021-09-16T10:25:33.587536",
     "exception": false,
     "start_time": "2021-09-16T10:25:33.557006",
     "status": "completed"
    },
    "tags": []
   },
   "source": [
    "You are going to write a classifier that distinguishes between the number 3 and number 8."
   ]
  },
  {
   "cell_type": "code",
   "execution_count": 1,
   "id": "b15c8646",
   "metadata": {
    "execution": {
     "iopub.execute_input": "2021-09-16T10:25:33.652651Z",
     "iopub.status.busy": "2021-09-16T10:25:33.652049Z",
     "iopub.status.idle": "2021-09-16T10:25:33.664191Z",
     "shell.execute_reply": "2021-09-16T10:25:33.663672Z"
    },
    "papermill": {
     "duration": 0.050243,
     "end_time": "2021-09-16T10:25:33.664323",
     "exception": false,
     "start_time": "2021-09-16T10:25:33.614080",
     "status": "completed"
    },
    "tags": []
   },
   "outputs": [],
   "source": [
    "%load_ext autoreload\n",
    "%autoreload 2"
   ]
  },
  {
   "cell_type": "code",
   "execution_count": 2,
   "id": "22ef38dc",
   "metadata": {
    "execution": {
     "iopub.execute_input": "2021-09-16T10:25:33.721653Z",
     "iopub.status.busy": "2021-09-16T10:25:33.721115Z",
     "iopub.status.idle": "2021-09-16T10:25:34.297135Z",
     "shell.execute_reply": "2021-09-16T10:25:34.296287Z"
    },
    "papermill": {
     "duration": 0.606168,
     "end_time": "2021-09-16T10:25:34.297259",
     "exception": false,
     "start_time": "2021-09-16T10:25:33.691091",
     "status": "completed"
    },
    "tags": []
   },
   "outputs": [],
   "source": [
    "%matplotlib inline\n",
    "import numpy as np\n",
    "import matplotlib.pyplot as plt\n",
    "import pandas as pd"
   ]
  },
  {
   "cell_type": "markdown",
   "id": "ba036198",
   "metadata": {
    "papermill": {
     "duration": 0.027811,
     "end_time": "2021-09-16T10:25:34.351562",
     "exception": false,
     "start_time": "2021-09-16T10:25:34.323751",
     "status": "completed"
    },
    "tags": []
   },
   "source": [
    "From the command line run `pip install mnist`. This is a library that will help you bring down the mnist dataset. If you run this from a notebook, you need to put  `!pip install mnist` in a cell by itself."
   ]
  },
  {
   "cell_type": "code",
   "execution_count": 3,
   "id": "bb6ad8a1",
   "metadata": {
    "execution": {
     "iopub.execute_input": "2021-09-16T10:25:34.408424Z",
     "iopub.status.busy": "2021-09-16T10:25:34.407836Z",
     "iopub.status.idle": "2021-09-16T10:25:36.223094Z",
     "shell.execute_reply": "2021-09-16T10:25:36.222609Z"
    },
    "papermill": {
     "duration": 1.84563,
     "end_time": "2021-09-16T10:25:36.223222",
     "exception": false,
     "start_time": "2021-09-16T10:25:34.377592",
     "status": "completed"
    },
    "tags": []
   },
   "outputs": [
    {
     "name": "stdout",
     "output_type": "stream",
     "text": [
      "Collecting mnist\r\n"
     ]
    },
    {
     "name": "stdout",
     "output_type": "stream",
     "text": [
      "  Downloading mnist-0.2.2-py2.py3-none-any.whl (3.5 kB)\r\n"
     ]
    },
    {
     "name": "stdout",
     "output_type": "stream",
     "text": [
      "Requirement already satisfied: numpy in /opt/hostedtoolcache/Python/3.6.15/x64/lib/python3.6/site-packages (from mnist) (1.19.5)\r\n"
     ]
    },
    {
     "name": "stdout",
     "output_type": "stream",
     "text": [
      "Installing collected packages: mnist\r\n",
      "Successfully installed mnist-0.2.2\r\n"
     ]
    }
   ],
   "source": [
    "!pip install mnist"
   ]
  },
  {
   "cell_type": "markdown",
   "id": "69df9c9a",
   "metadata": {
    "papermill": {
     "duration": 0.027446,
     "end_time": "2021-09-16T10:25:36.277357",
     "exception": false,
     "start_time": "2021-09-16T10:25:36.249911",
     "status": "completed"
    },
    "tags": []
   },
   "source": [
    "## Preparing the Data"
   ]
  },
  {
   "cell_type": "code",
   "execution_count": 4,
   "id": "7f69d806",
   "metadata": {
    "execution": {
     "iopub.execute_input": "2021-09-16T10:25:36.335527Z",
     "iopub.status.busy": "2021-09-16T10:25:36.334934Z",
     "iopub.status.idle": "2021-09-16T10:25:36.349523Z",
     "shell.execute_reply": "2021-09-16T10:25:36.349070Z"
    },
    "papermill": {
     "duration": 0.045235,
     "end_time": "2021-09-16T10:25:36.349628",
     "exception": false,
     "start_time": "2021-09-16T10:25:36.304393",
     "status": "completed"
    },
    "tags": []
   },
   "outputs": [],
   "source": [
    "import mnist"
   ]
  },
  {
   "cell_type": "code",
   "execution_count": 5,
   "id": "a411e44f",
   "metadata": {
    "execution": {
     "iopub.execute_input": "2021-09-16T10:25:36.407335Z",
     "iopub.status.busy": "2021-09-16T10:25:36.406781Z",
     "iopub.status.idle": "2021-09-16T10:25:36.984982Z",
     "shell.execute_reply": "2021-09-16T10:25:36.984045Z"
    },
    "papermill": {
     "duration": 0.608427,
     "end_time": "2021-09-16T10:25:36.985154",
     "exception": false,
     "start_time": "2021-09-16T10:25:36.376727",
     "status": "completed"
    },
    "tags": []
   },
   "outputs": [],
   "source": [
    "train_images = mnist.train_images()\n",
    "train_labels = mnist.train_labels()"
   ]
  },
  {
   "cell_type": "code",
   "execution_count": 6,
   "id": "dceab3a5",
   "metadata": {
    "execution": {
     "iopub.execute_input": "2021-09-16T10:25:37.049884Z",
     "iopub.status.busy": "2021-09-16T10:25:37.048453Z",
     "iopub.status.idle": "2021-09-16T10:25:37.063368Z",
     "shell.execute_reply": "2021-09-16T10:25:37.062876Z"
    },
    "papermill": {
     "duration": 0.048217,
     "end_time": "2021-09-16T10:25:37.063488",
     "exception": false,
     "start_time": "2021-09-16T10:25:37.015271",
     "status": "completed"
    },
    "tags": []
   },
   "outputs": [
    {
     "data": {
      "text/plain": [
       "((60000, 28, 28), (60000,))"
      ]
     },
     "execution_count": 6,
     "metadata": {},
     "output_type": "execute_result"
    }
   ],
   "source": [
    "train_images.shape, train_labels.shape"
   ]
  },
  {
   "cell_type": "code",
   "execution_count": 7,
   "id": "f50dc2bb",
   "metadata": {
    "execution": {
     "iopub.execute_input": "2021-09-16T10:25:37.122749Z",
     "iopub.status.busy": "2021-09-16T10:25:37.122178Z",
     "iopub.status.idle": "2021-09-16T10:25:37.290681Z",
     "shell.execute_reply": "2021-09-16T10:25:37.289562Z"
    },
    "papermill": {
     "duration": 0.199637,
     "end_time": "2021-09-16T10:25:37.290814",
     "exception": false,
     "start_time": "2021-09-16T10:25:37.091177",
     "status": "completed"
    },
    "tags": []
   },
   "outputs": [],
   "source": [
    "test_images = mnist.test_images()\n",
    "test_labels = mnist.test_labels()"
   ]
  },
  {
   "cell_type": "code",
   "execution_count": 8,
   "id": "fc38cf1b",
   "metadata": {
    "execution": {
     "iopub.execute_input": "2021-09-16T10:25:37.347318Z",
     "iopub.status.busy": "2021-09-16T10:25:37.346766Z",
     "iopub.status.idle": "2021-09-16T10:25:37.361523Z",
     "shell.execute_reply": "2021-09-16T10:25:37.362072Z"
    },
    "papermill": {
     "duration": 0.04502,
     "end_time": "2021-09-16T10:25:37.362201",
     "exception": false,
     "start_time": "2021-09-16T10:25:37.317181",
     "status": "completed"
    },
    "tags": []
   },
   "outputs": [
    {
     "data": {
      "text/plain": [
       "((10000, 28, 28), (10000,))"
      ]
     },
     "execution_count": 8,
     "metadata": {},
     "output_type": "execute_result"
    }
   ],
   "source": [
    "test_images.shape, test_labels.shape"
   ]
  },
  {
   "cell_type": "code",
   "execution_count": 9,
   "id": "f9ed8fe0",
   "metadata": {
    "execution": {
     "iopub.execute_input": "2021-09-16T10:25:37.420689Z",
     "iopub.status.busy": "2021-09-16T10:25:37.419767Z",
     "iopub.status.idle": "2021-09-16T10:25:37.567794Z",
     "shell.execute_reply": "2021-09-16T10:25:37.567318Z"
    },
    "papermill": {
     "duration": 0.178414,
     "end_time": "2021-09-16T10:25:37.567910",
     "exception": false,
     "start_time": "2021-09-16T10:25:37.389496",
     "status": "completed"
    },
    "tags": []
   },
   "outputs": [
    {
     "name": "stdout",
     "output_type": "stream",
     "text": [
      "2\n"
     ]
    },
    {
     "data": {
      "text/plain": [
       "<matplotlib.image.AxesImage at 0x7ff192e1ce80>"
      ]
     },
     "execution_count": 9,
     "metadata": {},
     "output_type": "execute_result"
    },
    {
     "data": {
      "image/png": "[encoded data removed]",
      "text/plain": [
       "<Figure size 432x288 with 1 Axes>"
      ]
     },
     "metadata": {
      "needs_background": "light"
     },
     "output_type": "display_data"
    }
   ],
   "source": [
    "image_index = 7776 # You may select anything up to 60,000\n",
    "print(train_labels[image_index]) \n",
    "plt.imshow(train_images[image_index], cmap='Greys')"
   ]
  },
  {
   "cell_type": "markdown",
   "id": "a8d2388d",
   "metadata": {
    "papermill": {
     "duration": 0.02834,
     "end_time": "2021-09-16T10:25:37.624458",
     "exception": false,
     "start_time": "2021-09-16T10:25:37.596118",
     "status": "completed"
    },
    "tags": []
   },
   "source": [
    "## Filter data to get 3 and 8 out"
   ]
  },
  {
   "cell_type": "code",
   "execution_count": 10,
   "id": "776f7fc7",
   "metadata": {
    "execution": {
     "iopub.execute_input": "2021-09-16T10:25:37.687930Z",
     "iopub.status.busy": "2021-09-16T10:25:37.687334Z",
     "iopub.status.idle": "2021-09-16T10:25:37.707152Z",
     "shell.execute_reply": "2021-09-16T10:25:37.706700Z"
    },
    "papermill": {
     "duration": 0.053472,
     "end_time": "2021-09-16T10:25:37.707348",
     "exception": false,
     "start_time": "2021-09-16T10:25:37.653876",
     "status": "completed"
    },
    "tags": []
   },
   "outputs": [],
   "source": [
    "train_filter = np.where((train_labels == 3 ) | (train_labels == 8))\n",
    "test_filter = np.where((test_labels == 3) | (test_labels == 8))\n",
    "X_train, y_train = train_images[train_filter], train_labels[train_filter]\n",
    "X_test, y_test = test_images[test_filter], test_labels[test_filter]"
   ]
  },
  {
   "cell_type": "markdown",
   "id": "948f0b7e",
   "metadata": {
    "papermill": {
     "duration": 0.029484,
     "end_time": "2021-09-16T10:25:37.766067",
     "exception": false,
     "start_time": "2021-09-16T10:25:37.736583",
     "status": "completed"
    },
    "tags": []
   },
   "source": [
    "We normalize the pizel values in the 0 to 1 range"
   ]
  },
  {
   "cell_type": "code",
   "execution_count": 11,
   "id": "ee4c2166",
   "metadata": {
    "execution": {
     "iopub.execute_input": "2021-09-16T10:25:37.827650Z",
     "iopub.status.busy": "2021-09-16T10:25:37.827050Z",
     "iopub.status.idle": "2021-09-16T10:25:37.880596Z",
     "shell.execute_reply": "2021-09-16T10:25:37.879703Z"
    },
    "papermill": {
     "duration": 0.086112,
     "end_time": "2021-09-16T10:25:37.880797",
     "exception": false,
     "start_time": "2021-09-16T10:25:37.794685",
     "status": "completed"
    },
    "tags": []
   },
   "outputs": [],
   "source": [
    "X_train = X_train/255.\n",
    "X_test = X_test/255."
   ]
  },
  {
   "cell_type": "markdown",
   "id": "ddcf4fab",
   "metadata": {
    "papermill": {
     "duration": 0.027212,
     "end_time": "2021-09-16T10:25:37.939681",
     "exception": false,
     "start_time": "2021-09-16T10:25:37.912469",
     "status": "completed"
    },
    "tags": []
   },
   "source": [
    "And setup the labels as 1 (when the digit is 3) and 0 (when the digit is 8)"
   ]
  },
  {
   "cell_type": "code",
   "execution_count": 12,
   "id": "7dc908f2",
   "metadata": {
    "execution": {
     "iopub.execute_input": "2021-09-16T10:25:37.999004Z",
     "iopub.status.busy": "2021-09-16T10:25:37.998430Z",
     "iopub.status.idle": "2021-09-16T10:25:38.011333Z",
     "shell.execute_reply": "2021-09-16T10:25:38.010814Z"
    },
    "papermill": {
     "duration": 0.044745,
     "end_time": "2021-09-16T10:25:38.011448",
     "exception": false,
     "start_time": "2021-09-16T10:25:37.966703",
     "status": "completed"
    },
    "tags": []
   },
   "outputs": [],
   "source": [
    "y_train = 1*(y_train==3)\n",
    "y_test = 1*(y_test==3)"
   ]
  },
  {
   "cell_type": "code",
   "execution_count": 13,
   "id": "01e4e969",
   "metadata": {
    "execution": {
     "iopub.execute_input": "2021-09-16T10:25:38.070629Z",
     "iopub.status.busy": "2021-09-16T10:25:38.070059Z",
     "iopub.status.idle": "2021-09-16T10:25:38.082314Z",
     "shell.execute_reply": "2021-09-16T10:25:38.082743Z"
    },
    "papermill": {
     "duration": 0.044099,
     "end_time": "2021-09-16T10:25:38.082843",
     "exception": false,
     "start_time": "2021-09-16T10:25:38.038744",
     "status": "completed"
    },
    "tags": []
   },
   "outputs": [
    {
     "data": {
      "text/plain": [
       "((11982, 28, 28), (1984, 28, 28))"
      ]
     },
     "execution_count": 13,
     "metadata": {},
     "output_type": "execute_result"
    }
   ],
   "source": [
    "X_train.shape, X_test.shape"
   ]
  },
  {
   "cell_type": "markdown",
   "id": "5ccf3f85",
   "metadata": {
    "papermill": {
     "duration": 0.029257,
     "end_time": "2021-09-16T10:25:38.139697",
     "exception": false,
     "start_time": "2021-09-16T10:25:38.110440",
     "status": "completed"
    },
    "tags": []
   },
   "source": [
    "We reshape the data to flatten the image pixels into a set of features or co-variates:"
   ]
  },
  {
   "cell_type": "code",
   "execution_count": 14,
   "id": "5286a4a3",
   "metadata": {
    "execution": {
     "iopub.execute_input": "2021-09-16T10:25:38.203429Z",
     "iopub.status.busy": "2021-09-16T10:25:38.202869Z",
     "iopub.status.idle": "2021-09-16T10:25:38.217460Z",
     "shell.execute_reply": "2021-09-16T10:25:38.216999Z"
    },
    "papermill": {
     "duration": 0.048137,
     "end_time": "2021-09-16T10:25:38.217574",
     "exception": false,
     "start_time": "2021-09-16T10:25:38.169437",
     "status": "completed"
    },
    "tags": []
   },
   "outputs": [
    {
     "data": {
      "text/plain": [
       "((11982, 784), (1984, 784))"
      ]
     },
     "execution_count": 14,
     "metadata": {},
     "output_type": "execute_result"
    }
   ],
   "source": [
    "X_train = X_train.reshape(X_train.shape[0], -1)\n",
    "X_test = X_test.reshape(X_test.shape[0], -1)\n",
    "X_train.shape, X_test.shape"
   ]
  },
  {
   "cell_type": "code",
   "execution_count": 15,
   "id": "73c5f88a",
   "metadata": {
    "execution": {
     "iopub.execute_input": "2021-09-16T10:25:38.282684Z",
     "iopub.status.busy": "2021-09-16T10:25:38.282102Z",
     "iopub.status.idle": "2021-09-16T10:25:38.301864Z",
     "shell.execute_reply": "2021-09-16T10:25:38.301376Z"
    },
    "papermill": {
     "duration": 0.054649,
     "end_time": "2021-09-16T10:25:38.301974",
     "exception": false,
     "start_time": "2021-09-16T10:25:38.247325",
     "status": "completed"
    },
    "tags": []
   },
   "outputs": [],
   "source": [
    "#Impoting functions from 'Kudzu'\n",
    "from kudzu.model import Model\n",
    "from kudzu.train import Learner\n",
    "from kudzu.optim import GD\n",
    "from kudzu.data import Data, Sampler,Dataloader\n",
    "\n",
    "from kudzu.callbacks import AccCallback\n",
    "from kudzu.callbacks import ClfCallback\n",
    "\n",
    "from kudzu.loss import MSE\n",
    "\n",
    "from kudzu.layer import Sigmoid,Relu\n",
    "from kudzu.layer import Affine"
   ]
  },
  {
   "cell_type": "markdown",
   "id": "bc01172a",
   "metadata": {
    "papermill": {
     "duration": 0.029402,
     "end_time": "2021-09-16T10:25:38.360843",
     "exception": false,
     "start_time": "2021-09-16T10:25:38.331441",
     "status": "completed"
    },
    "tags": []
   },
   "source": [
    "### Let us create a `Config` class, to store important parameters. \n",
    "This class essentially plays the role of a dictionary."
   ]
  },
  {
   "cell_type": "code",
   "execution_count": 16,
   "id": "978281aa",
   "metadata": {
    "execution": {
     "iopub.execute_input": "2021-09-16T10:25:38.425567Z",
     "iopub.status.busy": "2021-09-16T10:25:38.424989Z",
     "iopub.status.idle": "2021-09-16T10:25:38.436179Z",
     "shell.execute_reply": "2021-09-16T10:25:38.435696Z"
    },
    "papermill": {
     "duration": 0.047031,
     "end_time": "2021-09-16T10:25:38.436287",
     "exception": false,
     "start_time": "2021-09-16T10:25:38.389256",
     "status": "completed"
    },
    "tags": []
   },
   "outputs": [],
   "source": [
    "class Config:\n",
    "    pass\n",
    "config = Config()\n",
    "config.lr = 0.001\n",
    "config.num_epochs = 250\n",
    "config.bs = 50"
   ]
  },
  {
   "cell_type": "markdown",
   "id": "1385fa59",
   "metadata": {
    "papermill": {
     "duration": 0.027502,
     "end_time": "2021-09-16T10:25:38.490650",
     "exception": false,
     "start_time": "2021-09-16T10:25:38.463148",
     "status": "completed"
    },
    "tags": []
   },
   "source": [
    "### Running Models with the Training data\n",
    "Details about the network layers:\n",
    "- A first affine layer has 784 inputs and does 100 affine transforms. These are followed by a Relu\n",
    "- A second affine layer has 100 inputs from the 100 activations of the past layer, and does 100 affine transforms. These are followed by a Relu\n",
    "- A third affine layer has 100 activations and does 2 affine transformations to create an embedding for visualization. There is no non-linearity here.\n",
    "- A final \"logistic regression\" which has an affine transform from 2 inputs to 1 output, which is squeezed through a sigmoid.\n"
   ]
  },
  {
   "cell_type": "code",
   "execution_count": 17,
   "id": "2b9c66db",
   "metadata": {
    "execution": {
     "iopub.execute_input": "2021-09-16T10:25:38.554177Z",
     "iopub.status.busy": "2021-09-16T10:25:38.553601Z",
     "iopub.status.idle": "2021-09-16T10:25:38.566003Z",
     "shell.execute_reply": "2021-09-16T10:25:38.565517Z"
    },
    "papermill": {
     "duration": 0.047734,
     "end_time": "2021-09-16T10:25:38.566110",
     "exception": false,
     "start_time": "2021-09-16T10:25:38.518376",
     "status": "completed"
    },
    "tags": []
   },
   "outputs": [],
   "source": [
    "data = Data(X_train, y_train.reshape(-1,1))\n",
    "sampler = Sampler(data, config.bs, shuffle=True)\n",
    "\n",
    "dl = Dataloader(data, sampler)\n",
    "\n",
    "opt = GD(config.lr)\n",
    "loss = MSE()"
   ]
  },
  {
   "cell_type": "code",
   "execution_count": 18,
   "id": "b275e4c2",
   "metadata": {
    "execution": {
     "iopub.execute_input": "2021-09-16T10:25:38.630302Z",
     "iopub.status.busy": "2021-09-16T10:25:38.629731Z",
     "iopub.status.idle": "2021-09-16T10:25:38.644198Z",
     "shell.execute_reply": "2021-09-16T10:25:38.643710Z"
    },
    "papermill": {
     "duration": 0.048091,
     "end_time": "2021-09-16T10:25:38.644308",
     "exception": false,
     "start_time": "2021-09-16T10:25:38.596217",
     "status": "completed"
    },
    "tags": []
   },
   "outputs": [],
   "source": [
    "training_data_x = X_train\n",
    "testing_data_x = X_test\n",
    "training_data_y = y_train.reshape(-1,1)\n",
    "testing_data_y = y_test.reshape(-1,1)"
   ]
  },
  {
   "cell_type": "code",
   "execution_count": 19,
   "id": "76951160",
   "metadata": {
    "execution": {
     "iopub.execute_input": "2021-09-16T10:25:38.709832Z",
     "iopub.status.busy": "2021-09-16T10:25:38.709254Z",
     "iopub.status.idle": "2021-09-16T10:25:38.726674Z",
     "shell.execute_reply": "2021-09-16T10:25:38.727171Z"
    },
    "papermill": {
     "duration": 0.05309,
     "end_time": "2021-09-16T10:25:38.727325",
     "exception": false,
     "start_time": "2021-09-16T10:25:38.674235",
     "status": "completed"
    },
    "tags": []
   },
   "outputs": [
    {
     "name": "stdout",
     "output_type": "stream",
     "text": [
      "xavier\n",
      "xavier\n",
      "xavier\n",
      "xavier\n",
      "xavier\n"
     ]
    }
   ],
   "source": [
    "layers = [Affine(\"first\", 784, 100), Relu(\"first\"), Affine(\"second\", 100, 100), Relu(\"second\"), Affine(\"third\", 100, 2), Affine(\"last\", 2, 1), Sigmoid(\"last\")]\n",
    "model_nn = Model(layers)\n",
    "model_lr = Model([Affine(\"logits\", 784, 1), Sigmoid(\"sigmoid\")])"
   ]
  },
  {
   "cell_type": "code",
   "execution_count": 20,
   "id": "6eede77a",
   "metadata": {
    "execution": {
     "iopub.execute_input": "2021-09-16T10:25:38.790749Z",
     "iopub.status.busy": "2021-09-16T10:25:38.790182Z",
     "iopub.status.idle": "2021-09-16T10:25:38.801782Z",
     "shell.execute_reply": "2021-09-16T10:25:38.801298Z"
    },
    "papermill": {
     "duration": 0.044803,
     "end_time": "2021-09-16T10:25:38.801884",
     "exception": false,
     "start_time": "2021-09-16T10:25:38.757081",
     "status": "completed"
    },
    "tags": []
   },
   "outputs": [],
   "source": [
    "nn_learner = Learner(loss, model_nn, opt, config.num_epochs)\n",
    "acc_nn = ClfCallback(nn_learner, config.bs, training_data_x , testing_data_x, training_data_y, testing_data_y)\n",
    "nn_learner.set_callbacks([acc_nn])"
   ]
  },
  {
   "cell_type": "code",
   "execution_count": 21,
   "id": "877b6cc7",
   "metadata": {
    "execution": {
     "iopub.execute_input": "2021-09-16T10:25:38.868000Z",
     "iopub.status.busy": "2021-09-16T10:25:38.867427Z",
     "iopub.status.idle": "2021-09-16T10:25:38.879447Z",
     "shell.execute_reply": "2021-09-16T10:25:38.878942Z"
    },
    "papermill": {
     "duration": 0.048679,
     "end_time": "2021-09-16T10:25:38.879568",
     "exception": false,
     "start_time": "2021-09-16T10:25:38.830889",
     "status": "completed"
    },
    "tags": []
   },
   "outputs": [],
   "source": [
    "lr_learner = Learner(loss, model_lr, opt, config.num_epochs)\n",
    "acc_lr = ClfCallback(lr_learner, config.bs, training_data_x , testing_data_x, training_data_y, testing_data_y)\n",
    "lr_learner.set_callbacks([acc_lr])"
   ]
  },
  {
   "cell_type": "code",
   "execution_count": 22,
   "id": "d9b133c3",
   "metadata": {
    "execution": {
     "iopub.execute_input": "2021-09-16T10:25:38.940912Z",
     "iopub.status.busy": "2021-09-16T10:25:38.940389Z",
     "iopub.status.idle": "2021-09-16T10:27:03.442702Z",
     "shell.execute_reply": "2021-09-16T10:27:03.443519Z"
    },
    "papermill": {
     "duration": 84.534578,
     "end_time": "2021-09-16T10:27:03.443670",
     "exception": false,
     "start_time": "2021-09-16T10:25:38.909092",
     "status": "completed"
    },
    "tags": []
   },
   "outputs": [
    {
     "name": "stdout",
     "output_type": "stream",
     "text": [
      "Epoch 0, Loss 0.2452\n",
      "Training Accuracy: 0.6406, Testing Accuracy: 0.6366\n",
      "\n"
     ]
    },
    {
     "name": "stdout",
     "output_type": "stream",
     "text": [
      "Epoch 10, Loss 0.1706\n",
      "Training Accuracy: 0.8688, Testing Accuracy: 0.8810\n",
      "\n"
     ]
    },
    {
     "name": "stdout",
     "output_type": "stream",
     "text": [
      "Epoch 20, Loss 0.0829\n",
      "Training Accuracy: 0.9172, Testing Accuracy: 0.9299\n",
      "\n"
     ]
    },
    {
     "name": "stdout",
     "output_type": "stream",
     "text": [
      "Epoch 30, Loss 0.0561\n",
      "Training Accuracy: 0.9384, Testing Accuracy: 0.9501\n",
      "\n"
     ]
    },
    {
     "name": "stdout",
     "output_type": "stream",
     "text": [
      "Epoch 40, Loss 0.0454\n",
      "Training Accuracy: 0.9485, Testing Accuracy: 0.9582\n",
      "\n"
     ]
    },
    {
     "name": "stdout",
     "output_type": "stream",
     "text": [
      "Epoch 50, Loss 0.0398\n",
      "Training Accuracy: 0.9533, Testing Accuracy: 0.9622\n",
      "\n"
     ]
    },
    {
     "name": "stdout",
     "output_type": "stream",
     "text": [
      "Epoch 60, Loss 0.0363\n",
      "Training Accuracy: 0.9568, Testing Accuracy: 0.9637\n",
      "\n"
     ]
    },
    {
     "name": "stdout",
     "output_type": "stream",
     "text": [
      "Epoch 70, Loss 0.0338\n",
      "Training Accuracy: 0.9590, Testing Accuracy: 0.9652\n",
      "\n"
     ]
    },
    {
     "name": "stdout",
     "output_type": "stream",
     "text": [
      "Epoch 80, Loss 0.0319\n",
      "Training Accuracy: 0.9615, Testing Accuracy: 0.9667\n",
      "\n"
     ]
    },
    {
     "name": "stdout",
     "output_type": "stream",
     "text": [
      "Epoch 90, Loss 0.0304\n",
      "Training Accuracy: 0.9636, Testing Accuracy: 0.9662\n",
      "\n"
     ]
    },
    {
     "name": "stdout",
     "output_type": "stream",
     "text": [
      "Epoch 100, Loss 0.0291\n",
      "Training Accuracy: 0.9653, Testing Accuracy: 0.9657\n",
      "\n"
     ]
    },
    {
     "name": "stdout",
     "output_type": "stream",
     "text": [
      "Epoch 110, Loss 0.0281\n",
      "Training Accuracy: 0.9670, Testing Accuracy: 0.9672\n",
      "\n"
     ]
    },
    {
     "name": "stdout",
     "output_type": "stream",
     "text": [
      "Epoch 120, Loss 0.0271\n",
      "Training Accuracy: 0.9683, Testing Accuracy: 0.9682\n",
      "\n"
     ]
    },
    {
     "name": "stdout",
     "output_type": "stream",
     "text": [
      "Epoch 130, Loss 0.0263\n",
      "Training Accuracy: 0.9693, Testing Accuracy: 0.9688\n",
      "\n"
     ]
    },
    {
     "name": "stdout",
     "output_type": "stream",
     "text": [
      "Epoch 140, Loss 0.0256\n",
      "Training Accuracy: 0.9703, Testing Accuracy: 0.9703\n",
      "\n"
     ]
    },
    {
     "name": "stdout",
     "output_type": "stream",
     "text": [
      "Epoch 150, Loss 0.025\n",
      "Training Accuracy: 0.9710, Testing Accuracy: 0.9708\n",
      "\n"
     ]
    },
    {
     "name": "stdout",
     "output_type": "stream",
     "text": [
      "Epoch 160, Loss 0.0244\n",
      "Training Accuracy: 0.9717, Testing Accuracy: 0.9713\n",
      "\n"
     ]
    },
    {
     "name": "stdout",
     "output_type": "stream",
     "text": [
      "Epoch 170, Loss 0.0238\n",
      "Training Accuracy: 0.9723, Testing Accuracy: 0.9713\n",
      "\n"
     ]
    },
    {
     "name": "stdout",
     "output_type": "stream",
     "text": [
      "Epoch 180, Loss 0.0233\n",
      "Training Accuracy: 0.9732, Testing Accuracy: 0.9703\n",
      "\n"
     ]
    },
    {
     "name": "stdout",
     "output_type": "stream",
     "text": [
      "Epoch 190, Loss 0.0229\n",
      "Training Accuracy: 0.9735, Testing Accuracy: 0.9693\n",
      "\n"
     ]
    },
    {
     "name": "stdout",
     "output_type": "stream",
     "text": [
      "Epoch 200, Loss 0.0224\n",
      "Training Accuracy: 0.9741, Testing Accuracy: 0.9698\n",
      "\n"
     ]
    },
    {
     "name": "stdout",
     "output_type": "stream",
     "text": [
      "Epoch 210, Loss 0.022\n",
      "Training Accuracy: 0.9749, Testing Accuracy: 0.9703\n",
      "\n"
     ]
    },
    {
     "name": "stdout",
     "output_type": "stream",
     "text": [
      "Epoch 220, Loss 0.0216\n",
      "Training Accuracy: 0.9755, Testing Accuracy: 0.9703\n",
      "\n"
     ]
    },
    {
     "name": "stdout",
     "output_type": "stream",
     "text": [
      "Epoch 230, Loss 0.0212\n",
      "Training Accuracy: 0.9755, Testing Accuracy: 0.9703\n",
      "\n"
     ]
    },
    {
     "name": "stdout",
     "output_type": "stream",
     "text": [
      "Epoch 240, Loss 0.0208\n",
      "Training Accuracy: 0.9757, Testing Accuracy: 0.9703\n",
      "\n"
     ]
    },
    {
     "data": {
      "text/plain": [
       "0.033730532088137755"
      ]
     },
     "execution_count": 22,
     "metadata": {},
     "output_type": "execute_result"
    }
   ],
   "source": [
    "nn_learner.train_loop(dl)"
   ]
  },
  {
   "cell_type": "code",
   "execution_count": 23,
   "id": "e0163366",
   "metadata": {
    "execution": {
     "iopub.execute_input": "2021-09-16T10:27:03.528825Z",
     "iopub.status.busy": "2021-09-16T10:27:03.528258Z",
     "iopub.status.idle": "2021-09-16T10:27:18.343844Z",
     "shell.execute_reply": "2021-09-16T10:27:18.344648Z"
    },
    "papermill": {
     "duration": 14.863515,
     "end_time": "2021-09-16T10:27:18.344803",
     "exception": false,
     "start_time": "2021-09-16T10:27:03.481288",
     "status": "completed"
    },
    "tags": []
   },
   "outputs": [
    {
     "name": "stdout",
     "output_type": "stream",
     "text": [
      "Epoch 0, Loss 0.2515\n",
      "Training Accuracy: 0.6461, Testing Accuracy: 0.6401\n",
      "\n"
     ]
    },
    {
     "name": "stdout",
     "output_type": "stream",
     "text": [
      "Epoch 10, Loss 0.1033\n",
      "Training Accuracy: 0.9147, Testing Accuracy: 0.9178\n",
      "\n"
     ]
    },
    {
     "name": "stdout",
     "output_type": "stream",
     "text": [
      "Epoch 20, Loss 0.0788\n",
      "Training Accuracy: 0.9328, Testing Accuracy: 0.9410\n",
      "\n"
     ]
    },
    {
     "name": "stdout",
     "output_type": "stream",
     "text": [
      "Epoch 30, Loss 0.0678\n",
      "Training Accuracy: 0.9393, Testing Accuracy: 0.9506\n",
      "\n"
     ]
    },
    {
     "name": "stdout",
     "output_type": "stream",
     "text": [
      "Epoch 40, Loss 0.0612\n",
      "Training Accuracy: 0.9433, Testing Accuracy: 0.9531\n",
      "\n"
     ]
    },
    {
     "name": "stdout",
     "output_type": "stream",
     "text": [
      "Epoch 50, Loss 0.0568\n",
      "Training Accuracy: 0.9468, Testing Accuracy: 0.9541\n",
      "\n"
     ]
    },
    {
     "name": "stdout",
     "output_type": "stream",
     "text": [
      "Epoch 60, Loss 0.0535\n",
      "Training Accuracy: 0.9483, Testing Accuracy: 0.9572\n",
      "\n"
     ]
    },
    {
     "name": "stdout",
     "output_type": "stream",
     "text": [
      "Epoch 70, Loss 0.051\n",
      "Training Accuracy: 0.9507, Testing Accuracy: 0.9587\n",
      "\n"
     ]
    },
    {
     "name": "stdout",
     "output_type": "stream",
     "text": [
      "Epoch 80, Loss 0.049\n",
      "Training Accuracy: 0.9518, Testing Accuracy: 0.9602\n",
      "\n"
     ]
    },
    {
     "name": "stdout",
     "output_type": "stream",
     "text": [
      "Epoch 90, Loss 0.0473\n",
      "Training Accuracy: 0.9531, Testing Accuracy: 0.9617\n",
      "\n"
     ]
    },
    {
     "name": "stdout",
     "output_type": "stream",
     "text": [
      "Epoch 100, Loss 0.0459\n",
      "Training Accuracy: 0.9540, Testing Accuracy: 0.9622\n",
      "\n"
     ]
    },
    {
     "name": "stdout",
     "output_type": "stream",
     "text": [
      "Epoch 110, Loss 0.0447\n",
      "Training Accuracy: 0.9547, Testing Accuracy: 0.9627\n",
      "\n"
     ]
    },
    {
     "name": "stdout",
     "output_type": "stream",
     "text": [
      "Epoch 120, Loss 0.0437\n",
      "Training Accuracy: 0.9552, Testing Accuracy: 0.9632\n",
      "\n"
     ]
    },
    {
     "name": "stdout",
     "output_type": "stream",
     "text": [
      "Epoch 130, Loss 0.0428\n",
      "Training Accuracy: 0.9563, Testing Accuracy: 0.9652\n",
      "\n"
     ]
    },
    {
     "name": "stdout",
     "output_type": "stream",
     "text": [
      "Epoch 140, Loss 0.0419\n",
      "Training Accuracy: 0.9569, Testing Accuracy: 0.9647\n",
      "\n"
     ]
    },
    {
     "name": "stdout",
     "output_type": "stream",
     "text": [
      "Epoch 150, Loss 0.0412\n",
      "Training Accuracy: 0.9576, Testing Accuracy: 0.9647\n",
      "\n"
     ]
    },
    {
     "name": "stdout",
     "output_type": "stream",
     "text": [
      "Epoch 160, Loss 0.0405\n",
      "Training Accuracy: 0.9584, Testing Accuracy: 0.9647\n",
      "\n"
     ]
    },
    {
     "name": "stdout",
     "output_type": "stream",
     "text": [
      "Epoch 170, Loss 0.0399\n",
      "Training Accuracy: 0.9588, Testing Accuracy: 0.9647\n",
      "\n"
     ]
    },
    {
     "name": "stdout",
     "output_type": "stream",
     "text": [
      "Epoch 180, Loss 0.0394\n",
      "Training Accuracy: 0.9592, Testing Accuracy: 0.9647\n",
      "\n"
     ]
    },
    {
     "name": "stdout",
     "output_type": "stream",
     "text": [
      "Epoch 190, Loss 0.0389\n",
      "Training Accuracy: 0.9595, Testing Accuracy: 0.9652\n",
      "\n"
     ]
    },
    {
     "name": "stdout",
     "output_type": "stream",
     "text": [
      "Epoch 200, Loss 0.0384\n",
      "Training Accuracy: 0.9598, Testing Accuracy: 0.9657\n",
      "\n"
     ]
    },
    {
     "name": "stdout",
     "output_type": "stream",
     "text": [
      "Epoch 210, Loss 0.038\n",
      "Training Accuracy: 0.9600, Testing Accuracy: 0.9652\n",
      "\n"
     ]
    },
    {
     "name": "stdout",
     "output_type": "stream",
     "text": [
      "Epoch 220, Loss 0.0375\n",
      "Training Accuracy: 0.9601, Testing Accuracy: 0.9662\n",
      "\n"
     ]
    },
    {
     "name": "stdout",
     "output_type": "stream",
     "text": [
      "Epoch 230, Loss 0.0372\n",
      "Training Accuracy: 0.9604, Testing Accuracy: 0.9667\n",
      "\n"
     ]
    },
    {
     "name": "stdout",
     "output_type": "stream",
     "text": [
      "Epoch 240, Loss 0.0368\n",
      "Training Accuracy: 0.9606, Testing Accuracy: 0.9677\n",
      "\n"
     ]
    },
    {
     "data": {
      "text/plain": [
       "0.01274314472660498"
      ]
     },
     "execution_count": 23,
     "metadata": {},
     "output_type": "execute_result"
    }
   ],
   "source": [
    "lr_learner.train_loop(dl)"
   ]
  },
  {
   "cell_type": "code",
   "execution_count": 24,
   "id": "ca410940",
   "metadata": {
    "execution": {
     "iopub.execute_input": "2021-09-16T10:27:18.448655Z",
     "iopub.status.busy": "2021-09-16T10:27:18.448074Z",
     "iopub.status.idle": "2021-09-16T10:27:18.702144Z",
     "shell.execute_reply": "2021-09-16T10:27:18.702611Z"
    },
    "papermill": {
     "duration": 0.311631,
     "end_time": "2021-09-16T10:27:18.702753",
     "exception": false,
     "start_time": "2021-09-16T10:27:18.391122",
     "status": "completed"
    },
    "tags": []
   },
   "outputs": [
    {
     "data": {
      "text/plain": [
       "<matplotlib.legend.Legend at 0x7ff1929fcf60>"
      ]
     },
     "execution_count": 24,
     "metadata": {},
     "output_type": "execute_result"
    },
    {
     "data": {
      "image/png": "[encoded data removed]",
      "text/plain": [
       "<Figure size 1080x720 with 1 Axes>"
      ]
     },
     "metadata": {
      "needs_background": "light"
     },
     "output_type": "display_data"
    }
   ],
   "source": [
    "#comparing the results of NN and LR\n",
    "plt.figure(figsize=(15,10))\n",
    "\n",
    "# Neural Network plots\n",
    "plt.plot(acc_nn.accuracies, 'r-', label = \"Training Accuracies - NN\")\n",
    "plt.plot(acc_nn.test_accuracies, 'g-', label = \"Testing Accuracies - NN\")\n",
    "\n",
    "# Logistic Regression plots\n",
    "plt.plot(acc_lr.accuracies, 'k-', label = \"Training Accuracies - LR\")\n",
    "plt.plot(acc_lr.test_accuracies, 'b-', label = \"Testing Accuracies - LR\")\n",
    "plt.legend()"
   ]
  },
  {
   "cell_type": "markdown",
   "id": "80dfb35c",
   "metadata": {
    "papermill": {
     "duration": 0.047292,
     "end_time": "2021-09-16T10:27:18.797666",
     "exception": false,
     "start_time": "2021-09-16T10:27:18.750374",
     "status": "completed"
    },
    "tags": []
   },
   "source": [
    "#### Plotting the outputs of this layer of the NN.\n"
   ]
  },
  {
   "cell_type": "code",
   "execution_count": 25,
   "id": "45eb2ff5",
   "metadata": {
    "execution": {
     "iopub.execute_input": "2021-09-16T10:27:18.897890Z",
     "iopub.status.busy": "2021-09-16T10:27:18.896975Z",
     "iopub.status.idle": "2021-09-16T10:27:18.917656Z",
     "shell.execute_reply": "2021-09-16T10:27:18.918490Z"
    },
    "papermill": {
     "duration": 0.074781,
     "end_time": "2021-09-16T10:27:18.918632",
     "exception": false,
     "start_time": "2021-09-16T10:27:18.843851",
     "status": "completed"
    },
    "tags": []
   },
   "outputs": [],
   "source": [
    "new_model = Model(layers[:-2])\n",
    "testing_plot = new_model(testing_data_x)"
   ]
  },
  {
   "cell_type": "code",
   "execution_count": 26,
   "id": "4c0a5485",
   "metadata": {
    "execution": {
     "iopub.execute_input": "2021-09-16T10:27:19.024236Z",
     "iopub.status.busy": "2021-09-16T10:27:19.023681Z",
     "iopub.status.idle": "2021-09-16T10:27:19.249712Z",
     "shell.execute_reply": "2021-09-16T10:27:19.248997Z"
    },
    "papermill": {
     "duration": 0.283044,
     "end_time": "2021-09-16T10:27:19.249833",
     "exception": false,
     "start_time": "2021-09-16T10:27:18.966789",
     "status": "completed"
    },
    "tags": []
   },
   "outputs": [
    {
     "data": {
      "text/plain": [
       "Text(0.5, 1.0, 'Outputs')"
      ]
     },
     "execution_count": 26,
     "metadata": {},
     "output_type": "execute_result"
    },
    {
     "data": {
      "image/png": "[encoded data removed]",
      "text/plain": [
       "<Figure size 576x504 with 1 Axes>"
      ]
     },
     "metadata": {
      "needs_background": "light"
     },
     "output_type": "display_data"
    }
   ],
   "source": [
    "# Plotting the scatter plot of points and color coding by class\n",
    "plt.figure(figsize=(8,7))\n",
    "plt.scatter(testing_plot[:,0], testing_plot[:,1], alpha = 0.1, c = y_test.ravel());\n",
    "plt.title('Outputs')"
   ]
  },
  {
   "cell_type": "markdown",
   "id": "a74fcf8f",
   "metadata": {
    "papermill": {
     "duration": 0.04738,
     "end_time": "2021-09-16T10:27:19.347297",
     "exception": false,
     "start_time": "2021-09-16T10:27:19.299917",
     "status": "completed"
    },
    "tags": []
   },
   "source": [
    "Probability contours"
   ]
  },
  {
   "cell_type": "code",
   "execution_count": 27,
   "id": "d0afc8e3",
   "metadata": {
    "execution": {
     "iopub.execute_input": "2021-09-16T10:27:19.455649Z",
     "iopub.status.busy": "2021-09-16T10:27:19.455059Z",
     "iopub.status.idle": "2021-09-16T10:27:19.457614Z",
     "shell.execute_reply": "2021-09-16T10:27:19.457184Z"
    },
    "papermill": {
     "duration": 0.064141,
     "end_time": "2021-09-16T10:27:19.457724",
     "exception": false,
     "start_time": "2021-09-16T10:27:19.393583",
     "status": "completed"
    },
    "tags": []
   },
   "outputs": [],
   "source": [
    "model_prob = Model(layers[-2:]) "
   ]
  },
  {
   "cell_type": "code",
   "execution_count": 28,
   "id": "9b96e238",
   "metadata": {
    "execution": {
     "iopub.execute_input": "2021-09-16T10:27:19.558262Z",
     "iopub.status.busy": "2021-09-16T10:27:19.557687Z",
     "iopub.status.idle": "2021-09-16T10:27:19.572074Z",
     "shell.execute_reply": "2021-09-16T10:27:19.572536Z"
    },
    "papermill": {
     "duration": 0.067331,
     "end_time": "2021-09-16T10:27:19.572668",
     "exception": false,
     "start_time": "2021-09-16T10:27:19.505337",
     "status": "completed"
    },
    "tags": []
   },
   "outputs": [],
   "source": [
    "#creating the x and y ranges according to the above generated plot.\n",
    "x_range = np.linspace(-4, 1, 100) \n",
    "y_range = np.linspace(-6, 6, 100) \n",
    "x_grid, y_grid = np.meshgrid(x_range, y_range) # x_grid and y_grig are of size 100 X 100\n",
    "\n",
    "# converting x_grid and y_grid to continuous arrays\n",
    "x_gridflat = np.ravel(x_grid)\n",
    "y_gridflat = np.ravel(y_grid)\n",
    "\n",
    "# The last layer of the current model takes two columns as input. Hence transpose of np.vstack() is required.\n",
    "X = np.vstack((x_gridflat, y_gridflat)).T\n",
    "\n",
    "prob_contour = model_prob(X).reshape(100,100) "
   ]
  },
  {
   "cell_type": "code",
   "execution_count": 29,
   "id": "da72499a",
   "metadata": {
    "execution": {
     "iopub.execute_input": "2021-09-16T10:27:19.708433Z",
     "iopub.status.busy": "2021-09-16T10:27:19.707899Z",
     "iopub.status.idle": "2021-09-16T10:27:19.984905Z",
     "shell.execute_reply": "2021-09-16T10:27:19.984432Z"
    },
    "papermill": {
     "duration": 0.339318,
     "end_time": "2021-09-16T10:27:19.985023",
     "exception": false,
     "start_time": "2021-09-16T10:27:19.645705",
     "status": "completed"
    },
    "tags": []
   },
   "outputs": [
    {
     "data": {
      "image/png": "[encoded data removed]",
      "text/plain": [
       "<Figure size 720x648 with 1 Axes>"
      ]
     },
     "metadata": {
      "needs_background": "light"
     },
     "output_type": "display_data"
    }
   ],
   "source": [
    "plt.figure(figsize=(10,9))\n",
    "plt.scatter(testing_plot[:,0], testing_plot[:,1], alpha = 0.1, c = y_test.ravel())\n",
    "contours = plt.contour(x_grid,y_grid,prob_contour)\n",
    "plt.title('Probability Contours')\n",
    "plt.clabel(contours, inline = True );"
   ]
  },
  {
   "cell_type": "code",
   "execution_count": null,
   "id": "e81b4ac7",
   "metadata": {
    "papermill": {
     "duration": 0.052409,
     "end_time": "2021-09-16T10:27:20.090347",
     "exception": false,
     "start_time": "2021-09-16T10:27:20.037938",
     "status": "completed"
    },
    "tags": []
   },
   "outputs": [],
   "source": []
  }
 ],
 "metadata": {
  "kernelspec": {
   "display_name": "Python 3",
   "language": "python",
   "name": "python3"
  },
  "language_info": {
   "codemirror_mode": {
    "name": "ipython",
    "version": 3
   },
   "file_extension": ".py",
   "mimetype": "text/x-python",
   "name": "python",
   "nbconvert_exporter": "python",
   "pygments_lexer": "ipython3",
   "version": "3.6.15"
  },
  "papermill": {
   "default_parameters": {},
   "duration": 108.131897,
   "end_time": "2021-09-16T10:27:20.554431",
   "environment_variables": {},
   "exception": null,
   "input_path": "2020-08-11-part2.ipynb",
   "output_path": "2020-08-11-part2.ipynb",
   "parameters": {},
   "start_time": "2021-09-16T10:25:32.422534",
   "version": "2.3.3"
  }
 },
 "nbformat": 4,
 "nbformat_minor": 5
}