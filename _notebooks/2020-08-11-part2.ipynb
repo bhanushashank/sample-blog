{
 "cells": [
  {
   "cell_type": "markdown",
   "id": "98380cd3",
   "metadata": {
    "papermill": {
     "duration": 0.045408,
     "end_time": "2022-05-30T10:09:49.373667",
     "exception": false,
     "start_time": "2022-05-30T10:09:49.328259",
     "status": "completed"
    },
    "tags": []
   },
   "source": [
    "# Distinguish Your Own Digits (DYOD)"
   ]
  },
  {
   "cell_type": "markdown",
   "id": "ef31240d",
   "metadata": {
    "papermill": {
     "duration": 0.027215,
     "end_time": "2022-05-30T10:09:49.429168",
     "exception": false,
     "start_time": "2022-05-30T10:09:49.401953",
     "status": "completed"
    },
    "tags": []
   },
   "source": [
    "You are going to write a classifier that distinguishes between the number 3 and number 8."
   ]
  },
  {
   "cell_type": "code",
   "execution_count": 1,
   "id": "b15c8646",
   "metadata": {
    "execution": {
     "iopub.execute_input": "2022-05-30T10:09:49.496719Z",
     "iopub.status.busy": "2022-05-30T10:09:49.496047Z",
     "iopub.status.idle": "2022-05-30T10:09:49.508473Z",
     "shell.execute_reply": "2022-05-30T10:09:49.507815Z"
    },
    "papermill": {
     "duration": 0.050931,
     "end_time": "2022-05-30T10:09:49.508612",
     "exception": false,
     "start_time": "2022-05-30T10:09:49.457681",
     "status": "completed"
    },
    "tags": []
   },
   "outputs": [],
   "source": [
    "%load_ext autoreload\n",
    "%autoreload 2"
   ]
  },
  {
   "cell_type": "code",
   "execution_count": 2,
   "id": "22ef38dc",
   "metadata": {
    "execution": {
     "iopub.execute_input": "2022-05-30T10:09:49.569927Z",
     "iopub.status.busy": "2022-05-30T10:09:49.569112Z",
     "iopub.status.idle": "2022-05-30T10:09:50.219212Z",
     "shell.execute_reply": "2022-05-30T10:09:50.220211Z"
    },
    "papermill": {
     "duration": 0.68374,
     "end_time": "2022-05-30T10:09:50.220409",
     "exception": false,
     "start_time": "2022-05-30T10:09:49.536669",
     "status": "completed"
    },
    "tags": []
   },
   "outputs": [],
   "source": [
    "%matplotlib inline\n",
    "import numpy as np\n",
    "import matplotlib.pyplot as plt\n",
    "import pandas as pd"
   ]
  },
  {
   "cell_type": "markdown",
   "id": "ba036198",
   "metadata": {
    "papermill": {
     "duration": 0.028394,
     "end_time": "2022-05-30T10:09:50.278693",
     "exception": false,
     "start_time": "2022-05-30T10:09:50.250299",
     "status": "completed"
    },
    "tags": []
   },
   "source": [
    "From the command line run `pip install mnist`. This is a library that will help you bring down the mnist dataset. If you run this from a notebook, you need to put  `!pip install mnist` in a cell by itself."
   ]
  },
  {
   "cell_type": "code",
   "execution_count": 3,
   "id": "bb6ad8a1",
   "metadata": {
    "execution": {
     "iopub.execute_input": "2022-05-30T10:09:50.346817Z",
     "iopub.status.busy": "2022-05-30T10:09:50.346039Z",
     "iopub.status.idle": "2022-05-30T10:09:52.330905Z",
     "shell.execute_reply": "2022-05-30T10:09:52.331984Z"
    },
    "papermill": {
     "duration": 2.022843,
     "end_time": "2022-05-30T10:09:52.332187",
     "exception": false,
     "start_time": "2022-05-30T10:09:50.309344",
     "status": "completed"
    },
    "tags": []
   },
   "outputs": [
    {
     "name": "stdout",
     "output_type": "stream",
     "text": [
      "Collecting mnist\r\n"
     ]
    },
    {
     "name": "stdout",
     "output_type": "stream",
     "text": [
      "  Downloading mnist-0.2.2-py2.py3-none-any.whl (3.5 kB)\r\n",
      "Requirement already satisfied: numpy in /opt/hostedtoolcache/Python/3.6.15/x64/lib/python3.6/site-packages (from mnist) (1.19.5)\r\n"
     ]
    },
    {
     "name": "stdout",
     "output_type": "stream",
     "text": [
      "Installing collected packages: mnist\r\n"
     ]
    },
    {
     "name": "stdout",
     "output_type": "stream",
     "text": [
      "Successfully installed mnist-0.2.2\r\n"
     ]
    }
   ],
   "source": [
    "!pip install mnist"
   ]
  },
  {
   "cell_type": "markdown",
   "id": "69df9c9a",
   "metadata": {
    "papermill": {
     "duration": 0.031683,
     "end_time": "2022-05-30T10:09:52.394520",
     "exception": false,
     "start_time": "2022-05-30T10:09:52.362837",
     "status": "completed"
    },
    "tags": []
   },
   "source": [
    "## Preparing the Data"
   ]
  },
  {
   "cell_type": "code",
   "execution_count": 4,
   "id": "7f69d806",
   "metadata": {
    "execution": {
     "iopub.execute_input": "2022-05-30T10:09:52.462356Z",
     "iopub.status.busy": "2022-05-30T10:09:52.461492Z",
     "iopub.status.idle": "2022-05-30T10:09:52.478939Z",
     "shell.execute_reply": "2022-05-30T10:09:52.479599Z"
    },
    "papermill": {
     "duration": 0.053009,
     "end_time": "2022-05-30T10:09:52.479744",
     "exception": false,
     "start_time": "2022-05-30T10:09:52.426735",
     "status": "completed"
    },
    "tags": []
   },
   "outputs": [],
   "source": [
    "import mnist"
   ]
  },
  {
   "cell_type": "code",
   "execution_count": 5,
   "id": "a411e44f",
   "metadata": {
    "execution": {
     "iopub.execute_input": "2022-05-30T10:09:52.543766Z",
     "iopub.status.busy": "2022-05-30T10:09:52.543045Z",
     "iopub.status.idle": "2022-05-30T10:09:53.121724Z",
     "shell.execute_reply": "2022-05-30T10:09:53.120569Z"
    },
    "papermill": {
     "duration": 0.613297,
     "end_time": "2022-05-30T10:09:53.121856",
     "exception": false,
     "start_time": "2022-05-30T10:09:52.508559",
     "status": "completed"
    },
    "tags": []
   },
   "outputs": [],
   "source": [
    "train_images = mnist.train_images()\n",
    "train_labels = mnist.train_labels()"
   ]
  },
  {
   "cell_type": "code",
   "execution_count": 6,
   "id": "dceab3a5",
   "metadata": {
    "execution": {
     "iopub.execute_input": "2022-05-30T10:09:53.188515Z",
     "iopub.status.busy": "2022-05-30T10:09:53.187847Z",
     "iopub.status.idle": "2022-05-30T10:09:53.205291Z",
     "shell.execute_reply": "2022-05-30T10:09:53.204622Z"
    },
    "papermill": {
     "duration": 0.052236,
     "end_time": "2022-05-30T10:09:53.205429",
     "exception": false,
     "start_time": "2022-05-30T10:09:53.153193",
     "status": "completed"
    },
    "tags": []
   },
   "outputs": [
    {
     "data": {
      "text/plain": [
       "((60000, 28, 28), (60000,))"
      ]
     },
     "execution_count": 6,
     "metadata": {},
     "output_type": "execute_result"
    }
   ],
   "source": [
    "train_images.shape, train_labels.shape"
   ]
  },
  {
   "cell_type": "code",
   "execution_count": 7,
   "id": "f50dc2bb",
   "metadata": {
    "execution": {
     "iopub.execute_input": "2022-05-30T10:09:53.278619Z",
     "iopub.status.busy": "2022-05-30T10:09:53.277872Z",
     "iopub.status.idle": "2022-05-30T10:09:53.423385Z",
     "shell.execute_reply": "2022-05-30T10:09:53.422756Z"
    },
    "papermill": {
     "duration": 0.187617,
     "end_time": "2022-05-30T10:09:53.423571",
     "exception": false,
     "start_time": "2022-05-30T10:09:53.235954",
     "status": "completed"
    },
    "tags": []
   },
   "outputs": [],
   "source": [
    "test_images = mnist.test_images()\n",
    "test_labels = mnist.test_labels()"
   ]
  },
  {
   "cell_type": "code",
   "execution_count": 8,
   "id": "fc38cf1b",
   "metadata": {
    "execution": {
     "iopub.execute_input": "2022-05-30T10:09:53.490019Z",
     "iopub.status.busy": "2022-05-30T10:09:53.489391Z",
     "iopub.status.idle": "2022-05-30T10:09:53.507060Z",
     "shell.execute_reply": "2022-05-30T10:09:53.506481Z"
    },
    "papermill": {
     "duration": 0.052316,
     "end_time": "2022-05-30T10:09:53.507187",
     "exception": false,
     "start_time": "2022-05-30T10:09:53.454871",
     "status": "completed"
    },
    "tags": []
   },
   "outputs": [
    {
     "data": {
      "text/plain": [
       "((10000, 28, 28), (10000,))"
      ]
     },
     "execution_count": 8,
     "metadata": {},
     "output_type": "execute_result"
    }
   ],
   "source": [
    "test_images.shape, test_labels.shape"
   ]
  },
  {
   "cell_type": "code",
   "execution_count": 9,
   "id": "f9ed8fe0",
   "metadata": {
    "execution": {
     "iopub.execute_input": "2022-05-30T10:09:53.577563Z",
     "iopub.status.busy": "2022-05-30T10:09:53.576859Z",
     "iopub.status.idle": "2022-05-30T10:09:53.775425Z",
     "shell.execute_reply": "2022-05-30T10:09:53.774864Z"
    },
    "papermill": {
     "duration": 0.236655,
     "end_time": "2022-05-30T10:09:53.775593",
     "exception": false,
     "start_time": "2022-05-30T10:09:53.538938",
     "status": "completed"
    },
    "tags": []
   },
   "outputs": [
    {
     "name": "stdout",
     "output_type": "stream",
     "text": [
      "2\n"
     ]
    },
    {
     "data": {
      "text/plain": [
       "<matplotlib.image.AxesImage at 0x7f3341138e80>"
      ]
     },
     "execution_count": 9,
     "metadata": {},
     "output_type": "execute_result"
    },
    {
     "data": {
      "image/png": "[encoded data removed]",
      "text/plain": [
       "<Figure size 432x288 with 1 Axes>"
      ]
     },
     "metadata": {
      "needs_background": "light"
     },
     "output_type": "display_data"
    }
   ],
   "source": [
    "image_index = 7776 # You may select anything up to 60,000\n",
    "print(train_labels[image_index]) \n",
    "plt.imshow(train_images[image_index], cmap='Greys')"
   ]
  },
  {
   "cell_type": "markdown",
   "id": "a8d2388d",
   "metadata": {
    "papermill": {
     "duration": 0.033711,
     "end_time": "2022-05-30T10:09:53.842454",
     "exception": false,
     "start_time": "2022-05-30T10:09:53.808743",
     "status": "completed"
    },
    "tags": []
   },
   "source": [
    "## Filter data to get 3 and 8 out"
   ]
  },
  {
   "cell_type": "code",
   "execution_count": 10,
   "id": "776f7fc7",
   "metadata": {
    "execution": {
     "iopub.execute_input": "2022-05-30T10:09:53.913213Z",
     "iopub.status.busy": "2022-05-30T10:09:53.912132Z",
     "iopub.status.idle": "2022-05-30T10:09:53.934769Z",
     "shell.execute_reply": "2022-05-30T10:09:53.933911Z"
    },
    "papermill": {
     "duration": 0.060461,
     "end_time": "2022-05-30T10:09:53.934950",
     "exception": false,
     "start_time": "2022-05-30T10:09:53.874489",
     "status": "completed"
    },
    "tags": []
   },
   "outputs": [],
   "source": [
    "train_filter = np.where((train_labels == 3 ) | (train_labels == 8))\n",
    "test_filter = np.where((test_labels == 3) | (test_labels == 8))\n",
    "X_train, y_train = train_images[train_filter], train_labels[train_filter]\n",
    "X_test, y_test = test_images[test_filter], test_labels[test_filter]"
   ]
  },
  {
   "cell_type": "markdown",
   "id": "948f0b7e",
   "metadata": {
    "papermill": {
     "duration": 0.032132,
     "end_time": "2022-05-30T10:09:54.000574",
     "exception": false,
     "start_time": "2022-05-30T10:09:53.968442",
     "status": "completed"
    },
    "tags": []
   },
   "source": [
    "We normalize the pizel values in the 0 to 1 range"
   ]
  },
  {
   "cell_type": "code",
   "execution_count": 11,
   "id": "ee4c2166",
   "metadata": {
    "execution": {
     "iopub.execute_input": "2022-05-30T10:09:54.073747Z",
     "iopub.status.busy": "2022-05-30T10:09:54.072480Z",
     "iopub.status.idle": "2022-05-30T10:09:54.141104Z",
     "shell.execute_reply": "2022-05-30T10:09:54.140173Z"
    },
    "papermill": {
     "duration": 0.107946,
     "end_time": "2022-05-30T10:09:54.141285",
     "exception": false,
     "start_time": "2022-05-30T10:09:54.033339",
     "status": "completed"
    },
    "tags": []
   },
   "outputs": [],
   "source": [
    "X_train = X_train/255.\n",
    "X_test = X_test/255."
   ]
  },
  {
   "cell_type": "markdown",
   "id": "ddcf4fab",
   "metadata": {
    "papermill": {
     "duration": 0.033658,
     "end_time": "2022-05-30T10:09:54.206950",
     "exception": false,
     "start_time": "2022-05-30T10:09:54.173292",
     "status": "completed"
    },
    "tags": []
   },
   "source": [
    "And setup the labels as 1 (when the digit is 3) and 0 (when the digit is 8)"
   ]
  },
  {
   "cell_type": "code",
   "execution_count": 12,
   "id": "7dc908f2",
   "metadata": {
    "execution": {
     "iopub.execute_input": "2022-05-30T10:09:54.276802Z",
     "iopub.status.busy": "2022-05-30T10:09:54.274752Z",
     "iopub.status.idle": "2022-05-30T10:09:54.290543Z",
     "shell.execute_reply": "2022-05-30T10:09:54.289926Z"
    },
    "papermill": {
     "duration": 0.05267,
     "end_time": "2022-05-30T10:09:54.290675",
     "exception": false,
     "start_time": "2022-05-30T10:09:54.238005",
     "status": "completed"
    },
    "tags": []
   },
   "outputs": [],
   "source": [
    "y_train = 1*(y_train==3)\n",
    "y_test = 1*(y_test==3)"
   ]
  },
  {
   "cell_type": "code",
   "execution_count": 13,
   "id": "01e4e969",
   "metadata": {
    "execution": {
     "iopub.execute_input": "2022-05-30T10:09:54.360696Z",
     "iopub.status.busy": "2022-05-30T10:09:54.360074Z",
     "iopub.status.idle": "2022-05-30T10:09:54.375057Z",
     "shell.execute_reply": "2022-05-30T10:09:54.374465Z"
    },
    "papermill": {
     "duration": 0.052246,
     "end_time": "2022-05-30T10:09:54.375181",
     "exception": false,
     "start_time": "2022-05-30T10:09:54.322935",
     "status": "completed"
    },
    "tags": []
   },
   "outputs": [
    {
     "data": {
      "text/plain": [
       "((11982, 28, 28), (1984, 28, 28))"
      ]
     },
     "execution_count": 13,
     "metadata": {},
     "output_type": "execute_result"
    }
   ],
   "source": [
    "X_train.shape, X_test.shape"
   ]
  },
  {
   "cell_type": "markdown",
   "id": "5ccf3f85",
   "metadata": {
    "papermill": {
     "duration": 0.034383,
     "end_time": "2022-05-30T10:09:54.447838",
     "exception": false,
     "start_time": "2022-05-30T10:09:54.413455",
     "status": "completed"
    },
    "tags": []
   },
   "source": [
    "We reshape the data to flatten the image pixels into a set of features or co-variates:"
   ]
  },
  {
   "cell_type": "code",
   "execution_count": 14,
   "id": "5286a4a3",
   "metadata": {
    "execution": {
     "iopub.execute_input": "2022-05-30T10:09:54.519720Z",
     "iopub.status.busy": "2022-05-30T10:09:54.518906Z",
     "iopub.status.idle": "2022-05-30T10:09:54.535083Z",
     "shell.execute_reply": "2022-05-30T10:09:54.535705Z"
    },
    "papermill": {
     "duration": 0.054856,
     "end_time": "2022-05-30T10:09:54.535862",
     "exception": false,
     "start_time": "2022-05-30T10:09:54.481006",
     "status": "completed"
    },
    "tags": []
   },
   "outputs": [
    {
     "data": {
      "text/plain": [
       "((11982, 784), (1984, 784))"
      ]
     },
     "execution_count": 14,
     "metadata": {},
     "output_type": "execute_result"
    }
   ],
   "source": [
    "X_train = X_train.reshape(X_train.shape[0], -1)\n",
    "X_test = X_test.reshape(X_test.shape[0], -1)\n",
    "X_train.shape, X_test.shape"
   ]
  },
  {
   "cell_type": "code",
   "execution_count": 15,
   "id": "73c5f88a",
   "metadata": {
    "execution": {
     "iopub.execute_input": "2022-05-30T10:09:54.621388Z",
     "iopub.status.busy": "2022-05-30T10:09:54.613025Z",
     "iopub.status.idle": "2022-05-30T10:09:54.634891Z",
     "shell.execute_reply": "2022-05-30T10:09:54.635469Z"
    },
    "papermill": {
     "duration": 0.06264,
     "end_time": "2022-05-30T10:09:54.635673",
     "exception": false,
     "start_time": "2022-05-30T10:09:54.573033",
     "status": "completed"
    },
    "tags": []
   },
   "outputs": [],
   "source": [
    "#Impoting functions from 'Kudzu'\n",
    "from kudzu.model import Model\n",
    "from kudzu.train import Learner\n",
    "from kudzu.optim import GD\n",
    "from kudzu.data import Data, Sampler,Dataloader\n",
    "\n",
    "from kudzu.callbacks import AccCallback\n",
    "from kudzu.callbacks import ClfCallback\n",
    "\n",
    "from kudzu.loss import MSE\n",
    "\n",
    "from kudzu.layer import Sigmoid,Relu\n",
    "from kudzu.layer import Affine"
   ]
  },
  {
   "cell_type": "markdown",
   "id": "bc01172a",
   "metadata": {
    "papermill": {
     "duration": 0.034916,
     "end_time": "2022-05-30T10:09:54.707037",
     "exception": false,
     "start_time": "2022-05-30T10:09:54.672121",
     "status": "completed"
    },
    "tags": []
   },
   "source": [
    "### Let us create a `Config` class, to store important parameters. \n",
    "This class essentially plays the role of a dictionary."
   ]
  },
  {
   "cell_type": "code",
   "execution_count": 16,
   "id": "978281aa",
   "metadata": {
    "execution": {
     "iopub.execute_input": "2022-05-30T10:09:54.785212Z",
     "iopub.status.busy": "2022-05-30T10:09:54.781302Z",
     "iopub.status.idle": "2022-05-30T10:09:54.797553Z",
     "shell.execute_reply": "2022-05-30T10:09:54.796829Z"
    },
    "papermill": {
     "duration": 0.056697,
     "end_time": "2022-05-30T10:09:54.797710",
     "exception": false,
     "start_time": "2022-05-30T10:09:54.741013",
     "status": "completed"
    },
    "tags": []
   },
   "outputs": [],
   "source": [
    "class Config:\n",
    "    pass\n",
    "config = Config()\n",
    "config.lr = 0.001\n",
    "config.num_epochs = 250\n",
    "config.bs = 50"
   ]
  },
  {
   "cell_type": "markdown",
   "id": "1385fa59",
   "metadata": {
    "papermill": {
     "duration": 0.03611,
     "end_time": "2022-05-30T10:09:54.867015",
     "exception": false,
     "start_time": "2022-05-30T10:09:54.830905",
     "status": "completed"
    },
    "tags": []
   },
   "source": [
    "### Running Models with the Training data\n",
    "Details about the network layers:\n",
    "- A first affine layer has 784 inputs and does 100 affine transforms. These are followed by a Relu\n",
    "- A second affine layer has 100 inputs from the 100 activations of the past layer, and does 100 affine transforms. These are followed by a Relu\n",
    "- A third affine layer has 100 activations and does 2 affine transformations to create an embedding for visualization. There is no non-linearity here.\n",
    "- A final \"logistic regression\" which has an affine transform from 2 inputs to 1 output, which is squeezed through a sigmoid.\n"
   ]
  },
  {
   "cell_type": "code",
   "execution_count": 17,
   "id": "2b9c66db",
   "metadata": {
    "execution": {
     "iopub.execute_input": "2022-05-30T10:09:54.941916Z",
     "iopub.status.busy": "2022-05-30T10:09:54.941227Z",
     "iopub.status.idle": "2022-05-30T10:09:54.956620Z",
     "shell.execute_reply": "2022-05-30T10:09:54.955806Z"
    },
    "papermill": {
     "duration": 0.05467,
     "end_time": "2022-05-30T10:09:54.956766",
     "exception": false,
     "start_time": "2022-05-30T10:09:54.902096",
     "status": "completed"
    },
    "tags": []
   },
   "outputs": [],
   "source": [
    "data = Data(X_train, y_train.reshape(-1,1))\n",
    "sampler = Sampler(data, config.bs, shuffle=True)\n",
    "\n",
    "dl = Dataloader(data, sampler)\n",
    "\n",
    "opt = GD(config.lr)\n",
    "loss = MSE()"
   ]
  },
  {
   "cell_type": "code",
   "execution_count": 18,
   "id": "b275e4c2",
   "metadata": {
    "execution": {
     "iopub.execute_input": "2022-05-30T10:09:55.033385Z",
     "iopub.status.busy": "2022-05-30T10:09:55.032509Z",
     "iopub.status.idle": "2022-05-30T10:09:55.047817Z",
     "shell.execute_reply": "2022-05-30T10:09:55.047059Z"
    },
    "papermill": {
     "duration": 0.056781,
     "end_time": "2022-05-30T10:09:55.047941",
     "exception": false,
     "start_time": "2022-05-30T10:09:54.991160",
     "status": "completed"
    },
    "tags": []
   },
   "outputs": [],
   "source": [
    "training_data_x = X_train\n",
    "testing_data_x = X_test\n",
    "training_data_y = y_train.reshape(-1,1)\n",
    "testing_data_y = y_test.reshape(-1,1)"
   ]
  },
  {
   "cell_type": "code",
   "execution_count": 19,
   "id": "76951160",
   "metadata": {
    "execution": {
     "iopub.execute_input": "2022-05-30T10:09:55.122113Z",
     "iopub.status.busy": "2022-05-30T10:09:55.121277Z",
     "iopub.status.idle": "2022-05-30T10:09:55.144455Z",
     "shell.execute_reply": "2022-05-30T10:09:55.143740Z"
    },
    "papermill": {
     "duration": 0.062191,
     "end_time": "2022-05-30T10:09:55.144593",
     "exception": false,
     "start_time": "2022-05-30T10:09:55.082402",
     "status": "completed"
    },
    "tags": []
   },
   "outputs": [
    {
     "name": "stdout",
     "output_type": "stream",
     "text": [
      "xavier\n",
      "xavier\n",
      "xavier\n",
      "xavier\n",
      "xavier\n"
     ]
    }
   ],
   "source": [
    "layers = [Affine(\"first\", 784, 100), Relu(\"first\"), Affine(\"second\", 100, 100), Relu(\"second\"), Affine(\"third\", 100, 2), Affine(\"last\", 2, 1), Sigmoid(\"last\")]\n",
    "model_nn = Model(layers)\n",
    "model_lr = Model([Affine(\"logits\", 784, 1), Sigmoid(\"sigmoid\")])"
   ]
  },
  {
   "cell_type": "code",
   "execution_count": 20,
   "id": "6eede77a",
   "metadata": {
    "execution": {
     "iopub.execute_input": "2022-05-30T10:09:55.219072Z",
     "iopub.status.busy": "2022-05-30T10:09:55.218308Z",
     "iopub.status.idle": "2022-05-30T10:09:55.233007Z",
     "shell.execute_reply": "2022-05-30T10:09:55.232415Z"
    },
    "papermill": {
     "duration": 0.053427,
     "end_time": "2022-05-30T10:09:55.233143",
     "exception": false,
     "start_time": "2022-05-30T10:09:55.179716",
     "status": "completed"
    },
    "tags": []
   },
   "outputs": [],
   "source": [
    "nn_learner = Learner(loss, model_nn, opt, config.num_epochs)\n",
    "acc_nn = ClfCallback(nn_learner, config.bs, training_data_x , testing_data_x, training_data_y, testing_data_y)\n",
    "nn_learner.set_callbacks([acc_nn])"
   ]
  },
  {
   "cell_type": "code",
   "execution_count": 21,
   "id": "877b6cc7",
   "metadata": {
    "execution": {
     "iopub.execute_input": "2022-05-30T10:09:55.309000Z",
     "iopub.status.busy": "2022-05-30T10:09:55.308244Z",
     "iopub.status.idle": "2022-05-30T10:09:55.322639Z",
     "shell.execute_reply": "2022-05-30T10:09:55.322070Z"
    },
    "papermill": {
     "duration": 0.053042,
     "end_time": "2022-05-30T10:09:55.322771",
     "exception": false,
     "start_time": "2022-05-30T10:09:55.269729",
     "status": "completed"
    },
    "tags": []
   },
   "outputs": [],
   "source": [
    "lr_learner = Learner(loss, model_lr, opt, config.num_epochs)\n",
    "acc_lr = ClfCallback(lr_learner, config.bs, training_data_x , testing_data_x, training_data_y, testing_data_y)\n",
    "lr_learner.set_callbacks([acc_lr])"
   ]
  },
  {
   "cell_type": "code",
   "execution_count": 22,
   "id": "d9b133c3",
   "metadata": {
    "execution": {
     "iopub.execute_input": "2022-05-30T10:09:55.397631Z",
     "iopub.status.busy": "2022-05-30T10:09:55.396861Z",
     "iopub.status.idle": "2022-05-30T10:12:23.842124Z",
     "shell.execute_reply": "2022-05-30T10:12:23.843221Z"
    },
    "papermill": {
     "duration": 148.487358,
     "end_time": "2022-05-30T10:12:23.843376",
     "exception": false,
     "start_time": "2022-05-30T10:09:55.356018",
     "status": "completed"
    },
    "tags": []
   },
   "outputs": [
    {
     "name": "stdout",
     "output_type": "stream",
     "text": [
      "Epoch 0, Loss 0.2624\n",
      "Training Accuracy: 0.5152, Testing Accuracy: 0.5151\n",
      "\n"
     ]
    },
    {
     "name": "stdout",
     "output_type": "stream",
     "text": [
      "Epoch 10, Loss 0.1275\n",
      "Training Accuracy: 0.9069, Testing Accuracy: 0.9143\n",
      "\n"
     ]
    },
    {
     "name": "stdout",
     "output_type": "stream",
     "text": [
      "Epoch 20, Loss 0.0672\n",
      "Training Accuracy: 0.9334, Testing Accuracy: 0.9420\n",
      "\n"
     ]
    },
    {
     "name": "stdout",
     "output_type": "stream",
     "text": [
      "Epoch 30, Loss 0.0495\n",
      "Training Accuracy: 0.9470, Testing Accuracy: 0.9582\n",
      "\n"
     ]
    },
    {
     "name": "stdout",
     "output_type": "stream",
     "text": [
      "Epoch 40, Loss 0.0416\n",
      "Training Accuracy: 0.9540, Testing Accuracy: 0.9632\n",
      "\n"
     ]
    },
    {
     "name": "stdout",
     "output_type": "stream",
     "text": [
      "Epoch 50, Loss 0.0372\n",
      "Training Accuracy: 0.9582, Testing Accuracy: 0.9647\n",
      "\n"
     ]
    },
    {
     "name": "stdout",
     "output_type": "stream",
     "text": [
      "Epoch 60, Loss 0.0343\n",
      "Training Accuracy: 0.9604, Testing Accuracy: 0.9667\n",
      "\n"
     ]
    },
    {
     "name": "stdout",
     "output_type": "stream",
     "text": [
      "Epoch 70, Loss 0.0322\n",
      "Training Accuracy: 0.9629, Testing Accuracy: 0.9677\n",
      "\n"
     ]
    },
    {
     "name": "stdout",
     "output_type": "stream",
     "text": [
      "Epoch 80, Loss 0.0306\n",
      "Training Accuracy: 0.9644, Testing Accuracy: 0.9693\n",
      "\n"
     ]
    },
    {
     "name": "stdout",
     "output_type": "stream",
     "text": [
      "Epoch 90, Loss 0.0292\n",
      "Training Accuracy: 0.9664, Testing Accuracy: 0.9693\n",
      "\n"
     ]
    },
    {
     "name": "stdout",
     "output_type": "stream",
     "text": [
      "Epoch 100, Loss 0.0281\n",
      "Training Accuracy: 0.9677, Testing Accuracy: 0.9693\n",
      "\n"
     ]
    },
    {
     "name": "stdout",
     "output_type": "stream",
     "text": [
      "Epoch 110, Loss 0.0272\n",
      "Training Accuracy: 0.9685, Testing Accuracy: 0.9693\n",
      "\n"
     ]
    },
    {
     "name": "stdout",
     "output_type": "stream",
     "text": [
      "Epoch 120, Loss 0.0264\n",
      "Training Accuracy: 0.9695, Testing Accuracy: 0.9703\n",
      "\n"
     ]
    },
    {
     "name": "stdout",
     "output_type": "stream",
     "text": [
      "Epoch 130, Loss 0.0256\n",
      "Training Accuracy: 0.9699, Testing Accuracy: 0.9708\n",
      "\n"
     ]
    },
    {
     "name": "stdout",
     "output_type": "stream",
     "text": [
      "Epoch 140, Loss 0.025\n",
      "Training Accuracy: 0.9706, Testing Accuracy: 0.9713\n",
      "\n"
     ]
    },
    {
     "name": "stdout",
     "output_type": "stream",
     "text": [
      "Epoch 150, Loss 0.0244\n",
      "Training Accuracy: 0.9716, Testing Accuracy: 0.9713\n",
      "\n"
     ]
    },
    {
     "name": "stdout",
     "output_type": "stream",
     "text": [
      "Epoch 160, Loss 0.0239\n",
      "Training Accuracy: 0.9720, Testing Accuracy: 0.9708\n",
      "\n"
     ]
    },
    {
     "name": "stdout",
     "output_type": "stream",
     "text": [
      "Epoch 170, Loss 0.0234\n",
      "Training Accuracy: 0.9728, Testing Accuracy: 0.9703\n",
      "\n"
     ]
    },
    {
     "name": "stdout",
     "output_type": "stream",
     "text": [
      "Epoch 180, Loss 0.0229\n",
      "Training Accuracy: 0.9733, Testing Accuracy: 0.9698\n",
      "\n"
     ]
    },
    {
     "name": "stdout",
     "output_type": "stream",
     "text": [
      "Epoch 190, Loss 0.0224\n",
      "Training Accuracy: 0.9742, Testing Accuracy: 0.9698\n",
      "\n"
     ]
    },
    {
     "name": "stdout",
     "output_type": "stream",
     "text": [
      "Epoch 200, Loss 0.022\n",
      "Training Accuracy: 0.9746, Testing Accuracy: 0.9698\n",
      "\n"
     ]
    },
    {
     "name": "stdout",
     "output_type": "stream",
     "text": [
      "Epoch 210, Loss 0.0216\n",
      "Training Accuracy: 0.9752, Testing Accuracy: 0.9693\n",
      "\n"
     ]
    },
    {
     "name": "stdout",
     "output_type": "stream",
     "text": [
      "Epoch 220, Loss 0.0213\n",
      "Training Accuracy: 0.9759, Testing Accuracy: 0.9698\n",
      "\n"
     ]
    },
    {
     "name": "stdout",
     "output_type": "stream",
     "text": [
      "Epoch 230, Loss 0.0209\n",
      "Training Accuracy: 0.9760, Testing Accuracy: 0.9698\n",
      "\n"
     ]
    },
    {
     "name": "stdout",
     "output_type": "stream",
     "text": [
      "Epoch 240, Loss 0.0206\n",
      "Training Accuracy: 0.9763, Testing Accuracy: 0.9703\n",
      "\n"
     ]
    },
    {
     "data": {
      "text/plain": [
       "0.0011460217707793545"
      ]
     },
     "execution_count": 22,
     "metadata": {},
     "output_type": "execute_result"
    }
   ],
   "source": [
    "nn_learner.train_loop(dl)"
   ]
  },
  {
   "cell_type": "code",
   "execution_count": 23,
   "id": "e0163366",
   "metadata": {
    "execution": {
     "iopub.execute_input": "2022-05-30T10:12:23.937512Z",
     "iopub.status.busy": "2022-05-30T10:12:23.936856Z",
     "iopub.status.idle": "2022-05-30T10:12:44.563807Z",
     "shell.execute_reply": "2022-05-30T10:12:44.564988Z"
    },
    "papermill": {
     "duration": 20.679087,
     "end_time": "2022-05-30T10:12:44.565181",
     "exception": false,
     "start_time": "2022-05-30T10:12:23.886094",
     "status": "completed"
    },
    "tags": []
   },
   "outputs": [
    {
     "name": "stdout",
     "output_type": "stream",
     "text": [
      "Epoch 0, Loss 0.2153\n",
      "Training Accuracy: 0.7766, Testing Accuracy: 0.8039\n",
      "\n"
     ]
    },
    {
     "name": "stdout",
     "output_type": "stream",
     "text": [
      "Epoch 10, Loss 0.1002\n",
      "Training Accuracy: 0.9115, Testing Accuracy: 0.9335\n",
      "\n"
     ]
    },
    {
     "name": "stdout",
     "output_type": "stream",
     "text": [
      "Epoch 20, Loss 0.0785\n",
      "Training Accuracy: 0.9266, Testing Accuracy: 0.9471\n",
      "\n"
     ]
    },
    {
     "name": "stdout",
     "output_type": "stream",
     "text": [
      "Epoch 30, Loss 0.0683\n",
      "Training Accuracy: 0.9342, Testing Accuracy: 0.9516\n",
      "\n"
     ]
    },
    {
     "name": "stdout",
     "output_type": "stream",
     "text": [
      "Epoch 40, Loss 0.0621\n",
      "Training Accuracy: 0.9390, Testing Accuracy: 0.9551\n",
      "\n"
     ]
    },
    {
     "name": "stdout",
     "output_type": "stream",
     "text": [
      "Epoch 50, Loss 0.0577\n",
      "Training Accuracy: 0.9418, Testing Accuracy: 0.9561\n",
      "\n"
     ]
    },
    {
     "name": "stdout",
     "output_type": "stream",
     "text": [
      "Epoch 60, Loss 0.0545\n",
      "Training Accuracy: 0.9437, Testing Accuracy: 0.9572\n",
      "\n"
     ]
    },
    {
     "name": "stdout",
     "output_type": "stream",
     "text": [
      "Epoch 70, Loss 0.052\n",
      "Training Accuracy: 0.9457, Testing Accuracy: 0.9582\n",
      "\n"
     ]
    },
    {
     "name": "stdout",
     "output_type": "stream",
     "text": [
      "Epoch 80, Loss 0.05\n",
      "Training Accuracy: 0.9478, Testing Accuracy: 0.9582\n",
      "\n"
     ]
    },
    {
     "name": "stdout",
     "output_type": "stream",
     "text": [
      "Epoch 90, Loss 0.0483\n",
      "Training Accuracy: 0.9497, Testing Accuracy: 0.9607\n",
      "\n"
     ]
    },
    {
     "name": "stdout",
     "output_type": "stream",
     "text": [
      "Epoch 100, Loss 0.0469\n",
      "Training Accuracy: 0.9517, Testing Accuracy: 0.9612\n",
      "\n"
     ]
    },
    {
     "name": "stdout",
     "output_type": "stream",
     "text": [
      "Epoch 110, Loss 0.0456\n",
      "Training Accuracy: 0.9525, Testing Accuracy: 0.9617\n",
      "\n"
     ]
    },
    {
     "name": "stdout",
     "output_type": "stream",
     "text": [
      "Epoch 120, Loss 0.0446\n",
      "Training Accuracy: 0.9531, Testing Accuracy: 0.9622\n",
      "\n"
     ]
    },
    {
     "name": "stdout",
     "output_type": "stream",
     "text": [
      "Epoch 130, Loss 0.0436\n",
      "Training Accuracy: 0.9537, Testing Accuracy: 0.9622\n",
      "\n"
     ]
    },
    {
     "name": "stdout",
     "output_type": "stream",
     "text": [
      "Epoch 140, Loss 0.0428\n",
      "Training Accuracy: 0.9545, Testing Accuracy: 0.9637\n",
      "\n"
     ]
    },
    {
     "name": "stdout",
     "output_type": "stream",
     "text": [
      "Epoch 150, Loss 0.042\n",
      "Training Accuracy: 0.9548, Testing Accuracy: 0.9637\n",
      "\n"
     ]
    },
    {
     "name": "stdout",
     "output_type": "stream",
     "text": [
      "Epoch 160, Loss 0.0413\n",
      "Training Accuracy: 0.9556, Testing Accuracy: 0.9637\n",
      "\n"
     ]
    },
    {
     "name": "stdout",
     "output_type": "stream",
     "text": [
      "Epoch 170, Loss 0.0407\n",
      "Training Accuracy: 0.9565, Testing Accuracy: 0.9637\n",
      "\n"
     ]
    },
    {
     "name": "stdout",
     "output_type": "stream",
     "text": [
      "Epoch 180, Loss 0.0401\n",
      "Training Accuracy: 0.9573, Testing Accuracy: 0.9637\n",
      "\n"
     ]
    },
    {
     "name": "stdout",
     "output_type": "stream",
     "text": [
      "Epoch 190, Loss 0.0396\n",
      "Training Accuracy: 0.9578, Testing Accuracy: 0.9637\n",
      "\n"
     ]
    },
    {
     "name": "stdout",
     "output_type": "stream",
     "text": [
      "Epoch 200, Loss 0.0391\n",
      "Training Accuracy: 0.9583, Testing Accuracy: 0.9642\n",
      "\n"
     ]
    },
    {
     "name": "stdout",
     "output_type": "stream",
     "text": [
      "Epoch 210, Loss 0.0386\n",
      "Training Accuracy: 0.9587, Testing Accuracy: 0.9647\n",
      "\n"
     ]
    },
    {
     "name": "stdout",
     "output_type": "stream",
     "text": [
      "Epoch 220, Loss 0.0382\n",
      "Training Accuracy: 0.9591, Testing Accuracy: 0.9647\n",
      "\n"
     ]
    },
    {
     "name": "stdout",
     "output_type": "stream",
     "text": [
      "Epoch 230, Loss 0.0378\n",
      "Training Accuracy: 0.9592, Testing Accuracy: 0.9652\n",
      "\n"
     ]
    },
    {
     "name": "stdout",
     "output_type": "stream",
     "text": [
      "Epoch 240, Loss 0.0374\n",
      "Training Accuracy: 0.9596, Testing Accuracy: 0.9652\n",
      "\n"
     ]
    },
    {
     "data": {
      "text/plain": [
       "0.05660614062994979"
      ]
     },
     "execution_count": 23,
     "metadata": {},
     "output_type": "execute_result"
    }
   ],
   "source": [
    "lr_learner.train_loop(dl)"
   ]
  },
  {
   "cell_type": "code",
   "execution_count": 24,
   "id": "ca410940",
   "metadata": {
    "execution": {
     "iopub.execute_input": "2022-05-30T10:12:44.679306Z",
     "iopub.status.busy": "2022-05-30T10:12:44.677136Z",
     "iopub.status.idle": "2022-05-30T10:12:45.012106Z",
     "shell.execute_reply": "2022-05-30T10:12:45.012712Z"
    },
    "papermill": {
     "duration": 0.392329,
     "end_time": "2022-05-30T10:12:45.012997",
     "exception": false,
     "start_time": "2022-05-30T10:12:44.620668",
     "status": "completed"
    },
    "tags": []
   },
   "outputs": [
    {
     "data": {
      "text/plain": [
       "<matplotlib.legend.Legend at 0x7f3340ca8588>"
      ]
     },
     "execution_count": 24,
     "metadata": {},
     "output_type": "execute_result"
    },
    {
     "data": {
      "image/png": "[encoded data removed]",
      "text/plain": [
       "<Figure size 1080x720 with 1 Axes>"
      ]
     },
     "metadata": {
      "needs_background": "light"
     },
     "output_type": "display_data"
    }
   ],
   "source": [
    "#comparing the results of NN and LR\n",
    "plt.figure(figsize=(15,10))\n",
    "\n",
    "# Neural Network plots\n",
    "plt.plot(acc_nn.accuracies, 'r-', label = \"Training Accuracies - NN\")\n",
    "plt.plot(acc_nn.test_accuracies, 'g-', label = \"Testing Accuracies - NN\")\n",
    "\n",
    "# Logistic Regression plots\n",
    "plt.plot(acc_lr.accuracies, 'k-', label = \"Training Accuracies - LR\")\n",
    "plt.plot(acc_lr.test_accuracies, 'b-', label = \"Testing Accuracies - LR\")\n",
    "plt.legend()"
   ]
  },
  {
   "cell_type": "markdown",
   "id": "80dfb35c",
   "metadata": {
    "papermill": {
     "duration": 0.052945,
     "end_time": "2022-05-30T10:12:45.122978",
     "exception": false,
     "start_time": "2022-05-30T10:12:45.070033",
     "status": "completed"
    },
    "tags": []
   },
   "source": [
    "#### Plotting the outputs of this layer of the NN.\n"
   ]
  },
  {
   "cell_type": "code",
   "execution_count": 25,
   "id": "45eb2ff5",
   "metadata": {
    "execution": {
     "iopub.execute_input": "2022-05-30T10:12:45.243040Z",
     "iopub.status.busy": "2022-05-30T10:12:45.242367Z",
     "iopub.status.idle": "2022-05-30T10:12:45.275176Z",
     "shell.execute_reply": "2022-05-30T10:12:45.276171Z"
    },
    "papermill": {
     "duration": 0.094176,
     "end_time": "2022-05-30T10:12:45.276370",
     "exception": false,
     "start_time": "2022-05-30T10:12:45.182194",
     "status": "completed"
    },
    "tags": []
   },
   "outputs": [],
   "source": [
    "new_model = Model(layers[:-2])\n",
    "testing_plot = new_model(testing_data_x)"
   ]
  },
  {
   "cell_type": "code",
   "execution_count": 26,
   "id": "4c0a5485",
   "metadata": {
    "execution": {
     "iopub.execute_input": "2022-05-30T10:12:45.390134Z",
     "iopub.status.busy": "2022-05-30T10:12:45.389300Z",
     "iopub.status.idle": "2022-05-30T10:12:45.706990Z",
     "shell.execute_reply": "2022-05-30T10:12:45.707658Z"
    },
    "papermill": {
     "duration": 0.37742,
     "end_time": "2022-05-30T10:12:45.707864",
     "exception": false,
     "start_time": "2022-05-30T10:12:45.330444",
     "status": "completed"
    },
    "tags": []
   },
   "outputs": [
    {
     "data": {
      "text/plain": [
       "Text(0.5, 1.0, 'Outputs')"
      ]
     },
     "execution_count": 26,
     "metadata": {},
     "output_type": "execute_result"
    },
    {
     "data": {
      "image/png": "[encoded data removed]",
      "text/plain": [
       "<Figure size 576x504 with 1 Axes>"
      ]
     },
     "metadata": {
      "needs_background": "light"
     },
     "output_type": "display_data"
    }
   ],
   "source": [
    "# Plotting the scatter plot of points and color coding by class\n",
    "plt.figure(figsize=(8,7))\n",
    "plt.scatter(testing_plot[:,0], testing_plot[:,1], alpha = 0.1, c = y_test.ravel());\n",
    "plt.title('Outputs')"
   ]
  },
  {
   "cell_type": "markdown",
   "id": "a74fcf8f",
   "metadata": {
    "papermill": {
     "duration": 0.088461,
     "end_time": "2022-05-30T10:12:45.857403",
     "exception": false,
     "start_time": "2022-05-30T10:12:45.768942",
     "status": "completed"
    },
    "tags": []
   },
   "source": [
    "Probability contours"
   ]
  },
  {
   "cell_type": "code",
   "execution_count": 27,
   "id": "d0afc8e3",
   "metadata": {
    "execution": {
     "iopub.execute_input": "2022-05-30T10:12:45.978347Z",
     "iopub.status.busy": "2022-05-30T10:12:45.977633Z",
     "iopub.status.idle": "2022-05-30T10:12:45.993406Z",
     "shell.execute_reply": "2022-05-30T10:12:45.992840Z"
    },
    "papermill": {
     "duration": 0.077487,
     "end_time": "2022-05-30T10:12:45.993691",
     "exception": false,
     "start_time": "2022-05-30T10:12:45.916204",
     "status": "completed"
    },
    "tags": []
   },
   "outputs": [],
   "source": [
    "model_prob = Model(layers[-2:]) "
   ]
  },
  {
   "cell_type": "code",
   "execution_count": 28,
   "id": "9b96e238",
   "metadata": {
    "execution": {
     "iopub.execute_input": "2022-05-30T10:12:46.109613Z",
     "iopub.status.busy": "2022-05-30T10:12:46.108887Z",
     "iopub.status.idle": "2022-05-30T10:12:46.124400Z",
     "shell.execute_reply": "2022-05-30T10:12:46.124932Z"
    },
    "papermill": {
     "duration": 0.077501,
     "end_time": "2022-05-30T10:12:46.125229",
     "exception": false,
     "start_time": "2022-05-30T10:12:46.047728",
     "status": "completed"
    },
    "tags": []
   },
   "outputs": [],
   "source": [
    "#creating the x and y ranges according to the above generated plot.\n",
    "x_range = np.linspace(-4, 1, 100) \n",
    "y_range = np.linspace(-6, 6, 100) \n",
    "x_grid, y_grid = np.meshgrid(x_range, y_range) # x_grid and y_grig are of size 100 X 100\n",
    "\n",
    "# converting x_grid and y_grid to continuous arrays\n",
    "x_gridflat = np.ravel(x_grid)\n",
    "y_gridflat = np.ravel(y_grid)\n",
    "\n",
    "# The last layer of the current model takes two columns as input. Hence transpose of np.vstack() is required.\n",
    "X = np.vstack((x_gridflat, y_gridflat)).T\n",
    "\n",
    "prob_contour = model_prob(X).reshape(100,100) "
   ]
  },
  {
   "cell_type": "code",
   "execution_count": 29,
   "id": "da72499a",
   "metadata": {
    "execution": {
     "iopub.execute_input": "2022-05-30T10:12:46.245877Z",
     "iopub.status.busy": "2022-05-30T10:12:46.243941Z",
     "iopub.status.idle": "2022-05-30T10:12:46.576262Z",
     "shell.execute_reply": "2022-05-30T10:12:46.575152Z"
    },
    "papermill": {
     "duration": 0.396523,
     "end_time": "2022-05-30T10:12:46.576413",
     "exception": false,
     "start_time": "2022-05-30T10:12:46.179890",
     "status": "completed"
    },
    "tags": []
   },
   "outputs": [
    {
     "data": {
      "image/png": "[encoded data removed]",
      "text/plain": [
       "<Figure size 720x648 with 1 Axes>"
      ]
     },
     "metadata": {
      "needs_background": "light"
     },
     "output_type": "display_data"
    }
   ],
   "source": [
    "plt.figure(figsize=(10,9))\n",
    "plt.scatter(testing_plot[:,0], testing_plot[:,1], alpha = 0.1, c = y_test.ravel())\n",
    "contours = plt.contour(x_grid,y_grid,prob_contour)\n",
    "plt.title('Probability Contours')\n",
    "plt.clabel(contours, inline = True );"
   ]
  },
  {
   "cell_type": "code",
   "execution_count": null,
   "id": "e81b4ac7",
   "metadata": {
    "papermill": {
     "duration": 0.055029,
     "end_time": "2022-05-30T10:12:46.688194",
     "exception": false,
     "start_time": "2022-05-30T10:12:46.633165",
     "status": "completed"
    },
    "tags": []
   },
   "outputs": [],
   "source": []
  }
 ],
 "metadata": {
  "kernelspec": {
   "display_name": "Python 3",
   "language": "python",
   "name": "python3"
  },
  "language_info": {
   "codemirror_mode": {
    "name": "ipython",
    "version": 3
   },
   "file_extension": ".py",
   "mimetype": "text/x-python",
   "name": "python",
   "nbconvert_exporter": "python",
   "pygments_lexer": "ipython3",
   "version": "3.6.15"
  },
  "papermill": {
   "default_parameters": {},
   "duration": 179.176143,
   "end_time": "2022-05-30T10:12:47.164591",
   "environment_variables": {},
   "exception": null,
   "input_path": "2020-08-11-part2.ipynb",
   "output_path": "2020-08-11-part2.ipynb",
   "parameters": {},
   "start_time": "2022-05-30T10:09:47.988448",
   "version": "2.3.3"
  }
 },
 "nbformat": 4,
 "nbformat_minor": 5
}