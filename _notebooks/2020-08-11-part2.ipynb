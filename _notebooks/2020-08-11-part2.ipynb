{
 "cells": [
  {
   "cell_type": "markdown",
   "id": "98380cd3",
   "metadata": {
    "papermill": {
     "duration": 0.037391,
     "end_time": "2022-05-24T10:11:12.544339",
     "exception": false,
     "start_time": "2022-05-24T10:11:12.506948",
     "status": "completed"
    },
    "tags": []
   },
   "source": [
    "# Distinguish Your Own Digits (DYOD)"
   ]
  },
  {
   "cell_type": "markdown",
   "id": "ef31240d",
   "metadata": {
    "papermill": {
     "duration": 0.031149,
     "end_time": "2022-05-24T10:11:12.608257",
     "exception": false,
     "start_time": "2022-05-24T10:11:12.577108",
     "status": "completed"
    },
    "tags": []
   },
   "source": [
    "You are going to write a classifier that distinguishes between the number 3 and number 8."
   ]
  },
  {
   "cell_type": "code",
   "execution_count": 1,
   "id": "b15c8646",
   "metadata": {
    "execution": {
     "iopub.execute_input": "2022-05-24T10:11:12.681427Z",
     "iopub.status.busy": "2022-05-24T10:11:12.680656Z",
     "iopub.status.idle": "2022-05-24T10:11:12.697172Z",
     "shell.execute_reply": "2022-05-24T10:11:12.696390Z"
    },
    "papermill": {
     "duration": 0.057688,
     "end_time": "2022-05-24T10:11:12.697345",
     "exception": false,
     "start_time": "2022-05-24T10:11:12.639657",
     "status": "completed"
    },
    "tags": []
   },
   "outputs": [],
   "source": [
    "%load_ext autoreload\n",
    "%autoreload 2"
   ]
  },
  {
   "cell_type": "code",
   "execution_count": 2,
   "id": "22ef38dc",
   "metadata": {
    "execution": {
     "iopub.execute_input": "2022-05-24T10:11:12.764658Z",
     "iopub.status.busy": "2022-05-24T10:11:12.763854Z",
     "iopub.status.idle": "2022-05-24T10:11:13.444118Z",
     "shell.execute_reply": "2022-05-24T10:11:13.442660Z"
    },
    "papermill": {
     "duration": 0.716363,
     "end_time": "2022-05-24T10:11:13.444327",
     "exception": false,
     "start_time": "2022-05-24T10:11:12.727964",
     "status": "completed"
    },
    "tags": []
   },
   "outputs": [],
   "source": [
    "%matplotlib inline\n",
    "import numpy as np\n",
    "import matplotlib.pyplot as plt\n",
    "import pandas as pd"
   ]
  },
  {
   "cell_type": "markdown",
   "id": "ba036198",
   "metadata": {
    "papermill": {
     "duration": 0.03119,
     "end_time": "2022-05-24T10:11:13.510081",
     "exception": false,
     "start_time": "2022-05-24T10:11:13.478891",
     "status": "completed"
    },
    "tags": []
   },
   "source": [
    "From the command line run `pip install mnist`. This is a library that will help you bring down the mnist dataset. If you run this from a notebook, you need to put  `!pip install mnist` in a cell by itself."
   ]
  },
  {
   "cell_type": "code",
   "execution_count": 3,
   "id": "bb6ad8a1",
   "metadata": {
    "execution": {
     "iopub.execute_input": "2022-05-24T10:11:13.589252Z",
     "iopub.status.busy": "2022-05-24T10:11:13.583281Z",
     "iopub.status.idle": "2022-05-24T10:11:15.701739Z",
     "shell.execute_reply": "2022-05-24T10:11:15.701080Z"
    },
    "papermill": {
     "duration": 2.159975,
     "end_time": "2022-05-24T10:11:15.701897",
     "exception": false,
     "start_time": "2022-05-24T10:11:13.541922",
     "status": "completed"
    },
    "tags": []
   },
   "outputs": [
    {
     "name": "stdout",
     "output_type": "stream",
     "text": [
      "Collecting mnist\r\n"
     ]
    },
    {
     "name": "stdout",
     "output_type": "stream",
     "text": [
      "  Downloading mnist-0.2.2-py2.py3-none-any.whl (3.5 kB)\r\n",
      "Requirement already satisfied: numpy in /opt/hostedtoolcache/Python/3.6.15/x64/lib/python3.6/site-packages (from mnist) (1.19.5)\r\n"
     ]
    },
    {
     "name": "stdout",
     "output_type": "stream",
     "text": [
      "Installing collected packages: mnist\r\n"
     ]
    },
    {
     "name": "stdout",
     "output_type": "stream",
     "text": [
      "Successfully installed mnist-0.2.2\r\n"
     ]
    }
   ],
   "source": [
    "!pip install mnist"
   ]
  },
  {
   "cell_type": "markdown",
   "id": "69df9c9a",
   "metadata": {
    "papermill": {
     "duration": 0.032657,
     "end_time": "2022-05-24T10:11:15.769562",
     "exception": false,
     "start_time": "2022-05-24T10:11:15.736905",
     "status": "completed"
    },
    "tags": []
   },
   "source": [
    "## Preparing the Data"
   ]
  },
  {
   "cell_type": "code",
   "execution_count": 4,
   "id": "7f69d806",
   "metadata": {
    "execution": {
     "iopub.execute_input": "2022-05-24T10:11:15.842603Z",
     "iopub.status.busy": "2022-05-24T10:11:15.841857Z",
     "iopub.status.idle": "2022-05-24T10:11:15.861577Z",
     "shell.execute_reply": "2022-05-24T10:11:15.860864Z"
    },
    "papermill": {
     "duration": 0.058011,
     "end_time": "2022-05-24T10:11:15.861729",
     "exception": false,
     "start_time": "2022-05-24T10:11:15.803718",
     "status": "completed"
    },
    "tags": []
   },
   "outputs": [],
   "source": [
    "import mnist"
   ]
  },
  {
   "cell_type": "code",
   "execution_count": 5,
   "id": "a411e44f",
   "metadata": {
    "execution": {
     "iopub.execute_input": "2022-05-24T10:11:15.932359Z",
     "iopub.status.busy": "2022-05-24T10:11:15.931571Z",
     "iopub.status.idle": "2022-05-24T10:11:16.546554Z",
     "shell.execute_reply": "2022-05-24T10:11:16.545893Z"
    },
    "papermill": {
     "duration": 0.651343,
     "end_time": "2022-05-24T10:11:16.546729",
     "exception": false,
     "start_time": "2022-05-24T10:11:15.895386",
     "status": "completed"
    },
    "tags": []
   },
   "outputs": [],
   "source": [
    "train_images = mnist.train_images()\n",
    "train_labels = mnist.train_labels()"
   ]
  },
  {
   "cell_type": "code",
   "execution_count": 6,
   "id": "dceab3a5",
   "metadata": {
    "execution": {
     "iopub.execute_input": "2022-05-24T10:11:16.618777Z",
     "iopub.status.busy": "2022-05-24T10:11:16.617960Z",
     "iopub.status.idle": "2022-05-24T10:11:16.634776Z",
     "shell.execute_reply": "2022-05-24T10:11:16.635558Z"
    },
    "papermill": {
     "duration": 0.054825,
     "end_time": "2022-05-24T10:11:16.635734",
     "exception": false,
     "start_time": "2022-05-24T10:11:16.580909",
     "status": "completed"
    },
    "tags": []
   },
   "outputs": [
    {
     "data": {
      "text/plain": [
       "((60000, 28, 28), (60000,))"
      ]
     },
     "execution_count": 6,
     "metadata": {},
     "output_type": "execute_result"
    }
   ],
   "source": [
    "train_images.shape, train_labels.shape"
   ]
  },
  {
   "cell_type": "code",
   "execution_count": 7,
   "id": "f50dc2bb",
   "metadata": {
    "execution": {
     "iopub.execute_input": "2022-05-24T10:11:16.707267Z",
     "iopub.status.busy": "2022-05-24T10:11:16.706432Z",
     "iopub.status.idle": "2022-05-24T10:11:16.823514Z",
     "shell.execute_reply": "2022-05-24T10:11:16.822827Z"
    },
    "papermill": {
     "duration": 0.154671,
     "end_time": "2022-05-24T10:11:16.823660",
     "exception": false,
     "start_time": "2022-05-24T10:11:16.668989",
     "status": "completed"
    },
    "tags": []
   },
   "outputs": [],
   "source": [
    "test_images = mnist.test_images()\n",
    "test_labels = mnist.test_labels()"
   ]
  },
  {
   "cell_type": "code",
   "execution_count": 8,
   "id": "fc38cf1b",
   "metadata": {
    "execution": {
     "iopub.execute_input": "2022-05-24T10:11:16.896249Z",
     "iopub.status.busy": "2022-05-24T10:11:16.895368Z",
     "iopub.status.idle": "2022-05-24T10:11:16.910840Z",
     "shell.execute_reply": "2022-05-24T10:11:16.911533Z"
    },
    "papermill": {
     "duration": 0.054586,
     "end_time": "2022-05-24T10:11:16.911697",
     "exception": false,
     "start_time": "2022-05-24T10:11:16.857111",
     "status": "completed"
    },
    "tags": []
   },
   "outputs": [
    {
     "data": {
      "text/plain": [
       "((10000, 28, 28), (10000,))"
      ]
     },
     "execution_count": 8,
     "metadata": {},
     "output_type": "execute_result"
    }
   ],
   "source": [
    "test_images.shape, test_labels.shape"
   ]
  },
  {
   "cell_type": "code",
   "execution_count": 9,
   "id": "f9ed8fe0",
   "metadata": {
    "execution": {
     "iopub.execute_input": "2022-05-24T10:11:16.984166Z",
     "iopub.status.busy": "2022-05-24T10:11:16.983327Z",
     "iopub.status.idle": "2022-05-24T10:11:17.173882Z",
     "shell.execute_reply": "2022-05-24T10:11:17.174510Z"
    },
    "papermill": {
     "duration": 0.229866,
     "end_time": "2022-05-24T10:11:17.174679",
     "exception": false,
     "start_time": "2022-05-24T10:11:16.944813",
     "status": "completed"
    },
    "tags": []
   },
   "outputs": [
    {
     "name": "stdout",
     "output_type": "stream",
     "text": [
      "2\n"
     ]
    },
    {
     "data": {
      "text/plain": [
       "<matplotlib.image.AxesImage at 0x7ffa7bbcae80>"
      ]
     },
     "execution_count": 9,
     "metadata": {},
     "output_type": "execute_result"
    },
    {
     "data": {
      "image/png": "[encoded data removed]",
      "text/plain": [
       "<Figure size 432x288 with 1 Axes>"
      ]
     },
     "metadata": {
      "needs_background": "light"
     },
     "output_type": "display_data"
    }
   ],
   "source": [
    "image_index = 7776 # You may select anything up to 60,000\n",
    "print(train_labels[image_index]) \n",
    "plt.imshow(train_images[image_index], cmap='Greys')"
   ]
  },
  {
   "cell_type": "markdown",
   "id": "a8d2388d",
   "metadata": {
    "papermill": {
     "duration": 0.033666,
     "end_time": "2022-05-24T10:11:17.242804",
     "exception": false,
     "start_time": "2022-05-24T10:11:17.209138",
     "status": "completed"
    },
    "tags": []
   },
   "source": [
    "## Filter data to get 3 and 8 out"
   ]
  },
  {
   "cell_type": "code",
   "execution_count": 10,
   "id": "776f7fc7",
   "metadata": {
    "execution": {
     "iopub.execute_input": "2022-05-24T10:11:17.317040Z",
     "iopub.status.busy": "2022-05-24T10:11:17.316275Z",
     "iopub.status.idle": "2022-05-24T10:11:17.337092Z",
     "shell.execute_reply": "2022-05-24T10:11:17.337750Z"
    },
    "papermill": {
     "duration": 0.0609,
     "end_time": "2022-05-24T10:11:17.337924",
     "exception": false,
     "start_time": "2022-05-24T10:11:17.277024",
     "status": "completed"
    },
    "tags": []
   },
   "outputs": [],
   "source": [
    "train_filter = np.where((train_labels == 3 ) | (train_labels == 8))\n",
    "test_filter = np.where((test_labels == 3) | (test_labels == 8))\n",
    "X_train, y_train = train_images[train_filter], train_labels[train_filter]\n",
    "X_test, y_test = test_images[test_filter], test_labels[test_filter]"
   ]
  },
  {
   "cell_type": "markdown",
   "id": "948f0b7e",
   "metadata": {
    "papermill": {
     "duration": 0.034212,
     "end_time": "2022-05-24T10:11:17.406706",
     "exception": false,
     "start_time": "2022-05-24T10:11:17.372494",
     "status": "completed"
    },
    "tags": []
   },
   "source": [
    "We normalize the pizel values in the 0 to 1 range"
   ]
  },
  {
   "cell_type": "code",
   "execution_count": 11,
   "id": "ee4c2166",
   "metadata": {
    "execution": {
     "iopub.execute_input": "2022-05-24T10:11:17.485220Z",
     "iopub.status.busy": "2022-05-24T10:11:17.484453Z",
     "iopub.status.idle": "2022-05-24T10:11:17.540977Z",
     "shell.execute_reply": "2022-05-24T10:11:17.540295Z"
    },
    "papermill": {
     "duration": 0.099913,
     "end_time": "2022-05-24T10:11:17.541149",
     "exception": false,
     "start_time": "2022-05-24T10:11:17.441236",
     "status": "completed"
    },
    "tags": []
   },
   "outputs": [],
   "source": [
    "X_train = X_train/255.\n",
    "X_test = X_test/255."
   ]
  },
  {
   "cell_type": "markdown",
   "id": "ddcf4fab",
   "metadata": {
    "papermill": {
     "duration": 0.034817,
     "end_time": "2022-05-24T10:11:17.611138",
     "exception": false,
     "start_time": "2022-05-24T10:11:17.576321",
     "status": "completed"
    },
    "tags": []
   },
   "source": [
    "And setup the labels as 1 (when the digit is 3) and 0 (when the digit is 8)"
   ]
  },
  {
   "cell_type": "code",
   "execution_count": 12,
   "id": "7dc908f2",
   "metadata": {
    "execution": {
     "iopub.execute_input": "2022-05-24T10:11:17.684557Z",
     "iopub.status.busy": "2022-05-24T10:11:17.683704Z",
     "iopub.status.idle": "2022-05-24T10:11:17.700321Z",
     "shell.execute_reply": "2022-05-24T10:11:17.699632Z"
    },
    "papermill": {
     "duration": 0.055622,
     "end_time": "2022-05-24T10:11:17.700469",
     "exception": false,
     "start_time": "2022-05-24T10:11:17.644847",
     "status": "completed"
    },
    "tags": []
   },
   "outputs": [],
   "source": [
    "y_train = 1*(y_train==3)\n",
    "y_test = 1*(y_test==3)"
   ]
  },
  {
   "cell_type": "code",
   "execution_count": 13,
   "id": "01e4e969",
   "metadata": {
    "execution": {
     "iopub.execute_input": "2022-05-24T10:11:17.772208Z",
     "iopub.status.busy": "2022-05-24T10:11:17.771445Z",
     "iopub.status.idle": "2022-05-24T10:11:17.793215Z",
     "shell.execute_reply": "2022-05-24T10:11:17.792498Z"
    },
    "papermill": {
     "duration": 0.059253,
     "end_time": "2022-05-24T10:11:17.793411",
     "exception": false,
     "start_time": "2022-05-24T10:11:17.734158",
     "status": "completed"
    },
    "tags": []
   },
   "outputs": [
    {
     "data": {
      "text/plain": [
       "((11982, 28, 28), (1984, 28, 28))"
      ]
     },
     "execution_count": 13,
     "metadata": {},
     "output_type": "execute_result"
    }
   ],
   "source": [
    "X_train.shape, X_test.shape"
   ]
  },
  {
   "cell_type": "markdown",
   "id": "5ccf3f85",
   "metadata": {
    "papermill": {
     "duration": 0.033874,
     "end_time": "2022-05-24T10:11:17.862784",
     "exception": false,
     "start_time": "2022-05-24T10:11:17.828910",
     "status": "completed"
    },
    "tags": []
   },
   "source": [
    "We reshape the data to flatten the image pixels into a set of features or co-variates:"
   ]
  },
  {
   "cell_type": "code",
   "execution_count": 14,
   "id": "5286a4a3",
   "metadata": {
    "execution": {
     "iopub.execute_input": "2022-05-24T10:11:17.937474Z",
     "iopub.status.busy": "2022-05-24T10:11:17.936671Z",
     "iopub.status.idle": "2022-05-24T10:11:17.953692Z",
     "shell.execute_reply": "2022-05-24T10:11:17.954414Z"
    },
    "papermill": {
     "duration": 0.056513,
     "end_time": "2022-05-24T10:11:17.954604",
     "exception": false,
     "start_time": "2022-05-24T10:11:17.898091",
     "status": "completed"
    },
    "tags": []
   },
   "outputs": [
    {
     "data": {
      "text/plain": [
       "((11982, 784), (1984, 784))"
      ]
     },
     "execution_count": 14,
     "metadata": {},
     "output_type": "execute_result"
    }
   ],
   "source": [
    "X_train = X_train.reshape(X_train.shape[0], -1)\n",
    "X_test = X_test.reshape(X_test.shape[0], -1)\n",
    "X_train.shape, X_test.shape"
   ]
  },
  {
   "cell_type": "code",
   "execution_count": 15,
   "id": "73c5f88a",
   "metadata": {
    "execution": {
     "iopub.execute_input": "2022-05-24T10:11:18.032233Z",
     "iopub.status.busy": "2022-05-24T10:11:18.031455Z",
     "iopub.status.idle": "2022-05-24T10:11:18.053553Z",
     "shell.execute_reply": "2022-05-24T10:11:18.054228Z"
    },
    "papermill": {
     "duration": 0.064348,
     "end_time": "2022-05-24T10:11:18.054403",
     "exception": false,
     "start_time": "2022-05-24T10:11:17.990055",
     "status": "completed"
    },
    "tags": []
   },
   "outputs": [],
   "source": [
    "#Impoting functions from 'Kudzu'\n",
    "from kudzu.model import Model\n",
    "from kudzu.train import Learner\n",
    "from kudzu.optim import GD\n",
    "from kudzu.data import Data, Sampler,Dataloader\n",
    "\n",
    "from kudzu.callbacks import AccCallback\n",
    "from kudzu.callbacks import ClfCallback\n",
    "\n",
    "from kudzu.loss import MSE\n",
    "\n",
    "from kudzu.layer import Sigmoid,Relu\n",
    "from kudzu.layer import Affine"
   ]
  },
  {
   "cell_type": "markdown",
   "id": "bc01172a",
   "metadata": {
    "papermill": {
     "duration": 0.03549,
     "end_time": "2022-05-24T10:11:18.126219",
     "exception": false,
     "start_time": "2022-05-24T10:11:18.090729",
     "status": "completed"
    },
    "tags": []
   },
   "source": [
    "### Let us create a `Config` class, to store important parameters. \n",
    "This class essentially plays the role of a dictionary."
   ]
  },
  {
   "cell_type": "code",
   "execution_count": 16,
   "id": "978281aa",
   "metadata": {
    "execution": {
     "iopub.execute_input": "2022-05-24T10:11:18.204068Z",
     "iopub.status.busy": "2022-05-24T10:11:18.203268Z",
     "iopub.status.idle": "2022-05-24T10:11:18.218039Z",
     "shell.execute_reply": "2022-05-24T10:11:18.217329Z"
    },
    "papermill": {
     "duration": 0.057442,
     "end_time": "2022-05-24T10:11:18.218186",
     "exception": false,
     "start_time": "2022-05-24T10:11:18.160744",
     "status": "completed"
    },
    "tags": []
   },
   "outputs": [],
   "source": [
    "class Config:\n",
    "    pass\n",
    "config = Config()\n",
    "config.lr = 0.001\n",
    "config.num_epochs = 250\n",
    "config.bs = 50"
   ]
  },
  {
   "cell_type": "markdown",
   "id": "1385fa59",
   "metadata": {
    "papermill": {
     "duration": 0.035035,
     "end_time": "2022-05-24T10:11:18.289312",
     "exception": false,
     "start_time": "2022-05-24T10:11:18.254277",
     "status": "completed"
    },
    "tags": []
   },
   "source": [
    "### Running Models with the Training data\n",
    "Details about the network layers:\n",
    "- A first affine layer has 784 inputs and does 100 affine transforms. These are followed by a Relu\n",
    "- A second affine layer has 100 inputs from the 100 activations of the past layer, and does 100 affine transforms. These are followed by a Relu\n",
    "- A third affine layer has 100 activations and does 2 affine transformations to create an embedding for visualization. There is no non-linearity here.\n",
    "- A final \"logistic regression\" which has an affine transform from 2 inputs to 1 output, which is squeezed through a sigmoid.\n"
   ]
  },
  {
   "cell_type": "code",
   "execution_count": 17,
   "id": "2b9c66db",
   "metadata": {
    "execution": {
     "iopub.execute_input": "2022-05-24T10:11:18.366031Z",
     "iopub.status.busy": "2022-05-24T10:11:18.365237Z",
     "iopub.status.idle": "2022-05-24T10:11:18.380725Z",
     "shell.execute_reply": "2022-05-24T10:11:18.379849Z"
    },
    "papermill": {
     "duration": 0.056219,
     "end_time": "2022-05-24T10:11:18.380897",
     "exception": false,
     "start_time": "2022-05-24T10:11:18.324678",
     "status": "completed"
    },
    "tags": []
   },
   "outputs": [],
   "source": [
    "data = Data(X_train, y_train.reshape(-1,1))\n",
    "sampler = Sampler(data, config.bs, shuffle=True)\n",
    "\n",
    "dl = Dataloader(data, sampler)\n",
    "\n",
    "opt = GD(config.lr)\n",
    "loss = MSE()"
   ]
  },
  {
   "cell_type": "code",
   "execution_count": 18,
   "id": "b275e4c2",
   "metadata": {
    "execution": {
     "iopub.execute_input": "2022-05-24T10:11:18.460136Z",
     "iopub.status.busy": "2022-05-24T10:11:18.459349Z",
     "iopub.status.idle": "2022-05-24T10:11:18.473354Z",
     "shell.execute_reply": "2022-05-24T10:11:18.472658Z"
    },
    "papermill": {
     "duration": 0.056531,
     "end_time": "2022-05-24T10:11:18.473503",
     "exception": false,
     "start_time": "2022-05-24T10:11:18.416972",
     "status": "completed"
    },
    "tags": []
   },
   "outputs": [],
   "source": [
    "training_data_x = X_train\n",
    "testing_data_x = X_test\n",
    "training_data_y = y_train.reshape(-1,1)\n",
    "testing_data_y = y_test.reshape(-1,1)"
   ]
  },
  {
   "cell_type": "code",
   "execution_count": 19,
   "id": "76951160",
   "metadata": {
    "execution": {
     "iopub.execute_input": "2022-05-24T10:11:18.548974Z",
     "iopub.status.busy": "2022-05-24T10:11:18.548147Z",
     "iopub.status.idle": "2022-05-24T10:11:18.567706Z",
     "shell.execute_reply": "2022-05-24T10:11:18.568399Z"
    },
    "papermill": {
     "duration": 0.061079,
     "end_time": "2022-05-24T10:11:18.568570",
     "exception": false,
     "start_time": "2022-05-24T10:11:18.507491",
     "status": "completed"
    },
    "tags": []
   },
   "outputs": [
    {
     "name": "stdout",
     "output_type": "stream",
     "text": [
      "xavier\n",
      "xavier\n",
      "xavier\n",
      "xavier\n",
      "xavier\n"
     ]
    }
   ],
   "source": [
    "layers = [Affine(\"first\", 784, 100), Relu(\"first\"), Affine(\"second\", 100, 100), Relu(\"second\"), Affine(\"third\", 100, 2), Affine(\"last\", 2, 1), Sigmoid(\"last\")]\n",
    "model_nn = Model(layers)\n",
    "model_lr = Model([Affine(\"logits\", 784, 1), Sigmoid(\"sigmoid\")])"
   ]
  },
  {
   "cell_type": "code",
   "execution_count": 20,
   "id": "6eede77a",
   "metadata": {
    "execution": {
     "iopub.execute_input": "2022-05-24T10:11:18.645755Z",
     "iopub.status.busy": "2022-05-24T10:11:18.645066Z",
     "iopub.status.idle": "2022-05-24T10:11:18.658681Z",
     "shell.execute_reply": "2022-05-24T10:11:18.658084Z"
    },
    "papermill": {
     "duration": 0.055013,
     "end_time": "2022-05-24T10:11:18.658824",
     "exception": false,
     "start_time": "2022-05-24T10:11:18.603811",
     "status": "completed"
    },
    "tags": []
   },
   "outputs": [],
   "source": [
    "nn_learner = Learner(loss, model_nn, opt, config.num_epochs)\n",
    "acc_nn = ClfCallback(nn_learner, config.bs, training_data_x , testing_data_x, training_data_y, testing_data_y)\n",
    "nn_learner.set_callbacks([acc_nn])"
   ]
  },
  {
   "cell_type": "code",
   "execution_count": 21,
   "id": "877b6cc7",
   "metadata": {
    "execution": {
     "iopub.execute_input": "2022-05-24T10:11:18.734379Z",
     "iopub.status.busy": "2022-05-24T10:11:18.733544Z",
     "iopub.status.idle": "2022-05-24T10:11:18.749616Z",
     "shell.execute_reply": "2022-05-24T10:11:18.750370Z"
    },
    "papermill": {
     "duration": 0.056201,
     "end_time": "2022-05-24T10:11:18.750538",
     "exception": false,
     "start_time": "2022-05-24T10:11:18.694337",
     "status": "completed"
    },
    "tags": []
   },
   "outputs": [],
   "source": [
    "lr_learner = Learner(loss, model_lr, opt, config.num_epochs)\n",
    "acc_lr = ClfCallback(lr_learner, config.bs, training_data_x , testing_data_x, training_data_y, testing_data_y)\n",
    "lr_learner.set_callbacks([acc_lr])"
   ]
  },
  {
   "cell_type": "code",
   "execution_count": 22,
   "id": "d9b133c3",
   "metadata": {
    "execution": {
     "iopub.execute_input": "2022-05-24T10:11:18.829218Z",
     "iopub.status.busy": "2022-05-24T10:11:18.828420Z",
     "iopub.status.idle": "2022-05-24T10:13:26.698415Z",
     "shell.execute_reply": "2022-05-24T10:13:26.699462Z"
    },
    "papermill": {
     "duration": 127.913336,
     "end_time": "2022-05-24T10:13:26.699633",
     "exception": false,
     "start_time": "2022-05-24T10:11:18.786297",
     "status": "completed"
    },
    "tags": []
   },
   "outputs": [
    {
     "name": "stdout",
     "output_type": "stream",
     "text": [
      "Epoch 0, Loss 0.2473\n",
      "Training Accuracy: 0.6102, Testing Accuracy: 0.5842\n",
      "\n"
     ]
    },
    {
     "name": "stdout",
     "output_type": "stream",
     "text": [
      "Epoch 10, Loss 0.1369\n",
      "Training Accuracy: 0.9111, Testing Accuracy: 0.9249\n",
      "\n"
     ]
    },
    {
     "name": "stdout",
     "output_type": "stream",
     "text": [
      "Epoch 20, Loss 0.0684\n",
      "Training Accuracy: 0.9360, Testing Accuracy: 0.9461\n",
      "\n"
     ]
    },
    {
     "name": "stdout",
     "output_type": "stream",
     "text": [
      "Epoch 30, Loss 0.0492\n",
      "Training Accuracy: 0.9488, Testing Accuracy: 0.9592\n",
      "\n"
     ]
    },
    {
     "name": "stdout",
     "output_type": "stream",
     "text": [
      "Epoch 40, Loss 0.0411\n",
      "Training Accuracy: 0.9547, Testing Accuracy: 0.9652\n",
      "\n"
     ]
    },
    {
     "name": "stdout",
     "output_type": "stream",
     "text": [
      "Epoch 50, Loss 0.0367\n",
      "Training Accuracy: 0.9599, Testing Accuracy: 0.9682\n",
      "\n"
     ]
    },
    {
     "name": "stdout",
     "output_type": "stream",
     "text": [
      "Epoch 60, Loss 0.0338\n",
      "Training Accuracy: 0.9614, Testing Accuracy: 0.9703\n",
      "\n"
     ]
    },
    {
     "name": "stdout",
     "output_type": "stream",
     "text": [
      "Epoch 70, Loss 0.0318\n",
      "Training Accuracy: 0.9633, Testing Accuracy: 0.9703\n",
      "\n"
     ]
    },
    {
     "name": "stdout",
     "output_type": "stream",
     "text": [
      "Epoch 80, Loss 0.0302\n",
      "Training Accuracy: 0.9648, Testing Accuracy: 0.9708\n",
      "\n"
     ]
    },
    {
     "name": "stdout",
     "output_type": "stream",
     "text": [
      "Epoch 90, Loss 0.029\n",
      "Training Accuracy: 0.9658, Testing Accuracy: 0.9713\n",
      "\n"
     ]
    },
    {
     "name": "stdout",
     "output_type": "stream",
     "text": [
      "Epoch 100, Loss 0.0279\n",
      "Training Accuracy: 0.9667, Testing Accuracy: 0.9698\n",
      "\n"
     ]
    },
    {
     "name": "stdout",
     "output_type": "stream",
     "text": [
      "Epoch 110, Loss 0.027\n",
      "Training Accuracy: 0.9682, Testing Accuracy: 0.9698\n",
      "\n"
     ]
    },
    {
     "name": "stdout",
     "output_type": "stream",
     "text": [
      "Epoch 120, Loss 0.0261\n",
      "Training Accuracy: 0.9689, Testing Accuracy: 0.9708\n",
      "\n"
     ]
    },
    {
     "name": "stdout",
     "output_type": "stream",
     "text": [
      "Epoch 130, Loss 0.0254\n",
      "Training Accuracy: 0.9694, Testing Accuracy: 0.9718\n",
      "\n"
     ]
    },
    {
     "name": "stdout",
     "output_type": "stream",
     "text": [
      "Epoch 140, Loss 0.0247\n",
      "Training Accuracy: 0.9705, Testing Accuracy: 0.9723\n",
      "\n"
     ]
    },
    {
     "name": "stdout",
     "output_type": "stream",
     "text": [
      "Epoch 150, Loss 0.0241\n",
      "Training Accuracy: 0.9715, Testing Accuracy: 0.9718\n",
      "\n"
     ]
    },
    {
     "name": "stdout",
     "output_type": "stream",
     "text": [
      "Epoch 160, Loss 0.0235\n",
      "Training Accuracy: 0.9720, Testing Accuracy: 0.9723\n",
      "\n"
     ]
    },
    {
     "name": "stdout",
     "output_type": "stream",
     "text": [
      "Epoch 170, Loss 0.0229\n",
      "Training Accuracy: 0.9726, Testing Accuracy: 0.9723\n",
      "\n"
     ]
    },
    {
     "name": "stdout",
     "output_type": "stream",
     "text": [
      "Epoch 180, Loss 0.0224\n",
      "Training Accuracy: 0.9736, Testing Accuracy: 0.9718\n",
      "\n"
     ]
    },
    {
     "name": "stdout",
     "output_type": "stream",
     "text": [
      "Epoch 190, Loss 0.0219\n",
      "Training Accuracy: 0.9746, Testing Accuracy: 0.9718\n",
      "\n"
     ]
    },
    {
     "name": "stdout",
     "output_type": "stream",
     "text": [
      "Epoch 200, Loss 0.0215\n",
      "Training Accuracy: 0.9754, Testing Accuracy: 0.9718\n",
      "\n"
     ]
    },
    {
     "name": "stdout",
     "output_type": "stream",
     "text": [
      "Epoch 210, Loss 0.021\n",
      "Training Accuracy: 0.9760, Testing Accuracy: 0.9718\n",
      "\n"
     ]
    },
    {
     "name": "stdout",
     "output_type": "stream",
     "text": [
      "Epoch 220, Loss 0.0206\n",
      "Training Accuracy: 0.9765, Testing Accuracy: 0.9728\n",
      "\n"
     ]
    },
    {
     "name": "stdout",
     "output_type": "stream",
     "text": [
      "Epoch 230, Loss 0.0202\n",
      "Training Accuracy: 0.9769, Testing Accuracy: 0.9728\n",
      "\n"
     ]
    },
    {
     "name": "stdout",
     "output_type": "stream",
     "text": [
      "Epoch 240, Loss 0.0198\n",
      "Training Accuracy: 0.9778, Testing Accuracy: 0.9728\n",
      "\n"
     ]
    },
    {
     "data": {
      "text/plain": [
       "0.007725558974993532"
      ]
     },
     "execution_count": 22,
     "metadata": {},
     "output_type": "execute_result"
    }
   ],
   "source": [
    "nn_learner.train_loop(dl)"
   ]
  },
  {
   "cell_type": "code",
   "execution_count": 23,
   "id": "e0163366",
   "metadata": {
    "execution": {
     "iopub.execute_input": "2022-05-24T10:13:26.801669Z",
     "iopub.status.busy": "2022-05-24T10:13:26.800921Z",
     "iopub.status.idle": "2022-05-24T10:13:45.194992Z",
     "shell.execute_reply": "2022-05-24T10:13:45.194394Z"
    },
    "papermill": {
     "duration": 18.450044,
     "end_time": "2022-05-24T10:13:45.195139",
     "exception": false,
     "start_time": "2022-05-24T10:13:26.745095",
     "status": "completed"
    },
    "tags": []
   },
   "outputs": [
    {
     "name": "stdout",
     "output_type": "stream",
     "text": [
      "Epoch 0, Loss 0.237\n",
      "Training Accuracy: 0.7362, Testing Accuracy: 0.7651\n",
      "\n"
     ]
    },
    {
     "name": "stdout",
     "output_type": "stream",
     "text": [
      "Epoch 10, Loss 0.1001\n",
      "Training Accuracy: 0.9182, Testing Accuracy: 0.9299\n",
      "\n"
     ]
    },
    {
     "name": "stdout",
     "output_type": "stream",
     "text": [
      "Epoch 20, Loss 0.0776\n",
      "Training Accuracy: 0.9324, Testing Accuracy: 0.9435\n",
      "\n"
     ]
    },
    {
     "name": "stdout",
     "output_type": "stream",
     "text": [
      "Epoch 30, Loss 0.0673\n",
      "Training Accuracy: 0.9385, Testing Accuracy: 0.9481\n",
      "\n"
     ]
    },
    {
     "name": "stdout",
     "output_type": "stream",
     "text": [
      "Epoch 40, Loss 0.061\n",
      "Training Accuracy: 0.9423, Testing Accuracy: 0.9521\n",
      "\n"
     ]
    },
    {
     "name": "stdout",
     "output_type": "stream",
     "text": [
      "Epoch 50, Loss 0.0566\n",
      "Training Accuracy: 0.9453, Testing Accuracy: 0.9541\n",
      "\n"
     ]
    },
    {
     "name": "stdout",
     "output_type": "stream",
     "text": [
      "Epoch 60, Loss 0.0534\n",
      "Training Accuracy: 0.9483, Testing Accuracy: 0.9551\n",
      "\n"
     ]
    },
    {
     "name": "stdout",
     "output_type": "stream",
     "text": [
      "Epoch 70, Loss 0.051\n",
      "Training Accuracy: 0.9498, Testing Accuracy: 0.9567\n",
      "\n"
     ]
    },
    {
     "name": "stdout",
     "output_type": "stream",
     "text": [
      "Epoch 80, Loss 0.049\n",
      "Training Accuracy: 0.9511, Testing Accuracy: 0.9577\n",
      "\n"
     ]
    },
    {
     "name": "stdout",
     "output_type": "stream",
     "text": [
      "Epoch 90, Loss 0.0474\n",
      "Training Accuracy: 0.9527, Testing Accuracy: 0.9592\n",
      "\n"
     ]
    },
    {
     "name": "stdout",
     "output_type": "stream",
     "text": [
      "Epoch 100, Loss 0.046\n",
      "Training Accuracy: 0.9540, Testing Accuracy: 0.9617\n",
      "\n"
     ]
    },
    {
     "name": "stdout",
     "output_type": "stream",
     "text": [
      "Epoch 110, Loss 0.0448\n",
      "Training Accuracy: 0.9552, Testing Accuracy: 0.9632\n",
      "\n"
     ]
    },
    {
     "name": "stdout",
     "output_type": "stream",
     "text": [
      "Epoch 120, Loss 0.0437\n",
      "Training Accuracy: 0.9558, Testing Accuracy: 0.9637\n",
      "\n"
     ]
    },
    {
     "name": "stdout",
     "output_type": "stream",
     "text": [
      "Epoch 130, Loss 0.0428\n",
      "Training Accuracy: 0.9562, Testing Accuracy: 0.9642\n",
      "\n"
     ]
    },
    {
     "name": "stdout",
     "output_type": "stream",
     "text": [
      "Epoch 140, Loss 0.042\n",
      "Training Accuracy: 0.9567, Testing Accuracy: 0.9647\n",
      "\n"
     ]
    },
    {
     "name": "stdout",
     "output_type": "stream",
     "text": [
      "Epoch 150, Loss 0.0413\n",
      "Training Accuracy: 0.9570, Testing Accuracy: 0.9647\n",
      "\n"
     ]
    },
    {
     "name": "stdout",
     "output_type": "stream",
     "text": [
      "Epoch 160, Loss 0.0406\n",
      "Training Accuracy: 0.9582, Testing Accuracy: 0.9657\n",
      "\n"
     ]
    },
    {
     "name": "stdout",
     "output_type": "stream",
     "text": [
      "Epoch 170, Loss 0.04\n",
      "Training Accuracy: 0.9586, Testing Accuracy: 0.9662\n",
      "\n"
     ]
    },
    {
     "name": "stdout",
     "output_type": "stream",
     "text": [
      "Epoch 180, Loss 0.0395\n",
      "Training Accuracy: 0.9594, Testing Accuracy: 0.9672\n",
      "\n"
     ]
    },
    {
     "name": "stdout",
     "output_type": "stream",
     "text": [
      "Epoch 190, Loss 0.039\n",
      "Training Accuracy: 0.9597, Testing Accuracy: 0.9677\n",
      "\n"
     ]
    },
    {
     "name": "stdout",
     "output_type": "stream",
     "text": [
      "Epoch 200, Loss 0.0385\n",
      "Training Accuracy: 0.9601, Testing Accuracy: 0.9682\n",
      "\n"
     ]
    },
    {
     "name": "stdout",
     "output_type": "stream",
     "text": [
      "Epoch 210, Loss 0.0381\n",
      "Training Accuracy: 0.9604, Testing Accuracy: 0.9682\n",
      "\n"
     ]
    },
    {
     "name": "stdout",
     "output_type": "stream",
     "text": [
      "Epoch 220, Loss 0.0377\n",
      "Training Accuracy: 0.9608, Testing Accuracy: 0.9688\n",
      "\n"
     ]
    },
    {
     "name": "stdout",
     "output_type": "stream",
     "text": [
      "Epoch 230, Loss 0.0373\n",
      "Training Accuracy: 0.9612, Testing Accuracy: 0.9682\n",
      "\n"
     ]
    },
    {
     "name": "stdout",
     "output_type": "stream",
     "text": [
      "Epoch 240, Loss 0.0369\n",
      "Training Accuracy: 0.9616, Testing Accuracy: 0.9682\n",
      "\n"
     ]
    },
    {
     "data": {
      "text/plain": [
       "0.03815331089535454"
      ]
     },
     "execution_count": 23,
     "metadata": {},
     "output_type": "execute_result"
    }
   ],
   "source": [
    "lr_learner.train_loop(dl)"
   ]
  },
  {
   "cell_type": "code",
   "execution_count": 24,
   "id": "ca410940",
   "metadata": {
    "execution": {
     "iopub.execute_input": "2022-05-24T10:13:45.310343Z",
     "iopub.status.busy": "2022-05-24T10:13:45.309577Z",
     "iopub.status.idle": "2022-05-24T10:13:45.626613Z",
     "shell.execute_reply": "2022-05-24T10:13:45.625947Z"
    },
    "papermill": {
     "duration": 0.37695,
     "end_time": "2022-05-24T10:13:45.626758",
     "exception": false,
     "start_time": "2022-05-24T10:13:45.249808",
     "status": "completed"
    },
    "tags": []
   },
   "outputs": [
    {
     "data": {
      "text/plain": [
       "<matplotlib.legend.Legend at 0x7ffa6ef8d6a0>"
      ]
     },
     "execution_count": 24,
     "metadata": {},
     "output_type": "execute_result"
    },
    {
     "data": {
      "image/png": "[encoded data removed]",
      "text/plain": [
       "<Figure size 1080x720 with 1 Axes>"
      ]
     },
     "metadata": {
      "needs_background": "light"
     },
     "output_type": "display_data"
    }
   ],
   "source": [
    "#comparing the results of NN and LR\n",
    "plt.figure(figsize=(15,10))\n",
    "\n",
    "# Neural Network plots\n",
    "plt.plot(acc_nn.accuracies, 'r-', label = \"Training Accuracies - NN\")\n",
    "plt.plot(acc_nn.test_accuracies, 'g-', label = \"Testing Accuracies - NN\")\n",
    "\n",
    "# Logistic Regression plots\n",
    "plt.plot(acc_lr.accuracies, 'k-', label = \"Training Accuracies - LR\")\n",
    "plt.plot(acc_lr.test_accuracies, 'b-', label = \"Testing Accuracies - LR\")\n",
    "plt.legend()"
   ]
  },
  {
   "cell_type": "markdown",
   "id": "80dfb35c",
   "metadata": {
    "papermill": {
     "duration": 0.055292,
     "end_time": "2022-05-24T10:13:45.737846",
     "exception": false,
     "start_time": "2022-05-24T10:13:45.682554",
     "status": "completed"
    },
    "tags": []
   },
   "source": [
    "#### Plotting the outputs of this layer of the NN.\n"
   ]
  },
  {
   "cell_type": "code",
   "execution_count": 25,
   "id": "45eb2ff5",
   "metadata": {
    "execution": {
     "iopub.execute_input": "2022-05-24T10:13:45.855988Z",
     "iopub.status.busy": "2022-05-24T10:13:45.851092Z",
     "iopub.status.idle": "2022-05-24T10:13:45.883649Z",
     "shell.execute_reply": "2022-05-24T10:13:45.884562Z"
    },
    "papermill": {
     "duration": 0.093245,
     "end_time": "2022-05-24T10:13:45.884789",
     "exception": false,
     "start_time": "2022-05-24T10:13:45.791544",
     "status": "completed"
    },
    "tags": []
   },
   "outputs": [],
   "source": [
    "new_model = Model(layers[:-2])\n",
    "testing_plot = new_model(testing_data_x)"
   ]
  },
  {
   "cell_type": "code",
   "execution_count": 26,
   "id": "4c0a5485",
   "metadata": {
    "execution": {
     "iopub.execute_input": "2022-05-24T10:13:46.006697Z",
     "iopub.status.busy": "2022-05-24T10:13:46.005360Z",
     "iopub.status.idle": "2022-05-24T10:13:46.274157Z",
     "shell.execute_reply": "2022-05-24T10:13:46.274838Z"
    },
    "papermill": {
     "duration": 0.330327,
     "end_time": "2022-05-24T10:13:46.275033",
     "exception": false,
     "start_time": "2022-05-24T10:13:45.944706",
     "status": "completed"
    },
    "tags": []
   },
   "outputs": [
    {
     "data": {
      "text/plain": [
       "Text(0.5, 1.0, 'Outputs')"
      ]
     },
     "execution_count": 26,
     "metadata": {},
     "output_type": "execute_result"
    },
    {
     "data": {
      "image/png": "[encoded data removed]",
      "text/plain": [
       "<Figure size 576x504 with 1 Axes>"
      ]
     },
     "metadata": {
      "needs_background": "light"
     },
     "output_type": "display_data"
    }
   ],
   "source": [
    "# Plotting the scatter plot of points and color coding by class\n",
    "plt.figure(figsize=(8,7))\n",
    "plt.scatter(testing_plot[:,0], testing_plot[:,1], alpha = 0.1, c = y_test.ravel());\n",
    "plt.title('Outputs')"
   ]
  },
  {
   "cell_type": "markdown",
   "id": "a74fcf8f",
   "metadata": {
    "papermill": {
     "duration": 0.086367,
     "end_time": "2022-05-24T10:13:46.421248",
     "exception": false,
     "start_time": "2022-05-24T10:13:46.334881",
     "status": "completed"
    },
    "tags": []
   },
   "source": [
    "Probability contours"
   ]
  },
  {
   "cell_type": "code",
   "execution_count": 27,
   "id": "d0afc8e3",
   "metadata": {
    "execution": {
     "iopub.execute_input": "2022-05-24T10:13:46.541682Z",
     "iopub.status.busy": "2022-05-24T10:13:46.540895Z",
     "iopub.status.idle": "2022-05-24T10:13:46.557040Z",
     "shell.execute_reply": "2022-05-24T10:13:46.556378Z"
    },
    "papermill": {
     "duration": 0.07786,
     "end_time": "2022-05-24T10:13:46.557185",
     "exception": false,
     "start_time": "2022-05-24T10:13:46.479325",
     "status": "completed"
    },
    "tags": []
   },
   "outputs": [],
   "source": [
    "model_prob = Model(layers[-2:]) "
   ]
  },
  {
   "cell_type": "code",
   "execution_count": 28,
   "id": "9b96e238",
   "metadata": {
    "execution": {
     "iopub.execute_input": "2022-05-24T10:13:46.679217Z",
     "iopub.status.busy": "2022-05-24T10:13:46.678450Z",
     "iopub.status.idle": "2022-05-24T10:13:46.694352Z",
     "shell.execute_reply": "2022-05-24T10:13:46.694991Z"
    },
    "papermill": {
     "duration": 0.080049,
     "end_time": "2022-05-24T10:13:46.695172",
     "exception": false,
     "start_time": "2022-05-24T10:13:46.615123",
     "status": "completed"
    },
    "tags": []
   },
   "outputs": [],
   "source": [
    "#creating the x and y ranges according to the above generated plot.\n",
    "x_range = np.linspace(-4, 1, 100) \n",
    "y_range = np.linspace(-6, 6, 100) \n",
    "x_grid, y_grid = np.meshgrid(x_range, y_range) # x_grid and y_grig are of size 100 X 100\n",
    "\n",
    "# converting x_grid and y_grid to continuous arrays\n",
    "x_gridflat = np.ravel(x_grid)\n",
    "y_gridflat = np.ravel(y_grid)\n",
    "\n",
    "# The last layer of the current model takes two columns as input. Hence transpose of np.vstack() is required.\n",
    "X = np.vstack((x_gridflat, y_gridflat)).T\n",
    "\n",
    "prob_contour = model_prob(X).reshape(100,100) "
   ]
  },
  {
   "cell_type": "code",
   "execution_count": 29,
   "id": "da72499a",
   "metadata": {
    "execution": {
     "iopub.execute_input": "2022-05-24T10:13:46.817862Z",
     "iopub.status.busy": "2022-05-24T10:13:46.817069Z",
     "iopub.status.idle": "2022-05-24T10:13:47.138084Z",
     "shell.execute_reply": "2022-05-24T10:13:47.138678Z"
    },
    "papermill": {
     "duration": 0.385956,
     "end_time": "2022-05-24T10:13:47.138848",
     "exception": false,
     "start_time": "2022-05-24T10:13:46.752892",
     "status": "completed"
    },
    "tags": []
   },
   "outputs": [
    {
     "data": {
      "image/png": "[encoded data removed]",
      "text/plain": [
       "<Figure size 720x648 with 1 Axes>"
      ]
     },
     "metadata": {
      "needs_background": "light"
     },
     "output_type": "display_data"
    }
   ],
   "source": [
    "plt.figure(figsize=(10,9))\n",
    "plt.scatter(testing_plot[:,0], testing_plot[:,1], alpha = 0.1, c = y_test.ravel())\n",
    "contours = plt.contour(x_grid,y_grid,prob_contour)\n",
    "plt.title('Probability Contours')\n",
    "plt.clabel(contours, inline = True );"
   ]
  },
  {
   "cell_type": "code",
   "execution_count": null,
   "id": "e81b4ac7",
   "metadata": {
    "papermill": {
     "duration": 0.059741,
     "end_time": "2022-05-24T10:13:47.257884",
     "exception": false,
     "start_time": "2022-05-24T10:13:47.198143",
     "status": "completed"
    },
    "tags": []
   },
   "outputs": [],
   "source": []
  }
 ],
 "metadata": {
  "kernelspec": {
   "display_name": "Python 3",
   "language": "python",
   "name": "python3"
  },
  "language_info": {
   "codemirror_mode": {
    "name": "ipython",
    "version": 3
   },
   "file_extension": ".py",
   "mimetype": "text/x-python",
   "name": "python",
   "nbconvert_exporter": "python",
   "pygments_lexer": "ipython3",
   "version": "3.6.15"
  },
  "papermill": {
   "default_parameters": {},
   "duration": 156.590067,
   "end_time": "2022-05-24T10:13:47.738226",
   "environment_variables": {},
   "exception": null,
   "input_path": "2020-08-11-part2.ipynb",
   "output_path": "2020-08-11-part2.ipynb",
   "parameters": {},
   "start_time": "2022-05-24T10:11:11.148159",
   "version": "2.3.3"
  }
 },
 "nbformat": 4,
 "nbformat_minor": 5
}