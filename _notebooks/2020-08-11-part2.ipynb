{
 "cells": [
  {
   "cell_type": "markdown",
   "id": "98380cd3",
   "metadata": {
    "papermill": {
     "duration": 0.029817,
     "end_time": "2022-10-23T10:11:13.141888",
     "exception": false,
     "start_time": "2022-10-23T10:11:13.112071",
     "status": "completed"
    },
    "tags": []
   },
   "source": [
    "# Distinguish Your Own Digits (DYOD)"
   ]
  },
  {
   "cell_type": "markdown",
   "id": "ef31240d",
   "metadata": {
    "papermill": {
     "duration": 0.023668,
     "end_time": "2022-10-23T10:11:13.191190",
     "exception": false,
     "start_time": "2022-10-23T10:11:13.167522",
     "status": "completed"
    },
    "tags": []
   },
   "source": [
    "You are going to write a classifier that distinguishes between the number 3 and number 8."
   ]
  },
  {
   "cell_type": "code",
   "execution_count": 1,
   "id": "b15c8646",
   "metadata": {
    "execution": {
     "iopub.execute_input": "2022-10-23T10:11:13.249071Z",
     "iopub.status.busy": "2022-10-23T10:11:13.248459Z",
     "iopub.status.idle": "2022-10-23T10:11:13.259377Z",
     "shell.execute_reply": "2022-10-23T10:11:13.258873Z"
    },
    "papermill": {
     "duration": 0.044604,
     "end_time": "2022-10-23T10:11:13.259511",
     "exception": false,
     "start_time": "2022-10-23T10:11:13.214907",
     "status": "completed"
    },
    "tags": []
   },
   "outputs": [],
   "source": [
    "%load_ext autoreload\n",
    "%autoreload 2"
   ]
  },
  {
   "cell_type": "code",
   "execution_count": 2,
   "id": "22ef38dc",
   "metadata": {
    "execution": {
     "iopub.execute_input": "2022-10-23T10:11:13.311680Z",
     "iopub.status.busy": "2022-10-23T10:11:13.311063Z",
     "iopub.status.idle": "2022-10-23T10:11:13.855273Z",
     "shell.execute_reply": "2022-10-23T10:11:13.854699Z"
    },
    "papermill": {
     "duration": 0.571986,
     "end_time": "2022-10-23T10:11:13.855413",
     "exception": false,
     "start_time": "2022-10-23T10:11:13.283427",
     "status": "completed"
    },
    "tags": []
   },
   "outputs": [],
   "source": [
    "%matplotlib inline\n",
    "import numpy as np\n",
    "import matplotlib.pyplot as plt\n",
    "import pandas as pd"
   ]
  },
  {
   "cell_type": "markdown",
   "id": "ba036198",
   "metadata": {
    "papermill": {
     "duration": 0.025325,
     "end_time": "2022-10-23T10:11:13.906246",
     "exception": false,
     "start_time": "2022-10-23T10:11:13.880921",
     "status": "completed"
    },
    "tags": []
   },
   "source": [
    "From the command line run `pip install mnist`. This is a library that will help you bring down the mnist dataset. If you run this from a notebook, you need to put  `!pip install mnist` in a cell by itself."
   ]
  },
  {
   "cell_type": "code",
   "execution_count": 3,
   "id": "bb6ad8a1",
   "metadata": {
    "execution": {
     "iopub.execute_input": "2022-10-23T10:11:13.960193Z",
     "iopub.status.busy": "2022-10-23T10:11:13.959579Z",
     "iopub.status.idle": "2022-10-23T10:11:15.680853Z",
     "shell.execute_reply": "2022-10-23T10:11:15.679985Z"
    },
    "papermill": {
     "duration": 1.749061,
     "end_time": "2022-10-23T10:11:15.680987",
     "exception": false,
     "start_time": "2022-10-23T10:11:13.931926",
     "status": "completed"
    },
    "tags": []
   },
   "outputs": [
    {
     "name": "stdout",
     "output_type": "stream",
     "text": [
      "Collecting mnist\r\n"
     ]
    },
    {
     "name": "stdout",
     "output_type": "stream",
     "text": [
      "  Downloading mnist-0.2.2-py2.py3-none-any.whl (3.5 kB)\r\n",
      "Requirement already satisfied: numpy in /opt/hostedtoolcache/Python/3.6.15/x64/lib/python3.6/site-packages (from mnist) (1.19.5)\r\n"
     ]
    },
    {
     "name": "stdout",
     "output_type": "stream",
     "text": [
      "Installing collected packages: mnist\r\n"
     ]
    },
    {
     "name": "stdout",
     "output_type": "stream",
     "text": [
      "Successfully installed mnist-0.2.2\r\n"
     ]
    }
   ],
   "source": [
    "!pip install mnist"
   ]
  },
  {
   "cell_type": "markdown",
   "id": "69df9c9a",
   "metadata": {
    "papermill": {
     "duration": 0.025067,
     "end_time": "2022-10-23T10:11:15.731271",
     "exception": false,
     "start_time": "2022-10-23T10:11:15.706204",
     "status": "completed"
    },
    "tags": []
   },
   "source": [
    "## Preparing the Data"
   ]
  },
  {
   "cell_type": "code",
   "execution_count": 4,
   "id": "7f69d806",
   "metadata": {
    "execution": {
     "iopub.execute_input": "2022-10-23T10:11:15.792905Z",
     "iopub.status.busy": "2022-10-23T10:11:15.789575Z",
     "iopub.status.idle": "2022-10-23T10:11:15.803034Z",
     "shell.execute_reply": "2022-10-23T10:11:15.802537Z"
    },
    "papermill": {
     "duration": 0.046377,
     "end_time": "2022-10-23T10:11:15.803155",
     "exception": false,
     "start_time": "2022-10-23T10:11:15.756778",
     "status": "completed"
    },
    "tags": []
   },
   "outputs": [],
   "source": [
    "import mnist"
   ]
  },
  {
   "cell_type": "code",
   "execution_count": 5,
   "id": "a411e44f",
   "metadata": {
    "execution": {
     "iopub.execute_input": "2022-10-23T10:11:15.858714Z",
     "iopub.status.busy": "2022-10-23T10:11:15.856635Z",
     "iopub.status.idle": "2022-10-23T10:11:16.597487Z",
     "shell.execute_reply": "2022-10-23T10:11:16.596954Z"
    },
    "papermill": {
     "duration": 0.76934,
     "end_time": "2022-10-23T10:11:16.597609",
     "exception": false,
     "start_time": "2022-10-23T10:11:15.828269",
     "status": "completed"
    },
    "tags": []
   },
   "outputs": [],
   "source": [
    "train_images = mnist.train_images()\n",
    "train_labels = mnist.train_labels()"
   ]
  },
  {
   "cell_type": "code",
   "execution_count": 6,
   "id": "dceab3a5",
   "metadata": {
    "execution": {
     "iopub.execute_input": "2022-10-23T10:11:16.657149Z",
     "iopub.status.busy": "2022-10-23T10:11:16.655150Z",
     "iopub.status.idle": "2022-10-23T10:11:16.670546Z",
     "shell.execute_reply": "2022-10-23T10:11:16.669959Z"
    },
    "papermill": {
     "duration": 0.047842,
     "end_time": "2022-10-23T10:11:16.670664",
     "exception": false,
     "start_time": "2022-10-23T10:11:16.622822",
     "status": "completed"
    },
    "tags": []
   },
   "outputs": [
    {
     "data": {
      "text/plain": [
       "((60000, 28, 28), (60000,))"
      ]
     },
     "execution_count": 6,
     "metadata": {},
     "output_type": "execute_result"
    }
   ],
   "source": [
    "train_images.shape, train_labels.shape"
   ]
  },
  {
   "cell_type": "code",
   "execution_count": 7,
   "id": "f50dc2bb",
   "metadata": {
    "execution": {
     "iopub.execute_input": "2022-10-23T10:11:16.732692Z",
     "iopub.status.busy": "2022-10-23T10:11:16.724208Z",
     "iopub.status.idle": "2022-10-23T10:11:16.950805Z",
     "shell.execute_reply": "2022-10-23T10:11:16.950283Z"
    },
    "papermill": {
     "duration": 0.255245,
     "end_time": "2022-10-23T10:11:16.950933",
     "exception": false,
     "start_time": "2022-10-23T10:11:16.695688",
     "status": "completed"
    },
    "tags": []
   },
   "outputs": [],
   "source": [
    "test_images = mnist.test_images()\n",
    "test_labels = mnist.test_labels()"
   ]
  },
  {
   "cell_type": "code",
   "execution_count": 8,
   "id": "fc38cf1b",
   "metadata": {
    "execution": {
     "iopub.execute_input": "2022-10-23T10:11:17.005634Z",
     "iopub.status.busy": "2022-10-23T10:11:17.005040Z",
     "iopub.status.idle": "2022-10-23T10:11:17.019282Z",
     "shell.execute_reply": "2022-10-23T10:11:17.018801Z"
    },
    "papermill": {
     "duration": 0.042846,
     "end_time": "2022-10-23T10:11:17.019396",
     "exception": false,
     "start_time": "2022-10-23T10:11:16.976550",
     "status": "completed"
    },
    "tags": []
   },
   "outputs": [
    {
     "data": {
      "text/plain": [
       "((10000, 28, 28), (10000,))"
      ]
     },
     "execution_count": 8,
     "metadata": {},
     "output_type": "execute_result"
    }
   ],
   "source": [
    "test_images.shape, test_labels.shape"
   ]
  },
  {
   "cell_type": "code",
   "execution_count": 9,
   "id": "f9ed8fe0",
   "metadata": {
    "execution": {
     "iopub.execute_input": "2022-10-23T10:11:17.074503Z",
     "iopub.status.busy": "2022-10-23T10:11:17.073828Z",
     "iopub.status.idle": "2022-10-23T10:11:17.212194Z",
     "shell.execute_reply": "2022-10-23T10:11:17.212716Z"
    },
    "papermill": {
     "duration": 0.167949,
     "end_time": "2022-10-23T10:11:17.212878",
     "exception": false,
     "start_time": "2022-10-23T10:11:17.044929",
     "status": "completed"
    },
    "tags": []
   },
   "outputs": [
    {
     "name": "stdout",
     "output_type": "stream",
     "text": [
      "2\n"
     ]
    },
    {
     "data": {
      "text/plain": [
       "<matplotlib.image.AxesImage at 0x7ff64b3d3cc0>"
      ]
     },
     "execution_count": 9,
     "metadata": {},
     "output_type": "execute_result"
    },
    {
     "data": {
      "image/png": "[encoded data removed]",
      "text/plain": [
       "<Figure size 432x288 with 1 Axes>"
      ]
     },
     "metadata": {
      "needs_background": "light"
     },
     "output_type": "display_data"
    }
   ],
   "source": [
    "image_index = 7776 # You may select anything up to 60,000\n",
    "print(train_labels[image_index]) \n",
    "plt.imshow(train_images[image_index], cmap='Greys')"
   ]
  },
  {
   "cell_type": "markdown",
   "id": "a8d2388d",
   "metadata": {
    "papermill": {
     "duration": 0.026841,
     "end_time": "2022-10-23T10:11:17.266461",
     "exception": false,
     "start_time": "2022-10-23T10:11:17.239620",
     "status": "completed"
    },
    "tags": []
   },
   "source": [
    "## Filter data to get 3 and 8 out"
   ]
  },
  {
   "cell_type": "code",
   "execution_count": 10,
   "id": "776f7fc7",
   "metadata": {
    "execution": {
     "iopub.execute_input": "2022-10-23T10:11:17.324348Z",
     "iopub.status.busy": "2022-10-23T10:11:17.323750Z",
     "iopub.status.idle": "2022-10-23T10:11:17.341463Z",
     "shell.execute_reply": "2022-10-23T10:11:17.341968Z"
    },
    "papermill": {
     "duration": 0.049013,
     "end_time": "2022-10-23T10:11:17.342106",
     "exception": false,
     "start_time": "2022-10-23T10:11:17.293093",
     "status": "completed"
    },
    "tags": []
   },
   "outputs": [],
   "source": [
    "train_filter = np.where((train_labels == 3 ) | (train_labels == 8))\n",
    "test_filter = np.where((test_labels == 3) | (test_labels == 8))\n",
    "X_train, y_train = train_images[train_filter], train_labels[train_filter]\n",
    "X_test, y_test = test_images[test_filter], test_labels[test_filter]"
   ]
  },
  {
   "cell_type": "markdown",
   "id": "948f0b7e",
   "metadata": {
    "papermill": {
     "duration": 0.026636,
     "end_time": "2022-10-23T10:11:17.395360",
     "exception": false,
     "start_time": "2022-10-23T10:11:17.368724",
     "status": "completed"
    },
    "tags": []
   },
   "source": [
    "We normalize the pizel values in the 0 to 1 range"
   ]
  },
  {
   "cell_type": "code",
   "execution_count": 11,
   "id": "ee4c2166",
   "metadata": {
    "execution": {
     "iopub.execute_input": "2022-10-23T10:11:17.454504Z",
     "iopub.status.busy": "2022-10-23T10:11:17.453864Z",
     "iopub.status.idle": "2022-10-23T10:11:17.501243Z",
     "shell.execute_reply": "2022-10-23T10:11:17.500696Z"
    },
    "papermill": {
     "duration": 0.079648,
     "end_time": "2022-10-23T10:11:17.501377",
     "exception": false,
     "start_time": "2022-10-23T10:11:17.421729",
     "status": "completed"
    },
    "tags": []
   },
   "outputs": [],
   "source": [
    "X_train = X_train/255.\n",
    "X_test = X_test/255."
   ]
  },
  {
   "cell_type": "markdown",
   "id": "ddcf4fab",
   "metadata": {
    "papermill": {
     "duration": 0.026541,
     "end_time": "2022-10-23T10:11:17.555491",
     "exception": false,
     "start_time": "2022-10-23T10:11:17.528950",
     "status": "completed"
    },
    "tags": []
   },
   "source": [
    "And setup the labels as 1 (when the digit is 3) and 0 (when the digit is 8)"
   ]
  },
  {
   "cell_type": "code",
   "execution_count": 12,
   "id": "7dc908f2",
   "metadata": {
    "execution": {
     "iopub.execute_input": "2022-10-23T10:11:17.620171Z",
     "iopub.status.busy": "2022-10-23T10:11:17.619540Z",
     "iopub.status.idle": "2022-10-23T10:11:17.628891Z",
     "shell.execute_reply": "2022-10-23T10:11:17.629342Z"
    },
    "papermill": {
     "duration": 0.047513,
     "end_time": "2022-10-23T10:11:17.629478",
     "exception": false,
     "start_time": "2022-10-23T10:11:17.581965",
     "status": "completed"
    },
    "tags": []
   },
   "outputs": [],
   "source": [
    "y_train = 1*(y_train==3)\n",
    "y_test = 1*(y_test==3)"
   ]
  },
  {
   "cell_type": "code",
   "execution_count": 13,
   "id": "01e4e969",
   "metadata": {
    "execution": {
     "iopub.execute_input": "2022-10-23T10:11:17.690722Z",
     "iopub.status.busy": "2022-10-23T10:11:17.687521Z",
     "iopub.status.idle": "2022-10-23T10:11:17.702533Z",
     "shell.execute_reply": "2022-10-23T10:11:17.702040Z"
    },
    "papermill": {
     "duration": 0.045089,
     "end_time": "2022-10-23T10:11:17.702648",
     "exception": false,
     "start_time": "2022-10-23T10:11:17.657559",
     "status": "completed"
    },
    "tags": []
   },
   "outputs": [
    {
     "data": {
      "text/plain": [
       "((11982, 28, 28), (1984, 28, 28))"
      ]
     },
     "execution_count": 13,
     "metadata": {},
     "output_type": "execute_result"
    }
   ],
   "source": [
    "X_train.shape, X_test.shape"
   ]
  },
  {
   "cell_type": "markdown",
   "id": "5ccf3f85",
   "metadata": {
    "papermill": {
     "duration": 0.026833,
     "end_time": "2022-10-23T10:11:17.756402",
     "exception": false,
     "start_time": "2022-10-23T10:11:17.729569",
     "status": "completed"
    },
    "tags": []
   },
   "source": [
    "We reshape the data to flatten the image pixels into a set of features or co-variates:"
   ]
  },
  {
   "cell_type": "code",
   "execution_count": 14,
   "id": "5286a4a3",
   "metadata": {
    "execution": {
     "iopub.execute_input": "2022-10-23T10:11:17.815293Z",
     "iopub.status.busy": "2022-10-23T10:11:17.814674Z",
     "iopub.status.idle": "2022-10-23T10:11:17.828894Z",
     "shell.execute_reply": "2022-10-23T10:11:17.828414Z"
    },
    "papermill": {
     "duration": 0.045293,
     "end_time": "2022-10-23T10:11:17.829011",
     "exception": false,
     "start_time": "2022-10-23T10:11:17.783718",
     "status": "completed"
    },
    "tags": []
   },
   "outputs": [
    {
     "data": {
      "text/plain": [
       "((11982, 784), (1984, 784))"
      ]
     },
     "execution_count": 14,
     "metadata": {},
     "output_type": "execute_result"
    }
   ],
   "source": [
    "X_train = X_train.reshape(X_train.shape[0], -1)\n",
    "X_test = X_test.reshape(X_test.shape[0], -1)\n",
    "X_train.shape, X_test.shape"
   ]
  },
  {
   "cell_type": "code",
   "execution_count": 15,
   "id": "73c5f88a",
   "metadata": {
    "execution": {
     "iopub.execute_input": "2022-10-23T10:11:17.891712Z",
     "iopub.status.busy": "2022-10-23T10:11:17.891107Z",
     "iopub.status.idle": "2022-10-23T10:11:17.907764Z",
     "shell.execute_reply": "2022-10-23T10:11:17.907281Z"
    },
    "papermill": {
     "duration": 0.051753,
     "end_time": "2022-10-23T10:11:17.907879",
     "exception": false,
     "start_time": "2022-10-23T10:11:17.856126",
     "status": "completed"
    },
    "tags": []
   },
   "outputs": [],
   "source": [
    "#Impoting functions from 'Kudzu'\n",
    "from kudzu.model import Model\n",
    "from kudzu.train import Learner\n",
    "from kudzu.optim import GD\n",
    "from kudzu.data import Data, Sampler,Dataloader\n",
    "\n",
    "from kudzu.callbacks import AccCallback\n",
    "from kudzu.callbacks import ClfCallback\n",
    "\n",
    "from kudzu.loss import MSE\n",
    "\n",
    "from kudzu.layer import Sigmoid,Relu\n",
    "from kudzu.layer import Affine"
   ]
  },
  {
   "cell_type": "markdown",
   "id": "bc01172a",
   "metadata": {
    "papermill": {
     "duration": 0.026947,
     "end_time": "2022-10-23T10:11:17.961893",
     "exception": false,
     "start_time": "2022-10-23T10:11:17.934946",
     "status": "completed"
    },
    "tags": []
   },
   "source": [
    "### Let us create a `Config` class, to store important parameters. \n",
    "This class essentially plays the role of a dictionary."
   ]
  },
  {
   "cell_type": "code",
   "execution_count": 16,
   "id": "978281aa",
   "metadata": {
    "execution": {
     "iopub.execute_input": "2022-10-23T10:11:18.020302Z",
     "iopub.status.busy": "2022-10-23T10:11:18.019700Z",
     "iopub.status.idle": "2022-10-23T10:11:18.033345Z",
     "shell.execute_reply": "2022-10-23T10:11:18.032882Z"
    },
    "papermill": {
     "duration": 0.044713,
     "end_time": "2022-10-23T10:11:18.033466",
     "exception": false,
     "start_time": "2022-10-23T10:11:17.988753",
     "status": "completed"
    },
    "tags": []
   },
   "outputs": [],
   "source": [
    "class Config:\n",
    "    pass\n",
    "config = Config()\n",
    "config.lr = 0.001\n",
    "config.num_epochs = 250\n",
    "config.bs = 50"
   ]
  },
  {
   "cell_type": "markdown",
   "id": "1385fa59",
   "metadata": {
    "papermill": {
     "duration": 0.027163,
     "end_time": "2022-10-23T10:11:18.087790",
     "exception": false,
     "start_time": "2022-10-23T10:11:18.060627",
     "status": "completed"
    },
    "tags": []
   },
   "source": [
    "### Running Models with the Training data\n",
    "Details about the network layers:\n",
    "- A first affine layer has 784 inputs and does 100 affine transforms. These are followed by a Relu\n",
    "- A second affine layer has 100 inputs from the 100 activations of the past layer, and does 100 affine transforms. These are followed by a Relu\n",
    "- A third affine layer has 100 activations and does 2 affine transformations to create an embedding for visualization. There is no non-linearity here.\n",
    "- A final \"logistic regression\" which has an affine transform from 2 inputs to 1 output, which is squeezed through a sigmoid.\n"
   ]
  },
  {
   "cell_type": "code",
   "execution_count": 17,
   "id": "2b9c66db",
   "metadata": {
    "execution": {
     "iopub.execute_input": "2022-10-23T10:11:18.146663Z",
     "iopub.status.busy": "2022-10-23T10:11:18.146022Z",
     "iopub.status.idle": "2022-10-23T10:11:18.159397Z",
     "shell.execute_reply": "2022-10-23T10:11:18.158798Z"
    },
    "papermill": {
     "duration": 0.044632,
     "end_time": "2022-10-23T10:11:18.159517",
     "exception": false,
     "start_time": "2022-10-23T10:11:18.114885",
     "status": "completed"
    },
    "tags": []
   },
   "outputs": [],
   "source": [
    "data = Data(X_train, y_train.reshape(-1,1))\n",
    "sampler = Sampler(data, config.bs, shuffle=True)\n",
    "\n",
    "dl = Dataloader(data, sampler)\n",
    "\n",
    "opt = GD(config.lr)\n",
    "loss = MSE()"
   ]
  },
  {
   "cell_type": "code",
   "execution_count": 18,
   "id": "b275e4c2",
   "metadata": {
    "execution": {
     "iopub.execute_input": "2022-10-23T10:11:18.227752Z",
     "iopub.status.busy": "2022-10-23T10:11:18.227127Z",
     "iopub.status.idle": "2022-10-23T10:11:18.235096Z",
     "shell.execute_reply": "2022-10-23T10:11:18.235546Z"
    },
    "papermill": {
     "duration": 0.048974,
     "end_time": "2022-10-23T10:11:18.235678",
     "exception": false,
     "start_time": "2022-10-23T10:11:18.186704",
     "status": "completed"
    },
    "tags": []
   },
   "outputs": [],
   "source": [
    "training_data_x = X_train\n",
    "testing_data_x = X_test\n",
    "training_data_y = y_train.reshape(-1,1)\n",
    "testing_data_y = y_test.reshape(-1,1)"
   ]
  },
  {
   "cell_type": "code",
   "execution_count": 19,
   "id": "76951160",
   "metadata": {
    "execution": {
     "iopub.execute_input": "2022-10-23T10:11:18.302994Z",
     "iopub.status.busy": "2022-10-23T10:11:18.293917Z",
     "iopub.status.idle": "2022-10-23T10:11:18.312657Z",
     "shell.execute_reply": "2022-10-23T10:11:18.313111Z"
    },
    "papermill": {
     "duration": 0.050608,
     "end_time": "2022-10-23T10:11:18.313245",
     "exception": false,
     "start_time": "2022-10-23T10:11:18.262637",
     "status": "completed"
    },
    "tags": []
   },
   "outputs": [
    {
     "name": "stdout",
     "output_type": "stream",
     "text": [
      "xavier\n",
      "xavier\n",
      "xavier\n",
      "xavier\n",
      "xavier\n"
     ]
    }
   ],
   "source": [
    "layers = [Affine(\"first\", 784, 100), Relu(\"first\"), Affine(\"second\", 100, 100), Relu(\"second\"), Affine(\"third\", 100, 2), Affine(\"last\", 2, 1), Sigmoid(\"last\")]\n",
    "model_nn = Model(layers)\n",
    "model_lr = Model([Affine(\"logits\", 784, 1), Sigmoid(\"sigmoid\")])"
   ]
  },
  {
   "cell_type": "code",
   "execution_count": 20,
   "id": "6eede77a",
   "metadata": {
    "execution": {
     "iopub.execute_input": "2022-10-23T10:11:18.383459Z",
     "iopub.status.busy": "2022-10-23T10:11:18.371618Z",
     "iopub.status.idle": "2022-10-23T10:11:18.388699Z",
     "shell.execute_reply": "2022-10-23T10:11:18.389155Z"
    },
    "papermill": {
     "duration": 0.048707,
     "end_time": "2022-10-23T10:11:18.389293",
     "exception": false,
     "start_time": "2022-10-23T10:11:18.340586",
     "status": "completed"
    },
    "tags": []
   },
   "outputs": [],
   "source": [
    "nn_learner = Learner(loss, model_nn, opt, config.num_epochs)\n",
    "acc_nn = ClfCallback(nn_learner, config.bs, training_data_x , testing_data_x, training_data_y, testing_data_y)\n",
    "nn_learner.set_callbacks([acc_nn])"
   ]
  },
  {
   "cell_type": "code",
   "execution_count": 21,
   "id": "877b6cc7",
   "metadata": {
    "execution": {
     "iopub.execute_input": "2022-10-23T10:11:18.450148Z",
     "iopub.status.busy": "2022-10-23T10:11:18.449532Z",
     "iopub.status.idle": "2022-10-23T10:11:18.460626Z",
     "shell.execute_reply": "2022-10-23T10:11:18.461114Z"
    },
    "papermill": {
     "duration": 0.044553,
     "end_time": "2022-10-23T10:11:18.461250",
     "exception": false,
     "start_time": "2022-10-23T10:11:18.416697",
     "status": "completed"
    },
    "tags": []
   },
   "outputs": [],
   "source": [
    "lr_learner = Learner(loss, model_lr, opt, config.num_epochs)\n",
    "acc_lr = ClfCallback(lr_learner, config.bs, training_data_x , testing_data_x, training_data_y, testing_data_y)\n",
    "lr_learner.set_callbacks([acc_lr])"
   ]
  },
  {
   "cell_type": "code",
   "execution_count": 22,
   "id": "d9b133c3",
   "metadata": {
    "execution": {
     "iopub.execute_input": "2022-10-23T10:11:18.519388Z",
     "iopub.status.busy": "2022-10-23T10:11:18.518809Z",
     "iopub.status.idle": "2022-10-23T10:12:36.978203Z",
     "shell.execute_reply": "2022-10-23T10:12:36.979088Z"
    },
    "papermill": {
     "duration": 78.490703,
     "end_time": "2022-10-23T10:12:36.979237",
     "exception": false,
     "start_time": "2022-10-23T10:11:18.488534",
     "status": "completed"
    },
    "tags": []
   },
   "outputs": [
    {
     "name": "stdout",
     "output_type": "stream",
     "text": [
      "Epoch 0, Loss 0.2388\n",
      "Training Accuracy: 0.7287, Testing Accuracy: 0.7450\n",
      "\n"
     ]
    },
    {
     "name": "stdout",
     "output_type": "stream",
     "text": [
      "Epoch 10, Loss 0.0697\n",
      "Training Accuracy: 0.9335, Testing Accuracy: 0.9375\n",
      "\n"
     ]
    },
    {
     "name": "stdout",
     "output_type": "stream",
     "text": [
      "Epoch 20, Loss 0.048\n",
      "Training Accuracy: 0.9478, Testing Accuracy: 0.9541\n",
      "\n"
     ]
    },
    {
     "name": "stdout",
     "output_type": "stream",
     "text": [
      "Epoch 30, Loss 0.0398\n",
      "Training Accuracy: 0.9553, Testing Accuracy: 0.9627\n",
      "\n"
     ]
    },
    {
     "name": "stdout",
     "output_type": "stream",
     "text": [
      "Epoch 40, Loss 0.0353\n",
      "Training Accuracy: 0.9607, Testing Accuracy: 0.9642\n",
      "\n"
     ]
    },
    {
     "name": "stdout",
     "output_type": "stream",
     "text": [
      "Epoch 50, Loss 0.0324\n",
      "Training Accuracy: 0.9634, Testing Accuracy: 0.9672\n",
      "\n"
     ]
    },
    {
     "name": "stdout",
     "output_type": "stream",
     "text": [
      "Epoch 60, Loss 0.0302\n",
      "Training Accuracy: 0.9654, Testing Accuracy: 0.9703\n",
      "\n"
     ]
    },
    {
     "name": "stdout",
     "output_type": "stream",
     "text": [
      "Epoch 70, Loss 0.0286\n",
      "Training Accuracy: 0.9671, Testing Accuracy: 0.9708\n",
      "\n"
     ]
    },
    {
     "name": "stdout",
     "output_type": "stream",
     "text": [
      "Epoch 80, Loss 0.0272\n",
      "Training Accuracy: 0.9683, Testing Accuracy: 0.9713\n",
      "\n"
     ]
    },
    {
     "name": "stdout",
     "output_type": "stream",
     "text": [
      "Epoch 90, Loss 0.0261\n",
      "Training Accuracy: 0.9698, Testing Accuracy: 0.9718\n",
      "\n"
     ]
    },
    {
     "name": "stdout",
     "output_type": "stream",
     "text": [
      "Epoch 100, Loss 0.0252\n",
      "Training Accuracy: 0.9711, Testing Accuracy: 0.9713\n",
      "\n"
     ]
    },
    {
     "name": "stdout",
     "output_type": "stream",
     "text": [
      "Epoch 110, Loss 0.0243\n",
      "Training Accuracy: 0.9717, Testing Accuracy: 0.9723\n",
      "\n"
     ]
    },
    {
     "name": "stdout",
     "output_type": "stream",
     "text": [
      "Epoch 120, Loss 0.0236\n",
      "Training Accuracy: 0.9727, Testing Accuracy: 0.9713\n",
      "\n"
     ]
    },
    {
     "name": "stdout",
     "output_type": "stream",
     "text": [
      "Epoch 130, Loss 0.0229\n",
      "Training Accuracy: 0.9735, Testing Accuracy: 0.9713\n",
      "\n"
     ]
    },
    {
     "name": "stdout",
     "output_type": "stream",
     "text": [
      "Epoch 140, Loss 0.0222\n",
      "Training Accuracy: 0.9750, Testing Accuracy: 0.9713\n",
      "\n"
     ]
    },
    {
     "name": "stdout",
     "output_type": "stream",
     "text": [
      "Epoch 150, Loss 0.0216\n",
      "Training Accuracy: 0.9757, Testing Accuracy: 0.9713\n",
      "\n"
     ]
    },
    {
     "name": "stdout",
     "output_type": "stream",
     "text": [
      "Epoch 160, Loss 0.0211\n",
      "Training Accuracy: 0.9762, Testing Accuracy: 0.9728\n",
      "\n"
     ]
    },
    {
     "name": "stdout",
     "output_type": "stream",
     "text": [
      "Epoch 170, Loss 0.0206\n",
      "Training Accuracy: 0.9769, Testing Accuracy: 0.9728\n",
      "\n"
     ]
    },
    {
     "name": "stdout",
     "output_type": "stream",
     "text": [
      "Epoch 180, Loss 0.0201\n",
      "Training Accuracy: 0.9772, Testing Accuracy: 0.9728\n",
      "\n"
     ]
    },
    {
     "name": "stdout",
     "output_type": "stream",
     "text": [
      "Epoch 190, Loss 0.0196\n",
      "Training Accuracy: 0.9777, Testing Accuracy: 0.9723\n",
      "\n"
     ]
    },
    {
     "name": "stdout",
     "output_type": "stream",
     "text": [
      "Epoch 200, Loss 0.0192\n",
      "Training Accuracy: 0.9781, Testing Accuracy: 0.9733\n",
      "\n"
     ]
    },
    {
     "name": "stdout",
     "output_type": "stream",
     "text": [
      "Epoch 210, Loss 0.0188\n",
      "Training Accuracy: 0.9788, Testing Accuracy: 0.9733\n",
      "\n"
     ]
    },
    {
     "name": "stdout",
     "output_type": "stream",
     "text": [
      "Epoch 220, Loss 0.0184\n",
      "Training Accuracy: 0.9793, Testing Accuracy: 0.9733\n",
      "\n"
     ]
    },
    {
     "name": "stdout",
     "output_type": "stream",
     "text": [
      "Epoch 230, Loss 0.018\n",
      "Training Accuracy: 0.9799, Testing Accuracy: 0.9733\n",
      "\n"
     ]
    },
    {
     "name": "stdout",
     "output_type": "stream",
     "text": [
      "Epoch 240, Loss 0.0176\n",
      "Training Accuracy: 0.9801, Testing Accuracy: 0.9733\n",
      "\n"
     ]
    },
    {
     "data": {
      "text/plain": [
       "0.007620611930263952"
      ]
     },
     "execution_count": 22,
     "metadata": {},
     "output_type": "execute_result"
    }
   ],
   "source": [
    "nn_learner.train_loop(dl)"
   ]
  },
  {
   "cell_type": "code",
   "execution_count": 23,
   "id": "e0163366",
   "metadata": {
    "execution": {
     "iopub.execute_input": "2022-10-23T10:12:37.062036Z",
     "iopub.status.busy": "2022-10-23T10:12:37.061383Z",
     "iopub.status.idle": "2022-10-23T10:12:50.882252Z",
     "shell.execute_reply": "2022-10-23T10:12:50.883088Z"
    },
    "papermill": {
     "duration": 13.868898,
     "end_time": "2022-10-23T10:12:50.883237",
     "exception": false,
     "start_time": "2022-10-23T10:12:37.014339",
     "status": "completed"
    },
    "tags": []
   },
   "outputs": [
    {
     "name": "stdout",
     "output_type": "stream",
     "text": [
      "Epoch 0, Loss 0.2484\n",
      "Training Accuracy: 0.6792, Testing Accuracy: 0.6991\n",
      "\n"
     ]
    },
    {
     "name": "stdout",
     "output_type": "stream",
     "text": [
      "Epoch 10, Loss 0.102\n",
      "Training Accuracy: 0.9125, Testing Accuracy: 0.9299\n",
      "\n"
     ]
    },
    {
     "name": "stdout",
     "output_type": "stream",
     "text": [
      "Epoch 20, Loss 0.0786\n",
      "Training Accuracy: 0.9292, Testing Accuracy: 0.9420\n",
      "\n"
     ]
    },
    {
     "name": "stdout",
     "output_type": "stream",
     "text": [
      "Epoch 30, Loss 0.0679\n",
      "Training Accuracy: 0.9371, Testing Accuracy: 0.9466\n",
      "\n"
     ]
    },
    {
     "name": "stdout",
     "output_type": "stream",
     "text": [
      "Epoch 40, Loss 0.0615\n",
      "Training Accuracy: 0.9430, Testing Accuracy: 0.9501\n",
      "\n"
     ]
    },
    {
     "name": "stdout",
     "output_type": "stream",
     "text": [
      "Epoch 50, Loss 0.0571\n",
      "Training Accuracy: 0.9464, Testing Accuracy: 0.9536\n",
      "\n"
     ]
    },
    {
     "name": "stdout",
     "output_type": "stream",
     "text": [
      "Epoch 60, Loss 0.0538\n",
      "Training Accuracy: 0.9488, Testing Accuracy: 0.9561\n",
      "\n"
     ]
    },
    {
     "name": "stdout",
     "output_type": "stream",
     "text": [
      "Epoch 70, Loss 0.0513\n",
      "Training Accuracy: 0.9505, Testing Accuracy: 0.9597\n",
      "\n"
     ]
    },
    {
     "name": "stdout",
     "output_type": "stream",
     "text": [
      "Epoch 80, Loss 0.0493\n",
      "Training Accuracy: 0.9516, Testing Accuracy: 0.9597\n",
      "\n"
     ]
    },
    {
     "name": "stdout",
     "output_type": "stream",
     "text": [
      "Epoch 90, Loss 0.0476\n",
      "Training Accuracy: 0.9530, Testing Accuracy: 0.9607\n",
      "\n"
     ]
    },
    {
     "name": "stdout",
     "output_type": "stream",
     "text": [
      "Epoch 100, Loss 0.0462\n",
      "Training Accuracy: 0.9539, Testing Accuracy: 0.9617\n",
      "\n"
     ]
    },
    {
     "name": "stdout",
     "output_type": "stream",
     "text": [
      "Epoch 110, Loss 0.045\n",
      "Training Accuracy: 0.9552, Testing Accuracy: 0.9627\n",
      "\n"
     ]
    },
    {
     "name": "stdout",
     "output_type": "stream",
     "text": [
      "Epoch 120, Loss 0.044\n",
      "Training Accuracy: 0.9553, Testing Accuracy: 0.9647\n",
      "\n"
     ]
    },
    {
     "name": "stdout",
     "output_type": "stream",
     "text": [
      "Epoch 130, Loss 0.043\n",
      "Training Accuracy: 0.9559, Testing Accuracy: 0.9657\n",
      "\n"
     ]
    },
    {
     "name": "stdout",
     "output_type": "stream",
     "text": [
      "Epoch 140, Loss 0.0422\n",
      "Training Accuracy: 0.9566, Testing Accuracy: 0.9657\n",
      "\n"
     ]
    },
    {
     "name": "stdout",
     "output_type": "stream",
     "text": [
      "Epoch 150, Loss 0.0415\n",
      "Training Accuracy: 0.9571, Testing Accuracy: 0.9662\n",
      "\n"
     ]
    },
    {
     "name": "stdout",
     "output_type": "stream",
     "text": [
      "Epoch 160, Loss 0.0408\n",
      "Training Accuracy: 0.9577, Testing Accuracy: 0.9672\n",
      "\n"
     ]
    },
    {
     "name": "stdout",
     "output_type": "stream",
     "text": [
      "Epoch 170, Loss 0.0402\n",
      "Training Accuracy: 0.9581, Testing Accuracy: 0.9677\n",
      "\n"
     ]
    },
    {
     "name": "stdout",
     "output_type": "stream",
     "text": [
      "Epoch 180, Loss 0.0396\n",
      "Training Accuracy: 0.9586, Testing Accuracy: 0.9693\n",
      "\n"
     ]
    },
    {
     "name": "stdout",
     "output_type": "stream",
     "text": [
      "Epoch 190, Loss 0.0391\n",
      "Training Accuracy: 0.9586, Testing Accuracy: 0.9693\n",
      "\n"
     ]
    },
    {
     "name": "stdout",
     "output_type": "stream",
     "text": [
      "Epoch 200, Loss 0.0386\n",
      "Training Accuracy: 0.9594, Testing Accuracy: 0.9693\n",
      "\n"
     ]
    },
    {
     "name": "stdout",
     "output_type": "stream",
     "text": [
      "Epoch 210, Loss 0.0382\n",
      "Training Accuracy: 0.9596, Testing Accuracy: 0.9693\n",
      "\n"
     ]
    },
    {
     "name": "stdout",
     "output_type": "stream",
     "text": [
      "Epoch 220, Loss 0.0378\n",
      "Training Accuracy: 0.9599, Testing Accuracy: 0.9693\n",
      "\n"
     ]
    },
    {
     "name": "stdout",
     "output_type": "stream",
     "text": [
      "Epoch 230, Loss 0.0374\n",
      "Training Accuracy: 0.9599, Testing Accuracy: 0.9693\n",
      "\n"
     ]
    },
    {
     "name": "stdout",
     "output_type": "stream",
     "text": [
      "Epoch 240, Loss 0.037\n",
      "Training Accuracy: 0.9600, Testing Accuracy: 0.9693\n",
      "\n"
     ]
    },
    {
     "data": {
      "text/plain": [
       "0.03969839757185302"
      ]
     },
     "execution_count": 23,
     "metadata": {},
     "output_type": "execute_result"
    }
   ],
   "source": [
    "lr_learner.train_loop(dl)"
   ]
  },
  {
   "cell_type": "code",
   "execution_count": 24,
   "id": "ca410940",
   "metadata": {
    "execution": {
     "iopub.execute_input": "2022-10-23T10:12:50.979536Z",
     "iopub.status.busy": "2022-10-23T10:12:50.978921Z",
     "iopub.status.idle": "2022-10-23T10:12:51.197770Z",
     "shell.execute_reply": "2022-10-23T10:12:51.198259Z"
    },
    "papermill": {
     "duration": 0.273736,
     "end_time": "2022-10-23T10:12:51.198404",
     "exception": false,
     "start_time": "2022-10-23T10:12:50.924668",
     "status": "completed"
    },
    "tags": []
   },
   "outputs": [
    {
     "data": {
      "text/plain": [
       "<matplotlib.legend.Legend at 0x7ff64af40358>"
      ]
     },
     "execution_count": 24,
     "metadata": {},
     "output_type": "execute_result"
    },
    {
     "data": {
      "image/png": "[encoded data removed]",
      "text/plain": [
       "<Figure size 1080x720 with 1 Axes>"
      ]
     },
     "metadata": {
      "needs_background": "light"
     },
     "output_type": "display_data"
    }
   ],
   "source": [
    "#comparing the results of NN and LR\n",
    "plt.figure(figsize=(15,10))\n",
    "\n",
    "# Neural Network plots\n",
    "plt.plot(acc_nn.accuracies, 'r-', label = \"Training Accuracies - NN\")\n",
    "plt.plot(acc_nn.test_accuracies, 'g-', label = \"Testing Accuracies - NN\")\n",
    "\n",
    "# Logistic Regression plots\n",
    "plt.plot(acc_lr.accuracies, 'k-', label = \"Training Accuracies - LR\")\n",
    "plt.plot(acc_lr.test_accuracies, 'b-', label = \"Testing Accuracies - LR\")\n",
    "plt.legend()"
   ]
  },
  {
   "cell_type": "markdown",
   "id": "80dfb35c",
   "metadata": {
    "papermill": {
     "duration": 0.042324,
     "end_time": "2022-10-23T10:12:51.282768",
     "exception": false,
     "start_time": "2022-10-23T10:12:51.240444",
     "status": "completed"
    },
    "tags": []
   },
   "source": [
    "#### Plotting the outputs of this layer of the NN.\n"
   ]
  },
  {
   "cell_type": "code",
   "execution_count": 25,
   "id": "45eb2ff5",
   "metadata": {
    "execution": {
     "iopub.execute_input": "2022-10-23T10:12:51.370601Z",
     "iopub.status.busy": "2022-10-23T10:12:51.369989Z",
     "iopub.status.idle": "2022-10-23T10:12:51.390061Z",
     "shell.execute_reply": "2022-10-23T10:12:51.389516Z"
    },
    "papermill": {
     "duration": 0.0657,
     "end_time": "2022-10-23T10:12:51.390184",
     "exception": false,
     "start_time": "2022-10-23T10:12:51.324484",
     "status": "completed"
    },
    "tags": []
   },
   "outputs": [],
   "source": [
    "new_model = Model(layers[:-2])\n",
    "testing_plot = new_model(testing_data_x)"
   ]
  },
  {
   "cell_type": "code",
   "execution_count": 26,
   "id": "4c0a5485",
   "metadata": {
    "execution": {
     "iopub.execute_input": "2022-10-23T10:12:51.483677Z",
     "iopub.status.busy": "2022-10-23T10:12:51.483048Z",
     "iopub.status.idle": "2022-10-23T10:12:51.676566Z",
     "shell.execute_reply": "2022-10-23T10:12:51.677040Z"
    },
    "papermill": {
     "duration": 0.244228,
     "end_time": "2022-10-23T10:12:51.677183",
     "exception": false,
     "start_time": "2022-10-23T10:12:51.432955",
     "status": "completed"
    },
    "tags": []
   },
   "outputs": [
    {
     "data": {
      "text/plain": [
       "Text(0.5, 1.0, 'Outputs')"
      ]
     },
     "execution_count": 26,
     "metadata": {},
     "output_type": "execute_result"
    },
    {
     "data": {
      "image/png": "[encoded data removed]",
      "text/plain": [
       "<Figure size 576x504 with 1 Axes>"
      ]
     },
     "metadata": {
      "needs_background": "light"
     },
     "output_type": "display_data"
    }
   ],
   "source": [
    "# Plotting the scatter plot of points and color coding by class\n",
    "plt.figure(figsize=(8,7))\n",
    "plt.scatter(testing_plot[:,0], testing_plot[:,1], alpha = 0.1, c = y_test.ravel());\n",
    "plt.title('Outputs')"
   ]
  },
  {
   "cell_type": "markdown",
   "id": "a74fcf8f",
   "metadata": {
    "papermill": {
     "duration": 0.044286,
     "end_time": "2022-10-23T10:12:51.765855",
     "exception": false,
     "start_time": "2022-10-23T10:12:51.721569",
     "status": "completed"
    },
    "tags": []
   },
   "source": [
    "Probability contours"
   ]
  },
  {
   "cell_type": "code",
   "execution_count": 27,
   "id": "d0afc8e3",
   "metadata": {
    "execution": {
     "iopub.execute_input": "2022-10-23T10:12:51.886304Z",
     "iopub.status.busy": "2022-10-23T10:12:51.885675Z",
     "iopub.status.idle": "2022-10-23T10:12:51.897736Z",
     "shell.execute_reply": "2022-10-23T10:12:51.898214Z"
    },
    "papermill": {
     "duration": 0.088042,
     "end_time": "2022-10-23T10:12:51.898346",
     "exception": false,
     "start_time": "2022-10-23T10:12:51.810304",
     "status": "completed"
    },
    "tags": []
   },
   "outputs": [],
   "source": [
    "model_prob = Model(layers[-2:]) "
   ]
  },
  {
   "cell_type": "code",
   "execution_count": 28,
   "id": "9b96e238",
   "metadata": {
    "execution": {
     "iopub.execute_input": "2022-10-23T10:12:51.992158Z",
     "iopub.status.busy": "2022-10-23T10:12:51.991557Z",
     "iopub.status.idle": "2022-10-23T10:12:52.006382Z",
     "shell.execute_reply": "2022-10-23T10:12:52.006813Z"
    },
    "papermill": {
     "duration": 0.064327,
     "end_time": "2022-10-23T10:12:52.006951",
     "exception": false,
     "start_time": "2022-10-23T10:12:51.942624",
     "status": "completed"
    },
    "tags": []
   },
   "outputs": [],
   "source": [
    "#creating the x and y ranges according to the above generated plot.\n",
    "x_range = np.linspace(-4, 1, 100) \n",
    "y_range = np.linspace(-6, 6, 100) \n",
    "x_grid, y_grid = np.meshgrid(x_range, y_range) # x_grid and y_grig are of size 100 X 100\n",
    "\n",
    "# converting x_grid and y_grid to continuous arrays\n",
    "x_gridflat = np.ravel(x_grid)\n",
    "y_gridflat = np.ravel(y_grid)\n",
    "\n",
    "# The last layer of the current model takes two columns as input. Hence transpose of np.vstack() is required.\n",
    "X = np.vstack((x_gridflat, y_gridflat)).T\n",
    "\n",
    "prob_contour = model_prob(X).reshape(100,100) "
   ]
  },
  {
   "cell_type": "code",
   "execution_count": 29,
   "id": "da72499a",
   "metadata": {
    "execution": {
     "iopub.execute_input": "2022-10-23T10:12:52.106295Z",
     "iopub.status.busy": "2022-10-23T10:12:52.105629Z",
     "iopub.status.idle": "2022-10-23T10:12:52.353284Z",
     "shell.execute_reply": "2022-10-23T10:12:52.352810Z"
    },
    "papermill": {
     "duration": 0.296061,
     "end_time": "2022-10-23T10:12:52.353408",
     "exception": false,
     "start_time": "2022-10-23T10:12:52.057347",
     "status": "completed"
    },
    "tags": []
   },
   "outputs": [
    {
     "data": {
      "image/png": "[encoded data removed]",
      "text/plain": [
       "<Figure size 720x648 with 1 Axes>"
      ]
     },
     "metadata": {
      "needs_background": "light"
     },
     "output_type": "display_data"
    }
   ],
   "source": [
    "plt.figure(figsize=(10,9))\n",
    "plt.scatter(testing_plot[:,0], testing_plot[:,1], alpha = 0.1, c = y_test.ravel())\n",
    "contours = plt.contour(x_grid,y_grid,prob_contour)\n",
    "plt.title('Probability Contours')\n",
    "plt.clabel(contours, inline = True );"
   ]
  },
  {
   "cell_type": "code",
   "execution_count": null,
   "id": "e81b4ac7",
   "metadata": {
    "papermill": {
     "duration": 0.046919,
     "end_time": "2022-10-23T10:12:52.448150",
     "exception": false,
     "start_time": "2022-10-23T10:12:52.401231",
     "status": "completed"
    },
    "tags": []
   },
   "outputs": [],
   "source": []
  }
 ],
 "metadata": {
  "kernelspec": {
   "display_name": "Python 3",
   "language": "python",
   "name": "python3"
  },
  "language_info": {
   "codemirror_mode": {
    "name": "ipython",
    "version": 3
   },
   "file_extension": ".py",
   "mimetype": "text/x-python",
   "name": "python",
   "nbconvert_exporter": "python",
   "pygments_lexer": "ipython3",
   "version": "3.6.15"
  },
  "papermill": {
   "default_parameters": {},
   "duration": 100.750287,
   "end_time": "2022-10-23T10:12:52.915379",
   "environment_variables": {},
   "exception": null,
   "input_path": "2020-08-11-part2.ipynb",
   "output_path": "2020-08-11-part2.ipynb",
   "parameters": {},
   "start_time": "2022-10-23T10:11:12.165092",
   "version": "2.3.3"
  }
 },
 "nbformat": 4,
 "nbformat_minor": 5
}