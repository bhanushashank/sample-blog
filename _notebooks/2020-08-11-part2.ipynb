{
 "cells": [
  {
   "cell_type": "markdown",
   "id": "98380cd3",
   "metadata": {
    "papermill": {
     "duration": 0.03083,
     "end_time": "2022-10-07T10:13:27.309810",
     "exception": false,
     "start_time": "2022-10-07T10:13:27.278980",
     "status": "completed"
    },
    "tags": []
   },
   "source": [
    "# Distinguish Your Own Digits (DYOD)"
   ]
  },
  {
   "cell_type": "markdown",
   "id": "ef31240d",
   "metadata": {
    "papermill": {
     "duration": 0.023974,
     "end_time": "2022-10-07T10:13:27.358512",
     "exception": false,
     "start_time": "2022-10-07T10:13:27.334538",
     "status": "completed"
    },
    "tags": []
   },
   "source": [
    "You are going to write a classifier that distinguishes between the number 3 and number 8."
   ]
  },
  {
   "cell_type": "code",
   "execution_count": 1,
   "id": "b15c8646",
   "metadata": {
    "execution": {
     "iopub.execute_input": "2022-10-07T10:13:27.417912Z",
     "iopub.status.busy": "2022-10-07T10:13:27.417272Z",
     "iopub.status.idle": "2022-10-07T10:13:27.429206Z",
     "shell.execute_reply": "2022-10-07T10:13:27.429678Z"
    },
    "papermill": {
     "duration": 0.047229,
     "end_time": "2022-10-07T10:13:27.429843",
     "exception": false,
     "start_time": "2022-10-07T10:13:27.382614",
     "status": "completed"
    },
    "tags": []
   },
   "outputs": [],
   "source": [
    "%load_ext autoreload\n",
    "%autoreload 2"
   ]
  },
  {
   "cell_type": "code",
   "execution_count": 2,
   "id": "22ef38dc",
   "metadata": {
    "execution": {
     "iopub.execute_input": "2022-10-07T10:13:27.493268Z",
     "iopub.status.busy": "2022-10-07T10:13:27.487911Z",
     "iopub.status.idle": "2022-10-07T10:13:28.051500Z",
     "shell.execute_reply": "2022-10-07T10:13:28.052002Z"
    },
    "papermill": {
     "duration": 0.597943,
     "end_time": "2022-10-07T10:13:28.052161",
     "exception": false,
     "start_time": "2022-10-07T10:13:27.454218",
     "status": "completed"
    },
    "tags": []
   },
   "outputs": [],
   "source": [
    "%matplotlib inline\n",
    "import numpy as np\n",
    "import matplotlib.pyplot as plt\n",
    "import pandas as pd"
   ]
  },
  {
   "cell_type": "markdown",
   "id": "ba036198",
   "metadata": {
    "papermill": {
     "duration": 0.024072,
     "end_time": "2022-10-07T10:13:28.100870",
     "exception": false,
     "start_time": "2022-10-07T10:13:28.076798",
     "status": "completed"
    },
    "tags": []
   },
   "source": [
    "From the command line run `pip install mnist`. This is a library that will help you bring down the mnist dataset. If you run this from a notebook, you need to put  `!pip install mnist` in a cell by itself."
   ]
  },
  {
   "cell_type": "code",
   "execution_count": 3,
   "id": "bb6ad8a1",
   "metadata": {
    "execution": {
     "iopub.execute_input": "2022-10-07T10:13:28.154696Z",
     "iopub.status.busy": "2022-10-07T10:13:28.154082Z",
     "iopub.status.idle": "2022-10-07T10:13:29.725162Z",
     "shell.execute_reply": "2022-10-07T10:13:29.724589Z"
    },
    "papermill": {
     "duration": 1.600139,
     "end_time": "2022-10-07T10:13:29.725287",
     "exception": false,
     "start_time": "2022-10-07T10:13:28.125148",
     "status": "completed"
    },
    "tags": []
   },
   "outputs": [
    {
     "name": "stdout",
     "output_type": "stream",
     "text": [
      "Collecting mnist\r\n"
     ]
    },
    {
     "name": "stdout",
     "output_type": "stream",
     "text": [
      "  Downloading mnist-0.2.2-py2.py3-none-any.whl (3.5 kB)\r\n",
      "Requirement already satisfied: numpy in /opt/hostedtoolcache/Python/3.6.15/x64/lib/python3.6/site-packages (from mnist) (1.19.5)\r\n"
     ]
    },
    {
     "name": "stdout",
     "output_type": "stream",
     "text": [
      "Installing collected packages: mnist\r\n",
      "Successfully installed mnist-0.2.2\r\n"
     ]
    }
   ],
   "source": [
    "!pip install mnist"
   ]
  },
  {
   "cell_type": "markdown",
   "id": "69df9c9a",
   "metadata": {
    "papermill": {
     "duration": 0.024979,
     "end_time": "2022-10-07T10:13:29.775506",
     "exception": false,
     "start_time": "2022-10-07T10:13:29.750527",
     "status": "completed"
    },
    "tags": []
   },
   "source": [
    "## Preparing the Data"
   ]
  },
  {
   "cell_type": "code",
   "execution_count": 4,
   "id": "7f69d806",
   "metadata": {
    "execution": {
     "iopub.execute_input": "2022-10-07T10:13:29.837327Z",
     "iopub.status.busy": "2022-10-07T10:13:29.832781Z",
     "iopub.status.idle": "2022-10-07T10:13:29.848473Z",
     "shell.execute_reply": "2022-10-07T10:13:29.847957Z"
    },
    "papermill": {
     "duration": 0.048155,
     "end_time": "2022-10-07T10:13:29.848597",
     "exception": false,
     "start_time": "2022-10-07T10:13:29.800442",
     "status": "completed"
    },
    "tags": []
   },
   "outputs": [],
   "source": [
    "import mnist"
   ]
  },
  {
   "cell_type": "code",
   "execution_count": 5,
   "id": "a411e44f",
   "metadata": {
    "execution": {
     "iopub.execute_input": "2022-10-07T10:13:29.902551Z",
     "iopub.status.busy": "2022-10-07T10:13:29.901960Z",
     "iopub.status.idle": "2022-10-07T10:13:30.424092Z",
     "shell.execute_reply": "2022-10-07T10:13:30.423491Z"
    },
    "papermill": {
     "duration": 0.550625,
     "end_time": "2022-10-07T10:13:30.424217",
     "exception": false,
     "start_time": "2022-10-07T10:13:29.873592",
     "status": "completed"
    },
    "tags": []
   },
   "outputs": [],
   "source": [
    "train_images = mnist.train_images()\n",
    "train_labels = mnist.train_labels()"
   ]
  },
  {
   "cell_type": "code",
   "execution_count": 6,
   "id": "dceab3a5",
   "metadata": {
    "execution": {
     "iopub.execute_input": "2022-10-07T10:13:30.487932Z",
     "iopub.status.busy": "2022-10-07T10:13:30.487280Z",
     "iopub.status.idle": "2022-10-07T10:13:30.499684Z",
     "shell.execute_reply": "2022-10-07T10:13:30.498915Z"
    },
    "papermill": {
     "duration": 0.050505,
     "end_time": "2022-10-07T10:13:30.499806",
     "exception": false,
     "start_time": "2022-10-07T10:13:30.449301",
     "status": "completed"
    },
    "tags": []
   },
   "outputs": [
    {
     "data": {
      "text/plain": [
       "((60000, 28, 28), (60000,))"
      ]
     },
     "execution_count": 6,
     "metadata": {},
     "output_type": "execute_result"
    }
   ],
   "source": [
    "train_images.shape, train_labels.shape"
   ]
  },
  {
   "cell_type": "code",
   "execution_count": 7,
   "id": "f50dc2bb",
   "metadata": {
    "execution": {
     "iopub.execute_input": "2022-10-07T10:13:30.557976Z",
     "iopub.status.busy": "2022-10-07T10:13:30.557361Z",
     "iopub.status.idle": "2022-10-07T10:13:30.677629Z",
     "shell.execute_reply": "2022-10-07T10:13:30.677030Z"
    },
    "papermill": {
     "duration": 0.152579,
     "end_time": "2022-10-07T10:13:30.677773",
     "exception": false,
     "start_time": "2022-10-07T10:13:30.525194",
     "status": "completed"
    },
    "tags": []
   },
   "outputs": [],
   "source": [
    "test_images = mnist.test_images()\n",
    "test_labels = mnist.test_labels()"
   ]
  },
  {
   "cell_type": "code",
   "execution_count": 8,
   "id": "fc38cf1b",
   "metadata": {
    "execution": {
     "iopub.execute_input": "2022-10-07T10:13:30.732621Z",
     "iopub.status.busy": "2022-10-07T10:13:30.731983Z",
     "iopub.status.idle": "2022-10-07T10:13:30.746150Z",
     "shell.execute_reply": "2022-10-07T10:13:30.746578Z"
    },
    "papermill": {
     "duration": 0.043535,
     "end_time": "2022-10-07T10:13:30.746716",
     "exception": false,
     "start_time": "2022-10-07T10:13:30.703181",
     "status": "completed"
    },
    "tags": []
   },
   "outputs": [
    {
     "data": {
      "text/plain": [
       "((10000, 28, 28), (10000,))"
      ]
     },
     "execution_count": 8,
     "metadata": {},
     "output_type": "execute_result"
    }
   ],
   "source": [
    "test_images.shape, test_labels.shape"
   ]
  },
  {
   "cell_type": "code",
   "execution_count": 9,
   "id": "f9ed8fe0",
   "metadata": {
    "execution": {
     "iopub.execute_input": "2022-10-07T10:13:30.801570Z",
     "iopub.status.busy": "2022-10-07T10:13:30.800980Z",
     "iopub.status.idle": "2022-10-07T10:13:30.941843Z",
     "shell.execute_reply": "2022-10-07T10:13:30.941338Z"
    },
    "papermill": {
     "duration": 0.169995,
     "end_time": "2022-10-07T10:13:30.941969",
     "exception": false,
     "start_time": "2022-10-07T10:13:30.771974",
     "status": "completed"
    },
    "tags": []
   },
   "outputs": [
    {
     "name": "stdout",
     "output_type": "stream",
     "text": [
      "2\n"
     ]
    },
    {
     "data": {
      "text/plain": [
       "<matplotlib.image.AxesImage at 0x7f032b64ad30>"
      ]
     },
     "execution_count": 9,
     "metadata": {},
     "output_type": "execute_result"
    },
    {
     "data": {
      "image/png": "[encoded data removed]",
      "text/plain": [
       "<Figure size 432x288 with 1 Axes>"
      ]
     },
     "metadata": {
      "needs_background": "light"
     },
     "output_type": "display_data"
    }
   ],
   "source": [
    "image_index = 7776 # You may select anything up to 60,000\n",
    "print(train_labels[image_index]) \n",
    "plt.imshow(train_images[image_index], cmap='Greys')"
   ]
  },
  {
   "cell_type": "markdown",
   "id": "a8d2388d",
   "metadata": {
    "papermill": {
     "duration": 0.02678,
     "end_time": "2022-10-07T10:13:30.995589",
     "exception": false,
     "start_time": "2022-10-07T10:13:30.968809",
     "status": "completed"
    },
    "tags": []
   },
   "source": [
    "## Filter data to get 3 and 8 out"
   ]
  },
  {
   "cell_type": "code",
   "execution_count": 10,
   "id": "776f7fc7",
   "metadata": {
    "execution": {
     "iopub.execute_input": "2022-10-07T10:13:31.056899Z",
     "iopub.status.busy": "2022-10-07T10:13:31.056240Z",
     "iopub.status.idle": "2022-10-07T10:13:31.073993Z",
     "shell.execute_reply": "2022-10-07T10:13:31.074431Z"
    },
    "papermill": {
     "duration": 0.052519,
     "end_time": "2022-10-07T10:13:31.074574",
     "exception": false,
     "start_time": "2022-10-07T10:13:31.022055",
     "status": "completed"
    },
    "tags": []
   },
   "outputs": [],
   "source": [
    "train_filter = np.where((train_labels == 3 ) | (train_labels == 8))\n",
    "test_filter = np.where((test_labels == 3) | (test_labels == 8))\n",
    "X_train, y_train = train_images[train_filter], train_labels[train_filter]\n",
    "X_test, y_test = test_images[test_filter], test_labels[test_filter]"
   ]
  },
  {
   "cell_type": "markdown",
   "id": "948f0b7e",
   "metadata": {
    "papermill": {
     "duration": 0.02638,
     "end_time": "2022-10-07T10:13:31.127684",
     "exception": false,
     "start_time": "2022-10-07T10:13:31.101304",
     "status": "completed"
    },
    "tags": []
   },
   "source": [
    "We normalize the pizel values in the 0 to 1 range"
   ]
  },
  {
   "cell_type": "code",
   "execution_count": 11,
   "id": "ee4c2166",
   "metadata": {
    "execution": {
     "iopub.execute_input": "2022-10-07T10:13:31.189179Z",
     "iopub.status.busy": "2022-10-07T10:13:31.188573Z",
     "iopub.status.idle": "2022-10-07T10:13:31.234873Z",
     "shell.execute_reply": "2022-10-07T10:13:31.234323Z"
    },
    "papermill": {
     "duration": 0.081011,
     "end_time": "2022-10-07T10:13:31.235011",
     "exception": false,
     "start_time": "2022-10-07T10:13:31.154000",
     "status": "completed"
    },
    "tags": []
   },
   "outputs": [],
   "source": [
    "X_train = X_train/255.\n",
    "X_test = X_test/255."
   ]
  },
  {
   "cell_type": "markdown",
   "id": "ddcf4fab",
   "metadata": {
    "papermill": {
     "duration": 0.026581,
     "end_time": "2022-10-07T10:13:31.288874",
     "exception": false,
     "start_time": "2022-10-07T10:13:31.262293",
     "status": "completed"
    },
    "tags": []
   },
   "source": [
    "And setup the labels as 1 (when the digit is 3) and 0 (when the digit is 8)"
   ]
  },
  {
   "cell_type": "code",
   "execution_count": 12,
   "id": "7dc908f2",
   "metadata": {
    "execution": {
     "iopub.execute_input": "2022-10-07T10:13:31.346212Z",
     "iopub.status.busy": "2022-10-07T10:13:31.345624Z",
     "iopub.status.idle": "2022-10-07T10:13:31.358800Z",
     "shell.execute_reply": "2022-10-07T10:13:31.358316Z"
    },
    "papermill": {
     "duration": 0.043678,
     "end_time": "2022-10-07T10:13:31.358914",
     "exception": false,
     "start_time": "2022-10-07T10:13:31.315236",
     "status": "completed"
    },
    "tags": []
   },
   "outputs": [],
   "source": [
    "y_train = 1*(y_train==3)\n",
    "y_test = 1*(y_test==3)"
   ]
  },
  {
   "cell_type": "code",
   "execution_count": 13,
   "id": "01e4e969",
   "metadata": {
    "execution": {
     "iopub.execute_input": "2022-10-07T10:13:31.416921Z",
     "iopub.status.busy": "2022-10-07T10:13:31.416312Z",
     "iopub.status.idle": "2022-10-07T10:13:31.430566Z",
     "shell.execute_reply": "2022-10-07T10:13:31.430088Z"
    },
    "papermill": {
     "duration": 0.044261,
     "end_time": "2022-10-07T10:13:31.430675",
     "exception": false,
     "start_time": "2022-10-07T10:13:31.386414",
     "status": "completed"
    },
    "tags": []
   },
   "outputs": [
    {
     "data": {
      "text/plain": [
       "((11982, 28, 28), (1984, 28, 28))"
      ]
     },
     "execution_count": 13,
     "metadata": {},
     "output_type": "execute_result"
    }
   ],
   "source": [
    "X_train.shape, X_test.shape"
   ]
  },
  {
   "cell_type": "markdown",
   "id": "5ccf3f85",
   "metadata": {
    "papermill": {
     "duration": 0.027233,
     "end_time": "2022-10-07T10:13:31.484346",
     "exception": false,
     "start_time": "2022-10-07T10:13:31.457113",
     "status": "completed"
    },
    "tags": []
   },
   "source": [
    "We reshape the data to flatten the image pixels into a set of features or co-variates:"
   ]
  },
  {
   "cell_type": "code",
   "execution_count": 14,
   "id": "5286a4a3",
   "metadata": {
    "execution": {
     "iopub.execute_input": "2022-10-07T10:13:31.542837Z",
     "iopub.status.busy": "2022-10-07T10:13:31.542243Z",
     "iopub.status.idle": "2022-10-07T10:13:31.555701Z",
     "shell.execute_reply": "2022-10-07T10:13:31.556265Z"
    },
    "papermill": {
     "duration": 0.045357,
     "end_time": "2022-10-07T10:13:31.556420",
     "exception": false,
     "start_time": "2022-10-07T10:13:31.511063",
     "status": "completed"
    },
    "tags": []
   },
   "outputs": [
    {
     "data": {
      "text/plain": [
       "((11982, 784), (1984, 784))"
      ]
     },
     "execution_count": 14,
     "metadata": {},
     "output_type": "execute_result"
    }
   ],
   "source": [
    "X_train = X_train.reshape(X_train.shape[0], -1)\n",
    "X_test = X_test.reshape(X_test.shape[0], -1)\n",
    "X_train.shape, X_test.shape"
   ]
  },
  {
   "cell_type": "code",
   "execution_count": 15,
   "id": "73c5f88a",
   "metadata": {
    "execution": {
     "iopub.execute_input": "2022-10-07T10:13:31.614965Z",
     "iopub.status.busy": "2022-10-07T10:13:31.614363Z",
     "iopub.status.idle": "2022-10-07T10:13:31.633277Z",
     "shell.execute_reply": "2022-10-07T10:13:31.632799Z"
    },
    "papermill": {
     "duration": 0.050043,
     "end_time": "2022-10-07T10:13:31.633387",
     "exception": false,
     "start_time": "2022-10-07T10:13:31.583344",
     "status": "completed"
    },
    "tags": []
   },
   "outputs": [],
   "source": [
    "#Impoting functions from 'Kudzu'\n",
    "from kudzu.model import Model\n",
    "from kudzu.train import Learner\n",
    "from kudzu.optim import GD\n",
    "from kudzu.data import Data, Sampler,Dataloader\n",
    "\n",
    "from kudzu.callbacks import AccCallback\n",
    "from kudzu.callbacks import ClfCallback\n",
    "\n",
    "from kudzu.loss import MSE\n",
    "\n",
    "from kudzu.layer import Sigmoid,Relu\n",
    "from kudzu.layer import Affine"
   ]
  },
  {
   "cell_type": "markdown",
   "id": "bc01172a",
   "metadata": {
    "papermill": {
     "duration": 0.026737,
     "end_time": "2022-10-07T10:13:31.687124",
     "exception": false,
     "start_time": "2022-10-07T10:13:31.660387",
     "status": "completed"
    },
    "tags": []
   },
   "source": [
    "### Let us create a `Config` class, to store important parameters. \n",
    "This class essentially plays the role of a dictionary."
   ]
  },
  {
   "cell_type": "code",
   "execution_count": 16,
   "id": "978281aa",
   "metadata": {
    "execution": {
     "iopub.execute_input": "2022-10-07T10:13:31.748265Z",
     "iopub.status.busy": "2022-10-07T10:13:31.747657Z",
     "iopub.status.idle": "2022-10-07T10:13:31.758296Z",
     "shell.execute_reply": "2022-10-07T10:13:31.757820Z"
    },
    "papermill": {
     "duration": 0.0445,
     "end_time": "2022-10-07T10:13:31.758406",
     "exception": false,
     "start_time": "2022-10-07T10:13:31.713906",
     "status": "completed"
    },
    "tags": []
   },
   "outputs": [],
   "source": [
    "class Config:\n",
    "    pass\n",
    "config = Config()\n",
    "config.lr = 0.001\n",
    "config.num_epochs = 250\n",
    "config.bs = 50"
   ]
  },
  {
   "cell_type": "markdown",
   "id": "1385fa59",
   "metadata": {
    "papermill": {
     "duration": 0.026657,
     "end_time": "2022-10-07T10:13:31.811876",
     "exception": false,
     "start_time": "2022-10-07T10:13:31.785219",
     "status": "completed"
    },
    "tags": []
   },
   "source": [
    "### Running Models with the Training data\n",
    "Details about the network layers:\n",
    "- A first affine layer has 784 inputs and does 100 affine transforms. These are followed by a Relu\n",
    "- A second affine layer has 100 inputs from the 100 activations of the past layer, and does 100 affine transforms. These are followed by a Relu\n",
    "- A third affine layer has 100 activations and does 2 affine transformations to create an embedding for visualization. There is no non-linearity here.\n",
    "- A final \"logistic regression\" which has an affine transform from 2 inputs to 1 output, which is squeezed through a sigmoid.\n"
   ]
  },
  {
   "cell_type": "code",
   "execution_count": 17,
   "id": "2b9c66db",
   "metadata": {
    "execution": {
     "iopub.execute_input": "2022-10-07T10:13:31.869766Z",
     "iopub.status.busy": "2022-10-07T10:13:31.869177Z",
     "iopub.status.idle": "2022-10-07T10:13:31.882653Z",
     "shell.execute_reply": "2022-10-07T10:13:31.882177Z"
    },
    "papermill": {
     "duration": 0.044176,
     "end_time": "2022-10-07T10:13:31.882761",
     "exception": false,
     "start_time": "2022-10-07T10:13:31.838585",
     "status": "completed"
    },
    "tags": []
   },
   "outputs": [],
   "source": [
    "data = Data(X_train, y_train.reshape(-1,1))\n",
    "sampler = Sampler(data, config.bs, shuffle=True)\n",
    "\n",
    "dl = Dataloader(data, sampler)\n",
    "\n",
    "opt = GD(config.lr)\n",
    "loss = MSE()"
   ]
  },
  {
   "cell_type": "code",
   "execution_count": 18,
   "id": "b275e4c2",
   "metadata": {
    "execution": {
     "iopub.execute_input": "2022-10-07T10:13:31.940564Z",
     "iopub.status.busy": "2022-10-07T10:13:31.939953Z",
     "iopub.status.idle": "2022-10-07T10:13:31.952554Z",
     "shell.execute_reply": "2022-10-07T10:13:31.952029Z"
    },
    "papermill": {
     "duration": 0.043068,
     "end_time": "2022-10-07T10:13:31.952670",
     "exception": false,
     "start_time": "2022-10-07T10:13:31.909602",
     "status": "completed"
    },
    "tags": []
   },
   "outputs": [],
   "source": [
    "training_data_x = X_train\n",
    "testing_data_x = X_test\n",
    "training_data_y = y_train.reshape(-1,1)\n",
    "testing_data_y = y_test.reshape(-1,1)"
   ]
  },
  {
   "cell_type": "code",
   "execution_count": 19,
   "id": "76951160",
   "metadata": {
    "execution": {
     "iopub.execute_input": "2022-10-07T10:13:32.011094Z",
     "iopub.status.busy": "2022-10-07T10:13:32.010491Z",
     "iopub.status.idle": "2022-10-07T10:13:32.027335Z",
     "shell.execute_reply": "2022-10-07T10:13:32.026855Z"
    },
    "papermill": {
     "duration": 0.048015,
     "end_time": "2022-10-07T10:13:32.027444",
     "exception": false,
     "start_time": "2022-10-07T10:13:31.979429",
     "status": "completed"
    },
    "tags": []
   },
   "outputs": [
    {
     "name": "stdout",
     "output_type": "stream",
     "text": [
      "xavier\n",
      "xavier\n",
      "xavier\n",
      "xavier\n",
      "xavier\n"
     ]
    }
   ],
   "source": [
    "layers = [Affine(\"first\", 784, 100), Relu(\"first\"), Affine(\"second\", 100, 100), Relu(\"second\"), Affine(\"third\", 100, 2), Affine(\"last\", 2, 1), Sigmoid(\"last\")]\n",
    "model_nn = Model(layers)\n",
    "model_lr = Model([Affine(\"logits\", 784, 1), Sigmoid(\"sigmoid\")])"
   ]
  },
  {
   "cell_type": "code",
   "execution_count": 20,
   "id": "6eede77a",
   "metadata": {
    "execution": {
     "iopub.execute_input": "2022-10-07T10:13:32.089261Z",
     "iopub.status.busy": "2022-10-07T10:13:32.088552Z",
     "iopub.status.idle": "2022-10-07T10:13:32.099945Z",
     "shell.execute_reply": "2022-10-07T10:13:32.099450Z"
    },
    "papermill": {
     "duration": 0.045313,
     "end_time": "2022-10-07T10:13:32.100060",
     "exception": false,
     "start_time": "2022-10-07T10:13:32.054747",
     "status": "completed"
    },
    "tags": []
   },
   "outputs": [],
   "source": [
    "nn_learner = Learner(loss, model_nn, opt, config.num_epochs)\n",
    "acc_nn = ClfCallback(nn_learner, config.bs, training_data_x , testing_data_x, training_data_y, testing_data_y)\n",
    "nn_learner.set_callbacks([acc_nn])"
   ]
  },
  {
   "cell_type": "code",
   "execution_count": 21,
   "id": "877b6cc7",
   "metadata": {
    "execution": {
     "iopub.execute_input": "2022-10-07T10:13:32.158981Z",
     "iopub.status.busy": "2022-10-07T10:13:32.158390Z",
     "iopub.status.idle": "2022-10-07T10:13:32.171591Z",
     "shell.execute_reply": "2022-10-07T10:13:32.171110Z"
    },
    "papermill": {
     "duration": 0.044378,
     "end_time": "2022-10-07T10:13:32.171703",
     "exception": false,
     "start_time": "2022-10-07T10:13:32.127325",
     "status": "completed"
    },
    "tags": []
   },
   "outputs": [],
   "source": [
    "lr_learner = Learner(loss, model_lr, opt, config.num_epochs)\n",
    "acc_lr = ClfCallback(lr_learner, config.bs, training_data_x , testing_data_x, training_data_y, testing_data_y)\n",
    "lr_learner.set_callbacks([acc_lr])"
   ]
  },
  {
   "cell_type": "code",
   "execution_count": 22,
   "id": "d9b133c3",
   "metadata": {
    "execution": {
     "iopub.execute_input": "2022-10-07T10:13:32.230341Z",
     "iopub.status.busy": "2022-10-07T10:13:32.229759Z",
     "iopub.status.idle": "2022-10-07T10:14:51.801118Z",
     "shell.execute_reply": "2022-10-07T10:14:51.802023Z"
    },
    "papermill": {
     "duration": 79.603097,
     "end_time": "2022-10-07T10:14:51.802184",
     "exception": false,
     "start_time": "2022-10-07T10:13:32.199087",
     "status": "completed"
    },
    "tags": []
   },
   "outputs": [
    {
     "name": "stdout",
     "output_type": "stream",
     "text": [
      "Epoch 0, Loss 0.2289\n",
      "Training Accuracy: 0.7688, Testing Accuracy: 0.7666\n",
      "\n"
     ]
    },
    {
     "name": "stdout",
     "output_type": "stream",
     "text": [
      "Epoch 10, Loss 0.0764\n",
      "Training Accuracy: 0.9252, Testing Accuracy: 0.9390\n",
      "\n"
     ]
    },
    {
     "name": "stdout",
     "output_type": "stream",
     "text": [
      "Epoch 20, Loss 0.0512\n",
      "Training Accuracy: 0.9451, Testing Accuracy: 0.9567\n",
      "\n"
     ]
    },
    {
     "name": "stdout",
     "output_type": "stream",
     "text": [
      "Epoch 30, Loss 0.0416\n",
      "Training Accuracy: 0.9538, Testing Accuracy: 0.9612\n",
      "\n"
     ]
    },
    {
     "name": "stdout",
     "output_type": "stream",
     "text": [
      "Epoch 40, Loss 0.0363\n",
      "Training Accuracy: 0.9597, Testing Accuracy: 0.9647\n",
      "\n"
     ]
    },
    {
     "name": "stdout",
     "output_type": "stream",
     "text": [
      "Epoch 50, Loss 0.0329\n",
      "Training Accuracy: 0.9629, Testing Accuracy: 0.9682\n",
      "\n"
     ]
    },
    {
     "name": "stdout",
     "output_type": "stream",
     "text": [
      "Epoch 60, Loss 0.0305\n",
      "Training Accuracy: 0.9657, Testing Accuracy: 0.9698\n",
      "\n"
     ]
    },
    {
     "name": "stdout",
     "output_type": "stream",
     "text": [
      "Epoch 70, Loss 0.0286\n",
      "Training Accuracy: 0.9677, Testing Accuracy: 0.9708\n",
      "\n"
     ]
    },
    {
     "name": "stdout",
     "output_type": "stream",
     "text": [
      "Epoch 80, Loss 0.0272\n",
      "Training Accuracy: 0.9689, Testing Accuracy: 0.9728\n",
      "\n"
     ]
    },
    {
     "name": "stdout",
     "output_type": "stream",
     "text": [
      "Epoch 90, Loss 0.0259\n",
      "Training Accuracy: 0.9705, Testing Accuracy: 0.9733\n",
      "\n"
     ]
    },
    {
     "name": "stdout",
     "output_type": "stream",
     "text": [
      "Epoch 100, Loss 0.0249\n",
      "Training Accuracy: 0.9715, Testing Accuracy: 0.9738\n",
      "\n"
     ]
    },
    {
     "name": "stdout",
     "output_type": "stream",
     "text": [
      "Epoch 110, Loss 0.024\n",
      "Training Accuracy: 0.9725, Testing Accuracy: 0.9738\n",
      "\n"
     ]
    },
    {
     "name": "stdout",
     "output_type": "stream",
     "text": [
      "Epoch 120, Loss 0.0232\n",
      "Training Accuracy: 0.9735, Testing Accuracy: 0.9733\n",
      "\n"
     ]
    },
    {
     "name": "stdout",
     "output_type": "stream",
     "text": [
      "Epoch 130, Loss 0.0225\n",
      "Training Accuracy: 0.9746, Testing Accuracy: 0.9728\n",
      "\n"
     ]
    },
    {
     "name": "stdout",
     "output_type": "stream",
     "text": [
      "Epoch 140, Loss 0.0219\n",
      "Training Accuracy: 0.9754, Testing Accuracy: 0.9733\n",
      "\n"
     ]
    },
    {
     "name": "stdout",
     "output_type": "stream",
     "text": [
      "Epoch 150, Loss 0.0212\n",
      "Training Accuracy: 0.9762, Testing Accuracy: 0.9743\n",
      "\n"
     ]
    },
    {
     "name": "stdout",
     "output_type": "stream",
     "text": [
      "Epoch 160, Loss 0.0207\n",
      "Training Accuracy: 0.9767, Testing Accuracy: 0.9753\n",
      "\n"
     ]
    },
    {
     "name": "stdout",
     "output_type": "stream",
     "text": [
      "Epoch 170, Loss 0.0201\n",
      "Training Accuracy: 0.9773, Testing Accuracy: 0.9758\n",
      "\n"
     ]
    },
    {
     "name": "stdout",
     "output_type": "stream",
     "text": [
      "Epoch 180, Loss 0.0196\n",
      "Training Accuracy: 0.9779, Testing Accuracy: 0.9758\n",
      "\n"
     ]
    },
    {
     "name": "stdout",
     "output_type": "stream",
     "text": [
      "Epoch 190, Loss 0.0191\n",
      "Training Accuracy: 0.9782, Testing Accuracy: 0.9758\n",
      "\n"
     ]
    },
    {
     "name": "stdout",
     "output_type": "stream",
     "text": [
      "Epoch 200, Loss 0.0186\n",
      "Training Accuracy: 0.9793, Testing Accuracy: 0.9758\n",
      "\n"
     ]
    },
    {
     "name": "stdout",
     "output_type": "stream",
     "text": [
      "Epoch 210, Loss 0.0181\n",
      "Training Accuracy: 0.9798, Testing Accuracy: 0.9758\n",
      "\n"
     ]
    },
    {
     "name": "stdout",
     "output_type": "stream",
     "text": [
      "Epoch 220, Loss 0.0176\n",
      "Training Accuracy: 0.9804, Testing Accuracy: 0.9763\n",
      "\n"
     ]
    },
    {
     "name": "stdout",
     "output_type": "stream",
     "text": [
      "Epoch 230, Loss 0.0172\n",
      "Training Accuracy: 0.9807, Testing Accuracy: 0.9778\n",
      "\n"
     ]
    },
    {
     "name": "stdout",
     "output_type": "stream",
     "text": [
      "Epoch 240, Loss 0.0168\n",
      "Training Accuracy: 0.9816, Testing Accuracy: 0.9778\n",
      "\n"
     ]
    },
    {
     "data": {
      "text/plain": [
       "0.001556880304930427"
      ]
     },
     "execution_count": 22,
     "metadata": {},
     "output_type": "execute_result"
    }
   ],
   "source": [
    "nn_learner.train_loop(dl)"
   ]
  },
  {
   "cell_type": "code",
   "execution_count": 23,
   "id": "e0163366",
   "metadata": {
    "execution": {
     "iopub.execute_input": "2022-10-07T10:14:51.889521Z",
     "iopub.status.busy": "2022-10-07T10:14:51.888860Z",
     "iopub.status.idle": "2022-10-07T10:15:06.897527Z",
     "shell.execute_reply": "2022-10-07T10:15:06.898439Z"
    },
    "papermill": {
     "duration": 15.060871,
     "end_time": "2022-10-07T10:15:06.898587",
     "exception": false,
     "start_time": "2022-10-07T10:14:51.837716",
     "status": "completed"
    },
    "tags": []
   },
   "outputs": [
    {
     "name": "stdout",
     "output_type": "stream",
     "text": [
      "Epoch 0, Loss 0.2179\n",
      "Training Accuracy: 0.7878, Testing Accuracy: 0.7923\n",
      "\n"
     ]
    },
    {
     "name": "stdout",
     "output_type": "stream",
     "text": [
      "Epoch 10, Loss 0.0992\n",
      "Training Accuracy: 0.9125, Testing Accuracy: 0.9209\n",
      "\n"
     ]
    },
    {
     "name": "stdout",
     "output_type": "stream",
     "text": [
      "Epoch 20, Loss 0.0778\n",
      "Training Accuracy: 0.9277, Testing Accuracy: 0.9345\n",
      "\n"
     ]
    },
    {
     "name": "stdout",
     "output_type": "stream",
     "text": [
      "Epoch 30, Loss 0.0675\n",
      "Training Accuracy: 0.9353, Testing Accuracy: 0.9441\n",
      "\n"
     ]
    },
    {
     "name": "stdout",
     "output_type": "stream",
     "text": [
      "Epoch 40, Loss 0.0612\n",
      "Training Accuracy: 0.9410, Testing Accuracy: 0.9491\n",
      "\n"
     ]
    },
    {
     "name": "stdout",
     "output_type": "stream",
     "text": [
      "Epoch 50, Loss 0.0568\n",
      "Training Accuracy: 0.9446, Testing Accuracy: 0.9506\n",
      "\n"
     ]
    },
    {
     "name": "stdout",
     "output_type": "stream",
     "text": [
      "Epoch 60, Loss 0.0536\n",
      "Training Accuracy: 0.9468, Testing Accuracy: 0.9526\n",
      "\n"
     ]
    },
    {
     "name": "stdout",
     "output_type": "stream",
     "text": [
      "Epoch 70, Loss 0.051\n",
      "Training Accuracy: 0.9482, Testing Accuracy: 0.9546\n",
      "\n"
     ]
    },
    {
     "name": "stdout",
     "output_type": "stream",
     "text": [
      "Epoch 80, Loss 0.049\n",
      "Training Accuracy: 0.9501, Testing Accuracy: 0.9592\n",
      "\n"
     ]
    },
    {
     "name": "stdout",
     "output_type": "stream",
     "text": [
      "Epoch 90, Loss 0.0473\n",
      "Training Accuracy: 0.9513, Testing Accuracy: 0.9612\n",
      "\n"
     ]
    },
    {
     "name": "stdout",
     "output_type": "stream",
     "text": [
      "Epoch 100, Loss 0.0459\n",
      "Training Accuracy: 0.9533, Testing Accuracy: 0.9627\n",
      "\n"
     ]
    },
    {
     "name": "stdout",
     "output_type": "stream",
     "text": [
      "Epoch 110, Loss 0.0447\n",
      "Training Accuracy: 0.9544, Testing Accuracy: 0.9632\n",
      "\n"
     ]
    },
    {
     "name": "stdout",
     "output_type": "stream",
     "text": [
      "Epoch 120, Loss 0.0436\n",
      "Training Accuracy: 0.9553, Testing Accuracy: 0.9637\n",
      "\n"
     ]
    },
    {
     "name": "stdout",
     "output_type": "stream",
     "text": [
      "Epoch 130, Loss 0.0427\n",
      "Training Accuracy: 0.9563, Testing Accuracy: 0.9642\n",
      "\n"
     ]
    },
    {
     "name": "stdout",
     "output_type": "stream",
     "text": [
      "Epoch 140, Loss 0.0419\n",
      "Training Accuracy: 0.9568, Testing Accuracy: 0.9647\n",
      "\n"
     ]
    },
    {
     "name": "stdout",
     "output_type": "stream",
     "text": [
      "Epoch 150, Loss 0.0411\n",
      "Training Accuracy: 0.9575, Testing Accuracy: 0.9667\n",
      "\n"
     ]
    },
    {
     "name": "stdout",
     "output_type": "stream",
     "text": [
      "Epoch 160, Loss 0.0405\n",
      "Training Accuracy: 0.9584, Testing Accuracy: 0.9672\n",
      "\n"
     ]
    },
    {
     "name": "stdout",
     "output_type": "stream",
     "text": [
      "Epoch 170, Loss 0.0399\n",
      "Training Accuracy: 0.9584, Testing Accuracy: 0.9672\n",
      "\n"
     ]
    },
    {
     "name": "stdout",
     "output_type": "stream",
     "text": [
      "Epoch 180, Loss 0.0393\n",
      "Training Accuracy: 0.9586, Testing Accuracy: 0.9677\n",
      "\n"
     ]
    },
    {
     "name": "stdout",
     "output_type": "stream",
     "text": [
      "Epoch 190, Loss 0.0388\n",
      "Training Accuracy: 0.9589, Testing Accuracy: 0.9682\n",
      "\n"
     ]
    },
    {
     "name": "stdout",
     "output_type": "stream",
     "text": [
      "Epoch 200, Loss 0.0383\n",
      "Training Accuracy: 0.9594, Testing Accuracy: 0.9688\n",
      "\n"
     ]
    },
    {
     "name": "stdout",
     "output_type": "stream",
     "text": [
      "Epoch 210, Loss 0.0379\n",
      "Training Accuracy: 0.9597, Testing Accuracy: 0.9693\n",
      "\n"
     ]
    },
    {
     "name": "stdout",
     "output_type": "stream",
     "text": [
      "Epoch 220, Loss 0.0375\n",
      "Training Accuracy: 0.9599, Testing Accuracy: 0.9693\n",
      "\n"
     ]
    },
    {
     "name": "stdout",
     "output_type": "stream",
     "text": [
      "Epoch 230, Loss 0.0371\n",
      "Training Accuracy: 0.9600, Testing Accuracy: 0.9698\n",
      "\n"
     ]
    },
    {
     "name": "stdout",
     "output_type": "stream",
     "text": [
      "Epoch 240, Loss 0.0367\n",
      "Training Accuracy: 0.9604, Testing Accuracy: 0.9698\n",
      "\n"
     ]
    },
    {
     "data": {
      "text/plain": [
       "0.04719280985780275"
      ]
     },
     "execution_count": 23,
     "metadata": {},
     "output_type": "execute_result"
    }
   ],
   "source": [
    "lr_learner.train_loop(dl)"
   ]
  },
  {
   "cell_type": "code",
   "execution_count": 24,
   "id": "ca410940",
   "metadata": {
    "execution": {
     "iopub.execute_input": "2022-10-07T10:15:06.993788Z",
     "iopub.status.busy": "2022-10-07T10:15:06.993156Z",
     "iopub.status.idle": "2022-10-07T10:15:07.211229Z",
     "shell.execute_reply": "2022-10-07T10:15:07.211703Z"
    },
    "papermill": {
     "duration": 0.271868,
     "end_time": "2022-10-07T10:15:07.211849",
     "exception": false,
     "start_time": "2022-10-07T10:15:06.939981",
     "status": "completed"
    },
    "tags": []
   },
   "outputs": [
    {
     "data": {
      "text/plain": [
       "<matplotlib.legend.Legend at 0x7f032b1ba390>"
      ]
     },
     "execution_count": 24,
     "metadata": {},
     "output_type": "execute_result"
    },
    {
     "data": {
      "image/png": "[encoded data removed]",
      "text/plain": [
       "<Figure size 1080x720 with 1 Axes>"
      ]
     },
     "metadata": {
      "needs_background": "light"
     },
     "output_type": "display_data"
    }
   ],
   "source": [
    "#comparing the results of NN and LR\n",
    "plt.figure(figsize=(15,10))\n",
    "\n",
    "# Neural Network plots\n",
    "plt.plot(acc_nn.accuracies, 'r-', label = \"Training Accuracies - NN\")\n",
    "plt.plot(acc_nn.test_accuracies, 'g-', label = \"Testing Accuracies - NN\")\n",
    "\n",
    "# Logistic Regression plots\n",
    "plt.plot(acc_lr.accuracies, 'k-', label = \"Training Accuracies - LR\")\n",
    "plt.plot(acc_lr.test_accuracies, 'b-', label = \"Testing Accuracies - LR\")\n",
    "plt.legend()"
   ]
  },
  {
   "cell_type": "markdown",
   "id": "80dfb35c",
   "metadata": {
    "papermill": {
     "duration": 0.042085,
     "end_time": "2022-10-07T10:15:07.296524",
     "exception": false,
     "start_time": "2022-10-07T10:15:07.254439",
     "status": "completed"
    },
    "tags": []
   },
   "source": [
    "#### Plotting the outputs of this layer of the NN.\n"
   ]
  },
  {
   "cell_type": "code",
   "execution_count": 25,
   "id": "45eb2ff5",
   "metadata": {
    "execution": {
     "iopub.execute_input": "2022-10-07T10:15:07.387695Z",
     "iopub.status.busy": "2022-10-07T10:15:07.385841Z",
     "iopub.status.idle": "2022-10-07T10:15:07.407394Z",
     "shell.execute_reply": "2022-10-07T10:15:07.406569Z"
    },
    "papermill": {
     "duration": 0.068902,
     "end_time": "2022-10-07T10:15:07.407526",
     "exception": false,
     "start_time": "2022-10-07T10:15:07.338624",
     "status": "completed"
    },
    "tags": []
   },
   "outputs": [],
   "source": [
    "new_model = Model(layers[:-2])\n",
    "testing_plot = new_model(testing_data_x)"
   ]
  },
  {
   "cell_type": "code",
   "execution_count": 26,
   "id": "4c0a5485",
   "metadata": {
    "execution": {
     "iopub.execute_input": "2022-10-07T10:15:07.497997Z",
     "iopub.status.busy": "2022-10-07T10:15:07.497363Z",
     "iopub.status.idle": "2022-10-07T10:15:07.683317Z",
     "shell.execute_reply": "2022-10-07T10:15:07.682706Z"
    },
    "papermill": {
     "duration": 0.233101,
     "end_time": "2022-10-07T10:15:07.683444",
     "exception": false,
     "start_time": "2022-10-07T10:15:07.450343",
     "status": "completed"
    },
    "tags": []
   },
   "outputs": [
    {
     "data": {
      "text/plain": [
       "Text(0.5, 1.0, 'Outputs')"
      ]
     },
     "execution_count": 26,
     "metadata": {},
     "output_type": "execute_result"
    },
    {
     "data": {
      "image/png": "[encoded data removed]",
      "text/plain": [
       "<Figure size 576x504 with 1 Axes>"
      ]
     },
     "metadata": {
      "needs_background": "light"
     },
     "output_type": "display_data"
    }
   ],
   "source": [
    "# Plotting the scatter plot of points and color coding by class\n",
    "plt.figure(figsize=(8,7))\n",
    "plt.scatter(testing_plot[:,0], testing_plot[:,1], alpha = 0.1, c = y_test.ravel());\n",
    "plt.title('Outputs')"
   ]
  },
  {
   "cell_type": "markdown",
   "id": "a74fcf8f",
   "metadata": {
    "papermill": {
     "duration": 0.044398,
     "end_time": "2022-10-07T10:15:07.772571",
     "exception": false,
     "start_time": "2022-10-07T10:15:07.728173",
     "status": "completed"
    },
    "tags": []
   },
   "source": [
    "Probability contours"
   ]
  },
  {
   "cell_type": "code",
   "execution_count": 27,
   "id": "d0afc8e3",
   "metadata": {
    "execution": {
     "iopub.execute_input": "2022-10-07T10:15:07.869664Z",
     "iopub.status.busy": "2022-10-07T10:15:07.869057Z",
     "iopub.status.idle": "2022-10-07T10:15:07.881909Z",
     "shell.execute_reply": "2022-10-07T10:15:07.882364Z"
    },
    "papermill": {
     "duration": 0.061987,
     "end_time": "2022-10-07T10:15:07.882505",
     "exception": false,
     "start_time": "2022-10-07T10:15:07.820518",
     "status": "completed"
    },
    "tags": []
   },
   "outputs": [],
   "source": [
    "model_prob = Model(layers[-2:]) "
   ]
  },
  {
   "cell_type": "code",
   "execution_count": 28,
   "id": "9b96e238",
   "metadata": {
    "execution": {
     "iopub.execute_input": "2022-10-07T10:15:07.977164Z",
     "iopub.status.busy": "2022-10-07T10:15:07.976552Z",
     "iopub.status.idle": "2022-10-07T10:15:07.990006Z",
     "shell.execute_reply": "2022-10-07T10:15:07.990454Z"
    },
    "papermill": {
     "duration": 0.062932,
     "end_time": "2022-10-07T10:15:07.990596",
     "exception": false,
     "start_time": "2022-10-07T10:15:07.927664",
     "status": "completed"
    },
    "tags": []
   },
   "outputs": [],
   "source": [
    "#creating the x and y ranges according to the above generated plot.\n",
    "x_range = np.linspace(-4, 1, 100) \n",
    "y_range = np.linspace(-6, 6, 100) \n",
    "x_grid, y_grid = np.meshgrid(x_range, y_range) # x_grid and y_grig are of size 100 X 100\n",
    "\n",
    "# converting x_grid and y_grid to continuous arrays\n",
    "x_gridflat = np.ravel(x_grid)\n",
    "y_gridflat = np.ravel(y_grid)\n",
    "\n",
    "# The last layer of the current model takes two columns as input. Hence transpose of np.vstack() is required.\n",
    "X = np.vstack((x_gridflat, y_gridflat)).T\n",
    "\n",
    "prob_contour = model_prob(X).reshape(100,100) "
   ]
  },
  {
   "cell_type": "code",
   "execution_count": 29,
   "id": "da72499a",
   "metadata": {
    "execution": {
     "iopub.execute_input": "2022-10-07T10:15:08.119529Z",
     "iopub.status.busy": "2022-10-07T10:15:08.118827Z",
     "iopub.status.idle": "2022-10-07T10:15:08.359499Z",
     "shell.execute_reply": "2022-10-07T10:15:08.358993Z"
    },
    "papermill": {
     "duration": 0.291102,
     "end_time": "2022-10-07T10:15:08.359625",
     "exception": false,
     "start_time": "2022-10-07T10:15:08.068523",
     "status": "completed"
    },
    "tags": []
   },
   "outputs": [
    {
     "data": {
      "image/png": "[encoded data removed]",
      "text/plain": [
       "<Figure size 720x648 with 1 Axes>"
      ]
     },
     "metadata": {
      "needs_background": "light"
     },
     "output_type": "display_data"
    }
   ],
   "source": [
    "plt.figure(figsize=(10,9))\n",
    "plt.scatter(testing_plot[:,0], testing_plot[:,1], alpha = 0.1, c = y_test.ravel())\n",
    "contours = plt.contour(x_grid,y_grid,prob_contour)\n",
    "plt.title('Probability Contours')\n",
    "plt.clabel(contours, inline = True );"
   ]
  },
  {
   "cell_type": "code",
   "execution_count": null,
   "id": "e81b4ac7",
   "metadata": {
    "papermill": {
     "duration": 0.047619,
     "end_time": "2022-10-07T10:15:08.455568",
     "exception": false,
     "start_time": "2022-10-07T10:15:08.407949",
     "status": "completed"
    },
    "tags": []
   },
   "outputs": [],
   "source": []
  }
 ],
 "metadata": {
  "kernelspec": {
   "display_name": "Python 3",
   "language": "python",
   "name": "python3"
  },
  "language_info": {
   "codemirror_mode": {
    "name": "ipython",
    "version": 3
   },
   "file_extension": ".py",
   "mimetype": "text/x-python",
   "name": "python",
   "nbconvert_exporter": "python",
   "pygments_lexer": "ipython3",
   "version": "3.6.15"
  },
  "papermill": {
   "default_parameters": {},
   "duration": 102.690161,
   "end_time": "2022-10-07T10:15:08.923110",
   "environment_variables": {},
   "exception": null,
   "input_path": "2020-08-11-part2.ipynb",
   "output_path": "2020-08-11-part2.ipynb",
   "parameters": {},
   "start_time": "2022-10-07T10:13:26.232949",
   "version": "2.3.3"
  }
 },
 "nbformat": 4,
 "nbformat_minor": 5
}