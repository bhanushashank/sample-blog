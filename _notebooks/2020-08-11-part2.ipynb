{
 "cells": [
  {
   "cell_type": "markdown",
   "id": "98380cd3",
   "metadata": {
    "papermill": {
     "duration": 0.033018,
     "end_time": "2022-09-28T20:12:28.186532",
     "exception": false,
     "start_time": "2022-09-28T20:12:28.153514",
     "status": "completed"
    },
    "tags": []
   },
   "source": [
    "# Distinguish Your Own Digits (DYOD)"
   ]
  },
  {
   "cell_type": "markdown",
   "id": "ef31240d",
   "metadata": {
    "papermill": {
     "duration": 0.02675,
     "end_time": "2022-09-28T20:12:28.241227",
     "exception": false,
     "start_time": "2022-09-28T20:12:28.214477",
     "status": "completed"
    },
    "tags": []
   },
   "source": [
    "You are going to write a classifier that distinguishes between the number 3 and number 8."
   ]
  },
  {
   "cell_type": "code",
   "execution_count": 1,
   "id": "b15c8646",
   "metadata": {
    "execution": {
     "iopub.execute_input": "2022-09-28T20:12:28.306944Z",
     "iopub.status.busy": "2022-09-28T20:12:28.306000Z",
     "iopub.status.idle": "2022-09-28T20:12:28.318927Z",
     "shell.execute_reply": "2022-09-28T20:12:28.318294Z"
    },
    "papermill": {
     "duration": 0.051446,
     "end_time": "2022-09-28T20:12:28.319080",
     "exception": false,
     "start_time": "2022-09-28T20:12:28.267634",
     "status": "completed"
    },
    "tags": []
   },
   "outputs": [],
   "source": [
    "%load_ext autoreload\n",
    "%autoreload 2"
   ]
  },
  {
   "cell_type": "code",
   "execution_count": 2,
   "id": "22ef38dc",
   "metadata": {
    "execution": {
     "iopub.execute_input": "2022-09-28T20:12:28.381876Z",
     "iopub.status.busy": "2022-09-28T20:12:28.381170Z",
     "iopub.status.idle": "2022-09-28T20:12:29.029659Z",
     "shell.execute_reply": "2022-09-28T20:12:29.028584Z"
    },
    "papermill": {
     "duration": 0.682256,
     "end_time": "2022-09-28T20:12:29.029807",
     "exception": false,
     "start_time": "2022-09-28T20:12:28.347551",
     "status": "completed"
    },
    "tags": []
   },
   "outputs": [],
   "source": [
    "%matplotlib inline\n",
    "import numpy as np\n",
    "import matplotlib.pyplot as plt\n",
    "import pandas as pd"
   ]
  },
  {
   "cell_type": "markdown",
   "id": "ba036198",
   "metadata": {
    "papermill": {
     "duration": 0.032869,
     "end_time": "2022-09-28T20:12:29.097162",
     "exception": false,
     "start_time": "2022-09-28T20:12:29.064293",
     "status": "completed"
    },
    "tags": []
   },
   "source": [
    "From the command line run `pip install mnist`. This is a library that will help you bring down the mnist dataset. If you run this from a notebook, you need to put  `!pip install mnist` in a cell by itself."
   ]
  },
  {
   "cell_type": "code",
   "execution_count": 3,
   "id": "bb6ad8a1",
   "metadata": {
    "execution": {
     "iopub.execute_input": "2022-09-28T20:12:29.166261Z",
     "iopub.status.busy": "2022-09-28T20:12:29.165227Z",
     "iopub.status.idle": "2022-09-28T20:12:31.143140Z",
     "shell.execute_reply": "2022-09-28T20:12:31.142094Z"
    },
    "papermill": {
     "duration": 2.01157,
     "end_time": "2022-09-28T20:12:31.143283",
     "exception": false,
     "start_time": "2022-09-28T20:12:29.131713",
     "status": "completed"
    },
    "tags": []
   },
   "outputs": [
    {
     "name": "stdout",
     "output_type": "stream",
     "text": [
      "Collecting mnist\r\n"
     ]
    },
    {
     "name": "stdout",
     "output_type": "stream",
     "text": [
      "  Downloading mnist-0.2.2-py2.py3-none-any.whl (3.5 kB)\r\n",
      "Requirement already satisfied: numpy in /opt/hostedtoolcache/Python/3.6.15/x64/lib/python3.6/site-packages (from mnist) (1.19.5)\r\n"
     ]
    },
    {
     "name": "stdout",
     "output_type": "stream",
     "text": [
      "Installing collected packages: mnist\r\n"
     ]
    },
    {
     "name": "stdout",
     "output_type": "stream",
     "text": [
      "Successfully installed mnist-0.2.2\r\n"
     ]
    }
   ],
   "source": [
    "!pip install mnist"
   ]
  },
  {
   "cell_type": "markdown",
   "id": "69df9c9a",
   "metadata": {
    "papermill": {
     "duration": 0.02889,
     "end_time": "2022-09-28T20:12:31.203456",
     "exception": false,
     "start_time": "2022-09-28T20:12:31.174566",
     "status": "completed"
    },
    "tags": []
   },
   "source": [
    "## Preparing the Data"
   ]
  },
  {
   "cell_type": "code",
   "execution_count": 4,
   "id": "7f69d806",
   "metadata": {
    "execution": {
     "iopub.execute_input": "2022-09-28T20:12:31.268514Z",
     "iopub.status.busy": "2022-09-28T20:12:31.267812Z",
     "iopub.status.idle": "2022-09-28T20:12:31.286067Z",
     "shell.execute_reply": "2022-09-28T20:12:31.285497Z"
    },
    "papermill": {
     "duration": 0.054405,
     "end_time": "2022-09-28T20:12:31.286194",
     "exception": false,
     "start_time": "2022-09-28T20:12:31.231789",
     "status": "completed"
    },
    "tags": []
   },
   "outputs": [],
   "source": [
    "import mnist"
   ]
  },
  {
   "cell_type": "code",
   "execution_count": 5,
   "id": "a411e44f",
   "metadata": {
    "execution": {
     "iopub.execute_input": "2022-09-28T20:12:31.353519Z",
     "iopub.status.busy": "2022-09-28T20:12:31.352829Z",
     "iopub.status.idle": "2022-09-28T20:12:32.041096Z",
     "shell.execute_reply": "2022-09-28T20:12:32.039744Z"
    },
    "papermill": {
     "duration": 0.724289,
     "end_time": "2022-09-28T20:12:32.041258",
     "exception": false,
     "start_time": "2022-09-28T20:12:31.316969",
     "status": "completed"
    },
    "tags": []
   },
   "outputs": [],
   "source": [
    "train_images = mnist.train_images()\n",
    "train_labels = mnist.train_labels()"
   ]
  },
  {
   "cell_type": "code",
   "execution_count": 6,
   "id": "dceab3a5",
   "metadata": {
    "execution": {
     "iopub.execute_input": "2022-09-28T20:12:32.112938Z",
     "iopub.status.busy": "2022-09-28T20:12:32.111092Z",
     "iopub.status.idle": "2022-09-28T20:12:32.128831Z",
     "shell.execute_reply": "2022-09-28T20:12:32.128007Z"
    },
    "papermill": {
     "duration": 0.056018,
     "end_time": "2022-09-28T20:12:32.128984",
     "exception": false,
     "start_time": "2022-09-28T20:12:32.072966",
     "status": "completed"
    },
    "tags": []
   },
   "outputs": [
    {
     "data": {
      "text/plain": [
       "((60000, 28, 28), (60000,))"
      ]
     },
     "execution_count": 6,
     "metadata": {},
     "output_type": "execute_result"
    }
   ],
   "source": [
    "train_images.shape, train_labels.shape"
   ]
  },
  {
   "cell_type": "code",
   "execution_count": 7,
   "id": "f50dc2bb",
   "metadata": {
    "execution": {
     "iopub.execute_input": "2022-09-28T20:12:32.208998Z",
     "iopub.status.busy": "2022-09-28T20:12:32.208205Z",
     "iopub.status.idle": "2022-09-28T20:12:32.412333Z",
     "shell.execute_reply": "2022-09-28T20:12:32.411609Z"
    },
    "papermill": {
     "duration": 0.246064,
     "end_time": "2022-09-28T20:12:32.412487",
     "exception": false,
     "start_time": "2022-09-28T20:12:32.166423",
     "status": "completed"
    },
    "tags": []
   },
   "outputs": [],
   "source": [
    "test_images = mnist.test_images()\n",
    "test_labels = mnist.test_labels()"
   ]
  },
  {
   "cell_type": "code",
   "execution_count": 8,
   "id": "fc38cf1b",
   "metadata": {
    "execution": {
     "iopub.execute_input": "2022-09-28T20:12:32.479596Z",
     "iopub.status.busy": "2022-09-28T20:12:32.478876Z",
     "iopub.status.idle": "2022-09-28T20:12:32.494752Z",
     "shell.execute_reply": "2022-09-28T20:12:32.495426Z"
    },
    "papermill": {
     "duration": 0.051305,
     "end_time": "2022-09-28T20:12:32.495584",
     "exception": false,
     "start_time": "2022-09-28T20:12:32.444279",
     "status": "completed"
    },
    "tags": []
   },
   "outputs": [
    {
     "data": {
      "text/plain": [
       "((10000, 28, 28), (10000,))"
      ]
     },
     "execution_count": 8,
     "metadata": {},
     "output_type": "execute_result"
    }
   ],
   "source": [
    "test_images.shape, test_labels.shape"
   ]
  },
  {
   "cell_type": "code",
   "execution_count": 9,
   "id": "f9ed8fe0",
   "metadata": {
    "execution": {
     "iopub.execute_input": "2022-09-28T20:12:32.563184Z",
     "iopub.status.busy": "2022-09-28T20:12:32.562452Z",
     "iopub.status.idle": "2022-09-28T20:12:32.735566Z",
     "shell.execute_reply": "2022-09-28T20:12:32.734786Z"
    },
    "papermill": {
     "duration": 0.209164,
     "end_time": "2022-09-28T20:12:32.735791",
     "exception": false,
     "start_time": "2022-09-28T20:12:32.526627",
     "status": "completed"
    },
    "tags": []
   },
   "outputs": [
    {
     "name": "stdout",
     "output_type": "stream",
     "text": [
      "2\n"
     ]
    },
    {
     "data": {
      "text/plain": [
       "<matplotlib.image.AxesImage at 0x7f01931dcc50>"
      ]
     },
     "execution_count": 9,
     "metadata": {},
     "output_type": "execute_result"
    },
    {
     "data": {
      "image/png": "[encoded data removed]",
      "text/plain": [
       "<Figure size 432x288 with 1 Axes>"
      ]
     },
     "metadata": {
      "needs_background": "light"
     },
     "output_type": "display_data"
    }
   ],
   "source": [
    "image_index = 7776 # You may select anything up to 60,000\n",
    "print(train_labels[image_index]) \n",
    "plt.imshow(train_images[image_index], cmap='Greys')"
   ]
  },
  {
   "cell_type": "markdown",
   "id": "a8d2388d",
   "metadata": {
    "papermill": {
     "duration": 0.031555,
     "end_time": "2022-09-28T20:12:32.801018",
     "exception": false,
     "start_time": "2022-09-28T20:12:32.769463",
     "status": "completed"
    },
    "tags": []
   },
   "source": [
    "## Filter data to get 3 and 8 out"
   ]
  },
  {
   "cell_type": "code",
   "execution_count": 10,
   "id": "776f7fc7",
   "metadata": {
    "execution": {
     "iopub.execute_input": "2022-09-28T20:12:32.871374Z",
     "iopub.status.busy": "2022-09-28T20:12:32.867329Z",
     "iopub.status.idle": "2022-09-28T20:12:32.885241Z",
     "shell.execute_reply": "2022-09-28T20:12:32.884650Z"
    },
    "papermill": {
     "duration": 0.053594,
     "end_time": "2022-09-28T20:12:32.885381",
     "exception": false,
     "start_time": "2022-09-28T20:12:32.831787",
     "status": "completed"
    },
    "tags": []
   },
   "outputs": [],
   "source": [
    "train_filter = np.where((train_labels == 3 ) | (train_labels == 8))\n",
    "test_filter = np.where((test_labels == 3) | (test_labels == 8))\n",
    "X_train, y_train = train_images[train_filter], train_labels[train_filter]\n",
    "X_test, y_test = test_images[test_filter], test_labels[test_filter]"
   ]
  },
  {
   "cell_type": "markdown",
   "id": "948f0b7e",
   "metadata": {
    "papermill": {
     "duration": 0.029473,
     "end_time": "2022-09-28T20:12:32.944780",
     "exception": false,
     "start_time": "2022-09-28T20:12:32.915307",
     "status": "completed"
    },
    "tags": []
   },
   "source": [
    "We normalize the pizel values in the 0 to 1 range"
   ]
  },
  {
   "cell_type": "code",
   "execution_count": 11,
   "id": "ee4c2166",
   "metadata": {
    "execution": {
     "iopub.execute_input": "2022-09-28T20:12:33.008911Z",
     "iopub.status.busy": "2022-09-28T20:12:33.008255Z",
     "iopub.status.idle": "2022-09-28T20:12:33.063676Z",
     "shell.execute_reply": "2022-09-28T20:12:33.062972Z"
    },
    "papermill": {
     "duration": 0.089071,
     "end_time": "2022-09-28T20:12:33.063831",
     "exception": false,
     "start_time": "2022-09-28T20:12:32.974760",
     "status": "completed"
    },
    "tags": []
   },
   "outputs": [],
   "source": [
    "X_train = X_train/255.\n",
    "X_test = X_test/255."
   ]
  },
  {
   "cell_type": "markdown",
   "id": "ddcf4fab",
   "metadata": {
    "papermill": {
     "duration": 0.030419,
     "end_time": "2022-09-28T20:12:33.125293",
     "exception": false,
     "start_time": "2022-09-28T20:12:33.094874",
     "status": "completed"
    },
    "tags": []
   },
   "source": [
    "And setup the labels as 1 (when the digit is 3) and 0 (when the digit is 8)"
   ]
  },
  {
   "cell_type": "code",
   "execution_count": 12,
   "id": "7dc908f2",
   "metadata": {
    "execution": {
     "iopub.execute_input": "2022-09-28T20:12:33.190191Z",
     "iopub.status.busy": "2022-09-28T20:12:33.189462Z",
     "iopub.status.idle": "2022-09-28T20:12:33.205900Z",
     "shell.execute_reply": "2022-09-28T20:12:33.205214Z"
    },
    "papermill": {
     "duration": 0.051055,
     "end_time": "2022-09-28T20:12:33.206034",
     "exception": false,
     "start_time": "2022-09-28T20:12:33.154979",
     "status": "completed"
    },
    "tags": []
   },
   "outputs": [],
   "source": [
    "y_train = 1*(y_train==3)\n",
    "y_test = 1*(y_test==3)"
   ]
  },
  {
   "cell_type": "code",
   "execution_count": 13,
   "id": "01e4e969",
   "metadata": {
    "execution": {
     "iopub.execute_input": "2022-09-28T20:12:33.273787Z",
     "iopub.status.busy": "2022-09-28T20:12:33.272745Z",
     "iopub.status.idle": "2022-09-28T20:12:33.287038Z",
     "shell.execute_reply": "2022-09-28T20:12:33.287557Z"
    },
    "papermill": {
     "duration": 0.051271,
     "end_time": "2022-09-28T20:12:33.287699",
     "exception": false,
     "start_time": "2022-09-28T20:12:33.236428",
     "status": "completed"
    },
    "tags": []
   },
   "outputs": [
    {
     "data": {
      "text/plain": [
       "((11982, 28, 28), (1984, 28, 28))"
      ]
     },
     "execution_count": 13,
     "metadata": {},
     "output_type": "execute_result"
    }
   ],
   "source": [
    "X_train.shape, X_test.shape"
   ]
  },
  {
   "cell_type": "markdown",
   "id": "5ccf3f85",
   "metadata": {
    "papermill": {
     "duration": 0.03032,
     "end_time": "2022-09-28T20:12:33.348054",
     "exception": false,
     "start_time": "2022-09-28T20:12:33.317734",
     "status": "completed"
    },
    "tags": []
   },
   "source": [
    "We reshape the data to flatten the image pixels into a set of features or co-variates:"
   ]
  },
  {
   "cell_type": "code",
   "execution_count": 14,
   "id": "5286a4a3",
   "metadata": {
    "execution": {
     "iopub.execute_input": "2022-09-28T20:12:33.414834Z",
     "iopub.status.busy": "2022-09-28T20:12:33.414059Z",
     "iopub.status.idle": "2022-09-28T20:12:33.430600Z",
     "shell.execute_reply": "2022-09-28T20:12:33.431171Z"
    },
    "papermill": {
     "duration": 0.052606,
     "end_time": "2022-09-28T20:12:33.431333",
     "exception": false,
     "start_time": "2022-09-28T20:12:33.378727",
     "status": "completed"
    },
    "tags": []
   },
   "outputs": [
    {
     "data": {
      "text/plain": [
       "((11982, 784), (1984, 784))"
      ]
     },
     "execution_count": 14,
     "metadata": {},
     "output_type": "execute_result"
    }
   ],
   "source": [
    "X_train = X_train.reshape(X_train.shape[0], -1)\n",
    "X_test = X_test.reshape(X_test.shape[0], -1)\n",
    "X_train.shape, X_test.shape"
   ]
  },
  {
   "cell_type": "code",
   "execution_count": 15,
   "id": "73c5f88a",
   "metadata": {
    "execution": {
     "iopub.execute_input": "2022-09-28T20:12:33.499137Z",
     "iopub.status.busy": "2022-09-28T20:12:33.498420Z",
     "iopub.status.idle": "2022-09-28T20:12:33.522395Z",
     "shell.execute_reply": "2022-09-28T20:12:33.521541Z"
    },
    "papermill": {
     "duration": 0.060353,
     "end_time": "2022-09-28T20:12:33.522553",
     "exception": false,
     "start_time": "2022-09-28T20:12:33.462200",
     "status": "completed"
    },
    "tags": []
   },
   "outputs": [],
   "source": [
    "#Impoting functions from 'Kudzu'\n",
    "from kudzu.model import Model\n",
    "from kudzu.train import Learner\n",
    "from kudzu.optim import GD\n",
    "from kudzu.data import Data, Sampler,Dataloader\n",
    "\n",
    "from kudzu.callbacks import AccCallback\n",
    "from kudzu.callbacks import ClfCallback\n",
    "\n",
    "from kudzu.loss import MSE\n",
    "\n",
    "from kudzu.layer import Sigmoid,Relu\n",
    "from kudzu.layer import Affine"
   ]
  },
  {
   "cell_type": "markdown",
   "id": "bc01172a",
   "metadata": {
    "papermill": {
     "duration": 0.030256,
     "end_time": "2022-09-28T20:12:33.583736",
     "exception": false,
     "start_time": "2022-09-28T20:12:33.553480",
     "status": "completed"
    },
    "tags": []
   },
   "source": [
    "### Let us create a `Config` class, to store important parameters. \n",
    "This class essentially plays the role of a dictionary."
   ]
  },
  {
   "cell_type": "code",
   "execution_count": 16,
   "id": "978281aa",
   "metadata": {
    "execution": {
     "iopub.execute_input": "2022-09-28T20:12:33.648554Z",
     "iopub.status.busy": "2022-09-28T20:12:33.647856Z",
     "iopub.status.idle": "2022-09-28T20:12:33.662107Z",
     "shell.execute_reply": "2022-09-28T20:12:33.661584Z"
    },
    "papermill": {
     "duration": 0.048852,
     "end_time": "2022-09-28T20:12:33.662259",
     "exception": false,
     "start_time": "2022-09-28T20:12:33.613407",
     "status": "completed"
    },
    "tags": []
   },
   "outputs": [],
   "source": [
    "class Config:\n",
    "    pass\n",
    "config = Config()\n",
    "config.lr = 0.001\n",
    "config.num_epochs = 250\n",
    "config.bs = 50"
   ]
  },
  {
   "cell_type": "markdown",
   "id": "1385fa59",
   "metadata": {
    "papermill": {
     "duration": 0.03003,
     "end_time": "2022-09-28T20:12:33.722510",
     "exception": false,
     "start_time": "2022-09-28T20:12:33.692480",
     "status": "completed"
    },
    "tags": []
   },
   "source": [
    "### Running Models with the Training data\n",
    "Details about the network layers:\n",
    "- A first affine layer has 784 inputs and does 100 affine transforms. These are followed by a Relu\n",
    "- A second affine layer has 100 inputs from the 100 activations of the past layer, and does 100 affine transforms. These are followed by a Relu\n",
    "- A third affine layer has 100 activations and does 2 affine transformations to create an embedding for visualization. There is no non-linearity here.\n",
    "- A final \"logistic regression\" which has an affine transform from 2 inputs to 1 output, which is squeezed through a sigmoid.\n"
   ]
  },
  {
   "cell_type": "code",
   "execution_count": 17,
   "id": "2b9c66db",
   "metadata": {
    "execution": {
     "iopub.execute_input": "2022-09-28T20:12:33.790481Z",
     "iopub.status.busy": "2022-09-28T20:12:33.789747Z",
     "iopub.status.idle": "2022-09-28T20:12:33.803481Z",
     "shell.execute_reply": "2022-09-28T20:12:33.802804Z"
    },
    "papermill": {
     "duration": 0.050536,
     "end_time": "2022-09-28T20:12:33.803614",
     "exception": false,
     "start_time": "2022-09-28T20:12:33.753078",
     "status": "completed"
    },
    "tags": []
   },
   "outputs": [],
   "source": [
    "data = Data(X_train, y_train.reshape(-1,1))\n",
    "sampler = Sampler(data, config.bs, shuffle=True)\n",
    "\n",
    "dl = Dataloader(data, sampler)\n",
    "\n",
    "opt = GD(config.lr)\n",
    "loss = MSE()"
   ]
  },
  {
   "cell_type": "code",
   "execution_count": 18,
   "id": "b275e4c2",
   "metadata": {
    "execution": {
     "iopub.execute_input": "2022-09-28T20:12:33.869978Z",
     "iopub.status.busy": "2022-09-28T20:12:33.869252Z",
     "iopub.status.idle": "2022-09-28T20:12:33.886521Z",
     "shell.execute_reply": "2022-09-28T20:12:33.885899Z"
    },
    "papermill": {
     "duration": 0.052578,
     "end_time": "2022-09-28T20:12:33.886662",
     "exception": false,
     "start_time": "2022-09-28T20:12:33.834084",
     "status": "completed"
    },
    "tags": []
   },
   "outputs": [],
   "source": [
    "training_data_x = X_train\n",
    "testing_data_x = X_test\n",
    "training_data_y = y_train.reshape(-1,1)\n",
    "testing_data_y = y_test.reshape(-1,1)"
   ]
  },
  {
   "cell_type": "code",
   "execution_count": 19,
   "id": "76951160",
   "metadata": {
    "execution": {
     "iopub.execute_input": "2022-09-28T20:12:33.953987Z",
     "iopub.status.busy": "2022-09-28T20:12:33.953268Z",
     "iopub.status.idle": "2022-09-28T20:12:33.973983Z",
     "shell.execute_reply": "2022-09-28T20:12:33.973314Z"
    },
    "papermill": {
     "duration": 0.056626,
     "end_time": "2022-09-28T20:12:33.974117",
     "exception": false,
     "start_time": "2022-09-28T20:12:33.917491",
     "status": "completed"
    },
    "tags": []
   },
   "outputs": [
    {
     "name": "stdout",
     "output_type": "stream",
     "text": [
      "xavier\n",
      "xavier\n",
      "xavier\n",
      "xavier\n",
      "xavier\n"
     ]
    }
   ],
   "source": [
    "layers = [Affine(\"first\", 784, 100), Relu(\"first\"), Affine(\"second\", 100, 100), Relu(\"second\"), Affine(\"third\", 100, 2), Affine(\"last\", 2, 1), Sigmoid(\"last\")]\n",
    "model_nn = Model(layers)\n",
    "model_lr = Model([Affine(\"logits\", 784, 1), Sigmoid(\"sigmoid\")])"
   ]
  },
  {
   "cell_type": "code",
   "execution_count": 20,
   "id": "6eede77a",
   "metadata": {
    "execution": {
     "iopub.execute_input": "2022-09-28T20:12:34.040016Z",
     "iopub.status.busy": "2022-09-28T20:12:34.039321Z",
     "iopub.status.idle": "2022-09-28T20:12:34.053794Z",
     "shell.execute_reply": "2022-09-28T20:12:34.053233Z"
    },
    "papermill": {
     "duration": 0.049255,
     "end_time": "2022-09-28T20:12:34.053925",
     "exception": false,
     "start_time": "2022-09-28T20:12:34.004670",
     "status": "completed"
    },
    "tags": []
   },
   "outputs": [],
   "source": [
    "nn_learner = Learner(loss, model_nn, opt, config.num_epochs)\n",
    "acc_nn = ClfCallback(nn_learner, config.bs, training_data_x , testing_data_x, training_data_y, testing_data_y)\n",
    "nn_learner.set_callbacks([acc_nn])"
   ]
  },
  {
   "cell_type": "code",
   "execution_count": 21,
   "id": "877b6cc7",
   "metadata": {
    "execution": {
     "iopub.execute_input": "2022-09-28T20:12:34.120700Z",
     "iopub.status.busy": "2022-09-28T20:12:34.120008Z",
     "iopub.status.idle": "2022-09-28T20:12:34.134884Z",
     "shell.execute_reply": "2022-09-28T20:12:34.135425Z"
    },
    "papermill": {
     "duration": 0.050992,
     "end_time": "2022-09-28T20:12:34.135581",
     "exception": false,
     "start_time": "2022-09-28T20:12:34.084589",
     "status": "completed"
    },
    "tags": []
   },
   "outputs": [],
   "source": [
    "lr_learner = Learner(loss, model_lr, opt, config.num_epochs)\n",
    "acc_lr = ClfCallback(lr_learner, config.bs, training_data_x , testing_data_x, training_data_y, testing_data_y)\n",
    "lr_learner.set_callbacks([acc_lr])"
   ]
  },
  {
   "cell_type": "code",
   "execution_count": 22,
   "id": "d9b133c3",
   "metadata": {
    "execution": {
     "iopub.execute_input": "2022-09-28T20:12:34.203354Z",
     "iopub.status.busy": "2022-09-28T20:12:34.202650Z",
     "iopub.status.idle": "2022-09-28T20:14:03.357837Z",
     "shell.execute_reply": "2022-09-28T20:14:03.358524Z"
    },
    "papermill": {
     "duration": 89.192294,
     "end_time": "2022-09-28T20:14:03.358684",
     "exception": false,
     "start_time": "2022-09-28T20:12:34.166390",
     "status": "completed"
    },
    "tags": []
   },
   "outputs": [
    {
     "name": "stdout",
     "output_type": "stream",
     "text": [
      "Epoch 0, Loss 0.2454\n",
      "Training Accuracy: 0.6409, Testing Accuracy: 0.6220\n",
      "\n"
     ]
    },
    {
     "name": "stdout",
     "output_type": "stream",
     "text": [
      "Epoch 10, Loss 0.1835\n",
      "Training Accuracy: 0.8944, Testing Accuracy: 0.9057\n",
      "\n"
     ]
    },
    {
     "name": "stdout",
     "output_type": "stream",
     "text": [
      "Epoch 20, Loss 0.0919\n",
      "Training Accuracy: 0.9170, Testing Accuracy: 0.9249\n",
      "\n"
     ]
    },
    {
     "name": "stdout",
     "output_type": "stream",
     "text": [
      "Epoch 30, Loss 0.0601\n",
      "Training Accuracy: 0.9361, Testing Accuracy: 0.9461\n",
      "\n"
     ]
    },
    {
     "name": "stdout",
     "output_type": "stream",
     "text": [
      "Epoch 40, Loss 0.0475\n",
      "Training Accuracy: 0.9471, Testing Accuracy: 0.9597\n",
      "\n"
     ]
    },
    {
     "name": "stdout",
     "output_type": "stream",
     "text": [
      "Epoch 50, Loss 0.041\n",
      "Training Accuracy: 0.9528, Testing Accuracy: 0.9647\n",
      "\n"
     ]
    },
    {
     "name": "stdout",
     "output_type": "stream",
     "text": [
      "Epoch 60, Loss 0.0371\n",
      "Training Accuracy: 0.9567, Testing Accuracy: 0.9637\n",
      "\n"
     ]
    },
    {
     "name": "stdout",
     "output_type": "stream",
     "text": [
      "Epoch 70, Loss 0.0343\n",
      "Training Accuracy: 0.9596, Testing Accuracy: 0.9642\n",
      "\n"
     ]
    },
    {
     "name": "stdout",
     "output_type": "stream",
     "text": [
      "Epoch 80, Loss 0.0323\n",
      "Training Accuracy: 0.9622, Testing Accuracy: 0.9672\n",
      "\n"
     ]
    },
    {
     "name": "stdout",
     "output_type": "stream",
     "text": [
      "Epoch 90, Loss 0.0307\n",
      "Training Accuracy: 0.9636, Testing Accuracy: 0.9703\n",
      "\n"
     ]
    },
    {
     "name": "stdout",
     "output_type": "stream",
     "text": [
      "Epoch 100, Loss 0.0295\n",
      "Training Accuracy: 0.9654, Testing Accuracy: 0.9703\n",
      "\n"
     ]
    },
    {
     "name": "stdout",
     "output_type": "stream",
     "text": [
      "Epoch 110, Loss 0.0284\n",
      "Training Accuracy: 0.9667, Testing Accuracy: 0.9713\n",
      "\n"
     ]
    },
    {
     "name": "stdout",
     "output_type": "stream",
     "text": [
      "Epoch 120, Loss 0.0275\n",
      "Training Accuracy: 0.9678, Testing Accuracy: 0.9728\n",
      "\n"
     ]
    },
    {
     "name": "stdout",
     "output_type": "stream",
     "text": [
      "Epoch 130, Loss 0.0266\n",
      "Training Accuracy: 0.9689, Testing Accuracy: 0.9718\n",
      "\n"
     ]
    },
    {
     "name": "stdout",
     "output_type": "stream",
     "text": [
      "Epoch 140, Loss 0.0259\n",
      "Training Accuracy: 0.9698, Testing Accuracy: 0.9713\n",
      "\n"
     ]
    },
    {
     "name": "stdout",
     "output_type": "stream",
     "text": [
      "Epoch 150, Loss 0.0253\n",
      "Training Accuracy: 0.9705, Testing Accuracy: 0.9713\n",
      "\n"
     ]
    },
    {
     "name": "stdout",
     "output_type": "stream",
     "text": [
      "Epoch 160, Loss 0.0247\n",
      "Training Accuracy: 0.9710, Testing Accuracy: 0.9723\n",
      "\n"
     ]
    },
    {
     "name": "stdout",
     "output_type": "stream",
     "text": [
      "Epoch 170, Loss 0.0241\n",
      "Training Accuracy: 0.9720, Testing Accuracy: 0.9723\n",
      "\n"
     ]
    },
    {
     "name": "stdout",
     "output_type": "stream",
     "text": [
      "Epoch 180, Loss 0.0236\n",
      "Training Accuracy: 0.9729, Testing Accuracy: 0.9723\n",
      "\n"
     ]
    },
    {
     "name": "stdout",
     "output_type": "stream",
     "text": [
      "Epoch 190, Loss 0.0232\n",
      "Training Accuracy: 0.9735, Testing Accuracy: 0.9723\n",
      "\n"
     ]
    },
    {
     "name": "stdout",
     "output_type": "stream",
     "text": [
      "Epoch 200, Loss 0.0227\n",
      "Training Accuracy: 0.9741, Testing Accuracy: 0.9718\n",
      "\n"
     ]
    },
    {
     "name": "stdout",
     "output_type": "stream",
     "text": [
      "Epoch 210, Loss 0.0223\n",
      "Training Accuracy: 0.9744, Testing Accuracy: 0.9718\n",
      "\n"
     ]
    },
    {
     "name": "stdout",
     "output_type": "stream",
     "text": [
      "Epoch 220, Loss 0.0219\n",
      "Training Accuracy: 0.9747, Testing Accuracy: 0.9723\n",
      "\n"
     ]
    },
    {
     "name": "stdout",
     "output_type": "stream",
     "text": [
      "Epoch 230, Loss 0.0215\n",
      "Training Accuracy: 0.9751, Testing Accuracy: 0.9723\n",
      "\n"
     ]
    },
    {
     "name": "stdout",
     "output_type": "stream",
     "text": [
      "Epoch 240, Loss 0.0212\n",
      "Training Accuracy: 0.9758, Testing Accuracy: 0.9728\n",
      "\n"
     ]
    },
    {
     "data": {
      "text/plain": [
       "0.022088315282416213"
      ]
     },
     "execution_count": 22,
     "metadata": {},
     "output_type": "execute_result"
    }
   ],
   "source": [
    "nn_learner.train_loop(dl)"
   ]
  },
  {
   "cell_type": "code",
   "execution_count": 23,
   "id": "e0163366",
   "metadata": {
    "execution": {
     "iopub.execute_input": "2022-09-28T20:14:03.448409Z",
     "iopub.status.busy": "2022-09-28T20:14:03.447634Z",
     "iopub.status.idle": "2022-09-28T20:14:19.371633Z",
     "shell.execute_reply": "2022-09-28T20:14:19.372645Z"
    },
    "papermill": {
     "duration": 15.975238,
     "end_time": "2022-09-28T20:14:19.372811",
     "exception": false,
     "start_time": "2022-09-28T20:14:03.397573",
     "status": "completed"
    },
    "tags": []
   },
   "outputs": [
    {
     "name": "stdout",
     "output_type": "stream",
     "text": [
      "Epoch 0, Loss 0.259\n",
      "Training Accuracy: 0.6061, Testing Accuracy: 0.5882\n",
      "\n"
     ]
    },
    {
     "name": "stdout",
     "output_type": "stream",
     "text": [
      "Epoch 10, Loss 0.109\n",
      "Training Accuracy: 0.9001, Testing Accuracy: 0.9098\n",
      "\n"
     ]
    },
    {
     "name": "stdout",
     "output_type": "stream",
     "text": [
      "Epoch 20, Loss 0.0821\n",
      "Training Accuracy: 0.9241, Testing Accuracy: 0.9309\n",
      "\n"
     ]
    },
    {
     "name": "stdout",
     "output_type": "stream",
     "text": [
      "Epoch 30, Loss 0.0698\n",
      "Training Accuracy: 0.9353, Testing Accuracy: 0.9456\n",
      "\n"
     ]
    },
    {
     "name": "stdout",
     "output_type": "stream",
     "text": [
      "Epoch 40, Loss 0.0626\n",
      "Training Accuracy: 0.9417, Testing Accuracy: 0.9516\n",
      "\n"
     ]
    },
    {
     "name": "stdout",
     "output_type": "stream",
     "text": [
      "Epoch 50, Loss 0.0577\n",
      "Training Accuracy: 0.9450, Testing Accuracy: 0.9541\n",
      "\n"
     ]
    },
    {
     "name": "stdout",
     "output_type": "stream",
     "text": [
      "Epoch 60, Loss 0.0542\n",
      "Training Accuracy: 0.9475, Testing Accuracy: 0.9582\n",
      "\n"
     ]
    },
    {
     "name": "stdout",
     "output_type": "stream",
     "text": [
      "Epoch 70, Loss 0.0514\n",
      "Training Accuracy: 0.9490, Testing Accuracy: 0.9582\n",
      "\n"
     ]
    },
    {
     "name": "stdout",
     "output_type": "stream",
     "text": [
      "Epoch 80, Loss 0.0493\n",
      "Training Accuracy: 0.9509, Testing Accuracy: 0.9607\n",
      "\n"
     ]
    },
    {
     "name": "stdout",
     "output_type": "stream",
     "text": [
      "Epoch 90, Loss 0.0475\n",
      "Training Accuracy: 0.9523, Testing Accuracy: 0.9612\n",
      "\n"
     ]
    },
    {
     "name": "stdout",
     "output_type": "stream",
     "text": [
      "Epoch 100, Loss 0.0461\n",
      "Training Accuracy: 0.9533, Testing Accuracy: 0.9617\n",
      "\n"
     ]
    },
    {
     "name": "stdout",
     "output_type": "stream",
     "text": [
      "Epoch 110, Loss 0.0448\n",
      "Training Accuracy: 0.9546, Testing Accuracy: 0.9627\n",
      "\n"
     ]
    },
    {
     "name": "stdout",
     "output_type": "stream",
     "text": [
      "Epoch 120, Loss 0.0437\n",
      "Training Accuracy: 0.9559, Testing Accuracy: 0.9627\n",
      "\n"
     ]
    },
    {
     "name": "stdout",
     "output_type": "stream",
     "text": [
      "Epoch 130, Loss 0.0428\n",
      "Training Accuracy: 0.9566, Testing Accuracy: 0.9647\n",
      "\n"
     ]
    },
    {
     "name": "stdout",
     "output_type": "stream",
     "text": [
      "Epoch 140, Loss 0.0419\n",
      "Training Accuracy: 0.9571, Testing Accuracy: 0.9642\n",
      "\n"
     ]
    },
    {
     "name": "stdout",
     "output_type": "stream",
     "text": [
      "Epoch 150, Loss 0.0412\n",
      "Training Accuracy: 0.9575, Testing Accuracy: 0.9642\n",
      "\n"
     ]
    },
    {
     "name": "stdout",
     "output_type": "stream",
     "text": [
      "Epoch 160, Loss 0.0405\n",
      "Training Accuracy: 0.9579, Testing Accuracy: 0.9647\n",
      "\n"
     ]
    },
    {
     "name": "stdout",
     "output_type": "stream",
     "text": [
      "Epoch 170, Loss 0.0399\n",
      "Training Accuracy: 0.9585, Testing Accuracy: 0.9647\n",
      "\n"
     ]
    },
    {
     "name": "stdout",
     "output_type": "stream",
     "text": [
      "Epoch 180, Loss 0.0393\n",
      "Training Accuracy: 0.9589, Testing Accuracy: 0.9647\n",
      "\n"
     ]
    },
    {
     "name": "stdout",
     "output_type": "stream",
     "text": [
      "Epoch 190, Loss 0.0388\n",
      "Training Accuracy: 0.9592, Testing Accuracy: 0.9652\n",
      "\n"
     ]
    },
    {
     "name": "stdout",
     "output_type": "stream",
     "text": [
      "Epoch 200, Loss 0.0383\n",
      "Training Accuracy: 0.9594, Testing Accuracy: 0.9657\n",
      "\n"
     ]
    },
    {
     "name": "stdout",
     "output_type": "stream",
     "text": [
      "Epoch 210, Loss 0.0379\n",
      "Training Accuracy: 0.9596, Testing Accuracy: 0.9667\n",
      "\n"
     ]
    },
    {
     "name": "stdout",
     "output_type": "stream",
     "text": [
      "Epoch 220, Loss 0.0375\n",
      "Training Accuracy: 0.9598, Testing Accuracy: 0.9667\n",
      "\n"
     ]
    },
    {
     "name": "stdout",
     "output_type": "stream",
     "text": [
      "Epoch 230, Loss 0.0371\n",
      "Training Accuracy: 0.9599, Testing Accuracy: 0.9667\n",
      "\n"
     ]
    },
    {
     "name": "stdout",
     "output_type": "stream",
     "text": [
      "Epoch 240, Loss 0.0367\n",
      "Training Accuracy: 0.9599, Testing Accuracy: 0.9677\n",
      "\n"
     ]
    },
    {
     "data": {
      "text/plain": [
       "0.08431841771613768"
      ]
     },
     "execution_count": 23,
     "metadata": {},
     "output_type": "execute_result"
    }
   ],
   "source": [
    "lr_learner.train_loop(dl)"
   ]
  },
  {
   "cell_type": "code",
   "execution_count": 24,
   "id": "ca410940",
   "metadata": {
    "execution": {
     "iopub.execute_input": "2022-09-28T20:14:19.480166Z",
     "iopub.status.busy": "2022-09-28T20:14:19.479447Z",
     "iopub.status.idle": "2022-09-28T20:14:19.753673Z",
     "shell.execute_reply": "2022-09-28T20:14:19.753102Z"
    },
    "papermill": {
     "duration": 0.333923,
     "end_time": "2022-09-28T20:14:19.753807",
     "exception": false,
     "start_time": "2022-09-28T20:14:19.419884",
     "status": "completed"
    },
    "tags": []
   },
   "outputs": [
    {
     "data": {
      "text/plain": [
       "<matplotlib.legend.Legend at 0x7f01859c22b0>"
      ]
     },
     "execution_count": 24,
     "metadata": {},
     "output_type": "execute_result"
    },
    {
     "data": {
      "image/png": "[encoded data removed]",
      "text/plain": [
       "<Figure size 1080x720 with 1 Axes>"
      ]
     },
     "metadata": {
      "needs_background": "light"
     },
     "output_type": "display_data"
    }
   ],
   "source": [
    "#comparing the results of NN and LR\n",
    "plt.figure(figsize=(15,10))\n",
    "\n",
    "# Neural Network plots\n",
    "plt.plot(acc_nn.accuracies, 'r-', label = \"Training Accuracies - NN\")\n",
    "plt.plot(acc_nn.test_accuracies, 'g-', label = \"Testing Accuracies - NN\")\n",
    "\n",
    "# Logistic Regression plots\n",
    "plt.plot(acc_lr.accuracies, 'k-', label = \"Training Accuracies - LR\")\n",
    "plt.plot(acc_lr.test_accuracies, 'b-', label = \"Testing Accuracies - LR\")\n",
    "plt.legend()"
   ]
  },
  {
   "cell_type": "markdown",
   "id": "80dfb35c",
   "metadata": {
    "papermill": {
     "duration": 0.048527,
     "end_time": "2022-09-28T20:14:19.850652",
     "exception": false,
     "start_time": "2022-09-28T20:14:19.802125",
     "status": "completed"
    },
    "tags": []
   },
   "source": [
    "#### Plotting the outputs of this layer of the NN.\n"
   ]
  },
  {
   "cell_type": "code",
   "execution_count": 25,
   "id": "45eb2ff5",
   "metadata": {
    "execution": {
     "iopub.execute_input": "2022-09-28T20:14:19.951505Z",
     "iopub.status.busy": "2022-09-28T20:14:19.950806Z",
     "iopub.status.idle": "2022-09-28T20:14:19.973864Z",
     "shell.execute_reply": "2022-09-28T20:14:19.973265Z"
    },
    "papermill": {
     "duration": 0.075482,
     "end_time": "2022-09-28T20:14:19.973998",
     "exception": false,
     "start_time": "2022-09-28T20:14:19.898516",
     "status": "completed"
    },
    "tags": []
   },
   "outputs": [],
   "source": [
    "new_model = Model(layers[:-2])\n",
    "testing_plot = new_model(testing_data_x)"
   ]
  },
  {
   "cell_type": "code",
   "execution_count": 26,
   "id": "4c0a5485",
   "metadata": {
    "execution": {
     "iopub.execute_input": "2022-09-28T20:14:20.080707Z",
     "iopub.status.busy": "2022-09-28T20:14:20.079978Z",
     "iopub.status.idle": "2022-09-28T20:14:20.334698Z",
     "shell.execute_reply": "2022-09-28T20:14:20.335380Z"
    },
    "papermill": {
     "duration": 0.313418,
     "end_time": "2022-09-28T20:14:20.335541",
     "exception": false,
     "start_time": "2022-09-28T20:14:20.022123",
     "status": "completed"
    },
    "tags": []
   },
   "outputs": [
    {
     "data": {
      "text/plain": [
       "Text(0.5, 1.0, 'Outputs')"
      ]
     },
     "execution_count": 26,
     "metadata": {},
     "output_type": "execute_result"
    },
    {
     "data": {
      "image/png": "[encoded data removed]",
      "text/plain": [
       "<Figure size 576x504 with 1 Axes>"
      ]
     },
     "metadata": {
      "needs_background": "light"
     },
     "output_type": "display_data"
    }
   ],
   "source": [
    "# Plotting the scatter plot of points and color coding by class\n",
    "plt.figure(figsize=(8,7))\n",
    "plt.scatter(testing_plot[:,0], testing_plot[:,1], alpha = 0.1, c = y_test.ravel());\n",
    "plt.title('Outputs')"
   ]
  },
  {
   "cell_type": "markdown",
   "id": "a74fcf8f",
   "metadata": {
    "papermill": {
     "duration": 0.052338,
     "end_time": "2022-09-28T20:14:20.438738",
     "exception": false,
     "start_time": "2022-09-28T20:14:20.386400",
     "status": "completed"
    },
    "tags": []
   },
   "source": [
    "Probability contours"
   ]
  },
  {
   "cell_type": "code",
   "execution_count": 27,
   "id": "d0afc8e3",
   "metadata": {
    "execution": {
     "iopub.execute_input": "2022-09-28T20:14:20.580523Z",
     "iopub.status.busy": "2022-09-28T20:14:20.579839Z",
     "iopub.status.idle": "2022-09-28T20:14:20.594858Z",
     "shell.execute_reply": "2022-09-28T20:14:20.594251Z"
    },
    "papermill": {
     "duration": 0.070883,
     "end_time": "2022-09-28T20:14:20.594986",
     "exception": false,
     "start_time": "2022-09-28T20:14:20.524103",
     "status": "completed"
    },
    "tags": []
   },
   "outputs": [],
   "source": [
    "model_prob = Model(layers[-2:]) "
   ]
  },
  {
   "cell_type": "code",
   "execution_count": 28,
   "id": "9b96e238",
   "metadata": {
    "execution": {
     "iopub.execute_input": "2022-09-28T20:14:20.702153Z",
     "iopub.status.busy": "2022-09-28T20:14:20.701460Z",
     "iopub.status.idle": "2022-09-28T20:14:20.717095Z",
     "shell.execute_reply": "2022-09-28T20:14:20.717617Z"
    },
    "papermill": {
     "duration": 0.072052,
     "end_time": "2022-09-28T20:14:20.717781",
     "exception": false,
     "start_time": "2022-09-28T20:14:20.645729",
     "status": "completed"
    },
    "tags": []
   },
   "outputs": [],
   "source": [
    "#creating the x and y ranges according to the above generated plot.\n",
    "x_range = np.linspace(-4, 1, 100) \n",
    "y_range = np.linspace(-6, 6, 100) \n",
    "x_grid, y_grid = np.meshgrid(x_range, y_range) # x_grid and y_grig are of size 100 X 100\n",
    "\n",
    "# converting x_grid and y_grid to continuous arrays\n",
    "x_gridflat = np.ravel(x_grid)\n",
    "y_gridflat = np.ravel(y_grid)\n",
    "\n",
    "# The last layer of the current model takes two columns as input. Hence transpose of np.vstack() is required.\n",
    "X = np.vstack((x_gridflat, y_gridflat)).T\n",
    "\n",
    "prob_contour = model_prob(X).reshape(100,100) "
   ]
  },
  {
   "cell_type": "code",
   "execution_count": 29,
   "id": "da72499a",
   "metadata": {
    "execution": {
     "iopub.execute_input": "2022-09-28T20:14:20.832562Z",
     "iopub.status.busy": "2022-09-28T20:14:20.831871Z",
     "iopub.status.idle": "2022-09-28T20:14:21.124511Z",
     "shell.execute_reply": "2022-09-28T20:14:21.125040Z"
    },
    "papermill": {
     "duration": 0.353598,
     "end_time": "2022-09-28T20:14:21.125193",
     "exception": false,
     "start_time": "2022-09-28T20:14:20.771595",
     "status": "completed"
    },
    "tags": []
   },
   "outputs": [
    {
     "data": {
      "image/png": "[encoded data removed]",
      "text/plain": [
       "<Figure size 720x648 with 1 Axes>"
      ]
     },
     "metadata": {
      "needs_background": "light"
     },
     "output_type": "display_data"
    }
   ],
   "source": [
    "plt.figure(figsize=(10,9))\n",
    "plt.scatter(testing_plot[:,0], testing_plot[:,1], alpha = 0.1, c = y_test.ravel())\n",
    "contours = plt.contour(x_grid,y_grid,prob_contour)\n",
    "plt.title('Probability Contours')\n",
    "plt.clabel(contours, inline = True );"
   ]
  },
  {
   "cell_type": "code",
   "execution_count": null,
   "id": "e81b4ac7",
   "metadata": {
    "papermill": {
     "duration": 0.0568,
     "end_time": "2022-09-28T20:14:21.239605",
     "exception": false,
     "start_time": "2022-09-28T20:14:21.182805",
     "status": "completed"
    },
    "tags": []
   },
   "outputs": [],
   "source": []
  }
 ],
 "metadata": {
  "kernelspec": {
   "display_name": "Python 3",
   "language": "python",
   "name": "python3"
  },
  "language_info": {
   "codemirror_mode": {
    "name": "ipython",
    "version": 3
   },
   "file_extension": ".py",
   "mimetype": "text/x-python",
   "name": "python",
   "nbconvert_exporter": "python",
   "pygments_lexer": "ipython3",
   "version": "3.6.15"
  },
  "papermill": {
   "default_parameters": {},
   "duration": 115.000605,
   "end_time": "2022-09-28T20:14:21.820883",
   "environment_variables": {},
   "exception": null,
   "input_path": "2020-08-11-part2.ipynb",
   "output_path": "2020-08-11-part2.ipynb",
   "parameters": {},
   "start_time": "2022-09-28T20:12:26.820278",
   "version": "2.3.3"
  }
 },
 "nbformat": 4,
 "nbformat_minor": 5
}