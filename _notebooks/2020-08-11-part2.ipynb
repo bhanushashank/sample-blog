{
 "cells": [
  {
   "cell_type": "markdown",
   "id": "98380cd3",
   "metadata": {
    "papermill": {
     "duration": 0.028079,
     "end_time": "2022-12-01T10:11:10.412340",
     "exception": false,
     "start_time": "2022-12-01T10:11:10.384261",
     "status": "completed"
    },
    "tags": []
   },
   "source": [
    "# Distinguish Your Own Digits (DYOD)"
   ]
  },
  {
   "cell_type": "markdown",
   "id": "ef31240d",
   "metadata": {
    "papermill": {
     "duration": 0.023776,
     "end_time": "2022-12-01T10:11:10.462214",
     "exception": false,
     "start_time": "2022-12-01T10:11:10.438438",
     "status": "completed"
    },
    "tags": []
   },
   "source": [
    "You are going to write a classifier that distinguishes between the number 3 and number 8."
   ]
  },
  {
   "cell_type": "code",
   "execution_count": 1,
   "id": "b15c8646",
   "metadata": {
    "execution": {
     "iopub.execute_input": "2022-12-01T10:11:10.520403Z",
     "iopub.status.busy": "2022-12-01T10:11:10.517302Z",
     "iopub.status.idle": "2022-12-01T10:11:10.530915Z",
     "shell.execute_reply": "2022-12-01T10:11:10.530331Z"
    },
    "papermill": {
     "duration": 0.045119,
     "end_time": "2022-12-01T10:11:10.531033",
     "exception": false,
     "start_time": "2022-12-01T10:11:10.485914",
     "status": "completed"
    },
    "tags": []
   },
   "outputs": [],
   "source": [
    "%load_ext autoreload\n",
    "%autoreload 2"
   ]
  },
  {
   "cell_type": "code",
   "execution_count": 2,
   "id": "22ef38dc",
   "metadata": {
    "execution": {
     "iopub.execute_input": "2022-12-01T10:11:10.582279Z",
     "iopub.status.busy": "2022-12-01T10:11:10.581704Z",
     "iopub.status.idle": "2022-12-01T10:11:11.110804Z",
     "shell.execute_reply": "2022-12-01T10:11:11.110202Z"
    },
    "papermill": {
     "duration": 0.556137,
     "end_time": "2022-12-01T10:11:11.110950",
     "exception": false,
     "start_time": "2022-12-01T10:11:10.554813",
     "status": "completed"
    },
    "tags": []
   },
   "outputs": [],
   "source": [
    "%matplotlib inline\n",
    "import numpy as np\n",
    "import matplotlib.pyplot as plt\n",
    "import pandas as pd"
   ]
  },
  {
   "cell_type": "markdown",
   "id": "ba036198",
   "metadata": {
    "papermill": {
     "duration": 0.023693,
     "end_time": "2022-12-01T10:11:11.159438",
     "exception": false,
     "start_time": "2022-12-01T10:11:11.135745",
     "status": "completed"
    },
    "tags": []
   },
   "source": [
    "From the command line run `pip install mnist`. This is a library that will help you bring down the mnist dataset. If you run this from a notebook, you need to put  `!pip install mnist` in a cell by itself."
   ]
  },
  {
   "cell_type": "code",
   "execution_count": 3,
   "id": "bb6ad8a1",
   "metadata": {
    "execution": {
     "iopub.execute_input": "2022-12-01T10:11:11.211076Z",
     "iopub.status.busy": "2022-12-01T10:11:11.210477Z",
     "iopub.status.idle": "2022-12-01T10:11:13.713873Z",
     "shell.execute_reply": "2022-12-01T10:11:13.713352Z"
    },
    "papermill": {
     "duration": 2.530723,
     "end_time": "2022-12-01T10:11:13.714003",
     "exception": false,
     "start_time": "2022-12-01T10:11:11.183280",
     "status": "completed"
    },
    "tags": []
   },
   "outputs": [
    {
     "name": "stdout",
     "output_type": "stream",
     "text": [
      "Collecting mnist\r\n",
      "  Downloading mnist-0.2.2-py2.py3-none-any.whl (3.5 kB)\r\n"
     ]
    },
    {
     "name": "stdout",
     "output_type": "stream",
     "text": [
      "Requirement already satisfied: numpy in /opt/hostedtoolcache/Python/3.6.15/x64/lib/python3.6/site-packages (from mnist) (1.19.5)\r\n"
     ]
    },
    {
     "name": "stdout",
     "output_type": "stream",
     "text": [
      "Installing collected packages: mnist\r\n"
     ]
    },
    {
     "name": "stdout",
     "output_type": "stream",
     "text": [
      "Successfully installed mnist-0.2.2\r\n"
     ]
    }
   ],
   "source": [
    "!pip install mnist"
   ]
  },
  {
   "cell_type": "markdown",
   "id": "69df9c9a",
   "metadata": {
    "papermill": {
     "duration": 0.025575,
     "end_time": "2022-12-01T10:11:13.765323",
     "exception": false,
     "start_time": "2022-12-01T10:11:13.739748",
     "status": "completed"
    },
    "tags": []
   },
   "source": [
    "## Preparing the Data"
   ]
  },
  {
   "cell_type": "code",
   "execution_count": 4,
   "id": "7f69d806",
   "metadata": {
    "execution": {
     "iopub.execute_input": "2022-12-01T10:11:13.818888Z",
     "iopub.status.busy": "2022-12-01T10:11:13.818300Z",
     "iopub.status.idle": "2022-12-01T10:11:13.833569Z",
     "shell.execute_reply": "2022-12-01T10:11:13.833002Z"
    },
    "papermill": {
     "duration": 0.043594,
     "end_time": "2022-12-01T10:11:13.833676",
     "exception": false,
     "start_time": "2022-12-01T10:11:13.790082",
     "status": "completed"
    },
    "tags": []
   },
   "outputs": [],
   "source": [
    "import mnist"
   ]
  },
  {
   "cell_type": "code",
   "execution_count": 5,
   "id": "a411e44f",
   "metadata": {
    "execution": {
     "iopub.execute_input": "2022-12-01T10:11:13.891837Z",
     "iopub.status.busy": "2022-12-01T10:11:13.891270Z",
     "iopub.status.idle": "2022-12-01T10:11:14.486273Z",
     "shell.execute_reply": "2022-12-01T10:11:14.485077Z"
    },
    "papermill": {
     "duration": 0.62798,
     "end_time": "2022-12-01T10:11:14.486406",
     "exception": false,
     "start_time": "2022-12-01T10:11:13.858426",
     "status": "completed"
    },
    "tags": []
   },
   "outputs": [],
   "source": [
    "train_images = mnist.train_images()\n",
    "train_labels = mnist.train_labels()"
   ]
  },
  {
   "cell_type": "code",
   "execution_count": 6,
   "id": "dceab3a5",
   "metadata": {
    "execution": {
     "iopub.execute_input": "2022-12-01T10:11:14.540465Z",
     "iopub.status.busy": "2022-12-01T10:11:14.539792Z",
     "iopub.status.idle": "2022-12-01T10:11:14.553849Z",
     "shell.execute_reply": "2022-12-01T10:11:14.554394Z"
    },
    "papermill": {
     "duration": 0.042999,
     "end_time": "2022-12-01T10:11:14.554521",
     "exception": false,
     "start_time": "2022-12-01T10:11:14.511522",
     "status": "completed"
    },
    "tags": []
   },
   "outputs": [
    {
     "data": {
      "text/plain": [
       "((60000, 28, 28), (60000,))"
      ]
     },
     "execution_count": 6,
     "metadata": {},
     "output_type": "execute_result"
    }
   ],
   "source": [
    "train_images.shape, train_labels.shape"
   ]
  },
  {
   "cell_type": "code",
   "execution_count": 7,
   "id": "f50dc2bb",
   "metadata": {
    "execution": {
     "iopub.execute_input": "2022-12-01T10:11:14.620135Z",
     "iopub.status.busy": "2022-12-01T10:11:14.616612Z",
     "iopub.status.idle": "2022-12-01T10:11:14.715995Z",
     "shell.execute_reply": "2022-12-01T10:11:14.715369Z"
    },
    "papermill": {
     "duration": 0.13652,
     "end_time": "2022-12-01T10:11:14.716133",
     "exception": false,
     "start_time": "2022-12-01T10:11:14.579613",
     "status": "completed"
    },
    "tags": []
   },
   "outputs": [],
   "source": [
    "test_images = mnist.test_images()\n",
    "test_labels = mnist.test_labels()"
   ]
  },
  {
   "cell_type": "code",
   "execution_count": 8,
   "id": "fc38cf1b",
   "metadata": {
    "execution": {
     "iopub.execute_input": "2022-12-01T10:11:14.770923Z",
     "iopub.status.busy": "2022-12-01T10:11:14.770330Z",
     "iopub.status.idle": "2022-12-01T10:11:14.783975Z",
     "shell.execute_reply": "2022-12-01T10:11:14.783498Z"
    },
    "papermill": {
     "duration": 0.04225,
     "end_time": "2022-12-01T10:11:14.784086",
     "exception": false,
     "start_time": "2022-12-01T10:11:14.741836",
     "status": "completed"
    },
    "tags": []
   },
   "outputs": [
    {
     "data": {
      "text/plain": [
       "((10000, 28, 28), (10000,))"
      ]
     },
     "execution_count": 8,
     "metadata": {},
     "output_type": "execute_result"
    }
   ],
   "source": [
    "test_images.shape, test_labels.shape"
   ]
  },
  {
   "cell_type": "code",
   "execution_count": 9,
   "id": "f9ed8fe0",
   "metadata": {
    "execution": {
     "iopub.execute_input": "2022-12-01T10:11:14.838104Z",
     "iopub.status.busy": "2022-12-01T10:11:14.837532Z",
     "iopub.status.idle": "2022-12-01T10:11:14.974128Z",
     "shell.execute_reply": "2022-12-01T10:11:14.974647Z"
    },
    "papermill": {
     "duration": 0.165368,
     "end_time": "2022-12-01T10:11:14.974797",
     "exception": false,
     "start_time": "2022-12-01T10:11:14.809429",
     "status": "completed"
    },
    "tags": []
   },
   "outputs": [
    {
     "name": "stdout",
     "output_type": "stream",
     "text": [
      "2\n"
     ]
    },
    {
     "data": {
      "text/plain": [
       "<matplotlib.image.AxesImage at 0x7ff2d075dda0>"
      ]
     },
     "execution_count": 9,
     "metadata": {},
     "output_type": "execute_result"
    },
    {
     "data": {
      "image/png": "[encoded data removed]",
      "text/plain": [
       "<Figure size 432x288 with 1 Axes>"
      ]
     },
     "metadata": {
      "needs_background": "light"
     },
     "output_type": "display_data"
    }
   ],
   "source": [
    "image_index = 7776 # You may select anything up to 60,000\n",
    "print(train_labels[image_index]) \n",
    "plt.imshow(train_images[image_index], cmap='Greys')"
   ]
  },
  {
   "cell_type": "markdown",
   "id": "a8d2388d",
   "metadata": {
    "papermill": {
     "duration": 0.026311,
     "end_time": "2022-12-01T10:11:15.028193",
     "exception": false,
     "start_time": "2022-12-01T10:11:15.001882",
     "status": "completed"
    },
    "tags": []
   },
   "source": [
    "## Filter data to get 3 and 8 out"
   ]
  },
  {
   "cell_type": "code",
   "execution_count": 10,
   "id": "776f7fc7",
   "metadata": {
    "execution": {
     "iopub.execute_input": "2022-12-01T10:11:15.088552Z",
     "iopub.status.busy": "2022-12-01T10:11:15.087927Z",
     "iopub.status.idle": "2022-12-01T10:11:15.102653Z",
     "shell.execute_reply": "2022-12-01T10:11:15.102175Z"
    },
    "papermill": {
     "duration": 0.048502,
     "end_time": "2022-12-01T10:11:15.102760",
     "exception": false,
     "start_time": "2022-12-01T10:11:15.054258",
     "status": "completed"
    },
    "tags": []
   },
   "outputs": [],
   "source": [
    "train_filter = np.where((train_labels == 3 ) | (train_labels == 8))\n",
    "test_filter = np.where((test_labels == 3) | (test_labels == 8))\n",
    "X_train, y_train = train_images[train_filter], train_labels[train_filter]\n",
    "X_test, y_test = test_images[test_filter], test_labels[test_filter]"
   ]
  },
  {
   "cell_type": "markdown",
   "id": "948f0b7e",
   "metadata": {
    "papermill": {
     "duration": 0.025986,
     "end_time": "2022-12-01T10:11:15.155002",
     "exception": false,
     "start_time": "2022-12-01T10:11:15.129016",
     "status": "completed"
    },
    "tags": []
   },
   "source": [
    "We normalize the pizel values in the 0 to 1 range"
   ]
  },
  {
   "cell_type": "code",
   "execution_count": 11,
   "id": "ee4c2166",
   "metadata": {
    "execution": {
     "iopub.execute_input": "2022-12-01T10:11:15.213721Z",
     "iopub.status.busy": "2022-12-01T10:11:15.213143Z",
     "iopub.status.idle": "2022-12-01T10:11:15.256546Z",
     "shell.execute_reply": "2022-12-01T10:11:15.255919Z"
    },
    "papermill": {
     "duration": 0.075563,
     "end_time": "2022-12-01T10:11:15.256693",
     "exception": false,
     "start_time": "2022-12-01T10:11:15.181130",
     "status": "completed"
    },
    "tags": []
   },
   "outputs": [],
   "source": [
    "X_train = X_train/255.\n",
    "X_test = X_test/255."
   ]
  },
  {
   "cell_type": "markdown",
   "id": "ddcf4fab",
   "metadata": {
    "papermill": {
     "duration": 0.026325,
     "end_time": "2022-12-01T10:11:15.310637",
     "exception": false,
     "start_time": "2022-12-01T10:11:15.284312",
     "status": "completed"
    },
    "tags": []
   },
   "source": [
    "And setup the labels as 1 (when the digit is 3) and 0 (when the digit is 8)"
   ]
  },
  {
   "cell_type": "code",
   "execution_count": 12,
   "id": "7dc908f2",
   "metadata": {
    "execution": {
     "iopub.execute_input": "2022-12-01T10:11:15.368716Z",
     "iopub.status.busy": "2022-12-01T10:11:15.368106Z",
     "iopub.status.idle": "2022-12-01T10:11:15.379638Z",
     "shell.execute_reply": "2022-12-01T10:11:15.379064Z"
    },
    "papermill": {
     "duration": 0.042947,
     "end_time": "2022-12-01T10:11:15.379748",
     "exception": false,
     "start_time": "2022-12-01T10:11:15.336801",
     "status": "completed"
    },
    "tags": []
   },
   "outputs": [],
   "source": [
    "y_train = 1*(y_train==3)\n",
    "y_test = 1*(y_test==3)"
   ]
  },
  {
   "cell_type": "code",
   "execution_count": 13,
   "id": "01e4e969",
   "metadata": {
    "execution": {
     "iopub.execute_input": "2022-12-01T10:11:15.437229Z",
     "iopub.status.busy": "2022-12-01T10:11:15.436649Z",
     "iopub.status.idle": "2022-12-01T10:11:15.448997Z",
     "shell.execute_reply": "2022-12-01T10:11:15.449447Z"
    },
    "papermill": {
     "duration": 0.043577,
     "end_time": "2022-12-01T10:11:15.449569",
     "exception": false,
     "start_time": "2022-12-01T10:11:15.405992",
     "status": "completed"
    },
    "tags": []
   },
   "outputs": [
    {
     "data": {
      "text/plain": [
       "((11982, 28, 28), (1984, 28, 28))"
      ]
     },
     "execution_count": 13,
     "metadata": {},
     "output_type": "execute_result"
    }
   ],
   "source": [
    "X_train.shape, X_test.shape"
   ]
  },
  {
   "cell_type": "markdown",
   "id": "5ccf3f85",
   "metadata": {
    "papermill": {
     "duration": 0.026234,
     "end_time": "2022-12-01T10:11:15.502156",
     "exception": false,
     "start_time": "2022-12-01T10:11:15.475922",
     "status": "completed"
    },
    "tags": []
   },
   "source": [
    "We reshape the data to flatten the image pixels into a set of features or co-variates:"
   ]
  },
  {
   "cell_type": "code",
   "execution_count": 14,
   "id": "5286a4a3",
   "metadata": {
    "execution": {
     "iopub.execute_input": "2022-12-01T10:11:15.559142Z",
     "iopub.status.busy": "2022-12-01T10:11:15.558567Z",
     "iopub.status.idle": "2022-12-01T10:11:15.571518Z",
     "shell.execute_reply": "2022-12-01T10:11:15.572056Z"
    },
    "papermill": {
     "duration": 0.043398,
     "end_time": "2022-12-01T10:11:15.572176",
     "exception": false,
     "start_time": "2022-12-01T10:11:15.528778",
     "status": "completed"
    },
    "tags": []
   },
   "outputs": [
    {
     "data": {
      "text/plain": [
       "((11982, 784), (1984, 784))"
      ]
     },
     "execution_count": 14,
     "metadata": {},
     "output_type": "execute_result"
    }
   ],
   "source": [
    "X_train = X_train.reshape(X_train.shape[0], -1)\n",
    "X_test = X_test.reshape(X_test.shape[0], -1)\n",
    "X_train.shape, X_test.shape"
   ]
  },
  {
   "cell_type": "code",
   "execution_count": 15,
   "id": "73c5f88a",
   "metadata": {
    "execution": {
     "iopub.execute_input": "2022-12-01T10:11:15.631005Z",
     "iopub.status.busy": "2022-12-01T10:11:15.630436Z",
     "iopub.status.idle": "2022-12-01T10:11:15.648699Z",
     "shell.execute_reply": "2022-12-01T10:11:15.648197Z"
    },
    "papermill": {
     "duration": 0.049828,
     "end_time": "2022-12-01T10:11:15.648809",
     "exception": false,
     "start_time": "2022-12-01T10:11:15.598981",
     "status": "completed"
    },
    "tags": []
   },
   "outputs": [],
   "source": [
    "#Impoting functions from 'Kudzu'\n",
    "from kudzu.model import Model\n",
    "from kudzu.train import Learner\n",
    "from kudzu.optim import GD\n",
    "from kudzu.data import Data, Sampler,Dataloader\n",
    "\n",
    "from kudzu.callbacks import AccCallback\n",
    "from kudzu.callbacks import ClfCallback\n",
    "\n",
    "from kudzu.loss import MSE\n",
    "\n",
    "from kudzu.layer import Sigmoid,Relu\n",
    "from kudzu.layer import Affine"
   ]
  },
  {
   "cell_type": "markdown",
   "id": "bc01172a",
   "metadata": {
    "papermill": {
     "duration": 0.026781,
     "end_time": "2022-12-01T10:11:15.702415",
     "exception": false,
     "start_time": "2022-12-01T10:11:15.675634",
     "status": "completed"
    },
    "tags": []
   },
   "source": [
    "### Let us create a `Config` class, to store important parameters. \n",
    "This class essentially plays the role of a dictionary."
   ]
  },
  {
   "cell_type": "code",
   "execution_count": 16,
   "id": "978281aa",
   "metadata": {
    "execution": {
     "iopub.execute_input": "2022-12-01T10:11:15.760716Z",
     "iopub.status.busy": "2022-12-01T10:11:15.760106Z",
     "iopub.status.idle": "2022-12-01T10:11:15.774102Z",
     "shell.execute_reply": "2022-12-01T10:11:15.773563Z"
    },
    "papermill": {
     "duration": 0.045143,
     "end_time": "2022-12-01T10:11:15.774219",
     "exception": false,
     "start_time": "2022-12-01T10:11:15.729076",
     "status": "completed"
    },
    "tags": []
   },
   "outputs": [],
   "source": [
    "class Config:\n",
    "    pass\n",
    "config = Config()\n",
    "config.lr = 0.001\n",
    "config.num_epochs = 250\n",
    "config.bs = 50"
   ]
  },
  {
   "cell_type": "markdown",
   "id": "1385fa59",
   "metadata": {
    "papermill": {
     "duration": 0.026791,
     "end_time": "2022-12-01T10:11:15.828787",
     "exception": false,
     "start_time": "2022-12-01T10:11:15.801996",
     "status": "completed"
    },
    "tags": []
   },
   "source": [
    "### Running Models with the Training data\n",
    "Details about the network layers:\n",
    "- A first affine layer has 784 inputs and does 100 affine transforms. These are followed by a Relu\n",
    "- A second affine layer has 100 inputs from the 100 activations of the past layer, and does 100 affine transforms. These are followed by a Relu\n",
    "- A third affine layer has 100 activations and does 2 affine transformations to create an embedding for visualization. There is no non-linearity here.\n",
    "- A final \"logistic regression\" which has an affine transform from 2 inputs to 1 output, which is squeezed through a sigmoid.\n"
   ]
  },
  {
   "cell_type": "code",
   "execution_count": 17,
   "id": "2b9c66db",
   "metadata": {
    "execution": {
     "iopub.execute_input": "2022-12-01T10:11:15.886764Z",
     "iopub.status.busy": "2022-12-01T10:11:15.886189Z",
     "iopub.status.idle": "2022-12-01T10:11:15.897754Z",
     "shell.execute_reply": "2022-12-01T10:11:15.898294Z"
    },
    "papermill": {
     "duration": 0.043059,
     "end_time": "2022-12-01T10:11:15.898416",
     "exception": false,
     "start_time": "2022-12-01T10:11:15.855357",
     "status": "completed"
    },
    "tags": []
   },
   "outputs": [],
   "source": [
    "data = Data(X_train, y_train.reshape(-1,1))\n",
    "sampler = Sampler(data, config.bs, shuffle=True)\n",
    "\n",
    "dl = Dataloader(data, sampler)\n",
    "\n",
    "opt = GD(config.lr)\n",
    "loss = MSE()"
   ]
  },
  {
   "cell_type": "code",
   "execution_count": 18,
   "id": "b275e4c2",
   "metadata": {
    "execution": {
     "iopub.execute_input": "2022-12-01T10:11:15.955996Z",
     "iopub.status.busy": "2022-12-01T10:11:15.955418Z",
     "iopub.status.idle": "2022-12-01T10:11:15.968028Z",
     "shell.execute_reply": "2022-12-01T10:11:15.967464Z"
    },
    "papermill": {
     "duration": 0.042916,
     "end_time": "2022-12-01T10:11:15.968133",
     "exception": false,
     "start_time": "2022-12-01T10:11:15.925217",
     "status": "completed"
    },
    "tags": []
   },
   "outputs": [],
   "source": [
    "training_data_x = X_train\n",
    "testing_data_x = X_test\n",
    "training_data_y = y_train.reshape(-1,1)\n",
    "testing_data_y = y_test.reshape(-1,1)"
   ]
  },
  {
   "cell_type": "code",
   "execution_count": 19,
   "id": "76951160",
   "metadata": {
    "execution": {
     "iopub.execute_input": "2022-12-01T10:11:16.026032Z",
     "iopub.status.busy": "2022-12-01T10:11:16.025457Z",
     "iopub.status.idle": "2022-12-01T10:11:16.041962Z",
     "shell.execute_reply": "2022-12-01T10:11:16.041400Z"
    },
    "papermill": {
     "duration": 0.04734,
     "end_time": "2022-12-01T10:11:16.042069",
     "exception": false,
     "start_time": "2022-12-01T10:11:15.994729",
     "status": "completed"
    },
    "tags": []
   },
   "outputs": [
    {
     "name": "stdout",
     "output_type": "stream",
     "text": [
      "xavier\n",
      "xavier\n",
      "xavier\n",
      "xavier\n",
      "xavier\n"
     ]
    }
   ],
   "source": [
    "layers = [Affine(\"first\", 784, 100), Relu(\"first\"), Affine(\"second\", 100, 100), Relu(\"second\"), Affine(\"third\", 100, 2), Affine(\"last\", 2, 1), Sigmoid(\"last\")]\n",
    "model_nn = Model(layers)\n",
    "model_lr = Model([Affine(\"logits\", 784, 1), Sigmoid(\"sigmoid\")])"
   ]
  },
  {
   "cell_type": "code",
   "execution_count": 20,
   "id": "6eede77a",
   "metadata": {
    "execution": {
     "iopub.execute_input": "2022-12-01T10:11:16.101773Z",
     "iopub.status.busy": "2022-12-01T10:11:16.101196Z",
     "iopub.status.idle": "2022-12-01T10:11:16.113453Z",
     "shell.execute_reply": "2022-12-01T10:11:16.112882Z"
    },
    "papermill": {
     "duration": 0.044251,
     "end_time": "2022-12-01T10:11:16.113559",
     "exception": false,
     "start_time": "2022-12-01T10:11:16.069308",
     "status": "completed"
    },
    "tags": []
   },
   "outputs": [],
   "source": [
    "nn_learner = Learner(loss, model_nn, opt, config.num_epochs)\n",
    "acc_nn = ClfCallback(nn_learner, config.bs, training_data_x , testing_data_x, training_data_y, testing_data_y)\n",
    "nn_learner.set_callbacks([acc_nn])"
   ]
  },
  {
   "cell_type": "code",
   "execution_count": 21,
   "id": "877b6cc7",
   "metadata": {
    "execution": {
     "iopub.execute_input": "2022-12-01T10:11:16.170375Z",
     "iopub.status.busy": "2022-12-01T10:11:16.169806Z",
     "iopub.status.idle": "2022-12-01T10:11:16.184004Z",
     "shell.execute_reply": "2022-12-01T10:11:16.183443Z"
    },
    "papermill": {
     "duration": 0.043537,
     "end_time": "2022-12-01T10:11:16.184106",
     "exception": false,
     "start_time": "2022-12-01T10:11:16.140569",
     "status": "completed"
    },
    "tags": []
   },
   "outputs": [],
   "source": [
    "lr_learner = Learner(loss, model_lr, opt, config.num_epochs)\n",
    "acc_lr = ClfCallback(lr_learner, config.bs, training_data_x , testing_data_x, training_data_y, testing_data_y)\n",
    "lr_learner.set_callbacks([acc_lr])"
   ]
  },
  {
   "cell_type": "code",
   "execution_count": 22,
   "id": "d9b133c3",
   "metadata": {
    "execution": {
     "iopub.execute_input": "2022-12-01T10:11:16.246235Z",
     "iopub.status.busy": "2022-12-01T10:11:16.245656Z",
     "iopub.status.idle": "2022-12-01T10:12:34.618001Z",
     "shell.execute_reply": "2022-12-01T10:12:34.618865Z"
    },
    "papermill": {
     "duration": 78.407844,
     "end_time": "2022-12-01T10:12:34.619022",
     "exception": false,
     "start_time": "2022-12-01T10:11:16.211178",
     "status": "completed"
    },
    "tags": []
   },
   "outputs": [
    {
     "name": "stdout",
     "output_type": "stream",
     "text": [
      "Epoch 0, Loss 0.2342\n",
      "Training Accuracy: 0.7098, Testing Accuracy: 0.7193\n",
      "\n"
     ]
    },
    {
     "name": "stdout",
     "output_type": "stream",
     "text": [
      "Epoch 10, Loss 0.0893\n",
      "Training Accuracy: 0.9160, Testing Accuracy: 0.9209\n",
      "\n"
     ]
    },
    {
     "name": "stdout",
     "output_type": "stream",
     "text": [
      "Epoch 20, Loss 0.0539\n",
      "Training Accuracy: 0.9452, Testing Accuracy: 0.9506\n",
      "\n"
     ]
    },
    {
     "name": "stdout",
     "output_type": "stream",
     "text": [
      "Epoch 30, Loss 0.042\n",
      "Training Accuracy: 0.9554, Testing Accuracy: 0.9612\n",
      "\n"
     ]
    },
    {
     "name": "stdout",
     "output_type": "stream",
     "text": [
      "Epoch 40, Loss 0.0363\n",
      "Training Accuracy: 0.9600, Testing Accuracy: 0.9642\n",
      "\n"
     ]
    },
    {
     "name": "stdout",
     "output_type": "stream",
     "text": [
      "Epoch 50, Loss 0.0329\n",
      "Training Accuracy: 0.9628, Testing Accuracy: 0.9667\n",
      "\n"
     ]
    },
    {
     "name": "stdout",
     "output_type": "stream",
     "text": [
      "Epoch 60, Loss 0.0305\n",
      "Training Accuracy: 0.9654, Testing Accuracy: 0.9693\n",
      "\n"
     ]
    },
    {
     "name": "stdout",
     "output_type": "stream",
     "text": [
      "Epoch 70, Loss 0.0287\n",
      "Training Accuracy: 0.9672, Testing Accuracy: 0.9708\n",
      "\n"
     ]
    },
    {
     "name": "stdout",
     "output_type": "stream",
     "text": [
      "Epoch 80, Loss 0.0273\n",
      "Training Accuracy: 0.9689, Testing Accuracy: 0.9708\n",
      "\n"
     ]
    },
    {
     "name": "stdout",
     "output_type": "stream",
     "text": [
      "Epoch 90, Loss 0.0261\n",
      "Training Accuracy: 0.9703, Testing Accuracy: 0.9718\n",
      "\n"
     ]
    },
    {
     "name": "stdout",
     "output_type": "stream",
     "text": [
      "Epoch 100, Loss 0.0251\n",
      "Training Accuracy: 0.9716, Testing Accuracy: 0.9718\n",
      "\n"
     ]
    },
    {
     "name": "stdout",
     "output_type": "stream",
     "text": [
      "Epoch 110, Loss 0.0242\n",
      "Training Accuracy: 0.9725, Testing Accuracy: 0.9723\n",
      "\n"
     ]
    },
    {
     "name": "stdout",
     "output_type": "stream",
     "text": [
      "Epoch 120, Loss 0.0234\n",
      "Training Accuracy: 0.9736, Testing Accuracy: 0.9718\n",
      "\n"
     ]
    },
    {
     "name": "stdout",
     "output_type": "stream",
     "text": [
      "Epoch 130, Loss 0.0226\n",
      "Training Accuracy: 0.9745, Testing Accuracy: 0.9733\n",
      "\n"
     ]
    },
    {
     "name": "stdout",
     "output_type": "stream",
     "text": [
      "Epoch 140, Loss 0.022\n",
      "Training Accuracy: 0.9755, Testing Accuracy: 0.9733\n",
      "\n"
     ]
    },
    {
     "name": "stdout",
     "output_type": "stream",
     "text": [
      "Epoch 150, Loss 0.0214\n",
      "Training Accuracy: 0.9761, Testing Accuracy: 0.9733\n",
      "\n"
     ]
    },
    {
     "name": "stdout",
     "output_type": "stream",
     "text": [
      "Epoch 160, Loss 0.0208\n",
      "Training Accuracy: 0.9770, Testing Accuracy: 0.9738\n",
      "\n"
     ]
    },
    {
     "name": "stdout",
     "output_type": "stream",
     "text": [
      "Epoch 170, Loss 0.0203\n",
      "Training Accuracy: 0.9775, Testing Accuracy: 0.9743\n",
      "\n"
     ]
    },
    {
     "name": "stdout",
     "output_type": "stream",
     "text": [
      "Epoch 180, Loss 0.0198\n",
      "Training Accuracy: 0.9784, Testing Accuracy: 0.9743\n",
      "\n"
     ]
    },
    {
     "name": "stdout",
     "output_type": "stream",
     "text": [
      "Epoch 190, Loss 0.0193\n",
      "Training Accuracy: 0.9790, Testing Accuracy: 0.9748\n",
      "\n"
     ]
    },
    {
     "name": "stdout",
     "output_type": "stream",
     "text": [
      "Epoch 200, Loss 0.0189\n",
      "Training Accuracy: 0.9796, Testing Accuracy: 0.9753\n",
      "\n"
     ]
    },
    {
     "name": "stdout",
     "output_type": "stream",
     "text": [
      "Epoch 210, Loss 0.0185\n",
      "Training Accuracy: 0.9802, Testing Accuracy: 0.9753\n",
      "\n"
     ]
    },
    {
     "name": "stdout",
     "output_type": "stream",
     "text": [
      "Epoch 220, Loss 0.0181\n",
      "Training Accuracy: 0.9810, Testing Accuracy: 0.9753\n",
      "\n"
     ]
    },
    {
     "name": "stdout",
     "output_type": "stream",
     "text": [
      "Epoch 230, Loss 0.0177\n",
      "Training Accuracy: 0.9811, Testing Accuracy: 0.9758\n",
      "\n"
     ]
    },
    {
     "name": "stdout",
     "output_type": "stream",
     "text": [
      "Epoch 240, Loss 0.0173\n",
      "Training Accuracy: 0.9813, Testing Accuracy: 0.9763\n",
      "\n"
     ]
    },
    {
     "data": {
      "text/plain": [
       "0.0021502640996463704"
      ]
     },
     "execution_count": 22,
     "metadata": {},
     "output_type": "execute_result"
    }
   ],
   "source": [
    "nn_learner.train_loop(dl)"
   ]
  },
  {
   "cell_type": "code",
   "execution_count": 23,
   "id": "e0163366",
   "metadata": {
    "execution": {
     "iopub.execute_input": "2022-12-01T10:12:34.698033Z",
     "iopub.status.busy": "2022-12-01T10:12:34.697447Z",
     "iopub.status.idle": "2022-12-01T10:12:48.818490Z",
     "shell.execute_reply": "2022-12-01T10:12:48.819351Z"
    },
    "papermill": {
     "duration": 14.16549,
     "end_time": "2022-12-01T10:12:48.819515",
     "exception": false,
     "start_time": "2022-12-01T10:12:34.654025",
     "status": "completed"
    },
    "tags": []
   },
   "outputs": [
    {
     "name": "stdout",
     "output_type": "stream",
     "text": [
      "Epoch 0, Loss 0.2327\n",
      "Training Accuracy: 0.7251, Testing Accuracy: 0.7455\n",
      "\n"
     ]
    },
    {
     "name": "stdout",
     "output_type": "stream",
     "text": [
      "Epoch 10, Loss 0.1026\n",
      "Training Accuracy: 0.9065, Testing Accuracy: 0.9138\n",
      "\n"
     ]
    },
    {
     "name": "stdout",
     "output_type": "stream",
     "text": [
      "Epoch 20, Loss 0.0796\n",
      "Training Accuracy: 0.9252, Testing Accuracy: 0.9299\n",
      "\n"
     ]
    },
    {
     "name": "stdout",
     "output_type": "stream",
     "text": [
      "Epoch 30, Loss 0.0688\n",
      "Training Accuracy: 0.9337, Testing Accuracy: 0.9435\n",
      "\n"
     ]
    },
    {
     "name": "stdout",
     "output_type": "stream",
     "text": [
      "Epoch 40, Loss 0.0622\n",
      "Training Accuracy: 0.9392, Testing Accuracy: 0.9496\n",
      "\n"
     ]
    },
    {
     "name": "stdout",
     "output_type": "stream",
     "text": [
      "Epoch 50, Loss 0.0577\n",
      "Training Accuracy: 0.9425, Testing Accuracy: 0.9526\n",
      "\n"
     ]
    },
    {
     "name": "stdout",
     "output_type": "stream",
     "text": [
      "Epoch 60, Loss 0.0544\n",
      "Training Accuracy: 0.9453, Testing Accuracy: 0.9556\n",
      "\n"
     ]
    },
    {
     "name": "stdout",
     "output_type": "stream",
     "text": [
      "Epoch 70, Loss 0.0518\n",
      "Training Accuracy: 0.9474, Testing Accuracy: 0.9582\n",
      "\n"
     ]
    },
    {
     "name": "stdout",
     "output_type": "stream",
     "text": [
      "Epoch 80, Loss 0.0497\n",
      "Training Accuracy: 0.9496, Testing Accuracy: 0.9582\n",
      "\n"
     ]
    },
    {
     "name": "stdout",
     "output_type": "stream",
     "text": [
      "Epoch 90, Loss 0.048\n",
      "Training Accuracy: 0.9507, Testing Accuracy: 0.9587\n",
      "\n"
     ]
    },
    {
     "name": "stdout",
     "output_type": "stream",
     "text": [
      "Epoch 100, Loss 0.0466\n",
      "Training Accuracy: 0.9518, Testing Accuracy: 0.9602\n",
      "\n"
     ]
    },
    {
     "name": "stdout",
     "output_type": "stream",
     "text": [
      "Epoch 110, Loss 0.0453\n",
      "Training Accuracy: 0.9529, Testing Accuracy: 0.9612\n",
      "\n"
     ]
    },
    {
     "name": "stdout",
     "output_type": "stream",
     "text": [
      "Epoch 120, Loss 0.0442\n",
      "Training Accuracy: 0.9532, Testing Accuracy: 0.9612\n",
      "\n"
     ]
    },
    {
     "name": "stdout",
     "output_type": "stream",
     "text": [
      "Epoch 130, Loss 0.0433\n",
      "Training Accuracy: 0.9540, Testing Accuracy: 0.9617\n",
      "\n"
     ]
    },
    {
     "name": "stdout",
     "output_type": "stream",
     "text": [
      "Epoch 140, Loss 0.0424\n",
      "Training Accuracy: 0.9547, Testing Accuracy: 0.9627\n",
      "\n"
     ]
    },
    {
     "name": "stdout",
     "output_type": "stream",
     "text": [
      "Epoch 150, Loss 0.0417\n",
      "Training Accuracy: 0.9560, Testing Accuracy: 0.9632\n",
      "\n"
     ]
    },
    {
     "name": "stdout",
     "output_type": "stream",
     "text": [
      "Epoch 160, Loss 0.041\n",
      "Training Accuracy: 0.9566, Testing Accuracy: 0.9637\n",
      "\n"
     ]
    },
    {
     "name": "stdout",
     "output_type": "stream",
     "text": [
      "Epoch 170, Loss 0.0404\n",
      "Training Accuracy: 0.9573, Testing Accuracy: 0.9642\n",
      "\n"
     ]
    },
    {
     "name": "stdout",
     "output_type": "stream",
     "text": [
      "Epoch 180, Loss 0.0398\n",
      "Training Accuracy: 0.9575, Testing Accuracy: 0.9647\n",
      "\n"
     ]
    },
    {
     "name": "stdout",
     "output_type": "stream",
     "text": [
      "Epoch 190, Loss 0.0393\n",
      "Training Accuracy: 0.9577, Testing Accuracy: 0.9652\n",
      "\n"
     ]
    },
    {
     "name": "stdout",
     "output_type": "stream",
     "text": [
      "Epoch 200, Loss 0.0388\n",
      "Training Accuracy: 0.9583, Testing Accuracy: 0.9667\n",
      "\n"
     ]
    },
    {
     "name": "stdout",
     "output_type": "stream",
     "text": [
      "Epoch 210, Loss 0.0383\n",
      "Training Accuracy: 0.9589, Testing Accuracy: 0.9662\n",
      "\n"
     ]
    },
    {
     "name": "stdout",
     "output_type": "stream",
     "text": [
      "Epoch 220, Loss 0.0379\n",
      "Training Accuracy: 0.9593, Testing Accuracy: 0.9667\n",
      "\n"
     ]
    },
    {
     "name": "stdout",
     "output_type": "stream",
     "text": [
      "Epoch 230, Loss 0.0375\n",
      "Training Accuracy: 0.9595, Testing Accuracy: 0.9672\n",
      "\n"
     ]
    },
    {
     "name": "stdout",
     "output_type": "stream",
     "text": [
      "Epoch 240, Loss 0.0371\n",
      "Training Accuracy: 0.9596, Testing Accuracy: 0.9672\n",
      "\n"
     ]
    },
    {
     "data": {
      "text/plain": [
       "0.03363867664602217"
      ]
     },
     "execution_count": 23,
     "metadata": {},
     "output_type": "execute_result"
    }
   ],
   "source": [
    "lr_learner.train_loop(dl)"
   ]
  },
  {
   "cell_type": "code",
   "execution_count": 24,
   "id": "ca410940",
   "metadata": {
    "execution": {
     "iopub.execute_input": "2022-12-01T10:12:48.910395Z",
     "iopub.status.busy": "2022-12-01T10:12:48.909800Z",
     "iopub.status.idle": "2022-12-01T10:12:49.136959Z",
     "shell.execute_reply": "2022-12-01T10:12:49.137392Z"
    },
    "papermill": {
     "duration": 0.276231,
     "end_time": "2022-12-01T10:12:49.137543",
     "exception": false,
     "start_time": "2022-12-01T10:12:48.861312",
     "status": "completed"
    },
    "tags": []
   },
   "outputs": [
    {
     "data": {
      "text/plain": [
       "<matplotlib.legend.Legend at 0x7ff2c3b213c8>"
      ]
     },
     "execution_count": 24,
     "metadata": {},
     "output_type": "execute_result"
    },
    {
     "data": {
      "image/png": "[encoded data removed]",
      "text/plain": [
       "<Figure size 1080x720 with 1 Axes>"
      ]
     },
     "metadata": {
      "needs_background": "light"
     },
     "output_type": "display_data"
    }
   ],
   "source": [
    "#comparing the results of NN and LR\n",
    "plt.figure(figsize=(15,10))\n",
    "\n",
    "# Neural Network plots\n",
    "plt.plot(acc_nn.accuracies, 'r-', label = \"Training Accuracies - NN\")\n",
    "plt.plot(acc_nn.test_accuracies, 'g-', label = \"Testing Accuracies - NN\")\n",
    "\n",
    "# Logistic Regression plots\n",
    "plt.plot(acc_lr.accuracies, 'k-', label = \"Training Accuracies - LR\")\n",
    "plt.plot(acc_lr.test_accuracies, 'b-', label = \"Testing Accuracies - LR\")\n",
    "plt.legend()"
   ]
  },
  {
   "cell_type": "markdown",
   "id": "80dfb35c",
   "metadata": {
    "papermill": {
     "duration": 0.042225,
     "end_time": "2022-12-01T10:12:49.222003",
     "exception": false,
     "start_time": "2022-12-01T10:12:49.179778",
     "status": "completed"
    },
    "tags": []
   },
   "source": [
    "#### Plotting the outputs of this layer of the NN.\n"
   ]
  },
  {
   "cell_type": "code",
   "execution_count": 25,
   "id": "45eb2ff5",
   "metadata": {
    "execution": {
     "iopub.execute_input": "2022-12-01T10:12:49.310992Z",
     "iopub.status.busy": "2022-12-01T10:12:49.310383Z",
     "iopub.status.idle": "2022-12-01T10:12:49.331578Z",
     "shell.execute_reply": "2022-12-01T10:12:49.331096Z"
    },
    "papermill": {
     "duration": 0.067682,
     "end_time": "2022-12-01T10:12:49.331700",
     "exception": false,
     "start_time": "2022-12-01T10:12:49.264018",
     "status": "completed"
    },
    "tags": []
   },
   "outputs": [],
   "source": [
    "new_model = Model(layers[:-2])\n",
    "testing_plot = new_model(testing_data_x)"
   ]
  },
  {
   "cell_type": "code",
   "execution_count": 26,
   "id": "4c0a5485",
   "metadata": {
    "execution": {
     "iopub.execute_input": "2022-12-01T10:12:49.420464Z",
     "iopub.status.busy": "2022-12-01T10:12:49.419881Z",
     "iopub.status.idle": "2022-12-01T10:12:49.611933Z",
     "shell.execute_reply": "2022-12-01T10:12:49.611268Z"
    },
    "papermill": {
     "duration": 0.237861,
     "end_time": "2022-12-01T10:12:49.612067",
     "exception": false,
     "start_time": "2022-12-01T10:12:49.374206",
     "status": "completed"
    },
    "tags": []
   },
   "outputs": [
    {
     "data": {
      "text/plain": [
       "Text(0.5, 1.0, 'Outputs')"
      ]
     },
     "execution_count": 26,
     "metadata": {},
     "output_type": "execute_result"
    },
    {
     "data": {
      "image/png": "[encoded data removed]",
      "text/plain": [
       "<Figure size 576x504 with 1 Axes>"
      ]
     },
     "metadata": {
      "needs_background": "light"
     },
     "output_type": "display_data"
    }
   ],
   "source": [
    "# Plotting the scatter plot of points and color coding by class\n",
    "plt.figure(figsize=(8,7))\n",
    "plt.scatter(testing_plot[:,0], testing_plot[:,1], alpha = 0.1, c = y_test.ravel());\n",
    "plt.title('Outputs')"
   ]
  },
  {
   "cell_type": "markdown",
   "id": "a74fcf8f",
   "metadata": {
    "papermill": {
     "duration": 0.043974,
     "end_time": "2022-12-01T10:12:49.700920",
     "exception": false,
     "start_time": "2022-12-01T10:12:49.656946",
     "status": "completed"
    },
    "tags": []
   },
   "source": [
    "Probability contours"
   ]
  },
  {
   "cell_type": "code",
   "execution_count": 27,
   "id": "d0afc8e3",
   "metadata": {
    "execution": {
     "iopub.execute_input": "2022-12-01T10:12:49.794312Z",
     "iopub.status.busy": "2022-12-01T10:12:49.793707Z",
     "iopub.status.idle": "2022-12-01T10:12:49.806918Z",
     "shell.execute_reply": "2022-12-01T10:12:49.806433Z"
    },
    "papermill": {
     "duration": 0.061829,
     "end_time": "2022-12-01T10:12:49.807035",
     "exception": false,
     "start_time": "2022-12-01T10:12:49.745206",
     "status": "completed"
    },
    "tags": []
   },
   "outputs": [],
   "source": [
    "model_prob = Model(layers[-2:]) "
   ]
  },
  {
   "cell_type": "code",
   "execution_count": 28,
   "id": "9b96e238",
   "metadata": {
    "execution": {
     "iopub.execute_input": "2022-12-01T10:12:49.935102Z",
     "iopub.status.busy": "2022-12-01T10:12:49.934506Z",
     "iopub.status.idle": "2022-12-01T10:12:49.949978Z",
     "shell.execute_reply": "2022-12-01T10:12:49.950406Z"
    },
    "papermill": {
     "duration": 0.065878,
     "end_time": "2022-12-01T10:12:49.950549",
     "exception": false,
     "start_time": "2022-12-01T10:12:49.884671",
     "status": "completed"
    },
    "tags": []
   },
   "outputs": [],
   "source": [
    "#creating the x and y ranges according to the above generated plot.\n",
    "x_range = np.linspace(-4, 1, 100) \n",
    "y_range = np.linspace(-6, 6, 100) \n",
    "x_grid, y_grid = np.meshgrid(x_range, y_range) # x_grid and y_grig are of size 100 X 100\n",
    "\n",
    "# converting x_grid and y_grid to continuous arrays\n",
    "x_gridflat = np.ravel(x_grid)\n",
    "y_gridflat = np.ravel(y_grid)\n",
    "\n",
    "# The last layer of the current model takes two columns as input. Hence transpose of np.vstack() is required.\n",
    "X = np.vstack((x_gridflat, y_gridflat)).T\n",
    "\n",
    "prob_contour = model_prob(X).reshape(100,100) "
   ]
  },
  {
   "cell_type": "code",
   "execution_count": 29,
   "id": "da72499a",
   "metadata": {
    "execution": {
     "iopub.execute_input": "2022-12-01T10:12:50.047480Z",
     "iopub.status.busy": "2022-12-01T10:12:50.045457Z",
     "iopub.status.idle": "2022-12-01T10:12:50.294029Z",
     "shell.execute_reply": "2022-12-01T10:12:50.293481Z"
    },
    "papermill": {
     "duration": 0.299242,
     "end_time": "2022-12-01T10:12:50.294159",
     "exception": false,
     "start_time": "2022-12-01T10:12:49.994917",
     "status": "completed"
    },
    "tags": []
   },
   "outputs": [
    {
     "data": {
      "image/png": "[encoded data removed]",
      "text/plain": [
       "<Figure size 720x648 with 1 Axes>"
      ]
     },
     "metadata": {
      "needs_background": "light"
     },
     "output_type": "display_data"
    }
   ],
   "source": [
    "plt.figure(figsize=(10,9))\n",
    "plt.scatter(testing_plot[:,0], testing_plot[:,1], alpha = 0.1, c = y_test.ravel())\n",
    "contours = plt.contour(x_grid,y_grid,prob_contour)\n",
    "plt.title('Probability Contours')\n",
    "plt.clabel(contours, inline = True );"
   ]
  },
  {
   "cell_type": "code",
   "execution_count": null,
   "id": "e81b4ac7",
   "metadata": {
    "papermill": {
     "duration": 0.047738,
     "end_time": "2022-12-01T10:12:50.390100",
     "exception": false,
     "start_time": "2022-12-01T10:12:50.342362",
     "status": "completed"
    },
    "tags": []
   },
   "outputs": [],
   "source": []
  }
 ],
 "metadata": {
  "kernelspec": {
   "display_name": "Python 3",
   "language": "python",
   "name": "python3"
  },
  "language_info": {
   "codemirror_mode": {
    "name": "ipython",
    "version": 3
   },
   "file_extension": ".py",
   "mimetype": "text/x-python",
   "name": "python",
   "nbconvert_exporter": "python",
   "pygments_lexer": "ipython3",
   "version": "3.6.15"
  },
  "papermill": {
   "default_parameters": {},
   "duration": 101.411058,
   "end_time": "2022-12-01T10:12:50.857668",
   "environment_variables": {},
   "exception": null,
   "input_path": "2020-08-11-part2.ipynb",
   "output_path": "2020-08-11-part2.ipynb",
   "parameters": {},
   "start_time": "2022-12-01T10:11:09.446610",
   "version": "2.3.3"
  }
 },
 "nbformat": 4,
 "nbformat_minor": 5
}