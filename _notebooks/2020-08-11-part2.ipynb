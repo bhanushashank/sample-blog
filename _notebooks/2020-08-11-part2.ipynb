{
 "cells": [
  {
   "cell_type": "markdown",
   "id": "98380cd3",
   "metadata": {
    "papermill": {
     "duration": 0.035168,
     "end_time": "2021-12-19T00:25:55.410535",
     "exception": false,
     "start_time": "2021-12-19T00:25:55.375367",
     "status": "completed"
    },
    "tags": []
   },
   "source": [
    "# Distinguish Your Own Digits (DYOD)"
   ]
  },
  {
   "cell_type": "markdown",
   "id": "ef31240d",
   "metadata": {
    "papermill": {
     "duration": 0.027242,
     "end_time": "2021-12-19T00:25:55.466741",
     "exception": false,
     "start_time": "2021-12-19T00:25:55.439499",
     "status": "completed"
    },
    "tags": []
   },
   "source": [
    "You are going to write a classifier that distinguishes between the number 3 and number 8."
   ]
  },
  {
   "cell_type": "code",
   "execution_count": 1,
   "id": "b15c8646",
   "metadata": {
    "execution": {
     "iopub.execute_input": "2021-12-19T00:25:55.526161Z",
     "iopub.status.busy": "2021-12-19T00:25:55.525539Z",
     "iopub.status.idle": "2021-12-19T00:25:55.547481Z",
     "shell.execute_reply": "2021-12-19T00:25:55.546769Z"
    },
    "papermill": {
     "duration": 0.053674,
     "end_time": "2021-12-19T00:25:55.547684",
     "exception": false,
     "start_time": "2021-12-19T00:25:55.494010",
     "status": "completed"
    },
    "tags": []
   },
   "outputs": [],
   "source": [
    "%load_ext autoreload\n",
    "%autoreload 2"
   ]
  },
  {
   "cell_type": "code",
   "execution_count": 2,
   "id": "22ef38dc",
   "metadata": {
    "execution": {
     "iopub.execute_input": "2021-12-19T00:25:55.612581Z",
     "iopub.status.busy": "2021-12-19T00:25:55.611932Z",
     "iopub.status.idle": "2021-12-19T00:25:56.305187Z",
     "shell.execute_reply": "2021-12-19T00:25:56.304627Z"
    },
    "papermill": {
     "duration": 0.728521,
     "end_time": "2021-12-19T00:25:56.305336",
     "exception": false,
     "start_time": "2021-12-19T00:25:55.576815",
     "status": "completed"
    },
    "tags": []
   },
   "outputs": [],
   "source": [
    "%matplotlib inline\n",
    "import numpy as np\n",
    "import matplotlib.pyplot as plt\n",
    "import pandas as pd"
   ]
  },
  {
   "cell_type": "markdown",
   "id": "ba036198",
   "metadata": {
    "papermill": {
     "duration": 0.028967,
     "end_time": "2021-12-19T00:25:56.364448",
     "exception": false,
     "start_time": "2021-12-19T00:25:56.335481",
     "status": "completed"
    },
    "tags": []
   },
   "source": [
    "From the command line run `pip install mnist`. This is a library that will help you bring down the mnist dataset. If you run this from a notebook, you need to put  `!pip install mnist` in a cell by itself."
   ]
  },
  {
   "cell_type": "code",
   "execution_count": 3,
   "id": "bb6ad8a1",
   "metadata": {
    "execution": {
     "iopub.execute_input": "2021-12-19T00:25:56.428309Z",
     "iopub.status.busy": "2021-12-19T00:25:56.427518Z",
     "iopub.status.idle": "2021-12-19T00:25:58.468643Z",
     "shell.execute_reply": "2021-12-19T00:25:58.468045Z"
    },
    "papermill": {
     "duration": 2.075611,
     "end_time": "2021-12-19T00:25:58.468784",
     "exception": false,
     "start_time": "2021-12-19T00:25:56.393173",
     "status": "completed"
    },
    "tags": []
   },
   "outputs": [
    {
     "name": "stdout",
     "output_type": "stream",
     "text": [
      "Collecting mnist\r\n"
     ]
    },
    {
     "name": "stdout",
     "output_type": "stream",
     "text": [
      "  Downloading mnist-0.2.2-py2.py3-none-any.whl (3.5 kB)\r\n",
      "Requirement already satisfied: numpy in /opt/hostedtoolcache/Python/3.6.15/x64/lib/python3.6/site-packages (from mnist) (1.19.5)\r\n"
     ]
    },
    {
     "name": "stdout",
     "output_type": "stream",
     "text": [
      "Installing collected packages: mnist\r\n"
     ]
    },
    {
     "name": "stdout",
     "output_type": "stream",
     "text": [
      "Successfully installed mnist-0.2.2\r\n"
     ]
    }
   ],
   "source": [
    "!pip install mnist"
   ]
  },
  {
   "cell_type": "markdown",
   "id": "69df9c9a",
   "metadata": {
    "papermill": {
     "duration": 0.028674,
     "end_time": "2021-12-19T00:25:58.526572",
     "exception": false,
     "start_time": "2021-12-19T00:25:58.497898",
     "status": "completed"
    },
    "tags": []
   },
   "source": [
    "## Preparing the Data"
   ]
  },
  {
   "cell_type": "code",
   "execution_count": 4,
   "id": "7f69d806",
   "metadata": {
    "execution": {
     "iopub.execute_input": "2021-12-19T00:25:58.589640Z",
     "iopub.status.busy": "2021-12-19T00:25:58.589032Z",
     "iopub.status.idle": "2021-12-19T00:25:58.608045Z",
     "shell.execute_reply": "2021-12-19T00:25:58.607511Z"
    },
    "papermill": {
     "duration": 0.052916,
     "end_time": "2021-12-19T00:25:58.608192",
     "exception": false,
     "start_time": "2021-12-19T00:25:58.555276",
     "status": "completed"
    },
    "tags": []
   },
   "outputs": [],
   "source": [
    "import mnist"
   ]
  },
  {
   "cell_type": "code",
   "execution_count": 5,
   "id": "a411e44f",
   "metadata": {
    "execution": {
     "iopub.execute_input": "2021-12-19T00:25:58.670407Z",
     "iopub.status.busy": "2021-12-19T00:25:58.669785Z",
     "iopub.status.idle": "2021-12-19T00:25:59.219098Z",
     "shell.execute_reply": "2021-12-19T00:25:59.219633Z"
    },
    "papermill": {
     "duration": 0.582556,
     "end_time": "2021-12-19T00:25:59.219846",
     "exception": false,
     "start_time": "2021-12-19T00:25:58.637290",
     "status": "completed"
    },
    "tags": []
   },
   "outputs": [],
   "source": [
    "train_images = mnist.train_images()\n",
    "train_labels = mnist.train_labels()"
   ]
  },
  {
   "cell_type": "code",
   "execution_count": 6,
   "id": "dceab3a5",
   "metadata": {
    "execution": {
     "iopub.execute_input": "2021-12-19T00:25:59.285606Z",
     "iopub.status.busy": "2021-12-19T00:25:59.284948Z",
     "iopub.status.idle": "2021-12-19T00:25:59.301413Z",
     "shell.execute_reply": "2021-12-19T00:25:59.300920Z"
    },
    "papermill": {
     "duration": 0.052161,
     "end_time": "2021-12-19T00:25:59.301554",
     "exception": false,
     "start_time": "2021-12-19T00:25:59.249393",
     "status": "completed"
    },
    "tags": []
   },
   "outputs": [
    {
     "data": {
      "text/plain": [
       "((60000, 28, 28), (60000,))"
      ]
     },
     "execution_count": 6,
     "metadata": {},
     "output_type": "execute_result"
    }
   ],
   "source": [
    "train_images.shape, train_labels.shape"
   ]
  },
  {
   "cell_type": "code",
   "execution_count": 7,
   "id": "f50dc2bb",
   "metadata": {
    "execution": {
     "iopub.execute_input": "2021-12-19T00:25:59.366624Z",
     "iopub.status.busy": "2021-12-19T00:25:59.365993Z",
     "iopub.status.idle": "2021-12-19T00:25:59.489074Z",
     "shell.execute_reply": "2021-12-19T00:25:59.487304Z"
    },
    "papermill": {
     "duration": 0.157451,
     "end_time": "2021-12-19T00:25:59.489303",
     "exception": false,
     "start_time": "2021-12-19T00:25:59.331852",
     "status": "completed"
    },
    "tags": []
   },
   "outputs": [],
   "source": [
    "test_images = mnist.test_images()\n",
    "test_labels = mnist.test_labels()"
   ]
  },
  {
   "cell_type": "code",
   "execution_count": 8,
   "id": "fc38cf1b",
   "metadata": {
    "execution": {
     "iopub.execute_input": "2021-12-19T00:25:59.568778Z",
     "iopub.status.busy": "2021-12-19T00:25:59.568004Z",
     "iopub.status.idle": "2021-12-19T00:25:59.584273Z",
     "shell.execute_reply": "2021-12-19T00:25:59.584975Z"
    },
    "papermill": {
     "duration": 0.059156,
     "end_time": "2021-12-19T00:25:59.585187",
     "exception": false,
     "start_time": "2021-12-19T00:25:59.526031",
     "status": "completed"
    },
    "tags": []
   },
   "outputs": [
    {
     "data": {
      "text/plain": [
       "((10000, 28, 28), (10000,))"
      ]
     },
     "execution_count": 8,
     "metadata": {},
     "output_type": "execute_result"
    }
   ],
   "source": [
    "test_images.shape, test_labels.shape"
   ]
  },
  {
   "cell_type": "code",
   "execution_count": 9,
   "id": "f9ed8fe0",
   "metadata": {
    "execution": {
     "iopub.execute_input": "2021-12-19T00:25:59.660835Z",
     "iopub.status.busy": "2021-12-19T00:25:59.660216Z",
     "iopub.status.idle": "2021-12-19T00:25:59.825400Z",
     "shell.execute_reply": "2021-12-19T00:25:59.825879Z"
    },
    "papermill": {
     "duration": 0.204012,
     "end_time": "2021-12-19T00:25:59.826039",
     "exception": false,
     "start_time": "2021-12-19T00:25:59.622027",
     "status": "completed"
    },
    "tags": []
   },
   "outputs": [
    {
     "name": "stdout",
     "output_type": "stream",
     "text": [
      "2\n"
     ]
    },
    {
     "data": {
      "text/plain": [
       "<matplotlib.image.AxesImage at 0x7fcdc1aea4a8>"
      ]
     },
     "execution_count": 9,
     "metadata": {},
     "output_type": "execute_result"
    },
    {
     "data": {
      "image/png": "[encoded data removed]",
      "text/plain": [
       "<Figure size 432x288 with 1 Axes>"
      ]
     },
     "metadata": {
      "needs_background": "light"
     },
     "output_type": "display_data"
    }
   ],
   "source": [
    "image_index = 7776 # You may select anything up to 60,000\n",
    "print(train_labels[image_index]) \n",
    "plt.imshow(train_images[image_index], cmap='Greys')"
   ]
  },
  {
   "cell_type": "markdown",
   "id": "a8d2388d",
   "metadata": {
    "papermill": {
     "duration": 0.032139,
     "end_time": "2021-12-19T00:25:59.895106",
     "exception": false,
     "start_time": "2021-12-19T00:25:59.862967",
     "status": "completed"
    },
    "tags": []
   },
   "source": [
    "## Filter data to get 3 and 8 out"
   ]
  },
  {
   "cell_type": "code",
   "execution_count": 10,
   "id": "776f7fc7",
   "metadata": {
    "execution": {
     "iopub.execute_input": "2021-12-19T00:25:59.964091Z",
     "iopub.status.busy": "2021-12-19T00:25:59.963362Z",
     "iopub.status.idle": "2021-12-19T00:25:59.986744Z",
     "shell.execute_reply": "2021-12-19T00:25:59.986183Z"
    },
    "papermill": {
     "duration": 0.060623,
     "end_time": "2021-12-19T00:25:59.986891",
     "exception": false,
     "start_time": "2021-12-19T00:25:59.926268",
     "status": "completed"
    },
    "tags": []
   },
   "outputs": [],
   "source": [
    "train_filter = np.where((train_labels == 3 ) | (train_labels == 8))\n",
    "test_filter = np.where((test_labels == 3) | (test_labels == 8))\n",
    "X_train, y_train = train_images[train_filter], train_labels[train_filter]\n",
    "X_test, y_test = test_images[test_filter], test_labels[test_filter]"
   ]
  },
  {
   "cell_type": "markdown",
   "id": "948f0b7e",
   "metadata": {
    "papermill": {
     "duration": 0.032009,
     "end_time": "2021-12-19T00:26:00.051182",
     "exception": false,
     "start_time": "2021-12-19T00:26:00.019173",
     "status": "completed"
    },
    "tags": []
   },
   "source": [
    "We normalize the pizel values in the 0 to 1 range"
   ]
  },
  {
   "cell_type": "code",
   "execution_count": 11,
   "id": "ee4c2166",
   "metadata": {
    "execution": {
     "iopub.execute_input": "2021-12-19T00:26:00.122420Z",
     "iopub.status.busy": "2021-12-19T00:26:00.121810Z",
     "iopub.status.idle": "2021-12-19T00:26:00.180762Z",
     "shell.execute_reply": "2021-12-19T00:26:00.179854Z"
    },
    "papermill": {
     "duration": 0.095807,
     "end_time": "2021-12-19T00:26:00.180962",
     "exception": false,
     "start_time": "2021-12-19T00:26:00.085155",
     "status": "completed"
    },
    "tags": []
   },
   "outputs": [],
   "source": [
    "X_train = X_train/255.\n",
    "X_test = X_test/255."
   ]
  },
  {
   "cell_type": "markdown",
   "id": "ddcf4fab",
   "metadata": {
    "papermill": {
     "duration": 0.030739,
     "end_time": "2021-12-19T00:26:00.242823",
     "exception": false,
     "start_time": "2021-12-19T00:26:00.212084",
     "status": "completed"
    },
    "tags": []
   },
   "source": [
    "And setup the labels as 1 (when the digit is 3) and 0 (when the digit is 8)"
   ]
  },
  {
   "cell_type": "code",
   "execution_count": 12,
   "id": "7dc908f2",
   "metadata": {
    "execution": {
     "iopub.execute_input": "2021-12-19T00:26:00.309343Z",
     "iopub.status.busy": "2021-12-19T00:26:00.308711Z",
     "iopub.status.idle": "2021-12-19T00:26:00.326415Z",
     "shell.execute_reply": "2021-12-19T00:26:00.325846Z"
    },
    "papermill": {
     "duration": 0.05298,
     "end_time": "2021-12-19T00:26:00.326558",
     "exception": false,
     "start_time": "2021-12-19T00:26:00.273578",
     "status": "completed"
    },
    "tags": []
   },
   "outputs": [],
   "source": [
    "y_train = 1*(y_train==3)\n",
    "y_test = 1*(y_test==3)"
   ]
  },
  {
   "cell_type": "code",
   "execution_count": 13,
   "id": "01e4e969",
   "metadata": {
    "execution": {
     "iopub.execute_input": "2021-12-19T00:26:00.392992Z",
     "iopub.status.busy": "2021-12-19T00:26:00.392377Z",
     "iopub.status.idle": "2021-12-19T00:26:00.408315Z",
     "shell.execute_reply": "2021-12-19T00:26:00.407805Z"
    },
    "papermill": {
     "duration": 0.050394,
     "end_time": "2021-12-19T00:26:00.408456",
     "exception": false,
     "start_time": "2021-12-19T00:26:00.358062",
     "status": "completed"
    },
    "tags": []
   },
   "outputs": [
    {
     "data": {
      "text/plain": [
       "((11982, 28, 28), (1984, 28, 28))"
      ]
     },
     "execution_count": 13,
     "metadata": {},
     "output_type": "execute_result"
    }
   ],
   "source": [
    "X_train.shape, X_test.shape"
   ]
  },
  {
   "cell_type": "markdown",
   "id": "5ccf3f85",
   "metadata": {
    "papermill": {
     "duration": 0.030736,
     "end_time": "2021-12-19T00:26:00.471268",
     "exception": false,
     "start_time": "2021-12-19T00:26:00.440532",
     "status": "completed"
    },
    "tags": []
   },
   "source": [
    "We reshape the data to flatten the image pixels into a set of features or co-variates:"
   ]
  },
  {
   "cell_type": "code",
   "execution_count": 14,
   "id": "5286a4a3",
   "metadata": {
    "execution": {
     "iopub.execute_input": "2021-12-19T00:26:00.537571Z",
     "iopub.status.busy": "2021-12-19T00:26:00.536964Z",
     "iopub.status.idle": "2021-12-19T00:26:00.556736Z",
     "shell.execute_reply": "2021-12-19T00:26:00.557195Z"
    },
    "papermill": {
     "duration": 0.055139,
     "end_time": "2021-12-19T00:26:00.557362",
     "exception": false,
     "start_time": "2021-12-19T00:26:00.502223",
     "status": "completed"
    },
    "tags": []
   },
   "outputs": [
    {
     "data": {
      "text/plain": [
       "((11982, 784), (1984, 784))"
      ]
     },
     "execution_count": 14,
     "metadata": {},
     "output_type": "execute_result"
    }
   ],
   "source": [
    "X_train = X_train.reshape(X_train.shape[0], -1)\n",
    "X_test = X_test.reshape(X_test.shape[0], -1)\n",
    "X_train.shape, X_test.shape"
   ]
  },
  {
   "cell_type": "code",
   "execution_count": 15,
   "id": "73c5f88a",
   "metadata": {
    "execution": {
     "iopub.execute_input": "2021-12-19T00:26:00.624799Z",
     "iopub.status.busy": "2021-12-19T00:26:00.624161Z",
     "iopub.status.idle": "2021-12-19T00:26:00.650434Z",
     "shell.execute_reply": "2021-12-19T00:26:00.650915Z"
    },
    "papermill": {
     "duration": 0.062479,
     "end_time": "2021-12-19T00:26:00.651086",
     "exception": false,
     "start_time": "2021-12-19T00:26:00.588607",
     "status": "completed"
    },
    "tags": []
   },
   "outputs": [],
   "source": [
    "#Impoting functions from 'Kudzu'\n",
    "from kudzu.model import Model\n",
    "from kudzu.train import Learner\n",
    "from kudzu.optim import GD\n",
    "from kudzu.data import Data, Sampler,Dataloader\n",
    "\n",
    "from kudzu.callbacks import AccCallback\n",
    "from kudzu.callbacks import ClfCallback\n",
    "\n",
    "from kudzu.loss import MSE\n",
    "\n",
    "from kudzu.layer import Sigmoid,Relu\n",
    "from kudzu.layer import Affine"
   ]
  },
  {
   "cell_type": "markdown",
   "id": "bc01172a",
   "metadata": {
    "papermill": {
     "duration": 0.031336,
     "end_time": "2021-12-19T00:26:00.713815",
     "exception": false,
     "start_time": "2021-12-19T00:26:00.682479",
     "status": "completed"
    },
    "tags": []
   },
   "source": [
    "### Let us create a `Config` class, to store important parameters. \n",
    "This class essentially plays the role of a dictionary."
   ]
  },
  {
   "cell_type": "code",
   "execution_count": 16,
   "id": "978281aa",
   "metadata": {
    "execution": {
     "iopub.execute_input": "2021-12-19T00:26:00.780753Z",
     "iopub.status.busy": "2021-12-19T00:26:00.780105Z",
     "iopub.status.idle": "2021-12-19T00:26:00.794667Z",
     "shell.execute_reply": "2021-12-19T00:26:00.794013Z"
    },
    "papermill": {
     "duration": 0.050028,
     "end_time": "2021-12-19T00:26:00.794840",
     "exception": false,
     "start_time": "2021-12-19T00:26:00.744812",
     "status": "completed"
    },
    "tags": []
   },
   "outputs": [],
   "source": [
    "class Config:\n",
    "    pass\n",
    "config = Config()\n",
    "config.lr = 0.001\n",
    "config.num_epochs = 250\n",
    "config.bs = 50"
   ]
  },
  {
   "cell_type": "markdown",
   "id": "1385fa59",
   "metadata": {
    "papermill": {
     "duration": 0.031471,
     "end_time": "2021-12-19T00:26:00.859623",
     "exception": false,
     "start_time": "2021-12-19T00:26:00.828152",
     "status": "completed"
    },
    "tags": []
   },
   "source": [
    "### Running Models with the Training data\n",
    "Details about the network layers:\n",
    "- A first affine layer has 784 inputs and does 100 affine transforms. These are followed by a Relu\n",
    "- A second affine layer has 100 inputs from the 100 activations of the past layer, and does 100 affine transforms. These are followed by a Relu\n",
    "- A third affine layer has 100 activations and does 2 affine transformations to create an embedding for visualization. There is no non-linearity here.\n",
    "- A final \"logistic regression\" which has an affine transform from 2 inputs to 1 output, which is squeezed through a sigmoid.\n"
   ]
  },
  {
   "cell_type": "code",
   "execution_count": 17,
   "id": "2b9c66db",
   "metadata": {
    "execution": {
     "iopub.execute_input": "2021-12-19T00:26:00.927438Z",
     "iopub.status.busy": "2021-12-19T00:26:00.926825Z",
     "iopub.status.idle": "2021-12-19T00:26:00.941088Z",
     "shell.execute_reply": "2021-12-19T00:26:00.940577Z"
    },
    "papermill": {
     "duration": 0.050579,
     "end_time": "2021-12-19T00:26:00.941230",
     "exception": false,
     "start_time": "2021-12-19T00:26:00.890651",
     "status": "completed"
    },
    "tags": []
   },
   "outputs": [],
   "source": [
    "data = Data(X_train, y_train.reshape(-1,1))\n",
    "sampler = Sampler(data, config.bs, shuffle=True)\n",
    "\n",
    "dl = Dataloader(data, sampler)\n",
    "\n",
    "opt = GD(config.lr)\n",
    "loss = MSE()"
   ]
  },
  {
   "cell_type": "code",
   "execution_count": 18,
   "id": "b275e4c2",
   "metadata": {
    "execution": {
     "iopub.execute_input": "2021-12-19T00:26:01.009162Z",
     "iopub.status.busy": "2021-12-19T00:26:01.008129Z",
     "iopub.status.idle": "2021-12-19T00:26:01.035652Z",
     "shell.execute_reply": "2021-12-19T00:26:01.034917Z"
    },
    "papermill": {
     "duration": 0.063276,
     "end_time": "2021-12-19T00:26:01.035821",
     "exception": false,
     "start_time": "2021-12-19T00:26:00.972545",
     "status": "completed"
    },
    "tags": []
   },
   "outputs": [],
   "source": [
    "training_data_x = X_train\n",
    "testing_data_x = X_test\n",
    "training_data_y = y_train.reshape(-1,1)\n",
    "testing_data_y = y_test.reshape(-1,1)"
   ]
  },
  {
   "cell_type": "code",
   "execution_count": 19,
   "id": "76951160",
   "metadata": {
    "execution": {
     "iopub.execute_input": "2021-12-19T00:26:01.109975Z",
     "iopub.status.busy": "2021-12-19T00:26:01.109290Z",
     "iopub.status.idle": "2021-12-19T00:26:01.134855Z",
     "shell.execute_reply": "2021-12-19T00:26:01.133937Z"
    },
    "papermill": {
     "duration": 0.064787,
     "end_time": "2021-12-19T00:26:01.135079",
     "exception": false,
     "start_time": "2021-12-19T00:26:01.070292",
     "status": "completed"
    },
    "tags": []
   },
   "outputs": [
    {
     "name": "stdout",
     "output_type": "stream",
     "text": [
      "xavier\n",
      "xavier\n",
      "xavier\n",
      "xavier\n",
      "xavier\n"
     ]
    }
   ],
   "source": [
    "layers = [Affine(\"first\", 784, 100), Relu(\"first\"), Affine(\"second\", 100, 100), Relu(\"second\"), Affine(\"third\", 100, 2), Affine(\"last\", 2, 1), Sigmoid(\"last\")]\n",
    "model_nn = Model(layers)\n",
    "model_lr = Model([Affine(\"logits\", 784, 1), Sigmoid(\"sigmoid\")])"
   ]
  },
  {
   "cell_type": "code",
   "execution_count": 20,
   "id": "6eede77a",
   "metadata": {
    "execution": {
     "iopub.execute_input": "2021-12-19T00:26:01.204847Z",
     "iopub.status.busy": "2021-12-19T00:26:01.204210Z",
     "iopub.status.idle": "2021-12-19T00:26:01.218933Z",
     "shell.execute_reply": "2021-12-19T00:26:01.218422Z"
    },
    "papermill": {
     "duration": 0.051579,
     "end_time": "2021-12-19T00:26:01.219075",
     "exception": false,
     "start_time": "2021-12-19T00:26:01.167496",
     "status": "completed"
    },
    "tags": []
   },
   "outputs": [],
   "source": [
    "nn_learner = Learner(loss, model_nn, opt, config.num_epochs)\n",
    "acc_nn = ClfCallback(nn_learner, config.bs, training_data_x , testing_data_x, training_data_y, testing_data_y)\n",
    "nn_learner.set_callbacks([acc_nn])"
   ]
  },
  {
   "cell_type": "code",
   "execution_count": 21,
   "id": "877b6cc7",
   "metadata": {
    "execution": {
     "iopub.execute_input": "2021-12-19T00:26:01.286507Z",
     "iopub.status.busy": "2021-12-19T00:26:01.285896Z",
     "iopub.status.idle": "2021-12-19T00:26:01.306500Z",
     "shell.execute_reply": "2021-12-19T00:26:01.305977Z"
    },
    "papermill": {
     "duration": 0.056092,
     "end_time": "2021-12-19T00:26:01.306644",
     "exception": false,
     "start_time": "2021-12-19T00:26:01.250552",
     "status": "completed"
    },
    "tags": []
   },
   "outputs": [],
   "source": [
    "lr_learner = Learner(loss, model_lr, opt, config.num_epochs)\n",
    "acc_lr = ClfCallback(lr_learner, config.bs, training_data_x , testing_data_x, training_data_y, testing_data_y)\n",
    "lr_learner.set_callbacks([acc_lr])"
   ]
  },
  {
   "cell_type": "code",
   "execution_count": 22,
   "id": "d9b133c3",
   "metadata": {
    "execution": {
     "iopub.execute_input": "2021-12-19T00:26:01.378045Z",
     "iopub.status.busy": "2021-12-19T00:26:01.377434Z",
     "iopub.status.idle": "2021-12-19T00:27:32.557237Z",
     "shell.execute_reply": "2021-12-19T00:27:32.558108Z"
    },
    "papermill": {
     "duration": 91.217822,
     "end_time": "2021-12-19T00:27:32.558278",
     "exception": false,
     "start_time": "2021-12-19T00:26:01.340456",
     "status": "completed"
    },
    "tags": []
   },
   "outputs": [
    {
     "name": "stdout",
     "output_type": "stream",
     "text": [
      "Epoch 0, Loss 0.2512\n",
      "Training Accuracy: 0.5334, Testing Accuracy: 0.5343\n",
      "\n"
     ]
    },
    {
     "name": "stdout",
     "output_type": "stream",
     "text": [
      "Epoch 10, Loss 0.1236\n",
      "Training Accuracy: 0.9061, Testing Accuracy: 0.9254\n",
      "\n"
     ]
    },
    {
     "name": "stdout",
     "output_type": "stream",
     "text": [
      "Epoch 20, Loss 0.0655\n",
      "Training Accuracy: 0.9357, Testing Accuracy: 0.9501\n",
      "\n"
     ]
    },
    {
     "name": "stdout",
     "output_type": "stream",
     "text": [
      "Epoch 30, Loss 0.0478\n",
      "Training Accuracy: 0.9498, Testing Accuracy: 0.9592\n",
      "\n"
     ]
    },
    {
     "name": "stdout",
     "output_type": "stream",
     "text": [
      "Epoch 40, Loss 0.0399\n",
      "Training Accuracy: 0.9572, Testing Accuracy: 0.9642\n",
      "\n"
     ]
    },
    {
     "name": "stdout",
     "output_type": "stream",
     "text": [
      "Epoch 50, Loss 0.0355\n",
      "Training Accuracy: 0.9604, Testing Accuracy: 0.9657\n",
      "\n"
     ]
    },
    {
     "name": "stdout",
     "output_type": "stream",
     "text": [
      "Epoch 60, Loss 0.0326\n",
      "Training Accuracy: 0.9624, Testing Accuracy: 0.9682\n",
      "\n"
     ]
    },
    {
     "name": "stdout",
     "output_type": "stream",
     "text": [
      "Epoch 70, Loss 0.0306\n",
      "Training Accuracy: 0.9644, Testing Accuracy: 0.9682\n",
      "\n"
     ]
    },
    {
     "name": "stdout",
     "output_type": "stream",
     "text": [
      "Epoch 80, Loss 0.029\n",
      "Training Accuracy: 0.9657, Testing Accuracy: 0.9682\n",
      "\n"
     ]
    },
    {
     "name": "stdout",
     "output_type": "stream",
     "text": [
      "Epoch 90, Loss 0.0277\n",
      "Training Accuracy: 0.9672, Testing Accuracy: 0.9693\n",
      "\n"
     ]
    },
    {
     "name": "stdout",
     "output_type": "stream",
     "text": [
      "Epoch 100, Loss 0.0266\n",
      "Training Accuracy: 0.9685, Testing Accuracy: 0.9698\n",
      "\n"
     ]
    },
    {
     "name": "stdout",
     "output_type": "stream",
     "text": [
      "Epoch 110, Loss 0.0257\n",
      "Training Accuracy: 0.9695, Testing Accuracy: 0.9703\n",
      "\n"
     ]
    },
    {
     "name": "stdout",
     "output_type": "stream",
     "text": [
      "Epoch 120, Loss 0.0249\n",
      "Training Accuracy: 0.9708, Testing Accuracy: 0.9708\n",
      "\n"
     ]
    },
    {
     "name": "stdout",
     "output_type": "stream",
     "text": [
      "Epoch 130, Loss 0.0242\n",
      "Training Accuracy: 0.9714, Testing Accuracy: 0.9713\n",
      "\n"
     ]
    },
    {
     "name": "stdout",
     "output_type": "stream",
     "text": [
      "Epoch 140, Loss 0.0236\n",
      "Training Accuracy: 0.9724, Testing Accuracy: 0.9718\n",
      "\n"
     ]
    },
    {
     "name": "stdout",
     "output_type": "stream",
     "text": [
      "Epoch 150, Loss 0.023\n",
      "Training Accuracy: 0.9733, Testing Accuracy: 0.9723\n",
      "\n"
     ]
    },
    {
     "name": "stdout",
     "output_type": "stream",
     "text": [
      "Epoch 160, Loss 0.0225\n",
      "Training Accuracy: 0.9744, Testing Accuracy: 0.9723\n",
      "\n"
     ]
    },
    {
     "name": "stdout",
     "output_type": "stream",
     "text": [
      "Epoch 170, Loss 0.0219\n",
      "Training Accuracy: 0.9752, Testing Accuracy: 0.9718\n",
      "\n"
     ]
    },
    {
     "name": "stdout",
     "output_type": "stream",
     "text": [
      "Epoch 180, Loss 0.0215\n",
      "Training Accuracy: 0.9758, Testing Accuracy: 0.9723\n",
      "\n"
     ]
    },
    {
     "name": "stdout",
     "output_type": "stream",
     "text": [
      "Epoch 190, Loss 0.021\n",
      "Training Accuracy: 0.9764, Testing Accuracy: 0.9733\n",
      "\n"
     ]
    },
    {
     "name": "stdout",
     "output_type": "stream",
     "text": [
      "Epoch 200, Loss 0.0206\n",
      "Training Accuracy: 0.9767, Testing Accuracy: 0.9733\n",
      "\n"
     ]
    },
    {
     "name": "stdout",
     "output_type": "stream",
     "text": [
      "Epoch 210, Loss 0.0202\n",
      "Training Accuracy: 0.9770, Testing Accuracy: 0.9733\n",
      "\n"
     ]
    },
    {
     "name": "stdout",
     "output_type": "stream",
     "text": [
      "Epoch 220, Loss 0.0198\n",
      "Training Accuracy: 0.9775, Testing Accuracy: 0.9738\n",
      "\n"
     ]
    },
    {
     "name": "stdout",
     "output_type": "stream",
     "text": [
      "Epoch 230, Loss 0.0194\n",
      "Training Accuracy: 0.9781, Testing Accuracy: 0.9738\n",
      "\n"
     ]
    },
    {
     "name": "stdout",
     "output_type": "stream",
     "text": [
      "Epoch 240, Loss 0.0191\n",
      "Training Accuracy: 0.9782, Testing Accuracy: 0.9733\n",
      "\n"
     ]
    },
    {
     "data": {
      "text/plain": [
       "0.028917525716737474"
      ]
     },
     "execution_count": 22,
     "metadata": {},
     "output_type": "execute_result"
    }
   ],
   "source": [
    "nn_learner.train_loop(dl)"
   ]
  },
  {
   "cell_type": "code",
   "execution_count": 23,
   "id": "e0163366",
   "metadata": {
    "execution": {
     "iopub.execute_input": "2021-12-19T00:27:32.645888Z",
     "iopub.status.busy": "2021-12-19T00:27:32.645275Z",
     "iopub.status.idle": "2021-12-19T00:27:48.959237Z",
     "shell.execute_reply": "2021-12-19T00:27:48.960128Z"
    },
    "papermill": {
     "duration": 16.362443,
     "end_time": "2021-12-19T00:27:48.960302",
     "exception": false,
     "start_time": "2021-12-19T00:27:32.597859",
     "status": "completed"
    },
    "tags": []
   },
   "outputs": [
    {
     "name": "stdout",
     "output_type": "stream",
     "text": [
      "Epoch 0, Loss 0.2383\n",
      "Training Accuracy: 0.6876, Testing Accuracy: 0.7061\n",
      "\n"
     ]
    },
    {
     "name": "stdout",
     "output_type": "stream",
     "text": [
      "Epoch 10, Loss 0.1032\n",
      "Training Accuracy: 0.9055, Testing Accuracy: 0.9143\n",
      "\n"
     ]
    },
    {
     "name": "stdout",
     "output_type": "stream",
     "text": [
      "Epoch 20, Loss 0.0799\n",
      "Training Accuracy: 0.9247, Testing Accuracy: 0.9365\n",
      "\n"
     ]
    },
    {
     "name": "stdout",
     "output_type": "stream",
     "text": [
      "Epoch 30, Loss 0.0689\n",
      "Training Accuracy: 0.9347, Testing Accuracy: 0.9446\n",
      "\n"
     ]
    },
    {
     "name": "stdout",
     "output_type": "stream",
     "text": [
      "Epoch 40, Loss 0.0621\n",
      "Training Accuracy: 0.9398, Testing Accuracy: 0.9506\n",
      "\n"
     ]
    },
    {
     "name": "stdout",
     "output_type": "stream",
     "text": [
      "Epoch 50, Loss 0.0575\n",
      "Training Accuracy: 0.9433, Testing Accuracy: 0.9531\n",
      "\n"
     ]
    },
    {
     "name": "stdout",
     "output_type": "stream",
     "text": [
      "Epoch 60, Loss 0.0541\n",
      "Training Accuracy: 0.9464, Testing Accuracy: 0.9577\n",
      "\n"
     ]
    },
    {
     "name": "stdout",
     "output_type": "stream",
     "text": [
      "Epoch 70, Loss 0.0515\n",
      "Training Accuracy: 0.9483, Testing Accuracy: 0.9597\n",
      "\n"
     ]
    },
    {
     "name": "stdout",
     "output_type": "stream",
     "text": [
      "Epoch 80, Loss 0.0494\n",
      "Training Accuracy: 0.9499, Testing Accuracy: 0.9612\n",
      "\n"
     ]
    },
    {
     "name": "stdout",
     "output_type": "stream",
     "text": [
      "Epoch 90, Loss 0.0476\n",
      "Training Accuracy: 0.9514, Testing Accuracy: 0.9622\n",
      "\n"
     ]
    },
    {
     "name": "stdout",
     "output_type": "stream",
     "text": [
      "Epoch 100, Loss 0.0462\n",
      "Training Accuracy: 0.9528, Testing Accuracy: 0.9632\n",
      "\n"
     ]
    },
    {
     "name": "stdout",
     "output_type": "stream",
     "text": [
      "Epoch 110, Loss 0.0449\n",
      "Training Accuracy: 0.9535, Testing Accuracy: 0.9642\n",
      "\n"
     ]
    },
    {
     "name": "stdout",
     "output_type": "stream",
     "text": [
      "Epoch 120, Loss 0.0438\n",
      "Training Accuracy: 0.9551, Testing Accuracy: 0.9652\n",
      "\n"
     ]
    },
    {
     "name": "stdout",
     "output_type": "stream",
     "text": [
      "Epoch 130, Loss 0.0429\n",
      "Training Accuracy: 0.9561, Testing Accuracy: 0.9652\n",
      "\n"
     ]
    },
    {
     "name": "stdout",
     "output_type": "stream",
     "text": [
      "Epoch 140, Loss 0.042\n",
      "Training Accuracy: 0.9572, Testing Accuracy: 0.9652\n",
      "\n"
     ]
    },
    {
     "name": "stdout",
     "output_type": "stream",
     "text": [
      "Epoch 150, Loss 0.0413\n",
      "Training Accuracy: 0.9574, Testing Accuracy: 0.9657\n",
      "\n"
     ]
    },
    {
     "name": "stdout",
     "output_type": "stream",
     "text": [
      "Epoch 160, Loss 0.0406\n",
      "Training Accuracy: 0.9579, Testing Accuracy: 0.9657\n",
      "\n"
     ]
    },
    {
     "name": "stdout",
     "output_type": "stream",
     "text": [
      "Epoch 170, Loss 0.04\n",
      "Training Accuracy: 0.9584, Testing Accuracy: 0.9657\n",
      "\n"
     ]
    },
    {
     "name": "stdout",
     "output_type": "stream",
     "text": [
      "Epoch 180, Loss 0.0394\n",
      "Training Accuracy: 0.9586, Testing Accuracy: 0.9657\n",
      "\n"
     ]
    },
    {
     "name": "stdout",
     "output_type": "stream",
     "text": [
      "Epoch 190, Loss 0.0389\n",
      "Training Accuracy: 0.9589, Testing Accuracy: 0.9657\n",
      "\n"
     ]
    },
    {
     "name": "stdout",
     "output_type": "stream",
     "text": [
      "Epoch 200, Loss 0.0384\n",
      "Training Accuracy: 0.9595, Testing Accuracy: 0.9657\n",
      "\n"
     ]
    },
    {
     "name": "stdout",
     "output_type": "stream",
     "text": [
      "Epoch 210, Loss 0.038\n",
      "Training Accuracy: 0.9597, Testing Accuracy: 0.9657\n",
      "\n"
     ]
    },
    {
     "name": "stdout",
     "output_type": "stream",
     "text": [
      "Epoch 220, Loss 0.0375\n",
      "Training Accuracy: 0.9600, Testing Accuracy: 0.9652\n",
      "\n"
     ]
    },
    {
     "name": "stdout",
     "output_type": "stream",
     "text": [
      "Epoch 230, Loss 0.0372\n",
      "Training Accuracy: 0.9603, Testing Accuracy: 0.9657\n",
      "\n"
     ]
    },
    {
     "name": "stdout",
     "output_type": "stream",
     "text": [
      "Epoch 240, Loss 0.0368\n",
      "Training Accuracy: 0.9604, Testing Accuracy: 0.9657\n",
      "\n"
     ]
    },
    {
     "data": {
      "text/plain": [
       "0.04173863916786181"
      ]
     },
     "execution_count": 23,
     "metadata": {},
     "output_type": "execute_result"
    }
   ],
   "source": [
    "lr_learner.train_loop(dl)"
   ]
  },
  {
   "cell_type": "code",
   "execution_count": 24,
   "id": "ca410940",
   "metadata": {
    "execution": {
     "iopub.execute_input": "2021-12-19T00:27:49.068677Z",
     "iopub.status.busy": "2021-12-19T00:27:49.068019Z",
     "iopub.status.idle": "2021-12-19T00:27:49.327259Z",
     "shell.execute_reply": "2021-12-19T00:27:49.327787Z"
    },
    "papermill": {
     "duration": 0.320244,
     "end_time": "2021-12-19T00:27:49.327957",
     "exception": false,
     "start_time": "2021-12-19T00:27:49.007713",
     "status": "completed"
    },
    "tags": []
   },
   "outputs": [
    {
     "data": {
      "text/plain": [
       "<matplotlib.legend.Legend at 0x7fcdc16c4be0>"
      ]
     },
     "execution_count": 24,
     "metadata": {},
     "output_type": "execute_result"
    },
    {
     "data": {
      "image/png": "[encoded data removed]",
      "text/plain": [
       "<Figure size 1080x720 with 1 Axes>"
      ]
     },
     "metadata": {
      "needs_background": "light"
     },
     "output_type": "display_data"
    }
   ],
   "source": [
    "#comparing the results of NN and LR\n",
    "plt.figure(figsize=(15,10))\n",
    "\n",
    "# Neural Network plots\n",
    "plt.plot(acc_nn.accuracies, 'r-', label = \"Training Accuracies - NN\")\n",
    "plt.plot(acc_nn.test_accuracies, 'g-', label = \"Testing Accuracies - NN\")\n",
    "\n",
    "# Logistic Regression plots\n",
    "plt.plot(acc_lr.accuracies, 'k-', label = \"Training Accuracies - LR\")\n",
    "plt.plot(acc_lr.test_accuracies, 'b-', label = \"Testing Accuracies - LR\")\n",
    "plt.legend()"
   ]
  },
  {
   "cell_type": "markdown",
   "id": "80dfb35c",
   "metadata": {
    "papermill": {
     "duration": 0.048161,
     "end_time": "2021-12-19T00:27:49.424906",
     "exception": false,
     "start_time": "2021-12-19T00:27:49.376745",
     "status": "completed"
    },
    "tags": []
   },
   "source": [
    "#### Plotting the outputs of this layer of the NN.\n"
   ]
  },
  {
   "cell_type": "code",
   "execution_count": 25,
   "id": "45eb2ff5",
   "metadata": {
    "execution": {
     "iopub.execute_input": "2021-12-19T00:27:49.526418Z",
     "iopub.status.busy": "2021-12-19T00:27:49.525659Z",
     "iopub.status.idle": "2021-12-19T00:27:49.550381Z",
     "shell.execute_reply": "2021-12-19T00:27:49.550893Z"
    },
    "papermill": {
     "duration": 0.078158,
     "end_time": "2021-12-19T00:27:49.551058",
     "exception": false,
     "start_time": "2021-12-19T00:27:49.472900",
     "status": "completed"
    },
    "tags": []
   },
   "outputs": [],
   "source": [
    "new_model = Model(layers[:-2])\n",
    "testing_plot = new_model(testing_data_x)"
   ]
  },
  {
   "cell_type": "code",
   "execution_count": 26,
   "id": "4c0a5485",
   "metadata": {
    "execution": {
     "iopub.execute_input": "2021-12-19T00:27:49.656573Z",
     "iopub.status.busy": "2021-12-19T00:27:49.655950Z",
     "iopub.status.idle": "2021-12-19T00:27:49.872990Z",
     "shell.execute_reply": "2021-12-19T00:27:49.872223Z"
    },
    "papermill": {
     "duration": 0.272323,
     "end_time": "2021-12-19T00:27:49.873131",
     "exception": false,
     "start_time": "2021-12-19T00:27:49.600808",
     "status": "completed"
    },
    "tags": []
   },
   "outputs": [
    {
     "data": {
      "text/plain": [
       "Text(0.5, 1.0, 'Outputs')"
      ]
     },
     "execution_count": 26,
     "metadata": {},
     "output_type": "execute_result"
    },
    {
     "data": {
      "image/png": "[encoded data removed]",
      "text/plain": [
       "<Figure size 576x504 with 1 Axes>"
      ]
     },
     "metadata": {
      "needs_background": "light"
     },
     "output_type": "display_data"
    }
   ],
   "source": [
    "# Plotting the scatter plot of points and color coding by class\n",
    "plt.figure(figsize=(8,7))\n",
    "plt.scatter(testing_plot[:,0], testing_plot[:,1], alpha = 0.1, c = y_test.ravel());\n",
    "plt.title('Outputs')"
   ]
  },
  {
   "cell_type": "markdown",
   "id": "a74fcf8f",
   "metadata": {
    "papermill": {
     "duration": 0.050018,
     "end_time": "2021-12-19T00:27:49.975708",
     "exception": false,
     "start_time": "2021-12-19T00:27:49.925690",
     "status": "completed"
    },
    "tags": []
   },
   "source": [
    "Probability contours"
   ]
  },
  {
   "cell_type": "code",
   "execution_count": 27,
   "id": "d0afc8e3",
   "metadata": {
    "execution": {
     "iopub.execute_input": "2021-12-19T00:27:50.082307Z",
     "iopub.status.busy": "2021-12-19T00:27:50.080637Z",
     "iopub.status.idle": "2021-12-19T00:27:50.094528Z",
     "shell.execute_reply": "2021-12-19T00:27:50.093917Z"
    },
    "papermill": {
     "duration": 0.068442,
     "end_time": "2021-12-19T00:27:50.094707",
     "exception": false,
     "start_time": "2021-12-19T00:27:50.026265",
     "status": "completed"
    },
    "tags": []
   },
   "outputs": [],
   "source": [
    "model_prob = Model(layers[-2:]) "
   ]
  },
  {
   "cell_type": "code",
   "execution_count": 28,
   "id": "9b96e238",
   "metadata": {
    "execution": {
     "iopub.execute_input": "2021-12-19T00:27:50.236081Z",
     "iopub.status.busy": "2021-12-19T00:27:50.235381Z",
     "iopub.status.idle": "2021-12-19T00:27:50.250967Z",
     "shell.execute_reply": "2021-12-19T00:27:50.251424Z"
    },
    "papermill": {
     "duration": 0.072498,
     "end_time": "2021-12-19T00:27:50.251585",
     "exception": false,
     "start_time": "2021-12-19T00:27:50.179087",
     "status": "completed"
    },
    "tags": []
   },
   "outputs": [],
   "source": [
    "#creating the x and y ranges according to the above generated plot.\n",
    "x_range = np.linspace(-4, 1, 100) \n",
    "y_range = np.linspace(-6, 6, 100) \n",
    "x_grid, y_grid = np.meshgrid(x_range, y_range) # x_grid and y_grig are of size 100 X 100\n",
    "\n",
    "# converting x_grid and y_grid to continuous arrays\n",
    "x_gridflat = np.ravel(x_grid)\n",
    "y_gridflat = np.ravel(y_grid)\n",
    "\n",
    "# The last layer of the current model takes two columns as input. Hence transpose of np.vstack() is required.\n",
    "X = np.vstack((x_gridflat, y_gridflat)).T\n",
    "\n",
    "prob_contour = model_prob(X).reshape(100,100) "
   ]
  },
  {
   "cell_type": "code",
   "execution_count": 29,
   "id": "da72499a",
   "metadata": {
    "execution": {
     "iopub.execute_input": "2021-12-19T00:27:50.365344Z",
     "iopub.status.busy": "2021-12-19T00:27:50.364731Z",
     "iopub.status.idle": "2021-12-19T00:27:50.635347Z",
     "shell.execute_reply": "2021-12-19T00:27:50.634809Z"
    },
    "papermill": {
     "duration": 0.333292,
     "end_time": "2021-12-19T00:27:50.635482",
     "exception": false,
     "start_time": "2021-12-19T00:27:50.302190",
     "status": "completed"
    },
    "tags": []
   },
   "outputs": [
    {
     "data": {
      "image/png": "[encoded data removed]",
      "text/plain": [
       "<Figure size 720x648 with 1 Axes>"
      ]
     },
     "metadata": {
      "needs_background": "light"
     },
     "output_type": "display_data"
    }
   ],
   "source": [
    "plt.figure(figsize=(10,9))\n",
    "plt.scatter(testing_plot[:,0], testing_plot[:,1], alpha = 0.1, c = y_test.ravel())\n",
    "contours = plt.contour(x_grid,y_grid,prob_contour)\n",
    "plt.title('Probability Contours')\n",
    "plt.clabel(contours, inline = True );"
   ]
  },
  {
   "cell_type": "code",
   "execution_count": null,
   "id": "e81b4ac7",
   "metadata": {
    "papermill": {
     "duration": 0.053505,
     "end_time": "2021-12-19T00:27:50.742837",
     "exception": false,
     "start_time": "2021-12-19T00:27:50.689332",
     "status": "completed"
    },
    "tags": []
   },
   "outputs": [],
   "source": []
  }
 ],
 "metadata": {
  "kernelspec": {
   "display_name": "Python 3",
   "language": "python",
   "name": "python3"
  },
  "language_info": {
   "codemirror_mode": {
    "name": "ipython",
    "version": 3
   },
   "file_extension": ".py",
   "mimetype": "text/x-python",
   "name": "python",
   "nbconvert_exporter": "python",
   "pygments_lexer": "ipython3",
   "version": "3.6.15"
  },
  "papermill": {
   "default_parameters": {},
   "duration": 117.148038,
   "end_time": "2021-12-19T00:27:51.206134",
   "environment_variables": {},
   "exception": null,
   "input_path": "2020-08-11-part2.ipynb",
   "output_path": "2020-08-11-part2.ipynb",
   "parameters": {},
   "start_time": "2021-12-19T00:25:54.058096",
   "version": "2.3.3"
  }
 },
 "nbformat": 4,
 "nbformat_minor": 5
}