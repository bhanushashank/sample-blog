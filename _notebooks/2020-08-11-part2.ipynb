{
 "cells": [
  {
   "cell_type": "markdown",
   "id": "98380cd3",
   "metadata": {
    "papermill": {
     "duration": 0.036819,
     "end_time": "2022-05-24T00:42:18.670692",
     "exception": false,
     "start_time": "2022-05-24T00:42:18.633873",
     "status": "completed"
    },
    "tags": []
   },
   "source": [
    "# Distinguish Your Own Digits (DYOD)"
   ]
  },
  {
   "cell_type": "markdown",
   "id": "ef31240d",
   "metadata": {
    "papermill": {
     "duration": 0.02642,
     "end_time": "2022-05-24T00:42:18.725511",
     "exception": false,
     "start_time": "2022-05-24T00:42:18.699091",
     "status": "completed"
    },
    "tags": []
   },
   "source": [
    "You are going to write a classifier that distinguishes between the number 3 and number 8."
   ]
  },
  {
   "cell_type": "code",
   "execution_count": 1,
   "id": "b15c8646",
   "metadata": {
    "execution": {
     "iopub.execute_input": "2022-05-24T00:42:18.802022Z",
     "iopub.status.busy": "2022-05-24T00:42:18.800746Z",
     "iopub.status.idle": "2022-05-24T00:42:18.812471Z",
     "shell.execute_reply": "2022-05-24T00:42:18.811753Z"
    },
    "papermill": {
     "duration": 0.054504,
     "end_time": "2022-05-24T00:42:18.812626",
     "exception": false,
     "start_time": "2022-05-24T00:42:18.758122",
     "status": "completed"
    },
    "tags": []
   },
   "outputs": [],
   "source": [
    "%load_ext autoreload\n",
    "%autoreload 2"
   ]
  },
  {
   "cell_type": "code",
   "execution_count": 2,
   "id": "22ef38dc",
   "metadata": {
    "execution": {
     "iopub.execute_input": "2022-05-24T00:42:18.877077Z",
     "iopub.status.busy": "2022-05-24T00:42:18.876439Z",
     "iopub.status.idle": "2022-05-24T00:42:19.497775Z",
     "shell.execute_reply": "2022-05-24T00:42:19.497187Z"
    },
    "papermill": {
     "duration": 0.652396,
     "end_time": "2022-05-24T00:42:19.497906",
     "exception": false,
     "start_time": "2022-05-24T00:42:18.845510",
     "status": "completed"
    },
    "tags": []
   },
   "outputs": [],
   "source": [
    "%matplotlib inline\n",
    "import numpy as np\n",
    "import matplotlib.pyplot as plt\n",
    "import pandas as pd"
   ]
  },
  {
   "cell_type": "markdown",
   "id": "ba036198",
   "metadata": {
    "papermill": {
     "duration": 0.026663,
     "end_time": "2022-05-24T00:42:19.550805",
     "exception": false,
     "start_time": "2022-05-24T00:42:19.524142",
     "status": "completed"
    },
    "tags": []
   },
   "source": [
    "From the command line run `pip install mnist`. This is a library that will help you bring down the mnist dataset. If you run this from a notebook, you need to put  `!pip install mnist` in a cell by itself."
   ]
  },
  {
   "cell_type": "code",
   "execution_count": 3,
   "id": "bb6ad8a1",
   "metadata": {
    "execution": {
     "iopub.execute_input": "2022-05-24T00:42:19.608552Z",
     "iopub.status.busy": "2022-05-24T00:42:19.607862Z",
     "iopub.status.idle": "2022-05-24T00:42:21.802774Z",
     "shell.execute_reply": "2022-05-24T00:42:21.801417Z"
    },
    "papermill": {
     "duration": 2.225939,
     "end_time": "2022-05-24T00:42:21.802942",
     "exception": false,
     "start_time": "2022-05-24T00:42:19.577003",
     "status": "completed"
    },
    "tags": []
   },
   "outputs": [
    {
     "name": "stdout",
     "output_type": "stream",
     "text": [
      "Collecting mnist\r\n"
     ]
    },
    {
     "name": "stdout",
     "output_type": "stream",
     "text": [
      "  Downloading mnist-0.2.2-py2.py3-none-any.whl (3.5 kB)\r\n",
      "Requirement already satisfied: numpy in /opt/hostedtoolcache/Python/3.6.15/x64/lib/python3.6/site-packages (from mnist) (1.19.5)\r\n"
     ]
    },
    {
     "name": "stdout",
     "output_type": "stream",
     "text": [
      "Installing collected packages: mnist\r\n"
     ]
    },
    {
     "name": "stdout",
     "output_type": "stream",
     "text": [
      "Successfully installed mnist-0.2.2\r\n"
     ]
    }
   ],
   "source": [
    "!pip install mnist"
   ]
  },
  {
   "cell_type": "markdown",
   "id": "69df9c9a",
   "metadata": {
    "papermill": {
     "duration": 0.026743,
     "end_time": "2022-05-24T00:42:21.857032",
     "exception": false,
     "start_time": "2022-05-24T00:42:21.830289",
     "status": "completed"
    },
    "tags": []
   },
   "source": [
    "## Preparing the Data"
   ]
  },
  {
   "cell_type": "code",
   "execution_count": 4,
   "id": "7f69d806",
   "metadata": {
    "execution": {
     "iopub.execute_input": "2022-05-24T00:42:21.921095Z",
     "iopub.status.busy": "2022-05-24T00:42:21.915049Z",
     "iopub.status.idle": "2022-05-24T00:42:21.935034Z",
     "shell.execute_reply": "2022-05-24T00:42:21.935575Z"
    },
    "papermill": {
     "duration": 0.052157,
     "end_time": "2022-05-24T00:42:21.935732",
     "exception": false,
     "start_time": "2022-05-24T00:42:21.883575",
     "status": "completed"
    },
    "tags": []
   },
   "outputs": [],
   "source": [
    "import mnist"
   ]
  },
  {
   "cell_type": "code",
   "execution_count": 5,
   "id": "a411e44f",
   "metadata": {
    "execution": {
     "iopub.execute_input": "2022-05-24T00:42:21.997218Z",
     "iopub.status.busy": "2022-05-24T00:42:21.994266Z",
     "iopub.status.idle": "2022-05-24T00:42:22.727367Z",
     "shell.execute_reply": "2022-05-24T00:42:22.726388Z"
    },
    "papermill": {
     "duration": 0.764779,
     "end_time": "2022-05-24T00:42:22.727599",
     "exception": false,
     "start_time": "2022-05-24T00:42:21.962820",
     "status": "completed"
    },
    "tags": []
   },
   "outputs": [],
   "source": [
    "train_images = mnist.train_images()\n",
    "train_labels = mnist.train_labels()"
   ]
  },
  {
   "cell_type": "code",
   "execution_count": 6,
   "id": "dceab3a5",
   "metadata": {
    "execution": {
     "iopub.execute_input": "2022-05-24T00:42:22.801313Z",
     "iopub.status.busy": "2022-05-24T00:42:22.797679Z",
     "iopub.status.idle": "2022-05-24T00:42:22.816241Z",
     "shell.execute_reply": "2022-05-24T00:42:22.815663Z"
    },
    "papermill": {
     "duration": 0.058108,
     "end_time": "2022-05-24T00:42:22.816375",
     "exception": false,
     "start_time": "2022-05-24T00:42:22.758267",
     "status": "completed"
    },
    "tags": []
   },
   "outputs": [
    {
     "data": {
      "text/plain": [
       "((60000, 28, 28), (60000,))"
      ]
     },
     "execution_count": 6,
     "metadata": {},
     "output_type": "execute_result"
    }
   ],
   "source": [
    "train_images.shape, train_labels.shape"
   ]
  },
  {
   "cell_type": "code",
   "execution_count": 7,
   "id": "f50dc2bb",
   "metadata": {
    "execution": {
     "iopub.execute_input": "2022-05-24T00:42:22.878497Z",
     "iopub.status.busy": "2022-05-24T00:42:22.877809Z",
     "iopub.status.idle": "2022-05-24T00:42:23.098180Z",
     "shell.execute_reply": "2022-05-24T00:42:23.097018Z"
    },
    "papermill": {
     "duration": 0.254403,
     "end_time": "2022-05-24T00:42:23.098357",
     "exception": false,
     "start_time": "2022-05-24T00:42:22.843954",
     "status": "completed"
    },
    "tags": []
   },
   "outputs": [],
   "source": [
    "test_images = mnist.test_images()\n",
    "test_labels = mnist.test_labels()"
   ]
  },
  {
   "cell_type": "code",
   "execution_count": 8,
   "id": "fc38cf1b",
   "metadata": {
    "execution": {
     "iopub.execute_input": "2022-05-24T00:42:23.169980Z",
     "iopub.status.busy": "2022-05-24T00:42:23.164450Z",
     "iopub.status.idle": "2022-05-24T00:42:23.190540Z",
     "shell.execute_reply": "2022-05-24T00:42:23.191226Z"
    },
    "papermill": {
     "duration": 0.063546,
     "end_time": "2022-05-24T00:42:23.191406",
     "exception": false,
     "start_time": "2022-05-24T00:42:23.127860",
     "status": "completed"
    },
    "tags": []
   },
   "outputs": [
    {
     "data": {
      "text/plain": [
       "((10000, 28, 28), (10000,))"
      ]
     },
     "execution_count": 8,
     "metadata": {},
     "output_type": "execute_result"
    }
   ],
   "source": [
    "test_images.shape, test_labels.shape"
   ]
  },
  {
   "cell_type": "code",
   "execution_count": 9,
   "id": "f9ed8fe0",
   "metadata": {
    "execution": {
     "iopub.execute_input": "2022-05-24T00:42:23.253760Z",
     "iopub.status.busy": "2022-05-24T00:42:23.253091Z",
     "iopub.status.idle": "2022-05-24T00:42:23.424024Z",
     "shell.execute_reply": "2022-05-24T00:42:23.424585Z"
    },
    "papermill": {
     "duration": 0.204107,
     "end_time": "2022-05-24T00:42:23.424745",
     "exception": false,
     "start_time": "2022-05-24T00:42:23.220638",
     "status": "completed"
    },
    "tags": []
   },
   "outputs": [
    {
     "name": "stdout",
     "output_type": "stream",
     "text": [
      "2\n"
     ]
    },
    {
     "data": {
      "text/plain": [
       "<matplotlib.image.AxesImage at 0x7effee654eb8>"
      ]
     },
     "execution_count": 9,
     "metadata": {},
     "output_type": "execute_result"
    },
    {
     "data": {
      "image/png": "[encoded data removed]",
      "text/plain": [
       "<Figure size 432x288 with 1 Axes>"
      ]
     },
     "metadata": {
      "needs_background": "light"
     },
     "output_type": "display_data"
    }
   ],
   "source": [
    "image_index = 7776 # You may select anything up to 60,000\n",
    "print(train_labels[image_index]) \n",
    "plt.imshow(train_images[image_index], cmap='Greys')"
   ]
  },
  {
   "cell_type": "markdown",
   "id": "a8d2388d",
   "metadata": {
    "papermill": {
     "duration": 0.029785,
     "end_time": "2022-05-24T00:42:23.484536",
     "exception": false,
     "start_time": "2022-05-24T00:42:23.454751",
     "status": "completed"
    },
    "tags": []
   },
   "source": [
    "## Filter data to get 3 and 8 out"
   ]
  },
  {
   "cell_type": "code",
   "execution_count": 10,
   "id": "776f7fc7",
   "metadata": {
    "execution": {
     "iopub.execute_input": "2022-05-24T00:42:23.550202Z",
     "iopub.status.busy": "2022-05-24T00:42:23.549515Z",
     "iopub.status.idle": "2022-05-24T00:42:23.569767Z",
     "shell.execute_reply": "2022-05-24T00:42:23.569241Z"
    },
    "papermill": {
     "duration": 0.055632,
     "end_time": "2022-05-24T00:42:23.569911",
     "exception": false,
     "start_time": "2022-05-24T00:42:23.514279",
     "status": "completed"
    },
    "tags": []
   },
   "outputs": [],
   "source": [
    "train_filter = np.where((train_labels == 3 ) | (train_labels == 8))\n",
    "test_filter = np.where((test_labels == 3) | (test_labels == 8))\n",
    "X_train, y_train = train_images[train_filter], train_labels[train_filter]\n",
    "X_test, y_test = test_images[test_filter], test_labels[test_filter]"
   ]
  },
  {
   "cell_type": "markdown",
   "id": "948f0b7e",
   "metadata": {
    "papermill": {
     "duration": 0.029317,
     "end_time": "2022-05-24T00:42:23.628148",
     "exception": false,
     "start_time": "2022-05-24T00:42:23.598831",
     "status": "completed"
    },
    "tags": []
   },
   "source": [
    "We normalize the pizel values in the 0 to 1 range"
   ]
  },
  {
   "cell_type": "code",
   "execution_count": 11,
   "id": "ee4c2166",
   "metadata": {
    "execution": {
     "iopub.execute_input": "2022-05-24T00:42:23.690776Z",
     "iopub.status.busy": "2022-05-24T00:42:23.690111Z",
     "iopub.status.idle": "2022-05-24T00:42:23.742646Z",
     "shell.execute_reply": "2022-05-24T00:42:23.742056Z"
    },
    "papermill": {
     "duration": 0.086568,
     "end_time": "2022-05-24T00:42:23.742794",
     "exception": false,
     "start_time": "2022-05-24T00:42:23.656226",
     "status": "completed"
    },
    "tags": []
   },
   "outputs": [],
   "source": [
    "X_train = X_train/255.\n",
    "X_test = X_test/255."
   ]
  },
  {
   "cell_type": "markdown",
   "id": "ddcf4fab",
   "metadata": {
    "papermill": {
     "duration": 0.029691,
     "end_time": "2022-05-24T00:42:23.803832",
     "exception": false,
     "start_time": "2022-05-24T00:42:23.774141",
     "status": "completed"
    },
    "tags": []
   },
   "source": [
    "And setup the labels as 1 (when the digit is 3) and 0 (when the digit is 8)"
   ]
  },
  {
   "cell_type": "code",
   "execution_count": 12,
   "id": "7dc908f2",
   "metadata": {
    "execution": {
     "iopub.execute_input": "2022-05-24T00:42:23.871773Z",
     "iopub.status.busy": "2022-05-24T00:42:23.871088Z",
     "iopub.status.idle": "2022-05-24T00:42:23.888411Z",
     "shell.execute_reply": "2022-05-24T00:42:23.887834Z"
    },
    "papermill": {
     "duration": 0.05091,
     "end_time": "2022-05-24T00:42:23.888539",
     "exception": false,
     "start_time": "2022-05-24T00:42:23.837629",
     "status": "completed"
    },
    "tags": []
   },
   "outputs": [],
   "source": [
    "y_train = 1*(y_train==3)\n",
    "y_test = 1*(y_test==3)"
   ]
  },
  {
   "cell_type": "code",
   "execution_count": 13,
   "id": "01e4e969",
   "metadata": {
    "execution": {
     "iopub.execute_input": "2022-05-24T00:42:23.954655Z",
     "iopub.status.busy": "2022-05-24T00:42:23.953938Z",
     "iopub.status.idle": "2022-05-24T00:42:23.976324Z",
     "shell.execute_reply": "2022-05-24T00:42:23.975076Z"
    },
    "papermill": {
     "duration": 0.058042,
     "end_time": "2022-05-24T00:42:23.976459",
     "exception": false,
     "start_time": "2022-05-24T00:42:23.918417",
     "status": "completed"
    },
    "tags": []
   },
   "outputs": [
    {
     "data": {
      "text/plain": [
       "((11982, 28, 28), (1984, 28, 28))"
      ]
     },
     "execution_count": 13,
     "metadata": {},
     "output_type": "execute_result"
    }
   ],
   "source": [
    "X_train.shape, X_test.shape"
   ]
  },
  {
   "cell_type": "markdown",
   "id": "5ccf3f85",
   "metadata": {
    "papermill": {
     "duration": 0.028134,
     "end_time": "2022-05-24T00:42:24.032911",
     "exception": false,
     "start_time": "2022-05-24T00:42:24.004777",
     "status": "completed"
    },
    "tags": []
   },
   "source": [
    "We reshape the data to flatten the image pixels into a set of features or co-variates:"
   ]
  },
  {
   "cell_type": "code",
   "execution_count": 14,
   "id": "5286a4a3",
   "metadata": {
    "execution": {
     "iopub.execute_input": "2022-05-24T00:42:24.097945Z",
     "iopub.status.busy": "2022-05-24T00:42:24.097188Z",
     "iopub.status.idle": "2022-05-24T00:42:24.112680Z",
     "shell.execute_reply": "2022-05-24T00:42:24.113294Z"
    },
    "papermill": {
     "duration": 0.050714,
     "end_time": "2022-05-24T00:42:24.113464",
     "exception": false,
     "start_time": "2022-05-24T00:42:24.062750",
     "status": "completed"
    },
    "tags": []
   },
   "outputs": [
    {
     "data": {
      "text/plain": [
       "((11982, 784), (1984, 784))"
      ]
     },
     "execution_count": 14,
     "metadata": {},
     "output_type": "execute_result"
    }
   ],
   "source": [
    "X_train = X_train.reshape(X_train.shape[0], -1)\n",
    "X_test = X_test.reshape(X_test.shape[0], -1)\n",
    "X_train.shape, X_test.shape"
   ]
  },
  {
   "cell_type": "code",
   "execution_count": 15,
   "id": "73c5f88a",
   "metadata": {
    "execution": {
     "iopub.execute_input": "2022-05-24T00:42:24.183397Z",
     "iopub.status.busy": "2022-05-24T00:42:24.182716Z",
     "iopub.status.idle": "2022-05-24T00:42:24.207442Z",
     "shell.execute_reply": "2022-05-24T00:42:24.206757Z"
    },
    "papermill": {
     "duration": 0.062161,
     "end_time": "2022-05-24T00:42:24.207574",
     "exception": false,
     "start_time": "2022-05-24T00:42:24.145413",
     "status": "completed"
    },
    "tags": []
   },
   "outputs": [],
   "source": [
    "#Impoting functions from 'Kudzu'\n",
    "from kudzu.model import Model\n",
    "from kudzu.train import Learner\n",
    "from kudzu.optim import GD\n",
    "from kudzu.data import Data, Sampler,Dataloader\n",
    "\n",
    "from kudzu.callbacks import AccCallback\n",
    "from kudzu.callbacks import ClfCallback\n",
    "\n",
    "from kudzu.loss import MSE\n",
    "\n",
    "from kudzu.layer import Sigmoid,Relu\n",
    "from kudzu.layer import Affine"
   ]
  },
  {
   "cell_type": "markdown",
   "id": "bc01172a",
   "metadata": {
    "papermill": {
     "duration": 0.031823,
     "end_time": "2022-05-24T00:42:24.270520",
     "exception": false,
     "start_time": "2022-05-24T00:42:24.238697",
     "status": "completed"
    },
    "tags": []
   },
   "source": [
    "### Let us create a `Config` class, to store important parameters. \n",
    "This class essentially plays the role of a dictionary."
   ]
  },
  {
   "cell_type": "code",
   "execution_count": 16,
   "id": "978281aa",
   "metadata": {
    "execution": {
     "iopub.execute_input": "2022-05-24T00:42:24.336126Z",
     "iopub.status.busy": "2022-05-24T00:42:24.335490Z",
     "iopub.status.idle": "2022-05-24T00:42:24.350380Z",
     "shell.execute_reply": "2022-05-24T00:42:24.349746Z"
    },
    "papermill": {
     "duration": 0.049159,
     "end_time": "2022-05-24T00:42:24.350501",
     "exception": false,
     "start_time": "2022-05-24T00:42:24.301342",
     "status": "completed"
    },
    "tags": []
   },
   "outputs": [],
   "source": [
    "class Config:\n",
    "    pass\n",
    "config = Config()\n",
    "config.lr = 0.001\n",
    "config.num_epochs = 250\n",
    "config.bs = 50"
   ]
  },
  {
   "cell_type": "markdown",
   "id": "1385fa59",
   "metadata": {
    "papermill": {
     "duration": 0.029011,
     "end_time": "2022-05-24T00:42:24.407737",
     "exception": false,
     "start_time": "2022-05-24T00:42:24.378726",
     "status": "completed"
    },
    "tags": []
   },
   "source": [
    "### Running Models with the Training data\n",
    "Details about the network layers:\n",
    "- A first affine layer has 784 inputs and does 100 affine transforms. These are followed by a Relu\n",
    "- A second affine layer has 100 inputs from the 100 activations of the past layer, and does 100 affine transforms. These are followed by a Relu\n",
    "- A third affine layer has 100 activations and does 2 affine transformations to create an embedding for visualization. There is no non-linearity here.\n",
    "- A final \"logistic regression\" which has an affine transform from 2 inputs to 1 output, which is squeezed through a sigmoid.\n"
   ]
  },
  {
   "cell_type": "code",
   "execution_count": 17,
   "id": "2b9c66db",
   "metadata": {
    "execution": {
     "iopub.execute_input": "2022-05-24T00:42:24.473519Z",
     "iopub.status.busy": "2022-05-24T00:42:24.472807Z",
     "iopub.status.idle": "2022-05-24T00:42:24.486705Z",
     "shell.execute_reply": "2022-05-24T00:42:24.486178Z"
    },
    "papermill": {
     "duration": 0.047994,
     "end_time": "2022-05-24T00:42:24.486825",
     "exception": false,
     "start_time": "2022-05-24T00:42:24.438831",
     "status": "completed"
    },
    "tags": []
   },
   "outputs": [],
   "source": [
    "data = Data(X_train, y_train.reshape(-1,1))\n",
    "sampler = Sampler(data, config.bs, shuffle=True)\n",
    "\n",
    "dl = Dataloader(data, sampler)\n",
    "\n",
    "opt = GD(config.lr)\n",
    "loss = MSE()"
   ]
  },
  {
   "cell_type": "code",
   "execution_count": 18,
   "id": "b275e4c2",
   "metadata": {
    "execution": {
     "iopub.execute_input": "2022-05-24T00:42:24.551363Z",
     "iopub.status.busy": "2022-05-24T00:42:24.550686Z",
     "iopub.status.idle": "2022-05-24T00:42:24.563857Z",
     "shell.execute_reply": "2022-05-24T00:42:24.564375Z"
    },
    "papermill": {
     "duration": 0.048551,
     "end_time": "2022-05-24T00:42:24.564522",
     "exception": false,
     "start_time": "2022-05-24T00:42:24.515971",
     "status": "completed"
    },
    "tags": []
   },
   "outputs": [],
   "source": [
    "training_data_x = X_train\n",
    "testing_data_x = X_test\n",
    "training_data_y = y_train.reshape(-1,1)\n",
    "testing_data_y = y_test.reshape(-1,1)"
   ]
  },
  {
   "cell_type": "code",
   "execution_count": 19,
   "id": "76951160",
   "metadata": {
    "execution": {
     "iopub.execute_input": "2022-05-24T00:42:24.630167Z",
     "iopub.status.busy": "2022-05-24T00:42:24.629491Z",
     "iopub.status.idle": "2022-05-24T00:42:24.650232Z",
     "shell.execute_reply": "2022-05-24T00:42:24.649710Z"
    },
    "papermill": {
     "duration": 0.056093,
     "end_time": "2022-05-24T00:42:24.650354",
     "exception": false,
     "start_time": "2022-05-24T00:42:24.594261",
     "status": "completed"
    },
    "tags": []
   },
   "outputs": [
    {
     "name": "stdout",
     "output_type": "stream",
     "text": [
      "xavier\n",
      "xavier\n",
      "xavier\n",
      "xavier\n",
      "xavier\n"
     ]
    }
   ],
   "source": [
    "layers = [Affine(\"first\", 784, 100), Relu(\"first\"), Affine(\"second\", 100, 100), Relu(\"second\"), Affine(\"third\", 100, 2), Affine(\"last\", 2, 1), Sigmoid(\"last\")]\n",
    "model_nn = Model(layers)\n",
    "model_lr = Model([Affine(\"logits\", 784, 1), Sigmoid(\"sigmoid\")])"
   ]
  },
  {
   "cell_type": "code",
   "execution_count": 20,
   "id": "6eede77a",
   "metadata": {
    "execution": {
     "iopub.execute_input": "2022-05-24T00:42:24.716663Z",
     "iopub.status.busy": "2022-05-24T00:42:24.716004Z",
     "iopub.status.idle": "2022-05-24T00:42:24.729808Z",
     "shell.execute_reply": "2022-05-24T00:42:24.729190Z"
    },
    "papermill": {
     "duration": 0.048782,
     "end_time": "2022-05-24T00:42:24.729929",
     "exception": false,
     "start_time": "2022-05-24T00:42:24.681147",
     "status": "completed"
    },
    "tags": []
   },
   "outputs": [],
   "source": [
    "nn_learner = Learner(loss, model_nn, opt, config.num_epochs)\n",
    "acc_nn = ClfCallback(nn_learner, config.bs, training_data_x , testing_data_x, training_data_y, testing_data_y)\n",
    "nn_learner.set_callbacks([acc_nn])"
   ]
  },
  {
   "cell_type": "code",
   "execution_count": 21,
   "id": "877b6cc7",
   "metadata": {
    "execution": {
     "iopub.execute_input": "2022-05-24T00:42:24.797740Z",
     "iopub.status.busy": "2022-05-24T00:42:24.797075Z",
     "iopub.status.idle": "2022-05-24T00:42:24.810199Z",
     "shell.execute_reply": "2022-05-24T00:42:24.810691Z"
    },
    "papermill": {
     "duration": 0.051331,
     "end_time": "2022-05-24T00:42:24.810832",
     "exception": false,
     "start_time": "2022-05-24T00:42:24.759501",
     "status": "completed"
    },
    "tags": []
   },
   "outputs": [],
   "source": [
    "lr_learner = Learner(loss, model_lr, opt, config.num_epochs)\n",
    "acc_lr = ClfCallback(lr_learner, config.bs, training_data_x , testing_data_x, training_data_y, testing_data_y)\n",
    "lr_learner.set_callbacks([acc_lr])"
   ]
  },
  {
   "cell_type": "code",
   "execution_count": 22,
   "id": "d9b133c3",
   "metadata": {
    "execution": {
     "iopub.execute_input": "2022-05-24T00:42:24.874174Z",
     "iopub.status.busy": "2022-05-24T00:42:24.873434Z",
     "iopub.status.idle": "2022-05-24T00:43:48.972926Z",
     "shell.execute_reply": "2022-05-24T00:43:48.973818Z"
    },
    "papermill": {
     "duration": 84.133539,
     "end_time": "2022-05-24T00:43:48.973974",
     "exception": false,
     "start_time": "2022-05-24T00:42:24.840435",
     "status": "completed"
    },
    "tags": []
   },
   "outputs": [
    {
     "name": "stdout",
     "output_type": "stream",
     "text": [
      "Epoch 0, Loss 0.2383\n",
      "Training Accuracy: 0.6947, Testing Accuracy: 0.7072\n",
      "\n"
     ]
    },
    {
     "name": "stdout",
     "output_type": "stream",
     "text": [
      "Epoch 10, Loss 0.1067\n",
      "Training Accuracy: 0.9049, Testing Accuracy: 0.9183\n",
      "\n"
     ]
    },
    {
     "name": "stdout",
     "output_type": "stream",
     "text": [
      "Epoch 20, Loss 0.0631\n",
      "Training Accuracy: 0.9331, Testing Accuracy: 0.9430\n",
      "\n"
     ]
    },
    {
     "name": "stdout",
     "output_type": "stream",
     "text": [
      "Epoch 30, Loss 0.0484\n",
      "Training Accuracy: 0.9467, Testing Accuracy: 0.9516\n",
      "\n"
     ]
    },
    {
     "name": "stdout",
     "output_type": "stream",
     "text": [
      "Epoch 40, Loss 0.0411\n",
      "Training Accuracy: 0.9543, Testing Accuracy: 0.9597\n",
      "\n"
     ]
    },
    {
     "name": "stdout",
     "output_type": "stream",
     "text": [
      "Epoch 50, Loss 0.0367\n",
      "Training Accuracy: 0.9584, Testing Accuracy: 0.9617\n",
      "\n"
     ]
    },
    {
     "name": "stdout",
     "output_type": "stream",
     "text": [
      "Epoch 60, Loss 0.0337\n",
      "Training Accuracy: 0.9619, Testing Accuracy: 0.9642\n",
      "\n"
     ]
    },
    {
     "name": "stdout",
     "output_type": "stream",
     "text": [
      "Epoch 70, Loss 0.0316\n",
      "Training Accuracy: 0.9637, Testing Accuracy: 0.9662\n",
      "\n"
     ]
    },
    {
     "name": "stdout",
     "output_type": "stream",
     "text": [
      "Epoch 80, Loss 0.0299\n",
      "Training Accuracy: 0.9657, Testing Accuracy: 0.9688\n",
      "\n"
     ]
    },
    {
     "name": "stdout",
     "output_type": "stream",
     "text": [
      "Epoch 90, Loss 0.0285\n",
      "Training Accuracy: 0.9669, Testing Accuracy: 0.9698\n",
      "\n"
     ]
    },
    {
     "name": "stdout",
     "output_type": "stream",
     "text": [
      "Epoch 100, Loss 0.0273\n",
      "Training Accuracy: 0.9681, Testing Accuracy: 0.9703\n",
      "\n"
     ]
    },
    {
     "name": "stdout",
     "output_type": "stream",
     "text": [
      "Epoch 110, Loss 0.0263\n",
      "Training Accuracy: 0.9700, Testing Accuracy: 0.9698\n",
      "\n"
     ]
    },
    {
     "name": "stdout",
     "output_type": "stream",
     "text": [
      "Epoch 120, Loss 0.0255\n",
      "Training Accuracy: 0.9706, Testing Accuracy: 0.9698\n",
      "\n"
     ]
    },
    {
     "name": "stdout",
     "output_type": "stream",
     "text": [
      "Epoch 130, Loss 0.0247\n",
      "Training Accuracy: 0.9714, Testing Accuracy: 0.9708\n",
      "\n"
     ]
    },
    {
     "name": "stdout",
     "output_type": "stream",
     "text": [
      "Epoch 140, Loss 0.024\n",
      "Training Accuracy: 0.9725, Testing Accuracy: 0.9708\n",
      "\n"
     ]
    },
    {
     "name": "stdout",
     "output_type": "stream",
     "text": [
      "Epoch 150, Loss 0.0233\n",
      "Training Accuracy: 0.9737, Testing Accuracy: 0.9708\n",
      "\n"
     ]
    },
    {
     "name": "stdout",
     "output_type": "stream",
     "text": [
      "Epoch 160, Loss 0.0227\n",
      "Training Accuracy: 0.9746, Testing Accuracy: 0.9713\n",
      "\n"
     ]
    },
    {
     "name": "stdout",
     "output_type": "stream",
     "text": [
      "Epoch 170, Loss 0.0222\n",
      "Training Accuracy: 0.9755, Testing Accuracy: 0.9723\n",
      "\n"
     ]
    },
    {
     "name": "stdout",
     "output_type": "stream",
     "text": [
      "Epoch 180, Loss 0.0217\n",
      "Training Accuracy: 0.9760, Testing Accuracy: 0.9713\n",
      "\n"
     ]
    },
    {
     "name": "stdout",
     "output_type": "stream",
     "text": [
      "Epoch 190, Loss 0.0212\n",
      "Training Accuracy: 0.9765, Testing Accuracy: 0.9713\n",
      "\n"
     ]
    },
    {
     "name": "stdout",
     "output_type": "stream",
     "text": [
      "Epoch 200, Loss 0.0207\n",
      "Training Accuracy: 0.9767, Testing Accuracy: 0.9718\n",
      "\n"
     ]
    },
    {
     "name": "stdout",
     "output_type": "stream",
     "text": [
      "Epoch 210, Loss 0.0203\n",
      "Training Accuracy: 0.9771, Testing Accuracy: 0.9728\n",
      "\n"
     ]
    },
    {
     "name": "stdout",
     "output_type": "stream",
     "text": [
      "Epoch 220, Loss 0.0199\n",
      "Training Accuracy: 0.9775, Testing Accuracy: 0.9738\n",
      "\n"
     ]
    },
    {
     "name": "stdout",
     "output_type": "stream",
     "text": [
      "Epoch 230, Loss 0.0195\n",
      "Training Accuracy: 0.9779, Testing Accuracy: 0.9738\n",
      "\n"
     ]
    },
    {
     "name": "stdout",
     "output_type": "stream",
     "text": [
      "Epoch 240, Loss 0.0191\n",
      "Training Accuracy: 0.9789, Testing Accuracy: 0.9738\n",
      "\n"
     ]
    },
    {
     "data": {
      "text/plain": [
       "0.05877556926303657"
      ]
     },
     "execution_count": 22,
     "metadata": {},
     "output_type": "execute_result"
    }
   ],
   "source": [
    "nn_learner.train_loop(dl)"
   ]
  },
  {
   "cell_type": "code",
   "execution_count": 23,
   "id": "e0163366",
   "metadata": {
    "execution": {
     "iopub.execute_input": "2022-05-24T00:43:49.061978Z",
     "iopub.status.busy": "2022-05-24T00:43:49.061292Z",
     "iopub.status.idle": "2022-05-24T00:44:04.173022Z",
     "shell.execute_reply": "2022-05-24T00:44:04.173975Z"
    },
    "papermill": {
     "duration": 15.162052,
     "end_time": "2022-05-24T00:44:04.174141",
     "exception": false,
     "start_time": "2022-05-24T00:43:49.012089",
     "status": "completed"
    },
    "tags": []
   },
   "outputs": [
    {
     "name": "stdout",
     "output_type": "stream",
     "text": [
      "Epoch 0, Loss 0.2355\n",
      "Training Accuracy: 0.6884, Testing Accuracy: 0.7072\n",
      "\n"
     ]
    },
    {
     "name": "stdout",
     "output_type": "stream",
     "text": [
      "Epoch 10, Loss 0.1022\n",
      "Training Accuracy: 0.9066, Testing Accuracy: 0.9199\n",
      "\n"
     ]
    },
    {
     "name": "stdout",
     "output_type": "stream",
     "text": [
      "Epoch 20, Loss 0.0786\n",
      "Training Accuracy: 0.9251, Testing Accuracy: 0.9375\n",
      "\n"
     ]
    },
    {
     "name": "stdout",
     "output_type": "stream",
     "text": [
      "Epoch 30, Loss 0.0678\n",
      "Training Accuracy: 0.9353, Testing Accuracy: 0.9486\n",
      "\n"
     ]
    },
    {
     "name": "stdout",
     "output_type": "stream",
     "text": [
      "Epoch 40, Loss 0.0613\n",
      "Training Accuracy: 0.9398, Testing Accuracy: 0.9511\n",
      "\n"
     ]
    },
    {
     "name": "stdout",
     "output_type": "stream",
     "text": [
      "Epoch 50, Loss 0.0568\n",
      "Training Accuracy: 0.9429, Testing Accuracy: 0.9556\n",
      "\n"
     ]
    },
    {
     "name": "stdout",
     "output_type": "stream",
     "text": [
      "Epoch 60, Loss 0.0536\n",
      "Training Accuracy: 0.9451, Testing Accuracy: 0.9567\n",
      "\n"
     ]
    },
    {
     "name": "stdout",
     "output_type": "stream",
     "text": [
      "Epoch 70, Loss 0.051\n",
      "Training Accuracy: 0.9473, Testing Accuracy: 0.9561\n",
      "\n"
     ]
    },
    {
     "name": "stdout",
     "output_type": "stream",
     "text": [
      "Epoch 80, Loss 0.049\n",
      "Training Accuracy: 0.9497, Testing Accuracy: 0.9577\n",
      "\n"
     ]
    },
    {
     "name": "stdout",
     "output_type": "stream",
     "text": [
      "Epoch 90, Loss 0.0473\n",
      "Training Accuracy: 0.9510, Testing Accuracy: 0.9587\n",
      "\n"
     ]
    },
    {
     "name": "stdout",
     "output_type": "stream",
     "text": [
      "Epoch 100, Loss 0.0459\n",
      "Training Accuracy: 0.9516, Testing Accuracy: 0.9607\n",
      "\n"
     ]
    },
    {
     "name": "stdout",
     "output_type": "stream",
     "text": [
      "Epoch 110, Loss 0.0447\n",
      "Training Accuracy: 0.9534, Testing Accuracy: 0.9607\n",
      "\n"
     ]
    },
    {
     "name": "stdout",
     "output_type": "stream",
     "text": [
      "Epoch 120, Loss 0.0437\n",
      "Training Accuracy: 0.9545, Testing Accuracy: 0.9612\n",
      "\n"
     ]
    },
    {
     "name": "stdout",
     "output_type": "stream",
     "text": [
      "Epoch 130, Loss 0.0427\n",
      "Training Accuracy: 0.9549, Testing Accuracy: 0.9627\n",
      "\n"
     ]
    },
    {
     "name": "stdout",
     "output_type": "stream",
     "text": [
      "Epoch 140, Loss 0.0419\n",
      "Training Accuracy: 0.9560, Testing Accuracy: 0.9627\n",
      "\n"
     ]
    },
    {
     "name": "stdout",
     "output_type": "stream",
     "text": [
      "Epoch 150, Loss 0.0412\n",
      "Training Accuracy: 0.9569, Testing Accuracy: 0.9637\n",
      "\n"
     ]
    },
    {
     "name": "stdout",
     "output_type": "stream",
     "text": [
      "Epoch 160, Loss 0.0405\n",
      "Training Accuracy: 0.9572, Testing Accuracy: 0.9642\n",
      "\n"
     ]
    },
    {
     "name": "stdout",
     "output_type": "stream",
     "text": [
      "Epoch 170, Loss 0.0399\n",
      "Training Accuracy: 0.9579, Testing Accuracy: 0.9647\n",
      "\n"
     ]
    },
    {
     "name": "stdout",
     "output_type": "stream",
     "text": [
      "Epoch 180, Loss 0.0393\n",
      "Training Accuracy: 0.9584, Testing Accuracy: 0.9647\n",
      "\n"
     ]
    },
    {
     "name": "stdout",
     "output_type": "stream",
     "text": [
      "Epoch 190, Loss 0.0388\n",
      "Training Accuracy: 0.9589, Testing Accuracy: 0.9657\n",
      "\n"
     ]
    },
    {
     "name": "stdout",
     "output_type": "stream",
     "text": [
      "Epoch 200, Loss 0.0383\n",
      "Training Accuracy: 0.9594, Testing Accuracy: 0.9662\n",
      "\n"
     ]
    },
    {
     "name": "stdout",
     "output_type": "stream",
     "text": [
      "Epoch 210, Loss 0.0379\n",
      "Training Accuracy: 0.9598, Testing Accuracy: 0.9667\n",
      "\n"
     ]
    },
    {
     "name": "stdout",
     "output_type": "stream",
     "text": [
      "Epoch 220, Loss 0.0375\n",
      "Training Accuracy: 0.9603, Testing Accuracy: 0.9672\n",
      "\n"
     ]
    },
    {
     "name": "stdout",
     "output_type": "stream",
     "text": [
      "Epoch 230, Loss 0.0371\n",
      "Training Accuracy: 0.9609, Testing Accuracy: 0.9672\n",
      "\n"
     ]
    },
    {
     "name": "stdout",
     "output_type": "stream",
     "text": [
      "Epoch 240, Loss 0.0367\n",
      "Training Accuracy: 0.9613, Testing Accuracy: 0.9672\n",
      "\n"
     ]
    },
    {
     "data": {
      "text/plain": [
       "0.023201229405711205"
      ]
     },
     "execution_count": 23,
     "metadata": {},
     "output_type": "execute_result"
    }
   ],
   "source": [
    "lr_learner.train_loop(dl)"
   ]
  },
  {
   "cell_type": "code",
   "execution_count": 24,
   "id": "ca410940",
   "metadata": {
    "execution": {
     "iopub.execute_input": "2022-05-24T00:44:04.274484Z",
     "iopub.status.busy": "2022-05-24T00:44:04.273772Z",
     "iopub.status.idle": "2022-05-24T00:44:04.535801Z",
     "shell.execute_reply": "2022-05-24T00:44:04.536527Z"
    },
    "papermill": {
     "duration": 0.316608,
     "end_time": "2022-05-24T00:44:04.536746",
     "exception": false,
     "start_time": "2022-05-24T00:44:04.220138",
     "status": "completed"
    },
    "tags": []
   },
   "outputs": [
    {
     "data": {
      "text/plain": [
       "<matplotlib.legend.Legend at 0x7effe1a1b518>"
      ]
     },
     "execution_count": 24,
     "metadata": {},
     "output_type": "execute_result"
    },
    {
     "data": {
      "image/png": "[encoded data removed]",
      "text/plain": [
       "<Figure size 1080x720 with 1 Axes>"
      ]
     },
     "metadata": {
      "needs_background": "light"
     },
     "output_type": "display_data"
    }
   ],
   "source": [
    "#comparing the results of NN and LR\n",
    "plt.figure(figsize=(15,10))\n",
    "\n",
    "# Neural Network plots\n",
    "plt.plot(acc_nn.accuracies, 'r-', label = \"Training Accuracies - NN\")\n",
    "plt.plot(acc_nn.test_accuracies, 'g-', label = \"Testing Accuracies - NN\")\n",
    "\n",
    "# Logistic Regression plots\n",
    "plt.plot(acc_lr.accuracies, 'k-', label = \"Training Accuracies - LR\")\n",
    "plt.plot(acc_lr.test_accuracies, 'b-', label = \"Testing Accuracies - LR\")\n",
    "plt.legend()"
   ]
  },
  {
   "cell_type": "markdown",
   "id": "80dfb35c",
   "metadata": {
    "papermill": {
     "duration": 0.054494,
     "end_time": "2022-05-24T00:44:04.645093",
     "exception": false,
     "start_time": "2022-05-24T00:44:04.590599",
     "status": "completed"
    },
    "tags": []
   },
   "source": [
    "#### Plotting the outputs of this layer of the NN.\n"
   ]
  },
  {
   "cell_type": "code",
   "execution_count": 25,
   "id": "45eb2ff5",
   "metadata": {
    "execution": {
     "iopub.execute_input": "2022-05-24T00:44:04.764721Z",
     "iopub.status.busy": "2022-05-24T00:44:04.763944Z",
     "iopub.status.idle": "2022-05-24T00:44:04.785775Z",
     "shell.execute_reply": "2022-05-24T00:44:04.786377Z"
    },
    "papermill": {
     "duration": 0.086226,
     "end_time": "2022-05-24T00:44:04.786544",
     "exception": false,
     "start_time": "2022-05-24T00:44:04.700318",
     "status": "completed"
    },
    "tags": []
   },
   "outputs": [],
   "source": [
    "new_model = Model(layers[:-2])\n",
    "testing_plot = new_model(testing_data_x)"
   ]
  },
  {
   "cell_type": "code",
   "execution_count": 26,
   "id": "4c0a5485",
   "metadata": {
    "execution": {
     "iopub.execute_input": "2022-05-24T00:44:04.906396Z",
     "iopub.status.busy": "2022-05-24T00:44:04.904979Z",
     "iopub.status.idle": "2022-05-24T00:44:05.131600Z",
     "shell.execute_reply": "2022-05-24T00:44:05.131020Z"
    },
    "papermill": {
     "duration": 0.28909,
     "end_time": "2022-05-24T00:44:05.131736",
     "exception": false,
     "start_time": "2022-05-24T00:44:04.842646",
     "status": "completed"
    },
    "tags": []
   },
   "outputs": [
    {
     "data": {
      "text/plain": [
       "Text(0.5, 1.0, 'Outputs')"
      ]
     },
     "execution_count": 26,
     "metadata": {},
     "output_type": "execute_result"
    },
    {
     "data": {
      "image/png": "[encoded data removed]",
      "text/plain": [
       "<Figure size 576x504 with 1 Axes>"
      ]
     },
     "metadata": {
      "needs_background": "light"
     },
     "output_type": "display_data"
    }
   ],
   "source": [
    "# Plotting the scatter plot of points and color coding by class\n",
    "plt.figure(figsize=(8,7))\n",
    "plt.scatter(testing_plot[:,0], testing_plot[:,1], alpha = 0.1, c = y_test.ravel());\n",
    "plt.title('Outputs')"
   ]
  },
  {
   "cell_type": "markdown",
   "id": "a74fcf8f",
   "metadata": {
    "papermill": {
     "duration": 0.049221,
     "end_time": "2022-05-24T00:44:05.230253",
     "exception": false,
     "start_time": "2022-05-24T00:44:05.181032",
     "status": "completed"
    },
    "tags": []
   },
   "source": [
    "Probability contours"
   ]
  },
  {
   "cell_type": "code",
   "execution_count": 27,
   "id": "d0afc8e3",
   "metadata": {
    "execution": {
     "iopub.execute_input": "2022-05-24T00:44:05.364605Z",
     "iopub.status.busy": "2022-05-24T00:44:05.363553Z",
     "iopub.status.idle": "2022-05-24T00:44:05.377895Z",
     "shell.execute_reply": "2022-05-24T00:44:05.377336Z"
    },
    "papermill": {
     "duration": 0.067669,
     "end_time": "2022-05-24T00:44:05.378026",
     "exception": false,
     "start_time": "2022-05-24T00:44:05.310357",
     "status": "completed"
    },
    "tags": []
   },
   "outputs": [],
   "source": [
    "model_prob = Model(layers[-2:]) "
   ]
  },
  {
   "cell_type": "code",
   "execution_count": 28,
   "id": "9b96e238",
   "metadata": {
    "execution": {
     "iopub.execute_input": "2022-05-24T00:44:05.480528Z",
     "iopub.status.busy": "2022-05-24T00:44:05.479799Z",
     "iopub.status.idle": "2022-05-24T00:44:05.496800Z",
     "shell.execute_reply": "2022-05-24T00:44:05.497466Z"
    },
    "papermill": {
     "duration": 0.071375,
     "end_time": "2022-05-24T00:44:05.497622",
     "exception": false,
     "start_time": "2022-05-24T00:44:05.426247",
     "status": "completed"
    },
    "tags": []
   },
   "outputs": [],
   "source": [
    "#creating the x and y ranges according to the above generated plot.\n",
    "x_range = np.linspace(-4, 1, 100) \n",
    "y_range = np.linspace(-6, 6, 100) \n",
    "x_grid, y_grid = np.meshgrid(x_range, y_range) # x_grid and y_grig are of size 100 X 100\n",
    "\n",
    "# converting x_grid and y_grid to continuous arrays\n",
    "x_gridflat = np.ravel(x_grid)\n",
    "y_gridflat = np.ravel(y_grid)\n",
    "\n",
    "# The last layer of the current model takes two columns as input. Hence transpose of np.vstack() is required.\n",
    "X = np.vstack((x_gridflat, y_gridflat)).T\n",
    "\n",
    "prob_contour = model_prob(X).reshape(100,100) "
   ]
  },
  {
   "cell_type": "code",
   "execution_count": 29,
   "id": "da72499a",
   "metadata": {
    "execution": {
     "iopub.execute_input": "2022-05-24T00:44:05.601354Z",
     "iopub.status.busy": "2022-05-24T00:44:05.600718Z",
     "iopub.status.idle": "2022-05-24T00:44:05.931452Z",
     "shell.execute_reply": "2022-05-24T00:44:05.931984Z"
    },
    "papermill": {
     "duration": 0.384961,
     "end_time": "2022-05-24T00:44:05.932141",
     "exception": false,
     "start_time": "2022-05-24T00:44:05.547180",
     "status": "completed"
    },
    "tags": []
   },
   "outputs": [
    {
     "data": {
      "image/png": "[encoded data removed]",
      "text/plain": [
       "<Figure size 720x648 with 1 Axes>"
      ]
     },
     "metadata": {
      "needs_background": "light"
     },
     "output_type": "display_data"
    }
   ],
   "source": [
    "plt.figure(figsize=(10,9))\n",
    "plt.scatter(testing_plot[:,0], testing_plot[:,1], alpha = 0.1, c = y_test.ravel())\n",
    "contours = plt.contour(x_grid,y_grid,prob_contour)\n",
    "plt.title('Probability Contours')\n",
    "plt.clabel(contours, inline = True );"
   ]
  },
  {
   "cell_type": "code",
   "execution_count": null,
   "id": "e81b4ac7",
   "metadata": {
    "papermill": {
     "duration": 0.059809,
     "end_time": "2022-05-24T00:44:06.051275",
     "exception": false,
     "start_time": "2022-05-24T00:44:05.991466",
     "status": "completed"
    },
    "tags": []
   },
   "outputs": [],
   "source": []
  }
 ],
 "metadata": {
  "kernelspec": {
   "display_name": "Python 3",
   "language": "python",
   "name": "python3"
  },
  "language_info": {
   "codemirror_mode": {
    "name": "ipython",
    "version": 3
   },
   "file_extension": ".py",
   "mimetype": "text/x-python",
   "name": "python",
   "nbconvert_exporter": "python",
   "pygments_lexer": "ipython3",
   "version": "3.6.15"
  },
  "papermill": {
   "default_parameters": {},
   "duration": 109.281991,
   "end_time": "2022-05-24T00:44:06.633613",
   "environment_variables": {},
   "exception": null,
   "input_path": "2020-08-11-part2.ipynb",
   "output_path": "2020-08-11-part2.ipynb",
   "parameters": {},
   "start_time": "2022-05-24T00:42:17.351622",
   "version": "2.3.3"
  }
 },
 "nbformat": 4,
 "nbformat_minor": 5
}